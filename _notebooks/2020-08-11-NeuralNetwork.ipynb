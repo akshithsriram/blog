{
 "cells": [
  {
   "cell_type": "markdown",
   "metadata": {
    "papermill": {
     "duration": 0.041233,
     "end_time": "2020-11-23T00:06:24.096948",
     "exception": false,
     "start_time": "2020-11-23T00:06:24.055715",
     "status": "completed"
    },
    "tags": []
   },
   "source": [
    "# \"A Basic Neural Network: Differentiate Hand-Written Digits\"\n",
    "\n",
    "- badges: true\n",
    "- author: Akshith Sriram"
   ]
  },
  {
   "cell_type": "markdown",
   "metadata": {
    "papermill": {
     "duration": 0.02557,
     "end_time": "2020-11-23T00:06:24.149806",
     "exception": false,
     "start_time": "2020-11-23T00:06:24.124236",
     "status": "completed"
    },
    "tags": []
   },
   "source": [
    "### Key Objectives:\n",
    "- Building a neural network that differentiates two hand-written digits 3 and 8.\n",
    "- Comparing the results of this Neural Network (NN) to that of a Logistic Regression (LR) model.\n",
    "\n",
    "### Requirements:\n",
    "- 'Kudzu' : A neural network library that was designed during our course by [Univ.AI](www.univ.ai). \n",
    "- MNIST Database\n",
    "\n",
    "If MNIST is not installed, use the command `!pip install mnist` given below.\n",
    "It can be run both from the command line and Jupyter Notebook."
   ]
  },
  {
   "cell_type": "code",
   "execution_count": 1,
   "metadata": {
    "execution": {
     "iopub.execute_input": "2020-11-23T00:06:24.206296Z",
     "iopub.status.busy": "2020-11-23T00:06:24.205731Z",
     "iopub.status.idle": "2020-11-23T00:06:25.702417Z",
     "shell.execute_reply": "2020-11-23T00:06:25.702884Z"
    },
    "papermill": {
     "duration": 1.527306,
     "end_time": "2020-11-23T00:06:25.703052",
     "exception": false,
     "start_time": "2020-11-23T00:06:24.175746",
     "status": "completed"
    },
    "tags": []
   },
   "outputs": [
    {
     "name": "stdout",
     "output_type": "stream",
     "text": [
      "Collecting mnist\r\n"
     ]
    },
    {
     "name": "stdout",
     "output_type": "stream",
     "text": [
      "  Downloading mnist-0.2.2-py2.py3-none-any.whl (3.5 kB)\r\n"
     ]
    },
    {
     "name": "stdout",
     "output_type": "stream",
     "text": [
      "Requirement already satisfied: numpy in /opt/hostedtoolcache/Python/3.6.12/x64/lib/python3.6/site-packages (from mnist) (1.19.4)\r\n"
     ]
    },
    {
     "name": "stdout",
     "output_type": "stream",
     "text": [
      "Installing collected packages: mnist\r\n"
     ]
    },
    {
     "name": "stdout",
     "output_type": "stream",
     "text": [
      "Successfully installed mnist-0.2.2\r\n"
     ]
    }
   ],
   "source": [
    "!pip install mnist "
   ]
  },
  {
   "cell_type": "markdown",
   "metadata": {
    "papermill": {
     "duration": 0.030185,
     "end_time": "2020-11-23T00:06:25.762342",
     "exception": false,
     "start_time": "2020-11-23T00:06:25.732157",
     "status": "completed"
    },
    "tags": []
   },
   "source": [
    "#### Importing necessary libraries"
   ]
  },
  {
   "cell_type": "code",
   "execution_count": 2,
   "metadata": {
    "execution": {
     "iopub.execute_input": "2020-11-23T00:06:25.843714Z",
     "iopub.status.busy": "2020-11-23T00:06:25.843074Z",
     "iopub.status.idle": "2020-11-23T00:06:26.437359Z",
     "shell.execute_reply": "2020-11-23T00:06:26.436189Z"
    },
    "papermill": {
     "duration": 0.6369,
     "end_time": "2020-11-23T00:06:26.437503",
     "exception": false,
     "start_time": "2020-11-23T00:06:25.800603",
     "status": "completed"
    },
    "tags": []
   },
   "outputs": [],
   "source": [
    "%load_ext autoreload\n",
    "%autoreload 2\n",
    "\n",
    "%matplotlib inline\n",
    "import matplotlib.pyplot as plt\n",
    "\n",
    "import numpy as np\n",
    "import pandas as pd"
   ]
  },
  {
   "cell_type": "markdown",
   "metadata": {
    "papermill": {
     "duration": 0.028706,
     "end_time": "2020-11-23T00:06:26.495437",
     "exception": false,
     "start_time": "2020-11-23T00:06:26.466731",
     "status": "completed"
    },
    "tags": []
   },
   "source": [
    "### Preparing the Data"
   ]
  },
  {
   "cell_type": "code",
   "execution_count": 3,
   "metadata": {
    "execution": {
     "iopub.execute_input": "2020-11-23T00:06:26.565932Z",
     "iopub.status.busy": "2020-11-23T00:06:26.558156Z",
     "iopub.status.idle": "2020-11-23T00:06:26.570663Z",
     "shell.execute_reply": "2020-11-23T00:06:26.571157Z"
    },
    "papermill": {
     "duration": 0.045943,
     "end_time": "2020-11-23T00:06:26.571297",
     "exception": false,
     "start_time": "2020-11-23T00:06:26.525354",
     "status": "completed"
    },
    "tags": []
   },
   "outputs": [],
   "source": [
    "import mnist"
   ]
  },
  {
   "cell_type": "code",
   "execution_count": 4,
   "metadata": {
    "execution": {
     "iopub.execute_input": "2020-11-23T00:06:26.634333Z",
     "iopub.status.busy": "2020-11-23T00:06:26.633598Z",
     "iopub.status.idle": "2020-11-23T00:06:28.378766Z",
     "shell.execute_reply": "2020-11-23T00:06:28.378131Z"
    },
    "papermill": {
     "duration": 1.77832,
     "end_time": "2020-11-23T00:06:28.378977",
     "exception": false,
     "start_time": "2020-11-23T00:06:26.600657",
     "status": "completed"
    },
    "tags": []
   },
   "outputs": [],
   "source": [
    "train_images = mnist.train_images()\n",
    "train_labels = mnist.train_labels()"
   ]
  },
  {
   "cell_type": "code",
   "execution_count": 5,
   "metadata": {
    "execution": {
     "iopub.execute_input": "2020-11-23T00:06:28.446830Z",
     "iopub.status.busy": "2020-11-23T00:06:28.446201Z",
     "iopub.status.idle": "2020-11-23T00:06:28.463714Z",
     "shell.execute_reply": "2020-11-23T00:06:28.464168Z"
    },
    "papermill": {
     "duration": 0.056586,
     "end_time": "2020-11-23T00:06:28.464311",
     "exception": false,
     "start_time": "2020-11-23T00:06:28.407725",
     "status": "completed"
    },
    "tags": []
   },
   "outputs": [
    {
     "data": {
      "text/plain": [
       "((60000, 28, 28), (60000,))"
      ]
     },
     "execution_count": 5,
     "metadata": {},
     "output_type": "execute_result"
    }
   ],
   "source": [
    "train_images.shape, train_labels.shape"
   ]
  },
  {
   "cell_type": "code",
   "execution_count": 6,
   "metadata": {
    "execution": {
     "iopub.execute_input": "2020-11-23T00:06:28.533703Z",
     "iopub.status.busy": "2020-11-23T00:06:28.527769Z",
     "iopub.status.idle": "2020-11-23T00:06:29.387301Z",
     "shell.execute_reply": "2020-11-23T00:06:29.386693Z"
    },
    "papermill": {
     "duration": 0.894223,
     "end_time": "2020-11-23T00:06:29.387455",
     "exception": false,
     "start_time": "2020-11-23T00:06:28.493232",
     "status": "completed"
    },
    "tags": []
   },
   "outputs": [],
   "source": [
    "test_images = mnist.test_images()\n",
    "test_labels = mnist.test_labels()"
   ]
  },
  {
   "cell_type": "code",
   "execution_count": 7,
   "metadata": {
    "execution": {
     "iopub.execute_input": "2020-11-23T00:06:29.456218Z",
     "iopub.status.busy": "2020-11-23T00:06:29.455624Z",
     "iopub.status.idle": "2020-11-23T00:06:29.469743Z",
     "shell.execute_reply": "2020-11-23T00:06:29.469096Z"
    },
    "papermill": {
     "duration": 0.051508,
     "end_time": "2020-11-23T00:06:29.469910",
     "exception": false,
     "start_time": "2020-11-23T00:06:29.418402",
     "status": "completed"
    },
    "tags": []
   },
   "outputs": [
    {
     "data": {
      "text/plain": [
       "((10000, 28, 28), (10000,))"
      ]
     },
     "execution_count": 7,
     "metadata": {},
     "output_type": "execute_result"
    }
   ],
   "source": [
    "test_images.shape, test_labels.shape"
   ]
  },
  {
   "cell_type": "code",
   "execution_count": 8,
   "metadata": {
    "execution": {
     "iopub.execute_input": "2020-11-23T00:06:29.538998Z",
     "iopub.status.busy": "2020-11-23T00:06:29.538300Z",
     "iopub.status.idle": "2020-11-23T00:06:29.718533Z",
     "shell.execute_reply": "2020-11-23T00:06:29.719053Z"
    },
    "papermill": {
     "duration": 0.220596,
     "end_time": "2020-11-23T00:06:29.719255",
     "exception": false,
     "start_time": "2020-11-23T00:06:29.498659",
     "status": "completed"
    },
    "tags": []
   },
   "outputs": [
    {
     "name": "stdout",
     "output_type": "stream",
     "text": [
      "2\n"
     ]
    },
    {
     "data": {
      "text/plain": [
       "<matplotlib.image.AxesImage at 0x7f3d7fb8d080>"
      ]
     },
     "execution_count": 8,
     "metadata": {},
     "output_type": "execute_result"
    },
    {
     "data": {
      "image/png": "[encoded data removed]",
      "text/plain": [
       "<Figure size 432x288 with 1 Axes>"
      ]
     },
     "metadata": {
      "needs_background": "light"
     },
     "output_type": "display_data"
    }
   ],
   "source": [
    "image_index = 7776 # You may select anything up to 60,000\n",
    "print(train_labels[image_index]) \n",
    "plt.imshow(train_images[image_index], cmap='Greys')"
   ]
  },
  {
   "cell_type": "markdown",
   "metadata": {
    "papermill": {
     "duration": 0.032484,
     "end_time": "2020-11-23T00:06:29.783109",
     "exception": false,
     "start_time": "2020-11-23T00:06:29.750625",
     "status": "completed"
    },
    "tags": []
   },
   "source": [
    "## Filter data to get 3 and 8 out"
   ]
  },
  {
   "cell_type": "code",
   "execution_count": 9,
   "metadata": {
    "execution": {
     "iopub.execute_input": "2020-11-23T00:06:29.853149Z",
     "iopub.status.busy": "2020-11-23T00:06:29.852504Z",
     "iopub.status.idle": "2020-11-23T00:06:29.874262Z",
     "shell.execute_reply": "2020-11-23T00:06:29.873713Z"
    },
    "papermill": {
     "duration": 0.057647,
     "end_time": "2020-11-23T00:06:29.874401",
     "exception": false,
     "start_time": "2020-11-23T00:06:29.816754",
     "status": "completed"
    },
    "tags": []
   },
   "outputs": [],
   "source": [
    "train_filter = np.where((train_labels == 3 ) | (train_labels == 8))\n",
    "test_filter = np.where((test_labels == 3) | (test_labels == 8))\n",
    "X_train, y_train = train_images[train_filter], train_labels[train_filter]\n",
    "X_test, y_test = test_images[test_filter], test_labels[test_filter]"
   ]
  },
  {
   "cell_type": "markdown",
   "metadata": {
    "papermill": {
     "duration": 0.030626,
     "end_time": "2020-11-23T00:06:29.937308",
     "exception": false,
     "start_time": "2020-11-23T00:06:29.906682",
     "status": "completed"
    },
    "tags": []
   },
   "source": [
    "We normalize the pixel values in the 0 to 1 range"
   ]
  },
  {
   "cell_type": "code",
   "execution_count": 10,
   "metadata": {
    "execution": {
     "iopub.execute_input": "2020-11-23T00:06:30.004199Z",
     "iopub.status.busy": "2020-11-23T00:06:30.003470Z",
     "iopub.status.idle": "2020-11-23T00:06:30.070837Z",
     "shell.execute_reply": "2020-11-23T00:06:30.070011Z"
    },
    "papermill": {
     "duration": 0.103607,
     "end_time": "2020-11-23T00:06:30.071024",
     "exception": false,
     "start_time": "2020-11-23T00:06:29.967417",
     "status": "completed"
    },
    "tags": []
   },
   "outputs": [],
   "source": [
    "X_train = X_train/255.\n",
    "X_test = X_test/255."
   ]
  },
  {
   "cell_type": "markdown",
   "metadata": {
    "papermill": {
     "duration": 0.030702,
     "end_time": "2020-11-23T00:06:30.137901",
     "exception": false,
     "start_time": "2020-11-23T00:06:30.107199",
     "status": "completed"
    },
    "tags": []
   },
   "source": [
    "Setup the labels as 1 (when the digit is 3) and 0 (when the digit is 8)"
   ]
  },
  {
   "cell_type": "code",
   "execution_count": 11,
   "metadata": {
    "execution": {
     "iopub.execute_input": "2020-11-23T00:06:30.206626Z",
     "iopub.status.busy": "2020-11-23T00:06:30.205977Z",
     "iopub.status.idle": "2020-11-23T00:06:30.217772Z",
     "shell.execute_reply": "2020-11-23T00:06:30.218328Z"
    },
    "papermill": {
     "duration": 0.04895,
     "end_time": "2020-11-23T00:06:30.218557",
     "exception": false,
     "start_time": "2020-11-23T00:06:30.169607",
     "status": "completed"
    },
    "tags": []
   },
   "outputs": [],
   "source": [
    "y_train = 1*(y_train==3)\n",
    "y_test = 1*(y_test==3)"
   ]
  },
  {
   "cell_type": "code",
   "execution_count": 12,
   "metadata": {
    "execution": {
     "iopub.execute_input": "2020-11-23T00:06:30.284533Z",
     "iopub.status.busy": "2020-11-23T00:06:30.283900Z",
     "iopub.status.idle": "2020-11-23T00:06:30.297648Z",
     "shell.execute_reply": "2020-11-23T00:06:30.298283Z"
    },
    "papermill": {
     "duration": 0.048819,
     "end_time": "2020-11-23T00:06:30.298436",
     "exception": false,
     "start_time": "2020-11-23T00:06:30.249617",
     "status": "completed"
    },
    "tags": []
   },
   "outputs": [
    {
     "data": {
      "text/plain": [
       "((11982, 28, 28), (1984, 28, 28))"
      ]
     },
     "execution_count": 12,
     "metadata": {},
     "output_type": "execute_result"
    }
   ],
   "source": [
    "X_train.shape, X_test.shape"
   ]
  },
  {
   "cell_type": "markdown",
   "metadata": {
    "papermill": {
     "duration": 0.032607,
     "end_time": "2020-11-23T00:06:30.362258",
     "exception": false,
     "start_time": "2020-11-23T00:06:30.329651",
     "status": "completed"
    },
    "tags": []
   },
   "source": [
    "### Reshape the input data to create a linear array"
   ]
  },
  {
   "cell_type": "code",
   "execution_count": 13,
   "metadata": {
    "execution": {
     "iopub.execute_input": "2020-11-23T00:06:30.440218Z",
     "iopub.status.busy": "2020-11-23T00:06:30.439621Z",
     "iopub.status.idle": "2020-11-23T00:06:30.455023Z",
     "shell.execute_reply": "2020-11-23T00:06:30.454372Z"
    },
    "papermill": {
     "duration": 0.055687,
     "end_time": "2020-11-23T00:06:30.455174",
     "exception": false,
     "start_time": "2020-11-23T00:06:30.399487",
     "status": "completed"
    },
    "tags": []
   },
   "outputs": [
    {
     "data": {
      "text/plain": [
       "((11982, 784), (1984, 784))"
      ]
     },
     "execution_count": 13,
     "metadata": {},
     "output_type": "execute_result"
    }
   ],
   "source": [
    "X_train = X_train.reshape(X_train.shape[0], -1)\n",
    "X_test = X_test.reshape(X_test.shape[0], -1)\n",
    "X_train.shape, X_test.shape"
   ]
  },
  {
   "cell_type": "markdown",
   "metadata": {
    "papermill": {
     "duration": 0.03139,
     "end_time": "2020-11-23T00:06:30.516696",
     "exception": false,
     "start_time": "2020-11-23T00:06:30.485306",
     "status": "completed"
    },
    "tags": []
   },
   "source": [
    "### Importing appropriate functions from 'Kudzu'"
   ]
  },
  {
   "cell_type": "code",
   "execution_count": 14,
   "metadata": {
    "execution": {
     "iopub.execute_input": "2020-11-23T00:06:30.588215Z",
     "iopub.status.busy": "2020-11-23T00:06:30.587592Z",
     "iopub.status.idle": "2020-11-23T00:06:30.604473Z",
     "shell.execute_reply": "2020-11-23T00:06:30.605129Z"
    },
    "papermill": {
     "duration": 0.057106,
     "end_time": "2020-11-23T00:06:30.605303",
     "exception": false,
     "start_time": "2020-11-23T00:06:30.548197",
     "status": "completed"
    },
    "tags": []
   },
   "outputs": [],
   "source": [
    "from kudzu.layer import Sigmoid\n",
    "from kudzu.layer import Relu\n",
    "from kudzu.layer import Affine, Sigmoid\n",
    "\n",
    "from kudzu.model import Model\n",
    "from kudzu.train import Learner\n",
    "from kudzu.optim import GD\n",
    "from kudzu.data import Data, Dataloader, Sampler\n",
    "\n",
    "from kudzu.callbacks import AccCallback\n",
    "from kudzu.callbacks import ClfCallback\n",
    "\n",
    "from kudzu.loss import MSE"
   ]
  },
  {
   "cell_type": "markdown",
   "metadata": {
    "papermill": {
     "duration": 0.029768,
     "end_time": "2020-11-23T00:06:30.664772",
     "exception": false,
     "start_time": "2020-11-23T00:06:30.635004",
     "status": "completed"
    },
    "tags": []
   },
   "source": [
    "### Let us create a `Config` class, to store important parameters. \n",
    "This class essentially plays the role of a dictionary."
   ]
  },
  {
   "cell_type": "code",
   "execution_count": 15,
   "metadata": {
    "execution": {
     "iopub.execute_input": "2020-11-23T00:06:30.732793Z",
     "iopub.status.busy": "2020-11-23T00:06:30.732248Z",
     "iopub.status.idle": "2020-11-23T00:06:30.744401Z",
     "shell.execute_reply": "2020-11-23T00:06:30.743917Z"
    },
    "papermill": {
     "duration": 0.049085,
     "end_time": "2020-11-23T00:06:30.744515",
     "exception": false,
     "start_time": "2020-11-23T00:06:30.695430",
     "status": "completed"
    },
    "tags": []
   },
   "outputs": [],
   "source": [
    "class Config:\n",
    "    pass\n",
    "config = Config()\n",
    "config.lr = 0.001\n",
    "config.num_epochs = 251\n",
    "config.bs = 50"
   ]
  },
  {
   "cell_type": "markdown",
   "metadata": {
    "papermill": {
     "duration": 0.028599,
     "end_time": "2020-11-23T00:06:30.804011",
     "exception": false,
     "start_time": "2020-11-23T00:06:30.775412",
     "status": "completed"
    },
    "tags": []
   },
   "source": [
    "### Initializing data to the variables"
   ]
  },
  {
   "cell_type": "code",
   "execution_count": 16,
   "metadata": {
    "execution": {
     "iopub.execute_input": "2020-11-23T00:06:30.875613Z",
     "iopub.status.busy": "2020-11-23T00:06:30.873831Z",
     "iopub.status.idle": "2020-11-23T00:06:30.887637Z",
     "shell.execute_reply": "2020-11-23T00:06:30.888148Z"
    },
    "papermill": {
     "duration": 0.052666,
     "end_time": "2020-11-23T00:06:30.888313",
     "exception": false,
     "start_time": "2020-11-23T00:06:30.835647",
     "status": "completed"
    },
    "tags": []
   },
   "outputs": [],
   "source": [
    "data = Data(X_train, y_train.reshape(-1,1))\n",
    "sampler = Sampler(data, config.bs, shuffle=True)\n",
    "\n",
    "dl = Dataloader(data, sampler)\n",
    "\n",
    "opt = GD(config.lr)\n",
    "loss = MSE()"
   ]
  },
  {
   "cell_type": "code",
   "execution_count": 17,
   "metadata": {
    "execution": {
     "iopub.execute_input": "2020-11-23T00:06:30.953466Z",
     "iopub.status.busy": "2020-11-23T00:06:30.952841Z",
     "iopub.status.idle": "2020-11-23T00:06:30.966045Z",
     "shell.execute_reply": "2020-11-23T00:06:30.965072Z"
    },
    "papermill": {
     "duration": 0.046603,
     "end_time": "2020-11-23T00:06:30.966177",
     "exception": false,
     "start_time": "2020-11-23T00:06:30.919574",
     "status": "completed"
    },
    "tags": []
   },
   "outputs": [],
   "source": [
    "training_xdata = X_train\n",
    "testing_xdata = X_test\n",
    "training_ydata = y_train.reshape(-1,1)\n",
    "testing_ydata = y_test.reshape(-1,1)"
   ]
  },
  {
   "cell_type": "markdown",
   "metadata": {
    "papermill": {
     "duration": 0.03076,
     "end_time": "2020-11-23T00:06:31.027074",
     "exception": false,
     "start_time": "2020-11-23T00:06:30.996314",
     "status": "completed"
    },
    "tags": []
   },
   "source": [
    "### Running Models with the Training data\n",
    "Details about the network layers:\n",
    "- A first affine layer has 784 inputs and does 100 affine transforms. These are followed by a Relu\n",
    "- A second affine layer has 100 inputs from the 100 activations of the past layer, and does 100 affine transforms. These are followed by a Relu\n",
    "- A third affine layer has 100 activations and does 2 affine transformations to create an embedding for visualization. There is no non-linearity here.\n",
    "- A final \"logistic regression\" which has an affine transform from 2 inputs to 1 output, which is squeezed through a sigmoid.\n",
    "\n",
    "Help taken from Anshuman's Notebook."
   ]
  },
  {
   "cell_type": "code",
   "execution_count": 18,
   "metadata": {
    "execution": {
     "iopub.execute_input": "2020-11-23T00:06:31.100679Z",
     "iopub.status.busy": "2020-11-23T00:06:31.098979Z",
     "iopub.status.idle": "2020-11-23T00:06:31.116263Z",
     "shell.execute_reply": "2020-11-23T00:06:31.115746Z"
    },
    "papermill": {
     "duration": 0.056757,
     "end_time": "2020-11-23T00:06:31.116403",
     "exception": false,
     "start_time": "2020-11-23T00:06:31.059646",
     "status": "completed"
    },
    "tags": []
   },
   "outputs": [],
   "source": [
    "# layers for the Neural Network\n",
    "layers = [Affine(\"first\", 784, 100), Relu(\"first\"), Affine(\"second\", 100, 100), Relu(\"second\"), Affine(\"third\", 100, 2), Affine(\"final\", 2, 1), Sigmoid(\"final\")]\n",
    "model_nn = Model(layers)\n",
    "\n",
    "# layers for the Logistic Regression\n",
    "layers_lr = [Affine(\"logits\", 784, 1), Sigmoid(\"sigmoid\")]\n",
    "model_lr = Model(layers_lr)"
   ]
  },
  {
   "cell_type": "code",
   "execution_count": 19,
   "metadata": {
    "execution": {
     "iopub.execute_input": "2020-11-23T00:06:31.183051Z",
     "iopub.status.busy": "2020-11-23T00:06:31.182400Z",
     "iopub.status.idle": "2020-11-23T00:06:31.195203Z",
     "shell.execute_reply": "2020-11-23T00:06:31.195745Z"
    },
    "papermill": {
     "duration": 0.048848,
     "end_time": "2020-11-23T00:06:31.195917",
     "exception": false,
     "start_time": "2020-11-23T00:06:31.147069",
     "status": "completed"
    },
    "tags": []
   },
   "outputs": [],
   "source": [
    "# suffix _nn stands for Neural Network.\n",
    "learner_nn = Learner(loss, model_nn, opt, config.num_epochs)\n",
    "acc_nn = ClfCallback(learner_nn, config.bs, training_xdata , testing_xdata, training_ydata, testing_ydata)\n",
    "learner_nn.set_callbacks([acc_nn])"
   ]
  },
  {
   "cell_type": "code",
   "execution_count": 20,
   "metadata": {
    "execution": {
     "iopub.execute_input": "2020-11-23T00:06:31.263353Z",
     "iopub.status.busy": "2020-11-23T00:06:31.262769Z",
     "iopub.status.idle": "2020-11-23T00:08:52.232363Z",
     "shell.execute_reply": "2020-11-23T00:08:52.231785Z"
    },
    "papermill": {
     "duration": 141.005661,
     "end_time": "2020-11-23T00:08:52.232533",
     "exception": false,
     "start_time": "2020-11-23T00:06:31.226872",
     "status": "completed"
    },
    "tags": []
   },
   "outputs": [
    {
     "name": "stdout",
     "output_type": "stream",
     "text": [
      "====== Neural Network ======\n"
     ]
    },
    {
     "name": "stdout",
     "output_type": "stream",
     "text": [
      "Epoch 0, Loss 0.24\n",
      "Training Accuracy: 0.6642, Testing Accuracy: 0.6946\n",
      "\n"
     ]
    },
    {
     "name": "stdout",
     "output_type": "stream",
     "text": [
      "Epoch 10, Loss 0.1302\n",
      "Training Accuracy: 0.8909, Testing Accuracy: 0.9002\n",
      "\n"
     ]
    },
    {
     "name": "stdout",
     "output_type": "stream",
     "text": [
      "Epoch 20, Loss 0.0711\n",
      "Training Accuracy: 0.9280, Testing Accuracy: 0.9350\n",
      "\n"
     ]
    },
    {
     "name": "stdout",
     "output_type": "stream",
     "text": [
      "Epoch 30, Loss 0.0523\n",
      "Training Accuracy: 0.9414, Testing Accuracy: 0.9531\n",
      "\n"
     ]
    },
    {
     "name": "stdout",
     "output_type": "stream",
     "text": [
      "Epoch 40, Loss 0.0437\n",
      "Training Accuracy: 0.9493, Testing Accuracy: 0.9612\n",
      "\n"
     ]
    },
    {
     "name": "stdout",
     "output_type": "stream",
     "text": [
      "Epoch 50, Loss 0.0388\n",
      "Training Accuracy: 0.9551, Testing Accuracy: 0.9682\n",
      "\n"
     ]
    },
    {
     "name": "stdout",
     "output_type": "stream",
     "text": [
      "Epoch 60, Loss 0.0355\n",
      "Training Accuracy: 0.9589, Testing Accuracy: 0.9708\n",
      "\n"
     ]
    },
    {
     "name": "stdout",
     "output_type": "stream",
     "text": [
      "Epoch 70, Loss 0.0331\n",
      "Training Accuracy: 0.9615, Testing Accuracy: 0.9723\n",
      "\n"
     ]
    },
    {
     "name": "stdout",
     "output_type": "stream",
     "text": [
      "Epoch 80, Loss 0.0313\n",
      "Training Accuracy: 0.9634, Testing Accuracy: 0.9723\n",
      "\n"
     ]
    },
    {
     "name": "stdout",
     "output_type": "stream",
     "text": [
      "Epoch 90, Loss 0.0298\n",
      "Training Accuracy: 0.9649, Testing Accuracy: 0.9723\n",
      "\n"
     ]
    },
    {
     "name": "stdout",
     "output_type": "stream",
     "text": [
      "Epoch 100, Loss 0.0286\n",
      "Training Accuracy: 0.9670, Testing Accuracy: 0.9728\n",
      "\n"
     ]
    },
    {
     "name": "stdout",
     "output_type": "stream",
     "text": [
      "Epoch 110, Loss 0.0276\n",
      "Training Accuracy: 0.9675, Testing Accuracy: 0.9738\n",
      "\n"
     ]
    },
    {
     "name": "stdout",
     "output_type": "stream",
     "text": [
      "Epoch 120, Loss 0.0267\n",
      "Training Accuracy: 0.9684, Testing Accuracy: 0.9738\n",
      "\n"
     ]
    },
    {
     "name": "stdout",
     "output_type": "stream",
     "text": [
      "Epoch 130, Loss 0.0259\n",
      "Training Accuracy: 0.9696, Testing Accuracy: 0.9728\n",
      "\n"
     ]
    },
    {
     "name": "stdout",
     "output_type": "stream",
     "text": [
      "Epoch 140, Loss 0.0252\n",
      "Training Accuracy: 0.9705, Testing Accuracy: 0.9723\n",
      "\n"
     ]
    },
    {
     "name": "stdout",
     "output_type": "stream",
     "text": [
      "Epoch 150, Loss 0.0246\n",
      "Training Accuracy: 0.9713, Testing Accuracy: 0.9733\n",
      "\n"
     ]
    },
    {
     "name": "stdout",
     "output_type": "stream",
     "text": [
      "Epoch 160, Loss 0.024\n",
      "Training Accuracy: 0.9721, Testing Accuracy: 0.9733\n",
      "\n"
     ]
    },
    {
     "name": "stdout",
     "output_type": "stream",
     "text": [
      "Epoch 170, Loss 0.0234\n",
      "Training Accuracy: 0.9730, Testing Accuracy: 0.9733\n",
      "\n"
     ]
    },
    {
     "name": "stdout",
     "output_type": "stream",
     "text": [
      "Epoch 180, Loss 0.0229\n",
      "Training Accuracy: 0.9735, Testing Accuracy: 0.9733\n",
      "\n"
     ]
    },
    {
     "name": "stdout",
     "output_type": "stream",
     "text": [
      "Epoch 190, Loss 0.0225\n",
      "Training Accuracy: 0.9740, Testing Accuracy: 0.9733\n",
      "\n"
     ]
    },
    {
     "name": "stdout",
     "output_type": "stream",
     "text": [
      "Epoch 200, Loss 0.022\n",
      "Training Accuracy: 0.9743, Testing Accuracy: 0.9738\n",
      "\n"
     ]
    },
    {
     "name": "stdout",
     "output_type": "stream",
     "text": [
      "Epoch 210, Loss 0.0216\n",
      "Training Accuracy: 0.9748, Testing Accuracy: 0.9738\n",
      "\n"
     ]
    },
    {
     "name": "stdout",
     "output_type": "stream",
     "text": [
      "Epoch 220, Loss 0.0212\n",
      "Training Accuracy: 0.9754, Testing Accuracy: 0.9743\n",
      "\n"
     ]
    },
    {
     "name": "stdout",
     "output_type": "stream",
     "text": [
      "Epoch 230, Loss 0.0208\n",
      "Training Accuracy: 0.9759, Testing Accuracy: 0.9748\n",
      "\n"
     ]
    },
    {
     "name": "stdout",
     "output_type": "stream",
     "text": [
      "Epoch 240, Loss 0.0205\n",
      "Training Accuracy: 0.9766, Testing Accuracy: 0.9748\n",
      "\n"
     ]
    },
    {
     "name": "stdout",
     "output_type": "stream",
     "text": [
      "Epoch 250, Loss 0.0201\n",
      "Training Accuracy: 0.9775, Testing Accuracy: 0.9753\n",
      "\n"
     ]
    },
    {
     "data": {
      "text/plain": [
       "0.007793856829360038"
      ]
     },
     "execution_count": 20,
     "metadata": {},
     "output_type": "execute_result"
    }
   ],
   "source": [
    "print(\"====== Neural Network ======\")\n",
    "learner_nn.train_loop(dl)"
   ]
  },
  {
   "cell_type": "markdown",
   "metadata": {
    "papermill": {
     "duration": 0.04232,
     "end_time": "2020-11-23T00:08:52.316901",
     "exception": false,
     "start_time": "2020-11-23T00:08:52.274581",
     "status": "completed"
    },
    "tags": []
   },
   "source": [
    "### Logistic Regression based Implementation."
   ]
  },
  {
   "cell_type": "code",
   "execution_count": 21,
   "metadata": {
    "execution": {
     "iopub.execute_input": "2020-11-23T00:08:52.428462Z",
     "iopub.status.busy": "2020-11-23T00:08:52.427510Z",
     "iopub.status.idle": "2020-11-23T00:08:52.440165Z",
     "shell.execute_reply": "2020-11-23T00:08:52.440732Z"
    },
    "papermill": {
     "duration": 0.071056,
     "end_time": "2020-11-23T00:08:52.440882",
     "exception": false,
     "start_time": "2020-11-23T00:08:52.369826",
     "status": "completed"
    },
    "tags": []
   },
   "outputs": [],
   "source": [
    "learner_lr = Learner(loss, model_lr, opt, config.num_epochs)\n",
    "acc_lr = ClfCallback(learner_lr, config.bs, training_xdata , testing_xdata, training_ydata, testing_ydata)\n",
    "learner_lr.set_callbacks([acc_lr])"
   ]
  },
  {
   "cell_type": "code",
   "execution_count": 22,
   "metadata": {
    "execution": {
     "iopub.execute_input": "2020-11-23T00:08:52.533713Z",
     "iopub.status.busy": "2020-11-23T00:08:52.532851Z",
     "iopub.status.idle": "2020-11-23T00:09:13.764109Z",
     "shell.execute_reply": "2020-11-23T00:09:13.764968Z"
    },
    "papermill": {
     "duration": 21.280939,
     "end_time": "2020-11-23T00:09:13.765191",
     "exception": false,
     "start_time": "2020-11-23T00:08:52.484252",
     "status": "completed"
    },
    "tags": []
   },
   "outputs": [
    {
     "name": "stdout",
     "output_type": "stream",
     "text": [
      "====== Logistic Regression ======\n",
      "Epoch 0, Loss 0.2507\n",
      "Training Accuracy: 0.6727, Testing Accuracy: 0.6900\n",
      "\n"
     ]
    },
    {
     "name": "stdout",
     "output_type": "stream",
     "text": [
      "Epoch 10, Loss 0.1014\n",
      "Training Accuracy: 0.9163, Testing Accuracy: 0.9299\n",
      "\n"
     ]
    },
    {
     "name": "stdout",
     "output_type": "stream",
     "text": [
      "Epoch 20, Loss 0.0784\n",
      "Training Accuracy: 0.9301, Testing Accuracy: 0.9420\n",
      "\n"
     ]
    },
    {
     "name": "stdout",
     "output_type": "stream",
     "text": [
      "Epoch 30, Loss 0.0678\n",
      "Training Accuracy: 0.9373, Testing Accuracy: 0.9486\n",
      "\n"
     ]
    },
    {
     "name": "stdout",
     "output_type": "stream",
     "text": [
      "Epoch 40, Loss 0.0614\n",
      "Training Accuracy: 0.9414, Testing Accuracy: 0.9521\n",
      "\n"
     ]
    },
    {
     "name": "stdout",
     "output_type": "stream",
     "text": [
      "Epoch 50, Loss 0.0571\n",
      "Training Accuracy: 0.9444, Testing Accuracy: 0.9556\n",
      "\n"
     ]
    },
    {
     "name": "stdout",
     "output_type": "stream",
     "text": [
      "Epoch 60, Loss 0.0538\n",
      "Training Accuracy: 0.9466, Testing Accuracy: 0.9577\n",
      "\n"
     ]
    },
    {
     "name": "stdout",
     "output_type": "stream",
     "text": [
      "Epoch 70, Loss 0.0513\n",
      "Training Accuracy: 0.9491, Testing Accuracy: 0.9582\n",
      "\n"
     ]
    },
    {
     "name": "stdout",
     "output_type": "stream",
     "text": [
      "Epoch 80, Loss 0.0493\n",
      "Training Accuracy: 0.9506, Testing Accuracy: 0.9612\n",
      "\n"
     ]
    },
    {
     "name": "stdout",
     "output_type": "stream",
     "text": [
      "Epoch 90, Loss 0.0476\n",
      "Training Accuracy: 0.9522, Testing Accuracy: 0.9627\n",
      "\n"
     ]
    },
    {
     "name": "stdout",
     "output_type": "stream",
     "text": [
      "Epoch 100, Loss 0.0462\n",
      "Training Accuracy: 0.9533, Testing Accuracy: 0.9632\n",
      "\n"
     ]
    },
    {
     "name": "stdout",
     "output_type": "stream",
     "text": [
      "Epoch 110, Loss 0.045\n",
      "Training Accuracy: 0.9547, Testing Accuracy: 0.9632\n",
      "\n"
     ]
    },
    {
     "name": "stdout",
     "output_type": "stream",
     "text": [
      "Epoch 120, Loss 0.0439\n",
      "Training Accuracy: 0.9553, Testing Accuracy: 0.9637\n",
      "\n"
     ]
    },
    {
     "name": "stdout",
     "output_type": "stream",
     "text": [
      "Epoch 130, Loss 0.043\n",
      "Training Accuracy: 0.9559, Testing Accuracy: 0.9637\n",
      "\n"
     ]
    },
    {
     "name": "stdout",
     "output_type": "stream",
     "text": [
      "Epoch 140, Loss 0.0421\n",
      "Training Accuracy: 0.9567, Testing Accuracy: 0.9637\n",
      "\n"
     ]
    },
    {
     "name": "stdout",
     "output_type": "stream",
     "text": [
      "Epoch 150, Loss 0.0414\n",
      "Training Accuracy: 0.9574, Testing Accuracy: 0.9632\n",
      "\n"
     ]
    },
    {
     "name": "stdout",
     "output_type": "stream",
     "text": [
      "Epoch 160, Loss 0.0407\n",
      "Training Accuracy: 0.9581, Testing Accuracy: 0.9632\n",
      "\n"
     ]
    },
    {
     "name": "stdout",
     "output_type": "stream",
     "text": [
      "Epoch 170, Loss 0.0401\n",
      "Training Accuracy: 0.9592, Testing Accuracy: 0.9632\n",
      "\n"
     ]
    },
    {
     "name": "stdout",
     "output_type": "stream",
     "text": [
      "Epoch 180, Loss 0.0395\n",
      "Training Accuracy: 0.9594, Testing Accuracy: 0.9642\n",
      "\n"
     ]
    },
    {
     "name": "stdout",
     "output_type": "stream",
     "text": [
      "Epoch 190, Loss 0.039\n",
      "Training Accuracy: 0.9598, Testing Accuracy: 0.9642\n",
      "\n"
     ]
    },
    {
     "name": "stdout",
     "output_type": "stream",
     "text": [
      "Epoch 200, Loss 0.0385\n",
      "Training Accuracy: 0.9606, Testing Accuracy: 0.9642\n",
      "\n"
     ]
    },
    {
     "name": "stdout",
     "output_type": "stream",
     "text": [
      "Epoch 210, Loss 0.0381\n",
      "Training Accuracy: 0.9609, Testing Accuracy: 0.9642\n",
      "\n"
     ]
    },
    {
     "name": "stdout",
     "output_type": "stream",
     "text": [
      "Epoch 220, Loss 0.0377\n",
      "Training Accuracy: 0.9609, Testing Accuracy: 0.9652\n",
      "\n"
     ]
    },
    {
     "name": "stdout",
     "output_type": "stream",
     "text": [
      "Epoch 230, Loss 0.0373\n",
      "Training Accuracy: 0.9609, Testing Accuracy: 0.9652\n",
      "\n"
     ]
    },
    {
     "name": "stdout",
     "output_type": "stream",
     "text": [
      "Epoch 240, Loss 0.0369\n",
      "Training Accuracy: 0.9613, Testing Accuracy: 0.9657\n",
      "\n"
     ]
    },
    {
     "name": "stdout",
     "output_type": "stream",
     "text": [
      "Epoch 250, Loss 0.0366\n",
      "Training Accuracy: 0.9614, Testing Accuracy: 0.9657\n",
      "\n"
     ]
    },
    {
     "data": {
      "text/plain": [
       "0.027971037037554245"
      ]
     },
     "execution_count": 22,
     "metadata": {},
     "output_type": "execute_result"
    }
   ],
   "source": [
    "print(\"====== Logistic Regression ======\")\n",
    "learner_lr.train_loop(dl)"
   ]
  },
  {
   "cell_type": "markdown",
   "metadata": {
    "papermill": {
     "duration": 0.047398,
     "end_time": "2020-11-23T00:09:13.863666",
     "exception": false,
     "start_time": "2020-11-23T00:09:13.816268",
     "status": "completed"
    },
    "tags": []
   },
   "source": [
    "### Comparing results of NN and LR"
   ]
  },
  {
   "cell_type": "code",
   "execution_count": 23,
   "metadata": {
    "execution": {
     "iopub.execute_input": "2020-11-23T00:09:13.965269Z",
     "iopub.status.busy": "2020-11-23T00:09:13.964645Z",
     "iopub.status.idle": "2020-11-23T00:09:14.257268Z",
     "shell.execute_reply": "2020-11-23T00:09:14.256491Z"
    },
    "papermill": {
     "duration": 0.34588,
     "end_time": "2020-11-23T00:09:14.257403",
     "exception": false,
     "start_time": "2020-11-23T00:09:13.911523",
     "status": "completed"
    },
    "tags": []
   },
   "outputs": [
    {
     "data": {
      "text/plain": [
       "<matplotlib.legend.Legend at 0x7f3d783d09b0>"
      ]
     },
     "execution_count": 23,
     "metadata": {},
     "output_type": "execute_result"
    },
    {
     "data": {
      "image/png": "[encoded data removed]",
      "text/plain": [
       "<Figure size 1080x720 with 1 Axes>"
      ]
     },
     "metadata": {
      "needs_background": "light"
     },
     "output_type": "display_data"
    }
   ],
   "source": [
    "plt.figure(figsize=(15,10))\n",
    "\n",
    "# Neural Network plots\n",
    "plt.plot(acc_nn.accuracies, 'r-', label = \"Training Accuracies - NN\")\n",
    "plt.plot(acc_nn.test_accuracies, 'g-', label = \"Testing Accuracies - NN\")\n",
    "\n",
    "# Logistic Regression plots\n",
    "plt.plot(acc_lr.accuracies, 'k-', label = \"Training Accuracies - LR\")\n",
    "plt.plot(acc_lr.test_accuracies, 'b-', label = \"Testing Accuracies - LR\")\n",
    "\n",
    "plt.ylim(0.8, 1)\n",
    "\n",
    "plt.legend()\n",
    "\n"
   ]
  },
  {
   "cell_type": "markdown",
   "metadata": {
    "papermill": {
     "duration": 0.049178,
     "end_time": "2020-11-23T00:09:14.363098",
     "exception": false,
     "start_time": "2020-11-23T00:09:14.313920",
     "status": "completed"
    },
    "tags": []
   },
   "source": [
    "### From the plot, we can observe the following:\n",
    "- Neural Network achieves higher accuracy than the Logistic Regression model.\n",
    "- This apparently, is because of overfitting, i.e. NN captures more noise than data.\n",
    "- Testing accuracy of NN drops below the Training accuracy at higher epochs. This explains the over-fitting on training data.\n",
    "- Logistic Regression gives a reliable accuracy, without the above mentioned problem.\n"
   ]
  },
  {
   "cell_type": "markdown",
   "metadata": {
    "papermill": {
     "duration": 0.046793,
     "end_time": "2020-11-23T00:09:14.458857",
     "exception": false,
     "start_time": "2020-11-23T00:09:14.412064",
     "status": "completed"
    },
    "tags": []
   },
   "source": [
    "### Moving till the last but one layer (excluding it).\n",
    "#### Plotting the outputs of this layer of the NN."
   ]
  },
  {
   "cell_type": "code",
   "execution_count": 24,
   "metadata": {
    "execution": {
     "iopub.execute_input": "2020-11-23T00:09:14.570794Z",
     "iopub.status.busy": "2020-11-23T00:09:14.561942Z",
     "iopub.status.idle": "2020-11-23T00:09:14.576191Z",
     "shell.execute_reply": "2020-11-23T00:09:14.575461Z"
    },
    "papermill": {
     "duration": 0.07102,
     "end_time": "2020-11-23T00:09:14.576333",
     "exception": false,
     "start_time": "2020-11-23T00:09:14.505313",
     "status": "completed"
    },
    "tags": []
   },
   "outputs": [],
   "source": [
    "model_new = Model(layers[:-2])"
   ]
  },
  {
   "cell_type": "code",
   "execution_count": 25,
   "metadata": {
    "execution": {
     "iopub.execute_input": "2020-11-23T00:09:14.680705Z",
     "iopub.status.busy": "2020-11-23T00:09:14.679931Z",
     "iopub.status.idle": "2020-11-23T00:09:14.704902Z",
     "shell.execute_reply": "2020-11-23T00:09:14.705853Z"
    },
    "papermill": {
     "duration": 0.080692,
     "end_time": "2020-11-23T00:09:14.706000",
     "exception": false,
     "start_time": "2020-11-23T00:09:14.625308",
     "status": "completed"
    },
    "tags": []
   },
   "outputs": [],
   "source": [
    "plot_testing = model_new(testing_xdata)"
   ]
  },
  {
   "cell_type": "code",
   "execution_count": 26,
   "metadata": {
    "execution": {
     "iopub.execute_input": "2020-11-23T00:09:14.818855Z",
     "iopub.status.busy": "2020-11-23T00:09:14.818005Z",
     "iopub.status.idle": "2020-11-23T00:09:15.048690Z",
     "shell.execute_reply": "2020-11-23T00:09:15.049349Z"
    },
    "papermill": {
     "duration": 0.290115,
     "end_time": "2020-11-23T00:09:15.049542",
     "exception": false,
     "start_time": "2020-11-23T00:09:14.759427",
     "status": "completed"
    },
    "tags": []
   },
   "outputs": [
    {
     "data": {
      "text/plain": [
       "Text(0.5, 1.0, 'Outputs')"
      ]
     },
     "execution_count": 26,
     "metadata": {},
     "output_type": "execute_result"
    },
    {
     "data": {
      "image/png": "[encoded data removed]",
      "text/plain": [
       "<Figure size 576x504 with 1 Axes>"
      ]
     },
     "metadata": {
      "needs_background": "light"
     },
     "output_type": "display_data"
    }
   ],
   "source": [
    "plt.figure(figsize=(8,7))\n",
    "plt.scatter(plot_testing[:,0], plot_testing[:,1], alpha = 0.1, c = y_test.ravel());\n",
    "plt.title('Outputs')"
   ]
  },
  {
   "cell_type": "markdown",
   "metadata": {
    "papermill": {
     "duration": 0.050352,
     "end_time": "2020-11-23T00:09:15.148849",
     "exception": false,
     "start_time": "2020-11-23T00:09:15.098497",
     "status": "completed"
    },
    "tags": []
   },
   "source": [
    "### Plotting probability contours"
   ]
  },
  {
   "cell_type": "code",
   "execution_count": 27,
   "metadata": {
    "execution": {
     "iopub.execute_input": "2020-11-23T00:09:15.260704Z",
     "iopub.status.busy": "2020-11-23T00:09:15.259664Z",
     "iopub.status.idle": "2020-11-23T00:09:15.272045Z",
     "shell.execute_reply": "2020-11-23T00:09:15.271087Z"
    },
    "papermill": {
     "duration": 0.072235,
     "end_time": "2020-11-23T00:09:15.272251",
     "exception": false,
     "start_time": "2020-11-23T00:09:15.200016",
     "status": "completed"
    },
    "tags": []
   },
   "outputs": [],
   "source": [
    "model_prob = Model(layers[-2:]) "
   ]
  },
  {
   "cell_type": "code",
   "execution_count": 28,
   "metadata": {
    "execution": {
     "iopub.execute_input": "2020-11-23T00:09:15.384816Z",
     "iopub.status.busy": "2020-11-23T00:09:15.384129Z",
     "iopub.status.idle": "2020-11-23T00:09:15.399381Z",
     "shell.execute_reply": "2020-11-23T00:09:15.399924Z"
    },
    "papermill": {
     "duration": 0.072349,
     "end_time": "2020-11-23T00:09:15.400091",
     "exception": false,
     "start_time": "2020-11-23T00:09:15.327742",
     "status": "completed"
    },
    "tags": []
   },
   "outputs": [],
   "source": [
    "# Adjust the x and y ranges according to the above generated plot.\n",
    "x_range = np.linspace(-4, 1, 100) \n",
    "y_range = np.linspace(-6, 6, 100) \n",
    "x_grid, y_grid = np.meshgrid(x_range, y_range) # x_grid and y_grig are of size 100 X 100\n",
    "\n",
    "# converting x_grid and y_grid to continuous arrays\n",
    "x_grid_flat = np.ravel(x_grid)\n",
    "y_grid_flat = np.ravel(y_grid)\n",
    "\n",
    "# The last layer of the current model takes two columns as input. Hence transpose of np.vstack() is required.\n",
    "X = np.vstack((x_grid_flat, y_grid_flat)).T\n",
    "\n",
    "# x_grid and y_grid are of size 100 x 100\n",
    "probability_contour = model_prob(X).reshape(100,100) "
   ]
  },
  {
   "cell_type": "code",
   "execution_count": 29,
   "metadata": {
    "execution": {
     "iopub.execute_input": "2020-11-23T00:09:15.513958Z",
     "iopub.status.busy": "2020-11-23T00:09:15.513271Z",
     "iopub.status.idle": "2020-11-23T00:09:15.831059Z",
     "shell.execute_reply": "2020-11-23T00:09:15.830513Z"
    },
    "papermill": {
     "duration": 0.378769,
     "end_time": "2020-11-23T00:09:15.831194",
     "exception": false,
     "start_time": "2020-11-23T00:09:15.452425",
     "status": "completed"
    },
    "tags": []
   },
   "outputs": [
    {
     "data": {
      "image/png": "[encoded data removed]",
      "text/plain": [
       "<Figure size 720x648 with 1 Axes>"
      ]
     },
     "metadata": {
      "needs_background": "light"
     },
     "output_type": "display_data"
    }
   ],
   "source": [
    "plt.figure(figsize=(10,9))\n",
    "plt.scatter(plot_testing[:,0], plot_testing[:,1], alpha = 0.1, c = y_test.ravel())\n",
    "contours = plt.contour(x_grid,y_grid,probability_contour)\n",
    "plt.title('Probability Contours')\n",
    "plt.clabel(contours, inline = True );"
   ]
  }
 ],
 "metadata": {
  "kernelspec": {
   "display_name": "Python 3",
   "language": "python",
   "name": "python3"
  },
  "language_info": {
   "codemirror_mode": {
    "name": "ipython",
    "version": 3
   },
   "file_extension": ".py",
   "mimetype": "text/x-python",
   "name": "python",
   "nbconvert_exporter": "python",
   "pygments_lexer": "ipython3",
   "version": "3.6.12"
  },
  "papermill": {
   "duration": 173.383474,
   "end_time": "2020-11-23T00:09:16.314735",
   "environment_variables": {},
   "exception": null,
   "input_path": "2020-08-11-NeuralNetwork.ipynb",
   "output_path": "2020-08-11-NeuralNetwork.ipynb",
   "parameters": {},
   "start_time": "2020-11-23T00:06:22.931261",
   "version": "2.1.2"
  }
 },
 "nbformat": 4,
 "nbformat_minor": 4
}