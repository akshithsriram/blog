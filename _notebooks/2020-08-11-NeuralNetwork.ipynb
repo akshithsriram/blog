{
 "cells": [
  {
   "cell_type": "markdown",
   "metadata": {
    "papermill": {
     "duration": 0.031054,
     "end_time": "2020-11-18T10:04:40.967673",
     "exception": false,
     "start_time": "2020-11-18T10:04:40.936619",
     "status": "completed"
    },
    "tags": []
   },
   "source": [
    "# \"A Basic Neural Network: Differentiate Hand-Written Digits\"\n",
    "\n",
    "- badges: true\n",
    "- author: Akshith Sriram"
   ]
  },
  {
   "cell_type": "markdown",
   "metadata": {
    "papermill": {
     "duration": 0.026153,
     "end_time": "2020-11-18T10:04:41.020788",
     "exception": false,
     "start_time": "2020-11-18T10:04:40.994635",
     "status": "completed"
    },
    "tags": []
   },
   "source": [
    "### Key Objectives:\n",
    "- Building a neural network that differentiates two hand-written digits 3 and 8.\n",
    "- Comparing the results of this Neural Network (NN) to that of a Logistic Regression (LR) model.\n",
    "\n",
    "### Requirements:\n",
    "- 'Kudzu' : A neural network library that was designed during our course by [Univ.AI](www.univ.ai). \n",
    "- MNIST Database\n",
    "\n",
    "If MNIST is not installed, use the command `!pip install mnist` given below.\n",
    "It can be run both from the command line and Jupyter Notebook."
   ]
  },
  {
   "cell_type": "code",
   "execution_count": 1,
   "metadata": {
    "execution": {
     "iopub.execute_input": "2020-11-18T10:04:41.080992Z",
     "iopub.status.busy": "2020-11-18T10:04:41.080361Z",
     "iopub.status.idle": "2020-11-18T10:04:42.585007Z",
     "shell.execute_reply": "2020-11-18T10:04:42.583656Z"
    },
    "papermill": {
     "duration": 1.538273,
     "end_time": "2020-11-18T10:04:42.585261",
     "exception": false,
     "start_time": "2020-11-18T10:04:41.046988",
     "status": "completed"
    },
    "tags": []
   },
   "outputs": [
    {
     "name": "stdout",
     "output_type": "stream",
     "text": [
      "Collecting mnist\r\n"
     ]
    },
    {
     "name": "stdout",
     "output_type": "stream",
     "text": [
      "  Downloading mnist-0.2.2-py2.py3-none-any.whl (3.5 kB)\r\n"
     ]
    },
    {
     "name": "stdout",
     "output_type": "stream",
     "text": [
      "Requirement already satisfied: numpy in /opt/hostedtoolcache/Python/3.6.12/x64/lib/python3.6/site-packages (from mnist) (1.19.4)\r\n"
     ]
    },
    {
     "name": "stdout",
     "output_type": "stream",
     "text": [
      "Installing collected packages: mnist\r\n",
      "Successfully installed mnist-0.2.2\r\n"
     ]
    }
   ],
   "source": [
    "!pip install mnist "
   ]
  },
  {
   "cell_type": "markdown",
   "metadata": {
    "papermill": {
     "duration": 0.027648,
     "end_time": "2020-11-18T10:04:42.641912",
     "exception": false,
     "start_time": "2020-11-18T10:04:42.614264",
     "status": "completed"
    },
    "tags": []
   },
   "source": [
    "#### Importing necessary libraries"
   ]
  },
  {
   "cell_type": "code",
   "execution_count": 2,
   "metadata": {
    "execution": {
     "iopub.execute_input": "2020-11-18T10:04:42.706288Z",
     "iopub.status.busy": "2020-11-18T10:04:42.705637Z",
     "iopub.status.idle": "2020-11-18T10:04:43.303284Z",
     "shell.execute_reply": "2020-11-18T10:04:43.302405Z"
    },
    "papermill": {
     "duration": 0.632997,
     "end_time": "2020-11-18T10:04:43.303513",
     "exception": false,
     "start_time": "2020-11-18T10:04:42.670516",
     "status": "completed"
    },
    "tags": []
   },
   "outputs": [],
   "source": [
    "%load_ext autoreload\n",
    "%autoreload 2\n",
    "\n",
    "%matplotlib inline\n",
    "import matplotlib.pyplot as plt\n",
    "\n",
    "import numpy as np\n",
    "import pandas as pd"
   ]
  },
  {
   "cell_type": "markdown",
   "metadata": {
    "papermill": {
     "duration": 0.027499,
     "end_time": "2020-11-18T10:04:43.359987",
     "exception": false,
     "start_time": "2020-11-18T10:04:43.332488",
     "status": "completed"
    },
    "tags": []
   },
   "source": [
    "### Preparing the Data"
   ]
  },
  {
   "cell_type": "code",
   "execution_count": 3,
   "metadata": {
    "execution": {
     "iopub.execute_input": "2020-11-18T10:04:43.421870Z",
     "iopub.status.busy": "2020-11-18T10:04:43.421207Z",
     "iopub.status.idle": "2020-11-18T10:04:43.435863Z",
     "shell.execute_reply": "2020-11-18T10:04:43.435319Z"
    },
    "papermill": {
     "duration": 0.046621,
     "end_time": "2020-11-18T10:04:43.435996",
     "exception": false,
     "start_time": "2020-11-18T10:04:43.389375",
     "status": "completed"
    },
    "tags": []
   },
   "outputs": [],
   "source": [
    "import mnist"
   ]
  },
  {
   "cell_type": "code",
   "execution_count": 4,
   "metadata": {
    "execution": {
     "iopub.execute_input": "2020-11-18T10:04:43.494748Z",
     "iopub.status.busy": "2020-11-18T10:04:43.494127Z",
     "iopub.status.idle": "2020-11-18T10:04:44.209892Z",
     "shell.execute_reply": "2020-11-18T10:04:44.208688Z"
    },
    "papermill": {
     "duration": 0.746724,
     "end_time": "2020-11-18T10:04:44.210046",
     "exception": false,
     "start_time": "2020-11-18T10:04:43.463322",
     "status": "completed"
    },
    "tags": []
   },
   "outputs": [],
   "source": [
    "train_images = mnist.train_images()\n",
    "train_labels = mnist.train_labels()"
   ]
  },
  {
   "cell_type": "code",
   "execution_count": 5,
   "metadata": {
    "execution": {
     "iopub.execute_input": "2020-11-18T10:04:44.275229Z",
     "iopub.status.busy": "2020-11-18T10:04:44.274601Z",
     "iopub.status.idle": "2020-11-18T10:04:44.289136Z",
     "shell.execute_reply": "2020-11-18T10:04:44.288641Z"
    },
    "papermill": {
     "duration": 0.051679,
     "end_time": "2020-11-18T10:04:44.289272",
     "exception": false,
     "start_time": "2020-11-18T10:04:44.237593",
     "status": "completed"
    },
    "tags": []
   },
   "outputs": [
    {
     "data": {
      "text/plain": [
       "((60000, 28, 28), (60000,))"
      ]
     },
     "execution_count": 5,
     "metadata": {},
     "output_type": "execute_result"
    }
   ],
   "source": [
    "train_images.shape, train_labels.shape"
   ]
  },
  {
   "cell_type": "code",
   "execution_count": 6,
   "metadata": {
    "execution": {
     "iopub.execute_input": "2020-11-18T10:04:44.723958Z",
     "iopub.status.busy": "2020-11-18T10:04:44.722072Z",
     "iopub.status.idle": "2020-11-18T10:04:44.987039Z",
     "shell.execute_reply": "2020-11-18T10:04:44.987539Z"
    },
    "papermill": {
     "duration": 0.300766,
     "end_time": "2020-11-18T10:04:44.987716",
     "exception": false,
     "start_time": "2020-11-18T10:04:44.686950",
     "status": "completed"
    },
    "tags": []
   },
   "outputs": [],
   "source": [
    "test_images = mnist.test_images()\n",
    "test_labels = mnist.test_labels()"
   ]
  },
  {
   "cell_type": "code",
   "execution_count": 7,
   "metadata": {
    "execution": {
     "iopub.execute_input": "2020-11-18T10:04:45.131490Z",
     "iopub.status.busy": "2020-11-18T10:04:45.130882Z",
     "iopub.status.idle": "2020-11-18T10:04:45.146016Z",
     "shell.execute_reply": "2020-11-18T10:04:45.145457Z"
    },
    "papermill": {
     "duration": 0.051009,
     "end_time": "2020-11-18T10:04:45.146158",
     "exception": false,
     "start_time": "2020-11-18T10:04:45.095149",
     "status": "completed"
    },
    "tags": []
   },
   "outputs": [
    {
     "data": {
      "text/plain": [
       "((10000, 28, 28), (10000,))"
      ]
     },
     "execution_count": 7,
     "metadata": {},
     "output_type": "execute_result"
    }
   ],
   "source": [
    "test_images.shape, test_labels.shape"
   ]
  },
  {
   "cell_type": "code",
   "execution_count": 8,
   "metadata": {
    "execution": {
     "iopub.execute_input": "2020-11-18T10:04:45.211244Z",
     "iopub.status.busy": "2020-11-18T10:04:45.210623Z",
     "iopub.status.idle": "2020-11-18T10:04:45.367707Z",
     "shell.execute_reply": "2020-11-18T10:04:45.368203Z"
    },
    "papermill": {
     "duration": 0.193873,
     "end_time": "2020-11-18T10:04:45.368366",
     "exception": false,
     "start_time": "2020-11-18T10:04:45.174493",
     "status": "completed"
    },
    "tags": []
   },
   "outputs": [
    {
     "name": "stdout",
     "output_type": "stream",
     "text": [
      "2\n"
     ]
    },
    {
     "data": {
      "text/plain": [
       "<matplotlib.image.AxesImage at 0x7fae05f01080>"
      ]
     },
     "execution_count": 8,
     "metadata": {},
     "output_type": "execute_result"
    },
    {
     "data": {
      "image/png": "[encoded data removed]",
      "text/plain": [
       "<Figure size 432x288 with 1 Axes>"
      ]
     },
     "metadata": {
      "needs_background": "light"
     },
     "output_type": "display_data"
    }
   ],
   "source": [
    "image_index = 7776 # You may select anything up to 60,000\n",
    "print(train_labels[image_index]) \n",
    "plt.imshow(train_images[image_index], cmap='Greys')"
   ]
  },
  {
   "cell_type": "markdown",
   "metadata": {
    "papermill": {
     "duration": 0.029946,
     "end_time": "2020-11-18T10:04:45.428031",
     "exception": false,
     "start_time": "2020-11-18T10:04:45.398085",
     "status": "completed"
    },
    "tags": []
   },
   "source": [
    "## Filter data to get 3 and 8 out"
   ]
  },
  {
   "cell_type": "code",
   "execution_count": 9,
   "metadata": {
    "execution": {
     "iopub.execute_input": "2020-11-18T10:04:45.492815Z",
     "iopub.status.busy": "2020-11-18T10:04:45.492190Z",
     "iopub.status.idle": "2020-11-18T10:04:45.513589Z",
     "shell.execute_reply": "2020-11-18T10:04:45.514276Z"
    },
    "papermill": {
     "duration": 0.05711,
     "end_time": "2020-11-18T10:04:45.514481",
     "exception": false,
     "start_time": "2020-11-18T10:04:45.457371",
     "status": "completed"
    },
    "tags": []
   },
   "outputs": [],
   "source": [
    "train_filter = np.where((train_labels == 3 ) | (train_labels == 8))\n",
    "test_filter = np.where((test_labels == 3) | (test_labels == 8))\n",
    "X_train, y_train = train_images[train_filter], train_labels[train_filter]\n",
    "X_test, y_test = test_images[test_filter], test_labels[test_filter]"
   ]
  },
  {
   "cell_type": "markdown",
   "metadata": {
    "papermill": {
     "duration": 0.029563,
     "end_time": "2020-11-18T10:04:45.574405",
     "exception": false,
     "start_time": "2020-11-18T10:04:45.544842",
     "status": "completed"
    },
    "tags": []
   },
   "source": [
    "We normalize the pixel values in the 0 to 1 range"
   ]
  },
  {
   "cell_type": "code",
   "execution_count": 10,
   "metadata": {
    "execution": {
     "iopub.execute_input": "2020-11-18T10:04:45.637814Z",
     "iopub.status.busy": "2020-11-18T10:04:45.637177Z",
     "iopub.status.idle": "2020-11-18T10:04:45.691765Z",
     "shell.execute_reply": "2020-11-18T10:04:45.691057Z"
    },
    "papermill": {
     "duration": 0.088167,
     "end_time": "2020-11-18T10:04:45.691942",
     "exception": false,
     "start_time": "2020-11-18T10:04:45.603775",
     "status": "completed"
    },
    "tags": []
   },
   "outputs": [],
   "source": [
    "X_train = X_train/255.\n",
    "X_test = X_test/255."
   ]
  },
  {
   "cell_type": "markdown",
   "metadata": {
    "papermill": {
     "duration": 0.02935,
     "end_time": "2020-11-18T10:04:45.753224",
     "exception": false,
     "start_time": "2020-11-18T10:04:45.723874",
     "status": "completed"
    },
    "tags": []
   },
   "source": [
    "Setup the labels as 1 (when the digit is 3) and 0 (when the digit is 8)"
   ]
  },
  {
   "cell_type": "code",
   "execution_count": 11,
   "metadata": {
    "execution": {
     "iopub.execute_input": "2020-11-18T10:04:45.819284Z",
     "iopub.status.busy": "2020-11-18T10:04:45.818662Z",
     "iopub.status.idle": "2020-11-18T10:04:45.832741Z",
     "shell.execute_reply": "2020-11-18T10:04:45.832243Z"
    },
    "papermill": {
     "duration": 0.050255,
     "end_time": "2020-11-18T10:04:45.832879",
     "exception": false,
     "start_time": "2020-11-18T10:04:45.782624",
     "status": "completed"
    },
    "tags": []
   },
   "outputs": [],
   "source": [
    "y_train = 1*(y_train==3)\n",
    "y_test = 1*(y_test==3)"
   ]
  },
  {
   "cell_type": "code",
   "execution_count": 12,
   "metadata": {
    "execution": {
     "iopub.execute_input": "2020-11-18T10:04:45.895903Z",
     "iopub.status.busy": "2020-11-18T10:04:45.895306Z",
     "iopub.status.idle": "2020-11-18T10:04:45.912290Z",
     "shell.execute_reply": "2020-11-18T10:04:45.911769Z"
    },
    "papermill": {
     "duration": 0.04999,
     "end_time": "2020-11-18T10:04:45.912422",
     "exception": false,
     "start_time": "2020-11-18T10:04:45.862432",
     "status": "completed"
    },
    "tags": []
   },
   "outputs": [
    {
     "data": {
      "text/plain": [
       "((11982, 28, 28), (1984, 28, 28))"
      ]
     },
     "execution_count": 12,
     "metadata": {},
     "output_type": "execute_result"
    }
   ],
   "source": [
    "X_train.shape, X_test.shape"
   ]
  },
  {
   "cell_type": "markdown",
   "metadata": {
    "papermill": {
     "duration": 0.029747,
     "end_time": "2020-11-18T10:04:45.971764",
     "exception": false,
     "start_time": "2020-11-18T10:04:45.942017",
     "status": "completed"
    },
    "tags": []
   },
   "source": [
    "### Reshape the input data to create a linear array"
   ]
  },
  {
   "cell_type": "code",
   "execution_count": 13,
   "metadata": {
    "execution": {
     "iopub.execute_input": "2020-11-18T10:04:46.039748Z",
     "iopub.status.busy": "2020-11-18T10:04:46.039121Z",
     "iopub.status.idle": "2020-11-18T10:04:46.051742Z",
     "shell.execute_reply": "2020-11-18T10:04:46.051237Z"
    },
    "papermill": {
     "duration": 0.050354,
     "end_time": "2020-11-18T10:04:46.051883",
     "exception": false,
     "start_time": "2020-11-18T10:04:46.001529",
     "status": "completed"
    },
    "tags": []
   },
   "outputs": [
    {
     "data": {
      "text/plain": [
       "((11982, 784), (1984, 784))"
      ]
     },
     "execution_count": 13,
     "metadata": {},
     "output_type": "execute_result"
    }
   ],
   "source": [
    "X_train = X_train.reshape(X_train.shape[0], -1)\n",
    "X_test = X_test.reshape(X_test.shape[0], -1)\n",
    "X_train.shape, X_test.shape"
   ]
  },
  {
   "cell_type": "markdown",
   "metadata": {
    "papermill": {
     "duration": 0.029934,
     "end_time": "2020-11-18T10:04:46.111815",
     "exception": false,
     "start_time": "2020-11-18T10:04:46.081881",
     "status": "completed"
    },
    "tags": []
   },
   "source": [
    "### Importing appropriate functions from 'Kudzu'"
   ]
  },
  {
   "cell_type": "code",
   "execution_count": 14,
   "metadata": {
    "execution": {
     "iopub.execute_input": "2020-11-18T10:04:46.178419Z",
     "iopub.status.busy": "2020-11-18T10:04:46.177795Z",
     "iopub.status.idle": "2020-11-18T10:04:46.198165Z",
     "shell.execute_reply": "2020-11-18T10:04:46.198702Z"
    },
    "papermill": {
     "duration": 0.056772,
     "end_time": "2020-11-18T10:04:46.198861",
     "exception": false,
     "start_time": "2020-11-18T10:04:46.142089",
     "status": "completed"
    },
    "tags": []
   },
   "outputs": [],
   "source": [
    "from kudzu.layer import Sigmoid\n",
    "from kudzu.layer import Relu\n",
    "from kudzu.layer import Affine, Sigmoid\n",
    "\n",
    "from kudzu.model import Model\n",
    "from kudzu.train import Learner\n",
    "from kudzu.optim import GD\n",
    "from kudzu.data import Data, Dataloader, Sampler\n",
    "\n",
    "from kudzu.callbacks import AccCallback\n",
    "from kudzu.callbacks import ClfCallback\n",
    "\n",
    "from kudzu.loss import MSE"
   ]
  },
  {
   "cell_type": "markdown",
   "metadata": {
    "papermill": {
     "duration": 0.029922,
     "end_time": "2020-11-18T10:04:46.258649",
     "exception": false,
     "start_time": "2020-11-18T10:04:46.228727",
     "status": "completed"
    },
    "tags": []
   },
   "source": [
    "### Let us create a `Config` class, to store important parameters. \n",
    "This class essentially plays the role of a dictionary."
   ]
  },
  {
   "cell_type": "code",
   "execution_count": 15,
   "metadata": {
    "execution": {
     "iopub.execute_input": "2020-11-18T10:04:46.323384Z",
     "iopub.status.busy": "2020-11-18T10:04:46.322762Z",
     "iopub.status.idle": "2020-11-18T10:04:46.336595Z",
     "shell.execute_reply": "2020-11-18T10:04:46.337073Z"
    },
    "papermill": {
     "duration": 0.04846,
     "end_time": "2020-11-18T10:04:46.337240",
     "exception": false,
     "start_time": "2020-11-18T10:04:46.288780",
     "status": "completed"
    },
    "tags": []
   },
   "outputs": [],
   "source": [
    "class Config:\n",
    "    pass\n",
    "config = Config()\n",
    "config.lr = 0.001\n",
    "config.num_epochs = 251\n",
    "config.bs = 50"
   ]
  },
  {
   "cell_type": "markdown",
   "metadata": {
    "papermill": {
     "duration": 0.029976,
     "end_time": "2020-11-18T10:04:46.397320",
     "exception": false,
     "start_time": "2020-11-18T10:04:46.367344",
     "status": "completed"
    },
    "tags": []
   },
   "source": [
    "### Initializing data to the variables"
   ]
  },
  {
   "cell_type": "code",
   "execution_count": 16,
   "metadata": {
    "execution": {
     "iopub.execute_input": "2020-11-18T10:04:46.462952Z",
     "iopub.status.busy": "2020-11-18T10:04:46.462329Z",
     "iopub.status.idle": "2020-11-18T10:04:46.475896Z",
     "shell.execute_reply": "2020-11-18T10:04:46.476398Z"
    },
    "papermill": {
     "duration": 0.049115,
     "end_time": "2020-11-18T10:04:46.476559",
     "exception": false,
     "start_time": "2020-11-18T10:04:46.427444",
     "status": "completed"
    },
    "tags": []
   },
   "outputs": [],
   "source": [
    "data = Data(X_train, y_train.reshape(-1,1))\n",
    "sampler = Sampler(data, config.bs, shuffle=True)\n",
    "\n",
    "dl = Dataloader(data, sampler)\n",
    "\n",
    "opt = GD(config.lr)\n",
    "loss = MSE()"
   ]
  },
  {
   "cell_type": "code",
   "execution_count": 17,
   "metadata": {
    "execution": {
     "iopub.execute_input": "2020-11-18T10:04:46.542242Z",
     "iopub.status.busy": "2020-11-18T10:04:46.541597Z",
     "iopub.status.idle": "2020-11-18T10:04:46.554453Z",
     "shell.execute_reply": "2020-11-18T10:04:46.554948Z"
    },
    "papermill": {
     "duration": 0.04839,
     "end_time": "2020-11-18T10:04:46.555103",
     "exception": false,
     "start_time": "2020-11-18T10:04:46.506713",
     "status": "completed"
    },
    "tags": []
   },
   "outputs": [],
   "source": [
    "training_xdata = X_train\n",
    "testing_xdata = X_test\n",
    "training_ydata = y_train.reshape(-1,1)\n",
    "testing_ydata = y_test.reshape(-1,1)"
   ]
  },
  {
   "cell_type": "markdown",
   "metadata": {
    "papermill": {
     "duration": 0.030114,
     "end_time": "2020-11-18T10:04:46.615455",
     "exception": false,
     "start_time": "2020-11-18T10:04:46.585341",
     "status": "completed"
    },
    "tags": []
   },
   "source": [
    "### Running Models with the Training data\n",
    "Details about the network layers:\n",
    "- A first affine layer has 784 inputs and does 100 affine transforms. These are followed by a Relu\n",
    "- A second affine layer has 100 inputs from the 100 activations of the past layer, and does 100 affine transforms. These are followed by a Relu\n",
    "- A third affine layer has 100 activations and does 2 affine transformations to create an embedding for visualization. There is no non-linearity here.\n",
    "- A final \"logistic regression\" which has an affine transform from 2 inputs to 1 output, which is squeezed through a sigmoid.\n",
    "\n",
    "Help taken from Anshuman's Notebook."
   ]
  },
  {
   "cell_type": "code",
   "execution_count": 18,
   "metadata": {
    "execution": {
     "iopub.execute_input": "2020-11-18T10:04:46.684940Z",
     "iopub.status.busy": "2020-11-18T10:04:46.684305Z",
     "iopub.status.idle": "2020-11-18T10:04:46.701448Z",
     "shell.execute_reply": "2020-11-18T10:04:46.701977Z"
    },
    "papermill": {
     "duration": 0.056785,
     "end_time": "2020-11-18T10:04:46.702144",
     "exception": false,
     "start_time": "2020-11-18T10:04:46.645359",
     "status": "completed"
    },
    "tags": []
   },
   "outputs": [],
   "source": [
    "# layers for the Neural Network\n",
    "layers = [Affine(\"first\", 784, 100), Relu(\"first\"), Affine(\"second\", 100, 100), Relu(\"second\"), Affine(\"third\", 100, 2), Affine(\"final\", 2, 1), Sigmoid(\"final\")]\n",
    "model_nn = Model(layers)\n",
    "\n",
    "# layers for the Logistic Regression\n",
    "layers_lr = [Affine(\"logits\", 784, 1), Sigmoid(\"sigmoid\")]\n",
    "model_lr = Model(layers_lr)"
   ]
  },
  {
   "cell_type": "code",
   "execution_count": 19,
   "metadata": {
    "execution": {
     "iopub.execute_input": "2020-11-18T10:04:46.785087Z",
     "iopub.status.busy": "2020-11-18T10:04:46.782792Z",
     "iopub.status.idle": "2020-11-18T10:04:46.787197Z",
     "shell.execute_reply": "2020-11-18T10:04:46.787669Z"
    },
    "papermill": {
     "duration": 0.0554,
     "end_time": "2020-11-18T10:04:46.787835",
     "exception": false,
     "start_time": "2020-11-18T10:04:46.732435",
     "status": "completed"
    },
    "tags": []
   },
   "outputs": [],
   "source": [
    "# suffix _nn stands for Neural Network.\n",
    "learner_nn = Learner(loss, model_nn, opt, config.num_epochs)\n",
    "acc_nn = ClfCallback(learner_nn, config.bs, training_xdata , testing_xdata, training_ydata, testing_ydata)\n",
    "learner_nn.set_callbacks([acc_nn])"
   ]
  },
  {
   "cell_type": "code",
   "execution_count": 20,
   "metadata": {
    "execution": {
     "iopub.execute_input": "2020-11-18T10:04:46.863937Z",
     "iopub.status.busy": "2020-11-18T10:04:46.851980Z",
     "iopub.status.idle": "2020-11-18T10:06:14.242364Z",
     "shell.execute_reply": "2020-11-18T10:06:14.242942Z"
    },
    "papermill": {
     "duration": 87.424953,
     "end_time": "2020-11-18T10:06:14.243103",
     "exception": false,
     "start_time": "2020-11-18T10:04:46.818150",
     "status": "completed"
    },
    "tags": []
   },
   "outputs": [
    {
     "name": "stdout",
     "output_type": "stream",
     "text": [
      "====== Neural Network ======\n"
     ]
    },
    {
     "name": "stdout",
     "output_type": "stream",
     "text": [
      "Epoch 0, Loss 0.2517\n",
      "Training Accuracy: 0.4684, Testing Accuracy: 0.4672\n",
      "\n"
     ]
    },
    {
     "name": "stdout",
     "output_type": "stream",
     "text": [
      "Epoch 10, Loss 0.2147\n",
      "Training Accuracy: 0.8303, Testing Accuracy: 0.8306\n",
      "\n"
     ]
    },
    {
     "name": "stdout",
     "output_type": "stream",
     "text": [
      "Epoch 20, Loss 0.1248\n",
      "Training Accuracy: 0.8999, Testing Accuracy: 0.9032\n",
      "\n"
     ]
    },
    {
     "name": "stdout",
     "output_type": "stream",
     "text": [
      "Epoch 30, Loss 0.0704\n",
      "Training Accuracy: 0.9286, Testing Accuracy: 0.9385\n",
      "\n"
     ]
    },
    {
     "name": "stdout",
     "output_type": "stream",
     "text": [
      "Epoch 40, Loss 0.0519\n",
      "Training Accuracy: 0.9442, Testing Accuracy: 0.9516\n",
      "\n"
     ]
    },
    {
     "name": "stdout",
     "output_type": "stream",
     "text": [
      "Epoch 50, Loss 0.0432\n",
      "Training Accuracy: 0.9512, Testing Accuracy: 0.9582\n",
      "\n"
     ]
    },
    {
     "name": "stdout",
     "output_type": "stream",
     "text": [
      "Epoch 60, Loss 0.0382\n",
      "Training Accuracy: 0.9561, Testing Accuracy: 0.9622\n",
      "\n"
     ]
    },
    {
     "name": "stdout",
     "output_type": "stream",
     "text": [
      "Epoch 70, Loss 0.0349\n",
      "Training Accuracy: 0.9599, Testing Accuracy: 0.9642\n",
      "\n"
     ]
    },
    {
     "name": "stdout",
     "output_type": "stream",
     "text": [
      "Epoch 80, Loss 0.0325\n",
      "Training Accuracy: 0.9626, Testing Accuracy: 0.9657\n",
      "\n"
     ]
    },
    {
     "name": "stdout",
     "output_type": "stream",
     "text": [
      "Epoch 90, Loss 0.0307\n",
      "Training Accuracy: 0.9646, Testing Accuracy: 0.9657\n",
      "\n"
     ]
    },
    {
     "name": "stdout",
     "output_type": "stream",
     "text": [
      "Epoch 100, Loss 0.0292\n",
      "Training Accuracy: 0.9661, Testing Accuracy: 0.9672\n",
      "\n"
     ]
    },
    {
     "name": "stdout",
     "output_type": "stream",
     "text": [
      "Epoch 110, Loss 0.0279\n",
      "Training Accuracy: 0.9674, Testing Accuracy: 0.9677\n",
      "\n"
     ]
    },
    {
     "name": "stdout",
     "output_type": "stream",
     "text": [
      "Epoch 120, Loss 0.0268\n",
      "Training Accuracy: 0.9684, Testing Accuracy: 0.9693\n",
      "\n"
     ]
    },
    {
     "name": "stdout",
     "output_type": "stream",
     "text": [
      "Epoch 130, Loss 0.0259\n",
      "Training Accuracy: 0.9694, Testing Accuracy: 0.9693\n",
      "\n"
     ]
    },
    {
     "name": "stdout",
     "output_type": "stream",
     "text": [
      "Epoch 140, Loss 0.025\n",
      "Training Accuracy: 0.9705, Testing Accuracy: 0.9693\n",
      "\n"
     ]
    },
    {
     "name": "stdout",
     "output_type": "stream",
     "text": [
      "Epoch 150, Loss 0.0243\n",
      "Training Accuracy: 0.9711, Testing Accuracy: 0.9698\n",
      "\n"
     ]
    },
    {
     "name": "stdout",
     "output_type": "stream",
     "text": [
      "Epoch 160, Loss 0.0236\n",
      "Training Accuracy: 0.9724, Testing Accuracy: 0.9703\n",
      "\n"
     ]
    },
    {
     "name": "stdout",
     "output_type": "stream",
     "text": [
      "Epoch 170, Loss 0.0229\n",
      "Training Accuracy: 0.9729, Testing Accuracy: 0.9703\n",
      "\n"
     ]
    },
    {
     "name": "stdout",
     "output_type": "stream",
     "text": [
      "Epoch 180, Loss 0.0224\n",
      "Training Accuracy: 0.9739, Testing Accuracy: 0.9708\n",
      "\n"
     ]
    },
    {
     "name": "stdout",
     "output_type": "stream",
     "text": [
      "Epoch 190, Loss 0.0218\n",
      "Training Accuracy: 0.9745, Testing Accuracy: 0.9718\n",
      "\n"
     ]
    },
    {
     "name": "stdout",
     "output_type": "stream",
     "text": [
      "Epoch 200, Loss 0.0213\n",
      "Training Accuracy: 0.9750, Testing Accuracy: 0.9723\n",
      "\n"
     ]
    },
    {
     "name": "stdout",
     "output_type": "stream",
     "text": [
      "Epoch 210, Loss 0.0208\n",
      "Training Accuracy: 0.9758, Testing Accuracy: 0.9723\n",
      "\n"
     ]
    },
    {
     "name": "stdout",
     "output_type": "stream",
     "text": [
      "Epoch 220, Loss 0.0204\n",
      "Training Accuracy: 0.9765, Testing Accuracy: 0.9718\n",
      "\n"
     ]
    },
    {
     "name": "stdout",
     "output_type": "stream",
     "text": [
      "Epoch 230, Loss 0.02\n",
      "Training Accuracy: 0.9770, Testing Accuracy: 0.9723\n",
      "\n"
     ]
    },
    {
     "name": "stdout",
     "output_type": "stream",
     "text": [
      "Epoch 240, Loss 0.0196\n",
      "Training Accuracy: 0.9777, Testing Accuracy: 0.9723\n",
      "\n"
     ]
    },
    {
     "name": "stdout",
     "output_type": "stream",
     "text": [
      "Epoch 250, Loss 0.0192\n",
      "Training Accuracy: 0.9780, Testing Accuracy: 0.9728\n",
      "\n"
     ]
    },
    {
     "data": {
      "text/plain": [
       "0.022194374008609134"
      ]
     },
     "execution_count": 20,
     "metadata": {},
     "output_type": "execute_result"
    }
   ],
   "source": [
    "print(\"====== Neural Network ======\")\n",
    "learner_nn.train_loop(dl)"
   ]
  },
  {
   "cell_type": "markdown",
   "metadata": {
    "papermill": {
     "duration": 0.038918,
     "end_time": "2020-11-18T10:06:14.321046",
     "exception": false,
     "start_time": "2020-11-18T10:06:14.282128",
     "status": "completed"
    },
    "tags": []
   },
   "source": [
    "### Logistic Regression based Implementation."
   ]
  },
  {
   "cell_type": "code",
   "execution_count": 21,
   "metadata": {
    "execution": {
     "iopub.execute_input": "2020-11-18T10:06:14.415676Z",
     "iopub.status.busy": "2020-11-18T10:06:14.414863Z",
     "iopub.status.idle": "2020-11-18T10:06:14.427689Z",
     "shell.execute_reply": "2020-11-18T10:06:14.427148Z"
    },
    "papermill": {
     "duration": 0.055872,
     "end_time": "2020-11-18T10:06:14.427828",
     "exception": false,
     "start_time": "2020-11-18T10:06:14.371956",
     "status": "completed"
    },
    "tags": []
   },
   "outputs": [],
   "source": [
    "learner_lr = Learner(loss, model_lr, opt, config.num_epochs)\n",
    "acc_lr = ClfCallback(learner_lr, config.bs, training_xdata , testing_xdata, training_ydata, testing_ydata)\n",
    "learner_lr.set_callbacks([acc_lr])"
   ]
  },
  {
   "cell_type": "code",
   "execution_count": 22,
   "metadata": {
    "execution": {
     "iopub.execute_input": "2020-11-18T10:06:14.511913Z",
     "iopub.status.busy": "2020-11-18T10:06:14.510616Z",
     "iopub.status.idle": "2020-11-18T10:06:30.038632Z",
     "shell.execute_reply": "2020-11-18T10:06:30.039448Z"
    },
    "papermill": {
     "duration": 15.573208,
     "end_time": "2020-11-18T10:06:30.039618",
     "exception": false,
     "start_time": "2020-11-18T10:06:14.466410",
     "status": "completed"
    },
    "tags": []
   },
   "outputs": [
    {
     "name": "stdout",
     "output_type": "stream",
     "text": [
      "====== Logistic Regression ======\n",
      "Epoch 0, Loss 0.2283\n",
      "Training Accuracy: 0.6944, Testing Accuracy: 0.6799\n",
      "\n"
     ]
    },
    {
     "name": "stdout",
     "output_type": "stream",
     "text": [
      "Epoch 10, Loss 0.1089\n",
      "Training Accuracy: 0.8907, Testing Accuracy: 0.8952\n",
      "\n"
     ]
    },
    {
     "name": "stdout",
     "output_type": "stream",
     "text": [
      "Epoch 20, Loss 0.0836\n",
      "Training Accuracy: 0.9172, Testing Accuracy: 0.9264\n",
      "\n"
     ]
    },
    {
     "name": "stdout",
     "output_type": "stream",
     "text": [
      "Epoch 30, Loss 0.0715\n",
      "Training Accuracy: 0.9295, Testing Accuracy: 0.9430\n",
      "\n"
     ]
    },
    {
     "name": "stdout",
     "output_type": "stream",
     "text": [
      "Epoch 40, Loss 0.0641\n",
      "Training Accuracy: 0.9362, Testing Accuracy: 0.9471\n",
      "\n"
     ]
    },
    {
     "name": "stdout",
     "output_type": "stream",
     "text": [
      "Epoch 50, Loss 0.0592\n",
      "Training Accuracy: 0.9411, Testing Accuracy: 0.9496\n",
      "\n"
     ]
    },
    {
     "name": "stdout",
     "output_type": "stream",
     "text": [
      "Epoch 60, Loss 0.0555\n",
      "Training Accuracy: 0.9441, Testing Accuracy: 0.9496\n",
      "\n"
     ]
    },
    {
     "name": "stdout",
     "output_type": "stream",
     "text": [
      "Epoch 70, Loss 0.0527\n",
      "Training Accuracy: 0.9468, Testing Accuracy: 0.9546\n",
      "\n"
     ]
    },
    {
     "name": "stdout",
     "output_type": "stream",
     "text": [
      "Epoch 80, Loss 0.0505\n",
      "Training Accuracy: 0.9481, Testing Accuracy: 0.9577\n",
      "\n"
     ]
    },
    {
     "name": "stdout",
     "output_type": "stream",
     "text": [
      "Epoch 90, Loss 0.0486\n",
      "Training Accuracy: 0.9498, Testing Accuracy: 0.9587\n",
      "\n"
     ]
    },
    {
     "name": "stdout",
     "output_type": "stream",
     "text": [
      "Epoch 100, Loss 0.0471\n",
      "Training Accuracy: 0.9517, Testing Accuracy: 0.9612\n",
      "\n"
     ]
    },
    {
     "name": "stdout",
     "output_type": "stream",
     "text": [
      "Epoch 110, Loss 0.0458\n",
      "Training Accuracy: 0.9526, Testing Accuracy: 0.9627\n",
      "\n"
     ]
    },
    {
     "name": "stdout",
     "output_type": "stream",
     "text": [
      "Epoch 120, Loss 0.0446\n",
      "Training Accuracy: 0.9542, Testing Accuracy: 0.9632\n",
      "\n"
     ]
    },
    {
     "name": "stdout",
     "output_type": "stream",
     "text": [
      "Epoch 130, Loss 0.0436\n",
      "Training Accuracy: 0.9552, Testing Accuracy: 0.9632\n",
      "\n"
     ]
    },
    {
     "name": "stdout",
     "output_type": "stream",
     "text": [
      "Epoch 140, Loss 0.0427\n",
      "Training Accuracy: 0.9559, Testing Accuracy: 0.9637\n",
      "\n"
     ]
    },
    {
     "name": "stdout",
     "output_type": "stream",
     "text": [
      "Epoch 150, Loss 0.0419\n",
      "Training Accuracy: 0.9565, Testing Accuracy: 0.9642\n",
      "\n"
     ]
    },
    {
     "name": "stdout",
     "output_type": "stream",
     "text": [
      "Epoch 160, Loss 0.0412\n",
      "Training Accuracy: 0.9570, Testing Accuracy: 0.9647\n",
      "\n"
     ]
    },
    {
     "name": "stdout",
     "output_type": "stream",
     "text": [
      "Epoch 170, Loss 0.0405\n",
      "Training Accuracy: 0.9572, Testing Accuracy: 0.9652\n",
      "\n"
     ]
    },
    {
     "name": "stdout",
     "output_type": "stream",
     "text": [
      "Epoch 180, Loss 0.0399\n",
      "Training Accuracy: 0.9578, Testing Accuracy: 0.9657\n",
      "\n"
     ]
    },
    {
     "name": "stdout",
     "output_type": "stream",
     "text": [
      "Epoch 190, Loss 0.0394\n",
      "Training Accuracy: 0.9586, Testing Accuracy: 0.9657\n",
      "\n"
     ]
    },
    {
     "name": "stdout",
     "output_type": "stream",
     "text": [
      "Epoch 200, Loss 0.0389\n",
      "Training Accuracy: 0.9589, Testing Accuracy: 0.9657\n",
      "\n"
     ]
    },
    {
     "name": "stdout",
     "output_type": "stream",
     "text": [
      "Epoch 210, Loss 0.0384\n",
      "Training Accuracy: 0.9597, Testing Accuracy: 0.9662\n",
      "\n"
     ]
    },
    {
     "name": "stdout",
     "output_type": "stream",
     "text": [
      "Epoch 220, Loss 0.038\n",
      "Training Accuracy: 0.9602, Testing Accuracy: 0.9662\n",
      "\n"
     ]
    },
    {
     "name": "stdout",
     "output_type": "stream",
     "text": [
      "Epoch 230, Loss 0.0376\n",
      "Training Accuracy: 0.9600, Testing Accuracy: 0.9662\n",
      "\n"
     ]
    },
    {
     "name": "stdout",
     "output_type": "stream",
     "text": [
      "Epoch 240, Loss 0.0372\n",
      "Training Accuracy: 0.9603, Testing Accuracy: 0.9662\n",
      "\n"
     ]
    },
    {
     "name": "stdout",
     "output_type": "stream",
     "text": [
      "Epoch 250, Loss 0.0368\n",
      "Training Accuracy: 0.9604, Testing Accuracy: 0.9662\n",
      "\n"
     ]
    },
    {
     "data": {
      "text/plain": [
       "0.00951409451272689"
      ]
     },
     "execution_count": 22,
     "metadata": {},
     "output_type": "execute_result"
    }
   ],
   "source": [
    "print(\"====== Logistic Regression ======\")\n",
    "learner_lr.train_loop(dl)"
   ]
  },
  {
   "cell_type": "markdown",
   "metadata": {
    "papermill": {
     "duration": 0.047162,
     "end_time": "2020-11-18T10:06:30.133563",
     "exception": false,
     "start_time": "2020-11-18T10:06:30.086401",
     "status": "completed"
    },
    "tags": []
   },
   "source": [
    "### Comparing results of NN and LR"
   ]
  },
  {
   "cell_type": "code",
   "execution_count": 23,
   "metadata": {
    "execution": {
     "iopub.execute_input": "2020-11-18T10:06:30.234467Z",
     "iopub.status.busy": "2020-11-18T10:06:30.233542Z",
     "iopub.status.idle": "2020-11-18T10:06:30.483875Z",
     "shell.execute_reply": "2020-11-18T10:06:30.484635Z"
    },
    "papermill": {
     "duration": 0.305048,
     "end_time": "2020-11-18T10:06:30.484883",
     "exception": false,
     "start_time": "2020-11-18T10:06:30.179835",
     "status": "completed"
    },
    "tags": []
   },
   "outputs": [
    {
     "data": {
      "text/plain": [
       "<matplotlib.legend.Legend at 0x7fae03ad29b0>"
      ]
     },
     "execution_count": 23,
     "metadata": {},
     "output_type": "execute_result"
    },
    {
     "data": {
      "image/png": "[encoded data removed]",
      "text/plain": [
       "<Figure size 1080x720 with 1 Axes>"
      ]
     },
     "metadata": {
      "needs_background": "light"
     },
     "output_type": "display_data"
    }
   ],
   "source": [
    "plt.figure(figsize=(15,10))\n",
    "\n",
    "# Neural Network plots\n",
    "plt.plot(acc_nn.accuracies, 'r-', label = \"Training Accuracies - NN\")\n",
    "plt.plot(acc_nn.test_accuracies, 'g-', label = \"Testing Accuracies - NN\")\n",
    "\n",
    "# Logistic Regression plots\n",
    "plt.plot(acc_lr.accuracies, 'k-', label = \"Training Accuracies - LR\")\n",
    "plt.plot(acc_lr.test_accuracies, 'b-', label = \"Testing Accuracies - LR\")\n",
    "\n",
    "plt.ylim(0.8, 1)\n",
    "\n",
    "plt.legend()\n",
    "\n"
   ]
  },
  {
   "cell_type": "markdown",
   "metadata": {
    "papermill": {
     "duration": 0.048656,
     "end_time": "2020-11-18T10:06:30.582914",
     "exception": false,
     "start_time": "2020-11-18T10:06:30.534258",
     "status": "completed"
    },
    "tags": []
   },
   "source": [
    "### From the plot, we can observe the following:\n",
    "- Neural Network achieves higher accuracy than the Logistic Regression model.\n",
    "- This apparently, is because of overfitting, i.e. NN captures more noise than data.\n",
    "- Testing accuracy of NN drops below the Training accuracy at higher epochs. This explains the over-fitting on training data.\n",
    "- Logistic Regression gives a reliable accuracy, without the above mentioned problem.\n"
   ]
  },
  {
   "cell_type": "markdown",
   "metadata": {
    "papermill": {
     "duration": 0.048013,
     "end_time": "2020-11-18T10:06:30.679030",
     "exception": false,
     "start_time": "2020-11-18T10:06:30.631017",
     "status": "completed"
    },
    "tags": []
   },
   "source": [
    "### Moving till the last but one layer (excluding it).\n",
    "#### Plotting the outputs of this layer of the NN."
   ]
  },
  {
   "cell_type": "code",
   "execution_count": 24,
   "metadata": {
    "execution": {
     "iopub.execute_input": "2020-11-18T10:06:30.783172Z",
     "iopub.status.busy": "2020-11-18T10:06:30.782544Z",
     "iopub.status.idle": "2020-11-18T10:06:30.794475Z",
     "shell.execute_reply": "2020-11-18T10:06:30.793968Z"
    },
    "papermill": {
     "duration": 0.067292,
     "end_time": "2020-11-18T10:06:30.794611",
     "exception": false,
     "start_time": "2020-11-18T10:06:30.727319",
     "status": "completed"
    },
    "tags": []
   },
   "outputs": [],
   "source": [
    "model_new = Model(layers[:-2])"
   ]
  },
  {
   "cell_type": "code",
   "execution_count": 25,
   "metadata": {
    "execution": {
     "iopub.execute_input": "2020-11-18T10:06:30.896335Z",
     "iopub.status.busy": "2020-11-18T10:06:30.895719Z",
     "iopub.status.idle": "2020-11-18T10:06:30.919048Z",
     "shell.execute_reply": "2020-11-18T10:06:30.919813Z"
    },
    "papermill": {
     "duration": 0.076779,
     "end_time": "2020-11-18T10:06:30.919980",
     "exception": false,
     "start_time": "2020-11-18T10:06:30.843201",
     "status": "completed"
    },
    "tags": []
   },
   "outputs": [],
   "source": [
    "plot_testing = model_new(testing_xdata)"
   ]
  },
  {
   "cell_type": "code",
   "execution_count": 26,
   "metadata": {
    "execution": {
     "iopub.execute_input": "2020-11-18T10:06:31.027412Z",
     "iopub.status.busy": "2020-11-18T10:06:31.026801Z",
     "iopub.status.idle": "2020-11-18T10:06:31.229111Z",
     "shell.execute_reply": "2020-11-18T10:06:31.229630Z"
    },
    "papermill": {
     "duration": 0.261226,
     "end_time": "2020-11-18T10:06:31.229815",
     "exception": false,
     "start_time": "2020-11-18T10:06:30.968589",
     "status": "completed"
    },
    "tags": []
   },
   "outputs": [
    {
     "data": {
      "text/plain": [
       "Text(0.5, 1.0, 'Outputs')"
      ]
     },
     "execution_count": 26,
     "metadata": {},
     "output_type": "execute_result"
    },
    {
     "data": {
      "image/png": "[encoded data removed]",
      "text/plain": [
       "<Figure size 576x504 with 1 Axes>"
      ]
     },
     "metadata": {
      "needs_background": "light"
     },
     "output_type": "display_data"
    }
   ],
   "source": [
    "plt.figure(figsize=(8,7))\n",
    "plt.scatter(plot_testing[:,0], plot_testing[:,1], alpha = 0.1, c = y_test.ravel());\n",
    "plt.title('Outputs')"
   ]
  },
  {
   "cell_type": "markdown",
   "metadata": {
    "papermill": {
     "duration": 0.049935,
     "end_time": "2020-11-18T10:06:31.330164",
     "exception": false,
     "start_time": "2020-11-18T10:06:31.280229",
     "status": "completed"
    },
    "tags": []
   },
   "source": [
    "### Plotting probability contours"
   ]
  },
  {
   "cell_type": "code",
   "execution_count": 27,
   "metadata": {
    "execution": {
     "iopub.execute_input": "2020-11-18T10:06:31.442634Z",
     "iopub.status.busy": "2020-11-18T10:06:31.440113Z",
     "iopub.status.idle": "2020-11-18T10:06:31.450957Z",
     "shell.execute_reply": "2020-11-18T10:06:31.450405Z"
    },
    "papermill": {
     "duration": 0.070747,
     "end_time": "2020-11-18T10:06:31.451087",
     "exception": false,
     "start_time": "2020-11-18T10:06:31.380340",
     "status": "completed"
    },
    "tags": []
   },
   "outputs": [],
   "source": [
    "model_prob = Model(layers[-2:]) "
   ]
  },
  {
   "cell_type": "code",
   "execution_count": 28,
   "metadata": {
    "execution": {
     "iopub.execute_input": "2020-11-18T10:06:31.558434Z",
     "iopub.status.busy": "2020-11-18T10:06:31.557805Z",
     "iopub.status.idle": "2020-11-18T10:06:31.573180Z",
     "shell.execute_reply": "2020-11-18T10:06:31.573653Z"
    },
    "papermill": {
     "duration": 0.072504,
     "end_time": "2020-11-18T10:06:31.573831",
     "exception": false,
     "start_time": "2020-11-18T10:06:31.501327",
     "status": "completed"
    },
    "tags": []
   },
   "outputs": [],
   "source": [
    "# Adjust the x and y ranges according to the above generated plot.\n",
    "x_range = np.linspace(-4, 1, 100) \n",
    "y_range = np.linspace(-6, 6, 100) \n",
    "x_grid, y_grid = np.meshgrid(x_range, y_range) # x_grid and y_grig are of size 100 X 100\n",
    "\n",
    "# converting x_grid and y_grid to continuous arrays\n",
    "x_grid_flat = np.ravel(x_grid)\n",
    "y_grid_flat = np.ravel(y_grid)\n",
    "\n",
    "# The last layer of the current model takes two columns as input. Hence transpose of np.vstack() is required.\n",
    "X = np.vstack((x_grid_flat, y_grid_flat)).T\n",
    "\n",
    "# x_grid and y_grid are of size 100 x 100\n",
    "probability_contour = model_prob(X).reshape(100,100) "
   ]
  },
  {
   "cell_type": "code",
   "execution_count": 29,
   "metadata": {
    "execution": {
     "iopub.execute_input": "2020-11-18T10:06:31.683636Z",
     "iopub.status.busy": "2020-11-18T10:06:31.683019Z",
     "iopub.status.idle": "2020-11-18T10:06:31.948641Z",
     "shell.execute_reply": "2020-11-18T10:06:31.949138Z"
    },
    "papermill": {
     "duration": 0.32491,
     "end_time": "2020-11-18T10:06:31.949303",
     "exception": false,
     "start_time": "2020-11-18T10:06:31.624393",
     "status": "completed"
    },
    "tags": []
   },
   "outputs": [
    {
     "data": {
      "image/png": "[encoded data removed]",
      "text/plain": [
       "<Figure size 720x648 with 1 Axes>"
      ]
     },
     "metadata": {
      "needs_background": "light"
     },
     "output_type": "display_data"
    }
   ],
   "source": [
    "plt.figure(figsize=(10,9))\n",
    "plt.scatter(plot_testing[:,0], plot_testing[:,1], alpha = 0.1, c = y_test.ravel())\n",
    "contours = plt.contour(x_grid,y_grid,probability_contour)\n",
    "plt.title('Probability Contours')\n",
    "plt.clabel(contours, inline = True );"
   ]
  }
 ],
 "metadata": {
  "kernelspec": {
   "display_name": "Python 3",
   "language": "python",
   "name": "python3"
  },
  "language_info": {
   "codemirror_mode": {
    "name": "ipython",
    "version": 3
   },
   "file_extension": ".py",
   "mimetype": "text/x-python",
   "name": "python",
   "nbconvert_exporter": "python",
   "pygments_lexer": "ipython3",
   "version": "3.6.12"
  },
  "papermill": {
   "duration": 113.384192,
   "end_time": "2020-11-18T10:06:33.219199",
   "environment_variables": {},
   "exception": null,
   "input_path": "2020-08-11-NeuralNetwork.ipynb",
   "output_path": "2020-08-11-NeuralNetwork.ipynb",
   "parameters": {},
   "start_time": "2020-11-18T10:04:39.835007",
   "version": "2.1.2"
  }
 },
 "nbformat": 4,
 "nbformat_minor": 4
}