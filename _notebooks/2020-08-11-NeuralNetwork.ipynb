{
 "cells": [
  {
   "cell_type": "markdown",
   "metadata": {
    "papermill": {
     "duration": 0.031461,
     "end_time": "2020-09-22T20:04:24.851251",
     "exception": false,
     "start_time": "2020-09-22T20:04:24.819790",
     "status": "completed"
    },
    "tags": []
   },
   "source": [
    "# \"A Basic Neural Network: Differentiate Hand-Written Digits\"\n",
    "\n",
    "- badges: true\n",
    "- author: Akshith Sriram"
   ]
  },
  {
   "cell_type": "markdown",
   "metadata": {
    "papermill": {
     "duration": 0.026012,
     "end_time": "2020-09-22T20:04:24.903603",
     "exception": false,
     "start_time": "2020-09-22T20:04:24.877591",
     "status": "completed"
    },
    "tags": []
   },
   "source": [
    "### Key Objectives:\n",
    "- Building a neural network that differentiates two hand-written digits 3 and 8.\n",
    "- Comparing the results of this Neural Network (NN) to that of a Logistic Regression (LR) model.\n",
    "\n",
    "### Requirements:\n",
    "- 'Kudzu' : A neural network library that was designed during our course by [Univ.AI](www.univ.ai). \n",
    "- MNIST Database\n",
    "\n",
    "If MNIST is not installed, use the command `!pip install mnist` given below.\n",
    "It can be run both from the command line and Jupyter Notebook."
   ]
  },
  {
   "cell_type": "code",
   "execution_count": 1,
   "metadata": {
    "execution": {
     "iopub.execute_input": "2020-09-22T20:04:24.958874Z",
     "iopub.status.busy": "2020-09-22T20:04:24.958263Z",
     "iopub.status.idle": "2020-09-22T20:04:26.377647Z",
     "shell.execute_reply": "2020-09-22T20:04:26.377107Z"
    },
    "papermill": {
     "duration": 1.449451,
     "end_time": "2020-09-22T20:04:26.377806",
     "exception": false,
     "start_time": "2020-09-22T20:04:24.928355",
     "status": "completed"
    },
    "tags": []
   },
   "outputs": [
    {
     "name": "stdout",
     "output_type": "stream",
     "text": [
      "Collecting mnist\r\n"
     ]
    },
    {
     "name": "stdout",
     "output_type": "stream",
     "text": [
      "  Downloading mnist-0.2.2-py2.py3-none-any.whl (3.5 kB)\r\n"
     ]
    },
    {
     "name": "stdout",
     "output_type": "stream",
     "text": [
      "Requirement already satisfied: numpy in /opt/hostedtoolcache/Python/3.6.12/x64/lib/python3.6/site-packages (from mnist) (1.19.2)\r\n"
     ]
    },
    {
     "name": "stdout",
     "output_type": "stream",
     "text": [
      "Installing collected packages: mnist\r\n"
     ]
    },
    {
     "name": "stdout",
     "output_type": "stream",
     "text": [
      "Successfully installed mnist-0.2.2\r\n"
     ]
    }
   ],
   "source": [
    "!pip install mnist "
   ]
  },
  {
   "cell_type": "markdown",
   "metadata": {
    "papermill": {
     "duration": 0.025384,
     "end_time": "2020-09-22T20:04:26.431120",
     "exception": false,
     "start_time": "2020-09-22T20:04:26.405736",
     "status": "completed"
    },
    "tags": []
   },
   "source": [
    "#### Importing necessary libraries"
   ]
  },
  {
   "cell_type": "code",
   "execution_count": 2,
   "metadata": {
    "execution": {
     "iopub.execute_input": "2020-09-22T20:04:26.489792Z",
     "iopub.status.busy": "2020-09-22T20:04:26.489194Z",
     "iopub.status.idle": "2020-09-22T20:04:27.014810Z",
     "shell.execute_reply": "2020-09-22T20:04:27.014281Z"
    },
    "papermill": {
     "duration": 0.557964,
     "end_time": "2020-09-22T20:04:27.014948",
     "exception": false,
     "start_time": "2020-09-22T20:04:26.456984",
     "status": "completed"
    },
    "tags": []
   },
   "outputs": [],
   "source": [
    "%load_ext autoreload\n",
    "%autoreload 2\n",
    "\n",
    "%matplotlib inline\n",
    "import matplotlib.pyplot as plt\n",
    "\n",
    "import numpy as np\n",
    "import pandas as pd"
   ]
  },
  {
   "cell_type": "markdown",
   "metadata": {
    "papermill": {
     "duration": 0.036601,
     "end_time": "2020-09-22T20:04:27.078210",
     "exception": false,
     "start_time": "2020-09-22T20:04:27.041609",
     "status": "completed"
    },
    "tags": []
   },
   "source": [
    "### Preparing the Data"
   ]
  },
  {
   "cell_type": "code",
   "execution_count": 3,
   "metadata": {
    "execution": {
     "iopub.execute_input": "2020-09-22T20:04:27.147010Z",
     "iopub.status.busy": "2020-09-22T20:04:27.146087Z",
     "iopub.status.idle": "2020-09-22T20:04:27.149912Z",
     "shell.execute_reply": "2020-09-22T20:04:27.150445Z"
    },
    "papermill": {
     "duration": 0.046676,
     "end_time": "2020-09-22T20:04:27.150574",
     "exception": false,
     "start_time": "2020-09-22T20:04:27.103898",
     "status": "completed"
    },
    "tags": []
   },
   "outputs": [],
   "source": [
    "import mnist"
   ]
  },
  {
   "cell_type": "code",
   "execution_count": 4,
   "metadata": {
    "execution": {
     "iopub.execute_input": "2020-09-22T20:04:27.215104Z",
     "iopub.status.busy": "2020-09-22T20:04:27.207210Z",
     "iopub.status.idle": "2020-09-22T20:04:28.066250Z",
     "shell.execute_reply": "2020-09-22T20:04:28.066792Z"
    },
    "papermill": {
     "duration": 0.890427,
     "end_time": "2020-09-22T20:04:28.066980",
     "exception": false,
     "start_time": "2020-09-22T20:04:27.176553",
     "status": "completed"
    },
    "tags": []
   },
   "outputs": [],
   "source": [
    "train_images = mnist.train_images()\n",
    "train_labels = mnist.train_labels()"
   ]
  },
  {
   "cell_type": "code",
   "execution_count": 5,
   "metadata": {
    "execution": {
     "iopub.execute_input": "2020-09-22T20:04:28.140586Z",
     "iopub.status.busy": "2020-09-22T20:04:28.131460Z",
     "iopub.status.idle": "2020-09-22T20:04:28.145693Z",
     "shell.execute_reply": "2020-09-22T20:04:28.145206Z"
    },
    "papermill": {
     "duration": 0.052087,
     "end_time": "2020-09-22T20:04:28.145809",
     "exception": false,
     "start_time": "2020-09-22T20:04:28.093722",
     "status": "completed"
    },
    "tags": []
   },
   "outputs": [
    {
     "data": {
      "text/plain": [
       "((60000, 28, 28), (60000,))"
      ]
     },
     "execution_count": 5,
     "metadata": {},
     "output_type": "execute_result"
    }
   ],
   "source": [
    "train_images.shape, train_labels.shape"
   ]
  },
  {
   "cell_type": "code",
   "execution_count": 6,
   "metadata": {
    "execution": {
     "iopub.execute_input": "2020-09-22T20:04:28.205827Z",
     "iopub.status.busy": "2020-09-22T20:04:28.205162Z",
     "iopub.status.idle": "2020-09-22T20:04:28.549815Z",
     "shell.execute_reply": "2020-09-22T20:04:28.549296Z"
    },
    "papermill": {
     "duration": 0.37492,
     "end_time": "2020-09-22T20:04:28.549953",
     "exception": false,
     "start_time": "2020-09-22T20:04:28.175033",
     "status": "completed"
    },
    "tags": []
   },
   "outputs": [],
   "source": [
    "test_images = mnist.test_images()\n",
    "test_labels = mnist.test_labels()"
   ]
  },
  {
   "cell_type": "code",
   "execution_count": 7,
   "metadata": {
    "execution": {
     "iopub.execute_input": "2020-09-22T20:04:28.606261Z",
     "iopub.status.busy": "2020-09-22T20:04:28.605693Z",
     "iopub.status.idle": "2020-09-22T20:04:28.616932Z",
     "shell.execute_reply": "2020-09-22T20:04:28.617478Z"
    },
    "papermill": {
     "duration": 0.041171,
     "end_time": "2020-09-22T20:04:28.617601",
     "exception": false,
     "start_time": "2020-09-22T20:04:28.576430",
     "status": "completed"
    },
    "tags": []
   },
   "outputs": [
    {
     "data": {
      "text/plain": [
       "((10000, 28, 28), (10000,))"
      ]
     },
     "execution_count": 7,
     "metadata": {},
     "output_type": "execute_result"
    }
   ],
   "source": [
    "test_images.shape, test_labels.shape"
   ]
  },
  {
   "cell_type": "code",
   "execution_count": 8,
   "metadata": {
    "execution": {
     "iopub.execute_input": "2020-09-22T20:04:28.673635Z",
     "iopub.status.busy": "2020-09-22T20:04:28.673069Z",
     "iopub.status.idle": "2020-09-22T20:04:28.827252Z",
     "shell.execute_reply": "2020-09-22T20:04:28.828315Z"
    },
    "papermill": {
     "duration": 0.183776,
     "end_time": "2020-09-22T20:04:28.828488",
     "exception": false,
     "start_time": "2020-09-22T20:04:28.644712",
     "status": "completed"
    },
    "tags": []
   },
   "outputs": [
    {
     "name": "stdout",
     "output_type": "stream",
     "text": [
      "2\n"
     ]
    },
    {
     "data": {
      "text/plain": [
       "<matplotlib.image.AxesImage at 0x7fece345a7f0>"
      ]
     },
     "execution_count": 8,
     "metadata": {},
     "output_type": "execute_result"
    },
    {
     "data": {
      "image/png": "[encoded data removed]",
      "text/plain": [
       "<Figure size 432x288 with 1 Axes>"
      ]
     },
     "metadata": {
      "needs_background": "light"
     },
     "output_type": "display_data"
    }
   ],
   "source": [
    "image_index = 7776 # You may select anything up to 60,000\n",
    "print(train_labels[image_index]) \n",
    "plt.imshow(train_images[image_index], cmap='Greys')"
   ]
  },
  {
   "cell_type": "markdown",
   "metadata": {
    "papermill": {
     "duration": 0.027742,
     "end_time": "2020-09-22T20:04:28.885677",
     "exception": false,
     "start_time": "2020-09-22T20:04:28.857935",
     "status": "completed"
    },
    "tags": []
   },
   "source": [
    "## Filter data to get 3 and 8 out"
   ]
  },
  {
   "cell_type": "code",
   "execution_count": 9,
   "metadata": {
    "execution": {
     "iopub.execute_input": "2020-09-22T20:04:28.946644Z",
     "iopub.status.busy": "2020-09-22T20:04:28.946061Z",
     "iopub.status.idle": "2020-09-22T20:04:28.961360Z",
     "shell.execute_reply": "2020-09-22T20:04:28.960865Z"
    },
    "papermill": {
     "duration": 0.047873,
     "end_time": "2020-09-22T20:04:28.961492",
     "exception": false,
     "start_time": "2020-09-22T20:04:28.913619",
     "status": "completed"
    },
    "tags": []
   },
   "outputs": [],
   "source": [
    "train_filter = np.where((train_labels == 3 ) | (train_labels == 8))\n",
    "test_filter = np.where((test_labels == 3) | (test_labels == 8))\n",
    "X_train, y_train = train_images[train_filter], train_labels[train_filter]\n",
    "X_test, y_test = test_images[test_filter], test_labels[test_filter]"
   ]
  },
  {
   "cell_type": "markdown",
   "metadata": {
    "papermill": {
     "duration": 0.028528,
     "end_time": "2020-09-22T20:04:29.017548",
     "exception": false,
     "start_time": "2020-09-22T20:04:28.989020",
     "status": "completed"
    },
    "tags": []
   },
   "source": [
    "We normalize the pixel values in the 0 to 1 range"
   ]
  },
  {
   "cell_type": "code",
   "execution_count": 10,
   "metadata": {
    "execution": {
     "iopub.execute_input": "2020-09-22T20:04:29.086960Z",
     "iopub.status.busy": "2020-09-22T20:04:29.081526Z",
     "iopub.status.idle": "2020-09-22T20:04:29.138829Z",
     "shell.execute_reply": "2020-09-22T20:04:29.138291Z"
    },
    "papermill": {
     "duration": 0.093928,
     "end_time": "2020-09-22T20:04:29.138967",
     "exception": false,
     "start_time": "2020-09-22T20:04:29.045039",
     "status": "completed"
    },
    "tags": []
   },
   "outputs": [],
   "source": [
    "X_train = X_train/255.\n",
    "X_test = X_test/255."
   ]
  },
  {
   "cell_type": "markdown",
   "metadata": {
    "papermill": {
     "duration": 0.028335,
     "end_time": "2020-09-22T20:04:29.195005",
     "exception": false,
     "start_time": "2020-09-22T20:04:29.166670",
     "status": "completed"
    },
    "tags": []
   },
   "source": [
    "Setup the labels as 1 (when the digit is 3) and 0 (when the digit is 8)"
   ]
  },
  {
   "cell_type": "code",
   "execution_count": 11,
   "metadata": {
    "execution": {
     "iopub.execute_input": "2020-09-22T20:04:29.257551Z",
     "iopub.status.busy": "2020-09-22T20:04:29.256972Z",
     "iopub.status.idle": "2020-09-22T20:04:29.268977Z",
     "shell.execute_reply": "2020-09-22T20:04:29.268455Z"
    },
    "papermill": {
     "duration": 0.044885,
     "end_time": "2020-09-22T20:04:29.269095",
     "exception": false,
     "start_time": "2020-09-22T20:04:29.224210",
     "status": "completed"
    },
    "tags": []
   },
   "outputs": [],
   "source": [
    "y_train = 1*(y_train==3)\n",
    "y_test = 1*(y_test==3)"
   ]
  },
  {
   "cell_type": "code",
   "execution_count": 12,
   "metadata": {
    "execution": {
     "iopub.execute_input": "2020-09-22T20:04:29.337217Z",
     "iopub.status.busy": "2020-09-22T20:04:29.331398Z",
     "iopub.status.idle": "2020-09-22T20:04:29.340710Z",
     "shell.execute_reply": "2020-09-22T20:04:29.340241Z"
    },
    "papermill": {
     "duration": 0.04457,
     "end_time": "2020-09-22T20:04:29.340825",
     "exception": false,
     "start_time": "2020-09-22T20:04:29.296255",
     "status": "completed"
    },
    "tags": []
   },
   "outputs": [
    {
     "data": {
      "text/plain": [
       "((11982, 28, 28), (1984, 28, 28))"
      ]
     },
     "execution_count": 12,
     "metadata": {},
     "output_type": "execute_result"
    }
   ],
   "source": [
    "X_train.shape, X_test.shape"
   ]
  },
  {
   "cell_type": "markdown",
   "metadata": {
    "papermill": {
     "duration": 0.028373,
     "end_time": "2020-09-22T20:04:29.396394",
     "exception": false,
     "start_time": "2020-09-22T20:04:29.368021",
     "status": "completed"
    },
    "tags": []
   },
   "source": [
    "### Reshape the input data to create a linear array"
   ]
  },
  {
   "cell_type": "code",
   "execution_count": 13,
   "metadata": {
    "execution": {
     "iopub.execute_input": "2020-09-22T20:04:29.456358Z",
     "iopub.status.busy": "2020-09-22T20:04:29.455785Z",
     "iopub.status.idle": "2020-09-22T20:04:29.467287Z",
     "shell.execute_reply": "2020-09-22T20:04:29.467875Z"
    },
    "papermill": {
     "duration": 0.044032,
     "end_time": "2020-09-22T20:04:29.468211",
     "exception": false,
     "start_time": "2020-09-22T20:04:29.424179",
     "status": "completed"
    },
    "tags": []
   },
   "outputs": [
    {
     "data": {
      "text/plain": [
       "((11982, 784), (1984, 784))"
      ]
     },
     "execution_count": 13,
     "metadata": {},
     "output_type": "execute_result"
    }
   ],
   "source": [
    "X_train = X_train.reshape(X_train.shape[0], -1)\n",
    "X_test = X_test.reshape(X_test.shape[0], -1)\n",
    "X_train.shape, X_test.shape"
   ]
  },
  {
   "cell_type": "markdown",
   "metadata": {
    "papermill": {
     "duration": 0.0292,
     "end_time": "2020-09-22T20:04:29.526325",
     "exception": false,
     "start_time": "2020-09-22T20:04:29.497125",
     "status": "completed"
    },
    "tags": []
   },
   "source": [
    "### Importing appropriate functions from 'Kudzu'"
   ]
  },
  {
   "cell_type": "code",
   "execution_count": 14,
   "metadata": {
    "execution": {
     "iopub.execute_input": "2020-09-22T20:04:29.590788Z",
     "iopub.status.busy": "2020-09-22T20:04:29.590153Z",
     "iopub.status.idle": "2020-09-22T20:04:29.606478Z",
     "shell.execute_reply": "2020-09-22T20:04:29.607019Z"
    },
    "papermill": {
     "duration": 0.052477,
     "end_time": "2020-09-22T20:04:29.607181",
     "exception": false,
     "start_time": "2020-09-22T20:04:29.554704",
     "status": "completed"
    },
    "tags": []
   },
   "outputs": [],
   "source": [
    "from kudzu.layer import Sigmoid\n",
    "from kudzu.layer import Relu\n",
    "from kudzu.layer import Affine, Sigmoid\n",
    "\n",
    "from kudzu.model import Model\n",
    "from kudzu.train import Learner\n",
    "from kudzu.optim import GD\n",
    "from kudzu.data import Data, Dataloader, Sampler\n",
    "\n",
    "from kudzu.callbacks import AccCallback\n",
    "from kudzu.callbacks import ClfCallback\n",
    "\n",
    "from kudzu.loss import MSE"
   ]
  },
  {
   "cell_type": "markdown",
   "metadata": {
    "papermill": {
     "duration": 0.028236,
     "end_time": "2020-09-22T20:04:29.664249",
     "exception": false,
     "start_time": "2020-09-22T20:04:29.636013",
     "status": "completed"
    },
    "tags": []
   },
   "source": [
    "### Let us create a `Config` class, to store important parameters. \n",
    "This class essentially plays the role of a dictionary."
   ]
  },
  {
   "cell_type": "code",
   "execution_count": 15,
   "metadata": {
    "execution": {
     "iopub.execute_input": "2020-09-22T20:04:29.726119Z",
     "iopub.status.busy": "2020-09-22T20:04:29.725540Z",
     "iopub.status.idle": "2020-09-22T20:04:29.738125Z",
     "shell.execute_reply": "2020-09-22T20:04:29.737629Z"
    },
    "papermill": {
     "duration": 0.045892,
     "end_time": "2020-09-22T20:04:29.738241",
     "exception": false,
     "start_time": "2020-09-22T20:04:29.692349",
     "status": "completed"
    },
    "tags": []
   },
   "outputs": [],
   "source": [
    "class Config:\n",
    "    pass\n",
    "config = Config()\n",
    "config.lr = 0.001\n",
    "config.num_epochs = 251\n",
    "config.bs = 50"
   ]
  },
  {
   "cell_type": "markdown",
   "metadata": {
    "papermill": {
     "duration": 0.027991,
     "end_time": "2020-09-22T20:04:29.794269",
     "exception": false,
     "start_time": "2020-09-22T20:04:29.766278",
     "status": "completed"
    },
    "tags": []
   },
   "source": [
    "### Initializing data to the variables"
   ]
  },
  {
   "cell_type": "code",
   "execution_count": 16,
   "metadata": {
    "execution": {
     "iopub.execute_input": "2020-09-22T20:04:29.855366Z",
     "iopub.status.busy": "2020-09-22T20:04:29.854426Z",
     "iopub.status.idle": "2020-09-22T20:04:29.865858Z",
     "shell.execute_reply": "2020-09-22T20:04:29.865365Z"
    },
    "papermill": {
     "duration": 0.043506,
     "end_time": "2020-09-22T20:04:29.865971",
     "exception": false,
     "start_time": "2020-09-22T20:04:29.822465",
     "status": "completed"
    },
    "tags": []
   },
   "outputs": [],
   "source": [
    "data = Data(X_train, y_train.reshape(-1,1))\n",
    "sampler = Sampler(data, config.bs, shuffle=True)\n",
    "\n",
    "dl = Dataloader(data, sampler)\n",
    "\n",
    "opt = GD(config.lr)\n",
    "loss = MSE()"
   ]
  },
  {
   "cell_type": "code",
   "execution_count": 17,
   "metadata": {
    "execution": {
     "iopub.execute_input": "2020-09-22T20:04:29.937057Z",
     "iopub.status.busy": "2020-09-22T20:04:29.933751Z",
     "iopub.status.idle": "2020-09-22T20:04:29.939048Z",
     "shell.execute_reply": "2020-09-22T20:04:29.939507Z"
    },
    "papermill": {
     "duration": 0.045759,
     "end_time": "2020-09-22T20:04:29.939636",
     "exception": false,
     "start_time": "2020-09-22T20:04:29.893877",
     "status": "completed"
    },
    "tags": []
   },
   "outputs": [],
   "source": [
    "training_xdata = X_train\n",
    "testing_xdata = X_test\n",
    "training_ydata = y_train.reshape(-1,1)\n",
    "testing_ydata = y_test.reshape(-1,1)"
   ]
  },
  {
   "cell_type": "markdown",
   "metadata": {
    "papermill": {
     "duration": 0.027647,
     "end_time": "2020-09-22T20:04:29.995034",
     "exception": false,
     "start_time": "2020-09-22T20:04:29.967387",
     "status": "completed"
    },
    "tags": []
   },
   "source": [
    "### Running Models with the Training data\n",
    "Details about the network layers:\n",
    "- A first affine layer has 784 inputs and does 100 affine transforms. These are followed by a Relu\n",
    "- A second affine layer has 100 inputs from the 100 activations of the past layer, and does 100 affine transforms. These are followed by a Relu\n",
    "- A third affine layer has 100 activations and does 2 affine transformations to create an embedding for visualization. There is no non-linearity here.\n",
    "- A final \"logistic regression\" which has an affine transform from 2 inputs to 1 output, which is squeezed through a sigmoid.\n",
    "\n",
    "Help taken from Anshuman's Notebook."
   ]
  },
  {
   "cell_type": "code",
   "execution_count": 18,
   "metadata": {
    "execution": {
     "iopub.execute_input": "2020-09-22T20:04:30.065649Z",
     "iopub.status.busy": "2020-09-22T20:04:30.064984Z",
     "iopub.status.idle": "2020-09-22T20:04:30.084265Z",
     "shell.execute_reply": "2020-09-22T20:04:30.083725Z"
    },
    "papermill": {
     "duration": 0.058631,
     "end_time": "2020-09-22T20:04:30.084403",
     "exception": false,
     "start_time": "2020-09-22T20:04:30.025772",
     "status": "completed"
    },
    "tags": []
   },
   "outputs": [],
   "source": [
    "# layers for the Neural Network\n",
    "layers = [Affine(\"first\", 784, 100), Relu(\"first\"), Affine(\"second\", 100, 100), Relu(\"second\"), Affine(\"third\", 100, 2), Affine(\"final\", 2, 1), Sigmoid(\"final\")]\n",
    "model_nn = Model(layers)\n",
    "\n",
    "# layers for the Logistic Regression\n",
    "layers_lr = [Affine(\"logits\", 784, 1), Sigmoid(\"sigmoid\")]\n",
    "model_lr = Model(layers_lr)"
   ]
  },
  {
   "cell_type": "code",
   "execution_count": 19,
   "metadata": {
    "execution": {
     "iopub.execute_input": "2020-09-22T20:04:30.157880Z",
     "iopub.status.busy": "2020-09-22T20:04:30.152229Z",
     "iopub.status.idle": "2020-09-22T20:04:30.160354Z",
     "shell.execute_reply": "2020-09-22T20:04:30.159887Z"
    },
    "papermill": {
     "duration": 0.045895,
     "end_time": "2020-09-22T20:04:30.160466",
     "exception": false,
     "start_time": "2020-09-22T20:04:30.114571",
     "status": "completed"
    },
    "tags": []
   },
   "outputs": [],
   "source": [
    "# suffix _nn stands for Neural Network.\n",
    "learner_nn = Learner(loss, model_nn, opt, config.num_epochs)\n",
    "acc_nn = ClfCallback(learner_nn, config.bs, training_xdata , testing_xdata, training_ydata, testing_ydata)\n",
    "learner_nn.set_callbacks([acc_nn])"
   ]
  },
  {
   "cell_type": "code",
   "execution_count": 20,
   "metadata": {
    "execution": {
     "iopub.execute_input": "2020-09-22T20:04:30.220439Z",
     "iopub.status.busy": "2020-09-22T20:04:30.219751Z",
     "iopub.status.idle": "2020-09-22T20:06:24.451668Z",
     "shell.execute_reply": "2020-09-22T20:06:24.451148Z"
    },
    "papermill": {
     "duration": 114.263478,
     "end_time": "2020-09-22T20:06:24.451802",
     "exception": false,
     "start_time": "2020-09-22T20:04:30.188324",
     "status": "completed"
    },
    "tags": []
   },
   "outputs": [
    {
     "name": "stdout",
     "output_type": "stream",
     "text": [
      "====== Neural Network ======\n"
     ]
    },
    {
     "name": "stdout",
     "output_type": "stream",
     "text": [
      "Epoch 0, Loss 0.2524\n",
      "Training Accuracy: 0.5126, Testing Accuracy: 0.5217\n",
      "\n"
     ]
    },
    {
     "name": "stdout",
     "output_type": "stream",
     "text": [
      "Epoch 10, Loss 0.1314\n",
      "Training Accuracy: 0.9073, Testing Accuracy: 0.9133\n",
      "\n"
     ]
    },
    {
     "name": "stdout",
     "output_type": "stream",
     "text": [
      "Epoch 20, Loss 0.0646\n",
      "Training Accuracy: 0.9396, Testing Accuracy: 0.9501\n",
      "\n"
     ]
    },
    {
     "name": "stdout",
     "output_type": "stream",
     "text": [
      "Epoch 30, Loss 0.0463\n",
      "Training Accuracy: 0.9521, Testing Accuracy: 0.9617\n",
      "\n"
     ]
    },
    {
     "name": "stdout",
     "output_type": "stream",
     "text": [
      "Epoch 40, Loss 0.0388\n",
      "Training Accuracy: 0.9581, Testing Accuracy: 0.9667\n",
      "\n"
     ]
    },
    {
     "name": "stdout",
     "output_type": "stream",
     "text": [
      "Epoch 50, Loss 0.0348\n",
      "Training Accuracy: 0.9608, Testing Accuracy: 0.9682\n",
      "\n"
     ]
    },
    {
     "name": "stdout",
     "output_type": "stream",
     "text": [
      "Epoch 60, Loss 0.0322\n",
      "Training Accuracy: 0.9631, Testing Accuracy: 0.9682\n",
      "\n"
     ]
    },
    {
     "name": "stdout",
     "output_type": "stream",
     "text": [
      "Epoch 70, Loss 0.0302\n",
      "Training Accuracy: 0.9650, Testing Accuracy: 0.9693\n",
      "\n"
     ]
    },
    {
     "name": "stdout",
     "output_type": "stream",
     "text": [
      "Epoch 80, Loss 0.0288\n",
      "Training Accuracy: 0.9669, Testing Accuracy: 0.9693\n",
      "\n"
     ]
    },
    {
     "name": "stdout",
     "output_type": "stream",
     "text": [
      "Epoch 90, Loss 0.0275\n",
      "Training Accuracy: 0.9681, Testing Accuracy: 0.9688\n",
      "\n"
     ]
    },
    {
     "name": "stdout",
     "output_type": "stream",
     "text": [
      "Epoch 100, Loss 0.0265\n",
      "Training Accuracy: 0.9698, Testing Accuracy: 0.9693\n",
      "\n"
     ]
    },
    {
     "name": "stdout",
     "output_type": "stream",
     "text": [
      "Epoch 110, Loss 0.0256\n",
      "Training Accuracy: 0.9710, Testing Accuracy: 0.9698\n",
      "\n"
     ]
    },
    {
     "name": "stdout",
     "output_type": "stream",
     "text": [
      "Epoch 120, Loss 0.0248\n",
      "Training Accuracy: 0.9712, Testing Accuracy: 0.9708\n",
      "\n"
     ]
    },
    {
     "name": "stdout",
     "output_type": "stream",
     "text": [
      "Epoch 130, Loss 0.0241\n",
      "Training Accuracy: 0.9725, Testing Accuracy: 0.9703\n",
      "\n"
     ]
    },
    {
     "name": "stdout",
     "output_type": "stream",
     "text": [
      "Epoch 140, Loss 0.0235\n",
      "Training Accuracy: 0.9735, Testing Accuracy: 0.9708\n",
      "\n"
     ]
    },
    {
     "name": "stdout",
     "output_type": "stream",
     "text": [
      "Epoch 150, Loss 0.0229\n",
      "Training Accuracy: 0.9740, Testing Accuracy: 0.9718\n",
      "\n"
     ]
    },
    {
     "name": "stdout",
     "output_type": "stream",
     "text": [
      "Epoch 160, Loss 0.0223\n",
      "Training Accuracy: 0.9745, Testing Accuracy: 0.9723\n",
      "\n"
     ]
    },
    {
     "name": "stdout",
     "output_type": "stream",
     "text": [
      "Epoch 170, Loss 0.0218\n",
      "Training Accuracy: 0.9755, Testing Accuracy: 0.9723\n",
      "\n"
     ]
    },
    {
     "name": "stdout",
     "output_type": "stream",
     "text": [
      "Epoch 180, Loss 0.0213\n",
      "Training Accuracy: 0.9762, Testing Accuracy: 0.9728\n",
      "\n"
     ]
    },
    {
     "name": "stdout",
     "output_type": "stream",
     "text": [
      "Epoch 190, Loss 0.0209\n",
      "Training Accuracy: 0.9769, Testing Accuracy: 0.9718\n",
      "\n"
     ]
    },
    {
     "name": "stdout",
     "output_type": "stream",
     "text": [
      "Epoch 200, Loss 0.0205\n",
      "Training Accuracy: 0.9775, Testing Accuracy: 0.9723\n",
      "\n"
     ]
    },
    {
     "name": "stdout",
     "output_type": "stream",
     "text": [
      "Epoch 210, Loss 0.02\n",
      "Training Accuracy: 0.9779, Testing Accuracy: 0.9723\n",
      "\n"
     ]
    },
    {
     "name": "stdout",
     "output_type": "stream",
     "text": [
      "Epoch 220, Loss 0.0196\n",
      "Training Accuracy: 0.9785, Testing Accuracy: 0.9723\n",
      "\n"
     ]
    },
    {
     "name": "stdout",
     "output_type": "stream",
     "text": [
      "Epoch 230, Loss 0.0192\n",
      "Training Accuracy: 0.9789, Testing Accuracy: 0.9728\n",
      "\n"
     ]
    },
    {
     "name": "stdout",
     "output_type": "stream",
     "text": [
      "Epoch 240, Loss 0.0189\n",
      "Training Accuracy: 0.9794, Testing Accuracy: 0.9733\n",
      "\n"
     ]
    },
    {
     "name": "stdout",
     "output_type": "stream",
     "text": [
      "Epoch 250, Loss 0.0185\n",
      "Training Accuracy: 0.9800, Testing Accuracy: 0.9733\n",
      "\n"
     ]
    },
    {
     "data": {
      "text/plain": [
       "0.003944826936546338"
      ]
     },
     "execution_count": 20,
     "metadata": {},
     "output_type": "execute_result"
    }
   ],
   "source": [
    "print(\"====== Neural Network ======\")\n",
    "learner_nn.train_loop(dl)"
   ]
  },
  {
   "cell_type": "markdown",
   "metadata": {
    "papermill": {
     "duration": 0.039248,
     "end_time": "2020-09-22T20:06:24.528065",
     "exception": false,
     "start_time": "2020-09-22T20:06:24.488817",
     "status": "completed"
    },
    "tags": []
   },
   "source": [
    "### Logistic Regression based Implementation."
   ]
  },
  {
   "cell_type": "code",
   "execution_count": 21,
   "metadata": {
    "execution": {
     "iopub.execute_input": "2020-09-22T20:06:24.609530Z",
     "iopub.status.busy": "2020-09-22T20:06:24.607218Z",
     "iopub.status.idle": "2020-09-22T20:06:24.619100Z",
     "shell.execute_reply": "2020-09-22T20:06:24.619659Z"
    },
    "papermill": {
     "duration": 0.053762,
     "end_time": "2020-09-22T20:06:24.619791",
     "exception": false,
     "start_time": "2020-09-22T20:06:24.566029",
     "status": "completed"
    },
    "tags": []
   },
   "outputs": [],
   "source": [
    "learner_lr = Learner(loss, model_lr, opt, config.num_epochs)\n",
    "acc_lr = ClfCallback(learner_lr, config.bs, training_xdata , testing_xdata, training_ydata, testing_ydata)\n",
    "learner_lr.set_callbacks([acc_lr])"
   ]
  },
  {
   "cell_type": "code",
   "execution_count": 22,
   "metadata": {
    "execution": {
     "iopub.execute_input": "2020-09-22T20:06:24.707846Z",
     "iopub.status.busy": "2020-09-22T20:06:24.700523Z",
     "iopub.status.idle": "2020-09-22T20:06:42.174468Z",
     "shell.execute_reply": "2020-09-22T20:06:42.175145Z"
    },
    "papermill": {
     "duration": 17.519785,
     "end_time": "2020-09-22T20:06:42.175309",
     "exception": false,
     "start_time": "2020-09-22T20:06:24.655524",
     "status": "completed"
    },
    "tags": []
   },
   "outputs": [
    {
     "name": "stdout",
     "output_type": "stream",
     "text": [
      "====== Logistic Regression ======\n",
      "Epoch 0, Loss 0.2533\n",
      "Training Accuracy: 0.6705, Testing Accuracy: 0.6719\n",
      "\n"
     ]
    },
    {
     "name": "stdout",
     "output_type": "stream",
     "text": [
      "Epoch 10, Loss 0.1024\n",
      "Training Accuracy: 0.9144, Testing Accuracy: 0.9219\n",
      "\n"
     ]
    },
    {
     "name": "stdout",
     "output_type": "stream",
     "text": [
      "Epoch 20, Loss 0.079\n",
      "Training Accuracy: 0.9287, Testing Accuracy: 0.9385\n",
      "\n"
     ]
    },
    {
     "name": "stdout",
     "output_type": "stream",
     "text": [
      "Epoch 30, Loss 0.0683\n",
      "Training Accuracy: 0.9366, Testing Accuracy: 0.9466\n",
      "\n"
     ]
    },
    {
     "name": "stdout",
     "output_type": "stream",
     "text": [
      "Epoch 40, Loss 0.0618\n",
      "Training Accuracy: 0.9409, Testing Accuracy: 0.9511\n",
      "\n"
     ]
    },
    {
     "name": "stdout",
     "output_type": "stream",
     "text": [
      "Epoch 50, Loss 0.0573\n",
      "Training Accuracy: 0.9447, Testing Accuracy: 0.9556\n",
      "\n"
     ]
    },
    {
     "name": "stdout",
     "output_type": "stream",
     "text": [
      "Epoch 60, Loss 0.054\n",
      "Training Accuracy: 0.9480, Testing Accuracy: 0.9577\n",
      "\n"
     ]
    },
    {
     "name": "stdout",
     "output_type": "stream",
     "text": [
      "Epoch 70, Loss 0.0515\n",
      "Training Accuracy: 0.9499, Testing Accuracy: 0.9577\n",
      "\n"
     ]
    },
    {
     "name": "stdout",
     "output_type": "stream",
     "text": [
      "Epoch 80, Loss 0.0494\n",
      "Training Accuracy: 0.9508, Testing Accuracy: 0.9592\n",
      "\n"
     ]
    },
    {
     "name": "stdout",
     "output_type": "stream",
     "text": [
      "Epoch 90, Loss 0.0477\n",
      "Training Accuracy: 0.9522, Testing Accuracy: 0.9612\n",
      "\n"
     ]
    },
    {
     "name": "stdout",
     "output_type": "stream",
     "text": [
      "Epoch 100, Loss 0.0463\n",
      "Training Accuracy: 0.9533, Testing Accuracy: 0.9612\n",
      "\n"
     ]
    },
    {
     "name": "stdout",
     "output_type": "stream",
     "text": [
      "Epoch 110, Loss 0.0451\n",
      "Training Accuracy: 0.9543, Testing Accuracy: 0.9607\n",
      "\n"
     ]
    },
    {
     "name": "stdout",
     "output_type": "stream",
     "text": [
      "Epoch 120, Loss 0.044\n",
      "Training Accuracy: 0.9551, Testing Accuracy: 0.9622\n",
      "\n"
     ]
    },
    {
     "name": "stdout",
     "output_type": "stream",
     "text": [
      "Epoch 130, Loss 0.0431\n",
      "Training Accuracy: 0.9558, Testing Accuracy: 0.9627\n",
      "\n"
     ]
    },
    {
     "name": "stdout",
     "output_type": "stream",
     "text": [
      "Epoch 140, Loss 0.0423\n",
      "Training Accuracy: 0.9562, Testing Accuracy: 0.9632\n",
      "\n"
     ]
    },
    {
     "name": "stdout",
     "output_type": "stream",
     "text": [
      "Epoch 150, Loss 0.0415\n",
      "Training Accuracy: 0.9569, Testing Accuracy: 0.9642\n",
      "\n"
     ]
    },
    {
     "name": "stdout",
     "output_type": "stream",
     "text": [
      "Epoch 160, Loss 0.0408\n",
      "Training Accuracy: 0.9573, Testing Accuracy: 0.9642\n",
      "\n"
     ]
    },
    {
     "name": "stdout",
     "output_type": "stream",
     "text": [
      "Epoch 170, Loss 0.0402\n",
      "Training Accuracy: 0.9579, Testing Accuracy: 0.9647\n",
      "\n"
     ]
    },
    {
     "name": "stdout",
     "output_type": "stream",
     "text": [
      "Epoch 180, Loss 0.0396\n",
      "Training Accuracy: 0.9583, Testing Accuracy: 0.9652\n",
      "\n"
     ]
    },
    {
     "name": "stdout",
     "output_type": "stream",
     "text": [
      "Epoch 190, Loss 0.0391\n",
      "Training Accuracy: 0.9589, Testing Accuracy: 0.9652\n",
      "\n"
     ]
    },
    {
     "name": "stdout",
     "output_type": "stream",
     "text": [
      "Epoch 200, Loss 0.0386\n",
      "Training Accuracy: 0.9593, Testing Accuracy: 0.9662\n",
      "\n"
     ]
    },
    {
     "name": "stdout",
     "output_type": "stream",
     "text": [
      "Epoch 210, Loss 0.0382\n",
      "Training Accuracy: 0.9598, Testing Accuracy: 0.9662\n",
      "\n"
     ]
    },
    {
     "name": "stdout",
     "output_type": "stream",
     "text": [
      "Epoch 220, Loss 0.0378\n",
      "Training Accuracy: 0.9601, Testing Accuracy: 0.9667\n",
      "\n"
     ]
    },
    {
     "name": "stdout",
     "output_type": "stream",
     "text": [
      "Epoch 230, Loss 0.0374\n",
      "Training Accuracy: 0.9604, Testing Accuracy: 0.9667\n",
      "\n"
     ]
    },
    {
     "name": "stdout",
     "output_type": "stream",
     "text": [
      "Epoch 240, Loss 0.037\n",
      "Training Accuracy: 0.9606, Testing Accuracy: 0.9667\n",
      "\n"
     ]
    },
    {
     "name": "stdout",
     "output_type": "stream",
     "text": [
      "Epoch 250, Loss 0.0367\n",
      "Training Accuracy: 0.9611, Testing Accuracy: 0.9667\n",
      "\n"
     ]
    },
    {
     "data": {
      "text/plain": [
       "0.03194267427903203"
      ]
     },
     "execution_count": 22,
     "metadata": {},
     "output_type": "execute_result"
    }
   ],
   "source": [
    "print(\"====== Logistic Regression ======\")\n",
    "learner_lr.train_loop(dl)"
   ]
  },
  {
   "cell_type": "markdown",
   "metadata": {
    "papermill": {
     "duration": 0.043968,
     "end_time": "2020-09-22T20:06:42.266433",
     "exception": false,
     "start_time": "2020-09-22T20:06:42.222465",
     "status": "completed"
    },
    "tags": []
   },
   "source": [
    "### Comparing results of NN and LR"
   ]
  },
  {
   "cell_type": "code",
   "execution_count": 23,
   "metadata": {
    "execution": {
     "iopub.execute_input": "2020-09-22T20:06:42.382138Z",
     "iopub.status.busy": "2020-09-22T20:06:42.367478Z",
     "iopub.status.idle": "2020-09-22T20:06:42.607043Z",
     "shell.execute_reply": "2020-09-22T20:06:42.607761Z"
    },
    "papermill": {
     "duration": 0.297848,
     "end_time": "2020-09-22T20:06:42.607920",
     "exception": false,
     "start_time": "2020-09-22T20:06:42.310072",
     "status": "completed"
    },
    "tags": []
   },
   "outputs": [
    {
     "data": {
      "text/plain": [
       "<matplotlib.legend.Legend at 0x7fecdc814048>"
      ]
     },
     "execution_count": 23,
     "metadata": {},
     "output_type": "execute_result"
    },
    {
     "data": {
      "image/png": "[encoded data removed]",
      "text/plain": [
       "<Figure size 1080x720 with 1 Axes>"
      ]
     },
     "metadata": {
      "needs_background": "light"
     },
     "output_type": "display_data"
    }
   ],
   "source": [
    "plt.figure(figsize=(15,10))\n",
    "\n",
    "# Neural Network plots\n",
    "plt.plot(acc_nn.accuracies, 'r-', label = \"Training Accuracies - NN\")\n",
    "plt.plot(acc_nn.test_accuracies, 'g-', label = \"Testing Accuracies - NN\")\n",
    "\n",
    "# Logistic Regression plots\n",
    "plt.plot(acc_lr.accuracies, 'k-', label = \"Training Accuracies - LR\")\n",
    "plt.plot(acc_lr.test_accuracies, 'b-', label = \"Testing Accuracies - LR\")\n",
    "\n",
    "plt.ylim(0.8, 1)\n",
    "\n",
    "plt.legend()\n",
    "\n"
   ]
  },
  {
   "cell_type": "markdown",
   "metadata": {
    "papermill": {
     "duration": 0.045348,
     "end_time": "2020-09-22T20:06:42.698892",
     "exception": false,
     "start_time": "2020-09-22T20:06:42.653544",
     "status": "completed"
    },
    "tags": []
   },
   "source": [
    "### From the plot, we can observe the following:\n",
    "- Neural Network achieves higher accuracy than the Logistic Regression model.\n",
    "- This apparently, is because of overfitting, i.e. NN captures more noise than data.\n",
    "- Testing accuracy of NN drops below the Training accuracy at higher epochs. This explains the over-fitting on training data.\n",
    "- Logistic Regression gives a reliable accuracy, without the above mentioned problem.\n"
   ]
  },
  {
   "cell_type": "markdown",
   "metadata": {
    "papermill": {
     "duration": 0.047258,
     "end_time": "2020-09-22T20:06:42.792174",
     "exception": false,
     "start_time": "2020-09-22T20:06:42.744916",
     "status": "completed"
    },
    "tags": []
   },
   "source": [
    "### Moving till the last but one layer (excluding it).\n",
    "#### Plotting the outputs of this layer of the NN."
   ]
  },
  {
   "cell_type": "code",
   "execution_count": 24,
   "metadata": {
    "execution": {
     "iopub.execute_input": "2020-09-22T20:06:42.894488Z",
     "iopub.status.busy": "2020-09-22T20:06:42.887652Z",
     "iopub.status.idle": "2020-09-22T20:06:42.903349Z",
     "shell.execute_reply": "2020-09-22T20:06:42.902362Z"
    },
    "papermill": {
     "duration": 0.065008,
     "end_time": "2020-09-22T20:06:42.903473",
     "exception": false,
     "start_time": "2020-09-22T20:06:42.838465",
     "status": "completed"
    },
    "tags": []
   },
   "outputs": [],
   "source": [
    "model_new = Model(layers[:-2])"
   ]
  },
  {
   "cell_type": "code",
   "execution_count": 25,
   "metadata": {
    "execution": {
     "iopub.execute_input": "2020-09-22T20:06:42.999131Z",
     "iopub.status.busy": "2020-09-22T20:06:42.998522Z",
     "iopub.status.idle": "2020-09-22T20:06:43.021449Z",
     "shell.execute_reply": "2020-09-22T20:06:43.021971Z"
    },
    "papermill": {
     "duration": 0.073914,
     "end_time": "2020-09-22T20:06:43.022122",
     "exception": false,
     "start_time": "2020-09-22T20:06:42.948208",
     "status": "completed"
    },
    "tags": []
   },
   "outputs": [],
   "source": [
    "plot_testing = model_new(testing_xdata)"
   ]
  },
  {
   "cell_type": "code",
   "execution_count": 26,
   "metadata": {
    "execution": {
     "iopub.execute_input": "2020-09-22T20:06:43.124181Z",
     "iopub.status.busy": "2020-09-22T20:06:43.123603Z",
     "iopub.status.idle": "2020-09-22T20:06:43.323003Z",
     "shell.execute_reply": "2020-09-22T20:06:43.323458Z"
    },
    "papermill": {
     "duration": 0.254743,
     "end_time": "2020-09-22T20:06:43.323609",
     "exception": false,
     "start_time": "2020-09-22T20:06:43.068866",
     "status": "completed"
    },
    "tags": []
   },
   "outputs": [
    {
     "data": {
      "text/plain": [
       "Text(0.5, 1.0, 'Outputs')"
      ]
     },
     "execution_count": 26,
     "metadata": {},
     "output_type": "execute_result"
    },
    {
     "data": {
      "image/png": "[encoded data removed]",
      "text/plain": [
       "<Figure size 576x504 with 1 Axes>"
      ]
     },
     "metadata": {
      "needs_background": "light"
     },
     "output_type": "display_data"
    }
   ],
   "source": [
    "plt.figure(figsize=(8,7))\n",
    "plt.scatter(plot_testing[:,0], plot_testing[:,1], alpha = 0.1, c = y_test.ravel());\n",
    "plt.title('Outputs')"
   ]
  },
  {
   "cell_type": "markdown",
   "metadata": {
    "papermill": {
     "duration": 0.048539,
     "end_time": "2020-09-22T20:06:43.420107",
     "exception": false,
     "start_time": "2020-09-22T20:06:43.371568",
     "status": "completed"
    },
    "tags": []
   },
   "source": [
    "### Plotting probability contours"
   ]
  },
  {
   "cell_type": "code",
   "execution_count": 27,
   "metadata": {
    "execution": {
     "iopub.execute_input": "2020-09-22T20:06:43.520357Z",
     "iopub.status.busy": "2020-09-22T20:06:43.519774Z",
     "iopub.status.idle": "2020-09-22T20:06:43.531043Z",
     "shell.execute_reply": "2020-09-22T20:06:43.531601Z"
    },
    "papermill": {
     "duration": 0.065055,
     "end_time": "2020-09-22T20:06:43.531730",
     "exception": false,
     "start_time": "2020-09-22T20:06:43.466675",
     "status": "completed"
    },
    "tags": []
   },
   "outputs": [],
   "source": [
    "model_prob = Model(layers[-2:]) "
   ]
  },
  {
   "cell_type": "code",
   "execution_count": 28,
   "metadata": {
    "execution": {
     "iopub.execute_input": "2020-09-22T20:06:43.630412Z",
     "iopub.status.busy": "2020-09-22T20:06:43.629828Z",
     "iopub.status.idle": "2020-09-22T20:06:43.641107Z",
     "shell.execute_reply": "2020-09-22T20:06:43.641558Z"
    },
    "papermill": {
     "duration": 0.06271,
     "end_time": "2020-09-22T20:06:43.641688",
     "exception": false,
     "start_time": "2020-09-22T20:06:43.578978",
     "status": "completed"
    },
    "tags": []
   },
   "outputs": [],
   "source": [
    "# Adjust the x and y ranges according to the above generated plot.\n",
    "x_range = np.linspace(-4, 1, 100) \n",
    "y_range = np.linspace(-6, 6, 100) \n",
    "x_grid, y_grid = np.meshgrid(x_range, y_range) # x_grid and y_grig are of size 100 X 100\n",
    "\n",
    "# converting x_grid and y_grid to continuous arrays\n",
    "x_grid_flat = np.ravel(x_grid)\n",
    "y_grid_flat = np.ravel(y_grid)\n",
    "\n",
    "# The last layer of the current model takes two columns as input. Hence transpose of np.vstack() is required.\n",
    "X = np.vstack((x_grid_flat, y_grid_flat)).T\n",
    "\n",
    "# x_grid and y_grid are of size 100 x 100\n",
    "probability_contour = model_prob(X).reshape(100,100) "
   ]
  },
  {
   "cell_type": "code",
   "execution_count": 29,
   "metadata": {
    "execution": {
     "iopub.execute_input": "2020-09-22T20:06:43.751289Z",
     "iopub.status.busy": "2020-09-22T20:06:43.750693Z",
     "iopub.status.idle": "2020-09-22T20:06:43.998287Z",
     "shell.execute_reply": "2020-09-22T20:06:43.997811Z"
    },
    "papermill": {
     "duration": 0.308627,
     "end_time": "2020-09-22T20:06:43.998418",
     "exception": false,
     "start_time": "2020-09-22T20:06:43.689791",
     "status": "completed"
    },
    "tags": []
   },
   "outputs": [
    {
     "data": {
      "image/png": "[encoded data removed]",
      "text/plain": [
       "<Figure size 720x648 with 1 Axes>"
      ]
     },
     "metadata": {
      "needs_background": "light"
     },
     "output_type": "display_data"
    }
   ],
   "source": [
    "plt.figure(figsize=(10,9))\n",
    "plt.scatter(plot_testing[:,0], plot_testing[:,1], alpha = 0.1, c = y_test.ravel())\n",
    "contours = plt.contour(x_grid,y_grid,probability_contour)\n",
    "plt.title('Probability Contours')\n",
    "plt.clabel(contours, inline = True );"
   ]
  }
 ],
 "metadata": {
  "kernelspec": {
   "display_name": "Python 3",
   "language": "python",
   "name": "python3"
  },
  "language_info": {
   "codemirror_mode": {
    "name": "ipython",
    "version": 3
   },
   "file_extension": ".py",
   "mimetype": "text/x-python",
   "name": "python",
   "nbconvert_exporter": "python",
   "pygments_lexer": "ipython3",
   "version": "3.6.12"
  },
  "papermill": {
   "duration": 140.594181,
   "end_time": "2020-09-22T20:06:44.357217",
   "environment_variables": {},
   "exception": null,
   "input_path": "2020-08-11-NeuralNetwork.ipynb",
   "output_path": "2020-08-11-NeuralNetwork.ipynb",
   "parameters": {},
   "start_time": "2020-09-22T20:04:23.763036",
   "version": "2.1.2"
  }
 },
 "nbformat": 4,
 "nbformat_minor": 4
}