{
 "cells": [
  {
   "cell_type": "markdown",
   "metadata": {
    "papermill": {
     "duration": 0.031482,
     "end_time": "2020-10-09T20:05:00.015810",
     "exception": false,
     "start_time": "2020-10-09T20:04:59.984328",
     "status": "completed"
    },
    "tags": []
   },
   "source": [
    "# \"A Basic Neural Network: Differentiate Hand-Written Digits\"\n",
    "\n",
    "- badges: true\n",
    "- author: Akshith Sriram"
   ]
  },
  {
   "cell_type": "markdown",
   "metadata": {
    "papermill": {
     "duration": 0.027539,
     "end_time": "2020-10-09T20:05:00.069672",
     "exception": false,
     "start_time": "2020-10-09T20:05:00.042133",
     "status": "completed"
    },
    "tags": []
   },
   "source": [
    "### Key Objectives:\n",
    "- Building a neural network that differentiates two hand-written digits 3 and 8.\n",
    "- Comparing the results of this Neural Network (NN) to that of a Logistic Regression (LR) model.\n",
    "\n",
    "### Requirements:\n",
    "- 'Kudzu' : A neural network library that was designed during our course by [Univ.AI](www.univ.ai). \n",
    "- MNIST Database\n",
    "\n",
    "If MNIST is not installed, use the command `!pip install mnist` given below.\n",
    "It can be run both from the command line and Jupyter Notebook."
   ]
  },
  {
   "cell_type": "code",
   "execution_count": 1,
   "metadata": {
    "execution": {
     "iopub.execute_input": "2020-10-09T20:05:00.127541Z",
     "iopub.status.busy": "2020-10-09T20:05:00.126905Z",
     "iopub.status.idle": "2020-10-09T20:05:01.594123Z",
     "shell.execute_reply": "2020-10-09T20:05:01.593601Z"
    },
    "papermill": {
     "duration": 1.498414,
     "end_time": "2020-10-09T20:05:01.594280",
     "exception": false,
     "start_time": "2020-10-09T20:05:00.095866",
     "status": "completed"
    },
    "tags": []
   },
   "outputs": [
    {
     "name": "stdout",
     "output_type": "stream",
     "text": [
      "Collecting mnist\r\n"
     ]
    },
    {
     "name": "stdout",
     "output_type": "stream",
     "text": [
      "  Downloading mnist-0.2.2-py2.py3-none-any.whl (3.5 kB)\r\n"
     ]
    },
    {
     "name": "stdout",
     "output_type": "stream",
     "text": [
      "Requirement already satisfied: numpy in /opt/hostedtoolcache/Python/3.6.12/x64/lib/python3.6/site-packages (from mnist) (1.19.2)\r\n"
     ]
    },
    {
     "name": "stdout",
     "output_type": "stream",
     "text": [
      "Installing collected packages: mnist\r\n"
     ]
    },
    {
     "name": "stdout",
     "output_type": "stream",
     "text": [
      "Successfully installed mnist-0.2.2\r\n"
     ]
    }
   ],
   "source": [
    "!pip install mnist "
   ]
  },
  {
   "cell_type": "markdown",
   "metadata": {
    "papermill": {
     "duration": 0.026509,
     "end_time": "2020-10-09T20:05:01.646596",
     "exception": false,
     "start_time": "2020-10-09T20:05:01.620087",
     "status": "completed"
    },
    "tags": []
   },
   "source": [
    "#### Importing necessary libraries"
   ]
  },
  {
   "cell_type": "code",
   "execution_count": 2,
   "metadata": {
    "execution": {
     "iopub.execute_input": "2020-10-09T20:05:01.707616Z",
     "iopub.status.busy": "2020-10-09T20:05:01.707052Z",
     "iopub.status.idle": "2020-10-09T20:05:02.340579Z",
     "shell.execute_reply": "2020-10-09T20:05:02.339569Z"
    },
    "papermill": {
     "duration": 0.667693,
     "end_time": "2020-10-09T20:05:02.340829",
     "exception": false,
     "start_time": "2020-10-09T20:05:01.673136",
     "status": "completed"
    },
    "tags": []
   },
   "outputs": [],
   "source": [
    "%load_ext autoreload\n",
    "%autoreload 2\n",
    "\n",
    "%matplotlib inline\n",
    "import matplotlib.pyplot as plt\n",
    "\n",
    "import numpy as np\n",
    "import pandas as pd"
   ]
  },
  {
   "cell_type": "markdown",
   "metadata": {
    "papermill": {
     "duration": 0.031362,
     "end_time": "2020-10-09T20:05:02.405406",
     "exception": false,
     "start_time": "2020-10-09T20:05:02.374044",
     "status": "completed"
    },
    "tags": []
   },
   "source": [
    "### Preparing the Data"
   ]
  },
  {
   "cell_type": "code",
   "execution_count": 3,
   "metadata": {
    "execution": {
     "iopub.execute_input": "2020-10-09T20:05:02.467671Z",
     "iopub.status.busy": "2020-10-09T20:05:02.467058Z",
     "iopub.status.idle": "2020-10-09T20:05:02.476191Z",
     "shell.execute_reply": "2020-10-09T20:05:02.476791Z"
    },
    "papermill": {
     "duration": 0.044175,
     "end_time": "2020-10-09T20:05:02.476981",
     "exception": false,
     "start_time": "2020-10-09T20:05:02.432806",
     "status": "completed"
    },
    "tags": []
   },
   "outputs": [],
   "source": [
    "import mnist"
   ]
  },
  {
   "cell_type": "code",
   "execution_count": 4,
   "metadata": {
    "execution": {
     "iopub.execute_input": "2020-10-09T20:05:02.562161Z",
     "iopub.status.busy": "2020-10-09T20:05:02.561551Z",
     "iopub.status.idle": "2020-10-09T20:05:03.522393Z",
     "shell.execute_reply": "2020-10-09T20:05:03.521549Z"
    },
    "papermill": {
     "duration": 1.009543,
     "end_time": "2020-10-09T20:05:03.522541",
     "exception": false,
     "start_time": "2020-10-09T20:05:02.512998",
     "status": "completed"
    },
    "tags": []
   },
   "outputs": [],
   "source": [
    "train_images = mnist.train_images()\n",
    "train_labels = mnist.train_labels()"
   ]
  },
  {
   "cell_type": "code",
   "execution_count": 5,
   "metadata": {
    "execution": {
     "iopub.execute_input": "2020-10-09T20:05:03.586768Z",
     "iopub.status.busy": "2020-10-09T20:05:03.584969Z",
     "iopub.status.idle": "2020-10-09T20:05:03.603035Z",
     "shell.execute_reply": "2020-10-09T20:05:03.602478Z"
    },
    "papermill": {
     "duration": 0.050162,
     "end_time": "2020-10-09T20:05:03.603159",
     "exception": false,
     "start_time": "2020-10-09T20:05:03.552997",
     "status": "completed"
    },
    "tags": []
   },
   "outputs": [
    {
     "data": {
      "text/plain": [
       "((60000, 28, 28), (60000,))"
      ]
     },
     "execution_count": 5,
     "metadata": {},
     "output_type": "execute_result"
    }
   ],
   "source": [
    "train_images.shape, train_labels.shape"
   ]
  },
  {
   "cell_type": "code",
   "execution_count": 6,
   "metadata": {
    "execution": {
     "iopub.execute_input": "2020-10-09T20:05:03.687836Z",
     "iopub.status.busy": "2020-10-09T20:05:03.687200Z",
     "iopub.status.idle": "2020-10-09T20:05:04.136478Z",
     "shell.execute_reply": "2020-10-09T20:05:04.135809Z"
    },
    "papermill": {
     "duration": 0.505985,
     "end_time": "2020-10-09T20:05:04.136647",
     "exception": false,
     "start_time": "2020-10-09T20:05:03.630662",
     "status": "completed"
    },
    "tags": []
   },
   "outputs": [],
   "source": [
    "test_images = mnist.test_images()\n",
    "test_labels = mnist.test_labels()"
   ]
  },
  {
   "cell_type": "code",
   "execution_count": 7,
   "metadata": {
    "execution": {
     "iopub.execute_input": "2020-10-09T20:05:04.207422Z",
     "iopub.status.busy": "2020-10-09T20:05:04.206410Z",
     "iopub.status.idle": "2020-10-09T20:05:04.221818Z",
     "shell.execute_reply": "2020-10-09T20:05:04.221301Z"
    },
    "papermill": {
     "duration": 0.053955,
     "end_time": "2020-10-09T20:05:04.221942",
     "exception": false,
     "start_time": "2020-10-09T20:05:04.167987",
     "status": "completed"
    },
    "tags": []
   },
   "outputs": [
    {
     "data": {
      "text/plain": [
       "((10000, 28, 28), (10000,))"
      ]
     },
     "execution_count": 7,
     "metadata": {},
     "output_type": "execute_result"
    }
   ],
   "source": [
    "test_images.shape, test_labels.shape"
   ]
  },
  {
   "cell_type": "code",
   "execution_count": 8,
   "metadata": {
    "execution": {
     "iopub.execute_input": "2020-10-09T20:05:04.283129Z",
     "iopub.status.busy": "2020-10-09T20:05:04.282473Z",
     "iopub.status.idle": "2020-10-09T20:05:04.448254Z",
     "shell.execute_reply": "2020-10-09T20:05:04.448900Z"
    },
    "papermill": {
     "duration": 0.199461,
     "end_time": "2020-10-09T20:05:04.449053",
     "exception": false,
     "start_time": "2020-10-09T20:05:04.249592",
     "status": "completed"
    },
    "tags": []
   },
   "outputs": [
    {
     "name": "stdout",
     "output_type": "stream",
     "text": [
      "2\n"
     ]
    },
    {
     "data": {
      "text/plain": [
       "<matplotlib.image.AxesImage at 0x7fe7a95f9978>"
      ]
     },
     "execution_count": 8,
     "metadata": {},
     "output_type": "execute_result"
    },
    {
     "data": {
      "image/png": "[encoded data removed]",
      "text/plain": [
       "<Figure size 432x288 with 1 Axes>"
      ]
     },
     "metadata": {
      "needs_background": "light"
     },
     "output_type": "display_data"
    }
   ],
   "source": [
    "image_index = 7776 # You may select anything up to 60,000\n",
    "print(train_labels[image_index]) \n",
    "plt.imshow(train_images[image_index], cmap='Greys')"
   ]
  },
  {
   "cell_type": "markdown",
   "metadata": {
    "papermill": {
     "duration": 0.027878,
     "end_time": "2020-10-09T20:05:04.506792",
     "exception": false,
     "start_time": "2020-10-09T20:05:04.478914",
     "status": "completed"
    },
    "tags": []
   },
   "source": [
    "## Filter data to get 3 and 8 out"
   ]
  },
  {
   "cell_type": "code",
   "execution_count": 9,
   "metadata": {
    "execution": {
     "iopub.execute_input": "2020-10-09T20:05:04.587033Z",
     "iopub.status.busy": "2020-10-09T20:05:04.580695Z",
     "iopub.status.idle": "2020-10-09T20:05:04.589102Z",
     "shell.execute_reply": "2020-10-09T20:05:04.589550Z"
    },
    "papermill": {
     "duration": 0.055699,
     "end_time": "2020-10-09T20:05:04.589697",
     "exception": false,
     "start_time": "2020-10-09T20:05:04.533998",
     "status": "completed"
    },
    "tags": []
   },
   "outputs": [],
   "source": [
    "train_filter = np.where((train_labels == 3 ) | (train_labels == 8))\n",
    "test_filter = np.where((test_labels == 3) | (test_labels == 8))\n",
    "X_train, y_train = train_images[train_filter], train_labels[train_filter]\n",
    "X_test, y_test = test_images[test_filter], test_labels[test_filter]"
   ]
  },
  {
   "cell_type": "markdown",
   "metadata": {
    "papermill": {
     "duration": 0.027902,
     "end_time": "2020-10-09T20:05:04.645266",
     "exception": false,
     "start_time": "2020-10-09T20:05:04.617364",
     "status": "completed"
    },
    "tags": []
   },
   "source": [
    "We normalize the pixel values in the 0 to 1 range"
   ]
  },
  {
   "cell_type": "code",
   "execution_count": 10,
   "metadata": {
    "execution": {
     "iopub.execute_input": "2020-10-09T20:05:04.705762Z",
     "iopub.status.busy": "2020-10-09T20:05:04.705139Z",
     "iopub.status.idle": "2020-10-09T20:05:04.771825Z",
     "shell.execute_reply": "2020-10-09T20:05:04.771318Z"
    },
    "papermill": {
     "duration": 0.098224,
     "end_time": "2020-10-09T20:05:04.771961",
     "exception": false,
     "start_time": "2020-10-09T20:05:04.673737",
     "status": "completed"
    },
    "tags": []
   },
   "outputs": [],
   "source": [
    "X_train = X_train/255.\n",
    "X_test = X_test/255."
   ]
  },
  {
   "cell_type": "markdown",
   "metadata": {
    "papermill": {
     "duration": 0.0282,
     "end_time": "2020-10-09T20:05:04.829148",
     "exception": false,
     "start_time": "2020-10-09T20:05:04.800948",
     "status": "completed"
    },
    "tags": []
   },
   "source": [
    "Setup the labels as 1 (when the digit is 3) and 0 (when the digit is 8)"
   ]
  },
  {
   "cell_type": "code",
   "execution_count": 11,
   "metadata": {
    "execution": {
     "iopub.execute_input": "2020-10-09T20:05:04.896317Z",
     "iopub.status.busy": "2020-10-09T20:05:04.895641Z",
     "iopub.status.idle": "2020-10-09T20:05:04.908952Z",
     "shell.execute_reply": "2020-10-09T20:05:04.909608Z"
    },
    "papermill": {
     "duration": 0.050894,
     "end_time": "2020-10-09T20:05:04.909759",
     "exception": false,
     "start_time": "2020-10-09T20:05:04.858865",
     "status": "completed"
    },
    "tags": []
   },
   "outputs": [],
   "source": [
    "y_train = 1*(y_train==3)\n",
    "y_test = 1*(y_test==3)"
   ]
  },
  {
   "cell_type": "code",
   "execution_count": 12,
   "metadata": {
    "execution": {
     "iopub.execute_input": "2020-10-09T20:05:04.977654Z",
     "iopub.status.busy": "2020-10-09T20:05:04.977016Z",
     "iopub.status.idle": "2020-10-09T20:05:04.991514Z",
     "shell.execute_reply": "2020-10-09T20:05:04.992075Z"
    },
    "papermill": {
     "duration": 0.052214,
     "end_time": "2020-10-09T20:05:04.992232",
     "exception": false,
     "start_time": "2020-10-09T20:05:04.940018",
     "status": "completed"
    },
    "tags": []
   },
   "outputs": [
    {
     "data": {
      "text/plain": [
       "((11982, 28, 28), (1984, 28, 28))"
      ]
     },
     "execution_count": 12,
     "metadata": {},
     "output_type": "execute_result"
    }
   ],
   "source": [
    "X_train.shape, X_test.shape"
   ]
  },
  {
   "cell_type": "markdown",
   "metadata": {
    "papermill": {
     "duration": 0.03259,
     "end_time": "2020-10-09T20:05:05.056665",
     "exception": false,
     "start_time": "2020-10-09T20:05:05.024075",
     "status": "completed"
    },
    "tags": []
   },
   "source": [
    "### Reshape the input data to create a linear array"
   ]
  },
  {
   "cell_type": "code",
   "execution_count": 13,
   "metadata": {
    "execution": {
     "iopub.execute_input": "2020-10-09T20:05:05.128134Z",
     "iopub.status.busy": "2020-10-09T20:05:05.127490Z",
     "iopub.status.idle": "2020-10-09T20:05:05.141658Z",
     "shell.execute_reply": "2020-10-09T20:05:05.142159Z"
    },
    "papermill": {
     "duration": 0.05377,
     "end_time": "2020-10-09T20:05:05.142320",
     "exception": false,
     "start_time": "2020-10-09T20:05:05.088550",
     "status": "completed"
    },
    "tags": []
   },
   "outputs": [
    {
     "data": {
      "text/plain": [
       "((11982, 784), (1984, 784))"
      ]
     },
     "execution_count": 13,
     "metadata": {},
     "output_type": "execute_result"
    }
   ],
   "source": [
    "X_train = X_train.reshape(X_train.shape[0], -1)\n",
    "X_test = X_test.reshape(X_test.shape[0], -1)\n",
    "X_train.shape, X_test.shape"
   ]
  },
  {
   "cell_type": "markdown",
   "metadata": {
    "papermill": {
     "duration": 0.032502,
     "end_time": "2020-10-09T20:05:05.205802",
     "exception": false,
     "start_time": "2020-10-09T20:05:05.173300",
     "status": "completed"
    },
    "tags": []
   },
   "source": [
    "### Importing appropriate functions from 'Kudzu'"
   ]
  },
  {
   "cell_type": "code",
   "execution_count": 14,
   "metadata": {
    "execution": {
     "iopub.execute_input": "2020-10-09T20:05:05.284789Z",
     "iopub.status.busy": "2020-10-09T20:05:05.284063Z",
     "iopub.status.idle": "2020-10-09T20:05:05.307000Z",
     "shell.execute_reply": "2020-10-09T20:05:05.306388Z"
    },
    "papermill": {
     "duration": 0.065029,
     "end_time": "2020-10-09T20:05:05.307149",
     "exception": false,
     "start_time": "2020-10-09T20:05:05.242120",
     "status": "completed"
    },
    "tags": []
   },
   "outputs": [],
   "source": [
    "from kudzu.layer import Sigmoid\n",
    "from kudzu.layer import Relu\n",
    "from kudzu.layer import Affine, Sigmoid\n",
    "\n",
    "from kudzu.model import Model\n",
    "from kudzu.train import Learner\n",
    "from kudzu.optim import GD\n",
    "from kudzu.data import Data, Dataloader, Sampler\n",
    "\n",
    "from kudzu.callbacks import AccCallback\n",
    "from kudzu.callbacks import ClfCallback\n",
    "\n",
    "from kudzu.loss import MSE"
   ]
  },
  {
   "cell_type": "markdown",
   "metadata": {
    "papermill": {
     "duration": 0.035937,
     "end_time": "2020-10-09T20:05:05.379320",
     "exception": false,
     "start_time": "2020-10-09T20:05:05.343383",
     "status": "completed"
    },
    "tags": []
   },
   "source": [
    "### Let us create a `Config` class, to store important parameters. \n",
    "This class essentially plays the role of a dictionary."
   ]
  },
  {
   "cell_type": "code",
   "execution_count": 15,
   "metadata": {
    "execution": {
     "iopub.execute_input": "2020-10-09T20:05:05.457989Z",
     "iopub.status.busy": "2020-10-09T20:05:05.457255Z",
     "iopub.status.idle": "2020-10-09T20:05:05.471916Z",
     "shell.execute_reply": "2020-10-09T20:05:05.472924Z"
    },
    "papermill": {
     "duration": 0.056433,
     "end_time": "2020-10-09T20:05:05.473092",
     "exception": false,
     "start_time": "2020-10-09T20:05:05.416659",
     "status": "completed"
    },
    "tags": []
   },
   "outputs": [],
   "source": [
    "class Config:\n",
    "    pass\n",
    "config = Config()\n",
    "config.lr = 0.001\n",
    "config.num_epochs = 251\n",
    "config.bs = 50"
   ]
  },
  {
   "cell_type": "markdown",
   "metadata": {
    "papermill": {
     "duration": 0.036271,
     "end_time": "2020-10-09T20:05:05.546135",
     "exception": false,
     "start_time": "2020-10-09T20:05:05.509864",
     "status": "completed"
    },
    "tags": []
   },
   "source": [
    "### Initializing data to the variables"
   ]
  },
  {
   "cell_type": "code",
   "execution_count": 16,
   "metadata": {
    "execution": {
     "iopub.execute_input": "2020-10-09T20:05:05.624019Z",
     "iopub.status.busy": "2020-10-09T20:05:05.623254Z",
     "iopub.status.idle": "2020-10-09T20:05:05.636292Z",
     "shell.execute_reply": "2020-10-09T20:05:05.635647Z"
    },
    "papermill": {
     "duration": 0.054362,
     "end_time": "2020-10-09T20:05:05.636441",
     "exception": false,
     "start_time": "2020-10-09T20:05:05.582079",
     "status": "completed"
    },
    "tags": []
   },
   "outputs": [],
   "source": [
    "data = Data(X_train, y_train.reshape(-1,1))\n",
    "sampler = Sampler(data, config.bs, shuffle=True)\n",
    "\n",
    "dl = Dataloader(data, sampler)\n",
    "\n",
    "opt = GD(config.lr)\n",
    "loss = MSE()"
   ]
  },
  {
   "cell_type": "code",
   "execution_count": 17,
   "metadata": {
    "execution": {
     "iopub.execute_input": "2020-10-09T20:05:05.713868Z",
     "iopub.status.busy": "2020-10-09T20:05:05.713113Z",
     "iopub.status.idle": "2020-10-09T20:05:05.724824Z",
     "shell.execute_reply": "2020-10-09T20:05:05.724183Z"
    },
    "papermill": {
     "duration": 0.051939,
     "end_time": "2020-10-09T20:05:05.724970",
     "exception": false,
     "start_time": "2020-10-09T20:05:05.673031",
     "status": "completed"
    },
    "tags": []
   },
   "outputs": [],
   "source": [
    "training_xdata = X_train\n",
    "testing_xdata = X_test\n",
    "training_ydata = y_train.reshape(-1,1)\n",
    "testing_ydata = y_test.reshape(-1,1)"
   ]
  },
  {
   "cell_type": "markdown",
   "metadata": {
    "papermill": {
     "duration": 0.037049,
     "end_time": "2020-10-09T20:05:05.799761",
     "exception": false,
     "start_time": "2020-10-09T20:05:05.762712",
     "status": "completed"
    },
    "tags": []
   },
   "source": [
    "### Running Models with the Training data\n",
    "Details about the network layers:\n",
    "- A first affine layer has 784 inputs and does 100 affine transforms. These are followed by a Relu\n",
    "- A second affine layer has 100 inputs from the 100 activations of the past layer, and does 100 affine transforms. These are followed by a Relu\n",
    "- A third affine layer has 100 activations and does 2 affine transformations to create an embedding for visualization. There is no non-linearity here.\n",
    "- A final \"logistic regression\" which has an affine transform from 2 inputs to 1 output, which is squeezed through a sigmoid.\n",
    "\n",
    "Help taken from Anshuman's Notebook."
   ]
  },
  {
   "cell_type": "code",
   "execution_count": 18,
   "metadata": {
    "execution": {
     "iopub.execute_input": "2020-10-09T20:05:05.879753Z",
     "iopub.status.busy": "2020-10-09T20:05:05.879003Z",
     "iopub.status.idle": "2020-10-09T20:05:05.896263Z",
     "shell.execute_reply": "2020-10-09T20:05:05.895639Z"
    },
    "papermill": {
     "duration": 0.059886,
     "end_time": "2020-10-09T20:05:05.896414",
     "exception": false,
     "start_time": "2020-10-09T20:05:05.836528",
     "status": "completed"
    },
    "tags": []
   },
   "outputs": [],
   "source": [
    "# layers for the Neural Network\n",
    "layers = [Affine(\"first\", 784, 100), Relu(\"first\"), Affine(\"second\", 100, 100), Relu(\"second\"), Affine(\"third\", 100, 2), Affine(\"final\", 2, 1), Sigmoid(\"final\")]\n",
    "model_nn = Model(layers)\n",
    "\n",
    "# layers for the Logistic Regression\n",
    "layers_lr = [Affine(\"logits\", 784, 1), Sigmoid(\"sigmoid\")]\n",
    "model_lr = Model(layers_lr)"
   ]
  },
  {
   "cell_type": "code",
   "execution_count": 19,
   "metadata": {
    "execution": {
     "iopub.execute_input": "2020-10-09T20:05:05.972611Z",
     "iopub.status.busy": "2020-10-09T20:05:05.971878Z",
     "iopub.status.idle": "2020-10-09T20:05:05.984515Z",
     "shell.execute_reply": "2020-10-09T20:05:05.983895Z"
    },
    "papermill": {
     "duration": 0.053178,
     "end_time": "2020-10-09T20:05:05.984657",
     "exception": false,
     "start_time": "2020-10-09T20:05:05.931479",
     "status": "completed"
    },
    "tags": []
   },
   "outputs": [],
   "source": [
    "# suffix _nn stands for Neural Network.\n",
    "learner_nn = Learner(loss, model_nn, opt, config.num_epochs)\n",
    "acc_nn = ClfCallback(learner_nn, config.bs, training_xdata , testing_xdata, training_ydata, testing_ydata)\n",
    "learner_nn.set_callbacks([acc_nn])"
   ]
  },
  {
   "cell_type": "code",
   "execution_count": 20,
   "metadata": {
    "execution": {
     "iopub.execute_input": "2020-10-09T20:05:06.062565Z",
     "iopub.status.busy": "2020-10-09T20:05:06.061818Z",
     "iopub.status.idle": "2020-10-09T20:07:06.059348Z",
     "shell.execute_reply": "2020-10-09T20:07:06.060113Z"
    },
    "papermill": {
     "duration": 120.039164,
     "end_time": "2020-10-09T20:07:06.060268",
     "exception": false,
     "start_time": "2020-10-09T20:05:06.021104",
     "status": "completed"
    },
    "tags": []
   },
   "outputs": [
    {
     "name": "stdout",
     "output_type": "stream",
     "text": [
      "====== Neural Network ======\n"
     ]
    },
    {
     "name": "stdout",
     "output_type": "stream",
     "text": [
      "Epoch 0, Loss 0.2457\n",
      "Training Accuracy: 0.5199, Testing Accuracy: 0.5121\n",
      "\n"
     ]
    },
    {
     "name": "stdout",
     "output_type": "stream",
     "text": [
      "Epoch 10, Loss 0.1933\n",
      "Training Accuracy: 0.8670, Testing Accuracy: 0.8700\n",
      "\n"
     ]
    },
    {
     "name": "stdout",
     "output_type": "stream",
     "text": [
      "Epoch 20, Loss 0.0965\n",
      "Training Accuracy: 0.9113, Testing Accuracy: 0.9194\n",
      "\n"
     ]
    },
    {
     "name": "stdout",
     "output_type": "stream",
     "text": [
      "Epoch 30, Loss 0.0605\n",
      "Training Accuracy: 0.9375, Testing Accuracy: 0.9521\n",
      "\n"
     ]
    },
    {
     "name": "stdout",
     "output_type": "stream",
     "text": [
      "Epoch 40, Loss 0.047\n",
      "Training Accuracy: 0.9487, Testing Accuracy: 0.9592\n",
      "\n"
     ]
    },
    {
     "name": "stdout",
     "output_type": "stream",
     "text": [
      "Epoch 50, Loss 0.0403\n",
      "Training Accuracy: 0.9549, Testing Accuracy: 0.9657\n",
      "\n"
     ]
    },
    {
     "name": "stdout",
     "output_type": "stream",
     "text": [
      "Epoch 60, Loss 0.0363\n",
      "Training Accuracy: 0.9586, Testing Accuracy: 0.9682\n",
      "\n"
     ]
    },
    {
     "name": "stdout",
     "output_type": "stream",
     "text": [
      "Epoch 70, Loss 0.0336\n",
      "Training Accuracy: 0.9609, Testing Accuracy: 0.9688\n",
      "\n"
     ]
    },
    {
     "name": "stdout",
     "output_type": "stream",
     "text": [
      "Epoch 80, Loss 0.0316\n",
      "Training Accuracy: 0.9634, Testing Accuracy: 0.9688\n",
      "\n"
     ]
    },
    {
     "name": "stdout",
     "output_type": "stream",
     "text": [
      "Epoch 90, Loss 0.03\n",
      "Training Accuracy: 0.9647, Testing Accuracy: 0.9693\n",
      "\n"
     ]
    },
    {
     "name": "stdout",
     "output_type": "stream",
     "text": [
      "Epoch 100, Loss 0.0288\n",
      "Training Accuracy: 0.9659, Testing Accuracy: 0.9703\n",
      "\n"
     ]
    },
    {
     "name": "stdout",
     "output_type": "stream",
     "text": [
      "Epoch 110, Loss 0.0277\n",
      "Training Accuracy: 0.9665, Testing Accuracy: 0.9708\n",
      "\n"
     ]
    },
    {
     "name": "stdout",
     "output_type": "stream",
     "text": [
      "Epoch 120, Loss 0.0269\n",
      "Training Accuracy: 0.9685, Testing Accuracy: 0.9708\n",
      "\n"
     ]
    },
    {
     "name": "stdout",
     "output_type": "stream",
     "text": [
      "Epoch 130, Loss 0.0261\n",
      "Training Accuracy: 0.9690, Testing Accuracy: 0.9708\n",
      "\n"
     ]
    },
    {
     "name": "stdout",
     "output_type": "stream",
     "text": [
      "Epoch 140, Loss 0.0254\n",
      "Training Accuracy: 0.9693, Testing Accuracy: 0.9708\n",
      "\n"
     ]
    },
    {
     "name": "stdout",
     "output_type": "stream",
     "text": [
      "Epoch 150, Loss 0.0247\n",
      "Training Accuracy: 0.9701, Testing Accuracy: 0.9718\n",
      "\n"
     ]
    },
    {
     "name": "stdout",
     "output_type": "stream",
     "text": [
      "Epoch 160, Loss 0.0241\n",
      "Training Accuracy: 0.9712, Testing Accuracy: 0.9723\n",
      "\n"
     ]
    },
    {
     "name": "stdout",
     "output_type": "stream",
     "text": [
      "Epoch 170, Loss 0.0236\n",
      "Training Accuracy: 0.9715, Testing Accuracy: 0.9718\n",
      "\n"
     ]
    },
    {
     "name": "stdout",
     "output_type": "stream",
     "text": [
      "Epoch 180, Loss 0.0231\n",
      "Training Accuracy: 0.9722, Testing Accuracy: 0.9718\n",
      "\n"
     ]
    },
    {
     "name": "stdout",
     "output_type": "stream",
     "text": [
      "Epoch 190, Loss 0.0226\n",
      "Training Accuracy: 0.9730, Testing Accuracy: 0.9718\n",
      "\n"
     ]
    },
    {
     "name": "stdout",
     "output_type": "stream",
     "text": [
      "Epoch 200, Loss 0.0221\n",
      "Training Accuracy: 0.9737, Testing Accuracy: 0.9723\n",
      "\n"
     ]
    },
    {
     "name": "stdout",
     "output_type": "stream",
     "text": [
      "Epoch 210, Loss 0.0217\n",
      "Training Accuracy: 0.9740, Testing Accuracy: 0.9723\n",
      "\n"
     ]
    },
    {
     "name": "stdout",
     "output_type": "stream",
     "text": [
      "Epoch 220, Loss 0.0213\n",
      "Training Accuracy: 0.9745, Testing Accuracy: 0.9723\n",
      "\n"
     ]
    },
    {
     "name": "stdout",
     "output_type": "stream",
     "text": [
      "Epoch 230, Loss 0.0209\n",
      "Training Accuracy: 0.9753, Testing Accuracy: 0.9718\n",
      "\n"
     ]
    },
    {
     "name": "stdout",
     "output_type": "stream",
     "text": [
      "Epoch 240, Loss 0.0205\n",
      "Training Accuracy: 0.9760, Testing Accuracy: 0.9718\n",
      "\n"
     ]
    },
    {
     "name": "stdout",
     "output_type": "stream",
     "text": [
      "Epoch 250, Loss 0.0201\n",
      "Training Accuracy: 0.9766, Testing Accuracy: 0.9723\n",
      "\n"
     ]
    },
    {
     "data": {
      "text/plain": [
       "0.071252279042059"
      ]
     },
     "execution_count": 20,
     "metadata": {},
     "output_type": "execute_result"
    }
   ],
   "source": [
    "print(\"====== Neural Network ======\")\n",
    "learner_nn.train_loop(dl)"
   ]
  },
  {
   "cell_type": "markdown",
   "metadata": {
    "papermill": {
     "duration": 0.039035,
     "end_time": "2020-10-09T20:07:06.140958",
     "exception": false,
     "start_time": "2020-10-09T20:07:06.101923",
     "status": "completed"
    },
    "tags": []
   },
   "source": [
    "### Logistic Regression based Implementation."
   ]
  },
  {
   "cell_type": "code",
   "execution_count": 21,
   "metadata": {
    "execution": {
     "iopub.execute_input": "2020-10-09T20:07:06.223246Z",
     "iopub.status.busy": "2020-10-09T20:07:06.221797Z",
     "iopub.status.idle": "2020-10-09T20:07:06.233703Z",
     "shell.execute_reply": "2020-10-09T20:07:06.233113Z"
    },
    "papermill": {
     "duration": 0.054604,
     "end_time": "2020-10-09T20:07:06.233852",
     "exception": false,
     "start_time": "2020-10-09T20:07:06.179248",
     "status": "completed"
    },
    "tags": []
   },
   "outputs": [],
   "source": [
    "learner_lr = Learner(loss, model_lr, opt, config.num_epochs)\n",
    "acc_lr = ClfCallback(learner_lr, config.bs, training_xdata , testing_xdata, training_ydata, testing_ydata)\n",
    "learner_lr.set_callbacks([acc_lr])"
   ]
  },
  {
   "cell_type": "code",
   "execution_count": 22,
   "metadata": {
    "execution": {
     "iopub.execute_input": "2020-10-09T20:07:06.344040Z",
     "iopub.status.busy": "2020-10-09T20:07:06.332350Z",
     "iopub.status.idle": "2020-10-09T20:07:23.843897Z",
     "shell.execute_reply": "2020-10-09T20:07:23.844825Z"
    },
    "papermill": {
     "duration": 17.565482,
     "end_time": "2020-10-09T20:07:23.845009",
     "exception": false,
     "start_time": "2020-10-09T20:07:06.279527",
     "status": "completed"
    },
    "tags": []
   },
   "outputs": [
    {
     "name": "stdout",
     "output_type": "stream",
     "text": [
      "====== Logistic Regression ======\n",
      "Epoch 0, Loss 0.2081\n",
      "Training Accuracy: 0.8040, Testing Accuracy: 0.7878\n",
      "\n"
     ]
    },
    {
     "name": "stdout",
     "output_type": "stream",
     "text": [
      "Epoch 10, Loss 0.0984\n",
      "Training Accuracy: 0.9169, Testing Accuracy: 0.9219\n",
      "\n"
     ]
    },
    {
     "name": "stdout",
     "output_type": "stream",
     "text": [
      "Epoch 20, Loss 0.0772\n",
      "Training Accuracy: 0.9316, Testing Accuracy: 0.9441\n",
      "\n"
     ]
    },
    {
     "name": "stdout",
     "output_type": "stream",
     "text": [
      "Epoch 30, Loss 0.067\n",
      "Training Accuracy: 0.9390, Testing Accuracy: 0.9481\n",
      "\n"
     ]
    },
    {
     "name": "stdout",
     "output_type": "stream",
     "text": [
      "Epoch 40, Loss 0.0608\n",
      "Training Accuracy: 0.9431, Testing Accuracy: 0.9556\n",
      "\n"
     ]
    },
    {
     "name": "stdout",
     "output_type": "stream",
     "text": [
      "Epoch 50, Loss 0.0565\n",
      "Training Accuracy: 0.9456, Testing Accuracy: 0.9572\n",
      "\n"
     ]
    },
    {
     "name": "stdout",
     "output_type": "stream",
     "text": [
      "Epoch 60, Loss 0.0534\n",
      "Training Accuracy: 0.9478, Testing Accuracy: 0.9592\n",
      "\n"
     ]
    },
    {
     "name": "stdout",
     "output_type": "stream",
     "text": [
      "Epoch 70, Loss 0.0509\n",
      "Training Accuracy: 0.9486, Testing Accuracy: 0.9612\n",
      "\n"
     ]
    },
    {
     "name": "stdout",
     "output_type": "stream",
     "text": [
      "Epoch 80, Loss 0.0489\n",
      "Training Accuracy: 0.9499, Testing Accuracy: 0.9622\n",
      "\n"
     ]
    },
    {
     "name": "stdout",
     "output_type": "stream",
     "text": [
      "Epoch 90, Loss 0.0473\n",
      "Training Accuracy: 0.9513, Testing Accuracy: 0.9642\n",
      "\n"
     ]
    },
    {
     "name": "stdout",
     "output_type": "stream",
     "text": [
      "Epoch 100, Loss 0.0459\n",
      "Training Accuracy: 0.9528, Testing Accuracy: 0.9652\n",
      "\n"
     ]
    },
    {
     "name": "stdout",
     "output_type": "stream",
     "text": [
      "Epoch 110, Loss 0.0447\n",
      "Training Accuracy: 0.9539, Testing Accuracy: 0.9657\n",
      "\n"
     ]
    },
    {
     "name": "stdout",
     "output_type": "stream",
     "text": [
      "Epoch 120, Loss 0.0437\n",
      "Training Accuracy: 0.9548, Testing Accuracy: 0.9657\n",
      "\n"
     ]
    },
    {
     "name": "stdout",
     "output_type": "stream",
     "text": [
      "Epoch 130, Loss 0.0428\n",
      "Training Accuracy: 0.9559, Testing Accuracy: 0.9657\n",
      "\n"
     ]
    },
    {
     "name": "stdout",
     "output_type": "stream",
     "text": [
      "Epoch 140, Loss 0.042\n",
      "Training Accuracy: 0.9566, Testing Accuracy: 0.9662\n",
      "\n"
     ]
    },
    {
     "name": "stdout",
     "output_type": "stream",
     "text": [
      "Epoch 150, Loss 0.0412\n",
      "Training Accuracy: 0.9578, Testing Accuracy: 0.9657\n",
      "\n"
     ]
    },
    {
     "name": "stdout",
     "output_type": "stream",
     "text": [
      "Epoch 160, Loss 0.0406\n",
      "Training Accuracy: 0.9584, Testing Accuracy: 0.9662\n",
      "\n"
     ]
    },
    {
     "name": "stdout",
     "output_type": "stream",
     "text": [
      "Epoch 170, Loss 0.04\n",
      "Training Accuracy: 0.9589, Testing Accuracy: 0.9667\n",
      "\n"
     ]
    },
    {
     "name": "stdout",
     "output_type": "stream",
     "text": [
      "Epoch 180, Loss 0.0394\n",
      "Training Accuracy: 0.9594, Testing Accuracy: 0.9667\n",
      "\n"
     ]
    },
    {
     "name": "stdout",
     "output_type": "stream",
     "text": [
      "Epoch 190, Loss 0.0389\n",
      "Training Accuracy: 0.9599, Testing Accuracy: 0.9677\n",
      "\n"
     ]
    },
    {
     "name": "stdout",
     "output_type": "stream",
     "text": [
      "Epoch 200, Loss 0.0384\n",
      "Training Accuracy: 0.9599, Testing Accuracy: 0.9682\n",
      "\n"
     ]
    },
    {
     "name": "stdout",
     "output_type": "stream",
     "text": [
      "Epoch 210, Loss 0.038\n",
      "Training Accuracy: 0.9601, Testing Accuracy: 0.9682\n",
      "\n"
     ]
    },
    {
     "name": "stdout",
     "output_type": "stream",
     "text": [
      "Epoch 220, Loss 0.0376\n",
      "Training Accuracy: 0.9604, Testing Accuracy: 0.9677\n",
      "\n"
     ]
    },
    {
     "name": "stdout",
     "output_type": "stream",
     "text": [
      "Epoch 230, Loss 0.0372\n",
      "Training Accuracy: 0.9606, Testing Accuracy: 0.9677\n",
      "\n"
     ]
    },
    {
     "name": "stdout",
     "output_type": "stream",
     "text": [
      "Epoch 240, Loss 0.0368\n",
      "Training Accuracy: 0.9609, Testing Accuracy: 0.9682\n",
      "\n"
     ]
    },
    {
     "name": "stdout",
     "output_type": "stream",
     "text": [
      "Epoch 250, Loss 0.0365\n",
      "Training Accuracy: 0.9610, Testing Accuracy: 0.9682\n",
      "\n"
     ]
    },
    {
     "data": {
      "text/plain": [
       "0.015466104149172297"
      ]
     },
     "execution_count": 22,
     "metadata": {},
     "output_type": "execute_result"
    }
   ],
   "source": [
    "print(\"====== Logistic Regression ======\")\n",
    "learner_lr.train_loop(dl)"
   ]
  },
  {
   "cell_type": "markdown",
   "metadata": {
    "papermill": {
     "duration": 0.05495,
     "end_time": "2020-10-09T20:07:23.957422",
     "exception": false,
     "start_time": "2020-10-09T20:07:23.902472",
     "status": "completed"
    },
    "tags": []
   },
   "source": [
    "### Comparing results of NN and LR"
   ]
  },
  {
   "cell_type": "code",
   "execution_count": 23,
   "metadata": {
    "execution": {
     "iopub.execute_input": "2020-10-09T20:07:24.055334Z",
     "iopub.status.busy": "2020-10-09T20:07:24.054576Z",
     "iopub.status.idle": "2020-10-09T20:07:24.293446Z",
     "shell.execute_reply": "2020-10-09T20:07:24.292953Z"
    },
    "papermill": {
     "duration": 0.288843,
     "end_time": "2020-10-09T20:07:24.293575",
     "exception": false,
     "start_time": "2020-10-09T20:07:24.004732",
     "status": "completed"
    },
    "tags": []
   },
   "outputs": [
    {
     "data": {
      "text/plain": [
       "<matplotlib.legend.Legend at 0x7fe7a715c0b8>"
      ]
     },
     "execution_count": 23,
     "metadata": {},
     "output_type": "execute_result"
    },
    {
     "data": {
      "image/png": "[encoded data removed]",
      "text/plain": [
       "<Figure size 1080x720 with 1 Axes>"
      ]
     },
     "metadata": {
      "needs_background": "light"
     },
     "output_type": "display_data"
    }
   ],
   "source": [
    "plt.figure(figsize=(15,10))\n",
    "\n",
    "# Neural Network plots\n",
    "plt.plot(acc_nn.accuracies, 'r-', label = \"Training Accuracies - NN\")\n",
    "plt.plot(acc_nn.test_accuracies, 'g-', label = \"Testing Accuracies - NN\")\n",
    "\n",
    "# Logistic Regression plots\n",
    "plt.plot(acc_lr.accuracies, 'k-', label = \"Training Accuracies - LR\")\n",
    "plt.plot(acc_lr.test_accuracies, 'b-', label = \"Testing Accuracies - LR\")\n",
    "\n",
    "plt.ylim(0.8, 1)\n",
    "\n",
    "plt.legend()\n",
    "\n"
   ]
  },
  {
   "cell_type": "markdown",
   "metadata": {
    "papermill": {
     "duration": 0.047922,
     "end_time": "2020-10-09T20:07:24.388582",
     "exception": false,
     "start_time": "2020-10-09T20:07:24.340660",
     "status": "completed"
    },
    "tags": []
   },
   "source": [
    "### From the plot, we can observe the following:\n",
    "- Neural Network achieves higher accuracy than the Logistic Regression model.\n",
    "- This apparently, is because of overfitting, i.e. NN captures more noise than data.\n",
    "- Testing accuracy of NN drops below the Training accuracy at higher epochs. This explains the over-fitting on training data.\n",
    "- Logistic Regression gives a reliable accuracy, without the above mentioned problem.\n"
   ]
  },
  {
   "cell_type": "markdown",
   "metadata": {
    "papermill": {
     "duration": 0.045604,
     "end_time": "2020-10-09T20:07:24.480826",
     "exception": false,
     "start_time": "2020-10-09T20:07:24.435222",
     "status": "completed"
    },
    "tags": []
   },
   "source": [
    "### Moving till the last but one layer (excluding it).\n",
    "#### Plotting the outputs of this layer of the NN."
   ]
  },
  {
   "cell_type": "code",
   "execution_count": 24,
   "metadata": {
    "execution": {
     "iopub.execute_input": "2020-10-09T20:07:24.579643Z",
     "iopub.status.busy": "2020-10-09T20:07:24.578233Z",
     "iopub.status.idle": "2020-10-09T20:07:24.590191Z",
     "shell.execute_reply": "2020-10-09T20:07:24.589709Z"
    },
    "papermill": {
     "duration": 0.064204,
     "end_time": "2020-10-09T20:07:24.590304",
     "exception": false,
     "start_time": "2020-10-09T20:07:24.526100",
     "status": "completed"
    },
    "tags": []
   },
   "outputs": [],
   "source": [
    "model_new = Model(layers[:-2])"
   ]
  },
  {
   "cell_type": "code",
   "execution_count": 25,
   "metadata": {
    "execution": {
     "iopub.execute_input": "2020-10-09T20:07:24.693690Z",
     "iopub.status.busy": "2020-10-09T20:07:24.692526Z",
     "iopub.status.idle": "2020-10-09T20:07:24.716449Z",
     "shell.execute_reply": "2020-10-09T20:07:24.717305Z"
    },
    "papermill": {
     "duration": 0.079705,
     "end_time": "2020-10-09T20:07:24.717481",
     "exception": false,
     "start_time": "2020-10-09T20:07:24.637776",
     "status": "completed"
    },
    "tags": []
   },
   "outputs": [],
   "source": [
    "plot_testing = model_new(testing_xdata)"
   ]
  },
  {
   "cell_type": "code",
   "execution_count": 26,
   "metadata": {
    "execution": {
     "iopub.execute_input": "2020-10-09T20:07:24.840615Z",
     "iopub.status.busy": "2020-10-09T20:07:24.839903Z",
     "iopub.status.idle": "2020-10-09T20:07:25.067487Z",
     "shell.execute_reply": "2020-10-09T20:07:25.066897Z"
    },
    "papermill": {
     "duration": 0.292233,
     "end_time": "2020-10-09T20:07:25.067639",
     "exception": false,
     "start_time": "2020-10-09T20:07:24.775406",
     "status": "completed"
    },
    "tags": []
   },
   "outputs": [
    {
     "data": {
      "text/plain": [
       "Text(0.5, 1.0, 'Outputs')"
      ]
     },
     "execution_count": 26,
     "metadata": {},
     "output_type": "execute_result"
    },
    {
     "data": {
      "image/png": "[encoded data removed]",
      "text/plain": [
       "<Figure size 576x504 with 1 Axes>"
      ]
     },
     "metadata": {
      "needs_background": "light"
     },
     "output_type": "display_data"
    }
   ],
   "source": [
    "plt.figure(figsize=(8,7))\n",
    "plt.scatter(plot_testing[:,0], plot_testing[:,1], alpha = 0.1, c = y_test.ravel());\n",
    "plt.title('Outputs')"
   ]
  },
  {
   "cell_type": "markdown",
   "metadata": {
    "papermill": {
     "duration": 0.059716,
     "end_time": "2020-10-09T20:07:25.187497",
     "exception": false,
     "start_time": "2020-10-09T20:07:25.127781",
     "status": "completed"
    },
    "tags": []
   },
   "source": [
    "### Plotting probability contours"
   ]
  },
  {
   "cell_type": "code",
   "execution_count": 27,
   "metadata": {
    "execution": {
     "iopub.execute_input": "2020-10-09T20:07:25.316782Z",
     "iopub.status.busy": "2020-10-09T20:07:25.315183Z",
     "iopub.status.idle": "2020-10-09T20:07:25.329338Z",
     "shell.execute_reply": "2020-10-09T20:07:25.329948Z"
    },
    "papermill": {
     "duration": 0.082179,
     "end_time": "2020-10-09T20:07:25.330116",
     "exception": false,
     "start_time": "2020-10-09T20:07:25.247937",
     "status": "completed"
    },
    "tags": []
   },
   "outputs": [],
   "source": [
    "model_prob = Model(layers[-2:]) "
   ]
  },
  {
   "cell_type": "code",
   "execution_count": 28,
   "metadata": {
    "execution": {
     "iopub.execute_input": "2020-10-09T20:07:25.468388Z",
     "iopub.status.busy": "2020-10-09T20:07:25.467142Z",
     "iopub.status.idle": "2020-10-09T20:07:25.481601Z",
     "shell.execute_reply": "2020-10-09T20:07:25.482245Z"
    },
    "papermill": {
     "duration": 0.091264,
     "end_time": "2020-10-09T20:07:25.482410",
     "exception": false,
     "start_time": "2020-10-09T20:07:25.391146",
     "status": "completed"
    },
    "tags": []
   },
   "outputs": [],
   "source": [
    "# Adjust the x and y ranges according to the above generated plot.\n",
    "x_range = np.linspace(-4, 1, 100) \n",
    "y_range = np.linspace(-6, 6, 100) \n",
    "x_grid, y_grid = np.meshgrid(x_range, y_range) # x_grid and y_grig are of size 100 X 100\n",
    "\n",
    "# converting x_grid and y_grid to continuous arrays\n",
    "x_grid_flat = np.ravel(x_grid)\n",
    "y_grid_flat = np.ravel(y_grid)\n",
    "\n",
    "# The last layer of the current model takes two columns as input. Hence transpose of np.vstack() is required.\n",
    "X = np.vstack((x_grid_flat, y_grid_flat)).T\n",
    "\n",
    "# x_grid and y_grid are of size 100 x 100\n",
    "probability_contour = model_prob(X).reshape(100,100) "
   ]
  },
  {
   "cell_type": "code",
   "execution_count": 29,
   "metadata": {
    "execution": {
     "iopub.execute_input": "2020-10-09T20:07:25.613533Z",
     "iopub.status.busy": "2020-10-09T20:07:25.612727Z",
     "iopub.status.idle": "2020-10-09T20:07:25.902406Z",
     "shell.execute_reply": "2020-10-09T20:07:25.901424Z"
    },
    "papermill": {
     "duration": 0.358056,
     "end_time": "2020-10-09T20:07:25.902567",
     "exception": false,
     "start_time": "2020-10-09T20:07:25.544511",
     "status": "completed"
    },
    "tags": []
   },
   "outputs": [
    {
     "data": {
      "image/png": "[encoded data removed]",
      "text/plain": [
       "<Figure size 720x648 with 1 Axes>"
      ]
     },
     "metadata": {
      "needs_background": "light"
     },
     "output_type": "display_data"
    }
   ],
   "source": [
    "plt.figure(figsize=(10,9))\n",
    "plt.scatter(plot_testing[:,0], plot_testing[:,1], alpha = 0.1, c = y_test.ravel())\n",
    "contours = plt.contour(x_grid,y_grid,probability_contour)\n",
    "plt.title('Probability Contours')\n",
    "plt.clabel(contours, inline = True );"
   ]
  }
 ],
 "metadata": {
  "kernelspec": {
   "display_name": "Python 3",
   "language": "python",
   "name": "python3"
  },
  "language_info": {
   "codemirror_mode": {
    "name": "ipython",
    "version": 3
   },
   "file_extension": ".py",
   "mimetype": "text/x-python",
   "name": "python",
   "nbconvert_exporter": "python",
   "pygments_lexer": "ipython3",
   "version": "3.6.12"
  },
  "papermill": {
   "duration": 148.425554,
   "end_time": "2020-10-09T20:07:27.317919",
   "environment_variables": {},
   "exception": null,
   "input_path": "2020-08-11-NeuralNetwork.ipynb",
   "output_path": "2020-08-11-NeuralNetwork.ipynb",
   "parameters": {},
   "start_time": "2020-10-09T20:04:58.892365",
   "version": "2.1.2"
  }
 },
 "nbformat": 4,
 "nbformat_minor": 4
}