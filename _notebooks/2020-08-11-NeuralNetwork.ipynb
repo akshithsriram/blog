{
 "cells": [
  {
   "cell_type": "markdown",
   "metadata": {
    "papermill": {
     "duration": 0.025932,
     "end_time": "2020-12-26T10:09:17.167362",
     "exception": false,
     "start_time": "2020-12-26T10:09:17.141430",
     "status": "completed"
    },
    "tags": []
   },
   "source": [
    "# \"A Basic Neural Network: Differentiate Hand-Written Digits\"\n",
    "\n",
    "- badges: true\n",
    "- author: Akshith Sriram"
   ]
  },
  {
   "cell_type": "markdown",
   "metadata": {
    "papermill": {
     "duration": 0.024858,
     "end_time": "2020-12-26T10:09:17.216171",
     "exception": false,
     "start_time": "2020-12-26T10:09:17.191313",
     "status": "completed"
    },
    "tags": []
   },
   "source": [
    "### Key Objectives:\n",
    "- Building a neural network that differentiates two hand-written digits 3 and 8.\n",
    "- Comparing the results of this Neural Network (NN) to that of a Logistic Regression (LR) model.\n",
    "\n",
    "### Requirements:\n",
    "- 'Kudzu' : A neural network library that was designed during our course by [Univ.AI](www.univ.ai). \n",
    "- MNIST Database\n",
    "\n",
    "If MNIST is not installed, use the command `!pip install mnist` given below.\n",
    "It can be run both from the command line and Jupyter Notebook."
   ]
  },
  {
   "cell_type": "code",
   "execution_count": 1,
   "metadata": {
    "execution": {
     "iopub.execute_input": "2020-12-26T10:09:17.264357Z",
     "iopub.status.busy": "2020-12-26T10:09:17.263885Z",
     "iopub.status.idle": "2020-12-26T10:09:18.591965Z",
     "shell.execute_reply": "2020-12-26T10:09:18.590384Z"
    },
    "papermill": {
     "duration": 1.356703,
     "end_time": "2020-12-26T10:09:18.592162",
     "exception": false,
     "start_time": "2020-12-26T10:09:17.235459",
     "status": "completed"
    },
    "tags": []
   },
   "outputs": [
    {
     "name": "stdout",
     "output_type": "stream",
     "text": [
      "Collecting mnist\r\n"
     ]
    },
    {
     "name": "stdout",
     "output_type": "stream",
     "text": [
      "  Downloading mnist-0.2.2-py2.py3-none-any.whl (3.5 kB)\r\n",
      "Requirement already satisfied: numpy in /opt/hostedtoolcache/Python/3.6.12/x64/lib/python3.6/site-packages (from mnist) (1.19.4)\r\n"
     ]
    },
    {
     "name": "stdout",
     "output_type": "stream",
     "text": [
      "Installing collected packages: mnist\r\n"
     ]
    },
    {
     "name": "stdout",
     "output_type": "stream",
     "text": [
      "Successfully installed mnist-0.2.2\r\n",
      "\u001b[33mWARNING: You are using pip version 20.3.1; however, version 20.3.3 is available.\r\n",
      "You should consider upgrading via the '/opt/hostedtoolcache/Python/3.6.12/x64/bin/python -m pip install --upgrade pip' command.\u001b[0m\r\n"
     ]
    }
   ],
   "source": [
    "!pip install mnist "
   ]
  },
  {
   "cell_type": "markdown",
   "metadata": {
    "papermill": {
     "duration": 0.022237,
     "end_time": "2020-12-26T10:09:18.638577",
     "exception": false,
     "start_time": "2020-12-26T10:09:18.616340",
     "status": "completed"
    },
    "tags": []
   },
   "source": [
    "#### Importing necessary libraries"
   ]
  },
  {
   "cell_type": "code",
   "execution_count": 2,
   "metadata": {
    "execution": {
     "iopub.execute_input": "2020-12-26T10:09:18.695974Z",
     "iopub.status.busy": "2020-12-26T10:09:18.693087Z",
     "iopub.status.idle": "2020-12-26T10:09:19.225693Z",
     "shell.execute_reply": "2020-12-26T10:09:19.225068Z"
    },
    "papermill": {
     "duration": 0.562706,
     "end_time": "2020-12-26T10:09:19.225855",
     "exception": false,
     "start_time": "2020-12-26T10:09:18.663149",
     "status": "completed"
    },
    "tags": []
   },
   "outputs": [],
   "source": [
    "%load_ext autoreload\n",
    "%autoreload 2\n",
    "\n",
    "%matplotlib inline\n",
    "import matplotlib.pyplot as plt\n",
    "\n",
    "import numpy as np\n",
    "import pandas as pd"
   ]
  },
  {
   "cell_type": "markdown",
   "metadata": {
    "papermill": {
     "duration": 0.022121,
     "end_time": "2020-12-26T10:09:19.272579",
     "exception": false,
     "start_time": "2020-12-26T10:09:19.250458",
     "status": "completed"
    },
    "tags": []
   },
   "source": [
    "### Preparing the Data"
   ]
  },
  {
   "cell_type": "code",
   "execution_count": 3,
   "metadata": {
    "execution": {
     "iopub.execute_input": "2020-12-26T10:09:19.318896Z",
     "iopub.status.busy": "2020-12-26T10:09:19.318298Z",
     "iopub.status.idle": "2020-12-26T10:09:19.330307Z",
     "shell.execute_reply": "2020-12-26T10:09:19.329888Z"
    },
    "papermill": {
     "duration": 0.037221,
     "end_time": "2020-12-26T10:09:19.330398",
     "exception": false,
     "start_time": "2020-12-26T10:09:19.293177",
     "status": "completed"
    },
    "tags": []
   },
   "outputs": [],
   "source": [
    "import mnist"
   ]
  },
  {
   "cell_type": "code",
   "execution_count": 4,
   "metadata": {
    "execution": {
     "iopub.execute_input": "2020-12-26T10:09:19.380957Z",
     "iopub.status.busy": "2020-12-26T10:09:19.380431Z",
     "iopub.status.idle": "2020-12-26T10:09:20.264340Z",
     "shell.execute_reply": "2020-12-26T10:09:20.264819Z"
    },
    "papermill": {
     "duration": 0.912425,
     "end_time": "2020-12-26T10:09:20.264968",
     "exception": false,
     "start_time": "2020-12-26T10:09:19.352543",
     "status": "completed"
    },
    "tags": []
   },
   "outputs": [],
   "source": [
    "train_images = mnist.train_images()\n",
    "train_labels = mnist.train_labels()"
   ]
  },
  {
   "cell_type": "code",
   "execution_count": 5,
   "metadata": {
    "execution": {
     "iopub.execute_input": "2020-12-26T10:09:20.314646Z",
     "iopub.status.busy": "2020-12-26T10:09:20.314087Z",
     "iopub.status.idle": "2020-12-26T10:09:20.331137Z",
     "shell.execute_reply": "2020-12-26T10:09:20.330782Z"
    },
    "papermill": {
     "duration": 0.044135,
     "end_time": "2020-12-26T10:09:20.331245",
     "exception": false,
     "start_time": "2020-12-26T10:09:20.287110",
     "status": "completed"
    },
    "tags": []
   },
   "outputs": [
    {
     "data": {
      "text/plain": [
       "((60000, 28, 28), (60000,))"
      ]
     },
     "execution_count": 5,
     "metadata": {},
     "output_type": "execute_result"
    }
   ],
   "source": [
    "train_images.shape, train_labels.shape"
   ]
  },
  {
   "cell_type": "code",
   "execution_count": 6,
   "metadata": {
    "execution": {
     "iopub.execute_input": "2020-12-26T10:09:20.396555Z",
     "iopub.status.busy": "2020-12-26T10:09:20.392625Z",
     "iopub.status.idle": "2020-12-26T10:09:20.907156Z",
     "shell.execute_reply": "2020-12-26T10:09:20.907781Z"
    },
    "papermill": {
     "duration": 0.551653,
     "end_time": "2020-12-26T10:09:20.907976",
     "exception": false,
     "start_time": "2020-12-26T10:09:20.356323",
     "status": "completed"
    },
    "tags": []
   },
   "outputs": [],
   "source": [
    "test_images = mnist.test_images()\n",
    "test_labels = mnist.test_labels()"
   ]
  },
  {
   "cell_type": "code",
   "execution_count": 7,
   "metadata": {
    "execution": {
     "iopub.execute_input": "2020-12-26T10:09:20.956304Z",
     "iopub.status.busy": "2020-12-26T10:09:20.955886Z",
     "iopub.status.idle": "2020-12-26T10:09:20.970003Z",
     "shell.execute_reply": "2020-12-26T10:09:20.969648Z"
    },
    "papermill": {
     "duration": 0.037756,
     "end_time": "2020-12-26T10:09:20.970093",
     "exception": false,
     "start_time": "2020-12-26T10:09:20.932337",
     "status": "completed"
    },
    "tags": []
   },
   "outputs": [
    {
     "data": {
      "text/plain": [
       "((10000, 28, 28), (10000,))"
      ]
     },
     "execution_count": 7,
     "metadata": {},
     "output_type": "execute_result"
    }
   ],
   "source": [
    "test_images.shape, test_labels.shape"
   ]
  },
  {
   "cell_type": "code",
   "execution_count": 8,
   "metadata": {
    "execution": {
     "iopub.execute_input": "2020-12-26T10:09:21.017715Z",
     "iopub.status.busy": "2020-12-26T10:09:21.016662Z",
     "iopub.status.idle": "2020-12-26T10:09:21.138317Z",
     "shell.execute_reply": "2020-12-26T10:09:21.138687Z"
    },
    "papermill": {
     "duration": 0.14814,
     "end_time": "2020-12-26T10:09:21.138808",
     "exception": false,
     "start_time": "2020-12-26T10:09:20.990668",
     "status": "completed"
    },
    "tags": []
   },
   "outputs": [
    {
     "name": "stdout",
     "output_type": "stream",
     "text": [
      "2\n"
     ]
    },
    {
     "data": {
      "text/plain": [
       "<matplotlib.image.AxesImage at 0x7f4634c542b0>"
      ]
     },
     "execution_count": 8,
     "metadata": {},
     "output_type": "execute_result"
    },
    {
     "data": {
      "image/png": "[encoded data removed]",
      "text/plain": [
       "<Figure size 432x288 with 1 Axes>"
      ]
     },
     "metadata": {
      "needs_background": "light"
     },
     "output_type": "display_data"
    }
   ],
   "source": [
    "image_index = 7776 # You may select anything up to 60,000\n",
    "print(train_labels[image_index]) \n",
    "plt.imshow(train_images[image_index], cmap='Greys')"
   ]
  },
  {
   "cell_type": "markdown",
   "metadata": {
    "papermill": {
     "duration": 0.021593,
     "end_time": "2020-12-26T10:09:21.183906",
     "exception": false,
     "start_time": "2020-12-26T10:09:21.162313",
     "status": "completed"
    },
    "tags": []
   },
   "source": [
    "## Filter data to get 3 and 8 out"
   ]
  },
  {
   "cell_type": "code",
   "execution_count": 9,
   "metadata": {
    "execution": {
     "iopub.execute_input": "2020-12-26T10:09:21.239513Z",
     "iopub.status.busy": "2020-12-26T10:09:21.239084Z",
     "iopub.status.idle": "2020-12-26T10:09:21.254182Z",
     "shell.execute_reply": "2020-12-26T10:09:21.253825Z"
    },
    "papermill": {
     "duration": 0.047284,
     "end_time": "2020-12-26T10:09:21.254270",
     "exception": false,
     "start_time": "2020-12-26T10:09:21.206986",
     "status": "completed"
    },
    "tags": []
   },
   "outputs": [],
   "source": [
    "train_filter = np.where((train_labels == 3 ) | (train_labels == 8))\n",
    "test_filter = np.where((test_labels == 3) | (test_labels == 8))\n",
    "X_train, y_train = train_images[train_filter], train_labels[train_filter]\n",
    "X_test, y_test = test_images[test_filter], test_labels[test_filter]"
   ]
  },
  {
   "cell_type": "markdown",
   "metadata": {
    "papermill": {
     "duration": 0.023231,
     "end_time": "2020-12-26T10:09:21.299517",
     "exception": false,
     "start_time": "2020-12-26T10:09:21.276286",
     "status": "completed"
    },
    "tags": []
   },
   "source": [
    "We normalize the pixel values in the 0 to 1 range"
   ]
  },
  {
   "cell_type": "code",
   "execution_count": 10,
   "metadata": {
    "execution": {
     "iopub.execute_input": "2020-12-26T10:09:21.347104Z",
     "iopub.status.busy": "2020-12-26T10:09:21.346560Z",
     "iopub.status.idle": "2020-12-26T10:09:21.396461Z",
     "shell.execute_reply": "2020-12-26T10:09:21.397052Z"
    },
    "papermill": {
     "duration": 0.076286,
     "end_time": "2020-12-26T10:09:21.397247",
     "exception": false,
     "start_time": "2020-12-26T10:09:21.320961",
     "status": "completed"
    },
    "tags": []
   },
   "outputs": [],
   "source": [
    "X_train = X_train/255.\n",
    "X_test = X_test/255."
   ]
  },
  {
   "cell_type": "markdown",
   "metadata": {
    "papermill": {
     "duration": 0.022589,
     "end_time": "2020-12-26T10:09:21.443101",
     "exception": false,
     "start_time": "2020-12-26T10:09:21.420512",
     "status": "completed"
    },
    "tags": []
   },
   "source": [
    "Setup the labels as 1 (when the digit is 3) and 0 (when the digit is 8)"
   ]
  },
  {
   "cell_type": "code",
   "execution_count": 11,
   "metadata": {
    "execution": {
     "iopub.execute_input": "2020-12-26T10:09:21.492648Z",
     "iopub.status.busy": "2020-12-26T10:09:21.492204Z",
     "iopub.status.idle": "2020-12-26T10:09:21.502363Z",
     "shell.execute_reply": "2020-12-26T10:09:21.502682Z"
    },
    "papermill": {
     "duration": 0.036482,
     "end_time": "2020-12-26T10:09:21.502792",
     "exception": false,
     "start_time": "2020-12-26T10:09:21.466310",
     "status": "completed"
    },
    "tags": []
   },
   "outputs": [],
   "source": [
    "y_train = 1*(y_train==3)\n",
    "y_test = 1*(y_test==3)"
   ]
  },
  {
   "cell_type": "code",
   "execution_count": 12,
   "metadata": {
    "execution": {
     "iopub.execute_input": "2020-12-26T10:09:21.551140Z",
     "iopub.status.busy": "2020-12-26T10:09:21.550598Z",
     "iopub.status.idle": "2020-12-26T10:09:21.562798Z",
     "shell.execute_reply": "2020-12-26T10:09:21.562293Z"
    },
    "papermill": {
     "duration": 0.036729,
     "end_time": "2020-12-26T10:09:21.562919",
     "exception": false,
     "start_time": "2020-12-26T10:09:21.526190",
     "status": "completed"
    },
    "tags": []
   },
   "outputs": [
    {
     "data": {
      "text/plain": [
       "((11982, 28, 28), (1984, 28, 28))"
      ]
     },
     "execution_count": 12,
     "metadata": {},
     "output_type": "execute_result"
    }
   ],
   "source": [
    "X_train.shape, X_test.shape"
   ]
  },
  {
   "cell_type": "markdown",
   "metadata": {
    "papermill": {
     "duration": 0.02255,
     "end_time": "2020-12-26T10:09:21.609655",
     "exception": false,
     "start_time": "2020-12-26T10:09:21.587105",
     "status": "completed"
    },
    "tags": []
   },
   "source": [
    "### Reshape the input data to create a linear array"
   ]
  },
  {
   "cell_type": "code",
   "execution_count": 13,
   "metadata": {
    "execution": {
     "iopub.execute_input": "2020-12-26T10:09:21.663777Z",
     "iopub.status.busy": "2020-12-26T10:09:21.663220Z",
     "iopub.status.idle": "2020-12-26T10:09:21.675532Z",
     "shell.execute_reply": "2020-12-26T10:09:21.675144Z"
    },
    "papermill": {
     "duration": 0.039132,
     "end_time": "2020-12-26T10:09:21.675634",
     "exception": false,
     "start_time": "2020-12-26T10:09:21.636502",
     "status": "completed"
    },
    "tags": []
   },
   "outputs": [
    {
     "data": {
      "text/plain": [
       "((11982, 784), (1984, 784))"
      ]
     },
     "execution_count": 13,
     "metadata": {},
     "output_type": "execute_result"
    }
   ],
   "source": [
    "X_train = X_train.reshape(X_train.shape[0], -1)\n",
    "X_test = X_test.reshape(X_test.shape[0], -1)\n",
    "X_train.shape, X_test.shape"
   ]
  },
  {
   "cell_type": "markdown",
   "metadata": {
    "papermill": {
     "duration": 0.027714,
     "end_time": "2020-12-26T10:09:21.728197",
     "exception": false,
     "start_time": "2020-12-26T10:09:21.700483",
     "status": "completed"
    },
    "tags": []
   },
   "source": [
    "### Importing appropriate functions from 'Kudzu'"
   ]
  },
  {
   "cell_type": "code",
   "execution_count": 14,
   "metadata": {
    "execution": {
     "iopub.execute_input": "2020-12-26T10:09:21.780496Z",
     "iopub.status.busy": "2020-12-26T10:09:21.780076Z",
     "iopub.status.idle": "2020-12-26T10:09:21.798808Z",
     "shell.execute_reply": "2020-12-26T10:09:21.798209Z"
    },
    "papermill": {
     "duration": 0.046363,
     "end_time": "2020-12-26T10:09:21.798948",
     "exception": false,
     "start_time": "2020-12-26T10:09:21.752585",
     "status": "completed"
    },
    "tags": []
   },
   "outputs": [],
   "source": [
    "from kudzu.layer import Sigmoid\n",
    "from kudzu.layer import Relu\n",
    "from kudzu.layer import Affine, Sigmoid\n",
    "\n",
    "from kudzu.model import Model\n",
    "from kudzu.train import Learner\n",
    "from kudzu.optim import GD\n",
    "from kudzu.data import Data, Dataloader, Sampler\n",
    "\n",
    "from kudzu.callbacks import AccCallback\n",
    "from kudzu.callbacks import ClfCallback\n",
    "\n",
    "from kudzu.loss import MSE"
   ]
  },
  {
   "cell_type": "markdown",
   "metadata": {
    "papermill": {
     "duration": 0.023597,
     "end_time": "2020-12-26T10:09:21.847787",
     "exception": false,
     "start_time": "2020-12-26T10:09:21.824190",
     "status": "completed"
    },
    "tags": []
   },
   "source": [
    "### Let us create a `Config` class, to store important parameters. \n",
    "This class essentially plays the role of a dictionary."
   ]
  },
  {
   "cell_type": "code",
   "execution_count": 15,
   "metadata": {
    "execution": {
     "iopub.execute_input": "2020-12-26T10:09:21.913205Z",
     "iopub.status.busy": "2020-12-26T10:09:21.905387Z",
     "iopub.status.idle": "2020-12-26T10:09:21.915076Z",
     "shell.execute_reply": "2020-12-26T10:09:21.915491Z"
    },
    "papermill": {
     "duration": 0.042709,
     "end_time": "2020-12-26T10:09:21.915628",
     "exception": false,
     "start_time": "2020-12-26T10:09:21.872919",
     "status": "completed"
    },
    "tags": []
   },
   "outputs": [],
   "source": [
    "class Config:\n",
    "    pass\n",
    "config = Config()\n",
    "config.lr = 0.001\n",
    "config.num_epochs = 251\n",
    "config.bs = 50"
   ]
  },
  {
   "cell_type": "markdown",
   "metadata": {
    "papermill": {
     "duration": 0.022816,
     "end_time": "2020-12-26T10:09:21.961873",
     "exception": false,
     "start_time": "2020-12-26T10:09:21.939057",
     "status": "completed"
    },
    "tags": []
   },
   "source": [
    "### Initializing data to the variables"
   ]
  },
  {
   "cell_type": "code",
   "execution_count": 16,
   "metadata": {
    "execution": {
     "iopub.execute_input": "2020-12-26T10:09:22.014000Z",
     "iopub.status.busy": "2020-12-26T10:09:22.013456Z",
     "iopub.status.idle": "2020-12-26T10:09:22.026052Z",
     "shell.execute_reply": "2020-12-26T10:09:22.026555Z"
    },
    "papermill": {
     "duration": 0.041096,
     "end_time": "2020-12-26T10:09:22.026681",
     "exception": false,
     "start_time": "2020-12-26T10:09:21.985585",
     "status": "completed"
    },
    "tags": []
   },
   "outputs": [],
   "source": [
    "data = Data(X_train, y_train.reshape(-1,1))\n",
    "sampler = Sampler(data, config.bs, shuffle=True)\n",
    "\n",
    "dl = Dataloader(data, sampler)\n",
    "\n",
    "opt = GD(config.lr)\n",
    "loss = MSE()"
   ]
  },
  {
   "cell_type": "code",
   "execution_count": 17,
   "metadata": {
    "execution": {
     "iopub.execute_input": "2020-12-26T10:09:22.078784Z",
     "iopub.status.busy": "2020-12-26T10:09:22.078192Z",
     "iopub.status.idle": "2020-12-26T10:09:22.089019Z",
     "shell.execute_reply": "2020-12-26T10:09:22.089458Z"
    },
    "papermill": {
     "duration": 0.040533,
     "end_time": "2020-12-26T10:09:22.089571",
     "exception": false,
     "start_time": "2020-12-26T10:09:22.049038",
     "status": "completed"
    },
    "tags": []
   },
   "outputs": [],
   "source": [
    "training_xdata = X_train\n",
    "testing_xdata = X_test\n",
    "training_ydata = y_train.reshape(-1,1)\n",
    "testing_ydata = y_test.reshape(-1,1)"
   ]
  },
  {
   "cell_type": "markdown",
   "metadata": {
    "papermill": {
     "duration": 0.022787,
     "end_time": "2020-12-26T10:09:22.136019",
     "exception": false,
     "start_time": "2020-12-26T10:09:22.113232",
     "status": "completed"
    },
    "tags": []
   },
   "source": [
    "### Running Models with the Training data\n",
    "Details about the network layers:\n",
    "- A first affine layer has 784 inputs and does 100 affine transforms. These are followed by a Relu\n",
    "- A second affine layer has 100 inputs from the 100 activations of the past layer, and does 100 affine transforms. These are followed by a Relu\n",
    "- A third affine layer has 100 activations and does 2 affine transformations to create an embedding for visualization. There is no non-linearity here.\n",
    "- A final \"logistic regression\" which has an affine transform from 2 inputs to 1 output, which is squeezed through a sigmoid.\n",
    "\n",
    "Help taken from Anshuman's Notebook."
   ]
  },
  {
   "cell_type": "code",
   "execution_count": 18,
   "metadata": {
    "execution": {
     "iopub.execute_input": "2020-12-26T10:09:22.185963Z",
     "iopub.status.busy": "2020-12-26T10:09:22.185542Z",
     "iopub.status.idle": "2020-12-26T10:09:22.203097Z",
     "shell.execute_reply": "2020-12-26T10:09:22.202435Z"
    },
    "papermill": {
     "duration": 0.045213,
     "end_time": "2020-12-26T10:09:22.203242",
     "exception": false,
     "start_time": "2020-12-26T10:09:22.158029",
     "status": "completed"
    },
    "tags": []
   },
   "outputs": [],
   "source": [
    "# layers for the Neural Network\n",
    "layers = [Affine(\"first\", 784, 100), Relu(\"first\"), Affine(\"second\", 100, 100), Relu(\"second\"), Affine(\"third\", 100, 2), Affine(\"final\", 2, 1), Sigmoid(\"final\")]\n",
    "model_nn = Model(layers)\n",
    "\n",
    "# layers for the Logistic Regression\n",
    "layers_lr = [Affine(\"logits\", 784, 1), Sigmoid(\"sigmoid\")]\n",
    "model_lr = Model(layers_lr)"
   ]
  },
  {
   "cell_type": "code",
   "execution_count": 19,
   "metadata": {
    "execution": {
     "iopub.execute_input": "2020-12-26T10:09:22.256549Z",
     "iopub.status.busy": "2020-12-26T10:09:22.255960Z",
     "iopub.status.idle": "2020-12-26T10:09:22.267879Z",
     "shell.execute_reply": "2020-12-26T10:09:22.268241Z"
    },
    "papermill": {
     "duration": 0.038871,
     "end_time": "2020-12-26T10:09:22.268339",
     "exception": false,
     "start_time": "2020-12-26T10:09:22.229468",
     "status": "completed"
    },
    "tags": []
   },
   "outputs": [],
   "source": [
    "# suffix _nn stands for Neural Network.\n",
    "learner_nn = Learner(loss, model_nn, opt, config.num_epochs)\n",
    "acc_nn = ClfCallback(learner_nn, config.bs, training_xdata , testing_xdata, training_ydata, testing_ydata)\n",
    "learner_nn.set_callbacks([acc_nn])"
   ]
  },
  {
   "cell_type": "code",
   "execution_count": 20,
   "metadata": {
    "execution": {
     "iopub.execute_input": "2020-12-26T10:09:22.317371Z",
     "iopub.status.busy": "2020-12-26T10:09:22.316952Z",
     "iopub.status.idle": "2020-12-26T10:10:41.191274Z",
     "shell.execute_reply": "2020-12-26T10:10:41.191728Z"
    },
    "papermill": {
     "duration": 78.899632,
     "end_time": "2020-12-26T10:10:41.191859",
     "exception": false,
     "start_time": "2020-12-26T10:09:22.292227",
     "status": "completed"
    },
    "tags": []
   },
   "outputs": [
    {
     "name": "stdout",
     "output_type": "stream",
     "text": [
      "====== Neural Network ======\n"
     ]
    },
    {
     "name": "stdout",
     "output_type": "stream",
     "text": [
      "Epoch 0, Loss 0.2523\n",
      "Training Accuracy: 0.5941, Testing Accuracy: 0.6275\n",
      "\n"
     ]
    },
    {
     "name": "stdout",
     "output_type": "stream",
     "text": [
      "Epoch 10, Loss 0.1065\n",
      "Training Accuracy: 0.9170, Testing Accuracy: 0.9178\n",
      "\n"
     ]
    },
    {
     "name": "stdout",
     "output_type": "stream",
     "text": [
      "Epoch 20, Loss 0.0599\n",
      "Training Accuracy: 0.9395, Testing Accuracy: 0.9441\n",
      "\n"
     ]
    },
    {
     "name": "stdout",
     "output_type": "stream",
     "text": [
      "Epoch 30, Loss 0.0459\n",
      "Training Accuracy: 0.9506, Testing Accuracy: 0.9541\n",
      "\n"
     ]
    },
    {
     "name": "stdout",
     "output_type": "stream",
     "text": [
      "Epoch 40, Loss 0.0393\n",
      "Training Accuracy: 0.9562, Testing Accuracy: 0.9592\n",
      "\n"
     ]
    },
    {
     "name": "stdout",
     "output_type": "stream",
     "text": [
      "Epoch 50, Loss 0.0354\n",
      "Training Accuracy: 0.9593, Testing Accuracy: 0.9617\n",
      "\n"
     ]
    },
    {
     "name": "stdout",
     "output_type": "stream",
     "text": [
      "Epoch 60, Loss 0.0328\n",
      "Training Accuracy: 0.9621, Testing Accuracy: 0.9637\n",
      "\n"
     ]
    },
    {
     "name": "stdout",
     "output_type": "stream",
     "text": [
      "Epoch 70, Loss 0.0309\n",
      "Training Accuracy: 0.9635, Testing Accuracy: 0.9647\n",
      "\n"
     ]
    },
    {
     "name": "stdout",
     "output_type": "stream",
     "text": [
      "Epoch 80, Loss 0.0293\n",
      "Training Accuracy: 0.9659, Testing Accuracy: 0.9662\n",
      "\n"
     ]
    },
    {
     "name": "stdout",
     "output_type": "stream",
     "text": [
      "Epoch 90, Loss 0.0281\n",
      "Training Accuracy: 0.9670, Testing Accuracy: 0.9672\n",
      "\n"
     ]
    },
    {
     "name": "stdout",
     "output_type": "stream",
     "text": [
      "Epoch 100, Loss 0.027\n",
      "Training Accuracy: 0.9682, Testing Accuracy: 0.9682\n",
      "\n"
     ]
    },
    {
     "name": "stdout",
     "output_type": "stream",
     "text": [
      "Epoch 110, Loss 0.0261\n",
      "Training Accuracy: 0.9695, Testing Accuracy: 0.9682\n",
      "\n"
     ]
    },
    {
     "name": "stdout",
     "output_type": "stream",
     "text": [
      "Epoch 120, Loss 0.0253\n",
      "Training Accuracy: 0.9708, Testing Accuracy: 0.9698\n",
      "\n"
     ]
    },
    {
     "name": "stdout",
     "output_type": "stream",
     "text": [
      "Epoch 130, Loss 0.0246\n",
      "Training Accuracy: 0.9710, Testing Accuracy: 0.9703\n",
      "\n"
     ]
    },
    {
     "name": "stdout",
     "output_type": "stream",
     "text": [
      "Epoch 140, Loss 0.0239\n",
      "Training Accuracy: 0.9715, Testing Accuracy: 0.9708\n",
      "\n"
     ]
    },
    {
     "name": "stdout",
     "output_type": "stream",
     "text": [
      "Epoch 150, Loss 0.0233\n",
      "Training Accuracy: 0.9721, Testing Accuracy: 0.9723\n",
      "\n"
     ]
    },
    {
     "name": "stdout",
     "output_type": "stream",
     "text": [
      "Epoch 160, Loss 0.0227\n",
      "Training Accuracy: 0.9727, Testing Accuracy: 0.9723\n",
      "\n"
     ]
    },
    {
     "name": "stdout",
     "output_type": "stream",
     "text": [
      "Epoch 170, Loss 0.0221\n",
      "Training Accuracy: 0.9736, Testing Accuracy: 0.9733\n",
      "\n"
     ]
    },
    {
     "name": "stdout",
     "output_type": "stream",
     "text": [
      "Epoch 180, Loss 0.0216\n",
      "Training Accuracy: 0.9745, Testing Accuracy: 0.9738\n",
      "\n"
     ]
    },
    {
     "name": "stdout",
     "output_type": "stream",
     "text": [
      "Epoch 190, Loss 0.0211\n",
      "Training Accuracy: 0.9754, Testing Accuracy: 0.9738\n",
      "\n"
     ]
    },
    {
     "name": "stdout",
     "output_type": "stream",
     "text": [
      "Epoch 200, Loss 0.0207\n",
      "Training Accuracy: 0.9763, Testing Accuracy: 0.9738\n",
      "\n"
     ]
    },
    {
     "name": "stdout",
     "output_type": "stream",
     "text": [
      "Epoch 210, Loss 0.0202\n",
      "Training Accuracy: 0.9771, Testing Accuracy: 0.9738\n",
      "\n"
     ]
    },
    {
     "name": "stdout",
     "output_type": "stream",
     "text": [
      "Epoch 220, Loss 0.0198\n",
      "Training Accuracy: 0.9778, Testing Accuracy: 0.9743\n",
      "\n"
     ]
    },
    {
     "name": "stdout",
     "output_type": "stream",
     "text": [
      "Epoch 230, Loss 0.0193\n",
      "Training Accuracy: 0.9788, Testing Accuracy: 0.9743\n",
      "\n"
     ]
    },
    {
     "name": "stdout",
     "output_type": "stream",
     "text": [
      "Epoch 240, Loss 0.0189\n",
      "Training Accuracy: 0.9793, Testing Accuracy: 0.9748\n",
      "\n"
     ]
    },
    {
     "name": "stdout",
     "output_type": "stream",
     "text": [
      "Epoch 250, Loss 0.0185\n",
      "Training Accuracy: 0.9800, Testing Accuracy: 0.9758\n",
      "\n"
     ]
    },
    {
     "data": {
      "text/plain": [
       "0.08269569769501081"
      ]
     },
     "execution_count": 20,
     "metadata": {},
     "output_type": "execute_result"
    }
   ],
   "source": [
    "print(\"====== Neural Network ======\")\n",
    "learner_nn.train_loop(dl)"
   ]
  },
  {
   "cell_type": "markdown",
   "metadata": {
    "papermill": {
     "duration": 0.033206,
     "end_time": "2020-12-26T10:10:41.264375",
     "exception": false,
     "start_time": "2020-12-26T10:10:41.231169",
     "status": "completed"
    },
    "tags": []
   },
   "source": [
    "### Logistic Regression based Implementation."
   ]
  },
  {
   "cell_type": "code",
   "execution_count": 21,
   "metadata": {
    "execution": {
     "iopub.execute_input": "2020-12-26T10:10:41.341211Z",
     "iopub.status.busy": "2020-12-26T10:10:41.340677Z",
     "iopub.status.idle": "2020-12-26T10:10:41.349809Z",
     "shell.execute_reply": "2020-12-26T10:10:41.349378Z"
    },
    "papermill": {
     "duration": 0.051043,
     "end_time": "2020-12-26T10:10:41.349938",
     "exception": false,
     "start_time": "2020-12-26T10:10:41.298895",
     "status": "completed"
    },
    "tags": []
   },
   "outputs": [],
   "source": [
    "learner_lr = Learner(loss, model_lr, opt, config.num_epochs)\n",
    "acc_lr = ClfCallback(learner_lr, config.bs, training_xdata , testing_xdata, training_ydata, testing_ydata)\n",
    "learner_lr.set_callbacks([acc_lr])"
   ]
  },
  {
   "cell_type": "code",
   "execution_count": 22,
   "metadata": {
    "execution": {
     "iopub.execute_input": "2020-12-26T10:10:41.426274Z",
     "iopub.status.busy": "2020-12-26T10:10:41.425476Z",
     "iopub.status.idle": "2020-12-26T10:10:55.261827Z",
     "shell.execute_reply": "2020-12-26T10:10:55.262611Z"
    },
    "papermill": {
     "duration": 13.880763,
     "end_time": "2020-12-26T10:10:55.262768",
     "exception": false,
     "start_time": "2020-12-26T10:10:41.382005",
     "status": "completed"
    },
    "tags": []
   },
   "outputs": [
    {
     "name": "stdout",
     "output_type": "stream",
     "text": [
      "====== Logistic Regression ======\n",
      "Epoch 0, Loss 0.2057\n",
      "Training Accuracy: 0.7899, Testing Accuracy: 0.8085\n",
      "\n"
     ]
    },
    {
     "name": "stdout",
     "output_type": "stream",
     "text": [
      "Epoch 10, Loss 0.0995\n",
      "Training Accuracy: 0.9145, Testing Accuracy: 0.9294\n",
      "\n"
     ]
    },
    {
     "name": "stdout",
     "output_type": "stream",
     "text": [
      "Epoch 20, Loss 0.0781\n",
      "Training Accuracy: 0.9291, Testing Accuracy: 0.9451\n",
      "\n"
     ]
    },
    {
     "name": "stdout",
     "output_type": "stream",
     "text": [
      "Epoch 30, Loss 0.0678\n",
      "Training Accuracy: 0.9377, Testing Accuracy: 0.9476\n",
      "\n"
     ]
    },
    {
     "name": "stdout",
     "output_type": "stream",
     "text": [
      "Epoch 40, Loss 0.0614\n",
      "Training Accuracy: 0.9419, Testing Accuracy: 0.9526\n",
      "\n"
     ]
    },
    {
     "name": "stdout",
     "output_type": "stream",
     "text": [
      "Epoch 50, Loss 0.0571\n",
      "Training Accuracy: 0.9442, Testing Accuracy: 0.9546\n",
      "\n"
     ]
    },
    {
     "name": "stdout",
     "output_type": "stream",
     "text": [
      "Epoch 60, Loss 0.0538\n",
      "Training Accuracy: 0.9464, Testing Accuracy: 0.9582\n",
      "\n"
     ]
    },
    {
     "name": "stdout",
     "output_type": "stream",
     "text": [
      "Epoch 70, Loss 0.0513\n",
      "Training Accuracy: 0.9484, Testing Accuracy: 0.9617\n",
      "\n"
     ]
    },
    {
     "name": "stdout",
     "output_type": "stream",
     "text": [
      "Epoch 80, Loss 0.0493\n",
      "Training Accuracy: 0.9498, Testing Accuracy: 0.9627\n",
      "\n"
     ]
    },
    {
     "name": "stdout",
     "output_type": "stream",
     "text": [
      "Epoch 90, Loss 0.0477\n",
      "Training Accuracy: 0.9512, Testing Accuracy: 0.9637\n",
      "\n"
     ]
    },
    {
     "name": "stdout",
     "output_type": "stream",
     "text": [
      "Epoch 100, Loss 0.0463\n",
      "Training Accuracy: 0.9523, Testing Accuracy: 0.9637\n",
      "\n"
     ]
    },
    {
     "name": "stdout",
     "output_type": "stream",
     "text": [
      "Epoch 110, Loss 0.0451\n",
      "Training Accuracy: 0.9525, Testing Accuracy: 0.9637\n",
      "\n"
     ]
    },
    {
     "name": "stdout",
     "output_type": "stream",
     "text": [
      "Epoch 120, Loss 0.044\n",
      "Training Accuracy: 0.9538, Testing Accuracy: 0.9637\n",
      "\n"
     ]
    },
    {
     "name": "stdout",
     "output_type": "stream",
     "text": [
      "Epoch 130, Loss 0.0431\n",
      "Training Accuracy: 0.9547, Testing Accuracy: 0.9637\n",
      "\n"
     ]
    },
    {
     "name": "stdout",
     "output_type": "stream",
     "text": [
      "Epoch 140, Loss 0.0423\n",
      "Training Accuracy: 0.9559, Testing Accuracy: 0.9637\n",
      "\n"
     ]
    },
    {
     "name": "stdout",
     "output_type": "stream",
     "text": [
      "Epoch 150, Loss 0.0415\n",
      "Training Accuracy: 0.9564, Testing Accuracy: 0.9627\n",
      "\n"
     ]
    },
    {
     "name": "stdout",
     "output_type": "stream",
     "text": [
      "Epoch 160, Loss 0.0409\n",
      "Training Accuracy: 0.9567, Testing Accuracy: 0.9632\n",
      "\n"
     ]
    },
    {
     "name": "stdout",
     "output_type": "stream",
     "text": [
      "Epoch 170, Loss 0.0403\n",
      "Training Accuracy: 0.9570, Testing Accuracy: 0.9637\n",
      "\n"
     ]
    },
    {
     "name": "stdout",
     "output_type": "stream",
     "text": [
      "Epoch 180, Loss 0.0397\n",
      "Training Accuracy: 0.9576, Testing Accuracy: 0.9632\n",
      "\n"
     ]
    },
    {
     "name": "stdout",
     "output_type": "stream",
     "text": [
      "Epoch 190, Loss 0.0392\n",
      "Training Accuracy: 0.9581, Testing Accuracy: 0.9637\n",
      "\n"
     ]
    },
    {
     "name": "stdout",
     "output_type": "stream",
     "text": [
      "Epoch 200, Loss 0.0387\n",
      "Training Accuracy: 0.9584, Testing Accuracy: 0.9647\n",
      "\n"
     ]
    },
    {
     "name": "stdout",
     "output_type": "stream",
     "text": [
      "Epoch 210, Loss 0.0383\n",
      "Training Accuracy: 0.9587, Testing Accuracy: 0.9652\n",
      "\n"
     ]
    },
    {
     "name": "stdout",
     "output_type": "stream",
     "text": [
      "Epoch 220, Loss 0.0379\n",
      "Training Accuracy: 0.9589, Testing Accuracy: 0.9652\n",
      "\n"
     ]
    },
    {
     "name": "stdout",
     "output_type": "stream",
     "text": [
      "Epoch 230, Loss 0.0375\n",
      "Training Accuracy: 0.9593, Testing Accuracy: 0.9662\n",
      "\n"
     ]
    },
    {
     "name": "stdout",
     "output_type": "stream",
     "text": [
      "Epoch 240, Loss 0.0371\n",
      "Training Accuracy: 0.9598, Testing Accuracy: 0.9662\n",
      "\n"
     ]
    },
    {
     "name": "stdout",
     "output_type": "stream",
     "text": [
      "Epoch 250, Loss 0.0368\n",
      "Training Accuracy: 0.9601, Testing Accuracy: 0.9667\n",
      "\n"
     ]
    },
    {
     "data": {
      "text/plain": [
       "0.03859348040043714"
      ]
     },
     "execution_count": 22,
     "metadata": {},
     "output_type": "execute_result"
    }
   ],
   "source": [
    "print(\"====== Logistic Regression ======\")\n",
    "learner_lr.train_loop(dl)"
   ]
  },
  {
   "cell_type": "markdown",
   "metadata": {
    "papermill": {
     "duration": 0.044773,
     "end_time": "2020-12-26T10:10:55.363750",
     "exception": false,
     "start_time": "2020-12-26T10:10:55.318977",
     "status": "completed"
    },
    "tags": []
   },
   "source": [
    "### Comparing results of NN and LR"
   ]
  },
  {
   "cell_type": "code",
   "execution_count": 23,
   "metadata": {
    "execution": {
     "iopub.execute_input": "2020-12-26T10:10:55.462198Z",
     "iopub.status.busy": "2020-12-26T10:10:55.461598Z",
     "iopub.status.idle": "2020-12-26T10:10:55.683453Z",
     "shell.execute_reply": "2020-12-26T10:10:55.683856Z"
    },
    "papermill": {
     "duration": 0.27604,
     "end_time": "2020-12-26T10:10:55.683994",
     "exception": false,
     "start_time": "2020-12-26T10:10:55.407954",
     "status": "completed"
    },
    "tags": []
   },
   "outputs": [
    {
     "data": {
      "text/plain": [
       "<matplotlib.legend.Legend at 0x7f463482bc18>"
      ]
     },
     "execution_count": 23,
     "metadata": {},
     "output_type": "execute_result"
    },
    {
     "data": {
      "image/png": "[encoded data removed]",
      "text/plain": [
       "<Figure size 1080x720 with 1 Axes>"
      ]
     },
     "metadata": {
      "needs_background": "light"
     },
     "output_type": "display_data"
    }
   ],
   "source": [
    "plt.figure(figsize=(15,10))\n",
    "\n",
    "# Neural Network plots\n",
    "plt.plot(acc_nn.accuracies, 'r-', label = \"Training Accuracies - NN\")\n",
    "plt.plot(acc_nn.test_accuracies, 'g-', label = \"Testing Accuracies - NN\")\n",
    "\n",
    "# Logistic Regression plots\n",
    "plt.plot(acc_lr.accuracies, 'k-', label = \"Training Accuracies - LR\")\n",
    "plt.plot(acc_lr.test_accuracies, 'b-', label = \"Testing Accuracies - LR\")\n",
    "\n",
    "plt.ylim(0.8, 1)\n",
    "\n",
    "plt.legend()\n",
    "\n"
   ]
  },
  {
   "cell_type": "markdown",
   "metadata": {
    "papermill": {
     "duration": 0.03837,
     "end_time": "2020-12-26T10:10:55.759672",
     "exception": false,
     "start_time": "2020-12-26T10:10:55.721302",
     "status": "completed"
    },
    "tags": []
   },
   "source": [
    "### From the plot, we can observe the following:\n",
    "- Neural Network achieves higher accuracy than the Logistic Regression model.\n",
    "- This apparently, is because of overfitting, i.e. NN captures more noise than data.\n",
    "- Testing accuracy of NN drops below the Training accuracy at higher epochs. This explains the over-fitting on training data.\n",
    "- Logistic Regression gives a reliable accuracy, without the above mentioned problem.\n"
   ]
  },
  {
   "cell_type": "markdown",
   "metadata": {
    "papermill": {
     "duration": 0.03713,
     "end_time": "2020-12-26T10:10:55.835283",
     "exception": false,
     "start_time": "2020-12-26T10:10:55.798153",
     "status": "completed"
    },
    "tags": []
   },
   "source": [
    "### Moving till the last but one layer (excluding it).\n",
    "#### Plotting the outputs of this layer of the NN."
   ]
  },
  {
   "cell_type": "code",
   "execution_count": 24,
   "metadata": {
    "execution": {
     "iopub.execute_input": "2020-12-26T10:10:55.915616Z",
     "iopub.status.busy": "2020-12-26T10:10:55.915063Z",
     "iopub.status.idle": "2020-12-26T10:10:55.927862Z",
     "shell.execute_reply": "2020-12-26T10:10:55.928497Z"
    },
    "papermill": {
     "duration": 0.055505,
     "end_time": "2020-12-26T10:10:55.928674",
     "exception": false,
     "start_time": "2020-12-26T10:10:55.873169",
     "status": "completed"
    },
    "tags": []
   },
   "outputs": [],
   "source": [
    "model_new = Model(layers[:-2])"
   ]
  },
  {
   "cell_type": "code",
   "execution_count": 25,
   "metadata": {
    "execution": {
     "iopub.execute_input": "2020-12-26T10:10:56.017230Z",
     "iopub.status.busy": "2020-12-26T10:10:56.016400Z",
     "iopub.status.idle": "2020-12-26T10:10:56.034207Z",
     "shell.execute_reply": "2020-12-26T10:10:56.034593Z"
    },
    "papermill": {
     "duration": 0.061966,
     "end_time": "2020-12-26T10:10:56.034712",
     "exception": false,
     "start_time": "2020-12-26T10:10:55.972746",
     "status": "completed"
    },
    "tags": []
   },
   "outputs": [],
   "source": [
    "plot_testing = model_new(testing_xdata)"
   ]
  },
  {
   "cell_type": "code",
   "execution_count": 26,
   "metadata": {
    "execution": {
     "iopub.execute_input": "2020-12-26T10:10:56.126213Z",
     "iopub.status.busy": "2020-12-26T10:10:56.125569Z",
     "iopub.status.idle": "2020-12-26T10:10:56.303844Z",
     "shell.execute_reply": "2020-12-26T10:10:56.303308Z"
    },
    "papermill": {
     "duration": 0.227876,
     "end_time": "2020-12-26T10:10:56.303974",
     "exception": false,
     "start_time": "2020-12-26T10:10:56.076098",
     "status": "completed"
    },
    "tags": []
   },
   "outputs": [
    {
     "data": {
      "text/plain": [
       "Text(0.5, 1.0, 'Outputs')"
      ]
     },
     "execution_count": 26,
     "metadata": {},
     "output_type": "execute_result"
    },
    {
     "data": {
      "image/png": "[encoded data removed]",
      "text/plain": [
       "<Figure size 576x504 with 1 Axes>"
      ]
     },
     "metadata": {
      "needs_background": "light"
     },
     "output_type": "display_data"
    }
   ],
   "source": [
    "plt.figure(figsize=(8,7))\n",
    "plt.scatter(plot_testing[:,0], plot_testing[:,1], alpha = 0.1, c = y_test.ravel());\n",
    "plt.title('Outputs')"
   ]
  },
  {
   "cell_type": "markdown",
   "metadata": {
    "papermill": {
     "duration": 0.042339,
     "end_time": "2020-12-26T10:10:56.392686",
     "exception": false,
     "start_time": "2020-12-26T10:10:56.350347",
     "status": "completed"
    },
    "tags": []
   },
   "source": [
    "### Plotting probability contours"
   ]
  },
  {
   "cell_type": "code",
   "execution_count": 27,
   "metadata": {
    "execution": {
     "iopub.execute_input": "2020-12-26T10:10:56.489925Z",
     "iopub.status.busy": "2020-12-26T10:10:56.489449Z",
     "iopub.status.idle": "2020-12-26T10:10:56.496737Z",
     "shell.execute_reply": "2020-12-26T10:10:56.497182Z"
    },
    "papermill": {
     "duration": 0.061284,
     "end_time": "2020-12-26T10:10:56.497346",
     "exception": false,
     "start_time": "2020-12-26T10:10:56.436062",
     "status": "completed"
    },
    "tags": []
   },
   "outputs": [],
   "source": [
    "model_prob = Model(layers[-2:]) "
   ]
  },
  {
   "cell_type": "code",
   "execution_count": 28,
   "metadata": {
    "execution": {
     "iopub.execute_input": "2020-12-26T10:10:56.590864Z",
     "iopub.status.busy": "2020-12-26T10:10:56.590253Z",
     "iopub.status.idle": "2020-12-26T10:10:56.605556Z",
     "shell.execute_reply": "2020-12-26T10:10:56.606024Z"
    },
    "papermill": {
     "duration": 0.067988,
     "end_time": "2020-12-26T10:10:56.606168",
     "exception": false,
     "start_time": "2020-12-26T10:10:56.538180",
     "status": "completed"
    },
    "tags": []
   },
   "outputs": [],
   "source": [
    "# Adjust the x and y ranges according to the above generated plot.\n",
    "x_range = np.linspace(-4, 1, 100) \n",
    "y_range = np.linspace(-6, 6, 100) \n",
    "x_grid, y_grid = np.meshgrid(x_range, y_range) # x_grid and y_grig are of size 100 X 100\n",
    "\n",
    "# converting x_grid and y_grid to continuous arrays\n",
    "x_grid_flat = np.ravel(x_grid)\n",
    "y_grid_flat = np.ravel(y_grid)\n",
    "\n",
    "# The last layer of the current model takes two columns as input. Hence transpose of np.vstack() is required.\n",
    "X = np.vstack((x_grid_flat, y_grid_flat)).T\n",
    "\n",
    "# x_grid and y_grid are of size 100 x 100\n",
    "probability_contour = model_prob(X).reshape(100,100) "
   ]
  },
  {
   "cell_type": "code",
   "execution_count": 29,
   "metadata": {
    "execution": {
     "iopub.execute_input": "2020-12-26T10:10:56.727490Z",
     "iopub.status.busy": "2020-12-26T10:10:56.726919Z",
     "iopub.status.idle": "2020-12-26T10:10:56.963764Z",
     "shell.execute_reply": "2020-12-26T10:10:56.963360Z"
    },
    "papermill": {
     "duration": 0.289858,
     "end_time": "2020-12-26T10:10:56.963882",
     "exception": false,
     "start_time": "2020-12-26T10:10:56.674024",
     "status": "completed"
    },
    "tags": []
   },
   "outputs": [
    {
     "data": {
      "image/png": "[encoded data removed]",
      "text/plain": [
       "<Figure size 720x648 with 1 Axes>"
      ]
     },
     "metadata": {
      "needs_background": "light"
     },
     "output_type": "display_data"
    }
   ],
   "source": [
    "plt.figure(figsize=(10,9))\n",
    "plt.scatter(plot_testing[:,0], plot_testing[:,1], alpha = 0.1, c = y_test.ravel())\n",
    "contours = plt.contour(x_grid,y_grid,probability_contour)\n",
    "plt.title('Probability Contours')\n",
    "plt.clabel(contours, inline = True );"
   ]
  }
 ],
 "metadata": {
  "kernelspec": {
   "display_name": "Python 3",
   "language": "python",
   "name": "python3"
  },
  "language_info": {
   "codemirror_mode": {
    "name": "ipython",
    "version": 3
   },
   "file_extension": ".py",
   "mimetype": "text/x-python",
   "name": "python",
   "nbconvert_exporter": "python",
   "pygments_lexer": "ipython3",
   "version": "3.6.12"
  },
  "papermill": {
   "duration": 101.095015,
   "end_time": "2020-12-26T10:10:57.320886",
   "environment_variables": {},
   "exception": null,
   "input_path": "2020-08-11-NeuralNetwork.ipynb",
   "output_path": "2020-08-11-NeuralNetwork.ipynb",
   "parameters": {},
   "start_time": "2020-12-26T10:09:16.225871",
   "version": "2.1.2"
  }
 },
 "nbformat": 4,
 "nbformat_minor": 4
}