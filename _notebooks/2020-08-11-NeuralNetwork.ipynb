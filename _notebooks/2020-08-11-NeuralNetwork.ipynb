{
 "cells": [
  {
   "cell_type": "markdown",
   "metadata": {
    "papermill": {
     "duration": 0.030223,
     "end_time": "2020-10-09T10:04:21.395327",
     "exception": false,
     "start_time": "2020-10-09T10:04:21.365104",
     "status": "completed"
    },
    "tags": []
   },
   "source": [
    "# \"A Basic Neural Network: Differentiate Hand-Written Digits\"\n",
    "\n",
    "- badges: true\n",
    "- author: Akshith Sriram"
   ]
  },
  {
   "cell_type": "markdown",
   "metadata": {
    "papermill": {
     "duration": 0.023496,
     "end_time": "2020-10-09T10:04:21.443119",
     "exception": false,
     "start_time": "2020-10-09T10:04:21.419623",
     "status": "completed"
    },
    "tags": []
   },
   "source": [
    "### Key Objectives:\n",
    "- Building a neural network that differentiates two hand-written digits 3 and 8.\n",
    "- Comparing the results of this Neural Network (NN) to that of a Logistic Regression (LR) model.\n",
    "\n",
    "### Requirements:\n",
    "- 'Kudzu' : A neural network library that was designed during our course by [Univ.AI](www.univ.ai). \n",
    "- MNIST Database\n",
    "\n",
    "If MNIST is not installed, use the command `!pip install mnist` given below.\n",
    "It can be run both from the command line and Jupyter Notebook."
   ]
  },
  {
   "cell_type": "code",
   "execution_count": 1,
   "metadata": {
    "execution": {
     "iopub.execute_input": "2020-10-09T10:04:21.495875Z",
     "iopub.status.busy": "2020-10-09T10:04:21.495285Z",
     "iopub.status.idle": "2020-10-09T10:04:22.804173Z",
     "shell.execute_reply": "2020-10-09T10:04:22.804758Z"
    },
    "papermill": {
     "duration": 1.339608,
     "end_time": "2020-10-09T10:04:22.804974",
     "exception": false,
     "start_time": "2020-10-09T10:04:21.465366",
     "status": "completed"
    },
    "tags": []
   },
   "outputs": [
    {
     "name": "stdout",
     "output_type": "stream",
     "text": [
      "Collecting mnist\r\n"
     ]
    },
    {
     "name": "stdout",
     "output_type": "stream",
     "text": [
      "  Downloading mnist-0.2.2-py2.py3-none-any.whl (3.5 kB)\r\n",
      "Requirement already satisfied: numpy in /opt/hostedtoolcache/Python/3.6.12/x64/lib/python3.6/site-packages (from mnist) (1.19.2)\r\n"
     ]
    },
    {
     "name": "stdout",
     "output_type": "stream",
     "text": [
      "Installing collected packages: mnist\r\n"
     ]
    },
    {
     "name": "stdout",
     "output_type": "stream",
     "text": [
      "Successfully installed mnist-0.2.2\r\n"
     ]
    }
   ],
   "source": [
    "!pip install mnist "
   ]
  },
  {
   "cell_type": "markdown",
   "metadata": {
    "papermill": {
     "duration": 0.157835,
     "end_time": "2020-10-09T10:04:23.341874",
     "exception": false,
     "start_time": "2020-10-09T10:04:23.184039",
     "status": "completed"
    },
    "tags": []
   },
   "source": [
    "#### Importing necessary libraries"
   ]
  },
  {
   "cell_type": "code",
   "execution_count": 2,
   "metadata": {
    "execution": {
     "iopub.execute_input": "2020-10-09T10:04:23.601726Z",
     "iopub.status.busy": "2020-10-09T10:04:23.600056Z",
     "iopub.status.idle": "2020-10-09T10:04:24.129795Z",
     "shell.execute_reply": "2020-10-09T10:04:24.128715Z"
    },
    "papermill": {
     "duration": 0.761744,
     "end_time": "2020-10-09T10:04:24.129943",
     "exception": false,
     "start_time": "2020-10-09T10:04:23.368199",
     "status": "completed"
    },
    "tags": []
   },
   "outputs": [],
   "source": [
    "%load_ext autoreload\n",
    "%autoreload 2\n",
    "\n",
    "%matplotlib inline\n",
    "import matplotlib.pyplot as plt\n",
    "\n",
    "import numpy as np\n",
    "import pandas as pd"
   ]
  },
  {
   "cell_type": "markdown",
   "metadata": {
    "papermill": {
     "duration": 0.023908,
     "end_time": "2020-10-09T10:04:24.178927",
     "exception": false,
     "start_time": "2020-10-09T10:04:24.155019",
     "status": "completed"
    },
    "tags": []
   },
   "source": [
    "### Preparing the Data"
   ]
  },
  {
   "cell_type": "code",
   "execution_count": 3,
   "metadata": {
    "execution": {
     "iopub.execute_input": "2020-10-09T10:04:24.235745Z",
     "iopub.status.busy": "2020-10-09T10:04:24.229000Z",
     "iopub.status.idle": "2020-10-09T10:04:24.241234Z",
     "shell.execute_reply": "2020-10-09T10:04:24.240735Z"
    },
    "papermill": {
     "duration": 0.039822,
     "end_time": "2020-10-09T10:04:24.241358",
     "exception": false,
     "start_time": "2020-10-09T10:04:24.201536",
     "status": "completed"
    },
    "tags": []
   },
   "outputs": [],
   "source": [
    "import mnist"
   ]
  },
  {
   "cell_type": "code",
   "execution_count": 4,
   "metadata": {
    "execution": {
     "iopub.execute_input": "2020-10-09T10:04:24.295952Z",
     "iopub.status.busy": "2020-10-09T10:04:24.295422Z",
     "iopub.status.idle": "2020-10-09T10:04:25.985660Z",
     "shell.execute_reply": "2020-10-09T10:04:25.986474Z"
    },
    "papermill": {
     "duration": 1.72006,
     "end_time": "2020-10-09T10:04:25.986793",
     "exception": false,
     "start_time": "2020-10-09T10:04:24.266733",
     "status": "completed"
    },
    "tags": []
   },
   "outputs": [],
   "source": [
    "train_images = mnist.train_images()\n",
    "train_labels = mnist.train_labels()"
   ]
  },
  {
   "cell_type": "code",
   "execution_count": 5,
   "metadata": {
    "execution": {
     "iopub.execute_input": "2020-10-09T10:04:26.044089Z",
     "iopub.status.busy": "2020-10-09T10:04:26.043539Z",
     "iopub.status.idle": "2020-10-09T10:04:26.058783Z",
     "shell.execute_reply": "2020-10-09T10:04:26.059292Z"
    },
    "papermill": {
     "duration": 0.046891,
     "end_time": "2020-10-09T10:04:26.059432",
     "exception": false,
     "start_time": "2020-10-09T10:04:26.012541",
     "status": "completed"
    },
    "tags": []
   },
   "outputs": [
    {
     "data": {
      "text/plain": [
       "((60000, 28, 28), (60000,))"
      ]
     },
     "execution_count": 5,
     "metadata": {},
     "output_type": "execute_result"
    }
   ],
   "source": [
    "train_images.shape, train_labels.shape"
   ]
  },
  {
   "cell_type": "code",
   "execution_count": 6,
   "metadata": {
    "execution": {
     "iopub.execute_input": "2020-10-09T10:04:26.126625Z",
     "iopub.status.busy": "2020-10-09T10:04:26.119394Z",
     "iopub.status.idle": "2020-10-09T10:04:26.976878Z",
     "shell.execute_reply": "2020-10-09T10:04:26.975963Z"
    },
    "papermill": {
     "duration": 0.892725,
     "end_time": "2020-10-09T10:04:26.977093",
     "exception": false,
     "start_time": "2020-10-09T10:04:26.084368",
     "status": "completed"
    },
    "tags": []
   },
   "outputs": [],
   "source": [
    "test_images = mnist.test_images()\n",
    "test_labels = mnist.test_labels()"
   ]
  },
  {
   "cell_type": "code",
   "execution_count": 7,
   "metadata": {
    "execution": {
     "iopub.execute_input": "2020-10-09T10:04:27.028529Z",
     "iopub.status.busy": "2020-10-09T10:04:27.027976Z",
     "iopub.status.idle": "2020-10-09T10:04:27.040137Z",
     "shell.execute_reply": "2020-10-09T10:04:27.040499Z"
    },
    "papermill": {
     "duration": 0.038701,
     "end_time": "2020-10-09T10:04:27.040612",
     "exception": false,
     "start_time": "2020-10-09T10:04:27.001911",
     "status": "completed"
    },
    "tags": []
   },
   "outputs": [
    {
     "data": {
      "text/plain": [
       "((10000, 28, 28), (10000,))"
      ]
     },
     "execution_count": 7,
     "metadata": {},
     "output_type": "execute_result"
    }
   ],
   "source": [
    "test_images.shape, test_labels.shape"
   ]
  },
  {
   "cell_type": "code",
   "execution_count": 8,
   "metadata": {
    "execution": {
     "iopub.execute_input": "2020-10-09T10:04:27.095757Z",
     "iopub.status.busy": "2020-10-09T10:04:27.095220Z",
     "iopub.status.idle": "2020-10-09T10:04:27.237655Z",
     "shell.execute_reply": "2020-10-09T10:04:27.237175Z"
    },
    "papermill": {
     "duration": 0.172015,
     "end_time": "2020-10-09T10:04:27.237777",
     "exception": false,
     "start_time": "2020-10-09T10:04:27.065762",
     "status": "completed"
    },
    "tags": []
   },
   "outputs": [
    {
     "name": "stdout",
     "output_type": "stream",
     "text": [
      "2\n"
     ]
    },
    {
     "data": {
      "text/plain": [
       "<matplotlib.image.AxesImage at 0x7f790bc36e10>"
      ]
     },
     "execution_count": 8,
     "metadata": {},
     "output_type": "execute_result"
    },
    {
     "data": {
      "image/png": "[encoded data removed]",
      "text/plain": [
       "<Figure size 432x288 with 1 Axes>"
      ]
     },
     "metadata": {
      "needs_background": "light"
     },
     "output_type": "display_data"
    }
   ],
   "source": [
    "image_index = 7776 # You may select anything up to 60,000\n",
    "print(train_labels[image_index]) \n",
    "plt.imshow(train_images[image_index], cmap='Greys')"
   ]
  },
  {
   "cell_type": "markdown",
   "metadata": {
    "papermill": {
     "duration": 0.025545,
     "end_time": "2020-10-09T10:04:27.290299",
     "exception": false,
     "start_time": "2020-10-09T10:04:27.264754",
     "status": "completed"
    },
    "tags": []
   },
   "source": [
    "## Filter data to get 3 and 8 out"
   ]
  },
  {
   "cell_type": "code",
   "execution_count": 9,
   "metadata": {
    "execution": {
     "iopub.execute_input": "2020-10-09T10:04:27.354773Z",
     "iopub.status.busy": "2020-10-09T10:04:27.344814Z",
     "iopub.status.idle": "2020-10-09T10:04:27.361081Z",
     "shell.execute_reply": "2020-10-09T10:04:27.360673Z"
    },
    "papermill": {
     "duration": 0.045531,
     "end_time": "2020-10-09T10:04:27.361182",
     "exception": false,
     "start_time": "2020-10-09T10:04:27.315651",
     "status": "completed"
    },
    "tags": []
   },
   "outputs": [],
   "source": [
    "train_filter = np.where((train_labels == 3 ) | (train_labels == 8))\n",
    "test_filter = np.where((test_labels == 3) | (test_labels == 8))\n",
    "X_train, y_train = train_images[train_filter], train_labels[train_filter]\n",
    "X_test, y_test = test_images[test_filter], test_labels[test_filter]"
   ]
  },
  {
   "cell_type": "markdown",
   "metadata": {
    "papermill": {
     "duration": 0.025133,
     "end_time": "2020-10-09T10:04:27.409885",
     "exception": false,
     "start_time": "2020-10-09T10:04:27.384752",
     "status": "completed"
    },
    "tags": []
   },
   "source": [
    "We normalize the pixel values in the 0 to 1 range"
   ]
  },
  {
   "cell_type": "code",
   "execution_count": 10,
   "metadata": {
    "execution": {
     "iopub.execute_input": "2020-10-09T10:04:27.460230Z",
     "iopub.status.busy": "2020-10-09T10:04:27.459697Z",
     "iopub.status.idle": "2020-10-09T10:04:27.505666Z",
     "shell.execute_reply": "2020-10-09T10:04:27.505161Z"
    },
    "papermill": {
     "duration": 0.072245,
     "end_time": "2020-10-09T10:04:27.505798",
     "exception": false,
     "start_time": "2020-10-09T10:04:27.433553",
     "status": "completed"
    },
    "tags": []
   },
   "outputs": [],
   "source": [
    "X_train = X_train/255.\n",
    "X_test = X_test/255."
   ]
  },
  {
   "cell_type": "markdown",
   "metadata": {
    "papermill": {
     "duration": 0.0244,
     "end_time": "2020-10-09T10:04:27.555912",
     "exception": false,
     "start_time": "2020-10-09T10:04:27.531512",
     "status": "completed"
    },
    "tags": []
   },
   "source": [
    "Setup the labels as 1 (when the digit is 3) and 0 (when the digit is 8)"
   ]
  },
  {
   "cell_type": "code",
   "execution_count": 11,
   "metadata": {
    "execution": {
     "iopub.execute_input": "2020-10-09T10:04:27.610276Z",
     "iopub.status.busy": "2020-10-09T10:04:27.609736Z",
     "iopub.status.idle": "2020-10-09T10:04:27.624898Z",
     "shell.execute_reply": "2020-10-09T10:04:27.624458Z"
    },
    "papermill": {
     "duration": 0.045172,
     "end_time": "2020-10-09T10:04:27.625012",
     "exception": false,
     "start_time": "2020-10-09T10:04:27.579840",
     "status": "completed"
    },
    "tags": []
   },
   "outputs": [],
   "source": [
    "y_train = 1*(y_train==3)\n",
    "y_test = 1*(y_test==3)"
   ]
  },
  {
   "cell_type": "code",
   "execution_count": 12,
   "metadata": {
    "execution": {
     "iopub.execute_input": "2020-10-09T10:04:27.680181Z",
     "iopub.status.busy": "2020-10-09T10:04:27.679648Z",
     "iopub.status.idle": "2020-10-09T10:04:27.691527Z",
     "shell.execute_reply": "2020-10-09T10:04:27.691972Z"
    },
    "papermill": {
     "duration": 0.04148,
     "end_time": "2020-10-09T10:04:27.692096",
     "exception": false,
     "start_time": "2020-10-09T10:04:27.650616",
     "status": "completed"
    },
    "tags": []
   },
   "outputs": [
    {
     "data": {
      "text/plain": [
       "((11982, 28, 28), (1984, 28, 28))"
      ]
     },
     "execution_count": 12,
     "metadata": {},
     "output_type": "execute_result"
    }
   ],
   "source": [
    "X_train.shape, X_test.shape"
   ]
  },
  {
   "cell_type": "markdown",
   "metadata": {
    "papermill": {
     "duration": 0.024976,
     "end_time": "2020-10-09T10:04:27.742052",
     "exception": false,
     "start_time": "2020-10-09T10:04:27.717076",
     "status": "completed"
    },
    "tags": []
   },
   "source": [
    "### Reshape the input data to create a linear array"
   ]
  },
  {
   "cell_type": "code",
   "execution_count": 13,
   "metadata": {
    "execution": {
     "iopub.execute_input": "2020-10-09T10:04:27.799410Z",
     "iopub.status.busy": "2020-10-09T10:04:27.798876Z",
     "iopub.status.idle": "2020-10-09T10:04:27.810662Z",
     "shell.execute_reply": "2020-10-09T10:04:27.811141Z"
    },
    "papermill": {
     "duration": 0.044072,
     "end_time": "2020-10-09T10:04:27.811279",
     "exception": false,
     "start_time": "2020-10-09T10:04:27.767207",
     "status": "completed"
    },
    "tags": []
   },
   "outputs": [
    {
     "data": {
      "text/plain": [
       "((11982, 784), (1984, 784))"
      ]
     },
     "execution_count": 13,
     "metadata": {},
     "output_type": "execute_result"
    }
   ],
   "source": [
    "X_train = X_train.reshape(X_train.shape[0], -1)\n",
    "X_test = X_test.reshape(X_test.shape[0], -1)\n",
    "X_train.shape, X_test.shape"
   ]
  },
  {
   "cell_type": "markdown",
   "metadata": {
    "papermill": {
     "duration": 0.025095,
     "end_time": "2020-10-09T10:04:27.863008",
     "exception": false,
     "start_time": "2020-10-09T10:04:27.837913",
     "status": "completed"
    },
    "tags": []
   },
   "source": [
    "### Importing appropriate functions from 'Kudzu'"
   ]
  },
  {
   "cell_type": "code",
   "execution_count": 14,
   "metadata": {
    "execution": {
     "iopub.execute_input": "2020-10-09T10:04:27.924293Z",
     "iopub.status.busy": "2020-10-09T10:04:27.923740Z",
     "iopub.status.idle": "2020-10-09T10:04:27.941073Z",
     "shell.execute_reply": "2020-10-09T10:04:27.940564Z"
    },
    "papermill": {
     "duration": 0.052317,
     "end_time": "2020-10-09T10:04:27.941204",
     "exception": false,
     "start_time": "2020-10-09T10:04:27.888887",
     "status": "completed"
    },
    "tags": []
   },
   "outputs": [],
   "source": [
    "from kudzu.layer import Sigmoid\n",
    "from kudzu.layer import Relu\n",
    "from kudzu.layer import Affine, Sigmoid\n",
    "\n",
    "from kudzu.model import Model\n",
    "from kudzu.train import Learner\n",
    "from kudzu.optim import GD\n",
    "from kudzu.data import Data, Dataloader, Sampler\n",
    "\n",
    "from kudzu.callbacks import AccCallback\n",
    "from kudzu.callbacks import ClfCallback\n",
    "\n",
    "from kudzu.loss import MSE"
   ]
  },
  {
   "cell_type": "markdown",
   "metadata": {
    "papermill": {
     "duration": 0.025419,
     "end_time": "2020-10-09T10:04:27.994443",
     "exception": false,
     "start_time": "2020-10-09T10:04:27.969024",
     "status": "completed"
    },
    "tags": []
   },
   "source": [
    "### Let us create a `Config` class, to store important parameters. \n",
    "This class essentially plays the role of a dictionary."
   ]
  },
  {
   "cell_type": "code",
   "execution_count": 15,
   "metadata": {
    "execution": {
     "iopub.execute_input": "2020-10-09T10:04:28.052408Z",
     "iopub.status.busy": "2020-10-09T10:04:28.051867Z",
     "iopub.status.idle": "2020-10-09T10:04:28.062778Z",
     "shell.execute_reply": "2020-10-09T10:04:28.063290Z"
    },
    "papermill": {
     "duration": 0.043341,
     "end_time": "2020-10-09T10:04:28.063423",
     "exception": false,
     "start_time": "2020-10-09T10:04:28.020082",
     "status": "completed"
    },
    "tags": []
   },
   "outputs": [],
   "source": [
    "class Config:\n",
    "    pass\n",
    "config = Config()\n",
    "config.lr = 0.001\n",
    "config.num_epochs = 251\n",
    "config.bs = 50"
   ]
  },
  {
   "cell_type": "markdown",
   "metadata": {
    "papermill": {
     "duration": 0.027068,
     "end_time": "2020-10-09T10:04:28.116835",
     "exception": false,
     "start_time": "2020-10-09T10:04:28.089767",
     "status": "completed"
    },
    "tags": []
   },
   "source": [
    "### Initializing data to the variables"
   ]
  },
  {
   "cell_type": "code",
   "execution_count": 16,
   "metadata": {
    "execution": {
     "iopub.execute_input": "2020-10-09T10:04:28.174562Z",
     "iopub.status.busy": "2020-10-09T10:04:28.174019Z",
     "iopub.status.idle": "2020-10-09T10:04:28.185329Z",
     "shell.execute_reply": "2020-10-09T10:04:28.185796Z"
    },
    "papermill": {
     "duration": 0.042287,
     "end_time": "2020-10-09T10:04:28.185920",
     "exception": false,
     "start_time": "2020-10-09T10:04:28.143633",
     "status": "completed"
    },
    "tags": []
   },
   "outputs": [],
   "source": [
    "data = Data(X_train, y_train.reshape(-1,1))\n",
    "sampler = Sampler(data, config.bs, shuffle=True)\n",
    "\n",
    "dl = Dataloader(data, sampler)\n",
    "\n",
    "opt = GD(config.lr)\n",
    "loss = MSE()"
   ]
  },
  {
   "cell_type": "code",
   "execution_count": 17,
   "metadata": {
    "execution": {
     "iopub.execute_input": "2020-10-09T10:04:28.243779Z",
     "iopub.status.busy": "2020-10-09T10:04:28.243224Z",
     "iopub.status.idle": "2020-10-09T10:04:28.253616Z",
     "shell.execute_reply": "2020-10-09T10:04:28.253212Z"
    },
    "papermill": {
     "duration": 0.042659,
     "end_time": "2020-10-09T10:04:28.253713",
     "exception": false,
     "start_time": "2020-10-09T10:04:28.211054",
     "status": "completed"
    },
    "tags": []
   },
   "outputs": [],
   "source": [
    "training_xdata = X_train\n",
    "testing_xdata = X_test\n",
    "training_ydata = y_train.reshape(-1,1)\n",
    "testing_ydata = y_test.reshape(-1,1)"
   ]
  },
  {
   "cell_type": "markdown",
   "metadata": {
    "papermill": {
     "duration": 0.026783,
     "end_time": "2020-10-09T10:04:28.304815",
     "exception": false,
     "start_time": "2020-10-09T10:04:28.278032",
     "status": "completed"
    },
    "tags": []
   },
   "source": [
    "### Running Models with the Training data\n",
    "Details about the network layers:\n",
    "- A first affine layer has 784 inputs and does 100 affine transforms. These are followed by a Relu\n",
    "- A second affine layer has 100 inputs from the 100 activations of the past layer, and does 100 affine transforms. These are followed by a Relu\n",
    "- A third affine layer has 100 activations and does 2 affine transformations to create an embedding for visualization. There is no non-linearity here.\n",
    "- A final \"logistic regression\" which has an affine transform from 2 inputs to 1 output, which is squeezed through a sigmoid.\n",
    "\n",
    "Help taken from Anshuman's Notebook."
   ]
  },
  {
   "cell_type": "code",
   "execution_count": 18,
   "metadata": {
    "execution": {
     "iopub.execute_input": "2020-10-09T10:04:28.360619Z",
     "iopub.status.busy": "2020-10-09T10:04:28.360128Z",
     "iopub.status.idle": "2020-10-09T10:04:28.378538Z",
     "shell.execute_reply": "2020-10-09T10:04:28.378974Z"
    },
    "papermill": {
     "duration": 0.048872,
     "end_time": "2020-10-09T10:04:28.379096",
     "exception": false,
     "start_time": "2020-10-09T10:04:28.330224",
     "status": "completed"
    },
    "tags": []
   },
   "outputs": [],
   "source": [
    "# layers for the Neural Network\n",
    "layers = [Affine(\"first\", 784, 100), Relu(\"first\"), Affine(\"second\", 100, 100), Relu(\"second\"), Affine(\"third\", 100, 2), Affine(\"final\", 2, 1), Sigmoid(\"final\")]\n",
    "model_nn = Model(layers)\n",
    "\n",
    "# layers for the Logistic Regression\n",
    "layers_lr = [Affine(\"logits\", 784, 1), Sigmoid(\"sigmoid\")]\n",
    "model_lr = Model(layers_lr)"
   ]
  },
  {
   "cell_type": "code",
   "execution_count": 19,
   "metadata": {
    "execution": {
     "iopub.execute_input": "2020-10-09T10:04:28.690133Z",
     "iopub.status.busy": "2020-10-09T10:04:28.689191Z",
     "iopub.status.idle": "2020-10-09T10:04:28.702341Z",
     "shell.execute_reply": "2020-10-09T10:04:28.701849Z"
    },
    "papermill": {
     "duration": 0.29762,
     "end_time": "2020-10-09T10:04:28.702473",
     "exception": false,
     "start_time": "2020-10-09T10:04:28.404853",
     "status": "completed"
    },
    "tags": []
   },
   "outputs": [],
   "source": [
    "# suffix _nn stands for Neural Network.\n",
    "learner_nn = Learner(loss, model_nn, opt, config.num_epochs)\n",
    "acc_nn = ClfCallback(learner_nn, config.bs, training_xdata , testing_xdata, training_ydata, testing_ydata)\n",
    "learner_nn.set_callbacks([acc_nn])"
   ]
  },
  {
   "cell_type": "code",
   "execution_count": 20,
   "metadata": {
    "execution": {
     "iopub.execute_input": "2020-10-09T10:04:28.760419Z",
     "iopub.status.busy": "2020-10-09T10:04:28.759877Z",
     "iopub.status.idle": "2020-10-09T10:05:46.641214Z",
     "shell.execute_reply": "2020-10-09T10:05:46.640703Z"
    },
    "papermill": {
     "duration": 77.910659,
     "end_time": "2020-10-09T10:05:46.641349",
     "exception": false,
     "start_time": "2020-10-09T10:04:28.730690",
     "status": "completed"
    },
    "tags": []
   },
   "outputs": [
    {
     "name": "stdout",
     "output_type": "stream",
     "text": [
      "====== Neural Network ======\n"
     ]
    },
    {
     "name": "stdout",
     "output_type": "stream",
     "text": [
      "Epoch 0, Loss 0.2716\n",
      "Training Accuracy: 0.6320, Testing Accuracy: 0.6351\n",
      "\n"
     ]
    },
    {
     "name": "stdout",
     "output_type": "stream",
     "text": [
      "Epoch 10, Loss 0.0604\n",
      "Training Accuracy: 0.9367, Testing Accuracy: 0.9496\n",
      "\n"
     ]
    },
    {
     "name": "stdout",
     "output_type": "stream",
     "text": [
      "Epoch 20, Loss 0.0425\n",
      "Training Accuracy: 0.9533, Testing Accuracy: 0.9637\n",
      "\n"
     ]
    },
    {
     "name": "stdout",
     "output_type": "stream",
     "text": [
      "Epoch 30, Loss 0.0357\n",
      "Training Accuracy: 0.9592, Testing Accuracy: 0.9677\n",
      "\n"
     ]
    },
    {
     "name": "stdout",
     "output_type": "stream",
     "text": [
      "Epoch 40, Loss 0.032\n",
      "Training Accuracy: 0.9635, Testing Accuracy: 0.9703\n",
      "\n"
     ]
    },
    {
     "name": "stdout",
     "output_type": "stream",
     "text": [
      "Epoch 50, Loss 0.0296\n",
      "Training Accuracy: 0.9662, Testing Accuracy: 0.9708\n",
      "\n"
     ]
    },
    {
     "name": "stdout",
     "output_type": "stream",
     "text": [
      "Epoch 60, Loss 0.0278\n",
      "Training Accuracy: 0.9682, Testing Accuracy: 0.9713\n",
      "\n"
     ]
    },
    {
     "name": "stdout",
     "output_type": "stream",
     "text": [
      "Epoch 70, Loss 0.0263\n",
      "Training Accuracy: 0.9695, Testing Accuracy: 0.9723\n",
      "\n"
     ]
    },
    {
     "name": "stdout",
     "output_type": "stream",
     "text": [
      "Epoch 80, Loss 0.0251\n",
      "Training Accuracy: 0.9704, Testing Accuracy: 0.9723\n",
      "\n"
     ]
    },
    {
     "name": "stdout",
     "output_type": "stream",
     "text": [
      "Epoch 90, Loss 0.0241\n",
      "Training Accuracy: 0.9720, Testing Accuracy: 0.9733\n",
      "\n"
     ]
    },
    {
     "name": "stdout",
     "output_type": "stream",
     "text": [
      "Epoch 100, Loss 0.0232\n",
      "Training Accuracy: 0.9729, Testing Accuracy: 0.9748\n",
      "\n"
     ]
    },
    {
     "name": "stdout",
     "output_type": "stream",
     "text": [
      "Epoch 110, Loss 0.0224\n",
      "Training Accuracy: 0.9741, Testing Accuracy: 0.9743\n",
      "\n"
     ]
    },
    {
     "name": "stdout",
     "output_type": "stream",
     "text": [
      "Epoch 120, Loss 0.0217\n",
      "Training Accuracy: 0.9746, Testing Accuracy: 0.9743\n",
      "\n"
     ]
    },
    {
     "name": "stdout",
     "output_type": "stream",
     "text": [
      "Epoch 130, Loss 0.021\n",
      "Training Accuracy: 0.9761, Testing Accuracy: 0.9758\n",
      "\n"
     ]
    },
    {
     "name": "stdout",
     "output_type": "stream",
     "text": [
      "Epoch 140, Loss 0.0203\n",
      "Training Accuracy: 0.9767, Testing Accuracy: 0.9758\n",
      "\n"
     ]
    },
    {
     "name": "stdout",
     "output_type": "stream",
     "text": [
      "Epoch 150, Loss 0.0197\n",
      "Training Accuracy: 0.9773, Testing Accuracy: 0.9763\n",
      "\n"
     ]
    },
    {
     "name": "stdout",
     "output_type": "stream",
     "text": [
      "Epoch 160, Loss 0.0192\n",
      "Training Accuracy: 0.9786, Testing Accuracy: 0.9763\n",
      "\n"
     ]
    },
    {
     "name": "stdout",
     "output_type": "stream",
     "text": [
      "Epoch 170, Loss 0.0186\n",
      "Training Accuracy: 0.9794, Testing Accuracy: 0.9768\n",
      "\n"
     ]
    },
    {
     "name": "stdout",
     "output_type": "stream",
     "text": [
      "Epoch 180, Loss 0.0181\n",
      "Training Accuracy: 0.9801, Testing Accuracy: 0.9768\n",
      "\n"
     ]
    },
    {
     "name": "stdout",
     "output_type": "stream",
     "text": [
      "Epoch 190, Loss 0.0175\n",
      "Training Accuracy: 0.9806, Testing Accuracy: 0.9778\n",
      "\n"
     ]
    },
    {
     "name": "stdout",
     "output_type": "stream",
     "text": [
      "Epoch 200, Loss 0.017\n",
      "Training Accuracy: 0.9813, Testing Accuracy: 0.9783\n",
      "\n"
     ]
    },
    {
     "name": "stdout",
     "output_type": "stream",
     "text": [
      "Epoch 210, Loss 0.0166\n",
      "Training Accuracy: 0.9819, Testing Accuracy: 0.9778\n",
      "\n"
     ]
    },
    {
     "name": "stdout",
     "output_type": "stream",
     "text": [
      "Epoch 220, Loss 0.0161\n",
      "Training Accuracy: 0.9826, Testing Accuracy: 0.9783\n",
      "\n"
     ]
    },
    {
     "name": "stdout",
     "output_type": "stream",
     "text": [
      "Epoch 230, Loss 0.0157\n",
      "Training Accuracy: 0.9839, Testing Accuracy: 0.9788\n",
      "\n"
     ]
    },
    {
     "name": "stdout",
     "output_type": "stream",
     "text": [
      "Epoch 240, Loss 0.0152\n",
      "Training Accuracy: 0.9844, Testing Accuracy: 0.9793\n",
      "\n"
     ]
    },
    {
     "name": "stdout",
     "output_type": "stream",
     "text": [
      "Epoch 250, Loss 0.0148\n",
      "Training Accuracy: 0.9851, Testing Accuracy: 0.9793\n",
      "\n"
     ]
    },
    {
     "data": {
      "text/plain": [
       "0.03743218876227774"
      ]
     },
     "execution_count": 20,
     "metadata": {},
     "output_type": "execute_result"
    }
   ],
   "source": [
    "print(\"====== Neural Network ======\")\n",
    "learner_nn.train_loop(dl)"
   ]
  },
  {
   "cell_type": "markdown",
   "metadata": {
    "papermill": {
     "duration": 0.034752,
     "end_time": "2020-10-09T10:05:46.711837",
     "exception": false,
     "start_time": "2020-10-09T10:05:46.677085",
     "status": "completed"
    },
    "tags": []
   },
   "source": [
    "### Logistic Regression based Implementation."
   ]
  },
  {
   "cell_type": "code",
   "execution_count": 21,
   "metadata": {
    "execution": {
     "iopub.execute_input": "2020-10-09T10:05:46.787870Z",
     "iopub.status.busy": "2020-10-09T10:05:46.787330Z",
     "iopub.status.idle": "2020-10-09T10:05:46.796740Z",
     "shell.execute_reply": "2020-10-09T10:05:46.796304Z"
    },
    "papermill": {
     "duration": 0.050566,
     "end_time": "2020-10-09T10:05:46.796859",
     "exception": false,
     "start_time": "2020-10-09T10:05:46.746293",
     "status": "completed"
    },
    "tags": []
   },
   "outputs": [],
   "source": [
    "learner_lr = Learner(loss, model_lr, opt, config.num_epochs)\n",
    "acc_lr = ClfCallback(learner_lr, config.bs, training_xdata , testing_xdata, training_ydata, testing_ydata)\n",
    "learner_lr.set_callbacks([acc_lr])"
   ]
  },
  {
   "cell_type": "code",
   "execution_count": 22,
   "metadata": {
    "execution": {
     "iopub.execute_input": "2020-10-09T10:05:46.863010Z",
     "iopub.status.busy": "2020-10-09T10:05:46.862423Z",
     "iopub.status.idle": "2020-10-09T10:06:02.337571Z",
     "shell.execute_reply": "2020-10-09T10:06:02.338273Z"
    },
    "papermill": {
     "duration": 15.50968,
     "end_time": "2020-10-09T10:06:02.338427",
     "exception": false,
     "start_time": "2020-10-09T10:05:46.828747",
     "status": "completed"
    },
    "tags": []
   },
   "outputs": [
    {
     "name": "stdout",
     "output_type": "stream",
     "text": [
      "====== Logistic Regression ======\n",
      "Epoch 0, Loss 0.2424\n",
      "Training Accuracy: 0.6957, Testing Accuracy: 0.6880\n",
      "\n"
     ]
    },
    {
     "name": "stdout",
     "output_type": "stream",
     "text": [
      "Epoch 10, Loss 0.1022\n",
      "Training Accuracy: 0.9124, Testing Accuracy: 0.9274\n",
      "\n"
     ]
    },
    {
     "name": "stdout",
     "output_type": "stream",
     "text": [
      "Epoch 20, Loss 0.0791\n",
      "Training Accuracy: 0.9280, Testing Accuracy: 0.9435\n",
      "\n"
     ]
    },
    {
     "name": "stdout",
     "output_type": "stream",
     "text": [
      "Epoch 30, Loss 0.0684\n",
      "Training Accuracy: 0.9351, Testing Accuracy: 0.9496\n",
      "\n"
     ]
    },
    {
     "name": "stdout",
     "output_type": "stream",
     "text": [
      "Epoch 40, Loss 0.0618\n",
      "Training Accuracy: 0.9414, Testing Accuracy: 0.9572\n",
      "\n"
     ]
    },
    {
     "name": "stdout",
     "output_type": "stream",
     "text": [
      "Epoch 50, Loss 0.0573\n",
      "Training Accuracy: 0.9443, Testing Accuracy: 0.9587\n",
      "\n"
     ]
    },
    {
     "name": "stdout",
     "output_type": "stream",
     "text": [
      "Epoch 60, Loss 0.054\n",
      "Training Accuracy: 0.9465, Testing Accuracy: 0.9602\n",
      "\n"
     ]
    },
    {
     "name": "stdout",
     "output_type": "stream",
     "text": [
      "Epoch 70, Loss 0.0514\n",
      "Training Accuracy: 0.9483, Testing Accuracy: 0.9617\n",
      "\n"
     ]
    },
    {
     "name": "stdout",
     "output_type": "stream",
     "text": [
      "Epoch 80, Loss 0.0493\n",
      "Training Accuracy: 0.9503, Testing Accuracy: 0.9627\n",
      "\n"
     ]
    },
    {
     "name": "stdout",
     "output_type": "stream",
     "text": [
      "Epoch 90, Loss 0.0476\n",
      "Training Accuracy: 0.9515, Testing Accuracy: 0.9627\n",
      "\n"
     ]
    },
    {
     "name": "stdout",
     "output_type": "stream",
     "text": [
      "Epoch 100, Loss 0.0462\n",
      "Training Accuracy: 0.9527, Testing Accuracy: 0.9642\n",
      "\n"
     ]
    },
    {
     "name": "stdout",
     "output_type": "stream",
     "text": [
      "Epoch 110, Loss 0.0449\n",
      "Training Accuracy: 0.9531, Testing Accuracy: 0.9637\n",
      "\n"
     ]
    },
    {
     "name": "stdout",
     "output_type": "stream",
     "text": [
      "Epoch 120, Loss 0.0438\n",
      "Training Accuracy: 0.9540, Testing Accuracy: 0.9642\n",
      "\n"
     ]
    },
    {
     "name": "stdout",
     "output_type": "stream",
     "text": [
      "Epoch 130, Loss 0.0429\n",
      "Training Accuracy: 0.9555, Testing Accuracy: 0.9642\n",
      "\n"
     ]
    },
    {
     "name": "stdout",
     "output_type": "stream",
     "text": [
      "Epoch 140, Loss 0.0421\n",
      "Training Accuracy: 0.9559, Testing Accuracy: 0.9642\n",
      "\n"
     ]
    },
    {
     "name": "stdout",
     "output_type": "stream",
     "text": [
      "Epoch 150, Loss 0.0413\n",
      "Training Accuracy: 0.9564, Testing Accuracy: 0.9652\n",
      "\n"
     ]
    },
    {
     "name": "stdout",
     "output_type": "stream",
     "text": [
      "Epoch 160, Loss 0.0406\n",
      "Training Accuracy: 0.9572, Testing Accuracy: 0.9652\n",
      "\n"
     ]
    },
    {
     "name": "stdout",
     "output_type": "stream",
     "text": [
      "Epoch 170, Loss 0.04\n",
      "Training Accuracy: 0.9579, Testing Accuracy: 0.9652\n",
      "\n"
     ]
    },
    {
     "name": "stdout",
     "output_type": "stream",
     "text": [
      "Epoch 180, Loss 0.0394\n",
      "Training Accuracy: 0.9586, Testing Accuracy: 0.9657\n",
      "\n"
     ]
    },
    {
     "name": "stdout",
     "output_type": "stream",
     "text": [
      "Epoch 190, Loss 0.0389\n",
      "Training Accuracy: 0.9589, Testing Accuracy: 0.9662\n",
      "\n"
     ]
    },
    {
     "name": "stdout",
     "output_type": "stream",
     "text": [
      "Epoch 200, Loss 0.0384\n",
      "Training Accuracy: 0.9590, Testing Accuracy: 0.9667\n",
      "\n"
     ]
    },
    {
     "name": "stdout",
     "output_type": "stream",
     "text": [
      "Epoch 210, Loss 0.038\n",
      "Training Accuracy: 0.9592, Testing Accuracy: 0.9667\n",
      "\n"
     ]
    },
    {
     "name": "stdout",
     "output_type": "stream",
     "text": [
      "Epoch 220, Loss 0.0376\n",
      "Training Accuracy: 0.9595, Testing Accuracy: 0.9672\n",
      "\n"
     ]
    },
    {
     "name": "stdout",
     "output_type": "stream",
     "text": [
      "Epoch 230, Loss 0.0372\n",
      "Training Accuracy: 0.9600, Testing Accuracy: 0.9672\n",
      "\n"
     ]
    },
    {
     "name": "stdout",
     "output_type": "stream",
     "text": [
      "Epoch 240, Loss 0.0368\n",
      "Training Accuracy: 0.9604, Testing Accuracy: 0.9677\n",
      "\n"
     ]
    },
    {
     "name": "stdout",
     "output_type": "stream",
     "text": [
      "Epoch 250, Loss 0.0365\n",
      "Training Accuracy: 0.9607, Testing Accuracy: 0.9677\n",
      "\n"
     ]
    },
    {
     "data": {
      "text/plain": [
       "0.04236311977831067"
      ]
     },
     "execution_count": 22,
     "metadata": {},
     "output_type": "execute_result"
    }
   ],
   "source": [
    "print(\"====== Logistic Regression ======\")\n",
    "learner_lr.train_loop(dl)"
   ]
  },
  {
   "cell_type": "markdown",
   "metadata": {
    "papermill": {
     "duration": 0.042932,
     "end_time": "2020-10-09T10:06:02.423412",
     "exception": false,
     "start_time": "2020-10-09T10:06:02.380480",
     "status": "completed"
    },
    "tags": []
   },
   "source": [
    "### Comparing results of NN and LR"
   ]
  },
  {
   "cell_type": "code",
   "execution_count": 23,
   "metadata": {
    "execution": {
     "iopub.execute_input": "2020-10-09T10:06:02.509523Z",
     "iopub.status.busy": "2020-10-09T10:06:02.508566Z",
     "iopub.status.idle": "2020-10-09T10:06:02.728624Z",
     "shell.execute_reply": "2020-10-09T10:06:02.728124Z"
    },
    "papermill": {
     "duration": 0.264219,
     "end_time": "2020-10-09T10:06:02.728739",
     "exception": false,
     "start_time": "2020-10-09T10:06:02.464520",
     "status": "completed"
    },
    "tags": []
   },
   "outputs": [
    {
     "data": {
      "text/plain": [
       "<matplotlib.legend.Legend at 0x7f7904ffc080>"
      ]
     },
     "execution_count": 23,
     "metadata": {},
     "output_type": "execute_result"
    },
    {
     "data": {
      "image/png": "[encoded data removed]",
      "text/plain": [
       "<Figure size 1080x720 with 1 Axes>"
      ]
     },
     "metadata": {
      "needs_background": "light"
     },
     "output_type": "display_data"
    }
   ],
   "source": [
    "plt.figure(figsize=(15,10))\n",
    "\n",
    "# Neural Network plots\n",
    "plt.plot(acc_nn.accuracies, 'r-', label = \"Training Accuracies - NN\")\n",
    "plt.plot(acc_nn.test_accuracies, 'g-', label = \"Testing Accuracies - NN\")\n",
    "\n",
    "# Logistic Regression plots\n",
    "plt.plot(acc_lr.accuracies, 'k-', label = \"Training Accuracies - LR\")\n",
    "plt.plot(acc_lr.test_accuracies, 'b-', label = \"Testing Accuracies - LR\")\n",
    "\n",
    "plt.ylim(0.8, 1)\n",
    "\n",
    "plt.legend()\n",
    "\n"
   ]
  },
  {
   "cell_type": "markdown",
   "metadata": {
    "papermill": {
     "duration": 0.041887,
     "end_time": "2020-10-09T10:06:02.811830",
     "exception": false,
     "start_time": "2020-10-09T10:06:02.769943",
     "status": "completed"
    },
    "tags": []
   },
   "source": [
    "### From the plot, we can observe the following:\n",
    "- Neural Network achieves higher accuracy than the Logistic Regression model.\n",
    "- This apparently, is because of overfitting, i.e. NN captures more noise than data.\n",
    "- Testing accuracy of NN drops below the Training accuracy at higher epochs. This explains the over-fitting on training data.\n",
    "- Logistic Regression gives a reliable accuracy, without the above mentioned problem.\n"
   ]
  },
  {
   "cell_type": "markdown",
   "metadata": {
    "papermill": {
     "duration": 0.043224,
     "end_time": "2020-10-09T10:06:02.896341",
     "exception": false,
     "start_time": "2020-10-09T10:06:02.853117",
     "status": "completed"
    },
    "tags": []
   },
   "source": [
    "### Moving till the last but one layer (excluding it).\n",
    "#### Plotting the outputs of this layer of the NN."
   ]
  },
  {
   "cell_type": "code",
   "execution_count": 24,
   "metadata": {
    "execution": {
     "iopub.execute_input": "2020-10-09T10:06:02.997792Z",
     "iopub.status.busy": "2020-10-09T10:06:02.997254Z",
     "iopub.status.idle": "2020-10-09T10:06:03.000105Z",
     "shell.execute_reply": "2020-10-09T10:06:02.999081Z"
    },
    "papermill": {
     "duration": 0.061724,
     "end_time": "2020-10-09T10:06:03.000222",
     "exception": false,
     "start_time": "2020-10-09T10:06:02.938498",
     "status": "completed"
    },
    "tags": []
   },
   "outputs": [],
   "source": [
    "model_new = Model(layers[:-2])"
   ]
  },
  {
   "cell_type": "code",
   "execution_count": 25,
   "metadata": {
    "execution": {
     "iopub.execute_input": "2020-10-09T10:06:03.087386Z",
     "iopub.status.busy": "2020-10-09T10:06:03.086792Z",
     "iopub.status.idle": "2020-10-09T10:06:03.108201Z",
     "shell.execute_reply": "2020-10-09T10:06:03.108666Z"
    },
    "papermill": {
     "duration": 0.065723,
     "end_time": "2020-10-09T10:06:03.108807",
     "exception": false,
     "start_time": "2020-10-09T10:06:03.043084",
     "status": "completed"
    },
    "tags": []
   },
   "outputs": [],
   "source": [
    "plot_testing = model_new(testing_xdata)"
   ]
  },
  {
   "cell_type": "code",
   "execution_count": 26,
   "metadata": {
    "execution": {
     "iopub.execute_input": "2020-10-09T10:06:03.196073Z",
     "iopub.status.busy": "2020-10-09T10:06:03.195544Z",
     "iopub.status.idle": "2020-10-09T10:06:03.376248Z",
     "shell.execute_reply": "2020-10-09T10:06:03.376718Z"
    },
    "papermill": {
     "duration": 0.226316,
     "end_time": "2020-10-09T10:06:03.376867",
     "exception": false,
     "start_time": "2020-10-09T10:06:03.150551",
     "status": "completed"
    },
    "tags": []
   },
   "outputs": [
    {
     "data": {
      "text/plain": [
       "Text(0.5, 1.0, 'Outputs')"
      ]
     },
     "execution_count": 26,
     "metadata": {},
     "output_type": "execute_result"
    },
    {
     "data": {
      "image/png": "[encoded data removed]",
      "text/plain": [
       "<Figure size 576x504 with 1 Axes>"
      ]
     },
     "metadata": {
      "needs_background": "light"
     },
     "output_type": "display_data"
    }
   ],
   "source": [
    "plt.figure(figsize=(8,7))\n",
    "plt.scatter(plot_testing[:,0], plot_testing[:,1], alpha = 0.1, c = y_test.ravel());\n",
    "plt.title('Outputs')"
   ]
  },
  {
   "cell_type": "markdown",
   "metadata": {
    "papermill": {
     "duration": 0.045703,
     "end_time": "2020-10-09T10:06:03.469262",
     "exception": false,
     "start_time": "2020-10-09T10:06:03.423559",
     "status": "completed"
    },
    "tags": []
   },
   "source": [
    "### Plotting probability contours"
   ]
  },
  {
   "cell_type": "code",
   "execution_count": 27,
   "metadata": {
    "execution": {
     "iopub.execute_input": "2020-10-09T10:06:03.565302Z",
     "iopub.status.busy": "2020-10-09T10:06:03.564752Z",
     "iopub.status.idle": "2020-10-09T10:06:03.577861Z",
     "shell.execute_reply": "2020-10-09T10:06:03.577337Z"
    },
    "papermill": {
     "duration": 0.062663,
     "end_time": "2020-10-09T10:06:03.577978",
     "exception": false,
     "start_time": "2020-10-09T10:06:03.515315",
     "status": "completed"
    },
    "tags": []
   },
   "outputs": [],
   "source": [
    "model_prob = Model(layers[-2:]) "
   ]
  },
  {
   "cell_type": "code",
   "execution_count": 28,
   "metadata": {
    "execution": {
     "iopub.execute_input": "2020-10-09T10:06:03.672574Z",
     "iopub.status.busy": "2020-10-09T10:06:03.672027Z",
     "iopub.status.idle": "2020-10-09T10:06:03.685249Z",
     "shell.execute_reply": "2020-10-09T10:06:03.685684Z"
    },
    "papermill": {
     "duration": 0.062765,
     "end_time": "2020-10-09T10:06:03.685819",
     "exception": false,
     "start_time": "2020-10-09T10:06:03.623054",
     "status": "completed"
    },
    "tags": []
   },
   "outputs": [],
   "source": [
    "# Adjust the x and y ranges according to the above generated plot.\n",
    "x_range = np.linspace(-4, 1, 100) \n",
    "y_range = np.linspace(-6, 6, 100) \n",
    "x_grid, y_grid = np.meshgrid(x_range, y_range) # x_grid and y_grig are of size 100 X 100\n",
    "\n",
    "# converting x_grid and y_grid to continuous arrays\n",
    "x_grid_flat = np.ravel(x_grid)\n",
    "y_grid_flat = np.ravel(y_grid)\n",
    "\n",
    "# The last layer of the current model takes two columns as input. Hence transpose of np.vstack() is required.\n",
    "X = np.vstack((x_grid_flat, y_grid_flat)).T\n",
    "\n",
    "# x_grid and y_grid are of size 100 x 100\n",
    "probability_contour = model_prob(X).reshape(100,100) "
   ]
  },
  {
   "cell_type": "code",
   "execution_count": 29,
   "metadata": {
    "execution": {
     "iopub.execute_input": "2020-10-09T10:06:03.780926Z",
     "iopub.status.busy": "2020-10-09T10:06:03.780349Z",
     "iopub.status.idle": "2020-10-09T10:06:04.010044Z",
     "shell.execute_reply": "2020-10-09T10:06:04.009447Z"
    },
    "papermill": {
     "duration": 0.278745,
     "end_time": "2020-10-09T10:06:04.010196",
     "exception": false,
     "start_time": "2020-10-09T10:06:03.731451",
     "status": "completed"
    },
    "tags": []
   },
   "outputs": [
    {
     "data": {
      "image/png": "[encoded data removed]",
      "text/plain": [
       "<Figure size 720x648 with 1 Axes>"
      ]
     },
     "metadata": {
      "needs_background": "light"
     },
     "output_type": "display_data"
    }
   ],
   "source": [
    "plt.figure(figsize=(10,9))\n",
    "plt.scatter(plot_testing[:,0], plot_testing[:,1], alpha = 0.1, c = y_test.ravel())\n",
    "contours = plt.contour(x_grid,y_grid,probability_contour)\n",
    "plt.title('Probability Contours')\n",
    "plt.clabel(contours, inline = True );"
   ]
  }
 ],
 "metadata": {
  "kernelspec": {
   "display_name": "Python 3",
   "language": "python",
   "name": "python3"
  },
  "language_info": {
   "codemirror_mode": {
    "name": "ipython",
    "version": 3
   },
   "file_extension": ".py",
   "mimetype": "text/x-python",
   "name": "python",
   "nbconvert_exporter": "python",
   "pygments_lexer": "ipython3",
   "version": "3.6.12"
  },
  "papermill": {
   "duration": 104.161103,
   "end_time": "2020-10-09T10:06:04.468915",
   "environment_variables": {},
   "exception": null,
   "input_path": "2020-08-11-NeuralNetwork.ipynb",
   "output_path": "2020-08-11-NeuralNetwork.ipynb",
   "parameters": {},
   "start_time": "2020-10-09T10:04:20.307812",
   "version": "2.1.2"
  }
 },
 "nbformat": 4,
 "nbformat_minor": 4
}