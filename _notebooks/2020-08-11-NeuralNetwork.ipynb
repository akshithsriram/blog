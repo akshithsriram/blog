{
 "cells": [
  {
   "cell_type": "markdown",
   "metadata": {
    "papermill": {
     "duration": 0.029843,
     "end_time": "2020-09-01T20:04:46.801223",
     "exception": false,
     "start_time": "2020-09-01T20:04:46.771380",
     "status": "completed"
    },
    "tags": []
   },
   "source": [
    "# \"A Basic Neural Network: Differentiate Hand-Written Digits\"\n",
    "\n",
    "- badges: true\n",
    "- author: Akshith Sriram"
   ]
  },
  {
   "cell_type": "markdown",
   "metadata": {
    "papermill": {
     "duration": 0.02558,
     "end_time": "2020-09-01T20:04:46.853908",
     "exception": false,
     "start_time": "2020-09-01T20:04:46.828328",
     "status": "completed"
    },
    "tags": []
   },
   "source": [
    "### Key Objectives:\n",
    "- Building a neural network that differentiates two hand-written digits 3 and 8.\n",
    "- Comparing the results of this Neural Network (NN) to that of a Logistic Regression (LR) model.\n",
    "\n",
    "### Requirements:\n",
    "- 'Kudzu' : A neural network library that was designed during our course by [Univ.AI](www.univ.ai). \n",
    "- MNIST Database\n",
    "\n",
    "If MNIST is not installed, use the command `!pip install mnist` given below.\n",
    "It can be run both from the command line and Jupyter Notebook."
   ]
  },
  {
   "cell_type": "code",
   "execution_count": 1,
   "metadata": {
    "execution": {
     "iopub.execute_input": "2020-09-01T20:04:46.919032Z",
     "iopub.status.busy": "2020-09-01T20:04:46.918420Z",
     "iopub.status.idle": "2020-09-01T20:04:48.461895Z",
     "shell.execute_reply": "2020-09-01T20:04:48.460579Z"
    },
    "papermill": {
     "duration": 1.578465,
     "end_time": "2020-09-01T20:04:48.462072",
     "exception": false,
     "start_time": "2020-09-01T20:04:46.883607",
     "status": "completed"
    },
    "tags": []
   },
   "outputs": [
    {
     "name": "stdout",
     "output_type": "stream",
     "text": [
      "Collecting mnist\r\n"
     ]
    },
    {
     "name": "stdout",
     "output_type": "stream",
     "text": [
      "  Downloading mnist-0.2.2-py2.py3-none-any.whl (3.5 kB)\r\n"
     ]
    },
    {
     "name": "stdout",
     "output_type": "stream",
     "text": [
      "Requirement already satisfied: numpy in /opt/hostedtoolcache/Python/3.6.12/x64/lib/python3.6/site-packages (from mnist) (1.19.1)\r\n"
     ]
    },
    {
     "name": "stdout",
     "output_type": "stream",
     "text": [
      "Installing collected packages: mnist\r\n"
     ]
    },
    {
     "name": "stdout",
     "output_type": "stream",
     "text": [
      "Successfully installed mnist-0.2.2\r\n"
     ]
    }
   ],
   "source": [
    "!pip install mnist "
   ]
  },
  {
   "cell_type": "markdown",
   "metadata": {
    "papermill": {
     "duration": 0.027021,
     "end_time": "2020-09-01T20:04:48.516711",
     "exception": false,
     "start_time": "2020-09-01T20:04:48.489690",
     "status": "completed"
    },
    "tags": []
   },
   "source": [
    "#### Importing necessary libraries"
   ]
  },
  {
   "cell_type": "code",
   "execution_count": 2,
   "metadata": {
    "execution": {
     "iopub.execute_input": "2020-09-01T20:04:48.584236Z",
     "iopub.status.busy": "2020-09-01T20:04:48.583604Z",
     "iopub.status.idle": "2020-09-01T20:04:49.177668Z",
     "shell.execute_reply": "2020-09-01T20:04:49.176770Z"
    },
    "papermill": {
     "duration": 0.633356,
     "end_time": "2020-09-01T20:04:49.177906",
     "exception": false,
     "start_time": "2020-09-01T20:04:48.544550",
     "status": "completed"
    },
    "tags": []
   },
   "outputs": [],
   "source": [
    "%load_ext autoreload\n",
    "%autoreload 2\n",
    "\n",
    "%matplotlib inline\n",
    "import matplotlib.pyplot as plt\n",
    "\n",
    "import numpy as np\n",
    "import pandas as pd"
   ]
  },
  {
   "cell_type": "markdown",
   "metadata": {
    "papermill": {
     "duration": 0.027535,
     "end_time": "2020-09-01T20:04:49.234003",
     "exception": false,
     "start_time": "2020-09-01T20:04:49.206468",
     "status": "completed"
    },
    "tags": []
   },
   "source": [
    "### Preparing the Data"
   ]
  },
  {
   "cell_type": "code",
   "execution_count": 3,
   "metadata": {
    "execution": {
     "iopub.execute_input": "2020-09-01T20:04:49.291702Z",
     "iopub.status.busy": "2020-09-01T20:04:49.291064Z",
     "iopub.status.idle": "2020-09-01T20:04:49.308491Z",
     "shell.execute_reply": "2020-09-01T20:04:49.307975Z"
    },
    "papermill": {
     "duration": 0.048305,
     "end_time": "2020-09-01T20:04:49.308626",
     "exception": false,
     "start_time": "2020-09-01T20:04:49.260321",
     "status": "completed"
    },
    "tags": []
   },
   "outputs": [],
   "source": [
    "import mnist"
   ]
  },
  {
   "cell_type": "code",
   "execution_count": 4,
   "metadata": {
    "execution": {
     "iopub.execute_input": "2020-09-01T20:04:49.366737Z",
     "iopub.status.busy": "2020-09-01T20:04:49.366150Z",
     "iopub.status.idle": "2020-09-01T20:04:50.432796Z",
     "shell.execute_reply": "2020-09-01T20:04:50.430892Z"
    },
    "papermill": {
     "duration": 1.097349,
     "end_time": "2020-09-01T20:04:50.433037",
     "exception": false,
     "start_time": "2020-09-01T20:04:49.335688",
     "status": "completed"
    },
    "tags": []
   },
   "outputs": [],
   "source": [
    "train_images = mnist.train_images()\n",
    "train_labels = mnist.train_labels()"
   ]
  },
  {
   "cell_type": "code",
   "execution_count": 5,
   "metadata": {
    "execution": {
     "iopub.execute_input": "2020-09-01T20:04:50.492138Z",
     "iopub.status.busy": "2020-09-01T20:04:50.491476Z",
     "iopub.status.idle": "2020-09-01T20:04:50.508731Z",
     "shell.execute_reply": "2020-09-01T20:04:50.507899Z"
    },
    "papermill": {
     "duration": 0.048212,
     "end_time": "2020-09-01T20:04:50.508888",
     "exception": false,
     "start_time": "2020-09-01T20:04:50.460676",
     "status": "completed"
    },
    "tags": []
   },
   "outputs": [
    {
     "data": {
      "text/plain": [
       "((60000, 28, 28), (60000,))"
      ]
     },
     "execution_count": 5,
     "metadata": {},
     "output_type": "execute_result"
    }
   ],
   "source": [
    "train_images.shape, train_labels.shape"
   ]
  },
  {
   "cell_type": "code",
   "execution_count": 6,
   "metadata": {
    "execution": {
     "iopub.execute_input": "2020-09-01T20:04:50.576439Z",
     "iopub.status.busy": "2020-09-01T20:04:50.575830Z",
     "iopub.status.idle": "2020-09-01T20:04:51.030046Z",
     "shell.execute_reply": "2020-09-01T20:04:51.029478Z"
    },
    "papermill": {
     "duration": 0.494144,
     "end_time": "2020-09-01T20:04:51.030188",
     "exception": false,
     "start_time": "2020-09-01T20:04:50.536044",
     "status": "completed"
    },
    "tags": []
   },
   "outputs": [],
   "source": [
    "test_images = mnist.test_images()\n",
    "test_labels = mnist.test_labels()"
   ]
  },
  {
   "cell_type": "code",
   "execution_count": 7,
   "metadata": {
    "execution": {
     "iopub.execute_input": "2020-09-01T20:04:51.094174Z",
     "iopub.status.busy": "2020-09-01T20:04:51.092847Z",
     "iopub.status.idle": "2020-09-01T20:04:51.108088Z",
     "shell.execute_reply": "2020-09-01T20:04:51.107534Z"
    },
    "papermill": {
     "duration": 0.048566,
     "end_time": "2020-09-01T20:04:51.108223",
     "exception": false,
     "start_time": "2020-09-01T20:04:51.059657",
     "status": "completed"
    },
    "tags": []
   },
   "outputs": [
    {
     "data": {
      "text/plain": [
       "((10000, 28, 28), (10000,))"
      ]
     },
     "execution_count": 7,
     "metadata": {},
     "output_type": "execute_result"
    }
   ],
   "source": [
    "test_images.shape, test_labels.shape"
   ]
  },
  {
   "cell_type": "code",
   "execution_count": 8,
   "metadata": {
    "execution": {
     "iopub.execute_input": "2020-09-01T20:04:51.170188Z",
     "iopub.status.busy": "2020-09-01T20:04:51.169587Z",
     "iopub.status.idle": "2020-09-01T20:04:51.330247Z",
     "shell.execute_reply": "2020-09-01T20:04:51.330712Z"
    },
    "papermill": {
     "duration": 0.194214,
     "end_time": "2020-09-01T20:04:51.330879",
     "exception": false,
     "start_time": "2020-09-01T20:04:51.136665",
     "status": "completed"
    },
    "tags": []
   },
   "outputs": [
    {
     "name": "stdout",
     "output_type": "stream",
     "text": [
      "2\n"
     ]
    },
    {
     "data": {
      "text/plain": [
       "<matplotlib.image.AxesImage at 0x7f55cbf5dbe0>"
      ]
     },
     "execution_count": 8,
     "metadata": {},
     "output_type": "execute_result"
    },
    {
     "data": {
      "image/png": "[encoded data removed]",
      "text/plain": [
       "<Figure size 432x288 with 1 Axes>"
      ]
     },
     "metadata": {
      "needs_background": "light"
     },
     "output_type": "display_data"
    }
   ],
   "source": [
    "image_index = 7776 # You may select anything up to 60,000\n",
    "print(train_labels[image_index]) \n",
    "plt.imshow(train_images[image_index], cmap='Greys')"
   ]
  },
  {
   "cell_type": "markdown",
   "metadata": {
    "papermill": {
     "duration": 0.031699,
     "end_time": "2020-09-01T20:04:51.392153",
     "exception": false,
     "start_time": "2020-09-01T20:04:51.360454",
     "status": "completed"
    },
    "tags": []
   },
   "source": [
    "## Filter data to get 3 and 8 out"
   ]
  },
  {
   "cell_type": "code",
   "execution_count": 9,
   "metadata": {
    "execution": {
     "iopub.execute_input": "2020-09-01T20:04:51.459040Z",
     "iopub.status.busy": "2020-09-01T20:04:51.458423Z",
     "iopub.status.idle": "2020-09-01T20:04:51.482269Z",
     "shell.execute_reply": "2020-09-01T20:04:51.482893Z"
    },
    "papermill": {
     "duration": 0.06193,
     "end_time": "2020-09-01T20:04:51.483164",
     "exception": false,
     "start_time": "2020-09-01T20:04:51.421234",
     "status": "completed"
    },
    "tags": []
   },
   "outputs": [],
   "source": [
    "train_filter = np.where((train_labels == 3 ) | (train_labels == 8))\n",
    "test_filter = np.where((test_labels == 3) | (test_labels == 8))\n",
    "X_train, y_train = train_images[train_filter], train_labels[train_filter]\n",
    "X_test, y_test = test_images[test_filter], test_labels[test_filter]"
   ]
  },
  {
   "cell_type": "markdown",
   "metadata": {
    "papermill": {
     "duration": 0.033854,
     "end_time": "2020-09-01T20:04:51.549998",
     "exception": false,
     "start_time": "2020-09-01T20:04:51.516144",
     "status": "completed"
    },
    "tags": []
   },
   "source": [
    "We normalize the pixel values in the 0 to 1 range"
   ]
  },
  {
   "cell_type": "code",
   "execution_count": 10,
   "metadata": {
    "execution": {
     "iopub.execute_input": "2020-09-01T20:04:51.614216Z",
     "iopub.status.busy": "2020-09-01T20:04:51.613622Z",
     "iopub.status.idle": "2020-09-01T20:04:51.671599Z",
     "shell.execute_reply": "2020-09-01T20:04:51.670899Z"
    },
    "papermill": {
     "duration": 0.092949,
     "end_time": "2020-09-01T20:04:51.671760",
     "exception": false,
     "start_time": "2020-09-01T20:04:51.578811",
     "status": "completed"
    },
    "tags": []
   },
   "outputs": [],
   "source": [
    "X_train = X_train/255.\n",
    "X_test = X_test/255."
   ]
  },
  {
   "cell_type": "markdown",
   "metadata": {
    "papermill": {
     "duration": 0.028689,
     "end_time": "2020-09-01T20:04:51.732445",
     "exception": false,
     "start_time": "2020-09-01T20:04:51.703756",
     "status": "completed"
    },
    "tags": []
   },
   "source": [
    "Setup the labels as 1 (when the digit is 3) and 0 (when the digit is 8)"
   ]
  },
  {
   "cell_type": "code",
   "execution_count": 11,
   "metadata": {
    "execution": {
     "iopub.execute_input": "2020-09-01T20:04:51.802945Z",
     "iopub.status.busy": "2020-09-01T20:04:51.802352Z",
     "iopub.status.idle": "2020-09-01T20:04:51.815647Z",
     "shell.execute_reply": "2020-09-01T20:04:51.816135Z"
    },
    "papermill": {
     "duration": 0.053908,
     "end_time": "2020-09-01T20:04:51.816305",
     "exception": false,
     "start_time": "2020-09-01T20:04:51.762397",
     "status": "completed"
    },
    "tags": []
   },
   "outputs": [],
   "source": [
    "y_train = 1*(y_train==3)\n",
    "y_test = 1*(y_test==3)"
   ]
  },
  {
   "cell_type": "code",
   "execution_count": 12,
   "metadata": {
    "execution": {
     "iopub.execute_input": "2020-09-01T20:04:51.883619Z",
     "iopub.status.busy": "2020-09-01T20:04:51.882954Z",
     "iopub.status.idle": "2020-09-01T20:04:51.901404Z",
     "shell.execute_reply": "2020-09-01T20:04:51.900921Z"
    },
    "papermill": {
     "duration": 0.05449,
     "end_time": "2020-09-01T20:04:51.901545",
     "exception": false,
     "start_time": "2020-09-01T20:04:51.847055",
     "status": "completed"
    },
    "tags": []
   },
   "outputs": [
    {
     "data": {
      "text/plain": [
       "((11982, 28, 28), (1984, 28, 28))"
      ]
     },
     "execution_count": 12,
     "metadata": {},
     "output_type": "execute_result"
    }
   ],
   "source": [
    "X_train.shape, X_test.shape"
   ]
  },
  {
   "cell_type": "markdown",
   "metadata": {
    "papermill": {
     "duration": 0.029323,
     "end_time": "2020-09-01T20:04:51.960258",
     "exception": false,
     "start_time": "2020-09-01T20:04:51.930935",
     "status": "completed"
    },
    "tags": []
   },
   "source": [
    "### Reshape the input data to create a linear array"
   ]
  },
  {
   "cell_type": "code",
   "execution_count": 13,
   "metadata": {
    "execution": {
     "iopub.execute_input": "2020-09-01T20:04:52.024401Z",
     "iopub.status.busy": "2020-09-01T20:04:52.023781Z",
     "iopub.status.idle": "2020-09-01T20:04:52.038033Z",
     "shell.execute_reply": "2020-09-01T20:04:52.038549Z"
    },
    "papermill": {
     "duration": 0.048858,
     "end_time": "2020-09-01T20:04:52.038723",
     "exception": false,
     "start_time": "2020-09-01T20:04:51.989865",
     "status": "completed"
    },
    "tags": []
   },
   "outputs": [
    {
     "data": {
      "text/plain": [
       "((11982, 784), (1984, 784))"
      ]
     },
     "execution_count": 13,
     "metadata": {},
     "output_type": "execute_result"
    }
   ],
   "source": [
    "X_train = X_train.reshape(X_train.shape[0], -1)\n",
    "X_test = X_test.reshape(X_test.shape[0], -1)\n",
    "X_train.shape, X_test.shape"
   ]
  },
  {
   "cell_type": "markdown",
   "metadata": {
    "papermill": {
     "duration": 0.029058,
     "end_time": "2020-09-01T20:04:52.097322",
     "exception": false,
     "start_time": "2020-09-01T20:04:52.068264",
     "status": "completed"
    },
    "tags": []
   },
   "source": [
    "### Importing appropriate functions from 'Kudzu'"
   ]
  },
  {
   "cell_type": "code",
   "execution_count": 14,
   "metadata": {
    "execution": {
     "iopub.execute_input": "2020-09-01T20:04:52.162165Z",
     "iopub.status.busy": "2020-09-01T20:04:52.161533Z",
     "iopub.status.idle": "2020-09-01T20:04:52.185521Z",
     "shell.execute_reply": "2020-09-01T20:04:52.184797Z"
    },
    "papermill": {
     "duration": 0.05921,
     "end_time": "2020-09-01T20:04:52.185703",
     "exception": false,
     "start_time": "2020-09-01T20:04:52.126493",
     "status": "completed"
    },
    "tags": []
   },
   "outputs": [],
   "source": [
    "from kudzu.layer import Sigmoid\n",
    "from kudzu.layer import Relu\n",
    "from kudzu.layer import Affine, Sigmoid\n",
    "\n",
    "from kudzu.model import Model\n",
    "from kudzu.train import Learner\n",
    "from kudzu.optim import GD\n",
    "from kudzu.data import Data, Dataloader, Sampler\n",
    "\n",
    "from kudzu.callbacks import AccCallback\n",
    "from kudzu.callbacks import ClfCallback\n",
    "\n",
    "from kudzu.loss import MSE"
   ]
  },
  {
   "cell_type": "markdown",
   "metadata": {
    "papermill": {
     "duration": 0.029134,
     "end_time": "2020-09-01T20:04:52.245003",
     "exception": false,
     "start_time": "2020-09-01T20:04:52.215869",
     "status": "completed"
    },
    "tags": []
   },
   "source": [
    "### Let us create a `Config` class, to store important parameters. \n",
    "This class essentially plays the role of a dictionary."
   ]
  },
  {
   "cell_type": "code",
   "execution_count": 15,
   "metadata": {
    "execution": {
     "iopub.execute_input": "2020-09-01T20:04:52.311964Z",
     "iopub.status.busy": "2020-09-01T20:04:52.311158Z",
     "iopub.status.idle": "2020-09-01T20:04:52.326932Z",
     "shell.execute_reply": "2020-09-01T20:04:52.327501Z"
    },
    "papermill": {
     "duration": 0.053259,
     "end_time": "2020-09-01T20:04:52.327736",
     "exception": false,
     "start_time": "2020-09-01T20:04:52.274477",
     "status": "completed"
    },
    "tags": []
   },
   "outputs": [],
   "source": [
    "class Config:\n",
    "    pass\n",
    "config = Config()\n",
    "config.lr = 0.001\n",
    "config.num_epochs = 251\n",
    "config.bs = 50"
   ]
  },
  {
   "cell_type": "markdown",
   "metadata": {
    "papermill": {
     "duration": 0.034551,
     "end_time": "2020-09-01T20:04:52.393824",
     "exception": false,
     "start_time": "2020-09-01T20:04:52.359273",
     "status": "completed"
    },
    "tags": []
   },
   "source": [
    "### Initializing data to the variables"
   ]
  },
  {
   "cell_type": "code",
   "execution_count": 16,
   "metadata": {
    "execution": {
     "iopub.execute_input": "2020-09-01T20:04:52.462472Z",
     "iopub.status.busy": "2020-09-01T20:04:52.461869Z",
     "iopub.status.idle": "2020-09-01T20:04:52.475345Z",
     "shell.execute_reply": "2020-09-01T20:04:52.474794Z"
    },
    "papermill": {
     "duration": 0.049575,
     "end_time": "2020-09-01T20:04:52.475486",
     "exception": false,
     "start_time": "2020-09-01T20:04:52.425911",
     "status": "completed"
    },
    "tags": []
   },
   "outputs": [],
   "source": [
    "data = Data(X_train, y_train.reshape(-1,1))\n",
    "sampler = Sampler(data, config.bs, shuffle=True)\n",
    "\n",
    "dl = Dataloader(data, sampler)\n",
    "\n",
    "opt = GD(config.lr)\n",
    "loss = MSE()"
   ]
  },
  {
   "cell_type": "code",
   "execution_count": 17,
   "metadata": {
    "execution": {
     "iopub.execute_input": "2020-09-01T20:04:52.539647Z",
     "iopub.status.busy": "2020-09-01T20:04:52.539009Z",
     "iopub.status.idle": "2020-09-01T20:04:52.559969Z",
     "shell.execute_reply": "2020-09-01T20:04:52.559041Z"
    },
    "papermill": {
     "duration": 0.05466,
     "end_time": "2020-09-01T20:04:52.560144",
     "exception": false,
     "start_time": "2020-09-01T20:04:52.505484",
     "status": "completed"
    },
    "tags": []
   },
   "outputs": [],
   "source": [
    "training_xdata = X_train\n",
    "testing_xdata = X_test\n",
    "training_ydata = y_train.reshape(-1,1)\n",
    "testing_ydata = y_test.reshape(-1,1)"
   ]
  },
  {
   "cell_type": "markdown",
   "metadata": {
    "papermill": {
     "duration": 0.030318,
     "end_time": "2020-09-01T20:04:52.619777",
     "exception": false,
     "start_time": "2020-09-01T20:04:52.589459",
     "status": "completed"
    },
    "tags": []
   },
   "source": [
    "### Running Models with the Training data\n",
    "Details about the network layers:\n",
    "- A first affine layer has 784 inputs and does 100 affine transforms. These are followed by a Relu\n",
    "- A second affine layer has 100 inputs from the 100 activations of the past layer, and does 100 affine transforms. These are followed by a Relu\n",
    "- A third affine layer has 100 activations and does 2 affine transformations to create an embedding for visualization. There is no non-linearity here.\n",
    "- A final \"logistic regression\" which has an affine transform from 2 inputs to 1 output, which is squeezed through a sigmoid.\n",
    "\n",
    "Help taken from Anshuman's Notebook."
   ]
  },
  {
   "cell_type": "code",
   "execution_count": 18,
   "metadata": {
    "execution": {
     "iopub.execute_input": "2020-09-01T20:04:52.686915Z",
     "iopub.status.busy": "2020-09-01T20:04:52.686294Z",
     "iopub.status.idle": "2020-09-01T20:04:52.706040Z",
     "shell.execute_reply": "2020-09-01T20:04:52.705531Z"
    },
    "papermill": {
     "duration": 0.055941,
     "end_time": "2020-09-01T20:04:52.706187",
     "exception": false,
     "start_time": "2020-09-01T20:04:52.650246",
     "status": "completed"
    },
    "tags": []
   },
   "outputs": [],
   "source": [
    "# layers for the Neural Network\n",
    "layers = [Affine(\"first\", 784, 100), Relu(\"first\"), Affine(\"second\", 100, 100), Relu(\"second\"), Affine(\"third\", 100, 2), Affine(\"final\", 2, 1), Sigmoid(\"final\")]\n",
    "model_nn = Model(layers)\n",
    "\n",
    "# layers for the Logistic Regression\n",
    "layers_lr = [Affine(\"logits\", 784, 1), Sigmoid(\"sigmoid\")]\n",
    "model_lr = Model(layers_lr)"
   ]
  },
  {
   "cell_type": "code",
   "execution_count": 19,
   "metadata": {
    "execution": {
     "iopub.execute_input": "2020-09-01T20:04:52.773374Z",
     "iopub.status.busy": "2020-09-01T20:04:52.772762Z",
     "iopub.status.idle": "2020-09-01T20:04:52.785894Z",
     "shell.execute_reply": "2020-09-01T20:04:52.786375Z"
    },
    "papermill": {
     "duration": 0.0506,
     "end_time": "2020-09-01T20:04:52.786535",
     "exception": false,
     "start_time": "2020-09-01T20:04:52.735935",
     "status": "completed"
    },
    "tags": []
   },
   "outputs": [],
   "source": [
    "# suffix _nn stands for Neural Network.\n",
    "learner_nn = Learner(loss, model_nn, opt, config.num_epochs)\n",
    "acc_nn = ClfCallback(learner_nn, config.bs, training_xdata , testing_xdata, training_ydata, testing_ydata)\n",
    "learner_nn.set_callbacks([acc_nn])"
   ]
  },
  {
   "cell_type": "code",
   "execution_count": 20,
   "metadata": {
    "execution": {
     "iopub.execute_input": "2020-09-01T20:04:52.868358Z",
     "iopub.status.busy": "2020-09-01T20:04:52.861200Z",
     "iopub.status.idle": "2020-09-01T20:06:23.513653Z",
     "shell.execute_reply": "2020-09-01T20:06:23.514471Z"
    },
    "papermill": {
     "duration": 90.697346,
     "end_time": "2020-09-01T20:06:23.514695",
     "exception": false,
     "start_time": "2020-09-01T20:04:52.817349",
     "status": "completed"
    },
    "tags": []
   },
   "outputs": [
    {
     "name": "stdout",
     "output_type": "stream",
     "text": [
      "====== Neural Network ======\n"
     ]
    },
    {
     "name": "stdout",
     "output_type": "stream",
     "text": [
      "Epoch 0, Loss 0.2161\n",
      "Training Accuracy: 0.7731, Testing Accuracy: 0.7686\n",
      "\n"
     ]
    },
    {
     "name": "stdout",
     "output_type": "stream",
     "text": [
      "Epoch 10, Loss 0.0714\n",
      "Training Accuracy: 0.9315, Testing Accuracy: 0.9365\n",
      "\n"
     ]
    },
    {
     "name": "stdout",
     "output_type": "stream",
     "text": [
      "Epoch 20, Loss 0.0483\n",
      "Training Accuracy: 0.9475, Testing Accuracy: 0.9531\n",
      "\n"
     ]
    },
    {
     "name": "stdout",
     "output_type": "stream",
     "text": [
      "Epoch 30, Loss 0.0397\n",
      "Training Accuracy: 0.9559, Testing Accuracy: 0.9612\n",
      "\n"
     ]
    },
    {
     "name": "stdout",
     "output_type": "stream",
     "text": [
      "Epoch 40, Loss 0.0351\n",
      "Training Accuracy: 0.9605, Testing Accuracy: 0.9637\n",
      "\n"
     ]
    },
    {
     "name": "stdout",
     "output_type": "stream",
     "text": [
      "Epoch 50, Loss 0.0323\n",
      "Training Accuracy: 0.9633, Testing Accuracy: 0.9647\n",
      "\n"
     ]
    },
    {
     "name": "stdout",
     "output_type": "stream",
     "text": [
      "Epoch 60, Loss 0.0302\n",
      "Training Accuracy: 0.9658, Testing Accuracy: 0.9647\n",
      "\n"
     ]
    },
    {
     "name": "stdout",
     "output_type": "stream",
     "text": [
      "Epoch 70, Loss 0.0286\n",
      "Training Accuracy: 0.9675, Testing Accuracy: 0.9662\n",
      "\n"
     ]
    },
    {
     "name": "stdout",
     "output_type": "stream",
     "text": [
      "Epoch 80, Loss 0.0274\n",
      "Training Accuracy: 0.9685, Testing Accuracy: 0.9672\n",
      "\n"
     ]
    },
    {
     "name": "stdout",
     "output_type": "stream",
     "text": [
      "Epoch 90, Loss 0.0263\n",
      "Training Accuracy: 0.9695, Testing Accuracy: 0.9677\n",
      "\n"
     ]
    },
    {
     "name": "stdout",
     "output_type": "stream",
     "text": [
      "Epoch 100, Loss 0.0255\n",
      "Training Accuracy: 0.9704, Testing Accuracy: 0.9688\n",
      "\n"
     ]
    },
    {
     "name": "stdout",
     "output_type": "stream",
     "text": [
      "Epoch 110, Loss 0.0247\n",
      "Training Accuracy: 0.9712, Testing Accuracy: 0.9698\n",
      "\n"
     ]
    },
    {
     "name": "stdout",
     "output_type": "stream",
     "text": [
      "Epoch 120, Loss 0.024\n",
      "Training Accuracy: 0.9720, Testing Accuracy: 0.9693\n",
      "\n"
     ]
    },
    {
     "name": "stdout",
     "output_type": "stream",
     "text": [
      "Epoch 130, Loss 0.0234\n",
      "Training Accuracy: 0.9728, Testing Accuracy: 0.9698\n",
      "\n"
     ]
    },
    {
     "name": "stdout",
     "output_type": "stream",
     "text": [
      "Epoch 140, Loss 0.0228\n",
      "Training Accuracy: 0.9736, Testing Accuracy: 0.9693\n",
      "\n"
     ]
    },
    {
     "name": "stdout",
     "output_type": "stream",
     "text": [
      "Epoch 150, Loss 0.0223\n",
      "Training Accuracy: 0.9743, Testing Accuracy: 0.9693\n",
      "\n"
     ]
    },
    {
     "name": "stdout",
     "output_type": "stream",
     "text": [
      "Epoch 160, Loss 0.0218\n",
      "Training Accuracy: 0.9750, Testing Accuracy: 0.9698\n",
      "\n"
     ]
    },
    {
     "name": "stdout",
     "output_type": "stream",
     "text": [
      "Epoch 170, Loss 0.0214\n",
      "Training Accuracy: 0.9755, Testing Accuracy: 0.9693\n",
      "\n"
     ]
    },
    {
     "name": "stdout",
     "output_type": "stream",
     "text": [
      "Epoch 180, Loss 0.0209\n",
      "Training Accuracy: 0.9761, Testing Accuracy: 0.9698\n",
      "\n"
     ]
    },
    {
     "name": "stdout",
     "output_type": "stream",
     "text": [
      "Epoch 190, Loss 0.0205\n",
      "Training Accuracy: 0.9766, Testing Accuracy: 0.9703\n",
      "\n"
     ]
    },
    {
     "name": "stdout",
     "output_type": "stream",
     "text": [
      "Epoch 200, Loss 0.0201\n",
      "Training Accuracy: 0.9771, Testing Accuracy: 0.9708\n",
      "\n"
     ]
    },
    {
     "name": "stdout",
     "output_type": "stream",
     "text": [
      "Epoch 210, Loss 0.0198\n",
      "Training Accuracy: 0.9778, Testing Accuracy: 0.9718\n",
      "\n"
     ]
    },
    {
     "name": "stdout",
     "output_type": "stream",
     "text": [
      "Epoch 220, Loss 0.0194\n",
      "Training Accuracy: 0.9783, Testing Accuracy: 0.9723\n",
      "\n"
     ]
    },
    {
     "name": "stdout",
     "output_type": "stream",
     "text": [
      "Epoch 230, Loss 0.019\n",
      "Training Accuracy: 0.9791, Testing Accuracy: 0.9728\n",
      "\n"
     ]
    },
    {
     "name": "stdout",
     "output_type": "stream",
     "text": [
      "Epoch 240, Loss 0.0187\n",
      "Training Accuracy: 0.9791, Testing Accuracy: 0.9738\n",
      "\n"
     ]
    },
    {
     "name": "stdout",
     "output_type": "stream",
     "text": [
      "Epoch 250, Loss 0.0184\n",
      "Training Accuracy: 0.9796, Testing Accuracy: 0.9738\n",
      "\n"
     ]
    },
    {
     "data": {
      "text/plain": [
       "0.008262868160893054"
      ]
     },
     "execution_count": 20,
     "metadata": {},
     "output_type": "execute_result"
    }
   ],
   "source": [
    "print(\"====== Neural Network ======\")\n",
    "learner_nn.train_loop(dl)"
   ]
  },
  {
   "cell_type": "markdown",
   "metadata": {
    "papermill": {
     "duration": 0.042384,
     "end_time": "2020-09-01T20:06:23.595997",
     "exception": false,
     "start_time": "2020-09-01T20:06:23.553613",
     "status": "completed"
    },
    "tags": []
   },
   "source": [
    "### Logistic Regression based Implementation."
   ]
  },
  {
   "cell_type": "code",
   "execution_count": 21,
   "metadata": {
    "execution": {
     "iopub.execute_input": "2020-09-01T20:06:23.678039Z",
     "iopub.status.busy": "2020-09-01T20:06:23.676797Z",
     "iopub.status.idle": "2020-09-01T20:06:23.690319Z",
     "shell.execute_reply": "2020-09-01T20:06:23.689754Z"
    },
    "papermill": {
     "duration": 0.05613,
     "end_time": "2020-09-01T20:06:23.690466",
     "exception": false,
     "start_time": "2020-09-01T20:06:23.634336",
     "status": "completed"
    },
    "tags": []
   },
   "outputs": [],
   "source": [
    "learner_lr = Learner(loss, model_lr, opt, config.num_epochs)\n",
    "acc_lr = ClfCallback(learner_lr, config.bs, training_xdata , testing_xdata, training_ydata, testing_ydata)\n",
    "learner_lr.set_callbacks([acc_lr])"
   ]
  },
  {
   "cell_type": "code",
   "execution_count": 22,
   "metadata": {
    "execution": {
     "iopub.execute_input": "2020-09-01T20:06:23.771617Z",
     "iopub.status.busy": "2020-09-01T20:06:23.770972Z",
     "iopub.status.idle": "2020-09-01T20:06:40.184023Z",
     "shell.execute_reply": "2020-09-01T20:06:40.184590Z"
    },
    "papermill": {
     "duration": 16.45619,
     "end_time": "2020-09-01T20:06:40.184760",
     "exception": false,
     "start_time": "2020-09-01T20:06:23.728570",
     "status": "completed"
    },
    "tags": []
   },
   "outputs": [
    {
     "name": "stdout",
     "output_type": "stream",
     "text": [
      "====== Logistic Regression ======\n",
      "Epoch 0, Loss 0.2187\n",
      "Training Accuracy: 0.7578, Testing Accuracy: 0.7586\n",
      "\n"
     ]
    },
    {
     "name": "stdout",
     "output_type": "stream",
     "text": [
      "Epoch 10, Loss 0.1019\n",
      "Training Accuracy: 0.9129, Testing Accuracy: 0.9199\n",
      "\n"
     ]
    },
    {
     "name": "stdout",
     "output_type": "stream",
     "text": [
      "Epoch 20, Loss 0.0788\n",
      "Training Accuracy: 0.9286, Testing Accuracy: 0.9360\n",
      "\n"
     ]
    },
    {
     "name": "stdout",
     "output_type": "stream",
     "text": [
      "Epoch 30, Loss 0.0679\n",
      "Training Accuracy: 0.9380, Testing Accuracy: 0.9506\n",
      "\n"
     ]
    },
    {
     "name": "stdout",
     "output_type": "stream",
     "text": [
      "Epoch 40, Loss 0.0612\n",
      "Training Accuracy: 0.9432, Testing Accuracy: 0.9541\n",
      "\n"
     ]
    },
    {
     "name": "stdout",
     "output_type": "stream",
     "text": [
      "Epoch 50, Loss 0.0567\n",
      "Training Accuracy: 0.9461, Testing Accuracy: 0.9567\n",
      "\n"
     ]
    },
    {
     "name": "stdout",
     "output_type": "stream",
     "text": [
      "Epoch 60, Loss 0.0534\n",
      "Training Accuracy: 0.9483, Testing Accuracy: 0.9587\n",
      "\n"
     ]
    },
    {
     "name": "stdout",
     "output_type": "stream",
     "text": [
      "Epoch 70, Loss 0.0509\n",
      "Training Accuracy: 0.9503, Testing Accuracy: 0.9612\n",
      "\n"
     ]
    },
    {
     "name": "stdout",
     "output_type": "stream",
     "text": [
      "Epoch 80, Loss 0.0489\n",
      "Training Accuracy: 0.9513, Testing Accuracy: 0.9617\n",
      "\n"
     ]
    },
    {
     "name": "stdout",
     "output_type": "stream",
     "text": [
      "Epoch 90, Loss 0.0472\n",
      "Training Accuracy: 0.9529, Testing Accuracy: 0.9632\n",
      "\n"
     ]
    },
    {
     "name": "stdout",
     "output_type": "stream",
     "text": [
      "Epoch 100, Loss 0.0458\n",
      "Training Accuracy: 0.9533, Testing Accuracy: 0.9642\n",
      "\n"
     ]
    },
    {
     "name": "stdout",
     "output_type": "stream",
     "text": [
      "Epoch 110, Loss 0.0446\n",
      "Training Accuracy: 0.9540, Testing Accuracy: 0.9652\n",
      "\n"
     ]
    },
    {
     "name": "stdout",
     "output_type": "stream",
     "text": [
      "Epoch 120, Loss 0.0436\n",
      "Training Accuracy: 0.9550, Testing Accuracy: 0.9662\n",
      "\n"
     ]
    },
    {
     "name": "stdout",
     "output_type": "stream",
     "text": [
      "Epoch 130, Loss 0.0426\n",
      "Training Accuracy: 0.9559, Testing Accuracy: 0.9672\n",
      "\n"
     ]
    },
    {
     "name": "stdout",
     "output_type": "stream",
     "text": [
      "Epoch 140, Loss 0.0418\n",
      "Training Accuracy: 0.9569, Testing Accuracy: 0.9677\n",
      "\n"
     ]
    },
    {
     "name": "stdout",
     "output_type": "stream",
     "text": [
      "Epoch 150, Loss 0.0411\n",
      "Training Accuracy: 0.9574, Testing Accuracy: 0.9682\n",
      "\n"
     ]
    },
    {
     "name": "stdout",
     "output_type": "stream",
     "text": [
      "Epoch 160, Loss 0.0404\n",
      "Training Accuracy: 0.9579, Testing Accuracy: 0.9672\n",
      "\n"
     ]
    },
    {
     "name": "stdout",
     "output_type": "stream",
     "text": [
      "Epoch 170, Loss 0.0398\n",
      "Training Accuracy: 0.9583, Testing Accuracy: 0.9672\n",
      "\n"
     ]
    },
    {
     "name": "stdout",
     "output_type": "stream",
     "text": [
      "Epoch 180, Loss 0.0393\n",
      "Training Accuracy: 0.9584, Testing Accuracy: 0.9677\n",
      "\n"
     ]
    },
    {
     "name": "stdout",
     "output_type": "stream",
     "text": [
      "Epoch 190, Loss 0.0388\n",
      "Training Accuracy: 0.9586, Testing Accuracy: 0.9677\n",
      "\n"
     ]
    },
    {
     "name": "stdout",
     "output_type": "stream",
     "text": [
      "Epoch 200, Loss 0.0383\n",
      "Training Accuracy: 0.9590, Testing Accuracy: 0.9682\n",
      "\n"
     ]
    },
    {
     "name": "stdout",
     "output_type": "stream",
     "text": [
      "Epoch 210, Loss 0.0379\n",
      "Training Accuracy: 0.9594, Testing Accuracy: 0.9682\n",
      "\n"
     ]
    },
    {
     "name": "stdout",
     "output_type": "stream",
     "text": [
      "Epoch 220, Loss 0.0375\n",
      "Training Accuracy: 0.9598, Testing Accuracy: 0.9688\n",
      "\n"
     ]
    },
    {
     "name": "stdout",
     "output_type": "stream",
     "text": [
      "Epoch 230, Loss 0.0371\n",
      "Training Accuracy: 0.9598, Testing Accuracy: 0.9688\n",
      "\n"
     ]
    },
    {
     "name": "stdout",
     "output_type": "stream",
     "text": [
      "Epoch 240, Loss 0.0368\n",
      "Training Accuracy: 0.9601, Testing Accuracy: 0.9688\n",
      "\n"
     ]
    },
    {
     "name": "stdout",
     "output_type": "stream",
     "text": [
      "Epoch 250, Loss 0.0364\n",
      "Training Accuracy: 0.9603, Testing Accuracy: 0.9693\n",
      "\n"
     ]
    },
    {
     "data": {
      "text/plain": [
       "0.03577782928040412"
      ]
     },
     "execution_count": 22,
     "metadata": {},
     "output_type": "execute_result"
    }
   ],
   "source": [
    "print(\"====== Logistic Regression ======\")\n",
    "learner_lr.train_loop(dl)"
   ]
  },
  {
   "cell_type": "markdown",
   "metadata": {
    "papermill": {
     "duration": 0.044987,
     "end_time": "2020-09-01T20:06:40.275899",
     "exception": false,
     "start_time": "2020-09-01T20:06:40.230912",
     "status": "completed"
    },
    "tags": []
   },
   "source": [
    "### Comparing results of NN and LR"
   ]
  },
  {
   "cell_type": "code",
   "execution_count": 23,
   "metadata": {
    "execution": {
     "iopub.execute_input": "2020-09-01T20:06:40.373655Z",
     "iopub.status.busy": "2020-09-01T20:06:40.373032Z",
     "iopub.status.idle": "2020-09-01T20:06:40.625166Z",
     "shell.execute_reply": "2020-09-01T20:06:40.624629Z"
    },
    "papermill": {
     "duration": 0.304413,
     "end_time": "2020-09-01T20:06:40.625308",
     "exception": false,
     "start_time": "2020-09-01T20:06:40.320895",
     "status": "completed"
    },
    "tags": []
   },
   "outputs": [
    {
     "data": {
      "text/plain": [
       "<matplotlib.legend.Legend at 0x7f55cbb43320>"
      ]
     },
     "execution_count": 23,
     "metadata": {},
     "output_type": "execute_result"
    },
    {
     "data": {
      "image/png": "[encoded data removed]",
      "text/plain": [
       "<Figure size 1080x720 with 1 Axes>"
      ]
     },
     "metadata": {
      "needs_background": "light"
     },
     "output_type": "display_data"
    }
   ],
   "source": [
    "plt.figure(figsize=(15,10))\n",
    "\n",
    "# Neural Network plots\n",
    "plt.plot(acc_nn.accuracies, 'r-', label = \"Training Accuracies - NN\")\n",
    "plt.plot(acc_nn.test_accuracies, 'g-', label = \"Testing Accuracies - NN\")\n",
    "\n",
    "# Logistic Regression plots\n",
    "plt.plot(acc_lr.accuracies, 'k-', label = \"Training Accuracies - LR\")\n",
    "plt.plot(acc_lr.test_accuracies, 'b-', label = \"Testing Accuracies - LR\")\n",
    "\n",
    "plt.ylim(0.8, 1)\n",
    "\n",
    "plt.legend()\n",
    "\n"
   ]
  },
  {
   "cell_type": "markdown",
   "metadata": {
    "papermill": {
     "duration": 0.046644,
     "end_time": "2020-09-01T20:06:40.718876",
     "exception": false,
     "start_time": "2020-09-01T20:06:40.672232",
     "status": "completed"
    },
    "tags": []
   },
   "source": [
    "### From the plot, we can observe the following:\n",
    "- Neural Network achieves higher accuracy than the Logistic Regression model.\n",
    "- This apparently, is because of overfitting, i.e. NN captures more noise than data.\n",
    "- Testing accuracy of NN drops below the Training accuracy at higher epochs. This explains the over-fitting on training data.\n",
    "- Logistic Regression gives a reliable accuracy, without the above mentioned problem.\n"
   ]
  },
  {
   "cell_type": "markdown",
   "metadata": {
    "papermill": {
     "duration": 0.04693,
     "end_time": "2020-09-01T20:06:40.812779",
     "exception": false,
     "start_time": "2020-09-01T20:06:40.765849",
     "status": "completed"
    },
    "tags": []
   },
   "source": [
    "### Moving till the last but one layer (excluding it).\n",
    "#### Plotting the outputs of this layer of the NN."
   ]
  },
  {
   "cell_type": "code",
   "execution_count": 24,
   "metadata": {
    "execution": {
     "iopub.execute_input": "2020-09-01T20:06:40.920617Z",
     "iopub.status.busy": "2020-09-01T20:06:40.911921Z",
     "iopub.status.idle": "2020-09-01T20:06:40.928172Z",
     "shell.execute_reply": "2020-09-01T20:06:40.927630Z"
    },
    "papermill": {
     "duration": 0.068645,
     "end_time": "2020-09-01T20:06:40.928317",
     "exception": false,
     "start_time": "2020-09-01T20:06:40.859672",
     "status": "completed"
    },
    "tags": []
   },
   "outputs": [],
   "source": [
    "model_new = Model(layers[:-2])"
   ]
  },
  {
   "cell_type": "code",
   "execution_count": 25,
   "metadata": {
    "execution": {
     "iopub.execute_input": "2020-09-01T20:06:41.028351Z",
     "iopub.status.busy": "2020-09-01T20:06:41.027174Z",
     "iopub.status.idle": "2020-09-01T20:06:41.050245Z",
     "shell.execute_reply": "2020-09-01T20:06:41.050762Z"
    },
    "papermill": {
     "duration": 0.075626,
     "end_time": "2020-09-01T20:06:41.050931",
     "exception": false,
     "start_time": "2020-09-01T20:06:40.975305",
     "status": "completed"
    },
    "tags": []
   },
   "outputs": [],
   "source": [
    "plot_testing = model_new(testing_xdata)"
   ]
  },
  {
   "cell_type": "code",
   "execution_count": 26,
   "metadata": {
    "execution": {
     "iopub.execute_input": "2020-09-01T20:06:41.150317Z",
     "iopub.status.busy": "2020-09-01T20:06:41.149707Z",
     "iopub.status.idle": "2020-09-01T20:06:41.338582Z",
     "shell.execute_reply": "2020-09-01T20:06:41.339071Z"
    },
    "papermill": {
     "duration": 0.240149,
     "end_time": "2020-09-01T20:06:41.339236",
     "exception": false,
     "start_time": "2020-09-01T20:06:41.099087",
     "status": "completed"
    },
    "tags": []
   },
   "outputs": [
    {
     "data": {
      "text/plain": [
       "Text(0.5, 1.0, 'Outputs')"
      ]
     },
     "execution_count": 26,
     "metadata": {},
     "output_type": "execute_result"
    },
    {
     "data": {
      "image/png": "[encoded data removed]",
      "text/plain": [
       "<Figure size 576x504 with 1 Axes>"
      ]
     },
     "metadata": {
      "needs_background": "light"
     },
     "output_type": "display_data"
    }
   ],
   "source": [
    "plt.figure(figsize=(8,7))\n",
    "plt.scatter(plot_testing[:,0], plot_testing[:,1], alpha = 0.1, c = y_test.ravel());\n",
    "plt.title('Outputs')"
   ]
  },
  {
   "cell_type": "markdown",
   "metadata": {
    "papermill": {
     "duration": 0.05029,
     "end_time": "2020-09-01T20:06:41.447916",
     "exception": false,
     "start_time": "2020-09-01T20:06:41.397626",
     "status": "completed"
    },
    "tags": []
   },
   "source": [
    "### Plotting probability contours"
   ]
  },
  {
   "cell_type": "code",
   "execution_count": 27,
   "metadata": {
    "execution": {
     "iopub.execute_input": "2020-09-01T20:06:41.556803Z",
     "iopub.status.busy": "2020-09-01T20:06:41.554774Z",
     "iopub.status.idle": "2020-09-01T20:06:41.568606Z",
     "shell.execute_reply": "2020-09-01T20:06:41.567656Z"
    },
    "papermill": {
     "duration": 0.071544,
     "end_time": "2020-09-01T20:06:41.568764",
     "exception": false,
     "start_time": "2020-09-01T20:06:41.497220",
     "status": "completed"
    },
    "tags": []
   },
   "outputs": [],
   "source": [
    "model_prob = Model(layers[-2:]) "
   ]
  },
  {
   "cell_type": "code",
   "execution_count": 28,
   "metadata": {
    "execution": {
     "iopub.execute_input": "2020-09-01T20:06:41.672626Z",
     "iopub.status.busy": "2020-09-01T20:06:41.671972Z",
     "iopub.status.idle": "2020-09-01T20:06:41.688902Z",
     "shell.execute_reply": "2020-09-01T20:06:41.689443Z"
    },
    "papermill": {
     "duration": 0.071531,
     "end_time": "2020-09-01T20:06:41.689857",
     "exception": false,
     "start_time": "2020-09-01T20:06:41.618326",
     "status": "completed"
    },
    "tags": []
   },
   "outputs": [],
   "source": [
    "# Adjust the x and y ranges according to the above generated plot.\n",
    "x_range = np.linspace(-4, 1, 100) \n",
    "y_range = np.linspace(-6, 6, 100) \n",
    "x_grid, y_grid = np.meshgrid(x_range, y_range) # x_grid and y_grig are of size 100 X 100\n",
    "\n",
    "# converting x_grid and y_grid to continuous arrays\n",
    "x_grid_flat = np.ravel(x_grid)\n",
    "y_grid_flat = np.ravel(y_grid)\n",
    "\n",
    "# The last layer of the current model takes two columns as input. Hence transpose of np.vstack() is required.\n",
    "X = np.vstack((x_grid_flat, y_grid_flat)).T\n",
    "\n",
    "# x_grid and y_grid are of size 100 x 100\n",
    "probability_contour = model_prob(X).reshape(100,100) "
   ]
  },
  {
   "cell_type": "code",
   "execution_count": 29,
   "metadata": {
    "execution": {
     "iopub.execute_input": "2020-09-01T20:06:41.805498Z",
     "iopub.status.busy": "2020-09-01T20:06:41.804854Z",
     "iopub.status.idle": "2020-09-01T20:06:42.051636Z",
     "shell.execute_reply": "2020-09-01T20:06:42.052154Z"
    },
    "papermill": {
     "duration": 0.309555,
     "end_time": "2020-09-01T20:06:42.052329",
     "exception": false,
     "start_time": "2020-09-01T20:06:41.742774",
     "status": "completed"
    },
    "tags": []
   },
   "outputs": [
    {
     "data": {
      "image/png": "[encoded data removed]",
      "text/plain": [
       "<Figure size 720x648 with 1 Axes>"
      ]
     },
     "metadata": {
      "needs_background": "light"
     },
     "output_type": "display_data"
    }
   ],
   "source": [
    "plt.figure(figsize=(10,9))\n",
    "plt.scatter(plot_testing[:,0], plot_testing[:,1], alpha = 0.1, c = y_test.ravel())\n",
    "contours = plt.contour(x_grid,y_grid,probability_contour)\n",
    "plt.title('Probability Contours')\n",
    "plt.clabel(contours, inline = True );"
   ]
  }
 ],
 "metadata": {
  "kernelspec": {
   "display_name": "Python 3",
   "language": "python",
   "name": "python3"
  },
  "language_info": {
   "codemirror_mode": {
    "name": "ipython",
    "version": 3
   },
   "file_extension": ".py",
   "mimetype": "text/x-python",
   "name": "python",
   "nbconvert_exporter": "python",
   "pygments_lexer": "ipython3",
   "version": "3.6.12"
  },
  "papermill": {
   "duration": 116.83144,
   "end_time": "2020-09-01T20:06:42.514293",
   "environment_variables": {},
   "exception": null,
   "input_path": "2020-08-11-NeuralNetwork.ipynb",
   "output_path": "2020-08-11-NeuralNetwork.ipynb",
   "parameters": {},
   "start_time": "2020-09-01T20:04:45.682853",
   "version": "2.1.2"
  }
 },
 "nbformat": 4,
 "nbformat_minor": 4
}