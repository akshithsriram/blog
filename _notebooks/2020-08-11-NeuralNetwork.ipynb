{
 "cells": [
  {
   "cell_type": "markdown",
   "metadata": {
    "papermill": {
     "duration": 0.027663,
     "end_time": "2020-11-23T10:04:39.043110",
     "exception": false,
     "start_time": "2020-11-23T10:04:39.015447",
     "status": "completed"
    },
    "tags": []
   },
   "source": [
    "# \"A Basic Neural Network: Differentiate Hand-Written Digits\"\n",
    "\n",
    "- badges: true\n",
    "- author: Akshith Sriram"
   ]
  },
  {
   "cell_type": "markdown",
   "metadata": {
    "papermill": {
     "duration": 0.022982,
     "end_time": "2020-11-23T10:04:39.090188",
     "exception": false,
     "start_time": "2020-11-23T10:04:39.067206",
     "status": "completed"
    },
    "tags": []
   },
   "source": [
    "### Key Objectives:\n",
    "- Building a neural network that differentiates two hand-written digits 3 and 8.\n",
    "- Comparing the results of this Neural Network (NN) to that of a Logistic Regression (LR) model.\n",
    "\n",
    "### Requirements:\n",
    "- 'Kudzu' : A neural network library that was designed during our course by [Univ.AI](www.univ.ai). \n",
    "- MNIST Database\n",
    "\n",
    "If MNIST is not installed, use the command `!pip install mnist` given below.\n",
    "It can be run both from the command line and Jupyter Notebook."
   ]
  },
  {
   "cell_type": "code",
   "execution_count": 1,
   "metadata": {
    "execution": {
     "iopub.execute_input": "2020-11-23T10:04:39.142530Z",
     "iopub.status.busy": "2020-11-23T10:04:39.141896Z",
     "iopub.status.idle": "2020-11-23T10:04:40.523730Z",
     "shell.execute_reply": "2020-11-23T10:04:40.524563Z"
    },
    "papermill": {
     "duration": 1.411314,
     "end_time": "2020-11-23T10:04:40.524849",
     "exception": false,
     "start_time": "2020-11-23T10:04:39.113535",
     "status": "completed"
    },
    "tags": []
   },
   "outputs": [
    {
     "name": "stdout",
     "output_type": "stream",
     "text": [
      "Collecting mnist\r\n"
     ]
    },
    {
     "name": "stdout",
     "output_type": "stream",
     "text": [
      "  Downloading mnist-0.2.2-py2.py3-none-any.whl (3.5 kB)\r\n"
     ]
    },
    {
     "name": "stdout",
     "output_type": "stream",
     "text": [
      "Requirement already satisfied: numpy in /opt/hostedtoolcache/Python/3.6.12/x64/lib/python3.6/site-packages (from mnist) (1.19.4)\r\n"
     ]
    },
    {
     "name": "stdout",
     "output_type": "stream",
     "text": [
      "Installing collected packages: mnist\r\n",
      "Successfully installed mnist-0.2.2\r\n"
     ]
    }
   ],
   "source": [
    "!pip install mnist "
   ]
  },
  {
   "cell_type": "markdown",
   "metadata": {
    "papermill": {
     "duration": 0.024869,
     "end_time": "2020-11-23T10:04:40.574191",
     "exception": false,
     "start_time": "2020-11-23T10:04:40.549322",
     "status": "completed"
    },
    "tags": []
   },
   "source": [
    "#### Importing necessary libraries"
   ]
  },
  {
   "cell_type": "code",
   "execution_count": 2,
   "metadata": {
    "execution": {
     "iopub.execute_input": "2020-11-23T10:04:40.633522Z",
     "iopub.status.busy": "2020-11-23T10:04:40.632977Z",
     "iopub.status.idle": "2020-11-23T10:04:41.177764Z",
     "shell.execute_reply": "2020-11-23T10:04:41.176884Z"
    },
    "papermill": {
     "duration": 0.578419,
     "end_time": "2020-11-23T10:04:41.177896",
     "exception": false,
     "start_time": "2020-11-23T10:04:40.599477",
     "status": "completed"
    },
    "tags": []
   },
   "outputs": [],
   "source": [
    "%load_ext autoreload\n",
    "%autoreload 2\n",
    "\n",
    "%matplotlib inline\n",
    "import matplotlib.pyplot as plt\n",
    "\n",
    "import numpy as np\n",
    "import pandas as pd"
   ]
  },
  {
   "cell_type": "markdown",
   "metadata": {
    "papermill": {
     "duration": 0.020675,
     "end_time": "2020-11-23T10:04:41.223104",
     "exception": false,
     "start_time": "2020-11-23T10:04:41.202429",
     "status": "completed"
    },
    "tags": []
   },
   "source": [
    "### Preparing the Data"
   ]
  },
  {
   "cell_type": "code",
   "execution_count": 3,
   "metadata": {
    "execution": {
     "iopub.execute_input": "2020-11-23T10:04:41.274874Z",
     "iopub.status.busy": "2020-11-23T10:04:41.273886Z",
     "iopub.status.idle": "2020-11-23T10:04:41.286442Z",
     "shell.execute_reply": "2020-11-23T10:04:41.285839Z"
    },
    "papermill": {
     "duration": 0.040497,
     "end_time": "2020-11-23T10:04:41.286565",
     "exception": false,
     "start_time": "2020-11-23T10:04:41.246068",
     "status": "completed"
    },
    "tags": []
   },
   "outputs": [],
   "source": [
    "import mnist"
   ]
  },
  {
   "cell_type": "code",
   "execution_count": 4,
   "metadata": {
    "execution": {
     "iopub.execute_input": "2020-11-23T10:04:41.344204Z",
     "iopub.status.busy": "2020-11-23T10:04:41.343130Z",
     "iopub.status.idle": "2020-11-23T10:04:43.034405Z",
     "shell.execute_reply": "2020-11-23T10:04:43.033373Z"
    },
    "papermill": {
     "duration": 1.722672,
     "end_time": "2020-11-23T10:04:43.034561",
     "exception": false,
     "start_time": "2020-11-23T10:04:41.311889",
     "status": "completed"
    },
    "tags": []
   },
   "outputs": [],
   "source": [
    "train_images = mnist.train_images()\n",
    "train_labels = mnist.train_labels()"
   ]
  },
  {
   "cell_type": "code",
   "execution_count": 5,
   "metadata": {
    "execution": {
     "iopub.execute_input": "2020-11-23T10:04:43.328663Z",
     "iopub.status.busy": "2020-11-23T10:04:43.327605Z",
     "iopub.status.idle": "2020-11-23T10:04:43.340195Z",
     "shell.execute_reply": "2020-11-23T10:04:43.340517Z"
    },
    "papermill": {
     "duration": 0.281455,
     "end_time": "2020-11-23T10:04:43.340630",
     "exception": false,
     "start_time": "2020-11-23T10:04:43.059175",
     "status": "completed"
    },
    "tags": []
   },
   "outputs": [
    {
     "data": {
      "text/plain": [
       "((60000, 28, 28), (60000,))"
      ]
     },
     "execution_count": 5,
     "metadata": {},
     "output_type": "execute_result"
    }
   ],
   "source": [
    "train_images.shape, train_labels.shape"
   ]
  },
  {
   "cell_type": "code",
   "execution_count": 6,
   "metadata": {
    "execution": {
     "iopub.execute_input": "2020-11-23T10:04:43.396687Z",
     "iopub.status.busy": "2020-11-23T10:04:43.396208Z",
     "iopub.status.idle": "2020-11-23T10:04:44.643552Z",
     "shell.execute_reply": "2020-11-23T10:04:44.644041Z"
    },
    "papermill": {
     "duration": 1.279488,
     "end_time": "2020-11-23T10:04:44.644210",
     "exception": false,
     "start_time": "2020-11-23T10:04:43.364722",
     "status": "completed"
    },
    "tags": []
   },
   "outputs": [],
   "source": [
    "test_images = mnist.test_images()\n",
    "test_labels = mnist.test_labels()"
   ]
  },
  {
   "cell_type": "code",
   "execution_count": 7,
   "metadata": {
    "execution": {
     "iopub.execute_input": "2020-11-23T10:04:44.698914Z",
     "iopub.status.busy": "2020-11-23T10:04:44.698426Z",
     "iopub.status.idle": "2020-11-23T10:04:44.714758Z",
     "shell.execute_reply": "2020-11-23T10:04:44.714279Z"
    },
    "papermill": {
     "duration": 0.044842,
     "end_time": "2020-11-23T10:04:44.714874",
     "exception": false,
     "start_time": "2020-11-23T10:04:44.670032",
     "status": "completed"
    },
    "tags": []
   },
   "outputs": [
    {
     "data": {
      "text/plain": [
       "((10000, 28, 28), (10000,))"
      ]
     },
     "execution_count": 7,
     "metadata": {},
     "output_type": "execute_result"
    }
   ],
   "source": [
    "test_images.shape, test_labels.shape"
   ]
  },
  {
   "cell_type": "code",
   "execution_count": 8,
   "metadata": {
    "execution": {
     "iopub.execute_input": "2020-11-23T10:04:44.771309Z",
     "iopub.status.busy": "2020-11-23T10:04:44.770746Z",
     "iopub.status.idle": "2020-11-23T10:04:44.906947Z",
     "shell.execute_reply": "2020-11-23T10:04:44.906421Z"
    },
    "papermill": {
     "duration": 0.16582,
     "end_time": "2020-11-23T10:04:44.907083",
     "exception": false,
     "start_time": "2020-11-23T10:04:44.741263",
     "status": "completed"
    },
    "tags": []
   },
   "outputs": [
    {
     "name": "stdout",
     "output_type": "stream",
     "text": [
      "2\n"
     ]
    },
    {
     "data": {
      "text/plain": [
       "<matplotlib.image.AxesImage at 0x7f13f9700080>"
      ]
     },
     "execution_count": 8,
     "metadata": {},
     "output_type": "execute_result"
    },
    {
     "data": {
      "image/png": "[encoded data removed]",
      "text/plain": [
       "<Figure size 432x288 with 1 Axes>"
      ]
     },
     "metadata": {
      "needs_background": "light"
     },
     "output_type": "display_data"
    }
   ],
   "source": [
    "image_index = 7776 # You may select anything up to 60,000\n",
    "print(train_labels[image_index]) \n",
    "plt.imshow(train_images[image_index], cmap='Greys')"
   ]
  },
  {
   "cell_type": "markdown",
   "metadata": {
    "papermill": {
     "duration": 0.026521,
     "end_time": "2020-11-23T10:04:44.960225",
     "exception": false,
     "start_time": "2020-11-23T10:04:44.933704",
     "status": "completed"
    },
    "tags": []
   },
   "source": [
    "## Filter data to get 3 and 8 out"
   ]
  },
  {
   "cell_type": "code",
   "execution_count": 9,
   "metadata": {
    "execution": {
     "iopub.execute_input": "2020-11-23T10:04:45.016528Z",
     "iopub.status.busy": "2020-11-23T10:04:45.016081Z",
     "iopub.status.idle": "2020-11-23T10:04:45.031314Z",
     "shell.execute_reply": "2020-11-23T10:04:45.031820Z"
    },
    "papermill": {
     "duration": 0.046474,
     "end_time": "2020-11-23T10:04:45.031955",
     "exception": false,
     "start_time": "2020-11-23T10:04:44.985481",
     "status": "completed"
    },
    "tags": []
   },
   "outputs": [],
   "source": [
    "train_filter = np.where((train_labels == 3 ) | (train_labels == 8))\n",
    "test_filter = np.where((test_labels == 3) | (test_labels == 8))\n",
    "X_train, y_train = train_images[train_filter], train_labels[train_filter]\n",
    "X_test, y_test = test_images[test_filter], test_labels[test_filter]"
   ]
  },
  {
   "cell_type": "markdown",
   "metadata": {
    "papermill": {
     "duration": 0.02634,
     "end_time": "2020-11-23T10:04:45.084283",
     "exception": false,
     "start_time": "2020-11-23T10:04:45.057943",
     "status": "completed"
    },
    "tags": []
   },
   "source": [
    "We normalize the pixel values in the 0 to 1 range"
   ]
  },
  {
   "cell_type": "code",
   "execution_count": 10,
   "metadata": {
    "execution": {
     "iopub.execute_input": "2020-11-23T10:04:45.137762Z",
     "iopub.status.busy": "2020-11-23T10:04:45.137209Z",
     "iopub.status.idle": "2020-11-23T10:04:45.184734Z",
     "shell.execute_reply": "2020-11-23T10:04:45.184163Z"
    },
    "papermill": {
     "duration": 0.075104,
     "end_time": "2020-11-23T10:04:45.184869",
     "exception": false,
     "start_time": "2020-11-23T10:04:45.109765",
     "status": "completed"
    },
    "tags": []
   },
   "outputs": [],
   "source": [
    "X_train = X_train/255.\n",
    "X_test = X_test/255."
   ]
  },
  {
   "cell_type": "markdown",
   "metadata": {
    "papermill": {
     "duration": 0.023537,
     "end_time": "2020-11-23T10:04:45.233106",
     "exception": false,
     "start_time": "2020-11-23T10:04:45.209569",
     "status": "completed"
    },
    "tags": []
   },
   "source": [
    "Setup the labels as 1 (when the digit is 3) and 0 (when the digit is 8)"
   ]
  },
  {
   "cell_type": "code",
   "execution_count": 11,
   "metadata": {
    "execution": {
     "iopub.execute_input": "2020-11-23T10:04:45.287450Z",
     "iopub.status.busy": "2020-11-23T10:04:45.286858Z",
     "iopub.status.idle": "2020-11-23T10:04:45.299412Z",
     "shell.execute_reply": "2020-11-23T10:04:45.298998Z"
    },
    "papermill": {
     "duration": 0.040884,
     "end_time": "2020-11-23T10:04:45.299540",
     "exception": false,
     "start_time": "2020-11-23T10:04:45.258656",
     "status": "completed"
    },
    "tags": []
   },
   "outputs": [],
   "source": [
    "y_train = 1*(y_train==3)\n",
    "y_test = 1*(y_test==3)"
   ]
  },
  {
   "cell_type": "code",
   "execution_count": 12,
   "metadata": {
    "execution": {
     "iopub.execute_input": "2020-11-23T10:04:45.357728Z",
     "iopub.status.busy": "2020-11-23T10:04:45.357137Z",
     "iopub.status.idle": "2020-11-23T10:04:45.370594Z",
     "shell.execute_reply": "2020-11-23T10:04:45.371015Z"
    },
    "papermill": {
     "duration": 0.045109,
     "end_time": "2020-11-23T10:04:45.371153",
     "exception": false,
     "start_time": "2020-11-23T10:04:45.326044",
     "status": "completed"
    },
    "tags": []
   },
   "outputs": [
    {
     "data": {
      "text/plain": [
       "((11982, 28, 28), (1984, 28, 28))"
      ]
     },
     "execution_count": 12,
     "metadata": {},
     "output_type": "execute_result"
    }
   ],
   "source": [
    "X_train.shape, X_test.shape"
   ]
  },
  {
   "cell_type": "markdown",
   "metadata": {
    "papermill": {
     "duration": 0.026443,
     "end_time": "2020-11-23T10:04:45.423045",
     "exception": false,
     "start_time": "2020-11-23T10:04:45.396602",
     "status": "completed"
    },
    "tags": []
   },
   "source": [
    "### Reshape the input data to create a linear array"
   ]
  },
  {
   "cell_type": "code",
   "execution_count": 13,
   "metadata": {
    "execution": {
     "iopub.execute_input": "2020-11-23T10:04:45.479649Z",
     "iopub.status.busy": "2020-11-23T10:04:45.479159Z",
     "iopub.status.idle": "2020-11-23T10:04:45.493663Z",
     "shell.execute_reply": "2020-11-23T10:04:45.493189Z"
    },
    "papermill": {
     "duration": 0.044165,
     "end_time": "2020-11-23T10:04:45.493790",
     "exception": false,
     "start_time": "2020-11-23T10:04:45.449625",
     "status": "completed"
    },
    "tags": []
   },
   "outputs": [
    {
     "data": {
      "text/plain": [
       "((11982, 784), (1984, 784))"
      ]
     },
     "execution_count": 13,
     "metadata": {},
     "output_type": "execute_result"
    }
   ],
   "source": [
    "X_train = X_train.reshape(X_train.shape[0], -1)\n",
    "X_test = X_test.reshape(X_test.shape[0], -1)\n",
    "X_train.shape, X_test.shape"
   ]
  },
  {
   "cell_type": "markdown",
   "metadata": {
    "papermill": {
     "duration": 0.027038,
     "end_time": "2020-11-23T10:04:45.547064",
     "exception": false,
     "start_time": "2020-11-23T10:04:45.520026",
     "status": "completed"
    },
    "tags": []
   },
   "source": [
    "### Importing appropriate functions from 'Kudzu'"
   ]
  },
  {
   "cell_type": "code",
   "execution_count": 14,
   "metadata": {
    "execution": {
     "iopub.execute_input": "2020-11-23T10:04:45.606380Z",
     "iopub.status.busy": "2020-11-23T10:04:45.605736Z",
     "iopub.status.idle": "2020-11-23T10:04:45.625336Z",
     "shell.execute_reply": "2020-11-23T10:04:45.624859Z"
    },
    "papermill": {
     "duration": 0.051728,
     "end_time": "2020-11-23T10:04:45.625460",
     "exception": false,
     "start_time": "2020-11-23T10:04:45.573732",
     "status": "completed"
    },
    "tags": []
   },
   "outputs": [],
   "source": [
    "from kudzu.layer import Sigmoid\n",
    "from kudzu.layer import Relu\n",
    "from kudzu.layer import Affine, Sigmoid\n",
    "\n",
    "from kudzu.model import Model\n",
    "from kudzu.train import Learner\n",
    "from kudzu.optim import GD\n",
    "from kudzu.data import Data, Dataloader, Sampler\n",
    "\n",
    "from kudzu.callbacks import AccCallback\n",
    "from kudzu.callbacks import ClfCallback\n",
    "\n",
    "from kudzu.loss import MSE"
   ]
  },
  {
   "cell_type": "markdown",
   "metadata": {
    "papermill": {
     "duration": 0.030202,
     "end_time": "2020-11-23T10:04:45.682359",
     "exception": false,
     "start_time": "2020-11-23T10:04:45.652157",
     "status": "completed"
    },
    "tags": []
   },
   "source": [
    "### Let us create a `Config` class, to store important parameters. \n",
    "This class essentially plays the role of a dictionary."
   ]
  },
  {
   "cell_type": "code",
   "execution_count": 15,
   "metadata": {
    "execution": {
     "iopub.execute_input": "2020-11-23T10:04:45.739428Z",
     "iopub.status.busy": "2020-11-23T10:04:45.738864Z",
     "iopub.status.idle": "2020-11-23T10:04:45.753074Z",
     "shell.execute_reply": "2020-11-23T10:04:45.753511Z"
    },
    "papermill": {
     "duration": 0.044984,
     "end_time": "2020-11-23T10:04:45.753661",
     "exception": false,
     "start_time": "2020-11-23T10:04:45.708677",
     "status": "completed"
    },
    "tags": []
   },
   "outputs": [],
   "source": [
    "class Config:\n",
    "    pass\n",
    "config = Config()\n",
    "config.lr = 0.001\n",
    "config.num_epochs = 251\n",
    "config.bs = 50"
   ]
  },
  {
   "cell_type": "markdown",
   "metadata": {
    "papermill": {
     "duration": 0.026854,
     "end_time": "2020-11-23T10:04:45.805808",
     "exception": false,
     "start_time": "2020-11-23T10:04:45.778954",
     "status": "completed"
    },
    "tags": []
   },
   "source": [
    "### Initializing data to the variables"
   ]
  },
  {
   "cell_type": "code",
   "execution_count": 16,
   "metadata": {
    "execution": {
     "iopub.execute_input": "2020-11-23T10:04:45.864405Z",
     "iopub.status.busy": "2020-11-23T10:04:45.863796Z",
     "iopub.status.idle": "2020-11-23T10:04:45.877073Z",
     "shell.execute_reply": "2020-11-23T10:04:45.876599Z"
    },
    "papermill": {
     "duration": 0.045176,
     "end_time": "2020-11-23T10:04:45.877193",
     "exception": false,
     "start_time": "2020-11-23T10:04:45.832017",
     "status": "completed"
    },
    "tags": []
   },
   "outputs": [],
   "source": [
    "data = Data(X_train, y_train.reshape(-1,1))\n",
    "sampler = Sampler(data, config.bs, shuffle=True)\n",
    "\n",
    "dl = Dataloader(data, sampler)\n",
    "\n",
    "opt = GD(config.lr)\n",
    "loss = MSE()"
   ]
  },
  {
   "cell_type": "code",
   "execution_count": 17,
   "metadata": {
    "execution": {
     "iopub.execute_input": "2020-11-23T10:04:45.935493Z",
     "iopub.status.busy": "2020-11-23T10:04:45.934942Z",
     "iopub.status.idle": "2020-11-23T10:04:45.947863Z",
     "shell.execute_reply": "2020-11-23T10:04:45.947474Z"
    },
    "papermill": {
     "duration": 0.045646,
     "end_time": "2020-11-23T10:04:45.947969",
     "exception": false,
     "start_time": "2020-11-23T10:04:45.902323",
     "status": "completed"
    },
    "tags": []
   },
   "outputs": [],
   "source": [
    "training_xdata = X_train\n",
    "testing_xdata = X_test\n",
    "training_ydata = y_train.reshape(-1,1)\n",
    "testing_ydata = y_test.reshape(-1,1)"
   ]
  },
  {
   "cell_type": "markdown",
   "metadata": {
    "papermill": {
     "duration": 0.024968,
     "end_time": "2020-11-23T10:04:45.998635",
     "exception": false,
     "start_time": "2020-11-23T10:04:45.973667",
     "status": "completed"
    },
    "tags": []
   },
   "source": [
    "### Running Models with the Training data\n",
    "Details about the network layers:\n",
    "- A first affine layer has 784 inputs and does 100 affine transforms. These are followed by a Relu\n",
    "- A second affine layer has 100 inputs from the 100 activations of the past layer, and does 100 affine transforms. These are followed by a Relu\n",
    "- A third affine layer has 100 activations and does 2 affine transformations to create an embedding for visualization. There is no non-linearity here.\n",
    "- A final \"logistic regression\" which has an affine transform from 2 inputs to 1 output, which is squeezed through a sigmoid.\n",
    "\n",
    "Help taken from Anshuman's Notebook."
   ]
  },
  {
   "cell_type": "code",
   "execution_count": 18,
   "metadata": {
    "execution": {
     "iopub.execute_input": "2020-11-23T10:04:46.054525Z",
     "iopub.status.busy": "2020-11-23T10:04:46.053559Z",
     "iopub.status.idle": "2020-11-23T10:04:46.072551Z",
     "shell.execute_reply": "2020-11-23T10:04:46.072041Z"
    },
    "papermill": {
     "duration": 0.049578,
     "end_time": "2020-11-23T10:04:46.072665",
     "exception": false,
     "start_time": "2020-11-23T10:04:46.023087",
     "status": "completed"
    },
    "tags": []
   },
   "outputs": [],
   "source": [
    "# layers for the Neural Network\n",
    "layers = [Affine(\"first\", 784, 100), Relu(\"first\"), Affine(\"second\", 100, 100), Relu(\"second\"), Affine(\"third\", 100, 2), Affine(\"final\", 2, 1), Sigmoid(\"final\")]\n",
    "model_nn = Model(layers)\n",
    "\n",
    "# layers for the Logistic Regression\n",
    "layers_lr = [Affine(\"logits\", 784, 1), Sigmoid(\"sigmoid\")]\n",
    "model_lr = Model(layers_lr)"
   ]
  },
  {
   "cell_type": "code",
   "execution_count": 19,
   "metadata": {
    "execution": {
     "iopub.execute_input": "2020-11-23T10:04:46.129589Z",
     "iopub.status.busy": "2020-11-23T10:04:46.129002Z",
     "iopub.status.idle": "2020-11-23T10:04:46.141864Z",
     "shell.execute_reply": "2020-11-23T10:04:46.142367Z"
    },
    "papermill": {
     "duration": 0.044672,
     "end_time": "2020-11-23T10:04:46.142509",
     "exception": false,
     "start_time": "2020-11-23T10:04:46.097837",
     "status": "completed"
    },
    "tags": []
   },
   "outputs": [],
   "source": [
    "# suffix _nn stands for Neural Network.\n",
    "learner_nn = Learner(loss, model_nn, opt, config.num_epochs)\n",
    "acc_nn = ClfCallback(learner_nn, config.bs, training_xdata , testing_xdata, training_ydata, testing_ydata)\n",
    "learner_nn.set_callbacks([acc_nn])"
   ]
  },
  {
   "cell_type": "code",
   "execution_count": 20,
   "metadata": {
    "execution": {
     "iopub.execute_input": "2020-11-23T10:04:46.199534Z",
     "iopub.status.busy": "2020-11-23T10:04:46.198960Z",
     "iopub.status.idle": "2020-11-23T10:06:10.072185Z",
     "shell.execute_reply": "2020-11-23T10:06:10.072727Z"
    },
    "papermill": {
     "duration": 83.904773,
     "end_time": "2020-11-23T10:06:10.072873",
     "exception": false,
     "start_time": "2020-11-23T10:04:46.168100",
     "status": "completed"
    },
    "tags": []
   },
   "outputs": [
    {
     "name": "stdout",
     "output_type": "stream",
     "text": [
      "====== Neural Network ======\n"
     ]
    },
    {
     "name": "stdout",
     "output_type": "stream",
     "text": [
      "Epoch 0, Loss 0.2406\n",
      "Training Accuracy: 0.7277, Testing Accuracy: 0.7319\n",
      "\n"
     ]
    },
    {
     "name": "stdout",
     "output_type": "stream",
     "text": [
      "Epoch 10, Loss 0.0765\n",
      "Training Accuracy: 0.9261, Testing Accuracy: 0.9345\n",
      "\n"
     ]
    },
    {
     "name": "stdout",
     "output_type": "stream",
     "text": [
      "Epoch 20, Loss 0.0505\n",
      "Training Accuracy: 0.9463, Testing Accuracy: 0.9561\n",
      "\n"
     ]
    },
    {
     "name": "stdout",
     "output_type": "stream",
     "text": [
      "Epoch 30, Loss 0.0407\n",
      "Training Accuracy: 0.9551, Testing Accuracy: 0.9652\n",
      "\n"
     ]
    },
    {
     "name": "stdout",
     "output_type": "stream",
     "text": [
      "Epoch 40, Loss 0.0355\n",
      "Training Accuracy: 0.9599, Testing Accuracy: 0.9698\n",
      "\n"
     ]
    },
    {
     "name": "stdout",
     "output_type": "stream",
     "text": [
      "Epoch 50, Loss 0.0322\n",
      "Training Accuracy: 0.9636, Testing Accuracy: 0.9698\n",
      "\n"
     ]
    },
    {
     "name": "stdout",
     "output_type": "stream",
     "text": [
      "Epoch 60, Loss 0.0299\n",
      "Training Accuracy: 0.9664, Testing Accuracy: 0.9693\n",
      "\n"
     ]
    },
    {
     "name": "stdout",
     "output_type": "stream",
     "text": [
      "Epoch 70, Loss 0.0281\n",
      "Training Accuracy: 0.9690, Testing Accuracy: 0.9718\n",
      "\n"
     ]
    },
    {
     "name": "stdout",
     "output_type": "stream",
     "text": [
      "Epoch 80, Loss 0.0266\n",
      "Training Accuracy: 0.9708, Testing Accuracy: 0.9723\n",
      "\n"
     ]
    },
    {
     "name": "stdout",
     "output_type": "stream",
     "text": [
      "Epoch 90, Loss 0.0254\n",
      "Training Accuracy: 0.9719, Testing Accuracy: 0.9733\n",
      "\n"
     ]
    },
    {
     "name": "stdout",
     "output_type": "stream",
     "text": [
      "Epoch 100, Loss 0.0244\n",
      "Training Accuracy: 0.9730, Testing Accuracy: 0.9733\n",
      "\n"
     ]
    },
    {
     "name": "stdout",
     "output_type": "stream",
     "text": [
      "Epoch 110, Loss 0.0235\n",
      "Training Accuracy: 0.9743, Testing Accuracy: 0.9728\n",
      "\n"
     ]
    },
    {
     "name": "stdout",
     "output_type": "stream",
     "text": [
      "Epoch 120, Loss 0.0226\n",
      "Training Accuracy: 0.9749, Testing Accuracy: 0.9733\n",
      "\n"
     ]
    },
    {
     "name": "stdout",
     "output_type": "stream",
     "text": [
      "Epoch 130, Loss 0.0219\n",
      "Training Accuracy: 0.9754, Testing Accuracy: 0.9733\n",
      "\n"
     ]
    },
    {
     "name": "stdout",
     "output_type": "stream",
     "text": [
      "Epoch 140, Loss 0.0212\n",
      "Training Accuracy: 0.9762, Testing Accuracy: 0.9738\n",
      "\n"
     ]
    },
    {
     "name": "stdout",
     "output_type": "stream",
     "text": [
      "Epoch 150, Loss 0.0206\n",
      "Training Accuracy: 0.9771, Testing Accuracy: 0.9743\n",
      "\n"
     ]
    },
    {
     "name": "stdout",
     "output_type": "stream",
     "text": [
      "Epoch 160, Loss 0.02\n",
      "Training Accuracy: 0.9782, Testing Accuracy: 0.9743\n",
      "\n"
     ]
    },
    {
     "name": "stdout",
     "output_type": "stream",
     "text": [
      "Epoch 170, Loss 0.0194\n",
      "Training Accuracy: 0.9792, Testing Accuracy: 0.9743\n",
      "\n"
     ]
    },
    {
     "name": "stdout",
     "output_type": "stream",
     "text": [
      "Epoch 180, Loss 0.0189\n",
      "Training Accuracy: 0.9796, Testing Accuracy: 0.9743\n",
      "\n"
     ]
    },
    {
     "name": "stdout",
     "output_type": "stream",
     "text": [
      "Epoch 190, Loss 0.0184\n",
      "Training Accuracy: 0.9797, Testing Accuracy: 0.9748\n",
      "\n"
     ]
    },
    {
     "name": "stdout",
     "output_type": "stream",
     "text": [
      "Epoch 200, Loss 0.0179\n",
      "Training Accuracy: 0.9807, Testing Accuracy: 0.9748\n",
      "\n"
     ]
    },
    {
     "name": "stdout",
     "output_type": "stream",
     "text": [
      "Epoch 210, Loss 0.0174\n",
      "Training Accuracy: 0.9811, Testing Accuracy: 0.9763\n",
      "\n"
     ]
    },
    {
     "name": "stdout",
     "output_type": "stream",
     "text": [
      "Epoch 220, Loss 0.017\n",
      "Training Accuracy: 0.9817, Testing Accuracy: 0.9758\n",
      "\n"
     ]
    },
    {
     "name": "stdout",
     "output_type": "stream",
     "text": [
      "Epoch 230, Loss 0.0166\n",
      "Training Accuracy: 0.9820, Testing Accuracy: 0.9763\n",
      "\n"
     ]
    },
    {
     "name": "stdout",
     "output_type": "stream",
     "text": [
      "Epoch 240, Loss 0.0162\n",
      "Training Accuracy: 0.9826, Testing Accuracy: 0.9768\n",
      "\n"
     ]
    },
    {
     "name": "stdout",
     "output_type": "stream",
     "text": [
      "Epoch 250, Loss 0.0158\n",
      "Training Accuracy: 0.9830, Testing Accuracy: 0.9768\n",
      "\n"
     ]
    },
    {
     "data": {
      "text/plain": [
       "0.05822597747891853"
      ]
     },
     "execution_count": 20,
     "metadata": {},
     "output_type": "execute_result"
    }
   ],
   "source": [
    "print(\"====== Neural Network ======\")\n",
    "learner_nn.train_loop(dl)"
   ]
  },
  {
   "cell_type": "markdown",
   "metadata": {
    "papermill": {
     "duration": 0.03446,
     "end_time": "2020-11-23T10:06:10.143639",
     "exception": false,
     "start_time": "2020-11-23T10:06:10.109179",
     "status": "completed"
    },
    "tags": []
   },
   "source": [
    "### Logistic Regression based Implementation."
   ]
  },
  {
   "cell_type": "code",
   "execution_count": 21,
   "metadata": {
    "execution": {
     "iopub.execute_input": "2020-11-23T10:06:10.219612Z",
     "iopub.status.busy": "2020-11-23T10:06:10.218994Z",
     "iopub.status.idle": "2020-11-23T10:06:10.230122Z",
     "shell.execute_reply": "2020-11-23T10:06:10.229566Z"
    },
    "papermill": {
     "duration": 0.05387,
     "end_time": "2020-11-23T10:06:10.230277",
     "exception": false,
     "start_time": "2020-11-23T10:06:10.176407",
     "status": "completed"
    },
    "tags": []
   },
   "outputs": [],
   "source": [
    "learner_lr = Learner(loss, model_lr, opt, config.num_epochs)\n",
    "acc_lr = ClfCallback(learner_lr, config.bs, training_xdata , testing_xdata, training_ydata, testing_ydata)\n",
    "learner_lr.set_callbacks([acc_lr])"
   ]
  },
  {
   "cell_type": "code",
   "execution_count": 22,
   "metadata": {
    "execution": {
     "iopub.execute_input": "2020-11-23T10:06:10.316528Z",
     "iopub.status.busy": "2020-11-23T10:06:10.315905Z",
     "iopub.status.idle": "2020-11-23T10:06:25.059016Z",
     "shell.execute_reply": "2020-11-23T10:06:25.059772Z"
    },
    "papermill": {
     "duration": 14.793545,
     "end_time": "2020-11-23T10:06:25.059932",
     "exception": false,
     "start_time": "2020-11-23T10:06:10.266387",
     "status": "completed"
    },
    "tags": []
   },
   "outputs": [
    {
     "name": "stdout",
     "output_type": "stream",
     "text": [
      "====== Logistic Regression ======\n",
      "Epoch 0, Loss 0.2083\n",
      "Training Accuracy: 0.7595, Testing Accuracy: 0.7697\n",
      "\n"
     ]
    },
    {
     "name": "stdout",
     "output_type": "stream",
     "text": [
      "Epoch 10, Loss 0.1039\n",
      "Training Accuracy: 0.9000, Testing Accuracy: 0.9138\n",
      "\n"
     ]
    },
    {
     "name": "stdout",
     "output_type": "stream",
     "text": [
      "Epoch 20, Loss 0.0808\n",
      "Training Accuracy: 0.9218, Testing Accuracy: 0.9365\n",
      "\n"
     ]
    },
    {
     "name": "stdout",
     "output_type": "stream",
     "text": [
      "Epoch 30, Loss 0.0698\n",
      "Training Accuracy: 0.9311, Testing Accuracy: 0.9456\n",
      "\n"
     ]
    },
    {
     "name": "stdout",
     "output_type": "stream",
     "text": [
      "Epoch 40, Loss 0.063\n",
      "Training Accuracy: 0.9369, Testing Accuracy: 0.9491\n",
      "\n"
     ]
    },
    {
     "name": "stdout",
     "output_type": "stream",
     "text": [
      "Epoch 50, Loss 0.0584\n",
      "Training Accuracy: 0.9412, Testing Accuracy: 0.9551\n",
      "\n"
     ]
    },
    {
     "name": "stdout",
     "output_type": "stream",
     "text": [
      "Epoch 60, Loss 0.055\n",
      "Training Accuracy: 0.9450, Testing Accuracy: 0.9572\n",
      "\n"
     ]
    },
    {
     "name": "stdout",
     "output_type": "stream",
     "text": [
      "Epoch 70, Loss 0.0523\n",
      "Training Accuracy: 0.9464, Testing Accuracy: 0.9577\n",
      "\n"
     ]
    },
    {
     "name": "stdout",
     "output_type": "stream",
     "text": [
      "Epoch 80, Loss 0.0502\n",
      "Training Accuracy: 0.9474, Testing Accuracy: 0.9607\n",
      "\n"
     ]
    },
    {
     "name": "stdout",
     "output_type": "stream",
     "text": [
      "Epoch 90, Loss 0.0484\n",
      "Training Accuracy: 0.9489, Testing Accuracy: 0.9612\n",
      "\n"
     ]
    },
    {
     "name": "stdout",
     "output_type": "stream",
     "text": [
      "Epoch 100, Loss 0.047\n",
      "Training Accuracy: 0.9502, Testing Accuracy: 0.9632\n",
      "\n"
     ]
    },
    {
     "name": "stdout",
     "output_type": "stream",
     "text": [
      "Epoch 110, Loss 0.0457\n",
      "Training Accuracy: 0.9514, Testing Accuracy: 0.9637\n",
      "\n"
     ]
    },
    {
     "name": "stdout",
     "output_type": "stream",
     "text": [
      "Epoch 120, Loss 0.0446\n",
      "Training Accuracy: 0.9526, Testing Accuracy: 0.9642\n",
      "\n"
     ]
    },
    {
     "name": "stdout",
     "output_type": "stream",
     "text": [
      "Epoch 130, Loss 0.0436\n",
      "Training Accuracy: 0.9530, Testing Accuracy: 0.9647\n",
      "\n"
     ]
    },
    {
     "name": "stdout",
     "output_type": "stream",
     "text": [
      "Epoch 140, Loss 0.0428\n",
      "Training Accuracy: 0.9543, Testing Accuracy: 0.9647\n",
      "\n"
     ]
    },
    {
     "name": "stdout",
     "output_type": "stream",
     "text": [
      "Epoch 150, Loss 0.042\n",
      "Training Accuracy: 0.9552, Testing Accuracy: 0.9652\n",
      "\n"
     ]
    },
    {
     "name": "stdout",
     "output_type": "stream",
     "text": [
      "Epoch 160, Loss 0.0413\n",
      "Training Accuracy: 0.9559, Testing Accuracy: 0.9657\n",
      "\n"
     ]
    },
    {
     "name": "stdout",
     "output_type": "stream",
     "text": [
      "Epoch 170, Loss 0.0407\n",
      "Training Accuracy: 0.9567, Testing Accuracy: 0.9652\n",
      "\n"
     ]
    },
    {
     "name": "stdout",
     "output_type": "stream",
     "text": [
      "Epoch 180, Loss 0.0401\n",
      "Training Accuracy: 0.9572, Testing Accuracy: 0.9657\n",
      "\n"
     ]
    },
    {
     "name": "stdout",
     "output_type": "stream",
     "text": [
      "Epoch 190, Loss 0.0396\n",
      "Training Accuracy: 0.9574, Testing Accuracy: 0.9657\n",
      "\n"
     ]
    },
    {
     "name": "stdout",
     "output_type": "stream",
     "text": [
      "Epoch 200, Loss 0.0391\n",
      "Training Accuracy: 0.9579, Testing Accuracy: 0.9662\n",
      "\n"
     ]
    },
    {
     "name": "stdout",
     "output_type": "stream",
     "text": [
      "Epoch 210, Loss 0.0386\n",
      "Training Accuracy: 0.9584, Testing Accuracy: 0.9652\n",
      "\n"
     ]
    },
    {
     "name": "stdout",
     "output_type": "stream",
     "text": [
      "Epoch 220, Loss 0.0382\n",
      "Training Accuracy: 0.9586, Testing Accuracy: 0.9662\n",
      "\n"
     ]
    },
    {
     "name": "stdout",
     "output_type": "stream",
     "text": [
      "Epoch 230, Loss 0.0378\n",
      "Training Accuracy: 0.9589, Testing Accuracy: 0.9662\n",
      "\n"
     ]
    },
    {
     "name": "stdout",
     "output_type": "stream",
     "text": [
      "Epoch 240, Loss 0.0374\n",
      "Training Accuracy: 0.9592, Testing Accuracy: 0.9662\n",
      "\n"
     ]
    },
    {
     "name": "stdout",
     "output_type": "stream",
     "text": [
      "Epoch 250, Loss 0.037\n",
      "Training Accuracy: 0.9599, Testing Accuracy: 0.9667\n",
      "\n"
     ]
    },
    {
     "data": {
      "text/plain": [
       "0.021774846184396457"
      ]
     },
     "execution_count": 22,
     "metadata": {},
     "output_type": "execute_result"
    }
   ],
   "source": [
    "print(\"====== Logistic Regression ======\")\n",
    "learner_lr.train_loop(dl)"
   ]
  },
  {
   "cell_type": "markdown",
   "metadata": {
    "papermill": {
     "duration": 0.041639,
     "end_time": "2020-11-23T10:06:25.144678",
     "exception": false,
     "start_time": "2020-11-23T10:06:25.103039",
     "status": "completed"
    },
    "tags": []
   },
   "source": [
    "### Comparing results of NN and LR"
   ]
  },
  {
   "cell_type": "code",
   "execution_count": 23,
   "metadata": {
    "execution": {
     "iopub.execute_input": "2020-11-23T10:06:25.232043Z",
     "iopub.status.busy": "2020-11-23T10:06:25.231454Z",
     "iopub.status.idle": "2020-11-23T10:06:25.456641Z",
     "shell.execute_reply": "2020-11-23T10:06:25.456173Z"
    },
    "papermill": {
     "duration": 0.27211,
     "end_time": "2020-11-23T10:06:25.456771",
     "exception": false,
     "start_time": "2020-11-23T10:06:25.184661",
     "status": "completed"
    },
    "tags": []
   },
   "outputs": [
    {
     "data": {
      "text/plain": [
       "<matplotlib.legend.Legend at 0x7f13f2b249e8>"
      ]
     },
     "execution_count": 23,
     "metadata": {},
     "output_type": "execute_result"
    },
    {
     "data": {
      "image/png": "[encoded data removed]",
      "text/plain": [
       "<Figure size 1080x720 with 1 Axes>"
      ]
     },
     "metadata": {
      "needs_background": "light"
     },
     "output_type": "display_data"
    }
   ],
   "source": [
    "plt.figure(figsize=(15,10))\n",
    "\n",
    "# Neural Network plots\n",
    "plt.plot(acc_nn.accuracies, 'r-', label = \"Training Accuracies - NN\")\n",
    "plt.plot(acc_nn.test_accuracies, 'g-', label = \"Testing Accuracies - NN\")\n",
    "\n",
    "# Logistic Regression plots\n",
    "plt.plot(acc_lr.accuracies, 'k-', label = \"Training Accuracies - LR\")\n",
    "plt.plot(acc_lr.test_accuracies, 'b-', label = \"Testing Accuracies - LR\")\n",
    "\n",
    "plt.ylim(0.8, 1)\n",
    "\n",
    "plt.legend()\n",
    "\n"
   ]
  },
  {
   "cell_type": "markdown",
   "metadata": {
    "papermill": {
     "duration": 0.041972,
     "end_time": "2020-11-23T10:06:25.543028",
     "exception": false,
     "start_time": "2020-11-23T10:06:25.501056",
     "status": "completed"
    },
    "tags": []
   },
   "source": [
    "### From the plot, we can observe the following:\n",
    "- Neural Network achieves higher accuracy than the Logistic Regression model.\n",
    "- This apparently, is because of overfitting, i.e. NN captures more noise than data.\n",
    "- Testing accuracy of NN drops below the Training accuracy at higher epochs. This explains the over-fitting on training data.\n",
    "- Logistic Regression gives a reliable accuracy, without the above mentioned problem.\n"
   ]
  },
  {
   "cell_type": "markdown",
   "metadata": {
    "papermill": {
     "duration": 0.039954,
     "end_time": "2020-11-23T10:06:25.625570",
     "exception": false,
     "start_time": "2020-11-23T10:06:25.585616",
     "status": "completed"
    },
    "tags": []
   },
   "source": [
    "### Moving till the last but one layer (excluding it).\n",
    "#### Plotting the outputs of this layer of the NN."
   ]
  },
  {
   "cell_type": "code",
   "execution_count": 24,
   "metadata": {
    "execution": {
     "iopub.execute_input": "2020-11-23T10:06:25.711794Z",
     "iopub.status.busy": "2020-11-23T10:06:25.710853Z",
     "iopub.status.idle": "2020-11-23T10:06:25.720606Z",
     "shell.execute_reply": "2020-11-23T10:06:25.721048Z"
    },
    "papermill": {
     "duration": 0.056841,
     "end_time": "2020-11-23T10:06:25.721182",
     "exception": false,
     "start_time": "2020-11-23T10:06:25.664341",
     "status": "completed"
    },
    "tags": []
   },
   "outputs": [],
   "source": [
    "model_new = Model(layers[:-2])"
   ]
  },
  {
   "cell_type": "code",
   "execution_count": 25,
   "metadata": {
    "execution": {
     "iopub.execute_input": "2020-11-23T10:06:25.806932Z",
     "iopub.status.busy": "2020-11-23T10:06:25.805520Z",
     "iopub.status.idle": "2020-11-23T10:06:25.827563Z",
     "shell.execute_reply": "2020-11-23T10:06:25.827993Z"
    },
    "papermill": {
     "duration": 0.067923,
     "end_time": "2020-11-23T10:06:25.828116",
     "exception": false,
     "start_time": "2020-11-23T10:06:25.760193",
     "status": "completed"
    },
    "tags": []
   },
   "outputs": [],
   "source": [
    "plot_testing = model_new(testing_xdata)"
   ]
  },
  {
   "cell_type": "code",
   "execution_count": 26,
   "metadata": {
    "execution": {
     "iopub.execute_input": "2020-11-23T10:06:25.927455Z",
     "iopub.status.busy": "2020-11-23T10:06:25.926972Z",
     "iopub.status.idle": "2020-11-23T10:06:26.132140Z",
     "shell.execute_reply": "2020-11-23T10:06:26.132619Z"
    },
    "papermill": {
     "duration": 0.262574,
     "end_time": "2020-11-23T10:06:26.132774",
     "exception": false,
     "start_time": "2020-11-23T10:06:25.870200",
     "status": "completed"
    },
    "tags": []
   },
   "outputs": [
    {
     "data": {
      "text/plain": [
       "Text(0.5, 1.0, 'Outputs')"
      ]
     },
     "execution_count": 26,
     "metadata": {},
     "output_type": "execute_result"
    },
    {
     "data": {
      "image/png": "[encoded data removed]",
      "text/plain": [
       "<Figure size 576x504 with 1 Axes>"
      ]
     },
     "metadata": {
      "needs_background": "light"
     },
     "output_type": "display_data"
    }
   ],
   "source": [
    "plt.figure(figsize=(8,7))\n",
    "plt.scatter(plot_testing[:,0], plot_testing[:,1], alpha = 0.1, c = y_test.ravel());\n",
    "plt.title('Outputs')"
   ]
  },
  {
   "cell_type": "markdown",
   "metadata": {
    "papermill": {
     "duration": 0.044762,
     "end_time": "2020-11-23T10:06:26.224975",
     "exception": false,
     "start_time": "2020-11-23T10:06:26.180213",
     "status": "completed"
    },
    "tags": []
   },
   "source": [
    "### Plotting probability contours"
   ]
  },
  {
   "cell_type": "code",
   "execution_count": 27,
   "metadata": {
    "execution": {
     "iopub.execute_input": "2020-11-23T10:06:26.327518Z",
     "iopub.status.busy": "2020-11-23T10:06:26.326962Z",
     "iopub.status.idle": "2020-11-23T10:06:26.339228Z",
     "shell.execute_reply": "2020-11-23T10:06:26.338784Z"
    },
    "papermill": {
     "duration": 0.067357,
     "end_time": "2020-11-23T10:06:26.339352",
     "exception": false,
     "start_time": "2020-11-23T10:06:26.271995",
     "status": "completed"
    },
    "tags": []
   },
   "outputs": [],
   "source": [
    "model_prob = Model(layers[-2:]) "
   ]
  },
  {
   "cell_type": "code",
   "execution_count": 28,
   "metadata": {
    "execution": {
     "iopub.execute_input": "2020-11-23T10:06:26.439323Z",
     "iopub.status.busy": "2020-11-23T10:06:26.438715Z",
     "iopub.status.idle": "2020-11-23T10:06:26.452062Z",
     "shell.execute_reply": "2020-11-23T10:06:26.452495Z"
    },
    "papermill": {
     "duration": 0.067625,
     "end_time": "2020-11-23T10:06:26.452647",
     "exception": false,
     "start_time": "2020-11-23T10:06:26.385022",
     "status": "completed"
    },
    "tags": []
   },
   "outputs": [],
   "source": [
    "# Adjust the x and y ranges according to the above generated plot.\n",
    "x_range = np.linspace(-4, 1, 100) \n",
    "y_range = np.linspace(-6, 6, 100) \n",
    "x_grid, y_grid = np.meshgrid(x_range, y_range) # x_grid and y_grig are of size 100 X 100\n",
    "\n",
    "# converting x_grid and y_grid to continuous arrays\n",
    "x_grid_flat = np.ravel(x_grid)\n",
    "y_grid_flat = np.ravel(y_grid)\n",
    "\n",
    "# The last layer of the current model takes two columns as input. Hence transpose of np.vstack() is required.\n",
    "X = np.vstack((x_grid_flat, y_grid_flat)).T\n",
    "\n",
    "# x_grid and y_grid are of size 100 x 100\n",
    "probability_contour = model_prob(X).reshape(100,100) "
   ]
  },
  {
   "cell_type": "code",
   "execution_count": 29,
   "metadata": {
    "execution": {
     "iopub.execute_input": "2020-11-23T10:06:26.560211Z",
     "iopub.status.busy": "2020-11-23T10:06:26.559604Z",
     "iopub.status.idle": "2020-11-23T10:06:26.801189Z",
     "shell.execute_reply": "2020-11-23T10:06:26.801676Z"
    },
    "papermill": {
     "duration": 0.299364,
     "end_time": "2020-11-23T10:06:26.801824",
     "exception": false,
     "start_time": "2020-11-23T10:06:26.502460",
     "status": "completed"
    },
    "tags": []
   },
   "outputs": [
    {
     "data": {
      "image/png": "[encoded data removed]",
      "text/plain": [
       "<Figure size 720x648 with 1 Axes>"
      ]
     },
     "metadata": {
      "needs_background": "light"
     },
     "output_type": "display_data"
    }
   ],
   "source": [
    "plt.figure(figsize=(10,9))\n",
    "plt.scatter(plot_testing[:,0], plot_testing[:,1], alpha = 0.1, c = y_test.ravel())\n",
    "contours = plt.contour(x_grid,y_grid,probability_contour)\n",
    "plt.title('Probability Contours')\n",
    "plt.clabel(contours, inline = True );"
   ]
  }
 ],
 "metadata": {
  "kernelspec": {
   "display_name": "Python 3",
   "language": "python",
   "name": "python3"
  },
  "language_info": {
   "codemirror_mode": {
    "name": "ipython",
    "version": 3
   },
   "file_extension": ".py",
   "mimetype": "text/x-python",
   "name": "python",
   "nbconvert_exporter": "python",
   "pygments_lexer": "ipython3",
   "version": "3.6.12"
  },
  "papermill": {
   "duration": 109.323921,
   "end_time": "2020-11-23T10:06:27.259045",
   "environment_variables": {},
   "exception": null,
   "input_path": "2020-08-11-NeuralNetwork.ipynb",
   "output_path": "2020-08-11-NeuralNetwork.ipynb",
   "parameters": {},
   "start_time": "2020-11-23T10:04:37.935124",
   "version": "2.1.2"
  }
 },
 "nbformat": 4,
 "nbformat_minor": 4
}