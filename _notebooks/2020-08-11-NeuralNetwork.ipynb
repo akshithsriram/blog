{
 "cells": [
  {
   "cell_type": "markdown",
   "metadata": {
    "papermill": {
     "duration": 0.031815,
     "end_time": "2020-09-30T00:07:49.468058",
     "exception": false,
     "start_time": "2020-09-30T00:07:49.436243",
     "status": "completed"
    },
    "tags": []
   },
   "source": [
    "# \"A Basic Neural Network: Differentiate Hand-Written Digits\"\n",
    "\n",
    "- badges: true\n",
    "- author: Akshith Sriram"
   ]
  },
  {
   "cell_type": "markdown",
   "metadata": {
    "papermill": {
     "duration": 0.024438,
     "end_time": "2020-09-30T00:07:49.516997",
     "exception": false,
     "start_time": "2020-09-30T00:07:49.492559",
     "status": "completed"
    },
    "tags": []
   },
   "source": [
    "### Key Objectives:\n",
    "- Building a neural network that differentiates two hand-written digits 3 and 8.\n",
    "- Comparing the results of this Neural Network (NN) to that of a Logistic Regression (LR) model.\n",
    "\n",
    "### Requirements:\n",
    "- 'Kudzu' : A neural network library that was designed during our course by [Univ.AI](www.univ.ai). \n",
    "- MNIST Database\n",
    "\n",
    "If MNIST is not installed, use the command `!pip install mnist` given below.\n",
    "It can be run both from the command line and Jupyter Notebook."
   ]
  },
  {
   "cell_type": "code",
   "execution_count": 1,
   "metadata": {
    "execution": {
     "iopub.execute_input": "2020-09-30T00:07:49.570965Z",
     "iopub.status.busy": "2020-09-30T00:07:49.570403Z",
     "iopub.status.idle": "2020-09-30T00:07:51.009044Z",
     "shell.execute_reply": "2020-09-30T00:07:51.009557Z"
    },
    "papermill": {
     "duration": 1.468687,
     "end_time": "2020-09-30T00:07:51.009746",
     "exception": false,
     "start_time": "2020-09-30T00:07:49.541059",
     "status": "completed"
    },
    "tags": []
   },
   "outputs": [
    {
     "name": "stdout",
     "output_type": "stream",
     "text": [
      "Collecting mnist\r\n"
     ]
    },
    {
     "name": "stdout",
     "output_type": "stream",
     "text": [
      "  Downloading mnist-0.2.2-py2.py3-none-any.whl (3.5 kB)\r\n",
      "Requirement already satisfied: numpy in /opt/hostedtoolcache/Python/3.6.12/x64/lib/python3.6/site-packages (from mnist) (1.19.2)\r\n"
     ]
    },
    {
     "name": "stdout",
     "output_type": "stream",
     "text": [
      "Installing collected packages: mnist\r\n"
     ]
    },
    {
     "name": "stdout",
     "output_type": "stream",
     "text": [
      "Successfully installed mnist-0.2.2\r\n"
     ]
    }
   ],
   "source": [
    "!pip install mnist "
   ]
  },
  {
   "cell_type": "markdown",
   "metadata": {
    "papermill": {
     "duration": 0.025482,
     "end_time": "2020-09-30T00:07:51.061294",
     "exception": false,
     "start_time": "2020-09-30T00:07:51.035812",
     "status": "completed"
    },
    "tags": []
   },
   "source": [
    "#### Importing necessary libraries"
   ]
  },
  {
   "cell_type": "code",
   "execution_count": 2,
   "metadata": {
    "execution": {
     "iopub.execute_input": "2020-09-30T00:07:51.121637Z",
     "iopub.status.busy": "2020-09-30T00:07:51.121044Z",
     "iopub.status.idle": "2020-09-30T00:07:51.683254Z",
     "shell.execute_reply": "2020-09-30T00:07:51.682647Z"
    },
    "papermill": {
     "duration": 0.595046,
     "end_time": "2020-09-30T00:07:51.683384",
     "exception": false,
     "start_time": "2020-09-30T00:07:51.088338",
     "status": "completed"
    },
    "tags": []
   },
   "outputs": [],
   "source": [
    "%load_ext autoreload\n",
    "%autoreload 2\n",
    "\n",
    "%matplotlib inline\n",
    "import matplotlib.pyplot as plt\n",
    "\n",
    "import numpy as np\n",
    "import pandas as pd"
   ]
  },
  {
   "cell_type": "markdown",
   "metadata": {
    "papermill": {
     "duration": 0.024477,
     "end_time": "2020-09-30T00:07:51.732855",
     "exception": false,
     "start_time": "2020-09-30T00:07:51.708378",
     "status": "completed"
    },
    "tags": []
   },
   "source": [
    "### Preparing the Data"
   ]
  },
  {
   "cell_type": "code",
   "execution_count": 3,
   "metadata": {
    "execution": {
     "iopub.execute_input": "2020-09-30T00:07:51.788327Z",
     "iopub.status.busy": "2020-09-30T00:07:51.787741Z",
     "iopub.status.idle": "2020-09-30T00:07:51.800835Z",
     "shell.execute_reply": "2020-09-30T00:07:51.801300Z"
    },
    "papermill": {
     "duration": 0.043867,
     "end_time": "2020-09-30T00:07:51.801444",
     "exception": false,
     "start_time": "2020-09-30T00:07:51.757577",
     "status": "completed"
    },
    "tags": []
   },
   "outputs": [],
   "source": [
    "import mnist"
   ]
  },
  {
   "cell_type": "code",
   "execution_count": 4,
   "metadata": {
    "execution": {
     "iopub.execute_input": "2020-09-30T00:07:51.856282Z",
     "iopub.status.busy": "2020-09-30T00:07:51.855642Z",
     "iopub.status.idle": "2020-09-30T00:07:53.566827Z",
     "shell.execute_reply": "2020-09-30T00:07:53.566151Z"
    },
    "papermill": {
     "duration": 1.740207,
     "end_time": "2020-09-30T00:07:53.566958",
     "exception": false,
     "start_time": "2020-09-30T00:07:51.826751",
     "status": "completed"
    },
    "tags": []
   },
   "outputs": [],
   "source": [
    "train_images = mnist.train_images()\n",
    "train_labels = mnist.train_labels()"
   ]
  },
  {
   "cell_type": "code",
   "execution_count": 5,
   "metadata": {
    "execution": {
     "iopub.execute_input": "2020-09-30T00:07:53.621155Z",
     "iopub.status.busy": "2020-09-30T00:07:53.620581Z",
     "iopub.status.idle": "2020-09-30T00:07:53.636436Z",
     "shell.execute_reply": "2020-09-30T00:07:53.635968Z"
    },
    "papermill": {
     "duration": 0.044474,
     "end_time": "2020-09-30T00:07:53.636567",
     "exception": false,
     "start_time": "2020-09-30T00:07:53.592093",
     "status": "completed"
    },
    "tags": []
   },
   "outputs": [
    {
     "data": {
      "text/plain": [
       "((60000, 28, 28), (60000,))"
      ]
     },
     "execution_count": 5,
     "metadata": {},
     "output_type": "execute_result"
    }
   ],
   "source": [
    "train_images.shape, train_labels.shape"
   ]
  },
  {
   "cell_type": "code",
   "execution_count": 6,
   "metadata": {
    "execution": {
     "iopub.execute_input": "2020-09-30T00:07:53.692171Z",
     "iopub.status.busy": "2020-09-30T00:07:53.691674Z",
     "iopub.status.idle": "2020-09-30T00:07:54.548301Z",
     "shell.execute_reply": "2020-09-30T00:07:54.547717Z"
    },
    "papermill": {
     "duration": 0.886563,
     "end_time": "2020-09-30T00:07:54.548458",
     "exception": false,
     "start_time": "2020-09-30T00:07:53.661895",
     "status": "completed"
    },
    "tags": []
   },
   "outputs": [],
   "source": [
    "test_images = mnist.test_images()\n",
    "test_labels = mnist.test_labels()"
   ]
  },
  {
   "cell_type": "code",
   "execution_count": 7,
   "metadata": {
    "execution": {
     "iopub.execute_input": "2020-09-30T00:07:54.607438Z",
     "iopub.status.busy": "2020-09-30T00:07:54.605234Z",
     "iopub.status.idle": "2020-09-30T00:07:54.618205Z",
     "shell.execute_reply": "2020-09-30T00:07:54.618720Z"
    },
    "papermill": {
     "duration": 0.043929,
     "end_time": "2020-09-30T00:07:54.618872",
     "exception": false,
     "start_time": "2020-09-30T00:07:54.574943",
     "status": "completed"
    },
    "tags": []
   },
   "outputs": [
    {
     "data": {
      "text/plain": [
       "((10000, 28, 28), (10000,))"
      ]
     },
     "execution_count": 7,
     "metadata": {},
     "output_type": "execute_result"
    }
   ],
   "source": [
    "test_images.shape, test_labels.shape"
   ]
  },
  {
   "cell_type": "code",
   "execution_count": 8,
   "metadata": {
    "execution": {
     "iopub.execute_input": "2020-09-30T00:07:54.672674Z",
     "iopub.status.busy": "2020-09-30T00:07:54.671652Z",
     "iopub.status.idle": "2020-09-30T00:07:54.812292Z",
     "shell.execute_reply": "2020-09-30T00:07:54.811676Z"
    },
    "papermill": {
     "duration": 0.168728,
     "end_time": "2020-09-30T00:07:54.812429",
     "exception": false,
     "start_time": "2020-09-30T00:07:54.643701",
     "status": "completed"
    },
    "tags": []
   },
   "outputs": [
    {
     "name": "stdout",
     "output_type": "stream",
     "text": [
      "2\n"
     ]
    },
    {
     "data": {
      "text/plain": [
       "<matplotlib.image.AxesImage at 0x7effd95457f0>"
      ]
     },
     "execution_count": 8,
     "metadata": {},
     "output_type": "execute_result"
    },
    {
     "data": {
      "image/png": "[encoded data removed]",
      "text/plain": [
       "<Figure size 432x288 with 1 Axes>"
      ]
     },
     "metadata": {
      "needs_background": "light"
     },
     "output_type": "display_data"
    }
   ],
   "source": [
    "image_index = 7776 # You may select anything up to 60,000\n",
    "print(train_labels[image_index]) \n",
    "plt.imshow(train_images[image_index], cmap='Greys')"
   ]
  },
  {
   "cell_type": "markdown",
   "metadata": {
    "papermill": {
     "duration": 0.028486,
     "end_time": "2020-09-30T00:07:54.868969",
     "exception": false,
     "start_time": "2020-09-30T00:07:54.840483",
     "status": "completed"
    },
    "tags": []
   },
   "source": [
    "## Filter data to get 3 and 8 out"
   ]
  },
  {
   "cell_type": "code",
   "execution_count": 9,
   "metadata": {
    "execution": {
     "iopub.execute_input": "2020-09-30T00:07:54.931888Z",
     "iopub.status.busy": "2020-09-30T00:07:54.931292Z",
     "iopub.status.idle": "2020-09-30T00:07:54.946262Z",
     "shell.execute_reply": "2020-09-30T00:07:54.945788Z"
    },
    "papermill": {
     "duration": 0.049774,
     "end_time": "2020-09-30T00:07:54.946425",
     "exception": false,
     "start_time": "2020-09-30T00:07:54.896651",
     "status": "completed"
    },
    "tags": []
   },
   "outputs": [],
   "source": [
    "train_filter = np.where((train_labels == 3 ) | (train_labels == 8))\n",
    "test_filter = np.where((test_labels == 3) | (test_labels == 8))\n",
    "X_train, y_train = train_images[train_filter], train_labels[train_filter]\n",
    "X_test, y_test = test_images[test_filter], test_labels[test_filter]"
   ]
  },
  {
   "cell_type": "markdown",
   "metadata": {
    "papermill": {
     "duration": 0.025887,
     "end_time": "2020-09-30T00:07:54.998636",
     "exception": false,
     "start_time": "2020-09-30T00:07:54.972749",
     "status": "completed"
    },
    "tags": []
   },
   "source": [
    "We normalize the pixel values in the 0 to 1 range"
   ]
  },
  {
   "cell_type": "code",
   "execution_count": 10,
   "metadata": {
    "execution": {
     "iopub.execute_input": "2020-09-30T00:07:55.056663Z",
     "iopub.status.busy": "2020-09-30T00:07:55.056076Z",
     "iopub.status.idle": "2020-09-30T00:07:55.108085Z",
     "shell.execute_reply": "2020-09-30T00:07:55.107237Z"
    },
    "papermill": {
     "duration": 0.083255,
     "end_time": "2020-09-30T00:07:55.108304",
     "exception": false,
     "start_time": "2020-09-30T00:07:55.025049",
     "status": "completed"
    },
    "tags": []
   },
   "outputs": [],
   "source": [
    "X_train = X_train/255.\n",
    "X_test = X_test/255."
   ]
  },
  {
   "cell_type": "markdown",
   "metadata": {
    "papermill": {
     "duration": 0.026147,
     "end_time": "2020-09-30T00:07:55.162968",
     "exception": false,
     "start_time": "2020-09-30T00:07:55.136821",
     "status": "completed"
    },
    "tags": []
   },
   "source": [
    "Setup the labels as 1 (when the digit is 3) and 0 (when the digit is 8)"
   ]
  },
  {
   "cell_type": "code",
   "execution_count": 11,
   "metadata": {
    "execution": {
     "iopub.execute_input": "2020-09-30T00:07:55.224318Z",
     "iopub.status.busy": "2020-09-30T00:07:55.223770Z",
     "iopub.status.idle": "2020-09-30T00:07:55.234794Z",
     "shell.execute_reply": "2020-09-30T00:07:55.235281Z"
    },
    "papermill": {
     "duration": 0.045587,
     "end_time": "2020-09-30T00:07:55.235419",
     "exception": false,
     "start_time": "2020-09-30T00:07:55.189832",
     "status": "completed"
    },
    "tags": []
   },
   "outputs": [],
   "source": [
    "y_train = 1*(y_train==3)\n",
    "y_test = 1*(y_test==3)"
   ]
  },
  {
   "cell_type": "code",
   "execution_count": 12,
   "metadata": {
    "execution": {
     "iopub.execute_input": "2020-09-30T00:07:55.294698Z",
     "iopub.status.busy": "2020-09-30T00:07:55.294123Z",
     "iopub.status.idle": "2020-09-30T00:07:55.305954Z",
     "shell.execute_reply": "2020-09-30T00:07:55.306475Z"
    },
    "papermill": {
     "duration": 0.045067,
     "end_time": "2020-09-30T00:07:55.306619",
     "exception": false,
     "start_time": "2020-09-30T00:07:55.261552",
     "status": "completed"
    },
    "tags": []
   },
   "outputs": [
    {
     "data": {
      "text/plain": [
       "((11982, 28, 28), (1984, 28, 28))"
      ]
     },
     "execution_count": 12,
     "metadata": {},
     "output_type": "execute_result"
    }
   ],
   "source": [
    "X_train.shape, X_test.shape"
   ]
  },
  {
   "cell_type": "markdown",
   "metadata": {
    "papermill": {
     "duration": 0.02683,
     "end_time": "2020-09-30T00:07:55.359496",
     "exception": false,
     "start_time": "2020-09-30T00:07:55.332666",
     "status": "completed"
    },
    "tags": []
   },
   "source": [
    "### Reshape the input data to create a linear array"
   ]
  },
  {
   "cell_type": "code",
   "execution_count": 13,
   "metadata": {
    "execution": {
     "iopub.execute_input": "2020-09-30T00:07:55.427810Z",
     "iopub.status.busy": "2020-09-30T00:07:55.427254Z",
     "iopub.status.idle": "2020-09-30T00:07:55.436002Z",
     "shell.execute_reply": "2020-09-30T00:07:55.435519Z"
    },
    "papermill": {
     "duration": 0.048978,
     "end_time": "2020-09-30T00:07:55.436142",
     "exception": false,
     "start_time": "2020-09-30T00:07:55.387164",
     "status": "completed"
    },
    "tags": []
   },
   "outputs": [
    {
     "data": {
      "text/plain": [
       "((11982, 784), (1984, 784))"
      ]
     },
     "execution_count": 13,
     "metadata": {},
     "output_type": "execute_result"
    }
   ],
   "source": [
    "X_train = X_train.reshape(X_train.shape[0], -1)\n",
    "X_test = X_test.reshape(X_test.shape[0], -1)\n",
    "X_train.shape, X_test.shape"
   ]
  },
  {
   "cell_type": "markdown",
   "metadata": {
    "papermill": {
     "duration": 0.027837,
     "end_time": "2020-09-30T00:07:55.491197",
     "exception": false,
     "start_time": "2020-09-30T00:07:55.463360",
     "status": "completed"
    },
    "tags": []
   },
   "source": [
    "### Importing appropriate functions from 'Kudzu'"
   ]
  },
  {
   "cell_type": "code",
   "execution_count": 14,
   "metadata": {
    "execution": {
     "iopub.execute_input": "2020-09-30T00:07:56.128750Z",
     "iopub.status.busy": "2020-09-30T00:07:56.127319Z",
     "iopub.status.idle": "2020-09-30T00:07:56.147146Z",
     "shell.execute_reply": "2020-09-30T00:07:56.146657Z"
    },
    "papermill": {
     "duration": 0.273479,
     "end_time": "2020-09-30T00:07:56.147279",
     "exception": false,
     "start_time": "2020-09-30T00:07:55.873800",
     "status": "completed"
    },
    "tags": []
   },
   "outputs": [],
   "source": [
    "from kudzu.layer import Sigmoid\n",
    "from kudzu.layer import Relu\n",
    "from kudzu.layer import Affine, Sigmoid\n",
    "\n",
    "from kudzu.model import Model\n",
    "from kudzu.train import Learner\n",
    "from kudzu.optim import GD\n",
    "from kudzu.data import Data, Dataloader, Sampler\n",
    "\n",
    "from kudzu.callbacks import AccCallback\n",
    "from kudzu.callbacks import ClfCallback\n",
    "\n",
    "from kudzu.loss import MSE"
   ]
  },
  {
   "cell_type": "markdown",
   "metadata": {
    "papermill": {
     "duration": 0.030304,
     "end_time": "2020-09-30T00:07:56.353368",
     "exception": false,
     "start_time": "2020-09-30T00:07:56.323064",
     "status": "completed"
    },
    "tags": []
   },
   "source": [
    "### Let us create a `Config` class, to store important parameters. \n",
    "This class essentially plays the role of a dictionary."
   ]
  },
  {
   "cell_type": "code",
   "execution_count": 15,
   "metadata": {
    "execution": {
     "iopub.execute_input": "2020-09-30T00:07:56.412202Z",
     "iopub.status.busy": "2020-09-30T00:07:56.411650Z",
     "iopub.status.idle": "2020-09-30T00:07:56.424378Z",
     "shell.execute_reply": "2020-09-30T00:07:56.423929Z"
    },
    "papermill": {
     "duration": 0.043539,
     "end_time": "2020-09-30T00:07:56.424502",
     "exception": false,
     "start_time": "2020-09-30T00:07:56.380963",
     "status": "completed"
    },
    "tags": []
   },
   "outputs": [],
   "source": [
    "class Config:\n",
    "    pass\n",
    "config = Config()\n",
    "config.lr = 0.001\n",
    "config.num_epochs = 251\n",
    "config.bs = 50"
   ]
  },
  {
   "cell_type": "markdown",
   "metadata": {
    "papermill": {
     "duration": 0.027007,
     "end_time": "2020-09-30T00:07:56.478251",
     "exception": false,
     "start_time": "2020-09-30T00:07:56.451244",
     "status": "completed"
    },
    "tags": []
   },
   "source": [
    "### Initializing data to the variables"
   ]
  },
  {
   "cell_type": "code",
   "execution_count": 16,
   "metadata": {
    "execution": {
     "iopub.execute_input": "2020-09-30T00:07:56.538116Z",
     "iopub.status.busy": "2020-09-30T00:07:56.537105Z",
     "iopub.status.idle": "2020-09-30T00:07:56.551586Z",
     "shell.execute_reply": "2020-09-30T00:07:56.551087Z"
    },
    "papermill": {
     "duration": 0.045803,
     "end_time": "2020-09-30T00:07:56.551707",
     "exception": false,
     "start_time": "2020-09-30T00:07:56.505904",
     "status": "completed"
    },
    "tags": []
   },
   "outputs": [],
   "source": [
    "data = Data(X_train, y_train.reshape(-1,1))\n",
    "sampler = Sampler(data, config.bs, shuffle=True)\n",
    "\n",
    "dl = Dataloader(data, sampler)\n",
    "\n",
    "opt = GD(config.lr)\n",
    "loss = MSE()"
   ]
  },
  {
   "cell_type": "code",
   "execution_count": 17,
   "metadata": {
    "execution": {
     "iopub.execute_input": "2020-09-30T00:07:56.612646Z",
     "iopub.status.busy": "2020-09-30T00:07:56.612058Z",
     "iopub.status.idle": "2020-09-30T00:07:56.624451Z",
     "shell.execute_reply": "2020-09-30T00:07:56.623911Z"
    },
    "papermill": {
     "duration": 0.044828,
     "end_time": "2020-09-30T00:07:56.624580",
     "exception": false,
     "start_time": "2020-09-30T00:07:56.579752",
     "status": "completed"
    },
    "tags": []
   },
   "outputs": [],
   "source": [
    "training_xdata = X_train\n",
    "testing_xdata = X_test\n",
    "training_ydata = y_train.reshape(-1,1)\n",
    "testing_ydata = y_test.reshape(-1,1)"
   ]
  },
  {
   "cell_type": "markdown",
   "metadata": {
    "papermill": {
     "duration": 0.02882,
     "end_time": "2020-09-30T00:07:56.682423",
     "exception": false,
     "start_time": "2020-09-30T00:07:56.653603",
     "status": "completed"
    },
    "tags": []
   },
   "source": [
    "### Running Models with the Training data\n",
    "Details about the network layers:\n",
    "- A first affine layer has 784 inputs and does 100 affine transforms. These are followed by a Relu\n",
    "- A second affine layer has 100 inputs from the 100 activations of the past layer, and does 100 affine transforms. These are followed by a Relu\n",
    "- A third affine layer has 100 activations and does 2 affine transformations to create an embedding for visualization. There is no non-linearity here.\n",
    "- A final \"logistic regression\" which has an affine transform from 2 inputs to 1 output, which is squeezed through a sigmoid.\n",
    "\n",
    "Help taken from Anshuman's Notebook."
   ]
  },
  {
   "cell_type": "code",
   "execution_count": 18,
   "metadata": {
    "execution": {
     "iopub.execute_input": "2020-09-30T00:07:56.745224Z",
     "iopub.status.busy": "2020-09-30T00:07:56.744640Z",
     "iopub.status.idle": "2020-09-30T00:07:56.761409Z",
     "shell.execute_reply": "2020-09-30T00:07:56.760963Z"
    },
    "papermill": {
     "duration": 0.049898,
     "end_time": "2020-09-30T00:07:56.761537",
     "exception": false,
     "start_time": "2020-09-30T00:07:56.711639",
     "status": "completed"
    },
    "tags": []
   },
   "outputs": [],
   "source": [
    "# layers for the Neural Network\n",
    "layers = [Affine(\"first\", 784, 100), Relu(\"first\"), Affine(\"second\", 100, 100), Relu(\"second\"), Affine(\"third\", 100, 2), Affine(\"final\", 2, 1), Sigmoid(\"final\")]\n",
    "model_nn = Model(layers)\n",
    "\n",
    "# layers for the Logistic Regression\n",
    "layers_lr = [Affine(\"logits\", 784, 1), Sigmoid(\"sigmoid\")]\n",
    "model_lr = Model(layers_lr)"
   ]
  },
  {
   "cell_type": "code",
   "execution_count": 19,
   "metadata": {
    "execution": {
     "iopub.execute_input": "2020-09-30T00:07:56.822171Z",
     "iopub.status.busy": "2020-09-30T00:07:56.821345Z",
     "iopub.status.idle": "2020-09-30T00:07:56.834609Z",
     "shell.execute_reply": "2020-09-30T00:07:56.835117Z"
    },
    "papermill": {
     "duration": 0.046693,
     "end_time": "2020-09-30T00:07:56.835255",
     "exception": false,
     "start_time": "2020-09-30T00:07:56.788562",
     "status": "completed"
    },
    "tags": []
   },
   "outputs": [],
   "source": [
    "# suffix _nn stands for Neural Network.\n",
    "learner_nn = Learner(loss, model_nn, opt, config.num_epochs)\n",
    "acc_nn = ClfCallback(learner_nn, config.bs, training_xdata , testing_xdata, training_ydata, testing_ydata)\n",
    "learner_nn.set_callbacks([acc_nn])"
   ]
  },
  {
   "cell_type": "code",
   "execution_count": 20,
   "metadata": {
    "execution": {
     "iopub.execute_input": "2020-09-30T00:07:56.900333Z",
     "iopub.status.busy": "2020-09-30T00:07:56.899412Z",
     "iopub.status.idle": "2020-09-30T00:09:20.817007Z",
     "shell.execute_reply": "2020-09-30T00:09:20.817772Z"
    },
    "papermill": {
     "duration": 83.954603,
     "end_time": "2020-09-30T00:09:20.817950",
     "exception": false,
     "start_time": "2020-09-30T00:07:56.863347",
     "status": "completed"
    },
    "tags": []
   },
   "outputs": [
    {
     "name": "stdout",
     "output_type": "stream",
     "text": [
      "====== Neural Network ======\n"
     ]
    },
    {
     "name": "stdout",
     "output_type": "stream",
     "text": [
      "Epoch 0, Loss 0.2189\n",
      "Training Accuracy: 0.7910, Testing Accuracy: 0.7979\n",
      "\n"
     ]
    },
    {
     "name": "stdout",
     "output_type": "stream",
     "text": [
      "Epoch 10, Loss 0.0565\n",
      "Training Accuracy: 0.9413, Testing Accuracy: 0.9466\n",
      "\n"
     ]
    },
    {
     "name": "stdout",
     "output_type": "stream",
     "text": [
      "Epoch 20, Loss 0.0405\n",
      "Training Accuracy: 0.9565, Testing Accuracy: 0.9592\n",
      "\n"
     ]
    },
    {
     "name": "stdout",
     "output_type": "stream",
     "text": [
      "Epoch 30, Loss 0.034\n",
      "Training Accuracy: 0.9638, Testing Accuracy: 0.9637\n",
      "\n"
     ]
    },
    {
     "name": "stdout",
     "output_type": "stream",
     "text": [
      "Epoch 40, Loss 0.0304\n",
      "Training Accuracy: 0.9663, Testing Accuracy: 0.9642\n",
      "\n"
     ]
    },
    {
     "name": "stdout",
     "output_type": "stream",
     "text": [
      "Epoch 50, Loss 0.0279\n",
      "Training Accuracy: 0.9688, Testing Accuracy: 0.9677\n",
      "\n"
     ]
    },
    {
     "name": "stdout",
     "output_type": "stream",
     "text": [
      "Epoch 60, Loss 0.0261\n",
      "Training Accuracy: 0.9705, Testing Accuracy: 0.9698\n",
      "\n"
     ]
    },
    {
     "name": "stdout",
     "output_type": "stream",
     "text": [
      "Epoch 70, Loss 0.0247\n",
      "Training Accuracy: 0.9723, Testing Accuracy: 0.9698\n",
      "\n"
     ]
    },
    {
     "name": "stdout",
     "output_type": "stream",
     "text": [
      "Epoch 80, Loss 0.0235\n",
      "Training Accuracy: 0.9733, Testing Accuracy: 0.9718\n",
      "\n"
     ]
    },
    {
     "name": "stdout",
     "output_type": "stream",
     "text": [
      "Epoch 90, Loss 0.0224\n",
      "Training Accuracy: 0.9747, Testing Accuracy: 0.9708\n",
      "\n"
     ]
    },
    {
     "name": "stdout",
     "output_type": "stream",
     "text": [
      "Epoch 100, Loss 0.0215\n",
      "Training Accuracy: 0.9761, Testing Accuracy: 0.9718\n",
      "\n"
     ]
    },
    {
     "name": "stdout",
     "output_type": "stream",
     "text": [
      "Epoch 110, Loss 0.0207\n",
      "Training Accuracy: 0.9772, Testing Accuracy: 0.9713\n",
      "\n"
     ]
    },
    {
     "name": "stdout",
     "output_type": "stream",
     "text": [
      "Epoch 120, Loss 0.02\n",
      "Training Accuracy: 0.9777, Testing Accuracy: 0.9713\n",
      "\n"
     ]
    },
    {
     "name": "stdout",
     "output_type": "stream",
     "text": [
      "Epoch 130, Loss 0.0193\n",
      "Training Accuracy: 0.9790, Testing Accuracy: 0.9713\n",
      "\n"
     ]
    },
    {
     "name": "stdout",
     "output_type": "stream",
     "text": [
      "Epoch 140, Loss 0.0187\n",
      "Training Accuracy: 0.9799, Testing Accuracy: 0.9718\n",
      "\n"
     ]
    },
    {
     "name": "stdout",
     "output_type": "stream",
     "text": [
      "Epoch 150, Loss 0.0181\n",
      "Training Accuracy: 0.9806, Testing Accuracy: 0.9718\n",
      "\n"
     ]
    },
    {
     "name": "stdout",
     "output_type": "stream",
     "text": [
      "Epoch 160, Loss 0.0176\n",
      "Training Accuracy: 0.9810, Testing Accuracy: 0.9723\n",
      "\n"
     ]
    },
    {
     "name": "stdout",
     "output_type": "stream",
     "text": [
      "Epoch 170, Loss 0.0171\n",
      "Training Accuracy: 0.9816, Testing Accuracy: 0.9733\n",
      "\n"
     ]
    },
    {
     "name": "stdout",
     "output_type": "stream",
     "text": [
      "Epoch 180, Loss 0.0166\n",
      "Training Accuracy: 0.9825, Testing Accuracy: 0.9738\n",
      "\n"
     ]
    },
    {
     "name": "stdout",
     "output_type": "stream",
     "text": [
      "Epoch 190, Loss 0.0161\n",
      "Training Accuracy: 0.9832, Testing Accuracy: 0.9748\n",
      "\n"
     ]
    },
    {
     "name": "stdout",
     "output_type": "stream",
     "text": [
      "Epoch 200, Loss 0.0157\n",
      "Training Accuracy: 0.9835, Testing Accuracy: 0.9748\n",
      "\n"
     ]
    },
    {
     "name": "stdout",
     "output_type": "stream",
     "text": [
      "Epoch 210, Loss 0.0153\n",
      "Training Accuracy: 0.9840, Testing Accuracy: 0.9753\n",
      "\n"
     ]
    },
    {
     "name": "stdout",
     "output_type": "stream",
     "text": [
      "Epoch 220, Loss 0.0149\n",
      "Training Accuracy: 0.9846, Testing Accuracy: 0.9763\n",
      "\n"
     ]
    },
    {
     "name": "stdout",
     "output_type": "stream",
     "text": [
      "Epoch 230, Loss 0.0145\n",
      "Training Accuracy: 0.9848, Testing Accuracy: 0.9773\n",
      "\n"
     ]
    },
    {
     "name": "stdout",
     "output_type": "stream",
     "text": [
      "Epoch 240, Loss 0.0141\n",
      "Training Accuracy: 0.9853, Testing Accuracy: 0.9778\n",
      "\n"
     ]
    },
    {
     "name": "stdout",
     "output_type": "stream",
     "text": [
      "Epoch 250, Loss 0.0138\n",
      "Training Accuracy: 0.9861, Testing Accuracy: 0.9783\n",
      "\n"
     ]
    },
    {
     "data": {
      "text/plain": [
       "0.0024103602755229745"
      ]
     },
     "execution_count": 20,
     "metadata": {},
     "output_type": "execute_result"
    }
   ],
   "source": [
    "print(\"====== Neural Network ======\")\n",
    "learner_nn.train_loop(dl)"
   ]
  },
  {
   "cell_type": "markdown",
   "metadata": {
    "papermill": {
     "duration": 0.036306,
     "end_time": "2020-09-30T00:09:20.890258",
     "exception": false,
     "start_time": "2020-09-30T00:09:20.853952",
     "status": "completed"
    },
    "tags": []
   },
   "source": [
    "### Logistic Regression based Implementation."
   ]
  },
  {
   "cell_type": "code",
   "execution_count": 21,
   "metadata": {
    "execution": {
     "iopub.execute_input": "2020-09-30T00:09:20.965472Z",
     "iopub.status.busy": "2020-09-30T00:09:20.964683Z",
     "iopub.status.idle": "2020-09-30T00:09:20.977031Z",
     "shell.execute_reply": "2020-09-30T00:09:20.976563Z"
    },
    "papermill": {
     "duration": 0.051779,
     "end_time": "2020-09-30T00:09:20.977161",
     "exception": false,
     "start_time": "2020-09-30T00:09:20.925382",
     "status": "completed"
    },
    "tags": []
   },
   "outputs": [],
   "source": [
    "learner_lr = Learner(loss, model_lr, opt, config.num_epochs)\n",
    "acc_lr = ClfCallback(learner_lr, config.bs, training_xdata , testing_xdata, training_ydata, testing_ydata)\n",
    "learner_lr.set_callbacks([acc_lr])"
   ]
  },
  {
   "cell_type": "code",
   "execution_count": 22,
   "metadata": {
    "execution": {
     "iopub.execute_input": "2020-09-30T00:09:21.053340Z",
     "iopub.status.busy": "2020-09-30T00:09:21.052779Z",
     "iopub.status.idle": "2020-09-30T00:09:37.790282Z",
     "shell.execute_reply": "2020-09-30T00:09:37.791134Z"
    },
    "papermill": {
     "duration": 16.778609,
     "end_time": "2020-09-30T00:09:37.791323",
     "exception": false,
     "start_time": "2020-09-30T00:09:21.012714",
     "status": "completed"
    },
    "tags": []
   },
   "outputs": [
    {
     "name": "stdout",
     "output_type": "stream",
     "text": [
      "====== Logistic Regression ======\n",
      "Epoch 0, Loss 0.2427\n",
      "Training Accuracy: 0.6503, Testing Accuracy: 0.6618\n",
      "\n"
     ]
    },
    {
     "name": "stdout",
     "output_type": "stream",
     "text": [
      "Epoch 10, Loss 0.0999\n",
      "Training Accuracy: 0.9141, Testing Accuracy: 0.9189\n",
      "\n"
     ]
    },
    {
     "name": "stdout",
     "output_type": "stream",
     "text": [
      "Epoch 20, Loss 0.0771\n",
      "Training Accuracy: 0.9302, Testing Accuracy: 0.9370\n",
      "\n"
     ]
    },
    {
     "name": "stdout",
     "output_type": "stream",
     "text": [
      "Epoch 30, Loss 0.0666\n",
      "Training Accuracy: 0.9381, Testing Accuracy: 0.9461\n",
      "\n"
     ]
    },
    {
     "name": "stdout",
     "output_type": "stream",
     "text": [
      "Epoch 40, Loss 0.0603\n",
      "Training Accuracy: 0.9417, Testing Accuracy: 0.9526\n",
      "\n"
     ]
    },
    {
     "name": "stdout",
     "output_type": "stream",
     "text": [
      "Epoch 50, Loss 0.056\n",
      "Training Accuracy: 0.9448, Testing Accuracy: 0.9551\n",
      "\n"
     ]
    },
    {
     "name": "stdout",
     "output_type": "stream",
     "text": [
      "Epoch 60, Loss 0.0529\n",
      "Training Accuracy: 0.9473, Testing Accuracy: 0.9572\n",
      "\n"
     ]
    },
    {
     "name": "stdout",
     "output_type": "stream",
     "text": [
      "Epoch 70, Loss 0.0505\n",
      "Training Accuracy: 0.9494, Testing Accuracy: 0.9587\n",
      "\n"
     ]
    },
    {
     "name": "stdout",
     "output_type": "stream",
     "text": [
      "Epoch 80, Loss 0.0485\n",
      "Training Accuracy: 0.9506, Testing Accuracy: 0.9592\n",
      "\n"
     ]
    },
    {
     "name": "stdout",
     "output_type": "stream",
     "text": [
      "Epoch 90, Loss 0.0469\n",
      "Training Accuracy: 0.9528, Testing Accuracy: 0.9592\n",
      "\n"
     ]
    },
    {
     "name": "stdout",
     "output_type": "stream",
     "text": [
      "Epoch 100, Loss 0.0455\n",
      "Training Accuracy: 0.9537, Testing Accuracy: 0.9597\n",
      "\n"
     ]
    },
    {
     "name": "stdout",
     "output_type": "stream",
     "text": [
      "Epoch 110, Loss 0.0444\n",
      "Training Accuracy: 0.9548, Testing Accuracy: 0.9607\n",
      "\n"
     ]
    },
    {
     "name": "stdout",
     "output_type": "stream",
     "text": [
      "Epoch 120, Loss 0.0433\n",
      "Training Accuracy: 0.9554, Testing Accuracy: 0.9622\n",
      "\n"
     ]
    },
    {
     "name": "stdout",
     "output_type": "stream",
     "text": [
      "Epoch 130, Loss 0.0424\n",
      "Training Accuracy: 0.9564, Testing Accuracy: 0.9622\n",
      "\n"
     ]
    },
    {
     "name": "stdout",
     "output_type": "stream",
     "text": [
      "Epoch 140, Loss 0.0416\n",
      "Training Accuracy: 0.9569, Testing Accuracy: 0.9632\n",
      "\n"
     ]
    },
    {
     "name": "stdout",
     "output_type": "stream",
     "text": [
      "Epoch 150, Loss 0.0409\n",
      "Training Accuracy: 0.9574, Testing Accuracy: 0.9632\n",
      "\n"
     ]
    },
    {
     "name": "stdout",
     "output_type": "stream",
     "text": [
      "Epoch 160, Loss 0.0403\n",
      "Training Accuracy: 0.9579, Testing Accuracy: 0.9637\n",
      "\n"
     ]
    },
    {
     "name": "stdout",
     "output_type": "stream",
     "text": [
      "Epoch 170, Loss 0.0397\n",
      "Training Accuracy: 0.9585, Testing Accuracy: 0.9642\n",
      "\n"
     ]
    },
    {
     "name": "stdout",
     "output_type": "stream",
     "text": [
      "Epoch 180, Loss 0.0391\n",
      "Training Accuracy: 0.9594, Testing Accuracy: 0.9642\n",
      "\n"
     ]
    },
    {
     "name": "stdout",
     "output_type": "stream",
     "text": [
      "Epoch 190, Loss 0.0386\n",
      "Training Accuracy: 0.9602, Testing Accuracy: 0.9647\n",
      "\n"
     ]
    },
    {
     "name": "stdout",
     "output_type": "stream",
     "text": [
      "Epoch 200, Loss 0.0382\n",
      "Training Accuracy: 0.9606, Testing Accuracy: 0.9642\n",
      "\n"
     ]
    },
    {
     "name": "stdout",
     "output_type": "stream",
     "text": [
      "Epoch 210, Loss 0.0377\n",
      "Training Accuracy: 0.9610, Testing Accuracy: 0.9647\n",
      "\n"
     ]
    },
    {
     "name": "stdout",
     "output_type": "stream",
     "text": [
      "Epoch 220, Loss 0.0373\n",
      "Training Accuracy: 0.9612, Testing Accuracy: 0.9647\n",
      "\n"
     ]
    },
    {
     "name": "stdout",
     "output_type": "stream",
     "text": [
      "Epoch 230, Loss 0.037\n",
      "Training Accuracy: 0.9618, Testing Accuracy: 0.9647\n",
      "\n"
     ]
    },
    {
     "name": "stdout",
     "output_type": "stream",
     "text": [
      "Epoch 240, Loss 0.0366\n",
      "Training Accuracy: 0.9622, Testing Accuracy: 0.9657\n",
      "\n"
     ]
    },
    {
     "name": "stdout",
     "output_type": "stream",
     "text": [
      "Epoch 250, Loss 0.0363\n",
      "Training Accuracy: 0.9624, Testing Accuracy: 0.9662\n",
      "\n"
     ]
    },
    {
     "data": {
      "text/plain": [
       "0.06364374540128095"
      ]
     },
     "execution_count": 22,
     "metadata": {},
     "output_type": "execute_result"
    }
   ],
   "source": [
    "print(\"====== Logistic Regression ======\")\n",
    "learner_lr.train_loop(dl)"
   ]
  },
  {
   "cell_type": "markdown",
   "metadata": {
    "papermill": {
     "duration": 0.043148,
     "end_time": "2020-09-30T00:09:37.878949",
     "exception": false,
     "start_time": "2020-09-30T00:09:37.835801",
     "status": "completed"
    },
    "tags": []
   },
   "source": [
    "### Comparing results of NN and LR"
   ]
  },
  {
   "cell_type": "code",
   "execution_count": 23,
   "metadata": {
    "execution": {
     "iopub.execute_input": "2020-09-30T00:09:37.971002Z",
     "iopub.status.busy": "2020-09-30T00:09:37.969911Z",
     "iopub.status.idle": "2020-09-30T00:09:38.204272Z",
     "shell.execute_reply": "2020-09-30T00:09:38.203743Z"
    },
    "papermill": {
     "duration": 0.282502,
     "end_time": "2020-09-30T00:09:38.204404",
     "exception": false,
     "start_time": "2020-09-30T00:09:37.921902",
     "status": "completed"
    },
    "tags": []
   },
   "outputs": [
    {
     "data": {
      "text/plain": [
       "<matplotlib.legend.Legend at 0x7effd28ff470>"
      ]
     },
     "execution_count": 23,
     "metadata": {},
     "output_type": "execute_result"
    },
    {
     "data": {
      "image/png": "[encoded data removed]",
      "text/plain": [
       "<Figure size 1080x720 with 1 Axes>"
      ]
     },
     "metadata": {
      "needs_background": "light"
     },
     "output_type": "display_data"
    }
   ],
   "source": [
    "plt.figure(figsize=(15,10))\n",
    "\n",
    "# Neural Network plots\n",
    "plt.plot(acc_nn.accuracies, 'r-', label = \"Training Accuracies - NN\")\n",
    "plt.plot(acc_nn.test_accuracies, 'g-', label = \"Testing Accuracies - NN\")\n",
    "\n",
    "# Logistic Regression plots\n",
    "plt.plot(acc_lr.accuracies, 'k-', label = \"Training Accuracies - LR\")\n",
    "plt.plot(acc_lr.test_accuracies, 'b-', label = \"Testing Accuracies - LR\")\n",
    "\n",
    "plt.ylim(0.8, 1)\n",
    "\n",
    "plt.legend()\n",
    "\n"
   ]
  },
  {
   "cell_type": "markdown",
   "metadata": {
    "papermill": {
     "duration": 0.045504,
     "end_time": "2020-09-30T00:09:38.295358",
     "exception": false,
     "start_time": "2020-09-30T00:09:38.249854",
     "status": "completed"
    },
    "tags": []
   },
   "source": [
    "### From the plot, we can observe the following:\n",
    "- Neural Network achieves higher accuracy than the Logistic Regression model.\n",
    "- This apparently, is because of overfitting, i.e. NN captures more noise than data.\n",
    "- Testing accuracy of NN drops below the Training accuracy at higher epochs. This explains the over-fitting on training data.\n",
    "- Logistic Regression gives a reliable accuracy, without the above mentioned problem.\n"
   ]
  },
  {
   "cell_type": "markdown",
   "metadata": {
    "papermill": {
     "duration": 0.042233,
     "end_time": "2020-09-30T00:09:38.381607",
     "exception": false,
     "start_time": "2020-09-30T00:09:38.339374",
     "status": "completed"
    },
    "tags": []
   },
   "source": [
    "### Moving till the last but one layer (excluding it).\n",
    "#### Plotting the outputs of this layer of the NN."
   ]
  },
  {
   "cell_type": "code",
   "execution_count": 24,
   "metadata": {
    "execution": {
     "iopub.execute_input": "2020-09-30T00:09:38.476335Z",
     "iopub.status.busy": "2020-09-30T00:09:38.475122Z",
     "iopub.status.idle": "2020-09-30T00:09:38.484831Z",
     "shell.execute_reply": "2020-09-30T00:09:38.485268Z"
    },
    "papermill": {
     "duration": 0.061944,
     "end_time": "2020-09-30T00:09:38.485407",
     "exception": false,
     "start_time": "2020-09-30T00:09:38.423463",
     "status": "completed"
    },
    "tags": []
   },
   "outputs": [],
   "source": [
    "model_new = Model(layers[:-2])"
   ]
  },
  {
   "cell_type": "code",
   "execution_count": 25,
   "metadata": {
    "execution": {
     "iopub.execute_input": "2020-09-30T00:09:38.575731Z",
     "iopub.status.busy": "2020-09-30T00:09:38.575156Z",
     "iopub.status.idle": "2020-09-30T00:09:38.595269Z",
     "shell.execute_reply": "2020-09-30T00:09:38.595726Z"
    },
    "papermill": {
     "duration": 0.068283,
     "end_time": "2020-09-30T00:09:38.595882",
     "exception": false,
     "start_time": "2020-09-30T00:09:38.527599",
     "status": "completed"
    },
    "tags": []
   },
   "outputs": [],
   "source": [
    "plot_testing = model_new(testing_xdata)"
   ]
  },
  {
   "cell_type": "code",
   "execution_count": 26,
   "metadata": {
    "execution": {
     "iopub.execute_input": "2020-09-30T00:09:38.710016Z",
     "iopub.status.busy": "2020-09-30T00:09:38.709374Z",
     "iopub.status.idle": "2020-09-30T00:09:38.918387Z",
     "shell.execute_reply": "2020-09-30T00:09:38.917620Z"
    },
    "papermill": {
     "duration": 0.273305,
     "end_time": "2020-09-30T00:09:38.918520",
     "exception": false,
     "start_time": "2020-09-30T00:09:38.645215",
     "status": "completed"
    },
    "tags": []
   },
   "outputs": [
    {
     "data": {
      "text/plain": [
       "Text(0.5, 1.0, 'Outputs')"
      ]
     },
     "execution_count": 26,
     "metadata": {},
     "output_type": "execute_result"
    },
    {
     "data": {
      "image/png": "[encoded data removed]",
      "text/plain": [
       "<Figure size 576x504 with 1 Axes>"
      ]
     },
     "metadata": {
      "needs_background": "light"
     },
     "output_type": "display_data"
    }
   ],
   "source": [
    "plt.figure(figsize=(8,7))\n",
    "plt.scatter(plot_testing[:,0], plot_testing[:,1], alpha = 0.1, c = y_test.ravel());\n",
    "plt.title('Outputs')"
   ]
  },
  {
   "cell_type": "markdown",
   "metadata": {
    "papermill": {
     "duration": 0.045728,
     "end_time": "2020-09-30T00:09:39.011579",
     "exception": false,
     "start_time": "2020-09-30T00:09:38.965851",
     "status": "completed"
    },
    "tags": []
   },
   "source": [
    "### Plotting probability contours"
   ]
  },
  {
   "cell_type": "code",
   "execution_count": 27,
   "metadata": {
    "execution": {
     "iopub.execute_input": "2020-09-30T00:09:39.110845Z",
     "iopub.status.busy": "2020-09-30T00:09:39.110258Z",
     "iopub.status.idle": "2020-09-30T00:09:39.123018Z",
     "shell.execute_reply": "2020-09-30T00:09:39.122519Z"
    },
    "papermill": {
     "duration": 0.065708,
     "end_time": "2020-09-30T00:09:39.123150",
     "exception": false,
     "start_time": "2020-09-30T00:09:39.057442",
     "status": "completed"
    },
    "tags": []
   },
   "outputs": [],
   "source": [
    "model_prob = Model(layers[-2:]) "
   ]
  },
  {
   "cell_type": "code",
   "execution_count": 28,
   "metadata": {
    "execution": {
     "iopub.execute_input": "2020-09-30T00:09:39.224130Z",
     "iopub.status.busy": "2020-09-30T00:09:39.223529Z",
     "iopub.status.idle": "2020-09-30T00:09:39.237343Z",
     "shell.execute_reply": "2020-09-30T00:09:39.237817Z"
    },
    "papermill": {
     "duration": 0.067485,
     "end_time": "2020-09-30T00:09:39.237969",
     "exception": false,
     "start_time": "2020-09-30T00:09:39.170484",
     "status": "completed"
    },
    "tags": []
   },
   "outputs": [],
   "source": [
    "# Adjust the x and y ranges according to the above generated plot.\n",
    "x_range = np.linspace(-4, 1, 100) \n",
    "y_range = np.linspace(-6, 6, 100) \n",
    "x_grid, y_grid = np.meshgrid(x_range, y_range) # x_grid and y_grig are of size 100 X 100\n",
    "\n",
    "# converting x_grid and y_grid to continuous arrays\n",
    "x_grid_flat = np.ravel(x_grid)\n",
    "y_grid_flat = np.ravel(y_grid)\n",
    "\n",
    "# The last layer of the current model takes two columns as input. Hence transpose of np.vstack() is required.\n",
    "X = np.vstack((x_grid_flat, y_grid_flat)).T\n",
    "\n",
    "# x_grid and y_grid are of size 100 x 100\n",
    "probability_contour = model_prob(X).reshape(100,100) "
   ]
  },
  {
   "cell_type": "code",
   "execution_count": 29,
   "metadata": {
    "execution": {
     "iopub.execute_input": "2020-09-30T00:09:39.347659Z",
     "iopub.status.busy": "2020-09-30T00:09:39.347084Z",
     "iopub.status.idle": "2020-09-30T00:09:39.593857Z",
     "shell.execute_reply": "2020-09-30T00:09:39.594608Z"
    },
    "papermill": {
     "duration": 0.308303,
     "end_time": "2020-09-30T00:09:39.594768",
     "exception": false,
     "start_time": "2020-09-30T00:09:39.286465",
     "status": "completed"
    },
    "tags": []
   },
   "outputs": [
    {
     "data": {
      "image/png": "[encoded data removed]",
      "text/plain": [
       "<Figure size 720x648 with 1 Axes>"
      ]
     },
     "metadata": {
      "needs_background": "light"
     },
     "output_type": "display_data"
    }
   ],
   "source": [
    "plt.figure(figsize=(10,9))\n",
    "plt.scatter(plot_testing[:,0], plot_testing[:,1], alpha = 0.1, c = y_test.ravel())\n",
    "contours = plt.contour(x_grid,y_grid,probability_contour)\n",
    "plt.title('Probability Contours')\n",
    "plt.clabel(contours, inline = True );"
   ]
  }
 ],
 "metadata": {
  "kernelspec": {
   "display_name": "Python 3",
   "language": "python",
   "name": "python3"
  },
  "language_info": {
   "codemirror_mode": {
    "name": "ipython",
    "version": 3
   },
   "file_extension": ".py",
   "mimetype": "text/x-python",
   "name": "python",
   "nbconvert_exporter": "python",
   "pygments_lexer": "ipython3",
   "version": "3.6.12"
  },
  "papermill": {
   "duration": 111.685587,
   "end_time": "2020-09-30T00:09:40.052620",
   "environment_variables": {},
   "exception": null,
   "input_path": "2020-08-11-NeuralNetwork.ipynb",
   "output_path": "2020-08-11-NeuralNetwork.ipynb",
   "parameters": {},
   "start_time": "2020-09-30T00:07:48.367033",
   "version": "2.1.2"
  }
 },
 "nbformat": 4,
 "nbformat_minor": 4
}