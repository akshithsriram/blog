{
 "cells": [
  {
   "cell_type": "markdown",
   "id": "fitted-suggestion",
   "metadata": {
    "papermill": {
     "duration": 0.033782,
     "end_time": "2021-01-23T20:25:41.534725",
     "exception": false,
     "start_time": "2021-01-23T20:25:41.500943",
     "status": "completed"
    },
    "tags": []
   },
   "source": [
    "# \"A Basic Neural Network: Differentiate Hand-Written Digits\"\n",
    "\n",
    "- badges: true\n",
    "- author: Akshith Sriram"
   ]
  },
  {
   "cell_type": "markdown",
   "id": "signal-flexibility",
   "metadata": {
    "papermill": {
     "duration": 0.030113,
     "end_time": "2021-01-23T20:25:41.594328",
     "exception": false,
     "start_time": "2021-01-23T20:25:41.564215",
     "status": "completed"
    },
    "tags": []
   },
   "source": [
    "### Key Objectives:\n",
    "- Building a neural network that differentiates two hand-written digits 3 and 8.\n",
    "- Comparing the results of this Neural Network (NN) to that of a Logistic Regression (LR) model.\n",
    "\n",
    "### Requirements:\n",
    "- 'Kudzu' : A neural network library that was designed during our course by [Univ.AI](www.univ.ai). \n",
    "- MNIST Database\n",
    "\n",
    "If MNIST is not installed, use the command `!pip install mnist` given below.\n",
    "It can be run both from the command line and Jupyter Notebook."
   ]
  },
  {
   "cell_type": "code",
   "execution_count": 1,
   "id": "british-texture",
   "metadata": {
    "execution": {
     "iopub.execute_input": "2021-01-23T20:25:41.663457Z",
     "iopub.status.busy": "2021-01-23T20:25:41.662702Z",
     "iopub.status.idle": "2021-01-23T20:25:43.333898Z",
     "shell.execute_reply": "2021-01-23T20:25:43.334378Z"
    },
    "papermill": {
     "duration": 1.713264,
     "end_time": "2021-01-23T20:25:43.335815",
     "exception": false,
     "start_time": "2021-01-23T20:25:41.622551",
     "status": "completed"
    },
    "tags": []
   },
   "outputs": [
    {
     "name": "stdout",
     "output_type": "stream",
     "text": [
      "Collecting mnist\r\n"
     ]
    },
    {
     "name": "stdout",
     "output_type": "stream",
     "text": [
      "  Downloading mnist-0.2.2-py2.py3-none-any.whl (3.5 kB)\r\n",
      "Requirement already satisfied: numpy in /opt/hostedtoolcache/Python/3.6.12/x64/lib/python3.6/site-packages (from mnist) (1.19.5)\r\n"
     ]
    },
    {
     "name": "stdout",
     "output_type": "stream",
     "text": [
      "Installing collected packages: mnist\r\n"
     ]
    },
    {
     "name": "stdout",
     "output_type": "stream",
     "text": [
      "Successfully installed mnist-0.2.2\r\n",
      "\u001b[33mWARNING: You are using pip version 20.3.1; however, version 21.0 is available.\r\n",
      "You should consider upgrading via the '/opt/hostedtoolcache/Python/3.6.12/x64/bin/python -m pip install --upgrade pip' command.\u001b[0m\r\n"
     ]
    }
   ],
   "source": [
    "!pip install mnist "
   ]
  },
  {
   "cell_type": "markdown",
   "id": "stunning-extra",
   "metadata": {
    "papermill": {
     "duration": 0.029021,
     "end_time": "2021-01-23T20:25:43.398196",
     "exception": false,
     "start_time": "2021-01-23T20:25:43.369175",
     "status": "completed"
    },
    "tags": []
   },
   "source": [
    "#### Importing necessary libraries"
   ]
  },
  {
   "cell_type": "code",
   "execution_count": 2,
   "id": "wooden-france",
   "metadata": {
    "execution": {
     "iopub.execute_input": "2021-01-23T20:25:43.465279Z",
     "iopub.status.busy": "2021-01-23T20:25:43.464683Z",
     "iopub.status.idle": "2021-01-23T20:25:44.066755Z",
     "shell.execute_reply": "2021-01-23T20:25:44.065776Z"
    },
    "papermill": {
     "duration": 0.63973,
     "end_time": "2021-01-23T20:25:44.066906",
     "exception": false,
     "start_time": "2021-01-23T20:25:43.427176",
     "status": "completed"
    },
    "tags": []
   },
   "outputs": [],
   "source": [
    "%load_ext autoreload\n",
    "%autoreload 2\n",
    "\n",
    "%matplotlib inline\n",
    "import matplotlib.pyplot as plt\n",
    "\n",
    "import numpy as np\n",
    "import pandas as pd"
   ]
  },
  {
   "cell_type": "markdown",
   "id": "stunning-physics",
   "metadata": {
    "papermill": {
     "duration": 0.030148,
     "end_time": "2021-01-23T20:25:44.126666",
     "exception": false,
     "start_time": "2021-01-23T20:25:44.096518",
     "status": "completed"
    },
    "tags": []
   },
   "source": [
    "### Preparing the Data"
   ]
  },
  {
   "cell_type": "code",
   "execution_count": 3,
   "id": "unauthorized-remainder",
   "metadata": {
    "execution": {
     "iopub.execute_input": "2021-01-23T20:25:44.190903Z",
     "iopub.status.busy": "2021-01-23T20:25:44.189238Z",
     "iopub.status.idle": "2021-01-23T20:25:44.202382Z",
     "shell.execute_reply": "2021-01-23T20:25:44.201891Z"
    },
    "papermill": {
     "duration": 0.046182,
     "end_time": "2021-01-23T20:25:44.202514",
     "exception": false,
     "start_time": "2021-01-23T20:25:44.156332",
     "status": "completed"
    },
    "tags": []
   },
   "outputs": [],
   "source": [
    "import mnist"
   ]
  },
  {
   "cell_type": "code",
   "execution_count": 4,
   "id": "correct-antarctica",
   "metadata": {
    "execution": {
     "iopub.execute_input": "2021-01-23T20:25:44.264752Z",
     "iopub.status.busy": "2021-01-23T20:25:44.264162Z",
     "iopub.status.idle": "2021-01-23T20:25:45.057755Z",
     "shell.execute_reply": "2021-01-23T20:25:45.057131Z"
    },
    "papermill": {
     "duration": 0.82628,
     "end_time": "2021-01-23T20:25:45.057894",
     "exception": false,
     "start_time": "2021-01-23T20:25:44.231614",
     "status": "completed"
    },
    "tags": []
   },
   "outputs": [],
   "source": [
    "train_images = mnist.train_images()\n",
    "train_labels = mnist.train_labels()"
   ]
  },
  {
   "cell_type": "code",
   "execution_count": 5,
   "id": "musical-prospect",
   "metadata": {
    "execution": {
     "iopub.execute_input": "2021-01-23T20:25:45.124386Z",
     "iopub.status.busy": "2021-01-23T20:25:45.123756Z",
     "iopub.status.idle": "2021-01-23T20:25:45.140700Z",
     "shell.execute_reply": "2021-01-23T20:25:45.140195Z"
    },
    "papermill": {
     "duration": 0.050173,
     "end_time": "2021-01-23T20:25:45.140825",
     "exception": false,
     "start_time": "2021-01-23T20:25:45.090652",
     "status": "completed"
    },
    "tags": []
   },
   "outputs": [
    {
     "data": {
      "text/plain": [
       "((60000, 28, 28), (60000,))"
      ]
     },
     "execution_count": 5,
     "metadata": {},
     "output_type": "execute_result"
    }
   ],
   "source": [
    "train_images.shape, train_labels.shape"
   ]
  },
  {
   "cell_type": "code",
   "execution_count": 6,
   "id": "preliminary-elizabeth",
   "metadata": {
    "execution": {
     "iopub.execute_input": "2021-01-23T20:25:45.203356Z",
     "iopub.status.busy": "2021-01-23T20:25:45.202326Z",
     "iopub.status.idle": "2021-01-23T20:25:45.530752Z",
     "shell.execute_reply": "2021-01-23T20:25:45.529880Z"
    },
    "papermill": {
     "duration": 0.361139,
     "end_time": "2021-01-23T20:25:45.530974",
     "exception": false,
     "start_time": "2021-01-23T20:25:45.169835",
     "status": "completed"
    },
    "tags": []
   },
   "outputs": [],
   "source": [
    "test_images = mnist.test_images()\n",
    "test_labels = mnist.test_labels()"
   ]
  },
  {
   "cell_type": "code",
   "execution_count": 7,
   "id": "acknowledged-oxygen",
   "metadata": {
    "execution": {
     "iopub.execute_input": "2021-01-23T20:25:45.594696Z",
     "iopub.status.busy": "2021-01-23T20:25:45.594113Z",
     "iopub.status.idle": "2021-01-23T20:25:45.608549Z",
     "shell.execute_reply": "2021-01-23T20:25:45.608044Z"
    },
    "papermill": {
     "duration": 0.0468,
     "end_time": "2021-01-23T20:25:45.608671",
     "exception": false,
     "start_time": "2021-01-23T20:25:45.561871",
     "status": "completed"
    },
    "tags": []
   },
   "outputs": [
    {
     "data": {
      "text/plain": [
       "((10000, 28, 28), (10000,))"
      ]
     },
     "execution_count": 7,
     "metadata": {},
     "output_type": "execute_result"
    }
   ],
   "source": [
    "test_images.shape, test_labels.shape"
   ]
  },
  {
   "cell_type": "code",
   "execution_count": 8,
   "id": "innovative-organic",
   "metadata": {
    "execution": {
     "iopub.execute_input": "2021-01-23T20:25:45.674504Z",
     "iopub.status.busy": "2021-01-23T20:25:45.673794Z",
     "iopub.status.idle": "2021-01-23T20:25:45.828305Z",
     "shell.execute_reply": "2021-01-23T20:25:45.828782Z"
    },
    "papermill": {
     "duration": 0.190611,
     "end_time": "2021-01-23T20:25:45.828938",
     "exception": false,
     "start_time": "2021-01-23T20:25:45.638327",
     "status": "completed"
    },
    "tags": []
   },
   "outputs": [
    {
     "name": "stdout",
     "output_type": "stream",
     "text": [
      "2\n"
     ]
    },
    {
     "data": {
      "text/plain": [
       "<matplotlib.image.AxesImage at 0x7fd6fa3629e8>"
      ]
     },
     "execution_count": 8,
     "metadata": {},
     "output_type": "execute_result"
    },
    {
     "data": {
      "image/png": "[encoded data removed]",
      "text/plain": [
       "<Figure size 432x288 with 1 Axes>"
      ]
     },
     "metadata": {
      "needs_background": "light"
     },
     "output_type": "display_data"
    }
   ],
   "source": [
    "image_index = 7776 # You may select anything up to 60,000\n",
    "print(train_labels[image_index]) \n",
    "plt.imshow(train_images[image_index], cmap='Greys')"
   ]
  },
  {
   "cell_type": "markdown",
   "id": "facial-modem",
   "metadata": {
    "papermill": {
     "duration": 0.03137,
     "end_time": "2021-01-23T20:25:45.891344",
     "exception": false,
     "start_time": "2021-01-23T20:25:45.859974",
     "status": "completed"
    },
    "tags": []
   },
   "source": [
    "## Filter data to get 3 and 8 out"
   ]
  },
  {
   "cell_type": "code",
   "execution_count": 9,
   "id": "thousand-acquisition",
   "metadata": {
    "execution": {
     "iopub.execute_input": "2021-01-23T20:25:45.963638Z",
     "iopub.status.busy": "2021-01-23T20:25:45.962975Z",
     "iopub.status.idle": "2021-01-23T20:25:45.977927Z",
     "shell.execute_reply": "2021-01-23T20:25:45.977425Z"
    },
    "papermill": {
     "duration": 0.056265,
     "end_time": "2021-01-23T20:25:45.978055",
     "exception": false,
     "start_time": "2021-01-23T20:25:45.921790",
     "status": "completed"
    },
    "tags": []
   },
   "outputs": [],
   "source": [
    "train_filter = np.where((train_labels == 3 ) | (train_labels == 8))\n",
    "test_filter = np.where((test_labels == 3) | (test_labels == 8))\n",
    "X_train, y_train = train_images[train_filter], train_labels[train_filter]\n",
    "X_test, y_test = test_images[test_filter], test_labels[test_filter]"
   ]
  },
  {
   "cell_type": "markdown",
   "id": "ruled-access",
   "metadata": {
    "papermill": {
     "duration": 0.030884,
     "end_time": "2021-01-23T20:25:46.039762",
     "exception": false,
     "start_time": "2021-01-23T20:25:46.008878",
     "status": "completed"
    },
    "tags": []
   },
   "source": [
    "We normalize the pixel values in the 0 to 1 range"
   ]
  },
  {
   "cell_type": "code",
   "execution_count": 10,
   "id": "isolated-denver",
   "metadata": {
    "execution": {
     "iopub.execute_input": "2021-01-23T20:25:46.107136Z",
     "iopub.status.busy": "2021-01-23T20:25:46.106549Z",
     "iopub.status.idle": "2021-01-23T20:25:46.159161Z",
     "shell.execute_reply": "2021-01-23T20:25:46.159849Z"
    },
    "papermill": {
     "duration": 0.089676,
     "end_time": "2021-01-23T20:25:46.160062",
     "exception": false,
     "start_time": "2021-01-23T20:25:46.070386",
     "status": "completed"
    },
    "tags": []
   },
   "outputs": [],
   "source": [
    "X_train = X_train/255.\n",
    "X_test = X_test/255."
   ]
  },
  {
   "cell_type": "markdown",
   "id": "perfect-summary",
   "metadata": {
    "papermill": {
     "duration": 0.030324,
     "end_time": "2021-01-23T20:25:46.222657",
     "exception": false,
     "start_time": "2021-01-23T20:25:46.192333",
     "status": "completed"
    },
    "tags": []
   },
   "source": [
    "Setup the labels as 1 (when the digit is 3) and 0 (when the digit is 8)"
   ]
  },
  {
   "cell_type": "code",
   "execution_count": 11,
   "id": "personalized-growing",
   "metadata": {
    "execution": {
     "iopub.execute_input": "2021-01-23T20:25:46.288382Z",
     "iopub.status.busy": "2021-01-23T20:25:46.287787Z",
     "iopub.status.idle": "2021-01-23T20:25:46.302271Z",
     "shell.execute_reply": "2021-01-23T20:25:46.301763Z"
    },
    "papermill": {
     "duration": 0.049007,
     "end_time": "2021-01-23T20:25:46.302399",
     "exception": false,
     "start_time": "2021-01-23T20:25:46.253392",
     "status": "completed"
    },
    "tags": []
   },
   "outputs": [],
   "source": [
    "y_train = 1*(y_train==3)\n",
    "y_test = 1*(y_test==3)"
   ]
  },
  {
   "cell_type": "code",
   "execution_count": 12,
   "id": "considered-virgin",
   "metadata": {
    "execution": {
     "iopub.execute_input": "2021-01-23T20:25:46.369420Z",
     "iopub.status.busy": "2021-01-23T20:25:46.368833Z",
     "iopub.status.idle": "2021-01-23T20:25:46.382147Z",
     "shell.execute_reply": "2021-01-23T20:25:46.381648Z"
    },
    "papermill": {
     "duration": 0.048802,
     "end_time": "2021-01-23T20:25:46.382275",
     "exception": false,
     "start_time": "2021-01-23T20:25:46.333473",
     "status": "completed"
    },
    "tags": []
   },
   "outputs": [
    {
     "data": {
      "text/plain": [
       "((11982, 28, 28), (1984, 28, 28))"
      ]
     },
     "execution_count": 12,
     "metadata": {},
     "output_type": "execute_result"
    }
   ],
   "source": [
    "X_train.shape, X_test.shape"
   ]
  },
  {
   "cell_type": "markdown",
   "id": "civilian-mobile",
   "metadata": {
    "papermill": {
     "duration": 0.03099,
     "end_time": "2021-01-23T20:25:46.444169",
     "exception": false,
     "start_time": "2021-01-23T20:25:46.413179",
     "status": "completed"
    },
    "tags": []
   },
   "source": [
    "### Reshape the input data to create a linear array"
   ]
  },
  {
   "cell_type": "code",
   "execution_count": 13,
   "id": "colonial-adams",
   "metadata": {
    "execution": {
     "iopub.execute_input": "2021-01-23T20:25:46.510887Z",
     "iopub.status.busy": "2021-01-23T20:25:46.510285Z",
     "iopub.status.idle": "2021-01-23T20:25:46.524415Z",
     "shell.execute_reply": "2021-01-23T20:25:46.523944Z"
    },
    "papermill": {
     "duration": 0.049451,
     "end_time": "2021-01-23T20:25:46.524542",
     "exception": false,
     "start_time": "2021-01-23T20:25:46.475091",
     "status": "completed"
    },
    "tags": []
   },
   "outputs": [
    {
     "data": {
      "text/plain": [
       "((11982, 784), (1984, 784))"
      ]
     },
     "execution_count": 13,
     "metadata": {},
     "output_type": "execute_result"
    }
   ],
   "source": [
    "X_train = X_train.reshape(X_train.shape[0], -1)\n",
    "X_test = X_test.reshape(X_test.shape[0], -1)\n",
    "X_train.shape, X_test.shape"
   ]
  },
  {
   "cell_type": "markdown",
   "id": "smart-details",
   "metadata": {
    "papermill": {
     "duration": 0.030973,
     "end_time": "2021-01-23T20:25:46.586523",
     "exception": false,
     "start_time": "2021-01-23T20:25:46.555550",
     "status": "completed"
    },
    "tags": []
   },
   "source": [
    "### Importing appropriate functions from 'Kudzu'"
   ]
  },
  {
   "cell_type": "code",
   "execution_count": 14,
   "id": "celtic-trial",
   "metadata": {
    "execution": {
     "iopub.execute_input": "2021-01-23T20:25:46.653259Z",
     "iopub.status.busy": "2021-01-23T20:25:46.652666Z",
     "iopub.status.idle": "2021-01-23T20:25:46.674440Z",
     "shell.execute_reply": "2021-01-23T20:25:46.673758Z"
    },
    "papermill": {
     "duration": 0.056916,
     "end_time": "2021-01-23T20:25:46.674603",
     "exception": false,
     "start_time": "2021-01-23T20:25:46.617687",
     "status": "completed"
    },
    "tags": []
   },
   "outputs": [],
   "source": [
    "from kudzu.layer import Sigmoid\n",
    "from kudzu.layer import Relu\n",
    "from kudzu.layer import Affine, Sigmoid\n",
    "\n",
    "from kudzu.model import Model\n",
    "from kudzu.train import Learner\n",
    "from kudzu.optim import GD\n",
    "from kudzu.data import Data, Dataloader, Sampler\n",
    "\n",
    "from kudzu.callbacks import AccCallback\n",
    "from kudzu.callbacks import ClfCallback\n",
    "\n",
    "from kudzu.loss import MSE"
   ]
  },
  {
   "cell_type": "markdown",
   "id": "coupled-customer",
   "metadata": {
    "papermill": {
     "duration": 0.031135,
     "end_time": "2021-01-23T20:25:46.738894",
     "exception": false,
     "start_time": "2021-01-23T20:25:46.707759",
     "status": "completed"
    },
    "tags": []
   },
   "source": [
    "### Let us create a `Config` class, to store important parameters. \n",
    "This class essentially plays the role of a dictionary."
   ]
  },
  {
   "cell_type": "code",
   "execution_count": 15,
   "id": "young-ceiling",
   "metadata": {
    "execution": {
     "iopub.execute_input": "2021-01-23T20:25:46.807151Z",
     "iopub.status.busy": "2021-01-23T20:25:46.806557Z",
     "iopub.status.idle": "2021-01-23T20:25:46.821767Z",
     "shell.execute_reply": "2021-01-23T20:25:46.821261Z"
    },
    "papermill": {
     "duration": 0.051187,
     "end_time": "2021-01-23T20:25:46.821896",
     "exception": false,
     "start_time": "2021-01-23T20:25:46.770709",
     "status": "completed"
    },
    "tags": []
   },
   "outputs": [],
   "source": [
    "class Config:\n",
    "    pass\n",
    "config = Config()\n",
    "config.lr = 0.001\n",
    "config.num_epochs = 251\n",
    "config.bs = 50"
   ]
  },
  {
   "cell_type": "markdown",
   "id": "according-mandate",
   "metadata": {
    "papermill": {
     "duration": 0.031288,
     "end_time": "2021-01-23T20:25:46.884497",
     "exception": false,
     "start_time": "2021-01-23T20:25:46.853209",
     "status": "completed"
    },
    "tags": []
   },
   "source": [
    "### Initializing data to the variables"
   ]
  },
  {
   "cell_type": "code",
   "execution_count": 16,
   "id": "academic-disposition",
   "metadata": {
    "execution": {
     "iopub.execute_input": "2021-01-23T20:25:46.952634Z",
     "iopub.status.busy": "2021-01-23T20:25:46.952040Z",
     "iopub.status.idle": "2021-01-23T20:25:46.965462Z",
     "shell.execute_reply": "2021-01-23T20:25:46.964984Z"
    },
    "papermill": {
     "duration": 0.049666,
     "end_time": "2021-01-23T20:25:46.965596",
     "exception": false,
     "start_time": "2021-01-23T20:25:46.915930",
     "status": "completed"
    },
    "tags": []
   },
   "outputs": [],
   "source": [
    "data = Data(X_train, y_train.reshape(-1,1))\n",
    "sampler = Sampler(data, config.bs, shuffle=True)\n",
    "\n",
    "dl = Dataloader(data, sampler)\n",
    "\n",
    "opt = GD(config.lr)\n",
    "loss = MSE()"
   ]
  },
  {
   "cell_type": "code",
   "execution_count": 17,
   "id": "featured-commission",
   "metadata": {
    "execution": {
     "iopub.execute_input": "2021-01-23T20:25:47.034932Z",
     "iopub.status.busy": "2021-01-23T20:25:47.034350Z",
     "iopub.status.idle": "2021-01-23T20:25:47.049017Z",
     "shell.execute_reply": "2021-01-23T20:25:47.049591Z"
    },
    "papermill": {
     "duration": 0.052841,
     "end_time": "2021-01-23T20:25:47.049739",
     "exception": false,
     "start_time": "2021-01-23T20:25:46.996898",
     "status": "completed"
    },
    "tags": []
   },
   "outputs": [],
   "source": [
    "training_xdata = X_train\n",
    "testing_xdata = X_test\n",
    "training_ydata = y_train.reshape(-1,1)\n",
    "testing_ydata = y_test.reshape(-1,1)"
   ]
  },
  {
   "cell_type": "markdown",
   "id": "played-safety",
   "metadata": {
    "papermill": {
     "duration": 0.031191,
     "end_time": "2021-01-23T20:25:47.112422",
     "exception": false,
     "start_time": "2021-01-23T20:25:47.081231",
     "status": "completed"
    },
    "tags": []
   },
   "source": [
    "### Running Models with the Training data\n",
    "Details about the network layers:\n",
    "- A first affine layer has 784 inputs and does 100 affine transforms. These are followed by a Relu\n",
    "- A second affine layer has 100 inputs from the 100 activations of the past layer, and does 100 affine transforms. These are followed by a Relu\n",
    "- A third affine layer has 100 activations and does 2 affine transformations to create an embedding for visualization. There is no non-linearity here.\n",
    "- A final \"logistic regression\" which has an affine transform from 2 inputs to 1 output, which is squeezed through a sigmoid.\n",
    "\n",
    "Help taken from Anshuman's Notebook."
   ]
  },
  {
   "cell_type": "code",
   "execution_count": 18,
   "id": "asian-bankruptcy",
   "metadata": {
    "execution": {
     "iopub.execute_input": "2021-01-23T20:25:47.181838Z",
     "iopub.status.busy": "2021-01-23T20:25:47.181237Z",
     "iopub.status.idle": "2021-01-23T20:25:47.199590Z",
     "shell.execute_reply": "2021-01-23T20:25:47.200042Z"
    },
    "papermill": {
     "duration": 0.056378,
     "end_time": "2021-01-23T20:25:47.200223",
     "exception": false,
     "start_time": "2021-01-23T20:25:47.143845",
     "status": "completed"
    },
    "tags": []
   },
   "outputs": [],
   "source": [
    "# layers for the Neural Network\n",
    "layers = [Affine(\"first\", 784, 100), Relu(\"first\"), Affine(\"second\", 100, 100), Relu(\"second\"), Affine(\"third\", 100, 2), Affine(\"final\", 2, 1), Sigmoid(\"final\")]\n",
    "model_nn = Model(layers)\n",
    "\n",
    "# layers for the Logistic Regression\n",
    "layers_lr = [Affine(\"logits\", 784, 1), Sigmoid(\"sigmoid\")]\n",
    "model_lr = Model(layers_lr)"
   ]
  },
  {
   "cell_type": "code",
   "execution_count": 19,
   "id": "removed-butler",
   "metadata": {
    "execution": {
     "iopub.execute_input": "2021-01-23T20:25:47.269732Z",
     "iopub.status.busy": "2021-01-23T20:25:47.268906Z",
     "iopub.status.idle": "2021-01-23T20:25:47.281937Z",
     "shell.execute_reply": "2021-01-23T20:25:47.281410Z"
    },
    "papermill": {
     "duration": 0.049714,
     "end_time": "2021-01-23T20:25:47.282066",
     "exception": false,
     "start_time": "2021-01-23T20:25:47.232352",
     "status": "completed"
    },
    "tags": []
   },
   "outputs": [],
   "source": [
    "# suffix _nn stands for Neural Network.\n",
    "learner_nn = Learner(loss, model_nn, opt, config.num_epochs)\n",
    "acc_nn = ClfCallback(learner_nn, config.bs, training_xdata , testing_xdata, training_ydata, testing_ydata)\n",
    "learner_nn.set_callbacks([acc_nn])"
   ]
  },
  {
   "cell_type": "code",
   "execution_count": 20,
   "id": "conceptual-throw",
   "metadata": {
    "execution": {
     "iopub.execute_input": "2021-01-23T20:25:47.348526Z",
     "iopub.status.busy": "2021-01-23T20:25:47.347941Z",
     "iopub.status.idle": "2021-01-23T20:27:18.339998Z",
     "shell.execute_reply": "2021-01-23T20:27:18.339505Z"
    },
    "papermill": {
     "duration": 91.026776,
     "end_time": "2021-01-23T20:27:18.340133",
     "exception": false,
     "start_time": "2021-01-23T20:25:47.313357",
     "status": "completed"
    },
    "tags": []
   },
   "outputs": [
    {
     "name": "stdout",
     "output_type": "stream",
     "text": [
      "====== Neural Network ======\n"
     ]
    },
    {
     "name": "stdout",
     "output_type": "stream",
     "text": [
      "Epoch 0, Loss 0.2337\n",
      "Training Accuracy: 0.7683, Testing Accuracy: 0.7611\n",
      "\n"
     ]
    },
    {
     "name": "stdout",
     "output_type": "stream",
     "text": [
      "Epoch 10, Loss 0.0532\n",
      "Training Accuracy: 0.9466, Testing Accuracy: 0.9567\n",
      "\n"
     ]
    },
    {
     "name": "stdout",
     "output_type": "stream",
     "text": [
      "Epoch 20, Loss 0.0387\n",
      "Training Accuracy: 0.9575, Testing Accuracy: 0.9672\n",
      "\n"
     ]
    },
    {
     "name": "stdout",
     "output_type": "stream",
     "text": [
      "Epoch 30, Loss 0.0332\n",
      "Training Accuracy: 0.9621, Testing Accuracy: 0.9688\n",
      "\n"
     ]
    },
    {
     "name": "stdout",
     "output_type": "stream",
     "text": [
      "Epoch 40, Loss 0.0299\n",
      "Training Accuracy: 0.9660, Testing Accuracy: 0.9698\n",
      "\n"
     ]
    },
    {
     "name": "stdout",
     "output_type": "stream",
     "text": [
      "Epoch 50, Loss 0.0276\n",
      "Training Accuracy: 0.9689, Testing Accuracy: 0.9713\n",
      "\n"
     ]
    },
    {
     "name": "stdout",
     "output_type": "stream",
     "text": [
      "Epoch 60, Loss 0.0259\n",
      "Training Accuracy: 0.9708, Testing Accuracy: 0.9728\n",
      "\n"
     ]
    },
    {
     "name": "stdout",
     "output_type": "stream",
     "text": [
      "Epoch 70, Loss 0.0245\n",
      "Training Accuracy: 0.9721, Testing Accuracy: 0.9733\n",
      "\n"
     ]
    },
    {
     "name": "stdout",
     "output_type": "stream",
     "text": [
      "Epoch 80, Loss 0.0234\n",
      "Training Accuracy: 0.9735, Testing Accuracy: 0.9738\n",
      "\n"
     ]
    },
    {
     "name": "stdout",
     "output_type": "stream",
     "text": [
      "Epoch 90, Loss 0.0224\n",
      "Training Accuracy: 0.9745, Testing Accuracy: 0.9733\n",
      "\n"
     ]
    },
    {
     "name": "stdout",
     "output_type": "stream",
     "text": [
      "Epoch 100, Loss 0.0215\n",
      "Training Accuracy: 0.9760, Testing Accuracy: 0.9738\n",
      "\n"
     ]
    },
    {
     "name": "stdout",
     "output_type": "stream",
     "text": [
      "Epoch 110, Loss 0.0207\n",
      "Training Accuracy: 0.9770, Testing Accuracy: 0.9728\n",
      "\n"
     ]
    },
    {
     "name": "stdout",
     "output_type": "stream",
     "text": [
      "Epoch 120, Loss 0.02\n",
      "Training Accuracy: 0.9775, Testing Accuracy: 0.9738\n",
      "\n"
     ]
    },
    {
     "name": "stdout",
     "output_type": "stream",
     "text": [
      "Epoch 130, Loss 0.0193\n",
      "Training Accuracy: 0.9786, Testing Accuracy: 0.9728\n",
      "\n"
     ]
    },
    {
     "name": "stdout",
     "output_type": "stream",
     "text": [
      "Epoch 140, Loss 0.0187\n",
      "Training Accuracy: 0.9794, Testing Accuracy: 0.9733\n",
      "\n"
     ]
    },
    {
     "name": "stdout",
     "output_type": "stream",
     "text": [
      "Epoch 150, Loss 0.0181\n",
      "Training Accuracy: 0.9800, Testing Accuracy: 0.9733\n",
      "\n"
     ]
    },
    {
     "name": "stdout",
     "output_type": "stream",
     "text": [
      "Epoch 160, Loss 0.0175\n",
      "Training Accuracy: 0.9807, Testing Accuracy: 0.9743\n",
      "\n"
     ]
    },
    {
     "name": "stdout",
     "output_type": "stream",
     "text": [
      "Epoch 170, Loss 0.017\n",
      "Training Accuracy: 0.9815, Testing Accuracy: 0.9748\n",
      "\n"
     ]
    },
    {
     "name": "stdout",
     "output_type": "stream",
     "text": [
      "Epoch 180, Loss 0.0165\n",
      "Training Accuracy: 0.9826, Testing Accuracy: 0.9753\n",
      "\n"
     ]
    },
    {
     "name": "stdout",
     "output_type": "stream",
     "text": [
      "Epoch 190, Loss 0.016\n",
      "Training Accuracy: 0.9829, Testing Accuracy: 0.9753\n",
      "\n"
     ]
    },
    {
     "name": "stdout",
     "output_type": "stream",
     "text": [
      "Epoch 200, Loss 0.0156\n",
      "Training Accuracy: 0.9834, Testing Accuracy: 0.9748\n",
      "\n"
     ]
    },
    {
     "name": "stdout",
     "output_type": "stream",
     "text": [
      "Epoch 210, Loss 0.0151\n",
      "Training Accuracy: 0.9837, Testing Accuracy: 0.9753\n",
      "\n"
     ]
    },
    {
     "name": "stdout",
     "output_type": "stream",
     "text": [
      "Epoch 220, Loss 0.0147\n",
      "Training Accuracy: 0.9844, Testing Accuracy: 0.9753\n",
      "\n"
     ]
    },
    {
     "name": "stdout",
     "output_type": "stream",
     "text": [
      "Epoch 230, Loss 0.0143\n",
      "Training Accuracy: 0.9851, Testing Accuracy: 0.9753\n",
      "\n"
     ]
    },
    {
     "name": "stdout",
     "output_type": "stream",
     "text": [
      "Epoch 240, Loss 0.0139\n",
      "Training Accuracy: 0.9858, Testing Accuracy: 0.9758\n",
      "\n"
     ]
    },
    {
     "name": "stdout",
     "output_type": "stream",
     "text": [
      "Epoch 250, Loss 0.0136\n",
      "Training Accuracy: 0.9860, Testing Accuracy: 0.9763\n",
      "\n"
     ]
    },
    {
     "data": {
      "text/plain": [
       "0.010111153764327559"
      ]
     },
     "execution_count": 20,
     "metadata": {},
     "output_type": "execute_result"
    }
   ],
   "source": [
    "print(\"====== Neural Network ======\")\n",
    "learner_nn.train_loop(dl)"
   ]
  },
  {
   "cell_type": "markdown",
   "id": "competent-suffering",
   "metadata": {
    "papermill": {
     "duration": 0.039382,
     "end_time": "2021-01-23T20:27:18.419481",
     "exception": false,
     "start_time": "2021-01-23T20:27:18.380099",
     "status": "completed"
    },
    "tags": []
   },
   "source": [
    "### Logistic Regression based Implementation."
   ]
  },
  {
   "cell_type": "code",
   "execution_count": 21,
   "id": "qualified-psychiatry",
   "metadata": {
    "execution": {
     "iopub.execute_input": "2021-01-23T20:27:18.504813Z",
     "iopub.status.busy": "2021-01-23T20:27:18.504200Z",
     "iopub.status.idle": "2021-01-23T20:27:18.517484Z",
     "shell.execute_reply": "2021-01-23T20:27:18.516974Z"
    },
    "papermill": {
     "duration": 0.059216,
     "end_time": "2021-01-23T20:27:18.517611",
     "exception": false,
     "start_time": "2021-01-23T20:27:18.458395",
     "status": "completed"
    },
    "tags": []
   },
   "outputs": [],
   "source": [
    "learner_lr = Learner(loss, model_lr, opt, config.num_epochs)\n",
    "acc_lr = ClfCallback(learner_lr, config.bs, training_xdata , testing_xdata, training_ydata, testing_ydata)\n",
    "learner_lr.set_callbacks([acc_lr])"
   ]
  },
  {
   "cell_type": "code",
   "execution_count": 22,
   "id": "average-outside",
   "metadata": {
    "execution": {
     "iopub.execute_input": "2021-01-23T20:27:18.604147Z",
     "iopub.status.busy": "2021-01-23T20:27:18.603301Z",
     "iopub.status.idle": "2021-01-23T20:27:34.565846Z",
     "shell.execute_reply": "2021-01-23T20:27:34.566664Z"
    },
    "papermill": {
     "duration": 16.009822,
     "end_time": "2021-01-23T20:27:34.566826",
     "exception": false,
     "start_time": "2021-01-23T20:27:18.557004",
     "status": "completed"
    },
    "tags": []
   },
   "outputs": [
    {
     "name": "stdout",
     "output_type": "stream",
     "text": [
      "====== Logistic Regression ======\n",
      "Epoch 0, Loss 0.2247\n",
      "Training Accuracy: 0.7332, Testing Accuracy: 0.7248\n",
      "\n"
     ]
    },
    {
     "name": "stdout",
     "output_type": "stream",
     "text": [
      "Epoch 10, Loss 0.1026\n",
      "Training Accuracy: 0.9089, Testing Accuracy: 0.9199\n",
      "\n"
     ]
    },
    {
     "name": "stdout",
     "output_type": "stream",
     "text": [
      "Epoch 20, Loss 0.0793\n",
      "Training Accuracy: 0.9281, Testing Accuracy: 0.9350\n",
      "\n"
     ]
    },
    {
     "name": "stdout",
     "output_type": "stream",
     "text": [
      "Epoch 30, Loss 0.0683\n",
      "Training Accuracy: 0.9353, Testing Accuracy: 0.9461\n",
      "\n"
     ]
    },
    {
     "name": "stdout",
     "output_type": "stream",
     "text": [
      "Epoch 40, Loss 0.0616\n",
      "Training Accuracy: 0.9399, Testing Accuracy: 0.9501\n",
      "\n"
     ]
    },
    {
     "name": "stdout",
     "output_type": "stream",
     "text": [
      "Epoch 50, Loss 0.0571\n",
      "Training Accuracy: 0.9441, Testing Accuracy: 0.9551\n",
      "\n"
     ]
    },
    {
     "name": "stdout",
     "output_type": "stream",
     "text": [
      "Epoch 60, Loss 0.0538\n",
      "Training Accuracy: 0.9473, Testing Accuracy: 0.9582\n",
      "\n"
     ]
    },
    {
     "name": "stdout",
     "output_type": "stream",
     "text": [
      "Epoch 70, Loss 0.0512\n",
      "Training Accuracy: 0.9497, Testing Accuracy: 0.9602\n",
      "\n"
     ]
    },
    {
     "name": "stdout",
     "output_type": "stream",
     "text": [
      "Epoch 80, Loss 0.0491\n",
      "Training Accuracy: 0.9507, Testing Accuracy: 0.9632\n",
      "\n"
     ]
    },
    {
     "name": "stdout",
     "output_type": "stream",
     "text": [
      "Epoch 90, Loss 0.0475\n",
      "Training Accuracy: 0.9522, Testing Accuracy: 0.9627\n",
      "\n"
     ]
    },
    {
     "name": "stdout",
     "output_type": "stream",
     "text": [
      "Epoch 100, Loss 0.046\n",
      "Training Accuracy: 0.9537, Testing Accuracy: 0.9632\n",
      "\n"
     ]
    },
    {
     "name": "stdout",
     "output_type": "stream",
     "text": [
      "Epoch 110, Loss 0.0448\n",
      "Training Accuracy: 0.9542, Testing Accuracy: 0.9642\n",
      "\n"
     ]
    },
    {
     "name": "stdout",
     "output_type": "stream",
     "text": [
      "Epoch 120, Loss 0.0438\n",
      "Training Accuracy: 0.9549, Testing Accuracy: 0.9642\n",
      "\n"
     ]
    },
    {
     "name": "stdout",
     "output_type": "stream",
     "text": [
      "Epoch 130, Loss 0.0428\n",
      "Training Accuracy: 0.9555, Testing Accuracy: 0.9647\n",
      "\n"
     ]
    },
    {
     "name": "stdout",
     "output_type": "stream",
     "text": [
      "Epoch 140, Loss 0.042\n",
      "Training Accuracy: 0.9564, Testing Accuracy: 0.9647\n",
      "\n"
     ]
    },
    {
     "name": "stdout",
     "output_type": "stream",
     "text": [
      "Epoch 150, Loss 0.0413\n",
      "Training Accuracy: 0.9567, Testing Accuracy: 0.9662\n",
      "\n"
     ]
    },
    {
     "name": "stdout",
     "output_type": "stream",
     "text": [
      "Epoch 160, Loss 0.0406\n",
      "Training Accuracy: 0.9569, Testing Accuracy: 0.9667\n",
      "\n"
     ]
    },
    {
     "name": "stdout",
     "output_type": "stream",
     "text": [
      "Epoch 170, Loss 0.04\n",
      "Training Accuracy: 0.9575, Testing Accuracy: 0.9662\n",
      "\n"
     ]
    },
    {
     "name": "stdout",
     "output_type": "stream",
     "text": [
      "Epoch 180, Loss 0.0394\n",
      "Training Accuracy: 0.9577, Testing Accuracy: 0.9662\n",
      "\n"
     ]
    },
    {
     "name": "stdout",
     "output_type": "stream",
     "text": [
      "Epoch 190, Loss 0.0389\n",
      "Training Accuracy: 0.9578, Testing Accuracy: 0.9662\n",
      "\n"
     ]
    },
    {
     "name": "stdout",
     "output_type": "stream",
     "text": [
      "Epoch 200, Loss 0.0385\n",
      "Training Accuracy: 0.9580, Testing Accuracy: 0.9672\n",
      "\n"
     ]
    },
    {
     "name": "stdout",
     "output_type": "stream",
     "text": [
      "Epoch 210, Loss 0.038\n",
      "Training Accuracy: 0.9587, Testing Accuracy: 0.9672\n",
      "\n"
     ]
    },
    {
     "name": "stdout",
     "output_type": "stream",
     "text": [
      "Epoch 220, Loss 0.0376\n",
      "Training Accuracy: 0.9591, Testing Accuracy: 0.9672\n",
      "\n"
     ]
    },
    {
     "name": "stdout",
     "output_type": "stream",
     "text": [
      "Epoch 230, Loss 0.0372\n",
      "Training Accuracy: 0.9596, Testing Accuracy: 0.9677\n",
      "\n"
     ]
    },
    {
     "name": "stdout",
     "output_type": "stream",
     "text": [
      "Epoch 240, Loss 0.0369\n",
      "Training Accuracy: 0.9601, Testing Accuracy: 0.9677\n",
      "\n"
     ]
    },
    {
     "name": "stdout",
     "output_type": "stream",
     "text": [
      "Epoch 250, Loss 0.0365\n",
      "Training Accuracy: 0.9605, Testing Accuracy: 0.9682\n",
      "\n"
     ]
    },
    {
     "data": {
      "text/plain": [
       "0.05353520420519964"
      ]
     },
     "execution_count": 22,
     "metadata": {},
     "output_type": "execute_result"
    }
   ],
   "source": [
    "print(\"====== Logistic Regression ======\")\n",
    "learner_lr.train_loop(dl)"
   ]
  },
  {
   "cell_type": "markdown",
   "id": "adjusted-possible",
   "metadata": {
    "papermill": {
     "duration": 0.047269,
     "end_time": "2021-01-23T20:27:34.662264",
     "exception": false,
     "start_time": "2021-01-23T20:27:34.614995",
     "status": "completed"
    },
    "tags": []
   },
   "source": [
    "### Comparing results of NN and LR"
   ]
  },
  {
   "cell_type": "code",
   "execution_count": 23,
   "id": "mental-multimedia",
   "metadata": {
    "execution": {
     "iopub.execute_input": "2021-01-23T20:27:34.761702Z",
     "iopub.status.busy": "2021-01-23T20:27:34.761075Z",
     "iopub.status.idle": "2021-01-23T20:27:35.002561Z",
     "shell.execute_reply": "2021-01-23T20:27:35.001930Z"
    },
    "papermill": {
     "duration": 0.293611,
     "end_time": "2021-01-23T20:27:35.002698",
     "exception": false,
     "start_time": "2021-01-23T20:27:34.709087",
     "status": "completed"
    },
    "tags": []
   },
   "outputs": [
    {
     "data": {
      "text/plain": [
       "<matplotlib.legend.Legend at 0x7fd6ecbba390>"
      ]
     },
     "execution_count": 23,
     "metadata": {},
     "output_type": "execute_result"
    },
    {
     "data": {
      "image/png": "[encoded data removed]",
      "text/plain": [
       "<Figure size 1080x720 with 1 Axes>"
      ]
     },
     "metadata": {
      "needs_background": "light"
     },
     "output_type": "display_data"
    }
   ],
   "source": [
    "plt.figure(figsize=(15,10))\n",
    "\n",
    "# Neural Network plots\n",
    "plt.plot(acc_nn.accuracies, 'r-', label = \"Training Accuracies - NN\")\n",
    "plt.plot(acc_nn.test_accuracies, 'g-', label = \"Testing Accuracies - NN\")\n",
    "\n",
    "# Logistic Regression plots\n",
    "plt.plot(acc_lr.accuracies, 'k-', label = \"Training Accuracies - LR\")\n",
    "plt.plot(acc_lr.test_accuracies, 'b-', label = \"Testing Accuracies - LR\")\n",
    "\n",
    "plt.ylim(0.8, 1)\n",
    "\n",
    "plt.legend()\n",
    "\n"
   ]
  },
  {
   "cell_type": "markdown",
   "id": "sexual-flesh",
   "metadata": {
    "papermill": {
     "duration": 0.048869,
     "end_time": "2021-01-23T20:27:35.100760",
     "exception": false,
     "start_time": "2021-01-23T20:27:35.051891",
     "status": "completed"
    },
    "tags": []
   },
   "source": [
    "### From the plot, we can observe the following:\n",
    "- Neural Network achieves higher accuracy than the Logistic Regression model.\n",
    "- This apparently, is because of overfitting, i.e. NN captures more noise than data.\n",
    "- Testing accuracy of NN drops below the Training accuracy at higher epochs. This explains the over-fitting on training data.\n",
    "- Logistic Regression gives a reliable accuracy, without the above mentioned problem.\n"
   ]
  },
  {
   "cell_type": "markdown",
   "id": "institutional-pacific",
   "metadata": {
    "papermill": {
     "duration": 0.048624,
     "end_time": "2021-01-23T20:27:35.197869",
     "exception": false,
     "start_time": "2021-01-23T20:27:35.149245",
     "status": "completed"
    },
    "tags": []
   },
   "source": [
    "### Moving till the last but one layer (excluding it).\n",
    "#### Plotting the outputs of this layer of the NN."
   ]
  },
  {
   "cell_type": "code",
   "execution_count": 24,
   "id": "economic-server",
   "metadata": {
    "execution": {
     "iopub.execute_input": "2021-01-23T20:27:35.301902Z",
     "iopub.status.busy": "2021-01-23T20:27:35.301258Z",
     "iopub.status.idle": "2021-01-23T20:27:35.318009Z",
     "shell.execute_reply": "2021-01-23T20:27:35.317520Z"
    },
    "papermill": {
     "duration": 0.07132,
     "end_time": "2021-01-23T20:27:35.318142",
     "exception": false,
     "start_time": "2021-01-23T20:27:35.246822",
     "status": "completed"
    },
    "tags": []
   },
   "outputs": [],
   "source": [
    "model_new = Model(layers[:-2])"
   ]
  },
  {
   "cell_type": "code",
   "execution_count": 25,
   "id": "varied-upgrade",
   "metadata": {
    "execution": {
     "iopub.execute_input": "2021-01-23T20:27:35.421220Z",
     "iopub.status.busy": "2021-01-23T20:27:35.420575Z",
     "iopub.status.idle": "2021-01-23T20:27:35.444323Z",
     "shell.execute_reply": "2021-01-23T20:27:35.445191Z"
    },
    "papermill": {
     "duration": 0.07878,
     "end_time": "2021-01-23T20:27:35.446152",
     "exception": false,
     "start_time": "2021-01-23T20:27:35.367372",
     "status": "completed"
    },
    "tags": []
   },
   "outputs": [],
   "source": [
    "plot_testing = model_new(testing_xdata)"
   ]
  },
  {
   "cell_type": "code",
   "execution_count": 26,
   "id": "specific-handling",
   "metadata": {
    "execution": {
     "iopub.execute_input": "2021-01-23T20:27:35.556749Z",
     "iopub.status.busy": "2021-01-23T20:27:35.556149Z",
     "iopub.status.idle": "2021-01-23T20:27:35.763199Z",
     "shell.execute_reply": "2021-01-23T20:27:35.762684Z"
    },
    "papermill": {
     "duration": 0.265804,
     "end_time": "2021-01-23T20:27:35.763375",
     "exception": false,
     "start_time": "2021-01-23T20:27:35.497571",
     "status": "completed"
    },
    "tags": []
   },
   "outputs": [
    {
     "data": {
      "text/plain": [
       "Text(0.5, 1.0, 'Outputs')"
      ]
     },
     "execution_count": 26,
     "metadata": {},
     "output_type": "execute_result"
    },
    {
     "data": {
      "image/png": "[encoded data removed]",
      "text/plain": [
       "<Figure size 576x504 with 1 Axes>"
      ]
     },
     "metadata": {
      "needs_background": "light"
     },
     "output_type": "display_data"
    }
   ],
   "source": [
    "plt.figure(figsize=(8,7))\n",
    "plt.scatter(plot_testing[:,0], plot_testing[:,1], alpha = 0.1, c = y_test.ravel());\n",
    "plt.title('Outputs')"
   ]
  },
  {
   "cell_type": "markdown",
   "id": "described-knowing",
   "metadata": {
    "papermill": {
     "duration": 0.051479,
     "end_time": "2021-01-23T20:27:35.868005",
     "exception": false,
     "start_time": "2021-01-23T20:27:35.816526",
     "status": "completed"
    },
    "tags": []
   },
   "source": [
    "### Plotting probability contours"
   ]
  },
  {
   "cell_type": "code",
   "execution_count": 27,
   "id": "needed-growing",
   "metadata": {
    "execution": {
     "iopub.execute_input": "2021-01-23T20:27:35.976064Z",
     "iopub.status.busy": "2021-01-23T20:27:35.975468Z",
     "iopub.status.idle": "2021-01-23T20:27:35.990583Z",
     "shell.execute_reply": "2021-01-23T20:27:35.991056Z"
    },
    "papermill": {
     "duration": 0.07167,
     "end_time": "2021-01-23T20:27:35.991208",
     "exception": false,
     "start_time": "2021-01-23T20:27:35.919538",
     "status": "completed"
    },
    "tags": []
   },
   "outputs": [],
   "source": [
    "model_prob = Model(layers[-2:]) "
   ]
  },
  {
   "cell_type": "code",
   "execution_count": 28,
   "id": "introductory-enforcement",
   "metadata": {
    "execution": {
     "iopub.execute_input": "2021-01-23T20:27:36.101518Z",
     "iopub.status.busy": "2021-01-23T20:27:36.100917Z",
     "iopub.status.idle": "2021-01-23T20:27:36.120069Z",
     "shell.execute_reply": "2021-01-23T20:27:36.120527Z"
    },
    "papermill": {
     "duration": 0.077884,
     "end_time": "2021-01-23T20:27:36.120688",
     "exception": false,
     "start_time": "2021-01-23T20:27:36.042804",
     "status": "completed"
    },
    "tags": []
   },
   "outputs": [],
   "source": [
    "# Adjust the x and y ranges according to the above generated plot.\n",
    "x_range = np.linspace(-4, 1, 100) \n",
    "y_range = np.linspace(-6, 6, 100) \n",
    "x_grid, y_grid = np.meshgrid(x_range, y_range) # x_grid and y_grig are of size 100 X 100\n",
    "\n",
    "# converting x_grid and y_grid to continuous arrays\n",
    "x_grid_flat = np.ravel(x_grid)\n",
    "y_grid_flat = np.ravel(y_grid)\n",
    "\n",
    "# The last layer of the current model takes two columns as input. Hence transpose of np.vstack() is required.\n",
    "X = np.vstack((x_grid_flat, y_grid_flat)).T\n",
    "\n",
    "# x_grid and y_grid are of size 100 x 100\n",
    "probability_contour = model_prob(X).reshape(100,100) "
   ]
  },
  {
   "cell_type": "code",
   "execution_count": 29,
   "id": "understood-landing",
   "metadata": {
    "execution": {
     "iopub.execute_input": "2021-01-23T20:27:36.263524Z",
     "iopub.status.busy": "2021-01-23T20:27:36.262882Z",
     "iopub.status.idle": "2021-01-23T20:27:36.538097Z",
     "shell.execute_reply": "2021-01-23T20:27:36.538582Z"
    },
    "papermill": {
     "duration": 0.337362,
     "end_time": "2021-01-23T20:27:36.538728",
     "exception": false,
     "start_time": "2021-01-23T20:27:36.201366",
     "status": "completed"
    },
    "tags": []
   },
   "outputs": [
    {
     "data": {
      "image/png": "[encoded data removed]",
      "text/plain": [
       "<Figure size 720x648 with 1 Axes>"
      ]
     },
     "metadata": {
      "needs_background": "light"
     },
     "output_type": "display_data"
    }
   ],
   "source": [
    "plt.figure(figsize=(10,9))\n",
    "plt.scatter(plot_testing[:,0], plot_testing[:,1], alpha = 0.1, c = y_test.ravel())\n",
    "contours = plt.contour(x_grid,y_grid,probability_contour)\n",
    "plt.title('Probability Contours')\n",
    "plt.clabel(contours, inline = True );"
   ]
  }
 ],
 "metadata": {
  "kernelspec": {
   "display_name": "Python 3",
   "language": "python",
   "name": "python3"
  },
  "language_info": {
   "codemirror_mode": {
    "name": "ipython",
    "version": 3
   },
   "file_extension": ".py",
   "mimetype": "text/x-python",
   "name": "python",
   "nbconvert_exporter": "python",
   "pygments_lexer": "ipython3",
   "version": "3.6.12"
  },
  "papermill": {
   "duration": 117.379831,
   "end_time": "2021-01-23T20:27:37.782979",
   "environment_variables": {},
   "exception": null,
   "input_path": "2020-08-11-NeuralNetwork.ipynb",
   "output_path": "2020-08-11-NeuralNetwork.ipynb",
   "parameters": {},
   "start_time": "2021-01-23T20:25:40.403148",
   "version": "2.1.2"
  }
 },
 "nbformat": 4,
 "nbformat_minor": 5
}