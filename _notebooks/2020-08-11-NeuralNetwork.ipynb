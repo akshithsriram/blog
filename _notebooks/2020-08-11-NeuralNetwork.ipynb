{
 "cells": [
  {
   "cell_type": "markdown",
   "metadata": {
    "papermill": {
     "duration": 0.035624,
     "end_time": "2020-09-09T10:04:18.439192",
     "exception": false,
     "start_time": "2020-09-09T10:04:18.403568",
     "status": "completed"
    },
    "tags": []
   },
   "source": [
    "# \"A Basic Neural Network: Differentiate Hand-Written Digits\"\n",
    "\n",
    "- badges: true\n",
    "- author: Akshith Sriram"
   ]
  },
  {
   "cell_type": "markdown",
   "metadata": {
    "papermill": {
     "duration": 0.025028,
     "end_time": "2020-09-09T10:04:18.489553",
     "exception": false,
     "start_time": "2020-09-09T10:04:18.464525",
     "status": "completed"
    },
    "tags": []
   },
   "source": [
    "### Key Objectives:\n",
    "- Building a neural network that differentiates two hand-written digits 3 and 8.\n",
    "- Comparing the results of this Neural Network (NN) to that of a Logistic Regression (LR) model.\n",
    "\n",
    "### Requirements:\n",
    "- 'Kudzu' : A neural network library that was designed during our course by [Univ.AI](www.univ.ai). \n",
    "- MNIST Database\n",
    "\n",
    "If MNIST is not installed, use the command `!pip install mnist` given below.\n",
    "It can be run both from the command line and Jupyter Notebook."
   ]
  },
  {
   "cell_type": "code",
   "execution_count": 1,
   "metadata": {
    "execution": {
     "iopub.execute_input": "2020-09-09T10:04:18.548945Z",
     "iopub.status.busy": "2020-09-09T10:04:18.548307Z",
     "iopub.status.idle": "2020-09-09T10:04:20.211284Z",
     "shell.execute_reply": "2020-09-09T10:04:20.210589Z"
    },
    "papermill": {
     "duration": 1.696176,
     "end_time": "2020-09-09T10:04:20.211501",
     "exception": false,
     "start_time": "2020-09-09T10:04:18.515325",
     "status": "completed"
    },
    "tags": []
   },
   "outputs": [
    {
     "name": "stdout",
     "output_type": "stream",
     "text": [
      "Collecting mnist\r\n"
     ]
    },
    {
     "name": "stdout",
     "output_type": "stream",
     "text": [
      "  Downloading mnist-0.2.2-py2.py3-none-any.whl (3.5 kB)\r\n",
      "Requirement already satisfied: numpy in /opt/hostedtoolcache/Python/3.6.12/x64/lib/python3.6/site-packages (from mnist) (1.19.1)\r\n"
     ]
    },
    {
     "name": "stdout",
     "output_type": "stream",
     "text": [
      "Installing collected packages: mnist\r\n"
     ]
    },
    {
     "name": "stdout",
     "output_type": "stream",
     "text": [
      "Successfully installed mnist-0.2.2\r\n"
     ]
    },
    {
     "name": "stdout",
     "output_type": "stream",
     "text": [
      "\u001b[33mWARNING: You are using pip version 20.2.2; however, version 20.2.3 is available.\r\n",
      "You should consider upgrading via the '/opt/hostedtoolcache/Python/3.6.12/x64/bin/python -m pip install --upgrade pip' command.\u001b[0m\r\n"
     ]
    }
   ],
   "source": [
    "!pip install mnist "
   ]
  },
  {
   "cell_type": "markdown",
   "metadata": {
    "papermill": {
     "duration": 0.490156,
     "end_time": "2020-09-09T10:04:20.731126",
     "exception": false,
     "start_time": "2020-09-09T10:04:20.240970",
     "status": "completed"
    },
    "tags": []
   },
   "source": [
    "#### Importing necessary libraries"
   ]
  },
  {
   "cell_type": "code",
   "execution_count": 2,
   "metadata": {
    "execution": {
     "iopub.execute_input": "2020-09-09T10:04:20.808703Z",
     "iopub.status.busy": "2020-09-09T10:04:20.807970Z",
     "iopub.status.idle": "2020-09-09T10:04:21.462573Z",
     "shell.execute_reply": "2020-09-09T10:04:21.461946Z"
    },
    "papermill": {
     "duration": 0.699618,
     "end_time": "2020-09-09T10:04:21.462740",
     "exception": false,
     "start_time": "2020-09-09T10:04:20.763122",
     "status": "completed"
    },
    "tags": []
   },
   "outputs": [],
   "source": [
    "%load_ext autoreload\n",
    "%autoreload 2\n",
    "\n",
    "%matplotlib inline\n",
    "import matplotlib.pyplot as plt\n",
    "\n",
    "import numpy as np\n",
    "import pandas as pd"
   ]
  },
  {
   "cell_type": "markdown",
   "metadata": {
    "papermill": {
     "duration": 0.033223,
     "end_time": "2020-09-09T10:04:21.530306",
     "exception": false,
     "start_time": "2020-09-09T10:04:21.497083",
     "status": "completed"
    },
    "tags": []
   },
   "source": [
    "### Preparing the Data"
   ]
  },
  {
   "cell_type": "code",
   "execution_count": 3,
   "metadata": {
    "execution": {
     "iopub.execute_input": "2020-09-09T10:04:21.609893Z",
     "iopub.status.busy": "2020-09-09T10:04:21.605515Z",
     "iopub.status.idle": "2020-09-09T10:04:21.617878Z",
     "shell.execute_reply": "2020-09-09T10:04:21.617179Z"
    },
    "papermill": {
     "duration": 0.053701,
     "end_time": "2020-09-09T10:04:21.618039",
     "exception": false,
     "start_time": "2020-09-09T10:04:21.564338",
     "status": "completed"
    },
    "tags": []
   },
   "outputs": [],
   "source": [
    "import mnist"
   ]
  },
  {
   "cell_type": "code",
   "execution_count": 4,
   "metadata": {
    "execution": {
     "iopub.execute_input": "2020-09-09T10:04:21.691108Z",
     "iopub.status.busy": "2020-09-09T10:04:21.690389Z",
     "iopub.status.idle": "2020-09-09T10:04:22.548383Z",
     "shell.execute_reply": "2020-09-09T10:04:22.547725Z"
    },
    "papermill": {
     "duration": 0.897732,
     "end_time": "2020-09-09T10:04:22.548571",
     "exception": false,
     "start_time": "2020-09-09T10:04:21.650839",
     "status": "completed"
    },
    "tags": []
   },
   "outputs": [],
   "source": [
    "train_images = mnist.train_images()\n",
    "train_labels = mnist.train_labels()"
   ]
  },
  {
   "cell_type": "code",
   "execution_count": 5,
   "metadata": {
    "execution": {
     "iopub.execute_input": "2020-09-09T10:04:22.625375Z",
     "iopub.status.busy": "2020-09-09T10:04:22.623101Z",
     "iopub.status.idle": "2020-09-09T10:04:22.643095Z",
     "shell.execute_reply": "2020-09-09T10:04:22.643717Z"
    },
    "papermill": {
     "duration": 0.060635,
     "end_time": "2020-09-09T10:04:22.643897",
     "exception": false,
     "start_time": "2020-09-09T10:04:22.583262",
     "status": "completed"
    },
    "tags": []
   },
   "outputs": [
    {
     "data": {
      "text/plain": [
       "((60000, 28, 28), (60000,))"
      ]
     },
     "execution_count": 5,
     "metadata": {},
     "output_type": "execute_result"
    }
   ],
   "source": [
    "train_images.shape, train_labels.shape"
   ]
  },
  {
   "cell_type": "code",
   "execution_count": 6,
   "metadata": {
    "execution": {
     "iopub.execute_input": "2020-09-09T10:04:22.718282Z",
     "iopub.status.busy": "2020-09-09T10:04:22.716942Z",
     "iopub.status.idle": "2020-09-09T10:04:23.116392Z",
     "shell.execute_reply": "2020-09-09T10:04:23.115774Z"
    },
    "papermill": {
     "duration": 0.439351,
     "end_time": "2020-09-09T10:04:23.116569",
     "exception": false,
     "start_time": "2020-09-09T10:04:22.677218",
     "status": "completed"
    },
    "tags": []
   },
   "outputs": [],
   "source": [
    "test_images = mnist.test_images()\n",
    "test_labels = mnist.test_labels()"
   ]
  },
  {
   "cell_type": "code",
   "execution_count": 7,
   "metadata": {
    "execution": {
     "iopub.execute_input": "2020-09-09T10:04:23.206965Z",
     "iopub.status.busy": "2020-09-09T10:04:23.202615Z",
     "iopub.status.idle": "2020-09-09T10:04:23.210206Z",
     "shell.execute_reply": "2020-09-09T10:04:23.210796Z"
    },
    "papermill": {
     "duration": 0.060386,
     "end_time": "2020-09-09T10:04:23.210961",
     "exception": false,
     "start_time": "2020-09-09T10:04:23.150575",
     "status": "completed"
    },
    "tags": []
   },
   "outputs": [
    {
     "data": {
      "text/plain": [
       "((10000, 28, 28), (10000,))"
      ]
     },
     "execution_count": 7,
     "metadata": {},
     "output_type": "execute_result"
    }
   ],
   "source": [
    "test_images.shape, test_labels.shape"
   ]
  },
  {
   "cell_type": "code",
   "execution_count": 8,
   "metadata": {
    "execution": {
     "iopub.execute_input": "2020-09-09T10:04:23.283357Z",
     "iopub.status.busy": "2020-09-09T10:04:23.282620Z",
     "iopub.status.idle": "2020-09-09T10:04:23.465304Z",
     "shell.execute_reply": "2020-09-09T10:04:23.465903Z"
    },
    "papermill": {
     "duration": 0.221141,
     "end_time": "2020-09-09T10:04:23.466097",
     "exception": false,
     "start_time": "2020-09-09T10:04:23.244956",
     "status": "completed"
    },
    "tags": []
   },
   "outputs": [
    {
     "name": "stdout",
     "output_type": "stream",
     "text": [
      "2\n"
     ]
    },
    {
     "data": {
      "text/plain": [
       "<matplotlib.image.AxesImage at 0x7f29b4d52dd8>"
      ]
     },
     "execution_count": 8,
     "metadata": {},
     "output_type": "execute_result"
    },
    {
     "data": {
      "image/png": "[encoded data removed]",
      "text/plain": [
       "<Figure size 432x288 with 1 Axes>"
      ]
     },
     "metadata": {
      "needs_background": "light"
     },
     "output_type": "display_data"
    }
   ],
   "source": [
    "image_index = 7776 # You may select anything up to 60,000\n",
    "print(train_labels[image_index]) \n",
    "plt.imshow(train_images[image_index], cmap='Greys')"
   ]
  },
  {
   "cell_type": "markdown",
   "metadata": {
    "papermill": {
     "duration": 0.03471,
     "end_time": "2020-09-09T10:04:23.536361",
     "exception": false,
     "start_time": "2020-09-09T10:04:23.501651",
     "status": "completed"
    },
    "tags": []
   },
   "source": [
    "## Filter data to get 3 and 8 out"
   ]
  },
  {
   "cell_type": "code",
   "execution_count": 9,
   "metadata": {
    "execution": {
     "iopub.execute_input": "2020-09-09T10:04:23.616464Z",
     "iopub.status.busy": "2020-09-09T10:04:23.615434Z",
     "iopub.status.idle": "2020-09-09T10:04:23.640108Z",
     "shell.execute_reply": "2020-09-09T10:04:23.639090Z"
    },
    "papermill": {
     "duration": 0.065417,
     "end_time": "2020-09-09T10:04:23.640286",
     "exception": false,
     "start_time": "2020-09-09T10:04:23.574869",
     "status": "completed"
    },
    "tags": []
   },
   "outputs": [],
   "source": [
    "train_filter = np.where((train_labels == 3 ) | (train_labels == 8))\n",
    "test_filter = np.where((test_labels == 3) | (test_labels == 8))\n",
    "X_train, y_train = train_images[train_filter], train_labels[train_filter]\n",
    "X_test, y_test = test_images[test_filter], test_labels[test_filter]"
   ]
  },
  {
   "cell_type": "markdown",
   "metadata": {
    "papermill": {
     "duration": 0.039299,
     "end_time": "2020-09-09T10:04:23.715630",
     "exception": false,
     "start_time": "2020-09-09T10:04:23.676331",
     "status": "completed"
    },
    "tags": []
   },
   "source": [
    "We normalize the pixel values in the 0 to 1 range"
   ]
  },
  {
   "cell_type": "code",
   "execution_count": 10,
   "metadata": {
    "execution": {
     "iopub.execute_input": "2020-09-09T10:04:23.794360Z",
     "iopub.status.busy": "2020-09-09T10:04:23.793589Z",
     "iopub.status.idle": "2020-09-09T10:04:23.869537Z",
     "shell.execute_reply": "2020-09-09T10:04:23.868884Z"
    },
    "papermill": {
     "duration": 0.118347,
     "end_time": "2020-09-09T10:04:23.869715",
     "exception": false,
     "start_time": "2020-09-09T10:04:23.751368",
     "status": "completed"
    },
    "tags": []
   },
   "outputs": [],
   "source": [
    "X_train = X_train/255.\n",
    "X_test = X_test/255."
   ]
  },
  {
   "cell_type": "markdown",
   "metadata": {
    "papermill": {
     "duration": 0.030457,
     "end_time": "2020-09-09T10:04:23.932042",
     "exception": false,
     "start_time": "2020-09-09T10:04:23.901585",
     "status": "completed"
    },
    "tags": []
   },
   "source": [
    "Setup the labels as 1 (when the digit is 3) and 0 (when the digit is 8)"
   ]
  },
  {
   "cell_type": "code",
   "execution_count": 11,
   "metadata": {
    "execution": {
     "iopub.execute_input": "2020-09-09T10:04:23.992247Z",
     "iopub.status.busy": "2020-09-09T10:04:23.991643Z",
     "iopub.status.idle": "2020-09-09T10:04:24.006117Z",
     "shell.execute_reply": "2020-09-09T10:04:24.006607Z"
    },
    "papermill": {
     "duration": 0.047727,
     "end_time": "2020-09-09T10:04:24.006736",
     "exception": false,
     "start_time": "2020-09-09T10:04:23.959009",
     "status": "completed"
    },
    "tags": []
   },
   "outputs": [],
   "source": [
    "y_train = 1*(y_train==3)\n",
    "y_test = 1*(y_test==3)"
   ]
  },
  {
   "cell_type": "code",
   "execution_count": 12,
   "metadata": {
    "execution": {
     "iopub.execute_input": "2020-09-09T10:04:24.072171Z",
     "iopub.status.busy": "2020-09-09T10:04:24.071549Z",
     "iopub.status.idle": "2020-09-09T10:04:24.087045Z",
     "shell.execute_reply": "2020-09-09T10:04:24.088083Z"
    },
    "papermill": {
     "duration": 0.051406,
     "end_time": "2020-09-09T10:04:24.088229",
     "exception": false,
     "start_time": "2020-09-09T10:04:24.036823",
     "status": "completed"
    },
    "tags": []
   },
   "outputs": [
    {
     "data": {
      "text/plain": [
       "((11982, 28, 28), (1984, 28, 28))"
      ]
     },
     "execution_count": 12,
     "metadata": {},
     "output_type": "execute_result"
    }
   ],
   "source": [
    "X_train.shape, X_test.shape"
   ]
  },
  {
   "cell_type": "markdown",
   "metadata": {
    "papermill": {
     "duration": 0.030007,
     "end_time": "2020-09-09T10:04:24.146535",
     "exception": false,
     "start_time": "2020-09-09T10:04:24.116528",
     "status": "completed"
    },
    "tags": []
   },
   "source": [
    "### Reshape the input data to create a linear array"
   ]
  },
  {
   "cell_type": "code",
   "execution_count": 13,
   "metadata": {
    "execution": {
     "iopub.execute_input": "2020-09-09T10:04:24.208798Z",
     "iopub.status.busy": "2020-09-09T10:04:24.208127Z",
     "iopub.status.idle": "2020-09-09T10:04:24.224045Z",
     "shell.execute_reply": "2020-09-09T10:04:24.223541Z"
    },
    "papermill": {
     "duration": 0.048885,
     "end_time": "2020-09-09T10:04:24.224180",
     "exception": false,
     "start_time": "2020-09-09T10:04:24.175295",
     "status": "completed"
    },
    "tags": []
   },
   "outputs": [
    {
     "data": {
      "text/plain": [
       "((11982, 784), (1984, 784))"
      ]
     },
     "execution_count": 13,
     "metadata": {},
     "output_type": "execute_result"
    }
   ],
   "source": [
    "X_train = X_train.reshape(X_train.shape[0], -1)\n",
    "X_test = X_test.reshape(X_test.shape[0], -1)\n",
    "X_train.shape, X_test.shape"
   ]
  },
  {
   "cell_type": "markdown",
   "metadata": {
    "papermill": {
     "duration": 0.029863,
     "end_time": "2020-09-09T10:04:24.282293",
     "exception": false,
     "start_time": "2020-09-09T10:04:24.252430",
     "status": "completed"
    },
    "tags": []
   },
   "source": [
    "### Importing appropriate functions from 'Kudzu'"
   ]
  },
  {
   "cell_type": "code",
   "execution_count": 14,
   "metadata": {
    "execution": {
     "iopub.execute_input": "2020-09-09T10:04:24.348330Z",
     "iopub.status.busy": "2020-09-09T10:04:24.347705Z",
     "iopub.status.idle": "2020-09-09T10:04:24.370940Z",
     "shell.execute_reply": "2020-09-09T10:04:24.371505Z"
    },
    "papermill": {
     "duration": 0.057415,
     "end_time": "2020-09-09T10:04:24.371639",
     "exception": false,
     "start_time": "2020-09-09T10:04:24.314224",
     "status": "completed"
    },
    "tags": []
   },
   "outputs": [],
   "source": [
    "from kudzu.layer import Sigmoid\n",
    "from kudzu.layer import Relu\n",
    "from kudzu.layer import Affine, Sigmoid\n",
    "\n",
    "from kudzu.model import Model\n",
    "from kudzu.train import Learner\n",
    "from kudzu.optim import GD\n",
    "from kudzu.data import Data, Dataloader, Sampler\n",
    "\n",
    "from kudzu.callbacks import AccCallback\n",
    "from kudzu.callbacks import ClfCallback\n",
    "\n",
    "from kudzu.loss import MSE"
   ]
  },
  {
   "cell_type": "markdown",
   "metadata": {
    "papermill": {
     "duration": 0.028824,
     "end_time": "2020-09-09T10:04:24.429565",
     "exception": false,
     "start_time": "2020-09-09T10:04:24.400741",
     "status": "completed"
    },
    "tags": []
   },
   "source": [
    "### Let us create a `Config` class, to store important parameters. \n",
    "This class essentially plays the role of a dictionary."
   ]
  },
  {
   "cell_type": "code",
   "execution_count": 15,
   "metadata": {
    "execution": {
     "iopub.execute_input": "2020-09-09T10:04:24.495622Z",
     "iopub.status.busy": "2020-09-09T10:04:24.494985Z",
     "iopub.status.idle": "2020-09-09T10:04:24.509254Z",
     "shell.execute_reply": "2020-09-09T10:04:24.509860Z"
    },
    "papermill": {
     "duration": 0.049586,
     "end_time": "2020-09-09T10:04:24.510005",
     "exception": false,
     "start_time": "2020-09-09T10:04:24.460419",
     "status": "completed"
    },
    "tags": []
   },
   "outputs": [],
   "source": [
    "class Config:\n",
    "    pass\n",
    "config = Config()\n",
    "config.lr = 0.001\n",
    "config.num_epochs = 251\n",
    "config.bs = 50"
   ]
  },
  {
   "cell_type": "markdown",
   "metadata": {
    "papermill": {
     "duration": 0.030256,
     "end_time": "2020-09-09T10:04:24.571541",
     "exception": false,
     "start_time": "2020-09-09T10:04:24.541285",
     "status": "completed"
    },
    "tags": []
   },
   "source": [
    "### Initializing data to the variables"
   ]
  },
  {
   "cell_type": "code",
   "execution_count": 16,
   "metadata": {
    "execution": {
     "iopub.execute_input": "2020-09-09T10:04:24.640038Z",
     "iopub.status.busy": "2020-09-09T10:04:24.639295Z",
     "iopub.status.idle": "2020-09-09T10:04:24.652143Z",
     "shell.execute_reply": "2020-09-09T10:04:24.652710Z"
    },
    "papermill": {
     "duration": 0.05085,
     "end_time": "2020-09-09T10:04:24.652884",
     "exception": false,
     "start_time": "2020-09-09T10:04:24.602034",
     "status": "completed"
    },
    "tags": []
   },
   "outputs": [],
   "source": [
    "data = Data(X_train, y_train.reshape(-1,1))\n",
    "sampler = Sampler(data, config.bs, shuffle=True)\n",
    "\n",
    "dl = Dataloader(data, sampler)\n",
    "\n",
    "opt = GD(config.lr)\n",
    "loss = MSE()"
   ]
  },
  {
   "cell_type": "code",
   "execution_count": 17,
   "metadata": {
    "execution": {
     "iopub.execute_input": "2020-09-09T10:04:24.740724Z",
     "iopub.status.busy": "2020-09-09T10:04:24.730671Z",
     "iopub.status.idle": "2020-09-09T10:04:24.743939Z",
     "shell.execute_reply": "2020-09-09T10:04:24.743286Z"
    },
    "papermill": {
     "duration": 0.055383,
     "end_time": "2020-09-09T10:04:24.744096",
     "exception": false,
     "start_time": "2020-09-09T10:04:24.688713",
     "status": "completed"
    },
    "tags": []
   },
   "outputs": [],
   "source": [
    "training_xdata = X_train\n",
    "testing_xdata = X_test\n",
    "training_ydata = y_train.reshape(-1,1)\n",
    "testing_ydata = y_test.reshape(-1,1)"
   ]
  },
  {
   "cell_type": "markdown",
   "metadata": {
    "papermill": {
     "duration": 0.039564,
     "end_time": "2020-09-09T10:04:24.819497",
     "exception": false,
     "start_time": "2020-09-09T10:04:24.779933",
     "status": "completed"
    },
    "tags": []
   },
   "source": [
    "### Running Models with the Training data\n",
    "Details about the network layers:\n",
    "- A first affine layer has 784 inputs and does 100 affine transforms. These are followed by a Relu\n",
    "- A second affine layer has 100 inputs from the 100 activations of the past layer, and does 100 affine transforms. These are followed by a Relu\n",
    "- A third affine layer has 100 activations and does 2 affine transformations to create an embedding for visualization. There is no non-linearity here.\n",
    "- A final \"logistic regression\" which has an affine transform from 2 inputs to 1 output, which is squeezed through a sigmoid.\n",
    "\n",
    "Help taken from Anshuman's Notebook."
   ]
  },
  {
   "cell_type": "code",
   "execution_count": 18,
   "metadata": {
    "execution": {
     "iopub.execute_input": "2020-09-09T10:04:24.898308Z",
     "iopub.status.busy": "2020-09-09T10:04:24.897515Z",
     "iopub.status.idle": "2020-09-09T10:04:24.918343Z",
     "shell.execute_reply": "2020-09-09T10:04:24.918935Z"
    },
    "papermill": {
     "duration": 0.062755,
     "end_time": "2020-09-09T10:04:24.919137",
     "exception": false,
     "start_time": "2020-09-09T10:04:24.856382",
     "status": "completed"
    },
    "tags": []
   },
   "outputs": [],
   "source": [
    "# layers for the Neural Network\n",
    "layers = [Affine(\"first\", 784, 100), Relu(\"first\"), Affine(\"second\", 100, 100), Relu(\"second\"), Affine(\"third\", 100, 2), Affine(\"final\", 2, 1), Sigmoid(\"final\")]\n",
    "model_nn = Model(layers)\n",
    "\n",
    "# layers for the Logistic Regression\n",
    "layers_lr = [Affine(\"logits\", 784, 1), Sigmoid(\"sigmoid\")]\n",
    "model_lr = Model(layers_lr)"
   ]
  },
  {
   "cell_type": "code",
   "execution_count": 19,
   "metadata": {
    "execution": {
     "iopub.execute_input": "2020-09-09T10:04:24.997866Z",
     "iopub.status.busy": "2020-09-09T10:04:24.997093Z",
     "iopub.status.idle": "2020-09-09T10:04:25.012913Z",
     "shell.execute_reply": "2020-09-09T10:04:25.012277Z"
    },
    "papermill": {
     "duration": 0.056175,
     "end_time": "2020-09-09T10:04:25.013073",
     "exception": false,
     "start_time": "2020-09-09T10:04:24.956898",
     "status": "completed"
    },
    "tags": []
   },
   "outputs": [],
   "source": [
    "# suffix _nn stands for Neural Network.\n",
    "learner_nn = Learner(loss, model_nn, opt, config.num_epochs)\n",
    "acc_nn = ClfCallback(learner_nn, config.bs, training_xdata , testing_xdata, training_ydata, testing_ydata)\n",
    "learner_nn.set_callbacks([acc_nn])"
   ]
  },
  {
   "cell_type": "code",
   "execution_count": 20,
   "metadata": {
    "execution": {
     "iopub.execute_input": "2020-09-09T10:04:25.085241Z",
     "iopub.status.busy": "2020-09-09T10:04:25.084589Z",
     "iopub.status.idle": "2020-09-09T10:06:37.430644Z",
     "shell.execute_reply": "2020-09-09T10:06:37.431666Z"
    },
    "papermill": {
     "duration": 132.383016,
     "end_time": "2020-09-09T10:06:37.431853",
     "exception": false,
     "start_time": "2020-09-09T10:04:25.048837",
     "status": "completed"
    },
    "tags": []
   },
   "outputs": [
    {
     "name": "stdout",
     "output_type": "stream",
     "text": [
      "====== Neural Network ======\n"
     ]
    },
    {
     "name": "stdout",
     "output_type": "stream",
     "text": [
      "Epoch 0, Loss 0.21\n",
      "Training Accuracy: 0.8040, Testing Accuracy: 0.8049\n",
      "\n"
     ]
    },
    {
     "name": "stdout",
     "output_type": "stream",
     "text": [
      "Epoch 10, Loss 0.0565\n",
      "Training Accuracy: 0.9441, Testing Accuracy: 0.9531\n",
      "\n"
     ]
    },
    {
     "name": "stdout",
     "output_type": "stream",
     "text": [
      "Epoch 20, Loss 0.0403\n",
      "Training Accuracy: 0.9562, Testing Accuracy: 0.9647\n",
      "\n"
     ]
    },
    {
     "name": "stdout",
     "output_type": "stream",
     "text": [
      "Epoch 30, Loss 0.034\n",
      "Training Accuracy: 0.9615, Testing Accuracy: 0.9682\n",
      "\n"
     ]
    },
    {
     "name": "stdout",
     "output_type": "stream",
     "text": [
      "Epoch 40, Loss 0.0304\n",
      "Training Accuracy: 0.9664, Testing Accuracy: 0.9708\n",
      "\n"
     ]
    },
    {
     "name": "stdout",
     "output_type": "stream",
     "text": [
      "Epoch 50, Loss 0.0281\n",
      "Training Accuracy: 0.9684, Testing Accuracy: 0.9733\n",
      "\n"
     ]
    },
    {
     "name": "stdout",
     "output_type": "stream",
     "text": [
      "Epoch 60, Loss 0.0263\n",
      "Training Accuracy: 0.9699, Testing Accuracy: 0.9728\n",
      "\n"
     ]
    },
    {
     "name": "stdout",
     "output_type": "stream",
     "text": [
      "Epoch 70, Loss 0.025\n",
      "Training Accuracy: 0.9718, Testing Accuracy: 0.9733\n",
      "\n"
     ]
    },
    {
     "name": "stdout",
     "output_type": "stream",
     "text": [
      "Epoch 80, Loss 0.0238\n",
      "Training Accuracy: 0.9735, Testing Accuracy: 0.9738\n",
      "\n"
     ]
    },
    {
     "name": "stdout",
     "output_type": "stream",
     "text": [
      "Epoch 90, Loss 0.0229\n",
      "Training Accuracy: 0.9745, Testing Accuracy: 0.9753\n",
      "\n"
     ]
    },
    {
     "name": "stdout",
     "output_type": "stream",
     "text": [
      "Epoch 100, Loss 0.0221\n",
      "Training Accuracy: 0.9751, Testing Accuracy: 0.9753\n",
      "\n"
     ]
    },
    {
     "name": "stdout",
     "output_type": "stream",
     "text": [
      "Epoch 110, Loss 0.0213\n",
      "Training Accuracy: 0.9762, Testing Accuracy: 0.9758\n",
      "\n"
     ]
    },
    {
     "name": "stdout",
     "output_type": "stream",
     "text": [
      "Epoch 120, Loss 0.0206\n",
      "Training Accuracy: 0.9772, Testing Accuracy: 0.9753\n",
      "\n"
     ]
    },
    {
     "name": "stdout",
     "output_type": "stream",
     "text": [
      "Epoch 130, Loss 0.0199\n",
      "Training Accuracy: 0.9781, Testing Accuracy: 0.9768\n",
      "\n"
     ]
    },
    {
     "name": "stdout",
     "output_type": "stream",
     "text": [
      "Epoch 140, Loss 0.0193\n",
      "Training Accuracy: 0.9789, Testing Accuracy: 0.9773\n",
      "\n"
     ]
    },
    {
     "name": "stdout",
     "output_type": "stream",
     "text": [
      "Epoch 150, Loss 0.0187\n",
      "Training Accuracy: 0.9792, Testing Accuracy: 0.9763\n",
      "\n"
     ]
    },
    {
     "name": "stdout",
     "output_type": "stream",
     "text": [
      "Epoch 160, Loss 0.0182\n",
      "Training Accuracy: 0.9801, Testing Accuracy: 0.9763\n",
      "\n"
     ]
    },
    {
     "name": "stdout",
     "output_type": "stream",
     "text": [
      "Epoch 170, Loss 0.0177\n",
      "Training Accuracy: 0.9806, Testing Accuracy: 0.9768\n",
      "\n"
     ]
    },
    {
     "name": "stdout",
     "output_type": "stream",
     "text": [
      "Epoch 180, Loss 0.0172\n",
      "Training Accuracy: 0.9816, Testing Accuracy: 0.9773\n",
      "\n"
     ]
    },
    {
     "name": "stdout",
     "output_type": "stream",
     "text": [
      "Epoch 190, Loss 0.0167\n",
      "Training Accuracy: 0.9820, Testing Accuracy: 0.9773\n",
      "\n"
     ]
    },
    {
     "name": "stdout",
     "output_type": "stream",
     "text": [
      "Epoch 200, Loss 0.0163\n",
      "Training Accuracy: 0.9823, Testing Accuracy: 0.9778\n",
      "\n"
     ]
    },
    {
     "name": "stdout",
     "output_type": "stream",
     "text": [
      "Epoch 210, Loss 0.0159\n",
      "Training Accuracy: 0.9823, Testing Accuracy: 0.9783\n",
      "\n"
     ]
    },
    {
     "name": "stdout",
     "output_type": "stream",
     "text": [
      "Epoch 220, Loss 0.0155\n",
      "Training Accuracy: 0.9833, Testing Accuracy: 0.9788\n",
      "\n"
     ]
    },
    {
     "name": "stdout",
     "output_type": "stream",
     "text": [
      "Epoch 230, Loss 0.0151\n",
      "Training Accuracy: 0.9837, Testing Accuracy: 0.9788\n",
      "\n"
     ]
    },
    {
     "name": "stdout",
     "output_type": "stream",
     "text": [
      "Epoch 240, Loss 0.0147\n",
      "Training Accuracy: 0.9842, Testing Accuracy: 0.9788\n",
      "\n"
     ]
    },
    {
     "name": "stdout",
     "output_type": "stream",
     "text": [
      "Epoch 250, Loss 0.0144\n",
      "Training Accuracy: 0.9847, Testing Accuracy: 0.9798\n",
      "\n"
     ]
    },
    {
     "data": {
      "text/plain": [
       "0.006317159347181219"
      ]
     },
     "execution_count": 20,
     "metadata": {},
     "output_type": "execute_result"
    }
   ],
   "source": [
    "print(\"====== Neural Network ======\")\n",
    "learner_nn.train_loop(dl)"
   ]
  },
  {
   "cell_type": "markdown",
   "metadata": {
    "papermill": {
     "duration": 0.045274,
     "end_time": "2020-09-09T10:06:37.525444",
     "exception": false,
     "start_time": "2020-09-09T10:06:37.480170",
     "status": "completed"
    },
    "tags": []
   },
   "source": [
    "### Logistic Regression based Implementation."
   ]
  },
  {
   "cell_type": "code",
   "execution_count": 21,
   "metadata": {
    "execution": {
     "iopub.execute_input": "2020-09-09T10:06:37.616045Z",
     "iopub.status.busy": "2020-09-09T10:06:37.615422Z",
     "iopub.status.idle": "2020-09-09T10:06:37.628530Z",
     "shell.execute_reply": "2020-09-09T10:06:37.627929Z"
    },
    "papermill": {
     "duration": 0.060247,
     "end_time": "2020-09-09T10:06:37.628732",
     "exception": false,
     "start_time": "2020-09-09T10:06:37.568485",
     "status": "completed"
    },
    "tags": []
   },
   "outputs": [],
   "source": [
    "learner_lr = Learner(loss, model_lr, opt, config.num_epochs)\n",
    "acc_lr = ClfCallback(learner_lr, config.bs, training_xdata , testing_xdata, training_ydata, testing_ydata)\n",
    "learner_lr.set_callbacks([acc_lr])"
   ]
  },
  {
   "cell_type": "code",
   "execution_count": 22,
   "metadata": {
    "execution": {
     "iopub.execute_input": "2020-09-09T10:06:37.725918Z",
     "iopub.status.busy": "2020-09-09T10:06:37.724287Z",
     "iopub.status.idle": "2020-09-09T10:06:57.748968Z",
     "shell.execute_reply": "2020-09-09T10:06:57.749927Z"
    },
    "papermill": {
     "duration": 20.07455,
     "end_time": "2020-09-09T10:06:57.750117",
     "exception": false,
     "start_time": "2020-09-09T10:06:37.675567",
     "status": "completed"
    },
    "tags": []
   },
   "outputs": [
    {
     "name": "stdout",
     "output_type": "stream",
     "text": [
      "====== Logistic Regression ======\n",
      "Epoch 0, Loss 0.2129\n",
      "Training Accuracy: 0.7870, Testing Accuracy: 0.7898\n",
      "\n"
     ]
    },
    {
     "name": "stdout",
     "output_type": "stream",
     "text": [
      "Epoch 10, Loss 0.1014\n",
      "Training Accuracy: 0.9088, Testing Accuracy: 0.9199\n",
      "\n"
     ]
    },
    {
     "name": "stdout",
     "output_type": "stream",
     "text": [
      "Epoch 20, Loss 0.0789\n",
      "Training Accuracy: 0.9271, Testing Accuracy: 0.9390\n",
      "\n"
     ]
    },
    {
     "name": "stdout",
     "output_type": "stream",
     "text": [
      "Epoch 30, Loss 0.0682\n",
      "Training Accuracy: 0.9367, Testing Accuracy: 0.9511\n",
      "\n"
     ]
    },
    {
     "name": "stdout",
     "output_type": "stream",
     "text": [
      "Epoch 40, Loss 0.0616\n",
      "Training Accuracy: 0.9409, Testing Accuracy: 0.9541\n",
      "\n"
     ]
    },
    {
     "name": "stdout",
     "output_type": "stream",
     "text": [
      "Epoch 50, Loss 0.0572\n",
      "Training Accuracy: 0.9441, Testing Accuracy: 0.9546\n",
      "\n"
     ]
    },
    {
     "name": "stdout",
     "output_type": "stream",
     "text": [
      "Epoch 60, Loss 0.0539\n",
      "Training Accuracy: 0.9473, Testing Accuracy: 0.9572\n",
      "\n"
     ]
    },
    {
     "name": "stdout",
     "output_type": "stream",
     "text": [
      "Epoch 70, Loss 0.0513\n",
      "Training Accuracy: 0.9492, Testing Accuracy: 0.9602\n",
      "\n"
     ]
    },
    {
     "name": "stdout",
     "output_type": "stream",
     "text": [
      "Epoch 80, Loss 0.0493\n",
      "Training Accuracy: 0.9506, Testing Accuracy: 0.9607\n",
      "\n"
     ]
    },
    {
     "name": "stdout",
     "output_type": "stream",
     "text": [
      "Epoch 90, Loss 0.0476\n",
      "Training Accuracy: 0.9522, Testing Accuracy: 0.9602\n",
      "\n"
     ]
    },
    {
     "name": "stdout",
     "output_type": "stream",
     "text": [
      "Epoch 100, Loss 0.0462\n",
      "Training Accuracy: 0.9528, Testing Accuracy: 0.9607\n",
      "\n"
     ]
    },
    {
     "name": "stdout",
     "output_type": "stream",
     "text": [
      "Epoch 110, Loss 0.045\n",
      "Training Accuracy: 0.9543, Testing Accuracy: 0.9617\n",
      "\n"
     ]
    },
    {
     "name": "stdout",
     "output_type": "stream",
     "text": [
      "Epoch 120, Loss 0.0439\n",
      "Training Accuracy: 0.9549, Testing Accuracy: 0.9632\n",
      "\n"
     ]
    },
    {
     "name": "stdout",
     "output_type": "stream",
     "text": [
      "Epoch 130, Loss 0.043\n",
      "Training Accuracy: 0.9556, Testing Accuracy: 0.9647\n",
      "\n"
     ]
    },
    {
     "name": "stdout",
     "output_type": "stream",
     "text": [
      "Epoch 140, Loss 0.0422\n",
      "Training Accuracy: 0.9561, Testing Accuracy: 0.9652\n",
      "\n"
     ]
    },
    {
     "name": "stdout",
     "output_type": "stream",
     "text": [
      "Epoch 150, Loss 0.0414\n",
      "Training Accuracy: 0.9568, Testing Accuracy: 0.9652\n",
      "\n"
     ]
    },
    {
     "name": "stdout",
     "output_type": "stream",
     "text": [
      "Epoch 160, Loss 0.0408\n",
      "Training Accuracy: 0.9574, Testing Accuracy: 0.9657\n",
      "\n"
     ]
    },
    {
     "name": "stdout",
     "output_type": "stream",
     "text": [
      "Epoch 170, Loss 0.0402\n",
      "Training Accuracy: 0.9579, Testing Accuracy: 0.9657\n",
      "\n"
     ]
    },
    {
     "name": "stdout",
     "output_type": "stream",
     "text": [
      "Epoch 180, Loss 0.0396\n",
      "Training Accuracy: 0.9588, Testing Accuracy: 0.9652\n",
      "\n"
     ]
    },
    {
     "name": "stdout",
     "output_type": "stream",
     "text": [
      "Epoch 190, Loss 0.0391\n",
      "Training Accuracy: 0.9591, Testing Accuracy: 0.9662\n",
      "\n"
     ]
    },
    {
     "name": "stdout",
     "output_type": "stream",
     "text": [
      "Epoch 200, Loss 0.0386\n",
      "Training Accuracy: 0.9591, Testing Accuracy: 0.9667\n",
      "\n"
     ]
    },
    {
     "name": "stdout",
     "output_type": "stream",
     "text": [
      "Epoch 210, Loss 0.0382\n",
      "Training Accuracy: 0.9592, Testing Accuracy: 0.9667\n",
      "\n"
     ]
    },
    {
     "name": "stdout",
     "output_type": "stream",
     "text": [
      "Epoch 220, Loss 0.0378\n",
      "Training Accuracy: 0.9597, Testing Accuracy: 0.9667\n",
      "\n"
     ]
    },
    {
     "name": "stdout",
     "output_type": "stream",
     "text": [
      "Epoch 230, Loss 0.0374\n",
      "Training Accuracy: 0.9601, Testing Accuracy: 0.9667\n",
      "\n"
     ]
    },
    {
     "name": "stdout",
     "output_type": "stream",
     "text": [
      "Epoch 240, Loss 0.037\n",
      "Training Accuracy: 0.9604, Testing Accuracy: 0.9667\n",
      "\n"
     ]
    },
    {
     "name": "stdout",
     "output_type": "stream",
     "text": [
      "Epoch 250, Loss 0.0367\n",
      "Training Accuracy: 0.9607, Testing Accuracy: 0.9672\n",
      "\n"
     ]
    },
    {
     "data": {
      "text/plain": [
       "0.031139552852651527"
      ]
     },
     "execution_count": 22,
     "metadata": {},
     "output_type": "execute_result"
    }
   ],
   "source": [
    "print(\"====== Logistic Regression ======\")\n",
    "learner_lr.train_loop(dl)"
   ]
  },
  {
   "cell_type": "markdown",
   "metadata": {
    "papermill": {
     "duration": 0.049332,
     "end_time": "2020-09-09T10:06:57.851893",
     "exception": false,
     "start_time": "2020-09-09T10:06:57.802561",
     "status": "completed"
    },
    "tags": []
   },
   "source": [
    "### Comparing results of NN and LR"
   ]
  },
  {
   "cell_type": "code",
   "execution_count": 23,
   "metadata": {
    "execution": {
     "iopub.execute_input": "2020-09-09T10:06:57.963304Z",
     "iopub.status.busy": "2020-09-09T10:06:57.962572Z",
     "iopub.status.idle": "2020-09-09T10:06:58.223968Z",
     "shell.execute_reply": "2020-09-09T10:06:58.223332Z"
    },
    "papermill": {
     "duration": 0.322248,
     "end_time": "2020-09-09T10:06:58.224102",
     "exception": false,
     "start_time": "2020-09-09T10:06:57.901854",
     "status": "completed"
    },
    "tags": []
   },
   "outputs": [
    {
     "data": {
      "text/plain": [
       "<matplotlib.legend.Legend at 0x7f29b49364e0>"
      ]
     },
     "execution_count": 23,
     "metadata": {},
     "output_type": "execute_result"
    },
    {
     "data": {
      "image/png": "[encoded data removed]",
      "text/plain": [
       "<Figure size 1080x720 with 1 Axes>"
      ]
     },
     "metadata": {
      "needs_background": "light"
     },
     "output_type": "display_data"
    }
   ],
   "source": [
    "plt.figure(figsize=(15,10))\n",
    "\n",
    "# Neural Network plots\n",
    "plt.plot(acc_nn.accuracies, 'r-', label = \"Training Accuracies - NN\")\n",
    "plt.plot(acc_nn.test_accuracies, 'g-', label = \"Testing Accuracies - NN\")\n",
    "\n",
    "# Logistic Regression plots\n",
    "plt.plot(acc_lr.accuracies, 'k-', label = \"Training Accuracies - LR\")\n",
    "plt.plot(acc_lr.test_accuracies, 'b-', label = \"Testing Accuracies - LR\")\n",
    "\n",
    "plt.ylim(0.8, 1)\n",
    "\n",
    "plt.legend()\n",
    "\n"
   ]
  },
  {
   "cell_type": "markdown",
   "metadata": {
    "papermill": {
     "duration": 0.051117,
     "end_time": "2020-09-09T10:06:58.322445",
     "exception": false,
     "start_time": "2020-09-09T10:06:58.271328",
     "status": "completed"
    },
    "tags": []
   },
   "source": [
    "### From the plot, we can observe the following:\n",
    "- Neural Network achieves higher accuracy than the Logistic Regression model.\n",
    "- This apparently, is because of overfitting, i.e. NN captures more noise than data.\n",
    "- Testing accuracy of NN drops below the Training accuracy at higher epochs. This explains the over-fitting on training data.\n",
    "- Logistic Regression gives a reliable accuracy, without the above mentioned problem.\n"
   ]
  },
  {
   "cell_type": "markdown",
   "metadata": {
    "papermill": {
     "duration": 0.050349,
     "end_time": "2020-09-09T10:06:58.425325",
     "exception": false,
     "start_time": "2020-09-09T10:06:58.374976",
     "status": "completed"
    },
    "tags": []
   },
   "source": [
    "### Moving till the last but one layer (excluding it).\n",
    "#### Plotting the outputs of this layer of the NN."
   ]
  },
  {
   "cell_type": "code",
   "execution_count": 24,
   "metadata": {
    "execution": {
     "iopub.execute_input": "2020-09-09T10:06:58.524735Z",
     "iopub.status.busy": "2020-09-09T10:06:58.524165Z",
     "iopub.status.idle": "2020-09-09T10:06:58.540760Z",
     "shell.execute_reply": "2020-09-09T10:06:58.541291Z"
    },
    "papermill": {
     "duration": 0.067606,
     "end_time": "2020-09-09T10:06:58.541437",
     "exception": false,
     "start_time": "2020-09-09T10:06:58.473831",
     "status": "completed"
    },
    "tags": []
   },
   "outputs": [],
   "source": [
    "model_new = Model(layers[:-2])"
   ]
  },
  {
   "cell_type": "code",
   "execution_count": 25,
   "metadata": {
    "execution": {
     "iopub.execute_input": "2020-09-09T10:06:58.655426Z",
     "iopub.status.busy": "2020-09-09T10:06:58.648970Z",
     "iopub.status.idle": "2020-09-09T10:06:58.679172Z",
     "shell.execute_reply": "2020-09-09T10:06:58.680004Z"
    },
    "papermill": {
     "duration": 0.086991,
     "end_time": "2020-09-09T10:06:58.680185",
     "exception": false,
     "start_time": "2020-09-09T10:06:58.593194",
     "status": "completed"
    },
    "tags": []
   },
   "outputs": [],
   "source": [
    "plot_testing = model_new(testing_xdata)"
   ]
  },
  {
   "cell_type": "code",
   "execution_count": 26,
   "metadata": {
    "execution": {
     "iopub.execute_input": "2020-09-09T10:06:58.805469Z",
     "iopub.status.busy": "2020-09-09T10:06:58.804728Z",
     "iopub.status.idle": "2020-09-09T10:06:59.024249Z",
     "shell.execute_reply": "2020-09-09T10:06:59.024838Z"
    },
    "papermill": {
     "duration": 0.28981,
     "end_time": "2020-09-09T10:06:59.025024",
     "exception": false,
     "start_time": "2020-09-09T10:06:58.735214",
     "status": "completed"
    },
    "tags": []
   },
   "outputs": [
    {
     "data": {
      "text/plain": [
       "Text(0.5, 1.0, 'Outputs')"
      ]
     },
     "execution_count": 26,
     "metadata": {},
     "output_type": "execute_result"
    },
    {
     "data": {
      "image/png": "[encoded data removed]",
      "text/plain": [
       "<Figure size 576x504 with 1 Axes>"
      ]
     },
     "metadata": {
      "needs_background": "light"
     },
     "output_type": "display_data"
    }
   ],
   "source": [
    "plt.figure(figsize=(8,7))\n",
    "plt.scatter(plot_testing[:,0], plot_testing[:,1], alpha = 0.1, c = y_test.ravel());\n",
    "plt.title('Outputs')"
   ]
  },
  {
   "cell_type": "markdown",
   "metadata": {
    "papermill": {
     "duration": 0.060059,
     "end_time": "2020-09-09T10:06:59.149029",
     "exception": false,
     "start_time": "2020-09-09T10:06:59.088970",
     "status": "completed"
    },
    "tags": []
   },
   "source": [
    "### Plotting probability contours"
   ]
  },
  {
   "cell_type": "code",
   "execution_count": 27,
   "metadata": {
    "execution": {
     "iopub.execute_input": "2020-09-09T10:06:59.275253Z",
     "iopub.status.busy": "2020-09-09T10:06:59.274496Z",
     "iopub.status.idle": "2020-09-09T10:06:59.288946Z",
     "shell.execute_reply": "2020-09-09T10:06:59.289510Z"
    },
    "papermill": {
     "duration": 0.077956,
     "end_time": "2020-09-09T10:06:59.289695",
     "exception": false,
     "start_time": "2020-09-09T10:06:59.211739",
     "status": "completed"
    },
    "tags": []
   },
   "outputs": [],
   "source": [
    "model_prob = Model(layers[-2:]) "
   ]
  },
  {
   "cell_type": "code",
   "execution_count": 28,
   "metadata": {
    "execution": {
     "iopub.execute_input": "2020-09-09T10:06:59.422367Z",
     "iopub.status.busy": "2020-09-09T10:06:59.421465Z",
     "iopub.status.idle": "2020-09-09T10:06:59.434727Z",
     "shell.execute_reply": "2020-09-09T10:06:59.435259Z"
    },
    "papermill": {
     "duration": 0.08315,
     "end_time": "2020-09-09T10:06:59.435423",
     "exception": false,
     "start_time": "2020-09-09T10:06:59.352273",
     "status": "completed"
    },
    "tags": []
   },
   "outputs": [],
   "source": [
    "# Adjust the x and y ranges according to the above generated plot.\n",
    "x_range = np.linspace(-4, 1, 100) \n",
    "y_range = np.linspace(-6, 6, 100) \n",
    "x_grid, y_grid = np.meshgrid(x_range, y_range) # x_grid and y_grig are of size 100 X 100\n",
    "\n",
    "# converting x_grid and y_grid to continuous arrays\n",
    "x_grid_flat = np.ravel(x_grid)\n",
    "y_grid_flat = np.ravel(y_grid)\n",
    "\n",
    "# The last layer of the current model takes two columns as input. Hence transpose of np.vstack() is required.\n",
    "X = np.vstack((x_grid_flat, y_grid_flat)).T\n",
    "\n",
    "# x_grid and y_grid are of size 100 x 100\n",
    "probability_contour = model_prob(X).reshape(100,100) "
   ]
  },
  {
   "cell_type": "code",
   "execution_count": 29,
   "metadata": {
    "execution": {
     "iopub.execute_input": "2020-09-09T10:06:59.544112Z",
     "iopub.status.busy": "2020-09-09T10:06:59.543426Z",
     "iopub.status.idle": "2020-09-09T10:06:59.857484Z",
     "shell.execute_reply": "2020-09-09T10:06:59.856463Z"
    },
    "papermill": {
     "duration": 0.371468,
     "end_time": "2020-09-09T10:06:59.857649",
     "exception": false,
     "start_time": "2020-09-09T10:06:59.486181",
     "status": "completed"
    },
    "tags": []
   },
   "outputs": [
    {
     "data": {
      "image/png": "[encoded data removed]",
      "text/plain": [
       "<Figure size 720x648 with 1 Axes>"
      ]
     },
     "metadata": {
      "needs_background": "light"
     },
     "output_type": "display_data"
    }
   ],
   "source": [
    "plt.figure(figsize=(10,9))\n",
    "plt.scatter(plot_testing[:,0], plot_testing[:,1], alpha = 0.1, c = y_test.ravel())\n",
    "contours = plt.contour(x_grid,y_grid,probability_contour)\n",
    "plt.title('Probability Contours')\n",
    "plt.clabel(contours, inline = True );"
   ]
  }
 ],
 "metadata": {
  "kernelspec": {
   "display_name": "Python 3",
   "language": "python",
   "name": "python3"
  },
  "language_info": {
   "codemirror_mode": {
    "name": "ipython",
    "version": 3
   },
   "file_extension": ".py",
   "mimetype": "text/x-python",
   "name": "python",
   "nbconvert_exporter": "python",
   "pygments_lexer": "ipython3",
   "version": "3.6.12"
  },
  "papermill": {
   "duration": 163.170852,
   "end_time": "2020-09-09T10:07:00.353190",
   "environment_variables": {},
   "exception": null,
   "input_path": "2020-08-11-NeuralNetwork.ipynb",
   "output_path": "2020-08-11-NeuralNetwork.ipynb",
   "parameters": {},
   "start_time": "2020-09-09T10:04:17.182338",
   "version": "2.1.2"
  }
 },
 "nbformat": 4,
 "nbformat_minor": 4
}