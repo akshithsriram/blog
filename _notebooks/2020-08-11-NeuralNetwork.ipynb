{
 "cells": [
  {
   "cell_type": "markdown",
   "metadata": {
    "papermill": {
     "duration": 0.033186,
     "end_time": "2020-10-13T00:06:43.903721",
     "exception": false,
     "start_time": "2020-10-13T00:06:43.870535",
     "status": "completed"
    },
    "tags": []
   },
   "source": [
    "# \"A Basic Neural Network: Differentiate Hand-Written Digits\"\n",
    "\n",
    "- badges: true\n",
    "- author: Akshith Sriram"
   ]
  },
  {
   "cell_type": "markdown",
   "metadata": {
    "papermill": {
     "duration": 0.025292,
     "end_time": "2020-10-13T00:06:43.953763",
     "exception": false,
     "start_time": "2020-10-13T00:06:43.928471",
     "status": "completed"
    },
    "tags": []
   },
   "source": [
    "### Key Objectives:\n",
    "- Building a neural network that differentiates two hand-written digits 3 and 8.\n",
    "- Comparing the results of this Neural Network (NN) to that of a Logistic Regression (LR) model.\n",
    "\n",
    "### Requirements:\n",
    "- 'Kudzu' : A neural network library that was designed during our course by [Univ.AI](www.univ.ai). \n",
    "- MNIST Database\n",
    "\n",
    "If MNIST is not installed, use the command `!pip install mnist` given below.\n",
    "It can be run both from the command line and Jupyter Notebook."
   ]
  },
  {
   "cell_type": "code",
   "execution_count": 1,
   "metadata": {
    "execution": {
     "iopub.execute_input": "2020-10-13T00:06:44.008754Z",
     "iopub.status.busy": "2020-10-13T00:06:44.007970Z",
     "iopub.status.idle": "2020-10-13T00:06:45.503955Z",
     "shell.execute_reply": "2020-10-13T00:06:45.503431Z"
    },
    "papermill": {
     "duration": 1.525599,
     "end_time": "2020-10-13T00:06:45.504105",
     "exception": false,
     "start_time": "2020-10-13T00:06:43.978506",
     "status": "completed"
    },
    "tags": []
   },
   "outputs": [
    {
     "name": "stdout",
     "output_type": "stream",
     "text": [
      "Collecting mnist\r\n"
     ]
    },
    {
     "name": "stdout",
     "output_type": "stream",
     "text": [
      "  Downloading mnist-0.2.2-py2.py3-none-any.whl (3.5 kB)\r\n",
      "Requirement already satisfied: numpy in /opt/hostedtoolcache/Python/3.6.12/x64/lib/python3.6/site-packages (from mnist) (1.19.2)\r\n"
     ]
    },
    {
     "name": "stdout",
     "output_type": "stream",
     "text": [
      "Installing collected packages: mnist\r\n"
     ]
    },
    {
     "name": "stdout",
     "output_type": "stream",
     "text": [
      "Successfully installed mnist-0.2.2\r\n"
     ]
    }
   ],
   "source": [
    "!pip install mnist "
   ]
  },
  {
   "cell_type": "markdown",
   "metadata": {
    "papermill": {
     "duration": 0.02591,
     "end_time": "2020-10-13T00:06:45.555736",
     "exception": false,
     "start_time": "2020-10-13T00:06:45.529826",
     "status": "completed"
    },
    "tags": []
   },
   "source": [
    "#### Importing necessary libraries"
   ]
  },
  {
   "cell_type": "code",
   "execution_count": 2,
   "metadata": {
    "execution": {
     "iopub.execute_input": "2020-10-13T00:06:45.615128Z",
     "iopub.status.busy": "2020-10-13T00:06:45.614541Z",
     "iopub.status.idle": "2020-10-13T00:06:46.166096Z",
     "shell.execute_reply": "2020-10-13T00:06:46.165123Z"
    },
    "papermill": {
     "duration": 0.583588,
     "end_time": "2020-10-13T00:06:46.166229",
     "exception": false,
     "start_time": "2020-10-13T00:06:45.582641",
     "status": "completed"
    },
    "tags": []
   },
   "outputs": [],
   "source": [
    "%load_ext autoreload\n",
    "%autoreload 2\n",
    "\n",
    "%matplotlib inline\n",
    "import matplotlib.pyplot as plt\n",
    "\n",
    "import numpy as np\n",
    "import pandas as pd"
   ]
  },
  {
   "cell_type": "markdown",
   "metadata": {
    "papermill": {
     "duration": 0.782339,
     "end_time": "2020-10-13T00:06:46.977518",
     "exception": false,
     "start_time": "2020-10-13T00:06:46.195179",
     "status": "completed"
    },
    "tags": []
   },
   "source": [
    "### Preparing the Data"
   ]
  },
  {
   "cell_type": "code",
   "execution_count": 3,
   "metadata": {
    "execution": {
     "iopub.execute_input": "2020-10-13T00:06:47.368574Z",
     "iopub.status.busy": "2020-10-13T00:06:47.367623Z",
     "iopub.status.idle": "2020-10-13T00:06:47.379243Z",
     "shell.execute_reply": "2020-10-13T00:06:47.379716Z"
    },
    "papermill": {
     "duration": 0.041528,
     "end_time": "2020-10-13T00:06:47.379855",
     "exception": false,
     "start_time": "2020-10-13T00:06:47.338327",
     "status": "completed"
    },
    "tags": []
   },
   "outputs": [],
   "source": [
    "import mnist"
   ]
  },
  {
   "cell_type": "code",
   "execution_count": 4,
   "metadata": {
    "execution": {
     "iopub.execute_input": "2020-10-13T00:06:47.453637Z",
     "iopub.status.busy": "2020-10-13T00:06:47.447974Z",
     "iopub.status.idle": "2020-10-13T00:06:48.131154Z",
     "shell.execute_reply": "2020-10-13T00:06:48.130312Z"
    },
    "papermill": {
     "duration": 0.724247,
     "end_time": "2020-10-13T00:06:48.131329",
     "exception": false,
     "start_time": "2020-10-13T00:06:47.407082",
     "status": "completed"
    },
    "tags": []
   },
   "outputs": [],
   "source": [
    "train_images = mnist.train_images()\n",
    "train_labels = mnist.train_labels()"
   ]
  },
  {
   "cell_type": "code",
   "execution_count": 5,
   "metadata": {
    "execution": {
     "iopub.execute_input": "2020-10-13T00:06:48.186675Z",
     "iopub.status.busy": "2020-10-13T00:06:48.186015Z",
     "iopub.status.idle": "2020-10-13T00:06:48.199828Z",
     "shell.execute_reply": "2020-10-13T00:06:48.200409Z"
    },
    "papermill": {
     "duration": 0.042775,
     "end_time": "2020-10-13T00:06:48.200554",
     "exception": false,
     "start_time": "2020-10-13T00:06:48.157779",
     "status": "completed"
    },
    "tags": []
   },
   "outputs": [
    {
     "data": {
      "text/plain": [
       "((60000, 28, 28), (60000,))"
      ]
     },
     "execution_count": 5,
     "metadata": {},
     "output_type": "execute_result"
    }
   ],
   "source": [
    "train_images.shape, train_labels.shape"
   ]
  },
  {
   "cell_type": "code",
   "execution_count": 6,
   "metadata": {
    "execution": {
     "iopub.execute_input": "2020-10-13T00:06:48.259393Z",
     "iopub.status.busy": "2020-10-13T00:06:48.258753Z",
     "iopub.status.idle": "2020-10-13T00:06:48.495353Z",
     "shell.execute_reply": "2020-10-13T00:06:48.495889Z"
    },
    "papermill": {
     "duration": 0.269388,
     "end_time": "2020-10-13T00:06:48.496044",
     "exception": false,
     "start_time": "2020-10-13T00:06:48.226656",
     "status": "completed"
    },
    "tags": []
   },
   "outputs": [],
   "source": [
    "test_images = mnist.test_images()\n",
    "test_labels = mnist.test_labels()"
   ]
  },
  {
   "cell_type": "code",
   "execution_count": 7,
   "metadata": {
    "execution": {
     "iopub.execute_input": "2020-10-13T00:06:48.556490Z",
     "iopub.status.busy": "2020-10-13T00:06:48.555850Z",
     "iopub.status.idle": "2020-10-13T00:06:48.568695Z",
     "shell.execute_reply": "2020-10-13T00:06:48.568036Z"
    },
    "papermill": {
     "duration": 0.046163,
     "end_time": "2020-10-13T00:06:48.568830",
     "exception": false,
     "start_time": "2020-10-13T00:06:48.522667",
     "status": "completed"
    },
    "tags": []
   },
   "outputs": [
    {
     "data": {
      "text/plain": [
       "((10000, 28, 28), (10000,))"
      ]
     },
     "execution_count": 7,
     "metadata": {},
     "output_type": "execute_result"
    }
   ],
   "source": [
    "test_images.shape, test_labels.shape"
   ]
  },
  {
   "cell_type": "code",
   "execution_count": 8,
   "metadata": {
    "execution": {
     "iopub.execute_input": "2020-10-13T00:06:48.655471Z",
     "iopub.status.busy": "2020-10-13T00:06:48.633916Z",
     "iopub.status.idle": "2020-10-13T00:06:48.792026Z",
     "shell.execute_reply": "2020-10-13T00:06:48.792551Z"
    },
    "papermill": {
     "duration": 0.196117,
     "end_time": "2020-10-13T00:06:48.792719",
     "exception": false,
     "start_time": "2020-10-13T00:06:48.596602",
     "status": "completed"
    },
    "tags": []
   },
   "outputs": [
    {
     "name": "stdout",
     "output_type": "stream",
     "text": [
      "2\n"
     ]
    },
    {
     "data": {
      "text/plain": [
       "<matplotlib.image.AxesImage at 0x7f586bb84a20>"
      ]
     },
     "execution_count": 8,
     "metadata": {},
     "output_type": "execute_result"
    },
    {
     "data": {
      "image/png": "[encoded data removed]",
      "text/plain": [
       "<Figure size 432x288 with 1 Axes>"
      ]
     },
     "metadata": {
      "needs_background": "light"
     },
     "output_type": "display_data"
    }
   ],
   "source": [
    "image_index = 7776 # You may select anything up to 60,000\n",
    "print(train_labels[image_index]) \n",
    "plt.imshow(train_images[image_index], cmap='Greys')"
   ]
  },
  {
   "cell_type": "markdown",
   "metadata": {
    "papermill": {
     "duration": 0.029578,
     "end_time": "2020-10-13T00:06:48.852651",
     "exception": false,
     "start_time": "2020-10-13T00:06:48.823073",
     "status": "completed"
    },
    "tags": []
   },
   "source": [
    "## Filter data to get 3 and 8 out"
   ]
  },
  {
   "cell_type": "code",
   "execution_count": 9,
   "metadata": {
    "execution": {
     "iopub.execute_input": "2020-10-13T00:06:48.917667Z",
     "iopub.status.busy": "2020-10-13T00:06:48.916695Z",
     "iopub.status.idle": "2020-10-13T00:06:48.938289Z",
     "shell.execute_reply": "2020-10-13T00:06:48.937694Z"
    },
    "papermill": {
     "duration": 0.057211,
     "end_time": "2020-10-13T00:06:48.938436",
     "exception": false,
     "start_time": "2020-10-13T00:06:48.881225",
     "status": "completed"
    },
    "tags": []
   },
   "outputs": [],
   "source": [
    "train_filter = np.where((train_labels == 3 ) | (train_labels == 8))\n",
    "test_filter = np.where((test_labels == 3) | (test_labels == 8))\n",
    "X_train, y_train = train_images[train_filter], train_labels[train_filter]\n",
    "X_test, y_test = test_images[test_filter], test_labels[test_filter]"
   ]
  },
  {
   "cell_type": "markdown",
   "metadata": {
    "papermill": {
     "duration": 0.030862,
     "end_time": "2020-10-13T00:06:49.006920",
     "exception": false,
     "start_time": "2020-10-13T00:06:48.976058",
     "status": "completed"
    },
    "tags": []
   },
   "source": [
    "We normalize the pixel values in the 0 to 1 range"
   ]
  },
  {
   "cell_type": "code",
   "execution_count": 10,
   "metadata": {
    "execution": {
     "iopub.execute_input": "2020-10-13T00:06:49.082829Z",
     "iopub.status.busy": "2020-10-13T00:06:49.082167Z",
     "iopub.status.idle": "2020-10-13T00:06:49.137457Z",
     "shell.execute_reply": "2020-10-13T00:06:49.136885Z"
    },
    "papermill": {
     "duration": 0.097664,
     "end_time": "2020-10-13T00:06:49.137616",
     "exception": false,
     "start_time": "2020-10-13T00:06:49.039952",
     "status": "completed"
    },
    "tags": []
   },
   "outputs": [],
   "source": [
    "X_train = X_train/255.\n",
    "X_test = X_test/255."
   ]
  },
  {
   "cell_type": "markdown",
   "metadata": {
    "papermill": {
     "duration": 0.030671,
     "end_time": "2020-10-13T00:06:49.198949",
     "exception": false,
     "start_time": "2020-10-13T00:06:49.168278",
     "status": "completed"
    },
    "tags": []
   },
   "source": [
    "Setup the labels as 1 (when the digit is 3) and 0 (when the digit is 8)"
   ]
  },
  {
   "cell_type": "code",
   "execution_count": 11,
   "metadata": {
    "execution": {
     "iopub.execute_input": "2020-10-13T00:06:49.283924Z",
     "iopub.status.busy": "2020-10-13T00:06:49.283161Z",
     "iopub.status.idle": "2020-10-13T00:06:49.285034Z",
     "shell.execute_reply": "2020-10-13T00:06:49.284531Z"
    },
    "papermill": {
     "duration": 0.055165,
     "end_time": "2020-10-13T00:06:49.285174",
     "exception": false,
     "start_time": "2020-10-13T00:06:49.230009",
     "status": "completed"
    },
    "tags": []
   },
   "outputs": [],
   "source": [
    "y_train = 1*(y_train==3)\n",
    "y_test = 1*(y_test==3)"
   ]
  },
  {
   "cell_type": "code",
   "execution_count": 12,
   "metadata": {
    "execution": {
     "iopub.execute_input": "2020-10-13T00:06:49.362719Z",
     "iopub.status.busy": "2020-10-13T00:06:49.362057Z",
     "iopub.status.idle": "2020-10-13T00:06:49.370701Z",
     "shell.execute_reply": "2020-10-13T00:06:49.371252Z"
    },
    "papermill": {
     "duration": 0.055223,
     "end_time": "2020-10-13T00:06:49.371406",
     "exception": false,
     "start_time": "2020-10-13T00:06:49.316183",
     "status": "completed"
    },
    "tags": []
   },
   "outputs": [
    {
     "data": {
      "text/plain": [
       "((11982, 28, 28), (1984, 28, 28))"
      ]
     },
     "execution_count": 12,
     "metadata": {},
     "output_type": "execute_result"
    }
   ],
   "source": [
    "X_train.shape, X_test.shape"
   ]
  },
  {
   "cell_type": "markdown",
   "metadata": {
    "papermill": {
     "duration": 0.030469,
     "end_time": "2020-10-13T00:06:49.431861",
     "exception": false,
     "start_time": "2020-10-13T00:06:49.401392",
     "status": "completed"
    },
    "tags": []
   },
   "source": [
    "### Reshape the input data to create a linear array"
   ]
  },
  {
   "cell_type": "code",
   "execution_count": 13,
   "metadata": {
    "execution": {
     "iopub.execute_input": "2020-10-13T00:06:49.499759Z",
     "iopub.status.busy": "2020-10-13T00:06:49.499088Z",
     "iopub.status.idle": "2020-10-13T00:06:49.511465Z",
     "shell.execute_reply": "2020-10-13T00:06:49.511968Z"
    },
    "papermill": {
     "duration": 0.049281,
     "end_time": "2020-10-13T00:06:49.512120",
     "exception": false,
     "start_time": "2020-10-13T00:06:49.462839",
     "status": "completed"
    },
    "tags": []
   },
   "outputs": [
    {
     "data": {
      "text/plain": [
       "((11982, 784), (1984, 784))"
      ]
     },
     "execution_count": 13,
     "metadata": {},
     "output_type": "execute_result"
    }
   ],
   "source": [
    "X_train = X_train.reshape(X_train.shape[0], -1)\n",
    "X_test = X_test.reshape(X_test.shape[0], -1)\n",
    "X_train.shape, X_test.shape"
   ]
  },
  {
   "cell_type": "markdown",
   "metadata": {
    "papermill": {
     "duration": 0.029331,
     "end_time": "2020-10-13T00:06:49.571917",
     "exception": false,
     "start_time": "2020-10-13T00:06:49.542586",
     "status": "completed"
    },
    "tags": []
   },
   "source": [
    "### Importing appropriate functions from 'Kudzu'"
   ]
  },
  {
   "cell_type": "code",
   "execution_count": 14,
   "metadata": {
    "execution": {
     "iopub.execute_input": "2020-10-13T00:06:49.635418Z",
     "iopub.status.busy": "2020-10-13T00:06:49.634723Z",
     "iopub.status.idle": "2020-10-13T00:06:49.653458Z",
     "shell.execute_reply": "2020-10-13T00:06:49.652969Z"
    },
    "papermill": {
     "duration": 0.052896,
     "end_time": "2020-10-13T00:06:49.653576",
     "exception": false,
     "start_time": "2020-10-13T00:06:49.600680",
     "status": "completed"
    },
    "tags": []
   },
   "outputs": [],
   "source": [
    "from kudzu.layer import Sigmoid\n",
    "from kudzu.layer import Relu\n",
    "from kudzu.layer import Affine, Sigmoid\n",
    "\n",
    "from kudzu.model import Model\n",
    "from kudzu.train import Learner\n",
    "from kudzu.optim import GD\n",
    "from kudzu.data import Data, Dataloader, Sampler\n",
    "\n",
    "from kudzu.callbacks import AccCallback\n",
    "from kudzu.callbacks import ClfCallback\n",
    "\n",
    "from kudzu.loss import MSE"
   ]
  },
  {
   "cell_type": "markdown",
   "metadata": {
    "papermill": {
     "duration": 0.029221,
     "end_time": "2020-10-13T00:06:49.711122",
     "exception": false,
     "start_time": "2020-10-13T00:06:49.681901",
     "status": "completed"
    },
    "tags": []
   },
   "source": [
    "### Let us create a `Config` class, to store important parameters. \n",
    "This class essentially plays the role of a dictionary."
   ]
  },
  {
   "cell_type": "code",
   "execution_count": 15,
   "metadata": {
    "execution": {
     "iopub.execute_input": "2020-10-13T00:06:49.772613Z",
     "iopub.status.busy": "2020-10-13T00:06:49.771970Z",
     "iopub.status.idle": "2020-10-13T00:06:49.784182Z",
     "shell.execute_reply": "2020-10-13T00:06:49.784653Z"
    },
    "papermill": {
     "duration": 0.045248,
     "end_time": "2020-10-13T00:06:49.784786",
     "exception": false,
     "start_time": "2020-10-13T00:06:49.739538",
     "status": "completed"
    },
    "tags": []
   },
   "outputs": [],
   "source": [
    "class Config:\n",
    "    pass\n",
    "config = Config()\n",
    "config.lr = 0.001\n",
    "config.num_epochs = 251\n",
    "config.bs = 50"
   ]
  },
  {
   "cell_type": "markdown",
   "metadata": {
    "papermill": {
     "duration": 0.028347,
     "end_time": "2020-10-13T00:06:49.840695",
     "exception": false,
     "start_time": "2020-10-13T00:06:49.812348",
     "status": "completed"
    },
    "tags": []
   },
   "source": [
    "### Initializing data to the variables"
   ]
  },
  {
   "cell_type": "code",
   "execution_count": 16,
   "metadata": {
    "execution": {
     "iopub.execute_input": "2020-10-13T00:06:49.915857Z",
     "iopub.status.busy": "2020-10-13T00:06:49.915182Z",
     "iopub.status.idle": "2020-10-13T00:06:49.921163Z",
     "shell.execute_reply": "2020-10-13T00:06:49.920687Z"
    },
    "papermill": {
     "duration": 0.051701,
     "end_time": "2020-10-13T00:06:49.921289",
     "exception": false,
     "start_time": "2020-10-13T00:06:49.869588",
     "status": "completed"
    },
    "tags": []
   },
   "outputs": [],
   "source": [
    "data = Data(X_train, y_train.reshape(-1,1))\n",
    "sampler = Sampler(data, config.bs, shuffle=True)\n",
    "\n",
    "dl = Dataloader(data, sampler)\n",
    "\n",
    "opt = GD(config.lr)\n",
    "loss = MSE()"
   ]
  },
  {
   "cell_type": "code",
   "execution_count": 17,
   "metadata": {
    "execution": {
     "iopub.execute_input": "2020-10-13T00:06:49.981841Z",
     "iopub.status.busy": "2020-10-13T00:06:49.981258Z",
     "iopub.status.idle": "2020-10-13T00:06:49.992517Z",
     "shell.execute_reply": "2020-10-13T00:06:49.993067Z"
    },
    "papermill": {
     "duration": 0.043764,
     "end_time": "2020-10-13T00:06:49.993210",
     "exception": false,
     "start_time": "2020-10-13T00:06:49.949446",
     "status": "completed"
    },
    "tags": []
   },
   "outputs": [],
   "source": [
    "training_xdata = X_train\n",
    "testing_xdata = X_test\n",
    "training_ydata = y_train.reshape(-1,1)\n",
    "testing_ydata = y_test.reshape(-1,1)"
   ]
  },
  {
   "cell_type": "markdown",
   "metadata": {
    "papermill": {
     "duration": 0.029206,
     "end_time": "2020-10-13T00:06:50.051901",
     "exception": false,
     "start_time": "2020-10-13T00:06:50.022695",
     "status": "completed"
    },
    "tags": []
   },
   "source": [
    "### Running Models with the Training data\n",
    "Details about the network layers:\n",
    "- A first affine layer has 784 inputs and does 100 affine transforms. These are followed by a Relu\n",
    "- A second affine layer has 100 inputs from the 100 activations of the past layer, and does 100 affine transforms. These are followed by a Relu\n",
    "- A third affine layer has 100 activations and does 2 affine transformations to create an embedding for visualization. There is no non-linearity here.\n",
    "- A final \"logistic regression\" which has an affine transform from 2 inputs to 1 output, which is squeezed through a sigmoid.\n",
    "\n",
    "Help taken from Anshuman's Notebook."
   ]
  },
  {
   "cell_type": "code",
   "execution_count": 18,
   "metadata": {
    "execution": {
     "iopub.execute_input": "2020-10-13T00:06:50.137291Z",
     "iopub.status.busy": "2020-10-13T00:06:50.129921Z",
     "iopub.status.idle": "2020-10-13T00:06:50.142004Z",
     "shell.execute_reply": "2020-10-13T00:06:50.142550Z"
    },
    "papermill": {
     "duration": 0.054095,
     "end_time": "2020-10-13T00:06:50.142685",
     "exception": false,
     "start_time": "2020-10-13T00:06:50.088590",
     "status": "completed"
    },
    "tags": []
   },
   "outputs": [],
   "source": [
    "# layers for the Neural Network\n",
    "layers = [Affine(\"first\", 784, 100), Relu(\"first\"), Affine(\"second\", 100, 100), Relu(\"second\"), Affine(\"third\", 100, 2), Affine(\"final\", 2, 1), Sigmoid(\"final\")]\n",
    "model_nn = Model(layers)\n",
    "\n",
    "# layers for the Logistic Regression\n",
    "layers_lr = [Affine(\"logits\", 784, 1), Sigmoid(\"sigmoid\")]\n",
    "model_lr = Model(layers_lr)"
   ]
  },
  {
   "cell_type": "code",
   "execution_count": 19,
   "metadata": {
    "execution": {
     "iopub.execute_input": "2020-10-13T00:06:50.204711Z",
     "iopub.status.busy": "2020-10-13T00:06:50.204066Z",
     "iopub.status.idle": "2020-10-13T00:06:50.216284Z",
     "shell.execute_reply": "2020-10-13T00:06:50.215758Z"
    },
    "papermill": {
     "duration": 0.044309,
     "end_time": "2020-10-13T00:06:50.216416",
     "exception": false,
     "start_time": "2020-10-13T00:06:50.172107",
     "status": "completed"
    },
    "tags": []
   },
   "outputs": [],
   "source": [
    "# suffix _nn stands for Neural Network.\n",
    "learner_nn = Learner(loss, model_nn, opt, config.num_epochs)\n",
    "acc_nn = ClfCallback(learner_nn, config.bs, training_xdata , testing_xdata, training_ydata, testing_ydata)\n",
    "learner_nn.set_callbacks([acc_nn])"
   ]
  },
  {
   "cell_type": "code",
   "execution_count": 20,
   "metadata": {
    "execution": {
     "iopub.execute_input": "2020-10-13T00:06:50.294669Z",
     "iopub.status.busy": "2020-10-13T00:06:50.288531Z",
     "iopub.status.idle": "2020-10-13T00:08:48.854950Z",
     "shell.execute_reply": "2020-10-13T00:08:48.854120Z"
    },
    "papermill": {
     "duration": 118.608375,
     "end_time": "2020-10-13T00:08:48.855085",
     "exception": false,
     "start_time": "2020-10-13T00:06:50.246710",
     "status": "completed"
    },
    "tags": []
   },
   "outputs": [
    {
     "name": "stdout",
     "output_type": "stream",
     "text": [
      "====== Neural Network ======\n"
     ]
    },
    {
     "name": "stdout",
     "output_type": "stream",
     "text": [
      "Epoch 0, Loss 0.2538\n",
      "Training Accuracy: 0.5348, Testing Accuracy: 0.5287\n",
      "\n"
     ]
    },
    {
     "name": "stdout",
     "output_type": "stream",
     "text": [
      "Epoch 10, Loss 0.16\n",
      "Training Accuracy: 0.8918, Testing Accuracy: 0.9128\n",
      "\n"
     ]
    },
    {
     "name": "stdout",
     "output_type": "stream",
     "text": [
      "Epoch 20, Loss 0.0784\n",
      "Training Accuracy: 0.9218, Testing Accuracy: 0.9365\n",
      "\n"
     ]
    },
    {
     "name": "stdout",
     "output_type": "stream",
     "text": [
      "Epoch 30, Loss 0.0543\n",
      "Training Accuracy: 0.9397, Testing Accuracy: 0.9501\n",
      "\n"
     ]
    },
    {
     "name": "stdout",
     "output_type": "stream",
     "text": [
      "Epoch 40, Loss 0.0445\n",
      "Training Accuracy: 0.9491, Testing Accuracy: 0.9577\n",
      "\n"
     ]
    },
    {
     "name": "stdout",
     "output_type": "stream",
     "text": [
      "Epoch 50, Loss 0.0392\n",
      "Training Accuracy: 0.9529, Testing Accuracy: 0.9617\n",
      "\n"
     ]
    },
    {
     "name": "stdout",
     "output_type": "stream",
     "text": [
      "Epoch 60, Loss 0.0358\n",
      "Training Accuracy: 0.9572, Testing Accuracy: 0.9642\n",
      "\n"
     ]
    },
    {
     "name": "stdout",
     "output_type": "stream",
     "text": [
      "Epoch 70, Loss 0.0334\n",
      "Training Accuracy: 0.9599, Testing Accuracy: 0.9652\n",
      "\n"
     ]
    },
    {
     "name": "stdout",
     "output_type": "stream",
     "text": [
      "Epoch 80, Loss 0.0315\n",
      "Training Accuracy: 0.9625, Testing Accuracy: 0.9677\n",
      "\n"
     ]
    },
    {
     "name": "stdout",
     "output_type": "stream",
     "text": [
      "Epoch 90, Loss 0.03\n",
      "Training Accuracy: 0.9646, Testing Accuracy: 0.9677\n",
      "\n"
     ]
    },
    {
     "name": "stdout",
     "output_type": "stream",
     "text": [
      "Epoch 100, Loss 0.0288\n",
      "Training Accuracy: 0.9664, Testing Accuracy: 0.9688\n",
      "\n"
     ]
    },
    {
     "name": "stdout",
     "output_type": "stream",
     "text": [
      "Epoch 110, Loss 0.0277\n",
      "Training Accuracy: 0.9684, Testing Accuracy: 0.9698\n",
      "\n"
     ]
    },
    {
     "name": "stdout",
     "output_type": "stream",
     "text": [
      "Epoch 120, Loss 0.0267\n",
      "Training Accuracy: 0.9690, Testing Accuracy: 0.9698\n",
      "\n"
     ]
    },
    {
     "name": "stdout",
     "output_type": "stream",
     "text": [
      "Epoch 130, Loss 0.0259\n",
      "Training Accuracy: 0.9701, Testing Accuracy: 0.9708\n",
      "\n"
     ]
    },
    {
     "name": "stdout",
     "output_type": "stream",
     "text": [
      "Epoch 140, Loss 0.0251\n",
      "Training Accuracy: 0.9715, Testing Accuracy: 0.9708\n",
      "\n"
     ]
    },
    {
     "name": "stdout",
     "output_type": "stream",
     "text": [
      "Epoch 150, Loss 0.0244\n",
      "Training Accuracy: 0.9726, Testing Accuracy: 0.9723\n",
      "\n"
     ]
    },
    {
     "name": "stdout",
     "output_type": "stream",
     "text": [
      "Epoch 160, Loss 0.0238\n",
      "Training Accuracy: 0.9733, Testing Accuracy: 0.9713\n",
      "\n"
     ]
    },
    {
     "name": "stdout",
     "output_type": "stream",
     "text": [
      "Epoch 170, Loss 0.0232\n",
      "Training Accuracy: 0.9741, Testing Accuracy: 0.9718\n",
      "\n"
     ]
    },
    {
     "name": "stdout",
     "output_type": "stream",
     "text": [
      "Epoch 180, Loss 0.0227\n",
      "Training Accuracy: 0.9745, Testing Accuracy: 0.9723\n",
      "\n"
     ]
    },
    {
     "name": "stdout",
     "output_type": "stream",
     "text": [
      "Epoch 190, Loss 0.0221\n",
      "Training Accuracy: 0.9750, Testing Accuracy: 0.9718\n",
      "\n"
     ]
    },
    {
     "name": "stdout",
     "output_type": "stream",
     "text": [
      "Epoch 200, Loss 0.0216\n",
      "Training Accuracy: 0.9756, Testing Accuracy: 0.9723\n",
      "\n"
     ]
    },
    {
     "name": "stdout",
     "output_type": "stream",
     "text": [
      "Epoch 210, Loss 0.0212\n",
      "Training Accuracy: 0.9762, Testing Accuracy: 0.9723\n",
      "\n"
     ]
    },
    {
     "name": "stdout",
     "output_type": "stream",
     "text": [
      "Epoch 220, Loss 0.0207\n",
      "Training Accuracy: 0.9768, Testing Accuracy: 0.9723\n",
      "\n"
     ]
    },
    {
     "name": "stdout",
     "output_type": "stream",
     "text": [
      "Epoch 230, Loss 0.0203\n",
      "Training Accuracy: 0.9774, Testing Accuracy: 0.9723\n",
      "\n"
     ]
    },
    {
     "name": "stdout",
     "output_type": "stream",
     "text": [
      "Epoch 240, Loss 0.0199\n",
      "Training Accuracy: 0.9783, Testing Accuracy: 0.9723\n",
      "\n"
     ]
    },
    {
     "name": "stdout",
     "output_type": "stream",
     "text": [
      "Epoch 250, Loss 0.0195\n",
      "Training Accuracy: 0.9785, Testing Accuracy: 0.9723\n",
      "\n"
     ]
    },
    {
     "data": {
      "text/plain": [
       "0.0012300719220751217"
      ]
     },
     "execution_count": 20,
     "metadata": {},
     "output_type": "execute_result"
    }
   ],
   "source": [
    "print(\"====== Neural Network ======\")\n",
    "learner_nn.train_loop(dl)"
   ]
  },
  {
   "cell_type": "markdown",
   "metadata": {
    "papermill": {
     "duration": 0.036668,
     "end_time": "2020-10-13T00:08:48.930405",
     "exception": false,
     "start_time": "2020-10-13T00:08:48.893737",
     "status": "completed"
    },
    "tags": []
   },
   "source": [
    "### Logistic Regression based Implementation."
   ]
  },
  {
   "cell_type": "code",
   "execution_count": 21,
   "metadata": {
    "execution": {
     "iopub.execute_input": "2020-10-13T00:08:49.024188Z",
     "iopub.status.busy": "2020-10-13T00:08:49.023575Z",
     "iopub.status.idle": "2020-10-13T00:08:49.033663Z",
     "shell.execute_reply": "2020-10-13T00:08:49.033156Z"
    },
    "papermill": {
     "duration": 0.062068,
     "end_time": "2020-10-13T00:08:49.033784",
     "exception": false,
     "start_time": "2020-10-13T00:08:48.971716",
     "status": "completed"
    },
    "tags": []
   },
   "outputs": [],
   "source": [
    "learner_lr = Learner(loss, model_lr, opt, config.num_epochs)\n",
    "acc_lr = ClfCallback(learner_lr, config.bs, training_xdata , testing_xdata, training_ydata, testing_ydata)\n",
    "learner_lr.set_callbacks([acc_lr])"
   ]
  },
  {
   "cell_type": "code",
   "execution_count": 22,
   "metadata": {
    "execution": {
     "iopub.execute_input": "2020-10-13T00:08:49.124714Z",
     "iopub.status.busy": "2020-10-13T00:08:49.124067Z",
     "iopub.status.idle": "2020-10-13T00:09:07.238722Z",
     "shell.execute_reply": "2020-10-13T00:09:07.239523Z"
    },
    "papermill": {
     "duration": 18.168788,
     "end_time": "2020-10-13T00:09:07.239682",
     "exception": false,
     "start_time": "2020-10-13T00:08:49.070894",
     "status": "completed"
    },
    "tags": []
   },
   "outputs": [
    {
     "name": "stdout",
     "output_type": "stream",
     "text": [
      "====== Logistic Regression ======\n",
      "Epoch 0, Loss 0.2165\n",
      "Training Accuracy: 0.7409, Testing Accuracy: 0.7555\n",
      "\n"
     ]
    },
    {
     "name": "stdout",
     "output_type": "stream",
     "text": [
      "Epoch 10, Loss 0.103\n",
      "Training Accuracy: 0.9028, Testing Accuracy: 0.9173\n",
      "\n"
     ]
    },
    {
     "name": "stdout",
     "output_type": "stream",
     "text": [
      "Epoch 20, Loss 0.08\n",
      "Training Accuracy: 0.9222, Testing Accuracy: 0.9340\n",
      "\n"
     ]
    },
    {
     "name": "stdout",
     "output_type": "stream",
     "text": [
      "Epoch 30, Loss 0.069\n",
      "Training Accuracy: 0.9321, Testing Accuracy: 0.9420\n",
      "\n"
     ]
    },
    {
     "name": "stdout",
     "output_type": "stream",
     "text": [
      "Epoch 40, Loss 0.0624\n",
      "Training Accuracy: 0.9378, Testing Accuracy: 0.9501\n",
      "\n"
     ]
    },
    {
     "name": "stdout",
     "output_type": "stream",
     "text": [
      "Epoch 50, Loss 0.0578\n",
      "Training Accuracy: 0.9423, Testing Accuracy: 0.9567\n",
      "\n"
     ]
    },
    {
     "name": "stdout",
     "output_type": "stream",
     "text": [
      "Epoch 60, Loss 0.0544\n",
      "Training Accuracy: 0.9448, Testing Accuracy: 0.9572\n",
      "\n"
     ]
    },
    {
     "name": "stdout",
     "output_type": "stream",
     "text": [
      "Epoch 70, Loss 0.0517\n",
      "Training Accuracy: 0.9469, Testing Accuracy: 0.9577\n",
      "\n"
     ]
    },
    {
     "name": "stdout",
     "output_type": "stream",
     "text": [
      "Epoch 80, Loss 0.0496\n",
      "Training Accuracy: 0.9491, Testing Accuracy: 0.9592\n",
      "\n"
     ]
    },
    {
     "name": "stdout",
     "output_type": "stream",
     "text": [
      "Epoch 90, Loss 0.0479\n",
      "Training Accuracy: 0.9508, Testing Accuracy: 0.9617\n",
      "\n"
     ]
    },
    {
     "name": "stdout",
     "output_type": "stream",
     "text": [
      "Epoch 100, Loss 0.0465\n",
      "Training Accuracy: 0.9519, Testing Accuracy: 0.9622\n",
      "\n"
     ]
    },
    {
     "name": "stdout",
     "output_type": "stream",
     "text": [
      "Epoch 110, Loss 0.0452\n",
      "Training Accuracy: 0.9530, Testing Accuracy: 0.9622\n",
      "\n"
     ]
    },
    {
     "name": "stdout",
     "output_type": "stream",
     "text": [
      "Epoch 120, Loss 0.0441\n",
      "Training Accuracy: 0.9538, Testing Accuracy: 0.9632\n",
      "\n"
     ]
    },
    {
     "name": "stdout",
     "output_type": "stream",
     "text": [
      "Epoch 130, Loss 0.0432\n",
      "Training Accuracy: 0.9544, Testing Accuracy: 0.9637\n",
      "\n"
     ]
    },
    {
     "name": "stdout",
     "output_type": "stream",
     "text": [
      "Epoch 140, Loss 0.0423\n",
      "Training Accuracy: 0.9555, Testing Accuracy: 0.9642\n",
      "\n"
     ]
    },
    {
     "name": "stdout",
     "output_type": "stream",
     "text": [
      "Epoch 150, Loss 0.0416\n",
      "Training Accuracy: 0.9559, Testing Accuracy: 0.9657\n",
      "\n"
     ]
    },
    {
     "name": "stdout",
     "output_type": "stream",
     "text": [
      "Epoch 160, Loss 0.0409\n",
      "Training Accuracy: 0.9569, Testing Accuracy: 0.9667\n",
      "\n"
     ]
    },
    {
     "name": "stdout",
     "output_type": "stream",
     "text": [
      "Epoch 170, Loss 0.0402\n",
      "Training Accuracy: 0.9576, Testing Accuracy: 0.9667\n",
      "\n"
     ]
    },
    {
     "name": "stdout",
     "output_type": "stream",
     "text": [
      "Epoch 180, Loss 0.0397\n",
      "Training Accuracy: 0.9581, Testing Accuracy: 0.9672\n",
      "\n"
     ]
    },
    {
     "name": "stdout",
     "output_type": "stream",
     "text": [
      "Epoch 190, Loss 0.0391\n",
      "Training Accuracy: 0.9586, Testing Accuracy: 0.9677\n",
      "\n"
     ]
    },
    {
     "name": "stdout",
     "output_type": "stream",
     "text": [
      "Epoch 200, Loss 0.0387\n",
      "Training Accuracy: 0.9592, Testing Accuracy: 0.9677\n",
      "\n"
     ]
    },
    {
     "name": "stdout",
     "output_type": "stream",
     "text": [
      "Epoch 210, Loss 0.0382\n",
      "Training Accuracy: 0.9596, Testing Accuracy: 0.9677\n",
      "\n"
     ]
    },
    {
     "name": "stdout",
     "output_type": "stream",
     "text": [
      "Epoch 220, Loss 0.0378\n",
      "Training Accuracy: 0.9602, Testing Accuracy: 0.9677\n",
      "\n"
     ]
    },
    {
     "name": "stdout",
     "output_type": "stream",
     "text": [
      "Epoch 230, Loss 0.0374\n",
      "Training Accuracy: 0.9605, Testing Accuracy: 0.9677\n",
      "\n"
     ]
    },
    {
     "name": "stdout",
     "output_type": "stream",
     "text": [
      "Epoch 240, Loss 0.037\n",
      "Training Accuracy: 0.9610, Testing Accuracy: 0.9677\n",
      "\n"
     ]
    },
    {
     "name": "stdout",
     "output_type": "stream",
     "text": [
      "Epoch 250, Loss 0.0367\n",
      "Training Accuracy: 0.9614, Testing Accuracy: 0.9677\n",
      "\n"
     ]
    },
    {
     "data": {
      "text/plain": [
       "0.035629316654840024"
      ]
     },
     "execution_count": 22,
     "metadata": {},
     "output_type": "execute_result"
    }
   ],
   "source": [
    "print(\"====== Logistic Regression ======\")\n",
    "learner_lr.train_loop(dl)"
   ]
  },
  {
   "cell_type": "markdown",
   "metadata": {
    "papermill": {
     "duration": 0.047409,
     "end_time": "2020-10-13T00:09:07.333666",
     "exception": false,
     "start_time": "2020-10-13T00:09:07.286257",
     "status": "completed"
    },
    "tags": []
   },
   "source": [
    "### Comparing results of NN and LR"
   ]
  },
  {
   "cell_type": "code",
   "execution_count": 23,
   "metadata": {
    "execution": {
     "iopub.execute_input": "2020-10-13T00:09:07.430571Z",
     "iopub.status.busy": "2020-10-13T00:09:07.429935Z",
     "iopub.status.idle": "2020-10-13T00:09:07.678061Z",
     "shell.execute_reply": "2020-10-13T00:09:07.677584Z"
    },
    "papermill": {
     "duration": 0.298696,
     "end_time": "2020-10-13T00:09:07.678189",
     "exception": false,
     "start_time": "2020-10-13T00:09:07.379493",
     "status": "completed"
    },
    "tags": []
   },
   "outputs": [
    {
     "data": {
      "text/plain": [
       "<matplotlib.legend.Legend at 0x7f58696e90b8>"
      ]
     },
     "execution_count": 23,
     "metadata": {},
     "output_type": "execute_result"
    },
    {
     "data": {
      "image/png": "[encoded data removed]",
      "text/plain": [
       "<Figure size 1080x720 with 1 Axes>"
      ]
     },
     "metadata": {
      "needs_background": "light"
     },
     "output_type": "display_data"
    }
   ],
   "source": [
    "plt.figure(figsize=(15,10))\n",
    "\n",
    "# Neural Network plots\n",
    "plt.plot(acc_nn.accuracies, 'r-', label = \"Training Accuracies - NN\")\n",
    "plt.plot(acc_nn.test_accuracies, 'g-', label = \"Testing Accuracies - NN\")\n",
    "\n",
    "# Logistic Regression plots\n",
    "plt.plot(acc_lr.accuracies, 'k-', label = \"Training Accuracies - LR\")\n",
    "plt.plot(acc_lr.test_accuracies, 'b-', label = \"Testing Accuracies - LR\")\n",
    "\n",
    "plt.ylim(0.8, 1)\n",
    "\n",
    "plt.legend()\n",
    "\n"
   ]
  },
  {
   "cell_type": "markdown",
   "metadata": {
    "papermill": {
     "duration": 0.046405,
     "end_time": "2020-10-13T00:09:07.770919",
     "exception": false,
     "start_time": "2020-10-13T00:09:07.724514",
     "status": "completed"
    },
    "tags": []
   },
   "source": [
    "### From the plot, we can observe the following:\n",
    "- Neural Network achieves higher accuracy than the Logistic Regression model.\n",
    "- This apparently, is because of overfitting, i.e. NN captures more noise than data.\n",
    "- Testing accuracy of NN drops below the Training accuracy at higher epochs. This explains the over-fitting on training data.\n",
    "- Logistic Regression gives a reliable accuracy, without the above mentioned problem.\n"
   ]
  },
  {
   "cell_type": "markdown",
   "metadata": {
    "papermill": {
     "duration": 0.0535,
     "end_time": "2020-10-13T00:09:07.871582",
     "exception": false,
     "start_time": "2020-10-13T00:09:07.818082",
     "status": "completed"
    },
    "tags": []
   },
   "source": [
    "### Moving till the last but one layer (excluding it).\n",
    "#### Plotting the outputs of this layer of the NN."
   ]
  },
  {
   "cell_type": "code",
   "execution_count": 24,
   "metadata": {
    "execution": {
     "iopub.execute_input": "2020-10-13T00:09:07.992751Z",
     "iopub.status.busy": "2020-10-13T00:09:07.986584Z",
     "iopub.status.idle": "2020-10-13T00:09:07.996003Z",
     "shell.execute_reply": "2020-10-13T00:09:07.996487Z"
    },
    "papermill": {
     "duration": 0.069838,
     "end_time": "2020-10-13T00:09:07.996634",
     "exception": false,
     "start_time": "2020-10-13T00:09:07.926796",
     "status": "completed"
    },
    "tags": []
   },
   "outputs": [],
   "source": [
    "model_new = Model(layers[:-2])"
   ]
  },
  {
   "cell_type": "code",
   "execution_count": 25,
   "metadata": {
    "execution": {
     "iopub.execute_input": "2020-10-13T00:09:08.108902Z",
     "iopub.status.busy": "2020-10-13T00:09:08.108034Z",
     "iopub.status.idle": "2020-10-13T00:09:08.129698Z",
     "shell.execute_reply": "2020-10-13T00:09:08.130177Z"
    },
    "papermill": {
     "duration": 0.084082,
     "end_time": "2020-10-13T00:09:08.130335",
     "exception": false,
     "start_time": "2020-10-13T00:09:08.046253",
     "status": "completed"
    },
    "tags": []
   },
   "outputs": [],
   "source": [
    "plot_testing = model_new(testing_xdata)"
   ]
  },
  {
   "cell_type": "code",
   "execution_count": 26,
   "metadata": {
    "execution": {
     "iopub.execute_input": "2020-10-13T00:09:08.239914Z",
     "iopub.status.busy": "2020-10-13T00:09:08.233165Z",
     "iopub.status.idle": "2020-10-13T00:09:08.447347Z",
     "shell.execute_reply": "2020-10-13T00:09:08.446770Z"
    },
    "papermill": {
     "duration": 0.269828,
     "end_time": "2020-10-13T00:09:08.447502",
     "exception": false,
     "start_time": "2020-10-13T00:09:08.177674",
     "status": "completed"
    },
    "tags": []
   },
   "outputs": [
    {
     "data": {
      "text/plain": [
       "Text(0.5, 1.0, 'Outputs')"
      ]
     },
     "execution_count": 26,
     "metadata": {},
     "output_type": "execute_result"
    },
    {
     "data": {
      "image/png": "[encoded data removed]",
      "text/plain": [
       "<Figure size 576x504 with 1 Axes>"
      ]
     },
     "metadata": {
      "needs_background": "light"
     },
     "output_type": "display_data"
    }
   ],
   "source": [
    "plt.figure(figsize=(8,7))\n",
    "plt.scatter(plot_testing[:,0], plot_testing[:,1], alpha = 0.1, c = y_test.ravel());\n",
    "plt.title('Outputs')"
   ]
  },
  {
   "cell_type": "markdown",
   "metadata": {
    "papermill": {
     "duration": 0.050344,
     "end_time": "2020-10-13T00:09:08.548025",
     "exception": false,
     "start_time": "2020-10-13T00:09:08.497681",
     "status": "completed"
    },
    "tags": []
   },
   "source": [
    "### Plotting probability contours"
   ]
  },
  {
   "cell_type": "code",
   "execution_count": 27,
   "metadata": {
    "execution": {
     "iopub.execute_input": "2020-10-13T00:09:08.676798Z",
     "iopub.status.busy": "2020-10-13T00:09:08.675895Z",
     "iopub.status.idle": "2020-10-13T00:09:08.679024Z",
     "shell.execute_reply": "2020-10-13T00:09:08.677861Z"
    },
    "papermill": {
     "duration": 0.078338,
     "end_time": "2020-10-13T00:09:08.679145",
     "exception": false,
     "start_time": "2020-10-13T00:09:08.600807",
     "status": "completed"
    },
    "tags": []
   },
   "outputs": [],
   "source": [
    "model_prob = Model(layers[-2:]) "
   ]
  },
  {
   "cell_type": "code",
   "execution_count": 28,
   "metadata": {
    "execution": {
     "iopub.execute_input": "2020-10-13T00:09:08.792898Z",
     "iopub.status.busy": "2020-10-13T00:09:08.792235Z",
     "iopub.status.idle": "2020-10-13T00:09:08.812788Z",
     "shell.execute_reply": "2020-10-13T00:09:08.812039Z"
    },
    "papermill": {
     "duration": 0.080851,
     "end_time": "2020-10-13T00:09:08.812938",
     "exception": false,
     "start_time": "2020-10-13T00:09:08.732087",
     "status": "completed"
    },
    "tags": []
   },
   "outputs": [],
   "source": [
    "# Adjust the x and y ranges according to the above generated plot.\n",
    "x_range = np.linspace(-4, 1, 100) \n",
    "y_range = np.linspace(-6, 6, 100) \n",
    "x_grid, y_grid = np.meshgrid(x_range, y_range) # x_grid and y_grig are of size 100 X 100\n",
    "\n",
    "# converting x_grid and y_grid to continuous arrays\n",
    "x_grid_flat = np.ravel(x_grid)\n",
    "y_grid_flat = np.ravel(y_grid)\n",
    "\n",
    "# The last layer of the current model takes two columns as input. Hence transpose of np.vstack() is required.\n",
    "X = np.vstack((x_grid_flat, y_grid_flat)).T\n",
    "\n",
    "# x_grid and y_grid are of size 100 x 100\n",
    "probability_contour = model_prob(X).reshape(100,100) "
   ]
  },
  {
   "cell_type": "code",
   "execution_count": 29,
   "metadata": {
    "execution": {
     "iopub.execute_input": "2020-10-13T00:09:08.930157Z",
     "iopub.status.busy": "2020-10-13T00:09:08.929513Z",
     "iopub.status.idle": "2020-10-13T00:09:09.218500Z",
     "shell.execute_reply": "2020-10-13T00:09:09.219004Z"
    },
    "papermill": {
     "duration": 0.348431,
     "end_time": "2020-10-13T00:09:09.219169",
     "exception": false,
     "start_time": "2020-10-13T00:09:08.870738",
     "status": "completed"
    },
    "tags": []
   },
   "outputs": [
    {
     "data": {
      "image/png": "[encoded data removed]",
      "text/plain": [
       "<Figure size 720x648 with 1 Axes>"
      ]
     },
     "metadata": {
      "needs_background": "light"
     },
     "output_type": "display_data"
    }
   ],
   "source": [
    "plt.figure(figsize=(10,9))\n",
    "plt.scatter(plot_testing[:,0], plot_testing[:,1], alpha = 0.1, c = y_test.ravel())\n",
    "contours = plt.contour(x_grid,y_grid,probability_contour)\n",
    "plt.title('Probability Contours')\n",
    "plt.clabel(contours, inline = True );"
   ]
  }
 ],
 "metadata": {
  "kernelspec": {
   "display_name": "Python 3",
   "language": "python",
   "name": "python3"
  },
  "language_info": {
   "codemirror_mode": {
    "name": "ipython",
    "version": 3
   },
   "file_extension": ".py",
   "mimetype": "text/x-python",
   "name": "python",
   "nbconvert_exporter": "python",
   "pygments_lexer": "ipython3",
   "version": "3.6.12"
  },
  "papermill": {
   "duration": 146.805365,
   "end_time": "2020-10-13T00:09:09.597570",
   "environment_variables": {},
   "exception": null,
   "input_path": "2020-08-11-NeuralNetwork.ipynb",
   "output_path": "2020-08-11-NeuralNetwork.ipynb",
   "parameters": {},
   "start_time": "2020-10-13T00:06:42.792205",
   "version": "2.1.2"
  }
 },
 "nbformat": 4,
 "nbformat_minor": 4
}