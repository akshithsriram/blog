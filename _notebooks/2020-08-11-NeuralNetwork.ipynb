{
 "cells": [
  {
   "cell_type": "markdown",
   "metadata": {
    "papermill": {
     "duration": 0.030337,
     "end_time": "2020-08-21T20:04:12.288583",
     "exception": false,
     "start_time": "2020-08-21T20:04:12.258246",
     "status": "completed"
    },
    "tags": []
   },
   "source": [
    "# \"A Basic Neural Network: Differentiate Hand-Written Digits\"\n",
    "\n",
    "- badges: true\n",
    "- author: Akshith Sriram"
   ]
  },
  {
   "cell_type": "markdown",
   "metadata": {
    "papermill": {
     "duration": 0.039217,
     "end_time": "2020-08-21T20:04:12.508030",
     "exception": false,
     "start_time": "2020-08-21T20:04:12.468813",
     "status": "completed"
    },
    "tags": []
   },
   "source": [
    "### Key Objectives:\n",
    "- Building a neural network that differentiates two hand-written digits 3 and 8.\n",
    "- Comparing the results of this Neural Network (NN) to that of a Logistic Regression (LR) model.\n",
    "\n",
    "### Requirements:\n",
    "- 'Kudzu' : A neural network library that was designed during our course by [Univ.AI](www.univ.ai). \n",
    "- MNIST Database\n",
    "\n",
    "If MNIST is not installed, use the command `!pip install mnist` given below.\n",
    "It can be run both from the command line and Jupyter Notebook."
   ]
  },
  {
   "cell_type": "code",
   "execution_count": 1,
   "metadata": {
    "execution": {
     "iopub.execute_input": "2020-08-21T20:04:12.763813Z",
     "iopub.status.busy": "2020-08-21T20:04:12.763189Z",
     "iopub.status.idle": "2020-08-21T20:04:14.203934Z",
     "shell.execute_reply": "2020-08-21T20:04:14.202633Z"
    },
    "papermill": {
     "duration": 1.487944,
     "end_time": "2020-08-21T20:04:14.204119",
     "exception": false,
     "start_time": "2020-08-21T20:04:12.716175",
     "status": "completed"
    },
    "tags": []
   },
   "outputs": [
    {
     "name": "stdout",
     "output_type": "stream",
     "text": [
      "Collecting mnist\r\n"
     ]
    },
    {
     "name": "stdout",
     "output_type": "stream",
     "text": [
      "  Downloading mnist-0.2.2-py2.py3-none-any.whl (3.5 kB)\r\n",
      "Requirement already satisfied: numpy in /opt/hostedtoolcache/Python/3.6.11/x64/lib/python3.6/site-packages (from mnist) (1.19.1)\r\n"
     ]
    },
    {
     "name": "stdout",
     "output_type": "stream",
     "text": [
      "Installing collected packages: mnist\r\n",
      "Successfully installed mnist-0.2.2\r\n"
     ]
    }
   ],
   "source": [
    "!pip install mnist "
   ]
  },
  {
   "cell_type": "markdown",
   "metadata": {
    "papermill": {
     "duration": 0.027354,
     "end_time": "2020-08-21T20:04:14.258619",
     "exception": false,
     "start_time": "2020-08-21T20:04:14.231265",
     "status": "completed"
    },
    "tags": []
   },
   "source": [
    "#### Importing necessary libraries"
   ]
  },
  {
   "cell_type": "code",
   "execution_count": 2,
   "metadata": {
    "execution": {
     "iopub.execute_input": "2020-08-21T20:04:14.322325Z",
     "iopub.status.busy": "2020-08-21T20:04:14.321661Z",
     "iopub.status.idle": "2020-08-21T20:04:14.888730Z",
     "shell.execute_reply": "2020-08-21T20:04:14.888147Z"
    },
    "papermill": {
     "duration": 0.601544,
     "end_time": "2020-08-21T20:04:14.888879",
     "exception": false,
     "start_time": "2020-08-21T20:04:14.287335",
     "status": "completed"
    },
    "tags": []
   },
   "outputs": [],
   "source": [
    "%load_ext autoreload\n",
    "%autoreload 2\n",
    "\n",
    "%matplotlib inline\n",
    "import matplotlib.pyplot as plt\n",
    "\n",
    "import numpy as np\n",
    "import pandas as pd"
   ]
  },
  {
   "cell_type": "markdown",
   "metadata": {
    "papermill": {
     "duration": 0.027583,
     "end_time": "2020-08-21T20:04:14.944483",
     "exception": false,
     "start_time": "2020-08-21T20:04:14.916900",
     "status": "completed"
    },
    "tags": []
   },
   "source": [
    "### Preparing the Data"
   ]
  },
  {
   "cell_type": "code",
   "execution_count": 3,
   "metadata": {
    "execution": {
     "iopub.execute_input": "2020-08-21T20:04:15.006083Z",
     "iopub.status.busy": "2020-08-21T20:04:15.005323Z",
     "iopub.status.idle": "2020-08-21T20:04:15.017806Z",
     "shell.execute_reply": "2020-08-21T20:04:15.017176Z"
    },
    "papermill": {
     "duration": 0.046939,
     "end_time": "2020-08-21T20:04:15.017921",
     "exception": false,
     "start_time": "2020-08-21T20:04:14.970982",
     "status": "completed"
    },
    "tags": []
   },
   "outputs": [],
   "source": [
    "import mnist"
   ]
  },
  {
   "cell_type": "code",
   "execution_count": 4,
   "metadata": {
    "execution": {
     "iopub.execute_input": "2020-08-21T20:04:15.076177Z",
     "iopub.status.busy": "2020-08-21T20:04:15.075496Z",
     "iopub.status.idle": "2020-08-21T20:04:15.850273Z",
     "shell.execute_reply": "2020-08-21T20:04:15.849282Z"
    },
    "papermill": {
     "duration": 0.806016,
     "end_time": "2020-08-21T20:04:15.850428",
     "exception": false,
     "start_time": "2020-08-21T20:04:15.044412",
     "status": "completed"
    },
    "tags": []
   },
   "outputs": [],
   "source": [
    "train_images = mnist.train_images()\n",
    "train_labels = mnist.train_labels()"
   ]
  },
  {
   "cell_type": "code",
   "execution_count": 5,
   "metadata": {
    "execution": {
     "iopub.execute_input": "2020-08-21T20:04:15.909642Z",
     "iopub.status.busy": "2020-08-21T20:04:15.908341Z",
     "iopub.status.idle": "2020-08-21T20:04:15.923559Z",
     "shell.execute_reply": "2020-08-21T20:04:15.922973Z"
    },
    "papermill": {
     "duration": 0.046327,
     "end_time": "2020-08-21T20:04:15.923674",
     "exception": false,
     "start_time": "2020-08-21T20:04:15.877347",
     "status": "completed"
    },
    "tags": []
   },
   "outputs": [
    {
     "data": {
      "text/plain": [
       "((60000, 28, 28), (60000,))"
      ]
     },
     "execution_count": 5,
     "metadata": {},
     "output_type": "execute_result"
    }
   ],
   "source": [
    "train_images.shape, train_labels.shape"
   ]
  },
  {
   "cell_type": "code",
   "execution_count": 6,
   "metadata": {
    "execution": {
     "iopub.execute_input": "2020-08-21T20:04:15.983723Z",
     "iopub.status.busy": "2020-08-21T20:04:15.983116Z",
     "iopub.status.idle": "2020-08-21T20:04:16.283965Z",
     "shell.execute_reply": "2020-08-21T20:04:16.284599Z"
    },
    "papermill": {
     "duration": 0.331965,
     "end_time": "2020-08-21T20:04:16.284806",
     "exception": false,
     "start_time": "2020-08-21T20:04:15.952841",
     "status": "completed"
    },
    "tags": []
   },
   "outputs": [],
   "source": [
    "test_images = mnist.test_images()\n",
    "test_labels = mnist.test_labels()"
   ]
  },
  {
   "cell_type": "code",
   "execution_count": 7,
   "metadata": {
    "execution": {
     "iopub.execute_input": "2020-08-21T20:04:16.345558Z",
     "iopub.status.busy": "2020-08-21T20:04:16.344881Z",
     "iopub.status.idle": "2020-08-21T20:04:16.359114Z",
     "shell.execute_reply": "2020-08-21T20:04:16.358573Z"
    },
    "papermill": {
     "duration": 0.045129,
     "end_time": "2020-08-21T20:04:16.359263",
     "exception": false,
     "start_time": "2020-08-21T20:04:16.314134",
     "status": "completed"
    },
    "tags": []
   },
   "outputs": [
    {
     "data": {
      "text/plain": [
       "((10000, 28, 28), (10000,))"
      ]
     },
     "execution_count": 7,
     "metadata": {},
     "output_type": "execute_result"
    }
   ],
   "source": [
    "test_images.shape, test_labels.shape"
   ]
  },
  {
   "cell_type": "code",
   "execution_count": 8,
   "metadata": {
    "execution": {
     "iopub.execute_input": "2020-08-21T20:04:16.419681Z",
     "iopub.status.busy": "2020-08-21T20:04:16.419030Z",
     "iopub.status.idle": "2020-08-21T20:04:16.585076Z",
     "shell.execute_reply": "2020-08-21T20:04:16.585583Z"
    },
    "papermill": {
     "duration": 0.198484,
     "end_time": "2020-08-21T20:04:16.585745",
     "exception": false,
     "start_time": "2020-08-21T20:04:16.387261",
     "status": "completed"
    },
    "tags": []
   },
   "outputs": [
    {
     "name": "stdout",
     "output_type": "stream",
     "text": [
      "2\n"
     ]
    },
    {
     "data": {
      "text/plain": [
       "<matplotlib.image.AxesImage at 0x7f9ddacc00b8>"
      ]
     },
     "execution_count": 8,
     "metadata": {},
     "output_type": "execute_result"
    },
    {
     "data": {
      "image/png": "[encoded data removed]",
      "text/plain": [
       "<Figure size 432x288 with 1 Axes>"
      ]
     },
     "metadata": {
      "needs_background": "light"
     },
     "output_type": "display_data"
    }
   ],
   "source": [
    "image_index = 7776 # You may select anything up to 60,000\n",
    "print(train_labels[image_index]) \n",
    "plt.imshow(train_images[image_index], cmap='Greys')"
   ]
  },
  {
   "cell_type": "markdown",
   "metadata": {
    "papermill": {
     "duration": 0.028967,
     "end_time": "2020-08-21T20:04:16.645854",
     "exception": false,
     "start_time": "2020-08-21T20:04:16.616887",
     "status": "completed"
    },
    "tags": []
   },
   "source": [
    "## Filter data to get 3 and 8 out"
   ]
  },
  {
   "cell_type": "code",
   "execution_count": 9,
   "metadata": {
    "execution": {
     "iopub.execute_input": "2020-08-21T20:04:16.706388Z",
     "iopub.status.busy": "2020-08-21T20:04:16.705791Z",
     "iopub.status.idle": "2020-08-21T20:04:16.725631Z",
     "shell.execute_reply": "2020-08-21T20:04:16.725096Z"
    },
    "papermill": {
     "duration": 0.051802,
     "end_time": "2020-08-21T20:04:16.725896",
     "exception": false,
     "start_time": "2020-08-21T20:04:16.674094",
     "status": "completed"
    },
    "tags": []
   },
   "outputs": [],
   "source": [
    "train_filter = np.where((train_labels == 3 ) | (train_labels == 8))\n",
    "test_filter = np.where((test_labels == 3) | (test_labels == 8))\n",
    "X_train, y_train = train_images[train_filter], train_labels[train_filter]\n",
    "X_test, y_test = test_images[test_filter], test_labels[test_filter]"
   ]
  },
  {
   "cell_type": "markdown",
   "metadata": {
    "papermill": {
     "duration": 0.02893,
     "end_time": "2020-08-21T20:04:16.782802",
     "exception": false,
     "start_time": "2020-08-21T20:04:16.753872",
     "status": "completed"
    },
    "tags": []
   },
   "source": [
    "We normalize the pixel values in the 0 to 1 range"
   ]
  },
  {
   "cell_type": "code",
   "execution_count": 10,
   "metadata": {
    "execution": {
     "iopub.execute_input": "2020-08-21T20:04:16.842496Z",
     "iopub.status.busy": "2020-08-21T20:04:16.841905Z",
     "iopub.status.idle": "2020-08-21T20:04:16.899534Z",
     "shell.execute_reply": "2020-08-21T20:04:16.899993Z"
    },
    "papermill": {
     "duration": 0.089166,
     "end_time": "2020-08-21T20:04:16.900151",
     "exception": false,
     "start_time": "2020-08-21T20:04:16.810985",
     "status": "completed"
    },
    "tags": []
   },
   "outputs": [],
   "source": [
    "X_train = X_train/255.\n",
    "X_test = X_test/255."
   ]
  },
  {
   "cell_type": "markdown",
   "metadata": {
    "papermill": {
     "duration": 0.028537,
     "end_time": "2020-08-21T20:04:16.957225",
     "exception": false,
     "start_time": "2020-08-21T20:04:16.928688",
     "status": "completed"
    },
    "tags": []
   },
   "source": [
    "Setup the labels as 1 (when the digit is 3) and 0 (when the digit is 8)"
   ]
  },
  {
   "cell_type": "code",
   "execution_count": 11,
   "metadata": {
    "execution": {
     "iopub.execute_input": "2020-08-21T20:04:17.017806Z",
     "iopub.status.busy": "2020-08-21T20:04:17.017219Z",
     "iopub.status.idle": "2020-08-21T20:04:17.030067Z",
     "shell.execute_reply": "2020-08-21T20:04:17.029554Z"
    },
    "papermill": {
     "duration": 0.044522,
     "end_time": "2020-08-21T20:04:17.030197",
     "exception": false,
     "start_time": "2020-08-21T20:04:16.985675",
     "status": "completed"
    },
    "tags": []
   },
   "outputs": [],
   "source": [
    "y_train = 1*(y_train==3)\n",
    "y_test = 1*(y_test==3)"
   ]
  },
  {
   "cell_type": "code",
   "execution_count": 12,
   "metadata": {
    "execution": {
     "iopub.execute_input": "2020-08-21T20:04:17.096648Z",
     "iopub.status.busy": "2020-08-21T20:04:17.095967Z",
     "iopub.status.idle": "2020-08-21T20:04:17.110090Z",
     "shell.execute_reply": "2020-08-21T20:04:17.109543Z"
    },
    "papermill": {
     "duration": 0.046356,
     "end_time": "2020-08-21T20:04:17.110206",
     "exception": false,
     "start_time": "2020-08-21T20:04:17.063850",
     "status": "completed"
    },
    "tags": []
   },
   "outputs": [
    {
     "data": {
      "text/plain": [
       "((11982, 28, 28), (1984, 28, 28))"
      ]
     },
     "execution_count": 12,
     "metadata": {},
     "output_type": "execute_result"
    }
   ],
   "source": [
    "X_train.shape, X_test.shape"
   ]
  },
  {
   "cell_type": "markdown",
   "metadata": {
    "papermill": {
     "duration": 0.029192,
     "end_time": "2020-08-21T20:04:17.169629",
     "exception": false,
     "start_time": "2020-08-21T20:04:17.140437",
     "status": "completed"
    },
    "tags": []
   },
   "source": [
    "### Reshape the input data to create a linear array"
   ]
  },
  {
   "cell_type": "code",
   "execution_count": 13,
   "metadata": {
    "execution": {
     "iopub.execute_input": "2020-08-21T20:04:17.234051Z",
     "iopub.status.busy": "2020-08-21T20:04:17.233371Z",
     "iopub.status.idle": "2020-08-21T20:04:17.247724Z",
     "shell.execute_reply": "2020-08-21T20:04:17.248383Z"
    },
    "papermill": {
     "duration": 0.049173,
     "end_time": "2020-08-21T20:04:17.248566",
     "exception": false,
     "start_time": "2020-08-21T20:04:17.199393",
     "status": "completed"
    },
    "tags": []
   },
   "outputs": [
    {
     "data": {
      "text/plain": [
       "((11982, 784), (1984, 784))"
      ]
     },
     "execution_count": 13,
     "metadata": {},
     "output_type": "execute_result"
    }
   ],
   "source": [
    "X_train = X_train.reshape(X_train.shape[0], -1)\n",
    "X_test = X_test.reshape(X_test.shape[0], -1)\n",
    "X_train.shape, X_test.shape"
   ]
  },
  {
   "cell_type": "markdown",
   "metadata": {
    "papermill": {
     "duration": 0.030353,
     "end_time": "2020-08-21T20:04:17.310494",
     "exception": false,
     "start_time": "2020-08-21T20:04:17.280141",
     "status": "completed"
    },
    "tags": []
   },
   "source": [
    "### Importing appropriate functions from 'Kudzu'"
   ]
  },
  {
   "cell_type": "code",
   "execution_count": 14,
   "metadata": {
    "execution": {
     "iopub.execute_input": "2020-08-21T20:04:17.373642Z",
     "iopub.status.busy": "2020-08-21T20:04:17.373025Z",
     "iopub.status.idle": "2020-08-21T20:04:17.392970Z",
     "shell.execute_reply": "2020-08-21T20:04:17.392383Z"
    },
    "papermill": {
     "duration": 0.053081,
     "end_time": "2020-08-21T20:04:17.393087",
     "exception": false,
     "start_time": "2020-08-21T20:04:17.340006",
     "status": "completed"
    },
    "tags": []
   },
   "outputs": [],
   "source": [
    "from kudzu.layer import Sigmoid\n",
    "from kudzu.layer import Relu\n",
    "from kudzu.layer import Affine, Sigmoid\n",
    "\n",
    "from kudzu.model import Model\n",
    "from kudzu.train import Learner\n",
    "from kudzu.optim import GD\n",
    "from kudzu.data import Data, Dataloader, Sampler\n",
    "\n",
    "from kudzu.callbacks import AccCallback\n",
    "from kudzu.callbacks import ClfCallback\n",
    "\n",
    "from kudzu.loss import MSE"
   ]
  },
  {
   "cell_type": "markdown",
   "metadata": {
    "papermill": {
     "duration": 0.029378,
     "end_time": "2020-08-21T20:04:17.450733",
     "exception": false,
     "start_time": "2020-08-21T20:04:17.421355",
     "status": "completed"
    },
    "tags": []
   },
   "source": [
    "### Let us create a `Config` class, to store important parameters. \n",
    "This class essentially plays the role of a dictionary."
   ]
  },
  {
   "cell_type": "code",
   "execution_count": 15,
   "metadata": {
    "execution": {
     "iopub.execute_input": "2020-08-21T20:04:17.513374Z",
     "iopub.status.busy": "2020-08-21T20:04:17.512758Z",
     "iopub.status.idle": "2020-08-21T20:04:17.523952Z",
     "shell.execute_reply": "2020-08-21T20:04:17.524473Z"
    },
    "papermill": {
     "duration": 0.044929,
     "end_time": "2020-08-21T20:04:17.524600",
     "exception": false,
     "start_time": "2020-08-21T20:04:17.479671",
     "status": "completed"
    },
    "tags": []
   },
   "outputs": [],
   "source": [
    "class Config:\n",
    "    pass\n",
    "config = Config()\n",
    "config.lr = 0.001\n",
    "config.num_epochs = 251\n",
    "config.bs = 50"
   ]
  },
  {
   "cell_type": "markdown",
   "metadata": {
    "papermill": {
     "duration": 0.028675,
     "end_time": "2020-08-21T20:04:17.582358",
     "exception": false,
     "start_time": "2020-08-21T20:04:17.553683",
     "status": "completed"
    },
    "tags": []
   },
   "source": [
    "### Initializing data to the variables"
   ]
  },
  {
   "cell_type": "code",
   "execution_count": 16,
   "metadata": {
    "execution": {
     "iopub.execute_input": "2020-08-21T20:04:17.657349Z",
     "iopub.status.busy": "2020-08-21T20:04:17.656732Z",
     "iopub.status.idle": "2020-08-21T20:04:17.670815Z",
     "shell.execute_reply": "2020-08-21T20:04:17.670273Z"
    },
    "papermill": {
     "duration": 0.048235,
     "end_time": "2020-08-21T20:04:17.670962",
     "exception": false,
     "start_time": "2020-08-21T20:04:17.622727",
     "status": "completed"
    },
    "tags": []
   },
   "outputs": [],
   "source": [
    "data = Data(X_train, y_train.reshape(-1,1))\n",
    "sampler = Sampler(data, config.bs, shuffle=True)\n",
    "\n",
    "dl = Dataloader(data, sampler)\n",
    "\n",
    "opt = GD(config.lr)\n",
    "loss = MSE()"
   ]
  },
  {
   "cell_type": "code",
   "execution_count": 17,
   "metadata": {
    "execution": {
     "iopub.execute_input": "2020-08-21T20:04:17.734230Z",
     "iopub.status.busy": "2020-08-21T20:04:17.733550Z",
     "iopub.status.idle": "2020-08-21T20:04:17.745742Z",
     "shell.execute_reply": "2020-08-21T20:04:17.745204Z"
    },
    "papermill": {
     "duration": 0.044665,
     "end_time": "2020-08-21T20:04:17.745873",
     "exception": false,
     "start_time": "2020-08-21T20:04:17.701208",
     "status": "completed"
    },
    "tags": []
   },
   "outputs": [],
   "source": [
    "training_xdata = X_train\n",
    "testing_xdata = X_test\n",
    "training_ydata = y_train.reshape(-1,1)\n",
    "testing_ydata = y_test.reshape(-1,1)"
   ]
  },
  {
   "cell_type": "markdown",
   "metadata": {
    "papermill": {
     "duration": 0.028889,
     "end_time": "2020-08-21T20:04:17.804463",
     "exception": false,
     "start_time": "2020-08-21T20:04:17.775574",
     "status": "completed"
    },
    "tags": []
   },
   "source": [
    "### Running Models with the Training data\n",
    "Details about the network layers:\n",
    "- A first affine layer has 784 inputs and does 100 affine transforms. These are followed by a Relu\n",
    "- A second affine layer has 100 inputs from the 100 activations of the past layer, and does 100 affine transforms. These are followed by a Relu\n",
    "- A third affine layer has 100 activations and does 2 affine transformations to create an embedding for visualization. There is no non-linearity here.\n",
    "- A final \"logistic regression\" which has an affine transform from 2 inputs to 1 output, which is squeezed through a sigmoid.\n",
    "\n",
    "Help taken from Anshuman's Notebook."
   ]
  },
  {
   "cell_type": "code",
   "execution_count": 18,
   "metadata": {
    "execution": {
     "iopub.execute_input": "2020-08-21T20:04:17.867385Z",
     "iopub.status.busy": "2020-08-21T20:04:17.866691Z",
     "iopub.status.idle": "2020-08-21T20:04:17.883218Z",
     "shell.execute_reply": "2020-08-21T20:04:17.882544Z"
    },
    "papermill": {
     "duration": 0.050136,
     "end_time": "2020-08-21T20:04:17.883335",
     "exception": false,
     "start_time": "2020-08-21T20:04:17.833199",
     "status": "completed"
    },
    "tags": []
   },
   "outputs": [],
   "source": [
    "# layers for the Neural Network\n",
    "layers = [Affine(\"first\", 784, 100), Relu(\"first\"), Affine(\"second\", 100, 100), Relu(\"second\"), Affine(\"third\", 100, 2), Affine(\"final\", 2, 1), Sigmoid(\"final\")]\n",
    "model_nn = Model(layers)\n",
    "\n",
    "# layers for the Logistic Regression\n",
    "layers_lr = [Affine(\"logits\", 784, 1), Sigmoid(\"sigmoid\")]\n",
    "model_lr = Model(layers_lr)"
   ]
  },
  {
   "cell_type": "code",
   "execution_count": 19,
   "metadata": {
    "execution": {
     "iopub.execute_input": "2020-08-21T20:04:17.947700Z",
     "iopub.status.busy": "2020-08-21T20:04:17.947088Z",
     "iopub.status.idle": "2020-08-21T20:04:17.959307Z",
     "shell.execute_reply": "2020-08-21T20:04:17.958412Z"
    },
    "papermill": {
     "duration": 0.046403,
     "end_time": "2020-08-21T20:04:17.960942",
     "exception": false,
     "start_time": "2020-08-21T20:04:17.914539",
     "status": "completed"
    },
    "tags": []
   },
   "outputs": [],
   "source": [
    "# suffix _nn stands for Neural Network.\n",
    "learner_nn = Learner(loss, model_nn, opt, config.num_epochs)\n",
    "acc_nn = ClfCallback(learner_nn, config.bs, training_xdata , testing_xdata, training_ydata, testing_ydata)\n",
    "learner_nn.set_callbacks([acc_nn])"
   ]
  },
  {
   "cell_type": "code",
   "execution_count": 20,
   "metadata": {
    "execution": {
     "iopub.execute_input": "2020-08-21T20:04:18.023287Z",
     "iopub.status.busy": "2020-08-21T20:04:18.022665Z",
     "iopub.status.idle": "2020-08-21T20:06:17.415929Z",
     "shell.execute_reply": "2020-08-21T20:06:17.416756Z"
    },
    "papermill": {
     "duration": 119.426273,
     "end_time": "2020-08-21T20:06:17.416910",
     "exception": false,
     "start_time": "2020-08-21T20:04:17.990637",
     "status": "completed"
    },
    "tags": []
   },
   "outputs": [
    {
     "name": "stdout",
     "output_type": "stream",
     "text": [
      "====== Neural Network ======\n"
     ]
    },
    {
     "name": "stdout",
     "output_type": "stream",
     "text": [
      "Epoch 0, Loss 0.2495\n",
      "Training Accuracy: 0.5546, Testing Accuracy: 0.5620\n",
      "\n"
     ]
    },
    {
     "name": "stdout",
     "output_type": "stream",
     "text": [
      "Epoch 10, Loss 0.1398\n",
      "Training Accuracy: 0.8998, Testing Accuracy: 0.9103\n",
      "\n"
     ]
    },
    {
     "name": "stdout",
     "output_type": "stream",
     "text": [
      "Epoch 20, Loss 0.0723\n",
      "Training Accuracy: 0.9275, Testing Accuracy: 0.9420\n",
      "\n"
     ]
    },
    {
     "name": "stdout",
     "output_type": "stream",
     "text": [
      "Epoch 30, Loss 0.0524\n",
      "Training Accuracy: 0.9428, Testing Accuracy: 0.9551\n",
      "\n"
     ]
    },
    {
     "name": "stdout",
     "output_type": "stream",
     "text": [
      "Epoch 40, Loss 0.0435\n",
      "Training Accuracy: 0.9516, Testing Accuracy: 0.9617\n",
      "\n"
     ]
    },
    {
     "name": "stdout",
     "output_type": "stream",
     "text": [
      "Epoch 50, Loss 0.0386\n",
      "Training Accuracy: 0.9569, Testing Accuracy: 0.9672\n",
      "\n"
     ]
    },
    {
     "name": "stdout",
     "output_type": "stream",
     "text": [
      "Epoch 60, Loss 0.0354\n",
      "Training Accuracy: 0.9595, Testing Accuracy: 0.9688\n",
      "\n"
     ]
    },
    {
     "name": "stdout",
     "output_type": "stream",
     "text": [
      "Epoch 70, Loss 0.0331\n",
      "Training Accuracy: 0.9618, Testing Accuracy: 0.9713\n",
      "\n"
     ]
    },
    {
     "name": "stdout",
     "output_type": "stream",
     "text": [
      "Epoch 80, Loss 0.0314\n",
      "Training Accuracy: 0.9635, Testing Accuracy: 0.9713\n",
      "\n"
     ]
    },
    {
     "name": "stdout",
     "output_type": "stream",
     "text": [
      "Epoch 90, Loss 0.03\n",
      "Training Accuracy: 0.9652, Testing Accuracy: 0.9728\n",
      "\n"
     ]
    },
    {
     "name": "stdout",
     "output_type": "stream",
     "text": [
      "Epoch 100, Loss 0.0289\n",
      "Training Accuracy: 0.9670, Testing Accuracy: 0.9723\n",
      "\n"
     ]
    },
    {
     "name": "stdout",
     "output_type": "stream",
     "text": [
      "Epoch 110, Loss 0.0279\n",
      "Training Accuracy: 0.9676, Testing Accuracy: 0.9713\n",
      "\n"
     ]
    },
    {
     "name": "stdout",
     "output_type": "stream",
     "text": [
      "Epoch 120, Loss 0.0271\n",
      "Training Accuracy: 0.9685, Testing Accuracy: 0.9723\n",
      "\n"
     ]
    },
    {
     "name": "stdout",
     "output_type": "stream",
     "text": [
      "Epoch 130, Loss 0.0263\n",
      "Training Accuracy: 0.9695, Testing Accuracy: 0.9723\n",
      "\n"
     ]
    },
    {
     "name": "stdout",
     "output_type": "stream",
     "text": [
      "Epoch 140, Loss 0.0257\n",
      "Training Accuracy: 0.9703, Testing Accuracy: 0.9723\n",
      "\n"
     ]
    },
    {
     "name": "stdout",
     "output_type": "stream",
     "text": [
      "Epoch 150, Loss 0.025\n",
      "Training Accuracy: 0.9708, Testing Accuracy: 0.9728\n",
      "\n"
     ]
    },
    {
     "name": "stdout",
     "output_type": "stream",
     "text": [
      "Epoch 160, Loss 0.0245\n",
      "Training Accuracy: 0.9715, Testing Accuracy: 0.9728\n",
      "\n"
     ]
    },
    {
     "name": "stdout",
     "output_type": "stream",
     "text": [
      "Epoch 170, Loss 0.024\n",
      "Training Accuracy: 0.9718, Testing Accuracy: 0.9723\n",
      "\n"
     ]
    },
    {
     "name": "stdout",
     "output_type": "stream",
     "text": [
      "Epoch 180, Loss 0.0235\n",
      "Training Accuracy: 0.9723, Testing Accuracy: 0.9723\n",
      "\n"
     ]
    },
    {
     "name": "stdout",
     "output_type": "stream",
     "text": [
      "Epoch 190, Loss 0.0231\n",
      "Training Accuracy: 0.9731, Testing Accuracy: 0.9728\n",
      "\n"
     ]
    },
    {
     "name": "stdout",
     "output_type": "stream",
     "text": [
      "Epoch 200, Loss 0.0227\n",
      "Training Accuracy: 0.9740, Testing Accuracy: 0.9718\n",
      "\n"
     ]
    },
    {
     "name": "stdout",
     "output_type": "stream",
     "text": [
      "Epoch 210, Loss 0.0223\n",
      "Training Accuracy: 0.9748, Testing Accuracy: 0.9713\n",
      "\n"
     ]
    },
    {
     "name": "stdout",
     "output_type": "stream",
     "text": [
      "Epoch 220, Loss 0.0219\n",
      "Training Accuracy: 0.9751, Testing Accuracy: 0.9718\n",
      "\n"
     ]
    },
    {
     "name": "stdout",
     "output_type": "stream",
     "text": [
      "Epoch 230, Loss 0.0215\n",
      "Training Accuracy: 0.9759, Testing Accuracy: 0.9723\n",
      "\n"
     ]
    },
    {
     "name": "stdout",
     "output_type": "stream",
     "text": [
      "Epoch 240, Loss 0.0212\n",
      "Training Accuracy: 0.9764, Testing Accuracy: 0.9733\n",
      "\n"
     ]
    },
    {
     "name": "stdout",
     "output_type": "stream",
     "text": [
      "Epoch 250, Loss 0.0209\n",
      "Training Accuracy: 0.9773, Testing Accuracy: 0.9728\n",
      "\n"
     ]
    },
    {
     "data": {
      "text/plain": [
       "0.029850253235187613"
      ]
     },
     "execution_count": 20,
     "metadata": {},
     "output_type": "execute_result"
    }
   ],
   "source": [
    "print(\"====== Neural Network ======\")\n",
    "learner_nn.train_loop(dl)"
   ]
  },
  {
   "cell_type": "markdown",
   "metadata": {
    "papermill": {
     "duration": 0.037544,
     "end_time": "2020-08-21T20:06:17.502521",
     "exception": false,
     "start_time": "2020-08-21T20:06:17.464977",
     "status": "completed"
    },
    "tags": []
   },
   "source": [
    "### Logistic Regression based Implementation."
   ]
  },
  {
   "cell_type": "code",
   "execution_count": 21,
   "metadata": {
    "execution": {
     "iopub.execute_input": "2020-08-21T20:06:17.585418Z",
     "iopub.status.busy": "2020-08-21T20:06:17.584664Z",
     "iopub.status.idle": "2020-08-21T20:06:17.595858Z",
     "shell.execute_reply": "2020-08-21T20:06:17.596407Z"
    },
    "papermill": {
     "duration": 0.056409,
     "end_time": "2020-08-21T20:06:17.596586",
     "exception": false,
     "start_time": "2020-08-21T20:06:17.540177",
     "status": "completed"
    },
    "tags": []
   },
   "outputs": [],
   "source": [
    "learner_lr = Learner(loss, model_lr, opt, config.num_epochs)\n",
    "acc_lr = ClfCallback(learner_lr, config.bs, training_xdata , testing_xdata, training_ydata, testing_ydata)\n",
    "learner_lr.set_callbacks([acc_lr])"
   ]
  },
  {
   "cell_type": "code",
   "execution_count": 22,
   "metadata": {
    "execution": {
     "iopub.execute_input": "2020-08-21T20:06:17.677557Z",
     "iopub.status.busy": "2020-08-21T20:06:17.676060Z",
     "iopub.status.idle": "2020-08-21T20:06:35.203396Z",
     "shell.execute_reply": "2020-08-21T20:06:35.204319Z"
    },
    "papermill": {
     "duration": 17.570101,
     "end_time": "2020-08-21T20:06:35.204492",
     "exception": false,
     "start_time": "2020-08-21T20:06:17.634391",
     "status": "completed"
    },
    "tags": []
   },
   "outputs": [
    {
     "name": "stdout",
     "output_type": "stream",
     "text": [
      "====== Logistic Regression ======\n",
      "Epoch 0, Loss 0.27\n",
      "Training Accuracy: 0.5578, Testing Accuracy: 0.5640\n",
      "\n"
     ]
    },
    {
     "name": "stdout",
     "output_type": "stream",
     "text": [
      "Epoch 10, Loss 0.109\n",
      "Training Accuracy: 0.8975, Testing Accuracy: 0.9183\n",
      "\n"
     ]
    },
    {
     "name": "stdout",
     "output_type": "stream",
     "text": [
      "Epoch 20, Loss 0.0826\n",
      "Training Accuracy: 0.9208, Testing Accuracy: 0.9335\n",
      "\n"
     ]
    },
    {
     "name": "stdout",
     "output_type": "stream",
     "text": [
      "Epoch 30, Loss 0.0706\n",
      "Training Accuracy: 0.9316, Testing Accuracy: 0.9425\n",
      "\n"
     ]
    },
    {
     "name": "stdout",
     "output_type": "stream",
     "text": [
      "Epoch 40, Loss 0.0635\n",
      "Training Accuracy: 0.9376, Testing Accuracy: 0.9491\n",
      "\n"
     ]
    },
    {
     "name": "stdout",
     "output_type": "stream",
     "text": [
      "Epoch 50, Loss 0.0586\n",
      "Training Accuracy: 0.9422, Testing Accuracy: 0.9531\n",
      "\n"
     ]
    },
    {
     "name": "stdout",
     "output_type": "stream",
     "text": [
      "Epoch 60, Loss 0.0551\n",
      "Training Accuracy: 0.9454, Testing Accuracy: 0.9541\n",
      "\n"
     ]
    },
    {
     "name": "stdout",
     "output_type": "stream",
     "text": [
      "Epoch 70, Loss 0.0523\n",
      "Training Accuracy: 0.9481, Testing Accuracy: 0.9577\n",
      "\n"
     ]
    },
    {
     "name": "stdout",
     "output_type": "stream",
     "text": [
      "Epoch 80, Loss 0.0502\n",
      "Training Accuracy: 0.9500, Testing Accuracy: 0.9587\n",
      "\n"
     ]
    },
    {
     "name": "stdout",
     "output_type": "stream",
     "text": [
      "Epoch 90, Loss 0.0484\n",
      "Training Accuracy: 0.9513, Testing Accuracy: 0.9602\n",
      "\n"
     ]
    },
    {
     "name": "stdout",
     "output_type": "stream",
     "text": [
      "Epoch 100, Loss 0.0469\n",
      "Training Accuracy: 0.9521, Testing Accuracy: 0.9617\n",
      "\n"
     ]
    },
    {
     "name": "stdout",
     "output_type": "stream",
     "text": [
      "Epoch 110, Loss 0.0456\n",
      "Training Accuracy: 0.9527, Testing Accuracy: 0.9602\n",
      "\n"
     ]
    },
    {
     "name": "stdout",
     "output_type": "stream",
     "text": [
      "Epoch 120, Loss 0.0445\n",
      "Training Accuracy: 0.9540, Testing Accuracy: 0.9602\n",
      "\n"
     ]
    },
    {
     "name": "stdout",
     "output_type": "stream",
     "text": [
      "Epoch 130, Loss 0.0435\n",
      "Training Accuracy: 0.9548, Testing Accuracy: 0.9627\n",
      "\n"
     ]
    },
    {
     "name": "stdout",
     "output_type": "stream",
     "text": [
      "Epoch 140, Loss 0.0426\n",
      "Training Accuracy: 0.9558, Testing Accuracy: 0.9642\n",
      "\n"
     ]
    },
    {
     "name": "stdout",
     "output_type": "stream",
     "text": [
      "Epoch 150, Loss 0.0419\n",
      "Training Accuracy: 0.9568, Testing Accuracy: 0.9652\n",
      "\n"
     ]
    },
    {
     "name": "stdout",
     "output_type": "stream",
     "text": [
      "Epoch 160, Loss 0.0412\n",
      "Training Accuracy: 0.9580, Testing Accuracy: 0.9652\n",
      "\n"
     ]
    },
    {
     "name": "stdout",
     "output_type": "stream",
     "text": [
      "Epoch 170, Loss 0.0405\n",
      "Training Accuracy: 0.9587, Testing Accuracy: 0.9647\n",
      "\n"
     ]
    },
    {
     "name": "stdout",
     "output_type": "stream",
     "text": [
      "Epoch 180, Loss 0.0399\n",
      "Training Accuracy: 0.9594, Testing Accuracy: 0.9647\n",
      "\n"
     ]
    },
    {
     "name": "stdout",
     "output_type": "stream",
     "text": [
      "Epoch 190, Loss 0.0394\n",
      "Training Accuracy: 0.9597, Testing Accuracy: 0.9652\n",
      "\n"
     ]
    },
    {
     "name": "stdout",
     "output_type": "stream",
     "text": [
      "Epoch 200, Loss 0.0389\n",
      "Training Accuracy: 0.9601, Testing Accuracy: 0.9642\n",
      "\n"
     ]
    },
    {
     "name": "stdout",
     "output_type": "stream",
     "text": [
      "Epoch 210, Loss 0.0384\n",
      "Training Accuracy: 0.9604, Testing Accuracy: 0.9642\n",
      "\n"
     ]
    },
    {
     "name": "stdout",
     "output_type": "stream",
     "text": [
      "Epoch 220, Loss 0.038\n",
      "Training Accuracy: 0.9609, Testing Accuracy: 0.9647\n",
      "\n"
     ]
    },
    {
     "name": "stdout",
     "output_type": "stream",
     "text": [
      "Epoch 230, Loss 0.0376\n",
      "Training Accuracy: 0.9612, Testing Accuracy: 0.9652\n",
      "\n"
     ]
    },
    {
     "name": "stdout",
     "output_type": "stream",
     "text": [
      "Epoch 240, Loss 0.0372\n",
      "Training Accuracy: 0.9615, Testing Accuracy: 0.9657\n",
      "\n"
     ]
    },
    {
     "name": "stdout",
     "output_type": "stream",
     "text": [
      "Epoch 250, Loss 0.0369\n",
      "Training Accuracy: 0.9617, Testing Accuracy: 0.9662\n",
      "\n"
     ]
    },
    {
     "data": {
      "text/plain": [
       "0.07137708653058397"
      ]
     },
     "execution_count": 22,
     "metadata": {},
     "output_type": "execute_result"
    }
   ],
   "source": [
    "print(\"====== Logistic Regression ======\")\n",
    "learner_lr.train_loop(dl)"
   ]
  },
  {
   "cell_type": "markdown",
   "metadata": {
    "papermill": {
     "duration": 0.046635,
     "end_time": "2020-08-21T20:06:35.300145",
     "exception": false,
     "start_time": "2020-08-21T20:06:35.253510",
     "status": "completed"
    },
    "tags": []
   },
   "source": [
    "### Comparing results of NN and LR"
   ]
  },
  {
   "cell_type": "code",
   "execution_count": 23,
   "metadata": {
    "execution": {
     "iopub.execute_input": "2020-08-21T20:06:35.397763Z",
     "iopub.status.busy": "2020-08-21T20:06:35.397085Z",
     "iopub.status.idle": "2020-08-21T20:06:35.653431Z",
     "shell.execute_reply": "2020-08-21T20:06:35.652884Z"
    },
    "papermill": {
     "duration": 0.306285,
     "end_time": "2020-08-21T20:06:35.653567",
     "exception": false,
     "start_time": "2020-08-21T20:06:35.347282",
     "status": "completed"
    },
    "tags": []
   },
   "outputs": [
    {
     "data": {
      "text/plain": [
       "<matplotlib.legend.Legend at 0x7f9dda8997f0>"
      ]
     },
     "execution_count": 23,
     "metadata": {},
     "output_type": "execute_result"
    },
    {
     "data": {
      "image/png": "[encoded data removed]",
      "text/plain": [
       "<Figure size 1080x720 with 1 Axes>"
      ]
     },
     "metadata": {
      "needs_background": "light"
     },
     "output_type": "display_data"
    }
   ],
   "source": [
    "plt.figure(figsize=(15,10))\n",
    "\n",
    "# Neural Network plots\n",
    "plt.plot(acc_nn.accuracies, 'r-', label = \"Training Accuracies - NN\")\n",
    "plt.plot(acc_nn.test_accuracies, 'g-', label = \"Testing Accuracies - NN\")\n",
    "\n",
    "# Logistic Regression plots\n",
    "plt.plot(acc_lr.accuracies, 'k-', label = \"Training Accuracies - LR\")\n",
    "plt.plot(acc_lr.test_accuracies, 'b-', label = \"Testing Accuracies - LR\")\n",
    "\n",
    "plt.ylim(0.8, 1)\n",
    "\n",
    "plt.legend()\n",
    "\n"
   ]
  },
  {
   "cell_type": "markdown",
   "metadata": {
    "papermill": {
     "duration": 0.047538,
     "end_time": "2020-08-21T20:06:35.748759",
     "exception": false,
     "start_time": "2020-08-21T20:06:35.701221",
     "status": "completed"
    },
    "tags": []
   },
   "source": [
    "### From the plot, we can observe the following:\n",
    "- Neural Network achieves higher accuracy than the Logistic Regression model.\n",
    "- This apparently, is because of overfitting, i.e. NN captures more noise than data.\n",
    "- Testing accuracy of NN drops below the Training accuracy at higher epochs. This explains the over-fitting on training data.\n",
    "- Logistic Regression gives a reliable accuracy, without the above mentioned problem.\n"
   ]
  },
  {
   "cell_type": "markdown",
   "metadata": {
    "papermill": {
     "duration": 0.048148,
     "end_time": "2020-08-21T20:06:35.845124",
     "exception": false,
     "start_time": "2020-08-21T20:06:35.796976",
     "status": "completed"
    },
    "tags": []
   },
   "source": [
    "### Moving till the last but one layer (excluding it).\n",
    "#### Plotting the outputs of this layer of the NN."
   ]
  },
  {
   "cell_type": "code",
   "execution_count": 24,
   "metadata": {
    "execution": {
     "iopub.execute_input": "2020-08-21T20:06:35.943506Z",
     "iopub.status.busy": "2020-08-21T20:06:35.942833Z",
     "iopub.status.idle": "2020-08-21T20:06:35.955368Z",
     "shell.execute_reply": "2020-08-21T20:06:35.954828Z"
    },
    "papermill": {
     "duration": 0.063937,
     "end_time": "2020-08-21T20:06:35.955491",
     "exception": false,
     "start_time": "2020-08-21T20:06:35.891554",
     "status": "completed"
    },
    "tags": []
   },
   "outputs": [],
   "source": [
    "model_new = Model(layers[:-2])"
   ]
  },
  {
   "cell_type": "code",
   "execution_count": 25,
   "metadata": {
    "execution": {
     "iopub.execute_input": "2020-08-21T20:06:36.059627Z",
     "iopub.status.busy": "2020-08-21T20:06:36.059005Z",
     "iopub.status.idle": "2020-08-21T20:06:36.082225Z",
     "shell.execute_reply": "2020-08-21T20:06:36.082811Z"
    },
    "papermill": {
     "duration": 0.076051,
     "end_time": "2020-08-21T20:06:36.082968",
     "exception": false,
     "start_time": "2020-08-21T20:06:36.006917",
     "status": "completed"
    },
    "tags": []
   },
   "outputs": [],
   "source": [
    "plot_testing = model_new(testing_xdata)"
   ]
  },
  {
   "cell_type": "code",
   "execution_count": 26,
   "metadata": {
    "execution": {
     "iopub.execute_input": "2020-08-21T20:06:36.181796Z",
     "iopub.status.busy": "2020-08-21T20:06:36.181146Z",
     "iopub.status.idle": "2020-08-21T20:06:36.432828Z",
     "shell.execute_reply": "2020-08-21T20:06:36.433381Z"
    },
    "papermill": {
     "duration": 0.303618,
     "end_time": "2020-08-21T20:06:36.433537",
     "exception": false,
     "start_time": "2020-08-21T20:06:36.129919",
     "status": "completed"
    },
    "tags": []
   },
   "outputs": [
    {
     "data": {
      "text/plain": [
       "Text(0.5, 1.0, 'Outputs')"
      ]
     },
     "execution_count": 26,
     "metadata": {},
     "output_type": "execute_result"
    },
    {
     "data": {
      "image/png": "[encoded data removed]",
      "text/plain": [
       "<Figure size 576x504 with 1 Axes>"
      ]
     },
     "metadata": {
      "needs_background": "light"
     },
     "output_type": "display_data"
    }
   ],
   "source": [
    "plt.figure(figsize=(8,7))\n",
    "plt.scatter(plot_testing[:,0], plot_testing[:,1], alpha = 0.1, c = y_test.ravel());\n",
    "plt.title('Outputs')"
   ]
  },
  {
   "cell_type": "markdown",
   "metadata": {
    "papermill": {
     "duration": 0.04925,
     "end_time": "2020-08-21T20:06:36.534714",
     "exception": false,
     "start_time": "2020-08-21T20:06:36.485464",
     "status": "completed"
    },
    "tags": []
   },
   "source": [
    "### Plotting probability contours"
   ]
  },
  {
   "cell_type": "code",
   "execution_count": 27,
   "metadata": {
    "execution": {
     "iopub.execute_input": "2020-08-21T20:06:36.657429Z",
     "iopub.status.busy": "2020-08-21T20:06:36.656811Z",
     "iopub.status.idle": "2020-08-21T20:06:36.669872Z",
     "shell.execute_reply": "2020-08-21T20:06:36.669348Z"
    },
    "papermill": {
     "duration": 0.066592,
     "end_time": "2020-08-21T20:06:36.669994",
     "exception": false,
     "start_time": "2020-08-21T20:06:36.603402",
     "status": "completed"
    },
    "tags": []
   },
   "outputs": [],
   "source": [
    "model_prob = Model(layers[-2:]) "
   ]
  },
  {
   "cell_type": "code",
   "execution_count": 28,
   "metadata": {
    "execution": {
     "iopub.execute_input": "2020-08-21T20:06:36.772761Z",
     "iopub.status.busy": "2020-08-21T20:06:36.771701Z",
     "iopub.status.idle": "2020-08-21T20:06:36.784983Z",
     "shell.execute_reply": "2020-08-21T20:06:36.785523Z"
    },
    "papermill": {
     "duration": 0.066813,
     "end_time": "2020-08-21T20:06:36.785672",
     "exception": false,
     "start_time": "2020-08-21T20:06:36.718859",
     "status": "completed"
    },
    "tags": []
   },
   "outputs": [],
   "source": [
    "# Adjust the x and y ranges according to the above generated plot.\n",
    "x_range = np.linspace(-4, 1, 100) \n",
    "y_range = np.linspace(-6, 6, 100) \n",
    "x_grid, y_grid = np.meshgrid(x_range, y_range) # x_grid and y_grig are of size 100 X 100\n",
    "\n",
    "# converting x_grid and y_grid to continuous arrays\n",
    "x_grid_flat = np.ravel(x_grid)\n",
    "y_grid_flat = np.ravel(y_grid)\n",
    "\n",
    "# The last layer of the current model takes two columns as input. Hence transpose of np.vstack() is required.\n",
    "X = np.vstack((x_grid_flat, y_grid_flat)).T\n",
    "\n",
    "# x_grid and y_grid are of size 100 x 100\n",
    "probability_contour = model_prob(X).reshape(100,100) "
   ]
  },
  {
   "cell_type": "code",
   "execution_count": 29,
   "metadata": {
    "execution": {
     "iopub.execute_input": "2020-08-21T20:06:36.894400Z",
     "iopub.status.busy": "2020-08-21T20:06:36.893775Z",
     "iopub.status.idle": "2020-08-21T20:06:37.163624Z",
     "shell.execute_reply": "2020-08-21T20:06:37.163061Z"
    },
    "papermill": {
     "duration": 0.326239,
     "end_time": "2020-08-21T20:06:37.163773",
     "exception": false,
     "start_time": "2020-08-21T20:06:36.837534",
     "status": "completed"
    },
    "tags": []
   },
   "outputs": [
    {
     "data": {
      "image/png": "[encoded data removed]",
      "text/plain": [
       "<Figure size 720x648 with 1 Axes>"
      ]
     },
     "metadata": {
      "needs_background": "light"
     },
     "output_type": "display_data"
    }
   ],
   "source": [
    "plt.figure(figsize=(10,9))\n",
    "plt.scatter(plot_testing[:,0], plot_testing[:,1], alpha = 0.1, c = y_test.ravel())\n",
    "contours = plt.contour(x_grid,y_grid,probability_contour)\n",
    "plt.title('Probability Contours')\n",
    "plt.clabel(contours, inline = True );"
   ]
  }
 ],
 "metadata": {
  "kernelspec": {
   "display_name": "Python 3",
   "language": "python",
   "name": "python3"
  },
  "language_info": {
   "codemirror_mode": {
    "name": "ipython",
    "version": 3
   },
   "file_extension": ".py",
   "mimetype": "text/x-python",
   "name": "python",
   "nbconvert_exporter": "python",
   "pygments_lexer": "ipython3",
   "version": "3.6.11"
  },
  "papermill": {
   "duration": 146.364306,
   "end_time": "2020-08-21T20:06:37.542380",
   "environment_variables": {},
   "exception": null,
   "input_path": "2020-08-11-NeuralNetwork.ipynb",
   "output_path": "2020-08-11-NeuralNetwork.ipynb",
   "parameters": {},
   "start_time": "2020-08-21T20:04:11.178074",
   "version": "2.1.2"
  }
 },
 "nbformat": 4,
 "nbformat_minor": 4
}