{
 "cells": [
  {
   "cell_type": "markdown",
   "id": "fitted-suggestion",
   "metadata": {
    "papermill": {
     "duration": 0.039539,
     "end_time": "2021-04-04T00:30:37.950915",
     "exception": false,
     "start_time": "2021-04-04T00:30:37.911376",
     "status": "completed"
    },
    "tags": []
   },
   "source": [
    "# \"A Basic Neural Network: Differentiate Hand-Written Digits\"\n",
    "\n",
    "- badges: true\n",
    "- author: Akshith Sriram"
   ]
  },
  {
   "cell_type": "markdown",
   "id": "signal-flexibility",
   "metadata": {
    "papermill": {
     "duration": 0.029747,
     "end_time": "2021-04-04T00:30:38.011725",
     "exception": false,
     "start_time": "2021-04-04T00:30:37.981978",
     "status": "completed"
    },
    "tags": []
   },
   "source": [
    "### Key Objectives:\n",
    "- Building a neural network that differentiates two hand-written digits 3 and 8.\n",
    "- Comparing the results of this Neural Network (NN) to that of a Logistic Regression (LR) model.\n",
    "\n",
    "### Requirements:\n",
    "- 'Kudzu' : A neural network library that was designed during our course by [Univ.AI](www.univ.ai). \n",
    "- MNIST Database\n",
    "\n",
    "If MNIST is not installed, use the command `!pip install mnist` given below.\n",
    "It can be run both from the command line and Jupyter Notebook."
   ]
  },
  {
   "cell_type": "code",
   "execution_count": 1,
   "id": "british-texture",
   "metadata": {
    "execution": {
     "iopub.execute_input": "2021-04-04T00:30:38.083896Z",
     "iopub.status.busy": "2021-04-04T00:30:38.083292Z",
     "iopub.status.idle": "2021-04-04T00:30:39.666730Z",
     "shell.execute_reply": "2021-04-04T00:30:39.667220Z"
    },
    "papermill": {
     "duration": 1.626737,
     "end_time": "2021-04-04T00:30:39.667401",
     "exception": false,
     "start_time": "2021-04-04T00:30:38.040664",
     "status": "completed"
    },
    "tags": []
   },
   "outputs": [
    {
     "name": "stdout",
     "output_type": "stream",
     "text": [
      "Collecting mnist\r\n"
     ]
    },
    {
     "name": "stdout",
     "output_type": "stream",
     "text": [
      "  Downloading mnist-0.2.2-py2.py3-none-any.whl (3.5 kB)\r\n",
      "Requirement already satisfied: numpy in /opt/hostedtoolcache/Python/3.6.13/x64/lib/python3.6/site-packages (from mnist) (1.19.5)\r\n"
     ]
    },
    {
     "name": "stdout",
     "output_type": "stream",
     "text": [
      "Installing collected packages: mnist\r\n"
     ]
    },
    {
     "name": "stdout",
     "output_type": "stream",
     "text": [
      "Successfully installed mnist-0.2.2\r\n"
     ]
    }
   ],
   "source": [
    "!pip install mnist "
   ]
  },
  {
   "cell_type": "markdown",
   "id": "stunning-extra",
   "metadata": {
    "papermill": {
     "duration": 0.029662,
     "end_time": "2021-04-04T00:30:39.727050",
     "exception": false,
     "start_time": "2021-04-04T00:30:39.697388",
     "status": "completed"
    },
    "tags": []
   },
   "source": [
    "#### Importing necessary libraries"
   ]
  },
  {
   "cell_type": "code",
   "execution_count": 2,
   "id": "wooden-france",
   "metadata": {
    "execution": {
     "iopub.execute_input": "2021-04-04T00:30:39.801175Z",
     "iopub.status.busy": "2021-04-04T00:30:39.799011Z",
     "iopub.status.idle": "2021-04-04T00:30:40.392860Z",
     "shell.execute_reply": "2021-04-04T00:30:40.392154Z"
    },
    "papermill": {
     "duration": 0.636071,
     "end_time": "2021-04-04T00:30:40.393312",
     "exception": false,
     "start_time": "2021-04-04T00:30:39.757241",
     "status": "completed"
    },
    "tags": []
   },
   "outputs": [],
   "source": [
    "%load_ext autoreload\n",
    "%autoreload 2\n",
    "\n",
    "%matplotlib inline\n",
    "import matplotlib.pyplot as plt\n",
    "\n",
    "import numpy as np\n",
    "import pandas as pd"
   ]
  },
  {
   "cell_type": "markdown",
   "id": "stunning-physics",
   "metadata": {
    "papermill": {
     "duration": 0.031453,
     "end_time": "2021-04-04T00:30:40.457402",
     "exception": false,
     "start_time": "2021-04-04T00:30:40.425949",
     "status": "completed"
    },
    "tags": []
   },
   "source": [
    "### Preparing the Data"
   ]
  },
  {
   "cell_type": "code",
   "execution_count": 3,
   "id": "unauthorized-remainder",
   "metadata": {
    "execution": {
     "iopub.execute_input": "2021-04-04T00:30:40.526217Z",
     "iopub.status.busy": "2021-04-04T00:30:40.525619Z",
     "iopub.status.idle": "2021-04-04T00:30:40.540687Z",
     "shell.execute_reply": "2021-04-04T00:30:40.540207Z"
    },
    "papermill": {
     "duration": 0.051209,
     "end_time": "2021-04-04T00:30:40.540817",
     "exception": false,
     "start_time": "2021-04-04T00:30:40.489608",
     "status": "completed"
    },
    "tags": []
   },
   "outputs": [],
   "source": [
    "import mnist"
   ]
  },
  {
   "cell_type": "code",
   "execution_count": 4,
   "id": "correct-antarctica",
   "metadata": {
    "execution": {
     "iopub.execute_input": "2021-04-04T00:30:40.607605Z",
     "iopub.status.busy": "2021-04-04T00:30:40.607015Z",
     "iopub.status.idle": "2021-04-04T00:32:35.597375Z",
     "shell.execute_reply": "2021-04-04T00:32:35.596864Z"
    },
    "papermill": {
     "duration": 115.026158,
     "end_time": "2021-04-04T00:32:35.597511",
     "exception": false,
     "start_time": "2021-04-04T00:30:40.571353",
     "status": "completed"
    },
    "tags": []
   },
   "outputs": [],
   "source": [
    "train_images = mnist.train_images()\n",
    "train_labels = mnist.train_labels()"
   ]
  },
  {
   "cell_type": "code",
   "execution_count": 5,
   "id": "musical-prospect",
   "metadata": {
    "execution": {
     "iopub.execute_input": "2021-04-04T00:32:35.664131Z",
     "iopub.status.busy": "2021-04-04T00:32:35.663469Z",
     "iopub.status.idle": "2021-04-04T00:32:35.678194Z",
     "shell.execute_reply": "2021-04-04T00:32:35.678716Z"
    },
    "papermill": {
     "duration": 0.048911,
     "end_time": "2021-04-04T00:32:35.678855",
     "exception": false,
     "start_time": "2021-04-04T00:32:35.629944",
     "status": "completed"
    },
    "tags": []
   },
   "outputs": [
    {
     "data": {
      "text/plain": [
       "((60000, 28, 28), (60000,))"
      ]
     },
     "execution_count": 5,
     "metadata": {},
     "output_type": "execute_result"
    }
   ],
   "source": [
    "train_images.shape, train_labels.shape"
   ]
  },
  {
   "cell_type": "code",
   "execution_count": 6,
   "id": "preliminary-elizabeth",
   "metadata": {
    "execution": {
     "iopub.execute_input": "2021-04-04T00:32:35.746355Z",
     "iopub.status.busy": "2021-04-04T00:32:35.745831Z",
     "iopub.status.idle": "2021-04-04T00:32:49.211074Z",
     "shell.execute_reply": "2021-04-04T00:32:49.210532Z"
    },
    "papermill": {
     "duration": 13.502178,
     "end_time": "2021-04-04T00:32:49.211206",
     "exception": false,
     "start_time": "2021-04-04T00:32:35.709028",
     "status": "completed"
    },
    "tags": []
   },
   "outputs": [],
   "source": [
    "test_images = mnist.test_images()\n",
    "test_labels = mnist.test_labels()"
   ]
  },
  {
   "cell_type": "code",
   "execution_count": 7,
   "id": "acknowledged-oxygen",
   "metadata": {
    "execution": {
     "iopub.execute_input": "2021-04-04T00:32:49.280408Z",
     "iopub.status.busy": "2021-04-04T00:32:49.279879Z",
     "iopub.status.idle": "2021-04-04T00:32:49.293883Z",
     "shell.execute_reply": "2021-04-04T00:32:49.293417Z"
    },
    "papermill": {
     "duration": 0.050868,
     "end_time": "2021-04-04T00:32:49.293996",
     "exception": false,
     "start_time": "2021-04-04T00:32:49.243128",
     "status": "completed"
    },
    "tags": []
   },
   "outputs": [
    {
     "data": {
      "text/plain": [
       "((10000, 28, 28), (10000,))"
      ]
     },
     "execution_count": 7,
     "metadata": {},
     "output_type": "execute_result"
    }
   ],
   "source": [
    "test_images.shape, test_labels.shape"
   ]
  },
  {
   "cell_type": "code",
   "execution_count": 8,
   "id": "innovative-organic",
   "metadata": {
    "execution": {
     "iopub.execute_input": "2021-04-04T00:32:49.358791Z",
     "iopub.status.busy": "2021-04-04T00:32:49.358209Z",
     "iopub.status.idle": "2021-04-04T00:32:49.501137Z",
     "shell.execute_reply": "2021-04-04T00:32:49.502000Z"
    },
    "papermill": {
     "duration": 0.1793,
     "end_time": "2021-04-04T00:32:49.502232",
     "exception": false,
     "start_time": "2021-04-04T00:32:49.322932",
     "status": "completed"
    },
    "tags": []
   },
   "outputs": [
    {
     "name": "stdout",
     "output_type": "stream",
     "text": [
      "2\n"
     ]
    },
    {
     "data": {
      "text/plain": [
       "<matplotlib.image.AxesImage at 0x7fc7db502a20>"
      ]
     },
     "execution_count": 8,
     "metadata": {},
     "output_type": "execute_result"
    },
    {
     "data": {
      "image/png": "[encoded data removed]",
      "text/plain": [
       "<Figure size 432x288 with 1 Axes>"
      ]
     },
     "metadata": {
      "needs_background": "light"
     },
     "output_type": "display_data"
    }
   ],
   "source": [
    "image_index = 7776 # You may select anything up to 60,000\n",
    "print(train_labels[image_index]) \n",
    "plt.imshow(train_images[image_index], cmap='Greys')"
   ]
  },
  {
   "cell_type": "markdown",
   "id": "facial-modem",
   "metadata": {
    "papermill": {
     "duration": 0.030939,
     "end_time": "2021-04-04T00:32:49.568563",
     "exception": false,
     "start_time": "2021-04-04T00:32:49.537624",
     "status": "completed"
    },
    "tags": []
   },
   "source": [
    "## Filter data to get 3 and 8 out"
   ]
  },
  {
   "cell_type": "code",
   "execution_count": 9,
   "id": "thousand-acquisition",
   "metadata": {
    "execution": {
     "iopub.execute_input": "2021-04-04T00:32:49.637149Z",
     "iopub.status.busy": "2021-04-04T00:32:49.636565Z",
     "iopub.status.idle": "2021-04-04T00:32:49.655698Z",
     "shell.execute_reply": "2021-04-04T00:32:49.655195Z"
    },
    "papermill": {
     "duration": 0.0558,
     "end_time": "2021-04-04T00:32:49.655822",
     "exception": false,
     "start_time": "2021-04-04T00:32:49.600022",
     "status": "completed"
    },
    "tags": []
   },
   "outputs": [],
   "source": [
    "train_filter = np.where((train_labels == 3 ) | (train_labels == 8))\n",
    "test_filter = np.where((test_labels == 3) | (test_labels == 8))\n",
    "X_train, y_train = train_images[train_filter], train_labels[train_filter]\n",
    "X_test, y_test = test_images[test_filter], test_labels[test_filter]"
   ]
  },
  {
   "cell_type": "markdown",
   "id": "ruled-access",
   "metadata": {
    "papermill": {
     "duration": 0.030806,
     "end_time": "2021-04-04T00:32:49.722262",
     "exception": false,
     "start_time": "2021-04-04T00:32:49.691456",
     "status": "completed"
    },
    "tags": []
   },
   "source": [
    "We normalize the pixel values in the 0 to 1 range"
   ]
  },
  {
   "cell_type": "code",
   "execution_count": 10,
   "id": "isolated-denver",
   "metadata": {
    "execution": {
     "iopub.execute_input": "2021-04-04T00:32:49.789025Z",
     "iopub.status.busy": "2021-04-04T00:32:49.788447Z",
     "iopub.status.idle": "2021-04-04T00:32:49.842177Z",
     "shell.execute_reply": "2021-04-04T00:32:49.841206Z"
    },
    "papermill": {
     "duration": 0.089061,
     "end_time": "2021-04-04T00:32:49.842388",
     "exception": false,
     "start_time": "2021-04-04T00:32:49.753327",
     "status": "completed"
    },
    "tags": []
   },
   "outputs": [],
   "source": [
    "X_train = X_train/255.\n",
    "X_test = X_test/255."
   ]
  },
  {
   "cell_type": "markdown",
   "id": "perfect-summary",
   "metadata": {
    "papermill": {
     "duration": 0.032075,
     "end_time": "2021-04-04T00:32:49.908576",
     "exception": false,
     "start_time": "2021-04-04T00:32:49.876501",
     "status": "completed"
    },
    "tags": []
   },
   "source": [
    "Setup the labels as 1 (when the digit is 3) and 0 (when the digit is 8)"
   ]
  },
  {
   "cell_type": "code",
   "execution_count": 11,
   "id": "personalized-growing",
   "metadata": {
    "execution": {
     "iopub.execute_input": "2021-04-04T00:32:49.980189Z",
     "iopub.status.busy": "2021-04-04T00:32:49.979595Z",
     "iopub.status.idle": "2021-04-04T00:32:49.991377Z",
     "shell.execute_reply": "2021-04-04T00:32:49.990874Z"
    },
    "papermill": {
     "duration": 0.051789,
     "end_time": "2021-04-04T00:32:49.991498",
     "exception": false,
     "start_time": "2021-04-04T00:32:49.939709",
     "status": "completed"
    },
    "tags": []
   },
   "outputs": [],
   "source": [
    "y_train = 1*(y_train==3)\n",
    "y_test = 1*(y_test==3)"
   ]
  },
  {
   "cell_type": "code",
   "execution_count": 12,
   "id": "considered-virgin",
   "metadata": {
    "execution": {
     "iopub.execute_input": "2021-04-04T00:32:50.061864Z",
     "iopub.status.busy": "2021-04-04T00:32:50.060967Z",
     "iopub.status.idle": "2021-04-04T00:32:50.074297Z",
     "shell.execute_reply": "2021-04-04T00:32:50.073838Z"
    },
    "papermill": {
     "duration": 0.050452,
     "end_time": "2021-04-04T00:32:50.074411",
     "exception": false,
     "start_time": "2021-04-04T00:32:50.023959",
     "status": "completed"
    },
    "tags": []
   },
   "outputs": [
    {
     "data": {
      "text/plain": [
       "((11982, 28, 28), (1984, 28, 28))"
      ]
     },
     "execution_count": 12,
     "metadata": {},
     "output_type": "execute_result"
    }
   ],
   "source": [
    "X_train.shape, X_test.shape"
   ]
  },
  {
   "cell_type": "markdown",
   "id": "civilian-mobile",
   "metadata": {
    "papermill": {
     "duration": 0.032473,
     "end_time": "2021-04-04T00:32:50.140803",
     "exception": false,
     "start_time": "2021-04-04T00:32:50.108330",
     "status": "completed"
    },
    "tags": []
   },
   "source": [
    "### Reshape the input data to create a linear array"
   ]
  },
  {
   "cell_type": "code",
   "execution_count": 13,
   "id": "colonial-adams",
   "metadata": {
    "execution": {
     "iopub.execute_input": "2021-04-04T00:32:50.213178Z",
     "iopub.status.busy": "2021-04-04T00:32:50.212575Z",
     "iopub.status.idle": "2021-04-04T00:32:50.224552Z",
     "shell.execute_reply": "2021-04-04T00:32:50.224040Z"
    },
    "papermill": {
     "duration": 0.051822,
     "end_time": "2021-04-04T00:32:50.224673",
     "exception": false,
     "start_time": "2021-04-04T00:32:50.172851",
     "status": "completed"
    },
    "tags": []
   },
   "outputs": [
    {
     "data": {
      "text/plain": [
       "((11982, 784), (1984, 784))"
      ]
     },
     "execution_count": 13,
     "metadata": {},
     "output_type": "execute_result"
    }
   ],
   "source": [
    "X_train = X_train.reshape(X_train.shape[0], -1)\n",
    "X_test = X_test.reshape(X_test.shape[0], -1)\n",
    "X_train.shape, X_test.shape"
   ]
  },
  {
   "cell_type": "markdown",
   "id": "smart-details",
   "metadata": {
    "papermill": {
     "duration": 0.032007,
     "end_time": "2021-04-04T00:32:50.288843",
     "exception": false,
     "start_time": "2021-04-04T00:32:50.256836",
     "status": "completed"
    },
    "tags": []
   },
   "source": [
    "### Importing appropriate functions from 'Kudzu'"
   ]
  },
  {
   "cell_type": "code",
   "execution_count": 14,
   "id": "celtic-trial",
   "metadata": {
    "execution": {
     "iopub.execute_input": "2021-04-04T00:32:50.357325Z",
     "iopub.status.busy": "2021-04-04T00:32:50.356762Z",
     "iopub.status.idle": "2021-04-04T00:32:50.375571Z",
     "shell.execute_reply": "2021-04-04T00:32:50.376007Z"
    },
    "papermill": {
     "duration": 0.056015,
     "end_time": "2021-04-04T00:32:50.376143",
     "exception": false,
     "start_time": "2021-04-04T00:32:50.320128",
     "status": "completed"
    },
    "tags": []
   },
   "outputs": [],
   "source": [
    "from kudzu.layer import Sigmoid\n",
    "from kudzu.layer import Relu\n",
    "from kudzu.layer import Affine, Sigmoid\n",
    "\n",
    "from kudzu.model import Model\n",
    "from kudzu.train import Learner\n",
    "from kudzu.optim import GD\n",
    "from kudzu.data import Data, Dataloader, Sampler\n",
    "\n",
    "from kudzu.callbacks import AccCallback\n",
    "from kudzu.callbacks import ClfCallback\n",
    "\n",
    "from kudzu.loss import MSE"
   ]
  },
  {
   "cell_type": "markdown",
   "id": "coupled-customer",
   "metadata": {
    "papermill": {
     "duration": 0.03224,
     "end_time": "2021-04-04T00:32:50.440047",
     "exception": false,
     "start_time": "2021-04-04T00:32:50.407807",
     "status": "completed"
    },
    "tags": []
   },
   "source": [
    "### Let us create a `Config` class, to store important parameters. \n",
    "This class essentially plays the role of a dictionary."
   ]
  },
  {
   "cell_type": "code",
   "execution_count": 15,
   "id": "young-ceiling",
   "metadata": {
    "execution": {
     "iopub.execute_input": "2021-04-04T00:32:50.513561Z",
     "iopub.status.busy": "2021-04-04T00:32:50.512945Z",
     "iopub.status.idle": "2021-04-04T00:32:50.523329Z",
     "shell.execute_reply": "2021-04-04T00:32:50.522866Z"
    },
    "papermill": {
     "duration": 0.051181,
     "end_time": "2021-04-04T00:32:50.523448",
     "exception": false,
     "start_time": "2021-04-04T00:32:50.472267",
     "status": "completed"
    },
    "tags": []
   },
   "outputs": [],
   "source": [
    "class Config:\n",
    "    pass\n",
    "config = Config()\n",
    "config.lr = 0.001\n",
    "config.num_epochs = 251\n",
    "config.bs = 50"
   ]
  },
  {
   "cell_type": "markdown",
   "id": "according-mandate",
   "metadata": {
    "papermill": {
     "duration": 0.032462,
     "end_time": "2021-04-04T00:32:50.587907",
     "exception": false,
     "start_time": "2021-04-04T00:32:50.555445",
     "status": "completed"
    },
    "tags": []
   },
   "source": [
    "### Initializing data to the variables"
   ]
  },
  {
   "cell_type": "code",
   "execution_count": 16,
   "id": "academic-disposition",
   "metadata": {
    "execution": {
     "iopub.execute_input": "2021-04-04T00:32:50.657359Z",
     "iopub.status.busy": "2021-04-04T00:32:50.656757Z",
     "iopub.status.idle": "2021-04-04T00:32:50.670006Z",
     "shell.execute_reply": "2021-04-04T00:32:50.670501Z"
    },
    "papermill": {
     "duration": 0.050166,
     "end_time": "2021-04-04T00:32:50.670636",
     "exception": false,
     "start_time": "2021-04-04T00:32:50.620470",
     "status": "completed"
    },
    "tags": []
   },
   "outputs": [],
   "source": [
    "data = Data(X_train, y_train.reshape(-1,1))\n",
    "sampler = Sampler(data, config.bs, shuffle=True)\n",
    "\n",
    "dl = Dataloader(data, sampler)\n",
    "\n",
    "opt = GD(config.lr)\n",
    "loss = MSE()"
   ]
  },
  {
   "cell_type": "code",
   "execution_count": 17,
   "id": "featured-commission",
   "metadata": {
    "execution": {
     "iopub.execute_input": "2021-04-04T00:32:50.740773Z",
     "iopub.status.busy": "2021-04-04T00:32:50.740205Z",
     "iopub.status.idle": "2021-04-04T00:32:50.753777Z",
     "shell.execute_reply": "2021-04-04T00:32:50.753280Z"
    },
    "papermill": {
     "duration": 0.05087,
     "end_time": "2021-04-04T00:32:50.753894",
     "exception": false,
     "start_time": "2021-04-04T00:32:50.703024",
     "status": "completed"
    },
    "tags": []
   },
   "outputs": [],
   "source": [
    "training_xdata = X_train\n",
    "testing_xdata = X_test\n",
    "training_ydata = y_train.reshape(-1,1)\n",
    "testing_ydata = y_test.reshape(-1,1)"
   ]
  },
  {
   "cell_type": "markdown",
   "id": "played-safety",
   "metadata": {
    "papermill": {
     "duration": 0.032444,
     "end_time": "2021-04-04T00:32:50.819400",
     "exception": false,
     "start_time": "2021-04-04T00:32:50.786956",
     "status": "completed"
    },
    "tags": []
   },
   "source": [
    "### Running Models with the Training data\n",
    "Details about the network layers:\n",
    "- A first affine layer has 784 inputs and does 100 affine transforms. These are followed by a Relu\n",
    "- A second affine layer has 100 inputs from the 100 activations of the past layer, and does 100 affine transforms. These are followed by a Relu\n",
    "- A third affine layer has 100 activations and does 2 affine transformations to create an embedding for visualization. There is no non-linearity here.\n",
    "- A final \"logistic regression\" which has an affine transform from 2 inputs to 1 output, which is squeezed through a sigmoid.\n",
    "\n",
    "Help taken from Anshuman's Notebook."
   ]
  },
  {
   "cell_type": "code",
   "execution_count": 18,
   "id": "asian-bankruptcy",
   "metadata": {
    "execution": {
     "iopub.execute_input": "2021-04-04T00:32:50.889487Z",
     "iopub.status.busy": "2021-04-04T00:32:50.888854Z",
     "iopub.status.idle": "2021-04-04T00:32:50.906162Z",
     "shell.execute_reply": "2021-04-04T00:32:50.905693Z"
    },
    "papermill": {
     "duration": 0.05426,
     "end_time": "2021-04-04T00:32:50.906288",
     "exception": false,
     "start_time": "2021-04-04T00:32:50.852028",
     "status": "completed"
    },
    "tags": []
   },
   "outputs": [],
   "source": [
    "# layers for the Neural Network\n",
    "layers = [Affine(\"first\", 784, 100), Relu(\"first\"), Affine(\"second\", 100, 100), Relu(\"second\"), Affine(\"third\", 100, 2), Affine(\"final\", 2, 1), Sigmoid(\"final\")]\n",
    "model_nn = Model(layers)\n",
    "\n",
    "# layers for the Logistic Regression\n",
    "layers_lr = [Affine(\"logits\", 784, 1), Sigmoid(\"sigmoid\")]\n",
    "model_lr = Model(layers_lr)"
   ]
  },
  {
   "cell_type": "code",
   "execution_count": 19,
   "id": "removed-butler",
   "metadata": {
    "execution": {
     "iopub.execute_input": "2021-04-04T00:32:50.977208Z",
     "iopub.status.busy": "2021-04-04T00:32:50.976604Z",
     "iopub.status.idle": "2021-04-04T00:32:50.989649Z",
     "shell.execute_reply": "2021-04-04T00:32:50.989124Z"
    },
    "papermill": {
     "duration": 0.0509,
     "end_time": "2021-04-04T00:32:50.989772",
     "exception": false,
     "start_time": "2021-04-04T00:32:50.938872",
     "status": "completed"
    },
    "tags": []
   },
   "outputs": [],
   "source": [
    "# suffix _nn stands for Neural Network.\n",
    "learner_nn = Learner(loss, model_nn, opt, config.num_epochs)\n",
    "acc_nn = ClfCallback(learner_nn, config.bs, training_xdata , testing_xdata, training_ydata, testing_ydata)\n",
    "learner_nn.set_callbacks([acc_nn])"
   ]
  },
  {
   "cell_type": "code",
   "execution_count": 20,
   "id": "conceptual-throw",
   "metadata": {
    "execution": {
     "iopub.execute_input": "2021-04-04T00:32:51.057669Z",
     "iopub.status.busy": "2021-04-04T00:32:51.057071Z",
     "iopub.status.idle": "2021-04-04T00:34:16.697145Z",
     "shell.execute_reply": "2021-04-04T00:34:16.697723Z"
    },
    "papermill": {
     "duration": 85.675918,
     "end_time": "2021-04-04T00:34:16.697871",
     "exception": false,
     "start_time": "2021-04-04T00:32:51.021953",
     "status": "completed"
    },
    "tags": []
   },
   "outputs": [
    {
     "name": "stdout",
     "output_type": "stream",
     "text": [
      "====== Neural Network ======\n"
     ]
    },
    {
     "name": "stdout",
     "output_type": "stream",
     "text": [
      "Epoch 0, Loss 0.2233\n",
      "Training Accuracy: 0.7937, Testing Accuracy: 0.8034\n",
      "\n"
     ]
    },
    {
     "name": "stdout",
     "output_type": "stream",
     "text": [
      "Epoch 10, Loss 0.0546\n",
      "Training Accuracy: 0.9464, Testing Accuracy: 0.9506\n",
      "\n"
     ]
    },
    {
     "name": "stdout",
     "output_type": "stream",
     "text": [
      "Epoch 20, Loss 0.0392\n",
      "Training Accuracy: 0.9579, Testing Accuracy: 0.9647\n",
      "\n"
     ]
    },
    {
     "name": "stdout",
     "output_type": "stream",
     "text": [
      "Epoch 30, Loss 0.0333\n",
      "Training Accuracy: 0.9634, Testing Accuracy: 0.9688\n",
      "\n"
     ]
    },
    {
     "name": "stdout",
     "output_type": "stream",
     "text": [
      "Epoch 40, Loss 0.0299\n",
      "Training Accuracy: 0.9666, Testing Accuracy: 0.9693\n",
      "\n"
     ]
    },
    {
     "name": "stdout",
     "output_type": "stream",
     "text": [
      "Epoch 50, Loss 0.0275\n",
      "Training Accuracy: 0.9692, Testing Accuracy: 0.9708\n",
      "\n"
     ]
    },
    {
     "name": "stdout",
     "output_type": "stream",
     "text": [
      "Epoch 60, Loss 0.0257\n",
      "Training Accuracy: 0.9713, Testing Accuracy: 0.9703\n",
      "\n"
     ]
    },
    {
     "name": "stdout",
     "output_type": "stream",
     "text": [
      "Epoch 70, Loss 0.0243\n",
      "Training Accuracy: 0.9729, Testing Accuracy: 0.9718\n",
      "\n"
     ]
    },
    {
     "name": "stdout",
     "output_type": "stream",
     "text": [
      "Epoch 80, Loss 0.023\n",
      "Training Accuracy: 0.9742, Testing Accuracy: 0.9733\n",
      "\n"
     ]
    },
    {
     "name": "stdout",
     "output_type": "stream",
     "text": [
      "Epoch 90, Loss 0.022\n",
      "Training Accuracy: 0.9756, Testing Accuracy: 0.9738\n",
      "\n"
     ]
    },
    {
     "name": "stdout",
     "output_type": "stream",
     "text": [
      "Epoch 100, Loss 0.021\n",
      "Training Accuracy: 0.9765, Testing Accuracy: 0.9753\n",
      "\n"
     ]
    },
    {
     "name": "stdout",
     "output_type": "stream",
     "text": [
      "Epoch 110, Loss 0.0202\n",
      "Training Accuracy: 0.9772, Testing Accuracy: 0.9763\n",
      "\n"
     ]
    },
    {
     "name": "stdout",
     "output_type": "stream",
     "text": [
      "Epoch 120, Loss 0.0194\n",
      "Training Accuracy: 0.9778, Testing Accuracy: 0.9758\n",
      "\n"
     ]
    },
    {
     "name": "stdout",
     "output_type": "stream",
     "text": [
      "Epoch 130, Loss 0.0187\n",
      "Training Accuracy: 0.9789, Testing Accuracy: 0.9758\n",
      "\n"
     ]
    },
    {
     "name": "stdout",
     "output_type": "stream",
     "text": [
      "Epoch 140, Loss 0.0181\n",
      "Training Accuracy: 0.9799, Testing Accuracy: 0.9758\n",
      "\n"
     ]
    },
    {
     "name": "stdout",
     "output_type": "stream",
     "text": [
      "Epoch 150, Loss 0.0174\n",
      "Training Accuracy: 0.9804, Testing Accuracy: 0.9758\n",
      "\n"
     ]
    },
    {
     "name": "stdout",
     "output_type": "stream",
     "text": [
      "Epoch 160, Loss 0.0169\n",
      "Training Accuracy: 0.9817, Testing Accuracy: 0.9773\n",
      "\n"
     ]
    },
    {
     "name": "stdout",
     "output_type": "stream",
     "text": [
      "Epoch 170, Loss 0.0163\n",
      "Training Accuracy: 0.9823, Testing Accuracy: 0.9778\n",
      "\n"
     ]
    },
    {
     "name": "stdout",
     "output_type": "stream",
     "text": [
      "Epoch 180, Loss 0.0158\n",
      "Training Accuracy: 0.9826, Testing Accuracy: 0.9783\n",
      "\n"
     ]
    },
    {
     "name": "stdout",
     "output_type": "stream",
     "text": [
      "Epoch 190, Loss 0.0153\n",
      "Training Accuracy: 0.9833, Testing Accuracy: 0.9788\n",
      "\n"
     ]
    },
    {
     "name": "stdout",
     "output_type": "stream",
     "text": [
      "Epoch 200, Loss 0.0149\n",
      "Training Accuracy: 0.9836, Testing Accuracy: 0.9788\n",
      "\n"
     ]
    },
    {
     "name": "stdout",
     "output_type": "stream",
     "text": [
      "Epoch 210, Loss 0.0145\n",
      "Training Accuracy: 0.9844, Testing Accuracy: 0.9793\n",
      "\n"
     ]
    },
    {
     "name": "stdout",
     "output_type": "stream",
     "text": [
      "Epoch 220, Loss 0.0141\n",
      "Training Accuracy: 0.9848, Testing Accuracy: 0.9803\n",
      "\n"
     ]
    },
    {
     "name": "stdout",
     "output_type": "stream",
     "text": [
      "Epoch 230, Loss 0.0137\n",
      "Training Accuracy: 0.9855, Testing Accuracy: 0.9803\n",
      "\n"
     ]
    },
    {
     "name": "stdout",
     "output_type": "stream",
     "text": [
      "Epoch 240, Loss 0.0133\n",
      "Training Accuracy: 0.9859, Testing Accuracy: 0.9798\n",
      "\n"
     ]
    },
    {
     "name": "stdout",
     "output_type": "stream",
     "text": [
      "Epoch 250, Loss 0.0129\n",
      "Training Accuracy: 0.9866, Testing Accuracy: 0.9798\n",
      "\n"
     ]
    },
    {
     "data": {
      "text/plain": [
       "0.019850986658930314"
      ]
     },
     "execution_count": 20,
     "metadata": {},
     "output_type": "execute_result"
    }
   ],
   "source": [
    "print(\"====== Neural Network ======\")\n",
    "learner_nn.train_loop(dl)"
   ]
  },
  {
   "cell_type": "markdown",
   "id": "competent-suffering",
   "metadata": {
    "papermill": {
     "duration": 0.040565,
     "end_time": "2021-04-04T00:34:16.779105",
     "exception": false,
     "start_time": "2021-04-04T00:34:16.738540",
     "status": "completed"
    },
    "tags": []
   },
   "source": [
    "### Logistic Regression based Implementation."
   ]
  },
  {
   "cell_type": "code",
   "execution_count": 21,
   "id": "qualified-psychiatry",
   "metadata": {
    "execution": {
     "iopub.execute_input": "2021-04-04T00:34:16.866313Z",
     "iopub.status.busy": "2021-04-04T00:34:16.865738Z",
     "iopub.status.idle": "2021-04-04T00:34:16.879904Z",
     "shell.execute_reply": "2021-04-04T00:34:16.879445Z"
    },
    "papermill": {
     "duration": 0.060575,
     "end_time": "2021-04-04T00:34:16.880028",
     "exception": false,
     "start_time": "2021-04-04T00:34:16.819453",
     "status": "completed"
    },
    "tags": []
   },
   "outputs": [],
   "source": [
    "learner_lr = Learner(loss, model_lr, opt, config.num_epochs)\n",
    "acc_lr = ClfCallback(learner_lr, config.bs, training_xdata , testing_xdata, training_ydata, testing_ydata)\n",
    "learner_lr.set_callbacks([acc_lr])"
   ]
  },
  {
   "cell_type": "code",
   "execution_count": 22,
   "id": "average-outside",
   "metadata": {
    "execution": {
     "iopub.execute_input": "2021-04-04T00:34:16.965964Z",
     "iopub.status.busy": "2021-04-04T00:34:16.965389Z",
     "iopub.status.idle": "2021-04-04T00:34:32.314720Z",
     "shell.execute_reply": "2021-04-04T00:34:32.315544Z"
    },
    "papermill": {
     "duration": 15.395075,
     "end_time": "2021-04-04T00:34:32.315698",
     "exception": false,
     "start_time": "2021-04-04T00:34:16.920623",
     "status": "completed"
    },
    "tags": []
   },
   "outputs": [
    {
     "name": "stdout",
     "output_type": "stream",
     "text": [
      "====== Logistic Regression ======\n",
      "Epoch 0, Loss 0.2326\n",
      "Training Accuracy: 0.7185, Testing Accuracy: 0.7475\n",
      "\n"
     ]
    },
    {
     "name": "stdout",
     "output_type": "stream",
     "text": [
      "Epoch 10, Loss 0.1055\n",
      "Training Accuracy: 0.8988, Testing Accuracy: 0.9133\n",
      "\n"
     ]
    },
    {
     "name": "stdout",
     "output_type": "stream",
     "text": [
      "Epoch 20, Loss 0.0811\n",
      "Training Accuracy: 0.9224, Testing Accuracy: 0.9345\n",
      "\n"
     ]
    },
    {
     "name": "stdout",
     "output_type": "stream",
     "text": [
      "Epoch 30, Loss 0.0696\n",
      "Training Accuracy: 0.9327, Testing Accuracy: 0.9471\n",
      "\n"
     ]
    },
    {
     "name": "stdout",
     "output_type": "stream",
     "text": [
      "Epoch 40, Loss 0.0627\n",
      "Training Accuracy: 0.9385, Testing Accuracy: 0.9521\n",
      "\n"
     ]
    },
    {
     "name": "stdout",
     "output_type": "stream",
     "text": [
      "Epoch 50, Loss 0.058\n",
      "Training Accuracy: 0.9417, Testing Accuracy: 0.9531\n",
      "\n"
     ]
    },
    {
     "name": "stdout",
     "output_type": "stream",
     "text": [
      "Epoch 60, Loss 0.0545\n",
      "Training Accuracy: 0.9445, Testing Accuracy: 0.9536\n",
      "\n"
     ]
    },
    {
     "name": "stdout",
     "output_type": "stream",
     "text": [
      "Epoch 70, Loss 0.0519\n",
      "Training Accuracy: 0.9473, Testing Accuracy: 0.9561\n",
      "\n"
     ]
    },
    {
     "name": "stdout",
     "output_type": "stream",
     "text": [
      "Epoch 80, Loss 0.0497\n",
      "Training Accuracy: 0.9490, Testing Accuracy: 0.9567\n",
      "\n"
     ]
    },
    {
     "name": "stdout",
     "output_type": "stream",
     "text": [
      "Epoch 90, Loss 0.048\n",
      "Training Accuracy: 0.9503, Testing Accuracy: 0.9582\n",
      "\n"
     ]
    },
    {
     "name": "stdout",
     "output_type": "stream",
     "text": [
      "Epoch 100, Loss 0.0465\n",
      "Training Accuracy: 0.9513, Testing Accuracy: 0.9592\n",
      "\n"
     ]
    },
    {
     "name": "stdout",
     "output_type": "stream",
     "text": [
      "Epoch 110, Loss 0.0453\n",
      "Training Accuracy: 0.9526, Testing Accuracy: 0.9602\n",
      "\n"
     ]
    },
    {
     "name": "stdout",
     "output_type": "stream",
     "text": [
      "Epoch 120, Loss 0.0442\n",
      "Training Accuracy: 0.9532, Testing Accuracy: 0.9612\n",
      "\n"
     ]
    },
    {
     "name": "stdout",
     "output_type": "stream",
     "text": [
      "Epoch 130, Loss 0.0432\n",
      "Training Accuracy: 0.9537, Testing Accuracy: 0.9612\n",
      "\n"
     ]
    },
    {
     "name": "stdout",
     "output_type": "stream",
     "text": [
      "Epoch 140, Loss 0.0424\n",
      "Training Accuracy: 0.9546, Testing Accuracy: 0.9622\n",
      "\n"
     ]
    },
    {
     "name": "stdout",
     "output_type": "stream",
     "text": [
      "Epoch 150, Loss 0.0416\n",
      "Training Accuracy: 0.9552, Testing Accuracy: 0.9627\n",
      "\n"
     ]
    },
    {
     "name": "stdout",
     "output_type": "stream",
     "text": [
      "Epoch 160, Loss 0.0409\n",
      "Training Accuracy: 0.9556, Testing Accuracy: 0.9627\n",
      "\n"
     ]
    },
    {
     "name": "stdout",
     "output_type": "stream",
     "text": [
      "Epoch 170, Loss 0.0403\n",
      "Training Accuracy: 0.9567, Testing Accuracy: 0.9642\n",
      "\n"
     ]
    },
    {
     "name": "stdout",
     "output_type": "stream",
     "text": [
      "Epoch 180, Loss 0.0397\n",
      "Training Accuracy: 0.9570, Testing Accuracy: 0.9642\n",
      "\n"
     ]
    },
    {
     "name": "stdout",
     "output_type": "stream",
     "text": [
      "Epoch 190, Loss 0.0392\n",
      "Training Accuracy: 0.9575, Testing Accuracy: 0.9642\n",
      "\n"
     ]
    },
    {
     "name": "stdout",
     "output_type": "stream",
     "text": [
      "Epoch 200, Loss 0.0387\n",
      "Training Accuracy: 0.9580, Testing Accuracy: 0.9642\n",
      "\n"
     ]
    },
    {
     "name": "stdout",
     "output_type": "stream",
     "text": [
      "Epoch 210, Loss 0.0383\n",
      "Training Accuracy: 0.9584, Testing Accuracy: 0.9642\n",
      "\n"
     ]
    },
    {
     "name": "stdout",
     "output_type": "stream",
     "text": [
      "Epoch 220, Loss 0.0379\n",
      "Training Accuracy: 0.9590, Testing Accuracy: 0.9652\n",
      "\n"
     ]
    },
    {
     "name": "stdout",
     "output_type": "stream",
     "text": [
      "Epoch 230, Loss 0.0375\n",
      "Training Accuracy: 0.9598, Testing Accuracy: 0.9657\n",
      "\n"
     ]
    },
    {
     "name": "stdout",
     "output_type": "stream",
     "text": [
      "Epoch 240, Loss 0.0371\n",
      "Training Accuracy: 0.9600, Testing Accuracy: 0.9657\n",
      "\n"
     ]
    },
    {
     "name": "stdout",
     "output_type": "stream",
     "text": [
      "Epoch 250, Loss 0.0367\n",
      "Training Accuracy: 0.9606, Testing Accuracy: 0.9657\n",
      "\n"
     ]
    },
    {
     "data": {
      "text/plain": [
       "0.013040030971274888"
      ]
     },
     "execution_count": 22,
     "metadata": {},
     "output_type": "execute_result"
    }
   ],
   "source": [
    "print(\"====== Logistic Regression ======\")\n",
    "learner_lr.train_loop(dl)"
   ]
  },
  {
   "cell_type": "markdown",
   "id": "adjusted-possible",
   "metadata": {
    "papermill": {
     "duration": 0.048246,
     "end_time": "2021-04-04T00:34:32.412620",
     "exception": false,
     "start_time": "2021-04-04T00:34:32.364374",
     "status": "completed"
    },
    "tags": []
   },
   "source": [
    "### Comparing results of NN and LR"
   ]
  },
  {
   "cell_type": "code",
   "execution_count": 23,
   "id": "mental-multimedia",
   "metadata": {
    "execution": {
     "iopub.execute_input": "2021-04-04T00:34:32.515700Z",
     "iopub.status.busy": "2021-04-04T00:34:32.514631Z",
     "iopub.status.idle": "2021-04-04T00:34:32.758939Z",
     "shell.execute_reply": "2021-04-04T00:34:32.758457Z"
    },
    "papermill": {
     "duration": 0.298067,
     "end_time": "2021-04-04T00:34:32.759068",
     "exception": false,
     "start_time": "2021-04-04T00:34:32.461001",
     "status": "completed"
    },
    "tags": []
   },
   "outputs": [
    {
     "data": {
      "text/plain": [
       "<matplotlib.legend.Legend at 0x7fc7d30684a8>"
      ]
     },
     "execution_count": 23,
     "metadata": {},
     "output_type": "execute_result"
    },
    {
     "data": {
      "image/png": "[encoded data removed]",
      "text/plain": [
       "<Figure size 1080x720 with 1 Axes>"
      ]
     },
     "metadata": {
      "needs_background": "light"
     },
     "output_type": "display_data"
    }
   ],
   "source": [
    "plt.figure(figsize=(15,10))\n",
    "\n",
    "# Neural Network plots\n",
    "plt.plot(acc_nn.accuracies, 'r-', label = \"Training Accuracies - NN\")\n",
    "plt.plot(acc_nn.test_accuracies, 'g-', label = \"Testing Accuracies - NN\")\n",
    "\n",
    "# Logistic Regression plots\n",
    "plt.plot(acc_lr.accuracies, 'k-', label = \"Training Accuracies - LR\")\n",
    "plt.plot(acc_lr.test_accuracies, 'b-', label = \"Testing Accuracies - LR\")\n",
    "\n",
    "plt.ylim(0.8, 1)\n",
    "\n",
    "plt.legend()\n",
    "\n"
   ]
  },
  {
   "cell_type": "markdown",
   "id": "sexual-flesh",
   "metadata": {
    "papermill": {
     "duration": 0.050284,
     "end_time": "2021-04-04T00:34:32.859760",
     "exception": false,
     "start_time": "2021-04-04T00:34:32.809476",
     "status": "completed"
    },
    "tags": []
   },
   "source": [
    "### From the plot, we can observe the following:\n",
    "- Neural Network achieves higher accuracy than the Logistic Regression model.\n",
    "- This apparently, is because of overfitting, i.e. NN captures more noise than data.\n",
    "- Testing accuracy of NN drops below the Training accuracy at higher epochs. This explains the over-fitting on training data.\n",
    "- Logistic Regression gives a reliable accuracy, without the above mentioned problem.\n"
   ]
  },
  {
   "cell_type": "markdown",
   "id": "institutional-pacific",
   "metadata": {
    "papermill": {
     "duration": 0.05009,
     "end_time": "2021-04-04T00:34:32.959765",
     "exception": false,
     "start_time": "2021-04-04T00:34:32.909675",
     "status": "completed"
    },
    "tags": []
   },
   "source": [
    "### Moving till the last but one layer (excluding it).\n",
    "#### Plotting the outputs of this layer of the NN."
   ]
  },
  {
   "cell_type": "code",
   "execution_count": 24,
   "id": "economic-server",
   "metadata": {
    "execution": {
     "iopub.execute_input": "2021-04-04T00:34:33.066532Z",
     "iopub.status.busy": "2021-04-04T00:34:33.063797Z",
     "iopub.status.idle": "2021-04-04T00:34:33.076699Z",
     "shell.execute_reply": "2021-04-04T00:34:33.076209Z"
    },
    "papermill": {
     "duration": 0.066814,
     "end_time": "2021-04-04T00:34:33.076819",
     "exception": false,
     "start_time": "2021-04-04T00:34:33.010005",
     "status": "completed"
    },
    "tags": []
   },
   "outputs": [],
   "source": [
    "model_new = Model(layers[:-2])"
   ]
  },
  {
   "cell_type": "code",
   "execution_count": 25,
   "id": "varied-upgrade",
   "metadata": {
    "execution": {
     "iopub.execute_input": "2021-04-04T00:34:33.194204Z",
     "iopub.status.busy": "2021-04-04T00:34:33.188523Z",
     "iopub.status.idle": "2021-04-04T00:34:33.217806Z",
     "shell.execute_reply": "2021-04-04T00:34:33.218622Z"
    },
    "papermill": {
     "duration": 0.092254,
     "end_time": "2021-04-04T00:34:33.219234",
     "exception": false,
     "start_time": "2021-04-04T00:34:33.126980",
     "status": "completed"
    },
    "tags": []
   },
   "outputs": [],
   "source": [
    "plot_testing = model_new(testing_xdata)"
   ]
  },
  {
   "cell_type": "code",
   "execution_count": 26,
   "id": "specific-handling",
   "metadata": {
    "execution": {
     "iopub.execute_input": "2021-04-04T00:34:33.334785Z",
     "iopub.status.busy": "2021-04-04T00:34:33.334211Z",
     "iopub.status.idle": "2021-04-04T00:34:33.534526Z",
     "shell.execute_reply": "2021-04-04T00:34:33.534019Z"
    },
    "papermill": {
     "duration": 0.262515,
     "end_time": "2021-04-04T00:34:33.534653",
     "exception": false,
     "start_time": "2021-04-04T00:34:33.272138",
     "status": "completed"
    },
    "tags": []
   },
   "outputs": [
    {
     "data": {
      "text/plain": [
       "Text(0.5, 1.0, 'Outputs')"
      ]
     },
     "execution_count": 26,
     "metadata": {},
     "output_type": "execute_result"
    },
    {
     "data": {
      "image/png": "[encoded data removed]",
      "text/plain": [
       "<Figure size 576x504 with 1 Axes>"
      ]
     },
     "metadata": {
      "needs_background": "light"
     },
     "output_type": "display_data"
    }
   ],
   "source": [
    "plt.figure(figsize=(8,7))\n",
    "plt.scatter(plot_testing[:,0], plot_testing[:,1], alpha = 0.1, c = y_test.ravel());\n",
    "plt.title('Outputs')"
   ]
  },
  {
   "cell_type": "markdown",
   "id": "described-knowing",
   "metadata": {
    "papermill": {
     "duration": 0.054687,
     "end_time": "2021-04-04T00:34:33.644242",
     "exception": false,
     "start_time": "2021-04-04T00:34:33.589555",
     "status": "completed"
    },
    "tags": []
   },
   "source": [
    "### Plotting probability contours"
   ]
  },
  {
   "cell_type": "code",
   "execution_count": 27,
   "id": "needed-growing",
   "metadata": {
    "execution": {
     "iopub.execute_input": "2021-04-04T00:34:33.782081Z",
     "iopub.status.busy": "2021-04-04T00:34:33.781498Z",
     "iopub.status.idle": "2021-04-04T00:34:33.794198Z",
     "shell.execute_reply": "2021-04-04T00:34:33.794670Z"
    },
    "papermill": {
     "duration": 0.073164,
     "end_time": "2021-04-04T00:34:33.794818",
     "exception": false,
     "start_time": "2021-04-04T00:34:33.721654",
     "status": "completed"
    },
    "tags": []
   },
   "outputs": [],
   "source": [
    "model_prob = Model(layers[-2:]) "
   ]
  },
  {
   "cell_type": "code",
   "execution_count": 28,
   "id": "introductory-enforcement",
   "metadata": {
    "execution": {
     "iopub.execute_input": "2021-04-04T00:34:33.909273Z",
     "iopub.status.busy": "2021-04-04T00:34:33.908128Z",
     "iopub.status.idle": "2021-04-04T00:34:33.922608Z",
     "shell.execute_reply": "2021-04-04T00:34:33.923039Z"
    },
    "papermill": {
     "duration": 0.075503,
     "end_time": "2021-04-04T00:34:33.923185",
     "exception": false,
     "start_time": "2021-04-04T00:34:33.847682",
     "status": "completed"
    },
    "tags": []
   },
   "outputs": [],
   "source": [
    "# Adjust the x and y ranges according to the above generated plot.\n",
    "x_range = np.linspace(-4, 1, 100) \n",
    "y_range = np.linspace(-6, 6, 100) \n",
    "x_grid, y_grid = np.meshgrid(x_range, y_range) # x_grid and y_grig are of size 100 X 100\n",
    "\n",
    "# converting x_grid and y_grid to continuous arrays\n",
    "x_grid_flat = np.ravel(x_grid)\n",
    "y_grid_flat = np.ravel(y_grid)\n",
    "\n",
    "# The last layer of the current model takes two columns as input. Hence transpose of np.vstack() is required.\n",
    "X = np.vstack((x_grid_flat, y_grid_flat)).T\n",
    "\n",
    "# x_grid and y_grid are of size 100 x 100\n",
    "probability_contour = model_prob(X).reshape(100,100) "
   ]
  },
  {
   "cell_type": "code",
   "execution_count": 29,
   "id": "understood-landing",
   "metadata": {
    "execution": {
     "iopub.execute_input": "2021-04-04T00:34:34.034576Z",
     "iopub.status.busy": "2021-04-04T00:34:34.033996Z",
     "iopub.status.idle": "2021-04-04T00:34:34.276669Z",
     "shell.execute_reply": "2021-04-04T00:34:34.275734Z"
    },
    "papermill": {
     "duration": 0.300298,
     "end_time": "2021-04-04T00:34:34.276853",
     "exception": false,
     "start_time": "2021-04-04T00:34:33.976555",
     "status": "completed"
    },
    "tags": []
   },
   "outputs": [
    {
     "data": {
      "image/png": "[encoded data removed]",
      "text/plain": [
       "<Figure size 720x648 with 1 Axes>"
      ]
     },
     "metadata": {
      "needs_background": "light"
     },
     "output_type": "display_data"
    }
   ],
   "source": [
    "plt.figure(figsize=(10,9))\n",
    "plt.scatter(plot_testing[:,0], plot_testing[:,1], alpha = 0.1, c = y_test.ravel())\n",
    "contours = plt.contour(x_grid,y_grid,probability_contour)\n",
    "plt.title('Probability Contours')\n",
    "plt.clabel(contours, inline = True );"
   ]
  }
 ],
 "metadata": {
  "kernelspec": {
   "display_name": "Python 3",
   "language": "python",
   "name": "python3"
  },
  "language_info": {
   "codemirror_mode": {
    "name": "ipython",
    "version": 3
   },
   "file_extension": ".py",
   "mimetype": "text/x-python",
   "name": "python",
   "nbconvert_exporter": "python",
   "pygments_lexer": "ipython3",
   "version": "3.6.13"
  },
  "papermill": {
   "duration": 237.951198,
   "end_time": "2021-04-04T00:34:34.744811",
   "environment_variables": {},
   "exception": null,
   "input_path": "2020-08-11-NeuralNetwork.ipynb",
   "output_path": "2020-08-11-NeuralNetwork.ipynb",
   "parameters": {},
   "start_time": "2021-04-04T00:30:36.793613",
   "version": "2.1.2"
  }
 },
 "nbformat": 4,
 "nbformat_minor": 5
}