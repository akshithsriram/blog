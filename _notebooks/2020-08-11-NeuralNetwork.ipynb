{
 "cells": [
  {
   "cell_type": "markdown",
   "metadata": {
    "papermill": {
     "duration": 0.034234,
     "end_time": "2020-11-30T00:07:47.900414",
     "exception": false,
     "start_time": "2020-11-30T00:07:47.866180",
     "status": "completed"
    },
    "tags": []
   },
   "source": [
    "# \"A Basic Neural Network: Differentiate Hand-Written Digits\"\n",
    "\n",
    "- badges: true\n",
    "- author: Akshith Sriram"
   ]
  },
  {
   "cell_type": "markdown",
   "metadata": {
    "papermill": {
     "duration": 0.031125,
     "end_time": "2020-11-30T00:07:47.962881",
     "exception": false,
     "start_time": "2020-11-30T00:07:47.931756",
     "status": "completed"
    },
    "tags": []
   },
   "source": [
    "### Key Objectives:\n",
    "- Building a neural network that differentiates two hand-written digits 3 and 8.\n",
    "- Comparing the results of this Neural Network (NN) to that of a Logistic Regression (LR) model.\n",
    "\n",
    "### Requirements:\n",
    "- 'Kudzu' : A neural network library that was designed during our course by [Univ.AI](www.univ.ai). \n",
    "- MNIST Database\n",
    "\n",
    "If MNIST is not installed, use the command `!pip install mnist` given below.\n",
    "It can be run both from the command line and Jupyter Notebook."
   ]
  },
  {
   "cell_type": "code",
   "execution_count": 1,
   "metadata": {
    "execution": {
     "iopub.execute_input": "2020-11-30T00:07:48.026901Z",
     "iopub.status.busy": "2020-11-30T00:07:48.026170Z",
     "iopub.status.idle": "2020-11-30T00:07:49.630275Z",
     "shell.execute_reply": "2020-11-30T00:07:49.629652Z"
    },
    "papermill": {
     "duration": 1.638014,
     "end_time": "2020-11-30T00:07:49.630473",
     "exception": false,
     "start_time": "2020-11-30T00:07:47.992459",
     "status": "completed"
    },
    "tags": []
   },
   "outputs": [
    {
     "name": "stdout",
     "output_type": "stream",
     "text": [
      "Collecting mnist\r\n"
     ]
    },
    {
     "name": "stdout",
     "output_type": "stream",
     "text": [
      "  Downloading mnist-0.2.2-py2.py3-none-any.whl (3.5 kB)\r\n"
     ]
    },
    {
     "name": "stdout",
     "output_type": "stream",
     "text": [
      "Requirement already satisfied: numpy in /opt/hostedtoolcache/Python/3.6.12/x64/lib/python3.6/site-packages (from mnist) (1.19.4)\r\n"
     ]
    },
    {
     "name": "stdout",
     "output_type": "stream",
     "text": [
      "Installing collected packages: mnist\r\n"
     ]
    },
    {
     "name": "stdout",
     "output_type": "stream",
     "text": [
      "Successfully installed mnist-0.2.2\r\n"
     ]
    }
   ],
   "source": [
    "!pip install mnist "
   ]
  },
  {
   "cell_type": "markdown",
   "metadata": {
    "papermill": {
     "duration": 0.031364,
     "end_time": "2020-11-30T00:07:49.692895",
     "exception": false,
     "start_time": "2020-11-30T00:07:49.661531",
     "status": "completed"
    },
    "tags": []
   },
   "source": [
    "#### Importing necessary libraries"
   ]
  },
  {
   "cell_type": "code",
   "execution_count": 2,
   "metadata": {
    "execution": {
     "iopub.execute_input": "2020-11-30T00:07:49.764814Z",
     "iopub.status.busy": "2020-11-30T00:07:49.764177Z",
     "iopub.status.idle": "2020-11-30T00:07:50.405517Z",
     "shell.execute_reply": "2020-11-30T00:07:50.404748Z"
    },
    "papermill": {
     "duration": 0.680868,
     "end_time": "2020-11-30T00:07:50.405673",
     "exception": false,
     "start_time": "2020-11-30T00:07:49.724805",
     "status": "completed"
    },
    "tags": []
   },
   "outputs": [],
   "source": [
    "%load_ext autoreload\n",
    "%autoreload 2\n",
    "\n",
    "%matplotlib inline\n",
    "import matplotlib.pyplot as plt\n",
    "\n",
    "import numpy as np\n",
    "import pandas as pd"
   ]
  },
  {
   "cell_type": "markdown",
   "metadata": {
    "papermill": {
     "duration": 0.031125,
     "end_time": "2020-11-30T00:07:50.469290",
     "exception": false,
     "start_time": "2020-11-30T00:07:50.438165",
     "status": "completed"
    },
    "tags": []
   },
   "source": [
    "### Preparing the Data"
   ]
  },
  {
   "cell_type": "code",
   "execution_count": 3,
   "metadata": {
    "execution": {
     "iopub.execute_input": "2020-11-30T00:07:50.536367Z",
     "iopub.status.busy": "2020-11-30T00:07:50.535643Z",
     "iopub.status.idle": "2020-11-30T00:07:50.551332Z",
     "shell.execute_reply": "2020-11-30T00:07:50.550534Z"
    },
    "papermill": {
     "duration": 0.051027,
     "end_time": "2020-11-30T00:07:50.551482",
     "exception": false,
     "start_time": "2020-11-30T00:07:50.500455",
     "status": "completed"
    },
    "tags": []
   },
   "outputs": [],
   "source": [
    "import mnist"
   ]
  },
  {
   "cell_type": "code",
   "execution_count": 4,
   "metadata": {
    "execution": {
     "iopub.execute_input": "2020-11-30T00:07:50.629473Z",
     "iopub.status.busy": "2020-11-30T00:07:50.628760Z",
     "iopub.status.idle": "2020-11-30T00:07:51.502285Z",
     "shell.execute_reply": "2020-11-30T00:07:51.502822Z"
    },
    "papermill": {
     "duration": 0.915011,
     "end_time": "2020-11-30T00:07:51.503007",
     "exception": false,
     "start_time": "2020-11-30T00:07:50.587996",
     "status": "completed"
    },
    "tags": []
   },
   "outputs": [],
   "source": [
    "train_images = mnist.train_images()\n",
    "train_labels = mnist.train_labels()"
   ]
  },
  {
   "cell_type": "code",
   "execution_count": 5,
   "metadata": {
    "execution": {
     "iopub.execute_input": "2020-11-30T00:07:51.573180Z",
     "iopub.status.busy": "2020-11-30T00:07:51.572509Z",
     "iopub.status.idle": "2020-11-30T00:07:51.588456Z",
     "shell.execute_reply": "2020-11-30T00:07:51.589067Z"
    },
    "papermill": {
     "duration": 0.055147,
     "end_time": "2020-11-30T00:07:51.589234",
     "exception": false,
     "start_time": "2020-11-30T00:07:51.534087",
     "status": "completed"
    },
    "tags": []
   },
   "outputs": [
    {
     "data": {
      "text/plain": [
       "((60000, 28, 28), (60000,))"
      ]
     },
     "execution_count": 5,
     "metadata": {},
     "output_type": "execute_result"
    }
   ],
   "source": [
    "train_images.shape, train_labels.shape"
   ]
  },
  {
   "cell_type": "code",
   "execution_count": 6,
   "metadata": {
    "execution": {
     "iopub.execute_input": "2020-11-30T00:07:51.654698Z",
     "iopub.status.busy": "2020-11-30T00:07:51.654075Z",
     "iopub.status.idle": "2020-11-30T00:07:51.894584Z",
     "shell.execute_reply": "2020-11-30T00:07:51.895120Z"
    },
    "papermill": {
     "duration": 0.274894,
     "end_time": "2020-11-30T00:07:51.895296",
     "exception": false,
     "start_time": "2020-11-30T00:07:51.620402",
     "status": "completed"
    },
    "tags": []
   },
   "outputs": [],
   "source": [
    "test_images = mnist.test_images()\n",
    "test_labels = mnist.test_labels()"
   ]
  },
  {
   "cell_type": "code",
   "execution_count": 7,
   "metadata": {
    "execution": {
     "iopub.execute_input": "2020-11-30T00:07:51.966099Z",
     "iopub.status.busy": "2020-11-30T00:07:51.965415Z",
     "iopub.status.idle": "2020-11-30T00:07:51.977875Z",
     "shell.execute_reply": "2020-11-30T00:07:51.977242Z"
    },
    "papermill": {
     "duration": 0.050665,
     "end_time": "2020-11-30T00:07:51.978027",
     "exception": false,
     "start_time": "2020-11-30T00:07:51.927362",
     "status": "completed"
    },
    "tags": []
   },
   "outputs": [
    {
     "data": {
      "text/plain": [
       "((10000, 28, 28), (10000,))"
      ]
     },
     "execution_count": 7,
     "metadata": {},
     "output_type": "execute_result"
    }
   ],
   "source": [
    "test_images.shape, test_labels.shape"
   ]
  },
  {
   "cell_type": "code",
   "execution_count": 8,
   "metadata": {
    "execution": {
     "iopub.execute_input": "2020-11-30T00:07:52.046630Z",
     "iopub.status.busy": "2020-11-30T00:07:52.045796Z",
     "iopub.status.idle": "2020-11-30T00:07:52.229795Z",
     "shell.execute_reply": "2020-11-30T00:07:52.230322Z"
    },
    "papermill": {
     "duration": 0.220824,
     "end_time": "2020-11-30T00:07:52.230494",
     "exception": false,
     "start_time": "2020-11-30T00:07:52.009670",
     "status": "completed"
    },
    "tags": []
   },
   "outputs": [
    {
     "name": "stdout",
     "output_type": "stream",
     "text": [
      "2\n"
     ]
    },
    {
     "data": {
      "text/plain": [
       "<matplotlib.image.AxesImage at 0x7f2e9738d080>"
      ]
     },
     "execution_count": 8,
     "metadata": {},
     "output_type": "execute_result"
    },
    {
     "data": {
      "image/png": "[encoded data removed]",
      "text/plain": [
       "<Figure size 432x288 with 1 Axes>"
      ]
     },
     "metadata": {
      "needs_background": "light"
     },
     "output_type": "display_data"
    }
   ],
   "source": [
    "image_index = 7776 # You may select anything up to 60,000\n",
    "print(train_labels[image_index]) \n",
    "plt.imshow(train_images[image_index], cmap='Greys')"
   ]
  },
  {
   "cell_type": "markdown",
   "metadata": {
    "papermill": {
     "duration": 0.03216,
     "end_time": "2020-11-30T00:07:52.295595",
     "exception": false,
     "start_time": "2020-11-30T00:07:52.263435",
     "status": "completed"
    },
    "tags": []
   },
   "source": [
    "## Filter data to get 3 and 8 out"
   ]
  },
  {
   "cell_type": "code",
   "execution_count": 9,
   "metadata": {
    "execution": {
     "iopub.execute_input": "2020-11-30T00:07:52.367762Z",
     "iopub.status.busy": "2020-11-30T00:07:52.367095Z",
     "iopub.status.idle": "2020-11-30T00:07:52.385237Z",
     "shell.execute_reply": "2020-11-30T00:07:52.384670Z"
    },
    "papermill": {
     "duration": 0.056135,
     "end_time": "2020-11-30T00:07:52.385395",
     "exception": false,
     "start_time": "2020-11-30T00:07:52.329260",
     "status": "completed"
    },
    "tags": []
   },
   "outputs": [],
   "source": [
    "train_filter = np.where((train_labels == 3 ) | (train_labels == 8))\n",
    "test_filter = np.where((test_labels == 3) | (test_labels == 8))\n",
    "X_train, y_train = train_images[train_filter], train_labels[train_filter]\n",
    "X_test, y_test = test_images[test_filter], test_labels[test_filter]"
   ]
  },
  {
   "cell_type": "markdown",
   "metadata": {
    "papermill": {
     "duration": 0.033697,
     "end_time": "2020-11-30T00:07:52.451815",
     "exception": false,
     "start_time": "2020-11-30T00:07:52.418118",
     "status": "completed"
    },
    "tags": []
   },
   "source": [
    "We normalize the pixel values in the 0 to 1 range"
   ]
  },
  {
   "cell_type": "code",
   "execution_count": 10,
   "metadata": {
    "execution": {
     "iopub.execute_input": "2020-11-30T00:07:52.536881Z",
     "iopub.status.busy": "2020-11-30T00:07:52.536210Z",
     "iopub.status.idle": "2020-11-30T00:07:52.603553Z",
     "shell.execute_reply": "2020-11-30T00:07:52.602955Z"
    },
    "papermill": {
     "duration": 0.105219,
     "end_time": "2020-11-30T00:07:52.603713",
     "exception": false,
     "start_time": "2020-11-30T00:07:52.498494",
     "status": "completed"
    },
    "tags": []
   },
   "outputs": [],
   "source": [
    "X_train = X_train/255.\n",
    "X_test = X_test/255."
   ]
  },
  {
   "cell_type": "markdown",
   "metadata": {
    "papermill": {
     "duration": 0.037736,
     "end_time": "2020-11-30T00:07:52.674657",
     "exception": false,
     "start_time": "2020-11-30T00:07:52.636921",
     "status": "completed"
    },
    "tags": []
   },
   "source": [
    "Setup the labels as 1 (when the digit is 3) and 0 (when the digit is 8)"
   ]
  },
  {
   "cell_type": "code",
   "execution_count": 11,
   "metadata": {
    "execution": {
     "iopub.execute_input": "2020-11-30T00:07:52.755641Z",
     "iopub.status.busy": "2020-11-30T00:07:52.749249Z",
     "iopub.status.idle": "2020-11-30T00:07:52.758988Z",
     "shell.execute_reply": "2020-11-30T00:07:52.758279Z"
    },
    "papermill": {
     "duration": 0.052662,
     "end_time": "2020-11-30T00:07:52.759200",
     "exception": false,
     "start_time": "2020-11-30T00:07:52.706538",
     "status": "completed"
    },
    "tags": []
   },
   "outputs": [],
   "source": [
    "y_train = 1*(y_train==3)\n",
    "y_test = 1*(y_test==3)"
   ]
  },
  {
   "cell_type": "code",
   "execution_count": 12,
   "metadata": {
    "execution": {
     "iopub.execute_input": "2020-11-30T00:07:52.829075Z",
     "iopub.status.busy": "2020-11-30T00:07:52.828276Z",
     "iopub.status.idle": "2020-11-30T00:07:52.842947Z",
     "shell.execute_reply": "2020-11-30T00:07:52.843536Z"
    },
    "papermill": {
     "duration": 0.052443,
     "end_time": "2020-11-30T00:07:52.843702",
     "exception": false,
     "start_time": "2020-11-30T00:07:52.791259",
     "status": "completed"
    },
    "tags": []
   },
   "outputs": [
    {
     "data": {
      "text/plain": [
       "((11982, 28, 28), (1984, 28, 28))"
      ]
     },
     "execution_count": 12,
     "metadata": {},
     "output_type": "execute_result"
    }
   ],
   "source": [
    "X_train.shape, X_test.shape"
   ]
  },
  {
   "cell_type": "markdown",
   "metadata": {
    "papermill": {
     "duration": 0.032273,
     "end_time": "2020-11-30T00:07:52.907950",
     "exception": false,
     "start_time": "2020-11-30T00:07:52.875677",
     "status": "completed"
    },
    "tags": []
   },
   "source": [
    "### Reshape the input data to create a linear array"
   ]
  },
  {
   "cell_type": "code",
   "execution_count": 13,
   "metadata": {
    "execution": {
     "iopub.execute_input": "2020-11-30T00:07:52.987588Z",
     "iopub.status.busy": "2020-11-30T00:07:52.982239Z",
     "iopub.status.idle": "2020-11-30T00:07:52.994464Z",
     "shell.execute_reply": "2020-11-30T00:07:52.993873Z"
    },
    "papermill": {
     "duration": 0.053908,
     "end_time": "2020-11-30T00:07:52.994676",
     "exception": false,
     "start_time": "2020-11-30T00:07:52.940768",
     "status": "completed"
    },
    "tags": []
   },
   "outputs": [
    {
     "data": {
      "text/plain": [
       "((11982, 784), (1984, 784))"
      ]
     },
     "execution_count": 13,
     "metadata": {},
     "output_type": "execute_result"
    }
   ],
   "source": [
    "X_train = X_train.reshape(X_train.shape[0], -1)\n",
    "X_test = X_test.reshape(X_test.shape[0], -1)\n",
    "X_train.shape, X_test.shape"
   ]
  },
  {
   "cell_type": "markdown",
   "metadata": {
    "papermill": {
     "duration": 0.034672,
     "end_time": "2020-11-30T00:07:53.063127",
     "exception": false,
     "start_time": "2020-11-30T00:07:53.028455",
     "status": "completed"
    },
    "tags": []
   },
   "source": [
    "### Importing appropriate functions from 'Kudzu'"
   ]
  },
  {
   "cell_type": "code",
   "execution_count": 14,
   "metadata": {
    "execution": {
     "iopub.execute_input": "2020-11-30T00:07:53.144089Z",
     "iopub.status.busy": "2020-11-30T00:07:53.143421Z",
     "iopub.status.idle": "2020-11-30T00:07:53.163217Z",
     "shell.execute_reply": "2020-11-30T00:07:53.163740Z"
    },
    "papermill": {
     "duration": 0.061209,
     "end_time": "2020-11-30T00:07:53.163928",
     "exception": false,
     "start_time": "2020-11-30T00:07:53.102719",
     "status": "completed"
    },
    "tags": []
   },
   "outputs": [],
   "source": [
    "from kudzu.layer import Sigmoid\n",
    "from kudzu.layer import Relu\n",
    "from kudzu.layer import Affine, Sigmoid\n",
    "\n",
    "from kudzu.model import Model\n",
    "from kudzu.train import Learner\n",
    "from kudzu.optim import GD\n",
    "from kudzu.data import Data, Dataloader, Sampler\n",
    "\n",
    "from kudzu.callbacks import AccCallback\n",
    "from kudzu.callbacks import ClfCallback\n",
    "\n",
    "from kudzu.loss import MSE"
   ]
  },
  {
   "cell_type": "markdown",
   "metadata": {
    "papermill": {
     "duration": 0.033394,
     "end_time": "2020-11-30T00:07:53.232770",
     "exception": false,
     "start_time": "2020-11-30T00:07:53.199376",
     "status": "completed"
    },
    "tags": []
   },
   "source": [
    "### Let us create a `Config` class, to store important parameters. \n",
    "This class essentially plays the role of a dictionary."
   ]
  },
  {
   "cell_type": "code",
   "execution_count": 15,
   "metadata": {
    "execution": {
     "iopub.execute_input": "2020-11-30T00:07:53.307551Z",
     "iopub.status.busy": "2020-11-30T00:07:53.306871Z",
     "iopub.status.idle": "2020-11-30T00:07:53.318596Z",
     "shell.execute_reply": "2020-11-30T00:07:53.319308Z"
    },
    "papermill": {
     "duration": 0.053343,
     "end_time": "2020-11-30T00:07:53.319507",
     "exception": false,
     "start_time": "2020-11-30T00:07:53.266164",
     "status": "completed"
    },
    "tags": []
   },
   "outputs": [],
   "source": [
    "class Config:\n",
    "    pass\n",
    "config = Config()\n",
    "config.lr = 0.001\n",
    "config.num_epochs = 251\n",
    "config.bs = 50"
   ]
  },
  {
   "cell_type": "markdown",
   "metadata": {
    "papermill": {
     "duration": 0.033578,
     "end_time": "2020-11-30T00:07:53.386970",
     "exception": false,
     "start_time": "2020-11-30T00:07:53.353392",
     "status": "completed"
    },
    "tags": []
   },
   "source": [
    "### Initializing data to the variables"
   ]
  },
  {
   "cell_type": "code",
   "execution_count": 16,
   "metadata": {
    "execution": {
     "iopub.execute_input": "2020-11-30T00:07:53.462201Z",
     "iopub.status.busy": "2020-11-30T00:07:53.461451Z",
     "iopub.status.idle": "2020-11-30T00:07:53.474405Z",
     "shell.execute_reply": "2020-11-30T00:07:53.473810Z"
    },
    "papermill": {
     "duration": 0.053751,
     "end_time": "2020-11-30T00:07:53.474542",
     "exception": false,
     "start_time": "2020-11-30T00:07:53.420791",
     "status": "completed"
    },
    "tags": []
   },
   "outputs": [],
   "source": [
    "data = Data(X_train, y_train.reshape(-1,1))\n",
    "sampler = Sampler(data, config.bs, shuffle=True)\n",
    "\n",
    "dl = Dataloader(data, sampler)\n",
    "\n",
    "opt = GD(config.lr)\n",
    "loss = MSE()"
   ]
  },
  {
   "cell_type": "code",
   "execution_count": 17,
   "metadata": {
    "execution": {
     "iopub.execute_input": "2020-11-30T00:07:53.550242Z",
     "iopub.status.busy": "2020-11-30T00:07:53.548074Z",
     "iopub.status.idle": "2020-11-30T00:07:53.562098Z",
     "shell.execute_reply": "2020-11-30T00:07:53.561385Z"
    },
    "papermill": {
     "duration": 0.054664,
     "end_time": "2020-11-30T00:07:53.562289",
     "exception": false,
     "start_time": "2020-11-30T00:07:53.507625",
     "status": "completed"
    },
    "tags": []
   },
   "outputs": [],
   "source": [
    "training_xdata = X_train\n",
    "testing_xdata = X_test\n",
    "training_ydata = y_train.reshape(-1,1)\n",
    "testing_ydata = y_test.reshape(-1,1)"
   ]
  },
  {
   "cell_type": "markdown",
   "metadata": {
    "papermill": {
     "duration": 0.032928,
     "end_time": "2020-11-30T00:07:53.635008",
     "exception": false,
     "start_time": "2020-11-30T00:07:53.602080",
     "status": "completed"
    },
    "tags": []
   },
   "source": [
    "### Running Models with the Training data\n",
    "Details about the network layers:\n",
    "- A first affine layer has 784 inputs and does 100 affine transforms. These are followed by a Relu\n",
    "- A second affine layer has 100 inputs from the 100 activations of the past layer, and does 100 affine transforms. These are followed by a Relu\n",
    "- A third affine layer has 100 activations and does 2 affine transformations to create an embedding for visualization. There is no non-linearity here.\n",
    "- A final \"logistic regression\" which has an affine transform from 2 inputs to 1 output, which is squeezed through a sigmoid.\n",
    "\n",
    "Help taken from Anshuman's Notebook."
   ]
  },
  {
   "cell_type": "code",
   "execution_count": 18,
   "metadata": {
    "execution": {
     "iopub.execute_input": "2020-11-30T00:07:53.706304Z",
     "iopub.status.busy": "2020-11-30T00:07:53.705639Z",
     "iopub.status.idle": "2020-11-30T00:07:53.724618Z",
     "shell.execute_reply": "2020-11-30T00:07:53.724034Z"
    },
    "papermill": {
     "duration": 0.057093,
     "end_time": "2020-11-30T00:07:53.724763",
     "exception": false,
     "start_time": "2020-11-30T00:07:53.667670",
     "status": "completed"
    },
    "tags": []
   },
   "outputs": [],
   "source": [
    "# layers for the Neural Network\n",
    "layers = [Affine(\"first\", 784, 100), Relu(\"first\"), Affine(\"second\", 100, 100), Relu(\"second\"), Affine(\"third\", 100, 2), Affine(\"final\", 2, 1), Sigmoid(\"final\")]\n",
    "model_nn = Model(layers)\n",
    "\n",
    "# layers for the Logistic Regression\n",
    "layers_lr = [Affine(\"logits\", 784, 1), Sigmoid(\"sigmoid\")]\n",
    "model_lr = Model(layers_lr)"
   ]
  },
  {
   "cell_type": "code",
   "execution_count": 19,
   "metadata": {
    "execution": {
     "iopub.execute_input": "2020-11-30T00:07:53.798836Z",
     "iopub.status.busy": "2020-11-30T00:07:53.798105Z",
     "iopub.status.idle": "2020-11-30T00:07:53.812139Z",
     "shell.execute_reply": "2020-11-30T00:07:53.812733Z"
    },
    "papermill": {
     "duration": 0.054735,
     "end_time": "2020-11-30T00:07:53.812906",
     "exception": false,
     "start_time": "2020-11-30T00:07:53.758171",
     "status": "completed"
    },
    "tags": []
   },
   "outputs": [],
   "source": [
    "# suffix _nn stands for Neural Network.\n",
    "learner_nn = Learner(loss, model_nn, opt, config.num_epochs)\n",
    "acc_nn = ClfCallback(learner_nn, config.bs, training_xdata , testing_xdata, training_ydata, testing_ydata)\n",
    "learner_nn.set_callbacks([acc_nn])"
   ]
  },
  {
   "cell_type": "code",
   "execution_count": 20,
   "metadata": {
    "execution": {
     "iopub.execute_input": "2020-11-30T00:07:53.884642Z",
     "iopub.status.busy": "2020-11-30T00:07:53.884019Z",
     "iopub.status.idle": "2020-11-30T00:10:15.759793Z",
     "shell.execute_reply": "2020-11-30T00:10:15.760466Z"
    },
    "papermill": {
     "duration": 141.915009,
     "end_time": "2020-11-30T00:10:15.760631",
     "exception": false,
     "start_time": "2020-11-30T00:07:53.845622",
     "status": "completed"
    },
    "tags": []
   },
   "outputs": [
    {
     "name": "stdout",
     "output_type": "stream",
     "text": [
      "====== Neural Network ======\n"
     ]
    },
    {
     "name": "stdout",
     "output_type": "stream",
     "text": [
      "Epoch 0, Loss 0.2569\n",
      "Training Accuracy: 0.6151, Testing Accuracy: 0.5917\n",
      "\n"
     ]
    },
    {
     "name": "stdout",
     "output_type": "stream",
     "text": [
      "Epoch 10, Loss 0.0781\n",
      "Training Accuracy: 0.9293, Testing Accuracy: 0.9360\n",
      "\n"
     ]
    },
    {
     "name": "stdout",
     "output_type": "stream",
     "text": [
      "Epoch 20, Loss 0.0497\n",
      "Training Accuracy: 0.9485, Testing Accuracy: 0.9572\n",
      "\n"
     ]
    },
    {
     "name": "stdout",
     "output_type": "stream",
     "text": [
      "Epoch 30, Loss 0.04\n",
      "Training Accuracy: 0.9573, Testing Accuracy: 0.9657\n",
      "\n"
     ]
    },
    {
     "name": "stdout",
     "output_type": "stream",
     "text": [
      "Epoch 40, Loss 0.0351\n",
      "Training Accuracy: 0.9611, Testing Accuracy: 0.9677\n",
      "\n"
     ]
    },
    {
     "name": "stdout",
     "output_type": "stream",
     "text": [
      "Epoch 50, Loss 0.032\n",
      "Training Accuracy: 0.9630, Testing Accuracy: 0.9708\n",
      "\n"
     ]
    },
    {
     "name": "stdout",
     "output_type": "stream",
     "text": [
      "Epoch 60, Loss 0.0298\n",
      "Training Accuracy: 0.9663, Testing Accuracy: 0.9718\n",
      "\n"
     ]
    },
    {
     "name": "stdout",
     "output_type": "stream",
     "text": [
      "Epoch 70, Loss 0.0281\n",
      "Training Accuracy: 0.9675, Testing Accuracy: 0.9718\n",
      "\n"
     ]
    },
    {
     "name": "stdout",
     "output_type": "stream",
     "text": [
      "Epoch 80, Loss 0.0267\n",
      "Training Accuracy: 0.9689, Testing Accuracy: 0.9713\n",
      "\n"
     ]
    },
    {
     "name": "stdout",
     "output_type": "stream",
     "text": [
      "Epoch 90, Loss 0.0256\n",
      "Training Accuracy: 0.9705, Testing Accuracy: 0.9713\n",
      "\n"
     ]
    },
    {
     "name": "stdout",
     "output_type": "stream",
     "text": [
      "Epoch 100, Loss 0.0246\n",
      "Training Accuracy: 0.9720, Testing Accuracy: 0.9723\n",
      "\n"
     ]
    },
    {
     "name": "stdout",
     "output_type": "stream",
     "text": [
      "Epoch 110, Loss 0.0237\n",
      "Training Accuracy: 0.9731, Testing Accuracy: 0.9733\n",
      "\n"
     ]
    },
    {
     "name": "stdout",
     "output_type": "stream",
     "text": [
      "Epoch 120, Loss 0.0229\n",
      "Training Accuracy: 0.9741, Testing Accuracy: 0.9748\n",
      "\n"
     ]
    },
    {
     "name": "stdout",
     "output_type": "stream",
     "text": [
      "Epoch 130, Loss 0.0222\n",
      "Training Accuracy: 0.9748, Testing Accuracy: 0.9743\n",
      "\n"
     ]
    },
    {
     "name": "stdout",
     "output_type": "stream",
     "text": [
      "Epoch 140, Loss 0.0216\n",
      "Training Accuracy: 0.9759, Testing Accuracy: 0.9763\n",
      "\n"
     ]
    },
    {
     "name": "stdout",
     "output_type": "stream",
     "text": [
      "Epoch 150, Loss 0.021\n",
      "Training Accuracy: 0.9764, Testing Accuracy: 0.9763\n",
      "\n"
     ]
    },
    {
     "name": "stdout",
     "output_type": "stream",
     "text": [
      "Epoch 160, Loss 0.0205\n",
      "Training Accuracy: 0.9772, Testing Accuracy: 0.9763\n",
      "\n"
     ]
    },
    {
     "name": "stdout",
     "output_type": "stream",
     "text": [
      "Epoch 170, Loss 0.02\n",
      "Training Accuracy: 0.9775, Testing Accuracy: 0.9763\n",
      "\n"
     ]
    },
    {
     "name": "stdout",
     "output_type": "stream",
     "text": [
      "Epoch 180, Loss 0.0195\n",
      "Training Accuracy: 0.9786, Testing Accuracy: 0.9773\n",
      "\n"
     ]
    },
    {
     "name": "stdout",
     "output_type": "stream",
     "text": [
      "Epoch 190, Loss 0.019\n",
      "Training Accuracy: 0.9797, Testing Accuracy: 0.9773\n",
      "\n"
     ]
    },
    {
     "name": "stdout",
     "output_type": "stream",
     "text": [
      "Epoch 200, Loss 0.0186\n",
      "Training Accuracy: 0.9798, Testing Accuracy: 0.9778\n",
      "\n"
     ]
    },
    {
     "name": "stdout",
     "output_type": "stream",
     "text": [
      "Epoch 210, Loss 0.0182\n",
      "Training Accuracy: 0.9802, Testing Accuracy: 0.9783\n",
      "\n"
     ]
    },
    {
     "name": "stdout",
     "output_type": "stream",
     "text": [
      "Epoch 220, Loss 0.0178\n",
      "Training Accuracy: 0.9812, Testing Accuracy: 0.9783\n",
      "\n"
     ]
    },
    {
     "name": "stdout",
     "output_type": "stream",
     "text": [
      "Epoch 230, Loss 0.0174\n",
      "Training Accuracy: 0.9819, Testing Accuracy: 0.9783\n",
      "\n"
     ]
    },
    {
     "name": "stdout",
     "output_type": "stream",
     "text": [
      "Epoch 240, Loss 0.017\n",
      "Training Accuracy: 0.9822, Testing Accuracy: 0.9783\n",
      "\n"
     ]
    },
    {
     "name": "stdout",
     "output_type": "stream",
     "text": [
      "Epoch 250, Loss 0.0166\n",
      "Training Accuracy: 0.9825, Testing Accuracy: 0.9788\n",
      "\n"
     ]
    },
    {
     "data": {
      "text/plain": [
       "0.02761449937232237"
      ]
     },
     "execution_count": 20,
     "metadata": {},
     "output_type": "execute_result"
    }
   ],
   "source": [
    "print(\"====== Neural Network ======\")\n",
    "learner_nn.train_loop(dl)"
   ]
  },
  {
   "cell_type": "markdown",
   "metadata": {
    "papermill": {
     "duration": 0.043533,
     "end_time": "2020-11-30T00:10:15.849258",
     "exception": false,
     "start_time": "2020-11-30T00:10:15.805725",
     "status": "completed"
    },
    "tags": []
   },
   "source": [
    "### Logistic Regression based Implementation."
   ]
  },
  {
   "cell_type": "code",
   "execution_count": 21,
   "metadata": {
    "execution": {
     "iopub.execute_input": "2020-11-30T00:10:15.952529Z",
     "iopub.status.busy": "2020-11-30T00:10:15.951817Z",
     "iopub.status.idle": "2020-11-30T00:10:15.965754Z",
     "shell.execute_reply": "2020-11-30T00:10:15.965053Z"
    },
    "papermill": {
     "duration": 0.063333,
     "end_time": "2020-11-30T00:10:15.965900",
     "exception": false,
     "start_time": "2020-11-30T00:10:15.902567",
     "status": "completed"
    },
    "tags": []
   },
   "outputs": [],
   "source": [
    "learner_lr = Learner(loss, model_lr, opt, config.num_epochs)\n",
    "acc_lr = ClfCallback(learner_lr, config.bs, training_xdata , testing_xdata, training_ydata, testing_ydata)\n",
    "learner_lr.set_callbacks([acc_lr])"
   ]
  },
  {
   "cell_type": "code",
   "execution_count": 22,
   "metadata": {
    "execution": {
     "iopub.execute_input": "2020-11-30T00:10:16.067428Z",
     "iopub.status.busy": "2020-11-30T00:10:16.066708Z",
     "iopub.status.idle": "2020-11-30T00:10:37.146604Z",
     "shell.execute_reply": "2020-11-30T00:10:37.147330Z"
    },
    "papermill": {
     "duration": 21.138324,
     "end_time": "2020-11-30T00:10:37.147573",
     "exception": false,
     "start_time": "2020-11-30T00:10:16.009249",
     "status": "completed"
    },
    "tags": []
   },
   "outputs": [
    {
     "name": "stdout",
     "output_type": "stream",
     "text": [
      "====== Logistic Regression ======\n",
      "Epoch 0, Loss 0.2467\n",
      "Training Accuracy: 0.6516, Testing Accuracy: 0.6764\n",
      "\n"
     ]
    },
    {
     "name": "stdout",
     "output_type": "stream",
     "text": [
      "Epoch 10, Loss 0.1094\n",
      "Training Accuracy: 0.8897, Testing Accuracy: 0.9027\n",
      "\n"
     ]
    },
    {
     "name": "stdout",
     "output_type": "stream",
     "text": [
      "Epoch 20, Loss 0.084\n",
      "Training Accuracy: 0.9149, Testing Accuracy: 0.9284\n",
      "\n"
     ]
    },
    {
     "name": "stdout",
     "output_type": "stream",
     "text": [
      "Epoch 30, Loss 0.0719\n",
      "Training Accuracy: 0.9270, Testing Accuracy: 0.9405\n",
      "\n"
     ]
    },
    {
     "name": "stdout",
     "output_type": "stream",
     "text": [
      "Epoch 40, Loss 0.0646\n",
      "Training Accuracy: 0.9357, Testing Accuracy: 0.9486\n",
      "\n"
     ]
    },
    {
     "name": "stdout",
     "output_type": "stream",
     "text": [
      "Epoch 50, Loss 0.0595\n",
      "Training Accuracy: 0.9397, Testing Accuracy: 0.9506\n",
      "\n"
     ]
    },
    {
     "name": "stdout",
     "output_type": "stream",
     "text": [
      "Epoch 60, Loss 0.0558\n",
      "Training Accuracy: 0.9436, Testing Accuracy: 0.9546\n",
      "\n"
     ]
    },
    {
     "name": "stdout",
     "output_type": "stream",
     "text": [
      "Epoch 70, Loss 0.053\n",
      "Training Accuracy: 0.9466, Testing Accuracy: 0.9572\n",
      "\n"
     ]
    },
    {
     "name": "stdout",
     "output_type": "stream",
     "text": [
      "Epoch 80, Loss 0.0507\n",
      "Training Accuracy: 0.9485, Testing Accuracy: 0.9582\n",
      "\n"
     ]
    },
    {
     "name": "stdout",
     "output_type": "stream",
     "text": [
      "Epoch 90, Loss 0.0489\n",
      "Training Accuracy: 0.9503, Testing Accuracy: 0.9587\n",
      "\n"
     ]
    },
    {
     "name": "stdout",
     "output_type": "stream",
     "text": [
      "Epoch 100, Loss 0.0473\n",
      "Training Accuracy: 0.9515, Testing Accuracy: 0.9587\n",
      "\n"
     ]
    },
    {
     "name": "stdout",
     "output_type": "stream",
     "text": [
      "Epoch 110, Loss 0.046\n",
      "Training Accuracy: 0.9532, Testing Accuracy: 0.9602\n",
      "\n"
     ]
    },
    {
     "name": "stdout",
     "output_type": "stream",
     "text": [
      "Epoch 120, Loss 0.0448\n",
      "Training Accuracy: 0.9539, Testing Accuracy: 0.9607\n",
      "\n"
     ]
    },
    {
     "name": "stdout",
     "output_type": "stream",
     "text": [
      "Epoch 130, Loss 0.0438\n",
      "Training Accuracy: 0.9553, Testing Accuracy: 0.9612\n",
      "\n"
     ]
    },
    {
     "name": "stdout",
     "output_type": "stream",
     "text": [
      "Epoch 140, Loss 0.0429\n",
      "Training Accuracy: 0.9558, Testing Accuracy: 0.9622\n",
      "\n"
     ]
    },
    {
     "name": "stdout",
     "output_type": "stream",
     "text": [
      "Epoch 150, Loss 0.0421\n",
      "Training Accuracy: 0.9564, Testing Accuracy: 0.9627\n",
      "\n"
     ]
    },
    {
     "name": "stdout",
     "output_type": "stream",
     "text": [
      "Epoch 160, Loss 0.0414\n",
      "Training Accuracy: 0.9572, Testing Accuracy: 0.9632\n",
      "\n"
     ]
    },
    {
     "name": "stdout",
     "output_type": "stream",
     "text": [
      "Epoch 170, Loss 0.0407\n",
      "Training Accuracy: 0.9576, Testing Accuracy: 0.9627\n",
      "\n"
     ]
    },
    {
     "name": "stdout",
     "output_type": "stream",
     "text": [
      "Epoch 180, Loss 0.0401\n",
      "Training Accuracy: 0.9581, Testing Accuracy: 0.9632\n",
      "\n"
     ]
    },
    {
     "name": "stdout",
     "output_type": "stream",
     "text": [
      "Epoch 190, Loss 0.0396\n",
      "Training Accuracy: 0.9585, Testing Accuracy: 0.9632\n",
      "\n"
     ]
    },
    {
     "name": "stdout",
     "output_type": "stream",
     "text": [
      "Epoch 200, Loss 0.0391\n",
      "Training Accuracy: 0.9589, Testing Accuracy: 0.9632\n",
      "\n"
     ]
    },
    {
     "name": "stdout",
     "output_type": "stream",
     "text": [
      "Epoch 210, Loss 0.0386\n",
      "Training Accuracy: 0.9589, Testing Accuracy: 0.9637\n",
      "\n"
     ]
    },
    {
     "name": "stdout",
     "output_type": "stream",
     "text": [
      "Epoch 220, Loss 0.0382\n",
      "Training Accuracy: 0.9595, Testing Accuracy: 0.9637\n",
      "\n"
     ]
    },
    {
     "name": "stdout",
     "output_type": "stream",
     "text": [
      "Epoch 230, Loss 0.0377\n",
      "Training Accuracy: 0.9595, Testing Accuracy: 0.9637\n",
      "\n"
     ]
    },
    {
     "name": "stdout",
     "output_type": "stream",
     "text": [
      "Epoch 240, Loss 0.0374\n",
      "Training Accuracy: 0.9602, Testing Accuracy: 0.9637\n",
      "\n"
     ]
    },
    {
     "name": "stdout",
     "output_type": "stream",
     "text": [
      "Epoch 250, Loss 0.037\n",
      "Training Accuracy: 0.9603, Testing Accuracy: 0.9637\n",
      "\n"
     ]
    },
    {
     "data": {
      "text/plain": [
       "0.01935293322016539"
      ]
     },
     "execution_count": 22,
     "metadata": {},
     "output_type": "execute_result"
    }
   ],
   "source": [
    "print(\"====== Logistic Regression ======\")\n",
    "learner_lr.train_loop(dl)"
   ]
  },
  {
   "cell_type": "markdown",
   "metadata": {
    "papermill": {
     "duration": 0.054432,
     "end_time": "2020-11-30T00:10:37.257464",
     "exception": false,
     "start_time": "2020-11-30T00:10:37.203032",
     "status": "completed"
    },
    "tags": []
   },
   "source": [
    "### Comparing results of NN and LR"
   ]
  },
  {
   "cell_type": "code",
   "execution_count": 23,
   "metadata": {
    "execution": {
     "iopub.execute_input": "2020-11-30T00:10:37.378506Z",
     "iopub.status.busy": "2020-11-30T00:10:37.376086Z",
     "iopub.status.idle": "2020-11-30T00:10:37.669868Z",
     "shell.execute_reply": "2020-11-30T00:10:37.669004Z"
    },
    "papermill": {
     "duration": 0.358783,
     "end_time": "2020-11-30T00:10:37.670025",
     "exception": false,
     "start_time": "2020-11-30T00:10:37.311242",
     "status": "completed"
    },
    "tags": []
   },
   "outputs": [
    {
     "data": {
      "text/plain": [
       "<matplotlib.legend.Legend at 0x7f2e8fbd0940>"
      ]
     },
     "execution_count": 23,
     "metadata": {},
     "output_type": "execute_result"
    },
    {
     "data": {
      "image/png": "[encoded data removed]",
      "text/plain": [
       "<Figure size 1080x720 with 1 Axes>"
      ]
     },
     "metadata": {
      "needs_background": "light"
     },
     "output_type": "display_data"
    }
   ],
   "source": [
    "plt.figure(figsize=(15,10))\n",
    "\n",
    "# Neural Network plots\n",
    "plt.plot(acc_nn.accuracies, 'r-', label = \"Training Accuracies - NN\")\n",
    "plt.plot(acc_nn.test_accuracies, 'g-', label = \"Testing Accuracies - NN\")\n",
    "\n",
    "# Logistic Regression plots\n",
    "plt.plot(acc_lr.accuracies, 'k-', label = \"Training Accuracies - LR\")\n",
    "plt.plot(acc_lr.test_accuracies, 'b-', label = \"Testing Accuracies - LR\")\n",
    "\n",
    "plt.ylim(0.8, 1)\n",
    "\n",
    "plt.legend()\n",
    "\n"
   ]
  },
  {
   "cell_type": "markdown",
   "metadata": {
    "papermill": {
     "duration": 0.060155,
     "end_time": "2020-11-30T00:10:37.783963",
     "exception": false,
     "start_time": "2020-11-30T00:10:37.723808",
     "status": "completed"
    },
    "tags": []
   },
   "source": [
    "### From the plot, we can observe the following:\n",
    "- Neural Network achieves higher accuracy than the Logistic Regression model.\n",
    "- This apparently, is because of overfitting, i.e. NN captures more noise than data.\n",
    "- Testing accuracy of NN drops below the Training accuracy at higher epochs. This explains the over-fitting on training data.\n",
    "- Logistic Regression gives a reliable accuracy, without the above mentioned problem.\n"
   ]
  },
  {
   "cell_type": "markdown",
   "metadata": {
    "papermill": {
     "duration": 0.052334,
     "end_time": "2020-11-30T00:10:37.889445",
     "exception": false,
     "start_time": "2020-11-30T00:10:37.837111",
     "status": "completed"
    },
    "tags": []
   },
   "source": [
    "### Moving till the last but one layer (excluding it).\n",
    "#### Plotting the outputs of this layer of the NN."
   ]
  },
  {
   "cell_type": "code",
   "execution_count": 24,
   "metadata": {
    "execution": {
     "iopub.execute_input": "2020-11-30T00:10:37.999093Z",
     "iopub.status.busy": "2020-11-30T00:10:37.998411Z",
     "iopub.status.idle": "2020-11-30T00:10:38.012302Z",
     "shell.execute_reply": "2020-11-30T00:10:38.011749Z"
    },
    "papermill": {
     "duration": 0.071108,
     "end_time": "2020-11-30T00:10:38.012434",
     "exception": false,
     "start_time": "2020-11-30T00:10:37.941326",
     "status": "completed"
    },
    "tags": []
   },
   "outputs": [],
   "source": [
    "model_new = Model(layers[:-2])"
   ]
  },
  {
   "cell_type": "code",
   "execution_count": 25,
   "metadata": {
    "execution": {
     "iopub.execute_input": "2020-11-30T00:10:38.135580Z",
     "iopub.status.busy": "2020-11-30T00:10:38.134954Z",
     "iopub.status.idle": "2020-11-30T00:10:38.160062Z",
     "shell.execute_reply": "2020-11-30T00:10:38.160704Z"
    },
    "papermill": {
     "duration": 0.095543,
     "end_time": "2020-11-30T00:10:38.160882",
     "exception": false,
     "start_time": "2020-11-30T00:10:38.065339",
     "status": "completed"
    },
    "tags": []
   },
   "outputs": [],
   "source": [
    "plot_testing = model_new(testing_xdata)"
   ]
  },
  {
   "cell_type": "code",
   "execution_count": 26,
   "metadata": {
    "execution": {
     "iopub.execute_input": "2020-11-30T00:10:38.312190Z",
     "iopub.status.busy": "2020-11-30T00:10:38.311541Z",
     "iopub.status.idle": "2020-11-30T00:10:38.536912Z",
     "shell.execute_reply": "2020-11-30T00:10:38.537532Z"
    },
    "papermill": {
     "duration": 0.30237,
     "end_time": "2020-11-30T00:10:38.537710",
     "exception": false,
     "start_time": "2020-11-30T00:10:38.235340",
     "status": "completed"
    },
    "tags": []
   },
   "outputs": [
    {
     "data": {
      "text/plain": [
       "Text(0.5, 1.0, 'Outputs')"
      ]
     },
     "execution_count": 26,
     "metadata": {},
     "output_type": "execute_result"
    },
    {
     "data": {
      "image/png": "[encoded data removed]",
      "text/plain": [
       "<Figure size 576x504 with 1 Axes>"
      ]
     },
     "metadata": {
      "needs_background": "light"
     },
     "output_type": "display_data"
    }
   ],
   "source": [
    "plt.figure(figsize=(8,7))\n",
    "plt.scatter(plot_testing[:,0], plot_testing[:,1], alpha = 0.1, c = y_test.ravel());\n",
    "plt.title('Outputs')"
   ]
  },
  {
   "cell_type": "markdown",
   "metadata": {
    "papermill": {
     "duration": 0.067881,
     "end_time": "2020-11-30T00:10:38.665260",
     "exception": false,
     "start_time": "2020-11-30T00:10:38.597379",
     "status": "completed"
    },
    "tags": []
   },
   "source": [
    "### Plotting probability contours"
   ]
  },
  {
   "cell_type": "code",
   "execution_count": 27,
   "metadata": {
    "execution": {
     "iopub.execute_input": "2020-11-30T00:10:38.798638Z",
     "iopub.status.busy": "2020-11-30T00:10:38.796650Z",
     "iopub.status.idle": "2020-11-30T00:10:38.808991Z",
     "shell.execute_reply": "2020-11-30T00:10:38.808362Z"
    },
    "papermill": {
     "duration": 0.083177,
     "end_time": "2020-11-30T00:10:38.809137",
     "exception": false,
     "start_time": "2020-11-30T00:10:38.725960",
     "status": "completed"
    },
    "tags": []
   },
   "outputs": [],
   "source": [
    "model_prob = Model(layers[-2:]) "
   ]
  },
  {
   "cell_type": "code",
   "execution_count": 28,
   "metadata": {
    "execution": {
     "iopub.execute_input": "2020-11-30T00:10:38.944016Z",
     "iopub.status.busy": "2020-11-30T00:10:38.943260Z",
     "iopub.status.idle": "2020-11-30T00:10:38.958465Z",
     "shell.execute_reply": "2020-11-30T00:10:38.959105Z"
    },
    "papermill": {
     "duration": 0.080229,
     "end_time": "2020-11-30T00:10:38.959269",
     "exception": false,
     "start_time": "2020-11-30T00:10:38.879040",
     "status": "completed"
    },
    "tags": []
   },
   "outputs": [],
   "source": [
    "# Adjust the x and y ranges according to the above generated plot.\n",
    "x_range = np.linspace(-4, 1, 100) \n",
    "y_range = np.linspace(-6, 6, 100) \n",
    "x_grid, y_grid = np.meshgrid(x_range, y_range) # x_grid and y_grig are of size 100 X 100\n",
    "\n",
    "# converting x_grid and y_grid to continuous arrays\n",
    "x_grid_flat = np.ravel(x_grid)\n",
    "y_grid_flat = np.ravel(y_grid)\n",
    "\n",
    "# The last layer of the current model takes two columns as input. Hence transpose of np.vstack() is required.\n",
    "X = np.vstack((x_grid_flat, y_grid_flat)).T\n",
    "\n",
    "# x_grid and y_grid are of size 100 x 100\n",
    "probability_contour = model_prob(X).reshape(100,100) "
   ]
  },
  {
   "cell_type": "code",
   "execution_count": 29,
   "metadata": {
    "execution": {
     "iopub.execute_input": "2020-11-30T00:10:39.081371Z",
     "iopub.status.busy": "2020-11-30T00:10:39.080678Z",
     "iopub.status.idle": "2020-11-30T00:10:39.390206Z",
     "shell.execute_reply": "2020-11-30T00:10:39.389444Z"
    },
    "papermill": {
     "duration": 0.37464,
     "end_time": "2020-11-30T00:10:39.390371",
     "exception": false,
     "start_time": "2020-11-30T00:10:39.015731",
     "status": "completed"
    },
    "tags": []
   },
   "outputs": [
    {
     "data": {
      "image/png": "[encoded data removed]",
      "text/plain": [
       "<Figure size 720x648 with 1 Axes>"
      ]
     },
     "metadata": {
      "needs_background": "light"
     },
     "output_type": "display_data"
    }
   ],
   "source": [
    "plt.figure(figsize=(10,9))\n",
    "plt.scatter(plot_testing[:,0], plot_testing[:,1], alpha = 0.1, c = y_test.ravel())\n",
    "contours = plt.contour(x_grid,y_grid,probability_contour)\n",
    "plt.title('Probability Contours')\n",
    "plt.clabel(contours, inline = True );"
   ]
  }
 ],
 "metadata": {
  "kernelspec": {
   "display_name": "Python 3",
   "language": "python",
   "name": "python3"
  },
  "language_info": {
   "codemirror_mode": {
    "name": "ipython",
    "version": 3
   },
   "file_extension": ".py",
   "mimetype": "text/x-python",
   "name": "python",
   "nbconvert_exporter": "python",
   "pygments_lexer": "ipython3",
   "version": "3.6.12"
  },
  "papermill": {
   "duration": 173.17504,
   "end_time": "2020-11-30T00:10:39.881445",
   "environment_variables": {},
   "exception": null,
   "input_path": "2020-08-11-NeuralNetwork.ipynb",
   "output_path": "2020-08-11-NeuralNetwork.ipynb",
   "parameters": {},
   "start_time": "2020-11-30T00:07:46.706405",
   "version": "2.1.2"
  }
 },
 "nbformat": 4,
 "nbformat_minor": 4
}