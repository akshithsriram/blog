{
 "cells": [
  {
   "cell_type": "markdown",
   "id": "fitted-suggestion",
   "metadata": {
    "papermill": {
     "duration": 0.038515,
     "end_time": "2021-07-09T20:05:21.726905",
     "exception": false,
     "start_time": "2021-07-09T20:05:21.688390",
     "status": "completed"
    },
    "tags": []
   },
   "source": [
    "# \"A Basic Neural Network: Differentiate Hand-Written Digits\"\n",
    "\n",
    "- badges: true\n",
    "- author: Akshith Sriram"
   ]
  },
  {
   "cell_type": "markdown",
   "id": "signal-flexibility",
   "metadata": {
    "papermill": {
     "duration": 0.032116,
     "end_time": "2021-07-09T20:05:21.792338",
     "exception": false,
     "start_time": "2021-07-09T20:05:21.760222",
     "status": "completed"
    },
    "tags": []
   },
   "source": [
    "### Key Objectives:\n",
    "- Building a neural network that differentiates two hand-written digits 3 and 8.\n",
    "- Comparing the results of this Neural Network (NN) to that of a Logistic Regression (LR) model.\n",
    "\n",
    "### Requirements:\n",
    "- 'Kudzu' : A neural network library that was designed during our course by [Univ.AI](www.univ.ai). \n",
    "- MNIST Database\n",
    "\n",
    "If MNIST is not installed, use the command `!pip install mnist` given below.\n",
    "It can be run both from the command line and Jupyter Notebook."
   ]
  },
  {
   "cell_type": "code",
   "execution_count": 1,
   "id": "british-texture",
   "metadata": {
    "execution": {
     "iopub.execute_input": "2021-07-09T20:05:21.870567Z",
     "iopub.status.busy": "2021-07-09T20:05:21.869852Z",
     "iopub.status.idle": "2021-07-09T20:05:23.667422Z",
     "shell.execute_reply": "2021-07-09T20:05:23.666571Z"
    },
    "papermill": {
     "duration": 1.841698,
     "end_time": "2021-07-09T20:05:23.667586",
     "exception": false,
     "start_time": "2021-07-09T20:05:21.825888",
     "status": "completed"
    },
    "tags": []
   },
   "outputs": [
    {
     "name": "stdout",
     "output_type": "stream",
     "text": [
      "Collecting mnist\r\n"
     ]
    },
    {
     "name": "stdout",
     "output_type": "stream",
     "text": [
      "  Downloading mnist-0.2.2-py2.py3-none-any.whl (3.5 kB)\r\n",
      "Requirement already satisfied: numpy in /opt/hostedtoolcache/Python/3.6.13/x64/lib/python3.6/site-packages (from mnist) (1.19.5)\r\n"
     ]
    },
    {
     "name": "stdout",
     "output_type": "stream",
     "text": [
      "Installing collected packages: mnist\r\n"
     ]
    },
    {
     "name": "stdout",
     "output_type": "stream",
     "text": [
      "Successfully installed mnist-0.2.2\r\n"
     ]
    }
   ],
   "source": [
    "!pip install mnist "
   ]
  },
  {
   "cell_type": "markdown",
   "id": "stunning-extra",
   "metadata": {
    "papermill": {
     "duration": 0.03767,
     "end_time": "2021-07-09T20:05:23.740719",
     "exception": false,
     "start_time": "2021-07-09T20:05:23.703049",
     "status": "completed"
    },
    "tags": []
   },
   "source": [
    "#### Importing necessary libraries"
   ]
  },
  {
   "cell_type": "code",
   "execution_count": 2,
   "id": "wooden-france",
   "metadata": {
    "execution": {
     "iopub.execute_input": "2021-07-09T20:05:23.833758Z",
     "iopub.status.busy": "2021-07-09T20:05:23.820203Z",
     "iopub.status.idle": "2021-07-09T20:05:24.468069Z",
     "shell.execute_reply": "2021-07-09T20:05:24.467440Z"
    },
    "papermill": {
     "duration": 0.691327,
     "end_time": "2021-07-09T20:05:24.468218",
     "exception": false,
     "start_time": "2021-07-09T20:05:23.776891",
     "status": "completed"
    },
    "tags": []
   },
   "outputs": [],
   "source": [
    "%load_ext autoreload\n",
    "%autoreload 2\n",
    "\n",
    "%matplotlib inline\n",
    "import matplotlib.pyplot as plt\n",
    "\n",
    "import numpy as np\n",
    "import pandas as pd"
   ]
  },
  {
   "cell_type": "markdown",
   "id": "stunning-physics",
   "metadata": {
    "papermill": {
     "duration": 0.04889,
     "end_time": "2021-07-09T20:05:24.554188",
     "exception": false,
     "start_time": "2021-07-09T20:05:24.505298",
     "status": "completed"
    },
    "tags": []
   },
   "source": [
    "### Preparing the Data"
   ]
  },
  {
   "cell_type": "code",
   "execution_count": 3,
   "id": "unauthorized-remainder",
   "metadata": {
    "execution": {
     "iopub.execute_input": "2021-07-09T20:05:24.697607Z",
     "iopub.status.busy": "2021-07-09T20:05:24.696914Z",
     "iopub.status.idle": "2021-07-09T20:05:24.713016Z",
     "shell.execute_reply": "2021-07-09T20:05:24.712419Z"
    },
    "papermill": {
     "duration": 0.121875,
     "end_time": "2021-07-09T20:05:24.713164",
     "exception": false,
     "start_time": "2021-07-09T20:05:24.591289",
     "status": "completed"
    },
    "tags": []
   },
   "outputs": [],
   "source": [
    "import mnist"
   ]
  },
  {
   "cell_type": "code",
   "execution_count": 4,
   "id": "correct-antarctica",
   "metadata": {
    "execution": {
     "iopub.execute_input": "2021-07-09T20:05:24.799837Z",
     "iopub.status.busy": "2021-07-09T20:05:24.799078Z",
     "iopub.status.idle": "2021-07-09T20:10:21.667151Z",
     "shell.execute_reply": "2021-07-09T20:10:21.666144Z"
    },
    "papermill": {
     "duration": 296.912442,
     "end_time": "2021-07-09T20:10:21.667290",
     "exception": false,
     "start_time": "2021-07-09T20:05:24.754848",
     "status": "completed"
    },
    "tags": []
   },
   "outputs": [],
   "source": [
    "train_images = mnist.train_images()\n",
    "train_labels = mnist.train_labels()"
   ]
  },
  {
   "cell_type": "code",
   "execution_count": 5,
   "id": "musical-prospect",
   "metadata": {
    "execution": {
     "iopub.execute_input": "2021-07-09T20:10:21.744614Z",
     "iopub.status.busy": "2021-07-09T20:10:21.743917Z",
     "iopub.status.idle": "2021-07-09T20:10:21.760338Z",
     "shell.execute_reply": "2021-07-09T20:10:21.760904Z"
    },
    "papermill": {
     "duration": 0.057947,
     "end_time": "2021-07-09T20:10:21.761082",
     "exception": false,
     "start_time": "2021-07-09T20:10:21.703135",
     "status": "completed"
    },
    "tags": []
   },
   "outputs": [
    {
     "data": {
      "text/plain": [
       "((60000, 28, 28), (60000,))"
      ]
     },
     "execution_count": 5,
     "metadata": {},
     "output_type": "execute_result"
    }
   ],
   "source": [
    "train_images.shape, train_labels.shape"
   ]
  },
  {
   "cell_type": "code",
   "execution_count": 6,
   "id": "preliminary-elizabeth",
   "metadata": {
    "execution": {
     "iopub.execute_input": "2021-07-09T20:10:21.839935Z",
     "iopub.status.busy": "2021-07-09T20:10:21.837891Z",
     "iopub.status.idle": "2021-07-09T20:11:12.181102Z",
     "shell.execute_reply": "2021-07-09T20:11:12.180373Z"
    },
    "papermill": {
     "duration": 50.384402,
     "end_time": "2021-07-09T20:11:12.181282",
     "exception": false,
     "start_time": "2021-07-09T20:10:21.796880",
     "status": "completed"
    },
    "tags": []
   },
   "outputs": [],
   "source": [
    "test_images = mnist.test_images()\n",
    "test_labels = mnist.test_labels()"
   ]
  },
  {
   "cell_type": "code",
   "execution_count": 7,
   "id": "acknowledged-oxygen",
   "metadata": {
    "execution": {
     "iopub.execute_input": "2021-07-09T20:11:12.271006Z",
     "iopub.status.busy": "2021-07-09T20:11:12.267601Z",
     "iopub.status.idle": "2021-07-09T20:11:12.282929Z",
     "shell.execute_reply": "2021-07-09T20:11:12.282261Z"
    },
    "papermill": {
     "duration": 0.056272,
     "end_time": "2021-07-09T20:11:12.283070",
     "exception": false,
     "start_time": "2021-07-09T20:11:12.226798",
     "status": "completed"
    },
    "tags": []
   },
   "outputs": [
    {
     "data": {
      "text/plain": [
       "((10000, 28, 28), (10000,))"
      ]
     },
     "execution_count": 7,
     "metadata": {},
     "output_type": "execute_result"
    }
   ],
   "source": [
    "test_images.shape, test_labels.shape"
   ]
  },
  {
   "cell_type": "code",
   "execution_count": 8,
   "id": "innovative-organic",
   "metadata": {
    "execution": {
     "iopub.execute_input": "2021-07-09T20:11:12.367290Z",
     "iopub.status.busy": "2021-07-09T20:11:12.366552Z",
     "iopub.status.idle": "2021-07-09T20:11:12.556350Z",
     "shell.execute_reply": "2021-07-09T20:11:12.556904Z"
    },
    "papermill": {
     "duration": 0.237648,
     "end_time": "2021-07-09T20:11:12.557079",
     "exception": false,
     "start_time": "2021-07-09T20:11:12.319431",
     "status": "completed"
    },
    "tags": []
   },
   "outputs": [
    {
     "name": "stdout",
     "output_type": "stream",
     "text": [
      "2\n"
     ]
    },
    {
     "data": {
      "text/plain": [
       "<matplotlib.image.AxesImage at 0x7fb10288a5f8>"
      ]
     },
     "execution_count": 8,
     "metadata": {},
     "output_type": "execute_result"
    },
    {
     "data": {
      "image/png": "[encoded data removed]",
      "text/plain": [
       "<Figure size 432x288 with 1 Axes>"
      ]
     },
     "metadata": {
      "needs_background": "light"
     },
     "output_type": "display_data"
    }
   ],
   "source": [
    "image_index = 7776 # You may select anything up to 60,000\n",
    "print(train_labels[image_index]) \n",
    "plt.imshow(train_images[image_index], cmap='Greys')"
   ]
  },
  {
   "cell_type": "markdown",
   "id": "facial-modem",
   "metadata": {
    "papermill": {
     "duration": 0.03827,
     "end_time": "2021-07-09T20:11:12.632167",
     "exception": false,
     "start_time": "2021-07-09T20:11:12.593897",
     "status": "completed"
    },
    "tags": []
   },
   "source": [
    "## Filter data to get 3 and 8 out"
   ]
  },
  {
   "cell_type": "code",
   "execution_count": 9,
   "id": "thousand-acquisition",
   "metadata": {
    "execution": {
     "iopub.execute_input": "2021-07-09T20:11:12.714408Z",
     "iopub.status.busy": "2021-07-09T20:11:12.713699Z",
     "iopub.status.idle": "2021-07-09T20:11:12.743015Z",
     "shell.execute_reply": "2021-07-09T20:11:12.742413Z"
    },
    "papermill": {
     "duration": 0.072475,
     "end_time": "2021-07-09T20:11:12.743157",
     "exception": false,
     "start_time": "2021-07-09T20:11:12.670682",
     "status": "completed"
    },
    "tags": []
   },
   "outputs": [],
   "source": [
    "train_filter = np.where((train_labels == 3 ) | (train_labels == 8))\n",
    "test_filter = np.where((test_labels == 3) | (test_labels == 8))\n",
    "X_train, y_train = train_images[train_filter], train_labels[train_filter]\n",
    "X_test, y_test = test_images[test_filter], test_labels[test_filter]"
   ]
  },
  {
   "cell_type": "markdown",
   "id": "ruled-access",
   "metadata": {
    "papermill": {
     "duration": 0.039397,
     "end_time": "2021-07-09T20:11:12.820593",
     "exception": false,
     "start_time": "2021-07-09T20:11:12.781196",
     "status": "completed"
    },
    "tags": []
   },
   "source": [
    "We normalize the pixel values in the 0 to 1 range"
   ]
  },
  {
   "cell_type": "code",
   "execution_count": 10,
   "id": "isolated-denver",
   "metadata": {
    "execution": {
     "iopub.execute_input": "2021-07-09T20:11:12.900879Z",
     "iopub.status.busy": "2021-07-09T20:11:12.900176Z",
     "iopub.status.idle": "2021-07-09T20:11:12.969293Z",
     "shell.execute_reply": "2021-07-09T20:11:12.968670Z"
    },
    "papermill": {
     "duration": 0.110145,
     "end_time": "2021-07-09T20:11:12.969447",
     "exception": false,
     "start_time": "2021-07-09T20:11:12.859302",
     "status": "completed"
    },
    "tags": []
   },
   "outputs": [],
   "source": [
    "X_train = X_train/255.\n",
    "X_test = X_test/255."
   ]
  },
  {
   "cell_type": "markdown",
   "id": "perfect-summary",
   "metadata": {
    "papermill": {
     "duration": 0.037489,
     "end_time": "2021-07-09T20:11:13.045653",
     "exception": false,
     "start_time": "2021-07-09T20:11:13.008164",
     "status": "completed"
    },
    "tags": []
   },
   "source": [
    "Setup the labels as 1 (when the digit is 3) and 0 (when the digit is 8)"
   ]
  },
  {
   "cell_type": "code",
   "execution_count": 11,
   "id": "personalized-growing",
   "metadata": {
    "execution": {
     "iopub.execute_input": "2021-07-09T20:11:13.131087Z",
     "iopub.status.busy": "2021-07-09T20:11:13.130456Z",
     "iopub.status.idle": "2021-07-09T20:11:13.145702Z",
     "shell.execute_reply": "2021-07-09T20:11:13.144803Z"
    },
    "papermill": {
     "duration": 0.060026,
     "end_time": "2021-07-09T20:11:13.145837",
     "exception": false,
     "start_time": "2021-07-09T20:11:13.085811",
     "status": "completed"
    },
    "tags": []
   },
   "outputs": [],
   "source": [
    "y_train = 1*(y_train==3)\n",
    "y_test = 1*(y_test==3)"
   ]
  },
  {
   "cell_type": "code",
   "execution_count": 12,
   "id": "considered-virgin",
   "metadata": {
    "execution": {
     "iopub.execute_input": "2021-07-09T20:11:13.229182Z",
     "iopub.status.busy": "2021-07-09T20:11:13.228514Z",
     "iopub.status.idle": "2021-07-09T20:11:13.243071Z",
     "shell.execute_reply": "2021-07-09T20:11:13.243777Z"
    },
    "papermill": {
     "duration": 0.059766,
     "end_time": "2021-07-09T20:11:13.243972",
     "exception": false,
     "start_time": "2021-07-09T20:11:13.184206",
     "status": "completed"
    },
    "tags": []
   },
   "outputs": [
    {
     "data": {
      "text/plain": [
       "((11982, 28, 28), (1984, 28, 28))"
      ]
     },
     "execution_count": 12,
     "metadata": {},
     "output_type": "execute_result"
    }
   ],
   "source": [
    "X_train.shape, X_test.shape"
   ]
  },
  {
   "cell_type": "markdown",
   "id": "civilian-mobile",
   "metadata": {
    "papermill": {
     "duration": 0.041085,
     "end_time": "2021-07-09T20:11:13.321909",
     "exception": false,
     "start_time": "2021-07-09T20:11:13.280824",
     "status": "completed"
    },
    "tags": []
   },
   "source": [
    "### Reshape the input data to create a linear array"
   ]
  },
  {
   "cell_type": "code",
   "execution_count": 13,
   "id": "colonial-adams",
   "metadata": {
    "execution": {
     "iopub.execute_input": "2021-07-09T20:11:13.406966Z",
     "iopub.status.busy": "2021-07-09T20:11:13.406235Z",
     "iopub.status.idle": "2021-07-09T20:11:13.421369Z",
     "shell.execute_reply": "2021-07-09T20:11:13.421971Z"
    },
    "papermill": {
     "duration": 0.059055,
     "end_time": "2021-07-09T20:11:13.422160",
     "exception": false,
     "start_time": "2021-07-09T20:11:13.363105",
     "status": "completed"
    },
    "tags": []
   },
   "outputs": [
    {
     "data": {
      "text/plain": [
       "((11982, 784), (1984, 784))"
      ]
     },
     "execution_count": 13,
     "metadata": {},
     "output_type": "execute_result"
    }
   ],
   "source": [
    "X_train = X_train.reshape(X_train.shape[0], -1)\n",
    "X_test = X_test.reshape(X_test.shape[0], -1)\n",
    "X_train.shape, X_test.shape"
   ]
  },
  {
   "cell_type": "markdown",
   "id": "smart-details",
   "metadata": {
    "papermill": {
     "duration": 0.03827,
     "end_time": "2021-07-09T20:11:13.499071",
     "exception": false,
     "start_time": "2021-07-09T20:11:13.460801",
     "status": "completed"
    },
    "tags": []
   },
   "source": [
    "### Importing appropriate functions from 'Kudzu'"
   ]
  },
  {
   "cell_type": "code",
   "execution_count": 14,
   "id": "celtic-trial",
   "metadata": {
    "execution": {
     "iopub.execute_input": "2021-07-09T20:11:13.580148Z",
     "iopub.status.busy": "2021-07-09T20:11:13.579456Z",
     "iopub.status.idle": "2021-07-09T20:11:13.602277Z",
     "shell.execute_reply": "2021-07-09T20:11:13.601688Z"
    },
    "papermill": {
     "duration": 0.066301,
     "end_time": "2021-07-09T20:11:13.602466",
     "exception": false,
     "start_time": "2021-07-09T20:11:13.536165",
     "status": "completed"
    },
    "tags": []
   },
   "outputs": [],
   "source": [
    "from kudzu.layer import Sigmoid\n",
    "from kudzu.layer import Relu\n",
    "from kudzu.layer import Affine, Sigmoid\n",
    "\n",
    "from kudzu.model import Model\n",
    "from kudzu.train import Learner\n",
    "from kudzu.optim import GD\n",
    "from kudzu.data import Data, Dataloader, Sampler\n",
    "\n",
    "from kudzu.callbacks import AccCallback\n",
    "from kudzu.callbacks import ClfCallback\n",
    "\n",
    "from kudzu.loss import MSE"
   ]
  },
  {
   "cell_type": "markdown",
   "id": "coupled-customer",
   "metadata": {
    "papermill": {
     "duration": 0.038479,
     "end_time": "2021-07-09T20:11:13.686978",
     "exception": false,
     "start_time": "2021-07-09T20:11:13.648499",
     "status": "completed"
    },
    "tags": []
   },
   "source": [
    "### Let us create a `Config` class, to store important parameters. \n",
    "This class essentially plays the role of a dictionary."
   ]
  },
  {
   "cell_type": "code",
   "execution_count": 15,
   "id": "young-ceiling",
   "metadata": {
    "execution": {
     "iopub.execute_input": "2021-07-09T20:11:13.768632Z",
     "iopub.status.busy": "2021-07-09T20:11:13.767948Z",
     "iopub.status.idle": "2021-07-09T20:11:13.782498Z",
     "shell.execute_reply": "2021-07-09T20:11:13.781869Z"
    },
    "papermill": {
     "duration": 0.056645,
     "end_time": "2021-07-09T20:11:13.782647",
     "exception": false,
     "start_time": "2021-07-09T20:11:13.726002",
     "status": "completed"
    },
    "tags": []
   },
   "outputs": [],
   "source": [
    "class Config:\n",
    "    pass\n",
    "config = Config()\n",
    "config.lr = 0.001\n",
    "config.num_epochs = 251\n",
    "config.bs = 50"
   ]
  },
  {
   "cell_type": "markdown",
   "id": "according-mandate",
   "metadata": {
    "papermill": {
     "duration": 0.038317,
     "end_time": "2021-07-09T20:11:13.858852",
     "exception": false,
     "start_time": "2021-07-09T20:11:13.820535",
     "status": "completed"
    },
    "tags": []
   },
   "source": [
    "### Initializing data to the variables"
   ]
  },
  {
   "cell_type": "code",
   "execution_count": 16,
   "id": "academic-disposition",
   "metadata": {
    "execution": {
     "iopub.execute_input": "2021-07-09T20:11:13.940314Z",
     "iopub.status.busy": "2021-07-09T20:11:13.939646Z",
     "iopub.status.idle": "2021-07-09T20:11:13.953922Z",
     "shell.execute_reply": "2021-07-09T20:11:13.954551Z"
    },
    "papermill": {
     "duration": 0.05737,
     "end_time": "2021-07-09T20:11:13.954704",
     "exception": false,
     "start_time": "2021-07-09T20:11:13.897334",
     "status": "completed"
    },
    "tags": []
   },
   "outputs": [],
   "source": [
    "data = Data(X_train, y_train.reshape(-1,1))\n",
    "sampler = Sampler(data, config.bs, shuffle=True)\n",
    "\n",
    "dl = Dataloader(data, sampler)\n",
    "\n",
    "opt = GD(config.lr)\n",
    "loss = MSE()"
   ]
  },
  {
   "cell_type": "code",
   "execution_count": 17,
   "id": "featured-commission",
   "metadata": {
    "execution": {
     "iopub.execute_input": "2021-07-09T20:11:14.038577Z",
     "iopub.status.busy": "2021-07-09T20:11:14.037850Z",
     "iopub.status.idle": "2021-07-09T20:11:14.051703Z",
     "shell.execute_reply": "2021-07-09T20:11:14.051111Z"
    },
    "papermill": {
     "duration": 0.058551,
     "end_time": "2021-07-09T20:11:14.051857",
     "exception": false,
     "start_time": "2021-07-09T20:11:13.993306",
     "status": "completed"
    },
    "tags": []
   },
   "outputs": [],
   "source": [
    "training_xdata = X_train\n",
    "testing_xdata = X_test\n",
    "training_ydata = y_train.reshape(-1,1)\n",
    "testing_ydata = y_test.reshape(-1,1)"
   ]
  },
  {
   "cell_type": "markdown",
   "id": "played-safety",
   "metadata": {
    "papermill": {
     "duration": 0.046567,
     "end_time": "2021-07-09T20:11:14.137987",
     "exception": false,
     "start_time": "2021-07-09T20:11:14.091420",
     "status": "completed"
    },
    "tags": []
   },
   "source": [
    "### Running Models with the Training data\n",
    "Details about the network layers:\n",
    "- A first affine layer has 784 inputs and does 100 affine transforms. These are followed by a Relu\n",
    "- A second affine layer has 100 inputs from the 100 activations of the past layer, and does 100 affine transforms. These are followed by a Relu\n",
    "- A third affine layer has 100 activations and does 2 affine transformations to create an embedding for visualization. There is no non-linearity here.\n",
    "- A final \"logistic regression\" which has an affine transform from 2 inputs to 1 output, which is squeezed through a sigmoid.\n",
    "\n",
    "Help taken from Anshuman's Notebook."
   ]
  },
  {
   "cell_type": "code",
   "execution_count": 18,
   "id": "asian-bankruptcy",
   "metadata": {
    "execution": {
     "iopub.execute_input": "2021-07-09T20:11:14.224625Z",
     "iopub.status.busy": "2021-07-09T20:11:14.223875Z",
     "iopub.status.idle": "2021-07-09T20:11:14.240794Z",
     "shell.execute_reply": "2021-07-09T20:11:14.241383Z"
    },
    "papermill": {
     "duration": 0.064124,
     "end_time": "2021-07-09T20:11:14.241528",
     "exception": false,
     "start_time": "2021-07-09T20:11:14.177404",
     "status": "completed"
    },
    "tags": []
   },
   "outputs": [],
   "source": [
    "# layers for the Neural Network\n",
    "layers = [Affine(\"first\", 784, 100), Relu(\"first\"), Affine(\"second\", 100, 100), Relu(\"second\"), Affine(\"third\", 100, 2), Affine(\"final\", 2, 1), Sigmoid(\"final\")]\n",
    "model_nn = Model(layers)\n",
    "\n",
    "# layers for the Logistic Regression\n",
    "layers_lr = [Affine(\"logits\", 784, 1), Sigmoid(\"sigmoid\")]\n",
    "model_lr = Model(layers_lr)"
   ]
  },
  {
   "cell_type": "code",
   "execution_count": 19,
   "id": "removed-butler",
   "metadata": {
    "execution": {
     "iopub.execute_input": "2021-07-09T20:11:14.322715Z",
     "iopub.status.busy": "2021-07-09T20:11:14.322023Z",
     "iopub.status.idle": "2021-07-09T20:11:14.335736Z",
     "shell.execute_reply": "2021-07-09T20:11:14.335107Z"
    },
    "papermill": {
     "duration": 0.056376,
     "end_time": "2021-07-09T20:11:14.335864",
     "exception": false,
     "start_time": "2021-07-09T20:11:14.279488",
     "status": "completed"
    },
    "tags": []
   },
   "outputs": [],
   "source": [
    "# suffix _nn stands for Neural Network.\n",
    "learner_nn = Learner(loss, model_nn, opt, config.num_epochs)\n",
    "acc_nn = ClfCallback(learner_nn, config.bs, training_xdata , testing_xdata, training_ydata, testing_ydata)\n",
    "learner_nn.set_callbacks([acc_nn])"
   ]
  },
  {
   "cell_type": "code",
   "execution_count": 20,
   "id": "conceptual-throw",
   "metadata": {
    "execution": {
     "iopub.execute_input": "2021-07-09T20:11:14.415567Z",
     "iopub.status.busy": "2021-07-09T20:11:14.414909Z",
     "iopub.status.idle": "2021-07-09T20:13:37.819330Z",
     "shell.execute_reply": "2021-07-09T20:13:37.820340Z"
    },
    "papermill": {
     "duration": 143.446779,
     "end_time": "2021-07-09T20:13:37.820506",
     "exception": false,
     "start_time": "2021-07-09T20:11:14.373727",
     "status": "completed"
    },
    "tags": []
   },
   "outputs": [
    {
     "name": "stdout",
     "output_type": "stream",
     "text": [
      "====== Neural Network ======\n"
     ]
    },
    {
     "name": "stdout",
     "output_type": "stream",
     "text": [
      "Epoch 0, Loss 0.2472\n",
      "Training Accuracy: 0.6120, Testing Accuracy: 0.6220\n",
      "\n"
     ]
    },
    {
     "name": "stdout",
     "output_type": "stream",
     "text": [
      "Epoch 10, Loss 0.1856\n",
      "Training Accuracy: 0.8746, Testing Accuracy: 0.8952\n",
      "\n"
     ]
    },
    {
     "name": "stdout",
     "output_type": "stream",
     "text": [
      "Epoch 20, Loss 0.091\n",
      "Training Accuracy: 0.9154, Testing Accuracy: 0.9254\n",
      "\n"
     ]
    },
    {
     "name": "stdout",
     "output_type": "stream",
     "text": [
      "Epoch 30, Loss 0.0591\n",
      "Training Accuracy: 0.9362, Testing Accuracy: 0.9466\n",
      "\n"
     ]
    },
    {
     "name": "stdout",
     "output_type": "stream",
     "text": [
      "Epoch 40, Loss 0.0465\n",
      "Training Accuracy: 0.9481, Testing Accuracy: 0.9551\n",
      "\n"
     ]
    },
    {
     "name": "stdout",
     "output_type": "stream",
     "text": [
      "Epoch 50, Loss 0.04\n",
      "Training Accuracy: 0.9541, Testing Accuracy: 0.9587\n",
      "\n"
     ]
    },
    {
     "name": "stdout",
     "output_type": "stream",
     "text": [
      "Epoch 60, Loss 0.0361\n",
      "Training Accuracy: 0.9587, Testing Accuracy: 0.9617\n",
      "\n"
     ]
    },
    {
     "name": "stdout",
     "output_type": "stream",
     "text": [
      "Epoch 70, Loss 0.0335\n",
      "Training Accuracy: 0.9603, Testing Accuracy: 0.9632\n",
      "\n"
     ]
    },
    {
     "name": "stdout",
     "output_type": "stream",
     "text": [
      "Epoch 80, Loss 0.0315\n",
      "Training Accuracy: 0.9622, Testing Accuracy: 0.9642\n",
      "\n"
     ]
    },
    {
     "name": "stdout",
     "output_type": "stream",
     "text": [
      "Epoch 90, Loss 0.0299\n",
      "Training Accuracy: 0.9643, Testing Accuracy: 0.9662\n",
      "\n"
     ]
    },
    {
     "name": "stdout",
     "output_type": "stream",
     "text": [
      "Epoch 100, Loss 0.0287\n",
      "Training Accuracy: 0.9655, Testing Accuracy: 0.9682\n",
      "\n"
     ]
    },
    {
     "name": "stdout",
     "output_type": "stream",
     "text": [
      "Epoch 110, Loss 0.0276\n",
      "Training Accuracy: 0.9670, Testing Accuracy: 0.9698\n",
      "\n"
     ]
    },
    {
     "name": "stdout",
     "output_type": "stream",
     "text": [
      "Epoch 120, Loss 0.0266\n",
      "Training Accuracy: 0.9682, Testing Accuracy: 0.9723\n",
      "\n"
     ]
    },
    {
     "name": "stdout",
     "output_type": "stream",
     "text": [
      "Epoch 130, Loss 0.0258\n",
      "Training Accuracy: 0.9693, Testing Accuracy: 0.9728\n",
      "\n"
     ]
    },
    {
     "name": "stdout",
     "output_type": "stream",
     "text": [
      "Epoch 140, Loss 0.0251\n",
      "Training Accuracy: 0.9703, Testing Accuracy: 0.9733\n",
      "\n"
     ]
    },
    {
     "name": "stdout",
     "output_type": "stream",
     "text": [
      "Epoch 150, Loss 0.0244\n",
      "Training Accuracy: 0.9713, Testing Accuracy: 0.9728\n",
      "\n"
     ]
    },
    {
     "name": "stdout",
     "output_type": "stream",
     "text": [
      "Epoch 160, Loss 0.0238\n",
      "Training Accuracy: 0.9719, Testing Accuracy: 0.9728\n",
      "\n"
     ]
    },
    {
     "name": "stdout",
     "output_type": "stream",
     "text": [
      "Epoch 170, Loss 0.0232\n",
      "Training Accuracy: 0.9726, Testing Accuracy: 0.9728\n",
      "\n"
     ]
    },
    {
     "name": "stdout",
     "output_type": "stream",
     "text": [
      "Epoch 180, Loss 0.0227\n",
      "Training Accuracy: 0.9735, Testing Accuracy: 0.9728\n",
      "\n"
     ]
    },
    {
     "name": "stdout",
     "output_type": "stream",
     "text": [
      "Epoch 190, Loss 0.0222\n",
      "Training Accuracy: 0.9737, Testing Accuracy: 0.9728\n",
      "\n"
     ]
    },
    {
     "name": "stdout",
     "output_type": "stream",
     "text": [
      "Epoch 200, Loss 0.0217\n",
      "Training Accuracy: 0.9744, Testing Accuracy: 0.9728\n",
      "\n"
     ]
    },
    {
     "name": "stdout",
     "output_type": "stream",
     "text": [
      "Epoch 210, Loss 0.0213\n",
      "Training Accuracy: 0.9752, Testing Accuracy: 0.9728\n",
      "\n"
     ]
    },
    {
     "name": "stdout",
     "output_type": "stream",
     "text": [
      "Epoch 220, Loss 0.0209\n",
      "Training Accuracy: 0.9759, Testing Accuracy: 0.9728\n",
      "\n"
     ]
    },
    {
     "name": "stdout",
     "output_type": "stream",
     "text": [
      "Epoch 230, Loss 0.0205\n",
      "Training Accuracy: 0.9763, Testing Accuracy: 0.9733\n",
      "\n"
     ]
    },
    {
     "name": "stdout",
     "output_type": "stream",
     "text": [
      "Epoch 240, Loss 0.0201\n",
      "Training Accuracy: 0.9767, Testing Accuracy: 0.9738\n",
      "\n"
     ]
    },
    {
     "name": "stdout",
     "output_type": "stream",
     "text": [
      "Epoch 250, Loss 0.0197\n",
      "Training Accuracy: 0.9771, Testing Accuracy: 0.9743\n",
      "\n"
     ]
    },
    {
     "data": {
      "text/plain": [
       "0.033844991255211856"
      ]
     },
     "execution_count": 20,
     "metadata": {},
     "output_type": "execute_result"
    }
   ],
   "source": [
    "print(\"====== Neural Network ======\")\n",
    "learner_nn.train_loop(dl)"
   ]
  },
  {
   "cell_type": "markdown",
   "id": "competent-suffering",
   "metadata": {
    "papermill": {
     "duration": 0.048258,
     "end_time": "2021-07-09T20:13:37.919187",
     "exception": false,
     "start_time": "2021-07-09T20:13:37.870929",
     "status": "completed"
    },
    "tags": []
   },
   "source": [
    "### Logistic Regression based Implementation."
   ]
  },
  {
   "cell_type": "code",
   "execution_count": 21,
   "id": "qualified-psychiatry",
   "metadata": {
    "execution": {
     "iopub.execute_input": "2021-07-09T20:13:38.023459Z",
     "iopub.status.busy": "2021-07-09T20:13:38.022800Z",
     "iopub.status.idle": "2021-07-09T20:13:38.037016Z",
     "shell.execute_reply": "2021-07-09T20:13:38.036476Z"
    },
    "papermill": {
     "duration": 0.06919,
     "end_time": "2021-07-09T20:13:38.037156",
     "exception": false,
     "start_time": "2021-07-09T20:13:37.967966",
     "status": "completed"
    },
    "tags": []
   },
   "outputs": [],
   "source": [
    "learner_lr = Learner(loss, model_lr, opt, config.num_epochs)\n",
    "acc_lr = ClfCallback(learner_lr, config.bs, training_xdata , testing_xdata, training_ydata, testing_ydata)\n",
    "learner_lr.set_callbacks([acc_lr])"
   ]
  },
  {
   "cell_type": "code",
   "execution_count": 22,
   "id": "average-outside",
   "metadata": {
    "execution": {
     "iopub.execute_input": "2021-07-09T20:13:38.141904Z",
     "iopub.status.busy": "2021-07-09T20:13:38.141220Z",
     "iopub.status.idle": "2021-07-09T20:13:58.612355Z",
     "shell.execute_reply": "2021-07-09T20:13:58.613192Z"
    },
    "papermill": {
     "duration": 20.526775,
     "end_time": "2021-07-09T20:13:58.613356",
     "exception": false,
     "start_time": "2021-07-09T20:13:38.086581",
     "status": "completed"
    },
    "tags": []
   },
   "outputs": [
    {
     "name": "stdout",
     "output_type": "stream",
     "text": [
      "====== Logistic Regression ======\n",
      "Epoch 0, Loss 0.2525\n",
      "Training Accuracy: 0.6278, Testing Accuracy: 0.6200\n",
      "\n"
     ]
    },
    {
     "name": "stdout",
     "output_type": "stream",
     "text": [
      "Epoch 10, Loss 0.1039\n",
      "Training Accuracy: 0.9104, Testing Accuracy: 0.9128\n",
      "\n"
     ]
    },
    {
     "name": "stdout",
     "output_type": "stream",
     "text": [
      "Epoch 20, Loss 0.0791\n",
      "Training Accuracy: 0.9277, Testing Accuracy: 0.9375\n",
      "\n"
     ]
    },
    {
     "name": "stdout",
     "output_type": "stream",
     "text": [
      "Epoch 30, Loss 0.0679\n",
      "Training Accuracy: 0.9362, Testing Accuracy: 0.9451\n",
      "\n"
     ]
    },
    {
     "name": "stdout",
     "output_type": "stream",
     "text": [
      "Epoch 40, Loss 0.0613\n",
      "Training Accuracy: 0.9423, Testing Accuracy: 0.9521\n",
      "\n"
     ]
    },
    {
     "name": "stdout",
     "output_type": "stream",
     "text": [
      "Epoch 50, Loss 0.0568\n",
      "Training Accuracy: 0.9453, Testing Accuracy: 0.9536\n",
      "\n"
     ]
    },
    {
     "name": "stdout",
     "output_type": "stream",
     "text": [
      "Epoch 60, Loss 0.0535\n",
      "Training Accuracy: 0.9470, Testing Accuracy: 0.9592\n",
      "\n"
     ]
    },
    {
     "name": "stdout",
     "output_type": "stream",
     "text": [
      "Epoch 70, Loss 0.051\n",
      "Training Accuracy: 0.9483, Testing Accuracy: 0.9592\n",
      "\n"
     ]
    },
    {
     "name": "stdout",
     "output_type": "stream",
     "text": [
      "Epoch 80, Loss 0.049\n",
      "Training Accuracy: 0.9499, Testing Accuracy: 0.9617\n",
      "\n"
     ]
    },
    {
     "name": "stdout",
     "output_type": "stream",
     "text": [
      "Epoch 90, Loss 0.0473\n",
      "Training Accuracy: 0.9511, Testing Accuracy: 0.9617\n",
      "\n"
     ]
    },
    {
     "name": "stdout",
     "output_type": "stream",
     "text": [
      "Epoch 100, Loss 0.0459\n",
      "Training Accuracy: 0.9520, Testing Accuracy: 0.9632\n",
      "\n"
     ]
    },
    {
     "name": "stdout",
     "output_type": "stream",
     "text": [
      "Epoch 110, Loss 0.0447\n",
      "Training Accuracy: 0.9527, Testing Accuracy: 0.9632\n",
      "\n"
     ]
    },
    {
     "name": "stdout",
     "output_type": "stream",
     "text": [
      "Epoch 120, Loss 0.0437\n",
      "Training Accuracy: 0.9538, Testing Accuracy: 0.9632\n",
      "\n"
     ]
    },
    {
     "name": "stdout",
     "output_type": "stream",
     "text": [
      "Epoch 130, Loss 0.0428\n",
      "Training Accuracy: 0.9548, Testing Accuracy: 0.9647\n",
      "\n"
     ]
    },
    {
     "name": "stdout",
     "output_type": "stream",
     "text": [
      "Epoch 140, Loss 0.042\n",
      "Training Accuracy: 0.9553, Testing Accuracy: 0.9647\n",
      "\n"
     ]
    },
    {
     "name": "stdout",
     "output_type": "stream",
     "text": [
      "Epoch 150, Loss 0.0412\n",
      "Training Accuracy: 0.9556, Testing Accuracy: 0.9652\n",
      "\n"
     ]
    },
    {
     "name": "stdout",
     "output_type": "stream",
     "text": [
      "Epoch 160, Loss 0.0406\n",
      "Training Accuracy: 0.9559, Testing Accuracy: 0.9657\n",
      "\n"
     ]
    },
    {
     "name": "stdout",
     "output_type": "stream",
     "text": [
      "Epoch 170, Loss 0.04\n",
      "Training Accuracy: 0.9565, Testing Accuracy: 0.9662\n",
      "\n"
     ]
    },
    {
     "name": "stdout",
     "output_type": "stream",
     "text": [
      "Epoch 180, Loss 0.0394\n",
      "Training Accuracy: 0.9569, Testing Accuracy: 0.9657\n",
      "\n"
     ]
    },
    {
     "name": "stdout",
     "output_type": "stream",
     "text": [
      "Epoch 190, Loss 0.0389\n",
      "Training Accuracy: 0.9572, Testing Accuracy: 0.9657\n",
      "\n"
     ]
    },
    {
     "name": "stdout",
     "output_type": "stream",
     "text": [
      "Epoch 200, Loss 0.0384\n",
      "Training Accuracy: 0.9579, Testing Accuracy: 0.9657\n",
      "\n"
     ]
    },
    {
     "name": "stdout",
     "output_type": "stream",
     "text": [
      "Epoch 210, Loss 0.038\n",
      "Training Accuracy: 0.9584, Testing Accuracy: 0.9652\n",
      "\n"
     ]
    },
    {
     "name": "stdout",
     "output_type": "stream",
     "text": [
      "Epoch 220, Loss 0.0376\n",
      "Training Accuracy: 0.9594, Testing Accuracy: 0.9657\n",
      "\n"
     ]
    },
    {
     "name": "stdout",
     "output_type": "stream",
     "text": [
      "Epoch 230, Loss 0.0372\n",
      "Training Accuracy: 0.9598, Testing Accuracy: 0.9662\n",
      "\n"
     ]
    },
    {
     "name": "stdout",
     "output_type": "stream",
     "text": [
      "Epoch 240, Loss 0.0368\n",
      "Training Accuracy: 0.9604, Testing Accuracy: 0.9667\n",
      "\n"
     ]
    },
    {
     "name": "stdout",
     "output_type": "stream",
     "text": [
      "Epoch 250, Loss 0.0365\n",
      "Training Accuracy: 0.9607, Testing Accuracy: 0.9672\n",
      "\n"
     ]
    },
    {
     "data": {
      "text/plain": [
       "0.030423291379720392"
      ]
     },
     "execution_count": 22,
     "metadata": {},
     "output_type": "execute_result"
    }
   ],
   "source": [
    "print(\"====== Logistic Regression ======\")\n",
    "learner_lr.train_loop(dl)"
   ]
  },
  {
   "cell_type": "markdown",
   "id": "adjusted-possible",
   "metadata": {
    "papermill": {
     "duration": 0.056232,
     "end_time": "2021-07-09T20:13:58.726575",
     "exception": false,
     "start_time": "2021-07-09T20:13:58.670343",
     "status": "completed"
    },
    "tags": []
   },
   "source": [
    "### Comparing results of NN and LR"
   ]
  },
  {
   "cell_type": "code",
   "execution_count": 23,
   "id": "mental-multimedia",
   "metadata": {
    "execution": {
     "iopub.execute_input": "2021-07-09T20:13:58.855853Z",
     "iopub.status.busy": "2021-07-09T20:13:58.855140Z",
     "iopub.status.idle": "2021-07-09T20:13:59.175317Z",
     "shell.execute_reply": "2021-07-09T20:13:59.174770Z"
    },
    "papermill": {
     "duration": 0.392461,
     "end_time": "2021-07-09T20:13:59.175451",
     "exception": false,
     "start_time": "2021-07-09T20:13:58.782990",
     "status": "completed"
    },
    "tags": []
   },
   "outputs": [
    {
     "data": {
      "text/plain": [
       "<matplotlib.legend.Legend at 0x7fb0fa3ec1d0>"
      ]
     },
     "execution_count": 23,
     "metadata": {},
     "output_type": "execute_result"
    },
    {
     "data": {
      "image/png": "[encoded data removed]",
      "text/plain": [
       "<Figure size 1080x720 with 1 Axes>"
      ]
     },
     "metadata": {
      "needs_background": "light"
     },
     "output_type": "display_data"
    }
   ],
   "source": [
    "plt.figure(figsize=(15,10))\n",
    "\n",
    "# Neural Network plots\n",
    "plt.plot(acc_nn.accuracies, 'r-', label = \"Training Accuracies - NN\")\n",
    "plt.plot(acc_nn.test_accuracies, 'g-', label = \"Testing Accuracies - NN\")\n",
    "\n",
    "# Logistic Regression plots\n",
    "plt.plot(acc_lr.accuracies, 'k-', label = \"Training Accuracies - LR\")\n",
    "plt.plot(acc_lr.test_accuracies, 'b-', label = \"Testing Accuracies - LR\")\n",
    "\n",
    "plt.ylim(0.8, 1)\n",
    "\n",
    "plt.legend()\n",
    "\n"
   ]
  },
  {
   "cell_type": "markdown",
   "id": "sexual-flesh",
   "metadata": {
    "papermill": {
     "duration": 0.060723,
     "end_time": "2021-07-09T20:13:59.294938",
     "exception": false,
     "start_time": "2021-07-09T20:13:59.234215",
     "status": "completed"
    },
    "tags": []
   },
   "source": [
    "### From the plot, we can observe the following:\n",
    "- Neural Network achieves higher accuracy than the Logistic Regression model.\n",
    "- This apparently, is because of overfitting, i.e. NN captures more noise than data.\n",
    "- Testing accuracy of NN drops below the Training accuracy at higher epochs. This explains the over-fitting on training data.\n",
    "- Logistic Regression gives a reliable accuracy, without the above mentioned problem.\n"
   ]
  },
  {
   "cell_type": "markdown",
   "id": "institutional-pacific",
   "metadata": {
    "papermill": {
     "duration": 0.094438,
     "end_time": "2021-07-09T20:13:59.448978",
     "exception": false,
     "start_time": "2021-07-09T20:13:59.354540",
     "status": "completed"
    },
    "tags": []
   },
   "source": [
    "### Moving till the last but one layer (excluding it).\n",
    "#### Plotting the outputs of this layer of the NN."
   ]
  },
  {
   "cell_type": "code",
   "execution_count": 24,
   "id": "economic-server",
   "metadata": {
    "execution": {
     "iopub.execute_input": "2021-07-09T20:13:59.573989Z",
     "iopub.status.busy": "2021-07-09T20:13:59.573315Z",
     "iopub.status.idle": "2021-07-09T20:13:59.591262Z",
     "shell.execute_reply": "2021-07-09T20:13:59.591937Z"
    },
    "papermill": {
     "duration": 0.084664,
     "end_time": "2021-07-09T20:13:59.592088",
     "exception": false,
     "start_time": "2021-07-09T20:13:59.507424",
     "status": "completed"
    },
    "tags": []
   },
   "outputs": [],
   "source": [
    "model_new = Model(layers[:-2])"
   ]
  },
  {
   "cell_type": "code",
   "execution_count": 25,
   "id": "varied-upgrade",
   "metadata": {
    "execution": {
     "iopub.execute_input": "2021-07-09T20:13:59.714666Z",
     "iopub.status.busy": "2021-07-09T20:13:59.713975Z",
     "iopub.status.idle": "2021-07-09T20:13:59.747355Z",
     "shell.execute_reply": "2021-07-09T20:13:59.748205Z"
    },
    "papermill": {
     "duration": 0.096525,
     "end_time": "2021-07-09T20:13:59.748388",
     "exception": false,
     "start_time": "2021-07-09T20:13:59.651863",
     "status": "completed"
    },
    "tags": []
   },
   "outputs": [],
   "source": [
    "plot_testing = model_new(testing_xdata)"
   ]
  },
  {
   "cell_type": "code",
   "execution_count": 26,
   "id": "specific-handling",
   "metadata": {
    "execution": {
     "iopub.execute_input": "2021-07-09T20:13:59.881914Z",
     "iopub.status.busy": "2021-07-09T20:13:59.880380Z",
     "iopub.status.idle": "2021-07-09T20:14:00.150296Z",
     "shell.execute_reply": "2021-07-09T20:14:00.151015Z"
    },
    "papermill": {
     "duration": 0.34194,
     "end_time": "2021-07-09T20:14:00.151342",
     "exception": false,
     "start_time": "2021-07-09T20:13:59.809402",
     "status": "completed"
    },
    "tags": []
   },
   "outputs": [
    {
     "data": {
      "text/plain": [
       "Text(0.5, 1.0, 'Outputs')"
      ]
     },
     "execution_count": 26,
     "metadata": {},
     "output_type": "execute_result"
    },
    {
     "data": {
      "image/png": "[encoded data removed]",
      "text/plain": [
       "<Figure size 576x504 with 1 Axes>"
      ]
     },
     "metadata": {
      "needs_background": "light"
     },
     "output_type": "display_data"
    }
   ],
   "source": [
    "plt.figure(figsize=(8,7))\n",
    "plt.scatter(plot_testing[:,0], plot_testing[:,1], alpha = 0.1, c = y_test.ravel());\n",
    "plt.title('Outputs')"
   ]
  },
  {
   "cell_type": "markdown",
   "id": "described-knowing",
   "metadata": {
    "papermill": {
     "duration": 0.062579,
     "end_time": "2021-07-09T20:14:00.280914",
     "exception": false,
     "start_time": "2021-07-09T20:14:00.218335",
     "status": "completed"
    },
    "tags": []
   },
   "source": [
    "### Plotting probability contours"
   ]
  },
  {
   "cell_type": "code",
   "execution_count": 27,
   "id": "needed-growing",
   "metadata": {
    "execution": {
     "iopub.execute_input": "2021-07-09T20:14:00.409643Z",
     "iopub.status.busy": "2021-07-09T20:14:00.408271Z",
     "iopub.status.idle": "2021-07-09T20:14:00.421413Z",
     "shell.execute_reply": "2021-07-09T20:14:00.421968Z"
    },
    "papermill": {
     "duration": 0.08049,
     "end_time": "2021-07-09T20:14:00.422250",
     "exception": false,
     "start_time": "2021-07-09T20:14:00.341760",
     "status": "completed"
    },
    "tags": []
   },
   "outputs": [],
   "source": [
    "model_prob = Model(layers[-2:]) "
   ]
  },
  {
   "cell_type": "code",
   "execution_count": 28,
   "id": "introductory-enforcement",
   "metadata": {
    "execution": {
     "iopub.execute_input": "2021-07-09T20:14:00.550886Z",
     "iopub.status.busy": "2021-07-09T20:14:00.550187Z",
     "iopub.status.idle": "2021-07-09T20:14:00.576684Z",
     "shell.execute_reply": "2021-07-09T20:14:00.577332Z"
    },
    "papermill": {
     "duration": 0.093708,
     "end_time": "2021-07-09T20:14:00.577502",
     "exception": false,
     "start_time": "2021-07-09T20:14:00.483794",
     "status": "completed"
    },
    "tags": []
   },
   "outputs": [],
   "source": [
    "# Adjust the x and y ranges according to the above generated plot.\n",
    "x_range = np.linspace(-4, 1, 100) \n",
    "y_range = np.linspace(-6, 6, 100) \n",
    "x_grid, y_grid = np.meshgrid(x_range, y_range) # x_grid and y_grig are of size 100 X 100\n",
    "\n",
    "# converting x_grid and y_grid to continuous arrays\n",
    "x_grid_flat = np.ravel(x_grid)\n",
    "y_grid_flat = np.ravel(y_grid)\n",
    "\n",
    "# The last layer of the current model takes two columns as input. Hence transpose of np.vstack() is required.\n",
    "X = np.vstack((x_grid_flat, y_grid_flat)).T\n",
    "\n",
    "# x_grid and y_grid are of size 100 x 100\n",
    "probability_contour = model_prob(X).reshape(100,100) "
   ]
  },
  {
   "cell_type": "code",
   "execution_count": 29,
   "id": "understood-landing",
   "metadata": {
    "execution": {
     "iopub.execute_input": "2021-07-09T20:14:00.753478Z",
     "iopub.status.busy": "2021-07-09T20:14:00.752815Z",
     "iopub.status.idle": "2021-07-09T20:14:01.104842Z",
     "shell.execute_reply": "2021-07-09T20:14:01.105418Z"
    },
    "papermill": {
     "duration": 0.419369,
     "end_time": "2021-07-09T20:14:01.105583",
     "exception": false,
     "start_time": "2021-07-09T20:14:00.686214",
     "status": "completed"
    },
    "tags": []
   },
   "outputs": [
    {
     "data": {
      "image/png": "[encoded data removed]",
      "text/plain": [
       "<Figure size 720x648 with 1 Axes>"
      ]
     },
     "metadata": {
      "needs_background": "light"
     },
     "output_type": "display_data"
    }
   ],
   "source": [
    "plt.figure(figsize=(10,9))\n",
    "plt.scatter(plot_testing[:,0], plot_testing[:,1], alpha = 0.1, c = y_test.ravel())\n",
    "contours = plt.contour(x_grid,y_grid,probability_contour)\n",
    "plt.title('Probability Contours')\n",
    "plt.clabel(contours, inline = True );"
   ]
  }
 ],
 "metadata": {
  "kernelspec": {
   "display_name": "Python 3",
   "language": "python",
   "name": "python3"
  },
  "language_info": {
   "codemirror_mode": {
    "name": "ipython",
    "version": 3
   },
   "file_extension": ".py",
   "mimetype": "text/x-python",
   "name": "python",
   "nbconvert_exporter": "python",
   "pygments_lexer": "ipython3",
   "version": "3.6.13"
  },
  "papermill": {
   "duration": 521.053164,
   "end_time": "2021-07-09T20:14:01.577280",
   "environment_variables": {},
   "exception": null,
   "input_path": "2020-08-11-NeuralNetwork.ipynb",
   "output_path": "2020-08-11-NeuralNetwork.ipynb",
   "parameters": {},
   "start_time": "2021-07-09T20:05:20.524116",
   "version": "2.1.2"
  }
 },
 "nbformat": 4,
 "nbformat_minor": 5
}