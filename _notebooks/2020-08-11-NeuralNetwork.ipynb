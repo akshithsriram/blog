{
 "cells": [
  {
   "cell_type": "markdown",
   "metadata": {
    "papermill": {
     "duration": 0.031355,
     "end_time": "2020-11-06T20:04:30.967068",
     "exception": false,
     "start_time": "2020-11-06T20:04:30.935713",
     "status": "completed"
    },
    "tags": []
   },
   "source": [
    "# \"A Basic Neural Network: Differentiate Hand-Written Digits\"\n",
    "\n",
    "- badges: true\n",
    "- author: Akshith Sriram"
   ]
  },
  {
   "cell_type": "markdown",
   "metadata": {
    "papermill": {
     "duration": 0.029415,
     "end_time": "2020-11-06T20:04:31.353255",
     "exception": false,
     "start_time": "2020-11-06T20:04:31.323840",
     "status": "completed"
    },
    "tags": []
   },
   "source": [
    "### Key Objectives:\n",
    "- Building a neural network that differentiates two hand-written digits 3 and 8.\n",
    "- Comparing the results of this Neural Network (NN) to that of a Logistic Regression (LR) model.\n",
    "\n",
    "### Requirements:\n",
    "- 'Kudzu' : A neural network library that was designed during our course by [Univ.AI](www.univ.ai). \n",
    "- MNIST Database\n",
    "\n",
    "If MNIST is not installed, use the command `!pip install mnist` given below.\n",
    "It can be run both from the command line and Jupyter Notebook."
   ]
  },
  {
   "cell_type": "code",
   "execution_count": 1,
   "metadata": {
    "execution": {
     "iopub.execute_input": "2020-11-06T20:04:31.410373Z",
     "iopub.status.busy": "2020-11-06T20:04:31.409760Z",
     "iopub.status.idle": "2020-11-06T20:04:32.981479Z",
     "shell.execute_reply": "2020-11-06T20:04:32.982305Z"
    },
    "papermill": {
     "duration": 1.604086,
     "end_time": "2020-11-06T20:04:32.982494",
     "exception": false,
     "start_time": "2020-11-06T20:04:31.378408",
     "status": "completed"
    },
    "tags": []
   },
   "outputs": [
    {
     "name": "stdout",
     "output_type": "stream",
     "text": [
      "Collecting mnist\r\n"
     ]
    },
    {
     "name": "stdout",
     "output_type": "stream",
     "text": [
      "  Downloading mnist-0.2.2-py2.py3-none-any.whl (3.5 kB)\r\n",
      "Requirement already satisfied: numpy in /opt/hostedtoolcache/Python/3.6.12/x64/lib/python3.6/site-packages (from mnist) (1.19.4)\r\n"
     ]
    },
    {
     "name": "stdout",
     "output_type": "stream",
     "text": [
      "Installing collected packages: mnist\r\n"
     ]
    },
    {
     "name": "stdout",
     "output_type": "stream",
     "text": [
      "Successfully installed mnist-0.2.2\r\n"
     ]
    }
   ],
   "source": [
    "!pip install mnist "
   ]
  },
  {
   "cell_type": "markdown",
   "metadata": {
    "papermill": {
     "duration": 0.026372,
     "end_time": "2020-11-06T20:04:33.035487",
     "exception": false,
     "start_time": "2020-11-06T20:04:33.009115",
     "status": "completed"
    },
    "tags": []
   },
   "source": [
    "#### Importing necessary libraries"
   ]
  },
  {
   "cell_type": "code",
   "execution_count": 2,
   "metadata": {
    "execution": {
     "iopub.execute_input": "2020-11-06T20:04:33.098512Z",
     "iopub.status.busy": "2020-11-06T20:04:33.097933Z",
     "iopub.status.idle": "2020-11-06T20:04:33.705027Z",
     "shell.execute_reply": "2020-11-06T20:04:33.704447Z"
    },
    "papermill": {
     "duration": 0.641979,
     "end_time": "2020-11-06T20:04:33.705163",
     "exception": false,
     "start_time": "2020-11-06T20:04:33.063184",
     "status": "completed"
    },
    "tags": []
   },
   "outputs": [],
   "source": [
    "%load_ext autoreload\n",
    "%autoreload 2\n",
    "\n",
    "%matplotlib inline\n",
    "import matplotlib.pyplot as plt\n",
    "\n",
    "import numpy as np\n",
    "import pandas as pd"
   ]
  },
  {
   "cell_type": "markdown",
   "metadata": {
    "papermill": {
     "duration": 0.028713,
     "end_time": "2020-11-06T20:04:33.760658",
     "exception": false,
     "start_time": "2020-11-06T20:04:33.731945",
     "status": "completed"
    },
    "tags": []
   },
   "source": [
    "### Preparing the Data"
   ]
  },
  {
   "cell_type": "code",
   "execution_count": 3,
   "metadata": {
    "execution": {
     "iopub.execute_input": "2020-11-06T20:04:33.820142Z",
     "iopub.status.busy": "2020-11-06T20:04:33.819373Z",
     "iopub.status.idle": "2020-11-06T20:04:33.833369Z",
     "shell.execute_reply": "2020-11-06T20:04:33.833820Z"
    },
    "papermill": {
     "duration": 0.046107,
     "end_time": "2020-11-06T20:04:33.833979",
     "exception": false,
     "start_time": "2020-11-06T20:04:33.787872",
     "status": "completed"
    },
    "tags": []
   },
   "outputs": [],
   "source": [
    "import mnist"
   ]
  },
  {
   "cell_type": "code",
   "execution_count": 4,
   "metadata": {
    "execution": {
     "iopub.execute_input": "2020-11-06T20:04:33.894650Z",
     "iopub.status.busy": "2020-11-06T20:04:33.894052Z",
     "iopub.status.idle": "2020-11-06T20:04:35.662750Z",
     "shell.execute_reply": "2020-11-06T20:04:35.663565Z"
    },
    "papermill": {
     "duration": 1.801453,
     "end_time": "2020-11-06T20:04:35.663824",
     "exception": false,
     "start_time": "2020-11-06T20:04:33.862371",
     "status": "completed"
    },
    "tags": []
   },
   "outputs": [],
   "source": [
    "train_images = mnist.train_images()\n",
    "train_labels = mnist.train_labels()"
   ]
  },
  {
   "cell_type": "code",
   "execution_count": 5,
   "metadata": {
    "execution": {
     "iopub.execute_input": "2020-11-06T20:04:35.724828Z",
     "iopub.status.busy": "2020-11-06T20:04:35.724192Z",
     "iopub.status.idle": "2020-11-06T20:04:35.741228Z",
     "shell.execute_reply": "2020-11-06T20:04:35.741845Z"
    },
    "papermill": {
     "duration": 0.049726,
     "end_time": "2020-11-06T20:04:35.742049",
     "exception": false,
     "start_time": "2020-11-06T20:04:35.692323",
     "status": "completed"
    },
    "tags": []
   },
   "outputs": [
    {
     "data": {
      "text/plain": [
       "((60000, 28, 28), (60000,))"
      ]
     },
     "execution_count": 5,
     "metadata": {},
     "output_type": "execute_result"
    }
   ],
   "source": [
    "train_images.shape, train_labels.shape"
   ]
  },
  {
   "cell_type": "code",
   "execution_count": 6,
   "metadata": {
    "execution": {
     "iopub.execute_input": "2020-11-06T20:04:35.802438Z",
     "iopub.status.busy": "2020-11-06T20:04:35.801818Z",
     "iopub.status.idle": "2020-11-06T20:04:36.683994Z",
     "shell.execute_reply": "2020-11-06T20:04:36.683344Z"
    },
    "papermill": {
     "duration": 0.913662,
     "end_time": "2020-11-06T20:04:36.684148",
     "exception": false,
     "start_time": "2020-11-06T20:04:35.770486",
     "status": "completed"
    },
    "tags": []
   },
   "outputs": [],
   "source": [
    "test_images = mnist.test_images()\n",
    "test_labels = mnist.test_labels()"
   ]
  },
  {
   "cell_type": "code",
   "execution_count": 7,
   "metadata": {
    "execution": {
     "iopub.execute_input": "2020-11-06T20:04:36.744663Z",
     "iopub.status.busy": "2020-11-06T20:04:36.743758Z",
     "iopub.status.idle": "2020-11-06T20:04:36.758215Z",
     "shell.execute_reply": "2020-11-06T20:04:36.757727Z"
    },
    "papermill": {
     "duration": 0.045557,
     "end_time": "2020-11-06T20:04:36.758351",
     "exception": false,
     "start_time": "2020-11-06T20:04:36.712794",
     "status": "completed"
    },
    "tags": []
   },
   "outputs": [
    {
     "data": {
      "text/plain": [
       "((10000, 28, 28), (10000,))"
      ]
     },
     "execution_count": 7,
     "metadata": {},
     "output_type": "execute_result"
    }
   ],
   "source": [
    "test_images.shape, test_labels.shape"
   ]
  },
  {
   "cell_type": "code",
   "execution_count": 8,
   "metadata": {
    "execution": {
     "iopub.execute_input": "2020-11-06T20:04:36.823811Z",
     "iopub.status.busy": "2020-11-06T20:04:36.823209Z",
     "iopub.status.idle": "2020-11-06T20:04:36.971468Z",
     "shell.execute_reply": "2020-11-06T20:04:36.971929Z"
    },
    "papermill": {
     "duration": 0.186161,
     "end_time": "2020-11-06T20:04:36.972090",
     "exception": false,
     "start_time": "2020-11-06T20:04:36.785929",
     "status": "completed"
    },
    "tags": []
   },
   "outputs": [
    {
     "name": "stdout",
     "output_type": "stream",
     "text": [
      "2\n"
     ]
    },
    {
     "data": {
      "text/plain": [
       "<matplotlib.image.AxesImage at 0x7fecc898b400>"
      ]
     },
     "execution_count": 8,
     "metadata": {},
     "output_type": "execute_result"
    },
    {
     "data": {
      "image/png": "[encoded data removed]",
      "text/plain": [
       "<Figure size 432x288 with 1 Axes>"
      ]
     },
     "metadata": {
      "needs_background": "light"
     },
     "output_type": "display_data"
    }
   ],
   "source": [
    "image_index = 7776 # You may select anything up to 60,000\n",
    "print(train_labels[image_index]) \n",
    "plt.imshow(train_images[image_index], cmap='Greys')"
   ]
  },
  {
   "cell_type": "markdown",
   "metadata": {
    "papermill": {
     "duration": 0.02844,
     "end_time": "2020-11-06T20:04:37.029426",
     "exception": false,
     "start_time": "2020-11-06T20:04:37.000986",
     "status": "completed"
    },
    "tags": []
   },
   "source": [
    "## Filter data to get 3 and 8 out"
   ]
  },
  {
   "cell_type": "code",
   "execution_count": 9,
   "metadata": {
    "execution": {
     "iopub.execute_input": "2020-11-06T20:04:37.095555Z",
     "iopub.status.busy": "2020-11-06T20:04:37.094924Z",
     "iopub.status.idle": "2020-11-06T20:04:37.109159Z",
     "shell.execute_reply": "2020-11-06T20:04:37.108622Z"
    },
    "papermill": {
     "duration": 0.05157,
     "end_time": "2020-11-06T20:04:37.109293",
     "exception": false,
     "start_time": "2020-11-06T20:04:37.057723",
     "status": "completed"
    },
    "tags": []
   },
   "outputs": [],
   "source": [
    "train_filter = np.where((train_labels == 3 ) | (train_labels == 8))\n",
    "test_filter = np.where((test_labels == 3) | (test_labels == 8))\n",
    "X_train, y_train = train_images[train_filter], train_labels[train_filter]\n",
    "X_test, y_test = test_images[test_filter], test_labels[test_filter]"
   ]
  },
  {
   "cell_type": "markdown",
   "metadata": {
    "papermill": {
     "duration": 0.028277,
     "end_time": "2020-11-06T20:04:37.165838",
     "exception": false,
     "start_time": "2020-11-06T20:04:37.137561",
     "status": "completed"
    },
    "tags": []
   },
   "source": [
    "We normalize the pixel values in the 0 to 1 range"
   ]
  },
  {
   "cell_type": "code",
   "execution_count": 10,
   "metadata": {
    "execution": {
     "iopub.execute_input": "2020-11-06T20:04:37.227404Z",
     "iopub.status.busy": "2020-11-06T20:04:37.226785Z",
     "iopub.status.idle": "2020-11-06T20:04:37.277062Z",
     "shell.execute_reply": "2020-11-06T20:04:37.276193Z"
    },
    "papermill": {
     "duration": 0.082394,
     "end_time": "2020-11-06T20:04:37.277263",
     "exception": false,
     "start_time": "2020-11-06T20:04:37.194869",
     "status": "completed"
    },
    "tags": []
   },
   "outputs": [],
   "source": [
    "X_train = X_train/255.\n",
    "X_test = X_test/255."
   ]
  },
  {
   "cell_type": "markdown",
   "metadata": {
    "papermill": {
     "duration": 0.030367,
     "end_time": "2020-11-06T20:04:37.339410",
     "exception": false,
     "start_time": "2020-11-06T20:04:37.309043",
     "status": "completed"
    },
    "tags": []
   },
   "source": [
    "Setup the labels as 1 (when the digit is 3) and 0 (when the digit is 8)"
   ]
  },
  {
   "cell_type": "code",
   "execution_count": 11,
   "metadata": {
    "execution": {
     "iopub.execute_input": "2020-11-06T20:04:37.407175Z",
     "iopub.status.busy": "2020-11-06T20:04:37.406462Z",
     "iopub.status.idle": "2020-11-06T20:04:37.419133Z",
     "shell.execute_reply": "2020-11-06T20:04:37.419714Z"
    },
    "papermill": {
     "duration": 0.04917,
     "end_time": "2020-11-06T20:04:37.419880",
     "exception": false,
     "start_time": "2020-11-06T20:04:37.370710",
     "status": "completed"
    },
    "tags": []
   },
   "outputs": [],
   "source": [
    "y_train = 1*(y_train==3)\n",
    "y_test = 1*(y_test==3)"
   ]
  },
  {
   "cell_type": "code",
   "execution_count": 12,
   "metadata": {
    "execution": {
     "iopub.execute_input": "2020-11-06T20:04:37.485271Z",
     "iopub.status.busy": "2020-11-06T20:04:37.484673Z",
     "iopub.status.idle": "2020-11-06T20:04:37.498071Z",
     "shell.execute_reply": "2020-11-06T20:04:37.497568Z"
    },
    "papermill": {
     "duration": 0.048146,
     "end_time": "2020-11-06T20:04:37.498201",
     "exception": false,
     "start_time": "2020-11-06T20:04:37.450055",
     "status": "completed"
    },
    "tags": []
   },
   "outputs": [
    {
     "data": {
      "text/plain": [
       "((11982, 28, 28), (1984, 28, 28))"
      ]
     },
     "execution_count": 12,
     "metadata": {},
     "output_type": "execute_result"
    }
   ],
   "source": [
    "X_train.shape, X_test.shape"
   ]
  },
  {
   "cell_type": "markdown",
   "metadata": {
    "papermill": {
     "duration": 0.028454,
     "end_time": "2020-11-06T20:04:37.555187",
     "exception": false,
     "start_time": "2020-11-06T20:04:37.526733",
     "status": "completed"
    },
    "tags": []
   },
   "source": [
    "### Reshape the input data to create a linear array"
   ]
  },
  {
   "cell_type": "code",
   "execution_count": 13,
   "metadata": {
    "execution": {
     "iopub.execute_input": "2020-11-06T20:04:37.617793Z",
     "iopub.status.busy": "2020-11-06T20:04:37.617200Z",
     "iopub.status.idle": "2020-11-06T20:04:37.632514Z",
     "shell.execute_reply": "2020-11-06T20:04:37.633351Z"
    },
    "papermill": {
     "duration": 0.049806,
     "end_time": "2020-11-06T20:04:37.633595",
     "exception": false,
     "start_time": "2020-11-06T20:04:37.583789",
     "status": "completed"
    },
    "tags": []
   },
   "outputs": [
    {
     "data": {
      "text/plain": [
       "((11982, 784), (1984, 784))"
      ]
     },
     "execution_count": 13,
     "metadata": {},
     "output_type": "execute_result"
    }
   ],
   "source": [
    "X_train = X_train.reshape(X_train.shape[0], -1)\n",
    "X_test = X_test.reshape(X_test.shape[0], -1)\n",
    "X_train.shape, X_test.shape"
   ]
  },
  {
   "cell_type": "markdown",
   "metadata": {
    "papermill": {
     "duration": 0.029102,
     "end_time": "2020-11-06T20:04:37.692995",
     "exception": false,
     "start_time": "2020-11-06T20:04:37.663893",
     "status": "completed"
    },
    "tags": []
   },
   "source": [
    "### Importing appropriate functions from 'Kudzu'"
   ]
  },
  {
   "cell_type": "code",
   "execution_count": 14,
   "metadata": {
    "execution": {
     "iopub.execute_input": "2020-11-06T20:04:37.756878Z",
     "iopub.status.busy": "2020-11-06T20:04:37.756249Z",
     "iopub.status.idle": "2020-11-06T20:04:37.777131Z",
     "shell.execute_reply": "2020-11-06T20:04:37.776582Z"
    },
    "papermill": {
     "duration": 0.054753,
     "end_time": "2020-11-06T20:04:37.777265",
     "exception": false,
     "start_time": "2020-11-06T20:04:37.722512",
     "status": "completed"
    },
    "tags": []
   },
   "outputs": [],
   "source": [
    "from kudzu.layer import Sigmoid\n",
    "from kudzu.layer import Relu\n",
    "from kudzu.layer import Affine, Sigmoid\n",
    "\n",
    "from kudzu.model import Model\n",
    "from kudzu.train import Learner\n",
    "from kudzu.optim import GD\n",
    "from kudzu.data import Data, Dataloader, Sampler\n",
    "\n",
    "from kudzu.callbacks import AccCallback\n",
    "from kudzu.callbacks import ClfCallback\n",
    "\n",
    "from kudzu.loss import MSE"
   ]
  },
  {
   "cell_type": "markdown",
   "metadata": {
    "papermill": {
     "duration": 0.029505,
     "end_time": "2020-11-06T20:04:37.836335",
     "exception": false,
     "start_time": "2020-11-06T20:04:37.806830",
     "status": "completed"
    },
    "tags": []
   },
   "source": [
    "### Let us create a `Config` class, to store important parameters. \n",
    "This class essentially plays the role of a dictionary."
   ]
  },
  {
   "cell_type": "code",
   "execution_count": 15,
   "metadata": {
    "execution": {
     "iopub.execute_input": "2020-11-06T20:04:37.901971Z",
     "iopub.status.busy": "2020-11-06T20:04:37.901142Z",
     "iopub.status.idle": "2020-11-06T20:04:37.914230Z",
     "shell.execute_reply": "2020-11-06T20:04:37.914692Z"
    },
    "papermill": {
     "duration": 0.048354,
     "end_time": "2020-11-06T20:04:37.914853",
     "exception": false,
     "start_time": "2020-11-06T20:04:37.866499",
     "status": "completed"
    },
    "tags": []
   },
   "outputs": [],
   "source": [
    "class Config:\n",
    "    pass\n",
    "config = Config()\n",
    "config.lr = 0.001\n",
    "config.num_epochs = 251\n",
    "config.bs = 50"
   ]
  },
  {
   "cell_type": "markdown",
   "metadata": {
    "papermill": {
     "duration": 0.030466,
     "end_time": "2020-11-06T20:04:37.976182",
     "exception": false,
     "start_time": "2020-11-06T20:04:37.945716",
     "status": "completed"
    },
    "tags": []
   },
   "source": [
    "### Initializing data to the variables"
   ]
  },
  {
   "cell_type": "code",
   "execution_count": 16,
   "metadata": {
    "execution": {
     "iopub.execute_input": "2020-11-06T20:04:38.044826Z",
     "iopub.status.busy": "2020-11-06T20:04:38.044171Z",
     "iopub.status.idle": "2020-11-06T20:04:38.057192Z",
     "shell.execute_reply": "2020-11-06T20:04:38.056379Z"
    },
    "papermill": {
     "duration": 0.050587,
     "end_time": "2020-11-06T20:04:38.057337",
     "exception": false,
     "start_time": "2020-11-06T20:04:38.006750",
     "status": "completed"
    },
    "tags": []
   },
   "outputs": [],
   "source": [
    "data = Data(X_train, y_train.reshape(-1,1))\n",
    "sampler = Sampler(data, config.bs, shuffle=True)\n",
    "\n",
    "dl = Dataloader(data, sampler)\n",
    "\n",
    "opt = GD(config.lr)\n",
    "loss = MSE()"
   ]
  },
  {
   "cell_type": "code",
   "execution_count": 17,
   "metadata": {
    "execution": {
     "iopub.execute_input": "2020-11-06T20:04:38.139464Z",
     "iopub.status.busy": "2020-11-06T20:04:38.138855Z",
     "iopub.status.idle": "2020-11-06T20:04:38.152120Z",
     "shell.execute_reply": "2020-11-06T20:04:38.151518Z"
    },
    "papermill": {
     "duration": 0.056275,
     "end_time": "2020-11-06T20:04:38.152252",
     "exception": false,
     "start_time": "2020-11-06T20:04:38.095977",
     "status": "completed"
    },
    "tags": []
   },
   "outputs": [],
   "source": [
    "training_xdata = X_train\n",
    "testing_xdata = X_test\n",
    "training_ydata = y_train.reshape(-1,1)\n",
    "testing_ydata = y_test.reshape(-1,1)"
   ]
  },
  {
   "cell_type": "markdown",
   "metadata": {
    "papermill": {
     "duration": 0.0298,
     "end_time": "2020-11-06T20:04:38.211865",
     "exception": false,
     "start_time": "2020-11-06T20:04:38.182065",
     "status": "completed"
    },
    "tags": []
   },
   "source": [
    "### Running Models with the Training data\n",
    "Details about the network layers:\n",
    "- A first affine layer has 784 inputs and does 100 affine transforms. These are followed by a Relu\n",
    "- A second affine layer has 100 inputs from the 100 activations of the past layer, and does 100 affine transforms. These are followed by a Relu\n",
    "- A third affine layer has 100 activations and does 2 affine transformations to create an embedding for visualization. There is no non-linearity here.\n",
    "- A final \"logistic regression\" which has an affine transform from 2 inputs to 1 output, which is squeezed through a sigmoid.\n",
    "\n",
    "Help taken from Anshuman's Notebook."
   ]
  },
  {
   "cell_type": "code",
   "execution_count": 18,
   "metadata": {
    "execution": {
     "iopub.execute_input": "2020-11-06T20:04:38.292873Z",
     "iopub.status.busy": "2020-11-06T20:04:38.292205Z",
     "iopub.status.idle": "2020-11-06T20:04:38.311698Z",
     "shell.execute_reply": "2020-11-06T20:04:38.310836Z"
    },
    "papermill": {
     "duration": 0.068007,
     "end_time": "2020-11-06T20:04:38.311882",
     "exception": false,
     "start_time": "2020-11-06T20:04:38.243875",
     "status": "completed"
    },
    "tags": []
   },
   "outputs": [],
   "source": [
    "# layers for the Neural Network\n",
    "layers = [Affine(\"first\", 784, 100), Relu(\"first\"), Affine(\"second\", 100, 100), Relu(\"second\"), Affine(\"third\", 100, 2), Affine(\"final\", 2, 1), Sigmoid(\"final\")]\n",
    "model_nn = Model(layers)\n",
    "\n",
    "# layers for the Logistic Regression\n",
    "layers_lr = [Affine(\"logits\", 784, 1), Sigmoid(\"sigmoid\")]\n",
    "model_lr = Model(layers_lr)"
   ]
  },
  {
   "cell_type": "code",
   "execution_count": 19,
   "metadata": {
    "execution": {
     "iopub.execute_input": "2020-11-06T20:04:38.388005Z",
     "iopub.status.busy": "2020-11-06T20:04:38.387404Z",
     "iopub.status.idle": "2020-11-06T20:04:38.400744Z",
     "shell.execute_reply": "2020-11-06T20:04:38.399899Z"
    },
    "papermill": {
     "duration": 0.049965,
     "end_time": "2020-11-06T20:04:38.400897",
     "exception": false,
     "start_time": "2020-11-06T20:04:38.350932",
     "status": "completed"
    },
    "tags": []
   },
   "outputs": [],
   "source": [
    "# suffix _nn stands for Neural Network.\n",
    "learner_nn = Learner(loss, model_nn, opt, config.num_epochs)\n",
    "acc_nn = ClfCallback(learner_nn, config.bs, training_xdata , testing_xdata, training_ydata, testing_ydata)\n",
    "learner_nn.set_callbacks([acc_nn])"
   ]
  },
  {
   "cell_type": "code",
   "execution_count": 20,
   "metadata": {
    "execution": {
     "iopub.execute_input": "2020-11-06T20:04:38.468447Z",
     "iopub.status.busy": "2020-11-06T20:04:38.467827Z",
     "iopub.status.idle": "2020-11-06T20:06:04.441350Z",
     "shell.execute_reply": "2020-11-06T20:06:04.441905Z"
    },
    "papermill": {
     "duration": 86.010751,
     "end_time": "2020-11-06T20:06:04.442060",
     "exception": false,
     "start_time": "2020-11-06T20:04:38.431309",
     "status": "completed"
    },
    "tags": []
   },
   "outputs": [
    {
     "name": "stdout",
     "output_type": "stream",
     "text": [
      "====== Neural Network ======\n"
     ]
    },
    {
     "name": "stdout",
     "output_type": "stream",
     "text": [
      "Epoch 0, Loss 0.2458\n",
      "Training Accuracy: 0.6522, Testing Accuracy: 0.6331\n",
      "\n"
     ]
    },
    {
     "name": "stdout",
     "output_type": "stream",
     "text": [
      "Epoch 10, Loss 0.1968\n",
      "Training Accuracy: 0.8721, Testing Accuracy: 0.8745\n",
      "\n"
     ]
    },
    {
     "name": "stdout",
     "output_type": "stream",
     "text": [
      "Epoch 20, Loss 0.1032\n",
      "Training Accuracy: 0.9089, Testing Accuracy: 0.9173\n",
      "\n"
     ]
    },
    {
     "name": "stdout",
     "output_type": "stream",
     "text": [
      "Epoch 30, Loss 0.0646\n",
      "Training Accuracy: 0.9326, Testing Accuracy: 0.9390\n",
      "\n"
     ]
    },
    {
     "name": "stdout",
     "output_type": "stream",
     "text": [
      "Epoch 40, Loss 0.05\n",
      "Training Accuracy: 0.9458, Testing Accuracy: 0.9531\n",
      "\n"
     ]
    },
    {
     "name": "stdout",
     "output_type": "stream",
     "text": [
      "Epoch 50, Loss 0.0425\n",
      "Training Accuracy: 0.9526, Testing Accuracy: 0.9582\n",
      "\n"
     ]
    },
    {
     "name": "stdout",
     "output_type": "stream",
     "text": [
      "Epoch 60, Loss 0.038\n",
      "Training Accuracy: 0.9572, Testing Accuracy: 0.9632\n",
      "\n"
     ]
    },
    {
     "name": "stdout",
     "output_type": "stream",
     "text": [
      "Epoch 70, Loss 0.0349\n",
      "Training Accuracy: 0.9594, Testing Accuracy: 0.9637\n",
      "\n"
     ]
    },
    {
     "name": "stdout",
     "output_type": "stream",
     "text": [
      "Epoch 80, Loss 0.0326\n",
      "Training Accuracy: 0.9621, Testing Accuracy: 0.9672\n",
      "\n"
     ]
    },
    {
     "name": "stdout",
     "output_type": "stream",
     "text": [
      "Epoch 90, Loss 0.0308\n",
      "Training Accuracy: 0.9643, Testing Accuracy: 0.9682\n",
      "\n"
     ]
    },
    {
     "name": "stdout",
     "output_type": "stream",
     "text": [
      "Epoch 100, Loss 0.0294\n",
      "Training Accuracy: 0.9659, Testing Accuracy: 0.9708\n",
      "\n"
     ]
    },
    {
     "name": "stdout",
     "output_type": "stream",
     "text": [
      "Epoch 110, Loss 0.0282\n",
      "Training Accuracy: 0.9673, Testing Accuracy: 0.9708\n",
      "\n"
     ]
    },
    {
     "name": "stdout",
     "output_type": "stream",
     "text": [
      "Epoch 120, Loss 0.0271\n",
      "Training Accuracy: 0.9681, Testing Accuracy: 0.9723\n",
      "\n"
     ]
    },
    {
     "name": "stdout",
     "output_type": "stream",
     "text": [
      "Epoch 130, Loss 0.0262\n",
      "Training Accuracy: 0.9690, Testing Accuracy: 0.9728\n",
      "\n"
     ]
    },
    {
     "name": "stdout",
     "output_type": "stream",
     "text": [
      "Epoch 140, Loss 0.0254\n",
      "Training Accuracy: 0.9696, Testing Accuracy: 0.9733\n",
      "\n"
     ]
    },
    {
     "name": "stdout",
     "output_type": "stream",
     "text": [
      "Epoch 150, Loss 0.0246\n",
      "Training Accuracy: 0.9705, Testing Accuracy: 0.9728\n",
      "\n"
     ]
    },
    {
     "name": "stdout",
     "output_type": "stream",
     "text": [
      "Epoch 160, Loss 0.0239\n",
      "Training Accuracy: 0.9718, Testing Accuracy: 0.9728\n",
      "\n"
     ]
    },
    {
     "name": "stdout",
     "output_type": "stream",
     "text": [
      "Epoch 170, Loss 0.0233\n",
      "Training Accuracy: 0.9727, Testing Accuracy: 0.9723\n",
      "\n"
     ]
    },
    {
     "name": "stdout",
     "output_type": "stream",
     "text": [
      "Epoch 180, Loss 0.0227\n",
      "Training Accuracy: 0.9731, Testing Accuracy: 0.9728\n",
      "\n"
     ]
    },
    {
     "name": "stdout",
     "output_type": "stream",
     "text": [
      "Epoch 190, Loss 0.0222\n",
      "Training Accuracy: 0.9741, Testing Accuracy: 0.9728\n",
      "\n"
     ]
    },
    {
     "name": "stdout",
     "output_type": "stream",
     "text": [
      "Epoch 200, Loss 0.0216\n",
      "Training Accuracy: 0.9755, Testing Accuracy: 0.9723\n",
      "\n"
     ]
    },
    {
     "name": "stdout",
     "output_type": "stream",
     "text": [
      "Epoch 210, Loss 0.0212\n",
      "Training Accuracy: 0.9762, Testing Accuracy: 0.9723\n",
      "\n"
     ]
    },
    {
     "name": "stdout",
     "output_type": "stream",
     "text": [
      "Epoch 220, Loss 0.0207\n",
      "Training Accuracy: 0.9770, Testing Accuracy: 0.9728\n",
      "\n"
     ]
    },
    {
     "name": "stdout",
     "output_type": "stream",
     "text": [
      "Epoch 230, Loss 0.0203\n",
      "Training Accuracy: 0.9772, Testing Accuracy: 0.9728\n",
      "\n"
     ]
    },
    {
     "name": "stdout",
     "output_type": "stream",
     "text": [
      "Epoch 240, Loss 0.0198\n",
      "Training Accuracy: 0.9773, Testing Accuracy: 0.9728\n",
      "\n"
     ]
    },
    {
     "name": "stdout",
     "output_type": "stream",
     "text": [
      "Epoch 250, Loss 0.0194\n",
      "Training Accuracy: 0.9781, Testing Accuracy: 0.9728\n",
      "\n"
     ]
    },
    {
     "data": {
      "text/plain": [
       "0.06329732131753457"
      ]
     },
     "execution_count": 20,
     "metadata": {},
     "output_type": "execute_result"
    }
   ],
   "source": [
    "print(\"====== Neural Network ======\")\n",
    "learner_nn.train_loop(dl)"
   ]
  },
  {
   "cell_type": "markdown",
   "metadata": {
    "papermill": {
     "duration": 0.036749,
     "end_time": "2020-11-06T20:06:04.515416",
     "exception": false,
     "start_time": "2020-11-06T20:06:04.478667",
     "status": "completed"
    },
    "tags": []
   },
   "source": [
    "### Logistic Regression based Implementation."
   ]
  },
  {
   "cell_type": "code",
   "execution_count": 21,
   "metadata": {
    "execution": {
     "iopub.execute_input": "2020-11-06T20:06:04.597661Z",
     "iopub.status.busy": "2020-11-06T20:06:04.597081Z",
     "iopub.status.idle": "2020-11-06T20:06:04.608098Z",
     "shell.execute_reply": "2020-11-06T20:06:04.607331Z"
    },
    "papermill": {
     "duration": 0.056357,
     "end_time": "2020-11-06T20:06:04.608231",
     "exception": false,
     "start_time": "2020-11-06T20:06:04.551874",
     "status": "completed"
    },
    "tags": []
   },
   "outputs": [],
   "source": [
    "learner_lr = Learner(loss, model_lr, opt, config.num_epochs)\n",
    "acc_lr = ClfCallback(learner_lr, config.bs, training_xdata , testing_xdata, training_ydata, testing_ydata)\n",
    "learner_lr.set_callbacks([acc_lr])"
   ]
  },
  {
   "cell_type": "code",
   "execution_count": 22,
   "metadata": {
    "execution": {
     "iopub.execute_input": "2020-11-06T20:06:04.691924Z",
     "iopub.status.busy": "2020-11-06T20:06:04.691086Z",
     "iopub.status.idle": "2020-11-06T20:06:19.904886Z",
     "shell.execute_reply": "2020-11-06T20:06:19.905321Z"
    },
    "papermill": {
     "duration": 15.260939,
     "end_time": "2020-11-06T20:06:19.905474",
     "exception": false,
     "start_time": "2020-11-06T20:06:04.644535",
     "status": "completed"
    },
    "tags": []
   },
   "outputs": [
    {
     "name": "stdout",
     "output_type": "stream",
     "text": [
      "====== Logistic Regression ======\n",
      "Epoch 0, Loss 0.2314\n",
      "Training Accuracy: 0.7145, Testing Accuracy: 0.7082\n",
      "\n"
     ]
    },
    {
     "name": "stdout",
     "output_type": "stream",
     "text": [
      "Epoch 10, Loss 0.1004\n",
      "Training Accuracy: 0.9148, Testing Accuracy: 0.9264\n",
      "\n"
     ]
    },
    {
     "name": "stdout",
     "output_type": "stream",
     "text": [
      "Epoch 20, Loss 0.0774\n",
      "Training Accuracy: 0.9331, Testing Accuracy: 0.9400\n",
      "\n"
     ]
    },
    {
     "name": "stdout",
     "output_type": "stream",
     "text": [
      "Epoch 30, Loss 0.0668\n",
      "Training Accuracy: 0.9416, Testing Accuracy: 0.9491\n",
      "\n"
     ]
    },
    {
     "name": "stdout",
     "output_type": "stream",
     "text": [
      "Epoch 40, Loss 0.0604\n",
      "Training Accuracy: 0.9450, Testing Accuracy: 0.9546\n",
      "\n"
     ]
    },
    {
     "name": "stdout",
     "output_type": "stream",
     "text": [
      "Epoch 50, Loss 0.0561\n",
      "Training Accuracy: 0.9477, Testing Accuracy: 0.9582\n",
      "\n"
     ]
    },
    {
     "name": "stdout",
     "output_type": "stream",
     "text": [
      "Epoch 60, Loss 0.0529\n",
      "Training Accuracy: 0.9497, Testing Accuracy: 0.9592\n",
      "\n"
     ]
    },
    {
     "name": "stdout",
     "output_type": "stream",
     "text": [
      "Epoch 70, Loss 0.0504\n",
      "Training Accuracy: 0.9512, Testing Accuracy: 0.9612\n",
      "\n"
     ]
    },
    {
     "name": "stdout",
     "output_type": "stream",
     "text": [
      "Epoch 80, Loss 0.0484\n",
      "Training Accuracy: 0.9523, Testing Accuracy: 0.9622\n",
      "\n"
     ]
    },
    {
     "name": "stdout",
     "output_type": "stream",
     "text": [
      "Epoch 90, Loss 0.0468\n",
      "Training Accuracy: 0.9540, Testing Accuracy: 0.9622\n",
      "\n"
     ]
    },
    {
     "name": "stdout",
     "output_type": "stream",
     "text": [
      "Epoch 100, Loss 0.0454\n",
      "Training Accuracy: 0.9548, Testing Accuracy: 0.9622\n",
      "\n"
     ]
    },
    {
     "name": "stdout",
     "output_type": "stream",
     "text": [
      "Epoch 110, Loss 0.0442\n",
      "Training Accuracy: 0.9556, Testing Accuracy: 0.9647\n",
      "\n"
     ]
    },
    {
     "name": "stdout",
     "output_type": "stream",
     "text": [
      "Epoch 120, Loss 0.0432\n",
      "Training Accuracy: 0.9564, Testing Accuracy: 0.9647\n",
      "\n"
     ]
    },
    {
     "name": "stdout",
     "output_type": "stream",
     "text": [
      "Epoch 130, Loss 0.0423\n",
      "Training Accuracy: 0.9574, Testing Accuracy: 0.9657\n",
      "\n"
     ]
    },
    {
     "name": "stdout",
     "output_type": "stream",
     "text": [
      "Epoch 140, Loss 0.0415\n",
      "Training Accuracy: 0.9581, Testing Accuracy: 0.9657\n",
      "\n"
     ]
    },
    {
     "name": "stdout",
     "output_type": "stream",
     "text": [
      "Epoch 150, Loss 0.0408\n",
      "Training Accuracy: 0.9584, Testing Accuracy: 0.9667\n",
      "\n"
     ]
    },
    {
     "name": "stdout",
     "output_type": "stream",
     "text": [
      "Epoch 160, Loss 0.0402\n",
      "Training Accuracy: 0.9594, Testing Accuracy: 0.9672\n",
      "\n"
     ]
    },
    {
     "name": "stdout",
     "output_type": "stream",
     "text": [
      "Epoch 170, Loss 0.0396\n",
      "Training Accuracy: 0.9599, Testing Accuracy: 0.9667\n",
      "\n"
     ]
    },
    {
     "name": "stdout",
     "output_type": "stream",
     "text": [
      "Epoch 180, Loss 0.0391\n",
      "Training Accuracy: 0.9604, Testing Accuracy: 0.9667\n",
      "\n"
     ]
    },
    {
     "name": "stdout",
     "output_type": "stream",
     "text": [
      "Epoch 190, Loss 0.0386\n",
      "Training Accuracy: 0.9608, Testing Accuracy: 0.9672\n",
      "\n"
     ]
    },
    {
     "name": "stdout",
     "output_type": "stream",
     "text": [
      "Epoch 200, Loss 0.0381\n",
      "Training Accuracy: 0.9610, Testing Accuracy: 0.9672\n",
      "\n"
     ]
    },
    {
     "name": "stdout",
     "output_type": "stream",
     "text": [
      "Epoch 210, Loss 0.0377\n",
      "Training Accuracy: 0.9613, Testing Accuracy: 0.9677\n",
      "\n"
     ]
    },
    {
     "name": "stdout",
     "output_type": "stream",
     "text": [
      "Epoch 220, Loss 0.0373\n",
      "Training Accuracy: 0.9616, Testing Accuracy: 0.9677\n",
      "\n"
     ]
    },
    {
     "name": "stdout",
     "output_type": "stream",
     "text": [
      "Epoch 230, Loss 0.0369\n",
      "Training Accuracy: 0.9621, Testing Accuracy: 0.9677\n",
      "\n"
     ]
    },
    {
     "name": "stdout",
     "output_type": "stream",
     "text": [
      "Epoch 240, Loss 0.0366\n",
      "Training Accuracy: 0.9621, Testing Accuracy: 0.9677\n",
      "\n"
     ]
    },
    {
     "name": "stdout",
     "output_type": "stream",
     "text": [
      "Epoch 250, Loss 0.0362\n",
      "Training Accuracy: 0.9622, Testing Accuracy: 0.9688\n",
      "\n"
     ]
    },
    {
     "data": {
      "text/plain": [
       "0.013813639351004504"
      ]
     },
     "execution_count": 22,
     "metadata": {},
     "output_type": "execute_result"
    }
   ],
   "source": [
    "print(\"====== Logistic Regression ======\")\n",
    "learner_lr.train_loop(dl)"
   ]
  },
  {
   "cell_type": "markdown",
   "metadata": {
    "papermill": {
     "duration": 0.044558,
     "end_time": "2020-11-06T20:06:19.994880",
     "exception": false,
     "start_time": "2020-11-06T20:06:19.950322",
     "status": "completed"
    },
    "tags": []
   },
   "source": [
    "### Comparing results of NN and LR"
   ]
  },
  {
   "cell_type": "code",
   "execution_count": 23,
   "metadata": {
    "execution": {
     "iopub.execute_input": "2020-11-06T20:06:20.089022Z",
     "iopub.status.busy": "2020-11-06T20:06:20.088429Z",
     "iopub.status.idle": "2020-11-06T20:06:20.330841Z",
     "shell.execute_reply": "2020-11-06T20:06:20.330326Z"
    },
    "papermill": {
     "duration": 0.292023,
     "end_time": "2020-11-06T20:06:20.330970",
     "exception": false,
     "start_time": "2020-11-06T20:06:20.038947",
     "status": "completed"
    },
    "tags": []
   },
   "outputs": [
    {
     "data": {
      "text/plain": [
       "<matplotlib.legend.Legend at 0x7fecc1d4a0f0>"
      ]
     },
     "execution_count": 23,
     "metadata": {},
     "output_type": "execute_result"
    },
    {
     "data": {
      "image/png": "[encoded data removed]",
      "text/plain": [
       "<Figure size 1080x720 with 1 Axes>"
      ]
     },
     "metadata": {
      "needs_background": "light"
     },
     "output_type": "display_data"
    }
   ],
   "source": [
    "plt.figure(figsize=(15,10))\n",
    "\n",
    "# Neural Network plots\n",
    "plt.plot(acc_nn.accuracies, 'r-', label = \"Training Accuracies - NN\")\n",
    "plt.plot(acc_nn.test_accuracies, 'g-', label = \"Testing Accuracies - NN\")\n",
    "\n",
    "# Logistic Regression plots\n",
    "plt.plot(acc_lr.accuracies, 'k-', label = \"Training Accuracies - LR\")\n",
    "plt.plot(acc_lr.test_accuracies, 'b-', label = \"Testing Accuracies - LR\")\n",
    "\n",
    "plt.ylim(0.8, 1)\n",
    "\n",
    "plt.legend()\n",
    "\n"
   ]
  },
  {
   "cell_type": "markdown",
   "metadata": {
    "papermill": {
     "duration": 0.04614,
     "end_time": "2020-11-06T20:06:20.423334",
     "exception": false,
     "start_time": "2020-11-06T20:06:20.377194",
     "status": "completed"
    },
    "tags": []
   },
   "source": [
    "### From the plot, we can observe the following:\n",
    "- Neural Network achieves higher accuracy than the Logistic Regression model.\n",
    "- This apparently, is because of overfitting, i.e. NN captures more noise than data.\n",
    "- Testing accuracy of NN drops below the Training accuracy at higher epochs. This explains the over-fitting on training data.\n",
    "- Logistic Regression gives a reliable accuracy, without the above mentioned problem.\n"
   ]
  },
  {
   "cell_type": "markdown",
   "metadata": {
    "papermill": {
     "duration": 0.046212,
     "end_time": "2020-11-06T20:06:20.515597",
     "exception": false,
     "start_time": "2020-11-06T20:06:20.469385",
     "status": "completed"
    },
    "tags": []
   },
   "source": [
    "### Moving till the last but one layer (excluding it).\n",
    "#### Plotting the outputs of this layer of the NN."
   ]
  },
  {
   "cell_type": "code",
   "execution_count": 24,
   "metadata": {
    "execution": {
     "iopub.execute_input": "2020-11-06T20:06:20.612143Z",
     "iopub.status.busy": "2020-11-06T20:06:20.611563Z",
     "iopub.status.idle": "2020-11-06T20:06:20.624164Z",
     "shell.execute_reply": "2020-11-06T20:06:20.624676Z"
    },
    "papermill": {
     "duration": 0.06298,
     "end_time": "2020-11-06T20:06:20.624828",
     "exception": false,
     "start_time": "2020-11-06T20:06:20.561848",
     "status": "completed"
    },
    "tags": []
   },
   "outputs": [],
   "source": [
    "model_new = Model(layers[:-2])"
   ]
  },
  {
   "cell_type": "code",
   "execution_count": 25,
   "metadata": {
    "execution": {
     "iopub.execute_input": "2020-11-06T20:06:20.721201Z",
     "iopub.status.busy": "2020-11-06T20:06:20.720649Z",
     "iopub.status.idle": "2020-11-06T20:06:20.743380Z",
     "shell.execute_reply": "2020-11-06T20:06:20.743852Z"
    },
    "papermill": {
     "duration": 0.072908,
     "end_time": "2020-11-06T20:06:20.744004",
     "exception": false,
     "start_time": "2020-11-06T20:06:20.671096",
     "status": "completed"
    },
    "tags": []
   },
   "outputs": [],
   "source": [
    "plot_testing = model_new(testing_xdata)"
   ]
  },
  {
   "cell_type": "code",
   "execution_count": 26,
   "metadata": {
    "execution": {
     "iopub.execute_input": "2020-11-06T20:06:20.845898Z",
     "iopub.status.busy": "2020-11-06T20:06:20.845321Z",
     "iopub.status.idle": "2020-11-06T20:06:21.080313Z",
     "shell.execute_reply": "2020-11-06T20:06:21.080878Z"
    },
    "papermill": {
     "duration": 0.290801,
     "end_time": "2020-11-06T20:06:21.081082",
     "exception": false,
     "start_time": "2020-11-06T20:06:20.790281",
     "status": "completed"
    },
    "tags": []
   },
   "outputs": [
    {
     "data": {
      "text/plain": [
       "Text(0.5, 1.0, 'Outputs')"
      ]
     },
     "execution_count": 26,
     "metadata": {},
     "output_type": "execute_result"
    },
    {
     "data": {
      "image/png": "[encoded data removed]",
      "text/plain": [
       "<Figure size 576x504 with 1 Axes>"
      ]
     },
     "metadata": {
      "needs_background": "light"
     },
     "output_type": "display_data"
    }
   ],
   "source": [
    "plt.figure(figsize=(8,7))\n",
    "plt.scatter(plot_testing[:,0], plot_testing[:,1], alpha = 0.1, c = y_test.ravel());\n",
    "plt.title('Outputs')"
   ]
  },
  {
   "cell_type": "markdown",
   "metadata": {
    "papermill": {
     "duration": 0.050955,
     "end_time": "2020-11-06T20:06:21.187861",
     "exception": false,
     "start_time": "2020-11-06T20:06:21.136906",
     "status": "completed"
    },
    "tags": []
   },
   "source": [
    "### Plotting probability contours"
   ]
  },
  {
   "cell_type": "code",
   "execution_count": 27,
   "metadata": {
    "execution": {
     "iopub.execute_input": "2020-11-06T20:06:21.313838Z",
     "iopub.status.busy": "2020-11-06T20:06:21.306440Z",
     "iopub.status.idle": "2020-11-06T20:06:21.317090Z",
     "shell.execute_reply": "2020-11-06T20:06:21.317542Z"
    },
    "papermill": {
     "duration": 0.071602,
     "end_time": "2020-11-06T20:06:21.317697",
     "exception": false,
     "start_time": "2020-11-06T20:06:21.246095",
     "status": "completed"
    },
    "tags": []
   },
   "outputs": [],
   "source": [
    "model_prob = Model(layers[-2:]) "
   ]
  },
  {
   "cell_type": "code",
   "execution_count": 28,
   "metadata": {
    "execution": {
     "iopub.execute_input": "2020-11-06T20:06:21.429007Z",
     "iopub.status.busy": "2020-11-06T20:06:21.428436Z",
     "iopub.status.idle": "2020-11-06T20:06:21.450644Z",
     "shell.execute_reply": "2020-11-06T20:06:21.450157Z"
    },
    "papermill": {
     "duration": 0.083016,
     "end_time": "2020-11-06T20:06:21.450776",
     "exception": false,
     "start_time": "2020-11-06T20:06:21.367760",
     "status": "completed"
    },
    "tags": []
   },
   "outputs": [],
   "source": [
    "# Adjust the x and y ranges according to the above generated plot.\n",
    "x_range = np.linspace(-4, 1, 100) \n",
    "y_range = np.linspace(-6, 6, 100) \n",
    "x_grid, y_grid = np.meshgrid(x_range, y_range) # x_grid and y_grig are of size 100 X 100\n",
    "\n",
    "# converting x_grid and y_grid to continuous arrays\n",
    "x_grid_flat = np.ravel(x_grid)\n",
    "y_grid_flat = np.ravel(y_grid)\n",
    "\n",
    "# The last layer of the current model takes two columns as input. Hence transpose of np.vstack() is required.\n",
    "X = np.vstack((x_grid_flat, y_grid_flat)).T\n",
    "\n",
    "# x_grid and y_grid are of size 100 x 100\n",
    "probability_contour = model_prob(X).reshape(100,100) "
   ]
  },
  {
   "cell_type": "code",
   "execution_count": 29,
   "metadata": {
    "execution": {
     "iopub.execute_input": "2020-11-06T20:06:21.582443Z",
     "iopub.status.busy": "2020-11-06T20:06:21.581830Z",
     "iopub.status.idle": "2020-11-06T20:06:21.842391Z",
     "shell.execute_reply": "2020-11-06T20:06:21.841871Z"
    },
    "papermill": {
     "duration": 0.320433,
     "end_time": "2020-11-06T20:06:21.842523",
     "exception": false,
     "start_time": "2020-11-06T20:06:21.522090",
     "status": "completed"
    },
    "tags": []
   },
   "outputs": [
    {
     "data": {
      "image/png": "[encoded data removed]",
      "text/plain": [
       "<Figure size 720x648 with 1 Axes>"
      ]
     },
     "metadata": {
      "needs_background": "light"
     },
     "output_type": "display_data"
    }
   ],
   "source": [
    "plt.figure(figsize=(10,9))\n",
    "plt.scatter(plot_testing[:,0], plot_testing[:,1], alpha = 0.1, c = y_test.ravel())\n",
    "contours = plt.contour(x_grid,y_grid,probability_contour)\n",
    "plt.title('Probability Contours')\n",
    "plt.clabel(contours, inline = True );"
   ]
  }
 ],
 "metadata": {
  "kernelspec": {
   "display_name": "Python 3",
   "language": "python",
   "name": "python3"
  },
  "language_info": {
   "codemirror_mode": {
    "name": "ipython",
    "version": 3
   },
   "file_extension": ".py",
   "mimetype": "text/x-python",
   "name": "python",
   "nbconvert_exporter": "python",
   "pygments_lexer": "ipython3",
   "version": "3.6.12"
  },
  "papermill": {
   "duration": 113.411754,
   "end_time": "2020-11-06T20:06:23.234520",
   "environment_variables": {},
   "exception": null,
   "input_path": "2020-08-11-NeuralNetwork.ipynb",
   "output_path": "2020-08-11-NeuralNetwork.ipynb",
   "parameters": {},
   "start_time": "2020-11-06T20:04:29.822766",
   "version": "2.1.2"
  }
 },
 "nbformat": 4,
 "nbformat_minor": 4
}