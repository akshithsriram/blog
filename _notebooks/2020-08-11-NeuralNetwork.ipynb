{
 "cells": [
  {
   "cell_type": "markdown",
   "id": "fitted-suggestion",
   "metadata": {
    "papermill": {
     "duration": 0.066818,
     "end_time": "2021-07-31T00:14:41.484541",
     "exception": false,
     "start_time": "2021-07-31T00:14:41.417723",
     "status": "completed"
    },
    "tags": []
   },
   "source": [
    "# \"A Basic Neural Network: Differentiate Hand-Written Digits\"\n",
    "\n",
    "- badges: true\n",
    "- author: Akshith Sriram"
   ]
  },
  {
   "cell_type": "markdown",
   "id": "signal-flexibility",
   "metadata": {
    "papermill": {
     "duration": 0.038623,
     "end_time": "2021-07-31T00:14:41.586874",
     "exception": false,
     "start_time": "2021-07-31T00:14:41.548251",
     "status": "completed"
    },
    "tags": []
   },
   "source": [
    "### Key Objectives:\n",
    "- Building a neural network that differentiates two hand-written digits 3 and 8.\n",
    "- Comparing the results of this Neural Network (NN) to that of a Logistic Regression (LR) model.\n",
    "\n",
    "### Requirements:\n",
    "- 'Kudzu' : A neural network library that was designed during our course by [Univ.AI](www.univ.ai). \n",
    "- MNIST Database\n",
    "\n",
    "If MNIST is not installed, use the command `!pip install mnist` given below.\n",
    "It can be run both from the command line and Jupyter Notebook."
   ]
  },
  {
   "cell_type": "code",
   "execution_count": 1,
   "id": "british-texture",
   "metadata": {
    "execution": {
     "iopub.execute_input": "2021-07-31T00:14:41.698626Z",
     "iopub.status.busy": "2021-07-31T00:14:41.698066Z",
     "iopub.status.idle": "2021-07-31T00:14:43.338272Z",
     "shell.execute_reply": "2021-07-31T00:14:43.338742Z"
    },
    "papermill": {
     "duration": 1.692621,
     "end_time": "2021-07-31T00:14:43.338927",
     "exception": false,
     "start_time": "2021-07-31T00:14:41.646306",
     "status": "completed"
    },
    "tags": []
   },
   "outputs": [
    {
     "name": "stdout",
     "output_type": "stream",
     "text": [
      "Collecting mnist\r\n"
     ]
    },
    {
     "name": "stdout",
     "output_type": "stream",
     "text": [
      "  Downloading mnist-0.2.2-py2.py3-none-any.whl (3.5 kB)\r\n",
      "Requirement already satisfied: numpy in /opt/hostedtoolcache/Python/3.6.14/x64/lib/python3.6/site-packages (from mnist) (1.19.5)\r\n"
     ]
    },
    {
     "name": "stdout",
     "output_type": "stream",
     "text": [
      "Installing collected packages: mnist\r\n"
     ]
    },
    {
     "name": "stdout",
     "output_type": "stream",
     "text": [
      "Successfully installed mnist-0.2.2\r\n"
     ]
    }
   ],
   "source": [
    "!pip install mnist "
   ]
  },
  {
   "cell_type": "markdown",
   "id": "stunning-extra",
   "metadata": {
    "papermill": {
     "duration": 0.026174,
     "end_time": "2021-07-31T00:14:43.391917",
     "exception": false,
     "start_time": "2021-07-31T00:14:43.365743",
     "status": "completed"
    },
    "tags": []
   },
   "source": [
    "#### Importing necessary libraries"
   ]
  },
  {
   "cell_type": "code",
   "execution_count": 2,
   "id": "wooden-france",
   "metadata": {
    "execution": {
     "iopub.execute_input": "2021-07-31T00:14:43.451793Z",
     "iopub.status.busy": "2021-07-31T00:14:43.451299Z",
     "iopub.status.idle": "2021-07-31T00:14:43.964841Z",
     "shell.execute_reply": "2021-07-31T00:14:43.964323Z"
    },
    "papermill": {
     "duration": 0.546769,
     "end_time": "2021-07-31T00:14:43.964978",
     "exception": false,
     "start_time": "2021-07-31T00:14:43.418209",
     "status": "completed"
    },
    "tags": []
   },
   "outputs": [],
   "source": [
    "%load_ext autoreload\n",
    "%autoreload 2\n",
    "\n",
    "%matplotlib inline\n",
    "import matplotlib.pyplot as plt\n",
    "\n",
    "import numpy as np\n",
    "import pandas as pd"
   ]
  },
  {
   "cell_type": "markdown",
   "id": "stunning-physics",
   "metadata": {
    "papermill": {
     "duration": 0.026693,
     "end_time": "2021-07-31T00:14:44.019451",
     "exception": false,
     "start_time": "2021-07-31T00:14:43.992758",
     "status": "completed"
    },
    "tags": []
   },
   "source": [
    "### Preparing the Data"
   ]
  },
  {
   "cell_type": "code",
   "execution_count": 3,
   "id": "unauthorized-remainder",
   "metadata": {
    "execution": {
     "iopub.execute_input": "2021-07-31T00:14:44.075406Z",
     "iopub.status.busy": "2021-07-31T00:14:44.074907Z",
     "iopub.status.idle": "2021-07-31T00:14:44.086070Z",
     "shell.execute_reply": "2021-07-31T00:14:44.086503Z"
    },
    "papermill": {
     "duration": 0.040922,
     "end_time": "2021-07-31T00:14:44.086630",
     "exception": false,
     "start_time": "2021-07-31T00:14:44.045708",
     "status": "completed"
    },
    "tags": []
   },
   "outputs": [],
   "source": [
    "import mnist"
   ]
  },
  {
   "cell_type": "code",
   "execution_count": 4,
   "id": "correct-antarctica",
   "metadata": {
    "execution": {
     "iopub.execute_input": "2021-07-31T00:14:44.142839Z",
     "iopub.status.busy": "2021-07-31T00:14:44.142346Z",
     "iopub.status.idle": "2021-07-31T00:19:37.515336Z",
     "shell.execute_reply": "2021-07-31T00:19:37.514810Z"
    },
    "papermill": {
     "duration": 293.402361,
     "end_time": "2021-07-31T00:19:37.515474",
     "exception": false,
     "start_time": "2021-07-31T00:14:44.113113",
     "status": "completed"
    },
    "tags": []
   },
   "outputs": [],
   "source": [
    "train_images = mnist.train_images()\n",
    "train_labels = mnist.train_labels()"
   ]
  },
  {
   "cell_type": "code",
   "execution_count": 5,
   "id": "musical-prospect",
   "metadata": {
    "execution": {
     "iopub.execute_input": "2021-07-31T00:19:37.574137Z",
     "iopub.status.busy": "2021-07-31T00:19:37.573618Z",
     "iopub.status.idle": "2021-07-31T00:19:37.587524Z",
     "shell.execute_reply": "2021-07-31T00:19:37.587931Z"
    },
    "papermill": {
     "duration": 0.045117,
     "end_time": "2021-07-31T00:19:37.588059",
     "exception": false,
     "start_time": "2021-07-31T00:19:37.542942",
     "status": "completed"
    },
    "tags": []
   },
   "outputs": [
    {
     "data": {
      "text/plain": [
       "((60000, 28, 28), (60000,))"
      ]
     },
     "execution_count": 5,
     "metadata": {},
     "output_type": "execute_result"
    }
   ],
   "source": [
    "train_images.shape, train_labels.shape"
   ]
  },
  {
   "cell_type": "code",
   "execution_count": 6,
   "id": "preliminary-elizabeth",
   "metadata": {
    "execution": {
     "iopub.execute_input": "2021-07-31T00:19:37.654890Z",
     "iopub.status.busy": "2021-07-31T00:19:37.652061Z",
     "iopub.status.idle": "2021-07-31T00:20:28.656743Z",
     "shell.execute_reply": "2021-07-31T00:20:28.655725Z"
    },
    "papermill": {
     "duration": 51.042453,
     "end_time": "2021-07-31T00:20:28.656899",
     "exception": false,
     "start_time": "2021-07-31T00:19:37.614446",
     "status": "completed"
    },
    "tags": []
   },
   "outputs": [],
   "source": [
    "test_images = mnist.test_images()\n",
    "test_labels = mnist.test_labels()"
   ]
  },
  {
   "cell_type": "code",
   "execution_count": 7,
   "id": "acknowledged-oxygen",
   "metadata": {
    "execution": {
     "iopub.execute_input": "2021-07-31T00:20:28.714815Z",
     "iopub.status.busy": "2021-07-31T00:20:28.714308Z",
     "iopub.status.idle": "2021-07-31T00:20:28.726908Z",
     "shell.execute_reply": "2021-07-31T00:20:28.727336Z"
    },
    "papermill": {
     "duration": 0.042988,
     "end_time": "2021-07-31T00:20:28.727468",
     "exception": false,
     "start_time": "2021-07-31T00:20:28.684480",
     "status": "completed"
    },
    "tags": []
   },
   "outputs": [
    {
     "data": {
      "text/plain": [
       "((10000, 28, 28), (10000,))"
      ]
     },
     "execution_count": 7,
     "metadata": {},
     "output_type": "execute_result"
    }
   ],
   "source": [
    "test_images.shape, test_labels.shape"
   ]
  },
  {
   "cell_type": "code",
   "execution_count": 8,
   "id": "innovative-organic",
   "metadata": {
    "execution": {
     "iopub.execute_input": "2021-07-31T00:20:28.785040Z",
     "iopub.status.busy": "2021-07-31T00:20:28.784511Z",
     "iopub.status.idle": "2021-07-31T00:20:28.920049Z",
     "shell.execute_reply": "2021-07-31T00:20:28.919568Z"
    },
    "papermill": {
     "duration": 0.166092,
     "end_time": "2021-07-31T00:20:28.920179",
     "exception": false,
     "start_time": "2021-07-31T00:20:28.754087",
     "status": "completed"
    },
    "tags": []
   },
   "outputs": [
    {
     "name": "stdout",
     "output_type": "stream",
     "text": [
      "2\n"
     ]
    },
    {
     "data": {
      "text/plain": [
       "<matplotlib.image.AxesImage at 0x7f318c4bd588>"
      ]
     },
     "execution_count": 8,
     "metadata": {},
     "output_type": "execute_result"
    },
    {
     "data": {
      "image/png": "[encoded data removed]",
      "text/plain": [
       "<Figure size 432x288 with 1 Axes>"
      ]
     },
     "metadata": {
      "needs_background": "light"
     },
     "output_type": "display_data"
    }
   ],
   "source": [
    "image_index = 7776 # You may select anything up to 60,000\n",
    "print(train_labels[image_index]) \n",
    "plt.imshow(train_images[image_index], cmap='Greys')"
   ]
  },
  {
   "cell_type": "markdown",
   "id": "facial-modem",
   "metadata": {
    "papermill": {
     "duration": 0.027752,
     "end_time": "2021-07-31T00:20:28.976642",
     "exception": false,
     "start_time": "2021-07-31T00:20:28.948890",
     "status": "completed"
    },
    "tags": []
   },
   "source": [
    "## Filter data to get 3 and 8 out"
   ]
  },
  {
   "cell_type": "code",
   "execution_count": 9,
   "id": "thousand-acquisition",
   "metadata": {
    "execution": {
     "iopub.execute_input": "2021-07-31T00:20:29.039233Z",
     "iopub.status.busy": "2021-07-31T00:20:29.038726Z",
     "iopub.status.idle": "2021-07-31T00:20:29.060123Z",
     "shell.execute_reply": "2021-07-31T00:20:29.060631Z"
    },
    "papermill": {
     "duration": 0.056226,
     "end_time": "2021-07-31T00:20:29.060778",
     "exception": false,
     "start_time": "2021-07-31T00:20:29.004552",
     "status": "completed"
    },
    "tags": []
   },
   "outputs": [],
   "source": [
    "train_filter = np.where((train_labels == 3 ) | (train_labels == 8))\n",
    "test_filter = np.where((test_labels == 3) | (test_labels == 8))\n",
    "X_train, y_train = train_images[train_filter], train_labels[train_filter]\n",
    "X_test, y_test = test_images[test_filter], test_labels[test_filter]"
   ]
  },
  {
   "cell_type": "markdown",
   "id": "ruled-access",
   "metadata": {
    "papermill": {
     "duration": 0.027658,
     "end_time": "2021-07-31T00:20:29.117138",
     "exception": false,
     "start_time": "2021-07-31T00:20:29.089480",
     "status": "completed"
    },
    "tags": []
   },
   "source": [
    "We normalize the pixel values in the 0 to 1 range"
   ]
  },
  {
   "cell_type": "code",
   "execution_count": 10,
   "id": "isolated-denver",
   "metadata": {
    "execution": {
     "iopub.execute_input": "2021-07-31T00:20:29.178842Z",
     "iopub.status.busy": "2021-07-31T00:20:29.178344Z",
     "iopub.status.idle": "2021-07-31T00:20:29.224456Z",
     "shell.execute_reply": "2021-07-31T00:20:29.223994Z"
    },
    "papermill": {
     "duration": 0.079845,
     "end_time": "2021-07-31T00:20:29.224580",
     "exception": false,
     "start_time": "2021-07-31T00:20:29.144735",
     "status": "completed"
    },
    "tags": []
   },
   "outputs": [],
   "source": [
    "X_train = X_train/255.\n",
    "X_test = X_test/255."
   ]
  },
  {
   "cell_type": "markdown",
   "id": "perfect-summary",
   "metadata": {
    "papermill": {
     "duration": 0.027908,
     "end_time": "2021-07-31T00:20:29.280646",
     "exception": false,
     "start_time": "2021-07-31T00:20:29.252738",
     "status": "completed"
    },
    "tags": []
   },
   "source": [
    "Setup the labels as 1 (when the digit is 3) and 0 (when the digit is 8)"
   ]
  },
  {
   "cell_type": "code",
   "execution_count": 11,
   "id": "personalized-growing",
   "metadata": {
    "execution": {
     "iopub.execute_input": "2021-07-31T00:20:29.345488Z",
     "iopub.status.busy": "2021-07-31T00:20:29.344979Z",
     "iopub.status.idle": "2021-07-31T00:20:29.352669Z",
     "shell.execute_reply": "2021-07-31T00:20:29.353045Z"
    },
    "papermill": {
     "duration": 0.044801,
     "end_time": "2021-07-31T00:20:29.353174",
     "exception": false,
     "start_time": "2021-07-31T00:20:29.308373",
     "status": "completed"
    },
    "tags": []
   },
   "outputs": [],
   "source": [
    "y_train = 1*(y_train==3)\n",
    "y_test = 1*(y_test==3)"
   ]
  },
  {
   "cell_type": "code",
   "execution_count": 12,
   "id": "considered-virgin",
   "metadata": {
    "execution": {
     "iopub.execute_input": "2021-07-31T00:20:29.422637Z",
     "iopub.status.busy": "2021-07-31T00:20:29.414537Z",
     "iopub.status.idle": "2021-07-31T00:20:29.425551Z",
     "shell.execute_reply": "2021-07-31T00:20:29.425124Z"
    },
    "papermill": {
     "duration": 0.044673,
     "end_time": "2021-07-31T00:20:29.425690",
     "exception": false,
     "start_time": "2021-07-31T00:20:29.381017",
     "status": "completed"
    },
    "tags": []
   },
   "outputs": [
    {
     "data": {
      "text/plain": [
       "((11982, 28, 28), (1984, 28, 28))"
      ]
     },
     "execution_count": 12,
     "metadata": {},
     "output_type": "execute_result"
    }
   ],
   "source": [
    "X_train.shape, X_test.shape"
   ]
  },
  {
   "cell_type": "markdown",
   "id": "civilian-mobile",
   "metadata": {
    "papermill": {
     "duration": 0.027987,
     "end_time": "2021-07-31T00:20:29.481822",
     "exception": false,
     "start_time": "2021-07-31T00:20:29.453835",
     "status": "completed"
    },
    "tags": []
   },
   "source": [
    "### Reshape the input data to create a linear array"
   ]
  },
  {
   "cell_type": "code",
   "execution_count": 13,
   "id": "colonial-adams",
   "metadata": {
    "execution": {
     "iopub.execute_input": "2021-07-31T00:20:29.550122Z",
     "iopub.status.busy": "2021-07-31T00:20:29.549303Z",
     "iopub.status.idle": "2021-07-31T00:20:29.558661Z",
     "shell.execute_reply": "2021-07-31T00:20:29.558260Z"
    },
    "papermill": {
     "duration": 0.048696,
     "end_time": "2021-07-31T00:20:29.558771",
     "exception": false,
     "start_time": "2021-07-31T00:20:29.510075",
     "status": "completed"
    },
    "tags": []
   },
   "outputs": [
    {
     "data": {
      "text/plain": [
       "((11982, 784), (1984, 784))"
      ]
     },
     "execution_count": 13,
     "metadata": {},
     "output_type": "execute_result"
    }
   ],
   "source": [
    "X_train = X_train.reshape(X_train.shape[0], -1)\n",
    "X_test = X_test.reshape(X_test.shape[0], -1)\n",
    "X_train.shape, X_test.shape"
   ]
  },
  {
   "cell_type": "markdown",
   "id": "smart-details",
   "metadata": {
    "papermill": {
     "duration": 0.028201,
     "end_time": "2021-07-31T00:20:29.615257",
     "exception": false,
     "start_time": "2021-07-31T00:20:29.587056",
     "status": "completed"
    },
    "tags": []
   },
   "source": [
    "### Importing appropriate functions from 'Kudzu'"
   ]
  },
  {
   "cell_type": "code",
   "execution_count": 14,
   "id": "celtic-trial",
   "metadata": {
    "execution": {
     "iopub.execute_input": "2021-07-31T00:20:29.680295Z",
     "iopub.status.busy": "2021-07-31T00:20:29.679790Z",
     "iopub.status.idle": "2021-07-31T00:20:29.695982Z",
     "shell.execute_reply": "2021-07-31T00:20:29.695571Z"
    },
    "papermill": {
     "duration": 0.052375,
     "end_time": "2021-07-31T00:20:29.696091",
     "exception": false,
     "start_time": "2021-07-31T00:20:29.643716",
     "status": "completed"
    },
    "tags": []
   },
   "outputs": [],
   "source": [
    "from kudzu.layer import Sigmoid\n",
    "from kudzu.layer import Relu\n",
    "from kudzu.layer import Affine, Sigmoid\n",
    "\n",
    "from kudzu.model import Model\n",
    "from kudzu.train import Learner\n",
    "from kudzu.optim import GD\n",
    "from kudzu.data import Data, Dataloader, Sampler\n",
    "\n",
    "from kudzu.callbacks import AccCallback\n",
    "from kudzu.callbacks import ClfCallback\n",
    "\n",
    "from kudzu.loss import MSE"
   ]
  },
  {
   "cell_type": "markdown",
   "id": "coupled-customer",
   "metadata": {
    "papermill": {
     "duration": 0.028099,
     "end_time": "2021-07-31T00:20:29.752503",
     "exception": false,
     "start_time": "2021-07-31T00:20:29.724404",
     "status": "completed"
    },
    "tags": []
   },
   "source": [
    "### Let us create a `Config` class, to store important parameters. \n",
    "This class essentially plays the role of a dictionary."
   ]
  },
  {
   "cell_type": "code",
   "execution_count": 15,
   "id": "young-ceiling",
   "metadata": {
    "execution": {
     "iopub.execute_input": "2021-07-31T00:20:29.814815Z",
     "iopub.status.busy": "2021-07-31T00:20:29.814311Z",
     "iopub.status.idle": "2021-07-31T00:20:29.825830Z",
     "shell.execute_reply": "2021-07-31T00:20:29.825376Z"
    },
    "papermill": {
     "duration": 0.045086,
     "end_time": "2021-07-31T00:20:29.825936",
     "exception": false,
     "start_time": "2021-07-31T00:20:29.780850",
     "status": "completed"
    },
    "tags": []
   },
   "outputs": [],
   "source": [
    "class Config:\n",
    "    pass\n",
    "config = Config()\n",
    "config.lr = 0.001\n",
    "config.num_epochs = 251\n",
    "config.bs = 50"
   ]
  },
  {
   "cell_type": "markdown",
   "id": "according-mandate",
   "metadata": {
    "papermill": {
     "duration": 0.028165,
     "end_time": "2021-07-31T00:20:29.882633",
     "exception": false,
     "start_time": "2021-07-31T00:20:29.854468",
     "status": "completed"
    },
    "tags": []
   },
   "source": [
    "### Initializing data to the variables"
   ]
  },
  {
   "cell_type": "code",
   "execution_count": 16,
   "id": "academic-disposition",
   "metadata": {
    "execution": {
     "iopub.execute_input": "2021-07-31T00:20:29.944869Z",
     "iopub.status.busy": "2021-07-31T00:20:29.944362Z",
     "iopub.status.idle": "2021-07-31T00:20:29.955420Z",
     "shell.execute_reply": "2021-07-31T00:20:29.954993Z"
    },
    "papermill": {
     "duration": 0.044418,
     "end_time": "2021-07-31T00:20:29.955525",
     "exception": false,
     "start_time": "2021-07-31T00:20:29.911107",
     "status": "completed"
    },
    "tags": []
   },
   "outputs": [],
   "source": [
    "data = Data(X_train, y_train.reshape(-1,1))\n",
    "sampler = Sampler(data, config.bs, shuffle=True)\n",
    "\n",
    "dl = Dataloader(data, sampler)\n",
    "\n",
    "opt = GD(config.lr)\n",
    "loss = MSE()"
   ]
  },
  {
   "cell_type": "code",
   "execution_count": 17,
   "id": "featured-commission",
   "metadata": {
    "execution": {
     "iopub.execute_input": "2021-07-31T00:20:30.015517Z",
     "iopub.status.busy": "2021-07-31T00:20:30.015024Z",
     "iopub.status.idle": "2021-07-31T00:20:30.027131Z",
     "shell.execute_reply": "2021-07-31T00:20:30.027511Z"
    },
    "papermill": {
     "duration": 0.044032,
     "end_time": "2021-07-31T00:20:30.027640",
     "exception": false,
     "start_time": "2021-07-31T00:20:29.983608",
     "status": "completed"
    },
    "tags": []
   },
   "outputs": [],
   "source": [
    "training_xdata = X_train\n",
    "testing_xdata = X_test\n",
    "training_ydata = y_train.reshape(-1,1)\n",
    "testing_ydata = y_test.reshape(-1,1)"
   ]
  },
  {
   "cell_type": "markdown",
   "id": "played-safety",
   "metadata": {
    "papermill": {
     "duration": 0.028236,
     "end_time": "2021-07-31T00:20:30.084341",
     "exception": false,
     "start_time": "2021-07-31T00:20:30.056105",
     "status": "completed"
    },
    "tags": []
   },
   "source": [
    "### Running Models with the Training data\n",
    "Details about the network layers:\n",
    "- A first affine layer has 784 inputs and does 100 affine transforms. These are followed by a Relu\n",
    "- A second affine layer has 100 inputs from the 100 activations of the past layer, and does 100 affine transforms. These are followed by a Relu\n",
    "- A third affine layer has 100 activations and does 2 affine transformations to create an embedding for visualization. There is no non-linearity here.\n",
    "- A final \"logistic regression\" which has an affine transform from 2 inputs to 1 output, which is squeezed through a sigmoid.\n",
    "\n",
    "Help taken from Anshuman's Notebook."
   ]
  },
  {
   "cell_type": "code",
   "execution_count": 18,
   "id": "asian-bankruptcy",
   "metadata": {
    "execution": {
     "iopub.execute_input": "2021-07-31T00:20:30.148376Z",
     "iopub.status.busy": "2021-07-31T00:20:30.147868Z",
     "iopub.status.idle": "2021-07-31T00:20:30.161106Z",
     "shell.execute_reply": "2021-07-31T00:20:30.160698Z"
    },
    "papermill": {
     "duration": 0.048677,
     "end_time": "2021-07-31T00:20:30.161217",
     "exception": false,
     "start_time": "2021-07-31T00:20:30.112540",
     "status": "completed"
    },
    "tags": []
   },
   "outputs": [],
   "source": [
    "# layers for the Neural Network\n",
    "layers = [Affine(\"first\", 784, 100), Relu(\"first\"), Affine(\"second\", 100, 100), Relu(\"second\"), Affine(\"third\", 100, 2), Affine(\"final\", 2, 1), Sigmoid(\"final\")]\n",
    "model_nn = Model(layers)\n",
    "\n",
    "# layers for the Logistic Regression\n",
    "layers_lr = [Affine(\"logits\", 784, 1), Sigmoid(\"sigmoid\")]\n",
    "model_lr = Model(layers_lr)"
   ]
  },
  {
   "cell_type": "code",
   "execution_count": 19,
   "id": "removed-butler",
   "metadata": {
    "execution": {
     "iopub.execute_input": "2021-07-31T00:20:30.221298Z",
     "iopub.status.busy": "2021-07-31T00:20:30.220799Z",
     "iopub.status.idle": "2021-07-31T00:20:30.233147Z",
     "shell.execute_reply": "2021-07-31T00:20:30.232743Z"
    },
    "papermill": {
     "duration": 0.043807,
     "end_time": "2021-07-31T00:20:30.233256",
     "exception": false,
     "start_time": "2021-07-31T00:20:30.189449",
     "status": "completed"
    },
    "tags": []
   },
   "outputs": [],
   "source": [
    "# suffix _nn stands for Neural Network.\n",
    "learner_nn = Learner(loss, model_nn, opt, config.num_epochs)\n",
    "acc_nn = ClfCallback(learner_nn, config.bs, training_xdata , testing_xdata, training_ydata, testing_ydata)\n",
    "learner_nn.set_callbacks([acc_nn])"
   ]
  },
  {
   "cell_type": "code",
   "execution_count": 20,
   "id": "conceptual-throw",
   "metadata": {
    "execution": {
     "iopub.execute_input": "2021-07-31T00:20:30.294220Z",
     "iopub.status.busy": "2021-07-31T00:20:30.293703Z",
     "iopub.status.idle": "2021-07-31T00:21:46.574510Z",
     "shell.execute_reply": "2021-07-31T00:21:46.574989Z"
    },
    "papermill": {
     "duration": 76.313645,
     "end_time": "2021-07-31T00:21:46.575126",
     "exception": false,
     "start_time": "2021-07-31T00:20:30.261481",
     "status": "completed"
    },
    "tags": []
   },
   "outputs": [
    {
     "name": "stdout",
     "output_type": "stream",
     "text": [
      "====== Neural Network ======\n"
     ]
    },
    {
     "name": "stdout",
     "output_type": "stream",
     "text": [
      "Epoch 0, Loss 0.2501\n",
      "Training Accuracy: 0.5547, Testing Accuracy: 0.5575\n",
      "\n"
     ]
    },
    {
     "name": "stdout",
     "output_type": "stream",
     "text": [
      "Epoch 10, Loss 0.2265\n",
      "Training Accuracy: 0.8297, Testing Accuracy: 0.8422\n",
      "\n"
     ]
    },
    {
     "name": "stdout",
     "output_type": "stream",
     "text": [
      "Epoch 20, Loss 0.1423\n",
      "Training Accuracy: 0.8784, Testing Accuracy: 0.8886\n",
      "\n"
     ]
    },
    {
     "name": "stdout",
     "output_type": "stream",
     "text": [
      "Epoch 30, Loss 0.077\n",
      "Training Accuracy: 0.9186, Testing Accuracy: 0.9269\n",
      "\n"
     ]
    },
    {
     "name": "stdout",
     "output_type": "stream",
     "text": [
      "Epoch 40, Loss 0.0552\n",
      "Training Accuracy: 0.9387, Testing Accuracy: 0.9511\n",
      "\n"
     ]
    },
    {
     "name": "stdout",
     "output_type": "stream",
     "text": [
      "Epoch 50, Loss 0.0452\n",
      "Training Accuracy: 0.9497, Testing Accuracy: 0.9546\n",
      "\n"
     ]
    },
    {
     "name": "stdout",
     "output_type": "stream",
     "text": [
      "Epoch 60, Loss 0.0397\n",
      "Training Accuracy: 0.9543, Testing Accuracy: 0.9597\n",
      "\n"
     ]
    },
    {
     "name": "stdout",
     "output_type": "stream",
     "text": [
      "Epoch 70, Loss 0.0362\n",
      "Training Accuracy: 0.9584, Testing Accuracy: 0.9627\n",
      "\n"
     ]
    },
    {
     "name": "stdout",
     "output_type": "stream",
     "text": [
      "Epoch 80, Loss 0.0338\n",
      "Training Accuracy: 0.9609, Testing Accuracy: 0.9647\n",
      "\n"
     ]
    },
    {
     "name": "stdout",
     "output_type": "stream",
     "text": [
      "Epoch 90, Loss 0.032\n",
      "Training Accuracy: 0.9629, Testing Accuracy: 0.9667\n",
      "\n"
     ]
    },
    {
     "name": "stdout",
     "output_type": "stream",
     "text": [
      "Epoch 100, Loss 0.0305\n",
      "Training Accuracy: 0.9640, Testing Accuracy: 0.9672\n",
      "\n"
     ]
    },
    {
     "name": "stdout",
     "output_type": "stream",
     "text": [
      "Epoch 110, Loss 0.0293\n",
      "Training Accuracy: 0.9651, Testing Accuracy: 0.9667\n",
      "\n"
     ]
    },
    {
     "name": "stdout",
     "output_type": "stream",
     "text": [
      "Epoch 120, Loss 0.0283\n",
      "Training Accuracy: 0.9668, Testing Accuracy: 0.9662\n",
      "\n"
     ]
    },
    {
     "name": "stdout",
     "output_type": "stream",
     "text": [
      "Epoch 130, Loss 0.0274\n",
      "Training Accuracy: 0.9680, Testing Accuracy: 0.9667\n",
      "\n"
     ]
    },
    {
     "name": "stdout",
     "output_type": "stream",
     "text": [
      "Epoch 140, Loss 0.0267\n",
      "Training Accuracy: 0.9689, Testing Accuracy: 0.9667\n",
      "\n"
     ]
    },
    {
     "name": "stdout",
     "output_type": "stream",
     "text": [
      "Epoch 150, Loss 0.026\n",
      "Training Accuracy: 0.9696, Testing Accuracy: 0.9677\n",
      "\n"
     ]
    },
    {
     "name": "stdout",
     "output_type": "stream",
     "text": [
      "Epoch 160, Loss 0.0254\n",
      "Training Accuracy: 0.9702, Testing Accuracy: 0.9672\n",
      "\n"
     ]
    },
    {
     "name": "stdout",
     "output_type": "stream",
     "text": [
      "Epoch 170, Loss 0.0248\n",
      "Training Accuracy: 0.9712, Testing Accuracy: 0.9672\n",
      "\n"
     ]
    },
    {
     "name": "stdout",
     "output_type": "stream",
     "text": [
      "Epoch 180, Loss 0.0243\n",
      "Training Accuracy: 0.9713, Testing Accuracy: 0.9677\n",
      "\n"
     ]
    },
    {
     "name": "stdout",
     "output_type": "stream",
     "text": [
      "Epoch 190, Loss 0.0238\n",
      "Training Accuracy: 0.9719, Testing Accuracy: 0.9677\n",
      "\n"
     ]
    },
    {
     "name": "stdout",
     "output_type": "stream",
     "text": [
      "Epoch 200, Loss 0.0234\n",
      "Training Accuracy: 0.9729, Testing Accuracy: 0.9677\n",
      "\n"
     ]
    },
    {
     "name": "stdout",
     "output_type": "stream",
     "text": [
      "Epoch 210, Loss 0.023\n",
      "Training Accuracy: 0.9731, Testing Accuracy: 0.9688\n",
      "\n"
     ]
    },
    {
     "name": "stdout",
     "output_type": "stream",
     "text": [
      "Epoch 220, Loss 0.0226\n",
      "Training Accuracy: 0.9735, Testing Accuracy: 0.9693\n",
      "\n"
     ]
    },
    {
     "name": "stdout",
     "output_type": "stream",
     "text": [
      "Epoch 230, Loss 0.0222\n",
      "Training Accuracy: 0.9737, Testing Accuracy: 0.9688\n",
      "\n"
     ]
    },
    {
     "name": "stdout",
     "output_type": "stream",
     "text": [
      "Epoch 240, Loss 0.0218\n",
      "Training Accuracy: 0.9745, Testing Accuracy: 0.9693\n",
      "\n"
     ]
    },
    {
     "name": "stdout",
     "output_type": "stream",
     "text": [
      "Epoch 250, Loss 0.0215\n",
      "Training Accuracy: 0.9750, Testing Accuracy: 0.9698\n",
      "\n"
     ]
    },
    {
     "data": {
      "text/plain": [
       "0.04460229297671878"
      ]
     },
     "execution_count": 20,
     "metadata": {},
     "output_type": "execute_result"
    }
   ],
   "source": [
    "print(\"====== Neural Network ======\")\n",
    "learner_nn.train_loop(dl)"
   ]
  },
  {
   "cell_type": "markdown",
   "id": "competent-suffering",
   "metadata": {
    "papermill": {
     "duration": 0.035494,
     "end_time": "2021-07-31T00:21:46.653347",
     "exception": false,
     "start_time": "2021-07-31T00:21:46.617853",
     "status": "completed"
    },
    "tags": []
   },
   "source": [
    "### Logistic Regression based Implementation."
   ]
  },
  {
   "cell_type": "code",
   "execution_count": 21,
   "id": "qualified-psychiatry",
   "metadata": {
    "execution": {
     "iopub.execute_input": "2021-07-31T00:21:46.727923Z",
     "iopub.status.busy": "2021-07-31T00:21:46.727333Z",
     "iopub.status.idle": "2021-07-31T00:21:46.738344Z",
     "shell.execute_reply": "2021-07-31T00:21:46.738749Z"
    },
    "papermill": {
     "duration": 0.050238,
     "end_time": "2021-07-31T00:21:46.738874",
     "exception": false,
     "start_time": "2021-07-31T00:21:46.688636",
     "status": "completed"
    },
    "tags": []
   },
   "outputs": [],
   "source": [
    "learner_lr = Learner(loss, model_lr, opt, config.num_epochs)\n",
    "acc_lr = ClfCallback(learner_lr, config.bs, training_xdata , testing_xdata, training_ydata, testing_ydata)\n",
    "learner_lr.set_callbacks([acc_lr])"
   ]
  },
  {
   "cell_type": "code",
   "execution_count": 22,
   "id": "average-outside",
   "metadata": {
    "execution": {
     "iopub.execute_input": "2021-07-31T00:21:46.819473Z",
     "iopub.status.busy": "2021-07-31T00:21:46.818747Z",
     "iopub.status.idle": "2021-07-31T00:22:00.520052Z",
     "shell.execute_reply": "2021-07-31T00:22:00.520523Z"
    },
    "papermill": {
     "duration": 13.746347,
     "end_time": "2021-07-31T00:22:00.520657",
     "exception": false,
     "start_time": "2021-07-31T00:21:46.774310",
     "status": "completed"
    },
    "tags": []
   },
   "outputs": [
    {
     "name": "stdout",
     "output_type": "stream",
     "text": [
      "====== Logistic Regression ======\n",
      "Epoch 0, Loss 0.2468\n",
      "Training Accuracy: 0.6616, Testing Accuracy: 0.6527\n",
      "\n"
     ]
    },
    {
     "name": "stdout",
     "output_type": "stream",
     "text": [
      "Epoch 10, Loss 0.1068\n",
      "Training Accuracy: 0.8993, Testing Accuracy: 0.9073\n",
      "\n"
     ]
    },
    {
     "name": "stdout",
     "output_type": "stream",
     "text": [
      "Epoch 20, Loss 0.0815\n",
      "Training Accuracy: 0.9211, Testing Accuracy: 0.9345\n",
      "\n"
     ]
    },
    {
     "name": "stdout",
     "output_type": "stream",
     "text": [
      "Epoch 30, Loss 0.0698\n",
      "Training Accuracy: 0.9338, Testing Accuracy: 0.9456\n",
      "\n"
     ]
    },
    {
     "name": "stdout",
     "output_type": "stream",
     "text": [
      "Epoch 40, Loss 0.0627\n",
      "Training Accuracy: 0.9409, Testing Accuracy: 0.9526\n",
      "\n"
     ]
    },
    {
     "name": "stdout",
     "output_type": "stream",
     "text": [
      "Epoch 50, Loss 0.0579\n",
      "Training Accuracy: 0.9451, Testing Accuracy: 0.9577\n",
      "\n"
     ]
    },
    {
     "name": "stdout",
     "output_type": "stream",
     "text": [
      "Epoch 60, Loss 0.0544\n",
      "Training Accuracy: 0.9478, Testing Accuracy: 0.9597\n",
      "\n"
     ]
    },
    {
     "name": "stdout",
     "output_type": "stream",
     "text": [
      "Epoch 70, Loss 0.0517\n",
      "Training Accuracy: 0.9498, Testing Accuracy: 0.9622\n",
      "\n"
     ]
    },
    {
     "name": "stdout",
     "output_type": "stream",
     "text": [
      "Epoch 80, Loss 0.0495\n",
      "Training Accuracy: 0.9518, Testing Accuracy: 0.9632\n",
      "\n"
     ]
    },
    {
     "name": "stdout",
     "output_type": "stream",
     "text": [
      "Epoch 90, Loss 0.0478\n",
      "Training Accuracy: 0.9528, Testing Accuracy: 0.9637\n",
      "\n"
     ]
    },
    {
     "name": "stdout",
     "output_type": "stream",
     "text": [
      "Epoch 100, Loss 0.0463\n",
      "Training Accuracy: 0.9535, Testing Accuracy: 0.9657\n",
      "\n"
     ]
    },
    {
     "name": "stdout",
     "output_type": "stream",
     "text": [
      "Epoch 110, Loss 0.045\n",
      "Training Accuracy: 0.9547, Testing Accuracy: 0.9657\n",
      "\n"
     ]
    },
    {
     "name": "stdout",
     "output_type": "stream",
     "text": [
      "Epoch 120, Loss 0.0439\n",
      "Training Accuracy: 0.9558, Testing Accuracy: 0.9647\n",
      "\n"
     ]
    },
    {
     "name": "stdout",
     "output_type": "stream",
     "text": [
      "Epoch 130, Loss 0.0429\n",
      "Training Accuracy: 0.9559, Testing Accuracy: 0.9647\n",
      "\n"
     ]
    },
    {
     "name": "stdout",
     "output_type": "stream",
     "text": [
      "Epoch 140, Loss 0.0421\n",
      "Training Accuracy: 0.9563, Testing Accuracy: 0.9662\n",
      "\n"
     ]
    },
    {
     "name": "stdout",
     "output_type": "stream",
     "text": [
      "Epoch 150, Loss 0.0413\n",
      "Training Accuracy: 0.9569, Testing Accuracy: 0.9667\n",
      "\n"
     ]
    },
    {
     "name": "stdout",
     "output_type": "stream",
     "text": [
      "Epoch 160, Loss 0.0406\n",
      "Training Accuracy: 0.9579, Testing Accuracy: 0.9667\n",
      "\n"
     ]
    },
    {
     "name": "stdout",
     "output_type": "stream",
     "text": [
      "Epoch 170, Loss 0.04\n",
      "Training Accuracy: 0.9582, Testing Accuracy: 0.9677\n",
      "\n"
     ]
    },
    {
     "name": "stdout",
     "output_type": "stream",
     "text": [
      "Epoch 180, Loss 0.0394\n",
      "Training Accuracy: 0.9587, Testing Accuracy: 0.9677\n",
      "\n"
     ]
    },
    {
     "name": "stdout",
     "output_type": "stream",
     "text": [
      "Epoch 190, Loss 0.0389\n",
      "Training Accuracy: 0.9591, Testing Accuracy: 0.9672\n",
      "\n"
     ]
    },
    {
     "name": "stdout",
     "output_type": "stream",
     "text": [
      "Epoch 200, Loss 0.0384\n",
      "Training Accuracy: 0.9595, Testing Accuracy: 0.9672\n",
      "\n"
     ]
    },
    {
     "name": "stdout",
     "output_type": "stream",
     "text": [
      "Epoch 210, Loss 0.038\n",
      "Training Accuracy: 0.9597, Testing Accuracy: 0.9672\n",
      "\n"
     ]
    },
    {
     "name": "stdout",
     "output_type": "stream",
     "text": [
      "Epoch 220, Loss 0.0376\n",
      "Training Accuracy: 0.9601, Testing Accuracy: 0.9672\n",
      "\n"
     ]
    },
    {
     "name": "stdout",
     "output_type": "stream",
     "text": [
      "Epoch 230, Loss 0.0372\n",
      "Training Accuracy: 0.9602, Testing Accuracy: 0.9672\n",
      "\n"
     ]
    },
    {
     "name": "stdout",
     "output_type": "stream",
     "text": [
      "Epoch 240, Loss 0.0368\n",
      "Training Accuracy: 0.9607, Testing Accuracy: 0.9672\n",
      "\n"
     ]
    },
    {
     "name": "stdout",
     "output_type": "stream",
     "text": [
      "Epoch 250, Loss 0.0365\n",
      "Training Accuracy: 0.9610, Testing Accuracy: 0.9672\n",
      "\n"
     ]
    },
    {
     "data": {
      "text/plain": [
       "0.037368505778943385"
      ]
     },
     "execution_count": 22,
     "metadata": {},
     "output_type": "execute_result"
    }
   ],
   "source": [
    "print(\"====== Logistic Regression ======\")\n",
    "learner_lr.train_loop(dl)"
   ]
  },
  {
   "cell_type": "markdown",
   "id": "adjusted-possible",
   "metadata": {
    "papermill": {
     "duration": 0.04257,
     "end_time": "2021-07-31T00:22:00.611892",
     "exception": false,
     "start_time": "2021-07-31T00:22:00.569322",
     "status": "completed"
    },
    "tags": []
   },
   "source": [
    "### Comparing results of NN and LR"
   ]
  },
  {
   "cell_type": "code",
   "execution_count": 23,
   "id": "mental-multimedia",
   "metadata": {
    "execution": {
     "iopub.execute_input": "2021-07-31T00:22:00.714747Z",
     "iopub.status.busy": "2021-07-31T00:22:00.714220Z",
     "iopub.status.idle": "2021-07-31T00:22:00.948993Z",
     "shell.execute_reply": "2021-07-31T00:22:00.949407Z"
    },
    "papermill": {
     "duration": 0.295084,
     "end_time": "2021-07-31T00:22:00.949548",
     "exception": false,
     "start_time": "2021-07-31T00:22:00.654464",
     "status": "completed"
    },
    "tags": []
   },
   "outputs": [
    {
     "data": {
      "text/plain": [
       "<matplotlib.legend.Legend at 0x7f31840221d0>"
      ]
     },
     "execution_count": 23,
     "metadata": {},
     "output_type": "execute_result"
    },
    {
     "data": {
      "image/png": "[encoded data removed]",
      "text/plain": [
       "<Figure size 1080x720 with 1 Axes>"
      ]
     },
     "metadata": {
      "needs_background": "light"
     },
     "output_type": "display_data"
    }
   ],
   "source": [
    "plt.figure(figsize=(15,10))\n",
    "\n",
    "# Neural Network plots\n",
    "plt.plot(acc_nn.accuracies, 'r-', label = \"Training Accuracies - NN\")\n",
    "plt.plot(acc_nn.test_accuracies, 'g-', label = \"Testing Accuracies - NN\")\n",
    "\n",
    "# Logistic Regression plots\n",
    "plt.plot(acc_lr.accuracies, 'k-', label = \"Training Accuracies - LR\")\n",
    "plt.plot(acc_lr.test_accuracies, 'b-', label = \"Testing Accuracies - LR\")\n",
    "\n",
    "plt.ylim(0.8, 1)\n",
    "\n",
    "plt.legend()\n",
    "\n"
   ]
  },
  {
   "cell_type": "markdown",
   "id": "sexual-flesh",
   "metadata": {
    "papermill": {
     "duration": 0.044666,
     "end_time": "2021-07-31T00:22:01.038748",
     "exception": false,
     "start_time": "2021-07-31T00:22:00.994082",
     "status": "completed"
    },
    "tags": []
   },
   "source": [
    "### From the plot, we can observe the following:\n",
    "- Neural Network achieves higher accuracy than the Logistic Regression model.\n",
    "- This apparently, is because of overfitting, i.e. NN captures more noise than data.\n",
    "- Testing accuracy of NN drops below the Training accuracy at higher epochs. This explains the over-fitting on training data.\n",
    "- Logistic Regression gives a reliable accuracy, without the above mentioned problem.\n"
   ]
  },
  {
   "cell_type": "markdown",
   "id": "institutional-pacific",
   "metadata": {
    "papermill": {
     "duration": 0.043934,
     "end_time": "2021-07-31T00:22:01.126636",
     "exception": false,
     "start_time": "2021-07-31T00:22:01.082702",
     "status": "completed"
    },
    "tags": []
   },
   "source": [
    "### Moving till the last but one layer (excluding it).\n",
    "#### Plotting the outputs of this layer of the NN."
   ]
  },
  {
   "cell_type": "code",
   "execution_count": 24,
   "id": "economic-server",
   "metadata": {
    "execution": {
     "iopub.execute_input": "2021-07-31T00:22:01.220589Z",
     "iopub.status.busy": "2021-07-31T00:22:01.219831Z",
     "iopub.status.idle": "2021-07-31T00:22:01.231093Z",
     "shell.execute_reply": "2021-07-31T00:22:01.230662Z"
    },
    "papermill": {
     "duration": 0.060367,
     "end_time": "2021-07-31T00:22:01.231202",
     "exception": false,
     "start_time": "2021-07-31T00:22:01.170835",
     "status": "completed"
    },
    "tags": []
   },
   "outputs": [],
   "source": [
    "model_new = Model(layers[:-2])"
   ]
  },
  {
   "cell_type": "code",
   "execution_count": 25,
   "id": "varied-upgrade",
   "metadata": {
    "execution": {
     "iopub.execute_input": "2021-07-31T00:22:01.355600Z",
     "iopub.status.busy": "2021-07-31T00:22:01.355091Z",
     "iopub.status.idle": "2021-07-31T00:22:01.372107Z",
     "shell.execute_reply": "2021-07-31T00:22:01.372527Z"
    },
    "papermill": {
     "duration": 0.097175,
     "end_time": "2021-07-31T00:22:01.372664",
     "exception": false,
     "start_time": "2021-07-31T00:22:01.275489",
     "status": "completed"
    },
    "tags": []
   },
   "outputs": [],
   "source": [
    "plot_testing = model_new(testing_xdata)"
   ]
  },
  {
   "cell_type": "code",
   "execution_count": 26,
   "id": "specific-handling",
   "metadata": {
    "execution": {
     "iopub.execute_input": "2021-07-31T00:22:01.474207Z",
     "iopub.status.busy": "2021-07-31T00:22:01.473689Z",
     "iopub.status.idle": "2021-07-31T00:22:01.663494Z",
     "shell.execute_reply": "2021-07-31T00:22:01.663944Z"
    },
    "papermill": {
     "duration": 0.238813,
     "end_time": "2021-07-31T00:22:01.664101",
     "exception": false,
     "start_time": "2021-07-31T00:22:01.425288",
     "status": "completed"
    },
    "tags": []
   },
   "outputs": [
    {
     "data": {
      "text/plain": [
       "Text(0.5, 1.0, 'Outputs')"
      ]
     },
     "execution_count": 26,
     "metadata": {},
     "output_type": "execute_result"
    },
    {
     "data": {
      "image/png": "[encoded data removed]",
      "text/plain": [
       "<Figure size 576x504 with 1 Axes>"
      ]
     },
     "metadata": {
      "needs_background": "light"
     },
     "output_type": "display_data"
    }
   ],
   "source": [
    "plt.figure(figsize=(8,7))\n",
    "plt.scatter(plot_testing[:,0], plot_testing[:,1], alpha = 0.1, c = y_test.ravel());\n",
    "plt.title('Outputs')"
   ]
  },
  {
   "cell_type": "markdown",
   "id": "described-knowing",
   "metadata": {
    "papermill": {
     "duration": 0.045959,
     "end_time": "2021-07-31T00:22:01.756284",
     "exception": false,
     "start_time": "2021-07-31T00:22:01.710325",
     "status": "completed"
    },
    "tags": []
   },
   "source": [
    "### Plotting probability contours"
   ]
  },
  {
   "cell_type": "code",
   "execution_count": 27,
   "id": "needed-growing",
   "metadata": {
    "execution": {
     "iopub.execute_input": "2021-07-31T00:22:01.853015Z",
     "iopub.status.busy": "2021-07-31T00:22:01.852454Z",
     "iopub.status.idle": "2021-07-31T00:22:01.863986Z",
     "shell.execute_reply": "2021-07-31T00:22:01.863581Z"
    },
    "papermill": {
     "duration": 0.061772,
     "end_time": "2021-07-31T00:22:01.864097",
     "exception": false,
     "start_time": "2021-07-31T00:22:01.802325",
     "status": "completed"
    },
    "tags": []
   },
   "outputs": [],
   "source": [
    "model_prob = Model(layers[-2:]) "
   ]
  },
  {
   "cell_type": "code",
   "execution_count": 28,
   "id": "introductory-enforcement",
   "metadata": {
    "execution": {
     "iopub.execute_input": "2021-07-31T00:22:01.971908Z",
     "iopub.status.busy": "2021-07-31T00:22:01.971387Z",
     "iopub.status.idle": "2021-07-31T00:22:01.981943Z",
     "shell.execute_reply": "2021-07-31T00:22:01.982323Z"
    },
    "papermill": {
     "duration": 0.072249,
     "end_time": "2021-07-31T00:22:01.982453",
     "exception": false,
     "start_time": "2021-07-31T00:22:01.910204",
     "status": "completed"
    },
    "tags": []
   },
   "outputs": [],
   "source": [
    "# Adjust the x and y ranges according to the above generated plot.\n",
    "x_range = np.linspace(-4, 1, 100) \n",
    "y_range = np.linspace(-6, 6, 100) \n",
    "x_grid, y_grid = np.meshgrid(x_range, y_range) # x_grid and y_grig are of size 100 X 100\n",
    "\n",
    "# converting x_grid and y_grid to continuous arrays\n",
    "x_grid_flat = np.ravel(x_grid)\n",
    "y_grid_flat = np.ravel(y_grid)\n",
    "\n",
    "# The last layer of the current model takes two columns as input. Hence transpose of np.vstack() is required.\n",
    "X = np.vstack((x_grid_flat, y_grid_flat)).T\n",
    "\n",
    "# x_grid and y_grid are of size 100 x 100\n",
    "probability_contour = model_prob(X).reshape(100,100) "
   ]
  },
  {
   "cell_type": "code",
   "execution_count": 29,
   "id": "understood-landing",
   "metadata": {
    "execution": {
     "iopub.execute_input": "2021-07-31T00:22:02.087775Z",
     "iopub.status.busy": "2021-07-31T00:22:02.087238Z",
     "iopub.status.idle": "2021-07-31T00:22:02.331543Z",
     "shell.execute_reply": "2021-07-31T00:22:02.331115Z"
    },
    "papermill": {
     "duration": 0.298974,
     "end_time": "2021-07-31T00:22:02.331662",
     "exception": false,
     "start_time": "2021-07-31T00:22:02.032688",
     "status": "completed"
    },
    "tags": []
   },
   "outputs": [
    {
     "data": {
      "image/png": "[encoded data removed]",
      "text/plain": [
       "<Figure size 720x648 with 1 Axes>"
      ]
     },
     "metadata": {
      "needs_background": "light"
     },
     "output_type": "display_data"
    }
   ],
   "source": [
    "plt.figure(figsize=(10,9))\n",
    "plt.scatter(plot_testing[:,0], plot_testing[:,1], alpha = 0.1, c = y_test.ravel())\n",
    "contours = plt.contour(x_grid,y_grid,probability_contour)\n",
    "plt.title('Probability Contours')\n",
    "plt.clabel(contours, inline = True );"
   ]
  }
 ],
 "metadata": {
  "kernelspec": {
   "display_name": "Python 3",
   "language": "python",
   "name": "python3"
  },
  "language_info": {
   "codemirror_mode": {
    "name": "ipython",
    "version": 3
   },
   "file_extension": ".py",
   "mimetype": "text/x-python",
   "name": "python",
   "nbconvert_exporter": "python",
   "pygments_lexer": "ipython3",
   "version": "3.6.14"
  },
  "papermill": {
   "duration": 442.248417,
   "end_time": "2021-07-31T00:22:02.688382",
   "environment_variables": {},
   "exception": null,
   "input_path": "2020-08-11-NeuralNetwork.ipynb",
   "output_path": "2020-08-11-NeuralNetwork.ipynb",
   "parameters": {},
   "start_time": "2021-07-31T00:14:40.439965",
   "version": "2.1.2"
  }
 },
 "nbformat": 4,
 "nbformat_minor": 5
}