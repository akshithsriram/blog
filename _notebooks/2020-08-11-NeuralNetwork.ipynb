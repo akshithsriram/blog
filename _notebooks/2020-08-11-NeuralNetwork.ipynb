{
 "cells": [
  {
   "cell_type": "markdown",
   "metadata": {
    "papermill": {
     "duration": 0.027197,
     "end_time": "2021-01-10T20:14:30.101074",
     "exception": false,
     "start_time": "2021-01-10T20:14:30.073877",
     "status": "completed"
    },
    "tags": []
   },
   "source": [
    "# \"A Basic Neural Network: Differentiate Hand-Written Digits\"\n",
    "\n",
    "- badges: true\n",
    "- author: Akshith Sriram"
   ]
  },
  {
   "cell_type": "markdown",
   "metadata": {
    "papermill": {
     "duration": 0.021922,
     "end_time": "2021-01-10T20:14:30.145674",
     "exception": false,
     "start_time": "2021-01-10T20:14:30.123752",
     "status": "completed"
    },
    "tags": []
   },
   "source": [
    "### Key Objectives:\n",
    "- Building a neural network that differentiates two hand-written digits 3 and 8.\n",
    "- Comparing the results of this Neural Network (NN) to that of a Logistic Regression (LR) model.\n",
    "\n",
    "### Requirements:\n",
    "- 'Kudzu' : A neural network library that was designed during our course by [Univ.AI](www.univ.ai). \n",
    "- MNIST Database\n",
    "\n",
    "If MNIST is not installed, use the command `!pip install mnist` given below.\n",
    "It can be run both from the command line and Jupyter Notebook."
   ]
  },
  {
   "cell_type": "code",
   "execution_count": 1,
   "metadata": {
    "execution": {
     "iopub.execute_input": "2021-01-10T20:14:30.199920Z",
     "iopub.status.busy": "2021-01-10T20:14:30.199413Z",
     "iopub.status.idle": "2021-01-10T20:14:31.630029Z",
     "shell.execute_reply": "2021-01-10T20:14:31.629115Z"
    },
    "papermill": {
     "duration": 1.46258,
     "end_time": "2021-01-10T20:14:31.630194",
     "exception": false,
     "start_time": "2021-01-10T20:14:30.167614",
     "status": "completed"
    },
    "tags": []
   },
   "outputs": [
    {
     "name": "stdout",
     "output_type": "stream",
     "text": [
      "Collecting mnist\r\n"
     ]
    },
    {
     "name": "stdout",
     "output_type": "stream",
     "text": [
      "  Downloading mnist-0.2.2-py2.py3-none-any.whl (3.5 kB)\r\n",
      "Requirement already satisfied: numpy in /opt/hostedtoolcache/Python/3.6.12/x64/lib/python3.6/site-packages (from mnist) (1.19.5)\r\n"
     ]
    },
    {
     "name": "stdout",
     "output_type": "stream",
     "text": [
      "Installing collected packages: mnist\r\n"
     ]
    },
    {
     "name": "stdout",
     "output_type": "stream",
     "text": [
      "Successfully installed mnist-0.2.2\r\n",
      "\u001b[33mWARNING: You are using pip version 20.3.1; however, version 20.3.3 is available.\r\n",
      "You should consider upgrading via the '/opt/hostedtoolcache/Python/3.6.12/x64/bin/python -m pip install --upgrade pip' command.\u001b[0m\r\n"
     ]
    }
   ],
   "source": [
    "!pip install mnist "
   ]
  },
  {
   "cell_type": "markdown",
   "metadata": {
    "papermill": {
     "duration": 0.023076,
     "end_time": "2021-01-10T20:14:31.676924",
     "exception": false,
     "start_time": "2021-01-10T20:14:31.653848",
     "status": "completed"
    },
    "tags": []
   },
   "source": [
    "#### Importing necessary libraries"
   ]
  },
  {
   "cell_type": "code",
   "execution_count": 2,
   "metadata": {
    "execution": {
     "iopub.execute_input": "2021-01-10T20:14:31.731855Z",
     "iopub.status.busy": "2021-01-10T20:14:31.729344Z",
     "iopub.status.idle": "2021-01-10T20:14:32.219382Z",
     "shell.execute_reply": "2021-01-10T20:14:32.218897Z"
    },
    "papermill": {
     "duration": 0.51954,
     "end_time": "2021-01-10T20:14:32.219516",
     "exception": false,
     "start_time": "2021-01-10T20:14:31.699976",
     "status": "completed"
    },
    "tags": []
   },
   "outputs": [],
   "source": [
    "%load_ext autoreload\n",
    "%autoreload 2\n",
    "\n",
    "%matplotlib inline\n",
    "import matplotlib.pyplot as plt\n",
    "\n",
    "import numpy as np\n",
    "import pandas as pd"
   ]
  },
  {
   "cell_type": "markdown",
   "metadata": {
    "papermill": {
     "duration": 0.023519,
     "end_time": "2021-01-10T20:14:32.266712",
     "exception": false,
     "start_time": "2021-01-10T20:14:32.243193",
     "status": "completed"
    },
    "tags": []
   },
   "source": [
    "### Preparing the Data"
   ]
  },
  {
   "cell_type": "code",
   "execution_count": 3,
   "metadata": {
    "execution": {
     "iopub.execute_input": "2021-01-10T20:14:32.316832Z",
     "iopub.status.busy": "2021-01-10T20:14:32.316246Z",
     "iopub.status.idle": "2021-01-10T20:14:32.326580Z",
     "shell.execute_reply": "2021-01-10T20:14:32.326965Z"
    },
    "papermill": {
     "duration": 0.037473,
     "end_time": "2021-01-10T20:14:32.327088",
     "exception": false,
     "start_time": "2021-01-10T20:14:32.289615",
     "status": "completed"
    },
    "tags": []
   },
   "outputs": [],
   "source": [
    "import mnist"
   ]
  },
  {
   "cell_type": "code",
   "execution_count": 4,
   "metadata": {
    "execution": {
     "iopub.execute_input": "2021-01-10T20:14:32.386189Z",
     "iopub.status.busy": "2021-01-10T20:14:32.385687Z",
     "iopub.status.idle": "2021-01-10T20:14:33.097822Z",
     "shell.execute_reply": "2021-01-10T20:14:33.097260Z"
    },
    "papermill": {
     "duration": 0.747911,
     "end_time": "2021-01-10T20:14:33.097959",
     "exception": false,
     "start_time": "2021-01-10T20:14:32.350048",
     "status": "completed"
    },
    "tags": []
   },
   "outputs": [],
   "source": [
    "train_images = mnist.train_images()\n",
    "train_labels = mnist.train_labels()"
   ]
  },
  {
   "cell_type": "code",
   "execution_count": 5,
   "metadata": {
    "execution": {
     "iopub.execute_input": "2021-01-10T20:14:33.158683Z",
     "iopub.status.busy": "2021-01-10T20:14:33.157658Z",
     "iopub.status.idle": "2021-01-10T20:14:33.165692Z",
     "shell.execute_reply": "2021-01-10T20:14:33.165257Z"
    },
    "papermill": {
     "duration": 0.044086,
     "end_time": "2021-01-10T20:14:33.165800",
     "exception": false,
     "start_time": "2021-01-10T20:14:33.121714",
     "status": "completed"
    },
    "tags": []
   },
   "outputs": [
    {
     "data": {
      "text/plain": [
       "((60000, 28, 28), (60000,))"
      ]
     },
     "execution_count": 5,
     "metadata": {},
     "output_type": "execute_result"
    }
   ],
   "source": [
    "train_images.shape, train_labels.shape"
   ]
  },
  {
   "cell_type": "code",
   "execution_count": 6,
   "metadata": {
    "execution": {
     "iopub.execute_input": "2021-01-10T20:14:33.227049Z",
     "iopub.status.busy": "2021-01-10T20:14:33.226547Z",
     "iopub.status.idle": "2021-01-10T20:14:33.488937Z",
     "shell.execute_reply": "2021-01-10T20:14:33.489479Z"
    },
    "papermill": {
     "duration": 0.300635,
     "end_time": "2021-01-10T20:14:33.489632",
     "exception": false,
     "start_time": "2021-01-10T20:14:33.188997",
     "status": "completed"
    },
    "tags": []
   },
   "outputs": [],
   "source": [
    "test_images = mnist.test_images()\n",
    "test_labels = mnist.test_labels()"
   ]
  },
  {
   "cell_type": "code",
   "execution_count": 7,
   "metadata": {
    "execution": {
     "iopub.execute_input": "2021-01-10T20:14:33.540300Z",
     "iopub.status.busy": "2021-01-10T20:14:33.539792Z",
     "iopub.status.idle": "2021-01-10T20:14:33.552124Z",
     "shell.execute_reply": "2021-01-10T20:14:33.551697Z"
    },
    "papermill": {
     "duration": 0.0384,
     "end_time": "2021-01-10T20:14:33.552229",
     "exception": false,
     "start_time": "2021-01-10T20:14:33.513829",
     "status": "completed"
    },
    "tags": []
   },
   "outputs": [
    {
     "data": {
      "text/plain": [
       "((10000, 28, 28), (10000,))"
      ]
     },
     "execution_count": 7,
     "metadata": {},
     "output_type": "execute_result"
    }
   ],
   "source": [
    "test_images.shape, test_labels.shape"
   ]
  },
  {
   "cell_type": "code",
   "execution_count": 8,
   "metadata": {
    "execution": {
     "iopub.execute_input": "2021-01-10T20:14:33.626715Z",
     "iopub.status.busy": "2021-01-10T20:14:33.613568Z",
     "iopub.status.idle": "2021-01-10T20:14:33.733909Z",
     "shell.execute_reply": "2021-01-10T20:14:33.733435Z"
    },
    "papermill": {
     "duration": 0.158478,
     "end_time": "2021-01-10T20:14:33.734037",
     "exception": false,
     "start_time": "2021-01-10T20:14:33.575559",
     "status": "completed"
    },
    "tags": []
   },
   "outputs": [
    {
     "name": "stdout",
     "output_type": "stream",
     "text": [
      "2\n"
     ]
    },
    {
     "data": {
      "text/plain": [
       "<matplotlib.image.AxesImage at 0x7f3a446e54a8>"
      ]
     },
     "execution_count": 8,
     "metadata": {},
     "output_type": "execute_result"
    },
    {
     "data": {
      "image/png": "[encoded data removed]",
      "text/plain": [
       "<Figure size 432x288 with 1 Axes>"
      ]
     },
     "metadata": {
      "needs_background": "light"
     },
     "output_type": "display_data"
    }
   ],
   "source": [
    "image_index = 7776 # You may select anything up to 60,000\n",
    "print(train_labels[image_index]) \n",
    "plt.imshow(train_images[image_index], cmap='Greys')"
   ]
  },
  {
   "cell_type": "markdown",
   "metadata": {
    "papermill": {
     "duration": 0.024895,
     "end_time": "2021-01-10T20:14:33.784211",
     "exception": false,
     "start_time": "2021-01-10T20:14:33.759316",
     "status": "completed"
    },
    "tags": []
   },
   "source": [
    "## Filter data to get 3 and 8 out"
   ]
  },
  {
   "cell_type": "code",
   "execution_count": 9,
   "metadata": {
    "execution": {
     "iopub.execute_input": "2021-01-10T20:14:33.851294Z",
     "iopub.status.busy": "2021-01-10T20:14:33.850785Z",
     "iopub.status.idle": "2021-01-10T20:14:33.860548Z",
     "shell.execute_reply": "2021-01-10T20:14:33.860135Z"
    },
    "papermill": {
     "duration": 0.051892,
     "end_time": "2021-01-10T20:14:33.860662",
     "exception": false,
     "start_time": "2021-01-10T20:14:33.808770",
     "status": "completed"
    },
    "tags": []
   },
   "outputs": [],
   "source": [
    "train_filter = np.where((train_labels == 3 ) | (train_labels == 8))\n",
    "test_filter = np.where((test_labels == 3) | (test_labels == 8))\n",
    "X_train, y_train = train_images[train_filter], train_labels[train_filter]\n",
    "X_test, y_test = test_images[test_filter], test_labels[test_filter]"
   ]
  },
  {
   "cell_type": "markdown",
   "metadata": {
    "papermill": {
     "duration": 0.024417,
     "end_time": "2021-01-10T20:14:33.909717",
     "exception": false,
     "start_time": "2021-01-10T20:14:33.885300",
     "status": "completed"
    },
    "tags": []
   },
   "source": [
    "We normalize the pixel values in the 0 to 1 range"
   ]
  },
  {
   "cell_type": "code",
   "execution_count": 10,
   "metadata": {
    "execution": {
     "iopub.execute_input": "2021-01-10T20:14:33.981767Z",
     "iopub.status.busy": "2021-01-10T20:14:33.973695Z",
     "iopub.status.idle": "2021-01-10T20:14:34.013168Z",
     "shell.execute_reply": "2021-01-10T20:14:34.012636Z"
    },
    "papermill": {
     "duration": 0.07921,
     "end_time": "2021-01-10T20:14:34.013317",
     "exception": false,
     "start_time": "2021-01-10T20:14:33.934107",
     "status": "completed"
    },
    "tags": []
   },
   "outputs": [],
   "source": [
    "X_train = X_train/255.\n",
    "X_test = X_test/255."
   ]
  },
  {
   "cell_type": "markdown",
   "metadata": {
    "papermill": {
     "duration": 0.02461,
     "end_time": "2021-01-10T20:14:34.063982",
     "exception": false,
     "start_time": "2021-01-10T20:14:34.039372",
     "status": "completed"
    },
    "tags": []
   },
   "source": [
    "Setup the labels as 1 (when the digit is 3) and 0 (when the digit is 8)"
   ]
  },
  {
   "cell_type": "code",
   "execution_count": 11,
   "metadata": {
    "execution": {
     "iopub.execute_input": "2021-01-10T20:14:34.130914Z",
     "iopub.status.busy": "2021-01-10T20:14:34.130169Z",
     "iopub.status.idle": "2021-01-10T20:14:34.133868Z",
     "shell.execute_reply": "2021-01-10T20:14:34.133441Z"
    },
    "papermill": {
     "duration": 0.045489,
     "end_time": "2021-01-10T20:14:34.133971",
     "exception": false,
     "start_time": "2021-01-10T20:14:34.088482",
     "status": "completed"
    },
    "tags": []
   },
   "outputs": [],
   "source": [
    "y_train = 1*(y_train==3)\n",
    "y_test = 1*(y_test==3)"
   ]
  },
  {
   "cell_type": "code",
   "execution_count": 12,
   "metadata": {
    "execution": {
     "iopub.execute_input": "2021-01-10T20:14:34.198329Z",
     "iopub.status.busy": "2021-01-10T20:14:34.197590Z",
     "iopub.status.idle": "2021-01-10T20:14:34.202502Z",
     "shell.execute_reply": "2021-01-10T20:14:34.202077Z"
    },
    "papermill": {
     "duration": 0.044011,
     "end_time": "2021-01-10T20:14:34.202602",
     "exception": false,
     "start_time": "2021-01-10T20:14:34.158591",
     "status": "completed"
    },
    "tags": []
   },
   "outputs": [
    {
     "data": {
      "text/plain": [
       "((11982, 28, 28), (1984, 28, 28))"
      ]
     },
     "execution_count": 12,
     "metadata": {},
     "output_type": "execute_result"
    }
   ],
   "source": [
    "X_train.shape, X_test.shape"
   ]
  },
  {
   "cell_type": "markdown",
   "metadata": {
    "papermill": {
     "duration": 0.024808,
     "end_time": "2021-01-10T20:14:34.252111",
     "exception": false,
     "start_time": "2021-01-10T20:14:34.227303",
     "status": "completed"
    },
    "tags": []
   },
   "source": [
    "### Reshape the input data to create a linear array"
   ]
  },
  {
   "cell_type": "code",
   "execution_count": 13,
   "metadata": {
    "execution": {
     "iopub.execute_input": "2021-01-10T20:14:34.319409Z",
     "iopub.status.busy": "2021-01-10T20:14:34.318904Z",
     "iopub.status.idle": "2021-01-10T20:14:34.323938Z",
     "shell.execute_reply": "2021-01-10T20:14:34.323514Z"
    },
    "papermill": {
     "duration": 0.046901,
     "end_time": "2021-01-10T20:14:34.324038",
     "exception": false,
     "start_time": "2021-01-10T20:14:34.277137",
     "status": "completed"
    },
    "tags": []
   },
   "outputs": [
    {
     "data": {
      "text/plain": [
       "((11982, 784), (1984, 784))"
      ]
     },
     "execution_count": 13,
     "metadata": {},
     "output_type": "execute_result"
    }
   ],
   "source": [
    "X_train = X_train.reshape(X_train.shape[0], -1)\n",
    "X_test = X_test.reshape(X_test.shape[0], -1)\n",
    "X_train.shape, X_test.shape"
   ]
  },
  {
   "cell_type": "markdown",
   "metadata": {
    "papermill": {
     "duration": 0.024884,
     "end_time": "2021-01-10T20:14:34.373812",
     "exception": false,
     "start_time": "2021-01-10T20:14:34.348928",
     "status": "completed"
    },
    "tags": []
   },
   "source": [
    "### Importing appropriate functions from 'Kudzu'"
   ]
  },
  {
   "cell_type": "code",
   "execution_count": 14,
   "metadata": {
    "execution": {
     "iopub.execute_input": "2021-01-10T20:14:34.446227Z",
     "iopub.status.busy": "2021-01-10T20:14:34.437589Z",
     "iopub.status.idle": "2021-01-10T20:14:34.448334Z",
     "shell.execute_reply": "2021-01-10T20:14:34.447937Z"
    },
    "papermill": {
     "duration": 0.049483,
     "end_time": "2021-01-10T20:14:34.448437",
     "exception": false,
     "start_time": "2021-01-10T20:14:34.398954",
     "status": "completed"
    },
    "tags": []
   },
   "outputs": [],
   "source": [
    "from kudzu.layer import Sigmoid\n",
    "from kudzu.layer import Relu\n",
    "from kudzu.layer import Affine, Sigmoid\n",
    "\n",
    "from kudzu.model import Model\n",
    "from kudzu.train import Learner\n",
    "from kudzu.optim import GD\n",
    "from kudzu.data import Data, Dataloader, Sampler\n",
    "\n",
    "from kudzu.callbacks import AccCallback\n",
    "from kudzu.callbacks import ClfCallback\n",
    "\n",
    "from kudzu.loss import MSE"
   ]
  },
  {
   "cell_type": "markdown",
   "metadata": {
    "papermill": {
     "duration": 0.024971,
     "end_time": "2021-01-10T20:14:34.498280",
     "exception": false,
     "start_time": "2021-01-10T20:14:34.473309",
     "status": "completed"
    },
    "tags": []
   },
   "source": [
    "### Let us create a `Config` class, to store important parameters. \n",
    "This class essentially plays the role of a dictionary."
   ]
  },
  {
   "cell_type": "code",
   "execution_count": 15,
   "metadata": {
    "execution": {
     "iopub.execute_input": "2021-01-10T20:14:34.564737Z",
     "iopub.status.busy": "2021-01-10T20:14:34.562827Z",
     "iopub.status.idle": "2021-01-10T20:14:34.566784Z",
     "shell.execute_reply": "2021-01-10T20:14:34.566363Z"
    },
    "papermill": {
     "duration": 0.043529,
     "end_time": "2021-01-10T20:14:34.566883",
     "exception": false,
     "start_time": "2021-01-10T20:14:34.523354",
     "status": "completed"
    },
    "tags": []
   },
   "outputs": [],
   "source": [
    "class Config:\n",
    "    pass\n",
    "config = Config()\n",
    "config.lr = 0.001\n",
    "config.num_epochs = 251\n",
    "config.bs = 50"
   ]
  },
  {
   "cell_type": "markdown",
   "metadata": {
    "papermill": {
     "duration": 0.0249,
     "end_time": "2021-01-10T20:14:34.616632",
     "exception": false,
     "start_time": "2021-01-10T20:14:34.591732",
     "status": "completed"
    },
    "tags": []
   },
   "source": [
    "### Initializing data to the variables"
   ]
  },
  {
   "cell_type": "code",
   "execution_count": 16,
   "metadata": {
    "execution": {
     "iopub.execute_input": "2021-01-10T20:14:34.677705Z",
     "iopub.status.busy": "2021-01-10T20:14:34.669537Z",
     "iopub.status.idle": "2021-01-10T20:14:34.680781Z",
     "shell.execute_reply": "2021-01-10T20:14:34.680333Z"
    },
    "papermill": {
     "duration": 0.039193,
     "end_time": "2021-01-10T20:14:34.680882",
     "exception": false,
     "start_time": "2021-01-10T20:14:34.641689",
     "status": "completed"
    },
    "tags": []
   },
   "outputs": [],
   "source": [
    "data = Data(X_train, y_train.reshape(-1,1))\n",
    "sampler = Sampler(data, config.bs, shuffle=True)\n",
    "\n",
    "dl = Dataloader(data, sampler)\n",
    "\n",
    "opt = GD(config.lr)\n",
    "loss = MSE()"
   ]
  },
  {
   "cell_type": "code",
   "execution_count": 17,
   "metadata": {
    "execution": {
     "iopub.execute_input": "2021-01-10T20:14:34.748358Z",
     "iopub.status.busy": "2021-01-10T20:14:34.747857Z",
     "iopub.status.idle": "2021-01-10T20:14:34.751476Z",
     "shell.execute_reply": "2021-01-10T20:14:34.751052Z"
    },
    "papermill": {
     "duration": 0.045702,
     "end_time": "2021-01-10T20:14:34.751583",
     "exception": false,
     "start_time": "2021-01-10T20:14:34.705881",
     "status": "completed"
    },
    "tags": []
   },
   "outputs": [],
   "source": [
    "training_xdata = X_train\n",
    "testing_xdata = X_test\n",
    "training_ydata = y_train.reshape(-1,1)\n",
    "testing_ydata = y_test.reshape(-1,1)"
   ]
  },
  {
   "cell_type": "markdown",
   "metadata": {
    "papermill": {
     "duration": 0.025037,
     "end_time": "2021-01-10T20:14:34.801657",
     "exception": false,
     "start_time": "2021-01-10T20:14:34.776620",
     "status": "completed"
    },
    "tags": []
   },
   "source": [
    "### Running Models with the Training data\n",
    "Details about the network layers:\n",
    "- A first affine layer has 784 inputs and does 100 affine transforms. These are followed by a Relu\n",
    "- A second affine layer has 100 inputs from the 100 activations of the past layer, and does 100 affine transforms. These are followed by a Relu\n",
    "- A third affine layer has 100 activations and does 2 affine transformations to create an embedding for visualization. There is no non-linearity here.\n",
    "- A final \"logistic regression\" which has an affine transform from 2 inputs to 1 output, which is squeezed through a sigmoid.\n",
    "\n",
    "Help taken from Anshuman's Notebook."
   ]
  },
  {
   "cell_type": "code",
   "execution_count": 18,
   "metadata": {
    "execution": {
     "iopub.execute_input": "2021-01-10T20:14:34.861605Z",
     "iopub.status.busy": "2021-01-10T20:14:34.854757Z",
     "iopub.status.idle": "2021-01-10T20:14:34.869320Z",
     "shell.execute_reply": "2021-01-10T20:14:34.868889Z"
    },
    "papermill": {
     "duration": 0.042883,
     "end_time": "2021-01-10T20:14:34.869426",
     "exception": false,
     "start_time": "2021-01-10T20:14:34.826543",
     "status": "completed"
    },
    "tags": []
   },
   "outputs": [],
   "source": [
    "# layers for the Neural Network\n",
    "layers = [Affine(\"first\", 784, 100), Relu(\"first\"), Affine(\"second\", 100, 100), Relu(\"second\"), Affine(\"third\", 100, 2), Affine(\"final\", 2, 1), Sigmoid(\"final\")]\n",
    "model_nn = Model(layers)\n",
    "\n",
    "# layers for the Logistic Regression\n",
    "layers_lr = [Affine(\"logits\", 784, 1), Sigmoid(\"sigmoid\")]\n",
    "model_lr = Model(layers_lr)"
   ]
  },
  {
   "cell_type": "code",
   "execution_count": 19,
   "metadata": {
    "execution": {
     "iopub.execute_input": "2021-01-10T20:14:34.936358Z",
     "iopub.status.busy": "2021-01-10T20:14:34.935866Z",
     "iopub.status.idle": "2021-01-10T20:14:34.938203Z",
     "shell.execute_reply": "2021-01-10T20:14:34.937804Z"
    },
    "papermill": {
     "duration": 0.043748,
     "end_time": "2021-01-10T20:14:34.938305",
     "exception": false,
     "start_time": "2021-01-10T20:14:34.894557",
     "status": "completed"
    },
    "tags": []
   },
   "outputs": [],
   "source": [
    "# suffix _nn stands for Neural Network.\n",
    "learner_nn = Learner(loss, model_nn, opt, config.num_epochs)\n",
    "acc_nn = ClfCallback(learner_nn, config.bs, training_xdata , testing_xdata, training_ydata, testing_ydata)\n",
    "learner_nn.set_callbacks([acc_nn])"
   ]
  },
  {
   "cell_type": "code",
   "execution_count": 20,
   "metadata": {
    "execution": {
     "iopub.execute_input": "2021-01-10T20:14:35.005665Z",
     "iopub.status.busy": "2021-01-10T20:14:34.997594Z",
     "iopub.status.idle": "2021-01-10T20:15:49.611201Z",
     "shell.execute_reply": "2021-01-10T20:15:49.610759Z"
    },
    "papermill": {
     "duration": 74.648083,
     "end_time": "2021-01-10T20:15:49.611322",
     "exception": false,
     "start_time": "2021-01-10T20:14:34.963239",
     "status": "completed"
    },
    "tags": []
   },
   "outputs": [
    {
     "name": "stdout",
     "output_type": "stream",
     "text": [
      "====== Neural Network ======\n"
     ]
    },
    {
     "name": "stdout",
     "output_type": "stream",
     "text": [
      "Epoch 0, Loss 0.2395\n",
      "Training Accuracy: 0.7304, Testing Accuracy: 0.7505\n",
      "\n"
     ]
    },
    {
     "name": "stdout",
     "output_type": "stream",
     "text": [
      "Epoch 10, Loss 0.1527\n",
      "Training Accuracy: 0.8943, Testing Accuracy: 0.9128\n",
      "\n"
     ]
    },
    {
     "name": "stdout",
     "output_type": "stream",
     "text": [
      "Epoch 20, Loss 0.0761\n",
      "Training Accuracy: 0.9250, Testing Accuracy: 0.9400\n",
      "\n"
     ]
    },
    {
     "name": "stdout",
     "output_type": "stream",
     "text": [
      "Epoch 30, Loss 0.0537\n",
      "Training Accuracy: 0.9422, Testing Accuracy: 0.9567\n",
      "\n"
     ]
    },
    {
     "name": "stdout",
     "output_type": "stream",
     "text": [
      "Epoch 40, Loss 0.044\n",
      "Training Accuracy: 0.9495, Testing Accuracy: 0.9597\n",
      "\n"
     ]
    },
    {
     "name": "stdout",
     "output_type": "stream",
     "text": [
      "Epoch 50, Loss 0.0386\n",
      "Training Accuracy: 0.9551, Testing Accuracy: 0.9637\n",
      "\n"
     ]
    },
    {
     "name": "stdout",
     "output_type": "stream",
     "text": [
      "Epoch 60, Loss 0.0351\n",
      "Training Accuracy: 0.9580, Testing Accuracy: 0.9667\n",
      "\n"
     ]
    },
    {
     "name": "stdout",
     "output_type": "stream",
     "text": [
      "Epoch 70, Loss 0.0326\n",
      "Training Accuracy: 0.9618, Testing Accuracy: 0.9688\n",
      "\n"
     ]
    },
    {
     "name": "stdout",
     "output_type": "stream",
     "text": [
      "Epoch 80, Loss 0.0308\n",
      "Training Accuracy: 0.9640, Testing Accuracy: 0.9698\n",
      "\n"
     ]
    },
    {
     "name": "stdout",
     "output_type": "stream",
     "text": [
      "Epoch 90, Loss 0.0293\n",
      "Training Accuracy: 0.9664, Testing Accuracy: 0.9688\n",
      "\n"
     ]
    },
    {
     "name": "stdout",
     "output_type": "stream",
     "text": [
      "Epoch 100, Loss 0.0281\n",
      "Training Accuracy: 0.9675, Testing Accuracy: 0.9703\n",
      "\n"
     ]
    },
    {
     "name": "stdout",
     "output_type": "stream",
     "text": [
      "Epoch 110, Loss 0.027\n",
      "Training Accuracy: 0.9687, Testing Accuracy: 0.9693\n",
      "\n"
     ]
    },
    {
     "name": "stdout",
     "output_type": "stream",
     "text": [
      "Epoch 120, Loss 0.0262\n",
      "Training Accuracy: 0.9697, Testing Accuracy: 0.9698\n",
      "\n"
     ]
    },
    {
     "name": "stdout",
     "output_type": "stream",
     "text": [
      "Epoch 130, Loss 0.0254\n",
      "Training Accuracy: 0.9703, Testing Accuracy: 0.9708\n",
      "\n"
     ]
    },
    {
     "name": "stdout",
     "output_type": "stream",
     "text": [
      "Epoch 140, Loss 0.0247\n",
      "Training Accuracy: 0.9713, Testing Accuracy: 0.9708\n",
      "\n"
     ]
    },
    {
     "name": "stdout",
     "output_type": "stream",
     "text": [
      "Epoch 150, Loss 0.0241\n",
      "Training Accuracy: 0.9722, Testing Accuracy: 0.9713\n",
      "\n"
     ]
    },
    {
     "name": "stdout",
     "output_type": "stream",
     "text": [
      "Epoch 160, Loss 0.0235\n",
      "Training Accuracy: 0.9731, Testing Accuracy: 0.9718\n",
      "\n"
     ]
    },
    {
     "name": "stdout",
     "output_type": "stream",
     "text": [
      "Epoch 170, Loss 0.023\n",
      "Training Accuracy: 0.9735, Testing Accuracy: 0.9713\n",
      "\n"
     ]
    },
    {
     "name": "stdout",
     "output_type": "stream",
     "text": [
      "Epoch 180, Loss 0.0226\n",
      "Training Accuracy: 0.9744, Testing Accuracy: 0.9718\n",
      "\n"
     ]
    },
    {
     "name": "stdout",
     "output_type": "stream",
     "text": [
      "Epoch 190, Loss 0.0221\n",
      "Training Accuracy: 0.9747, Testing Accuracy: 0.9718\n",
      "\n"
     ]
    },
    {
     "name": "stdout",
     "output_type": "stream",
     "text": [
      "Epoch 200, Loss 0.0217\n",
      "Training Accuracy: 0.9756, Testing Accuracy: 0.9723\n",
      "\n"
     ]
    },
    {
     "name": "stdout",
     "output_type": "stream",
     "text": [
      "Epoch 210, Loss 0.0213\n",
      "Training Accuracy: 0.9760, Testing Accuracy: 0.9723\n",
      "\n"
     ]
    },
    {
     "name": "stdout",
     "output_type": "stream",
     "text": [
      "Epoch 220, Loss 0.021\n",
      "Training Accuracy: 0.9764, Testing Accuracy: 0.9713\n",
      "\n"
     ]
    },
    {
     "name": "stdout",
     "output_type": "stream",
     "text": [
      "Epoch 230, Loss 0.0206\n",
      "Training Accuracy: 0.9768, Testing Accuracy: 0.9713\n",
      "\n"
     ]
    },
    {
     "name": "stdout",
     "output_type": "stream",
     "text": [
      "Epoch 240, Loss 0.0203\n",
      "Training Accuracy: 0.9772, Testing Accuracy: 0.9713\n",
      "\n"
     ]
    },
    {
     "name": "stdout",
     "output_type": "stream",
     "text": [
      "Epoch 250, Loss 0.0199\n",
      "Training Accuracy: 0.9775, Testing Accuracy: 0.9713\n",
      "\n"
     ]
    },
    {
     "data": {
      "text/plain": [
       "0.08934656910681703"
      ]
     },
     "execution_count": 20,
     "metadata": {},
     "output_type": "execute_result"
    }
   ],
   "source": [
    "print(\"====== Neural Network ======\")\n",
    "learner_nn.train_loop(dl)"
   ]
  },
  {
   "cell_type": "markdown",
   "metadata": {
    "papermill": {
     "duration": 0.032197,
     "end_time": "2021-01-10T20:15:49.676482",
     "exception": false,
     "start_time": "2021-01-10T20:15:49.644285",
     "status": "completed"
    },
    "tags": []
   },
   "source": [
    "### Logistic Regression based Implementation."
   ]
  },
  {
   "cell_type": "code",
   "execution_count": 21,
   "metadata": {
    "execution": {
     "iopub.execute_input": "2021-01-10T20:15:49.744446Z",
     "iopub.status.busy": "2021-01-10T20:15:49.743932Z",
     "iopub.status.idle": "2021-01-10T20:15:49.755635Z",
     "shell.execute_reply": "2021-01-10T20:15:49.755126Z"
    },
    "papermill": {
     "duration": 0.047207,
     "end_time": "2021-01-10T20:15:49.755742",
     "exception": false,
     "start_time": "2021-01-10T20:15:49.708535",
     "status": "completed"
    },
    "tags": []
   },
   "outputs": [],
   "source": [
    "learner_lr = Learner(loss, model_lr, opt, config.num_epochs)\n",
    "acc_lr = ClfCallback(learner_lr, config.bs, training_xdata , testing_xdata, training_ydata, testing_ydata)\n",
    "learner_lr.set_callbacks([acc_lr])"
   ]
  },
  {
   "cell_type": "code",
   "execution_count": 22,
   "metadata": {
    "execution": {
     "iopub.execute_input": "2021-01-10T20:15:49.836888Z",
     "iopub.status.busy": "2021-01-10T20:15:49.836389Z",
     "iopub.status.idle": "2021-01-10T20:16:03.210923Z",
     "shell.execute_reply": "2021-01-10T20:16:03.210480Z"
    },
    "papermill": {
     "duration": 13.423107,
     "end_time": "2021-01-10T20:16:03.211042",
     "exception": false,
     "start_time": "2021-01-10T20:15:49.787935",
     "status": "completed"
    },
    "tags": []
   },
   "outputs": [
    {
     "name": "stdout",
     "output_type": "stream",
     "text": [
      "====== Logistic Regression ======\n",
      "Epoch 0, Loss 0.2568\n",
      "Training Accuracy: 0.6281, Testing Accuracy: 0.6462\n",
      "\n"
     ]
    },
    {
     "name": "stdout",
     "output_type": "stream",
     "text": [
      "Epoch 10, Loss 0.1024\n",
      "Training Accuracy: 0.9135, Testing Accuracy: 0.9249\n",
      "\n"
     ]
    },
    {
     "name": "stdout",
     "output_type": "stream",
     "text": [
      "Epoch 20, Loss 0.0788\n",
      "Training Accuracy: 0.9296, Testing Accuracy: 0.9405\n",
      "\n"
     ]
    },
    {
     "name": "stdout",
     "output_type": "stream",
     "text": [
      "Epoch 30, Loss 0.0681\n",
      "Training Accuracy: 0.9361, Testing Accuracy: 0.9476\n",
      "\n"
     ]
    },
    {
     "name": "stdout",
     "output_type": "stream",
     "text": [
      "Epoch 40, Loss 0.0617\n",
      "Training Accuracy: 0.9402, Testing Accuracy: 0.9516\n",
      "\n"
     ]
    },
    {
     "name": "stdout",
     "output_type": "stream",
     "text": [
      "Epoch 50, Loss 0.0573\n",
      "Training Accuracy: 0.9438, Testing Accuracy: 0.9546\n",
      "\n"
     ]
    },
    {
     "name": "stdout",
     "output_type": "stream",
     "text": [
      "Epoch 60, Loss 0.054\n",
      "Training Accuracy: 0.9471, Testing Accuracy: 0.9561\n",
      "\n"
     ]
    },
    {
     "name": "stdout",
     "output_type": "stream",
     "text": [
      "Epoch 70, Loss 0.0515\n",
      "Training Accuracy: 0.9488, Testing Accuracy: 0.9577\n",
      "\n"
     ]
    },
    {
     "name": "stdout",
     "output_type": "stream",
     "text": [
      "Epoch 80, Loss 0.0495\n",
      "Training Accuracy: 0.9508, Testing Accuracy: 0.9592\n",
      "\n"
     ]
    },
    {
     "name": "stdout",
     "output_type": "stream",
     "text": [
      "Epoch 90, Loss 0.0478\n",
      "Training Accuracy: 0.9520, Testing Accuracy: 0.9607\n",
      "\n"
     ]
    },
    {
     "name": "stdout",
     "output_type": "stream",
     "text": [
      "Epoch 100, Loss 0.0464\n",
      "Training Accuracy: 0.9528, Testing Accuracy: 0.9612\n",
      "\n"
     ]
    },
    {
     "name": "stdout",
     "output_type": "stream",
     "text": [
      "Epoch 110, Loss 0.0451\n",
      "Training Accuracy: 0.9534, Testing Accuracy: 0.9627\n",
      "\n"
     ]
    },
    {
     "name": "stdout",
     "output_type": "stream",
     "text": [
      "Epoch 120, Loss 0.0441\n",
      "Training Accuracy: 0.9547, Testing Accuracy: 0.9637\n",
      "\n"
     ]
    },
    {
     "name": "stdout",
     "output_type": "stream",
     "text": [
      "Epoch 130, Loss 0.0431\n",
      "Training Accuracy: 0.9553, Testing Accuracy: 0.9637\n",
      "\n"
     ]
    },
    {
     "name": "stdout",
     "output_type": "stream",
     "text": [
      "Epoch 140, Loss 0.0423\n",
      "Training Accuracy: 0.9560, Testing Accuracy: 0.9642\n",
      "\n"
     ]
    },
    {
     "name": "stdout",
     "output_type": "stream",
     "text": [
      "Epoch 150, Loss 0.0415\n",
      "Training Accuracy: 0.9570, Testing Accuracy: 0.9642\n",
      "\n"
     ]
    },
    {
     "name": "stdout",
     "output_type": "stream",
     "text": [
      "Epoch 160, Loss 0.0409\n",
      "Training Accuracy: 0.9572, Testing Accuracy: 0.9642\n",
      "\n"
     ]
    },
    {
     "name": "stdout",
     "output_type": "stream",
     "text": [
      "Epoch 170, Loss 0.0402\n",
      "Training Accuracy: 0.9579, Testing Accuracy: 0.9647\n",
      "\n"
     ]
    },
    {
     "name": "stdout",
     "output_type": "stream",
     "text": [
      "Epoch 180, Loss 0.0397\n",
      "Training Accuracy: 0.9584, Testing Accuracy: 0.9657\n",
      "\n"
     ]
    },
    {
     "name": "stdout",
     "output_type": "stream",
     "text": [
      "Epoch 190, Loss 0.0392\n",
      "Training Accuracy: 0.9586, Testing Accuracy: 0.9667\n",
      "\n"
     ]
    },
    {
     "name": "stdout",
     "output_type": "stream",
     "text": [
      "Epoch 200, Loss 0.0387\n",
      "Training Accuracy: 0.9590, Testing Accuracy: 0.9672\n",
      "\n"
     ]
    },
    {
     "name": "stdout",
     "output_type": "stream",
     "text": [
      "Epoch 210, Loss 0.0382\n",
      "Training Accuracy: 0.9597, Testing Accuracy: 0.9677\n",
      "\n"
     ]
    },
    {
     "name": "stdout",
     "output_type": "stream",
     "text": [
      "Epoch 220, Loss 0.0378\n",
      "Training Accuracy: 0.9600, Testing Accuracy: 0.9667\n",
      "\n"
     ]
    },
    {
     "name": "stdout",
     "output_type": "stream",
     "text": [
      "Epoch 230, Loss 0.0374\n",
      "Training Accuracy: 0.9602, Testing Accuracy: 0.9672\n",
      "\n"
     ]
    },
    {
     "name": "stdout",
     "output_type": "stream",
     "text": [
      "Epoch 240, Loss 0.037\n",
      "Training Accuracy: 0.9606, Testing Accuracy: 0.9667\n",
      "\n"
     ]
    },
    {
     "name": "stdout",
     "output_type": "stream",
     "text": [
      "Epoch 250, Loss 0.0367\n",
      "Training Accuracy: 0.9609, Testing Accuracy: 0.9667\n",
      "\n"
     ]
    },
    {
     "data": {
      "text/plain": [
       "0.018141227381076062"
      ]
     },
     "execution_count": 22,
     "metadata": {},
     "output_type": "execute_result"
    }
   ],
   "source": [
    "print(\"====== Logistic Regression ======\")\n",
    "learner_lr.train_loop(dl)"
   ]
  },
  {
   "cell_type": "markdown",
   "metadata": {
    "papermill": {
     "duration": 0.038948,
     "end_time": "2021-01-10T20:16:03.289046",
     "exception": false,
     "start_time": "2021-01-10T20:16:03.250098",
     "status": "completed"
    },
    "tags": []
   },
   "source": [
    "### Comparing results of NN and LR"
   ]
  },
  {
   "cell_type": "code",
   "execution_count": 23,
   "metadata": {
    "execution": {
     "iopub.execute_input": "2021-01-10T20:16:03.373784Z",
     "iopub.status.busy": "2021-01-10T20:16:03.373100Z",
     "iopub.status.idle": "2021-01-10T20:16:03.578785Z",
     "shell.execute_reply": "2021-01-10T20:16:03.579249Z"
    },
    "papermill": {
     "duration": 0.25139,
     "end_time": "2021-01-10T20:16:03.579405",
     "exception": false,
     "start_time": "2021-01-10T20:16:03.328015",
     "status": "completed"
    },
    "tags": []
   },
   "outputs": [
    {
     "data": {
      "text/plain": [
       "<matplotlib.legend.Legend at 0x7f3a3c24e048>"
      ]
     },
     "execution_count": 23,
     "metadata": {},
     "output_type": "execute_result"
    },
    {
     "data": {
      "image/png": "[encoded data removed]",
      "text/plain": [
       "<Figure size 1080x720 with 1 Axes>"
      ]
     },
     "metadata": {
      "needs_background": "light"
     },
     "output_type": "display_data"
    }
   ],
   "source": [
    "plt.figure(figsize=(15,10))\n",
    "\n",
    "# Neural Network plots\n",
    "plt.plot(acc_nn.accuracies, 'r-', label = \"Training Accuracies - NN\")\n",
    "plt.plot(acc_nn.test_accuracies, 'g-', label = \"Testing Accuracies - NN\")\n",
    "\n",
    "# Logistic Regression plots\n",
    "plt.plot(acc_lr.accuracies, 'k-', label = \"Training Accuracies - LR\")\n",
    "plt.plot(acc_lr.test_accuracies, 'b-', label = \"Testing Accuracies - LR\")\n",
    "\n",
    "plt.ylim(0.8, 1)\n",
    "\n",
    "plt.legend()\n",
    "\n"
   ]
  },
  {
   "cell_type": "markdown",
   "metadata": {
    "papermill": {
     "duration": 0.040278,
     "end_time": "2021-01-10T20:16:03.661081",
     "exception": false,
     "start_time": "2021-01-10T20:16:03.620803",
     "status": "completed"
    },
    "tags": []
   },
   "source": [
    "### From the plot, we can observe the following:\n",
    "- Neural Network achieves higher accuracy than the Logistic Regression model.\n",
    "- This apparently, is because of overfitting, i.e. NN captures more noise than data.\n",
    "- Testing accuracy of NN drops below the Training accuracy at higher epochs. This explains the over-fitting on training data.\n",
    "- Logistic Regression gives a reliable accuracy, without the above mentioned problem.\n"
   ]
  },
  {
   "cell_type": "markdown",
   "metadata": {
    "papermill": {
     "duration": 0.040266,
     "end_time": "2021-01-10T20:16:03.741620",
     "exception": false,
     "start_time": "2021-01-10T20:16:03.701354",
     "status": "completed"
    },
    "tags": []
   },
   "source": [
    "### Moving till the last but one layer (excluding it).\n",
    "#### Plotting the outputs of this layer of the NN."
   ]
  },
  {
   "cell_type": "code",
   "execution_count": 24,
   "metadata": {
    "execution": {
     "iopub.execute_input": "2021-01-10T20:16:03.826174Z",
     "iopub.status.busy": "2021-01-10T20:16:03.825661Z",
     "iopub.status.idle": "2021-01-10T20:16:03.837156Z",
     "shell.execute_reply": "2021-01-10T20:16:03.836732Z"
    },
    "papermill": {
     "duration": 0.055326,
     "end_time": "2021-01-10T20:16:03.837265",
     "exception": false,
     "start_time": "2021-01-10T20:16:03.781939",
     "status": "completed"
    },
    "tags": []
   },
   "outputs": [],
   "source": [
    "model_new = Model(layers[:-2])"
   ]
  },
  {
   "cell_type": "code",
   "execution_count": 25,
   "metadata": {
    "execution": {
     "iopub.execute_input": "2021-01-10T20:16:03.935656Z",
     "iopub.status.busy": "2021-01-10T20:16:03.935165Z",
     "iopub.status.idle": "2021-01-10T20:16:03.951115Z",
     "shell.execute_reply": "2021-01-10T20:16:03.951733Z"
    },
    "papermill": {
     "duration": 0.07441,
     "end_time": "2021-01-10T20:16:03.951863",
     "exception": false,
     "start_time": "2021-01-10T20:16:03.877453",
     "status": "completed"
    },
    "tags": []
   },
   "outputs": [],
   "source": [
    "plot_testing = model_new(testing_xdata)"
   ]
  },
  {
   "cell_type": "code",
   "execution_count": 26,
   "metadata": {
    "execution": {
     "iopub.execute_input": "2021-01-10T20:16:04.046121Z",
     "iopub.status.busy": "2021-01-10T20:16:04.045629Z",
     "iopub.status.idle": "2021-01-10T20:16:04.217832Z",
     "shell.execute_reply": "2021-01-10T20:16:04.217396Z"
    },
    "papermill": {
     "duration": 0.224829,
     "end_time": "2021-01-10T20:16:04.217948",
     "exception": false,
     "start_time": "2021-01-10T20:16:03.993119",
     "status": "completed"
    },
    "tags": []
   },
   "outputs": [
    {
     "data": {
      "text/plain": [
       "Text(0.5, 1.0, 'Outputs')"
      ]
     },
     "execution_count": 26,
     "metadata": {},
     "output_type": "execute_result"
    },
    {
     "data": {
      "image/png": "[encoded data removed]",
      "text/plain": [
       "<Figure size 576x504 with 1 Axes>"
      ]
     },
     "metadata": {
      "needs_background": "light"
     },
     "output_type": "display_data"
    }
   ],
   "source": [
    "plt.figure(figsize=(8,7))\n",
    "plt.scatter(plot_testing[:,0], plot_testing[:,1], alpha = 0.1, c = y_test.ravel());\n",
    "plt.title('Outputs')"
   ]
  },
  {
   "cell_type": "markdown",
   "metadata": {
    "papermill": {
     "duration": 0.041928,
     "end_time": "2021-01-10T20:16:04.302311",
     "exception": false,
     "start_time": "2021-01-10T20:16:04.260383",
     "status": "completed"
    },
    "tags": []
   },
   "source": [
    "### Plotting probability contours"
   ]
  },
  {
   "cell_type": "code",
   "execution_count": 27,
   "metadata": {
    "execution": {
     "iopub.execute_input": "2021-01-10T20:16:04.399299Z",
     "iopub.status.busy": "2021-01-10T20:16:04.398805Z",
     "iopub.status.idle": "2021-01-10T20:16:04.406315Z",
     "shell.execute_reply": "2021-01-10T20:16:04.405905Z"
    },
    "papermill": {
     "duration": 0.06181,
     "end_time": "2021-01-10T20:16:04.406424",
     "exception": false,
     "start_time": "2021-01-10T20:16:04.344614",
     "status": "completed"
    },
    "tags": []
   },
   "outputs": [],
   "source": [
    "model_prob = Model(layers[-2:]) "
   ]
  },
  {
   "cell_type": "code",
   "execution_count": 28,
   "metadata": {
    "execution": {
     "iopub.execute_input": "2021-01-10T20:16:04.508708Z",
     "iopub.status.busy": "2021-01-10T20:16:04.508208Z",
     "iopub.status.idle": "2021-01-10T20:16:04.512042Z",
     "shell.execute_reply": "2021-01-10T20:16:04.511556Z"
    },
    "papermill": {
     "duration": 0.06377,
     "end_time": "2021-01-10T20:16:04.512145",
     "exception": false,
     "start_time": "2021-01-10T20:16:04.448375",
     "status": "completed"
    },
    "tags": []
   },
   "outputs": [],
   "source": [
    "# Adjust the x and y ranges according to the above generated plot.\n",
    "x_range = np.linspace(-4, 1, 100) \n",
    "y_range = np.linspace(-6, 6, 100) \n",
    "x_grid, y_grid = np.meshgrid(x_range, y_range) # x_grid and y_grig are of size 100 X 100\n",
    "\n",
    "# converting x_grid and y_grid to continuous arrays\n",
    "x_grid_flat = np.ravel(x_grid)\n",
    "y_grid_flat = np.ravel(y_grid)\n",
    "\n",
    "# The last layer of the current model takes two columns as input. Hence transpose of np.vstack() is required.\n",
    "X = np.vstack((x_grid_flat, y_grid_flat)).T\n",
    "\n",
    "# x_grid and y_grid are of size 100 x 100\n",
    "probability_contour = model_prob(X).reshape(100,100) "
   ]
  },
  {
   "cell_type": "code",
   "execution_count": 29,
   "metadata": {
    "execution": {
     "iopub.execute_input": "2021-01-10T20:16:04.606245Z",
     "iopub.status.busy": "2021-01-10T20:16:04.605752Z",
     "iopub.status.idle": "2021-01-10T20:16:04.820533Z",
     "shell.execute_reply": "2021-01-10T20:16:04.820099Z"
    },
    "papermill": {
     "duration": 0.266108,
     "end_time": "2021-01-10T20:16:04.820646",
     "exception": false,
     "start_time": "2021-01-10T20:16:04.554538",
     "status": "completed"
    },
    "tags": []
   },
   "outputs": [
    {
     "data": {
      "image/png": "[encoded data removed]",
      "text/plain": [
       "<Figure size 720x648 with 1 Axes>"
      ]
     },
     "metadata": {
      "needs_background": "light"
     },
     "output_type": "display_data"
    }
   ],
   "source": [
    "plt.figure(figsize=(10,9))\n",
    "plt.scatter(plot_testing[:,0], plot_testing[:,1], alpha = 0.1, c = y_test.ravel())\n",
    "contours = plt.contour(x_grid,y_grid,probability_contour)\n",
    "plt.title('Probability Contours')\n",
    "plt.clabel(contours, inline = True );"
   ]
  }
 ],
 "metadata": {
  "kernelspec": {
   "display_name": "Python 3",
   "language": "python",
   "name": "python3"
  },
  "language_info": {
   "codemirror_mode": {
    "name": "ipython",
    "version": 3
   },
   "file_extension": ".py",
   "mimetype": "text/x-python",
   "name": "python",
   "nbconvert_exporter": "python",
   "pygments_lexer": "ipython3",
   "version": "3.6.12"
  },
  "papermill": {
   "duration": 96.161904,
   "end_time": "2021-01-10T20:16:05.198796",
   "environment_variables": {},
   "exception": null,
   "input_path": "2020-08-11-NeuralNetwork.ipynb",
   "output_path": "2020-08-11-NeuralNetwork.ipynb",
   "parameters": {},
   "start_time": "2021-01-10T20:14:29.036892",
   "version": "2.1.2"
  }
 },
 "nbformat": 4,
 "nbformat_minor": 4
}