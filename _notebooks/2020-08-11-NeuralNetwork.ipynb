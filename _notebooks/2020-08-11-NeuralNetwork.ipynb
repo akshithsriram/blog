{
 "cells": [
  {
   "cell_type": "markdown",
   "id": "fitted-suggestion",
   "metadata": {
    "papermill": {
     "duration": 0.032396,
     "end_time": "2021-05-09T10:04:49.973778",
     "exception": false,
     "start_time": "2021-05-09T10:04:49.941382",
     "status": "completed"
    },
    "tags": []
   },
   "source": [
    "# \"A Basic Neural Network: Differentiate Hand-Written Digits\"\n",
    "\n",
    "- badges: true\n",
    "- author: Akshith Sriram"
   ]
  },
  {
   "cell_type": "markdown",
   "id": "signal-flexibility",
   "metadata": {
    "papermill": {
     "duration": 0.027538,
     "end_time": "2021-05-09T10:04:50.031246",
     "exception": false,
     "start_time": "2021-05-09T10:04:50.003708",
     "status": "completed"
    },
    "tags": []
   },
   "source": [
    "### Key Objectives:\n",
    "- Building a neural network that differentiates two hand-written digits 3 and 8.\n",
    "- Comparing the results of this Neural Network (NN) to that of a Logistic Regression (LR) model.\n",
    "\n",
    "### Requirements:\n",
    "- 'Kudzu' : A neural network library that was designed during our course by [Univ.AI](www.univ.ai). \n",
    "- MNIST Database\n",
    "\n",
    "If MNIST is not installed, use the command `!pip install mnist` given below.\n",
    "It can be run both from the command line and Jupyter Notebook."
   ]
  },
  {
   "cell_type": "code",
   "execution_count": 1,
   "id": "british-texture",
   "metadata": {
    "execution": {
     "iopub.execute_input": "2021-05-09T10:04:50.100195Z",
     "iopub.status.busy": "2021-05-09T10:04:50.099463Z",
     "iopub.status.idle": "2021-05-09T10:04:51.645205Z",
     "shell.execute_reply": "2021-05-09T10:04:51.644091Z"
    },
    "papermill": {
     "duration": 1.584481,
     "end_time": "2021-05-09T10:04:51.645351",
     "exception": false,
     "start_time": "2021-05-09T10:04:50.060870",
     "status": "completed"
    },
    "tags": []
   },
   "outputs": [
    {
     "name": "stdout",
     "output_type": "stream",
     "text": [
      "Collecting mnist\r\n",
      "  Downloading mnist-0.2.2-py2.py3-none-any.whl (3.5 kB)\r\n",
      "Requirement already satisfied: numpy in /opt/hostedtoolcache/Python/3.6.13/x64/lib/python3.6/site-packages (from mnist) (1.19.5)\r\n"
     ]
    },
    {
     "name": "stdout",
     "output_type": "stream",
     "text": [
      "Installing collected packages: mnist\r\n"
     ]
    },
    {
     "name": "stdout",
     "output_type": "stream",
     "text": [
      "Successfully installed mnist-0.2.2\r\n"
     ]
    }
   ],
   "source": [
    "!pip install mnist "
   ]
  },
  {
   "cell_type": "markdown",
   "id": "stunning-extra",
   "metadata": {
    "papermill": {
     "duration": 0.036189,
     "end_time": "2021-05-09T10:04:51.714305",
     "exception": false,
     "start_time": "2021-05-09T10:04:51.678116",
     "status": "completed"
    },
    "tags": []
   },
   "source": [
    "#### Importing necessary libraries"
   ]
  },
  {
   "cell_type": "code",
   "execution_count": 2,
   "id": "wooden-france",
   "metadata": {
    "execution": {
     "iopub.execute_input": "2021-05-09T10:04:51.786370Z",
     "iopub.status.busy": "2021-05-09T10:04:51.785822Z",
     "iopub.status.idle": "2021-05-09T10:04:52.385597Z",
     "shell.execute_reply": "2021-05-09T10:04:52.384568Z"
    },
    "papermill": {
     "duration": 0.637078,
     "end_time": "2021-05-09T10:04:52.385730",
     "exception": false,
     "start_time": "2021-05-09T10:04:51.748652",
     "status": "completed"
    },
    "tags": []
   },
   "outputs": [],
   "source": [
    "%load_ext autoreload\n",
    "%autoreload 2\n",
    "\n",
    "%matplotlib inline\n",
    "import matplotlib.pyplot as plt\n",
    "\n",
    "import numpy as np\n",
    "import pandas as pd"
   ]
  },
  {
   "cell_type": "markdown",
   "id": "stunning-physics",
   "metadata": {
    "papermill": {
     "duration": 0.034718,
     "end_time": "2021-05-09T10:04:52.454195",
     "exception": false,
     "start_time": "2021-05-09T10:04:52.419477",
     "status": "completed"
    },
    "tags": []
   },
   "source": [
    "### Preparing the Data"
   ]
  },
  {
   "cell_type": "code",
   "execution_count": 3,
   "id": "unauthorized-remainder",
   "metadata": {
    "execution": {
     "iopub.execute_input": "2021-05-09T10:04:52.525129Z",
     "iopub.status.busy": "2021-05-09T10:04:52.524522Z",
     "iopub.status.idle": "2021-05-09T10:04:52.535560Z",
     "shell.execute_reply": "2021-05-09T10:04:52.536387Z"
    },
    "papermill": {
     "duration": 0.049667,
     "end_time": "2021-05-09T10:04:52.536534",
     "exception": false,
     "start_time": "2021-05-09T10:04:52.486867",
     "status": "completed"
    },
    "tags": []
   },
   "outputs": [],
   "source": [
    "import mnist"
   ]
  },
  {
   "cell_type": "code",
   "execution_count": 4,
   "id": "correct-antarctica",
   "metadata": {
    "execution": {
     "iopub.execute_input": "2021-05-09T10:04:52.612149Z",
     "iopub.status.busy": "2021-05-09T10:04:52.607782Z",
     "iopub.status.idle": "2021-05-09T10:09:40.823365Z",
     "shell.execute_reply": "2021-05-09T10:09:40.823988Z"
    },
    "papermill": {
     "duration": 288.255241,
     "end_time": "2021-05-09T10:09:40.824220",
     "exception": false,
     "start_time": "2021-05-09T10:04:52.568979",
     "status": "completed"
    },
    "tags": []
   },
   "outputs": [],
   "source": [
    "train_images = mnist.train_images()\n",
    "train_labels = mnist.train_labels()"
   ]
  },
  {
   "cell_type": "code",
   "execution_count": 5,
   "id": "musical-prospect",
   "metadata": {
    "execution": {
     "iopub.execute_input": "2021-05-09T10:09:40.901486Z",
     "iopub.status.busy": "2021-05-09T10:09:40.900976Z",
     "iopub.status.idle": "2021-05-09T10:09:40.916661Z",
     "shell.execute_reply": "2021-05-09T10:09:40.917145Z"
    },
    "papermill": {
     "duration": 0.061009,
     "end_time": "2021-05-09T10:09:40.917265",
     "exception": false,
     "start_time": "2021-05-09T10:09:40.856256",
     "status": "completed"
    },
    "tags": []
   },
   "outputs": [
    {
     "data": {
      "text/plain": [
       "((60000, 28, 28), (60000,))"
      ]
     },
     "execution_count": 5,
     "metadata": {},
     "output_type": "execute_result"
    }
   ],
   "source": [
    "train_images.shape, train_labels.shape"
   ]
  },
  {
   "cell_type": "code",
   "execution_count": 6,
   "id": "preliminary-elizabeth",
   "metadata": {
    "execution": {
     "iopub.execute_input": "2021-05-09T10:09:40.988124Z",
     "iopub.status.busy": "2021-05-09T10:09:40.983064Z",
     "iopub.status.idle": "2021-05-09T10:10:30.694266Z",
     "shell.execute_reply": "2021-05-09T10:10:30.693231Z"
    },
    "papermill": {
     "duration": 49.744428,
     "end_time": "2021-05-09T10:10:30.694404",
     "exception": false,
     "start_time": "2021-05-09T10:09:40.949976",
     "status": "completed"
    },
    "tags": []
   },
   "outputs": [],
   "source": [
    "test_images = mnist.test_images()\n",
    "test_labels = mnist.test_labels()"
   ]
  },
  {
   "cell_type": "code",
   "execution_count": 7,
   "id": "acknowledged-oxygen",
   "metadata": {
    "execution": {
     "iopub.execute_input": "2021-05-09T10:10:30.778162Z",
     "iopub.status.busy": "2021-05-09T10:10:30.768851Z",
     "iopub.status.idle": "2021-05-09T10:10:30.781524Z",
     "shell.execute_reply": "2021-05-09T10:10:30.781008Z"
    },
    "papermill": {
     "duration": 0.051958,
     "end_time": "2021-05-09T10:10:30.781646",
     "exception": false,
     "start_time": "2021-05-09T10:10:30.729688",
     "status": "completed"
    },
    "tags": []
   },
   "outputs": [
    {
     "data": {
      "text/plain": [
       "((10000, 28, 28), (10000,))"
      ]
     },
     "execution_count": 7,
     "metadata": {},
     "output_type": "execute_result"
    }
   ],
   "source": [
    "test_images.shape, test_labels.shape"
   ]
  },
  {
   "cell_type": "code",
   "execution_count": 8,
   "id": "innovative-organic",
   "metadata": {
    "execution": {
     "iopub.execute_input": "2021-05-09T10:10:30.888263Z",
     "iopub.status.busy": "2021-05-09T10:10:30.866526Z",
     "iopub.status.idle": "2021-05-09T10:10:31.044272Z",
     "shell.execute_reply": "2021-05-09T10:10:31.043663Z"
    },
    "papermill": {
     "duration": 0.22325,
     "end_time": "2021-05-09T10:10:31.044402",
     "exception": false,
     "start_time": "2021-05-09T10:10:30.821152",
     "status": "completed"
    },
    "tags": []
   },
   "outputs": [
    {
     "name": "stdout",
     "output_type": "stream",
     "text": [
      "2\n"
     ]
    },
    {
     "data": {
      "text/plain": [
       "<matplotlib.image.AxesImage at 0x7ff928e1c438>"
      ]
     },
     "execution_count": 8,
     "metadata": {},
     "output_type": "execute_result"
    },
    {
     "data": {
      "image/png": "[encoded data removed]",
      "text/plain": [
       "<Figure size 432x288 with 1 Axes>"
      ]
     },
     "metadata": {
      "needs_background": "light"
     },
     "output_type": "display_data"
    }
   ],
   "source": [
    "image_index = 7776 # You may select anything up to 60,000\n",
    "print(train_labels[image_index]) \n",
    "plt.imshow(train_images[image_index], cmap='Greys')"
   ]
  },
  {
   "cell_type": "markdown",
   "id": "facial-modem",
   "metadata": {
    "papermill": {
     "duration": 0.036303,
     "end_time": "2021-05-09T10:10:31.117710",
     "exception": false,
     "start_time": "2021-05-09T10:10:31.081407",
     "status": "completed"
    },
    "tags": []
   },
   "source": [
    "## Filter data to get 3 and 8 out"
   ]
  },
  {
   "cell_type": "code",
   "execution_count": 9,
   "id": "thousand-acquisition",
   "metadata": {
    "execution": {
     "iopub.execute_input": "2021-05-09T10:10:31.190733Z",
     "iopub.status.busy": "2021-05-09T10:10:31.190033Z",
     "iopub.status.idle": "2021-05-09T10:10:31.210284Z",
     "shell.execute_reply": "2021-05-09T10:10:31.209587Z"
    },
    "papermill": {
     "duration": 0.05757,
     "end_time": "2021-05-09T10:10:31.210435",
     "exception": false,
     "start_time": "2021-05-09T10:10:31.152865",
     "status": "completed"
    },
    "tags": []
   },
   "outputs": [],
   "source": [
    "train_filter = np.where((train_labels == 3 ) | (train_labels == 8))\n",
    "test_filter = np.where((test_labels == 3) | (test_labels == 8))\n",
    "X_train, y_train = train_images[train_filter], train_labels[train_filter]\n",
    "X_test, y_test = test_images[test_filter], test_labels[test_filter]"
   ]
  },
  {
   "cell_type": "markdown",
   "id": "ruled-access",
   "metadata": {
    "papermill": {
     "duration": 0.035,
     "end_time": "2021-05-09T10:10:31.279413",
     "exception": false,
     "start_time": "2021-05-09T10:10:31.244413",
     "status": "completed"
    },
    "tags": []
   },
   "source": [
    "We normalize the pixel values in the 0 to 1 range"
   ]
  },
  {
   "cell_type": "code",
   "execution_count": 10,
   "id": "isolated-denver",
   "metadata": {
    "execution": {
     "iopub.execute_input": "2021-05-09T10:10:31.353268Z",
     "iopub.status.busy": "2021-05-09T10:10:31.352691Z",
     "iopub.status.idle": "2021-05-09T10:10:31.416424Z",
     "shell.execute_reply": "2021-05-09T10:10:31.415915Z"
    },
    "papermill": {
     "duration": 0.101259,
     "end_time": "2021-05-09T10:10:31.416557",
     "exception": false,
     "start_time": "2021-05-09T10:10:31.315298",
     "status": "completed"
    },
    "tags": []
   },
   "outputs": [],
   "source": [
    "X_train = X_train/255.\n",
    "X_test = X_test/255."
   ]
  },
  {
   "cell_type": "markdown",
   "id": "perfect-summary",
   "metadata": {
    "papermill": {
     "duration": 0.035338,
     "end_time": "2021-05-09T10:10:31.487816",
     "exception": false,
     "start_time": "2021-05-09T10:10:31.452478",
     "status": "completed"
    },
    "tags": []
   },
   "source": [
    "Setup the labels as 1 (when the digit is 3) and 0 (when the digit is 8)"
   ]
  },
  {
   "cell_type": "code",
   "execution_count": 11,
   "id": "personalized-growing",
   "metadata": {
    "execution": {
     "iopub.execute_input": "2021-05-09T10:10:31.563299Z",
     "iopub.status.busy": "2021-05-09T10:10:31.562645Z",
     "iopub.status.idle": "2021-05-09T10:10:31.581380Z",
     "shell.execute_reply": "2021-05-09T10:10:31.580805Z"
    },
    "papermill": {
     "duration": 0.058498,
     "end_time": "2021-05-09T10:10:31.581523",
     "exception": false,
     "start_time": "2021-05-09T10:10:31.523025",
     "status": "completed"
    },
    "tags": []
   },
   "outputs": [],
   "source": [
    "y_train = 1*(y_train==3)\n",
    "y_test = 1*(y_test==3)"
   ]
  },
  {
   "cell_type": "code",
   "execution_count": 12,
   "id": "considered-virgin",
   "metadata": {
    "execution": {
     "iopub.execute_input": "2021-05-09T10:10:31.658156Z",
     "iopub.status.busy": "2021-05-09T10:10:31.657408Z",
     "iopub.status.idle": "2021-05-09T10:10:31.671201Z",
     "shell.execute_reply": "2021-05-09T10:10:31.670693Z"
    },
    "papermill": {
     "duration": 0.053494,
     "end_time": "2021-05-09T10:10:31.671319",
     "exception": false,
     "start_time": "2021-05-09T10:10:31.617825",
     "status": "completed"
    },
    "tags": []
   },
   "outputs": [
    {
     "data": {
      "text/plain": [
       "((11982, 28, 28), (1984, 28, 28))"
      ]
     },
     "execution_count": 12,
     "metadata": {},
     "output_type": "execute_result"
    }
   ],
   "source": [
    "X_train.shape, X_test.shape"
   ]
  },
  {
   "cell_type": "markdown",
   "id": "civilian-mobile",
   "metadata": {
    "papermill": {
     "duration": 0.034776,
     "end_time": "2021-05-09T10:10:31.741039",
     "exception": false,
     "start_time": "2021-05-09T10:10:31.706263",
     "status": "completed"
    },
    "tags": []
   },
   "source": [
    "### Reshape the input data to create a linear array"
   ]
  },
  {
   "cell_type": "code",
   "execution_count": 13,
   "id": "colonial-adams",
   "metadata": {
    "execution": {
     "iopub.execute_input": "2021-05-09T10:10:31.818946Z",
     "iopub.status.busy": "2021-05-09T10:10:31.818321Z",
     "iopub.status.idle": "2021-05-09T10:10:31.831792Z",
     "shell.execute_reply": "2021-05-09T10:10:31.831213Z"
    },
    "papermill": {
     "duration": 0.05585,
     "end_time": "2021-05-09T10:10:31.831990",
     "exception": false,
     "start_time": "2021-05-09T10:10:31.776140",
     "status": "completed"
    },
    "tags": []
   },
   "outputs": [
    {
     "data": {
      "text/plain": [
       "((11982, 784), (1984, 784))"
      ]
     },
     "execution_count": 13,
     "metadata": {},
     "output_type": "execute_result"
    }
   ],
   "source": [
    "X_train = X_train.reshape(X_train.shape[0], -1)\n",
    "X_test = X_test.reshape(X_test.shape[0], -1)\n",
    "X_train.shape, X_test.shape"
   ]
  },
  {
   "cell_type": "markdown",
   "id": "smart-details",
   "metadata": {
    "papermill": {
     "duration": 0.035406,
     "end_time": "2021-05-09T10:10:31.901572",
     "exception": false,
     "start_time": "2021-05-09T10:10:31.866166",
     "status": "completed"
    },
    "tags": []
   },
   "source": [
    "### Importing appropriate functions from 'Kudzu'"
   ]
  },
  {
   "cell_type": "code",
   "execution_count": 14,
   "id": "celtic-trial",
   "metadata": {
    "execution": {
     "iopub.execute_input": "2021-05-09T10:10:31.977245Z",
     "iopub.status.busy": "2021-05-09T10:10:31.976590Z",
     "iopub.status.idle": "2021-05-09T10:10:31.997597Z",
     "shell.execute_reply": "2021-05-09T10:10:31.997044Z"
    },
    "papermill": {
     "duration": 0.060368,
     "end_time": "2021-05-09T10:10:31.997705",
     "exception": false,
     "start_time": "2021-05-09T10:10:31.937337",
     "status": "completed"
    },
    "tags": []
   },
   "outputs": [],
   "source": [
    "from kudzu.layer import Sigmoid\n",
    "from kudzu.layer import Relu\n",
    "from kudzu.layer import Affine, Sigmoid\n",
    "\n",
    "from kudzu.model import Model\n",
    "from kudzu.train import Learner\n",
    "from kudzu.optim import GD\n",
    "from kudzu.data import Data, Dataloader, Sampler\n",
    "\n",
    "from kudzu.callbacks import AccCallback\n",
    "from kudzu.callbacks import ClfCallback\n",
    "\n",
    "from kudzu.loss import MSE"
   ]
  },
  {
   "cell_type": "markdown",
   "id": "coupled-customer",
   "metadata": {
    "papermill": {
     "duration": 0.033591,
     "end_time": "2021-05-09T10:10:32.066940",
     "exception": false,
     "start_time": "2021-05-09T10:10:32.033349",
     "status": "completed"
    },
    "tags": []
   },
   "source": [
    "### Let us create a `Config` class, to store important parameters. \n",
    "This class essentially plays the role of a dictionary."
   ]
  },
  {
   "cell_type": "code",
   "execution_count": 15,
   "id": "young-ceiling",
   "metadata": {
    "execution": {
     "iopub.execute_input": "2021-05-09T10:10:32.152178Z",
     "iopub.status.busy": "2021-05-09T10:10:32.151419Z",
     "iopub.status.idle": "2021-05-09T10:10:32.160940Z",
     "shell.execute_reply": "2021-05-09T10:10:32.160335Z"
    },
    "papermill": {
     "duration": 0.05691,
     "end_time": "2021-05-09T10:10:32.161062",
     "exception": false,
     "start_time": "2021-05-09T10:10:32.104152",
     "status": "completed"
    },
    "tags": []
   },
   "outputs": [],
   "source": [
    "class Config:\n",
    "    pass\n",
    "config = Config()\n",
    "config.lr = 0.001\n",
    "config.num_epochs = 251\n",
    "config.bs = 50"
   ]
  },
  {
   "cell_type": "markdown",
   "id": "according-mandate",
   "metadata": {
    "papermill": {
     "duration": 0.034182,
     "end_time": "2021-05-09T10:10:32.230360",
     "exception": false,
     "start_time": "2021-05-09T10:10:32.196178",
     "status": "completed"
    },
    "tags": []
   },
   "source": [
    "### Initializing data to the variables"
   ]
  },
  {
   "cell_type": "code",
   "execution_count": 16,
   "id": "academic-disposition",
   "metadata": {
    "execution": {
     "iopub.execute_input": "2021-05-09T10:10:32.304957Z",
     "iopub.status.busy": "2021-05-09T10:10:32.304310Z",
     "iopub.status.idle": "2021-05-09T10:10:32.317863Z",
     "shell.execute_reply": "2021-05-09T10:10:32.317371Z"
    },
    "papermill": {
     "duration": 0.052721,
     "end_time": "2021-05-09T10:10:32.317978",
     "exception": false,
     "start_time": "2021-05-09T10:10:32.265257",
     "status": "completed"
    },
    "tags": []
   },
   "outputs": [],
   "source": [
    "data = Data(X_train, y_train.reshape(-1,1))\n",
    "sampler = Sampler(data, config.bs, shuffle=True)\n",
    "\n",
    "dl = Dataloader(data, sampler)\n",
    "\n",
    "opt = GD(config.lr)\n",
    "loss = MSE()"
   ]
  },
  {
   "cell_type": "code",
   "execution_count": 17,
   "id": "featured-commission",
   "metadata": {
    "execution": {
     "iopub.execute_input": "2021-05-09T10:10:32.390449Z",
     "iopub.status.busy": "2021-05-09T10:10:32.389699Z",
     "iopub.status.idle": "2021-05-09T10:10:32.404536Z",
     "shell.execute_reply": "2021-05-09T10:10:32.403885Z"
    },
    "papermill": {
     "duration": 0.053009,
     "end_time": "2021-05-09T10:10:32.404653",
     "exception": false,
     "start_time": "2021-05-09T10:10:32.351644",
     "status": "completed"
    },
    "tags": []
   },
   "outputs": [],
   "source": [
    "training_xdata = X_train\n",
    "testing_xdata = X_test\n",
    "training_ydata = y_train.reshape(-1,1)\n",
    "testing_ydata = y_test.reshape(-1,1)"
   ]
  },
  {
   "cell_type": "markdown",
   "id": "played-safety",
   "metadata": {
    "papermill": {
     "duration": 0.033497,
     "end_time": "2021-05-09T10:10:32.471996",
     "exception": false,
     "start_time": "2021-05-09T10:10:32.438499",
     "status": "completed"
    },
    "tags": []
   },
   "source": [
    "### Running Models with the Training data\n",
    "Details about the network layers:\n",
    "- A first affine layer has 784 inputs and does 100 affine transforms. These are followed by a Relu\n",
    "- A second affine layer has 100 inputs from the 100 activations of the past layer, and does 100 affine transforms. These are followed by a Relu\n",
    "- A third affine layer has 100 activations and does 2 affine transformations to create an embedding for visualization. There is no non-linearity here.\n",
    "- A final \"logistic regression\" which has an affine transform from 2 inputs to 1 output, which is squeezed through a sigmoid.\n",
    "\n",
    "Help taken from Anshuman's Notebook."
   ]
  },
  {
   "cell_type": "code",
   "execution_count": 18,
   "id": "asian-bankruptcy",
   "metadata": {
    "execution": {
     "iopub.execute_input": "2021-05-09T10:10:32.545802Z",
     "iopub.status.busy": "2021-05-09T10:10:32.545192Z",
     "iopub.status.idle": "2021-05-09T10:10:32.561357Z",
     "shell.execute_reply": "2021-05-09T10:10:32.560750Z"
    },
    "papermill": {
     "duration": 0.055598,
     "end_time": "2021-05-09T10:10:32.561527",
     "exception": false,
     "start_time": "2021-05-09T10:10:32.505929",
     "status": "completed"
    },
    "tags": []
   },
   "outputs": [],
   "source": [
    "# layers for the Neural Network\n",
    "layers = [Affine(\"first\", 784, 100), Relu(\"first\"), Affine(\"second\", 100, 100), Relu(\"second\"), Affine(\"third\", 100, 2), Affine(\"final\", 2, 1), Sigmoid(\"final\")]\n",
    "model_nn = Model(layers)\n",
    "\n",
    "# layers for the Logistic Regression\n",
    "layers_lr = [Affine(\"logits\", 784, 1), Sigmoid(\"sigmoid\")]\n",
    "model_lr = Model(layers_lr)"
   ]
  },
  {
   "cell_type": "code",
   "execution_count": 19,
   "id": "removed-butler",
   "metadata": {
    "execution": {
     "iopub.execute_input": "2021-05-09T10:10:32.636914Z",
     "iopub.status.busy": "2021-05-09T10:10:32.636373Z",
     "iopub.status.idle": "2021-05-09T10:10:32.649617Z",
     "shell.execute_reply": "2021-05-09T10:10:32.650403Z"
    },
    "papermill": {
     "duration": 0.051684,
     "end_time": "2021-05-09T10:10:32.650528",
     "exception": false,
     "start_time": "2021-05-09T10:10:32.598844",
     "status": "completed"
    },
    "tags": []
   },
   "outputs": [],
   "source": [
    "# suffix _nn stands for Neural Network.\n",
    "learner_nn = Learner(loss, model_nn, opt, config.num_epochs)\n",
    "acc_nn = ClfCallback(learner_nn, config.bs, training_xdata , testing_xdata, training_ydata, testing_ydata)\n",
    "learner_nn.set_callbacks([acc_nn])"
   ]
  },
  {
   "cell_type": "code",
   "execution_count": 20,
   "id": "conceptual-throw",
   "metadata": {
    "execution": {
     "iopub.execute_input": "2021-05-09T10:10:32.721674Z",
     "iopub.status.busy": "2021-05-09T10:10:32.721116Z",
     "iopub.status.idle": "2021-05-09T10:12:52.842953Z",
     "shell.execute_reply": "2021-05-09T10:12:52.842258Z"
    },
    "papermill": {
     "duration": 140.158188,
     "end_time": "2021-05-09T10:12:52.843116",
     "exception": false,
     "start_time": "2021-05-09T10:10:32.684928",
     "status": "completed"
    },
    "tags": []
   },
   "outputs": [
    {
     "name": "stdout",
     "output_type": "stream",
     "text": [
      "====== Neural Network ======\n"
     ]
    },
    {
     "name": "stdout",
     "output_type": "stream",
     "text": [
      "Epoch 0, Loss 0.2385\n",
      "Training Accuracy: 0.6899, Testing Accuracy: 0.6809\n",
      "\n"
     ]
    },
    {
     "name": "stdout",
     "output_type": "stream",
     "text": [
      "Epoch 10, Loss 0.1193\n",
      "Training Accuracy: 0.8984, Testing Accuracy: 0.9088\n",
      "\n"
     ]
    },
    {
     "name": "stdout",
     "output_type": "stream",
     "text": [
      "Epoch 20, Loss 0.068\n",
      "Training Accuracy: 0.9278, Testing Accuracy: 0.9385\n",
      "\n"
     ]
    },
    {
     "name": "stdout",
     "output_type": "stream",
     "text": [
      "Epoch 30, Loss 0.0508\n",
      "Training Accuracy: 0.9429, Testing Accuracy: 0.9531\n",
      "\n"
     ]
    },
    {
     "name": "stdout",
     "output_type": "stream",
     "text": [
      "Epoch 40, Loss 0.0427\n",
      "Training Accuracy: 0.9520, Testing Accuracy: 0.9612\n",
      "\n"
     ]
    },
    {
     "name": "stdout",
     "output_type": "stream",
     "text": [
      "Epoch 50, Loss 0.038\n",
      "Training Accuracy: 0.9572, Testing Accuracy: 0.9632\n",
      "\n"
     ]
    },
    {
     "name": "stdout",
     "output_type": "stream",
     "text": [
      "Epoch 60, Loss 0.0349\n",
      "Training Accuracy: 0.9600, Testing Accuracy: 0.9652\n",
      "\n"
     ]
    },
    {
     "name": "stdout",
     "output_type": "stream",
     "text": [
      "Epoch 70, Loss 0.0327\n",
      "Training Accuracy: 0.9621, Testing Accuracy: 0.9662\n",
      "\n"
     ]
    },
    {
     "name": "stdout",
     "output_type": "stream",
     "text": [
      "Epoch 80, Loss 0.031\n",
      "Training Accuracy: 0.9649, Testing Accuracy: 0.9667\n",
      "\n"
     ]
    },
    {
     "name": "stdout",
     "output_type": "stream",
     "text": [
      "Epoch 90, Loss 0.0296\n",
      "Training Accuracy: 0.9656, Testing Accuracy: 0.9677\n",
      "\n"
     ]
    },
    {
     "name": "stdout",
     "output_type": "stream",
     "text": [
      "Epoch 100, Loss 0.0284\n",
      "Training Accuracy: 0.9670, Testing Accuracy: 0.9677\n",
      "\n"
     ]
    },
    {
     "name": "stdout",
     "output_type": "stream",
     "text": [
      "Epoch 110, Loss 0.0274\n",
      "Training Accuracy: 0.9679, Testing Accuracy: 0.9682\n",
      "\n"
     ]
    },
    {
     "name": "stdout",
     "output_type": "stream",
     "text": [
      "Epoch 120, Loss 0.0265\n",
      "Training Accuracy: 0.9698, Testing Accuracy: 0.9682\n",
      "\n"
     ]
    },
    {
     "name": "stdout",
     "output_type": "stream",
     "text": [
      "Epoch 130, Loss 0.0257\n",
      "Training Accuracy: 0.9707, Testing Accuracy: 0.9698\n",
      "\n"
     ]
    },
    {
     "name": "stdout",
     "output_type": "stream",
     "text": [
      "Epoch 140, Loss 0.025\n",
      "Training Accuracy: 0.9716, Testing Accuracy: 0.9703\n",
      "\n"
     ]
    },
    {
     "name": "stdout",
     "output_type": "stream",
     "text": [
      "Epoch 150, Loss 0.0244\n",
      "Training Accuracy: 0.9721, Testing Accuracy: 0.9703\n",
      "\n"
     ]
    },
    {
     "name": "stdout",
     "output_type": "stream",
     "text": [
      "Epoch 160, Loss 0.0238\n",
      "Training Accuracy: 0.9724, Testing Accuracy: 0.9703\n",
      "\n"
     ]
    },
    {
     "name": "stdout",
     "output_type": "stream",
     "text": [
      "Epoch 170, Loss 0.0233\n",
      "Training Accuracy: 0.9730, Testing Accuracy: 0.9698\n",
      "\n"
     ]
    },
    {
     "name": "stdout",
     "output_type": "stream",
     "text": [
      "Epoch 180, Loss 0.0228\n",
      "Training Accuracy: 0.9733, Testing Accuracy: 0.9698\n",
      "\n"
     ]
    },
    {
     "name": "stdout",
     "output_type": "stream",
     "text": [
      "Epoch 190, Loss 0.0223\n",
      "Training Accuracy: 0.9738, Testing Accuracy: 0.9698\n",
      "\n"
     ]
    },
    {
     "name": "stdout",
     "output_type": "stream",
     "text": [
      "Epoch 200, Loss 0.0219\n",
      "Training Accuracy: 0.9745, Testing Accuracy: 0.9693\n",
      "\n"
     ]
    },
    {
     "name": "stdout",
     "output_type": "stream",
     "text": [
      "Epoch 210, Loss 0.0215\n",
      "Training Accuracy: 0.9748, Testing Accuracy: 0.9693\n",
      "\n"
     ]
    },
    {
     "name": "stdout",
     "output_type": "stream",
     "text": [
      "Epoch 220, Loss 0.0211\n",
      "Training Accuracy: 0.9750, Testing Accuracy: 0.9693\n",
      "\n"
     ]
    },
    {
     "name": "stdout",
     "output_type": "stream",
     "text": [
      "Epoch 230, Loss 0.0207\n",
      "Training Accuracy: 0.9757, Testing Accuracy: 0.9698\n",
      "\n"
     ]
    },
    {
     "name": "stdout",
     "output_type": "stream",
     "text": [
      "Epoch 240, Loss 0.0204\n",
      "Training Accuracy: 0.9762, Testing Accuracy: 0.9703\n",
      "\n"
     ]
    },
    {
     "name": "stdout",
     "output_type": "stream",
     "text": [
      "Epoch 250, Loss 0.02\n",
      "Training Accuracy: 0.9767, Testing Accuracy: 0.9713\n",
      "\n"
     ]
    },
    {
     "data": {
      "text/plain": [
       "0.005815672310358077"
      ]
     },
     "execution_count": 20,
     "metadata": {},
     "output_type": "execute_result"
    }
   ],
   "source": [
    "print(\"====== Neural Network ======\")\n",
    "learner_nn.train_loop(dl)"
   ]
  },
  {
   "cell_type": "markdown",
   "id": "competent-suffering",
   "metadata": {
    "papermill": {
     "duration": 0.04615,
     "end_time": "2021-05-09T10:12:52.928269",
     "exception": false,
     "start_time": "2021-05-09T10:12:52.882119",
     "status": "completed"
    },
    "tags": []
   },
   "source": [
    "### Logistic Regression based Implementation."
   ]
  },
  {
   "cell_type": "code",
   "execution_count": 21,
   "id": "qualified-psychiatry",
   "metadata": {
    "execution": {
     "iopub.execute_input": "2021-05-09T10:12:53.031678Z",
     "iopub.status.busy": "2021-05-09T10:12:53.027337Z",
     "iopub.status.idle": "2021-05-09T10:12:53.038729Z",
     "shell.execute_reply": "2021-05-09T10:12:53.039157Z"
    },
    "papermill": {
     "duration": 0.057988,
     "end_time": "2021-05-09T10:12:53.039320",
     "exception": false,
     "start_time": "2021-05-09T10:12:52.981332",
     "status": "completed"
    },
    "tags": []
   },
   "outputs": [],
   "source": [
    "learner_lr = Learner(loss, model_lr, opt, config.num_epochs)\n",
    "acc_lr = ClfCallback(learner_lr, config.bs, training_xdata , testing_xdata, training_ydata, testing_ydata)\n",
    "learner_lr.set_callbacks([acc_lr])"
   ]
  },
  {
   "cell_type": "code",
   "execution_count": 22,
   "id": "average-outside",
   "metadata": {
    "execution": {
     "iopub.execute_input": "2021-05-09T10:12:53.130936Z",
     "iopub.status.busy": "2021-05-09T10:12:53.121827Z",
     "iopub.status.idle": "2021-05-09T10:13:12.803366Z",
     "shell.execute_reply": "2021-05-09T10:13:12.804003Z"
    },
    "papermill": {
     "duration": 19.722204,
     "end_time": "2021-05-09T10:13:12.804136",
     "exception": false,
     "start_time": "2021-05-09T10:12:53.081932",
     "status": "completed"
    },
    "tags": []
   },
   "outputs": [
    {
     "name": "stdout",
     "output_type": "stream",
     "text": [
      "====== Logistic Regression ======\n",
      "Epoch 0, Loss 0.2286\n",
      "Training Accuracy: 0.7404, Testing Accuracy: 0.7460\n",
      "\n"
     ]
    },
    {
     "name": "stdout",
     "output_type": "stream",
     "text": [
      "Epoch 10, Loss 0.102\n",
      "Training Accuracy: 0.9091, Testing Accuracy: 0.9173\n",
      "\n"
     ]
    },
    {
     "name": "stdout",
     "output_type": "stream",
     "text": [
      "Epoch 20, Loss 0.0789\n",
      "Training Accuracy: 0.9280, Testing Accuracy: 0.9370\n",
      "\n"
     ]
    },
    {
     "name": "stdout",
     "output_type": "stream",
     "text": [
      "Epoch 30, Loss 0.0682\n",
      "Training Accuracy: 0.9369, Testing Accuracy: 0.9461\n",
      "\n"
     ]
    },
    {
     "name": "stdout",
     "output_type": "stream",
     "text": [
      "Epoch 40, Loss 0.0617\n",
      "Training Accuracy: 0.9408, Testing Accuracy: 0.9511\n",
      "\n"
     ]
    },
    {
     "name": "stdout",
     "output_type": "stream",
     "text": [
      "Epoch 50, Loss 0.0572\n",
      "Training Accuracy: 0.9442, Testing Accuracy: 0.9541\n",
      "\n"
     ]
    },
    {
     "name": "stdout",
     "output_type": "stream",
     "text": [
      "Epoch 60, Loss 0.054\n",
      "Training Accuracy: 0.9473, Testing Accuracy: 0.9551\n",
      "\n"
     ]
    },
    {
     "name": "stdout",
     "output_type": "stream",
     "text": [
      "Epoch 70, Loss 0.0514\n",
      "Training Accuracy: 0.9493, Testing Accuracy: 0.9587\n",
      "\n"
     ]
    },
    {
     "name": "stdout",
     "output_type": "stream",
     "text": [
      "Epoch 80, Loss 0.0494\n",
      "Training Accuracy: 0.9507, Testing Accuracy: 0.9592\n",
      "\n"
     ]
    },
    {
     "name": "stdout",
     "output_type": "stream",
     "text": [
      "Epoch 90, Loss 0.0477\n",
      "Training Accuracy: 0.9523, Testing Accuracy: 0.9602\n",
      "\n"
     ]
    },
    {
     "name": "stdout",
     "output_type": "stream",
     "text": [
      "Epoch 100, Loss 0.0462\n",
      "Training Accuracy: 0.9531, Testing Accuracy: 0.9612\n",
      "\n"
     ]
    },
    {
     "name": "stdout",
     "output_type": "stream",
     "text": [
      "Epoch 110, Loss 0.045\n",
      "Training Accuracy: 0.9542, Testing Accuracy: 0.9612\n",
      "\n"
     ]
    },
    {
     "name": "stdout",
     "output_type": "stream",
     "text": [
      "Epoch 120, Loss 0.0439\n",
      "Training Accuracy: 0.9551, Testing Accuracy: 0.9622\n",
      "\n"
     ]
    },
    {
     "name": "stdout",
     "output_type": "stream",
     "text": [
      "Epoch 130, Loss 0.043\n",
      "Training Accuracy: 0.9559, Testing Accuracy: 0.9637\n",
      "\n"
     ]
    },
    {
     "name": "stdout",
     "output_type": "stream",
     "text": [
      "Epoch 140, Loss 0.0422\n",
      "Training Accuracy: 0.9564, Testing Accuracy: 0.9642\n",
      "\n"
     ]
    },
    {
     "name": "stdout",
     "output_type": "stream",
     "text": [
      "Epoch 150, Loss 0.0414\n",
      "Training Accuracy: 0.9569, Testing Accuracy: 0.9647\n",
      "\n"
     ]
    },
    {
     "name": "stdout",
     "output_type": "stream",
     "text": [
      "Epoch 160, Loss 0.0407\n",
      "Training Accuracy: 0.9578, Testing Accuracy: 0.9652\n",
      "\n"
     ]
    },
    {
     "name": "stdout",
     "output_type": "stream",
     "text": [
      "Epoch 170, Loss 0.0401\n",
      "Training Accuracy: 0.9583, Testing Accuracy: 0.9662\n",
      "\n"
     ]
    },
    {
     "name": "stdout",
     "output_type": "stream",
     "text": [
      "Epoch 180, Loss 0.0395\n",
      "Training Accuracy: 0.9594, Testing Accuracy: 0.9667\n",
      "\n"
     ]
    },
    {
     "name": "stdout",
     "output_type": "stream",
     "text": [
      "Epoch 190, Loss 0.039\n",
      "Training Accuracy: 0.9598, Testing Accuracy: 0.9667\n",
      "\n"
     ]
    },
    {
     "name": "stdout",
     "output_type": "stream",
     "text": [
      "Epoch 200, Loss 0.0385\n",
      "Training Accuracy: 0.9602, Testing Accuracy: 0.9667\n",
      "\n"
     ]
    },
    {
     "name": "stdout",
     "output_type": "stream",
     "text": [
      "Epoch 210, Loss 0.0381\n",
      "Training Accuracy: 0.9607, Testing Accuracy: 0.9667\n",
      "\n"
     ]
    },
    {
     "name": "stdout",
     "output_type": "stream",
     "text": [
      "Epoch 220, Loss 0.0377\n",
      "Training Accuracy: 0.9609, Testing Accuracy: 0.9667\n",
      "\n"
     ]
    },
    {
     "name": "stdout",
     "output_type": "stream",
     "text": [
      "Epoch 230, Loss 0.0373\n",
      "Training Accuracy: 0.9612, Testing Accuracy: 0.9667\n",
      "\n"
     ]
    },
    {
     "name": "stdout",
     "output_type": "stream",
     "text": [
      "Epoch 240, Loss 0.0369\n",
      "Training Accuracy: 0.9617, Testing Accuracy: 0.9662\n",
      "\n"
     ]
    },
    {
     "name": "stdout",
     "output_type": "stream",
     "text": [
      "Epoch 250, Loss 0.0366\n",
      "Training Accuracy: 0.9619, Testing Accuracy: 0.9662\n",
      "\n"
     ]
    },
    {
     "data": {
      "text/plain": [
       "0.04086349803706454"
      ]
     },
     "execution_count": 22,
     "metadata": {},
     "output_type": "execute_result"
    }
   ],
   "source": [
    "print(\"====== Logistic Regression ======\")\n",
    "learner_lr.train_loop(dl)"
   ]
  },
  {
   "cell_type": "markdown",
   "id": "adjusted-possible",
   "metadata": {
    "papermill": {
     "duration": 0.050954,
     "end_time": "2021-05-09T10:13:12.905713",
     "exception": false,
     "start_time": "2021-05-09T10:13:12.854759",
     "status": "completed"
    },
    "tags": []
   },
   "source": [
    "### Comparing results of NN and LR"
   ]
  },
  {
   "cell_type": "code",
   "execution_count": 23,
   "id": "mental-multimedia",
   "metadata": {
    "execution": {
     "iopub.execute_input": "2021-05-09T10:13:13.011590Z",
     "iopub.status.busy": "2021-05-09T10:13:13.009907Z",
     "iopub.status.idle": "2021-05-09T10:13:13.289334Z",
     "shell.execute_reply": "2021-05-09T10:13:13.288817Z"
    },
    "papermill": {
     "duration": 0.335077,
     "end_time": "2021-05-09T10:13:13.289452",
     "exception": false,
     "start_time": "2021-05-09T10:13:12.954375",
     "status": "completed"
    },
    "tags": []
   },
   "outputs": [
    {
     "data": {
      "text/plain": [
       "<matplotlib.legend.Legend at 0x7ff920981128>"
      ]
     },
     "execution_count": 23,
     "metadata": {},
     "output_type": "execute_result"
    },
    {
     "data": {
      "image/png": "[encoded data removed]",
      "text/plain": [
       "<Figure size 1080x720 with 1 Axes>"
      ]
     },
     "metadata": {
      "needs_background": "light"
     },
     "output_type": "display_data"
    }
   ],
   "source": [
    "plt.figure(figsize=(15,10))\n",
    "\n",
    "# Neural Network plots\n",
    "plt.plot(acc_nn.accuracies, 'r-', label = \"Training Accuracies - NN\")\n",
    "plt.plot(acc_nn.test_accuracies, 'g-', label = \"Testing Accuracies - NN\")\n",
    "\n",
    "# Logistic Regression plots\n",
    "plt.plot(acc_lr.accuracies, 'k-', label = \"Training Accuracies - LR\")\n",
    "plt.plot(acc_lr.test_accuracies, 'b-', label = \"Testing Accuracies - LR\")\n",
    "\n",
    "plt.ylim(0.8, 1)\n",
    "\n",
    "plt.legend()\n",
    "\n"
   ]
  },
  {
   "cell_type": "markdown",
   "id": "sexual-flesh",
   "metadata": {
    "papermill": {
     "duration": 0.049474,
     "end_time": "2021-05-09T10:13:13.395664",
     "exception": false,
     "start_time": "2021-05-09T10:13:13.346190",
     "status": "completed"
    },
    "tags": []
   },
   "source": [
    "### From the plot, we can observe the following:\n",
    "- Neural Network achieves higher accuracy than the Logistic Regression model.\n",
    "- This apparently, is because of overfitting, i.e. NN captures more noise than data.\n",
    "- Testing accuracy of NN drops below the Training accuracy at higher epochs. This explains the over-fitting on training data.\n",
    "- Logistic Regression gives a reliable accuracy, without the above mentioned problem.\n"
   ]
  },
  {
   "cell_type": "markdown",
   "id": "institutional-pacific",
   "metadata": {
    "papermill": {
     "duration": 0.058835,
     "end_time": "2021-05-09T10:13:13.511232",
     "exception": false,
     "start_time": "2021-05-09T10:13:13.452397",
     "status": "completed"
    },
    "tags": []
   },
   "source": [
    "### Moving till the last but one layer (excluding it).\n",
    "#### Plotting the outputs of this layer of the NN."
   ]
  },
  {
   "cell_type": "code",
   "execution_count": 24,
   "id": "economic-server",
   "metadata": {
    "execution": {
     "iopub.execute_input": "2021-05-09T10:13:13.638104Z",
     "iopub.status.busy": "2021-05-09T10:13:13.631133Z",
     "iopub.status.idle": "2021-05-09T10:13:13.642818Z",
     "shell.execute_reply": "2021-05-09T10:13:13.643272Z"
    },
    "papermill": {
     "duration": 0.074208,
     "end_time": "2021-05-09T10:13:13.643447",
     "exception": false,
     "start_time": "2021-05-09T10:13:13.569239",
     "status": "completed"
    },
    "tags": []
   },
   "outputs": [],
   "source": [
    "model_new = Model(layers[:-2])"
   ]
  },
  {
   "cell_type": "code",
   "execution_count": 25,
   "id": "varied-upgrade",
   "metadata": {
    "execution": {
     "iopub.execute_input": "2021-05-09T10:13:13.751626Z",
     "iopub.status.busy": "2021-05-09T10:13:13.751003Z",
     "iopub.status.idle": "2021-05-09T10:13:13.782027Z",
     "shell.execute_reply": "2021-05-09T10:13:13.782705Z"
    },
    "papermill": {
     "duration": 0.086406,
     "end_time": "2021-05-09T10:13:13.782843",
     "exception": false,
     "start_time": "2021-05-09T10:13:13.696437",
     "status": "completed"
    },
    "tags": []
   },
   "outputs": [],
   "source": [
    "plot_testing = model_new(testing_xdata)"
   ]
  },
  {
   "cell_type": "code",
   "execution_count": 26,
   "id": "specific-handling",
   "metadata": {
    "execution": {
     "iopub.execute_input": "2021-05-09T10:13:13.908286Z",
     "iopub.status.busy": "2021-05-09T10:13:13.907437Z",
     "iopub.status.idle": "2021-05-09T10:13:14.158853Z",
     "shell.execute_reply": "2021-05-09T10:13:14.158353Z"
    },
    "papermill": {
     "duration": 0.306589,
     "end_time": "2021-05-09T10:13:14.158986",
     "exception": false,
     "start_time": "2021-05-09T10:13:13.852397",
     "status": "completed"
    },
    "tags": []
   },
   "outputs": [
    {
     "data": {
      "text/plain": [
       "Text(0.5, 1.0, 'Outputs')"
      ]
     },
     "execution_count": 26,
     "metadata": {},
     "output_type": "execute_result"
    },
    {
     "data": {
      "image/png": "[encoded data removed]",
      "text/plain": [
       "<Figure size 576x504 with 1 Axes>"
      ]
     },
     "metadata": {
      "needs_background": "light"
     },
     "output_type": "display_data"
    }
   ],
   "source": [
    "plt.figure(figsize=(8,7))\n",
    "plt.scatter(plot_testing[:,0], plot_testing[:,1], alpha = 0.1, c = y_test.ravel());\n",
    "plt.title('Outputs')"
   ]
  },
  {
   "cell_type": "markdown",
   "id": "described-knowing",
   "metadata": {
    "papermill": {
     "duration": 0.051054,
     "end_time": "2021-05-09T10:13:14.265967",
     "exception": false,
     "start_time": "2021-05-09T10:13:14.214913",
     "status": "completed"
    },
    "tags": []
   },
   "source": [
    "### Plotting probability contours"
   ]
  },
  {
   "cell_type": "code",
   "execution_count": 27,
   "id": "needed-growing",
   "metadata": {
    "execution": {
     "iopub.execute_input": "2021-05-09T10:13:14.387179Z",
     "iopub.status.busy": "2021-05-09T10:13:14.379988Z",
     "iopub.status.idle": "2021-05-09T10:13:14.389590Z",
     "shell.execute_reply": "2021-05-09T10:13:14.389174Z"
    },
    "papermill": {
     "duration": 0.071408,
     "end_time": "2021-05-09T10:13:14.389701",
     "exception": false,
     "start_time": "2021-05-09T10:13:14.318293",
     "status": "completed"
    },
    "tags": []
   },
   "outputs": [],
   "source": [
    "model_prob = Model(layers[-2:]) "
   ]
  },
  {
   "cell_type": "code",
   "execution_count": 28,
   "id": "introductory-enforcement",
   "metadata": {
    "execution": {
     "iopub.execute_input": "2021-05-09T10:13:14.499891Z",
     "iopub.status.busy": "2021-05-09T10:13:14.499324Z",
     "iopub.status.idle": "2021-05-09T10:13:14.512901Z",
     "shell.execute_reply": "2021-05-09T10:13:14.513303Z"
    },
    "papermill": {
     "duration": 0.072046,
     "end_time": "2021-05-09T10:13:14.513433",
     "exception": false,
     "start_time": "2021-05-09T10:13:14.441387",
     "status": "completed"
    },
    "tags": []
   },
   "outputs": [],
   "source": [
    "# Adjust the x and y ranges according to the above generated plot.\n",
    "x_range = np.linspace(-4, 1, 100) \n",
    "y_range = np.linspace(-6, 6, 100) \n",
    "x_grid, y_grid = np.meshgrid(x_range, y_range) # x_grid and y_grig are of size 100 X 100\n",
    "\n",
    "# converting x_grid and y_grid to continuous arrays\n",
    "x_grid_flat = np.ravel(x_grid)\n",
    "y_grid_flat = np.ravel(y_grid)\n",
    "\n",
    "# The last layer of the current model takes two columns as input. Hence transpose of np.vstack() is required.\n",
    "X = np.vstack((x_grid_flat, y_grid_flat)).T\n",
    "\n",
    "# x_grid and y_grid are of size 100 x 100\n",
    "probability_contour = model_prob(X).reshape(100,100) "
   ]
  },
  {
   "cell_type": "code",
   "execution_count": 29,
   "id": "understood-landing",
   "metadata": {
    "execution": {
     "iopub.execute_input": "2021-05-09T10:13:14.634740Z",
     "iopub.status.busy": "2021-05-09T10:13:14.634190Z",
     "iopub.status.idle": "2021-05-09T10:13:14.907118Z",
     "shell.execute_reply": "2021-05-09T10:13:14.906215Z"
    },
    "papermill": {
     "duration": 0.337672,
     "end_time": "2021-05-09T10:13:14.907306",
     "exception": false,
     "start_time": "2021-05-09T10:13:14.569634",
     "status": "completed"
    },
    "tags": []
   },
   "outputs": [
    {
     "data": {
      "image/png": "[encoded data removed]",
      "text/plain": [
       "<Figure size 720x648 with 1 Axes>"
      ]
     },
     "metadata": {
      "needs_background": "light"
     },
     "output_type": "display_data"
    }
   ],
   "source": [
    "plt.figure(figsize=(10,9))\n",
    "plt.scatter(plot_testing[:,0], plot_testing[:,1], alpha = 0.1, c = y_test.ravel())\n",
    "contours = plt.contour(x_grid,y_grid,probability_contour)\n",
    "plt.title('Probability Contours')\n",
    "plt.clabel(contours, inline = True );"
   ]
  }
 ],
 "metadata": {
  "kernelspec": {
   "display_name": "Python 3",
   "language": "python",
   "name": "python3"
  },
  "language_info": {
   "codemirror_mode": {
    "name": "ipython",
    "version": 3
   },
   "file_extension": ".py",
   "mimetype": "text/x-python",
   "name": "python",
   "nbconvert_exporter": "python",
   "pygments_lexer": "ipython3",
   "version": "3.6.13"
  },
  "papermill": {
   "duration": 506.398021,
   "end_time": "2021-05-09T10:13:15.271461",
   "environment_variables": {},
   "exception": null,
   "input_path": "2020-08-11-NeuralNetwork.ipynb",
   "output_path": "2020-08-11-NeuralNetwork.ipynb",
   "parameters": {},
   "start_time": "2021-05-09T10:04:48.873440",
   "version": "2.1.2"
  }
 },
 "nbformat": 4,
 "nbformat_minor": 5
}