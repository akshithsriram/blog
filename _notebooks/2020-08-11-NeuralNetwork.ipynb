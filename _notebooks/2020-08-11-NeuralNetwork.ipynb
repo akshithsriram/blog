{
 "cells": [
  {
   "cell_type": "markdown",
   "metadata": {
    "papermill": {
     "duration": 0.026345,
     "end_time": "2021-01-12T20:23:00.965939",
     "exception": false,
     "start_time": "2021-01-12T20:23:00.939594",
     "status": "completed"
    },
    "tags": []
   },
   "source": [
    "# \"A Basic Neural Network: Differentiate Hand-Written Digits\"\n",
    "\n",
    "- badges: true\n",
    "- author: Akshith Sriram"
   ]
  },
  {
   "cell_type": "markdown",
   "metadata": {
    "papermill": {
     "duration": 0.022144,
     "end_time": "2021-01-12T20:23:01.010892",
     "exception": false,
     "start_time": "2021-01-12T20:23:00.988748",
     "status": "completed"
    },
    "tags": []
   },
   "source": [
    "### Key Objectives:\n",
    "- Building a neural network that differentiates two hand-written digits 3 and 8.\n",
    "- Comparing the results of this Neural Network (NN) to that of a Logistic Regression (LR) model.\n",
    "\n",
    "### Requirements:\n",
    "- 'Kudzu' : A neural network library that was designed during our course by [Univ.AI](www.univ.ai). \n",
    "- MNIST Database\n",
    "\n",
    "If MNIST is not installed, use the command `!pip install mnist` given below.\n",
    "It can be run both from the command line and Jupyter Notebook."
   ]
  },
  {
   "cell_type": "code",
   "execution_count": 1,
   "metadata": {
    "execution": {
     "iopub.execute_input": "2021-01-12T20:23:01.067291Z",
     "iopub.status.busy": "2021-01-12T20:23:01.066704Z",
     "iopub.status.idle": "2021-01-12T20:23:02.408334Z",
     "shell.execute_reply": "2021-01-12T20:23:02.407798Z"
    },
    "papermill": {
     "duration": 1.37554,
     "end_time": "2021-01-12T20:23:02.408514",
     "exception": false,
     "start_time": "2021-01-12T20:23:01.032974",
     "status": "completed"
    },
    "tags": []
   },
   "outputs": [
    {
     "name": "stdout",
     "output_type": "stream",
     "text": [
      "Collecting mnist\r\n"
     ]
    },
    {
     "name": "stdout",
     "output_type": "stream",
     "text": [
      "  Downloading mnist-0.2.2-py2.py3-none-any.whl (3.5 kB)\r\n",
      "Requirement already satisfied: numpy in /opt/hostedtoolcache/Python/3.6.12/x64/lib/python3.6/site-packages (from mnist) (1.19.5)\r\n"
     ]
    },
    {
     "name": "stdout",
     "output_type": "stream",
     "text": [
      "Installing collected packages: mnist\r\n"
     ]
    },
    {
     "name": "stdout",
     "output_type": "stream",
     "text": [
      "Successfully installed mnist-0.2.2\r\n",
      "\u001b[33mWARNING: You are using pip version 20.3.1; however, version 20.3.3 is available.\r\n",
      "You should consider upgrading via the '/opt/hostedtoolcache/Python/3.6.12/x64/bin/python -m pip install --upgrade pip' command.\u001b[0m\r\n"
     ]
    }
   ],
   "source": [
    "!pip install mnist "
   ]
  },
  {
   "cell_type": "markdown",
   "metadata": {
    "papermill": {
     "duration": 0.023368,
     "end_time": "2021-01-12T20:23:02.455733",
     "exception": false,
     "start_time": "2021-01-12T20:23:02.432365",
     "status": "completed"
    },
    "tags": []
   },
   "source": [
    "#### Importing necessary libraries"
   ]
  },
  {
   "cell_type": "code",
   "execution_count": 2,
   "metadata": {
    "execution": {
     "iopub.execute_input": "2021-01-12T20:23:02.509773Z",
     "iopub.status.busy": "2021-01-12T20:23:02.509209Z",
     "iopub.status.idle": "2021-01-12T20:23:03.036905Z",
     "shell.execute_reply": "2021-01-12T20:23:03.036434Z"
    },
    "papermill": {
     "duration": 0.557926,
     "end_time": "2021-01-12T20:23:03.037043",
     "exception": false,
     "start_time": "2021-01-12T20:23:02.479117",
     "status": "completed"
    },
    "tags": []
   },
   "outputs": [],
   "source": [
    "%load_ext autoreload\n",
    "%autoreload 2\n",
    "\n",
    "%matplotlib inline\n",
    "import matplotlib.pyplot as plt\n",
    "\n",
    "import numpy as np\n",
    "import pandas as pd"
   ]
  },
  {
   "cell_type": "markdown",
   "metadata": {
    "papermill": {
     "duration": 0.023669,
     "end_time": "2021-01-12T20:23:03.084289",
     "exception": false,
     "start_time": "2021-01-12T20:23:03.060620",
     "status": "completed"
    },
    "tags": []
   },
   "source": [
    "### Preparing the Data"
   ]
  },
  {
   "cell_type": "code",
   "execution_count": 3,
   "metadata": {
    "execution": {
     "iopub.execute_input": "2021-01-12T20:23:03.136111Z",
     "iopub.status.busy": "2021-01-12T20:23:03.135591Z",
     "iopub.status.idle": "2021-01-12T20:23:03.146273Z",
     "shell.execute_reply": "2021-01-12T20:23:03.145862Z"
    },
    "papermill": {
     "duration": 0.039002,
     "end_time": "2021-01-12T20:23:03.146396",
     "exception": false,
     "start_time": "2021-01-12T20:23:03.107394",
     "status": "completed"
    },
    "tags": []
   },
   "outputs": [],
   "source": [
    "import mnist"
   ]
  },
  {
   "cell_type": "code",
   "execution_count": 4,
   "metadata": {
    "execution": {
     "iopub.execute_input": "2021-01-12T20:23:03.200719Z",
     "iopub.status.busy": "2021-01-12T20:23:03.200193Z",
     "iopub.status.idle": "2021-01-12T20:23:03.911907Z",
     "shell.execute_reply": "2021-01-12T20:23:03.911378Z"
    },
    "papermill": {
     "duration": 0.742178,
     "end_time": "2021-01-12T20:23:03.912060",
     "exception": false,
     "start_time": "2021-01-12T20:23:03.169882",
     "status": "completed"
    },
    "tags": []
   },
   "outputs": [],
   "source": [
    "train_images = mnist.train_images()\n",
    "train_labels = mnist.train_labels()"
   ]
  },
  {
   "cell_type": "code",
   "execution_count": 5,
   "metadata": {
    "execution": {
     "iopub.execute_input": "2021-01-12T20:23:03.964951Z",
     "iopub.status.busy": "2021-01-12T20:23:03.964450Z",
     "iopub.status.idle": "2021-01-12T20:23:03.976444Z",
     "shell.execute_reply": "2021-01-12T20:23:03.976011Z"
    },
    "papermill": {
     "duration": 0.040914,
     "end_time": "2021-01-12T20:23:03.976562",
     "exception": false,
     "start_time": "2021-01-12T20:23:03.935648",
     "status": "completed"
    },
    "tags": []
   },
   "outputs": [
    {
     "data": {
      "text/plain": [
       "((60000, 28, 28), (60000,))"
      ]
     },
     "execution_count": 5,
     "metadata": {},
     "output_type": "execute_result"
    }
   ],
   "source": [
    "train_images.shape, train_labels.shape"
   ]
  },
  {
   "cell_type": "code",
   "execution_count": 6,
   "metadata": {
    "execution": {
     "iopub.execute_input": "2021-01-12T20:23:04.027441Z",
     "iopub.status.busy": "2021-01-12T20:23:04.026947Z",
     "iopub.status.idle": "2021-01-12T20:23:04.409608Z",
     "shell.execute_reply": "2021-01-12T20:23:04.409054Z"
    },
    "papermill": {
     "duration": 0.409612,
     "end_time": "2021-01-12T20:23:04.409763",
     "exception": false,
     "start_time": "2021-01-12T20:23:04.000151",
     "status": "completed"
    },
    "tags": []
   },
   "outputs": [],
   "source": [
    "test_images = mnist.test_images()\n",
    "test_labels = mnist.test_labels()"
   ]
  },
  {
   "cell_type": "code",
   "execution_count": 7,
   "metadata": {
    "execution": {
     "iopub.execute_input": "2021-01-12T20:23:04.464930Z",
     "iopub.status.busy": "2021-01-12T20:23:04.464418Z",
     "iopub.status.idle": "2021-01-12T20:23:04.474958Z",
     "shell.execute_reply": "2021-01-12T20:23:04.474522Z"
    },
    "papermill": {
     "duration": 0.041019,
     "end_time": "2021-01-12T20:23:04.475079",
     "exception": false,
     "start_time": "2021-01-12T20:23:04.434060",
     "status": "completed"
    },
    "tags": []
   },
   "outputs": [
    {
     "data": {
      "text/plain": [
       "((10000, 28, 28), (10000,))"
      ]
     },
     "execution_count": 7,
     "metadata": {},
     "output_type": "execute_result"
    }
   ],
   "source": [
    "test_images.shape, test_labels.shape"
   ]
  },
  {
   "cell_type": "code",
   "execution_count": 8,
   "metadata": {
    "execution": {
     "iopub.execute_input": "2021-01-12T20:23:04.529436Z",
     "iopub.status.busy": "2021-01-12T20:23:04.528878Z",
     "iopub.status.idle": "2021-01-12T20:23:04.656536Z",
     "shell.execute_reply": "2021-01-12T20:23:04.656942Z"
    },
    "papermill": {
     "duration": 0.158104,
     "end_time": "2021-01-12T20:23:04.657085",
     "exception": false,
     "start_time": "2021-01-12T20:23:04.498981",
     "status": "completed"
    },
    "tags": []
   },
   "outputs": [
    {
     "name": "stdout",
     "output_type": "stream",
     "text": [
      "2\n"
     ]
    },
    {
     "data": {
      "text/plain": [
       "<matplotlib.image.AxesImage at 0x7effbcbc3390>"
      ]
     },
     "execution_count": 8,
     "metadata": {},
     "output_type": "execute_result"
    },
    {
     "data": {
      "image/png": "[encoded data removed]",
      "text/plain": [
       "<Figure size 432x288 with 1 Axes>"
      ]
     },
     "metadata": {
      "needs_background": "light"
     },
     "output_type": "display_data"
    }
   ],
   "source": [
    "image_index = 7776 # You may select anything up to 60,000\n",
    "print(train_labels[image_index]) \n",
    "plt.imshow(train_images[image_index], cmap='Greys')"
   ]
  },
  {
   "cell_type": "markdown",
   "metadata": {
    "papermill": {
     "duration": 0.025351,
     "end_time": "2021-01-12T20:23:04.707484",
     "exception": false,
     "start_time": "2021-01-12T20:23:04.682133",
     "status": "completed"
    },
    "tags": []
   },
   "source": [
    "## Filter data to get 3 and 8 out"
   ]
  },
  {
   "cell_type": "code",
   "execution_count": 9,
   "metadata": {
    "execution": {
     "iopub.execute_input": "2021-01-12T20:23:04.764266Z",
     "iopub.status.busy": "2021-01-12T20:23:04.763753Z",
     "iopub.status.idle": "2021-01-12T20:23:04.777992Z",
     "shell.execute_reply": "2021-01-12T20:23:04.778423Z"
    },
    "papermill": {
     "duration": 0.046252,
     "end_time": "2021-01-12T20:23:04.778567",
     "exception": false,
     "start_time": "2021-01-12T20:23:04.732315",
     "status": "completed"
    },
    "tags": []
   },
   "outputs": [],
   "source": [
    "train_filter = np.where((train_labels == 3 ) | (train_labels == 8))\n",
    "test_filter = np.where((test_labels == 3) | (test_labels == 8))\n",
    "X_train, y_train = train_images[train_filter], train_labels[train_filter]\n",
    "X_test, y_test = test_images[test_filter], test_labels[test_filter]"
   ]
  },
  {
   "cell_type": "markdown",
   "metadata": {
    "papermill": {
     "duration": 0.025124,
     "end_time": "2021-01-12T20:23:04.828700",
     "exception": false,
     "start_time": "2021-01-12T20:23:04.803576",
     "status": "completed"
    },
    "tags": []
   },
   "source": [
    "We normalize the pixel values in the 0 to 1 range"
   ]
  },
  {
   "cell_type": "code",
   "execution_count": 10,
   "metadata": {
    "execution": {
     "iopub.execute_input": "2021-01-12T20:23:04.894065Z",
     "iopub.status.busy": "2021-01-12T20:23:04.887783Z",
     "iopub.status.idle": "2021-01-12T20:23:04.927744Z",
     "shell.execute_reply": "2021-01-12T20:23:04.928203Z"
    },
    "papermill": {
     "duration": 0.074823,
     "end_time": "2021-01-12T20:23:04.928374",
     "exception": false,
     "start_time": "2021-01-12T20:23:04.853551",
     "status": "completed"
    },
    "tags": []
   },
   "outputs": [],
   "source": [
    "X_train = X_train/255.\n",
    "X_test = X_test/255."
   ]
  },
  {
   "cell_type": "markdown",
   "metadata": {
    "papermill": {
     "duration": 0.024784,
     "end_time": "2021-01-12T20:23:04.978515",
     "exception": false,
     "start_time": "2021-01-12T20:23:04.953731",
     "status": "completed"
    },
    "tags": []
   },
   "source": [
    "Setup the labels as 1 (when the digit is 3) and 0 (when the digit is 8)"
   ]
  },
  {
   "cell_type": "code",
   "execution_count": 11,
   "metadata": {
    "execution": {
     "iopub.execute_input": "2021-01-12T20:23:05.035314Z",
     "iopub.status.busy": "2021-01-12T20:23:05.034796Z",
     "iopub.status.idle": "2021-01-12T20:23:05.043825Z",
     "shell.execute_reply": "2021-01-12T20:23:05.044230Z"
    },
    "papermill": {
     "duration": 0.041099,
     "end_time": "2021-01-12T20:23:05.044368",
     "exception": false,
     "start_time": "2021-01-12T20:23:05.003269",
     "status": "completed"
    },
    "tags": []
   },
   "outputs": [],
   "source": [
    "y_train = 1*(y_train==3)\n",
    "y_test = 1*(y_test==3)"
   ]
  },
  {
   "cell_type": "code",
   "execution_count": 12,
   "metadata": {
    "execution": {
     "iopub.execute_input": "2021-01-12T20:23:05.098218Z",
     "iopub.status.busy": "2021-01-12T20:23:05.097698Z",
     "iopub.status.idle": "2021-01-12T20:23:05.111205Z",
     "shell.execute_reply": "2021-01-12T20:23:05.111609Z"
    },
    "papermill": {
     "duration": 0.042206,
     "end_time": "2021-01-12T20:23:05.111754",
     "exception": false,
     "start_time": "2021-01-12T20:23:05.069548",
     "status": "completed"
    },
    "tags": []
   },
   "outputs": [
    {
     "data": {
      "text/plain": [
       "((11982, 28, 28), (1984, 28, 28))"
      ]
     },
     "execution_count": 12,
     "metadata": {},
     "output_type": "execute_result"
    }
   ],
   "source": [
    "X_train.shape, X_test.shape"
   ]
  },
  {
   "cell_type": "markdown",
   "metadata": {
    "papermill": {
     "duration": 0.025202,
     "end_time": "2021-01-12T20:23:05.162262",
     "exception": false,
     "start_time": "2021-01-12T20:23:05.137060",
     "status": "completed"
    },
    "tags": []
   },
   "source": [
    "### Reshape the input data to create a linear array"
   ]
  },
  {
   "cell_type": "code",
   "execution_count": 13,
   "metadata": {
    "execution": {
     "iopub.execute_input": "2021-01-12T20:23:05.217204Z",
     "iopub.status.busy": "2021-01-12T20:23:05.216703Z",
     "iopub.status.idle": "2021-01-12T20:23:05.229704Z",
     "shell.execute_reply": "2021-01-12T20:23:05.229258Z"
    },
    "papermill": {
     "duration": 0.042356,
     "end_time": "2021-01-12T20:23:05.229832",
     "exception": false,
     "start_time": "2021-01-12T20:23:05.187476",
     "status": "completed"
    },
    "tags": []
   },
   "outputs": [
    {
     "data": {
      "text/plain": [
       "((11982, 784), (1984, 784))"
      ]
     },
     "execution_count": 13,
     "metadata": {},
     "output_type": "execute_result"
    }
   ],
   "source": [
    "X_train = X_train.reshape(X_train.shape[0], -1)\n",
    "X_test = X_test.reshape(X_test.shape[0], -1)\n",
    "X_train.shape, X_test.shape"
   ]
  },
  {
   "cell_type": "markdown",
   "metadata": {
    "papermill": {
     "duration": 0.025342,
     "end_time": "2021-01-12T20:23:05.280749",
     "exception": false,
     "start_time": "2021-01-12T20:23:05.255407",
     "status": "completed"
    },
    "tags": []
   },
   "source": [
    "### Importing appropriate functions from 'Kudzu'"
   ]
  },
  {
   "cell_type": "code",
   "execution_count": 14,
   "metadata": {
    "execution": {
     "iopub.execute_input": "2021-01-12T20:23:05.337137Z",
     "iopub.status.busy": "2021-01-12T20:23:05.336628Z",
     "iopub.status.idle": "2021-01-12T20:23:05.359976Z",
     "shell.execute_reply": "2021-01-12T20:23:05.359485Z"
    },
    "papermill": {
     "duration": 0.053631,
     "end_time": "2021-01-12T20:23:05.360119",
     "exception": false,
     "start_time": "2021-01-12T20:23:05.306488",
     "status": "completed"
    },
    "tags": []
   },
   "outputs": [],
   "source": [
    "from kudzu.layer import Sigmoid\n",
    "from kudzu.layer import Relu\n",
    "from kudzu.layer import Affine, Sigmoid\n",
    "\n",
    "from kudzu.model import Model\n",
    "from kudzu.train import Learner\n",
    "from kudzu.optim import GD\n",
    "from kudzu.data import Data, Dataloader, Sampler\n",
    "\n",
    "from kudzu.callbacks import AccCallback\n",
    "from kudzu.callbacks import ClfCallback\n",
    "\n",
    "from kudzu.loss import MSE"
   ]
  },
  {
   "cell_type": "markdown",
   "metadata": {
    "papermill": {
     "duration": 0.025367,
     "end_time": "2021-01-12T20:23:05.411926",
     "exception": false,
     "start_time": "2021-01-12T20:23:05.386559",
     "status": "completed"
    },
    "tags": []
   },
   "source": [
    "### Let us create a `Config` class, to store important parameters. \n",
    "This class essentially plays the role of a dictionary."
   ]
  },
  {
   "cell_type": "code",
   "execution_count": 15,
   "metadata": {
    "execution": {
     "iopub.execute_input": "2021-01-12T20:23:05.468038Z",
     "iopub.status.busy": "2021-01-12T20:23:05.467528Z",
     "iopub.status.idle": "2021-01-12T20:23:05.478465Z",
     "shell.execute_reply": "2021-01-12T20:23:05.478057Z"
    },
    "papermill": {
     "duration": 0.041088,
     "end_time": "2021-01-12T20:23:05.478585",
     "exception": false,
     "start_time": "2021-01-12T20:23:05.437497",
     "status": "completed"
    },
    "tags": []
   },
   "outputs": [],
   "source": [
    "class Config:\n",
    "    pass\n",
    "config = Config()\n",
    "config.lr = 0.001\n",
    "config.num_epochs = 251\n",
    "config.bs = 50"
   ]
  },
  {
   "cell_type": "markdown",
   "metadata": {
    "papermill": {
     "duration": 0.025305,
     "end_time": "2021-01-12T20:23:05.529174",
     "exception": false,
     "start_time": "2021-01-12T20:23:05.503869",
     "status": "completed"
    },
    "tags": []
   },
   "source": [
    "### Initializing data to the variables"
   ]
  },
  {
   "cell_type": "code",
   "execution_count": 16,
   "metadata": {
    "execution": {
     "iopub.execute_input": "2021-01-12T20:23:05.584757Z",
     "iopub.status.busy": "2021-01-12T20:23:05.584259Z",
     "iopub.status.idle": "2021-01-12T20:23:05.596798Z",
     "shell.execute_reply": "2021-01-12T20:23:05.596378Z"
    },
    "papermill": {
     "duration": 0.042188,
     "end_time": "2021-01-12T20:23:05.596920",
     "exception": false,
     "start_time": "2021-01-12T20:23:05.554732",
     "status": "completed"
    },
    "tags": []
   },
   "outputs": [],
   "source": [
    "data = Data(X_train, y_train.reshape(-1,1))\n",
    "sampler = Sampler(data, config.bs, shuffle=True)\n",
    "\n",
    "dl = Dataloader(data, sampler)\n",
    "\n",
    "opt = GD(config.lr)\n",
    "loss = MSE()"
   ]
  },
  {
   "cell_type": "code",
   "execution_count": 17,
   "metadata": {
    "execution": {
     "iopub.execute_input": "2021-01-12T20:23:05.663012Z",
     "iopub.status.busy": "2021-01-12T20:23:05.658168Z",
     "iopub.status.idle": "2021-01-12T20:23:05.665344Z",
     "shell.execute_reply": "2021-01-12T20:23:05.664910Z"
    },
    "papermill": {
     "duration": 0.043152,
     "end_time": "2021-01-12T20:23:05.665489",
     "exception": false,
     "start_time": "2021-01-12T20:23:05.622337",
     "status": "completed"
    },
    "tags": []
   },
   "outputs": [],
   "source": [
    "training_xdata = X_train\n",
    "testing_xdata = X_test\n",
    "training_ydata = y_train.reshape(-1,1)\n",
    "testing_ydata = y_test.reshape(-1,1)"
   ]
  },
  {
   "cell_type": "markdown",
   "metadata": {
    "papermill": {
     "duration": 0.025461,
     "end_time": "2021-01-12T20:23:05.716443",
     "exception": false,
     "start_time": "2021-01-12T20:23:05.690982",
     "status": "completed"
    },
    "tags": []
   },
   "source": [
    "### Running Models with the Training data\n",
    "Details about the network layers:\n",
    "- A first affine layer has 784 inputs and does 100 affine transforms. These are followed by a Relu\n",
    "- A second affine layer has 100 inputs from the 100 activations of the past layer, and does 100 affine transforms. These are followed by a Relu\n",
    "- A third affine layer has 100 activations and does 2 affine transformations to create an embedding for visualization. There is no non-linearity here.\n",
    "- A final \"logistic regression\" which has an affine transform from 2 inputs to 1 output, which is squeezed through a sigmoid.\n",
    "\n",
    "Help taken from Anshuman's Notebook."
   ]
  },
  {
   "cell_type": "code",
   "execution_count": 18,
   "metadata": {
    "execution": {
     "iopub.execute_input": "2021-01-12T20:23:05.772538Z",
     "iopub.status.busy": "2021-01-12T20:23:05.772024Z",
     "iopub.status.idle": "2021-01-12T20:23:05.787436Z",
     "shell.execute_reply": "2021-01-12T20:23:05.786987Z"
    },
    "papermill": {
     "duration": 0.045876,
     "end_time": "2021-01-12T20:23:05.787559",
     "exception": false,
     "start_time": "2021-01-12T20:23:05.741683",
     "status": "completed"
    },
    "tags": []
   },
   "outputs": [],
   "source": [
    "# layers for the Neural Network\n",
    "layers = [Affine(\"first\", 784, 100), Relu(\"first\"), Affine(\"second\", 100, 100), Relu(\"second\"), Affine(\"third\", 100, 2), Affine(\"final\", 2, 1), Sigmoid(\"final\")]\n",
    "model_nn = Model(layers)\n",
    "\n",
    "# layers for the Logistic Regression\n",
    "layers_lr = [Affine(\"logits\", 784, 1), Sigmoid(\"sigmoid\")]\n",
    "model_lr = Model(layers_lr)"
   ]
  },
  {
   "cell_type": "code",
   "execution_count": 19,
   "metadata": {
    "execution": {
     "iopub.execute_input": "2021-01-12T20:23:05.845563Z",
     "iopub.status.busy": "2021-01-12T20:23:05.845014Z",
     "iopub.status.idle": "2021-01-12T20:23:05.855535Z",
     "shell.execute_reply": "2021-01-12T20:23:05.855113Z"
    },
    "papermill": {
     "duration": 0.0425,
     "end_time": "2021-01-12T20:23:05.855661",
     "exception": false,
     "start_time": "2021-01-12T20:23:05.813161",
     "status": "completed"
    },
    "tags": []
   },
   "outputs": [],
   "source": [
    "# suffix _nn stands for Neural Network.\n",
    "learner_nn = Learner(loss, model_nn, opt, config.num_epochs)\n",
    "acc_nn = ClfCallback(learner_nn, config.bs, training_xdata , testing_xdata, training_ydata, testing_ydata)\n",
    "learner_nn.set_callbacks([acc_nn])"
   ]
  },
  {
   "cell_type": "code",
   "execution_count": 20,
   "metadata": {
    "execution": {
     "iopub.execute_input": "2021-01-12T20:23:05.922227Z",
     "iopub.status.busy": "2021-01-12T20:23:05.916831Z",
     "iopub.status.idle": "2021-01-12T20:24:22.768487Z",
     "shell.execute_reply": "2021-01-12T20:24:22.769162Z"
    },
    "papermill": {
     "duration": 76.888237,
     "end_time": "2021-01-12T20:24:22.769315",
     "exception": false,
     "start_time": "2021-01-12T20:23:05.881078",
     "status": "completed"
    },
    "tags": []
   },
   "outputs": [
    {
     "name": "stdout",
     "output_type": "stream",
     "text": [
      "====== Neural Network ======\n"
     ]
    },
    {
     "name": "stdout",
     "output_type": "stream",
     "text": [
      "Epoch 0, Loss 0.2455\n",
      "Training Accuracy: 0.5772, Testing Accuracy: 0.5680\n",
      "\n"
     ]
    },
    {
     "name": "stdout",
     "output_type": "stream",
     "text": [
      "Epoch 10, Loss 0.1333\n",
      "Training Accuracy: 0.8832, Testing Accuracy: 0.8982\n",
      "\n"
     ]
    },
    {
     "name": "stdout",
     "output_type": "stream",
     "text": [
      "Epoch 20, Loss 0.074\n",
      "Training Accuracy: 0.9217, Testing Accuracy: 0.9350\n",
      "\n"
     ]
    },
    {
     "name": "stdout",
     "output_type": "stream",
     "text": [
      "Epoch 30, Loss 0.0539\n",
      "Training Accuracy: 0.9390, Testing Accuracy: 0.9516\n",
      "\n"
     ]
    },
    {
     "name": "stdout",
     "output_type": "stream",
     "text": [
      "Epoch 40, Loss 0.0444\n",
      "Training Accuracy: 0.9478, Testing Accuracy: 0.9561\n",
      "\n"
     ]
    },
    {
     "name": "stdout",
     "output_type": "stream",
     "text": [
      "Epoch 50, Loss 0.039\n",
      "Training Accuracy: 0.9554, Testing Accuracy: 0.9612\n",
      "\n"
     ]
    },
    {
     "name": "stdout",
     "output_type": "stream",
     "text": [
      "Epoch 60, Loss 0.0354\n",
      "Training Accuracy: 0.9590, Testing Accuracy: 0.9652\n",
      "\n"
     ]
    },
    {
     "name": "stdout",
     "output_type": "stream",
     "text": [
      "Epoch 70, Loss 0.0328\n",
      "Training Accuracy: 0.9619, Testing Accuracy: 0.9657\n",
      "\n"
     ]
    },
    {
     "name": "stdout",
     "output_type": "stream",
     "text": [
      "Epoch 80, Loss 0.0308\n",
      "Training Accuracy: 0.9636, Testing Accuracy: 0.9677\n",
      "\n"
     ]
    },
    {
     "name": "stdout",
     "output_type": "stream",
     "text": [
      "Epoch 90, Loss 0.0293\n",
      "Training Accuracy: 0.9655, Testing Accuracy: 0.9682\n",
      "\n"
     ]
    },
    {
     "name": "stdout",
     "output_type": "stream",
     "text": [
      "Epoch 100, Loss 0.028\n",
      "Training Accuracy: 0.9669, Testing Accuracy: 0.9703\n",
      "\n"
     ]
    },
    {
     "name": "stdout",
     "output_type": "stream",
     "text": [
      "Epoch 110, Loss 0.0269\n",
      "Training Accuracy: 0.9685, Testing Accuracy: 0.9713\n",
      "\n"
     ]
    },
    {
     "name": "stdout",
     "output_type": "stream",
     "text": [
      "Epoch 120, Loss 0.026\n",
      "Training Accuracy: 0.9696, Testing Accuracy: 0.9728\n",
      "\n"
     ]
    },
    {
     "name": "stdout",
     "output_type": "stream",
     "text": [
      "Epoch 130, Loss 0.0252\n",
      "Training Accuracy: 0.9702, Testing Accuracy: 0.9728\n",
      "\n"
     ]
    },
    {
     "name": "stdout",
     "output_type": "stream",
     "text": [
      "Epoch 140, Loss 0.0244\n",
      "Training Accuracy: 0.9711, Testing Accuracy: 0.9728\n",
      "\n"
     ]
    },
    {
     "name": "stdout",
     "output_type": "stream",
     "text": [
      "Epoch 150, Loss 0.0238\n",
      "Training Accuracy: 0.9722, Testing Accuracy: 0.9728\n",
      "\n"
     ]
    },
    {
     "name": "stdout",
     "output_type": "stream",
     "text": [
      "Epoch 160, Loss 0.0232\n",
      "Training Accuracy: 0.9729, Testing Accuracy: 0.9728\n",
      "\n"
     ]
    },
    {
     "name": "stdout",
     "output_type": "stream",
     "text": [
      "Epoch 170, Loss 0.0226\n",
      "Training Accuracy: 0.9736, Testing Accuracy: 0.9733\n",
      "\n"
     ]
    },
    {
     "name": "stdout",
     "output_type": "stream",
     "text": [
      "Epoch 180, Loss 0.0221\n",
      "Training Accuracy: 0.9746, Testing Accuracy: 0.9733\n",
      "\n"
     ]
    },
    {
     "name": "stdout",
     "output_type": "stream",
     "text": [
      "Epoch 190, Loss 0.0215\n",
      "Training Accuracy: 0.9755, Testing Accuracy: 0.9728\n",
      "\n"
     ]
    },
    {
     "name": "stdout",
     "output_type": "stream",
     "text": [
      "Epoch 200, Loss 0.0211\n",
      "Training Accuracy: 0.9757, Testing Accuracy: 0.9728\n",
      "\n"
     ]
    },
    {
     "name": "stdout",
     "output_type": "stream",
     "text": [
      "Epoch 210, Loss 0.0206\n",
      "Training Accuracy: 0.9763, Testing Accuracy: 0.9733\n",
      "\n"
     ]
    },
    {
     "name": "stdout",
     "output_type": "stream",
     "text": [
      "Epoch 220, Loss 0.0202\n",
      "Training Accuracy: 0.9769, Testing Accuracy: 0.9728\n",
      "\n"
     ]
    },
    {
     "name": "stdout",
     "output_type": "stream",
     "text": [
      "Epoch 230, Loss 0.0198\n",
      "Training Accuracy: 0.9776, Testing Accuracy: 0.9723\n",
      "\n"
     ]
    },
    {
     "name": "stdout",
     "output_type": "stream",
     "text": [
      "Epoch 240, Loss 0.0194\n",
      "Training Accuracy: 0.9786, Testing Accuracy: 0.9723\n",
      "\n"
     ]
    },
    {
     "name": "stdout",
     "output_type": "stream",
     "text": [
      "Epoch 250, Loss 0.019\n",
      "Training Accuracy: 0.9792, Testing Accuracy: 0.9728\n",
      "\n"
     ]
    },
    {
     "data": {
      "text/plain": [
       "0.03856605901850016"
      ]
     },
     "execution_count": 20,
     "metadata": {},
     "output_type": "execute_result"
    }
   ],
   "source": [
    "print(\"====== Neural Network ======\")\n",
    "learner_nn.train_loop(dl)"
   ]
  },
  {
   "cell_type": "markdown",
   "metadata": {
    "papermill": {
     "duration": 0.032518,
     "end_time": "2021-01-12T20:24:22.835155",
     "exception": false,
     "start_time": "2021-01-12T20:24:22.802637",
     "status": "completed"
    },
    "tags": []
   },
   "source": [
    "### Logistic Regression based Implementation."
   ]
  },
  {
   "cell_type": "code",
   "execution_count": 21,
   "metadata": {
    "execution": {
     "iopub.execute_input": "2021-01-12T20:24:22.906101Z",
     "iopub.status.busy": "2021-01-12T20:24:22.905487Z",
     "iopub.status.idle": "2021-01-12T20:24:22.916444Z",
     "shell.execute_reply": "2021-01-12T20:24:22.916031Z"
    },
    "papermill": {
     "duration": 0.049043,
     "end_time": "2021-01-12T20:24:22.916568",
     "exception": false,
     "start_time": "2021-01-12T20:24:22.867525",
     "status": "completed"
    },
    "tags": []
   },
   "outputs": [],
   "source": [
    "learner_lr = Learner(loss, model_lr, opt, config.num_epochs)\n",
    "acc_lr = ClfCallback(learner_lr, config.bs, training_xdata , testing_xdata, training_ydata, testing_ydata)\n",
    "learner_lr.set_callbacks([acc_lr])"
   ]
  },
  {
   "cell_type": "code",
   "execution_count": 22,
   "metadata": {
    "execution": {
     "iopub.execute_input": "2021-01-12T20:24:22.989265Z",
     "iopub.status.busy": "2021-01-12T20:24:22.988764Z",
     "iopub.status.idle": "2021-01-12T20:24:36.957781Z",
     "shell.execute_reply": "2021-01-12T20:24:36.958477Z"
    },
    "papermill": {
     "duration": 14.009247,
     "end_time": "2021-01-12T20:24:36.958635",
     "exception": false,
     "start_time": "2021-01-12T20:24:22.949388",
     "status": "completed"
    },
    "tags": []
   },
   "outputs": [
    {
     "name": "stdout",
     "output_type": "stream",
     "text": [
      "====== Logistic Regression ======\n",
      "Epoch 0, Loss 0.263\n",
      "Training Accuracy: 0.6014, Testing Accuracy: 0.6179\n",
      "\n"
     ]
    },
    {
     "name": "stdout",
     "output_type": "stream",
     "text": [
      "Epoch 10, Loss 0.107\n",
      "Training Accuracy: 0.9015, Testing Accuracy: 0.9178\n",
      "\n"
     ]
    },
    {
     "name": "stdout",
     "output_type": "stream",
     "text": [
      "Epoch 20, Loss 0.0811\n",
      "Training Accuracy: 0.9259, Testing Accuracy: 0.9355\n",
      "\n"
     ]
    },
    {
     "name": "stdout",
     "output_type": "stream",
     "text": [
      "Epoch 30, Loss 0.0694\n",
      "Training Accuracy: 0.9357, Testing Accuracy: 0.9486\n",
      "\n"
     ]
    },
    {
     "name": "stdout",
     "output_type": "stream",
     "text": [
      "Epoch 40, Loss 0.0624\n",
      "Training Accuracy: 0.9417, Testing Accuracy: 0.9536\n",
      "\n"
     ]
    },
    {
     "name": "stdout",
     "output_type": "stream",
     "text": [
      "Epoch 50, Loss 0.0577\n",
      "Training Accuracy: 0.9453, Testing Accuracy: 0.9587\n",
      "\n"
     ]
    },
    {
     "name": "stdout",
     "output_type": "stream",
     "text": [
      "Epoch 60, Loss 0.0542\n",
      "Training Accuracy: 0.9480, Testing Accuracy: 0.9592\n",
      "\n"
     ]
    },
    {
     "name": "stdout",
     "output_type": "stream",
     "text": [
      "Epoch 70, Loss 0.0515\n",
      "Training Accuracy: 0.9506, Testing Accuracy: 0.9617\n",
      "\n"
     ]
    },
    {
     "name": "stdout",
     "output_type": "stream",
     "text": [
      "Epoch 80, Loss 0.0494\n",
      "Training Accuracy: 0.9516, Testing Accuracy: 0.9622\n",
      "\n"
     ]
    },
    {
     "name": "stdout",
     "output_type": "stream",
     "text": [
      "Epoch 90, Loss 0.0477\n",
      "Training Accuracy: 0.9530, Testing Accuracy: 0.9622\n",
      "\n"
     ]
    },
    {
     "name": "stdout",
     "output_type": "stream",
     "text": [
      "Epoch 100, Loss 0.0462\n",
      "Training Accuracy: 0.9538, Testing Accuracy: 0.9632\n",
      "\n"
     ]
    },
    {
     "name": "stdout",
     "output_type": "stream",
     "text": [
      "Epoch 110, Loss 0.045\n",
      "Training Accuracy: 0.9546, Testing Accuracy: 0.9632\n",
      "\n"
     ]
    },
    {
     "name": "stdout",
     "output_type": "stream",
     "text": [
      "Epoch 120, Loss 0.0439\n",
      "Training Accuracy: 0.9552, Testing Accuracy: 0.9642\n",
      "\n"
     ]
    },
    {
     "name": "stdout",
     "output_type": "stream",
     "text": [
      "Epoch 130, Loss 0.0429\n",
      "Training Accuracy: 0.9559, Testing Accuracy: 0.9642\n",
      "\n"
     ]
    },
    {
     "name": "stdout",
     "output_type": "stream",
     "text": [
      "Epoch 140, Loss 0.0421\n",
      "Training Accuracy: 0.9569, Testing Accuracy: 0.9642\n",
      "\n"
     ]
    },
    {
     "name": "stdout",
     "output_type": "stream",
     "text": [
      "Epoch 150, Loss 0.0413\n",
      "Training Accuracy: 0.9580, Testing Accuracy: 0.9642\n",
      "\n"
     ]
    },
    {
     "name": "stdout",
     "output_type": "stream",
     "text": [
      "Epoch 160, Loss 0.0406\n",
      "Training Accuracy: 0.9582, Testing Accuracy: 0.9662\n",
      "\n"
     ]
    },
    {
     "name": "stdout",
     "output_type": "stream",
     "text": [
      "Epoch 170, Loss 0.04\n",
      "Training Accuracy: 0.9588, Testing Accuracy: 0.9662\n",
      "\n"
     ]
    },
    {
     "name": "stdout",
     "output_type": "stream",
     "text": [
      "Epoch 180, Loss 0.0394\n",
      "Training Accuracy: 0.9597, Testing Accuracy: 0.9662\n",
      "\n"
     ]
    },
    {
     "name": "stdout",
     "output_type": "stream",
     "text": [
      "Epoch 190, Loss 0.0389\n",
      "Training Accuracy: 0.9598, Testing Accuracy: 0.9667\n",
      "\n"
     ]
    },
    {
     "name": "stdout",
     "output_type": "stream",
     "text": [
      "Epoch 200, Loss 0.0384\n",
      "Training Accuracy: 0.9600, Testing Accuracy: 0.9667\n",
      "\n"
     ]
    },
    {
     "name": "stdout",
     "output_type": "stream",
     "text": [
      "Epoch 210, Loss 0.038\n",
      "Training Accuracy: 0.9604, Testing Accuracy: 0.9667\n",
      "\n"
     ]
    },
    {
     "name": "stdout",
     "output_type": "stream",
     "text": [
      "Epoch 220, Loss 0.0376\n",
      "Training Accuracy: 0.9609, Testing Accuracy: 0.9662\n",
      "\n"
     ]
    },
    {
     "name": "stdout",
     "output_type": "stream",
     "text": [
      "Epoch 230, Loss 0.0372\n",
      "Training Accuracy: 0.9611, Testing Accuracy: 0.9662\n",
      "\n"
     ]
    },
    {
     "name": "stdout",
     "output_type": "stream",
     "text": [
      "Epoch 240, Loss 0.0368\n",
      "Training Accuracy: 0.9613, Testing Accuracy: 0.9662\n",
      "\n"
     ]
    },
    {
     "name": "stdout",
     "output_type": "stream",
     "text": [
      "Epoch 250, Loss 0.0365\n",
      "Training Accuracy: 0.9613, Testing Accuracy: 0.9657\n",
      "\n"
     ]
    },
    {
     "data": {
      "text/plain": [
       "0.03804914724950158"
      ]
     },
     "execution_count": 22,
     "metadata": {},
     "output_type": "execute_result"
    }
   ],
   "source": [
    "print(\"====== Logistic Regression ======\")\n",
    "learner_lr.train_loop(dl)"
   ]
  },
  {
   "cell_type": "markdown",
   "metadata": {
    "papermill": {
     "duration": 0.039059,
     "end_time": "2021-01-12T20:24:37.037524",
     "exception": false,
     "start_time": "2021-01-12T20:24:36.998465",
     "status": "completed"
    },
    "tags": []
   },
   "source": [
    "### Comparing results of NN and LR"
   ]
  },
  {
   "cell_type": "code",
   "execution_count": 23,
   "metadata": {
    "execution": {
     "iopub.execute_input": "2021-01-12T20:24:37.121446Z",
     "iopub.status.busy": "2021-01-12T20:24:37.120821Z",
     "iopub.status.idle": "2021-01-12T20:24:37.331155Z",
     "shell.execute_reply": "2021-01-12T20:24:37.331594Z"
    },
    "papermill": {
     "duration": 0.25481,
     "end_time": "2021-01-12T20:24:37.331752",
     "exception": false,
     "start_time": "2021-01-12T20:24:37.076942",
     "status": "completed"
    },
    "tags": []
   },
   "outputs": [
    {
     "data": {
      "text/plain": [
       "<matplotlib.legend.Legend at 0x7effb7feac88>"
      ]
     },
     "execution_count": 23,
     "metadata": {},
     "output_type": "execute_result"
    },
    {
     "data": {
      "image/png": "[encoded data removed]",
      "text/plain": [
       "<Figure size 1080x720 with 1 Axes>"
      ]
     },
     "metadata": {
      "needs_background": "light"
     },
     "output_type": "display_data"
    }
   ],
   "source": [
    "plt.figure(figsize=(15,10))\n",
    "\n",
    "# Neural Network plots\n",
    "plt.plot(acc_nn.accuracies, 'r-', label = \"Training Accuracies - NN\")\n",
    "plt.plot(acc_nn.test_accuracies, 'g-', label = \"Testing Accuracies - NN\")\n",
    "\n",
    "# Logistic Regression plots\n",
    "plt.plot(acc_lr.accuracies, 'k-', label = \"Training Accuracies - LR\")\n",
    "plt.plot(acc_lr.test_accuracies, 'b-', label = \"Testing Accuracies - LR\")\n",
    "\n",
    "plt.ylim(0.8, 1)\n",
    "\n",
    "plt.legend()\n",
    "\n"
   ]
  },
  {
   "cell_type": "markdown",
   "metadata": {
    "papermill": {
     "duration": 0.04106,
     "end_time": "2021-01-12T20:24:37.414093",
     "exception": false,
     "start_time": "2021-01-12T20:24:37.373033",
     "status": "completed"
    },
    "tags": []
   },
   "source": [
    "### From the plot, we can observe the following:\n",
    "- Neural Network achieves higher accuracy than the Logistic Regression model.\n",
    "- This apparently, is because of overfitting, i.e. NN captures more noise than data.\n",
    "- Testing accuracy of NN drops below the Training accuracy at higher epochs. This explains the over-fitting on training data.\n",
    "- Logistic Regression gives a reliable accuracy, without the above mentioned problem.\n"
   ]
  },
  {
   "cell_type": "markdown",
   "metadata": {
    "papermill": {
     "duration": 0.04085,
     "end_time": "2021-01-12T20:24:37.495754",
     "exception": false,
     "start_time": "2021-01-12T20:24:37.454904",
     "status": "completed"
    },
    "tags": []
   },
   "source": [
    "### Moving till the last but one layer (excluding it).\n",
    "#### Plotting the outputs of this layer of the NN."
   ]
  },
  {
   "cell_type": "code",
   "execution_count": 24,
   "metadata": {
    "execution": {
     "iopub.execute_input": "2021-01-12T20:24:37.582678Z",
     "iopub.status.busy": "2021-01-12T20:24:37.582138Z",
     "iopub.status.idle": "2021-01-12T20:24:37.593948Z",
     "shell.execute_reply": "2021-01-12T20:24:37.594586Z"
    },
    "papermill": {
     "duration": 0.057796,
     "end_time": "2021-01-12T20:24:37.594730",
     "exception": false,
     "start_time": "2021-01-12T20:24:37.536934",
     "status": "completed"
    },
    "tags": []
   },
   "outputs": [],
   "source": [
    "model_new = Model(layers[:-2])"
   ]
  },
  {
   "cell_type": "code",
   "execution_count": 25,
   "metadata": {
    "execution": {
     "iopub.execute_input": "2021-01-12T20:24:37.688628Z",
     "iopub.status.busy": "2021-01-12T20:24:37.686925Z",
     "iopub.status.idle": "2021-01-12T20:24:37.702120Z",
     "shell.execute_reply": "2021-01-12T20:24:37.702803Z"
    },
    "papermill": {
     "duration": 0.067271,
     "end_time": "2021-01-12T20:24:37.702958",
     "exception": false,
     "start_time": "2021-01-12T20:24:37.635687",
     "status": "completed"
    },
    "tags": []
   },
   "outputs": [],
   "source": [
    "plot_testing = model_new(testing_xdata)"
   ]
  },
  {
   "cell_type": "code",
   "execution_count": 26,
   "metadata": {
    "execution": {
     "iopub.execute_input": "2021-01-12T20:24:37.791538Z",
     "iopub.status.busy": "2021-01-12T20:24:37.791023Z",
     "iopub.status.idle": "2021-01-12T20:24:37.979357Z",
     "shell.execute_reply": "2021-01-12T20:24:37.978595Z"
    },
    "papermill": {
     "duration": 0.235032,
     "end_time": "2021-01-12T20:24:37.979484",
     "exception": false,
     "start_time": "2021-01-12T20:24:37.744452",
     "status": "completed"
    },
    "tags": []
   },
   "outputs": [
    {
     "data": {
      "text/plain": [
       "Text(0.5, 1.0, 'Outputs')"
      ]
     },
     "execution_count": 26,
     "metadata": {},
     "output_type": "execute_result"
    },
    {
     "data": {
      "image/png": "[encoded data removed]",
      "text/plain": [
       "<Figure size 576x504 with 1 Axes>"
      ]
     },
     "metadata": {
      "needs_background": "light"
     },
     "output_type": "display_data"
    }
   ],
   "source": [
    "plt.figure(figsize=(8,7))\n",
    "plt.scatter(plot_testing[:,0], plot_testing[:,1], alpha = 0.1, c = y_test.ravel());\n",
    "plt.title('Outputs')"
   ]
  },
  {
   "cell_type": "markdown",
   "metadata": {
    "papermill": {
     "duration": 0.043108,
     "end_time": "2021-01-12T20:24:38.066301",
     "exception": false,
     "start_time": "2021-01-12T20:24:38.023193",
     "status": "completed"
    },
    "tags": []
   },
   "source": [
    "### Plotting probability contours"
   ]
  },
  {
   "cell_type": "code",
   "execution_count": 27,
   "metadata": {
    "execution": {
     "iopub.execute_input": "2021-01-12T20:24:38.156802Z",
     "iopub.status.busy": "2021-01-12T20:24:38.156281Z",
     "iopub.status.idle": "2021-01-12T20:24:38.167758Z",
     "shell.execute_reply": "2021-01-12T20:24:38.168146Z"
    },
    "papermill": {
     "duration": 0.058671,
     "end_time": "2021-01-12T20:24:38.168296",
     "exception": false,
     "start_time": "2021-01-12T20:24:38.109625",
     "status": "completed"
    },
    "tags": []
   },
   "outputs": [],
   "source": [
    "model_prob = Model(layers[-2:]) "
   ]
  },
  {
   "cell_type": "code",
   "execution_count": 28,
   "metadata": {
    "execution": {
     "iopub.execute_input": "2021-01-12T20:24:38.262007Z",
     "iopub.status.busy": "2021-01-12T20:24:38.261491Z",
     "iopub.status.idle": "2021-01-12T20:24:38.272968Z",
     "shell.execute_reply": "2021-01-12T20:24:38.273355Z"
    },
    "papermill": {
     "duration": 0.061481,
     "end_time": "2021-01-12T20:24:38.273527",
     "exception": false,
     "start_time": "2021-01-12T20:24:38.212046",
     "status": "completed"
    },
    "tags": []
   },
   "outputs": [],
   "source": [
    "# Adjust the x and y ranges according to the above generated plot.\n",
    "x_range = np.linspace(-4, 1, 100) \n",
    "y_range = np.linspace(-6, 6, 100) \n",
    "x_grid, y_grid = np.meshgrid(x_range, y_range) # x_grid and y_grig are of size 100 X 100\n",
    "\n",
    "# converting x_grid and y_grid to continuous arrays\n",
    "x_grid_flat = np.ravel(x_grid)\n",
    "y_grid_flat = np.ravel(y_grid)\n",
    "\n",
    "# The last layer of the current model takes two columns as input. Hence transpose of np.vstack() is required.\n",
    "X = np.vstack((x_grid_flat, y_grid_flat)).T\n",
    "\n",
    "# x_grid and y_grid are of size 100 x 100\n",
    "probability_contour = model_prob(X).reshape(100,100) "
   ]
  },
  {
   "cell_type": "code",
   "execution_count": 29,
   "metadata": {
    "execution": {
     "iopub.execute_input": "2021-01-12T20:24:38.392761Z",
     "iopub.status.busy": "2021-01-12T20:24:38.392250Z",
     "iopub.status.idle": "2021-01-12T20:24:38.616464Z",
     "shell.execute_reply": "2021-01-12T20:24:38.615509Z"
    },
    "papermill": {
     "duration": 0.299265,
     "end_time": "2021-01-12T20:24:38.616596",
     "exception": false,
     "start_time": "2021-01-12T20:24:38.317331",
     "status": "completed"
    },
    "tags": []
   },
   "outputs": [
    {
     "data": {
      "image/png": "[encoded data removed]",
      "text/plain": [
       "<Figure size 720x648 with 1 Axes>"
      ]
     },
     "metadata": {
      "needs_background": "light"
     },
     "output_type": "display_data"
    }
   ],
   "source": [
    "plt.figure(figsize=(10,9))\n",
    "plt.scatter(plot_testing[:,0], plot_testing[:,1], alpha = 0.1, c = y_test.ravel())\n",
    "contours = plt.contour(x_grid,y_grid,probability_contour)\n",
    "plt.title('Probability Contours')\n",
    "plt.clabel(contours, inline = True );"
   ]
  }
 ],
 "metadata": {
  "kernelspec": {
   "display_name": "Python 3",
   "language": "python",
   "name": "python3"
  },
  "language_info": {
   "codemirror_mode": {
    "name": "ipython",
    "version": 3
   },
   "file_extension": ".py",
   "mimetype": "text/x-python",
   "name": "python",
   "nbconvert_exporter": "python",
   "pygments_lexer": "ipython3",
   "version": "3.6.12"
  },
  "papermill": {
   "duration": 99.181758,
   "end_time": "2021-01-12T20:24:39.070040",
   "environment_variables": {},
   "exception": null,
   "input_path": "2020-08-11-NeuralNetwork.ipynb",
   "output_path": "2020-08-11-NeuralNetwork.ipynb",
   "parameters": {},
   "start_time": "2021-01-12T20:22:59.888282",
   "version": "2.1.2"
  }
 },
 "nbformat": 4,
 "nbformat_minor": 4
}