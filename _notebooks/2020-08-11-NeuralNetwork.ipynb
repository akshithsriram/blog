{
 "cells": [
  {
   "cell_type": "markdown",
   "id": "fitted-suggestion",
   "metadata": {
    "papermill": {
     "duration": 0.036472,
     "end_time": "2021-04-01T10:10:16.801539",
     "exception": false,
     "start_time": "2021-04-01T10:10:16.765067",
     "status": "completed"
    },
    "tags": []
   },
   "source": [
    "# \"A Basic Neural Network: Differentiate Hand-Written Digits\"\n",
    "\n",
    "- badges: true\n",
    "- author: Akshith Sriram"
   ]
  },
  {
   "cell_type": "markdown",
   "id": "signal-flexibility",
   "metadata": {
    "papermill": {
     "duration": 0.028876,
     "end_time": "2021-04-01T10:10:16.860026",
     "exception": false,
     "start_time": "2021-04-01T10:10:16.831150",
     "status": "completed"
    },
    "tags": []
   },
   "source": [
    "### Key Objectives:\n",
    "- Building a neural network that differentiates two hand-written digits 3 and 8.\n",
    "- Comparing the results of this Neural Network (NN) to that of a Logistic Regression (LR) model.\n",
    "\n",
    "### Requirements:\n",
    "- 'Kudzu' : A neural network library that was designed during our course by [Univ.AI](www.univ.ai). \n",
    "- MNIST Database\n",
    "\n",
    "If MNIST is not installed, use the command `!pip install mnist` given below.\n",
    "It can be run both from the command line and Jupyter Notebook."
   ]
  },
  {
   "cell_type": "code",
   "execution_count": 1,
   "id": "british-texture",
   "metadata": {
    "execution": {
     "iopub.execute_input": "2021-04-01T10:10:16.928971Z",
     "iopub.status.busy": "2021-04-01T10:10:16.928307Z",
     "iopub.status.idle": "2021-04-01T10:10:18.491422Z",
     "shell.execute_reply": "2021-04-01T10:10:18.491924Z"
    },
    "papermill": {
     "duration": 1.603177,
     "end_time": "2021-04-01T10:10:18.492120",
     "exception": false,
     "start_time": "2021-04-01T10:10:16.888943",
     "status": "completed"
    },
    "tags": []
   },
   "outputs": [
    {
     "name": "stdout",
     "output_type": "stream",
     "text": [
      "Collecting mnist\r\n"
     ]
    },
    {
     "name": "stdout",
     "output_type": "stream",
     "text": [
      "  Downloading mnist-0.2.2-py2.py3-none-any.whl (3.5 kB)\r\n",
      "Requirement already satisfied: numpy in /opt/hostedtoolcache/Python/3.6.13/x64/lib/python3.6/site-packages (from mnist) (1.19.5)\r\n"
     ]
    },
    {
     "name": "stdout",
     "output_type": "stream",
     "text": [
      "Installing collected packages: mnist\r\n",
      "Successfully installed mnist-0.2.2\r\n"
     ]
    }
   ],
   "source": [
    "!pip install mnist "
   ]
  },
  {
   "cell_type": "markdown",
   "id": "stunning-extra",
   "metadata": {
    "papermill": {
     "duration": 0.03003,
     "end_time": "2021-04-01T10:10:18.552457",
     "exception": false,
     "start_time": "2021-04-01T10:10:18.522427",
     "status": "completed"
    },
    "tags": []
   },
   "source": [
    "#### Importing necessary libraries"
   ]
  },
  {
   "cell_type": "code",
   "execution_count": 2,
   "id": "wooden-france",
   "metadata": {
    "execution": {
     "iopub.execute_input": "2021-04-01T10:10:18.621531Z",
     "iopub.status.busy": "2021-04-01T10:10:18.620797Z",
     "iopub.status.idle": "2021-04-01T10:10:19.235999Z",
     "shell.execute_reply": "2021-04-01T10:10:19.235014Z"
    },
    "papermill": {
     "duration": 0.653836,
     "end_time": "2021-04-01T10:10:19.236155",
     "exception": false,
     "start_time": "2021-04-01T10:10:18.582319",
     "status": "completed"
    },
    "tags": []
   },
   "outputs": [],
   "source": [
    "%load_ext autoreload\n",
    "%autoreload 2\n",
    "\n",
    "%matplotlib inline\n",
    "import matplotlib.pyplot as plt\n",
    "\n",
    "import numpy as np\n",
    "import pandas as pd"
   ]
  },
  {
   "cell_type": "markdown",
   "id": "stunning-physics",
   "metadata": {
    "papermill": {
     "duration": 0.029703,
     "end_time": "2021-04-01T10:10:19.296356",
     "exception": false,
     "start_time": "2021-04-01T10:10:19.266653",
     "status": "completed"
    },
    "tags": []
   },
   "source": [
    "### Preparing the Data"
   ]
  },
  {
   "cell_type": "code",
   "execution_count": 3,
   "id": "unauthorized-remainder",
   "metadata": {
    "execution": {
     "iopub.execute_input": "2021-04-01T10:10:19.365677Z",
     "iopub.status.busy": "2021-04-01T10:10:19.359287Z",
     "iopub.status.idle": "2021-04-01T10:10:19.372565Z",
     "shell.execute_reply": "2021-04-01T10:10:19.372060Z"
    },
    "papermill": {
     "duration": 0.046557,
     "end_time": "2021-04-01T10:10:19.372703",
     "exception": false,
     "start_time": "2021-04-01T10:10:19.326146",
     "status": "completed"
    },
    "tags": []
   },
   "outputs": [],
   "source": [
    "import mnist"
   ]
  },
  {
   "cell_type": "code",
   "execution_count": 4,
   "id": "correct-antarctica",
   "metadata": {
    "execution": {
     "iopub.execute_input": "2021-04-01T10:10:19.447295Z",
     "iopub.status.busy": "2021-04-01T10:10:19.446685Z",
     "iopub.status.idle": "2021-04-01T10:15:17.127491Z",
     "shell.execute_reply": "2021-04-01T10:15:17.126517Z"
    },
    "papermill": {
     "duration": 297.719919,
     "end_time": "2021-04-01T10:15:17.127639",
     "exception": false,
     "start_time": "2021-04-01T10:10:19.407720",
     "status": "completed"
    },
    "tags": []
   },
   "outputs": [],
   "source": [
    "train_images = mnist.train_images()\n",
    "train_labels = mnist.train_labels()"
   ]
  },
  {
   "cell_type": "code",
   "execution_count": 5,
   "id": "musical-prospect",
   "metadata": {
    "execution": {
     "iopub.execute_input": "2021-04-01T10:15:17.197858Z",
     "iopub.status.busy": "2021-04-01T10:15:17.191365Z",
     "iopub.status.idle": "2021-04-01T10:15:17.208250Z",
     "shell.execute_reply": "2021-04-01T10:15:17.207190Z"
    },
    "papermill": {
     "duration": 0.050732,
     "end_time": "2021-04-01T10:15:17.208797",
     "exception": false,
     "start_time": "2021-04-01T10:15:17.158065",
     "status": "completed"
    },
    "tags": []
   },
   "outputs": [
    {
     "data": {
      "text/plain": [
       "((60000, 28, 28), (60000,))"
      ]
     },
     "execution_count": 5,
     "metadata": {},
     "output_type": "execute_result"
    }
   ],
   "source": [
    "train_images.shape, train_labels.shape"
   ]
  },
  {
   "cell_type": "code",
   "execution_count": 6,
   "id": "preliminary-elizabeth",
   "metadata": {
    "execution": {
     "iopub.execute_input": "2021-04-01T10:15:17.285492Z",
     "iopub.status.busy": "2021-04-01T10:15:17.284842Z",
     "iopub.status.idle": "2021-04-01T10:16:06.219422Z",
     "shell.execute_reply": "2021-04-01T10:16:06.218706Z"
    },
    "papermill": {
     "duration": 48.973958,
     "end_time": "2021-04-01T10:16:06.219599",
     "exception": false,
     "start_time": "2021-04-01T10:15:17.245641",
     "status": "completed"
    },
    "tags": []
   },
   "outputs": [],
   "source": [
    "test_images = mnist.test_images()\n",
    "test_labels = mnist.test_labels()"
   ]
  },
  {
   "cell_type": "code",
   "execution_count": 7,
   "id": "acknowledged-oxygen",
   "metadata": {
    "execution": {
     "iopub.execute_input": "2021-04-01T10:16:06.287327Z",
     "iopub.status.busy": "2021-04-01T10:16:06.286723Z",
     "iopub.status.idle": "2021-04-01T10:16:06.302833Z",
     "shell.execute_reply": "2021-04-01T10:16:06.302321Z"
    },
    "papermill": {
     "duration": 0.051282,
     "end_time": "2021-04-01T10:16:06.302967",
     "exception": false,
     "start_time": "2021-04-01T10:16:06.251685",
     "status": "completed"
    },
    "tags": []
   },
   "outputs": [
    {
     "data": {
      "text/plain": [
       "((10000, 28, 28), (10000,))"
      ]
     },
     "execution_count": 7,
     "metadata": {},
     "output_type": "execute_result"
    }
   ],
   "source": [
    "test_images.shape, test_labels.shape"
   ]
  },
  {
   "cell_type": "code",
   "execution_count": 8,
   "id": "innovative-organic",
   "metadata": {
    "execution": {
     "iopub.execute_input": "2021-04-01T10:16:06.378193Z",
     "iopub.status.busy": "2021-04-01T10:16:06.370252Z",
     "iopub.status.idle": "2021-04-01T10:16:06.523494Z",
     "shell.execute_reply": "2021-04-01T10:16:06.524330Z"
    },
    "papermill": {
     "duration": 0.190852,
     "end_time": "2021-04-01T10:16:06.524570",
     "exception": false,
     "start_time": "2021-04-01T10:16:06.333718",
     "status": "completed"
    },
    "tags": []
   },
   "outputs": [
    {
     "name": "stdout",
     "output_type": "stream",
     "text": [
      "2\n"
     ]
    },
    {
     "data": {
      "text/plain": [
       "<matplotlib.image.AxesImage at 0x7f698cc6bb38>"
      ]
     },
     "execution_count": 8,
     "metadata": {},
     "output_type": "execute_result"
    },
    {
     "data": {
      "image/png": "[encoded data removed]",
      "text/plain": [
       "<Figure size 432x288 with 1 Axes>"
      ]
     },
     "metadata": {
      "needs_background": "light"
     },
     "output_type": "display_data"
    }
   ],
   "source": [
    "image_index = 7776 # You may select anything up to 60,000\n",
    "print(train_labels[image_index]) \n",
    "plt.imshow(train_images[image_index], cmap='Greys')"
   ]
  },
  {
   "cell_type": "markdown",
   "id": "facial-modem",
   "metadata": {
    "papermill": {
     "duration": 0.031565,
     "end_time": "2021-04-01T10:16:06.588682",
     "exception": false,
     "start_time": "2021-04-01T10:16:06.557117",
     "status": "completed"
    },
    "tags": []
   },
   "source": [
    "## Filter data to get 3 and 8 out"
   ]
  },
  {
   "cell_type": "code",
   "execution_count": 9,
   "id": "thousand-acquisition",
   "metadata": {
    "execution": {
     "iopub.execute_input": "2021-04-01T10:16:06.659726Z",
     "iopub.status.busy": "2021-04-01T10:16:06.659111Z",
     "iopub.status.idle": "2021-04-01T10:16:06.677241Z",
     "shell.execute_reply": "2021-04-01T10:16:06.676707Z"
    },
    "papermill": {
     "duration": 0.056629,
     "end_time": "2021-04-01T10:16:06.677381",
     "exception": false,
     "start_time": "2021-04-01T10:16:06.620752",
     "status": "completed"
    },
    "tags": []
   },
   "outputs": [],
   "source": [
    "train_filter = np.where((train_labels == 3 ) | (train_labels == 8))\n",
    "test_filter = np.where((test_labels == 3) | (test_labels == 8))\n",
    "X_train, y_train = train_images[train_filter], train_labels[train_filter]\n",
    "X_test, y_test = test_images[test_filter], test_labels[test_filter]"
   ]
  },
  {
   "cell_type": "markdown",
   "id": "ruled-access",
   "metadata": {
    "papermill": {
     "duration": 0.031988,
     "end_time": "2021-04-01T10:16:06.742387",
     "exception": false,
     "start_time": "2021-04-01T10:16:06.710399",
     "status": "completed"
    },
    "tags": []
   },
   "source": [
    "We normalize the pixel values in the 0 to 1 range"
   ]
  },
  {
   "cell_type": "code",
   "execution_count": 10,
   "id": "isolated-denver",
   "metadata": {
    "execution": {
     "iopub.execute_input": "2021-04-01T10:16:06.811445Z",
     "iopub.status.busy": "2021-04-01T10:16:06.809919Z",
     "iopub.status.idle": "2021-04-01T10:16:06.868961Z",
     "shell.execute_reply": "2021-04-01T10:16:06.868384Z"
    },
    "papermill": {
     "duration": 0.094988,
     "end_time": "2021-04-01T10:16:06.869103",
     "exception": false,
     "start_time": "2021-04-01T10:16:06.774115",
     "status": "completed"
    },
    "tags": []
   },
   "outputs": [],
   "source": [
    "X_train = X_train/255.\n",
    "X_test = X_test/255."
   ]
  },
  {
   "cell_type": "markdown",
   "id": "perfect-summary",
   "metadata": {
    "papermill": {
     "duration": 0.03215,
     "end_time": "2021-04-01T10:16:06.940239",
     "exception": false,
     "start_time": "2021-04-01T10:16:06.908089",
     "status": "completed"
    },
    "tags": []
   },
   "source": [
    "Setup the labels as 1 (when the digit is 3) and 0 (when the digit is 8)"
   ]
  },
  {
   "cell_type": "code",
   "execution_count": 11,
   "id": "personalized-growing",
   "metadata": {
    "execution": {
     "iopub.execute_input": "2021-04-01T10:16:07.009053Z",
     "iopub.status.busy": "2021-04-01T10:16:07.008409Z",
     "iopub.status.idle": "2021-04-01T10:16:07.024159Z",
     "shell.execute_reply": "2021-04-01T10:16:07.024668Z"
    },
    "papermill": {
     "duration": 0.053083,
     "end_time": "2021-04-01T10:16:07.024859",
     "exception": false,
     "start_time": "2021-04-01T10:16:06.971776",
     "status": "completed"
    },
    "tags": []
   },
   "outputs": [],
   "source": [
    "y_train = 1*(y_train==3)\n",
    "y_test = 1*(y_test==3)"
   ]
  },
  {
   "cell_type": "code",
   "execution_count": 12,
   "id": "considered-virgin",
   "metadata": {
    "execution": {
     "iopub.execute_input": "2021-04-01T10:16:07.097410Z",
     "iopub.status.busy": "2021-04-01T10:16:07.096755Z",
     "iopub.status.idle": "2021-04-01T10:16:07.111821Z",
     "shell.execute_reply": "2021-04-01T10:16:07.110757Z"
    },
    "papermill": {
     "duration": 0.05359,
     "end_time": "2021-04-01T10:16:07.112023",
     "exception": false,
     "start_time": "2021-04-01T10:16:07.058433",
     "status": "completed"
    },
    "tags": []
   },
   "outputs": [
    {
     "data": {
      "text/plain": [
       "((11982, 28, 28), (1984, 28, 28))"
      ]
     },
     "execution_count": 12,
     "metadata": {},
     "output_type": "execute_result"
    }
   ],
   "source": [
    "X_train.shape, X_test.shape"
   ]
  },
  {
   "cell_type": "markdown",
   "id": "civilian-mobile",
   "metadata": {
    "papermill": {
     "duration": 0.031975,
     "end_time": "2021-04-01T10:16:07.177779",
     "exception": false,
     "start_time": "2021-04-01T10:16:07.145804",
     "status": "completed"
    },
    "tags": []
   },
   "source": [
    "### Reshape the input data to create a linear array"
   ]
  },
  {
   "cell_type": "code",
   "execution_count": 13,
   "id": "colonial-adams",
   "metadata": {
    "execution": {
     "iopub.execute_input": "2021-04-01T10:16:07.245861Z",
     "iopub.status.busy": "2021-04-01T10:16:07.245254Z",
     "iopub.status.idle": "2021-04-01T10:16:07.260394Z",
     "shell.execute_reply": "2021-04-01T10:16:07.259907Z"
    },
    "papermill": {
     "duration": 0.050371,
     "end_time": "2021-04-01T10:16:07.260527",
     "exception": false,
     "start_time": "2021-04-01T10:16:07.210156",
     "status": "completed"
    },
    "tags": []
   },
   "outputs": [
    {
     "data": {
      "text/plain": [
       "((11982, 784), (1984, 784))"
      ]
     },
     "execution_count": 13,
     "metadata": {},
     "output_type": "execute_result"
    }
   ],
   "source": [
    "X_train = X_train.reshape(X_train.shape[0], -1)\n",
    "X_test = X_test.reshape(X_test.shape[0], -1)\n",
    "X_train.shape, X_test.shape"
   ]
  },
  {
   "cell_type": "markdown",
   "id": "smart-details",
   "metadata": {
    "papermill": {
     "duration": 0.031648,
     "end_time": "2021-04-01T10:16:07.324460",
     "exception": false,
     "start_time": "2021-04-01T10:16:07.292812",
     "status": "completed"
    },
    "tags": []
   },
   "source": [
    "### Importing appropriate functions from 'Kudzu'"
   ]
  },
  {
   "cell_type": "code",
   "execution_count": 14,
   "id": "celtic-trial",
   "metadata": {
    "execution": {
     "iopub.execute_input": "2021-04-01T10:16:07.394686Z",
     "iopub.status.busy": "2021-04-01T10:16:07.394025Z",
     "iopub.status.idle": "2021-04-01T10:16:07.414118Z",
     "shell.execute_reply": "2021-04-01T10:16:07.413531Z"
    },
    "papermill": {
     "duration": 0.058063,
     "end_time": "2021-04-01T10:16:07.414269",
     "exception": false,
     "start_time": "2021-04-01T10:16:07.356206",
     "status": "completed"
    },
    "tags": []
   },
   "outputs": [],
   "source": [
    "from kudzu.layer import Sigmoid\n",
    "from kudzu.layer import Relu\n",
    "from kudzu.layer import Affine, Sigmoid\n",
    "\n",
    "from kudzu.model import Model\n",
    "from kudzu.train import Learner\n",
    "from kudzu.optim import GD\n",
    "from kudzu.data import Data, Dataloader, Sampler\n",
    "\n",
    "from kudzu.callbacks import AccCallback\n",
    "from kudzu.callbacks import ClfCallback\n",
    "\n",
    "from kudzu.loss import MSE"
   ]
  },
  {
   "cell_type": "markdown",
   "id": "coupled-customer",
   "metadata": {
    "papermill": {
     "duration": 0.032461,
     "end_time": "2021-04-01T10:16:07.479955",
     "exception": false,
     "start_time": "2021-04-01T10:16:07.447494",
     "status": "completed"
    },
    "tags": []
   },
   "source": [
    "### Let us create a `Config` class, to store important parameters. \n",
    "This class essentially plays the role of a dictionary."
   ]
  },
  {
   "cell_type": "code",
   "execution_count": 15,
   "id": "young-ceiling",
   "metadata": {
    "execution": {
     "iopub.execute_input": "2021-04-01T10:16:07.550391Z",
     "iopub.status.busy": "2021-04-01T10:16:07.549800Z",
     "iopub.status.idle": "2021-04-01T10:16:07.562840Z",
     "shell.execute_reply": "2021-04-01T10:16:07.562357Z"
    },
    "papermill": {
     "duration": 0.050595,
     "end_time": "2021-04-01T10:16:07.562971",
     "exception": false,
     "start_time": "2021-04-01T10:16:07.512376",
     "status": "completed"
    },
    "tags": []
   },
   "outputs": [],
   "source": [
    "class Config:\n",
    "    pass\n",
    "config = Config()\n",
    "config.lr = 0.001\n",
    "config.num_epochs = 251\n",
    "config.bs = 50"
   ]
  },
  {
   "cell_type": "markdown",
   "id": "according-mandate",
   "metadata": {
    "papermill": {
     "duration": 0.031567,
     "end_time": "2021-04-01T10:16:07.625727",
     "exception": false,
     "start_time": "2021-04-01T10:16:07.594160",
     "status": "completed"
    },
    "tags": []
   },
   "source": [
    "### Initializing data to the variables"
   ]
  },
  {
   "cell_type": "code",
   "execution_count": 16,
   "id": "academic-disposition",
   "metadata": {
    "execution": {
     "iopub.execute_input": "2021-04-01T10:16:07.695581Z",
     "iopub.status.busy": "2021-04-01T10:16:07.694981Z",
     "iopub.status.idle": "2021-04-01T10:16:07.707731Z",
     "shell.execute_reply": "2021-04-01T10:16:07.708215Z"
    },
    "papermill": {
     "duration": 0.050733,
     "end_time": "2021-04-01T10:16:07.708363",
     "exception": false,
     "start_time": "2021-04-01T10:16:07.657630",
     "status": "completed"
    },
    "tags": []
   },
   "outputs": [],
   "source": [
    "data = Data(X_train, y_train.reshape(-1,1))\n",
    "sampler = Sampler(data, config.bs, shuffle=True)\n",
    "\n",
    "dl = Dataloader(data, sampler)\n",
    "\n",
    "opt = GD(config.lr)\n",
    "loss = MSE()"
   ]
  },
  {
   "cell_type": "code",
   "execution_count": 17,
   "id": "featured-commission",
   "metadata": {
    "execution": {
     "iopub.execute_input": "2021-04-01T10:16:07.777589Z",
     "iopub.status.busy": "2021-04-01T10:16:07.776986Z",
     "iopub.status.idle": "2021-04-01T10:16:07.790148Z",
     "shell.execute_reply": "2021-04-01T10:16:07.789659Z"
    },
    "papermill": {
     "duration": 0.049672,
     "end_time": "2021-04-01T10:16:07.790283",
     "exception": false,
     "start_time": "2021-04-01T10:16:07.740611",
     "status": "completed"
    },
    "tags": []
   },
   "outputs": [],
   "source": [
    "training_xdata = X_train\n",
    "testing_xdata = X_test\n",
    "training_ydata = y_train.reshape(-1,1)\n",
    "testing_ydata = y_test.reshape(-1,1)"
   ]
  },
  {
   "cell_type": "markdown",
   "id": "played-safety",
   "metadata": {
    "papermill": {
     "duration": 0.032658,
     "end_time": "2021-04-01T10:16:07.854980",
     "exception": false,
     "start_time": "2021-04-01T10:16:07.822322",
     "status": "completed"
    },
    "tags": []
   },
   "source": [
    "### Running Models with the Training data\n",
    "Details about the network layers:\n",
    "- A first affine layer has 784 inputs and does 100 affine transforms. These are followed by a Relu\n",
    "- A second affine layer has 100 inputs from the 100 activations of the past layer, and does 100 affine transforms. These are followed by a Relu\n",
    "- A third affine layer has 100 activations and does 2 affine transformations to create an embedding for visualization. There is no non-linearity here.\n",
    "- A final \"logistic regression\" which has an affine transform from 2 inputs to 1 output, which is squeezed through a sigmoid.\n",
    "\n",
    "Help taken from Anshuman's Notebook."
   ]
  },
  {
   "cell_type": "code",
   "execution_count": 18,
   "id": "asian-bankruptcy",
   "metadata": {
    "execution": {
     "iopub.execute_input": "2021-04-01T10:16:07.926315Z",
     "iopub.status.busy": "2021-04-01T10:16:07.925700Z",
     "iopub.status.idle": "2021-04-01T10:16:07.943868Z",
     "shell.execute_reply": "2021-04-01T10:16:07.943288Z"
    },
    "papermill": {
     "duration": 0.057101,
     "end_time": "2021-04-01T10:16:07.944020",
     "exception": false,
     "start_time": "2021-04-01T10:16:07.886919",
     "status": "completed"
    },
    "tags": []
   },
   "outputs": [],
   "source": [
    "# layers for the Neural Network\n",
    "layers = [Affine(\"first\", 784, 100), Relu(\"first\"), Affine(\"second\", 100, 100), Relu(\"second\"), Affine(\"third\", 100, 2), Affine(\"final\", 2, 1), Sigmoid(\"final\")]\n",
    "model_nn = Model(layers)\n",
    "\n",
    "# layers for the Logistic Regression\n",
    "layers_lr = [Affine(\"logits\", 784, 1), Sigmoid(\"sigmoid\")]\n",
    "model_lr = Model(layers_lr)"
   ]
  },
  {
   "cell_type": "code",
   "execution_count": 19,
   "id": "removed-butler",
   "metadata": {
    "execution": {
     "iopub.execute_input": "2021-04-01T10:16:08.013373Z",
     "iopub.status.busy": "2021-04-01T10:16:08.012731Z",
     "iopub.status.idle": "2021-04-01T10:16:08.028875Z",
     "shell.execute_reply": "2021-04-01T10:16:08.028374Z"
    },
    "papermill": {
     "duration": 0.053178,
     "end_time": "2021-04-01T10:16:08.029034",
     "exception": false,
     "start_time": "2021-04-01T10:16:07.975856",
     "status": "completed"
    },
    "tags": []
   },
   "outputs": [],
   "source": [
    "# suffix _nn stands for Neural Network.\n",
    "learner_nn = Learner(loss, model_nn, opt, config.num_epochs)\n",
    "acc_nn = ClfCallback(learner_nn, config.bs, training_xdata , testing_xdata, training_ydata, testing_ydata)\n",
    "learner_nn.set_callbacks([acc_nn])"
   ]
  },
  {
   "cell_type": "code",
   "execution_count": 20,
   "id": "conceptual-throw",
   "metadata": {
    "execution": {
     "iopub.execute_input": "2021-04-01T10:16:08.100888Z",
     "iopub.status.busy": "2021-04-01T10:16:08.100299Z",
     "iopub.status.idle": "2021-04-01T10:17:35.859860Z",
     "shell.execute_reply": "2021-04-01T10:17:35.860427Z"
    },
    "papermill": {
     "duration": 87.800164,
     "end_time": "2021-04-01T10:17:35.860581",
     "exception": false,
     "start_time": "2021-04-01T10:16:08.060417",
     "status": "completed"
    },
    "tags": []
   },
   "outputs": [
    {
     "name": "stdout",
     "output_type": "stream",
     "text": [
      "====== Neural Network ======\n"
     ]
    },
    {
     "name": "stdout",
     "output_type": "stream",
     "text": [
      "Epoch 0, Loss 0.2496\n",
      "Training Accuracy: 0.5570, Testing Accuracy: 0.6074\n",
      "\n"
     ]
    },
    {
     "name": "stdout",
     "output_type": "stream",
     "text": [
      "Epoch 10, Loss 0.1247\n",
      "Training Accuracy: 0.9025, Testing Accuracy: 0.9143\n",
      "\n"
     ]
    },
    {
     "name": "stdout",
     "output_type": "stream",
     "text": [
      "Epoch 20, Loss 0.0665\n",
      "Training Accuracy: 0.9333, Testing Accuracy: 0.9441\n",
      "\n"
     ]
    },
    {
     "name": "stdout",
     "output_type": "stream",
     "text": [
      "Epoch 30, Loss 0.0489\n",
      "Training Accuracy: 0.9472, Testing Accuracy: 0.9556\n",
      "\n"
     ]
    },
    {
     "name": "stdout",
     "output_type": "stream",
     "text": [
      "Epoch 40, Loss 0.041\n",
      "Training Accuracy: 0.9545, Testing Accuracy: 0.9637\n",
      "\n"
     ]
    },
    {
     "name": "stdout",
     "output_type": "stream",
     "text": [
      "Epoch 50, Loss 0.0366\n",
      "Training Accuracy: 0.9584, Testing Accuracy: 0.9672\n",
      "\n"
     ]
    },
    {
     "name": "stdout",
     "output_type": "stream",
     "text": [
      "Epoch 60, Loss 0.0337\n",
      "Training Accuracy: 0.9624, Testing Accuracy: 0.9677\n",
      "\n"
     ]
    },
    {
     "name": "stdout",
     "output_type": "stream",
     "text": [
      "Epoch 70, Loss 0.0316\n",
      "Training Accuracy: 0.9647, Testing Accuracy: 0.9688\n",
      "\n"
     ]
    },
    {
     "name": "stdout",
     "output_type": "stream",
     "text": [
      "Epoch 80, Loss 0.0301\n",
      "Training Accuracy: 0.9663, Testing Accuracy: 0.9677\n",
      "\n"
     ]
    },
    {
     "name": "stdout",
     "output_type": "stream",
     "text": [
      "Epoch 90, Loss 0.0288\n",
      "Training Accuracy: 0.9677, Testing Accuracy: 0.9688\n",
      "\n"
     ]
    },
    {
     "name": "stdout",
     "output_type": "stream",
     "text": [
      "Epoch 100, Loss 0.0278\n",
      "Training Accuracy: 0.9685, Testing Accuracy: 0.9698\n",
      "\n"
     ]
    },
    {
     "name": "stdout",
     "output_type": "stream",
     "text": [
      "Epoch 110, Loss 0.0269\n",
      "Training Accuracy: 0.9692, Testing Accuracy: 0.9703\n",
      "\n"
     ]
    },
    {
     "name": "stdout",
     "output_type": "stream",
     "text": [
      "Epoch 120, Loss 0.0261\n",
      "Training Accuracy: 0.9702, Testing Accuracy: 0.9713\n",
      "\n"
     ]
    },
    {
     "name": "stdout",
     "output_type": "stream",
     "text": [
      "Epoch 130, Loss 0.0254\n",
      "Training Accuracy: 0.9711, Testing Accuracy: 0.9718\n",
      "\n"
     ]
    },
    {
     "name": "stdout",
     "output_type": "stream",
     "text": [
      "Epoch 140, Loss 0.0248\n",
      "Training Accuracy: 0.9716, Testing Accuracy: 0.9718\n",
      "\n"
     ]
    },
    {
     "name": "stdout",
     "output_type": "stream",
     "text": [
      "Epoch 150, Loss 0.0243\n",
      "Training Accuracy: 0.9721, Testing Accuracy: 0.9728\n",
      "\n"
     ]
    },
    {
     "name": "stdout",
     "output_type": "stream",
     "text": [
      "Epoch 160, Loss 0.0238\n",
      "Training Accuracy: 0.9726, Testing Accuracy: 0.9733\n",
      "\n"
     ]
    },
    {
     "name": "stdout",
     "output_type": "stream",
     "text": [
      "Epoch 170, Loss 0.0233\n",
      "Training Accuracy: 0.9733, Testing Accuracy: 0.9728\n",
      "\n"
     ]
    },
    {
     "name": "stdout",
     "output_type": "stream",
     "text": [
      "Epoch 180, Loss 0.0229\n",
      "Training Accuracy: 0.9739, Testing Accuracy: 0.9733\n",
      "\n"
     ]
    },
    {
     "name": "stdout",
     "output_type": "stream",
     "text": [
      "Epoch 190, Loss 0.0224\n",
      "Training Accuracy: 0.9745, Testing Accuracy: 0.9728\n",
      "\n"
     ]
    },
    {
     "name": "stdout",
     "output_type": "stream",
     "text": [
      "Epoch 200, Loss 0.0221\n",
      "Training Accuracy: 0.9749, Testing Accuracy: 0.9738\n",
      "\n"
     ]
    },
    {
     "name": "stdout",
     "output_type": "stream",
     "text": [
      "Epoch 210, Loss 0.0217\n",
      "Training Accuracy: 0.9754, Testing Accuracy: 0.9738\n",
      "\n"
     ]
    },
    {
     "name": "stdout",
     "output_type": "stream",
     "text": [
      "Epoch 220, Loss 0.0214\n",
      "Training Accuracy: 0.9757, Testing Accuracy: 0.9738\n",
      "\n"
     ]
    },
    {
     "name": "stdout",
     "output_type": "stream",
     "text": [
      "Epoch 230, Loss 0.021\n",
      "Training Accuracy: 0.9761, Testing Accuracy: 0.9738\n",
      "\n"
     ]
    },
    {
     "name": "stdout",
     "output_type": "stream",
     "text": [
      "Epoch 240, Loss 0.0207\n",
      "Training Accuracy: 0.9769, Testing Accuracy: 0.9738\n",
      "\n"
     ]
    },
    {
     "name": "stdout",
     "output_type": "stream",
     "text": [
      "Epoch 250, Loss 0.0204\n",
      "Training Accuracy: 0.9771, Testing Accuracy: 0.9738\n",
      "\n"
     ]
    },
    {
     "data": {
      "text/plain": [
       "0.012823623125023512"
      ]
     },
     "execution_count": 20,
     "metadata": {},
     "output_type": "execute_result"
    }
   ],
   "source": [
    "print(\"====== Neural Network ======\")\n",
    "learner_nn.train_loop(dl)"
   ]
  },
  {
   "cell_type": "markdown",
   "id": "competent-suffering",
   "metadata": {
    "papermill": {
     "duration": 0.04032,
     "end_time": "2021-04-01T10:17:35.941587",
     "exception": false,
     "start_time": "2021-04-01T10:17:35.901267",
     "status": "completed"
    },
    "tags": []
   },
   "source": [
    "### Logistic Regression based Implementation."
   ]
  },
  {
   "cell_type": "code",
   "execution_count": 21,
   "id": "qualified-psychiatry",
   "metadata": {
    "execution": {
     "iopub.execute_input": "2021-04-01T10:17:36.042577Z",
     "iopub.status.busy": "2021-04-01T10:17:36.041939Z",
     "iopub.status.idle": "2021-04-01T10:17:36.053941Z",
     "shell.execute_reply": "2021-04-01T10:17:36.053369Z"
    },
    "papermill": {
     "duration": 0.064247,
     "end_time": "2021-04-01T10:17:36.054076",
     "exception": false,
     "start_time": "2021-04-01T10:17:35.989829",
     "status": "completed"
    },
    "tags": []
   },
   "outputs": [],
   "source": [
    "learner_lr = Learner(loss, model_lr, opt, config.num_epochs)\n",
    "acc_lr = ClfCallback(learner_lr, config.bs, training_xdata , testing_xdata, training_ydata, testing_ydata)\n",
    "learner_lr.set_callbacks([acc_lr])"
   ]
  },
  {
   "cell_type": "code",
   "execution_count": 22,
   "id": "average-outside",
   "metadata": {
    "execution": {
     "iopub.execute_input": "2021-04-01T10:17:36.142379Z",
     "iopub.status.busy": "2021-04-01T10:17:36.140878Z",
     "iopub.status.idle": "2021-04-01T10:17:51.587870Z",
     "shell.execute_reply": "2021-04-01T10:17:51.588676Z"
    },
    "papermill": {
     "duration": 15.49386,
     "end_time": "2021-04-01T10:17:51.588834",
     "exception": false,
     "start_time": "2021-04-01T10:17:36.094974",
     "status": "completed"
    },
    "tags": []
   },
   "outputs": [
    {
     "name": "stdout",
     "output_type": "stream",
     "text": [
      "====== Logistic Regression ======\n",
      "Epoch 0, Loss 0.249\n",
      "Training Accuracy: 0.6582, Testing Accuracy: 0.6653\n",
      "\n"
     ]
    },
    {
     "name": "stdout",
     "output_type": "stream",
     "text": [
      "Epoch 10, Loss 0.1029\n",
      "Training Accuracy: 0.9128, Testing Accuracy: 0.9239\n",
      "\n"
     ]
    },
    {
     "name": "stdout",
     "output_type": "stream",
     "text": [
      "Epoch 20, Loss 0.079\n",
      "Training Accuracy: 0.9291, Testing Accuracy: 0.9400\n",
      "\n"
     ]
    },
    {
     "name": "stdout",
     "output_type": "stream",
     "text": [
      "Epoch 30, Loss 0.0679\n",
      "Training Accuracy: 0.9378, Testing Accuracy: 0.9476\n",
      "\n"
     ]
    },
    {
     "name": "stdout",
     "output_type": "stream",
     "text": [
      "Epoch 40, Loss 0.0613\n",
      "Training Accuracy: 0.9424, Testing Accuracy: 0.9531\n",
      "\n"
     ]
    },
    {
     "name": "stdout",
     "output_type": "stream",
     "text": [
      "Epoch 50, Loss 0.0568\n",
      "Training Accuracy: 0.9456, Testing Accuracy: 0.9556\n",
      "\n"
     ]
    },
    {
     "name": "stdout",
     "output_type": "stream",
     "text": [
      "Epoch 60, Loss 0.0536\n",
      "Training Accuracy: 0.9483, Testing Accuracy: 0.9572\n",
      "\n"
     ]
    },
    {
     "name": "stdout",
     "output_type": "stream",
     "text": [
      "Epoch 70, Loss 0.051\n",
      "Training Accuracy: 0.9500, Testing Accuracy: 0.9612\n",
      "\n"
     ]
    },
    {
     "name": "stdout",
     "output_type": "stream",
     "text": [
      "Epoch 80, Loss 0.049\n",
      "Training Accuracy: 0.9515, Testing Accuracy: 0.9632\n",
      "\n"
     ]
    },
    {
     "name": "stdout",
     "output_type": "stream",
     "text": [
      "Epoch 90, Loss 0.0473\n",
      "Training Accuracy: 0.9530, Testing Accuracy: 0.9637\n",
      "\n"
     ]
    },
    {
     "name": "stdout",
     "output_type": "stream",
     "text": [
      "Epoch 100, Loss 0.0459\n",
      "Training Accuracy: 0.9541, Testing Accuracy: 0.9642\n",
      "\n"
     ]
    },
    {
     "name": "stdout",
     "output_type": "stream",
     "text": [
      "Epoch 110, Loss 0.0447\n",
      "Training Accuracy: 0.9549, Testing Accuracy: 0.9642\n",
      "\n"
     ]
    },
    {
     "name": "stdout",
     "output_type": "stream",
     "text": [
      "Epoch 120, Loss 0.0437\n",
      "Training Accuracy: 0.9557, Testing Accuracy: 0.9647\n",
      "\n"
     ]
    },
    {
     "name": "stdout",
     "output_type": "stream",
     "text": [
      "Epoch 130, Loss 0.0428\n",
      "Training Accuracy: 0.9562, Testing Accuracy: 0.9657\n",
      "\n"
     ]
    },
    {
     "name": "stdout",
     "output_type": "stream",
     "text": [
      "Epoch 140, Loss 0.0419\n",
      "Training Accuracy: 0.9565, Testing Accuracy: 0.9647\n",
      "\n"
     ]
    },
    {
     "name": "stdout",
     "output_type": "stream",
     "text": [
      "Epoch 150, Loss 0.0412\n",
      "Training Accuracy: 0.9569, Testing Accuracy: 0.9652\n",
      "\n"
     ]
    },
    {
     "name": "stdout",
     "output_type": "stream",
     "text": [
      "Epoch 160, Loss 0.0405\n",
      "Training Accuracy: 0.9578, Testing Accuracy: 0.9652\n",
      "\n"
     ]
    },
    {
     "name": "stdout",
     "output_type": "stream",
     "text": [
      "Epoch 170, Loss 0.0399\n",
      "Training Accuracy: 0.9584, Testing Accuracy: 0.9652\n",
      "\n"
     ]
    },
    {
     "name": "stdout",
     "output_type": "stream",
     "text": [
      "Epoch 180, Loss 0.0394\n",
      "Training Accuracy: 0.9586, Testing Accuracy: 0.9652\n",
      "\n"
     ]
    },
    {
     "name": "stdout",
     "output_type": "stream",
     "text": [
      "Epoch 190, Loss 0.0389\n",
      "Training Accuracy: 0.9593, Testing Accuracy: 0.9647\n",
      "\n"
     ]
    },
    {
     "name": "stdout",
     "output_type": "stream",
     "text": [
      "Epoch 200, Loss 0.0384\n",
      "Training Accuracy: 0.9597, Testing Accuracy: 0.9647\n",
      "\n"
     ]
    },
    {
     "name": "stdout",
     "output_type": "stream",
     "text": [
      "Epoch 210, Loss 0.038\n",
      "Training Accuracy: 0.9599, Testing Accuracy: 0.9657\n",
      "\n"
     ]
    },
    {
     "name": "stdout",
     "output_type": "stream",
     "text": [
      "Epoch 220, Loss 0.0376\n",
      "Training Accuracy: 0.9599, Testing Accuracy: 0.9662\n",
      "\n"
     ]
    },
    {
     "name": "stdout",
     "output_type": "stream",
     "text": [
      "Epoch 230, Loss 0.0372\n",
      "Training Accuracy: 0.9601, Testing Accuracy: 0.9662\n",
      "\n"
     ]
    },
    {
     "name": "stdout",
     "output_type": "stream",
     "text": [
      "Epoch 240, Loss 0.0368\n",
      "Training Accuracy: 0.9601, Testing Accuracy: 0.9672\n",
      "\n"
     ]
    },
    {
     "name": "stdout",
     "output_type": "stream",
     "text": [
      "Epoch 250, Loss 0.0365\n",
      "Training Accuracy: 0.9604, Testing Accuracy: 0.9677\n",
      "\n"
     ]
    },
    {
     "data": {
      "text/plain": [
       "0.030422466106607975"
      ]
     },
     "execution_count": 22,
     "metadata": {},
     "output_type": "execute_result"
    }
   ],
   "source": [
    "print(\"====== Logistic Regression ======\")\n",
    "learner_lr.train_loop(dl)"
   ]
  },
  {
   "cell_type": "markdown",
   "id": "adjusted-possible",
   "metadata": {
    "papermill": {
     "duration": 0.047319,
     "end_time": "2021-04-01T10:17:51.683520",
     "exception": false,
     "start_time": "2021-04-01T10:17:51.636201",
     "status": "completed"
    },
    "tags": []
   },
   "source": [
    "### Comparing results of NN and LR"
   ]
  },
  {
   "cell_type": "code",
   "execution_count": 23,
   "id": "mental-multimedia",
   "metadata": {
    "execution": {
     "iopub.execute_input": "2021-04-01T10:17:51.786804Z",
     "iopub.status.busy": "2021-04-01T10:17:51.785745Z",
     "iopub.status.idle": "2021-04-01T10:17:52.029186Z",
     "shell.execute_reply": "2021-04-01T10:17:52.029685Z"
    },
    "papermill": {
     "duration": 0.298084,
     "end_time": "2021-04-01T10:17:52.029840",
     "exception": false,
     "start_time": "2021-04-01T10:17:51.731756",
     "status": "completed"
    },
    "tags": []
   },
   "outputs": [
    {
     "data": {
      "text/plain": [
       "<matplotlib.legend.Legend at 0x7f697f4444e0>"
      ]
     },
     "execution_count": 23,
     "metadata": {},
     "output_type": "execute_result"
    },
    {
     "data": {
      "image/png": "[encoded data removed]",
      "text/plain": [
       "<Figure size 1080x720 with 1 Axes>"
      ]
     },
     "metadata": {
      "needs_background": "light"
     },
     "output_type": "display_data"
    }
   ],
   "source": [
    "plt.figure(figsize=(15,10))\n",
    "\n",
    "# Neural Network plots\n",
    "plt.plot(acc_nn.accuracies, 'r-', label = \"Training Accuracies - NN\")\n",
    "plt.plot(acc_nn.test_accuracies, 'g-', label = \"Testing Accuracies - NN\")\n",
    "\n",
    "# Logistic Regression plots\n",
    "plt.plot(acc_lr.accuracies, 'k-', label = \"Training Accuracies - LR\")\n",
    "plt.plot(acc_lr.test_accuracies, 'b-', label = \"Testing Accuracies - LR\")\n",
    "\n",
    "plt.ylim(0.8, 1)\n",
    "\n",
    "plt.legend()\n",
    "\n"
   ]
  },
  {
   "cell_type": "markdown",
   "id": "sexual-flesh",
   "metadata": {
    "papermill": {
     "duration": 0.049848,
     "end_time": "2021-04-01T10:17:52.130208",
     "exception": false,
     "start_time": "2021-04-01T10:17:52.080360",
     "status": "completed"
    },
    "tags": []
   },
   "source": [
    "### From the plot, we can observe the following:\n",
    "- Neural Network achieves higher accuracy than the Logistic Regression model.\n",
    "- This apparently, is because of overfitting, i.e. NN captures more noise than data.\n",
    "- Testing accuracy of NN drops below the Training accuracy at higher epochs. This explains the over-fitting on training data.\n",
    "- Logistic Regression gives a reliable accuracy, without the above mentioned problem.\n"
   ]
  },
  {
   "cell_type": "markdown",
   "id": "institutional-pacific",
   "metadata": {
    "papermill": {
     "duration": 0.049405,
     "end_time": "2021-04-01T10:17:52.230074",
     "exception": false,
     "start_time": "2021-04-01T10:17:52.180669",
     "status": "completed"
    },
    "tags": []
   },
   "source": [
    "### Moving till the last but one layer (excluding it).\n",
    "#### Plotting the outputs of this layer of the NN."
   ]
  },
  {
   "cell_type": "code",
   "execution_count": 24,
   "id": "economic-server",
   "metadata": {
    "execution": {
     "iopub.execute_input": "2021-04-01T10:17:52.333730Z",
     "iopub.status.busy": "2021-04-01T10:17:52.333117Z",
     "iopub.status.idle": "2021-04-01T10:17:52.351232Z",
     "shell.execute_reply": "2021-04-01T10:17:52.350706Z"
    },
    "papermill": {
     "duration": 0.072566,
     "end_time": "2021-04-01T10:17:52.351373",
     "exception": false,
     "start_time": "2021-04-01T10:17:52.278807",
     "status": "completed"
    },
    "tags": []
   },
   "outputs": [],
   "source": [
    "model_new = Model(layers[:-2])"
   ]
  },
  {
   "cell_type": "code",
   "execution_count": 25,
   "id": "varied-upgrade",
   "metadata": {
    "execution": {
     "iopub.execute_input": "2021-04-01T10:17:52.458489Z",
     "iopub.status.busy": "2021-04-01T10:17:52.457907Z",
     "iopub.status.idle": "2021-04-01T10:17:52.478173Z",
     "shell.execute_reply": "2021-04-01T10:17:52.478688Z"
    },
    "papermill": {
     "duration": 0.077092,
     "end_time": "2021-04-01T10:17:52.478852",
     "exception": false,
     "start_time": "2021-04-01T10:17:52.401760",
     "status": "completed"
    },
    "tags": []
   },
   "outputs": [],
   "source": [
    "plot_testing = model_new(testing_xdata)"
   ]
  },
  {
   "cell_type": "code",
   "execution_count": 26,
   "id": "specific-handling",
   "metadata": {
    "execution": {
     "iopub.execute_input": "2021-04-01T10:17:52.590612Z",
     "iopub.status.busy": "2021-04-01T10:17:52.590050Z",
     "iopub.status.idle": "2021-04-01T10:17:52.795793Z",
     "shell.execute_reply": "2021-04-01T10:17:52.796277Z"
    },
    "papermill": {
     "duration": 0.267478,
     "end_time": "2021-04-01T10:17:52.796427",
     "exception": false,
     "start_time": "2021-04-01T10:17:52.528949",
     "status": "completed"
    },
    "tags": []
   },
   "outputs": [
    {
     "data": {
      "text/plain": [
       "Text(0.5, 1.0, 'Outputs')"
      ]
     },
     "execution_count": 26,
     "metadata": {},
     "output_type": "execute_result"
    },
    {
     "data": {
      "image/png": "[encoded data removed]",
      "text/plain": [
       "<Figure size 576x504 with 1 Axes>"
      ]
     },
     "metadata": {
      "needs_background": "light"
     },
     "output_type": "display_data"
    }
   ],
   "source": [
    "plt.figure(figsize=(8,7))\n",
    "plt.scatter(plot_testing[:,0], plot_testing[:,1], alpha = 0.1, c = y_test.ravel());\n",
    "plt.title('Outputs')"
   ]
  },
  {
   "cell_type": "markdown",
   "id": "described-knowing",
   "metadata": {
    "papermill": {
     "duration": 0.090727,
     "end_time": "2021-04-01T10:17:52.940034",
     "exception": false,
     "start_time": "2021-04-01T10:17:52.849307",
     "status": "completed"
    },
    "tags": []
   },
   "source": [
    "### Plotting probability contours"
   ]
  },
  {
   "cell_type": "code",
   "execution_count": 27,
   "id": "needed-growing",
   "metadata": {
    "execution": {
     "iopub.execute_input": "2021-04-01T10:17:53.051290Z",
     "iopub.status.busy": "2021-04-01T10:17:53.050690Z",
     "iopub.status.idle": "2021-04-01T10:17:53.064879Z",
     "shell.execute_reply": "2021-04-01T10:17:53.064358Z"
    },
    "papermill": {
     "duration": 0.071952,
     "end_time": "2021-04-01T10:17:53.065038",
     "exception": false,
     "start_time": "2021-04-01T10:17:52.993086",
     "status": "completed"
    },
    "tags": []
   },
   "outputs": [],
   "source": [
    "model_prob = Model(layers[-2:]) "
   ]
  },
  {
   "cell_type": "code",
   "execution_count": 28,
   "id": "introductory-enforcement",
   "metadata": {
    "execution": {
     "iopub.execute_input": "2021-04-01T10:17:53.177325Z",
     "iopub.status.busy": "2021-04-01T10:17:53.176558Z",
     "iopub.status.idle": "2021-04-01T10:17:53.189880Z",
     "shell.execute_reply": "2021-04-01T10:17:53.190331Z"
    },
    "papermill": {
     "duration": 0.07254,
     "end_time": "2021-04-01T10:17:53.190500",
     "exception": false,
     "start_time": "2021-04-01T10:17:53.117960",
     "status": "completed"
    },
    "tags": []
   },
   "outputs": [],
   "source": [
    "# Adjust the x and y ranges according to the above generated plot.\n",
    "x_range = np.linspace(-4, 1, 100) \n",
    "y_range = np.linspace(-6, 6, 100) \n",
    "x_grid, y_grid = np.meshgrid(x_range, y_range) # x_grid and y_grig are of size 100 X 100\n",
    "\n",
    "# converting x_grid and y_grid to continuous arrays\n",
    "x_grid_flat = np.ravel(x_grid)\n",
    "y_grid_flat = np.ravel(y_grid)\n",
    "\n",
    "# The last layer of the current model takes two columns as input. Hence transpose of np.vstack() is required.\n",
    "X = np.vstack((x_grid_flat, y_grid_flat)).T\n",
    "\n",
    "# x_grid and y_grid are of size 100 x 100\n",
    "probability_contour = model_prob(X).reshape(100,100) "
   ]
  },
  {
   "cell_type": "code",
   "execution_count": 29,
   "id": "understood-landing",
   "metadata": {
    "execution": {
     "iopub.execute_input": "2021-04-01T10:17:53.310393Z",
     "iopub.status.busy": "2021-04-01T10:17:53.309825Z",
     "iopub.status.idle": "2021-04-01T10:17:53.566853Z",
     "shell.execute_reply": "2021-04-01T10:17:53.566340Z"
    },
    "papermill": {
     "duration": 0.321885,
     "end_time": "2021-04-01T10:17:53.566982",
     "exception": false,
     "start_time": "2021-04-01T10:17:53.245097",
     "status": "completed"
    },
    "tags": []
   },
   "outputs": [
    {
     "data": {
      "image/png": "[encoded data removed]",
      "text/plain": [
       "<Figure size 720x648 with 1 Axes>"
      ]
     },
     "metadata": {
      "needs_background": "light"
     },
     "output_type": "display_data"
    }
   ],
   "source": [
    "plt.figure(figsize=(10,9))\n",
    "plt.scatter(plot_testing[:,0], plot_testing[:,1], alpha = 0.1, c = y_test.ravel())\n",
    "contours = plt.contour(x_grid,y_grid,probability_contour)\n",
    "plt.title('Probability Contours')\n",
    "plt.clabel(contours, inline = True );"
   ]
  }
 ],
 "metadata": {
  "kernelspec": {
   "display_name": "Python 3",
   "language": "python",
   "name": "python3"
  },
  "language_info": {
   "codemirror_mode": {
    "name": "ipython",
    "version": 3
   },
   "file_extension": ".py",
   "mimetype": "text/x-python",
   "name": "python",
   "nbconvert_exporter": "python",
   "pygments_lexer": "ipython3",
   "version": "3.6.13"
  },
  "papermill": {
   "duration": 458.430043,
   "end_time": "2021-04-01T10:17:54.031410",
   "environment_variables": {},
   "exception": null,
   "input_path": "2020-08-11-NeuralNetwork.ipynb",
   "output_path": "2020-08-11-NeuralNetwork.ipynb",
   "parameters": {},
   "start_time": "2021-04-01T10:10:15.601367",
   "version": "2.1.2"
  }
 },
 "nbformat": 4,
 "nbformat_minor": 5
}