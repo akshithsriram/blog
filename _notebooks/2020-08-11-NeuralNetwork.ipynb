{
 "cells": [
  {
   "cell_type": "markdown",
   "metadata": {
    "papermill": {
     "duration": 0.033075,
     "end_time": "2020-12-01T10:10:26.726059",
     "exception": false,
     "start_time": "2020-12-01T10:10:26.692984",
     "status": "completed"
    },
    "tags": []
   },
   "source": [
    "# \"A Basic Neural Network: Differentiate Hand-Written Digits\"\n",
    "\n",
    "- badges: true\n",
    "- author: Akshith Sriram"
   ]
  },
  {
   "cell_type": "markdown",
   "metadata": {
    "papermill": {
     "duration": 0.030272,
     "end_time": "2020-12-01T10:10:26.790909",
     "exception": false,
     "start_time": "2020-12-01T10:10:26.760637",
     "status": "completed"
    },
    "tags": []
   },
   "source": [
    "### Key Objectives:\n",
    "- Building a neural network that differentiates two hand-written digits 3 and 8.\n",
    "- Comparing the results of this Neural Network (NN) to that of a Logistic Regression (LR) model.\n",
    "\n",
    "### Requirements:\n",
    "- 'Kudzu' : A neural network library that was designed during our course by [Univ.AI](www.univ.ai). \n",
    "- MNIST Database\n",
    "\n",
    "If MNIST is not installed, use the command `!pip install mnist` given below.\n",
    "It can be run both from the command line and Jupyter Notebook."
   ]
  },
  {
   "cell_type": "code",
   "execution_count": 1,
   "metadata": {
    "execution": {
     "iopub.execute_input": "2020-12-01T10:10:26.857675Z",
     "iopub.status.busy": "2020-12-01T10:10:26.856982Z",
     "iopub.status.idle": "2020-12-01T10:10:28.875147Z",
     "shell.execute_reply": "2020-12-01T10:10:28.875717Z"
    },
    "papermill": {
     "duration": 2.05531,
     "end_time": "2020-12-01T10:10:28.875911",
     "exception": false,
     "start_time": "2020-12-01T10:10:26.820601",
     "status": "completed"
    },
    "tags": []
   },
   "outputs": [
    {
     "name": "stdout",
     "output_type": "stream",
     "text": [
      "Collecting mnist\r\n"
     ]
    },
    {
     "name": "stdout",
     "output_type": "stream",
     "text": [
      "  Downloading mnist-0.2.2-py2.py3-none-any.whl (3.5 kB)\r\n"
     ]
    },
    {
     "name": "stdout",
     "output_type": "stream",
     "text": [
      "Requirement already satisfied: numpy in /opt/hostedtoolcache/Python/3.6.12/x64/lib/python3.6/site-packages (from mnist) (1.19.4)\r\n"
     ]
    },
    {
     "name": "stdout",
     "output_type": "stream",
     "text": [
      "Installing collected packages: mnist\r\n"
     ]
    },
    {
     "name": "stdout",
     "output_type": "stream",
     "text": [
      "Successfully installed mnist-0.2.2\r\n"
     ]
    },
    {
     "name": "stdout",
     "output_type": "stream",
     "text": [
      "\u001b[33mWARNING: You are using pip version 20.2.4; however, version 20.3 is available.\r\n",
      "You should consider upgrading via the '/opt/hostedtoolcache/Python/3.6.12/x64/bin/python -m pip install --upgrade pip' command.\u001b[0m\r\n"
     ]
    }
   ],
   "source": [
    "!pip install mnist "
   ]
  },
  {
   "cell_type": "markdown",
   "metadata": {
    "papermill": {
     "duration": 0.032781,
     "end_time": "2020-12-01T10:10:28.938299",
     "exception": false,
     "start_time": "2020-12-01T10:10:28.905518",
     "status": "completed"
    },
    "tags": []
   },
   "source": [
    "#### Importing necessary libraries"
   ]
  },
  {
   "cell_type": "code",
   "execution_count": 2,
   "metadata": {
    "execution": {
     "iopub.execute_input": "2020-12-01T10:10:29.016215Z",
     "iopub.status.busy": "2020-12-01T10:10:29.015560Z",
     "iopub.status.idle": "2020-12-01T10:10:29.692167Z",
     "shell.execute_reply": "2020-12-01T10:10:29.691488Z"
    },
    "papermill": {
     "duration": 0.717744,
     "end_time": "2020-12-01T10:10:29.692314",
     "exception": false,
     "start_time": "2020-12-01T10:10:28.974570",
     "status": "completed"
    },
    "tags": []
   },
   "outputs": [],
   "source": [
    "%load_ext autoreload\n",
    "%autoreload 2\n",
    "\n",
    "%matplotlib inline\n",
    "import matplotlib.pyplot as plt\n",
    "\n",
    "import numpy as np\n",
    "import pandas as pd"
   ]
  },
  {
   "cell_type": "markdown",
   "metadata": {
    "papermill": {
     "duration": 0.031371,
     "end_time": "2020-12-01T10:10:29.759740",
     "exception": false,
     "start_time": "2020-12-01T10:10:29.728369",
     "status": "completed"
    },
    "tags": []
   },
   "source": [
    "### Preparing the Data"
   ]
  },
  {
   "cell_type": "code",
   "execution_count": 3,
   "metadata": {
    "execution": {
     "iopub.execute_input": "2020-12-01T10:10:29.834679Z",
     "iopub.status.busy": "2020-12-01T10:10:29.834043Z",
     "iopub.status.idle": "2020-12-01T10:10:29.844278Z",
     "shell.execute_reply": "2020-12-01T10:10:29.843713Z"
    },
    "papermill": {
     "duration": 0.05376,
     "end_time": "2020-12-01T10:10:29.844438",
     "exception": false,
     "start_time": "2020-12-01T10:10:29.790678",
     "status": "completed"
    },
    "tags": []
   },
   "outputs": [],
   "source": [
    "import mnist"
   ]
  },
  {
   "cell_type": "code",
   "execution_count": 4,
   "metadata": {
    "execution": {
     "iopub.execute_input": "2020-12-01T10:10:29.915888Z",
     "iopub.status.busy": "2020-12-01T10:10:29.915255Z",
     "iopub.status.idle": "2020-12-01T10:10:31.673881Z",
     "shell.execute_reply": "2020-12-01T10:10:31.673230Z"
    },
    "papermill": {
     "duration": 1.799497,
     "end_time": "2020-12-01T10:10:31.674034",
     "exception": false,
     "start_time": "2020-12-01T10:10:29.874537",
     "status": "completed"
    },
    "tags": []
   },
   "outputs": [],
   "source": [
    "train_images = mnist.train_images()\n",
    "train_labels = mnist.train_labels()"
   ]
  },
  {
   "cell_type": "code",
   "execution_count": 5,
   "metadata": {
    "execution": {
     "iopub.execute_input": "2020-12-01T10:10:31.740687Z",
     "iopub.status.busy": "2020-12-01T10:10:31.740002Z",
     "iopub.status.idle": "2020-12-01T10:10:31.760555Z",
     "shell.execute_reply": "2020-12-01T10:10:31.759961Z"
    },
    "papermill": {
     "duration": 0.055421,
     "end_time": "2020-12-01T10:10:31.760702",
     "exception": false,
     "start_time": "2020-12-01T10:10:31.705281",
     "status": "completed"
    },
    "tags": []
   },
   "outputs": [
    {
     "data": {
      "text/plain": [
       "((60000, 28, 28), (60000,))"
      ]
     },
     "execution_count": 5,
     "metadata": {},
     "output_type": "execute_result"
    }
   ],
   "source": [
    "train_images.shape, train_labels.shape"
   ]
  },
  {
   "cell_type": "code",
   "execution_count": 6,
   "metadata": {
    "execution": {
     "iopub.execute_input": "2020-12-01T10:10:31.831211Z",
     "iopub.status.busy": "2020-12-01T10:10:31.830402Z",
     "iopub.status.idle": "2020-12-01T10:10:33.077137Z",
     "shell.execute_reply": "2020-12-01T10:10:33.077634Z"
    },
    "papermill": {
     "duration": 1.282665,
     "end_time": "2020-12-01T10:10:33.077810",
     "exception": false,
     "start_time": "2020-12-01T10:10:31.795145",
     "status": "completed"
    },
    "tags": []
   },
   "outputs": [],
   "source": [
    "test_images = mnist.test_images()\n",
    "test_labels = mnist.test_labels()"
   ]
  },
  {
   "cell_type": "code",
   "execution_count": 7,
   "metadata": {
    "execution": {
     "iopub.execute_input": "2020-12-01T10:10:33.565594Z",
     "iopub.status.busy": "2020-12-01T10:10:33.564829Z",
     "iopub.status.idle": "2020-12-01T10:10:33.580188Z",
     "shell.execute_reply": "2020-12-01T10:10:33.579532Z"
    },
    "papermill": {
     "duration": 0.389967,
     "end_time": "2020-12-01T10:10:33.580336",
     "exception": false,
     "start_time": "2020-12-01T10:10:33.190369",
     "status": "completed"
    },
    "tags": []
   },
   "outputs": [
    {
     "data": {
      "text/plain": [
       "((10000, 28, 28), (10000,))"
      ]
     },
     "execution_count": 7,
     "metadata": {},
     "output_type": "execute_result"
    }
   ],
   "source": [
    "test_images.shape, test_labels.shape"
   ]
  },
  {
   "cell_type": "code",
   "execution_count": 8,
   "metadata": {
    "execution": {
     "iopub.execute_input": "2020-12-01T10:10:34.009539Z",
     "iopub.status.busy": "2020-12-01T10:10:34.008853Z",
     "iopub.status.idle": "2020-12-01T10:10:34.203276Z",
     "shell.execute_reply": "2020-12-01T10:10:34.202697Z"
    },
    "papermill": {
     "duration": 0.236365,
     "end_time": "2020-12-01T10:10:34.203442",
     "exception": false,
     "start_time": "2020-12-01T10:10:33.967077",
     "status": "completed"
    },
    "tags": []
   },
   "outputs": [
    {
     "name": "stdout",
     "output_type": "stream",
     "text": [
      "2\n"
     ]
    },
    {
     "data": {
      "text/plain": [
       "<matplotlib.image.AxesImage at 0x7f9e53ecc080>"
      ]
     },
     "execution_count": 8,
     "metadata": {},
     "output_type": "execute_result"
    },
    {
     "data": {
      "image/png": "[encoded data removed]",
      "text/plain": [
       "<Figure size 432x288 with 1 Axes>"
      ]
     },
     "metadata": {
      "needs_background": "light"
     },
     "output_type": "display_data"
    }
   ],
   "source": [
    "image_index = 7776 # You may select anything up to 60,000\n",
    "print(train_labels[image_index]) \n",
    "plt.imshow(train_images[image_index], cmap='Greys')"
   ]
  },
  {
   "cell_type": "markdown",
   "metadata": {
    "papermill": {
     "duration": 0.032539,
     "end_time": "2020-12-01T10:10:34.268620",
     "exception": false,
     "start_time": "2020-12-01T10:10:34.236081",
     "status": "completed"
    },
    "tags": []
   },
   "source": [
    "## Filter data to get 3 and 8 out"
   ]
  },
  {
   "cell_type": "code",
   "execution_count": 9,
   "metadata": {
    "execution": {
     "iopub.execute_input": "2020-12-01T10:10:34.350749Z",
     "iopub.status.busy": "2020-12-01T10:10:34.343117Z",
     "iopub.status.idle": "2020-12-01T10:10:34.371034Z",
     "shell.execute_reply": "2020-12-01T10:10:34.370463Z"
    },
    "papermill": {
     "duration": 0.066512,
     "end_time": "2020-12-01T10:10:34.371396",
     "exception": false,
     "start_time": "2020-12-01T10:10:34.304884",
     "status": "completed"
    },
    "tags": []
   },
   "outputs": [],
   "source": [
    "train_filter = np.where((train_labels == 3 ) | (train_labels == 8))\n",
    "test_filter = np.where((test_labels == 3) | (test_labels == 8))\n",
    "X_train, y_train = train_images[train_filter], train_labels[train_filter]\n",
    "X_test, y_test = test_images[test_filter], test_labels[test_filter]"
   ]
  },
  {
   "cell_type": "markdown",
   "metadata": {
    "papermill": {
     "duration": 0.033737,
     "end_time": "2020-12-01T10:10:34.440412",
     "exception": false,
     "start_time": "2020-12-01T10:10:34.406675",
     "status": "completed"
    },
    "tags": []
   },
   "source": [
    "We normalize the pixel values in the 0 to 1 range"
   ]
  },
  {
   "cell_type": "code",
   "execution_count": 10,
   "metadata": {
    "execution": {
     "iopub.execute_input": "2020-12-01T10:10:34.512141Z",
     "iopub.status.busy": "2020-12-01T10:10:34.511253Z",
     "iopub.status.idle": "2020-12-01T10:10:34.575820Z",
     "shell.execute_reply": "2020-12-01T10:10:34.575103Z"
    },
    "papermill": {
     "duration": 0.103354,
     "end_time": "2020-12-01T10:10:34.575975",
     "exception": false,
     "start_time": "2020-12-01T10:10:34.472621",
     "status": "completed"
    },
    "tags": []
   },
   "outputs": [],
   "source": [
    "X_train = X_train/255.\n",
    "X_test = X_test/255."
   ]
  },
  {
   "cell_type": "markdown",
   "metadata": {
    "papermill": {
     "duration": 0.03239,
     "end_time": "2020-12-01T10:10:34.642748",
     "exception": false,
     "start_time": "2020-12-01T10:10:34.610358",
     "status": "completed"
    },
    "tags": []
   },
   "source": [
    "Setup the labels as 1 (when the digit is 3) and 0 (when the digit is 8)"
   ]
  },
  {
   "cell_type": "code",
   "execution_count": 11,
   "metadata": {
    "execution": {
     "iopub.execute_input": "2020-12-01T10:10:34.712744Z",
     "iopub.status.busy": "2020-12-01T10:10:34.712093Z",
     "iopub.status.idle": "2020-12-01T10:10:34.726546Z",
     "shell.execute_reply": "2020-12-01T10:10:34.727130Z"
    },
    "papermill": {
     "duration": 0.051701,
     "end_time": "2020-12-01T10:10:34.727275",
     "exception": false,
     "start_time": "2020-12-01T10:10:34.675574",
     "status": "completed"
    },
    "tags": []
   },
   "outputs": [],
   "source": [
    "y_train = 1*(y_train==3)\n",
    "y_test = 1*(y_test==3)"
   ]
  },
  {
   "cell_type": "code",
   "execution_count": 12,
   "metadata": {
    "execution": {
     "iopub.execute_input": "2020-12-01T10:10:34.797862Z",
     "iopub.status.busy": "2020-12-01T10:10:34.797225Z",
     "iopub.status.idle": "2020-12-01T10:10:34.812078Z",
     "shell.execute_reply": "2020-12-01T10:10:34.811553Z"
    },
    "papermill": {
     "duration": 0.050541,
     "end_time": "2020-12-01T10:10:34.812240",
     "exception": false,
     "start_time": "2020-12-01T10:10:34.761699",
     "status": "completed"
    },
    "tags": []
   },
   "outputs": [
    {
     "data": {
      "text/plain": [
       "((11982, 28, 28), (1984, 28, 28))"
      ]
     },
     "execution_count": 12,
     "metadata": {},
     "output_type": "execute_result"
    }
   ],
   "source": [
    "X_train.shape, X_test.shape"
   ]
  },
  {
   "cell_type": "markdown",
   "metadata": {
    "papermill": {
     "duration": 0.032398,
     "end_time": "2020-12-01T10:10:34.883474",
     "exception": false,
     "start_time": "2020-12-01T10:10:34.851076",
     "status": "completed"
    },
    "tags": []
   },
   "source": [
    "### Reshape the input data to create a linear array"
   ]
  },
  {
   "cell_type": "code",
   "execution_count": 13,
   "metadata": {
    "execution": {
     "iopub.execute_input": "2020-12-01T10:10:34.955500Z",
     "iopub.status.busy": "2020-12-01T10:10:34.954689Z",
     "iopub.status.idle": "2020-12-01T10:10:34.970042Z",
     "shell.execute_reply": "2020-12-01T10:10:34.970678Z"
    },
    "papermill": {
     "duration": 0.054297,
     "end_time": "2020-12-01T10:10:34.970847",
     "exception": false,
     "start_time": "2020-12-01T10:10:34.916550",
     "status": "completed"
    },
    "tags": []
   },
   "outputs": [
    {
     "data": {
      "text/plain": [
       "((11982, 784), (1984, 784))"
      ]
     },
     "execution_count": 13,
     "metadata": {},
     "output_type": "execute_result"
    }
   ],
   "source": [
    "X_train = X_train.reshape(X_train.shape[0], -1)\n",
    "X_test = X_test.reshape(X_test.shape[0], -1)\n",
    "X_train.shape, X_test.shape"
   ]
  },
  {
   "cell_type": "markdown",
   "metadata": {
    "papermill": {
     "duration": 0.039215,
     "end_time": "2020-12-01T10:10:35.043329",
     "exception": false,
     "start_time": "2020-12-01T10:10:35.004114",
     "status": "completed"
    },
    "tags": []
   },
   "source": [
    "### Importing appropriate functions from 'Kudzu'"
   ]
  },
  {
   "cell_type": "code",
   "execution_count": 14,
   "metadata": {
    "execution": {
     "iopub.execute_input": "2020-12-01T10:10:35.122821Z",
     "iopub.status.busy": "2020-12-01T10:10:35.122084Z",
     "iopub.status.idle": "2020-12-01T10:10:35.146033Z",
     "shell.execute_reply": "2020-12-01T10:10:35.146597Z"
    },
    "papermill": {
     "duration": 0.066008,
     "end_time": "2020-12-01T10:10:35.146768",
     "exception": false,
     "start_time": "2020-12-01T10:10:35.080760",
     "status": "completed"
    },
    "tags": []
   },
   "outputs": [],
   "source": [
    "from kudzu.layer import Sigmoid\n",
    "from kudzu.layer import Relu\n",
    "from kudzu.layer import Affine, Sigmoid\n",
    "\n",
    "from kudzu.model import Model\n",
    "from kudzu.train import Learner\n",
    "from kudzu.optim import GD\n",
    "from kudzu.data import Data, Dataloader, Sampler\n",
    "\n",
    "from kudzu.callbacks import AccCallback\n",
    "from kudzu.callbacks import ClfCallback\n",
    "\n",
    "from kudzu.loss import MSE"
   ]
  },
  {
   "cell_type": "markdown",
   "metadata": {
    "papermill": {
     "duration": 0.032218,
     "end_time": "2020-12-01T10:10:35.215479",
     "exception": false,
     "start_time": "2020-12-01T10:10:35.183261",
     "status": "completed"
    },
    "tags": []
   },
   "source": [
    "### Let us create a `Config` class, to store important parameters. \n",
    "This class essentially plays the role of a dictionary."
   ]
  },
  {
   "cell_type": "code",
   "execution_count": 15,
   "metadata": {
    "execution": {
     "iopub.execute_input": "2020-12-01T10:10:35.287262Z",
     "iopub.status.busy": "2020-12-01T10:10:35.286380Z",
     "iopub.status.idle": "2020-12-01T10:10:35.301567Z",
     "shell.execute_reply": "2020-12-01T10:10:35.302167Z"
    },
    "papermill": {
     "duration": 0.053595,
     "end_time": "2020-12-01T10:10:35.302373",
     "exception": false,
     "start_time": "2020-12-01T10:10:35.248778",
     "status": "completed"
    },
    "tags": []
   },
   "outputs": [],
   "source": [
    "class Config:\n",
    "    pass\n",
    "config = Config()\n",
    "config.lr = 0.001\n",
    "config.num_epochs = 251\n",
    "config.bs = 50"
   ]
  },
  {
   "cell_type": "markdown",
   "metadata": {
    "papermill": {
     "duration": 0.036323,
     "end_time": "2020-12-01T10:10:35.374287",
     "exception": false,
     "start_time": "2020-12-01T10:10:35.337964",
     "status": "completed"
    },
    "tags": []
   },
   "source": [
    "### Initializing data to the variables"
   ]
  },
  {
   "cell_type": "code",
   "execution_count": 16,
   "metadata": {
    "execution": {
     "iopub.execute_input": "2020-12-01T10:10:35.457166Z",
     "iopub.status.busy": "2020-12-01T10:10:35.456480Z",
     "iopub.status.idle": "2020-12-01T10:10:35.469617Z",
     "shell.execute_reply": "2020-12-01T10:10:35.470342Z"
    },
    "papermill": {
     "duration": 0.058414,
     "end_time": "2020-12-01T10:10:35.470520",
     "exception": false,
     "start_time": "2020-12-01T10:10:35.412106",
     "status": "completed"
    },
    "tags": []
   },
   "outputs": [],
   "source": [
    "data = Data(X_train, y_train.reshape(-1,1))\n",
    "sampler = Sampler(data, config.bs, shuffle=True)\n",
    "\n",
    "dl = Dataloader(data, sampler)\n",
    "\n",
    "opt = GD(config.lr)\n",
    "loss = MSE()"
   ]
  },
  {
   "cell_type": "code",
   "execution_count": 17,
   "metadata": {
    "execution": {
     "iopub.execute_input": "2020-12-01T10:10:35.551196Z",
     "iopub.status.busy": "2020-12-01T10:10:35.550428Z",
     "iopub.status.idle": "2020-12-01T10:10:35.563983Z",
     "shell.execute_reply": "2020-12-01T10:10:35.563285Z"
    },
    "papermill": {
     "duration": 0.056423,
     "end_time": "2020-12-01T10:10:35.564139",
     "exception": false,
     "start_time": "2020-12-01T10:10:35.507716",
     "status": "completed"
    },
    "tags": []
   },
   "outputs": [],
   "source": [
    "training_xdata = X_train\n",
    "testing_xdata = X_test\n",
    "training_ydata = y_train.reshape(-1,1)\n",
    "testing_ydata = y_test.reshape(-1,1)"
   ]
  },
  {
   "cell_type": "markdown",
   "metadata": {
    "papermill": {
     "duration": 0.03407,
     "end_time": "2020-12-01T10:10:35.633311",
     "exception": false,
     "start_time": "2020-12-01T10:10:35.599241",
     "status": "completed"
    },
    "tags": []
   },
   "source": [
    "### Running Models with the Training data\n",
    "Details about the network layers:\n",
    "- A first affine layer has 784 inputs and does 100 affine transforms. These are followed by a Relu\n",
    "- A second affine layer has 100 inputs from the 100 activations of the past layer, and does 100 affine transforms. These are followed by a Relu\n",
    "- A third affine layer has 100 activations and does 2 affine transformations to create an embedding for visualization. There is no non-linearity here.\n",
    "- A final \"logistic regression\" which has an affine transform from 2 inputs to 1 output, which is squeezed through a sigmoid.\n",
    "\n",
    "Help taken from Anshuman's Notebook."
   ]
  },
  {
   "cell_type": "code",
   "execution_count": 18,
   "metadata": {
    "execution": {
     "iopub.execute_input": "2020-12-01T10:10:35.710759Z",
     "iopub.status.busy": "2020-12-01T10:10:35.710094Z",
     "iopub.status.idle": "2020-12-01T10:10:35.729337Z",
     "shell.execute_reply": "2020-12-01T10:10:35.728763Z"
    },
    "papermill": {
     "duration": 0.061198,
     "end_time": "2020-12-01T10:10:35.729484",
     "exception": false,
     "start_time": "2020-12-01T10:10:35.668286",
     "status": "completed"
    },
    "tags": []
   },
   "outputs": [],
   "source": [
    "# layers for the Neural Network\n",
    "layers = [Affine(\"first\", 784, 100), Relu(\"first\"), Affine(\"second\", 100, 100), Relu(\"second\"), Affine(\"third\", 100, 2), Affine(\"final\", 2, 1), Sigmoid(\"final\")]\n",
    "model_nn = Model(layers)\n",
    "\n",
    "# layers for the Logistic Regression\n",
    "layers_lr = [Affine(\"logits\", 784, 1), Sigmoid(\"sigmoid\")]\n",
    "model_lr = Model(layers_lr)"
   ]
  },
  {
   "cell_type": "code",
   "execution_count": 19,
   "metadata": {
    "execution": {
     "iopub.execute_input": "2020-12-01T10:10:35.800367Z",
     "iopub.status.busy": "2020-12-01T10:10:35.799732Z",
     "iopub.status.idle": "2020-12-01T10:10:35.814439Z",
     "shell.execute_reply": "2020-12-01T10:10:35.815032Z"
    },
    "papermill": {
     "duration": 0.052497,
     "end_time": "2020-12-01T10:10:35.815183",
     "exception": false,
     "start_time": "2020-12-01T10:10:35.762686",
     "status": "completed"
    },
    "tags": []
   },
   "outputs": [],
   "source": [
    "# suffix _nn stands for Neural Network.\n",
    "learner_nn = Learner(loss, model_nn, opt, config.num_epochs)\n",
    "acc_nn = ClfCallback(learner_nn, config.bs, training_xdata , testing_xdata, training_ydata, testing_ydata)\n",
    "learner_nn.set_callbacks([acc_nn])"
   ]
  },
  {
   "cell_type": "code",
   "execution_count": 20,
   "metadata": {
    "execution": {
     "iopub.execute_input": "2020-12-01T10:10:35.889788Z",
     "iopub.status.busy": "2020-12-01T10:10:35.889100Z",
     "iopub.status.idle": "2020-12-01T10:13:00.660184Z",
     "shell.execute_reply": "2020-12-01T10:13:00.661060Z"
    },
    "papermill": {
     "duration": 144.810811,
     "end_time": "2020-12-01T10:13:00.661240",
     "exception": false,
     "start_time": "2020-12-01T10:10:35.850429",
     "status": "completed"
    },
    "tags": []
   },
   "outputs": [
    {
     "name": "stdout",
     "output_type": "stream",
     "text": [
      "====== Neural Network ======\n"
     ]
    },
    {
     "name": "stdout",
     "output_type": "stream",
     "text": [
      "Epoch 0, Loss 0.2514\n",
      "Training Accuracy: 0.5130, Testing Accuracy: 0.5071\n",
      "\n"
     ]
    },
    {
     "name": "stdout",
     "output_type": "stream",
     "text": [
      "Epoch 10, Loss 0.1488\n",
      "Training Accuracy: 0.8887, Testing Accuracy: 0.8942\n",
      "\n"
     ]
    },
    {
     "name": "stdout",
     "output_type": "stream",
     "text": [
      "Epoch 20, Loss 0.0766\n",
      "Training Accuracy: 0.9251, Testing Accuracy: 0.9345\n",
      "\n"
     ]
    },
    {
     "name": "stdout",
     "output_type": "stream",
     "text": [
      "Epoch 30, Loss 0.0533\n",
      "Training Accuracy: 0.9425, Testing Accuracy: 0.9511\n",
      "\n"
     ]
    },
    {
     "name": "stdout",
     "output_type": "stream",
     "text": [
      "Epoch 40, Loss 0.0432\n",
      "Training Accuracy: 0.9515, Testing Accuracy: 0.9587\n",
      "\n"
     ]
    },
    {
     "name": "stdout",
     "output_type": "stream",
     "text": [
      "Epoch 50, Loss 0.0377\n",
      "Training Accuracy: 0.9568, Testing Accuracy: 0.9637\n",
      "\n"
     ]
    },
    {
     "name": "stdout",
     "output_type": "stream",
     "text": [
      "Epoch 60, Loss 0.0342\n",
      "Training Accuracy: 0.9607, Testing Accuracy: 0.9657\n",
      "\n"
     ]
    },
    {
     "name": "stdout",
     "output_type": "stream",
     "text": [
      "Epoch 70, Loss 0.0317\n",
      "Training Accuracy: 0.9634, Testing Accuracy: 0.9667\n",
      "\n"
     ]
    },
    {
     "name": "stdout",
     "output_type": "stream",
     "text": [
      "Epoch 80, Loss 0.0298\n",
      "Training Accuracy: 0.9653, Testing Accuracy: 0.9662\n",
      "\n"
     ]
    },
    {
     "name": "stdout",
     "output_type": "stream",
     "text": [
      "Epoch 90, Loss 0.0282\n",
      "Training Accuracy: 0.9670, Testing Accuracy: 0.9682\n",
      "\n"
     ]
    },
    {
     "name": "stdout",
     "output_type": "stream",
     "text": [
      "Epoch 100, Loss 0.0269\n",
      "Training Accuracy: 0.9685, Testing Accuracy: 0.9682\n",
      "\n"
     ]
    },
    {
     "name": "stdout",
     "output_type": "stream",
     "text": [
      "Epoch 110, Loss 0.0258\n",
      "Training Accuracy: 0.9703, Testing Accuracy: 0.9703\n",
      "\n"
     ]
    },
    {
     "name": "stdout",
     "output_type": "stream",
     "text": [
      "Epoch 120, Loss 0.0248\n",
      "Training Accuracy: 0.9711, Testing Accuracy: 0.9698\n",
      "\n"
     ]
    },
    {
     "name": "stdout",
     "output_type": "stream",
     "text": [
      "Epoch 130, Loss 0.024\n",
      "Training Accuracy: 0.9720, Testing Accuracy: 0.9703\n",
      "\n"
     ]
    },
    {
     "name": "stdout",
     "output_type": "stream",
     "text": [
      "Epoch 140, Loss 0.0232\n",
      "Training Accuracy: 0.9738, Testing Accuracy: 0.9713\n",
      "\n"
     ]
    },
    {
     "name": "stdout",
     "output_type": "stream",
     "text": [
      "Epoch 150, Loss 0.0225\n",
      "Training Accuracy: 0.9745, Testing Accuracy: 0.9728\n",
      "\n"
     ]
    },
    {
     "name": "stdout",
     "output_type": "stream",
     "text": [
      "Epoch 160, Loss 0.0219\n",
      "Training Accuracy: 0.9755, Testing Accuracy: 0.9743\n",
      "\n"
     ]
    },
    {
     "name": "stdout",
     "output_type": "stream",
     "text": [
      "Epoch 170, Loss 0.0213\n",
      "Training Accuracy: 0.9760, Testing Accuracy: 0.9743\n",
      "\n"
     ]
    },
    {
     "name": "stdout",
     "output_type": "stream",
     "text": [
      "Epoch 180, Loss 0.0207\n",
      "Training Accuracy: 0.9763, Testing Accuracy: 0.9748\n",
      "\n"
     ]
    },
    {
     "name": "stdout",
     "output_type": "stream",
     "text": [
      "Epoch 190, Loss 0.0202\n",
      "Training Accuracy: 0.9768, Testing Accuracy: 0.9753\n",
      "\n"
     ]
    },
    {
     "name": "stdout",
     "output_type": "stream",
     "text": [
      "Epoch 200, Loss 0.0197\n",
      "Training Accuracy: 0.9775, Testing Accuracy: 0.9758\n",
      "\n"
     ]
    },
    {
     "name": "stdout",
     "output_type": "stream",
     "text": [
      "Epoch 210, Loss 0.0192\n",
      "Training Accuracy: 0.9780, Testing Accuracy: 0.9763\n",
      "\n"
     ]
    },
    {
     "name": "stdout",
     "output_type": "stream",
     "text": [
      "Epoch 220, Loss 0.0188\n",
      "Training Accuracy: 0.9788, Testing Accuracy: 0.9763\n",
      "\n"
     ]
    },
    {
     "name": "stdout",
     "output_type": "stream",
     "text": [
      "Epoch 230, Loss 0.0183\n",
      "Training Accuracy: 0.9792, Testing Accuracy: 0.9763\n",
      "\n"
     ]
    },
    {
     "name": "stdout",
     "output_type": "stream",
     "text": [
      "Epoch 240, Loss 0.0179\n",
      "Training Accuracy: 0.9800, Testing Accuracy: 0.9763\n",
      "\n"
     ]
    },
    {
     "name": "stdout",
     "output_type": "stream",
     "text": [
      "Epoch 250, Loss 0.0175\n",
      "Training Accuracy: 0.9810, Testing Accuracy: 0.9768\n",
      "\n"
     ]
    },
    {
     "data": {
      "text/plain": [
       "0.01385591457640361"
      ]
     },
     "execution_count": 20,
     "metadata": {},
     "output_type": "execute_result"
    }
   ],
   "source": [
    "print(\"====== Neural Network ======\")\n",
    "learner_nn.train_loop(dl)"
   ]
  },
  {
   "cell_type": "markdown",
   "metadata": {
    "papermill": {
     "duration": 0.042757,
     "end_time": "2020-12-01T10:13:00.749341",
     "exception": false,
     "start_time": "2020-12-01T10:13:00.706584",
     "status": "completed"
    },
    "tags": []
   },
   "source": [
    "### Logistic Regression based Implementation."
   ]
  },
  {
   "cell_type": "code",
   "execution_count": 21,
   "metadata": {
    "execution": {
     "iopub.execute_input": "2020-12-01T10:13:00.842364Z",
     "iopub.status.busy": "2020-12-01T10:13:00.841715Z",
     "iopub.status.idle": "2020-12-01T10:13:00.858962Z",
     "shell.execute_reply": "2020-12-01T10:13:00.858194Z"
    },
    "papermill": {
     "duration": 0.066388,
     "end_time": "2020-12-01T10:13:00.859124",
     "exception": false,
     "start_time": "2020-12-01T10:13:00.792736",
     "status": "completed"
    },
    "tags": []
   },
   "outputs": [],
   "source": [
    "learner_lr = Learner(loss, model_lr, opt, config.num_epochs)\n",
    "acc_lr = ClfCallback(learner_lr, config.bs, training_xdata , testing_xdata, training_ydata, testing_ydata)\n",
    "learner_lr.set_callbacks([acc_lr])"
   ]
  },
  {
   "cell_type": "code",
   "execution_count": 22,
   "metadata": {
    "execution": {
     "iopub.execute_input": "2020-12-01T10:13:00.952718Z",
     "iopub.status.busy": "2020-12-01T10:13:00.952115Z",
     "iopub.status.idle": "2020-12-01T10:13:22.244888Z",
     "shell.execute_reply": "2020-12-01T10:13:22.245815Z"
    },
    "papermill": {
     "duration": 21.342803,
     "end_time": "2020-12-01T10:13:22.246037",
     "exception": false,
     "start_time": "2020-12-01T10:13:00.903234",
     "status": "completed"
    },
    "tags": []
   },
   "outputs": [
    {
     "name": "stdout",
     "output_type": "stream",
     "text": [
      "====== Logistic Regression ======\n",
      "Epoch 0, Loss 0.2411\n",
      "Training Accuracy: 0.6651, Testing Accuracy: 0.6547\n",
      "\n"
     ]
    },
    {
     "name": "stdout",
     "output_type": "stream",
     "text": [
      "Epoch 10, Loss 0.1012\n",
      "Training Accuracy: 0.9135, Testing Accuracy: 0.9274\n",
      "\n"
     ]
    },
    {
     "name": "stdout",
     "output_type": "stream",
     "text": [
      "Epoch 20, Loss 0.0778\n",
      "Training Accuracy: 0.9291, Testing Accuracy: 0.9425\n",
      "\n"
     ]
    },
    {
     "name": "stdout",
     "output_type": "stream",
     "text": [
      "Epoch 30, Loss 0.0673\n",
      "Training Accuracy: 0.9366, Testing Accuracy: 0.9511\n",
      "\n"
     ]
    },
    {
     "name": "stdout",
     "output_type": "stream",
     "text": [
      "Epoch 40, Loss 0.061\n",
      "Training Accuracy: 0.9416, Testing Accuracy: 0.9541\n",
      "\n"
     ]
    },
    {
     "name": "stdout",
     "output_type": "stream",
     "text": [
      "Epoch 50, Loss 0.0566\n",
      "Training Accuracy: 0.9442, Testing Accuracy: 0.9572\n",
      "\n"
     ]
    },
    {
     "name": "stdout",
     "output_type": "stream",
     "text": [
      "Epoch 60, Loss 0.0535\n",
      "Training Accuracy: 0.9474, Testing Accuracy: 0.9602\n",
      "\n"
     ]
    },
    {
     "name": "stdout",
     "output_type": "stream",
     "text": [
      "Epoch 70, Loss 0.051\n",
      "Training Accuracy: 0.9492, Testing Accuracy: 0.9607\n",
      "\n"
     ]
    },
    {
     "name": "stdout",
     "output_type": "stream",
     "text": [
      "Epoch 80, Loss 0.049\n",
      "Training Accuracy: 0.9509, Testing Accuracy: 0.9632\n",
      "\n"
     ]
    },
    {
     "name": "stdout",
     "output_type": "stream",
     "text": [
      "Epoch 90, Loss 0.0473\n",
      "Training Accuracy: 0.9526, Testing Accuracy: 0.9637\n",
      "\n"
     ]
    },
    {
     "name": "stdout",
     "output_type": "stream",
     "text": [
      "Epoch 100, Loss 0.0459\n",
      "Training Accuracy: 0.9534, Testing Accuracy: 0.9642\n",
      "\n"
     ]
    },
    {
     "name": "stdout",
     "output_type": "stream",
     "text": [
      "Epoch 110, Loss 0.0447\n",
      "Training Accuracy: 0.9544, Testing Accuracy: 0.9652\n",
      "\n"
     ]
    },
    {
     "name": "stdout",
     "output_type": "stream",
     "text": [
      "Epoch 120, Loss 0.0437\n",
      "Training Accuracy: 0.9548, Testing Accuracy: 0.9667\n",
      "\n"
     ]
    },
    {
     "name": "stdout",
     "output_type": "stream",
     "text": [
      "Epoch 130, Loss 0.0428\n",
      "Training Accuracy: 0.9550, Testing Accuracy: 0.9677\n",
      "\n"
     ]
    },
    {
     "name": "stdout",
     "output_type": "stream",
     "text": [
      "Epoch 140, Loss 0.042\n",
      "Training Accuracy: 0.9562, Testing Accuracy: 0.9672\n",
      "\n"
     ]
    },
    {
     "name": "stdout",
     "output_type": "stream",
     "text": [
      "Epoch 150, Loss 0.0412\n",
      "Training Accuracy: 0.9567, Testing Accuracy: 0.9672\n",
      "\n"
     ]
    },
    {
     "name": "stdout",
     "output_type": "stream",
     "text": [
      "Epoch 160, Loss 0.0406\n",
      "Training Accuracy: 0.9572, Testing Accuracy: 0.9677\n",
      "\n"
     ]
    },
    {
     "name": "stdout",
     "output_type": "stream",
     "text": [
      "Epoch 170, Loss 0.04\n",
      "Training Accuracy: 0.9572, Testing Accuracy: 0.9677\n",
      "\n"
     ]
    },
    {
     "name": "stdout",
     "output_type": "stream",
     "text": [
      "Epoch 180, Loss 0.0394\n",
      "Training Accuracy: 0.9575, Testing Accuracy: 0.9672\n",
      "\n"
     ]
    },
    {
     "name": "stdout",
     "output_type": "stream",
     "text": [
      "Epoch 190, Loss 0.0389\n",
      "Training Accuracy: 0.9580, Testing Accuracy: 0.9677\n",
      "\n"
     ]
    },
    {
     "name": "stdout",
     "output_type": "stream",
     "text": [
      "Epoch 200, Loss 0.0384\n",
      "Training Accuracy: 0.9588, Testing Accuracy: 0.9677\n",
      "\n"
     ]
    },
    {
     "name": "stdout",
     "output_type": "stream",
     "text": [
      "Epoch 210, Loss 0.038\n",
      "Training Accuracy: 0.9589, Testing Accuracy: 0.9682\n",
      "\n"
     ]
    },
    {
     "name": "stdout",
     "output_type": "stream",
     "text": [
      "Epoch 220, Loss 0.0376\n",
      "Training Accuracy: 0.9592, Testing Accuracy: 0.9688\n",
      "\n"
     ]
    },
    {
     "name": "stdout",
     "output_type": "stream",
     "text": [
      "Epoch 230, Loss 0.0372\n",
      "Training Accuracy: 0.9597, Testing Accuracy: 0.9688\n",
      "\n"
     ]
    },
    {
     "name": "stdout",
     "output_type": "stream",
     "text": [
      "Epoch 240, Loss 0.0368\n",
      "Training Accuracy: 0.9603, Testing Accuracy: 0.9688\n",
      "\n"
     ]
    },
    {
     "name": "stdout",
     "output_type": "stream",
     "text": [
      "Epoch 250, Loss 0.0365\n",
      "Training Accuracy: 0.9604, Testing Accuracy: 0.9688\n",
      "\n"
     ]
    },
    {
     "data": {
      "text/plain": [
       "0.02676240595522149"
      ]
     },
     "execution_count": 22,
     "metadata": {},
     "output_type": "execute_result"
    }
   ],
   "source": [
    "print(\"====== Logistic Regression ======\")\n",
    "learner_lr.train_loop(dl)"
   ]
  },
  {
   "cell_type": "markdown",
   "metadata": {
    "papermill": {
     "duration": 0.057789,
     "end_time": "2020-12-01T10:13:22.366036",
     "exception": false,
     "start_time": "2020-12-01T10:13:22.308247",
     "status": "completed"
    },
    "tags": []
   },
   "source": [
    "### Comparing results of NN and LR"
   ]
  },
  {
   "cell_type": "code",
   "execution_count": 23,
   "metadata": {
    "execution": {
     "iopub.execute_input": "2020-12-01T10:13:22.482668Z",
     "iopub.status.busy": "2020-12-01T10:13:22.481700Z",
     "iopub.status.idle": "2020-12-01T10:13:22.772891Z",
     "shell.execute_reply": "2020-12-01T10:13:22.773430Z"
    },
    "papermill": {
     "duration": 0.353845,
     "end_time": "2020-12-01T10:13:22.773597",
     "exception": false,
     "start_time": "2020-12-01T10:13:22.419752",
     "status": "completed"
    },
    "tags": []
   },
   "outputs": [
    {
     "data": {
      "text/plain": [
       "<matplotlib.legend.Legend at 0x7f9e51a9b9b0>"
      ]
     },
     "execution_count": 23,
     "metadata": {},
     "output_type": "execute_result"
    },
    {
     "data": {
      "image/png": "[encoded data removed]",
      "text/plain": [
       "<Figure size 1080x720 with 1 Axes>"
      ]
     },
     "metadata": {
      "needs_background": "light"
     },
     "output_type": "display_data"
    }
   ],
   "source": [
    "plt.figure(figsize=(15,10))\n",
    "\n",
    "# Neural Network plots\n",
    "plt.plot(acc_nn.accuracies, 'r-', label = \"Training Accuracies - NN\")\n",
    "plt.plot(acc_nn.test_accuracies, 'g-', label = \"Testing Accuracies - NN\")\n",
    "\n",
    "# Logistic Regression plots\n",
    "plt.plot(acc_lr.accuracies, 'k-', label = \"Training Accuracies - LR\")\n",
    "plt.plot(acc_lr.test_accuracies, 'b-', label = \"Testing Accuracies - LR\")\n",
    "\n",
    "plt.ylim(0.8, 1)\n",
    "\n",
    "plt.legend()\n",
    "\n"
   ]
  },
  {
   "cell_type": "markdown",
   "metadata": {
    "papermill": {
     "duration": 0.058631,
     "end_time": "2020-12-01T10:13:22.886199",
     "exception": false,
     "start_time": "2020-12-01T10:13:22.827568",
     "status": "completed"
    },
    "tags": []
   },
   "source": [
    "### From the plot, we can observe the following:\n",
    "- Neural Network achieves higher accuracy than the Logistic Regression model.\n",
    "- This apparently, is because of overfitting, i.e. NN captures more noise than data.\n",
    "- Testing accuracy of NN drops below the Training accuracy at higher epochs. This explains the over-fitting on training data.\n",
    "- Logistic Regression gives a reliable accuracy, without the above mentioned problem.\n"
   ]
  },
  {
   "cell_type": "markdown",
   "metadata": {
    "papermill": {
     "duration": 0.055151,
     "end_time": "2020-12-01T10:13:22.995938",
     "exception": false,
     "start_time": "2020-12-01T10:13:22.940787",
     "status": "completed"
    },
    "tags": []
   },
   "source": [
    "### Moving till the last but one layer (excluding it).\n",
    "#### Plotting the outputs of this layer of the NN."
   ]
  },
  {
   "cell_type": "code",
   "execution_count": 24,
   "metadata": {
    "execution": {
     "iopub.execute_input": "2020-12-01T10:13:23.119758Z",
     "iopub.status.busy": "2020-12-01T10:13:23.117500Z",
     "iopub.status.idle": "2020-12-01T10:13:23.132362Z",
     "shell.execute_reply": "2020-12-01T10:13:23.130667Z"
    },
    "papermill": {
     "duration": 0.080015,
     "end_time": "2020-12-01T10:13:23.132590",
     "exception": false,
     "start_time": "2020-12-01T10:13:23.052575",
     "status": "completed"
    },
    "tags": []
   },
   "outputs": [],
   "source": [
    "model_new = Model(layers[:-2])"
   ]
  },
  {
   "cell_type": "code",
   "execution_count": 25,
   "metadata": {
    "execution": {
     "iopub.execute_input": "2020-12-01T10:13:23.247890Z",
     "iopub.status.busy": "2020-12-01T10:13:23.246529Z",
     "iopub.status.idle": "2020-12-01T10:13:23.276913Z",
     "shell.execute_reply": "2020-12-01T10:13:23.276224Z"
    },
    "papermill": {
     "duration": 0.090517,
     "end_time": "2020-12-01T10:13:23.277071",
     "exception": false,
     "start_time": "2020-12-01T10:13:23.186554",
     "status": "completed"
    },
    "tags": []
   },
   "outputs": [],
   "source": [
    "plot_testing = model_new(testing_xdata)"
   ]
  },
  {
   "cell_type": "code",
   "execution_count": 26,
   "metadata": {
    "execution": {
     "iopub.execute_input": "2020-12-01T10:13:23.422741Z",
     "iopub.status.busy": "2020-12-01T10:13:23.398867Z",
     "iopub.status.idle": "2020-12-01T10:13:23.664837Z",
     "shell.execute_reply": "2020-12-01T10:13:23.665408Z"
    },
    "papermill": {
     "duration": 0.333836,
     "end_time": "2020-12-01T10:13:23.665593",
     "exception": false,
     "start_time": "2020-12-01T10:13:23.331757",
     "status": "completed"
    },
    "tags": []
   },
   "outputs": [
    {
     "data": {
      "text/plain": [
       "Text(0.5, 1.0, 'Outputs')"
      ]
     },
     "execution_count": 26,
     "metadata": {},
     "output_type": "execute_result"
    },
    {
     "data": {
      "image/png": "[encoded data removed]",
      "text/plain": [
       "<Figure size 576x504 with 1 Axes>"
      ]
     },
     "metadata": {
      "needs_background": "light"
     },
     "output_type": "display_data"
    }
   ],
   "source": [
    "plt.figure(figsize=(8,7))\n",
    "plt.scatter(plot_testing[:,0], plot_testing[:,1], alpha = 0.1, c = y_test.ravel());\n",
    "plt.title('Outputs')"
   ]
  },
  {
   "cell_type": "markdown",
   "metadata": {
    "papermill": {
     "duration": 0.055145,
     "end_time": "2020-12-01T10:13:23.777546",
     "exception": false,
     "start_time": "2020-12-01T10:13:23.722401",
     "status": "completed"
    },
    "tags": []
   },
   "source": [
    "### Plotting probability contours"
   ]
  },
  {
   "cell_type": "code",
   "execution_count": 27,
   "metadata": {
    "execution": {
     "iopub.execute_input": "2020-12-01T10:13:23.899456Z",
     "iopub.status.busy": "2020-12-01T10:13:23.898692Z",
     "iopub.status.idle": "2020-12-01T10:13:23.913601Z",
     "shell.execute_reply": "2020-12-01T10:13:23.912933Z"
    },
    "papermill": {
     "duration": 0.080888,
     "end_time": "2020-12-01T10:13:23.913770",
     "exception": false,
     "start_time": "2020-12-01T10:13:23.832882",
     "status": "completed"
    },
    "tags": []
   },
   "outputs": [],
   "source": [
    "model_prob = Model(layers[-2:]) "
   ]
  },
  {
   "cell_type": "code",
   "execution_count": 28,
   "metadata": {
    "execution": {
     "iopub.execute_input": "2020-12-01T10:13:24.037020Z",
     "iopub.status.busy": "2020-12-01T10:13:24.036305Z",
     "iopub.status.idle": "2020-12-01T10:13:24.049911Z",
     "shell.execute_reply": "2020-12-01T10:13:24.050420Z"
    },
    "papermill": {
     "duration": 0.082358,
     "end_time": "2020-12-01T10:13:24.050591",
     "exception": false,
     "start_time": "2020-12-01T10:13:23.968233",
     "status": "completed"
    },
    "tags": []
   },
   "outputs": [],
   "source": [
    "# Adjust the x and y ranges according to the above generated plot.\n",
    "x_range = np.linspace(-4, 1, 100) \n",
    "y_range = np.linspace(-6, 6, 100) \n",
    "x_grid, y_grid = np.meshgrid(x_range, y_range) # x_grid and y_grig are of size 100 X 100\n",
    "\n",
    "# converting x_grid and y_grid to continuous arrays\n",
    "x_grid_flat = np.ravel(x_grid)\n",
    "y_grid_flat = np.ravel(y_grid)\n",
    "\n",
    "# The last layer of the current model takes two columns as input. Hence transpose of np.vstack() is required.\n",
    "X = np.vstack((x_grid_flat, y_grid_flat)).T\n",
    "\n",
    "# x_grid and y_grid are of size 100 x 100\n",
    "probability_contour = model_prob(X).reshape(100,100) "
   ]
  },
  {
   "cell_type": "code",
   "execution_count": 29,
   "metadata": {
    "execution": {
     "iopub.execute_input": "2020-12-01T10:13:24.193700Z",
     "iopub.status.busy": "2020-12-01T10:13:24.192995Z",
     "iopub.status.idle": "2020-12-01T10:13:24.525714Z",
     "shell.execute_reply": "2020-12-01T10:13:24.524586Z"
    },
    "papermill": {
     "duration": 0.393307,
     "end_time": "2020-12-01T10:13:24.525898",
     "exception": false,
     "start_time": "2020-12-01T10:13:24.132591",
     "status": "completed"
    },
    "tags": []
   },
   "outputs": [
    {
     "data": {
      "image/png": "[encoded data removed]",
      "text/plain": [
       "<Figure size 720x648 with 1 Axes>"
      ]
     },
     "metadata": {
      "needs_background": "light"
     },
     "output_type": "display_data"
    }
   ],
   "source": [
    "plt.figure(figsize=(10,9))\n",
    "plt.scatter(plot_testing[:,0], plot_testing[:,1], alpha = 0.1, c = y_test.ravel())\n",
    "contours = plt.contour(x_grid,y_grid,probability_contour)\n",
    "plt.title('Probability Contours')\n",
    "plt.clabel(contours, inline = True );"
   ]
  }
 ],
 "metadata": {
  "kernelspec": {
   "display_name": "Python 3",
   "language": "python",
   "name": "python3"
  },
  "language_info": {
   "codemirror_mode": {
    "name": "ipython",
    "version": 3
   },
   "file_extension": ".py",
   "mimetype": "text/x-python",
   "name": "python",
   "nbconvert_exporter": "python",
   "pygments_lexer": "ipython3",
   "version": "3.6.12"
  },
  "papermill": {
   "duration": 180.456306,
   "end_time": "2020-12-01T10:13:25.965544",
   "environment_variables": {},
   "exception": null,
   "input_path": "2020-08-11-NeuralNetwork.ipynb",
   "output_path": "2020-08-11-NeuralNetwork.ipynb",
   "parameters": {},
   "start_time": "2020-12-01T10:10:25.509238",
   "version": "2.1.2"
  }
 },
 "nbformat": 4,
 "nbformat_minor": 4
}