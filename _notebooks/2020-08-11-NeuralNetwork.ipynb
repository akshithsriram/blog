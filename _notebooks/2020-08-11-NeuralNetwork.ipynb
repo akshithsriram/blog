{
 "cells": [
  {
   "cell_type": "markdown",
   "metadata": {
    "papermill": {
     "duration": 0.031761,
     "end_time": "2020-10-28T10:04:56.647820",
     "exception": false,
     "start_time": "2020-10-28T10:04:56.616059",
     "status": "completed"
    },
    "tags": []
   },
   "source": [
    "# \"A Basic Neural Network: Differentiate Hand-Written Digits\"\n",
    "\n",
    "- badges: true\n",
    "- author: Akshith Sriram"
   ]
  },
  {
   "cell_type": "markdown",
   "metadata": {
    "papermill": {
     "duration": 0.023023,
     "end_time": "2020-10-28T10:04:56.694646",
     "exception": false,
     "start_time": "2020-10-28T10:04:56.671623",
     "status": "completed"
    },
    "tags": []
   },
   "source": [
    "### Key Objectives:\n",
    "- Building a neural network that differentiates two hand-written digits 3 and 8.\n",
    "- Comparing the results of this Neural Network (NN) to that of a Logistic Regression (LR) model.\n",
    "\n",
    "### Requirements:\n",
    "- 'Kudzu' : A neural network library that was designed during our course by [Univ.AI](www.univ.ai). \n",
    "- MNIST Database\n",
    "\n",
    "If MNIST is not installed, use the command `!pip install mnist` given below.\n",
    "It can be run both from the command line and Jupyter Notebook."
   ]
  },
  {
   "cell_type": "code",
   "execution_count": 1,
   "metadata": {
    "execution": {
     "iopub.execute_input": "2020-10-28T10:04:56.748178Z",
     "iopub.status.busy": "2020-10-28T10:04:56.747588Z",
     "iopub.status.idle": "2020-10-28T10:04:58.501437Z",
     "shell.execute_reply": "2020-10-28T10:04:58.500528Z"
    },
    "papermill": {
     "duration": 1.784075,
     "end_time": "2020-10-28T10:04:58.501725",
     "exception": false,
     "start_time": "2020-10-28T10:04:56.717650",
     "status": "completed"
    },
    "tags": []
   },
   "outputs": [
    {
     "name": "stdout",
     "output_type": "stream",
     "text": [
      "Collecting mnist\r\n"
     ]
    },
    {
     "name": "stdout",
     "output_type": "stream",
     "text": [
      "  Downloading mnist-0.2.2-py2.py3-none-any.whl (3.5 kB)\r\n",
      "Requirement already satisfied: numpy in /opt/hostedtoolcache/Python/3.6.12/x64/lib/python3.6/site-packages (from mnist) (1.19.2)\r\n"
     ]
    },
    {
     "name": "stdout",
     "output_type": "stream",
     "text": [
      "Installing collected packages: mnist\r\n",
      "Successfully installed mnist-0.2.2\r\n"
     ]
    },
    {
     "name": "stdout",
     "output_type": "stream",
     "text": [
      "\u001b[33mWARNING: You are using pip version 20.2.3; however, version 20.2.4 is available.\r\n",
      "You should consider upgrading via the '/opt/hostedtoolcache/Python/3.6.12/x64/bin/python -m pip install --upgrade pip' command.\u001b[0m\r\n"
     ]
    }
   ],
   "source": [
    "!pip install mnist "
   ]
  },
  {
   "cell_type": "markdown",
   "metadata": {
    "papermill": {
     "duration": 0.02391,
     "end_time": "2020-10-28T10:04:58.553365",
     "exception": false,
     "start_time": "2020-10-28T10:04:58.529455",
     "status": "completed"
    },
    "tags": []
   },
   "source": [
    "#### Importing necessary libraries"
   ]
  },
  {
   "cell_type": "code",
   "execution_count": 2,
   "metadata": {
    "execution": {
     "iopub.execute_input": "2020-10-28T10:04:58.611028Z",
     "iopub.status.busy": "2020-10-28T10:04:58.610477Z",
     "iopub.status.idle": "2020-10-28T10:04:59.141025Z",
     "shell.execute_reply": "2020-10-28T10:04:59.140523Z"
    },
    "papermill": {
     "duration": 0.561965,
     "end_time": "2020-10-28T10:04:59.141147",
     "exception": false,
     "start_time": "2020-10-28T10:04:58.579182",
     "status": "completed"
    },
    "tags": []
   },
   "outputs": [],
   "source": [
    "%load_ext autoreload\n",
    "%autoreload 2\n",
    "\n",
    "%matplotlib inline\n",
    "import matplotlib.pyplot as plt\n",
    "\n",
    "import numpy as np\n",
    "import pandas as pd"
   ]
  },
  {
   "cell_type": "markdown",
   "metadata": {
    "papermill": {
     "duration": 0.024268,
     "end_time": "2020-10-28T10:04:59.190066",
     "exception": false,
     "start_time": "2020-10-28T10:04:59.165798",
     "status": "completed"
    },
    "tags": []
   },
   "source": [
    "### Preparing the Data"
   ]
  },
  {
   "cell_type": "code",
   "execution_count": 3,
   "metadata": {
    "execution": {
     "iopub.execute_input": "2020-10-28T10:04:59.243561Z",
     "iopub.status.busy": "2020-10-28T10:04:59.242983Z",
     "iopub.status.idle": "2020-10-28T10:04:59.254228Z",
     "shell.execute_reply": "2020-10-28T10:04:59.253787Z"
    },
    "papermill": {
     "duration": 0.039173,
     "end_time": "2020-10-28T10:04:59.254348",
     "exception": false,
     "start_time": "2020-10-28T10:04:59.215175",
     "status": "completed"
    },
    "tags": []
   },
   "outputs": [],
   "source": [
    "import mnist"
   ]
  },
  {
   "cell_type": "code",
   "execution_count": 4,
   "metadata": {
    "execution": {
     "iopub.execute_input": "2020-10-28T10:04:59.307358Z",
     "iopub.status.busy": "2020-10-28T10:04:59.306804Z",
     "iopub.status.idle": "2020-10-28T10:05:00.921952Z",
     "shell.execute_reply": "2020-10-28T10:05:00.921050Z"
    },
    "papermill": {
     "duration": 1.642793,
     "end_time": "2020-10-28T10:05:00.922184",
     "exception": false,
     "start_time": "2020-10-28T10:04:59.279391",
     "status": "completed"
    },
    "tags": []
   },
   "outputs": [],
   "source": [
    "train_images = mnist.train_images()\n",
    "train_labels = mnist.train_labels()"
   ]
  },
  {
   "cell_type": "code",
   "execution_count": 5,
   "metadata": {
    "execution": {
     "iopub.execute_input": "2020-10-28T10:05:00.981724Z",
     "iopub.status.busy": "2020-10-28T10:05:00.979248Z",
     "iopub.status.idle": "2020-10-28T10:05:00.993068Z",
     "shell.execute_reply": "2020-10-28T10:05:00.993509Z"
    },
    "papermill": {
     "duration": 0.04547,
     "end_time": "2020-10-28T10:05:00.993655",
     "exception": false,
     "start_time": "2020-10-28T10:05:00.948185",
     "status": "completed"
    },
    "tags": []
   },
   "outputs": [
    {
     "data": {
      "text/plain": [
       "((60000, 28, 28), (60000,))"
      ]
     },
     "execution_count": 5,
     "metadata": {},
     "output_type": "execute_result"
    }
   ],
   "source": [
    "train_images.shape, train_labels.shape"
   ]
  },
  {
   "cell_type": "code",
   "execution_count": 6,
   "metadata": {
    "execution": {
     "iopub.execute_input": "2020-10-28T10:05:01.046495Z",
     "iopub.status.busy": "2020-10-28T10:05:01.045959Z",
     "iopub.status.idle": "2020-10-28T10:05:01.333894Z",
     "shell.execute_reply": "2020-10-28T10:05:01.333006Z"
    },
    "papermill": {
     "duration": 0.315942,
     "end_time": "2020-10-28T10:05:01.334094",
     "exception": false,
     "start_time": "2020-10-28T10:05:01.018152",
     "status": "completed"
    },
    "tags": []
   },
   "outputs": [],
   "source": [
    "test_images = mnist.test_images()\n",
    "test_labels = mnist.test_labels()"
   ]
  },
  {
   "cell_type": "code",
   "execution_count": 7,
   "metadata": {
    "execution": {
     "iopub.execute_input": "2020-10-28T10:05:01.402858Z",
     "iopub.status.busy": "2020-10-28T10:05:01.402281Z",
     "iopub.status.idle": "2020-10-28T10:05:01.412832Z",
     "shell.execute_reply": "2020-10-28T10:05:01.412366Z"
    },
    "papermill": {
     "duration": 0.045004,
     "end_time": "2020-10-28T10:05:01.412949",
     "exception": false,
     "start_time": "2020-10-28T10:05:01.367945",
     "status": "completed"
    },
    "tags": []
   },
   "outputs": [
    {
     "data": {
      "text/plain": [
       "((10000, 28, 28), (10000,))"
      ]
     },
     "execution_count": 7,
     "metadata": {},
     "output_type": "execute_result"
    }
   ],
   "source": [
    "test_images.shape, test_labels.shape"
   ]
  },
  {
   "cell_type": "code",
   "execution_count": 8,
   "metadata": {
    "execution": {
     "iopub.execute_input": "2020-10-28T10:05:01.478269Z",
     "iopub.status.busy": "2020-10-28T10:05:01.470214Z",
     "iopub.status.idle": "2020-10-28T10:05:01.608681Z",
     "shell.execute_reply": "2020-10-28T10:05:01.608146Z"
    },
    "papermill": {
     "duration": 0.170879,
     "end_time": "2020-10-28T10:05:01.608805",
     "exception": false,
     "start_time": "2020-10-28T10:05:01.437926",
     "status": "completed"
    },
    "tags": []
   },
   "outputs": [
    {
     "name": "stdout",
     "output_type": "stream",
     "text": [
      "2\n"
     ]
    },
    {
     "data": {
      "text/plain": [
       "<matplotlib.image.AxesImage at 0x7f95f95fb978>"
      ]
     },
     "execution_count": 8,
     "metadata": {},
     "output_type": "execute_result"
    },
    {
     "data": {
      "image/png": "[encoded data removed]",
      "text/plain": [
       "<Figure size 432x288 with 1 Axes>"
      ]
     },
     "metadata": {
      "needs_background": "light"
     },
     "output_type": "display_data"
    }
   ],
   "source": [
    "image_index = 7776 # You may select anything up to 60,000\n",
    "print(train_labels[image_index]) \n",
    "plt.imshow(train_images[image_index], cmap='Greys')"
   ]
  },
  {
   "cell_type": "markdown",
   "metadata": {
    "papermill": {
     "duration": 0.026035,
     "end_time": "2020-10-28T10:05:01.660621",
     "exception": false,
     "start_time": "2020-10-28T10:05:01.634586",
     "status": "completed"
    },
    "tags": []
   },
   "source": [
    "## Filter data to get 3 and 8 out"
   ]
  },
  {
   "cell_type": "code",
   "execution_count": 9,
   "metadata": {
    "execution": {
     "iopub.execute_input": "2020-10-28T10:05:01.717342Z",
     "iopub.status.busy": "2020-10-28T10:05:01.716757Z",
     "iopub.status.idle": "2020-10-28T10:05:01.734707Z",
     "shell.execute_reply": "2020-10-28T10:05:01.735122Z"
    },
    "papermill": {
     "duration": 0.048715,
     "end_time": "2020-10-28T10:05:01.735249",
     "exception": false,
     "start_time": "2020-10-28T10:05:01.686534",
     "status": "completed"
    },
    "tags": []
   },
   "outputs": [],
   "source": [
    "train_filter = np.where((train_labels == 3 ) | (train_labels == 8))\n",
    "test_filter = np.where((test_labels == 3) | (test_labels == 8))\n",
    "X_train, y_train = train_images[train_filter], train_labels[train_filter]\n",
    "X_test, y_test = test_images[test_filter], test_labels[test_filter]"
   ]
  },
  {
   "cell_type": "markdown",
   "metadata": {
    "papermill": {
     "duration": 0.025897,
     "end_time": "2020-10-28T10:05:01.786623",
     "exception": false,
     "start_time": "2020-10-28T10:05:01.760726",
     "status": "completed"
    },
    "tags": []
   },
   "source": [
    "We normalize the pixel values in the 0 to 1 range"
   ]
  },
  {
   "cell_type": "code",
   "execution_count": 10,
   "metadata": {
    "execution": {
     "iopub.execute_input": "2020-10-28T10:05:01.854362Z",
     "iopub.status.busy": "2020-10-28T10:05:01.847828Z",
     "iopub.status.idle": "2020-10-28T10:05:01.897757Z",
     "shell.execute_reply": "2020-10-28T10:05:01.896893Z"
    },
    "papermill": {
     "duration": 0.085097,
     "end_time": "2020-10-28T10:05:01.897910",
     "exception": false,
     "start_time": "2020-10-28T10:05:01.812813",
     "status": "completed"
    },
    "tags": []
   },
   "outputs": [],
   "source": [
    "X_train = X_train/255.\n",
    "X_test = X_test/255."
   ]
  },
  {
   "cell_type": "markdown",
   "metadata": {
    "papermill": {
     "duration": 0.026572,
     "end_time": "2020-10-28T10:05:01.951108",
     "exception": false,
     "start_time": "2020-10-28T10:05:01.924536",
     "status": "completed"
    },
    "tags": []
   },
   "source": [
    "Setup the labels as 1 (when the digit is 3) and 0 (when the digit is 8)"
   ]
  },
  {
   "cell_type": "code",
   "execution_count": 11,
   "metadata": {
    "execution": {
     "iopub.execute_input": "2020-10-28T10:05:02.007073Z",
     "iopub.status.busy": "2020-10-28T10:05:02.006533Z",
     "iopub.status.idle": "2020-10-28T10:05:02.018144Z",
     "shell.execute_reply": "2020-10-28T10:05:02.018555Z"
    },
    "papermill": {
     "duration": 0.041701,
     "end_time": "2020-10-28T10:05:02.018685",
     "exception": false,
     "start_time": "2020-10-28T10:05:01.976984",
     "status": "completed"
    },
    "tags": []
   },
   "outputs": [],
   "source": [
    "y_train = 1*(y_train==3)\n",
    "y_test = 1*(y_test==3)"
   ]
  },
  {
   "cell_type": "code",
   "execution_count": 12,
   "metadata": {
    "execution": {
     "iopub.execute_input": "2020-10-28T10:05:02.078744Z",
     "iopub.status.busy": "2020-10-28T10:05:02.078213Z",
     "iopub.status.idle": "2020-10-28T10:05:02.089869Z",
     "shell.execute_reply": "2020-10-28T10:05:02.089403Z"
    },
    "papermill": {
     "duration": 0.045504,
     "end_time": "2020-10-28T10:05:02.089985",
     "exception": false,
     "start_time": "2020-10-28T10:05:02.044481",
     "status": "completed"
    },
    "tags": []
   },
   "outputs": [
    {
     "data": {
      "text/plain": [
       "((11982, 28, 28), (1984, 28, 28))"
      ]
     },
     "execution_count": 12,
     "metadata": {},
     "output_type": "execute_result"
    }
   ],
   "source": [
    "X_train.shape, X_test.shape"
   ]
  },
  {
   "cell_type": "markdown",
   "metadata": {
    "papermill": {
     "duration": 0.026222,
     "end_time": "2020-10-28T10:05:02.142212",
     "exception": false,
     "start_time": "2020-10-28T10:05:02.115990",
     "status": "completed"
    },
    "tags": []
   },
   "source": [
    "### Reshape the input data to create a linear array"
   ]
  },
  {
   "cell_type": "code",
   "execution_count": 13,
   "metadata": {
    "execution": {
     "iopub.execute_input": "2020-10-28T10:05:02.201380Z",
     "iopub.status.busy": "2020-10-28T10:05:02.200800Z",
     "iopub.status.idle": "2020-10-28T10:05:02.212210Z",
     "shell.execute_reply": "2020-10-28T10:05:02.211748Z"
    },
    "papermill": {
     "duration": 0.044016,
     "end_time": "2020-10-28T10:05:02.212319",
     "exception": false,
     "start_time": "2020-10-28T10:05:02.168303",
     "status": "completed"
    },
    "tags": []
   },
   "outputs": [
    {
     "data": {
      "text/plain": [
       "((11982, 784), (1984, 784))"
      ]
     },
     "execution_count": 13,
     "metadata": {},
     "output_type": "execute_result"
    }
   ],
   "source": [
    "X_train = X_train.reshape(X_train.shape[0], -1)\n",
    "X_test = X_test.reshape(X_test.shape[0], -1)\n",
    "X_train.shape, X_test.shape"
   ]
  },
  {
   "cell_type": "markdown",
   "metadata": {
    "papermill": {
     "duration": 0.026752,
     "end_time": "2020-10-28T10:05:02.265380",
     "exception": false,
     "start_time": "2020-10-28T10:05:02.238628",
     "status": "completed"
    },
    "tags": []
   },
   "source": [
    "### Importing appropriate functions from 'Kudzu'"
   ]
  },
  {
   "cell_type": "code",
   "execution_count": 14,
   "metadata": {
    "execution": {
     "iopub.execute_input": "2020-10-28T10:05:02.323679Z",
     "iopub.status.busy": "2020-10-28T10:05:02.323135Z",
     "iopub.status.idle": "2020-10-28T10:05:02.341610Z",
     "shell.execute_reply": "2020-10-28T10:05:02.341096Z"
    },
    "papermill": {
     "duration": 0.049822,
     "end_time": "2020-10-28T10:05:02.341729",
     "exception": false,
     "start_time": "2020-10-28T10:05:02.291907",
     "status": "completed"
    },
    "tags": []
   },
   "outputs": [],
   "source": [
    "from kudzu.layer import Sigmoid\n",
    "from kudzu.layer import Relu\n",
    "from kudzu.layer import Affine, Sigmoid\n",
    "\n",
    "from kudzu.model import Model\n",
    "from kudzu.train import Learner\n",
    "from kudzu.optim import GD\n",
    "from kudzu.data import Data, Dataloader, Sampler\n",
    "\n",
    "from kudzu.callbacks import AccCallback\n",
    "from kudzu.callbacks import ClfCallback\n",
    "\n",
    "from kudzu.loss import MSE"
   ]
  },
  {
   "cell_type": "markdown",
   "metadata": {
    "papermill": {
     "duration": 0.255303,
     "end_time": "2020-10-28T10:05:02.623677",
     "exception": false,
     "start_time": "2020-10-28T10:05:02.368374",
     "status": "completed"
    },
    "tags": []
   },
   "source": [
    "### Let us create a `Config` class, to store important parameters. \n",
    "This class essentially plays the role of a dictionary."
   ]
  },
  {
   "cell_type": "code",
   "execution_count": 15,
   "metadata": {
    "execution": {
     "iopub.execute_input": "2020-10-28T10:05:02.687214Z",
     "iopub.status.busy": "2020-10-28T10:05:02.686630Z",
     "iopub.status.idle": "2020-10-28T10:05:02.696403Z",
     "shell.execute_reply": "2020-10-28T10:05:02.696883Z"
    },
    "papermill": {
     "duration": 0.044949,
     "end_time": "2020-10-28T10:05:02.697009",
     "exception": false,
     "start_time": "2020-10-28T10:05:02.652060",
     "status": "completed"
    },
    "tags": []
   },
   "outputs": [],
   "source": [
    "class Config:\n",
    "    pass\n",
    "config = Config()\n",
    "config.lr = 0.001\n",
    "config.num_epochs = 251\n",
    "config.bs = 50"
   ]
  },
  {
   "cell_type": "markdown",
   "metadata": {
    "papermill": {
     "duration": 0.026774,
     "end_time": "2020-10-28T10:05:02.750335",
     "exception": false,
     "start_time": "2020-10-28T10:05:02.723561",
     "status": "completed"
    },
    "tags": []
   },
   "source": [
    "### Initializing data to the variables"
   ]
  },
  {
   "cell_type": "code",
   "execution_count": 16,
   "metadata": {
    "execution": {
     "iopub.execute_input": "2020-10-28T10:05:02.809352Z",
     "iopub.status.busy": "2020-10-28T10:05:02.808803Z",
     "iopub.status.idle": "2020-10-28T10:05:02.821032Z",
     "shell.execute_reply": "2020-10-28T10:05:02.820575Z"
    },
    "papermill": {
     "duration": 0.043337,
     "end_time": "2020-10-28T10:05:02.821139",
     "exception": false,
     "start_time": "2020-10-28T10:05:02.777802",
     "status": "completed"
    },
    "tags": []
   },
   "outputs": [],
   "source": [
    "data = Data(X_train, y_train.reshape(-1,1))\n",
    "sampler = Sampler(data, config.bs, shuffle=True)\n",
    "\n",
    "dl = Dataloader(data, sampler)\n",
    "\n",
    "opt = GD(config.lr)\n",
    "loss = MSE()"
   ]
  },
  {
   "cell_type": "code",
   "execution_count": 17,
   "metadata": {
    "execution": {
     "iopub.execute_input": "2020-10-28T10:05:02.879435Z",
     "iopub.status.busy": "2020-10-28T10:05:02.878884Z",
     "iopub.status.idle": "2020-10-28T10:05:02.890540Z",
     "shell.execute_reply": "2020-10-28T10:05:02.890067Z"
    },
    "papermill": {
     "duration": 0.043293,
     "end_time": "2020-10-28T10:05:02.890662",
     "exception": false,
     "start_time": "2020-10-28T10:05:02.847369",
     "status": "completed"
    },
    "tags": []
   },
   "outputs": [],
   "source": [
    "training_xdata = X_train\n",
    "testing_xdata = X_test\n",
    "training_ydata = y_train.reshape(-1,1)\n",
    "testing_ydata = y_test.reshape(-1,1)"
   ]
  },
  {
   "cell_type": "markdown",
   "metadata": {
    "papermill": {
     "duration": 0.027063,
     "end_time": "2020-10-28T10:05:02.944809",
     "exception": false,
     "start_time": "2020-10-28T10:05:02.917746",
     "status": "completed"
    },
    "tags": []
   },
   "source": [
    "### Running Models with the Training data\n",
    "Details about the network layers:\n",
    "- A first affine layer has 784 inputs and does 100 affine transforms. These are followed by a Relu\n",
    "- A second affine layer has 100 inputs from the 100 activations of the past layer, and does 100 affine transforms. These are followed by a Relu\n",
    "- A third affine layer has 100 activations and does 2 affine transformations to create an embedding for visualization. There is no non-linearity here.\n",
    "- A final \"logistic regression\" which has an affine transform from 2 inputs to 1 output, which is squeezed through a sigmoid.\n",
    "\n",
    "Help taken from Anshuman's Notebook."
   ]
  },
  {
   "cell_type": "code",
   "execution_count": 18,
   "metadata": {
    "execution": {
     "iopub.execute_input": "2020-10-28T10:05:03.001812Z",
     "iopub.status.busy": "2020-10-28T10:05:03.001233Z",
     "iopub.status.idle": "2020-10-28T10:05:03.023740Z",
     "shell.execute_reply": "2020-10-28T10:05:03.023165Z"
    },
    "papermill": {
     "duration": 0.052703,
     "end_time": "2020-10-28T10:05:03.023886",
     "exception": false,
     "start_time": "2020-10-28T10:05:02.971183",
     "status": "completed"
    },
    "tags": []
   },
   "outputs": [],
   "source": [
    "# layers for the Neural Network\n",
    "layers = [Affine(\"first\", 784, 100), Relu(\"first\"), Affine(\"second\", 100, 100), Relu(\"second\"), Affine(\"third\", 100, 2), Affine(\"final\", 2, 1), Sigmoid(\"final\")]\n",
    "model_nn = Model(layers)\n",
    "\n",
    "# layers for the Logistic Regression\n",
    "layers_lr = [Affine(\"logits\", 784, 1), Sigmoid(\"sigmoid\")]\n",
    "model_lr = Model(layers_lr)"
   ]
  },
  {
   "cell_type": "code",
   "execution_count": 19,
   "metadata": {
    "execution": {
     "iopub.execute_input": "2020-10-28T10:05:03.082422Z",
     "iopub.status.busy": "2020-10-28T10:05:03.081871Z",
     "iopub.status.idle": "2020-10-28T10:05:03.093261Z",
     "shell.execute_reply": "2020-10-28T10:05:03.092822Z"
    },
    "papermill": {
     "duration": 0.041627,
     "end_time": "2020-10-28T10:05:03.093374",
     "exception": false,
     "start_time": "2020-10-28T10:05:03.051747",
     "status": "completed"
    },
    "tags": []
   },
   "outputs": [],
   "source": [
    "# suffix _nn stands for Neural Network.\n",
    "learner_nn = Learner(loss, model_nn, opt, config.num_epochs)\n",
    "acc_nn = ClfCallback(learner_nn, config.bs, training_xdata , testing_xdata, training_ydata, testing_ydata)\n",
    "learner_nn.set_callbacks([acc_nn])"
   ]
  },
  {
   "cell_type": "code",
   "execution_count": 20,
   "metadata": {
    "execution": {
     "iopub.execute_input": "2020-10-28T10:05:03.150867Z",
     "iopub.status.busy": "2020-10-28T10:05:03.150329Z",
     "iopub.status.idle": "2020-10-28T10:06:23.748676Z",
     "shell.execute_reply": "2020-10-28T10:06:23.749415Z"
    },
    "papermill": {
     "duration": 80.630103,
     "end_time": "2020-10-28T10:06:23.749592",
     "exception": false,
     "start_time": "2020-10-28T10:05:03.119489",
     "status": "completed"
    },
    "tags": []
   },
   "outputs": [
    {
     "name": "stdout",
     "output_type": "stream",
     "text": [
      "====== Neural Network ======\n"
     ]
    },
    {
     "name": "stdout",
     "output_type": "stream",
     "text": [
      "Epoch 0, Loss 0.2164\n",
      "Training Accuracy: 0.8087, Testing Accuracy: 0.8120\n",
      "\n"
     ]
    },
    {
     "name": "stdout",
     "output_type": "stream",
     "text": [
      "Epoch 10, Loss 0.0657\n",
      "Training Accuracy: 0.9345, Testing Accuracy: 0.9466\n",
      "\n"
     ]
    },
    {
     "name": "stdout",
     "output_type": "stream",
     "text": [
      "Epoch 20, Loss 0.046\n",
      "Training Accuracy: 0.9499, Testing Accuracy: 0.9607\n",
      "\n"
     ]
    },
    {
     "name": "stdout",
     "output_type": "stream",
     "text": [
      "Epoch 30, Loss 0.0382\n",
      "Training Accuracy: 0.9571, Testing Accuracy: 0.9657\n",
      "\n"
     ]
    },
    {
     "name": "stdout",
     "output_type": "stream",
     "text": [
      "Epoch 40, Loss 0.0339\n",
      "Training Accuracy: 0.9613, Testing Accuracy: 0.9672\n",
      "\n"
     ]
    },
    {
     "name": "stdout",
     "output_type": "stream",
     "text": [
      "Epoch 50, Loss 0.0311\n",
      "Training Accuracy: 0.9647, Testing Accuracy: 0.9698\n",
      "\n"
     ]
    },
    {
     "name": "stdout",
     "output_type": "stream",
     "text": [
      "Epoch 60, Loss 0.029\n",
      "Training Accuracy: 0.9658, Testing Accuracy: 0.9708\n",
      "\n"
     ]
    },
    {
     "name": "stdout",
     "output_type": "stream",
     "text": [
      "Epoch 70, Loss 0.0274\n",
      "Training Accuracy: 0.9674, Testing Accuracy: 0.9713\n",
      "\n"
     ]
    },
    {
     "name": "stdout",
     "output_type": "stream",
     "text": [
      "Epoch 80, Loss 0.0261\n",
      "Training Accuracy: 0.9695, Testing Accuracy: 0.9708\n",
      "\n"
     ]
    },
    {
     "name": "stdout",
     "output_type": "stream",
     "text": [
      "Epoch 90, Loss 0.025\n",
      "Training Accuracy: 0.9712, Testing Accuracy: 0.9718\n",
      "\n"
     ]
    },
    {
     "name": "stdout",
     "output_type": "stream",
     "text": [
      "Epoch 100, Loss 0.0241\n",
      "Training Accuracy: 0.9722, Testing Accuracy: 0.9718\n",
      "\n"
     ]
    },
    {
     "name": "stdout",
     "output_type": "stream",
     "text": [
      "Epoch 110, Loss 0.0232\n",
      "Training Accuracy: 0.9735, Testing Accuracy: 0.9723\n",
      "\n"
     ]
    },
    {
     "name": "stdout",
     "output_type": "stream",
     "text": [
      "Epoch 120, Loss 0.0225\n",
      "Training Accuracy: 0.9739, Testing Accuracy: 0.9728\n",
      "\n"
     ]
    },
    {
     "name": "stdout",
     "output_type": "stream",
     "text": [
      "Epoch 130, Loss 0.0218\n",
      "Training Accuracy: 0.9745, Testing Accuracy: 0.9733\n",
      "\n"
     ]
    },
    {
     "name": "stdout",
     "output_type": "stream",
     "text": [
      "Epoch 140, Loss 0.0211\n",
      "Training Accuracy: 0.9758, Testing Accuracy: 0.9733\n",
      "\n"
     ]
    },
    {
     "name": "stdout",
     "output_type": "stream",
     "text": [
      "Epoch 150, Loss 0.0205\n",
      "Training Accuracy: 0.9766, Testing Accuracy: 0.9733\n",
      "\n"
     ]
    },
    {
     "name": "stdout",
     "output_type": "stream",
     "text": [
      "Epoch 160, Loss 0.0199\n",
      "Training Accuracy: 0.9777, Testing Accuracy: 0.9733\n",
      "\n"
     ]
    },
    {
     "name": "stdout",
     "output_type": "stream",
     "text": [
      "Epoch 170, Loss 0.0194\n",
      "Training Accuracy: 0.9786, Testing Accuracy: 0.9738\n",
      "\n"
     ]
    },
    {
     "name": "stdout",
     "output_type": "stream",
     "text": [
      "Epoch 180, Loss 0.0188\n",
      "Training Accuracy: 0.9789, Testing Accuracy: 0.9733\n",
      "\n"
     ]
    },
    {
     "name": "stdout",
     "output_type": "stream",
     "text": [
      "Epoch 190, Loss 0.0183\n",
      "Training Accuracy: 0.9796, Testing Accuracy: 0.9733\n",
      "\n"
     ]
    },
    {
     "name": "stdout",
     "output_type": "stream",
     "text": [
      "Epoch 200, Loss 0.0179\n",
      "Training Accuracy: 0.9805, Testing Accuracy: 0.9738\n",
      "\n"
     ]
    },
    {
     "name": "stdout",
     "output_type": "stream",
     "text": [
      "Epoch 210, Loss 0.0174\n",
      "Training Accuracy: 0.9811, Testing Accuracy: 0.9743\n",
      "\n"
     ]
    },
    {
     "name": "stdout",
     "output_type": "stream",
     "text": [
      "Epoch 220, Loss 0.017\n",
      "Training Accuracy: 0.9817, Testing Accuracy: 0.9748\n",
      "\n"
     ]
    },
    {
     "name": "stdout",
     "output_type": "stream",
     "text": [
      "Epoch 230, Loss 0.0166\n",
      "Training Accuracy: 0.9821, Testing Accuracy: 0.9768\n",
      "\n"
     ]
    },
    {
     "name": "stdout",
     "output_type": "stream",
     "text": [
      "Epoch 240, Loss 0.0162\n",
      "Training Accuracy: 0.9826, Testing Accuracy: 0.9763\n",
      "\n"
     ]
    },
    {
     "name": "stdout",
     "output_type": "stream",
     "text": [
      "Epoch 250, Loss 0.0158\n",
      "Training Accuracy: 0.9833, Testing Accuracy: 0.9768\n",
      "\n"
     ]
    },
    {
     "data": {
      "text/plain": [
       "0.002972955949779128"
      ]
     },
     "execution_count": 20,
     "metadata": {},
     "output_type": "execute_result"
    }
   ],
   "source": [
    "print(\"====== Neural Network ======\")\n",
    "learner_nn.train_loop(dl)"
   ]
  },
  {
   "cell_type": "markdown",
   "metadata": {
    "papermill": {
     "duration": 0.034465,
     "end_time": "2020-10-28T10:06:23.820229",
     "exception": false,
     "start_time": "2020-10-28T10:06:23.785764",
     "status": "completed"
    },
    "tags": []
   },
   "source": [
    "### Logistic Regression based Implementation."
   ]
  },
  {
   "cell_type": "code",
   "execution_count": 21,
   "metadata": {
    "execution": {
     "iopub.execute_input": "2020-10-28T10:06:23.892902Z",
     "iopub.status.busy": "2020-10-28T10:06:23.892206Z",
     "iopub.status.idle": "2020-10-28T10:06:23.903896Z",
     "shell.execute_reply": "2020-10-28T10:06:23.904351Z"
    },
    "papermill": {
     "duration": 0.050205,
     "end_time": "2020-10-28T10:06:23.904485",
     "exception": false,
     "start_time": "2020-10-28T10:06:23.854280",
     "status": "completed"
    },
    "tags": []
   },
   "outputs": [],
   "source": [
    "learner_lr = Learner(loss, model_lr, opt, config.num_epochs)\n",
    "acc_lr = ClfCallback(learner_lr, config.bs, training_xdata , testing_xdata, training_ydata, testing_ydata)\n",
    "learner_lr.set_callbacks([acc_lr])"
   ]
  },
  {
   "cell_type": "code",
   "execution_count": 22,
   "metadata": {
    "execution": {
     "iopub.execute_input": "2020-10-28T10:06:23.982741Z",
     "iopub.status.busy": "2020-10-28T10:06:23.982203Z",
     "iopub.status.idle": "2020-10-28T10:06:39.846264Z",
     "shell.execute_reply": "2020-10-28T10:06:39.847015Z"
    },
    "papermill": {
     "duration": 15.90899,
     "end_time": "2020-10-28T10:06:39.847179",
     "exception": false,
     "start_time": "2020-10-28T10:06:23.938189",
     "status": "completed"
    },
    "tags": []
   },
   "outputs": [
    {
     "name": "stdout",
     "output_type": "stream",
     "text": [
      "====== Logistic Regression ======\n",
      "Epoch 0, Loss 0.2288\n",
      "Training Accuracy: 0.7677, Testing Accuracy: 0.7651\n",
      "\n"
     ]
    },
    {
     "name": "stdout",
     "output_type": "stream",
     "text": [
      "Epoch 10, Loss 0.1004\n",
      "Training Accuracy: 0.9129, Testing Accuracy: 0.9249\n",
      "\n"
     ]
    },
    {
     "name": "stdout",
     "output_type": "stream",
     "text": [
      "Epoch 20, Loss 0.0784\n",
      "Training Accuracy: 0.9286, Testing Accuracy: 0.9375\n",
      "\n"
     ]
    },
    {
     "name": "stdout",
     "output_type": "stream",
     "text": [
      "Epoch 30, Loss 0.0681\n",
      "Training Accuracy: 0.9357, Testing Accuracy: 0.9456\n",
      "\n"
     ]
    },
    {
     "name": "stdout",
     "output_type": "stream",
     "text": [
      "Epoch 40, Loss 0.0618\n",
      "Training Accuracy: 0.9401, Testing Accuracy: 0.9526\n",
      "\n"
     ]
    },
    {
     "name": "stdout",
     "output_type": "stream",
     "text": [
      "Epoch 50, Loss 0.0575\n",
      "Training Accuracy: 0.9434, Testing Accuracy: 0.9556\n",
      "\n"
     ]
    },
    {
     "name": "stdout",
     "output_type": "stream",
     "text": [
      "Epoch 60, Loss 0.0543\n",
      "Training Accuracy: 0.9453, Testing Accuracy: 0.9577\n",
      "\n"
     ]
    },
    {
     "name": "stdout",
     "output_type": "stream",
     "text": [
      "Epoch 70, Loss 0.0517\n",
      "Training Accuracy: 0.9474, Testing Accuracy: 0.9582\n",
      "\n"
     ]
    },
    {
     "name": "stdout",
     "output_type": "stream",
     "text": [
      "Epoch 80, Loss 0.0497\n",
      "Training Accuracy: 0.9491, Testing Accuracy: 0.9597\n",
      "\n"
     ]
    },
    {
     "name": "stdout",
     "output_type": "stream",
     "text": [
      "Epoch 90, Loss 0.048\n",
      "Training Accuracy: 0.9509, Testing Accuracy: 0.9602\n",
      "\n"
     ]
    },
    {
     "name": "stdout",
     "output_type": "stream",
     "text": [
      "Epoch 100, Loss 0.0466\n",
      "Training Accuracy: 0.9522, Testing Accuracy: 0.9612\n",
      "\n"
     ]
    },
    {
     "name": "stdout",
     "output_type": "stream",
     "text": [
      "Epoch 110, Loss 0.0453\n",
      "Training Accuracy: 0.9532, Testing Accuracy: 0.9617\n",
      "\n"
     ]
    },
    {
     "name": "stdout",
     "output_type": "stream",
     "text": [
      "Epoch 120, Loss 0.0442\n",
      "Training Accuracy: 0.9545, Testing Accuracy: 0.9622\n",
      "\n"
     ]
    },
    {
     "name": "stdout",
     "output_type": "stream",
     "text": [
      "Epoch 130, Loss 0.0433\n",
      "Training Accuracy: 0.9551, Testing Accuracy: 0.9627\n",
      "\n"
     ]
    },
    {
     "name": "stdout",
     "output_type": "stream",
     "text": [
      "Epoch 140, Loss 0.0424\n",
      "Training Accuracy: 0.9558, Testing Accuracy: 0.9627\n",
      "\n"
     ]
    },
    {
     "name": "stdout",
     "output_type": "stream",
     "text": [
      "Epoch 150, Loss 0.0417\n",
      "Training Accuracy: 0.9564, Testing Accuracy: 0.9627\n",
      "\n"
     ]
    },
    {
     "name": "stdout",
     "output_type": "stream",
     "text": [
      "Epoch 160, Loss 0.041\n",
      "Training Accuracy: 0.9570, Testing Accuracy: 0.9637\n",
      "\n"
     ]
    },
    {
     "name": "stdout",
     "output_type": "stream",
     "text": [
      "Epoch 170, Loss 0.0404\n",
      "Training Accuracy: 0.9575, Testing Accuracy: 0.9627\n",
      "\n"
     ]
    },
    {
     "name": "stdout",
     "output_type": "stream",
     "text": [
      "Epoch 180, Loss 0.0398\n",
      "Training Accuracy: 0.9579, Testing Accuracy: 0.9632\n",
      "\n"
     ]
    },
    {
     "name": "stdout",
     "output_type": "stream",
     "text": [
      "Epoch 190, Loss 0.0393\n",
      "Training Accuracy: 0.9584, Testing Accuracy: 0.9637\n",
      "\n"
     ]
    },
    {
     "name": "stdout",
     "output_type": "stream",
     "text": [
      "Epoch 200, Loss 0.0388\n",
      "Training Accuracy: 0.9584, Testing Accuracy: 0.9642\n",
      "\n"
     ]
    },
    {
     "name": "stdout",
     "output_type": "stream",
     "text": [
      "Epoch 210, Loss 0.0383\n",
      "Training Accuracy: 0.9588, Testing Accuracy: 0.9642\n",
      "\n"
     ]
    },
    {
     "name": "stdout",
     "output_type": "stream",
     "text": [
      "Epoch 220, Loss 0.0379\n",
      "Training Accuracy: 0.9594, Testing Accuracy: 0.9647\n",
      "\n"
     ]
    },
    {
     "name": "stdout",
     "output_type": "stream",
     "text": [
      "Epoch 230, Loss 0.0375\n",
      "Training Accuracy: 0.9597, Testing Accuracy: 0.9647\n",
      "\n"
     ]
    },
    {
     "name": "stdout",
     "output_type": "stream",
     "text": [
      "Epoch 240, Loss 0.0371\n",
      "Training Accuracy: 0.9600, Testing Accuracy: 0.9647\n",
      "\n"
     ]
    },
    {
     "name": "stdout",
     "output_type": "stream",
     "text": [
      "Epoch 250, Loss 0.0368\n",
      "Training Accuracy: 0.9606, Testing Accuracy: 0.9657\n",
      "\n"
     ]
    },
    {
     "data": {
      "text/plain": [
       "0.05865337602363009"
      ]
     },
     "execution_count": 22,
     "metadata": {},
     "output_type": "execute_result"
    }
   ],
   "source": [
    "print(\"====== Logistic Regression ======\")\n",
    "learner_lr.train_loop(dl)"
   ]
  },
  {
   "cell_type": "markdown",
   "metadata": {
    "papermill": {
     "duration": 0.041903,
     "end_time": "2020-10-28T10:06:39.931645",
     "exception": false,
     "start_time": "2020-10-28T10:06:39.889742",
     "status": "completed"
    },
    "tags": []
   },
   "source": [
    "### Comparing results of NN and LR"
   ]
  },
  {
   "cell_type": "code",
   "execution_count": 23,
   "metadata": {
    "execution": {
     "iopub.execute_input": "2020-10-28T10:06:40.018582Z",
     "iopub.status.busy": "2020-10-28T10:06:40.017878Z",
     "iopub.status.idle": "2020-10-28T10:06:40.243883Z",
     "shell.execute_reply": "2020-10-28T10:06:40.243413Z"
    },
    "papermill": {
     "duration": 0.271245,
     "end_time": "2020-10-28T10:06:40.244018",
     "exception": false,
     "start_time": "2020-10-28T10:06:39.972773",
     "status": "completed"
    },
    "tags": []
   },
   "outputs": [
    {
     "data": {
      "text/plain": [
       "<matplotlib.legend.Legend at 0x7f95f715e2b0>"
      ]
     },
     "execution_count": 23,
     "metadata": {},
     "output_type": "execute_result"
    },
    {
     "data": {
      "image/png": "[encoded data removed]",
      "text/plain": [
       "<Figure size 1080x720 with 1 Axes>"
      ]
     },
     "metadata": {
      "needs_background": "light"
     },
     "output_type": "display_data"
    }
   ],
   "source": [
    "plt.figure(figsize=(15,10))\n",
    "\n",
    "# Neural Network plots\n",
    "plt.plot(acc_nn.accuracies, 'r-', label = \"Training Accuracies - NN\")\n",
    "plt.plot(acc_nn.test_accuracies, 'g-', label = \"Testing Accuracies - NN\")\n",
    "\n",
    "# Logistic Regression plots\n",
    "plt.plot(acc_lr.accuracies, 'k-', label = \"Training Accuracies - LR\")\n",
    "plt.plot(acc_lr.test_accuracies, 'b-', label = \"Testing Accuracies - LR\")\n",
    "\n",
    "plt.ylim(0.8, 1)\n",
    "\n",
    "plt.legend()\n",
    "\n"
   ]
  },
  {
   "cell_type": "markdown",
   "metadata": {
    "papermill": {
     "duration": 0.042434,
     "end_time": "2020-10-28T10:06:40.329500",
     "exception": false,
     "start_time": "2020-10-28T10:06:40.287066",
     "status": "completed"
    },
    "tags": []
   },
   "source": [
    "### From the plot, we can observe the following:\n",
    "- Neural Network achieves higher accuracy than the Logistic Regression model.\n",
    "- This apparently, is because of overfitting, i.e. NN captures more noise than data.\n",
    "- Testing accuracy of NN drops below the Training accuracy at higher epochs. This explains the over-fitting on training data.\n",
    "- Logistic Regression gives a reliable accuracy, without the above mentioned problem.\n"
   ]
  },
  {
   "cell_type": "markdown",
   "metadata": {
    "papermill": {
     "duration": 0.043048,
     "end_time": "2020-10-28T10:06:40.414810",
     "exception": false,
     "start_time": "2020-10-28T10:06:40.371762",
     "status": "completed"
    },
    "tags": []
   },
   "source": [
    "### Moving till the last but one layer (excluding it).\n",
    "#### Plotting the outputs of this layer of the NN."
   ]
  },
  {
   "cell_type": "code",
   "execution_count": 24,
   "metadata": {
    "execution": {
     "iopub.execute_input": "2020-10-28T10:06:40.519496Z",
     "iopub.status.busy": "2020-10-28T10:06:40.513696Z",
     "iopub.status.idle": "2020-10-28T10:06:40.521913Z",
     "shell.execute_reply": "2020-10-28T10:06:40.521438Z"
    },
    "papermill": {
     "duration": 0.06353,
     "end_time": "2020-10-28T10:06:40.522036",
     "exception": false,
     "start_time": "2020-10-28T10:06:40.458506",
     "status": "completed"
    },
    "tags": []
   },
   "outputs": [],
   "source": [
    "model_new = Model(layers[:-2])"
   ]
  },
  {
   "cell_type": "code",
   "execution_count": 25,
   "metadata": {
    "execution": {
     "iopub.execute_input": "2020-10-28T10:06:40.614808Z",
     "iopub.status.busy": "2020-10-28T10:06:40.614278Z",
     "iopub.status.idle": "2020-10-28T10:06:40.633023Z",
     "shell.execute_reply": "2020-10-28T10:06:40.633586Z"
    },
    "papermill": {
     "duration": 0.067634,
     "end_time": "2020-10-28T10:06:40.633721",
     "exception": false,
     "start_time": "2020-10-28T10:06:40.566087",
     "status": "completed"
    },
    "tags": []
   },
   "outputs": [],
   "source": [
    "plot_testing = model_new(testing_xdata)"
   ]
  },
  {
   "cell_type": "code",
   "execution_count": 26,
   "metadata": {
    "execution": {
     "iopub.execute_input": "2020-10-28T10:06:40.730941Z",
     "iopub.status.busy": "2020-10-28T10:06:40.730404Z",
     "iopub.status.idle": "2020-10-28T10:06:40.910257Z",
     "shell.execute_reply": "2020-10-28T10:06:40.910673Z"
    },
    "papermill": {
     "duration": 0.234131,
     "end_time": "2020-10-28T10:06:40.910815",
     "exception": false,
     "start_time": "2020-10-28T10:06:40.676684",
     "status": "completed"
    },
    "tags": []
   },
   "outputs": [
    {
     "data": {
      "text/plain": [
       "Text(0.5, 1.0, 'Outputs')"
      ]
     },
     "execution_count": 26,
     "metadata": {},
     "output_type": "execute_result"
    },
    {
     "data": {
      "image/png": "[encoded data removed]",
      "text/plain": [
       "<Figure size 576x504 with 1 Axes>"
      ]
     },
     "metadata": {
      "needs_background": "light"
     },
     "output_type": "display_data"
    }
   ],
   "source": [
    "plt.figure(figsize=(8,7))\n",
    "plt.scatter(plot_testing[:,0], plot_testing[:,1], alpha = 0.1, c = y_test.ravel());\n",
    "plt.title('Outputs')"
   ]
  },
  {
   "cell_type": "markdown",
   "metadata": {
    "papermill": {
     "duration": 0.045908,
     "end_time": "2020-10-28T10:06:41.003068",
     "exception": false,
     "start_time": "2020-10-28T10:06:40.957160",
     "status": "completed"
    },
    "tags": []
   },
   "source": [
    "### Plotting probability contours"
   ]
  },
  {
   "cell_type": "code",
   "execution_count": 27,
   "metadata": {
    "execution": {
     "iopub.execute_input": "2020-10-28T10:06:41.099145Z",
     "iopub.status.busy": "2020-10-28T10:06:41.098594Z",
     "iopub.status.idle": "2020-10-28T10:06:41.111293Z",
     "shell.execute_reply": "2020-10-28T10:06:41.110820Z"
    },
    "papermill": {
     "duration": 0.063251,
     "end_time": "2020-10-28T10:06:41.111423",
     "exception": false,
     "start_time": "2020-10-28T10:06:41.048172",
     "status": "completed"
    },
    "tags": []
   },
   "outputs": [],
   "source": [
    "model_prob = Model(layers[-2:]) "
   ]
  },
  {
   "cell_type": "code",
   "execution_count": 28,
   "metadata": {
    "execution": {
     "iopub.execute_input": "2020-10-28T10:06:41.208088Z",
     "iopub.status.busy": "2020-10-28T10:06:41.207500Z",
     "iopub.status.idle": "2020-10-28T10:06:41.221161Z",
     "shell.execute_reply": "2020-10-28T10:06:41.221658Z"
    },
    "papermill": {
     "duration": 0.06527,
     "end_time": "2020-10-28T10:06:41.221804",
     "exception": false,
     "start_time": "2020-10-28T10:06:41.156534",
     "status": "completed"
    },
    "tags": []
   },
   "outputs": [],
   "source": [
    "# Adjust the x and y ranges according to the above generated plot.\n",
    "x_range = np.linspace(-4, 1, 100) \n",
    "y_range = np.linspace(-6, 6, 100) \n",
    "x_grid, y_grid = np.meshgrid(x_range, y_range) # x_grid and y_grig are of size 100 X 100\n",
    "\n",
    "# converting x_grid and y_grid to continuous arrays\n",
    "x_grid_flat = np.ravel(x_grid)\n",
    "y_grid_flat = np.ravel(y_grid)\n",
    "\n",
    "# The last layer of the current model takes two columns as input. Hence transpose of np.vstack() is required.\n",
    "X = np.vstack((x_grid_flat, y_grid_flat)).T\n",
    "\n",
    "# x_grid and y_grid are of size 100 x 100\n",
    "probability_contour = model_prob(X).reshape(100,100) "
   ]
  },
  {
   "cell_type": "code",
   "execution_count": 29,
   "metadata": {
    "execution": {
     "iopub.execute_input": "2020-10-28T10:06:41.326804Z",
     "iopub.status.busy": "2020-10-28T10:06:41.326216Z",
     "iopub.status.idle": "2020-10-28T10:06:41.564182Z",
     "shell.execute_reply": "2020-10-28T10:06:41.563662Z"
    },
    "papermill": {
     "duration": 0.296643,
     "end_time": "2020-10-28T10:06:41.564316",
     "exception": false,
     "start_time": "2020-10-28T10:06:41.267673",
     "status": "completed"
    },
    "tags": []
   },
   "outputs": [
    {
     "data": {
      "image/png": "[encoded data removed]",
      "text/plain": [
       "<Figure size 720x648 with 1 Axes>"
      ]
     },
     "metadata": {
      "needs_background": "light"
     },
     "output_type": "display_data"
    }
   ],
   "source": [
    "plt.figure(figsize=(10,9))\n",
    "plt.scatter(plot_testing[:,0], plot_testing[:,1], alpha = 0.1, c = y_test.ravel())\n",
    "contours = plt.contour(x_grid,y_grid,probability_contour)\n",
    "plt.title('Probability Contours')\n",
    "plt.clabel(contours, inline = True );"
   ]
  }
 ],
 "metadata": {
  "kernelspec": {
   "display_name": "Python 3",
   "language": "python",
   "name": "python3"
  },
  "language_info": {
   "codemirror_mode": {
    "name": "ipython",
    "version": 3
   },
   "file_extension": ".py",
   "mimetype": "text/x-python",
   "name": "python",
   "nbconvert_exporter": "python",
   "pygments_lexer": "ipython3",
   "version": "3.6.12"
  },
  "papermill": {
   "duration": 107.346676,
   "end_time": "2020-10-28T10:06:42.901888",
   "environment_variables": {},
   "exception": null,
   "input_path": "2020-08-11-NeuralNetwork.ipynb",
   "output_path": "2020-08-11-NeuralNetwork.ipynb",
   "parameters": {},
   "start_time": "2020-10-28T10:04:55.555212",
   "version": "2.1.2"
  }
 },
 "nbformat": 4,
 "nbformat_minor": 4
}