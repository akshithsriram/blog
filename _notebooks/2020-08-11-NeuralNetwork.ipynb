{
 "cells": [
  {
   "cell_type": "markdown",
   "metadata": {
    "papermill": {
     "duration": 0.06253,
     "end_time": "2020-09-03T10:03:42.619088",
     "exception": false,
     "start_time": "2020-09-03T10:03:42.556558",
     "status": "completed"
    },
    "tags": []
   },
   "source": [
    "# \"A Basic Neural Network: Differentiate Hand-Written Digits\"\n",
    "\n",
    "- badges: true\n",
    "- author: Akshith Sriram"
   ]
  },
  {
   "cell_type": "markdown",
   "metadata": {
    "papermill": {
     "duration": 0.04834,
     "end_time": "2020-09-03T10:03:42.712263",
     "exception": false,
     "start_time": "2020-09-03T10:03:42.663923",
     "status": "completed"
    },
    "tags": []
   },
   "source": [
    "### Key Objectives:\n",
    "- Building a neural network that differentiates two hand-written digits 3 and 8.\n",
    "- Comparing the results of this Neural Network (NN) to that of a Logistic Regression (LR) model.\n",
    "\n",
    "### Requirements:\n",
    "- 'Kudzu' : A neural network library that was designed during our course by [Univ.AI](www.univ.ai). \n",
    "- MNIST Database\n",
    "\n",
    "If MNIST is not installed, use the command `!pip install mnist` given below.\n",
    "It can be run both from the command line and Jupyter Notebook."
   ]
  },
  {
   "cell_type": "code",
   "execution_count": 1,
   "metadata": {
    "execution": {
     "iopub.execute_input": "2020-09-03T10:03:42.813437Z",
     "iopub.status.busy": "2020-09-03T10:03:42.812864Z",
     "iopub.status.idle": "2020-09-03T10:03:44.503877Z",
     "shell.execute_reply": "2020-09-03T10:03:44.503128Z"
    },
    "papermill": {
     "duration": 1.764381,
     "end_time": "2020-09-03T10:03:44.504035",
     "exception": false,
     "start_time": "2020-09-03T10:03:42.739654",
     "status": "completed"
    },
    "tags": []
   },
   "outputs": [
    {
     "name": "stdout",
     "output_type": "stream",
     "text": [
      "Collecting mnist\r\n"
     ]
    },
    {
     "name": "stdout",
     "output_type": "stream",
     "text": [
      "  Downloading mnist-0.2.2-py2.py3-none-any.whl (3.5 kB)\r\n"
     ]
    },
    {
     "name": "stdout",
     "output_type": "stream",
     "text": [
      "Requirement already satisfied: numpy in /opt/hostedtoolcache/Python/3.6.12/x64/lib/python3.6/site-packages (from mnist) (1.19.1)\r\n"
     ]
    },
    {
     "name": "stdout",
     "output_type": "stream",
     "text": [
      "Installing collected packages: mnist\r\n"
     ]
    },
    {
     "name": "stdout",
     "output_type": "stream",
     "text": [
      "Successfully installed mnist-0.2.2\r\n"
     ]
    }
   ],
   "source": [
    "!pip install mnist "
   ]
  },
  {
   "cell_type": "markdown",
   "metadata": {
    "papermill": {
     "duration": 0.022854,
     "end_time": "2020-09-03T10:03:44.550410",
     "exception": false,
     "start_time": "2020-09-03T10:03:44.527556",
     "status": "completed"
    },
    "tags": []
   },
   "source": [
    "#### Importing necessary libraries"
   ]
  },
  {
   "cell_type": "code",
   "execution_count": 2,
   "metadata": {
    "execution": {
     "iopub.execute_input": "2020-09-03T10:03:44.603888Z",
     "iopub.status.busy": "2020-09-03T10:03:44.603337Z",
     "iopub.status.idle": "2020-09-03T10:03:45.069006Z",
     "shell.execute_reply": "2020-09-03T10:03:45.068527Z"
    },
    "papermill": {
     "duration": 0.494763,
     "end_time": "2020-09-03T10:03:45.069144",
     "exception": false,
     "start_time": "2020-09-03T10:03:44.574381",
     "status": "completed"
    },
    "tags": []
   },
   "outputs": [],
   "source": [
    "%load_ext autoreload\n",
    "%autoreload 2\n",
    "\n",
    "%matplotlib inline\n",
    "import matplotlib.pyplot as plt\n",
    "\n",
    "import numpy as np\n",
    "import pandas as pd"
   ]
  },
  {
   "cell_type": "markdown",
   "metadata": {
    "papermill": {
     "duration": 0.023025,
     "end_time": "2020-09-03T10:03:45.115980",
     "exception": false,
     "start_time": "2020-09-03T10:03:45.092955",
     "status": "completed"
    },
    "tags": []
   },
   "source": [
    "### Preparing the Data"
   ]
  },
  {
   "cell_type": "code",
   "execution_count": 3,
   "metadata": {
    "execution": {
     "iopub.execute_input": "2020-09-03T10:03:45.165042Z",
     "iopub.status.busy": "2020-09-03T10:03:45.164387Z",
     "iopub.status.idle": "2020-09-03T10:03:45.174011Z",
     "shell.execute_reply": "2020-09-03T10:03:45.173557Z"
    },
    "papermill": {
     "duration": 0.035527,
     "end_time": "2020-09-03T10:03:45.174127",
     "exception": false,
     "start_time": "2020-09-03T10:03:45.138600",
     "status": "completed"
    },
    "tags": []
   },
   "outputs": [],
   "source": [
    "import mnist"
   ]
  },
  {
   "cell_type": "code",
   "execution_count": 4,
   "metadata": {
    "execution": {
     "iopub.execute_input": "2020-09-03T10:03:45.227695Z",
     "iopub.status.busy": "2020-09-03T10:03:45.227041Z",
     "iopub.status.idle": "2020-09-03T10:03:46.849091Z",
     "shell.execute_reply": "2020-09-03T10:03:46.848153Z"
    },
    "papermill": {
     "duration": 1.65123,
     "end_time": "2020-09-03T10:03:46.849224",
     "exception": false,
     "start_time": "2020-09-03T10:03:45.197994",
     "status": "completed"
    },
    "tags": []
   },
   "outputs": [],
   "source": [
    "train_images = mnist.train_images()\n",
    "train_labels = mnist.train_labels()"
   ]
  },
  {
   "cell_type": "code",
   "execution_count": 5,
   "metadata": {
    "execution": {
     "iopub.execute_input": "2020-09-03T10:03:46.898577Z",
     "iopub.status.busy": "2020-09-03T10:03:46.898050Z",
     "iopub.status.idle": "2020-09-03T10:03:46.910135Z",
     "shell.execute_reply": "2020-09-03T10:03:46.909618Z"
    },
    "papermill": {
     "duration": 0.037568,
     "end_time": "2020-09-03T10:03:46.910241",
     "exception": false,
     "start_time": "2020-09-03T10:03:46.872673",
     "status": "completed"
    },
    "tags": []
   },
   "outputs": [
    {
     "data": {
      "text/plain": [
       "((60000, 28, 28), (60000,))"
      ]
     },
     "execution_count": 5,
     "metadata": {},
     "output_type": "execute_result"
    }
   ],
   "source": [
    "train_images.shape, train_labels.shape"
   ]
  },
  {
   "cell_type": "code",
   "execution_count": 6,
   "metadata": {
    "execution": {
     "iopub.execute_input": "2020-09-03T10:03:46.959436Z",
     "iopub.status.busy": "2020-09-03T10:03:46.958888Z",
     "iopub.status.idle": "2020-09-03T10:03:47.796076Z",
     "shell.execute_reply": "2020-09-03T10:03:47.795599Z"
    },
    "papermill": {
     "duration": 0.863072,
     "end_time": "2020-09-03T10:03:47.796213",
     "exception": false,
     "start_time": "2020-09-03T10:03:46.933141",
     "status": "completed"
    },
    "tags": []
   },
   "outputs": [],
   "source": [
    "test_images = mnist.test_images()\n",
    "test_labels = mnist.test_labels()"
   ]
  },
  {
   "cell_type": "code",
   "execution_count": 7,
   "metadata": {
    "execution": {
     "iopub.execute_input": "2020-09-03T10:03:47.851530Z",
     "iopub.status.busy": "2020-09-03T10:03:47.849686Z",
     "iopub.status.idle": "2020-09-03T10:03:47.861585Z",
     "shell.execute_reply": "2020-09-03T10:03:47.861141Z"
    },
    "papermill": {
     "duration": 0.040742,
     "end_time": "2020-09-03T10:03:47.861692",
     "exception": false,
     "start_time": "2020-09-03T10:03:47.820950",
     "status": "completed"
    },
    "tags": []
   },
   "outputs": [
    {
     "data": {
      "text/plain": [
       "((10000, 28, 28), (10000,))"
      ]
     },
     "execution_count": 7,
     "metadata": {},
     "output_type": "execute_result"
    }
   ],
   "source": [
    "test_images.shape, test_labels.shape"
   ]
  },
  {
   "cell_type": "code",
   "execution_count": 8,
   "metadata": {
    "execution": {
     "iopub.execute_input": "2020-09-03T10:03:47.915885Z",
     "iopub.status.busy": "2020-09-03T10:03:47.915242Z",
     "iopub.status.idle": "2020-09-03T10:03:48.057257Z",
     "shell.execute_reply": "2020-09-03T10:03:48.056517Z"
    },
    "papermill": {
     "duration": 0.172506,
     "end_time": "2020-09-03T10:03:48.057367",
     "exception": false,
     "start_time": "2020-09-03T10:03:47.884861",
     "status": "completed"
    },
    "tags": []
   },
   "outputs": [
    {
     "name": "stdout",
     "output_type": "stream",
     "text": [
      "2\n"
     ]
    },
    {
     "data": {
      "text/plain": [
       "<matplotlib.image.AxesImage at 0x7f6b5f953be0>"
      ]
     },
     "execution_count": 8,
     "metadata": {},
     "output_type": "execute_result"
    },
    {
     "data": {
      "image/png": "[encoded data removed]",
      "text/plain": [
       "<Figure size 432x288 with 1 Axes>"
      ]
     },
     "metadata": {
      "needs_background": "light"
     },
     "output_type": "display_data"
    }
   ],
   "source": [
    "image_index = 7776 # You may select anything up to 60,000\n",
    "print(train_labels[image_index]) \n",
    "plt.imshow(train_images[image_index], cmap='Greys')"
   ]
  },
  {
   "cell_type": "markdown",
   "metadata": {
    "papermill": {
     "duration": 0.02442,
     "end_time": "2020-09-03T10:03:48.106129",
     "exception": false,
     "start_time": "2020-09-03T10:03:48.081709",
     "status": "completed"
    },
    "tags": []
   },
   "source": [
    "## Filter data to get 3 and 8 out"
   ]
  },
  {
   "cell_type": "code",
   "execution_count": 9,
   "metadata": {
    "execution": {
     "iopub.execute_input": "2020-09-03T10:03:48.168241Z",
     "iopub.status.busy": "2020-09-03T10:03:48.159665Z",
     "iopub.status.idle": "2020-09-03T10:03:48.175678Z",
     "shell.execute_reply": "2020-09-03T10:03:48.175156Z"
    },
    "papermill": {
     "duration": 0.04418,
     "end_time": "2020-09-03T10:03:48.175799",
     "exception": false,
     "start_time": "2020-09-03T10:03:48.131619",
     "status": "completed"
    },
    "tags": []
   },
   "outputs": [],
   "source": [
    "train_filter = np.where((train_labels == 3 ) | (train_labels == 8))\n",
    "test_filter = np.where((test_labels == 3) | (test_labels == 8))\n",
    "X_train, y_train = train_images[train_filter], train_labels[train_filter]\n",
    "X_test, y_test = test_images[test_filter], test_labels[test_filter]"
   ]
  },
  {
   "cell_type": "markdown",
   "metadata": {
    "papermill": {
     "duration": 0.023905,
     "end_time": "2020-09-03T10:03:48.224078",
     "exception": false,
     "start_time": "2020-09-03T10:03:48.200173",
     "status": "completed"
    },
    "tags": []
   },
   "source": [
    "We normalize the pixel values in the 0 to 1 range"
   ]
  },
  {
   "cell_type": "code",
   "execution_count": 10,
   "metadata": {
    "execution": {
     "iopub.execute_input": "2020-09-03T10:03:48.278687Z",
     "iopub.status.busy": "2020-09-03T10:03:48.278161Z",
     "iopub.status.idle": "2020-09-03T10:03:48.331898Z",
     "shell.execute_reply": "2020-09-03T10:03:48.331391Z"
    },
    "papermill": {
     "duration": 0.083669,
     "end_time": "2020-09-03T10:03:48.332035",
     "exception": false,
     "start_time": "2020-09-03T10:03:48.248366",
     "status": "completed"
    },
    "tags": []
   },
   "outputs": [],
   "source": [
    "X_train = X_train/255.\n",
    "X_test = X_test/255."
   ]
  },
  {
   "cell_type": "markdown",
   "metadata": {
    "papermill": {
     "duration": 0.024248,
     "end_time": "2020-09-03T10:03:48.382080",
     "exception": false,
     "start_time": "2020-09-03T10:03:48.357832",
     "status": "completed"
    },
    "tags": []
   },
   "source": [
    "Setup the labels as 1 (when the digit is 3) and 0 (when the digit is 8)"
   ]
  },
  {
   "cell_type": "code",
   "execution_count": 11,
   "metadata": {
    "execution": {
     "iopub.execute_input": "2020-09-03T10:03:48.436017Z",
     "iopub.status.busy": "2020-09-03T10:03:48.435446Z",
     "iopub.status.idle": "2020-09-03T10:03:48.444492Z",
     "shell.execute_reply": "2020-09-03T10:03:48.444930Z"
    },
    "papermill": {
     "duration": 0.039119,
     "end_time": "2020-09-03T10:03:48.445042",
     "exception": false,
     "start_time": "2020-09-03T10:03:48.405923",
     "status": "completed"
    },
    "tags": []
   },
   "outputs": [],
   "source": [
    "y_train = 1*(y_train==3)\n",
    "y_test = 1*(y_test==3)"
   ]
  },
  {
   "cell_type": "code",
   "execution_count": 12,
   "metadata": {
    "execution": {
     "iopub.execute_input": "2020-09-03T10:03:48.496371Z",
     "iopub.status.busy": "2020-09-03T10:03:48.495860Z",
     "iopub.status.idle": "2020-09-03T10:03:48.506650Z",
     "shell.execute_reply": "2020-09-03T10:03:48.506116Z"
    },
    "papermill": {
     "duration": 0.037119,
     "end_time": "2020-09-03T10:03:48.506767",
     "exception": false,
     "start_time": "2020-09-03T10:03:48.469648",
     "status": "completed"
    },
    "tags": []
   },
   "outputs": [
    {
     "data": {
      "text/plain": [
       "((11982, 28, 28), (1984, 28, 28))"
      ]
     },
     "execution_count": 12,
     "metadata": {},
     "output_type": "execute_result"
    }
   ],
   "source": [
    "X_train.shape, X_test.shape"
   ]
  },
  {
   "cell_type": "markdown",
   "metadata": {
    "papermill": {
     "duration": 0.023987,
     "end_time": "2020-09-03T10:03:48.555366",
     "exception": false,
     "start_time": "2020-09-03T10:03:48.531379",
     "status": "completed"
    },
    "tags": []
   },
   "source": [
    "### Reshape the input data to create a linear array"
   ]
  },
  {
   "cell_type": "code",
   "execution_count": 13,
   "metadata": {
    "execution": {
     "iopub.execute_input": "2020-09-03T10:03:48.606845Z",
     "iopub.status.busy": "2020-09-03T10:03:48.606335Z",
     "iopub.status.idle": "2020-09-03T10:03:48.616714Z",
     "shell.execute_reply": "2020-09-03T10:03:48.617128Z"
    },
    "papermill": {
     "duration": 0.037554,
     "end_time": "2020-09-03T10:03:48.617241",
     "exception": false,
     "start_time": "2020-09-03T10:03:48.579687",
     "status": "completed"
    },
    "tags": []
   },
   "outputs": [
    {
     "data": {
      "text/plain": [
       "((11982, 784), (1984, 784))"
      ]
     },
     "execution_count": 13,
     "metadata": {},
     "output_type": "execute_result"
    }
   ],
   "source": [
    "X_train = X_train.reshape(X_train.shape[0], -1)\n",
    "X_test = X_test.reshape(X_test.shape[0], -1)\n",
    "X_train.shape, X_test.shape"
   ]
  },
  {
   "cell_type": "markdown",
   "metadata": {
    "papermill": {
     "duration": 0.024578,
     "end_time": "2020-09-03T10:03:48.666334",
     "exception": false,
     "start_time": "2020-09-03T10:03:48.641756",
     "status": "completed"
    },
    "tags": []
   },
   "source": [
    "### Importing appropriate functions from 'Kudzu'"
   ]
  },
  {
   "cell_type": "code",
   "execution_count": 14,
   "metadata": {
    "execution": {
     "iopub.execute_input": "2020-09-03T10:03:48.722896Z",
     "iopub.status.busy": "2020-09-03T10:03:48.722390Z",
     "iopub.status.idle": "2020-09-03T10:03:48.737564Z",
     "shell.execute_reply": "2020-09-03T10:03:48.737018Z"
    },
    "papermill": {
     "duration": 0.046582,
     "end_time": "2020-09-03T10:03:48.737666",
     "exception": false,
     "start_time": "2020-09-03T10:03:48.691084",
     "status": "completed"
    },
    "tags": []
   },
   "outputs": [],
   "source": [
    "from kudzu.layer import Sigmoid\n",
    "from kudzu.layer import Relu\n",
    "from kudzu.layer import Affine, Sigmoid\n",
    "\n",
    "from kudzu.model import Model\n",
    "from kudzu.train import Learner\n",
    "from kudzu.optim import GD\n",
    "from kudzu.data import Data, Dataloader, Sampler\n",
    "\n",
    "from kudzu.callbacks import AccCallback\n",
    "from kudzu.callbacks import ClfCallback\n",
    "\n",
    "from kudzu.loss import MSE"
   ]
  },
  {
   "cell_type": "markdown",
   "metadata": {
    "papermill": {
     "duration": 0.027753,
     "end_time": "2020-09-03T10:03:48.790762",
     "exception": false,
     "start_time": "2020-09-03T10:03:48.763009",
     "status": "completed"
    },
    "tags": []
   },
   "source": [
    "### Let us create a `Config` class, to store important parameters. \n",
    "This class essentially plays the role of a dictionary."
   ]
  },
  {
   "cell_type": "code",
   "execution_count": 15,
   "metadata": {
    "execution": {
     "iopub.execute_input": "2020-09-03T10:03:48.846879Z",
     "iopub.status.busy": "2020-09-03T10:03:48.846375Z",
     "iopub.status.idle": "2020-09-03T10:03:48.856599Z",
     "shell.execute_reply": "2020-09-03T10:03:48.857111Z"
    },
    "papermill": {
     "duration": 0.038934,
     "end_time": "2020-09-03T10:03:48.857229",
     "exception": false,
     "start_time": "2020-09-03T10:03:48.818295",
     "status": "completed"
    },
    "tags": []
   },
   "outputs": [],
   "source": [
    "class Config:\n",
    "    pass\n",
    "config = Config()\n",
    "config.lr = 0.001\n",
    "config.num_epochs = 251\n",
    "config.bs = 50"
   ]
  },
  {
   "cell_type": "markdown",
   "metadata": {
    "papermill": {
     "duration": 0.026355,
     "end_time": "2020-09-03T10:03:48.908538",
     "exception": false,
     "start_time": "2020-09-03T10:03:48.882183",
     "status": "completed"
    },
    "tags": []
   },
   "source": [
    "### Initializing data to the variables"
   ]
  },
  {
   "cell_type": "code",
   "execution_count": 16,
   "metadata": {
    "execution": {
     "iopub.execute_input": "2020-09-03T10:03:48.962787Z",
     "iopub.status.busy": "2020-09-03T10:03:48.962078Z",
     "iopub.status.idle": "2020-09-03T10:03:48.972625Z",
     "shell.execute_reply": "2020-09-03T10:03:48.973067Z"
    },
    "papermill": {
     "duration": 0.038741,
     "end_time": "2020-09-03T10:03:48.973181",
     "exception": false,
     "start_time": "2020-09-03T10:03:48.934440",
     "status": "completed"
    },
    "tags": []
   },
   "outputs": [],
   "source": [
    "data = Data(X_train, y_train.reshape(-1,1))\n",
    "sampler = Sampler(data, config.bs, shuffle=True)\n",
    "\n",
    "dl = Dataloader(data, sampler)\n",
    "\n",
    "opt = GD(config.lr)\n",
    "loss = MSE()"
   ]
  },
  {
   "cell_type": "code",
   "execution_count": 17,
   "metadata": {
    "execution": {
     "iopub.execute_input": "2020-09-03T10:03:49.028175Z",
     "iopub.status.busy": "2020-09-03T10:03:49.027669Z",
     "iopub.status.idle": "2020-09-03T10:03:49.035688Z",
     "shell.execute_reply": "2020-09-03T10:03:49.036129Z"
    },
    "papermill": {
     "duration": 0.037422,
     "end_time": "2020-09-03T10:03:49.036242",
     "exception": false,
     "start_time": "2020-09-03T10:03:48.998820",
     "status": "completed"
    },
    "tags": []
   },
   "outputs": [],
   "source": [
    "training_xdata = X_train\n",
    "testing_xdata = X_test\n",
    "training_ydata = y_train.reshape(-1,1)\n",
    "testing_ydata = y_test.reshape(-1,1)"
   ]
  },
  {
   "cell_type": "markdown",
   "metadata": {
    "papermill": {
     "duration": 0.027534,
     "end_time": "2020-09-03T10:03:49.088017",
     "exception": false,
     "start_time": "2020-09-03T10:03:49.060483",
     "status": "completed"
    },
    "tags": []
   },
   "source": [
    "### Running Models with the Training data\n",
    "Details about the network layers:\n",
    "- A first affine layer has 784 inputs and does 100 affine transforms. These are followed by a Relu\n",
    "- A second affine layer has 100 inputs from the 100 activations of the past layer, and does 100 affine transforms. These are followed by a Relu\n",
    "- A third affine layer has 100 activations and does 2 affine transformations to create an embedding for visualization. There is no non-linearity here.\n",
    "- A final \"logistic regression\" which has an affine transform from 2 inputs to 1 output, which is squeezed through a sigmoid.\n",
    "\n",
    "Help taken from Anshuman's Notebook."
   ]
  },
  {
   "cell_type": "code",
   "execution_count": 18,
   "metadata": {
    "execution": {
     "iopub.execute_input": "2020-09-03T10:03:50.171594Z",
     "iopub.status.busy": "2020-09-03T10:03:50.171002Z",
     "iopub.status.idle": "2020-09-03T10:03:50.185177Z",
     "shell.execute_reply": "2020-09-03T10:03:50.184669Z"
    },
    "papermill": {
     "duration": 0.562933,
     "end_time": "2020-09-03T10:03:50.185289",
     "exception": false,
     "start_time": "2020-09-03T10:03:49.622356",
     "status": "completed"
    },
    "tags": []
   },
   "outputs": [],
   "source": [
    "# layers for the Neural Network\n",
    "layers = [Affine(\"first\", 784, 100), Relu(\"first\"), Affine(\"second\", 100, 100), Relu(\"second\"), Affine(\"third\", 100, 2), Affine(\"final\", 2, 1), Sigmoid(\"final\")]\n",
    "model_nn = Model(layers)\n",
    "\n",
    "# layers for the Logistic Regression\n",
    "layers_lr = [Affine(\"logits\", 784, 1), Sigmoid(\"sigmoid\")]\n",
    "model_lr = Model(layers_lr)"
   ]
  },
  {
   "cell_type": "code",
   "execution_count": 19,
   "metadata": {
    "execution": {
     "iopub.execute_input": "2020-09-03T10:03:50.238230Z",
     "iopub.status.busy": "2020-09-03T10:03:50.237653Z",
     "iopub.status.idle": "2020-09-03T10:03:50.247770Z",
     "shell.execute_reply": "2020-09-03T10:03:50.247169Z"
    },
    "papermill": {
     "duration": 0.037834,
     "end_time": "2020-09-03T10:03:50.247895",
     "exception": false,
     "start_time": "2020-09-03T10:03:50.210061",
     "status": "completed"
    },
    "tags": []
   },
   "outputs": [],
   "source": [
    "# suffix _nn stands for Neural Network.\n",
    "learner_nn = Learner(loss, model_nn, opt, config.num_epochs)\n",
    "acc_nn = ClfCallback(learner_nn, config.bs, training_xdata , testing_xdata, training_ydata, testing_ydata)\n",
    "learner_nn.set_callbacks([acc_nn])"
   ]
  },
  {
   "cell_type": "code",
   "execution_count": 20,
   "metadata": {
    "execution": {
     "iopub.execute_input": "2020-09-03T10:03:50.306222Z",
     "iopub.status.busy": "2020-09-03T10:03:50.305574Z",
     "iopub.status.idle": "2020-09-03T10:05:52.087458Z",
     "shell.execute_reply": "2020-09-03T10:05:52.087980Z"
    },
    "papermill": {
     "duration": 121.813405,
     "end_time": "2020-09-03T10:05:52.088124",
     "exception": false,
     "start_time": "2020-09-03T10:03:50.274719",
     "status": "completed"
    },
    "tags": []
   },
   "outputs": [
    {
     "name": "stdout",
     "output_type": "stream",
     "text": [
      "====== Neural Network ======\n"
     ]
    },
    {
     "name": "stdout",
     "output_type": "stream",
     "text": [
      "Epoch 0, Loss 0.2522\n",
      "Training Accuracy: 0.5143, Testing Accuracy: 0.5242\n",
      "\n"
     ]
    },
    {
     "name": "stdout",
     "output_type": "stream",
     "text": [
      "Epoch 10, Loss 0.163\n",
      "Training Accuracy: 0.8832, Testing Accuracy: 0.8997\n",
      "\n"
     ]
    },
    {
     "name": "stdout",
     "output_type": "stream",
     "text": [
      "Epoch 20, Loss 0.0833\n",
      "Training Accuracy: 0.9145, Testing Accuracy: 0.9264\n",
      "\n"
     ]
    },
    {
     "name": "stdout",
     "output_type": "stream",
     "text": [
      "Epoch 30, Loss 0.058\n",
      "Training Accuracy: 0.9354, Testing Accuracy: 0.9496\n",
      "\n"
     ]
    },
    {
     "name": "stdout",
     "output_type": "stream",
     "text": [
      "Epoch 40, Loss 0.0468\n",
      "Training Accuracy: 0.9465, Testing Accuracy: 0.9541\n",
      "\n"
     ]
    },
    {
     "name": "stdout",
     "output_type": "stream",
     "text": [
      "Epoch 50, Loss 0.0407\n",
      "Training Accuracy: 0.9529, Testing Accuracy: 0.9592\n",
      "\n"
     ]
    },
    {
     "name": "stdout",
     "output_type": "stream",
     "text": [
      "Epoch 60, Loss 0.0369\n",
      "Training Accuracy: 0.9568, Testing Accuracy: 0.9602\n",
      "\n"
     ]
    },
    {
     "name": "stdout",
     "output_type": "stream",
     "text": [
      "Epoch 70, Loss 0.0342\n",
      "Training Accuracy: 0.9599, Testing Accuracy: 0.9622\n",
      "\n"
     ]
    },
    {
     "name": "stdout",
     "output_type": "stream",
     "text": [
      "Epoch 80, Loss 0.0323\n",
      "Training Accuracy: 0.9614, Testing Accuracy: 0.9672\n",
      "\n"
     ]
    },
    {
     "name": "stdout",
     "output_type": "stream",
     "text": [
      "Epoch 90, Loss 0.0307\n",
      "Training Accuracy: 0.9629, Testing Accuracy: 0.9693\n",
      "\n"
     ]
    },
    {
     "name": "stdout",
     "output_type": "stream",
     "text": [
      "Epoch 100, Loss 0.0295\n",
      "Training Accuracy: 0.9647, Testing Accuracy: 0.9708\n",
      "\n"
     ]
    },
    {
     "name": "stdout",
     "output_type": "stream",
     "text": [
      "Epoch 110, Loss 0.0284\n",
      "Training Accuracy: 0.9658, Testing Accuracy: 0.9713\n",
      "\n"
     ]
    },
    {
     "name": "stdout",
     "output_type": "stream",
     "text": [
      "Epoch 120, Loss 0.0275\n",
      "Training Accuracy: 0.9670, Testing Accuracy: 0.9713\n",
      "\n"
     ]
    },
    {
     "name": "stdout",
     "output_type": "stream",
     "text": [
      "Epoch 130, Loss 0.0266\n",
      "Training Accuracy: 0.9685, Testing Accuracy: 0.9718\n",
      "\n"
     ]
    },
    {
     "name": "stdout",
     "output_type": "stream",
     "text": [
      "Epoch 140, Loss 0.0259\n",
      "Training Accuracy: 0.9694, Testing Accuracy: 0.9723\n",
      "\n"
     ]
    },
    {
     "name": "stdout",
     "output_type": "stream",
     "text": [
      "Epoch 150, Loss 0.0252\n",
      "Training Accuracy: 0.9708, Testing Accuracy: 0.9713\n",
      "\n"
     ]
    },
    {
     "name": "stdout",
     "output_type": "stream",
     "text": [
      "Epoch 160, Loss 0.0246\n",
      "Training Accuracy: 0.9716, Testing Accuracy: 0.9718\n",
      "\n"
     ]
    },
    {
     "name": "stdout",
     "output_type": "stream",
     "text": [
      "Epoch 170, Loss 0.024\n",
      "Training Accuracy: 0.9723, Testing Accuracy: 0.9718\n",
      "\n"
     ]
    },
    {
     "name": "stdout",
     "output_type": "stream",
     "text": [
      "Epoch 180, Loss 0.0234\n",
      "Training Accuracy: 0.9727, Testing Accuracy: 0.9723\n",
      "\n"
     ]
    },
    {
     "name": "stdout",
     "output_type": "stream",
     "text": [
      "Epoch 190, Loss 0.0229\n",
      "Training Accuracy: 0.9740, Testing Accuracy: 0.9728\n",
      "\n"
     ]
    },
    {
     "name": "stdout",
     "output_type": "stream",
     "text": [
      "Epoch 200, Loss 0.0224\n",
      "Training Accuracy: 0.9745, Testing Accuracy: 0.9738\n",
      "\n"
     ]
    },
    {
     "name": "stdout",
     "output_type": "stream",
     "text": [
      "Epoch 210, Loss 0.0219\n",
      "Training Accuracy: 0.9755, Testing Accuracy: 0.9738\n",
      "\n"
     ]
    },
    {
     "name": "stdout",
     "output_type": "stream",
     "text": [
      "Epoch 220, Loss 0.0214\n",
      "Training Accuracy: 0.9760, Testing Accuracy: 0.9738\n",
      "\n"
     ]
    },
    {
     "name": "stdout",
     "output_type": "stream",
     "text": [
      "Epoch 230, Loss 0.021\n",
      "Training Accuracy: 0.9767, Testing Accuracy: 0.9738\n",
      "\n"
     ]
    },
    {
     "name": "stdout",
     "output_type": "stream",
     "text": [
      "Epoch 240, Loss 0.0206\n",
      "Training Accuracy: 0.9770, Testing Accuracy: 0.9733\n",
      "\n"
     ]
    },
    {
     "name": "stdout",
     "output_type": "stream",
     "text": [
      "Epoch 250, Loss 0.0202\n",
      "Training Accuracy: 0.9773, Testing Accuracy: 0.9738\n",
      "\n"
     ]
    },
    {
     "data": {
      "text/plain": [
       "0.012532561923039165"
      ]
     },
     "execution_count": 20,
     "metadata": {},
     "output_type": "execute_result"
    }
   ],
   "source": [
    "print(\"====== Neural Network ======\")\n",
    "learner_nn.train_loop(dl)"
   ]
  },
  {
   "cell_type": "markdown",
   "metadata": {
    "papermill": {
     "duration": 0.03516,
     "end_time": "2020-09-03T10:05:52.157022",
     "exception": false,
     "start_time": "2020-09-03T10:05:52.121862",
     "status": "completed"
    },
    "tags": []
   },
   "source": [
    "### Logistic Regression based Implementation."
   ]
  },
  {
   "cell_type": "code",
   "execution_count": 21,
   "metadata": {
    "execution": {
     "iopub.execute_input": "2020-09-03T10:05:52.229893Z",
     "iopub.status.busy": "2020-09-03T10:05:52.229239Z",
     "iopub.status.idle": "2020-09-03T10:05:52.241101Z",
     "shell.execute_reply": "2020-09-03T10:05:52.241565Z"
    },
    "papermill": {
     "duration": 0.051011,
     "end_time": "2020-09-03T10:05:52.241715",
     "exception": false,
     "start_time": "2020-09-03T10:05:52.190704",
     "status": "completed"
    },
    "tags": []
   },
   "outputs": [],
   "source": [
    "learner_lr = Learner(loss, model_lr, opt, config.num_epochs)\n",
    "acc_lr = ClfCallback(learner_lr, config.bs, training_xdata , testing_xdata, training_ydata, testing_ydata)\n",
    "learner_lr.set_callbacks([acc_lr])"
   ]
  },
  {
   "cell_type": "code",
   "execution_count": 22,
   "metadata": {
    "execution": {
     "iopub.execute_input": "2020-09-03T10:05:52.314173Z",
     "iopub.status.busy": "2020-09-03T10:05:52.313534Z",
     "iopub.status.idle": "2020-09-03T10:06:09.845127Z",
     "shell.execute_reply": "2020-09-03T10:06:09.845793Z"
    },
    "papermill": {
     "duration": 17.566413,
     "end_time": "2020-09-03T10:06:09.845939",
     "exception": false,
     "start_time": "2020-09-03T10:05:52.279526",
     "status": "completed"
    },
    "tags": []
   },
   "outputs": [
    {
     "name": "stdout",
     "output_type": "stream",
     "text": [
      "====== Logistic Regression ======\n",
      "Epoch 0, Loss 0.2493\n",
      "Training Accuracy: 0.6422, Testing Accuracy: 0.6290\n",
      "\n"
     ]
    },
    {
     "name": "stdout",
     "output_type": "stream",
     "text": [
      "Epoch 10, Loss 0.105\n",
      "Training Accuracy: 0.9054, Testing Accuracy: 0.9133\n",
      "\n"
     ]
    },
    {
     "name": "stdout",
     "output_type": "stream",
     "text": [
      "Epoch 20, Loss 0.0802\n",
      "Training Accuracy: 0.9248, Testing Accuracy: 0.9370\n",
      "\n"
     ]
    },
    {
     "name": "stdout",
     "output_type": "stream",
     "text": [
      "Epoch 30, Loss 0.069\n",
      "Training Accuracy: 0.9355, Testing Accuracy: 0.9461\n",
      "\n"
     ]
    },
    {
     "name": "stdout",
     "output_type": "stream",
     "text": [
      "Epoch 40, Loss 0.0623\n",
      "Training Accuracy: 0.9406, Testing Accuracy: 0.9491\n",
      "\n"
     ]
    },
    {
     "name": "stdout",
     "output_type": "stream",
     "text": [
      "Epoch 50, Loss 0.0577\n",
      "Training Accuracy: 0.9439, Testing Accuracy: 0.9531\n",
      "\n"
     ]
    },
    {
     "name": "stdout",
     "output_type": "stream",
     "text": [
      "Epoch 60, Loss 0.0544\n",
      "Training Accuracy: 0.9463, Testing Accuracy: 0.9551\n",
      "\n"
     ]
    },
    {
     "name": "stdout",
     "output_type": "stream",
     "text": [
      "Epoch 70, Loss 0.0518\n",
      "Training Accuracy: 0.9485, Testing Accuracy: 0.9572\n",
      "\n"
     ]
    },
    {
     "name": "stdout",
     "output_type": "stream",
     "text": [
      "Epoch 80, Loss 0.0497\n",
      "Training Accuracy: 0.9501, Testing Accuracy: 0.9587\n",
      "\n"
     ]
    },
    {
     "name": "stdout",
     "output_type": "stream",
     "text": [
      "Epoch 90, Loss 0.048\n",
      "Training Accuracy: 0.9515, Testing Accuracy: 0.9597\n",
      "\n"
     ]
    },
    {
     "name": "stdout",
     "output_type": "stream",
     "text": [
      "Epoch 100, Loss 0.0465\n",
      "Training Accuracy: 0.9535, Testing Accuracy: 0.9622\n",
      "\n"
     ]
    },
    {
     "name": "stdout",
     "output_type": "stream",
     "text": [
      "Epoch 110, Loss 0.0453\n",
      "Training Accuracy: 0.9543, Testing Accuracy: 0.9642\n",
      "\n"
     ]
    },
    {
     "name": "stdout",
     "output_type": "stream",
     "text": [
      "Epoch 120, Loss 0.0442\n",
      "Training Accuracy: 0.9557, Testing Accuracy: 0.9667\n",
      "\n"
     ]
    },
    {
     "name": "stdout",
     "output_type": "stream",
     "text": [
      "Epoch 130, Loss 0.0433\n",
      "Training Accuracy: 0.9562, Testing Accuracy: 0.9667\n",
      "\n"
     ]
    },
    {
     "name": "stdout",
     "output_type": "stream",
     "text": [
      "Epoch 140, Loss 0.0424\n",
      "Training Accuracy: 0.9569, Testing Accuracy: 0.9677\n",
      "\n"
     ]
    },
    {
     "name": "stdout",
     "output_type": "stream",
     "text": [
      "Epoch 150, Loss 0.0416\n",
      "Training Accuracy: 0.9571, Testing Accuracy: 0.9682\n",
      "\n"
     ]
    },
    {
     "name": "stdout",
     "output_type": "stream",
     "text": [
      "Epoch 160, Loss 0.041\n",
      "Training Accuracy: 0.9574, Testing Accuracy: 0.9688\n",
      "\n"
     ]
    },
    {
     "name": "stdout",
     "output_type": "stream",
     "text": [
      "Epoch 170, Loss 0.0403\n",
      "Training Accuracy: 0.9583, Testing Accuracy: 0.9693\n",
      "\n"
     ]
    },
    {
     "name": "stdout",
     "output_type": "stream",
     "text": [
      "Epoch 180, Loss 0.0398\n",
      "Training Accuracy: 0.9585, Testing Accuracy: 0.9693\n",
      "\n"
     ]
    },
    {
     "name": "stdout",
     "output_type": "stream",
     "text": [
      "Epoch 190, Loss 0.0392\n",
      "Training Accuracy: 0.9587, Testing Accuracy: 0.9698\n",
      "\n"
     ]
    },
    {
     "name": "stdout",
     "output_type": "stream",
     "text": [
      "Epoch 200, Loss 0.0387\n",
      "Training Accuracy: 0.9590, Testing Accuracy: 0.9698\n",
      "\n"
     ]
    },
    {
     "name": "stdout",
     "output_type": "stream",
     "text": [
      "Epoch 210, Loss 0.0383\n",
      "Training Accuracy: 0.9593, Testing Accuracy: 0.9698\n",
      "\n"
     ]
    },
    {
     "name": "stdout",
     "output_type": "stream",
     "text": [
      "Epoch 220, Loss 0.0379\n",
      "Training Accuracy: 0.9595, Testing Accuracy: 0.9698\n",
      "\n"
     ]
    },
    {
     "name": "stdout",
     "output_type": "stream",
     "text": [
      "Epoch 230, Loss 0.0375\n",
      "Training Accuracy: 0.9598, Testing Accuracy: 0.9698\n",
      "\n"
     ]
    },
    {
     "name": "stdout",
     "output_type": "stream",
     "text": [
      "Epoch 240, Loss 0.0371\n",
      "Training Accuracy: 0.9601, Testing Accuracy: 0.9698\n",
      "\n"
     ]
    },
    {
     "name": "stdout",
     "output_type": "stream",
     "text": [
      "Epoch 250, Loss 0.0368\n",
      "Training Accuracy: 0.9604, Testing Accuracy: 0.9698\n",
      "\n"
     ]
    },
    {
     "data": {
      "text/plain": [
       "0.026096337561768622"
      ]
     },
     "execution_count": 22,
     "metadata": {},
     "output_type": "execute_result"
    }
   ],
   "source": [
    "print(\"====== Logistic Regression ======\")\n",
    "learner_lr.train_loop(dl)"
   ]
  },
  {
   "cell_type": "markdown",
   "metadata": {
    "papermill": {
     "duration": 0.042155,
     "end_time": "2020-09-03T10:06:09.931198",
     "exception": false,
     "start_time": "2020-09-03T10:06:09.889043",
     "status": "completed"
    },
    "tags": []
   },
   "source": [
    "### Comparing results of NN and LR"
   ]
  },
  {
   "cell_type": "code",
   "execution_count": 23,
   "metadata": {
    "execution": {
     "iopub.execute_input": "2020-09-03T10:06:10.024403Z",
     "iopub.status.busy": "2020-09-03T10:06:10.022523Z",
     "iopub.status.idle": "2020-09-03T10:06:10.264428Z",
     "shell.execute_reply": "2020-09-03T10:06:10.263961Z"
    },
    "papermill": {
     "duration": 0.290008,
     "end_time": "2020-09-03T10:06:10.264549",
     "exception": false,
     "start_time": "2020-09-03T10:06:09.974541",
     "status": "completed"
    },
    "tags": []
   },
   "outputs": [
    {
     "data": {
      "text/plain": [
       "<matplotlib.legend.Legend at 0x7f6b5f539320>"
      ]
     },
     "execution_count": 23,
     "metadata": {},
     "output_type": "execute_result"
    },
    {
     "data": {
      "image/png": "[encoded data removed]",
      "text/plain": [
       "<Figure size 1080x720 with 1 Axes>"
      ]
     },
     "metadata": {
      "needs_background": "light"
     },
     "output_type": "display_data"
    }
   ],
   "source": [
    "plt.figure(figsize=(15,10))\n",
    "\n",
    "# Neural Network plots\n",
    "plt.plot(acc_nn.accuracies, 'r-', label = \"Training Accuracies - NN\")\n",
    "plt.plot(acc_nn.test_accuracies, 'g-', label = \"Testing Accuracies - NN\")\n",
    "\n",
    "# Logistic Regression plots\n",
    "plt.plot(acc_lr.accuracies, 'k-', label = \"Training Accuracies - LR\")\n",
    "plt.plot(acc_lr.test_accuracies, 'b-', label = \"Testing Accuracies - LR\")\n",
    "\n",
    "plt.ylim(0.8, 1)\n",
    "\n",
    "plt.legend()\n",
    "\n"
   ]
  },
  {
   "cell_type": "markdown",
   "metadata": {
    "papermill": {
     "duration": 0.039943,
     "end_time": "2020-09-03T10:06:10.344642",
     "exception": false,
     "start_time": "2020-09-03T10:06:10.304699",
     "status": "completed"
    },
    "tags": []
   },
   "source": [
    "### From the plot, we can observe the following:\n",
    "- Neural Network achieves higher accuracy than the Logistic Regression model.\n",
    "- This apparently, is because of overfitting, i.e. NN captures more noise than data.\n",
    "- Testing accuracy of NN drops below the Training accuracy at higher epochs. This explains the over-fitting on training data.\n",
    "- Logistic Regression gives a reliable accuracy, without the above mentioned problem.\n"
   ]
  },
  {
   "cell_type": "markdown",
   "metadata": {
    "papermill": {
     "duration": 0.039802,
     "end_time": "2020-09-03T10:06:10.424832",
     "exception": false,
     "start_time": "2020-09-03T10:06:10.385030",
     "status": "completed"
    },
    "tags": []
   },
   "source": [
    "### Moving till the last but one layer (excluding it).\n",
    "#### Plotting the outputs of this layer of the NN."
   ]
  },
  {
   "cell_type": "code",
   "execution_count": 24,
   "metadata": {
    "execution": {
     "iopub.execute_input": "2020-09-03T10:06:10.524419Z",
     "iopub.status.busy": "2020-09-03T10:06:10.516135Z",
     "iopub.status.idle": "2020-09-03T10:06:10.526912Z",
     "shell.execute_reply": "2020-09-03T10:06:10.526466Z"
    },
    "papermill": {
     "duration": 0.058707,
     "end_time": "2020-09-03T10:06:10.527021",
     "exception": false,
     "start_time": "2020-09-03T10:06:10.468314",
     "status": "completed"
    },
    "tags": []
   },
   "outputs": [],
   "source": [
    "model_new = Model(layers[:-2])"
   ]
  },
  {
   "cell_type": "code",
   "execution_count": 25,
   "metadata": {
    "execution": {
     "iopub.execute_input": "2020-09-03T10:06:10.611702Z",
     "iopub.status.busy": "2020-09-03T10:06:10.611116Z",
     "iopub.status.idle": "2020-09-03T10:06:10.632994Z",
     "shell.execute_reply": "2020-09-03T10:06:10.633901Z"
    },
    "papermill": {
     "duration": 0.067816,
     "end_time": "2020-09-03T10:06:10.634051",
     "exception": false,
     "start_time": "2020-09-03T10:06:10.566235",
     "status": "completed"
    },
    "tags": []
   },
   "outputs": [],
   "source": [
    "plot_testing = model_new(testing_xdata)"
   ]
  },
  {
   "cell_type": "code",
   "execution_count": 26,
   "metadata": {
    "execution": {
     "iopub.execute_input": "2020-09-03T10:06:10.736793Z",
     "iopub.status.busy": "2020-09-03T10:06:10.736178Z",
     "iopub.status.idle": "2020-09-03T10:06:10.930558Z",
     "shell.execute_reply": "2020-09-03T10:06:10.930017Z"
    },
    "papermill": {
     "duration": 0.253813,
     "end_time": "2020-09-03T10:06:10.930668",
     "exception": false,
     "start_time": "2020-09-03T10:06:10.676855",
     "status": "completed"
    },
    "tags": []
   },
   "outputs": [
    {
     "data": {
      "text/plain": [
       "Text(0.5, 1.0, 'Outputs')"
      ]
     },
     "execution_count": 26,
     "metadata": {},
     "output_type": "execute_result"
    },
    {
     "data": {
      "image/png": "[encoded data removed]",
      "text/plain": [
       "<Figure size 576x504 with 1 Axes>"
      ]
     },
     "metadata": {
      "needs_background": "light"
     },
     "output_type": "display_data"
    }
   ],
   "source": [
    "plt.figure(figsize=(8,7))\n",
    "plt.scatter(plot_testing[:,0], plot_testing[:,1], alpha = 0.1, c = y_test.ravel());\n",
    "plt.title('Outputs')"
   ]
  },
  {
   "cell_type": "markdown",
   "metadata": {
    "papermill": {
     "duration": 0.045802,
     "end_time": "2020-09-03T10:06:11.017586",
     "exception": false,
     "start_time": "2020-09-03T10:06:10.971784",
     "status": "completed"
    },
    "tags": []
   },
   "source": [
    "### Plotting probability contours"
   ]
  },
  {
   "cell_type": "code",
   "execution_count": 27,
   "metadata": {
    "execution": {
     "iopub.execute_input": "2020-09-03T10:06:11.113076Z",
     "iopub.status.busy": "2020-09-03T10:06:11.112225Z",
     "iopub.status.idle": "2020-09-03T10:06:11.121170Z",
     "shell.execute_reply": "2020-09-03T10:06:11.120268Z"
    },
    "papermill": {
     "duration": 0.061646,
     "end_time": "2020-09-03T10:06:11.121286",
     "exception": false,
     "start_time": "2020-09-03T10:06:11.059640",
     "status": "completed"
    },
    "tags": []
   },
   "outputs": [],
   "source": [
    "model_prob = Model(layers[-2:]) "
   ]
  },
  {
   "cell_type": "code",
   "execution_count": 28,
   "metadata": {
    "execution": {
     "iopub.execute_input": "2020-09-03T10:06:11.208468Z",
     "iopub.status.busy": "2020-09-03T10:06:11.207954Z",
     "iopub.status.idle": "2020-09-03T10:06:11.220667Z",
     "shell.execute_reply": "2020-09-03T10:06:11.220239Z"
    },
    "papermill": {
     "duration": 0.057638,
     "end_time": "2020-09-03T10:06:11.220781",
     "exception": false,
     "start_time": "2020-09-03T10:06:11.163143",
     "status": "completed"
    },
    "tags": []
   },
   "outputs": [],
   "source": [
    "# Adjust the x and y ranges according to the above generated plot.\n",
    "x_range = np.linspace(-4, 1, 100) \n",
    "y_range = np.linspace(-6, 6, 100) \n",
    "x_grid, y_grid = np.meshgrid(x_range, y_range) # x_grid and y_grig are of size 100 X 100\n",
    "\n",
    "# converting x_grid and y_grid to continuous arrays\n",
    "x_grid_flat = np.ravel(x_grid)\n",
    "y_grid_flat = np.ravel(y_grid)\n",
    "\n",
    "# The last layer of the current model takes two columns as input. Hence transpose of np.vstack() is required.\n",
    "X = np.vstack((x_grid_flat, y_grid_flat)).T\n",
    "\n",
    "# x_grid and y_grid are of size 100 x 100\n",
    "probability_contour = model_prob(X).reshape(100,100) "
   ]
  },
  {
   "cell_type": "code",
   "execution_count": 29,
   "metadata": {
    "execution": {
     "iopub.execute_input": "2020-09-03T10:06:11.313059Z",
     "iopub.status.busy": "2020-09-03T10:06:11.312544Z",
     "iopub.status.idle": "2020-09-03T10:06:11.551601Z",
     "shell.execute_reply": "2020-09-03T10:06:11.551108Z"
    },
    "papermill": {
     "duration": 0.288843,
     "end_time": "2020-09-03T10:06:11.551723",
     "exception": false,
     "start_time": "2020-09-03T10:06:11.262880",
     "status": "completed"
    },
    "tags": []
   },
   "outputs": [
    {
     "data": {
      "image/png": "[encoded data removed]",
      "text/plain": [
       "<Figure size 720x648 with 1 Axes>"
      ]
     },
     "metadata": {
      "needs_background": "light"
     },
     "output_type": "display_data"
    }
   ],
   "source": [
    "plt.figure(figsize=(10,9))\n",
    "plt.scatter(plot_testing[:,0], plot_testing[:,1], alpha = 0.1, c = y_test.ravel())\n",
    "contours = plt.contour(x_grid,y_grid,probability_contour)\n",
    "plt.title('Probability Contours')\n",
    "plt.clabel(contours, inline = True );"
   ]
  }
 ],
 "metadata": {
  "kernelspec": {
   "display_name": "Python 3",
   "language": "python",
   "name": "python3"
  },
  "language_info": {
   "codemirror_mode": {
    "name": "ipython",
    "version": 3
   },
   "file_extension": ".py",
   "mimetype": "text/x-python",
   "name": "python",
   "nbconvert_exporter": "python",
   "pygments_lexer": "ipython3",
   "version": "3.6.12"
  },
  "papermill": {
   "duration": 151.317891,
   "end_time": "2020-09-03T10:06:12.844733",
   "environment_variables": {},
   "exception": null,
   "input_path": "2020-08-11-NeuralNetwork.ipynb",
   "output_path": "2020-08-11-NeuralNetwork.ipynb",
   "parameters": {},
   "start_time": "2020-09-03T10:03:41.526842",
   "version": "2.1.2"
  }
 },
 "nbformat": 4,
 "nbformat_minor": 4
}