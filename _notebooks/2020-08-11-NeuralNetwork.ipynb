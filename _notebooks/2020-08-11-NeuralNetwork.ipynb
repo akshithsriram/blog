{
 "cells": [
  {
   "cell_type": "markdown",
   "metadata": {
    "papermill": {
     "duration": 0.034521,
     "end_time": "2020-11-22T00:06:15.197226",
     "exception": false,
     "start_time": "2020-11-22T00:06:15.162705",
     "status": "completed"
    },
    "tags": []
   },
   "source": [
    "# \"A Basic Neural Network: Differentiate Hand-Written Digits\"\n",
    "\n",
    "- badges: true\n",
    "- author: Akshith Sriram"
   ]
  },
  {
   "cell_type": "markdown",
   "metadata": {
    "papermill": {
     "duration": 0.025185,
     "end_time": "2020-11-22T00:06:15.252457",
     "exception": false,
     "start_time": "2020-11-22T00:06:15.227272",
     "status": "completed"
    },
    "tags": []
   },
   "source": [
    "### Key Objectives:\n",
    "- Building a neural network that differentiates two hand-written digits 3 and 8.\n",
    "- Comparing the results of this Neural Network (NN) to that of a Logistic Regression (LR) model.\n",
    "\n",
    "### Requirements:\n",
    "- 'Kudzu' : A neural network library that was designed during our course by [Univ.AI](www.univ.ai). \n",
    "- MNIST Database\n",
    "\n",
    "If MNIST is not installed, use the command `!pip install mnist` given below.\n",
    "It can be run both from the command line and Jupyter Notebook."
   ]
  },
  {
   "cell_type": "code",
   "execution_count": 1,
   "metadata": {
    "execution": {
     "iopub.execute_input": "2020-11-22T00:06:15.311908Z",
     "iopub.status.busy": "2020-11-22T00:06:15.311269Z",
     "iopub.status.idle": "2020-11-22T00:06:16.721885Z",
     "shell.execute_reply": "2020-11-22T00:06:16.720655Z"
    },
    "papermill": {
     "duration": 1.441488,
     "end_time": "2020-11-22T00:06:16.722034",
     "exception": false,
     "start_time": "2020-11-22T00:06:15.280546",
     "status": "completed"
    },
    "tags": []
   },
   "outputs": [
    {
     "name": "stdout",
     "output_type": "stream",
     "text": [
      "Collecting mnist\r\n"
     ]
    },
    {
     "name": "stdout",
     "output_type": "stream",
     "text": [
      "  Downloading mnist-0.2.2-py2.py3-none-any.whl (3.5 kB)\r\n",
      "Requirement already satisfied: numpy in /opt/hostedtoolcache/Python/3.6.12/x64/lib/python3.6/site-packages (from mnist) (1.19.4)\r\n"
     ]
    },
    {
     "name": "stdout",
     "output_type": "stream",
     "text": [
      "Installing collected packages: mnist\r\n"
     ]
    },
    {
     "name": "stdout",
     "output_type": "stream",
     "text": [
      "Successfully installed mnist-0.2.2\r\n"
     ]
    }
   ],
   "source": [
    "!pip install mnist "
   ]
  },
  {
   "cell_type": "markdown",
   "metadata": {
    "papermill": {
     "duration": 0.024891,
     "end_time": "2020-11-22T00:06:16.771498",
     "exception": false,
     "start_time": "2020-11-22T00:06:16.746607",
     "status": "completed"
    },
    "tags": []
   },
   "source": [
    "#### Importing necessary libraries"
   ]
  },
  {
   "cell_type": "code",
   "execution_count": 2,
   "metadata": {
    "execution": {
     "iopub.execute_input": "2020-11-22T00:06:16.829577Z",
     "iopub.status.busy": "2020-11-22T00:06:16.829004Z",
     "iopub.status.idle": "2020-11-22T00:06:17.299036Z",
     "shell.execute_reply": "2020-11-22T00:06:17.298530Z"
    },
    "papermill": {
     "duration": 0.500773,
     "end_time": "2020-11-22T00:06:17.299167",
     "exception": false,
     "start_time": "2020-11-22T00:06:16.798394",
     "status": "completed"
    },
    "tags": []
   },
   "outputs": [],
   "source": [
    "%load_ext autoreload\n",
    "%autoreload 2\n",
    "\n",
    "%matplotlib inline\n",
    "import matplotlib.pyplot as plt\n",
    "\n",
    "import numpy as np\n",
    "import pandas as pd"
   ]
  },
  {
   "cell_type": "markdown",
   "metadata": {
    "papermill": {
     "duration": 0.024706,
     "end_time": "2020-11-22T00:06:17.350351",
     "exception": false,
     "start_time": "2020-11-22T00:06:17.325645",
     "status": "completed"
    },
    "tags": []
   },
   "source": [
    "### Preparing the Data"
   ]
  },
  {
   "cell_type": "code",
   "execution_count": 3,
   "metadata": {
    "execution": {
     "iopub.execute_input": "2020-11-22T00:06:17.401324Z",
     "iopub.status.busy": "2020-11-22T00:06:17.400774Z",
     "iopub.status.idle": "2020-11-22T00:06:17.410852Z",
     "shell.execute_reply": "2020-11-22T00:06:17.411587Z"
    },
    "papermill": {
     "duration": 0.037715,
     "end_time": "2020-11-22T00:06:17.411707",
     "exception": false,
     "start_time": "2020-11-22T00:06:17.373992",
     "status": "completed"
    },
    "tags": []
   },
   "outputs": [],
   "source": [
    "import mnist"
   ]
  },
  {
   "cell_type": "code",
   "execution_count": 4,
   "metadata": {
    "execution": {
     "iopub.execute_input": "2020-11-22T00:06:17.461902Z",
     "iopub.status.busy": "2020-11-22T00:06:17.461351Z",
     "iopub.status.idle": "2020-11-22T00:06:19.026389Z",
     "shell.execute_reply": "2020-11-22T00:06:19.026820Z"
    },
    "papermill": {
     "duration": 1.591967,
     "end_time": "2020-11-22T00:06:19.026997",
     "exception": false,
     "start_time": "2020-11-22T00:06:17.435030",
     "status": "completed"
    },
    "tags": []
   },
   "outputs": [],
   "source": [
    "train_images = mnist.train_images()\n",
    "train_labels = mnist.train_labels()"
   ]
  },
  {
   "cell_type": "code",
   "execution_count": 5,
   "metadata": {
    "execution": {
     "iopub.execute_input": "2020-11-22T00:06:19.105170Z",
     "iopub.status.busy": "2020-11-22T00:06:19.104527Z",
     "iopub.status.idle": "2020-11-22T00:06:19.117423Z",
     "shell.execute_reply": "2020-11-22T00:06:19.117861Z"
    },
    "papermill": {
     "duration": 0.065733,
     "end_time": "2020-11-22T00:06:19.117973",
     "exception": false,
     "start_time": "2020-11-22T00:06:19.052240",
     "status": "completed"
    },
    "tags": []
   },
   "outputs": [
    {
     "data": {
      "text/plain": [
       "((60000, 28, 28), (60000,))"
      ]
     },
     "execution_count": 5,
     "metadata": {},
     "output_type": "execute_result"
    }
   ],
   "source": [
    "train_images.shape, train_labels.shape"
   ]
  },
  {
   "cell_type": "code",
   "execution_count": 6,
   "metadata": {
    "execution": {
     "iopub.execute_input": "2020-11-22T00:06:19.211072Z",
     "iopub.status.busy": "2020-11-22T00:06:19.210531Z",
     "iopub.status.idle": "2020-11-22T00:06:20.053473Z",
     "shell.execute_reply": "2020-11-22T00:06:20.053020Z"
    },
    "papermill": {
     "duration": 0.892314,
     "end_time": "2020-11-22T00:06:20.053602",
     "exception": false,
     "start_time": "2020-11-22T00:06:19.161288",
     "status": "completed"
    },
    "tags": []
   },
   "outputs": [],
   "source": [
    "test_images = mnist.test_images()\n",
    "test_labels = mnist.test_labels()"
   ]
  },
  {
   "cell_type": "code",
   "execution_count": 7,
   "metadata": {
    "execution": {
     "iopub.execute_input": "2020-11-22T00:06:20.108197Z",
     "iopub.status.busy": "2020-11-22T00:06:20.105773Z",
     "iopub.status.idle": "2020-11-22T00:06:20.118016Z",
     "shell.execute_reply": "2020-11-22T00:06:20.118525Z"
    },
    "papermill": {
     "duration": 0.040895,
     "end_time": "2020-11-22T00:06:20.118638",
     "exception": false,
     "start_time": "2020-11-22T00:06:20.077743",
     "status": "completed"
    },
    "tags": []
   },
   "outputs": [
    {
     "data": {
      "text/plain": [
       "((10000, 28, 28), (10000,))"
      ]
     },
     "execution_count": 7,
     "metadata": {},
     "output_type": "execute_result"
    }
   ],
   "source": [
    "test_images.shape, test_labels.shape"
   ]
  },
  {
   "cell_type": "code",
   "execution_count": 8,
   "metadata": {
    "execution": {
     "iopub.execute_input": "2020-11-22T00:06:20.193001Z",
     "iopub.status.busy": "2020-11-22T00:06:20.177262Z",
     "iopub.status.idle": "2020-11-22T00:06:20.325297Z",
     "shell.execute_reply": "2020-11-22T00:06:20.325873Z"
    },
    "papermill": {
     "duration": 0.18402,
     "end_time": "2020-11-22T00:06:20.326014",
     "exception": false,
     "start_time": "2020-11-22T00:06:20.141994",
     "status": "completed"
    },
    "tags": []
   },
   "outputs": [
    {
     "name": "stdout",
     "output_type": "stream",
     "text": [
      "2\n"
     ]
    },
    {
     "data": {
      "text/plain": [
       "<matplotlib.image.AxesImage at 0x7f8c4740a198>"
      ]
     },
     "execution_count": 8,
     "metadata": {},
     "output_type": "execute_result"
    },
    {
     "data": {
      "image/png": "[encoded data removed]",
      "text/plain": [
       "<Figure size 432x288 with 1 Axes>"
      ]
     },
     "metadata": {
      "needs_background": "light"
     },
     "output_type": "display_data"
    }
   ],
   "source": [
    "image_index = 7776 # You may select anything up to 60,000\n",
    "print(train_labels[image_index]) \n",
    "plt.imshow(train_images[image_index], cmap='Greys')"
   ]
  },
  {
   "cell_type": "markdown",
   "metadata": {
    "papermill": {
     "duration": 0.027228,
     "end_time": "2020-11-22T00:06:20.381375",
     "exception": false,
     "start_time": "2020-11-22T00:06:20.354147",
     "status": "completed"
    },
    "tags": []
   },
   "source": [
    "## Filter data to get 3 and 8 out"
   ]
  },
  {
   "cell_type": "code",
   "execution_count": 9,
   "metadata": {
    "execution": {
     "iopub.execute_input": "2020-11-22T00:06:20.448184Z",
     "iopub.status.busy": "2020-11-22T00:06:20.447670Z",
     "iopub.status.idle": "2020-11-22T00:06:20.454898Z",
     "shell.execute_reply": "2020-11-22T00:06:20.455633Z"
    },
    "papermill": {
     "duration": 0.049654,
     "end_time": "2020-11-22T00:06:20.455775",
     "exception": false,
     "start_time": "2020-11-22T00:06:20.406121",
     "status": "completed"
    },
    "tags": []
   },
   "outputs": [],
   "source": [
    "train_filter = np.where((train_labels == 3 ) | (train_labels == 8))\n",
    "test_filter = np.where((test_labels == 3) | (test_labels == 8))\n",
    "X_train, y_train = train_images[train_filter], train_labels[train_filter]\n",
    "X_test, y_test = test_images[test_filter], test_labels[test_filter]"
   ]
  },
  {
   "cell_type": "markdown",
   "metadata": {
    "papermill": {
     "duration": 0.02604,
     "end_time": "2020-11-22T00:06:20.507859",
     "exception": false,
     "start_time": "2020-11-22T00:06:20.481819",
     "status": "completed"
    },
    "tags": []
   },
   "source": [
    "We normalize the pixel values in the 0 to 1 range"
   ]
  },
  {
   "cell_type": "code",
   "execution_count": 10,
   "metadata": {
    "execution": {
     "iopub.execute_input": "2020-11-22T00:06:20.568150Z",
     "iopub.status.busy": "2020-11-22T00:06:20.560527Z",
     "iopub.status.idle": "2020-11-22T00:06:20.608960Z",
     "shell.execute_reply": "2020-11-22T00:06:20.608443Z"
    },
    "papermill": {
     "duration": 0.076581,
     "end_time": "2020-11-22T00:06:20.609090",
     "exception": false,
     "start_time": "2020-11-22T00:06:20.532509",
     "status": "completed"
    },
    "tags": []
   },
   "outputs": [],
   "source": [
    "X_train = X_train/255.\n",
    "X_test = X_test/255."
   ]
  },
  {
   "cell_type": "markdown",
   "metadata": {
    "papermill": {
     "duration": 0.025444,
     "end_time": "2020-11-22T00:06:20.661657",
     "exception": false,
     "start_time": "2020-11-22T00:06:20.636213",
     "status": "completed"
    },
    "tags": []
   },
   "source": [
    "Setup the labels as 1 (when the digit is 3) and 0 (when the digit is 8)"
   ]
  },
  {
   "cell_type": "code",
   "execution_count": 11,
   "metadata": {
    "execution": {
     "iopub.execute_input": "2020-11-22T00:06:20.714367Z",
     "iopub.status.busy": "2020-11-22T00:06:20.713827Z",
     "iopub.status.idle": "2020-11-22T00:06:20.725458Z",
     "shell.execute_reply": "2020-11-22T00:06:20.725009Z"
    },
    "papermill": {
     "duration": 0.0395,
     "end_time": "2020-11-22T00:06:20.725562",
     "exception": false,
     "start_time": "2020-11-22T00:06:20.686062",
     "status": "completed"
    },
    "tags": []
   },
   "outputs": [],
   "source": [
    "y_train = 1*(y_train==3)\n",
    "y_test = 1*(y_test==3)"
   ]
  },
  {
   "cell_type": "code",
   "execution_count": 12,
   "metadata": {
    "execution": {
     "iopub.execute_input": "2020-11-22T00:06:20.778865Z",
     "iopub.status.busy": "2020-11-22T00:06:20.778281Z",
     "iopub.status.idle": "2020-11-22T00:06:20.789475Z",
     "shell.execute_reply": "2020-11-22T00:06:20.789931Z"
    },
    "papermill": {
     "duration": 0.039212,
     "end_time": "2020-11-22T00:06:20.790051",
     "exception": false,
     "start_time": "2020-11-22T00:06:20.750839",
     "status": "completed"
    },
    "tags": []
   },
   "outputs": [
    {
     "data": {
      "text/plain": [
       "((11982, 28, 28), (1984, 28, 28))"
      ]
     },
     "execution_count": 12,
     "metadata": {},
     "output_type": "execute_result"
    }
   ],
   "source": [
    "X_train.shape, X_test.shape"
   ]
  },
  {
   "cell_type": "markdown",
   "metadata": {
    "papermill": {
     "duration": 0.02507,
     "end_time": "2020-11-22T00:06:20.840403",
     "exception": false,
     "start_time": "2020-11-22T00:06:20.815333",
     "status": "completed"
    },
    "tags": []
   },
   "source": [
    "### Reshape the input data to create a linear array"
   ]
  },
  {
   "cell_type": "code",
   "execution_count": 13,
   "metadata": {
    "execution": {
     "iopub.execute_input": "2020-11-22T00:06:20.899797Z",
     "iopub.status.busy": "2020-11-22T00:06:20.899167Z",
     "iopub.status.idle": "2020-11-22T00:06:20.910669Z",
     "shell.execute_reply": "2020-11-22T00:06:20.911175Z"
    },
    "papermill": {
     "duration": 0.042197,
     "end_time": "2020-11-22T00:06:20.911291",
     "exception": false,
     "start_time": "2020-11-22T00:06:20.869094",
     "status": "completed"
    },
    "tags": []
   },
   "outputs": [
    {
     "data": {
      "text/plain": [
       "((11982, 784), (1984, 784))"
      ]
     },
     "execution_count": 13,
     "metadata": {},
     "output_type": "execute_result"
    }
   ],
   "source": [
    "X_train = X_train.reshape(X_train.shape[0], -1)\n",
    "X_test = X_test.reshape(X_test.shape[0], -1)\n",
    "X_train.shape, X_test.shape"
   ]
  },
  {
   "cell_type": "markdown",
   "metadata": {
    "papermill": {
     "duration": 0.025694,
     "end_time": "2020-11-22T00:06:20.962477",
     "exception": false,
     "start_time": "2020-11-22T00:06:20.936783",
     "status": "completed"
    },
    "tags": []
   },
   "source": [
    "### Importing appropriate functions from 'Kudzu'"
   ]
  },
  {
   "cell_type": "code",
   "execution_count": 14,
   "metadata": {
    "execution": {
     "iopub.execute_input": "2020-11-22T00:06:21.017135Z",
     "iopub.status.busy": "2020-11-22T00:06:21.016591Z",
     "iopub.status.idle": "2020-11-22T00:06:21.032515Z",
     "shell.execute_reply": "2020-11-22T00:06:21.032040Z"
    },
    "papermill": {
     "duration": 0.044102,
     "end_time": "2020-11-22T00:06:21.032619",
     "exception": false,
     "start_time": "2020-11-22T00:06:20.988517",
     "status": "completed"
    },
    "tags": []
   },
   "outputs": [],
   "source": [
    "from kudzu.layer import Sigmoid\n",
    "from kudzu.layer import Relu\n",
    "from kudzu.layer import Affine, Sigmoid\n",
    "\n",
    "from kudzu.model import Model\n",
    "from kudzu.train import Learner\n",
    "from kudzu.optim import GD\n",
    "from kudzu.data import Data, Dataloader, Sampler\n",
    "\n",
    "from kudzu.callbacks import AccCallback\n",
    "from kudzu.callbacks import ClfCallback\n",
    "\n",
    "from kudzu.loss import MSE"
   ]
  },
  {
   "cell_type": "markdown",
   "metadata": {
    "papermill": {
     "duration": 0.026809,
     "end_time": "2020-11-22T00:06:21.085092",
     "exception": false,
     "start_time": "2020-11-22T00:06:21.058283",
     "status": "completed"
    },
    "tags": []
   },
   "source": [
    "### Let us create a `Config` class, to store important parameters. \n",
    "This class essentially plays the role of a dictionary."
   ]
  },
  {
   "cell_type": "code",
   "execution_count": 15,
   "metadata": {
    "execution": {
     "iopub.execute_input": "2020-11-22T00:06:21.149978Z",
     "iopub.status.busy": "2020-11-22T00:06:21.145622Z",
     "iopub.status.idle": "2020-11-22T00:06:21.151929Z",
     "shell.execute_reply": "2020-11-22T00:06:21.152320Z"
    },
    "papermill": {
     "duration": 0.042328,
     "end_time": "2020-11-22T00:06:21.152434",
     "exception": false,
     "start_time": "2020-11-22T00:06:21.110106",
     "status": "completed"
    },
    "tags": []
   },
   "outputs": [],
   "source": [
    "class Config:\n",
    "    pass\n",
    "config = Config()\n",
    "config.lr = 0.001\n",
    "config.num_epochs = 251\n",
    "config.bs = 50"
   ]
  },
  {
   "cell_type": "markdown",
   "metadata": {
    "papermill": {
     "duration": 0.024581,
     "end_time": "2020-11-22T00:06:21.201668",
     "exception": false,
     "start_time": "2020-11-22T00:06:21.177087",
     "status": "completed"
    },
    "tags": []
   },
   "source": [
    "### Initializing data to the variables"
   ]
  },
  {
   "cell_type": "code",
   "execution_count": 16,
   "metadata": {
    "execution": {
     "iopub.execute_input": "2020-11-22T00:06:21.255672Z",
     "iopub.status.busy": "2020-11-22T00:06:21.255127Z",
     "iopub.status.idle": "2020-11-22T00:06:21.264837Z",
     "shell.execute_reply": "2020-11-22T00:06:21.265341Z"
    },
    "papermill": {
     "duration": 0.038754,
     "end_time": "2020-11-22T00:06:21.265452",
     "exception": false,
     "start_time": "2020-11-22T00:06:21.226698",
     "status": "completed"
    },
    "tags": []
   },
   "outputs": [],
   "source": [
    "data = Data(X_train, y_train.reshape(-1,1))\n",
    "sampler = Sampler(data, config.bs, shuffle=True)\n",
    "\n",
    "dl = Dataloader(data, sampler)\n",
    "\n",
    "opt = GD(config.lr)\n",
    "loss = MSE()"
   ]
  },
  {
   "cell_type": "code",
   "execution_count": 17,
   "metadata": {
    "execution": {
     "iopub.execute_input": "2020-11-22T00:06:21.320621Z",
     "iopub.status.busy": "2020-11-22T00:06:21.320093Z",
     "iopub.status.idle": "2020-11-22T00:06:21.328470Z",
     "shell.execute_reply": "2020-11-22T00:06:21.328862Z"
    },
    "papermill": {
     "duration": 0.039183,
     "end_time": "2020-11-22T00:06:21.328976",
     "exception": false,
     "start_time": "2020-11-22T00:06:21.289793",
     "status": "completed"
    },
    "tags": []
   },
   "outputs": [],
   "source": [
    "training_xdata = X_train\n",
    "testing_xdata = X_test\n",
    "training_ydata = y_train.reshape(-1,1)\n",
    "testing_ydata = y_test.reshape(-1,1)"
   ]
  },
  {
   "cell_type": "markdown",
   "metadata": {
    "papermill": {
     "duration": 0.029733,
     "end_time": "2020-11-22T00:06:21.390737",
     "exception": false,
     "start_time": "2020-11-22T00:06:21.361004",
     "status": "completed"
    },
    "tags": []
   },
   "source": [
    "### Running Models with the Training data\n",
    "Details about the network layers:\n",
    "- A first affine layer has 784 inputs and does 100 affine transforms. These are followed by a Relu\n",
    "- A second affine layer has 100 inputs from the 100 activations of the past layer, and does 100 affine transforms. These are followed by a Relu\n",
    "- A third affine layer has 100 activations and does 2 affine transformations to create an embedding for visualization. There is no non-linearity here.\n",
    "- A final \"logistic regression\" which has an affine transform from 2 inputs to 1 output, which is squeezed through a sigmoid.\n",
    "\n",
    "Help taken from Anshuman's Notebook."
   ]
  },
  {
   "cell_type": "code",
   "execution_count": 18,
   "metadata": {
    "execution": {
     "iopub.execute_input": "2020-11-22T00:06:21.450551Z",
     "iopub.status.busy": "2020-11-22T00:06:21.449972Z",
     "iopub.status.idle": "2020-11-22T00:06:21.464903Z",
     "shell.execute_reply": "2020-11-22T00:06:21.465409Z"
    },
    "papermill": {
     "duration": 0.046289,
     "end_time": "2020-11-22T00:06:21.465529",
     "exception": false,
     "start_time": "2020-11-22T00:06:21.419240",
     "status": "completed"
    },
    "tags": []
   },
   "outputs": [],
   "source": [
    "# layers for the Neural Network\n",
    "layers = [Affine(\"first\", 784, 100), Relu(\"first\"), Affine(\"second\", 100, 100), Relu(\"second\"), Affine(\"third\", 100, 2), Affine(\"final\", 2, 1), Sigmoid(\"final\")]\n",
    "model_nn = Model(layers)\n",
    "\n",
    "# layers for the Logistic Regression\n",
    "layers_lr = [Affine(\"logits\", 784, 1), Sigmoid(\"sigmoid\")]\n",
    "model_lr = Model(layers_lr)"
   ]
  },
  {
   "cell_type": "code",
   "execution_count": 19,
   "metadata": {
    "execution": {
     "iopub.execute_input": "2020-11-22T00:06:21.535042Z",
     "iopub.status.busy": "2020-11-22T00:06:21.520802Z",
     "iopub.status.idle": "2020-11-22T00:06:21.539824Z",
     "shell.execute_reply": "2020-11-22T00:06:21.540283Z"
    },
    "papermill": {
     "duration": 0.047944,
     "end_time": "2020-11-22T00:06:21.540406",
     "exception": false,
     "start_time": "2020-11-22T00:06:21.492462",
     "status": "completed"
    },
    "tags": []
   },
   "outputs": [],
   "source": [
    "# suffix _nn stands for Neural Network.\n",
    "learner_nn = Learner(loss, model_nn, opt, config.num_epochs)\n",
    "acc_nn = ClfCallback(learner_nn, config.bs, training_xdata , testing_xdata, training_ydata, testing_ydata)\n",
    "learner_nn.set_callbacks([acc_nn])"
   ]
  },
  {
   "cell_type": "code",
   "execution_count": 20,
   "metadata": {
    "execution": {
     "iopub.execute_input": "2020-11-22T00:06:21.603972Z",
     "iopub.status.busy": "2020-11-22T00:06:21.595841Z",
     "iopub.status.idle": "2020-11-22T00:08:28.355890Z",
     "shell.execute_reply": "2020-11-22T00:08:28.356613Z"
    },
    "papermill": {
     "duration": 126.789957,
     "end_time": "2020-11-22T00:08:28.356762",
     "exception": false,
     "start_time": "2020-11-22T00:06:21.566805",
     "status": "completed"
    },
    "tags": []
   },
   "outputs": [
    {
     "name": "stdout",
     "output_type": "stream",
     "text": [
      "====== Neural Network ======\n"
     ]
    },
    {
     "name": "stdout",
     "output_type": "stream",
     "text": [
      "Epoch 0, Loss 0.2607\n",
      "Training Accuracy: 0.6360, Testing Accuracy: 0.6305\n",
      "\n"
     ]
    },
    {
     "name": "stdout",
     "output_type": "stream",
     "text": [
      "Epoch 10, Loss 0.0725\n",
      "Training Accuracy: 0.9316, Testing Accuracy: 0.9370\n",
      "\n"
     ]
    },
    {
     "name": "stdout",
     "output_type": "stream",
     "text": [
      "Epoch 20, Loss 0.0477\n",
      "Training Accuracy: 0.9499, Testing Accuracy: 0.9602\n",
      "\n"
     ]
    },
    {
     "name": "stdout",
     "output_type": "stream",
     "text": [
      "Epoch 30, Loss 0.0392\n",
      "Training Accuracy: 0.9561, Testing Accuracy: 0.9632\n",
      "\n"
     ]
    },
    {
     "name": "stdout",
     "output_type": "stream",
     "text": [
      "Epoch 40, Loss 0.0346\n",
      "Training Accuracy: 0.9613, Testing Accuracy: 0.9657\n",
      "\n"
     ]
    },
    {
     "name": "stdout",
     "output_type": "stream",
     "text": [
      "Epoch 50, Loss 0.0316\n",
      "Training Accuracy: 0.9643, Testing Accuracy: 0.9682\n",
      "\n"
     ]
    },
    {
     "name": "stdout",
     "output_type": "stream",
     "text": [
      "Epoch 60, Loss 0.0295\n",
      "Training Accuracy: 0.9668, Testing Accuracy: 0.9698\n",
      "\n"
     ]
    },
    {
     "name": "stdout",
     "output_type": "stream",
     "text": [
      "Epoch 70, Loss 0.0278\n",
      "Training Accuracy: 0.9685, Testing Accuracy: 0.9713\n",
      "\n"
     ]
    },
    {
     "name": "stdout",
     "output_type": "stream",
     "text": [
      "Epoch 80, Loss 0.0265\n",
      "Training Accuracy: 0.9699, Testing Accuracy: 0.9713\n",
      "\n"
     ]
    },
    {
     "name": "stdout",
     "output_type": "stream",
     "text": [
      "Epoch 90, Loss 0.0254\n",
      "Training Accuracy: 0.9712, Testing Accuracy: 0.9708\n",
      "\n"
     ]
    },
    {
     "name": "stdout",
     "output_type": "stream",
     "text": [
      "Epoch 100, Loss 0.0244\n",
      "Training Accuracy: 0.9722, Testing Accuracy: 0.9718\n",
      "\n"
     ]
    },
    {
     "name": "stdout",
     "output_type": "stream",
     "text": [
      "Epoch 110, Loss 0.0236\n",
      "Training Accuracy: 0.9731, Testing Accuracy: 0.9723\n",
      "\n"
     ]
    },
    {
     "name": "stdout",
     "output_type": "stream",
     "text": [
      "Epoch 120, Loss 0.0228\n",
      "Training Accuracy: 0.9738, Testing Accuracy: 0.9733\n",
      "\n"
     ]
    },
    {
     "name": "stdout",
     "output_type": "stream",
     "text": [
      "Epoch 130, Loss 0.0221\n",
      "Training Accuracy: 0.9741, Testing Accuracy: 0.9743\n",
      "\n"
     ]
    },
    {
     "name": "stdout",
     "output_type": "stream",
     "text": [
      "Epoch 140, Loss 0.0215\n",
      "Training Accuracy: 0.9755, Testing Accuracy: 0.9753\n",
      "\n"
     ]
    },
    {
     "name": "stdout",
     "output_type": "stream",
     "text": [
      "Epoch 150, Loss 0.021\n",
      "Training Accuracy: 0.9760, Testing Accuracy: 0.9758\n",
      "\n"
     ]
    },
    {
     "name": "stdout",
     "output_type": "stream",
     "text": [
      "Epoch 160, Loss 0.0204\n",
      "Training Accuracy: 0.9766, Testing Accuracy: 0.9753\n",
      "\n"
     ]
    },
    {
     "name": "stdout",
     "output_type": "stream",
     "text": [
      "Epoch 170, Loss 0.0199\n",
      "Training Accuracy: 0.9773, Testing Accuracy: 0.9748\n",
      "\n"
     ]
    },
    {
     "name": "stdout",
     "output_type": "stream",
     "text": [
      "Epoch 180, Loss 0.0195\n",
      "Training Accuracy: 0.9776, Testing Accuracy: 0.9748\n",
      "\n"
     ]
    },
    {
     "name": "stdout",
     "output_type": "stream",
     "text": [
      "Epoch 190, Loss 0.019\n",
      "Training Accuracy: 0.9784, Testing Accuracy: 0.9748\n",
      "\n"
     ]
    },
    {
     "name": "stdout",
     "output_type": "stream",
     "text": [
      "Epoch 200, Loss 0.0186\n",
      "Training Accuracy: 0.9788, Testing Accuracy: 0.9748\n",
      "\n"
     ]
    },
    {
     "name": "stdout",
     "output_type": "stream",
     "text": [
      "Epoch 210, Loss 0.0182\n",
      "Training Accuracy: 0.9795, Testing Accuracy: 0.9758\n",
      "\n"
     ]
    },
    {
     "name": "stdout",
     "output_type": "stream",
     "text": [
      "Epoch 220, Loss 0.0178\n",
      "Training Accuracy: 0.9806, Testing Accuracy: 0.9763\n",
      "\n"
     ]
    },
    {
     "name": "stdout",
     "output_type": "stream",
     "text": [
      "Epoch 230, Loss 0.0175\n",
      "Training Accuracy: 0.9811, Testing Accuracy: 0.9768\n",
      "\n"
     ]
    },
    {
     "name": "stdout",
     "output_type": "stream",
     "text": [
      "Epoch 240, Loss 0.0171\n",
      "Training Accuracy: 0.9816, Testing Accuracy: 0.9768\n",
      "\n"
     ]
    },
    {
     "name": "stdout",
     "output_type": "stream",
     "text": [
      "Epoch 250, Loss 0.0167\n",
      "Training Accuracy: 0.9820, Testing Accuracy: 0.9773\n",
      "\n"
     ]
    },
    {
     "data": {
      "text/plain": [
       "0.002565005007229971"
      ]
     },
     "execution_count": 20,
     "metadata": {},
     "output_type": "execute_result"
    }
   ],
   "source": [
    "print(\"====== Neural Network ======\")\n",
    "learner_nn.train_loop(dl)"
   ]
  },
  {
   "cell_type": "markdown",
   "metadata": {
    "papermill": {
     "duration": 0.035846,
     "end_time": "2020-11-22T00:08:28.432515",
     "exception": false,
     "start_time": "2020-11-22T00:08:28.396669",
     "status": "completed"
    },
    "tags": []
   },
   "source": [
    "### Logistic Regression based Implementation."
   ]
  },
  {
   "cell_type": "code",
   "execution_count": 21,
   "metadata": {
    "execution": {
     "iopub.execute_input": "2020-11-22T00:08:28.512740Z",
     "iopub.status.busy": "2020-11-22T00:08:28.512178Z",
     "iopub.status.idle": "2020-11-22T00:08:28.522888Z",
     "shell.execute_reply": "2020-11-22T00:08:28.523339Z"
    },
    "papermill": {
     "duration": 0.053339,
     "end_time": "2020-11-22T00:08:28.523528",
     "exception": false,
     "start_time": "2020-11-22T00:08:28.470189",
     "status": "completed"
    },
    "tags": []
   },
   "outputs": [],
   "source": [
    "learner_lr = Learner(loss, model_lr, opt, config.num_epochs)\n",
    "acc_lr = ClfCallback(learner_lr, config.bs, training_xdata , testing_xdata, training_ydata, testing_ydata)\n",
    "learner_lr.set_callbacks([acc_lr])"
   ]
  },
  {
   "cell_type": "code",
   "execution_count": 22,
   "metadata": {
    "execution": {
     "iopub.execute_input": "2020-11-22T00:08:28.618526Z",
     "iopub.status.busy": "2020-11-22T00:08:28.616297Z",
     "iopub.status.idle": "2020-11-22T00:08:46.997117Z",
     "shell.execute_reply": "2020-11-22T00:08:46.997596Z"
    },
    "papermill": {
     "duration": 18.431199,
     "end_time": "2020-11-22T00:08:46.997745",
     "exception": false,
     "start_time": "2020-11-22T00:08:28.566546",
     "status": "completed"
    },
    "tags": []
   },
   "outputs": [
    {
     "name": "stdout",
     "output_type": "stream",
     "text": [
      "====== Logistic Regression ======\n",
      "Epoch 0, Loss 0.2295\n",
      "Training Accuracy: 0.7618, Testing Accuracy: 0.7727\n",
      "\n"
     ]
    },
    {
     "name": "stdout",
     "output_type": "stream",
     "text": [
      "Epoch 10, Loss 0.0979\n",
      "Training Accuracy: 0.9223, Testing Accuracy: 0.9355\n",
      "\n"
     ]
    },
    {
     "name": "stdout",
     "output_type": "stream",
     "text": [
      "Epoch 20, Loss 0.0762\n",
      "Training Accuracy: 0.9342, Testing Accuracy: 0.9496\n",
      "\n"
     ]
    },
    {
     "name": "stdout",
     "output_type": "stream",
     "text": [
      "Epoch 30, Loss 0.0661\n",
      "Training Accuracy: 0.9416, Testing Accuracy: 0.9536\n",
      "\n"
     ]
    },
    {
     "name": "stdout",
     "output_type": "stream",
     "text": [
      "Epoch 40, Loss 0.06\n",
      "Training Accuracy: 0.9461, Testing Accuracy: 0.9556\n",
      "\n"
     ]
    },
    {
     "name": "stdout",
     "output_type": "stream",
     "text": [
      "Epoch 50, Loss 0.0559\n",
      "Training Accuracy: 0.9487, Testing Accuracy: 0.9577\n",
      "\n"
     ]
    },
    {
     "name": "stdout",
     "output_type": "stream",
     "text": [
      "Epoch 60, Loss 0.0528\n",
      "Training Accuracy: 0.9511, Testing Accuracy: 0.9582\n",
      "\n"
     ]
    },
    {
     "name": "stdout",
     "output_type": "stream",
     "text": [
      "Epoch 70, Loss 0.0504\n",
      "Training Accuracy: 0.9521, Testing Accuracy: 0.9617\n",
      "\n"
     ]
    },
    {
     "name": "stdout",
     "output_type": "stream",
     "text": [
      "Epoch 80, Loss 0.0485\n",
      "Training Accuracy: 0.9528, Testing Accuracy: 0.9622\n",
      "\n"
     ]
    },
    {
     "name": "stdout",
     "output_type": "stream",
     "text": [
      "Epoch 90, Loss 0.0469\n",
      "Training Accuracy: 0.9540, Testing Accuracy: 0.9637\n",
      "\n"
     ]
    },
    {
     "name": "stdout",
     "output_type": "stream",
     "text": [
      "Epoch 100, Loss 0.0456\n",
      "Training Accuracy: 0.9552, Testing Accuracy: 0.9647\n",
      "\n"
     ]
    },
    {
     "name": "stdout",
     "output_type": "stream",
     "text": [
      "Epoch 110, Loss 0.0445\n",
      "Training Accuracy: 0.9553, Testing Accuracy: 0.9652\n",
      "\n"
     ]
    },
    {
     "name": "stdout",
     "output_type": "stream",
     "text": [
      "Epoch 120, Loss 0.0435\n",
      "Training Accuracy: 0.9558, Testing Accuracy: 0.9657\n",
      "\n"
     ]
    },
    {
     "name": "stdout",
     "output_type": "stream",
     "text": [
      "Epoch 130, Loss 0.0426\n",
      "Training Accuracy: 0.9565, Testing Accuracy: 0.9652\n",
      "\n"
     ]
    },
    {
     "name": "stdout",
     "output_type": "stream",
     "text": [
      "Epoch 140, Loss 0.0418\n",
      "Training Accuracy: 0.9571, Testing Accuracy: 0.9662\n",
      "\n"
     ]
    },
    {
     "name": "stdout",
     "output_type": "stream",
     "text": [
      "Epoch 150, Loss 0.0411\n",
      "Training Accuracy: 0.9575, Testing Accuracy: 0.9662\n",
      "\n"
     ]
    },
    {
     "name": "stdout",
     "output_type": "stream",
     "text": [
      "Epoch 160, Loss 0.0405\n",
      "Training Accuracy: 0.9579, Testing Accuracy: 0.9667\n",
      "\n"
     ]
    },
    {
     "name": "stdout",
     "output_type": "stream",
     "text": [
      "Epoch 170, Loss 0.0399\n",
      "Training Accuracy: 0.9583, Testing Accuracy: 0.9672\n",
      "\n"
     ]
    },
    {
     "name": "stdout",
     "output_type": "stream",
     "text": [
      "Epoch 180, Loss 0.0394\n",
      "Training Accuracy: 0.9585, Testing Accuracy: 0.9677\n",
      "\n"
     ]
    },
    {
     "name": "stdout",
     "output_type": "stream",
     "text": [
      "Epoch 190, Loss 0.0389\n",
      "Training Accuracy: 0.9589, Testing Accuracy: 0.9672\n",
      "\n"
     ]
    },
    {
     "name": "stdout",
     "output_type": "stream",
     "text": [
      "Epoch 200, Loss 0.0384\n",
      "Training Accuracy: 0.9597, Testing Accuracy: 0.9672\n",
      "\n"
     ]
    },
    {
     "name": "stdout",
     "output_type": "stream",
     "text": [
      "Epoch 210, Loss 0.038\n",
      "Training Accuracy: 0.9599, Testing Accuracy: 0.9672\n",
      "\n"
     ]
    },
    {
     "name": "stdout",
     "output_type": "stream",
     "text": [
      "Epoch 220, Loss 0.0376\n",
      "Training Accuracy: 0.9601, Testing Accuracy: 0.9677\n",
      "\n"
     ]
    },
    {
     "name": "stdout",
     "output_type": "stream",
     "text": [
      "Epoch 230, Loss 0.0372\n",
      "Training Accuracy: 0.9604, Testing Accuracy: 0.9682\n",
      "\n"
     ]
    },
    {
     "name": "stdout",
     "output_type": "stream",
     "text": [
      "Epoch 240, Loss 0.0369\n",
      "Training Accuracy: 0.9604, Testing Accuracy: 0.9682\n",
      "\n"
     ]
    },
    {
     "name": "stdout",
     "output_type": "stream",
     "text": [
      "Epoch 250, Loss 0.0366\n",
      "Training Accuracy: 0.9605, Testing Accuracy: 0.9682\n",
      "\n"
     ]
    },
    {
     "data": {
      "text/plain": [
       "0.0637259203958352"
      ]
     },
     "execution_count": 22,
     "metadata": {},
     "output_type": "execute_result"
    }
   ],
   "source": [
    "print(\"====== Logistic Regression ======\")\n",
    "learner_lr.train_loop(dl)"
   ]
  },
  {
   "cell_type": "markdown",
   "metadata": {
    "papermill": {
     "duration": 0.041613,
     "end_time": "2020-11-22T00:08:47.095354",
     "exception": false,
     "start_time": "2020-11-22T00:08:47.053741",
     "status": "completed"
    },
    "tags": []
   },
   "source": [
    "### Comparing results of NN and LR"
   ]
  },
  {
   "cell_type": "code",
   "execution_count": 23,
   "metadata": {
    "execution": {
     "iopub.execute_input": "2020-11-22T00:08:47.181174Z",
     "iopub.status.busy": "2020-11-22T00:08:47.180601Z",
     "iopub.status.idle": "2020-11-22T00:08:47.425203Z",
     "shell.execute_reply": "2020-11-22T00:08:47.425626Z"
    },
    "papermill": {
     "duration": 0.289267,
     "end_time": "2020-11-22T00:08:47.425764",
     "exception": false,
     "start_time": "2020-11-22T00:08:47.136497",
     "status": "completed"
    },
    "tags": []
   },
   "outputs": [
    {
     "data": {
      "text/plain": [
       "<matplotlib.legend.Legend at 0x7f8c4082d9b0>"
      ]
     },
     "execution_count": 23,
     "metadata": {},
     "output_type": "execute_result"
    },
    {
     "data": {
      "image/png": "[encoded data removed]",
      "text/plain": [
       "<Figure size 1080x720 with 1 Axes>"
      ]
     },
     "metadata": {
      "needs_background": "light"
     },
     "output_type": "display_data"
    }
   ],
   "source": [
    "plt.figure(figsize=(15,10))\n",
    "\n",
    "# Neural Network plots\n",
    "plt.plot(acc_nn.accuracies, 'r-', label = \"Training Accuracies - NN\")\n",
    "plt.plot(acc_nn.test_accuracies, 'g-', label = \"Testing Accuracies - NN\")\n",
    "\n",
    "# Logistic Regression plots\n",
    "plt.plot(acc_lr.accuracies, 'k-', label = \"Training Accuracies - LR\")\n",
    "plt.plot(acc_lr.test_accuracies, 'b-', label = \"Testing Accuracies - LR\")\n",
    "\n",
    "plt.ylim(0.8, 1)\n",
    "\n",
    "plt.legend()\n",
    "\n"
   ]
  },
  {
   "cell_type": "markdown",
   "metadata": {
    "papermill": {
     "duration": 0.039608,
     "end_time": "2020-11-22T00:08:47.505681",
     "exception": false,
     "start_time": "2020-11-22T00:08:47.466073",
     "status": "completed"
    },
    "tags": []
   },
   "source": [
    "### From the plot, we can observe the following:\n",
    "- Neural Network achieves higher accuracy than the Logistic Regression model.\n",
    "- This apparently, is because of overfitting, i.e. NN captures more noise than data.\n",
    "- Testing accuracy of NN drops below the Training accuracy at higher epochs. This explains the over-fitting on training data.\n",
    "- Logistic Regression gives a reliable accuracy, without the above mentioned problem.\n"
   ]
  },
  {
   "cell_type": "markdown",
   "metadata": {
    "papermill": {
     "duration": 0.040047,
     "end_time": "2020-11-22T00:08:47.584668",
     "exception": false,
     "start_time": "2020-11-22T00:08:47.544621",
     "status": "completed"
    },
    "tags": []
   },
   "source": [
    "### Moving till the last but one layer (excluding it).\n",
    "#### Plotting the outputs of this layer of the NN."
   ]
  },
  {
   "cell_type": "code",
   "execution_count": 24,
   "metadata": {
    "execution": {
     "iopub.execute_input": "2020-11-22T00:08:47.677494Z",
     "iopub.status.busy": "2020-11-22T00:08:47.669142Z",
     "iopub.status.idle": "2020-11-22T00:08:47.680603Z",
     "shell.execute_reply": "2020-11-22T00:08:47.681062Z"
    },
    "papermill": {
     "duration": 0.055733,
     "end_time": "2020-11-22T00:08:47.681176",
     "exception": false,
     "start_time": "2020-11-22T00:08:47.625443",
     "status": "completed"
    },
    "tags": []
   },
   "outputs": [],
   "source": [
    "model_new = Model(layers[:-2])"
   ]
  },
  {
   "cell_type": "code",
   "execution_count": 25,
   "metadata": {
    "execution": {
     "iopub.execute_input": "2020-11-22T00:08:47.778394Z",
     "iopub.status.busy": "2020-11-22T00:08:47.772062Z",
     "iopub.status.idle": "2020-11-22T00:08:47.789393Z",
     "shell.execute_reply": "2020-11-22T00:08:47.790065Z"
    },
    "papermill": {
     "duration": 0.070201,
     "end_time": "2020-11-22T00:08:47.790185",
     "exception": false,
     "start_time": "2020-11-22T00:08:47.719984",
     "status": "completed"
    },
    "tags": []
   },
   "outputs": [],
   "source": [
    "plot_testing = model_new(testing_xdata)"
   ]
  },
  {
   "cell_type": "code",
   "execution_count": 26,
   "metadata": {
    "execution": {
     "iopub.execute_input": "2020-11-22T00:08:47.881045Z",
     "iopub.status.busy": "2020-11-22T00:08:47.880506Z",
     "iopub.status.idle": "2020-11-22T00:08:48.079990Z",
     "shell.execute_reply": "2020-11-22T00:08:48.080541Z"
    },
    "papermill": {
     "duration": 0.248867,
     "end_time": "2020-11-22T00:08:48.080672",
     "exception": false,
     "start_time": "2020-11-22T00:08:47.831805",
     "status": "completed"
    },
    "tags": []
   },
   "outputs": [
    {
     "data": {
      "text/plain": [
       "Text(0.5, 1.0, 'Outputs')"
      ]
     },
     "execution_count": 26,
     "metadata": {},
     "output_type": "execute_result"
    },
    {
     "data": {
      "image/png": "[encoded data removed]",
      "text/plain": [
       "<Figure size 576x504 with 1 Axes>"
      ]
     },
     "metadata": {
      "needs_background": "light"
     },
     "output_type": "display_data"
    }
   ],
   "source": [
    "plt.figure(figsize=(8,7))\n",
    "plt.scatter(plot_testing[:,0], plot_testing[:,1], alpha = 0.1, c = y_test.ravel());\n",
    "plt.title('Outputs')"
   ]
  },
  {
   "cell_type": "markdown",
   "metadata": {
    "papermill": {
     "duration": 0.043052,
     "end_time": "2020-11-22T00:08:48.168228",
     "exception": false,
     "start_time": "2020-11-22T00:08:48.125176",
     "status": "completed"
    },
    "tags": []
   },
   "source": [
    "### Plotting probability contours"
   ]
  },
  {
   "cell_type": "code",
   "execution_count": 27,
   "metadata": {
    "execution": {
     "iopub.execute_input": "2020-11-22T00:08:48.259233Z",
     "iopub.status.busy": "2020-11-22T00:08:48.258670Z",
     "iopub.status.idle": "2020-11-22T00:08:48.269088Z",
     "shell.execute_reply": "2020-11-22T00:08:48.269529Z"
    },
    "papermill": {
     "duration": 0.055997,
     "end_time": "2020-11-22T00:08:48.269647",
     "exception": false,
     "start_time": "2020-11-22T00:08:48.213650",
     "status": "completed"
    },
    "tags": []
   },
   "outputs": [],
   "source": [
    "model_prob = Model(layers[-2:]) "
   ]
  },
  {
   "cell_type": "code",
   "execution_count": 28,
   "metadata": {
    "execution": {
     "iopub.execute_input": "2020-11-22T00:08:48.372097Z",
     "iopub.status.busy": "2020-11-22T00:08:48.364341Z",
     "iopub.status.idle": "2020-11-22T00:08:48.373052Z",
     "shell.execute_reply": "2020-11-22T00:08:48.372566Z"
    },
    "papermill": {
     "duration": 0.061827,
     "end_time": "2020-11-22T00:08:48.373155",
     "exception": false,
     "start_time": "2020-11-22T00:08:48.311328",
     "status": "completed"
    },
    "tags": []
   },
   "outputs": [],
   "source": [
    "# Adjust the x and y ranges according to the above generated plot.\n",
    "x_range = np.linspace(-4, 1, 100) \n",
    "y_range = np.linspace(-6, 6, 100) \n",
    "x_grid, y_grid = np.meshgrid(x_range, y_range) # x_grid and y_grig are of size 100 X 100\n",
    "\n",
    "# converting x_grid and y_grid to continuous arrays\n",
    "x_grid_flat = np.ravel(x_grid)\n",
    "y_grid_flat = np.ravel(y_grid)\n",
    "\n",
    "# The last layer of the current model takes two columns as input. Hence transpose of np.vstack() is required.\n",
    "X = np.vstack((x_grid_flat, y_grid_flat)).T\n",
    "\n",
    "# x_grid and y_grid are of size 100 x 100\n",
    "probability_contour = model_prob(X).reshape(100,100) "
   ]
  },
  {
   "cell_type": "code",
   "execution_count": 29,
   "metadata": {
    "execution": {
     "iopub.execute_input": "2020-11-22T00:08:48.497510Z",
     "iopub.status.busy": "2020-11-22T00:08:48.496938Z",
     "iopub.status.idle": "2020-11-22T00:08:48.754135Z",
     "shell.execute_reply": "2020-11-22T00:08:48.753103Z"
    },
    "papermill": {
     "duration": 0.328424,
     "end_time": "2020-11-22T00:08:48.754261",
     "exception": false,
     "start_time": "2020-11-22T00:08:48.425837",
     "status": "completed"
    },
    "tags": []
   },
   "outputs": [
    {
     "data": {
      "image/png": "[encoded data removed]",
      "text/plain": [
       "<Figure size 720x648 with 1 Axes>"
      ]
     },
     "metadata": {
      "needs_background": "light"
     },
     "output_type": "display_data"
    }
   ],
   "source": [
    "plt.figure(figsize=(10,9))\n",
    "plt.scatter(plot_testing[:,0], plot_testing[:,1], alpha = 0.1, c = y_test.ravel())\n",
    "contours = plt.contour(x_grid,y_grid,probability_contour)\n",
    "plt.title('Probability Contours')\n",
    "plt.clabel(contours, inline = True );"
   ]
  }
 ],
 "metadata": {
  "kernelspec": {
   "display_name": "Python 3",
   "language": "python",
   "name": "python3"
  },
  "language_info": {
   "codemirror_mode": {
    "name": "ipython",
    "version": 3
   },
   "file_extension": ".py",
   "mimetype": "text/x-python",
   "name": "python",
   "nbconvert_exporter": "python",
   "pygments_lexer": "ipython3",
   "version": "3.6.12"
  },
  "papermill": {
   "duration": 155.004454,
   "end_time": "2020-11-22T00:08:49.123553",
   "environment_variables": {},
   "exception": null,
   "input_path": "2020-08-11-NeuralNetwork.ipynb",
   "output_path": "2020-08-11-NeuralNetwork.ipynb",
   "parameters": {},
   "start_time": "2020-11-22T00:06:14.119099",
   "version": "2.1.2"
  }
 },
 "nbformat": 4,
 "nbformat_minor": 4
}