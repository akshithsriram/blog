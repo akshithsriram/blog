{
 "cells": [
  {
   "cell_type": "markdown",
   "metadata": {
    "papermill": {
     "duration": 0.029475,
     "end_time": "2020-11-30T10:05:55.552119",
     "exception": false,
     "start_time": "2020-11-30T10:05:55.522644",
     "status": "completed"
    },
    "tags": []
   },
   "source": [
    "# \"A Basic Neural Network: Differentiate Hand-Written Digits\"\n",
    "\n",
    "- badges: true\n",
    "- author: Akshith Sriram"
   ]
  },
  {
   "cell_type": "markdown",
   "metadata": {
    "papermill": {
     "duration": 0.025163,
     "end_time": "2020-11-30T10:05:55.603252",
     "exception": false,
     "start_time": "2020-11-30T10:05:55.578089",
     "status": "completed"
    },
    "tags": []
   },
   "source": [
    "### Key Objectives:\n",
    "- Building a neural network that differentiates two hand-written digits 3 and 8.\n",
    "- Comparing the results of this Neural Network (NN) to that of a Logistic Regression (LR) model.\n",
    "\n",
    "### Requirements:\n",
    "- 'Kudzu' : A neural network library that was designed during our course by [Univ.AI](www.univ.ai). \n",
    "- MNIST Database\n",
    "\n",
    "If MNIST is not installed, use the command `!pip install mnist` given below.\n",
    "It can be run both from the command line and Jupyter Notebook."
   ]
  },
  {
   "cell_type": "code",
   "execution_count": 1,
   "metadata": {
    "execution": {
     "iopub.execute_input": "2020-11-30T10:05:55.659090Z",
     "iopub.status.busy": "2020-11-30T10:05:55.658468Z",
     "iopub.status.idle": "2020-11-30T10:05:57.174807Z",
     "shell.execute_reply": "2020-11-30T10:05:57.175300Z"
    },
    "papermill": {
     "duration": 1.546996,
     "end_time": "2020-11-30T10:05:57.175492",
     "exception": false,
     "start_time": "2020-11-30T10:05:55.628496",
     "status": "completed"
    },
    "tags": []
   },
   "outputs": [
    {
     "name": "stdout",
     "output_type": "stream",
     "text": [
      "Collecting mnist\r\n"
     ]
    },
    {
     "name": "stdout",
     "output_type": "stream",
     "text": [
      "  Downloading mnist-0.2.2-py2.py3-none-any.whl (3.5 kB)\r\n",
      "Requirement already satisfied: numpy in /opt/hostedtoolcache/Python/3.6.12/x64/lib/python3.6/site-packages (from mnist) (1.19.4)\r\n"
     ]
    },
    {
     "name": "stdout",
     "output_type": "stream",
     "text": [
      "Installing collected packages: mnist\r\n"
     ]
    },
    {
     "name": "stdout",
     "output_type": "stream",
     "text": [
      "Successfully installed mnist-0.2.2\r\n"
     ]
    }
   ],
   "source": [
    "!pip install mnist "
   ]
  },
  {
   "cell_type": "markdown",
   "metadata": {
    "papermill": {
     "duration": 0.027203,
     "end_time": "2020-11-30T10:05:57.230995",
     "exception": false,
     "start_time": "2020-11-30T10:05:57.203792",
     "status": "completed"
    },
    "tags": []
   },
   "source": [
    "#### Importing necessary libraries"
   ]
  },
  {
   "cell_type": "code",
   "execution_count": 2,
   "metadata": {
    "execution": {
     "iopub.execute_input": "2020-11-30T10:05:57.295997Z",
     "iopub.status.busy": "2020-11-30T10:05:57.295383Z",
     "iopub.status.idle": "2020-11-30T10:05:57.905735Z",
     "shell.execute_reply": "2020-11-30T10:05:57.905207Z"
    },
    "papermill": {
     "duration": 0.646796,
     "end_time": "2020-11-30T10:05:57.905883",
     "exception": false,
     "start_time": "2020-11-30T10:05:57.259087",
     "status": "completed"
    },
    "tags": []
   },
   "outputs": [],
   "source": [
    "%load_ext autoreload\n",
    "%autoreload 2\n",
    "\n",
    "%matplotlib inline\n",
    "import matplotlib.pyplot as plt\n",
    "\n",
    "import numpy as np\n",
    "import pandas as pd"
   ]
  },
  {
   "cell_type": "markdown",
   "metadata": {
    "papermill": {
     "duration": 0.032643,
     "end_time": "2020-11-30T10:05:57.970511",
     "exception": false,
     "start_time": "2020-11-30T10:05:57.937868",
     "status": "completed"
    },
    "tags": []
   },
   "source": [
    "### Preparing the Data"
   ]
  },
  {
   "cell_type": "code",
   "execution_count": 3,
   "metadata": {
    "execution": {
     "iopub.execute_input": "2020-11-30T10:05:58.029619Z",
     "iopub.status.busy": "2020-11-30T10:05:58.028999Z",
     "iopub.status.idle": "2020-11-30T10:05:58.043093Z",
     "shell.execute_reply": "2020-11-30T10:05:58.042392Z"
    },
    "papermill": {
     "duration": 0.046069,
     "end_time": "2020-11-30T10:05:58.043278",
     "exception": false,
     "start_time": "2020-11-30T10:05:57.997209",
     "status": "completed"
    },
    "tags": []
   },
   "outputs": [],
   "source": [
    "import mnist"
   ]
  },
  {
   "cell_type": "code",
   "execution_count": 4,
   "metadata": {
    "execution": {
     "iopub.execute_input": "2020-11-30T10:05:58.122613Z",
     "iopub.status.busy": "2020-11-30T10:05:58.118508Z",
     "iopub.status.idle": "2020-11-30T10:05:59.977836Z",
     "shell.execute_reply": "2020-11-30T10:05:59.976861Z"
    },
    "papermill": {
     "duration": 1.907027,
     "end_time": "2020-11-30T10:05:59.977987",
     "exception": false,
     "start_time": "2020-11-30T10:05:58.070960",
     "status": "completed"
    },
    "tags": []
   },
   "outputs": [],
   "source": [
    "train_images = mnist.train_images()\n",
    "train_labels = mnist.train_labels()"
   ]
  },
  {
   "cell_type": "code",
   "execution_count": 5,
   "metadata": {
    "execution": {
     "iopub.execute_input": "2020-11-30T10:06:00.184098Z",
     "iopub.status.busy": "2020-11-30T10:06:00.183466Z",
     "iopub.status.idle": "2020-11-30T10:06:00.195435Z",
     "shell.execute_reply": "2020-11-30T10:06:00.194951Z"
    },
    "papermill": {
     "duration": 0.190714,
     "end_time": "2020-11-30T10:06:00.195574",
     "exception": false,
     "start_time": "2020-11-30T10:06:00.004860",
     "status": "completed"
    },
    "tags": []
   },
   "outputs": [
    {
     "data": {
      "text/plain": [
       "((60000, 28, 28), (60000,))"
      ]
     },
     "execution_count": 5,
     "metadata": {},
     "output_type": "execute_result"
    }
   ],
   "source": [
    "train_images.shape, train_labels.shape"
   ]
  },
  {
   "cell_type": "code",
   "execution_count": 6,
   "metadata": {
    "execution": {
     "iopub.execute_input": "2020-11-30T10:06:00.427333Z",
     "iopub.status.busy": "2020-11-30T10:06:00.426641Z",
     "iopub.status.idle": "2020-11-30T10:06:01.293981Z",
     "shell.execute_reply": "2020-11-30T10:06:01.294528Z"
    },
    "papermill": {
     "duration": 1.072075,
     "end_time": "2020-11-30T10:06:01.294728",
     "exception": false,
     "start_time": "2020-11-30T10:06:00.222653",
     "status": "completed"
    },
    "tags": []
   },
   "outputs": [],
   "source": [
    "test_images = mnist.test_images()\n",
    "test_labels = mnist.test_labels()"
   ]
  },
  {
   "cell_type": "code",
   "execution_count": 7,
   "metadata": {
    "execution": {
     "iopub.execute_input": "2020-11-30T10:06:01.359026Z",
     "iopub.status.busy": "2020-11-30T10:06:01.357615Z",
     "iopub.status.idle": "2020-11-30T10:06:01.371601Z",
     "shell.execute_reply": "2020-11-30T10:06:01.371091Z"
    },
    "papermill": {
     "duration": 0.04713,
     "end_time": "2020-11-30T10:06:01.371733",
     "exception": false,
     "start_time": "2020-11-30T10:06:01.324603",
     "status": "completed"
    },
    "tags": []
   },
   "outputs": [
    {
     "data": {
      "text/plain": [
       "((10000, 28, 28), (10000,))"
      ]
     },
     "execution_count": 7,
     "metadata": {},
     "output_type": "execute_result"
    }
   ],
   "source": [
    "test_images.shape, test_labels.shape"
   ]
  },
  {
   "cell_type": "code",
   "execution_count": 8,
   "metadata": {
    "execution": {
     "iopub.execute_input": "2020-11-30T10:06:01.436210Z",
     "iopub.status.busy": "2020-11-30T10:06:01.435540Z",
     "iopub.status.idle": "2020-11-30T10:06:01.584171Z",
     "shell.execute_reply": "2020-11-30T10:06:01.583673Z"
    },
    "papermill": {
     "duration": 0.182279,
     "end_time": "2020-11-30T10:06:01.584311",
     "exception": false,
     "start_time": "2020-11-30T10:06:01.402032",
     "status": "completed"
    },
    "tags": []
   },
   "outputs": [
    {
     "name": "stdout",
     "output_type": "stream",
     "text": [
      "2\n"
     ]
    },
    {
     "data": {
      "text/plain": [
       "<matplotlib.image.AxesImage at 0x7ff432971048>"
      ]
     },
     "execution_count": 8,
     "metadata": {},
     "output_type": "execute_result"
    },
    {
     "data": {
      "image/png": "[encoded data removed]",
      "text/plain": [
       "<Figure size 432x288 with 1 Axes>"
      ]
     },
     "metadata": {
      "needs_background": "light"
     },
     "output_type": "display_data"
    }
   ],
   "source": [
    "image_index = 7776 # You may select anything up to 60,000\n",
    "print(train_labels[image_index]) \n",
    "plt.imshow(train_images[image_index], cmap='Greys')"
   ]
  },
  {
   "cell_type": "markdown",
   "metadata": {
    "papermill": {
     "duration": 0.033031,
     "end_time": "2020-11-30T10:06:01.647292",
     "exception": false,
     "start_time": "2020-11-30T10:06:01.614261",
     "status": "completed"
    },
    "tags": []
   },
   "source": [
    "## Filter data to get 3 and 8 out"
   ]
  },
  {
   "cell_type": "code",
   "execution_count": 9,
   "metadata": {
    "execution": {
     "iopub.execute_input": "2020-11-30T10:06:01.716105Z",
     "iopub.status.busy": "2020-11-30T10:06:01.715500Z",
     "iopub.status.idle": "2020-11-30T10:06:01.732217Z",
     "shell.execute_reply": "2020-11-30T10:06:01.731720Z"
    },
    "papermill": {
     "duration": 0.055236,
     "end_time": "2020-11-30T10:06:01.732360",
     "exception": false,
     "start_time": "2020-11-30T10:06:01.677124",
     "status": "completed"
    },
    "tags": []
   },
   "outputs": [],
   "source": [
    "train_filter = np.where((train_labels == 3 ) | (train_labels == 8))\n",
    "test_filter = np.where((test_labels == 3) | (test_labels == 8))\n",
    "X_train, y_train = train_images[train_filter], train_labels[train_filter]\n",
    "X_test, y_test = test_images[test_filter], test_labels[test_filter]"
   ]
  },
  {
   "cell_type": "markdown",
   "metadata": {
    "papermill": {
     "duration": 0.037373,
     "end_time": "2020-11-30T10:06:01.803393",
     "exception": false,
     "start_time": "2020-11-30T10:06:01.766020",
     "status": "completed"
    },
    "tags": []
   },
   "source": [
    "We normalize the pixel values in the 0 to 1 range"
   ]
  },
  {
   "cell_type": "code",
   "execution_count": 10,
   "metadata": {
    "execution": {
     "iopub.execute_input": "2020-11-30T10:06:01.876925Z",
     "iopub.status.busy": "2020-11-30T10:06:01.874420Z",
     "iopub.status.idle": "2020-11-30T10:06:01.928334Z",
     "shell.execute_reply": "2020-11-30T10:06:01.927418Z"
    },
    "papermill": {
     "duration": 0.091893,
     "end_time": "2020-11-30T10:06:01.928557",
     "exception": false,
     "start_time": "2020-11-30T10:06:01.836664",
     "status": "completed"
    },
    "tags": []
   },
   "outputs": [],
   "source": [
    "X_train = X_train/255.\n",
    "X_test = X_test/255."
   ]
  },
  {
   "cell_type": "markdown",
   "metadata": {
    "papermill": {
     "duration": 0.028158,
     "end_time": "2020-11-30T10:06:01.986013",
     "exception": false,
     "start_time": "2020-11-30T10:06:01.957855",
     "status": "completed"
    },
    "tags": []
   },
   "source": [
    "Setup the labels as 1 (when the digit is 3) and 0 (when the digit is 8)"
   ]
  },
  {
   "cell_type": "code",
   "execution_count": 11,
   "metadata": {
    "execution": {
     "iopub.execute_input": "2020-11-30T10:06:02.046914Z",
     "iopub.status.busy": "2020-11-30T10:06:02.046292Z",
     "iopub.status.idle": "2020-11-30T10:06:02.060811Z",
     "shell.execute_reply": "2020-11-30T10:06:02.061267Z"
    },
    "papermill": {
     "duration": 0.047291,
     "end_time": "2020-11-30T10:06:02.061444",
     "exception": false,
     "start_time": "2020-11-30T10:06:02.014153",
     "status": "completed"
    },
    "tags": []
   },
   "outputs": [],
   "source": [
    "y_train = 1*(y_train==3)\n",
    "y_test = 1*(y_test==3)"
   ]
  },
  {
   "cell_type": "code",
   "execution_count": 12,
   "metadata": {
    "execution": {
     "iopub.execute_input": "2020-11-30T10:06:02.125131Z",
     "iopub.status.busy": "2020-11-30T10:06:02.124552Z",
     "iopub.status.idle": "2020-11-30T10:06:02.136689Z",
     "shell.execute_reply": "2020-11-30T10:06:02.137187Z"
    },
    "papermill": {
     "duration": 0.047153,
     "end_time": "2020-11-30T10:06:02.137339",
     "exception": false,
     "start_time": "2020-11-30T10:06:02.090186",
     "status": "completed"
    },
    "tags": []
   },
   "outputs": [
    {
     "data": {
      "text/plain": [
       "((11982, 28, 28), (1984, 28, 28))"
      ]
     },
     "execution_count": 12,
     "metadata": {},
     "output_type": "execute_result"
    }
   ],
   "source": [
    "X_train.shape, X_test.shape"
   ]
  },
  {
   "cell_type": "markdown",
   "metadata": {
    "papermill": {
     "duration": 0.028534,
     "end_time": "2020-11-30T10:06:02.194315",
     "exception": false,
     "start_time": "2020-11-30T10:06:02.165781",
     "status": "completed"
    },
    "tags": []
   },
   "source": [
    "### Reshape the input data to create a linear array"
   ]
  },
  {
   "cell_type": "code",
   "execution_count": 13,
   "metadata": {
    "execution": {
     "iopub.execute_input": "2020-11-30T10:06:02.256848Z",
     "iopub.status.busy": "2020-11-30T10:06:02.256266Z",
     "iopub.status.idle": "2020-11-30T10:06:02.275161Z",
     "shell.execute_reply": "2020-11-30T10:06:02.275663Z"
    },
    "papermill": {
     "duration": 0.05281,
     "end_time": "2020-11-30T10:06:02.275816",
     "exception": false,
     "start_time": "2020-11-30T10:06:02.223006",
     "status": "completed"
    },
    "tags": []
   },
   "outputs": [
    {
     "data": {
      "text/plain": [
       "((11982, 784), (1984, 784))"
      ]
     },
     "execution_count": 13,
     "metadata": {},
     "output_type": "execute_result"
    }
   ],
   "source": [
    "X_train = X_train.reshape(X_train.shape[0], -1)\n",
    "X_test = X_test.reshape(X_test.shape[0], -1)\n",
    "X_train.shape, X_test.shape"
   ]
  },
  {
   "cell_type": "markdown",
   "metadata": {
    "papermill": {
     "duration": 0.028753,
     "end_time": "2020-11-30T10:06:02.333375",
     "exception": false,
     "start_time": "2020-11-30T10:06:02.304622",
     "status": "completed"
    },
    "tags": []
   },
   "source": [
    "### Importing appropriate functions from 'Kudzu'"
   ]
  },
  {
   "cell_type": "code",
   "execution_count": 14,
   "metadata": {
    "execution": {
     "iopub.execute_input": "2020-11-30T10:06:02.411639Z",
     "iopub.status.busy": "2020-11-30T10:06:02.406040Z",
     "iopub.status.idle": "2020-11-30T10:06:02.420431Z",
     "shell.execute_reply": "2020-11-30T10:06:02.420904Z"
    },
    "papermill": {
     "duration": 0.058795,
     "end_time": "2020-11-30T10:06:02.421056",
     "exception": false,
     "start_time": "2020-11-30T10:06:02.362261",
     "status": "completed"
    },
    "tags": []
   },
   "outputs": [],
   "source": [
    "from kudzu.layer import Sigmoid\n",
    "from kudzu.layer import Relu\n",
    "from kudzu.layer import Affine, Sigmoid\n",
    "\n",
    "from kudzu.model import Model\n",
    "from kudzu.train import Learner\n",
    "from kudzu.optim import GD\n",
    "from kudzu.data import Data, Dataloader, Sampler\n",
    "\n",
    "from kudzu.callbacks import AccCallback\n",
    "from kudzu.callbacks import ClfCallback\n",
    "\n",
    "from kudzu.loss import MSE"
   ]
  },
  {
   "cell_type": "markdown",
   "metadata": {
    "papermill": {
     "duration": 0.028684,
     "end_time": "2020-11-30T10:06:02.478388",
     "exception": false,
     "start_time": "2020-11-30T10:06:02.449704",
     "status": "completed"
    },
    "tags": []
   },
   "source": [
    "### Let us create a `Config` class, to store important parameters. \n",
    "This class essentially plays the role of a dictionary."
   ]
  },
  {
   "cell_type": "code",
   "execution_count": 15,
   "metadata": {
    "execution": {
     "iopub.execute_input": "2020-11-30T10:06:02.542877Z",
     "iopub.status.busy": "2020-11-30T10:06:02.542272Z",
     "iopub.status.idle": "2020-11-30T10:06:02.559136Z",
     "shell.execute_reply": "2020-11-30T10:06:02.559615Z"
    },
    "papermill": {
     "duration": 0.052556,
     "end_time": "2020-11-30T10:06:02.559769",
     "exception": false,
     "start_time": "2020-11-30T10:06:02.507213",
     "status": "completed"
    },
    "tags": []
   },
   "outputs": [],
   "source": [
    "class Config:\n",
    "    pass\n",
    "config = Config()\n",
    "config.lr = 0.001\n",
    "config.num_epochs = 251\n",
    "config.bs = 50"
   ]
  },
  {
   "cell_type": "markdown",
   "metadata": {
    "papermill": {
     "duration": 0.02895,
     "end_time": "2020-11-30T10:06:02.617259",
     "exception": false,
     "start_time": "2020-11-30T10:06:02.588309",
     "status": "completed"
    },
    "tags": []
   },
   "source": [
    "### Initializing data to the variables"
   ]
  },
  {
   "cell_type": "code",
   "execution_count": 16,
   "metadata": {
    "execution": {
     "iopub.execute_input": "2020-11-30T10:06:02.681072Z",
     "iopub.status.busy": "2020-11-30T10:06:02.680491Z",
     "iopub.status.idle": "2020-11-30T10:06:02.695322Z",
     "shell.execute_reply": "2020-11-30T10:06:02.695774Z"
    },
    "papermill": {
     "duration": 0.049895,
     "end_time": "2020-11-30T10:06:02.695939",
     "exception": false,
     "start_time": "2020-11-30T10:06:02.646044",
     "status": "completed"
    },
    "tags": []
   },
   "outputs": [],
   "source": [
    "data = Data(X_train, y_train.reshape(-1,1))\n",
    "sampler = Sampler(data, config.bs, shuffle=True)\n",
    "\n",
    "dl = Dataloader(data, sampler)\n",
    "\n",
    "opt = GD(config.lr)\n",
    "loss = MSE()"
   ]
  },
  {
   "cell_type": "code",
   "execution_count": 17,
   "metadata": {
    "execution": {
     "iopub.execute_input": "2020-11-30T10:06:02.761954Z",
     "iopub.status.busy": "2020-11-30T10:06:02.761372Z",
     "iopub.status.idle": "2020-11-30T10:06:02.774493Z",
     "shell.execute_reply": "2020-11-30T10:06:02.773989Z"
    },
    "papermill": {
     "duration": 0.049984,
     "end_time": "2020-11-30T10:06:02.774626",
     "exception": false,
     "start_time": "2020-11-30T10:06:02.724642",
     "status": "completed"
    },
    "tags": []
   },
   "outputs": [],
   "source": [
    "training_xdata = X_train\n",
    "testing_xdata = X_test\n",
    "training_ydata = y_train.reshape(-1,1)\n",
    "testing_ydata = y_test.reshape(-1,1)"
   ]
  },
  {
   "cell_type": "markdown",
   "metadata": {
    "papermill": {
     "duration": 0.028661,
     "end_time": "2020-11-30T10:06:02.832234",
     "exception": false,
     "start_time": "2020-11-30T10:06:02.803573",
     "status": "completed"
    },
    "tags": []
   },
   "source": [
    "### Running Models with the Training data\n",
    "Details about the network layers:\n",
    "- A first affine layer has 784 inputs and does 100 affine transforms. These are followed by a Relu\n",
    "- A second affine layer has 100 inputs from the 100 activations of the past layer, and does 100 affine transforms. These are followed by a Relu\n",
    "- A third affine layer has 100 activations and does 2 affine transformations to create an embedding for visualization. There is no non-linearity here.\n",
    "- A final \"logistic regression\" which has an affine transform from 2 inputs to 1 output, which is squeezed through a sigmoid.\n",
    "\n",
    "Help taken from Anshuman's Notebook."
   ]
  },
  {
   "cell_type": "code",
   "execution_count": 18,
   "metadata": {
    "execution": {
     "iopub.execute_input": "2020-11-30T10:06:02.895157Z",
     "iopub.status.busy": "2020-11-30T10:06:02.894530Z",
     "iopub.status.idle": "2020-11-30T10:06:02.918118Z",
     "shell.execute_reply": "2020-11-30T10:06:02.917464Z"
    },
    "papermill": {
     "duration": 0.057402,
     "end_time": "2020-11-30T10:06:02.918299",
     "exception": false,
     "start_time": "2020-11-30T10:06:02.860897",
     "status": "completed"
    },
    "tags": []
   },
   "outputs": [],
   "source": [
    "# layers for the Neural Network\n",
    "layers = [Affine(\"first\", 784, 100), Relu(\"first\"), Affine(\"second\", 100, 100), Relu(\"second\"), Affine(\"third\", 100, 2), Affine(\"final\", 2, 1), Sigmoid(\"final\")]\n",
    "model_nn = Model(layers)\n",
    "\n",
    "# layers for the Logistic Regression\n",
    "layers_lr = [Affine(\"logits\", 784, 1), Sigmoid(\"sigmoid\")]\n",
    "model_lr = Model(layers_lr)"
   ]
  },
  {
   "cell_type": "code",
   "execution_count": 19,
   "metadata": {
    "execution": {
     "iopub.execute_input": "2020-11-30T10:06:02.984745Z",
     "iopub.status.busy": "2020-11-30T10:06:02.984161Z",
     "iopub.status.idle": "2020-11-30T10:06:02.996180Z",
     "shell.execute_reply": "2020-11-30T10:06:02.996624Z"
    },
    "papermill": {
     "duration": 0.047193,
     "end_time": "2020-11-30T10:06:02.996774",
     "exception": false,
     "start_time": "2020-11-30T10:06:02.949581",
     "status": "completed"
    },
    "tags": []
   },
   "outputs": [],
   "source": [
    "# suffix _nn stands for Neural Network.\n",
    "learner_nn = Learner(loss, model_nn, opt, config.num_epochs)\n",
    "acc_nn = ClfCallback(learner_nn, config.bs, training_xdata , testing_xdata, training_ydata, testing_ydata)\n",
    "learner_nn.set_callbacks([acc_nn])"
   ]
  },
  {
   "cell_type": "code",
   "execution_count": 20,
   "metadata": {
    "execution": {
     "iopub.execute_input": "2020-11-30T10:06:03.060991Z",
     "iopub.status.busy": "2020-11-30T10:06:03.059995Z",
     "iopub.status.idle": "2020-11-30T10:07:28.958555Z",
     "shell.execute_reply": "2020-11-30T10:07:28.958073Z"
    },
    "papermill": {
     "duration": 85.933277,
     "end_time": "2020-11-30T10:07:28.958758",
     "exception": false,
     "start_time": "2020-11-30T10:06:03.025481",
     "status": "completed"
    },
    "tags": []
   },
   "outputs": [
    {
     "name": "stdout",
     "output_type": "stream",
     "text": [
      "====== Neural Network ======\n"
     ]
    },
    {
     "name": "stdout",
     "output_type": "stream",
     "text": [
      "Epoch 0, Loss 0.2387\n",
      "Training Accuracy: 0.7087, Testing Accuracy: 0.7399\n",
      "\n"
     ]
    },
    {
     "name": "stdout",
     "output_type": "stream",
     "text": [
      "Epoch 10, Loss 0.0877\n",
      "Training Accuracy: 0.9232, Testing Accuracy: 0.9325\n",
      "\n"
     ]
    },
    {
     "name": "stdout",
     "output_type": "stream",
     "text": [
      "Epoch 20, Loss 0.0562\n",
      "Training Accuracy: 0.9419, Testing Accuracy: 0.9501\n",
      "\n"
     ]
    },
    {
     "name": "stdout",
     "output_type": "stream",
     "text": [
      "Epoch 30, Loss 0.0451\n",
      "Training Accuracy: 0.9503, Testing Accuracy: 0.9602\n",
      "\n"
     ]
    },
    {
     "name": "stdout",
     "output_type": "stream",
     "text": [
      "Epoch 40, Loss 0.0393\n",
      "Training Accuracy: 0.9551, Testing Accuracy: 0.9642\n",
      "\n"
     ]
    },
    {
     "name": "stdout",
     "output_type": "stream",
     "text": [
      "Epoch 50, Loss 0.0357\n",
      "Training Accuracy: 0.9589, Testing Accuracy: 0.9662\n",
      "\n"
     ]
    },
    {
     "name": "stdout",
     "output_type": "stream",
     "text": [
      "Epoch 60, Loss 0.0331\n",
      "Training Accuracy: 0.9610, Testing Accuracy: 0.9667\n",
      "\n"
     ]
    },
    {
     "name": "stdout",
     "output_type": "stream",
     "text": [
      "Epoch 70, Loss 0.0311\n",
      "Training Accuracy: 0.9633, Testing Accuracy: 0.9693\n",
      "\n"
     ]
    },
    {
     "name": "stdout",
     "output_type": "stream",
     "text": [
      "Epoch 80, Loss 0.0295\n",
      "Training Accuracy: 0.9650, Testing Accuracy: 0.9708\n",
      "\n"
     ]
    },
    {
     "name": "stdout",
     "output_type": "stream",
     "text": [
      "Epoch 90, Loss 0.0282\n",
      "Training Accuracy: 0.9661, Testing Accuracy: 0.9718\n",
      "\n"
     ]
    },
    {
     "name": "stdout",
     "output_type": "stream",
     "text": [
      "Epoch 100, Loss 0.0271\n",
      "Training Accuracy: 0.9669, Testing Accuracy: 0.9698\n",
      "\n"
     ]
    },
    {
     "name": "stdout",
     "output_type": "stream",
     "text": [
      "Epoch 110, Loss 0.0261\n",
      "Training Accuracy: 0.9686, Testing Accuracy: 0.9703\n",
      "\n"
     ]
    },
    {
     "name": "stdout",
     "output_type": "stream",
     "text": [
      "Epoch 120, Loss 0.0252\n",
      "Training Accuracy: 0.9696, Testing Accuracy: 0.9698\n",
      "\n"
     ]
    },
    {
     "name": "stdout",
     "output_type": "stream",
     "text": [
      "Epoch 130, Loss 0.0244\n",
      "Training Accuracy: 0.9703, Testing Accuracy: 0.9708\n",
      "\n"
     ]
    },
    {
     "name": "stdout",
     "output_type": "stream",
     "text": [
      "Epoch 140, Loss 0.0237\n",
      "Training Accuracy: 0.9713, Testing Accuracy: 0.9713\n",
      "\n"
     ]
    },
    {
     "name": "stdout",
     "output_type": "stream",
     "text": [
      "Epoch 150, Loss 0.0231\n",
      "Training Accuracy: 0.9721, Testing Accuracy: 0.9713\n",
      "\n"
     ]
    },
    {
     "name": "stdout",
     "output_type": "stream",
     "text": [
      "Epoch 160, Loss 0.0224\n",
      "Training Accuracy: 0.9729, Testing Accuracy: 0.9728\n",
      "\n"
     ]
    },
    {
     "name": "stdout",
     "output_type": "stream",
     "text": [
      "Epoch 170, Loss 0.0219\n",
      "Training Accuracy: 0.9737, Testing Accuracy: 0.9728\n",
      "\n"
     ]
    },
    {
     "name": "stdout",
     "output_type": "stream",
     "text": [
      "Epoch 180, Loss 0.0213\n",
      "Training Accuracy: 0.9750, Testing Accuracy: 0.9728\n",
      "\n"
     ]
    },
    {
     "name": "stdout",
     "output_type": "stream",
     "text": [
      "Epoch 190, Loss 0.0208\n",
      "Training Accuracy: 0.9755, Testing Accuracy: 0.9733\n",
      "\n"
     ]
    },
    {
     "name": "stdout",
     "output_type": "stream",
     "text": [
      "Epoch 200, Loss 0.0204\n",
      "Training Accuracy: 0.9765, Testing Accuracy: 0.9733\n",
      "\n"
     ]
    },
    {
     "name": "stdout",
     "output_type": "stream",
     "text": [
      "Epoch 210, Loss 0.0199\n",
      "Training Accuracy: 0.9773, Testing Accuracy: 0.9738\n",
      "\n"
     ]
    },
    {
     "name": "stdout",
     "output_type": "stream",
     "text": [
      "Epoch 220, Loss 0.0195\n",
      "Training Accuracy: 0.9781, Testing Accuracy: 0.9738\n",
      "\n"
     ]
    },
    {
     "name": "stdout",
     "output_type": "stream",
     "text": [
      "Epoch 230, Loss 0.0191\n",
      "Training Accuracy: 0.9787, Testing Accuracy: 0.9753\n",
      "\n"
     ]
    },
    {
     "name": "stdout",
     "output_type": "stream",
     "text": [
      "Epoch 240, Loss 0.0187\n",
      "Training Accuracy: 0.9797, Testing Accuracy: 0.9748\n",
      "\n"
     ]
    },
    {
     "name": "stdout",
     "output_type": "stream",
     "text": [
      "Epoch 250, Loss 0.0183\n",
      "Training Accuracy: 0.9801, Testing Accuracy: 0.9748\n",
      "\n"
     ]
    },
    {
     "data": {
      "text/plain": [
       "0.030867899056197433"
      ]
     },
     "execution_count": 20,
     "metadata": {},
     "output_type": "execute_result"
    }
   ],
   "source": [
    "print(\"====== Neural Network ======\")\n",
    "learner_nn.train_loop(dl)"
   ]
  },
  {
   "cell_type": "markdown",
   "metadata": {
    "papermill": {
     "duration": 0.036769,
     "end_time": "2020-11-30T10:07:29.033312",
     "exception": false,
     "start_time": "2020-11-30T10:07:28.996543",
     "status": "completed"
    },
    "tags": []
   },
   "source": [
    "### Logistic Regression based Implementation."
   ]
  },
  {
   "cell_type": "code",
   "execution_count": 21,
   "metadata": {
    "execution": {
     "iopub.execute_input": "2020-11-30T10:07:29.111748Z",
     "iopub.status.busy": "2020-11-30T10:07:29.111136Z",
     "iopub.status.idle": "2020-11-30T10:07:29.126460Z",
     "shell.execute_reply": "2020-11-30T10:07:29.125911Z"
    },
    "papermill": {
     "duration": 0.056438,
     "end_time": "2020-11-30T10:07:29.126593",
     "exception": false,
     "start_time": "2020-11-30T10:07:29.070155",
     "status": "completed"
    },
    "tags": []
   },
   "outputs": [],
   "source": [
    "learner_lr = Learner(loss, model_lr, opt, config.num_epochs)\n",
    "acc_lr = ClfCallback(learner_lr, config.bs, training_xdata , testing_xdata, training_ydata, testing_ydata)\n",
    "learner_lr.set_callbacks([acc_lr])"
   ]
  },
  {
   "cell_type": "code",
   "execution_count": 22,
   "metadata": {
    "execution": {
     "iopub.execute_input": "2020-11-30T10:07:29.208097Z",
     "iopub.status.busy": "2020-11-30T10:07:29.207482Z",
     "iopub.status.idle": "2020-11-30T10:07:44.907408Z",
     "shell.execute_reply": "2020-11-30T10:07:44.908145Z"
    },
    "papermill": {
     "duration": 15.74436,
     "end_time": "2020-11-30T10:07:44.908307",
     "exception": false,
     "start_time": "2020-11-30T10:07:29.163947",
     "status": "completed"
    },
    "tags": []
   },
   "outputs": [
    {
     "name": "stdout",
     "output_type": "stream",
     "text": [
      "====== Logistic Regression ======\n",
      "Epoch 0, Loss 0.2478\n",
      "Training Accuracy: 0.6722, Testing Accuracy: 0.6578\n",
      "\n"
     ]
    },
    {
     "name": "stdout",
     "output_type": "stream",
     "text": [
      "Epoch 10, Loss 0.1019\n",
      "Training Accuracy: 0.9169, Testing Accuracy: 0.9244\n",
      "\n"
     ]
    },
    {
     "name": "stdout",
     "output_type": "stream",
     "text": [
      "Epoch 20, Loss 0.0781\n",
      "Training Accuracy: 0.9321, Testing Accuracy: 0.9415\n",
      "\n"
     ]
    },
    {
     "name": "stdout",
     "output_type": "stream",
     "text": [
      "Epoch 30, Loss 0.0673\n",
      "Training Accuracy: 0.9394, Testing Accuracy: 0.9466\n",
      "\n"
     ]
    },
    {
     "name": "stdout",
     "output_type": "stream",
     "text": [
      "Epoch 40, Loss 0.0608\n",
      "Training Accuracy: 0.9455, Testing Accuracy: 0.9521\n",
      "\n"
     ]
    },
    {
     "name": "stdout",
     "output_type": "stream",
     "text": [
      "Epoch 50, Loss 0.0564\n",
      "Training Accuracy: 0.9477, Testing Accuracy: 0.9556\n",
      "\n"
     ]
    },
    {
     "name": "stdout",
     "output_type": "stream",
     "text": [
      "Epoch 60, Loss 0.0532\n",
      "Training Accuracy: 0.9497, Testing Accuracy: 0.9582\n",
      "\n"
     ]
    },
    {
     "name": "stdout",
     "output_type": "stream",
     "text": [
      "Epoch 70, Loss 0.0507\n",
      "Training Accuracy: 0.9517, Testing Accuracy: 0.9607\n",
      "\n"
     ]
    },
    {
     "name": "stdout",
     "output_type": "stream",
     "text": [
      "Epoch 80, Loss 0.0487\n",
      "Training Accuracy: 0.9528, Testing Accuracy: 0.9612\n",
      "\n"
     ]
    },
    {
     "name": "stdout",
     "output_type": "stream",
     "text": [
      "Epoch 90, Loss 0.0471\n",
      "Training Accuracy: 0.9541, Testing Accuracy: 0.9627\n",
      "\n"
     ]
    },
    {
     "name": "stdout",
     "output_type": "stream",
     "text": [
      "Epoch 100, Loss 0.0457\n",
      "Training Accuracy: 0.9553, Testing Accuracy: 0.9632\n",
      "\n"
     ]
    },
    {
     "name": "stdout",
     "output_type": "stream",
     "text": [
      "Epoch 110, Loss 0.0445\n",
      "Training Accuracy: 0.9564, Testing Accuracy: 0.9652\n",
      "\n"
     ]
    },
    {
     "name": "stdout",
     "output_type": "stream",
     "text": [
      "Epoch 120, Loss 0.0434\n",
      "Training Accuracy: 0.9572, Testing Accuracy: 0.9657\n",
      "\n"
     ]
    },
    {
     "name": "stdout",
     "output_type": "stream",
     "text": [
      "Epoch 130, Loss 0.0425\n",
      "Training Accuracy: 0.9578, Testing Accuracy: 0.9662\n",
      "\n"
     ]
    },
    {
     "name": "stdout",
     "output_type": "stream",
     "text": [
      "Epoch 140, Loss 0.0417\n",
      "Training Accuracy: 0.9589, Testing Accuracy: 0.9662\n",
      "\n"
     ]
    },
    {
     "name": "stdout",
     "output_type": "stream",
     "text": [
      "Epoch 150, Loss 0.041\n",
      "Training Accuracy: 0.9594, Testing Accuracy: 0.9667\n",
      "\n"
     ]
    },
    {
     "name": "stdout",
     "output_type": "stream",
     "text": [
      "Epoch 160, Loss 0.0403\n",
      "Training Accuracy: 0.9596, Testing Accuracy: 0.9672\n",
      "\n"
     ]
    },
    {
     "name": "stdout",
     "output_type": "stream",
     "text": [
      "Epoch 170, Loss 0.0397\n",
      "Training Accuracy: 0.9603, Testing Accuracy: 0.9672\n",
      "\n"
     ]
    },
    {
     "name": "stdout",
     "output_type": "stream",
     "text": [
      "Epoch 180, Loss 0.0392\n",
      "Training Accuracy: 0.9608, Testing Accuracy: 0.9672\n",
      "\n"
     ]
    },
    {
     "name": "stdout",
     "output_type": "stream",
     "text": [
      "Epoch 190, Loss 0.0387\n",
      "Training Accuracy: 0.9609, Testing Accuracy: 0.9672\n",
      "\n"
     ]
    },
    {
     "name": "stdout",
     "output_type": "stream",
     "text": [
      "Epoch 200, Loss 0.0382\n",
      "Training Accuracy: 0.9610, Testing Accuracy: 0.9667\n",
      "\n"
     ]
    },
    {
     "name": "stdout",
     "output_type": "stream",
     "text": [
      "Epoch 210, Loss 0.0378\n",
      "Training Accuracy: 0.9614, Testing Accuracy: 0.9667\n",
      "\n"
     ]
    },
    {
     "name": "stdout",
     "output_type": "stream",
     "text": [
      "Epoch 220, Loss 0.0374\n",
      "Training Accuracy: 0.9614, Testing Accuracy: 0.9667\n",
      "\n"
     ]
    },
    {
     "name": "stdout",
     "output_type": "stream",
     "text": [
      "Epoch 230, Loss 0.037\n",
      "Training Accuracy: 0.9614, Testing Accuracy: 0.9672\n",
      "\n"
     ]
    },
    {
     "name": "stdout",
     "output_type": "stream",
     "text": [
      "Epoch 240, Loss 0.0366\n",
      "Training Accuracy: 0.9616, Testing Accuracy: 0.9672\n",
      "\n"
     ]
    },
    {
     "name": "stdout",
     "output_type": "stream",
     "text": [
      "Epoch 250, Loss 0.0363\n",
      "Training Accuracy: 0.9618, Testing Accuracy: 0.9667\n",
      "\n"
     ]
    },
    {
     "data": {
      "text/plain": [
       "0.0297412883898802"
      ]
     },
     "execution_count": 22,
     "metadata": {},
     "output_type": "execute_result"
    }
   ],
   "source": [
    "print(\"====== Logistic Regression ======\")\n",
    "learner_lr.train_loop(dl)"
   ]
  },
  {
   "cell_type": "markdown",
   "metadata": {
    "papermill": {
     "duration": 0.044496,
     "end_time": "2020-11-30T10:07:44.998155",
     "exception": false,
     "start_time": "2020-11-30T10:07:44.953659",
     "status": "completed"
    },
    "tags": []
   },
   "source": [
    "### Comparing results of NN and LR"
   ]
  },
  {
   "cell_type": "code",
   "execution_count": 23,
   "metadata": {
    "execution": {
     "iopub.execute_input": "2020-11-30T10:07:45.096176Z",
     "iopub.status.busy": "2020-11-30T10:07:45.095563Z",
     "iopub.status.idle": "2020-11-30T10:07:45.337898Z",
     "shell.execute_reply": "2020-11-30T10:07:45.337404Z"
    },
    "papermill": {
     "duration": 0.295328,
     "end_time": "2020-11-30T10:07:45.338038",
     "exception": false,
     "start_time": "2020-11-30T10:07:45.042710",
     "status": "completed"
    },
    "tags": []
   },
   "outputs": [
    {
     "data": {
      "text/plain": [
       "<matplotlib.legend.Legend at 0x7ff42b1b7978>"
      ]
     },
     "execution_count": 23,
     "metadata": {},
     "output_type": "execute_result"
    },
    {
     "data": {
      "image/png": "[encoded data removed]",
      "text/plain": [
       "<Figure size 1080x720 with 1 Axes>"
      ]
     },
     "metadata": {
      "needs_background": "light"
     },
     "output_type": "display_data"
    }
   ],
   "source": [
    "plt.figure(figsize=(15,10))\n",
    "\n",
    "# Neural Network plots\n",
    "plt.plot(acc_nn.accuracies, 'r-', label = \"Training Accuracies - NN\")\n",
    "plt.plot(acc_nn.test_accuracies, 'g-', label = \"Testing Accuracies - NN\")\n",
    "\n",
    "# Logistic Regression plots\n",
    "plt.plot(acc_lr.accuracies, 'k-', label = \"Training Accuracies - LR\")\n",
    "plt.plot(acc_lr.test_accuracies, 'b-', label = \"Testing Accuracies - LR\")\n",
    "\n",
    "plt.ylim(0.8, 1)\n",
    "\n",
    "plt.legend()\n",
    "\n"
   ]
  },
  {
   "cell_type": "markdown",
   "metadata": {
    "papermill": {
     "duration": 0.046337,
     "end_time": "2020-11-30T10:07:45.431206",
     "exception": false,
     "start_time": "2020-11-30T10:07:45.384869",
     "status": "completed"
    },
    "tags": []
   },
   "source": [
    "### From the plot, we can observe the following:\n",
    "- Neural Network achieves higher accuracy than the Logistic Regression model.\n",
    "- This apparently, is because of overfitting, i.e. NN captures more noise than data.\n",
    "- Testing accuracy of NN drops below the Training accuracy at higher epochs. This explains the over-fitting on training data.\n",
    "- Logistic Regression gives a reliable accuracy, without the above mentioned problem.\n"
   ]
  },
  {
   "cell_type": "markdown",
   "metadata": {
    "papermill": {
     "duration": 0.046374,
     "end_time": "2020-11-30T10:07:45.523989",
     "exception": false,
     "start_time": "2020-11-30T10:07:45.477615",
     "status": "completed"
    },
    "tags": []
   },
   "source": [
    "### Moving till the last but one layer (excluding it).\n",
    "#### Plotting the outputs of this layer of the NN."
   ]
  },
  {
   "cell_type": "code",
   "execution_count": 24,
   "metadata": {
    "execution": {
     "iopub.execute_input": "2020-11-30T10:07:45.623995Z",
     "iopub.status.busy": "2020-11-30T10:07:45.623414Z",
     "iopub.status.idle": "2020-11-30T10:07:45.634584Z",
     "shell.execute_reply": "2020-11-30T10:07:45.634083Z"
    },
    "papermill": {
     "duration": 0.064141,
     "end_time": "2020-11-30T10:07:45.634745",
     "exception": false,
     "start_time": "2020-11-30T10:07:45.570604",
     "status": "completed"
    },
    "tags": []
   },
   "outputs": [],
   "source": [
    "model_new = Model(layers[:-2])"
   ]
  },
  {
   "cell_type": "code",
   "execution_count": 25,
   "metadata": {
    "execution": {
     "iopub.execute_input": "2020-11-30T10:07:45.734404Z",
     "iopub.status.busy": "2020-11-30T10:07:45.733822Z",
     "iopub.status.idle": "2020-11-30T10:07:45.753070Z",
     "shell.execute_reply": "2020-11-30T10:07:45.753576Z"
    },
    "papermill": {
     "duration": 0.072343,
     "end_time": "2020-11-30T10:07:45.753735",
     "exception": false,
     "start_time": "2020-11-30T10:07:45.681392",
     "status": "completed"
    },
    "tags": []
   },
   "outputs": [],
   "source": [
    "plot_testing = model_new(testing_xdata)"
   ]
  },
  {
   "cell_type": "code",
   "execution_count": 26,
   "metadata": {
    "execution": {
     "iopub.execute_input": "2020-11-30T10:07:45.860735Z",
     "iopub.status.busy": "2020-11-30T10:07:45.856602Z",
     "iopub.status.idle": "2020-11-30T10:07:46.059549Z",
     "shell.execute_reply": "2020-11-30T10:07:46.060392Z"
    },
    "papermill": {
     "duration": 0.255426,
     "end_time": "2020-11-30T10:07:46.060565",
     "exception": false,
     "start_time": "2020-11-30T10:07:45.805139",
     "status": "completed"
    },
    "tags": []
   },
   "outputs": [
    {
     "data": {
      "text/plain": [
       "Text(0.5, 1.0, 'Outputs')"
      ]
     },
     "execution_count": 26,
     "metadata": {},
     "output_type": "execute_result"
    },
    {
     "data": {
      "image/png": "[encoded data removed]",
      "text/plain": [
       "<Figure size 576x504 with 1 Axes>"
      ]
     },
     "metadata": {
      "needs_background": "light"
     },
     "output_type": "display_data"
    }
   ],
   "source": [
    "plt.figure(figsize=(8,7))\n",
    "plt.scatter(plot_testing[:,0], plot_testing[:,1], alpha = 0.1, c = y_test.ravel());\n",
    "plt.title('Outputs')"
   ]
  },
  {
   "cell_type": "markdown",
   "metadata": {
    "papermill": {
     "duration": 0.04974,
     "end_time": "2020-11-30T10:07:46.160670",
     "exception": false,
     "start_time": "2020-11-30T10:07:46.110930",
     "status": "completed"
    },
    "tags": []
   },
   "source": [
    "### Plotting probability contours"
   ]
  },
  {
   "cell_type": "code",
   "execution_count": 27,
   "metadata": {
    "execution": {
     "iopub.execute_input": "2020-11-30T10:07:46.275699Z",
     "iopub.status.busy": "2020-11-30T10:07:46.264124Z",
     "iopub.status.idle": "2020-11-30T10:07:46.276434Z",
     "shell.execute_reply": "2020-11-30T10:07:46.276906Z"
    },
    "papermill": {
     "duration": 0.067115,
     "end_time": "2020-11-30T10:07:46.277058",
     "exception": false,
     "start_time": "2020-11-30T10:07:46.209943",
     "status": "completed"
    },
    "tags": []
   },
   "outputs": [],
   "source": [
    "model_prob = Model(layers[-2:]) "
   ]
  },
  {
   "cell_type": "code",
   "execution_count": 28,
   "metadata": {
    "execution": {
     "iopub.execute_input": "2020-11-30T10:07:46.379350Z",
     "iopub.status.busy": "2020-11-30T10:07:46.378734Z",
     "iopub.status.idle": "2020-11-30T10:07:46.392889Z",
     "shell.execute_reply": "2020-11-30T10:07:46.393430Z"
    },
    "papermill": {
     "duration": 0.067843,
     "end_time": "2020-11-30T10:07:46.393582",
     "exception": false,
     "start_time": "2020-11-30T10:07:46.325739",
     "status": "completed"
    },
    "tags": []
   },
   "outputs": [],
   "source": [
    "# Adjust the x and y ranges according to the above generated plot.\n",
    "x_range = np.linspace(-4, 1, 100) \n",
    "y_range = np.linspace(-6, 6, 100) \n",
    "x_grid, y_grid = np.meshgrid(x_range, y_range) # x_grid and y_grig are of size 100 X 100\n",
    "\n",
    "# converting x_grid and y_grid to continuous arrays\n",
    "x_grid_flat = np.ravel(x_grid)\n",
    "y_grid_flat = np.ravel(y_grid)\n",
    "\n",
    "# The last layer of the current model takes two columns as input. Hence transpose of np.vstack() is required.\n",
    "X = np.vstack((x_grid_flat, y_grid_flat)).T\n",
    "\n",
    "# x_grid and y_grid are of size 100 x 100\n",
    "probability_contour = model_prob(X).reshape(100,100) "
   ]
  },
  {
   "cell_type": "code",
   "execution_count": 29,
   "metadata": {
    "execution": {
     "iopub.execute_input": "2020-11-30T10:07:46.496385Z",
     "iopub.status.busy": "2020-11-30T10:07:46.495759Z",
     "iopub.status.idle": "2020-11-30T10:07:46.745751Z",
     "shell.execute_reply": "2020-11-30T10:07:46.746235Z"
    },
    "papermill": {
     "duration": 0.304017,
     "end_time": "2020-11-30T10:07:46.746393",
     "exception": false,
     "start_time": "2020-11-30T10:07:46.442376",
     "status": "completed"
    },
    "tags": []
   },
   "outputs": [
    {
     "data": {
      "image/png": "[encoded data removed]",
      "text/plain": [
       "<Figure size 720x648 with 1 Axes>"
      ]
     },
     "metadata": {
      "needs_background": "light"
     },
     "output_type": "display_data"
    }
   ],
   "source": [
    "plt.figure(figsize=(10,9))\n",
    "plt.scatter(plot_testing[:,0], plot_testing[:,1], alpha = 0.1, c = y_test.ravel())\n",
    "contours = plt.contour(x_grid,y_grid,probability_contour)\n",
    "plt.title('Probability Contours')\n",
    "plt.clabel(contours, inline = True );"
   ]
  }
 ],
 "metadata": {
  "kernelspec": {
   "display_name": "Python 3",
   "language": "python",
   "name": "python3"
  },
  "language_info": {
   "codemirror_mode": {
    "name": "ipython",
    "version": 3
   },
   "file_extension": ".py",
   "mimetype": "text/x-python",
   "name": "python",
   "nbconvert_exporter": "python",
   "pygments_lexer": "ipython3",
   "version": "3.6.12"
  },
  "papermill": {
   "duration": 112.793149,
   "end_time": "2020-11-30T10:07:47.211533",
   "environment_variables": {},
   "exception": null,
   "input_path": "2020-08-11-NeuralNetwork.ipynb",
   "output_path": "2020-08-11-NeuralNetwork.ipynb",
   "parameters": {},
   "start_time": "2020-11-30T10:05:54.418384",
   "version": "2.1.2"
  }
 },
 "nbformat": 4,
 "nbformat_minor": 4
}