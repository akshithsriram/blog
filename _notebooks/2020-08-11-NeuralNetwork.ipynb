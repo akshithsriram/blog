{
 "cells": [
  {
   "cell_type": "markdown",
   "id": "fitted-suggestion",
   "metadata": {
    "papermill": {
     "duration": 0.039141,
     "end_time": "2021-03-23T20:04:22.109948",
     "exception": false,
     "start_time": "2021-03-23T20:04:22.070807",
     "status": "completed"
    },
    "tags": []
   },
   "source": [
    "# \"A Basic Neural Network: Differentiate Hand-Written Digits\"\n",
    "\n",
    "- badges: true\n",
    "- author: Akshith Sriram"
   ]
  },
  {
   "cell_type": "markdown",
   "id": "signal-flexibility",
   "metadata": {
    "papermill": {
     "duration": 0.030632,
     "end_time": "2021-03-23T20:04:22.172452",
     "exception": false,
     "start_time": "2021-03-23T20:04:22.141820",
     "status": "completed"
    },
    "tags": []
   },
   "source": [
    "### Key Objectives:\n",
    "- Building a neural network that differentiates two hand-written digits 3 and 8.\n",
    "- Comparing the results of this Neural Network (NN) to that of a Logistic Regression (LR) model.\n",
    "\n",
    "### Requirements:\n",
    "- 'Kudzu' : A neural network library that was designed during our course by [Univ.AI](www.univ.ai). \n",
    "- MNIST Database\n",
    "\n",
    "If MNIST is not installed, use the command `!pip install mnist` given below.\n",
    "It can be run both from the command line and Jupyter Notebook."
   ]
  },
  {
   "cell_type": "code",
   "execution_count": 1,
   "id": "british-texture",
   "metadata": {
    "execution": {
     "iopub.execute_input": "2021-03-23T20:04:22.244912Z",
     "iopub.status.busy": "2021-03-23T20:04:22.243924Z",
     "iopub.status.idle": "2021-03-23T20:04:23.714053Z",
     "shell.execute_reply": "2021-03-23T20:04:23.713121Z"
    },
    "papermill": {
     "duration": 1.511259,
     "end_time": "2021-03-23T20:04:23.714204",
     "exception": false,
     "start_time": "2021-03-23T20:04:22.202945",
     "status": "completed"
    },
    "tags": []
   },
   "outputs": [
    {
     "name": "stdout",
     "output_type": "stream",
     "text": [
      "Collecting mnist\r\n",
      "  Downloading mnist-0.2.2-py2.py3-none-any.whl (3.5 kB)\r\n",
      "Requirement already satisfied: numpy in /opt/hostedtoolcache/Python/3.6.13/x64/lib/python3.6/site-packages (from mnist) (1.19.5)\r\n"
     ]
    },
    {
     "name": "stdout",
     "output_type": "stream",
     "text": [
      "Installing collected packages: mnist\r\n"
     ]
    },
    {
     "name": "stdout",
     "output_type": "stream",
     "text": [
      "Successfully installed mnist-0.2.2\r\n"
     ]
    }
   ],
   "source": [
    "!pip install mnist "
   ]
  },
  {
   "cell_type": "markdown",
   "id": "stunning-extra",
   "metadata": {
    "papermill": {
     "duration": 0.031737,
     "end_time": "2021-03-23T20:04:23.777514",
     "exception": false,
     "start_time": "2021-03-23T20:04:23.745777",
     "status": "completed"
    },
    "tags": []
   },
   "source": [
    "#### Importing necessary libraries"
   ]
  },
  {
   "cell_type": "code",
   "execution_count": 2,
   "id": "wooden-france",
   "metadata": {
    "execution": {
     "iopub.execute_input": "2021-03-23T20:04:23.846452Z",
     "iopub.status.busy": "2021-03-23T20:04:23.845628Z",
     "iopub.status.idle": "2021-03-23T20:04:24.442100Z",
     "shell.execute_reply": "2021-03-23T20:04:24.441230Z"
    },
    "papermill": {
     "duration": 0.634034,
     "end_time": "2021-03-23T20:04:24.442236",
     "exception": false,
     "start_time": "2021-03-23T20:04:23.808202",
     "status": "completed"
    },
    "tags": []
   },
   "outputs": [],
   "source": [
    "%load_ext autoreload\n",
    "%autoreload 2\n",
    "\n",
    "%matplotlib inline\n",
    "import matplotlib.pyplot as plt\n",
    "\n",
    "import numpy as np\n",
    "import pandas as pd"
   ]
  },
  {
   "cell_type": "markdown",
   "id": "stunning-physics",
   "metadata": {
    "papermill": {
     "duration": 0.030378,
     "end_time": "2021-03-23T20:04:24.503162",
     "exception": false,
     "start_time": "2021-03-23T20:04:24.472784",
     "status": "completed"
    },
    "tags": []
   },
   "source": [
    "### Preparing the Data"
   ]
  },
  {
   "cell_type": "code",
   "execution_count": 3,
   "id": "unauthorized-remainder",
   "metadata": {
    "execution": {
     "iopub.execute_input": "2021-03-23T20:04:24.567371Z",
     "iopub.status.busy": "2021-03-23T20:04:24.566764Z",
     "iopub.status.idle": "2021-03-23T20:04:24.579592Z",
     "shell.execute_reply": "2021-03-23T20:04:24.579074Z"
    },
    "papermill": {
     "duration": 0.046377,
     "end_time": "2021-03-23T20:04:24.579717",
     "exception": false,
     "start_time": "2021-03-23T20:04:24.533340",
     "status": "completed"
    },
    "tags": []
   },
   "outputs": [],
   "source": [
    "import mnist"
   ]
  },
  {
   "cell_type": "code",
   "execution_count": 4,
   "id": "correct-antarctica",
   "metadata": {
    "execution": {
     "iopub.execute_input": "2021-03-23T20:04:24.645761Z",
     "iopub.status.busy": "2021-03-23T20:04:24.645179Z",
     "iopub.status.idle": "2021-03-23T20:09:23.009466Z",
     "shell.execute_reply": "2021-03-23T20:09:23.008926Z"
    },
    "papermill": {
     "duration": 298.399733,
     "end_time": "2021-03-23T20:09:23.009594",
     "exception": false,
     "start_time": "2021-03-23T20:04:24.609861",
     "status": "completed"
    },
    "tags": []
   },
   "outputs": [],
   "source": [
    "train_images = mnist.train_images()\n",
    "train_labels = mnist.train_labels()"
   ]
  },
  {
   "cell_type": "code",
   "execution_count": 5,
   "id": "musical-prospect",
   "metadata": {
    "execution": {
     "iopub.execute_input": "2021-03-23T20:09:23.083053Z",
     "iopub.status.busy": "2021-03-23T20:09:23.075119Z",
     "iopub.status.idle": "2021-03-23T20:09:23.092424Z",
     "shell.execute_reply": "2021-03-23T20:09:23.092902Z"
    },
    "papermill": {
     "duration": 0.052388,
     "end_time": "2021-03-23T20:09:23.093053",
     "exception": false,
     "start_time": "2021-03-23T20:09:23.040665",
     "status": "completed"
    },
    "tags": []
   },
   "outputs": [
    {
     "data": {
      "text/plain": [
       "((60000, 28, 28), (60000,))"
      ]
     },
     "execution_count": 5,
     "metadata": {},
     "output_type": "execute_result"
    }
   ],
   "source": [
    "train_images.shape, train_labels.shape"
   ]
  },
  {
   "cell_type": "code",
   "execution_count": 6,
   "id": "preliminary-elizabeth",
   "metadata": {
    "execution": {
     "iopub.execute_input": "2021-03-23T20:09:23.156159Z",
     "iopub.status.busy": "2021-03-23T20:09:23.155580Z",
     "iopub.status.idle": "2021-03-23T20:10:14.711851Z",
     "shell.execute_reply": "2021-03-23T20:10:14.711326Z"
    },
    "papermill": {
     "duration": 51.588989,
     "end_time": "2021-03-23T20:10:14.711982",
     "exception": false,
     "start_time": "2021-03-23T20:09:23.122993",
     "status": "completed"
    },
    "tags": []
   },
   "outputs": [],
   "source": [
    "test_images = mnist.test_images()\n",
    "test_labels = mnist.test_labels()"
   ]
  },
  {
   "cell_type": "code",
   "execution_count": 7,
   "id": "acknowledged-oxygen",
   "metadata": {
    "execution": {
     "iopub.execute_input": "2021-03-23T20:10:14.778465Z",
     "iopub.status.busy": "2021-03-23T20:10:14.777890Z",
     "iopub.status.idle": "2021-03-23T20:10:14.792362Z",
     "shell.execute_reply": "2021-03-23T20:10:14.792923Z"
    },
    "papermill": {
     "duration": 0.050233,
     "end_time": "2021-03-23T20:10:14.793073",
     "exception": false,
     "start_time": "2021-03-23T20:10:14.742840",
     "status": "completed"
    },
    "tags": []
   },
   "outputs": [
    {
     "data": {
      "text/plain": [
       "((10000, 28, 28), (10000,))"
      ]
     },
     "execution_count": 7,
     "metadata": {},
     "output_type": "execute_result"
    }
   ],
   "source": [
    "test_images.shape, test_labels.shape"
   ]
  },
  {
   "cell_type": "code",
   "execution_count": 8,
   "id": "innovative-organic",
   "metadata": {
    "execution": {
     "iopub.execute_input": "2021-03-23T20:10:14.860182Z",
     "iopub.status.busy": "2021-03-23T20:10:14.859600Z",
     "iopub.status.idle": "2021-03-23T20:10:15.009589Z",
     "shell.execute_reply": "2021-03-23T20:10:15.009028Z"
    },
    "papermill": {
     "duration": 0.18547,
     "end_time": "2021-03-23T20:10:15.009728",
     "exception": false,
     "start_time": "2021-03-23T20:10:14.824258",
     "status": "completed"
    },
    "tags": []
   },
   "outputs": [
    {
     "name": "stdout",
     "output_type": "stream",
     "text": [
      "2\n"
     ]
    },
    {
     "data": {
      "text/plain": [
       "<matplotlib.image.AxesImage at 0x7ff8eb384a58>"
      ]
     },
     "execution_count": 8,
     "metadata": {},
     "output_type": "execute_result"
    },
    {
     "data": {
      "image/png": "[encoded data removed]",
      "text/plain": [
       "<Figure size 432x288 with 1 Axes>"
      ]
     },
     "metadata": {
      "needs_background": "light"
     },
     "output_type": "display_data"
    }
   ],
   "source": [
    "image_index = 7776 # You may select anything up to 60,000\n",
    "print(train_labels[image_index]) \n",
    "plt.imshow(train_images[image_index], cmap='Greys')"
   ]
  },
  {
   "cell_type": "markdown",
   "id": "facial-modem",
   "metadata": {
    "papermill": {
     "duration": 0.03196,
     "end_time": "2021-03-23T20:10:15.074969",
     "exception": false,
     "start_time": "2021-03-23T20:10:15.043009",
     "status": "completed"
    },
    "tags": []
   },
   "source": [
    "## Filter data to get 3 and 8 out"
   ]
  },
  {
   "cell_type": "code",
   "execution_count": 9,
   "id": "thousand-acquisition",
   "metadata": {
    "execution": {
     "iopub.execute_input": "2021-03-23T20:10:15.143741Z",
     "iopub.status.busy": "2021-03-23T20:10:15.143135Z",
     "iopub.status.idle": "2021-03-23T20:10:15.159815Z",
     "shell.execute_reply": "2021-03-23T20:10:15.159330Z"
    },
    "papermill": {
     "duration": 0.053569,
     "end_time": "2021-03-23T20:10:15.159940",
     "exception": false,
     "start_time": "2021-03-23T20:10:15.106371",
     "status": "completed"
    },
    "tags": []
   },
   "outputs": [],
   "source": [
    "train_filter = np.where((train_labels == 3 ) | (train_labels == 8))\n",
    "test_filter = np.where((test_labels == 3) | (test_labels == 8))\n",
    "X_train, y_train = train_images[train_filter], train_labels[train_filter]\n",
    "X_test, y_test = test_images[test_filter], test_labels[test_filter]"
   ]
  },
  {
   "cell_type": "markdown",
   "id": "ruled-access",
   "metadata": {
    "papermill": {
     "duration": 0.031226,
     "end_time": "2021-03-23T20:10:15.222482",
     "exception": false,
     "start_time": "2021-03-23T20:10:15.191256",
     "status": "completed"
    },
    "tags": []
   },
   "source": [
    "We normalize the pixel values in the 0 to 1 range"
   ]
  },
  {
   "cell_type": "code",
   "execution_count": 10,
   "id": "isolated-denver",
   "metadata": {
    "execution": {
     "iopub.execute_input": "2021-03-23T20:10:15.289218Z",
     "iopub.status.busy": "2021-03-23T20:10:15.288617Z",
     "iopub.status.idle": "2021-03-23T20:10:15.338396Z",
     "shell.execute_reply": "2021-03-23T20:10:15.337749Z"
    },
    "papermill": {
     "duration": 0.084862,
     "end_time": "2021-03-23T20:10:15.338534",
     "exception": false,
     "start_time": "2021-03-23T20:10:15.253672",
     "status": "completed"
    },
    "tags": []
   },
   "outputs": [],
   "source": [
    "X_train = X_train/255.\n",
    "X_test = X_test/255."
   ]
  },
  {
   "cell_type": "markdown",
   "id": "perfect-summary",
   "metadata": {
    "papermill": {
     "duration": 0.031351,
     "end_time": "2021-03-23T20:10:15.401490",
     "exception": false,
     "start_time": "2021-03-23T20:10:15.370139",
     "status": "completed"
    },
    "tags": []
   },
   "source": [
    "Setup the labels as 1 (when the digit is 3) and 0 (when the digit is 8)"
   ]
  },
  {
   "cell_type": "code",
   "execution_count": 11,
   "id": "personalized-growing",
   "metadata": {
    "execution": {
     "iopub.execute_input": "2021-03-23T20:10:15.472575Z",
     "iopub.status.busy": "2021-03-23T20:10:15.471989Z",
     "iopub.status.idle": "2021-03-23T20:10:15.483577Z",
     "shell.execute_reply": "2021-03-23T20:10:15.484058Z"
    },
    "papermill": {
     "duration": 0.050915,
     "end_time": "2021-03-23T20:10:15.484215",
     "exception": false,
     "start_time": "2021-03-23T20:10:15.433300",
     "status": "completed"
    },
    "tags": []
   },
   "outputs": [],
   "source": [
    "y_train = 1*(y_train==3)\n",
    "y_test = 1*(y_test==3)"
   ]
  },
  {
   "cell_type": "code",
   "execution_count": 12,
   "id": "considered-virgin",
   "metadata": {
    "execution": {
     "iopub.execute_input": "2021-03-23T20:10:15.559293Z",
     "iopub.status.busy": "2021-03-23T20:10:15.558678Z",
     "iopub.status.idle": "2021-03-23T20:10:15.574266Z",
     "shell.execute_reply": "2021-03-23T20:10:15.573790Z"
    },
    "papermill": {
     "duration": 0.053616,
     "end_time": "2021-03-23T20:10:15.574393",
     "exception": false,
     "start_time": "2021-03-23T20:10:15.520777",
     "status": "completed"
    },
    "tags": []
   },
   "outputs": [
    {
     "data": {
      "text/plain": [
       "((11982, 28, 28), (1984, 28, 28))"
      ]
     },
     "execution_count": 12,
     "metadata": {},
     "output_type": "execute_result"
    }
   ],
   "source": [
    "X_train.shape, X_test.shape"
   ]
  },
  {
   "cell_type": "markdown",
   "id": "civilian-mobile",
   "metadata": {
    "papermill": {
     "duration": 0.03221,
     "end_time": "2021-03-23T20:10:15.638899",
     "exception": false,
     "start_time": "2021-03-23T20:10:15.606689",
     "status": "completed"
    },
    "tags": []
   },
   "source": [
    "### Reshape the input data to create a linear array"
   ]
  },
  {
   "cell_type": "code",
   "execution_count": 13,
   "id": "colonial-adams",
   "metadata": {
    "execution": {
     "iopub.execute_input": "2021-03-23T20:10:15.708518Z",
     "iopub.status.busy": "2021-03-23T20:10:15.707915Z",
     "iopub.status.idle": "2021-03-23T20:10:15.724363Z",
     "shell.execute_reply": "2021-03-23T20:10:15.723778Z"
    },
    "papermill": {
     "duration": 0.053747,
     "end_time": "2021-03-23T20:10:15.724496",
     "exception": false,
     "start_time": "2021-03-23T20:10:15.670749",
     "status": "completed"
    },
    "tags": []
   },
   "outputs": [
    {
     "data": {
      "text/plain": [
       "((11982, 784), (1984, 784))"
      ]
     },
     "execution_count": 13,
     "metadata": {},
     "output_type": "execute_result"
    }
   ],
   "source": [
    "X_train = X_train.reshape(X_train.shape[0], -1)\n",
    "X_test = X_test.reshape(X_test.shape[0], -1)\n",
    "X_train.shape, X_test.shape"
   ]
  },
  {
   "cell_type": "markdown",
   "id": "smart-details",
   "metadata": {
    "papermill": {
     "duration": 0.032105,
     "end_time": "2021-03-23T20:10:15.789131",
     "exception": false,
     "start_time": "2021-03-23T20:10:15.757026",
     "status": "completed"
    },
    "tags": []
   },
   "source": [
    "### Importing appropriate functions from 'Kudzu'"
   ]
  },
  {
   "cell_type": "code",
   "execution_count": 14,
   "id": "celtic-trial",
   "metadata": {
    "execution": {
     "iopub.execute_input": "2021-03-23T20:10:15.864501Z",
     "iopub.status.busy": "2021-03-23T20:10:15.863905Z",
     "iopub.status.idle": "2021-03-23T20:10:15.885937Z",
     "shell.execute_reply": "2021-03-23T20:10:15.885008Z"
    },
    "papermill": {
     "duration": 0.063482,
     "end_time": "2021-03-23T20:10:15.886139",
     "exception": false,
     "start_time": "2021-03-23T20:10:15.822657",
     "status": "completed"
    },
    "tags": []
   },
   "outputs": [],
   "source": [
    "from kudzu.layer import Sigmoid\n",
    "from kudzu.layer import Relu\n",
    "from kudzu.layer import Affine, Sigmoid\n",
    "\n",
    "from kudzu.model import Model\n",
    "from kudzu.train import Learner\n",
    "from kudzu.optim import GD\n",
    "from kudzu.data import Data, Dataloader, Sampler\n",
    "\n",
    "from kudzu.callbacks import AccCallback\n",
    "from kudzu.callbacks import ClfCallback\n",
    "\n",
    "from kudzu.loss import MSE"
   ]
  },
  {
   "cell_type": "markdown",
   "id": "coupled-customer",
   "metadata": {
    "papermill": {
     "duration": 0.03185,
     "end_time": "2021-03-23T20:10:15.949834",
     "exception": false,
     "start_time": "2021-03-23T20:10:15.917984",
     "status": "completed"
    },
    "tags": []
   },
   "source": [
    "### Let us create a `Config` class, to store important parameters. \n",
    "This class essentially plays the role of a dictionary."
   ]
  },
  {
   "cell_type": "code",
   "execution_count": 15,
   "id": "young-ceiling",
   "metadata": {
    "execution": {
     "iopub.execute_input": "2021-03-23T20:10:16.019962Z",
     "iopub.status.busy": "2021-03-23T20:10:16.019370Z",
     "iopub.status.idle": "2021-03-23T20:10:16.031073Z",
     "shell.execute_reply": "2021-03-23T20:10:16.031517Z"
    },
    "papermill": {
     "duration": 0.050314,
     "end_time": "2021-03-23T20:10:16.031661",
     "exception": false,
     "start_time": "2021-03-23T20:10:15.981347",
     "status": "completed"
    },
    "tags": []
   },
   "outputs": [],
   "source": [
    "class Config:\n",
    "    pass\n",
    "config = Config()\n",
    "config.lr = 0.001\n",
    "config.num_epochs = 251\n",
    "config.bs = 50"
   ]
  },
  {
   "cell_type": "markdown",
   "id": "according-mandate",
   "metadata": {
    "papermill": {
     "duration": 0.031668,
     "end_time": "2021-03-23T20:10:16.094968",
     "exception": false,
     "start_time": "2021-03-23T20:10:16.063300",
     "status": "completed"
    },
    "tags": []
   },
   "source": [
    "### Initializing data to the variables"
   ]
  },
  {
   "cell_type": "code",
   "execution_count": 16,
   "id": "academic-disposition",
   "metadata": {
    "execution": {
     "iopub.execute_input": "2021-03-23T20:10:16.164036Z",
     "iopub.status.busy": "2021-03-23T20:10:16.163443Z",
     "iopub.status.idle": "2021-03-23T20:10:16.178670Z",
     "shell.execute_reply": "2021-03-23T20:10:16.178171Z"
    },
    "papermill": {
     "duration": 0.051727,
     "end_time": "2021-03-23T20:10:16.178791",
     "exception": false,
     "start_time": "2021-03-23T20:10:16.127064",
     "status": "completed"
    },
    "tags": []
   },
   "outputs": [],
   "source": [
    "data = Data(X_train, y_train.reshape(-1,1))\n",
    "sampler = Sampler(data, config.bs, shuffle=True)\n",
    "\n",
    "dl = Dataloader(data, sampler)\n",
    "\n",
    "opt = GD(config.lr)\n",
    "loss = MSE()"
   ]
  },
  {
   "cell_type": "code",
   "execution_count": 17,
   "id": "featured-commission",
   "metadata": {
    "execution": {
     "iopub.execute_input": "2021-03-23T20:10:16.253178Z",
     "iopub.status.busy": "2021-03-23T20:10:16.252607Z",
     "iopub.status.idle": "2021-03-23T20:10:16.263253Z",
     "shell.execute_reply": "2021-03-23T20:10:16.262754Z"
    },
    "papermill": {
     "duration": 0.053131,
     "end_time": "2021-03-23T20:10:16.263381",
     "exception": false,
     "start_time": "2021-03-23T20:10:16.210250",
     "status": "completed"
    },
    "tags": []
   },
   "outputs": [],
   "source": [
    "training_xdata = X_train\n",
    "testing_xdata = X_test\n",
    "training_ydata = y_train.reshape(-1,1)\n",
    "testing_ydata = y_test.reshape(-1,1)"
   ]
  },
  {
   "cell_type": "markdown",
   "id": "played-safety",
   "metadata": {
    "papermill": {
     "duration": 0.031563,
     "end_time": "2021-03-23T20:10:16.326262",
     "exception": false,
     "start_time": "2021-03-23T20:10:16.294699",
     "status": "completed"
    },
    "tags": []
   },
   "source": [
    "### Running Models with the Training data\n",
    "Details about the network layers:\n",
    "- A first affine layer has 784 inputs and does 100 affine transforms. These are followed by a Relu\n",
    "- A second affine layer has 100 inputs from the 100 activations of the past layer, and does 100 affine transforms. These are followed by a Relu\n",
    "- A third affine layer has 100 activations and does 2 affine transformations to create an embedding for visualization. There is no non-linearity here.\n",
    "- A final \"logistic regression\" which has an affine transform from 2 inputs to 1 output, which is squeezed through a sigmoid.\n",
    "\n",
    "Help taken from Anshuman's Notebook."
   ]
  },
  {
   "cell_type": "code",
   "execution_count": 18,
   "id": "asian-bankruptcy",
   "metadata": {
    "execution": {
     "iopub.execute_input": "2021-03-23T20:10:16.397384Z",
     "iopub.status.busy": "2021-03-23T20:10:16.396772Z",
     "iopub.status.idle": "2021-03-23T20:10:16.413234Z",
     "shell.execute_reply": "2021-03-23T20:10:16.412727Z"
    },
    "papermill": {
     "duration": 0.055592,
     "end_time": "2021-03-23T20:10:16.413353",
     "exception": false,
     "start_time": "2021-03-23T20:10:16.357761",
     "status": "completed"
    },
    "tags": []
   },
   "outputs": [],
   "source": [
    "# layers for the Neural Network\n",
    "layers = [Affine(\"first\", 784, 100), Relu(\"first\"), Affine(\"second\", 100, 100), Relu(\"second\"), Affine(\"third\", 100, 2), Affine(\"final\", 2, 1), Sigmoid(\"final\")]\n",
    "model_nn = Model(layers)\n",
    "\n",
    "# layers for the Logistic Regression\n",
    "layers_lr = [Affine(\"logits\", 784, 1), Sigmoid(\"sigmoid\")]\n",
    "model_lr = Model(layers_lr)"
   ]
  },
  {
   "cell_type": "code",
   "execution_count": 19,
   "id": "removed-butler",
   "metadata": {
    "execution": {
     "iopub.execute_input": "2021-03-23T20:10:16.482021Z",
     "iopub.status.busy": "2021-03-23T20:10:16.481445Z",
     "iopub.status.idle": "2021-03-23T20:10:16.494272Z",
     "shell.execute_reply": "2021-03-23T20:10:16.493804Z"
    },
    "papermill": {
     "duration": 0.048926,
     "end_time": "2021-03-23T20:10:16.494394",
     "exception": false,
     "start_time": "2021-03-23T20:10:16.445468",
     "status": "completed"
    },
    "tags": []
   },
   "outputs": [],
   "source": [
    "# suffix _nn stands for Neural Network.\n",
    "learner_nn = Learner(loss, model_nn, opt, config.num_epochs)\n",
    "acc_nn = ClfCallback(learner_nn, config.bs, training_xdata , testing_xdata, training_ydata, testing_ydata)\n",
    "learner_nn.set_callbacks([acc_nn])"
   ]
  },
  {
   "cell_type": "code",
   "execution_count": 20,
   "id": "conceptual-throw",
   "metadata": {
    "execution": {
     "iopub.execute_input": "2021-03-23T20:10:16.561489Z",
     "iopub.status.busy": "2021-03-23T20:10:16.560922Z",
     "iopub.status.idle": "2021-03-23T20:11:43.524578Z",
     "shell.execute_reply": "2021-03-23T20:11:43.525355Z"
    },
    "papermill": {
     "duration": 86.999457,
     "end_time": "2021-03-23T20:11:43.525509",
     "exception": false,
     "start_time": "2021-03-23T20:10:16.526052",
     "status": "completed"
    },
    "tags": []
   },
   "outputs": [
    {
     "name": "stdout",
     "output_type": "stream",
     "text": [
      "====== Neural Network ======\n"
     ]
    },
    {
     "name": "stdout",
     "output_type": "stream",
     "text": [
      "Epoch 0, Loss 0.2355\n",
      "Training Accuracy: 0.6242, Testing Accuracy: 0.6255\n",
      "\n"
     ]
    },
    {
     "name": "stdout",
     "output_type": "stream",
     "text": [
      "Epoch 10, Loss 0.0979\n",
      "Training Accuracy: 0.9120, Testing Accuracy: 0.9264\n",
      "\n"
     ]
    },
    {
     "name": "stdout",
     "output_type": "stream",
     "text": [
      "Epoch 20, Loss 0.0577\n",
      "Training Accuracy: 0.9411, Testing Accuracy: 0.9526\n",
      "\n"
     ]
    },
    {
     "name": "stdout",
     "output_type": "stream",
     "text": [
      "Epoch 30, Loss 0.0445\n",
      "Training Accuracy: 0.9514, Testing Accuracy: 0.9592\n",
      "\n"
     ]
    },
    {
     "name": "stdout",
     "output_type": "stream",
     "text": [
      "Epoch 40, Loss 0.0384\n",
      "Training Accuracy: 0.9564, Testing Accuracy: 0.9637\n",
      "\n"
     ]
    },
    {
     "name": "stdout",
     "output_type": "stream",
     "text": [
      "Epoch 50, Loss 0.0347\n",
      "Training Accuracy: 0.9599, Testing Accuracy: 0.9647\n",
      "\n"
     ]
    },
    {
     "name": "stdout",
     "output_type": "stream",
     "text": [
      "Epoch 60, Loss 0.0322\n",
      "Training Accuracy: 0.9626, Testing Accuracy: 0.9667\n",
      "\n"
     ]
    },
    {
     "name": "stdout",
     "output_type": "stream",
     "text": [
      "Epoch 70, Loss 0.0303\n",
      "Training Accuracy: 0.9649, Testing Accuracy: 0.9688\n",
      "\n"
     ]
    },
    {
     "name": "stdout",
     "output_type": "stream",
     "text": [
      "Epoch 80, Loss 0.0288\n",
      "Training Accuracy: 0.9669, Testing Accuracy: 0.9688\n",
      "\n"
     ]
    },
    {
     "name": "stdout",
     "output_type": "stream",
     "text": [
      "Epoch 90, Loss 0.0275\n",
      "Training Accuracy: 0.9686, Testing Accuracy: 0.9682\n",
      "\n"
     ]
    },
    {
     "name": "stdout",
     "output_type": "stream",
     "text": [
      "Epoch 100, Loss 0.0265\n",
      "Training Accuracy: 0.9695, Testing Accuracy: 0.9693\n",
      "\n"
     ]
    },
    {
     "name": "stdout",
     "output_type": "stream",
     "text": [
      "Epoch 110, Loss 0.0256\n",
      "Training Accuracy: 0.9704, Testing Accuracy: 0.9708\n",
      "\n"
     ]
    },
    {
     "name": "stdout",
     "output_type": "stream",
     "text": [
      "Epoch 120, Loss 0.0247\n",
      "Training Accuracy: 0.9715, Testing Accuracy: 0.9708\n",
      "\n"
     ]
    },
    {
     "name": "stdout",
     "output_type": "stream",
     "text": [
      "Epoch 130, Loss 0.024\n",
      "Training Accuracy: 0.9725, Testing Accuracy: 0.9713\n",
      "\n"
     ]
    },
    {
     "name": "stdout",
     "output_type": "stream",
     "text": [
      "Epoch 140, Loss 0.0233\n",
      "Training Accuracy: 0.9732, Testing Accuracy: 0.9718\n",
      "\n"
     ]
    },
    {
     "name": "stdout",
     "output_type": "stream",
     "text": [
      "Epoch 150, Loss 0.0227\n",
      "Training Accuracy: 0.9734, Testing Accuracy: 0.9718\n",
      "\n"
     ]
    },
    {
     "name": "stdout",
     "output_type": "stream",
     "text": [
      "Epoch 160, Loss 0.0222\n",
      "Training Accuracy: 0.9743, Testing Accuracy: 0.9718\n",
      "\n"
     ]
    },
    {
     "name": "stdout",
     "output_type": "stream",
     "text": [
      "Epoch 170, Loss 0.0216\n",
      "Training Accuracy: 0.9746, Testing Accuracy: 0.9718\n",
      "\n"
     ]
    },
    {
     "name": "stdout",
     "output_type": "stream",
     "text": [
      "Epoch 180, Loss 0.0211\n",
      "Training Accuracy: 0.9752, Testing Accuracy: 0.9728\n",
      "\n"
     ]
    },
    {
     "name": "stdout",
     "output_type": "stream",
     "text": [
      "Epoch 190, Loss 0.0207\n",
      "Training Accuracy: 0.9762, Testing Accuracy: 0.9728\n",
      "\n"
     ]
    },
    {
     "name": "stdout",
     "output_type": "stream",
     "text": [
      "Epoch 200, Loss 0.0202\n",
      "Training Accuracy: 0.9769, Testing Accuracy: 0.9728\n",
      "\n"
     ]
    },
    {
     "name": "stdout",
     "output_type": "stream",
     "text": [
      "Epoch 210, Loss 0.0198\n",
      "Training Accuracy: 0.9774, Testing Accuracy: 0.9738\n",
      "\n"
     ]
    },
    {
     "name": "stdout",
     "output_type": "stream",
     "text": [
      "Epoch 220, Loss 0.0193\n",
      "Training Accuracy: 0.9779, Testing Accuracy: 0.9743\n",
      "\n"
     ]
    },
    {
     "name": "stdout",
     "output_type": "stream",
     "text": [
      "Epoch 230, Loss 0.0189\n",
      "Training Accuracy: 0.9789, Testing Accuracy: 0.9748\n",
      "\n"
     ]
    },
    {
     "name": "stdout",
     "output_type": "stream",
     "text": [
      "Epoch 240, Loss 0.0185\n",
      "Training Accuracy: 0.9795, Testing Accuracy: 0.9753\n",
      "\n"
     ]
    },
    {
     "name": "stdout",
     "output_type": "stream",
     "text": [
      "Epoch 250, Loss 0.0181\n",
      "Training Accuracy: 0.9801, Testing Accuracy: 0.9753\n",
      "\n"
     ]
    },
    {
     "data": {
      "text/plain": [
       "0.003125480336497329"
      ]
     },
     "execution_count": 20,
     "metadata": {},
     "output_type": "execute_result"
    }
   ],
   "source": [
    "print(\"====== Neural Network ======\")\n",
    "learner_nn.train_loop(dl)"
   ]
  },
  {
   "cell_type": "markdown",
   "id": "competent-suffering",
   "metadata": {
    "papermill": {
     "duration": 0.039496,
     "end_time": "2021-03-23T20:11:43.605110",
     "exception": false,
     "start_time": "2021-03-23T20:11:43.565614",
     "status": "completed"
    },
    "tags": []
   },
   "source": [
    "### Logistic Regression based Implementation."
   ]
  },
  {
   "cell_type": "code",
   "execution_count": 21,
   "id": "qualified-psychiatry",
   "metadata": {
    "execution": {
     "iopub.execute_input": "2021-03-23T20:11:43.699191Z",
     "iopub.status.busy": "2021-03-23T20:11:43.698564Z",
     "iopub.status.idle": "2021-03-23T20:11:43.711418Z",
     "shell.execute_reply": "2021-03-23T20:11:43.710882Z"
    },
    "papermill": {
     "duration": 0.056414,
     "end_time": "2021-03-23T20:11:43.711542",
     "exception": false,
     "start_time": "2021-03-23T20:11:43.655128",
     "status": "completed"
    },
    "tags": []
   },
   "outputs": [],
   "source": [
    "learner_lr = Learner(loss, model_lr, opt, config.num_epochs)\n",
    "acc_lr = ClfCallback(learner_lr, config.bs, training_xdata , testing_xdata, training_ydata, testing_ydata)\n",
    "learner_lr.set_callbacks([acc_lr])"
   ]
  },
  {
   "cell_type": "code",
   "execution_count": 22,
   "id": "average-outside",
   "metadata": {
    "execution": {
     "iopub.execute_input": "2021-03-23T20:11:43.796766Z",
     "iopub.status.busy": "2021-03-23T20:11:43.795886Z",
     "iopub.status.idle": "2021-03-23T20:11:59.303571Z",
     "shell.execute_reply": "2021-03-23T20:11:59.304118Z"
    },
    "papermill": {
     "duration": 15.551854,
     "end_time": "2021-03-23T20:11:59.304264",
     "exception": false,
     "start_time": "2021-03-23T20:11:43.752410",
     "status": "completed"
    },
    "tags": []
   },
   "outputs": [
    {
     "name": "stdout",
     "output_type": "stream",
     "text": [
      "====== Logistic Regression ======\n",
      "Epoch 0, Loss 0.2077\n",
      "Training Accuracy: 0.7975, Testing Accuracy: 0.7913\n",
      "\n"
     ]
    },
    {
     "name": "stdout",
     "output_type": "stream",
     "text": [
      "Epoch 10, Loss 0.0972\n",
      "Training Accuracy: 0.9157, Testing Accuracy: 0.9264\n",
      "\n"
     ]
    },
    {
     "name": "stdout",
     "output_type": "stream",
     "text": [
      "Epoch 20, Loss 0.0761\n",
      "Training Accuracy: 0.9308, Testing Accuracy: 0.9405\n",
      "\n"
     ]
    },
    {
     "name": "stdout",
     "output_type": "stream",
     "text": [
      "Epoch 30, Loss 0.0662\n",
      "Training Accuracy: 0.9391, Testing Accuracy: 0.9481\n",
      "\n"
     ]
    },
    {
     "name": "stdout",
     "output_type": "stream",
     "text": [
      "Epoch 40, Loss 0.0602\n",
      "Training Accuracy: 0.9425, Testing Accuracy: 0.9531\n",
      "\n"
     ]
    },
    {
     "name": "stdout",
     "output_type": "stream",
     "text": [
      "Epoch 50, Loss 0.056\n",
      "Training Accuracy: 0.9458, Testing Accuracy: 0.9561\n",
      "\n"
     ]
    },
    {
     "name": "stdout",
     "output_type": "stream",
     "text": [
      "Epoch 60, Loss 0.0529\n",
      "Training Accuracy: 0.9477, Testing Accuracy: 0.9582\n",
      "\n"
     ]
    },
    {
     "name": "stdout",
     "output_type": "stream",
     "text": [
      "Epoch 70, Loss 0.0505\n",
      "Training Accuracy: 0.9503, Testing Accuracy: 0.9582\n",
      "\n"
     ]
    },
    {
     "name": "stdout",
     "output_type": "stream",
     "text": [
      "Epoch 80, Loss 0.0485\n",
      "Training Accuracy: 0.9518, Testing Accuracy: 0.9602\n",
      "\n"
     ]
    },
    {
     "name": "stdout",
     "output_type": "stream",
     "text": [
      "Epoch 90, Loss 0.0469\n",
      "Training Accuracy: 0.9532, Testing Accuracy: 0.9612\n",
      "\n"
     ]
    },
    {
     "name": "stdout",
     "output_type": "stream",
     "text": [
      "Epoch 100, Loss 0.0455\n",
      "Training Accuracy: 0.9543, Testing Accuracy: 0.9612\n",
      "\n"
     ]
    },
    {
     "name": "stdout",
     "output_type": "stream",
     "text": [
      "Epoch 110, Loss 0.0444\n",
      "Training Accuracy: 0.9552, Testing Accuracy: 0.9632\n",
      "\n"
     ]
    },
    {
     "name": "stdout",
     "output_type": "stream",
     "text": [
      "Epoch 120, Loss 0.0434\n",
      "Training Accuracy: 0.9559, Testing Accuracy: 0.9642\n",
      "\n"
     ]
    },
    {
     "name": "stdout",
     "output_type": "stream",
     "text": [
      "Epoch 130, Loss 0.0425\n",
      "Training Accuracy: 0.9562, Testing Accuracy: 0.9647\n",
      "\n"
     ]
    },
    {
     "name": "stdout",
     "output_type": "stream",
     "text": [
      "Epoch 140, Loss 0.0417\n",
      "Training Accuracy: 0.9563, Testing Accuracy: 0.9652\n",
      "\n"
     ]
    },
    {
     "name": "stdout",
     "output_type": "stream",
     "text": [
      "Epoch 150, Loss 0.0409\n",
      "Training Accuracy: 0.9566, Testing Accuracy: 0.9662\n",
      "\n"
     ]
    },
    {
     "name": "stdout",
     "output_type": "stream",
     "text": [
      "Epoch 160, Loss 0.0403\n",
      "Training Accuracy: 0.9574, Testing Accuracy: 0.9662\n",
      "\n"
     ]
    },
    {
     "name": "stdout",
     "output_type": "stream",
     "text": [
      "Epoch 170, Loss 0.0397\n",
      "Training Accuracy: 0.9578, Testing Accuracy: 0.9672\n",
      "\n"
     ]
    },
    {
     "name": "stdout",
     "output_type": "stream",
     "text": [
      "Epoch 180, Loss 0.0392\n",
      "Training Accuracy: 0.9582, Testing Accuracy: 0.9662\n",
      "\n"
     ]
    },
    {
     "name": "stdout",
     "output_type": "stream",
     "text": [
      "Epoch 190, Loss 0.0387\n",
      "Training Accuracy: 0.9589, Testing Accuracy: 0.9657\n",
      "\n"
     ]
    },
    {
     "name": "stdout",
     "output_type": "stream",
     "text": [
      "Epoch 200, Loss 0.0382\n",
      "Training Accuracy: 0.9591, Testing Accuracy: 0.9657\n",
      "\n"
     ]
    },
    {
     "name": "stdout",
     "output_type": "stream",
     "text": [
      "Epoch 210, Loss 0.0378\n",
      "Training Accuracy: 0.9594, Testing Accuracy: 0.9652\n",
      "\n"
     ]
    },
    {
     "name": "stdout",
     "output_type": "stream",
     "text": [
      "Epoch 220, Loss 0.0374\n",
      "Training Accuracy: 0.9599, Testing Accuracy: 0.9652\n",
      "\n"
     ]
    },
    {
     "name": "stdout",
     "output_type": "stream",
     "text": [
      "Epoch 230, Loss 0.037\n",
      "Training Accuracy: 0.9603, Testing Accuracy: 0.9657\n",
      "\n"
     ]
    },
    {
     "name": "stdout",
     "output_type": "stream",
     "text": [
      "Epoch 240, Loss 0.0367\n",
      "Training Accuracy: 0.9607, Testing Accuracy: 0.9662\n",
      "\n"
     ]
    },
    {
     "name": "stdout",
     "output_type": "stream",
     "text": [
      "Epoch 250, Loss 0.0363\n",
      "Training Accuracy: 0.9613, Testing Accuracy: 0.9667\n",
      "\n"
     ]
    },
    {
     "data": {
      "text/plain": [
       "0.024628182508489766"
      ]
     },
     "execution_count": 22,
     "metadata": {},
     "output_type": "execute_result"
    }
   ],
   "source": [
    "print(\"====== Logistic Regression ======\")\n",
    "learner_lr.train_loop(dl)"
   ]
  },
  {
   "cell_type": "markdown",
   "id": "adjusted-possible",
   "metadata": {
    "papermill": {
     "duration": 0.047335,
     "end_time": "2021-03-23T20:11:59.399085",
     "exception": false,
     "start_time": "2021-03-23T20:11:59.351750",
     "status": "completed"
    },
    "tags": []
   },
   "source": [
    "### Comparing results of NN and LR"
   ]
  },
  {
   "cell_type": "code",
   "execution_count": 23,
   "id": "mental-multimedia",
   "metadata": {
    "execution": {
     "iopub.execute_input": "2021-03-23T20:11:59.501197Z",
     "iopub.status.busy": "2021-03-23T20:11:59.500608Z",
     "iopub.status.idle": "2021-03-23T20:11:59.743249Z",
     "shell.execute_reply": "2021-03-23T20:11:59.741684Z"
    },
    "papermill": {
     "duration": 0.29664,
     "end_time": "2021-03-23T20:11:59.743383",
     "exception": false,
     "start_time": "2021-03-23T20:11:59.446743",
     "status": "completed"
    },
    "tags": []
   },
   "outputs": [
    {
     "data": {
      "text/plain": [
       "<matplotlib.legend.Legend at 0x7ff8de73a3c8>"
      ]
     },
     "execution_count": 23,
     "metadata": {},
     "output_type": "execute_result"
    },
    {
     "data": {
      "image/png": "[encoded data removed]",
      "text/plain": [
       "<Figure size 1080x720 with 1 Axes>"
      ]
     },
     "metadata": {
      "needs_background": "light"
     },
     "output_type": "display_data"
    }
   ],
   "source": [
    "plt.figure(figsize=(15,10))\n",
    "\n",
    "# Neural Network plots\n",
    "plt.plot(acc_nn.accuracies, 'r-', label = \"Training Accuracies - NN\")\n",
    "plt.plot(acc_nn.test_accuracies, 'g-', label = \"Testing Accuracies - NN\")\n",
    "\n",
    "# Logistic Regression plots\n",
    "plt.plot(acc_lr.accuracies, 'k-', label = \"Training Accuracies - LR\")\n",
    "plt.plot(acc_lr.test_accuracies, 'b-', label = \"Testing Accuracies - LR\")\n",
    "\n",
    "plt.ylim(0.8, 1)\n",
    "\n",
    "plt.legend()\n",
    "\n"
   ]
  },
  {
   "cell_type": "markdown",
   "id": "sexual-flesh",
   "metadata": {
    "papermill": {
     "duration": 0.049191,
     "end_time": "2021-03-23T20:11:59.842428",
     "exception": false,
     "start_time": "2021-03-23T20:11:59.793237",
     "status": "completed"
    },
    "tags": []
   },
   "source": [
    "### From the plot, we can observe the following:\n",
    "- Neural Network achieves higher accuracy than the Logistic Regression model.\n",
    "- This apparently, is because of overfitting, i.e. NN captures more noise than data.\n",
    "- Testing accuracy of NN drops below the Training accuracy at higher epochs. This explains the over-fitting on training data.\n",
    "- Logistic Regression gives a reliable accuracy, without the above mentioned problem.\n"
   ]
  },
  {
   "cell_type": "markdown",
   "id": "institutional-pacific",
   "metadata": {
    "papermill": {
     "duration": 0.048979,
     "end_time": "2021-03-23T20:11:59.940533",
     "exception": false,
     "start_time": "2021-03-23T20:11:59.891554",
     "status": "completed"
    },
    "tags": []
   },
   "source": [
    "### Moving till the last but one layer (excluding it).\n",
    "#### Plotting the outputs of this layer of the NN."
   ]
  },
  {
   "cell_type": "code",
   "execution_count": 24,
   "id": "economic-server",
   "metadata": {
    "execution": {
     "iopub.execute_input": "2021-03-23T20:12:00.043522Z",
     "iopub.status.busy": "2021-03-23T20:12:00.042696Z",
     "iopub.status.idle": "2021-03-23T20:12:00.056831Z",
     "shell.execute_reply": "2021-03-23T20:12:00.056338Z"
    },
    "papermill": {
     "duration": 0.067129,
     "end_time": "2021-03-23T20:12:00.056952",
     "exception": false,
     "start_time": "2021-03-23T20:11:59.989823",
     "status": "completed"
    },
    "tags": []
   },
   "outputs": [],
   "source": [
    "model_new = Model(layers[:-2])"
   ]
  },
  {
   "cell_type": "code",
   "execution_count": 25,
   "id": "varied-upgrade",
   "metadata": {
    "execution": {
     "iopub.execute_input": "2021-03-23T20:12:00.160304Z",
     "iopub.status.busy": "2021-03-23T20:12:00.159759Z",
     "iopub.status.idle": "2021-03-23T20:12:00.180816Z",
     "shell.execute_reply": "2021-03-23T20:12:00.181584Z"
    },
    "papermill": {
     "duration": 0.074975,
     "end_time": "2021-03-23T20:12:00.181739",
     "exception": false,
     "start_time": "2021-03-23T20:12:00.106764",
     "status": "completed"
    },
    "tags": []
   },
   "outputs": [],
   "source": [
    "plot_testing = model_new(testing_xdata)"
   ]
  },
  {
   "cell_type": "code",
   "execution_count": 26,
   "id": "specific-handling",
   "metadata": {
    "execution": {
     "iopub.execute_input": "2021-03-23T20:12:00.292714Z",
     "iopub.status.busy": "2021-03-23T20:12:00.292121Z",
     "iopub.status.idle": "2021-03-23T20:12:00.478221Z",
     "shell.execute_reply": "2021-03-23T20:12:00.478707Z"
    },
    "papermill": {
     "duration": 0.246027,
     "end_time": "2021-03-23T20:12:00.478857",
     "exception": false,
     "start_time": "2021-03-23T20:12:00.232830",
     "status": "completed"
    },
    "tags": []
   },
   "outputs": [
    {
     "data": {
      "text/plain": [
       "Text(0.5, 1.0, 'Outputs')"
      ]
     },
     "execution_count": 26,
     "metadata": {},
     "output_type": "execute_result"
    },
    {
     "data": {
      "image/png": "[encoded data removed]",
      "text/plain": [
       "<Figure size 576x504 with 1 Axes>"
      ]
     },
     "metadata": {
      "needs_background": "light"
     },
     "output_type": "display_data"
    }
   ],
   "source": [
    "plt.figure(figsize=(8,7))\n",
    "plt.scatter(plot_testing[:,0], plot_testing[:,1], alpha = 0.1, c = y_test.ravel());\n",
    "plt.title('Outputs')"
   ]
  },
  {
   "cell_type": "markdown",
   "id": "described-knowing",
   "metadata": {
    "papermill": {
     "duration": 0.051402,
     "end_time": "2021-03-23T20:12:00.582422",
     "exception": false,
     "start_time": "2021-03-23T20:12:00.531020",
     "status": "completed"
    },
    "tags": []
   },
   "source": [
    "### Plotting probability contours"
   ]
  },
  {
   "cell_type": "code",
   "execution_count": 27,
   "id": "needed-growing",
   "metadata": {
    "execution": {
     "iopub.execute_input": "2021-03-23T20:12:00.689718Z",
     "iopub.status.busy": "2021-03-23T20:12:00.689138Z",
     "iopub.status.idle": "2021-03-23T20:12:00.703902Z",
     "shell.execute_reply": "2021-03-23T20:12:00.704363Z"
    },
    "papermill": {
     "duration": 0.07034,
     "end_time": "2021-03-23T20:12:00.704503",
     "exception": false,
     "start_time": "2021-03-23T20:12:00.634163",
     "status": "completed"
    },
    "tags": []
   },
   "outputs": [],
   "source": [
    "model_prob = Model(layers[-2:]) "
   ]
  },
  {
   "cell_type": "code",
   "execution_count": 28,
   "id": "introductory-enforcement",
   "metadata": {
    "execution": {
     "iopub.execute_input": "2021-03-23T20:12:00.840861Z",
     "iopub.status.busy": "2021-03-23T20:12:00.840283Z",
     "iopub.status.idle": "2021-03-23T20:12:00.852162Z",
     "shell.execute_reply": "2021-03-23T20:12:00.852602Z"
    },
    "papermill": {
     "duration": 0.072602,
     "end_time": "2021-03-23T20:12:00.852746",
     "exception": false,
     "start_time": "2021-03-23T20:12:00.780144",
     "status": "completed"
    },
    "tags": []
   },
   "outputs": [],
   "source": [
    "# Adjust the x and y ranges according to the above generated plot.\n",
    "x_range = np.linspace(-4, 1, 100) \n",
    "y_range = np.linspace(-6, 6, 100) \n",
    "x_grid, y_grid = np.meshgrid(x_range, y_range) # x_grid and y_grig are of size 100 X 100\n",
    "\n",
    "# converting x_grid and y_grid to continuous arrays\n",
    "x_grid_flat = np.ravel(x_grid)\n",
    "y_grid_flat = np.ravel(y_grid)\n",
    "\n",
    "# The last layer of the current model takes two columns as input. Hence transpose of np.vstack() is required.\n",
    "X = np.vstack((x_grid_flat, y_grid_flat)).T\n",
    "\n",
    "# x_grid and y_grid are of size 100 x 100\n",
    "probability_contour = model_prob(X).reshape(100,100) "
   ]
  },
  {
   "cell_type": "code",
   "execution_count": 29,
   "id": "understood-landing",
   "metadata": {
    "execution": {
     "iopub.execute_input": "2021-03-23T20:12:00.972665Z",
     "iopub.status.busy": "2021-03-23T20:12:00.972084Z",
     "iopub.status.idle": "2021-03-23T20:12:01.231511Z",
     "shell.execute_reply": "2021-03-23T20:12:01.230972Z"
    },
    "papermill": {
     "duration": 0.325949,
     "end_time": "2021-03-23T20:12:01.231636",
     "exception": false,
     "start_time": "2021-03-23T20:12:00.905687",
     "status": "completed"
    },
    "tags": []
   },
   "outputs": [
    {
     "data": {
      "image/png": "[encoded data removed]",
      "text/plain": [
       "<Figure size 720x648 with 1 Axes>"
      ]
     },
     "metadata": {
      "needs_background": "light"
     },
     "output_type": "display_data"
    }
   ],
   "source": [
    "plt.figure(figsize=(10,9))\n",
    "plt.scatter(plot_testing[:,0], plot_testing[:,1], alpha = 0.1, c = y_test.ravel())\n",
    "contours = plt.contour(x_grid,y_grid,probability_contour)\n",
    "plt.title('Probability Contours')\n",
    "plt.clabel(contours, inline = True );"
   ]
  }
 ],
 "metadata": {
  "kernelspec": {
   "display_name": "Python 3",
   "language": "python",
   "name": "python3"
  },
  "language_info": {
   "codemirror_mode": {
    "name": "ipython",
    "version": 3
   },
   "file_extension": ".py",
   "mimetype": "text/x-python",
   "name": "python",
   "nbconvert_exporter": "python",
   "pygments_lexer": "ipython3",
   "version": "3.6.13"
  },
  "papermill": {
   "duration": 461.500605,
   "end_time": "2021-03-23T20:12:02.466265",
   "environment_variables": {},
   "exception": null,
   "input_path": "2020-08-11-NeuralNetwork.ipynb",
   "output_path": "2020-08-11-NeuralNetwork.ipynb",
   "parameters": {},
   "start_time": "2021-03-23T20:04:20.965660",
   "version": "2.1.2"
  }
 },
 "nbformat": 4,
 "nbformat_minor": 5
}