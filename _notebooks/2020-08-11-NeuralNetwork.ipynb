{
 "cells": [
  {
   "cell_type": "markdown",
   "metadata": {
    "papermill": {
     "duration": 0.032972,
     "end_time": "2020-08-16T10:03:53.905201",
     "exception": false,
     "start_time": "2020-08-16T10:03:53.872229",
     "status": "completed"
    },
    "tags": []
   },
   "source": [
    "# \"A Basic Neural Network: Differentiate Hand-Written Digits\"\n",
    "\n",
    "- badges: true\n",
    "- author: Akshith Sriram"
   ]
  },
  {
   "cell_type": "markdown",
   "metadata": {
    "papermill": {
     "duration": 0.024866,
     "end_time": "2020-08-16T10:03:53.956206",
     "exception": false,
     "start_time": "2020-08-16T10:03:53.931340",
     "status": "completed"
    },
    "tags": []
   },
   "source": [
    "### Key Objectives:\n",
    "- Building a neural network that differentiates two hand-written digits 3 and 8.\n",
    "- Comparing the results of this Neural Network (NN) to that of a Logistic Regression (LR) model.\n",
    "\n",
    "### Requirements:\n",
    "- 'Kudzu' : A neural network library that was designed during our course by [Univ.AI](www.univ.ai). \n",
    "- MNIST Database\n",
    "\n",
    "If MNIST is not installed, use the command `!pip install mnist` given below.\n",
    "It can be run both from the command line and Jupyter Notebook."
   ]
  },
  {
   "cell_type": "code",
   "execution_count": 1,
   "metadata": {
    "execution": {
     "iopub.execute_input": "2020-08-16T10:03:54.015701Z",
     "iopub.status.busy": "2020-08-16T10:03:54.015094Z",
     "iopub.status.idle": "2020-08-16T10:03:55.538808Z",
     "shell.execute_reply": "2020-08-16T10:03:55.537963Z"
    },
    "papermill": {
     "duration": 1.556325,
     "end_time": "2020-08-16T10:03:55.539050",
     "exception": false,
     "start_time": "2020-08-16T10:03:53.982725",
     "status": "completed"
    },
    "tags": []
   },
   "outputs": [
    {
     "name": "stdout",
     "output_type": "stream",
     "text": [
      "Collecting mnist\r\n"
     ]
    },
    {
     "name": "stdout",
     "output_type": "stream",
     "text": [
      "  Downloading mnist-0.2.2-py2.py3-none-any.whl (3.5 kB)\r\n"
     ]
    },
    {
     "name": "stdout",
     "output_type": "stream",
     "text": [
      "Requirement already satisfied: numpy in /opt/hostedtoolcache/Python/3.6.11/x64/lib/python3.6/site-packages (from mnist) (1.19.1)\r\n"
     ]
    },
    {
     "name": "stdout",
     "output_type": "stream",
     "text": [
      "Installing collected packages: mnist\r\n"
     ]
    },
    {
     "name": "stdout",
     "output_type": "stream",
     "text": [
      "Successfully installed mnist-0.2.2\r\n"
     ]
    },
    {
     "name": "stdout",
     "output_type": "stream",
     "text": [
      "\u001b[33mWARNING: You are using pip version 20.2.1; however, version 20.2.2 is available.\r\n",
      "You should consider upgrading via the '/opt/hostedtoolcache/Python/3.6.11/x64/bin/python -m pip install --upgrade pip' command.\u001b[0m\r\n"
     ]
    }
   ],
   "source": [
    "!pip install mnist "
   ]
  },
  {
   "cell_type": "markdown",
   "metadata": {
    "papermill": {
     "duration": 0.026117,
     "end_time": "2020-08-16T10:03:55.592206",
     "exception": false,
     "start_time": "2020-08-16T10:03:55.566089",
     "status": "completed"
    },
    "tags": []
   },
   "source": [
    "#### Importing necessary libraries"
   ]
  },
  {
   "cell_type": "code",
   "execution_count": 2,
   "metadata": {
    "execution": {
     "iopub.execute_input": "2020-08-16T10:03:55.655023Z",
     "iopub.status.busy": "2020-08-16T10:03:55.654419Z",
     "iopub.status.idle": "2020-08-16T10:03:56.250564Z",
     "shell.execute_reply": "2020-08-16T10:03:56.249888Z"
    },
    "papermill": {
     "duration": 0.631713,
     "end_time": "2020-08-16T10:03:56.250696",
     "exception": false,
     "start_time": "2020-08-16T10:03:55.618983",
     "status": "completed"
    },
    "tags": []
   },
   "outputs": [],
   "source": [
    "%load_ext autoreload\n",
    "%autoreload 2\n",
    "\n",
    "%matplotlib inline\n",
    "import matplotlib.pyplot as plt\n",
    "\n",
    "import numpy as np\n",
    "import pandas as pd"
   ]
  },
  {
   "cell_type": "markdown",
   "metadata": {
    "papermill": {
     "duration": 0.027954,
     "end_time": "2020-08-16T10:03:56.310575",
     "exception": false,
     "start_time": "2020-08-16T10:03:56.282621",
     "status": "completed"
    },
    "tags": []
   },
   "source": [
    "### Preparing the Data"
   ]
  },
  {
   "cell_type": "code",
   "execution_count": 3,
   "metadata": {
    "execution": {
     "iopub.execute_input": "2020-08-16T10:03:56.374428Z",
     "iopub.status.busy": "2020-08-16T10:03:56.373566Z",
     "iopub.status.idle": "2020-08-16T10:03:56.387824Z",
     "shell.execute_reply": "2020-08-16T10:03:56.387251Z"
    },
    "papermill": {
     "duration": 0.046383,
     "end_time": "2020-08-16T10:03:56.387962",
     "exception": false,
     "start_time": "2020-08-16T10:03:56.341579",
     "status": "completed"
    },
    "tags": []
   },
   "outputs": [],
   "source": [
    "import mnist"
   ]
  },
  {
   "cell_type": "code",
   "execution_count": 4,
   "metadata": {
    "execution": {
     "iopub.execute_input": "2020-08-16T10:03:56.450212Z",
     "iopub.status.busy": "2020-08-16T10:03:56.447864Z",
     "iopub.status.idle": "2020-08-16T10:03:58.127267Z",
     "shell.execute_reply": "2020-08-16T10:03:58.127745Z"
    },
    "papermill": {
     "duration": 1.711837,
     "end_time": "2020-08-16T10:03:58.127913",
     "exception": false,
     "start_time": "2020-08-16T10:03:56.416076",
     "status": "completed"
    },
    "tags": []
   },
   "outputs": [],
   "source": [
    "train_images = mnist.train_images()\n",
    "train_labels = mnist.train_labels()"
   ]
  },
  {
   "cell_type": "code",
   "execution_count": 5,
   "metadata": {
    "execution": {
     "iopub.execute_input": "2020-08-16T10:03:58.267390Z",
     "iopub.status.busy": "2020-08-16T10:03:58.266771Z",
     "iopub.status.idle": "2020-08-16T10:03:58.287793Z",
     "shell.execute_reply": "2020-08-16T10:03:58.288627Z"
    },
    "papermill": {
     "duration": 0.13274,
     "end_time": "2020-08-16T10:03:58.288830",
     "exception": false,
     "start_time": "2020-08-16T10:03:58.156090",
     "status": "completed"
    },
    "tags": []
   },
   "outputs": [
    {
     "data": {
      "text/plain": [
       "((60000, 28, 28), (60000,))"
      ]
     },
     "execution_count": 5,
     "metadata": {},
     "output_type": "execute_result"
    }
   ],
   "source": [
    "train_images.shape, train_labels.shape"
   ]
  },
  {
   "cell_type": "code",
   "execution_count": 6,
   "metadata": {
    "execution": {
     "iopub.execute_input": "2020-08-16T10:03:58.348734Z",
     "iopub.status.busy": "2020-08-16T10:03:58.348258Z",
     "iopub.status.idle": "2020-08-16T10:03:59.218223Z",
     "shell.execute_reply": "2020-08-16T10:03:59.217224Z"
    },
    "papermill": {
     "duration": 0.901582,
     "end_time": "2020-08-16T10:03:59.218412",
     "exception": false,
     "start_time": "2020-08-16T10:03:58.316830",
     "status": "completed"
    },
    "tags": []
   },
   "outputs": [],
   "source": [
    "test_images = mnist.test_images()\n",
    "test_labels = mnist.test_labels()"
   ]
  },
  {
   "cell_type": "code",
   "execution_count": 7,
   "metadata": {
    "execution": {
     "iopub.execute_input": "2020-08-16T10:03:59.282491Z",
     "iopub.status.busy": "2020-08-16T10:03:59.281855Z",
     "iopub.status.idle": "2020-08-16T10:03:59.298157Z",
     "shell.execute_reply": "2020-08-16T10:03:59.297453Z"
    },
    "papermill": {
     "duration": 0.047601,
     "end_time": "2020-08-16T10:03:59.298293",
     "exception": false,
     "start_time": "2020-08-16T10:03:59.250692",
     "status": "completed"
    },
    "tags": []
   },
   "outputs": [
    {
     "data": {
      "text/plain": [
       "((10000, 28, 28), (10000,))"
      ]
     },
     "execution_count": 7,
     "metadata": {},
     "output_type": "execute_result"
    }
   ],
   "source": [
    "test_images.shape, test_labels.shape"
   ]
  },
  {
   "cell_type": "code",
   "execution_count": 8,
   "metadata": {
    "execution": {
     "iopub.execute_input": "2020-08-16T10:03:59.357249Z",
     "iopub.status.busy": "2020-08-16T10:03:59.356654Z",
     "iopub.status.idle": "2020-08-16T10:03:59.514878Z",
     "shell.execute_reply": "2020-08-16T10:03:59.515396Z"
    },
    "papermill": {
     "duration": 0.19041,
     "end_time": "2020-08-16T10:03:59.515556",
     "exception": false,
     "start_time": "2020-08-16T10:03:59.325146",
     "status": "completed"
    },
    "tags": []
   },
   "outputs": [
    {
     "name": "stdout",
     "output_type": "stream",
     "text": [
      "2\n"
     ]
    },
    {
     "data": {
      "text/plain": [
       "<matplotlib.image.AxesImage at 0x7ff1f927e2b0>"
      ]
     },
     "execution_count": 8,
     "metadata": {},
     "output_type": "execute_result"
    },
    {
     "data": {
      "image/png": "[encoded data removed]",
      "text/plain": [
       "<Figure size 432x288 with 1 Axes>"
      ]
     },
     "metadata": {
      "needs_background": "light"
     },
     "output_type": "display_data"
    }
   ],
   "source": [
    "image_index = 7776 # You may select anything up to 60,000\n",
    "print(train_labels[image_index]) \n",
    "plt.imshow(train_images[image_index], cmap='Greys')"
   ]
  },
  {
   "cell_type": "markdown",
   "metadata": {
    "papermill": {
     "duration": 0.029217,
     "end_time": "2020-08-16T10:03:59.579373",
     "exception": false,
     "start_time": "2020-08-16T10:03:59.550156",
     "status": "completed"
    },
    "tags": []
   },
   "source": [
    "## Filter data to get 3 and 8 out"
   ]
  },
  {
   "cell_type": "code",
   "execution_count": 9,
   "metadata": {
    "execution": {
     "iopub.execute_input": "2020-08-16T10:03:59.651619Z",
     "iopub.status.busy": "2020-08-16T10:03:59.650875Z",
     "iopub.status.idle": "2020-08-16T10:03:59.673133Z",
     "shell.execute_reply": "2020-08-16T10:03:59.672613Z"
    },
    "papermill": {
     "duration": 0.064185,
     "end_time": "2020-08-16T10:03:59.673277",
     "exception": false,
     "start_time": "2020-08-16T10:03:59.609092",
     "status": "completed"
    },
    "tags": []
   },
   "outputs": [],
   "source": [
    "train_filter = np.where((train_labels == 3 ) | (train_labels == 8))\n",
    "test_filter = np.where((test_labels == 3) | (test_labels == 8))\n",
    "X_train, y_train = train_images[train_filter], train_labels[train_filter]\n",
    "X_test, y_test = test_images[test_filter], test_labels[test_filter]"
   ]
  },
  {
   "cell_type": "markdown",
   "metadata": {
    "papermill": {
     "duration": 0.030777,
     "end_time": "2020-08-16T10:03:59.734082",
     "exception": false,
     "start_time": "2020-08-16T10:03:59.703305",
     "status": "completed"
    },
    "tags": []
   },
   "source": [
    "We normalize the pixel values in the 0 to 1 range"
   ]
  },
  {
   "cell_type": "code",
   "execution_count": 10,
   "metadata": {
    "execution": {
     "iopub.execute_input": "2020-08-16T10:03:59.796733Z",
     "iopub.status.busy": "2020-08-16T10:03:59.796094Z",
     "iopub.status.idle": "2020-08-16T10:03:59.853175Z",
     "shell.execute_reply": "2020-08-16T10:03:59.852647Z"
    },
    "papermill": {
     "duration": 0.089161,
     "end_time": "2020-08-16T10:03:59.853324",
     "exception": false,
     "start_time": "2020-08-16T10:03:59.764163",
     "status": "completed"
    },
    "tags": []
   },
   "outputs": [],
   "source": [
    "X_train = X_train/255.\n",
    "X_test = X_test/255."
   ]
  },
  {
   "cell_type": "markdown",
   "metadata": {
    "papermill": {
     "duration": 0.029682,
     "end_time": "2020-08-16T10:03:59.914467",
     "exception": false,
     "start_time": "2020-08-16T10:03:59.884785",
     "status": "completed"
    },
    "tags": []
   },
   "source": [
    "Setup the labels as 1 (when the digit is 3) and 0 (when the digit is 8)"
   ]
  },
  {
   "cell_type": "code",
   "execution_count": 11,
   "metadata": {
    "execution": {
     "iopub.execute_input": "2020-08-16T10:03:59.977710Z",
     "iopub.status.busy": "2020-08-16T10:03:59.977083Z",
     "iopub.status.idle": "2020-08-16T10:03:59.993518Z",
     "shell.execute_reply": "2020-08-16T10:03:59.992591Z"
    },
    "papermill": {
     "duration": 0.049493,
     "end_time": "2020-08-16T10:03:59.993751",
     "exception": false,
     "start_time": "2020-08-16T10:03:59.944258",
     "status": "completed"
    },
    "tags": []
   },
   "outputs": [],
   "source": [
    "y_train = 1*(y_train==3)\n",
    "y_test = 1*(y_test==3)"
   ]
  },
  {
   "cell_type": "code",
   "execution_count": 12,
   "metadata": {
    "execution": {
     "iopub.execute_input": "2020-08-16T10:04:00.067728Z",
     "iopub.status.busy": "2020-08-16T10:04:00.067110Z",
     "iopub.status.idle": "2020-08-16T10:04:00.083737Z",
     "shell.execute_reply": "2020-08-16T10:04:00.083213Z"
    },
    "papermill": {
     "duration": 0.054719,
     "end_time": "2020-08-16T10:04:00.083872",
     "exception": false,
     "start_time": "2020-08-16T10:04:00.029153",
     "status": "completed"
    },
    "tags": []
   },
   "outputs": [
    {
     "data": {
      "text/plain": [
       "((11982, 28, 28), (1984, 28, 28))"
      ]
     },
     "execution_count": 12,
     "metadata": {},
     "output_type": "execute_result"
    }
   ],
   "source": [
    "X_train.shape, X_test.shape"
   ]
  },
  {
   "cell_type": "markdown",
   "metadata": {
    "papermill": {
     "duration": 0.032026,
     "end_time": "2020-08-16T10:04:00.145689",
     "exception": false,
     "start_time": "2020-08-16T10:04:00.113663",
     "status": "completed"
    },
    "tags": []
   },
   "source": [
    "### Reshape the input data to create a linear array"
   ]
  },
  {
   "cell_type": "code",
   "execution_count": 13,
   "metadata": {
    "execution": {
     "iopub.execute_input": "2020-08-16T10:04:00.212046Z",
     "iopub.status.busy": "2020-08-16T10:04:00.211455Z",
     "iopub.status.idle": "2020-08-16T10:04:00.230894Z",
     "shell.execute_reply": "2020-08-16T10:04:00.230398Z"
    },
    "papermill": {
     "duration": 0.054036,
     "end_time": "2020-08-16T10:04:00.231033",
     "exception": false,
     "start_time": "2020-08-16T10:04:00.176997",
     "status": "completed"
    },
    "tags": []
   },
   "outputs": [
    {
     "data": {
      "text/plain": [
       "((11982, 784), (1984, 784))"
      ]
     },
     "execution_count": 13,
     "metadata": {},
     "output_type": "execute_result"
    }
   ],
   "source": [
    "X_train = X_train.reshape(X_train.shape[0], -1)\n",
    "X_test = X_test.reshape(X_test.shape[0], -1)\n",
    "X_train.shape, X_test.shape"
   ]
  },
  {
   "cell_type": "markdown",
   "metadata": {
    "papermill": {
     "duration": 0.030117,
     "end_time": "2020-08-16T10:04:00.291645",
     "exception": false,
     "start_time": "2020-08-16T10:04:00.261528",
     "status": "completed"
    },
    "tags": []
   },
   "source": [
    "### Importing appropriate functions from 'Kudzu'"
   ]
  },
  {
   "cell_type": "code",
   "execution_count": 14,
   "metadata": {
    "execution": {
     "iopub.execute_input": "2020-08-16T10:04:00.359863Z",
     "iopub.status.busy": "2020-08-16T10:04:00.359232Z",
     "iopub.status.idle": "2020-08-16T10:04:00.382995Z",
     "shell.execute_reply": "2020-08-16T10:04:00.381332Z"
    },
    "papermill": {
     "duration": 0.059414,
     "end_time": "2020-08-16T10:04:00.383217",
     "exception": false,
     "start_time": "2020-08-16T10:04:00.323803",
     "status": "completed"
    },
    "tags": []
   },
   "outputs": [],
   "source": [
    "from kudzu.layer import Sigmoid\n",
    "from kudzu.layer import Relu\n",
    "from kudzu.layer import Affine, Sigmoid\n",
    "\n",
    "from kudzu.model import Model\n",
    "from kudzu.train import Learner\n",
    "from kudzu.optim import GD\n",
    "from kudzu.data import Data, Dataloader, Sampler\n",
    "\n",
    "from kudzu.callbacks import AccCallback\n",
    "from kudzu.callbacks import ClfCallback\n",
    "\n",
    "from kudzu.loss import MSE"
   ]
  },
  {
   "cell_type": "markdown",
   "metadata": {
    "papermill": {
     "duration": 0.031464,
     "end_time": "2020-08-16T10:04:00.445548",
     "exception": false,
     "start_time": "2020-08-16T10:04:00.414084",
     "status": "completed"
    },
    "tags": []
   },
   "source": [
    "### Let us create a `Config` class, to store important parameters. \n",
    "This class essentially plays the role of a dictionary."
   ]
  },
  {
   "cell_type": "code",
   "execution_count": 15,
   "metadata": {
    "execution": {
     "iopub.execute_input": "2020-08-16T10:04:00.518415Z",
     "iopub.status.busy": "2020-08-16T10:04:00.511712Z",
     "iopub.status.idle": "2020-08-16T10:04:00.524856Z",
     "shell.execute_reply": "2020-08-16T10:04:00.524351Z"
    },
    "papermill": {
     "duration": 0.048477,
     "end_time": "2020-08-16T10:04:00.525002",
     "exception": false,
     "start_time": "2020-08-16T10:04:00.476525",
     "status": "completed"
    },
    "tags": []
   },
   "outputs": [],
   "source": [
    "class Config:\n",
    "    pass\n",
    "config = Config()\n",
    "config.lr = 0.001\n",
    "config.num_epochs = 251\n",
    "config.bs = 50"
   ]
  },
  {
   "cell_type": "markdown",
   "metadata": {
    "papermill": {
     "duration": 0.030019,
     "end_time": "2020-08-16T10:04:00.585074",
     "exception": false,
     "start_time": "2020-08-16T10:04:00.555055",
     "status": "completed"
    },
    "tags": []
   },
   "source": [
    "### Initializing data to the variables"
   ]
  },
  {
   "cell_type": "code",
   "execution_count": 16,
   "metadata": {
    "execution": {
     "iopub.execute_input": "2020-08-16T10:04:00.650112Z",
     "iopub.status.busy": "2020-08-16T10:04:00.649514Z",
     "iopub.status.idle": "2020-08-16T10:04:00.662589Z",
     "shell.execute_reply": "2020-08-16T10:04:00.663013Z"
    },
    "papermill": {
     "duration": 0.047928,
     "end_time": "2020-08-16T10:04:00.663180",
     "exception": false,
     "start_time": "2020-08-16T10:04:00.615252",
     "status": "completed"
    },
    "tags": []
   },
   "outputs": [],
   "source": [
    "data = Data(X_train, y_train.reshape(-1,1))\n",
    "sampler = Sampler(data, config.bs, shuffle=True)\n",
    "\n",
    "dl = Dataloader(data, sampler)\n",
    "\n",
    "opt = GD(config.lr)\n",
    "loss = MSE()"
   ]
  },
  {
   "cell_type": "code",
   "execution_count": 17,
   "metadata": {
    "execution": {
     "iopub.execute_input": "2020-08-16T10:04:00.728210Z",
     "iopub.status.busy": "2020-08-16T10:04:00.726456Z",
     "iopub.status.idle": "2020-08-16T10:04:00.742017Z",
     "shell.execute_reply": "2020-08-16T10:04:00.741481Z"
    },
    "papermill": {
     "duration": 0.049227,
     "end_time": "2020-08-16T10:04:00.742143",
     "exception": false,
     "start_time": "2020-08-16T10:04:00.692916",
     "status": "completed"
    },
    "tags": []
   },
   "outputs": [],
   "source": [
    "training_xdata = X_train\n",
    "testing_xdata = X_test\n",
    "training_ydata = y_train.reshape(-1,1)\n",
    "testing_ydata = y_test.reshape(-1,1)"
   ]
  },
  {
   "cell_type": "markdown",
   "metadata": {
    "papermill": {
     "duration": 0.032859,
     "end_time": "2020-08-16T10:04:00.804592",
     "exception": false,
     "start_time": "2020-08-16T10:04:00.771733",
     "status": "completed"
    },
    "tags": []
   },
   "source": [
    "### Running Models with the Training data\n",
    "Details about the network layers:\n",
    "- A first affine layer has 784 inputs and does 100 affine transforms. These are followed by a Relu\n",
    "- A second affine layer has 100 inputs from the 100 activations of the past layer, and does 100 affine transforms. These are followed by a Relu\n",
    "- A third affine layer has 100 activations and does 2 affine transformations to create an embedding for visualization. There is no non-linearity here.\n",
    "- A final \"logistic regression\" which has an affine transform from 2 inputs to 1 output, which is squeezed through a sigmoid.\n",
    "\n",
    "Help taken from Anshuman's Notebook."
   ]
  },
  {
   "cell_type": "code",
   "execution_count": 18,
   "metadata": {
    "execution": {
     "iopub.execute_input": "2020-08-16T10:04:00.875051Z",
     "iopub.status.busy": "2020-08-16T10:04:00.873969Z",
     "iopub.status.idle": "2020-08-16T10:04:00.894726Z",
     "shell.execute_reply": "2020-08-16T10:04:00.895230Z"
    },
    "papermill": {
     "duration": 0.058808,
     "end_time": "2020-08-16T10:04:00.895388",
     "exception": false,
     "start_time": "2020-08-16T10:04:00.836580",
     "status": "completed"
    },
    "tags": []
   },
   "outputs": [],
   "source": [
    "# layers for the Neural Network\n",
    "layers = [Affine(\"first\", 784, 100), Relu(\"first\"), Affine(\"second\", 100, 100), Relu(\"second\"), Affine(\"third\", 100, 2), Affine(\"final\", 2, 1), Sigmoid(\"final\")]\n",
    "model_nn = Model(layers)\n",
    "\n",
    "# layers for the Logistic Regression\n",
    "layers_lr = [Affine(\"logits\", 784, 1), Sigmoid(\"sigmoid\")]\n",
    "model_lr = Model(layers_lr)"
   ]
  },
  {
   "cell_type": "code",
   "execution_count": 19,
   "metadata": {
    "execution": {
     "iopub.execute_input": "2020-08-16T10:04:00.959067Z",
     "iopub.status.busy": "2020-08-16T10:04:00.958458Z",
     "iopub.status.idle": "2020-08-16T10:04:00.972312Z",
     "shell.execute_reply": "2020-08-16T10:04:00.971824Z"
    },
    "papermill": {
     "duration": 0.047413,
     "end_time": "2020-08-16T10:04:00.972436",
     "exception": false,
     "start_time": "2020-08-16T10:04:00.925023",
     "status": "completed"
    },
    "tags": []
   },
   "outputs": [],
   "source": [
    "# suffix _nn stands for Neural Network.\n",
    "learner_nn = Learner(loss, model_nn, opt, config.num_epochs)\n",
    "acc_nn = ClfCallback(learner_nn, config.bs, training_xdata , testing_xdata, training_ydata, testing_ydata)\n",
    "learner_nn.set_callbacks([acc_nn])"
   ]
  },
  {
   "cell_type": "code",
   "execution_count": 20,
   "metadata": {
    "execution": {
     "iopub.execute_input": "2020-08-16T10:04:01.038538Z",
     "iopub.status.busy": "2020-08-16T10:04:01.037722Z",
     "iopub.status.idle": "2020-08-16T10:05:29.123297Z",
     "shell.execute_reply": "2020-08-16T10:05:29.124053Z"
    },
    "papermill": {
     "duration": 88.121149,
     "end_time": "2020-08-16T10:05:29.124215",
     "exception": false,
     "start_time": "2020-08-16T10:04:01.003066",
     "status": "completed"
    },
    "tags": []
   },
   "outputs": [
    {
     "name": "stdout",
     "output_type": "stream",
     "text": [
      "====== Neural Network ======\n"
     ]
    },
    {
     "name": "stdout",
     "output_type": "stream",
     "text": [
      "Epoch 0, Loss 0.2441\n",
      "Training Accuracy: 0.6890, Testing Accuracy: 0.6809\n",
      "\n"
     ]
    },
    {
     "name": "stdout",
     "output_type": "stream",
     "text": [
      "Epoch 10, Loss 0.0793\n",
      "Training Accuracy: 0.9212, Testing Accuracy: 0.9299\n",
      "\n"
     ]
    },
    {
     "name": "stdout",
     "output_type": "stream",
     "text": [
      "Epoch 20, Loss 0.0524\n",
      "Training Accuracy: 0.9436, Testing Accuracy: 0.9516\n",
      "\n"
     ]
    },
    {
     "name": "stdout",
     "output_type": "stream",
     "text": [
      "Epoch 30, Loss 0.0426\n",
      "Training Accuracy: 0.9511, Testing Accuracy: 0.9592\n",
      "\n"
     ]
    },
    {
     "name": "stdout",
     "output_type": "stream",
     "text": [
      "Epoch 40, Loss 0.0374\n",
      "Training Accuracy: 0.9560, Testing Accuracy: 0.9632\n",
      "\n"
     ]
    },
    {
     "name": "stdout",
     "output_type": "stream",
     "text": [
      "Epoch 50, Loss 0.0341\n",
      "Training Accuracy: 0.9594, Testing Accuracy: 0.9667\n",
      "\n"
     ]
    },
    {
     "name": "stdout",
     "output_type": "stream",
     "text": [
      "Epoch 60, Loss 0.0316\n",
      "Training Accuracy: 0.9624, Testing Accuracy: 0.9682\n",
      "\n"
     ]
    },
    {
     "name": "stdout",
     "output_type": "stream",
     "text": [
      "Epoch 70, Loss 0.0298\n",
      "Training Accuracy: 0.9649, Testing Accuracy: 0.9688\n",
      "\n"
     ]
    },
    {
     "name": "stdout",
     "output_type": "stream",
     "text": [
      "Epoch 80, Loss 0.0283\n",
      "Training Accuracy: 0.9675, Testing Accuracy: 0.9698\n",
      "\n"
     ]
    },
    {
     "name": "stdout",
     "output_type": "stream",
     "text": [
      "Epoch 90, Loss 0.0271\n",
      "Training Accuracy: 0.9687, Testing Accuracy: 0.9703\n",
      "\n"
     ]
    },
    {
     "name": "stdout",
     "output_type": "stream",
     "text": [
      "Epoch 100, Loss 0.026\n",
      "Training Accuracy: 0.9701, Testing Accuracy: 0.9713\n",
      "\n"
     ]
    },
    {
     "name": "stdout",
     "output_type": "stream",
     "text": [
      "Epoch 110, Loss 0.0251\n",
      "Training Accuracy: 0.9712, Testing Accuracy: 0.9718\n",
      "\n"
     ]
    },
    {
     "name": "stdout",
     "output_type": "stream",
     "text": [
      "Epoch 120, Loss 0.0242\n",
      "Training Accuracy: 0.9722, Testing Accuracy: 0.9713\n",
      "\n"
     ]
    },
    {
     "name": "stdout",
     "output_type": "stream",
     "text": [
      "Epoch 130, Loss 0.0235\n",
      "Training Accuracy: 0.9735, Testing Accuracy: 0.9718\n",
      "\n"
     ]
    },
    {
     "name": "stdout",
     "output_type": "stream",
     "text": [
      "Epoch 140, Loss 0.0228\n",
      "Training Accuracy: 0.9743, Testing Accuracy: 0.9713\n",
      "\n"
     ]
    },
    {
     "name": "stdout",
     "output_type": "stream",
     "text": [
      "Epoch 150, Loss 0.0221\n",
      "Training Accuracy: 0.9750, Testing Accuracy: 0.9718\n",
      "\n"
     ]
    },
    {
     "name": "stdout",
     "output_type": "stream",
     "text": [
      "Epoch 160, Loss 0.0216\n",
      "Training Accuracy: 0.9755, Testing Accuracy: 0.9728\n",
      "\n"
     ]
    },
    {
     "name": "stdout",
     "output_type": "stream",
     "text": [
      "Epoch 170, Loss 0.021\n",
      "Training Accuracy: 0.9760, Testing Accuracy: 0.9733\n",
      "\n"
     ]
    },
    {
     "name": "stdout",
     "output_type": "stream",
     "text": [
      "Epoch 180, Loss 0.0205\n",
      "Training Accuracy: 0.9767, Testing Accuracy: 0.9738\n",
      "\n"
     ]
    },
    {
     "name": "stdout",
     "output_type": "stream",
     "text": [
      "Epoch 190, Loss 0.02\n",
      "Training Accuracy: 0.9774, Testing Accuracy: 0.9738\n",
      "\n"
     ]
    },
    {
     "name": "stdout",
     "output_type": "stream",
     "text": [
      "Epoch 200, Loss 0.0195\n",
      "Training Accuracy: 0.9778, Testing Accuracy: 0.9748\n",
      "\n"
     ]
    },
    {
     "name": "stdout",
     "output_type": "stream",
     "text": [
      "Epoch 210, Loss 0.0191\n",
      "Training Accuracy: 0.9786, Testing Accuracy: 0.9758\n",
      "\n"
     ]
    },
    {
     "name": "stdout",
     "output_type": "stream",
     "text": [
      "Epoch 220, Loss 0.0187\n",
      "Training Accuracy: 0.9794, Testing Accuracy: 0.9758\n",
      "\n"
     ]
    },
    {
     "name": "stdout",
     "output_type": "stream",
     "text": [
      "Epoch 230, Loss 0.0183\n",
      "Training Accuracy: 0.9798, Testing Accuracy: 0.9768\n",
      "\n"
     ]
    },
    {
     "name": "stdout",
     "output_type": "stream",
     "text": [
      "Epoch 240, Loss 0.0179\n",
      "Training Accuracy: 0.9800, Testing Accuracy: 0.9763\n",
      "\n"
     ]
    },
    {
     "name": "stdout",
     "output_type": "stream",
     "text": [
      "Epoch 250, Loss 0.0176\n",
      "Training Accuracy: 0.9808, Testing Accuracy: 0.9773\n",
      "\n"
     ]
    },
    {
     "data": {
      "text/plain": [
       "0.0009281895448185259"
      ]
     },
     "execution_count": 20,
     "metadata": {},
     "output_type": "execute_result"
    }
   ],
   "source": [
    "print(\"====== Neural Network ======\")\n",
    "learner_nn.train_loop(dl)"
   ]
  },
  {
   "cell_type": "markdown",
   "metadata": {
    "papermill": {
     "duration": 0.037422,
     "end_time": "2020-08-16T10:05:29.205435",
     "exception": false,
     "start_time": "2020-08-16T10:05:29.168013",
     "status": "completed"
    },
    "tags": []
   },
   "source": [
    "### Logistic Regression based Implementation."
   ]
  },
  {
   "cell_type": "code",
   "execution_count": 21,
   "metadata": {
    "execution": {
     "iopub.execute_input": "2020-08-16T10:05:29.286371Z",
     "iopub.status.busy": "2020-08-16T10:05:29.285769Z",
     "iopub.status.idle": "2020-08-16T10:05:29.298208Z",
     "shell.execute_reply": "2020-08-16T10:05:29.298672Z"
    },
    "papermill": {
     "duration": 0.055235,
     "end_time": "2020-08-16T10:05:29.298834",
     "exception": false,
     "start_time": "2020-08-16T10:05:29.243599",
     "status": "completed"
    },
    "tags": []
   },
   "outputs": [],
   "source": [
    "learner_lr = Learner(loss, model_lr, opt, config.num_epochs)\n",
    "acc_lr = ClfCallback(learner_lr, config.bs, training_xdata , testing_xdata, training_ydata, testing_ydata)\n",
    "learner_lr.set_callbacks([acc_lr])"
   ]
  },
  {
   "cell_type": "code",
   "execution_count": 22,
   "metadata": {
    "execution": {
     "iopub.execute_input": "2020-08-16T10:05:29.380742Z",
     "iopub.status.busy": "2020-08-16T10:05:29.380159Z",
     "iopub.status.idle": "2020-08-16T10:05:45.452860Z",
     "shell.execute_reply": "2020-08-16T10:05:45.453473Z"
    },
    "papermill": {
     "duration": 16.116241,
     "end_time": "2020-08-16T10:05:45.453632",
     "exception": false,
     "start_time": "2020-08-16T10:05:29.337391",
     "status": "completed"
    },
    "tags": []
   },
   "outputs": [
    {
     "name": "stdout",
     "output_type": "stream",
     "text": [
      "====== Logistic Regression ======\n",
      "Epoch 0, Loss 0.249\n",
      "Training Accuracy: 0.6637, Testing Accuracy: 0.7137\n",
      "\n"
     ]
    },
    {
     "name": "stdout",
     "output_type": "stream",
     "text": [
      "Epoch 10, Loss 0.1044\n",
      "Training Accuracy: 0.9107, Testing Accuracy: 0.9133\n",
      "\n"
     ]
    },
    {
     "name": "stdout",
     "output_type": "stream",
     "text": [
      "Epoch 20, Loss 0.0802\n",
      "Training Accuracy: 0.9277, Testing Accuracy: 0.9335\n",
      "\n"
     ]
    },
    {
     "name": "stdout",
     "output_type": "stream",
     "text": [
      "Epoch 30, Loss 0.0691\n",
      "Training Accuracy: 0.9349, Testing Accuracy: 0.9441\n",
      "\n"
     ]
    },
    {
     "name": "stdout",
     "output_type": "stream",
     "text": [
      "Epoch 40, Loss 0.0625\n",
      "Training Accuracy: 0.9393, Testing Accuracy: 0.9486\n",
      "\n"
     ]
    },
    {
     "name": "stdout",
     "output_type": "stream",
     "text": [
      "Epoch 50, Loss 0.058\n",
      "Training Accuracy: 0.9435, Testing Accuracy: 0.9531\n",
      "\n"
     ]
    },
    {
     "name": "stdout",
     "output_type": "stream",
     "text": [
      "Epoch 60, Loss 0.0546\n",
      "Training Accuracy: 0.9455, Testing Accuracy: 0.9561\n",
      "\n"
     ]
    },
    {
     "name": "stdout",
     "output_type": "stream",
     "text": [
      "Epoch 70, Loss 0.0521\n",
      "Training Accuracy: 0.9466, Testing Accuracy: 0.9577\n",
      "\n"
     ]
    },
    {
     "name": "stdout",
     "output_type": "stream",
     "text": [
      "Epoch 80, Loss 0.05\n",
      "Training Accuracy: 0.9479, Testing Accuracy: 0.9572\n",
      "\n"
     ]
    },
    {
     "name": "stdout",
     "output_type": "stream",
     "text": [
      "Epoch 90, Loss 0.0483\n",
      "Training Accuracy: 0.9488, Testing Accuracy: 0.9582\n",
      "\n"
     ]
    },
    {
     "name": "stdout",
     "output_type": "stream",
     "text": [
      "Epoch 100, Loss 0.0468\n",
      "Training Accuracy: 0.9505, Testing Accuracy: 0.9602\n",
      "\n"
     ]
    },
    {
     "name": "stdout",
     "output_type": "stream",
     "text": [
      "Epoch 110, Loss 0.0456\n",
      "Training Accuracy: 0.9518, Testing Accuracy: 0.9612\n",
      "\n"
     ]
    },
    {
     "name": "stdout",
     "output_type": "stream",
     "text": [
      "Epoch 120, Loss 0.0445\n",
      "Training Accuracy: 0.9531, Testing Accuracy: 0.9622\n",
      "\n"
     ]
    },
    {
     "name": "stdout",
     "output_type": "stream",
     "text": [
      "Epoch 130, Loss 0.0435\n",
      "Training Accuracy: 0.9537, Testing Accuracy: 0.9632\n",
      "\n"
     ]
    },
    {
     "name": "stdout",
     "output_type": "stream",
     "text": [
      "Epoch 140, Loss 0.0427\n",
      "Training Accuracy: 0.9538, Testing Accuracy: 0.9627\n",
      "\n"
     ]
    },
    {
     "name": "stdout",
     "output_type": "stream",
     "text": [
      "Epoch 150, Loss 0.0419\n",
      "Training Accuracy: 0.9551, Testing Accuracy: 0.9632\n",
      "\n"
     ]
    },
    {
     "name": "stdout",
     "output_type": "stream",
     "text": [
      "Epoch 160, Loss 0.0412\n",
      "Training Accuracy: 0.9559, Testing Accuracy: 0.9652\n",
      "\n"
     ]
    },
    {
     "name": "stdout",
     "output_type": "stream",
     "text": [
      "Epoch 170, Loss 0.0406\n",
      "Training Accuracy: 0.9568, Testing Accuracy: 0.9657\n",
      "\n"
     ]
    },
    {
     "name": "stdout",
     "output_type": "stream",
     "text": [
      "Epoch 180, Loss 0.04\n",
      "Training Accuracy: 0.9575, Testing Accuracy: 0.9662\n",
      "\n"
     ]
    },
    {
     "name": "stdout",
     "output_type": "stream",
     "text": [
      "Epoch 190, Loss 0.0394\n",
      "Training Accuracy: 0.9580, Testing Accuracy: 0.9667\n",
      "\n"
     ]
    },
    {
     "name": "stdout",
     "output_type": "stream",
     "text": [
      "Epoch 200, Loss 0.039\n",
      "Training Accuracy: 0.9584, Testing Accuracy: 0.9672\n",
      "\n"
     ]
    },
    {
     "name": "stdout",
     "output_type": "stream",
     "text": [
      "Epoch 210, Loss 0.0385\n",
      "Training Accuracy: 0.9584, Testing Accuracy: 0.9667\n",
      "\n"
     ]
    },
    {
     "name": "stdout",
     "output_type": "stream",
     "text": [
      "Epoch 220, Loss 0.0381\n",
      "Training Accuracy: 0.9587, Testing Accuracy: 0.9672\n",
      "\n"
     ]
    },
    {
     "name": "stdout",
     "output_type": "stream",
     "text": [
      "Epoch 230, Loss 0.0377\n",
      "Training Accuracy: 0.9590, Testing Accuracy: 0.9667\n",
      "\n"
     ]
    },
    {
     "name": "stdout",
     "output_type": "stream",
     "text": [
      "Epoch 240, Loss 0.0373\n",
      "Training Accuracy: 0.9594, Testing Accuracy: 0.9672\n",
      "\n"
     ]
    },
    {
     "name": "stdout",
     "output_type": "stream",
     "text": [
      "Epoch 250, Loss 0.0369\n",
      "Training Accuracy: 0.9596, Testing Accuracy: 0.9672\n",
      "\n"
     ]
    },
    {
     "data": {
      "text/plain": [
       "0.03398520144705825"
      ]
     },
     "execution_count": 22,
     "metadata": {},
     "output_type": "execute_result"
    }
   ],
   "source": [
    "print(\"====== Logistic Regression ======\")\n",
    "learner_lr.train_loop(dl)"
   ]
  },
  {
   "cell_type": "markdown",
   "metadata": {
    "papermill": {
     "duration": 0.045469,
     "end_time": "2020-08-16T10:05:45.545216",
     "exception": false,
     "start_time": "2020-08-16T10:05:45.499747",
     "status": "completed"
    },
    "tags": []
   },
   "source": [
    "### Comparing results of NN and LR"
   ]
  },
  {
   "cell_type": "code",
   "execution_count": 23,
   "metadata": {
    "execution": {
     "iopub.execute_input": "2020-08-16T10:05:45.640295Z",
     "iopub.status.busy": "2020-08-16T10:05:45.639684Z",
     "iopub.status.idle": "2020-08-16T10:05:45.878204Z",
     "shell.execute_reply": "2020-08-16T10:05:45.878596Z"
    },
    "papermill": {
     "duration": 0.290528,
     "end_time": "2020-08-16T10:05:45.878802",
     "exception": false,
     "start_time": "2020-08-16T10:05:45.588274",
     "status": "completed"
    },
    "tags": []
   },
   "outputs": [
    {
     "data": {
      "text/plain": [
       "<matplotlib.legend.Legend at 0x7ff1f8e5b9e8>"
      ]
     },
     "execution_count": 23,
     "metadata": {},
     "output_type": "execute_result"
    },
    {
     "data": {
      "image/png": "[encoded data removed]",
      "text/plain": [
       "<Figure size 1080x720 with 1 Axes>"
      ]
     },
     "metadata": {
      "needs_background": "light"
     },
     "output_type": "display_data"
    }
   ],
   "source": [
    "plt.figure(figsize=(15,10))\n",
    "\n",
    "# Neural Network plots\n",
    "plt.plot(acc_nn.accuracies, 'r-', label = \"Training Accuracies - NN\")\n",
    "plt.plot(acc_nn.test_accuracies, 'g-', label = \"Testing Accuracies - NN\")\n",
    "\n",
    "# Logistic Regression plots\n",
    "plt.plot(acc_lr.accuracies, 'k-', label = \"Training Accuracies - LR\")\n",
    "plt.plot(acc_lr.test_accuracies, 'b-', label = \"Testing Accuracies - LR\")\n",
    "\n",
    "plt.ylim(0.8, 1)\n",
    "\n",
    "plt.legend()\n",
    "\n"
   ]
  },
  {
   "cell_type": "markdown",
   "metadata": {
    "papermill": {
     "duration": 0.046836,
     "end_time": "2020-08-16T10:05:45.972210",
     "exception": false,
     "start_time": "2020-08-16T10:05:45.925374",
     "status": "completed"
    },
    "tags": []
   },
   "source": [
    "### From the plot, we can observe the following:\n",
    "- Neural Network achieves higher accuracy than the Logistic Regression model.\n",
    "- This apparently, is because of overfitting, i.e. NN captures more noise than data.\n",
    "- Testing accuracy of NN drops below the Training accuracy at higher epochs. This explains the over-fitting on training data.\n",
    "- Logistic Regression gives a reliable accuracy, without the above mentioned problem.\n"
   ]
  },
  {
   "cell_type": "markdown",
   "metadata": {
    "papermill": {
     "duration": 0.04661,
     "end_time": "2020-08-16T10:05:46.067468",
     "exception": false,
     "start_time": "2020-08-16T10:05:46.020858",
     "status": "completed"
    },
    "tags": []
   },
   "source": [
    "### Moving till the last but one layer (excluding it).\n",
    "#### Plotting the outputs of this layer of the NN."
   ]
  },
  {
   "cell_type": "code",
   "execution_count": 24,
   "metadata": {
    "execution": {
     "iopub.execute_input": "2020-08-16T10:05:46.170021Z",
     "iopub.status.busy": "2020-08-16T10:05:46.168772Z",
     "iopub.status.idle": "2020-08-16T10:05:46.182038Z",
     "shell.execute_reply": "2020-08-16T10:05:46.181527Z"
    },
    "papermill": {
     "duration": 0.067015,
     "end_time": "2020-08-16T10:05:46.182168",
     "exception": false,
     "start_time": "2020-08-16T10:05:46.115153",
     "status": "completed"
    },
    "tags": []
   },
   "outputs": [],
   "source": [
    "model_new = Model(layers[:-2])"
   ]
  },
  {
   "cell_type": "code",
   "execution_count": 25,
   "metadata": {
    "execution": {
     "iopub.execute_input": "2020-08-16T10:05:46.278094Z",
     "iopub.status.busy": "2020-08-16T10:05:46.277488Z",
     "iopub.status.idle": "2020-08-16T10:05:46.297970Z",
     "shell.execute_reply": "2020-08-16T10:05:46.298486Z"
    },
    "papermill": {
     "duration": 0.070101,
     "end_time": "2020-08-16T10:05:46.298640",
     "exception": false,
     "start_time": "2020-08-16T10:05:46.228539",
     "status": "completed"
    },
    "tags": []
   },
   "outputs": [],
   "source": [
    "plot_testing = model_new(testing_xdata)"
   ]
  },
  {
   "cell_type": "code",
   "execution_count": 26,
   "metadata": {
    "execution": {
     "iopub.execute_input": "2020-08-16T10:05:46.398630Z",
     "iopub.status.busy": "2020-08-16T10:05:46.397783Z",
     "iopub.status.idle": "2020-08-16T10:05:46.591601Z",
     "shell.execute_reply": "2020-08-16T10:05:46.591043Z"
    },
    "papermill": {
     "duration": 0.245751,
     "end_time": "2020-08-16T10:05:46.591742",
     "exception": false,
     "start_time": "2020-08-16T10:05:46.345991",
     "status": "completed"
    },
    "tags": []
   },
   "outputs": [
    {
     "data": {
      "text/plain": [
       "Text(0.5, 1.0, 'Outputs')"
      ]
     },
     "execution_count": 26,
     "metadata": {},
     "output_type": "execute_result"
    },
    {
     "data": {
      "image/png": "[encoded data removed]",
      "text/plain": [
       "<Figure size 576x504 with 1 Axes>"
      ]
     },
     "metadata": {
      "needs_background": "light"
     },
     "output_type": "display_data"
    }
   ],
   "source": [
    "plt.figure(figsize=(8,7))\n",
    "plt.scatter(plot_testing[:,0], plot_testing[:,1], alpha = 0.1, c = y_test.ravel());\n",
    "plt.title('Outputs')"
   ]
  },
  {
   "cell_type": "markdown",
   "metadata": {
    "papermill": {
     "duration": 0.05085,
     "end_time": "2020-08-16T10:05:46.693855",
     "exception": false,
     "start_time": "2020-08-16T10:05:46.643005",
     "status": "completed"
    },
    "tags": []
   },
   "source": [
    "### Plotting probability contours"
   ]
  },
  {
   "cell_type": "code",
   "execution_count": 27,
   "metadata": {
    "execution": {
     "iopub.execute_input": "2020-08-16T10:05:46.798671Z",
     "iopub.status.busy": "2020-08-16T10:05:46.798038Z",
     "iopub.status.idle": "2020-08-16T10:05:46.811287Z",
     "shell.execute_reply": "2020-08-16T10:05:46.810814Z"
    },
    "papermill": {
     "duration": 0.067176,
     "end_time": "2020-08-16T10:05:46.811423",
     "exception": false,
     "start_time": "2020-08-16T10:05:46.744247",
     "status": "completed"
    },
    "tags": []
   },
   "outputs": [],
   "source": [
    "model_prob = Model(layers[-2:]) "
   ]
  },
  {
   "cell_type": "code",
   "execution_count": 28,
   "metadata": {
    "execution": {
     "iopub.execute_input": "2020-08-16T10:05:46.924185Z",
     "iopub.status.busy": "2020-08-16T10:05:46.923573Z",
     "iopub.status.idle": "2020-08-16T10:05:46.939297Z",
     "shell.execute_reply": "2020-08-16T10:05:46.939756Z"
    },
    "papermill": {
     "duration": 0.072117,
     "end_time": "2020-08-16T10:05:46.939912",
     "exception": false,
     "start_time": "2020-08-16T10:05:46.867795",
     "status": "completed"
    },
    "tags": []
   },
   "outputs": [],
   "source": [
    "# Adjust the x and y ranges according to the above generated plot.\n",
    "x_range = np.linspace(-4, 1, 100) \n",
    "y_range = np.linspace(-6, 6, 100) \n",
    "x_grid, y_grid = np.meshgrid(x_range, y_range) # x_grid and y_grig are of size 100 X 100\n",
    "\n",
    "# converting x_grid and y_grid to continuous arrays\n",
    "x_grid_flat = np.ravel(x_grid)\n",
    "y_grid_flat = np.ravel(y_grid)\n",
    "\n",
    "# The last layer of the current model takes two columns as input. Hence transpose of np.vstack() is required.\n",
    "X = np.vstack((x_grid_flat, y_grid_flat)).T\n",
    "\n",
    "# x_grid and y_grid are of size 100 x 100\n",
    "probability_contour = model_prob(X).reshape(100,100) "
   ]
  },
  {
   "cell_type": "code",
   "execution_count": 29,
   "metadata": {
    "execution": {
     "iopub.execute_input": "2020-08-16T10:05:47.048067Z",
     "iopub.status.busy": "2020-08-16T10:05:47.047374Z",
     "iopub.status.idle": "2020-08-16T10:05:47.292850Z",
     "shell.execute_reply": "2020-08-16T10:05:47.293326Z"
    },
    "papermill": {
     "duration": 0.302668,
     "end_time": "2020-08-16T10:05:47.293502",
     "exception": false,
     "start_time": "2020-08-16T10:05:46.990834",
     "status": "completed"
    },
    "tags": []
   },
   "outputs": [
    {
     "data": {
      "image/png": "[encoded data removed]",
      "text/plain": [
       "<Figure size 720x648 with 1 Axes>"
      ]
     },
     "metadata": {
      "needs_background": "light"
     },
     "output_type": "display_data"
    }
   ],
   "source": [
    "plt.figure(figsize=(10,9))\n",
    "plt.scatter(plot_testing[:,0], plot_testing[:,1], alpha = 0.1, c = y_test.ravel())\n",
    "contours = plt.contour(x_grid,y_grid,probability_contour)\n",
    "plt.title('Probability Contours')\n",
    "plt.clabel(contours, inline = True );"
   ]
  }
 ],
 "metadata": {
  "kernelspec": {
   "display_name": "Python 3",
   "language": "python",
   "name": "python3"
  },
  "language_info": {
   "codemirror_mode": {
    "name": "ipython",
    "version": 3
   },
   "file_extension": ".py",
   "mimetype": "text/x-python",
   "name": "python",
   "nbconvert_exporter": "python",
   "pygments_lexer": "ipython3",
   "version": "3.6.11"
  },
  "papermill": {
   "duration": 114.999391,
   "end_time": "2020-08-16T10:05:47.754409",
   "environment_variables": {},
   "exception": null,
   "input_path": "2020-08-11-NeuralNetwork.ipynb",
   "output_path": "2020-08-11-NeuralNetwork.ipynb",
   "parameters": {},
   "start_time": "2020-08-16T10:03:52.755018",
   "version": "2.1.2"
  }
 },
 "nbformat": 4,
 "nbformat_minor": 4
}