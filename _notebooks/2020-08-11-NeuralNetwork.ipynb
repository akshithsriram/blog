{
 "cells": [
  {
   "cell_type": "markdown",
   "metadata": {
    "papermill": {
     "duration": 0.033024,
     "end_time": "2020-12-21T10:08:35.242970",
     "exception": false,
     "start_time": "2020-12-21T10:08:35.209946",
     "status": "completed"
    },
    "tags": []
   },
   "source": [
    "# \"A Basic Neural Network: Differentiate Hand-Written Digits\"\n",
    "\n",
    "- badges: true\n",
    "- author: Akshith Sriram"
   ]
  },
  {
   "cell_type": "markdown",
   "metadata": {
    "papermill": {
     "duration": 0.201993,
     "end_time": "2020-12-21T10:08:35.666695",
     "exception": false,
     "start_time": "2020-12-21T10:08:35.464702",
     "status": "completed"
    },
    "tags": []
   },
   "source": [
    "### Key Objectives:\n",
    "- Building a neural network that differentiates two hand-written digits 3 and 8.\n",
    "- Comparing the results of this Neural Network (NN) to that of a Logistic Regression (LR) model.\n",
    "\n",
    "### Requirements:\n",
    "- 'Kudzu' : A neural network library that was designed during our course by [Univ.AI](www.univ.ai). \n",
    "- MNIST Database\n",
    "\n",
    "If MNIST is not installed, use the command `!pip install mnist` given below.\n",
    "It can be run both from the command line and Jupyter Notebook."
   ]
  },
  {
   "cell_type": "code",
   "execution_count": 1,
   "metadata": {
    "execution": {
     "iopub.execute_input": "2020-12-21T10:08:35.734456Z",
     "iopub.status.busy": "2020-12-21T10:08:35.733646Z",
     "iopub.status.idle": "2020-12-21T10:08:37.236026Z",
     "shell.execute_reply": "2020-12-21T10:08:37.237414Z"
    },
    "papermill": {
     "duration": 1.543516,
     "end_time": "2020-12-21T10:08:37.237920",
     "exception": false,
     "start_time": "2020-12-21T10:08:35.694404",
     "status": "completed"
    },
    "tags": []
   },
   "outputs": [
    {
     "name": "stdout",
     "output_type": "stream",
     "text": [
      "Collecting mnist\r\n"
     ]
    },
    {
     "name": "stdout",
     "output_type": "stream",
     "text": [
      "  Downloading mnist-0.2.2-py2.py3-none-any.whl (3.5 kB)\r\n",
      "Requirement already satisfied: numpy in /opt/hostedtoolcache/Python/3.6.12/x64/lib/python3.6/site-packages (from mnist) (1.19.4)\r\n"
     ]
    },
    {
     "name": "stdout",
     "output_type": "stream",
     "text": [
      "Installing collected packages: mnist\r\n",
      "Successfully installed mnist-0.2.2\r\n"
     ]
    },
    {
     "name": "stdout",
     "output_type": "stream",
     "text": [
      "\u001b[33mWARNING: You are using pip version 20.3.1; however, version 20.3.3 is available.\r\n",
      "You should consider upgrading via the '/opt/hostedtoolcache/Python/3.6.12/x64/bin/python -m pip install --upgrade pip' command.\u001b[0m\r\n"
     ]
    }
   ],
   "source": [
    "!pip install mnist "
   ]
  },
  {
   "cell_type": "markdown",
   "metadata": {
    "papermill": {
     "duration": 0.027418,
     "end_time": "2020-12-21T10:08:37.294112",
     "exception": false,
     "start_time": "2020-12-21T10:08:37.266694",
     "status": "completed"
    },
    "tags": []
   },
   "source": [
    "#### Importing necessary libraries"
   ]
  },
  {
   "cell_type": "code",
   "execution_count": 2,
   "metadata": {
    "execution": {
     "iopub.execute_input": "2020-12-21T10:08:37.360576Z",
     "iopub.status.busy": "2020-12-21T10:08:37.359941Z",
     "iopub.status.idle": "2020-12-21T10:08:37.944130Z",
     "shell.execute_reply": "2020-12-21T10:08:37.943577Z"
    },
    "papermill": {
     "duration": 0.620097,
     "end_time": "2020-12-21T10:08:37.944284",
     "exception": false,
     "start_time": "2020-12-21T10:08:37.324187",
     "status": "completed"
    },
    "tags": []
   },
   "outputs": [],
   "source": [
    "%load_ext autoreload\n",
    "%autoreload 2\n",
    "\n",
    "%matplotlib inline\n",
    "import matplotlib.pyplot as plt\n",
    "\n",
    "import numpy as np\n",
    "import pandas as pd"
   ]
  },
  {
   "cell_type": "markdown",
   "metadata": {
    "papermill": {
     "duration": 0.027091,
     "end_time": "2020-12-21T10:08:38.004654",
     "exception": false,
     "start_time": "2020-12-21T10:08:37.977563",
     "status": "completed"
    },
    "tags": []
   },
   "source": [
    "### Preparing the Data"
   ]
  },
  {
   "cell_type": "code",
   "execution_count": 3,
   "metadata": {
    "execution": {
     "iopub.execute_input": "2020-12-21T10:08:38.065498Z",
     "iopub.status.busy": "2020-12-21T10:08:38.064824Z",
     "iopub.status.idle": "2020-12-21T10:08:38.080091Z",
     "shell.execute_reply": "2020-12-21T10:08:38.080555Z"
    },
    "papermill": {
     "duration": 0.048297,
     "end_time": "2020-12-21T10:08:38.080734",
     "exception": false,
     "start_time": "2020-12-21T10:08:38.032437",
     "status": "completed"
    },
    "tags": []
   },
   "outputs": [],
   "source": [
    "import mnist"
   ]
  },
  {
   "cell_type": "code",
   "execution_count": 4,
   "metadata": {
    "execution": {
     "iopub.execute_input": "2020-12-21T10:08:38.138155Z",
     "iopub.status.busy": "2020-12-21T10:08:38.137534Z",
     "iopub.status.idle": "2020-12-21T10:08:38.890295Z",
     "shell.execute_reply": "2020-12-21T10:08:38.890829Z"
    },
    "papermill": {
     "duration": 0.783389,
     "end_time": "2020-12-21T10:08:38.891001",
     "exception": false,
     "start_time": "2020-12-21T10:08:38.107612",
     "status": "completed"
    },
    "tags": []
   },
   "outputs": [],
   "source": [
    "train_images = mnist.train_images()\n",
    "train_labels = mnist.train_labels()"
   ]
  },
  {
   "cell_type": "code",
   "execution_count": 5,
   "metadata": {
    "execution": {
     "iopub.execute_input": "2020-12-21T10:08:38.949432Z",
     "iopub.status.busy": "2020-12-21T10:08:38.948753Z",
     "iopub.status.idle": "2020-12-21T10:08:38.965770Z",
     "shell.execute_reply": "2020-12-21T10:08:38.965245Z"
    },
    "papermill": {
     "duration": 0.048763,
     "end_time": "2020-12-21T10:08:38.965906",
     "exception": false,
     "start_time": "2020-12-21T10:08:38.917143",
     "status": "completed"
    },
    "tags": []
   },
   "outputs": [
    {
     "data": {
      "text/plain": [
       "((60000, 28, 28), (60000,))"
      ]
     },
     "execution_count": 5,
     "metadata": {},
     "output_type": "execute_result"
    }
   ],
   "source": [
    "train_images.shape, train_labels.shape"
   ]
  },
  {
   "cell_type": "code",
   "execution_count": 6,
   "metadata": {
    "execution": {
     "iopub.execute_input": "2020-12-21T10:08:39.021877Z",
     "iopub.status.busy": "2020-12-21T10:08:39.021453Z",
     "iopub.status.idle": "2020-12-21T10:08:39.288204Z",
     "shell.execute_reply": "2020-12-21T10:08:39.288687Z"
    },
    "papermill": {
     "duration": 0.296378,
     "end_time": "2020-12-21T10:08:39.288839",
     "exception": false,
     "start_time": "2020-12-21T10:08:38.992461",
     "status": "completed"
    },
    "tags": []
   },
   "outputs": [],
   "source": [
    "test_images = mnist.test_images()\n",
    "test_labels = mnist.test_labels()"
   ]
  },
  {
   "cell_type": "code",
   "execution_count": 7,
   "metadata": {
    "execution": {
     "iopub.execute_input": "2020-12-21T10:08:39.345433Z",
     "iopub.status.busy": "2020-12-21T10:08:39.344785Z",
     "iopub.status.idle": "2020-12-21T10:08:39.361093Z",
     "shell.execute_reply": "2020-12-21T10:08:39.361629Z"
    },
    "papermill": {
     "duration": 0.046668,
     "end_time": "2020-12-21T10:08:39.361781",
     "exception": false,
     "start_time": "2020-12-21T10:08:39.315113",
     "status": "completed"
    },
    "tags": []
   },
   "outputs": [
    {
     "data": {
      "text/plain": [
       "((10000, 28, 28), (10000,))"
      ]
     },
     "execution_count": 7,
     "metadata": {},
     "output_type": "execute_result"
    }
   ],
   "source": [
    "test_images.shape, test_labels.shape"
   ]
  },
  {
   "cell_type": "code",
   "execution_count": 8,
   "metadata": {
    "execution": {
     "iopub.execute_input": "2020-12-21T10:08:39.416683Z",
     "iopub.status.busy": "2020-12-21T10:08:39.416080Z",
     "iopub.status.idle": "2020-12-21T10:08:39.562014Z",
     "shell.execute_reply": "2020-12-21T10:08:39.561583Z"
    },
    "papermill": {
     "duration": 0.175279,
     "end_time": "2020-12-21T10:08:39.562143",
     "exception": false,
     "start_time": "2020-12-21T10:08:39.386864",
     "status": "completed"
    },
    "tags": []
   },
   "outputs": [
    {
     "name": "stdout",
     "output_type": "stream",
     "text": [
      "2\n"
     ]
    },
    {
     "data": {
      "text/plain": [
       "<matplotlib.image.AxesImage at 0x7fcbd5fb1208>"
      ]
     },
     "execution_count": 8,
     "metadata": {},
     "output_type": "execute_result"
    },
    {
     "data": {
      "image/png": "[encoded data removed]",
      "text/plain": [
       "<Figure size 432x288 with 1 Axes>"
      ]
     },
     "metadata": {
      "needs_background": "light"
     },
     "output_type": "display_data"
    }
   ],
   "source": [
    "image_index = 7776 # You may select anything up to 60,000\n",
    "print(train_labels[image_index]) \n",
    "plt.imshow(train_images[image_index], cmap='Greys')"
   ]
  },
  {
   "cell_type": "markdown",
   "metadata": {
    "papermill": {
     "duration": 0.027326,
     "end_time": "2020-12-21T10:08:39.617765",
     "exception": false,
     "start_time": "2020-12-21T10:08:39.590439",
     "status": "completed"
    },
    "tags": []
   },
   "source": [
    "## Filter data to get 3 and 8 out"
   ]
  },
  {
   "cell_type": "code",
   "execution_count": 9,
   "metadata": {
    "execution": {
     "iopub.execute_input": "2020-12-21T10:08:39.676342Z",
     "iopub.status.busy": "2020-12-21T10:08:39.674964Z",
     "iopub.status.idle": "2020-12-21T10:08:39.696516Z",
     "shell.execute_reply": "2020-12-21T10:08:39.695973Z"
    },
    "papermill": {
     "duration": 0.052478,
     "end_time": "2020-12-21T10:08:39.696656",
     "exception": false,
     "start_time": "2020-12-21T10:08:39.644178",
     "status": "completed"
    },
    "tags": []
   },
   "outputs": [],
   "source": [
    "train_filter = np.where((train_labels == 3 ) | (train_labels == 8))\n",
    "test_filter = np.where((test_labels == 3) | (test_labels == 8))\n",
    "X_train, y_train = train_images[train_filter], train_labels[train_filter]\n",
    "X_test, y_test = test_images[test_filter], test_labels[test_filter]"
   ]
  },
  {
   "cell_type": "markdown",
   "metadata": {
    "papermill": {
     "duration": 0.025539,
     "end_time": "2020-12-21T10:08:39.748535",
     "exception": false,
     "start_time": "2020-12-21T10:08:39.722996",
     "status": "completed"
    },
    "tags": []
   },
   "source": [
    "We normalize the pixel values in the 0 to 1 range"
   ]
  },
  {
   "cell_type": "code",
   "execution_count": 10,
   "metadata": {
    "execution": {
     "iopub.execute_input": "2020-12-21T10:08:39.805854Z",
     "iopub.status.busy": "2020-12-21T10:08:39.805241Z",
     "iopub.status.idle": "2020-12-21T10:08:39.864107Z",
     "shell.execute_reply": "2020-12-21T10:08:39.864914Z"
    },
    "papermill": {
     "duration": 0.089782,
     "end_time": "2020-12-21T10:08:39.865231",
     "exception": false,
     "start_time": "2020-12-21T10:08:39.775449",
     "status": "completed"
    },
    "tags": []
   },
   "outputs": [],
   "source": [
    "X_train = X_train/255.\n",
    "X_test = X_test/255."
   ]
  },
  {
   "cell_type": "markdown",
   "metadata": {
    "papermill": {
     "duration": 0.024166,
     "end_time": "2020-12-21T10:08:39.916616",
     "exception": false,
     "start_time": "2020-12-21T10:08:39.892450",
     "status": "completed"
    },
    "tags": []
   },
   "source": [
    "Setup the labels as 1 (when the digit is 3) and 0 (when the digit is 8)"
   ]
  },
  {
   "cell_type": "code",
   "execution_count": 11,
   "metadata": {
    "execution": {
     "iopub.execute_input": "2020-12-21T10:08:39.975244Z",
     "iopub.status.busy": "2020-12-21T10:08:39.974648Z",
     "iopub.status.idle": "2020-12-21T10:08:39.986648Z",
     "shell.execute_reply": "2020-12-21T10:08:39.987064Z"
    },
    "papermill": {
     "duration": 0.044294,
     "end_time": "2020-12-21T10:08:39.987199",
     "exception": false,
     "start_time": "2020-12-21T10:08:39.942905",
     "status": "completed"
    },
    "tags": []
   },
   "outputs": [],
   "source": [
    "y_train = 1*(y_train==3)\n",
    "y_test = 1*(y_test==3)"
   ]
  },
  {
   "cell_type": "code",
   "execution_count": 12,
   "metadata": {
    "execution": {
     "iopub.execute_input": "2020-12-21T10:08:40.042867Z",
     "iopub.status.busy": "2020-12-21T10:08:40.042312Z",
     "iopub.status.idle": "2020-12-21T10:08:40.057327Z",
     "shell.execute_reply": "2020-12-21T10:08:40.057814Z"
    },
    "papermill": {
     "duration": 0.044484,
     "end_time": "2020-12-21T10:08:40.057969",
     "exception": false,
     "start_time": "2020-12-21T10:08:40.013485",
     "status": "completed"
    },
    "tags": []
   },
   "outputs": [
    {
     "data": {
      "text/plain": [
       "((11982, 28, 28), (1984, 28, 28))"
      ]
     },
     "execution_count": 12,
     "metadata": {},
     "output_type": "execute_result"
    }
   ],
   "source": [
    "X_train.shape, X_test.shape"
   ]
  },
  {
   "cell_type": "markdown",
   "metadata": {
    "papermill": {
     "duration": 0.024522,
     "end_time": "2020-12-21T10:08:40.107730",
     "exception": false,
     "start_time": "2020-12-21T10:08:40.083208",
     "status": "completed"
    },
    "tags": []
   },
   "source": [
    "### Reshape the input data to create a linear array"
   ]
  },
  {
   "cell_type": "code",
   "execution_count": 13,
   "metadata": {
    "execution": {
     "iopub.execute_input": "2020-12-21T10:08:40.167387Z",
     "iopub.status.busy": "2020-12-21T10:08:40.166777Z",
     "iopub.status.idle": "2020-12-21T10:08:40.180823Z",
     "shell.execute_reply": "2020-12-21T10:08:40.181446Z"
    },
    "papermill": {
     "duration": 0.046382,
     "end_time": "2020-12-21T10:08:40.181602",
     "exception": false,
     "start_time": "2020-12-21T10:08:40.135220",
     "status": "completed"
    },
    "tags": []
   },
   "outputs": [
    {
     "data": {
      "text/plain": [
       "((11982, 784), (1984, 784))"
      ]
     },
     "execution_count": 13,
     "metadata": {},
     "output_type": "execute_result"
    }
   ],
   "source": [
    "X_train = X_train.reshape(X_train.shape[0], -1)\n",
    "X_test = X_test.reshape(X_test.shape[0], -1)\n",
    "X_train.shape, X_test.shape"
   ]
  },
  {
   "cell_type": "markdown",
   "metadata": {
    "papermill": {
     "duration": 0.02723,
     "end_time": "2020-12-21T10:08:40.235207",
     "exception": false,
     "start_time": "2020-12-21T10:08:40.207977",
     "status": "completed"
    },
    "tags": []
   },
   "source": [
    "### Importing appropriate functions from 'Kudzu'"
   ]
  },
  {
   "cell_type": "code",
   "execution_count": 14,
   "metadata": {
    "execution": {
     "iopub.execute_input": "2020-12-21T10:08:40.292275Z",
     "iopub.status.busy": "2020-12-21T10:08:40.291776Z",
     "iopub.status.idle": "2020-12-21T10:08:40.311520Z",
     "shell.execute_reply": "2020-12-21T10:08:40.311995Z"
    },
    "papermill": {
     "duration": 0.050209,
     "end_time": "2020-12-21T10:08:40.312160",
     "exception": false,
     "start_time": "2020-12-21T10:08:40.261951",
     "status": "completed"
    },
    "tags": []
   },
   "outputs": [],
   "source": [
    "from kudzu.layer import Sigmoid\n",
    "from kudzu.layer import Relu\n",
    "from kudzu.layer import Affine, Sigmoid\n",
    "\n",
    "from kudzu.model import Model\n",
    "from kudzu.train import Learner\n",
    "from kudzu.optim import GD\n",
    "from kudzu.data import Data, Dataloader, Sampler\n",
    "\n",
    "from kudzu.callbacks import AccCallback\n",
    "from kudzu.callbacks import ClfCallback\n",
    "\n",
    "from kudzu.loss import MSE"
   ]
  },
  {
   "cell_type": "markdown",
   "metadata": {
    "papermill": {
     "duration": 0.028815,
     "end_time": "2020-12-21T10:08:40.369621",
     "exception": false,
     "start_time": "2020-12-21T10:08:40.340806",
     "status": "completed"
    },
    "tags": []
   },
   "source": [
    "### Let us create a `Config` class, to store important parameters. \n",
    "This class essentially plays the role of a dictionary."
   ]
  },
  {
   "cell_type": "code",
   "execution_count": 15,
   "metadata": {
    "execution": {
     "iopub.execute_input": "2020-12-21T10:08:40.430403Z",
     "iopub.status.busy": "2020-12-21T10:08:40.429798Z",
     "iopub.status.idle": "2020-12-21T10:08:40.442379Z",
     "shell.execute_reply": "2020-12-21T10:08:40.442888Z"
    },
    "papermill": {
     "duration": 0.045654,
     "end_time": "2020-12-21T10:08:40.443044",
     "exception": false,
     "start_time": "2020-12-21T10:08:40.397390",
     "status": "completed"
    },
    "tags": []
   },
   "outputs": [],
   "source": [
    "class Config:\n",
    "    pass\n",
    "config = Config()\n",
    "config.lr = 0.001\n",
    "config.num_epochs = 251\n",
    "config.bs = 50"
   ]
  },
  {
   "cell_type": "markdown",
   "metadata": {
    "papermill": {
     "duration": 0.025778,
     "end_time": "2020-12-21T10:08:40.495057",
     "exception": false,
     "start_time": "2020-12-21T10:08:40.469279",
     "status": "completed"
    },
    "tags": []
   },
   "source": [
    "### Initializing data to the variables"
   ]
  },
  {
   "cell_type": "code",
   "execution_count": 16,
   "metadata": {
    "execution": {
     "iopub.execute_input": "2020-12-21T10:08:40.589364Z",
     "iopub.status.busy": "2020-12-21T10:08:40.585821Z",
     "iopub.status.idle": "2020-12-21T10:08:40.604379Z",
     "shell.execute_reply": "2020-12-21T10:08:40.604918Z"
    },
    "papermill": {
     "duration": 0.082832,
     "end_time": "2020-12-21T10:08:40.605122",
     "exception": false,
     "start_time": "2020-12-21T10:08:40.522290",
     "status": "completed"
    },
    "tags": []
   },
   "outputs": [],
   "source": [
    "data = Data(X_train, y_train.reshape(-1,1))\n",
    "sampler = Sampler(data, config.bs, shuffle=True)\n",
    "\n",
    "dl = Dataloader(data, sampler)\n",
    "\n",
    "opt = GD(config.lr)\n",
    "loss = MSE()"
   ]
  },
  {
   "cell_type": "code",
   "execution_count": 17,
   "metadata": {
    "execution": {
     "iopub.execute_input": "2020-12-21T10:08:41.170819Z",
     "iopub.status.busy": "2020-12-21T10:08:41.170230Z",
     "iopub.status.idle": "2020-12-21T10:08:41.182711Z",
     "shell.execute_reply": "2020-12-21T10:08:41.182307Z"
    },
    "papermill": {
     "duration": 0.517226,
     "end_time": "2020-12-21T10:08:41.182831",
     "exception": false,
     "start_time": "2020-12-21T10:08:40.665605",
     "status": "completed"
    },
    "tags": []
   },
   "outputs": [],
   "source": [
    "training_xdata = X_train\n",
    "testing_xdata = X_test\n",
    "training_ydata = y_train.reshape(-1,1)\n",
    "testing_ydata = y_test.reshape(-1,1)"
   ]
  },
  {
   "cell_type": "markdown",
   "metadata": {
    "papermill": {
     "duration": 0.028908,
     "end_time": "2020-12-21T10:08:41.493646",
     "exception": false,
     "start_time": "2020-12-21T10:08:41.464738",
     "status": "completed"
    },
    "tags": []
   },
   "source": [
    "### Running Models with the Training data\n",
    "Details about the network layers:\n",
    "- A first affine layer has 784 inputs and does 100 affine transforms. These are followed by a Relu\n",
    "- A second affine layer has 100 inputs from the 100 activations of the past layer, and does 100 affine transforms. These are followed by a Relu\n",
    "- A third affine layer has 100 activations and does 2 affine transformations to create an embedding for visualization. There is no non-linearity here.\n",
    "- A final \"logistic regression\" which has an affine transform from 2 inputs to 1 output, which is squeezed through a sigmoid.\n",
    "\n",
    "Help taken from Anshuman's Notebook."
   ]
  },
  {
   "cell_type": "code",
   "execution_count": 18,
   "metadata": {
    "execution": {
     "iopub.execute_input": "2020-12-21T10:08:41.559213Z",
     "iopub.status.busy": "2020-12-21T10:08:41.557775Z",
     "iopub.status.idle": "2020-12-21T10:08:41.579873Z",
     "shell.execute_reply": "2020-12-21T10:08:41.577259Z"
    },
    "papermill": {
     "duration": 0.055387,
     "end_time": "2020-12-21T10:08:41.580103",
     "exception": false,
     "start_time": "2020-12-21T10:08:41.524716",
     "status": "completed"
    },
    "tags": []
   },
   "outputs": [],
   "source": [
    "# layers for the Neural Network\n",
    "layers = [Affine(\"first\", 784, 100), Relu(\"first\"), Affine(\"second\", 100, 100), Relu(\"second\"), Affine(\"third\", 100, 2), Affine(\"final\", 2, 1), Sigmoid(\"final\")]\n",
    "model_nn = Model(layers)\n",
    "\n",
    "# layers for the Logistic Regression\n",
    "layers_lr = [Affine(\"logits\", 784, 1), Sigmoid(\"sigmoid\")]\n",
    "model_lr = Model(layers_lr)"
   ]
  },
  {
   "cell_type": "code",
   "execution_count": 19,
   "metadata": {
    "execution": {
     "iopub.execute_input": "2020-12-21T10:08:41.644742Z",
     "iopub.status.busy": "2020-12-21T10:08:41.644235Z",
     "iopub.status.idle": "2020-12-21T10:08:41.657584Z",
     "shell.execute_reply": "2020-12-21T10:08:41.657093Z"
    },
    "papermill": {
     "duration": 0.045607,
     "end_time": "2020-12-21T10:08:41.657744",
     "exception": false,
     "start_time": "2020-12-21T10:08:41.612137",
     "status": "completed"
    },
    "tags": []
   },
   "outputs": [],
   "source": [
    "# suffix _nn stands for Neural Network.\n",
    "learner_nn = Learner(loss, model_nn, opt, config.num_epochs)\n",
    "acc_nn = ClfCallback(learner_nn, config.bs, training_xdata , testing_xdata, training_ydata, testing_ydata)\n",
    "learner_nn.set_callbacks([acc_nn])"
   ]
  },
  {
   "cell_type": "code",
   "execution_count": 20,
   "metadata": {
    "execution": {
     "iopub.execute_input": "2020-12-21T10:08:41.713840Z",
     "iopub.status.busy": "2020-12-21T10:08:41.713336Z",
     "iopub.status.idle": "2020-12-21T10:10:09.878125Z",
     "shell.execute_reply": "2020-12-21T10:10:09.878603Z"
    },
    "papermill": {
     "duration": 88.19501,
     "end_time": "2020-12-21T10:10:09.878772",
     "exception": false,
     "start_time": "2020-12-21T10:08:41.683762",
     "status": "completed"
    },
    "tags": []
   },
   "outputs": [
    {
     "name": "stdout",
     "output_type": "stream",
     "text": [
      "====== Neural Network ======\n"
     ]
    },
    {
     "name": "stdout",
     "output_type": "stream",
     "text": [
      "Epoch 0, Loss 0.2276\n",
      "Training Accuracy: 0.7700, Testing Accuracy: 0.7737\n",
      "\n"
     ]
    },
    {
     "name": "stdout",
     "output_type": "stream",
     "text": [
      "Epoch 10, Loss 0.0849\n",
      "Training Accuracy: 0.9266, Testing Accuracy: 0.9350\n",
      "\n"
     ]
    },
    {
     "name": "stdout",
     "output_type": "stream",
     "text": [
      "Epoch 20, Loss 0.0532\n",
      "Training Accuracy: 0.9450, Testing Accuracy: 0.9551\n",
      "\n"
     ]
    },
    {
     "name": "stdout",
     "output_type": "stream",
     "text": [
      "Epoch 30, Loss 0.0425\n",
      "Training Accuracy: 0.9530, Testing Accuracy: 0.9642\n",
      "\n"
     ]
    },
    {
     "name": "stdout",
     "output_type": "stream",
     "text": [
      "Epoch 40, Loss 0.0371\n",
      "Training Accuracy: 0.9567, Testing Accuracy: 0.9672\n",
      "\n"
     ]
    },
    {
     "name": "stdout",
     "output_type": "stream",
     "text": [
      "Epoch 50, Loss 0.0338\n",
      "Training Accuracy: 0.9605, Testing Accuracy: 0.9667\n",
      "\n"
     ]
    },
    {
     "name": "stdout",
     "output_type": "stream",
     "text": [
      "Epoch 60, Loss 0.0315\n",
      "Training Accuracy: 0.9636, Testing Accuracy: 0.9672\n",
      "\n"
     ]
    },
    {
     "name": "stdout",
     "output_type": "stream",
     "text": [
      "Epoch 70, Loss 0.0298\n",
      "Training Accuracy: 0.9655, Testing Accuracy: 0.9682\n",
      "\n"
     ]
    },
    {
     "name": "stdout",
     "output_type": "stream",
     "text": [
      "Epoch 80, Loss 0.0284\n",
      "Training Accuracy: 0.9674, Testing Accuracy: 0.9693\n",
      "\n"
     ]
    },
    {
     "name": "stdout",
     "output_type": "stream",
     "text": [
      "Epoch 90, Loss 0.0272\n",
      "Training Accuracy: 0.9686, Testing Accuracy: 0.9693\n",
      "\n"
     ]
    },
    {
     "name": "stdout",
     "output_type": "stream",
     "text": [
      "Epoch 100, Loss 0.0262\n",
      "Training Accuracy: 0.9695, Testing Accuracy: 0.9693\n",
      "\n"
     ]
    },
    {
     "name": "stdout",
     "output_type": "stream",
     "text": [
      "Epoch 110, Loss 0.0253\n",
      "Training Accuracy: 0.9705, Testing Accuracy: 0.9698\n",
      "\n"
     ]
    },
    {
     "name": "stdout",
     "output_type": "stream",
     "text": [
      "Epoch 120, Loss 0.0245\n",
      "Training Accuracy: 0.9710, Testing Accuracy: 0.9713\n",
      "\n"
     ]
    },
    {
     "name": "stdout",
     "output_type": "stream",
     "text": [
      "Epoch 130, Loss 0.0237\n",
      "Training Accuracy: 0.9717, Testing Accuracy: 0.9723\n",
      "\n"
     ]
    },
    {
     "name": "stdout",
     "output_type": "stream",
     "text": [
      "Epoch 140, Loss 0.0231\n",
      "Training Accuracy: 0.9731, Testing Accuracy: 0.9733\n",
      "\n"
     ]
    },
    {
     "name": "stdout",
     "output_type": "stream",
     "text": [
      "Epoch 150, Loss 0.0224\n",
      "Training Accuracy: 0.9744, Testing Accuracy: 0.9723\n",
      "\n"
     ]
    },
    {
     "name": "stdout",
     "output_type": "stream",
     "text": [
      "Epoch 160, Loss 0.0219\n",
      "Training Accuracy: 0.9751, Testing Accuracy: 0.9723\n",
      "\n"
     ]
    },
    {
     "name": "stdout",
     "output_type": "stream",
     "text": [
      "Epoch 170, Loss 0.0213\n",
      "Training Accuracy: 0.9760, Testing Accuracy: 0.9733\n",
      "\n"
     ]
    },
    {
     "name": "stdout",
     "output_type": "stream",
     "text": [
      "Epoch 180, Loss 0.0208\n",
      "Training Accuracy: 0.9768, Testing Accuracy: 0.9738\n",
      "\n"
     ]
    },
    {
     "name": "stdout",
     "output_type": "stream",
     "text": [
      "Epoch 190, Loss 0.0203\n",
      "Training Accuracy: 0.9777, Testing Accuracy: 0.9738\n",
      "\n"
     ]
    },
    {
     "name": "stdout",
     "output_type": "stream",
     "text": [
      "Epoch 200, Loss 0.0199\n",
      "Training Accuracy: 0.9785, Testing Accuracy: 0.9748\n",
      "\n"
     ]
    },
    {
     "name": "stdout",
     "output_type": "stream",
     "text": [
      "Epoch 210, Loss 0.0194\n",
      "Training Accuracy: 0.9786, Testing Accuracy: 0.9748\n",
      "\n"
     ]
    },
    {
     "name": "stdout",
     "output_type": "stream",
     "text": [
      "Epoch 220, Loss 0.019\n",
      "Training Accuracy: 0.9789, Testing Accuracy: 0.9743\n",
      "\n"
     ]
    },
    {
     "name": "stdout",
     "output_type": "stream",
     "text": [
      "Epoch 230, Loss 0.0186\n",
      "Training Accuracy: 0.9793, Testing Accuracy: 0.9743\n",
      "\n"
     ]
    },
    {
     "name": "stdout",
     "output_type": "stream",
     "text": [
      "Epoch 240, Loss 0.0182\n",
      "Training Accuracy: 0.9797, Testing Accuracy: 0.9743\n",
      "\n"
     ]
    },
    {
     "name": "stdout",
     "output_type": "stream",
     "text": [
      "Epoch 250, Loss 0.0178\n",
      "Training Accuracy: 0.9800, Testing Accuracy: 0.9743\n",
      "\n"
     ]
    },
    {
     "data": {
      "text/plain": [
       "0.0014886213695614117"
      ]
     },
     "execution_count": 20,
     "metadata": {},
     "output_type": "execute_result"
    }
   ],
   "source": [
    "print(\"====== Neural Network ======\")\n",
    "learner_nn.train_loop(dl)"
   ]
  },
  {
   "cell_type": "markdown",
   "metadata": {
    "papermill": {
     "duration": 0.036819,
     "end_time": "2020-12-21T10:10:09.953173",
     "exception": false,
     "start_time": "2020-12-21T10:10:09.916354",
     "status": "completed"
    },
    "tags": []
   },
   "source": [
    "### Logistic Regression based Implementation."
   ]
  },
  {
   "cell_type": "code",
   "execution_count": 21,
   "metadata": {
    "execution": {
     "iopub.execute_input": "2020-12-21T10:10:10.034569Z",
     "iopub.status.busy": "2020-12-21T10:10:10.033950Z",
     "iopub.status.idle": "2020-12-21T10:10:10.046133Z",
     "shell.execute_reply": "2020-12-21T10:10:10.045630Z"
    },
    "papermill": {
     "duration": 0.056418,
     "end_time": "2020-12-21T10:10:10.046271",
     "exception": false,
     "start_time": "2020-12-21T10:10:09.989853",
     "status": "completed"
    },
    "tags": []
   },
   "outputs": [],
   "source": [
    "learner_lr = Learner(loss, model_lr, opt, config.num_epochs)\n",
    "acc_lr = ClfCallback(learner_lr, config.bs, training_xdata , testing_xdata, training_ydata, testing_ydata)\n",
    "learner_lr.set_callbacks([acc_lr])"
   ]
  },
  {
   "cell_type": "code",
   "execution_count": 22,
   "metadata": {
    "execution": {
     "iopub.execute_input": "2020-12-21T10:10:10.125077Z",
     "iopub.status.busy": "2020-12-21T10:10:10.124452Z",
     "iopub.status.idle": "2020-12-21T10:10:26.241901Z",
     "shell.execute_reply": "2020-12-21T10:10:26.241401Z"
    },
    "papermill": {
     "duration": 16.159026,
     "end_time": "2020-12-21T10:10:26.242042",
     "exception": false,
     "start_time": "2020-12-21T10:10:10.083016",
     "status": "completed"
    },
    "tags": []
   },
   "outputs": [
    {
     "name": "stdout",
     "output_type": "stream",
     "text": [
      "====== Logistic Regression ======\n",
      "Epoch 0, Loss 0.2139\n",
      "Training Accuracy: 0.7889, Testing Accuracy: 0.8065\n",
      "\n"
     ]
    },
    {
     "name": "stdout",
     "output_type": "stream",
     "text": [
      "Epoch 10, Loss 0.101\n",
      "Training Accuracy: 0.9098, Testing Accuracy: 0.9214\n",
      "\n"
     ]
    },
    {
     "name": "stdout",
     "output_type": "stream",
     "text": [
      "Epoch 20, Loss 0.0789\n",
      "Training Accuracy: 0.9258, Testing Accuracy: 0.9355\n",
      "\n"
     ]
    },
    {
     "name": "stdout",
     "output_type": "stream",
     "text": [
      "Epoch 30, Loss 0.0684\n",
      "Training Accuracy: 0.9360, Testing Accuracy: 0.9476\n",
      "\n"
     ]
    },
    {
     "name": "stdout",
     "output_type": "stream",
     "text": [
      "Epoch 40, Loss 0.062\n",
      "Training Accuracy: 0.9403, Testing Accuracy: 0.9516\n",
      "\n"
     ]
    },
    {
     "name": "stdout",
     "output_type": "stream",
     "text": [
      "Epoch 50, Loss 0.0575\n",
      "Training Accuracy: 0.9434, Testing Accuracy: 0.9551\n",
      "\n"
     ]
    },
    {
     "name": "stdout",
     "output_type": "stream",
     "text": [
      "Epoch 60, Loss 0.0543\n",
      "Training Accuracy: 0.9458, Testing Accuracy: 0.9567\n",
      "\n"
     ]
    },
    {
     "name": "stdout",
     "output_type": "stream",
     "text": [
      "Epoch 70, Loss 0.0517\n",
      "Training Accuracy: 0.9479, Testing Accuracy: 0.9597\n",
      "\n"
     ]
    },
    {
     "name": "stdout",
     "output_type": "stream",
     "text": [
      "Epoch 80, Loss 0.0497\n",
      "Training Accuracy: 0.9495, Testing Accuracy: 0.9597\n",
      "\n"
     ]
    },
    {
     "name": "stdout",
     "output_type": "stream",
     "text": [
      "Epoch 90, Loss 0.048\n",
      "Training Accuracy: 0.9506, Testing Accuracy: 0.9612\n",
      "\n"
     ]
    },
    {
     "name": "stdout",
     "output_type": "stream",
     "text": [
      "Epoch 100, Loss 0.0466\n",
      "Training Accuracy: 0.9523, Testing Accuracy: 0.9622\n",
      "\n"
     ]
    },
    {
     "name": "stdout",
     "output_type": "stream",
     "text": [
      "Epoch 110, Loss 0.0454\n",
      "Training Accuracy: 0.9531, Testing Accuracy: 0.9622\n",
      "\n"
     ]
    },
    {
     "name": "stdout",
     "output_type": "stream",
     "text": [
      "Epoch 120, Loss 0.0443\n",
      "Training Accuracy: 0.9543, Testing Accuracy: 0.9632\n",
      "\n"
     ]
    },
    {
     "name": "stdout",
     "output_type": "stream",
     "text": [
      "Epoch 130, Loss 0.0434\n",
      "Training Accuracy: 0.9548, Testing Accuracy: 0.9637\n",
      "\n"
     ]
    },
    {
     "name": "stdout",
     "output_type": "stream",
     "text": [
      "Epoch 140, Loss 0.0425\n",
      "Training Accuracy: 0.9554, Testing Accuracy: 0.9637\n",
      "\n"
     ]
    },
    {
     "name": "stdout",
     "output_type": "stream",
     "text": [
      "Epoch 150, Loss 0.0418\n",
      "Training Accuracy: 0.9558, Testing Accuracy: 0.9647\n",
      "\n"
     ]
    },
    {
     "name": "stdout",
     "output_type": "stream",
     "text": [
      "Epoch 160, Loss 0.0411\n",
      "Training Accuracy: 0.9565, Testing Accuracy: 0.9642\n",
      "\n"
     ]
    },
    {
     "name": "stdout",
     "output_type": "stream",
     "text": [
      "Epoch 170, Loss 0.0405\n",
      "Training Accuracy: 0.9574, Testing Accuracy: 0.9637\n",
      "\n"
     ]
    },
    {
     "name": "stdout",
     "output_type": "stream",
     "text": [
      "Epoch 180, Loss 0.0399\n",
      "Training Accuracy: 0.9581, Testing Accuracy: 0.9647\n",
      "\n"
     ]
    },
    {
     "name": "stdout",
     "output_type": "stream",
     "text": [
      "Epoch 190, Loss 0.0394\n",
      "Training Accuracy: 0.9589, Testing Accuracy: 0.9647\n",
      "\n"
     ]
    },
    {
     "name": "stdout",
     "output_type": "stream",
     "text": [
      "Epoch 200, Loss 0.0389\n",
      "Training Accuracy: 0.9593, Testing Accuracy: 0.9652\n",
      "\n"
     ]
    },
    {
     "name": "stdout",
     "output_type": "stream",
     "text": [
      "Epoch 210, Loss 0.0384\n",
      "Training Accuracy: 0.9599, Testing Accuracy: 0.9657\n",
      "\n"
     ]
    },
    {
     "name": "stdout",
     "output_type": "stream",
     "text": [
      "Epoch 220, Loss 0.038\n",
      "Training Accuracy: 0.9599, Testing Accuracy: 0.9667\n",
      "\n"
     ]
    },
    {
     "name": "stdout",
     "output_type": "stream",
     "text": [
      "Epoch 230, Loss 0.0376\n",
      "Training Accuracy: 0.9602, Testing Accuracy: 0.9662\n",
      "\n"
     ]
    },
    {
     "name": "stdout",
     "output_type": "stream",
     "text": [
      "Epoch 240, Loss 0.0372\n",
      "Training Accuracy: 0.9604, Testing Accuracy: 0.9657\n",
      "\n"
     ]
    },
    {
     "name": "stdout",
     "output_type": "stream",
     "text": [
      "Epoch 250, Loss 0.0369\n",
      "Training Accuracy: 0.9605, Testing Accuracy: 0.9657\n",
      "\n"
     ]
    },
    {
     "data": {
      "text/plain": [
       "0.017908949074453635"
      ]
     },
     "execution_count": 22,
     "metadata": {},
     "output_type": "execute_result"
    }
   ],
   "source": [
    "print(\"====== Logistic Regression ======\")\n",
    "learner_lr.train_loop(dl)"
   ]
  },
  {
   "cell_type": "markdown",
   "metadata": {
    "papermill": {
     "duration": 0.044077,
     "end_time": "2020-12-21T10:10:26.331126",
     "exception": false,
     "start_time": "2020-12-21T10:10:26.287049",
     "status": "completed"
    },
    "tags": []
   },
   "source": [
    "### Comparing results of NN and LR"
   ]
  },
  {
   "cell_type": "code",
   "execution_count": 23,
   "metadata": {
    "execution": {
     "iopub.execute_input": "2020-12-21T10:10:26.425551Z",
     "iopub.status.busy": "2020-12-21T10:10:26.424890Z",
     "iopub.status.idle": "2020-12-21T10:10:26.667069Z",
     "shell.execute_reply": "2020-12-21T10:10:26.667575Z"
    },
    "papermill": {
     "duration": 0.293387,
     "end_time": "2020-12-21T10:10:26.667745",
     "exception": false,
     "start_time": "2020-12-21T10:10:26.374358",
     "status": "completed"
    },
    "tags": []
   },
   "outputs": [
    {
     "data": {
      "text/plain": [
       "<matplotlib.legend.Legend at 0x7fcbd3b7fb38>"
      ]
     },
     "execution_count": 23,
     "metadata": {},
     "output_type": "execute_result"
    },
    {
     "data": {
      "image/png": "[encoded data removed]",
      "text/plain": [
       "<Figure size 1080x720 with 1 Axes>"
      ]
     },
     "metadata": {
      "needs_background": "light"
     },
     "output_type": "display_data"
    }
   ],
   "source": [
    "plt.figure(figsize=(15,10))\n",
    "\n",
    "# Neural Network plots\n",
    "plt.plot(acc_nn.accuracies, 'r-', label = \"Training Accuracies - NN\")\n",
    "plt.plot(acc_nn.test_accuracies, 'g-', label = \"Testing Accuracies - NN\")\n",
    "\n",
    "# Logistic Regression plots\n",
    "plt.plot(acc_lr.accuracies, 'k-', label = \"Training Accuracies - LR\")\n",
    "plt.plot(acc_lr.test_accuracies, 'b-', label = \"Testing Accuracies - LR\")\n",
    "\n",
    "plt.ylim(0.8, 1)\n",
    "\n",
    "plt.legend()\n",
    "\n"
   ]
  },
  {
   "cell_type": "markdown",
   "metadata": {
    "papermill": {
     "duration": 0.044043,
     "end_time": "2020-12-21T10:10:26.758981",
     "exception": false,
     "start_time": "2020-12-21T10:10:26.714938",
     "status": "completed"
    },
    "tags": []
   },
   "source": [
    "### From the plot, we can observe the following:\n",
    "- Neural Network achieves higher accuracy than the Logistic Regression model.\n",
    "- This apparently, is because of overfitting, i.e. NN captures more noise than data.\n",
    "- Testing accuracy of NN drops below the Training accuracy at higher epochs. This explains the over-fitting on training data.\n",
    "- Logistic Regression gives a reliable accuracy, without the above mentioned problem.\n"
   ]
  },
  {
   "cell_type": "markdown",
   "metadata": {
    "papermill": {
     "duration": 0.042654,
     "end_time": "2020-12-21T10:10:26.847446",
     "exception": false,
     "start_time": "2020-12-21T10:10:26.804792",
     "status": "completed"
    },
    "tags": []
   },
   "source": [
    "### Moving till the last but one layer (excluding it).\n",
    "#### Plotting the outputs of this layer of the NN."
   ]
  },
  {
   "cell_type": "code",
   "execution_count": 24,
   "metadata": {
    "execution": {
     "iopub.execute_input": "2020-12-21T10:10:26.938969Z",
     "iopub.status.busy": "2020-12-21T10:10:26.938398Z",
     "iopub.status.idle": "2020-12-21T10:10:26.953175Z",
     "shell.execute_reply": "2020-12-21T10:10:26.952654Z"
    },
    "papermill": {
     "duration": 0.062884,
     "end_time": "2020-12-21T10:10:26.953315",
     "exception": false,
     "start_time": "2020-12-21T10:10:26.890431",
     "status": "completed"
    },
    "tags": []
   },
   "outputs": [],
   "source": [
    "model_new = Model(layers[:-2])"
   ]
  },
  {
   "cell_type": "code",
   "execution_count": 25,
   "metadata": {
    "execution": {
     "iopub.execute_input": "2020-12-21T10:10:27.043531Z",
     "iopub.status.busy": "2020-12-21T10:10:27.042913Z",
     "iopub.status.idle": "2020-12-21T10:10:27.065471Z",
     "shell.execute_reply": "2020-12-21T10:10:27.064885Z"
    },
    "papermill": {
     "duration": 0.072245,
     "end_time": "2020-12-21T10:10:27.065611",
     "exception": false,
     "start_time": "2020-12-21T10:10:26.993366",
     "status": "completed"
    },
    "tags": []
   },
   "outputs": [],
   "source": [
    "plot_testing = model_new(testing_xdata)"
   ]
  },
  {
   "cell_type": "code",
   "execution_count": 26,
   "metadata": {
    "execution": {
     "iopub.execute_input": "2020-12-21T10:10:27.170312Z",
     "iopub.status.busy": "2020-12-21T10:10:27.169702Z",
     "iopub.status.idle": "2020-12-21T10:10:27.365943Z",
     "shell.execute_reply": "2020-12-21T10:10:27.365408Z"
    },
    "papermill": {
     "duration": 0.253573,
     "end_time": "2020-12-21T10:10:27.366081",
     "exception": false,
     "start_time": "2020-12-21T10:10:27.112508",
     "status": "completed"
    },
    "tags": []
   },
   "outputs": [
    {
     "data": {
      "text/plain": [
       "Text(0.5, 1.0, 'Outputs')"
      ]
     },
     "execution_count": 26,
     "metadata": {},
     "output_type": "execute_result"
    },
    {
     "data": {
      "image/png": "[encoded data removed]",
      "text/plain": [
       "<Figure size 576x504 with 1 Axes>"
      ]
     },
     "metadata": {
      "needs_background": "light"
     },
     "output_type": "display_data"
    }
   ],
   "source": [
    "plt.figure(figsize=(8,7))\n",
    "plt.scatter(plot_testing[:,0], plot_testing[:,1], alpha = 0.1, c = y_test.ravel());\n",
    "plt.title('Outputs')"
   ]
  },
  {
   "cell_type": "markdown",
   "metadata": {
    "papermill": {
     "duration": 0.047518,
     "end_time": "2020-12-21T10:10:27.458048",
     "exception": false,
     "start_time": "2020-12-21T10:10:27.410530",
     "status": "completed"
    },
    "tags": []
   },
   "source": [
    "### Plotting probability contours"
   ]
  },
  {
   "cell_type": "code",
   "execution_count": 27,
   "metadata": {
    "execution": {
     "iopub.execute_input": "2020-12-21T10:10:27.558046Z",
     "iopub.status.busy": "2020-12-21T10:10:27.551483Z",
     "iopub.status.idle": "2020-12-21T10:10:27.564381Z",
     "shell.execute_reply": "2020-12-21T10:10:27.564847Z"
    },
    "papermill": {
     "duration": 0.060975,
     "end_time": "2020-12-21T10:10:27.565054",
     "exception": false,
     "start_time": "2020-12-21T10:10:27.504079",
     "status": "completed"
    },
    "tags": []
   },
   "outputs": [],
   "source": [
    "model_prob = Model(layers[-2:]) "
   ]
  },
  {
   "cell_type": "code",
   "execution_count": 28,
   "metadata": {
    "execution": {
     "iopub.execute_input": "2020-12-21T10:10:27.664483Z",
     "iopub.status.busy": "2020-12-21T10:10:27.664026Z",
     "iopub.status.idle": "2020-12-21T10:10:27.679868Z",
     "shell.execute_reply": "2020-12-21T10:10:27.680323Z"
    },
    "papermill": {
     "duration": 0.068397,
     "end_time": "2020-12-21T10:10:27.680491",
     "exception": false,
     "start_time": "2020-12-21T10:10:27.612094",
     "status": "completed"
    },
    "tags": []
   },
   "outputs": [],
   "source": [
    "# Adjust the x and y ranges according to the above generated plot.\n",
    "x_range = np.linspace(-4, 1, 100) \n",
    "y_range = np.linspace(-6, 6, 100) \n",
    "x_grid, y_grid = np.meshgrid(x_range, y_range) # x_grid and y_grig are of size 100 X 100\n",
    "\n",
    "# converting x_grid and y_grid to continuous arrays\n",
    "x_grid_flat = np.ravel(x_grid)\n",
    "y_grid_flat = np.ravel(y_grid)\n",
    "\n",
    "# The last layer of the current model takes two columns as input. Hence transpose of np.vstack() is required.\n",
    "X = np.vstack((x_grid_flat, y_grid_flat)).T\n",
    "\n",
    "# x_grid and y_grid are of size 100 x 100\n",
    "probability_contour = model_prob(X).reshape(100,100) "
   ]
  },
  {
   "cell_type": "code",
   "execution_count": 29,
   "metadata": {
    "execution": {
     "iopub.execute_input": "2020-12-21T10:10:27.805973Z",
     "iopub.status.busy": "2020-12-21T10:10:27.805363Z",
     "iopub.status.idle": "2020-12-21T10:10:28.045058Z",
     "shell.execute_reply": "2020-12-21T10:10:28.045751Z"
    },
    "papermill": {
     "duration": 0.31965,
     "end_time": "2020-12-21T10:10:28.045970",
     "exception": false,
     "start_time": "2020-12-21T10:10:27.726320",
     "status": "completed"
    },
    "tags": []
   },
   "outputs": [
    {
     "data": {
      "image/png": "[encoded data removed]",
      "text/plain": [
       "<Figure size 720x648 with 1 Axes>"
      ]
     },
     "metadata": {
      "needs_background": "light"
     },
     "output_type": "display_data"
    }
   ],
   "source": [
    "plt.figure(figsize=(10,9))\n",
    "plt.scatter(plot_testing[:,0], plot_testing[:,1], alpha = 0.1, c = y_test.ravel())\n",
    "contours = plt.contour(x_grid,y_grid,probability_contour)\n",
    "plt.title('Probability Contours')\n",
    "plt.clabel(contours, inline = True );"
   ]
  }
 ],
 "metadata": {
  "kernelspec": {
   "display_name": "Python 3",
   "language": "python",
   "name": "python3"
  },
  "language_info": {
   "codemirror_mode": {
    "name": "ipython",
    "version": 3
   },
   "file_extension": ".py",
   "mimetype": "text/x-python",
   "name": "python",
   "nbconvert_exporter": "python",
   "pygments_lexer": "ipython3",
   "version": "3.6.12"
  },
  "papermill": {
   "duration": 115.400955,
   "end_time": "2020-12-21T10:10:29.499608",
   "environment_variables": {},
   "exception": null,
   "input_path": "2020-08-11-NeuralNetwork.ipynb",
   "output_path": "2020-08-11-NeuralNetwork.ipynb",
   "parameters": {},
   "start_time": "2020-12-21T10:08:34.098653",
   "version": "2.1.2"
  }
 },
 "nbformat": 4,
 "nbformat_minor": 4
}