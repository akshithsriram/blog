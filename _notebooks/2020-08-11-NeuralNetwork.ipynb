{
 "cells": [
  {
   "cell_type": "markdown",
   "metadata": {
    "papermill": {
     "duration": 0.031376,
     "end_time": "2020-10-31T20:03:53.155468",
     "exception": false,
     "start_time": "2020-10-31T20:03:53.124092",
     "status": "completed"
    },
    "tags": []
   },
   "source": [
    "# \"A Basic Neural Network: Differentiate Hand-Written Digits\"\n",
    "\n",
    "- badges: true\n",
    "- author: Akshith Sriram"
   ]
  },
  {
   "cell_type": "markdown",
   "metadata": {
    "papermill": {
     "duration": 0.023002,
     "end_time": "2020-10-31T20:03:53.203005",
     "exception": false,
     "start_time": "2020-10-31T20:03:53.180003",
     "status": "completed"
    },
    "tags": []
   },
   "source": [
    "### Key Objectives:\n",
    "- Building a neural network that differentiates two hand-written digits 3 and 8.\n",
    "- Comparing the results of this Neural Network (NN) to that of a Logistic Regression (LR) model.\n",
    "\n",
    "### Requirements:\n",
    "- 'Kudzu' : A neural network library that was designed during our course by [Univ.AI](www.univ.ai). \n",
    "- MNIST Database\n",
    "\n",
    "If MNIST is not installed, use the command `!pip install mnist` given below.\n",
    "It can be run both from the command line and Jupyter Notebook."
   ]
  },
  {
   "cell_type": "code",
   "execution_count": 1,
   "metadata": {
    "execution": {
     "iopub.execute_input": "2020-10-31T20:03:53.253218Z",
     "iopub.status.busy": "2020-10-31T20:03:53.252721Z",
     "iopub.status.idle": "2020-10-31T20:03:54.717900Z",
     "shell.execute_reply": "2020-10-31T20:03:54.718420Z"
    },
    "papermill": {
     "duration": 1.494065,
     "end_time": "2020-10-31T20:03:54.718643",
     "exception": false,
     "start_time": "2020-10-31T20:03:53.224578",
     "status": "completed"
    },
    "tags": []
   },
   "outputs": [
    {
     "name": "stdout",
     "output_type": "stream",
     "text": [
      "Collecting mnist\r\n"
     ]
    },
    {
     "name": "stdout",
     "output_type": "stream",
     "text": [
      "  Downloading mnist-0.2.2-py2.py3-none-any.whl (3.5 kB)\r\n",
      "Requirement already satisfied: numpy in /opt/hostedtoolcache/Python/3.6.12/x64/lib/python3.6/site-packages (from mnist) (1.19.3)\r\n"
     ]
    },
    {
     "name": "stdout",
     "output_type": "stream",
     "text": [
      "Installing collected packages: mnist\r\n"
     ]
    },
    {
     "name": "stdout",
     "output_type": "stream",
     "text": [
      "Successfully installed mnist-0.2.2\r\n"
     ]
    }
   ],
   "source": [
    "!pip install mnist "
   ]
  },
  {
   "cell_type": "markdown",
   "metadata": {
    "papermill": {
     "duration": 0.026016,
     "end_time": "2020-10-31T20:03:54.771361",
     "exception": false,
     "start_time": "2020-10-31T20:03:54.745345",
     "status": "completed"
    },
    "tags": []
   },
   "source": [
    "#### Importing necessary libraries"
   ]
  },
  {
   "cell_type": "code",
   "execution_count": 2,
   "metadata": {
    "execution": {
     "iopub.execute_input": "2020-10-31T20:03:54.844604Z",
     "iopub.status.busy": "2020-10-31T20:03:54.837080Z",
     "iopub.status.idle": "2020-10-31T20:03:55.454392Z",
     "shell.execute_reply": "2020-10-31T20:03:55.453153Z"
    },
    "papermill": {
     "duration": 0.656186,
     "end_time": "2020-10-31T20:03:55.454581",
     "exception": false,
     "start_time": "2020-10-31T20:03:54.798395",
     "status": "completed"
    },
    "tags": []
   },
   "outputs": [],
   "source": [
    "%load_ext autoreload\n",
    "%autoreload 2\n",
    "\n",
    "%matplotlib inline\n",
    "import matplotlib.pyplot as plt\n",
    "\n",
    "import numpy as np\n",
    "import pandas as pd"
   ]
  },
  {
   "cell_type": "markdown",
   "metadata": {
    "papermill": {
     "duration": 0.314459,
     "end_time": "2020-10-31T20:03:55.795699",
     "exception": false,
     "start_time": "2020-10-31T20:03:55.481240",
     "status": "completed"
    },
    "tags": []
   },
   "source": [
    "### Preparing the Data"
   ]
  },
  {
   "cell_type": "code",
   "execution_count": 3,
   "metadata": {
    "execution": {
     "iopub.execute_input": "2020-10-31T20:03:55.854307Z",
     "iopub.status.busy": "2020-10-31T20:03:55.852639Z",
     "iopub.status.idle": "2020-10-31T20:03:55.867017Z",
     "shell.execute_reply": "2020-10-31T20:03:55.866499Z"
    },
    "papermill": {
     "duration": 0.04456,
     "end_time": "2020-10-31T20:03:55.867158",
     "exception": false,
     "start_time": "2020-10-31T20:03:55.822598",
     "status": "completed"
    },
    "tags": []
   },
   "outputs": [],
   "source": [
    "import mnist"
   ]
  },
  {
   "cell_type": "code",
   "execution_count": 4,
   "metadata": {
    "execution": {
     "iopub.execute_input": "2020-10-31T20:03:55.930867Z",
     "iopub.status.busy": "2020-10-31T20:03:55.930266Z",
     "iopub.status.idle": "2020-10-31T20:03:56.699430Z",
     "shell.execute_reply": "2020-10-31T20:03:56.698505Z"
    },
    "papermill": {
     "duration": 0.805882,
     "end_time": "2020-10-31T20:03:56.699677",
     "exception": false,
     "start_time": "2020-10-31T20:03:55.893795",
     "status": "completed"
    },
    "tags": []
   },
   "outputs": [],
   "source": [
    "train_images = mnist.train_images()\n",
    "train_labels = mnist.train_labels()"
   ]
  },
  {
   "cell_type": "code",
   "execution_count": 5,
   "metadata": {
    "execution": {
     "iopub.execute_input": "2020-10-31T20:03:56.764081Z",
     "iopub.status.busy": "2020-10-31T20:03:56.763431Z",
     "iopub.status.idle": "2020-10-31T20:03:56.776230Z",
     "shell.execute_reply": "2020-10-31T20:03:56.775705Z"
    },
    "papermill": {
     "duration": 0.049846,
     "end_time": "2020-10-31T20:03:56.776377",
     "exception": false,
     "start_time": "2020-10-31T20:03:56.726531",
     "status": "completed"
    },
    "tags": []
   },
   "outputs": [
    {
     "data": {
      "text/plain": [
       "((60000, 28, 28), (60000,))"
      ]
     },
     "execution_count": 5,
     "metadata": {},
     "output_type": "execute_result"
    }
   ],
   "source": [
    "train_images.shape, train_labels.shape"
   ]
  },
  {
   "cell_type": "code",
   "execution_count": 6,
   "metadata": {
    "execution": {
     "iopub.execute_input": "2020-10-31T20:03:56.837300Z",
     "iopub.status.busy": "2020-10-31T20:03:56.836702Z",
     "iopub.status.idle": "2020-10-31T20:03:57.107684Z",
     "shell.execute_reply": "2020-10-31T20:03:57.107118Z"
    },
    "papermill": {
     "duration": 0.305155,
     "end_time": "2020-10-31T20:03:57.107883",
     "exception": false,
     "start_time": "2020-10-31T20:03:56.802728",
     "status": "completed"
    },
    "tags": []
   },
   "outputs": [],
   "source": [
    "test_images = mnist.test_images()\n",
    "test_labels = mnist.test_labels()"
   ]
  },
  {
   "cell_type": "code",
   "execution_count": 7,
   "metadata": {
    "execution": {
     "iopub.execute_input": "2020-10-31T20:03:57.162685Z",
     "iopub.status.busy": "2020-10-31T20:03:57.162161Z",
     "iopub.status.idle": "2020-10-31T20:03:57.178860Z",
     "shell.execute_reply": "2020-10-31T20:03:57.178353Z"
    },
    "papermill": {
     "duration": 0.046813,
     "end_time": "2020-10-31T20:03:57.178995",
     "exception": false,
     "start_time": "2020-10-31T20:03:57.132182",
     "status": "completed"
    },
    "tags": []
   },
   "outputs": [
    {
     "data": {
      "text/plain": [
       "((10000, 28, 28), (10000,))"
      ]
     },
     "execution_count": 7,
     "metadata": {},
     "output_type": "execute_result"
    }
   ],
   "source": [
    "test_images.shape, test_labels.shape"
   ]
  },
  {
   "cell_type": "code",
   "execution_count": 8,
   "metadata": {
    "execution": {
     "iopub.execute_input": "2020-10-31T20:03:57.237100Z",
     "iopub.status.busy": "2020-10-31T20:03:57.236550Z",
     "iopub.status.idle": "2020-10-31T20:03:57.379003Z",
     "shell.execute_reply": "2020-10-31T20:03:57.378517Z"
    },
    "papermill": {
     "duration": 0.173983,
     "end_time": "2020-10-31T20:03:57.379162",
     "exception": false,
     "start_time": "2020-10-31T20:03:57.205179",
     "status": "completed"
    },
    "tags": []
   },
   "outputs": [
    {
     "name": "stdout",
     "output_type": "stream",
     "text": [
      "2\n"
     ]
    },
    {
     "data": {
      "text/plain": [
       "<matplotlib.image.AxesImage at 0x7ff171a32438>"
      ]
     },
     "execution_count": 8,
     "metadata": {},
     "output_type": "execute_result"
    },
    {
     "data": {
      "image/png": "[encoded data removed]",
      "text/plain": [
       "<Figure size 432x288 with 1 Axes>"
      ]
     },
     "metadata": {
      "needs_background": "light"
     },
     "output_type": "display_data"
    }
   ],
   "source": [
    "image_index = 7776 # You may select anything up to 60,000\n",
    "print(train_labels[image_index]) \n",
    "plt.imshow(train_images[image_index], cmap='Greys')"
   ]
  },
  {
   "cell_type": "markdown",
   "metadata": {
    "papermill": {
     "duration": 0.029484,
     "end_time": "2020-10-31T20:03:57.435309",
     "exception": false,
     "start_time": "2020-10-31T20:03:57.405825",
     "status": "completed"
    },
    "tags": []
   },
   "source": [
    "## Filter data to get 3 and 8 out"
   ]
  },
  {
   "cell_type": "code",
   "execution_count": 9,
   "metadata": {
    "execution": {
     "iopub.execute_input": "2020-10-31T20:03:57.497227Z",
     "iopub.status.busy": "2020-10-31T20:03:57.496686Z",
     "iopub.status.idle": "2020-10-31T20:03:57.520018Z",
     "shell.execute_reply": "2020-10-31T20:03:57.520500Z"
    },
    "papermill": {
     "duration": 0.055828,
     "end_time": "2020-10-31T20:03:57.520655",
     "exception": false,
     "start_time": "2020-10-31T20:03:57.464827",
     "status": "completed"
    },
    "tags": []
   },
   "outputs": [],
   "source": [
    "train_filter = np.where((train_labels == 3 ) | (train_labels == 8))\n",
    "test_filter = np.where((test_labels == 3) | (test_labels == 8))\n",
    "X_train, y_train = train_images[train_filter], train_labels[train_filter]\n",
    "X_test, y_test = test_images[test_filter], test_labels[test_filter]"
   ]
  },
  {
   "cell_type": "markdown",
   "metadata": {
    "papermill": {
     "duration": 0.025195,
     "end_time": "2020-10-31T20:03:57.570380",
     "exception": false,
     "start_time": "2020-10-31T20:03:57.545185",
     "status": "completed"
    },
    "tags": []
   },
   "source": [
    "We normalize the pixel values in the 0 to 1 range"
   ]
  },
  {
   "cell_type": "code",
   "execution_count": 10,
   "metadata": {
    "execution": {
     "iopub.execute_input": "2020-10-31T20:03:57.626553Z",
     "iopub.status.busy": "2020-10-31T20:03:57.625466Z",
     "iopub.status.idle": "2020-10-31T20:03:57.696222Z",
     "shell.execute_reply": "2020-10-31T20:03:57.695526Z"
    },
    "papermill": {
     "duration": 0.099966,
     "end_time": "2020-10-31T20:03:57.696417",
     "exception": false,
     "start_time": "2020-10-31T20:03:57.596451",
     "status": "completed"
    },
    "tags": []
   },
   "outputs": [],
   "source": [
    "X_train = X_train/255.\n",
    "X_test = X_test/255."
   ]
  },
  {
   "cell_type": "markdown",
   "metadata": {
    "papermill": {
     "duration": 0.027482,
     "end_time": "2020-10-31T20:03:57.752936",
     "exception": false,
     "start_time": "2020-10-31T20:03:57.725454",
     "status": "completed"
    },
    "tags": []
   },
   "source": [
    "Setup the labels as 1 (when the digit is 3) and 0 (when the digit is 8)"
   ]
  },
  {
   "cell_type": "code",
   "execution_count": 11,
   "metadata": {
    "execution": {
     "iopub.execute_input": "2020-10-31T20:03:57.809077Z",
     "iopub.status.busy": "2020-10-31T20:03:57.808447Z",
     "iopub.status.idle": "2020-10-31T20:03:57.824470Z",
     "shell.execute_reply": "2020-10-31T20:03:57.823977Z"
    },
    "papermill": {
     "duration": 0.045446,
     "end_time": "2020-10-31T20:03:57.824610",
     "exception": false,
     "start_time": "2020-10-31T20:03:57.779164",
     "status": "completed"
    },
    "tags": []
   },
   "outputs": [],
   "source": [
    "y_train = 1*(y_train==3)\n",
    "y_test = 1*(y_test==3)"
   ]
  },
  {
   "cell_type": "code",
   "execution_count": 12,
   "metadata": {
    "execution": {
     "iopub.execute_input": "2020-10-31T20:03:57.887388Z",
     "iopub.status.busy": "2020-10-31T20:03:57.886809Z",
     "iopub.status.idle": "2020-10-31T20:03:57.896471Z",
     "shell.execute_reply": "2020-10-31T20:03:57.895963Z"
    },
    "papermill": {
     "duration": 0.046932,
     "end_time": "2020-10-31T20:03:57.896597",
     "exception": false,
     "start_time": "2020-10-31T20:03:57.849665",
     "status": "completed"
    },
    "tags": []
   },
   "outputs": [
    {
     "data": {
      "text/plain": [
       "((11982, 28, 28), (1984, 28, 28))"
      ]
     },
     "execution_count": 12,
     "metadata": {},
     "output_type": "execute_result"
    }
   ],
   "source": [
    "X_train.shape, X_test.shape"
   ]
  },
  {
   "cell_type": "markdown",
   "metadata": {
    "papermill": {
     "duration": 0.027119,
     "end_time": "2020-10-31T20:03:57.947442",
     "exception": false,
     "start_time": "2020-10-31T20:03:57.920323",
     "status": "completed"
    },
    "tags": []
   },
   "source": [
    "### Reshape the input data to create a linear array"
   ]
  },
  {
   "cell_type": "code",
   "execution_count": 13,
   "metadata": {
    "execution": {
     "iopub.execute_input": "2020-10-31T20:03:58.010359Z",
     "iopub.status.busy": "2020-10-31T20:03:58.009772Z",
     "iopub.status.idle": "2020-10-31T20:03:58.019180Z",
     "shell.execute_reply": "2020-10-31T20:03:58.018814Z"
    },
    "papermill": {
     "duration": 0.046614,
     "end_time": "2020-10-31T20:03:58.019279",
     "exception": false,
     "start_time": "2020-10-31T20:03:57.972665",
     "status": "completed"
    },
    "tags": []
   },
   "outputs": [
    {
     "data": {
      "text/plain": [
       "((11982, 784), (1984, 784))"
      ]
     },
     "execution_count": 13,
     "metadata": {},
     "output_type": "execute_result"
    }
   ],
   "source": [
    "X_train = X_train.reshape(X_train.shape[0], -1)\n",
    "X_test = X_test.reshape(X_test.shape[0], -1)\n",
    "X_train.shape, X_test.shape"
   ]
  },
  {
   "cell_type": "markdown",
   "metadata": {
    "papermill": {
     "duration": 0.026358,
     "end_time": "2020-10-31T20:03:58.070406",
     "exception": false,
     "start_time": "2020-10-31T20:03:58.044048",
     "status": "completed"
    },
    "tags": []
   },
   "source": [
    "### Importing appropriate functions from 'Kudzu'"
   ]
  },
  {
   "cell_type": "code",
   "execution_count": 14,
   "metadata": {
    "execution": {
     "iopub.execute_input": "2020-10-31T20:03:58.127830Z",
     "iopub.status.busy": "2020-10-31T20:03:58.127258Z",
     "iopub.status.idle": "2020-10-31T20:03:58.146939Z",
     "shell.execute_reply": "2020-10-31T20:03:58.147352Z"
    },
    "papermill": {
     "duration": 0.051231,
     "end_time": "2020-10-31T20:03:58.147493",
     "exception": false,
     "start_time": "2020-10-31T20:03:58.096262",
     "status": "completed"
    },
    "tags": []
   },
   "outputs": [],
   "source": [
    "from kudzu.layer import Sigmoid\n",
    "from kudzu.layer import Relu\n",
    "from kudzu.layer import Affine, Sigmoid\n",
    "\n",
    "from kudzu.model import Model\n",
    "from kudzu.train import Learner\n",
    "from kudzu.optim import GD\n",
    "from kudzu.data import Data, Dataloader, Sampler\n",
    "\n",
    "from kudzu.callbacks import AccCallback\n",
    "from kudzu.callbacks import ClfCallback\n",
    "\n",
    "from kudzu.loss import MSE"
   ]
  },
  {
   "cell_type": "markdown",
   "metadata": {
    "papermill": {
     "duration": 0.025741,
     "end_time": "2020-10-31T20:03:58.198492",
     "exception": false,
     "start_time": "2020-10-31T20:03:58.172751",
     "status": "completed"
    },
    "tags": []
   },
   "source": [
    "### Let us create a `Config` class, to store important parameters. \n",
    "This class essentially plays the role of a dictionary."
   ]
  },
  {
   "cell_type": "code",
   "execution_count": 15,
   "metadata": {
    "execution": {
     "iopub.execute_input": "2020-10-31T20:03:58.254004Z",
     "iopub.status.busy": "2020-10-31T20:03:58.253576Z",
     "iopub.status.idle": "2020-10-31T20:03:58.268709Z",
     "shell.execute_reply": "2020-10-31T20:03:58.269209Z"
    },
    "papermill": {
     "duration": 0.045026,
     "end_time": "2020-10-31T20:03:58.269353",
     "exception": false,
     "start_time": "2020-10-31T20:03:58.224327",
     "status": "completed"
    },
    "tags": []
   },
   "outputs": [],
   "source": [
    "class Config:\n",
    "    pass\n",
    "config = Config()\n",
    "config.lr = 0.001\n",
    "config.num_epochs = 251\n",
    "config.bs = 50"
   ]
  },
  {
   "cell_type": "markdown",
   "metadata": {
    "papermill": {
     "duration": 0.024625,
     "end_time": "2020-10-31T20:03:58.318609",
     "exception": false,
     "start_time": "2020-10-31T20:03:58.293984",
     "status": "completed"
    },
    "tags": []
   },
   "source": [
    "### Initializing data to the variables"
   ]
  },
  {
   "cell_type": "code",
   "execution_count": 16,
   "metadata": {
    "execution": {
     "iopub.execute_input": "2020-10-31T20:03:58.372705Z",
     "iopub.status.busy": "2020-10-31T20:03:58.372205Z",
     "iopub.status.idle": "2020-10-31T20:03:58.386625Z",
     "shell.execute_reply": "2020-10-31T20:03:58.386119Z"
    },
    "papermill": {
     "duration": 0.042861,
     "end_time": "2020-10-31T20:03:58.386741",
     "exception": false,
     "start_time": "2020-10-31T20:03:58.343880",
     "status": "completed"
    },
    "tags": []
   },
   "outputs": [],
   "source": [
    "data = Data(X_train, y_train.reshape(-1,1))\n",
    "sampler = Sampler(data, config.bs, shuffle=True)\n",
    "\n",
    "dl = Dataloader(data, sampler)\n",
    "\n",
    "opt = GD(config.lr)\n",
    "loss = MSE()"
   ]
  },
  {
   "cell_type": "code",
   "execution_count": 17,
   "metadata": {
    "execution": {
     "iopub.execute_input": "2020-10-31T20:03:58.442866Z",
     "iopub.status.busy": "2020-10-31T20:03:58.442323Z",
     "iopub.status.idle": "2020-10-31T20:03:58.455519Z",
     "shell.execute_reply": "2020-10-31T20:03:58.455181Z"
    },
    "papermill": {
     "duration": 0.044417,
     "end_time": "2020-10-31T20:03:58.455618",
     "exception": false,
     "start_time": "2020-10-31T20:03:58.411201",
     "status": "completed"
    },
    "tags": []
   },
   "outputs": [],
   "source": [
    "training_xdata = X_train\n",
    "testing_xdata = X_test\n",
    "training_ydata = y_train.reshape(-1,1)\n",
    "testing_ydata = y_test.reshape(-1,1)"
   ]
  },
  {
   "cell_type": "markdown",
   "metadata": {
    "papermill": {
     "duration": 0.024479,
     "end_time": "2020-10-31T20:03:58.504961",
     "exception": false,
     "start_time": "2020-10-31T20:03:58.480482",
     "status": "completed"
    },
    "tags": []
   },
   "source": [
    "### Running Models with the Training data\n",
    "Details about the network layers:\n",
    "- A first affine layer has 784 inputs and does 100 affine transforms. These are followed by a Relu\n",
    "- A second affine layer has 100 inputs from the 100 activations of the past layer, and does 100 affine transforms. These are followed by a Relu\n",
    "- A third affine layer has 100 activations and does 2 affine transformations to create an embedding for visualization. There is no non-linearity here.\n",
    "- A final \"logistic regression\" which has an affine transform from 2 inputs to 1 output, which is squeezed through a sigmoid.\n",
    "\n",
    "Help taken from Anshuman's Notebook."
   ]
  },
  {
   "cell_type": "code",
   "execution_count": 18,
   "metadata": {
    "execution": {
     "iopub.execute_input": "2020-10-31T20:03:58.562401Z",
     "iopub.status.busy": "2020-10-31T20:03:58.561906Z",
     "iopub.status.idle": "2020-10-31T20:03:58.582032Z",
     "shell.execute_reply": "2020-10-31T20:03:58.581610Z"
    },
    "papermill": {
     "duration": 0.052828,
     "end_time": "2020-10-31T20:03:58.582147",
     "exception": false,
     "start_time": "2020-10-31T20:03:58.529319",
     "status": "completed"
    },
    "tags": []
   },
   "outputs": [],
   "source": [
    "# layers for the Neural Network\n",
    "layers = [Affine(\"first\", 784, 100), Relu(\"first\"), Affine(\"second\", 100, 100), Relu(\"second\"), Affine(\"third\", 100, 2), Affine(\"final\", 2, 1), Sigmoid(\"final\")]\n",
    "model_nn = Model(layers)\n",
    "\n",
    "# layers for the Logistic Regression\n",
    "layers_lr = [Affine(\"logits\", 784, 1), Sigmoid(\"sigmoid\")]\n",
    "model_lr = Model(layers_lr)"
   ]
  },
  {
   "cell_type": "code",
   "execution_count": 19,
   "metadata": {
    "execution": {
     "iopub.execute_input": "2020-10-31T20:03:58.652374Z",
     "iopub.status.busy": "2020-10-31T20:03:58.647026Z",
     "iopub.status.idle": "2020-10-31T20:03:58.654607Z",
     "shell.execute_reply": "2020-10-31T20:03:58.654134Z"
    },
    "papermill": {
     "duration": 0.047007,
     "end_time": "2020-10-31T20:03:58.654716",
     "exception": false,
     "start_time": "2020-10-31T20:03:58.607709",
     "status": "completed"
    },
    "tags": []
   },
   "outputs": [],
   "source": [
    "# suffix _nn stands for Neural Network.\n",
    "learner_nn = Learner(loss, model_nn, opt, config.num_epochs)\n",
    "acc_nn = ClfCallback(learner_nn, config.bs, training_xdata , testing_xdata, training_ydata, testing_ydata)\n",
    "learner_nn.set_callbacks([acc_nn])"
   ]
  },
  {
   "cell_type": "code",
   "execution_count": 20,
   "metadata": {
    "execution": {
     "iopub.execute_input": "2020-10-31T20:03:58.727192Z",
     "iopub.status.busy": "2020-10-31T20:03:58.720479Z",
     "iopub.status.idle": "2020-10-31T20:05:28.349807Z",
     "shell.execute_reply": "2020-10-31T20:05:28.350333Z"
    },
    "papermill": {
     "duration": 89.67067,
     "end_time": "2020-10-31T20:05:28.350510",
     "exception": false,
     "start_time": "2020-10-31T20:03:58.679840",
     "status": "completed"
    },
    "tags": []
   },
   "outputs": [
    {
     "name": "stdout",
     "output_type": "stream",
     "text": [
      "====== Neural Network ======\n"
     ]
    },
    {
     "name": "stdout",
     "output_type": "stream",
     "text": [
      "Epoch 0, Loss 0.2366\n",
      "Training Accuracy: 0.7067, Testing Accuracy: 0.7278\n",
      "\n"
     ]
    },
    {
     "name": "stdout",
     "output_type": "stream",
     "text": [
      "Epoch 10, Loss 0.0986\n",
      "Training Accuracy: 0.9135, Testing Accuracy: 0.9219\n",
      "\n"
     ]
    },
    {
     "name": "stdout",
     "output_type": "stream",
     "text": [
      "Epoch 20, Loss 0.0583\n",
      "Training Accuracy: 0.9382, Testing Accuracy: 0.9531\n",
      "\n"
     ]
    },
    {
     "name": "stdout",
     "output_type": "stream",
     "text": [
      "Epoch 30, Loss 0.0451\n",
      "Training Accuracy: 0.9518, Testing Accuracy: 0.9647\n",
      "\n"
     ]
    },
    {
     "name": "stdout",
     "output_type": "stream",
     "text": [
      "Epoch 40, Loss 0.0387\n",
      "Training Accuracy: 0.9571, Testing Accuracy: 0.9672\n",
      "\n"
     ]
    },
    {
     "name": "stdout",
     "output_type": "stream",
     "text": [
      "Epoch 50, Loss 0.0349\n",
      "Training Accuracy: 0.9599, Testing Accuracy: 0.9693\n",
      "\n"
     ]
    },
    {
     "name": "stdout",
     "output_type": "stream",
     "text": [
      "Epoch 60, Loss 0.0324\n",
      "Training Accuracy: 0.9622, Testing Accuracy: 0.9708\n",
      "\n"
     ]
    },
    {
     "name": "stdout",
     "output_type": "stream",
     "text": [
      "Epoch 70, Loss 0.0305\n",
      "Training Accuracy: 0.9642, Testing Accuracy: 0.9713\n",
      "\n"
     ]
    },
    {
     "name": "stdout",
     "output_type": "stream",
     "text": [
      "Epoch 80, Loss 0.029\n",
      "Training Accuracy: 0.9654, Testing Accuracy: 0.9728\n",
      "\n"
     ]
    },
    {
     "name": "stdout",
     "output_type": "stream",
     "text": [
      "Epoch 90, Loss 0.0278\n",
      "Training Accuracy: 0.9670, Testing Accuracy: 0.9733\n",
      "\n"
     ]
    },
    {
     "name": "stdout",
     "output_type": "stream",
     "text": [
      "Epoch 100, Loss 0.0268\n",
      "Training Accuracy: 0.9682, Testing Accuracy: 0.9743\n",
      "\n"
     ]
    },
    {
     "name": "stdout",
     "output_type": "stream",
     "text": [
      "Epoch 110, Loss 0.0259\n",
      "Training Accuracy: 0.9692, Testing Accuracy: 0.9723\n",
      "\n"
     ]
    },
    {
     "name": "stdout",
     "output_type": "stream",
     "text": [
      "Epoch 120, Loss 0.0251\n",
      "Training Accuracy: 0.9704, Testing Accuracy: 0.9723\n",
      "\n"
     ]
    },
    {
     "name": "stdout",
     "output_type": "stream",
     "text": [
      "Epoch 130, Loss 0.0244\n",
      "Training Accuracy: 0.9712, Testing Accuracy: 0.9728\n",
      "\n"
     ]
    },
    {
     "name": "stdout",
     "output_type": "stream",
     "text": [
      "Epoch 140, Loss 0.0238\n",
      "Training Accuracy: 0.9723, Testing Accuracy: 0.9723\n",
      "\n"
     ]
    },
    {
     "name": "stdout",
     "output_type": "stream",
     "text": [
      "Epoch 150, Loss 0.0232\n",
      "Training Accuracy: 0.9729, Testing Accuracy: 0.9723\n",
      "\n"
     ]
    },
    {
     "name": "stdout",
     "output_type": "stream",
     "text": [
      "Epoch 160, Loss 0.0227\n",
      "Training Accuracy: 0.9732, Testing Accuracy: 0.9728\n",
      "\n"
     ]
    },
    {
     "name": "stdout",
     "output_type": "stream",
     "text": [
      "Epoch 170, Loss 0.0222\n",
      "Training Accuracy: 0.9740, Testing Accuracy: 0.9718\n",
      "\n"
     ]
    },
    {
     "name": "stdout",
     "output_type": "stream",
     "text": [
      "Epoch 180, Loss 0.0217\n",
      "Training Accuracy: 0.9748, Testing Accuracy: 0.9718\n",
      "\n"
     ]
    },
    {
     "name": "stdout",
     "output_type": "stream",
     "text": [
      "Epoch 190, Loss 0.0213\n",
      "Training Accuracy: 0.9754, Testing Accuracy: 0.9718\n",
      "\n"
     ]
    },
    {
     "name": "stdout",
     "output_type": "stream",
     "text": [
      "Epoch 200, Loss 0.0208\n",
      "Training Accuracy: 0.9762, Testing Accuracy: 0.9713\n",
      "\n"
     ]
    },
    {
     "name": "stdout",
     "output_type": "stream",
     "text": [
      "Epoch 210, Loss 0.0204\n",
      "Training Accuracy: 0.9769, Testing Accuracy: 0.9713\n",
      "\n"
     ]
    },
    {
     "name": "stdout",
     "output_type": "stream",
     "text": [
      "Epoch 220, Loss 0.0201\n",
      "Training Accuracy: 0.9772, Testing Accuracy: 0.9718\n",
      "\n"
     ]
    },
    {
     "name": "stdout",
     "output_type": "stream",
     "text": [
      "Epoch 230, Loss 0.0197\n",
      "Training Accuracy: 0.9772, Testing Accuracy: 0.9713\n",
      "\n"
     ]
    },
    {
     "name": "stdout",
     "output_type": "stream",
     "text": [
      "Epoch 240, Loss 0.0193\n",
      "Training Accuracy: 0.9777, Testing Accuracy: 0.9723\n",
      "\n"
     ]
    },
    {
     "name": "stdout",
     "output_type": "stream",
     "text": [
      "Epoch 250, Loss 0.019\n",
      "Training Accuracy: 0.9780, Testing Accuracy: 0.9718\n",
      "\n"
     ]
    },
    {
     "data": {
      "text/plain": [
       "0.0009184204052939094"
      ]
     },
     "execution_count": 20,
     "metadata": {},
     "output_type": "execute_result"
    }
   ],
   "source": [
    "print(\"====== Neural Network ======\")\n",
    "learner_nn.train_loop(dl)"
   ]
  },
  {
   "cell_type": "markdown",
   "metadata": {
    "papermill": {
     "duration": 0.034442,
     "end_time": "2020-10-31T20:05:28.419692",
     "exception": false,
     "start_time": "2020-10-31T20:05:28.385250",
     "status": "completed"
    },
    "tags": []
   },
   "source": [
    "### Logistic Regression based Implementation."
   ]
  },
  {
   "cell_type": "code",
   "execution_count": 21,
   "metadata": {
    "execution": {
     "iopub.execute_input": "2020-10-31T20:05:28.509551Z",
     "iopub.status.busy": "2020-10-31T20:05:28.508961Z",
     "iopub.status.idle": "2020-10-31T20:05:28.521883Z",
     "shell.execute_reply": "2020-10-31T20:05:28.522361Z"
    },
    "papermill": {
     "duration": 0.060454,
     "end_time": "2020-10-31T20:05:28.522530",
     "exception": false,
     "start_time": "2020-10-31T20:05:28.462076",
     "status": "completed"
    },
    "tags": []
   },
   "outputs": [],
   "source": [
    "learner_lr = Learner(loss, model_lr, opt, config.num_epochs)\n",
    "acc_lr = ClfCallback(learner_lr, config.bs, training_xdata , testing_xdata, training_ydata, testing_ydata)\n",
    "learner_lr.set_callbacks([acc_lr])"
   ]
  },
  {
   "cell_type": "code",
   "execution_count": 22,
   "metadata": {
    "execution": {
     "iopub.execute_input": "2020-10-31T20:05:28.593721Z",
     "iopub.status.busy": "2020-10-31T20:05:28.593186Z",
     "iopub.status.idle": "2020-10-31T20:05:44.832925Z",
     "shell.execute_reply": "2020-10-31T20:05:44.833703Z"
    },
    "papermill": {
     "duration": 16.277789,
     "end_time": "2020-10-31T20:05:44.833899",
     "exception": false,
     "start_time": "2020-10-31T20:05:28.556110",
     "status": "completed"
    },
    "tags": []
   },
   "outputs": [
    {
     "name": "stdout",
     "output_type": "stream",
     "text": [
      "====== Logistic Regression ======\n",
      "Epoch 0, Loss 0.259\n",
      "Training Accuracy: 0.6163, Testing Accuracy: 0.6341\n",
      "\n"
     ]
    },
    {
     "name": "stdout",
     "output_type": "stream",
     "text": [
      "Epoch 10, Loss 0.1032\n",
      "Training Accuracy: 0.9116, Testing Accuracy: 0.9264\n",
      "\n"
     ]
    },
    {
     "name": "stdout",
     "output_type": "stream",
     "text": [
      "Epoch 20, Loss 0.0789\n",
      "Training Accuracy: 0.9291, Testing Accuracy: 0.9380\n",
      "\n"
     ]
    },
    {
     "name": "stdout",
     "output_type": "stream",
     "text": [
      "Epoch 30, Loss 0.0679\n",
      "Training Accuracy: 0.9375, Testing Accuracy: 0.9481\n",
      "\n"
     ]
    },
    {
     "name": "stdout",
     "output_type": "stream",
     "text": [
      "Epoch 40, Loss 0.0613\n",
      "Training Accuracy: 0.9423, Testing Accuracy: 0.9541\n",
      "\n"
     ]
    },
    {
     "name": "stdout",
     "output_type": "stream",
     "text": [
      "Epoch 50, Loss 0.0569\n",
      "Training Accuracy: 0.9460, Testing Accuracy: 0.9572\n",
      "\n"
     ]
    },
    {
     "name": "stdout",
     "output_type": "stream",
     "text": [
      "Epoch 60, Loss 0.0536\n",
      "Training Accuracy: 0.9484, Testing Accuracy: 0.9572\n",
      "\n"
     ]
    },
    {
     "name": "stdout",
     "output_type": "stream",
     "text": [
      "Epoch 70, Loss 0.0511\n",
      "Training Accuracy: 0.9504, Testing Accuracy: 0.9582\n",
      "\n"
     ]
    },
    {
     "name": "stdout",
     "output_type": "stream",
     "text": [
      "Epoch 80, Loss 0.049\n",
      "Training Accuracy: 0.9513, Testing Accuracy: 0.9607\n",
      "\n"
     ]
    },
    {
     "name": "stdout",
     "output_type": "stream",
     "text": [
      "Epoch 90, Loss 0.0474\n",
      "Training Accuracy: 0.9528, Testing Accuracy: 0.9612\n",
      "\n"
     ]
    },
    {
     "name": "stdout",
     "output_type": "stream",
     "text": [
      "Epoch 100, Loss 0.046\n",
      "Training Accuracy: 0.9538, Testing Accuracy: 0.9617\n",
      "\n"
     ]
    },
    {
     "name": "stdout",
     "output_type": "stream",
     "text": [
      "Epoch 110, Loss 0.0447\n",
      "Training Accuracy: 0.9548, Testing Accuracy: 0.9632\n",
      "\n"
     ]
    },
    {
     "name": "stdout",
     "output_type": "stream",
     "text": [
      "Epoch 120, Loss 0.0437\n",
      "Training Accuracy: 0.9554, Testing Accuracy: 0.9637\n",
      "\n"
     ]
    },
    {
     "name": "stdout",
     "output_type": "stream",
     "text": [
      "Epoch 130, Loss 0.0428\n",
      "Training Accuracy: 0.9556, Testing Accuracy: 0.9652\n",
      "\n"
     ]
    },
    {
     "name": "stdout",
     "output_type": "stream",
     "text": [
      "Epoch 140, Loss 0.0419\n",
      "Training Accuracy: 0.9563, Testing Accuracy: 0.9652\n",
      "\n"
     ]
    },
    {
     "name": "stdout",
     "output_type": "stream",
     "text": [
      "Epoch 150, Loss 0.0412\n",
      "Training Accuracy: 0.9571, Testing Accuracy: 0.9652\n",
      "\n"
     ]
    },
    {
     "name": "stdout",
     "output_type": "stream",
     "text": [
      "Epoch 160, Loss 0.0405\n",
      "Training Accuracy: 0.9580, Testing Accuracy: 0.9657\n",
      "\n"
     ]
    },
    {
     "name": "stdout",
     "output_type": "stream",
     "text": [
      "Epoch 170, Loss 0.0399\n",
      "Training Accuracy: 0.9586, Testing Accuracy: 0.9657\n",
      "\n"
     ]
    },
    {
     "name": "stdout",
     "output_type": "stream",
     "text": [
      "Epoch 180, Loss 0.0394\n",
      "Training Accuracy: 0.9593, Testing Accuracy: 0.9657\n",
      "\n"
     ]
    },
    {
     "name": "stdout",
     "output_type": "stream",
     "text": [
      "Epoch 190, Loss 0.0388\n",
      "Training Accuracy: 0.9594, Testing Accuracy: 0.9657\n",
      "\n"
     ]
    },
    {
     "name": "stdout",
     "output_type": "stream",
     "text": [
      "Epoch 200, Loss 0.0384\n",
      "Training Accuracy: 0.9598, Testing Accuracy: 0.9662\n",
      "\n"
     ]
    },
    {
     "name": "stdout",
     "output_type": "stream",
     "text": [
      "Epoch 210, Loss 0.0379\n",
      "Training Accuracy: 0.9602, Testing Accuracy: 0.9672\n",
      "\n"
     ]
    },
    {
     "name": "stdout",
     "output_type": "stream",
     "text": [
      "Epoch 220, Loss 0.0375\n",
      "Training Accuracy: 0.9607, Testing Accuracy: 0.9672\n",
      "\n"
     ]
    },
    {
     "name": "stdout",
     "output_type": "stream",
     "text": [
      "Epoch 230, Loss 0.0371\n",
      "Training Accuracy: 0.9609, Testing Accuracy: 0.9677\n",
      "\n"
     ]
    },
    {
     "name": "stdout",
     "output_type": "stream",
     "text": [
      "Epoch 240, Loss 0.0368\n",
      "Training Accuracy: 0.9610, Testing Accuracy: 0.9688\n",
      "\n"
     ]
    },
    {
     "name": "stdout",
     "output_type": "stream",
     "text": [
      "Epoch 250, Loss 0.0364\n",
      "Training Accuracy: 0.9613, Testing Accuracy: 0.9682\n",
      "\n"
     ]
    },
    {
     "data": {
      "text/plain": [
       "0.039098590579678655"
      ]
     },
     "execution_count": 22,
     "metadata": {},
     "output_type": "execute_result"
    }
   ],
   "source": [
    "print(\"====== Logistic Regression ======\")\n",
    "learner_lr.train_loop(dl)"
   ]
  },
  {
   "cell_type": "markdown",
   "metadata": {
    "papermill": {
     "duration": 0.042131,
     "end_time": "2020-10-31T20:05:44.920355",
     "exception": false,
     "start_time": "2020-10-31T20:05:44.878224",
     "status": "completed"
    },
    "tags": []
   },
   "source": [
    "### Comparing results of NN and LR"
   ]
  },
  {
   "cell_type": "code",
   "execution_count": 23,
   "metadata": {
    "execution": {
     "iopub.execute_input": "2020-10-31T20:05:45.008380Z",
     "iopub.status.busy": "2020-10-31T20:05:45.007744Z",
     "iopub.status.idle": "2020-10-31T20:05:45.246370Z",
     "shell.execute_reply": "2020-10-31T20:05:45.245829Z"
    },
    "papermill": {
     "duration": 0.284723,
     "end_time": "2020-10-31T20:05:45.246535",
     "exception": false,
     "start_time": "2020-10-31T20:05:44.961812",
     "status": "completed"
    },
    "tags": []
   },
   "outputs": [
    {
     "data": {
      "text/plain": [
       "<matplotlib.legend.Legend at 0x7ff16959d128>"
      ]
     },
     "execution_count": 23,
     "metadata": {},
     "output_type": "execute_result"
    },
    {
     "data": {
      "image/png": "[encoded data removed]",
      "text/plain": [
       "<Figure size 1080x720 with 1 Axes>"
      ]
     },
     "metadata": {
      "needs_background": "light"
     },
     "output_type": "display_data"
    }
   ],
   "source": [
    "plt.figure(figsize=(15,10))\n",
    "\n",
    "# Neural Network plots\n",
    "plt.plot(acc_nn.accuracies, 'r-', label = \"Training Accuracies - NN\")\n",
    "plt.plot(acc_nn.test_accuracies, 'g-', label = \"Testing Accuracies - NN\")\n",
    "\n",
    "# Logistic Regression plots\n",
    "plt.plot(acc_lr.accuracies, 'k-', label = \"Training Accuracies - LR\")\n",
    "plt.plot(acc_lr.test_accuracies, 'b-', label = \"Testing Accuracies - LR\")\n",
    "\n",
    "plt.ylim(0.8, 1)\n",
    "\n",
    "plt.legend()\n",
    "\n"
   ]
  },
  {
   "cell_type": "markdown",
   "metadata": {
    "papermill": {
     "duration": 0.043672,
     "end_time": "2020-10-31T20:05:45.331748",
     "exception": false,
     "start_time": "2020-10-31T20:05:45.288076",
     "status": "completed"
    },
    "tags": []
   },
   "source": [
    "### From the plot, we can observe the following:\n",
    "- Neural Network achieves higher accuracy than the Logistic Regression model.\n",
    "- This apparently, is because of overfitting, i.e. NN captures more noise than data.\n",
    "- Testing accuracy of NN drops below the Training accuracy at higher epochs. This explains the over-fitting on training data.\n",
    "- Logistic Regression gives a reliable accuracy, without the above mentioned problem.\n"
   ]
  },
  {
   "cell_type": "markdown",
   "metadata": {
    "papermill": {
     "duration": 0.042257,
     "end_time": "2020-10-31T20:05:45.419104",
     "exception": false,
     "start_time": "2020-10-31T20:05:45.376847",
     "status": "completed"
    },
    "tags": []
   },
   "source": [
    "### Moving till the last but one layer (excluding it).\n",
    "#### Plotting the outputs of this layer of the NN."
   ]
  },
  {
   "cell_type": "code",
   "execution_count": 24,
   "metadata": {
    "execution": {
     "iopub.execute_input": "2020-10-31T20:05:45.515674Z",
     "iopub.status.busy": "2020-10-31T20:05:45.512825Z",
     "iopub.status.idle": "2020-10-31T20:05:45.527994Z",
     "shell.execute_reply": "2020-10-31T20:05:45.527453Z"
    },
    "papermill": {
     "duration": 0.064694,
     "end_time": "2020-10-31T20:05:45.528134",
     "exception": false,
     "start_time": "2020-10-31T20:05:45.463440",
     "status": "completed"
    },
    "tags": []
   },
   "outputs": [],
   "source": [
    "model_new = Model(layers[:-2])"
   ]
  },
  {
   "cell_type": "code",
   "execution_count": 25,
   "metadata": {
    "execution": {
     "iopub.execute_input": "2020-10-31T20:05:45.617669Z",
     "iopub.status.busy": "2020-10-31T20:05:45.617105Z",
     "iopub.status.idle": "2020-10-31T20:05:45.636114Z",
     "shell.execute_reply": "2020-10-31T20:05:45.636853Z"
    },
    "papermill": {
     "duration": 0.068693,
     "end_time": "2020-10-31T20:05:45.637024",
     "exception": false,
     "start_time": "2020-10-31T20:05:45.568331",
     "status": "completed"
    },
    "tags": []
   },
   "outputs": [],
   "source": [
    "plot_testing = model_new(testing_xdata)"
   ]
  },
  {
   "cell_type": "code",
   "execution_count": 26,
   "metadata": {
    "execution": {
     "iopub.execute_input": "2020-10-31T20:05:45.729740Z",
     "iopub.status.busy": "2020-10-31T20:05:45.729174Z",
     "iopub.status.idle": "2020-10-31T20:05:45.939823Z",
     "shell.execute_reply": "2020-10-31T20:05:45.940322Z"
    },
    "papermill": {
     "duration": 0.256853,
     "end_time": "2020-10-31T20:05:45.940507",
     "exception": false,
     "start_time": "2020-10-31T20:05:45.683654",
     "status": "completed"
    },
    "tags": []
   },
   "outputs": [
    {
     "data": {
      "text/plain": [
       "Text(0.5, 1.0, 'Outputs')"
      ]
     },
     "execution_count": 26,
     "metadata": {},
     "output_type": "execute_result"
    },
    {
     "data": {
      "image/png": "[encoded data removed]",
      "text/plain": [
       "<Figure size 576x504 with 1 Axes>"
      ]
     },
     "metadata": {
      "needs_background": "light"
     },
     "output_type": "display_data"
    }
   ],
   "source": [
    "plt.figure(figsize=(8,7))\n",
    "plt.scatter(plot_testing[:,0], plot_testing[:,1], alpha = 0.1, c = y_test.ravel());\n",
    "plt.title('Outputs')"
   ]
  },
  {
   "cell_type": "markdown",
   "metadata": {
    "papermill": {
     "duration": 0.048202,
     "end_time": "2020-10-31T20:05:46.037739",
     "exception": false,
     "start_time": "2020-10-31T20:05:45.989537",
     "status": "completed"
    },
    "tags": []
   },
   "source": [
    "### Plotting probability contours"
   ]
  },
  {
   "cell_type": "code",
   "execution_count": 27,
   "metadata": {
    "execution": {
     "iopub.execute_input": "2020-10-31T20:05:46.145822Z",
     "iopub.status.busy": "2020-10-31T20:05:46.145205Z",
     "iopub.status.idle": "2020-10-31T20:05:46.161344Z",
     "shell.execute_reply": "2020-10-31T20:05:46.160482Z"
    },
    "papermill": {
     "duration": 0.07037,
     "end_time": "2020-10-31T20:05:46.161578",
     "exception": false,
     "start_time": "2020-10-31T20:05:46.091208",
     "status": "completed"
    },
    "tags": []
   },
   "outputs": [],
   "source": [
    "model_prob = Model(layers[-2:]) "
   ]
  },
  {
   "cell_type": "code",
   "execution_count": 28,
   "metadata": {
    "execution": {
     "iopub.execute_input": "2020-10-31T20:05:46.259570Z",
     "iopub.status.busy": "2020-10-31T20:05:46.258997Z",
     "iopub.status.idle": "2020-10-31T20:05:46.274969Z",
     "shell.execute_reply": "2020-10-31T20:05:46.275336Z"
    },
    "papermill": {
     "duration": 0.06628,
     "end_time": "2020-10-31T20:05:46.275479",
     "exception": false,
     "start_time": "2020-10-31T20:05:46.209199",
     "status": "completed"
    },
    "tags": []
   },
   "outputs": [],
   "source": [
    "# Adjust the x and y ranges according to the above generated plot.\n",
    "x_range = np.linspace(-4, 1, 100) \n",
    "y_range = np.linspace(-6, 6, 100) \n",
    "x_grid, y_grid = np.meshgrid(x_range, y_range) # x_grid and y_grig are of size 100 X 100\n",
    "\n",
    "# converting x_grid and y_grid to continuous arrays\n",
    "x_grid_flat = np.ravel(x_grid)\n",
    "y_grid_flat = np.ravel(y_grid)\n",
    "\n",
    "# The last layer of the current model takes two columns as input. Hence transpose of np.vstack() is required.\n",
    "X = np.vstack((x_grid_flat, y_grid_flat)).T\n",
    "\n",
    "# x_grid and y_grid are of size 100 x 100\n",
    "probability_contour = model_prob(X).reshape(100,100) "
   ]
  },
  {
   "cell_type": "code",
   "execution_count": 29,
   "metadata": {
    "execution": {
     "iopub.execute_input": "2020-10-31T20:05:46.371212Z",
     "iopub.status.busy": "2020-10-31T20:05:46.370591Z",
     "iopub.status.idle": "2020-10-31T20:05:46.623097Z",
     "shell.execute_reply": "2020-10-31T20:05:46.622605Z"
    },
    "papermill": {
     "duration": 0.302616,
     "end_time": "2020-10-31T20:05:46.623223",
     "exception": false,
     "start_time": "2020-10-31T20:05:46.320607",
     "status": "completed"
    },
    "tags": []
   },
   "outputs": [
    {
     "data": {
      "image/png": "[encoded data removed]",
      "text/plain": [
       "<Figure size 720x648 with 1 Axes>"
      ]
     },
     "metadata": {
      "needs_background": "light"
     },
     "output_type": "display_data"
    }
   ],
   "source": [
    "plt.figure(figsize=(10,9))\n",
    "plt.scatter(plot_testing[:,0], plot_testing[:,1], alpha = 0.1, c = y_test.ravel())\n",
    "contours = plt.contour(x_grid,y_grid,probability_contour)\n",
    "plt.title('Probability Contours')\n",
    "plt.clabel(contours, inline = True );"
   ]
  }
 ],
 "metadata": {
  "kernelspec": {
   "display_name": "Python 3",
   "language": "python",
   "name": "python3"
  },
  "language_info": {
   "codemirror_mode": {
    "name": "ipython",
    "version": 3
   },
   "file_extension": ".py",
   "mimetype": "text/x-python",
   "name": "python",
   "nbconvert_exporter": "python",
   "pygments_lexer": "ipython3",
   "version": "3.6.12"
  },
  "papermill": {
   "duration": 115.028177,
   "end_time": "2020-10-31T20:05:47.080635",
   "environment_variables": {},
   "exception": null,
   "input_path": "2020-08-11-NeuralNetwork.ipynb",
   "output_path": "2020-08-11-NeuralNetwork.ipynb",
   "parameters": {},
   "start_time": "2020-10-31T20:03:52.052458",
   "version": "2.1.2"
  }
 },
 "nbformat": 4,
 "nbformat_minor": 4
}