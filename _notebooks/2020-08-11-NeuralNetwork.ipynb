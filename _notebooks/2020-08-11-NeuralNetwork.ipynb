{
 "cells": [
  {
   "cell_type": "markdown",
   "metadata": {
    "papermill": {
     "duration": 0.068567,
     "end_time": "2020-08-23T20:04:12.421055",
     "exception": false,
     "start_time": "2020-08-23T20:04:12.352488",
     "status": "completed"
    },
    "tags": []
   },
   "source": [
    "# \"A Basic Neural Network: Differentiate Hand-Written Digits\"\n",
    "\n",
    "- badges: true\n",
    "- author: Akshith Sriram"
   ]
  },
  {
   "cell_type": "markdown",
   "metadata": {
    "papermill": {
     "duration": 0.106894,
     "end_time": "2020-08-23T20:04:12.575276",
     "exception": false,
     "start_time": "2020-08-23T20:04:12.468382",
     "status": "completed"
    },
    "tags": []
   },
   "source": [
    "### Key Objectives:\n",
    "- Building a neural network that differentiates two hand-written digits 3 and 8.\n",
    "- Comparing the results of this Neural Network (NN) to that of a Logistic Regression (LR) model.\n",
    "\n",
    "### Requirements:\n",
    "- 'Kudzu' : A neural network library that was designed during our course by [Univ.AI](www.univ.ai). \n",
    "- MNIST Database\n",
    "\n",
    "If MNIST is not installed, use the command `!pip install mnist` given below.\n",
    "It can be run both from the command line and Jupyter Notebook."
   ]
  },
  {
   "cell_type": "code",
   "execution_count": 1,
   "metadata": {
    "execution": {
     "iopub.execute_input": "2020-08-23T20:04:12.676873Z",
     "iopub.status.busy": "2020-08-23T20:04:12.676162Z",
     "iopub.status.idle": "2020-08-23T20:04:14.101178Z",
     "shell.execute_reply": "2020-08-23T20:04:14.099619Z"
    },
    "papermill": {
     "duration": 1.497715,
     "end_time": "2020-08-23T20:04:14.101368",
     "exception": false,
     "start_time": "2020-08-23T20:04:12.603653",
     "status": "completed"
    },
    "tags": []
   },
   "outputs": [
    {
     "name": "stdout",
     "output_type": "stream",
     "text": [
      "Collecting mnist\r\n"
     ]
    },
    {
     "name": "stdout",
     "output_type": "stream",
     "text": [
      "  Downloading mnist-0.2.2-py2.py3-none-any.whl (3.5 kB)\r\n",
      "Requirement already satisfied: numpy in /opt/hostedtoolcache/Python/3.6.11/x64/lib/python3.6/site-packages (from mnist) (1.19.1)\r\n"
     ]
    },
    {
     "name": "stdout",
     "output_type": "stream",
     "text": [
      "Installing collected packages: mnist\r\n"
     ]
    },
    {
     "name": "stdout",
     "output_type": "stream",
     "text": [
      "Successfully installed mnist-0.2.2\r\n"
     ]
    }
   ],
   "source": [
    "!pip install mnist "
   ]
  },
  {
   "cell_type": "markdown",
   "metadata": {
    "papermill": {
     "duration": 0.02365,
     "end_time": "2020-08-23T20:04:14.153026",
     "exception": false,
     "start_time": "2020-08-23T20:04:14.129376",
     "status": "completed"
    },
    "tags": []
   },
   "source": [
    "#### Importing necessary libraries"
   ]
  },
  {
   "cell_type": "code",
   "execution_count": 2,
   "metadata": {
    "execution": {
     "iopub.execute_input": "2020-08-23T20:04:14.216521Z",
     "iopub.status.busy": "2020-08-23T20:04:14.205729Z",
     "iopub.status.idle": "2020-08-23T20:04:14.752647Z",
     "shell.execute_reply": "2020-08-23T20:04:14.752110Z"
    },
    "papermill": {
     "duration": 0.5768,
     "end_time": "2020-08-23T20:04:14.752764",
     "exception": false,
     "start_time": "2020-08-23T20:04:14.175964",
     "status": "completed"
    },
    "tags": []
   },
   "outputs": [],
   "source": [
    "%load_ext autoreload\n",
    "%autoreload 2\n",
    "\n",
    "%matplotlib inline\n",
    "import matplotlib.pyplot as plt\n",
    "\n",
    "import numpy as np\n",
    "import pandas as pd"
   ]
  },
  {
   "cell_type": "markdown",
   "metadata": {
    "papermill": {
     "duration": 0.026407,
     "end_time": "2020-08-23T20:04:14.805501",
     "exception": false,
     "start_time": "2020-08-23T20:04:14.779094",
     "status": "completed"
    },
    "tags": []
   },
   "source": [
    "### Preparing the Data"
   ]
  },
  {
   "cell_type": "code",
   "execution_count": 3,
   "metadata": {
    "execution": {
     "iopub.execute_input": "2020-08-23T20:04:14.860761Z",
     "iopub.status.busy": "2020-08-23T20:04:14.860052Z",
     "iopub.status.idle": "2020-08-23T20:04:14.871242Z",
     "shell.execute_reply": "2020-08-23T20:04:14.870746Z"
    },
    "papermill": {
     "duration": 0.039508,
     "end_time": "2020-08-23T20:04:14.871359",
     "exception": false,
     "start_time": "2020-08-23T20:04:14.831851",
     "status": "completed"
    },
    "tags": []
   },
   "outputs": [],
   "source": [
    "import mnist"
   ]
  },
  {
   "cell_type": "code",
   "execution_count": 4,
   "metadata": {
    "execution": {
     "iopub.execute_input": "2020-08-23T20:04:14.923702Z",
     "iopub.status.busy": "2020-08-23T20:04:14.923105Z",
     "iopub.status.idle": "2020-08-23T20:04:15.682869Z",
     "shell.execute_reply": "2020-08-23T20:04:15.682340Z"
    },
    "papermill": {
     "duration": 0.787117,
     "end_time": "2020-08-23T20:04:15.683018",
     "exception": false,
     "start_time": "2020-08-23T20:04:14.895901",
     "status": "completed"
    },
    "tags": []
   },
   "outputs": [],
   "source": [
    "train_images = mnist.train_images()\n",
    "train_labels = mnist.train_labels()"
   ]
  },
  {
   "cell_type": "code",
   "execution_count": 5,
   "metadata": {
    "execution": {
     "iopub.execute_input": "2020-08-23T20:04:15.732398Z",
     "iopub.status.busy": "2020-08-23T20:04:15.731860Z",
     "iopub.status.idle": "2020-08-23T20:04:15.747851Z",
     "shell.execute_reply": "2020-08-23T20:04:15.747447Z"
    },
    "papermill": {
     "duration": 0.042421,
     "end_time": "2020-08-23T20:04:15.747950",
     "exception": false,
     "start_time": "2020-08-23T20:04:15.705529",
     "status": "completed"
    },
    "tags": []
   },
   "outputs": [
    {
     "data": {
      "text/plain": [
       "((60000, 28, 28), (60000,))"
      ]
     },
     "execution_count": 5,
     "metadata": {},
     "output_type": "execute_result"
    }
   ],
   "source": [
    "train_images.shape, train_labels.shape"
   ]
  },
  {
   "cell_type": "code",
   "execution_count": 6,
   "metadata": {
    "execution": {
     "iopub.execute_input": "2020-08-23T20:04:15.802034Z",
     "iopub.status.busy": "2020-08-23T20:04:15.801536Z",
     "iopub.status.idle": "2020-08-23T20:04:16.083389Z",
     "shell.execute_reply": "2020-08-23T20:04:16.082704Z"
    },
    "papermill": {
     "duration": 0.312301,
     "end_time": "2020-08-23T20:04:16.083547",
     "exception": false,
     "start_time": "2020-08-23T20:04:15.771246",
     "status": "completed"
    },
    "tags": []
   },
   "outputs": [],
   "source": [
    "test_images = mnist.test_images()\n",
    "test_labels = mnist.test_labels()"
   ]
  },
  {
   "cell_type": "code",
   "execution_count": 7,
   "metadata": {
    "execution": {
     "iopub.execute_input": "2020-08-23T20:04:16.136695Z",
     "iopub.status.busy": "2020-08-23T20:04:16.136225Z",
     "iopub.status.idle": "2020-08-23T20:04:16.148295Z",
     "shell.execute_reply": "2020-08-23T20:04:16.148786Z"
    },
    "papermill": {
     "duration": 0.040557,
     "end_time": "2020-08-23T20:04:16.148918",
     "exception": false,
     "start_time": "2020-08-23T20:04:16.108361",
     "status": "completed"
    },
    "tags": []
   },
   "outputs": [
    {
     "data": {
      "text/plain": [
       "((10000, 28, 28), (10000,))"
      ]
     },
     "execution_count": 7,
     "metadata": {},
     "output_type": "execute_result"
    }
   ],
   "source": [
    "test_images.shape, test_labels.shape"
   ]
  },
  {
   "cell_type": "code",
   "execution_count": 8,
   "metadata": {
    "execution": {
     "iopub.execute_input": "2020-08-23T20:04:16.202638Z",
     "iopub.status.busy": "2020-08-23T20:04:16.202053Z",
     "iopub.status.idle": "2020-08-23T20:04:16.342110Z",
     "shell.execute_reply": "2020-08-23T20:04:16.341648Z"
    },
    "papermill": {
     "duration": 0.168593,
     "end_time": "2020-08-23T20:04:16.342237",
     "exception": false,
     "start_time": "2020-08-23T20:04:16.173644",
     "status": "completed"
    },
    "tags": []
   },
   "outputs": [
    {
     "name": "stdout",
     "output_type": "stream",
     "text": [
      "2\n"
     ]
    },
    {
     "data": {
      "text/plain": [
       "<matplotlib.image.AxesImage at 0x7ffa4aeff0f0>"
      ]
     },
     "execution_count": 8,
     "metadata": {},
     "output_type": "execute_result"
    },
    {
     "data": {
      "image/png": "[encoded data removed]",
      "text/plain": [
       "<Figure size 432x288 with 1 Axes>"
      ]
     },
     "metadata": {
      "needs_background": "light"
     },
     "output_type": "display_data"
    }
   ],
   "source": [
    "image_index = 7776 # You may select anything up to 60,000\n",
    "print(train_labels[image_index]) \n",
    "plt.imshow(train_images[image_index], cmap='Greys')"
   ]
  },
  {
   "cell_type": "markdown",
   "metadata": {
    "papermill": {
     "duration": 0.024621,
     "end_time": "2020-08-23T20:04:16.391331",
     "exception": false,
     "start_time": "2020-08-23T20:04:16.366710",
     "status": "completed"
    },
    "tags": []
   },
   "source": [
    "## Filter data to get 3 and 8 out"
   ]
  },
  {
   "cell_type": "code",
   "execution_count": 9,
   "metadata": {
    "execution": {
     "iopub.execute_input": "2020-08-23T20:04:16.445304Z",
     "iopub.status.busy": "2020-08-23T20:04:16.444822Z",
     "iopub.status.idle": "2020-08-23T20:04:16.464160Z",
     "shell.execute_reply": "2020-08-23T20:04:16.464649Z"
    },
    "papermill": {
     "duration": 0.049163,
     "end_time": "2020-08-23T20:04:16.464786",
     "exception": false,
     "start_time": "2020-08-23T20:04:16.415623",
     "status": "completed"
    },
    "tags": []
   },
   "outputs": [],
   "source": [
    "train_filter = np.where((train_labels == 3 ) | (train_labels == 8))\n",
    "test_filter = np.where((test_labels == 3) | (test_labels == 8))\n",
    "X_train, y_train = train_images[train_filter], train_labels[train_filter]\n",
    "X_test, y_test = test_images[test_filter], test_labels[test_filter]"
   ]
  },
  {
   "cell_type": "markdown",
   "metadata": {
    "papermill": {
     "duration": 0.024616,
     "end_time": "2020-08-23T20:04:16.514189",
     "exception": false,
     "start_time": "2020-08-23T20:04:16.489573",
     "status": "completed"
    },
    "tags": []
   },
   "source": [
    "We normalize the pixel values in the 0 to 1 range"
   ]
  },
  {
   "cell_type": "code",
   "execution_count": 10,
   "metadata": {
    "execution": {
     "iopub.execute_input": "2020-08-23T20:04:16.567820Z",
     "iopub.status.busy": "2020-08-23T20:04:16.567251Z",
     "iopub.status.idle": "2020-08-23T20:04:16.620913Z",
     "shell.execute_reply": "2020-08-23T20:04:16.620305Z"
    },
    "papermill": {
     "duration": 0.083118,
     "end_time": "2020-08-23T20:04:16.621069",
     "exception": false,
     "start_time": "2020-08-23T20:04:16.537951",
     "status": "completed"
    },
    "tags": []
   },
   "outputs": [],
   "source": [
    "X_train = X_train/255.\n",
    "X_test = X_test/255."
   ]
  },
  {
   "cell_type": "markdown",
   "metadata": {
    "papermill": {
     "duration": 0.023115,
     "end_time": "2020-08-23T20:04:16.669148",
     "exception": false,
     "start_time": "2020-08-23T20:04:16.646033",
     "status": "completed"
    },
    "tags": []
   },
   "source": [
    "Setup the labels as 1 (when the digit is 3) and 0 (when the digit is 8)"
   ]
  },
  {
   "cell_type": "code",
   "execution_count": 11,
   "metadata": {
    "execution": {
     "iopub.execute_input": "2020-08-23T20:04:16.722615Z",
     "iopub.status.busy": "2020-08-23T20:04:16.722072Z",
     "iopub.status.idle": "2020-08-23T20:04:16.734217Z",
     "shell.execute_reply": "2020-08-23T20:04:16.733715Z"
    },
    "papermill": {
     "duration": 0.039761,
     "end_time": "2020-08-23T20:04:16.734340",
     "exception": false,
     "start_time": "2020-08-23T20:04:16.694579",
     "status": "completed"
    },
    "tags": []
   },
   "outputs": [],
   "source": [
    "y_train = 1*(y_train==3)\n",
    "y_test = 1*(y_test==3)"
   ]
  },
  {
   "cell_type": "code",
   "execution_count": 12,
   "metadata": {
    "execution": {
     "iopub.execute_input": "2020-08-23T20:04:16.787116Z",
     "iopub.status.busy": "2020-08-23T20:04:16.786620Z",
     "iopub.status.idle": "2020-08-23T20:04:16.801071Z",
     "shell.execute_reply": "2020-08-23T20:04:16.801571Z"
    },
    "papermill": {
     "duration": 0.04321,
     "end_time": "2020-08-23T20:04:16.801708",
     "exception": false,
     "start_time": "2020-08-23T20:04:16.758498",
     "status": "completed"
    },
    "tags": []
   },
   "outputs": [
    {
     "data": {
      "text/plain": [
       "((11982, 28, 28), (1984, 28, 28))"
      ]
     },
     "execution_count": 12,
     "metadata": {},
     "output_type": "execute_result"
    }
   ],
   "source": [
    "X_train.shape, X_test.shape"
   ]
  },
  {
   "cell_type": "markdown",
   "metadata": {
    "papermill": {
     "duration": 0.024449,
     "end_time": "2020-08-23T20:04:16.853610",
     "exception": false,
     "start_time": "2020-08-23T20:04:16.829161",
     "status": "completed"
    },
    "tags": []
   },
   "source": [
    "### Reshape the input data to create a linear array"
   ]
  },
  {
   "cell_type": "code",
   "execution_count": 13,
   "metadata": {
    "execution": {
     "iopub.execute_input": "2020-08-23T20:04:16.909922Z",
     "iopub.status.busy": "2020-08-23T20:04:16.909346Z",
     "iopub.status.idle": "2020-08-23T20:04:16.923804Z",
     "shell.execute_reply": "2020-08-23T20:04:16.923367Z"
    },
    "papermill": {
     "duration": 0.044103,
     "end_time": "2020-08-23T20:04:16.923919",
     "exception": false,
     "start_time": "2020-08-23T20:04:16.879816",
     "status": "completed"
    },
    "tags": []
   },
   "outputs": [
    {
     "data": {
      "text/plain": [
       "((11982, 784), (1984, 784))"
      ]
     },
     "execution_count": 13,
     "metadata": {},
     "output_type": "execute_result"
    }
   ],
   "source": [
    "X_train = X_train.reshape(X_train.shape[0], -1)\n",
    "X_test = X_test.reshape(X_test.shape[0], -1)\n",
    "X_train.shape, X_test.shape"
   ]
  },
  {
   "cell_type": "markdown",
   "metadata": {
    "papermill": {
     "duration": 0.027308,
     "end_time": "2020-08-23T20:04:16.976947",
     "exception": false,
     "start_time": "2020-08-23T20:04:16.949639",
     "status": "completed"
    },
    "tags": []
   },
   "source": [
    "### Importing appropriate functions from 'Kudzu'"
   ]
  },
  {
   "cell_type": "code",
   "execution_count": 14,
   "metadata": {
    "execution": {
     "iopub.execute_input": "2020-08-23T20:04:17.031680Z",
     "iopub.status.busy": "2020-08-23T20:04:17.031156Z",
     "iopub.status.idle": "2020-08-23T20:04:17.051100Z",
     "shell.execute_reply": "2020-08-23T20:04:17.050488Z"
    },
    "papermill": {
     "duration": 0.048549,
     "end_time": "2020-08-23T20:04:17.051244",
     "exception": false,
     "start_time": "2020-08-23T20:04:17.002695",
     "status": "completed"
    },
    "tags": []
   },
   "outputs": [],
   "source": [
    "from kudzu.layer import Sigmoid\n",
    "from kudzu.layer import Relu\n",
    "from kudzu.layer import Affine, Sigmoid\n",
    "\n",
    "from kudzu.model import Model\n",
    "from kudzu.train import Learner\n",
    "from kudzu.optim import GD\n",
    "from kudzu.data import Data, Dataloader, Sampler\n",
    "\n",
    "from kudzu.callbacks import AccCallback\n",
    "from kudzu.callbacks import ClfCallback\n",
    "\n",
    "from kudzu.loss import MSE"
   ]
  },
  {
   "cell_type": "markdown",
   "metadata": {
    "papermill": {
     "duration": 0.02497,
     "end_time": "2020-08-23T20:04:17.108635",
     "exception": false,
     "start_time": "2020-08-23T20:04:17.083665",
     "status": "completed"
    },
    "tags": []
   },
   "source": [
    "### Let us create a `Config` class, to store important parameters. \n",
    "This class essentially plays the role of a dictionary."
   ]
  },
  {
   "cell_type": "code",
   "execution_count": 15,
   "metadata": {
    "execution": {
     "iopub.execute_input": "2020-08-23T20:04:17.165759Z",
     "iopub.status.busy": "2020-08-23T20:04:17.165205Z",
     "iopub.status.idle": "2020-08-23T20:04:17.177821Z",
     "shell.execute_reply": "2020-08-23T20:04:17.178277Z"
    },
    "papermill": {
     "duration": 0.043849,
     "end_time": "2020-08-23T20:04:17.178419",
     "exception": false,
     "start_time": "2020-08-23T20:04:17.134570",
     "status": "completed"
    },
    "tags": []
   },
   "outputs": [],
   "source": [
    "class Config:\n",
    "    pass\n",
    "config = Config()\n",
    "config.lr = 0.001\n",
    "config.num_epochs = 251\n",
    "config.bs = 50"
   ]
  },
  {
   "cell_type": "markdown",
   "metadata": {
    "papermill": {
     "duration": 0.025416,
     "end_time": "2020-08-23T20:04:17.229481",
     "exception": false,
     "start_time": "2020-08-23T20:04:17.204065",
     "status": "completed"
    },
    "tags": []
   },
   "source": [
    "### Initializing data to the variables"
   ]
  },
  {
   "cell_type": "code",
   "execution_count": 16,
   "metadata": {
    "execution": {
     "iopub.execute_input": "2020-08-23T20:04:17.289119Z",
     "iopub.status.busy": "2020-08-23T20:04:17.288542Z",
     "iopub.status.idle": "2020-08-23T20:04:17.301263Z",
     "shell.execute_reply": "2020-08-23T20:04:17.300800Z"
    },
    "papermill": {
     "duration": 0.045313,
     "end_time": "2020-08-23T20:04:17.301377",
     "exception": false,
     "start_time": "2020-08-23T20:04:17.256064",
     "status": "completed"
    },
    "tags": []
   },
   "outputs": [],
   "source": [
    "data = Data(X_train, y_train.reshape(-1,1))\n",
    "sampler = Sampler(data, config.bs, shuffle=True)\n",
    "\n",
    "dl = Dataloader(data, sampler)\n",
    "\n",
    "opt = GD(config.lr)\n",
    "loss = MSE()"
   ]
  },
  {
   "cell_type": "code",
   "execution_count": 17,
   "metadata": {
    "execution": {
     "iopub.execute_input": "2020-08-23T20:04:17.359631Z",
     "iopub.status.busy": "2020-08-23T20:04:17.359053Z",
     "iopub.status.idle": "2020-08-23T20:04:17.370906Z",
     "shell.execute_reply": "2020-08-23T20:04:17.370388Z"
    },
    "papermill": {
     "duration": 0.041601,
     "end_time": "2020-08-23T20:04:17.371030",
     "exception": false,
     "start_time": "2020-08-23T20:04:17.329429",
     "status": "completed"
    },
    "tags": []
   },
   "outputs": [],
   "source": [
    "training_xdata = X_train\n",
    "testing_xdata = X_test\n",
    "training_ydata = y_train.reshape(-1,1)\n",
    "testing_ydata = y_test.reshape(-1,1)"
   ]
  },
  {
   "cell_type": "markdown",
   "metadata": {
    "papermill": {
     "duration": 0.026844,
     "end_time": "2020-08-23T20:04:17.422691",
     "exception": false,
     "start_time": "2020-08-23T20:04:17.395847",
     "status": "completed"
    },
    "tags": []
   },
   "source": [
    "### Running Models with the Training data\n",
    "Details about the network layers:\n",
    "- A first affine layer has 784 inputs and does 100 affine transforms. These are followed by a Relu\n",
    "- A second affine layer has 100 inputs from the 100 activations of the past layer, and does 100 affine transforms. These are followed by a Relu\n",
    "- A third affine layer has 100 activations and does 2 affine transformations to create an embedding for visualization. There is no non-linearity here.\n",
    "- A final \"logistic regression\" which has an affine transform from 2 inputs to 1 output, which is squeezed through a sigmoid.\n",
    "\n",
    "Help taken from Anshuman's Notebook."
   ]
  },
  {
   "cell_type": "code",
   "execution_count": 18,
   "metadata": {
    "execution": {
     "iopub.execute_input": "2020-08-23T20:04:17.482290Z",
     "iopub.status.busy": "2020-08-23T20:04:17.481771Z",
     "iopub.status.idle": "2020-08-23T20:04:17.499053Z",
     "shell.execute_reply": "2020-08-23T20:04:17.498487Z"
    },
    "papermill": {
     "duration": 0.045976,
     "end_time": "2020-08-23T20:04:17.499181",
     "exception": false,
     "start_time": "2020-08-23T20:04:17.453205",
     "status": "completed"
    },
    "tags": []
   },
   "outputs": [],
   "source": [
    "# layers for the Neural Network\n",
    "layers = [Affine(\"first\", 784, 100), Relu(\"first\"), Affine(\"second\", 100, 100), Relu(\"second\"), Affine(\"third\", 100, 2), Affine(\"final\", 2, 1), Sigmoid(\"final\")]\n",
    "model_nn = Model(layers)\n",
    "\n",
    "# layers for the Logistic Regression\n",
    "layers_lr = [Affine(\"logits\", 784, 1), Sigmoid(\"sigmoid\")]\n",
    "model_lr = Model(layers_lr)"
   ]
  },
  {
   "cell_type": "code",
   "execution_count": 19,
   "metadata": {
    "execution": {
     "iopub.execute_input": "2020-08-23T20:04:17.556208Z",
     "iopub.status.busy": "2020-08-23T20:04:17.555597Z",
     "iopub.status.idle": "2020-08-23T20:04:17.567284Z",
     "shell.execute_reply": "2020-08-23T20:04:17.567725Z"
    },
    "papermill": {
     "duration": 0.04332,
     "end_time": "2020-08-23T20:04:17.567858",
     "exception": false,
     "start_time": "2020-08-23T20:04:17.524538",
     "status": "completed"
    },
    "tags": []
   },
   "outputs": [],
   "source": [
    "# suffix _nn stands for Neural Network.\n",
    "learner_nn = Learner(loss, model_nn, opt, config.num_epochs)\n",
    "acc_nn = ClfCallback(learner_nn, config.bs, training_xdata , testing_xdata, training_ydata, testing_ydata)\n",
    "learner_nn.set_callbacks([acc_nn])"
   ]
  },
  {
   "cell_type": "code",
   "execution_count": 20,
   "metadata": {
    "execution": {
     "iopub.execute_input": "2020-08-23T20:04:17.621168Z",
     "iopub.status.busy": "2020-08-23T20:04:17.620469Z",
     "iopub.status.idle": "2020-08-23T20:05:38.301720Z",
     "shell.execute_reply": "2020-08-23T20:05:38.301238Z"
    },
    "papermill": {
     "duration": 80.709745,
     "end_time": "2020-08-23T20:05:38.301854",
     "exception": false,
     "start_time": "2020-08-23T20:04:17.592109",
     "status": "completed"
    },
    "tags": []
   },
   "outputs": [
    {
     "name": "stdout",
     "output_type": "stream",
     "text": [
      "====== Neural Network ======\n"
     ]
    },
    {
     "name": "stdout",
     "output_type": "stream",
     "text": [
      "Epoch 0, Loss 0.2491\n",
      "Training Accuracy: 0.5589, Testing Accuracy: 0.5791\n",
      "\n"
     ]
    },
    {
     "name": "stdout",
     "output_type": "stream",
     "text": [
      "Epoch 10, Loss 0.1445\n",
      "Training Accuracy: 0.8939, Testing Accuracy: 0.9098\n",
      "\n"
     ]
    },
    {
     "name": "stdout",
     "output_type": "stream",
     "text": [
      "Epoch 20, Loss 0.0735\n",
      "Training Accuracy: 0.9268, Testing Accuracy: 0.9405\n",
      "\n"
     ]
    },
    {
     "name": "stdout",
     "output_type": "stream",
     "text": [
      "Epoch 30, Loss 0.053\n",
      "Training Accuracy: 0.9430, Testing Accuracy: 0.9567\n",
      "\n"
     ]
    },
    {
     "name": "stdout",
     "output_type": "stream",
     "text": [
      "Epoch 40, Loss 0.0439\n",
      "Training Accuracy: 0.9513, Testing Accuracy: 0.9632\n",
      "\n"
     ]
    },
    {
     "name": "stdout",
     "output_type": "stream",
     "text": [
      "Epoch 50, Loss 0.0388\n",
      "Training Accuracy: 0.9562, Testing Accuracy: 0.9642\n",
      "\n"
     ]
    },
    {
     "name": "stdout",
     "output_type": "stream",
     "text": [
      "Epoch 60, Loss 0.0354\n",
      "Training Accuracy: 0.9594, Testing Accuracy: 0.9667\n",
      "\n"
     ]
    },
    {
     "name": "stdout",
     "output_type": "stream",
     "text": [
      "Epoch 70, Loss 0.033\n",
      "Training Accuracy: 0.9616, Testing Accuracy: 0.9677\n",
      "\n"
     ]
    },
    {
     "name": "stdout",
     "output_type": "stream",
     "text": [
      "Epoch 80, Loss 0.0312\n",
      "Training Accuracy: 0.9638, Testing Accuracy: 0.9693\n",
      "\n"
     ]
    },
    {
     "name": "stdout",
     "output_type": "stream",
     "text": [
      "Epoch 90, Loss 0.0297\n",
      "Training Accuracy: 0.9654, Testing Accuracy: 0.9693\n",
      "\n"
     ]
    },
    {
     "name": "stdout",
     "output_type": "stream",
     "text": [
      "Epoch 100, Loss 0.0284\n",
      "Training Accuracy: 0.9664, Testing Accuracy: 0.9688\n",
      "\n"
     ]
    },
    {
     "name": "stdout",
     "output_type": "stream",
     "text": [
      "Epoch 110, Loss 0.0273\n",
      "Training Accuracy: 0.9683, Testing Accuracy: 0.9688\n",
      "\n"
     ]
    },
    {
     "name": "stdout",
     "output_type": "stream",
     "text": [
      "Epoch 120, Loss 0.0264\n",
      "Training Accuracy: 0.9695, Testing Accuracy: 0.9693\n",
      "\n"
     ]
    },
    {
     "name": "stdout",
     "output_type": "stream",
     "text": [
      "Epoch 130, Loss 0.0255\n",
      "Training Accuracy: 0.9710, Testing Accuracy: 0.9708\n",
      "\n"
     ]
    },
    {
     "name": "stdout",
     "output_type": "stream",
     "text": [
      "Epoch 140, Loss 0.0248\n",
      "Training Accuracy: 0.9719, Testing Accuracy: 0.9718\n",
      "\n"
     ]
    },
    {
     "name": "stdout",
     "output_type": "stream",
     "text": [
      "Epoch 150, Loss 0.0241\n",
      "Training Accuracy: 0.9725, Testing Accuracy: 0.9723\n",
      "\n"
     ]
    },
    {
     "name": "stdout",
     "output_type": "stream",
     "text": [
      "Epoch 160, Loss 0.0235\n",
      "Training Accuracy: 0.9733, Testing Accuracy: 0.9713\n",
      "\n"
     ]
    },
    {
     "name": "stdout",
     "output_type": "stream",
     "text": [
      "Epoch 170, Loss 0.0229\n",
      "Training Accuracy: 0.9742, Testing Accuracy: 0.9723\n",
      "\n"
     ]
    },
    {
     "name": "stdout",
     "output_type": "stream",
     "text": [
      "Epoch 180, Loss 0.0224\n",
      "Training Accuracy: 0.9748, Testing Accuracy: 0.9723\n",
      "\n"
     ]
    },
    {
     "name": "stdout",
     "output_type": "stream",
     "text": [
      "Epoch 190, Loss 0.0219\n",
      "Training Accuracy: 0.9752, Testing Accuracy: 0.9728\n",
      "\n"
     ]
    },
    {
     "name": "stdout",
     "output_type": "stream",
     "text": [
      "Epoch 200, Loss 0.0214\n",
      "Training Accuracy: 0.9760, Testing Accuracy: 0.9728\n",
      "\n"
     ]
    },
    {
     "name": "stdout",
     "output_type": "stream",
     "text": [
      "Epoch 210, Loss 0.021\n",
      "Training Accuracy: 0.9770, Testing Accuracy: 0.9733\n",
      "\n"
     ]
    },
    {
     "name": "stdout",
     "output_type": "stream",
     "text": [
      "Epoch 220, Loss 0.0205\n",
      "Training Accuracy: 0.9775, Testing Accuracy: 0.9733\n",
      "\n"
     ]
    },
    {
     "name": "stdout",
     "output_type": "stream",
     "text": [
      "Epoch 230, Loss 0.0201\n",
      "Training Accuracy: 0.9778, Testing Accuracy: 0.9733\n",
      "\n"
     ]
    },
    {
     "name": "stdout",
     "output_type": "stream",
     "text": [
      "Epoch 240, Loss 0.0197\n",
      "Training Accuracy: 0.9785, Testing Accuracy: 0.9733\n",
      "\n"
     ]
    },
    {
     "name": "stdout",
     "output_type": "stream",
     "text": [
      "Epoch 250, Loss 0.0194\n",
      "Training Accuracy: 0.9787, Testing Accuracy: 0.9733\n",
      "\n"
     ]
    },
    {
     "data": {
      "text/plain": [
       "0.02261159950750039"
      ]
     },
     "execution_count": 20,
     "metadata": {},
     "output_type": "execute_result"
    }
   ],
   "source": [
    "print(\"====== Neural Network ======\")\n",
    "learner_nn.train_loop(dl)"
   ]
  },
  {
   "cell_type": "markdown",
   "metadata": {
    "papermill": {
     "duration": 0.034252,
     "end_time": "2020-08-23T20:05:38.371207",
     "exception": false,
     "start_time": "2020-08-23T20:05:38.336955",
     "status": "completed"
    },
    "tags": []
   },
   "source": [
    "### Logistic Regression based Implementation."
   ]
  },
  {
   "cell_type": "code",
   "execution_count": 21,
   "metadata": {
    "execution": {
     "iopub.execute_input": "2020-08-23T20:05:38.446867Z",
     "iopub.status.busy": "2020-08-23T20:05:38.446288Z",
     "iopub.status.idle": "2020-08-23T20:05:38.458009Z",
     "shell.execute_reply": "2020-08-23T20:05:38.458487Z"
    },
    "papermill": {
     "duration": 0.052899,
     "end_time": "2020-08-23T20:05:38.458634",
     "exception": false,
     "start_time": "2020-08-23T20:05:38.405735",
     "status": "completed"
    },
    "tags": []
   },
   "outputs": [],
   "source": [
    "learner_lr = Learner(loss, model_lr, opt, config.num_epochs)\n",
    "acc_lr = ClfCallback(learner_lr, config.bs, training_xdata , testing_xdata, training_ydata, testing_ydata)\n",
    "learner_lr.set_callbacks([acc_lr])"
   ]
  },
  {
   "cell_type": "code",
   "execution_count": 22,
   "metadata": {
    "execution": {
     "iopub.execute_input": "2020-08-23T20:05:38.532074Z",
     "iopub.status.busy": "2020-08-23T20:05:38.531531Z",
     "iopub.status.idle": "2020-08-23T20:05:54.023835Z",
     "shell.execute_reply": "2020-08-23T20:05:54.024633Z"
    },
    "papermill": {
     "duration": 15.531741,
     "end_time": "2020-08-23T20:05:54.024782",
     "exception": false,
     "start_time": "2020-08-23T20:05:38.493041",
     "status": "completed"
    },
    "tags": []
   },
   "outputs": [
    {
     "name": "stdout",
     "output_type": "stream",
     "text": [
      "====== Logistic Regression ======\n",
      "Epoch 0, Loss 0.2506\n",
      "Training Accuracy: 0.6546, Testing Accuracy: 0.6452\n",
      "\n"
     ]
    },
    {
     "name": "stdout",
     "output_type": "stream",
     "text": [
      "Epoch 10, Loss 0.1031\n",
      "Training Accuracy: 0.9123, Testing Accuracy: 0.9244\n",
      "\n"
     ]
    },
    {
     "name": "stdout",
     "output_type": "stream",
     "text": [
      "Epoch 20, Loss 0.0791\n",
      "Training Accuracy: 0.9296, Testing Accuracy: 0.9405\n",
      "\n"
     ]
    },
    {
     "name": "stdout",
     "output_type": "stream",
     "text": [
      "Epoch 30, Loss 0.0682\n",
      "Training Accuracy: 0.9376, Testing Accuracy: 0.9506\n",
      "\n"
     ]
    },
    {
     "name": "stdout",
     "output_type": "stream",
     "text": [
      "Epoch 40, Loss 0.0616\n",
      "Training Accuracy: 0.9418, Testing Accuracy: 0.9511\n",
      "\n"
     ]
    },
    {
     "name": "stdout",
     "output_type": "stream",
     "text": [
      "Epoch 50, Loss 0.0572\n",
      "Training Accuracy: 0.9451, Testing Accuracy: 0.9531\n",
      "\n"
     ]
    },
    {
     "name": "stdout",
     "output_type": "stream",
     "text": [
      "Epoch 60, Loss 0.0539\n",
      "Training Accuracy: 0.9473, Testing Accuracy: 0.9567\n",
      "\n"
     ]
    },
    {
     "name": "stdout",
     "output_type": "stream",
     "text": [
      "Epoch 70, Loss 0.0514\n",
      "Training Accuracy: 0.9498, Testing Accuracy: 0.9582\n",
      "\n"
     ]
    },
    {
     "name": "stdout",
     "output_type": "stream",
     "text": [
      "Epoch 80, Loss 0.0494\n",
      "Training Accuracy: 0.9514, Testing Accuracy: 0.9597\n",
      "\n"
     ]
    },
    {
     "name": "stdout",
     "output_type": "stream",
     "text": [
      "Epoch 90, Loss 0.0477\n",
      "Training Accuracy: 0.9523, Testing Accuracy: 0.9612\n",
      "\n"
     ]
    },
    {
     "name": "stdout",
     "output_type": "stream",
     "text": [
      "Epoch 100, Loss 0.0463\n",
      "Training Accuracy: 0.9538, Testing Accuracy: 0.9622\n",
      "\n"
     ]
    },
    {
     "name": "stdout",
     "output_type": "stream",
     "text": [
      "Epoch 110, Loss 0.045\n",
      "Training Accuracy: 0.9544, Testing Accuracy: 0.9627\n",
      "\n"
     ]
    },
    {
     "name": "stdout",
     "output_type": "stream",
     "text": [
      "Epoch 120, Loss 0.044\n",
      "Training Accuracy: 0.9554, Testing Accuracy: 0.9627\n",
      "\n"
     ]
    },
    {
     "name": "stdout",
     "output_type": "stream",
     "text": [
      "Epoch 130, Loss 0.0431\n",
      "Training Accuracy: 0.9561, Testing Accuracy: 0.9637\n",
      "\n"
     ]
    },
    {
     "name": "stdout",
     "output_type": "stream",
     "text": [
      "Epoch 140, Loss 0.0422\n",
      "Training Accuracy: 0.9568, Testing Accuracy: 0.9637\n",
      "\n"
     ]
    },
    {
     "name": "stdout",
     "output_type": "stream",
     "text": [
      "Epoch 150, Loss 0.0415\n",
      "Training Accuracy: 0.9574, Testing Accuracy: 0.9642\n",
      "\n"
     ]
    },
    {
     "name": "stdout",
     "output_type": "stream",
     "text": [
      "Epoch 160, Loss 0.0408\n",
      "Training Accuracy: 0.9583, Testing Accuracy: 0.9647\n",
      "\n"
     ]
    },
    {
     "name": "stdout",
     "output_type": "stream",
     "text": [
      "Epoch 170, Loss 0.0402\n",
      "Training Accuracy: 0.9587, Testing Accuracy: 0.9647\n",
      "\n"
     ]
    },
    {
     "name": "stdout",
     "output_type": "stream",
     "text": [
      "Epoch 180, Loss 0.0396\n",
      "Training Accuracy: 0.9589, Testing Accuracy: 0.9647\n",
      "\n"
     ]
    },
    {
     "name": "stdout",
     "output_type": "stream",
     "text": [
      "Epoch 190, Loss 0.0391\n",
      "Training Accuracy: 0.9592, Testing Accuracy: 0.9652\n",
      "\n"
     ]
    },
    {
     "name": "stdout",
     "output_type": "stream",
     "text": [
      "Epoch 200, Loss 0.0387\n",
      "Training Accuracy: 0.9599, Testing Accuracy: 0.9652\n",
      "\n"
     ]
    },
    {
     "name": "stdout",
     "output_type": "stream",
     "text": [
      "Epoch 210, Loss 0.0382\n",
      "Training Accuracy: 0.9599, Testing Accuracy: 0.9652\n",
      "\n"
     ]
    },
    {
     "name": "stdout",
     "output_type": "stream",
     "text": [
      "Epoch 220, Loss 0.0378\n",
      "Training Accuracy: 0.9604, Testing Accuracy: 0.9652\n",
      "\n"
     ]
    },
    {
     "name": "stdout",
     "output_type": "stream",
     "text": [
      "Epoch 230, Loss 0.0374\n",
      "Training Accuracy: 0.9604, Testing Accuracy: 0.9662\n",
      "\n"
     ]
    },
    {
     "name": "stdout",
     "output_type": "stream",
     "text": [
      "Epoch 240, Loss 0.037\n",
      "Training Accuracy: 0.9609, Testing Accuracy: 0.9662\n",
      "\n"
     ]
    },
    {
     "name": "stdout",
     "output_type": "stream",
     "text": [
      "Epoch 250, Loss 0.0367\n",
      "Training Accuracy: 0.9609, Testing Accuracy: 0.9667\n",
      "\n"
     ]
    },
    {
     "data": {
      "text/plain": [
       "0.04691705411173962"
      ]
     },
     "execution_count": 22,
     "metadata": {},
     "output_type": "execute_result"
    }
   ],
   "source": [
    "print(\"====== Logistic Regression ======\")\n",
    "learner_lr.train_loop(dl)"
   ]
  },
  {
   "cell_type": "markdown",
   "metadata": {
    "papermill": {
     "duration": 0.042861,
     "end_time": "2020-08-23T20:05:54.111308",
     "exception": false,
     "start_time": "2020-08-23T20:05:54.068447",
     "status": "completed"
    },
    "tags": []
   },
   "source": [
    "### Comparing results of NN and LR"
   ]
  },
  {
   "cell_type": "code",
   "execution_count": 23,
   "metadata": {
    "execution": {
     "iopub.execute_input": "2020-08-23T20:05:54.201412Z",
     "iopub.status.busy": "2020-08-23T20:05:54.200721Z",
     "iopub.status.idle": "2020-08-23T20:05:54.430075Z",
     "shell.execute_reply": "2020-08-23T20:05:54.429591Z"
    },
    "papermill": {
     "duration": 0.274989,
     "end_time": "2020-08-23T20:05:54.430201",
     "exception": false,
     "start_time": "2020-08-23T20:05:54.155212",
     "status": "completed"
    },
    "tags": []
   },
   "outputs": [
    {
     "data": {
      "text/plain": [
       "<matplotlib.legend.Legend at 0x7ffa4aad87f0>"
      ]
     },
     "execution_count": 23,
     "metadata": {},
     "output_type": "execute_result"
    },
    {
     "data": {
      "image/png": "[encoded data removed]",
      "text/plain": [
       "<Figure size 1080x720 with 1 Axes>"
      ]
     },
     "metadata": {
      "needs_background": "light"
     },
     "output_type": "display_data"
    }
   ],
   "source": [
    "plt.figure(figsize=(15,10))\n",
    "\n",
    "# Neural Network plots\n",
    "plt.plot(acc_nn.accuracies, 'r-', label = \"Training Accuracies - NN\")\n",
    "plt.plot(acc_nn.test_accuracies, 'g-', label = \"Testing Accuracies - NN\")\n",
    "\n",
    "# Logistic Regression plots\n",
    "plt.plot(acc_lr.accuracies, 'k-', label = \"Training Accuracies - LR\")\n",
    "plt.plot(acc_lr.test_accuracies, 'b-', label = \"Testing Accuracies - LR\")\n",
    "\n",
    "plt.ylim(0.8, 1)\n",
    "\n",
    "plt.legend()\n",
    "\n"
   ]
  },
  {
   "cell_type": "markdown",
   "metadata": {
    "papermill": {
     "duration": 0.045146,
     "end_time": "2020-08-23T20:05:54.518285",
     "exception": false,
     "start_time": "2020-08-23T20:05:54.473139",
     "status": "completed"
    },
    "tags": []
   },
   "source": [
    "### From the plot, we can observe the following:\n",
    "- Neural Network achieves higher accuracy than the Logistic Regression model.\n",
    "- This apparently, is because of overfitting, i.e. NN captures more noise than data.\n",
    "- Testing accuracy of NN drops below the Training accuracy at higher epochs. This explains the over-fitting on training data.\n",
    "- Logistic Regression gives a reliable accuracy, without the above mentioned problem.\n"
   ]
  },
  {
   "cell_type": "markdown",
   "metadata": {
    "papermill": {
     "duration": 0.055494,
     "end_time": "2020-08-23T20:05:54.618143",
     "exception": false,
     "start_time": "2020-08-23T20:05:54.562649",
     "status": "completed"
    },
    "tags": []
   },
   "source": [
    "### Moving till the last but one layer (excluding it).\n",
    "#### Plotting the outputs of this layer of the NN."
   ]
  },
  {
   "cell_type": "code",
   "execution_count": 24,
   "metadata": {
    "execution": {
     "iopub.execute_input": "2020-08-23T20:05:54.718075Z",
     "iopub.status.busy": "2020-08-23T20:05:54.717529Z",
     "iopub.status.idle": "2020-08-23T20:05:54.731527Z",
     "shell.execute_reply": "2020-08-23T20:05:54.730914Z"
    },
    "papermill": {
     "duration": 0.067569,
     "end_time": "2020-08-23T20:05:54.731671",
     "exception": false,
     "start_time": "2020-08-23T20:05:54.664102",
     "status": "completed"
    },
    "tags": []
   },
   "outputs": [],
   "source": [
    "model_new = Model(layers[:-2])"
   ]
  },
  {
   "cell_type": "code",
   "execution_count": 25,
   "metadata": {
    "execution": {
     "iopub.execute_input": "2020-08-23T20:05:54.831966Z",
     "iopub.status.busy": "2020-08-23T20:05:54.831379Z",
     "iopub.status.idle": "2020-08-23T20:05:54.852808Z",
     "shell.execute_reply": "2020-08-23T20:05:54.853323Z"
    },
    "papermill": {
     "duration": 0.07195,
     "end_time": "2020-08-23T20:05:54.853475",
     "exception": false,
     "start_time": "2020-08-23T20:05:54.781525",
     "status": "completed"
    },
    "tags": []
   },
   "outputs": [],
   "source": [
    "plot_testing = model_new(testing_xdata)"
   ]
  },
  {
   "cell_type": "code",
   "execution_count": 26,
   "metadata": {
    "execution": {
     "iopub.execute_input": "2020-08-23T20:05:54.956414Z",
     "iopub.status.busy": "2020-08-23T20:05:54.955836Z",
     "iopub.status.idle": "2020-08-23T20:05:55.152563Z",
     "shell.execute_reply": "2020-08-23T20:05:55.151467Z"
    },
    "papermill": {
     "duration": 0.251418,
     "end_time": "2020-08-23T20:05:55.152701",
     "exception": false,
     "start_time": "2020-08-23T20:05:54.901283",
     "status": "completed"
    },
    "tags": []
   },
   "outputs": [
    {
     "data": {
      "text/plain": [
       "Text(0.5, 1.0, 'Outputs')"
      ]
     },
     "execution_count": 26,
     "metadata": {},
     "output_type": "execute_result"
    },
    {
     "data": {
      "image/png": "[encoded data removed]",
      "text/plain": [
       "<Figure size 576x504 with 1 Axes>"
      ]
     },
     "metadata": {
      "needs_background": "light"
     },
     "output_type": "display_data"
    }
   ],
   "source": [
    "plt.figure(figsize=(8,7))\n",
    "plt.scatter(plot_testing[:,0], plot_testing[:,1], alpha = 0.1, c = y_test.ravel());\n",
    "plt.title('Outputs')"
   ]
  },
  {
   "cell_type": "markdown",
   "metadata": {
    "papermill": {
     "duration": 0.046412,
     "end_time": "2020-08-23T20:05:55.247593",
     "exception": false,
     "start_time": "2020-08-23T20:05:55.201181",
     "status": "completed"
    },
    "tags": []
   },
   "source": [
    "### Plotting probability contours"
   ]
  },
  {
   "cell_type": "code",
   "execution_count": 27,
   "metadata": {
    "execution": {
     "iopub.execute_input": "2020-08-23T20:05:55.349027Z",
     "iopub.status.busy": "2020-08-23T20:05:55.348368Z",
     "iopub.status.idle": "2020-08-23T20:05:55.361253Z",
     "shell.execute_reply": "2020-08-23T20:05:55.361677Z"
    },
    "papermill": {
     "duration": 0.068081,
     "end_time": "2020-08-23T20:05:55.361825",
     "exception": false,
     "start_time": "2020-08-23T20:05:55.293744",
     "status": "completed"
    },
    "tags": []
   },
   "outputs": [],
   "source": [
    "model_prob = Model(layers[-2:]) "
   ]
  },
  {
   "cell_type": "code",
   "execution_count": 28,
   "metadata": {
    "execution": {
     "iopub.execute_input": "2020-08-23T20:05:55.468111Z",
     "iopub.status.busy": "2020-08-23T20:05:55.467513Z",
     "iopub.status.idle": "2020-08-23T20:05:55.483820Z",
     "shell.execute_reply": "2020-08-23T20:05:55.484499Z"
    },
    "papermill": {
     "duration": 0.074425,
     "end_time": "2020-08-23T20:05:55.484719",
     "exception": false,
     "start_time": "2020-08-23T20:05:55.410294",
     "status": "completed"
    },
    "tags": []
   },
   "outputs": [],
   "source": [
    "# Adjust the x and y ranges according to the above generated plot.\n",
    "x_range = np.linspace(-4, 1, 100) \n",
    "y_range = np.linspace(-6, 6, 100) \n",
    "x_grid, y_grid = np.meshgrid(x_range, y_range) # x_grid and y_grig are of size 100 X 100\n",
    "\n",
    "# converting x_grid and y_grid to continuous arrays\n",
    "x_grid_flat = np.ravel(x_grid)\n",
    "y_grid_flat = np.ravel(y_grid)\n",
    "\n",
    "# The last layer of the current model takes two columns as input. Hence transpose of np.vstack() is required.\n",
    "X = np.vstack((x_grid_flat, y_grid_flat)).T\n",
    "\n",
    "# x_grid and y_grid are of size 100 x 100\n",
    "probability_contour = model_prob(X).reshape(100,100) "
   ]
  },
  {
   "cell_type": "code",
   "execution_count": 29,
   "metadata": {
    "execution": {
     "iopub.execute_input": "2020-08-23T20:05:55.592740Z",
     "iopub.status.busy": "2020-08-23T20:05:55.592141Z",
     "iopub.status.idle": "2020-08-23T20:05:55.838330Z",
     "shell.execute_reply": "2020-08-23T20:05:55.838789Z"
    },
    "papermill": {
     "duration": 0.304351,
     "end_time": "2020-08-23T20:05:55.838978",
     "exception": false,
     "start_time": "2020-08-23T20:05:55.534627",
     "status": "completed"
    },
    "tags": []
   },
   "outputs": [
    {
     "data": {
      "image/png": "[encoded data removed]",
      "text/plain": [
       "<Figure size 720x648 with 1 Axes>"
      ]
     },
     "metadata": {
      "needs_background": "light"
     },
     "output_type": "display_data"
    }
   ],
   "source": [
    "plt.figure(figsize=(10,9))\n",
    "plt.scatter(plot_testing[:,0], plot_testing[:,1], alpha = 0.1, c = y_test.ravel())\n",
    "contours = plt.contour(x_grid,y_grid,probability_contour)\n",
    "plt.title('Probability Contours')\n",
    "plt.clabel(contours, inline = True );"
   ]
  }
 ],
 "metadata": {
  "kernelspec": {
   "display_name": "Python 3",
   "language": "python",
   "name": "python3"
  },
  "language_info": {
   "codemirror_mode": {
    "name": "ipython",
    "version": 3
   },
   "file_extension": ".py",
   "mimetype": "text/x-python",
   "name": "python",
   "nbconvert_exporter": "python",
   "pygments_lexer": "ipython3",
   "version": "3.6.11"
  },
  "papermill": {
   "duration": 105.144211,
   "end_time": "2020-08-23T20:05:56.296536",
   "environment_variables": {},
   "exception": null,
   "input_path": "2020-08-11-NeuralNetwork.ipynb",
   "output_path": "2020-08-11-NeuralNetwork.ipynb",
   "parameters": {},
   "start_time": "2020-08-23T20:04:11.152325",
   "version": "2.1.2"
  }
 },
 "nbformat": 4,
 "nbformat_minor": 4
}