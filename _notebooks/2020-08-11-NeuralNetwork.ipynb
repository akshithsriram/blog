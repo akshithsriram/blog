{
 "cells": [
  {
   "cell_type": "markdown",
   "metadata": {
    "papermill": {
     "duration": 0.035268,
     "end_time": "2020-11-01T10:03:56.081699",
     "exception": false,
     "start_time": "2020-11-01T10:03:56.046431",
     "status": "completed"
    },
    "tags": []
   },
   "source": [
    "# \"A Basic Neural Network: Differentiate Hand-Written Digits\"\n",
    "\n",
    "- badges: true\n",
    "- author: Akshith Sriram"
   ]
  },
  {
   "cell_type": "markdown",
   "metadata": {
    "papermill": {
     "duration": 0.025022,
     "end_time": "2020-11-01T10:03:56.133393",
     "exception": false,
     "start_time": "2020-11-01T10:03:56.108371",
     "status": "completed"
    },
    "tags": []
   },
   "source": [
    "### Key Objectives:\n",
    "- Building a neural network that differentiates two hand-written digits 3 and 8.\n",
    "- Comparing the results of this Neural Network (NN) to that of a Logistic Regression (LR) model.\n",
    "\n",
    "### Requirements:\n",
    "- 'Kudzu' : A neural network library that was designed during our course by [Univ.AI](www.univ.ai). \n",
    "- MNIST Database\n",
    "\n",
    "If MNIST is not installed, use the command `!pip install mnist` given below.\n",
    "It can be run both from the command line and Jupyter Notebook."
   ]
  },
  {
   "cell_type": "code",
   "execution_count": 1,
   "metadata": {
    "execution": {
     "iopub.execute_input": "2020-11-01T10:03:56.188291Z",
     "iopub.status.busy": "2020-11-01T10:03:56.187653Z",
     "iopub.status.idle": "2020-11-01T10:03:58.504433Z",
     "shell.execute_reply": "2020-11-01T10:03:58.504913Z"
    },
    "papermill": {
     "duration": 2.347163,
     "end_time": "2020-11-01T10:03:58.505106",
     "exception": false,
     "start_time": "2020-11-01T10:03:56.157943",
     "status": "completed"
    },
    "tags": []
   },
   "outputs": [
    {
     "name": "stdout",
     "output_type": "stream",
     "text": [
      "Collecting mnist\r\n"
     ]
    },
    {
     "name": "stdout",
     "output_type": "stream",
     "text": [
      "  Downloading mnist-0.2.2-py2.py3-none-any.whl (3.5 kB)\r\n",
      "Requirement already satisfied: numpy in /opt/hostedtoolcache/Python/3.6.12/x64/lib/python3.6/site-packages (from mnist) (1.19.3)\r\n"
     ]
    },
    {
     "name": "stdout",
     "output_type": "stream",
     "text": [
      "Installing collected packages: mnist\r\n"
     ]
    },
    {
     "name": "stdout",
     "output_type": "stream",
     "text": [
      "Successfully installed mnist-0.2.2\r\n"
     ]
    }
   ],
   "source": [
    "!pip install mnist "
   ]
  },
  {
   "cell_type": "markdown",
   "metadata": {
    "papermill": {
     "duration": 0.026335,
     "end_time": "2020-11-01T10:03:58.558118",
     "exception": false,
     "start_time": "2020-11-01T10:03:58.531783",
     "status": "completed"
    },
    "tags": []
   },
   "source": [
    "#### Importing necessary libraries"
   ]
  },
  {
   "cell_type": "code",
   "execution_count": 2,
   "metadata": {
    "execution": {
     "iopub.execute_input": "2020-11-01T10:03:58.619825Z",
     "iopub.status.busy": "2020-11-01T10:03:58.619237Z",
     "iopub.status.idle": "2020-11-01T10:03:59.202294Z",
     "shell.execute_reply": "2020-11-01T10:03:59.201556Z"
    },
    "papermill": {
     "duration": 0.617005,
     "end_time": "2020-11-01T10:03:59.202480",
     "exception": false,
     "start_time": "2020-11-01T10:03:58.585475",
     "status": "completed"
    },
    "tags": []
   },
   "outputs": [],
   "source": [
    "%load_ext autoreload\n",
    "%autoreload 2\n",
    "\n",
    "%matplotlib inline\n",
    "import matplotlib.pyplot as plt\n",
    "\n",
    "import numpy as np\n",
    "import pandas as pd"
   ]
  },
  {
   "cell_type": "markdown",
   "metadata": {
    "papermill": {
     "duration": 0.026707,
     "end_time": "2020-11-01T10:03:59.256400",
     "exception": false,
     "start_time": "2020-11-01T10:03:59.229693",
     "status": "completed"
    },
    "tags": []
   },
   "source": [
    "### Preparing the Data"
   ]
  },
  {
   "cell_type": "code",
   "execution_count": 3,
   "metadata": {
    "execution": {
     "iopub.execute_input": "2020-11-01T10:03:59.314622Z",
     "iopub.status.busy": "2020-11-01T10:03:59.314059Z",
     "iopub.status.idle": "2020-11-01T10:03:59.326769Z",
     "shell.execute_reply": "2020-11-01T10:03:59.327256Z"
    },
    "papermill": {
     "duration": 0.044641,
     "end_time": "2020-11-01T10:03:59.327402",
     "exception": false,
     "start_time": "2020-11-01T10:03:59.282761",
     "status": "completed"
    },
    "tags": []
   },
   "outputs": [],
   "source": [
    "import mnist"
   ]
  },
  {
   "cell_type": "code",
   "execution_count": 4,
   "metadata": {
    "execution": {
     "iopub.execute_input": "2020-11-01T10:03:59.384162Z",
     "iopub.status.busy": "2020-11-01T10:03:59.383593Z",
     "iopub.status.idle": "2020-11-01T10:04:04.035914Z",
     "shell.execute_reply": "2020-11-01T10:04:04.034944Z"
    },
    "papermill": {
     "duration": 4.682276,
     "end_time": "2020-11-01T10:04:04.036062",
     "exception": false,
     "start_time": "2020-11-01T10:03:59.353786",
     "status": "completed"
    },
    "tags": []
   },
   "outputs": [],
   "source": [
    "train_images = mnist.train_images()\n",
    "train_labels = mnist.train_labels()"
   ]
  },
  {
   "cell_type": "code",
   "execution_count": 5,
   "metadata": {
    "execution": {
     "iopub.execute_input": "2020-11-01T10:04:04.107346Z",
     "iopub.status.busy": "2020-11-01T10:04:04.106372Z",
     "iopub.status.idle": "2020-11-01T10:04:04.120858Z",
     "shell.execute_reply": "2020-11-01T10:04:04.120356Z"
    },
    "papermill": {
     "duration": 0.045975,
     "end_time": "2020-11-01T10:04:04.120986",
     "exception": false,
     "start_time": "2020-11-01T10:04:04.075011",
     "status": "completed"
    },
    "tags": []
   },
   "outputs": [
    {
     "data": {
      "text/plain": [
       "((60000, 28, 28), (60000,))"
      ]
     },
     "execution_count": 5,
     "metadata": {},
     "output_type": "execute_result"
    }
   ],
   "source": [
    "train_images.shape, train_labels.shape"
   ]
  },
  {
   "cell_type": "code",
   "execution_count": 6,
   "metadata": {
    "execution": {
     "iopub.execute_input": "2020-11-01T10:04:04.180886Z",
     "iopub.status.busy": "2020-11-01T10:04:04.180295Z",
     "iopub.status.idle": "2020-11-01T10:04:04.992568Z",
     "shell.execute_reply": "2020-11-01T10:04:04.993047Z"
    },
    "papermill": {
     "duration": 0.845521,
     "end_time": "2020-11-01T10:04:04.993215",
     "exception": false,
     "start_time": "2020-11-01T10:04:04.147694",
     "status": "completed"
    },
    "tags": []
   },
   "outputs": [],
   "source": [
    "test_images = mnist.test_images()\n",
    "test_labels = mnist.test_labels()"
   ]
  },
  {
   "cell_type": "code",
   "execution_count": 7,
   "metadata": {
    "execution": {
     "iopub.execute_input": "2020-11-01T10:04:05.052828Z",
     "iopub.status.busy": "2020-11-01T10:04:05.052229Z",
     "iopub.status.idle": "2020-11-01T10:04:05.068313Z",
     "shell.execute_reply": "2020-11-01T10:04:05.067697Z"
    },
    "papermill": {
     "duration": 0.048668,
     "end_time": "2020-11-01T10:04:05.068453",
     "exception": false,
     "start_time": "2020-11-01T10:04:05.019785",
     "status": "completed"
    },
    "tags": []
   },
   "outputs": [
    {
     "data": {
      "text/plain": [
       "((10000, 28, 28), (10000,))"
      ]
     },
     "execution_count": 7,
     "metadata": {},
     "output_type": "execute_result"
    }
   ],
   "source": [
    "test_images.shape, test_labels.shape"
   ]
  },
  {
   "cell_type": "code",
   "execution_count": 8,
   "metadata": {
    "execution": {
     "iopub.execute_input": "2020-11-01T10:04:05.136035Z",
     "iopub.status.busy": "2020-11-01T10:04:05.135449Z",
     "iopub.status.idle": "2020-11-01T10:04:05.286015Z",
     "shell.execute_reply": "2020-11-01T10:04:05.286491Z"
    },
    "papermill": {
     "duration": 0.18658,
     "end_time": "2020-11-01T10:04:05.286645",
     "exception": false,
     "start_time": "2020-11-01T10:04:05.100065",
     "status": "completed"
    },
    "tags": []
   },
   "outputs": [
    {
     "name": "stdout",
     "output_type": "stream",
     "text": [
      "2\n"
     ]
    },
    {
     "data": {
      "text/plain": [
       "<matplotlib.image.AxesImage at 0x7fa857d489e8>"
      ]
     },
     "execution_count": 8,
     "metadata": {},
     "output_type": "execute_result"
    },
    {
     "data": {
      "image/png": "[encoded data removed]",
      "text/plain": [
       "<Figure size 432x288 with 1 Axes>"
      ]
     },
     "metadata": {
      "needs_background": "light"
     },
     "output_type": "display_data"
    }
   ],
   "source": [
    "image_index = 7776 # You may select anything up to 60,000\n",
    "print(train_labels[image_index]) \n",
    "plt.imshow(train_images[image_index], cmap='Greys')"
   ]
  },
  {
   "cell_type": "markdown",
   "metadata": {
    "papermill": {
     "duration": 0.028556,
     "end_time": "2020-11-01T10:04:05.344146",
     "exception": false,
     "start_time": "2020-11-01T10:04:05.315590",
     "status": "completed"
    },
    "tags": []
   },
   "source": [
    "## Filter data to get 3 and 8 out"
   ]
  },
  {
   "cell_type": "code",
   "execution_count": 9,
   "metadata": {
    "execution": {
     "iopub.execute_input": "2020-11-01T10:04:05.404131Z",
     "iopub.status.busy": "2020-11-01T10:04:05.403543Z",
     "iopub.status.idle": "2020-11-01T10:04:05.420179Z",
     "shell.execute_reply": "2020-11-01T10:04:05.419681Z"
    },
    "papermill": {
     "duration": 0.04825,
     "end_time": "2020-11-01T10:04:05.420302",
     "exception": false,
     "start_time": "2020-11-01T10:04:05.372052",
     "status": "completed"
    },
    "tags": []
   },
   "outputs": [],
   "source": [
    "train_filter = np.where((train_labels == 3 ) | (train_labels == 8))\n",
    "test_filter = np.where((test_labels == 3) | (test_labels == 8))\n",
    "X_train, y_train = train_images[train_filter], train_labels[train_filter]\n",
    "X_test, y_test = test_images[test_filter], test_labels[test_filter]"
   ]
  },
  {
   "cell_type": "markdown",
   "metadata": {
    "papermill": {
     "duration": 0.026815,
     "end_time": "2020-11-01T10:04:05.474675",
     "exception": false,
     "start_time": "2020-11-01T10:04:05.447860",
     "status": "completed"
    },
    "tags": []
   },
   "source": [
    "We normalize the pixel values in the 0 to 1 range"
   ]
  },
  {
   "cell_type": "code",
   "execution_count": 10,
   "metadata": {
    "execution": {
     "iopub.execute_input": "2020-11-01T10:04:05.533077Z",
     "iopub.status.busy": "2020-11-01T10:04:05.531822Z",
     "iopub.status.idle": "2020-11-01T10:04:05.585724Z",
     "shell.execute_reply": "2020-11-01T10:04:05.585142Z"
    },
    "papermill": {
     "duration": 0.085261,
     "end_time": "2020-11-01T10:04:05.585877",
     "exception": false,
     "start_time": "2020-11-01T10:04:05.500616",
     "status": "completed"
    },
    "tags": []
   },
   "outputs": [],
   "source": [
    "X_train = X_train/255.\n",
    "X_test = X_test/255."
   ]
  },
  {
   "cell_type": "markdown",
   "metadata": {
    "papermill": {
     "duration": 0.028191,
     "end_time": "2020-11-01T10:04:05.647923",
     "exception": false,
     "start_time": "2020-11-01T10:04:05.619732",
     "status": "completed"
    },
    "tags": []
   },
   "source": [
    "Setup the labels as 1 (when the digit is 3) and 0 (when the digit is 8)"
   ]
  },
  {
   "cell_type": "code",
   "execution_count": 11,
   "metadata": {
    "execution": {
     "iopub.execute_input": "2020-11-01T10:04:05.708065Z",
     "iopub.status.busy": "2020-11-01T10:04:05.707439Z",
     "iopub.status.idle": "2020-11-01T10:04:05.720397Z",
     "shell.execute_reply": "2020-11-01T10:04:05.719924Z"
    },
    "papermill": {
     "duration": 0.044437,
     "end_time": "2020-11-01T10:04:05.720531",
     "exception": false,
     "start_time": "2020-11-01T10:04:05.676094",
     "status": "completed"
    },
    "tags": []
   },
   "outputs": [],
   "source": [
    "y_train = 1*(y_train==3)\n",
    "y_test = 1*(y_test==3)"
   ]
  },
  {
   "cell_type": "code",
   "execution_count": 12,
   "metadata": {
    "execution": {
     "iopub.execute_input": "2020-11-01T10:04:05.778650Z",
     "iopub.status.busy": "2020-11-01T10:04:05.778067Z",
     "iopub.status.idle": "2020-11-01T10:04:05.793493Z",
     "shell.execute_reply": "2020-11-01T10:04:05.792965Z"
    },
    "papermill": {
     "duration": 0.045671,
     "end_time": "2020-11-01T10:04:05.793617",
     "exception": false,
     "start_time": "2020-11-01T10:04:05.747946",
     "status": "completed"
    },
    "tags": []
   },
   "outputs": [
    {
     "data": {
      "text/plain": [
       "((11982, 28, 28), (1984, 28, 28))"
      ]
     },
     "execution_count": 12,
     "metadata": {},
     "output_type": "execute_result"
    }
   ],
   "source": [
    "X_train.shape, X_test.shape"
   ]
  },
  {
   "cell_type": "markdown",
   "metadata": {
    "papermill": {
     "duration": 0.028035,
     "end_time": "2020-11-01T10:04:05.849919",
     "exception": false,
     "start_time": "2020-11-01T10:04:05.821884",
     "status": "completed"
    },
    "tags": []
   },
   "source": [
    "### Reshape the input data to create a linear array"
   ]
  },
  {
   "cell_type": "code",
   "execution_count": 13,
   "metadata": {
    "execution": {
     "iopub.execute_input": "2020-11-01T10:04:05.912363Z",
     "iopub.status.busy": "2020-11-01T10:04:05.911689Z",
     "iopub.status.idle": "2020-11-01T10:04:05.924484Z",
     "shell.execute_reply": "2020-11-01T10:04:05.924984Z"
    },
    "papermill": {
     "duration": 0.046686,
     "end_time": "2020-11-01T10:04:05.925128",
     "exception": false,
     "start_time": "2020-11-01T10:04:05.878442",
     "status": "completed"
    },
    "tags": []
   },
   "outputs": [
    {
     "data": {
      "text/plain": [
       "((11982, 784), (1984, 784))"
      ]
     },
     "execution_count": 13,
     "metadata": {},
     "output_type": "execute_result"
    }
   ],
   "source": [
    "X_train = X_train.reshape(X_train.shape[0], -1)\n",
    "X_test = X_test.reshape(X_test.shape[0], -1)\n",
    "X_train.shape, X_test.shape"
   ]
  },
  {
   "cell_type": "markdown",
   "metadata": {
    "papermill": {
     "duration": 0.028373,
     "end_time": "2020-11-01T10:04:05.982229",
     "exception": false,
     "start_time": "2020-11-01T10:04:05.953856",
     "status": "completed"
    },
    "tags": []
   },
   "source": [
    "### Importing appropriate functions from 'Kudzu'"
   ]
  },
  {
   "cell_type": "code",
   "execution_count": 14,
   "metadata": {
    "execution": {
     "iopub.execute_input": "2020-11-01T10:04:06.046614Z",
     "iopub.status.busy": "2020-11-01T10:04:06.045887Z",
     "iopub.status.idle": "2020-11-01T10:04:06.065426Z",
     "shell.execute_reply": "2020-11-01T10:04:06.065845Z"
    },
    "papermill": {
     "duration": 0.055585,
     "end_time": "2020-11-01T10:04:06.065987",
     "exception": false,
     "start_time": "2020-11-01T10:04:06.010402",
     "status": "completed"
    },
    "tags": []
   },
   "outputs": [],
   "source": [
    "from kudzu.layer import Sigmoid\n",
    "from kudzu.layer import Relu\n",
    "from kudzu.layer import Affine, Sigmoid\n",
    "\n",
    "from kudzu.model import Model\n",
    "from kudzu.train import Learner\n",
    "from kudzu.optim import GD\n",
    "from kudzu.data import Data, Dataloader, Sampler\n",
    "\n",
    "from kudzu.callbacks import AccCallback\n",
    "from kudzu.callbacks import ClfCallback\n",
    "\n",
    "from kudzu.loss import MSE"
   ]
  },
  {
   "cell_type": "markdown",
   "metadata": {
    "papermill": {
     "duration": 0.028304,
     "end_time": "2020-11-01T10:04:06.121722",
     "exception": false,
     "start_time": "2020-11-01T10:04:06.093418",
     "status": "completed"
    },
    "tags": []
   },
   "source": [
    "### Let us create a `Config` class, to store important parameters. \n",
    "This class essentially plays the role of a dictionary."
   ]
  },
  {
   "cell_type": "code",
   "execution_count": 15,
   "metadata": {
    "execution": {
     "iopub.execute_input": "2020-11-01T10:04:06.183369Z",
     "iopub.status.busy": "2020-11-01T10:04:06.182792Z",
     "iopub.status.idle": "2020-11-01T10:04:06.195549Z",
     "shell.execute_reply": "2020-11-01T10:04:06.195992Z"
    },
    "papermill": {
     "duration": 0.045722,
     "end_time": "2020-11-01T10:04:06.196140",
     "exception": false,
     "start_time": "2020-11-01T10:04:06.150418",
     "status": "completed"
    },
    "tags": []
   },
   "outputs": [],
   "source": [
    "class Config:\n",
    "    pass\n",
    "config = Config()\n",
    "config.lr = 0.001\n",
    "config.num_epochs = 251\n",
    "config.bs = 50"
   ]
  },
  {
   "cell_type": "markdown",
   "metadata": {
    "papermill": {
     "duration": 0.02822,
     "end_time": "2020-11-01T10:04:06.253001",
     "exception": false,
     "start_time": "2020-11-01T10:04:06.224781",
     "status": "completed"
    },
    "tags": []
   },
   "source": [
    "### Initializing data to the variables"
   ]
  },
  {
   "cell_type": "code",
   "execution_count": 16,
   "metadata": {
    "execution": {
     "iopub.execute_input": "2020-11-01T10:04:06.317468Z",
     "iopub.status.busy": "2020-11-01T10:04:06.316792Z",
     "iopub.status.idle": "2020-11-01T10:04:06.334209Z",
     "shell.execute_reply": "2020-11-01T10:04:06.333698Z"
    },
    "papermill": {
     "duration": 0.052621,
     "end_time": "2020-11-01T10:04:06.334337",
     "exception": false,
     "start_time": "2020-11-01T10:04:06.281716",
     "status": "completed"
    },
    "tags": []
   },
   "outputs": [],
   "source": [
    "data = Data(X_train, y_train.reshape(-1,1))\n",
    "sampler = Sampler(data, config.bs, shuffle=True)\n",
    "\n",
    "dl = Dataloader(data, sampler)\n",
    "\n",
    "opt = GD(config.lr)\n",
    "loss = MSE()"
   ]
  },
  {
   "cell_type": "code",
   "execution_count": 17,
   "metadata": {
    "execution": {
     "iopub.execute_input": "2020-11-01T10:04:06.396707Z",
     "iopub.status.busy": "2020-11-01T10:04:06.396108Z",
     "iopub.status.idle": "2020-11-01T10:04:06.409248Z",
     "shell.execute_reply": "2020-11-01T10:04:06.409718Z"
    },
    "papermill": {
     "duration": 0.046589,
     "end_time": "2020-11-01T10:04:06.409877",
     "exception": false,
     "start_time": "2020-11-01T10:04:06.363288",
     "status": "completed"
    },
    "tags": []
   },
   "outputs": [],
   "source": [
    "training_xdata = X_train\n",
    "testing_xdata = X_test\n",
    "training_ydata = y_train.reshape(-1,1)\n",
    "testing_ydata = y_test.reshape(-1,1)"
   ]
  },
  {
   "cell_type": "markdown",
   "metadata": {
    "papermill": {
     "duration": 0.034135,
     "end_time": "2020-11-01T10:04:06.473806",
     "exception": false,
     "start_time": "2020-11-01T10:04:06.439671",
     "status": "completed"
    },
    "tags": []
   },
   "source": [
    "### Running Models with the Training data\n",
    "Details about the network layers:\n",
    "- A first affine layer has 784 inputs and does 100 affine transforms. These are followed by a Relu\n",
    "- A second affine layer has 100 inputs from the 100 activations of the past layer, and does 100 affine transforms. These are followed by a Relu\n",
    "- A third affine layer has 100 activations and does 2 affine transformations to create an embedding for visualization. There is no non-linearity here.\n",
    "- A final \"logistic regression\" which has an affine transform from 2 inputs to 1 output, which is squeezed through a sigmoid.\n",
    "\n",
    "Help taken from Anshuman's Notebook."
   ]
  },
  {
   "cell_type": "code",
   "execution_count": 18,
   "metadata": {
    "execution": {
     "iopub.execute_input": "2020-11-01T10:04:06.537280Z",
     "iopub.status.busy": "2020-11-01T10:04:06.536565Z",
     "iopub.status.idle": "2020-11-01T10:04:06.554082Z",
     "shell.execute_reply": "2020-11-01T10:04:06.554568Z"
    },
    "papermill": {
     "duration": 0.051947,
     "end_time": "2020-11-01T10:04:06.554710",
     "exception": false,
     "start_time": "2020-11-01T10:04:06.502763",
     "status": "completed"
    },
    "tags": []
   },
   "outputs": [],
   "source": [
    "# layers for the Neural Network\n",
    "layers = [Affine(\"first\", 784, 100), Relu(\"first\"), Affine(\"second\", 100, 100), Relu(\"second\"), Affine(\"third\", 100, 2), Affine(\"final\", 2, 1), Sigmoid(\"final\")]\n",
    "model_nn = Model(layers)\n",
    "\n",
    "# layers for the Logistic Regression\n",
    "layers_lr = [Affine(\"logits\", 784, 1), Sigmoid(\"sigmoid\")]\n",
    "model_lr = Model(layers_lr)"
   ]
  },
  {
   "cell_type": "code",
   "execution_count": 19,
   "metadata": {
    "execution": {
     "iopub.execute_input": "2020-11-01T10:04:06.622952Z",
     "iopub.status.busy": "2020-11-01T10:04:06.622356Z",
     "iopub.status.idle": "2020-11-01T10:04:06.635405Z",
     "shell.execute_reply": "2020-11-01T10:04:06.634879Z"
    },
    "papermill": {
     "duration": 0.046627,
     "end_time": "2020-11-01T10:04:06.635529",
     "exception": false,
     "start_time": "2020-11-01T10:04:06.588902",
     "status": "completed"
    },
    "tags": []
   },
   "outputs": [],
   "source": [
    "# suffix _nn stands for Neural Network.\n",
    "learner_nn = Learner(loss, model_nn, opt, config.num_epochs)\n",
    "acc_nn = ClfCallback(learner_nn, config.bs, training_xdata , testing_xdata, training_ydata, testing_ydata)\n",
    "learner_nn.set_callbacks([acc_nn])"
   ]
  },
  {
   "cell_type": "code",
   "execution_count": 20,
   "metadata": {
    "execution": {
     "iopub.execute_input": "2020-11-01T10:04:06.693770Z",
     "iopub.status.busy": "2020-11-01T10:04:06.693337Z",
     "iopub.status.idle": "2020-11-01T10:05:36.391245Z",
     "shell.execute_reply": "2020-11-01T10:05:36.390739Z"
    },
    "papermill": {
     "duration": 89.72837,
     "end_time": "2020-11-01T10:05:36.391416",
     "exception": false,
     "start_time": "2020-11-01T10:04:06.663046",
     "status": "completed"
    },
    "tags": []
   },
   "outputs": [
    {
     "name": "stdout",
     "output_type": "stream",
     "text": [
      "====== Neural Network ======\n"
     ]
    },
    {
     "name": "stdout",
     "output_type": "stream",
     "text": [
      "Epoch 0, Loss 0.2437\n",
      "Training Accuracy: 0.6701, Testing Accuracy: 0.6946\n",
      "\n"
     ]
    },
    {
     "name": "stdout",
     "output_type": "stream",
     "text": [
      "Epoch 10, Loss 0.0841\n",
      "Training Accuracy: 0.9157, Testing Accuracy: 0.9244\n",
      "\n"
     ]
    },
    {
     "name": "stdout",
     "output_type": "stream",
     "text": [
      "Epoch 20, Loss 0.0547\n",
      "Training Accuracy: 0.9405, Testing Accuracy: 0.9506\n",
      "\n"
     ]
    },
    {
     "name": "stdout",
     "output_type": "stream",
     "text": [
      "Epoch 30, Loss 0.0438\n",
      "Training Accuracy: 0.9506, Testing Accuracy: 0.9607\n",
      "\n"
     ]
    },
    {
     "name": "stdout",
     "output_type": "stream",
     "text": [
      "Epoch 40, Loss 0.0383\n",
      "Training Accuracy: 0.9556, Testing Accuracy: 0.9632\n",
      "\n"
     ]
    },
    {
     "name": "stdout",
     "output_type": "stream",
     "text": [
      "Epoch 50, Loss 0.035\n",
      "Training Accuracy: 0.9589, Testing Accuracy: 0.9652\n",
      "\n"
     ]
    },
    {
     "name": "stdout",
     "output_type": "stream",
     "text": [
      "Epoch 60, Loss 0.0327\n",
      "Training Accuracy: 0.9621, Testing Accuracy: 0.9662\n",
      "\n"
     ]
    },
    {
     "name": "stdout",
     "output_type": "stream",
     "text": [
      "Epoch 70, Loss 0.031\n",
      "Training Accuracy: 0.9635, Testing Accuracy: 0.9667\n",
      "\n"
     ]
    },
    {
     "name": "stdout",
     "output_type": "stream",
     "text": [
      "Epoch 80, Loss 0.0296\n",
      "Training Accuracy: 0.9649, Testing Accuracy: 0.9693\n",
      "\n"
     ]
    },
    {
     "name": "stdout",
     "output_type": "stream",
     "text": [
      "Epoch 90, Loss 0.0285\n",
      "Training Accuracy: 0.9659, Testing Accuracy: 0.9688\n",
      "\n"
     ]
    },
    {
     "name": "stdout",
     "output_type": "stream",
     "text": [
      "Epoch 100, Loss 0.0275\n",
      "Training Accuracy: 0.9670, Testing Accuracy: 0.9677\n",
      "\n"
     ]
    },
    {
     "name": "stdout",
     "output_type": "stream",
     "text": [
      "Epoch 110, Loss 0.0267\n",
      "Training Accuracy: 0.9684, Testing Accuracy: 0.9688\n",
      "\n"
     ]
    },
    {
     "name": "stdout",
     "output_type": "stream",
     "text": [
      "Epoch 120, Loss 0.026\n",
      "Training Accuracy: 0.9695, Testing Accuracy: 0.9693\n",
      "\n"
     ]
    },
    {
     "name": "stdout",
     "output_type": "stream",
     "text": [
      "Epoch 130, Loss 0.0254\n",
      "Training Accuracy: 0.9700, Testing Accuracy: 0.9698\n",
      "\n"
     ]
    },
    {
     "name": "stdout",
     "output_type": "stream",
     "text": [
      "Epoch 140, Loss 0.0248\n",
      "Training Accuracy: 0.9708, Testing Accuracy: 0.9693\n",
      "\n"
     ]
    },
    {
     "name": "stdout",
     "output_type": "stream",
     "text": [
      "Epoch 150, Loss 0.0243\n",
      "Training Accuracy: 0.9715, Testing Accuracy: 0.9693\n",
      "\n"
     ]
    },
    {
     "name": "stdout",
     "output_type": "stream",
     "text": [
      "Epoch 160, Loss 0.0238\n",
      "Training Accuracy: 0.9726, Testing Accuracy: 0.9693\n",
      "\n"
     ]
    },
    {
     "name": "stdout",
     "output_type": "stream",
     "text": [
      "Epoch 170, Loss 0.0233\n",
      "Training Accuracy: 0.9730, Testing Accuracy: 0.9693\n",
      "\n"
     ]
    },
    {
     "name": "stdout",
     "output_type": "stream",
     "text": [
      "Epoch 180, Loss 0.0229\n",
      "Training Accuracy: 0.9735, Testing Accuracy: 0.9698\n",
      "\n"
     ]
    },
    {
     "name": "stdout",
     "output_type": "stream",
     "text": [
      "Epoch 190, Loss 0.0225\n",
      "Training Accuracy: 0.9740, Testing Accuracy: 0.9703\n",
      "\n"
     ]
    },
    {
     "name": "stdout",
     "output_type": "stream",
     "text": [
      "Epoch 200, Loss 0.0222\n",
      "Training Accuracy: 0.9746, Testing Accuracy: 0.9703\n",
      "\n"
     ]
    },
    {
     "name": "stdout",
     "output_type": "stream",
     "text": [
      "Epoch 210, Loss 0.0218\n",
      "Training Accuracy: 0.9756, Testing Accuracy: 0.9703\n",
      "\n"
     ]
    },
    {
     "name": "stdout",
     "output_type": "stream",
     "text": [
      "Epoch 220, Loss 0.0215\n",
      "Training Accuracy: 0.9762, Testing Accuracy: 0.9703\n",
      "\n"
     ]
    },
    {
     "name": "stdout",
     "output_type": "stream",
     "text": [
      "Epoch 230, Loss 0.0212\n",
      "Training Accuracy: 0.9763, Testing Accuracy: 0.9698\n",
      "\n"
     ]
    },
    {
     "name": "stdout",
     "output_type": "stream",
     "text": [
      "Epoch 240, Loss 0.0209\n",
      "Training Accuracy: 0.9765, Testing Accuracy: 0.9698\n",
      "\n"
     ]
    },
    {
     "name": "stdout",
     "output_type": "stream",
     "text": [
      "Epoch 250, Loss 0.0206\n",
      "Training Accuracy: 0.9770, Testing Accuracy: 0.9698\n",
      "\n"
     ]
    },
    {
     "data": {
      "text/plain": [
       "0.042074519865696755"
      ]
     },
     "execution_count": 20,
     "metadata": {},
     "output_type": "execute_result"
    }
   ],
   "source": [
    "print(\"====== Neural Network ======\")\n",
    "learner_nn.train_loop(dl)"
   ]
  },
  {
   "cell_type": "markdown",
   "metadata": {
    "papermill": {
     "duration": 0.037406,
     "end_time": "2020-11-01T10:05:36.467017",
     "exception": false,
     "start_time": "2020-11-01T10:05:36.429611",
     "status": "completed"
    },
    "tags": []
   },
   "source": [
    "### Logistic Regression based Implementation."
   ]
  },
  {
   "cell_type": "code",
   "execution_count": 21,
   "metadata": {
    "execution": {
     "iopub.execute_input": "2020-11-01T10:05:36.545564Z",
     "iopub.status.busy": "2020-11-01T10:05:36.544918Z",
     "iopub.status.idle": "2020-11-01T10:05:36.559905Z",
     "shell.execute_reply": "2020-11-01T10:05:36.560355Z"
    },
    "papermill": {
     "duration": 0.056819,
     "end_time": "2020-11-01T10:05:36.560509",
     "exception": false,
     "start_time": "2020-11-01T10:05:36.503690",
     "status": "completed"
    },
    "tags": []
   },
   "outputs": [],
   "source": [
    "learner_lr = Learner(loss, model_lr, opt, config.num_epochs)\n",
    "acc_lr = ClfCallback(learner_lr, config.bs, training_xdata , testing_xdata, training_ydata, testing_ydata)\n",
    "learner_lr.set_callbacks([acc_lr])"
   ]
  },
  {
   "cell_type": "code",
   "execution_count": 22,
   "metadata": {
    "execution": {
     "iopub.execute_input": "2020-11-01T10:05:36.641603Z",
     "iopub.status.busy": "2020-11-01T10:05:36.640789Z",
     "iopub.status.idle": "2020-11-01T10:05:52.714207Z",
     "shell.execute_reply": "2020-11-01T10:05:52.714979Z"
    },
    "papermill": {
     "duration": 16.117578,
     "end_time": "2020-11-01T10:05:52.715128",
     "exception": false,
     "start_time": "2020-11-01T10:05:36.597550",
     "status": "completed"
    },
    "tags": []
   },
   "outputs": [
    {
     "name": "stdout",
     "output_type": "stream",
     "text": [
      "====== Logistic Regression ======\n",
      "Epoch 0, Loss 0.246\n",
      "Training Accuracy: 0.6493, Testing Accuracy: 0.6603\n",
      "\n"
     ]
    },
    {
     "name": "stdout",
     "output_type": "stream",
     "text": [
      "Epoch 10, Loss 0.107\n",
      "Training Accuracy: 0.8970, Testing Accuracy: 0.9022\n",
      "\n"
     ]
    },
    {
     "name": "stdout",
     "output_type": "stream",
     "text": [
      "Epoch 20, Loss 0.0812\n",
      "Training Accuracy: 0.9236, Testing Accuracy: 0.9325\n",
      "\n"
     ]
    },
    {
     "name": "stdout",
     "output_type": "stream",
     "text": [
      "Epoch 30, Loss 0.0693\n",
      "Training Accuracy: 0.9355, Testing Accuracy: 0.9435\n",
      "\n"
     ]
    },
    {
     "name": "stdout",
     "output_type": "stream",
     "text": [
      "Epoch 40, Loss 0.0623\n",
      "Training Accuracy: 0.9408, Testing Accuracy: 0.9486\n",
      "\n"
     ]
    },
    {
     "name": "stdout",
     "output_type": "stream",
     "text": [
      "Epoch 50, Loss 0.0575\n",
      "Training Accuracy: 0.9449, Testing Accuracy: 0.9521\n",
      "\n"
     ]
    },
    {
     "name": "stdout",
     "output_type": "stream",
     "text": [
      "Epoch 60, Loss 0.0541\n",
      "Training Accuracy: 0.9480, Testing Accuracy: 0.9572\n",
      "\n"
     ]
    },
    {
     "name": "stdout",
     "output_type": "stream",
     "text": [
      "Epoch 70, Loss 0.0514\n",
      "Training Accuracy: 0.9501, Testing Accuracy: 0.9577\n",
      "\n"
     ]
    },
    {
     "name": "stdout",
     "output_type": "stream",
     "text": [
      "Epoch 80, Loss 0.0493\n",
      "Training Accuracy: 0.9516, Testing Accuracy: 0.9577\n",
      "\n"
     ]
    },
    {
     "name": "stdout",
     "output_type": "stream",
     "text": [
      "Epoch 90, Loss 0.0476\n",
      "Training Accuracy: 0.9528, Testing Accuracy: 0.9602\n",
      "\n"
     ]
    },
    {
     "name": "stdout",
     "output_type": "stream",
     "text": [
      "Epoch 100, Loss 0.0461\n",
      "Training Accuracy: 0.9540, Testing Accuracy: 0.9612\n",
      "\n"
     ]
    },
    {
     "name": "stdout",
     "output_type": "stream",
     "text": [
      "Epoch 110, Loss 0.0449\n",
      "Training Accuracy: 0.9551, Testing Accuracy: 0.9617\n",
      "\n"
     ]
    },
    {
     "name": "stdout",
     "output_type": "stream",
     "text": [
      "Epoch 120, Loss 0.0438\n",
      "Training Accuracy: 0.9559, Testing Accuracy: 0.9622\n",
      "\n"
     ]
    },
    {
     "name": "stdout",
     "output_type": "stream",
     "text": [
      "Epoch 130, Loss 0.0428\n",
      "Training Accuracy: 0.9564, Testing Accuracy: 0.9622\n",
      "\n"
     ]
    },
    {
     "name": "stdout",
     "output_type": "stream",
     "text": [
      "Epoch 140, Loss 0.042\n",
      "Training Accuracy: 0.9569, Testing Accuracy: 0.9627\n",
      "\n"
     ]
    },
    {
     "name": "stdout",
     "output_type": "stream",
     "text": [
      "Epoch 150, Loss 0.0412\n",
      "Training Accuracy: 0.9574, Testing Accuracy: 0.9632\n",
      "\n"
     ]
    },
    {
     "name": "stdout",
     "output_type": "stream",
     "text": [
      "Epoch 160, Loss 0.0405\n",
      "Training Accuracy: 0.9578, Testing Accuracy: 0.9637\n",
      "\n"
     ]
    },
    {
     "name": "stdout",
     "output_type": "stream",
     "text": [
      "Epoch 170, Loss 0.0399\n",
      "Training Accuracy: 0.9583, Testing Accuracy: 0.9637\n",
      "\n"
     ]
    },
    {
     "name": "stdout",
     "output_type": "stream",
     "text": [
      "Epoch 180, Loss 0.0394\n",
      "Training Accuracy: 0.9590, Testing Accuracy: 0.9642\n",
      "\n"
     ]
    },
    {
     "name": "stdout",
     "output_type": "stream",
     "text": [
      "Epoch 190, Loss 0.0388\n",
      "Training Accuracy: 0.9595, Testing Accuracy: 0.9642\n",
      "\n"
     ]
    },
    {
     "name": "stdout",
     "output_type": "stream",
     "text": [
      "Epoch 200, Loss 0.0384\n",
      "Training Accuracy: 0.9596, Testing Accuracy: 0.9647\n",
      "\n"
     ]
    },
    {
     "name": "stdout",
     "output_type": "stream",
     "text": [
      "Epoch 210, Loss 0.0379\n",
      "Training Accuracy: 0.9600, Testing Accuracy: 0.9647\n",
      "\n"
     ]
    },
    {
     "name": "stdout",
     "output_type": "stream",
     "text": [
      "Epoch 220, Loss 0.0375\n",
      "Training Accuracy: 0.9603, Testing Accuracy: 0.9657\n",
      "\n"
     ]
    },
    {
     "name": "stdout",
     "output_type": "stream",
     "text": [
      "Epoch 230, Loss 0.0371\n",
      "Training Accuracy: 0.9605, Testing Accuracy: 0.9652\n",
      "\n"
     ]
    },
    {
     "name": "stdout",
     "output_type": "stream",
     "text": [
      "Epoch 240, Loss 0.0368\n",
      "Training Accuracy: 0.9607, Testing Accuracy: 0.9652\n",
      "\n"
     ]
    },
    {
     "name": "stdout",
     "output_type": "stream",
     "text": [
      "Epoch 250, Loss 0.0364\n",
      "Training Accuracy: 0.9611, Testing Accuracy: 0.9652\n",
      "\n"
     ]
    },
    {
     "data": {
      "text/plain": [
       "0.04158208406807595"
      ]
     },
     "execution_count": 22,
     "metadata": {},
     "output_type": "execute_result"
    }
   ],
   "source": [
    "print(\"====== Logistic Regression ======\")\n",
    "learner_lr.train_loop(dl)"
   ]
  },
  {
   "cell_type": "markdown",
   "metadata": {
    "papermill": {
     "duration": 0.042389,
     "end_time": "2020-11-01T10:05:52.801613",
     "exception": false,
     "start_time": "2020-11-01T10:05:52.759224",
     "status": "completed"
    },
    "tags": []
   },
   "source": [
    "### Comparing results of NN and LR"
   ]
  },
  {
   "cell_type": "code",
   "execution_count": 23,
   "metadata": {
    "execution": {
     "iopub.execute_input": "2020-11-01T10:05:52.890958Z",
     "iopub.status.busy": "2020-11-01T10:05:52.889935Z",
     "iopub.status.idle": "2020-11-01T10:05:53.130743Z",
     "shell.execute_reply": "2020-11-01T10:05:53.130220Z"
    },
    "papermill": {
     "duration": 0.287334,
     "end_time": "2020-11-01T10:05:53.130876",
     "exception": false,
     "start_time": "2020-11-01T10:05:52.843542",
     "status": "completed"
    },
    "tags": []
   },
   "outputs": [
    {
     "data": {
      "text/plain": [
       "<matplotlib.legend.Legend at 0x7fa84a5360b8>"
      ]
     },
     "execution_count": 23,
     "metadata": {},
     "output_type": "execute_result"
    },
    {
     "data": {
      "image/png": "[encoded data removed]",
      "text/plain": [
       "<Figure size 1080x720 with 1 Axes>"
      ]
     },
     "metadata": {
      "needs_background": "light"
     },
     "output_type": "display_data"
    }
   ],
   "source": [
    "plt.figure(figsize=(15,10))\n",
    "\n",
    "# Neural Network plots\n",
    "plt.plot(acc_nn.accuracies, 'r-', label = \"Training Accuracies - NN\")\n",
    "plt.plot(acc_nn.test_accuracies, 'g-', label = \"Testing Accuracies - NN\")\n",
    "\n",
    "# Logistic Regression plots\n",
    "plt.plot(acc_lr.accuracies, 'k-', label = \"Training Accuracies - LR\")\n",
    "plt.plot(acc_lr.test_accuracies, 'b-', label = \"Testing Accuracies - LR\")\n",
    "\n",
    "plt.ylim(0.8, 1)\n",
    "\n",
    "plt.legend()\n",
    "\n"
   ]
  },
  {
   "cell_type": "markdown",
   "metadata": {
    "papermill": {
     "duration": 0.046583,
     "end_time": "2020-11-01T10:05:53.223873",
     "exception": false,
     "start_time": "2020-11-01T10:05:53.177290",
     "status": "completed"
    },
    "tags": []
   },
   "source": [
    "### From the plot, we can observe the following:\n",
    "- Neural Network achieves higher accuracy than the Logistic Regression model.\n",
    "- This apparently, is because of overfitting, i.e. NN captures more noise than data.\n",
    "- Testing accuracy of NN drops below the Training accuracy at higher epochs. This explains the over-fitting on training data.\n",
    "- Logistic Regression gives a reliable accuracy, without the above mentioned problem.\n"
   ]
  },
  {
   "cell_type": "markdown",
   "metadata": {
    "papermill": {
     "duration": 0.046691,
     "end_time": "2020-11-01T10:05:53.317113",
     "exception": false,
     "start_time": "2020-11-01T10:05:53.270422",
     "status": "completed"
    },
    "tags": []
   },
   "source": [
    "### Moving till the last but one layer (excluding it).\n",
    "#### Plotting the outputs of this layer of the NN."
   ]
  },
  {
   "cell_type": "code",
   "execution_count": 24,
   "metadata": {
    "execution": {
     "iopub.execute_input": "2020-11-01T10:05:53.414345Z",
     "iopub.status.busy": "2020-11-01T10:05:53.413766Z",
     "iopub.status.idle": "2020-11-01T10:05:53.427006Z",
     "shell.execute_reply": "2020-11-01T10:05:53.426496Z"
    },
    "papermill": {
     "duration": 0.06321,
     "end_time": "2020-11-01T10:05:53.427151",
     "exception": false,
     "start_time": "2020-11-01T10:05:53.363941",
     "status": "completed"
    },
    "tags": []
   },
   "outputs": [],
   "source": [
    "model_new = Model(layers[:-2])"
   ]
  },
  {
   "cell_type": "code",
   "execution_count": 25,
   "metadata": {
    "execution": {
     "iopub.execute_input": "2020-11-01T10:05:53.523476Z",
     "iopub.status.busy": "2020-11-01T10:05:53.522882Z",
     "iopub.status.idle": "2020-11-01T10:05:53.543692Z",
     "shell.execute_reply": "2020-11-01T10:05:53.544164Z"
    },
    "papermill": {
     "duration": 0.070841,
     "end_time": "2020-11-01T10:05:53.544311",
     "exception": false,
     "start_time": "2020-11-01T10:05:53.473470",
     "status": "completed"
    },
    "tags": []
   },
   "outputs": [],
   "source": [
    "plot_testing = model_new(testing_xdata)"
   ]
  },
  {
   "cell_type": "code",
   "execution_count": 26,
   "metadata": {
    "execution": {
     "iopub.execute_input": "2020-11-01T10:05:53.646779Z",
     "iopub.status.busy": "2020-11-01T10:05:53.646207Z",
     "iopub.status.idle": "2020-11-01T10:05:53.881248Z",
     "shell.execute_reply": "2020-11-01T10:05:53.881762Z"
    },
    "papermill": {
     "duration": 0.291665,
     "end_time": "2020-11-01T10:05:53.881931",
     "exception": false,
     "start_time": "2020-11-01T10:05:53.590266",
     "status": "completed"
    },
    "tags": []
   },
   "outputs": [
    {
     "data": {
      "text/plain": [
       "Text(0.5, 1.0, 'Outputs')"
      ]
     },
     "execution_count": 26,
     "metadata": {},
     "output_type": "execute_result"
    },
    {
     "data": {
      "image/png": "[encoded data removed]",
      "text/plain": [
       "<Figure size 576x504 with 1 Axes>"
      ]
     },
     "metadata": {
      "needs_background": "light"
     },
     "output_type": "display_data"
    }
   ],
   "source": [
    "plt.figure(figsize=(8,7))\n",
    "plt.scatter(plot_testing[:,0], plot_testing[:,1], alpha = 0.1, c = y_test.ravel());\n",
    "plt.title('Outputs')"
   ]
  },
  {
   "cell_type": "markdown",
   "metadata": {
    "papermill": {
     "duration": 0.048135,
     "end_time": "2020-11-01T10:05:53.988020",
     "exception": false,
     "start_time": "2020-11-01T10:05:53.939885",
     "status": "completed"
    },
    "tags": []
   },
   "source": [
    "### Plotting probability contours"
   ]
  },
  {
   "cell_type": "code",
   "execution_count": 27,
   "metadata": {
    "execution": {
     "iopub.execute_input": "2020-11-01T10:05:54.091051Z",
     "iopub.status.busy": "2020-11-01T10:05:54.090459Z",
     "iopub.status.idle": "2020-11-01T10:05:54.105364Z",
     "shell.execute_reply": "2020-11-01T10:05:54.104824Z"
    },
    "papermill": {
     "duration": 0.068116,
     "end_time": "2020-11-01T10:05:54.105500",
     "exception": false,
     "start_time": "2020-11-01T10:05:54.037384",
     "status": "completed"
    },
    "tags": []
   },
   "outputs": [],
   "source": [
    "model_prob = Model(layers[-2:]) "
   ]
  },
  {
   "cell_type": "code",
   "execution_count": 28,
   "metadata": {
    "execution": {
     "iopub.execute_input": "2020-11-01T10:05:54.211472Z",
     "iopub.status.busy": "2020-11-01T10:05:54.210870Z",
     "iopub.status.idle": "2020-11-01T10:05:54.224775Z",
     "shell.execute_reply": "2020-11-01T10:05:54.225346Z"
    },
    "papermill": {
     "duration": 0.071119,
     "end_time": "2020-11-01T10:05:54.225492",
     "exception": false,
     "start_time": "2020-11-01T10:05:54.154373",
     "status": "completed"
    },
    "tags": []
   },
   "outputs": [],
   "source": [
    "# Adjust the x and y ranges according to the above generated plot.\n",
    "x_range = np.linspace(-4, 1, 100) \n",
    "y_range = np.linspace(-6, 6, 100) \n",
    "x_grid, y_grid = np.meshgrid(x_range, y_range) # x_grid and y_grig are of size 100 X 100\n",
    "\n",
    "# converting x_grid and y_grid to continuous arrays\n",
    "x_grid_flat = np.ravel(x_grid)\n",
    "y_grid_flat = np.ravel(y_grid)\n",
    "\n",
    "# The last layer of the current model takes two columns as input. Hence transpose of np.vstack() is required.\n",
    "X = np.vstack((x_grid_flat, y_grid_flat)).T\n",
    "\n",
    "# x_grid and y_grid are of size 100 x 100\n",
    "probability_contour = model_prob(X).reshape(100,100) "
   ]
  },
  {
   "cell_type": "code",
   "execution_count": 29,
   "metadata": {
    "execution": {
     "iopub.execute_input": "2020-11-01T10:05:54.334794Z",
     "iopub.status.busy": "2020-11-01T10:05:54.334211Z",
     "iopub.status.idle": "2020-11-01T10:05:54.586265Z",
     "shell.execute_reply": "2020-11-01T10:05:54.587828Z"
    },
    "papermill": {
     "duration": 0.313281,
     "end_time": "2020-11-01T10:05:54.587990",
     "exception": false,
     "start_time": "2020-11-01T10:05:54.274709",
     "status": "completed"
    },
    "tags": []
   },
   "outputs": [
    {
     "data": {
      "image/png": "[encoded data removed]",
      "text/plain": [
       "<Figure size 720x648 with 1 Axes>"
      ]
     },
     "metadata": {
      "needs_background": "light"
     },
     "output_type": "display_data"
    }
   ],
   "source": [
    "plt.figure(figsize=(10,9))\n",
    "plt.scatter(plot_testing[:,0], plot_testing[:,1], alpha = 0.1, c = y_test.ravel())\n",
    "contours = plt.contour(x_grid,y_grid,probability_contour)\n",
    "plt.title('Probability Contours')\n",
    "plt.clabel(contours, inline = True );"
   ]
  }
 ],
 "metadata": {
  "kernelspec": {
   "display_name": "Python 3",
   "language": "python",
   "name": "python3"
  },
  "language_info": {
   "codemirror_mode": {
    "name": "ipython",
    "version": 3
   },
   "file_extension": ".py",
   "mimetype": "text/x-python",
   "name": "python",
   "nbconvert_exporter": "python",
   "pygments_lexer": "ipython3",
   "version": "3.6.12"
  },
  "papermill": {
   "duration": 120.00134,
   "end_time": "2020-11-01T10:05:54.948022",
   "environment_variables": {},
   "exception": null,
   "input_path": "2020-08-11-NeuralNetwork.ipynb",
   "output_path": "2020-08-11-NeuralNetwork.ipynb",
   "parameters": {},
   "start_time": "2020-11-01T10:03:54.946682",
   "version": "2.1.2"
  }
 },
 "nbformat": 4,
 "nbformat_minor": 4
}