{
 "cells": [
  {
   "cell_type": "markdown",
   "metadata": {
    "papermill": {
     "duration": 0.030365,
     "end_time": "2020-09-04T20:04:19.308624",
     "exception": false,
     "start_time": "2020-09-04T20:04:19.278259",
     "status": "completed"
    },
    "tags": []
   },
   "source": [
    "# \"A Basic Neural Network: Differentiate Hand-Written Digits\"\n",
    "\n",
    "- badges: true\n",
    "- author: Akshith Sriram"
   ]
  },
  {
   "cell_type": "markdown",
   "metadata": {
    "papermill": {
     "duration": 0.025102,
     "end_time": "2020-09-04T20:04:19.360542",
     "exception": false,
     "start_time": "2020-09-04T20:04:19.335440",
     "status": "completed"
    },
    "tags": []
   },
   "source": [
    "### Key Objectives:\n",
    "- Building a neural network that differentiates two hand-written digits 3 and 8.\n",
    "- Comparing the results of this Neural Network (NN) to that of a Logistic Regression (LR) model.\n",
    "\n",
    "### Requirements:\n",
    "- 'Kudzu' : A neural network library that was designed during our course by [Univ.AI](www.univ.ai). \n",
    "- MNIST Database\n",
    "\n",
    "If MNIST is not installed, use the command `!pip install mnist` given below.\n",
    "It can be run both from the command line and Jupyter Notebook."
   ]
  },
  {
   "cell_type": "code",
   "execution_count": 1,
   "metadata": {
    "execution": {
     "iopub.execute_input": "2020-09-04T20:04:19.415555Z",
     "iopub.status.busy": "2020-09-04T20:04:19.414953Z",
     "iopub.status.idle": "2020-09-04T20:04:21.001008Z",
     "shell.execute_reply": "2020-09-04T20:04:21.001499Z"
    },
    "papermill": {
     "duration": 1.616231,
     "end_time": "2020-09-04T20:04:21.001695",
     "exception": false,
     "start_time": "2020-09-04T20:04:19.385464",
     "status": "completed"
    },
    "tags": []
   },
   "outputs": [
    {
     "name": "stdout",
     "output_type": "stream",
     "text": [
      "Collecting mnist\r\n"
     ]
    },
    {
     "name": "stdout",
     "output_type": "stream",
     "text": [
      "  Downloading mnist-0.2.2-py2.py3-none-any.whl (3.5 kB)\r\n"
     ]
    },
    {
     "name": "stdout",
     "output_type": "stream",
     "text": [
      "Requirement already satisfied: numpy in /opt/hostedtoolcache/Python/3.6.12/x64/lib/python3.6/site-packages (from mnist) (1.19.1)\r\n"
     ]
    },
    {
     "name": "stdout",
     "output_type": "stream",
     "text": [
      "Installing collected packages: mnist\r\n"
     ]
    },
    {
     "name": "stdout",
     "output_type": "stream",
     "text": [
      "Successfully installed mnist-0.2.2\r\n"
     ]
    }
   ],
   "source": [
    "!pip install mnist "
   ]
  },
  {
   "cell_type": "markdown",
   "metadata": {
    "papermill": {
     "duration": 0.026586,
     "end_time": "2020-09-04T20:04:21.055100",
     "exception": false,
     "start_time": "2020-09-04T20:04:21.028514",
     "status": "completed"
    },
    "tags": []
   },
   "source": [
    "#### Importing necessary libraries"
   ]
  },
  {
   "cell_type": "code",
   "execution_count": 2,
   "metadata": {
    "execution": {
     "iopub.execute_input": "2020-09-04T20:04:21.117716Z",
     "iopub.status.busy": "2020-09-04T20:04:21.117115Z",
     "iopub.status.idle": "2020-09-04T20:04:21.796905Z",
     "shell.execute_reply": "2020-09-04T20:04:21.797395Z"
    },
    "papermill": {
     "duration": 0.715006,
     "end_time": "2020-09-04T20:04:21.797565",
     "exception": false,
     "start_time": "2020-09-04T20:04:21.082559",
     "status": "completed"
    },
    "tags": []
   },
   "outputs": [],
   "source": [
    "%load_ext autoreload\n",
    "%autoreload 2\n",
    "\n",
    "%matplotlib inline\n",
    "import matplotlib.pyplot as plt\n",
    "\n",
    "import numpy as np\n",
    "import pandas as pd"
   ]
  },
  {
   "cell_type": "markdown",
   "metadata": {
    "papermill": {
     "duration": 0.189631,
     "end_time": "2020-09-04T20:04:22.048077",
     "exception": false,
     "start_time": "2020-09-04T20:04:21.858446",
     "status": "completed"
    },
    "tags": []
   },
   "source": [
    "### Preparing the Data"
   ]
  },
  {
   "cell_type": "code",
   "execution_count": 3,
   "metadata": {
    "execution": {
     "iopub.execute_input": "2020-09-04T20:04:22.125754Z",
     "iopub.status.busy": "2020-09-04T20:04:22.124605Z",
     "iopub.status.idle": "2020-09-04T20:04:22.138755Z",
     "shell.execute_reply": "2020-09-04T20:04:22.138236Z"
    },
    "papermill": {
     "duration": 0.050877,
     "end_time": "2020-09-04T20:04:22.138901",
     "exception": false,
     "start_time": "2020-09-04T20:04:22.088024",
     "status": "completed"
    },
    "tags": []
   },
   "outputs": [],
   "source": [
    "import mnist"
   ]
  },
  {
   "cell_type": "code",
   "execution_count": 4,
   "metadata": {
    "execution": {
     "iopub.execute_input": "2020-09-04T20:04:22.198762Z",
     "iopub.status.busy": "2020-09-04T20:04:22.198157Z",
     "iopub.status.idle": "2020-09-04T20:04:23.824242Z",
     "shell.execute_reply": "2020-09-04T20:04:23.824727Z"
    },
    "papermill": {
     "duration": 1.658781,
     "end_time": "2020-09-04T20:04:23.824936",
     "exception": false,
     "start_time": "2020-09-04T20:04:22.166155",
     "status": "completed"
    },
    "tags": []
   },
   "outputs": [],
   "source": [
    "train_images = mnist.train_images()\n",
    "train_labels = mnist.train_labels()"
   ]
  },
  {
   "cell_type": "code",
   "execution_count": 5,
   "metadata": {
    "execution": {
     "iopub.execute_input": "2020-09-04T20:04:23.882738Z",
     "iopub.status.busy": "2020-09-04T20:04:23.882134Z",
     "iopub.status.idle": "2020-09-04T20:04:23.910648Z",
     "shell.execute_reply": "2020-09-04T20:04:23.911306Z"
    },
    "papermill": {
     "duration": 0.059896,
     "end_time": "2020-09-04T20:04:23.911509",
     "exception": false,
     "start_time": "2020-09-04T20:04:23.851613",
     "status": "completed"
    },
    "tags": []
   },
   "outputs": [
    {
     "data": {
      "text/plain": [
       "((60000, 28, 28), (60000,))"
      ]
     },
     "execution_count": 5,
     "metadata": {},
     "output_type": "execute_result"
    }
   ],
   "source": [
    "train_images.shape, train_labels.shape"
   ]
  },
  {
   "cell_type": "code",
   "execution_count": 6,
   "metadata": {
    "execution": {
     "iopub.execute_input": "2020-09-04T20:04:23.972648Z",
     "iopub.status.busy": "2020-09-04T20:04:23.972035Z",
     "iopub.status.idle": "2020-09-04T20:04:24.844040Z",
     "shell.execute_reply": "2020-09-04T20:04:24.843483Z"
    },
    "papermill": {
     "duration": 0.905449,
     "end_time": "2020-09-04T20:04:24.844176",
     "exception": false,
     "start_time": "2020-09-04T20:04:23.938727",
     "status": "completed"
    },
    "tags": []
   },
   "outputs": [],
   "source": [
    "test_images = mnist.test_images()\n",
    "test_labels = mnist.test_labels()"
   ]
  },
  {
   "cell_type": "code",
   "execution_count": 7,
   "metadata": {
    "execution": {
     "iopub.execute_input": "2020-09-04T20:04:24.907001Z",
     "iopub.status.busy": "2020-09-04T20:04:24.906398Z",
     "iopub.status.idle": "2020-09-04T20:04:24.920218Z",
     "shell.execute_reply": "2020-09-04T20:04:24.920731Z"
    },
    "papermill": {
     "duration": 0.048059,
     "end_time": "2020-09-04T20:04:24.920915",
     "exception": false,
     "start_time": "2020-09-04T20:04:24.872856",
     "status": "completed"
    },
    "tags": []
   },
   "outputs": [
    {
     "data": {
      "text/plain": [
       "((10000, 28, 28), (10000,))"
      ]
     },
     "execution_count": 7,
     "metadata": {},
     "output_type": "execute_result"
    }
   ],
   "source": [
    "test_images.shape, test_labels.shape"
   ]
  },
  {
   "cell_type": "code",
   "execution_count": 8,
   "metadata": {
    "execution": {
     "iopub.execute_input": "2020-09-04T20:04:24.981061Z",
     "iopub.status.busy": "2020-09-04T20:04:24.980441Z",
     "iopub.status.idle": "2020-09-04T20:04:25.141675Z",
     "shell.execute_reply": "2020-09-04T20:04:25.142220Z"
    },
    "papermill": {
     "duration": 0.193584,
     "end_time": "2020-09-04T20:04:25.142390",
     "exception": false,
     "start_time": "2020-09-04T20:04:24.948806",
     "status": "completed"
    },
    "tags": []
   },
   "outputs": [
    {
     "name": "stdout",
     "output_type": "stream",
     "text": [
      "2\n"
     ]
    },
    {
     "data": {
      "text/plain": [
       "<matplotlib.image.AxesImage at 0x7face8d360b8>"
      ]
     },
     "execution_count": 8,
     "metadata": {},
     "output_type": "execute_result"
    },
    {
     "data": {
      "image/png": "[encoded data removed]",
      "text/plain": [
       "<Figure size 432x288 with 1 Axes>"
      ]
     },
     "metadata": {
      "needs_background": "light"
     },
     "output_type": "display_data"
    }
   ],
   "source": [
    "image_index = 7776 # You may select anything up to 60,000\n",
    "print(train_labels[image_index]) \n",
    "plt.imshow(train_images[image_index], cmap='Greys')"
   ]
  },
  {
   "cell_type": "markdown",
   "metadata": {
    "papermill": {
     "duration": 0.036287,
     "end_time": "2020-09-04T20:04:25.208142",
     "exception": false,
     "start_time": "2020-09-04T20:04:25.171855",
     "status": "completed"
    },
    "tags": []
   },
   "source": [
    "## Filter data to get 3 and 8 out"
   ]
  },
  {
   "cell_type": "code",
   "execution_count": 9,
   "metadata": {
    "execution": {
     "iopub.execute_input": "2020-09-04T20:04:25.279993Z",
     "iopub.status.busy": "2020-09-04T20:04:25.278323Z",
     "iopub.status.idle": "2020-09-04T20:04:25.293369Z",
     "shell.execute_reply": "2020-09-04T20:04:25.292827Z"
    },
    "papermill": {
     "duration": 0.052549,
     "end_time": "2020-09-04T20:04:25.293515",
     "exception": false,
     "start_time": "2020-09-04T20:04:25.240966",
     "status": "completed"
    },
    "tags": []
   },
   "outputs": [],
   "source": [
    "train_filter = np.where((train_labels == 3 ) | (train_labels == 8))\n",
    "test_filter = np.where((test_labels == 3) | (test_labels == 8))\n",
    "X_train, y_train = train_images[train_filter], train_labels[train_filter]\n",
    "X_test, y_test = test_images[test_filter], test_labels[test_filter]"
   ]
  },
  {
   "cell_type": "markdown",
   "metadata": {
    "papermill": {
     "duration": 0.029439,
     "end_time": "2020-09-04T20:04:25.352186",
     "exception": false,
     "start_time": "2020-09-04T20:04:25.322747",
     "status": "completed"
    },
    "tags": []
   },
   "source": [
    "We normalize the pixel values in the 0 to 1 range"
   ]
  },
  {
   "cell_type": "code",
   "execution_count": 10,
   "metadata": {
    "execution": {
     "iopub.execute_input": "2020-09-04T20:04:25.416280Z",
     "iopub.status.busy": "2020-09-04T20:04:25.415400Z",
     "iopub.status.idle": "2020-09-04T20:04:25.466309Z",
     "shell.execute_reply": "2020-09-04T20:04:25.465766Z"
    },
    "papermill": {
     "duration": 0.084849,
     "end_time": "2020-09-04T20:04:25.466447",
     "exception": false,
     "start_time": "2020-09-04T20:04:25.381598",
     "status": "completed"
    },
    "tags": []
   },
   "outputs": [],
   "source": [
    "X_train = X_train/255.\n",
    "X_test = X_test/255."
   ]
  },
  {
   "cell_type": "markdown",
   "metadata": {
    "papermill": {
     "duration": 0.028709,
     "end_time": "2020-09-04T20:04:25.524812",
     "exception": false,
     "start_time": "2020-09-04T20:04:25.496103",
     "status": "completed"
    },
    "tags": []
   },
   "source": [
    "Setup the labels as 1 (when the digit is 3) and 0 (when the digit is 8)"
   ]
  },
  {
   "cell_type": "code",
   "execution_count": 11,
   "metadata": {
    "execution": {
     "iopub.execute_input": "2020-09-04T20:04:25.588477Z",
     "iopub.status.busy": "2020-09-04T20:04:25.586463Z",
     "iopub.status.idle": "2020-09-04T20:04:25.602638Z",
     "shell.execute_reply": "2020-09-04T20:04:25.602099Z"
    },
    "papermill": {
     "duration": 0.049374,
     "end_time": "2020-09-04T20:04:25.602774",
     "exception": false,
     "start_time": "2020-09-04T20:04:25.553400",
     "status": "completed"
    },
    "tags": []
   },
   "outputs": [],
   "source": [
    "y_train = 1*(y_train==3)\n",
    "y_test = 1*(y_test==3)"
   ]
  },
  {
   "cell_type": "code",
   "execution_count": 12,
   "metadata": {
    "execution": {
     "iopub.execute_input": "2020-09-04T20:04:25.667386Z",
     "iopub.status.busy": "2020-09-04T20:04:25.666769Z",
     "iopub.status.idle": "2020-09-04T20:04:25.680784Z",
     "shell.execute_reply": "2020-09-04T20:04:25.681253Z"
    },
    "papermill": {
     "duration": 0.049343,
     "end_time": "2020-09-04T20:04:25.681415",
     "exception": false,
     "start_time": "2020-09-04T20:04:25.632072",
     "status": "completed"
    },
    "tags": []
   },
   "outputs": [
    {
     "data": {
      "text/plain": [
       "((11982, 28, 28), (1984, 28, 28))"
      ]
     },
     "execution_count": 12,
     "metadata": {},
     "output_type": "execute_result"
    }
   ],
   "source": [
    "X_train.shape, X_test.shape"
   ]
  },
  {
   "cell_type": "markdown",
   "metadata": {
    "papermill": {
     "duration": 0.030921,
     "end_time": "2020-09-04T20:04:25.746873",
     "exception": false,
     "start_time": "2020-09-04T20:04:25.715952",
     "status": "completed"
    },
    "tags": []
   },
   "source": [
    "### Reshape the input data to create a linear array"
   ]
  },
  {
   "cell_type": "code",
   "execution_count": 13,
   "metadata": {
    "execution": {
     "iopub.execute_input": "2020-09-04T20:04:25.813752Z",
     "iopub.status.busy": "2020-09-04T20:04:25.813111Z",
     "iopub.status.idle": "2020-09-04T20:04:25.833217Z",
     "shell.execute_reply": "2020-09-04T20:04:25.833733Z"
    },
    "papermill": {
     "duration": 0.057045,
     "end_time": "2020-09-04T20:04:25.833881",
     "exception": false,
     "start_time": "2020-09-04T20:04:25.776836",
     "status": "completed"
    },
    "tags": []
   },
   "outputs": [
    {
     "data": {
      "text/plain": [
       "((11982, 784), (1984, 784))"
      ]
     },
     "execution_count": 13,
     "metadata": {},
     "output_type": "execute_result"
    }
   ],
   "source": [
    "X_train = X_train.reshape(X_train.shape[0], -1)\n",
    "X_test = X_test.reshape(X_test.shape[0], -1)\n",
    "X_train.shape, X_test.shape"
   ]
  },
  {
   "cell_type": "markdown",
   "metadata": {
    "papermill": {
     "duration": 0.029562,
     "end_time": "2020-09-04T20:04:25.892860",
     "exception": false,
     "start_time": "2020-09-04T20:04:25.863298",
     "status": "completed"
    },
    "tags": []
   },
   "source": [
    "### Importing appropriate functions from 'Kudzu'"
   ]
  },
  {
   "cell_type": "code",
   "execution_count": 14,
   "metadata": {
    "execution": {
     "iopub.execute_input": "2020-09-04T20:04:25.956140Z",
     "iopub.status.busy": "2020-09-04T20:04:25.955523Z",
     "iopub.status.idle": "2020-09-04T20:04:25.979494Z",
     "shell.execute_reply": "2020-09-04T20:04:25.979993Z"
    },
    "papermill": {
     "duration": 0.057762,
     "end_time": "2020-09-04T20:04:25.980160",
     "exception": false,
     "start_time": "2020-09-04T20:04:25.922398",
     "status": "completed"
    },
    "tags": []
   },
   "outputs": [],
   "source": [
    "from kudzu.layer import Sigmoid\n",
    "from kudzu.layer import Relu\n",
    "from kudzu.layer import Affine, Sigmoid\n",
    "\n",
    "from kudzu.model import Model\n",
    "from kudzu.train import Learner\n",
    "from kudzu.optim import GD\n",
    "from kudzu.data import Data, Dataloader, Sampler\n",
    "\n",
    "from kudzu.callbacks import AccCallback\n",
    "from kudzu.callbacks import ClfCallback\n",
    "\n",
    "from kudzu.loss import MSE"
   ]
  },
  {
   "cell_type": "markdown",
   "metadata": {
    "papermill": {
     "duration": 0.029396,
     "end_time": "2020-09-04T20:04:26.042470",
     "exception": false,
     "start_time": "2020-09-04T20:04:26.013074",
     "status": "completed"
    },
    "tags": []
   },
   "source": [
    "### Let us create a `Config` class, to store important parameters. \n",
    "This class essentially plays the role of a dictionary."
   ]
  },
  {
   "cell_type": "code",
   "execution_count": 15,
   "metadata": {
    "execution": {
     "iopub.execute_input": "2020-09-04T20:04:26.109478Z",
     "iopub.status.busy": "2020-09-04T20:04:26.108830Z",
     "iopub.status.idle": "2020-09-04T20:04:26.117996Z",
     "shell.execute_reply": "2020-09-04T20:04:26.117490Z"
    },
    "papermill": {
     "duration": 0.046215,
     "end_time": "2020-09-04T20:04:26.118144",
     "exception": false,
     "start_time": "2020-09-04T20:04:26.071929",
     "status": "completed"
    },
    "tags": []
   },
   "outputs": [],
   "source": [
    "class Config:\n",
    "    pass\n",
    "config = Config()\n",
    "config.lr = 0.001\n",
    "config.num_epochs = 251\n",
    "config.bs = 50"
   ]
  },
  {
   "cell_type": "markdown",
   "metadata": {
    "papermill": {
     "duration": 0.028739,
     "end_time": "2020-09-04T20:04:26.175738",
     "exception": false,
     "start_time": "2020-09-04T20:04:26.146999",
     "status": "completed"
    },
    "tags": []
   },
   "source": [
    "### Initializing data to the variables"
   ]
  },
  {
   "cell_type": "code",
   "execution_count": 16,
   "metadata": {
    "execution": {
     "iopub.execute_input": "2020-09-04T20:04:26.238362Z",
     "iopub.status.busy": "2020-09-04T20:04:26.237548Z",
     "iopub.status.idle": "2020-09-04T20:04:26.252319Z",
     "shell.execute_reply": "2020-09-04T20:04:26.251646Z"
    },
    "papermill": {
     "duration": 0.048,
     "end_time": "2020-09-04T20:04:26.252556",
     "exception": false,
     "start_time": "2020-09-04T20:04:26.204556",
     "status": "completed"
    },
    "tags": []
   },
   "outputs": [],
   "source": [
    "data = Data(X_train, y_train.reshape(-1,1))\n",
    "sampler = Sampler(data, config.bs, shuffle=True)\n",
    "\n",
    "dl = Dataloader(data, sampler)\n",
    "\n",
    "opt = GD(config.lr)\n",
    "loss = MSE()"
   ]
  },
  {
   "cell_type": "code",
   "execution_count": 17,
   "metadata": {
    "execution": {
     "iopub.execute_input": "2020-09-04T20:04:26.329664Z",
     "iopub.status.busy": "2020-09-04T20:04:26.329040Z",
     "iopub.status.idle": "2020-09-04T20:04:26.344268Z",
     "shell.execute_reply": "2020-09-04T20:04:26.344765Z"
    },
    "papermill": {
     "duration": 0.052239,
     "end_time": "2020-09-04T20:04:26.344936",
     "exception": false,
     "start_time": "2020-09-04T20:04:26.292697",
     "status": "completed"
    },
    "tags": []
   },
   "outputs": [],
   "source": [
    "training_xdata = X_train\n",
    "testing_xdata = X_test\n",
    "training_ydata = y_train.reshape(-1,1)\n",
    "testing_ydata = y_test.reshape(-1,1)"
   ]
  },
  {
   "cell_type": "markdown",
   "metadata": {
    "papermill": {
     "duration": 0.029469,
     "end_time": "2020-09-04T20:04:26.403829",
     "exception": false,
     "start_time": "2020-09-04T20:04:26.374360",
     "status": "completed"
    },
    "tags": []
   },
   "source": [
    "### Running Models with the Training data\n",
    "Details about the network layers:\n",
    "- A first affine layer has 784 inputs and does 100 affine transforms. These are followed by a Relu\n",
    "- A second affine layer has 100 inputs from the 100 activations of the past layer, and does 100 affine transforms. These are followed by a Relu\n",
    "- A third affine layer has 100 activations and does 2 affine transformations to create an embedding for visualization. There is no non-linearity here.\n",
    "- A final \"logistic regression\" which has an affine transform from 2 inputs to 1 output, which is squeezed through a sigmoid.\n",
    "\n",
    "Help taken from Anshuman's Notebook."
   ]
  },
  {
   "cell_type": "code",
   "execution_count": 18,
   "metadata": {
    "execution": {
     "iopub.execute_input": "2020-09-04T20:04:26.472867Z",
     "iopub.status.busy": "2020-09-04T20:04:26.472176Z",
     "iopub.status.idle": "2020-09-04T20:04:26.493559Z",
     "shell.execute_reply": "2020-09-04T20:04:26.492990Z"
    },
    "papermill": {
     "duration": 0.06018,
     "end_time": "2020-09-04T20:04:26.493701",
     "exception": false,
     "start_time": "2020-09-04T20:04:26.433521",
     "status": "completed"
    },
    "tags": []
   },
   "outputs": [],
   "source": [
    "# layers for the Neural Network\n",
    "layers = [Affine(\"first\", 784, 100), Relu(\"first\"), Affine(\"second\", 100, 100), Relu(\"second\"), Affine(\"third\", 100, 2), Affine(\"final\", 2, 1), Sigmoid(\"final\")]\n",
    "model_nn = Model(layers)\n",
    "\n",
    "# layers for the Logistic Regression\n",
    "layers_lr = [Affine(\"logits\", 784, 1), Sigmoid(\"sigmoid\")]\n",
    "model_lr = Model(layers_lr)"
   ]
  },
  {
   "cell_type": "code",
   "execution_count": 19,
   "metadata": {
    "execution": {
     "iopub.execute_input": "2020-09-04T20:04:26.561572Z",
     "iopub.status.busy": "2020-09-04T20:04:26.560952Z",
     "iopub.status.idle": "2020-09-04T20:04:26.579699Z",
     "shell.execute_reply": "2020-09-04T20:04:26.579073Z"
    },
    "papermill": {
     "duration": 0.056668,
     "end_time": "2020-09-04T20:04:26.579840",
     "exception": false,
     "start_time": "2020-09-04T20:04:26.523172",
     "status": "completed"
    },
    "tags": []
   },
   "outputs": [],
   "source": [
    "# suffix _nn stands for Neural Network.\n",
    "learner_nn = Learner(loss, model_nn, opt, config.num_epochs)\n",
    "acc_nn = ClfCallback(learner_nn, config.bs, training_xdata , testing_xdata, training_ydata, testing_ydata)\n",
    "learner_nn.set_callbacks([acc_nn])"
   ]
  },
  {
   "cell_type": "code",
   "execution_count": 20,
   "metadata": {
    "execution": {
     "iopub.execute_input": "2020-09-04T20:04:26.643068Z",
     "iopub.status.busy": "2020-09-04T20:04:26.642458Z",
     "iopub.status.idle": "2020-09-04T20:06:04.745697Z",
     "shell.execute_reply": "2020-09-04T20:06:04.746512Z"
    },
    "papermill": {
     "duration": 98.137357,
     "end_time": "2020-09-04T20:06:04.746679",
     "exception": false,
     "start_time": "2020-09-04T20:04:26.609322",
     "status": "completed"
    },
    "tags": []
   },
   "outputs": [
    {
     "name": "stdout",
     "output_type": "stream",
     "text": [
      "====== Neural Network ======\n"
     ]
    },
    {
     "name": "stdout",
     "output_type": "stream",
     "text": [
      "Epoch 0, Loss 0.239\n",
      "Training Accuracy: 0.7283, Testing Accuracy: 0.7399\n",
      "\n"
     ]
    },
    {
     "name": "stdout",
     "output_type": "stream",
     "text": [
      "Epoch 10, Loss 0.1119\n",
      "Training Accuracy: 0.9150, Testing Accuracy: 0.9194\n",
      "\n"
     ]
    },
    {
     "name": "stdout",
     "output_type": "stream",
     "text": [
      "Epoch 20, Loss 0.0628\n",
      "Training Accuracy: 0.9387, Testing Accuracy: 0.9435\n",
      "\n"
     ]
    },
    {
     "name": "stdout",
     "output_type": "stream",
     "text": [
      "Epoch 30, Loss 0.0473\n",
      "Training Accuracy: 0.9512, Testing Accuracy: 0.9567\n",
      "\n"
     ]
    },
    {
     "name": "stdout",
     "output_type": "stream",
     "text": [
      "Epoch 40, Loss 0.04\n",
      "Training Accuracy: 0.9561, Testing Accuracy: 0.9607\n",
      "\n"
     ]
    },
    {
     "name": "stdout",
     "output_type": "stream",
     "text": [
      "Epoch 50, Loss 0.0359\n",
      "Training Accuracy: 0.9597, Testing Accuracy: 0.9642\n",
      "\n"
     ]
    },
    {
     "name": "stdout",
     "output_type": "stream",
     "text": [
      "Epoch 60, Loss 0.0332\n",
      "Training Accuracy: 0.9629, Testing Accuracy: 0.9652\n",
      "\n"
     ]
    },
    {
     "name": "stdout",
     "output_type": "stream",
     "text": [
      "Epoch 70, Loss 0.0312\n",
      "Training Accuracy: 0.9645, Testing Accuracy: 0.9657\n",
      "\n"
     ]
    },
    {
     "name": "stdout",
     "output_type": "stream",
     "text": [
      "Epoch 80, Loss 0.0297\n",
      "Training Accuracy: 0.9659, Testing Accuracy: 0.9677\n",
      "\n"
     ]
    },
    {
     "name": "stdout",
     "output_type": "stream",
     "text": [
      "Epoch 90, Loss 0.0285\n",
      "Training Accuracy: 0.9676, Testing Accuracy: 0.9703\n",
      "\n"
     ]
    },
    {
     "name": "stdout",
     "output_type": "stream",
     "text": [
      "Epoch 100, Loss 0.0275\n",
      "Training Accuracy: 0.9685, Testing Accuracy: 0.9708\n",
      "\n"
     ]
    },
    {
     "name": "stdout",
     "output_type": "stream",
     "text": [
      "Epoch 110, Loss 0.0266\n",
      "Training Accuracy: 0.9691, Testing Accuracy: 0.9713\n",
      "\n"
     ]
    },
    {
     "name": "stdout",
     "output_type": "stream",
     "text": [
      "Epoch 120, Loss 0.0259\n",
      "Training Accuracy: 0.9700, Testing Accuracy: 0.9708\n",
      "\n"
     ]
    },
    {
     "name": "stdout",
     "output_type": "stream",
     "text": [
      "Epoch 130, Loss 0.0252\n",
      "Training Accuracy: 0.9710, Testing Accuracy: 0.9703\n",
      "\n"
     ]
    },
    {
     "name": "stdout",
     "output_type": "stream",
     "text": [
      "Epoch 140, Loss 0.0245\n",
      "Training Accuracy: 0.9718, Testing Accuracy: 0.9713\n",
      "\n"
     ]
    },
    {
     "name": "stdout",
     "output_type": "stream",
     "text": [
      "Epoch 150, Loss 0.024\n",
      "Training Accuracy: 0.9724, Testing Accuracy: 0.9713\n",
      "\n"
     ]
    },
    {
     "name": "stdout",
     "output_type": "stream",
     "text": [
      "Epoch 160, Loss 0.0234\n",
      "Training Accuracy: 0.9730, Testing Accuracy: 0.9713\n",
      "\n"
     ]
    },
    {
     "name": "stdout",
     "output_type": "stream",
     "text": [
      "Epoch 170, Loss 0.0229\n",
      "Training Accuracy: 0.9738, Testing Accuracy: 0.9718\n",
      "\n"
     ]
    },
    {
     "name": "stdout",
     "output_type": "stream",
     "text": [
      "Epoch 180, Loss 0.0224\n",
      "Training Accuracy: 0.9744, Testing Accuracy: 0.9738\n",
      "\n"
     ]
    },
    {
     "name": "stdout",
     "output_type": "stream",
     "text": [
      "Epoch 190, Loss 0.022\n",
      "Training Accuracy: 0.9746, Testing Accuracy: 0.9738\n",
      "\n"
     ]
    },
    {
     "name": "stdout",
     "output_type": "stream",
     "text": [
      "Epoch 200, Loss 0.0215\n",
      "Training Accuracy: 0.9752, Testing Accuracy: 0.9738\n",
      "\n"
     ]
    },
    {
     "name": "stdout",
     "output_type": "stream",
     "text": [
      "Epoch 210, Loss 0.0211\n",
      "Training Accuracy: 0.9760, Testing Accuracy: 0.9743\n",
      "\n"
     ]
    },
    {
     "name": "stdout",
     "output_type": "stream",
     "text": [
      "Epoch 220, Loss 0.0207\n",
      "Training Accuracy: 0.9766, Testing Accuracy: 0.9743\n",
      "\n"
     ]
    },
    {
     "name": "stdout",
     "output_type": "stream",
     "text": [
      "Epoch 230, Loss 0.0204\n",
      "Training Accuracy: 0.9772, Testing Accuracy: 0.9743\n",
      "\n"
     ]
    },
    {
     "name": "stdout",
     "output_type": "stream",
     "text": [
      "Epoch 240, Loss 0.02\n",
      "Training Accuracy: 0.9779, Testing Accuracy: 0.9748\n",
      "\n"
     ]
    },
    {
     "name": "stdout",
     "output_type": "stream",
     "text": [
      "Epoch 250, Loss 0.0196\n",
      "Training Accuracy: 0.9783, Testing Accuracy: 0.9743\n",
      "\n"
     ]
    },
    {
     "data": {
      "text/plain": [
       "0.03401021508148252"
      ]
     },
     "execution_count": 20,
     "metadata": {},
     "output_type": "execute_result"
    }
   ],
   "source": [
    "print(\"====== Neural Network ======\")\n",
    "learner_nn.train_loop(dl)"
   ]
  },
  {
   "cell_type": "markdown",
   "metadata": {
    "papermill": {
     "duration": 0.036504,
     "end_time": "2020-09-04T20:06:04.820567",
     "exception": false,
     "start_time": "2020-09-04T20:06:04.784063",
     "status": "completed"
    },
    "tags": []
   },
   "source": [
    "### Logistic Regression based Implementation."
   ]
  },
  {
   "cell_type": "code",
   "execution_count": 21,
   "metadata": {
    "execution": {
     "iopub.execute_input": "2020-09-04T20:06:04.902275Z",
     "iopub.status.busy": "2020-09-04T20:06:04.901594Z",
     "iopub.status.idle": "2020-09-04T20:06:04.913048Z",
     "shell.execute_reply": "2020-09-04T20:06:04.912415Z"
    },
    "papermill": {
     "duration": 0.05565,
     "end_time": "2020-09-04T20:06:04.913195",
     "exception": false,
     "start_time": "2020-09-04T20:06:04.857545",
     "status": "completed"
    },
    "tags": []
   },
   "outputs": [],
   "source": [
    "learner_lr = Learner(loss, model_lr, opt, config.num_epochs)\n",
    "acc_lr = ClfCallback(learner_lr, config.bs, training_xdata , testing_xdata, training_ydata, testing_ydata)\n",
    "learner_lr.set_callbacks([acc_lr])"
   ]
  },
  {
   "cell_type": "code",
   "execution_count": 22,
   "metadata": {
    "execution": {
     "iopub.execute_input": "2020-09-04T20:06:04.993639Z",
     "iopub.status.busy": "2020-09-04T20:06:04.993002Z",
     "iopub.status.idle": "2020-09-04T20:06:22.811789Z",
     "shell.execute_reply": "2020-09-04T20:06:22.812598Z"
    },
    "papermill": {
     "duration": 17.86285,
     "end_time": "2020-09-04T20:06:22.812785",
     "exception": false,
     "start_time": "2020-09-04T20:06:04.949935",
     "status": "completed"
    },
    "tags": []
   },
   "outputs": [
    {
     "name": "stdout",
     "output_type": "stream",
     "text": [
      "====== Logistic Regression ======\n",
      "Epoch 0, Loss 0.2289\n",
      "Training Accuracy: 0.7258, Testing Accuracy: 0.7530\n",
      "\n"
     ]
    },
    {
     "name": "stdout",
     "output_type": "stream",
     "text": [
      "Epoch 10, Loss 0.1041\n",
      "Training Accuracy: 0.9065, Testing Accuracy: 0.9158\n",
      "\n"
     ]
    },
    {
     "name": "stdout",
     "output_type": "stream",
     "text": [
      "Epoch 20, Loss 0.08\n",
      "Training Accuracy: 0.9266, Testing Accuracy: 0.9315\n",
      "\n"
     ]
    },
    {
     "name": "stdout",
     "output_type": "stream",
     "text": [
      "Epoch 30, Loss 0.0687\n",
      "Training Accuracy: 0.9364, Testing Accuracy: 0.9420\n",
      "\n"
     ]
    },
    {
     "name": "stdout",
     "output_type": "stream",
     "text": [
      "Epoch 40, Loss 0.0619\n",
      "Training Accuracy: 0.9414, Testing Accuracy: 0.9486\n",
      "\n"
     ]
    },
    {
     "name": "stdout",
     "output_type": "stream",
     "text": [
      "Epoch 50, Loss 0.0573\n",
      "Training Accuracy: 0.9443, Testing Accuracy: 0.9531\n",
      "\n"
     ]
    },
    {
     "name": "stdout",
     "output_type": "stream",
     "text": [
      "Epoch 60, Loss 0.054\n",
      "Training Accuracy: 0.9466, Testing Accuracy: 0.9561\n",
      "\n"
     ]
    },
    {
     "name": "stdout",
     "output_type": "stream",
     "text": [
      "Epoch 70, Loss 0.0514\n",
      "Training Accuracy: 0.9485, Testing Accuracy: 0.9561\n",
      "\n"
     ]
    },
    {
     "name": "stdout",
     "output_type": "stream",
     "text": [
      "Epoch 80, Loss 0.0493\n",
      "Training Accuracy: 0.9503, Testing Accuracy: 0.9572\n",
      "\n"
     ]
    },
    {
     "name": "stdout",
     "output_type": "stream",
     "text": [
      "Epoch 90, Loss 0.0476\n",
      "Training Accuracy: 0.9518, Testing Accuracy: 0.9607\n",
      "\n"
     ]
    },
    {
     "name": "stdout",
     "output_type": "stream",
     "text": [
      "Epoch 100, Loss 0.0461\n",
      "Training Accuracy: 0.9531, Testing Accuracy: 0.9612\n",
      "\n"
     ]
    },
    {
     "name": "stdout",
     "output_type": "stream",
     "text": [
      "Epoch 110, Loss 0.0449\n",
      "Training Accuracy: 0.9545, Testing Accuracy: 0.9637\n",
      "\n"
     ]
    },
    {
     "name": "stdout",
     "output_type": "stream",
     "text": [
      "Epoch 120, Loss 0.0438\n",
      "Training Accuracy: 0.9557, Testing Accuracy: 0.9642\n",
      "\n"
     ]
    },
    {
     "name": "stdout",
     "output_type": "stream",
     "text": [
      "Epoch 130, Loss 0.0429\n",
      "Training Accuracy: 0.9564, Testing Accuracy: 0.9647\n",
      "\n"
     ]
    },
    {
     "name": "stdout",
     "output_type": "stream",
     "text": [
      "Epoch 140, Loss 0.042\n",
      "Training Accuracy: 0.9571, Testing Accuracy: 0.9647\n",
      "\n"
     ]
    },
    {
     "name": "stdout",
     "output_type": "stream",
     "text": [
      "Epoch 150, Loss 0.0413\n",
      "Training Accuracy: 0.9574, Testing Accuracy: 0.9647\n",
      "\n"
     ]
    },
    {
     "name": "stdout",
     "output_type": "stream",
     "text": [
      "Epoch 160, Loss 0.0406\n",
      "Training Accuracy: 0.9578, Testing Accuracy: 0.9647\n",
      "\n"
     ]
    },
    {
     "name": "stdout",
     "output_type": "stream",
     "text": [
      "Epoch 170, Loss 0.04\n",
      "Training Accuracy: 0.9583, Testing Accuracy: 0.9652\n",
      "\n"
     ]
    },
    {
     "name": "stdout",
     "output_type": "stream",
     "text": [
      "Epoch 180, Loss 0.0394\n",
      "Training Accuracy: 0.9589, Testing Accuracy: 0.9657\n",
      "\n"
     ]
    },
    {
     "name": "stdout",
     "output_type": "stream",
     "text": [
      "Epoch 190, Loss 0.0389\n",
      "Training Accuracy: 0.9597, Testing Accuracy: 0.9657\n",
      "\n"
     ]
    },
    {
     "name": "stdout",
     "output_type": "stream",
     "text": [
      "Epoch 200, Loss 0.0384\n",
      "Training Accuracy: 0.9602, Testing Accuracy: 0.9662\n",
      "\n"
     ]
    },
    {
     "name": "stdout",
     "output_type": "stream",
     "text": [
      "Epoch 210, Loss 0.038\n",
      "Training Accuracy: 0.9604, Testing Accuracy: 0.9662\n",
      "\n"
     ]
    },
    {
     "name": "stdout",
     "output_type": "stream",
     "text": [
      "Epoch 220, Loss 0.0376\n",
      "Training Accuracy: 0.9606, Testing Accuracy: 0.9662\n",
      "\n"
     ]
    },
    {
     "name": "stdout",
     "output_type": "stream",
     "text": [
      "Epoch 230, Loss 0.0372\n",
      "Training Accuracy: 0.9610, Testing Accuracy: 0.9667\n",
      "\n"
     ]
    },
    {
     "name": "stdout",
     "output_type": "stream",
     "text": [
      "Epoch 240, Loss 0.0368\n",
      "Training Accuracy: 0.9615, Testing Accuracy: 0.9672\n",
      "\n"
     ]
    },
    {
     "name": "stdout",
     "output_type": "stream",
     "text": [
      "Epoch 250, Loss 0.0365\n",
      "Training Accuracy: 0.9616, Testing Accuracy: 0.9672\n",
      "\n"
     ]
    },
    {
     "data": {
      "text/plain": [
       "0.021729091720374277"
      ]
     },
     "execution_count": 22,
     "metadata": {},
     "output_type": "execute_result"
    }
   ],
   "source": [
    "print(\"====== Logistic Regression ======\")\n",
    "learner_lr.train_loop(dl)"
   ]
  },
  {
   "cell_type": "markdown",
   "metadata": {
    "papermill": {
     "duration": 0.044031,
     "end_time": "2020-09-04T20:06:22.901658",
     "exception": false,
     "start_time": "2020-09-04T20:06:22.857627",
     "status": "completed"
    },
    "tags": []
   },
   "source": [
    "### Comparing results of NN and LR"
   ]
  },
  {
   "cell_type": "code",
   "execution_count": 23,
   "metadata": {
    "execution": {
     "iopub.execute_input": "2020-09-04T20:06:22.996380Z",
     "iopub.status.busy": "2020-09-04T20:06:22.995750Z",
     "iopub.status.idle": "2020-09-04T20:06:23.242675Z",
     "shell.execute_reply": "2020-09-04T20:06:23.242177Z"
    },
    "papermill": {
     "duration": 0.296939,
     "end_time": "2020-09-04T20:06:23.242814",
     "exception": false,
     "start_time": "2020-09-04T20:06:22.945875",
     "status": "completed"
    },
    "tags": []
   },
   "outputs": [
    {
     "data": {
      "text/plain": [
       "<matplotlib.legend.Legend at 0x7facb89c2320>"
      ]
     },
     "execution_count": 23,
     "metadata": {},
     "output_type": "execute_result"
    },
    {
     "data": {
      "image/png": "[encoded data removed]",
      "text/plain": [
       "<Figure size 1080x720 with 1 Axes>"
      ]
     },
     "metadata": {
      "needs_background": "light"
     },
     "output_type": "display_data"
    }
   ],
   "source": [
    "plt.figure(figsize=(15,10))\n",
    "\n",
    "# Neural Network plots\n",
    "plt.plot(acc_nn.accuracies, 'r-', label = \"Training Accuracies - NN\")\n",
    "plt.plot(acc_nn.test_accuracies, 'g-', label = \"Testing Accuracies - NN\")\n",
    "\n",
    "# Logistic Regression plots\n",
    "plt.plot(acc_lr.accuracies, 'k-', label = \"Training Accuracies - LR\")\n",
    "plt.plot(acc_lr.test_accuracies, 'b-', label = \"Testing Accuracies - LR\")\n",
    "\n",
    "plt.ylim(0.8, 1)\n",
    "\n",
    "plt.legend()\n",
    "\n"
   ]
  },
  {
   "cell_type": "markdown",
   "metadata": {
    "papermill": {
     "duration": 0.046236,
     "end_time": "2020-09-04T20:06:23.335198",
     "exception": false,
     "start_time": "2020-09-04T20:06:23.288962",
     "status": "completed"
    },
    "tags": []
   },
   "source": [
    "### From the plot, we can observe the following:\n",
    "- Neural Network achieves higher accuracy than the Logistic Regression model.\n",
    "- This apparently, is because of overfitting, i.e. NN captures more noise than data.\n",
    "- Testing accuracy of NN drops below the Training accuracy at higher epochs. This explains the over-fitting on training data.\n",
    "- Logistic Regression gives a reliable accuracy, without the above mentioned problem.\n"
   ]
  },
  {
   "cell_type": "markdown",
   "metadata": {
    "papermill": {
     "duration": 0.046234,
     "end_time": "2020-09-04T20:06:23.427433",
     "exception": false,
     "start_time": "2020-09-04T20:06:23.381199",
     "status": "completed"
    },
    "tags": []
   },
   "source": [
    "### Moving till the last but one layer (excluding it).\n",
    "#### Plotting the outputs of this layer of the NN."
   ]
  },
  {
   "cell_type": "code",
   "execution_count": 24,
   "metadata": {
    "execution": {
     "iopub.execute_input": "2020-09-04T20:06:23.536178Z",
     "iopub.status.busy": "2020-09-04T20:06:23.525143Z",
     "iopub.status.idle": "2020-09-04T20:06:23.538232Z",
     "shell.execute_reply": "2020-09-04T20:06:23.538805Z"
    },
    "papermill": {
     "duration": 0.065432,
     "end_time": "2020-09-04T20:06:23.538963",
     "exception": false,
     "start_time": "2020-09-04T20:06:23.473531",
     "status": "completed"
    },
    "tags": []
   },
   "outputs": [],
   "source": [
    "model_new = Model(layers[:-2])"
   ]
  },
  {
   "cell_type": "code",
   "execution_count": 25,
   "metadata": {
    "execution": {
     "iopub.execute_input": "2020-09-04T20:06:23.649366Z",
     "iopub.status.busy": "2020-09-04T20:06:23.638508Z",
     "iopub.status.idle": "2020-09-04T20:06:23.667727Z",
     "shell.execute_reply": "2020-09-04T20:06:23.668226Z"
    },
    "papermill": {
     "duration": 0.082484,
     "end_time": "2020-09-04T20:06:23.668389",
     "exception": false,
     "start_time": "2020-09-04T20:06:23.585905",
     "status": "completed"
    },
    "tags": []
   },
   "outputs": [],
   "source": [
    "plot_testing = model_new(testing_xdata)"
   ]
  },
  {
   "cell_type": "code",
   "execution_count": 26,
   "metadata": {
    "execution": {
     "iopub.execute_input": "2020-09-04T20:06:23.774353Z",
     "iopub.status.busy": "2020-09-04T20:06:23.773614Z",
     "iopub.status.idle": "2020-09-04T20:06:23.994114Z",
     "shell.execute_reply": "2020-09-04T20:06:23.994670Z"
    },
    "papermill": {
     "duration": 0.279458,
     "end_time": "2020-09-04T20:06:23.994841",
     "exception": false,
     "start_time": "2020-09-04T20:06:23.715383",
     "status": "completed"
    },
    "tags": []
   },
   "outputs": [
    {
     "data": {
      "text/plain": [
       "Text(0.5, 1.0, 'Outputs')"
      ]
     },
     "execution_count": 26,
     "metadata": {},
     "output_type": "execute_result"
    },
    {
     "data": {
      "image/png": "[encoded data removed]",
      "text/plain": [
       "<Figure size 576x504 with 1 Axes>"
      ]
     },
     "metadata": {
      "needs_background": "light"
     },
     "output_type": "display_data"
    }
   ],
   "source": [
    "plt.figure(figsize=(8,7))\n",
    "plt.scatter(plot_testing[:,0], plot_testing[:,1], alpha = 0.1, c = y_test.ravel());\n",
    "plt.title('Outputs')"
   ]
  },
  {
   "cell_type": "markdown",
   "metadata": {
    "papermill": {
     "duration": 0.051066,
     "end_time": "2020-09-04T20:06:24.098338",
     "exception": false,
     "start_time": "2020-09-04T20:06:24.047272",
     "status": "completed"
    },
    "tags": []
   },
   "source": [
    "### Plotting probability contours"
   ]
  },
  {
   "cell_type": "code",
   "execution_count": 27,
   "metadata": {
    "execution": {
     "iopub.execute_input": "2020-09-04T20:06:24.235036Z",
     "iopub.status.busy": "2020-09-04T20:06:24.234242Z",
     "iopub.status.idle": "2020-09-04T20:06:24.250687Z",
     "shell.execute_reply": "2020-09-04T20:06:24.250068Z"
    },
    "papermill": {
     "duration": 0.098945,
     "end_time": "2020-09-04T20:06:24.250961",
     "exception": false,
     "start_time": "2020-09-04T20:06:24.152016",
     "status": "completed"
    },
    "tags": []
   },
   "outputs": [],
   "source": [
    "model_prob = Model(layers[-2:]) "
   ]
  },
  {
   "cell_type": "code",
   "execution_count": 28,
   "metadata": {
    "execution": {
     "iopub.execute_input": "2020-09-04T20:06:24.357167Z",
     "iopub.status.busy": "2020-09-04T20:06:24.356527Z",
     "iopub.status.idle": "2020-09-04T20:06:24.371086Z",
     "shell.execute_reply": "2020-09-04T20:06:24.371555Z"
    },
    "papermill": {
     "duration": 0.07007,
     "end_time": "2020-09-04T20:06:24.371725",
     "exception": false,
     "start_time": "2020-09-04T20:06:24.301655",
     "status": "completed"
    },
    "tags": []
   },
   "outputs": [],
   "source": [
    "# Adjust the x and y ranges according to the above generated plot.\n",
    "x_range = np.linspace(-4, 1, 100) \n",
    "y_range = np.linspace(-6, 6, 100) \n",
    "x_grid, y_grid = np.meshgrid(x_range, y_range) # x_grid and y_grig are of size 100 X 100\n",
    "\n",
    "# converting x_grid and y_grid to continuous arrays\n",
    "x_grid_flat = np.ravel(x_grid)\n",
    "y_grid_flat = np.ravel(y_grid)\n",
    "\n",
    "# The last layer of the current model takes two columns as input. Hence transpose of np.vstack() is required.\n",
    "X = np.vstack((x_grid_flat, y_grid_flat)).T\n",
    "\n",
    "# x_grid and y_grid are of size 100 x 100\n",
    "probability_contour = model_prob(X).reshape(100,100) "
   ]
  },
  {
   "cell_type": "code",
   "execution_count": 29,
   "metadata": {
    "execution": {
     "iopub.execute_input": "2020-09-04T20:06:24.482379Z",
     "iopub.status.busy": "2020-09-04T20:06:24.481785Z",
     "iopub.status.idle": "2020-09-04T20:06:24.751239Z",
     "shell.execute_reply": "2020-09-04T20:06:24.751944Z"
    },
    "papermill": {
     "duration": 0.330026,
     "end_time": "2020-09-04T20:06:24.752181",
     "exception": false,
     "start_time": "2020-09-04T20:06:24.422155",
     "status": "completed"
    },
    "tags": []
   },
   "outputs": [
    {
     "data": {
      "image/png": "[encoded data removed]",
      "text/plain": [
       "<Figure size 720x648 with 1 Axes>"
      ]
     },
     "metadata": {
      "needs_background": "light"
     },
     "output_type": "display_data"
    }
   ],
   "source": [
    "plt.figure(figsize=(10,9))\n",
    "plt.scatter(plot_testing[:,0], plot_testing[:,1], alpha = 0.1, c = y_test.ravel())\n",
    "contours = plt.contour(x_grid,y_grid,probability_contour)\n",
    "plt.title('Probability Contours')\n",
    "plt.clabel(contours, inline = True );"
   ]
  }
 ],
 "metadata": {
  "kernelspec": {
   "display_name": "Python 3",
   "language": "python",
   "name": "python3"
  },
  "language_info": {
   "codemirror_mode": {
    "name": "ipython",
    "version": 3
   },
   "file_extension": ".py",
   "mimetype": "text/x-python",
   "name": "python",
   "nbconvert_exporter": "python",
   "pygments_lexer": "ipython3",
   "version": "3.6.12"
  },
  "papermill": {
   "duration": 127.058729,
   "end_time": "2020-09-04T20:06:25.223706",
   "environment_variables": {},
   "exception": null,
   "input_path": "2020-08-11-NeuralNetwork.ipynb",
   "output_path": "2020-08-11-NeuralNetwork.ipynb",
   "parameters": {},
   "start_time": "2020-09-04T20:04:18.164977",
   "version": "2.1.2"
  }
 },
 "nbformat": 4,
 "nbformat_minor": 4
}