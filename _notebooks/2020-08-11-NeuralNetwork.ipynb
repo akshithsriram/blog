{
 "cells": [
  {
   "cell_type": "markdown",
   "id": "fitted-suggestion",
   "metadata": {
    "papermill": {
     "duration": 0.045667,
     "end_time": "2021-07-02T10:05:11.411577",
     "exception": false,
     "start_time": "2021-07-02T10:05:11.365910",
     "status": "completed"
    },
    "tags": []
   },
   "source": [
    "# \"A Basic Neural Network: Differentiate Hand-Written Digits\"\n",
    "\n",
    "- badges: true\n",
    "- author: Akshith Sriram"
   ]
  },
  {
   "cell_type": "markdown",
   "id": "signal-flexibility",
   "metadata": {
    "papermill": {
     "duration": 0.038924,
     "end_time": "2021-07-02T10:05:11.490153",
     "exception": false,
     "start_time": "2021-07-02T10:05:11.451229",
     "status": "completed"
    },
    "tags": []
   },
   "source": [
    "### Key Objectives:\n",
    "- Building a neural network that differentiates two hand-written digits 3 and 8.\n",
    "- Comparing the results of this Neural Network (NN) to that of a Logistic Regression (LR) model.\n",
    "\n",
    "### Requirements:\n",
    "- 'Kudzu' : A neural network library that was designed during our course by [Univ.AI](www.univ.ai). \n",
    "- MNIST Database\n",
    "\n",
    "If MNIST is not installed, use the command `!pip install mnist` given below.\n",
    "It can be run both from the command line and Jupyter Notebook."
   ]
  },
  {
   "cell_type": "code",
   "execution_count": 1,
   "id": "british-texture",
   "metadata": {
    "execution": {
     "iopub.execute_input": "2021-07-02T10:05:11.606324Z",
     "iopub.status.busy": "2021-07-02T10:05:11.605613Z",
     "iopub.status.idle": "2021-07-02T10:05:13.444862Z",
     "shell.execute_reply": "2021-07-02T10:05:13.443390Z"
    },
    "papermill": {
     "duration": 1.914241,
     "end_time": "2021-07-02T10:05:13.445038",
     "exception": false,
     "start_time": "2021-07-02T10:05:11.530797",
     "status": "completed"
    },
    "tags": []
   },
   "outputs": [
    {
     "name": "stdout",
     "output_type": "stream",
     "text": [
      "Collecting mnist\r\n"
     ]
    },
    {
     "name": "stdout",
     "output_type": "stream",
     "text": [
      "  Downloading mnist-0.2.2-py2.py3-none-any.whl (3.5 kB)\r\n",
      "Requirement already satisfied: numpy in /opt/hostedtoolcache/Python/3.6.13/x64/lib/python3.6/site-packages (from mnist) (1.19.5)\r\n"
     ]
    },
    {
     "name": "stdout",
     "output_type": "stream",
     "text": [
      "Installing collected packages: mnist\r\n",
      "Successfully installed mnist-0.2.2\r\n"
     ]
    }
   ],
   "source": [
    "!pip install mnist "
   ]
  },
  {
   "cell_type": "markdown",
   "id": "stunning-extra",
   "metadata": {
    "papermill": {
     "duration": 0.034418,
     "end_time": "2021-07-02T10:05:13.514696",
     "exception": false,
     "start_time": "2021-07-02T10:05:13.480278",
     "status": "completed"
    },
    "tags": []
   },
   "source": [
    "#### Importing necessary libraries"
   ]
  },
  {
   "cell_type": "code",
   "execution_count": 2,
   "id": "wooden-france",
   "metadata": {
    "execution": {
     "iopub.execute_input": "2021-07-02T10:05:13.591170Z",
     "iopub.status.busy": "2021-07-02T10:05:13.590498Z",
     "iopub.status.idle": "2021-07-02T10:05:14.277054Z",
     "shell.execute_reply": "2021-07-02T10:05:14.277594Z"
    },
    "papermill": {
     "duration": 0.729064,
     "end_time": "2021-07-02T10:05:14.277775",
     "exception": false,
     "start_time": "2021-07-02T10:05:13.548711",
     "status": "completed"
    },
    "tags": []
   },
   "outputs": [],
   "source": [
    "%load_ext autoreload\n",
    "%autoreload 2\n",
    "\n",
    "%matplotlib inline\n",
    "import matplotlib.pyplot as plt\n",
    "\n",
    "import numpy as np\n",
    "import pandas as pd"
   ]
  },
  {
   "cell_type": "markdown",
   "id": "stunning-physics",
   "metadata": {
    "papermill": {
     "duration": 0.036136,
     "end_time": "2021-07-02T10:05:14.357735",
     "exception": false,
     "start_time": "2021-07-02T10:05:14.321599",
     "status": "completed"
    },
    "tags": []
   },
   "source": [
    "### Preparing the Data"
   ]
  },
  {
   "cell_type": "code",
   "execution_count": 3,
   "id": "unauthorized-remainder",
   "metadata": {
    "execution": {
     "iopub.execute_input": "2021-07-02T10:05:14.436399Z",
     "iopub.status.busy": "2021-07-02T10:05:14.435711Z",
     "iopub.status.idle": "2021-07-02T10:05:14.449212Z",
     "shell.execute_reply": "2021-07-02T10:05:14.448644Z"
    },
    "papermill": {
     "duration": 0.054704,
     "end_time": "2021-07-02T10:05:14.449363",
     "exception": false,
     "start_time": "2021-07-02T10:05:14.394659",
     "status": "completed"
    },
    "tags": []
   },
   "outputs": [],
   "source": [
    "import mnist"
   ]
  },
  {
   "cell_type": "code",
   "execution_count": 4,
   "id": "correct-antarctica",
   "metadata": {
    "execution": {
     "iopub.execute_input": "2021-07-02T10:05:14.533563Z",
     "iopub.status.busy": "2021-07-02T10:05:14.532577Z",
     "iopub.status.idle": "2021-07-02T10:10:05.775326Z",
     "shell.execute_reply": "2021-07-02T10:10:05.774748Z"
    },
    "papermill": {
     "duration": 291.290549,
     "end_time": "2021-07-02T10:10:05.775480",
     "exception": false,
     "start_time": "2021-07-02T10:05:14.484931",
     "status": "completed"
    },
    "tags": []
   },
   "outputs": [],
   "source": [
    "train_images = mnist.train_images()\n",
    "train_labels = mnist.train_labels()"
   ]
  },
  {
   "cell_type": "code",
   "execution_count": 5,
   "id": "musical-prospect",
   "metadata": {
    "execution": {
     "iopub.execute_input": "2021-07-02T10:10:05.850653Z",
     "iopub.status.busy": "2021-07-02T10:10:05.849985Z",
     "iopub.status.idle": "2021-07-02T10:10:05.868415Z",
     "shell.execute_reply": "2021-07-02T10:10:05.868948Z"
    },
    "papermill": {
     "duration": 0.058303,
     "end_time": "2021-07-02T10:10:05.869118",
     "exception": false,
     "start_time": "2021-07-02T10:10:05.810815",
     "status": "completed"
    },
    "tags": []
   },
   "outputs": [
    {
     "data": {
      "text/plain": [
       "((60000, 28, 28), (60000,))"
      ]
     },
     "execution_count": 5,
     "metadata": {},
     "output_type": "execute_result"
    }
   ],
   "source": [
    "train_images.shape, train_labels.shape"
   ]
  },
  {
   "cell_type": "code",
   "execution_count": 6,
   "id": "preliminary-elizabeth",
   "metadata": {
    "execution": {
     "iopub.execute_input": "2021-07-02T10:10:05.944395Z",
     "iopub.status.busy": "2021-07-02T10:10:05.943616Z",
     "iopub.status.idle": "2021-07-02T10:10:55.040576Z",
     "shell.execute_reply": "2021-07-02T10:10:55.039405Z"
    },
    "papermill": {
     "duration": 49.135273,
     "end_time": "2021-07-02T10:10:55.040731",
     "exception": false,
     "start_time": "2021-07-02T10:10:05.905458",
     "status": "completed"
    },
    "tags": []
   },
   "outputs": [],
   "source": [
    "test_images = mnist.test_images()\n",
    "test_labels = mnist.test_labels()"
   ]
  },
  {
   "cell_type": "code",
   "execution_count": 7,
   "id": "acknowledged-oxygen",
   "metadata": {
    "execution": {
     "iopub.execute_input": "2021-07-02T10:10:55.121115Z",
     "iopub.status.busy": "2021-07-02T10:10:55.120319Z",
     "iopub.status.idle": "2021-07-02T10:10:55.132422Z",
     "shell.execute_reply": "2021-07-02T10:10:55.131813Z"
    },
    "papermill": {
     "duration": 0.055704,
     "end_time": "2021-07-02T10:10:55.132572",
     "exception": false,
     "start_time": "2021-07-02T10:10:55.076868",
     "status": "completed"
    },
    "tags": []
   },
   "outputs": [
    {
     "data": {
      "text/plain": [
       "((10000, 28, 28), (10000,))"
      ]
     },
     "execution_count": 7,
     "metadata": {},
     "output_type": "execute_result"
    }
   ],
   "source": [
    "test_images.shape, test_labels.shape"
   ]
  },
  {
   "cell_type": "code",
   "execution_count": 8,
   "id": "innovative-organic",
   "metadata": {
    "execution": {
     "iopub.execute_input": "2021-07-02T10:10:55.208028Z",
     "iopub.status.busy": "2021-07-02T10:10:55.207316Z",
     "iopub.status.idle": "2021-07-02T10:10:55.398163Z",
     "shell.execute_reply": "2021-07-02T10:10:55.397591Z"
    },
    "papermill": {
     "duration": 0.230382,
     "end_time": "2021-07-02T10:10:55.398326",
     "exception": false,
     "start_time": "2021-07-02T10:10:55.167944",
     "status": "completed"
    },
    "tags": []
   },
   "outputs": [
    {
     "name": "stdout",
     "output_type": "stream",
     "text": [
      "2\n"
     ]
    },
    {
     "data": {
      "text/plain": [
       "<matplotlib.image.AxesImage at 0x7f29d9217518>"
      ]
     },
     "execution_count": 8,
     "metadata": {},
     "output_type": "execute_result"
    },
    {
     "data": {
      "image/png": "[encoded data removed]",
      "text/plain": [
       "<Figure size 432x288 with 1 Axes>"
      ]
     },
     "metadata": {
      "needs_background": "light"
     },
     "output_type": "display_data"
    }
   ],
   "source": [
    "image_index = 7776 # You may select anything up to 60,000\n",
    "print(train_labels[image_index]) \n",
    "plt.imshow(train_images[image_index], cmap='Greys')"
   ]
  },
  {
   "cell_type": "markdown",
   "id": "facial-modem",
   "metadata": {
    "papermill": {
     "duration": 0.037622,
     "end_time": "2021-07-02T10:10:55.478601",
     "exception": false,
     "start_time": "2021-07-02T10:10:55.440979",
     "status": "completed"
    },
    "tags": []
   },
   "source": [
    "## Filter data to get 3 and 8 out"
   ]
  },
  {
   "cell_type": "code",
   "execution_count": 9,
   "id": "thousand-acquisition",
   "metadata": {
    "execution": {
     "iopub.execute_input": "2021-07-02T10:10:55.565184Z",
     "iopub.status.busy": "2021-07-02T10:10:55.564494Z",
     "iopub.status.idle": "2021-07-02T10:10:55.585960Z",
     "shell.execute_reply": "2021-07-02T10:10:55.585343Z"
    },
    "papermill": {
     "duration": 0.065765,
     "end_time": "2021-07-02T10:10:55.586111",
     "exception": false,
     "start_time": "2021-07-02T10:10:55.520346",
     "status": "completed"
    },
    "tags": []
   },
   "outputs": [],
   "source": [
    "train_filter = np.where((train_labels == 3 ) | (train_labels == 8))\n",
    "test_filter = np.where((test_labels == 3) | (test_labels == 8))\n",
    "X_train, y_train = train_images[train_filter], train_labels[train_filter]\n",
    "X_test, y_test = test_images[test_filter], test_labels[test_filter]"
   ]
  },
  {
   "cell_type": "markdown",
   "id": "ruled-access",
   "metadata": {
    "papermill": {
     "duration": 0.038393,
     "end_time": "2021-07-02T10:10:55.662388",
     "exception": false,
     "start_time": "2021-07-02T10:10:55.623995",
     "status": "completed"
    },
    "tags": []
   },
   "source": [
    "We normalize the pixel values in the 0 to 1 range"
   ]
  },
  {
   "cell_type": "code",
   "execution_count": 10,
   "id": "isolated-denver",
   "metadata": {
    "execution": {
     "iopub.execute_input": "2021-07-02T10:10:55.746581Z",
     "iopub.status.busy": "2021-07-02T10:10:55.745899Z",
     "iopub.status.idle": "2021-07-02T10:10:55.811103Z",
     "shell.execute_reply": "2021-07-02T10:10:55.810502Z"
    },
    "papermill": {
     "duration": 0.107718,
     "end_time": "2021-07-02T10:10:55.811262",
     "exception": false,
     "start_time": "2021-07-02T10:10:55.703544",
     "status": "completed"
    },
    "tags": []
   },
   "outputs": [],
   "source": [
    "X_train = X_train/255.\n",
    "X_test = X_test/255."
   ]
  },
  {
   "cell_type": "markdown",
   "id": "perfect-summary",
   "metadata": {
    "papermill": {
     "duration": 0.037356,
     "end_time": "2021-07-02T10:10:55.887223",
     "exception": false,
     "start_time": "2021-07-02T10:10:55.849867",
     "status": "completed"
    },
    "tags": []
   },
   "source": [
    "Setup the labels as 1 (when the digit is 3) and 0 (when the digit is 8)"
   ]
  },
  {
   "cell_type": "code",
   "execution_count": 11,
   "id": "personalized-growing",
   "metadata": {
    "execution": {
     "iopub.execute_input": "2021-07-02T10:10:55.967972Z",
     "iopub.status.busy": "2021-07-02T10:10:55.967242Z",
     "iopub.status.idle": "2021-07-02T10:10:55.980114Z",
     "shell.execute_reply": "2021-07-02T10:10:55.980652Z"
    },
    "papermill": {
     "duration": 0.05657,
     "end_time": "2021-07-02T10:10:55.980827",
     "exception": false,
     "start_time": "2021-07-02T10:10:55.924257",
     "status": "completed"
    },
    "tags": []
   },
   "outputs": [],
   "source": [
    "y_train = 1*(y_train==3)\n",
    "y_test = 1*(y_test==3)"
   ]
  },
  {
   "cell_type": "code",
   "execution_count": 12,
   "id": "considered-virgin",
   "metadata": {
    "execution": {
     "iopub.execute_input": "2021-07-02T10:10:56.069321Z",
     "iopub.status.busy": "2021-07-02T10:10:56.068622Z",
     "iopub.status.idle": "2021-07-02T10:10:56.086782Z",
     "shell.execute_reply": "2021-07-02T10:10:56.086195Z"
    },
    "papermill": {
     "duration": 0.068261,
     "end_time": "2021-07-02T10:10:56.086931",
     "exception": false,
     "start_time": "2021-07-02T10:10:56.018670",
     "status": "completed"
    },
    "tags": []
   },
   "outputs": [
    {
     "data": {
      "text/plain": [
       "((11982, 28, 28), (1984, 28, 28))"
      ]
     },
     "execution_count": 12,
     "metadata": {},
     "output_type": "execute_result"
    }
   ],
   "source": [
    "X_train.shape, X_test.shape"
   ]
  },
  {
   "cell_type": "markdown",
   "id": "civilian-mobile",
   "metadata": {
    "papermill": {
     "duration": 0.037553,
     "end_time": "2021-07-02T10:10:56.162050",
     "exception": false,
     "start_time": "2021-07-02T10:10:56.124497",
     "status": "completed"
    },
    "tags": []
   },
   "source": [
    "### Reshape the input data to create a linear array"
   ]
  },
  {
   "cell_type": "code",
   "execution_count": 13,
   "id": "colonial-adams",
   "metadata": {
    "execution": {
     "iopub.execute_input": "2021-07-02T10:10:56.246606Z",
     "iopub.status.busy": "2021-07-02T10:10:56.245891Z",
     "iopub.status.idle": "2021-07-02T10:10:56.258986Z",
     "shell.execute_reply": "2021-07-02T10:10:56.259606Z"
    },
    "papermill": {
     "duration": 0.060799,
     "end_time": "2021-07-02T10:10:56.259778",
     "exception": false,
     "start_time": "2021-07-02T10:10:56.198979",
     "status": "completed"
    },
    "tags": []
   },
   "outputs": [
    {
     "data": {
      "text/plain": [
       "((11982, 784), (1984, 784))"
      ]
     },
     "execution_count": 13,
     "metadata": {},
     "output_type": "execute_result"
    }
   ],
   "source": [
    "X_train = X_train.reshape(X_train.shape[0], -1)\n",
    "X_test = X_test.reshape(X_test.shape[0], -1)\n",
    "X_train.shape, X_test.shape"
   ]
  },
  {
   "cell_type": "markdown",
   "id": "smart-details",
   "metadata": {
    "papermill": {
     "duration": 0.042577,
     "end_time": "2021-07-02T10:10:56.339577",
     "exception": false,
     "start_time": "2021-07-02T10:10:56.297000",
     "status": "completed"
    },
    "tags": []
   },
   "source": [
    "### Importing appropriate functions from 'Kudzu'"
   ]
  },
  {
   "cell_type": "code",
   "execution_count": 14,
   "id": "celtic-trial",
   "metadata": {
    "execution": {
     "iopub.execute_input": "2021-07-02T10:10:56.422624Z",
     "iopub.status.busy": "2021-07-02T10:10:56.421779Z",
     "iopub.status.idle": "2021-07-02T10:10:56.446813Z",
     "shell.execute_reply": "2021-07-02T10:10:56.447419Z"
    },
    "papermill": {
     "duration": 0.070273,
     "end_time": "2021-07-02T10:10:56.447629",
     "exception": false,
     "start_time": "2021-07-02T10:10:56.377356",
     "status": "completed"
    },
    "tags": []
   },
   "outputs": [],
   "source": [
    "from kudzu.layer import Sigmoid\n",
    "from kudzu.layer import Relu\n",
    "from kudzu.layer import Affine, Sigmoid\n",
    "\n",
    "from kudzu.model import Model\n",
    "from kudzu.train import Learner\n",
    "from kudzu.optim import GD\n",
    "from kudzu.data import Data, Dataloader, Sampler\n",
    "\n",
    "from kudzu.callbacks import AccCallback\n",
    "from kudzu.callbacks import ClfCallback\n",
    "\n",
    "from kudzu.loss import MSE"
   ]
  },
  {
   "cell_type": "markdown",
   "id": "coupled-customer",
   "metadata": {
    "papermill": {
     "duration": 0.037541,
     "end_time": "2021-07-02T10:10:56.522838",
     "exception": false,
     "start_time": "2021-07-02T10:10:56.485297",
     "status": "completed"
    },
    "tags": []
   },
   "source": [
    "### Let us create a `Config` class, to store important parameters. \n",
    "This class essentially plays the role of a dictionary."
   ]
  },
  {
   "cell_type": "code",
   "execution_count": 15,
   "id": "young-ceiling",
   "metadata": {
    "execution": {
     "iopub.execute_input": "2021-07-02T10:10:56.605352Z",
     "iopub.status.busy": "2021-07-02T10:10:56.604554Z",
     "iopub.status.idle": "2021-07-02T10:10:56.618470Z",
     "shell.execute_reply": "2021-07-02T10:10:56.618998Z"
    },
    "papermill": {
     "duration": 0.055758,
     "end_time": "2021-07-02T10:10:56.619174",
     "exception": false,
     "start_time": "2021-07-02T10:10:56.563416",
     "status": "completed"
    },
    "tags": []
   },
   "outputs": [],
   "source": [
    "class Config:\n",
    "    pass\n",
    "config = Config()\n",
    "config.lr = 0.001\n",
    "config.num_epochs = 251\n",
    "config.bs = 50"
   ]
  },
  {
   "cell_type": "markdown",
   "id": "according-mandate",
   "metadata": {
    "papermill": {
     "duration": 0.036773,
     "end_time": "2021-07-02T10:10:56.694795",
     "exception": false,
     "start_time": "2021-07-02T10:10:56.658022",
     "status": "completed"
    },
    "tags": []
   },
   "source": [
    "### Initializing data to the variables"
   ]
  },
  {
   "cell_type": "code",
   "execution_count": 16,
   "id": "academic-disposition",
   "metadata": {
    "execution": {
     "iopub.execute_input": "2021-07-02T10:10:56.774745Z",
     "iopub.status.busy": "2021-07-02T10:10:56.774063Z",
     "iopub.status.idle": "2021-07-02T10:10:56.788257Z",
     "shell.execute_reply": "2021-07-02T10:10:56.787654Z"
    },
    "papermill": {
     "duration": 0.056301,
     "end_time": "2021-07-02T10:10:56.788403",
     "exception": false,
     "start_time": "2021-07-02T10:10:56.732102",
     "status": "completed"
    },
    "tags": []
   },
   "outputs": [],
   "source": [
    "data = Data(X_train, y_train.reshape(-1,1))\n",
    "sampler = Sampler(data, config.bs, shuffle=True)\n",
    "\n",
    "dl = Dataloader(data, sampler)\n",
    "\n",
    "opt = GD(config.lr)\n",
    "loss = MSE()"
   ]
  },
  {
   "cell_type": "code",
   "execution_count": 17,
   "id": "featured-commission",
   "metadata": {
    "execution": {
     "iopub.execute_input": "2021-07-02T10:10:56.869984Z",
     "iopub.status.busy": "2021-07-02T10:10:56.869300Z",
     "iopub.status.idle": "2021-07-02T10:10:56.882453Z",
     "shell.execute_reply": "2021-07-02T10:10:56.881879Z"
    },
    "papermill": {
     "duration": 0.057146,
     "end_time": "2021-07-02T10:10:56.882607",
     "exception": false,
     "start_time": "2021-07-02T10:10:56.825461",
     "status": "completed"
    },
    "tags": []
   },
   "outputs": [],
   "source": [
    "training_xdata = X_train\n",
    "testing_xdata = X_test\n",
    "training_ydata = y_train.reshape(-1,1)\n",
    "testing_ydata = y_test.reshape(-1,1)"
   ]
  },
  {
   "cell_type": "markdown",
   "id": "played-safety",
   "metadata": {
    "papermill": {
     "duration": 0.037661,
     "end_time": "2021-07-02T10:10:56.957363",
     "exception": false,
     "start_time": "2021-07-02T10:10:56.919702",
     "status": "completed"
    },
    "tags": []
   },
   "source": [
    "### Running Models with the Training data\n",
    "Details about the network layers:\n",
    "- A first affine layer has 784 inputs and does 100 affine transforms. These are followed by a Relu\n",
    "- A second affine layer has 100 inputs from the 100 activations of the past layer, and does 100 affine transforms. These are followed by a Relu\n",
    "- A third affine layer has 100 activations and does 2 affine transformations to create an embedding for visualization. There is no non-linearity here.\n",
    "- A final \"logistic regression\" which has an affine transform from 2 inputs to 1 output, which is squeezed through a sigmoid.\n",
    "\n",
    "Help taken from Anshuman's Notebook."
   ]
  },
  {
   "cell_type": "code",
   "execution_count": 18,
   "id": "asian-bankruptcy",
   "metadata": {
    "execution": {
     "iopub.execute_input": "2021-07-02T10:10:57.040837Z",
     "iopub.status.busy": "2021-07-02T10:10:57.040104Z",
     "iopub.status.idle": "2021-07-02T10:10:57.060220Z",
     "shell.execute_reply": "2021-07-02T10:10:57.060770Z"
    },
    "papermill": {
     "duration": 0.065866,
     "end_time": "2021-07-02T10:10:57.060952",
     "exception": false,
     "start_time": "2021-07-02T10:10:56.995086",
     "status": "completed"
    },
    "tags": []
   },
   "outputs": [],
   "source": [
    "# layers for the Neural Network\n",
    "layers = [Affine(\"first\", 784, 100), Relu(\"first\"), Affine(\"second\", 100, 100), Relu(\"second\"), Affine(\"third\", 100, 2), Affine(\"final\", 2, 1), Sigmoid(\"final\")]\n",
    "model_nn = Model(layers)\n",
    "\n",
    "# layers for the Logistic Regression\n",
    "layers_lr = [Affine(\"logits\", 784, 1), Sigmoid(\"sigmoid\")]\n",
    "model_lr = Model(layers_lr)"
   ]
  },
  {
   "cell_type": "code",
   "execution_count": 19,
   "id": "removed-butler",
   "metadata": {
    "execution": {
     "iopub.execute_input": "2021-07-02T10:10:57.142567Z",
     "iopub.status.busy": "2021-07-02T10:10:57.141887Z",
     "iopub.status.idle": "2021-07-02T10:10:57.155433Z",
     "shell.execute_reply": "2021-07-02T10:10:57.156014Z"
    },
    "papermill": {
     "duration": 0.057876,
     "end_time": "2021-07-02T10:10:57.156207",
     "exception": false,
     "start_time": "2021-07-02T10:10:57.098331",
     "status": "completed"
    },
    "tags": []
   },
   "outputs": [],
   "source": [
    "# suffix _nn stands for Neural Network.\n",
    "learner_nn = Learner(loss, model_nn, opt, config.num_epochs)\n",
    "acc_nn = ClfCallback(learner_nn, config.bs, training_xdata , testing_xdata, training_ydata, testing_ydata)\n",
    "learner_nn.set_callbacks([acc_nn])"
   ]
  },
  {
   "cell_type": "code",
   "execution_count": 20,
   "id": "conceptual-throw",
   "metadata": {
    "execution": {
     "iopub.execute_input": "2021-07-02T10:10:57.236710Z",
     "iopub.status.busy": "2021-07-02T10:10:57.236036Z",
     "iopub.status.idle": "2021-07-02T10:13:23.310257Z",
     "shell.execute_reply": "2021-07-02T10:13:23.311137Z"
    },
    "papermill": {
     "duration": 146.117285,
     "end_time": "2021-07-02T10:13:23.311309",
     "exception": false,
     "start_time": "2021-07-02T10:10:57.194024",
     "status": "completed"
    },
    "tags": []
   },
   "outputs": [
    {
     "name": "stdout",
     "output_type": "stream",
     "text": [
      "====== Neural Network ======\n"
     ]
    },
    {
     "name": "stdout",
     "output_type": "stream",
     "text": [
      "Epoch 0, Loss 0.254\n",
      "Training Accuracy: 0.6025, Testing Accuracy: 0.6048\n",
      "\n"
     ]
    },
    {
     "name": "stdout",
     "output_type": "stream",
     "text": [
      "Epoch 10, Loss 0.0906\n",
      "Training Accuracy: 0.9169, Testing Accuracy: 0.9264\n",
      "\n"
     ]
    },
    {
     "name": "stdout",
     "output_type": "stream",
     "text": [
      "Epoch 20, Loss 0.0548\n",
      "Training Accuracy: 0.9433, Testing Accuracy: 0.9546\n",
      "\n"
     ]
    },
    {
     "name": "stdout",
     "output_type": "stream",
     "text": [
      "Epoch 30, Loss 0.0429\n",
      "Training Accuracy: 0.9542, Testing Accuracy: 0.9632\n",
      "\n"
     ]
    },
    {
     "name": "stdout",
     "output_type": "stream",
     "text": [
      "Epoch 40, Loss 0.037\n",
      "Training Accuracy: 0.9594, Testing Accuracy: 0.9662\n",
      "\n"
     ]
    },
    {
     "name": "stdout",
     "output_type": "stream",
     "text": [
      "Epoch 50, Loss 0.0335\n",
      "Training Accuracy: 0.9624, Testing Accuracy: 0.9672\n",
      "\n"
     ]
    },
    {
     "name": "stdout",
     "output_type": "stream",
     "text": [
      "Epoch 60, Loss 0.031\n",
      "Training Accuracy: 0.9647, Testing Accuracy: 0.9688\n",
      "\n"
     ]
    },
    {
     "name": "stdout",
     "output_type": "stream",
     "text": [
      "Epoch 70, Loss 0.0292\n",
      "Training Accuracy: 0.9669, Testing Accuracy: 0.9693\n",
      "\n"
     ]
    },
    {
     "name": "stdout",
     "output_type": "stream",
     "text": [
      "Epoch 80, Loss 0.0278\n",
      "Training Accuracy: 0.9686, Testing Accuracy: 0.9688\n",
      "\n"
     ]
    },
    {
     "name": "stdout",
     "output_type": "stream",
     "text": [
      "Epoch 90, Loss 0.0266\n",
      "Training Accuracy: 0.9705, Testing Accuracy: 0.9693\n",
      "\n"
     ]
    },
    {
     "name": "stdout",
     "output_type": "stream",
     "text": [
      "Epoch 100, Loss 0.0256\n",
      "Training Accuracy: 0.9719, Testing Accuracy: 0.9688\n",
      "\n"
     ]
    },
    {
     "name": "stdout",
     "output_type": "stream",
     "text": [
      "Epoch 110, Loss 0.0247\n",
      "Training Accuracy: 0.9724, Testing Accuracy: 0.9703\n",
      "\n"
     ]
    },
    {
     "name": "stdout",
     "output_type": "stream",
     "text": [
      "Epoch 120, Loss 0.0239\n",
      "Training Accuracy: 0.9735, Testing Accuracy: 0.9718\n",
      "\n"
     ]
    },
    {
     "name": "stdout",
     "output_type": "stream",
     "text": [
      "Epoch 130, Loss 0.0232\n",
      "Training Accuracy: 0.9743, Testing Accuracy: 0.9718\n",
      "\n"
     ]
    },
    {
     "name": "stdout",
     "output_type": "stream",
     "text": [
      "Epoch 140, Loss 0.0226\n",
      "Training Accuracy: 0.9749, Testing Accuracy: 0.9723\n",
      "\n"
     ]
    },
    {
     "name": "stdout",
     "output_type": "stream",
     "text": [
      "Epoch 150, Loss 0.022\n",
      "Training Accuracy: 0.9755, Testing Accuracy: 0.9738\n",
      "\n"
     ]
    },
    {
     "name": "stdout",
     "output_type": "stream",
     "text": [
      "Epoch 160, Loss 0.0214\n",
      "Training Accuracy: 0.9765, Testing Accuracy: 0.9748\n",
      "\n"
     ]
    },
    {
     "name": "stdout",
     "output_type": "stream",
     "text": [
      "Epoch 170, Loss 0.0209\n",
      "Training Accuracy: 0.9769, Testing Accuracy: 0.9753\n",
      "\n"
     ]
    },
    {
     "name": "stdout",
     "output_type": "stream",
     "text": [
      "Epoch 180, Loss 0.0204\n",
      "Training Accuracy: 0.9771, Testing Accuracy: 0.9748\n",
      "\n"
     ]
    },
    {
     "name": "stdout",
     "output_type": "stream",
     "text": [
      "Epoch 190, Loss 0.02\n",
      "Training Accuracy: 0.9771, Testing Accuracy: 0.9758\n",
      "\n"
     ]
    },
    {
     "name": "stdout",
     "output_type": "stream",
     "text": [
      "Epoch 200, Loss 0.0195\n",
      "Training Accuracy: 0.9778, Testing Accuracy: 0.9758\n",
      "\n"
     ]
    },
    {
     "name": "stdout",
     "output_type": "stream",
     "text": [
      "Epoch 210, Loss 0.0191\n",
      "Training Accuracy: 0.9786, Testing Accuracy: 0.9753\n",
      "\n"
     ]
    },
    {
     "name": "stdout",
     "output_type": "stream",
     "text": [
      "Epoch 220, Loss 0.0187\n",
      "Training Accuracy: 0.9790, Testing Accuracy: 0.9758\n",
      "\n"
     ]
    },
    {
     "name": "stdout",
     "output_type": "stream",
     "text": [
      "Epoch 230, Loss 0.0183\n",
      "Training Accuracy: 0.9794, Testing Accuracy: 0.9758\n",
      "\n"
     ]
    },
    {
     "name": "stdout",
     "output_type": "stream",
     "text": [
      "Epoch 240, Loss 0.0179\n",
      "Training Accuracy: 0.9796, Testing Accuracy: 0.9753\n",
      "\n"
     ]
    },
    {
     "name": "stdout",
     "output_type": "stream",
     "text": [
      "Epoch 250, Loss 0.0176\n",
      "Training Accuracy: 0.9801, Testing Accuracy: 0.9753\n",
      "\n"
     ]
    },
    {
     "data": {
      "text/plain": [
       "0.02451271514203875"
      ]
     },
     "execution_count": 20,
     "metadata": {},
     "output_type": "execute_result"
    }
   ],
   "source": [
    "print(\"====== Neural Network ======\")\n",
    "learner_nn.train_loop(dl)"
   ]
  },
  {
   "cell_type": "markdown",
   "id": "competent-suffering",
   "metadata": {
    "papermill": {
     "duration": 0.045672,
     "end_time": "2021-07-02T10:13:23.404290",
     "exception": false,
     "start_time": "2021-07-02T10:13:23.358618",
     "status": "completed"
    },
    "tags": []
   },
   "source": [
    "### Logistic Regression based Implementation."
   ]
  },
  {
   "cell_type": "code",
   "execution_count": 21,
   "id": "qualified-psychiatry",
   "metadata": {
    "execution": {
     "iopub.execute_input": "2021-07-02T10:13:23.506210Z",
     "iopub.status.busy": "2021-07-02T10:13:23.505523Z",
     "iopub.status.idle": "2021-07-02T10:13:23.517091Z",
     "shell.execute_reply": "2021-07-02T10:13:23.517634Z"
    },
    "papermill": {
     "duration": 0.066509,
     "end_time": "2021-07-02T10:13:23.517804",
     "exception": false,
     "start_time": "2021-07-02T10:13:23.451295",
     "status": "completed"
    },
    "tags": []
   },
   "outputs": [],
   "source": [
    "learner_lr = Learner(loss, model_lr, opt, config.num_epochs)\n",
    "acc_lr = ClfCallback(learner_lr, config.bs, training_xdata , testing_xdata, training_ydata, testing_ydata)\n",
    "learner_lr.set_callbacks([acc_lr])"
   ]
  },
  {
   "cell_type": "code",
   "execution_count": 22,
   "id": "average-outside",
   "metadata": {
    "execution": {
     "iopub.execute_input": "2021-07-02T10:13:23.627192Z",
     "iopub.status.busy": "2021-07-02T10:13:23.626502Z",
     "iopub.status.idle": "2021-07-02T10:13:43.850211Z",
     "shell.execute_reply": "2021-07-02T10:13:43.850850Z"
    },
    "papermill": {
     "duration": 20.276582,
     "end_time": "2021-07-02T10:13:43.851016",
     "exception": false,
     "start_time": "2021-07-02T10:13:23.574434",
     "status": "completed"
    },
    "tags": []
   },
   "outputs": [
    {
     "name": "stdout",
     "output_type": "stream",
     "text": [
      "====== Logistic Regression ======\n",
      "Epoch 0, Loss 0.2438\n",
      "Training Accuracy: 0.6373, Testing Accuracy: 0.6195\n",
      "\n"
     ]
    },
    {
     "name": "stdout",
     "output_type": "stream",
     "text": [
      "Epoch 10, Loss 0.1048\n",
      "Training Accuracy: 0.9076, Testing Accuracy: 0.9189\n",
      "\n"
     ]
    },
    {
     "name": "stdout",
     "output_type": "stream",
     "text": [
      "Epoch 20, Loss 0.0799\n",
      "Training Accuracy: 0.9278, Testing Accuracy: 0.9390\n",
      "\n"
     ]
    },
    {
     "name": "stdout",
     "output_type": "stream",
     "text": [
      "Epoch 30, Loss 0.0686\n",
      "Training Accuracy: 0.9356, Testing Accuracy: 0.9451\n",
      "\n"
     ]
    },
    {
     "name": "stdout",
     "output_type": "stream",
     "text": [
      "Epoch 40, Loss 0.0619\n",
      "Training Accuracy: 0.9402, Testing Accuracy: 0.9506\n",
      "\n"
     ]
    },
    {
     "name": "stdout",
     "output_type": "stream",
     "text": [
      "Epoch 50, Loss 0.0574\n",
      "Training Accuracy: 0.9437, Testing Accuracy: 0.9531\n",
      "\n"
     ]
    },
    {
     "name": "stdout",
     "output_type": "stream",
     "text": [
      "Epoch 60, Loss 0.054\n",
      "Training Accuracy: 0.9463, Testing Accuracy: 0.9572\n",
      "\n"
     ]
    },
    {
     "name": "stdout",
     "output_type": "stream",
     "text": [
      "Epoch 70, Loss 0.0515\n",
      "Training Accuracy: 0.9483, Testing Accuracy: 0.9597\n",
      "\n"
     ]
    },
    {
     "name": "stdout",
     "output_type": "stream",
     "text": [
      "Epoch 80, Loss 0.0494\n",
      "Training Accuracy: 0.9494, Testing Accuracy: 0.9602\n",
      "\n"
     ]
    },
    {
     "name": "stdout",
     "output_type": "stream",
     "text": [
      "Epoch 90, Loss 0.0477\n",
      "Training Accuracy: 0.9508, Testing Accuracy: 0.9627\n",
      "\n"
     ]
    },
    {
     "name": "stdout",
     "output_type": "stream",
     "text": [
      "Epoch 100, Loss 0.0462\n",
      "Training Accuracy: 0.9523, Testing Accuracy: 0.9627\n",
      "\n"
     ]
    },
    {
     "name": "stdout",
     "output_type": "stream",
     "text": [
      "Epoch 110, Loss 0.045\n",
      "Training Accuracy: 0.9532, Testing Accuracy: 0.9632\n",
      "\n"
     ]
    },
    {
     "name": "stdout",
     "output_type": "stream",
     "text": [
      "Epoch 120, Loss 0.0439\n",
      "Training Accuracy: 0.9539, Testing Accuracy: 0.9647\n",
      "\n"
     ]
    },
    {
     "name": "stdout",
     "output_type": "stream",
     "text": [
      "Epoch 130, Loss 0.043\n",
      "Training Accuracy: 0.9549, Testing Accuracy: 0.9652\n",
      "\n"
     ]
    },
    {
     "name": "stdout",
     "output_type": "stream",
     "text": [
      "Epoch 140, Loss 0.0422\n",
      "Training Accuracy: 0.9556, Testing Accuracy: 0.9652\n",
      "\n"
     ]
    },
    {
     "name": "stdout",
     "output_type": "stream",
     "text": [
      "Epoch 150, Loss 0.0414\n",
      "Training Accuracy: 0.9567, Testing Accuracy: 0.9652\n",
      "\n"
     ]
    },
    {
     "name": "stdout",
     "output_type": "stream",
     "text": [
      "Epoch 160, Loss 0.0407\n",
      "Training Accuracy: 0.9574, Testing Accuracy: 0.9657\n",
      "\n"
     ]
    },
    {
     "name": "stdout",
     "output_type": "stream",
     "text": [
      "Epoch 170, Loss 0.0401\n",
      "Training Accuracy: 0.9577, Testing Accuracy: 0.9667\n",
      "\n"
     ]
    },
    {
     "name": "stdout",
     "output_type": "stream",
     "text": [
      "Epoch 180, Loss 0.0395\n",
      "Training Accuracy: 0.9578, Testing Accuracy: 0.9672\n",
      "\n"
     ]
    },
    {
     "name": "stdout",
     "output_type": "stream",
     "text": [
      "Epoch 190, Loss 0.039\n",
      "Training Accuracy: 0.9581, Testing Accuracy: 0.9667\n",
      "\n"
     ]
    },
    {
     "name": "stdout",
     "output_type": "stream",
     "text": [
      "Epoch 200, Loss 0.0385\n",
      "Training Accuracy: 0.9584, Testing Accuracy: 0.9672\n",
      "\n"
     ]
    },
    {
     "name": "stdout",
     "output_type": "stream",
     "text": [
      "Epoch 210, Loss 0.0381\n",
      "Training Accuracy: 0.9587, Testing Accuracy: 0.9667\n",
      "\n"
     ]
    },
    {
     "name": "stdout",
     "output_type": "stream",
     "text": [
      "Epoch 220, Loss 0.0377\n",
      "Training Accuracy: 0.9594, Testing Accuracy: 0.9662\n",
      "\n"
     ]
    },
    {
     "name": "stdout",
     "output_type": "stream",
     "text": [
      "Epoch 230, Loss 0.0373\n",
      "Training Accuracy: 0.9597, Testing Accuracy: 0.9662\n",
      "\n"
     ]
    },
    {
     "name": "stdout",
     "output_type": "stream",
     "text": [
      "Epoch 240, Loss 0.0369\n",
      "Training Accuracy: 0.9603, Testing Accuracy: 0.9667\n",
      "\n"
     ]
    },
    {
     "name": "stdout",
     "output_type": "stream",
     "text": [
      "Epoch 250, Loss 0.0366\n",
      "Training Accuracy: 0.9603, Testing Accuracy: 0.9672\n",
      "\n"
     ]
    },
    {
     "data": {
      "text/plain": [
       "0.01609332668561319"
      ]
     },
     "execution_count": 22,
     "metadata": {},
     "output_type": "execute_result"
    }
   ],
   "source": [
    "print(\"====== Logistic Regression ======\")\n",
    "learner_lr.train_loop(dl)"
   ]
  },
  {
   "cell_type": "markdown",
   "id": "adjusted-possible",
   "metadata": {
    "papermill": {
     "duration": 0.064535,
     "end_time": "2021-07-02T10:13:43.976813",
     "exception": false,
     "start_time": "2021-07-02T10:13:43.912278",
     "status": "completed"
    },
    "tags": []
   },
   "source": [
    "### Comparing results of NN and LR"
   ]
  },
  {
   "cell_type": "code",
   "execution_count": 23,
   "id": "mental-multimedia",
   "metadata": {
    "execution": {
     "iopub.execute_input": "2021-07-02T10:13:44.096581Z",
     "iopub.status.busy": "2021-07-02T10:13:44.095899Z",
     "iopub.status.idle": "2021-07-02T10:13:44.426060Z",
     "shell.execute_reply": "2021-07-02T10:13:44.426581Z"
    },
    "papermill": {
     "duration": 0.392531,
     "end_time": "2021-07-02T10:13:44.426755",
     "exception": false,
     "start_time": "2021-07-02T10:13:44.034224",
     "status": "completed"
    },
    "tags": []
   },
   "outputs": [
    {
     "data": {
      "text/plain": [
       "<matplotlib.legend.Legend at 0x7f29d0d7b128>"
      ]
     },
     "execution_count": 23,
     "metadata": {},
     "output_type": "execute_result"
    },
    {
     "data": {
      "image/png": "[encoded data removed]",
      "text/plain": [
       "<Figure size 1080x720 with 1 Axes>"
      ]
     },
     "metadata": {
      "needs_background": "light"
     },
     "output_type": "display_data"
    }
   ],
   "source": [
    "plt.figure(figsize=(15,10))\n",
    "\n",
    "# Neural Network plots\n",
    "plt.plot(acc_nn.accuracies, 'r-', label = \"Training Accuracies - NN\")\n",
    "plt.plot(acc_nn.test_accuracies, 'g-', label = \"Testing Accuracies - NN\")\n",
    "\n",
    "# Logistic Regression plots\n",
    "plt.plot(acc_lr.accuracies, 'k-', label = \"Training Accuracies - LR\")\n",
    "plt.plot(acc_lr.test_accuracies, 'b-', label = \"Testing Accuracies - LR\")\n",
    "\n",
    "plt.ylim(0.8, 1)\n",
    "\n",
    "plt.legend()\n",
    "\n"
   ]
  },
  {
   "cell_type": "markdown",
   "id": "sexual-flesh",
   "metadata": {
    "papermill": {
     "duration": 0.057991,
     "end_time": "2021-07-02T10:13:44.542270",
     "exception": false,
     "start_time": "2021-07-02T10:13:44.484279",
     "status": "completed"
    },
    "tags": []
   },
   "source": [
    "### From the plot, we can observe the following:\n",
    "- Neural Network achieves higher accuracy than the Logistic Regression model.\n",
    "- This apparently, is because of overfitting, i.e. NN captures more noise than data.\n",
    "- Testing accuracy of NN drops below the Training accuracy at higher epochs. This explains the over-fitting on training data.\n",
    "- Logistic Regression gives a reliable accuracy, without the above mentioned problem.\n"
   ]
  },
  {
   "cell_type": "markdown",
   "id": "institutional-pacific",
   "metadata": {
    "papermill": {
     "duration": 0.057484,
     "end_time": "2021-07-02T10:13:44.657775",
     "exception": false,
     "start_time": "2021-07-02T10:13:44.600291",
     "status": "completed"
    },
    "tags": []
   },
   "source": [
    "### Moving till the last but one layer (excluding it).\n",
    "#### Plotting the outputs of this layer of the NN."
   ]
  },
  {
   "cell_type": "code",
   "execution_count": 24,
   "id": "economic-server",
   "metadata": {
    "execution": {
     "iopub.execute_input": "2021-07-02T10:13:44.779593Z",
     "iopub.status.busy": "2021-07-02T10:13:44.778906Z",
     "iopub.status.idle": "2021-07-02T10:13:44.791462Z",
     "shell.execute_reply": "2021-07-02T10:13:44.792061Z"
    },
    "papermill": {
     "duration": 0.075801,
     "end_time": "2021-07-02T10:13:44.792233",
     "exception": false,
     "start_time": "2021-07-02T10:13:44.716432",
     "status": "completed"
    },
    "tags": []
   },
   "outputs": [],
   "source": [
    "model_new = Model(layers[:-2])"
   ]
  },
  {
   "cell_type": "code",
   "execution_count": 25,
   "id": "varied-upgrade",
   "metadata": {
    "execution": {
     "iopub.execute_input": "2021-07-02T10:13:44.952555Z",
     "iopub.status.busy": "2021-07-02T10:13:44.951859Z",
     "iopub.status.idle": "2021-07-02T10:13:44.976807Z",
     "shell.execute_reply": "2021-07-02T10:13:44.977364Z"
    },
    "papermill": {
     "duration": 0.093303,
     "end_time": "2021-07-02T10:13:44.977537",
     "exception": false,
     "start_time": "2021-07-02T10:13:44.884234",
     "status": "completed"
    },
    "tags": []
   },
   "outputs": [],
   "source": [
    "plot_testing = model_new(testing_xdata)"
   ]
  },
  {
   "cell_type": "code",
   "execution_count": 26,
   "id": "specific-handling",
   "metadata": {
    "execution": {
     "iopub.execute_input": "2021-07-02T10:13:45.111216Z",
     "iopub.status.busy": "2021-07-02T10:13:45.109144Z",
     "iopub.status.idle": "2021-07-02T10:13:45.387164Z",
     "shell.execute_reply": "2021-07-02T10:13:45.387730Z"
    },
    "papermill": {
     "duration": 0.342545,
     "end_time": "2021-07-02T10:13:45.387912",
     "exception": false,
     "start_time": "2021-07-02T10:13:45.045367",
     "status": "completed"
    },
    "tags": []
   },
   "outputs": [
    {
     "data": {
      "text/plain": [
       "Text(0.5, 1.0, 'Outputs')"
      ]
     },
     "execution_count": 26,
     "metadata": {},
     "output_type": "execute_result"
    },
    {
     "data": {
      "image/png": "[encoded data removed]",
      "text/plain": [
       "<Figure size 576x504 with 1 Axes>"
      ]
     },
     "metadata": {
      "needs_background": "light"
     },
     "output_type": "display_data"
    }
   ],
   "source": [
    "plt.figure(figsize=(8,7))\n",
    "plt.scatter(plot_testing[:,0], plot_testing[:,1], alpha = 0.1, c = y_test.ravel());\n",
    "plt.title('Outputs')"
   ]
  },
  {
   "cell_type": "markdown",
   "id": "described-knowing",
   "metadata": {
    "papermill": {
     "duration": 0.066481,
     "end_time": "2021-07-02T10:13:45.514708",
     "exception": false,
     "start_time": "2021-07-02T10:13:45.448227",
     "status": "completed"
    },
    "tags": []
   },
   "source": [
    "### Plotting probability contours"
   ]
  },
  {
   "cell_type": "code",
   "execution_count": 27,
   "id": "needed-growing",
   "metadata": {
    "execution": {
     "iopub.execute_input": "2021-07-02T10:13:45.655537Z",
     "iopub.status.busy": "2021-07-02T10:13:45.654164Z",
     "iopub.status.idle": "2021-07-02T10:13:45.658807Z",
     "shell.execute_reply": "2021-07-02T10:13:45.657828Z"
    },
    "papermill": {
     "duration": 0.083337,
     "end_time": "2021-07-02T10:13:45.658962",
     "exception": false,
     "start_time": "2021-07-02T10:13:45.575625",
     "status": "completed"
    },
    "tags": []
   },
   "outputs": [],
   "source": [
    "model_prob = Model(layers[-2:]) "
   ]
  },
  {
   "cell_type": "code",
   "execution_count": 28,
   "id": "introductory-enforcement",
   "metadata": {
    "execution": {
     "iopub.execute_input": "2021-07-02T10:13:45.789299Z",
     "iopub.status.busy": "2021-07-02T10:13:45.784385Z",
     "iopub.status.idle": "2021-07-02T10:13:45.800901Z",
     "shell.execute_reply": "2021-07-02T10:13:45.801442Z"
    },
    "papermill": {
     "duration": 0.082384,
     "end_time": "2021-07-02T10:13:45.801626",
     "exception": false,
     "start_time": "2021-07-02T10:13:45.719242",
     "status": "completed"
    },
    "tags": []
   },
   "outputs": [],
   "source": [
    "# Adjust the x and y ranges according to the above generated plot.\n",
    "x_range = np.linspace(-4, 1, 100) \n",
    "y_range = np.linspace(-6, 6, 100) \n",
    "x_grid, y_grid = np.meshgrid(x_range, y_range) # x_grid and y_grig are of size 100 X 100\n",
    "\n",
    "# converting x_grid and y_grid to continuous arrays\n",
    "x_grid_flat = np.ravel(x_grid)\n",
    "y_grid_flat = np.ravel(y_grid)\n",
    "\n",
    "# The last layer of the current model takes two columns as input. Hence transpose of np.vstack() is required.\n",
    "X = np.vstack((x_grid_flat, y_grid_flat)).T\n",
    "\n",
    "# x_grid and y_grid are of size 100 x 100\n",
    "probability_contour = model_prob(X).reshape(100,100) "
   ]
  },
  {
   "cell_type": "code",
   "execution_count": 29,
   "id": "understood-landing",
   "metadata": {
    "execution": {
     "iopub.execute_input": "2021-07-02T10:13:45.952989Z",
     "iopub.status.busy": "2021-07-02T10:13:45.952308Z",
     "iopub.status.idle": "2021-07-02T10:13:46.301802Z",
     "shell.execute_reply": "2021-07-02T10:13:46.301172Z"
    },
    "papermill": {
     "duration": 0.42684,
     "end_time": "2021-07-02T10:13:46.301956",
     "exception": false,
     "start_time": "2021-07-02T10:13:45.875116",
     "status": "completed"
    },
    "tags": []
   },
   "outputs": [
    {
     "data": {
      "image/png": "[encoded data removed]",
      "text/plain": [
       "<Figure size 720x648 with 1 Axes>"
      ]
     },
     "metadata": {
      "needs_background": "light"
     },
     "output_type": "display_data"
    }
   ],
   "source": [
    "plt.figure(figsize=(10,9))\n",
    "plt.scatter(plot_testing[:,0], plot_testing[:,1], alpha = 0.1, c = y_test.ravel())\n",
    "contours = plt.contour(x_grid,y_grid,probability_contour)\n",
    "plt.title('Probability Contours')\n",
    "plt.clabel(contours, inline = True );"
   ]
  }
 ],
 "metadata": {
  "kernelspec": {
   "display_name": "Python 3",
   "language": "python",
   "name": "python3"
  },
  "language_info": {
   "codemirror_mode": {
    "name": "ipython",
    "version": 3
   },
   "file_extension": ".py",
   "mimetype": "text/x-python",
   "name": "python",
   "nbconvert_exporter": "python",
   "pygments_lexer": "ipython3",
   "version": "3.6.13"
  },
  "papermill": {
   "duration": 517.580168,
   "end_time": "2021-07-02T10:13:47.776639",
   "environment_variables": {},
   "exception": null,
   "input_path": "2020-08-11-NeuralNetwork.ipynb",
   "output_path": "2020-08-11-NeuralNetwork.ipynb",
   "parameters": {},
   "start_time": "2021-07-02T10:05:10.196471",
   "version": "2.1.2"
  }
 },
 "nbformat": 4,
 "nbformat_minor": 5
}