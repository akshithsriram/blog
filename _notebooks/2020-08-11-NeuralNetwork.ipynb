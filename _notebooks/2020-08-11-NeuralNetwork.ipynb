{
 "cells": [
  {
   "cell_type": "markdown",
   "id": "fitted-suggestion",
   "metadata": {
    "papermill": {
     "duration": 0.033521,
     "end_time": "2021-05-06T10:05:46.506584",
     "exception": false,
     "start_time": "2021-05-06T10:05:46.473063",
     "status": "completed"
    },
    "tags": []
   },
   "source": [
    "# \"A Basic Neural Network: Differentiate Hand-Written Digits\"\n",
    "\n",
    "- badges: true\n",
    "- author: Akshith Sriram"
   ]
  },
  {
   "cell_type": "markdown",
   "id": "signal-flexibility",
   "metadata": {
    "papermill": {
     "duration": 0.028875,
     "end_time": "2021-05-06T10:05:46.565531",
     "exception": false,
     "start_time": "2021-05-06T10:05:46.536656",
     "status": "completed"
    },
    "tags": []
   },
   "source": [
    "### Key Objectives:\n",
    "- Building a neural network that differentiates two hand-written digits 3 and 8.\n",
    "- Comparing the results of this Neural Network (NN) to that of a Logistic Regression (LR) model.\n",
    "\n",
    "### Requirements:\n",
    "- 'Kudzu' : A neural network library that was designed during our course by [Univ.AI](www.univ.ai). \n",
    "- MNIST Database\n",
    "\n",
    "If MNIST is not installed, use the command `!pip install mnist` given below.\n",
    "It can be run both from the command line and Jupyter Notebook."
   ]
  },
  {
   "cell_type": "code",
   "execution_count": 1,
   "id": "british-texture",
   "metadata": {
    "execution": {
     "iopub.execute_input": "2021-05-06T10:05:46.633690Z",
     "iopub.status.busy": "2021-05-06T10:05:46.633058Z",
     "iopub.status.idle": "2021-05-06T10:05:48.208363Z",
     "shell.execute_reply": "2021-05-06T10:05:48.207338Z"
    },
    "papermill": {
     "duration": 1.614305,
     "end_time": "2021-05-06T10:05:48.208526",
     "exception": false,
     "start_time": "2021-05-06T10:05:46.594221",
     "status": "completed"
    },
    "tags": []
   },
   "outputs": [
    {
     "name": "stdout",
     "output_type": "stream",
     "text": [
      "Collecting mnist\r\n",
      "  Downloading mnist-0.2.2-py2.py3-none-any.whl (3.5 kB)\r\n",
      "Requirement already satisfied: numpy in /opt/hostedtoolcache/Python/3.6.13/x64/lib/python3.6/site-packages (from mnist) (1.19.5)\r\n"
     ]
    },
    {
     "name": "stdout",
     "output_type": "stream",
     "text": [
      "Installing collected packages: mnist\r\n"
     ]
    },
    {
     "name": "stdout",
     "output_type": "stream",
     "text": [
      "Successfully installed mnist-0.2.2\r\n"
     ]
    }
   ],
   "source": [
    "!pip install mnist "
   ]
  },
  {
   "cell_type": "markdown",
   "id": "stunning-extra",
   "metadata": {
    "papermill": {
     "duration": 0.029982,
     "end_time": "2021-05-06T10:05:48.268707",
     "exception": false,
     "start_time": "2021-05-06T10:05:48.238725",
     "status": "completed"
    },
    "tags": []
   },
   "source": [
    "#### Importing necessary libraries"
   ]
  },
  {
   "cell_type": "code",
   "execution_count": 2,
   "id": "wooden-france",
   "metadata": {
    "execution": {
     "iopub.execute_input": "2021-05-06T10:05:48.337801Z",
     "iopub.status.busy": "2021-05-06T10:05:48.337188Z",
     "iopub.status.idle": "2021-05-06T10:05:48.948294Z",
     "shell.execute_reply": "2021-05-06T10:05:48.948772Z"
    },
    "papermill": {
     "duration": 0.650075,
     "end_time": "2021-05-06T10:05:48.948937",
     "exception": false,
     "start_time": "2021-05-06T10:05:48.298862",
     "status": "completed"
    },
    "tags": []
   },
   "outputs": [],
   "source": [
    "%load_ext autoreload\n",
    "%autoreload 2\n",
    "\n",
    "%matplotlib inline\n",
    "import matplotlib.pyplot as plt\n",
    "\n",
    "import numpy as np\n",
    "import pandas as pd"
   ]
  },
  {
   "cell_type": "markdown",
   "id": "stunning-physics",
   "metadata": {
    "papermill": {
     "duration": 0.030326,
     "end_time": "2021-05-06T10:05:49.009203",
     "exception": false,
     "start_time": "2021-05-06T10:05:48.978877",
     "status": "completed"
    },
    "tags": []
   },
   "source": [
    "### Preparing the Data"
   ]
  },
  {
   "cell_type": "code",
   "execution_count": 3,
   "id": "unauthorized-remainder",
   "metadata": {
    "execution": {
     "iopub.execute_input": "2021-05-06T10:05:49.073652Z",
     "iopub.status.busy": "2021-05-06T10:05:49.073070Z",
     "iopub.status.idle": "2021-05-06T10:05:49.089469Z",
     "shell.execute_reply": "2021-05-06T10:05:49.088991Z"
    },
    "papermill": {
     "duration": 0.050542,
     "end_time": "2021-05-06T10:05:49.089598",
     "exception": false,
     "start_time": "2021-05-06T10:05:49.039056",
     "status": "completed"
    },
    "tags": []
   },
   "outputs": [],
   "source": [
    "import mnist"
   ]
  },
  {
   "cell_type": "code",
   "execution_count": 4,
   "id": "correct-antarctica",
   "metadata": {
    "execution": {
     "iopub.execute_input": "2021-05-06T10:05:49.165515Z",
     "iopub.status.busy": "2021-05-06T10:05:49.164901Z",
     "iopub.status.idle": "2021-05-06T10:10:51.288797Z",
     "shell.execute_reply": "2021-05-06T10:10:51.289284Z"
    },
    "papermill": {
     "duration": 302.169923,
     "end_time": "2021-05-06T10:10:51.289435",
     "exception": false,
     "start_time": "2021-05-06T10:05:49.119512",
     "status": "completed"
    },
    "tags": []
   },
   "outputs": [],
   "source": [
    "train_images = mnist.train_images()\n",
    "train_labels = mnist.train_labels()"
   ]
  },
  {
   "cell_type": "code",
   "execution_count": 5,
   "id": "musical-prospect",
   "metadata": {
    "execution": {
     "iopub.execute_input": "2021-05-06T10:10:51.355291Z",
     "iopub.status.busy": "2021-05-06T10:10:51.354707Z",
     "iopub.status.idle": "2021-05-06T10:10:51.371581Z",
     "shell.execute_reply": "2021-05-06T10:10:51.371086Z"
    },
    "papermill": {
     "duration": 0.051771,
     "end_time": "2021-05-06T10:10:51.371707",
     "exception": false,
     "start_time": "2021-05-06T10:10:51.319936",
     "status": "completed"
    },
    "tags": []
   },
   "outputs": [
    {
     "data": {
      "text/plain": [
       "((60000, 28, 28), (60000,))"
      ]
     },
     "execution_count": 5,
     "metadata": {},
     "output_type": "execute_result"
    }
   ],
   "source": [
    "train_images.shape, train_labels.shape"
   ]
  },
  {
   "cell_type": "code",
   "execution_count": 6,
   "id": "preliminary-elizabeth",
   "metadata": {
    "execution": {
     "iopub.execute_input": "2021-05-06T10:10:51.443011Z",
     "iopub.status.busy": "2021-05-06T10:10:51.442335Z",
     "iopub.status.idle": "2021-05-06T10:11:40.310240Z",
     "shell.execute_reply": "2021-05-06T10:11:40.309395Z"
    },
    "papermill": {
     "duration": 48.904379,
     "end_time": "2021-05-06T10:11:40.310455",
     "exception": false,
     "start_time": "2021-05-06T10:10:51.406076",
     "status": "completed"
    },
    "tags": []
   },
   "outputs": [],
   "source": [
    "test_images = mnist.test_images()\n",
    "test_labels = mnist.test_labels()"
   ]
  },
  {
   "cell_type": "code",
   "execution_count": 7,
   "id": "acknowledged-oxygen",
   "metadata": {
    "execution": {
     "iopub.execute_input": "2021-05-06T10:11:40.378309Z",
     "iopub.status.busy": "2021-05-06T10:11:40.377736Z",
     "iopub.status.idle": "2021-05-06T10:11:40.392131Z",
     "shell.execute_reply": "2021-05-06T10:11:40.391450Z"
    },
    "papermill": {
     "duration": 0.048764,
     "end_time": "2021-05-06T10:11:40.392299",
     "exception": false,
     "start_time": "2021-05-06T10:11:40.343535",
     "status": "completed"
    },
    "tags": []
   },
   "outputs": [
    {
     "data": {
      "text/plain": [
       "((10000, 28, 28), (10000,))"
      ]
     },
     "execution_count": 7,
     "metadata": {},
     "output_type": "execute_result"
    }
   ],
   "source": [
    "test_images.shape, test_labels.shape"
   ]
  },
  {
   "cell_type": "code",
   "execution_count": 8,
   "id": "innovative-organic",
   "metadata": {
    "execution": {
     "iopub.execute_input": "2021-05-06T10:11:40.462437Z",
     "iopub.status.busy": "2021-05-06T10:11:40.461856Z",
     "iopub.status.idle": "2021-05-06T10:11:40.608689Z",
     "shell.execute_reply": "2021-05-06T10:11:40.609243Z"
    },
    "papermill": {
     "duration": 0.186117,
     "end_time": "2021-05-06T10:11:40.609416",
     "exception": false,
     "start_time": "2021-05-06T10:11:40.423299",
     "status": "completed"
    },
    "tags": []
   },
   "outputs": [
    {
     "name": "stdout",
     "output_type": "stream",
     "text": [
      "2\n"
     ]
    },
    {
     "data": {
      "text/plain": [
       "<matplotlib.image.AxesImage at 0x7f63ad642860>"
      ]
     },
     "execution_count": 8,
     "metadata": {},
     "output_type": "execute_result"
    },
    {
     "data": {
      "image/png": "[encoded data removed]",
      "text/plain": [
       "<Figure size 432x288 with 1 Axes>"
      ]
     },
     "metadata": {
      "needs_background": "light"
     },
     "output_type": "display_data"
    }
   ],
   "source": [
    "image_index = 7776 # You may select anything up to 60,000\n",
    "print(train_labels[image_index]) \n",
    "plt.imshow(train_images[image_index], cmap='Greys')"
   ]
  },
  {
   "cell_type": "markdown",
   "id": "facial-modem",
   "metadata": {
    "papermill": {
     "duration": 0.032365,
     "end_time": "2021-05-06T10:11:40.675324",
     "exception": false,
     "start_time": "2021-05-06T10:11:40.642959",
     "status": "completed"
    },
    "tags": []
   },
   "source": [
    "## Filter data to get 3 and 8 out"
   ]
  },
  {
   "cell_type": "code",
   "execution_count": 9,
   "id": "thousand-acquisition",
   "metadata": {
    "execution": {
     "iopub.execute_input": "2021-05-06T10:11:40.744118Z",
     "iopub.status.busy": "2021-05-06T10:11:40.743532Z",
     "iopub.status.idle": "2021-05-06T10:11:40.764009Z",
     "shell.execute_reply": "2021-05-06T10:11:40.763494Z"
    },
    "papermill": {
     "duration": 0.056667,
     "end_time": "2021-05-06T10:11:40.764134",
     "exception": false,
     "start_time": "2021-05-06T10:11:40.707467",
     "status": "completed"
    },
    "tags": []
   },
   "outputs": [],
   "source": [
    "train_filter = np.where((train_labels == 3 ) | (train_labels == 8))\n",
    "test_filter = np.where((test_labels == 3) | (test_labels == 8))\n",
    "X_train, y_train = train_images[train_filter], train_labels[train_filter]\n",
    "X_test, y_test = test_images[test_filter], test_labels[test_filter]"
   ]
  },
  {
   "cell_type": "markdown",
   "id": "ruled-access",
   "metadata": {
    "papermill": {
     "duration": 0.032328,
     "end_time": "2021-05-06T10:11:40.828021",
     "exception": false,
     "start_time": "2021-05-06T10:11:40.795693",
     "status": "completed"
    },
    "tags": []
   },
   "source": [
    "We normalize the pixel values in the 0 to 1 range"
   ]
  },
  {
   "cell_type": "code",
   "execution_count": 10,
   "id": "isolated-denver",
   "metadata": {
    "execution": {
     "iopub.execute_input": "2021-05-06T10:11:40.895461Z",
     "iopub.status.busy": "2021-05-06T10:11:40.894882Z",
     "iopub.status.idle": "2021-05-06T10:11:40.951077Z",
     "shell.execute_reply": "2021-05-06T10:11:40.950492Z"
    },
    "papermill": {
     "duration": 0.091226,
     "end_time": "2021-05-06T10:11:40.951229",
     "exception": false,
     "start_time": "2021-05-06T10:11:40.860003",
     "status": "completed"
    },
    "tags": []
   },
   "outputs": [],
   "source": [
    "X_train = X_train/255.\n",
    "X_test = X_test/255."
   ]
  },
  {
   "cell_type": "markdown",
   "id": "perfect-summary",
   "metadata": {
    "papermill": {
     "duration": 0.033201,
     "end_time": "2021-05-06T10:11:41.016593",
     "exception": false,
     "start_time": "2021-05-06T10:11:40.983392",
     "status": "completed"
    },
    "tags": []
   },
   "source": [
    "Setup the labels as 1 (when the digit is 3) and 0 (when the digit is 8)"
   ]
  },
  {
   "cell_type": "code",
   "execution_count": 11,
   "id": "personalized-growing",
   "metadata": {
    "execution": {
     "iopub.execute_input": "2021-05-06T10:11:41.091867Z",
     "iopub.status.busy": "2021-05-06T10:11:41.091271Z",
     "iopub.status.idle": "2021-05-06T10:11:41.105488Z",
     "shell.execute_reply": "2021-05-06T10:11:41.105000Z"
    },
    "papermill": {
     "duration": 0.054866,
     "end_time": "2021-05-06T10:11:41.105617",
     "exception": false,
     "start_time": "2021-05-06T10:11:41.050751",
     "status": "completed"
    },
    "tags": []
   },
   "outputs": [],
   "source": [
    "y_train = 1*(y_train==3)\n",
    "y_test = 1*(y_test==3)"
   ]
  },
  {
   "cell_type": "code",
   "execution_count": 12,
   "id": "considered-virgin",
   "metadata": {
    "execution": {
     "iopub.execute_input": "2021-05-06T10:11:41.185009Z",
     "iopub.status.busy": "2021-05-06T10:11:41.180390Z",
     "iopub.status.idle": "2021-05-06T10:11:41.191899Z",
     "shell.execute_reply": "2021-05-06T10:11:41.191331Z"
    },
    "papermill": {
     "duration": 0.054257,
     "end_time": "2021-05-06T10:11:41.192039",
     "exception": false,
     "start_time": "2021-05-06T10:11:41.137782",
     "status": "completed"
    },
    "tags": []
   },
   "outputs": [
    {
     "data": {
      "text/plain": [
       "((11982, 28, 28), (1984, 28, 28))"
      ]
     },
     "execution_count": 12,
     "metadata": {},
     "output_type": "execute_result"
    }
   ],
   "source": [
    "X_train.shape, X_test.shape"
   ]
  },
  {
   "cell_type": "markdown",
   "id": "civilian-mobile",
   "metadata": {
    "papermill": {
     "duration": 0.039097,
     "end_time": "2021-05-06T10:11:41.264826",
     "exception": false,
     "start_time": "2021-05-06T10:11:41.225729",
     "status": "completed"
    },
    "tags": []
   },
   "source": [
    "### Reshape the input data to create a linear array"
   ]
  },
  {
   "cell_type": "code",
   "execution_count": 13,
   "id": "colonial-adams",
   "metadata": {
    "execution": {
     "iopub.execute_input": "2021-05-06T10:11:41.336133Z",
     "iopub.status.busy": "2021-05-06T10:11:41.335553Z",
     "iopub.status.idle": "2021-05-06T10:11:41.352782Z",
     "shell.execute_reply": "2021-05-06T10:11:41.352311Z"
    },
    "papermill": {
     "duration": 0.054119,
     "end_time": "2021-05-06T10:11:41.352908",
     "exception": false,
     "start_time": "2021-05-06T10:11:41.298789",
     "status": "completed"
    },
    "tags": []
   },
   "outputs": [
    {
     "data": {
      "text/plain": [
       "((11982, 784), (1984, 784))"
      ]
     },
     "execution_count": 13,
     "metadata": {},
     "output_type": "execute_result"
    }
   ],
   "source": [
    "X_train = X_train.reshape(X_train.shape[0], -1)\n",
    "X_test = X_test.reshape(X_test.shape[0], -1)\n",
    "X_train.shape, X_test.shape"
   ]
  },
  {
   "cell_type": "markdown",
   "id": "smart-details",
   "metadata": {
    "papermill": {
     "duration": 0.036945,
     "end_time": "2021-05-06T10:11:41.424764",
     "exception": false,
     "start_time": "2021-05-06T10:11:41.387819",
     "status": "completed"
    },
    "tags": []
   },
   "source": [
    "### Importing appropriate functions from 'Kudzu'"
   ]
  },
  {
   "cell_type": "code",
   "execution_count": 14,
   "id": "celtic-trial",
   "metadata": {
    "execution": {
     "iopub.execute_input": "2021-05-06T10:11:41.493886Z",
     "iopub.status.busy": "2021-05-06T10:11:41.493318Z",
     "iopub.status.idle": "2021-05-06T10:11:41.514172Z",
     "shell.execute_reply": "2021-05-06T10:11:41.514621Z"
    },
    "papermill": {
     "duration": 0.058043,
     "end_time": "2021-05-06T10:11:41.514781",
     "exception": false,
     "start_time": "2021-05-06T10:11:41.456738",
     "status": "completed"
    },
    "tags": []
   },
   "outputs": [],
   "source": [
    "from kudzu.layer import Sigmoid\n",
    "from kudzu.layer import Relu\n",
    "from kudzu.layer import Affine, Sigmoid\n",
    "\n",
    "from kudzu.model import Model\n",
    "from kudzu.train import Learner\n",
    "from kudzu.optim import GD\n",
    "from kudzu.data import Data, Dataloader, Sampler\n",
    "\n",
    "from kudzu.callbacks import AccCallback\n",
    "from kudzu.callbacks import ClfCallback\n",
    "\n",
    "from kudzu.loss import MSE"
   ]
  },
  {
   "cell_type": "markdown",
   "id": "coupled-customer",
   "metadata": {
    "papermill": {
     "duration": 0.031906,
     "end_time": "2021-05-06T10:11:41.579861",
     "exception": false,
     "start_time": "2021-05-06T10:11:41.547955",
     "status": "completed"
    },
    "tags": []
   },
   "source": [
    "### Let us create a `Config` class, to store important parameters. \n",
    "This class essentially plays the role of a dictionary."
   ]
  },
  {
   "cell_type": "code",
   "execution_count": 15,
   "id": "young-ceiling",
   "metadata": {
    "execution": {
     "iopub.execute_input": "2021-05-06T10:11:41.649771Z",
     "iopub.status.busy": "2021-05-06T10:11:41.649193Z",
     "iopub.status.idle": "2021-05-06T10:11:41.663075Z",
     "shell.execute_reply": "2021-05-06T10:11:41.663596Z"
    },
    "papermill": {
     "duration": 0.051704,
     "end_time": "2021-05-06T10:11:41.663752",
     "exception": false,
     "start_time": "2021-05-06T10:11:41.612048",
     "status": "completed"
    },
    "tags": []
   },
   "outputs": [],
   "source": [
    "class Config:\n",
    "    pass\n",
    "config = Config()\n",
    "config.lr = 0.001\n",
    "config.num_epochs = 251\n",
    "config.bs = 50"
   ]
  },
  {
   "cell_type": "markdown",
   "id": "according-mandate",
   "metadata": {
    "papermill": {
     "duration": 0.031566,
     "end_time": "2021-05-06T10:11:41.727838",
     "exception": false,
     "start_time": "2021-05-06T10:11:41.696272",
     "status": "completed"
    },
    "tags": []
   },
   "source": [
    "### Initializing data to the variables"
   ]
  },
  {
   "cell_type": "code",
   "execution_count": 16,
   "id": "academic-disposition",
   "metadata": {
    "execution": {
     "iopub.execute_input": "2021-05-06T10:11:41.797397Z",
     "iopub.status.busy": "2021-05-06T10:11:41.796825Z",
     "iopub.status.idle": "2021-05-06T10:11:41.812980Z",
     "shell.execute_reply": "2021-05-06T10:11:41.812494Z"
    },
    "papermill": {
     "duration": 0.053193,
     "end_time": "2021-05-06T10:11:41.813110",
     "exception": false,
     "start_time": "2021-05-06T10:11:41.759917",
     "status": "completed"
    },
    "tags": []
   },
   "outputs": [],
   "source": [
    "data = Data(X_train, y_train.reshape(-1,1))\n",
    "sampler = Sampler(data, config.bs, shuffle=True)\n",
    "\n",
    "dl = Dataloader(data, sampler)\n",
    "\n",
    "opt = GD(config.lr)\n",
    "loss = MSE()"
   ]
  },
  {
   "cell_type": "code",
   "execution_count": 17,
   "id": "featured-commission",
   "metadata": {
    "execution": {
     "iopub.execute_input": "2021-05-06T10:11:41.887621Z",
     "iopub.status.busy": "2021-05-06T10:11:41.887031Z",
     "iopub.status.idle": "2021-05-06T10:11:41.900755Z",
     "shell.execute_reply": "2021-05-06T10:11:41.901507Z"
    },
    "papermill": {
     "duration": 0.056421,
     "end_time": "2021-05-06T10:11:41.901708",
     "exception": false,
     "start_time": "2021-05-06T10:11:41.845287",
     "status": "completed"
    },
    "tags": []
   },
   "outputs": [],
   "source": [
    "training_xdata = X_train\n",
    "testing_xdata = X_test\n",
    "training_ydata = y_train.reshape(-1,1)\n",
    "testing_ydata = y_test.reshape(-1,1)"
   ]
  },
  {
   "cell_type": "markdown",
   "id": "played-safety",
   "metadata": {
    "papermill": {
     "duration": 0.031845,
     "end_time": "2021-05-06T10:11:41.967066",
     "exception": false,
     "start_time": "2021-05-06T10:11:41.935221",
     "status": "completed"
    },
    "tags": []
   },
   "source": [
    "### Running Models with the Training data\n",
    "Details about the network layers:\n",
    "- A first affine layer has 784 inputs and does 100 affine transforms. These are followed by a Relu\n",
    "- A second affine layer has 100 inputs from the 100 activations of the past layer, and does 100 affine transforms. These are followed by a Relu\n",
    "- A third affine layer has 100 activations and does 2 affine transformations to create an embedding for visualization. There is no non-linearity here.\n",
    "- A final \"logistic regression\" which has an affine transform from 2 inputs to 1 output, which is squeezed through a sigmoid.\n",
    "\n",
    "Help taken from Anshuman's Notebook."
   ]
  },
  {
   "cell_type": "code",
   "execution_count": 18,
   "id": "asian-bankruptcy",
   "metadata": {
    "execution": {
     "iopub.execute_input": "2021-05-06T10:11:42.038919Z",
     "iopub.status.busy": "2021-05-06T10:11:42.038172Z",
     "iopub.status.idle": "2021-05-06T10:11:42.055070Z",
     "shell.execute_reply": "2021-05-06T10:11:42.054605Z"
    },
    "papermill": {
     "duration": 0.056105,
     "end_time": "2021-05-06T10:11:42.055196",
     "exception": false,
     "start_time": "2021-05-06T10:11:41.999091",
     "status": "completed"
    },
    "tags": []
   },
   "outputs": [],
   "source": [
    "# layers for the Neural Network\n",
    "layers = [Affine(\"first\", 784, 100), Relu(\"first\"), Affine(\"second\", 100, 100), Relu(\"second\"), Affine(\"third\", 100, 2), Affine(\"final\", 2, 1), Sigmoid(\"final\")]\n",
    "model_nn = Model(layers)\n",
    "\n",
    "# layers for the Logistic Regression\n",
    "layers_lr = [Affine(\"logits\", 784, 1), Sigmoid(\"sigmoid\")]\n",
    "model_lr = Model(layers_lr)"
   ]
  },
  {
   "cell_type": "code",
   "execution_count": 19,
   "id": "removed-butler",
   "metadata": {
    "execution": {
     "iopub.execute_input": "2021-05-06T10:11:42.128735Z",
     "iopub.status.busy": "2021-05-06T10:11:42.128119Z",
     "iopub.status.idle": "2021-05-06T10:11:42.141897Z",
     "shell.execute_reply": "2021-05-06T10:11:42.141387Z"
    },
    "papermill": {
     "duration": 0.052617,
     "end_time": "2021-05-06T10:11:42.142246",
     "exception": false,
     "start_time": "2021-05-06T10:11:42.089629",
     "status": "completed"
    },
    "tags": []
   },
   "outputs": [],
   "source": [
    "# suffix _nn stands for Neural Network.\n",
    "learner_nn = Learner(loss, model_nn, opt, config.num_epochs)\n",
    "acc_nn = ClfCallback(learner_nn, config.bs, training_xdata , testing_xdata, training_ydata, testing_ydata)\n",
    "learner_nn.set_callbacks([acc_nn])"
   ]
  },
  {
   "cell_type": "code",
   "execution_count": 20,
   "id": "conceptual-throw",
   "metadata": {
    "execution": {
     "iopub.execute_input": "2021-05-06T10:11:42.212734Z",
     "iopub.status.busy": "2021-05-06T10:11:42.212128Z",
     "iopub.status.idle": "2021-05-06T10:13:11.527933Z",
     "shell.execute_reply": "2021-05-06T10:13:11.528683Z"
    },
    "papermill": {
     "duration": 89.352269,
     "end_time": "2021-05-06T10:13:11.528835",
     "exception": false,
     "start_time": "2021-05-06T10:11:42.176566",
     "status": "completed"
    },
    "tags": []
   },
   "outputs": [
    {
     "name": "stdout",
     "output_type": "stream",
     "text": [
      "====== Neural Network ======\n"
     ]
    },
    {
     "name": "stdout",
     "output_type": "stream",
     "text": [
      "Epoch 0, Loss 0.217\n",
      "Training Accuracy: 0.8020, Testing Accuracy: 0.8347\n",
      "\n"
     ]
    },
    {
     "name": "stdout",
     "output_type": "stream",
     "text": [
      "Epoch 10, Loss 0.057\n",
      "Training Accuracy: 0.9402, Testing Accuracy: 0.9531\n",
      "\n"
     ]
    },
    {
     "name": "stdout",
     "output_type": "stream",
     "text": [
      "Epoch 20, Loss 0.0409\n",
      "Training Accuracy: 0.9546, Testing Accuracy: 0.9612\n",
      "\n"
     ]
    },
    {
     "name": "stdout",
     "output_type": "stream",
     "text": [
      "Epoch 30, Loss 0.0343\n",
      "Training Accuracy: 0.9622, Testing Accuracy: 0.9672\n",
      "\n"
     ]
    },
    {
     "name": "stdout",
     "output_type": "stream",
     "text": [
      "Epoch 40, Loss 0.0306\n",
      "Training Accuracy: 0.9661, Testing Accuracy: 0.9693\n",
      "\n"
     ]
    },
    {
     "name": "stdout",
     "output_type": "stream",
     "text": [
      "Epoch 50, Loss 0.0282\n",
      "Training Accuracy: 0.9689, Testing Accuracy: 0.9693\n",
      "\n"
     ]
    },
    {
     "name": "stdout",
     "output_type": "stream",
     "text": [
      "Epoch 60, Loss 0.0264\n",
      "Training Accuracy: 0.9709, Testing Accuracy: 0.9708\n",
      "\n"
     ]
    },
    {
     "name": "stdout",
     "output_type": "stream",
     "text": [
      "Epoch 70, Loss 0.025\n",
      "Training Accuracy: 0.9726, Testing Accuracy: 0.9708\n",
      "\n"
     ]
    },
    {
     "name": "stdout",
     "output_type": "stream",
     "text": [
      "Epoch 80, Loss 0.0239\n",
      "Training Accuracy: 0.9743, Testing Accuracy: 0.9718\n",
      "\n"
     ]
    },
    {
     "name": "stdout",
     "output_type": "stream",
     "text": [
      "Epoch 90, Loss 0.0229\n",
      "Training Accuracy: 0.9750, Testing Accuracy: 0.9733\n",
      "\n"
     ]
    },
    {
     "name": "stdout",
     "output_type": "stream",
     "text": [
      "Epoch 100, Loss 0.0221\n",
      "Training Accuracy: 0.9761, Testing Accuracy: 0.9738\n",
      "\n"
     ]
    },
    {
     "name": "stdout",
     "output_type": "stream",
     "text": [
      "Epoch 110, Loss 0.0213\n",
      "Training Accuracy: 0.9768, Testing Accuracy: 0.9738\n",
      "\n"
     ]
    },
    {
     "name": "stdout",
     "output_type": "stream",
     "text": [
      "Epoch 120, Loss 0.0206\n",
      "Training Accuracy: 0.9778, Testing Accuracy: 0.9743\n",
      "\n"
     ]
    },
    {
     "name": "stdout",
     "output_type": "stream",
     "text": [
      "Epoch 130, Loss 0.02\n",
      "Training Accuracy: 0.9781, Testing Accuracy: 0.9748\n",
      "\n"
     ]
    },
    {
     "name": "stdout",
     "output_type": "stream",
     "text": [
      "Epoch 140, Loss 0.0194\n",
      "Training Accuracy: 0.9789, Testing Accuracy: 0.9753\n",
      "\n"
     ]
    },
    {
     "name": "stdout",
     "output_type": "stream",
     "text": [
      "Epoch 150, Loss 0.0188\n",
      "Training Accuracy: 0.9799, Testing Accuracy: 0.9753\n",
      "\n"
     ]
    },
    {
     "name": "stdout",
     "output_type": "stream",
     "text": [
      "Epoch 160, Loss 0.0183\n",
      "Training Accuracy: 0.9806, Testing Accuracy: 0.9758\n",
      "\n"
     ]
    },
    {
     "name": "stdout",
     "output_type": "stream",
     "text": [
      "Epoch 170, Loss 0.0178\n",
      "Training Accuracy: 0.9811, Testing Accuracy: 0.9758\n",
      "\n"
     ]
    },
    {
     "name": "stdout",
     "output_type": "stream",
     "text": [
      "Epoch 180, Loss 0.0174\n",
      "Training Accuracy: 0.9815, Testing Accuracy: 0.9758\n",
      "\n"
     ]
    },
    {
     "name": "stdout",
     "output_type": "stream",
     "text": [
      "Epoch 190, Loss 0.0169\n",
      "Training Accuracy: 0.9821, Testing Accuracy: 0.9758\n",
      "\n"
     ]
    },
    {
     "name": "stdout",
     "output_type": "stream",
     "text": [
      "Epoch 200, Loss 0.0165\n",
      "Training Accuracy: 0.9827, Testing Accuracy: 0.9763\n",
      "\n"
     ]
    },
    {
     "name": "stdout",
     "output_type": "stream",
     "text": [
      "Epoch 210, Loss 0.0161\n",
      "Training Accuracy: 0.9831, Testing Accuracy: 0.9763\n",
      "\n"
     ]
    },
    {
     "name": "stdout",
     "output_type": "stream",
     "text": [
      "Epoch 220, Loss 0.0157\n",
      "Training Accuracy: 0.9836, Testing Accuracy: 0.9758\n",
      "\n"
     ]
    },
    {
     "name": "stdout",
     "output_type": "stream",
     "text": [
      "Epoch 230, Loss 0.0153\n",
      "Training Accuracy: 0.9841, Testing Accuracy: 0.9758\n",
      "\n"
     ]
    },
    {
     "name": "stdout",
     "output_type": "stream",
     "text": [
      "Epoch 240, Loss 0.0149\n",
      "Training Accuracy: 0.9844, Testing Accuracy: 0.9753\n",
      "\n"
     ]
    },
    {
     "name": "stdout",
     "output_type": "stream",
     "text": [
      "Epoch 250, Loss 0.0146\n",
      "Training Accuracy: 0.9850, Testing Accuracy: 0.9763\n",
      "\n"
     ]
    },
    {
     "data": {
      "text/plain": [
       "0.023247642436273135"
      ]
     },
     "execution_count": 20,
     "metadata": {},
     "output_type": "execute_result"
    }
   ],
   "source": [
    "print(\"====== Neural Network ======\")\n",
    "learner_nn.train_loop(dl)"
   ]
  },
  {
   "cell_type": "markdown",
   "id": "competent-suffering",
   "metadata": {
    "papermill": {
     "duration": 0.039934,
     "end_time": "2021-05-06T10:13:11.609512",
     "exception": false,
     "start_time": "2021-05-06T10:13:11.569578",
     "status": "completed"
    },
    "tags": []
   },
   "source": [
    "### Logistic Regression based Implementation."
   ]
  },
  {
   "cell_type": "code",
   "execution_count": 21,
   "id": "qualified-psychiatry",
   "metadata": {
    "execution": {
     "iopub.execute_input": "2021-05-06T10:13:11.698761Z",
     "iopub.status.busy": "2021-05-06T10:13:11.696797Z",
     "iopub.status.idle": "2021-05-06T10:13:11.709232Z",
     "shell.execute_reply": "2021-05-06T10:13:11.709668Z"
    },
    "papermill": {
     "duration": 0.060623,
     "end_time": "2021-05-06T10:13:11.709819",
     "exception": false,
     "start_time": "2021-05-06T10:13:11.649196",
     "status": "completed"
    },
    "tags": []
   },
   "outputs": [],
   "source": [
    "learner_lr = Learner(loss, model_lr, opt, config.num_epochs)\n",
    "acc_lr = ClfCallback(learner_lr, config.bs, training_xdata , testing_xdata, training_ydata, testing_ydata)\n",
    "learner_lr.set_callbacks([acc_lr])"
   ]
  },
  {
   "cell_type": "code",
   "execution_count": 22,
   "id": "average-outside",
   "metadata": {
    "execution": {
     "iopub.execute_input": "2021-05-06T10:13:11.801542Z",
     "iopub.status.busy": "2021-05-06T10:13:11.800949Z",
     "iopub.status.idle": "2021-05-06T10:13:27.288301Z",
     "shell.execute_reply": "2021-05-06T10:13:27.288770Z"
    },
    "papermill": {
     "duration": 15.538863,
     "end_time": "2021-05-06T10:13:27.288919",
     "exception": false,
     "start_time": "2021-05-06T10:13:11.750056",
     "status": "completed"
    },
    "tags": []
   },
   "outputs": [
    {
     "name": "stdout",
     "output_type": "stream",
     "text": [
      "====== Logistic Regression ======\n",
      "Epoch 0, Loss 0.1916\n",
      "Training Accuracy: 0.8240, Testing Accuracy: 0.8256\n",
      "\n"
     ]
    },
    {
     "name": "stdout",
     "output_type": "stream",
     "text": [
      "Epoch 10, Loss 0.0969\n",
      "Training Accuracy: 0.9105, Testing Accuracy: 0.9163\n",
      "\n"
     ]
    },
    {
     "name": "stdout",
     "output_type": "stream",
     "text": [
      "Epoch 20, Loss 0.0768\n",
      "Training Accuracy: 0.9262, Testing Accuracy: 0.9345\n",
      "\n"
     ]
    },
    {
     "name": "stdout",
     "output_type": "stream",
     "text": [
      "Epoch 30, Loss 0.067\n",
      "Training Accuracy: 0.9348, Testing Accuracy: 0.9420\n",
      "\n"
     ]
    },
    {
     "name": "stdout",
     "output_type": "stream",
     "text": [
      "Epoch 40, Loss 0.0609\n",
      "Training Accuracy: 0.9399, Testing Accuracy: 0.9501\n",
      "\n"
     ]
    },
    {
     "name": "stdout",
     "output_type": "stream",
     "text": [
      "Epoch 50, Loss 0.0567\n",
      "Training Accuracy: 0.9439, Testing Accuracy: 0.9521\n",
      "\n"
     ]
    },
    {
     "name": "stdout",
     "output_type": "stream",
     "text": [
      "Epoch 60, Loss 0.0535\n",
      "Training Accuracy: 0.9464, Testing Accuracy: 0.9551\n",
      "\n"
     ]
    },
    {
     "name": "stdout",
     "output_type": "stream",
     "text": [
      "Epoch 70, Loss 0.0511\n",
      "Training Accuracy: 0.9491, Testing Accuracy: 0.9572\n",
      "\n"
     ]
    },
    {
     "name": "stdout",
     "output_type": "stream",
     "text": [
      "Epoch 80, Loss 0.0491\n",
      "Training Accuracy: 0.9512, Testing Accuracy: 0.9602\n",
      "\n"
     ]
    },
    {
     "name": "stdout",
     "output_type": "stream",
     "text": [
      "Epoch 90, Loss 0.0474\n",
      "Training Accuracy: 0.9519, Testing Accuracy: 0.9612\n",
      "\n"
     ]
    },
    {
     "name": "stdout",
     "output_type": "stream",
     "text": [
      "Epoch 100, Loss 0.046\n",
      "Training Accuracy: 0.9534, Testing Accuracy: 0.9622\n",
      "\n"
     ]
    },
    {
     "name": "stdout",
     "output_type": "stream",
     "text": [
      "Epoch 110, Loss 0.0448\n",
      "Training Accuracy: 0.9539, Testing Accuracy: 0.9632\n",
      "\n"
     ]
    },
    {
     "name": "stdout",
     "output_type": "stream",
     "text": [
      "Epoch 120, Loss 0.0438\n",
      "Training Accuracy: 0.9548, Testing Accuracy: 0.9642\n",
      "\n"
     ]
    },
    {
     "name": "stdout",
     "output_type": "stream",
     "text": [
      "Epoch 130, Loss 0.0429\n",
      "Training Accuracy: 0.9552, Testing Accuracy: 0.9647\n",
      "\n"
     ]
    },
    {
     "name": "stdout",
     "output_type": "stream",
     "text": [
      "Epoch 140, Loss 0.0421\n",
      "Training Accuracy: 0.9563, Testing Accuracy: 0.9652\n",
      "\n"
     ]
    },
    {
     "name": "stdout",
     "output_type": "stream",
     "text": [
      "Epoch 150, Loss 0.0413\n",
      "Training Accuracy: 0.9571, Testing Accuracy: 0.9647\n",
      "\n"
     ]
    },
    {
     "name": "stdout",
     "output_type": "stream",
     "text": [
      "Epoch 160, Loss 0.0407\n",
      "Training Accuracy: 0.9578, Testing Accuracy: 0.9647\n",
      "\n"
     ]
    },
    {
     "name": "stdout",
     "output_type": "stream",
     "text": [
      "Epoch 170, Loss 0.0401\n",
      "Training Accuracy: 0.9583, Testing Accuracy: 0.9652\n",
      "\n"
     ]
    },
    {
     "name": "stdout",
     "output_type": "stream",
     "text": [
      "Epoch 180, Loss 0.0395\n",
      "Training Accuracy: 0.9586, Testing Accuracy: 0.9662\n",
      "\n"
     ]
    },
    {
     "name": "stdout",
     "output_type": "stream",
     "text": [
      "Epoch 190, Loss 0.039\n",
      "Training Accuracy: 0.9589, Testing Accuracy: 0.9667\n",
      "\n"
     ]
    },
    {
     "name": "stdout",
     "output_type": "stream",
     "text": [
      "Epoch 200, Loss 0.0385\n",
      "Training Accuracy: 0.9594, Testing Accuracy: 0.9672\n",
      "\n"
     ]
    },
    {
     "name": "stdout",
     "output_type": "stream",
     "text": [
      "Epoch 210, Loss 0.0381\n",
      "Training Accuracy: 0.9600, Testing Accuracy: 0.9677\n",
      "\n"
     ]
    },
    {
     "name": "stdout",
     "output_type": "stream",
     "text": [
      "Epoch 220, Loss 0.0377\n",
      "Training Accuracy: 0.9600, Testing Accuracy: 0.9677\n",
      "\n"
     ]
    },
    {
     "name": "stdout",
     "output_type": "stream",
     "text": [
      "Epoch 230, Loss 0.0373\n",
      "Training Accuracy: 0.9601, Testing Accuracy: 0.9672\n",
      "\n"
     ]
    },
    {
     "name": "stdout",
     "output_type": "stream",
     "text": [
      "Epoch 240, Loss 0.0369\n",
      "Training Accuracy: 0.9605, Testing Accuracy: 0.9672\n",
      "\n"
     ]
    },
    {
     "name": "stdout",
     "output_type": "stream",
     "text": [
      "Epoch 250, Loss 0.0366\n",
      "Training Accuracy: 0.9609, Testing Accuracy: 0.9672\n",
      "\n"
     ]
    },
    {
     "data": {
      "text/plain": [
       "0.062196193493107205"
      ]
     },
     "execution_count": 22,
     "metadata": {},
     "output_type": "execute_result"
    }
   ],
   "source": [
    "print(\"====== Logistic Regression ======\")\n",
    "learner_lr.train_loop(dl)"
   ]
  },
  {
   "cell_type": "markdown",
   "id": "adjusted-possible",
   "metadata": {
    "papermill": {
     "duration": 0.047233,
     "end_time": "2021-05-06T10:13:27.383853",
     "exception": false,
     "start_time": "2021-05-06T10:13:27.336620",
     "status": "completed"
    },
    "tags": []
   },
   "source": [
    "### Comparing results of NN and LR"
   ]
  },
  {
   "cell_type": "code",
   "execution_count": 23,
   "id": "mental-multimedia",
   "metadata": {
    "execution": {
     "iopub.execute_input": "2021-05-06T10:13:27.485335Z",
     "iopub.status.busy": "2021-05-06T10:13:27.484652Z",
     "iopub.status.idle": "2021-05-06T10:13:27.734358Z",
     "shell.execute_reply": "2021-05-06T10:13:27.733856Z"
    },
    "papermill": {
     "duration": 0.303379,
     "end_time": "2021-05-06T10:13:27.734485",
     "exception": false,
     "start_time": "2021-05-06T10:13:27.431106",
     "status": "completed"
    },
    "tags": []
   },
   "outputs": [
    {
     "data": {
      "text/plain": [
       "<matplotlib.legend.Legend at 0x7f63a51b1198>"
      ]
     },
     "execution_count": 23,
     "metadata": {},
     "output_type": "execute_result"
    },
    {
     "data": {
      "image/png": "[encoded data removed]",
      "text/plain": [
       "<Figure size 1080x720 with 1 Axes>"
      ]
     },
     "metadata": {
      "needs_background": "light"
     },
     "output_type": "display_data"
    }
   ],
   "source": [
    "plt.figure(figsize=(15,10))\n",
    "\n",
    "# Neural Network plots\n",
    "plt.plot(acc_nn.accuracies, 'r-', label = \"Training Accuracies - NN\")\n",
    "plt.plot(acc_nn.test_accuracies, 'g-', label = \"Testing Accuracies - NN\")\n",
    "\n",
    "# Logistic Regression plots\n",
    "plt.plot(acc_lr.accuracies, 'k-', label = \"Training Accuracies - LR\")\n",
    "plt.plot(acc_lr.test_accuracies, 'b-', label = \"Testing Accuracies - LR\")\n",
    "\n",
    "plt.ylim(0.8, 1)\n",
    "\n",
    "plt.legend()\n",
    "\n"
   ]
  },
  {
   "cell_type": "markdown",
   "id": "sexual-flesh",
   "metadata": {
    "papermill": {
     "duration": 0.04936,
     "end_time": "2021-05-06T10:13:27.833821",
     "exception": false,
     "start_time": "2021-05-06T10:13:27.784461",
     "status": "completed"
    },
    "tags": []
   },
   "source": [
    "### From the plot, we can observe the following:\n",
    "- Neural Network achieves higher accuracy than the Logistic Regression model.\n",
    "- This apparently, is because of overfitting, i.e. NN captures more noise than data.\n",
    "- Testing accuracy of NN drops below the Training accuracy at higher epochs. This explains the over-fitting on training data.\n",
    "- Logistic Regression gives a reliable accuracy, without the above mentioned problem.\n"
   ]
  },
  {
   "cell_type": "markdown",
   "id": "institutional-pacific",
   "metadata": {
    "papermill": {
     "duration": 0.049189,
     "end_time": "2021-05-06T10:13:27.932468",
     "exception": false,
     "start_time": "2021-05-06T10:13:27.883279",
     "status": "completed"
    },
    "tags": []
   },
   "source": [
    "### Moving till the last but one layer (excluding it).\n",
    "#### Plotting the outputs of this layer of the NN."
   ]
  },
  {
   "cell_type": "code",
   "execution_count": 24,
   "id": "economic-server",
   "metadata": {
    "execution": {
     "iopub.execute_input": "2021-05-06T10:13:28.039630Z",
     "iopub.status.busy": "2021-05-06T10:13:28.038284Z",
     "iopub.status.idle": "2021-05-06T10:13:28.050898Z",
     "shell.execute_reply": "2021-05-06T10:13:28.050403Z"
    },
    "papermill": {
     "duration": 0.068962,
     "end_time": "2021-05-06T10:13:28.051024",
     "exception": false,
     "start_time": "2021-05-06T10:13:27.982062",
     "status": "completed"
    },
    "tags": []
   },
   "outputs": [],
   "source": [
    "model_new = Model(layers[:-2])"
   ]
  },
  {
   "cell_type": "code",
   "execution_count": 25,
   "id": "varied-upgrade",
   "metadata": {
    "execution": {
     "iopub.execute_input": "2021-05-06T10:13:28.155615Z",
     "iopub.status.busy": "2021-05-06T10:13:28.155041Z",
     "iopub.status.idle": "2021-05-06T10:13:28.177498Z",
     "shell.execute_reply": "2021-05-06T10:13:28.177981Z"
    },
    "papermill": {
     "duration": 0.077284,
     "end_time": "2021-05-06T10:13:28.178132",
     "exception": false,
     "start_time": "2021-05-06T10:13:28.100848",
     "status": "completed"
    },
    "tags": []
   },
   "outputs": [],
   "source": [
    "plot_testing = model_new(testing_xdata)"
   ]
  },
  {
   "cell_type": "code",
   "execution_count": 26,
   "id": "specific-handling",
   "metadata": {
    "execution": {
     "iopub.execute_input": "2021-05-06T10:13:28.317499Z",
     "iopub.status.busy": "2021-05-06T10:13:28.316903Z",
     "iopub.status.idle": "2021-05-06T10:13:28.519079Z",
     "shell.execute_reply": "2021-05-06T10:13:28.518543Z"
    },
    "papermill": {
     "duration": 0.291144,
     "end_time": "2021-05-06T10:13:28.519209",
     "exception": false,
     "start_time": "2021-05-06T10:13:28.228065",
     "status": "completed"
    },
    "tags": []
   },
   "outputs": [
    {
     "data": {
      "text/plain": [
       "Text(0.5, 1.0, 'Outputs')"
      ]
     },
     "execution_count": 26,
     "metadata": {},
     "output_type": "execute_result"
    },
    {
     "data": {
      "image/png": "[encoded data removed]",
      "text/plain": [
       "<Figure size 576x504 with 1 Axes>"
      ]
     },
     "metadata": {
      "needs_background": "light"
     },
     "output_type": "display_data"
    }
   ],
   "source": [
    "plt.figure(figsize=(8,7))\n",
    "plt.scatter(plot_testing[:,0], plot_testing[:,1], alpha = 0.1, c = y_test.ravel());\n",
    "plt.title('Outputs')"
   ]
  },
  {
   "cell_type": "markdown",
   "id": "described-knowing",
   "metadata": {
    "papermill": {
     "duration": 0.05324,
     "end_time": "2021-05-06T10:13:28.626590",
     "exception": false,
     "start_time": "2021-05-06T10:13:28.573350",
     "status": "completed"
    },
    "tags": []
   },
   "source": [
    "### Plotting probability contours"
   ]
  },
  {
   "cell_type": "code",
   "execution_count": 27,
   "id": "needed-growing",
   "metadata": {
    "execution": {
     "iopub.execute_input": "2021-05-06T10:13:28.747705Z",
     "iopub.status.busy": "2021-05-06T10:13:28.747137Z",
     "iopub.status.idle": "2021-05-06T10:13:28.762355Z",
     "shell.execute_reply": "2021-05-06T10:13:28.762816Z"
    },
    "papermill": {
     "duration": 0.075086,
     "end_time": "2021-05-06T10:13:28.762969",
     "exception": false,
     "start_time": "2021-05-06T10:13:28.687883",
     "status": "completed"
    },
    "tags": []
   },
   "outputs": [],
   "source": [
    "model_prob = Model(layers[-2:]) "
   ]
  },
  {
   "cell_type": "code",
   "execution_count": 28,
   "id": "introductory-enforcement",
   "metadata": {
    "execution": {
     "iopub.execute_input": "2021-05-06T10:13:28.878937Z",
     "iopub.status.busy": "2021-05-06T10:13:28.878337Z",
     "iopub.status.idle": "2021-05-06T10:13:28.895446Z",
     "shell.execute_reply": "2021-05-06T10:13:28.896269Z"
    },
    "papermill": {
     "duration": 0.079309,
     "end_time": "2021-05-06T10:13:28.896519",
     "exception": false,
     "start_time": "2021-05-06T10:13:28.817210",
     "status": "completed"
    },
    "tags": []
   },
   "outputs": [],
   "source": [
    "# Adjust the x and y ranges according to the above generated plot.\n",
    "x_range = np.linspace(-4, 1, 100) \n",
    "y_range = np.linspace(-6, 6, 100) \n",
    "x_grid, y_grid = np.meshgrid(x_range, y_range) # x_grid and y_grig are of size 100 X 100\n",
    "\n",
    "# converting x_grid and y_grid to continuous arrays\n",
    "x_grid_flat = np.ravel(x_grid)\n",
    "y_grid_flat = np.ravel(y_grid)\n",
    "\n",
    "# The last layer of the current model takes two columns as input. Hence transpose of np.vstack() is required.\n",
    "X = np.vstack((x_grid_flat, y_grid_flat)).T\n",
    "\n",
    "# x_grid and y_grid are of size 100 x 100\n",
    "probability_contour = model_prob(X).reshape(100,100) "
   ]
  },
  {
   "cell_type": "code",
   "execution_count": 29,
   "id": "understood-landing",
   "metadata": {
    "execution": {
     "iopub.execute_input": "2021-05-06T10:13:29.008858Z",
     "iopub.status.busy": "2021-05-06T10:13:29.008132Z",
     "iopub.status.idle": "2021-05-06T10:13:29.270832Z",
     "shell.execute_reply": "2021-05-06T10:13:29.270308Z"
    },
    "papermill": {
     "duration": 0.32108,
     "end_time": "2021-05-06T10:13:29.270964",
     "exception": false,
     "start_time": "2021-05-06T10:13:28.949884",
     "status": "completed"
    },
    "tags": []
   },
   "outputs": [
    {
     "data": {
      "image/png": "[encoded data removed]",
      "text/plain": [
       "<Figure size 720x648 with 1 Axes>"
      ]
     },
     "metadata": {
      "needs_background": "light"
     },
     "output_type": "display_data"
    }
   ],
   "source": [
    "plt.figure(figsize=(10,9))\n",
    "plt.scatter(plot_testing[:,0], plot_testing[:,1], alpha = 0.1, c = y_test.ravel())\n",
    "contours = plt.contour(x_grid,y_grid,probability_contour)\n",
    "plt.title('Probability Contours')\n",
    "plt.clabel(contours, inline = True );"
   ]
  }
 ],
 "metadata": {
  "kernelspec": {
   "display_name": "Python 3",
   "language": "python",
   "name": "python3"
  },
  "language_info": {
   "codemirror_mode": {
    "name": "ipython",
    "version": 3
   },
   "file_extension": ".py",
   "mimetype": "text/x-python",
   "name": "python",
   "nbconvert_exporter": "python",
   "pygments_lexer": "ipython3",
   "version": "3.6.13"
  },
  "papermill": {
   "duration": 465.512905,
   "end_time": "2021-05-06T10:13:30.688889",
   "environment_variables": {},
   "exception": null,
   "input_path": "2020-08-11-NeuralNetwork.ipynb",
   "output_path": "2020-08-11-NeuralNetwork.ipynb",
   "parameters": {},
   "start_time": "2021-05-06T10:05:45.175984",
   "version": "2.1.2"
  }
 },
 "nbformat": 4,
 "nbformat_minor": 5
}