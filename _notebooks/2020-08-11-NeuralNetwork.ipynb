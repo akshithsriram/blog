{
 "cells": [
  {
   "cell_type": "markdown",
   "id": "fitted-suggestion",
   "metadata": {
    "papermill": {
     "duration": 0.031518,
     "end_time": "2021-06-18T20:04:28.553170",
     "exception": false,
     "start_time": "2021-06-18T20:04:28.521652",
     "status": "completed"
    },
    "tags": []
   },
   "source": [
    "# \"A Basic Neural Network: Differentiate Hand-Written Digits\"\n",
    "\n",
    "- badges: true\n",
    "- author: Akshith Sriram"
   ]
  },
  {
   "cell_type": "markdown",
   "id": "signal-flexibility",
   "metadata": {
    "papermill": {
     "duration": 0.024533,
     "end_time": "2021-06-18T20:04:28.604686",
     "exception": false,
     "start_time": "2021-06-18T20:04:28.580153",
     "status": "completed"
    },
    "tags": []
   },
   "source": [
    "### Key Objectives:\n",
    "- Building a neural network that differentiates two hand-written digits 3 and 8.\n",
    "- Comparing the results of this Neural Network (NN) to that of a Logistic Regression (LR) model.\n",
    "\n",
    "### Requirements:\n",
    "- 'Kudzu' : A neural network library that was designed during our course by [Univ.AI](www.univ.ai). \n",
    "- MNIST Database\n",
    "\n",
    "If MNIST is not installed, use the command `!pip install mnist` given below.\n",
    "It can be run both from the command line and Jupyter Notebook."
   ]
  },
  {
   "cell_type": "code",
   "execution_count": 1,
   "id": "british-texture",
   "metadata": {
    "execution": {
     "iopub.execute_input": "2021-06-18T20:04:28.665343Z",
     "iopub.status.busy": "2021-06-18T20:04:28.664743Z",
     "iopub.status.idle": "2021-06-18T20:04:30.009748Z",
     "shell.execute_reply": "2021-06-18T20:04:30.008659Z"
    },
    "papermill": {
     "duration": 1.382873,
     "end_time": "2021-06-18T20:04:30.009976",
     "exception": false,
     "start_time": "2021-06-18T20:04:28.627103",
     "status": "completed"
    },
    "tags": []
   },
   "outputs": [
    {
     "name": "stdout",
     "output_type": "stream",
     "text": [
      "Collecting mnist\r\n"
     ]
    },
    {
     "name": "stdout",
     "output_type": "stream",
     "text": [
      "  Downloading mnist-0.2.2-py2.py3-none-any.whl (3.5 kB)\r\n",
      "Requirement already satisfied: numpy in /opt/hostedtoolcache/Python/3.6.13/x64/lib/python3.6/site-packages (from mnist) (1.19.5)\r\n"
     ]
    },
    {
     "name": "stdout",
     "output_type": "stream",
     "text": [
      "Installing collected packages: mnist\r\n",
      "Successfully installed mnist-0.2.2\r\n"
     ]
    }
   ],
   "source": [
    "!pip install mnist "
   ]
  },
  {
   "cell_type": "markdown",
   "id": "stunning-extra",
   "metadata": {
    "papermill": {
     "duration": 0.024767,
     "end_time": "2021-06-18T20:04:30.061365",
     "exception": false,
     "start_time": "2021-06-18T20:04:30.036598",
     "status": "completed"
    },
    "tags": []
   },
   "source": [
    "#### Importing necessary libraries"
   ]
  },
  {
   "cell_type": "code",
   "execution_count": 2,
   "id": "wooden-france",
   "metadata": {
    "execution": {
     "iopub.execute_input": "2021-06-18T20:04:30.119457Z",
     "iopub.status.busy": "2021-06-18T20:04:30.118395Z",
     "iopub.status.idle": "2021-06-18T20:04:30.633045Z",
     "shell.execute_reply": "2021-06-18T20:04:30.632081Z"
    },
    "papermill": {
     "duration": 0.545764,
     "end_time": "2021-06-18T20:04:30.633172",
     "exception": false,
     "start_time": "2021-06-18T20:04:30.087408",
     "status": "completed"
    },
    "tags": []
   },
   "outputs": [],
   "source": [
    "%load_ext autoreload\n",
    "%autoreload 2\n",
    "\n",
    "%matplotlib inline\n",
    "import matplotlib.pyplot as plt\n",
    "\n",
    "import numpy as np\n",
    "import pandas as pd"
   ]
  },
  {
   "cell_type": "markdown",
   "id": "stunning-physics",
   "metadata": {
    "papermill": {
     "duration": 0.027213,
     "end_time": "2021-06-18T20:04:30.688470",
     "exception": false,
     "start_time": "2021-06-18T20:04:30.661257",
     "status": "completed"
    },
    "tags": []
   },
   "source": [
    "### Preparing the Data"
   ]
  },
  {
   "cell_type": "code",
   "execution_count": 3,
   "id": "unauthorized-remainder",
   "metadata": {
    "execution": {
     "iopub.execute_input": "2021-06-18T20:04:30.746808Z",
     "iopub.status.busy": "2021-06-18T20:04:30.746048Z",
     "iopub.status.idle": "2021-06-18T20:04:30.757345Z",
     "shell.execute_reply": "2021-06-18T20:04:30.756873Z"
    },
    "papermill": {
     "duration": 0.042061,
     "end_time": "2021-06-18T20:04:30.757463",
     "exception": false,
     "start_time": "2021-06-18T20:04:30.715402",
     "status": "completed"
    },
    "tags": []
   },
   "outputs": [],
   "source": [
    "import mnist"
   ]
  },
  {
   "cell_type": "code",
   "execution_count": 4,
   "id": "correct-antarctica",
   "metadata": {
    "execution": {
     "iopub.execute_input": "2021-06-18T20:04:30.814711Z",
     "iopub.status.busy": "2021-06-18T20:04:30.814181Z",
     "iopub.status.idle": "2021-06-18T20:09:30.135829Z",
     "shell.execute_reply": "2021-06-18T20:09:30.134748Z"
    },
    "papermill": {
     "duration": 299.350819,
     "end_time": "2021-06-18T20:09:30.135976",
     "exception": false,
     "start_time": "2021-06-18T20:04:30.785157",
     "status": "completed"
    },
    "tags": []
   },
   "outputs": [],
   "source": [
    "train_images = mnist.train_images()\n",
    "train_labels = mnist.train_labels()"
   ]
  },
  {
   "cell_type": "code",
   "execution_count": 5,
   "id": "musical-prospect",
   "metadata": {
    "execution": {
     "iopub.execute_input": "2021-06-18T20:09:30.196512Z",
     "iopub.status.busy": "2021-06-18T20:09:30.194258Z",
     "iopub.status.idle": "2021-06-18T20:09:30.209296Z",
     "shell.execute_reply": "2021-06-18T20:09:30.208897Z"
    },
    "papermill": {
     "duration": 0.0469,
     "end_time": "2021-06-18T20:09:30.209394",
     "exception": false,
     "start_time": "2021-06-18T20:09:30.162494",
     "status": "completed"
    },
    "tags": []
   },
   "outputs": [
    {
     "data": {
      "text/plain": [
       "((60000, 28, 28), (60000,))"
      ]
     },
     "execution_count": 5,
     "metadata": {},
     "output_type": "execute_result"
    }
   ],
   "source": [
    "train_images.shape, train_labels.shape"
   ]
  },
  {
   "cell_type": "code",
   "execution_count": 6,
   "id": "preliminary-elizabeth",
   "metadata": {
    "execution": {
     "iopub.execute_input": "2021-06-18T20:09:30.267280Z",
     "iopub.status.busy": "2021-06-18T20:09:30.266728Z",
     "iopub.status.idle": "2021-06-18T20:10:19.752709Z",
     "shell.execute_reply": "2021-06-18T20:10:19.751945Z"
    },
    "papermill": {
     "duration": 49.517259,
     "end_time": "2021-06-18T20:10:19.752887",
     "exception": false,
     "start_time": "2021-06-18T20:09:30.235628",
     "status": "completed"
    },
    "tags": []
   },
   "outputs": [],
   "source": [
    "test_images = mnist.test_images()\n",
    "test_labels = mnist.test_labels()"
   ]
  },
  {
   "cell_type": "code",
   "execution_count": 7,
   "id": "acknowledged-oxygen",
   "metadata": {
    "execution": {
     "iopub.execute_input": "2021-06-18T20:10:19.813706Z",
     "iopub.status.busy": "2021-06-18T20:10:19.813166Z",
     "iopub.status.idle": "2021-06-18T20:10:19.827111Z",
     "shell.execute_reply": "2021-06-18T20:10:19.826645Z"
    },
    "papermill": {
     "duration": 0.045166,
     "end_time": "2021-06-18T20:10:19.827207",
     "exception": false,
     "start_time": "2021-06-18T20:10:19.782041",
     "status": "completed"
    },
    "tags": []
   },
   "outputs": [
    {
     "data": {
      "text/plain": [
       "((10000, 28, 28), (10000,))"
      ]
     },
     "execution_count": 7,
     "metadata": {},
     "output_type": "execute_result"
    }
   ],
   "source": [
    "test_images.shape, test_labels.shape"
   ]
  },
  {
   "cell_type": "code",
   "execution_count": 8,
   "id": "innovative-organic",
   "metadata": {
    "execution": {
     "iopub.execute_input": "2021-06-18T20:10:19.891733Z",
     "iopub.status.busy": "2021-06-18T20:10:19.886109Z",
     "iopub.status.idle": "2021-06-18T20:10:20.024562Z",
     "shell.execute_reply": "2021-06-18T20:10:20.024159Z"
    },
    "papermill": {
     "duration": 0.171606,
     "end_time": "2021-06-18T20:10:20.024673",
     "exception": false,
     "start_time": "2021-06-18T20:10:19.853067",
     "status": "completed"
    },
    "tags": []
   },
   "outputs": [
    {
     "name": "stdout",
     "output_type": "stream",
     "text": [
      "2\n"
     ]
    },
    {
     "data": {
      "text/plain": [
       "<matplotlib.image.AxesImage at 0x7fb5c3cde860>"
      ]
     },
     "execution_count": 8,
     "metadata": {},
     "output_type": "execute_result"
    },
    {
     "data": {
      "image/png": "[encoded data removed]",
      "text/plain": [
       "<Figure size 432x288 with 1 Axes>"
      ]
     },
     "metadata": {
      "needs_background": "light"
     },
     "output_type": "display_data"
    }
   ],
   "source": [
    "image_index = 7776 # You may select anything up to 60,000\n",
    "print(train_labels[image_index]) \n",
    "plt.imshow(train_images[image_index], cmap='Greys')"
   ]
  },
  {
   "cell_type": "markdown",
   "id": "facial-modem",
   "metadata": {
    "papermill": {
     "duration": 0.029019,
     "end_time": "2021-06-18T20:10:20.082670",
     "exception": false,
     "start_time": "2021-06-18T20:10:20.053651",
     "status": "completed"
    },
    "tags": []
   },
   "source": [
    "## Filter data to get 3 and 8 out"
   ]
  },
  {
   "cell_type": "code",
   "execution_count": 9,
   "id": "thousand-acquisition",
   "metadata": {
    "execution": {
     "iopub.execute_input": "2021-06-18T20:10:20.141127Z",
     "iopub.status.busy": "2021-06-18T20:10:20.140545Z",
     "iopub.status.idle": "2021-06-18T20:10:20.158120Z",
     "shell.execute_reply": "2021-06-18T20:10:20.157592Z"
    },
    "papermill": {
     "duration": 0.049242,
     "end_time": "2021-06-18T20:10:20.158243",
     "exception": false,
     "start_time": "2021-06-18T20:10:20.109001",
     "status": "completed"
    },
    "tags": []
   },
   "outputs": [],
   "source": [
    "train_filter = np.where((train_labels == 3 ) | (train_labels == 8))\n",
    "test_filter = np.where((test_labels == 3) | (test_labels == 8))\n",
    "X_train, y_train = train_images[train_filter], train_labels[train_filter]\n",
    "X_test, y_test = test_images[test_filter], test_labels[test_filter]"
   ]
  },
  {
   "cell_type": "markdown",
   "id": "ruled-access",
   "metadata": {
    "papermill": {
     "duration": 0.027856,
     "end_time": "2021-06-18T20:10:20.215992",
     "exception": false,
     "start_time": "2021-06-18T20:10:20.188136",
     "status": "completed"
    },
    "tags": []
   },
   "source": [
    "We normalize the pixel values in the 0 to 1 range"
   ]
  },
  {
   "cell_type": "code",
   "execution_count": 10,
   "id": "isolated-denver",
   "metadata": {
    "execution": {
     "iopub.execute_input": "2021-06-18T20:10:20.274478Z",
     "iopub.status.busy": "2021-06-18T20:10:20.273989Z",
     "iopub.status.idle": "2021-06-18T20:10:20.322384Z",
     "shell.execute_reply": "2021-06-18T20:10:20.321507Z"
    },
    "papermill": {
     "duration": 0.080649,
     "end_time": "2021-06-18T20:10:20.322591",
     "exception": false,
     "start_time": "2021-06-18T20:10:20.241942",
     "status": "completed"
    },
    "tags": []
   },
   "outputs": [],
   "source": [
    "X_train = X_train/255.\n",
    "X_test = X_test/255."
   ]
  },
  {
   "cell_type": "markdown",
   "id": "perfect-summary",
   "metadata": {
    "papermill": {
     "duration": 0.028423,
     "end_time": "2021-06-18T20:10:20.381677",
     "exception": false,
     "start_time": "2021-06-18T20:10:20.353254",
     "status": "completed"
    },
    "tags": []
   },
   "source": [
    "Setup the labels as 1 (when the digit is 3) and 0 (when the digit is 8)"
   ]
  },
  {
   "cell_type": "code",
   "execution_count": 11,
   "id": "personalized-growing",
   "metadata": {
    "execution": {
     "iopub.execute_input": "2021-06-18T20:10:20.444809Z",
     "iopub.status.busy": "2021-06-18T20:10:20.440239Z",
     "iopub.status.idle": "2021-06-18T20:10:20.452624Z",
     "shell.execute_reply": "2021-06-18T20:10:20.453035Z"
    },
    "papermill": {
     "duration": 0.043617,
     "end_time": "2021-06-18T20:10:20.453164",
     "exception": false,
     "start_time": "2021-06-18T20:10:20.409547",
     "status": "completed"
    },
    "tags": []
   },
   "outputs": [],
   "source": [
    "y_train = 1*(y_train==3)\n",
    "y_test = 1*(y_test==3)"
   ]
  },
  {
   "cell_type": "code",
   "execution_count": 12,
   "id": "considered-virgin",
   "metadata": {
    "execution": {
     "iopub.execute_input": "2021-06-18T20:10:20.514295Z",
     "iopub.status.busy": "2021-06-18T20:10:20.513766Z",
     "iopub.status.idle": "2021-06-18T20:10:20.529157Z",
     "shell.execute_reply": "2021-06-18T20:10:20.528672Z"
    },
    "papermill": {
     "duration": 0.046983,
     "end_time": "2021-06-18T20:10:20.529269",
     "exception": false,
     "start_time": "2021-06-18T20:10:20.482286",
     "status": "completed"
    },
    "tags": []
   },
   "outputs": [
    {
     "data": {
      "text/plain": [
       "((11982, 28, 28), (1984, 28, 28))"
      ]
     },
     "execution_count": 12,
     "metadata": {},
     "output_type": "execute_result"
    }
   ],
   "source": [
    "X_train.shape, X_test.shape"
   ]
  },
  {
   "cell_type": "markdown",
   "id": "civilian-mobile",
   "metadata": {
    "papermill": {
     "duration": 0.028077,
     "end_time": "2021-06-18T20:10:20.584822",
     "exception": false,
     "start_time": "2021-06-18T20:10:20.556745",
     "status": "completed"
    },
    "tags": []
   },
   "source": [
    "### Reshape the input data to create a linear array"
   ]
  },
  {
   "cell_type": "code",
   "execution_count": 13,
   "id": "colonial-adams",
   "metadata": {
    "execution": {
     "iopub.execute_input": "2021-06-18T20:10:20.647558Z",
     "iopub.status.busy": "2021-06-18T20:10:20.647007Z",
     "iopub.status.idle": "2021-06-18T20:10:20.661892Z",
     "shell.execute_reply": "2021-06-18T20:10:20.661426Z"
    },
    "papermill": {
     "duration": 0.048101,
     "end_time": "2021-06-18T20:10:20.661986",
     "exception": false,
     "start_time": "2021-06-18T20:10:20.613885",
     "status": "completed"
    },
    "tags": []
   },
   "outputs": [
    {
     "data": {
      "text/plain": [
       "((11982, 784), (1984, 784))"
      ]
     },
     "execution_count": 13,
     "metadata": {},
     "output_type": "execute_result"
    }
   ],
   "source": [
    "X_train = X_train.reshape(X_train.shape[0], -1)\n",
    "X_test = X_test.reshape(X_test.shape[0], -1)\n",
    "X_train.shape, X_test.shape"
   ]
  },
  {
   "cell_type": "markdown",
   "id": "smart-details",
   "metadata": {
    "papermill": {
     "duration": 0.027923,
     "end_time": "2021-06-18T20:10:20.718167",
     "exception": false,
     "start_time": "2021-06-18T20:10:20.690244",
     "status": "completed"
    },
    "tags": []
   },
   "source": [
    "### Importing appropriate functions from 'Kudzu'"
   ]
  },
  {
   "cell_type": "code",
   "execution_count": 14,
   "id": "celtic-trial",
   "metadata": {
    "execution": {
     "iopub.execute_input": "2021-06-18T20:10:20.780451Z",
     "iopub.status.busy": "2021-06-18T20:10:20.779910Z",
     "iopub.status.idle": "2021-06-18T20:10:20.799708Z",
     "shell.execute_reply": "2021-06-18T20:10:20.800239Z"
    },
    "papermill": {
     "duration": 0.053521,
     "end_time": "2021-06-18T20:10:20.800397",
     "exception": false,
     "start_time": "2021-06-18T20:10:20.746876",
     "status": "completed"
    },
    "tags": []
   },
   "outputs": [],
   "source": [
    "from kudzu.layer import Sigmoid\n",
    "from kudzu.layer import Relu\n",
    "from kudzu.layer import Affine, Sigmoid\n",
    "\n",
    "from kudzu.model import Model\n",
    "from kudzu.train import Learner\n",
    "from kudzu.optim import GD\n",
    "from kudzu.data import Data, Dataloader, Sampler\n",
    "\n",
    "from kudzu.callbacks import AccCallback\n",
    "from kudzu.callbacks import ClfCallback\n",
    "\n",
    "from kudzu.loss import MSE"
   ]
  },
  {
   "cell_type": "markdown",
   "id": "coupled-customer",
   "metadata": {
    "papermill": {
     "duration": 0.028133,
     "end_time": "2021-06-18T20:10:20.858294",
     "exception": false,
     "start_time": "2021-06-18T20:10:20.830161",
     "status": "completed"
    },
    "tags": []
   },
   "source": [
    "### Let us create a `Config` class, to store important parameters. \n",
    "This class essentially plays the role of a dictionary."
   ]
  },
  {
   "cell_type": "code",
   "execution_count": 15,
   "id": "young-ceiling",
   "metadata": {
    "execution": {
     "iopub.execute_input": "2021-06-18T20:10:20.921208Z",
     "iopub.status.busy": "2021-06-18T20:10:20.920211Z",
     "iopub.status.idle": "2021-06-18T20:10:20.934009Z",
     "shell.execute_reply": "2021-06-18T20:10:20.934499Z"
    },
    "papermill": {
     "duration": 0.046109,
     "end_time": "2021-06-18T20:10:20.934635",
     "exception": false,
     "start_time": "2021-06-18T20:10:20.888526",
     "status": "completed"
    },
    "tags": []
   },
   "outputs": [],
   "source": [
    "class Config:\n",
    "    pass\n",
    "config = Config()\n",
    "config.lr = 0.001\n",
    "config.num_epochs = 251\n",
    "config.bs = 50"
   ]
  },
  {
   "cell_type": "markdown",
   "id": "according-mandate",
   "metadata": {
    "papermill": {
     "duration": 0.028722,
     "end_time": "2021-06-18T20:10:20.992722",
     "exception": false,
     "start_time": "2021-06-18T20:10:20.964000",
     "status": "completed"
    },
    "tags": []
   },
   "source": [
    "### Initializing data to the variables"
   ]
  },
  {
   "cell_type": "code",
   "execution_count": 16,
   "id": "academic-disposition",
   "metadata": {
    "execution": {
     "iopub.execute_input": "2021-06-18T20:10:21.049533Z",
     "iopub.status.busy": "2021-06-18T20:10:21.049000Z",
     "iopub.status.idle": "2021-06-18T20:10:21.060892Z",
     "shell.execute_reply": "2021-06-18T20:10:21.060467Z"
    },
    "papermill": {
     "duration": 0.04157,
     "end_time": "2021-06-18T20:10:21.060997",
     "exception": false,
     "start_time": "2021-06-18T20:10:21.019427",
     "status": "completed"
    },
    "tags": []
   },
   "outputs": [],
   "source": [
    "data = Data(X_train, y_train.reshape(-1,1))\n",
    "sampler = Sampler(data, config.bs, shuffle=True)\n",
    "\n",
    "dl = Dataloader(data, sampler)\n",
    "\n",
    "opt = GD(config.lr)\n",
    "loss = MSE()"
   ]
  },
  {
   "cell_type": "code",
   "execution_count": 17,
   "id": "featured-commission",
   "metadata": {
    "execution": {
     "iopub.execute_input": "2021-06-18T20:10:21.132747Z",
     "iopub.status.busy": "2021-06-18T20:10:21.132221Z",
     "iopub.status.idle": "2021-06-18T20:10:21.137638Z",
     "shell.execute_reply": "2021-06-18T20:10:21.136630Z"
    },
    "papermill": {
     "duration": 0.046102,
     "end_time": "2021-06-18T20:10:21.137753",
     "exception": false,
     "start_time": "2021-06-18T20:10:21.091651",
     "status": "completed"
    },
    "tags": []
   },
   "outputs": [],
   "source": [
    "training_xdata = X_train\n",
    "testing_xdata = X_test\n",
    "training_ydata = y_train.reshape(-1,1)\n",
    "testing_ydata = y_test.reshape(-1,1)"
   ]
  },
  {
   "cell_type": "markdown",
   "id": "played-safety",
   "metadata": {
    "papermill": {
     "duration": 0.029808,
     "end_time": "2021-06-18T20:10:21.196869",
     "exception": false,
     "start_time": "2021-06-18T20:10:21.167061",
     "status": "completed"
    },
    "tags": []
   },
   "source": [
    "### Running Models with the Training data\n",
    "Details about the network layers:\n",
    "- A first affine layer has 784 inputs and does 100 affine transforms. These are followed by a Relu\n",
    "- A second affine layer has 100 inputs from the 100 activations of the past layer, and does 100 affine transforms. These are followed by a Relu\n",
    "- A third affine layer has 100 activations and does 2 affine transformations to create an embedding for visualization. There is no non-linearity here.\n",
    "- A final \"logistic regression\" which has an affine transform from 2 inputs to 1 output, which is squeezed through a sigmoid.\n",
    "\n",
    "Help taken from Anshuman's Notebook."
   ]
  },
  {
   "cell_type": "code",
   "execution_count": 18,
   "id": "asian-bankruptcy",
   "metadata": {
    "execution": {
     "iopub.execute_input": "2021-06-18T20:10:21.257157Z",
     "iopub.status.busy": "2021-06-18T20:10:21.254690Z",
     "iopub.status.idle": "2021-06-18T20:10:21.268032Z",
     "shell.execute_reply": "2021-06-18T20:10:21.267594Z"
    },
    "papermill": {
     "duration": 0.044303,
     "end_time": "2021-06-18T20:10:21.268126",
     "exception": false,
     "start_time": "2021-06-18T20:10:21.223823",
     "status": "completed"
    },
    "tags": []
   },
   "outputs": [],
   "source": [
    "# layers for the Neural Network\n",
    "layers = [Affine(\"first\", 784, 100), Relu(\"first\"), Affine(\"second\", 100, 100), Relu(\"second\"), Affine(\"third\", 100, 2), Affine(\"final\", 2, 1), Sigmoid(\"final\")]\n",
    "model_nn = Model(layers)\n",
    "\n",
    "# layers for the Logistic Regression\n",
    "layers_lr = [Affine(\"logits\", 784, 1), Sigmoid(\"sigmoid\")]\n",
    "model_lr = Model(layers_lr)"
   ]
  },
  {
   "cell_type": "code",
   "execution_count": 19,
   "id": "removed-butler",
   "metadata": {
    "execution": {
     "iopub.execute_input": "2021-06-18T20:10:21.328526Z",
     "iopub.status.busy": "2021-06-18T20:10:21.327978Z",
     "iopub.status.idle": "2021-06-18T20:10:21.340919Z",
     "shell.execute_reply": "2021-06-18T20:10:21.340425Z"
    },
    "papermill": {
     "duration": 0.044315,
     "end_time": "2021-06-18T20:10:21.341030",
     "exception": false,
     "start_time": "2021-06-18T20:10:21.296715",
     "status": "completed"
    },
    "tags": []
   },
   "outputs": [],
   "source": [
    "# suffix _nn stands for Neural Network.\n",
    "learner_nn = Learner(loss, model_nn, opt, config.num_epochs)\n",
    "acc_nn = ClfCallback(learner_nn, config.bs, training_xdata , testing_xdata, training_ydata, testing_ydata)\n",
    "learner_nn.set_callbacks([acc_nn])"
   ]
  },
  {
   "cell_type": "code",
   "execution_count": 20,
   "id": "conceptual-throw",
   "metadata": {
    "execution": {
     "iopub.execute_input": "2021-06-18T20:10:21.400267Z",
     "iopub.status.busy": "2021-06-18T20:10:21.399728Z",
     "iopub.status.idle": "2021-06-18T20:11:39.971108Z",
     "shell.execute_reply": "2021-06-18T20:11:39.971940Z"
    },
    "papermill": {
     "duration": 78.605078,
     "end_time": "2021-06-18T20:11:39.972096",
     "exception": false,
     "start_time": "2021-06-18T20:10:21.367018",
     "status": "completed"
    },
    "tags": []
   },
   "outputs": [
    {
     "name": "stdout",
     "output_type": "stream",
     "text": [
      "====== Neural Network ======\n"
     ]
    },
    {
     "name": "stdout",
     "output_type": "stream",
     "text": [
      "Epoch 0, Loss 0.2428\n",
      "Training Accuracy: 0.7074, Testing Accuracy: 0.7193\n",
      "\n"
     ]
    },
    {
     "name": "stdout",
     "output_type": "stream",
     "text": [
      "Epoch 10, Loss 0.0822\n",
      "Training Accuracy: 0.9287, Testing Accuracy: 0.9390\n",
      "\n"
     ]
    },
    {
     "name": "stdout",
     "output_type": "stream",
     "text": [
      "Epoch 20, Loss 0.0526\n",
      "Training Accuracy: 0.9462, Testing Accuracy: 0.9511\n",
      "\n"
     ]
    },
    {
     "name": "stdout",
     "output_type": "stream",
     "text": [
      "Epoch 30, Loss 0.0423\n",
      "Training Accuracy: 0.9552, Testing Accuracy: 0.9602\n",
      "\n"
     ]
    },
    {
     "name": "stdout",
     "output_type": "stream",
     "text": [
      "Epoch 40, Loss 0.037\n",
      "Training Accuracy: 0.9599, Testing Accuracy: 0.9652\n",
      "\n"
     ]
    },
    {
     "name": "stdout",
     "output_type": "stream",
     "text": [
      "Epoch 50, Loss 0.0337\n",
      "Training Accuracy: 0.9626, Testing Accuracy: 0.9667\n",
      "\n"
     ]
    },
    {
     "name": "stdout",
     "output_type": "stream",
     "text": [
      "Epoch 60, Loss 0.0313\n",
      "Training Accuracy: 0.9647, Testing Accuracy: 0.9672\n",
      "\n"
     ]
    },
    {
     "name": "stdout",
     "output_type": "stream",
     "text": [
      "Epoch 70, Loss 0.0296\n",
      "Training Accuracy: 0.9659, Testing Accuracy: 0.9677\n",
      "\n"
     ]
    },
    {
     "name": "stdout",
     "output_type": "stream",
     "text": [
      "Epoch 80, Loss 0.0282\n",
      "Training Accuracy: 0.9673, Testing Accuracy: 0.9677\n",
      "\n"
     ]
    },
    {
     "name": "stdout",
     "output_type": "stream",
     "text": [
      "Epoch 90, Loss 0.027\n",
      "Training Accuracy: 0.9690, Testing Accuracy: 0.9682\n",
      "\n"
     ]
    },
    {
     "name": "stdout",
     "output_type": "stream",
     "text": [
      "Epoch 100, Loss 0.026\n",
      "Training Accuracy: 0.9703, Testing Accuracy: 0.9682\n",
      "\n"
     ]
    },
    {
     "name": "stdout",
     "output_type": "stream",
     "text": [
      "Epoch 110, Loss 0.0251\n",
      "Training Accuracy: 0.9715, Testing Accuracy: 0.9682\n",
      "\n"
     ]
    },
    {
     "name": "stdout",
     "output_type": "stream",
     "text": [
      "Epoch 120, Loss 0.0243\n",
      "Training Accuracy: 0.9725, Testing Accuracy: 0.9703\n",
      "\n"
     ]
    },
    {
     "name": "stdout",
     "output_type": "stream",
     "text": [
      "Epoch 130, Loss 0.0236\n",
      "Training Accuracy: 0.9738, Testing Accuracy: 0.9703\n",
      "\n"
     ]
    },
    {
     "name": "stdout",
     "output_type": "stream",
     "text": [
      "Epoch 140, Loss 0.0229\n",
      "Training Accuracy: 0.9749, Testing Accuracy: 0.9703\n",
      "\n"
     ]
    },
    {
     "name": "stdout",
     "output_type": "stream",
     "text": [
      "Epoch 150, Loss 0.0223\n",
      "Training Accuracy: 0.9755, Testing Accuracy: 0.9713\n",
      "\n"
     ]
    },
    {
     "name": "stdout",
     "output_type": "stream",
     "text": [
      "Epoch 160, Loss 0.0218\n",
      "Training Accuracy: 0.9760, Testing Accuracy: 0.9713\n",
      "\n"
     ]
    },
    {
     "name": "stdout",
     "output_type": "stream",
     "text": [
      "Epoch 170, Loss 0.0213\n",
      "Training Accuracy: 0.9766, Testing Accuracy: 0.9723\n",
      "\n"
     ]
    },
    {
     "name": "stdout",
     "output_type": "stream",
     "text": [
      "Epoch 180, Loss 0.0208\n",
      "Training Accuracy: 0.9777, Testing Accuracy: 0.9728\n",
      "\n"
     ]
    },
    {
     "name": "stdout",
     "output_type": "stream",
     "text": [
      "Epoch 190, Loss 0.0203\n",
      "Training Accuracy: 0.9780, Testing Accuracy: 0.9738\n",
      "\n"
     ]
    },
    {
     "name": "stdout",
     "output_type": "stream",
     "text": [
      "Epoch 200, Loss 0.0199\n",
      "Training Accuracy: 0.9783, Testing Accuracy: 0.9738\n",
      "\n"
     ]
    },
    {
     "name": "stdout",
     "output_type": "stream",
     "text": [
      "Epoch 210, Loss 0.0194\n",
      "Training Accuracy: 0.9787, Testing Accuracy: 0.9738\n",
      "\n"
     ]
    },
    {
     "name": "stdout",
     "output_type": "stream",
     "text": [
      "Epoch 220, Loss 0.019\n",
      "Training Accuracy: 0.9794, Testing Accuracy: 0.9738\n",
      "\n"
     ]
    },
    {
     "name": "stdout",
     "output_type": "stream",
     "text": [
      "Epoch 230, Loss 0.0187\n",
      "Training Accuracy: 0.9799, Testing Accuracy: 0.9738\n",
      "\n"
     ]
    },
    {
     "name": "stdout",
     "output_type": "stream",
     "text": [
      "Epoch 240, Loss 0.0183\n",
      "Training Accuracy: 0.9801, Testing Accuracy: 0.9743\n",
      "\n"
     ]
    },
    {
     "name": "stdout",
     "output_type": "stream",
     "text": [
      "Epoch 250, Loss 0.0179\n",
      "Training Accuracy: 0.9804, Testing Accuracy: 0.9748\n",
      "\n"
     ]
    },
    {
     "data": {
      "text/plain": [
       "0.04330520083114118"
      ]
     },
     "execution_count": 20,
     "metadata": {},
     "output_type": "execute_result"
    }
   ],
   "source": [
    "print(\"====== Neural Network ======\")\n",
    "learner_nn.train_loop(dl)"
   ]
  },
  {
   "cell_type": "markdown",
   "id": "competent-suffering",
   "metadata": {
    "papermill": {
     "duration": 0.036431,
     "end_time": "2021-06-18T20:11:40.043929",
     "exception": false,
     "start_time": "2021-06-18T20:11:40.007498",
     "status": "completed"
    },
    "tags": []
   },
   "source": [
    "### Logistic Regression based Implementation."
   ]
  },
  {
   "cell_type": "code",
   "execution_count": 21,
   "id": "qualified-psychiatry",
   "metadata": {
    "execution": {
     "iopub.execute_input": "2021-06-18T20:11:40.122060Z",
     "iopub.status.busy": "2021-06-18T20:11:40.121519Z",
     "iopub.status.idle": "2021-06-18T20:11:40.133803Z",
     "shell.execute_reply": "2021-06-18T20:11:40.133422Z"
    },
    "papermill": {
     "duration": 0.052511,
     "end_time": "2021-06-18T20:11:40.133941",
     "exception": false,
     "start_time": "2021-06-18T20:11:40.081430",
     "status": "completed"
    },
    "tags": []
   },
   "outputs": [],
   "source": [
    "learner_lr = Learner(loss, model_lr, opt, config.num_epochs)\n",
    "acc_lr = ClfCallback(learner_lr, config.bs, training_xdata , testing_xdata, training_ydata, testing_ydata)\n",
    "learner_lr.set_callbacks([acc_lr])"
   ]
  },
  {
   "cell_type": "code",
   "execution_count": 22,
   "id": "average-outside",
   "metadata": {
    "execution": {
     "iopub.execute_input": "2021-06-18T20:11:40.212052Z",
     "iopub.status.busy": "2021-06-18T20:11:40.211469Z",
     "iopub.status.idle": "2021-06-18T20:11:53.920100Z",
     "shell.execute_reply": "2021-06-18T20:11:53.920479Z"
    },
    "papermill": {
     "duration": 13.749132,
     "end_time": "2021-06-18T20:11:53.920604",
     "exception": false,
     "start_time": "2021-06-18T20:11:40.171472",
     "status": "completed"
    },
    "tags": []
   },
   "outputs": [
    {
     "name": "stdout",
     "output_type": "stream",
     "text": [
      "====== Logistic Regression ======\n",
      "Epoch 0, Loss 0.2608\n",
      "Training Accuracy: 0.6079, Testing Accuracy: 0.5796\n",
      "\n"
     ]
    },
    {
     "name": "stdout",
     "output_type": "stream",
     "text": [
      "Epoch 10, Loss 0.0978\n",
      "Training Accuracy: 0.9290, Testing Accuracy: 0.9370\n",
      "\n"
     ]
    },
    {
     "name": "stdout",
     "output_type": "stream",
     "text": [
      "Epoch 20, Loss 0.0754\n",
      "Training Accuracy: 0.9375, Testing Accuracy: 0.9471\n",
      "\n"
     ]
    },
    {
     "name": "stdout",
     "output_type": "stream",
     "text": [
      "Epoch 30, Loss 0.0656\n",
      "Training Accuracy: 0.9420, Testing Accuracy: 0.9531\n",
      "\n"
     ]
    },
    {
     "name": "stdout",
     "output_type": "stream",
     "text": [
      "Epoch 40, Loss 0.0596\n",
      "Training Accuracy: 0.9451, Testing Accuracy: 0.9572\n",
      "\n"
     ]
    },
    {
     "name": "stdout",
     "output_type": "stream",
     "text": [
      "Epoch 50, Loss 0.0556\n",
      "Training Accuracy: 0.9473, Testing Accuracy: 0.9597\n",
      "\n"
     ]
    },
    {
     "name": "stdout",
     "output_type": "stream",
     "text": [
      "Epoch 60, Loss 0.0526\n",
      "Training Accuracy: 0.9483, Testing Accuracy: 0.9602\n",
      "\n"
     ]
    },
    {
     "name": "stdout",
     "output_type": "stream",
     "text": [
      "Epoch 70, Loss 0.0502\n",
      "Training Accuracy: 0.9508, Testing Accuracy: 0.9607\n",
      "\n"
     ]
    },
    {
     "name": "stdout",
     "output_type": "stream",
     "text": [
      "Epoch 80, Loss 0.0483\n",
      "Training Accuracy: 0.9515, Testing Accuracy: 0.9607\n",
      "\n"
     ]
    },
    {
     "name": "stdout",
     "output_type": "stream",
     "text": [
      "Epoch 90, Loss 0.0468\n",
      "Training Accuracy: 0.9528, Testing Accuracy: 0.9617\n",
      "\n"
     ]
    },
    {
     "name": "stdout",
     "output_type": "stream",
     "text": [
      "Epoch 100, Loss 0.0455\n",
      "Training Accuracy: 0.9538, Testing Accuracy: 0.9617\n",
      "\n"
     ]
    },
    {
     "name": "stdout",
     "output_type": "stream",
     "text": [
      "Epoch 110, Loss 0.0443\n",
      "Training Accuracy: 0.9543, Testing Accuracy: 0.9627\n",
      "\n"
     ]
    },
    {
     "name": "stdout",
     "output_type": "stream",
     "text": [
      "Epoch 120, Loss 0.0433\n",
      "Training Accuracy: 0.9550, Testing Accuracy: 0.9637\n",
      "\n"
     ]
    },
    {
     "name": "stdout",
     "output_type": "stream",
     "text": [
      "Epoch 130, Loss 0.0424\n",
      "Training Accuracy: 0.9553, Testing Accuracy: 0.9642\n",
      "\n"
     ]
    },
    {
     "name": "stdout",
     "output_type": "stream",
     "text": [
      "Epoch 140, Loss 0.0416\n",
      "Training Accuracy: 0.9560, Testing Accuracy: 0.9647\n",
      "\n"
     ]
    },
    {
     "name": "stdout",
     "output_type": "stream",
     "text": [
      "Epoch 150, Loss 0.0409\n",
      "Training Accuracy: 0.9565, Testing Accuracy: 0.9662\n",
      "\n"
     ]
    },
    {
     "name": "stdout",
     "output_type": "stream",
     "text": [
      "Epoch 160, Loss 0.0403\n",
      "Training Accuracy: 0.9568, Testing Accuracy: 0.9682\n",
      "\n"
     ]
    },
    {
     "name": "stdout",
     "output_type": "stream",
     "text": [
      "Epoch 170, Loss 0.0397\n",
      "Training Accuracy: 0.9569, Testing Accuracy: 0.9688\n",
      "\n"
     ]
    },
    {
     "name": "stdout",
     "output_type": "stream",
     "text": [
      "Epoch 180, Loss 0.0392\n",
      "Training Accuracy: 0.9579, Testing Accuracy: 0.9688\n",
      "\n"
     ]
    },
    {
     "name": "stdout",
     "output_type": "stream",
     "text": [
      "Epoch 190, Loss 0.0387\n",
      "Training Accuracy: 0.9585, Testing Accuracy: 0.9682\n",
      "\n"
     ]
    },
    {
     "name": "stdout",
     "output_type": "stream",
     "text": [
      "Epoch 200, Loss 0.0382\n",
      "Training Accuracy: 0.9588, Testing Accuracy: 0.9682\n",
      "\n"
     ]
    },
    {
     "name": "stdout",
     "output_type": "stream",
     "text": [
      "Epoch 210, Loss 0.0378\n",
      "Training Accuracy: 0.9588, Testing Accuracy: 0.9682\n",
      "\n"
     ]
    },
    {
     "name": "stdout",
     "output_type": "stream",
     "text": [
      "Epoch 220, Loss 0.0374\n",
      "Training Accuracy: 0.9594, Testing Accuracy: 0.9688\n",
      "\n"
     ]
    },
    {
     "name": "stdout",
     "output_type": "stream",
     "text": [
      "Epoch 230, Loss 0.037\n",
      "Training Accuracy: 0.9596, Testing Accuracy: 0.9688\n",
      "\n"
     ]
    },
    {
     "name": "stdout",
     "output_type": "stream",
     "text": [
      "Epoch 240, Loss 0.0367\n",
      "Training Accuracy: 0.9599, Testing Accuracy: 0.9682\n",
      "\n"
     ]
    },
    {
     "name": "stdout",
     "output_type": "stream",
     "text": [
      "Epoch 250, Loss 0.0364\n",
      "Training Accuracy: 0.9604, Testing Accuracy: 0.9682\n",
      "\n"
     ]
    },
    {
     "data": {
      "text/plain": [
       "0.04596280119348442"
      ]
     },
     "execution_count": 22,
     "metadata": {},
     "output_type": "execute_result"
    }
   ],
   "source": [
    "print(\"====== Logistic Regression ======\")\n",
    "learner_lr.train_loop(dl)"
   ]
  },
  {
   "cell_type": "markdown",
   "id": "adjusted-possible",
   "metadata": {
    "papermill": {
     "duration": 0.042907,
     "end_time": "2021-06-18T20:11:54.007319",
     "exception": false,
     "start_time": "2021-06-18T20:11:53.964412",
     "status": "completed"
    },
    "tags": []
   },
   "source": [
    "### Comparing results of NN and LR"
   ]
  },
  {
   "cell_type": "code",
   "execution_count": 23,
   "id": "mental-multimedia",
   "metadata": {
    "execution": {
     "iopub.execute_input": "2021-06-18T20:11:54.104739Z",
     "iopub.status.busy": "2021-06-18T20:11:54.104227Z",
     "iopub.status.idle": "2021-06-18T20:11:54.314079Z",
     "shell.execute_reply": "2021-06-18T20:11:54.313620Z"
    },
    "papermill": {
     "duration": 0.266001,
     "end_time": "2021-06-18T20:11:54.314185",
     "exception": false,
     "start_time": "2021-06-18T20:11:54.048184",
     "status": "completed"
    },
    "tags": []
   },
   "outputs": [
    {
     "data": {
      "text/plain": [
       "<matplotlib.legend.Legend at 0x7fb5b70962e8>"
      ]
     },
     "execution_count": 23,
     "metadata": {},
     "output_type": "execute_result"
    },
    {
     "data": {
      "image/png": "[encoded data removed]",
      "text/plain": [
       "<Figure size 1080x720 with 1 Axes>"
      ]
     },
     "metadata": {
      "needs_background": "light"
     },
     "output_type": "display_data"
    }
   ],
   "source": [
    "plt.figure(figsize=(15,10))\n",
    "\n",
    "# Neural Network plots\n",
    "plt.plot(acc_nn.accuracies, 'r-', label = \"Training Accuracies - NN\")\n",
    "plt.plot(acc_nn.test_accuracies, 'g-', label = \"Testing Accuracies - NN\")\n",
    "\n",
    "# Logistic Regression plots\n",
    "plt.plot(acc_lr.accuracies, 'k-', label = \"Training Accuracies - LR\")\n",
    "plt.plot(acc_lr.test_accuracies, 'b-', label = \"Testing Accuracies - LR\")\n",
    "\n",
    "plt.ylim(0.8, 1)\n",
    "\n",
    "plt.legend()\n",
    "\n"
   ]
  },
  {
   "cell_type": "markdown",
   "id": "sexual-flesh",
   "metadata": {
    "papermill": {
     "duration": 0.04393,
     "end_time": "2021-06-18T20:11:54.401869",
     "exception": false,
     "start_time": "2021-06-18T20:11:54.357939",
     "status": "completed"
    },
    "tags": []
   },
   "source": [
    "### From the plot, we can observe the following:\n",
    "- Neural Network achieves higher accuracy than the Logistic Regression model.\n",
    "- This apparently, is because of overfitting, i.e. NN captures more noise than data.\n",
    "- Testing accuracy of NN drops below the Training accuracy at higher epochs. This explains the over-fitting on training data.\n",
    "- Logistic Regression gives a reliable accuracy, without the above mentioned problem.\n"
   ]
  },
  {
   "cell_type": "markdown",
   "id": "institutional-pacific",
   "metadata": {
    "papermill": {
     "duration": 0.04763,
     "end_time": "2021-06-18T20:11:54.495576",
     "exception": false,
     "start_time": "2021-06-18T20:11:54.447946",
     "status": "completed"
    },
    "tags": []
   },
   "source": [
    "### Moving till the last but one layer (excluding it).\n",
    "#### Plotting the outputs of this layer of the NN."
   ]
  },
  {
   "cell_type": "code",
   "execution_count": 24,
   "id": "economic-server",
   "metadata": {
    "execution": {
     "iopub.execute_input": "2021-06-18T20:11:54.595366Z",
     "iopub.status.busy": "2021-06-18T20:11:54.594056Z",
     "iopub.status.idle": "2021-06-18T20:11:54.604899Z",
     "shell.execute_reply": "2021-06-18T20:11:54.605329Z"
    },
    "papermill": {
     "duration": 0.063524,
     "end_time": "2021-06-18T20:11:54.605457",
     "exception": false,
     "start_time": "2021-06-18T20:11:54.541933",
     "status": "completed"
    },
    "tags": []
   },
   "outputs": [],
   "source": [
    "model_new = Model(layers[:-2])"
   ]
  },
  {
   "cell_type": "code",
   "execution_count": 25,
   "id": "varied-upgrade",
   "metadata": {
    "execution": {
     "iopub.execute_input": "2021-06-18T20:11:54.731336Z",
     "iopub.status.busy": "2021-06-18T20:11:54.730778Z",
     "iopub.status.idle": "2021-06-18T20:11:54.749185Z",
     "shell.execute_reply": "2021-06-18T20:11:54.749647Z"
    },
    "papermill": {
     "duration": 0.09636,
     "end_time": "2021-06-18T20:11:54.749784",
     "exception": false,
     "start_time": "2021-06-18T20:11:54.653424",
     "status": "completed"
    },
    "tags": []
   },
   "outputs": [],
   "source": [
    "plot_testing = model_new(testing_xdata)"
   ]
  },
  {
   "cell_type": "code",
   "execution_count": 26,
   "id": "specific-handling",
   "metadata": {
    "execution": {
     "iopub.execute_input": "2021-06-18T20:11:54.848211Z",
     "iopub.status.busy": "2021-06-18T20:11:54.847108Z",
     "iopub.status.idle": "2021-06-18T20:11:55.030108Z",
     "shell.execute_reply": "2021-06-18T20:11:55.029438Z"
    },
    "papermill": {
     "duration": 0.230277,
     "end_time": "2021-06-18T20:11:55.030215",
     "exception": false,
     "start_time": "2021-06-18T20:11:54.799938",
     "status": "completed"
    },
    "tags": []
   },
   "outputs": [
    {
     "data": {
      "text/plain": [
       "Text(0.5, 1.0, 'Outputs')"
      ]
     },
     "execution_count": 26,
     "metadata": {},
     "output_type": "execute_result"
    },
    {
     "data": {
      "image/png": "[encoded data removed]",
      "text/plain": [
       "<Figure size 576x504 with 1 Axes>"
      ]
     },
     "metadata": {
      "needs_background": "light"
     },
     "output_type": "display_data"
    }
   ],
   "source": [
    "plt.figure(figsize=(8,7))\n",
    "plt.scatter(plot_testing[:,0], plot_testing[:,1], alpha = 0.1, c = y_test.ravel());\n",
    "plt.title('Outputs')"
   ]
  },
  {
   "cell_type": "markdown",
   "id": "described-knowing",
   "metadata": {
    "papermill": {
     "duration": 0.044259,
     "end_time": "2021-06-18T20:11:55.121228",
     "exception": false,
     "start_time": "2021-06-18T20:11:55.076969",
     "status": "completed"
    },
    "tags": []
   },
   "source": [
    "### Plotting probability contours"
   ]
  },
  {
   "cell_type": "code",
   "execution_count": 27,
   "id": "needed-growing",
   "metadata": {
    "execution": {
     "iopub.execute_input": "2021-06-18T20:11:55.228548Z",
     "iopub.status.busy": "2021-06-18T20:11:55.228038Z",
     "iopub.status.idle": "2021-06-18T20:11:55.232807Z",
     "shell.execute_reply": "2021-06-18T20:11:55.232317Z"
    },
    "papermill": {
     "duration": 0.063197,
     "end_time": "2021-06-18T20:11:55.232922",
     "exception": false,
     "start_time": "2021-06-18T20:11:55.169725",
     "status": "completed"
    },
    "tags": []
   },
   "outputs": [],
   "source": [
    "model_prob = Model(layers[-2:]) "
   ]
  },
  {
   "cell_type": "code",
   "execution_count": 28,
   "id": "introductory-enforcement",
   "metadata": {
    "execution": {
     "iopub.execute_input": "2021-06-18T20:11:55.327364Z",
     "iopub.status.busy": "2021-06-18T20:11:55.326424Z",
     "iopub.status.idle": "2021-06-18T20:11:55.339869Z",
     "shell.execute_reply": "2021-06-18T20:11:55.340322Z"
    },
    "papermill": {
     "duration": 0.062705,
     "end_time": "2021-06-18T20:11:55.340447",
     "exception": false,
     "start_time": "2021-06-18T20:11:55.277742",
     "status": "completed"
    },
    "tags": []
   },
   "outputs": [],
   "source": [
    "# Adjust the x and y ranges according to the above generated plot.\n",
    "x_range = np.linspace(-4, 1, 100) \n",
    "y_range = np.linspace(-6, 6, 100) \n",
    "x_grid, y_grid = np.meshgrid(x_range, y_range) # x_grid and y_grig are of size 100 X 100\n",
    "\n",
    "# converting x_grid and y_grid to continuous arrays\n",
    "x_grid_flat = np.ravel(x_grid)\n",
    "y_grid_flat = np.ravel(y_grid)\n",
    "\n",
    "# The last layer of the current model takes two columns as input. Hence transpose of np.vstack() is required.\n",
    "X = np.vstack((x_grid_flat, y_grid_flat)).T\n",
    "\n",
    "# x_grid and y_grid are of size 100 x 100\n",
    "probability_contour = model_prob(X).reshape(100,100) "
   ]
  },
  {
   "cell_type": "code",
   "execution_count": 29,
   "id": "understood-landing",
   "metadata": {
    "execution": {
     "iopub.execute_input": "2021-06-18T20:11:55.444625Z",
     "iopub.status.busy": "2021-06-18T20:11:55.444156Z",
     "iopub.status.idle": "2021-06-18T20:11:55.665662Z",
     "shell.execute_reply": "2021-06-18T20:11:55.665253Z"
    },
    "papermill": {
     "duration": 0.278673,
     "end_time": "2021-06-18T20:11:55.665768",
     "exception": false,
     "start_time": "2021-06-18T20:11:55.387095",
     "status": "completed"
    },
    "tags": []
   },
   "outputs": [
    {
     "data": {
      "image/png": "[encoded data removed]",
      "text/plain": [
       "<Figure size 720x648 with 1 Axes>"
      ]
     },
     "metadata": {
      "needs_background": "light"
     },
     "output_type": "display_data"
    }
   ],
   "source": [
    "plt.figure(figsize=(10,9))\n",
    "plt.scatter(plot_testing[:,0], plot_testing[:,1], alpha = 0.1, c = y_test.ravel())\n",
    "contours = plt.contour(x_grid,y_grid,probability_contour)\n",
    "plt.title('Probability Contours')\n",
    "plt.clabel(contours, inline = True );"
   ]
  }
 ],
 "metadata": {
  "kernelspec": {
   "display_name": "Python 3",
   "language": "python",
   "name": "python3"
  },
  "language_info": {
   "codemirror_mode": {
    "name": "ipython",
    "version": 3
   },
   "file_extension": ".py",
   "mimetype": "text/x-python",
   "name": "python",
   "nbconvert_exporter": "python",
   "pygments_lexer": "ipython3",
   "version": "3.6.13"
  },
  "papermill": {
   "duration": 449.449487,
   "end_time": "2021-06-18T20:11:56.993384",
   "environment_variables": {},
   "exception": null,
   "input_path": "2020-08-11-NeuralNetwork.ipynb",
   "output_path": "2020-08-11-NeuralNetwork.ipynb",
   "parameters": {},
   "start_time": "2021-06-18T20:04:27.543897",
   "version": "2.1.2"
  }
 },
 "nbformat": 4,
 "nbformat_minor": 5
}