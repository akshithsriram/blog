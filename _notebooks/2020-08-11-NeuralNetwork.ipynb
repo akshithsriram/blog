{
 "cells": [
  {
   "cell_type": "markdown",
   "id": "fitted-suggestion",
   "metadata": {
    "papermill": {
     "duration": 0.03353,
     "end_time": "2021-04-08T00:32:14.710547",
     "exception": false,
     "start_time": "2021-04-08T00:32:14.677017",
     "status": "completed"
    },
    "tags": []
   },
   "source": [
    "# \"A Basic Neural Network: Differentiate Hand-Written Digits\"\n",
    "\n",
    "- badges: true\n",
    "- author: Akshith Sriram"
   ]
  },
  {
   "cell_type": "markdown",
   "id": "signal-flexibility",
   "metadata": {
    "papermill": {
     "duration": 0.025691,
     "end_time": "2021-04-08T00:32:14.760963",
     "exception": false,
     "start_time": "2021-04-08T00:32:14.735272",
     "status": "completed"
    },
    "tags": []
   },
   "source": [
    "### Key Objectives:\n",
    "- Building a neural network that differentiates two hand-written digits 3 and 8.\n",
    "- Comparing the results of this Neural Network (NN) to that of a Logistic Regression (LR) model.\n",
    "\n",
    "### Requirements:\n",
    "- 'Kudzu' : A neural network library that was designed during our course by [Univ.AI](www.univ.ai). \n",
    "- MNIST Database\n",
    "\n",
    "If MNIST is not installed, use the command `!pip install mnist` given below.\n",
    "It can be run both from the command line and Jupyter Notebook."
   ]
  },
  {
   "cell_type": "code",
   "execution_count": 1,
   "id": "british-texture",
   "metadata": {
    "execution": {
     "iopub.execute_input": "2021-04-08T00:32:14.814713Z",
     "iopub.status.busy": "2021-04-08T00:32:14.814229Z",
     "iopub.status.idle": "2021-04-08T00:32:16.065562Z",
     "shell.execute_reply": "2021-04-08T00:32:16.064230Z"
    },
    "papermill": {
     "duration": 1.28397,
     "end_time": "2021-04-08T00:32:16.065807",
     "exception": false,
     "start_time": "2021-04-08T00:32:14.781837",
     "status": "completed"
    },
    "tags": []
   },
   "outputs": [
    {
     "name": "stdout",
     "output_type": "stream",
     "text": [
      "Collecting mnist\r\n"
     ]
    },
    {
     "name": "stdout",
     "output_type": "stream",
     "text": [
      "  Downloading mnist-0.2.2-py2.py3-none-any.whl (3.5 kB)\r\n",
      "Requirement already satisfied: numpy in /opt/hostedtoolcache/Python/3.6.13/x64/lib/python3.6/site-packages (from mnist) (1.19.5)\r\n"
     ]
    },
    {
     "name": "stdout",
     "output_type": "stream",
     "text": [
      "Installing collected packages: mnist\r\n"
     ]
    },
    {
     "name": "stdout",
     "output_type": "stream",
     "text": [
      "Successfully installed mnist-0.2.2\r\n"
     ]
    }
   ],
   "source": [
    "!pip install mnist "
   ]
  },
  {
   "cell_type": "markdown",
   "id": "stunning-extra",
   "metadata": {
    "papermill": {
     "duration": 0.024923,
     "end_time": "2021-04-08T00:32:16.115756",
     "exception": false,
     "start_time": "2021-04-08T00:32:16.090833",
     "status": "completed"
    },
    "tags": []
   },
   "source": [
    "#### Importing necessary libraries"
   ]
  },
  {
   "cell_type": "code",
   "execution_count": 2,
   "id": "wooden-france",
   "metadata": {
    "execution": {
     "iopub.execute_input": "2021-04-08T00:32:16.177097Z",
     "iopub.status.busy": "2021-04-08T00:32:16.174350Z",
     "iopub.status.idle": "2021-04-08T00:32:16.652562Z",
     "shell.execute_reply": "2021-04-08T00:32:16.651638Z"
    },
    "papermill": {
     "duration": 0.510825,
     "end_time": "2021-04-08T00:32:16.652684",
     "exception": false,
     "start_time": "2021-04-08T00:32:16.141859",
     "status": "completed"
    },
    "tags": []
   },
   "outputs": [],
   "source": [
    "%load_ext autoreload\n",
    "%autoreload 2\n",
    "\n",
    "%matplotlib inline\n",
    "import matplotlib.pyplot as plt\n",
    "\n",
    "import numpy as np\n",
    "import pandas as pd"
   ]
  },
  {
   "cell_type": "markdown",
   "id": "stunning-physics",
   "metadata": {
    "papermill": {
     "duration": 0.025106,
     "end_time": "2021-04-08T00:32:16.701295",
     "exception": false,
     "start_time": "2021-04-08T00:32:16.676189",
     "status": "completed"
    },
    "tags": []
   },
   "source": [
    "### Preparing the Data"
   ]
  },
  {
   "cell_type": "code",
   "execution_count": 3,
   "id": "unauthorized-remainder",
   "metadata": {
    "execution": {
     "iopub.execute_input": "2021-04-08T00:32:16.752704Z",
     "iopub.status.busy": "2021-04-08T00:32:16.752257Z",
     "iopub.status.idle": "2021-04-08T00:32:16.764925Z",
     "shell.execute_reply": "2021-04-08T00:32:16.764513Z"
    },
    "papermill": {
     "duration": 0.039412,
     "end_time": "2021-04-08T00:32:16.765024",
     "exception": false,
     "start_time": "2021-04-08T00:32:16.725612",
     "status": "completed"
    },
    "tags": []
   },
   "outputs": [],
   "source": [
    "import mnist"
   ]
  },
  {
   "cell_type": "code",
   "execution_count": 4,
   "id": "correct-antarctica",
   "metadata": {
    "execution": {
     "iopub.execute_input": "2021-04-08T00:32:16.819394Z",
     "iopub.status.busy": "2021-04-08T00:32:16.818959Z",
     "iopub.status.idle": "2021-04-08T00:37:24.805446Z",
     "shell.execute_reply": "2021-04-08T00:37:24.804961Z"
    },
    "papermill": {
     "duration": 308.01633,
     "end_time": "2021-04-08T00:37:24.805618",
     "exception": false,
     "start_time": "2021-04-08T00:32:16.789288",
     "status": "completed"
    },
    "tags": []
   },
   "outputs": [],
   "source": [
    "train_images = mnist.train_images()\n",
    "train_labels = mnist.train_labels()"
   ]
  },
  {
   "cell_type": "code",
   "execution_count": 5,
   "id": "musical-prospect",
   "metadata": {
    "execution": {
     "iopub.execute_input": "2021-04-08T00:37:24.863223Z",
     "iopub.status.busy": "2021-04-08T00:37:24.862680Z",
     "iopub.status.idle": "2021-04-08T00:37:24.878419Z",
     "shell.execute_reply": "2021-04-08T00:37:24.878860Z"
    },
    "papermill": {
     "duration": 0.047313,
     "end_time": "2021-04-08T00:37:24.878970",
     "exception": false,
     "start_time": "2021-04-08T00:37:24.831657",
     "status": "completed"
    },
    "tags": []
   },
   "outputs": [
    {
     "data": {
      "text/plain": [
       "((60000, 28, 28), (60000,))"
      ]
     },
     "execution_count": 5,
     "metadata": {},
     "output_type": "execute_result"
    }
   ],
   "source": [
    "train_images.shape, train_labels.shape"
   ]
  },
  {
   "cell_type": "code",
   "execution_count": 6,
   "id": "preliminary-elizabeth",
   "metadata": {
    "execution": {
     "iopub.execute_input": "2021-04-08T00:37:24.938122Z",
     "iopub.status.busy": "2021-04-08T00:37:24.936565Z",
     "iopub.status.idle": "2021-04-08T00:38:16.040340Z",
     "shell.execute_reply": "2021-04-08T00:38:16.040933Z"
    },
    "papermill": {
     "duration": 51.135527,
     "end_time": "2021-04-08T00:38:16.041060",
     "exception": false,
     "start_time": "2021-04-08T00:37:24.905533",
     "status": "completed"
    },
    "tags": []
   },
   "outputs": [],
   "source": [
    "test_images = mnist.test_images()\n",
    "test_labels = mnist.test_labels()"
   ]
  },
  {
   "cell_type": "code",
   "execution_count": 7,
   "id": "acknowledged-oxygen",
   "metadata": {
    "execution": {
     "iopub.execute_input": "2021-04-08T00:38:16.102280Z",
     "iopub.status.busy": "2021-04-08T00:38:16.101701Z",
     "iopub.status.idle": "2021-04-08T00:38:16.114569Z",
     "shell.execute_reply": "2021-04-08T00:38:16.115103Z"
    },
    "papermill": {
     "duration": 0.046133,
     "end_time": "2021-04-08T00:38:16.115278",
     "exception": false,
     "start_time": "2021-04-08T00:38:16.069145",
     "status": "completed"
    },
    "tags": []
   },
   "outputs": [
    {
     "data": {
      "text/plain": [
       "((10000, 28, 28), (10000,))"
      ]
     },
     "execution_count": 7,
     "metadata": {},
     "output_type": "execute_result"
    }
   ],
   "source": [
    "test_images.shape, test_labels.shape"
   ]
  },
  {
   "cell_type": "code",
   "execution_count": 8,
   "id": "innovative-organic",
   "metadata": {
    "execution": {
     "iopub.execute_input": "2021-04-08T00:38:16.176920Z",
     "iopub.status.busy": "2021-04-08T00:38:16.176424Z",
     "iopub.status.idle": "2021-04-08T00:38:16.312922Z",
     "shell.execute_reply": "2021-04-08T00:38:16.313502Z"
    },
    "papermill": {
     "duration": 0.169829,
     "end_time": "2021-04-08T00:38:16.313627",
     "exception": false,
     "start_time": "2021-04-08T00:38:16.143798",
     "status": "completed"
    },
    "tags": []
   },
   "outputs": [
    {
     "name": "stdout",
     "output_type": "stream",
     "text": [
      "2\n"
     ]
    },
    {
     "data": {
      "text/plain": [
       "<matplotlib.image.AxesImage at 0x7f6789143198>"
      ]
     },
     "execution_count": 8,
     "metadata": {},
     "output_type": "execute_result"
    },
    {
     "data": {
      "image/png": "[encoded data removed]",
      "text/plain": [
       "<Figure size 432x288 with 1 Axes>"
      ]
     },
     "metadata": {
      "needs_background": "light"
     },
     "output_type": "display_data"
    }
   ],
   "source": [
    "image_index = 7776 # You may select anything up to 60,000\n",
    "print(train_labels[image_index]) \n",
    "plt.imshow(train_images[image_index], cmap='Greys')"
   ]
  },
  {
   "cell_type": "markdown",
   "id": "facial-modem",
   "metadata": {
    "papermill": {
     "duration": 0.026625,
     "end_time": "2021-04-08T00:38:16.368145",
     "exception": false,
     "start_time": "2021-04-08T00:38:16.341520",
     "status": "completed"
    },
    "tags": []
   },
   "source": [
    "## Filter data to get 3 and 8 out"
   ]
  },
  {
   "cell_type": "code",
   "execution_count": 9,
   "id": "thousand-acquisition",
   "metadata": {
    "execution": {
     "iopub.execute_input": "2021-04-08T00:38:16.426196Z",
     "iopub.status.busy": "2021-04-08T00:38:16.425715Z",
     "iopub.status.idle": "2021-04-08T00:38:16.440137Z",
     "shell.execute_reply": "2021-04-08T00:38:16.440597Z"
    },
    "papermill": {
     "duration": 0.047069,
     "end_time": "2021-04-08T00:38:16.440725",
     "exception": false,
     "start_time": "2021-04-08T00:38:16.393656",
     "status": "completed"
    },
    "tags": []
   },
   "outputs": [],
   "source": [
    "train_filter = np.where((train_labels == 3 ) | (train_labels == 8))\n",
    "test_filter = np.where((test_labels == 3) | (test_labels == 8))\n",
    "X_train, y_train = train_images[train_filter], train_labels[train_filter]\n",
    "X_test, y_test = test_images[test_filter], test_labels[test_filter]"
   ]
  },
  {
   "cell_type": "markdown",
   "id": "ruled-access",
   "metadata": {
    "papermill": {
     "duration": 0.028727,
     "end_time": "2021-04-08T00:38:16.497849",
     "exception": false,
     "start_time": "2021-04-08T00:38:16.469122",
     "status": "completed"
    },
    "tags": []
   },
   "source": [
    "We normalize the pixel values in the 0 to 1 range"
   ]
  },
  {
   "cell_type": "code",
   "execution_count": 10,
   "id": "isolated-denver",
   "metadata": {
    "execution": {
     "iopub.execute_input": "2021-04-08T00:38:16.558471Z",
     "iopub.status.busy": "2021-04-08T00:38:16.557938Z",
     "iopub.status.idle": "2021-04-08T00:38:16.605117Z",
     "shell.execute_reply": "2021-04-08T00:38:16.604277Z"
    },
    "papermill": {
     "duration": 0.080236,
     "end_time": "2021-04-08T00:38:16.605305",
     "exception": false,
     "start_time": "2021-04-08T00:38:16.525069",
     "status": "completed"
    },
    "tags": []
   },
   "outputs": [],
   "source": [
    "X_train = X_train/255.\n",
    "X_test = X_test/255."
   ]
  },
  {
   "cell_type": "markdown",
   "id": "perfect-summary",
   "metadata": {
    "papermill": {
     "duration": 0.02916,
     "end_time": "2021-04-08T00:38:16.665068",
     "exception": false,
     "start_time": "2021-04-08T00:38:16.635908",
     "status": "completed"
    },
    "tags": []
   },
   "source": [
    "Setup the labels as 1 (when the digit is 3) and 0 (when the digit is 8)"
   ]
  },
  {
   "cell_type": "code",
   "execution_count": 11,
   "id": "personalized-growing",
   "metadata": {
    "execution": {
     "iopub.execute_input": "2021-04-08T00:38:16.723433Z",
     "iopub.status.busy": "2021-04-08T00:38:16.722937Z",
     "iopub.status.idle": "2021-04-08T00:38:16.737267Z",
     "shell.execute_reply": "2021-04-08T00:38:16.736887Z"
    },
    "papermill": {
     "duration": 0.045545,
     "end_time": "2021-04-08T00:38:16.737369",
     "exception": false,
     "start_time": "2021-04-08T00:38:16.691824",
     "status": "completed"
    },
    "tags": []
   },
   "outputs": [],
   "source": [
    "y_train = 1*(y_train==3)\n",
    "y_test = 1*(y_test==3)"
   ]
  },
  {
   "cell_type": "code",
   "execution_count": 12,
   "id": "considered-virgin",
   "metadata": {
    "execution": {
     "iopub.execute_input": "2021-04-08T00:38:16.795464Z",
     "iopub.status.busy": "2021-04-08T00:38:16.794972Z",
     "iopub.status.idle": "2021-04-08T00:38:16.809234Z",
     "shell.execute_reply": "2021-04-08T00:38:16.809694Z"
    },
    "papermill": {
     "duration": 0.0455,
     "end_time": "2021-04-08T00:38:16.809830",
     "exception": false,
     "start_time": "2021-04-08T00:38:16.764330",
     "status": "completed"
    },
    "tags": []
   },
   "outputs": [
    {
     "data": {
      "text/plain": [
       "((11982, 28, 28), (1984, 28, 28))"
      ]
     },
     "execution_count": 12,
     "metadata": {},
     "output_type": "execute_result"
    }
   ],
   "source": [
    "X_train.shape, X_test.shape"
   ]
  },
  {
   "cell_type": "markdown",
   "id": "civilian-mobile",
   "metadata": {
    "papermill": {
     "duration": 0.025481,
     "end_time": "2021-04-08T00:38:16.860945",
     "exception": false,
     "start_time": "2021-04-08T00:38:16.835464",
     "status": "completed"
    },
    "tags": []
   },
   "source": [
    "### Reshape the input data to create a linear array"
   ]
  },
  {
   "cell_type": "code",
   "execution_count": 13,
   "id": "colonial-adams",
   "metadata": {
    "execution": {
     "iopub.execute_input": "2021-04-08T00:38:16.916508Z",
     "iopub.status.busy": "2021-04-08T00:38:16.916048Z",
     "iopub.status.idle": "2021-04-08T00:38:16.931059Z",
     "shell.execute_reply": "2021-04-08T00:38:16.930602Z"
    },
    "papermill": {
     "duration": 0.044645,
     "end_time": "2021-04-08T00:38:16.931203",
     "exception": false,
     "start_time": "2021-04-08T00:38:16.886558",
     "status": "completed"
    },
    "tags": []
   },
   "outputs": [
    {
     "data": {
      "text/plain": [
       "((11982, 784), (1984, 784))"
      ]
     },
     "execution_count": 13,
     "metadata": {},
     "output_type": "execute_result"
    }
   ],
   "source": [
    "X_train = X_train.reshape(X_train.shape[0], -1)\n",
    "X_test = X_test.reshape(X_test.shape[0], -1)\n",
    "X_train.shape, X_test.shape"
   ]
  },
  {
   "cell_type": "markdown",
   "id": "smart-details",
   "metadata": {
    "papermill": {
     "duration": 0.025004,
     "end_time": "2021-04-08T00:38:16.983007",
     "exception": false,
     "start_time": "2021-04-08T00:38:16.958003",
     "status": "completed"
    },
    "tags": []
   },
   "source": [
    "### Importing appropriate functions from 'Kudzu'"
   ]
  },
  {
   "cell_type": "code",
   "execution_count": 14,
   "id": "celtic-trial",
   "metadata": {
    "execution": {
     "iopub.execute_input": "2021-04-08T00:38:17.041091Z",
     "iopub.status.busy": "2021-04-08T00:38:17.040566Z",
     "iopub.status.idle": "2021-04-08T00:38:17.058540Z",
     "shell.execute_reply": "2021-04-08T00:38:17.058077Z"
    },
    "papermill": {
     "duration": 0.050174,
     "end_time": "2021-04-08T00:38:17.058651",
     "exception": false,
     "start_time": "2021-04-08T00:38:17.008477",
     "status": "completed"
    },
    "tags": []
   },
   "outputs": [],
   "source": [
    "from kudzu.layer import Sigmoid\n",
    "from kudzu.layer import Relu\n",
    "from kudzu.layer import Affine, Sigmoid\n",
    "\n",
    "from kudzu.model import Model\n",
    "from kudzu.train import Learner\n",
    "from kudzu.optim import GD\n",
    "from kudzu.data import Data, Dataloader, Sampler\n",
    "\n",
    "from kudzu.callbacks import AccCallback\n",
    "from kudzu.callbacks import ClfCallback\n",
    "\n",
    "from kudzu.loss import MSE"
   ]
  },
  {
   "cell_type": "markdown",
   "id": "coupled-customer",
   "metadata": {
    "papermill": {
     "duration": 0.027462,
     "end_time": "2021-04-08T00:38:17.115378",
     "exception": false,
     "start_time": "2021-04-08T00:38:17.087916",
     "status": "completed"
    },
    "tags": []
   },
   "source": [
    "### Let us create a `Config` class, to store important parameters. \n",
    "This class essentially plays the role of a dictionary."
   ]
  },
  {
   "cell_type": "code",
   "execution_count": 15,
   "id": "young-ceiling",
   "metadata": {
    "execution": {
     "iopub.execute_input": "2021-04-08T00:38:17.175274Z",
     "iopub.status.busy": "2021-04-08T00:38:17.174798Z",
     "iopub.status.idle": "2021-04-08T00:38:17.186036Z",
     "shell.execute_reply": "2021-04-08T00:38:17.186491Z"
    },
    "papermill": {
     "duration": 0.042947,
     "end_time": "2021-04-08T00:38:17.186611",
     "exception": false,
     "start_time": "2021-04-08T00:38:17.143664",
     "status": "completed"
    },
    "tags": []
   },
   "outputs": [],
   "source": [
    "class Config:\n",
    "    pass\n",
    "config = Config()\n",
    "config.lr = 0.001\n",
    "config.num_epochs = 251\n",
    "config.bs = 50"
   ]
  },
  {
   "cell_type": "markdown",
   "id": "according-mandate",
   "metadata": {
    "papermill": {
     "duration": 0.027253,
     "end_time": "2021-04-08T00:38:17.242581",
     "exception": false,
     "start_time": "2021-04-08T00:38:17.215328",
     "status": "completed"
    },
    "tags": []
   },
   "source": [
    "### Initializing data to the variables"
   ]
  },
  {
   "cell_type": "code",
   "execution_count": 16,
   "id": "academic-disposition",
   "metadata": {
    "execution": {
     "iopub.execute_input": "2021-04-08T00:38:17.305813Z",
     "iopub.status.busy": "2021-04-08T00:38:17.305310Z",
     "iopub.status.idle": "2021-04-08T00:38:17.316012Z",
     "shell.execute_reply": "2021-04-08T00:38:17.316423Z"
    },
    "papermill": {
     "duration": 0.046233,
     "end_time": "2021-04-08T00:38:17.316546",
     "exception": false,
     "start_time": "2021-04-08T00:38:17.270313",
     "status": "completed"
    },
    "tags": []
   },
   "outputs": [],
   "source": [
    "data = Data(X_train, y_train.reshape(-1,1))\n",
    "sampler = Sampler(data, config.bs, shuffle=True)\n",
    "\n",
    "dl = Dataloader(data, sampler)\n",
    "\n",
    "opt = GD(config.lr)\n",
    "loss = MSE()"
   ]
  },
  {
   "cell_type": "code",
   "execution_count": 17,
   "id": "featured-commission",
   "metadata": {
    "execution": {
     "iopub.execute_input": "2021-04-08T00:38:17.378464Z",
     "iopub.status.busy": "2021-04-08T00:38:17.378007Z",
     "iopub.status.idle": "2021-04-08T00:38:17.387788Z",
     "shell.execute_reply": "2021-04-08T00:38:17.388277Z"
    },
    "papermill": {
     "duration": 0.044412,
     "end_time": "2021-04-08T00:38:17.388404",
     "exception": false,
     "start_time": "2021-04-08T00:38:17.343992",
     "status": "completed"
    },
    "tags": []
   },
   "outputs": [],
   "source": [
    "training_xdata = X_train\n",
    "testing_xdata = X_test\n",
    "training_ydata = y_train.reshape(-1,1)\n",
    "testing_ydata = y_test.reshape(-1,1)"
   ]
  },
  {
   "cell_type": "markdown",
   "id": "played-safety",
   "metadata": {
    "papermill": {
     "duration": 0.028465,
     "end_time": "2021-04-08T00:38:17.445122",
     "exception": false,
     "start_time": "2021-04-08T00:38:17.416657",
     "status": "completed"
    },
    "tags": []
   },
   "source": [
    "### Running Models with the Training data\n",
    "Details about the network layers:\n",
    "- A first affine layer has 784 inputs and does 100 affine transforms. These are followed by a Relu\n",
    "- A second affine layer has 100 inputs from the 100 activations of the past layer, and does 100 affine transforms. These are followed by a Relu\n",
    "- A third affine layer has 100 activations and does 2 affine transformations to create an embedding for visualization. There is no non-linearity here.\n",
    "- A final \"logistic regression\" which has an affine transform from 2 inputs to 1 output, which is squeezed through a sigmoid.\n",
    "\n",
    "Help taken from Anshuman's Notebook."
   ]
  },
  {
   "cell_type": "code",
   "execution_count": 18,
   "id": "asian-bankruptcy",
   "metadata": {
    "execution": {
     "iopub.execute_input": "2021-04-08T00:38:17.507793Z",
     "iopub.status.busy": "2021-04-08T00:38:17.507245Z",
     "iopub.status.idle": "2021-04-08T00:38:17.523795Z",
     "shell.execute_reply": "2021-04-08T00:38:17.523363Z"
    },
    "papermill": {
     "duration": 0.051258,
     "end_time": "2021-04-08T00:38:17.523904",
     "exception": false,
     "start_time": "2021-04-08T00:38:17.472646",
     "status": "completed"
    },
    "tags": []
   },
   "outputs": [],
   "source": [
    "# layers for the Neural Network\n",
    "layers = [Affine(\"first\", 784, 100), Relu(\"first\"), Affine(\"second\", 100, 100), Relu(\"second\"), Affine(\"third\", 100, 2), Affine(\"final\", 2, 1), Sigmoid(\"final\")]\n",
    "model_nn = Model(layers)\n",
    "\n",
    "# layers for the Logistic Regression\n",
    "layers_lr = [Affine(\"logits\", 784, 1), Sigmoid(\"sigmoid\")]\n",
    "model_lr = Model(layers_lr)"
   ]
  },
  {
   "cell_type": "code",
   "execution_count": 19,
   "id": "removed-butler",
   "metadata": {
    "execution": {
     "iopub.execute_input": "2021-04-08T00:38:17.581111Z",
     "iopub.status.busy": "2021-04-08T00:38:17.580652Z",
     "iopub.status.idle": "2021-04-08T00:38:17.591590Z",
     "shell.execute_reply": "2021-04-08T00:38:17.591963Z"
    },
    "papermill": {
     "duration": 0.041587,
     "end_time": "2021-04-08T00:38:17.592062",
     "exception": false,
     "start_time": "2021-04-08T00:38:17.550475",
     "status": "completed"
    },
    "tags": []
   },
   "outputs": [],
   "source": [
    "# suffix _nn stands for Neural Network.\n",
    "learner_nn = Learner(loss, model_nn, opt, config.num_epochs)\n",
    "acc_nn = ClfCallback(learner_nn, config.bs, training_xdata , testing_xdata, training_ydata, testing_ydata)\n",
    "learner_nn.set_callbacks([acc_nn])"
   ]
  },
  {
   "cell_type": "code",
   "execution_count": 20,
   "id": "conceptual-throw",
   "metadata": {
    "execution": {
     "iopub.execute_input": "2021-04-08T00:38:17.650224Z",
     "iopub.status.busy": "2021-04-08T00:38:17.649689Z",
     "iopub.status.idle": "2021-04-08T00:39:34.696377Z",
     "shell.execute_reply": "2021-04-08T00:39:34.697039Z"
    },
    "papermill": {
     "duration": 77.079014,
     "end_time": "2021-04-08T00:39:34.697192",
     "exception": false,
     "start_time": "2021-04-08T00:38:17.618178",
     "status": "completed"
    },
    "tags": []
   },
   "outputs": [
    {
     "name": "stdout",
     "output_type": "stream",
     "text": [
      "====== Neural Network ======\n"
     ]
    },
    {
     "name": "stdout",
     "output_type": "stream",
     "text": [
      "Epoch 0, Loss 0.2461\n",
      "Training Accuracy: 0.6545, Testing Accuracy: 0.6920\n",
      "\n"
     ]
    },
    {
     "name": "stdout",
     "output_type": "stream",
     "text": [
      "Epoch 10, Loss 0.0789\n",
      "Training Accuracy: 0.9268, Testing Accuracy: 0.9385\n",
      "\n"
     ]
    },
    {
     "name": "stdout",
     "output_type": "stream",
     "text": [
      "Epoch 20, Loss 0.0514\n",
      "Training Accuracy: 0.9469, Testing Accuracy: 0.9567\n",
      "\n"
     ]
    },
    {
     "name": "stdout",
     "output_type": "stream",
     "text": [
      "Epoch 30, Loss 0.0414\n",
      "Training Accuracy: 0.9557, Testing Accuracy: 0.9647\n",
      "\n"
     ]
    },
    {
     "name": "stdout",
     "output_type": "stream",
     "text": [
      "Epoch 40, Loss 0.0363\n",
      "Training Accuracy: 0.9603, Testing Accuracy: 0.9672\n",
      "\n"
     ]
    },
    {
     "name": "stdout",
     "output_type": "stream",
     "text": [
      "Epoch 50, Loss 0.0331\n",
      "Training Accuracy: 0.9627, Testing Accuracy: 0.9693\n",
      "\n"
     ]
    },
    {
     "name": "stdout",
     "output_type": "stream",
     "text": [
      "Epoch 60, Loss 0.0308\n",
      "Training Accuracy: 0.9646, Testing Accuracy: 0.9693\n",
      "\n"
     ]
    },
    {
     "name": "stdout",
     "output_type": "stream",
     "text": [
      "Epoch 70, Loss 0.0291\n",
      "Training Accuracy: 0.9659, Testing Accuracy: 0.9708\n",
      "\n"
     ]
    },
    {
     "name": "stdout",
     "output_type": "stream",
     "text": [
      "Epoch 80, Loss 0.0278\n",
      "Training Accuracy: 0.9680, Testing Accuracy: 0.9703\n",
      "\n"
     ]
    },
    {
     "name": "stdout",
     "output_type": "stream",
     "text": [
      "Epoch 90, Loss 0.0266\n",
      "Training Accuracy: 0.9692, Testing Accuracy: 0.9703\n",
      "\n"
     ]
    },
    {
     "name": "stdout",
     "output_type": "stream",
     "text": [
      "Epoch 100, Loss 0.0257\n",
      "Training Accuracy: 0.9702, Testing Accuracy: 0.9708\n",
      "\n"
     ]
    },
    {
     "name": "stdout",
     "output_type": "stream",
     "text": [
      "Epoch 110, Loss 0.0249\n",
      "Training Accuracy: 0.9715, Testing Accuracy: 0.9708\n",
      "\n"
     ]
    },
    {
     "name": "stdout",
     "output_type": "stream",
     "text": [
      "Epoch 120, Loss 0.0241\n",
      "Training Accuracy: 0.9721, Testing Accuracy: 0.9708\n",
      "\n"
     ]
    },
    {
     "name": "stdout",
     "output_type": "stream",
     "text": [
      "Epoch 130, Loss 0.0234\n",
      "Training Accuracy: 0.9725, Testing Accuracy: 0.9728\n",
      "\n"
     ]
    },
    {
     "name": "stdout",
     "output_type": "stream",
     "text": [
      "Epoch 140, Loss 0.0228\n",
      "Training Accuracy: 0.9735, Testing Accuracy: 0.9738\n",
      "\n"
     ]
    },
    {
     "name": "stdout",
     "output_type": "stream",
     "text": [
      "Epoch 150, Loss 0.0222\n",
      "Training Accuracy: 0.9740, Testing Accuracy: 0.9738\n",
      "\n"
     ]
    },
    {
     "name": "stdout",
     "output_type": "stream",
     "text": [
      "Epoch 160, Loss 0.0217\n",
      "Training Accuracy: 0.9750, Testing Accuracy: 0.9738\n",
      "\n"
     ]
    },
    {
     "name": "stdout",
     "output_type": "stream",
     "text": [
      "Epoch 170, Loss 0.0212\n",
      "Training Accuracy: 0.9756, Testing Accuracy: 0.9743\n",
      "\n"
     ]
    },
    {
     "name": "stdout",
     "output_type": "stream",
     "text": [
      "Epoch 180, Loss 0.0207\n",
      "Training Accuracy: 0.9770, Testing Accuracy: 0.9743\n",
      "\n"
     ]
    },
    {
     "name": "stdout",
     "output_type": "stream",
     "text": [
      "Epoch 190, Loss 0.0202\n",
      "Training Accuracy: 0.9781, Testing Accuracy: 0.9753\n",
      "\n"
     ]
    },
    {
     "name": "stdout",
     "output_type": "stream",
     "text": [
      "Epoch 200, Loss 0.0197\n",
      "Training Accuracy: 0.9786, Testing Accuracy: 0.9748\n",
      "\n"
     ]
    },
    {
     "name": "stdout",
     "output_type": "stream",
     "text": [
      "Epoch 210, Loss 0.0193\n",
      "Training Accuracy: 0.9793, Testing Accuracy: 0.9748\n",
      "\n"
     ]
    },
    {
     "name": "stdout",
     "output_type": "stream",
     "text": [
      "Epoch 220, Loss 0.0189\n",
      "Training Accuracy: 0.9801, Testing Accuracy: 0.9748\n",
      "\n"
     ]
    },
    {
     "name": "stdout",
     "output_type": "stream",
     "text": [
      "Epoch 230, Loss 0.0185\n",
      "Training Accuracy: 0.9806, Testing Accuracy: 0.9748\n",
      "\n"
     ]
    },
    {
     "name": "stdout",
     "output_type": "stream",
     "text": [
      "Epoch 240, Loss 0.0181\n",
      "Training Accuracy: 0.9810, Testing Accuracy: 0.9743\n",
      "\n"
     ]
    },
    {
     "name": "stdout",
     "output_type": "stream",
     "text": [
      "Epoch 250, Loss 0.0178\n",
      "Training Accuracy: 0.9812, Testing Accuracy: 0.9743\n",
      "\n"
     ]
    },
    {
     "data": {
      "text/plain": [
       "0.0018531276043038118"
      ]
     },
     "execution_count": 20,
     "metadata": {},
     "output_type": "execute_result"
    }
   ],
   "source": [
    "print(\"====== Neural Network ======\")\n",
    "learner_nn.train_loop(dl)"
   ]
  },
  {
   "cell_type": "markdown",
   "id": "competent-suffering",
   "metadata": {
    "papermill": {
     "duration": 0.032,
     "end_time": "2021-04-08T00:39:34.762699",
     "exception": false,
     "start_time": "2021-04-08T00:39:34.730699",
     "status": "completed"
    },
    "tags": []
   },
   "source": [
    "### Logistic Regression based Implementation."
   ]
  },
  {
   "cell_type": "code",
   "execution_count": 21,
   "id": "qualified-psychiatry",
   "metadata": {
    "execution": {
     "iopub.execute_input": "2021-04-08T00:39:34.833431Z",
     "iopub.status.busy": "2021-04-08T00:39:34.831173Z",
     "iopub.status.idle": "2021-04-08T00:39:34.842611Z",
     "shell.execute_reply": "2021-04-08T00:39:34.843021Z"
    },
    "papermill": {
     "duration": 0.048644,
     "end_time": "2021-04-08T00:39:34.843161",
     "exception": false,
     "start_time": "2021-04-08T00:39:34.794517",
     "status": "completed"
    },
    "tags": []
   },
   "outputs": [],
   "source": [
    "learner_lr = Learner(loss, model_lr, opt, config.num_epochs)\n",
    "acc_lr = ClfCallback(learner_lr, config.bs, training_xdata , testing_xdata, training_ydata, testing_ydata)\n",
    "learner_lr.set_callbacks([acc_lr])"
   ]
  },
  {
   "cell_type": "code",
   "execution_count": 22,
   "id": "average-outside",
   "metadata": {
    "execution": {
     "iopub.execute_input": "2021-04-08T00:39:34.917574Z",
     "iopub.status.busy": "2021-04-08T00:39:34.917093Z",
     "iopub.status.idle": "2021-04-08T00:39:48.206874Z",
     "shell.execute_reply": "2021-04-08T00:39:48.207344Z"
    },
    "papermill": {
     "duration": 13.327914,
     "end_time": "2021-04-08T00:39:48.207474",
     "exception": false,
     "start_time": "2021-04-08T00:39:34.879560",
     "status": "completed"
    },
    "tags": []
   },
   "outputs": [
    {
     "name": "stdout",
     "output_type": "stream",
     "text": [
      "====== Logistic Regression ======\n",
      "Epoch 0, Loss 0.227\n",
      "Training Accuracy: 0.7354, Testing Accuracy: 0.7419\n",
      "\n"
     ]
    },
    {
     "name": "stdout",
     "output_type": "stream",
     "text": [
      "Epoch 10, Loss 0.0995\n",
      "Training Accuracy: 0.9180, Testing Accuracy: 0.9304\n",
      "\n"
     ]
    },
    {
     "name": "stdout",
     "output_type": "stream",
     "text": [
      "Epoch 20, Loss 0.0769\n",
      "Training Accuracy: 0.9308, Testing Accuracy: 0.9415\n",
      "\n"
     ]
    },
    {
     "name": "stdout",
     "output_type": "stream",
     "text": [
      "Epoch 30, Loss 0.0666\n",
      "Training Accuracy: 0.9414, Testing Accuracy: 0.9491\n",
      "\n"
     ]
    },
    {
     "name": "stdout",
     "output_type": "stream",
     "text": [
      "Epoch 40, Loss 0.0605\n",
      "Training Accuracy: 0.9444, Testing Accuracy: 0.9541\n",
      "\n"
     ]
    },
    {
     "name": "stdout",
     "output_type": "stream",
     "text": [
      "Epoch 50, Loss 0.0563\n",
      "Training Accuracy: 0.9466, Testing Accuracy: 0.9577\n",
      "\n"
     ]
    },
    {
     "name": "stdout",
     "output_type": "stream",
     "text": [
      "Epoch 60, Loss 0.0532\n",
      "Training Accuracy: 0.9485, Testing Accuracy: 0.9602\n",
      "\n"
     ]
    },
    {
     "name": "stdout",
     "output_type": "stream",
     "text": [
      "Epoch 70, Loss 0.0507\n",
      "Training Accuracy: 0.9508, Testing Accuracy: 0.9607\n",
      "\n"
     ]
    },
    {
     "name": "stdout",
     "output_type": "stream",
     "text": [
      "Epoch 80, Loss 0.0488\n",
      "Training Accuracy: 0.9522, Testing Accuracy: 0.9622\n",
      "\n"
     ]
    },
    {
     "name": "stdout",
     "output_type": "stream",
     "text": [
      "Epoch 90, Loss 0.0472\n",
      "Training Accuracy: 0.9527, Testing Accuracy: 0.9637\n",
      "\n"
     ]
    },
    {
     "name": "stdout",
     "output_type": "stream",
     "text": [
      "Epoch 100, Loss 0.0458\n",
      "Training Accuracy: 0.9539, Testing Accuracy: 0.9642\n",
      "\n"
     ]
    },
    {
     "name": "stdout",
     "output_type": "stream",
     "text": [
      "Epoch 110, Loss 0.0447\n",
      "Training Accuracy: 0.9551, Testing Accuracy: 0.9642\n",
      "\n"
     ]
    },
    {
     "name": "stdout",
     "output_type": "stream",
     "text": [
      "Epoch 120, Loss 0.0437\n",
      "Training Accuracy: 0.9558, Testing Accuracy: 0.9657\n",
      "\n"
     ]
    },
    {
     "name": "stdout",
     "output_type": "stream",
     "text": [
      "Epoch 130, Loss 0.0428\n",
      "Training Accuracy: 0.9564, Testing Accuracy: 0.9657\n",
      "\n"
     ]
    },
    {
     "name": "stdout",
     "output_type": "stream",
     "text": [
      "Epoch 140, Loss 0.042\n",
      "Training Accuracy: 0.9569, Testing Accuracy: 0.9662\n",
      "\n"
     ]
    },
    {
     "name": "stdout",
     "output_type": "stream",
     "text": [
      "Epoch 150, Loss 0.0412\n",
      "Training Accuracy: 0.9576, Testing Accuracy: 0.9667\n",
      "\n"
     ]
    },
    {
     "name": "stdout",
     "output_type": "stream",
     "text": [
      "Epoch 160, Loss 0.0406\n",
      "Training Accuracy: 0.9581, Testing Accuracy: 0.9667\n",
      "\n"
     ]
    },
    {
     "name": "stdout",
     "output_type": "stream",
     "text": [
      "Epoch 170, Loss 0.04\n",
      "Training Accuracy: 0.9587, Testing Accuracy: 0.9667\n",
      "\n"
     ]
    },
    {
     "name": "stdout",
     "output_type": "stream",
     "text": [
      "Epoch 180, Loss 0.0394\n",
      "Training Accuracy: 0.9592, Testing Accuracy: 0.9672\n",
      "\n"
     ]
    },
    {
     "name": "stdout",
     "output_type": "stream",
     "text": [
      "Epoch 190, Loss 0.0389\n",
      "Training Accuracy: 0.9599, Testing Accuracy: 0.9677\n",
      "\n"
     ]
    },
    {
     "name": "stdout",
     "output_type": "stream",
     "text": [
      "Epoch 200, Loss 0.0385\n",
      "Training Accuracy: 0.9599, Testing Accuracy: 0.9682\n",
      "\n"
     ]
    },
    {
     "name": "stdout",
     "output_type": "stream",
     "text": [
      "Epoch 210, Loss 0.038\n",
      "Training Accuracy: 0.9602, Testing Accuracy: 0.9688\n",
      "\n"
     ]
    },
    {
     "name": "stdout",
     "output_type": "stream",
     "text": [
      "Epoch 220, Loss 0.0376\n",
      "Training Accuracy: 0.9604, Testing Accuracy: 0.9688\n",
      "\n"
     ]
    },
    {
     "name": "stdout",
     "output_type": "stream",
     "text": [
      "Epoch 230, Loss 0.0373\n",
      "Training Accuracy: 0.9607, Testing Accuracy: 0.9688\n",
      "\n"
     ]
    },
    {
     "name": "stdout",
     "output_type": "stream",
     "text": [
      "Epoch 240, Loss 0.0369\n",
      "Training Accuracy: 0.9607, Testing Accuracy: 0.9688\n",
      "\n"
     ]
    },
    {
     "name": "stdout",
     "output_type": "stream",
     "text": [
      "Epoch 250, Loss 0.0366\n",
      "Training Accuracy: 0.9608, Testing Accuracy: 0.9688\n",
      "\n"
     ]
    },
    {
     "data": {
      "text/plain": [
       "0.03554622678801559"
      ]
     },
     "execution_count": 22,
     "metadata": {},
     "output_type": "execute_result"
    }
   ],
   "source": [
    "print(\"====== Logistic Regression ======\")\n",
    "learner_lr.train_loop(dl)"
   ]
  },
  {
   "cell_type": "markdown",
   "id": "adjusted-possible",
   "metadata": {
    "papermill": {
     "duration": 0.039694,
     "end_time": "2021-04-08T00:39:48.286089",
     "exception": false,
     "start_time": "2021-04-08T00:39:48.246395",
     "status": "completed"
    },
    "tags": []
   },
   "source": [
    "### Comparing results of NN and LR"
   ]
  },
  {
   "cell_type": "code",
   "execution_count": 23,
   "id": "mental-multimedia",
   "metadata": {
    "execution": {
     "iopub.execute_input": "2021-04-08T00:39:48.365159Z",
     "iopub.status.busy": "2021-04-08T00:39:48.364749Z",
     "iopub.status.idle": "2021-04-08T00:39:48.553964Z",
     "shell.execute_reply": "2021-04-08T00:39:48.554301Z"
    },
    "papermill": {
     "duration": 0.230949,
     "end_time": "2021-04-08T00:39:48.554416",
     "exception": false,
     "start_time": "2021-04-08T00:39:48.323467",
     "status": "completed"
    },
    "tags": []
   },
   "outputs": [
    {
     "data": {
      "text/plain": [
       "<matplotlib.legend.Legend at 0x7f6784563c18>"
      ]
     },
     "execution_count": 23,
     "metadata": {},
     "output_type": "execute_result"
    },
    {
     "data": {
      "image/png": "[encoded data removed]",
      "text/plain": [
       "<Figure size 1080x720 with 1 Axes>"
      ]
     },
     "metadata": {
      "needs_background": "light"
     },
     "output_type": "display_data"
    }
   ],
   "source": [
    "plt.figure(figsize=(15,10))\n",
    "\n",
    "# Neural Network plots\n",
    "plt.plot(acc_nn.accuracies, 'r-', label = \"Training Accuracies - NN\")\n",
    "plt.plot(acc_nn.test_accuracies, 'g-', label = \"Testing Accuracies - NN\")\n",
    "\n",
    "# Logistic Regression plots\n",
    "plt.plot(acc_lr.accuracies, 'k-', label = \"Training Accuracies - LR\")\n",
    "plt.plot(acc_lr.test_accuracies, 'b-', label = \"Testing Accuracies - LR\")\n",
    "\n",
    "plt.ylim(0.8, 1)\n",
    "\n",
    "plt.legend()\n",
    "\n"
   ]
  },
  {
   "cell_type": "markdown",
   "id": "sexual-flesh",
   "metadata": {
    "papermill": {
     "duration": 0.040194,
     "end_time": "2021-04-08T00:39:48.634717",
     "exception": false,
     "start_time": "2021-04-08T00:39:48.594523",
     "status": "completed"
    },
    "tags": []
   },
   "source": [
    "### From the plot, we can observe the following:\n",
    "- Neural Network achieves higher accuracy than the Logistic Regression model.\n",
    "- This apparently, is because of overfitting, i.e. NN captures more noise than data.\n",
    "- Testing accuracy of NN drops below the Training accuracy at higher epochs. This explains the over-fitting on training data.\n",
    "- Logistic Regression gives a reliable accuracy, without the above mentioned problem.\n"
   ]
  },
  {
   "cell_type": "markdown",
   "id": "institutional-pacific",
   "metadata": {
    "papermill": {
     "duration": 0.038829,
     "end_time": "2021-04-08T00:39:48.710598",
     "exception": false,
     "start_time": "2021-04-08T00:39:48.671769",
     "status": "completed"
    },
    "tags": []
   },
   "source": [
    "### Moving till the last but one layer (excluding it).\n",
    "#### Plotting the outputs of this layer of the NN."
   ]
  },
  {
   "cell_type": "code",
   "execution_count": 24,
   "id": "economic-server",
   "metadata": {
    "execution": {
     "iopub.execute_input": "2021-04-08T00:39:48.794683Z",
     "iopub.status.busy": "2021-04-08T00:39:48.794145Z",
     "iopub.status.idle": "2021-04-08T00:39:48.808334Z",
     "shell.execute_reply": "2021-04-08T00:39:48.807907Z"
    },
    "papermill": {
     "duration": 0.059057,
     "end_time": "2021-04-08T00:39:48.808428",
     "exception": false,
     "start_time": "2021-04-08T00:39:48.749371",
     "status": "completed"
    },
    "tags": []
   },
   "outputs": [],
   "source": [
    "model_new = Model(layers[:-2])"
   ]
  },
  {
   "cell_type": "code",
   "execution_count": 25,
   "id": "varied-upgrade",
   "metadata": {
    "execution": {
     "iopub.execute_input": "2021-04-08T00:39:48.897251Z",
     "iopub.status.busy": "2021-04-08T00:39:48.896664Z",
     "iopub.status.idle": "2021-04-08T00:39:48.916794Z",
     "shell.execute_reply": "2021-04-08T00:39:48.917312Z"
    },
    "papermill": {
     "duration": 0.067265,
     "end_time": "2021-04-08T00:39:48.917437",
     "exception": false,
     "start_time": "2021-04-08T00:39:48.850172",
     "status": "completed"
    },
    "tags": []
   },
   "outputs": [],
   "source": [
    "plot_testing = model_new(testing_xdata)"
   ]
  },
  {
   "cell_type": "code",
   "execution_count": 26,
   "id": "specific-handling",
   "metadata": {
    "execution": {
     "iopub.execute_input": "2021-04-08T00:39:49.016586Z",
     "iopub.status.busy": "2021-04-08T00:39:49.016046Z",
     "iopub.status.idle": "2021-04-08T00:39:49.233523Z",
     "shell.execute_reply": "2021-04-08T00:39:49.233914Z"
    },
    "papermill": {
     "duration": 0.269322,
     "end_time": "2021-04-08T00:39:49.234032",
     "exception": false,
     "start_time": "2021-04-08T00:39:48.964710",
     "status": "completed"
    },
    "tags": []
   },
   "outputs": [
    {
     "data": {
      "text/plain": [
       "Text(0.5, 1.0, 'Outputs')"
      ]
     },
     "execution_count": 26,
     "metadata": {},
     "output_type": "execute_result"
    },
    {
     "data": {
      "image/png": "[encoded data removed]",
      "text/plain": [
       "<Figure size 576x504 with 1 Axes>"
      ]
     },
     "metadata": {
      "needs_background": "light"
     },
     "output_type": "display_data"
    }
   ],
   "source": [
    "plt.figure(figsize=(8,7))\n",
    "plt.scatter(plot_testing[:,0], plot_testing[:,1], alpha = 0.1, c = y_test.ravel());\n",
    "plt.title('Outputs')"
   ]
  },
  {
   "cell_type": "markdown",
   "id": "described-knowing",
   "metadata": {
    "papermill": {
     "duration": 0.042726,
     "end_time": "2021-04-08T00:39:49.340872",
     "exception": false,
     "start_time": "2021-04-08T00:39:49.298146",
     "status": "completed"
    },
    "tags": []
   },
   "source": [
    "### Plotting probability contours"
   ]
  },
  {
   "cell_type": "code",
   "execution_count": 27,
   "id": "needed-growing",
   "metadata": {
    "execution": {
     "iopub.execute_input": "2021-04-08T00:39:49.438372Z",
     "iopub.status.busy": "2021-04-08T00:39:49.437835Z",
     "iopub.status.idle": "2021-04-08T00:39:49.453937Z",
     "shell.execute_reply": "2021-04-08T00:39:49.453558Z"
    },
    "papermill": {
     "duration": 0.06821,
     "end_time": "2021-04-08T00:39:49.454036",
     "exception": false,
     "start_time": "2021-04-08T00:39:49.385826",
     "status": "completed"
    },
    "tags": []
   },
   "outputs": [],
   "source": [
    "model_prob = Model(layers[-2:]) "
   ]
  },
  {
   "cell_type": "code",
   "execution_count": 28,
   "id": "introductory-enforcement",
   "metadata": {
    "execution": {
     "iopub.execute_input": "2021-04-08T00:39:49.551951Z",
     "iopub.status.busy": "2021-04-08T00:39:49.551410Z",
     "iopub.status.idle": "2021-04-08T00:39:49.565813Z",
     "shell.execute_reply": "2021-04-08T00:39:49.566215Z"
    },
    "papermill": {
     "duration": 0.065812,
     "end_time": "2021-04-08T00:39:49.566328",
     "exception": false,
     "start_time": "2021-04-08T00:39:49.500516",
     "status": "completed"
    },
    "tags": []
   },
   "outputs": [],
   "source": [
    "# Adjust the x and y ranges according to the above generated plot.\n",
    "x_range = np.linspace(-4, 1, 100) \n",
    "y_range = np.linspace(-6, 6, 100) \n",
    "x_grid, y_grid = np.meshgrid(x_range, y_range) # x_grid and y_grig are of size 100 X 100\n",
    "\n",
    "# converting x_grid and y_grid to continuous arrays\n",
    "x_grid_flat = np.ravel(x_grid)\n",
    "y_grid_flat = np.ravel(y_grid)\n",
    "\n",
    "# The last layer of the current model takes two columns as input. Hence transpose of np.vstack() is required.\n",
    "X = np.vstack((x_grid_flat, y_grid_flat)).T\n",
    "\n",
    "# x_grid and y_grid are of size 100 x 100\n",
    "probability_contour = model_prob(X).reshape(100,100) "
   ]
  },
  {
   "cell_type": "code",
   "execution_count": 29,
   "id": "understood-landing",
   "metadata": {
    "execution": {
     "iopub.execute_input": "2021-04-08T00:39:49.661118Z",
     "iopub.status.busy": "2021-04-08T00:39:49.660650Z",
     "iopub.status.idle": "2021-04-08T00:39:49.866532Z",
     "shell.execute_reply": "2021-04-08T00:39:49.867315Z"
    },
    "papermill": {
     "duration": 0.251427,
     "end_time": "2021-04-08T00:39:49.867534",
     "exception": false,
     "start_time": "2021-04-08T00:39:49.616107",
     "status": "completed"
    },
    "tags": []
   },
   "outputs": [
    {
     "data": {
      "image/png": "[encoded data removed]",
      "text/plain": [
       "<Figure size 720x648 with 1 Axes>"
      ]
     },
     "metadata": {
      "needs_background": "light"
     },
     "output_type": "display_data"
    }
   ],
   "source": [
    "plt.figure(figsize=(10,9))\n",
    "plt.scatter(plot_testing[:,0], plot_testing[:,1], alpha = 0.1, c = y_test.ravel())\n",
    "contours = plt.contour(x_grid,y_grid,probability_contour)\n",
    "plt.title('Probability Contours')\n",
    "plt.clabel(contours, inline = True );"
   ]
  }
 ],
 "metadata": {
  "kernelspec": {
   "display_name": "Python 3",
   "language": "python",
   "name": "python3"
  },
  "language_info": {
   "codemirror_mode": {
    "name": "ipython",
    "version": 3
   },
   "file_extension": ".py",
   "mimetype": "text/x-python",
   "name": "python",
   "nbconvert_exporter": "python",
   "pygments_lexer": "ipython3",
   "version": "3.6.13"
  },
  "papermill": {
   "duration": 456.677517,
   "end_time": "2021-04-08T00:39:50.226104",
   "environment_variables": {},
   "exception": null,
   "input_path": "2020-08-11-NeuralNetwork.ipynb",
   "output_path": "2020-08-11-NeuralNetwork.ipynb",
   "parameters": {},
   "start_time": "2021-04-08T00:32:13.548587",
   "version": "2.1.2"
  }
 },
 "nbformat": 4,
 "nbformat_minor": 5
}