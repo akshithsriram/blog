{
 "cells": [
  {
   "cell_type": "markdown",
   "id": "fitted-suggestion",
   "metadata": {
    "papermill": {
     "duration": 0.038012,
     "end_time": "2021-07-25T20:04:25.245035",
     "exception": false,
     "start_time": "2021-07-25T20:04:25.207023",
     "status": "completed"
    },
    "tags": []
   },
   "source": [
    "# \"A Basic Neural Network: Differentiate Hand-Written Digits\"\n",
    "\n",
    "- badges: true\n",
    "- author: Akshith Sriram"
   ]
  },
  {
   "cell_type": "markdown",
   "id": "signal-flexibility",
   "metadata": {
    "papermill": {
     "duration": 0.028677,
     "end_time": "2021-07-25T20:04:25.303298",
     "exception": false,
     "start_time": "2021-07-25T20:04:25.274621",
     "status": "completed"
    },
    "tags": []
   },
   "source": [
    "### Key Objectives:\n",
    "- Building a neural network that differentiates two hand-written digits 3 and 8.\n",
    "- Comparing the results of this Neural Network (NN) to that of a Logistic Regression (LR) model.\n",
    "\n",
    "### Requirements:\n",
    "- 'Kudzu' : A neural network library that was designed during our course by [Univ.AI](www.univ.ai). \n",
    "- MNIST Database\n",
    "\n",
    "If MNIST is not installed, use the command `!pip install mnist` given below.\n",
    "It can be run both from the command line and Jupyter Notebook."
   ]
  },
  {
   "cell_type": "code",
   "execution_count": 1,
   "id": "british-texture",
   "metadata": {
    "execution": {
     "iopub.execute_input": "2021-07-25T20:04:25.377327Z",
     "iopub.status.busy": "2021-07-25T20:04:25.376722Z",
     "iopub.status.idle": "2021-07-25T20:04:27.010880Z",
     "shell.execute_reply": "2021-07-25T20:04:27.009387Z"
    },
    "papermill": {
     "duration": 1.674165,
     "end_time": "2021-07-25T20:04:27.011128",
     "exception": false,
     "start_time": "2021-07-25T20:04:25.336963",
     "status": "completed"
    },
    "tags": []
   },
   "outputs": [
    {
     "name": "stdout",
     "output_type": "stream",
     "text": [
      "Collecting mnist\r\n"
     ]
    },
    {
     "name": "stdout",
     "output_type": "stream",
     "text": [
      "  Downloading mnist-0.2.2-py2.py3-none-any.whl (3.5 kB)\r\n",
      "Requirement already satisfied: numpy in /opt/hostedtoolcache/Python/3.6.14/x64/lib/python3.6/site-packages (from mnist) (1.19.5)\r\n"
     ]
    },
    {
     "name": "stdout",
     "output_type": "stream",
     "text": [
      "Installing collected packages: mnist\r\n",
      "Successfully installed mnist-0.2.2\r\n",
      "\u001b[33mWARNING: You are using pip version 21.1.3; however, version 21.2.1 is available.\r\n",
      "You should consider upgrading via the '/opt/hostedtoolcache/Python/3.6.14/x64/bin/python -m pip install --upgrade pip' command.\u001b[0m\r\n"
     ]
    }
   ],
   "source": [
    "!pip install mnist "
   ]
  },
  {
   "cell_type": "markdown",
   "id": "stunning-extra",
   "metadata": {
    "papermill": {
     "duration": 0.029676,
     "end_time": "2021-07-25T20:04:27.071484",
     "exception": false,
     "start_time": "2021-07-25T20:04:27.041808",
     "status": "completed"
    },
    "tags": []
   },
   "source": [
    "#### Importing necessary libraries"
   ]
  },
  {
   "cell_type": "code",
   "execution_count": 2,
   "id": "wooden-france",
   "metadata": {
    "execution": {
     "iopub.execute_input": "2021-07-25T20:04:27.141101Z",
     "iopub.status.busy": "2021-07-25T20:04:27.140488Z",
     "iopub.status.idle": "2021-07-25T20:04:27.756610Z",
     "shell.execute_reply": "2021-07-25T20:04:27.755633Z"
    },
    "papermill": {
     "duration": 0.654726,
     "end_time": "2021-07-25T20:04:27.756747",
     "exception": false,
     "start_time": "2021-07-25T20:04:27.102021",
     "status": "completed"
    },
    "tags": []
   },
   "outputs": [],
   "source": [
    "%load_ext autoreload\n",
    "%autoreload 2\n",
    "\n",
    "%matplotlib inline\n",
    "import matplotlib.pyplot as plt\n",
    "\n",
    "import numpy as np\n",
    "import pandas as pd"
   ]
  },
  {
   "cell_type": "markdown",
   "id": "stunning-physics",
   "metadata": {
    "papermill": {
     "duration": 0.029626,
     "end_time": "2021-07-25T20:04:27.815569",
     "exception": false,
     "start_time": "2021-07-25T20:04:27.785943",
     "status": "completed"
    },
    "tags": []
   },
   "source": [
    "### Preparing the Data"
   ]
  },
  {
   "cell_type": "code",
   "execution_count": 3,
   "id": "unauthorized-remainder",
   "metadata": {
    "execution": {
     "iopub.execute_input": "2021-07-25T20:04:27.884604Z",
     "iopub.status.busy": "2021-07-25T20:04:27.883516Z",
     "iopub.status.idle": "2021-07-25T20:04:27.891083Z",
     "shell.execute_reply": "2021-07-25T20:04:27.891530Z"
    },
    "papermill": {
     "duration": 0.04585,
     "end_time": "2021-07-25T20:04:27.891669",
     "exception": false,
     "start_time": "2021-07-25T20:04:27.845819",
     "status": "completed"
    },
    "tags": []
   },
   "outputs": [],
   "source": [
    "import mnist"
   ]
  },
  {
   "cell_type": "code",
   "execution_count": 4,
   "id": "correct-antarctica",
   "metadata": {
    "execution": {
     "iopub.execute_input": "2021-07-25T20:04:27.957340Z",
     "iopub.status.busy": "2021-07-25T20:04:27.956759Z",
     "iopub.status.idle": "2021-07-25T20:04:58.811365Z",
     "shell.execute_reply": "2021-07-25T20:04:58.810829Z"
    },
    "papermill": {
     "duration": 30.890175,
     "end_time": "2021-07-25T20:04:58.811498",
     "exception": false,
     "start_time": "2021-07-25T20:04:27.921323",
     "status": "completed"
    },
    "tags": []
   },
   "outputs": [],
   "source": [
    "train_images = mnist.train_images()\n",
    "train_labels = mnist.train_labels()"
   ]
  },
  {
   "cell_type": "code",
   "execution_count": 5,
   "id": "musical-prospect",
   "metadata": {
    "execution": {
     "iopub.execute_input": "2021-07-25T20:04:58.876691Z",
     "iopub.status.busy": "2021-07-25T20:04:58.876084Z",
     "iopub.status.idle": "2021-07-25T20:04:58.891699Z",
     "shell.execute_reply": "2021-07-25T20:04:58.892198Z"
    },
    "papermill": {
     "duration": 0.05084,
     "end_time": "2021-07-25T20:04:58.892344",
     "exception": false,
     "start_time": "2021-07-25T20:04:58.841504",
     "status": "completed"
    },
    "tags": []
   },
   "outputs": [
    {
     "data": {
      "text/plain": [
       "((60000, 28, 28), (60000,))"
      ]
     },
     "execution_count": 5,
     "metadata": {},
     "output_type": "execute_result"
    }
   ],
   "source": [
    "train_images.shape, train_labels.shape"
   ]
  },
  {
   "cell_type": "code",
   "execution_count": 6,
   "id": "preliminary-elizabeth",
   "metadata": {
    "execution": {
     "iopub.execute_input": "2021-07-25T20:04:58.959735Z",
     "iopub.status.busy": "2021-07-25T20:04:58.959122Z",
     "iopub.status.idle": "2021-07-25T20:05:05.725343Z",
     "shell.execute_reply": "2021-07-25T20:05:05.726195Z"
    },
    "papermill": {
     "duration": 6.803168,
     "end_time": "2021-07-25T20:05:05.726452",
     "exception": false,
     "start_time": "2021-07-25T20:04:58.923284",
     "status": "completed"
    },
    "tags": []
   },
   "outputs": [],
   "source": [
    "test_images = mnist.test_images()\n",
    "test_labels = mnist.test_labels()"
   ]
  },
  {
   "cell_type": "code",
   "execution_count": 7,
   "id": "acknowledged-oxygen",
   "metadata": {
    "execution": {
     "iopub.execute_input": "2021-07-25T20:05:05.793467Z",
     "iopub.status.busy": "2021-07-25T20:05:05.792884Z",
     "iopub.status.idle": "2021-07-25T20:05:05.806703Z",
     "shell.execute_reply": "2021-07-25T20:05:05.806232Z"
    },
    "papermill": {
     "duration": 0.048436,
     "end_time": "2021-07-25T20:05:05.806820",
     "exception": false,
     "start_time": "2021-07-25T20:05:05.758384",
     "status": "completed"
    },
    "tags": []
   },
   "outputs": [
    {
     "data": {
      "text/plain": [
       "((10000, 28, 28), (10000,))"
      ]
     },
     "execution_count": 7,
     "metadata": {},
     "output_type": "execute_result"
    }
   ],
   "source": [
    "test_images.shape, test_labels.shape"
   ]
  },
  {
   "cell_type": "code",
   "execution_count": 8,
   "id": "innovative-organic",
   "metadata": {
    "execution": {
     "iopub.execute_input": "2021-07-25T20:05:05.872452Z",
     "iopub.status.busy": "2021-07-25T20:05:05.871803Z",
     "iopub.status.idle": "2021-07-25T20:05:06.032043Z",
     "shell.execute_reply": "2021-07-25T20:05:06.032513Z"
    },
    "papermill": {
     "duration": 0.194896,
     "end_time": "2021-07-25T20:05:06.032663",
     "exception": false,
     "start_time": "2021-07-25T20:05:05.837767",
     "status": "completed"
    },
    "tags": []
   },
   "outputs": [
    {
     "name": "stdout",
     "output_type": "stream",
     "text": [
      "2\n"
     ]
    },
    {
     "data": {
      "text/plain": [
       "<matplotlib.image.AxesImage at 0x7fd590e99518>"
      ]
     },
     "execution_count": 8,
     "metadata": {},
     "output_type": "execute_result"
    },
    {
     "data": {
      "image/png": "[encoded data removed]",
      "text/plain": [
       "<Figure size 432x288 with 1 Axes>"
      ]
     },
     "metadata": {
      "needs_background": "light"
     },
     "output_type": "display_data"
    }
   ],
   "source": [
    "image_index = 7776 # You may select anything up to 60,000\n",
    "print(train_labels[image_index]) \n",
    "plt.imshow(train_images[image_index], cmap='Greys')"
   ]
  },
  {
   "cell_type": "markdown",
   "id": "facial-modem",
   "metadata": {
    "papermill": {
     "duration": 0.031985,
     "end_time": "2021-07-25T20:05:06.096237",
     "exception": false,
     "start_time": "2021-07-25T20:05:06.064252",
     "status": "completed"
    },
    "tags": []
   },
   "source": [
    "## Filter data to get 3 and 8 out"
   ]
  },
  {
   "cell_type": "code",
   "execution_count": 9,
   "id": "thousand-acquisition",
   "metadata": {
    "execution": {
     "iopub.execute_input": "2021-07-25T20:05:06.163979Z",
     "iopub.status.busy": "2021-07-25T20:05:06.163397Z",
     "iopub.status.idle": "2021-07-25T20:05:06.184820Z",
     "shell.execute_reply": "2021-07-25T20:05:06.183905Z"
    },
    "papermill": {
     "duration": 0.057289,
     "end_time": "2021-07-25T20:05:06.185030",
     "exception": false,
     "start_time": "2021-07-25T20:05:06.127741",
     "status": "completed"
    },
    "tags": []
   },
   "outputs": [],
   "source": [
    "train_filter = np.where((train_labels == 3 ) | (train_labels == 8))\n",
    "test_filter = np.where((test_labels == 3) | (test_labels == 8))\n",
    "X_train, y_train = train_images[train_filter], train_labels[train_filter]\n",
    "X_test, y_test = test_images[test_filter], test_labels[test_filter]"
   ]
  },
  {
   "cell_type": "markdown",
   "id": "ruled-access",
   "metadata": {
    "papermill": {
     "duration": 0.031543,
     "end_time": "2021-07-25T20:05:06.248524",
     "exception": false,
     "start_time": "2021-07-25T20:05:06.216981",
     "status": "completed"
    },
    "tags": []
   },
   "source": [
    "We normalize the pixel values in the 0 to 1 range"
   ]
  },
  {
   "cell_type": "code",
   "execution_count": 10,
   "id": "isolated-denver",
   "metadata": {
    "execution": {
     "iopub.execute_input": "2021-07-25T20:05:06.319394Z",
     "iopub.status.busy": "2021-07-25T20:05:06.318808Z",
     "iopub.status.idle": "2021-07-25T20:05:06.370789Z",
     "shell.execute_reply": "2021-07-25T20:05:06.370256Z"
    },
    "papermill": {
     "duration": 0.090933,
     "end_time": "2021-07-25T20:05:06.370930",
     "exception": false,
     "start_time": "2021-07-25T20:05:06.279997",
     "status": "completed"
    },
    "tags": []
   },
   "outputs": [],
   "source": [
    "X_train = X_train/255.\n",
    "X_test = X_test/255."
   ]
  },
  {
   "cell_type": "markdown",
   "id": "perfect-summary",
   "metadata": {
    "papermill": {
     "duration": 0.031813,
     "end_time": "2021-07-25T20:05:06.434311",
     "exception": false,
     "start_time": "2021-07-25T20:05:06.402498",
     "status": "completed"
    },
    "tags": []
   },
   "source": [
    "Setup the labels as 1 (when the digit is 3) and 0 (when the digit is 8)"
   ]
  },
  {
   "cell_type": "code",
   "execution_count": 11,
   "id": "personalized-growing",
   "metadata": {
    "execution": {
     "iopub.execute_input": "2021-07-25T20:05:06.502982Z",
     "iopub.status.busy": "2021-07-25T20:05:06.502316Z",
     "iopub.status.idle": "2021-07-25T20:05:06.514836Z",
     "shell.execute_reply": "2021-07-25T20:05:06.514326Z"
    },
    "papermill": {
     "duration": 0.048943,
     "end_time": "2021-07-25T20:05:06.514961",
     "exception": false,
     "start_time": "2021-07-25T20:05:06.466018",
     "status": "completed"
    },
    "tags": []
   },
   "outputs": [],
   "source": [
    "y_train = 1*(y_train==3)\n",
    "y_test = 1*(y_test==3)"
   ]
  },
  {
   "cell_type": "code",
   "execution_count": 12,
   "id": "considered-virgin",
   "metadata": {
    "execution": {
     "iopub.execute_input": "2021-07-25T20:05:06.583759Z",
     "iopub.status.busy": "2021-07-25T20:05:06.583178Z",
     "iopub.status.idle": "2021-07-25T20:05:06.599385Z",
     "shell.execute_reply": "2021-07-25T20:05:06.598886Z"
    },
    "papermill": {
     "duration": 0.052274,
     "end_time": "2021-07-25T20:05:06.599521",
     "exception": false,
     "start_time": "2021-07-25T20:05:06.547247",
     "status": "completed"
    },
    "tags": []
   },
   "outputs": [
    {
     "data": {
      "text/plain": [
       "((11982, 28, 28), (1984, 28, 28))"
      ]
     },
     "execution_count": 12,
     "metadata": {},
     "output_type": "execute_result"
    }
   ],
   "source": [
    "X_train.shape, X_test.shape"
   ]
  },
  {
   "cell_type": "markdown",
   "id": "civilian-mobile",
   "metadata": {
    "papermill": {
     "duration": 0.034174,
     "end_time": "2021-07-25T20:05:06.666153",
     "exception": false,
     "start_time": "2021-07-25T20:05:06.631979",
     "status": "completed"
    },
    "tags": []
   },
   "source": [
    "### Reshape the input data to create a linear array"
   ]
  },
  {
   "cell_type": "code",
   "execution_count": 13,
   "id": "colonial-adams",
   "metadata": {
    "execution": {
     "iopub.execute_input": "2021-07-25T20:05:06.733061Z",
     "iopub.status.busy": "2021-07-25T20:05:06.732386Z",
     "iopub.status.idle": "2021-07-25T20:05:06.747261Z",
     "shell.execute_reply": "2021-07-25T20:05:06.746796Z"
    },
    "papermill": {
     "duration": 0.050275,
     "end_time": "2021-07-25T20:05:06.747377",
     "exception": false,
     "start_time": "2021-07-25T20:05:06.697102",
     "status": "completed"
    },
    "tags": []
   },
   "outputs": [
    {
     "data": {
      "text/plain": [
       "((11982, 784), (1984, 784))"
      ]
     },
     "execution_count": 13,
     "metadata": {},
     "output_type": "execute_result"
    }
   ],
   "source": [
    "X_train = X_train.reshape(X_train.shape[0], -1)\n",
    "X_test = X_test.reshape(X_test.shape[0], -1)\n",
    "X_train.shape, X_test.shape"
   ]
  },
  {
   "cell_type": "markdown",
   "id": "smart-details",
   "metadata": {
    "papermill": {
     "duration": 0.031201,
     "end_time": "2021-07-25T20:05:06.810856",
     "exception": false,
     "start_time": "2021-07-25T20:05:06.779655",
     "status": "completed"
    },
    "tags": []
   },
   "source": [
    "### Importing appropriate functions from 'Kudzu'"
   ]
  },
  {
   "cell_type": "code",
   "execution_count": 14,
   "id": "celtic-trial",
   "metadata": {
    "execution": {
     "iopub.execute_input": "2021-07-25T20:05:06.879068Z",
     "iopub.status.busy": "2021-07-25T20:05:06.878477Z",
     "iopub.status.idle": "2021-07-25T20:05:06.899006Z",
     "shell.execute_reply": "2021-07-25T20:05:06.898521Z"
    },
    "papermill": {
     "duration": 0.056705,
     "end_time": "2021-07-25T20:05:06.899134",
     "exception": false,
     "start_time": "2021-07-25T20:05:06.842429",
     "status": "completed"
    },
    "tags": []
   },
   "outputs": [],
   "source": [
    "from kudzu.layer import Sigmoid\n",
    "from kudzu.layer import Relu\n",
    "from kudzu.layer import Affine, Sigmoid\n",
    "\n",
    "from kudzu.model import Model\n",
    "from kudzu.train import Learner\n",
    "from kudzu.optim import GD\n",
    "from kudzu.data import Data, Dataloader, Sampler\n",
    "\n",
    "from kudzu.callbacks import AccCallback\n",
    "from kudzu.callbacks import ClfCallback\n",
    "\n",
    "from kudzu.loss import MSE"
   ]
  },
  {
   "cell_type": "markdown",
   "id": "coupled-customer",
   "metadata": {
    "papermill": {
     "duration": 0.032266,
     "end_time": "2021-07-25T20:05:06.963637",
     "exception": false,
     "start_time": "2021-07-25T20:05:06.931371",
     "status": "completed"
    },
    "tags": []
   },
   "source": [
    "### Let us create a `Config` class, to store important parameters. \n",
    "This class essentially plays the role of a dictionary."
   ]
  },
  {
   "cell_type": "code",
   "execution_count": 15,
   "id": "young-ceiling",
   "metadata": {
    "execution": {
     "iopub.execute_input": "2021-07-25T20:05:07.034456Z",
     "iopub.status.busy": "2021-07-25T20:05:07.033843Z",
     "iopub.status.idle": "2021-07-25T20:05:07.047284Z",
     "shell.execute_reply": "2021-07-25T20:05:07.047739Z"
    },
    "papermill": {
     "duration": 0.049982,
     "end_time": "2021-07-25T20:05:07.047921",
     "exception": false,
     "start_time": "2021-07-25T20:05:06.997939",
     "status": "completed"
    },
    "tags": []
   },
   "outputs": [],
   "source": [
    "class Config:\n",
    "    pass\n",
    "config = Config()\n",
    "config.lr = 0.001\n",
    "config.num_epochs = 251\n",
    "config.bs = 50"
   ]
  },
  {
   "cell_type": "markdown",
   "id": "according-mandate",
   "metadata": {
    "papermill": {
     "duration": 0.032726,
     "end_time": "2021-07-25T20:05:07.115848",
     "exception": false,
     "start_time": "2021-07-25T20:05:07.083122",
     "status": "completed"
    },
    "tags": []
   },
   "source": [
    "### Initializing data to the variables"
   ]
  },
  {
   "cell_type": "code",
   "execution_count": 16,
   "id": "academic-disposition",
   "metadata": {
    "execution": {
     "iopub.execute_input": "2021-07-25T20:05:07.183889Z",
     "iopub.status.busy": "2021-07-25T20:05:07.183293Z",
     "iopub.status.idle": "2021-07-25T20:05:07.196836Z",
     "shell.execute_reply": "2021-07-25T20:05:07.196361Z"
    },
    "papermill": {
     "duration": 0.049427,
     "end_time": "2021-07-25T20:05:07.196964",
     "exception": false,
     "start_time": "2021-07-25T20:05:07.147537",
     "status": "completed"
    },
    "tags": []
   },
   "outputs": [],
   "source": [
    "data = Data(X_train, y_train.reshape(-1,1))\n",
    "sampler = Sampler(data, config.bs, shuffle=True)\n",
    "\n",
    "dl = Dataloader(data, sampler)\n",
    "\n",
    "opt = GD(config.lr)\n",
    "loss = MSE()"
   ]
  },
  {
   "cell_type": "code",
   "execution_count": 17,
   "id": "featured-commission",
   "metadata": {
    "execution": {
     "iopub.execute_input": "2021-07-25T20:05:07.266744Z",
     "iopub.status.busy": "2021-07-25T20:05:07.266144Z",
     "iopub.status.idle": "2021-07-25T20:05:07.279491Z",
     "shell.execute_reply": "2021-07-25T20:05:07.279965Z"
    },
    "papermill": {
     "duration": 0.050893,
     "end_time": "2021-07-25T20:05:07.280111",
     "exception": false,
     "start_time": "2021-07-25T20:05:07.229218",
     "status": "completed"
    },
    "tags": []
   },
   "outputs": [],
   "source": [
    "training_xdata = X_train\n",
    "testing_xdata = X_test\n",
    "training_ydata = y_train.reshape(-1,1)\n",
    "testing_ydata = y_test.reshape(-1,1)"
   ]
  },
  {
   "cell_type": "markdown",
   "id": "played-safety",
   "metadata": {
    "papermill": {
     "duration": 0.032519,
     "end_time": "2021-07-25T20:05:07.344790",
     "exception": false,
     "start_time": "2021-07-25T20:05:07.312271",
     "status": "completed"
    },
    "tags": []
   },
   "source": [
    "### Running Models with the Training data\n",
    "Details about the network layers:\n",
    "- A first affine layer has 784 inputs and does 100 affine transforms. These are followed by a Relu\n",
    "- A second affine layer has 100 inputs from the 100 activations of the past layer, and does 100 affine transforms. These are followed by a Relu\n",
    "- A third affine layer has 100 activations and does 2 affine transformations to create an embedding for visualization. There is no non-linearity here.\n",
    "- A final \"logistic regression\" which has an affine transform from 2 inputs to 1 output, which is squeezed through a sigmoid.\n",
    "\n",
    "Help taken from Anshuman's Notebook."
   ]
  },
  {
   "cell_type": "code",
   "execution_count": 18,
   "id": "asian-bankruptcy",
   "metadata": {
    "execution": {
     "iopub.execute_input": "2021-07-25T20:05:07.414215Z",
     "iopub.status.busy": "2021-07-25T20:05:07.413570Z",
     "iopub.status.idle": "2021-07-25T20:05:07.431159Z",
     "shell.execute_reply": "2021-07-25T20:05:07.431653Z"
    },
    "papermill": {
     "duration": 0.055438,
     "end_time": "2021-07-25T20:05:07.431805",
     "exception": false,
     "start_time": "2021-07-25T20:05:07.376367",
     "status": "completed"
    },
    "tags": []
   },
   "outputs": [],
   "source": [
    "# layers for the Neural Network\n",
    "layers = [Affine(\"first\", 784, 100), Relu(\"first\"), Affine(\"second\", 100, 100), Relu(\"second\"), Affine(\"third\", 100, 2), Affine(\"final\", 2, 1), Sigmoid(\"final\")]\n",
    "model_nn = Model(layers)\n",
    "\n",
    "# layers for the Logistic Regression\n",
    "layers_lr = [Affine(\"logits\", 784, 1), Sigmoid(\"sigmoid\")]\n",
    "model_lr = Model(layers_lr)"
   ]
  },
  {
   "cell_type": "code",
   "execution_count": 19,
   "id": "removed-butler",
   "metadata": {
    "execution": {
     "iopub.execute_input": "2021-07-25T20:05:07.499365Z",
     "iopub.status.busy": "2021-07-25T20:05:07.498788Z",
     "iopub.status.idle": "2021-07-25T20:05:07.513256Z",
     "shell.execute_reply": "2021-07-25T20:05:07.512753Z"
    },
    "papermill": {
     "duration": 0.04947,
     "end_time": "2021-07-25T20:05:07.513391",
     "exception": false,
     "start_time": "2021-07-25T20:05:07.463921",
     "status": "completed"
    },
    "tags": []
   },
   "outputs": [],
   "source": [
    "# suffix _nn stands for Neural Network.\n",
    "learner_nn = Learner(loss, model_nn, opt, config.num_epochs)\n",
    "acc_nn = ClfCallback(learner_nn, config.bs, training_xdata , testing_xdata, training_ydata, testing_ydata)\n",
    "learner_nn.set_callbacks([acc_nn])"
   ]
  },
  {
   "cell_type": "code",
   "execution_count": 20,
   "id": "conceptual-throw",
   "metadata": {
    "execution": {
     "iopub.execute_input": "2021-07-25T20:05:07.580514Z",
     "iopub.status.busy": "2021-07-25T20:05:07.579936Z",
     "iopub.status.idle": "2021-07-25T20:06:39.607759Z",
     "shell.execute_reply": "2021-07-25T20:06:39.608547Z"
    },
    "papermill": {
     "duration": 92.06374,
     "end_time": "2021-07-25T20:06:39.608702",
     "exception": false,
     "start_time": "2021-07-25T20:05:07.544962",
     "status": "completed"
    },
    "tags": []
   },
   "outputs": [
    {
     "name": "stdout",
     "output_type": "stream",
     "text": [
      "====== Neural Network ======\n"
     ]
    },
    {
     "name": "stdout",
     "output_type": "stream",
     "text": [
      "Epoch 0, Loss 0.2396\n",
      "Training Accuracy: 0.7795, Testing Accuracy: 0.7873\n",
      "\n"
     ]
    },
    {
     "name": "stdout",
     "output_type": "stream",
     "text": [
      "Epoch 10, Loss 0.0549\n",
      "Training Accuracy: 0.9413, Testing Accuracy: 0.9536\n",
      "\n"
     ]
    },
    {
     "name": "stdout",
     "output_type": "stream",
     "text": [
      "Epoch 20, Loss 0.0395\n",
      "Training Accuracy: 0.9562, Testing Accuracy: 0.9632\n",
      "\n"
     ]
    },
    {
     "name": "stdout",
     "output_type": "stream",
     "text": [
      "Epoch 30, Loss 0.0335\n",
      "Training Accuracy: 0.9612, Testing Accuracy: 0.9637\n",
      "\n"
     ]
    },
    {
     "name": "stdout",
     "output_type": "stream",
     "text": [
      "Epoch 40, Loss 0.0302\n",
      "Training Accuracy: 0.9652, Testing Accuracy: 0.9667\n",
      "\n"
     ]
    },
    {
     "name": "stdout",
     "output_type": "stream",
     "text": [
      "Epoch 50, Loss 0.0279\n",
      "Training Accuracy: 0.9680, Testing Accuracy: 0.9693\n",
      "\n"
     ]
    },
    {
     "name": "stdout",
     "output_type": "stream",
     "text": [
      "Epoch 60, Loss 0.0262\n",
      "Training Accuracy: 0.9693, Testing Accuracy: 0.9693\n",
      "\n"
     ]
    },
    {
     "name": "stdout",
     "output_type": "stream",
     "text": [
      "Epoch 70, Loss 0.0249\n",
      "Training Accuracy: 0.9717, Testing Accuracy: 0.9703\n",
      "\n"
     ]
    },
    {
     "name": "stdout",
     "output_type": "stream",
     "text": [
      "Epoch 80, Loss 0.0237\n",
      "Training Accuracy: 0.9734, Testing Accuracy: 0.9703\n",
      "\n"
     ]
    },
    {
     "name": "stdout",
     "output_type": "stream",
     "text": [
      "Epoch 90, Loss 0.0228\n",
      "Training Accuracy: 0.9737, Testing Accuracy: 0.9708\n",
      "\n"
     ]
    },
    {
     "name": "stdout",
     "output_type": "stream",
     "text": [
      "Epoch 100, Loss 0.0219\n",
      "Training Accuracy: 0.9745, Testing Accuracy: 0.9713\n",
      "\n"
     ]
    },
    {
     "name": "stdout",
     "output_type": "stream",
     "text": [
      "Epoch 110, Loss 0.0211\n",
      "Training Accuracy: 0.9755, Testing Accuracy: 0.9708\n",
      "\n"
     ]
    },
    {
     "name": "stdout",
     "output_type": "stream",
     "text": [
      "Epoch 120, Loss 0.0204\n",
      "Training Accuracy: 0.9767, Testing Accuracy: 0.9718\n",
      "\n"
     ]
    },
    {
     "name": "stdout",
     "output_type": "stream",
     "text": [
      "Epoch 130, Loss 0.0197\n",
      "Training Accuracy: 0.9777, Testing Accuracy: 0.9723\n",
      "\n"
     ]
    },
    {
     "name": "stdout",
     "output_type": "stream",
     "text": [
      "Epoch 140, Loss 0.0191\n",
      "Training Accuracy: 0.9781, Testing Accuracy: 0.9728\n",
      "\n"
     ]
    },
    {
     "name": "stdout",
     "output_type": "stream",
     "text": [
      "Epoch 150, Loss 0.0186\n",
      "Training Accuracy: 0.9788, Testing Accuracy: 0.9738\n",
      "\n"
     ]
    },
    {
     "name": "stdout",
     "output_type": "stream",
     "text": [
      "Epoch 160, Loss 0.018\n",
      "Training Accuracy: 0.9796, Testing Accuracy: 0.9743\n",
      "\n"
     ]
    },
    {
     "name": "stdout",
     "output_type": "stream",
     "text": [
      "Epoch 170, Loss 0.0175\n",
      "Training Accuracy: 0.9809, Testing Accuracy: 0.9753\n",
      "\n"
     ]
    },
    {
     "name": "stdout",
     "output_type": "stream",
     "text": [
      "Epoch 180, Loss 0.017\n",
      "Training Accuracy: 0.9814, Testing Accuracy: 0.9758\n",
      "\n"
     ]
    },
    {
     "name": "stdout",
     "output_type": "stream",
     "text": [
      "Epoch 190, Loss 0.0165\n",
      "Training Accuracy: 0.9822, Testing Accuracy: 0.9758\n",
      "\n"
     ]
    },
    {
     "name": "stdout",
     "output_type": "stream",
     "text": [
      "Epoch 200, Loss 0.0161\n",
      "Training Accuracy: 0.9826, Testing Accuracy: 0.9768\n",
      "\n"
     ]
    },
    {
     "name": "stdout",
     "output_type": "stream",
     "text": [
      "Epoch 210, Loss 0.0156\n",
      "Training Accuracy: 0.9836, Testing Accuracy: 0.9768\n",
      "\n"
     ]
    },
    {
     "name": "stdout",
     "output_type": "stream",
     "text": [
      "Epoch 220, Loss 0.0152\n",
      "Training Accuracy: 0.9841, Testing Accuracy: 0.9773\n",
      "\n"
     ]
    },
    {
     "name": "stdout",
     "output_type": "stream",
     "text": [
      "Epoch 230, Loss 0.0148\n",
      "Training Accuracy: 0.9843, Testing Accuracy: 0.9773\n",
      "\n"
     ]
    },
    {
     "name": "stdout",
     "output_type": "stream",
     "text": [
      "Epoch 240, Loss 0.0144\n",
      "Training Accuracy: 0.9848, Testing Accuracy: 0.9783\n",
      "\n"
     ]
    },
    {
     "name": "stdout",
     "output_type": "stream",
     "text": [
      "Epoch 250, Loss 0.014\n",
      "Training Accuracy: 0.9853, Testing Accuracy: 0.9783\n",
      "\n"
     ]
    },
    {
     "data": {
      "text/plain": [
       "0.00264457044916998"
      ]
     },
     "execution_count": 20,
     "metadata": {},
     "output_type": "execute_result"
    }
   ],
   "source": [
    "print(\"====== Neural Network ======\")\n",
    "learner_nn.train_loop(dl)"
   ]
  },
  {
   "cell_type": "markdown",
   "id": "competent-suffering",
   "metadata": {
    "papermill": {
     "duration": 0.041034,
     "end_time": "2021-07-25T20:06:39.691146",
     "exception": false,
     "start_time": "2021-07-25T20:06:39.650112",
     "status": "completed"
    },
    "tags": []
   },
   "source": [
    "### Logistic Regression based Implementation."
   ]
  },
  {
   "cell_type": "code",
   "execution_count": 21,
   "id": "qualified-psychiatry",
   "metadata": {
    "execution": {
     "iopub.execute_input": "2021-07-25T20:06:39.776212Z",
     "iopub.status.busy": "2021-07-25T20:06:39.775614Z",
     "iopub.status.idle": "2021-07-25T20:06:39.789567Z",
     "shell.execute_reply": "2021-07-25T20:06:39.789087Z"
    },
    "papermill": {
     "duration": 0.058163,
     "end_time": "2021-07-25T20:06:39.789689",
     "exception": false,
     "start_time": "2021-07-25T20:06:39.731526",
     "status": "completed"
    },
    "tags": []
   },
   "outputs": [],
   "source": [
    "learner_lr = Learner(loss, model_lr, opt, config.num_epochs)\n",
    "acc_lr = ClfCallback(learner_lr, config.bs, training_xdata , testing_xdata, training_ydata, testing_ydata)\n",
    "learner_lr.set_callbacks([acc_lr])"
   ]
  },
  {
   "cell_type": "code",
   "execution_count": 22,
   "id": "average-outside",
   "metadata": {
    "execution": {
     "iopub.execute_input": "2021-07-25T20:06:39.879649Z",
     "iopub.status.busy": "2021-07-25T20:06:39.877903Z",
     "iopub.status.idle": "2021-07-25T20:06:56.234356Z",
     "shell.execute_reply": "2021-07-25T20:06:56.235116Z"
    },
    "papermill": {
     "duration": 16.40517,
     "end_time": "2021-07-25T20:06:56.235272",
     "exception": false,
     "start_time": "2021-07-25T20:06:39.830102",
     "status": "completed"
    },
    "tags": []
   },
   "outputs": [
    {
     "name": "stdout",
     "output_type": "stream",
     "text": [
      "====== Logistic Regression ======\n",
      "Epoch 0, Loss 0.2204\n",
      "Training Accuracy: 0.7516, Testing Accuracy: 0.7455\n",
      "\n"
     ]
    },
    {
     "name": "stdout",
     "output_type": "stream",
     "text": [
      "Epoch 10, Loss 0.1006\n",
      "Training Accuracy: 0.9119, Testing Accuracy: 0.9219\n",
      "\n"
     ]
    },
    {
     "name": "stdout",
     "output_type": "stream",
     "text": [
      "Epoch 20, Loss 0.0782\n",
      "Training Accuracy: 0.9291, Testing Accuracy: 0.9375\n",
      "\n"
     ]
    },
    {
     "name": "stdout",
     "output_type": "stream",
     "text": [
      "Epoch 30, Loss 0.0678\n",
      "Training Accuracy: 0.9357, Testing Accuracy: 0.9471\n",
      "\n"
     ]
    },
    {
     "name": "stdout",
     "output_type": "stream",
     "text": [
      "Epoch 40, Loss 0.0614\n",
      "Training Accuracy: 0.9396, Testing Accuracy: 0.9506\n",
      "\n"
     ]
    },
    {
     "name": "stdout",
     "output_type": "stream",
     "text": [
      "Epoch 50, Loss 0.0571\n",
      "Training Accuracy: 0.9432, Testing Accuracy: 0.9546\n",
      "\n"
     ]
    },
    {
     "name": "stdout",
     "output_type": "stream",
     "text": [
      "Epoch 60, Loss 0.0538\n",
      "Training Accuracy: 0.9458, Testing Accuracy: 0.9567\n",
      "\n"
     ]
    },
    {
     "name": "stdout",
     "output_type": "stream",
     "text": [
      "Epoch 70, Loss 0.0514\n",
      "Training Accuracy: 0.9481, Testing Accuracy: 0.9577\n",
      "\n"
     ]
    },
    {
     "name": "stdout",
     "output_type": "stream",
     "text": [
      "Epoch 80, Loss 0.0493\n",
      "Training Accuracy: 0.9503, Testing Accuracy: 0.9587\n",
      "\n"
     ]
    },
    {
     "name": "stdout",
     "output_type": "stream",
     "text": [
      "Epoch 90, Loss 0.0477\n",
      "Training Accuracy: 0.9513, Testing Accuracy: 0.9602\n",
      "\n"
     ]
    },
    {
     "name": "stdout",
     "output_type": "stream",
     "text": [
      "Epoch 100, Loss 0.0463\n",
      "Training Accuracy: 0.9525, Testing Accuracy: 0.9622\n",
      "\n"
     ]
    },
    {
     "name": "stdout",
     "output_type": "stream",
     "text": [
      "Epoch 110, Loss 0.0451\n",
      "Training Accuracy: 0.9533, Testing Accuracy: 0.9632\n",
      "\n"
     ]
    },
    {
     "name": "stdout",
     "output_type": "stream",
     "text": [
      "Epoch 120, Loss 0.044\n",
      "Training Accuracy: 0.9543, Testing Accuracy: 0.9632\n",
      "\n"
     ]
    },
    {
     "name": "stdout",
     "output_type": "stream",
     "text": [
      "Epoch 130, Loss 0.0431\n",
      "Training Accuracy: 0.9548, Testing Accuracy: 0.9632\n",
      "\n"
     ]
    },
    {
     "name": "stdout",
     "output_type": "stream",
     "text": [
      "Epoch 140, Loss 0.0423\n",
      "Training Accuracy: 0.9555, Testing Accuracy: 0.9632\n",
      "\n"
     ]
    },
    {
     "name": "stdout",
     "output_type": "stream",
     "text": [
      "Epoch 150, Loss 0.0415\n",
      "Training Accuracy: 0.9561, Testing Accuracy: 0.9652\n",
      "\n"
     ]
    },
    {
     "name": "stdout",
     "output_type": "stream",
     "text": [
      "Epoch 160, Loss 0.0409\n",
      "Training Accuracy: 0.9569, Testing Accuracy: 0.9652\n",
      "\n"
     ]
    },
    {
     "name": "stdout",
     "output_type": "stream",
     "text": [
      "Epoch 170, Loss 0.0402\n",
      "Training Accuracy: 0.9580, Testing Accuracy: 0.9657\n",
      "\n"
     ]
    },
    {
     "name": "stdout",
     "output_type": "stream",
     "text": [
      "Epoch 180, Loss 0.0397\n",
      "Training Accuracy: 0.9587, Testing Accuracy: 0.9657\n",
      "\n"
     ]
    },
    {
     "name": "stdout",
     "output_type": "stream",
     "text": [
      "Epoch 190, Loss 0.0392\n",
      "Training Accuracy: 0.9589, Testing Accuracy: 0.9647\n",
      "\n"
     ]
    },
    {
     "name": "stdout",
     "output_type": "stream",
     "text": [
      "Epoch 200, Loss 0.0387\n",
      "Training Accuracy: 0.9594, Testing Accuracy: 0.9647\n",
      "\n"
     ]
    },
    {
     "name": "stdout",
     "output_type": "stream",
     "text": [
      "Epoch 210, Loss 0.0382\n",
      "Training Accuracy: 0.9599, Testing Accuracy: 0.9642\n",
      "\n"
     ]
    },
    {
     "name": "stdout",
     "output_type": "stream",
     "text": [
      "Epoch 220, Loss 0.0378\n",
      "Training Accuracy: 0.9603, Testing Accuracy: 0.9647\n",
      "\n"
     ]
    },
    {
     "name": "stdout",
     "output_type": "stream",
     "text": [
      "Epoch 230, Loss 0.0374\n",
      "Training Accuracy: 0.9604, Testing Accuracy: 0.9652\n",
      "\n"
     ]
    },
    {
     "name": "stdout",
     "output_type": "stream",
     "text": [
      "Epoch 240, Loss 0.0371\n",
      "Training Accuracy: 0.9605, Testing Accuracy: 0.9647\n",
      "\n"
     ]
    },
    {
     "name": "stdout",
     "output_type": "stream",
     "text": [
      "Epoch 250, Loss 0.0367\n",
      "Training Accuracy: 0.9610, Testing Accuracy: 0.9647\n",
      "\n"
     ]
    },
    {
     "data": {
      "text/plain": [
       "0.0446937024143061"
      ]
     },
     "execution_count": 22,
     "metadata": {},
     "output_type": "execute_result"
    }
   ],
   "source": [
    "print(\"====== Logistic Regression ======\")\n",
    "learner_lr.train_loop(dl)"
   ]
  },
  {
   "cell_type": "markdown",
   "id": "adjusted-possible",
   "metadata": {
    "papermill": {
     "duration": 0.058476,
     "end_time": "2021-07-25T20:06:56.351693",
     "exception": false,
     "start_time": "2021-07-25T20:06:56.293217",
     "status": "completed"
    },
    "tags": []
   },
   "source": [
    "### Comparing results of NN and LR"
   ]
  },
  {
   "cell_type": "code",
   "execution_count": 23,
   "id": "mental-multimedia",
   "metadata": {
    "execution": {
     "iopub.execute_input": "2021-07-25T20:06:56.457511Z",
     "iopub.status.busy": "2021-07-25T20:06:56.456886Z",
     "iopub.status.idle": "2021-07-25T20:06:56.753886Z",
     "shell.execute_reply": "2021-07-25T20:06:56.753396Z"
    },
    "papermill": {
     "duration": 0.351759,
     "end_time": "2021-07-25T20:06:56.754017",
     "exception": false,
     "start_time": "2021-07-25T20:06:56.402258",
     "status": "completed"
    },
    "tags": []
   },
   "outputs": [
    {
     "data": {
      "text/plain": [
       "<matplotlib.legend.Legend at 0x7fd5889fd128>"
      ]
     },
     "execution_count": 23,
     "metadata": {},
     "output_type": "execute_result"
    },
    {
     "data": {
      "image/png": "[encoded data removed]",
      "text/plain": [
       "<Figure size 1080x720 with 1 Axes>"
      ]
     },
     "metadata": {
      "needs_background": "light"
     },
     "output_type": "display_data"
    }
   ],
   "source": [
    "plt.figure(figsize=(15,10))\n",
    "\n",
    "# Neural Network plots\n",
    "plt.plot(acc_nn.accuracies, 'r-', label = \"Training Accuracies - NN\")\n",
    "plt.plot(acc_nn.test_accuracies, 'g-', label = \"Testing Accuracies - NN\")\n",
    "\n",
    "# Logistic Regression plots\n",
    "plt.plot(acc_lr.accuracies, 'k-', label = \"Training Accuracies - LR\")\n",
    "plt.plot(acc_lr.test_accuracies, 'b-', label = \"Testing Accuracies - LR\")\n",
    "\n",
    "plt.ylim(0.8, 1)\n",
    "\n",
    "plt.legend()\n",
    "\n"
   ]
  },
  {
   "cell_type": "markdown",
   "id": "sexual-flesh",
   "metadata": {
    "papermill": {
     "duration": 0.051087,
     "end_time": "2021-07-25T20:06:56.856571",
     "exception": false,
     "start_time": "2021-07-25T20:06:56.805484",
     "status": "completed"
    },
    "tags": []
   },
   "source": [
    "### From the plot, we can observe the following:\n",
    "- Neural Network achieves higher accuracy than the Logistic Regression model.\n",
    "- This apparently, is because of overfitting, i.e. NN captures more noise than data.\n",
    "- Testing accuracy of NN drops below the Training accuracy at higher epochs. This explains the over-fitting on training data.\n",
    "- Logistic Regression gives a reliable accuracy, without the above mentioned problem.\n"
   ]
  },
  {
   "cell_type": "markdown",
   "id": "institutional-pacific",
   "metadata": {
    "papermill": {
     "duration": 0.05023,
     "end_time": "2021-07-25T20:06:56.957773",
     "exception": false,
     "start_time": "2021-07-25T20:06:56.907543",
     "status": "completed"
    },
    "tags": []
   },
   "source": [
    "### Moving till the last but one layer (excluding it).\n",
    "#### Plotting the outputs of this layer of the NN."
   ]
  },
  {
   "cell_type": "code",
   "execution_count": 24,
   "id": "economic-server",
   "metadata": {
    "execution": {
     "iopub.execute_input": "2021-07-25T20:06:57.067398Z",
     "iopub.status.busy": "2021-07-25T20:06:57.066776Z",
     "iopub.status.idle": "2021-07-25T20:06:57.077842Z",
     "shell.execute_reply": "2021-07-25T20:06:57.078347Z"
    },
    "papermill": {
     "duration": 0.070044,
     "end_time": "2021-07-25T20:06:57.078497",
     "exception": false,
     "start_time": "2021-07-25T20:06:57.008453",
     "status": "completed"
    },
    "tags": []
   },
   "outputs": [],
   "source": [
    "model_new = Model(layers[:-2])"
   ]
  },
  {
   "cell_type": "code",
   "execution_count": 25,
   "id": "varied-upgrade",
   "metadata": {
    "execution": {
     "iopub.execute_input": "2021-07-25T20:06:57.184359Z",
     "iopub.status.busy": "2021-07-25T20:06:57.183756Z",
     "iopub.status.idle": "2021-07-25T20:06:57.205677Z",
     "shell.execute_reply": "2021-07-25T20:06:57.206515Z"
    },
    "papermill": {
     "duration": 0.076926,
     "end_time": "2021-07-25T20:06:57.206684",
     "exception": false,
     "start_time": "2021-07-25T20:06:57.129758",
     "status": "completed"
    },
    "tags": []
   },
   "outputs": [],
   "source": [
    "plot_testing = model_new(testing_xdata)"
   ]
  },
  {
   "cell_type": "code",
   "execution_count": 26,
   "id": "specific-handling",
   "metadata": {
    "execution": {
     "iopub.execute_input": "2021-07-25T20:06:57.323778Z",
     "iopub.status.busy": "2021-07-25T20:06:57.323186Z",
     "iopub.status.idle": "2021-07-25T20:06:57.569300Z",
     "shell.execute_reply": "2021-07-25T20:06:57.568201Z"
    },
    "papermill": {
     "duration": 0.309011,
     "end_time": "2021-07-25T20:06:57.569525",
     "exception": false,
     "start_time": "2021-07-25T20:06:57.260514",
     "status": "completed"
    },
    "tags": []
   },
   "outputs": [
    {
     "data": {
      "text/plain": [
       "Text(0.5, 1.0, 'Outputs')"
      ]
     },
     "execution_count": 26,
     "metadata": {},
     "output_type": "execute_result"
    },
    {
     "data": {
      "image/png": "[encoded data removed]",
      "text/plain": [
       "<Figure size 576x504 with 1 Axes>"
      ]
     },
     "metadata": {
      "needs_background": "light"
     },
     "output_type": "display_data"
    }
   ],
   "source": [
    "plt.figure(figsize=(8,7))\n",
    "plt.scatter(plot_testing[:,0], plot_testing[:,1], alpha = 0.1, c = y_test.ravel());\n",
    "plt.title('Outputs')"
   ]
  },
  {
   "cell_type": "markdown",
   "id": "described-knowing",
   "metadata": {
    "papermill": {
     "duration": 0.05719,
     "end_time": "2021-07-25T20:06:57.713481",
     "exception": false,
     "start_time": "2021-07-25T20:06:57.656291",
     "status": "completed"
    },
    "tags": []
   },
   "source": [
    "### Plotting probability contours"
   ]
  },
  {
   "cell_type": "code",
   "execution_count": 27,
   "id": "needed-growing",
   "metadata": {
    "execution": {
     "iopub.execute_input": "2021-07-25T20:06:57.830392Z",
     "iopub.status.busy": "2021-07-25T20:06:57.829714Z",
     "iopub.status.idle": "2021-07-25T20:06:57.842602Z",
     "shell.execute_reply": "2021-07-25T20:06:57.842122Z"
    },
    "papermill": {
     "duration": 0.071074,
     "end_time": "2021-07-25T20:06:57.842727",
     "exception": false,
     "start_time": "2021-07-25T20:06:57.771653",
     "status": "completed"
    },
    "tags": []
   },
   "outputs": [],
   "source": [
    "model_prob = Model(layers[-2:]) "
   ]
  },
  {
   "cell_type": "code",
   "execution_count": 28,
   "id": "introductory-enforcement",
   "metadata": {
    "execution": {
     "iopub.execute_input": "2021-07-25T20:06:57.955442Z",
     "iopub.status.busy": "2021-07-25T20:06:57.954566Z",
     "iopub.status.idle": "2021-07-25T20:06:57.969621Z",
     "shell.execute_reply": "2021-07-25T20:06:57.970111Z"
    },
    "papermill": {
     "duration": 0.074131,
     "end_time": "2021-07-25T20:06:57.970467",
     "exception": false,
     "start_time": "2021-07-25T20:06:57.896336",
     "status": "completed"
    },
    "tags": []
   },
   "outputs": [],
   "source": [
    "# Adjust the x and y ranges according to the above generated plot.\n",
    "x_range = np.linspace(-4, 1, 100) \n",
    "y_range = np.linspace(-6, 6, 100) \n",
    "x_grid, y_grid = np.meshgrid(x_range, y_range) # x_grid and y_grig are of size 100 X 100\n",
    "\n",
    "# converting x_grid and y_grid to continuous arrays\n",
    "x_grid_flat = np.ravel(x_grid)\n",
    "y_grid_flat = np.ravel(y_grid)\n",
    "\n",
    "# The last layer of the current model takes two columns as input. Hence transpose of np.vstack() is required.\n",
    "X = np.vstack((x_grid_flat, y_grid_flat)).T\n",
    "\n",
    "# x_grid and y_grid are of size 100 x 100\n",
    "probability_contour = model_prob(X).reshape(100,100) "
   ]
  },
  {
   "cell_type": "code",
   "execution_count": 29,
   "id": "understood-landing",
   "metadata": {
    "execution": {
     "iopub.execute_input": "2021-07-25T20:06:58.091587Z",
     "iopub.status.busy": "2021-07-25T20:06:58.090834Z",
     "iopub.status.idle": "2021-07-25T20:06:58.370818Z",
     "shell.execute_reply": "2021-07-25T20:06:58.371264Z"
    },
    "papermill": {
     "duration": 0.345441,
     "end_time": "2021-07-25T20:06:58.371417",
     "exception": false,
     "start_time": "2021-07-25T20:06:58.025976",
     "status": "completed"
    },
    "tags": []
   },
   "outputs": [
    {
     "data": {
      "image/png": "[encoded data removed]",
      "text/plain": [
       "<Figure size 720x648 with 1 Axes>"
      ]
     },
     "metadata": {
      "needs_background": "light"
     },
     "output_type": "display_data"
    }
   ],
   "source": [
    "plt.figure(figsize=(10,9))\n",
    "plt.scatter(plot_testing[:,0], plot_testing[:,1], alpha = 0.1, c = y_test.ravel())\n",
    "contours = plt.contour(x_grid,y_grid,probability_contour)\n",
    "plt.title('Probability Contours')\n",
    "plt.clabel(contours, inline = True );"
   ]
  }
 ],
 "metadata": {
  "kernelspec": {
   "display_name": "Python 3",
   "language": "python",
   "name": "python3"
  },
  "language_info": {
   "codemirror_mode": {
    "name": "ipython",
    "version": 3
   },
   "file_extension": ".py",
   "mimetype": "text/x-python",
   "name": "python",
   "nbconvert_exporter": "python",
   "pygments_lexer": "ipython3",
   "version": "3.6.14"
  },
  "papermill": {
   "duration": 154.741114,
   "end_time": "2021-07-25T20:06:58.836727",
   "environment_variables": {},
   "exception": null,
   "input_path": "2020-08-11-NeuralNetwork.ipynb",
   "output_path": "2020-08-11-NeuralNetwork.ipynb",
   "parameters": {},
   "start_time": "2021-07-25T20:04:24.095613",
   "version": "2.1.2"
  }
 },
 "nbformat": 4,
 "nbformat_minor": 5
}