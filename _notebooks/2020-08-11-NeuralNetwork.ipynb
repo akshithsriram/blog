{
 "cells": [
  {
   "cell_type": "markdown",
   "metadata": {
    "papermill": {
     "duration": 0.031045,
     "end_time": "2020-10-17T00:08:14.527311",
     "exception": false,
     "start_time": "2020-10-17T00:08:14.496266",
     "status": "completed"
    },
    "tags": []
   },
   "source": [
    "# \"A Basic Neural Network: Differentiate Hand-Written Digits\"\n",
    "\n",
    "- badges: true\n",
    "- author: Akshith Sriram"
   ]
  },
  {
   "cell_type": "markdown",
   "metadata": {
    "papermill": {
     "duration": 0.025471,
     "end_time": "2020-10-17T00:08:14.582263",
     "exception": false,
     "start_time": "2020-10-17T00:08:14.556792",
     "status": "completed"
    },
    "tags": []
   },
   "source": [
    "### Key Objectives:\n",
    "- Building a neural network that differentiates two hand-written digits 3 and 8.\n",
    "- Comparing the results of this Neural Network (NN) to that of a Logistic Regression (LR) model.\n",
    "\n",
    "### Requirements:\n",
    "- 'Kudzu' : A neural network library that was designed during our course by [Univ.AI](www.univ.ai). \n",
    "- MNIST Database\n",
    "\n",
    "If MNIST is not installed, use the command `!pip install mnist` given below.\n",
    "It can be run both from the command line and Jupyter Notebook."
   ]
  },
  {
   "cell_type": "code",
   "execution_count": 1,
   "metadata": {
    "execution": {
     "iopub.execute_input": "2020-10-17T00:08:14.644328Z",
     "iopub.status.busy": "2020-10-17T00:08:14.639634Z",
     "iopub.status.idle": "2020-10-17T00:08:16.177778Z",
     "shell.execute_reply": "2020-10-17T00:08:16.176535Z"
    },
    "papermill": {
     "duration": 1.571048,
     "end_time": "2020-10-17T00:08:16.178005",
     "exception": false,
     "start_time": "2020-10-17T00:08:14.606957",
     "status": "completed"
    },
    "tags": []
   },
   "outputs": [
    {
     "name": "stdout",
     "output_type": "stream",
     "text": [
      "Collecting mnist\r\n"
     ]
    },
    {
     "name": "stdout",
     "output_type": "stream",
     "text": [
      "  Downloading mnist-0.2.2-py2.py3-none-any.whl (3.5 kB)\r\n",
      "Requirement already satisfied: numpy in /opt/hostedtoolcache/Python/3.6.12/x64/lib/python3.6/site-packages (from mnist) (1.19.2)\r\n"
     ]
    },
    {
     "name": "stdout",
     "output_type": "stream",
     "text": [
      "Installing collected packages: mnist\r\n"
     ]
    },
    {
     "name": "stdout",
     "output_type": "stream",
     "text": [
      "Successfully installed mnist-0.2.2\r\n"
     ]
    }
   ],
   "source": [
    "!pip install mnist "
   ]
  },
  {
   "cell_type": "markdown",
   "metadata": {
    "papermill": {
     "duration": 0.026418,
     "end_time": "2020-10-17T00:08:16.233597",
     "exception": false,
     "start_time": "2020-10-17T00:08:16.207179",
     "status": "completed"
    },
    "tags": []
   },
   "source": [
    "#### Importing necessary libraries"
   ]
  },
  {
   "cell_type": "code",
   "execution_count": 2,
   "metadata": {
    "execution": {
     "iopub.execute_input": "2020-10-17T00:08:16.297741Z",
     "iopub.status.busy": "2020-10-17T00:08:16.297155Z",
     "iopub.status.idle": "2020-10-17T00:08:16.881099Z",
     "shell.execute_reply": "2020-10-17T00:08:16.880003Z"
    },
    "papermill": {
     "duration": 0.620532,
     "end_time": "2020-10-17T00:08:16.881320",
     "exception": false,
     "start_time": "2020-10-17T00:08:16.260788",
     "status": "completed"
    },
    "tags": []
   },
   "outputs": [],
   "source": [
    "%load_ext autoreload\n",
    "%autoreload 2\n",
    "\n",
    "%matplotlib inline\n",
    "import matplotlib.pyplot as plt\n",
    "\n",
    "import numpy as np\n",
    "import pandas as pd"
   ]
  },
  {
   "cell_type": "markdown",
   "metadata": {
    "papermill": {
     "duration": 0.027694,
     "end_time": "2020-10-17T00:08:16.936680",
     "exception": false,
     "start_time": "2020-10-17T00:08:16.908986",
     "status": "completed"
    },
    "tags": []
   },
   "source": [
    "### Preparing the Data"
   ]
  },
  {
   "cell_type": "code",
   "execution_count": 3,
   "metadata": {
    "execution": {
     "iopub.execute_input": "2020-10-17T00:08:16.993112Z",
     "iopub.status.busy": "2020-10-17T00:08:16.992501Z",
     "iopub.status.idle": "2020-10-17T00:08:17.005099Z",
     "shell.execute_reply": "2020-10-17T00:08:17.004506Z"
    },
    "papermill": {
     "duration": 0.0423,
     "end_time": "2020-10-17T00:08:17.005226",
     "exception": false,
     "start_time": "2020-10-17T00:08:16.962926",
     "status": "completed"
    },
    "tags": []
   },
   "outputs": [],
   "source": [
    "import mnist"
   ]
  },
  {
   "cell_type": "code",
   "execution_count": 4,
   "metadata": {
    "execution": {
     "iopub.execute_input": "2020-10-17T00:08:17.062471Z",
     "iopub.status.busy": "2020-10-17T00:08:17.061892Z",
     "iopub.status.idle": "2020-10-17T00:08:17.989249Z",
     "shell.execute_reply": "2020-10-17T00:08:17.989750Z"
    },
    "papermill": {
     "duration": 0.958162,
     "end_time": "2020-10-17T00:08:17.989920",
     "exception": false,
     "start_time": "2020-10-17T00:08:17.031758",
     "status": "completed"
    },
    "tags": []
   },
   "outputs": [],
   "source": [
    "train_images = mnist.train_images()\n",
    "train_labels = mnist.train_labels()"
   ]
  },
  {
   "cell_type": "code",
   "execution_count": 5,
   "metadata": {
    "execution": {
     "iopub.execute_input": "2020-10-17T00:08:18.049682Z",
     "iopub.status.busy": "2020-10-17T00:08:18.049067Z",
     "iopub.status.idle": "2020-10-17T00:08:18.063309Z",
     "shell.execute_reply": "2020-10-17T00:08:18.062778Z"
    },
    "papermill": {
     "duration": 0.046092,
     "end_time": "2020-10-17T00:08:18.063443",
     "exception": false,
     "start_time": "2020-10-17T00:08:18.017351",
     "status": "completed"
    },
    "tags": []
   },
   "outputs": [
    {
     "data": {
      "text/plain": [
       "((60000, 28, 28), (60000,))"
      ]
     },
     "execution_count": 5,
     "metadata": {},
     "output_type": "execute_result"
    }
   ],
   "source": [
    "train_images.shape, train_labels.shape"
   ]
  },
  {
   "cell_type": "code",
   "execution_count": 6,
   "metadata": {
    "execution": {
     "iopub.execute_input": "2020-10-17T00:08:18.122014Z",
     "iopub.status.busy": "2020-10-17T00:08:18.121411Z",
     "iopub.status.idle": "2020-10-17T00:08:18.566365Z",
     "shell.execute_reply": "2020-10-17T00:08:18.565836Z"
    },
    "papermill": {
     "duration": 0.476296,
     "end_time": "2020-10-17T00:08:18.566523",
     "exception": false,
     "start_time": "2020-10-17T00:08:18.090227",
     "status": "completed"
    },
    "tags": []
   },
   "outputs": [],
   "source": [
    "test_images = mnist.test_images()\n",
    "test_labels = mnist.test_labels()"
   ]
  },
  {
   "cell_type": "code",
   "execution_count": 7,
   "metadata": {
    "execution": {
     "iopub.execute_input": "2020-10-17T00:08:18.628472Z",
     "iopub.status.busy": "2020-10-17T00:08:18.627875Z",
     "iopub.status.idle": "2020-10-17T00:08:18.638189Z",
     "shell.execute_reply": "2020-10-17T00:08:18.637728Z"
    },
    "papermill": {
     "duration": 0.045737,
     "end_time": "2020-10-17T00:08:18.638307",
     "exception": false,
     "start_time": "2020-10-17T00:08:18.592570",
     "status": "completed"
    },
    "tags": []
   },
   "outputs": [
    {
     "data": {
      "text/plain": [
       "((10000, 28, 28), (10000,))"
      ]
     },
     "execution_count": 7,
     "metadata": {},
     "output_type": "execute_result"
    }
   ],
   "source": [
    "test_images.shape, test_labels.shape"
   ]
  },
  {
   "cell_type": "code",
   "execution_count": 8,
   "metadata": {
    "execution": {
     "iopub.execute_input": "2020-10-17T00:08:18.698031Z",
     "iopub.status.busy": "2020-10-17T00:08:18.697452Z",
     "iopub.status.idle": "2020-10-17T00:08:18.838991Z",
     "shell.execute_reply": "2020-10-17T00:08:18.839624Z"
    },
    "papermill": {
     "duration": 0.175447,
     "end_time": "2020-10-17T00:08:18.839785",
     "exception": false,
     "start_time": "2020-10-17T00:08:18.664338",
     "status": "completed"
    },
    "tags": []
   },
   "outputs": [
    {
     "name": "stdout",
     "output_type": "stream",
     "text": [
      "2\n"
     ]
    },
    {
     "data": {
      "text/plain": [
       "<matplotlib.image.AxesImage at 0x7fea4b2309b0>"
      ]
     },
     "execution_count": 8,
     "metadata": {},
     "output_type": "execute_result"
    },
    {
     "data": {
      "image/png": "[encoded data removed]",
      "text/plain": [
       "<Figure size 432x288 with 1 Axes>"
      ]
     },
     "metadata": {
      "needs_background": "light"
     },
     "output_type": "display_data"
    }
   ],
   "source": [
    "image_index = 7776 # You may select anything up to 60,000\n",
    "print(train_labels[image_index]) \n",
    "plt.imshow(train_images[image_index], cmap='Greys')"
   ]
  },
  {
   "cell_type": "markdown",
   "metadata": {
    "papermill": {
     "duration": 0.030056,
     "end_time": "2020-10-17T00:08:18.898985",
     "exception": false,
     "start_time": "2020-10-17T00:08:18.868929",
     "status": "completed"
    },
    "tags": []
   },
   "source": [
    "## Filter data to get 3 and 8 out"
   ]
  },
  {
   "cell_type": "code",
   "execution_count": 9,
   "metadata": {
    "execution": {
     "iopub.execute_input": "2020-10-17T00:08:18.974523Z",
     "iopub.status.busy": "2020-10-17T00:08:18.973929Z",
     "iopub.status.idle": "2020-10-17T00:08:18.993853Z",
     "shell.execute_reply": "2020-10-17T00:08:18.994375Z"
    },
    "papermill": {
     "duration": 0.060831,
     "end_time": "2020-10-17T00:08:18.994535",
     "exception": false,
     "start_time": "2020-10-17T00:08:18.933704",
     "status": "completed"
    },
    "tags": []
   },
   "outputs": [],
   "source": [
    "train_filter = np.where((train_labels == 3 ) | (train_labels == 8))\n",
    "test_filter = np.where((test_labels == 3) | (test_labels == 8))\n",
    "X_train, y_train = train_images[train_filter], train_labels[train_filter]\n",
    "X_test, y_test = test_images[test_filter], test_labels[test_filter]"
   ]
  },
  {
   "cell_type": "markdown",
   "metadata": {
    "papermill": {
     "duration": 0.030194,
     "end_time": "2020-10-17T00:08:19.054746",
     "exception": false,
     "start_time": "2020-10-17T00:08:19.024552",
     "status": "completed"
    },
    "tags": []
   },
   "source": [
    "We normalize the pixel values in the 0 to 1 range"
   ]
  },
  {
   "cell_type": "code",
   "execution_count": 10,
   "metadata": {
    "execution": {
     "iopub.execute_input": "2020-10-17T00:08:19.116513Z",
     "iopub.status.busy": "2020-10-17T00:08:19.115929Z",
     "iopub.status.idle": "2020-10-17T00:08:19.170261Z",
     "shell.execute_reply": "2020-10-17T00:08:19.169345Z"
    },
    "papermill": {
     "duration": 0.087265,
     "end_time": "2020-10-17T00:08:19.170479",
     "exception": false,
     "start_time": "2020-10-17T00:08:19.083214",
     "status": "completed"
    },
    "tags": []
   },
   "outputs": [],
   "source": [
    "X_train = X_train/255.\n",
    "X_test = X_test/255."
   ]
  },
  {
   "cell_type": "markdown",
   "metadata": {
    "papermill": {
     "duration": 0.028531,
     "end_time": "2020-10-17T00:08:19.229595",
     "exception": false,
     "start_time": "2020-10-17T00:08:19.201064",
     "status": "completed"
    },
    "tags": []
   },
   "source": [
    "Setup the labels as 1 (when the digit is 3) and 0 (when the digit is 8)"
   ]
  },
  {
   "cell_type": "code",
   "execution_count": 11,
   "metadata": {
    "execution": {
     "iopub.execute_input": "2020-10-17T00:08:19.404830Z",
     "iopub.status.busy": "2020-10-17T00:08:19.404221Z",
     "iopub.status.idle": "2020-10-17T00:08:19.419517Z",
     "shell.execute_reply": "2020-10-17T00:08:19.419976Z"
    },
    "papermill": {
     "duration": 0.159764,
     "end_time": "2020-10-17T00:08:19.420134",
     "exception": false,
     "start_time": "2020-10-17T00:08:19.260370",
     "status": "completed"
    },
    "tags": []
   },
   "outputs": [],
   "source": [
    "y_train = 1*(y_train==3)\n",
    "y_test = 1*(y_test==3)"
   ]
  },
  {
   "cell_type": "code",
   "execution_count": 12,
   "metadata": {
    "execution": {
     "iopub.execute_input": "2020-10-17T00:08:19.523215Z",
     "iopub.status.busy": "2020-10-17T00:08:19.522652Z",
     "iopub.status.idle": "2020-10-17T00:08:19.536734Z",
     "shell.execute_reply": "2020-10-17T00:08:19.536136Z"
    },
    "papermill": {
     "duration": 0.046391,
     "end_time": "2020-10-17T00:08:19.536865",
     "exception": false,
     "start_time": "2020-10-17T00:08:19.490474",
     "status": "completed"
    },
    "tags": []
   },
   "outputs": [
    {
     "data": {
      "text/plain": [
       "((11982, 28, 28), (1984, 28, 28))"
      ]
     },
     "execution_count": 12,
     "metadata": {},
     "output_type": "execute_result"
    }
   ],
   "source": [
    "X_train.shape, X_test.shape"
   ]
  },
  {
   "cell_type": "markdown",
   "metadata": {
    "papermill": {
     "duration": 0.032124,
     "end_time": "2020-10-17T00:08:19.597067",
     "exception": false,
     "start_time": "2020-10-17T00:08:19.564943",
     "status": "completed"
    },
    "tags": []
   },
   "source": [
    "### Reshape the input data to create a linear array"
   ]
  },
  {
   "cell_type": "code",
   "execution_count": 13,
   "metadata": {
    "execution": {
     "iopub.execute_input": "2020-10-17T00:08:19.659960Z",
     "iopub.status.busy": "2020-10-17T00:08:19.659347Z",
     "iopub.status.idle": "2020-10-17T00:08:19.673471Z",
     "shell.execute_reply": "2020-10-17T00:08:19.672998Z"
    },
    "papermill": {
     "duration": 0.048297,
     "end_time": "2020-10-17T00:08:19.673602",
     "exception": false,
     "start_time": "2020-10-17T00:08:19.625305",
     "status": "completed"
    },
    "tags": []
   },
   "outputs": [
    {
     "data": {
      "text/plain": [
       "((11982, 784), (1984, 784))"
      ]
     },
     "execution_count": 13,
     "metadata": {},
     "output_type": "execute_result"
    }
   ],
   "source": [
    "X_train = X_train.reshape(X_train.shape[0], -1)\n",
    "X_test = X_test.reshape(X_test.shape[0], -1)\n",
    "X_train.shape, X_test.shape"
   ]
  },
  {
   "cell_type": "markdown",
   "metadata": {
    "papermill": {
     "duration": 0.028744,
     "end_time": "2020-10-17T00:08:19.732341",
     "exception": false,
     "start_time": "2020-10-17T00:08:19.703597",
     "status": "completed"
    },
    "tags": []
   },
   "source": [
    "### Importing appropriate functions from 'Kudzu'"
   ]
  },
  {
   "cell_type": "code",
   "execution_count": 14,
   "metadata": {
    "execution": {
     "iopub.execute_input": "2020-10-17T00:08:19.794711Z",
     "iopub.status.busy": "2020-10-17T00:08:19.794121Z",
     "iopub.status.idle": "2020-10-17T00:08:19.816637Z",
     "shell.execute_reply": "2020-10-17T00:08:19.815947Z"
    },
    "papermill": {
     "duration": 0.055779,
     "end_time": "2020-10-17T00:08:19.816905",
     "exception": false,
     "start_time": "2020-10-17T00:08:19.761126",
     "status": "completed"
    },
    "tags": []
   },
   "outputs": [],
   "source": [
    "from kudzu.layer import Sigmoid\n",
    "from kudzu.layer import Relu\n",
    "from kudzu.layer import Affine, Sigmoid\n",
    "\n",
    "from kudzu.model import Model\n",
    "from kudzu.train import Learner\n",
    "from kudzu.optim import GD\n",
    "from kudzu.data import Data, Dataloader, Sampler\n",
    "\n",
    "from kudzu.callbacks import AccCallback\n",
    "from kudzu.callbacks import ClfCallback\n",
    "\n",
    "from kudzu.loss import MSE"
   ]
  },
  {
   "cell_type": "markdown",
   "metadata": {
    "papermill": {
     "duration": 0.028257,
     "end_time": "2020-10-17T00:08:19.875140",
     "exception": false,
     "start_time": "2020-10-17T00:08:19.846883",
     "status": "completed"
    },
    "tags": []
   },
   "source": [
    "### Let us create a `Config` class, to store important parameters. \n",
    "This class essentially plays the role of a dictionary."
   ]
  },
  {
   "cell_type": "code",
   "execution_count": 15,
   "metadata": {
    "execution": {
     "iopub.execute_input": "2020-10-17T00:08:19.938991Z",
     "iopub.status.busy": "2020-10-17T00:08:19.938408Z",
     "iopub.status.idle": "2020-10-17T00:08:19.953768Z",
     "shell.execute_reply": "2020-10-17T00:08:19.954278Z"
    },
    "papermill": {
     "duration": 0.050245,
     "end_time": "2020-10-17T00:08:19.954436",
     "exception": false,
     "start_time": "2020-10-17T00:08:19.904191",
     "status": "completed"
    },
    "tags": []
   },
   "outputs": [],
   "source": [
    "class Config:\n",
    "    pass\n",
    "config = Config()\n",
    "config.lr = 0.001\n",
    "config.num_epochs = 251\n",
    "config.bs = 50"
   ]
  },
  {
   "cell_type": "markdown",
   "metadata": {
    "papermill": {
     "duration": 0.028432,
     "end_time": "2020-10-17T00:08:20.011022",
     "exception": false,
     "start_time": "2020-10-17T00:08:19.982590",
     "status": "completed"
    },
    "tags": []
   },
   "source": [
    "### Initializing data to the variables"
   ]
  },
  {
   "cell_type": "code",
   "execution_count": 16,
   "metadata": {
    "execution": {
     "iopub.execute_input": "2020-10-17T00:08:20.074308Z",
     "iopub.status.busy": "2020-10-17T00:08:20.073716Z",
     "iopub.status.idle": "2020-10-17T00:08:20.088767Z",
     "shell.execute_reply": "2020-10-17T00:08:20.089256Z"
    },
    "papermill": {
     "duration": 0.049393,
     "end_time": "2020-10-17T00:08:20.089419",
     "exception": false,
     "start_time": "2020-10-17T00:08:20.040026",
     "status": "completed"
    },
    "tags": []
   },
   "outputs": [],
   "source": [
    "data = Data(X_train, y_train.reshape(-1,1))\n",
    "sampler = Sampler(data, config.bs, shuffle=True)\n",
    "\n",
    "dl = Dataloader(data, sampler)\n",
    "\n",
    "opt = GD(config.lr)\n",
    "loss = MSE()"
   ]
  },
  {
   "cell_type": "code",
   "execution_count": 17,
   "metadata": {
    "execution": {
     "iopub.execute_input": "2020-10-17T00:08:20.150850Z",
     "iopub.status.busy": "2020-10-17T00:08:20.150272Z",
     "iopub.status.idle": "2020-10-17T00:08:20.164171Z",
     "shell.execute_reply": "2020-10-17T00:08:20.163662Z"
    },
    "papermill": {
     "duration": 0.046233,
     "end_time": "2020-10-17T00:08:20.164300",
     "exception": false,
     "start_time": "2020-10-17T00:08:20.118067",
     "status": "completed"
    },
    "tags": []
   },
   "outputs": [],
   "source": [
    "training_xdata = X_train\n",
    "testing_xdata = X_test\n",
    "training_ydata = y_train.reshape(-1,1)\n",
    "testing_ydata = y_test.reshape(-1,1)"
   ]
  },
  {
   "cell_type": "markdown",
   "metadata": {
    "papermill": {
     "duration": 0.028089,
     "end_time": "2020-10-17T00:08:20.219949",
     "exception": false,
     "start_time": "2020-10-17T00:08:20.191860",
     "status": "completed"
    },
    "tags": []
   },
   "source": [
    "### Running Models with the Training data\n",
    "Details about the network layers:\n",
    "- A first affine layer has 784 inputs and does 100 affine transforms. These are followed by a Relu\n",
    "- A second affine layer has 100 inputs from the 100 activations of the past layer, and does 100 affine transforms. These are followed by a Relu\n",
    "- A third affine layer has 100 activations and does 2 affine transformations to create an embedding for visualization. There is no non-linearity here.\n",
    "- A final \"logistic regression\" which has an affine transform from 2 inputs to 1 output, which is squeezed through a sigmoid.\n",
    "\n",
    "Help taken from Anshuman's Notebook."
   ]
  },
  {
   "cell_type": "code",
   "execution_count": 18,
   "metadata": {
    "execution": {
     "iopub.execute_input": "2020-10-17T00:08:20.280992Z",
     "iopub.status.busy": "2020-10-17T00:08:20.280418Z",
     "iopub.status.idle": "2020-10-17T00:08:20.297086Z",
     "shell.execute_reply": "2020-10-17T00:08:20.297539Z"
    },
    "papermill": {
     "duration": 0.049434,
     "end_time": "2020-10-17T00:08:20.297691",
     "exception": false,
     "start_time": "2020-10-17T00:08:20.248257",
     "status": "completed"
    },
    "tags": []
   },
   "outputs": [],
   "source": [
    "# layers for the Neural Network\n",
    "layers = [Affine(\"first\", 784, 100), Relu(\"first\"), Affine(\"second\", 100, 100), Relu(\"second\"), Affine(\"third\", 100, 2), Affine(\"final\", 2, 1), Sigmoid(\"final\")]\n",
    "model_nn = Model(layers)\n",
    "\n",
    "# layers for the Logistic Regression\n",
    "layers_lr = [Affine(\"logits\", 784, 1), Sigmoid(\"sigmoid\")]\n",
    "model_lr = Model(layers_lr)"
   ]
  },
  {
   "cell_type": "code",
   "execution_count": 19,
   "metadata": {
    "execution": {
     "iopub.execute_input": "2020-10-17T00:08:20.364478Z",
     "iopub.status.busy": "2020-10-17T00:08:20.363882Z",
     "iopub.status.idle": "2020-10-17T00:08:20.377994Z",
     "shell.execute_reply": "2020-10-17T00:08:20.377218Z"
    },
    "papermill": {
     "duration": 0.047915,
     "end_time": "2020-10-17T00:08:20.378184",
     "exception": false,
     "start_time": "2020-10-17T00:08:20.330269",
     "status": "completed"
    },
    "tags": []
   },
   "outputs": [],
   "source": [
    "# suffix _nn stands for Neural Network.\n",
    "learner_nn = Learner(loss, model_nn, opt, config.num_epochs)\n",
    "acc_nn = ClfCallback(learner_nn, config.bs, training_xdata , testing_xdata, training_ydata, testing_ydata)\n",
    "learner_nn.set_callbacks([acc_nn])"
   ]
  },
  {
   "cell_type": "code",
   "execution_count": 20,
   "metadata": {
    "execution": {
     "iopub.execute_input": "2020-10-17T00:08:20.446794Z",
     "iopub.status.busy": "2020-10-17T00:08:20.446205Z",
     "iopub.status.idle": "2020-10-17T00:09:44.570948Z",
     "shell.execute_reply": "2020-10-17T00:09:44.570453Z"
    },
    "papermill": {
     "duration": 84.157948,
     "end_time": "2020-10-17T00:09:44.571075",
     "exception": false,
     "start_time": "2020-10-17T00:08:20.413127",
     "status": "completed"
    },
    "tags": []
   },
   "outputs": [
    {
     "name": "stdout",
     "output_type": "stream",
     "text": [
      "====== Neural Network ======\n"
     ]
    },
    {
     "name": "stdout",
     "output_type": "stream",
     "text": [
      "Epoch 0, Loss 0.2483\n",
      "Training Accuracy: 0.6204, Testing Accuracy: 0.6245\n",
      "\n"
     ]
    },
    {
     "name": "stdout",
     "output_type": "stream",
     "text": [
      "Epoch 10, Loss 0.2281\n",
      "Training Accuracy: 0.8504, Testing Accuracy: 0.8755\n",
      "\n"
     ]
    },
    {
     "name": "stdout",
     "output_type": "stream",
     "text": [
      "Epoch 20, Loss 0.134\n",
      "Training Accuracy: 0.8948, Testing Accuracy: 0.9078\n",
      "\n"
     ]
    },
    {
     "name": "stdout",
     "output_type": "stream",
     "text": [
      "Epoch 30, Loss 0.0723\n",
      "Training Accuracy: 0.9234, Testing Accuracy: 0.9360\n",
      "\n"
     ]
    },
    {
     "name": "stdout",
     "output_type": "stream",
     "text": [
      "Epoch 40, Loss 0.0529\n",
      "Training Accuracy: 0.9416, Testing Accuracy: 0.9556\n",
      "\n"
     ]
    },
    {
     "name": "stdout",
     "output_type": "stream",
     "text": [
      "Epoch 50, Loss 0.0439\n",
      "Training Accuracy: 0.9503, Testing Accuracy: 0.9597\n",
      "\n"
     ]
    },
    {
     "name": "stdout",
     "output_type": "stream",
     "text": [
      "Epoch 60, Loss 0.0388\n",
      "Training Accuracy: 0.9557, Testing Accuracy: 0.9642\n",
      "\n"
     ]
    },
    {
     "name": "stdout",
     "output_type": "stream",
     "text": [
      "Epoch 70, Loss 0.0355\n",
      "Training Accuracy: 0.9578, Testing Accuracy: 0.9682\n",
      "\n"
     ]
    },
    {
     "name": "stdout",
     "output_type": "stream",
     "text": [
      "Epoch 80, Loss 0.0331\n",
      "Training Accuracy: 0.9606, Testing Accuracy: 0.9688\n",
      "\n"
     ]
    },
    {
     "name": "stdout",
     "output_type": "stream",
     "text": [
      "Epoch 90, Loss 0.0313\n",
      "Training Accuracy: 0.9622, Testing Accuracy: 0.9693\n",
      "\n"
     ]
    },
    {
     "name": "stdout",
     "output_type": "stream",
     "text": [
      "Epoch 100, Loss 0.0299\n",
      "Training Accuracy: 0.9634, Testing Accuracy: 0.9688\n",
      "\n"
     ]
    },
    {
     "name": "stdout",
     "output_type": "stream",
     "text": [
      "Epoch 110, Loss 0.0287\n",
      "Training Accuracy: 0.9659, Testing Accuracy: 0.9703\n",
      "\n"
     ]
    },
    {
     "name": "stdout",
     "output_type": "stream",
     "text": [
      "Epoch 120, Loss 0.0276\n",
      "Training Accuracy: 0.9675, Testing Accuracy: 0.9718\n",
      "\n"
     ]
    },
    {
     "name": "stdout",
     "output_type": "stream",
     "text": [
      "Epoch 130, Loss 0.0267\n",
      "Training Accuracy: 0.9689, Testing Accuracy: 0.9718\n",
      "\n"
     ]
    },
    {
     "name": "stdout",
     "output_type": "stream",
     "text": [
      "Epoch 140, Loss 0.026\n",
      "Training Accuracy: 0.9695, Testing Accuracy: 0.9718\n",
      "\n"
     ]
    },
    {
     "name": "stdout",
     "output_type": "stream",
     "text": [
      "Epoch 150, Loss 0.0252\n",
      "Training Accuracy: 0.9700, Testing Accuracy: 0.9728\n",
      "\n"
     ]
    },
    {
     "name": "stdout",
     "output_type": "stream",
     "text": [
      "Epoch 160, Loss 0.0246\n",
      "Training Accuracy: 0.9716, Testing Accuracy: 0.9723\n",
      "\n"
     ]
    },
    {
     "name": "stdout",
     "output_type": "stream",
     "text": [
      "Epoch 170, Loss 0.024\n",
      "Training Accuracy: 0.9720, Testing Accuracy: 0.9728\n",
      "\n"
     ]
    },
    {
     "name": "stdout",
     "output_type": "stream",
     "text": [
      "Epoch 180, Loss 0.0235\n",
      "Training Accuracy: 0.9727, Testing Accuracy: 0.9733\n",
      "\n"
     ]
    },
    {
     "name": "stdout",
     "output_type": "stream",
     "text": [
      "Epoch 190, Loss 0.0229\n",
      "Training Accuracy: 0.9734, Testing Accuracy: 0.9733\n",
      "\n"
     ]
    },
    {
     "name": "stdout",
     "output_type": "stream",
     "text": [
      "Epoch 200, Loss 0.0225\n",
      "Training Accuracy: 0.9732, Testing Accuracy: 0.9738\n",
      "\n"
     ]
    },
    {
     "name": "stdout",
     "output_type": "stream",
     "text": [
      "Epoch 210, Loss 0.022\n",
      "Training Accuracy: 0.9735, Testing Accuracy: 0.9743\n",
      "\n"
     ]
    },
    {
     "name": "stdout",
     "output_type": "stream",
     "text": [
      "Epoch 220, Loss 0.0215\n",
      "Training Accuracy: 0.9747, Testing Accuracy: 0.9743\n",
      "\n"
     ]
    },
    {
     "name": "stdout",
     "output_type": "stream",
     "text": [
      "Epoch 230, Loss 0.0211\n",
      "Training Accuracy: 0.9749, Testing Accuracy: 0.9753\n",
      "\n"
     ]
    },
    {
     "name": "stdout",
     "output_type": "stream",
     "text": [
      "Epoch 240, Loss 0.0207\n",
      "Training Accuracy: 0.9758, Testing Accuracy: 0.9753\n",
      "\n"
     ]
    },
    {
     "name": "stdout",
     "output_type": "stream",
     "text": [
      "Epoch 250, Loss 0.0203\n",
      "Training Accuracy: 0.9764, Testing Accuracy: 0.9758\n",
      "\n"
     ]
    },
    {
     "data": {
      "text/plain": [
       "0.009060435166536552"
      ]
     },
     "execution_count": 20,
     "metadata": {},
     "output_type": "execute_result"
    }
   ],
   "source": [
    "print(\"====== Neural Network ======\")\n",
    "learner_nn.train_loop(dl)"
   ]
  },
  {
   "cell_type": "markdown",
   "metadata": {
    "papermill": {
     "duration": 0.035913,
     "end_time": "2020-10-17T00:09:44.644174",
     "exception": false,
     "start_time": "2020-10-17T00:09:44.608261",
     "status": "completed"
    },
    "tags": []
   },
   "source": [
    "### Logistic Regression based Implementation."
   ]
  },
  {
   "cell_type": "code",
   "execution_count": 21,
   "metadata": {
    "execution": {
     "iopub.execute_input": "2020-10-17T00:09:44.721347Z",
     "iopub.status.busy": "2020-10-17T00:09:44.720753Z",
     "iopub.status.idle": "2020-10-17T00:09:44.734814Z",
     "shell.execute_reply": "2020-10-17T00:09:44.734354Z"
    },
    "papermill": {
     "duration": 0.054677,
     "end_time": "2020-10-17T00:09:44.734941",
     "exception": false,
     "start_time": "2020-10-17T00:09:44.680264",
     "status": "completed"
    },
    "tags": []
   },
   "outputs": [],
   "source": [
    "learner_lr = Learner(loss, model_lr, opt, config.num_epochs)\n",
    "acc_lr = ClfCallback(learner_lr, config.bs, training_xdata , testing_xdata, training_ydata, testing_ydata)\n",
    "learner_lr.set_callbacks([acc_lr])"
   ]
  },
  {
   "cell_type": "code",
   "execution_count": 22,
   "metadata": {
    "execution": {
     "iopub.execute_input": "2020-10-17T00:09:44.812159Z",
     "iopub.status.busy": "2020-10-17T00:09:44.811643Z",
     "iopub.status.idle": "2020-10-17T00:10:01.449138Z",
     "shell.execute_reply": "2020-10-17T00:10:01.449866Z"
    },
    "papermill": {
     "duration": 16.677831,
     "end_time": "2020-10-17T00:10:01.450016",
     "exception": false,
     "start_time": "2020-10-17T00:09:44.772185",
     "status": "completed"
    },
    "tags": []
   },
   "outputs": [
    {
     "name": "stdout",
     "output_type": "stream",
     "text": [
      "====== Logistic Regression ======\n",
      "Epoch 0, Loss 0.2425\n",
      "Training Accuracy: 0.6658, Testing Accuracy: 0.7112\n",
      "\n"
     ]
    },
    {
     "name": "stdout",
     "output_type": "stream",
     "text": [
      "Epoch 10, Loss 0.1039\n",
      "Training Accuracy: 0.9022, Testing Accuracy: 0.9113\n",
      "\n"
     ]
    },
    {
     "name": "stdout",
     "output_type": "stream",
     "text": [
      "Epoch 20, Loss 0.0799\n",
      "Training Accuracy: 0.9242, Testing Accuracy: 0.9355\n",
      "\n"
     ]
    },
    {
     "name": "stdout",
     "output_type": "stream",
     "text": [
      "Epoch 30, Loss 0.0687\n",
      "Training Accuracy: 0.9345, Testing Accuracy: 0.9456\n",
      "\n"
     ]
    },
    {
     "name": "stdout",
     "output_type": "stream",
     "text": [
      "Epoch 40, Loss 0.0619\n",
      "Training Accuracy: 0.9398, Testing Accuracy: 0.9501\n",
      "\n"
     ]
    },
    {
     "name": "stdout",
     "output_type": "stream",
     "text": [
      "Epoch 50, Loss 0.0573\n",
      "Training Accuracy: 0.9448, Testing Accuracy: 0.9556\n",
      "\n"
     ]
    },
    {
     "name": "stdout",
     "output_type": "stream",
     "text": [
      "Epoch 60, Loss 0.0539\n",
      "Training Accuracy: 0.9477, Testing Accuracy: 0.9572\n",
      "\n"
     ]
    },
    {
     "name": "stdout",
     "output_type": "stream",
     "text": [
      "Epoch 70, Loss 0.0513\n",
      "Training Accuracy: 0.9498, Testing Accuracy: 0.9597\n",
      "\n"
     ]
    },
    {
     "name": "stdout",
     "output_type": "stream",
     "text": [
      "Epoch 80, Loss 0.0492\n",
      "Training Accuracy: 0.9516, Testing Accuracy: 0.9597\n",
      "\n"
     ]
    },
    {
     "name": "stdout",
     "output_type": "stream",
     "text": [
      "Epoch 90, Loss 0.0475\n",
      "Training Accuracy: 0.9527, Testing Accuracy: 0.9627\n",
      "\n"
     ]
    },
    {
     "name": "stdout",
     "output_type": "stream",
     "text": [
      "Epoch 100, Loss 0.0461\n",
      "Training Accuracy: 0.9538, Testing Accuracy: 0.9637\n",
      "\n"
     ]
    },
    {
     "name": "stdout",
     "output_type": "stream",
     "text": [
      "Epoch 110, Loss 0.0448\n",
      "Training Accuracy: 0.9545, Testing Accuracy: 0.9647\n",
      "\n"
     ]
    },
    {
     "name": "stdout",
     "output_type": "stream",
     "text": [
      "Epoch 120, Loss 0.0438\n",
      "Training Accuracy: 0.9555, Testing Accuracy: 0.9647\n",
      "\n"
     ]
    },
    {
     "name": "stdout",
     "output_type": "stream",
     "text": [
      "Epoch 130, Loss 0.0428\n",
      "Training Accuracy: 0.9566, Testing Accuracy: 0.9657\n",
      "\n"
     ]
    },
    {
     "name": "stdout",
     "output_type": "stream",
     "text": [
      "Epoch 140, Loss 0.042\n",
      "Training Accuracy: 0.9567, Testing Accuracy: 0.9662\n",
      "\n"
     ]
    },
    {
     "name": "stdout",
     "output_type": "stream",
     "text": [
      "Epoch 150, Loss 0.0412\n",
      "Training Accuracy: 0.9574, Testing Accuracy: 0.9672\n",
      "\n"
     ]
    },
    {
     "name": "stdout",
     "output_type": "stream",
     "text": [
      "Epoch 160, Loss 0.0406\n",
      "Training Accuracy: 0.9575, Testing Accuracy: 0.9677\n",
      "\n"
     ]
    },
    {
     "name": "stdout",
     "output_type": "stream",
     "text": [
      "Epoch 170, Loss 0.04\n",
      "Training Accuracy: 0.9584, Testing Accuracy: 0.9682\n",
      "\n"
     ]
    },
    {
     "name": "stdout",
     "output_type": "stream",
     "text": [
      "Epoch 180, Loss 0.0394\n",
      "Training Accuracy: 0.9589, Testing Accuracy: 0.9667\n",
      "\n"
     ]
    },
    {
     "name": "stdout",
     "output_type": "stream",
     "text": [
      "Epoch 190, Loss 0.0389\n",
      "Training Accuracy: 0.9593, Testing Accuracy: 0.9667\n",
      "\n"
     ]
    },
    {
     "name": "stdout",
     "output_type": "stream",
     "text": [
      "Epoch 200, Loss 0.0384\n",
      "Training Accuracy: 0.9599, Testing Accuracy: 0.9667\n",
      "\n"
     ]
    },
    {
     "name": "stdout",
     "output_type": "stream",
     "text": [
      "Epoch 210, Loss 0.038\n",
      "Training Accuracy: 0.9601, Testing Accuracy: 0.9667\n",
      "\n"
     ]
    },
    {
     "name": "stdout",
     "output_type": "stream",
     "text": [
      "Epoch 220, Loss 0.0375\n",
      "Training Accuracy: 0.9604, Testing Accuracy: 0.9667\n",
      "\n"
     ]
    },
    {
     "name": "stdout",
     "output_type": "stream",
     "text": [
      "Epoch 230, Loss 0.0372\n",
      "Training Accuracy: 0.9605, Testing Accuracy: 0.9667\n",
      "\n"
     ]
    },
    {
     "name": "stdout",
     "output_type": "stream",
     "text": [
      "Epoch 240, Loss 0.0368\n",
      "Training Accuracy: 0.9608, Testing Accuracy: 0.9667\n",
      "\n"
     ]
    },
    {
     "name": "stdout",
     "output_type": "stream",
     "text": [
      "Epoch 250, Loss 0.0365\n",
      "Training Accuracy: 0.9609, Testing Accuracy: 0.9667\n",
      "\n"
     ]
    },
    {
     "data": {
      "text/plain": [
       "0.013823737560902138"
      ]
     },
     "execution_count": 22,
     "metadata": {},
     "output_type": "execute_result"
    }
   ],
   "source": [
    "print(\"====== Logistic Regression ======\")\n",
    "learner_lr.train_loop(dl)"
   ]
  },
  {
   "cell_type": "markdown",
   "metadata": {
    "papermill": {
     "duration": 0.043597,
     "end_time": "2020-10-17T00:10:01.537737",
     "exception": false,
     "start_time": "2020-10-17T00:10:01.494140",
     "status": "completed"
    },
    "tags": []
   },
   "source": [
    "### Comparing results of NN and LR"
   ]
  },
  {
   "cell_type": "code",
   "execution_count": 23,
   "metadata": {
    "execution": {
     "iopub.execute_input": "2020-10-17T00:10:01.632216Z",
     "iopub.status.busy": "2020-10-17T00:10:01.630890Z",
     "iopub.status.idle": "2020-10-17T00:10:01.871029Z",
     "shell.execute_reply": "2020-10-17T00:10:01.871531Z"
    },
    "papermill": {
     "duration": 0.290123,
     "end_time": "2020-10-17T00:10:01.871687",
     "exception": false,
     "start_time": "2020-10-17T00:10:01.581564",
     "status": "completed"
    },
    "tags": []
   },
   "outputs": [
    {
     "data": {
      "text/plain": [
       "<matplotlib.legend.Legend at 0x7fea48d91588>"
      ]
     },
     "execution_count": 23,
     "metadata": {},
     "output_type": "execute_result"
    },
    {
     "data": {
      "image/png": "[encoded data removed]",
      "text/plain": [
       "<Figure size 1080x720 with 1 Axes>"
      ]
     },
     "metadata": {
      "needs_background": "light"
     },
     "output_type": "display_data"
    }
   ],
   "source": [
    "plt.figure(figsize=(15,10))\n",
    "\n",
    "# Neural Network plots\n",
    "plt.plot(acc_nn.accuracies, 'r-', label = \"Training Accuracies - NN\")\n",
    "plt.plot(acc_nn.test_accuracies, 'g-', label = \"Testing Accuracies - NN\")\n",
    "\n",
    "# Logistic Regression plots\n",
    "plt.plot(acc_lr.accuracies, 'k-', label = \"Training Accuracies - LR\")\n",
    "plt.plot(acc_lr.test_accuracies, 'b-', label = \"Testing Accuracies - LR\")\n",
    "\n",
    "plt.ylim(0.8, 1)\n",
    "\n",
    "plt.legend()\n",
    "\n"
   ]
  },
  {
   "cell_type": "markdown",
   "metadata": {
    "papermill": {
     "duration": 0.046928,
     "end_time": "2020-10-17T00:10:01.968198",
     "exception": false,
     "start_time": "2020-10-17T00:10:01.921270",
     "status": "completed"
    },
    "tags": []
   },
   "source": [
    "### From the plot, we can observe the following:\n",
    "- Neural Network achieves higher accuracy than the Logistic Regression model.\n",
    "- This apparently, is because of overfitting, i.e. NN captures more noise than data.\n",
    "- Testing accuracy of NN drops below the Training accuracy at higher epochs. This explains the over-fitting on training data.\n",
    "- Logistic Regression gives a reliable accuracy, without the above mentioned problem.\n"
   ]
  },
  {
   "cell_type": "markdown",
   "metadata": {
    "papermill": {
     "duration": 0.046941,
     "end_time": "2020-10-17T00:10:02.064570",
     "exception": false,
     "start_time": "2020-10-17T00:10:02.017629",
     "status": "completed"
    },
    "tags": []
   },
   "source": [
    "### Moving till the last but one layer (excluding it).\n",
    "#### Plotting the outputs of this layer of the NN."
   ]
  },
  {
   "cell_type": "code",
   "execution_count": 24,
   "metadata": {
    "execution": {
     "iopub.execute_input": "2020-10-17T00:10:02.165681Z",
     "iopub.status.busy": "2020-10-17T00:10:02.165089Z",
     "iopub.status.idle": "2020-10-17T00:10:02.180821Z",
     "shell.execute_reply": "2020-10-17T00:10:02.179776Z"
    },
    "papermill": {
     "duration": 0.066696,
     "end_time": "2020-10-17T00:10:02.181033",
     "exception": false,
     "start_time": "2020-10-17T00:10:02.114337",
     "status": "completed"
    },
    "tags": []
   },
   "outputs": [],
   "source": [
    "model_new = Model(layers[:-2])"
   ]
  },
  {
   "cell_type": "code",
   "execution_count": 25,
   "metadata": {
    "execution": {
     "iopub.execute_input": "2020-10-17T00:10:02.280691Z",
     "iopub.status.busy": "2020-10-17T00:10:02.280115Z",
     "iopub.status.idle": "2020-10-17T00:10:02.299733Z",
     "shell.execute_reply": "2020-10-17T00:10:02.300321Z"
    },
    "papermill": {
     "duration": 0.071562,
     "end_time": "2020-10-17T00:10:02.300488",
     "exception": false,
     "start_time": "2020-10-17T00:10:02.228926",
     "status": "completed"
    },
    "tags": []
   },
   "outputs": [],
   "source": [
    "plot_testing = model_new(testing_xdata)"
   ]
  },
  {
   "cell_type": "code",
   "execution_count": 26,
   "metadata": {
    "execution": {
     "iopub.execute_input": "2020-10-17T00:10:02.399679Z",
     "iopub.status.busy": "2020-10-17T00:10:02.399075Z",
     "iopub.status.idle": "2020-10-17T00:10:02.620262Z",
     "shell.execute_reply": "2020-10-17T00:10:02.619764Z"
    },
    "papermill": {
     "duration": 0.272989,
     "end_time": "2020-10-17T00:10:02.620384",
     "exception": false,
     "start_time": "2020-10-17T00:10:02.347395",
     "status": "completed"
    },
    "tags": []
   },
   "outputs": [
    {
     "data": {
      "text/plain": [
       "Text(0.5, 1.0, 'Outputs')"
      ]
     },
     "execution_count": 26,
     "metadata": {},
     "output_type": "execute_result"
    },
    {
     "data": {
      "image/png": "[encoded data removed]",
      "text/plain": [
       "<Figure size 576x504 with 1 Axes>"
      ]
     },
     "metadata": {
      "needs_background": "light"
     },
     "output_type": "display_data"
    }
   ],
   "source": [
    "plt.figure(figsize=(8,7))\n",
    "plt.scatter(plot_testing[:,0], plot_testing[:,1], alpha = 0.1, c = y_test.ravel());\n",
    "plt.title('Outputs')"
   ]
  },
  {
   "cell_type": "markdown",
   "metadata": {
    "papermill": {
     "duration": 0.048928,
     "end_time": "2020-10-17T00:10:02.718477",
     "exception": false,
     "start_time": "2020-10-17T00:10:02.669549",
     "status": "completed"
    },
    "tags": []
   },
   "source": [
    "### Plotting probability contours"
   ]
  },
  {
   "cell_type": "code",
   "execution_count": 27,
   "metadata": {
    "execution": {
     "iopub.execute_input": "2020-10-17T00:10:02.823388Z",
     "iopub.status.busy": "2020-10-17T00:10:02.822772Z",
     "iopub.status.idle": "2020-10-17T00:10:02.836958Z",
     "shell.execute_reply": "2020-10-17T00:10:02.836461Z"
    },
    "papermill": {
     "duration": 0.069599,
     "end_time": "2020-10-17T00:10:02.837091",
     "exception": false,
     "start_time": "2020-10-17T00:10:02.767492",
     "status": "completed"
    },
    "tags": []
   },
   "outputs": [],
   "source": [
    "model_prob = Model(layers[-2:]) "
   ]
  },
  {
   "cell_type": "code",
   "execution_count": 28,
   "metadata": {
    "execution": {
     "iopub.execute_input": "2020-10-17T00:10:02.941697Z",
     "iopub.status.busy": "2020-10-17T00:10:02.940958Z",
     "iopub.status.idle": "2020-10-17T00:10:02.956479Z",
     "shell.execute_reply": "2020-10-17T00:10:02.956968Z"
    },
    "papermill": {
     "duration": 0.071181,
     "end_time": "2020-10-17T00:10:02.957182",
     "exception": false,
     "start_time": "2020-10-17T00:10:02.886001",
     "status": "completed"
    },
    "tags": []
   },
   "outputs": [],
   "source": [
    "# Adjust the x and y ranges according to the above generated plot.\n",
    "x_range = np.linspace(-4, 1, 100) \n",
    "y_range = np.linspace(-6, 6, 100) \n",
    "x_grid, y_grid = np.meshgrid(x_range, y_range) # x_grid and y_grig are of size 100 X 100\n",
    "\n",
    "# converting x_grid and y_grid to continuous arrays\n",
    "x_grid_flat = np.ravel(x_grid)\n",
    "y_grid_flat = np.ravel(y_grid)\n",
    "\n",
    "# The last layer of the current model takes two columns as input. Hence transpose of np.vstack() is required.\n",
    "X = np.vstack((x_grid_flat, y_grid_flat)).T\n",
    "\n",
    "# x_grid and y_grid are of size 100 x 100\n",
    "probability_contour = model_prob(X).reshape(100,100) "
   ]
  },
  {
   "cell_type": "code",
   "execution_count": 29,
   "metadata": {
    "execution": {
     "iopub.execute_input": "2020-10-17T00:10:03.076807Z",
     "iopub.status.busy": "2020-10-17T00:10:03.076222Z",
     "iopub.status.idle": "2020-10-17T00:10:03.334248Z",
     "shell.execute_reply": "2020-10-17T00:10:03.334694Z"
    },
    "papermill": {
     "duration": 0.321128,
     "end_time": "2020-10-17T00:10:03.334851",
     "exception": false,
     "start_time": "2020-10-17T00:10:03.013723",
     "status": "completed"
    },
    "tags": []
   },
   "outputs": [
    {
     "data": {
      "image/png": "[encoded data removed]",
      "text/plain": [
       "<Figure size 720x648 with 1 Axes>"
      ]
     },
     "metadata": {
      "needs_background": "light"
     },
     "output_type": "display_data"
    }
   ],
   "source": [
    "plt.figure(figsize=(10,9))\n",
    "plt.scatter(plot_testing[:,0], plot_testing[:,1], alpha = 0.1, c = y_test.ravel())\n",
    "contours = plt.contour(x_grid,y_grid,probability_contour)\n",
    "plt.title('Probability Contours')\n",
    "plt.clabel(contours, inline = True );"
   ]
  }
 ],
 "metadata": {
  "kernelspec": {
   "display_name": "Python 3",
   "language": "python",
   "name": "python3"
  },
  "language_info": {
   "codemirror_mode": {
    "name": "ipython",
    "version": 3
   },
   "file_extension": ".py",
   "mimetype": "text/x-python",
   "name": "python",
   "nbconvert_exporter": "python",
   "pygments_lexer": "ipython3",
   "version": "3.6.12"
  },
  "papermill": {
   "duration": 111.375292,
   "end_time": "2020-10-17T00:10:04.782327",
   "environment_variables": {},
   "exception": null,
   "input_path": "2020-08-11-NeuralNetwork.ipynb",
   "output_path": "2020-08-11-NeuralNetwork.ipynb",
   "parameters": {},
   "start_time": "2020-10-17T00:08:13.407035",
   "version": "2.1.2"
  }
 },
 "nbformat": 4,
 "nbformat_minor": 4
}