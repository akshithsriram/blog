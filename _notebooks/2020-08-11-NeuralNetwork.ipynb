{
 "cells": [
  {
   "cell_type": "markdown",
   "metadata": {
    "papermill": {
     "duration": 0.032342,
     "end_time": "2020-08-15T00:05:22.192264",
     "exception": false,
     "start_time": "2020-08-15T00:05:22.159922",
     "status": "completed"
    },
    "tags": []
   },
   "source": [
    "# \"A Basic Neural Network: Differentiate Hand-Written Digits\"\n",
    "\n",
    "- badges: true\n",
    "- author: Akshith Sriram"
   ]
  },
  {
   "cell_type": "markdown",
   "metadata": {
    "papermill": {
     "duration": 0.027453,
     "end_time": "2020-08-15T00:05:22.248602",
     "exception": false,
     "start_time": "2020-08-15T00:05:22.221149",
     "status": "completed"
    },
    "tags": []
   },
   "source": [
    "### Key Objectives:\n",
    "- Building a neural network that differentiates two hand-written digits 3 and 8.\n",
    "- Comparing the results of this Neural Network (NN) to that of a Logistic Regression (LR) model.\n",
    "\n",
    "### Requirements:\n",
    "- 'Kudzu' : A neural network library that was designed during our course by [Univ.AI](www.univ.ai). \n",
    "- MNIST Database\n",
    "\n",
    "If MNIST is not installed, use the command `!pip install mnist` given below.\n",
    "It can be run both from the command line and Jupyter Notebook."
   ]
  },
  {
   "cell_type": "code",
   "execution_count": 1,
   "metadata": {
    "execution": {
     "iopub.execute_input": "2020-08-15T00:05:22.309545Z",
     "iopub.status.busy": "2020-08-15T00:05:22.308726Z",
     "iopub.status.idle": "2020-08-15T00:05:24.441052Z",
     "shell.execute_reply": "2020-08-15T00:05:24.441743Z"
    },
    "papermill": {
     "duration": 2.165492,
     "end_time": "2020-08-15T00:05:24.441965",
     "exception": false,
     "start_time": "2020-08-15T00:05:22.276473",
     "status": "completed"
    },
    "tags": []
   },
   "outputs": [
    {
     "name": "stdout",
     "output_type": "stream",
     "text": [
      "Collecting mnist\r\n",
      "  Downloading mnist-0.2.2-py2.py3-none-any.whl (3.5 kB)\r\n"
     ]
    },
    {
     "name": "stdout",
     "output_type": "stream",
     "text": [
      "Requirement already satisfied: numpy in /opt/hostedtoolcache/Python/3.6.11/x64/lib/python3.6/site-packages (from mnist) (1.19.1)\r\n"
     ]
    },
    {
     "name": "stdout",
     "output_type": "stream",
     "text": [
      "Installing collected packages: mnist\r\n",
      "Successfully installed mnist-0.2.2\r\n"
     ]
    },
    {
     "name": "stdout",
     "output_type": "stream",
     "text": [
      "\u001b[33mWARNING: You are using pip version 20.2.1; however, version 20.2.2 is available.\r\n",
      "You should consider upgrading via the '/opt/hostedtoolcache/Python/3.6.11/x64/bin/python -m pip install --upgrade pip' command.\u001b[0m\r\n"
     ]
    }
   ],
   "source": [
    "!pip install mnist "
   ]
  },
  {
   "cell_type": "markdown",
   "metadata": {
    "papermill": {
     "duration": 0.027346,
     "end_time": "2020-08-15T00:05:24.498611",
     "exception": false,
     "start_time": "2020-08-15T00:05:24.471265",
     "status": "completed"
    },
    "tags": []
   },
   "source": [
    "#### Importing necessary libraries"
   ]
  },
  {
   "cell_type": "code",
   "execution_count": 2,
   "metadata": {
    "execution": {
     "iopub.execute_input": "2020-08-15T00:05:24.562898Z",
     "iopub.status.busy": "2020-08-15T00:05:24.562306Z",
     "iopub.status.idle": "2020-08-15T00:05:25.156655Z",
     "shell.execute_reply": "2020-08-15T00:05:25.156125Z"
    },
    "papermill": {
     "duration": 0.630387,
     "end_time": "2020-08-15T00:05:25.156798",
     "exception": false,
     "start_time": "2020-08-15T00:05:24.526411",
     "status": "completed"
    },
    "tags": []
   },
   "outputs": [],
   "source": [
    "%load_ext autoreload\n",
    "%autoreload 2\n",
    "\n",
    "%matplotlib inline\n",
    "import matplotlib.pyplot as plt\n",
    "\n",
    "import numpy as np\n",
    "import pandas as pd"
   ]
  },
  {
   "cell_type": "markdown",
   "metadata": {
    "papermill": {
     "duration": 0.029692,
     "end_time": "2020-08-15T00:05:25.215182",
     "exception": false,
     "start_time": "2020-08-15T00:05:25.185490",
     "status": "completed"
    },
    "tags": []
   },
   "source": [
    "### Preparing the Data"
   ]
  },
  {
   "cell_type": "code",
   "execution_count": 3,
   "metadata": {
    "execution": {
     "iopub.execute_input": "2020-08-15T00:05:25.273292Z",
     "iopub.status.busy": "2020-08-15T00:05:25.272667Z",
     "iopub.status.idle": "2020-08-15T00:05:25.285817Z",
     "shell.execute_reply": "2020-08-15T00:05:25.285267Z"
    },
    "papermill": {
     "duration": 0.043824,
     "end_time": "2020-08-15T00:05:25.285954",
     "exception": false,
     "start_time": "2020-08-15T00:05:25.242130",
     "status": "completed"
    },
    "tags": []
   },
   "outputs": [],
   "source": [
    "import mnist"
   ]
  },
  {
   "cell_type": "code",
   "execution_count": 4,
   "metadata": {
    "execution": {
     "iopub.execute_input": "2020-08-15T00:05:25.345165Z",
     "iopub.status.busy": "2020-08-15T00:05:25.344572Z",
     "iopub.status.idle": "2020-08-15T00:05:26.118815Z",
     "shell.execute_reply": "2020-08-15T00:05:26.118055Z"
    },
    "papermill": {
     "duration": 0.805347,
     "end_time": "2020-08-15T00:05:26.119105",
     "exception": false,
     "start_time": "2020-08-15T00:05:25.313758",
     "status": "completed"
    },
    "tags": []
   },
   "outputs": [],
   "source": [
    "train_images = mnist.train_images()\n",
    "train_labels = mnist.train_labels()"
   ]
  },
  {
   "cell_type": "code",
   "execution_count": 5,
   "metadata": {
    "execution": {
     "iopub.execute_input": "2020-08-15T00:05:26.181691Z",
     "iopub.status.busy": "2020-08-15T00:05:26.181043Z",
     "iopub.status.idle": "2020-08-15T00:05:26.196139Z",
     "shell.execute_reply": "2020-08-15T00:05:26.196687Z"
    },
    "papermill": {
     "duration": 0.047996,
     "end_time": "2020-08-15T00:05:26.196848",
     "exception": false,
     "start_time": "2020-08-15T00:05:26.148852",
     "status": "completed"
    },
    "tags": []
   },
   "outputs": [
    {
     "data": {
      "text/plain": [
       "((60000, 28, 28), (60000,))"
      ]
     },
     "execution_count": 5,
     "metadata": {},
     "output_type": "execute_result"
    }
   ],
   "source": [
    "train_images.shape, train_labels.shape"
   ]
  },
  {
   "cell_type": "code",
   "execution_count": 6,
   "metadata": {
    "execution": {
     "iopub.execute_input": "2020-08-15T00:05:26.260454Z",
     "iopub.status.busy": "2020-08-15T00:05:26.259731Z",
     "iopub.status.idle": "2020-08-15T00:05:26.522358Z",
     "shell.execute_reply": "2020-08-15T00:05:26.521809Z"
    },
    "papermill": {
     "duration": 0.296749,
     "end_time": "2020-08-15T00:05:26.522505",
     "exception": false,
     "start_time": "2020-08-15T00:05:26.225756",
     "status": "completed"
    },
    "tags": []
   },
   "outputs": [],
   "source": [
    "test_images = mnist.test_images()\n",
    "test_labels = mnist.test_labels()"
   ]
  },
  {
   "cell_type": "code",
   "execution_count": 7,
   "metadata": {
    "execution": {
     "iopub.execute_input": "2020-08-15T00:05:26.581663Z",
     "iopub.status.busy": "2020-08-15T00:05:26.581057Z",
     "iopub.status.idle": "2020-08-15T00:05:26.595971Z",
     "shell.execute_reply": "2020-08-15T00:05:26.595331Z"
    },
    "papermill": {
     "duration": 0.046406,
     "end_time": "2020-08-15T00:05:26.596183",
     "exception": false,
     "start_time": "2020-08-15T00:05:26.549777",
     "status": "completed"
    },
    "tags": []
   },
   "outputs": [
    {
     "data": {
      "text/plain": [
       "((10000, 28, 28), (10000,))"
      ]
     },
     "execution_count": 7,
     "metadata": {},
     "output_type": "execute_result"
    }
   ],
   "source": [
    "test_images.shape, test_labels.shape"
   ]
  },
  {
   "cell_type": "code",
   "execution_count": 8,
   "metadata": {
    "execution": {
     "iopub.execute_input": "2020-08-15T00:05:26.658883Z",
     "iopub.status.busy": "2020-08-15T00:05:26.658217Z",
     "iopub.status.idle": "2020-08-15T00:05:26.804954Z",
     "shell.execute_reply": "2020-08-15T00:05:26.805508Z"
    },
    "papermill": {
     "duration": 0.180313,
     "end_time": "2020-08-15T00:05:26.805670",
     "exception": false,
     "start_time": "2020-08-15T00:05:26.625357",
     "status": "completed"
    },
    "tags": []
   },
   "outputs": [
    {
     "name": "stdout",
     "output_type": "stream",
     "text": [
      "2\n"
     ]
    },
    {
     "data": {
      "text/plain": [
       "<matplotlib.image.AxesImage at 0x7ff1cbf2a2b0>"
      ]
     },
     "execution_count": 8,
     "metadata": {},
     "output_type": "execute_result"
    },
    {
     "data": {
      "image/png": "[encoded data removed]",
      "text/plain": [
       "<Figure size 432x288 with 1 Axes>"
      ]
     },
     "metadata": {
      "needs_background": "light"
     },
     "output_type": "display_data"
    }
   ],
   "source": [
    "image_index = 7776 # You may select anything up to 60,000\n",
    "print(train_labels[image_index]) \n",
    "plt.imshow(train_images[image_index], cmap='Greys')"
   ]
  },
  {
   "cell_type": "markdown",
   "metadata": {
    "papermill": {
     "duration": 0.029109,
     "end_time": "2020-08-15T00:05:26.865341",
     "exception": false,
     "start_time": "2020-08-15T00:05:26.836232",
     "status": "completed"
    },
    "tags": []
   },
   "source": [
    "## Filter data to get 3 and 8 out"
   ]
  },
  {
   "cell_type": "code",
   "execution_count": 9,
   "metadata": {
    "execution": {
     "iopub.execute_input": "2020-08-15T00:05:26.928097Z",
     "iopub.status.busy": "2020-08-15T00:05:26.927503Z",
     "iopub.status.idle": "2020-08-15T00:05:26.947779Z",
     "shell.execute_reply": "2020-08-15T00:05:26.947134Z"
    },
    "papermill": {
     "duration": 0.053743,
     "end_time": "2020-08-15T00:05:26.947944",
     "exception": false,
     "start_time": "2020-08-15T00:05:26.894201",
     "status": "completed"
    },
    "tags": []
   },
   "outputs": [],
   "source": [
    "train_filter = np.where((train_labels == 3 ) | (train_labels == 8))\n",
    "test_filter = np.where((test_labels == 3) | (test_labels == 8))\n",
    "X_train, y_train = train_images[train_filter], train_labels[train_filter]\n",
    "X_test, y_test = test_images[test_filter], test_labels[test_filter]"
   ]
  },
  {
   "cell_type": "markdown",
   "metadata": {
    "papermill": {
     "duration": 0.028965,
     "end_time": "2020-08-15T00:05:27.005936",
     "exception": false,
     "start_time": "2020-08-15T00:05:26.976971",
     "status": "completed"
    },
    "tags": []
   },
   "source": [
    "We normalize the pixel values in the 0 to 1 range"
   ]
  },
  {
   "cell_type": "code",
   "execution_count": 10,
   "metadata": {
    "execution": {
     "iopub.execute_input": "2020-08-15T00:05:27.075770Z",
     "iopub.status.busy": "2020-08-15T00:05:27.066954Z",
     "iopub.status.idle": "2020-08-15T00:05:27.127554Z",
     "shell.execute_reply": "2020-08-15T00:05:27.126981Z"
    },
    "papermill": {
     "duration": 0.092932,
     "end_time": "2020-08-15T00:05:27.127697",
     "exception": false,
     "start_time": "2020-08-15T00:05:27.034765",
     "status": "completed"
    },
    "tags": []
   },
   "outputs": [],
   "source": [
    "X_train = X_train/255.\n",
    "X_test = X_test/255."
   ]
  },
  {
   "cell_type": "markdown",
   "metadata": {
    "papermill": {
     "duration": 0.036063,
     "end_time": "2020-08-15T00:05:27.194885",
     "exception": false,
     "start_time": "2020-08-15T00:05:27.158822",
     "status": "completed"
    },
    "tags": []
   },
   "source": [
    "Setup the labels as 1 (when the digit is 3) and 0 (when the digit is 8)"
   ]
  },
  {
   "cell_type": "code",
   "execution_count": 11,
   "metadata": {
    "execution": {
     "iopub.execute_input": "2020-08-15T00:05:27.259876Z",
     "iopub.status.busy": "2020-08-15T00:05:27.259070Z",
     "iopub.status.idle": "2020-08-15T00:05:27.271674Z",
     "shell.execute_reply": "2020-08-15T00:05:27.272216Z"
    },
    "papermill": {
     "duration": 0.047291,
     "end_time": "2020-08-15T00:05:27.272374",
     "exception": false,
     "start_time": "2020-08-15T00:05:27.225083",
     "status": "completed"
    },
    "tags": []
   },
   "outputs": [],
   "source": [
    "y_train = 1*(y_train==3)\n",
    "y_test = 1*(y_test==3)"
   ]
  },
  {
   "cell_type": "code",
   "execution_count": 12,
   "metadata": {
    "execution": {
     "iopub.execute_input": "2020-08-15T00:05:27.337857Z",
     "iopub.status.busy": "2020-08-15T00:05:27.337161Z",
     "iopub.status.idle": "2020-08-15T00:05:27.351157Z",
     "shell.execute_reply": "2020-08-15T00:05:27.350567Z"
    },
    "papermill": {
     "duration": 0.048588,
     "end_time": "2020-08-15T00:05:27.351289",
     "exception": false,
     "start_time": "2020-08-15T00:05:27.302701",
     "status": "completed"
    },
    "tags": []
   },
   "outputs": [
    {
     "data": {
      "text/plain": [
       "((11982, 28, 28), (1984, 28, 28))"
      ]
     },
     "execution_count": 12,
     "metadata": {},
     "output_type": "execute_result"
    }
   ],
   "source": [
    "X_train.shape, X_test.shape"
   ]
  },
  {
   "cell_type": "markdown",
   "metadata": {
    "papermill": {
     "duration": 0.029876,
     "end_time": "2020-08-15T00:05:27.410944",
     "exception": false,
     "start_time": "2020-08-15T00:05:27.381068",
     "status": "completed"
    },
    "tags": []
   },
   "source": [
    "### Reshape the input data to create a linear array"
   ]
  },
  {
   "cell_type": "code",
   "execution_count": 13,
   "metadata": {
    "execution": {
     "iopub.execute_input": "2020-08-15T00:05:27.475925Z",
     "iopub.status.busy": "2020-08-15T00:05:27.475309Z",
     "iopub.status.idle": "2020-08-15T00:05:27.489513Z",
     "shell.execute_reply": "2020-08-15T00:05:27.488998Z"
    },
    "papermill": {
     "duration": 0.049515,
     "end_time": "2020-08-15T00:05:27.489643",
     "exception": false,
     "start_time": "2020-08-15T00:05:27.440128",
     "status": "completed"
    },
    "tags": []
   },
   "outputs": [
    {
     "data": {
      "text/plain": [
       "((11982, 784), (1984, 784))"
      ]
     },
     "execution_count": 13,
     "metadata": {},
     "output_type": "execute_result"
    }
   ],
   "source": [
    "X_train = X_train.reshape(X_train.shape[0], -1)\n",
    "X_test = X_test.reshape(X_test.shape[0], -1)\n",
    "X_train.shape, X_test.shape"
   ]
  },
  {
   "cell_type": "markdown",
   "metadata": {
    "papermill": {
     "duration": 0.029238,
     "end_time": "2020-08-15T00:05:27.548377",
     "exception": false,
     "start_time": "2020-08-15T00:05:27.519139",
     "status": "completed"
    },
    "tags": []
   },
   "source": [
    "### Importing appropriate functions from 'Kudzu'"
   ]
  },
  {
   "cell_type": "code",
   "execution_count": 14,
   "metadata": {
    "execution": {
     "iopub.execute_input": "2020-08-15T00:05:27.613710Z",
     "iopub.status.busy": "2020-08-15T00:05:27.613092Z",
     "iopub.status.idle": "2020-08-15T00:05:27.633516Z",
     "shell.execute_reply": "2020-08-15T00:05:27.634060Z"
    },
    "papermill": {
     "duration": 0.0563,
     "end_time": "2020-08-15T00:05:27.634266",
     "exception": false,
     "start_time": "2020-08-15T00:05:27.577966",
     "status": "completed"
    },
    "tags": []
   },
   "outputs": [],
   "source": [
    "from kudzu.layer import Sigmoid\n",
    "from kudzu.layer import Relu\n",
    "from kudzu.layer import Affine, Sigmoid\n",
    "\n",
    "from kudzu.model import Model\n",
    "from kudzu.train import Learner\n",
    "from kudzu.optim import GD\n",
    "from kudzu.data import Data, Dataloader, Sampler\n",
    "\n",
    "from kudzu.callbacks import AccCallback\n",
    "from kudzu.callbacks import ClfCallback\n",
    "\n",
    "from kudzu.loss import MSE"
   ]
  },
  {
   "cell_type": "markdown",
   "metadata": {
    "papermill": {
     "duration": 0.029418,
     "end_time": "2020-08-15T00:05:27.694239",
     "exception": false,
     "start_time": "2020-08-15T00:05:27.664821",
     "status": "completed"
    },
    "tags": []
   },
   "source": [
    "### Let us create a `Config` class, to store important parameters. \n",
    "This class essentially plays the role of a dictionary."
   ]
  },
  {
   "cell_type": "code",
   "execution_count": 15,
   "metadata": {
    "execution": {
     "iopub.execute_input": "2020-08-15T00:05:27.756895Z",
     "iopub.status.busy": "2020-08-15T00:05:27.756294Z",
     "iopub.status.idle": "2020-08-15T00:05:27.769610Z",
     "shell.execute_reply": "2020-08-15T00:05:27.770204Z"
    },
    "papermill": {
     "duration": 0.04671,
     "end_time": "2020-08-15T00:05:27.770361",
     "exception": false,
     "start_time": "2020-08-15T00:05:27.723651",
     "status": "completed"
    },
    "tags": []
   },
   "outputs": [],
   "source": [
    "class Config:\n",
    "    pass\n",
    "config = Config()\n",
    "config.lr = 0.001\n",
    "config.num_epochs = 251\n",
    "config.bs = 50"
   ]
  },
  {
   "cell_type": "markdown",
   "metadata": {
    "papermill": {
     "duration": 0.029255,
     "end_time": "2020-08-15T00:05:27.828739",
     "exception": false,
     "start_time": "2020-08-15T00:05:27.799484",
     "status": "completed"
    },
    "tags": []
   },
   "source": [
    "### Initializing data to the variables"
   ]
  },
  {
   "cell_type": "code",
   "execution_count": 16,
   "metadata": {
    "execution": {
     "iopub.execute_input": "2020-08-15T00:05:27.893671Z",
     "iopub.status.busy": "2020-08-15T00:05:27.893060Z",
     "iopub.status.idle": "2020-08-15T00:05:27.907499Z",
     "shell.execute_reply": "2020-08-15T00:05:27.906985Z"
    },
    "papermill": {
     "duration": 0.048124,
     "end_time": "2020-08-15T00:05:27.907633",
     "exception": false,
     "start_time": "2020-08-15T00:05:27.859509",
     "status": "completed"
    },
    "tags": []
   },
   "outputs": [],
   "source": [
    "data = Data(X_train, y_train.reshape(-1,1))\n",
    "sampler = Sampler(data, config.bs, shuffle=True)\n",
    "\n",
    "dl = Dataloader(data, sampler)\n",
    "\n",
    "opt = GD(config.lr)\n",
    "loss = MSE()"
   ]
  },
  {
   "cell_type": "code",
   "execution_count": 17,
   "metadata": {
    "execution": {
     "iopub.execute_input": "2020-08-15T00:05:27.970398Z",
     "iopub.status.busy": "2020-08-15T00:05:27.969766Z",
     "iopub.status.idle": "2020-08-15T00:05:27.983614Z",
     "shell.execute_reply": "2020-08-15T00:05:27.983112Z"
    },
    "papermill": {
     "duration": 0.047122,
     "end_time": "2020-08-15T00:05:27.983754",
     "exception": false,
     "start_time": "2020-08-15T00:05:27.936632",
     "status": "completed"
    },
    "tags": []
   },
   "outputs": [],
   "source": [
    "training_xdata = X_train\n",
    "testing_xdata = X_test\n",
    "training_ydata = y_train.reshape(-1,1)\n",
    "testing_ydata = y_test.reshape(-1,1)"
   ]
  },
  {
   "cell_type": "markdown",
   "metadata": {
    "papermill": {
     "duration": 0.02969,
     "end_time": "2020-08-15T00:05:28.045107",
     "exception": false,
     "start_time": "2020-08-15T00:05:28.015417",
     "status": "completed"
    },
    "tags": []
   },
   "source": [
    "### Running Models with the Training data\n",
    "Details about the network layers:\n",
    "- A first affine layer has 784 inputs and does 100 affine transforms. These are followed by a Relu\n",
    "- A second affine layer has 100 inputs from the 100 activations of the past layer, and does 100 affine transforms. These are followed by a Relu\n",
    "- A third affine layer has 100 activations and does 2 affine transformations to create an embedding for visualization. There is no non-linearity here.\n",
    "- A final \"logistic regression\" which has an affine transform from 2 inputs to 1 output, which is squeezed through a sigmoid.\n",
    "\n",
    "Help taken from Anshuman's Notebook."
   ]
  },
  {
   "cell_type": "code",
   "execution_count": 18,
   "metadata": {
    "execution": {
     "iopub.execute_input": "2020-08-15T00:05:28.109331Z",
     "iopub.status.busy": "2020-08-15T00:05:28.108703Z",
     "iopub.status.idle": "2020-08-15T00:05:28.127577Z",
     "shell.execute_reply": "2020-08-15T00:05:28.128077Z"
    },
    "papermill": {
     "duration": 0.053548,
     "end_time": "2020-08-15T00:05:28.128237",
     "exception": false,
     "start_time": "2020-08-15T00:05:28.074689",
     "status": "completed"
    },
    "tags": []
   },
   "outputs": [],
   "source": [
    "# layers for the Neural Network\n",
    "layers = [Affine(\"first\", 784, 100), Relu(\"first\"), Affine(\"second\", 100, 100), Relu(\"second\"), Affine(\"third\", 100, 2), Affine(\"final\", 2, 1), Sigmoid(\"final\")]\n",
    "model_nn = Model(layers)\n",
    "\n",
    "# layers for the Logistic Regression\n",
    "layers_lr = [Affine(\"logits\", 784, 1), Sigmoid(\"sigmoid\")]\n",
    "model_lr = Model(layers_lr)"
   ]
  },
  {
   "cell_type": "code",
   "execution_count": 19,
   "metadata": {
    "execution": {
     "iopub.execute_input": "2020-08-15T00:05:28.193306Z",
     "iopub.status.busy": "2020-08-15T00:05:28.192471Z",
     "iopub.status.idle": "2020-08-15T00:05:28.206448Z",
     "shell.execute_reply": "2020-08-15T00:05:28.205930Z"
    },
    "papermill": {
     "duration": 0.048767,
     "end_time": "2020-08-15T00:05:28.206592",
     "exception": false,
     "start_time": "2020-08-15T00:05:28.157825",
     "status": "completed"
    },
    "tags": []
   },
   "outputs": [],
   "source": [
    "# suffix _nn stands for Neural Network.\n",
    "learner_nn = Learner(loss, model_nn, opt, config.num_epochs)\n",
    "acc_nn = ClfCallback(learner_nn, config.bs, training_xdata , testing_xdata, training_ydata, testing_ydata)\n",
    "learner_nn.set_callbacks([acc_nn])"
   ]
  },
  {
   "cell_type": "code",
   "execution_count": 20,
   "metadata": {
    "execution": {
     "iopub.execute_input": "2020-08-15T00:05:28.274017Z",
     "iopub.status.busy": "2020-08-15T00:05:28.273372Z",
     "iopub.status.idle": "2020-08-15T00:06:57.848320Z",
     "shell.execute_reply": "2020-08-15T00:06:57.847806Z"
    },
    "papermill": {
     "duration": 89.609009,
     "end_time": "2020-08-15T00:06:57.848453",
     "exception": false,
     "start_time": "2020-08-15T00:05:28.239444",
     "status": "completed"
    },
    "tags": []
   },
   "outputs": [
    {
     "name": "stdout",
     "output_type": "stream",
     "text": [
      "====== Neural Network ======\n"
     ]
    },
    {
     "name": "stdout",
     "output_type": "stream",
     "text": [
      "Epoch 0, Loss 0.2353\n",
      "Training Accuracy: 0.7245, Testing Accuracy: 0.7248\n",
      "\n"
     ]
    },
    {
     "name": "stdout",
     "output_type": "stream",
     "text": [
      "Epoch 10, Loss 0.0979\n",
      "Training Accuracy: 0.9061, Testing Accuracy: 0.9148\n",
      "\n"
     ]
    },
    {
     "name": "stdout",
     "output_type": "stream",
     "text": [
      "Epoch 20, Loss 0.0591\n",
      "Training Accuracy: 0.9381, Testing Accuracy: 0.9511\n",
      "\n"
     ]
    },
    {
     "name": "stdout",
     "output_type": "stream",
     "text": [
      "Epoch 30, Loss 0.0455\n",
      "Training Accuracy: 0.9493, Testing Accuracy: 0.9637\n",
      "\n"
     ]
    },
    {
     "name": "stdout",
     "output_type": "stream",
     "text": [
      "Epoch 40, Loss 0.039\n",
      "Training Accuracy: 0.9560, Testing Accuracy: 0.9672\n",
      "\n"
     ]
    },
    {
     "name": "stdout",
     "output_type": "stream",
     "text": [
      "Epoch 50, Loss 0.0351\n",
      "Training Accuracy: 0.9609, Testing Accuracy: 0.9682\n",
      "\n"
     ]
    },
    {
     "name": "stdout",
     "output_type": "stream",
     "text": [
      "Epoch 60, Loss 0.0325\n",
      "Training Accuracy: 0.9635, Testing Accuracy: 0.9698\n",
      "\n"
     ]
    },
    {
     "name": "stdout",
     "output_type": "stream",
     "text": [
      "Epoch 70, Loss 0.0305\n",
      "Training Accuracy: 0.9648, Testing Accuracy: 0.9688\n",
      "\n"
     ]
    },
    {
     "name": "stdout",
     "output_type": "stream",
     "text": [
      "Epoch 80, Loss 0.029\n",
      "Training Accuracy: 0.9659, Testing Accuracy: 0.9698\n",
      "\n"
     ]
    },
    {
     "name": "stdout",
     "output_type": "stream",
     "text": [
      "Epoch 90, Loss 0.0277\n",
      "Training Accuracy: 0.9672, Testing Accuracy: 0.9703\n",
      "\n"
     ]
    },
    {
     "name": "stdout",
     "output_type": "stream",
     "text": [
      "Epoch 100, Loss 0.0267\n",
      "Training Accuracy: 0.9684, Testing Accuracy: 0.9708\n",
      "\n"
     ]
    },
    {
     "name": "stdout",
     "output_type": "stream",
     "text": [
      "Epoch 110, Loss 0.0257\n",
      "Training Accuracy: 0.9698, Testing Accuracy: 0.9703\n",
      "\n"
     ]
    },
    {
     "name": "stdout",
     "output_type": "stream",
     "text": [
      "Epoch 120, Loss 0.0249\n",
      "Training Accuracy: 0.9706, Testing Accuracy: 0.9713\n",
      "\n"
     ]
    },
    {
     "name": "stdout",
     "output_type": "stream",
     "text": [
      "Epoch 130, Loss 0.0242\n",
      "Training Accuracy: 0.9717, Testing Accuracy: 0.9723\n",
      "\n"
     ]
    },
    {
     "name": "stdout",
     "output_type": "stream",
     "text": [
      "Epoch 140, Loss 0.0235\n",
      "Training Accuracy: 0.9723, Testing Accuracy: 0.9723\n",
      "\n"
     ]
    },
    {
     "name": "stdout",
     "output_type": "stream",
     "text": [
      "Epoch 150, Loss 0.0229\n",
      "Training Accuracy: 0.9730, Testing Accuracy: 0.9733\n",
      "\n"
     ]
    },
    {
     "name": "stdout",
     "output_type": "stream",
     "text": [
      "Epoch 160, Loss 0.0223\n",
      "Training Accuracy: 0.9735, Testing Accuracy: 0.9743\n",
      "\n"
     ]
    },
    {
     "name": "stdout",
     "output_type": "stream",
     "text": [
      "Epoch 170, Loss 0.0218\n",
      "Training Accuracy: 0.9746, Testing Accuracy: 0.9743\n",
      "\n"
     ]
    },
    {
     "name": "stdout",
     "output_type": "stream",
     "text": [
      "Epoch 180, Loss 0.0213\n",
      "Training Accuracy: 0.9753, Testing Accuracy: 0.9743\n",
      "\n"
     ]
    },
    {
     "name": "stdout",
     "output_type": "stream",
     "text": [
      "Epoch 190, Loss 0.0208\n",
      "Training Accuracy: 0.9757, Testing Accuracy: 0.9748\n",
      "\n"
     ]
    },
    {
     "name": "stdout",
     "output_type": "stream",
     "text": [
      "Epoch 200, Loss 0.0204\n",
      "Training Accuracy: 0.9767, Testing Accuracy: 0.9748\n",
      "\n"
     ]
    },
    {
     "name": "stdout",
     "output_type": "stream",
     "text": [
      "Epoch 210, Loss 0.02\n",
      "Training Accuracy: 0.9770, Testing Accuracy: 0.9748\n",
      "\n"
     ]
    },
    {
     "name": "stdout",
     "output_type": "stream",
     "text": [
      "Epoch 220, Loss 0.0196\n",
      "Training Accuracy: 0.9780, Testing Accuracy: 0.9743\n",
      "\n"
     ]
    },
    {
     "name": "stdout",
     "output_type": "stream",
     "text": [
      "Epoch 230, Loss 0.0192\n",
      "Training Accuracy: 0.9792, Testing Accuracy: 0.9753\n",
      "\n"
     ]
    },
    {
     "name": "stdout",
     "output_type": "stream",
     "text": [
      "Epoch 240, Loss 0.0188\n",
      "Training Accuracy: 0.9797, Testing Accuracy: 0.9753\n",
      "\n"
     ]
    },
    {
     "name": "stdout",
     "output_type": "stream",
     "text": [
      "Epoch 250, Loss 0.0184\n",
      "Training Accuracy: 0.9803, Testing Accuracy: 0.9748\n",
      "\n"
     ]
    },
    {
     "data": {
      "text/plain": [
       "0.029684063045088714"
      ]
     },
     "execution_count": 20,
     "metadata": {},
     "output_type": "execute_result"
    }
   ],
   "source": [
    "print(\"====== Neural Network ======\")\n",
    "learner_nn.train_loop(dl)"
   ]
  },
  {
   "cell_type": "markdown",
   "metadata": {
    "papermill": {
     "duration": 0.037598,
     "end_time": "2020-08-15T00:06:57.923957",
     "exception": false,
     "start_time": "2020-08-15T00:06:57.886359",
     "status": "completed"
    },
    "tags": []
   },
   "source": [
    "### Logistic Regression based Implementation."
   ]
  },
  {
   "cell_type": "code",
   "execution_count": 21,
   "metadata": {
    "execution": {
     "iopub.execute_input": "2020-08-15T00:06:58.005992Z",
     "iopub.status.busy": "2020-08-15T00:06:58.004577Z",
     "iopub.status.idle": "2020-08-15T00:06:58.017732Z",
     "shell.execute_reply": "2020-08-15T00:06:58.017247Z"
    },
    "papermill": {
     "duration": 0.055541,
     "end_time": "2020-08-15T00:06:58.017868",
     "exception": false,
     "start_time": "2020-08-15T00:06:57.962327",
     "status": "completed"
    },
    "tags": []
   },
   "outputs": [],
   "source": [
    "learner_lr = Learner(loss, model_lr, opt, config.num_epochs)\n",
    "acc_lr = ClfCallback(learner_lr, config.bs, training_xdata , testing_xdata, training_ydata, testing_ydata)\n",
    "learner_lr.set_callbacks([acc_lr])"
   ]
  },
  {
   "cell_type": "code",
   "execution_count": 22,
   "metadata": {
    "execution": {
     "iopub.execute_input": "2020-08-15T00:06:58.098328Z",
     "iopub.status.busy": "2020-08-15T00:06:58.097483Z",
     "iopub.status.idle": "2020-08-15T00:07:14.745576Z",
     "shell.execute_reply": "2020-08-15T00:07:14.746446Z"
    },
    "papermill": {
     "duration": 16.690878,
     "end_time": "2020-08-15T00:07:14.746613",
     "exception": false,
     "start_time": "2020-08-15T00:06:58.055735",
     "status": "completed"
    },
    "tags": []
   },
   "outputs": [
    {
     "name": "stdout",
     "output_type": "stream",
     "text": [
      "====== Logistic Regression ======\n",
      "Epoch 0, Loss 0.2491\n",
      "Training Accuracy: 0.6453, Testing Accuracy: 0.6593\n",
      "\n"
     ]
    },
    {
     "name": "stdout",
     "output_type": "stream",
     "text": [
      "Epoch 10, Loss 0.0993\n",
      "Training Accuracy: 0.9185, Testing Accuracy: 0.9325\n",
      "\n"
     ]
    },
    {
     "name": "stdout",
     "output_type": "stream",
     "text": [
      "Epoch 20, Loss 0.0767\n",
      "Training Accuracy: 0.9313, Testing Accuracy: 0.9425\n",
      "\n"
     ]
    },
    {
     "name": "stdout",
     "output_type": "stream",
     "text": [
      "Epoch 30, Loss 0.0665\n",
      "Training Accuracy: 0.9392, Testing Accuracy: 0.9511\n",
      "\n"
     ]
    },
    {
     "name": "stdout",
     "output_type": "stream",
     "text": [
      "Epoch 40, Loss 0.0604\n",
      "Training Accuracy: 0.9430, Testing Accuracy: 0.9551\n",
      "\n"
     ]
    },
    {
     "name": "stdout",
     "output_type": "stream",
     "text": [
      "Epoch 50, Loss 0.0562\n",
      "Training Accuracy: 0.9463, Testing Accuracy: 0.9561\n",
      "\n"
     ]
    },
    {
     "name": "stdout",
     "output_type": "stream",
     "text": [
      "Epoch 60, Loss 0.0531\n",
      "Training Accuracy: 0.9485, Testing Accuracy: 0.9587\n",
      "\n"
     ]
    },
    {
     "name": "stdout",
     "output_type": "stream",
     "text": [
      "Epoch 70, Loss 0.0507\n",
      "Training Accuracy: 0.9501, Testing Accuracy: 0.9607\n",
      "\n"
     ]
    },
    {
     "name": "stdout",
     "output_type": "stream",
     "text": [
      "Epoch 80, Loss 0.0487\n",
      "Training Accuracy: 0.9511, Testing Accuracy: 0.9607\n",
      "\n"
     ]
    },
    {
     "name": "stdout",
     "output_type": "stream",
     "text": [
      "Epoch 90, Loss 0.0471\n",
      "Training Accuracy: 0.9517, Testing Accuracy: 0.9637\n",
      "\n"
     ]
    },
    {
     "name": "stdout",
     "output_type": "stream",
     "text": [
      "Epoch 100, Loss 0.0458\n",
      "Training Accuracy: 0.9527, Testing Accuracy: 0.9642\n",
      "\n"
     ]
    },
    {
     "name": "stdout",
     "output_type": "stream",
     "text": [
      "Epoch 110, Loss 0.0446\n",
      "Training Accuracy: 0.9536, Testing Accuracy: 0.9647\n",
      "\n"
     ]
    },
    {
     "name": "stdout",
     "output_type": "stream",
     "text": [
      "Epoch 120, Loss 0.0436\n",
      "Training Accuracy: 0.9547, Testing Accuracy: 0.9642\n",
      "\n"
     ]
    },
    {
     "name": "stdout",
     "output_type": "stream",
     "text": [
      "Epoch 130, Loss 0.0427\n",
      "Training Accuracy: 0.9552, Testing Accuracy: 0.9647\n",
      "\n"
     ]
    },
    {
     "name": "stdout",
     "output_type": "stream",
     "text": [
      "Epoch 140, Loss 0.0419\n",
      "Training Accuracy: 0.9557, Testing Accuracy: 0.9647\n",
      "\n"
     ]
    },
    {
     "name": "stdout",
     "output_type": "stream",
     "text": [
      "Epoch 150, Loss 0.0412\n",
      "Training Accuracy: 0.9559, Testing Accuracy: 0.9647\n",
      "\n"
     ]
    },
    {
     "name": "stdout",
     "output_type": "stream",
     "text": [
      "Epoch 160, Loss 0.0405\n",
      "Training Accuracy: 0.9569, Testing Accuracy: 0.9642\n",
      "\n"
     ]
    },
    {
     "name": "stdout",
     "output_type": "stream",
     "text": [
      "Epoch 170, Loss 0.0399\n",
      "Training Accuracy: 0.9574, Testing Accuracy: 0.9642\n",
      "\n"
     ]
    },
    {
     "name": "stdout",
     "output_type": "stream",
     "text": [
      "Epoch 180, Loss 0.0394\n",
      "Training Accuracy: 0.9579, Testing Accuracy: 0.9642\n",
      "\n"
     ]
    },
    {
     "name": "stdout",
     "output_type": "stream",
     "text": [
      "Epoch 190, Loss 0.0389\n",
      "Training Accuracy: 0.9588, Testing Accuracy: 0.9652\n",
      "\n"
     ]
    },
    {
     "name": "stdout",
     "output_type": "stream",
     "text": [
      "Epoch 200, Loss 0.0384\n",
      "Training Accuracy: 0.9593, Testing Accuracy: 0.9652\n",
      "\n"
     ]
    },
    {
     "name": "stdout",
     "output_type": "stream",
     "text": [
      "Epoch 210, Loss 0.038\n",
      "Training Accuracy: 0.9599, Testing Accuracy: 0.9642\n",
      "\n"
     ]
    },
    {
     "name": "stdout",
     "output_type": "stream",
     "text": [
      "Epoch 220, Loss 0.0376\n",
      "Training Accuracy: 0.9599, Testing Accuracy: 0.9642\n",
      "\n"
     ]
    },
    {
     "name": "stdout",
     "output_type": "stream",
     "text": [
      "Epoch 230, Loss 0.0372\n",
      "Training Accuracy: 0.9602, Testing Accuracy: 0.9642\n",
      "\n"
     ]
    },
    {
     "name": "stdout",
     "output_type": "stream",
     "text": [
      "Epoch 240, Loss 0.0369\n",
      "Training Accuracy: 0.9602, Testing Accuracy: 0.9642\n",
      "\n"
     ]
    },
    {
     "name": "stdout",
     "output_type": "stream",
     "text": [
      "Epoch 250, Loss 0.0365\n",
      "Training Accuracy: 0.9605, Testing Accuracy: 0.9652\n",
      "\n"
     ]
    },
    {
     "data": {
      "text/plain": [
       "0.011174246388673491"
      ]
     },
     "execution_count": 22,
     "metadata": {},
     "output_type": "execute_result"
    }
   ],
   "source": [
    "print(\"====== Logistic Regression ======\")\n",
    "learner_lr.train_loop(dl)"
   ]
  },
  {
   "cell_type": "markdown",
   "metadata": {
    "papermill": {
     "duration": 0.045033,
     "end_time": "2020-08-15T00:07:14.837377",
     "exception": false,
     "start_time": "2020-08-15T00:07:14.792344",
     "status": "completed"
    },
    "tags": []
   },
   "source": [
    "### Comparing results of NN and LR"
   ]
  },
  {
   "cell_type": "code",
   "execution_count": 23,
   "metadata": {
    "execution": {
     "iopub.execute_input": "2020-08-15T00:07:14.935870Z",
     "iopub.status.busy": "2020-08-15T00:07:14.935074Z",
     "iopub.status.idle": "2020-08-15T00:07:15.177092Z",
     "shell.execute_reply": "2020-08-15T00:07:15.177579Z"
    },
    "papermill": {
     "duration": 0.295266,
     "end_time": "2020-08-15T00:07:15.177751",
     "exception": false,
     "start_time": "2020-08-15T00:07:14.882485",
     "status": "completed"
    },
    "tags": []
   },
   "outputs": [
    {
     "data": {
      "text/plain": [
       "<matplotlib.legend.Legend at 0x7ff1cbb06a20>"
      ]
     },
     "execution_count": 23,
     "metadata": {},
     "output_type": "execute_result"
    },
    {
     "data": {
      "image/png": "[encoded data removed]",
      "text/plain": [
       "<Figure size 1080x720 with 1 Axes>"
      ]
     },
     "metadata": {
      "needs_background": "light"
     },
     "output_type": "display_data"
    }
   ],
   "source": [
    "plt.figure(figsize=(15,10))\n",
    "\n",
    "# Neural Network plots\n",
    "plt.plot(acc_nn.accuracies, 'r-', label = \"Training Accuracies - NN\")\n",
    "plt.plot(acc_nn.test_accuracies, 'g-', label = \"Testing Accuracies - NN\")\n",
    "\n",
    "# Logistic Regression plots\n",
    "plt.plot(acc_lr.accuracies, 'k-', label = \"Training Accuracies - LR\")\n",
    "plt.plot(acc_lr.test_accuracies, 'b-', label = \"Testing Accuracies - LR\")\n",
    "\n",
    "plt.ylim(0.8, 1)\n",
    "\n",
    "plt.legend()\n",
    "\n"
   ]
  },
  {
   "cell_type": "markdown",
   "metadata": {
    "papermill": {
     "duration": 0.046848,
     "end_time": "2020-08-15T00:07:15.271788",
     "exception": false,
     "start_time": "2020-08-15T00:07:15.224940",
     "status": "completed"
    },
    "tags": []
   },
   "source": [
    "### From the plot, we can observe the following:\n",
    "- Neural Network achieves higher accuracy than the Logistic Regression model.\n",
    "- This apparently, is because of overfitting, i.e. NN captures more noise than data.\n",
    "- Testing accuracy of NN drops below the Training accuracy at higher epochs. This explains the over-fitting on training data.\n",
    "- Logistic Regression gives a reliable accuracy, without the above mentioned problem.\n"
   ]
  },
  {
   "cell_type": "markdown",
   "metadata": {
    "papermill": {
     "duration": 0.046716,
     "end_time": "2020-08-15T00:07:15.365284",
     "exception": false,
     "start_time": "2020-08-15T00:07:15.318568",
     "status": "completed"
    },
    "tags": []
   },
   "source": [
    "### Moving till the last but one layer (excluding it).\n",
    "#### Plotting the outputs of this layer of the NN."
   ]
  },
  {
   "cell_type": "code",
   "execution_count": 24,
   "metadata": {
    "execution": {
     "iopub.execute_input": "2020-08-15T00:07:15.463570Z",
     "iopub.status.busy": "2020-08-15T00:07:15.462968Z",
     "iopub.status.idle": "2020-08-15T00:07:15.475334Z",
     "shell.execute_reply": "2020-08-15T00:07:15.475890Z"
    },
    "papermill": {
     "duration": 0.063709,
     "end_time": "2020-08-15T00:07:15.476047",
     "exception": false,
     "start_time": "2020-08-15T00:07:15.412338",
     "status": "completed"
    },
    "tags": []
   },
   "outputs": [],
   "source": [
    "model_new = Model(layers[:-2])"
   ]
  },
  {
   "cell_type": "code",
   "execution_count": 25,
   "metadata": {
    "execution": {
     "iopub.execute_input": "2020-08-15T00:07:15.580343Z",
     "iopub.status.busy": "2020-08-15T00:07:15.579588Z",
     "iopub.status.idle": "2020-08-15T00:07:15.601962Z",
     "shell.execute_reply": "2020-08-15T00:07:15.602561Z"
    },
    "papermill": {
     "duration": 0.076342,
     "end_time": "2020-08-15T00:07:15.602734",
     "exception": false,
     "start_time": "2020-08-15T00:07:15.526392",
     "status": "completed"
    },
    "tags": []
   },
   "outputs": [],
   "source": [
    "plot_testing = model_new(testing_xdata)"
   ]
  },
  {
   "cell_type": "code",
   "execution_count": 26,
   "metadata": {
    "execution": {
     "iopub.execute_input": "2020-08-15T00:07:15.708008Z",
     "iopub.status.busy": "2020-08-15T00:07:15.707397Z",
     "iopub.status.idle": "2020-08-15T00:07:15.911219Z",
     "shell.execute_reply": "2020-08-15T00:07:15.911788Z"
    },
    "papermill": {
     "duration": 0.260402,
     "end_time": "2020-08-15T00:07:15.911968",
     "exception": false,
     "start_time": "2020-08-15T00:07:15.651566",
     "status": "completed"
    },
    "tags": []
   },
   "outputs": [
    {
     "data": {
      "text/plain": [
       "Text(0.5, 1.0, 'Outputs')"
      ]
     },
     "execution_count": 26,
     "metadata": {},
     "output_type": "execute_result"
    },
    {
     "data": {
      "image/png": "[encoded data removed]",
      "text/plain": [
       "<Figure size 576x504 with 1 Axes>"
      ]
     },
     "metadata": {
      "needs_background": "light"
     },
     "output_type": "display_data"
    }
   ],
   "source": [
    "plt.figure(figsize=(8,7))\n",
    "plt.scatter(plot_testing[:,0], plot_testing[:,1], alpha = 0.1, c = y_test.ravel());\n",
    "plt.title('Outputs')"
   ]
  },
  {
   "cell_type": "markdown",
   "metadata": {
    "papermill": {
     "duration": 0.049173,
     "end_time": "2020-08-15T00:07:16.010816",
     "exception": false,
     "start_time": "2020-08-15T00:07:15.961643",
     "status": "completed"
    },
    "tags": []
   },
   "source": [
    "### Plotting probability contours"
   ]
  },
  {
   "cell_type": "code",
   "execution_count": 27,
   "metadata": {
    "execution": {
     "iopub.execute_input": "2020-08-15T00:07:16.114947Z",
     "iopub.status.busy": "2020-08-15T00:07:16.114339Z",
     "iopub.status.idle": "2020-08-15T00:07:16.127343Z",
     "shell.execute_reply": "2020-08-15T00:07:16.127805Z"
    },
    "papermill": {
     "duration": 0.067933,
     "end_time": "2020-08-15T00:07:16.127971",
     "exception": false,
     "start_time": "2020-08-15T00:07:16.060038",
     "status": "completed"
    },
    "tags": []
   },
   "outputs": [],
   "source": [
    "model_prob = Model(layers[-2:]) "
   ]
  },
  {
   "cell_type": "code",
   "execution_count": 28,
   "metadata": {
    "execution": {
     "iopub.execute_input": "2020-08-15T00:07:16.233128Z",
     "iopub.status.busy": "2020-08-15T00:07:16.232506Z",
     "iopub.status.idle": "2020-08-15T00:07:16.248687Z",
     "shell.execute_reply": "2020-08-15T00:07:16.249301Z"
    },
    "papermill": {
     "duration": 0.072227,
     "end_time": "2020-08-15T00:07:16.249519",
     "exception": false,
     "start_time": "2020-08-15T00:07:16.177292",
     "status": "completed"
    },
    "tags": []
   },
   "outputs": [],
   "source": [
    "# Adjust the x and y ranges according to the above generated plot.\n",
    "x_range = np.linspace(-4, 1, 100) \n",
    "y_range = np.linspace(-6, 6, 100) \n",
    "x_grid, y_grid = np.meshgrid(x_range, y_range) # x_grid and y_grig are of size 100 X 100\n",
    "\n",
    "# converting x_grid and y_grid to continuous arrays\n",
    "x_grid_flat = np.ravel(x_grid)\n",
    "y_grid_flat = np.ravel(y_grid)\n",
    "\n",
    "# The last layer of the current model takes two columns as input. Hence transpose of np.vstack() is required.\n",
    "X = np.vstack((x_grid_flat, y_grid_flat)).T\n",
    "\n",
    "# x_grid and y_grid are of size 100 x 100\n",
    "probability_contour = model_prob(X).reshape(100,100) "
   ]
  },
  {
   "cell_type": "code",
   "execution_count": 29,
   "metadata": {
    "execution": {
     "iopub.execute_input": "2020-08-15T00:07:16.374655Z",
     "iopub.status.busy": "2020-08-15T00:07:16.373946Z",
     "iopub.status.idle": "2020-08-15T00:07:16.640733Z",
     "shell.execute_reply": "2020-08-15T00:07:16.641836Z"
    },
    "papermill": {
     "duration": 0.340009,
     "end_time": "2020-08-15T00:07:16.642004",
     "exception": false,
     "start_time": "2020-08-15T00:07:16.301995",
     "status": "completed"
    },
    "tags": []
   },
   "outputs": [
    {
     "data": {
      "image/png": "[encoded data removed]",
      "text/plain": [
       "<Figure size 720x648 with 1 Axes>"
      ]
     },
     "metadata": {
      "needs_background": "light"
     },
     "output_type": "display_data"
    }
   ],
   "source": [
    "plt.figure(figsize=(10,9))\n",
    "plt.scatter(plot_testing[:,0], plot_testing[:,1], alpha = 0.1, c = y_test.ravel())\n",
    "contours = plt.contour(x_grid,y_grid,probability_contour)\n",
    "plt.title('Probability Contours')\n",
    "plt.clabel(contours, inline = True );"
   ]
  }
 ],
 "metadata": {
  "kernelspec": {
   "display_name": "Python 3",
   "language": "python",
   "name": "python3"
  },
  "language_info": {
   "codemirror_mode": {
    "name": "ipython",
    "version": 3
   },
   "file_extension": ".py",
   "mimetype": "text/x-python",
   "name": "python",
   "nbconvert_exporter": "python",
   "pygments_lexer": "ipython3",
   "version": "3.6.11"
  },
  "papermill": {
   "duration": 116.038412,
   "end_time": "2020-08-15T00:07:17.103860",
   "environment_variables": {},
   "exception": null,
   "input_path": "2020-08-11-NeuralNetwork.ipynb",
   "output_path": "2020-08-11-NeuralNetwork.ipynb",
   "parameters": {},
   "start_time": "2020-08-15T00:05:21.065448",
   "version": "2.1.2"
  }
 },
 "nbformat": 4,
 "nbformat_minor": 4
}