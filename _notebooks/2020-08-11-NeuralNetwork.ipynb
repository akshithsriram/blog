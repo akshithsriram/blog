{
 "cells": [
  {
   "cell_type": "markdown",
   "metadata": {
    "papermill": {
     "duration": 0.033791,
     "end_time": "2020-11-18T20:03:55.893864",
     "exception": false,
     "start_time": "2020-11-18T20:03:55.860073",
     "status": "completed"
    },
    "tags": []
   },
   "source": [
    "# \"A Basic Neural Network: Differentiate Hand-Written Digits\"\n",
    "\n",
    "- badges: true\n",
    "- author: Akshith Sriram"
   ]
  },
  {
   "cell_type": "markdown",
   "metadata": {
    "papermill": {
     "duration": 0.024989,
     "end_time": "2020-11-18T20:03:55.947231",
     "exception": false,
     "start_time": "2020-11-18T20:03:55.922242",
     "status": "completed"
    },
    "tags": []
   },
   "source": [
    "### Key Objectives:\n",
    "- Building a neural network that differentiates two hand-written digits 3 and 8.\n",
    "- Comparing the results of this Neural Network (NN) to that of a Logistic Regression (LR) model.\n",
    "\n",
    "### Requirements:\n",
    "- 'Kudzu' : A neural network library that was designed during our course by [Univ.AI](www.univ.ai). \n",
    "- MNIST Database\n",
    "\n",
    "If MNIST is not installed, use the command `!pip install mnist` given below.\n",
    "It can be run both from the command line and Jupyter Notebook."
   ]
  },
  {
   "cell_type": "code",
   "execution_count": 1,
   "metadata": {
    "execution": {
     "iopub.execute_input": "2020-11-18T20:03:56.000461Z",
     "iopub.status.busy": "2020-11-18T20:03:55.999855Z",
     "iopub.status.idle": "2020-11-18T20:03:57.473363Z",
     "shell.execute_reply": "2020-11-18T20:03:57.472666Z"
    },
    "papermill": {
     "duration": 1.502159,
     "end_time": "2020-11-18T20:03:57.473625",
     "exception": false,
     "start_time": "2020-11-18T20:03:55.971466",
     "status": "completed"
    },
    "tags": []
   },
   "outputs": [
    {
     "name": "stdout",
     "output_type": "stream",
     "text": [
      "Collecting mnist\r\n"
     ]
    },
    {
     "name": "stdout",
     "output_type": "stream",
     "text": [
      "  Downloading mnist-0.2.2-py2.py3-none-any.whl (3.5 kB)\r\n",
      "Requirement already satisfied: numpy in /opt/hostedtoolcache/Python/3.6.12/x64/lib/python3.6/site-packages (from mnist) (1.19.4)\r\n"
     ]
    },
    {
     "name": "stdout",
     "output_type": "stream",
     "text": [
      "Installing collected packages: mnist\r\n"
     ]
    },
    {
     "name": "stdout",
     "output_type": "stream",
     "text": [
      "Successfully installed mnist-0.2.2\r\n"
     ]
    }
   ],
   "source": [
    "!pip install mnist "
   ]
  },
  {
   "cell_type": "markdown",
   "metadata": {
    "papermill": {
     "duration": 0.029142,
     "end_time": "2020-11-18T20:03:57.534277",
     "exception": false,
     "start_time": "2020-11-18T20:03:57.505135",
     "status": "completed"
    },
    "tags": []
   },
   "source": [
    "#### Importing necessary libraries"
   ]
  },
  {
   "cell_type": "code",
   "execution_count": 2,
   "metadata": {
    "execution": {
     "iopub.execute_input": "2020-11-18T20:03:57.617884Z",
     "iopub.status.busy": "2020-11-18T20:03:57.617170Z",
     "iopub.status.idle": "2020-11-18T20:03:58.227667Z",
     "shell.execute_reply": "2020-11-18T20:03:58.227160Z"
    },
    "papermill": {
     "duration": 0.65703,
     "end_time": "2020-11-18T20:03:58.227811",
     "exception": false,
     "start_time": "2020-11-18T20:03:57.570781",
     "status": "completed"
    },
    "tags": []
   },
   "outputs": [],
   "source": [
    "%load_ext autoreload\n",
    "%autoreload 2\n",
    "\n",
    "%matplotlib inline\n",
    "import matplotlib.pyplot as plt\n",
    "\n",
    "import numpy as np\n",
    "import pandas as pd"
   ]
  },
  {
   "cell_type": "markdown",
   "metadata": {
    "papermill": {
     "duration": 0.03433,
     "end_time": "2020-11-18T20:03:58.289193",
     "exception": false,
     "start_time": "2020-11-18T20:03:58.254863",
     "status": "completed"
    },
    "tags": []
   },
   "source": [
    "### Preparing the Data"
   ]
  },
  {
   "cell_type": "code",
   "execution_count": 3,
   "metadata": {
    "execution": {
     "iopub.execute_input": "2020-11-18T20:03:58.838785Z",
     "iopub.status.busy": "2020-11-18T20:03:58.838081Z",
     "iopub.status.idle": "2020-11-18T20:03:58.853926Z",
     "shell.execute_reply": "2020-11-18T20:03:58.853356Z"
    },
    "papermill": {
     "duration": 0.051192,
     "end_time": "2020-11-18T20:03:58.854104",
     "exception": false,
     "start_time": "2020-11-18T20:03:58.802912",
     "status": "completed"
    },
    "tags": []
   },
   "outputs": [],
   "source": [
    "import mnist"
   ]
  },
  {
   "cell_type": "code",
   "execution_count": 4,
   "metadata": {
    "execution": {
     "iopub.execute_input": "2020-11-18T20:03:58.917273Z",
     "iopub.status.busy": "2020-11-18T20:03:58.916670Z",
     "iopub.status.idle": "2020-11-18T20:03:59.680749Z",
     "shell.execute_reply": "2020-11-18T20:03:59.681247Z"
    },
    "papermill": {
     "duration": 0.799032,
     "end_time": "2020-11-18T20:03:59.681410",
     "exception": false,
     "start_time": "2020-11-18T20:03:58.882378",
     "status": "completed"
    },
    "tags": []
   },
   "outputs": [],
   "source": [
    "train_images = mnist.train_images()\n",
    "train_labels = mnist.train_labels()"
   ]
  },
  {
   "cell_type": "code",
   "execution_count": 5,
   "metadata": {
    "execution": {
     "iopub.execute_input": "2020-11-18T20:03:59.749832Z",
     "iopub.status.busy": "2020-11-18T20:03:59.748710Z",
     "iopub.status.idle": "2020-11-18T20:03:59.758549Z",
     "shell.execute_reply": "2020-11-18T20:03:59.759079Z"
    },
    "papermill": {
     "duration": 0.051791,
     "end_time": "2020-11-18T20:03:59.759217",
     "exception": false,
     "start_time": "2020-11-18T20:03:59.707426",
     "status": "completed"
    },
    "tags": []
   },
   "outputs": [
    {
     "data": {
      "text/plain": [
       "((60000, 28, 28), (60000,))"
      ]
     },
     "execution_count": 5,
     "metadata": {},
     "output_type": "execute_result"
    }
   ],
   "source": [
    "train_images.shape, train_labels.shape"
   ]
  },
  {
   "cell_type": "code",
   "execution_count": 6,
   "metadata": {
    "execution": {
     "iopub.execute_input": "2020-11-18T20:03:59.829341Z",
     "iopub.status.busy": "2020-11-18T20:03:59.818466Z",
     "iopub.status.idle": "2020-11-18T20:04:00.144192Z",
     "shell.execute_reply": "2020-11-18T20:04:00.143647Z"
    },
    "papermill": {
     "duration": 0.357472,
     "end_time": "2020-11-18T20:04:00.144347",
     "exception": false,
     "start_time": "2020-11-18T20:03:59.786875",
     "status": "completed"
    },
    "tags": []
   },
   "outputs": [],
   "source": [
    "test_images = mnist.test_images()\n",
    "test_labels = mnist.test_labels()"
   ]
  },
  {
   "cell_type": "code",
   "execution_count": 7,
   "metadata": {
    "execution": {
     "iopub.execute_input": "2020-11-18T20:04:00.218385Z",
     "iopub.status.busy": "2020-11-18T20:04:00.209251Z",
     "iopub.status.idle": "2020-11-18T20:04:00.221230Z",
     "shell.execute_reply": "2020-11-18T20:04:00.221854Z"
    },
    "papermill": {
     "duration": 0.047788,
     "end_time": "2020-11-18T20:04:00.221999",
     "exception": false,
     "start_time": "2020-11-18T20:04:00.174211",
     "status": "completed"
    },
    "tags": []
   },
   "outputs": [
    {
     "data": {
      "text/plain": [
       "((10000, 28, 28), (10000,))"
      ]
     },
     "execution_count": 7,
     "metadata": {},
     "output_type": "execute_result"
    }
   ],
   "source": [
    "test_images.shape, test_labels.shape"
   ]
  },
  {
   "cell_type": "code",
   "execution_count": 8,
   "metadata": {
    "execution": {
     "iopub.execute_input": "2020-11-18T20:04:00.289631Z",
     "iopub.status.busy": "2020-11-18T20:04:00.288760Z",
     "iopub.status.idle": "2020-11-18T20:04:00.468654Z",
     "shell.execute_reply": "2020-11-18T20:04:00.468161Z"
    },
    "papermill": {
     "duration": 0.219112,
     "end_time": "2020-11-18T20:04:00.468792",
     "exception": false,
     "start_time": "2020-11-18T20:04:00.249680",
     "status": "completed"
    },
    "tags": []
   },
   "outputs": [
    {
     "name": "stdout",
     "output_type": "stream",
     "text": [
      "2\n"
     ]
    },
    {
     "data": {
      "text/plain": [
       "<matplotlib.image.AxesImage at 0x7fe2f7112080>"
      ]
     },
     "execution_count": 8,
     "metadata": {},
     "output_type": "execute_result"
    },
    {
     "data": {
      "image/png": "[encoded data removed]",
      "text/plain": [
       "<Figure size 432x288 with 1 Axes>"
      ]
     },
     "metadata": {
      "needs_background": "light"
     },
     "output_type": "display_data"
    }
   ],
   "source": [
    "image_index = 7776 # You may select anything up to 60,000\n",
    "print(train_labels[image_index]) \n",
    "plt.imshow(train_images[image_index], cmap='Greys')"
   ]
  },
  {
   "cell_type": "markdown",
   "metadata": {
    "papermill": {
     "duration": 0.028049,
     "end_time": "2020-11-18T20:04:00.526869",
     "exception": false,
     "start_time": "2020-11-18T20:04:00.498820",
     "status": "completed"
    },
    "tags": []
   },
   "source": [
    "## Filter data to get 3 and 8 out"
   ]
  },
  {
   "cell_type": "code",
   "execution_count": 9,
   "metadata": {
    "execution": {
     "iopub.execute_input": "2020-11-18T20:04:00.600951Z",
     "iopub.status.busy": "2020-11-18T20:04:00.600306Z",
     "iopub.status.idle": "2020-11-18T20:04:00.614932Z",
     "shell.execute_reply": "2020-11-18T20:04:00.614369Z"
    },
    "papermill": {
     "duration": 0.059042,
     "end_time": "2020-11-18T20:04:00.615067",
     "exception": false,
     "start_time": "2020-11-18T20:04:00.556025",
     "status": "completed"
    },
    "tags": []
   },
   "outputs": [],
   "source": [
    "train_filter = np.where((train_labels == 3 ) | (train_labels == 8))\n",
    "test_filter = np.where((test_labels == 3) | (test_labels == 8))\n",
    "X_train, y_train = train_images[train_filter], train_labels[train_filter]\n",
    "X_test, y_test = test_images[test_filter], test_labels[test_filter]"
   ]
  },
  {
   "cell_type": "markdown",
   "metadata": {
    "papermill": {
     "duration": 0.028092,
     "end_time": "2020-11-18T20:04:00.670799",
     "exception": false,
     "start_time": "2020-11-18T20:04:00.642707",
     "status": "completed"
    },
    "tags": []
   },
   "source": [
    "We normalize the pixel values in the 0 to 1 range"
   ]
  },
  {
   "cell_type": "code",
   "execution_count": 10,
   "metadata": {
    "execution": {
     "iopub.execute_input": "2020-11-18T20:04:00.731927Z",
     "iopub.status.busy": "2020-11-18T20:04:00.731282Z",
     "iopub.status.idle": "2020-11-18T20:04:00.791834Z",
     "shell.execute_reply": "2020-11-18T20:04:00.791345Z"
    },
    "papermill": {
     "duration": 0.093849,
     "end_time": "2020-11-18T20:04:00.792009",
     "exception": false,
     "start_time": "2020-11-18T20:04:00.698160",
     "status": "completed"
    },
    "tags": []
   },
   "outputs": [],
   "source": [
    "X_train = X_train/255.\n",
    "X_test = X_test/255."
   ]
  },
  {
   "cell_type": "markdown",
   "metadata": {
    "papermill": {
     "duration": 0.03196,
     "end_time": "2020-11-18T20:04:00.856807",
     "exception": false,
     "start_time": "2020-11-18T20:04:00.824847",
     "status": "completed"
    },
    "tags": []
   },
   "source": [
    "Setup the labels as 1 (when the digit is 3) and 0 (when the digit is 8)"
   ]
  },
  {
   "cell_type": "code",
   "execution_count": 11,
   "metadata": {
    "execution": {
     "iopub.execute_input": "2020-11-18T20:04:00.933359Z",
     "iopub.status.busy": "2020-11-18T20:04:00.932721Z",
     "iopub.status.idle": "2020-11-18T20:04:00.943326Z",
     "shell.execute_reply": "2020-11-18T20:04:00.944963Z"
    },
    "papermill": {
     "duration": 0.058419,
     "end_time": "2020-11-18T20:04:00.945147",
     "exception": false,
     "start_time": "2020-11-18T20:04:00.886728",
     "status": "completed"
    },
    "tags": []
   },
   "outputs": [],
   "source": [
    "y_train = 1*(y_train==3)\n",
    "y_test = 1*(y_test==3)"
   ]
  },
  {
   "cell_type": "code",
   "execution_count": 12,
   "metadata": {
    "execution": {
     "iopub.execute_input": "2020-11-18T20:04:01.023535Z",
     "iopub.status.busy": "2020-11-18T20:04:01.022836Z",
     "iopub.status.idle": "2020-11-18T20:04:01.038381Z",
     "shell.execute_reply": "2020-11-18T20:04:01.037562Z"
    },
    "papermill": {
     "duration": 0.05632,
     "end_time": "2020-11-18T20:04:01.038531",
     "exception": false,
     "start_time": "2020-11-18T20:04:00.982211",
     "status": "completed"
    },
    "tags": []
   },
   "outputs": [
    {
     "data": {
      "text/plain": [
       "((11982, 28, 28), (1984, 28, 28))"
      ]
     },
     "execution_count": 12,
     "metadata": {},
     "output_type": "execute_result"
    }
   ],
   "source": [
    "X_train.shape, X_test.shape"
   ]
  },
  {
   "cell_type": "markdown",
   "metadata": {
    "papermill": {
     "duration": 0.029495,
     "end_time": "2020-11-18T20:04:01.097489",
     "exception": false,
     "start_time": "2020-11-18T20:04:01.067994",
     "status": "completed"
    },
    "tags": []
   },
   "source": [
    "### Reshape the input data to create a linear array"
   ]
  },
  {
   "cell_type": "code",
   "execution_count": 13,
   "metadata": {
    "execution": {
     "iopub.execute_input": "2020-11-18T20:04:01.173585Z",
     "iopub.status.busy": "2020-11-18T20:04:01.173035Z",
     "iopub.status.idle": "2020-11-18T20:04:01.175955Z",
     "shell.execute_reply": "2020-11-18T20:04:01.176420Z"
    },
    "papermill": {
     "duration": 0.049271,
     "end_time": "2020-11-18T20:04:01.176554",
     "exception": false,
     "start_time": "2020-11-18T20:04:01.127283",
     "status": "completed"
    },
    "tags": []
   },
   "outputs": [
    {
     "data": {
      "text/plain": [
       "((11982, 784), (1984, 784))"
      ]
     },
     "execution_count": 13,
     "metadata": {},
     "output_type": "execute_result"
    }
   ],
   "source": [
    "X_train = X_train.reshape(X_train.shape[0], -1)\n",
    "X_test = X_test.reshape(X_test.shape[0], -1)\n",
    "X_train.shape, X_test.shape"
   ]
  },
  {
   "cell_type": "markdown",
   "metadata": {
    "papermill": {
     "duration": 0.02803,
     "end_time": "2020-11-18T20:04:01.231656",
     "exception": false,
     "start_time": "2020-11-18T20:04:01.203626",
     "status": "completed"
    },
    "tags": []
   },
   "source": [
    "### Importing appropriate functions from 'Kudzu'"
   ]
  },
  {
   "cell_type": "code",
   "execution_count": 14,
   "metadata": {
    "execution": {
     "iopub.execute_input": "2020-11-18T20:04:01.305525Z",
     "iopub.status.busy": "2020-11-18T20:04:01.303034Z",
     "iopub.status.idle": "2020-11-18T20:04:01.320299Z",
     "shell.execute_reply": "2020-11-18T20:04:01.320793Z"
    },
    "papermill": {
     "duration": 0.060552,
     "end_time": "2020-11-18T20:04:01.320952",
     "exception": false,
     "start_time": "2020-11-18T20:04:01.260400",
     "status": "completed"
    },
    "tags": []
   },
   "outputs": [],
   "source": [
    "from kudzu.layer import Sigmoid\n",
    "from kudzu.layer import Relu\n",
    "from kudzu.layer import Affine, Sigmoid\n",
    "\n",
    "from kudzu.model import Model\n",
    "from kudzu.train import Learner\n",
    "from kudzu.optim import GD\n",
    "from kudzu.data import Data, Dataloader, Sampler\n",
    "\n",
    "from kudzu.callbacks import AccCallback\n",
    "from kudzu.callbacks import ClfCallback\n",
    "\n",
    "from kudzu.loss import MSE"
   ]
  },
  {
   "cell_type": "markdown",
   "metadata": {
    "papermill": {
     "duration": 0.034307,
     "end_time": "2020-11-18T20:04:01.385593",
     "exception": false,
     "start_time": "2020-11-18T20:04:01.351286",
     "status": "completed"
    },
    "tags": []
   },
   "source": [
    "### Let us create a `Config` class, to store important parameters. \n",
    "This class essentially plays the role of a dictionary."
   ]
  },
  {
   "cell_type": "code",
   "execution_count": 15,
   "metadata": {
    "execution": {
     "iopub.execute_input": "2020-11-18T20:04:01.468747Z",
     "iopub.status.busy": "2020-11-18T20:04:01.462024Z",
     "iopub.status.idle": "2020-11-18T20:04:01.474668Z",
     "shell.execute_reply": "2020-11-18T20:04:01.475250Z"
    },
    "papermill": {
     "duration": 0.049297,
     "end_time": "2020-11-18T20:04:01.475444",
     "exception": false,
     "start_time": "2020-11-18T20:04:01.426147",
     "status": "completed"
    },
    "tags": []
   },
   "outputs": [],
   "source": [
    "class Config:\n",
    "    pass\n",
    "config = Config()\n",
    "config.lr = 0.001\n",
    "config.num_epochs = 251\n",
    "config.bs = 50"
   ]
  },
  {
   "cell_type": "markdown",
   "metadata": {
    "papermill": {
     "duration": 0.031942,
     "end_time": "2020-11-18T20:04:01.538227",
     "exception": false,
     "start_time": "2020-11-18T20:04:01.506285",
     "status": "completed"
    },
    "tags": []
   },
   "source": [
    "### Initializing data to the variables"
   ]
  },
  {
   "cell_type": "code",
   "execution_count": 16,
   "metadata": {
    "execution": {
     "iopub.execute_input": "2020-11-18T20:04:01.604436Z",
     "iopub.status.busy": "2020-11-18T20:04:01.603818Z",
     "iopub.status.idle": "2020-11-18T20:04:01.613694Z",
     "shell.execute_reply": "2020-11-18T20:04:01.613219Z"
    },
    "papermill": {
     "duration": 0.047412,
     "end_time": "2020-11-18T20:04:01.613816",
     "exception": false,
     "start_time": "2020-11-18T20:04:01.566404",
     "status": "completed"
    },
    "tags": []
   },
   "outputs": [],
   "source": [
    "data = Data(X_train, y_train.reshape(-1,1))\n",
    "sampler = Sampler(data, config.bs, shuffle=True)\n",
    "\n",
    "dl = Dataloader(data, sampler)\n",
    "\n",
    "opt = GD(config.lr)\n",
    "loss = MSE()"
   ]
  },
  {
   "cell_type": "code",
   "execution_count": 17,
   "metadata": {
    "execution": {
     "iopub.execute_input": "2020-11-18T20:04:01.676192Z",
     "iopub.status.busy": "2020-11-18T20:04:01.675494Z",
     "iopub.status.idle": "2020-11-18T20:04:01.688282Z",
     "shell.execute_reply": "2020-11-18T20:04:01.687653Z"
    },
    "papermill": {
     "duration": 0.046073,
     "end_time": "2020-11-18T20:04:01.688437",
     "exception": false,
     "start_time": "2020-11-18T20:04:01.642364",
     "status": "completed"
    },
    "tags": []
   },
   "outputs": [],
   "source": [
    "training_xdata = X_train\n",
    "testing_xdata = X_test\n",
    "training_ydata = y_train.reshape(-1,1)\n",
    "testing_ydata = y_test.reshape(-1,1)"
   ]
  },
  {
   "cell_type": "markdown",
   "metadata": {
    "papermill": {
     "duration": 0.031,
     "end_time": "2020-11-18T20:04:01.754333",
     "exception": false,
     "start_time": "2020-11-18T20:04:01.723333",
     "status": "completed"
    },
    "tags": []
   },
   "source": [
    "### Running Models with the Training data\n",
    "Details about the network layers:\n",
    "- A first affine layer has 784 inputs and does 100 affine transforms. These are followed by a Relu\n",
    "- A second affine layer has 100 inputs from the 100 activations of the past layer, and does 100 affine transforms. These are followed by a Relu\n",
    "- A third affine layer has 100 activations and does 2 affine transformations to create an embedding for visualization. There is no non-linearity here.\n",
    "- A final \"logistic regression\" which has an affine transform from 2 inputs to 1 output, which is squeezed through a sigmoid.\n",
    "\n",
    "Help taken from Anshuman's Notebook."
   ]
  },
  {
   "cell_type": "code",
   "execution_count": 18,
   "metadata": {
    "execution": {
     "iopub.execute_input": "2020-11-18T20:04:01.819276Z",
     "iopub.status.busy": "2020-11-18T20:04:01.818715Z",
     "iopub.status.idle": "2020-11-18T20:04:01.834527Z",
     "shell.execute_reply": "2020-11-18T20:04:01.833957Z"
    },
    "papermill": {
     "duration": 0.05077,
     "end_time": "2020-11-18T20:04:01.834656",
     "exception": false,
     "start_time": "2020-11-18T20:04:01.783886",
     "status": "completed"
    },
    "tags": []
   },
   "outputs": [],
   "source": [
    "# layers for the Neural Network\n",
    "layers = [Affine(\"first\", 784, 100), Relu(\"first\"), Affine(\"second\", 100, 100), Relu(\"second\"), Affine(\"third\", 100, 2), Affine(\"final\", 2, 1), Sigmoid(\"final\")]\n",
    "model_nn = Model(layers)\n",
    "\n",
    "# layers for the Logistic Regression\n",
    "layers_lr = [Affine(\"logits\", 784, 1), Sigmoid(\"sigmoid\")]\n",
    "model_lr = Model(layers_lr)"
   ]
  },
  {
   "cell_type": "code",
   "execution_count": 19,
   "metadata": {
    "execution": {
     "iopub.execute_input": "2020-11-18T20:04:01.900695Z",
     "iopub.status.busy": "2020-11-18T20:04:01.900119Z",
     "iopub.status.idle": "2020-11-18T20:04:01.914728Z",
     "shell.execute_reply": "2020-11-18T20:04:01.915428Z"
    },
    "papermill": {
     "duration": 0.052264,
     "end_time": "2020-11-18T20:04:01.915729",
     "exception": false,
     "start_time": "2020-11-18T20:04:01.863465",
     "status": "completed"
    },
    "tags": []
   },
   "outputs": [],
   "source": [
    "# suffix _nn stands for Neural Network.\n",
    "learner_nn = Learner(loss, model_nn, opt, config.num_epochs)\n",
    "acc_nn = ClfCallback(learner_nn, config.bs, training_xdata , testing_xdata, training_ydata, testing_ydata)\n",
    "learner_nn.set_callbacks([acc_nn])"
   ]
  },
  {
   "cell_type": "code",
   "execution_count": 20,
   "metadata": {
    "execution": {
     "iopub.execute_input": "2020-11-18T20:04:01.985406Z",
     "iopub.status.busy": "2020-11-18T20:04:01.984717Z",
     "iopub.status.idle": "2020-11-18T20:06:18.453517Z",
     "shell.execute_reply": "2020-11-18T20:06:18.454353Z"
    },
    "papermill": {
     "duration": 136.505717,
     "end_time": "2020-11-18T20:06:18.454545",
     "exception": false,
     "start_time": "2020-11-18T20:04:01.948828",
     "status": "completed"
    },
    "tags": []
   },
   "outputs": [
    {
     "name": "stdout",
     "output_type": "stream",
     "text": [
      "====== Neural Network ======\n"
     ]
    },
    {
     "name": "stdout",
     "output_type": "stream",
     "text": [
      "Epoch 0, Loss 0.2501\n",
      "Training Accuracy: 0.5608, Testing Accuracy: 0.5358\n",
      "\n"
     ]
    },
    {
     "name": "stdout",
     "output_type": "stream",
     "text": [
      "Epoch 10, Loss 0.1594\n",
      "Training Accuracy: 0.8785, Testing Accuracy: 0.8821\n",
      "\n"
     ]
    },
    {
     "name": "stdout",
     "output_type": "stream",
     "text": [
      "Epoch 20, Loss 0.0811\n",
      "Training Accuracy: 0.9166, Testing Accuracy: 0.9325\n",
      "\n"
     ]
    },
    {
     "name": "stdout",
     "output_type": "stream",
     "text": [
      "Epoch 30, Loss 0.0566\n",
      "Training Accuracy: 0.9372, Testing Accuracy: 0.9491\n",
      "\n"
     ]
    },
    {
     "name": "stdout",
     "output_type": "stream",
     "text": [
      "Epoch 40, Loss 0.046\n",
      "Training Accuracy: 0.9488, Testing Accuracy: 0.9567\n",
      "\n"
     ]
    },
    {
     "name": "stdout",
     "output_type": "stream",
     "text": [
      "Epoch 50, Loss 0.0401\n",
      "Training Accuracy: 0.9548, Testing Accuracy: 0.9607\n",
      "\n"
     ]
    },
    {
     "name": "stdout",
     "output_type": "stream",
     "text": [
      "Epoch 60, Loss 0.0363\n",
      "Training Accuracy: 0.9573, Testing Accuracy: 0.9632\n",
      "\n"
     ]
    },
    {
     "name": "stdout",
     "output_type": "stream",
     "text": [
      "Epoch 70, Loss 0.0336\n",
      "Training Accuracy: 0.9603, Testing Accuracy: 0.9637\n",
      "\n"
     ]
    },
    {
     "name": "stdout",
     "output_type": "stream",
     "text": [
      "Epoch 80, Loss 0.0316\n",
      "Training Accuracy: 0.9624, Testing Accuracy: 0.9672\n",
      "\n"
     ]
    },
    {
     "name": "stdout",
     "output_type": "stream",
     "text": [
      "Epoch 90, Loss 0.0299\n",
      "Training Accuracy: 0.9648, Testing Accuracy: 0.9688\n",
      "\n"
     ]
    },
    {
     "name": "stdout",
     "output_type": "stream",
     "text": [
      "Epoch 100, Loss 0.0286\n",
      "Training Accuracy: 0.9667, Testing Accuracy: 0.9693\n",
      "\n"
     ]
    },
    {
     "name": "stdout",
     "output_type": "stream",
     "text": [
      "Epoch 110, Loss 0.0275\n",
      "Training Accuracy: 0.9681, Testing Accuracy: 0.9708\n",
      "\n"
     ]
    },
    {
     "name": "stdout",
     "output_type": "stream",
     "text": [
      "Epoch 120, Loss 0.0265\n",
      "Training Accuracy: 0.9691, Testing Accuracy: 0.9723\n",
      "\n"
     ]
    },
    {
     "name": "stdout",
     "output_type": "stream",
     "text": [
      "Epoch 130, Loss 0.0257\n",
      "Training Accuracy: 0.9700, Testing Accuracy: 0.9718\n",
      "\n"
     ]
    },
    {
     "name": "stdout",
     "output_type": "stream",
     "text": [
      "Epoch 140, Loss 0.0249\n",
      "Training Accuracy: 0.9712, Testing Accuracy: 0.9723\n",
      "\n"
     ]
    },
    {
     "name": "stdout",
     "output_type": "stream",
     "text": [
      "Epoch 150, Loss 0.0243\n",
      "Training Accuracy: 0.9718, Testing Accuracy: 0.9723\n",
      "\n"
     ]
    },
    {
     "name": "stdout",
     "output_type": "stream",
     "text": [
      "Epoch 160, Loss 0.0236\n",
      "Training Accuracy: 0.9724, Testing Accuracy: 0.9733\n",
      "\n"
     ]
    },
    {
     "name": "stdout",
     "output_type": "stream",
     "text": [
      "Epoch 170, Loss 0.0231\n",
      "Training Accuracy: 0.9731, Testing Accuracy: 0.9728\n",
      "\n"
     ]
    },
    {
     "name": "stdout",
     "output_type": "stream",
     "text": [
      "Epoch 180, Loss 0.0226\n",
      "Training Accuracy: 0.9740, Testing Accuracy: 0.9723\n",
      "\n"
     ]
    },
    {
     "name": "stdout",
     "output_type": "stream",
     "text": [
      "Epoch 190, Loss 0.0221\n",
      "Training Accuracy: 0.9747, Testing Accuracy: 0.9728\n",
      "\n"
     ]
    },
    {
     "name": "stdout",
     "output_type": "stream",
     "text": [
      "Epoch 200, Loss 0.0216\n",
      "Training Accuracy: 0.9751, Testing Accuracy: 0.9728\n",
      "\n"
     ]
    },
    {
     "name": "stdout",
     "output_type": "stream",
     "text": [
      "Epoch 210, Loss 0.0212\n",
      "Training Accuracy: 0.9755, Testing Accuracy: 0.9728\n",
      "\n"
     ]
    },
    {
     "name": "stdout",
     "output_type": "stream",
     "text": [
      "Epoch 220, Loss 0.0208\n",
      "Training Accuracy: 0.9762, Testing Accuracy: 0.9728\n",
      "\n"
     ]
    },
    {
     "name": "stdout",
     "output_type": "stream",
     "text": [
      "Epoch 230, Loss 0.0204\n",
      "Training Accuracy: 0.9765, Testing Accuracy: 0.9728\n",
      "\n"
     ]
    },
    {
     "name": "stdout",
     "output_type": "stream",
     "text": [
      "Epoch 240, Loss 0.02\n",
      "Training Accuracy: 0.9780, Testing Accuracy: 0.9728\n",
      "\n"
     ]
    },
    {
     "name": "stdout",
     "output_type": "stream",
     "text": [
      "Epoch 250, Loss 0.0196\n",
      "Training Accuracy: 0.9788, Testing Accuracy: 0.9733\n",
      "\n"
     ]
    },
    {
     "data": {
      "text/plain": [
       "0.01275897978988392"
      ]
     },
     "execution_count": 20,
     "metadata": {},
     "output_type": "execute_result"
    }
   ],
   "source": [
    "print(\"====== Neural Network ======\")\n",
    "learner_nn.train_loop(dl)"
   ]
  },
  {
   "cell_type": "markdown",
   "metadata": {
    "papermill": {
     "duration": 0.038189,
     "end_time": "2020-11-18T20:06:18.529500",
     "exception": false,
     "start_time": "2020-11-18T20:06:18.491311",
     "status": "completed"
    },
    "tags": []
   },
   "source": [
    "### Logistic Regression based Implementation."
   ]
  },
  {
   "cell_type": "code",
   "execution_count": 21,
   "metadata": {
    "execution": {
     "iopub.execute_input": "2020-11-18T20:06:18.633704Z",
     "iopub.status.busy": "2020-11-18T20:06:18.633003Z",
     "iopub.status.idle": "2020-11-18T20:06:18.643782Z",
     "shell.execute_reply": "2020-11-18T20:06:18.644245Z"
    },
    "papermill": {
     "duration": 0.057454,
     "end_time": "2020-11-18T20:06:18.644398",
     "exception": false,
     "start_time": "2020-11-18T20:06:18.586944",
     "status": "completed"
    },
    "tags": []
   },
   "outputs": [],
   "source": [
    "learner_lr = Learner(loss, model_lr, opt, config.num_epochs)\n",
    "acc_lr = ClfCallback(learner_lr, config.bs, training_xdata , testing_xdata, training_ydata, testing_ydata)\n",
    "learner_lr.set_callbacks([acc_lr])"
   ]
  },
  {
   "cell_type": "code",
   "execution_count": 22,
   "metadata": {
    "execution": {
     "iopub.execute_input": "2020-11-18T20:06:18.727549Z",
     "iopub.status.busy": "2020-11-18T20:06:18.725863Z",
     "iopub.status.idle": "2020-11-18T20:06:38.738806Z",
     "shell.execute_reply": "2020-11-18T20:06:38.739772Z"
    },
    "papermill": {
     "duration": 20.05757,
     "end_time": "2020-11-18T20:06:38.739956",
     "exception": false,
     "start_time": "2020-11-18T20:06:18.682386",
     "status": "completed"
    },
    "tags": []
   },
   "outputs": [
    {
     "name": "stdout",
     "output_type": "stream",
     "text": [
      "====== Logistic Regression ======\n",
      "Epoch 0, Loss 0.22\n",
      "Training Accuracy: 0.7697, Testing Accuracy: 0.7843\n",
      "\n"
     ]
    },
    {
     "name": "stdout",
     "output_type": "stream",
     "text": [
      "Epoch 10, Loss 0.0984\n",
      "Training Accuracy: 0.9184, Testing Accuracy: 0.9309\n",
      "\n"
     ]
    },
    {
     "name": "stdout",
     "output_type": "stream",
     "text": [
      "Epoch 20, Loss 0.0767\n",
      "Training Accuracy: 0.9311, Testing Accuracy: 0.9400\n",
      "\n"
     ]
    },
    {
     "name": "stdout",
     "output_type": "stream",
     "text": [
      "Epoch 30, Loss 0.0666\n",
      "Training Accuracy: 0.9372, Testing Accuracy: 0.9456\n",
      "\n"
     ]
    },
    {
     "name": "stdout",
     "output_type": "stream",
     "text": [
      "Epoch 40, Loss 0.0605\n",
      "Training Accuracy: 0.9417, Testing Accuracy: 0.9511\n",
      "\n"
     ]
    },
    {
     "name": "stdout",
     "output_type": "stream",
     "text": [
      "Epoch 50, Loss 0.0563\n",
      "Training Accuracy: 0.9448, Testing Accuracy: 0.9536\n",
      "\n"
     ]
    },
    {
     "name": "stdout",
     "output_type": "stream",
     "text": [
      "Epoch 60, Loss 0.0532\n",
      "Training Accuracy: 0.9463, Testing Accuracy: 0.9561\n",
      "\n"
     ]
    },
    {
     "name": "stdout",
     "output_type": "stream",
     "text": [
      "Epoch 70, Loss 0.0508\n",
      "Training Accuracy: 0.9479, Testing Accuracy: 0.9577\n",
      "\n"
     ]
    },
    {
     "name": "stdout",
     "output_type": "stream",
     "text": [
      "Epoch 80, Loss 0.0488\n",
      "Training Accuracy: 0.9497, Testing Accuracy: 0.9587\n",
      "\n"
     ]
    },
    {
     "name": "stdout",
     "output_type": "stream",
     "text": [
      "Epoch 90, Loss 0.0472\n",
      "Training Accuracy: 0.9514, Testing Accuracy: 0.9592\n",
      "\n"
     ]
    },
    {
     "name": "stdout",
     "output_type": "stream",
     "text": [
      "Epoch 100, Loss 0.0458\n",
      "Training Accuracy: 0.9527, Testing Accuracy: 0.9602\n",
      "\n"
     ]
    },
    {
     "name": "stdout",
     "output_type": "stream",
     "text": [
      "Epoch 110, Loss 0.0447\n",
      "Training Accuracy: 0.9533, Testing Accuracy: 0.9602\n",
      "\n"
     ]
    },
    {
     "name": "stdout",
     "output_type": "stream",
     "text": [
      "Epoch 120, Loss 0.0436\n",
      "Training Accuracy: 0.9546, Testing Accuracy: 0.9617\n",
      "\n"
     ]
    },
    {
     "name": "stdout",
     "output_type": "stream",
     "text": [
      "Epoch 130, Loss 0.0427\n",
      "Training Accuracy: 0.9550, Testing Accuracy: 0.9627\n",
      "\n"
     ]
    },
    {
     "name": "stdout",
     "output_type": "stream",
     "text": [
      "Epoch 140, Loss 0.0419\n",
      "Training Accuracy: 0.9559, Testing Accuracy: 0.9627\n",
      "\n"
     ]
    },
    {
     "name": "stdout",
     "output_type": "stream",
     "text": [
      "Epoch 150, Loss 0.0412\n",
      "Training Accuracy: 0.9565, Testing Accuracy: 0.9622\n",
      "\n"
     ]
    },
    {
     "name": "stdout",
     "output_type": "stream",
     "text": [
      "Epoch 160, Loss 0.0405\n",
      "Training Accuracy: 0.9571, Testing Accuracy: 0.9632\n",
      "\n"
     ]
    },
    {
     "name": "stdout",
     "output_type": "stream",
     "text": [
      "Epoch 170, Loss 0.0399\n",
      "Training Accuracy: 0.9577, Testing Accuracy: 0.9632\n",
      "\n"
     ]
    },
    {
     "name": "stdout",
     "output_type": "stream",
     "text": [
      "Epoch 180, Loss 0.0394\n",
      "Training Accuracy: 0.9580, Testing Accuracy: 0.9637\n",
      "\n"
     ]
    },
    {
     "name": "stdout",
     "output_type": "stream",
     "text": [
      "Epoch 190, Loss 0.0389\n",
      "Training Accuracy: 0.9584, Testing Accuracy: 0.9642\n",
      "\n"
     ]
    },
    {
     "name": "stdout",
     "output_type": "stream",
     "text": [
      "Epoch 200, Loss 0.0384\n",
      "Training Accuracy: 0.9590, Testing Accuracy: 0.9642\n",
      "\n"
     ]
    },
    {
     "name": "stdout",
     "output_type": "stream",
     "text": [
      "Epoch 210, Loss 0.038\n",
      "Training Accuracy: 0.9593, Testing Accuracy: 0.9647\n",
      "\n"
     ]
    },
    {
     "name": "stdout",
     "output_type": "stream",
     "text": [
      "Epoch 220, Loss 0.0376\n",
      "Training Accuracy: 0.9599, Testing Accuracy: 0.9647\n",
      "\n"
     ]
    },
    {
     "name": "stdout",
     "output_type": "stream",
     "text": [
      "Epoch 230, Loss 0.0372\n",
      "Training Accuracy: 0.9603, Testing Accuracy: 0.9652\n",
      "\n"
     ]
    },
    {
     "name": "stdout",
     "output_type": "stream",
     "text": [
      "Epoch 240, Loss 0.0368\n",
      "Training Accuracy: 0.9604, Testing Accuracy: 0.9652\n",
      "\n"
     ]
    },
    {
     "name": "stdout",
     "output_type": "stream",
     "text": [
      "Epoch 250, Loss 0.0365\n",
      "Training Accuracy: 0.9608, Testing Accuracy: 0.9652\n",
      "\n"
     ]
    },
    {
     "data": {
      "text/plain": [
       "0.04812220911474524"
      ]
     },
     "execution_count": 22,
     "metadata": {},
     "output_type": "execute_result"
    }
   ],
   "source": [
    "print(\"====== Logistic Regression ======\")\n",
    "learner_lr.train_loop(dl)"
   ]
  },
  {
   "cell_type": "markdown",
   "metadata": {
    "papermill": {
     "duration": 0.050879,
     "end_time": "2020-11-18T20:06:38.847615",
     "exception": false,
     "start_time": "2020-11-18T20:06:38.796736",
     "status": "completed"
    },
    "tags": []
   },
   "source": [
    "### Comparing results of NN and LR"
   ]
  },
  {
   "cell_type": "code",
   "execution_count": 23,
   "metadata": {
    "execution": {
     "iopub.execute_input": "2020-11-18T20:06:38.966351Z",
     "iopub.status.busy": "2020-11-18T20:06:38.965693Z",
     "iopub.status.idle": "2020-11-18T20:06:39.249872Z",
     "shell.execute_reply": "2020-11-18T20:06:39.250419Z"
    },
    "papermill": {
     "duration": 0.345886,
     "end_time": "2020-11-18T20:06:39.250605",
     "exception": false,
     "start_time": "2020-11-18T20:06:38.904719",
     "status": "completed"
    },
    "tags": []
   },
   "outputs": [
    {
     "data": {
      "text/plain": [
       "<matplotlib.legend.Legend at 0x7fe2f4ce29b0>"
      ]
     },
     "execution_count": 23,
     "metadata": {},
     "output_type": "execute_result"
    },
    {
     "data": {
      "image/png": "[encoded data removed]",
      "text/plain": [
       "<Figure size 1080x720 with 1 Axes>"
      ]
     },
     "metadata": {
      "needs_background": "light"
     },
     "output_type": "display_data"
    }
   ],
   "source": [
    "plt.figure(figsize=(15,10))\n",
    "\n",
    "# Neural Network plots\n",
    "plt.plot(acc_nn.accuracies, 'r-', label = \"Training Accuracies - NN\")\n",
    "plt.plot(acc_nn.test_accuracies, 'g-', label = \"Testing Accuracies - NN\")\n",
    "\n",
    "# Logistic Regression plots\n",
    "plt.plot(acc_lr.accuracies, 'k-', label = \"Training Accuracies - LR\")\n",
    "plt.plot(acc_lr.test_accuracies, 'b-', label = \"Testing Accuracies - LR\")\n",
    "\n",
    "plt.ylim(0.8, 1)\n",
    "\n",
    "plt.legend()\n",
    "\n"
   ]
  },
  {
   "cell_type": "markdown",
   "metadata": {
    "papermill": {
     "duration": 0.05215,
     "end_time": "2020-11-18T20:06:39.352526",
     "exception": false,
     "start_time": "2020-11-18T20:06:39.300376",
     "status": "completed"
    },
    "tags": []
   },
   "source": [
    "### From the plot, we can observe the following:\n",
    "- Neural Network achieves higher accuracy than the Logistic Regression model.\n",
    "- This apparently, is because of overfitting, i.e. NN captures more noise than data.\n",
    "- Testing accuracy of NN drops below the Training accuracy at higher epochs. This explains the over-fitting on training data.\n",
    "- Logistic Regression gives a reliable accuracy, without the above mentioned problem.\n"
   ]
  },
  {
   "cell_type": "markdown",
   "metadata": {
    "papermill": {
     "duration": 0.05198,
     "end_time": "2020-11-18T20:06:39.458508",
     "exception": false,
     "start_time": "2020-11-18T20:06:39.406528",
     "status": "completed"
    },
    "tags": []
   },
   "source": [
    "### Moving till the last but one layer (excluding it).\n",
    "#### Plotting the outputs of this layer of the NN."
   ]
  },
  {
   "cell_type": "code",
   "execution_count": 24,
   "metadata": {
    "execution": {
     "iopub.execute_input": "2020-11-18T20:06:39.570825Z",
     "iopub.status.busy": "2020-11-18T20:06:39.570141Z",
     "iopub.status.idle": "2020-11-18T20:06:39.581813Z",
     "shell.execute_reply": "2020-11-18T20:06:39.581021Z"
    },
    "papermill": {
     "duration": 0.072794,
     "end_time": "2020-11-18T20:06:39.581946",
     "exception": false,
     "start_time": "2020-11-18T20:06:39.509152",
     "status": "completed"
    },
    "tags": []
   },
   "outputs": [],
   "source": [
    "model_new = Model(layers[:-2])"
   ]
  },
  {
   "cell_type": "code",
   "execution_count": 25,
   "metadata": {
    "execution": {
     "iopub.execute_input": "2020-11-18T20:06:39.694221Z",
     "iopub.status.busy": "2020-11-18T20:06:39.693431Z",
     "iopub.status.idle": "2020-11-18T20:06:39.719439Z",
     "shell.execute_reply": "2020-11-18T20:06:39.720344Z"
    },
    "papermill": {
     "duration": 0.08528,
     "end_time": "2020-11-18T20:06:39.720511",
     "exception": false,
     "start_time": "2020-11-18T20:06:39.635231",
     "status": "completed"
    },
    "tags": []
   },
   "outputs": [],
   "source": [
    "plot_testing = model_new(testing_xdata)"
   ]
  },
  {
   "cell_type": "code",
   "execution_count": 26,
   "metadata": {
    "execution": {
     "iopub.execute_input": "2020-11-18T20:06:39.838892Z",
     "iopub.status.busy": "2020-11-18T20:06:39.838064Z",
     "iopub.status.idle": "2020-11-18T20:06:40.104780Z",
     "shell.execute_reply": "2020-11-18T20:06:40.105336Z"
    },
    "papermill": {
     "duration": 0.32887,
     "end_time": "2020-11-18T20:06:40.105555",
     "exception": false,
     "start_time": "2020-11-18T20:06:39.776685",
     "status": "completed"
    },
    "tags": []
   },
   "outputs": [
    {
     "data": {
      "text/plain": [
       "Text(0.5, 1.0, 'Outputs')"
      ]
     },
     "execution_count": 26,
     "metadata": {},
     "output_type": "execute_result"
    },
    {
     "data": {
      "image/png": "[encoded data removed]",
      "text/plain": [
       "<Figure size 576x504 with 1 Axes>"
      ]
     },
     "metadata": {
      "needs_background": "light"
     },
     "output_type": "display_data"
    }
   ],
   "source": [
    "plt.figure(figsize=(8,7))\n",
    "plt.scatter(plot_testing[:,0], plot_testing[:,1], alpha = 0.1, c = y_test.ravel());\n",
    "plt.title('Outputs')"
   ]
  },
  {
   "cell_type": "markdown",
   "metadata": {
    "papermill": {
     "duration": 0.053042,
     "end_time": "2020-11-18T20:06:40.212500",
     "exception": false,
     "start_time": "2020-11-18T20:06:40.159458",
     "status": "completed"
    },
    "tags": []
   },
   "source": [
    "### Plotting probability contours"
   ]
  },
  {
   "cell_type": "code",
   "execution_count": 27,
   "metadata": {
    "execution": {
     "iopub.execute_input": "2020-11-18T20:06:40.320508Z",
     "iopub.status.busy": "2020-11-18T20:06:40.319928Z",
     "iopub.status.idle": "2020-11-18T20:06:40.331272Z",
     "shell.execute_reply": "2020-11-18T20:06:40.331706Z"
    },
    "papermill": {
     "duration": 0.069392,
     "end_time": "2020-11-18T20:06:40.331840",
     "exception": false,
     "start_time": "2020-11-18T20:06:40.262448",
     "status": "completed"
    },
    "tags": []
   },
   "outputs": [],
   "source": [
    "model_prob = Model(layers[-2:]) "
   ]
  },
  {
   "cell_type": "code",
   "execution_count": 28,
   "metadata": {
    "execution": {
     "iopub.execute_input": "2020-11-18T20:06:40.441154Z",
     "iopub.status.busy": "2020-11-18T20:06:40.440465Z",
     "iopub.status.idle": "2020-11-18T20:06:40.457090Z",
     "shell.execute_reply": "2020-11-18T20:06:40.457557Z"
    },
    "papermill": {
     "duration": 0.076956,
     "end_time": "2020-11-18T20:06:40.457711",
     "exception": false,
     "start_time": "2020-11-18T20:06:40.380755",
     "status": "completed"
    },
    "tags": []
   },
   "outputs": [],
   "source": [
    "# Adjust the x and y ranges according to the above generated plot.\n",
    "x_range = np.linspace(-4, 1, 100) \n",
    "y_range = np.linspace(-6, 6, 100) \n",
    "x_grid, y_grid = np.meshgrid(x_range, y_range) # x_grid and y_grig are of size 100 X 100\n",
    "\n",
    "# converting x_grid and y_grid to continuous arrays\n",
    "x_grid_flat = np.ravel(x_grid)\n",
    "y_grid_flat = np.ravel(y_grid)\n",
    "\n",
    "# The last layer of the current model takes two columns as input. Hence transpose of np.vstack() is required.\n",
    "X = np.vstack((x_grid_flat, y_grid_flat)).T\n",
    "\n",
    "# x_grid and y_grid are of size 100 x 100\n",
    "probability_contour = model_prob(X).reshape(100,100) "
   ]
  },
  {
   "cell_type": "code",
   "execution_count": 29,
   "metadata": {
    "execution": {
     "iopub.execute_input": "2020-11-18T20:06:40.564398Z",
     "iopub.status.busy": "2020-11-18T20:06:40.562634Z",
     "iopub.status.idle": "2020-11-18T20:06:40.854756Z",
     "shell.execute_reply": "2020-11-18T20:06:40.854304Z"
    },
    "papermill": {
     "duration": 0.348733,
     "end_time": "2020-11-18T20:06:40.854885",
     "exception": false,
     "start_time": "2020-11-18T20:06:40.506152",
     "status": "completed"
    },
    "tags": []
   },
   "outputs": [
    {
     "data": {
      "image/png": "[encoded data removed]",
      "text/plain": [
       "<Figure size 720x648 with 1 Axes>"
      ]
     },
     "metadata": {
      "needs_background": "light"
     },
     "output_type": "display_data"
    }
   ],
   "source": [
    "plt.figure(figsize=(10,9))\n",
    "plt.scatter(plot_testing[:,0], plot_testing[:,1], alpha = 0.1, c = y_test.ravel())\n",
    "contours = plt.contour(x_grid,y_grid,probability_contour)\n",
    "plt.title('Probability Contours')\n",
    "plt.clabel(contours, inline = True );"
   ]
  }
 ],
 "metadata": {
  "kernelspec": {
   "display_name": "Python 3",
   "language": "python",
   "name": "python3"
  },
  "language_info": {
   "codemirror_mode": {
    "name": "ipython",
    "version": 3
   },
   "file_extension": ".py",
   "mimetype": "text/x-python",
   "name": "python",
   "nbconvert_exporter": "python",
   "pygments_lexer": "ipython3",
   "version": "3.6.12"
  },
  "papermill": {
   "duration": 167.400909,
   "end_time": "2020-11-18T20:06:42.160624",
   "environment_variables": {},
   "exception": null,
   "input_path": "2020-08-11-NeuralNetwork.ipynb",
   "output_path": "2020-08-11-NeuralNetwork.ipynb",
   "parameters": {},
   "start_time": "2020-11-18T20:03:54.759715",
   "version": "2.1.2"
  }
 },
 "nbformat": 4,
 "nbformat_minor": 4
}