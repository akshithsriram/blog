{
 "cells": [
  {
   "cell_type": "markdown",
   "metadata": {
    "papermill": {
     "duration": 0.039096,
     "end_time": "2020-09-26T20:04:36.703328",
     "exception": false,
     "start_time": "2020-09-26T20:04:36.664232",
     "status": "completed"
    },
    "tags": []
   },
   "source": [
    "# \"A Basic Neural Network: Differentiate Hand-Written Digits\"\n",
    "\n",
    "- badges: true\n",
    "- author: Akshith Sriram"
   ]
  },
  {
   "cell_type": "markdown",
   "metadata": {
    "papermill": {
     "duration": 0.030524,
     "end_time": "2020-09-26T20:04:36.768345",
     "exception": false,
     "start_time": "2020-09-26T20:04:36.737821",
     "status": "completed"
    },
    "tags": []
   },
   "source": [
    "### Key Objectives:\n",
    "- Building a neural network that differentiates two hand-written digits 3 and 8.\n",
    "- Comparing the results of this Neural Network (NN) to that of a Logistic Regression (LR) model.\n",
    "\n",
    "### Requirements:\n",
    "- 'Kudzu' : A neural network library that was designed during our course by [Univ.AI](www.univ.ai). \n",
    "- MNIST Database\n",
    "\n",
    "If MNIST is not installed, use the command `!pip install mnist` given below.\n",
    "It can be run both from the command line and Jupyter Notebook."
   ]
  },
  {
   "cell_type": "code",
   "execution_count": 1,
   "metadata": {
    "execution": {
     "iopub.execute_input": "2020-09-26T20:04:36.835503Z",
     "iopub.status.busy": "2020-09-26T20:04:36.834710Z",
     "iopub.status.idle": "2020-09-26T20:04:39.063107Z",
     "shell.execute_reply": "2020-09-26T20:04:39.063927Z"
    },
    "papermill": {
     "duration": 2.265324,
     "end_time": "2020-09-26T20:04:39.064116",
     "exception": false,
     "start_time": "2020-09-26T20:04:36.798792",
     "status": "completed"
    },
    "tags": []
   },
   "outputs": [
    {
     "name": "stdout",
     "output_type": "stream",
     "text": [
      "Collecting mnist\r\n"
     ]
    },
    {
     "name": "stdout",
     "output_type": "stream",
     "text": [
      "  Downloading mnist-0.2.2-py2.py3-none-any.whl (3.5 kB)\r\n"
     ]
    },
    {
     "name": "stdout",
     "output_type": "stream",
     "text": [
      "Requirement already satisfied: numpy in /opt/hostedtoolcache/Python/3.6.12/x64/lib/python3.6/site-packages (from mnist) (1.19.2)\r\n"
     ]
    },
    {
     "name": "stdout",
     "output_type": "stream",
     "text": [
      "Installing collected packages: mnist\r\n"
     ]
    },
    {
     "name": "stdout",
     "output_type": "stream",
     "text": [
      "Successfully installed mnist-0.2.2\r\n"
     ]
    }
   ],
   "source": [
    "!pip install mnist "
   ]
  },
  {
   "cell_type": "markdown",
   "metadata": {
    "papermill": {
     "duration": 0.027193,
     "end_time": "2020-09-26T20:04:39.117199",
     "exception": false,
     "start_time": "2020-09-26T20:04:39.090006",
     "status": "completed"
    },
    "tags": []
   },
   "source": [
    "#### Importing necessary libraries"
   ]
  },
  {
   "cell_type": "code",
   "execution_count": 2,
   "metadata": {
    "execution": {
     "iopub.execute_input": "2020-09-26T20:04:39.193877Z",
     "iopub.status.busy": "2020-09-26T20:04:39.183727Z",
     "iopub.status.idle": "2020-09-26T20:04:39.804639Z",
     "shell.execute_reply": "2020-09-26T20:04:39.803606Z"
    },
    "papermill": {
     "duration": 0.657643,
     "end_time": "2020-09-26T20:04:39.804809",
     "exception": false,
     "start_time": "2020-09-26T20:04:39.147166",
     "status": "completed"
    },
    "tags": []
   },
   "outputs": [],
   "source": [
    "%load_ext autoreload\n",
    "%autoreload 2\n",
    "\n",
    "%matplotlib inline\n",
    "import matplotlib.pyplot as plt\n",
    "\n",
    "import numpy as np\n",
    "import pandas as pd"
   ]
  },
  {
   "cell_type": "markdown",
   "metadata": {
    "papermill": {
     "duration": 0.033212,
     "end_time": "2020-09-26T20:04:39.871877",
     "exception": false,
     "start_time": "2020-09-26T20:04:39.838665",
     "status": "completed"
    },
    "tags": []
   },
   "source": [
    "### Preparing the Data"
   ]
  },
  {
   "cell_type": "code",
   "execution_count": 3,
   "metadata": {
    "execution": {
     "iopub.execute_input": "2020-09-26T20:04:39.936559Z",
     "iopub.status.busy": "2020-09-26T20:04:39.935963Z",
     "iopub.status.idle": "2020-09-26T20:04:39.949682Z",
     "shell.execute_reply": "2020-09-26T20:04:39.948961Z"
    },
    "papermill": {
     "duration": 0.044802,
     "end_time": "2020-09-26T20:04:39.949828",
     "exception": false,
     "start_time": "2020-09-26T20:04:39.905026",
     "status": "completed"
    },
    "tags": []
   },
   "outputs": [],
   "source": [
    "import mnist"
   ]
  },
  {
   "cell_type": "code",
   "execution_count": 4,
   "metadata": {
    "execution": {
     "iopub.execute_input": "2020-09-26T20:04:40.019333Z",
     "iopub.status.busy": "2020-09-26T20:04:40.017725Z",
     "iopub.status.idle": "2020-09-26T20:04:41.283814Z",
     "shell.execute_reply": "2020-09-26T20:04:41.282511Z"
    },
    "papermill": {
     "duration": 1.298479,
     "end_time": "2020-09-26T20:04:41.284025",
     "exception": false,
     "start_time": "2020-09-26T20:04:39.985546",
     "status": "completed"
    },
    "tags": []
   },
   "outputs": [],
   "source": [
    "train_images = mnist.train_images()\n",
    "train_labels = mnist.train_labels()"
   ]
  },
  {
   "cell_type": "code",
   "execution_count": 5,
   "metadata": {
    "execution": {
     "iopub.execute_input": "2020-09-26T20:04:41.359469Z",
     "iopub.status.busy": "2020-09-26T20:04:41.358650Z",
     "iopub.status.idle": "2020-09-26T20:04:41.376022Z",
     "shell.execute_reply": "2020-09-26T20:04:41.375358Z"
    },
    "papermill": {
     "duration": 0.055293,
     "end_time": "2020-09-26T20:04:41.376366",
     "exception": false,
     "start_time": "2020-09-26T20:04:41.321073",
     "status": "completed"
    },
    "tags": []
   },
   "outputs": [
    {
     "data": {
      "text/plain": [
       "((60000, 28, 28), (60000,))"
      ]
     },
     "execution_count": 5,
     "metadata": {},
     "output_type": "execute_result"
    }
   ],
   "source": [
    "train_images.shape, train_labels.shape"
   ]
  },
  {
   "cell_type": "code",
   "execution_count": 6,
   "metadata": {
    "execution": {
     "iopub.execute_input": "2020-09-26T20:04:41.464443Z",
     "iopub.status.busy": "2020-09-26T20:04:41.462580Z",
     "iopub.status.idle": "2020-09-26T20:04:42.093959Z",
     "shell.execute_reply": "2020-09-26T20:04:42.094671Z"
    },
    "papermill": {
     "duration": 0.68207,
     "end_time": "2020-09-26T20:04:42.094956",
     "exception": false,
     "start_time": "2020-09-26T20:04:41.412886",
     "status": "completed"
    },
    "tags": []
   },
   "outputs": [],
   "source": [
    "test_images = mnist.test_images()\n",
    "test_labels = mnist.test_labels()"
   ]
  },
  {
   "cell_type": "code",
   "execution_count": 7,
   "metadata": {
    "execution": {
     "iopub.execute_input": "2020-09-26T20:04:42.184909Z",
     "iopub.status.busy": "2020-09-26T20:04:42.183852Z",
     "iopub.status.idle": "2020-09-26T20:04:42.194028Z",
     "shell.execute_reply": "2020-09-26T20:04:42.193380Z"
    },
    "papermill": {
     "duration": 0.061555,
     "end_time": "2020-09-26T20:04:42.194180",
     "exception": false,
     "start_time": "2020-09-26T20:04:42.132625",
     "status": "completed"
    },
    "tags": []
   },
   "outputs": [
    {
     "data": {
      "text/plain": [
       "((10000, 28, 28), (10000,))"
      ]
     },
     "execution_count": 7,
     "metadata": {},
     "output_type": "execute_result"
    }
   ],
   "source": [
    "test_images.shape, test_labels.shape"
   ]
  },
  {
   "cell_type": "code",
   "execution_count": 8,
   "metadata": {
    "execution": {
     "iopub.execute_input": "2020-09-26T20:04:42.261611Z",
     "iopub.status.busy": "2020-09-26T20:04:42.259766Z",
     "iopub.status.idle": "2020-09-26T20:04:42.443036Z",
     "shell.execute_reply": "2020-09-26T20:04:42.443629Z"
    },
    "papermill": {
     "duration": 0.218405,
     "end_time": "2020-09-26T20:04:42.443783",
     "exception": false,
     "start_time": "2020-09-26T20:04:42.225378",
     "status": "completed"
    },
    "tags": []
   },
   "outputs": [
    {
     "name": "stdout",
     "output_type": "stream",
     "text": [
      "2\n"
     ]
    },
    {
     "data": {
      "text/plain": [
       "<matplotlib.image.AxesImage at 0x7f3ad6a49748>"
      ]
     },
     "execution_count": 8,
     "metadata": {},
     "output_type": "execute_result"
    },
    {
     "data": {
      "image/png": "[encoded data removed]",
      "text/plain": [
       "<Figure size 432x288 with 1 Axes>"
      ]
     },
     "metadata": {
      "needs_background": "light"
     },
     "output_type": "display_data"
    }
   ],
   "source": [
    "image_index = 7776 # You may select anything up to 60,000\n",
    "print(train_labels[image_index]) \n",
    "plt.imshow(train_images[image_index], cmap='Greys')"
   ]
  },
  {
   "cell_type": "markdown",
   "metadata": {
    "papermill": {
     "duration": 0.028843,
     "end_time": "2020-09-26T20:04:42.501798",
     "exception": false,
     "start_time": "2020-09-26T20:04:42.472955",
     "status": "completed"
    },
    "tags": []
   },
   "source": [
    "## Filter data to get 3 and 8 out"
   ]
  },
  {
   "cell_type": "code",
   "execution_count": 9,
   "metadata": {
    "execution": {
     "iopub.execute_input": "2020-09-26T20:04:42.566677Z",
     "iopub.status.busy": "2020-09-26T20:04:42.566050Z",
     "iopub.status.idle": "2020-09-26T20:04:42.586841Z",
     "shell.execute_reply": "2020-09-26T20:04:42.587469Z"
    },
    "papermill": {
     "duration": 0.058199,
     "end_time": "2020-09-26T20:04:42.587624",
     "exception": false,
     "start_time": "2020-09-26T20:04:42.529425",
     "status": "completed"
    },
    "tags": []
   },
   "outputs": [],
   "source": [
    "train_filter = np.where((train_labels == 3 ) | (train_labels == 8))\n",
    "test_filter = np.where((test_labels == 3) | (test_labels == 8))\n",
    "X_train, y_train = train_images[train_filter], train_labels[train_filter]\n",
    "X_test, y_test = test_images[test_filter], test_labels[test_filter]"
   ]
  },
  {
   "cell_type": "markdown",
   "metadata": {
    "papermill": {
     "duration": 0.029285,
     "end_time": "2020-09-26T20:04:42.648163",
     "exception": false,
     "start_time": "2020-09-26T20:04:42.618878",
     "status": "completed"
    },
    "tags": []
   },
   "source": [
    "We normalize the pixel values in the 0 to 1 range"
   ]
  },
  {
   "cell_type": "code",
   "execution_count": 10,
   "metadata": {
    "execution": {
     "iopub.execute_input": "2020-09-26T20:04:42.722634Z",
     "iopub.status.busy": "2020-09-26T20:04:42.712656Z",
     "iopub.status.idle": "2020-09-26T20:04:42.786079Z",
     "shell.execute_reply": "2020-09-26T20:04:42.786688Z"
    },
    "papermill": {
     "duration": 0.111231,
     "end_time": "2020-09-26T20:04:42.786879",
     "exception": false,
     "start_time": "2020-09-26T20:04:42.675648",
     "status": "completed"
    },
    "tags": []
   },
   "outputs": [],
   "source": [
    "X_train = X_train/255.\n",
    "X_test = X_test/255."
   ]
  },
  {
   "cell_type": "markdown",
   "metadata": {
    "papermill": {
     "duration": 0.027304,
     "end_time": "2020-09-26T20:04:42.846906",
     "exception": false,
     "start_time": "2020-09-26T20:04:42.819602",
     "status": "completed"
    },
    "tags": []
   },
   "source": [
    "Setup the labels as 1 (when the digit is 3) and 0 (when the digit is 8)"
   ]
  },
  {
   "cell_type": "code",
   "execution_count": 11,
   "metadata": {
    "execution": {
     "iopub.execute_input": "2020-09-26T20:04:42.912738Z",
     "iopub.status.busy": "2020-09-26T20:04:42.906346Z",
     "iopub.status.idle": "2020-09-26T20:04:42.923122Z",
     "shell.execute_reply": "2020-09-26T20:04:42.923663Z"
    },
    "papermill": {
     "duration": 0.048429,
     "end_time": "2020-09-26T20:04:42.923794",
     "exception": false,
     "start_time": "2020-09-26T20:04:42.875365",
     "status": "completed"
    },
    "tags": []
   },
   "outputs": [],
   "source": [
    "y_train = 1*(y_train==3)\n",
    "y_test = 1*(y_test==3)"
   ]
  },
  {
   "cell_type": "code",
   "execution_count": 12,
   "metadata": {
    "execution": {
     "iopub.execute_input": "2020-09-26T20:04:42.994846Z",
     "iopub.status.busy": "2020-09-26T20:04:42.988933Z",
     "iopub.status.idle": "2020-09-26T20:04:43.003772Z",
     "shell.execute_reply": "2020-09-26T20:04:43.003274Z"
    },
    "papermill": {
     "duration": 0.052298,
     "end_time": "2020-09-26T20:04:43.003885",
     "exception": false,
     "start_time": "2020-09-26T20:04:42.951587",
     "status": "completed"
    },
    "tags": []
   },
   "outputs": [
    {
     "data": {
      "text/plain": [
       "((11982, 28, 28), (1984, 28, 28))"
      ]
     },
     "execution_count": 12,
     "metadata": {},
     "output_type": "execute_result"
    }
   ],
   "source": [
    "X_train.shape, X_test.shape"
   ]
  },
  {
   "cell_type": "markdown",
   "metadata": {
    "papermill": {
     "duration": 0.02799,
     "end_time": "2020-09-26T20:04:43.058790",
     "exception": false,
     "start_time": "2020-09-26T20:04:43.030800",
     "status": "completed"
    },
    "tags": []
   },
   "source": [
    "### Reshape the input data to create a linear array"
   ]
  },
  {
   "cell_type": "code",
   "execution_count": 13,
   "metadata": {
    "execution": {
     "iopub.execute_input": "2020-09-26T20:04:43.132988Z",
     "iopub.status.busy": "2020-09-26T20:04:43.132269Z",
     "iopub.status.idle": "2020-09-26T20:04:43.148185Z",
     "shell.execute_reply": "2020-09-26T20:04:43.149776Z"
    },
    "papermill": {
     "duration": 0.056895,
     "end_time": "2020-09-26T20:04:43.150361",
     "exception": false,
     "start_time": "2020-09-26T20:04:43.093466",
     "status": "completed"
    },
    "tags": []
   },
   "outputs": [
    {
     "data": {
      "text/plain": [
       "((11982, 784), (1984, 784))"
      ]
     },
     "execution_count": 13,
     "metadata": {},
     "output_type": "execute_result"
    }
   ],
   "source": [
    "X_train = X_train.reshape(X_train.shape[0], -1)\n",
    "X_test = X_test.reshape(X_test.shape[0], -1)\n",
    "X_train.shape, X_test.shape"
   ]
  },
  {
   "cell_type": "markdown",
   "metadata": {
    "papermill": {
     "duration": 0.035534,
     "end_time": "2020-09-26T20:04:43.221651",
     "exception": false,
     "start_time": "2020-09-26T20:04:43.186117",
     "status": "completed"
    },
    "tags": []
   },
   "source": [
    "### Importing appropriate functions from 'Kudzu'"
   ]
  },
  {
   "cell_type": "code",
   "execution_count": 14,
   "metadata": {
    "execution": {
     "iopub.execute_input": "2020-09-26T20:04:43.553233Z",
     "iopub.status.busy": "2020-09-26T20:04:43.550132Z",
     "iopub.status.idle": "2020-09-26T20:04:43.576646Z",
     "shell.execute_reply": "2020-09-26T20:04:43.577288Z"
    },
    "papermill": {
     "duration": 0.31609,
     "end_time": "2020-09-26T20:04:43.577488",
     "exception": false,
     "start_time": "2020-09-26T20:04:43.261398",
     "status": "completed"
    },
    "tags": []
   },
   "outputs": [],
   "source": [
    "from kudzu.layer import Sigmoid\n",
    "from kudzu.layer import Relu\n",
    "from kudzu.layer import Affine, Sigmoid\n",
    "\n",
    "from kudzu.model import Model\n",
    "from kudzu.train import Learner\n",
    "from kudzu.optim import GD\n",
    "from kudzu.data import Data, Dataloader, Sampler\n",
    "\n",
    "from kudzu.callbacks import AccCallback\n",
    "from kudzu.callbacks import ClfCallback\n",
    "\n",
    "from kudzu.loss import MSE"
   ]
  },
  {
   "cell_type": "markdown",
   "metadata": {
    "papermill": {
     "duration": 0.038227,
     "end_time": "2020-09-26T20:04:43.653351",
     "exception": false,
     "start_time": "2020-09-26T20:04:43.615124",
     "status": "completed"
    },
    "tags": []
   },
   "source": [
    "### Let us create a `Config` class, to store important parameters. \n",
    "This class essentially plays the role of a dictionary."
   ]
  },
  {
   "cell_type": "code",
   "execution_count": 15,
   "metadata": {
    "execution": {
     "iopub.execute_input": "2020-09-26T20:04:43.731696Z",
     "iopub.status.busy": "2020-09-26T20:04:43.730893Z",
     "iopub.status.idle": "2020-09-26T20:04:43.745850Z",
     "shell.execute_reply": "2020-09-26T20:04:43.745102Z"
    },
    "papermill": {
     "duration": 0.054592,
     "end_time": "2020-09-26T20:04:43.746005",
     "exception": false,
     "start_time": "2020-09-26T20:04:43.691413",
     "status": "completed"
    },
    "tags": []
   },
   "outputs": [],
   "source": [
    "class Config:\n",
    "    pass\n",
    "config = Config()\n",
    "config.lr = 0.001\n",
    "config.num_epochs = 251\n",
    "config.bs = 50"
   ]
  },
  {
   "cell_type": "markdown",
   "metadata": {
    "papermill": {
     "duration": 0.035777,
     "end_time": "2020-09-26T20:04:43.816806",
     "exception": false,
     "start_time": "2020-09-26T20:04:43.781029",
     "status": "completed"
    },
    "tags": []
   },
   "source": [
    "### Initializing data to the variables"
   ]
  },
  {
   "cell_type": "code",
   "execution_count": 16,
   "metadata": {
    "execution": {
     "iopub.execute_input": "2020-09-26T20:04:43.886022Z",
     "iopub.status.busy": "2020-09-26T20:04:43.885291Z",
     "iopub.status.idle": "2020-09-26T20:04:43.900545Z",
     "shell.execute_reply": "2020-09-26T20:04:43.906570Z"
    },
    "papermill": {
     "duration": 0.052952,
     "end_time": "2020-09-26T20:04:43.906732",
     "exception": false,
     "start_time": "2020-09-26T20:04:43.853780",
     "status": "completed"
    },
    "tags": []
   },
   "outputs": [],
   "source": [
    "data = Data(X_train, y_train.reshape(-1,1))\n",
    "sampler = Sampler(data, config.bs, shuffle=True)\n",
    "\n",
    "dl = Dataloader(data, sampler)\n",
    "\n",
    "opt = GD(config.lr)\n",
    "loss = MSE()"
   ]
  },
  {
   "cell_type": "code",
   "execution_count": 17,
   "metadata": {
    "execution": {
     "iopub.execute_input": "2020-09-26T20:04:43.971917Z",
     "iopub.status.busy": "2020-09-26T20:04:43.971334Z",
     "iopub.status.idle": "2020-09-26T20:04:43.981808Z",
     "shell.execute_reply": "2020-09-26T20:04:43.982255Z"
    },
    "papermill": {
     "duration": 0.04263,
     "end_time": "2020-09-26T20:04:43.982389",
     "exception": false,
     "start_time": "2020-09-26T20:04:43.939759",
     "status": "completed"
    },
    "tags": []
   },
   "outputs": [],
   "source": [
    "training_xdata = X_train\n",
    "testing_xdata = X_test\n",
    "training_ydata = y_train.reshape(-1,1)\n",
    "testing_ydata = y_test.reshape(-1,1)"
   ]
  },
  {
   "cell_type": "markdown",
   "metadata": {
    "papermill": {
     "duration": 0.027161,
     "end_time": "2020-09-26T20:04:44.039136",
     "exception": false,
     "start_time": "2020-09-26T20:04:44.011975",
     "status": "completed"
    },
    "tags": []
   },
   "source": [
    "### Running Models with the Training data\n",
    "Details about the network layers:\n",
    "- A first affine layer has 784 inputs and does 100 affine transforms. These are followed by a Relu\n",
    "- A second affine layer has 100 inputs from the 100 activations of the past layer, and does 100 affine transforms. These are followed by a Relu\n",
    "- A third affine layer has 100 activations and does 2 affine transformations to create an embedding for visualization. There is no non-linearity here.\n",
    "- A final \"logistic regression\" which has an affine transform from 2 inputs to 1 output, which is squeezed through a sigmoid.\n",
    "\n",
    "Help taken from Anshuman's Notebook."
   ]
  },
  {
   "cell_type": "code",
   "execution_count": 18,
   "metadata": {
    "execution": {
     "iopub.execute_input": "2020-09-26T20:04:44.101144Z",
     "iopub.status.busy": "2020-09-26T20:04:44.100562Z",
     "iopub.status.idle": "2020-09-26T20:04:44.117453Z",
     "shell.execute_reply": "2020-09-26T20:04:44.116987Z"
    },
    "papermill": {
     "duration": 0.047562,
     "end_time": "2020-09-26T20:04:44.117571",
     "exception": false,
     "start_time": "2020-09-26T20:04:44.070009",
     "status": "completed"
    },
    "tags": []
   },
   "outputs": [],
   "source": [
    "# layers for the Neural Network\n",
    "layers = [Affine(\"first\", 784, 100), Relu(\"first\"), Affine(\"second\", 100, 100), Relu(\"second\"), Affine(\"third\", 100, 2), Affine(\"final\", 2, 1), Sigmoid(\"final\")]\n",
    "model_nn = Model(layers)\n",
    "\n",
    "# layers for the Logistic Regression\n",
    "layers_lr = [Affine(\"logits\", 784, 1), Sigmoid(\"sigmoid\")]\n",
    "model_lr = Model(layers_lr)"
   ]
  },
  {
   "cell_type": "code",
   "execution_count": 19,
   "metadata": {
    "execution": {
     "iopub.execute_input": "2020-09-26T20:04:44.176380Z",
     "iopub.status.busy": "2020-09-26T20:04:44.175804Z",
     "iopub.status.idle": "2020-09-26T20:04:44.186172Z",
     "shell.execute_reply": "2020-09-26T20:04:44.186717Z"
    },
    "papermill": {
     "duration": 0.041643,
     "end_time": "2020-09-26T20:04:44.186842",
     "exception": false,
     "start_time": "2020-09-26T20:04:44.145199",
     "status": "completed"
    },
    "tags": []
   },
   "outputs": [],
   "source": [
    "# suffix _nn stands for Neural Network.\n",
    "learner_nn = Learner(loss, model_nn, opt, config.num_epochs)\n",
    "acc_nn = ClfCallback(learner_nn, config.bs, training_xdata , testing_xdata, training_ydata, testing_ydata)\n",
    "learner_nn.set_callbacks([acc_nn])"
   ]
  },
  {
   "cell_type": "code",
   "execution_count": 20,
   "metadata": {
    "execution": {
     "iopub.execute_input": "2020-09-26T20:04:44.245182Z",
     "iopub.status.busy": "2020-09-26T20:04:44.244610Z",
     "iopub.status.idle": "2020-09-26T20:06:47.382907Z",
     "shell.execute_reply": "2020-09-26T20:06:47.382050Z"
    },
    "papermill": {
     "duration": 123.168811,
     "end_time": "2020-09-26T20:06:47.383064",
     "exception": false,
     "start_time": "2020-09-26T20:04:44.214253",
     "status": "completed"
    },
    "tags": []
   },
   "outputs": [
    {
     "name": "stdout",
     "output_type": "stream",
     "text": [
      "====== Neural Network ======\n"
     ]
    },
    {
     "name": "stdout",
     "output_type": "stream",
     "text": [
      "Epoch 0, Loss 0.2542\n",
      "Training Accuracy: 0.5737, Testing Accuracy: 0.5872\n",
      "\n"
     ]
    },
    {
     "name": "stdout",
     "output_type": "stream",
     "text": [
      "Epoch 10, Loss 0.0964\n",
      "Training Accuracy: 0.9065, Testing Accuracy: 0.9259\n",
      "\n"
     ]
    },
    {
     "name": "stdout",
     "output_type": "stream",
     "text": [
      "Epoch 20, Loss 0.0567\n",
      "Training Accuracy: 0.9419, Testing Accuracy: 0.9541\n",
      "\n"
     ]
    },
    {
     "name": "stdout",
     "output_type": "stream",
     "text": [
      "Epoch 30, Loss 0.0434\n",
      "Training Accuracy: 0.9543, Testing Accuracy: 0.9627\n",
      "\n"
     ]
    },
    {
     "name": "stdout",
     "output_type": "stream",
     "text": [
      "Epoch 40, Loss 0.0373\n",
      "Training Accuracy: 0.9594, Testing Accuracy: 0.9662\n",
      "\n"
     ]
    },
    {
     "name": "stdout",
     "output_type": "stream",
     "text": [
      "Epoch 50, Loss 0.0336\n",
      "Training Accuracy: 0.9623, Testing Accuracy: 0.9672\n",
      "\n"
     ]
    },
    {
     "name": "stdout",
     "output_type": "stream",
     "text": [
      "Epoch 60, Loss 0.0311\n",
      "Training Accuracy: 0.9639, Testing Accuracy: 0.9703\n",
      "\n"
     ]
    },
    {
     "name": "stdout",
     "output_type": "stream",
     "text": [
      "Epoch 70, Loss 0.0292\n",
      "Training Accuracy: 0.9658, Testing Accuracy: 0.9733\n",
      "\n"
     ]
    },
    {
     "name": "stdout",
     "output_type": "stream",
     "text": [
      "Epoch 80, Loss 0.0276\n",
      "Training Accuracy: 0.9674, Testing Accuracy: 0.9738\n",
      "\n"
     ]
    },
    {
     "name": "stdout",
     "output_type": "stream",
     "text": [
      "Epoch 90, Loss 0.0264\n",
      "Training Accuracy: 0.9691, Testing Accuracy: 0.9743\n",
      "\n"
     ]
    },
    {
     "name": "stdout",
     "output_type": "stream",
     "text": [
      "Epoch 100, Loss 0.0253\n",
      "Training Accuracy: 0.9714, Testing Accuracy: 0.9748\n",
      "\n"
     ]
    },
    {
     "name": "stdout",
     "output_type": "stream",
     "text": [
      "Epoch 110, Loss 0.0243\n",
      "Training Accuracy: 0.9724, Testing Accuracy: 0.9748\n",
      "\n"
     ]
    },
    {
     "name": "stdout",
     "output_type": "stream",
     "text": [
      "Epoch 120, Loss 0.0234\n",
      "Training Accuracy: 0.9739, Testing Accuracy: 0.9733\n",
      "\n"
     ]
    },
    {
     "name": "stdout",
     "output_type": "stream",
     "text": [
      "Epoch 130, Loss 0.0226\n",
      "Training Accuracy: 0.9746, Testing Accuracy: 0.9743\n",
      "\n"
     ]
    },
    {
     "name": "stdout",
     "output_type": "stream",
     "text": [
      "Epoch 140, Loss 0.0219\n",
      "Training Accuracy: 0.9751, Testing Accuracy: 0.9743\n",
      "\n"
     ]
    },
    {
     "name": "stdout",
     "output_type": "stream",
     "text": [
      "Epoch 150, Loss 0.0212\n",
      "Training Accuracy: 0.9755, Testing Accuracy: 0.9743\n",
      "\n"
     ]
    },
    {
     "name": "stdout",
     "output_type": "stream",
     "text": [
      "Epoch 160, Loss 0.0205\n",
      "Training Accuracy: 0.9761, Testing Accuracy: 0.9748\n",
      "\n"
     ]
    },
    {
     "name": "stdout",
     "output_type": "stream",
     "text": [
      "Epoch 170, Loss 0.02\n",
      "Training Accuracy: 0.9769, Testing Accuracy: 0.9753\n",
      "\n"
     ]
    },
    {
     "name": "stdout",
     "output_type": "stream",
     "text": [
      "Epoch 180, Loss 0.0194\n",
      "Training Accuracy: 0.9778, Testing Accuracy: 0.9753\n",
      "\n"
     ]
    },
    {
     "name": "stdout",
     "output_type": "stream",
     "text": [
      "Epoch 190, Loss 0.0189\n",
      "Training Accuracy: 0.9790, Testing Accuracy: 0.9753\n",
      "\n"
     ]
    },
    {
     "name": "stdout",
     "output_type": "stream",
     "text": [
      "Epoch 200, Loss 0.0184\n",
      "Training Accuracy: 0.9796, Testing Accuracy: 0.9773\n",
      "\n"
     ]
    },
    {
     "name": "stdout",
     "output_type": "stream",
     "text": [
      "Epoch 210, Loss 0.0179\n",
      "Training Accuracy: 0.9801, Testing Accuracy: 0.9783\n",
      "\n"
     ]
    },
    {
     "name": "stdout",
     "output_type": "stream",
     "text": [
      "Epoch 220, Loss 0.0175\n",
      "Training Accuracy: 0.9804, Testing Accuracy: 0.9783\n",
      "\n"
     ]
    },
    {
     "name": "stdout",
     "output_type": "stream",
     "text": [
      "Epoch 230, Loss 0.017\n",
      "Training Accuracy: 0.9812, Testing Accuracy: 0.9783\n",
      "\n"
     ]
    },
    {
     "name": "stdout",
     "output_type": "stream",
     "text": [
      "Epoch 240, Loss 0.0166\n",
      "Training Accuracy: 0.9822, Testing Accuracy: 0.9793\n",
      "\n"
     ]
    },
    {
     "name": "stdout",
     "output_type": "stream",
     "text": [
      "Epoch 250, Loss 0.0162\n",
      "Training Accuracy: 0.9827, Testing Accuracy: 0.9793\n",
      "\n"
     ]
    },
    {
     "data": {
      "text/plain": [
       "0.04012300528985723"
      ]
     },
     "execution_count": 20,
     "metadata": {},
     "output_type": "execute_result"
    }
   ],
   "source": [
    "print(\"====== Neural Network ======\")\n",
    "learner_nn.train_loop(dl)"
   ]
  },
  {
   "cell_type": "markdown",
   "metadata": {
    "papermill": {
     "duration": 0.037806,
     "end_time": "2020-09-26T20:06:47.459928",
     "exception": false,
     "start_time": "2020-09-26T20:06:47.422122",
     "status": "completed"
    },
    "tags": []
   },
   "source": [
    "### Logistic Regression based Implementation."
   ]
  },
  {
   "cell_type": "code",
   "execution_count": 21,
   "metadata": {
    "execution": {
     "iopub.execute_input": "2020-09-26T20:06:47.576124Z",
     "iopub.status.busy": "2020-09-26T20:06:47.575485Z",
     "iopub.status.idle": "2020-09-26T20:06:47.589833Z",
     "shell.execute_reply": "2020-09-26T20:06:47.590317Z"
    },
    "papermill": {
     "duration": 0.072425,
     "end_time": "2020-09-26T20:06:47.590535",
     "exception": false,
     "start_time": "2020-09-26T20:06:47.518110",
     "status": "completed"
    },
    "tags": []
   },
   "outputs": [],
   "source": [
    "learner_lr = Learner(loss, model_lr, opt, config.num_epochs)\n",
    "acc_lr = ClfCallback(learner_lr, config.bs, training_xdata , testing_xdata, training_ydata, testing_ydata)\n",
    "learner_lr.set_callbacks([acc_lr])"
   ]
  },
  {
   "cell_type": "code",
   "execution_count": 22,
   "metadata": {
    "execution": {
     "iopub.execute_input": "2020-09-26T20:06:47.682059Z",
     "iopub.status.busy": "2020-09-26T20:06:47.670041Z",
     "iopub.status.idle": "2020-09-26T20:07:06.096310Z",
     "shell.execute_reply": "2020-09-26T20:07:06.096875Z"
    },
    "papermill": {
     "duration": 18.466998,
     "end_time": "2020-09-26T20:07:06.097030",
     "exception": false,
     "start_time": "2020-09-26T20:06:47.630032",
     "status": "completed"
    },
    "tags": []
   },
   "outputs": [
    {
     "name": "stdout",
     "output_type": "stream",
     "text": [
      "====== Logistic Regression ======\n",
      "Epoch 0, Loss 0.2146\n",
      "Training Accuracy: 0.7895, Testing Accuracy: 0.8251\n",
      "\n"
     ]
    },
    {
     "name": "stdout",
     "output_type": "stream",
     "text": [
      "Epoch 10, Loss 0.0974\n",
      "Training Accuracy: 0.9200, Testing Accuracy: 0.9370\n",
      "\n"
     ]
    },
    {
     "name": "stdout",
     "output_type": "stream",
     "text": [
      "Epoch 20, Loss 0.0762\n",
      "Training Accuracy: 0.9327, Testing Accuracy: 0.9451\n",
      "\n"
     ]
    },
    {
     "name": "stdout",
     "output_type": "stream",
     "text": [
      "Epoch 30, Loss 0.0663\n",
      "Training Accuracy: 0.9382, Testing Accuracy: 0.9491\n",
      "\n"
     ]
    },
    {
     "name": "stdout",
     "output_type": "stream",
     "text": [
      "Epoch 40, Loss 0.0602\n",
      "Training Accuracy: 0.9435, Testing Accuracy: 0.9531\n",
      "\n"
     ]
    },
    {
     "name": "stdout",
     "output_type": "stream",
     "text": [
      "Epoch 50, Loss 0.0561\n",
      "Training Accuracy: 0.9464, Testing Accuracy: 0.9561\n",
      "\n"
     ]
    },
    {
     "name": "stdout",
     "output_type": "stream",
     "text": [
      "Epoch 60, Loss 0.053\n",
      "Training Accuracy: 0.9483, Testing Accuracy: 0.9587\n",
      "\n"
     ]
    },
    {
     "name": "stdout",
     "output_type": "stream",
     "text": [
      "Epoch 70, Loss 0.0506\n",
      "Training Accuracy: 0.9499, Testing Accuracy: 0.9602\n",
      "\n"
     ]
    },
    {
     "name": "stdout",
     "output_type": "stream",
     "text": [
      "Epoch 80, Loss 0.0486\n",
      "Training Accuracy: 0.9513, Testing Accuracy: 0.9612\n",
      "\n"
     ]
    },
    {
     "name": "stdout",
     "output_type": "stream",
     "text": [
      "Epoch 90, Loss 0.047\n",
      "Training Accuracy: 0.9523, Testing Accuracy: 0.9617\n",
      "\n"
     ]
    },
    {
     "name": "stdout",
     "output_type": "stream",
     "text": [
      "Epoch 100, Loss 0.0457\n",
      "Training Accuracy: 0.9534, Testing Accuracy: 0.9627\n",
      "\n"
     ]
    },
    {
     "name": "stdout",
     "output_type": "stream",
     "text": [
      "Epoch 110, Loss 0.0445\n",
      "Training Accuracy: 0.9545, Testing Accuracy: 0.9652\n",
      "\n"
     ]
    },
    {
     "name": "stdout",
     "output_type": "stream",
     "text": [
      "Epoch 120, Loss 0.0435\n",
      "Training Accuracy: 0.9551, Testing Accuracy: 0.9647\n",
      "\n"
     ]
    },
    {
     "name": "stdout",
     "output_type": "stream",
     "text": [
      "Epoch 130, Loss 0.0426\n",
      "Training Accuracy: 0.9562, Testing Accuracy: 0.9652\n",
      "\n"
     ]
    },
    {
     "name": "stdout",
     "output_type": "stream",
     "text": [
      "Epoch 140, Loss 0.0418\n",
      "Training Accuracy: 0.9569, Testing Accuracy: 0.9652\n",
      "\n"
     ]
    },
    {
     "name": "stdout",
     "output_type": "stream",
     "text": [
      "Epoch 150, Loss 0.0411\n",
      "Training Accuracy: 0.9580, Testing Accuracy: 0.9652\n",
      "\n"
     ]
    },
    {
     "name": "stdout",
     "output_type": "stream",
     "text": [
      "Epoch 160, Loss 0.0404\n",
      "Training Accuracy: 0.9584, Testing Accuracy: 0.9652\n",
      "\n"
     ]
    },
    {
     "name": "stdout",
     "output_type": "stream",
     "text": [
      "Epoch 170, Loss 0.0398\n",
      "Training Accuracy: 0.9589, Testing Accuracy: 0.9647\n",
      "\n"
     ]
    },
    {
     "name": "stdout",
     "output_type": "stream",
     "text": [
      "Epoch 180, Loss 0.0393\n",
      "Training Accuracy: 0.9592, Testing Accuracy: 0.9647\n",
      "\n"
     ]
    },
    {
     "name": "stdout",
     "output_type": "stream",
     "text": [
      "Epoch 190, Loss 0.0388\n",
      "Training Accuracy: 0.9595, Testing Accuracy: 0.9647\n",
      "\n"
     ]
    },
    {
     "name": "stdout",
     "output_type": "stream",
     "text": [
      "Epoch 200, Loss 0.0383\n",
      "Training Accuracy: 0.9602, Testing Accuracy: 0.9652\n",
      "\n"
     ]
    },
    {
     "name": "stdout",
     "output_type": "stream",
     "text": [
      "Epoch 210, Loss 0.0379\n",
      "Training Accuracy: 0.9606, Testing Accuracy: 0.9652\n",
      "\n"
     ]
    },
    {
     "name": "stdout",
     "output_type": "stream",
     "text": [
      "Epoch 220, Loss 0.0375\n",
      "Training Accuracy: 0.9612, Testing Accuracy: 0.9652\n",
      "\n"
     ]
    },
    {
     "name": "stdout",
     "output_type": "stream",
     "text": [
      "Epoch 230, Loss 0.0371\n",
      "Training Accuracy: 0.9613, Testing Accuracy: 0.9652\n",
      "\n"
     ]
    },
    {
     "name": "stdout",
     "output_type": "stream",
     "text": [
      "Epoch 240, Loss 0.0368\n",
      "Training Accuracy: 0.9614, Testing Accuracy: 0.9652\n",
      "\n"
     ]
    },
    {
     "name": "stdout",
     "output_type": "stream",
     "text": [
      "Epoch 250, Loss 0.0364\n",
      "Training Accuracy: 0.9616, Testing Accuracy: 0.9652\n",
      "\n"
     ]
    },
    {
     "data": {
      "text/plain": [
       "0.020673908343877303"
      ]
     },
     "execution_count": 22,
     "metadata": {},
     "output_type": "execute_result"
    }
   ],
   "source": [
    "print(\"====== Logistic Regression ======\")\n",
    "learner_lr.train_loop(dl)"
   ]
  },
  {
   "cell_type": "markdown",
   "metadata": {
    "papermill": {
     "duration": 0.048357,
     "end_time": "2020-09-26T20:07:06.191400",
     "exception": false,
     "start_time": "2020-09-26T20:07:06.143043",
     "status": "completed"
    },
    "tags": []
   },
   "source": [
    "### Comparing results of NN and LR"
   ]
  },
  {
   "cell_type": "code",
   "execution_count": 23,
   "metadata": {
    "execution": {
     "iopub.execute_input": "2020-09-26T20:07:06.286598Z",
     "iopub.status.busy": "2020-09-26T20:07:06.286011Z",
     "iopub.status.idle": "2020-09-26T20:07:06.536948Z",
     "shell.execute_reply": "2020-09-26T20:07:06.537404Z"
    },
    "papermill": {
     "duration": 0.298732,
     "end_time": "2020-09-26T20:07:06.537561",
     "exception": false,
     "start_time": "2020-09-26T20:07:06.238829",
     "status": "completed"
    },
    "tags": []
   },
   "outputs": [
    {
     "data": {
      "text/plain": [
       "<matplotlib.legend.Legend at 0x7f3ad45c8278>"
      ]
     },
     "execution_count": 23,
     "metadata": {},
     "output_type": "execute_result"
    },
    {
     "data": {
      "image/png": "[encoded data removed]",
      "text/plain": [
       "<Figure size 1080x720 with 1 Axes>"
      ]
     },
     "metadata": {
      "needs_background": "light"
     },
     "output_type": "display_data"
    }
   ],
   "source": [
    "plt.figure(figsize=(15,10))\n",
    "\n",
    "# Neural Network plots\n",
    "plt.plot(acc_nn.accuracies, 'r-', label = \"Training Accuracies - NN\")\n",
    "plt.plot(acc_nn.test_accuracies, 'g-', label = \"Testing Accuracies - NN\")\n",
    "\n",
    "# Logistic Regression plots\n",
    "plt.plot(acc_lr.accuracies, 'k-', label = \"Training Accuracies - LR\")\n",
    "plt.plot(acc_lr.test_accuracies, 'b-', label = \"Testing Accuracies - LR\")\n",
    "\n",
    "plt.ylim(0.8, 1)\n",
    "\n",
    "plt.legend()\n",
    "\n"
   ]
  },
  {
   "cell_type": "markdown",
   "metadata": {
    "papermill": {
     "duration": 0.045431,
     "end_time": "2020-09-26T20:07:06.633707",
     "exception": false,
     "start_time": "2020-09-26T20:07:06.588276",
     "status": "completed"
    },
    "tags": []
   },
   "source": [
    "### From the plot, we can observe the following:\n",
    "- Neural Network achieves higher accuracy than the Logistic Regression model.\n",
    "- This apparently, is because of overfitting, i.e. NN captures more noise than data.\n",
    "- Testing accuracy of NN drops below the Training accuracy at higher epochs. This explains the over-fitting on training data.\n",
    "- Logistic Regression gives a reliable accuracy, without the above mentioned problem.\n"
   ]
  },
  {
   "cell_type": "markdown",
   "metadata": {
    "papermill": {
     "duration": 0.045048,
     "end_time": "2020-09-26T20:07:06.723007",
     "exception": false,
     "start_time": "2020-09-26T20:07:06.677959",
     "status": "completed"
    },
    "tags": []
   },
   "source": [
    "### Moving till the last but one layer (excluding it).\n",
    "#### Plotting the outputs of this layer of the NN."
   ]
  },
  {
   "cell_type": "code",
   "execution_count": 24,
   "metadata": {
    "execution": {
     "iopub.execute_input": "2020-09-26T20:07:06.830000Z",
     "iopub.status.busy": "2020-09-26T20:07:06.827719Z",
     "iopub.status.idle": "2020-09-26T20:07:06.838468Z",
     "shell.execute_reply": "2020-09-26T20:07:06.839023Z"
    },
    "papermill": {
     "duration": 0.064561,
     "end_time": "2020-09-26T20:07:06.839171",
     "exception": false,
     "start_time": "2020-09-26T20:07:06.774610",
     "status": "completed"
    },
    "tags": []
   },
   "outputs": [],
   "source": [
    "model_new = Model(layers[:-2])"
   ]
  },
  {
   "cell_type": "code",
   "execution_count": 25,
   "metadata": {
    "execution": {
     "iopub.execute_input": "2020-09-26T20:07:06.936437Z",
     "iopub.status.busy": "2020-09-26T20:07:06.935832Z",
     "iopub.status.idle": "2020-09-26T20:07:06.963158Z",
     "shell.execute_reply": "2020-09-26T20:07:06.963768Z"
    },
    "papermill": {
     "duration": 0.078973,
     "end_time": "2020-09-26T20:07:06.963924",
     "exception": false,
     "start_time": "2020-09-26T20:07:06.884951",
     "status": "completed"
    },
    "tags": []
   },
   "outputs": [],
   "source": [
    "plot_testing = model_new(testing_xdata)"
   ]
  },
  {
   "cell_type": "code",
   "execution_count": 26,
   "metadata": {
    "execution": {
     "iopub.execute_input": "2020-09-26T20:07:07.063680Z",
     "iopub.status.busy": "2020-09-26T20:07:07.062882Z",
     "iopub.status.idle": "2020-09-26T20:07:07.288157Z",
     "shell.execute_reply": "2020-09-26T20:07:07.288745Z"
    },
    "papermill": {
     "duration": 0.276441,
     "end_time": "2020-09-26T20:07:07.288921",
     "exception": false,
     "start_time": "2020-09-26T20:07:07.012480",
     "status": "completed"
    },
    "tags": []
   },
   "outputs": [
    {
     "data": {
      "text/plain": [
       "Text(0.5, 1.0, 'Outputs')"
      ]
     },
     "execution_count": 26,
     "metadata": {},
     "output_type": "execute_result"
    },
    {
     "data": {
      "image/png": "[encoded data removed]",
      "text/plain": [
       "<Figure size 576x504 with 1 Axes>"
      ]
     },
     "metadata": {
      "needs_background": "light"
     },
     "output_type": "display_data"
    }
   ],
   "source": [
    "plt.figure(figsize=(8,7))\n",
    "plt.scatter(plot_testing[:,0], plot_testing[:,1], alpha = 0.1, c = y_test.ravel());\n",
    "plt.title('Outputs')"
   ]
  },
  {
   "cell_type": "markdown",
   "metadata": {
    "papermill": {
     "duration": 0.047013,
     "end_time": "2020-09-26T20:07:07.389627",
     "exception": false,
     "start_time": "2020-09-26T20:07:07.342614",
     "status": "completed"
    },
    "tags": []
   },
   "source": [
    "### Plotting probability contours"
   ]
  },
  {
   "cell_type": "code",
   "execution_count": 27,
   "metadata": {
    "execution": {
     "iopub.execute_input": "2020-09-26T20:07:07.491629Z",
     "iopub.status.busy": "2020-09-26T20:07:07.490718Z",
     "iopub.status.idle": "2020-09-26T20:07:07.501734Z",
     "shell.execute_reply": "2020-09-26T20:07:07.502181Z"
    },
    "papermill": {
     "duration": 0.066295,
     "end_time": "2020-09-26T20:07:07.502312",
     "exception": false,
     "start_time": "2020-09-26T20:07:07.436017",
     "status": "completed"
    },
    "tags": []
   },
   "outputs": [],
   "source": [
    "model_prob = Model(layers[-2:]) "
   ]
  },
  {
   "cell_type": "code",
   "execution_count": 28,
   "metadata": {
    "execution": {
     "iopub.execute_input": "2020-09-26T20:07:07.610044Z",
     "iopub.status.busy": "2020-09-26T20:07:07.609400Z",
     "iopub.status.idle": "2020-09-26T20:07:07.621689Z",
     "shell.execute_reply": "2020-09-26T20:07:07.622362Z"
    },
    "papermill": {
     "duration": 0.074201,
     "end_time": "2020-09-26T20:07:07.622511",
     "exception": false,
     "start_time": "2020-09-26T20:07:07.548310",
     "status": "completed"
    },
    "tags": []
   },
   "outputs": [],
   "source": [
    "# Adjust the x and y ranges according to the above generated plot.\n",
    "x_range = np.linspace(-4, 1, 100) \n",
    "y_range = np.linspace(-6, 6, 100) \n",
    "x_grid, y_grid = np.meshgrid(x_range, y_range) # x_grid and y_grig are of size 100 X 100\n",
    "\n",
    "# converting x_grid and y_grid to continuous arrays\n",
    "x_grid_flat = np.ravel(x_grid)\n",
    "y_grid_flat = np.ravel(y_grid)\n",
    "\n",
    "# The last layer of the current model takes two columns as input. Hence transpose of np.vstack() is required.\n",
    "X = np.vstack((x_grid_flat, y_grid_flat)).T\n",
    "\n",
    "# x_grid and y_grid are of size 100 x 100\n",
    "probability_contour = model_prob(X).reshape(100,100) "
   ]
  },
  {
   "cell_type": "code",
   "execution_count": 29,
   "metadata": {
    "execution": {
     "iopub.execute_input": "2020-09-26T20:07:07.731879Z",
     "iopub.status.busy": "2020-09-26T20:07:07.731161Z",
     "iopub.status.idle": "2020-09-26T20:07:08.009121Z",
     "shell.execute_reply": "2020-09-26T20:07:08.008482Z"
    },
    "papermill": {
     "duration": 0.339127,
     "end_time": "2020-09-26T20:07:08.009278",
     "exception": false,
     "start_time": "2020-09-26T20:07:07.670151",
     "status": "completed"
    },
    "tags": []
   },
   "outputs": [
    {
     "data": {
      "image/png": "[encoded data removed]",
      "text/plain": [
       "<Figure size 720x648 with 1 Axes>"
      ]
     },
     "metadata": {
      "needs_background": "light"
     },
     "output_type": "display_data"
    }
   ],
   "source": [
    "plt.figure(figsize=(10,9))\n",
    "plt.scatter(plot_testing[:,0], plot_testing[:,1], alpha = 0.1, c = y_test.ravel())\n",
    "contours = plt.contour(x_grid,y_grid,probability_contour)\n",
    "plt.title('Probability Contours')\n",
    "plt.clabel(contours, inline = True );"
   ]
  }
 ],
 "metadata": {
  "kernelspec": {
   "display_name": "Python 3",
   "language": "python",
   "name": "python3"
  },
  "language_info": {
   "codemirror_mode": {
    "name": "ipython",
    "version": 3
   },
   "file_extension": ".py",
   "mimetype": "text/x-python",
   "name": "python",
   "nbconvert_exporter": "python",
   "pygments_lexer": "ipython3",
   "version": "3.6.12"
  },
  "papermill": {
   "duration": 152.869514,
   "end_time": "2020-09-26T20:07:08.406056",
   "environment_variables": {},
   "exception": null,
   "input_path": "2020-08-11-NeuralNetwork.ipynb",
   "output_path": "2020-08-11-NeuralNetwork.ipynb",
   "parameters": {},
   "start_time": "2020-09-26T20:04:35.536542",
   "version": "2.1.2"
  }
 },
 "nbformat": 4,
 "nbformat_minor": 4
}