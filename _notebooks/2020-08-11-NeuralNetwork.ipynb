{
 "cells": [
  {
   "cell_type": "markdown",
   "metadata": {
    "papermill": {
     "duration": 0.031557,
     "end_time": "2020-10-30T20:03:53.537625",
     "exception": false,
     "start_time": "2020-10-30T20:03:53.506068",
     "status": "completed"
    },
    "tags": []
   },
   "source": [
    "# \"A Basic Neural Network: Differentiate Hand-Written Digits\"\n",
    "\n",
    "- badges: true\n",
    "- author: Akshith Sriram"
   ]
  },
  {
   "cell_type": "markdown",
   "metadata": {
    "papermill": {
     "duration": 0.025257,
     "end_time": "2020-10-30T20:03:53.591668",
     "exception": false,
     "start_time": "2020-10-30T20:03:53.566411",
     "status": "completed"
    },
    "tags": []
   },
   "source": [
    "### Key Objectives:\n",
    "- Building a neural network that differentiates two hand-written digits 3 and 8.\n",
    "- Comparing the results of this Neural Network (NN) to that of a Logistic Regression (LR) model.\n",
    "\n",
    "### Requirements:\n",
    "- 'Kudzu' : A neural network library that was designed during our course by [Univ.AI](www.univ.ai). \n",
    "- MNIST Database\n",
    "\n",
    "If MNIST is not installed, use the command `!pip install mnist` given below.\n",
    "It can be run both from the command line and Jupyter Notebook."
   ]
  },
  {
   "cell_type": "code",
   "execution_count": 1,
   "metadata": {
    "execution": {
     "iopub.execute_input": "2020-10-30T20:03:53.646454Z",
     "iopub.status.busy": "2020-10-30T20:03:53.645868Z",
     "iopub.status.idle": "2020-10-30T20:03:55.104342Z",
     "shell.execute_reply": "2020-10-30T20:03:55.103774Z"
    },
    "papermill": {
     "duration": 1.487334,
     "end_time": "2020-10-30T20:03:55.104492",
     "exception": false,
     "start_time": "2020-10-30T20:03:53.617158",
     "status": "completed"
    },
    "tags": []
   },
   "outputs": [
    {
     "name": "stdout",
     "output_type": "stream",
     "text": [
      "Collecting mnist\r\n",
      "  Downloading mnist-0.2.2-py2.py3-none-any.whl (3.5 kB)\r\n"
     ]
    },
    {
     "name": "stdout",
     "output_type": "stream",
     "text": [
      "Requirement already satisfied: numpy in /opt/hostedtoolcache/Python/3.6.12/x64/lib/python3.6/site-packages (from mnist) (1.19.3)\r\n"
     ]
    },
    {
     "name": "stdout",
     "output_type": "stream",
     "text": [
      "Installing collected packages: mnist\r\n"
     ]
    },
    {
     "name": "stdout",
     "output_type": "stream",
     "text": [
      "Successfully installed mnist-0.2.2\r\n"
     ]
    }
   ],
   "source": [
    "!pip install mnist "
   ]
  },
  {
   "cell_type": "markdown",
   "metadata": {
    "papermill": {
     "duration": 0.024888,
     "end_time": "2020-10-30T20:03:55.154788",
     "exception": false,
     "start_time": "2020-10-30T20:03:55.129900",
     "status": "completed"
    },
    "tags": []
   },
   "source": [
    "#### Importing necessary libraries"
   ]
  },
  {
   "cell_type": "code",
   "execution_count": 2,
   "metadata": {
    "execution": {
     "iopub.execute_input": "2020-10-30T20:03:55.212642Z",
     "iopub.status.busy": "2020-10-30T20:03:55.212072Z",
     "iopub.status.idle": "2020-10-30T20:03:55.754780Z",
     "shell.execute_reply": "2020-10-30T20:03:55.754239Z"
    },
    "papermill": {
     "duration": 0.57425,
     "end_time": "2020-10-30T20:03:55.754917",
     "exception": false,
     "start_time": "2020-10-30T20:03:55.180667",
     "status": "completed"
    },
    "tags": []
   },
   "outputs": [],
   "source": [
    "%load_ext autoreload\n",
    "%autoreload 2\n",
    "\n",
    "%matplotlib inline\n",
    "import matplotlib.pyplot as plt\n",
    "\n",
    "import numpy as np\n",
    "import pandas as pd"
   ]
  },
  {
   "cell_type": "markdown",
   "metadata": {
    "papermill": {
     "duration": 0.027962,
     "end_time": "2020-10-30T20:03:55.809401",
     "exception": false,
     "start_time": "2020-10-30T20:03:55.781439",
     "status": "completed"
    },
    "tags": []
   },
   "source": [
    "### Preparing the Data"
   ]
  },
  {
   "cell_type": "code",
   "execution_count": 3,
   "metadata": {
    "execution": {
     "iopub.execute_input": "2020-10-30T20:03:55.863812Z",
     "iopub.status.busy": "2020-10-30T20:03:55.863208Z",
     "iopub.status.idle": "2020-10-30T20:03:55.874230Z",
     "shell.execute_reply": "2020-10-30T20:03:55.875083Z"
    },
    "papermill": {
     "duration": 0.040747,
     "end_time": "2020-10-30T20:03:55.875237",
     "exception": false,
     "start_time": "2020-10-30T20:03:55.834490",
     "status": "completed"
    },
    "tags": []
   },
   "outputs": [],
   "source": [
    "import mnist"
   ]
  },
  {
   "cell_type": "code",
   "execution_count": 4,
   "metadata": {
    "execution": {
     "iopub.execute_input": "2020-10-30T20:03:55.936312Z",
     "iopub.status.busy": "2020-10-30T20:03:55.935656Z",
     "iopub.status.idle": "2020-10-30T20:03:57.613202Z",
     "shell.execute_reply": "2020-10-30T20:03:57.612188Z"
    },
    "papermill": {
     "duration": 1.712911,
     "end_time": "2020-10-30T20:03:57.613369",
     "exception": false,
     "start_time": "2020-10-30T20:03:55.900458",
     "status": "completed"
    },
    "tags": []
   },
   "outputs": [],
   "source": [
    "train_images = mnist.train_images()\n",
    "train_labels = mnist.train_labels()"
   ]
  },
  {
   "cell_type": "code",
   "execution_count": 5,
   "metadata": {
    "execution": {
     "iopub.execute_input": "2020-10-30T20:03:57.686393Z",
     "iopub.status.busy": "2020-10-30T20:03:57.673736Z",
     "iopub.status.idle": "2020-10-30T20:03:57.697082Z",
     "shell.execute_reply": "2020-10-30T20:03:57.696620Z"
    },
    "papermill": {
     "duration": 0.05296,
     "end_time": "2020-10-30T20:03:57.697215",
     "exception": false,
     "start_time": "2020-10-30T20:03:57.644255",
     "status": "completed"
    },
    "tags": []
   },
   "outputs": [
    {
     "data": {
      "text/plain": [
       "((60000, 28, 28), (60000,))"
      ]
     },
     "execution_count": 5,
     "metadata": {},
     "output_type": "execute_result"
    }
   ],
   "source": [
    "train_images.shape, train_labels.shape"
   ]
  },
  {
   "cell_type": "code",
   "execution_count": 6,
   "metadata": {
    "execution": {
     "iopub.execute_input": "2020-10-30T20:03:57.751105Z",
     "iopub.status.busy": "2020-10-30T20:03:57.750544Z",
     "iopub.status.idle": "2020-10-30T20:03:58.647769Z",
     "shell.execute_reply": "2020-10-30T20:03:58.647104Z"
    },
    "papermill": {
     "duration": 0.924964,
     "end_time": "2020-10-30T20:03:58.647901",
     "exception": false,
     "start_time": "2020-10-30T20:03:57.722937",
     "status": "completed"
    },
    "tags": []
   },
   "outputs": [],
   "source": [
    "test_images = mnist.test_images()\n",
    "test_labels = mnist.test_labels()"
   ]
  },
  {
   "cell_type": "code",
   "execution_count": 7,
   "metadata": {
    "execution": {
     "iopub.execute_input": "2020-10-30T20:03:58.708549Z",
     "iopub.status.busy": "2020-10-30T20:03:58.708006Z",
     "iopub.status.idle": "2020-10-30T20:03:58.719205Z",
     "shell.execute_reply": "2020-10-30T20:03:58.718553Z"
    },
    "papermill": {
     "duration": 0.042726,
     "end_time": "2020-10-30T20:03:58.719386",
     "exception": false,
     "start_time": "2020-10-30T20:03:58.676660",
     "status": "completed"
    },
    "tags": []
   },
   "outputs": [
    {
     "data": {
      "text/plain": [
       "((10000, 28, 28), (10000,))"
      ]
     },
     "execution_count": 7,
     "metadata": {},
     "output_type": "execute_result"
    }
   ],
   "source": [
    "test_images.shape, test_labels.shape"
   ]
  },
  {
   "cell_type": "code",
   "execution_count": 8,
   "metadata": {
    "execution": {
     "iopub.execute_input": "2020-10-30T20:03:58.792402Z",
     "iopub.status.busy": "2020-10-30T20:03:58.791633Z",
     "iopub.status.idle": "2020-10-30T20:03:58.957654Z",
     "shell.execute_reply": "2020-10-30T20:03:58.958224Z"
    },
    "papermill": {
     "duration": 0.214135,
     "end_time": "2020-10-30T20:03:58.958379",
     "exception": false,
     "start_time": "2020-10-30T20:03:58.744244",
     "status": "completed"
    },
    "tags": []
   },
   "outputs": [
    {
     "name": "stdout",
     "output_type": "stream",
     "text": [
      "2\n"
     ]
    },
    {
     "data": {
      "text/plain": [
       "<matplotlib.image.AxesImage at 0x7f903e647b38>"
      ]
     },
     "execution_count": 8,
     "metadata": {},
     "output_type": "execute_result"
    },
    {
     "data": {
      "image/png": "[encoded data removed]",
      "text/plain": [
       "<Figure size 432x288 with 1 Axes>"
      ]
     },
     "metadata": {
      "needs_background": "light"
     },
     "output_type": "display_data"
    }
   ],
   "source": [
    "image_index = 7776 # You may select anything up to 60,000\n",
    "print(train_labels[image_index]) \n",
    "plt.imshow(train_images[image_index], cmap='Greys')"
   ]
  },
  {
   "cell_type": "markdown",
   "metadata": {
    "papermill": {
     "duration": 0.026661,
     "end_time": "2020-10-30T20:03:59.013243",
     "exception": false,
     "start_time": "2020-10-30T20:03:58.986582",
     "status": "completed"
    },
    "tags": []
   },
   "source": [
    "## Filter data to get 3 and 8 out"
   ]
  },
  {
   "cell_type": "code",
   "execution_count": 9,
   "metadata": {
    "execution": {
     "iopub.execute_input": "2020-10-30T20:03:59.084285Z",
     "iopub.status.busy": "2020-10-30T20:03:59.074015Z",
     "iopub.status.idle": "2020-10-30T20:03:59.091193Z",
     "shell.execute_reply": "2020-10-30T20:03:59.091689Z"
    },
    "papermill": {
     "duration": 0.051327,
     "end_time": "2020-10-30T20:03:59.091861",
     "exception": false,
     "start_time": "2020-10-30T20:03:59.040534",
     "status": "completed"
    },
    "tags": []
   },
   "outputs": [],
   "source": [
    "train_filter = np.where((train_labels == 3 ) | (train_labels == 8))\n",
    "test_filter = np.where((test_labels == 3) | (test_labels == 8))\n",
    "X_train, y_train = train_images[train_filter], train_labels[train_filter]\n",
    "X_test, y_test = test_images[test_filter], test_labels[test_filter]"
   ]
  },
  {
   "cell_type": "markdown",
   "metadata": {
    "papermill": {
     "duration": 0.029549,
     "end_time": "2020-10-30T20:03:59.151416",
     "exception": false,
     "start_time": "2020-10-30T20:03:59.121867",
     "status": "completed"
    },
    "tags": []
   },
   "source": [
    "We normalize the pixel values in the 0 to 1 range"
   ]
  },
  {
   "cell_type": "code",
   "execution_count": 10,
   "metadata": {
    "execution": {
     "iopub.execute_input": "2020-10-30T20:03:59.217066Z",
     "iopub.status.busy": "2020-10-30T20:03:59.216469Z",
     "iopub.status.idle": "2020-10-30T20:03:59.275243Z",
     "shell.execute_reply": "2020-10-30T20:03:59.274753Z"
    },
    "papermill": {
     "duration": 0.09246,
     "end_time": "2020-10-30T20:03:59.275411",
     "exception": false,
     "start_time": "2020-10-30T20:03:59.182951",
     "status": "completed"
    },
    "tags": []
   },
   "outputs": [],
   "source": [
    "X_train = X_train/255.\n",
    "X_test = X_test/255."
   ]
  },
  {
   "cell_type": "markdown",
   "metadata": {
    "papermill": {
     "duration": 0.026017,
     "end_time": "2020-10-30T20:03:59.329205",
     "exception": false,
     "start_time": "2020-10-30T20:03:59.303188",
     "status": "completed"
    },
    "tags": []
   },
   "source": [
    "Setup the labels as 1 (when the digit is 3) and 0 (when the digit is 8)"
   ]
  },
  {
   "cell_type": "code",
   "execution_count": 11,
   "metadata": {
    "execution": {
     "iopub.execute_input": "2020-10-30T20:03:59.401218Z",
     "iopub.status.busy": "2020-10-30T20:03:59.400583Z",
     "iopub.status.idle": "2020-10-30T20:03:59.403626Z",
     "shell.execute_reply": "2020-10-30T20:03:59.403092Z"
    },
    "papermill": {
     "duration": 0.048033,
     "end_time": "2020-10-30T20:03:59.403777",
     "exception": false,
     "start_time": "2020-10-30T20:03:59.355744",
     "status": "completed"
    },
    "tags": []
   },
   "outputs": [],
   "source": [
    "y_train = 1*(y_train==3)\n",
    "y_test = 1*(y_test==3)"
   ]
  },
  {
   "cell_type": "code",
   "execution_count": 12,
   "metadata": {
    "execution": {
     "iopub.execute_input": "2020-10-30T20:03:59.469633Z",
     "iopub.status.busy": "2020-10-30T20:03:59.461969Z",
     "iopub.status.idle": "2020-10-30T20:03:59.476203Z",
     "shell.execute_reply": "2020-10-30T20:03:59.476660Z"
    },
    "papermill": {
     "duration": 0.044901,
     "end_time": "2020-10-30T20:03:59.476842",
     "exception": false,
     "start_time": "2020-10-30T20:03:59.431941",
     "status": "completed"
    },
    "tags": []
   },
   "outputs": [
    {
     "data": {
      "text/plain": [
       "((11982, 28, 28), (1984, 28, 28))"
      ]
     },
     "execution_count": 12,
     "metadata": {},
     "output_type": "execute_result"
    }
   ],
   "source": [
    "X_train.shape, X_test.shape"
   ]
  },
  {
   "cell_type": "markdown",
   "metadata": {
    "papermill": {
     "duration": 0.028201,
     "end_time": "2020-10-30T20:03:59.531540",
     "exception": false,
     "start_time": "2020-10-30T20:03:59.503339",
     "status": "completed"
    },
    "tags": []
   },
   "source": [
    "### Reshape the input data to create a linear array"
   ]
  },
  {
   "cell_type": "code",
   "execution_count": 13,
   "metadata": {
    "execution": {
     "iopub.execute_input": "2020-10-30T20:03:59.606879Z",
     "iopub.status.busy": "2020-10-30T20:03:59.606319Z",
     "iopub.status.idle": "2020-10-30T20:03:59.611795Z",
     "shell.execute_reply": "2020-10-30T20:03:59.612274Z"
    },
    "papermill": {
     "duration": 0.054087,
     "end_time": "2020-10-30T20:03:59.612412",
     "exception": false,
     "start_time": "2020-10-30T20:03:59.558325",
     "status": "completed"
    },
    "tags": []
   },
   "outputs": [
    {
     "data": {
      "text/plain": [
       "((11982, 784), (1984, 784))"
      ]
     },
     "execution_count": 13,
     "metadata": {},
     "output_type": "execute_result"
    }
   ],
   "source": [
    "X_train = X_train.reshape(X_train.shape[0], -1)\n",
    "X_test = X_test.reshape(X_test.shape[0], -1)\n",
    "X_train.shape, X_test.shape"
   ]
  },
  {
   "cell_type": "markdown",
   "metadata": {
    "papermill": {
     "duration": 0.026835,
     "end_time": "2020-10-30T20:03:59.666445",
     "exception": false,
     "start_time": "2020-10-30T20:03:59.639610",
     "status": "completed"
    },
    "tags": []
   },
   "source": [
    "### Importing appropriate functions from 'Kudzu'"
   ]
  },
  {
   "cell_type": "code",
   "execution_count": 14,
   "metadata": {
    "execution": {
     "iopub.execute_input": "2020-10-30T20:03:59.747991Z",
     "iopub.status.busy": "2020-10-30T20:03:59.740043Z",
     "iopub.status.idle": "2020-10-30T20:03:59.753641Z",
     "shell.execute_reply": "2020-10-30T20:03:59.754342Z"
    },
    "papermill": {
     "duration": 0.056037,
     "end_time": "2020-10-30T20:03:59.754480",
     "exception": false,
     "start_time": "2020-10-30T20:03:59.698443",
     "status": "completed"
    },
    "tags": []
   },
   "outputs": [],
   "source": [
    "from kudzu.layer import Sigmoid\n",
    "from kudzu.layer import Relu\n",
    "from kudzu.layer import Affine, Sigmoid\n",
    "\n",
    "from kudzu.model import Model\n",
    "from kudzu.train import Learner\n",
    "from kudzu.optim import GD\n",
    "from kudzu.data import Data, Dataloader, Sampler\n",
    "\n",
    "from kudzu.callbacks import AccCallback\n",
    "from kudzu.callbacks import ClfCallback\n",
    "\n",
    "from kudzu.loss import MSE"
   ]
  },
  {
   "cell_type": "markdown",
   "metadata": {
    "papermill": {
     "duration": 0.027356,
     "end_time": "2020-10-30T20:03:59.808914",
     "exception": false,
     "start_time": "2020-10-30T20:03:59.781558",
     "status": "completed"
    },
    "tags": []
   },
   "source": [
    "### Let us create a `Config` class, to store important parameters. \n",
    "This class essentially plays the role of a dictionary."
   ]
  },
  {
   "cell_type": "code",
   "execution_count": 15,
   "metadata": {
    "execution": {
     "iopub.execute_input": "2020-10-30T20:03:59.880716Z",
     "iopub.status.busy": "2020-10-30T20:03:59.880161Z",
     "iopub.status.idle": "2020-10-30T20:03:59.887517Z",
     "shell.execute_reply": "2020-10-30T20:03:59.887971Z"
    },
    "papermill": {
     "duration": 0.046489,
     "end_time": "2020-10-30T20:03:59.888110",
     "exception": false,
     "start_time": "2020-10-30T20:03:59.841621",
     "status": "completed"
    },
    "tags": []
   },
   "outputs": [],
   "source": [
    "class Config:\n",
    "    pass\n",
    "config = Config()\n",
    "config.lr = 0.001\n",
    "config.num_epochs = 251\n",
    "config.bs = 50"
   ]
  },
  {
   "cell_type": "markdown",
   "metadata": {
    "papermill": {
     "duration": 0.027082,
     "end_time": "2020-10-30T20:03:59.941992",
     "exception": false,
     "start_time": "2020-10-30T20:03:59.914910",
     "status": "completed"
    },
    "tags": []
   },
   "source": [
    "### Initializing data to the variables"
   ]
  },
  {
   "cell_type": "code",
   "execution_count": 16,
   "metadata": {
    "execution": {
     "iopub.execute_input": "2020-10-30T20:04:00.000910Z",
     "iopub.status.busy": "2020-10-30T20:04:00.000205Z",
     "iopub.status.idle": "2020-10-30T20:04:00.013430Z",
     "shell.execute_reply": "2020-10-30T20:04:00.012873Z"
    },
    "papermill": {
     "duration": 0.044153,
     "end_time": "2020-10-30T20:04:00.013564",
     "exception": false,
     "start_time": "2020-10-30T20:03:59.969411",
     "status": "completed"
    },
    "tags": []
   },
   "outputs": [],
   "source": [
    "data = Data(X_train, y_train.reshape(-1,1))\n",
    "sampler = Sampler(data, config.bs, shuffle=True)\n",
    "\n",
    "dl = Dataloader(data, sampler)\n",
    "\n",
    "opt = GD(config.lr)\n",
    "loss = MSE()"
   ]
  },
  {
   "cell_type": "code",
   "execution_count": 17,
   "metadata": {
    "execution": {
     "iopub.execute_input": "2020-10-30T20:04:00.077249Z",
     "iopub.status.busy": "2020-10-30T20:04:00.076662Z",
     "iopub.status.idle": "2020-10-30T20:04:00.088717Z",
     "shell.execute_reply": "2020-10-30T20:04:00.088143Z"
    },
    "papermill": {
     "duration": 0.045913,
     "end_time": "2020-10-30T20:04:00.088838",
     "exception": false,
     "start_time": "2020-10-30T20:04:00.042925",
     "status": "completed"
    },
    "tags": []
   },
   "outputs": [],
   "source": [
    "training_xdata = X_train\n",
    "testing_xdata = X_test\n",
    "training_ydata = y_train.reshape(-1,1)\n",
    "testing_ydata = y_test.reshape(-1,1)"
   ]
  },
  {
   "cell_type": "markdown",
   "metadata": {
    "papermill": {
     "duration": 0.032526,
     "end_time": "2020-10-30T20:04:00.150304",
     "exception": false,
     "start_time": "2020-10-30T20:04:00.117778",
     "status": "completed"
    },
    "tags": []
   },
   "source": [
    "### Running Models with the Training data\n",
    "Details about the network layers:\n",
    "- A first affine layer has 784 inputs and does 100 affine transforms. These are followed by a Relu\n",
    "- A second affine layer has 100 inputs from the 100 activations of the past layer, and does 100 affine transforms. These are followed by a Relu\n",
    "- A third affine layer has 100 activations and does 2 affine transformations to create an embedding for visualization. There is no non-linearity here.\n",
    "- A final \"logistic regression\" which has an affine transform from 2 inputs to 1 output, which is squeezed through a sigmoid.\n",
    "\n",
    "Help taken from Anshuman's Notebook."
   ]
  },
  {
   "cell_type": "code",
   "execution_count": 18,
   "metadata": {
    "execution": {
     "iopub.execute_input": "2020-10-30T20:04:00.213296Z",
     "iopub.status.busy": "2020-10-30T20:04:00.212658Z",
     "iopub.status.idle": "2020-10-30T20:04:00.230838Z",
     "shell.execute_reply": "2020-10-30T20:04:00.231360Z"
    },
    "papermill": {
     "duration": 0.052019,
     "end_time": "2020-10-30T20:04:00.231522",
     "exception": false,
     "start_time": "2020-10-30T20:04:00.179503",
     "status": "completed"
    },
    "tags": []
   },
   "outputs": [],
   "source": [
    "# layers for the Neural Network\n",
    "layers = [Affine(\"first\", 784, 100), Relu(\"first\"), Affine(\"second\", 100, 100), Relu(\"second\"), Affine(\"third\", 100, 2), Affine(\"final\", 2, 1), Sigmoid(\"final\")]\n",
    "model_nn = Model(layers)\n",
    "\n",
    "# layers for the Logistic Regression\n",
    "layers_lr = [Affine(\"logits\", 784, 1), Sigmoid(\"sigmoid\")]\n",
    "model_lr = Model(layers_lr)"
   ]
  },
  {
   "cell_type": "code",
   "execution_count": 19,
   "metadata": {
    "execution": {
     "iopub.execute_input": "2020-10-30T20:04:00.314349Z",
     "iopub.status.busy": "2020-10-30T20:04:00.313555Z",
     "iopub.status.idle": "2020-10-30T20:04:00.317815Z",
     "shell.execute_reply": "2020-10-30T20:04:00.317324Z"
    },
    "papermill": {
     "duration": 0.057094,
     "end_time": "2020-10-30T20:04:00.317957",
     "exception": false,
     "start_time": "2020-10-30T20:04:00.260863",
     "status": "completed"
    },
    "tags": []
   },
   "outputs": [],
   "source": [
    "# suffix _nn stands for Neural Network.\n",
    "learner_nn = Learner(loss, model_nn, opt, config.num_epochs)\n",
    "acc_nn = ClfCallback(learner_nn, config.bs, training_xdata , testing_xdata, training_ydata, testing_ydata)\n",
    "learner_nn.set_callbacks([acc_nn])"
   ]
  },
  {
   "cell_type": "code",
   "execution_count": 20,
   "metadata": {
    "execution": {
     "iopub.execute_input": "2020-10-30T20:04:00.384072Z",
     "iopub.status.busy": "2020-10-30T20:04:00.377413Z",
     "iopub.status.idle": "2020-10-30T20:06:18.817585Z",
     "shell.execute_reply": "2020-10-30T20:06:18.818164Z"
    },
    "papermill": {
     "duration": 138.471697,
     "end_time": "2020-10-30T20:06:18.818322",
     "exception": false,
     "start_time": "2020-10-30T20:04:00.346625",
     "status": "completed"
    },
    "tags": []
   },
   "outputs": [
    {
     "name": "stdout",
     "output_type": "stream",
     "text": [
      "====== Neural Network ======\n"
     ]
    },
    {
     "name": "stdout",
     "output_type": "stream",
     "text": [
      "Epoch 0, Loss 0.2385\n",
      "Training Accuracy: 0.6683, Testing Accuracy: 0.6638\n",
      "\n"
     ]
    },
    {
     "name": "stdout",
     "output_type": "stream",
     "text": [
      "Epoch 10, Loss 0.1135\n",
      "Training Accuracy: 0.9072, Testing Accuracy: 0.9219\n",
      "\n"
     ]
    },
    {
     "name": "stdout",
     "output_type": "stream",
     "text": [
      "Epoch 20, Loss 0.0643\n",
      "Training Accuracy: 0.9343, Testing Accuracy: 0.9476\n",
      "\n"
     ]
    },
    {
     "name": "stdout",
     "output_type": "stream",
     "text": [
      "Epoch 30, Loss 0.0492\n",
      "Training Accuracy: 0.9468, Testing Accuracy: 0.9551\n",
      "\n"
     ]
    },
    {
     "name": "stdout",
     "output_type": "stream",
     "text": [
      "Epoch 40, Loss 0.0421\n",
      "Training Accuracy: 0.9522, Testing Accuracy: 0.9597\n",
      "\n"
     ]
    },
    {
     "name": "stdout",
     "output_type": "stream",
     "text": [
      "Epoch 50, Loss 0.0379\n",
      "Training Accuracy: 0.9576, Testing Accuracy: 0.9622\n",
      "\n"
     ]
    },
    {
     "name": "stdout",
     "output_type": "stream",
     "text": [
      "Epoch 60, Loss 0.035\n",
      "Training Accuracy: 0.9598, Testing Accuracy: 0.9642\n",
      "\n"
     ]
    },
    {
     "name": "stdout",
     "output_type": "stream",
     "text": [
      "Epoch 70, Loss 0.033\n",
      "Training Accuracy: 0.9621, Testing Accuracy: 0.9677\n",
      "\n"
     ]
    },
    {
     "name": "stdout",
     "output_type": "stream",
     "text": [
      "Epoch 80, Loss 0.0313\n",
      "Training Accuracy: 0.9635, Testing Accuracy: 0.9682\n",
      "\n"
     ]
    },
    {
     "name": "stdout",
     "output_type": "stream",
     "text": [
      "Epoch 90, Loss 0.03\n",
      "Training Accuracy: 0.9650, Testing Accuracy: 0.9693\n",
      "\n"
     ]
    },
    {
     "name": "stdout",
     "output_type": "stream",
     "text": [
      "Epoch 100, Loss 0.0289\n",
      "Training Accuracy: 0.9654, Testing Accuracy: 0.9698\n",
      "\n"
     ]
    },
    {
     "name": "stdout",
     "output_type": "stream",
     "text": [
      "Epoch 110, Loss 0.0279\n",
      "Training Accuracy: 0.9669, Testing Accuracy: 0.9698\n",
      "\n"
     ]
    },
    {
     "name": "stdout",
     "output_type": "stream",
     "text": [
      "Epoch 120, Loss 0.027\n",
      "Training Accuracy: 0.9677, Testing Accuracy: 0.9698\n",
      "\n"
     ]
    },
    {
     "name": "stdout",
     "output_type": "stream",
     "text": [
      "Epoch 130, Loss 0.0262\n",
      "Training Accuracy: 0.9690, Testing Accuracy: 0.9703\n",
      "\n"
     ]
    },
    {
     "name": "stdout",
     "output_type": "stream",
     "text": [
      "Epoch 140, Loss 0.0255\n",
      "Training Accuracy: 0.9699, Testing Accuracy: 0.9708\n",
      "\n"
     ]
    },
    {
     "name": "stdout",
     "output_type": "stream",
     "text": [
      "Epoch 150, Loss 0.0248\n",
      "Training Accuracy: 0.9710, Testing Accuracy: 0.9708\n",
      "\n"
     ]
    },
    {
     "name": "stdout",
     "output_type": "stream",
     "text": [
      "Epoch 160, Loss 0.0242\n",
      "Training Accuracy: 0.9715, Testing Accuracy: 0.9718\n",
      "\n"
     ]
    },
    {
     "name": "stdout",
     "output_type": "stream",
     "text": [
      "Epoch 170, Loss 0.0237\n",
      "Training Accuracy: 0.9725, Testing Accuracy: 0.9723\n",
      "\n"
     ]
    },
    {
     "name": "stdout",
     "output_type": "stream",
     "text": [
      "Epoch 180, Loss 0.0231\n",
      "Training Accuracy: 0.9736, Testing Accuracy: 0.9728\n",
      "\n"
     ]
    },
    {
     "name": "stdout",
     "output_type": "stream",
     "text": [
      "Epoch 190, Loss 0.0226\n",
      "Training Accuracy: 0.9744, Testing Accuracy: 0.9738\n",
      "\n"
     ]
    },
    {
     "name": "stdout",
     "output_type": "stream",
     "text": [
      "Epoch 200, Loss 0.0221\n",
      "Training Accuracy: 0.9748, Testing Accuracy: 0.9738\n",
      "\n"
     ]
    },
    {
     "name": "stdout",
     "output_type": "stream",
     "text": [
      "Epoch 210, Loss 0.0216\n",
      "Training Accuracy: 0.9760, Testing Accuracy: 0.9733\n",
      "\n"
     ]
    },
    {
     "name": "stdout",
     "output_type": "stream",
     "text": [
      "Epoch 220, Loss 0.0212\n",
      "Training Accuracy: 0.9766, Testing Accuracy: 0.9738\n",
      "\n"
     ]
    },
    {
     "name": "stdout",
     "output_type": "stream",
     "text": [
      "Epoch 230, Loss 0.0207\n",
      "Training Accuracy: 0.9772, Testing Accuracy: 0.9738\n",
      "\n"
     ]
    },
    {
     "name": "stdout",
     "output_type": "stream",
     "text": [
      "Epoch 240, Loss 0.0203\n",
      "Training Accuracy: 0.9777, Testing Accuracy: 0.9738\n",
      "\n"
     ]
    },
    {
     "name": "stdout",
     "output_type": "stream",
     "text": [
      "Epoch 250, Loss 0.0198\n",
      "Training Accuracy: 0.9783, Testing Accuracy: 0.9723\n",
      "\n"
     ]
    },
    {
     "data": {
      "text/plain": [
       "0.0077971724661020075"
      ]
     },
     "execution_count": 20,
     "metadata": {},
     "output_type": "execute_result"
    }
   ],
   "source": [
    "print(\"====== Neural Network ======\")\n",
    "learner_nn.train_loop(dl)"
   ]
  },
  {
   "cell_type": "markdown",
   "metadata": {
    "papermill": {
     "duration": 0.038493,
     "end_time": "2020-10-30T20:06:18.896058",
     "exception": false,
     "start_time": "2020-10-30T20:06:18.857565",
     "status": "completed"
    },
    "tags": []
   },
   "source": [
    "### Logistic Regression based Implementation."
   ]
  },
  {
   "cell_type": "code",
   "execution_count": 21,
   "metadata": {
    "execution": {
     "iopub.execute_input": "2020-10-30T20:06:18.985570Z",
     "iopub.status.busy": "2020-10-30T20:06:18.984113Z",
     "iopub.status.idle": "2020-10-30T20:06:18.993112Z",
     "shell.execute_reply": "2020-10-30T20:06:18.992611Z"
    },
    "papermill": {
     "duration": 0.06088,
     "end_time": "2020-10-30T20:06:18.993237",
     "exception": false,
     "start_time": "2020-10-30T20:06:18.932357",
     "status": "completed"
    },
    "tags": []
   },
   "outputs": [],
   "source": [
    "learner_lr = Learner(loss, model_lr, opt, config.num_epochs)\n",
    "acc_lr = ClfCallback(learner_lr, config.bs, training_xdata , testing_xdata, training_ydata, testing_ydata)\n",
    "learner_lr.set_callbacks([acc_lr])"
   ]
  },
  {
   "cell_type": "code",
   "execution_count": 22,
   "metadata": {
    "execution": {
     "iopub.execute_input": "2020-10-30T20:06:19.073774Z",
     "iopub.status.busy": "2020-10-30T20:06:19.073181Z",
     "iopub.status.idle": "2020-10-30T20:06:38.750549Z",
     "shell.execute_reply": "2020-10-30T20:06:38.751455Z"
    },
    "papermill": {
     "duration": 19.723024,
     "end_time": "2020-10-30T20:06:38.751612",
     "exception": false,
     "start_time": "2020-10-30T20:06:19.028588",
     "status": "completed"
    },
    "tags": []
   },
   "outputs": [
    {
     "name": "stdout",
     "output_type": "stream",
     "text": [
      "====== Logistic Regression ======\n",
      "Epoch 0, Loss 0.2459\n",
      "Training Accuracy: 0.6511, Testing Accuracy: 0.6522\n",
      "\n"
     ]
    },
    {
     "name": "stdout",
     "output_type": "stream",
     "text": [
      "Epoch 10, Loss 0.1062\n",
      "Training Accuracy: 0.9015, Testing Accuracy: 0.9078\n",
      "\n"
     ]
    },
    {
     "name": "stdout",
     "output_type": "stream",
     "text": [
      "Epoch 20, Loss 0.0807\n",
      "Training Accuracy: 0.9249, Testing Accuracy: 0.9294\n",
      "\n"
     ]
    },
    {
     "name": "stdout",
     "output_type": "stream",
     "text": [
      "Epoch 30, Loss 0.069\n",
      "Training Accuracy: 0.9351, Testing Accuracy: 0.9415\n",
      "\n"
     ]
    },
    {
     "name": "stdout",
     "output_type": "stream",
     "text": [
      "Epoch 40, Loss 0.062\n",
      "Training Accuracy: 0.9406, Testing Accuracy: 0.9481\n",
      "\n"
     ]
    },
    {
     "name": "stdout",
     "output_type": "stream",
     "text": [
      "Epoch 50, Loss 0.0573\n",
      "Training Accuracy: 0.9445, Testing Accuracy: 0.9506\n",
      "\n"
     ]
    },
    {
     "name": "stdout",
     "output_type": "stream",
     "text": [
      "Epoch 60, Loss 0.0538\n",
      "Training Accuracy: 0.9470, Testing Accuracy: 0.9536\n",
      "\n"
     ]
    },
    {
     "name": "stdout",
     "output_type": "stream",
     "text": [
      "Epoch 70, Loss 0.0512\n",
      "Training Accuracy: 0.9490, Testing Accuracy: 0.9561\n",
      "\n"
     ]
    },
    {
     "name": "stdout",
     "output_type": "stream",
     "text": [
      "Epoch 80, Loss 0.0491\n",
      "Training Accuracy: 0.9511, Testing Accuracy: 0.9587\n",
      "\n"
     ]
    },
    {
     "name": "stdout",
     "output_type": "stream",
     "text": [
      "Epoch 90, Loss 0.0474\n",
      "Training Accuracy: 0.9524, Testing Accuracy: 0.9592\n",
      "\n"
     ]
    },
    {
     "name": "stdout",
     "output_type": "stream",
     "text": [
      "Epoch 100, Loss 0.0459\n",
      "Training Accuracy: 0.9535, Testing Accuracy: 0.9607\n",
      "\n"
     ]
    },
    {
     "name": "stdout",
     "output_type": "stream",
     "text": [
      "Epoch 110, Loss 0.0447\n",
      "Training Accuracy: 0.9546, Testing Accuracy: 0.9607\n",
      "\n"
     ]
    },
    {
     "name": "stdout",
     "output_type": "stream",
     "text": [
      "Epoch 120, Loss 0.0437\n",
      "Training Accuracy: 0.9548, Testing Accuracy: 0.9617\n",
      "\n"
     ]
    },
    {
     "name": "stdout",
     "output_type": "stream",
     "text": [
      "Epoch 130, Loss 0.0427\n",
      "Training Accuracy: 0.9553, Testing Accuracy: 0.9642\n",
      "\n"
     ]
    },
    {
     "name": "stdout",
     "output_type": "stream",
     "text": [
      "Epoch 140, Loss 0.0419\n",
      "Training Accuracy: 0.9557, Testing Accuracy: 0.9647\n",
      "\n"
     ]
    },
    {
     "name": "stdout",
     "output_type": "stream",
     "text": [
      "Epoch 150, Loss 0.0412\n",
      "Training Accuracy: 0.9567, Testing Accuracy: 0.9647\n",
      "\n"
     ]
    },
    {
     "name": "stdout",
     "output_type": "stream",
     "text": [
      "Epoch 160, Loss 0.0405\n",
      "Training Accuracy: 0.9571, Testing Accuracy: 0.9647\n",
      "\n"
     ]
    },
    {
     "name": "stdout",
     "output_type": "stream",
     "text": [
      "Epoch 170, Loss 0.0399\n",
      "Training Accuracy: 0.9576, Testing Accuracy: 0.9652\n",
      "\n"
     ]
    },
    {
     "name": "stdout",
     "output_type": "stream",
     "text": [
      "Epoch 180, Loss 0.0393\n",
      "Training Accuracy: 0.9579, Testing Accuracy: 0.9652\n",
      "\n"
     ]
    },
    {
     "name": "stdout",
     "output_type": "stream",
     "text": [
      "Epoch 190, Loss 0.0388\n",
      "Training Accuracy: 0.9582, Testing Accuracy: 0.9657\n",
      "\n"
     ]
    },
    {
     "name": "stdout",
     "output_type": "stream",
     "text": [
      "Epoch 200, Loss 0.0383\n",
      "Training Accuracy: 0.9589, Testing Accuracy: 0.9657\n",
      "\n"
     ]
    },
    {
     "name": "stdout",
     "output_type": "stream",
     "text": [
      "Epoch 210, Loss 0.0379\n",
      "Training Accuracy: 0.9593, Testing Accuracy: 0.9657\n",
      "\n"
     ]
    },
    {
     "name": "stdout",
     "output_type": "stream",
     "text": [
      "Epoch 220, Loss 0.0375\n",
      "Training Accuracy: 0.9598, Testing Accuracy: 0.9657\n",
      "\n"
     ]
    },
    {
     "name": "stdout",
     "output_type": "stream",
     "text": [
      "Epoch 230, Loss 0.0371\n",
      "Training Accuracy: 0.9599, Testing Accuracy: 0.9657\n",
      "\n"
     ]
    },
    {
     "name": "stdout",
     "output_type": "stream",
     "text": [
      "Epoch 240, Loss 0.0367\n",
      "Training Accuracy: 0.9603, Testing Accuracy: 0.9662\n",
      "\n"
     ]
    },
    {
     "name": "stdout",
     "output_type": "stream",
     "text": [
      "Epoch 250, Loss 0.0364\n",
      "Training Accuracy: 0.9606, Testing Accuracy: 0.9662\n",
      "\n"
     ]
    },
    {
     "data": {
      "text/plain": [
       "0.04103154880461794"
      ]
     },
     "execution_count": 22,
     "metadata": {},
     "output_type": "execute_result"
    }
   ],
   "source": [
    "print(\"====== Logistic Regression ======\")\n",
    "learner_lr.train_loop(dl)"
   ]
  },
  {
   "cell_type": "markdown",
   "metadata": {
    "papermill": {
     "duration": 0.045407,
     "end_time": "2020-10-30T20:06:38.846476",
     "exception": false,
     "start_time": "2020-10-30T20:06:38.801069",
     "status": "completed"
    },
    "tags": []
   },
   "source": [
    "### Comparing results of NN and LR"
   ]
  },
  {
   "cell_type": "code",
   "execution_count": 23,
   "metadata": {
    "execution": {
     "iopub.execute_input": "2020-10-30T20:06:38.939838Z",
     "iopub.status.busy": "2020-10-30T20:06:38.937558Z",
     "iopub.status.idle": "2020-10-30T20:06:39.201152Z",
     "shell.execute_reply": "2020-10-30T20:06:39.200609Z"
    },
    "papermill": {
     "duration": 0.311745,
     "end_time": "2020-10-30T20:06:39.201278",
     "exception": false,
     "start_time": "2020-10-30T20:06:38.889533",
     "status": "completed"
    },
    "tags": []
   },
   "outputs": [
    {
     "data": {
      "text/plain": [
       "<matplotlib.legend.Legend at 0x7f90361ad470>"
      ]
     },
     "execution_count": 23,
     "metadata": {},
     "output_type": "execute_result"
    },
    {
     "data": {
      "image/png": "[encoded data removed]",
      "text/plain": [
       "<Figure size 1080x720 with 1 Axes>"
      ]
     },
     "metadata": {
      "needs_background": "light"
     },
     "output_type": "display_data"
    }
   ],
   "source": [
    "plt.figure(figsize=(15,10))\n",
    "\n",
    "# Neural Network plots\n",
    "plt.plot(acc_nn.accuracies, 'r-', label = \"Training Accuracies - NN\")\n",
    "plt.plot(acc_nn.test_accuracies, 'g-', label = \"Testing Accuracies - NN\")\n",
    "\n",
    "# Logistic Regression plots\n",
    "plt.plot(acc_lr.accuracies, 'k-', label = \"Training Accuracies - LR\")\n",
    "plt.plot(acc_lr.test_accuracies, 'b-', label = \"Testing Accuracies - LR\")\n",
    "\n",
    "plt.ylim(0.8, 1)\n",
    "\n",
    "plt.legend()\n",
    "\n"
   ]
  },
  {
   "cell_type": "markdown",
   "metadata": {
    "papermill": {
     "duration": 0.043999,
     "end_time": "2020-10-30T20:06:39.290578",
     "exception": false,
     "start_time": "2020-10-30T20:06:39.246579",
     "status": "completed"
    },
    "tags": []
   },
   "source": [
    "### From the plot, we can observe the following:\n",
    "- Neural Network achieves higher accuracy than the Logistic Regression model.\n",
    "- This apparently, is because of overfitting, i.e. NN captures more noise than data.\n",
    "- Testing accuracy of NN drops below the Training accuracy at higher epochs. This explains the over-fitting on training data.\n",
    "- Logistic Regression gives a reliable accuracy, without the above mentioned problem.\n"
   ]
  },
  {
   "cell_type": "markdown",
   "metadata": {
    "papermill": {
     "duration": 0.043837,
     "end_time": "2020-10-30T20:06:39.378922",
     "exception": false,
     "start_time": "2020-10-30T20:06:39.335085",
     "status": "completed"
    },
    "tags": []
   },
   "source": [
    "### Moving till the last but one layer (excluding it).\n",
    "#### Plotting the outputs of this layer of the NN."
   ]
  },
  {
   "cell_type": "code",
   "execution_count": 24,
   "metadata": {
    "execution": {
     "iopub.execute_input": "2020-10-30T20:06:39.476847Z",
     "iopub.status.busy": "2020-10-30T20:06:39.476003Z",
     "iopub.status.idle": "2020-10-30T20:06:39.483668Z",
     "shell.execute_reply": "2020-10-30T20:06:39.484159Z"
    },
    "papermill": {
     "duration": 0.062761,
     "end_time": "2020-10-30T20:06:39.484313",
     "exception": false,
     "start_time": "2020-10-30T20:06:39.421552",
     "status": "completed"
    },
    "tags": []
   },
   "outputs": [],
   "source": [
    "model_new = Model(layers[:-2])"
   ]
  },
  {
   "cell_type": "code",
   "execution_count": 25,
   "metadata": {
    "execution": {
     "iopub.execute_input": "2020-10-30T20:06:39.581715Z",
     "iopub.status.busy": "2020-10-30T20:06:39.580394Z",
     "iopub.status.idle": "2020-10-30T20:06:39.609360Z",
     "shell.execute_reply": "2020-10-30T20:06:39.610328Z"
    },
    "papermill": {
     "duration": 0.083345,
     "end_time": "2020-10-30T20:06:39.610483",
     "exception": false,
     "start_time": "2020-10-30T20:06:39.527138",
     "status": "completed"
    },
    "tags": []
   },
   "outputs": [],
   "source": [
    "plot_testing = model_new(testing_xdata)"
   ]
  },
  {
   "cell_type": "code",
   "execution_count": 26,
   "metadata": {
    "execution": {
     "iopub.execute_input": "2020-10-30T20:06:39.708758Z",
     "iopub.status.busy": "2020-10-30T20:06:39.708153Z",
     "iopub.status.idle": "2020-10-30T20:06:39.943693Z",
     "shell.execute_reply": "2020-10-30T20:06:39.944130Z"
    },
    "papermill": {
     "duration": 0.290529,
     "end_time": "2020-10-30T20:06:39.944284",
     "exception": false,
     "start_time": "2020-10-30T20:06:39.653755",
     "status": "completed"
    },
    "tags": []
   },
   "outputs": [
    {
     "data": {
      "text/plain": [
       "Text(0.5, 1.0, 'Outputs')"
      ]
     },
     "execution_count": 26,
     "metadata": {},
     "output_type": "execute_result"
    },
    {
     "data": {
      "image/png": "[encoded data removed]",
      "text/plain": [
       "<Figure size 576x504 with 1 Axes>"
      ]
     },
     "metadata": {
      "needs_background": "light"
     },
     "output_type": "display_data"
    }
   ],
   "source": [
    "plt.figure(figsize=(8,7))\n",
    "plt.scatter(plot_testing[:,0], plot_testing[:,1], alpha = 0.1, c = y_test.ravel());\n",
    "plt.title('Outputs')"
   ]
  },
  {
   "cell_type": "markdown",
   "metadata": {
    "papermill": {
     "duration": 0.044763,
     "end_time": "2020-10-30T20:06:40.035753",
     "exception": false,
     "start_time": "2020-10-30T20:06:39.990990",
     "status": "completed"
    },
    "tags": []
   },
   "source": [
    "### Plotting probability contours"
   ]
  },
  {
   "cell_type": "code",
   "execution_count": 27,
   "metadata": {
    "execution": {
     "iopub.execute_input": "2020-10-30T20:06:40.154410Z",
     "iopub.status.busy": "2020-10-30T20:06:40.149833Z",
     "iopub.status.idle": "2020-10-30T20:06:40.159777Z",
     "shell.execute_reply": "2020-10-30T20:06:40.160311Z"
    },
    "papermill": {
     "duration": 0.072807,
     "end_time": "2020-10-30T20:06:40.160455",
     "exception": false,
     "start_time": "2020-10-30T20:06:40.087648",
     "status": "completed"
    },
    "tags": []
   },
   "outputs": [],
   "source": [
    "model_prob = Model(layers[-2:]) "
   ]
  },
  {
   "cell_type": "code",
   "execution_count": 28,
   "metadata": {
    "execution": {
     "iopub.execute_input": "2020-10-30T20:06:40.264969Z",
     "iopub.status.busy": "2020-10-30T20:06:40.264130Z",
     "iopub.status.idle": "2020-10-30T20:06:40.278352Z",
     "shell.execute_reply": "2020-10-30T20:06:40.277769Z"
    },
    "papermill": {
     "duration": 0.06969,
     "end_time": "2020-10-30T20:06:40.278493",
     "exception": false,
     "start_time": "2020-10-30T20:06:40.208803",
     "status": "completed"
    },
    "tags": []
   },
   "outputs": [],
   "source": [
    "# Adjust the x and y ranges according to the above generated plot.\n",
    "x_range = np.linspace(-4, 1, 100) \n",
    "y_range = np.linspace(-6, 6, 100) \n",
    "x_grid, y_grid = np.meshgrid(x_range, y_range) # x_grid and y_grig are of size 100 X 100\n",
    "\n",
    "# converting x_grid and y_grid to continuous arrays\n",
    "x_grid_flat = np.ravel(x_grid)\n",
    "y_grid_flat = np.ravel(y_grid)\n",
    "\n",
    "# The last layer of the current model takes two columns as input. Hence transpose of np.vstack() is required.\n",
    "X = np.vstack((x_grid_flat, y_grid_flat)).T\n",
    "\n",
    "# x_grid and y_grid are of size 100 x 100\n",
    "probability_contour = model_prob(X).reshape(100,100) "
   ]
  },
  {
   "cell_type": "code",
   "execution_count": 29,
   "metadata": {
    "execution": {
     "iopub.execute_input": "2020-10-30T20:06:40.378098Z",
     "iopub.status.busy": "2020-10-30T20:06:40.377487Z",
     "iopub.status.idle": "2020-10-30T20:06:40.652548Z",
     "shell.execute_reply": "2020-10-30T20:06:40.652071Z"
    },
    "papermill": {
     "duration": 0.327189,
     "end_time": "2020-10-30T20:06:40.652674",
     "exception": false,
     "start_time": "2020-10-30T20:06:40.325485",
     "status": "completed"
    },
    "tags": []
   },
   "outputs": [
    {
     "data": {
      "image/png": "[encoded data removed]",
      "text/plain": [
       "<Figure size 720x648 with 1 Axes>"
      ]
     },
     "metadata": {
      "needs_background": "light"
     },
     "output_type": "display_data"
    }
   ],
   "source": [
    "plt.figure(figsize=(10,9))\n",
    "plt.scatter(plot_testing[:,0], plot_testing[:,1], alpha = 0.1, c = y_test.ravel())\n",
    "contours = plt.contour(x_grid,y_grid,probability_contour)\n",
    "plt.title('Probability Contours')\n",
    "plt.clabel(contours, inline = True );"
   ]
  }
 ],
 "metadata": {
  "kernelspec": {
   "display_name": "Python 3",
   "language": "python",
   "name": "python3"
  },
  "language_info": {
   "codemirror_mode": {
    "name": "ipython",
    "version": 3
   },
   "file_extension": ".py",
   "mimetype": "text/x-python",
   "name": "python",
   "nbconvert_exporter": "python",
   "pygments_lexer": "ipython3",
   "version": "3.6.12"
  },
  "papermill": {
   "duration": 168.607127,
   "end_time": "2020-10-30T20:06:41.028788",
   "environment_variables": {},
   "exception": null,
   "input_path": "2020-08-11-NeuralNetwork.ipynb",
   "output_path": "2020-08-11-NeuralNetwork.ipynb",
   "parameters": {},
   "start_time": "2020-10-30T20:03:52.421661",
   "version": "2.1.2"
  }
 },
 "nbformat": 4,
 "nbformat_minor": 4
}