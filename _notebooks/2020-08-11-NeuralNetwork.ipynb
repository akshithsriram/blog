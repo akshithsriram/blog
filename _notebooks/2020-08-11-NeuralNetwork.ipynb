{
 "cells": [
  {
   "cell_type": "markdown",
   "metadata": {
    "papermill": {
     "duration": 0.026383,
     "end_time": "2020-12-25T20:03:50.529415",
     "exception": false,
     "start_time": "2020-12-25T20:03:50.503032",
     "status": "completed"
    },
    "tags": []
   },
   "source": [
    "# \"A Basic Neural Network: Differentiate Hand-Written Digits\"\n",
    "\n",
    "- badges: true\n",
    "- author: Akshith Sriram"
   ]
  },
  {
   "cell_type": "markdown",
   "metadata": {
    "papermill": {
     "duration": 0.022382,
     "end_time": "2020-12-25T20:03:50.575017",
     "exception": false,
     "start_time": "2020-12-25T20:03:50.552635",
     "status": "completed"
    },
    "tags": []
   },
   "source": [
    "### Key Objectives:\n",
    "- Building a neural network that differentiates two hand-written digits 3 and 8.\n",
    "- Comparing the results of this Neural Network (NN) to that of a Logistic Regression (LR) model.\n",
    "\n",
    "### Requirements:\n",
    "- 'Kudzu' : A neural network library that was designed during our course by [Univ.AI](www.univ.ai). \n",
    "- MNIST Database\n",
    "\n",
    "If MNIST is not installed, use the command `!pip install mnist` given below.\n",
    "It can be run both from the command line and Jupyter Notebook."
   ]
  },
  {
   "cell_type": "code",
   "execution_count": 1,
   "metadata": {
    "execution": {
     "iopub.execute_input": "2020-12-25T20:03:50.630862Z",
     "iopub.status.busy": "2020-12-25T20:03:50.630327Z",
     "iopub.status.idle": "2020-12-25T20:03:51.933158Z",
     "shell.execute_reply": "2020-12-25T20:03:51.933623Z"
    },
    "papermill": {
     "duration": 1.33659,
     "end_time": "2020-12-25T20:03:51.933814",
     "exception": false,
     "start_time": "2020-12-25T20:03:50.597224",
     "status": "completed"
    },
    "tags": []
   },
   "outputs": [
    {
     "name": "stdout",
     "output_type": "stream",
     "text": [
      "Collecting mnist\r\n"
     ]
    },
    {
     "name": "stdout",
     "output_type": "stream",
     "text": [
      "  Downloading mnist-0.2.2-py2.py3-none-any.whl (3.5 kB)\r\n",
      "Requirement already satisfied: numpy in /opt/hostedtoolcache/Python/3.6.12/x64/lib/python3.6/site-packages (from mnist) (1.19.4)\r\n"
     ]
    },
    {
     "name": "stdout",
     "output_type": "stream",
     "text": [
      "Installing collected packages: mnist\r\n"
     ]
    },
    {
     "name": "stdout",
     "output_type": "stream",
     "text": [
      "Successfully installed mnist-0.2.2\r\n"
     ]
    },
    {
     "name": "stdout",
     "output_type": "stream",
     "text": [
      "\u001b[33mWARNING: You are using pip version 20.3.1; however, version 20.3.3 is available.\r\n",
      "You should consider upgrading via the '/opt/hostedtoolcache/Python/3.6.12/x64/bin/python -m pip install --upgrade pip' command.\u001b[0m\r\n"
     ]
    }
   ],
   "source": [
    "!pip install mnist "
   ]
  },
  {
   "cell_type": "markdown",
   "metadata": {
    "papermill": {
     "duration": 0.023675,
     "end_time": "2020-12-25T20:03:51.981864",
     "exception": false,
     "start_time": "2020-12-25T20:03:51.958189",
     "status": "completed"
    },
    "tags": []
   },
   "source": [
    "#### Importing necessary libraries"
   ]
  },
  {
   "cell_type": "code",
   "execution_count": 2,
   "metadata": {
    "execution": {
     "iopub.execute_input": "2020-12-25T20:03:52.036500Z",
     "iopub.status.busy": "2020-12-25T20:03:52.035992Z",
     "iopub.status.idle": "2020-12-25T20:03:52.533864Z",
     "shell.execute_reply": "2020-12-25T20:03:52.533327Z"
    },
    "papermill": {
     "duration": 0.528568,
     "end_time": "2020-12-25T20:03:52.534032",
     "exception": false,
     "start_time": "2020-12-25T20:03:52.005464",
     "status": "completed"
    },
    "tags": []
   },
   "outputs": [],
   "source": [
    "%load_ext autoreload\n",
    "%autoreload 2\n",
    "\n",
    "%matplotlib inline\n",
    "import matplotlib.pyplot as plt\n",
    "\n",
    "import numpy as np\n",
    "import pandas as pd"
   ]
  },
  {
   "cell_type": "markdown",
   "metadata": {
    "papermill": {
     "duration": 0.023803,
     "end_time": "2020-12-25T20:03:52.582149",
     "exception": false,
     "start_time": "2020-12-25T20:03:52.558346",
     "status": "completed"
    },
    "tags": []
   },
   "source": [
    "### Preparing the Data"
   ]
  },
  {
   "cell_type": "code",
   "execution_count": 3,
   "metadata": {
    "execution": {
     "iopub.execute_input": "2020-12-25T20:03:52.632814Z",
     "iopub.status.busy": "2020-12-25T20:03:52.632302Z",
     "iopub.status.idle": "2020-12-25T20:03:52.643993Z",
     "shell.execute_reply": "2020-12-25T20:03:52.644396Z"
    },
    "papermill": {
     "duration": 0.039062,
     "end_time": "2020-12-25T20:03:52.644522",
     "exception": false,
     "start_time": "2020-12-25T20:03:52.605460",
     "status": "completed"
    },
    "tags": []
   },
   "outputs": [],
   "source": [
    "import mnist"
   ]
  },
  {
   "cell_type": "code",
   "execution_count": 4,
   "metadata": {
    "execution": {
     "iopub.execute_input": "2020-12-25T20:03:52.694450Z",
     "iopub.status.busy": "2020-12-25T20:03:52.693920Z",
     "iopub.status.idle": "2020-12-25T20:03:53.409755Z",
     "shell.execute_reply": "2020-12-25T20:03:53.409267Z"
    },
    "papermill": {
     "duration": 0.741951,
     "end_time": "2020-12-25T20:03:53.409918",
     "exception": false,
     "start_time": "2020-12-25T20:03:52.667967",
     "status": "completed"
    },
    "tags": []
   },
   "outputs": [],
   "source": [
    "train_images = mnist.train_images()\n",
    "train_labels = mnist.train_labels()"
   ]
  },
  {
   "cell_type": "code",
   "execution_count": 5,
   "metadata": {
    "execution": {
     "iopub.execute_input": "2020-12-25T20:03:53.462210Z",
     "iopub.status.busy": "2020-12-25T20:03:53.461680Z",
     "iopub.status.idle": "2020-12-25T20:03:53.474940Z",
     "shell.execute_reply": "2020-12-25T20:03:53.475370Z"
    },
    "papermill": {
     "duration": 0.040894,
     "end_time": "2020-12-25T20:03:53.475491",
     "exception": false,
     "start_time": "2020-12-25T20:03:53.434597",
     "status": "completed"
    },
    "tags": []
   },
   "outputs": [
    {
     "data": {
      "text/plain": [
       "((60000, 28, 28), (60000,))"
      ]
     },
     "execution_count": 5,
     "metadata": {},
     "output_type": "execute_result"
    }
   ],
   "source": [
    "train_images.shape, train_labels.shape"
   ]
  },
  {
   "cell_type": "code",
   "execution_count": 6,
   "metadata": {
    "execution": {
     "iopub.execute_input": "2020-12-25T20:03:53.528279Z",
     "iopub.status.busy": "2020-12-25T20:03:53.527784Z",
     "iopub.status.idle": "2020-12-25T20:03:53.782149Z",
     "shell.execute_reply": "2020-12-25T20:03:53.782668Z"
    },
    "papermill": {
     "duration": 0.283624,
     "end_time": "2020-12-25T20:03:53.782830",
     "exception": false,
     "start_time": "2020-12-25T20:03:53.499206",
     "status": "completed"
    },
    "tags": []
   },
   "outputs": [],
   "source": [
    "test_images = mnist.test_images()\n",
    "test_labels = mnist.test_labels()"
   ]
  },
  {
   "cell_type": "code",
   "execution_count": 7,
   "metadata": {
    "execution": {
     "iopub.execute_input": "2020-12-25T20:03:53.842432Z",
     "iopub.status.busy": "2020-12-25T20:03:53.841586Z",
     "iopub.status.idle": "2020-12-25T20:03:53.850985Z",
     "shell.execute_reply": "2020-12-25T20:03:53.850577Z"
    },
    "papermill": {
     "duration": 0.043509,
     "end_time": "2020-12-25T20:03:53.851153",
     "exception": false,
     "start_time": "2020-12-25T20:03:53.807644",
     "status": "completed"
    },
    "tags": []
   },
   "outputs": [
    {
     "data": {
      "text/plain": [
       "((10000, 28, 28), (10000,))"
      ]
     },
     "execution_count": 7,
     "metadata": {},
     "output_type": "execute_result"
    }
   ],
   "source": [
    "test_images.shape, test_labels.shape"
   ]
  },
  {
   "cell_type": "code",
   "execution_count": 8,
   "metadata": {
    "execution": {
     "iopub.execute_input": "2020-12-25T20:03:53.903461Z",
     "iopub.status.busy": "2020-12-25T20:03:53.902888Z",
     "iopub.status.idle": "2020-12-25T20:03:54.030573Z",
     "shell.execute_reply": "2020-12-25T20:03:54.030128Z"
    },
    "papermill": {
     "duration": 0.155155,
     "end_time": "2020-12-25T20:03:54.030692",
     "exception": false,
     "start_time": "2020-12-25T20:03:53.875537",
     "status": "completed"
    },
    "tags": []
   },
   "outputs": [
    {
     "name": "stdout",
     "output_type": "stream",
     "text": [
      "2\n"
     ]
    },
    {
     "data": {
      "text/plain": [
       "<matplotlib.image.AxesImage at 0x7f84710482b0>"
      ]
     },
     "execution_count": 8,
     "metadata": {},
     "output_type": "execute_result"
    },
    {
     "data": {
      "image/png": "[encoded data removed]",
      "text/plain": [
       "<Figure size 432x288 with 1 Axes>"
      ]
     },
     "metadata": {
      "needs_background": "light"
     },
     "output_type": "display_data"
    }
   ],
   "source": [
    "image_index = 7776 # You may select anything up to 60,000\n",
    "print(train_labels[image_index]) \n",
    "plt.imshow(train_images[image_index], cmap='Greys')"
   ]
  },
  {
   "cell_type": "markdown",
   "metadata": {
    "papermill": {
     "duration": 0.025399,
     "end_time": "2020-12-25T20:03:54.081837",
     "exception": false,
     "start_time": "2020-12-25T20:03:54.056438",
     "status": "completed"
    },
    "tags": []
   },
   "source": [
    "## Filter data to get 3 and 8 out"
   ]
  },
  {
   "cell_type": "code",
   "execution_count": 9,
   "metadata": {
    "execution": {
     "iopub.execute_input": "2020-12-25T20:03:54.150360Z",
     "iopub.status.busy": "2020-12-25T20:03:54.149806Z",
     "iopub.status.idle": "2020-12-25T20:03:54.156855Z",
     "shell.execute_reply": "2020-12-25T20:03:54.156229Z"
    },
    "papermill": {
     "duration": 0.050236,
     "end_time": "2020-12-25T20:03:54.156968",
     "exception": false,
     "start_time": "2020-12-25T20:03:54.106732",
     "status": "completed"
    },
    "tags": []
   },
   "outputs": [],
   "source": [
    "train_filter = np.where((train_labels == 3 ) | (train_labels == 8))\n",
    "test_filter = np.where((test_labels == 3) | (test_labels == 8))\n",
    "X_train, y_train = train_images[train_filter], train_labels[train_filter]\n",
    "X_test, y_test = test_images[test_filter], test_labels[test_filter]"
   ]
  },
  {
   "cell_type": "markdown",
   "metadata": {
    "papermill": {
     "duration": 0.024801,
     "end_time": "2020-12-25T20:03:54.206784",
     "exception": false,
     "start_time": "2020-12-25T20:03:54.181983",
     "status": "completed"
    },
    "tags": []
   },
   "source": [
    "We normalize the pixel values in the 0 to 1 range"
   ]
  },
  {
   "cell_type": "code",
   "execution_count": 10,
   "metadata": {
    "execution": {
     "iopub.execute_input": "2020-12-25T20:03:54.273523Z",
     "iopub.status.busy": "2020-12-25T20:03:54.273022Z",
     "iopub.status.idle": "2020-12-25T20:03:54.308779Z",
     "shell.execute_reply": "2020-12-25T20:03:54.308289Z"
    },
    "papermill": {
     "duration": 0.077284,
     "end_time": "2020-12-25T20:03:54.308920",
     "exception": false,
     "start_time": "2020-12-25T20:03:54.231636",
     "status": "completed"
    },
    "tags": []
   },
   "outputs": [],
   "source": [
    "X_train = X_train/255.\n",
    "X_test = X_test/255."
   ]
  },
  {
   "cell_type": "markdown",
   "metadata": {
    "papermill": {
     "duration": 0.025041,
     "end_time": "2020-12-25T20:03:54.360095",
     "exception": false,
     "start_time": "2020-12-25T20:03:54.335054",
     "status": "completed"
    },
    "tags": []
   },
   "source": [
    "Setup the labels as 1 (when the digit is 3) and 0 (when the digit is 8)"
   ]
  },
  {
   "cell_type": "code",
   "execution_count": 11,
   "metadata": {
    "execution": {
     "iopub.execute_input": "2020-12-25T20:03:54.416229Z",
     "iopub.status.busy": "2020-12-25T20:03:54.415716Z",
     "iopub.status.idle": "2020-12-25T20:03:54.425856Z",
     "shell.execute_reply": "2020-12-25T20:03:54.425450Z"
    },
    "papermill": {
     "duration": 0.040819,
     "end_time": "2020-12-25T20:03:54.425972",
     "exception": false,
     "start_time": "2020-12-25T20:03:54.385153",
     "status": "completed"
    },
    "tags": []
   },
   "outputs": [],
   "source": [
    "y_train = 1*(y_train==3)\n",
    "y_test = 1*(y_test==3)"
   ]
  },
  {
   "cell_type": "code",
   "execution_count": 12,
   "metadata": {
    "execution": {
     "iopub.execute_input": "2020-12-25T20:03:54.479228Z",
     "iopub.status.busy": "2020-12-25T20:03:54.478724Z",
     "iopub.status.idle": "2020-12-25T20:03:54.491506Z",
     "shell.execute_reply": "2020-12-25T20:03:54.491883Z"
    },
    "papermill": {
     "duration": 0.041041,
     "end_time": "2020-12-25T20:03:54.492013",
     "exception": false,
     "start_time": "2020-12-25T20:03:54.450972",
     "status": "completed"
    },
    "tags": []
   },
   "outputs": [
    {
     "data": {
      "text/plain": [
       "((11982, 28, 28), (1984, 28, 28))"
      ]
     },
     "execution_count": 12,
     "metadata": {},
     "output_type": "execute_result"
    }
   ],
   "source": [
    "X_train.shape, X_test.shape"
   ]
  },
  {
   "cell_type": "markdown",
   "metadata": {
    "papermill": {
     "duration": 0.025172,
     "end_time": "2020-12-25T20:03:54.542377",
     "exception": false,
     "start_time": "2020-12-25T20:03:54.517205",
     "status": "completed"
    },
    "tags": []
   },
   "source": [
    "### Reshape the input data to create a linear array"
   ]
  },
  {
   "cell_type": "code",
   "execution_count": 13,
   "metadata": {
    "execution": {
     "iopub.execute_input": "2020-12-25T20:03:54.611732Z",
     "iopub.status.busy": "2020-12-25T20:03:54.611229Z",
     "iopub.status.idle": "2020-12-25T20:03:54.616512Z",
     "shell.execute_reply": "2020-12-25T20:03:54.616895Z"
    },
    "papermill": {
     "duration": 0.049332,
     "end_time": "2020-12-25T20:03:54.617020",
     "exception": false,
     "start_time": "2020-12-25T20:03:54.567688",
     "status": "completed"
    },
    "tags": []
   },
   "outputs": [
    {
     "data": {
      "text/plain": [
       "((11982, 784), (1984, 784))"
      ]
     },
     "execution_count": 13,
     "metadata": {},
     "output_type": "execute_result"
    }
   ],
   "source": [
    "X_train = X_train.reshape(X_train.shape[0], -1)\n",
    "X_test = X_test.reshape(X_test.shape[0], -1)\n",
    "X_train.shape, X_test.shape"
   ]
  },
  {
   "cell_type": "markdown",
   "metadata": {
    "papermill": {
     "duration": 0.025256,
     "end_time": "2020-12-25T20:03:54.667690",
     "exception": false,
     "start_time": "2020-12-25T20:03:54.642434",
     "status": "completed"
    },
    "tags": []
   },
   "source": [
    "### Importing appropriate functions from 'Kudzu'"
   ]
  },
  {
   "cell_type": "code",
   "execution_count": 14,
   "metadata": {
    "execution": {
     "iopub.execute_input": "2020-12-25T20:03:54.742577Z",
     "iopub.status.busy": "2020-12-25T20:03:54.735026Z",
     "iopub.status.idle": "2020-12-25T20:03:54.744433Z",
     "shell.execute_reply": "2020-12-25T20:03:54.744815Z"
    },
    "papermill": {
     "duration": 0.051679,
     "end_time": "2020-12-25T20:03:54.744941",
     "exception": false,
     "start_time": "2020-12-25T20:03:54.693262",
     "status": "completed"
    },
    "tags": []
   },
   "outputs": [],
   "source": [
    "from kudzu.layer import Sigmoid\n",
    "from kudzu.layer import Relu\n",
    "from kudzu.layer import Affine, Sigmoid\n",
    "\n",
    "from kudzu.model import Model\n",
    "from kudzu.train import Learner\n",
    "from kudzu.optim import GD\n",
    "from kudzu.data import Data, Dataloader, Sampler\n",
    "\n",
    "from kudzu.callbacks import AccCallback\n",
    "from kudzu.callbacks import ClfCallback\n",
    "\n",
    "from kudzu.loss import MSE"
   ]
  },
  {
   "cell_type": "markdown",
   "metadata": {
    "papermill": {
     "duration": 0.025414,
     "end_time": "2020-12-25T20:03:54.795748",
     "exception": false,
     "start_time": "2020-12-25T20:03:54.770334",
     "status": "completed"
    },
    "tags": []
   },
   "source": [
    "### Let us create a `Config` class, to store important parameters. \n",
    "This class essentially plays the role of a dictionary."
   ]
  },
  {
   "cell_type": "code",
   "execution_count": 15,
   "metadata": {
    "execution": {
     "iopub.execute_input": "2020-12-25T20:03:54.852368Z",
     "iopub.status.busy": "2020-12-25T20:03:54.851870Z",
     "iopub.status.idle": "2020-12-25T20:03:54.861702Z",
     "shell.execute_reply": "2020-12-25T20:03:54.862107Z"
    },
    "papermill": {
     "duration": 0.040991,
     "end_time": "2020-12-25T20:03:54.862236",
     "exception": false,
     "start_time": "2020-12-25T20:03:54.821245",
     "status": "completed"
    },
    "tags": []
   },
   "outputs": [],
   "source": [
    "class Config:\n",
    "    pass\n",
    "config = Config()\n",
    "config.lr = 0.001\n",
    "config.num_epochs = 251\n",
    "config.bs = 50"
   ]
  },
  {
   "cell_type": "markdown",
   "metadata": {
    "papermill": {
     "duration": 0.025272,
     "end_time": "2020-12-25T20:03:54.913305",
     "exception": false,
     "start_time": "2020-12-25T20:03:54.888033",
     "status": "completed"
    },
    "tags": []
   },
   "source": [
    "### Initializing data to the variables"
   ]
  },
  {
   "cell_type": "code",
   "execution_count": 16,
   "metadata": {
    "execution": {
     "iopub.execute_input": "2020-12-25T20:03:54.968195Z",
     "iopub.status.busy": "2020-12-25T20:03:54.967698Z",
     "iopub.status.idle": "2020-12-25T20:03:54.980082Z",
     "shell.execute_reply": "2020-12-25T20:03:54.979676Z"
    },
    "papermill": {
     "duration": 0.041388,
     "end_time": "2020-12-25T20:03:54.980192",
     "exception": false,
     "start_time": "2020-12-25T20:03:54.938804",
     "status": "completed"
    },
    "tags": []
   },
   "outputs": [],
   "source": [
    "data = Data(X_train, y_train.reshape(-1,1))\n",
    "sampler = Sampler(data, config.bs, shuffle=True)\n",
    "\n",
    "dl = Dataloader(data, sampler)\n",
    "\n",
    "opt = GD(config.lr)\n",
    "loss = MSE()"
   ]
  },
  {
   "cell_type": "code",
   "execution_count": 17,
   "metadata": {
    "execution": {
     "iopub.execute_input": "2020-12-25T20:03:55.048186Z",
     "iopub.status.busy": "2020-12-25T20:03:55.046599Z",
     "iopub.status.idle": "2020-12-25T20:03:55.050055Z",
     "shell.execute_reply": "2020-12-25T20:03:55.050448Z"
    },
    "papermill": {
     "duration": 0.045004,
     "end_time": "2020-12-25T20:03:55.050576",
     "exception": false,
     "start_time": "2020-12-25T20:03:55.005572",
     "status": "completed"
    },
    "tags": []
   },
   "outputs": [],
   "source": [
    "training_xdata = X_train\n",
    "testing_xdata = X_test\n",
    "training_ydata = y_train.reshape(-1,1)\n",
    "testing_ydata = y_test.reshape(-1,1)"
   ]
  },
  {
   "cell_type": "markdown",
   "metadata": {
    "papermill": {
     "duration": 0.025422,
     "end_time": "2020-12-25T20:03:55.101575",
     "exception": false,
     "start_time": "2020-12-25T20:03:55.076153",
     "status": "completed"
    },
    "tags": []
   },
   "source": [
    "### Running Models with the Training data\n",
    "Details about the network layers:\n",
    "- A first affine layer has 784 inputs and does 100 affine transforms. These are followed by a Relu\n",
    "- A second affine layer has 100 inputs from the 100 activations of the past layer, and does 100 affine transforms. These are followed by a Relu\n",
    "- A third affine layer has 100 activations and does 2 affine transformations to create an embedding for visualization. There is no non-linearity here.\n",
    "- A final \"logistic regression\" which has an affine transform from 2 inputs to 1 output, which is squeezed through a sigmoid.\n",
    "\n",
    "Help taken from Anshuman's Notebook."
   ]
  },
  {
   "cell_type": "code",
   "execution_count": 18,
   "metadata": {
    "execution": {
     "iopub.execute_input": "2020-12-25T20:03:55.166344Z",
     "iopub.status.busy": "2020-12-25T20:03:55.156124Z",
     "iopub.status.idle": "2020-12-25T20:03:55.172966Z",
     "shell.execute_reply": "2020-12-25T20:03:55.172537Z"
    },
    "papermill": {
     "duration": 0.046023,
     "end_time": "2020-12-25T20:03:55.173073",
     "exception": false,
     "start_time": "2020-12-25T20:03:55.127050",
     "status": "completed"
    },
    "tags": []
   },
   "outputs": [],
   "source": [
    "# layers for the Neural Network\n",
    "layers = [Affine(\"first\", 784, 100), Relu(\"first\"), Affine(\"second\", 100, 100), Relu(\"second\"), Affine(\"third\", 100, 2), Affine(\"final\", 2, 1), Sigmoid(\"final\")]\n",
    "model_nn = Model(layers)\n",
    "\n",
    "# layers for the Logistic Regression\n",
    "layers_lr = [Affine(\"logits\", 784, 1), Sigmoid(\"sigmoid\")]\n",
    "model_lr = Model(layers_lr)"
   ]
  },
  {
   "cell_type": "code",
   "execution_count": 19,
   "metadata": {
    "execution": {
     "iopub.execute_input": "2020-12-25T20:03:55.237315Z",
     "iopub.status.busy": "2020-12-25T20:03:55.230607Z",
     "iopub.status.idle": "2020-12-25T20:03:55.239160Z",
     "shell.execute_reply": "2020-12-25T20:03:55.239540Z"
    },
    "papermill": {
     "duration": 0.040845,
     "end_time": "2020-12-25T20:03:55.239667",
     "exception": false,
     "start_time": "2020-12-25T20:03:55.198822",
     "status": "completed"
    },
    "tags": []
   },
   "outputs": [],
   "source": [
    "# suffix _nn stands for Neural Network.\n",
    "learner_nn = Learner(loss, model_nn, opt, config.num_epochs)\n",
    "acc_nn = ClfCallback(learner_nn, config.bs, training_xdata , testing_xdata, training_ydata, testing_ydata)\n",
    "learner_nn.set_callbacks([acc_nn])"
   ]
  },
  {
   "cell_type": "code",
   "execution_count": 20,
   "metadata": {
    "execution": {
     "iopub.execute_input": "2020-12-25T20:03:55.308655Z",
     "iopub.status.busy": "2020-12-25T20:03:55.299479Z",
     "iopub.status.idle": "2020-12-25T20:05:12.613124Z",
     "shell.execute_reply": "2020-12-25T20:05:12.612692Z"
    },
    "papermill": {
     "duration": 77.348072,
     "end_time": "2020-12-25T20:05:12.613249",
     "exception": false,
     "start_time": "2020-12-25T20:03:55.265177",
     "status": "completed"
    },
    "tags": []
   },
   "outputs": [
    {
     "name": "stdout",
     "output_type": "stream",
     "text": [
      "====== Neural Network ======\n"
     ]
    },
    {
     "name": "stdout",
     "output_type": "stream",
     "text": [
      "Epoch 0, Loss 0.2463\n",
      "Training Accuracy: 0.5931, Testing Accuracy: 0.6134\n",
      "\n"
     ]
    },
    {
     "name": "stdout",
     "output_type": "stream",
     "text": [
      "Epoch 10, Loss 0.1839\n",
      "Training Accuracy: 0.8514, Testing Accuracy: 0.8604\n",
      "\n"
     ]
    },
    {
     "name": "stdout",
     "output_type": "stream",
     "text": [
      "Epoch 20, Loss 0.0986\n",
      "Training Accuracy: 0.9028, Testing Accuracy: 0.9143\n",
      "\n"
     ]
    },
    {
     "name": "stdout",
     "output_type": "stream",
     "text": [
      "Epoch 30, Loss 0.0632\n",
      "Training Accuracy: 0.9347, Testing Accuracy: 0.9420\n",
      "\n"
     ]
    },
    {
     "name": "stdout",
     "output_type": "stream",
     "text": [
      "Epoch 40, Loss 0.0486\n",
      "Training Accuracy: 0.9468, Testing Accuracy: 0.9561\n",
      "\n"
     ]
    },
    {
     "name": "stdout",
     "output_type": "stream",
     "text": [
      "Epoch 50, Loss 0.0414\n",
      "Training Accuracy: 0.9536, Testing Accuracy: 0.9622\n",
      "\n"
     ]
    },
    {
     "name": "stdout",
     "output_type": "stream",
     "text": [
      "Epoch 60, Loss 0.0371\n",
      "Training Accuracy: 0.9571, Testing Accuracy: 0.9637\n",
      "\n"
     ]
    },
    {
     "name": "stdout",
     "output_type": "stream",
     "text": [
      "Epoch 70, Loss 0.0343\n",
      "Training Accuracy: 0.9615, Testing Accuracy: 0.9662\n",
      "\n"
     ]
    },
    {
     "name": "stdout",
     "output_type": "stream",
     "text": [
      "Epoch 80, Loss 0.0322\n",
      "Training Accuracy: 0.9633, Testing Accuracy: 0.9682\n",
      "\n"
     ]
    },
    {
     "name": "stdout",
     "output_type": "stream",
     "text": [
      "Epoch 90, Loss 0.0306\n",
      "Training Accuracy: 0.9649, Testing Accuracy: 0.9693\n",
      "\n"
     ]
    },
    {
     "name": "stdout",
     "output_type": "stream",
     "text": [
      "Epoch 100, Loss 0.0293\n",
      "Training Accuracy: 0.9662, Testing Accuracy: 0.9703\n",
      "\n"
     ]
    },
    {
     "name": "stdout",
     "output_type": "stream",
     "text": [
      "Epoch 110, Loss 0.0281\n",
      "Training Accuracy: 0.9675, Testing Accuracy: 0.9713\n",
      "\n"
     ]
    },
    {
     "name": "stdout",
     "output_type": "stream",
     "text": [
      "Epoch 120, Loss 0.0271\n",
      "Training Accuracy: 0.9690, Testing Accuracy: 0.9728\n",
      "\n"
     ]
    },
    {
     "name": "stdout",
     "output_type": "stream",
     "text": [
      "Epoch 130, Loss 0.0263\n",
      "Training Accuracy: 0.9694, Testing Accuracy: 0.9738\n",
      "\n"
     ]
    },
    {
     "name": "stdout",
     "output_type": "stream",
     "text": [
      "Epoch 140, Loss 0.0255\n",
      "Training Accuracy: 0.9703, Testing Accuracy: 0.9738\n",
      "\n"
     ]
    },
    {
     "name": "stdout",
     "output_type": "stream",
     "text": [
      "Epoch 150, Loss 0.0247\n",
      "Training Accuracy: 0.9720, Testing Accuracy: 0.9748\n",
      "\n"
     ]
    },
    {
     "name": "stdout",
     "output_type": "stream",
     "text": [
      "Epoch 160, Loss 0.0241\n",
      "Training Accuracy: 0.9730, Testing Accuracy: 0.9743\n",
      "\n"
     ]
    },
    {
     "name": "stdout",
     "output_type": "stream",
     "text": [
      "Epoch 170, Loss 0.0235\n",
      "Training Accuracy: 0.9737, Testing Accuracy: 0.9743\n",
      "\n"
     ]
    },
    {
     "name": "stdout",
     "output_type": "stream",
     "text": [
      "Epoch 180, Loss 0.0229\n",
      "Training Accuracy: 0.9745, Testing Accuracy: 0.9753\n",
      "\n"
     ]
    },
    {
     "name": "stdout",
     "output_type": "stream",
     "text": [
      "Epoch 190, Loss 0.0223\n",
      "Training Accuracy: 0.9751, Testing Accuracy: 0.9763\n",
      "\n"
     ]
    },
    {
     "name": "stdout",
     "output_type": "stream",
     "text": [
      "Epoch 200, Loss 0.0218\n",
      "Training Accuracy: 0.9754, Testing Accuracy: 0.9758\n",
      "\n"
     ]
    },
    {
     "name": "stdout",
     "output_type": "stream",
     "text": [
      "Epoch 210, Loss 0.0213\n",
      "Training Accuracy: 0.9758, Testing Accuracy: 0.9753\n",
      "\n"
     ]
    },
    {
     "name": "stdout",
     "output_type": "stream",
     "text": [
      "Epoch 220, Loss 0.0209\n",
      "Training Accuracy: 0.9760, Testing Accuracy: 0.9748\n",
      "\n"
     ]
    },
    {
     "name": "stdout",
     "output_type": "stream",
     "text": [
      "Epoch 230, Loss 0.0204\n",
      "Training Accuracy: 0.9769, Testing Accuracy: 0.9748\n",
      "\n"
     ]
    },
    {
     "name": "stdout",
     "output_type": "stream",
     "text": [
      "Epoch 240, Loss 0.02\n",
      "Training Accuracy: 0.9776, Testing Accuracy: 0.9748\n",
      "\n"
     ]
    },
    {
     "name": "stdout",
     "output_type": "stream",
     "text": [
      "Epoch 250, Loss 0.0196\n",
      "Training Accuracy: 0.9780, Testing Accuracy: 0.9743\n",
      "\n"
     ]
    },
    {
     "data": {
      "text/plain": [
       "0.0045935733128036884"
      ]
     },
     "execution_count": 20,
     "metadata": {},
     "output_type": "execute_result"
    }
   ],
   "source": [
    "print(\"====== Neural Network ======\")\n",
    "learner_nn.train_loop(dl)"
   ]
  },
  {
   "cell_type": "markdown",
   "metadata": {
    "papermill": {
     "duration": 0.032761,
     "end_time": "2020-12-25T20:05:12.679771",
     "exception": false,
     "start_time": "2020-12-25T20:05:12.647010",
     "status": "completed"
    },
    "tags": []
   },
   "source": [
    "### Logistic Regression based Implementation."
   ]
  },
  {
   "cell_type": "code",
   "execution_count": 21,
   "metadata": {
    "execution": {
     "iopub.execute_input": "2020-12-25T20:05:12.751965Z",
     "iopub.status.busy": "2020-12-25T20:05:12.751426Z",
     "iopub.status.idle": "2020-12-25T20:05:12.762462Z",
     "shell.execute_reply": "2020-12-25T20:05:12.762012Z"
    },
    "papermill": {
     "duration": 0.050252,
     "end_time": "2020-12-25T20:05:12.762583",
     "exception": false,
     "start_time": "2020-12-25T20:05:12.712331",
     "status": "completed"
    },
    "tags": []
   },
   "outputs": [],
   "source": [
    "learner_lr = Learner(loss, model_lr, opt, config.num_epochs)\n",
    "acc_lr = ClfCallback(learner_lr, config.bs, training_xdata , testing_xdata, training_ydata, testing_ydata)\n",
    "learner_lr.set_callbacks([acc_lr])"
   ]
  },
  {
   "cell_type": "code",
   "execution_count": 22,
   "metadata": {
    "execution": {
     "iopub.execute_input": "2020-12-25T20:05:12.831973Z",
     "iopub.status.busy": "2020-12-25T20:05:12.831452Z",
     "iopub.status.idle": "2020-12-25T20:05:26.539291Z",
     "shell.execute_reply": "2020-12-25T20:05:26.539704Z"
    },
    "papermill": {
     "duration": 13.744277,
     "end_time": "2020-12-25T20:05:26.539849",
     "exception": false,
     "start_time": "2020-12-25T20:05:12.795572",
     "status": "completed"
    },
    "tags": []
   },
   "outputs": [
    {
     "name": "stdout",
     "output_type": "stream",
     "text": [
      "====== Logistic Regression ======\n",
      "Epoch 0, Loss 0.2173\n",
      "Training Accuracy: 0.7561, Testing Accuracy: 0.7581\n",
      "\n"
     ]
    },
    {
     "name": "stdout",
     "output_type": "stream",
     "text": [
      "Epoch 10, Loss 0.1018\n",
      "Training Accuracy: 0.9066, Testing Accuracy: 0.9133\n",
      "\n"
     ]
    },
    {
     "name": "stdout",
     "output_type": "stream",
     "text": [
      "Epoch 20, Loss 0.0796\n",
      "Training Accuracy: 0.9250, Testing Accuracy: 0.9365\n",
      "\n"
     ]
    },
    {
     "name": "stdout",
     "output_type": "stream",
     "text": [
      "Epoch 30, Loss 0.0688\n",
      "Training Accuracy: 0.9338, Testing Accuracy: 0.9435\n",
      "\n"
     ]
    },
    {
     "name": "stdout",
     "output_type": "stream",
     "text": [
      "Epoch 40, Loss 0.0622\n",
      "Training Accuracy: 0.9391, Testing Accuracy: 0.9476\n",
      "\n"
     ]
    },
    {
     "name": "stdout",
     "output_type": "stream",
     "text": [
      "Epoch 50, Loss 0.0576\n",
      "Training Accuracy: 0.9420, Testing Accuracy: 0.9526\n",
      "\n"
     ]
    },
    {
     "name": "stdout",
     "output_type": "stream",
     "text": [
      "Epoch 60, Loss 0.0543\n",
      "Training Accuracy: 0.9441, Testing Accuracy: 0.9556\n",
      "\n"
     ]
    },
    {
     "name": "stdout",
     "output_type": "stream",
     "text": [
      "Epoch 70, Loss 0.0517\n",
      "Training Accuracy: 0.9461, Testing Accuracy: 0.9561\n",
      "\n"
     ]
    },
    {
     "name": "stdout",
     "output_type": "stream",
     "text": [
      "Epoch 80, Loss 0.0496\n",
      "Training Accuracy: 0.9483, Testing Accuracy: 0.9587\n",
      "\n"
     ]
    },
    {
     "name": "stdout",
     "output_type": "stream",
     "text": [
      "Epoch 90, Loss 0.0479\n",
      "Training Accuracy: 0.9502, Testing Accuracy: 0.9597\n",
      "\n"
     ]
    },
    {
     "name": "stdout",
     "output_type": "stream",
     "text": [
      "Epoch 100, Loss 0.0465\n",
      "Training Accuracy: 0.9514, Testing Accuracy: 0.9607\n",
      "\n"
     ]
    },
    {
     "name": "stdout",
     "output_type": "stream",
     "text": [
      "Epoch 110, Loss 0.0452\n",
      "Training Accuracy: 0.9519, Testing Accuracy: 0.9617\n",
      "\n"
     ]
    },
    {
     "name": "stdout",
     "output_type": "stream",
     "text": [
      "Epoch 120, Loss 0.0441\n",
      "Training Accuracy: 0.9532, Testing Accuracy: 0.9632\n",
      "\n"
     ]
    },
    {
     "name": "stdout",
     "output_type": "stream",
     "text": [
      "Epoch 130, Loss 0.0432\n",
      "Training Accuracy: 0.9538, Testing Accuracy: 0.9637\n",
      "\n"
     ]
    },
    {
     "name": "stdout",
     "output_type": "stream",
     "text": [
      "Epoch 140, Loss 0.0424\n",
      "Training Accuracy: 0.9543, Testing Accuracy: 0.9647\n",
      "\n"
     ]
    },
    {
     "name": "stdout",
     "output_type": "stream",
     "text": [
      "Epoch 150, Loss 0.0416\n",
      "Training Accuracy: 0.9547, Testing Accuracy: 0.9647\n",
      "\n"
     ]
    },
    {
     "name": "stdout",
     "output_type": "stream",
     "text": [
      "Epoch 160, Loss 0.0409\n",
      "Training Accuracy: 0.9553, Testing Accuracy: 0.9652\n",
      "\n"
     ]
    },
    {
     "name": "stdout",
     "output_type": "stream",
     "text": [
      "Epoch 170, Loss 0.0403\n",
      "Training Accuracy: 0.9563, Testing Accuracy: 0.9647\n",
      "\n"
     ]
    },
    {
     "name": "stdout",
     "output_type": "stream",
     "text": [
      "Epoch 180, Loss 0.0397\n",
      "Training Accuracy: 0.9570, Testing Accuracy: 0.9657\n",
      "\n"
     ]
    },
    {
     "name": "stdout",
     "output_type": "stream",
     "text": [
      "Epoch 190, Loss 0.0392\n",
      "Training Accuracy: 0.9574, Testing Accuracy: 0.9657\n",
      "\n"
     ]
    },
    {
     "name": "stdout",
     "output_type": "stream",
     "text": [
      "Epoch 200, Loss 0.0387\n",
      "Training Accuracy: 0.9579, Testing Accuracy: 0.9662\n",
      "\n"
     ]
    },
    {
     "name": "stdout",
     "output_type": "stream",
     "text": [
      "Epoch 210, Loss 0.0383\n",
      "Training Accuracy: 0.9583, Testing Accuracy: 0.9667\n",
      "\n"
     ]
    },
    {
     "name": "stdout",
     "output_type": "stream",
     "text": [
      "Epoch 220, Loss 0.0379\n",
      "Training Accuracy: 0.9589, Testing Accuracy: 0.9662\n",
      "\n"
     ]
    },
    {
     "name": "stdout",
     "output_type": "stream",
     "text": [
      "Epoch 230, Loss 0.0375\n",
      "Training Accuracy: 0.9594, Testing Accuracy: 0.9662\n",
      "\n"
     ]
    },
    {
     "name": "stdout",
     "output_type": "stream",
     "text": [
      "Epoch 240, Loss 0.0371\n",
      "Training Accuracy: 0.9599, Testing Accuracy: 0.9662\n",
      "\n"
     ]
    },
    {
     "name": "stdout",
     "output_type": "stream",
     "text": [
      "Epoch 250, Loss 0.0368\n",
      "Training Accuracy: 0.9601, Testing Accuracy: 0.9657\n",
      "\n"
     ]
    },
    {
     "data": {
      "text/plain": [
       "0.03008642808964093"
      ]
     },
     "execution_count": 22,
     "metadata": {},
     "output_type": "execute_result"
    }
   ],
   "source": [
    "print(\"====== Logistic Regression ======\")\n",
    "learner_lr.train_loop(dl)"
   ]
  },
  {
   "cell_type": "markdown",
   "metadata": {
    "papermill": {
     "duration": 0.039566,
     "end_time": "2020-12-25T20:05:26.619230",
     "exception": false,
     "start_time": "2020-12-25T20:05:26.579664",
     "status": "completed"
    },
    "tags": []
   },
   "source": [
    "### Comparing results of NN and LR"
   ]
  },
  {
   "cell_type": "code",
   "execution_count": 23,
   "metadata": {
    "execution": {
     "iopub.execute_input": "2020-12-25T20:05:26.703193Z",
     "iopub.status.busy": "2020-12-25T20:05:26.702672Z",
     "iopub.status.idle": "2020-12-25T20:05:26.911960Z",
     "shell.execute_reply": "2020-12-25T20:05:26.912414Z"
    },
    "papermill": {
     "duration": 0.253673,
     "end_time": "2020-12-25T20:05:26.912567",
     "exception": false,
     "start_time": "2020-12-25T20:05:26.658894",
     "status": "completed"
    },
    "tags": []
   },
   "outputs": [
    {
     "data": {
      "text/plain": [
       "<matplotlib.legend.Legend at 0x7f846c473be0>"
      ]
     },
     "execution_count": 23,
     "metadata": {},
     "output_type": "execute_result"
    },
    {
     "data": {
      "image/png": "[encoded data removed]",
      "text/plain": [
       "<Figure size 1080x720 with 1 Axes>"
      ]
     },
     "metadata": {
      "needs_background": "light"
     },
     "output_type": "display_data"
    }
   ],
   "source": [
    "plt.figure(figsize=(15,10))\n",
    "\n",
    "# Neural Network plots\n",
    "plt.plot(acc_nn.accuracies, 'r-', label = \"Training Accuracies - NN\")\n",
    "plt.plot(acc_nn.test_accuracies, 'g-', label = \"Testing Accuracies - NN\")\n",
    "\n",
    "# Logistic Regression plots\n",
    "plt.plot(acc_lr.accuracies, 'k-', label = \"Training Accuracies - LR\")\n",
    "plt.plot(acc_lr.test_accuracies, 'b-', label = \"Testing Accuracies - LR\")\n",
    "\n",
    "plt.ylim(0.8, 1)\n",
    "\n",
    "plt.legend()\n",
    "\n"
   ]
  },
  {
   "cell_type": "markdown",
   "metadata": {
    "papermill": {
     "duration": 0.041043,
     "end_time": "2020-12-25T20:05:26.995413",
     "exception": false,
     "start_time": "2020-12-25T20:05:26.954370",
     "status": "completed"
    },
    "tags": []
   },
   "source": [
    "### From the plot, we can observe the following:\n",
    "- Neural Network achieves higher accuracy than the Logistic Regression model.\n",
    "- This apparently, is because of overfitting, i.e. NN captures more noise than data.\n",
    "- Testing accuracy of NN drops below the Training accuracy at higher epochs. This explains the over-fitting on training data.\n",
    "- Logistic Regression gives a reliable accuracy, without the above mentioned problem.\n"
   ]
  },
  {
   "cell_type": "markdown",
   "metadata": {
    "papermill": {
     "duration": 0.04109,
     "end_time": "2020-12-25T20:05:27.077542",
     "exception": false,
     "start_time": "2020-12-25T20:05:27.036452",
     "status": "completed"
    },
    "tags": []
   },
   "source": [
    "### Moving till the last but one layer (excluding it).\n",
    "#### Plotting the outputs of this layer of the NN."
   ]
  },
  {
   "cell_type": "code",
   "execution_count": 24,
   "metadata": {
    "execution": {
     "iopub.execute_input": "2020-12-25T20:05:27.169616Z",
     "iopub.status.busy": "2020-12-25T20:05:27.169015Z",
     "iopub.status.idle": "2020-12-25T20:05:27.177046Z",
     "shell.execute_reply": "2020-12-25T20:05:27.177435Z"
    },
    "papermill": {
     "duration": 0.058775,
     "end_time": "2020-12-25T20:05:27.177571",
     "exception": false,
     "start_time": "2020-12-25T20:05:27.118796",
     "status": "completed"
    },
    "tags": []
   },
   "outputs": [],
   "source": [
    "model_new = Model(layers[:-2])"
   ]
  },
  {
   "cell_type": "code",
   "execution_count": 25,
   "metadata": {
    "execution": {
     "iopub.execute_input": "2020-12-25T20:05:27.278037Z",
     "iopub.status.busy": "2020-12-25T20:05:27.277485Z",
     "iopub.status.idle": "2020-12-25T20:05:27.288896Z",
     "shell.execute_reply": "2020-12-25T20:05:27.289327Z"
    },
    "papermill": {
     "duration": 0.070478,
     "end_time": "2020-12-25T20:05:27.289460",
     "exception": false,
     "start_time": "2020-12-25T20:05:27.218982",
     "status": "completed"
    },
    "tags": []
   },
   "outputs": [],
   "source": [
    "plot_testing = model_new(testing_xdata)"
   ]
  },
  {
   "cell_type": "code",
   "execution_count": 26,
   "metadata": {
    "execution": {
     "iopub.execute_input": "2020-12-25T20:05:27.383466Z",
     "iopub.status.busy": "2020-12-25T20:05:27.382956Z",
     "iopub.status.idle": "2020-12-25T20:05:27.563620Z",
     "shell.execute_reply": "2020-12-25T20:05:27.564029Z"
    },
    "papermill": {
     "duration": 0.232815,
     "end_time": "2020-12-25T20:05:27.564176",
     "exception": false,
     "start_time": "2020-12-25T20:05:27.331361",
     "status": "completed"
    },
    "tags": []
   },
   "outputs": [
    {
     "data": {
      "text/plain": [
       "Text(0.5, 1.0, 'Outputs')"
      ]
     },
     "execution_count": 26,
     "metadata": {},
     "output_type": "execute_result"
    },
    {
     "data": {
      "image/png": "[encoded data removed]",
      "text/plain": [
       "<Figure size 576x504 with 1 Axes>"
      ]
     },
     "metadata": {
      "needs_background": "light"
     },
     "output_type": "display_data"
    }
   ],
   "source": [
    "plt.figure(figsize=(8,7))\n",
    "plt.scatter(plot_testing[:,0], plot_testing[:,1], alpha = 0.1, c = y_test.ravel());\n",
    "plt.title('Outputs')"
   ]
  },
  {
   "cell_type": "markdown",
   "metadata": {
    "papermill": {
     "duration": 0.044027,
     "end_time": "2020-12-25T20:05:27.652445",
     "exception": false,
     "start_time": "2020-12-25T20:05:27.608418",
     "status": "completed"
    },
    "tags": []
   },
   "source": [
    "### Plotting probability contours"
   ]
  },
  {
   "cell_type": "code",
   "execution_count": 27,
   "metadata": {
    "execution": {
     "iopub.execute_input": "2020-12-25T20:05:27.751381Z",
     "iopub.status.busy": "2020-12-25T20:05:27.750848Z",
     "iopub.status.idle": "2020-12-25T20:05:27.759747Z",
     "shell.execute_reply": "2020-12-25T20:05:27.759302Z"
    },
    "papermill": {
     "duration": 0.063278,
     "end_time": "2020-12-25T20:05:27.759863",
     "exception": false,
     "start_time": "2020-12-25T20:05:27.696585",
     "status": "completed"
    },
    "tags": []
   },
   "outputs": [],
   "source": [
    "model_prob = Model(layers[-2:]) "
   ]
  },
  {
   "cell_type": "code",
   "execution_count": 28,
   "metadata": {
    "execution": {
     "iopub.execute_input": "2020-12-25T20:05:27.867945Z",
     "iopub.status.busy": "2020-12-25T20:05:27.867137Z",
     "iopub.status.idle": "2020-12-25T20:05:27.875053Z",
     "shell.execute_reply": "2020-12-25T20:05:27.874177Z"
    },
    "papermill": {
     "duration": 0.070859,
     "end_time": "2020-12-25T20:05:27.875172",
     "exception": false,
     "start_time": "2020-12-25T20:05:27.804313",
     "status": "completed"
    },
    "tags": []
   },
   "outputs": [],
   "source": [
    "# Adjust the x and y ranges according to the above generated plot.\n",
    "x_range = np.linspace(-4, 1, 100) \n",
    "y_range = np.linspace(-6, 6, 100) \n",
    "x_grid, y_grid = np.meshgrid(x_range, y_range) # x_grid and y_grig are of size 100 X 100\n",
    "\n",
    "# converting x_grid and y_grid to continuous arrays\n",
    "x_grid_flat = np.ravel(x_grid)\n",
    "y_grid_flat = np.ravel(y_grid)\n",
    "\n",
    "# The last layer of the current model takes two columns as input. Hence transpose of np.vstack() is required.\n",
    "X = np.vstack((x_grid_flat, y_grid_flat)).T\n",
    "\n",
    "# x_grid and y_grid are of size 100 x 100\n",
    "probability_contour = model_prob(X).reshape(100,100) "
   ]
  },
  {
   "cell_type": "code",
   "execution_count": 29,
   "metadata": {
    "execution": {
     "iopub.execute_input": "2020-12-25T20:05:28.005447Z",
     "iopub.status.busy": "2020-12-25T20:05:28.002274Z",
     "iopub.status.idle": "2020-12-25T20:05:28.216172Z",
     "shell.execute_reply": "2020-12-25T20:05:28.216829Z"
    },
    "papermill": {
     "duration": 0.297181,
     "end_time": "2020-12-25T20:05:28.216977",
     "exception": false,
     "start_time": "2020-12-25T20:05:27.919796",
     "status": "completed"
    },
    "tags": []
   },
   "outputs": [
    {
     "data": {
      "image/png": "[encoded data removed]",
      "text/plain": [
       "<Figure size 720x648 with 1 Axes>"
      ]
     },
     "metadata": {
      "needs_background": "light"
     },
     "output_type": "display_data"
    }
   ],
   "source": [
    "plt.figure(figsize=(10,9))\n",
    "plt.scatter(plot_testing[:,0], plot_testing[:,1], alpha = 0.1, c = y_test.ravel())\n",
    "contours = plt.contour(x_grid,y_grid,probability_contour)\n",
    "plt.title('Probability Contours')\n",
    "plt.clabel(contours, inline = True );"
   ]
  }
 ],
 "metadata": {
  "kernelspec": {
   "display_name": "Python 3",
   "language": "python",
   "name": "python3"
  },
  "language_info": {
   "codemirror_mode": {
    "name": "ipython",
    "version": 3
   },
   "file_extension": ".py",
   "mimetype": "text/x-python",
   "name": "python",
   "nbconvert_exporter": "python",
   "pygments_lexer": "ipython3",
   "version": "3.6.12"
  },
  "papermill": {
   "duration": 99.092937,
   "end_time": "2020-12-25T20:05:28.671008",
   "environment_variables": {},
   "exception": null,
   "input_path": "2020-08-11-NeuralNetwork.ipynb",
   "output_path": "2020-08-11-NeuralNetwork.ipynb",
   "parameters": {},
   "start_time": "2020-12-25T20:03:49.578071",
   "version": "2.1.2"
  }
 },
 "nbformat": 4,
 "nbformat_minor": 4
}