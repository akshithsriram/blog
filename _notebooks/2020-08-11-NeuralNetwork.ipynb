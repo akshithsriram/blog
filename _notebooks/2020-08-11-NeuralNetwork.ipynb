{
 "cells": [
  {
   "cell_type": "markdown",
   "metadata": {
    "papermill": {
     "duration": 0.033058,
     "end_time": "2020-12-02T00:06:19.898478",
     "exception": false,
     "start_time": "2020-12-02T00:06:19.865420",
     "status": "completed"
    },
    "tags": []
   },
   "source": [
    "# \"A Basic Neural Network: Differentiate Hand-Written Digits\"\n",
    "\n",
    "- badges: true\n",
    "- author: Akshith Sriram"
   ]
  },
  {
   "cell_type": "markdown",
   "metadata": {
    "papermill": {
     "duration": 0.029462,
     "end_time": "2020-12-02T00:06:19.957599",
     "exception": false,
     "start_time": "2020-12-02T00:06:19.928137",
     "status": "completed"
    },
    "tags": []
   },
   "source": [
    "### Key Objectives:\n",
    "- Building a neural network that differentiates two hand-written digits 3 and 8.\n",
    "- Comparing the results of this Neural Network (NN) to that of a Logistic Regression (LR) model.\n",
    "\n",
    "### Requirements:\n",
    "- 'Kudzu' : A neural network library that was designed during our course by [Univ.AI](www.univ.ai). \n",
    "- MNIST Database\n",
    "\n",
    "If MNIST is not installed, use the command `!pip install mnist` given below.\n",
    "It can be run both from the command line and Jupyter Notebook."
   ]
  },
  {
   "cell_type": "code",
   "execution_count": 1,
   "metadata": {
    "execution": {
     "iopub.execute_input": "2020-12-02T00:06:20.020252Z",
     "iopub.status.busy": "2020-12-02T00:06:20.019541Z",
     "iopub.status.idle": "2020-12-02T00:06:21.840537Z",
     "shell.execute_reply": "2020-12-02T00:06:21.841171Z"
    },
    "papermill": {
     "duration": 1.856184,
     "end_time": "2020-12-02T00:06:21.841508",
     "exception": false,
     "start_time": "2020-12-02T00:06:19.985324",
     "status": "completed"
    },
    "tags": []
   },
   "outputs": [
    {
     "name": "stdout",
     "output_type": "stream",
     "text": [
      "Collecting mnist\r\n"
     ]
    },
    {
     "name": "stdout",
     "output_type": "stream",
     "text": [
      "  Downloading mnist-0.2.2-py2.py3-none-any.whl (3.5 kB)\r\n"
     ]
    },
    {
     "name": "stdout",
     "output_type": "stream",
     "text": [
      "Requirement already satisfied: numpy in /opt/hostedtoolcache/Python/3.6.12/x64/lib/python3.6/site-packages (from mnist) (1.19.4)\r\n"
     ]
    },
    {
     "name": "stdout",
     "output_type": "stream",
     "text": [
      "Installing collected packages: mnist\r\n",
      "Successfully installed mnist-0.2.2\r\n"
     ]
    },
    {
     "name": "stdout",
     "output_type": "stream",
     "text": [
      "\u001b[33mWARNING: You are using pip version 20.2.4; however, version 20.3 is available.\r\n",
      "You should consider upgrading via the '/opt/hostedtoolcache/Python/3.6.12/x64/bin/python -m pip install --upgrade pip' command.\u001b[0m\r\n"
     ]
    }
   ],
   "source": [
    "!pip install mnist "
   ]
  },
  {
   "cell_type": "markdown",
   "metadata": {
    "papermill": {
     "duration": 0.030684,
     "end_time": "2020-12-02T00:06:21.904404",
     "exception": false,
     "start_time": "2020-12-02T00:06:21.873720",
     "status": "completed"
    },
    "tags": []
   },
   "source": [
    "#### Importing necessary libraries"
   ]
  },
  {
   "cell_type": "code",
   "execution_count": 2,
   "metadata": {
    "execution": {
     "iopub.execute_input": "2020-12-02T00:06:21.974276Z",
     "iopub.status.busy": "2020-12-02T00:06:21.973596Z",
     "iopub.status.idle": "2020-12-02T00:06:22.609806Z",
     "shell.execute_reply": "2020-12-02T00:06:22.610303Z"
    },
    "papermill": {
     "duration": 0.674812,
     "end_time": "2020-12-02T00:06:22.610474",
     "exception": false,
     "start_time": "2020-12-02T00:06:21.935662",
     "status": "completed"
    },
    "tags": []
   },
   "outputs": [],
   "source": [
    "%load_ext autoreload\n",
    "%autoreload 2\n",
    "\n",
    "%matplotlib inline\n",
    "import matplotlib.pyplot as plt\n",
    "\n",
    "import numpy as np\n",
    "import pandas as pd"
   ]
  },
  {
   "cell_type": "markdown",
   "metadata": {
    "papermill": {
     "duration": 0.031211,
     "end_time": "2020-12-02T00:06:22.672231",
     "exception": false,
     "start_time": "2020-12-02T00:06:22.641020",
     "status": "completed"
    },
    "tags": []
   },
   "source": [
    "### Preparing the Data"
   ]
  },
  {
   "cell_type": "code",
   "execution_count": 3,
   "metadata": {
    "execution": {
     "iopub.execute_input": "2020-12-02T00:06:22.736535Z",
     "iopub.status.busy": "2020-12-02T00:06:22.735905Z",
     "iopub.status.idle": "2020-12-02T00:06:22.749287Z",
     "shell.execute_reply": "2020-12-02T00:06:22.748727Z"
    },
    "papermill": {
     "duration": 0.047673,
     "end_time": "2020-12-02T00:06:22.749427",
     "exception": false,
     "start_time": "2020-12-02T00:06:22.701754",
     "status": "completed"
    },
    "tags": []
   },
   "outputs": [],
   "source": [
    "import mnist"
   ]
  },
  {
   "cell_type": "code",
   "execution_count": 4,
   "metadata": {
    "execution": {
     "iopub.execute_input": "2020-12-02T00:06:22.814987Z",
     "iopub.status.busy": "2020-12-02T00:06:22.814274Z",
     "iopub.status.idle": "2020-12-02T00:06:23.668779Z",
     "shell.execute_reply": "2020-12-02T00:06:23.667719Z"
    },
    "papermill": {
     "duration": 0.888549,
     "end_time": "2020-12-02T00:06:23.668923",
     "exception": false,
     "start_time": "2020-12-02T00:06:22.780374",
     "status": "completed"
    },
    "tags": []
   },
   "outputs": [],
   "source": [
    "train_images = mnist.train_images()\n",
    "train_labels = mnist.train_labels()"
   ]
  },
  {
   "cell_type": "code",
   "execution_count": 5,
   "metadata": {
    "execution": {
     "iopub.execute_input": "2020-12-02T00:06:23.731704Z",
     "iopub.status.busy": "2020-12-02T00:06:23.730856Z",
     "iopub.status.idle": "2020-12-02T00:06:23.746227Z",
     "shell.execute_reply": "2020-12-02T00:06:23.746902Z"
    },
    "papermill": {
     "duration": 0.048509,
     "end_time": "2020-12-02T00:06:23.747103",
     "exception": false,
     "start_time": "2020-12-02T00:06:23.698594",
     "status": "completed"
    },
    "tags": []
   },
   "outputs": [
    {
     "data": {
      "text/plain": [
       "((60000, 28, 28), (60000,))"
      ]
     },
     "execution_count": 5,
     "metadata": {},
     "output_type": "execute_result"
    }
   ],
   "source": [
    "train_images.shape, train_labels.shape"
   ]
  },
  {
   "cell_type": "code",
   "execution_count": 6,
   "metadata": {
    "execution": {
     "iopub.execute_input": "2020-12-02T00:06:23.811574Z",
     "iopub.status.busy": "2020-12-02T00:06:23.810803Z",
     "iopub.status.idle": "2020-12-02T00:06:24.066231Z",
     "shell.execute_reply": "2020-12-02T00:06:24.065600Z"
    },
    "papermill": {
     "duration": 0.288863,
     "end_time": "2020-12-02T00:06:24.066387",
     "exception": false,
     "start_time": "2020-12-02T00:06:23.777524",
     "status": "completed"
    },
    "tags": []
   },
   "outputs": [],
   "source": [
    "test_images = mnist.test_images()\n",
    "test_labels = mnist.test_labels()"
   ]
  },
  {
   "cell_type": "code",
   "execution_count": 7,
   "metadata": {
    "execution": {
     "iopub.execute_input": "2020-12-02T00:06:24.131175Z",
     "iopub.status.busy": "2020-12-02T00:06:24.130555Z",
     "iopub.status.idle": "2020-12-02T00:06:24.144319Z",
     "shell.execute_reply": "2020-12-02T00:06:24.143740Z"
    },
    "papermill": {
     "duration": 0.047768,
     "end_time": "2020-12-02T00:06:24.144450",
     "exception": false,
     "start_time": "2020-12-02T00:06:24.096682",
     "status": "completed"
    },
    "tags": []
   },
   "outputs": [
    {
     "data": {
      "text/plain": [
       "((10000, 28, 28), (10000,))"
      ]
     },
     "execution_count": 7,
     "metadata": {},
     "output_type": "execute_result"
    }
   ],
   "source": [
    "test_images.shape, test_labels.shape"
   ]
  },
  {
   "cell_type": "code",
   "execution_count": 8,
   "metadata": {
    "execution": {
     "iopub.execute_input": "2020-12-02T00:06:24.214221Z",
     "iopub.status.busy": "2020-12-02T00:06:24.213580Z",
     "iopub.status.idle": "2020-12-02T00:06:24.391689Z",
     "shell.execute_reply": "2020-12-02T00:06:24.391133Z"
    },
    "papermill": {
     "duration": 0.215631,
     "end_time": "2020-12-02T00:06:24.391841",
     "exception": false,
     "start_time": "2020-12-02T00:06:24.176210",
     "status": "completed"
    },
    "tags": []
   },
   "outputs": [
    {
     "name": "stdout",
     "output_type": "stream",
     "text": [
      "2\n"
     ]
    },
    {
     "data": {
      "text/plain": [
       "<matplotlib.image.AxesImage at 0x7f6d04d3f080>"
      ]
     },
     "execution_count": 8,
     "metadata": {},
     "output_type": "execute_result"
    },
    {
     "data": {
      "image/png": "[encoded data removed]",
      "text/plain": [
       "<Figure size 432x288 with 1 Axes>"
      ]
     },
     "metadata": {
      "needs_background": "light"
     },
     "output_type": "display_data"
    }
   ],
   "source": [
    "image_index = 7776 # You may select anything up to 60,000\n",
    "print(train_labels[image_index]) \n",
    "plt.imshow(train_images[image_index], cmap='Greys')"
   ]
  },
  {
   "cell_type": "markdown",
   "metadata": {
    "papermill": {
     "duration": 0.036671,
     "end_time": "2020-12-02T00:06:24.462776",
     "exception": false,
     "start_time": "2020-12-02T00:06:24.426105",
     "status": "completed"
    },
    "tags": []
   },
   "source": [
    "## Filter data to get 3 and 8 out"
   ]
  },
  {
   "cell_type": "code",
   "execution_count": 9,
   "metadata": {
    "execution": {
     "iopub.execute_input": "2020-12-02T00:06:24.536803Z",
     "iopub.status.busy": "2020-12-02T00:06:24.536105Z",
     "iopub.status.idle": "2020-12-02T00:06:24.556099Z",
     "shell.execute_reply": "2020-12-02T00:06:24.555550Z"
    },
    "papermill": {
     "duration": 0.057632,
     "end_time": "2020-12-02T00:06:24.556241",
     "exception": false,
     "start_time": "2020-12-02T00:06:24.498609",
     "status": "completed"
    },
    "tags": []
   },
   "outputs": [],
   "source": [
    "train_filter = np.where((train_labels == 3 ) | (train_labels == 8))\n",
    "test_filter = np.where((test_labels == 3) | (test_labels == 8))\n",
    "X_train, y_train = train_images[train_filter], train_labels[train_filter]\n",
    "X_test, y_test = test_images[test_filter], test_labels[test_filter]"
   ]
  },
  {
   "cell_type": "markdown",
   "metadata": {
    "papermill": {
     "duration": 0.031983,
     "end_time": "2020-12-02T00:06:24.621087",
     "exception": false,
     "start_time": "2020-12-02T00:06:24.589104",
     "status": "completed"
    },
    "tags": []
   },
   "source": [
    "We normalize the pixel values in the 0 to 1 range"
   ]
  },
  {
   "cell_type": "code",
   "execution_count": 10,
   "metadata": {
    "execution": {
     "iopub.execute_input": "2020-12-02T00:06:24.690525Z",
     "iopub.status.busy": "2020-12-02T00:06:24.689850Z",
     "iopub.status.idle": "2020-12-02T00:06:24.754992Z",
     "shell.execute_reply": "2020-12-02T00:06:24.754366Z"
    },
    "papermill": {
     "duration": 0.101898,
     "end_time": "2020-12-02T00:06:24.755136",
     "exception": false,
     "start_time": "2020-12-02T00:06:24.653238",
     "status": "completed"
    },
    "tags": []
   },
   "outputs": [],
   "source": [
    "X_train = X_train/255.\n",
    "X_test = X_test/255."
   ]
  },
  {
   "cell_type": "markdown",
   "metadata": {
    "papermill": {
     "duration": 0.031234,
     "end_time": "2020-12-02T00:06:24.819382",
     "exception": false,
     "start_time": "2020-12-02T00:06:24.788148",
     "status": "completed"
    },
    "tags": []
   },
   "source": [
    "Setup the labels as 1 (when the digit is 3) and 0 (when the digit is 8)"
   ]
  },
  {
   "cell_type": "code",
   "execution_count": 11,
   "metadata": {
    "execution": {
     "iopub.execute_input": "2020-12-02T00:06:24.893702Z",
     "iopub.status.busy": "2020-12-02T00:06:24.885889Z",
     "iopub.status.idle": "2020-12-02T00:06:24.899091Z",
     "shell.execute_reply": "2020-12-02T00:06:24.898591Z"
    },
    "papermill": {
     "duration": 0.049977,
     "end_time": "2020-12-02T00:06:24.899226",
     "exception": false,
     "start_time": "2020-12-02T00:06:24.849249",
     "status": "completed"
    },
    "tags": []
   },
   "outputs": [],
   "source": [
    "y_train = 1*(y_train==3)\n",
    "y_test = 1*(y_test==3)"
   ]
  },
  {
   "cell_type": "code",
   "execution_count": 12,
   "metadata": {
    "execution": {
     "iopub.execute_input": "2020-12-02T00:06:24.973356Z",
     "iopub.status.busy": "2020-12-02T00:06:24.972662Z",
     "iopub.status.idle": "2020-12-02T00:06:24.987416Z",
     "shell.execute_reply": "2020-12-02T00:06:24.988269Z"
    },
    "papermill": {
     "duration": 0.057475,
     "end_time": "2020-12-02T00:06:24.988527",
     "exception": false,
     "start_time": "2020-12-02T00:06:24.931052",
     "status": "completed"
    },
    "tags": []
   },
   "outputs": [
    {
     "data": {
      "text/plain": [
       "((11982, 28, 28), (1984, 28, 28))"
      ]
     },
     "execution_count": 12,
     "metadata": {},
     "output_type": "execute_result"
    }
   ],
   "source": [
    "X_train.shape, X_test.shape"
   ]
  },
  {
   "cell_type": "markdown",
   "metadata": {
    "papermill": {
     "duration": 0.031863,
     "end_time": "2020-12-02T00:06:25.055764",
     "exception": false,
     "start_time": "2020-12-02T00:06:25.023901",
     "status": "completed"
    },
    "tags": []
   },
   "source": [
    "### Reshape the input data to create a linear array"
   ]
  },
  {
   "cell_type": "code",
   "execution_count": 13,
   "metadata": {
    "execution": {
     "iopub.execute_input": "2020-12-02T00:06:25.131691Z",
     "iopub.status.busy": "2020-12-02T00:06:25.130889Z",
     "iopub.status.idle": "2020-12-02T00:06:25.144416Z",
     "shell.execute_reply": "2020-12-02T00:06:25.144984Z"
    },
    "papermill": {
     "duration": 0.053432,
     "end_time": "2020-12-02T00:06:25.145131",
     "exception": false,
     "start_time": "2020-12-02T00:06:25.091699",
     "status": "completed"
    },
    "tags": []
   },
   "outputs": [
    {
     "data": {
      "text/plain": [
       "((11982, 784), (1984, 784))"
      ]
     },
     "execution_count": 13,
     "metadata": {},
     "output_type": "execute_result"
    }
   ],
   "source": [
    "X_train = X_train.reshape(X_train.shape[0], -1)\n",
    "X_test = X_test.reshape(X_test.shape[0], -1)\n",
    "X_train.shape, X_test.shape"
   ]
  },
  {
   "cell_type": "markdown",
   "metadata": {
    "papermill": {
     "duration": 0.032612,
     "end_time": "2020-12-02T00:06:25.209925",
     "exception": false,
     "start_time": "2020-12-02T00:06:25.177313",
     "status": "completed"
    },
    "tags": []
   },
   "source": [
    "### Importing appropriate functions from 'Kudzu'"
   ]
  },
  {
   "cell_type": "code",
   "execution_count": 14,
   "metadata": {
    "execution": {
     "iopub.execute_input": "2020-12-02T00:06:25.280658Z",
     "iopub.status.busy": "2020-12-02T00:06:25.280010Z",
     "iopub.status.idle": "2020-12-02T00:06:25.300894Z",
     "shell.execute_reply": "2020-12-02T00:06:25.301629Z"
    },
    "papermill": {
     "duration": 0.059924,
     "end_time": "2020-12-02T00:06:25.301797",
     "exception": false,
     "start_time": "2020-12-02T00:06:25.241873",
     "status": "completed"
    },
    "tags": []
   },
   "outputs": [],
   "source": [
    "from kudzu.layer import Sigmoid\n",
    "from kudzu.layer import Relu\n",
    "from kudzu.layer import Affine, Sigmoid\n",
    "\n",
    "from kudzu.model import Model\n",
    "from kudzu.train import Learner\n",
    "from kudzu.optim import GD\n",
    "from kudzu.data import Data, Dataloader, Sampler\n",
    "\n",
    "from kudzu.callbacks import AccCallback\n",
    "from kudzu.callbacks import ClfCallback\n",
    "\n",
    "from kudzu.loss import MSE"
   ]
  },
  {
   "cell_type": "markdown",
   "metadata": {
    "papermill": {
     "duration": 0.032034,
     "end_time": "2020-12-02T00:06:25.366129",
     "exception": false,
     "start_time": "2020-12-02T00:06:25.334095",
     "status": "completed"
    },
    "tags": []
   },
   "source": [
    "### Let us create a `Config` class, to store important parameters. \n",
    "This class essentially plays the role of a dictionary."
   ]
  },
  {
   "cell_type": "code",
   "execution_count": 15,
   "metadata": {
    "execution": {
     "iopub.execute_input": "2020-12-02T00:06:25.436654Z",
     "iopub.status.busy": "2020-12-02T00:06:25.435976Z",
     "iopub.status.idle": "2020-12-02T00:06:25.449262Z",
     "shell.execute_reply": "2020-12-02T00:06:25.448752Z"
    },
    "papermill": {
     "duration": 0.051435,
     "end_time": "2020-12-02T00:06:25.449442",
     "exception": false,
     "start_time": "2020-12-02T00:06:25.398007",
     "status": "completed"
    },
    "tags": []
   },
   "outputs": [],
   "source": [
    "class Config:\n",
    "    pass\n",
    "config = Config()\n",
    "config.lr = 0.001\n",
    "config.num_epochs = 251\n",
    "config.bs = 50"
   ]
  },
  {
   "cell_type": "markdown",
   "metadata": {
    "papermill": {
     "duration": 0.037535,
     "end_time": "2020-12-02T00:06:25.519519",
     "exception": false,
     "start_time": "2020-12-02T00:06:25.481984",
     "status": "completed"
    },
    "tags": []
   },
   "source": [
    "### Initializing data to the variables"
   ]
  },
  {
   "cell_type": "code",
   "execution_count": 16,
   "metadata": {
    "execution": {
     "iopub.execute_input": "2020-12-02T00:06:25.691961Z",
     "iopub.status.busy": "2020-12-02T00:06:25.690527Z",
     "iopub.status.idle": "2020-12-02T00:06:25.709359Z",
     "shell.execute_reply": "2020-12-02T00:06:25.709860Z"
    },
    "papermill": {
     "duration": 0.155224,
     "end_time": "2020-12-02T00:06:25.710028",
     "exception": false,
     "start_time": "2020-12-02T00:06:25.554804",
     "status": "completed"
    },
    "tags": []
   },
   "outputs": [],
   "source": [
    "data = Data(X_train, y_train.reshape(-1,1))\n",
    "sampler = Sampler(data, config.bs, shuffle=True)\n",
    "\n",
    "dl = Dataloader(data, sampler)\n",
    "\n",
    "opt = GD(config.lr)\n",
    "loss = MSE()"
   ]
  },
  {
   "cell_type": "code",
   "execution_count": 17,
   "metadata": {
    "execution": {
     "iopub.execute_input": "2020-12-02T00:06:25.941131Z",
     "iopub.status.busy": "2020-12-02T00:06:25.940547Z",
     "iopub.status.idle": "2020-12-02T00:06:25.952677Z",
     "shell.execute_reply": "2020-12-02T00:06:25.953251Z"
    },
    "papermill": {
     "duration": 0.072541,
     "end_time": "2020-12-02T00:06:25.953394",
     "exception": false,
     "start_time": "2020-12-02T00:06:25.880853",
     "status": "completed"
    },
    "tags": []
   },
   "outputs": [],
   "source": [
    "training_xdata = X_train\n",
    "testing_xdata = X_test\n",
    "training_ydata = y_train.reshape(-1,1)\n",
    "testing_ydata = y_test.reshape(-1,1)"
   ]
  },
  {
   "cell_type": "markdown",
   "metadata": {
    "papermill": {
     "duration": 0.032949,
     "end_time": "2020-12-02T00:06:26.018546",
     "exception": false,
     "start_time": "2020-12-02T00:06:25.985597",
     "status": "completed"
    },
    "tags": []
   },
   "source": [
    "### Running Models with the Training data\n",
    "Details about the network layers:\n",
    "- A first affine layer has 784 inputs and does 100 affine transforms. These are followed by a Relu\n",
    "- A second affine layer has 100 inputs from the 100 activations of the past layer, and does 100 affine transforms. These are followed by a Relu\n",
    "- A third affine layer has 100 activations and does 2 affine transformations to create an embedding for visualization. There is no non-linearity here.\n",
    "- A final \"logistic regression\" which has an affine transform from 2 inputs to 1 output, which is squeezed through a sigmoid.\n",
    "\n",
    "Help taken from Anshuman's Notebook."
   ]
  },
  {
   "cell_type": "code",
   "execution_count": 18,
   "metadata": {
    "execution": {
     "iopub.execute_input": "2020-12-02T00:06:26.090148Z",
     "iopub.status.busy": "2020-12-02T00:06:26.089502Z",
     "iopub.status.idle": "2020-12-02T00:06:26.107918Z",
     "shell.execute_reply": "2020-12-02T00:06:26.108481Z"
    },
    "papermill": {
     "duration": 0.056727,
     "end_time": "2020-12-02T00:06:26.108665",
     "exception": false,
     "start_time": "2020-12-02T00:06:26.051938",
     "status": "completed"
    },
    "tags": []
   },
   "outputs": [],
   "source": [
    "# layers for the Neural Network\n",
    "layers = [Affine(\"first\", 784, 100), Relu(\"first\"), Affine(\"second\", 100, 100), Relu(\"second\"), Affine(\"third\", 100, 2), Affine(\"final\", 2, 1), Sigmoid(\"final\")]\n",
    "model_nn = Model(layers)\n",
    "\n",
    "# layers for the Logistic Regression\n",
    "layers_lr = [Affine(\"logits\", 784, 1), Sigmoid(\"sigmoid\")]\n",
    "model_lr = Model(layers_lr)"
   ]
  },
  {
   "cell_type": "code",
   "execution_count": 19,
   "metadata": {
    "execution": {
     "iopub.execute_input": "2020-12-02T00:06:26.174982Z",
     "iopub.status.busy": "2020-12-02T00:06:26.174236Z",
     "iopub.status.idle": "2020-12-02T00:06:26.187308Z",
     "shell.execute_reply": "2020-12-02T00:06:26.187872Z"
    },
    "papermill": {
     "duration": 0.047579,
     "end_time": "2020-12-02T00:06:26.188048",
     "exception": false,
     "start_time": "2020-12-02T00:06:26.140469",
     "status": "completed"
    },
    "tags": []
   },
   "outputs": [],
   "source": [
    "# suffix _nn stands for Neural Network.\n",
    "learner_nn = Learner(loss, model_nn, opt, config.num_epochs)\n",
    "acc_nn = ClfCallback(learner_nn, config.bs, training_xdata , testing_xdata, training_ydata, testing_ydata)\n",
    "learner_nn.set_callbacks([acc_nn])"
   ]
  },
  {
   "cell_type": "code",
   "execution_count": 20,
   "metadata": {
    "execution": {
     "iopub.execute_input": "2020-12-02T00:06:26.254414Z",
     "iopub.status.busy": "2020-12-02T00:06:26.253816Z",
     "iopub.status.idle": "2020-12-02T00:08:45.004039Z",
     "shell.execute_reply": "2020-12-02T00:08:45.004989Z"
    },
    "papermill": {
     "duration": 138.785888,
     "end_time": "2020-12-02T00:08:45.005192",
     "exception": false,
     "start_time": "2020-12-02T00:06:26.219304",
     "status": "completed"
    },
    "tags": []
   },
   "outputs": [
    {
     "name": "stdout",
     "output_type": "stream",
     "text": [
      "====== Neural Network ======\n"
     ]
    },
    {
     "name": "stdout",
     "output_type": "stream",
     "text": [
      "Epoch 0, Loss 0.238\n",
      "Training Accuracy: 0.7447, Testing Accuracy: 0.7646\n",
      "\n"
     ]
    },
    {
     "name": "stdout",
     "output_type": "stream",
     "text": [
      "Epoch 10, Loss 0.0605\n",
      "Training Accuracy: 0.9382, Testing Accuracy: 0.9456\n",
      "\n"
     ]
    },
    {
     "name": "stdout",
     "output_type": "stream",
     "text": [
      "Epoch 20, Loss 0.0421\n",
      "Training Accuracy: 0.9538, Testing Accuracy: 0.9612\n",
      "\n"
     ]
    },
    {
     "name": "stdout",
     "output_type": "stream",
     "text": [
      "Epoch 30, Loss 0.0354\n",
      "Training Accuracy: 0.9606, Testing Accuracy: 0.9682\n",
      "\n"
     ]
    },
    {
     "name": "stdout",
     "output_type": "stream",
     "text": [
      "Epoch 40, Loss 0.0317\n",
      "Training Accuracy: 0.9643, Testing Accuracy: 0.9688\n",
      "\n"
     ]
    },
    {
     "name": "stdout",
     "output_type": "stream",
     "text": [
      "Epoch 50, Loss 0.0293\n",
      "Training Accuracy: 0.9674, Testing Accuracy: 0.9672\n",
      "\n"
     ]
    },
    {
     "name": "stdout",
     "output_type": "stream",
     "text": [
      "Epoch 60, Loss 0.0276\n",
      "Training Accuracy: 0.9690, Testing Accuracy: 0.9688\n",
      "\n"
     ]
    },
    {
     "name": "stdout",
     "output_type": "stream",
     "text": [
      "Epoch 70, Loss 0.0262\n",
      "Training Accuracy: 0.9707, Testing Accuracy: 0.9693\n",
      "\n"
     ]
    },
    {
     "name": "stdout",
     "output_type": "stream",
     "text": [
      "Epoch 80, Loss 0.025\n",
      "Training Accuracy: 0.9720, Testing Accuracy: 0.9688\n",
      "\n"
     ]
    },
    {
     "name": "stdout",
     "output_type": "stream",
     "text": [
      "Epoch 90, Loss 0.0241\n",
      "Training Accuracy: 0.9729, Testing Accuracy: 0.9682\n",
      "\n"
     ]
    },
    {
     "name": "stdout",
     "output_type": "stream",
     "text": [
      "Epoch 100, Loss 0.0232\n",
      "Training Accuracy: 0.9740, Testing Accuracy: 0.9688\n",
      "\n"
     ]
    },
    {
     "name": "stdout",
     "output_type": "stream",
     "text": [
      "Epoch 110, Loss 0.0224\n",
      "Training Accuracy: 0.9747, Testing Accuracy: 0.9688\n",
      "\n"
     ]
    },
    {
     "name": "stdout",
     "output_type": "stream",
     "text": [
      "Epoch 120, Loss 0.0218\n",
      "Training Accuracy: 0.9752, Testing Accuracy: 0.9698\n",
      "\n"
     ]
    },
    {
     "name": "stdout",
     "output_type": "stream",
     "text": [
      "Epoch 130, Loss 0.0211\n",
      "Training Accuracy: 0.9760, Testing Accuracy: 0.9703\n",
      "\n"
     ]
    },
    {
     "name": "stdout",
     "output_type": "stream",
     "text": [
      "Epoch 140, Loss 0.0205\n",
      "Training Accuracy: 0.9774, Testing Accuracy: 0.9698\n",
      "\n"
     ]
    },
    {
     "name": "stdout",
     "output_type": "stream",
     "text": [
      "Epoch 150, Loss 0.0199\n",
      "Training Accuracy: 0.9781, Testing Accuracy: 0.9708\n",
      "\n"
     ]
    },
    {
     "name": "stdout",
     "output_type": "stream",
     "text": [
      "Epoch 160, Loss 0.0194\n",
      "Training Accuracy: 0.9786, Testing Accuracy: 0.9713\n",
      "\n"
     ]
    },
    {
     "name": "stdout",
     "output_type": "stream",
     "text": [
      "Epoch 170, Loss 0.0189\n",
      "Training Accuracy: 0.9793, Testing Accuracy: 0.9723\n",
      "\n"
     ]
    },
    {
     "name": "stdout",
     "output_type": "stream",
     "text": [
      "Epoch 180, Loss 0.0184\n",
      "Training Accuracy: 0.9796, Testing Accuracy: 0.9713\n",
      "\n"
     ]
    },
    {
     "name": "stdout",
     "output_type": "stream",
     "text": [
      "Epoch 190, Loss 0.0179\n",
      "Training Accuracy: 0.9801, Testing Accuracy: 0.9723\n",
      "\n"
     ]
    },
    {
     "name": "stdout",
     "output_type": "stream",
     "text": [
      "Epoch 200, Loss 0.0174\n",
      "Training Accuracy: 0.9811, Testing Accuracy: 0.9733\n",
      "\n"
     ]
    },
    {
     "name": "stdout",
     "output_type": "stream",
     "text": [
      "Epoch 210, Loss 0.017\n",
      "Training Accuracy: 0.9820, Testing Accuracy: 0.9733\n",
      "\n"
     ]
    },
    {
     "name": "stdout",
     "output_type": "stream",
     "text": [
      "Epoch 220, Loss 0.0166\n",
      "Training Accuracy: 0.9825, Testing Accuracy: 0.9748\n",
      "\n"
     ]
    },
    {
     "name": "stdout",
     "output_type": "stream",
     "text": [
      "Epoch 230, Loss 0.0161\n",
      "Training Accuracy: 0.9830, Testing Accuracy: 0.9753\n",
      "\n"
     ]
    },
    {
     "name": "stdout",
     "output_type": "stream",
     "text": [
      "Epoch 240, Loss 0.0157\n",
      "Training Accuracy: 0.9835, Testing Accuracy: 0.9748\n",
      "\n"
     ]
    },
    {
     "name": "stdout",
     "output_type": "stream",
     "text": [
      "Epoch 250, Loss 0.0153\n",
      "Training Accuracy: 0.9836, Testing Accuracy: 0.9758\n",
      "\n"
     ]
    },
    {
     "data": {
      "text/plain": [
       "0.01838236879861484"
      ]
     },
     "execution_count": 20,
     "metadata": {},
     "output_type": "execute_result"
    }
   ],
   "source": [
    "print(\"====== Neural Network ======\")\n",
    "learner_nn.train_loop(dl)"
   ]
  },
  {
   "cell_type": "markdown",
   "metadata": {
    "papermill": {
     "duration": 0.046306,
     "end_time": "2020-12-02T00:08:45.095791",
     "exception": false,
     "start_time": "2020-12-02T00:08:45.049485",
     "status": "completed"
    },
    "tags": []
   },
   "source": [
    "### Logistic Regression based Implementation."
   ]
  },
  {
   "cell_type": "code",
   "execution_count": 21,
   "metadata": {
    "execution": {
     "iopub.execute_input": "2020-12-02T00:08:45.191952Z",
     "iopub.status.busy": "2020-12-02T00:08:45.190897Z",
     "iopub.status.idle": "2020-12-02T00:08:45.203761Z",
     "shell.execute_reply": "2020-12-02T00:08:45.204591Z"
    },
    "papermill": {
     "duration": 0.066088,
     "end_time": "2020-12-02T00:08:45.204863",
     "exception": false,
     "start_time": "2020-12-02T00:08:45.138775",
     "status": "completed"
    },
    "tags": []
   },
   "outputs": [],
   "source": [
    "learner_lr = Learner(loss, model_lr, opt, config.num_epochs)\n",
    "acc_lr = ClfCallback(learner_lr, config.bs, training_xdata , testing_xdata, training_ydata, testing_ydata)\n",
    "learner_lr.set_callbacks([acc_lr])"
   ]
  },
  {
   "cell_type": "code",
   "execution_count": 22,
   "metadata": {
    "execution": {
     "iopub.execute_input": "2020-12-02T00:08:45.297908Z",
     "iopub.status.busy": "2020-12-02T00:08:45.297234Z",
     "iopub.status.idle": "2020-12-02T00:09:06.200838Z",
     "shell.execute_reply": "2020-12-02T00:09:06.201345Z"
    },
    "papermill": {
     "duration": 20.952475,
     "end_time": "2020-12-02T00:09:06.201524",
     "exception": false,
     "start_time": "2020-12-02T00:08:45.249049",
     "status": "completed"
    },
    "tags": []
   },
   "outputs": [
    {
     "name": "stdout",
     "output_type": "stream",
     "text": [
      "====== Logistic Regression ======\n",
      "Epoch 0, Loss 0.2419\n",
      "Training Accuracy: 0.7008, Testing Accuracy: 0.7011\n",
      "\n"
     ]
    },
    {
     "name": "stdout",
     "output_type": "stream",
     "text": [
      "Epoch 10, Loss 0.1022\n",
      "Training Accuracy: 0.9123, Testing Accuracy: 0.9254\n",
      "\n"
     ]
    },
    {
     "name": "stdout",
     "output_type": "stream",
     "text": [
      "Epoch 20, Loss 0.0782\n",
      "Training Accuracy: 0.9301, Testing Accuracy: 0.9385\n",
      "\n"
     ]
    },
    {
     "name": "stdout",
     "output_type": "stream",
     "text": [
      "Epoch 30, Loss 0.0673\n",
      "Training Accuracy: 0.9382, Testing Accuracy: 0.9506\n",
      "\n"
     ]
    },
    {
     "name": "stdout",
     "output_type": "stream",
     "text": [
      "Epoch 40, Loss 0.0608\n",
      "Training Accuracy: 0.9438, Testing Accuracy: 0.9546\n",
      "\n"
     ]
    },
    {
     "name": "stdout",
     "output_type": "stream",
     "text": [
      "Epoch 50, Loss 0.0564\n",
      "Training Accuracy: 0.9463, Testing Accuracy: 0.9551\n",
      "\n"
     ]
    },
    {
     "name": "stdout",
     "output_type": "stream",
     "text": [
      "Epoch 60, Loss 0.0532\n",
      "Training Accuracy: 0.9487, Testing Accuracy: 0.9572\n",
      "\n"
     ]
    },
    {
     "name": "stdout",
     "output_type": "stream",
     "text": [
      "Epoch 70, Loss 0.0507\n",
      "Training Accuracy: 0.9502, Testing Accuracy: 0.9577\n",
      "\n"
     ]
    },
    {
     "name": "stdout",
     "output_type": "stream",
     "text": [
      "Epoch 80, Loss 0.0487\n",
      "Training Accuracy: 0.9523, Testing Accuracy: 0.9597\n",
      "\n"
     ]
    },
    {
     "name": "stdout",
     "output_type": "stream",
     "text": [
      "Epoch 90, Loss 0.0471\n",
      "Training Accuracy: 0.9533, Testing Accuracy: 0.9607\n",
      "\n"
     ]
    },
    {
     "name": "stdout",
     "output_type": "stream",
     "text": [
      "Epoch 100, Loss 0.0457\n",
      "Training Accuracy: 0.9548, Testing Accuracy: 0.9622\n",
      "\n"
     ]
    },
    {
     "name": "stdout",
     "output_type": "stream",
     "text": [
      "Epoch 110, Loss 0.0446\n",
      "Training Accuracy: 0.9551, Testing Accuracy: 0.9637\n",
      "\n"
     ]
    },
    {
     "name": "stdout",
     "output_type": "stream",
     "text": [
      "Epoch 120, Loss 0.0435\n",
      "Training Accuracy: 0.9551, Testing Accuracy: 0.9652\n",
      "\n"
     ]
    },
    {
     "name": "stdout",
     "output_type": "stream",
     "text": [
      "Epoch 130, Loss 0.0426\n",
      "Training Accuracy: 0.9566, Testing Accuracy: 0.9662\n",
      "\n"
     ]
    },
    {
     "name": "stdout",
     "output_type": "stream",
     "text": [
      "Epoch 140, Loss 0.0418\n",
      "Training Accuracy: 0.9569, Testing Accuracy: 0.9662\n",
      "\n"
     ]
    },
    {
     "name": "stdout",
     "output_type": "stream",
     "text": [
      "Epoch 150, Loss 0.0411\n",
      "Training Accuracy: 0.9570, Testing Accuracy: 0.9667\n",
      "\n"
     ]
    },
    {
     "name": "stdout",
     "output_type": "stream",
     "text": [
      "Epoch 160, Loss 0.0405\n",
      "Training Accuracy: 0.9579, Testing Accuracy: 0.9662\n",
      "\n"
     ]
    },
    {
     "name": "stdout",
     "output_type": "stream",
     "text": [
      "Epoch 170, Loss 0.0399\n",
      "Training Accuracy: 0.9585, Testing Accuracy: 0.9662\n",
      "\n"
     ]
    },
    {
     "name": "stdout",
     "output_type": "stream",
     "text": [
      "Epoch 180, Loss 0.0393\n",
      "Training Accuracy: 0.9590, Testing Accuracy: 0.9662\n",
      "\n"
     ]
    },
    {
     "name": "stdout",
     "output_type": "stream",
     "text": [
      "Epoch 190, Loss 0.0388\n",
      "Training Accuracy: 0.9593, Testing Accuracy: 0.9667\n",
      "\n"
     ]
    },
    {
     "name": "stdout",
     "output_type": "stream",
     "text": [
      "Epoch 200, Loss 0.0384\n",
      "Training Accuracy: 0.9597, Testing Accuracy: 0.9667\n",
      "\n"
     ]
    },
    {
     "name": "stdout",
     "output_type": "stream",
     "text": [
      "Epoch 210, Loss 0.038\n",
      "Training Accuracy: 0.9601, Testing Accuracy: 0.9677\n",
      "\n"
     ]
    },
    {
     "name": "stdout",
     "output_type": "stream",
     "text": [
      "Epoch 220, Loss 0.0376\n",
      "Training Accuracy: 0.9604, Testing Accuracy: 0.9677\n",
      "\n"
     ]
    },
    {
     "name": "stdout",
     "output_type": "stream",
     "text": [
      "Epoch 230, Loss 0.0372\n",
      "Training Accuracy: 0.9605, Testing Accuracy: 0.9677\n",
      "\n"
     ]
    },
    {
     "name": "stdout",
     "output_type": "stream",
     "text": [
      "Epoch 240, Loss 0.0368\n",
      "Training Accuracy: 0.9610, Testing Accuracy: 0.9682\n",
      "\n"
     ]
    },
    {
     "name": "stdout",
     "output_type": "stream",
     "text": [
      "Epoch 250, Loss 0.0365\n",
      "Training Accuracy: 0.9612, Testing Accuracy: 0.9682\n",
      "\n"
     ]
    },
    {
     "data": {
      "text/plain": [
       "0.02708403146505635"
      ]
     },
     "execution_count": 22,
     "metadata": {},
     "output_type": "execute_result"
    }
   ],
   "source": [
    "print(\"====== Logistic Regression ======\")\n",
    "learner_lr.train_loop(dl)"
   ]
  },
  {
   "cell_type": "markdown",
   "metadata": {
    "papermill": {
     "duration": 0.05516,
     "end_time": "2020-12-02T00:09:06.365502",
     "exception": false,
     "start_time": "2020-12-02T00:09:06.310342",
     "status": "completed"
    },
    "tags": []
   },
   "source": [
    "### Comparing results of NN and LR"
   ]
  },
  {
   "cell_type": "code",
   "execution_count": 23,
   "metadata": {
    "execution": {
     "iopub.execute_input": "2020-12-02T00:09:06.489668Z",
     "iopub.status.busy": "2020-12-02T00:09:06.488985Z",
     "iopub.status.idle": "2020-12-02T00:09:06.784017Z",
     "shell.execute_reply": "2020-12-02T00:09:06.783341Z"
    },
    "papermill": {
     "duration": 0.363678,
     "end_time": "2020-12-02T00:09:06.784187",
     "exception": false,
     "start_time": "2020-12-02T00:09:06.420509",
     "status": "completed"
    },
    "tags": []
   },
   "outputs": [
    {
     "data": {
      "text/plain": [
       "<matplotlib.legend.Legend at 0x7f6d0290f9b0>"
      ]
     },
     "execution_count": 23,
     "metadata": {},
     "output_type": "execute_result"
    },
    {
     "data": {
      "image/png": "[encoded data removed]",
      "text/plain": [
       "<Figure size 1080x720 with 1 Axes>"
      ]
     },
     "metadata": {
      "needs_background": "light"
     },
     "output_type": "display_data"
    }
   ],
   "source": [
    "plt.figure(figsize=(15,10))\n",
    "\n",
    "# Neural Network plots\n",
    "plt.plot(acc_nn.accuracies, 'r-', label = \"Training Accuracies - NN\")\n",
    "plt.plot(acc_nn.test_accuracies, 'g-', label = \"Testing Accuracies - NN\")\n",
    "\n",
    "# Logistic Regression plots\n",
    "plt.plot(acc_lr.accuracies, 'k-', label = \"Training Accuracies - LR\")\n",
    "plt.plot(acc_lr.test_accuracies, 'b-', label = \"Testing Accuracies - LR\")\n",
    "\n",
    "plt.ylim(0.8, 1)\n",
    "\n",
    "plt.legend()\n",
    "\n"
   ]
  },
  {
   "cell_type": "markdown",
   "metadata": {
    "papermill": {
     "duration": 0.055678,
     "end_time": "2020-12-02T00:09:06.894497",
     "exception": false,
     "start_time": "2020-12-02T00:09:06.838819",
     "status": "completed"
    },
    "tags": []
   },
   "source": [
    "### From the plot, we can observe the following:\n",
    "- Neural Network achieves higher accuracy than the Logistic Regression model.\n",
    "- This apparently, is because of overfitting, i.e. NN captures more noise than data.\n",
    "- Testing accuracy of NN drops below the Training accuracy at higher epochs. This explains the over-fitting on training data.\n",
    "- Logistic Regression gives a reliable accuracy, without the above mentioned problem.\n"
   ]
  },
  {
   "cell_type": "markdown",
   "metadata": {
    "papermill": {
     "duration": 0.054606,
     "end_time": "2020-12-02T00:09:07.007265",
     "exception": false,
     "start_time": "2020-12-02T00:09:06.952659",
     "status": "completed"
    },
    "tags": []
   },
   "source": [
    "### Moving till the last but one layer (excluding it).\n",
    "#### Plotting the outputs of this layer of the NN."
   ]
  },
  {
   "cell_type": "code",
   "execution_count": 24,
   "metadata": {
    "execution": {
     "iopub.execute_input": "2020-12-02T00:09:07.120961Z",
     "iopub.status.busy": "2020-12-02T00:09:07.120263Z",
     "iopub.status.idle": "2020-12-02T00:09:07.134426Z",
     "shell.execute_reply": "2020-12-02T00:09:07.133695Z"
    },
    "papermill": {
     "duration": 0.072461,
     "end_time": "2020-12-02T00:09:07.134567",
     "exception": false,
     "start_time": "2020-12-02T00:09:07.062106",
     "status": "completed"
    },
    "tags": []
   },
   "outputs": [],
   "source": [
    "model_new = Model(layers[:-2])"
   ]
  },
  {
   "cell_type": "code",
   "execution_count": 25,
   "metadata": {
    "execution": {
     "iopub.execute_input": "2020-12-02T00:09:07.261037Z",
     "iopub.status.busy": "2020-12-02T00:09:07.260358Z",
     "iopub.status.idle": "2020-12-02T00:09:07.293784Z",
     "shell.execute_reply": "2020-12-02T00:09:07.295108Z"
    },
    "papermill": {
     "duration": 0.093907,
     "end_time": "2020-12-02T00:09:07.295299",
     "exception": false,
     "start_time": "2020-12-02T00:09:07.201392",
     "status": "completed"
    },
    "tags": []
   },
   "outputs": [],
   "source": [
    "plot_testing = model_new(testing_xdata)"
   ]
  },
  {
   "cell_type": "code",
   "execution_count": 26,
   "metadata": {
    "execution": {
     "iopub.execute_input": "2020-12-02T00:09:07.417102Z",
     "iopub.status.busy": "2020-12-02T00:09:07.416034Z",
     "iopub.status.idle": "2020-12-02T00:09:07.690736Z",
     "shell.execute_reply": "2020-12-02T00:09:07.691197Z"
    },
    "papermill": {
     "duration": 0.337914,
     "end_time": "2020-12-02T00:09:07.691362",
     "exception": false,
     "start_time": "2020-12-02T00:09:07.353448",
     "status": "completed"
    },
    "tags": []
   },
   "outputs": [
    {
     "data": {
      "text/plain": [
       "Text(0.5, 1.0, 'Outputs')"
      ]
     },
     "execution_count": 26,
     "metadata": {},
     "output_type": "execute_result"
    },
    {
     "data": {
      "image/png": "[encoded data removed]",
      "text/plain": [
       "<Figure size 576x504 with 1 Axes>"
      ]
     },
     "metadata": {
      "needs_background": "light"
     },
     "output_type": "display_data"
    }
   ],
   "source": [
    "plt.figure(figsize=(8,7))\n",
    "plt.scatter(plot_testing[:,0], plot_testing[:,1], alpha = 0.1, c = y_test.ravel());\n",
    "plt.title('Outputs')"
   ]
  },
  {
   "cell_type": "markdown",
   "metadata": {
    "papermill": {
     "duration": 0.055319,
     "end_time": "2020-12-02T00:09:07.801175",
     "exception": false,
     "start_time": "2020-12-02T00:09:07.745856",
     "status": "completed"
    },
    "tags": []
   },
   "source": [
    "### Plotting probability contours"
   ]
  },
  {
   "cell_type": "code",
   "execution_count": 27,
   "metadata": {
    "execution": {
     "iopub.execute_input": "2020-12-02T00:09:07.919263Z",
     "iopub.status.busy": "2020-12-02T00:09:07.918622Z",
     "iopub.status.idle": "2020-12-02T00:09:07.931837Z",
     "shell.execute_reply": "2020-12-02T00:09:07.932542Z"
    },
    "papermill": {
     "duration": 0.074627,
     "end_time": "2020-12-02T00:09:07.932769",
     "exception": false,
     "start_time": "2020-12-02T00:09:07.858142",
     "status": "completed"
    },
    "tags": []
   },
   "outputs": [],
   "source": [
    "model_prob = Model(layers[-2:]) "
   ]
  },
  {
   "cell_type": "code",
   "execution_count": 28,
   "metadata": {
    "execution": {
     "iopub.execute_input": "2020-12-02T00:09:08.053613Z",
     "iopub.status.busy": "2020-12-02T00:09:08.052978Z",
     "iopub.status.idle": "2020-12-02T00:09:08.067354Z",
     "shell.execute_reply": "2020-12-02T00:09:08.068001Z"
    },
    "papermill": {
     "duration": 0.080099,
     "end_time": "2020-12-02T00:09:08.068216",
     "exception": false,
     "start_time": "2020-12-02T00:09:07.988117",
     "status": "completed"
    },
    "tags": []
   },
   "outputs": [],
   "source": [
    "# Adjust the x and y ranges according to the above generated plot.\n",
    "x_range = np.linspace(-4, 1, 100) \n",
    "y_range = np.linspace(-6, 6, 100) \n",
    "x_grid, y_grid = np.meshgrid(x_range, y_range) # x_grid and y_grig are of size 100 X 100\n",
    "\n",
    "# converting x_grid and y_grid to continuous arrays\n",
    "x_grid_flat = np.ravel(x_grid)\n",
    "y_grid_flat = np.ravel(y_grid)\n",
    "\n",
    "# The last layer of the current model takes two columns as input. Hence transpose of np.vstack() is required.\n",
    "X = np.vstack((x_grid_flat, y_grid_flat)).T\n",
    "\n",
    "# x_grid and y_grid are of size 100 x 100\n",
    "probability_contour = model_prob(X).reshape(100,100) "
   ]
  },
  {
   "cell_type": "code",
   "execution_count": 29,
   "metadata": {
    "execution": {
     "iopub.execute_input": "2020-12-02T00:09:08.214540Z",
     "iopub.status.busy": "2020-12-02T00:09:08.213859Z",
     "iopub.status.idle": "2020-12-02T00:09:08.531312Z",
     "shell.execute_reply": "2020-12-02T00:09:08.530712Z"
    },
    "papermill": {
     "duration": 0.405726,
     "end_time": "2020-12-02T00:09:08.531472",
     "exception": false,
     "start_time": "2020-12-02T00:09:08.125746",
     "status": "completed"
    },
    "tags": []
   },
   "outputs": [
    {
     "data": {
      "image/png": "[encoded data removed]",
      "text/plain": [
       "<Figure size 720x648 with 1 Axes>"
      ]
     },
     "metadata": {
      "needs_background": "light"
     },
     "output_type": "display_data"
    }
   ],
   "source": [
    "plt.figure(figsize=(10,9))\n",
    "plt.scatter(plot_testing[:,0], plot_testing[:,1], alpha = 0.1, c = y_test.ravel())\n",
    "contours = plt.contour(x_grid,y_grid,probability_contour)\n",
    "plt.title('Probability Contours')\n",
    "plt.clabel(contours, inline = True );"
   ]
  }
 ],
 "metadata": {
  "kernelspec": {
   "display_name": "Python 3",
   "language": "python",
   "name": "python3"
  },
  "language_info": {
   "codemirror_mode": {
    "name": "ipython",
    "version": 3
   },
   "file_extension": ".py",
   "mimetype": "text/x-python",
   "name": "python",
   "nbconvert_exporter": "python",
   "pygments_lexer": "ipython3",
   "version": "3.6.12"
  },
  "papermill": {
   "duration": 170.172454,
   "end_time": "2020-12-02T00:09:08.900507",
   "environment_variables": {},
   "exception": null,
   "input_path": "2020-08-11-NeuralNetwork.ipynb",
   "output_path": "2020-08-11-NeuralNetwork.ipynb",
   "parameters": {},
   "start_time": "2020-12-02T00:06:18.728053",
   "version": "2.1.2"
  }
 },
 "nbformat": 4,
 "nbformat_minor": 4
}