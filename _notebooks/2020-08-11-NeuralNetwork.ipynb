{
 "cells": [
  {
   "cell_type": "markdown",
   "metadata": {
    "papermill": {
     "duration": 0.024078,
     "end_time": "2020-08-25T10:03:29.487366",
     "exception": false,
     "start_time": "2020-08-25T10:03:29.463288",
     "status": "completed"
    },
    "tags": []
   },
   "source": [
    "# \"A Basic Neural Network: Differentiate Hand-Written Digits\"\n",
    "\n",
    "- badges: true\n",
    "- author: Akshith Sriram"
   ]
  },
  {
   "cell_type": "markdown",
   "metadata": {
    "papermill": {
     "duration": 0.018455,
     "end_time": "2020-08-25T10:03:29.526496",
     "exception": false,
     "start_time": "2020-08-25T10:03:29.508041",
     "status": "completed"
    },
    "tags": []
   },
   "source": [
    "### Key Objectives:\n",
    "- Building a neural network that differentiates two hand-written digits 3 and 8.\n",
    "- Comparing the results of this Neural Network (NN) to that of a Logistic Regression (LR) model.\n",
    "\n",
    "### Requirements:\n",
    "- 'Kudzu' : A neural network library that was designed during our course by [Univ.AI](www.univ.ai). \n",
    "- MNIST Database\n",
    "\n",
    "If MNIST is not installed, use the command `!pip install mnist` given below.\n",
    "It can be run both from the command line and Jupyter Notebook."
   ]
  },
  {
   "cell_type": "code",
   "execution_count": 1,
   "metadata": {
    "execution": {
     "iopub.execute_input": "2020-08-25T10:03:29.569818Z",
     "iopub.status.busy": "2020-08-25T10:03:29.569099Z",
     "iopub.status.idle": "2020-08-25T10:03:30.687781Z",
     "shell.execute_reply": "2020-08-25T10:03:30.687173Z"
    },
    "papermill": {
     "duration": 1.142176,
     "end_time": "2020-08-25T10:03:30.687959",
     "exception": false,
     "start_time": "2020-08-25T10:03:29.545783",
     "status": "completed"
    },
    "tags": []
   },
   "outputs": [
    {
     "name": "stdout",
     "output_type": "stream",
     "text": [
      "Collecting mnist\r\n"
     ]
    },
    {
     "name": "stdout",
     "output_type": "stream",
     "text": [
      "  Downloading mnist-0.2.2-py2.py3-none-any.whl (3.5 kB)\r\n"
     ]
    },
    {
     "name": "stdout",
     "output_type": "stream",
     "text": [
      "Requirement already satisfied: numpy in /opt/hostedtoolcache/Python/3.6.11/x64/lib/python3.6/site-packages (from mnist) (1.19.1)\r\n"
     ]
    },
    {
     "name": "stdout",
     "output_type": "stream",
     "text": [
      "Installing collected packages: mnist\r\n"
     ]
    },
    {
     "name": "stdout",
     "output_type": "stream",
     "text": [
      "Successfully installed mnist-0.2.2\r\n"
     ]
    }
   ],
   "source": [
    "!pip install mnist "
   ]
  },
  {
   "cell_type": "markdown",
   "metadata": {
    "papermill": {
     "duration": 0.021604,
     "end_time": "2020-08-25T10:03:30.731569",
     "exception": false,
     "start_time": "2020-08-25T10:03:30.709965",
     "status": "completed"
    },
    "tags": []
   },
   "source": [
    "#### Importing necessary libraries"
   ]
  },
  {
   "cell_type": "code",
   "execution_count": 2,
   "metadata": {
    "execution": {
     "iopub.execute_input": "2020-08-25T10:03:30.782427Z",
     "iopub.status.busy": "2020-08-25T10:03:30.782005Z",
     "iopub.status.idle": "2020-08-25T10:03:31.214888Z",
     "shell.execute_reply": "2020-08-25T10:03:31.213891Z"
    },
    "papermill": {
     "duration": 0.462978,
     "end_time": "2020-08-25T10:03:31.215048",
     "exception": false,
     "start_time": "2020-08-25T10:03:30.752070",
     "status": "completed"
    },
    "tags": []
   },
   "outputs": [],
   "source": [
    "%load_ext autoreload\n",
    "%autoreload 2\n",
    "\n",
    "%matplotlib inline\n",
    "import matplotlib.pyplot as plt\n",
    "\n",
    "import numpy as np\n",
    "import pandas as pd"
   ]
  },
  {
   "cell_type": "markdown",
   "metadata": {
    "papermill": {
     "duration": 0.02521,
     "end_time": "2020-08-25T10:03:31.261587",
     "exception": false,
     "start_time": "2020-08-25T10:03:31.236377",
     "status": "completed"
    },
    "tags": []
   },
   "source": [
    "### Preparing the Data"
   ]
  },
  {
   "cell_type": "code",
   "execution_count": 3,
   "metadata": {
    "execution": {
     "iopub.execute_input": "2020-08-25T10:03:31.307106Z",
     "iopub.status.busy": "2020-08-25T10:03:31.306685Z",
     "iopub.status.idle": "2020-08-25T10:03:31.318141Z",
     "shell.execute_reply": "2020-08-25T10:03:31.317802Z"
    },
    "papermill": {
     "duration": 0.035893,
     "end_time": "2020-08-25T10:03:31.318233",
     "exception": false,
     "start_time": "2020-08-25T10:03:31.282340",
     "status": "completed"
    },
    "tags": []
   },
   "outputs": [],
   "source": [
    "import mnist"
   ]
  },
  {
   "cell_type": "code",
   "execution_count": 4,
   "metadata": {
    "execution": {
     "iopub.execute_input": "2020-08-25T10:03:31.359646Z",
     "iopub.status.busy": "2020-08-25T10:03:31.359243Z",
     "iopub.status.idle": "2020-08-25T10:03:32.810511Z",
     "shell.execute_reply": "2020-08-25T10:03:32.809921Z"
    },
    "papermill": {
     "duration": 1.473501,
     "end_time": "2020-08-25T10:03:32.810650",
     "exception": false,
     "start_time": "2020-08-25T10:03:31.337149",
     "status": "completed"
    },
    "tags": []
   },
   "outputs": [],
   "source": [
    "train_images = mnist.train_images()\n",
    "train_labels = mnist.train_labels()"
   ]
  },
  {
   "cell_type": "code",
   "execution_count": 5,
   "metadata": {
    "execution": {
     "iopub.execute_input": "2020-08-25T10:03:32.859207Z",
     "iopub.status.busy": "2020-08-25T10:03:32.858787Z",
     "iopub.status.idle": "2020-08-25T10:03:32.871810Z",
     "shell.execute_reply": "2020-08-25T10:03:32.871403Z"
    },
    "papermill": {
     "duration": 0.037674,
     "end_time": "2020-08-25T10:03:32.871899",
     "exception": false,
     "start_time": "2020-08-25T10:03:32.834225",
     "status": "completed"
    },
    "tags": []
   },
   "outputs": [
    {
     "data": {
      "text/plain": [
       "((60000, 28, 28), (60000,))"
      ]
     },
     "execution_count": 5,
     "metadata": {},
     "output_type": "execute_result"
    }
   ],
   "source": [
    "train_images.shape, train_labels.shape"
   ]
  },
  {
   "cell_type": "code",
   "execution_count": 6,
   "metadata": {
    "execution": {
     "iopub.execute_input": "2020-08-25T10:03:32.914100Z",
     "iopub.status.busy": "2020-08-25T10:03:32.913687Z",
     "iopub.status.idle": "2020-08-25T10:03:34.184356Z",
     "shell.execute_reply": "2020-08-25T10:03:34.183940Z"
    },
    "papermill": {
     "duration": 1.293144,
     "end_time": "2020-08-25T10:03:34.184464",
     "exception": false,
     "start_time": "2020-08-25T10:03:32.891320",
     "status": "completed"
    },
    "tags": []
   },
   "outputs": [],
   "source": [
    "test_images = mnist.test_images()\n",
    "test_labels = mnist.test_labels()"
   ]
  },
  {
   "cell_type": "code",
   "execution_count": 7,
   "metadata": {
    "execution": {
     "iopub.execute_input": "2020-08-25T10:03:34.231571Z",
     "iopub.status.busy": "2020-08-25T10:03:34.231083Z",
     "iopub.status.idle": "2020-08-25T10:03:34.242364Z",
     "shell.execute_reply": "2020-08-25T10:03:34.241953Z"
    },
    "papermill": {
     "duration": 0.03814,
     "end_time": "2020-08-25T10:03:34.242456",
     "exception": false,
     "start_time": "2020-08-25T10:03:34.204316",
     "status": "completed"
    },
    "tags": []
   },
   "outputs": [
    {
     "data": {
      "text/plain": [
       "((10000, 28, 28), (10000,))"
      ]
     },
     "execution_count": 7,
     "metadata": {},
     "output_type": "execute_result"
    }
   ],
   "source": [
    "test_images.shape, test_labels.shape"
   ]
  },
  {
   "cell_type": "code",
   "execution_count": 8,
   "metadata": {
    "execution": {
     "iopub.execute_input": "2020-08-25T10:03:34.373291Z",
     "iopub.status.busy": "2020-08-25T10:03:34.372579Z",
     "iopub.status.idle": "2020-08-25T10:03:34.483654Z",
     "shell.execute_reply": "2020-08-25T10:03:34.483232Z"
    },
    "papermill": {
     "duration": 0.194051,
     "end_time": "2020-08-25T10:03:34.483760",
     "exception": false,
     "start_time": "2020-08-25T10:03:34.289709",
     "status": "completed"
    },
    "tags": []
   },
   "outputs": [
    {
     "name": "stdout",
     "output_type": "stream",
     "text": [
      "2\n"
     ]
    },
    {
     "data": {
      "text/plain": [
       "<matplotlib.image.AxesImage at 0x7f175cc96080>"
      ]
     },
     "execution_count": 8,
     "metadata": {},
     "output_type": "execute_result"
    },
    {
     "data": {
      "image/png": "[encoded data removed]",
      "text/plain": [
       "<Figure size 432x288 with 1 Axes>"
      ]
     },
     "metadata": {
      "needs_background": "light"
     },
     "output_type": "display_data"
    }
   ],
   "source": [
    "image_index = 7776 # You may select anything up to 60,000\n",
    "print(train_labels[image_index]) \n",
    "plt.imshow(train_images[image_index], cmap='Greys')"
   ]
  },
  {
   "cell_type": "markdown",
   "metadata": {
    "papermill": {
     "duration": 0.46236,
     "end_time": "2020-08-25T10:03:35.075097",
     "exception": false,
     "start_time": "2020-08-25T10:03:34.612737",
     "status": "completed"
    },
    "tags": []
   },
   "source": [
    "## Filter data to get 3 and 8 out"
   ]
  },
  {
   "cell_type": "code",
   "execution_count": 9,
   "metadata": {
    "execution": {
     "iopub.execute_input": "2020-08-25T10:03:36.078942Z",
     "iopub.status.busy": "2020-08-25T10:03:36.078444Z",
     "iopub.status.idle": "2020-08-25T10:03:36.094418Z",
     "shell.execute_reply": "2020-08-25T10:03:36.094016Z"
    },
    "papermill": {
     "duration": 0.334933,
     "end_time": "2020-08-25T10:03:36.094532",
     "exception": false,
     "start_time": "2020-08-25T10:03:35.759599",
     "status": "completed"
    },
    "tags": []
   },
   "outputs": [],
   "source": [
    "train_filter = np.where((train_labels == 3 ) | (train_labels == 8))\n",
    "test_filter = np.where((test_labels == 3) | (test_labels == 8))\n",
    "X_train, y_train = train_images[train_filter], train_labels[train_filter]\n",
    "X_test, y_test = test_images[test_filter], test_labels[test_filter]"
   ]
  },
  {
   "cell_type": "markdown",
   "metadata": {
    "papermill": {
     "duration": 0.154528,
     "end_time": "2020-08-25T10:03:36.618082",
     "exception": false,
     "start_time": "2020-08-25T10:03:36.463554",
     "status": "completed"
    },
    "tags": []
   },
   "source": [
    "We normalize the pixel values in the 0 to 1 range"
   ]
  },
  {
   "cell_type": "code",
   "execution_count": 10,
   "metadata": {
    "execution": {
     "iopub.execute_input": "2020-08-25T10:03:36.781809Z",
     "iopub.status.busy": "2020-08-25T10:03:36.781051Z",
     "iopub.status.idle": "2020-08-25T10:03:36.829129Z",
     "shell.execute_reply": "2020-08-25T10:03:36.828714Z"
    },
    "papermill": {
     "duration": 0.074562,
     "end_time": "2020-08-25T10:03:36.829246",
     "exception": false,
     "start_time": "2020-08-25T10:03:36.754684",
     "status": "completed"
    },
    "tags": []
   },
   "outputs": [],
   "source": [
    "X_train = X_train/255.\n",
    "X_test = X_test/255."
   ]
  },
  {
   "cell_type": "markdown",
   "metadata": {
    "papermill": {
     "duration": 0.021914,
     "end_time": "2020-08-25T10:03:36.932414",
     "exception": false,
     "start_time": "2020-08-25T10:03:36.910500",
     "status": "completed"
    },
    "tags": []
   },
   "source": [
    "Setup the labels as 1 (when the digit is 3) and 0 (when the digit is 8)"
   ]
  },
  {
   "cell_type": "code",
   "execution_count": 11,
   "metadata": {
    "execution": {
     "iopub.execute_input": "2020-08-25T10:03:36.978161Z",
     "iopub.status.busy": "2020-08-25T10:03:36.977732Z",
     "iopub.status.idle": "2020-08-25T10:03:36.994135Z",
     "shell.execute_reply": "2020-08-25T10:03:36.994455Z"
    },
    "papermill": {
     "duration": 0.04171,
     "end_time": "2020-08-25T10:03:36.994563",
     "exception": false,
     "start_time": "2020-08-25T10:03:36.952853",
     "status": "completed"
    },
    "tags": []
   },
   "outputs": [],
   "source": [
    "y_train = 1*(y_train==3)\n",
    "y_test = 1*(y_test==3)"
   ]
  },
  {
   "cell_type": "code",
   "execution_count": 12,
   "metadata": {
    "execution": {
     "iopub.execute_input": "2020-08-25T10:03:37.039913Z",
     "iopub.status.busy": "2020-08-25T10:03:37.039501Z",
     "iopub.status.idle": "2020-08-25T10:03:37.052190Z",
     "shell.execute_reply": "2020-08-25T10:03:37.051834Z"
    },
    "papermill": {
     "duration": 0.037204,
     "end_time": "2020-08-25T10:03:37.052277",
     "exception": false,
     "start_time": "2020-08-25T10:03:37.015073",
     "status": "completed"
    },
    "tags": []
   },
   "outputs": [
    {
     "data": {
      "text/plain": [
       "((11982, 28, 28), (1984, 28, 28))"
      ]
     },
     "execution_count": 12,
     "metadata": {},
     "output_type": "execute_result"
    }
   ],
   "source": [
    "X_train.shape, X_test.shape"
   ]
  },
  {
   "cell_type": "markdown",
   "metadata": {
    "papermill": {
     "duration": 0.021205,
     "end_time": "2020-08-25T10:03:37.093989",
     "exception": false,
     "start_time": "2020-08-25T10:03:37.072784",
     "status": "completed"
    },
    "tags": []
   },
   "source": [
    "### Reshape the input data to create a linear array"
   ]
  },
  {
   "cell_type": "code",
   "execution_count": 13,
   "metadata": {
    "execution": {
     "iopub.execute_input": "2020-08-25T10:03:37.140432Z",
     "iopub.status.busy": "2020-08-25T10:03:37.140025Z",
     "iopub.status.idle": "2020-08-25T10:03:37.152146Z",
     "shell.execute_reply": "2020-08-25T10:03:37.152486Z"
    },
    "papermill": {
     "duration": 0.036808,
     "end_time": "2020-08-25T10:03:37.152597",
     "exception": false,
     "start_time": "2020-08-25T10:03:37.115789",
     "status": "completed"
    },
    "tags": []
   },
   "outputs": [
    {
     "data": {
      "text/plain": [
       "((11982, 784), (1984, 784))"
      ]
     },
     "execution_count": 13,
     "metadata": {},
     "output_type": "execute_result"
    }
   ],
   "source": [
    "X_train = X_train.reshape(X_train.shape[0], -1)\n",
    "X_test = X_test.reshape(X_test.shape[0], -1)\n",
    "X_train.shape, X_test.shape"
   ]
  },
  {
   "cell_type": "markdown",
   "metadata": {
    "papermill": {
     "duration": 0.021678,
     "end_time": "2020-08-25T10:03:37.195661",
     "exception": false,
     "start_time": "2020-08-25T10:03:37.173983",
     "status": "completed"
    },
    "tags": []
   },
   "source": [
    "### Importing appropriate functions from 'Kudzu'"
   ]
  },
  {
   "cell_type": "code",
   "execution_count": 14,
   "metadata": {
    "execution": {
     "iopub.execute_input": "2020-08-25T10:03:37.243789Z",
     "iopub.status.busy": "2020-08-25T10:03:37.243371Z",
     "iopub.status.idle": "2020-08-25T10:03:37.259169Z",
     "shell.execute_reply": "2020-08-25T10:03:37.259507Z"
    },
    "papermill": {
     "duration": 0.0416,
     "end_time": "2020-08-25T10:03:37.259603",
     "exception": false,
     "start_time": "2020-08-25T10:03:37.218003",
     "status": "completed"
    },
    "tags": []
   },
   "outputs": [],
   "source": [
    "from kudzu.layer import Sigmoid\n",
    "from kudzu.layer import Relu\n",
    "from kudzu.layer import Affine, Sigmoid\n",
    "\n",
    "from kudzu.model import Model\n",
    "from kudzu.train import Learner\n",
    "from kudzu.optim import GD\n",
    "from kudzu.data import Data, Dataloader, Sampler\n",
    "\n",
    "from kudzu.callbacks import AccCallback\n",
    "from kudzu.callbacks import ClfCallback\n",
    "\n",
    "from kudzu.loss import MSE"
   ]
  },
  {
   "cell_type": "markdown",
   "metadata": {
    "papermill": {
     "duration": 0.021582,
     "end_time": "2020-08-25T10:03:37.301814",
     "exception": false,
     "start_time": "2020-08-25T10:03:37.280232",
     "status": "completed"
    },
    "tags": []
   },
   "source": [
    "### Let us create a `Config` class, to store important parameters. \n",
    "This class essentially plays the role of a dictionary."
   ]
  },
  {
   "cell_type": "code",
   "execution_count": 15,
   "metadata": {
    "execution": {
     "iopub.execute_input": "2020-08-25T10:03:37.347051Z",
     "iopub.status.busy": "2020-08-25T10:03:37.346469Z",
     "iopub.status.idle": "2020-08-25T10:03:37.356094Z",
     "shell.execute_reply": "2020-08-25T10:03:37.355745Z"
    },
    "papermill": {
     "duration": 0.033689,
     "end_time": "2020-08-25T10:03:37.356178",
     "exception": false,
     "start_time": "2020-08-25T10:03:37.322489",
     "status": "completed"
    },
    "tags": []
   },
   "outputs": [],
   "source": [
    "class Config:\n",
    "    pass\n",
    "config = Config()\n",
    "config.lr = 0.001\n",
    "config.num_epochs = 251\n",
    "config.bs = 50"
   ]
  },
  {
   "cell_type": "markdown",
   "metadata": {
    "papermill": {
     "duration": 0.023897,
     "end_time": "2020-08-25T10:03:37.400760",
     "exception": false,
     "start_time": "2020-08-25T10:03:37.376863",
     "status": "completed"
    },
    "tags": []
   },
   "source": [
    "### Initializing data to the variables"
   ]
  },
  {
   "cell_type": "code",
   "execution_count": 16,
   "metadata": {
    "execution": {
     "iopub.execute_input": "2020-08-25T10:03:37.449307Z",
     "iopub.status.busy": "2020-08-25T10:03:37.448862Z",
     "iopub.status.idle": "2020-08-25T10:03:37.458630Z",
     "shell.execute_reply": "2020-08-25T10:03:37.458222Z"
    },
    "papermill": {
     "duration": 0.034779,
     "end_time": "2020-08-25T10:03:37.458726",
     "exception": false,
     "start_time": "2020-08-25T10:03:37.423947",
     "status": "completed"
    },
    "tags": []
   },
   "outputs": [],
   "source": [
    "data = Data(X_train, y_train.reshape(-1,1))\n",
    "sampler = Sampler(data, config.bs, shuffle=True)\n",
    "\n",
    "dl = Dataloader(data, sampler)\n",
    "\n",
    "opt = GD(config.lr)\n",
    "loss = MSE()"
   ]
  },
  {
   "cell_type": "code",
   "execution_count": 17,
   "metadata": {
    "execution": {
     "iopub.execute_input": "2020-08-25T10:03:37.505732Z",
     "iopub.status.busy": "2020-08-25T10:03:37.505204Z",
     "iopub.status.idle": "2020-08-25T10:03:37.514303Z",
     "shell.execute_reply": "2020-08-25T10:03:37.513950Z"
    },
    "papermill": {
     "duration": 0.033761,
     "end_time": "2020-08-25T10:03:37.514385",
     "exception": false,
     "start_time": "2020-08-25T10:03:37.480624",
     "status": "completed"
    },
    "tags": []
   },
   "outputs": [],
   "source": [
    "training_xdata = X_train\n",
    "testing_xdata = X_test\n",
    "training_ydata = y_train.reshape(-1,1)\n",
    "testing_ydata = y_test.reshape(-1,1)"
   ]
  },
  {
   "cell_type": "markdown",
   "metadata": {
    "papermill": {
     "duration": 0.021766,
     "end_time": "2020-08-25T10:03:37.559602",
     "exception": false,
     "start_time": "2020-08-25T10:03:37.537836",
     "status": "completed"
    },
    "tags": []
   },
   "source": [
    "### Running Models with the Training data\n",
    "Details about the network layers:\n",
    "- A first affine layer has 784 inputs and does 100 affine transforms. These are followed by a Relu\n",
    "- A second affine layer has 100 inputs from the 100 activations of the past layer, and does 100 affine transforms. These are followed by a Relu\n",
    "- A third affine layer has 100 activations and does 2 affine transformations to create an embedding for visualization. There is no non-linearity here.\n",
    "- A final \"logistic regression\" which has an affine transform from 2 inputs to 1 output, which is squeezed through a sigmoid.\n",
    "\n",
    "Help taken from Anshuman's Notebook."
   ]
  },
  {
   "cell_type": "code",
   "execution_count": 18,
   "metadata": {
    "execution": {
     "iopub.execute_input": "2020-08-25T10:03:37.608669Z",
     "iopub.status.busy": "2020-08-25T10:03:37.608252Z",
     "iopub.status.idle": "2020-08-25T10:03:37.623441Z",
     "shell.execute_reply": "2020-08-25T10:03:37.623033Z"
    },
    "papermill": {
     "duration": 0.040407,
     "end_time": "2020-08-25T10:03:37.623537",
     "exception": false,
     "start_time": "2020-08-25T10:03:37.583130",
     "status": "completed"
    },
    "tags": []
   },
   "outputs": [],
   "source": [
    "# layers for the Neural Network\n",
    "layers = [Affine(\"first\", 784, 100), Relu(\"first\"), Affine(\"second\", 100, 100), Relu(\"second\"), Affine(\"third\", 100, 2), Affine(\"final\", 2, 1), Sigmoid(\"final\")]\n",
    "model_nn = Model(layers)\n",
    "\n",
    "# layers for the Logistic Regression\n",
    "layers_lr = [Affine(\"logits\", 784, 1), Sigmoid(\"sigmoid\")]\n",
    "model_lr = Model(layers_lr)"
   ]
  },
  {
   "cell_type": "code",
   "execution_count": 19,
   "metadata": {
    "execution": {
     "iopub.execute_input": "2020-08-25T10:03:37.669417Z",
     "iopub.status.busy": "2020-08-25T10:03:37.668946Z",
     "iopub.status.idle": "2020-08-25T10:03:37.679622Z",
     "shell.execute_reply": "2020-08-25T10:03:37.679938Z"
    },
    "papermill": {
     "duration": 0.034881,
     "end_time": "2020-08-25T10:03:37.680035",
     "exception": false,
     "start_time": "2020-08-25T10:03:37.645154",
     "status": "completed"
    },
    "tags": []
   },
   "outputs": [],
   "source": [
    "# suffix _nn stands for Neural Network.\n",
    "learner_nn = Learner(loss, model_nn, opt, config.num_epochs)\n",
    "acc_nn = ClfCallback(learner_nn, config.bs, training_xdata , testing_xdata, training_ydata, testing_ydata)\n",
    "learner_nn.set_callbacks([acc_nn])"
   ]
  },
  {
   "cell_type": "code",
   "execution_count": 20,
   "metadata": {
    "execution": {
     "iopub.execute_input": "2020-08-25T10:03:37.725351Z",
     "iopub.status.busy": "2020-08-25T10:03:37.724926Z",
     "iopub.status.idle": "2020-08-25T10:04:50.719348Z",
     "shell.execute_reply": "2020-08-25T10:04:50.719859Z"
    },
    "papermill": {
     "duration": 73.019372,
     "end_time": "2020-08-25T10:04:50.720003",
     "exception": false,
     "start_time": "2020-08-25T10:03:37.700631",
     "status": "completed"
    },
    "tags": []
   },
   "outputs": [
    {
     "name": "stdout",
     "output_type": "stream",
     "text": [
      "====== Neural Network ======\n"
     ]
    },
    {
     "name": "stdout",
     "output_type": "stream",
     "text": [
      "Epoch 0, Loss 0.2276\n",
      "Training Accuracy: 0.7727, Testing Accuracy: 0.8014\n",
      "\n"
     ]
    },
    {
     "name": "stdout",
     "output_type": "stream",
     "text": [
      "Epoch 10, Loss 0.0731\n",
      "Training Accuracy: 0.9312, Testing Accuracy: 0.9425\n",
      "\n"
     ]
    },
    {
     "name": "stdout",
     "output_type": "stream",
     "text": [
      "Epoch 20, Loss 0.0492\n",
      "Training Accuracy: 0.9477, Testing Accuracy: 0.9597\n",
      "\n"
     ]
    },
    {
     "name": "stdout",
     "output_type": "stream",
     "text": [
      "Epoch 30, Loss 0.0402\n",
      "Training Accuracy: 0.9558, Testing Accuracy: 0.9642\n",
      "\n"
     ]
    },
    {
     "name": "stdout",
     "output_type": "stream",
     "text": [
      "Epoch 40, Loss 0.0354\n",
      "Training Accuracy: 0.9596, Testing Accuracy: 0.9708\n",
      "\n"
     ]
    },
    {
     "name": "stdout",
     "output_type": "stream",
     "text": [
      "Epoch 50, Loss 0.0324\n",
      "Training Accuracy: 0.9636, Testing Accuracy: 0.9713\n",
      "\n"
     ]
    },
    {
     "name": "stdout",
     "output_type": "stream",
     "text": [
      "Epoch 60, Loss 0.0302\n",
      "Training Accuracy: 0.9659, Testing Accuracy: 0.9718\n",
      "\n"
     ]
    },
    {
     "name": "stdout",
     "output_type": "stream",
     "text": [
      "Epoch 70, Loss 0.0285\n",
      "Training Accuracy: 0.9678, Testing Accuracy: 0.9723\n",
      "\n"
     ]
    },
    {
     "name": "stdout",
     "output_type": "stream",
     "text": [
      "Epoch 80, Loss 0.0271\n",
      "Training Accuracy: 0.9689, Testing Accuracy: 0.9723\n",
      "\n"
     ]
    },
    {
     "name": "stdout",
     "output_type": "stream",
     "text": [
      "Epoch 90, Loss 0.026\n",
      "Training Accuracy: 0.9705, Testing Accuracy: 0.9723\n",
      "\n"
     ]
    },
    {
     "name": "stdout",
     "output_type": "stream",
     "text": [
      "Epoch 100, Loss 0.025\n",
      "Training Accuracy: 0.9715, Testing Accuracy: 0.9728\n",
      "\n"
     ]
    },
    {
     "name": "stdout",
     "output_type": "stream",
     "text": [
      "Epoch 110, Loss 0.0241\n",
      "Training Accuracy: 0.9727, Testing Accuracy: 0.9733\n",
      "\n"
     ]
    },
    {
     "name": "stdout",
     "output_type": "stream",
     "text": [
      "Epoch 120, Loss 0.0233\n",
      "Training Accuracy: 0.9737, Testing Accuracy: 0.9733\n",
      "\n"
     ]
    },
    {
     "name": "stdout",
     "output_type": "stream",
     "text": [
      "Epoch 130, Loss 0.0226\n",
      "Training Accuracy: 0.9749, Testing Accuracy: 0.9738\n",
      "\n"
     ]
    },
    {
     "name": "stdout",
     "output_type": "stream",
     "text": [
      "Epoch 140, Loss 0.0219\n",
      "Training Accuracy: 0.9753, Testing Accuracy: 0.9728\n",
      "\n"
     ]
    },
    {
     "name": "stdout",
     "output_type": "stream",
     "text": [
      "Epoch 150, Loss 0.0213\n",
      "Training Accuracy: 0.9760, Testing Accuracy: 0.9738\n",
      "\n"
     ]
    },
    {
     "name": "stdout",
     "output_type": "stream",
     "text": [
      "Epoch 160, Loss 0.0207\n",
      "Training Accuracy: 0.9768, Testing Accuracy: 0.9738\n",
      "\n"
     ]
    },
    {
     "name": "stdout",
     "output_type": "stream",
     "text": [
      "Epoch 170, Loss 0.0202\n",
      "Training Accuracy: 0.9776, Testing Accuracy: 0.9748\n",
      "\n"
     ]
    },
    {
     "name": "stdout",
     "output_type": "stream",
     "text": [
      "Epoch 180, Loss 0.0197\n",
      "Training Accuracy: 0.9784, Testing Accuracy: 0.9753\n",
      "\n"
     ]
    },
    {
     "name": "stdout",
     "output_type": "stream",
     "text": [
      "Epoch 190, Loss 0.0192\n",
      "Training Accuracy: 0.9792, Testing Accuracy: 0.9758\n",
      "\n"
     ]
    },
    {
     "name": "stdout",
     "output_type": "stream",
     "text": [
      "Epoch 200, Loss 0.0188\n",
      "Training Accuracy: 0.9800, Testing Accuracy: 0.9758\n",
      "\n"
     ]
    },
    {
     "name": "stdout",
     "output_type": "stream",
     "text": [
      "Epoch 210, Loss 0.0183\n",
      "Training Accuracy: 0.9802, Testing Accuracy: 0.9763\n",
      "\n"
     ]
    },
    {
     "name": "stdout",
     "output_type": "stream",
     "text": [
      "Epoch 220, Loss 0.0179\n",
      "Training Accuracy: 0.9804, Testing Accuracy: 0.9763\n",
      "\n"
     ]
    },
    {
     "name": "stdout",
     "output_type": "stream",
     "text": [
      "Epoch 230, Loss 0.0175\n",
      "Training Accuracy: 0.9811, Testing Accuracy: 0.9768\n",
      "\n"
     ]
    },
    {
     "name": "stdout",
     "output_type": "stream",
     "text": [
      "Epoch 240, Loss 0.0171\n",
      "Training Accuracy: 0.9814, Testing Accuracy: 0.9773\n",
      "\n"
     ]
    },
    {
     "name": "stdout",
     "output_type": "stream",
     "text": [
      "Epoch 250, Loss 0.0168\n",
      "Training Accuracy: 0.9821, Testing Accuracy: 0.9778\n",
      "\n"
     ]
    },
    {
     "data": {
      "text/plain": [
       "0.0060955229371915465"
      ]
     },
     "execution_count": 20,
     "metadata": {},
     "output_type": "execute_result"
    }
   ],
   "source": [
    "print(\"====== Neural Network ======\")\n",
    "learner_nn.train_loop(dl)"
   ]
  },
  {
   "cell_type": "markdown",
   "metadata": {
    "papermill": {
     "duration": 0.03471,
     "end_time": "2020-08-25T10:04:50.789933",
     "exception": false,
     "start_time": "2020-08-25T10:04:50.755223",
     "status": "completed"
    },
    "tags": []
   },
   "source": [
    "### Logistic Regression based Implementation."
   ]
  },
  {
   "cell_type": "code",
   "execution_count": 21,
   "metadata": {
    "execution": {
     "iopub.execute_input": "2020-08-25T10:04:50.858544Z",
     "iopub.status.busy": "2020-08-25T10:04:50.858140Z",
     "iopub.status.idle": "2020-08-25T10:04:50.866162Z",
     "shell.execute_reply": "2020-08-25T10:04:50.866714Z"
    },
    "papermill": {
     "duration": 0.042734,
     "end_time": "2020-08-25T10:04:50.866872",
     "exception": false,
     "start_time": "2020-08-25T10:04:50.824138",
     "status": "completed"
    },
    "tags": []
   },
   "outputs": [],
   "source": [
    "learner_lr = Learner(loss, model_lr, opt, config.num_epochs)\n",
    "acc_lr = ClfCallback(learner_lr, config.bs, training_xdata , testing_xdata, training_ydata, testing_ydata)\n",
    "learner_lr.set_callbacks([acc_lr])"
   ]
  },
  {
   "cell_type": "code",
   "execution_count": 22,
   "metadata": {
    "execution": {
     "iopub.execute_input": "2020-08-25T10:04:50.924160Z",
     "iopub.status.busy": "2020-08-25T10:04:50.923621Z",
     "iopub.status.idle": "2020-08-25T10:05:03.545126Z",
     "shell.execute_reply": "2020-08-25T10:05:03.545721Z"
    },
    "papermill": {
     "duration": 12.652386,
     "end_time": "2020-08-25T10:05:03.545853",
     "exception": false,
     "start_time": "2020-08-25T10:04:50.893467",
     "status": "completed"
    },
    "tags": []
   },
   "outputs": [
    {
     "name": "stdout",
     "output_type": "stream",
     "text": [
      "====== Logistic Regression ======\n",
      "Epoch 0, Loss 0.2517\n",
      "Training Accuracy: 0.6478, Testing Accuracy: 0.6658\n",
      "\n"
     ]
    },
    {
     "name": "stdout",
     "output_type": "stream",
     "text": [
      "Epoch 10, Loss 0.1033\n",
      "Training Accuracy: 0.9124, Testing Accuracy: 0.9173\n",
      "\n"
     ]
    },
    {
     "name": "stdout",
     "output_type": "stream",
     "text": [
      "Epoch 20, Loss 0.079\n",
      "Training Accuracy: 0.9291, Testing Accuracy: 0.9345\n",
      "\n"
     ]
    },
    {
     "name": "stdout",
     "output_type": "stream",
     "text": [
      "Epoch 30, Loss 0.068\n",
      "Training Accuracy: 0.9386, Testing Accuracy: 0.9435\n",
      "\n"
     ]
    },
    {
     "name": "stdout",
     "output_type": "stream",
     "text": [
      "Epoch 40, Loss 0.0614\n",
      "Training Accuracy: 0.9431, Testing Accuracy: 0.9481\n",
      "\n"
     ]
    },
    {
     "name": "stdout",
     "output_type": "stream",
     "text": [
      "Epoch 50, Loss 0.057\n",
      "Training Accuracy: 0.9454, Testing Accuracy: 0.9521\n",
      "\n"
     ]
    },
    {
     "name": "stdout",
     "output_type": "stream",
     "text": [
      "Epoch 60, Loss 0.0537\n",
      "Training Accuracy: 0.9484, Testing Accuracy: 0.9546\n",
      "\n"
     ]
    },
    {
     "name": "stdout",
     "output_type": "stream",
     "text": [
      "Epoch 70, Loss 0.0512\n",
      "Training Accuracy: 0.9495, Testing Accuracy: 0.9577\n",
      "\n"
     ]
    },
    {
     "name": "stdout",
     "output_type": "stream",
     "text": [
      "Epoch 80, Loss 0.0492\n",
      "Training Accuracy: 0.9505, Testing Accuracy: 0.9592\n",
      "\n"
     ]
    },
    {
     "name": "stdout",
     "output_type": "stream",
     "text": [
      "Epoch 90, Loss 0.0475\n",
      "Training Accuracy: 0.9518, Testing Accuracy: 0.9597\n",
      "\n"
     ]
    },
    {
     "name": "stdout",
     "output_type": "stream",
     "text": [
      "Epoch 100, Loss 0.0461\n",
      "Training Accuracy: 0.9529, Testing Accuracy: 0.9602\n",
      "\n"
     ]
    },
    {
     "name": "stdout",
     "output_type": "stream",
     "text": [
      "Epoch 110, Loss 0.0449\n",
      "Training Accuracy: 0.9539, Testing Accuracy: 0.9617\n",
      "\n"
     ]
    },
    {
     "name": "stdout",
     "output_type": "stream",
     "text": [
      "Epoch 120, Loss 0.0439\n",
      "Training Accuracy: 0.9547, Testing Accuracy: 0.9622\n",
      "\n"
     ]
    },
    {
     "name": "stdout",
     "output_type": "stream",
     "text": [
      "Epoch 130, Loss 0.0429\n",
      "Training Accuracy: 0.9548, Testing Accuracy: 0.9622\n",
      "\n"
     ]
    },
    {
     "name": "stdout",
     "output_type": "stream",
     "text": [
      "Epoch 140, Loss 0.0421\n",
      "Training Accuracy: 0.9560, Testing Accuracy: 0.9632\n",
      "\n"
     ]
    },
    {
     "name": "stdout",
     "output_type": "stream",
     "text": [
      "Epoch 150, Loss 0.0414\n",
      "Training Accuracy: 0.9566, Testing Accuracy: 0.9642\n",
      "\n"
     ]
    },
    {
     "name": "stdout",
     "output_type": "stream",
     "text": [
      "Epoch 160, Loss 0.0407\n",
      "Training Accuracy: 0.9570, Testing Accuracy: 0.9652\n",
      "\n"
     ]
    },
    {
     "name": "stdout",
     "output_type": "stream",
     "text": [
      "Epoch 170, Loss 0.0401\n",
      "Training Accuracy: 0.9575, Testing Accuracy: 0.9657\n",
      "\n"
     ]
    },
    {
     "name": "stdout",
     "output_type": "stream",
     "text": [
      "Epoch 180, Loss 0.0395\n",
      "Training Accuracy: 0.9579, Testing Accuracy: 0.9657\n",
      "\n"
     ]
    },
    {
     "name": "stdout",
     "output_type": "stream",
     "text": [
      "Epoch 190, Loss 0.039\n",
      "Training Accuracy: 0.9582, Testing Accuracy: 0.9662\n",
      "\n"
     ]
    },
    {
     "name": "stdout",
     "output_type": "stream",
     "text": [
      "Epoch 200, Loss 0.0386\n",
      "Training Accuracy: 0.9586, Testing Accuracy: 0.9667\n",
      "\n"
     ]
    },
    {
     "name": "stdout",
     "output_type": "stream",
     "text": [
      "Epoch 210, Loss 0.0381\n",
      "Training Accuracy: 0.9589, Testing Accuracy: 0.9667\n",
      "\n"
     ]
    },
    {
     "name": "stdout",
     "output_type": "stream",
     "text": [
      "Epoch 220, Loss 0.0377\n",
      "Training Accuracy: 0.9591, Testing Accuracy: 0.9667\n",
      "\n"
     ]
    },
    {
     "name": "stdout",
     "output_type": "stream",
     "text": [
      "Epoch 230, Loss 0.0373\n",
      "Training Accuracy: 0.9592, Testing Accuracy: 0.9672\n",
      "\n"
     ]
    },
    {
     "name": "stdout",
     "output_type": "stream",
     "text": [
      "Epoch 240, Loss 0.037\n",
      "Training Accuracy: 0.9596, Testing Accuracy: 0.9677\n",
      "\n"
     ]
    },
    {
     "name": "stdout",
     "output_type": "stream",
     "text": [
      "Epoch 250, Loss 0.0366\n",
      "Training Accuracy: 0.9599, Testing Accuracy: 0.9677\n",
      "\n"
     ]
    },
    {
     "data": {
      "text/plain": [
       "0.007682308222546286"
      ]
     },
     "execution_count": 22,
     "metadata": {},
     "output_type": "execute_result"
    }
   ],
   "source": [
    "print(\"====== Logistic Regression ======\")\n",
    "learner_lr.train_loop(dl)"
   ]
  },
  {
   "cell_type": "markdown",
   "metadata": {
    "papermill": {
     "duration": 0.034267,
     "end_time": "2020-08-25T10:05:03.615967",
     "exception": false,
     "start_time": "2020-08-25T10:05:03.581700",
     "status": "completed"
    },
    "tags": []
   },
   "source": [
    "### Comparing results of NN and LR"
   ]
  },
  {
   "cell_type": "code",
   "execution_count": 23,
   "metadata": {
    "execution": {
     "iopub.execute_input": "2020-08-25T10:05:03.691746Z",
     "iopub.status.busy": "2020-08-25T10:05:03.690622Z",
     "iopub.status.idle": "2020-08-25T10:05:03.876599Z",
     "shell.execute_reply": "2020-08-25T10:05:03.875969Z"
    },
    "papermill": {
     "duration": 0.225356,
     "end_time": "2020-08-25T10:05:03.876710",
     "exception": false,
     "start_time": "2020-08-25T10:05:03.651354",
     "status": "completed"
    },
    "tags": []
   },
   "outputs": [
    {
     "data": {
      "text/plain": [
       "<matplotlib.legend.Legend at 0x7f175c86e780>"
      ]
     },
     "execution_count": 23,
     "metadata": {},
     "output_type": "execute_result"
    },
    {
     "data": {
      "image/png": "[encoded data removed]",
      "text/plain": [
       "<Figure size 1080x720 with 1 Axes>"
      ]
     },
     "metadata": {
      "needs_background": "light"
     },
     "output_type": "display_data"
    }
   ],
   "source": [
    "plt.figure(figsize=(15,10))\n",
    "\n",
    "# Neural Network plots\n",
    "plt.plot(acc_nn.accuracies, 'r-', label = \"Training Accuracies - NN\")\n",
    "plt.plot(acc_nn.test_accuracies, 'g-', label = \"Testing Accuracies - NN\")\n",
    "\n",
    "# Logistic Regression plots\n",
    "plt.plot(acc_lr.accuracies, 'k-', label = \"Training Accuracies - LR\")\n",
    "plt.plot(acc_lr.test_accuracies, 'b-', label = \"Testing Accuracies - LR\")\n",
    "\n",
    "plt.ylim(0.8, 1)\n",
    "\n",
    "plt.legend()\n",
    "\n"
   ]
  },
  {
   "cell_type": "markdown",
   "metadata": {
    "papermill": {
     "duration": 0.03452,
     "end_time": "2020-08-25T10:05:03.947204",
     "exception": false,
     "start_time": "2020-08-25T10:05:03.912684",
     "status": "completed"
    },
    "tags": []
   },
   "source": [
    "### From the plot, we can observe the following:\n",
    "- Neural Network achieves higher accuracy than the Logistic Regression model.\n",
    "- This apparently, is because of overfitting, i.e. NN captures more noise than data.\n",
    "- Testing accuracy of NN drops below the Training accuracy at higher epochs. This explains the over-fitting on training data.\n",
    "- Logistic Regression gives a reliable accuracy, without the above mentioned problem.\n"
   ]
  },
  {
   "cell_type": "markdown",
   "metadata": {
    "papermill": {
     "duration": 0.034501,
     "end_time": "2020-08-25T10:05:04.015991",
     "exception": false,
     "start_time": "2020-08-25T10:05:03.981490",
     "status": "completed"
    },
    "tags": []
   },
   "source": [
    "### Moving till the last but one layer (excluding it).\n",
    "#### Plotting the outputs of this layer of the NN."
   ]
  },
  {
   "cell_type": "code",
   "execution_count": 24,
   "metadata": {
    "execution": {
     "iopub.execute_input": "2020-08-25T10:05:04.091217Z",
     "iopub.status.busy": "2020-08-25T10:05:04.090668Z",
     "iopub.status.idle": "2020-08-25T10:05:04.102804Z",
     "shell.execute_reply": "2020-08-25T10:05:04.103165Z"
    },
    "papermill": {
     "duration": 0.053904,
     "end_time": "2020-08-25T10:05:04.103282",
     "exception": false,
     "start_time": "2020-08-25T10:05:04.049378",
     "status": "completed"
    },
    "tags": []
   },
   "outputs": [],
   "source": [
    "model_new = Model(layers[:-2])"
   ]
  },
  {
   "cell_type": "code",
   "execution_count": 25,
   "metadata": {
    "execution": {
     "iopub.execute_input": "2020-08-25T10:05:04.176860Z",
     "iopub.status.busy": "2020-08-25T10:05:04.176394Z",
     "iopub.status.idle": "2020-08-25T10:05:04.193393Z",
     "shell.execute_reply": "2020-08-25T10:05:04.193770Z"
    },
    "papermill": {
     "duration": 0.055406,
     "end_time": "2020-08-25T10:05:04.193883",
     "exception": false,
     "start_time": "2020-08-25T10:05:04.138477",
     "status": "completed"
    },
    "tags": []
   },
   "outputs": [],
   "source": [
    "plot_testing = model_new(testing_xdata)"
   ]
  },
  {
   "cell_type": "code",
   "execution_count": 26,
   "metadata": {
    "execution": {
     "iopub.execute_input": "2020-08-25T10:05:04.266652Z",
     "iopub.status.busy": "2020-08-25T10:05:04.266237Z",
     "iopub.status.idle": "2020-08-25T10:05:04.444777Z",
     "shell.execute_reply": "2020-08-25T10:05:04.445168Z"
    },
    "papermill": {
     "duration": 0.216093,
     "end_time": "2020-08-25T10:05:04.445297",
     "exception": false,
     "start_time": "2020-08-25T10:05:04.229204",
     "status": "completed"
    },
    "tags": []
   },
   "outputs": [
    {
     "data": {
      "text/plain": [
       "Text(0.5, 1.0, 'Outputs')"
      ]
     },
     "execution_count": 26,
     "metadata": {},
     "output_type": "execute_result"
    },
    {
     "data": {
      "image/png": "[encoded data removed]",
      "text/plain": [
       "<Figure size 576x504 with 1 Axes>"
      ]
     },
     "metadata": {
      "needs_background": "light"
     },
     "output_type": "display_data"
    }
   ],
   "source": [
    "plt.figure(figsize=(8,7))\n",
    "plt.scatter(plot_testing[:,0], plot_testing[:,1], alpha = 0.1, c = y_test.ravel());\n",
    "plt.title('Outputs')"
   ]
  },
  {
   "cell_type": "markdown",
   "metadata": {
    "papermill": {
     "duration": 0.036284,
     "end_time": "2020-08-25T10:05:04.517728",
     "exception": false,
     "start_time": "2020-08-25T10:05:04.481444",
     "status": "completed"
    },
    "tags": []
   },
   "source": [
    "### Plotting probability contours"
   ]
  },
  {
   "cell_type": "code",
   "execution_count": 27,
   "metadata": {
    "execution": {
     "iopub.execute_input": "2020-08-25T10:05:04.597842Z",
     "iopub.status.busy": "2020-08-25T10:05:04.597273Z",
     "iopub.status.idle": "2020-08-25T10:05:04.609422Z",
     "shell.execute_reply": "2020-08-25T10:05:04.608935Z"
    },
    "papermill": {
     "duration": 0.055272,
     "end_time": "2020-08-25T10:05:04.609532",
     "exception": false,
     "start_time": "2020-08-25T10:05:04.554260",
     "status": "completed"
    },
    "tags": []
   },
   "outputs": [],
   "source": [
    "model_prob = Model(layers[-2:]) "
   ]
  },
  {
   "cell_type": "code",
   "execution_count": 28,
   "metadata": {
    "execution": {
     "iopub.execute_input": "2020-08-25T10:05:04.687629Z",
     "iopub.status.busy": "2020-08-25T10:05:04.687217Z",
     "iopub.status.idle": "2020-08-25T10:05:04.697942Z",
     "shell.execute_reply": "2020-08-25T10:05:04.698257Z"
    },
    "papermill": {
     "duration": 0.051336,
     "end_time": "2020-08-25T10:05:04.698356",
     "exception": false,
     "start_time": "2020-08-25T10:05:04.647020",
     "status": "completed"
    },
    "tags": []
   },
   "outputs": [],
   "source": [
    "# Adjust the x and y ranges according to the above generated plot.\n",
    "x_range = np.linspace(-4, 1, 100) \n",
    "y_range = np.linspace(-6, 6, 100) \n",
    "x_grid, y_grid = np.meshgrid(x_range, y_range) # x_grid and y_grig are of size 100 X 100\n",
    "\n",
    "# converting x_grid and y_grid to continuous arrays\n",
    "x_grid_flat = np.ravel(x_grid)\n",
    "y_grid_flat = np.ravel(y_grid)\n",
    "\n",
    "# The last layer of the current model takes two columns as input. Hence transpose of np.vstack() is required.\n",
    "X = np.vstack((x_grid_flat, y_grid_flat)).T\n",
    "\n",
    "# x_grid and y_grid are of size 100 x 100\n",
    "probability_contour = model_prob(X).reshape(100,100) "
   ]
  },
  {
   "cell_type": "code",
   "execution_count": 29,
   "metadata": {
    "execution": {
     "iopub.execute_input": "2020-08-25T10:05:04.786671Z",
     "iopub.status.busy": "2020-08-25T10:05:04.786244Z",
     "iopub.status.idle": "2020-08-25T10:05:04.969479Z",
     "shell.execute_reply": "2020-08-25T10:05:04.969036Z"
    },
    "papermill": {
     "duration": 0.23437,
     "end_time": "2020-08-25T10:05:04.969566",
     "exception": false,
     "start_time": "2020-08-25T10:05:04.735196",
     "status": "completed"
    },
    "tags": []
   },
   "outputs": [
    {
     "data": {
      "image/png": "[encoded data removed]",
      "text/plain": [
       "<Figure size 720x648 with 1 Axes>"
      ]
     },
     "metadata": {
      "needs_background": "light"
     },
     "output_type": "display_data"
    }
   ],
   "source": [
    "plt.figure(figsize=(10,9))\n",
    "plt.scatter(plot_testing[:,0], plot_testing[:,1], alpha = 0.1, c = y_test.ravel())\n",
    "contours = plt.contour(x_grid,y_grid,probability_contour)\n",
    "plt.title('Probability Contours')\n",
    "plt.clabel(contours, inline = True );"
   ]
  }
 ],
 "metadata": {
  "kernelspec": {
   "display_name": "Python 3",
   "language": "python",
   "name": "python3"
  },
  "language_info": {
   "codemirror_mode": {
    "name": "ipython",
    "version": 3
   },
   "file_extension": ".py",
   "mimetype": "text/x-python",
   "name": "python",
   "nbconvert_exporter": "python",
   "pygments_lexer": "ipython3",
   "version": "3.6.11"
  },
  "papermill": {
   "duration": 96.692327,
   "end_time": "2020-08-25T10:05:05.318400",
   "environment_variables": {},
   "exception": null,
   "input_path": "2020-08-11-NeuralNetwork.ipynb",
   "output_path": "2020-08-11-NeuralNetwork.ipynb",
   "parameters": {},
   "start_time": "2020-08-25T10:03:28.626073",
   "version": "2.1.2"
  }
 },
 "nbformat": 4,
 "nbformat_minor": 4
}