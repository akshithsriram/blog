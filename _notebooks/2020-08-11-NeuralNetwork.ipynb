{
 "cells": [
  {
   "cell_type": "markdown",
   "metadata": {
    "papermill": {
     "duration": 0.033435,
     "end_time": "2020-09-16T00:06:14.717140",
     "exception": false,
     "start_time": "2020-09-16T00:06:14.683705",
     "status": "completed"
    },
    "tags": []
   },
   "source": [
    "# \"A Basic Neural Network: Differentiate Hand-Written Digits\"\n",
    "\n",
    "- badges: true\n",
    "- author: Akshith Sriram"
   ]
  },
  {
   "cell_type": "markdown",
   "metadata": {
    "papermill": {
     "duration": 0.027596,
     "end_time": "2020-09-16T00:06:14.772993",
     "exception": false,
     "start_time": "2020-09-16T00:06:14.745397",
     "status": "completed"
    },
    "tags": []
   },
   "source": [
    "### Key Objectives:\n",
    "- Building a neural network that differentiates two hand-written digits 3 and 8.\n",
    "- Comparing the results of this Neural Network (NN) to that of a Logistic Regression (LR) model.\n",
    "\n",
    "### Requirements:\n",
    "- 'Kudzu' : A neural network library that was designed during our course by [Univ.AI](www.univ.ai). \n",
    "- MNIST Database\n",
    "\n",
    "If MNIST is not installed, use the command `!pip install mnist` given below.\n",
    "It can be run both from the command line and Jupyter Notebook."
   ]
  },
  {
   "cell_type": "code",
   "execution_count": 1,
   "metadata": {
    "execution": {
     "iopub.execute_input": "2020-09-16T00:06:14.832777Z",
     "iopub.status.busy": "2020-09-16T00:06:14.832082Z",
     "iopub.status.idle": "2020-09-16T00:06:16.310607Z",
     "shell.execute_reply": "2020-09-16T00:06:16.309994Z"
    },
    "papermill": {
     "duration": 1.5102,
     "end_time": "2020-09-16T00:06:16.310775",
     "exception": false,
     "start_time": "2020-09-16T00:06:14.800575",
     "status": "completed"
    },
    "tags": []
   },
   "outputs": [
    {
     "name": "stdout",
     "output_type": "stream",
     "text": [
      "Collecting mnist\r\n"
     ]
    },
    {
     "name": "stdout",
     "output_type": "stream",
     "text": [
      "  Downloading mnist-0.2.2-py2.py3-none-any.whl (3.5 kB)\r\n",
      "Requirement already satisfied: numpy in /opt/hostedtoolcache/Python/3.6.12/x64/lib/python3.6/site-packages (from mnist) (1.19.2)\r\n"
     ]
    },
    {
     "name": "stdout",
     "output_type": "stream",
     "text": [
      "Installing collected packages: mnist\r\n"
     ]
    },
    {
     "name": "stdout",
     "output_type": "stream",
     "text": [
      "Successfully installed mnist-0.2.2\r\n"
     ]
    }
   ],
   "source": [
    "!pip install mnist "
   ]
  },
  {
   "cell_type": "markdown",
   "metadata": {
    "papermill": {
     "duration": 0.029336,
     "end_time": "2020-09-16T00:06:16.370298",
     "exception": false,
     "start_time": "2020-09-16T00:06:16.340962",
     "status": "completed"
    },
    "tags": []
   },
   "source": [
    "#### Importing necessary libraries"
   ]
  },
  {
   "cell_type": "code",
   "execution_count": 2,
   "metadata": {
    "execution": {
     "iopub.execute_input": "2020-09-16T00:06:16.438297Z",
     "iopub.status.busy": "2020-09-16T00:06:16.437628Z",
     "iopub.status.idle": "2020-09-16T00:06:17.032184Z",
     "shell.execute_reply": "2020-09-16T00:06:17.032709Z"
    },
    "papermill": {
     "duration": 0.63275,
     "end_time": "2020-09-16T00:06:17.032889",
     "exception": false,
     "start_time": "2020-09-16T00:06:16.400139",
     "status": "completed"
    },
    "tags": []
   },
   "outputs": [],
   "source": [
    "%load_ext autoreload\n",
    "%autoreload 2\n",
    "\n",
    "%matplotlib inline\n",
    "import matplotlib.pyplot as plt\n",
    "\n",
    "import numpy as np\n",
    "import pandas as pd"
   ]
  },
  {
   "cell_type": "markdown",
   "metadata": {
    "papermill": {
     "duration": 0.029089,
     "end_time": "2020-09-16T00:06:17.094143",
     "exception": false,
     "start_time": "2020-09-16T00:06:17.065054",
     "status": "completed"
    },
    "tags": []
   },
   "source": [
    "### Preparing the Data"
   ]
  },
  {
   "cell_type": "code",
   "execution_count": 3,
   "metadata": {
    "execution": {
     "iopub.execute_input": "2020-09-16T00:06:17.155586Z",
     "iopub.status.busy": "2020-09-16T00:06:17.154915Z",
     "iopub.status.idle": "2020-09-16T00:06:17.167417Z",
     "shell.execute_reply": "2020-09-16T00:06:17.167942Z"
    },
    "papermill": {
     "duration": 0.045368,
     "end_time": "2020-09-16T00:06:17.168082",
     "exception": false,
     "start_time": "2020-09-16T00:06:17.122714",
     "status": "completed"
    },
    "tags": []
   },
   "outputs": [],
   "source": [
    "import mnist"
   ]
  },
  {
   "cell_type": "code",
   "execution_count": 4,
   "metadata": {
    "execution": {
     "iopub.execute_input": "2020-09-16T00:06:17.228530Z",
     "iopub.status.busy": "2020-09-16T00:06:17.227872Z",
     "iopub.status.idle": "2020-09-16T00:06:17.995218Z",
     "shell.execute_reply": "2020-09-16T00:06:17.994578Z"
    },
    "papermill": {
     "duration": 0.798961,
     "end_time": "2020-09-16T00:06:17.995376",
     "exception": false,
     "start_time": "2020-09-16T00:06:17.196415",
     "status": "completed"
    },
    "tags": []
   },
   "outputs": [],
   "source": [
    "train_images = mnist.train_images()\n",
    "train_labels = mnist.train_labels()"
   ]
  },
  {
   "cell_type": "code",
   "execution_count": 5,
   "metadata": {
    "execution": {
     "iopub.execute_input": "2020-09-16T00:06:18.057849Z",
     "iopub.status.busy": "2020-09-16T00:06:18.057188Z",
     "iopub.status.idle": "2020-09-16T00:06:18.072476Z",
     "shell.execute_reply": "2020-09-16T00:06:18.071931Z"
    },
    "papermill": {
     "duration": 0.048179,
     "end_time": "2020-09-16T00:06:18.072608",
     "exception": false,
     "start_time": "2020-09-16T00:06:18.024429",
     "status": "completed"
    },
    "tags": []
   },
   "outputs": [
    {
     "data": {
      "text/plain": [
       "((60000, 28, 28), (60000,))"
      ]
     },
     "execution_count": 5,
     "metadata": {},
     "output_type": "execute_result"
    }
   ],
   "source": [
    "train_images.shape, train_labels.shape"
   ]
  },
  {
   "cell_type": "code",
   "execution_count": 6,
   "metadata": {
    "execution": {
     "iopub.execute_input": "2020-09-16T00:06:18.134288Z",
     "iopub.status.busy": "2020-09-16T00:06:18.133607Z",
     "iopub.status.idle": "2020-09-16T00:06:18.387482Z",
     "shell.execute_reply": "2020-09-16T00:06:18.388006Z"
    },
    "papermill": {
     "duration": 0.286571,
     "end_time": "2020-09-16T00:06:18.388183",
     "exception": false,
     "start_time": "2020-09-16T00:06:18.101612",
     "status": "completed"
    },
    "tags": []
   },
   "outputs": [],
   "source": [
    "test_images = mnist.test_images()\n",
    "test_labels = mnist.test_labels()"
   ]
  },
  {
   "cell_type": "code",
   "execution_count": 7,
   "metadata": {
    "execution": {
     "iopub.execute_input": "2020-09-16T00:06:18.451957Z",
     "iopub.status.busy": "2020-09-16T00:06:18.451179Z",
     "iopub.status.idle": "2020-09-16T00:06:18.465018Z",
     "shell.execute_reply": "2020-09-16T00:06:18.464443Z"
    },
    "papermill": {
     "duration": 0.047432,
     "end_time": "2020-09-16T00:06:18.465150",
     "exception": false,
     "start_time": "2020-09-16T00:06:18.417718",
     "status": "completed"
    },
    "tags": []
   },
   "outputs": [
    {
     "data": {
      "text/plain": [
       "((10000, 28, 28), (10000,))"
      ]
     },
     "execution_count": 7,
     "metadata": {},
     "output_type": "execute_result"
    }
   ],
   "source": [
    "test_images.shape, test_labels.shape"
   ]
  },
  {
   "cell_type": "code",
   "execution_count": 8,
   "metadata": {
    "execution": {
     "iopub.execute_input": "2020-09-16T00:06:18.529910Z",
     "iopub.status.busy": "2020-09-16T00:06:18.529234Z",
     "iopub.status.idle": "2020-09-16T00:06:18.709406Z",
     "shell.execute_reply": "2020-09-16T00:06:18.709928Z"
    },
    "papermill": {
     "duration": 0.213725,
     "end_time": "2020-09-16T00:06:18.710082",
     "exception": false,
     "start_time": "2020-09-16T00:06:18.496357",
     "status": "completed"
    },
    "tags": []
   },
   "outputs": [
    {
     "name": "stdout",
     "output_type": "stream",
     "text": [
      "2\n"
     ]
    },
    {
     "data": {
      "text/plain": [
       "<matplotlib.image.AxesImage at 0x7f287d83b7f0>"
      ]
     },
     "execution_count": 8,
     "metadata": {},
     "output_type": "execute_result"
    },
    {
     "data": {
      "image/png": "[encoded data removed]",
      "text/plain": [
       "<Figure size 432x288 with 1 Axes>"
      ]
     },
     "metadata": {
      "needs_background": "light"
     },
     "output_type": "display_data"
    }
   ],
   "source": [
    "image_index = 7776 # You may select anything up to 60,000\n",
    "print(train_labels[image_index]) \n",
    "plt.imshow(train_images[image_index], cmap='Greys')"
   ]
  },
  {
   "cell_type": "markdown",
   "metadata": {
    "papermill": {
     "duration": 0.03112,
     "end_time": "2020-09-16T00:06:18.772686",
     "exception": false,
     "start_time": "2020-09-16T00:06:18.741566",
     "status": "completed"
    },
    "tags": []
   },
   "source": [
    "## Filter data to get 3 and 8 out"
   ]
  },
  {
   "cell_type": "code",
   "execution_count": 9,
   "metadata": {
    "execution": {
     "iopub.execute_input": "2020-09-16T00:06:18.838327Z",
     "iopub.status.busy": "2020-09-16T00:06:18.837671Z",
     "iopub.status.idle": "2020-09-16T00:06:18.856989Z",
     "shell.execute_reply": "2020-09-16T00:06:18.856425Z"
    },
    "papermill": {
     "duration": 0.053746,
     "end_time": "2020-09-16T00:06:18.857126",
     "exception": false,
     "start_time": "2020-09-16T00:06:18.803380",
     "status": "completed"
    },
    "tags": []
   },
   "outputs": [],
   "source": [
    "train_filter = np.where((train_labels == 3 ) | (train_labels == 8))\n",
    "test_filter = np.where((test_labels == 3) | (test_labels == 8))\n",
    "X_train, y_train = train_images[train_filter], train_labels[train_filter]\n",
    "X_test, y_test = test_images[test_filter], test_labels[test_filter]"
   ]
  },
  {
   "cell_type": "markdown",
   "metadata": {
    "papermill": {
     "duration": 0.030474,
     "end_time": "2020-09-16T00:06:18.918232",
     "exception": false,
     "start_time": "2020-09-16T00:06:18.887758",
     "status": "completed"
    },
    "tags": []
   },
   "source": [
    "We normalize the pixel values in the 0 to 1 range"
   ]
  },
  {
   "cell_type": "code",
   "execution_count": 10,
   "metadata": {
    "execution": {
     "iopub.execute_input": "2020-09-16T00:06:18.985950Z",
     "iopub.status.busy": "2020-09-16T00:06:18.985301Z",
     "iopub.status.idle": "2020-09-16T00:06:19.047963Z",
     "shell.execute_reply": "2020-09-16T00:06:19.048500Z"
    },
    "papermill": {
     "duration": 0.099802,
     "end_time": "2020-09-16T00:06:19.048671",
     "exception": false,
     "start_time": "2020-09-16T00:06:18.948869",
     "status": "completed"
    },
    "tags": []
   },
   "outputs": [],
   "source": [
    "X_train = X_train/255.\n",
    "X_test = X_test/255."
   ]
  },
  {
   "cell_type": "markdown",
   "metadata": {
    "papermill": {
     "duration": 0.030457,
     "end_time": "2020-09-16T00:06:19.111951",
     "exception": false,
     "start_time": "2020-09-16T00:06:19.081494",
     "status": "completed"
    },
    "tags": []
   },
   "source": [
    "Setup the labels as 1 (when the digit is 3) and 0 (when the digit is 8)"
   ]
  },
  {
   "cell_type": "code",
   "execution_count": 11,
   "metadata": {
    "execution": {
     "iopub.execute_input": "2020-09-16T00:06:19.177473Z",
     "iopub.status.busy": "2020-09-16T00:06:19.176821Z",
     "iopub.status.idle": "2020-09-16T00:06:19.190311Z",
     "shell.execute_reply": "2020-09-16T00:06:19.189723Z"
    },
    "papermill": {
     "duration": 0.047965,
     "end_time": "2020-09-16T00:06:19.190526",
     "exception": false,
     "start_time": "2020-09-16T00:06:19.142561",
     "status": "completed"
    },
    "tags": []
   },
   "outputs": [],
   "source": [
    "y_train = 1*(y_train==3)\n",
    "y_test = 1*(y_test==3)"
   ]
  },
  {
   "cell_type": "code",
   "execution_count": 12,
   "metadata": {
    "execution": {
     "iopub.execute_input": "2020-09-16T00:06:19.257492Z",
     "iopub.status.busy": "2020-09-16T00:06:19.256837Z",
     "iopub.status.idle": "2020-09-16T00:06:19.271020Z",
     "shell.execute_reply": "2020-09-16T00:06:19.270470Z"
    },
    "papermill": {
     "duration": 0.048805,
     "end_time": "2020-09-16T00:06:19.271152",
     "exception": false,
     "start_time": "2020-09-16T00:06:19.222347",
     "status": "completed"
    },
    "tags": []
   },
   "outputs": [
    {
     "data": {
      "text/plain": [
       "((11982, 28, 28), (1984, 28, 28))"
      ]
     },
     "execution_count": 12,
     "metadata": {},
     "output_type": "execute_result"
    }
   ],
   "source": [
    "X_train.shape, X_test.shape"
   ]
  },
  {
   "cell_type": "markdown",
   "metadata": {
    "papermill": {
     "duration": 0.031609,
     "end_time": "2020-09-16T00:06:19.333599",
     "exception": false,
     "start_time": "2020-09-16T00:06:19.301990",
     "status": "completed"
    },
    "tags": []
   },
   "source": [
    "### Reshape the input data to create a linear array"
   ]
  },
  {
   "cell_type": "code",
   "execution_count": 13,
   "metadata": {
    "execution": {
     "iopub.execute_input": "2020-09-16T00:06:19.401199Z",
     "iopub.status.busy": "2020-09-16T00:06:19.400548Z",
     "iopub.status.idle": "2020-09-16T00:06:19.415139Z",
     "shell.execute_reply": "2020-09-16T00:06:19.414553Z"
    },
    "papermill": {
     "duration": 0.0501,
     "end_time": "2020-09-16T00:06:19.415319",
     "exception": false,
     "start_time": "2020-09-16T00:06:19.365219",
     "status": "completed"
    },
    "tags": []
   },
   "outputs": [
    {
     "data": {
      "text/plain": [
       "((11982, 784), (1984, 784))"
      ]
     },
     "execution_count": 13,
     "metadata": {},
     "output_type": "execute_result"
    }
   ],
   "source": [
    "X_train = X_train.reshape(X_train.shape[0], -1)\n",
    "X_test = X_test.reshape(X_test.shape[0], -1)\n",
    "X_train.shape, X_test.shape"
   ]
  },
  {
   "cell_type": "markdown",
   "metadata": {
    "papermill": {
     "duration": 0.033052,
     "end_time": "2020-09-16T00:06:19.479672",
     "exception": false,
     "start_time": "2020-09-16T00:06:19.446620",
     "status": "completed"
    },
    "tags": []
   },
   "source": [
    "### Importing appropriate functions from 'Kudzu'"
   ]
  },
  {
   "cell_type": "code",
   "execution_count": 14,
   "metadata": {
    "execution": {
     "iopub.execute_input": "2020-09-16T00:06:19.549611Z",
     "iopub.status.busy": "2020-09-16T00:06:19.548942Z",
     "iopub.status.idle": "2020-09-16T00:06:19.568627Z",
     "shell.execute_reply": "2020-09-16T00:06:19.569298Z"
    },
    "papermill": {
     "duration": 0.05585,
     "end_time": "2020-09-16T00:06:19.569437",
     "exception": false,
     "start_time": "2020-09-16T00:06:19.513587",
     "status": "completed"
    },
    "tags": []
   },
   "outputs": [],
   "source": [
    "from kudzu.layer import Sigmoid\n",
    "from kudzu.layer import Relu\n",
    "from kudzu.layer import Affine, Sigmoid\n",
    "\n",
    "from kudzu.model import Model\n",
    "from kudzu.train import Learner\n",
    "from kudzu.optim import GD\n",
    "from kudzu.data import Data, Dataloader, Sampler\n",
    "\n",
    "from kudzu.callbacks import AccCallback\n",
    "from kudzu.callbacks import ClfCallback\n",
    "\n",
    "from kudzu.loss import MSE"
   ]
  },
  {
   "cell_type": "markdown",
   "metadata": {
    "papermill": {
     "duration": 0.031646,
     "end_time": "2020-09-16T00:06:19.633912",
     "exception": false,
     "start_time": "2020-09-16T00:06:19.602266",
     "status": "completed"
    },
    "tags": []
   },
   "source": [
    "### Let us create a `Config` class, to store important parameters. \n",
    "This class essentially plays the role of a dictionary."
   ]
  },
  {
   "cell_type": "code",
   "execution_count": 15,
   "metadata": {
    "execution": {
     "iopub.execute_input": "2020-09-16T00:06:19.702021Z",
     "iopub.status.busy": "2020-09-16T00:06:19.701358Z",
     "iopub.status.idle": "2020-09-16T00:06:19.713290Z",
     "shell.execute_reply": "2020-09-16T00:06:19.712789Z"
    },
    "papermill": {
     "duration": 0.047305,
     "end_time": "2020-09-16T00:06:19.713414",
     "exception": false,
     "start_time": "2020-09-16T00:06:19.666109",
     "status": "completed"
    },
    "tags": []
   },
   "outputs": [],
   "source": [
    "class Config:\n",
    "    pass\n",
    "config = Config()\n",
    "config.lr = 0.001\n",
    "config.num_epochs = 251\n",
    "config.bs = 50"
   ]
  },
  {
   "cell_type": "markdown",
   "metadata": {
    "papermill": {
     "duration": 0.03182,
     "end_time": "2020-09-16T00:06:19.776436",
     "exception": false,
     "start_time": "2020-09-16T00:06:19.744616",
     "status": "completed"
    },
    "tags": []
   },
   "source": [
    "### Initializing data to the variables"
   ]
  },
  {
   "cell_type": "code",
   "execution_count": 16,
   "metadata": {
    "execution": {
     "iopub.execute_input": "2020-09-16T00:06:19.845212Z",
     "iopub.status.busy": "2020-09-16T00:06:19.844579Z",
     "iopub.status.idle": "2020-09-16T00:06:19.856335Z",
     "shell.execute_reply": "2020-09-16T00:06:19.856963Z"
    },
    "papermill": {
     "duration": 0.04832,
     "end_time": "2020-09-16T00:06:19.857101",
     "exception": false,
     "start_time": "2020-09-16T00:06:19.808781",
     "status": "completed"
    },
    "tags": []
   },
   "outputs": [],
   "source": [
    "data = Data(X_train, y_train.reshape(-1,1))\n",
    "sampler = Sampler(data, config.bs, shuffle=True)\n",
    "\n",
    "dl = Dataloader(data, sampler)\n",
    "\n",
    "opt = GD(config.lr)\n",
    "loss = MSE()"
   ]
  },
  {
   "cell_type": "code",
   "execution_count": 17,
   "metadata": {
    "execution": {
     "iopub.execute_input": "2020-09-16T00:06:20.045264Z",
     "iopub.status.busy": "2020-09-16T00:06:20.044180Z",
     "iopub.status.idle": "2020-09-16T00:06:20.053123Z",
     "shell.execute_reply": "2020-09-16T00:06:20.053991Z"
    },
    "papermill": {
     "duration": 0.16477,
     "end_time": "2020-09-16T00:06:20.054146",
     "exception": false,
     "start_time": "2020-09-16T00:06:19.889376",
     "status": "completed"
    },
    "tags": []
   },
   "outputs": [],
   "source": [
    "training_xdata = X_train\n",
    "testing_xdata = X_test\n",
    "training_ydata = y_train.reshape(-1,1)\n",
    "testing_ydata = y_test.reshape(-1,1)"
   ]
  },
  {
   "cell_type": "markdown",
   "metadata": {
    "papermill": {
     "duration": 0.496632,
     "end_time": "2020-09-16T00:06:20.582868",
     "exception": false,
     "start_time": "2020-09-16T00:06:20.086236",
     "status": "completed"
    },
    "tags": []
   },
   "source": [
    "### Running Models with the Training data\n",
    "Details about the network layers:\n",
    "- A first affine layer has 784 inputs and does 100 affine transforms. These are followed by a Relu\n",
    "- A second affine layer has 100 inputs from the 100 activations of the past layer, and does 100 affine transforms. These are followed by a Relu\n",
    "- A third affine layer has 100 activations and does 2 affine transformations to create an embedding for visualization. There is no non-linearity here.\n",
    "- A final \"logistic regression\" which has an affine transform from 2 inputs to 1 output, which is squeezed through a sigmoid.\n",
    "\n",
    "Help taken from Anshuman's Notebook."
   ]
  },
  {
   "cell_type": "code",
   "execution_count": 18,
   "metadata": {
    "execution": {
     "iopub.execute_input": "2020-09-16T00:06:20.663271Z",
     "iopub.status.busy": "2020-09-16T00:06:20.662581Z",
     "iopub.status.idle": "2020-09-16T00:06:20.680096Z",
     "shell.execute_reply": "2020-09-16T00:06:20.680742Z"
    },
    "papermill": {
     "duration": 0.063494,
     "end_time": "2020-09-16T00:06:20.680896",
     "exception": false,
     "start_time": "2020-09-16T00:06:20.617402",
     "status": "completed"
    },
    "tags": []
   },
   "outputs": [],
   "source": [
    "# layers for the Neural Network\n",
    "layers = [Affine(\"first\", 784, 100), Relu(\"first\"), Affine(\"second\", 100, 100), Relu(\"second\"), Affine(\"third\", 100, 2), Affine(\"final\", 2, 1), Sigmoid(\"final\")]\n",
    "model_nn = Model(layers)\n",
    "\n",
    "# layers for the Logistic Regression\n",
    "layers_lr = [Affine(\"logits\", 784, 1), Sigmoid(\"sigmoid\")]\n",
    "model_lr = Model(layers_lr)"
   ]
  },
  {
   "cell_type": "code",
   "execution_count": 19,
   "metadata": {
    "execution": {
     "iopub.execute_input": "2020-09-16T00:06:20.748033Z",
     "iopub.status.busy": "2020-09-16T00:06:20.747401Z",
     "iopub.status.idle": "2020-09-16T00:06:20.759343Z",
     "shell.execute_reply": "2020-09-16T00:06:20.758760Z"
    },
    "papermill": {
     "duration": 0.04722,
     "end_time": "2020-09-16T00:06:20.759472",
     "exception": false,
     "start_time": "2020-09-16T00:06:20.712252",
     "status": "completed"
    },
    "tags": []
   },
   "outputs": [],
   "source": [
    "# suffix _nn stands for Neural Network.\n",
    "learner_nn = Learner(loss, model_nn, opt, config.num_epochs)\n",
    "acc_nn = ClfCallback(learner_nn, config.bs, training_xdata , testing_xdata, training_ydata, testing_ydata)\n",
    "learner_nn.set_callbacks([acc_nn])"
   ]
  },
  {
   "cell_type": "code",
   "execution_count": 20,
   "metadata": {
    "execution": {
     "iopub.execute_input": "2020-09-16T00:06:20.824288Z",
     "iopub.status.busy": "2020-09-16T00:06:20.823657Z",
     "iopub.status.idle": "2020-09-16T00:08:33.200311Z",
     "shell.execute_reply": "2020-09-16T00:08:33.201170Z"
    },
    "papermill": {
     "duration": 132.410836,
     "end_time": "2020-09-16T00:08:33.201346",
     "exception": false,
     "start_time": "2020-09-16T00:06:20.790510",
     "status": "completed"
    },
    "tags": []
   },
   "outputs": [
    {
     "name": "stdout",
     "output_type": "stream",
     "text": [
      "====== Neural Network ======\n"
     ]
    },
    {
     "name": "stdout",
     "output_type": "stream",
     "text": [
      "Epoch 0, Loss 0.2466\n",
      "Training Accuracy: 0.5827, Testing Accuracy: 0.5837\n",
      "\n"
     ]
    },
    {
     "name": "stdout",
     "output_type": "stream",
     "text": [
      "Epoch 10, Loss 0.1812\n",
      "Training Accuracy: 0.8815, Testing Accuracy: 0.8836\n",
      "\n"
     ]
    },
    {
     "name": "stdout",
     "output_type": "stream",
     "text": [
      "Epoch 20, Loss 0.092\n",
      "Training Accuracy: 0.9153, Testing Accuracy: 0.9219\n",
      "\n"
     ]
    },
    {
     "name": "stdout",
     "output_type": "stream",
     "text": [
      "Epoch 30, Loss 0.0608\n",
      "Training Accuracy: 0.9354, Testing Accuracy: 0.9400\n",
      "\n"
     ]
    },
    {
     "name": "stdout",
     "output_type": "stream",
     "text": [
      "Epoch 40, Loss 0.0481\n",
      "Training Accuracy: 0.9471, Testing Accuracy: 0.9531\n",
      "\n"
     ]
    },
    {
     "name": "stdout",
     "output_type": "stream",
     "text": [
      "Epoch 50, Loss 0.0415\n",
      "Training Accuracy: 0.9533, Testing Accuracy: 0.9602\n",
      "\n"
     ]
    },
    {
     "name": "stdout",
     "output_type": "stream",
     "text": [
      "Epoch 60, Loss 0.0375\n",
      "Training Accuracy: 0.9578, Testing Accuracy: 0.9642\n",
      "\n"
     ]
    },
    {
     "name": "stdout",
     "output_type": "stream",
     "text": [
      "Epoch 70, Loss 0.0348\n",
      "Training Accuracy: 0.9597, Testing Accuracy: 0.9662\n",
      "\n"
     ]
    },
    {
     "name": "stdout",
     "output_type": "stream",
     "text": [
      "Epoch 80, Loss 0.0328\n",
      "Training Accuracy: 0.9616, Testing Accuracy: 0.9672\n",
      "\n"
     ]
    },
    {
     "name": "stdout",
     "output_type": "stream",
     "text": [
      "Epoch 90, Loss 0.0313\n",
      "Training Accuracy: 0.9631, Testing Accuracy: 0.9682\n",
      "\n"
     ]
    },
    {
     "name": "stdout",
     "output_type": "stream",
     "text": [
      "Epoch 100, Loss 0.03\n",
      "Training Accuracy: 0.9644, Testing Accuracy: 0.9708\n",
      "\n"
     ]
    },
    {
     "name": "stdout",
     "output_type": "stream",
     "text": [
      "Epoch 110, Loss 0.0289\n",
      "Training Accuracy: 0.9654, Testing Accuracy: 0.9708\n",
      "\n"
     ]
    },
    {
     "name": "stdout",
     "output_type": "stream",
     "text": [
      "Epoch 120, Loss 0.028\n",
      "Training Accuracy: 0.9663, Testing Accuracy: 0.9703\n",
      "\n"
     ]
    },
    {
     "name": "stdout",
     "output_type": "stream",
     "text": [
      "Epoch 130, Loss 0.0272\n",
      "Training Accuracy: 0.9674, Testing Accuracy: 0.9713\n",
      "\n"
     ]
    },
    {
     "name": "stdout",
     "output_type": "stream",
     "text": [
      "Epoch 140, Loss 0.0265\n",
      "Training Accuracy: 0.9685, Testing Accuracy: 0.9718\n",
      "\n"
     ]
    },
    {
     "name": "stdout",
     "output_type": "stream",
     "text": [
      "Epoch 150, Loss 0.0259\n",
      "Training Accuracy: 0.9693, Testing Accuracy: 0.9718\n",
      "\n"
     ]
    },
    {
     "name": "stdout",
     "output_type": "stream",
     "text": [
      "Epoch 160, Loss 0.0253\n",
      "Training Accuracy: 0.9700, Testing Accuracy: 0.9723\n",
      "\n"
     ]
    },
    {
     "name": "stdout",
     "output_type": "stream",
     "text": [
      "Epoch 170, Loss 0.0248\n",
      "Training Accuracy: 0.9711, Testing Accuracy: 0.9728\n",
      "\n"
     ]
    },
    {
     "name": "stdout",
     "output_type": "stream",
     "text": [
      "Epoch 180, Loss 0.0243\n",
      "Training Accuracy: 0.9723, Testing Accuracy: 0.9728\n",
      "\n"
     ]
    },
    {
     "name": "stdout",
     "output_type": "stream",
     "text": [
      "Epoch 190, Loss 0.0238\n",
      "Training Accuracy: 0.9729, Testing Accuracy: 0.9723\n",
      "\n"
     ]
    },
    {
     "name": "stdout",
     "output_type": "stream",
     "text": [
      "Epoch 200, Loss 0.0234\n",
      "Training Accuracy: 0.9735, Testing Accuracy: 0.9718\n",
      "\n"
     ]
    },
    {
     "name": "stdout",
     "output_type": "stream",
     "text": [
      "Epoch 210, Loss 0.023\n",
      "Training Accuracy: 0.9739, Testing Accuracy: 0.9718\n",
      "\n"
     ]
    },
    {
     "name": "stdout",
     "output_type": "stream",
     "text": [
      "Epoch 220, Loss 0.0226\n",
      "Training Accuracy: 0.9741, Testing Accuracy: 0.9713\n",
      "\n"
     ]
    },
    {
     "name": "stdout",
     "output_type": "stream",
     "text": [
      "Epoch 230, Loss 0.0222\n",
      "Training Accuracy: 0.9744, Testing Accuracy: 0.9708\n",
      "\n"
     ]
    },
    {
     "name": "stdout",
     "output_type": "stream",
     "text": [
      "Epoch 240, Loss 0.0218\n",
      "Training Accuracy: 0.9745, Testing Accuracy: 0.9718\n",
      "\n"
     ]
    },
    {
     "name": "stdout",
     "output_type": "stream",
     "text": [
      "Epoch 250, Loss 0.0215\n",
      "Training Accuracy: 0.9753, Testing Accuracy: 0.9718\n",
      "\n"
     ]
    },
    {
     "data": {
      "text/plain": [
       "0.0014055474074556882"
      ]
     },
     "execution_count": 20,
     "metadata": {},
     "output_type": "execute_result"
    }
   ],
   "source": [
    "print(\"====== Neural Network ======\")\n",
    "learner_nn.train_loop(dl)"
   ]
  },
  {
   "cell_type": "markdown",
   "metadata": {
    "papermill": {
     "duration": 0.040376,
     "end_time": "2020-09-16T00:08:33.283556",
     "exception": false,
     "start_time": "2020-09-16T00:08:33.243180",
     "status": "completed"
    },
    "tags": []
   },
   "source": [
    "### Logistic Regression based Implementation."
   ]
  },
  {
   "cell_type": "code",
   "execution_count": 21,
   "metadata": {
    "execution": {
     "iopub.execute_input": "2020-09-16T00:08:33.370024Z",
     "iopub.status.busy": "2020-09-16T00:08:33.369367Z",
     "iopub.status.idle": "2020-09-16T00:08:33.382495Z",
     "shell.execute_reply": "2020-09-16T00:08:33.381847Z"
    },
    "papermill": {
     "duration": 0.058211,
     "end_time": "2020-09-16T00:08:33.382631",
     "exception": false,
     "start_time": "2020-09-16T00:08:33.324420",
     "status": "completed"
    },
    "tags": []
   },
   "outputs": [],
   "source": [
    "learner_lr = Learner(loss, model_lr, opt, config.num_epochs)\n",
    "acc_lr = ClfCallback(learner_lr, config.bs, training_xdata , testing_xdata, training_ydata, testing_ydata)\n",
    "learner_lr.set_callbacks([acc_lr])"
   ]
  },
  {
   "cell_type": "code",
   "execution_count": 22,
   "metadata": {
    "execution": {
     "iopub.execute_input": "2020-09-16T00:08:33.469728Z",
     "iopub.status.busy": "2020-09-16T00:08:33.469058Z",
     "iopub.status.idle": "2020-09-16T00:08:53.363728Z",
     "shell.execute_reply": "2020-09-16T00:08:53.364604Z"
    },
    "papermill": {
     "duration": 19.941123,
     "end_time": "2020-09-16T00:08:53.364781",
     "exception": false,
     "start_time": "2020-09-16T00:08:33.423658",
     "status": "completed"
    },
    "tags": []
   },
   "outputs": [
    {
     "name": "stdout",
     "output_type": "stream",
     "text": [
      "====== Logistic Regression ======\n",
      "Epoch 0, Loss 0.2284\n",
      "Training Accuracy: 0.7361, Testing Accuracy: 0.7288\n",
      "\n"
     ]
    },
    {
     "name": "stdout",
     "output_type": "stream",
     "text": [
      "Epoch 10, Loss 0.102\n",
      "Training Accuracy: 0.9092, Testing Accuracy: 0.9178\n",
      "\n"
     ]
    },
    {
     "name": "stdout",
     "output_type": "stream",
     "text": [
      "Epoch 20, Loss 0.079\n",
      "Training Accuracy: 0.9274, Testing Accuracy: 0.9365\n",
      "\n"
     ]
    },
    {
     "name": "stdout",
     "output_type": "stream",
     "text": [
      "Epoch 30, Loss 0.0682\n",
      "Training Accuracy: 0.9350, Testing Accuracy: 0.9456\n",
      "\n"
     ]
    },
    {
     "name": "stdout",
     "output_type": "stream",
     "text": [
      "Epoch 40, Loss 0.0617\n",
      "Training Accuracy: 0.9397, Testing Accuracy: 0.9501\n",
      "\n"
     ]
    },
    {
     "name": "stdout",
     "output_type": "stream",
     "text": [
      "Epoch 50, Loss 0.0572\n",
      "Training Accuracy: 0.9423, Testing Accuracy: 0.9531\n",
      "\n"
     ]
    },
    {
     "name": "stdout",
     "output_type": "stream",
     "text": [
      "Epoch 60, Loss 0.0539\n",
      "Training Accuracy: 0.9456, Testing Accuracy: 0.9561\n",
      "\n"
     ]
    },
    {
     "name": "stdout",
     "output_type": "stream",
     "text": [
      "Epoch 70, Loss 0.0513\n",
      "Training Accuracy: 0.9481, Testing Accuracy: 0.9582\n",
      "\n"
     ]
    },
    {
     "name": "stdout",
     "output_type": "stream",
     "text": [
      "Epoch 80, Loss 0.0493\n",
      "Training Accuracy: 0.9499, Testing Accuracy: 0.9592\n",
      "\n"
     ]
    },
    {
     "name": "stdout",
     "output_type": "stream",
     "text": [
      "Epoch 90, Loss 0.0476\n",
      "Training Accuracy: 0.9511, Testing Accuracy: 0.9607\n",
      "\n"
     ]
    },
    {
     "name": "stdout",
     "output_type": "stream",
     "text": [
      "Epoch 100, Loss 0.0462\n",
      "Training Accuracy: 0.9524, Testing Accuracy: 0.9627\n",
      "\n"
     ]
    },
    {
     "name": "stdout",
     "output_type": "stream",
     "text": [
      "Epoch 110, Loss 0.0449\n",
      "Training Accuracy: 0.9536, Testing Accuracy: 0.9642\n",
      "\n"
     ]
    },
    {
     "name": "stdout",
     "output_type": "stream",
     "text": [
      "Epoch 120, Loss 0.0439\n",
      "Training Accuracy: 0.9546, Testing Accuracy: 0.9657\n",
      "\n"
     ]
    },
    {
     "name": "stdout",
     "output_type": "stream",
     "text": [
      "Epoch 130, Loss 0.0429\n",
      "Training Accuracy: 0.9553, Testing Accuracy: 0.9657\n",
      "\n"
     ]
    },
    {
     "name": "stdout",
     "output_type": "stream",
     "text": [
      "Epoch 140, Loss 0.0421\n",
      "Training Accuracy: 0.9561, Testing Accuracy: 0.9662\n",
      "\n"
     ]
    },
    {
     "name": "stdout",
     "output_type": "stream",
     "text": [
      "Epoch 150, Loss 0.0414\n",
      "Training Accuracy: 0.9567, Testing Accuracy: 0.9667\n",
      "\n"
     ]
    },
    {
     "name": "stdout",
     "output_type": "stream",
     "text": [
      "Epoch 160, Loss 0.0407\n",
      "Training Accuracy: 0.9571, Testing Accuracy: 0.9677\n",
      "\n"
     ]
    },
    {
     "name": "stdout",
     "output_type": "stream",
     "text": [
      "Epoch 170, Loss 0.0401\n",
      "Training Accuracy: 0.9577, Testing Accuracy: 0.9677\n",
      "\n"
     ]
    },
    {
     "name": "stdout",
     "output_type": "stream",
     "text": [
      "Epoch 180, Loss 0.0395\n",
      "Training Accuracy: 0.9583, Testing Accuracy: 0.9688\n",
      "\n"
     ]
    },
    {
     "name": "stdout",
     "output_type": "stream",
     "text": [
      "Epoch 190, Loss 0.039\n",
      "Training Accuracy: 0.9589, Testing Accuracy: 0.9703\n",
      "\n"
     ]
    },
    {
     "name": "stdout",
     "output_type": "stream",
     "text": [
      "Epoch 200, Loss 0.0385\n",
      "Training Accuracy: 0.9591, Testing Accuracy: 0.9708\n",
      "\n"
     ]
    },
    {
     "name": "stdout",
     "output_type": "stream",
     "text": [
      "Epoch 210, Loss 0.0381\n",
      "Training Accuracy: 0.9599, Testing Accuracy: 0.9708\n",
      "\n"
     ]
    },
    {
     "name": "stdout",
     "output_type": "stream",
     "text": [
      "Epoch 220, Loss 0.0377\n",
      "Training Accuracy: 0.9600, Testing Accuracy: 0.9708\n",
      "\n"
     ]
    },
    {
     "name": "stdout",
     "output_type": "stream",
     "text": [
      "Epoch 230, Loss 0.0373\n",
      "Training Accuracy: 0.9600, Testing Accuracy: 0.9713\n",
      "\n"
     ]
    },
    {
     "name": "stdout",
     "output_type": "stream",
     "text": [
      "Epoch 240, Loss 0.0369\n",
      "Training Accuracy: 0.9604, Testing Accuracy: 0.9713\n",
      "\n"
     ]
    },
    {
     "name": "stdout",
     "output_type": "stream",
     "text": [
      "Epoch 250, Loss 0.0366\n",
      "Training Accuracy: 0.9606, Testing Accuracy: 0.9718\n",
      "\n"
     ]
    },
    {
     "data": {
      "text/plain": [
       "0.05145843286693945"
      ]
     },
     "execution_count": 22,
     "metadata": {},
     "output_type": "execute_result"
    }
   ],
   "source": [
    "print(\"====== Logistic Regression ======\")\n",
    "learner_lr.train_loop(dl)"
   ]
  },
  {
   "cell_type": "markdown",
   "metadata": {
    "papermill": {
     "duration": 0.048565,
     "end_time": "2020-09-16T00:08:53.463842",
     "exception": false,
     "start_time": "2020-09-16T00:08:53.415277",
     "status": "completed"
    },
    "tags": []
   },
   "source": [
    "### Comparing results of NN and LR"
   ]
  },
  {
   "cell_type": "code",
   "execution_count": 23,
   "metadata": {
    "execution": {
     "iopub.execute_input": "2020-09-16T00:08:53.569066Z",
     "iopub.status.busy": "2020-09-16T00:08:53.567765Z",
     "iopub.status.idle": "2020-09-16T00:08:53.847329Z",
     "shell.execute_reply": "2020-09-16T00:08:53.846243Z"
    },
    "papermill": {
     "duration": 0.334943,
     "end_time": "2020-09-16T00:08:53.847486",
     "exception": false,
     "start_time": "2020-09-16T00:08:53.512543",
     "status": "completed"
    },
    "tags": []
   },
   "outputs": [
    {
     "data": {
      "text/plain": [
       "<matplotlib.legend.Legend at 0x7f287b3a0240>"
      ]
     },
     "execution_count": 23,
     "metadata": {},
     "output_type": "execute_result"
    },
    {
     "data": {
      "image/png": "[encoded data removed]",
      "text/plain": [
       "<Figure size 1080x720 with 1 Axes>"
      ]
     },
     "metadata": {
      "needs_background": "light"
     },
     "output_type": "display_data"
    }
   ],
   "source": [
    "plt.figure(figsize=(15,10))\n",
    "\n",
    "# Neural Network plots\n",
    "plt.plot(acc_nn.accuracies, 'r-', label = \"Training Accuracies - NN\")\n",
    "plt.plot(acc_nn.test_accuracies, 'g-', label = \"Testing Accuracies - NN\")\n",
    "\n",
    "# Logistic Regression plots\n",
    "plt.plot(acc_lr.accuracies, 'k-', label = \"Training Accuracies - LR\")\n",
    "plt.plot(acc_lr.test_accuracies, 'b-', label = \"Testing Accuracies - LR\")\n",
    "\n",
    "plt.ylim(0.8, 1)\n",
    "\n",
    "plt.legend()\n",
    "\n"
   ]
  },
  {
   "cell_type": "markdown",
   "metadata": {
    "papermill": {
     "duration": 0.050178,
     "end_time": "2020-09-16T00:08:53.950301",
     "exception": false,
     "start_time": "2020-09-16T00:08:53.900123",
     "status": "completed"
    },
    "tags": []
   },
   "source": [
    "### From the plot, we can observe the following:\n",
    "- Neural Network achieves higher accuracy than the Logistic Regression model.\n",
    "- This apparently, is because of overfitting, i.e. NN captures more noise than data.\n",
    "- Testing accuracy of NN drops below the Training accuracy at higher epochs. This explains the over-fitting on training data.\n",
    "- Logistic Regression gives a reliable accuracy, without the above mentioned problem.\n"
   ]
  },
  {
   "cell_type": "markdown",
   "metadata": {
    "papermill": {
     "duration": 0.050718,
     "end_time": "2020-09-16T00:08:54.052618",
     "exception": false,
     "start_time": "2020-09-16T00:08:54.001900",
     "status": "completed"
    },
    "tags": []
   },
   "source": [
    "### Moving till the last but one layer (excluding it).\n",
    "#### Plotting the outputs of this layer of the NN."
   ]
  },
  {
   "cell_type": "code",
   "execution_count": 24,
   "metadata": {
    "execution": {
     "iopub.execute_input": "2020-09-16T00:08:54.158613Z",
     "iopub.status.busy": "2020-09-16T00:08:54.157628Z",
     "iopub.status.idle": "2020-09-16T00:08:54.171029Z",
     "shell.execute_reply": "2020-09-16T00:08:54.170025Z"
    },
    "papermill": {
     "duration": 0.067744,
     "end_time": "2020-09-16T00:08:54.171208",
     "exception": false,
     "start_time": "2020-09-16T00:08:54.103464",
     "status": "completed"
    },
    "tags": []
   },
   "outputs": [],
   "source": [
    "model_new = Model(layers[:-2])"
   ]
  },
  {
   "cell_type": "code",
   "execution_count": 25,
   "metadata": {
    "execution": {
     "iopub.execute_input": "2020-09-16T00:08:54.278586Z",
     "iopub.status.busy": "2020-09-16T00:08:54.277477Z",
     "iopub.status.idle": "2020-09-16T00:08:54.303229Z",
     "shell.execute_reply": "2020-09-16T00:08:54.303771Z"
    },
    "papermill": {
     "duration": 0.081028,
     "end_time": "2020-09-16T00:08:54.303934",
     "exception": false,
     "start_time": "2020-09-16T00:08:54.222906",
     "status": "completed"
    },
    "tags": []
   },
   "outputs": [],
   "source": [
    "plot_testing = model_new(testing_xdata)"
   ]
  },
  {
   "cell_type": "code",
   "execution_count": 26,
   "metadata": {
    "execution": {
     "iopub.execute_input": "2020-09-16T00:08:54.411725Z",
     "iopub.status.busy": "2020-09-16T00:08:54.411029Z",
     "iopub.status.idle": "2020-09-16T00:08:54.650527Z",
     "shell.execute_reply": "2020-09-16T00:08:54.649942Z"
    },
    "papermill": {
     "duration": 0.294857,
     "end_time": "2020-09-16T00:08:54.650679",
     "exception": false,
     "start_time": "2020-09-16T00:08:54.355822",
     "status": "completed"
    },
    "tags": []
   },
   "outputs": [
    {
     "data": {
      "text/plain": [
       "Text(0.5, 1.0, 'Outputs')"
      ]
     },
     "execution_count": 26,
     "metadata": {},
     "output_type": "execute_result"
    },
    {
     "data": {
      "image/png": "[encoded data removed]",
      "text/plain": [
       "<Figure size 576x504 with 1 Axes>"
      ]
     },
     "metadata": {
      "needs_background": "light"
     },
     "output_type": "display_data"
    }
   ],
   "source": [
    "plt.figure(figsize=(8,7))\n",
    "plt.scatter(plot_testing[:,0], plot_testing[:,1], alpha = 0.1, c = y_test.ravel());\n",
    "plt.title('Outputs')"
   ]
  },
  {
   "cell_type": "markdown",
   "metadata": {
    "papermill": {
     "duration": 0.052808,
     "end_time": "2020-09-16T00:08:54.757295",
     "exception": false,
     "start_time": "2020-09-16T00:08:54.704487",
     "status": "completed"
    },
    "tags": []
   },
   "source": [
    "### Plotting probability contours"
   ]
  },
  {
   "cell_type": "code",
   "execution_count": 27,
   "metadata": {
    "execution": {
     "iopub.execute_input": "2020-09-16T00:08:54.868371Z",
     "iopub.status.busy": "2020-09-16T00:08:54.867053Z",
     "iopub.status.idle": "2020-09-16T00:08:54.880492Z",
     "shell.execute_reply": "2020-09-16T00:08:54.881040Z"
    },
    "papermill": {
     "duration": 0.070533,
     "end_time": "2020-09-16T00:08:54.881197",
     "exception": false,
     "start_time": "2020-09-16T00:08:54.810664",
     "status": "completed"
    },
    "tags": []
   },
   "outputs": [],
   "source": [
    "model_prob = Model(layers[-2:]) "
   ]
  },
  {
   "cell_type": "code",
   "execution_count": 28,
   "metadata": {
    "execution": {
     "iopub.execute_input": "2020-09-16T00:08:54.998483Z",
     "iopub.status.busy": "2020-09-16T00:08:54.996683Z",
     "iopub.status.idle": "2020-09-16T00:08:55.012018Z",
     "shell.execute_reply": "2020-09-16T00:08:55.012536Z"
    },
    "papermill": {
     "duration": 0.075389,
     "end_time": "2020-09-16T00:08:55.012707",
     "exception": false,
     "start_time": "2020-09-16T00:08:54.937318",
     "status": "completed"
    },
    "tags": []
   },
   "outputs": [],
   "source": [
    "# Adjust the x and y ranges according to the above generated plot.\n",
    "x_range = np.linspace(-4, 1, 100) \n",
    "y_range = np.linspace(-6, 6, 100) \n",
    "x_grid, y_grid = np.meshgrid(x_range, y_range) # x_grid and y_grig are of size 100 X 100\n",
    "\n",
    "# converting x_grid and y_grid to continuous arrays\n",
    "x_grid_flat = np.ravel(x_grid)\n",
    "y_grid_flat = np.ravel(y_grid)\n",
    "\n",
    "# The last layer of the current model takes two columns as input. Hence transpose of np.vstack() is required.\n",
    "X = np.vstack((x_grid_flat, y_grid_flat)).T\n",
    "\n",
    "# x_grid and y_grid are of size 100 x 100\n",
    "probability_contour = model_prob(X).reshape(100,100) "
   ]
  },
  {
   "cell_type": "code",
   "execution_count": 29,
   "metadata": {
    "execution": {
     "iopub.execute_input": "2020-09-16T00:08:55.132605Z",
     "iopub.status.busy": "2020-09-16T00:08:55.131928Z",
     "iopub.status.idle": "2020-09-16T00:08:55.434989Z",
     "shell.execute_reply": "2020-09-16T00:08:55.435573Z"
    },
    "papermill": {
     "duration": 0.367978,
     "end_time": "2020-09-16T00:08:55.435749",
     "exception": false,
     "start_time": "2020-09-16T00:08:55.067771",
     "status": "completed"
    },
    "tags": []
   },
   "outputs": [
    {
     "data": {
      "image/png": "[encoded data removed]",
      "text/plain": [
       "<Figure size 720x648 with 1 Axes>"
      ]
     },
     "metadata": {
      "needs_background": "light"
     },
     "output_type": "display_data"
    }
   ],
   "source": [
    "plt.figure(figsize=(10,9))\n",
    "plt.scatter(plot_testing[:,0], plot_testing[:,1], alpha = 0.1, c = y_test.ravel())\n",
    "contours = plt.contour(x_grid,y_grid,probability_contour)\n",
    "plt.title('Probability Contours')\n",
    "plt.clabel(contours, inline = True );"
   ]
  }
 ],
 "metadata": {
  "kernelspec": {
   "display_name": "Python 3",
   "language": "python",
   "name": "python3"
  },
  "language_info": {
   "codemirror_mode": {
    "name": "ipython",
    "version": 3
   },
   "file_extension": ".py",
   "mimetype": "text/x-python",
   "name": "python",
   "nbconvert_exporter": "python",
   "pygments_lexer": "ipython3",
   "version": "3.6.12"
  },
  "papermill": {
   "duration": 162.215453,
   "end_time": "2020-09-16T00:08:55.798535",
   "environment_variables": {},
   "exception": null,
   "input_path": "2020-08-11-NeuralNetwork.ipynb",
   "output_path": "2020-08-11-NeuralNetwork.ipynb",
   "parameters": {},
   "start_time": "2020-09-16T00:06:13.583082",
   "version": "2.1.2"
  }
 },
 "nbformat": 4,
 "nbformat_minor": 4
}