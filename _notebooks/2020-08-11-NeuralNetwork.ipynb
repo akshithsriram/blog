{
 "cells": [
  {
   "cell_type": "markdown",
   "id": "fitted-suggestion",
   "metadata": {
    "papermill": {
     "duration": 0.02891,
     "end_time": "2021-08-02T10:05:09.453207",
     "exception": false,
     "start_time": "2021-08-02T10:05:09.424297",
     "status": "completed"
    },
    "tags": []
   },
   "source": [
    "# \"A Basic Neural Network: Differentiate Hand-Written Digits\"\n",
    "\n",
    "- badges: true\n",
    "- author: Akshith Sriram"
   ]
  },
  {
   "cell_type": "markdown",
   "id": "signal-flexibility",
   "metadata": {
    "papermill": {
     "duration": 0.024755,
     "end_time": "2021-08-02T10:05:09.503516",
     "exception": false,
     "start_time": "2021-08-02T10:05:09.478761",
     "status": "completed"
    },
    "tags": []
   },
   "source": [
    "### Key Objectives:\n",
    "- Building a neural network that differentiates two hand-written digits 3 and 8.\n",
    "- Comparing the results of this Neural Network (NN) to that of a Logistic Regression (LR) model.\n",
    "\n",
    "### Requirements:\n",
    "- 'Kudzu' : A neural network library that was designed during our course by [Univ.AI](www.univ.ai). \n",
    "- MNIST Database\n",
    "\n",
    "If MNIST is not installed, use the command `!pip install mnist` given below.\n",
    "It can be run both from the command line and Jupyter Notebook."
   ]
  },
  {
   "cell_type": "code",
   "execution_count": 1,
   "id": "british-texture",
   "metadata": {
    "execution": {
     "iopub.execute_input": "2021-08-02T10:05:09.563001Z",
     "iopub.status.busy": "2021-08-02T10:05:09.562486Z",
     "iopub.status.idle": "2021-08-02T10:05:12.044332Z",
     "shell.execute_reply": "2021-08-02T10:05:12.043628Z"
    },
    "papermill": {
     "duration": 2.516245,
     "end_time": "2021-08-02T10:05:12.044482",
     "exception": false,
     "start_time": "2021-08-02T10:05:09.528237",
     "status": "completed"
    },
    "tags": []
   },
   "outputs": [
    {
     "name": "stdout",
     "output_type": "stream",
     "text": [
      "Collecting mnist\r\n"
     ]
    },
    {
     "name": "stdout",
     "output_type": "stream",
     "text": [
      "  Downloading mnist-0.2.2-py2.py3-none-any.whl (3.5 kB)\r\n",
      "Requirement already satisfied: numpy in /opt/hostedtoolcache/Python/3.6.14/x64/lib/python3.6/site-packages (from mnist) (1.19.5)\r\n"
     ]
    },
    {
     "name": "stdout",
     "output_type": "stream",
     "text": [
      "Installing collected packages: mnist\r\n",
      "Successfully installed mnist-0.2.2\r\n"
     ]
    },
    {
     "name": "stdout",
     "output_type": "stream",
     "text": [
      "\u001b[33mWARNING: You are using pip version 21.2.1; however, version 21.2.2 is available.\r\n",
      "You should consider upgrading via the '/opt/hostedtoolcache/Python/3.6.14/x64/bin/python -m pip install --upgrade pip' command.\u001b[0m\r\n"
     ]
    }
   ],
   "source": [
    "!pip install mnist "
   ]
  },
  {
   "cell_type": "markdown",
   "id": "stunning-extra",
   "metadata": {
    "papermill": {
     "duration": 0.025775,
     "end_time": "2021-08-02T10:05:12.096681",
     "exception": false,
     "start_time": "2021-08-02T10:05:12.070906",
     "status": "completed"
    },
    "tags": []
   },
   "source": [
    "#### Importing necessary libraries"
   ]
  },
  {
   "cell_type": "code",
   "execution_count": 2,
   "id": "wooden-france",
   "metadata": {
    "execution": {
     "iopub.execute_input": "2021-08-02T10:05:12.156010Z",
     "iopub.status.busy": "2021-08-02T10:05:12.155482Z",
     "iopub.status.idle": "2021-08-02T10:05:12.680860Z",
     "shell.execute_reply": "2021-08-02T10:05:12.680336Z"
    },
    "papermill": {
     "duration": 0.558386,
     "end_time": "2021-08-02T10:05:12.681002",
     "exception": false,
     "start_time": "2021-08-02T10:05:12.122616",
     "status": "completed"
    },
    "tags": []
   },
   "outputs": [],
   "source": [
    "%load_ext autoreload\n",
    "%autoreload 2\n",
    "\n",
    "%matplotlib inline\n",
    "import matplotlib.pyplot as plt\n",
    "\n",
    "import numpy as np\n",
    "import pandas as pd"
   ]
  },
  {
   "cell_type": "markdown",
   "id": "stunning-physics",
   "metadata": {
    "papermill": {
     "duration": 0.038547,
     "end_time": "2021-08-02T10:05:12.753165",
     "exception": false,
     "start_time": "2021-08-02T10:05:12.714618",
     "status": "completed"
    },
    "tags": []
   },
   "source": [
    "### Preparing the Data"
   ]
  },
  {
   "cell_type": "code",
   "execution_count": 3,
   "id": "unauthorized-remainder",
   "metadata": {
    "execution": {
     "iopub.execute_input": "2021-08-02T10:05:12.928954Z",
     "iopub.status.busy": "2021-08-02T10:05:12.928431Z",
     "iopub.status.idle": "2021-08-02T10:05:12.935418Z",
     "shell.execute_reply": "2021-08-02T10:05:12.935006Z"
    },
    "papermill": {
     "duration": 0.152981,
     "end_time": "2021-08-02T10:05:12.935534",
     "exception": false,
     "start_time": "2021-08-02T10:05:12.782553",
     "status": "completed"
    },
    "tags": []
   },
   "outputs": [],
   "source": [
    "import mnist"
   ]
  },
  {
   "cell_type": "code",
   "execution_count": 4,
   "id": "correct-antarctica",
   "metadata": {
    "execution": {
     "iopub.execute_input": "2021-08-02T10:05:12.992879Z",
     "iopub.status.busy": "2021-08-02T10:05:12.992368Z",
     "iopub.status.idle": "2021-08-02T10:09:49.644474Z",
     "shell.execute_reply": "2021-08-02T10:09:49.643439Z"
    },
    "papermill": {
     "duration": 276.681553,
     "end_time": "2021-08-02T10:09:49.644632",
     "exception": false,
     "start_time": "2021-08-02T10:05:12.963079",
     "status": "completed"
    },
    "tags": []
   },
   "outputs": [],
   "source": [
    "train_images = mnist.train_images()\n",
    "train_labels = mnist.train_labels()"
   ]
  },
  {
   "cell_type": "code",
   "execution_count": 5,
   "id": "musical-prospect",
   "metadata": {
    "execution": {
     "iopub.execute_input": "2021-08-02T10:09:49.704669Z",
     "iopub.status.busy": "2021-08-02T10:09:49.700212Z",
     "iopub.status.idle": "2021-08-02T10:09:49.713255Z",
     "shell.execute_reply": "2021-08-02T10:09:49.713718Z"
    },
    "papermill": {
     "duration": 0.042666,
     "end_time": "2021-08-02T10:09:49.713847",
     "exception": false,
     "start_time": "2021-08-02T10:09:49.671181",
     "status": "completed"
    },
    "tags": []
   },
   "outputs": [
    {
     "data": {
      "text/plain": [
       "((60000, 28, 28), (60000,))"
      ]
     },
     "execution_count": 5,
     "metadata": {},
     "output_type": "execute_result"
    }
   ],
   "source": [
    "train_images.shape, train_labels.shape"
   ]
  },
  {
   "cell_type": "code",
   "execution_count": 6,
   "id": "preliminary-elizabeth",
   "metadata": {
    "execution": {
     "iopub.execute_input": "2021-08-02T10:09:49.772821Z",
     "iopub.status.busy": "2021-08-02T10:09:49.772335Z",
     "iopub.status.idle": "2021-08-02T10:10:21.119831Z",
     "shell.execute_reply": "2021-08-02T10:10:21.118890Z"
    },
    "papermill": {
     "duration": 31.379798,
     "end_time": "2021-08-02T10:10:21.119978",
     "exception": false,
     "start_time": "2021-08-02T10:09:49.740180",
     "status": "completed"
    },
    "tags": []
   },
   "outputs": [],
   "source": [
    "test_images = mnist.test_images()\n",
    "test_labels = mnist.test_labels()"
   ]
  },
  {
   "cell_type": "code",
   "execution_count": 7,
   "id": "acknowledged-oxygen",
   "metadata": {
    "execution": {
     "iopub.execute_input": "2021-08-02T10:10:21.180767Z",
     "iopub.status.busy": "2021-08-02T10:10:21.177167Z",
     "iopub.status.idle": "2021-08-02T10:10:21.189362Z",
     "shell.execute_reply": "2021-08-02T10:10:21.188956Z"
    },
    "papermill": {
     "duration": 0.042507,
     "end_time": "2021-08-02T10:10:21.189475",
     "exception": false,
     "start_time": "2021-08-02T10:10:21.146968",
     "status": "completed"
    },
    "tags": []
   },
   "outputs": [
    {
     "data": {
      "text/plain": [
       "((10000, 28, 28), (10000,))"
      ]
     },
     "execution_count": 7,
     "metadata": {},
     "output_type": "execute_result"
    }
   ],
   "source": [
    "test_images.shape, test_labels.shape"
   ]
  },
  {
   "cell_type": "code",
   "execution_count": 8,
   "id": "innovative-organic",
   "metadata": {
    "execution": {
     "iopub.execute_input": "2021-08-02T10:10:21.250555Z",
     "iopub.status.busy": "2021-08-02T10:10:21.249778Z",
     "iopub.status.idle": "2021-08-02T10:10:21.385563Z",
     "shell.execute_reply": "2021-08-02T10:10:21.385116Z"
    },
    "papermill": {
     "duration": 0.169517,
     "end_time": "2021-08-02T10:10:21.385683",
     "exception": false,
     "start_time": "2021-08-02T10:10:21.216166",
     "status": "completed"
    },
    "tags": []
   },
   "outputs": [
    {
     "name": "stdout",
     "output_type": "stream",
     "text": [
      "2\n"
     ]
    },
    {
     "data": {
      "text/plain": [
       "<matplotlib.image.AxesImage at 0x7f12fdb94518>"
      ]
     },
     "execution_count": 8,
     "metadata": {},
     "output_type": "execute_result"
    },
    {
     "data": {
      "image/png": "[encoded data removed]",
      "text/plain": [
       "<Figure size 432x288 with 1 Axes>"
      ]
     },
     "metadata": {
      "needs_background": "light"
     },
     "output_type": "display_data"
    }
   ],
   "source": [
    "image_index = 7776 # You may select anything up to 60,000\n",
    "print(train_labels[image_index]) \n",
    "plt.imshow(train_images[image_index], cmap='Greys')"
   ]
  },
  {
   "cell_type": "markdown",
   "id": "facial-modem",
   "metadata": {
    "papermill": {
     "duration": 0.028124,
     "end_time": "2021-08-02T10:10:21.441659",
     "exception": false,
     "start_time": "2021-08-02T10:10:21.413535",
     "status": "completed"
    },
    "tags": []
   },
   "source": [
    "## Filter data to get 3 and 8 out"
   ]
  },
  {
   "cell_type": "code",
   "execution_count": 9,
   "id": "thousand-acquisition",
   "metadata": {
    "execution": {
     "iopub.execute_input": "2021-08-02T10:10:21.513576Z",
     "iopub.status.busy": "2021-08-02T10:10:21.513069Z",
     "iopub.status.idle": "2021-08-02T10:10:21.522496Z",
     "shell.execute_reply": "2021-08-02T10:10:21.522898Z"
    },
    "papermill": {
     "duration": 0.053762,
     "end_time": "2021-08-02T10:10:21.523023",
     "exception": false,
     "start_time": "2021-08-02T10:10:21.469261",
     "status": "completed"
    },
    "tags": []
   },
   "outputs": [],
   "source": [
    "train_filter = np.where((train_labels == 3 ) | (train_labels == 8))\n",
    "test_filter = np.where((test_labels == 3) | (test_labels == 8))\n",
    "X_train, y_train = train_images[train_filter], train_labels[train_filter]\n",
    "X_test, y_test = test_images[test_filter], test_labels[test_filter]"
   ]
  },
  {
   "cell_type": "markdown",
   "id": "ruled-access",
   "metadata": {
    "papermill": {
     "duration": 0.027601,
     "end_time": "2021-08-02T10:10:21.577990",
     "exception": false,
     "start_time": "2021-08-02T10:10:21.550389",
     "status": "completed"
    },
    "tags": []
   },
   "source": [
    "We normalize the pixel values in the 0 to 1 range"
   ]
  },
  {
   "cell_type": "code",
   "execution_count": 10,
   "id": "isolated-denver",
   "metadata": {
    "execution": {
     "iopub.execute_input": "2021-08-02T10:10:21.636815Z",
     "iopub.status.busy": "2021-08-02T10:10:21.636320Z",
     "iopub.status.idle": "2021-08-02T10:10:21.682987Z",
     "shell.execute_reply": "2021-08-02T10:10:21.682471Z"
    },
    "papermill": {
     "duration": 0.077862,
     "end_time": "2021-08-02T10:10:21.683115",
     "exception": false,
     "start_time": "2021-08-02T10:10:21.605253",
     "status": "completed"
    },
    "tags": []
   },
   "outputs": [],
   "source": [
    "X_train = X_train/255.\n",
    "X_test = X_test/255."
   ]
  },
  {
   "cell_type": "markdown",
   "id": "perfect-summary",
   "metadata": {
    "papermill": {
     "duration": 0.028098,
     "end_time": "2021-08-02T10:10:21.739422",
     "exception": false,
     "start_time": "2021-08-02T10:10:21.711324",
     "status": "completed"
    },
    "tags": []
   },
   "source": [
    "Setup the labels as 1 (when the digit is 3) and 0 (when the digit is 8)"
   ]
  },
  {
   "cell_type": "code",
   "execution_count": 11,
   "id": "personalized-growing",
   "metadata": {
    "execution": {
     "iopub.execute_input": "2021-08-02T10:10:21.804900Z",
     "iopub.status.busy": "2021-08-02T10:10:21.804405Z",
     "iopub.status.idle": "2021-08-02T10:10:21.812194Z",
     "shell.execute_reply": "2021-08-02T10:10:21.811765Z"
    },
    "papermill": {
     "duration": 0.045337,
     "end_time": "2021-08-02T10:10:21.812300",
     "exception": false,
     "start_time": "2021-08-02T10:10:21.766963",
     "status": "completed"
    },
    "tags": []
   },
   "outputs": [],
   "source": [
    "y_train = 1*(y_train==3)\n",
    "y_test = 1*(y_test==3)"
   ]
  },
  {
   "cell_type": "code",
   "execution_count": 12,
   "id": "considered-virgin",
   "metadata": {
    "execution": {
     "iopub.execute_input": "2021-08-02T10:10:21.885456Z",
     "iopub.status.busy": "2021-08-02T10:10:21.884967Z",
     "iopub.status.idle": "2021-08-02T10:10:21.888059Z",
     "shell.execute_reply": "2021-08-02T10:10:21.887609Z"
    },
    "papermill": {
     "duration": 0.048628,
     "end_time": "2021-08-02T10:10:21.888165",
     "exception": false,
     "start_time": "2021-08-02T10:10:21.839537",
     "status": "completed"
    },
    "tags": []
   },
   "outputs": [
    {
     "data": {
      "text/plain": [
       "((11982, 28, 28), (1984, 28, 28))"
      ]
     },
     "execution_count": 12,
     "metadata": {},
     "output_type": "execute_result"
    }
   ],
   "source": [
    "X_train.shape, X_test.shape"
   ]
  },
  {
   "cell_type": "markdown",
   "id": "civilian-mobile",
   "metadata": {
    "papermill": {
     "duration": 0.02758,
     "end_time": "2021-08-02T10:10:21.943410",
     "exception": false,
     "start_time": "2021-08-02T10:10:21.915830",
     "status": "completed"
    },
    "tags": []
   },
   "source": [
    "### Reshape the input data to create a linear array"
   ]
  },
  {
   "cell_type": "code",
   "execution_count": 13,
   "id": "colonial-adams",
   "metadata": {
    "execution": {
     "iopub.execute_input": "2021-08-02T10:10:22.006873Z",
     "iopub.status.busy": "2021-08-02T10:10:22.002824Z",
     "iopub.status.idle": "2021-08-02T10:10:22.019805Z",
     "shell.execute_reply": "2021-08-02T10:10:22.019378Z"
    },
    "papermill": {
     "duration": 0.048518,
     "end_time": "2021-08-02T10:10:22.019921",
     "exception": false,
     "start_time": "2021-08-02T10:10:21.971403",
     "status": "completed"
    },
    "tags": []
   },
   "outputs": [
    {
     "data": {
      "text/plain": [
       "((11982, 784), (1984, 784))"
      ]
     },
     "execution_count": 13,
     "metadata": {},
     "output_type": "execute_result"
    }
   ],
   "source": [
    "X_train = X_train.reshape(X_train.shape[0], -1)\n",
    "X_test = X_test.reshape(X_test.shape[0], -1)\n",
    "X_train.shape, X_test.shape"
   ]
  },
  {
   "cell_type": "markdown",
   "id": "smart-details",
   "metadata": {
    "papermill": {
     "duration": 0.027828,
     "end_time": "2021-08-02T10:10:22.075625",
     "exception": false,
     "start_time": "2021-08-02T10:10:22.047797",
     "status": "completed"
    },
    "tags": []
   },
   "source": [
    "### Importing appropriate functions from 'Kudzu'"
   ]
  },
  {
   "cell_type": "code",
   "execution_count": 14,
   "id": "celtic-trial",
   "metadata": {
    "execution": {
     "iopub.execute_input": "2021-08-02T10:10:22.136472Z",
     "iopub.status.busy": "2021-08-02T10:10:22.135961Z",
     "iopub.status.idle": "2021-08-02T10:10:22.153973Z",
     "shell.execute_reply": "2021-08-02T10:10:22.154370Z"
    },
    "papermill": {
     "duration": 0.050721,
     "end_time": "2021-08-02T10:10:22.154509",
     "exception": false,
     "start_time": "2021-08-02T10:10:22.103788",
     "status": "completed"
    },
    "tags": []
   },
   "outputs": [],
   "source": [
    "from kudzu.layer import Sigmoid\n",
    "from kudzu.layer import Relu\n",
    "from kudzu.layer import Affine, Sigmoid\n",
    "\n",
    "from kudzu.model import Model\n",
    "from kudzu.train import Learner\n",
    "from kudzu.optim import GD\n",
    "from kudzu.data import Data, Dataloader, Sampler\n",
    "\n",
    "from kudzu.callbacks import AccCallback\n",
    "from kudzu.callbacks import ClfCallback\n",
    "\n",
    "from kudzu.loss import MSE"
   ]
  },
  {
   "cell_type": "markdown",
   "id": "coupled-customer",
   "metadata": {
    "papermill": {
     "duration": 0.027727,
     "end_time": "2021-08-02T10:10:22.210552",
     "exception": false,
     "start_time": "2021-08-02T10:10:22.182825",
     "status": "completed"
    },
    "tags": []
   },
   "source": [
    "### Let us create a `Config` class, to store important parameters. \n",
    "This class essentially plays the role of a dictionary."
   ]
  },
  {
   "cell_type": "code",
   "execution_count": 15,
   "id": "young-ceiling",
   "metadata": {
    "execution": {
     "iopub.execute_input": "2021-08-02T10:10:22.275364Z",
     "iopub.status.busy": "2021-08-02T10:10:22.274863Z",
     "iopub.status.idle": "2021-08-02T10:10:22.283229Z",
     "shell.execute_reply": "2021-08-02T10:10:22.283602Z"
    },
    "papermill": {
     "duration": 0.045104,
     "end_time": "2021-08-02T10:10:22.283755",
     "exception": false,
     "start_time": "2021-08-02T10:10:22.238651",
     "status": "completed"
    },
    "tags": []
   },
   "outputs": [],
   "source": [
    "class Config:\n",
    "    pass\n",
    "config = Config()\n",
    "config.lr = 0.001\n",
    "config.num_epochs = 251\n",
    "config.bs = 50"
   ]
  },
  {
   "cell_type": "markdown",
   "id": "according-mandate",
   "metadata": {
    "papermill": {
     "duration": 0.027775,
     "end_time": "2021-08-02T10:10:22.339311",
     "exception": false,
     "start_time": "2021-08-02T10:10:22.311536",
     "status": "completed"
    },
    "tags": []
   },
   "source": [
    "### Initializing data to the variables"
   ]
  },
  {
   "cell_type": "code",
   "execution_count": 16,
   "id": "academic-disposition",
   "metadata": {
    "execution": {
     "iopub.execute_input": "2021-08-02T10:10:22.407475Z",
     "iopub.status.busy": "2021-08-02T10:10:22.406973Z",
     "iopub.status.idle": "2021-08-02T10:10:22.414010Z",
     "shell.execute_reply": "2021-08-02T10:10:22.413611Z"
    },
    "papermill": {
     "duration": 0.046931,
     "end_time": "2021-08-02T10:10:22.414118",
     "exception": false,
     "start_time": "2021-08-02T10:10:22.367187",
     "status": "completed"
    },
    "tags": []
   },
   "outputs": [],
   "source": [
    "data = Data(X_train, y_train.reshape(-1,1))\n",
    "sampler = Sampler(data, config.bs, shuffle=True)\n",
    "\n",
    "dl = Dataloader(data, sampler)\n",
    "\n",
    "opt = GD(config.lr)\n",
    "loss = MSE()"
   ]
  },
  {
   "cell_type": "code",
   "execution_count": 17,
   "id": "featured-commission",
   "metadata": {
    "execution": {
     "iopub.execute_input": "2021-08-02T10:10:22.479964Z",
     "iopub.status.busy": "2021-08-02T10:10:22.479436Z",
     "iopub.status.idle": "2021-08-02T10:10:22.487419Z",
     "shell.execute_reply": "2021-08-02T10:10:22.487018Z"
    },
    "papermill": {
     "duration": 0.045462,
     "end_time": "2021-08-02T10:10:22.487532",
     "exception": false,
     "start_time": "2021-08-02T10:10:22.442070",
     "status": "completed"
    },
    "tags": []
   },
   "outputs": [],
   "source": [
    "training_xdata = X_train\n",
    "testing_xdata = X_test\n",
    "training_ydata = y_train.reshape(-1,1)\n",
    "testing_ydata = y_test.reshape(-1,1)"
   ]
  },
  {
   "cell_type": "markdown",
   "id": "played-safety",
   "metadata": {
    "papermill": {
     "duration": 0.028047,
     "end_time": "2021-08-02T10:10:22.543612",
     "exception": false,
     "start_time": "2021-08-02T10:10:22.515565",
     "status": "completed"
    },
    "tags": []
   },
   "source": [
    "### Running Models with the Training data\n",
    "Details about the network layers:\n",
    "- A first affine layer has 784 inputs and does 100 affine transforms. These are followed by a Relu\n",
    "- A second affine layer has 100 inputs from the 100 activations of the past layer, and does 100 affine transforms. These are followed by a Relu\n",
    "- A third affine layer has 100 activations and does 2 affine transformations to create an embedding for visualization. There is no non-linearity here.\n",
    "- A final \"logistic regression\" which has an affine transform from 2 inputs to 1 output, which is squeezed through a sigmoid.\n",
    "\n",
    "Help taken from Anshuman's Notebook."
   ]
  },
  {
   "cell_type": "code",
   "execution_count": 18,
   "id": "asian-bankruptcy",
   "metadata": {
    "execution": {
     "iopub.execute_input": "2021-08-02T10:10:22.608927Z",
     "iopub.status.busy": "2021-08-02T10:10:22.608419Z",
     "iopub.status.idle": "2021-08-02T10:10:22.620358Z",
     "shell.execute_reply": "2021-08-02T10:10:22.619902Z"
    },
    "papermill": {
     "duration": 0.048965,
     "end_time": "2021-08-02T10:10:22.620471",
     "exception": false,
     "start_time": "2021-08-02T10:10:22.571506",
     "status": "completed"
    },
    "tags": []
   },
   "outputs": [],
   "source": [
    "# layers for the Neural Network\n",
    "layers = [Affine(\"first\", 784, 100), Relu(\"first\"), Affine(\"second\", 100, 100), Relu(\"second\"), Affine(\"third\", 100, 2), Affine(\"final\", 2, 1), Sigmoid(\"final\")]\n",
    "model_nn = Model(layers)\n",
    "\n",
    "# layers for the Logistic Regression\n",
    "layers_lr = [Affine(\"logits\", 784, 1), Sigmoid(\"sigmoid\")]\n",
    "model_lr = Model(layers_lr)"
   ]
  },
  {
   "cell_type": "code",
   "execution_count": 19,
   "id": "removed-butler",
   "metadata": {
    "execution": {
     "iopub.execute_input": "2021-08-02T10:10:22.680838Z",
     "iopub.status.busy": "2021-08-02T10:10:22.680346Z",
     "iopub.status.idle": "2021-08-02T10:10:22.691728Z",
     "shell.execute_reply": "2021-08-02T10:10:22.691307Z"
    },
    "papermill": {
     "duration": 0.042725,
     "end_time": "2021-08-02T10:10:22.691836",
     "exception": false,
     "start_time": "2021-08-02T10:10:22.649111",
     "status": "completed"
    },
    "tags": []
   },
   "outputs": [],
   "source": [
    "# suffix _nn stands for Neural Network.\n",
    "learner_nn = Learner(loss, model_nn, opt, config.num_epochs)\n",
    "acc_nn = ClfCallback(learner_nn, config.bs, training_xdata , testing_xdata, training_ydata, testing_ydata)\n",
    "learner_nn.set_callbacks([acc_nn])"
   ]
  },
  {
   "cell_type": "code",
   "execution_count": 20,
   "id": "conceptual-throw",
   "metadata": {
    "execution": {
     "iopub.execute_input": "2021-08-02T10:10:22.753717Z",
     "iopub.status.busy": "2021-08-02T10:10:22.753227Z",
     "iopub.status.idle": "2021-08-02T10:11:37.908520Z",
     "shell.execute_reply": "2021-08-02T10:11:37.909006Z"
    },
    "papermill": {
     "duration": 75.189408,
     "end_time": "2021-08-02T10:11:37.909147",
     "exception": false,
     "start_time": "2021-08-02T10:10:22.719739",
     "status": "completed"
    },
    "tags": []
   },
   "outputs": [
    {
     "name": "stdout",
     "output_type": "stream",
     "text": [
      "====== Neural Network ======\n"
     ]
    },
    {
     "name": "stdout",
     "output_type": "stream",
     "text": [
      "Epoch 0, Loss 0.2395\n",
      "Training Accuracy: 0.7138, Testing Accuracy: 0.7329\n",
      "\n"
     ]
    },
    {
     "name": "stdout",
     "output_type": "stream",
     "text": [
      "Epoch 10, Loss 0.0712\n",
      "Training Accuracy: 0.9325, Testing Accuracy: 0.9435\n",
      "\n"
     ]
    },
    {
     "name": "stdout",
     "output_type": "stream",
     "text": [
      "Epoch 20, Loss 0.0474\n",
      "Training Accuracy: 0.9483, Testing Accuracy: 0.9597\n",
      "\n"
     ]
    },
    {
     "name": "stdout",
     "output_type": "stream",
     "text": [
      "Epoch 30, Loss 0.039\n",
      "Training Accuracy: 0.9563, Testing Accuracy: 0.9652\n",
      "\n"
     ]
    },
    {
     "name": "stdout",
     "output_type": "stream",
     "text": [
      "Epoch 40, Loss 0.0346\n",
      "Training Accuracy: 0.9622, Testing Accuracy: 0.9672\n",
      "\n"
     ]
    },
    {
     "name": "stdout",
     "output_type": "stream",
     "text": [
      "Epoch 50, Loss 0.0317\n",
      "Training Accuracy: 0.9654, Testing Accuracy: 0.9698\n",
      "\n"
     ]
    },
    {
     "name": "stdout",
     "output_type": "stream",
     "text": [
      "Epoch 60, Loss 0.0297\n",
      "Training Accuracy: 0.9666, Testing Accuracy: 0.9698\n",
      "\n"
     ]
    },
    {
     "name": "stdout",
     "output_type": "stream",
     "text": [
      "Epoch 70, Loss 0.0281\n",
      "Training Accuracy: 0.9690, Testing Accuracy: 0.9693\n",
      "\n"
     ]
    },
    {
     "name": "stdout",
     "output_type": "stream",
     "text": [
      "Epoch 80, Loss 0.0269\n",
      "Training Accuracy: 0.9705, Testing Accuracy: 0.9698\n",
      "\n"
     ]
    },
    {
     "name": "stdout",
     "output_type": "stream",
     "text": [
      "Epoch 90, Loss 0.0258\n",
      "Training Accuracy: 0.9718, Testing Accuracy: 0.9703\n",
      "\n"
     ]
    },
    {
     "name": "stdout",
     "output_type": "stream",
     "text": [
      "Epoch 100, Loss 0.0249\n",
      "Training Accuracy: 0.9722, Testing Accuracy: 0.9693\n",
      "\n"
     ]
    },
    {
     "name": "stdout",
     "output_type": "stream",
     "text": [
      "Epoch 110, Loss 0.0241\n",
      "Training Accuracy: 0.9730, Testing Accuracy: 0.9698\n",
      "\n"
     ]
    },
    {
     "name": "stdout",
     "output_type": "stream",
     "text": [
      "Epoch 120, Loss 0.0234\n",
      "Training Accuracy: 0.9740, Testing Accuracy: 0.9708\n",
      "\n"
     ]
    },
    {
     "name": "stdout",
     "output_type": "stream",
     "text": [
      "Epoch 130, Loss 0.0228\n",
      "Training Accuracy: 0.9748, Testing Accuracy: 0.9723\n",
      "\n"
     ]
    },
    {
     "name": "stdout",
     "output_type": "stream",
     "text": [
      "Epoch 140, Loss 0.0222\n",
      "Training Accuracy: 0.9750, Testing Accuracy: 0.9713\n",
      "\n"
     ]
    },
    {
     "name": "stdout",
     "output_type": "stream",
     "text": [
      "Epoch 150, Loss 0.0216\n",
      "Training Accuracy: 0.9758, Testing Accuracy: 0.9723\n",
      "\n"
     ]
    },
    {
     "name": "stdout",
     "output_type": "stream",
     "text": [
      "Epoch 160, Loss 0.0212\n",
      "Training Accuracy: 0.9762, Testing Accuracy: 0.9733\n",
      "\n"
     ]
    },
    {
     "name": "stdout",
     "output_type": "stream",
     "text": [
      "Epoch 170, Loss 0.0207\n",
      "Training Accuracy: 0.9769, Testing Accuracy: 0.9723\n",
      "\n"
     ]
    },
    {
     "name": "stdout",
     "output_type": "stream",
     "text": [
      "Epoch 180, Loss 0.0203\n",
      "Training Accuracy: 0.9776, Testing Accuracy: 0.9723\n",
      "\n"
     ]
    },
    {
     "name": "stdout",
     "output_type": "stream",
     "text": [
      "Epoch 190, Loss 0.0198\n",
      "Training Accuracy: 0.9784, Testing Accuracy: 0.9723\n",
      "\n"
     ]
    },
    {
     "name": "stdout",
     "output_type": "stream",
     "text": [
      "Epoch 200, Loss 0.0194\n",
      "Training Accuracy: 0.9786, Testing Accuracy: 0.9733\n",
      "\n"
     ]
    },
    {
     "name": "stdout",
     "output_type": "stream",
     "text": [
      "Epoch 210, Loss 0.0191\n",
      "Training Accuracy: 0.9795, Testing Accuracy: 0.9733\n",
      "\n"
     ]
    },
    {
     "name": "stdout",
     "output_type": "stream",
     "text": [
      "Epoch 220, Loss 0.0187\n",
      "Training Accuracy: 0.9800, Testing Accuracy: 0.9738\n",
      "\n"
     ]
    },
    {
     "name": "stdout",
     "output_type": "stream",
     "text": [
      "Epoch 230, Loss 0.0183\n",
      "Training Accuracy: 0.9802, Testing Accuracy: 0.9743\n",
      "\n"
     ]
    },
    {
     "name": "stdout",
     "output_type": "stream",
     "text": [
      "Epoch 240, Loss 0.018\n",
      "Training Accuracy: 0.9806, Testing Accuracy: 0.9743\n",
      "\n"
     ]
    },
    {
     "name": "stdout",
     "output_type": "stream",
     "text": [
      "Epoch 250, Loss 0.0177\n",
      "Training Accuracy: 0.9811, Testing Accuracy: 0.9748\n",
      "\n"
     ]
    },
    {
     "data": {
      "text/plain": [
       "0.023175470385027475"
      ]
     },
     "execution_count": 20,
     "metadata": {},
     "output_type": "execute_result"
    }
   ],
   "source": [
    "print(\"====== Neural Network ======\")\n",
    "learner_nn.train_loop(dl)"
   ]
  },
  {
   "cell_type": "markdown",
   "id": "competent-suffering",
   "metadata": {
    "papermill": {
     "duration": 0.035187,
     "end_time": "2021-08-02T10:11:37.982022",
     "exception": false,
     "start_time": "2021-08-02T10:11:37.946835",
     "status": "completed"
    },
    "tags": []
   },
   "source": [
    "### Logistic Regression based Implementation."
   ]
  },
  {
   "cell_type": "code",
   "execution_count": 21,
   "id": "qualified-psychiatry",
   "metadata": {
    "execution": {
     "iopub.execute_input": "2021-08-02T10:11:38.064832Z",
     "iopub.status.busy": "2021-08-02T10:11:38.064291Z",
     "iopub.status.idle": "2021-08-02T10:11:38.066939Z",
     "shell.execute_reply": "2021-08-02T10:11:38.067312Z"
    },
    "papermill": {
     "duration": 0.050364,
     "end_time": "2021-08-02T10:11:38.067448",
     "exception": false,
     "start_time": "2021-08-02T10:11:38.017084",
     "status": "completed"
    },
    "tags": []
   },
   "outputs": [],
   "source": [
    "learner_lr = Learner(loss, model_lr, opt, config.num_epochs)\n",
    "acc_lr = ClfCallback(learner_lr, config.bs, training_xdata , testing_xdata, training_ydata, testing_ydata)\n",
    "learner_lr.set_callbacks([acc_lr])"
   ]
  },
  {
   "cell_type": "code",
   "execution_count": 22,
   "id": "average-outside",
   "metadata": {
    "execution": {
     "iopub.execute_input": "2021-08-02T10:11:38.141635Z",
     "iopub.status.busy": "2021-08-02T10:11:38.141128Z",
     "iopub.status.idle": "2021-08-02T10:11:51.921494Z",
     "shell.execute_reply": "2021-08-02T10:11:51.921896Z"
    },
    "papermill": {
     "duration": 13.81926,
     "end_time": "2021-08-02T10:11:51.922033",
     "exception": false,
     "start_time": "2021-08-02T10:11:38.102773",
     "status": "completed"
    },
    "tags": []
   },
   "outputs": [
    {
     "name": "stdout",
     "output_type": "stream",
     "text": [
      "====== Logistic Regression ======\n",
      "Epoch 0, Loss 0.2967\n",
      "Training Accuracy: 0.4402, Testing Accuracy: 0.4526\n",
      "\n"
     ]
    },
    {
     "name": "stdout",
     "output_type": "stream",
     "text": [
      "Epoch 10, Loss 0.1079\n",
      "Training Accuracy: 0.9096, Testing Accuracy: 0.9143\n",
      "\n"
     ]
    },
    {
     "name": "stdout",
     "output_type": "stream",
     "text": [
      "Epoch 20, Loss 0.0807\n",
      "Training Accuracy: 0.9296, Testing Accuracy: 0.9345\n",
      "\n"
     ]
    },
    {
     "name": "stdout",
     "output_type": "stream",
     "text": [
      "Epoch 30, Loss 0.0689\n",
      "Training Accuracy: 0.9374, Testing Accuracy: 0.9441\n",
      "\n"
     ]
    },
    {
     "name": "stdout",
     "output_type": "stream",
     "text": [
      "Epoch 40, Loss 0.062\n",
      "Training Accuracy: 0.9416, Testing Accuracy: 0.9496\n",
      "\n"
     ]
    },
    {
     "name": "stdout",
     "output_type": "stream",
     "text": [
      "Epoch 50, Loss 0.0573\n",
      "Training Accuracy: 0.9433, Testing Accuracy: 0.9531\n",
      "\n"
     ]
    },
    {
     "name": "stdout",
     "output_type": "stream",
     "text": [
      "Epoch 60, Loss 0.0539\n",
      "Training Accuracy: 0.9459, Testing Accuracy: 0.9561\n",
      "\n"
     ]
    },
    {
     "name": "stdout",
     "output_type": "stream",
     "text": [
      "Epoch 70, Loss 0.0514\n",
      "Training Accuracy: 0.9478, Testing Accuracy: 0.9602\n",
      "\n"
     ]
    },
    {
     "name": "stdout",
     "output_type": "stream",
     "text": [
      "Epoch 80, Loss 0.0493\n",
      "Training Accuracy: 0.9493, Testing Accuracy: 0.9612\n",
      "\n"
     ]
    },
    {
     "name": "stdout",
     "output_type": "stream",
     "text": [
      "Epoch 90, Loss 0.0476\n",
      "Training Accuracy: 0.9508, Testing Accuracy: 0.9637\n",
      "\n"
     ]
    },
    {
     "name": "stdout",
     "output_type": "stream",
     "text": [
      "Epoch 100, Loss 0.0462\n",
      "Training Accuracy: 0.9521, Testing Accuracy: 0.9642\n",
      "\n"
     ]
    },
    {
     "name": "stdout",
     "output_type": "stream",
     "text": [
      "Epoch 110, Loss 0.045\n",
      "Training Accuracy: 0.9529, Testing Accuracy: 0.9642\n",
      "\n"
     ]
    },
    {
     "name": "stdout",
     "output_type": "stream",
     "text": [
      "Epoch 120, Loss 0.0439\n",
      "Training Accuracy: 0.9537, Testing Accuracy: 0.9652\n",
      "\n"
     ]
    },
    {
     "name": "stdout",
     "output_type": "stream",
     "text": [
      "Epoch 130, Loss 0.043\n",
      "Training Accuracy: 0.9548, Testing Accuracy: 0.9652\n",
      "\n"
     ]
    },
    {
     "name": "stdout",
     "output_type": "stream",
     "text": [
      "Epoch 140, Loss 0.0422\n",
      "Training Accuracy: 0.9549, Testing Accuracy: 0.9652\n",
      "\n"
     ]
    },
    {
     "name": "stdout",
     "output_type": "stream",
     "text": [
      "Epoch 150, Loss 0.0414\n",
      "Training Accuracy: 0.9558, Testing Accuracy: 0.9652\n",
      "\n"
     ]
    },
    {
     "name": "stdout",
     "output_type": "stream",
     "text": [
      "Epoch 160, Loss 0.0408\n",
      "Training Accuracy: 0.9563, Testing Accuracy: 0.9647\n",
      "\n"
     ]
    },
    {
     "name": "stdout",
     "output_type": "stream",
     "text": [
      "Epoch 170, Loss 0.0402\n",
      "Training Accuracy: 0.9568, Testing Accuracy: 0.9657\n",
      "\n"
     ]
    },
    {
     "name": "stdout",
     "output_type": "stream",
     "text": [
      "Epoch 180, Loss 0.0396\n",
      "Training Accuracy: 0.9580, Testing Accuracy: 0.9662\n",
      "\n"
     ]
    },
    {
     "name": "stdout",
     "output_type": "stream",
     "text": [
      "Epoch 190, Loss 0.0391\n",
      "Training Accuracy: 0.9584, Testing Accuracy: 0.9667\n",
      "\n"
     ]
    },
    {
     "name": "stdout",
     "output_type": "stream",
     "text": [
      "Epoch 200, Loss 0.0386\n",
      "Training Accuracy: 0.9588, Testing Accuracy: 0.9672\n",
      "\n"
     ]
    },
    {
     "name": "stdout",
     "output_type": "stream",
     "text": [
      "Epoch 210, Loss 0.0382\n",
      "Training Accuracy: 0.9589, Testing Accuracy: 0.9672\n",
      "\n"
     ]
    },
    {
     "name": "stdout",
     "output_type": "stream",
     "text": [
      "Epoch 220, Loss 0.0378\n",
      "Training Accuracy: 0.9595, Testing Accuracy: 0.9677\n",
      "\n"
     ]
    },
    {
     "name": "stdout",
     "output_type": "stream",
     "text": [
      "Epoch 230, Loss 0.0374\n",
      "Training Accuracy: 0.9598, Testing Accuracy: 0.9682\n",
      "\n"
     ]
    },
    {
     "name": "stdout",
     "output_type": "stream",
     "text": [
      "Epoch 240, Loss 0.037\n",
      "Training Accuracy: 0.9600, Testing Accuracy: 0.9682\n",
      "\n"
     ]
    },
    {
     "name": "stdout",
     "output_type": "stream",
     "text": [
      "Epoch 250, Loss 0.0367\n",
      "Training Accuracy: 0.9602, Testing Accuracy: 0.9682\n",
      "\n"
     ]
    },
    {
     "data": {
      "text/plain": [
       "0.029909998131493507"
      ]
     },
     "execution_count": 22,
     "metadata": {},
     "output_type": "execute_result"
    }
   ],
   "source": [
    "print(\"====== Logistic Regression ======\")\n",
    "learner_lr.train_loop(dl)"
   ]
  },
  {
   "cell_type": "markdown",
   "id": "adjusted-possible",
   "metadata": {
    "papermill": {
     "duration": 0.042151,
     "end_time": "2021-08-02T10:11:52.007211",
     "exception": false,
     "start_time": "2021-08-02T10:11:51.965060",
     "status": "completed"
    },
    "tags": []
   },
   "source": [
    "### Comparing results of NN and LR"
   ]
  },
  {
   "cell_type": "code",
   "execution_count": 23,
   "id": "mental-multimedia",
   "metadata": {
    "execution": {
     "iopub.execute_input": "2021-08-02T10:11:52.104818Z",
     "iopub.status.busy": "2021-08-02T10:11:52.104284Z",
     "iopub.status.idle": "2021-08-02T10:11:52.337686Z",
     "shell.execute_reply": "2021-08-02T10:11:52.337261Z"
    },
    "papermill": {
     "duration": 0.288894,
     "end_time": "2021-08-02T10:11:52.337805",
     "exception": false,
     "start_time": "2021-08-02T10:11:52.048911",
     "status": "completed"
    },
    "tags": []
   },
   "outputs": [
    {
     "data": {
      "text/plain": [
       "<matplotlib.legend.Legend at 0x7f12f036b160>"
      ]
     },
     "execution_count": 23,
     "metadata": {},
     "output_type": "execute_result"
    },
    {
     "data": {
      "image/png": "[encoded data removed]",
      "text/plain": [
       "<Figure size 1080x720 with 1 Axes>"
      ]
     },
     "metadata": {
      "needs_background": "light"
     },
     "output_type": "display_data"
    }
   ],
   "source": [
    "plt.figure(figsize=(15,10))\n",
    "\n",
    "# Neural Network plots\n",
    "plt.plot(acc_nn.accuracies, 'r-', label = \"Training Accuracies - NN\")\n",
    "plt.plot(acc_nn.test_accuracies, 'g-', label = \"Testing Accuracies - NN\")\n",
    "\n",
    "# Logistic Regression plots\n",
    "plt.plot(acc_lr.accuracies, 'k-', label = \"Training Accuracies - LR\")\n",
    "plt.plot(acc_lr.test_accuracies, 'b-', label = \"Testing Accuracies - LR\")\n",
    "\n",
    "plt.ylim(0.8, 1)\n",
    "\n",
    "plt.legend()\n",
    "\n"
   ]
  },
  {
   "cell_type": "markdown",
   "id": "sexual-flesh",
   "metadata": {
    "papermill": {
     "duration": 0.043667,
     "end_time": "2021-08-02T10:11:52.425525",
     "exception": false,
     "start_time": "2021-08-02T10:11:52.381858",
     "status": "completed"
    },
    "tags": []
   },
   "source": [
    "### From the plot, we can observe the following:\n",
    "- Neural Network achieves higher accuracy than the Logistic Regression model.\n",
    "- This apparently, is because of overfitting, i.e. NN captures more noise than data.\n",
    "- Testing accuracy of NN drops below the Training accuracy at higher epochs. This explains the over-fitting on training data.\n",
    "- Logistic Regression gives a reliable accuracy, without the above mentioned problem.\n"
   ]
  },
  {
   "cell_type": "markdown",
   "id": "institutional-pacific",
   "metadata": {
    "papermill": {
     "duration": 0.043524,
     "end_time": "2021-08-02T10:11:52.512637",
     "exception": false,
     "start_time": "2021-08-02T10:11:52.469113",
     "status": "completed"
    },
    "tags": []
   },
   "source": [
    "### Moving till the last but one layer (excluding it).\n",
    "#### Plotting the outputs of this layer of the NN."
   ]
  },
  {
   "cell_type": "code",
   "execution_count": 24,
   "id": "economic-server",
   "metadata": {
    "execution": {
     "iopub.execute_input": "2021-08-02T10:11:52.619437Z",
     "iopub.status.busy": "2021-08-02T10:11:52.618629Z",
     "iopub.status.idle": "2021-08-02T10:11:52.622066Z",
     "shell.execute_reply": "2021-08-02T10:11:52.622443Z"
    },
    "papermill": {
     "duration": 0.066152,
     "end_time": "2021-08-02T10:11:52.622577",
     "exception": false,
     "start_time": "2021-08-02T10:11:52.556425",
     "status": "completed"
    },
    "tags": []
   },
   "outputs": [],
   "source": [
    "model_new = Model(layers[:-2])"
   ]
  },
  {
   "cell_type": "code",
   "execution_count": 25,
   "id": "varied-upgrade",
   "metadata": {
    "execution": {
     "iopub.execute_input": "2021-08-02T10:11:52.720910Z",
     "iopub.status.busy": "2021-08-02T10:11:52.720406Z",
     "iopub.status.idle": "2021-08-02T10:11:52.735953Z",
     "shell.execute_reply": "2021-08-02T10:11:52.736433Z"
    },
    "papermill": {
     "duration": 0.070539,
     "end_time": "2021-08-02T10:11:52.736565",
     "exception": false,
     "start_time": "2021-08-02T10:11:52.666026",
     "status": "completed"
    },
    "tags": []
   },
   "outputs": [],
   "source": [
    "plot_testing = model_new(testing_xdata)"
   ]
  },
  {
   "cell_type": "code",
   "execution_count": 26,
   "id": "specific-handling",
   "metadata": {
    "execution": {
     "iopub.execute_input": "2021-08-02T10:11:52.872906Z",
     "iopub.status.busy": "2021-08-02T10:11:52.872343Z",
     "iopub.status.idle": "2021-08-02T10:11:53.071650Z",
     "shell.execute_reply": "2021-08-02T10:11:53.072089Z"
    },
    "papermill": {
     "duration": 0.255814,
     "end_time": "2021-08-02T10:11:53.072227",
     "exception": false,
     "start_time": "2021-08-02T10:11:52.816413",
     "status": "completed"
    },
    "tags": []
   },
   "outputs": [
    {
     "data": {
      "text/plain": [
       "Text(0.5, 1.0, 'Outputs')"
      ]
     },
     "execution_count": 26,
     "metadata": {},
     "output_type": "execute_result"
    },
    {
     "data": {
      "image/png": "[encoded data removed]",
      "text/plain": [
       "<Figure size 576x504 with 1 Axes>"
      ]
     },
     "metadata": {
      "needs_background": "light"
     },
     "output_type": "display_data"
    }
   ],
   "source": [
    "plt.figure(figsize=(8,7))\n",
    "plt.scatter(plot_testing[:,0], plot_testing[:,1], alpha = 0.1, c = y_test.ravel());\n",
    "plt.title('Outputs')"
   ]
  },
  {
   "cell_type": "markdown",
   "id": "described-knowing",
   "metadata": {
    "papermill": {
     "duration": 0.046842,
     "end_time": "2021-08-02T10:11:53.166047",
     "exception": false,
     "start_time": "2021-08-02T10:11:53.119205",
     "status": "completed"
    },
    "tags": []
   },
   "source": [
    "### Plotting probability contours"
   ]
  },
  {
   "cell_type": "code",
   "execution_count": 27,
   "id": "needed-growing",
   "metadata": {
    "execution": {
     "iopub.execute_input": "2021-08-02T10:11:53.266282Z",
     "iopub.status.busy": "2021-08-02T10:11:53.265782Z",
     "iopub.status.idle": "2021-08-02T10:11:53.275563Z",
     "shell.execute_reply": "2021-08-02T10:11:53.275142Z"
    },
    "papermill": {
     "duration": 0.062611,
     "end_time": "2021-08-02T10:11:53.275696",
     "exception": false,
     "start_time": "2021-08-02T10:11:53.213085",
     "status": "completed"
    },
    "tags": []
   },
   "outputs": [],
   "source": [
    "model_prob = Model(layers[-2:]) "
   ]
  },
  {
   "cell_type": "code",
   "execution_count": 28,
   "id": "introductory-enforcement",
   "metadata": {
    "execution": {
     "iopub.execute_input": "2021-08-02T10:11:53.374590Z",
     "iopub.status.busy": "2021-08-02T10:11:53.374077Z",
     "iopub.status.idle": "2021-08-02T10:11:53.388666Z",
     "shell.execute_reply": "2021-08-02T10:11:53.389045Z"
    },
    "papermill": {
     "duration": 0.066314,
     "end_time": "2021-08-02T10:11:53.389183",
     "exception": false,
     "start_time": "2021-08-02T10:11:53.322869",
     "status": "completed"
    },
    "tags": []
   },
   "outputs": [],
   "source": [
    "# Adjust the x and y ranges according to the above generated plot.\n",
    "x_range = np.linspace(-4, 1, 100) \n",
    "y_range = np.linspace(-6, 6, 100) \n",
    "x_grid, y_grid = np.meshgrid(x_range, y_range) # x_grid and y_grig are of size 100 X 100\n",
    "\n",
    "# converting x_grid and y_grid to continuous arrays\n",
    "x_grid_flat = np.ravel(x_grid)\n",
    "y_grid_flat = np.ravel(y_grid)\n",
    "\n",
    "# The last layer of the current model takes two columns as input. Hence transpose of np.vstack() is required.\n",
    "X = np.vstack((x_grid_flat, y_grid_flat)).T\n",
    "\n",
    "# x_grid and y_grid are of size 100 x 100\n",
    "probability_contour = model_prob(X).reshape(100,100) "
   ]
  },
  {
   "cell_type": "code",
   "execution_count": 29,
   "id": "understood-landing",
   "metadata": {
    "execution": {
     "iopub.execute_input": "2021-08-02T10:11:53.507160Z",
     "iopub.status.busy": "2021-08-02T10:11:53.498847Z",
     "iopub.status.idle": "2021-08-02T10:11:53.744304Z",
     "shell.execute_reply": "2021-08-02T10:11:53.743862Z"
    },
    "papermill": {
     "duration": 0.302005,
     "end_time": "2021-08-02T10:11:53.744425",
     "exception": false,
     "start_time": "2021-08-02T10:11:53.442420",
     "status": "completed"
    },
    "tags": []
   },
   "outputs": [
    {
     "data": {
      "image/png": "[encoded data removed]",
      "text/plain": [
       "<Figure size 720x648 with 1 Axes>"
      ]
     },
     "metadata": {
      "needs_background": "light"
     },
     "output_type": "display_data"
    }
   ],
   "source": [
    "plt.figure(figsize=(10,9))\n",
    "plt.scatter(plot_testing[:,0], plot_testing[:,1], alpha = 0.1, c = y_test.ravel())\n",
    "contours = plt.contour(x_grid,y_grid,probability_contour)\n",
    "plt.title('Probability Contours')\n",
    "plt.clabel(contours, inline = True );"
   ]
  }
 ],
 "metadata": {
  "kernelspec": {
   "display_name": "Python 3",
   "language": "python",
   "name": "python3"
  },
  "language_info": {
   "codemirror_mode": {
    "name": "ipython",
    "version": 3
   },
   "file_extension": ".py",
   "mimetype": "text/x-python",
   "name": "python",
   "nbconvert_exporter": "python",
   "pygments_lexer": "ipython3",
   "version": "3.6.14"
  },
  "papermill": {
   "duration": 405.829808,
   "end_time": "2021-08-02T10:11:54.202313",
   "environment_variables": {},
   "exception": null,
   "input_path": "2020-08-11-NeuralNetwork.ipynb",
   "output_path": "2020-08-11-NeuralNetwork.ipynb",
   "parameters": {},
   "start_time": "2021-08-02T10:05:08.372505",
   "version": "2.1.2"
  }
 },
 "nbformat": 4,
 "nbformat_minor": 5
}