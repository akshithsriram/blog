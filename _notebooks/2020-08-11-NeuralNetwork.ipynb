{
 "cells": [
  {
   "cell_type": "markdown",
   "metadata": {
    "papermill": {
     "duration": 0.029902,
     "end_time": "2020-08-19T10:04:27.891014",
     "exception": false,
     "start_time": "2020-08-19T10:04:27.861112",
     "status": "completed"
    },
    "tags": []
   },
   "source": [
    "# \"A Basic Neural Network: Differentiate Hand-Written Digits\"\n",
    "\n",
    "- badges: true\n",
    "- author: Akshith Sriram"
   ]
  },
  {
   "cell_type": "markdown",
   "metadata": {
    "papermill": {
     "duration": 0.022887,
     "end_time": "2020-08-19T10:04:27.936954",
     "exception": false,
     "start_time": "2020-08-19T10:04:27.914067",
     "status": "completed"
    },
    "tags": []
   },
   "source": [
    "### Key Objectives:\n",
    "- Building a neural network that differentiates two hand-written digits 3 and 8.\n",
    "- Comparing the results of this Neural Network (NN) to that of a Logistic Regression (LR) model.\n",
    "\n",
    "### Requirements:\n",
    "- 'Kudzu' : A neural network library that was designed during our course by [Univ.AI](www.univ.ai). \n",
    "- MNIST Database\n",
    "\n",
    "If MNIST is not installed, use the command `!pip install mnist` given below.\n",
    "It can be run both from the command line and Jupyter Notebook."
   ]
  },
  {
   "cell_type": "code",
   "execution_count": 1,
   "metadata": {
    "execution": {
     "iopub.execute_input": "2020-08-19T10:04:27.986676Z",
     "iopub.status.busy": "2020-08-19T10:04:27.986023Z",
     "iopub.status.idle": "2020-08-19T10:04:29.338509Z",
     "shell.execute_reply": "2020-08-19T10:04:29.337714Z"
    },
    "papermill": {
     "duration": 1.379031,
     "end_time": "2020-08-19T10:04:29.338654",
     "exception": false,
     "start_time": "2020-08-19T10:04:27.959623",
     "status": "completed"
    },
    "tags": []
   },
   "outputs": [
    {
     "name": "stdout",
     "output_type": "stream",
     "text": [
      "Collecting mnist\r\n"
     ]
    },
    {
     "name": "stdout",
     "output_type": "stream",
     "text": [
      "  Downloading mnist-0.2.2-py2.py3-none-any.whl (3.5 kB)\r\n"
     ]
    },
    {
     "name": "stdout",
     "output_type": "stream",
     "text": [
      "Requirement already satisfied: numpy in /opt/hostedtoolcache/Python/3.6.11/x64/lib/python3.6/site-packages (from mnist) (1.19.1)\r\n"
     ]
    },
    {
     "name": "stdout",
     "output_type": "stream",
     "text": [
      "Installing collected packages: mnist\r\n"
     ]
    },
    {
     "name": "stdout",
     "output_type": "stream",
     "text": [
      "Successfully installed mnist-0.2.2\r\n"
     ]
    },
    {
     "name": "stdout",
     "output_type": "stream",
     "text": [
      "\u001b[33mWARNING: You are using pip version 20.2.1; however, version 20.2.2 is available.\r\n",
      "You should consider upgrading via the '/opt/hostedtoolcache/Python/3.6.11/x64/bin/python -m pip install --upgrade pip' command.\u001b[0m\r\n"
     ]
    }
   ],
   "source": [
    "!pip install mnist "
   ]
  },
  {
   "cell_type": "markdown",
   "metadata": {
    "papermill": {
     "duration": 0.026651,
     "end_time": "2020-08-19T10:04:29.393128",
     "exception": false,
     "start_time": "2020-08-19T10:04:29.366477",
     "status": "completed"
    },
    "tags": []
   },
   "source": [
    "#### Importing necessary libraries"
   ]
  },
  {
   "cell_type": "code",
   "execution_count": 2,
   "metadata": {
    "execution": {
     "iopub.execute_input": "2020-08-19T10:04:29.450544Z",
     "iopub.status.busy": "2020-08-19T10:04:29.449715Z",
     "iopub.status.idle": "2020-08-19T10:04:29.968711Z",
     "shell.execute_reply": "2020-08-19T10:04:29.968122Z"
    },
    "papermill": {
     "duration": 0.551082,
     "end_time": "2020-08-19T10:04:29.968881",
     "exception": false,
     "start_time": "2020-08-19T10:04:29.417799",
     "status": "completed"
    },
    "tags": []
   },
   "outputs": [],
   "source": [
    "%load_ext autoreload\n",
    "%autoreload 2\n",
    "\n",
    "%matplotlib inline\n",
    "import matplotlib.pyplot as plt\n",
    "\n",
    "import numpy as np\n",
    "import pandas as pd"
   ]
  },
  {
   "cell_type": "markdown",
   "metadata": {
    "papermill": {
     "duration": 0.030143,
     "end_time": "2020-08-19T10:04:30.028031",
     "exception": false,
     "start_time": "2020-08-19T10:04:29.997888",
     "status": "completed"
    },
    "tags": []
   },
   "source": [
    "### Preparing the Data"
   ]
  },
  {
   "cell_type": "code",
   "execution_count": 3,
   "metadata": {
    "execution": {
     "iopub.execute_input": "2020-08-19T10:04:30.094378Z",
     "iopub.status.busy": "2020-08-19T10:04:30.093688Z",
     "iopub.status.idle": "2020-08-19T10:04:30.108359Z",
     "shell.execute_reply": "2020-08-19T10:04:30.107775Z"
    },
    "papermill": {
     "duration": 0.05021,
     "end_time": "2020-08-19T10:04:30.108487",
     "exception": false,
     "start_time": "2020-08-19T10:04:30.058277",
     "status": "completed"
    },
    "tags": []
   },
   "outputs": [],
   "source": [
    "import mnist"
   ]
  },
  {
   "cell_type": "code",
   "execution_count": 4,
   "metadata": {
    "execution": {
     "iopub.execute_input": "2020-08-19T10:04:30.163437Z",
     "iopub.status.busy": "2020-08-19T10:04:30.162904Z",
     "iopub.status.idle": "2020-08-19T10:04:30.859887Z",
     "shell.execute_reply": "2020-08-19T10:04:30.859345Z"
    },
    "papermill": {
     "duration": 0.726277,
     "end_time": "2020-08-19T10:04:30.860016",
     "exception": false,
     "start_time": "2020-08-19T10:04:30.133739",
     "status": "completed"
    },
    "tags": []
   },
   "outputs": [],
   "source": [
    "train_images = mnist.train_images()\n",
    "train_labels = mnist.train_labels()"
   ]
  },
  {
   "cell_type": "code",
   "execution_count": 5,
   "metadata": {
    "execution": {
     "iopub.execute_input": "2020-08-19T10:04:30.916281Z",
     "iopub.status.busy": "2020-08-19T10:04:30.915692Z",
     "iopub.status.idle": "2020-08-19T10:04:30.929307Z",
     "shell.execute_reply": "2020-08-19T10:04:30.928785Z"
    },
    "papermill": {
     "duration": 0.044588,
     "end_time": "2020-08-19T10:04:30.929444",
     "exception": false,
     "start_time": "2020-08-19T10:04:30.884856",
     "status": "completed"
    },
    "tags": []
   },
   "outputs": [
    {
     "data": {
      "text/plain": [
       "((60000, 28, 28), (60000,))"
      ]
     },
     "execution_count": 5,
     "metadata": {},
     "output_type": "execute_result"
    }
   ],
   "source": [
    "train_images.shape, train_labels.shape"
   ]
  },
  {
   "cell_type": "code",
   "execution_count": 6,
   "metadata": {
    "execution": {
     "iopub.execute_input": "2020-08-19T10:04:30.989714Z",
     "iopub.status.busy": "2020-08-19T10:04:30.989199Z",
     "iopub.status.idle": "2020-08-19T10:04:31.241894Z",
     "shell.execute_reply": "2020-08-19T10:04:31.241328Z"
    },
    "papermill": {
     "duration": 0.287268,
     "end_time": "2020-08-19T10:04:31.242095",
     "exception": false,
     "start_time": "2020-08-19T10:04:30.954827",
     "status": "completed"
    },
    "tags": []
   },
   "outputs": [],
   "source": [
    "test_images = mnist.test_images()\n",
    "test_labels = mnist.test_labels()"
   ]
  },
  {
   "cell_type": "code",
   "execution_count": 7,
   "metadata": {
    "execution": {
     "iopub.execute_input": "2020-08-19T10:04:31.299552Z",
     "iopub.status.busy": "2020-08-19T10:04:31.298946Z",
     "iopub.status.idle": "2020-08-19T10:04:31.312406Z",
     "shell.execute_reply": "2020-08-19T10:04:31.313030Z"
    },
    "papermill": {
     "duration": 0.043359,
     "end_time": "2020-08-19T10:04:31.313182",
     "exception": false,
     "start_time": "2020-08-19T10:04:31.269823",
     "status": "completed"
    },
    "tags": []
   },
   "outputs": [
    {
     "data": {
      "text/plain": [
       "((10000, 28, 28), (10000,))"
      ]
     },
     "execution_count": 7,
     "metadata": {},
     "output_type": "execute_result"
    }
   ],
   "source": [
    "test_images.shape, test_labels.shape"
   ]
  },
  {
   "cell_type": "code",
   "execution_count": 8,
   "metadata": {
    "execution": {
     "iopub.execute_input": "2020-08-19T10:04:31.375718Z",
     "iopub.status.busy": "2020-08-19T10:04:31.374931Z",
     "iopub.status.idle": "2020-08-19T10:04:31.542460Z",
     "shell.execute_reply": "2020-08-19T10:04:31.542900Z"
    },
    "papermill": {
     "duration": 0.201163,
     "end_time": "2020-08-19T10:04:31.543048",
     "exception": false,
     "start_time": "2020-08-19T10:04:31.341885",
     "status": "completed"
    },
    "tags": []
   },
   "outputs": [
    {
     "name": "stdout",
     "output_type": "stream",
     "text": [
      "2\n"
     ]
    },
    {
     "data": {
      "text/plain": [
       "<matplotlib.image.AxesImage at 0x7fd92ee02278>"
      ]
     },
     "execution_count": 8,
     "metadata": {},
     "output_type": "execute_result"
    },
    {
     "data": {
      "image/png": "[encoded data removed]",
      "text/plain": [
       "<Figure size 432x288 with 1 Axes>"
      ]
     },
     "metadata": {
      "needs_background": "light"
     },
     "output_type": "display_data"
    }
   ],
   "source": [
    "image_index = 7776 # You may select anything up to 60,000\n",
    "print(train_labels[image_index]) \n",
    "plt.imshow(train_images[image_index], cmap='Greys')"
   ]
  },
  {
   "cell_type": "markdown",
   "metadata": {
    "papermill": {
     "duration": 0.033167,
     "end_time": "2020-08-19T10:04:31.611489",
     "exception": false,
     "start_time": "2020-08-19T10:04:31.578322",
     "status": "completed"
    },
    "tags": []
   },
   "source": [
    "## Filter data to get 3 and 8 out"
   ]
  },
  {
   "cell_type": "code",
   "execution_count": 9,
   "metadata": {
    "execution": {
     "iopub.execute_input": "2020-08-19T10:04:31.673872Z",
     "iopub.status.busy": "2020-08-19T10:04:31.673193Z",
     "iopub.status.idle": "2020-08-19T10:04:31.692540Z",
     "shell.execute_reply": "2020-08-19T10:04:31.692096Z"
    },
    "papermill": {
     "duration": 0.051203,
     "end_time": "2020-08-19T10:04:31.692680",
     "exception": false,
     "start_time": "2020-08-19T10:04:31.641477",
     "status": "completed"
    },
    "tags": []
   },
   "outputs": [],
   "source": [
    "train_filter = np.where((train_labels == 3 ) | (train_labels == 8))\n",
    "test_filter = np.where((test_labels == 3) | (test_labels == 8))\n",
    "X_train, y_train = train_images[train_filter], train_labels[train_filter]\n",
    "X_test, y_test = test_images[test_filter], test_labels[test_filter]"
   ]
  },
  {
   "cell_type": "markdown",
   "metadata": {
    "papermill": {
     "duration": 0.026818,
     "end_time": "2020-08-19T10:04:31.746215",
     "exception": false,
     "start_time": "2020-08-19T10:04:31.719397",
     "status": "completed"
    },
    "tags": []
   },
   "source": [
    "We normalize the pixel values in the 0 to 1 range"
   ]
  },
  {
   "cell_type": "code",
   "execution_count": 10,
   "metadata": {
    "execution": {
     "iopub.execute_input": "2020-08-19T10:04:31.805415Z",
     "iopub.status.busy": "2020-08-19T10:04:31.804888Z",
     "iopub.status.idle": "2020-08-19T10:04:31.864687Z",
     "shell.execute_reply": "2020-08-19T10:04:31.864141Z"
    },
    "papermill": {
     "duration": 0.089361,
     "end_time": "2020-08-19T10:04:31.864824",
     "exception": false,
     "start_time": "2020-08-19T10:04:31.775463",
     "status": "completed"
    },
    "tags": []
   },
   "outputs": [],
   "source": [
    "X_train = X_train/255.\n",
    "X_test = X_test/255."
   ]
  },
  {
   "cell_type": "markdown",
   "metadata": {
    "papermill": {
     "duration": 0.028363,
     "end_time": "2020-08-19T10:04:31.920756",
     "exception": false,
     "start_time": "2020-08-19T10:04:31.892393",
     "status": "completed"
    },
    "tags": []
   },
   "source": [
    "Setup the labels as 1 (when the digit is 3) and 0 (when the digit is 8)"
   ]
  },
  {
   "cell_type": "code",
   "execution_count": 11,
   "metadata": {
    "execution": {
     "iopub.execute_input": "2020-08-19T10:04:31.977897Z",
     "iopub.status.busy": "2020-08-19T10:04:31.977253Z",
     "iopub.status.idle": "2020-08-19T10:04:31.989214Z",
     "shell.execute_reply": "2020-08-19T10:04:31.988734Z"
    },
    "papermill": {
     "duration": 0.041663,
     "end_time": "2020-08-19T10:04:31.989324",
     "exception": false,
     "start_time": "2020-08-19T10:04:31.947661",
     "status": "completed"
    },
    "tags": []
   },
   "outputs": [],
   "source": [
    "y_train = 1*(y_train==3)\n",
    "y_test = 1*(y_test==3)"
   ]
  },
  {
   "cell_type": "code",
   "execution_count": 12,
   "metadata": {
    "execution": {
     "iopub.execute_input": "2020-08-19T10:04:32.048560Z",
     "iopub.status.busy": "2020-08-19T10:04:32.048005Z",
     "iopub.status.idle": "2020-08-19T10:04:32.065495Z",
     "shell.execute_reply": "2020-08-19T10:04:32.066037Z"
    },
    "papermill": {
     "duration": 0.047243,
     "end_time": "2020-08-19T10:04:32.066199",
     "exception": false,
     "start_time": "2020-08-19T10:04:32.018956",
     "status": "completed"
    },
    "tags": []
   },
   "outputs": [
    {
     "data": {
      "text/plain": [
       "((11982, 28, 28), (1984, 28, 28))"
      ]
     },
     "execution_count": 12,
     "metadata": {},
     "output_type": "execute_result"
    }
   ],
   "source": [
    "X_train.shape, X_test.shape"
   ]
  },
  {
   "cell_type": "markdown",
   "metadata": {
    "papermill": {
     "duration": 0.029802,
     "end_time": "2020-08-19T10:04:32.125448",
     "exception": false,
     "start_time": "2020-08-19T10:04:32.095646",
     "status": "completed"
    },
    "tags": []
   },
   "source": [
    "### Reshape the input data to create a linear array"
   ]
  },
  {
   "cell_type": "code",
   "execution_count": 13,
   "metadata": {
    "execution": {
     "iopub.execute_input": "2020-08-19T10:04:32.186547Z",
     "iopub.status.busy": "2020-08-19T10:04:32.186033Z",
     "iopub.status.idle": "2020-08-19T10:04:32.198145Z",
     "shell.execute_reply": "2020-08-19T10:04:32.198547Z"
    },
    "papermill": {
     "duration": 0.042725,
     "end_time": "2020-08-19T10:04:32.198669",
     "exception": false,
     "start_time": "2020-08-19T10:04:32.155944",
     "status": "completed"
    },
    "tags": []
   },
   "outputs": [
    {
     "data": {
      "text/plain": [
       "((11982, 784), (1984, 784))"
      ]
     },
     "execution_count": 13,
     "metadata": {},
     "output_type": "execute_result"
    }
   ],
   "source": [
    "X_train = X_train.reshape(X_train.shape[0], -1)\n",
    "X_test = X_test.reshape(X_test.shape[0], -1)\n",
    "X_train.shape, X_test.shape"
   ]
  },
  {
   "cell_type": "markdown",
   "metadata": {
    "papermill": {
     "duration": 0.030909,
     "end_time": "2020-08-19T10:04:32.258243",
     "exception": false,
     "start_time": "2020-08-19T10:04:32.227334",
     "status": "completed"
    },
    "tags": []
   },
   "source": [
    "### Importing appropriate functions from 'Kudzu'"
   ]
  },
  {
   "cell_type": "code",
   "execution_count": 14,
   "metadata": {
    "execution": {
     "iopub.execute_input": "2020-08-19T10:04:32.323225Z",
     "iopub.status.busy": "2020-08-19T10:04:32.322671Z",
     "iopub.status.idle": "2020-08-19T10:04:32.339609Z",
     "shell.execute_reply": "2020-08-19T10:04:32.340061Z"
    },
    "papermill": {
     "duration": 0.052615,
     "end_time": "2020-08-19T10:04:32.340196",
     "exception": false,
     "start_time": "2020-08-19T10:04:32.287581",
     "status": "completed"
    },
    "tags": []
   },
   "outputs": [],
   "source": [
    "from kudzu.layer import Sigmoid\n",
    "from kudzu.layer import Relu\n",
    "from kudzu.layer import Affine, Sigmoid\n",
    "\n",
    "from kudzu.model import Model\n",
    "from kudzu.train import Learner\n",
    "from kudzu.optim import GD\n",
    "from kudzu.data import Data, Dataloader, Sampler\n",
    "\n",
    "from kudzu.callbacks import AccCallback\n",
    "from kudzu.callbacks import ClfCallback\n",
    "\n",
    "from kudzu.loss import MSE"
   ]
  },
  {
   "cell_type": "markdown",
   "metadata": {
    "papermill": {
     "duration": 0.027186,
     "end_time": "2020-08-19T10:04:32.396277",
     "exception": false,
     "start_time": "2020-08-19T10:04:32.369091",
     "status": "completed"
    },
    "tags": []
   },
   "source": [
    "### Let us create a `Config` class, to store important parameters. \n",
    "This class essentially plays the role of a dictionary."
   ]
  },
  {
   "cell_type": "code",
   "execution_count": 15,
   "metadata": {
    "execution": {
     "iopub.execute_input": "2020-08-19T10:04:32.457130Z",
     "iopub.status.busy": "2020-08-19T10:04:32.456308Z",
     "iopub.status.idle": "2020-08-19T10:04:32.471090Z",
     "shell.execute_reply": "2020-08-19T10:04:32.470416Z"
    },
    "papermill": {
     "duration": 0.047171,
     "end_time": "2020-08-19T10:04:32.471248",
     "exception": false,
     "start_time": "2020-08-19T10:04:32.424077",
     "status": "completed"
    },
    "tags": []
   },
   "outputs": [],
   "source": [
    "class Config:\n",
    "    pass\n",
    "config = Config()\n",
    "config.lr = 0.001\n",
    "config.num_epochs = 251\n",
    "config.bs = 50"
   ]
  },
  {
   "cell_type": "markdown",
   "metadata": {
    "papermill": {
     "duration": 0.028027,
     "end_time": "2020-08-19T10:04:32.531152",
     "exception": false,
     "start_time": "2020-08-19T10:04:32.503125",
     "status": "completed"
    },
    "tags": []
   },
   "source": [
    "### Initializing data to the variables"
   ]
  },
  {
   "cell_type": "code",
   "execution_count": 16,
   "metadata": {
    "execution": {
     "iopub.execute_input": "2020-08-19T10:04:32.600275Z",
     "iopub.status.busy": "2020-08-19T10:04:32.599228Z",
     "iopub.status.idle": "2020-08-19T10:04:32.614289Z",
     "shell.execute_reply": "2020-08-19T10:04:32.613761Z"
    },
    "papermill": {
     "duration": 0.053909,
     "end_time": "2020-08-19T10:04:32.614419",
     "exception": false,
     "start_time": "2020-08-19T10:04:32.560510",
     "status": "completed"
    },
    "tags": []
   },
   "outputs": [],
   "source": [
    "data = Data(X_train, y_train.reshape(-1,1))\n",
    "sampler = Sampler(data, config.bs, shuffle=True)\n",
    "\n",
    "dl = Dataloader(data, sampler)\n",
    "\n",
    "opt = GD(config.lr)\n",
    "loss = MSE()"
   ]
  },
  {
   "cell_type": "code",
   "execution_count": 17,
   "metadata": {
    "execution": {
     "iopub.execute_input": "2020-08-19T10:04:32.678103Z",
     "iopub.status.busy": "2020-08-19T10:04:32.677577Z",
     "iopub.status.idle": "2020-08-19T10:04:32.688263Z",
     "shell.execute_reply": "2020-08-19T10:04:32.688698Z"
    },
    "papermill": {
     "duration": 0.042956,
     "end_time": "2020-08-19T10:04:32.688824",
     "exception": false,
     "start_time": "2020-08-19T10:04:32.645868",
     "status": "completed"
    },
    "tags": []
   },
   "outputs": [],
   "source": [
    "training_xdata = X_train\n",
    "testing_xdata = X_test\n",
    "training_ydata = y_train.reshape(-1,1)\n",
    "testing_ydata = y_test.reshape(-1,1)"
   ]
  },
  {
   "cell_type": "markdown",
   "metadata": {
    "papermill": {
     "duration": 0.027517,
     "end_time": "2020-08-19T10:04:32.744043",
     "exception": false,
     "start_time": "2020-08-19T10:04:32.716526",
     "status": "completed"
    },
    "tags": []
   },
   "source": [
    "### Running Models with the Training data\n",
    "Details about the network layers:\n",
    "- A first affine layer has 784 inputs and does 100 affine transforms. These are followed by a Relu\n",
    "- A second affine layer has 100 inputs from the 100 activations of the past layer, and does 100 affine transforms. These are followed by a Relu\n",
    "- A third affine layer has 100 activations and does 2 affine transformations to create an embedding for visualization. There is no non-linearity here.\n",
    "- A final \"logistic regression\" which has an affine transform from 2 inputs to 1 output, which is squeezed through a sigmoid.\n",
    "\n",
    "Help taken from Anshuman's Notebook."
   ]
  },
  {
   "cell_type": "code",
   "execution_count": 18,
   "metadata": {
    "execution": {
     "iopub.execute_input": "2020-08-19T10:04:32.812219Z",
     "iopub.status.busy": "2020-08-19T10:04:32.811556Z",
     "iopub.status.idle": "2020-08-19T10:04:32.828134Z",
     "shell.execute_reply": "2020-08-19T10:04:32.827562Z"
    },
    "papermill": {
     "duration": 0.053724,
     "end_time": "2020-08-19T10:04:32.828273",
     "exception": false,
     "start_time": "2020-08-19T10:04:32.774549",
     "status": "completed"
    },
    "tags": []
   },
   "outputs": [],
   "source": [
    "# layers for the Neural Network\n",
    "layers = [Affine(\"first\", 784, 100), Relu(\"first\"), Affine(\"second\", 100, 100), Relu(\"second\"), Affine(\"third\", 100, 2), Affine(\"final\", 2, 1), Sigmoid(\"final\")]\n",
    "model_nn = Model(layers)\n",
    "\n",
    "# layers for the Logistic Regression\n",
    "layers_lr = [Affine(\"logits\", 784, 1), Sigmoid(\"sigmoid\")]\n",
    "model_lr = Model(layers_lr)"
   ]
  },
  {
   "cell_type": "code",
   "execution_count": 19,
   "metadata": {
    "execution": {
     "iopub.execute_input": "2020-08-19T10:04:32.886423Z",
     "iopub.status.busy": "2020-08-19T10:04:32.885844Z",
     "iopub.status.idle": "2020-08-19T10:04:32.896339Z",
     "shell.execute_reply": "2020-08-19T10:04:32.895894Z"
    },
    "papermill": {
     "duration": 0.041104,
     "end_time": "2020-08-19T10:04:32.896445",
     "exception": false,
     "start_time": "2020-08-19T10:04:32.855341",
     "status": "completed"
    },
    "tags": []
   },
   "outputs": [],
   "source": [
    "# suffix _nn stands for Neural Network.\n",
    "learner_nn = Learner(loss, model_nn, opt, config.num_epochs)\n",
    "acc_nn = ClfCallback(learner_nn, config.bs, training_xdata , testing_xdata, training_ydata, testing_ydata)\n",
    "learner_nn.set_callbacks([acc_nn])"
   ]
  },
  {
   "cell_type": "code",
   "execution_count": 20,
   "metadata": {
    "execution": {
     "iopub.execute_input": "2020-08-19T10:04:32.954753Z",
     "iopub.status.busy": "2020-08-19T10:04:32.954237Z",
     "iopub.status.idle": "2020-08-19T10:06:42.804095Z",
     "shell.execute_reply": "2020-08-19T10:06:42.805026Z"
    },
    "papermill": {
     "duration": 129.88031,
     "end_time": "2020-08-19T10:06:42.805202",
     "exception": false,
     "start_time": "2020-08-19T10:04:32.924892",
     "status": "completed"
    },
    "tags": []
   },
   "outputs": [
    {
     "name": "stdout",
     "output_type": "stream",
     "text": [
      "====== Neural Network ======\n"
     ]
    },
    {
     "name": "stdout",
     "output_type": "stream",
     "text": [
      "Epoch 0, Loss 0.2313\n",
      "Training Accuracy: 0.7501, Testing Accuracy: 0.7505\n",
      "\n"
     ]
    },
    {
     "name": "stdout",
     "output_type": "stream",
     "text": [
      "Epoch 10, Loss 0.0739\n",
      "Training Accuracy: 0.9331, Testing Accuracy: 0.9395\n",
      "\n"
     ]
    },
    {
     "name": "stdout",
     "output_type": "stream",
     "text": [
      "Epoch 20, Loss 0.0483\n",
      "Training Accuracy: 0.9518, Testing Accuracy: 0.9632\n",
      "\n"
     ]
    },
    {
     "name": "stdout",
     "output_type": "stream",
     "text": [
      "Epoch 30, Loss 0.0391\n",
      "Training Accuracy: 0.9585, Testing Accuracy: 0.9693\n",
      "\n"
     ]
    },
    {
     "name": "stdout",
     "output_type": "stream",
     "text": [
      "Epoch 40, Loss 0.0344\n",
      "Training Accuracy: 0.9624, Testing Accuracy: 0.9718\n",
      "\n"
     ]
    },
    {
     "name": "stdout",
     "output_type": "stream",
     "text": [
      "Epoch 50, Loss 0.0314\n",
      "Training Accuracy: 0.9655, Testing Accuracy: 0.9723\n",
      "\n"
     ]
    },
    {
     "name": "stdout",
     "output_type": "stream",
     "text": [
      "Epoch 60, Loss 0.0292\n",
      "Training Accuracy: 0.9671, Testing Accuracy: 0.9733\n",
      "\n"
     ]
    },
    {
     "name": "stdout",
     "output_type": "stream",
     "text": [
      "Epoch 70, Loss 0.0276\n",
      "Training Accuracy: 0.9687, Testing Accuracy: 0.9723\n",
      "\n"
     ]
    },
    {
     "name": "stdout",
     "output_type": "stream",
     "text": [
      "Epoch 80, Loss 0.0262\n",
      "Training Accuracy: 0.9705, Testing Accuracy: 0.9743\n",
      "\n"
     ]
    },
    {
     "name": "stdout",
     "output_type": "stream",
     "text": [
      "Epoch 90, Loss 0.0251\n",
      "Training Accuracy: 0.9712, Testing Accuracy: 0.9743\n",
      "\n"
     ]
    },
    {
     "name": "stdout",
     "output_type": "stream",
     "text": [
      "Epoch 100, Loss 0.0242\n",
      "Training Accuracy: 0.9722, Testing Accuracy: 0.9748\n",
      "\n"
     ]
    },
    {
     "name": "stdout",
     "output_type": "stream",
     "text": [
      "Epoch 110, Loss 0.0233\n",
      "Training Accuracy: 0.9731, Testing Accuracy: 0.9743\n",
      "\n"
     ]
    },
    {
     "name": "stdout",
     "output_type": "stream",
     "text": [
      "Epoch 120, Loss 0.0226\n",
      "Training Accuracy: 0.9740, Testing Accuracy: 0.9753\n",
      "\n"
     ]
    },
    {
     "name": "stdout",
     "output_type": "stream",
     "text": [
      "Epoch 130, Loss 0.0219\n",
      "Training Accuracy: 0.9750, Testing Accuracy: 0.9758\n",
      "\n"
     ]
    },
    {
     "name": "stdout",
     "output_type": "stream",
     "text": [
      "Epoch 140, Loss 0.0213\n",
      "Training Accuracy: 0.9754, Testing Accuracy: 0.9763\n",
      "\n"
     ]
    },
    {
     "name": "stdout",
     "output_type": "stream",
     "text": [
      "Epoch 150, Loss 0.0208\n",
      "Training Accuracy: 0.9762, Testing Accuracy: 0.9758\n",
      "\n"
     ]
    },
    {
     "name": "stdout",
     "output_type": "stream",
     "text": [
      "Epoch 160, Loss 0.0202\n",
      "Training Accuracy: 0.9769, Testing Accuracy: 0.9773\n",
      "\n"
     ]
    },
    {
     "name": "stdout",
     "output_type": "stream",
     "text": [
      "Epoch 170, Loss 0.0197\n",
      "Training Accuracy: 0.9775, Testing Accuracy: 0.9768\n",
      "\n"
     ]
    },
    {
     "name": "stdout",
     "output_type": "stream",
     "text": [
      "Epoch 180, Loss 0.0193\n",
      "Training Accuracy: 0.9781, Testing Accuracy: 0.9773\n",
      "\n"
     ]
    },
    {
     "name": "stdout",
     "output_type": "stream",
     "text": [
      "Epoch 190, Loss 0.0188\n",
      "Training Accuracy: 0.9789, Testing Accuracy: 0.9773\n",
      "\n"
     ]
    },
    {
     "name": "stdout",
     "output_type": "stream",
     "text": [
      "Epoch 200, Loss 0.0184\n",
      "Training Accuracy: 0.9795, Testing Accuracy: 0.9768\n",
      "\n"
     ]
    },
    {
     "name": "stdout",
     "output_type": "stream",
     "text": [
      "Epoch 210, Loss 0.018\n",
      "Training Accuracy: 0.9800, Testing Accuracy: 0.9768\n",
      "\n"
     ]
    },
    {
     "name": "stdout",
     "output_type": "stream",
     "text": [
      "Epoch 220, Loss 0.0176\n",
      "Training Accuracy: 0.9807, Testing Accuracy: 0.9768\n",
      "\n"
     ]
    },
    {
     "name": "stdout",
     "output_type": "stream",
     "text": [
      "Epoch 230, Loss 0.0172\n",
      "Training Accuracy: 0.9811, Testing Accuracy: 0.9773\n",
      "\n"
     ]
    },
    {
     "name": "stdout",
     "output_type": "stream",
     "text": [
      "Epoch 240, Loss 0.0168\n",
      "Training Accuracy: 0.9818, Testing Accuracy: 0.9778\n",
      "\n"
     ]
    },
    {
     "name": "stdout",
     "output_type": "stream",
     "text": [
      "Epoch 250, Loss 0.0165\n",
      "Training Accuracy: 0.9822, Testing Accuracy: 0.9788\n",
      "\n"
     ]
    },
    {
     "data": {
      "text/plain": [
       "0.003562364982273189"
      ]
     },
     "execution_count": 20,
     "metadata": {},
     "output_type": "execute_result"
    }
   ],
   "source": [
    "print(\"====== Neural Network ======\")\n",
    "learner_nn.train_loop(dl)"
   ]
  },
  {
   "cell_type": "markdown",
   "metadata": {
    "papermill": {
     "duration": 0.034917,
     "end_time": "2020-08-19T10:06:42.878978",
     "exception": false,
     "start_time": "2020-08-19T10:06:42.844061",
     "status": "completed"
    },
    "tags": []
   },
   "source": [
    "### Logistic Regression based Implementation."
   ]
  },
  {
   "cell_type": "code",
   "execution_count": 21,
   "metadata": {
    "execution": {
     "iopub.execute_input": "2020-08-19T10:06:42.957211Z",
     "iopub.status.busy": "2020-08-19T10:06:42.956409Z",
     "iopub.status.idle": "2020-08-19T10:06:42.968020Z",
     "shell.execute_reply": "2020-08-19T10:06:42.968426Z"
    },
    "papermill": {
     "duration": 0.05333,
     "end_time": "2020-08-19T10:06:42.968552",
     "exception": false,
     "start_time": "2020-08-19T10:06:42.915222",
     "status": "completed"
    },
    "tags": []
   },
   "outputs": [],
   "source": [
    "learner_lr = Learner(loss, model_lr, opt, config.num_epochs)\n",
    "acc_lr = ClfCallback(learner_lr, config.bs, training_xdata , testing_xdata, training_ydata, testing_ydata)\n",
    "learner_lr.set_callbacks([acc_lr])"
   ]
  },
  {
   "cell_type": "code",
   "execution_count": 22,
   "metadata": {
    "execution": {
     "iopub.execute_input": "2020-08-19T10:06:43.053971Z",
     "iopub.status.busy": "2020-08-19T10:06:43.053365Z",
     "iopub.status.idle": "2020-08-19T10:07:02.469101Z",
     "shell.execute_reply": "2020-08-19T10:07:02.470001Z"
    },
    "papermill": {
     "duration": 19.466869,
     "end_time": "2020-08-19T10:07:02.470160",
     "exception": false,
     "start_time": "2020-08-19T10:06:43.003291",
     "status": "completed"
    },
    "tags": []
   },
   "outputs": [
    {
     "name": "stdout",
     "output_type": "stream",
     "text": [
      "====== Logistic Regression ======\n",
      "Epoch 0, Loss 0.1962\n",
      "Training Accuracy: 0.8393, Testing Accuracy: 0.8397\n",
      "\n"
     ]
    },
    {
     "name": "stdout",
     "output_type": "stream",
     "text": [
      "Epoch 10, Loss 0.0963\n",
      "Training Accuracy: 0.9234, Testing Accuracy: 0.9335\n",
      "\n"
     ]
    },
    {
     "name": "stdout",
     "output_type": "stream",
     "text": [
      "Epoch 20, Loss 0.0755\n",
      "Training Accuracy: 0.9360, Testing Accuracy: 0.9461\n",
      "\n"
     ]
    },
    {
     "name": "stdout",
     "output_type": "stream",
     "text": [
      "Epoch 30, Loss 0.0656\n",
      "Training Accuracy: 0.9418, Testing Accuracy: 0.9526\n",
      "\n"
     ]
    },
    {
     "name": "stdout",
     "output_type": "stream",
     "text": [
      "Epoch 40, Loss 0.0595\n",
      "Training Accuracy: 0.9454, Testing Accuracy: 0.9551\n",
      "\n"
     ]
    },
    {
     "name": "stdout",
     "output_type": "stream",
     "text": [
      "Epoch 50, Loss 0.0554\n",
      "Training Accuracy: 0.9475, Testing Accuracy: 0.9577\n",
      "\n"
     ]
    },
    {
     "name": "stdout",
     "output_type": "stream",
     "text": [
      "Epoch 60, Loss 0.0524\n",
      "Training Accuracy: 0.9494, Testing Accuracy: 0.9577\n",
      "\n"
     ]
    },
    {
     "name": "stdout",
     "output_type": "stream",
     "text": [
      "Epoch 70, Loss 0.05\n",
      "Training Accuracy: 0.9512, Testing Accuracy: 0.9597\n",
      "\n"
     ]
    },
    {
     "name": "stdout",
     "output_type": "stream",
     "text": [
      "Epoch 80, Loss 0.0481\n",
      "Training Accuracy: 0.9524, Testing Accuracy: 0.9597\n",
      "\n"
     ]
    },
    {
     "name": "stdout",
     "output_type": "stream",
     "text": [
      "Epoch 90, Loss 0.0466\n",
      "Training Accuracy: 0.9538, Testing Accuracy: 0.9612\n",
      "\n"
     ]
    },
    {
     "name": "stdout",
     "output_type": "stream",
     "text": [
      "Epoch 100, Loss 0.0452\n",
      "Training Accuracy: 0.9550, Testing Accuracy: 0.9622\n",
      "\n"
     ]
    },
    {
     "name": "stdout",
     "output_type": "stream",
     "text": [
      "Epoch 110, Loss 0.0441\n",
      "Training Accuracy: 0.9553, Testing Accuracy: 0.9617\n",
      "\n"
     ]
    },
    {
     "name": "stdout",
     "output_type": "stream",
     "text": [
      "Epoch 120, Loss 0.0431\n",
      "Training Accuracy: 0.9564, Testing Accuracy: 0.9617\n",
      "\n"
     ]
    },
    {
     "name": "stdout",
     "output_type": "stream",
     "text": [
      "Epoch 130, Loss 0.0422\n",
      "Training Accuracy: 0.9572, Testing Accuracy: 0.9627\n",
      "\n"
     ]
    },
    {
     "name": "stdout",
     "output_type": "stream",
     "text": [
      "Epoch 140, Loss 0.0415\n",
      "Training Accuracy: 0.9579, Testing Accuracy: 0.9622\n",
      "\n"
     ]
    },
    {
     "name": "stdout",
     "output_type": "stream",
     "text": [
      "Epoch 150, Loss 0.0408\n",
      "Training Accuracy: 0.9585, Testing Accuracy: 0.9622\n",
      "\n"
     ]
    },
    {
     "name": "stdout",
     "output_type": "stream",
     "text": [
      "Epoch 160, Loss 0.0401\n",
      "Training Accuracy: 0.9586, Testing Accuracy: 0.9632\n",
      "\n"
     ]
    },
    {
     "name": "stdout",
     "output_type": "stream",
     "text": [
      "Epoch 170, Loss 0.0396\n",
      "Training Accuracy: 0.9594, Testing Accuracy: 0.9632\n",
      "\n"
     ]
    },
    {
     "name": "stdout",
     "output_type": "stream",
     "text": [
      "Epoch 180, Loss 0.039\n",
      "Training Accuracy: 0.9599, Testing Accuracy: 0.9632\n",
      "\n"
     ]
    },
    {
     "name": "stdout",
     "output_type": "stream",
     "text": [
      "Epoch 190, Loss 0.0385\n",
      "Training Accuracy: 0.9600, Testing Accuracy: 0.9637\n",
      "\n"
     ]
    },
    {
     "name": "stdout",
     "output_type": "stream",
     "text": [
      "Epoch 200, Loss 0.0381\n",
      "Training Accuracy: 0.9600, Testing Accuracy: 0.9642\n",
      "\n"
     ]
    },
    {
     "name": "stdout",
     "output_type": "stream",
     "text": [
      "Epoch 210, Loss 0.0377\n",
      "Training Accuracy: 0.9603, Testing Accuracy: 0.9647\n",
      "\n"
     ]
    },
    {
     "name": "stdout",
     "output_type": "stream",
     "text": [
      "Epoch 220, Loss 0.0373\n",
      "Training Accuracy: 0.9607, Testing Accuracy: 0.9652\n",
      "\n"
     ]
    },
    {
     "name": "stdout",
     "output_type": "stream",
     "text": [
      "Epoch 230, Loss 0.0369\n",
      "Training Accuracy: 0.9608, Testing Accuracy: 0.9652\n",
      "\n"
     ]
    },
    {
     "name": "stdout",
     "output_type": "stream",
     "text": [
      "Epoch 240, Loss 0.0366\n",
      "Training Accuracy: 0.9608, Testing Accuracy: 0.9652\n",
      "\n"
     ]
    },
    {
     "name": "stdout",
     "output_type": "stream",
     "text": [
      "Epoch 250, Loss 0.0363\n",
      "Training Accuracy: 0.9610, Testing Accuracy: 0.9662\n",
      "\n"
     ]
    },
    {
     "data": {
      "text/plain": [
       "0.08405363927978024"
      ]
     },
     "execution_count": 22,
     "metadata": {},
     "output_type": "execute_result"
    }
   ],
   "source": [
    "print(\"====== Logistic Regression ======\")\n",
    "learner_lr.train_loop(dl)"
   ]
  },
  {
   "cell_type": "markdown",
   "metadata": {
    "papermill": {
     "duration": 0.043754,
     "end_time": "2020-08-19T10:07:02.564042",
     "exception": false,
     "start_time": "2020-08-19T10:07:02.520288",
     "status": "completed"
    },
    "tags": []
   },
   "source": [
    "### Comparing results of NN and LR"
   ]
  },
  {
   "cell_type": "code",
   "execution_count": 23,
   "metadata": {
    "execution": {
     "iopub.execute_input": "2020-08-19T10:07:02.665754Z",
     "iopub.status.busy": "2020-08-19T10:07:02.665235Z",
     "iopub.status.idle": "2020-08-19T10:07:02.920388Z",
     "shell.execute_reply": "2020-08-19T10:07:02.919622Z"
    },
    "papermill": {
     "duration": 0.305066,
     "end_time": "2020-08-19T10:07:02.920714",
     "exception": false,
     "start_time": "2020-08-19T10:07:02.615648",
     "status": "completed"
    },
    "tags": []
   },
   "outputs": [
    {
     "data": {
      "text/plain": [
       "<matplotlib.legend.Legend at 0x7fd92e9de9e8>"
      ]
     },
     "execution_count": 23,
     "metadata": {},
     "output_type": "execute_result"
    },
    {
     "data": {
      "image/png": "[encoded data removed]",
      "text/plain": [
       "<Figure size 1080x720 with 1 Axes>"
      ]
     },
     "metadata": {
      "needs_background": "light"
     },
     "output_type": "display_data"
    }
   ],
   "source": [
    "plt.figure(figsize=(15,10))\n",
    "\n",
    "# Neural Network plots\n",
    "plt.plot(acc_nn.accuracies, 'r-', label = \"Training Accuracies - NN\")\n",
    "plt.plot(acc_nn.test_accuracies, 'g-', label = \"Testing Accuracies - NN\")\n",
    "\n",
    "# Logistic Regression plots\n",
    "plt.plot(acc_lr.accuracies, 'k-', label = \"Training Accuracies - LR\")\n",
    "plt.plot(acc_lr.test_accuracies, 'b-', label = \"Testing Accuracies - LR\")\n",
    "\n",
    "plt.ylim(0.8, 1)\n",
    "\n",
    "plt.legend()\n",
    "\n"
   ]
  },
  {
   "cell_type": "markdown",
   "metadata": {
    "papermill": {
     "duration": 0.044539,
     "end_time": "2020-08-19T10:07:03.007698",
     "exception": false,
     "start_time": "2020-08-19T10:07:02.963159",
     "status": "completed"
    },
    "tags": []
   },
   "source": [
    "### From the plot, we can observe the following:\n",
    "- Neural Network achieves higher accuracy than the Logistic Regression model.\n",
    "- This apparently, is because of overfitting, i.e. NN captures more noise than data.\n",
    "- Testing accuracy of NN drops below the Training accuracy at higher epochs. This explains the over-fitting on training data.\n",
    "- Logistic Regression gives a reliable accuracy, without the above mentioned problem.\n"
   ]
  },
  {
   "cell_type": "markdown",
   "metadata": {
    "papermill": {
     "duration": 0.044965,
     "end_time": "2020-08-19T10:07:03.096251",
     "exception": false,
     "start_time": "2020-08-19T10:07:03.051286",
     "status": "completed"
    },
    "tags": []
   },
   "source": [
    "### Moving till the last but one layer (excluding it).\n",
    "#### Plotting the outputs of this layer of the NN."
   ]
  },
  {
   "cell_type": "code",
   "execution_count": 24,
   "metadata": {
    "execution": {
     "iopub.execute_input": "2020-08-19T10:07:03.194092Z",
     "iopub.status.busy": "2020-08-19T10:07:03.192526Z",
     "iopub.status.idle": "2020-08-19T10:07:03.204304Z",
     "shell.execute_reply": "2020-08-19T10:07:03.203858Z"
    },
    "papermill": {
     "duration": 0.062935,
     "end_time": "2020-08-19T10:07:03.204419",
     "exception": false,
     "start_time": "2020-08-19T10:07:03.141484",
     "status": "completed"
    },
    "tags": []
   },
   "outputs": [],
   "source": [
    "model_new = Model(layers[:-2])"
   ]
  },
  {
   "cell_type": "code",
   "execution_count": 25,
   "metadata": {
    "execution": {
     "iopub.execute_input": "2020-08-19T10:07:03.296247Z",
     "iopub.status.busy": "2020-08-19T10:07:03.295685Z",
     "iopub.status.idle": "2020-08-19T10:07:03.320663Z",
     "shell.execute_reply": "2020-08-19T10:07:03.321090Z"
    },
    "papermill": {
     "duration": 0.072933,
     "end_time": "2020-08-19T10:07:03.321221",
     "exception": false,
     "start_time": "2020-08-19T10:07:03.248288",
     "status": "completed"
    },
    "tags": []
   },
   "outputs": [],
   "source": [
    "plot_testing = model_new(testing_xdata)"
   ]
  },
  {
   "cell_type": "code",
   "execution_count": 26,
   "metadata": {
    "execution": {
     "iopub.execute_input": "2020-08-19T10:07:03.418000Z",
     "iopub.status.busy": "2020-08-19T10:07:03.417445Z",
     "iopub.status.idle": "2020-08-19T10:07:03.630827Z",
     "shell.execute_reply": "2020-08-19T10:07:03.631260Z"
    },
    "papermill": {
     "duration": 0.266168,
     "end_time": "2020-08-19T10:07:03.631403",
     "exception": false,
     "start_time": "2020-08-19T10:07:03.365235",
     "status": "completed"
    },
    "tags": []
   },
   "outputs": [
    {
     "data": {
      "text/plain": [
       "Text(0.5, 1.0, 'Outputs')"
      ]
     },
     "execution_count": 26,
     "metadata": {},
     "output_type": "execute_result"
    },
    {
     "data": {
      "image/png": "[encoded data removed]",
      "text/plain": [
       "<Figure size 576x504 with 1 Axes>"
      ]
     },
     "metadata": {
      "needs_background": "light"
     },
     "output_type": "display_data"
    }
   ],
   "source": [
    "plt.figure(figsize=(8,7))\n",
    "plt.scatter(plot_testing[:,0], plot_testing[:,1], alpha = 0.1, c = y_test.ravel());\n",
    "plt.title('Outputs')"
   ]
  },
  {
   "cell_type": "markdown",
   "metadata": {
    "papermill": {
     "duration": 0.04768,
     "end_time": "2020-08-19T10:07:03.725030",
     "exception": false,
     "start_time": "2020-08-19T10:07:03.677350",
     "status": "completed"
    },
    "tags": []
   },
   "source": [
    "### Plotting probability contours"
   ]
  },
  {
   "cell_type": "code",
   "execution_count": 27,
   "metadata": {
    "execution": {
     "iopub.execute_input": "2020-08-19T10:07:03.823953Z",
     "iopub.status.busy": "2020-08-19T10:07:03.823373Z",
     "iopub.status.idle": "2020-08-19T10:07:03.836096Z",
     "shell.execute_reply": "2020-08-19T10:07:03.835602Z"
    },
    "papermill": {
     "duration": 0.063783,
     "end_time": "2020-08-19T10:07:03.836211",
     "exception": false,
     "start_time": "2020-08-19T10:07:03.772428",
     "status": "completed"
    },
    "tags": []
   },
   "outputs": [],
   "source": [
    "model_prob = Model(layers[-2:]) "
   ]
  },
  {
   "cell_type": "code",
   "execution_count": 28,
   "metadata": {
    "execution": {
     "iopub.execute_input": "2020-08-19T10:07:03.944247Z",
     "iopub.status.busy": "2020-08-19T10:07:03.943377Z",
     "iopub.status.idle": "2020-08-19T10:07:03.959093Z",
     "shell.execute_reply": "2020-08-19T10:07:03.959675Z"
    },
    "papermill": {
     "duration": 0.073585,
     "end_time": "2020-08-19T10:07:03.959866",
     "exception": false,
     "start_time": "2020-08-19T10:07:03.886281",
     "status": "completed"
    },
    "tags": []
   },
   "outputs": [],
   "source": [
    "# Adjust the x and y ranges according to the above generated plot.\n",
    "x_range = np.linspace(-4, 1, 100) \n",
    "y_range = np.linspace(-6, 6, 100) \n",
    "x_grid, y_grid = np.meshgrid(x_range, y_range) # x_grid and y_grig are of size 100 X 100\n",
    "\n",
    "# converting x_grid and y_grid to continuous arrays\n",
    "x_grid_flat = np.ravel(x_grid)\n",
    "y_grid_flat = np.ravel(y_grid)\n",
    "\n",
    "# The last layer of the current model takes two columns as input. Hence transpose of np.vstack() is required.\n",
    "X = np.vstack((x_grid_flat, y_grid_flat)).T\n",
    "\n",
    "# x_grid and y_grid are of size 100 x 100\n",
    "probability_contour = model_prob(X).reshape(100,100) "
   ]
  },
  {
   "cell_type": "code",
   "execution_count": 29,
   "metadata": {
    "execution": {
     "iopub.execute_input": "2020-08-19T10:07:04.084045Z",
     "iopub.status.busy": "2020-08-19T10:07:04.083496Z",
     "iopub.status.idle": "2020-08-19T10:07:04.370883Z",
     "shell.execute_reply": "2020-08-19T10:07:04.371709Z"
    },
    "papermill": {
     "duration": 0.363218,
     "end_time": "2020-08-19T10:07:04.371894",
     "exception": false,
     "start_time": "2020-08-19T10:07:04.008676",
     "status": "completed"
    },
    "tags": []
   },
   "outputs": [
    {
     "data": {
      "image/png": "[encoded data removed]",
      "text/plain": [
       "<Figure size 720x648 with 1 Axes>"
      ]
     },
     "metadata": {
      "needs_background": "light"
     },
     "output_type": "display_data"
    }
   ],
   "source": [
    "plt.figure(figsize=(10,9))\n",
    "plt.scatter(plot_testing[:,0], plot_testing[:,1], alpha = 0.1, c = y_test.ravel())\n",
    "contours = plt.contour(x_grid,y_grid,probability_contour)\n",
    "plt.title('Probability Contours')\n",
    "plt.clabel(contours, inline = True );"
   ]
  }
 ],
 "metadata": {
  "kernelspec": {
   "display_name": "Python 3",
   "language": "python",
   "name": "python3"
  },
  "language_info": {
   "codemirror_mode": {
    "name": "ipython",
    "version": 3
   },
   "file_extension": ".py",
   "mimetype": "text/x-python",
   "name": "python",
   "nbconvert_exporter": "python",
   "pygments_lexer": "ipython3",
   "version": "3.6.11"
  },
  "papermill": {
   "duration": 157.937311,
   "end_time": "2020-08-19T10:07:04.730642",
   "environment_variables": {},
   "exception": null,
   "input_path": "2020-08-11-NeuralNetwork.ipynb",
   "output_path": "2020-08-11-NeuralNetwork.ipynb",
   "parameters": {},
   "start_time": "2020-08-19T10:04:26.793331",
   "version": "2.1.2"
  }
 },
 "nbformat": 4,
 "nbformat_minor": 4
}