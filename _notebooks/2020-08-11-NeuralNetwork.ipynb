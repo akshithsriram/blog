{
 "cells": [
  {
   "cell_type": "markdown",
   "id": "fitted-suggestion",
   "metadata": {
    "papermill": {
     "duration": 0.036371,
     "end_time": "2021-05-15T20:05:13.628055",
     "exception": false,
     "start_time": "2021-05-15T20:05:13.591684",
     "status": "completed"
    },
    "tags": []
   },
   "source": [
    "# \"A Basic Neural Network: Differentiate Hand-Written Digits\"\n",
    "\n",
    "- badges: true\n",
    "- author: Akshith Sriram"
   ]
  },
  {
   "cell_type": "markdown",
   "id": "signal-flexibility",
   "metadata": {
    "papermill": {
     "duration": 0.031493,
     "end_time": "2021-05-15T20:05:13.691889",
     "exception": false,
     "start_time": "2021-05-15T20:05:13.660396",
     "status": "completed"
    },
    "tags": []
   },
   "source": [
    "### Key Objectives:\n",
    "- Building a neural network that differentiates two hand-written digits 3 and 8.\n",
    "- Comparing the results of this Neural Network (NN) to that of a Logistic Regression (LR) model.\n",
    "\n",
    "### Requirements:\n",
    "- 'Kudzu' : A neural network library that was designed during our course by [Univ.AI](www.univ.ai). \n",
    "- MNIST Database\n",
    "\n",
    "If MNIST is not installed, use the command `!pip install mnist` given below.\n",
    "It can be run both from the command line and Jupyter Notebook."
   ]
  },
  {
   "cell_type": "code",
   "execution_count": 1,
   "id": "british-texture",
   "metadata": {
    "execution": {
     "iopub.execute_input": "2021-05-15T20:05:13.767612Z",
     "iopub.status.busy": "2021-05-15T20:05:13.766978Z",
     "iopub.status.idle": "2021-05-15T20:05:15.451770Z",
     "shell.execute_reply": "2021-05-15T20:05:15.451233Z"
    },
    "papermill": {
     "duration": 1.727154,
     "end_time": "2021-05-15T20:05:15.452070",
     "exception": false,
     "start_time": "2021-05-15T20:05:13.724916",
     "status": "completed"
    },
    "tags": []
   },
   "outputs": [
    {
     "name": "stdout",
     "output_type": "stream",
     "text": [
      "Collecting mnist\r\n"
     ]
    },
    {
     "name": "stdout",
     "output_type": "stream",
     "text": [
      "  Downloading mnist-0.2.2-py2.py3-none-any.whl (3.5 kB)\r\n",
      "Requirement already satisfied: numpy in /opt/hostedtoolcache/Python/3.6.13/x64/lib/python3.6/site-packages (from mnist) (1.19.5)\r\n"
     ]
    },
    {
     "name": "stdout",
     "output_type": "stream",
     "text": [
      "Installing collected packages: mnist\r\n"
     ]
    },
    {
     "name": "stdout",
     "output_type": "stream",
     "text": [
      "Successfully installed mnist-0.2.2\r\n"
     ]
    }
   ],
   "source": [
    "!pip install mnist "
   ]
  },
  {
   "cell_type": "markdown",
   "id": "stunning-extra",
   "metadata": {
    "papermill": {
     "duration": 0.032118,
     "end_time": "2021-05-15T20:05:15.517003",
     "exception": false,
     "start_time": "2021-05-15T20:05:15.484885",
     "status": "completed"
    },
    "tags": []
   },
   "source": [
    "#### Importing necessary libraries"
   ]
  },
  {
   "cell_type": "code",
   "execution_count": 2,
   "id": "wooden-france",
   "metadata": {
    "execution": {
     "iopub.execute_input": "2021-05-15T20:05:15.596954Z",
     "iopub.status.busy": "2021-05-15T20:05:15.596302Z",
     "iopub.status.idle": "2021-05-15T20:05:16.235998Z",
     "shell.execute_reply": "2021-05-15T20:05:16.236563Z"
    },
    "papermill": {
     "duration": 0.682243,
     "end_time": "2021-05-15T20:05:16.236732",
     "exception": false,
     "start_time": "2021-05-15T20:05:15.554489",
     "status": "completed"
    },
    "tags": []
   },
   "outputs": [],
   "source": [
    "%load_ext autoreload\n",
    "%autoreload 2\n",
    "\n",
    "%matplotlib inline\n",
    "import matplotlib.pyplot as plt\n",
    "\n",
    "import numpy as np\n",
    "import pandas as pd"
   ]
  },
  {
   "cell_type": "markdown",
   "id": "stunning-physics",
   "metadata": {
    "papermill": {
     "duration": 0.032816,
     "end_time": "2021-05-15T20:05:16.304836",
     "exception": false,
     "start_time": "2021-05-15T20:05:16.272020",
     "status": "completed"
    },
    "tags": []
   },
   "source": [
    "### Preparing the Data"
   ]
  },
  {
   "cell_type": "code",
   "execution_count": 3,
   "id": "unauthorized-remainder",
   "metadata": {
    "execution": {
     "iopub.execute_input": "2021-05-15T20:05:16.388738Z",
     "iopub.status.busy": "2021-05-15T20:05:16.381528Z",
     "iopub.status.idle": "2021-05-15T20:05:16.391682Z",
     "shell.execute_reply": "2021-05-15T20:05:16.392199Z"
    },
    "papermill": {
     "duration": 0.054571,
     "end_time": "2021-05-15T20:05:16.392365",
     "exception": false,
     "start_time": "2021-05-15T20:05:16.337794",
     "status": "completed"
    },
    "tags": []
   },
   "outputs": [],
   "source": [
    "import mnist"
   ]
  },
  {
   "cell_type": "code",
   "execution_count": 4,
   "id": "correct-antarctica",
   "metadata": {
    "execution": {
     "iopub.execute_input": "2021-05-15T20:05:16.479662Z",
     "iopub.status.busy": "2021-05-15T20:05:16.478978Z",
     "iopub.status.idle": "2021-05-15T20:05:58.690246Z",
     "shell.execute_reply": "2021-05-15T20:05:58.689617Z"
    },
    "papermill": {
     "duration": 42.261762,
     "end_time": "2021-05-15T20:05:58.690392",
     "exception": false,
     "start_time": "2021-05-15T20:05:16.428630",
     "status": "completed"
    },
    "tags": []
   },
   "outputs": [],
   "source": [
    "train_images = mnist.train_images()\n",
    "train_labels = mnist.train_labels()"
   ]
  },
  {
   "cell_type": "code",
   "execution_count": 5,
   "id": "musical-prospect",
   "metadata": {
    "execution": {
     "iopub.execute_input": "2021-05-15T20:05:58.777407Z",
     "iopub.status.busy": "2021-05-15T20:05:58.769667Z",
     "iopub.status.idle": "2021-05-15T20:05:58.783723Z",
     "shell.execute_reply": "2021-05-15T20:05:58.782982Z"
    },
    "papermill": {
     "duration": 0.05964,
     "end_time": "2021-05-15T20:05:58.783851",
     "exception": false,
     "start_time": "2021-05-15T20:05:58.724211",
     "status": "completed"
    },
    "tags": []
   },
   "outputs": [
    {
     "data": {
      "text/plain": [
       "((60000, 28, 28), (60000,))"
      ]
     },
     "execution_count": 5,
     "metadata": {},
     "output_type": "execute_result"
    }
   ],
   "source": [
    "train_images.shape, train_labels.shape"
   ]
  },
  {
   "cell_type": "code",
   "execution_count": 6,
   "id": "preliminary-elizabeth",
   "metadata": {
    "execution": {
     "iopub.execute_input": "2021-05-15T20:05:58.864015Z",
     "iopub.status.busy": "2021-05-15T20:05:58.863367Z",
     "iopub.status.idle": "2021-05-15T20:06:03.541363Z",
     "shell.execute_reply": "2021-05-15T20:06:03.540776Z"
    },
    "papermill": {
     "duration": 4.718174,
     "end_time": "2021-05-15T20:06:03.541533",
     "exception": false,
     "start_time": "2021-05-15T20:05:58.823359",
     "status": "completed"
    },
    "tags": []
   },
   "outputs": [],
   "source": [
    "test_images = mnist.test_images()\n",
    "test_labels = mnist.test_labels()"
   ]
  },
  {
   "cell_type": "code",
   "execution_count": 7,
   "id": "acknowledged-oxygen",
   "metadata": {
    "execution": {
     "iopub.execute_input": "2021-05-15T20:06:03.619363Z",
     "iopub.status.busy": "2021-05-15T20:06:03.618437Z",
     "iopub.status.idle": "2021-05-15T20:06:03.630879Z",
     "shell.execute_reply": "2021-05-15T20:06:03.630307Z"
    },
    "papermill": {
     "duration": 0.056769,
     "end_time": "2021-05-15T20:06:03.631069",
     "exception": false,
     "start_time": "2021-05-15T20:06:03.574300",
     "status": "completed"
    },
    "tags": []
   },
   "outputs": [
    {
     "data": {
      "text/plain": [
       "((10000, 28, 28), (10000,))"
      ]
     },
     "execution_count": 7,
     "metadata": {},
     "output_type": "execute_result"
    }
   ],
   "source": [
    "test_images.shape, test_labels.shape"
   ]
  },
  {
   "cell_type": "code",
   "execution_count": 8,
   "id": "innovative-organic",
   "metadata": {
    "execution": {
     "iopub.execute_input": "2021-05-15T20:06:03.703077Z",
     "iopub.status.busy": "2021-05-15T20:06:03.702445Z",
     "iopub.status.idle": "2021-05-15T20:06:03.873298Z",
     "shell.execute_reply": "2021-05-15T20:06:03.873850Z"
    },
    "papermill": {
     "duration": 0.209425,
     "end_time": "2021-05-15T20:06:03.874068",
     "exception": false,
     "start_time": "2021-05-15T20:06:03.664643",
     "status": "completed"
    },
    "tags": []
   },
   "outputs": [
    {
     "name": "stdout",
     "output_type": "stream",
     "text": [
      "2\n"
     ]
    },
    {
     "data": {
      "text/plain": [
       "<matplotlib.image.AxesImage at 0x7f2d3306c400>"
      ]
     },
     "execution_count": 8,
     "metadata": {},
     "output_type": "execute_result"
    },
    {
     "data": {
      "image/png": "[encoded data removed]",
      "text/plain": [
       "<Figure size 432x288 with 1 Axes>"
      ]
     },
     "metadata": {
      "needs_background": "light"
     },
     "output_type": "display_data"
    }
   ],
   "source": [
    "image_index = 7776 # You may select anything up to 60,000\n",
    "print(train_labels[image_index]) \n",
    "plt.imshow(train_images[image_index], cmap='Greys')"
   ]
  },
  {
   "cell_type": "markdown",
   "id": "facial-modem",
   "metadata": {
    "papermill": {
     "duration": 0.038107,
     "end_time": "2021-05-15T20:06:03.949627",
     "exception": false,
     "start_time": "2021-05-15T20:06:03.911520",
     "status": "completed"
    },
    "tags": []
   },
   "source": [
    "## Filter data to get 3 and 8 out"
   ]
  },
  {
   "cell_type": "code",
   "execution_count": 9,
   "id": "thousand-acquisition",
   "metadata": {
    "execution": {
     "iopub.execute_input": "2021-05-15T20:06:04.033342Z",
     "iopub.status.busy": "2021-05-15T20:06:04.032436Z",
     "iopub.status.idle": "2021-05-15T20:06:04.053157Z",
     "shell.execute_reply": "2021-05-15T20:06:04.053702Z"
    },
    "papermill": {
     "duration": 0.066205,
     "end_time": "2021-05-15T20:06:04.053881",
     "exception": false,
     "start_time": "2021-05-15T20:06:03.987676",
     "status": "completed"
    },
    "tags": []
   },
   "outputs": [],
   "source": [
    "train_filter = np.where((train_labels == 3 ) | (train_labels == 8))\n",
    "test_filter = np.where((test_labels == 3) | (test_labels == 8))\n",
    "X_train, y_train = train_images[train_filter], train_labels[train_filter]\n",
    "X_test, y_test = test_images[test_filter], test_labels[test_filter]"
   ]
  },
  {
   "cell_type": "markdown",
   "id": "ruled-access",
   "metadata": {
    "papermill": {
     "duration": 0.036921,
     "end_time": "2021-05-15T20:06:04.129193",
     "exception": false,
     "start_time": "2021-05-15T20:06:04.092272",
     "status": "completed"
    },
    "tags": []
   },
   "source": [
    "We normalize the pixel values in the 0 to 1 range"
   ]
  },
  {
   "cell_type": "code",
   "execution_count": 10,
   "id": "isolated-denver",
   "metadata": {
    "execution": {
     "iopub.execute_input": "2021-05-15T20:06:04.207564Z",
     "iopub.status.busy": "2021-05-15T20:06:04.206898Z",
     "iopub.status.idle": "2021-05-15T20:06:04.271351Z",
     "shell.execute_reply": "2021-05-15T20:06:04.270562Z"
    },
    "papermill": {
     "duration": 0.105339,
     "end_time": "2021-05-15T20:06:04.271537",
     "exception": false,
     "start_time": "2021-05-15T20:06:04.166198",
     "status": "completed"
    },
    "tags": []
   },
   "outputs": [],
   "source": [
    "X_train = X_train/255.\n",
    "X_test = X_test/255."
   ]
  },
  {
   "cell_type": "markdown",
   "id": "perfect-summary",
   "metadata": {
    "papermill": {
     "duration": 0.036804,
     "end_time": "2021-05-15T20:06:04.343785",
     "exception": false,
     "start_time": "2021-05-15T20:06:04.306981",
     "status": "completed"
    },
    "tags": []
   },
   "source": [
    "Setup the labels as 1 (when the digit is 3) and 0 (when the digit is 8)"
   ]
  },
  {
   "cell_type": "code",
   "execution_count": 11,
   "id": "personalized-growing",
   "metadata": {
    "execution": {
     "iopub.execute_input": "2021-05-15T20:06:04.420691Z",
     "iopub.status.busy": "2021-05-15T20:06:04.420023Z",
     "iopub.status.idle": "2021-05-15T20:06:04.440673Z",
     "shell.execute_reply": "2021-05-15T20:06:04.439645Z"
    },
    "papermill": {
     "duration": 0.061242,
     "end_time": "2021-05-15T20:06:04.440814",
     "exception": false,
     "start_time": "2021-05-15T20:06:04.379572",
     "status": "completed"
    },
    "tags": []
   },
   "outputs": [],
   "source": [
    "y_train = 1*(y_train==3)\n",
    "y_test = 1*(y_test==3)"
   ]
  },
  {
   "cell_type": "code",
   "execution_count": 12,
   "id": "considered-virgin",
   "metadata": {
    "execution": {
     "iopub.execute_input": "2021-05-15T20:06:04.520017Z",
     "iopub.status.busy": "2021-05-15T20:06:04.519376Z",
     "iopub.status.idle": "2021-05-15T20:06:04.538496Z",
     "shell.execute_reply": "2021-05-15T20:06:04.537645Z"
    },
    "papermill": {
     "duration": 0.060417,
     "end_time": "2021-05-15T20:06:04.538666",
     "exception": false,
     "start_time": "2021-05-15T20:06:04.478249",
     "status": "completed"
    },
    "tags": []
   },
   "outputs": [
    {
     "data": {
      "text/plain": [
       "((11982, 28, 28), (1984, 28, 28))"
      ]
     },
     "execution_count": 12,
     "metadata": {},
     "output_type": "execute_result"
    }
   ],
   "source": [
    "X_train.shape, X_test.shape"
   ]
  },
  {
   "cell_type": "markdown",
   "id": "civilian-mobile",
   "metadata": {
    "papermill": {
     "duration": 0.035106,
     "end_time": "2021-05-15T20:06:04.615027",
     "exception": false,
     "start_time": "2021-05-15T20:06:04.579921",
     "status": "completed"
    },
    "tags": []
   },
   "source": [
    "### Reshape the input data to create a linear array"
   ]
  },
  {
   "cell_type": "code",
   "execution_count": 13,
   "id": "colonial-adams",
   "metadata": {
    "execution": {
     "iopub.execute_input": "2021-05-15T20:06:04.694518Z",
     "iopub.status.busy": "2021-05-15T20:06:04.693713Z",
     "iopub.status.idle": "2021-05-15T20:06:04.708918Z",
     "shell.execute_reply": "2021-05-15T20:06:04.708450Z"
    },
    "papermill": {
     "duration": 0.055715,
     "end_time": "2021-05-15T20:06:04.709036",
     "exception": false,
     "start_time": "2021-05-15T20:06:04.653321",
     "status": "completed"
    },
    "tags": []
   },
   "outputs": [
    {
     "data": {
      "text/plain": [
       "((11982, 784), (1984, 784))"
      ]
     },
     "execution_count": 13,
     "metadata": {},
     "output_type": "execute_result"
    }
   ],
   "source": [
    "X_train = X_train.reshape(X_train.shape[0], -1)\n",
    "X_test = X_test.reshape(X_test.shape[0], -1)\n",
    "X_train.shape, X_test.shape"
   ]
  },
  {
   "cell_type": "markdown",
   "id": "smart-details",
   "metadata": {
    "papermill": {
     "duration": 0.039403,
     "end_time": "2021-05-15T20:06:04.787851",
     "exception": false,
     "start_time": "2021-05-15T20:06:04.748448",
     "status": "completed"
    },
    "tags": []
   },
   "source": [
    "### Importing appropriate functions from 'Kudzu'"
   ]
  },
  {
   "cell_type": "code",
   "execution_count": 14,
   "id": "celtic-trial",
   "metadata": {
    "execution": {
     "iopub.execute_input": "2021-05-15T20:06:04.879799Z",
     "iopub.status.busy": "2021-05-15T20:06:04.874036Z",
     "iopub.status.idle": "2021-05-15T20:06:04.889687Z",
     "shell.execute_reply": "2021-05-15T20:06:04.890417Z"
    },
    "papermill": {
     "duration": 0.06594,
     "end_time": "2021-05-15T20:06:04.890620",
     "exception": false,
     "start_time": "2021-05-15T20:06:04.824680",
     "status": "completed"
    },
    "tags": []
   },
   "outputs": [],
   "source": [
    "from kudzu.layer import Sigmoid\n",
    "from kudzu.layer import Relu\n",
    "from kudzu.layer import Affine, Sigmoid\n",
    "\n",
    "from kudzu.model import Model\n",
    "from kudzu.train import Learner\n",
    "from kudzu.optim import GD\n",
    "from kudzu.data import Data, Dataloader, Sampler\n",
    "\n",
    "from kudzu.callbacks import AccCallback\n",
    "from kudzu.callbacks import ClfCallback\n",
    "\n",
    "from kudzu.loss import MSE"
   ]
  },
  {
   "cell_type": "markdown",
   "id": "coupled-customer",
   "metadata": {
    "papermill": {
     "duration": 0.037581,
     "end_time": "2021-05-15T20:06:04.970970",
     "exception": false,
     "start_time": "2021-05-15T20:06:04.933389",
     "status": "completed"
    },
    "tags": []
   },
   "source": [
    "### Let us create a `Config` class, to store important parameters. \n",
    "This class essentially plays the role of a dictionary."
   ]
  },
  {
   "cell_type": "code",
   "execution_count": 15,
   "id": "young-ceiling",
   "metadata": {
    "execution": {
     "iopub.execute_input": "2021-05-15T20:06:05.062274Z",
     "iopub.status.busy": "2021-05-15T20:06:05.061630Z",
     "iopub.status.idle": "2021-05-15T20:06:05.076499Z",
     "shell.execute_reply": "2021-05-15T20:06:05.077054Z"
    },
    "papermill": {
     "duration": 0.068827,
     "end_time": "2021-05-15T20:06:05.077219",
     "exception": false,
     "start_time": "2021-05-15T20:06:05.008392",
     "status": "completed"
    },
    "tags": []
   },
   "outputs": [],
   "source": [
    "class Config:\n",
    "    pass\n",
    "config = Config()\n",
    "config.lr = 0.001\n",
    "config.num_epochs = 251\n",
    "config.bs = 50"
   ]
  },
  {
   "cell_type": "markdown",
   "id": "according-mandate",
   "metadata": {
    "papermill": {
     "duration": 0.040052,
     "end_time": "2021-05-15T20:06:05.154321",
     "exception": false,
     "start_time": "2021-05-15T20:06:05.114269",
     "status": "completed"
    },
    "tags": []
   },
   "source": [
    "### Initializing data to the variables"
   ]
  },
  {
   "cell_type": "code",
   "execution_count": 16,
   "id": "academic-disposition",
   "metadata": {
    "execution": {
     "iopub.execute_input": "2021-05-15T20:06:05.232772Z",
     "iopub.status.busy": "2021-05-15T20:06:05.232038Z",
     "iopub.status.idle": "2021-05-15T20:06:05.247426Z",
     "shell.execute_reply": "2021-05-15T20:06:05.246888Z"
    },
    "papermill": {
     "duration": 0.056663,
     "end_time": "2021-05-15T20:06:05.247586",
     "exception": false,
     "start_time": "2021-05-15T20:06:05.190923",
     "status": "completed"
    },
    "tags": []
   },
   "outputs": [],
   "source": [
    "data = Data(X_train, y_train.reshape(-1,1))\n",
    "sampler = Sampler(data, config.bs, shuffle=True)\n",
    "\n",
    "dl = Dataloader(data, sampler)\n",
    "\n",
    "opt = GD(config.lr)\n",
    "loss = MSE()"
   ]
  },
  {
   "cell_type": "code",
   "execution_count": 17,
   "id": "featured-commission",
   "metadata": {
    "execution": {
     "iopub.execute_input": "2021-05-15T20:06:05.331233Z",
     "iopub.status.busy": "2021-05-15T20:06:05.329831Z",
     "iopub.status.idle": "2021-05-15T20:06:05.341034Z",
     "shell.execute_reply": "2021-05-15T20:06:05.341607Z"
    },
    "papermill": {
     "duration": 0.057515,
     "end_time": "2021-05-15T20:06:05.341759",
     "exception": false,
     "start_time": "2021-05-15T20:06:05.284244",
     "status": "completed"
    },
    "tags": []
   },
   "outputs": [],
   "source": [
    "training_xdata = X_train\n",
    "testing_xdata = X_test\n",
    "training_ydata = y_train.reshape(-1,1)\n",
    "testing_ydata = y_test.reshape(-1,1)"
   ]
  },
  {
   "cell_type": "markdown",
   "id": "played-safety",
   "metadata": {
    "papermill": {
     "duration": 0.036124,
     "end_time": "2021-05-15T20:06:05.416242",
     "exception": false,
     "start_time": "2021-05-15T20:06:05.380118",
     "status": "completed"
    },
    "tags": []
   },
   "source": [
    "### Running Models with the Training data\n",
    "Details about the network layers:\n",
    "- A first affine layer has 784 inputs and does 100 affine transforms. These are followed by a Relu\n",
    "- A second affine layer has 100 inputs from the 100 activations of the past layer, and does 100 affine transforms. These are followed by a Relu\n",
    "- A third affine layer has 100 activations and does 2 affine transformations to create an embedding for visualization. There is no non-linearity here.\n",
    "- A final \"logistic regression\" which has an affine transform from 2 inputs to 1 output, which is squeezed through a sigmoid.\n",
    "\n",
    "Help taken from Anshuman's Notebook."
   ]
  },
  {
   "cell_type": "code",
   "execution_count": 18,
   "id": "asian-bankruptcy",
   "metadata": {
    "execution": {
     "iopub.execute_input": "2021-05-15T20:06:05.499023Z",
     "iopub.status.busy": "2021-05-15T20:06:05.498371Z",
     "iopub.status.idle": "2021-05-15T20:06:05.516096Z",
     "shell.execute_reply": "2021-05-15T20:06:05.515478Z"
    },
    "papermill": {
     "duration": 0.062015,
     "end_time": "2021-05-15T20:06:05.516267",
     "exception": false,
     "start_time": "2021-05-15T20:06:05.454252",
     "status": "completed"
    },
    "tags": []
   },
   "outputs": [],
   "source": [
    "# layers for the Neural Network\n",
    "layers = [Affine(\"first\", 784, 100), Relu(\"first\"), Affine(\"second\", 100, 100), Relu(\"second\"), Affine(\"third\", 100, 2), Affine(\"final\", 2, 1), Sigmoid(\"final\")]\n",
    "model_nn = Model(layers)\n",
    "\n",
    "# layers for the Logistic Regression\n",
    "layers_lr = [Affine(\"logits\", 784, 1), Sigmoid(\"sigmoid\")]\n",
    "model_lr = Model(layers_lr)"
   ]
  },
  {
   "cell_type": "code",
   "execution_count": 19,
   "id": "removed-butler",
   "metadata": {
    "execution": {
     "iopub.execute_input": "2021-05-15T20:06:05.599412Z",
     "iopub.status.busy": "2021-05-15T20:06:05.598637Z",
     "iopub.status.idle": "2021-05-15T20:06:05.614677Z",
     "shell.execute_reply": "2021-05-15T20:06:05.614088Z"
    },
    "papermill": {
     "duration": 0.06172,
     "end_time": "2021-05-15T20:06:05.614813",
     "exception": false,
     "start_time": "2021-05-15T20:06:05.553093",
     "status": "completed"
    },
    "tags": []
   },
   "outputs": [],
   "source": [
    "# suffix _nn stands for Neural Network.\n",
    "learner_nn = Learner(loss, model_nn, opt, config.num_epochs)\n",
    "acc_nn = ClfCallback(learner_nn, config.bs, training_xdata , testing_xdata, training_ydata, testing_ydata)\n",
    "learner_nn.set_callbacks([acc_nn])"
   ]
  },
  {
   "cell_type": "code",
   "execution_count": 20,
   "id": "conceptual-throw",
   "metadata": {
    "execution": {
     "iopub.execute_input": "2021-05-15T20:06:05.709971Z",
     "iopub.status.busy": "2021-05-15T20:06:05.700693Z",
     "iopub.status.idle": "2021-05-15T20:08:11.740375Z",
     "shell.execute_reply": "2021-05-15T20:08:11.741265Z"
    },
    "papermill": {
     "duration": 126.09067,
     "end_time": "2021-05-15T20:08:11.741426",
     "exception": false,
     "start_time": "2021-05-15T20:06:05.650756",
     "status": "completed"
    },
    "tags": []
   },
   "outputs": [
    {
     "name": "stdout",
     "output_type": "stream",
     "text": [
      "====== Neural Network ======\n"
     ]
    },
    {
     "name": "stdout",
     "output_type": "stream",
     "text": [
      "Epoch 0, Loss 0.2432\n",
      "Training Accuracy: 0.5306, Testing Accuracy: 0.5232\n",
      "\n"
     ]
    },
    {
     "name": "stdout",
     "output_type": "stream",
     "text": [
      "Epoch 10, Loss 0.1516\n",
      "Training Accuracy: 0.8828, Testing Accuracy: 0.8911\n",
      "\n"
     ]
    },
    {
     "name": "stdout",
     "output_type": "stream",
     "text": [
      "Epoch 20, Loss 0.0779\n",
      "Training Accuracy: 0.9244, Testing Accuracy: 0.9350\n",
      "\n"
     ]
    },
    {
     "name": "stdout",
     "output_type": "stream",
     "text": [
      "Epoch 30, Loss 0.0544\n",
      "Training Accuracy: 0.9430, Testing Accuracy: 0.9521\n",
      "\n"
     ]
    },
    {
     "name": "stdout",
     "output_type": "stream",
     "text": [
      "Epoch 40, Loss 0.0443\n",
      "Training Accuracy: 0.9499, Testing Accuracy: 0.9597\n",
      "\n"
     ]
    },
    {
     "name": "stdout",
     "output_type": "stream",
     "text": [
      "Epoch 50, Loss 0.0388\n",
      "Training Accuracy: 0.9560, Testing Accuracy: 0.9667\n",
      "\n"
     ]
    },
    {
     "name": "stdout",
     "output_type": "stream",
     "text": [
      "Epoch 60, Loss 0.0353\n",
      "Training Accuracy: 0.9592, Testing Accuracy: 0.9682\n",
      "\n"
     ]
    },
    {
     "name": "stdout",
     "output_type": "stream",
     "text": [
      "Epoch 70, Loss 0.0328\n",
      "Training Accuracy: 0.9610, Testing Accuracy: 0.9672\n",
      "\n"
     ]
    },
    {
     "name": "stdout",
     "output_type": "stream",
     "text": [
      "Epoch 80, Loss 0.031\n",
      "Training Accuracy: 0.9629, Testing Accuracy: 0.9677\n",
      "\n"
     ]
    },
    {
     "name": "stdout",
     "output_type": "stream",
     "text": [
      "Epoch 90, Loss 0.0295\n",
      "Training Accuracy: 0.9645, Testing Accuracy: 0.9688\n",
      "\n"
     ]
    },
    {
     "name": "stdout",
     "output_type": "stream",
     "text": [
      "Epoch 100, Loss 0.0283\n",
      "Training Accuracy: 0.9655, Testing Accuracy: 0.9698\n",
      "\n"
     ]
    },
    {
     "name": "stdout",
     "output_type": "stream",
     "text": [
      "Epoch 110, Loss 0.0272\n",
      "Training Accuracy: 0.9666, Testing Accuracy: 0.9698\n",
      "\n"
     ]
    },
    {
     "name": "stdout",
     "output_type": "stream",
     "text": [
      "Epoch 120, Loss 0.0263\n",
      "Training Accuracy: 0.9676, Testing Accuracy: 0.9708\n",
      "\n"
     ]
    },
    {
     "name": "stdout",
     "output_type": "stream",
     "text": [
      "Epoch 130, Loss 0.0256\n",
      "Training Accuracy: 0.9690, Testing Accuracy: 0.9703\n",
      "\n"
     ]
    },
    {
     "name": "stdout",
     "output_type": "stream",
     "text": [
      "Epoch 140, Loss 0.0249\n",
      "Training Accuracy: 0.9700, Testing Accuracy: 0.9698\n",
      "\n"
     ]
    },
    {
     "name": "stdout",
     "output_type": "stream",
     "text": [
      "Epoch 150, Loss 0.0242\n",
      "Training Accuracy: 0.9712, Testing Accuracy: 0.9698\n",
      "\n"
     ]
    },
    {
     "name": "stdout",
     "output_type": "stream",
     "text": [
      "Epoch 160, Loss 0.0236\n",
      "Training Accuracy: 0.9719, Testing Accuracy: 0.9698\n",
      "\n"
     ]
    },
    {
     "name": "stdout",
     "output_type": "stream",
     "text": [
      "Epoch 170, Loss 0.0231\n",
      "Training Accuracy: 0.9729, Testing Accuracy: 0.9703\n",
      "\n"
     ]
    },
    {
     "name": "stdout",
     "output_type": "stream",
     "text": [
      "Epoch 180, Loss 0.0226\n",
      "Training Accuracy: 0.9735, Testing Accuracy: 0.9708\n",
      "\n"
     ]
    },
    {
     "name": "stdout",
     "output_type": "stream",
     "text": [
      "Epoch 190, Loss 0.0222\n",
      "Training Accuracy: 0.9744, Testing Accuracy: 0.9708\n",
      "\n"
     ]
    },
    {
     "name": "stdout",
     "output_type": "stream",
     "text": [
      "Epoch 200, Loss 0.0217\n",
      "Training Accuracy: 0.9750, Testing Accuracy: 0.9708\n",
      "\n"
     ]
    },
    {
     "name": "stdout",
     "output_type": "stream",
     "text": [
      "Epoch 210, Loss 0.0213\n",
      "Training Accuracy: 0.9754, Testing Accuracy: 0.9708\n",
      "\n"
     ]
    },
    {
     "name": "stdout",
     "output_type": "stream",
     "text": [
      "Epoch 220, Loss 0.021\n",
      "Training Accuracy: 0.9756, Testing Accuracy: 0.9703\n",
      "\n"
     ]
    },
    {
     "name": "stdout",
     "output_type": "stream",
     "text": [
      "Epoch 230, Loss 0.0206\n",
      "Training Accuracy: 0.9762, Testing Accuracy: 0.9708\n",
      "\n"
     ]
    },
    {
     "name": "stdout",
     "output_type": "stream",
     "text": [
      "Epoch 240, Loss 0.0202\n",
      "Training Accuracy: 0.9769, Testing Accuracy: 0.9718\n",
      "\n"
     ]
    },
    {
     "name": "stdout",
     "output_type": "stream",
     "text": [
      "Epoch 250, Loss 0.0199\n",
      "Training Accuracy: 0.9774, Testing Accuracy: 0.9723\n",
      "\n"
     ]
    },
    {
     "data": {
      "text/plain": [
       "0.016313222138036498"
      ]
     },
     "execution_count": 20,
     "metadata": {},
     "output_type": "execute_result"
    }
   ],
   "source": [
    "print(\"====== Neural Network ======\")\n",
    "learner_nn.train_loop(dl)"
   ]
  },
  {
   "cell_type": "markdown",
   "id": "competent-suffering",
   "metadata": {
    "papermill": {
     "duration": 0.047279,
     "end_time": "2021-05-15T20:08:11.837252",
     "exception": false,
     "start_time": "2021-05-15T20:08:11.789973",
     "status": "completed"
    },
    "tags": []
   },
   "source": [
    "### Logistic Regression based Implementation."
   ]
  },
  {
   "cell_type": "code",
   "execution_count": 21,
   "id": "qualified-psychiatry",
   "metadata": {
    "execution": {
     "iopub.execute_input": "2021-05-15T20:08:11.936022Z",
     "iopub.status.busy": "2021-05-15T20:08:11.935379Z",
     "iopub.status.idle": "2021-05-15T20:08:11.947599Z",
     "shell.execute_reply": "2021-05-15T20:08:11.948144Z"
    },
    "papermill": {
     "duration": 0.064183,
     "end_time": "2021-05-15T20:08:11.948296",
     "exception": false,
     "start_time": "2021-05-15T20:08:11.884113",
     "status": "completed"
    },
    "tags": []
   },
   "outputs": [],
   "source": [
    "learner_lr = Learner(loss, model_lr, opt, config.num_epochs)\n",
    "acc_lr = ClfCallback(learner_lr, config.bs, training_xdata , testing_xdata, training_ydata, testing_ydata)\n",
    "learner_lr.set_callbacks([acc_lr])"
   ]
  },
  {
   "cell_type": "code",
   "execution_count": 22,
   "id": "average-outside",
   "metadata": {
    "execution": {
     "iopub.execute_input": "2021-05-15T20:08:12.044842Z",
     "iopub.status.busy": "2021-05-15T20:08:12.044163Z",
     "iopub.status.idle": "2021-05-15T20:08:30.134283Z",
     "shell.execute_reply": "2021-05-15T20:08:30.135253Z"
    },
    "papermill": {
     "duration": 18.14165,
     "end_time": "2021-05-15T20:08:30.135428",
     "exception": false,
     "start_time": "2021-05-15T20:08:11.993778",
     "status": "completed"
    },
    "tags": []
   },
   "outputs": [
    {
     "name": "stdout",
     "output_type": "stream",
     "text": [
      "====== Logistic Regression ======\n",
      "Epoch 0, Loss 0.2435\n",
      "Training Accuracy: 0.6861, Testing Accuracy: 0.6568\n",
      "\n"
     ]
    },
    {
     "name": "stdout",
     "output_type": "stream",
     "text": [
      "Epoch 10, Loss 0.1032\n",
      "Training Accuracy: 0.9106, Testing Accuracy: 0.9183\n",
      "\n"
     ]
    },
    {
     "name": "stdout",
     "output_type": "stream",
     "text": [
      "Epoch 20, Loss 0.0793\n",
      "Training Accuracy: 0.9293, Testing Accuracy: 0.9415\n",
      "\n"
     ]
    },
    {
     "name": "stdout",
     "output_type": "stream",
     "text": [
      "Epoch 30, Loss 0.0684\n",
      "Training Accuracy: 0.9377, Testing Accuracy: 0.9511\n",
      "\n"
     ]
    },
    {
     "name": "stdout",
     "output_type": "stream",
     "text": [
      "Epoch 40, Loss 0.0619\n",
      "Training Accuracy: 0.9417, Testing Accuracy: 0.9546\n",
      "\n"
     ]
    },
    {
     "name": "stdout",
     "output_type": "stream",
     "text": [
      "Epoch 50, Loss 0.0574\n",
      "Training Accuracy: 0.9449, Testing Accuracy: 0.9556\n",
      "\n"
     ]
    },
    {
     "name": "stdout",
     "output_type": "stream",
     "text": [
      "Epoch 60, Loss 0.0541\n",
      "Training Accuracy: 0.9479, Testing Accuracy: 0.9582\n",
      "\n"
     ]
    },
    {
     "name": "stdout",
     "output_type": "stream",
     "text": [
      "Epoch 70, Loss 0.0515\n",
      "Training Accuracy: 0.9504, Testing Accuracy: 0.9597\n",
      "\n"
     ]
    },
    {
     "name": "stdout",
     "output_type": "stream",
     "text": [
      "Epoch 80, Loss 0.0495\n",
      "Training Accuracy: 0.9521, Testing Accuracy: 0.9602\n",
      "\n"
     ]
    },
    {
     "name": "stdout",
     "output_type": "stream",
     "text": [
      "Epoch 90, Loss 0.0478\n",
      "Training Accuracy: 0.9529, Testing Accuracy: 0.9602\n",
      "\n"
     ]
    },
    {
     "name": "stdout",
     "output_type": "stream",
     "text": [
      "Epoch 100, Loss 0.0463\n",
      "Training Accuracy: 0.9540, Testing Accuracy: 0.9622\n",
      "\n"
     ]
    },
    {
     "name": "stdout",
     "output_type": "stream",
     "text": [
      "Epoch 110, Loss 0.0451\n",
      "Training Accuracy: 0.9549, Testing Accuracy: 0.9647\n",
      "\n"
     ]
    },
    {
     "name": "stdout",
     "output_type": "stream",
     "text": [
      "Epoch 120, Loss 0.044\n",
      "Training Accuracy: 0.9553, Testing Accuracy: 0.9642\n",
      "\n"
     ]
    },
    {
     "name": "stdout",
     "output_type": "stream",
     "text": [
      "Epoch 130, Loss 0.0431\n",
      "Training Accuracy: 0.9559, Testing Accuracy: 0.9657\n",
      "\n"
     ]
    },
    {
     "name": "stdout",
     "output_type": "stream",
     "text": [
      "Epoch 140, Loss 0.0423\n",
      "Training Accuracy: 0.9565, Testing Accuracy: 0.9662\n",
      "\n"
     ]
    },
    {
     "name": "stdout",
     "output_type": "stream",
     "text": [
      "Epoch 150, Loss 0.0415\n",
      "Training Accuracy: 0.9573, Testing Accuracy: 0.9657\n",
      "\n"
     ]
    },
    {
     "name": "stdout",
     "output_type": "stream",
     "text": [
      "Epoch 160, Loss 0.0408\n",
      "Training Accuracy: 0.9575, Testing Accuracy: 0.9662\n",
      "\n"
     ]
    },
    {
     "name": "stdout",
     "output_type": "stream",
     "text": [
      "Epoch 170, Loss 0.0402\n",
      "Training Accuracy: 0.9584, Testing Accuracy: 0.9667\n",
      "\n"
     ]
    },
    {
     "name": "stdout",
     "output_type": "stream",
     "text": [
      "Epoch 180, Loss 0.0396\n",
      "Training Accuracy: 0.9589, Testing Accuracy: 0.9667\n",
      "\n"
     ]
    },
    {
     "name": "stdout",
     "output_type": "stream",
     "text": [
      "Epoch 190, Loss 0.0391\n",
      "Training Accuracy: 0.9594, Testing Accuracy: 0.9662\n",
      "\n"
     ]
    },
    {
     "name": "stdout",
     "output_type": "stream",
     "text": [
      "Epoch 200, Loss 0.0386\n",
      "Training Accuracy: 0.9601, Testing Accuracy: 0.9667\n",
      "\n"
     ]
    },
    {
     "name": "stdout",
     "output_type": "stream",
     "text": [
      "Epoch 210, Loss 0.0382\n",
      "Training Accuracy: 0.9601, Testing Accuracy: 0.9667\n",
      "\n"
     ]
    },
    {
     "name": "stdout",
     "output_type": "stream",
     "text": [
      "Epoch 220, Loss 0.0378\n",
      "Training Accuracy: 0.9603, Testing Accuracy: 0.9672\n",
      "\n"
     ]
    },
    {
     "name": "stdout",
     "output_type": "stream",
     "text": [
      "Epoch 230, Loss 0.0374\n",
      "Training Accuracy: 0.9606, Testing Accuracy: 0.9667\n",
      "\n"
     ]
    },
    {
     "name": "stdout",
     "output_type": "stream",
     "text": [
      "Epoch 240, Loss 0.037\n",
      "Training Accuracy: 0.9606, Testing Accuracy: 0.9662\n",
      "\n"
     ]
    },
    {
     "name": "stdout",
     "output_type": "stream",
     "text": [
      "Epoch 250, Loss 0.0367\n",
      "Training Accuracy: 0.9610, Testing Accuracy: 0.9662\n",
      "\n"
     ]
    },
    {
     "data": {
      "text/plain": [
       "0.01163090200148501"
      ]
     },
     "execution_count": 22,
     "metadata": {},
     "output_type": "execute_result"
    }
   ],
   "source": [
    "print(\"====== Logistic Regression ======\")\n",
    "learner_lr.train_loop(dl)"
   ]
  },
  {
   "cell_type": "markdown",
   "id": "adjusted-possible",
   "metadata": {
    "papermill": {
     "duration": 0.054563,
     "end_time": "2021-05-15T20:08:30.245028",
     "exception": false,
     "start_time": "2021-05-15T20:08:30.190465",
     "status": "completed"
    },
    "tags": []
   },
   "source": [
    "### Comparing results of NN and LR"
   ]
  },
  {
   "cell_type": "code",
   "execution_count": 23,
   "id": "mental-multimedia",
   "metadata": {
    "execution": {
     "iopub.execute_input": "2021-05-15T20:08:30.357873Z",
     "iopub.status.busy": "2021-05-15T20:08:30.357194Z",
     "iopub.status.idle": "2021-05-15T20:08:30.639338Z",
     "shell.execute_reply": "2021-05-15T20:08:30.638767Z"
    },
    "papermill": {
     "duration": 0.341383,
     "end_time": "2021-05-15T20:08:30.639487",
     "exception": false,
     "start_time": "2021-05-15T20:08:30.298104",
     "status": "completed"
    },
    "tags": []
   },
   "outputs": [
    {
     "data": {
      "text/plain": [
       "<matplotlib.legend.Legend at 0x7f2d258441d0>"
      ]
     },
     "execution_count": 23,
     "metadata": {},
     "output_type": "execute_result"
    },
    {
     "data": {
      "image/png": "[encoded data removed]",
      "text/plain": [
       "<Figure size 1080x720 with 1 Axes>"
      ]
     },
     "metadata": {
      "needs_background": "light"
     },
     "output_type": "display_data"
    }
   ],
   "source": [
    "plt.figure(figsize=(15,10))\n",
    "\n",
    "# Neural Network plots\n",
    "plt.plot(acc_nn.accuracies, 'r-', label = \"Training Accuracies - NN\")\n",
    "plt.plot(acc_nn.test_accuracies, 'g-', label = \"Testing Accuracies - NN\")\n",
    "\n",
    "# Logistic Regression plots\n",
    "plt.plot(acc_lr.accuracies, 'k-', label = \"Training Accuracies - LR\")\n",
    "plt.plot(acc_lr.test_accuracies, 'b-', label = \"Testing Accuracies - LR\")\n",
    "\n",
    "plt.ylim(0.8, 1)\n",
    "\n",
    "plt.legend()\n",
    "\n"
   ]
  },
  {
   "cell_type": "markdown",
   "id": "sexual-flesh",
   "metadata": {
    "papermill": {
     "duration": 0.05823,
     "end_time": "2021-05-15T20:08:30.759129",
     "exception": false,
     "start_time": "2021-05-15T20:08:30.700899",
     "status": "completed"
    },
    "tags": []
   },
   "source": [
    "### From the plot, we can observe the following:\n",
    "- Neural Network achieves higher accuracy than the Logistic Regression model.\n",
    "- This apparently, is because of overfitting, i.e. NN captures more noise than data.\n",
    "- Testing accuracy of NN drops below the Training accuracy at higher epochs. This explains the over-fitting on training data.\n",
    "- Logistic Regression gives a reliable accuracy, without the above mentioned problem.\n"
   ]
  },
  {
   "cell_type": "markdown",
   "id": "institutional-pacific",
   "metadata": {
    "papermill": {
     "duration": 0.056439,
     "end_time": "2021-05-15T20:08:30.872397",
     "exception": false,
     "start_time": "2021-05-15T20:08:30.815958",
     "status": "completed"
    },
    "tags": []
   },
   "source": [
    "### Moving till the last but one layer (excluding it).\n",
    "#### Plotting the outputs of this layer of the NN."
   ]
  },
  {
   "cell_type": "code",
   "execution_count": 24,
   "id": "economic-server",
   "metadata": {
    "execution": {
     "iopub.execute_input": "2021-05-15T20:08:30.995389Z",
     "iopub.status.busy": "2021-05-15T20:08:30.990038Z",
     "iopub.status.idle": "2021-05-15T20:08:31.005632Z",
     "shell.execute_reply": "2021-05-15T20:08:31.006412Z"
    },
    "papermill": {
     "duration": 0.077269,
     "end_time": "2021-05-15T20:08:31.006711",
     "exception": false,
     "start_time": "2021-05-15T20:08:30.929442",
     "status": "completed"
    },
    "tags": []
   },
   "outputs": [],
   "source": [
    "model_new = Model(layers[:-2])"
   ]
  },
  {
   "cell_type": "code",
   "execution_count": 25,
   "id": "varied-upgrade",
   "metadata": {
    "execution": {
     "iopub.execute_input": "2021-05-15T20:08:31.143189Z",
     "iopub.status.busy": "2021-05-15T20:08:31.142531Z",
     "iopub.status.idle": "2021-05-15T20:08:31.179397Z",
     "shell.execute_reply": "2021-05-15T20:08:31.179956Z"
    },
    "papermill": {
     "duration": 0.102393,
     "end_time": "2021-05-15T20:08:31.180129",
     "exception": false,
     "start_time": "2021-05-15T20:08:31.077736",
     "status": "completed"
    },
    "tags": []
   },
   "outputs": [],
   "source": [
    "plot_testing = model_new(testing_xdata)"
   ]
  },
  {
   "cell_type": "code",
   "execution_count": 26,
   "id": "specific-handling",
   "metadata": {
    "execution": {
     "iopub.execute_input": "2021-05-15T20:08:31.329283Z",
     "iopub.status.busy": "2021-05-15T20:08:31.328384Z",
     "iopub.status.idle": "2021-05-15T20:08:31.610247Z",
     "shell.execute_reply": "2021-05-15T20:08:31.609637Z"
    },
    "papermill": {
     "duration": 0.37295,
     "end_time": "2021-05-15T20:08:31.610407",
     "exception": false,
     "start_time": "2021-05-15T20:08:31.237457",
     "status": "completed"
    },
    "tags": []
   },
   "outputs": [
    {
     "data": {
      "text/plain": [
       "Text(0.5, 1.0, 'Outputs')"
      ]
     },
     "execution_count": 26,
     "metadata": {},
     "output_type": "execute_result"
    },
    {
     "data": {
      "image/png": "[encoded data removed]",
      "text/plain": [
       "<Figure size 576x504 with 1 Axes>"
      ]
     },
     "metadata": {
      "needs_background": "light"
     },
     "output_type": "display_data"
    }
   ],
   "source": [
    "plt.figure(figsize=(8,7))\n",
    "plt.scatter(plot_testing[:,0], plot_testing[:,1], alpha = 0.1, c = y_test.ravel());\n",
    "plt.title('Outputs')"
   ]
  },
  {
   "cell_type": "markdown",
   "id": "described-knowing",
   "metadata": {
    "papermill": {
     "duration": 0.062403,
     "end_time": "2021-05-15T20:08:31.734776",
     "exception": false,
     "start_time": "2021-05-15T20:08:31.672373",
     "status": "completed"
    },
    "tags": []
   },
   "source": [
    "### Plotting probability contours"
   ]
  },
  {
   "cell_type": "code",
   "execution_count": 27,
   "id": "needed-growing",
   "metadata": {
    "execution": {
     "iopub.execute_input": "2021-05-15T20:08:31.864216Z",
     "iopub.status.busy": "2021-05-15T20:08:31.863520Z",
     "iopub.status.idle": "2021-05-15T20:08:31.874381Z",
     "shell.execute_reply": "2021-05-15T20:08:31.873814Z"
    },
    "papermill": {
     "duration": 0.078088,
     "end_time": "2021-05-15T20:08:31.874507",
     "exception": false,
     "start_time": "2021-05-15T20:08:31.796419",
     "status": "completed"
    },
    "tags": []
   },
   "outputs": [],
   "source": [
    "model_prob = Model(layers[-2:]) "
   ]
  },
  {
   "cell_type": "code",
   "execution_count": 28,
   "id": "introductory-enforcement",
   "metadata": {
    "execution": {
     "iopub.execute_input": "2021-05-15T20:08:32.008935Z",
     "iopub.status.busy": "2021-05-15T20:08:32.008225Z",
     "iopub.status.idle": "2021-05-15T20:08:32.025004Z",
     "shell.execute_reply": "2021-05-15T20:08:32.025552Z"
    },
    "papermill": {
     "duration": 0.089304,
     "end_time": "2021-05-15T20:08:32.025719",
     "exception": false,
     "start_time": "2021-05-15T20:08:31.936415",
     "status": "completed"
    },
    "tags": []
   },
   "outputs": [],
   "source": [
    "# Adjust the x and y ranges according to the above generated plot.\n",
    "x_range = np.linspace(-4, 1, 100) \n",
    "y_range = np.linspace(-6, 6, 100) \n",
    "x_grid, y_grid = np.meshgrid(x_range, y_range) # x_grid and y_grig are of size 100 X 100\n",
    "\n",
    "# converting x_grid and y_grid to continuous arrays\n",
    "x_grid_flat = np.ravel(x_grid)\n",
    "y_grid_flat = np.ravel(y_grid)\n",
    "\n",
    "# The last layer of the current model takes two columns as input. Hence transpose of np.vstack() is required.\n",
    "X = np.vstack((x_grid_flat, y_grid_flat)).T\n",
    "\n",
    "# x_grid and y_grid are of size 100 x 100\n",
    "probability_contour = model_prob(X).reshape(100,100) "
   ]
  },
  {
   "cell_type": "code",
   "execution_count": 29,
   "id": "understood-landing",
   "metadata": {
    "execution": {
     "iopub.execute_input": "2021-05-15T20:08:32.163756Z",
     "iopub.status.busy": "2021-05-15T20:08:32.163078Z",
     "iopub.status.idle": "2021-05-15T20:08:32.456993Z",
     "shell.execute_reply": "2021-05-15T20:08:32.456463Z"
    },
    "papermill": {
     "duration": 0.364187,
     "end_time": "2021-05-15T20:08:32.457134",
     "exception": false,
     "start_time": "2021-05-15T20:08:32.092947",
     "status": "completed"
    },
    "tags": []
   },
   "outputs": [
    {
     "data": {
      "image/png": "[encoded data removed]",
      "text/plain": [
       "<Figure size 720x648 with 1 Axes>"
      ]
     },
     "metadata": {
      "needs_background": "light"
     },
     "output_type": "display_data"
    }
   ],
   "source": [
    "plt.figure(figsize=(10,9))\n",
    "plt.scatter(plot_testing[:,0], plot_testing[:,1], alpha = 0.1, c = y_test.ravel())\n",
    "contours = plt.contour(x_grid,y_grid,probability_contour)\n",
    "plt.title('Probability Contours')\n",
    "plt.clabel(contours, inline = True );"
   ]
  }
 ],
 "metadata": {
  "kernelspec": {
   "display_name": "Python 3",
   "language": "python",
   "name": "python3"
  },
  "language_info": {
   "codemirror_mode": {
    "name": "ipython",
    "version": 3
   },
   "file_extension": ".py",
   "mimetype": "text/x-python",
   "name": "python",
   "nbconvert_exporter": "python",
   "pygments_lexer": "ipython3",
   "version": "3.6.13"
  },
  "papermill": {
   "duration": 201.434245,
   "end_time": "2021-05-15T20:08:33.847512",
   "environment_variables": {},
   "exception": null,
   "input_path": "2020-08-11-NeuralNetwork.ipynb",
   "output_path": "2020-08-11-NeuralNetwork.ipynb",
   "parameters": {},
   "start_time": "2021-05-15T20:05:12.413267",
   "version": "2.1.2"
  }
 },
 "nbformat": 4,
 "nbformat_minor": 5
}