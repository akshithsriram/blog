{
 "cells": [
  {
   "cell_type": "markdown",
   "id": "fitted-suggestion",
   "metadata": {
    "papermill": {
     "duration": 0.036515,
     "end_time": "2021-08-01T10:05:21.647056",
     "exception": false,
     "start_time": "2021-08-01T10:05:21.610541",
     "status": "completed"
    },
    "tags": []
   },
   "source": [
    "# \"A Basic Neural Network: Differentiate Hand-Written Digits\"\n",
    "\n",
    "- badges: true\n",
    "- author: Akshith Sriram"
   ]
  },
  {
   "cell_type": "markdown",
   "id": "signal-flexibility",
   "metadata": {
    "papermill": {
     "duration": 0.027578,
     "end_time": "2021-08-01T10:05:21.703398",
     "exception": false,
     "start_time": "2021-08-01T10:05:21.675820",
     "status": "completed"
    },
    "tags": []
   },
   "source": [
    "### Key Objectives:\n",
    "- Building a neural network that differentiates two hand-written digits 3 and 8.\n",
    "- Comparing the results of this Neural Network (NN) to that of a Logistic Regression (LR) model.\n",
    "\n",
    "### Requirements:\n",
    "- 'Kudzu' : A neural network library that was designed during our course by [Univ.AI](www.univ.ai). \n",
    "- MNIST Database\n",
    "\n",
    "If MNIST is not installed, use the command `!pip install mnist` given below.\n",
    "It can be run both from the command line and Jupyter Notebook."
   ]
  },
  {
   "cell_type": "code",
   "execution_count": 1,
   "id": "british-texture",
   "metadata": {
    "execution": {
     "iopub.execute_input": "2021-08-01T10:05:21.770343Z",
     "iopub.status.busy": "2021-08-01T10:05:21.767640Z",
     "iopub.status.idle": "2021-08-01T10:05:24.346291Z",
     "shell.execute_reply": "2021-08-01T10:05:24.347282Z"
    },
    "papermill": {
     "duration": 2.615922,
     "end_time": "2021-08-01T10:05:24.347569",
     "exception": false,
     "start_time": "2021-08-01T10:05:21.731647",
     "status": "completed"
    },
    "tags": []
   },
   "outputs": [
    {
     "name": "stdout",
     "output_type": "stream",
     "text": [
      "Collecting mnist\r\n"
     ]
    },
    {
     "name": "stdout",
     "output_type": "stream",
     "text": [
      "  Downloading mnist-0.2.2-py2.py3-none-any.whl (3.5 kB)\r\n",
      "Requirement already satisfied: numpy in /opt/hostedtoolcache/Python/3.6.14/x64/lib/python3.6/site-packages (from mnist) (1.19.5)\r\n"
     ]
    },
    {
     "name": "stdout",
     "output_type": "stream",
     "text": [
      "Installing collected packages: mnist\r\n"
     ]
    },
    {
     "name": "stdout",
     "output_type": "stream",
     "text": [
      "Successfully installed mnist-0.2.2\r\n"
     ]
    },
    {
     "name": "stdout",
     "output_type": "stream",
     "text": [
      "\u001b[33mWARNING: You are using pip version 21.2.1; however, version 21.2.2 is available.\r\n",
      "You should consider upgrading via the '/opt/hostedtoolcache/Python/3.6.14/x64/bin/python -m pip install --upgrade pip' command.\u001b[0m\r\n"
     ]
    }
   ],
   "source": [
    "!pip install mnist "
   ]
  },
  {
   "cell_type": "markdown",
   "id": "stunning-extra",
   "metadata": {
    "papermill": {
     "duration": 0.029906,
     "end_time": "2021-08-01T10:05:24.411695",
     "exception": false,
     "start_time": "2021-08-01T10:05:24.381789",
     "status": "completed"
    },
    "tags": []
   },
   "source": [
    "#### Importing necessary libraries"
   ]
  },
  {
   "cell_type": "code",
   "execution_count": 2,
   "id": "wooden-france",
   "metadata": {
    "execution": {
     "iopub.execute_input": "2021-08-01T10:05:24.478081Z",
     "iopub.status.busy": "2021-08-01T10:05:24.477538Z",
     "iopub.status.idle": "2021-08-01T10:05:25.063969Z",
     "shell.execute_reply": "2021-08-01T10:05:25.063416Z"
    },
    "papermill": {
     "duration": 0.623215,
     "end_time": "2021-08-01T10:05:25.064099",
     "exception": false,
     "start_time": "2021-08-01T10:05:24.440884",
     "status": "completed"
    },
    "tags": []
   },
   "outputs": [],
   "source": [
    "%load_ext autoreload\n",
    "%autoreload 2\n",
    "\n",
    "%matplotlib inline\n",
    "import matplotlib.pyplot as plt\n",
    "\n",
    "import numpy as np\n",
    "import pandas as pd"
   ]
  },
  {
   "cell_type": "markdown",
   "id": "stunning-physics",
   "metadata": {
    "papermill": {
     "duration": 0.029233,
     "end_time": "2021-08-01T10:05:25.123708",
     "exception": false,
     "start_time": "2021-08-01T10:05:25.094475",
     "status": "completed"
    },
    "tags": []
   },
   "source": [
    "### Preparing the Data"
   ]
  },
  {
   "cell_type": "code",
   "execution_count": 3,
   "id": "unauthorized-remainder",
   "metadata": {
    "execution": {
     "iopub.execute_input": "2021-08-01T10:05:25.188948Z",
     "iopub.status.busy": "2021-08-01T10:05:25.188352Z",
     "iopub.status.idle": "2021-08-01T10:05:25.202840Z",
     "shell.execute_reply": "2021-08-01T10:05:25.202366Z"
    },
    "papermill": {
     "duration": 0.049327,
     "end_time": "2021-08-01T10:05:25.202966",
     "exception": false,
     "start_time": "2021-08-01T10:05:25.153639",
     "status": "completed"
    },
    "tags": []
   },
   "outputs": [],
   "source": [
    "import mnist"
   ]
  },
  {
   "cell_type": "code",
   "execution_count": 4,
   "id": "correct-antarctica",
   "metadata": {
    "execution": {
     "iopub.execute_input": "2021-08-01T10:05:25.267413Z",
     "iopub.status.busy": "2021-08-01T10:05:25.266832Z",
     "iopub.status.idle": "2021-08-01T10:09:58.116563Z",
     "shell.execute_reply": "2021-08-01T10:09:58.116020Z"
    },
    "papermill": {
     "duration": 272.883579,
     "end_time": "2021-08-01T10:09:58.116703",
     "exception": false,
     "start_time": "2021-08-01T10:05:25.233124",
     "status": "completed"
    },
    "tags": []
   },
   "outputs": [],
   "source": [
    "train_images = mnist.train_images()\n",
    "train_labels = mnist.train_labels()"
   ]
  },
  {
   "cell_type": "code",
   "execution_count": 5,
   "id": "musical-prospect",
   "metadata": {
    "execution": {
     "iopub.execute_input": "2021-08-01T10:09:58.189890Z",
     "iopub.status.busy": "2021-08-01T10:09:58.189150Z",
     "iopub.status.idle": "2021-08-01T10:09:58.204101Z",
     "shell.execute_reply": "2021-08-01T10:09:58.203606Z"
    },
    "papermill": {
     "duration": 0.053421,
     "end_time": "2021-08-01T10:09:58.204224",
     "exception": false,
     "start_time": "2021-08-01T10:09:58.150803",
     "status": "completed"
    },
    "tags": []
   },
   "outputs": [
    {
     "data": {
      "text/plain": [
       "((60000, 28, 28), (60000,))"
      ]
     },
     "execution_count": 5,
     "metadata": {},
     "output_type": "execute_result"
    }
   ],
   "source": [
    "train_images.shape, train_labels.shape"
   ]
  },
  {
   "cell_type": "code",
   "execution_count": 6,
   "id": "preliminary-elizabeth",
   "metadata": {
    "execution": {
     "iopub.execute_input": "2021-08-01T10:09:58.272753Z",
     "iopub.status.busy": "2021-08-01T10:09:58.272174Z",
     "iopub.status.idle": "2021-08-01T10:10:43.855703Z",
     "shell.execute_reply": "2021-08-01T10:10:43.854086Z"
    },
    "papermill": {
     "duration": 45.620432,
     "end_time": "2021-08-01T10:10:43.855923",
     "exception": false,
     "start_time": "2021-08-01T10:09:58.235491",
     "status": "completed"
    },
    "tags": []
   },
   "outputs": [],
   "source": [
    "test_images = mnist.test_images()\n",
    "test_labels = mnist.test_labels()"
   ]
  },
  {
   "cell_type": "code",
   "execution_count": 7,
   "id": "acknowledged-oxygen",
   "metadata": {
    "execution": {
     "iopub.execute_input": "2021-08-01T10:10:43.925884Z",
     "iopub.status.busy": "2021-08-01T10:10:43.922795Z",
     "iopub.status.idle": "2021-08-01T10:10:43.938705Z",
     "shell.execute_reply": "2021-08-01T10:10:43.938203Z"
    },
    "papermill": {
     "duration": 0.051541,
     "end_time": "2021-08-01T10:10:43.938828",
     "exception": false,
     "start_time": "2021-08-01T10:10:43.887287",
     "status": "completed"
    },
    "tags": []
   },
   "outputs": [
    {
     "data": {
      "text/plain": [
       "((10000, 28, 28), (10000,))"
      ]
     },
     "execution_count": 7,
     "metadata": {},
     "output_type": "execute_result"
    }
   ],
   "source": [
    "test_images.shape, test_labels.shape"
   ]
  },
  {
   "cell_type": "code",
   "execution_count": 8,
   "id": "innovative-organic",
   "metadata": {
    "execution": {
     "iopub.execute_input": "2021-08-01T10:10:44.004293Z",
     "iopub.status.busy": "2021-08-01T10:10:44.003719Z",
     "iopub.status.idle": "2021-08-01T10:10:44.161112Z",
     "shell.execute_reply": "2021-08-01T10:10:44.160571Z"
    },
    "papermill": {
     "duration": 0.1921,
     "end_time": "2021-08-01T10:10:44.161242",
     "exception": false,
     "start_time": "2021-08-01T10:10:43.969142",
     "status": "completed"
    },
    "tags": []
   },
   "outputs": [
    {
     "name": "stdout",
     "output_type": "stream",
     "text": [
      "2\n"
     ]
    },
    {
     "data": {
      "text/plain": [
       "<matplotlib.image.AxesImage at 0x7fd0269b4518>"
      ]
     },
     "execution_count": 8,
     "metadata": {},
     "output_type": "execute_result"
    },
    {
     "data": {
      "image/png": "[encoded data removed]",
      "text/plain": [
       "<Figure size 432x288 with 1 Axes>"
      ]
     },
     "metadata": {
      "needs_background": "light"
     },
     "output_type": "display_data"
    }
   ],
   "source": [
    "image_index = 7776 # You may select anything up to 60,000\n",
    "print(train_labels[image_index]) \n",
    "plt.imshow(train_images[image_index], cmap='Greys')"
   ]
  },
  {
   "cell_type": "markdown",
   "id": "facial-modem",
   "metadata": {
    "papermill": {
     "duration": 0.03163,
     "end_time": "2021-08-01T10:10:44.224887",
     "exception": false,
     "start_time": "2021-08-01T10:10:44.193257",
     "status": "completed"
    },
    "tags": []
   },
   "source": [
    "## Filter data to get 3 and 8 out"
   ]
  },
  {
   "cell_type": "code",
   "execution_count": 9,
   "id": "thousand-acquisition",
   "metadata": {
    "execution": {
     "iopub.execute_input": "2021-08-01T10:10:44.294066Z",
     "iopub.status.busy": "2021-08-01T10:10:44.292033Z",
     "iopub.status.idle": "2021-08-01T10:10:44.311580Z",
     "shell.execute_reply": "2021-08-01T10:10:44.311040Z"
    },
    "papermill": {
     "duration": 0.055205,
     "end_time": "2021-08-01T10:10:44.311710",
     "exception": false,
     "start_time": "2021-08-01T10:10:44.256505",
     "status": "completed"
    },
    "tags": []
   },
   "outputs": [],
   "source": [
    "train_filter = np.where((train_labels == 3 ) | (train_labels == 8))\n",
    "test_filter = np.where((test_labels == 3) | (test_labels == 8))\n",
    "X_train, y_train = train_images[train_filter], train_labels[train_filter]\n",
    "X_test, y_test = test_images[test_filter], test_labels[test_filter]"
   ]
  },
  {
   "cell_type": "markdown",
   "id": "ruled-access",
   "metadata": {
    "papermill": {
     "duration": 0.031566,
     "end_time": "2021-08-01T10:10:44.374631",
     "exception": false,
     "start_time": "2021-08-01T10:10:44.343065",
     "status": "completed"
    },
    "tags": []
   },
   "source": [
    "We normalize the pixel values in the 0 to 1 range"
   ]
  },
  {
   "cell_type": "code",
   "execution_count": 10,
   "id": "isolated-denver",
   "metadata": {
    "execution": {
     "iopub.execute_input": "2021-08-01T10:10:44.441906Z",
     "iopub.status.busy": "2021-08-01T10:10:44.440406Z",
     "iopub.status.idle": "2021-08-01T10:10:44.494758Z",
     "shell.execute_reply": "2021-08-01T10:10:44.495240Z"
    },
    "papermill": {
     "duration": 0.089072,
     "end_time": "2021-08-01T10:10:44.495400",
     "exception": false,
     "start_time": "2021-08-01T10:10:44.406328",
     "status": "completed"
    },
    "tags": []
   },
   "outputs": [],
   "source": [
    "X_train = X_train/255.\n",
    "X_test = X_test/255."
   ]
  },
  {
   "cell_type": "markdown",
   "id": "perfect-summary",
   "metadata": {
    "papermill": {
     "duration": 0.03013,
     "end_time": "2021-08-01T10:10:44.557050",
     "exception": false,
     "start_time": "2021-08-01T10:10:44.526920",
     "status": "completed"
    },
    "tags": []
   },
   "source": [
    "Setup the labels as 1 (when the digit is 3) and 0 (when the digit is 8)"
   ]
  },
  {
   "cell_type": "code",
   "execution_count": 11,
   "id": "personalized-growing",
   "metadata": {
    "execution": {
     "iopub.execute_input": "2021-08-01T10:10:44.625883Z",
     "iopub.status.busy": "2021-08-01T10:10:44.624455Z",
     "iopub.status.idle": "2021-08-01T10:10:44.637242Z",
     "shell.execute_reply": "2021-08-01T10:10:44.636741Z"
    },
    "papermill": {
     "duration": 0.048971,
     "end_time": "2021-08-01T10:10:44.637372",
     "exception": false,
     "start_time": "2021-08-01T10:10:44.588401",
     "status": "completed"
    },
    "tags": []
   },
   "outputs": [],
   "source": [
    "y_train = 1*(y_train==3)\n",
    "y_test = 1*(y_test==3)"
   ]
  },
  {
   "cell_type": "code",
   "execution_count": 12,
   "id": "considered-virgin",
   "metadata": {
    "execution": {
     "iopub.execute_input": "2021-08-01T10:10:44.703479Z",
     "iopub.status.busy": "2021-08-01T10:10:44.702884Z",
     "iopub.status.idle": "2021-08-01T10:10:44.717846Z",
     "shell.execute_reply": "2021-08-01T10:10:44.718320Z"
    },
    "papermill": {
     "duration": 0.050156,
     "end_time": "2021-08-01T10:10:44.718475",
     "exception": false,
     "start_time": "2021-08-01T10:10:44.668319",
     "status": "completed"
    },
    "tags": []
   },
   "outputs": [
    {
     "data": {
      "text/plain": [
       "((11982, 28, 28), (1984, 28, 28))"
      ]
     },
     "execution_count": 12,
     "metadata": {},
     "output_type": "execute_result"
    }
   ],
   "source": [
    "X_train.shape, X_test.shape"
   ]
  },
  {
   "cell_type": "markdown",
   "id": "civilian-mobile",
   "metadata": {
    "papermill": {
     "duration": 0.03136,
     "end_time": "2021-08-01T10:10:44.781401",
     "exception": false,
     "start_time": "2021-08-01T10:10:44.750041",
     "status": "completed"
    },
    "tags": []
   },
   "source": [
    "### Reshape the input data to create a linear array"
   ]
  },
  {
   "cell_type": "code",
   "execution_count": 13,
   "id": "colonial-adams",
   "metadata": {
    "execution": {
     "iopub.execute_input": "2021-08-01T10:10:44.851627Z",
     "iopub.status.busy": "2021-08-01T10:10:44.851040Z",
     "iopub.status.idle": "2021-08-01T10:10:44.866551Z",
     "shell.execute_reply": "2021-08-01T10:10:44.866076Z"
    },
    "papermill": {
     "duration": 0.052933,
     "end_time": "2021-08-01T10:10:44.866685",
     "exception": false,
     "start_time": "2021-08-01T10:10:44.813752",
     "status": "completed"
    },
    "tags": []
   },
   "outputs": [
    {
     "data": {
      "text/plain": [
       "((11982, 784), (1984, 784))"
      ]
     },
     "execution_count": 13,
     "metadata": {},
     "output_type": "execute_result"
    }
   ],
   "source": [
    "X_train = X_train.reshape(X_train.shape[0], -1)\n",
    "X_test = X_test.reshape(X_test.shape[0], -1)\n",
    "X_train.shape, X_test.shape"
   ]
  },
  {
   "cell_type": "markdown",
   "id": "smart-details",
   "metadata": {
    "papermill": {
     "duration": 0.031177,
     "end_time": "2021-08-01T10:10:44.929410",
     "exception": false,
     "start_time": "2021-08-01T10:10:44.898233",
     "status": "completed"
    },
    "tags": []
   },
   "source": [
    "### Importing appropriate functions from 'Kudzu'"
   ]
  },
  {
   "cell_type": "code",
   "execution_count": 14,
   "id": "celtic-trial",
   "metadata": {
    "execution": {
     "iopub.execute_input": "2021-08-01T10:10:45.000790Z",
     "iopub.status.busy": "2021-08-01T10:10:45.000213Z",
     "iopub.status.idle": "2021-08-01T10:10:45.020989Z",
     "shell.execute_reply": "2021-08-01T10:10:45.020362Z"
    },
    "papermill": {
     "duration": 0.059253,
     "end_time": "2021-08-01T10:10:45.021185",
     "exception": false,
     "start_time": "2021-08-01T10:10:44.961932",
     "status": "completed"
    },
    "tags": []
   },
   "outputs": [],
   "source": [
    "from kudzu.layer import Sigmoid\n",
    "from kudzu.layer import Relu\n",
    "from kudzu.layer import Affine, Sigmoid\n",
    "\n",
    "from kudzu.model import Model\n",
    "from kudzu.train import Learner\n",
    "from kudzu.optim import GD\n",
    "from kudzu.data import Data, Dataloader, Sampler\n",
    "\n",
    "from kudzu.callbacks import AccCallback\n",
    "from kudzu.callbacks import ClfCallback\n",
    "\n",
    "from kudzu.loss import MSE"
   ]
  },
  {
   "cell_type": "markdown",
   "id": "coupled-customer",
   "metadata": {
    "papermill": {
     "duration": 0.031859,
     "end_time": "2021-08-01T10:10:45.086621",
     "exception": false,
     "start_time": "2021-08-01T10:10:45.054762",
     "status": "completed"
    },
    "tags": []
   },
   "source": [
    "### Let us create a `Config` class, to store important parameters. \n",
    "This class essentially plays the role of a dictionary."
   ]
  },
  {
   "cell_type": "code",
   "execution_count": 15,
   "id": "young-ceiling",
   "metadata": {
    "execution": {
     "iopub.execute_input": "2021-08-01T10:10:45.156965Z",
     "iopub.status.busy": "2021-08-01T10:10:45.156371Z",
     "iopub.status.idle": "2021-08-01T10:10:45.171803Z",
     "shell.execute_reply": "2021-08-01T10:10:45.170887Z"
    },
    "papermill": {
     "duration": 0.053,
     "end_time": "2021-08-01T10:10:45.171991",
     "exception": false,
     "start_time": "2021-08-01T10:10:45.118991",
     "status": "completed"
    },
    "tags": []
   },
   "outputs": [],
   "source": [
    "class Config:\n",
    "    pass\n",
    "config = Config()\n",
    "config.lr = 0.001\n",
    "config.num_epochs = 251\n",
    "config.bs = 50"
   ]
  },
  {
   "cell_type": "markdown",
   "id": "according-mandate",
   "metadata": {
    "papermill": {
     "duration": 0.032443,
     "end_time": "2021-08-01T10:10:45.239422",
     "exception": false,
     "start_time": "2021-08-01T10:10:45.206979",
     "status": "completed"
    },
    "tags": []
   },
   "source": [
    "### Initializing data to the variables"
   ]
  },
  {
   "cell_type": "code",
   "execution_count": 16,
   "id": "academic-disposition",
   "metadata": {
    "execution": {
     "iopub.execute_input": "2021-08-01T10:10:45.308547Z",
     "iopub.status.busy": "2021-08-01T10:10:45.307963Z",
     "iopub.status.idle": "2021-08-01T10:10:45.322455Z",
     "shell.execute_reply": "2021-08-01T10:10:45.322921Z"
    },
    "papermill": {
     "duration": 0.052082,
     "end_time": "2021-08-01T10:10:45.323073",
     "exception": false,
     "start_time": "2021-08-01T10:10:45.270991",
     "status": "completed"
    },
    "tags": []
   },
   "outputs": [],
   "source": [
    "data = Data(X_train, y_train.reshape(-1,1))\n",
    "sampler = Sampler(data, config.bs, shuffle=True)\n",
    "\n",
    "dl = Dataloader(data, sampler)\n",
    "\n",
    "opt = GD(config.lr)\n",
    "loss = MSE()"
   ]
  },
  {
   "cell_type": "code",
   "execution_count": 17,
   "id": "featured-commission",
   "metadata": {
    "execution": {
     "iopub.execute_input": "2021-08-01T10:10:45.394731Z",
     "iopub.status.busy": "2021-08-01T10:10:45.394145Z",
     "iopub.status.idle": "2021-08-01T10:10:45.405537Z",
     "shell.execute_reply": "2021-08-01T10:10:45.405021Z"
    },
    "papermill": {
     "duration": 0.051252,
     "end_time": "2021-08-01T10:10:45.405666",
     "exception": false,
     "start_time": "2021-08-01T10:10:45.354414",
     "status": "completed"
    },
    "tags": []
   },
   "outputs": [],
   "source": [
    "training_xdata = X_train\n",
    "testing_xdata = X_test\n",
    "training_ydata = y_train.reshape(-1,1)\n",
    "testing_ydata = y_test.reshape(-1,1)"
   ]
  },
  {
   "cell_type": "markdown",
   "id": "played-safety",
   "metadata": {
    "papermill": {
     "duration": 0.03163,
     "end_time": "2021-08-01T10:10:45.469104",
     "exception": false,
     "start_time": "2021-08-01T10:10:45.437474",
     "status": "completed"
    },
    "tags": []
   },
   "source": [
    "### Running Models with the Training data\n",
    "Details about the network layers:\n",
    "- A first affine layer has 784 inputs and does 100 affine transforms. These are followed by a Relu\n",
    "- A second affine layer has 100 inputs from the 100 activations of the past layer, and does 100 affine transforms. These are followed by a Relu\n",
    "- A third affine layer has 100 activations and does 2 affine transformations to create an embedding for visualization. There is no non-linearity here.\n",
    "- A final \"logistic regression\" which has an affine transform from 2 inputs to 1 output, which is squeezed through a sigmoid.\n",
    "\n",
    "Help taken from Anshuman's Notebook."
   ]
  },
  {
   "cell_type": "code",
   "execution_count": 18,
   "id": "asian-bankruptcy",
   "metadata": {
    "execution": {
     "iopub.execute_input": "2021-08-01T10:10:45.538449Z",
     "iopub.status.busy": "2021-08-01T10:10:45.537832Z",
     "iopub.status.idle": "2021-08-01T10:10:45.556333Z",
     "shell.execute_reply": "2021-08-01T10:10:45.555399Z"
    },
    "papermill": {
     "duration": 0.055522,
     "end_time": "2021-08-01T10:10:45.556535",
     "exception": false,
     "start_time": "2021-08-01T10:10:45.501013",
     "status": "completed"
    },
    "tags": []
   },
   "outputs": [],
   "source": [
    "# layers for the Neural Network\n",
    "layers = [Affine(\"first\", 784, 100), Relu(\"first\"), Affine(\"second\", 100, 100), Relu(\"second\"), Affine(\"third\", 100, 2), Affine(\"final\", 2, 1), Sigmoid(\"final\")]\n",
    "model_nn = Model(layers)\n",
    "\n",
    "# layers for the Logistic Regression\n",
    "layers_lr = [Affine(\"logits\", 784, 1), Sigmoid(\"sigmoid\")]\n",
    "model_lr = Model(layers_lr)"
   ]
  },
  {
   "cell_type": "code",
   "execution_count": 19,
   "id": "removed-butler",
   "metadata": {
    "execution": {
     "iopub.execute_input": "2021-08-01T10:10:45.630449Z",
     "iopub.status.busy": "2021-08-01T10:10:45.629879Z",
     "iopub.status.idle": "2021-08-01T10:10:45.642902Z",
     "shell.execute_reply": "2021-08-01T10:10:45.642428Z"
    },
    "papermill": {
     "duration": 0.054268,
     "end_time": "2021-08-01T10:10:45.643019",
     "exception": false,
     "start_time": "2021-08-01T10:10:45.588751",
     "status": "completed"
    },
    "tags": []
   },
   "outputs": [],
   "source": [
    "# suffix _nn stands for Neural Network.\n",
    "learner_nn = Learner(loss, model_nn, opt, config.num_epochs)\n",
    "acc_nn = ClfCallback(learner_nn, config.bs, training_xdata , testing_xdata, training_ydata, testing_ydata)\n",
    "learner_nn.set_callbacks([acc_nn])"
   ]
  },
  {
   "cell_type": "code",
   "execution_count": 20,
   "id": "conceptual-throw",
   "metadata": {
    "execution": {
     "iopub.execute_input": "2021-08-01T10:10:45.714479Z",
     "iopub.status.busy": "2021-08-01T10:10:45.713852Z",
     "iopub.status.idle": "2021-08-01T10:12:13.274977Z",
     "shell.execute_reply": "2021-08-01T10:12:13.275738Z"
    },
    "papermill": {
     "duration": 87.599992,
     "end_time": "2021-08-01T10:12:13.275890",
     "exception": false,
     "start_time": "2021-08-01T10:10:45.675898",
     "status": "completed"
    },
    "tags": []
   },
   "outputs": [
    {
     "name": "stdout",
     "output_type": "stream",
     "text": [
      "====== Neural Network ======\n"
     ]
    },
    {
     "name": "stdout",
     "output_type": "stream",
     "text": [
      "Epoch 0, Loss 0.2326\n",
      "Training Accuracy: 0.7281, Testing Accuracy: 0.7656\n",
      "\n"
     ]
    },
    {
     "name": "stdout",
     "output_type": "stream",
     "text": [
      "Epoch 10, Loss 0.0695\n",
      "Training Accuracy: 0.9270, Testing Accuracy: 0.9395\n",
      "\n"
     ]
    },
    {
     "name": "stdout",
     "output_type": "stream",
     "text": [
      "Epoch 20, Loss 0.0477\n",
      "Training Accuracy: 0.9479, Testing Accuracy: 0.9556\n",
      "\n"
     ]
    },
    {
     "name": "stdout",
     "output_type": "stream",
     "text": [
      "Epoch 30, Loss 0.0395\n",
      "Training Accuracy: 0.9566, Testing Accuracy: 0.9637\n",
      "\n"
     ]
    },
    {
     "name": "stdout",
     "output_type": "stream",
     "text": [
      "Epoch 40, Loss 0.035\n",
      "Training Accuracy: 0.9609, Testing Accuracy: 0.9642\n",
      "\n"
     ]
    },
    {
     "name": "stdout",
     "output_type": "stream",
     "text": [
      "Epoch 50, Loss 0.0322\n",
      "Training Accuracy: 0.9638, Testing Accuracy: 0.9667\n",
      "\n"
     ]
    },
    {
     "name": "stdout",
     "output_type": "stream",
     "text": [
      "Epoch 60, Loss 0.0302\n",
      "Training Accuracy: 0.9663, Testing Accuracy: 0.9672\n",
      "\n"
     ]
    },
    {
     "name": "stdout",
     "output_type": "stream",
     "text": [
      "Epoch 70, Loss 0.0286\n",
      "Training Accuracy: 0.9675, Testing Accuracy: 0.9677\n",
      "\n"
     ]
    },
    {
     "name": "stdout",
     "output_type": "stream",
     "text": [
      "Epoch 80, Loss 0.0274\n",
      "Training Accuracy: 0.9691, Testing Accuracy: 0.9672\n",
      "\n"
     ]
    },
    {
     "name": "stdout",
     "output_type": "stream",
     "text": [
      "Epoch 90, Loss 0.0264\n",
      "Training Accuracy: 0.9705, Testing Accuracy: 0.9677\n",
      "\n"
     ]
    },
    {
     "name": "stdout",
     "output_type": "stream",
     "text": [
      "Epoch 100, Loss 0.0255\n",
      "Training Accuracy: 0.9716, Testing Accuracy: 0.9682\n",
      "\n"
     ]
    },
    {
     "name": "stdout",
     "output_type": "stream",
     "text": [
      "Epoch 110, Loss 0.0247\n",
      "Training Accuracy: 0.9727, Testing Accuracy: 0.9677\n",
      "\n"
     ]
    },
    {
     "name": "stdout",
     "output_type": "stream",
     "text": [
      "Epoch 120, Loss 0.0241\n",
      "Training Accuracy: 0.9737, Testing Accuracy: 0.9682\n",
      "\n"
     ]
    },
    {
     "name": "stdout",
     "output_type": "stream",
     "text": [
      "Epoch 130, Loss 0.0234\n",
      "Training Accuracy: 0.9741, Testing Accuracy: 0.9693\n",
      "\n"
     ]
    },
    {
     "name": "stdout",
     "output_type": "stream",
     "text": [
      "Epoch 140, Loss 0.0228\n",
      "Training Accuracy: 0.9748, Testing Accuracy: 0.9698\n",
      "\n"
     ]
    },
    {
     "name": "stdout",
     "output_type": "stream",
     "text": [
      "Epoch 150, Loss 0.0223\n",
      "Training Accuracy: 0.9752, Testing Accuracy: 0.9708\n",
      "\n"
     ]
    },
    {
     "name": "stdout",
     "output_type": "stream",
     "text": [
      "Epoch 160, Loss 0.0218\n",
      "Training Accuracy: 0.9755, Testing Accuracy: 0.9708\n",
      "\n"
     ]
    },
    {
     "name": "stdout",
     "output_type": "stream",
     "text": [
      "Epoch 170, Loss 0.0213\n",
      "Training Accuracy: 0.9763, Testing Accuracy: 0.9708\n",
      "\n"
     ]
    },
    {
     "name": "stdout",
     "output_type": "stream",
     "text": [
      "Epoch 180, Loss 0.0208\n",
      "Training Accuracy: 0.9766, Testing Accuracy: 0.9718\n",
      "\n"
     ]
    },
    {
     "name": "stdout",
     "output_type": "stream",
     "text": [
      "Epoch 190, Loss 0.0204\n",
      "Training Accuracy: 0.9771, Testing Accuracy: 0.9718\n",
      "\n"
     ]
    },
    {
     "name": "stdout",
     "output_type": "stream",
     "text": [
      "Epoch 200, Loss 0.0199\n",
      "Training Accuracy: 0.9777, Testing Accuracy: 0.9718\n",
      "\n"
     ]
    },
    {
     "name": "stdout",
     "output_type": "stream",
     "text": [
      "Epoch 210, Loss 0.0195\n",
      "Training Accuracy: 0.9781, Testing Accuracy: 0.9723\n",
      "\n"
     ]
    },
    {
     "name": "stdout",
     "output_type": "stream",
     "text": [
      "Epoch 220, Loss 0.0191\n",
      "Training Accuracy: 0.9790, Testing Accuracy: 0.9733\n",
      "\n"
     ]
    },
    {
     "name": "stdout",
     "output_type": "stream",
     "text": [
      "Epoch 230, Loss 0.0187\n",
      "Training Accuracy: 0.9797, Testing Accuracy: 0.9738\n",
      "\n"
     ]
    },
    {
     "name": "stdout",
     "output_type": "stream",
     "text": [
      "Epoch 240, Loss 0.0183\n",
      "Training Accuracy: 0.9801, Testing Accuracy: 0.9738\n",
      "\n"
     ]
    },
    {
     "name": "stdout",
     "output_type": "stream",
     "text": [
      "Epoch 250, Loss 0.0179\n",
      "Training Accuracy: 0.9807, Testing Accuracy: 0.9748\n",
      "\n"
     ]
    },
    {
     "data": {
      "text/plain": [
       "0.005159182097253045"
      ]
     },
     "execution_count": 20,
     "metadata": {},
     "output_type": "execute_result"
    }
   ],
   "source": [
    "print(\"====== Neural Network ======\")\n",
    "learner_nn.train_loop(dl)"
   ]
  },
  {
   "cell_type": "markdown",
   "id": "competent-suffering",
   "metadata": {
    "papermill": {
     "duration": 0.039925,
     "end_time": "2021-08-01T10:12:13.356360",
     "exception": false,
     "start_time": "2021-08-01T10:12:13.316435",
     "status": "completed"
    },
    "tags": []
   },
   "source": [
    "### Logistic Regression based Implementation."
   ]
  },
  {
   "cell_type": "code",
   "execution_count": 21,
   "id": "qualified-psychiatry",
   "metadata": {
    "execution": {
     "iopub.execute_input": "2021-08-01T10:12:13.440098Z",
     "iopub.status.busy": "2021-08-01T10:12:13.439555Z",
     "iopub.status.idle": "2021-08-01T10:12:13.455964Z",
     "shell.execute_reply": "2021-08-01T10:12:13.455434Z"
    },
    "papermill": {
     "duration": 0.059847,
     "end_time": "2021-08-01T10:12:13.456088",
     "exception": false,
     "start_time": "2021-08-01T10:12:13.396241",
     "status": "completed"
    },
    "tags": []
   },
   "outputs": [],
   "source": [
    "learner_lr = Learner(loss, model_lr, opt, config.num_epochs)\n",
    "acc_lr = ClfCallback(learner_lr, config.bs, training_xdata , testing_xdata, training_ydata, testing_ydata)\n",
    "learner_lr.set_callbacks([acc_lr])"
   ]
  },
  {
   "cell_type": "code",
   "execution_count": 22,
   "id": "average-outside",
   "metadata": {
    "execution": {
     "iopub.execute_input": "2021-08-01T10:12:13.540484Z",
     "iopub.status.busy": "2021-08-01T10:12:13.539897Z",
     "iopub.status.idle": "2021-08-01T10:12:28.999920Z",
     "shell.execute_reply": "2021-08-01T10:12:29.000748Z"
    },
    "papermill": {
     "duration": 15.505156,
     "end_time": "2021-08-01T10:12:29.000902",
     "exception": false,
     "start_time": "2021-08-01T10:12:13.495746",
     "status": "completed"
    },
    "tags": []
   },
   "outputs": [
    {
     "name": "stdout",
     "output_type": "stream",
     "text": [
      "====== Logistic Regression ======\n",
      "Epoch 0, Loss 0.255\n",
      "Training Accuracy: 0.6165, Testing Accuracy: 0.6537\n",
      "\n"
     ]
    },
    {
     "name": "stdout",
     "output_type": "stream",
     "text": [
      "Epoch 10, Loss 0.1066\n",
      "Training Accuracy: 0.8998, Testing Accuracy: 0.9088\n",
      "\n"
     ]
    },
    {
     "name": "stdout",
     "output_type": "stream",
     "text": [
      "Epoch 20, Loss 0.081\n",
      "Training Accuracy: 0.9224, Testing Accuracy: 0.9365\n",
      "\n"
     ]
    },
    {
     "name": "stdout",
     "output_type": "stream",
     "text": [
      "Epoch 30, Loss 0.0692\n",
      "Training Accuracy: 0.9330, Testing Accuracy: 0.9466\n",
      "\n"
     ]
    },
    {
     "name": "stdout",
     "output_type": "stream",
     "text": [
      "Epoch 40, Loss 0.0622\n",
      "Training Accuracy: 0.9393, Testing Accuracy: 0.9501\n",
      "\n"
     ]
    },
    {
     "name": "stdout",
     "output_type": "stream",
     "text": [
      "Epoch 50, Loss 0.0575\n",
      "Training Accuracy: 0.9441, Testing Accuracy: 0.9526\n",
      "\n"
     ]
    },
    {
     "name": "stdout",
     "output_type": "stream",
     "text": [
      "Epoch 60, Loss 0.054\n",
      "Training Accuracy: 0.9465, Testing Accuracy: 0.9546\n",
      "\n"
     ]
    },
    {
     "name": "stdout",
     "output_type": "stream",
     "text": [
      "Epoch 70, Loss 0.0514\n",
      "Training Accuracy: 0.9492, Testing Accuracy: 0.9556\n",
      "\n"
     ]
    },
    {
     "name": "stdout",
     "output_type": "stream",
     "text": [
      "Epoch 80, Loss 0.0493\n",
      "Training Accuracy: 0.9503, Testing Accuracy: 0.9572\n",
      "\n"
     ]
    },
    {
     "name": "stdout",
     "output_type": "stream",
     "text": [
      "Epoch 90, Loss 0.0476\n",
      "Training Accuracy: 0.9513, Testing Accuracy: 0.9582\n",
      "\n"
     ]
    },
    {
     "name": "stdout",
     "output_type": "stream",
     "text": [
      "Epoch 100, Loss 0.0461\n",
      "Training Accuracy: 0.9529, Testing Accuracy: 0.9607\n",
      "\n"
     ]
    },
    {
     "name": "stdout",
     "output_type": "stream",
     "text": [
      "Epoch 110, Loss 0.0449\n",
      "Training Accuracy: 0.9537, Testing Accuracy: 0.9617\n",
      "\n"
     ]
    },
    {
     "name": "stdout",
     "output_type": "stream",
     "text": [
      "Epoch 120, Loss 0.0439\n",
      "Training Accuracy: 0.9546, Testing Accuracy: 0.9622\n",
      "\n"
     ]
    },
    {
     "name": "stdout",
     "output_type": "stream",
     "text": [
      "Epoch 130, Loss 0.0429\n",
      "Training Accuracy: 0.9550, Testing Accuracy: 0.9632\n",
      "\n"
     ]
    },
    {
     "name": "stdout",
     "output_type": "stream",
     "text": [
      "Epoch 140, Loss 0.0421\n",
      "Training Accuracy: 0.9554, Testing Accuracy: 0.9642\n",
      "\n"
     ]
    },
    {
     "name": "stdout",
     "output_type": "stream",
     "text": [
      "Epoch 150, Loss 0.0413\n",
      "Training Accuracy: 0.9559, Testing Accuracy: 0.9657\n",
      "\n"
     ]
    },
    {
     "name": "stdout",
     "output_type": "stream",
     "text": [
      "Epoch 160, Loss 0.0407\n",
      "Training Accuracy: 0.9565, Testing Accuracy: 0.9667\n",
      "\n"
     ]
    },
    {
     "name": "stdout",
     "output_type": "stream",
     "text": [
      "Epoch 170, Loss 0.0401\n",
      "Training Accuracy: 0.9572, Testing Accuracy: 0.9662\n",
      "\n"
     ]
    },
    {
     "name": "stdout",
     "output_type": "stream",
     "text": [
      "Epoch 180, Loss 0.0395\n",
      "Training Accuracy: 0.9578, Testing Accuracy: 0.9662\n",
      "\n"
     ]
    },
    {
     "name": "stdout",
     "output_type": "stream",
     "text": [
      "Epoch 190, Loss 0.039\n",
      "Training Accuracy: 0.9581, Testing Accuracy: 0.9662\n",
      "\n"
     ]
    },
    {
     "name": "stdout",
     "output_type": "stream",
     "text": [
      "Epoch 200, Loss 0.0385\n",
      "Training Accuracy: 0.9589, Testing Accuracy: 0.9662\n",
      "\n"
     ]
    },
    {
     "name": "stdout",
     "output_type": "stream",
     "text": [
      "Epoch 210, Loss 0.0381\n",
      "Training Accuracy: 0.9596, Testing Accuracy: 0.9662\n",
      "\n"
     ]
    },
    {
     "name": "stdout",
     "output_type": "stream",
     "text": [
      "Epoch 220, Loss 0.0377\n",
      "Training Accuracy: 0.9599, Testing Accuracy: 0.9662\n",
      "\n"
     ]
    },
    {
     "name": "stdout",
     "output_type": "stream",
     "text": [
      "Epoch 230, Loss 0.0373\n",
      "Training Accuracy: 0.9601, Testing Accuracy: 0.9662\n",
      "\n"
     ]
    },
    {
     "name": "stdout",
     "output_type": "stream",
     "text": [
      "Epoch 240, Loss 0.0369\n",
      "Training Accuracy: 0.9609, Testing Accuracy: 0.9662\n",
      "\n"
     ]
    },
    {
     "name": "stdout",
     "output_type": "stream",
     "text": [
      "Epoch 250, Loss 0.0366\n",
      "Training Accuracy: 0.9612, Testing Accuracy: 0.9667\n",
      "\n"
     ]
    },
    {
     "data": {
      "text/plain": [
       "0.050129376592107186"
      ]
     },
     "execution_count": 22,
     "metadata": {},
     "output_type": "execute_result"
    }
   ],
   "source": [
    "print(\"====== Logistic Regression ======\")\n",
    "learner_lr.train_loop(dl)"
   ]
  },
  {
   "cell_type": "markdown",
   "id": "adjusted-possible",
   "metadata": {
    "papermill": {
     "duration": 0.049127,
     "end_time": "2021-08-01T10:12:29.098724",
     "exception": false,
     "start_time": "2021-08-01T10:12:29.049597",
     "status": "completed"
    },
    "tags": []
   },
   "source": [
    "### Comparing results of NN and LR"
   ]
  },
  {
   "cell_type": "code",
   "execution_count": 23,
   "id": "mental-multimedia",
   "metadata": {
    "execution": {
     "iopub.execute_input": "2021-08-01T10:12:29.210414Z",
     "iopub.status.busy": "2021-08-01T10:12:29.209809Z",
     "iopub.status.idle": "2021-08-01T10:12:29.519446Z",
     "shell.execute_reply": "2021-08-01T10:12:29.518861Z"
    },
    "papermill": {
     "duration": 0.372786,
     "end_time": "2021-08-01T10:12:29.519588",
     "exception": false,
     "start_time": "2021-08-01T10:12:29.146802",
     "status": "completed"
    },
    "tags": []
   },
   "outputs": [
    {
     "data": {
      "text/plain": [
       "<matplotlib.legend.Legend at 0x7fd01e517160>"
      ]
     },
     "execution_count": 23,
     "metadata": {},
     "output_type": "execute_result"
    },
    {
     "data": {
      "image/png": "[encoded data removed]",
      "text/plain": [
       "<Figure size 1080x720 with 1 Axes>"
      ]
     },
     "metadata": {
      "needs_background": "light"
     },
     "output_type": "display_data"
    }
   ],
   "source": [
    "plt.figure(figsize=(15,10))\n",
    "\n",
    "# Neural Network plots\n",
    "plt.plot(acc_nn.accuracies, 'r-', label = \"Training Accuracies - NN\")\n",
    "plt.plot(acc_nn.test_accuracies, 'g-', label = \"Testing Accuracies - NN\")\n",
    "\n",
    "# Logistic Regression plots\n",
    "plt.plot(acc_lr.accuracies, 'k-', label = \"Training Accuracies - LR\")\n",
    "plt.plot(acc_lr.test_accuracies, 'b-', label = \"Testing Accuracies - LR\")\n",
    "\n",
    "plt.ylim(0.8, 1)\n",
    "\n",
    "plt.legend()\n",
    "\n"
   ]
  },
  {
   "cell_type": "markdown",
   "id": "sexual-flesh",
   "metadata": {
    "papermill": {
     "duration": 0.050162,
     "end_time": "2021-08-01T10:12:29.623981",
     "exception": false,
     "start_time": "2021-08-01T10:12:29.573819",
     "status": "completed"
    },
    "tags": []
   },
   "source": [
    "### From the plot, we can observe the following:\n",
    "- Neural Network achieves higher accuracy than the Logistic Regression model.\n",
    "- This apparently, is because of overfitting, i.e. NN captures more noise than data.\n",
    "- Testing accuracy of NN drops below the Training accuracy at higher epochs. This explains the over-fitting on training data.\n",
    "- Logistic Regression gives a reliable accuracy, without the above mentioned problem.\n"
   ]
  },
  {
   "cell_type": "markdown",
   "id": "institutional-pacific",
   "metadata": {
    "papermill": {
     "duration": 0.050218,
     "end_time": "2021-08-01T10:12:29.724622",
     "exception": false,
     "start_time": "2021-08-01T10:12:29.674404",
     "status": "completed"
    },
    "tags": []
   },
   "source": [
    "### Moving till the last but one layer (excluding it).\n",
    "#### Plotting the outputs of this layer of the NN."
   ]
  },
  {
   "cell_type": "code",
   "execution_count": 24,
   "id": "economic-server",
   "metadata": {
    "execution": {
     "iopub.execute_input": "2021-08-01T10:12:29.837893Z",
     "iopub.status.busy": "2021-08-01T10:12:29.829513Z",
     "iopub.status.idle": "2021-08-01T10:12:29.841938Z",
     "shell.execute_reply": "2021-08-01T10:12:29.841429Z"
    },
    "papermill": {
     "duration": 0.066916,
     "end_time": "2021-08-01T10:12:29.842062",
     "exception": false,
     "start_time": "2021-08-01T10:12:29.775146",
     "status": "completed"
    },
    "tags": []
   },
   "outputs": [],
   "source": [
    "model_new = Model(layers[:-2])"
   ]
  },
  {
   "cell_type": "code",
   "execution_count": 25,
   "id": "varied-upgrade",
   "metadata": {
    "execution": {
     "iopub.execute_input": "2021-08-01T10:12:29.975833Z",
     "iopub.status.busy": "2021-08-01T10:12:29.975262Z",
     "iopub.status.idle": "2021-08-01T10:12:29.995706Z",
     "shell.execute_reply": "2021-08-01T10:12:29.996438Z"
    },
    "papermill": {
     "duration": 0.104068,
     "end_time": "2021-08-01T10:12:29.996588",
     "exception": false,
     "start_time": "2021-08-01T10:12:29.892520",
     "status": "completed"
    },
    "tags": []
   },
   "outputs": [],
   "source": [
    "plot_testing = model_new(testing_xdata)"
   ]
  },
  {
   "cell_type": "code",
   "execution_count": 26,
   "id": "specific-handling",
   "metadata": {
    "execution": {
     "iopub.execute_input": "2021-08-01T10:12:30.118484Z",
     "iopub.status.busy": "2021-08-01T10:12:30.117880Z",
     "iopub.status.idle": "2021-08-01T10:12:30.325969Z",
     "shell.execute_reply": "2021-08-01T10:12:30.325480Z"
    },
    "papermill": {
     "duration": 0.272508,
     "end_time": "2021-08-01T10:12:30.326100",
     "exception": false,
     "start_time": "2021-08-01T10:12:30.053592",
     "status": "completed"
    },
    "tags": []
   },
   "outputs": [
    {
     "data": {
      "text/plain": [
       "Text(0.5, 1.0, 'Outputs')"
      ]
     },
     "execution_count": 26,
     "metadata": {},
     "output_type": "execute_result"
    },
    {
     "data": {
      "image/png": "[encoded data removed]",
      "text/plain": [
       "<Figure size 576x504 with 1 Axes>"
      ]
     },
     "metadata": {
      "needs_background": "light"
     },
     "output_type": "display_data"
    }
   ],
   "source": [
    "plt.figure(figsize=(8,7))\n",
    "plt.scatter(plot_testing[:,0], plot_testing[:,1], alpha = 0.1, c = y_test.ravel());\n",
    "plt.title('Outputs')"
   ]
  },
  {
   "cell_type": "markdown",
   "id": "described-knowing",
   "metadata": {
    "papermill": {
     "duration": 0.052641,
     "end_time": "2021-08-01T10:12:30.431920",
     "exception": false,
     "start_time": "2021-08-01T10:12:30.379279",
     "status": "completed"
    },
    "tags": []
   },
   "source": [
    "### Plotting probability contours"
   ]
  },
  {
   "cell_type": "code",
   "execution_count": 27,
   "id": "needed-growing",
   "metadata": {
    "execution": {
     "iopub.execute_input": "2021-08-01T10:12:30.540520Z",
     "iopub.status.busy": "2021-08-01T10:12:30.539915Z",
     "iopub.status.idle": "2021-08-01T10:12:30.552765Z",
     "shell.execute_reply": "2021-08-01T10:12:30.552293Z"
    },
    "papermill": {
     "duration": 0.068955,
     "end_time": "2021-08-01T10:12:30.552890",
     "exception": false,
     "start_time": "2021-08-01T10:12:30.483935",
     "status": "completed"
    },
    "tags": []
   },
   "outputs": [],
   "source": [
    "model_prob = Model(layers[-2:]) "
   ]
  },
  {
   "cell_type": "code",
   "execution_count": 28,
   "id": "introductory-enforcement",
   "metadata": {
    "execution": {
     "iopub.execute_input": "2021-08-01T10:12:30.663123Z",
     "iopub.status.busy": "2021-08-01T10:12:30.662540Z",
     "iopub.status.idle": "2021-08-01T10:12:30.677491Z",
     "shell.execute_reply": "2021-08-01T10:12:30.677941Z"
    },
    "papermill": {
     "duration": 0.072491,
     "end_time": "2021-08-01T10:12:30.678092",
     "exception": false,
     "start_time": "2021-08-01T10:12:30.605601",
     "status": "completed"
    },
    "tags": []
   },
   "outputs": [],
   "source": [
    "# Adjust the x and y ranges according to the above generated plot.\n",
    "x_range = np.linspace(-4, 1, 100) \n",
    "y_range = np.linspace(-6, 6, 100) \n",
    "x_grid, y_grid = np.meshgrid(x_range, y_range) # x_grid and y_grig are of size 100 X 100\n",
    "\n",
    "# converting x_grid and y_grid to continuous arrays\n",
    "x_grid_flat = np.ravel(x_grid)\n",
    "y_grid_flat = np.ravel(y_grid)\n",
    "\n",
    "# The last layer of the current model takes two columns as input. Hence transpose of np.vstack() is required.\n",
    "X = np.vstack((x_grid_flat, y_grid_flat)).T\n",
    "\n",
    "# x_grid and y_grid are of size 100 x 100\n",
    "probability_contour = model_prob(X).reshape(100,100) "
   ]
  },
  {
   "cell_type": "code",
   "execution_count": 29,
   "id": "understood-landing",
   "metadata": {
    "execution": {
     "iopub.execute_input": "2021-08-01T10:12:30.802560Z",
     "iopub.status.busy": "2021-08-01T10:12:30.802013Z",
     "iopub.status.idle": "2021-08-01T10:12:31.066276Z",
     "shell.execute_reply": "2021-08-01T10:12:31.066702Z"
    },
    "papermill": {
     "duration": 0.328146,
     "end_time": "2021-08-01T10:12:31.066848",
     "exception": false,
     "start_time": "2021-08-01T10:12:30.738702",
     "status": "completed"
    },
    "tags": []
   },
   "outputs": [
    {
     "data": {
      "image/png": "[encoded data removed]",
      "text/plain": [
       "<Figure size 720x648 with 1 Axes>"
      ]
     },
     "metadata": {
      "needs_background": "light"
     },
     "output_type": "display_data"
    }
   ],
   "source": [
    "plt.figure(figsize=(10,9))\n",
    "plt.scatter(plot_testing[:,0], plot_testing[:,1], alpha = 0.1, c = y_test.ravel())\n",
    "contours = plt.contour(x_grid,y_grid,probability_contour)\n",
    "plt.title('Probability Contours')\n",
    "plt.clabel(contours, inline = True );"
   ]
  }
 ],
 "metadata": {
  "kernelspec": {
   "display_name": "Python 3",
   "language": "python",
   "name": "python3"
  },
  "language_info": {
   "codemirror_mode": {
    "name": "ipython",
    "version": 3
   },
   "file_extension": ".py",
   "mimetype": "text/x-python",
   "name": "python",
   "nbconvert_exporter": "python",
   "pygments_lexer": "ipython3",
   "version": "3.6.14"
  },
  "papermill": {
   "duration": 431.013108,
   "end_time": "2021-08-01T10:12:31.534600",
   "environment_variables": {},
   "exception": null,
   "input_path": "2020-08-11-NeuralNetwork.ipynb",
   "output_path": "2020-08-11-NeuralNetwork.ipynb",
   "parameters": {},
   "start_time": "2021-08-01T10:05:20.521492",
   "version": "2.1.2"
  }
 },
 "nbformat": 4,
 "nbformat_minor": 5
}