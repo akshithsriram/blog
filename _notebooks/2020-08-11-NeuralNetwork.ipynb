{
 "cells": [
  {
   "cell_type": "markdown",
   "id": "fitted-suggestion",
   "metadata": {
    "papermill": {
     "duration": 0.035383,
     "end_time": "2021-06-15T20:14:47.528344",
     "exception": false,
     "start_time": "2021-06-15T20:14:47.492961",
     "status": "completed"
    },
    "tags": []
   },
   "source": [
    "# \"A Basic Neural Network: Differentiate Hand-Written Digits\"\n",
    "\n",
    "- badges: true\n",
    "- author: Akshith Sriram"
   ]
  },
  {
   "cell_type": "markdown",
   "id": "signal-flexibility",
   "metadata": {
    "papermill": {
     "duration": 0.029154,
     "end_time": "2021-06-15T20:14:47.587174",
     "exception": false,
     "start_time": "2021-06-15T20:14:47.558020",
     "status": "completed"
    },
    "tags": []
   },
   "source": [
    "### Key Objectives:\n",
    "- Building a neural network that differentiates two hand-written digits 3 and 8.\n",
    "- Comparing the results of this Neural Network (NN) to that of a Logistic Regression (LR) model.\n",
    "\n",
    "### Requirements:\n",
    "- 'Kudzu' : A neural network library that was designed during our course by [Univ.AI](www.univ.ai). \n",
    "- MNIST Database\n",
    "\n",
    "If MNIST is not installed, use the command `!pip install mnist` given below.\n",
    "It can be run both from the command line and Jupyter Notebook."
   ]
  },
  {
   "cell_type": "code",
   "execution_count": 1,
   "id": "british-texture",
   "metadata": {
    "execution": {
     "iopub.execute_input": "2021-06-15T20:14:47.658598Z",
     "iopub.status.busy": "2021-06-15T20:14:47.657988Z",
     "iopub.status.idle": "2021-06-15T20:14:49.212503Z",
     "shell.execute_reply": "2021-06-15T20:14:49.211856Z"
    },
    "papermill": {
     "duration": 1.595077,
     "end_time": "2021-06-15T20:14:49.212669",
     "exception": false,
     "start_time": "2021-06-15T20:14:47.617592",
     "status": "completed"
    },
    "tags": []
   },
   "outputs": [
    {
     "name": "stdout",
     "output_type": "stream",
     "text": [
      "Collecting mnist\r\n"
     ]
    },
    {
     "name": "stdout",
     "output_type": "stream",
     "text": [
      "  Downloading mnist-0.2.2-py2.py3-none-any.whl (3.5 kB)\r\n",
      "Requirement already satisfied: numpy in /opt/hostedtoolcache/Python/3.6.13/x64/lib/python3.6/site-packages (from mnist) (1.19.5)\r\n"
     ]
    },
    {
     "name": "stdout",
     "output_type": "stream",
     "text": [
      "Installing collected packages: mnist\r\n"
     ]
    },
    {
     "name": "stdout",
     "output_type": "stream",
     "text": [
      "Successfully installed mnist-0.2.2\r\n"
     ]
    }
   ],
   "source": [
    "!pip install mnist "
   ]
  },
  {
   "cell_type": "markdown",
   "id": "stunning-extra",
   "metadata": {
    "papermill": {
     "duration": 0.03017,
     "end_time": "2021-06-15T20:14:49.275298",
     "exception": false,
     "start_time": "2021-06-15T20:14:49.245128",
     "status": "completed"
    },
    "tags": []
   },
   "source": [
    "#### Importing necessary libraries"
   ]
  },
  {
   "cell_type": "code",
   "execution_count": 2,
   "id": "wooden-france",
   "metadata": {
    "execution": {
     "iopub.execute_input": "2021-06-15T20:14:49.345531Z",
     "iopub.status.busy": "2021-06-15T20:14:49.344862Z",
     "iopub.status.idle": "2021-06-15T20:14:49.943462Z",
     "shell.execute_reply": "2021-06-15T20:14:49.942695Z"
    },
    "papermill": {
     "duration": 0.638593,
     "end_time": "2021-06-15T20:14:49.943614",
     "exception": false,
     "start_time": "2021-06-15T20:14:49.305021",
     "status": "completed"
    },
    "tags": []
   },
   "outputs": [],
   "source": [
    "%load_ext autoreload\n",
    "%autoreload 2\n",
    "\n",
    "%matplotlib inline\n",
    "import matplotlib.pyplot as plt\n",
    "\n",
    "import numpy as np\n",
    "import pandas as pd"
   ]
  },
  {
   "cell_type": "markdown",
   "id": "stunning-physics",
   "metadata": {
    "papermill": {
     "duration": 0.029586,
     "end_time": "2021-06-15T20:14:50.002666",
     "exception": false,
     "start_time": "2021-06-15T20:14:49.973080",
     "status": "completed"
    },
    "tags": []
   },
   "source": [
    "### Preparing the Data"
   ]
  },
  {
   "cell_type": "code",
   "execution_count": 3,
   "id": "unauthorized-remainder",
   "metadata": {
    "execution": {
     "iopub.execute_input": "2021-06-15T20:14:50.064958Z",
     "iopub.status.busy": "2021-06-15T20:14:50.064372Z",
     "iopub.status.idle": "2021-06-15T20:14:50.076742Z",
     "shell.execute_reply": "2021-06-15T20:14:50.077240Z"
    },
    "papermill": {
     "duration": 0.045992,
     "end_time": "2021-06-15T20:14:50.077382",
     "exception": false,
     "start_time": "2021-06-15T20:14:50.031390",
     "status": "completed"
    },
    "tags": []
   },
   "outputs": [],
   "source": [
    "import mnist"
   ]
  },
  {
   "cell_type": "code",
   "execution_count": 4,
   "id": "correct-antarctica",
   "metadata": {
    "execution": {
     "iopub.execute_input": "2021-06-15T20:14:50.141689Z",
     "iopub.status.busy": "2021-06-15T20:14:50.141098Z",
     "iopub.status.idle": "2021-06-15T20:19:55.193802Z",
     "shell.execute_reply": "2021-06-15T20:19:55.192830Z"
    },
    "papermill": {
     "duration": 305.086812,
     "end_time": "2021-06-15T20:19:55.193940",
     "exception": false,
     "start_time": "2021-06-15T20:14:50.107128",
     "status": "completed"
    },
    "tags": []
   },
   "outputs": [],
   "source": [
    "train_images = mnist.train_images()\n",
    "train_labels = mnist.train_labels()"
   ]
  },
  {
   "cell_type": "code",
   "execution_count": 5,
   "id": "musical-prospect",
   "metadata": {
    "execution": {
     "iopub.execute_input": "2021-06-15T20:19:55.257585Z",
     "iopub.status.busy": "2021-06-15T20:19:55.257049Z",
     "iopub.status.idle": "2021-06-15T20:19:55.271477Z",
     "shell.execute_reply": "2021-06-15T20:19:55.272008Z"
    },
    "papermill": {
     "duration": 0.04853,
     "end_time": "2021-06-15T20:19:55.272154",
     "exception": false,
     "start_time": "2021-06-15T20:19:55.223624",
     "status": "completed"
    },
    "tags": []
   },
   "outputs": [
    {
     "data": {
      "text/plain": [
       "((60000, 28, 28), (60000,))"
      ]
     },
     "execution_count": 5,
     "metadata": {},
     "output_type": "execute_result"
    }
   ],
   "source": [
    "train_images.shape, train_labels.shape"
   ]
  },
  {
   "cell_type": "code",
   "execution_count": 6,
   "id": "preliminary-elizabeth",
   "metadata": {
    "execution": {
     "iopub.execute_input": "2021-06-15T20:19:55.335096Z",
     "iopub.status.busy": "2021-06-15T20:19:55.334498Z",
     "iopub.status.idle": "2021-06-15T20:20:43.510566Z",
     "shell.execute_reply": "2021-06-15T20:20:43.509486Z"
    },
    "papermill": {
     "duration": 48.2101,
     "end_time": "2021-06-15T20:20:43.510724",
     "exception": false,
     "start_time": "2021-06-15T20:19:55.300624",
     "status": "completed"
    },
    "tags": []
   },
   "outputs": [],
   "source": [
    "test_images = mnist.test_images()\n",
    "test_labels = mnist.test_labels()"
   ]
  },
  {
   "cell_type": "code",
   "execution_count": 7,
   "id": "acknowledged-oxygen",
   "metadata": {
    "execution": {
     "iopub.execute_input": "2021-06-15T20:20:43.575623Z",
     "iopub.status.busy": "2021-06-15T20:20:43.573864Z",
     "iopub.status.idle": "2021-06-15T20:20:43.587252Z",
     "shell.execute_reply": "2021-06-15T20:20:43.587692Z"
    },
    "papermill": {
     "duration": 0.047021,
     "end_time": "2021-06-15T20:20:43.587839",
     "exception": false,
     "start_time": "2021-06-15T20:20:43.540818",
     "status": "completed"
    },
    "tags": []
   },
   "outputs": [
    {
     "data": {
      "text/plain": [
       "((10000, 28, 28), (10000,))"
      ]
     },
     "execution_count": 7,
     "metadata": {},
     "output_type": "execute_result"
    }
   ],
   "source": [
    "test_images.shape, test_labels.shape"
   ]
  },
  {
   "cell_type": "code",
   "execution_count": 8,
   "id": "innovative-organic",
   "metadata": {
    "execution": {
     "iopub.execute_input": "2021-06-15T20:20:43.651402Z",
     "iopub.status.busy": "2021-06-15T20:20:43.650802Z",
     "iopub.status.idle": "2021-06-15T20:20:43.798516Z",
     "shell.execute_reply": "2021-06-15T20:20:43.799004Z"
    },
    "papermill": {
     "duration": 0.181663,
     "end_time": "2021-06-15T20:20:43.799153",
     "exception": false,
     "start_time": "2021-06-15T20:20:43.617490",
     "status": "completed"
    },
    "tags": []
   },
   "outputs": [
    {
     "name": "stdout",
     "output_type": "stream",
     "text": [
      "2\n"
     ]
    },
    {
     "data": {
      "text/plain": [
       "<matplotlib.image.AxesImage at 0x7f1e46654668>"
      ]
     },
     "execution_count": 8,
     "metadata": {},
     "output_type": "execute_result"
    },
    {
     "data": {
      "image/png": "[encoded data removed]",
      "text/plain": [
       "<Figure size 432x288 with 1 Axes>"
      ]
     },
     "metadata": {
      "needs_background": "light"
     },
     "output_type": "display_data"
    }
   ],
   "source": [
    "image_index = 7776 # You may select anything up to 60,000\n",
    "print(train_labels[image_index]) \n",
    "plt.imshow(train_images[image_index], cmap='Greys')"
   ]
  },
  {
   "cell_type": "markdown",
   "id": "facial-modem",
   "metadata": {
    "papermill": {
     "duration": 0.031456,
     "end_time": "2021-06-15T20:20:43.861732",
     "exception": false,
     "start_time": "2021-06-15T20:20:43.830276",
     "status": "completed"
    },
    "tags": []
   },
   "source": [
    "## Filter data to get 3 and 8 out"
   ]
  },
  {
   "cell_type": "code",
   "execution_count": 9,
   "id": "thousand-acquisition",
   "metadata": {
    "execution": {
     "iopub.execute_input": "2021-06-15T20:20:43.928802Z",
     "iopub.status.busy": "2021-06-15T20:20:43.928213Z",
     "iopub.status.idle": "2021-06-15T20:20:43.947539Z",
     "shell.execute_reply": "2021-06-15T20:20:43.947055Z"
    },
    "papermill": {
     "duration": 0.054848,
     "end_time": "2021-06-15T20:20:43.947667",
     "exception": false,
     "start_time": "2021-06-15T20:20:43.892819",
     "status": "completed"
    },
    "tags": []
   },
   "outputs": [],
   "source": [
    "train_filter = np.where((train_labels == 3 ) | (train_labels == 8))\n",
    "test_filter = np.where((test_labels == 3) | (test_labels == 8))\n",
    "X_train, y_train = train_images[train_filter], train_labels[train_filter]\n",
    "X_test, y_test = test_images[test_filter], test_labels[test_filter]"
   ]
  },
  {
   "cell_type": "markdown",
   "id": "ruled-access",
   "metadata": {
    "papermill": {
     "duration": 0.031205,
     "end_time": "2021-06-15T20:20:44.009673",
     "exception": false,
     "start_time": "2021-06-15T20:20:43.978468",
     "status": "completed"
    },
    "tags": []
   },
   "source": [
    "We normalize the pixel values in the 0 to 1 range"
   ]
  },
  {
   "cell_type": "code",
   "execution_count": 10,
   "id": "isolated-denver",
   "metadata": {
    "execution": {
     "iopub.execute_input": "2021-06-15T20:20:44.074970Z",
     "iopub.status.busy": "2021-06-15T20:20:44.074370Z",
     "iopub.status.idle": "2021-06-15T20:20:44.128343Z",
     "shell.execute_reply": "2021-06-15T20:20:44.128934Z"
    },
    "papermill": {
     "duration": 0.088723,
     "end_time": "2021-06-15T20:20:44.129115",
     "exception": false,
     "start_time": "2021-06-15T20:20:44.040392",
     "status": "completed"
    },
    "tags": []
   },
   "outputs": [],
   "source": [
    "X_train = X_train/255.\n",
    "X_test = X_test/255."
   ]
  },
  {
   "cell_type": "markdown",
   "id": "perfect-summary",
   "metadata": {
    "papermill": {
     "duration": 0.030931,
     "end_time": "2021-06-15T20:20:44.192228",
     "exception": false,
     "start_time": "2021-06-15T20:20:44.161297",
     "status": "completed"
    },
    "tags": []
   },
   "source": [
    "Setup the labels as 1 (when the digit is 3) and 0 (when the digit is 8)"
   ]
  },
  {
   "cell_type": "code",
   "execution_count": 11,
   "id": "personalized-growing",
   "metadata": {
    "execution": {
     "iopub.execute_input": "2021-06-15T20:20:44.256423Z",
     "iopub.status.busy": "2021-06-15T20:20:44.255850Z",
     "iopub.status.idle": "2021-06-15T20:20:44.268883Z",
     "shell.execute_reply": "2021-06-15T20:20:44.268411Z"
    },
    "papermill": {
     "duration": 0.046646,
     "end_time": "2021-06-15T20:20:44.269010",
     "exception": false,
     "start_time": "2021-06-15T20:20:44.222364",
     "status": "completed"
    },
    "tags": []
   },
   "outputs": [],
   "source": [
    "y_train = 1*(y_train==3)\n",
    "y_test = 1*(y_test==3)"
   ]
  },
  {
   "cell_type": "code",
   "execution_count": 12,
   "id": "considered-virgin",
   "metadata": {
    "execution": {
     "iopub.execute_input": "2021-06-15T20:20:44.335123Z",
     "iopub.status.busy": "2021-06-15T20:20:44.334529Z",
     "iopub.status.idle": "2021-06-15T20:20:44.348475Z",
     "shell.execute_reply": "2021-06-15T20:20:44.348008Z"
    },
    "papermill": {
     "duration": 0.048845,
     "end_time": "2021-06-15T20:20:44.348601",
     "exception": false,
     "start_time": "2021-06-15T20:20:44.299756",
     "status": "completed"
    },
    "tags": []
   },
   "outputs": [
    {
     "data": {
      "text/plain": [
       "((11982, 28, 28), (1984, 28, 28))"
      ]
     },
     "execution_count": 12,
     "metadata": {},
     "output_type": "execute_result"
    }
   ],
   "source": [
    "X_train.shape, X_test.shape"
   ]
  },
  {
   "cell_type": "markdown",
   "id": "civilian-mobile",
   "metadata": {
    "papermill": {
     "duration": 0.030887,
     "end_time": "2021-06-15T20:20:44.410682",
     "exception": false,
     "start_time": "2021-06-15T20:20:44.379795",
     "status": "completed"
    },
    "tags": []
   },
   "source": [
    "### Reshape the input data to create a linear array"
   ]
  },
  {
   "cell_type": "code",
   "execution_count": 13,
   "id": "colonial-adams",
   "metadata": {
    "execution": {
     "iopub.execute_input": "2021-06-15T20:20:44.480718Z",
     "iopub.status.busy": "2021-06-15T20:20:44.480106Z",
     "iopub.status.idle": "2021-06-15T20:20:44.493301Z",
     "shell.execute_reply": "2021-06-15T20:20:44.492810Z"
    },
    "papermill": {
     "duration": 0.051256,
     "end_time": "2021-06-15T20:20:44.493424",
     "exception": false,
     "start_time": "2021-06-15T20:20:44.442168",
     "status": "completed"
    },
    "tags": []
   },
   "outputs": [
    {
     "data": {
      "text/plain": [
       "((11982, 784), (1984, 784))"
      ]
     },
     "execution_count": 13,
     "metadata": {},
     "output_type": "execute_result"
    }
   ],
   "source": [
    "X_train = X_train.reshape(X_train.shape[0], -1)\n",
    "X_test = X_test.reshape(X_test.shape[0], -1)\n",
    "X_train.shape, X_test.shape"
   ]
  },
  {
   "cell_type": "markdown",
   "id": "smart-details",
   "metadata": {
    "papermill": {
     "duration": 0.03128,
     "end_time": "2021-06-15T20:20:44.556190",
     "exception": false,
     "start_time": "2021-06-15T20:20:44.524910",
     "status": "completed"
    },
    "tags": []
   },
   "source": [
    "### Importing appropriate functions from 'Kudzu'"
   ]
  },
  {
   "cell_type": "code",
   "execution_count": 14,
   "id": "celtic-trial",
   "metadata": {
    "execution": {
     "iopub.execute_input": "2021-06-15T20:20:44.626536Z",
     "iopub.status.busy": "2021-06-15T20:20:44.625950Z",
     "iopub.status.idle": "2021-06-15T20:20:44.645487Z",
     "shell.execute_reply": "2021-06-15T20:20:44.646036Z"
    },
    "papermill": {
     "duration": 0.05865,
     "end_time": "2021-06-15T20:20:44.646203",
     "exception": false,
     "start_time": "2021-06-15T20:20:44.587553",
     "status": "completed"
    },
    "tags": []
   },
   "outputs": [],
   "source": [
    "from kudzu.layer import Sigmoid\n",
    "from kudzu.layer import Relu\n",
    "from kudzu.layer import Affine, Sigmoid\n",
    "\n",
    "from kudzu.model import Model\n",
    "from kudzu.train import Learner\n",
    "from kudzu.optim import GD\n",
    "from kudzu.data import Data, Dataloader, Sampler\n",
    "\n",
    "from kudzu.callbacks import AccCallback\n",
    "from kudzu.callbacks import ClfCallback\n",
    "\n",
    "from kudzu.loss import MSE"
   ]
  },
  {
   "cell_type": "markdown",
   "id": "coupled-customer",
   "metadata": {
    "papermill": {
     "duration": 0.031316,
     "end_time": "2021-06-15T20:20:44.709953",
     "exception": false,
     "start_time": "2021-06-15T20:20:44.678637",
     "status": "completed"
    },
    "tags": []
   },
   "source": [
    "### Let us create a `Config` class, to store important parameters. \n",
    "This class essentially plays the role of a dictionary."
   ]
  },
  {
   "cell_type": "code",
   "execution_count": 15,
   "id": "young-ceiling",
   "metadata": {
    "execution": {
     "iopub.execute_input": "2021-06-15T20:20:44.777969Z",
     "iopub.status.busy": "2021-06-15T20:20:44.777399Z",
     "iopub.status.idle": "2021-06-15T20:20:44.790210Z",
     "shell.execute_reply": "2021-06-15T20:20:44.790699Z"
    },
    "papermill": {
     "duration": 0.049401,
     "end_time": "2021-06-15T20:20:44.790872",
     "exception": false,
     "start_time": "2021-06-15T20:20:44.741471",
     "status": "completed"
    },
    "tags": []
   },
   "outputs": [],
   "source": [
    "class Config:\n",
    "    pass\n",
    "config = Config()\n",
    "config.lr = 0.001\n",
    "config.num_epochs = 251\n",
    "config.bs = 50"
   ]
  },
  {
   "cell_type": "markdown",
   "id": "according-mandate",
   "metadata": {
    "papermill": {
     "duration": 0.03141,
     "end_time": "2021-06-15T20:20:44.853375",
     "exception": false,
     "start_time": "2021-06-15T20:20:44.821965",
     "status": "completed"
    },
    "tags": []
   },
   "source": [
    "### Initializing data to the variables"
   ]
  },
  {
   "cell_type": "code",
   "execution_count": 16,
   "id": "academic-disposition",
   "metadata": {
    "execution": {
     "iopub.execute_input": "2021-06-15T20:20:44.921459Z",
     "iopub.status.busy": "2021-06-15T20:20:44.920414Z",
     "iopub.status.idle": "2021-06-15T20:20:44.935634Z",
     "shell.execute_reply": "2021-06-15T20:20:44.934621Z"
    },
    "papermill": {
     "duration": 0.050769,
     "end_time": "2021-06-15T20:20:44.935760",
     "exception": false,
     "start_time": "2021-06-15T20:20:44.884991",
     "status": "completed"
    },
    "tags": []
   },
   "outputs": [],
   "source": [
    "data = Data(X_train, y_train.reshape(-1,1))\n",
    "sampler = Sampler(data, config.bs, shuffle=True)\n",
    "\n",
    "dl = Dataloader(data, sampler)\n",
    "\n",
    "opt = GD(config.lr)\n",
    "loss = MSE()"
   ]
  },
  {
   "cell_type": "code",
   "execution_count": 17,
   "id": "featured-commission",
   "metadata": {
    "execution": {
     "iopub.execute_input": "2021-06-15T20:20:45.007910Z",
     "iopub.status.busy": "2021-06-15T20:20:45.001696Z",
     "iopub.status.idle": "2021-06-15T20:20:45.014152Z",
     "shell.execute_reply": "2021-06-15T20:20:45.013719Z"
    },
    "papermill": {
     "duration": 0.047559,
     "end_time": "2021-06-15T20:20:45.014307",
     "exception": false,
     "start_time": "2021-06-15T20:20:44.966748",
     "status": "completed"
    },
    "tags": []
   },
   "outputs": [],
   "source": [
    "training_xdata = X_train\n",
    "testing_xdata = X_test\n",
    "training_ydata = y_train.reshape(-1,1)\n",
    "testing_ydata = y_test.reshape(-1,1)"
   ]
  },
  {
   "cell_type": "markdown",
   "id": "played-safety",
   "metadata": {
    "papermill": {
     "duration": 0.032151,
     "end_time": "2021-06-15T20:20:45.078243",
     "exception": false,
     "start_time": "2021-06-15T20:20:45.046092",
     "status": "completed"
    },
    "tags": []
   },
   "source": [
    "### Running Models with the Training data\n",
    "Details about the network layers:\n",
    "- A first affine layer has 784 inputs and does 100 affine transforms. These are followed by a Relu\n",
    "- A second affine layer has 100 inputs from the 100 activations of the past layer, and does 100 affine transforms. These are followed by a Relu\n",
    "- A third affine layer has 100 activations and does 2 affine transformations to create an embedding for visualization. There is no non-linearity here.\n",
    "- A final \"logistic regression\" which has an affine transform from 2 inputs to 1 output, which is squeezed through a sigmoid.\n",
    "\n",
    "Help taken from Anshuman's Notebook."
   ]
  },
  {
   "cell_type": "code",
   "execution_count": 18,
   "id": "asian-bankruptcy",
   "metadata": {
    "execution": {
     "iopub.execute_input": "2021-06-15T20:20:45.145863Z",
     "iopub.status.busy": "2021-06-15T20:20:45.145252Z",
     "iopub.status.idle": "2021-06-15T20:20:45.162242Z",
     "shell.execute_reply": "2021-06-15T20:20:45.161733Z"
    },
    "papermill": {
     "duration": 0.052762,
     "end_time": "2021-06-15T20:20:45.162374",
     "exception": false,
     "start_time": "2021-06-15T20:20:45.109612",
     "status": "completed"
    },
    "tags": []
   },
   "outputs": [],
   "source": [
    "# layers for the Neural Network\n",
    "layers = [Affine(\"first\", 784, 100), Relu(\"first\"), Affine(\"second\", 100, 100), Relu(\"second\"), Affine(\"third\", 100, 2), Affine(\"final\", 2, 1), Sigmoid(\"final\")]\n",
    "model_nn = Model(layers)\n",
    "\n",
    "# layers for the Logistic Regression\n",
    "layers_lr = [Affine(\"logits\", 784, 1), Sigmoid(\"sigmoid\")]\n",
    "model_lr = Model(layers_lr)"
   ]
  },
  {
   "cell_type": "code",
   "execution_count": 19,
   "id": "removed-butler",
   "metadata": {
    "execution": {
     "iopub.execute_input": "2021-06-15T20:20:45.231007Z",
     "iopub.status.busy": "2021-06-15T20:20:45.230401Z",
     "iopub.status.idle": "2021-06-15T20:20:45.243313Z",
     "shell.execute_reply": "2021-06-15T20:20:45.242779Z"
    },
    "papermill": {
     "duration": 0.048796,
     "end_time": "2021-06-15T20:20:45.243439",
     "exception": false,
     "start_time": "2021-06-15T20:20:45.194643",
     "status": "completed"
    },
    "tags": []
   },
   "outputs": [],
   "source": [
    "# suffix _nn stands for Neural Network.\n",
    "learner_nn = Learner(loss, model_nn, opt, config.num_epochs)\n",
    "acc_nn = ClfCallback(learner_nn, config.bs, training_xdata , testing_xdata, training_ydata, testing_ydata)\n",
    "learner_nn.set_callbacks([acc_nn])"
   ]
  },
  {
   "cell_type": "code",
   "execution_count": 20,
   "id": "conceptual-throw",
   "metadata": {
    "execution": {
     "iopub.execute_input": "2021-06-15T20:20:45.313041Z",
     "iopub.status.busy": "2021-06-15T20:20:45.312468Z",
     "iopub.status.idle": "2021-06-15T20:22:11.041591Z",
     "shell.execute_reply": "2021-06-15T20:22:11.042358Z"
    },
    "papermill": {
     "duration": 85.767936,
     "end_time": "2021-06-15T20:22:11.042511",
     "exception": false,
     "start_time": "2021-06-15T20:20:45.274575",
     "status": "completed"
    },
    "tags": []
   },
   "outputs": [
    {
     "name": "stdout",
     "output_type": "stream",
     "text": [
      "====== Neural Network ======\n"
     ]
    },
    {
     "name": "stdout",
     "output_type": "stream",
     "text": [
      "Epoch 0, Loss 0.2553\n",
      "Training Accuracy: 0.4273, Testing Accuracy: 0.4264\n",
      "\n"
     ]
    },
    {
     "name": "stdout",
     "output_type": "stream",
     "text": [
      "Epoch 10, Loss 0.2355\n",
      "Training Accuracy: 0.8247, Testing Accuracy: 0.8352\n",
      "\n"
     ]
    },
    {
     "name": "stdout",
     "output_type": "stream",
     "text": [
      "Epoch 20, Loss 0.1761\n",
      "Training Accuracy: 0.8845, Testing Accuracy: 0.8891\n",
      "\n"
     ]
    },
    {
     "name": "stdout",
     "output_type": "stream",
     "text": [
      "Epoch 30, Loss 0.0903\n",
      "Training Accuracy: 0.9157, Testing Accuracy: 0.9224\n",
      "\n"
     ]
    },
    {
     "name": "stdout",
     "output_type": "stream",
     "text": [
      "Epoch 40, Loss 0.0596\n",
      "Training Accuracy: 0.9365, Testing Accuracy: 0.9461\n",
      "\n"
     ]
    },
    {
     "name": "stdout",
     "output_type": "stream",
     "text": [
      "Epoch 50, Loss 0.0471\n",
      "Training Accuracy: 0.9468, Testing Accuracy: 0.9516\n",
      "\n"
     ]
    },
    {
     "name": "stdout",
     "output_type": "stream",
     "text": [
      "Epoch 60, Loss 0.0406\n",
      "Training Accuracy: 0.9542, Testing Accuracy: 0.9556\n",
      "\n"
     ]
    },
    {
     "name": "stdout",
     "output_type": "stream",
     "text": [
      "Epoch 70, Loss 0.0367\n",
      "Training Accuracy: 0.9577, Testing Accuracy: 0.9597\n",
      "\n"
     ]
    },
    {
     "name": "stdout",
     "output_type": "stream",
     "text": [
      "Epoch 80, Loss 0.034\n",
      "Training Accuracy: 0.9608, Testing Accuracy: 0.9627\n",
      "\n"
     ]
    },
    {
     "name": "stdout",
     "output_type": "stream",
     "text": [
      "Epoch 90, Loss 0.032\n",
      "Training Accuracy: 0.9635, Testing Accuracy: 0.9642\n",
      "\n"
     ]
    },
    {
     "name": "stdout",
     "output_type": "stream",
     "text": [
      "Epoch 100, Loss 0.0304\n",
      "Training Accuracy: 0.9649, Testing Accuracy: 0.9672\n",
      "\n"
     ]
    },
    {
     "name": "stdout",
     "output_type": "stream",
     "text": [
      "Epoch 110, Loss 0.029\n",
      "Training Accuracy: 0.9662, Testing Accuracy: 0.9682\n",
      "\n"
     ]
    },
    {
     "name": "stdout",
     "output_type": "stream",
     "text": [
      "Epoch 120, Loss 0.0279\n",
      "Training Accuracy: 0.9668, Testing Accuracy: 0.9693\n",
      "\n"
     ]
    },
    {
     "name": "stdout",
     "output_type": "stream",
     "text": [
      "Epoch 130, Loss 0.027\n",
      "Training Accuracy: 0.9680, Testing Accuracy: 0.9703\n",
      "\n"
     ]
    },
    {
     "name": "stdout",
     "output_type": "stream",
     "text": [
      "Epoch 140, Loss 0.0261\n",
      "Training Accuracy: 0.9690, Testing Accuracy: 0.9708\n",
      "\n"
     ]
    },
    {
     "name": "stdout",
     "output_type": "stream",
     "text": [
      "Epoch 150, Loss 0.0254\n",
      "Training Accuracy: 0.9700, Testing Accuracy: 0.9708\n",
      "\n"
     ]
    },
    {
     "name": "stdout",
     "output_type": "stream",
     "text": [
      "Epoch 160, Loss 0.0247\n",
      "Training Accuracy: 0.9709, Testing Accuracy: 0.9708\n",
      "\n"
     ]
    },
    {
     "name": "stdout",
     "output_type": "stream",
     "text": [
      "Epoch 170, Loss 0.0241\n",
      "Training Accuracy: 0.9711, Testing Accuracy: 0.9703\n",
      "\n"
     ]
    },
    {
     "name": "stdout",
     "output_type": "stream",
     "text": [
      "Epoch 180, Loss 0.0235\n",
      "Training Accuracy: 0.9719, Testing Accuracy: 0.9693\n",
      "\n"
     ]
    },
    {
     "name": "stdout",
     "output_type": "stream",
     "text": [
      "Epoch 190, Loss 0.023\n",
      "Training Accuracy: 0.9729, Testing Accuracy: 0.9703\n",
      "\n"
     ]
    },
    {
     "name": "stdout",
     "output_type": "stream",
     "text": [
      "Epoch 200, Loss 0.0225\n",
      "Training Accuracy: 0.9738, Testing Accuracy: 0.9713\n",
      "\n"
     ]
    },
    {
     "name": "stdout",
     "output_type": "stream",
     "text": [
      "Epoch 210, Loss 0.0221\n",
      "Training Accuracy: 0.9746, Testing Accuracy: 0.9718\n",
      "\n"
     ]
    },
    {
     "name": "stdout",
     "output_type": "stream",
     "text": [
      "Epoch 220, Loss 0.0216\n",
      "Training Accuracy: 0.9752, Testing Accuracy: 0.9723\n",
      "\n"
     ]
    },
    {
     "name": "stdout",
     "output_type": "stream",
     "text": [
      "Epoch 230, Loss 0.0212\n",
      "Training Accuracy: 0.9758, Testing Accuracy: 0.9733\n",
      "\n"
     ]
    },
    {
     "name": "stdout",
     "output_type": "stream",
     "text": [
      "Epoch 240, Loss 0.0208\n",
      "Training Accuracy: 0.9762, Testing Accuracy: 0.9733\n",
      "\n"
     ]
    },
    {
     "name": "stdout",
     "output_type": "stream",
     "text": [
      "Epoch 250, Loss 0.0205\n",
      "Training Accuracy: 0.9769, Testing Accuracy: 0.9728\n",
      "\n"
     ]
    },
    {
     "data": {
      "text/plain": [
       "0.003818205745374662"
      ]
     },
     "execution_count": 20,
     "metadata": {},
     "output_type": "execute_result"
    }
   ],
   "source": [
    "print(\"====== Neural Network ======\")\n",
    "learner_nn.train_loop(dl)"
   ]
  },
  {
   "cell_type": "markdown",
   "id": "competent-suffering",
   "metadata": {
    "papermill": {
     "duration": 0.040315,
     "end_time": "2021-06-15T20:22:11.123079",
     "exception": false,
     "start_time": "2021-06-15T20:22:11.082764",
     "status": "completed"
    },
    "tags": []
   },
   "source": [
    "### Logistic Regression based Implementation."
   ]
  },
  {
   "cell_type": "code",
   "execution_count": 21,
   "id": "qualified-psychiatry",
   "metadata": {
    "execution": {
     "iopub.execute_input": "2021-06-15T20:22:11.217246Z",
     "iopub.status.busy": "2021-06-15T20:22:11.215910Z",
     "iopub.status.idle": "2021-06-15T20:22:11.217939Z",
     "shell.execute_reply": "2021-06-15T20:22:11.218394Z"
    },
    "papermill": {
     "duration": 0.056016,
     "end_time": "2021-06-15T20:22:11.218535",
     "exception": false,
     "start_time": "2021-06-15T20:22:11.162519",
     "status": "completed"
    },
    "tags": []
   },
   "outputs": [],
   "source": [
    "learner_lr = Learner(loss, model_lr, opt, config.num_epochs)\n",
    "acc_lr = ClfCallback(learner_lr, config.bs, training_xdata , testing_xdata, training_ydata, testing_ydata)\n",
    "learner_lr.set_callbacks([acc_lr])"
   ]
  },
  {
   "cell_type": "code",
   "execution_count": 22,
   "id": "average-outside",
   "metadata": {
    "execution": {
     "iopub.execute_input": "2021-06-15T20:22:11.306527Z",
     "iopub.status.busy": "2021-06-15T20:22:11.304914Z",
     "iopub.status.idle": "2021-06-15T20:22:26.744872Z",
     "shell.execute_reply": "2021-06-15T20:22:26.745330Z"
    },
    "papermill": {
     "duration": 15.486991,
     "end_time": "2021-06-15T20:22:26.745478",
     "exception": false,
     "start_time": "2021-06-15T20:22:11.258487",
     "status": "completed"
    },
    "tags": []
   },
   "outputs": [
    {
     "name": "stdout",
     "output_type": "stream",
     "text": [
      "====== Logistic Regression ======\n",
      "Epoch 0, Loss 0.2719\n",
      "Training Accuracy: 0.5846, Testing Accuracy: 0.6245\n",
      "\n"
     ]
    },
    {
     "name": "stdout",
     "output_type": "stream",
     "text": [
      "Epoch 10, Loss 0.1069\n",
      "Training Accuracy: 0.9031, Testing Accuracy: 0.9158\n",
      "\n"
     ]
    },
    {
     "name": "stdout",
     "output_type": "stream",
     "text": [
      "Epoch 20, Loss 0.0816\n",
      "Training Accuracy: 0.9225, Testing Accuracy: 0.9340\n",
      "\n"
     ]
    },
    {
     "name": "stdout",
     "output_type": "stream",
     "text": [
      "Epoch 30, Loss 0.07\n",
      "Training Accuracy: 0.9316, Testing Accuracy: 0.9446\n",
      "\n"
     ]
    },
    {
     "name": "stdout",
     "output_type": "stream",
     "text": [
      "Epoch 40, Loss 0.063\n",
      "Training Accuracy: 0.9384, Testing Accuracy: 0.9501\n",
      "\n"
     ]
    },
    {
     "name": "stdout",
     "output_type": "stream",
     "text": [
      "Epoch 50, Loss 0.0582\n",
      "Training Accuracy: 0.9424, Testing Accuracy: 0.9546\n",
      "\n"
     ]
    },
    {
     "name": "stdout",
     "output_type": "stream",
     "text": [
      "Epoch 60, Loss 0.0547\n",
      "Training Accuracy: 0.9454, Testing Accuracy: 0.9556\n",
      "\n"
     ]
    },
    {
     "name": "stdout",
     "output_type": "stream",
     "text": [
      "Epoch 70, Loss 0.0521\n",
      "Training Accuracy: 0.9482, Testing Accuracy: 0.9587\n",
      "\n"
     ]
    },
    {
     "name": "stdout",
     "output_type": "stream",
     "text": [
      "Epoch 80, Loss 0.0499\n",
      "Training Accuracy: 0.9498, Testing Accuracy: 0.9597\n",
      "\n"
     ]
    },
    {
     "name": "stdout",
     "output_type": "stream",
     "text": [
      "Epoch 90, Loss 0.0481\n",
      "Training Accuracy: 0.9514, Testing Accuracy: 0.9617\n",
      "\n"
     ]
    },
    {
     "name": "stdout",
     "output_type": "stream",
     "text": [
      "Epoch 100, Loss 0.0466\n",
      "Training Accuracy: 0.9522, Testing Accuracy: 0.9622\n",
      "\n"
     ]
    },
    {
     "name": "stdout",
     "output_type": "stream",
     "text": [
      "Epoch 110, Loss 0.0454\n",
      "Training Accuracy: 0.9531, Testing Accuracy: 0.9622\n",
      "\n"
     ]
    },
    {
     "name": "stdout",
     "output_type": "stream",
     "text": [
      "Epoch 120, Loss 0.0442\n",
      "Training Accuracy: 0.9538, Testing Accuracy: 0.9632\n",
      "\n"
     ]
    },
    {
     "name": "stdout",
     "output_type": "stream",
     "text": [
      "Epoch 130, Loss 0.0433\n",
      "Training Accuracy: 0.9544, Testing Accuracy: 0.9642\n",
      "\n"
     ]
    },
    {
     "name": "stdout",
     "output_type": "stream",
     "text": [
      "Epoch 140, Loss 0.0424\n",
      "Training Accuracy: 0.9555, Testing Accuracy: 0.9642\n",
      "\n"
     ]
    },
    {
     "name": "stdout",
     "output_type": "stream",
     "text": [
      "Epoch 150, Loss 0.0416\n",
      "Training Accuracy: 0.9565, Testing Accuracy: 0.9642\n",
      "\n"
     ]
    },
    {
     "name": "stdout",
     "output_type": "stream",
     "text": [
      "Epoch 160, Loss 0.0409\n",
      "Training Accuracy: 0.9568, Testing Accuracy: 0.9652\n",
      "\n"
     ]
    },
    {
     "name": "stdout",
     "output_type": "stream",
     "text": [
      "Epoch 170, Loss 0.0403\n",
      "Training Accuracy: 0.9573, Testing Accuracy: 0.9647\n",
      "\n"
     ]
    },
    {
     "name": "stdout",
     "output_type": "stream",
     "text": [
      "Epoch 180, Loss 0.0397\n",
      "Training Accuracy: 0.9578, Testing Accuracy: 0.9652\n",
      "\n"
     ]
    },
    {
     "name": "stdout",
     "output_type": "stream",
     "text": [
      "Epoch 190, Loss 0.0392\n",
      "Training Accuracy: 0.9584, Testing Accuracy: 0.9652\n",
      "\n"
     ]
    },
    {
     "name": "stdout",
     "output_type": "stream",
     "text": [
      "Epoch 200, Loss 0.0387\n",
      "Training Accuracy: 0.9588, Testing Accuracy: 0.9652\n",
      "\n"
     ]
    },
    {
     "name": "stdout",
     "output_type": "stream",
     "text": [
      "Epoch 210, Loss 0.0382\n",
      "Training Accuracy: 0.9591, Testing Accuracy: 0.9657\n",
      "\n"
     ]
    },
    {
     "name": "stdout",
     "output_type": "stream",
     "text": [
      "Epoch 220, Loss 0.0378\n",
      "Training Accuracy: 0.9591, Testing Accuracy: 0.9657\n",
      "\n"
     ]
    },
    {
     "name": "stdout",
     "output_type": "stream",
     "text": [
      "Epoch 230, Loss 0.0374\n",
      "Training Accuracy: 0.9595, Testing Accuracy: 0.9657\n",
      "\n"
     ]
    },
    {
     "name": "stdout",
     "output_type": "stream",
     "text": [
      "Epoch 240, Loss 0.037\n",
      "Training Accuracy: 0.9596, Testing Accuracy: 0.9662\n",
      "\n"
     ]
    },
    {
     "name": "stdout",
     "output_type": "stream",
     "text": [
      "Epoch 250, Loss 0.0367\n",
      "Training Accuracy: 0.9599, Testing Accuracy: 0.9667\n",
      "\n"
     ]
    },
    {
     "data": {
      "text/plain": [
       "0.011966325932649938"
      ]
     },
     "execution_count": 22,
     "metadata": {},
     "output_type": "execute_result"
    }
   ],
   "source": [
    "print(\"====== Logistic Regression ======\")\n",
    "learner_lr.train_loop(dl)"
   ]
  },
  {
   "cell_type": "markdown",
   "id": "adjusted-possible",
   "metadata": {
    "papermill": {
     "duration": 0.046921,
     "end_time": "2021-06-15T20:22:26.840350",
     "exception": false,
     "start_time": "2021-06-15T20:22:26.793429",
     "status": "completed"
    },
    "tags": []
   },
   "source": [
    "### Comparing results of NN and LR"
   ]
  },
  {
   "cell_type": "code",
   "execution_count": 23,
   "id": "mental-multimedia",
   "metadata": {
    "execution": {
     "iopub.execute_input": "2021-06-15T20:22:26.948036Z",
     "iopub.status.busy": "2021-06-15T20:22:26.947438Z",
     "iopub.status.idle": "2021-06-15T20:22:27.182829Z",
     "shell.execute_reply": "2021-06-15T20:22:27.182330Z"
    },
    "papermill": {
     "duration": 0.295012,
     "end_time": "2021-06-15T20:22:27.182971",
     "exception": false,
     "start_time": "2021-06-15T20:22:26.887959",
     "status": "completed"
    },
    "tags": []
   },
   "outputs": [
    {
     "data": {
      "text/plain": [
       "<matplotlib.legend.Legend at 0x7f1e3e1b6128>"
      ]
     },
     "execution_count": 23,
     "metadata": {},
     "output_type": "execute_result"
    },
    {
     "data": {
      "image/png": "[encoded data removed]",
      "text/plain": [
       "<Figure size 1080x720 with 1 Axes>"
      ]
     },
     "metadata": {
      "needs_background": "light"
     },
     "output_type": "display_data"
    }
   ],
   "source": [
    "plt.figure(figsize=(15,10))\n",
    "\n",
    "# Neural Network plots\n",
    "plt.plot(acc_nn.accuracies, 'r-', label = \"Training Accuracies - NN\")\n",
    "plt.plot(acc_nn.test_accuracies, 'g-', label = \"Testing Accuracies - NN\")\n",
    "\n",
    "# Logistic Regression plots\n",
    "plt.plot(acc_lr.accuracies, 'k-', label = \"Training Accuracies - LR\")\n",
    "plt.plot(acc_lr.test_accuracies, 'b-', label = \"Testing Accuracies - LR\")\n",
    "\n",
    "plt.ylim(0.8, 1)\n",
    "\n",
    "plt.legend()\n",
    "\n"
   ]
  },
  {
   "cell_type": "markdown",
   "id": "sexual-flesh",
   "metadata": {
    "papermill": {
     "duration": 0.049265,
     "end_time": "2021-06-15T20:22:27.280893",
     "exception": false,
     "start_time": "2021-06-15T20:22:27.231628",
     "status": "completed"
    },
    "tags": []
   },
   "source": [
    "### From the plot, we can observe the following:\n",
    "- Neural Network achieves higher accuracy than the Logistic Regression model.\n",
    "- This apparently, is because of overfitting, i.e. NN captures more noise than data.\n",
    "- Testing accuracy of NN drops below the Training accuracy at higher epochs. This explains the over-fitting on training data.\n",
    "- Logistic Regression gives a reliable accuracy, without the above mentioned problem.\n"
   ]
  },
  {
   "cell_type": "markdown",
   "id": "institutional-pacific",
   "metadata": {
    "papermill": {
     "duration": 0.048466,
     "end_time": "2021-06-15T20:22:27.378461",
     "exception": false,
     "start_time": "2021-06-15T20:22:27.329995",
     "status": "completed"
    },
    "tags": []
   },
   "source": [
    "### Moving till the last but one layer (excluding it).\n",
    "#### Plotting the outputs of this layer of the NN."
   ]
  },
  {
   "cell_type": "code",
   "execution_count": 24,
   "id": "economic-server",
   "metadata": {
    "execution": {
     "iopub.execute_input": "2021-06-15T20:22:27.483723Z",
     "iopub.status.busy": "2021-06-15T20:22:27.482336Z",
     "iopub.status.idle": "2021-06-15T20:22:27.493032Z",
     "shell.execute_reply": "2021-06-15T20:22:27.492597Z"
    },
    "papermill": {
     "duration": 0.065709,
     "end_time": "2021-06-15T20:22:27.493147",
     "exception": false,
     "start_time": "2021-06-15T20:22:27.427438",
     "status": "completed"
    },
    "tags": []
   },
   "outputs": [],
   "source": [
    "model_new = Model(layers[:-2])"
   ]
  },
  {
   "cell_type": "code",
   "execution_count": 25,
   "id": "varied-upgrade",
   "metadata": {
    "execution": {
     "iopub.execute_input": "2021-06-15T20:22:27.598331Z",
     "iopub.status.busy": "2021-06-15T20:22:27.595746Z",
     "iopub.status.idle": "2021-06-15T20:22:27.616618Z",
     "shell.execute_reply": "2021-06-15T20:22:27.617313Z"
    },
    "papermill": {
     "duration": 0.076357,
     "end_time": "2021-06-15T20:22:27.617459",
     "exception": false,
     "start_time": "2021-06-15T20:22:27.541102",
     "status": "completed"
    },
    "tags": []
   },
   "outputs": [],
   "source": [
    "plot_testing = model_new(testing_xdata)"
   ]
  },
  {
   "cell_type": "code",
   "execution_count": 26,
   "id": "specific-handling",
   "metadata": {
    "execution": {
     "iopub.execute_input": "2021-06-15T20:22:27.754885Z",
     "iopub.status.busy": "2021-06-15T20:22:27.754290Z",
     "iopub.status.idle": "2021-06-15T20:22:27.969660Z",
     "shell.execute_reply": "2021-06-15T20:22:27.969183Z"
    },
    "papermill": {
     "duration": 0.268514,
     "end_time": "2021-06-15T20:22:27.969787",
     "exception": false,
     "start_time": "2021-06-15T20:22:27.701273",
     "status": "completed"
    },
    "tags": []
   },
   "outputs": [
    {
     "data": {
      "text/plain": [
       "Text(0.5, 1.0, 'Outputs')"
      ]
     },
     "execution_count": 26,
     "metadata": {},
     "output_type": "execute_result"
    },
    {
     "data": {
      "image/png": "[encoded data removed]",
      "text/plain": [
       "<Figure size 576x504 with 1 Axes>"
      ]
     },
     "metadata": {
      "needs_background": "light"
     },
     "output_type": "display_data"
    }
   ],
   "source": [
    "plt.figure(figsize=(8,7))\n",
    "plt.scatter(plot_testing[:,0], plot_testing[:,1], alpha = 0.1, c = y_test.ravel());\n",
    "plt.title('Outputs')"
   ]
  },
  {
   "cell_type": "markdown",
   "id": "described-knowing",
   "metadata": {
    "papermill": {
     "duration": 0.051653,
     "end_time": "2021-06-15T20:22:28.073226",
     "exception": false,
     "start_time": "2021-06-15T20:22:28.021573",
     "status": "completed"
    },
    "tags": []
   },
   "source": [
    "### Plotting probability contours"
   ]
  },
  {
   "cell_type": "code",
   "execution_count": 27,
   "id": "needed-growing",
   "metadata": {
    "execution": {
     "iopub.execute_input": "2021-06-15T20:22:28.182176Z",
     "iopub.status.busy": "2021-06-15T20:22:28.181604Z",
     "iopub.status.idle": "2021-06-15T20:22:28.192952Z",
     "shell.execute_reply": "2021-06-15T20:22:28.193435Z"
    },
    "papermill": {
     "duration": 0.068559,
     "end_time": "2021-06-15T20:22:28.193584",
     "exception": false,
     "start_time": "2021-06-15T20:22:28.125025",
     "status": "completed"
    },
    "tags": []
   },
   "outputs": [],
   "source": [
    "model_prob = Model(layers[-2:]) "
   ]
  },
  {
   "cell_type": "code",
   "execution_count": 28,
   "id": "introductory-enforcement",
   "metadata": {
    "execution": {
     "iopub.execute_input": "2021-06-15T20:22:28.303589Z",
     "iopub.status.busy": "2021-06-15T20:22:28.301924Z",
     "iopub.status.idle": "2021-06-15T20:22:28.317583Z",
     "shell.execute_reply": "2021-06-15T20:22:28.317117Z"
    },
    "papermill": {
     "duration": 0.072338,
     "end_time": "2021-06-15T20:22:28.317704",
     "exception": false,
     "start_time": "2021-06-15T20:22:28.245366",
     "status": "completed"
    },
    "tags": []
   },
   "outputs": [],
   "source": [
    "# Adjust the x and y ranges according to the above generated plot.\n",
    "x_range = np.linspace(-4, 1, 100) \n",
    "y_range = np.linspace(-6, 6, 100) \n",
    "x_grid, y_grid = np.meshgrid(x_range, y_range) # x_grid and y_grig are of size 100 X 100\n",
    "\n",
    "# converting x_grid and y_grid to continuous arrays\n",
    "x_grid_flat = np.ravel(x_grid)\n",
    "y_grid_flat = np.ravel(y_grid)\n",
    "\n",
    "# The last layer of the current model takes two columns as input. Hence transpose of np.vstack() is required.\n",
    "X = np.vstack((x_grid_flat, y_grid_flat)).T\n",
    "\n",
    "# x_grid and y_grid are of size 100 x 100\n",
    "probability_contour = model_prob(X).reshape(100,100) "
   ]
  },
  {
   "cell_type": "code",
   "execution_count": 29,
   "id": "understood-landing",
   "metadata": {
    "execution": {
     "iopub.execute_input": "2021-06-15T20:22:28.440338Z",
     "iopub.status.busy": "2021-06-15T20:22:28.439763Z",
     "iopub.status.idle": "2021-06-15T20:22:28.701044Z",
     "shell.execute_reply": "2021-06-15T20:22:28.701523Z"
    },
    "papermill": {
     "duration": 0.325345,
     "end_time": "2021-06-15T20:22:28.701668",
     "exception": false,
     "start_time": "2021-06-15T20:22:28.376323",
     "status": "completed"
    },
    "tags": []
   },
   "outputs": [
    {
     "data": {
      "image/png": "[encoded data removed]",
      "text/plain": [
       "<Figure size 720x648 with 1 Axes>"
      ]
     },
     "metadata": {
      "needs_background": "light"
     },
     "output_type": "display_data"
    }
   ],
   "source": [
    "plt.figure(figsize=(10,9))\n",
    "plt.scatter(plot_testing[:,0], plot_testing[:,1], alpha = 0.1, c = y_test.ravel())\n",
    "contours = plt.contour(x_grid,y_grid,probability_contour)\n",
    "plt.title('Probability Contours')\n",
    "plt.clabel(contours, inline = True );"
   ]
  }
 ],
 "metadata": {
  "kernelspec": {
   "display_name": "Python 3",
   "language": "python",
   "name": "python3"
  },
  "language_info": {
   "codemirror_mode": {
    "name": "ipython",
    "version": 3
   },
   "file_extension": ".py",
   "mimetype": "text/x-python",
   "name": "python",
   "nbconvert_exporter": "python",
   "pygments_lexer": "ipython3",
   "version": "3.6.13"
  },
  "papermill": {
   "duration": 462.760401,
   "end_time": "2021-06-15T20:22:29.163331",
   "environment_variables": {},
   "exception": null,
   "input_path": "2020-08-11-NeuralNetwork.ipynb",
   "output_path": "2020-08-11-NeuralNetwork.ipynb",
   "parameters": {},
   "start_time": "2021-06-15T20:14:46.402930",
   "version": "2.1.2"
  }
 },
 "nbformat": 4,
 "nbformat_minor": 5
}