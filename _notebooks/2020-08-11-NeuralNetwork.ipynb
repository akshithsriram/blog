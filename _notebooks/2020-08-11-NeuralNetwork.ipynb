{
 "cells": [
  {
   "cell_type": "markdown",
   "metadata": {
    "papermill": {
     "duration": 0.030772,
     "end_time": "2020-12-20T10:05:06.940234",
     "exception": false,
     "start_time": "2020-12-20T10:05:06.909462",
     "status": "completed"
    },
    "tags": []
   },
   "source": [
    "# \"A Basic Neural Network: Differentiate Hand-Written Digits\"\n",
    "\n",
    "- badges: true\n",
    "- author: Akshith Sriram"
   ]
  },
  {
   "cell_type": "markdown",
   "metadata": {
    "papermill": {
     "duration": 0.029596,
     "end_time": "2020-12-20T10:05:07.000435",
     "exception": false,
     "start_time": "2020-12-20T10:05:06.970839",
     "status": "completed"
    },
    "tags": []
   },
   "source": [
    "### Key Objectives:\n",
    "- Building a neural network that differentiates two hand-written digits 3 and 8.\n",
    "- Comparing the results of this Neural Network (NN) to that of a Logistic Regression (LR) model.\n",
    "\n",
    "### Requirements:\n",
    "- 'Kudzu' : A neural network library that was designed during our course by [Univ.AI](www.univ.ai). \n",
    "- MNIST Database\n",
    "\n",
    "If MNIST is not installed, use the command `!pip install mnist` given below.\n",
    "It can be run both from the command line and Jupyter Notebook."
   ]
  },
  {
   "cell_type": "code",
   "execution_count": 1,
   "metadata": {
    "execution": {
     "iopub.execute_input": "2020-12-20T10:05:07.068680Z",
     "iopub.status.busy": "2020-12-20T10:05:07.067928Z",
     "iopub.status.idle": "2020-12-20T10:05:08.664417Z",
     "shell.execute_reply": "2020-12-20T10:05:08.665059Z"
    },
    "papermill": {
     "duration": 1.638264,
     "end_time": "2020-12-20T10:05:08.665240",
     "exception": false,
     "start_time": "2020-12-20T10:05:07.026976",
     "status": "completed"
    },
    "tags": []
   },
   "outputs": [
    {
     "name": "stdout",
     "output_type": "stream",
     "text": [
      "Collecting mnist\r\n"
     ]
    },
    {
     "name": "stdout",
     "output_type": "stream",
     "text": [
      "  Downloading mnist-0.2.2-py2.py3-none-any.whl (3.5 kB)\r\n",
      "Requirement already satisfied: numpy in /opt/hostedtoolcache/Python/3.6.12/x64/lib/python3.6/site-packages (from mnist) (1.19.4)\r\n"
     ]
    },
    {
     "name": "stdout",
     "output_type": "stream",
     "text": [
      "Installing collected packages: mnist\r\n",
      "Successfully installed mnist-0.2.2\r\n"
     ]
    },
    {
     "name": "stdout",
     "output_type": "stream",
     "text": [
      "\u001b[33mWARNING: You are using pip version 20.3.1; however, version 20.3.3 is available.\r\n",
      "You should consider upgrading via the '/opt/hostedtoolcache/Python/3.6.12/x64/bin/python -m pip install --upgrade pip' command.\u001b[0m\r\n"
     ]
    }
   ],
   "source": [
    "!pip install mnist "
   ]
  },
  {
   "cell_type": "markdown",
   "metadata": {
    "papermill": {
     "duration": 0.02904,
     "end_time": "2020-12-20T10:05:08.724523",
     "exception": false,
     "start_time": "2020-12-20T10:05:08.695483",
     "status": "completed"
    },
    "tags": []
   },
   "source": [
    "#### Importing necessary libraries"
   ]
  },
  {
   "cell_type": "code",
   "execution_count": 2,
   "metadata": {
    "execution": {
     "iopub.execute_input": "2020-12-20T10:05:08.788359Z",
     "iopub.status.busy": "2020-12-20T10:05:08.787753Z",
     "iopub.status.idle": "2020-12-20T10:05:09.373946Z",
     "shell.execute_reply": "2020-12-20T10:05:09.373444Z"
    },
    "papermill": {
     "duration": 0.620004,
     "end_time": "2020-12-20T10:05:09.374106",
     "exception": false,
     "start_time": "2020-12-20T10:05:08.754102",
     "status": "completed"
    },
    "tags": []
   },
   "outputs": [],
   "source": [
    "%load_ext autoreload\n",
    "%autoreload 2\n",
    "\n",
    "%matplotlib inline\n",
    "import matplotlib.pyplot as plt\n",
    "\n",
    "import numpy as np\n",
    "import pandas as pd"
   ]
  },
  {
   "cell_type": "markdown",
   "metadata": {
    "papermill": {
     "duration": 0.030487,
     "end_time": "2020-12-20T10:05:09.435579",
     "exception": false,
     "start_time": "2020-12-20T10:05:09.405092",
     "status": "completed"
    },
    "tags": []
   },
   "source": [
    "### Preparing the Data"
   ]
  },
  {
   "cell_type": "code",
   "execution_count": 3,
   "metadata": {
    "execution": {
     "iopub.execute_input": "2020-12-20T10:05:09.499244Z",
     "iopub.status.busy": "2020-12-20T10:05:09.498626Z",
     "iopub.status.idle": "2020-12-20T10:05:09.511251Z",
     "shell.execute_reply": "2020-12-20T10:05:09.511739Z"
    },
    "papermill": {
     "duration": 0.045908,
     "end_time": "2020-12-20T10:05:09.511877",
     "exception": false,
     "start_time": "2020-12-20T10:05:09.465969",
     "status": "completed"
    },
    "tags": []
   },
   "outputs": [],
   "source": [
    "import mnist"
   ]
  },
  {
   "cell_type": "code",
   "execution_count": 4,
   "metadata": {
    "execution": {
     "iopub.execute_input": "2020-12-20T10:05:09.575290Z",
     "iopub.status.busy": "2020-12-20T10:05:09.574699Z",
     "iopub.status.idle": "2020-12-20T10:05:10.287613Z",
     "shell.execute_reply": "2020-12-20T10:05:10.287076Z"
    },
    "papermill": {
     "duration": 0.748219,
     "end_time": "2020-12-20T10:05:10.287744",
     "exception": false,
     "start_time": "2020-12-20T10:05:09.539525",
     "status": "completed"
    },
    "tags": []
   },
   "outputs": [],
   "source": [
    "train_images = mnist.train_images()\n",
    "train_labels = mnist.train_labels()"
   ]
  },
  {
   "cell_type": "code",
   "execution_count": 5,
   "metadata": {
    "execution": {
     "iopub.execute_input": "2020-12-20T10:05:10.351282Z",
     "iopub.status.busy": "2020-12-20T10:05:10.350322Z",
     "iopub.status.idle": "2020-12-20T10:05:10.364960Z",
     "shell.execute_reply": "2020-12-20T10:05:10.365435Z"
    },
    "papermill": {
     "duration": 0.048135,
     "end_time": "2020-12-20T10:05:10.365640",
     "exception": false,
     "start_time": "2020-12-20T10:05:10.317505",
     "status": "completed"
    },
    "tags": []
   },
   "outputs": [
    {
     "data": {
      "text/plain": [
       "((60000, 28, 28), (60000,))"
      ]
     },
     "execution_count": 5,
     "metadata": {},
     "output_type": "execute_result"
    }
   ],
   "source": [
    "train_images.shape, train_labels.shape"
   ]
  },
  {
   "cell_type": "code",
   "execution_count": 6,
   "metadata": {
    "execution": {
     "iopub.execute_input": "2020-12-20T10:05:10.430600Z",
     "iopub.status.busy": "2020-12-20T10:05:10.429080Z",
     "iopub.status.idle": "2020-12-20T10:05:10.696426Z",
     "shell.execute_reply": "2020-12-20T10:05:10.695647Z"
    },
    "papermill": {
     "duration": 0.302128,
     "end_time": "2020-12-20T10:05:10.696697",
     "exception": false,
     "start_time": "2020-12-20T10:05:10.394569",
     "status": "completed"
    },
    "tags": []
   },
   "outputs": [],
   "source": [
    "test_images = mnist.test_images()\n",
    "test_labels = mnist.test_labels()"
   ]
  },
  {
   "cell_type": "code",
   "execution_count": 7,
   "metadata": {
    "execution": {
     "iopub.execute_input": "2020-12-20T10:05:10.753515Z",
     "iopub.status.busy": "2020-12-20T10:05:10.752938Z",
     "iopub.status.idle": "2020-12-20T10:05:10.767104Z",
     "shell.execute_reply": "2020-12-20T10:05:10.767701Z"
    },
    "papermill": {
     "duration": 0.045344,
     "end_time": "2020-12-20T10:05:10.767852",
     "exception": false,
     "start_time": "2020-12-20T10:05:10.722508",
     "status": "completed"
    },
    "tags": []
   },
   "outputs": [
    {
     "data": {
      "text/plain": [
       "((10000, 28, 28), (10000,))"
      ]
     },
     "execution_count": 7,
     "metadata": {},
     "output_type": "execute_result"
    }
   ],
   "source": [
    "test_images.shape, test_labels.shape"
   ]
  },
  {
   "cell_type": "code",
   "execution_count": 8,
   "metadata": {
    "execution": {
     "iopub.execute_input": "2020-12-20T10:05:10.830562Z",
     "iopub.status.busy": "2020-12-20T10:05:10.829672Z",
     "iopub.status.idle": "2020-12-20T10:05:11.000473Z",
     "shell.execute_reply": "2020-12-20T10:05:11.000969Z"
    },
    "papermill": {
     "duration": 0.20543,
     "end_time": "2020-12-20T10:05:11.001134",
     "exception": false,
     "start_time": "2020-12-20T10:05:10.795704",
     "status": "completed"
    },
    "tags": []
   },
   "outputs": [
    {
     "name": "stdout",
     "output_type": "stream",
     "text": [
      "2\n"
     ]
    },
    {
     "data": {
      "text/plain": [
       "<matplotlib.image.AxesImage at 0x7fedf9f0e240>"
      ]
     },
     "execution_count": 8,
     "metadata": {},
     "output_type": "execute_result"
    },
    {
     "data": {
      "image/png": "[encoded data removed]",
      "text/plain": [
       "<Figure size 432x288 with 1 Axes>"
      ]
     },
     "metadata": {
      "needs_background": "light"
     },
     "output_type": "display_data"
    }
   ],
   "source": [
    "image_index = 7776 # You may select anything up to 60,000\n",
    "print(train_labels[image_index]) \n",
    "plt.imshow(train_images[image_index], cmap='Greys')"
   ]
  },
  {
   "cell_type": "markdown",
   "metadata": {
    "papermill": {
     "duration": 0.031855,
     "end_time": "2020-12-20T10:05:11.065335",
     "exception": false,
     "start_time": "2020-12-20T10:05:11.033480",
     "status": "completed"
    },
    "tags": []
   },
   "source": [
    "## Filter data to get 3 and 8 out"
   ]
  },
  {
   "cell_type": "code",
   "execution_count": 9,
   "metadata": {
    "execution": {
     "iopub.execute_input": "2020-12-20T10:05:11.131681Z",
     "iopub.status.busy": "2020-12-20T10:05:11.129857Z",
     "iopub.status.idle": "2020-12-20T10:05:11.153393Z",
     "shell.execute_reply": "2020-12-20T10:05:11.152773Z"
    },
    "papermill": {
     "duration": 0.059373,
     "end_time": "2020-12-20T10:05:11.153536",
     "exception": false,
     "start_time": "2020-12-20T10:05:11.094163",
     "status": "completed"
    },
    "tags": []
   },
   "outputs": [],
   "source": [
    "train_filter = np.where((train_labels == 3 ) | (train_labels == 8))\n",
    "test_filter = np.where((test_labels == 3) | (test_labels == 8))\n",
    "X_train, y_train = train_images[train_filter], train_labels[train_filter]\n",
    "X_test, y_test = test_images[test_filter], test_labels[test_filter]"
   ]
  },
  {
   "cell_type": "markdown",
   "metadata": {
    "papermill": {
     "duration": 0.164563,
     "end_time": "2020-12-20T10:05:11.353499",
     "exception": false,
     "start_time": "2020-12-20T10:05:11.188936",
     "status": "completed"
    },
    "tags": []
   },
   "source": [
    "We normalize the pixel values in the 0 to 1 range"
   ]
  },
  {
   "cell_type": "code",
   "execution_count": 10,
   "metadata": {
    "execution": {
     "iopub.execute_input": "2020-12-20T10:05:11.698989Z",
     "iopub.status.busy": "2020-12-20T10:05:11.698135Z",
     "iopub.status.idle": "2020-12-20T10:05:11.763697Z",
     "shell.execute_reply": "2020-12-20T10:05:11.764230Z"
    },
    "papermill": {
     "duration": 0.117156,
     "end_time": "2020-12-20T10:05:11.764447",
     "exception": false,
     "start_time": "2020-12-20T10:05:11.647291",
     "status": "completed"
    },
    "tags": []
   },
   "outputs": [],
   "source": [
    "X_train = X_train/255.\n",
    "X_test = X_test/255."
   ]
  },
  {
   "cell_type": "markdown",
   "metadata": {
    "papermill": {
     "duration": 0.045137,
     "end_time": "2020-12-20T10:05:11.846142",
     "exception": false,
     "start_time": "2020-12-20T10:05:11.801005",
     "status": "completed"
    },
    "tags": []
   },
   "source": [
    "Setup the labels as 1 (when the digit is 3) and 0 (when the digit is 8)"
   ]
  },
  {
   "cell_type": "code",
   "execution_count": 11,
   "metadata": {
    "execution": {
     "iopub.execute_input": "2020-12-20T10:05:11.946746Z",
     "iopub.status.busy": "2020-12-20T10:05:11.945912Z",
     "iopub.status.idle": "2020-12-20T10:05:11.959714Z",
     "shell.execute_reply": "2020-12-20T10:05:11.960232Z"
    },
    "papermill": {
     "duration": 0.071752,
     "end_time": "2020-12-20T10:05:11.960381",
     "exception": false,
     "start_time": "2020-12-20T10:05:11.888629",
     "status": "completed"
    },
    "tags": []
   },
   "outputs": [],
   "source": [
    "y_train = 1*(y_train==3)\n",
    "y_test = 1*(y_test==3)"
   ]
  },
  {
   "cell_type": "code",
   "execution_count": 12,
   "metadata": {
    "execution": {
     "iopub.execute_input": "2020-12-20T10:05:12.054606Z",
     "iopub.status.busy": "2020-12-20T10:05:12.053986Z",
     "iopub.status.idle": "2020-12-20T10:05:12.068235Z",
     "shell.execute_reply": "2020-12-20T10:05:12.067732Z"
    },
    "papermill": {
     "duration": 0.074962,
     "end_time": "2020-12-20T10:05:12.068355",
     "exception": false,
     "start_time": "2020-12-20T10:05:11.993393",
     "status": "completed"
    },
    "tags": []
   },
   "outputs": [
    {
     "data": {
      "text/plain": [
       "((11982, 28, 28), (1984, 28, 28))"
      ]
     },
     "execution_count": 12,
     "metadata": {},
     "output_type": "execute_result"
    }
   ],
   "source": [
    "X_train.shape, X_test.shape"
   ]
  },
  {
   "cell_type": "markdown",
   "metadata": {
    "papermill": {
     "duration": 0.053886,
     "end_time": "2020-12-20T10:05:12.152792",
     "exception": false,
     "start_time": "2020-12-20T10:05:12.098906",
     "status": "completed"
    },
    "tags": []
   },
   "source": [
    "### Reshape the input data to create a linear array"
   ]
  },
  {
   "cell_type": "code",
   "execution_count": 13,
   "metadata": {
    "execution": {
     "iopub.execute_input": "2020-12-20T10:05:12.227190Z",
     "iopub.status.busy": "2020-12-20T10:05:12.226605Z",
     "iopub.status.idle": "2020-12-20T10:05:12.241145Z",
     "shell.execute_reply": "2020-12-20T10:05:12.240403Z"
    },
    "papermill": {
     "duration": 0.051229,
     "end_time": "2020-12-20T10:05:12.241367",
     "exception": false,
     "start_time": "2020-12-20T10:05:12.190138",
     "status": "completed"
    },
    "tags": []
   },
   "outputs": [
    {
     "data": {
      "text/plain": [
       "((11982, 784), (1984, 784))"
      ]
     },
     "execution_count": 13,
     "metadata": {},
     "output_type": "execute_result"
    }
   ],
   "source": [
    "X_train = X_train.reshape(X_train.shape[0], -1)\n",
    "X_test = X_test.reshape(X_test.shape[0], -1)\n",
    "X_train.shape, X_test.shape"
   ]
  },
  {
   "cell_type": "markdown",
   "metadata": {
    "papermill": {
     "duration": 0.043389,
     "end_time": "2020-12-20T10:05:12.393338",
     "exception": false,
     "start_time": "2020-12-20T10:05:12.349949",
     "status": "completed"
    },
    "tags": []
   },
   "source": [
    "### Importing appropriate functions from 'Kudzu'"
   ]
  },
  {
   "cell_type": "code",
   "execution_count": 14,
   "metadata": {
    "execution": {
     "iopub.execute_input": "2020-12-20T10:05:12.491965Z",
     "iopub.status.busy": "2020-12-20T10:05:12.491070Z",
     "iopub.status.idle": "2020-12-20T10:05:12.514431Z",
     "shell.execute_reply": "2020-12-20T10:05:12.513917Z"
    },
    "papermill": {
     "duration": 0.074564,
     "end_time": "2020-12-20T10:05:12.514571",
     "exception": false,
     "start_time": "2020-12-20T10:05:12.440007",
     "status": "completed"
    },
    "tags": []
   },
   "outputs": [],
   "source": [
    "from kudzu.layer import Sigmoid\n",
    "from kudzu.layer import Relu\n",
    "from kudzu.layer import Affine, Sigmoid\n",
    "\n",
    "from kudzu.model import Model\n",
    "from kudzu.train import Learner\n",
    "from kudzu.optim import GD\n",
    "from kudzu.data import Data, Dataloader, Sampler\n",
    "\n",
    "from kudzu.callbacks import AccCallback\n",
    "from kudzu.callbacks import ClfCallback\n",
    "\n",
    "from kudzu.loss import MSE"
   ]
  },
  {
   "cell_type": "markdown",
   "metadata": {
    "papermill": {
     "duration": 0.039138,
     "end_time": "2020-12-20T10:05:12.588766",
     "exception": false,
     "start_time": "2020-12-20T10:05:12.549628",
     "status": "completed"
    },
    "tags": []
   },
   "source": [
    "### Let us create a `Config` class, to store important parameters. \n",
    "This class essentially plays the role of a dictionary."
   ]
  },
  {
   "cell_type": "code",
   "execution_count": 15,
   "metadata": {
    "execution": {
     "iopub.execute_input": "2020-12-20T10:05:12.654169Z",
     "iopub.status.busy": "2020-12-20T10:05:12.653521Z",
     "iopub.status.idle": "2020-12-20T10:05:12.666099Z",
     "shell.execute_reply": "2020-12-20T10:05:12.666627Z"
    },
    "papermill": {
     "duration": 0.046783,
     "end_time": "2020-12-20T10:05:12.666775",
     "exception": false,
     "start_time": "2020-12-20T10:05:12.619992",
     "status": "completed"
    },
    "tags": []
   },
   "outputs": [],
   "source": [
    "class Config:\n",
    "    pass\n",
    "config = Config()\n",
    "config.lr = 0.001\n",
    "config.num_epochs = 251\n",
    "config.bs = 50"
   ]
  },
  {
   "cell_type": "markdown",
   "metadata": {
    "papermill": {
     "duration": 0.029947,
     "end_time": "2020-12-20T10:05:12.729487",
     "exception": false,
     "start_time": "2020-12-20T10:05:12.699540",
     "status": "completed"
    },
    "tags": []
   },
   "source": [
    "### Initializing data to the variables"
   ]
  },
  {
   "cell_type": "code",
   "execution_count": 16,
   "metadata": {
    "execution": {
     "iopub.execute_input": "2020-12-20T10:05:12.793407Z",
     "iopub.status.busy": "2020-12-20T10:05:12.792699Z",
     "iopub.status.idle": "2020-12-20T10:05:12.807427Z",
     "shell.execute_reply": "2020-12-20T10:05:12.807974Z"
    },
    "papermill": {
     "duration": 0.047415,
     "end_time": "2020-12-20T10:05:12.808133",
     "exception": false,
     "start_time": "2020-12-20T10:05:12.760718",
     "status": "completed"
    },
    "tags": []
   },
   "outputs": [],
   "source": [
    "data = Data(X_train, y_train.reshape(-1,1))\n",
    "sampler = Sampler(data, config.bs, shuffle=True)\n",
    "\n",
    "dl = Dataloader(data, sampler)\n",
    "\n",
    "opt = GD(config.lr)\n",
    "loss = MSE()"
   ]
  },
  {
   "cell_type": "code",
   "execution_count": 17,
   "metadata": {
    "execution": {
     "iopub.execute_input": "2020-12-20T10:05:12.882179Z",
     "iopub.status.busy": "2020-12-20T10:05:12.881364Z",
     "iopub.status.idle": "2020-12-20T10:05:12.888043Z",
     "shell.execute_reply": "2020-12-20T10:05:12.889073Z"
    },
    "papermill": {
     "duration": 0.053142,
     "end_time": "2020-12-20T10:05:12.889226",
     "exception": false,
     "start_time": "2020-12-20T10:05:12.836084",
     "status": "completed"
    },
    "tags": []
   },
   "outputs": [],
   "source": [
    "training_xdata = X_train\n",
    "testing_xdata = X_test\n",
    "training_ydata = y_train.reshape(-1,1)\n",
    "testing_ydata = y_test.reshape(-1,1)"
   ]
  },
  {
   "cell_type": "markdown",
   "metadata": {
    "papermill": {
     "duration": 0.032418,
     "end_time": "2020-12-20T10:05:12.959512",
     "exception": false,
     "start_time": "2020-12-20T10:05:12.927094",
     "status": "completed"
    },
    "tags": []
   },
   "source": [
    "### Running Models with the Training data\n",
    "Details about the network layers:\n",
    "- A first affine layer has 784 inputs and does 100 affine transforms. These are followed by a Relu\n",
    "- A second affine layer has 100 inputs from the 100 activations of the past layer, and does 100 affine transforms. These are followed by a Relu\n",
    "- A third affine layer has 100 activations and does 2 affine transformations to create an embedding for visualization. There is no non-linearity here.\n",
    "- A final \"logistic regression\" which has an affine transform from 2 inputs to 1 output, which is squeezed through a sigmoid.\n",
    "\n",
    "Help taken from Anshuman's Notebook."
   ]
  },
  {
   "cell_type": "code",
   "execution_count": 18,
   "metadata": {
    "execution": {
     "iopub.execute_input": "2020-12-20T10:05:13.042128Z",
     "iopub.status.busy": "2020-12-20T10:05:13.033747Z",
     "iopub.status.idle": "2020-12-20T10:05:13.050103Z",
     "shell.execute_reply": "2020-12-20T10:05:13.049537Z"
    },
    "papermill": {
     "duration": 0.06054,
     "end_time": "2020-12-20T10:05:13.050250",
     "exception": false,
     "start_time": "2020-12-20T10:05:12.989710",
     "status": "completed"
    },
    "tags": []
   },
   "outputs": [],
   "source": [
    "# layers for the Neural Network\n",
    "layers = [Affine(\"first\", 784, 100), Relu(\"first\"), Affine(\"second\", 100, 100), Relu(\"second\"), Affine(\"third\", 100, 2), Affine(\"final\", 2, 1), Sigmoid(\"final\")]\n",
    "model_nn = Model(layers)\n",
    "\n",
    "# layers for the Logistic Regression\n",
    "layers_lr = [Affine(\"logits\", 784, 1), Sigmoid(\"sigmoid\")]\n",
    "model_lr = Model(layers_lr)"
   ]
  },
  {
   "cell_type": "code",
   "execution_count": 19,
   "metadata": {
    "execution": {
     "iopub.execute_input": "2020-12-20T10:05:13.134892Z",
     "iopub.status.busy": "2020-12-20T10:05:13.134038Z",
     "iopub.status.idle": "2020-12-20T10:05:13.136619Z",
     "shell.execute_reply": "2020-12-20T10:05:13.137356Z"
    },
    "papermill": {
     "duration": 0.056488,
     "end_time": "2020-12-20T10:05:13.137544",
     "exception": false,
     "start_time": "2020-12-20T10:05:13.081056",
     "status": "completed"
    },
    "tags": []
   },
   "outputs": [],
   "source": [
    "# suffix _nn stands for Neural Network.\n",
    "learner_nn = Learner(loss, model_nn, opt, config.num_epochs)\n",
    "acc_nn = ClfCallback(learner_nn, config.bs, training_xdata , testing_xdata, training_ydata, testing_ydata)\n",
    "learner_nn.set_callbacks([acc_nn])"
   ]
  },
  {
   "cell_type": "code",
   "execution_count": 20,
   "metadata": {
    "execution": {
     "iopub.execute_input": "2020-12-20T10:05:13.213870Z",
     "iopub.status.busy": "2020-12-20T10:05:13.207472Z",
     "iopub.status.idle": "2020-12-20T10:07:31.284852Z",
     "shell.execute_reply": "2020-12-20T10:07:31.285522Z"
    },
    "papermill": {
     "duration": 138.116039,
     "end_time": "2020-12-20T10:07:31.285675",
     "exception": false,
     "start_time": "2020-12-20T10:05:13.169636",
     "status": "completed"
    },
    "tags": []
   },
   "outputs": [
    {
     "name": "stdout",
     "output_type": "stream",
     "text": [
      "====== Neural Network ======\n"
     ]
    },
    {
     "name": "stdout",
     "output_type": "stream",
     "text": [
      "Epoch 0, Loss 0.2524\n",
      "Training Accuracy: 0.4573, Testing Accuracy: 0.4839\n",
      "\n"
     ]
    },
    {
     "name": "stdout",
     "output_type": "stream",
     "text": [
      "Epoch 10, Loss 0.2276\n",
      "Training Accuracy: 0.8375, Testing Accuracy: 0.8614\n",
      "\n"
     ]
    },
    {
     "name": "stdout",
     "output_type": "stream",
     "text": [
      "Epoch 20, Loss 0.1445\n",
      "Training Accuracy: 0.8997, Testing Accuracy: 0.9098\n",
      "\n"
     ]
    },
    {
     "name": "stdout",
     "output_type": "stream",
     "text": [
      "Epoch 30, Loss 0.0766\n",
      "Training Accuracy: 0.9238, Testing Accuracy: 0.9345\n",
      "\n"
     ]
    },
    {
     "name": "stdout",
     "output_type": "stream",
     "text": [
      "Epoch 40, Loss 0.055\n",
      "Training Accuracy: 0.9415, Testing Accuracy: 0.9526\n",
      "\n"
     ]
    },
    {
     "name": "stdout",
     "output_type": "stream",
     "text": [
      "Epoch 50, Loss 0.0452\n",
      "Training Accuracy: 0.9492, Testing Accuracy: 0.9612\n",
      "\n"
     ]
    },
    {
     "name": "stdout",
     "output_type": "stream",
     "text": [
      "Epoch 60, Loss 0.0397\n",
      "Training Accuracy: 0.9539, Testing Accuracy: 0.9632\n",
      "\n"
     ]
    },
    {
     "name": "stdout",
     "output_type": "stream",
     "text": [
      "Epoch 70, Loss 0.0362\n",
      "Training Accuracy: 0.9579, Testing Accuracy: 0.9657\n",
      "\n"
     ]
    },
    {
     "name": "stdout",
     "output_type": "stream",
     "text": [
      "Epoch 80, Loss 0.0337\n",
      "Training Accuracy: 0.9597, Testing Accuracy: 0.9652\n",
      "\n"
     ]
    },
    {
     "name": "stdout",
     "output_type": "stream",
     "text": [
      "Epoch 90, Loss 0.0319\n",
      "Training Accuracy: 0.9621, Testing Accuracy: 0.9652\n",
      "\n"
     ]
    },
    {
     "name": "stdout",
     "output_type": "stream",
     "text": [
      "Epoch 100, Loss 0.0304\n",
      "Training Accuracy: 0.9636, Testing Accuracy: 0.9652\n",
      "\n"
     ]
    },
    {
     "name": "stdout",
     "output_type": "stream",
     "text": [
      "Epoch 110, Loss 0.0291\n",
      "Training Accuracy: 0.9654, Testing Accuracy: 0.9667\n",
      "\n"
     ]
    },
    {
     "name": "stdout",
     "output_type": "stream",
     "text": [
      "Epoch 120, Loss 0.0281\n",
      "Training Accuracy: 0.9666, Testing Accuracy: 0.9672\n",
      "\n"
     ]
    },
    {
     "name": "stdout",
     "output_type": "stream",
     "text": [
      "Epoch 130, Loss 0.0272\n",
      "Training Accuracy: 0.9680, Testing Accuracy: 0.9677\n",
      "\n"
     ]
    },
    {
     "name": "stdout",
     "output_type": "stream",
     "text": [
      "Epoch 140, Loss 0.0264\n",
      "Training Accuracy: 0.9689, Testing Accuracy: 0.9682\n",
      "\n"
     ]
    },
    {
     "name": "stdout",
     "output_type": "stream",
     "text": [
      "Epoch 150, Loss 0.0257\n",
      "Training Accuracy: 0.9694, Testing Accuracy: 0.9693\n",
      "\n"
     ]
    },
    {
     "name": "stdout",
     "output_type": "stream",
     "text": [
      "Epoch 160, Loss 0.025\n",
      "Training Accuracy: 0.9702, Testing Accuracy: 0.9688\n",
      "\n"
     ]
    },
    {
     "name": "stdout",
     "output_type": "stream",
     "text": [
      "Epoch 170, Loss 0.0245\n",
      "Training Accuracy: 0.9709, Testing Accuracy: 0.9688\n",
      "\n"
     ]
    },
    {
     "name": "stdout",
     "output_type": "stream",
     "text": [
      "Epoch 180, Loss 0.0239\n",
      "Training Accuracy: 0.9717, Testing Accuracy: 0.9693\n",
      "\n"
     ]
    },
    {
     "name": "stdout",
     "output_type": "stream",
     "text": [
      "Epoch 190, Loss 0.0234\n",
      "Training Accuracy: 0.9725, Testing Accuracy: 0.9708\n",
      "\n"
     ]
    },
    {
     "name": "stdout",
     "output_type": "stream",
     "text": [
      "Epoch 200, Loss 0.0229\n",
      "Training Accuracy: 0.9731, Testing Accuracy: 0.9713\n",
      "\n"
     ]
    },
    {
     "name": "stdout",
     "output_type": "stream",
     "text": [
      "Epoch 210, Loss 0.0225\n",
      "Training Accuracy: 0.9739, Testing Accuracy: 0.9718\n",
      "\n"
     ]
    },
    {
     "name": "stdout",
     "output_type": "stream",
     "text": [
      "Epoch 220, Loss 0.0221\n",
      "Training Accuracy: 0.9745, Testing Accuracy: 0.9728\n",
      "\n"
     ]
    },
    {
     "name": "stdout",
     "output_type": "stream",
     "text": [
      "Epoch 230, Loss 0.0217\n",
      "Training Accuracy: 0.9754, Testing Accuracy: 0.9728\n",
      "\n"
     ]
    },
    {
     "name": "stdout",
     "output_type": "stream",
     "text": [
      "Epoch 240, Loss 0.0213\n",
      "Training Accuracy: 0.9759, Testing Accuracy: 0.9728\n",
      "\n"
     ]
    },
    {
     "name": "stdout",
     "output_type": "stream",
     "text": [
      "Epoch 250, Loss 0.0209\n",
      "Training Accuracy: 0.9762, Testing Accuracy: 0.9733\n",
      "\n"
     ]
    },
    {
     "data": {
      "text/plain": [
       "0.02684976433687042"
      ]
     },
     "execution_count": 20,
     "metadata": {},
     "output_type": "execute_result"
    }
   ],
   "source": [
    "print(\"====== Neural Network ======\")\n",
    "learner_nn.train_loop(dl)"
   ]
  },
  {
   "cell_type": "markdown",
   "metadata": {
    "papermill": {
     "duration": 0.040888,
     "end_time": "2020-12-20T10:07:31.365343",
     "exception": false,
     "start_time": "2020-12-20T10:07:31.324455",
     "status": "completed"
    },
    "tags": []
   },
   "source": [
    "### Logistic Regression based Implementation."
   ]
  },
  {
   "cell_type": "code",
   "execution_count": 21,
   "metadata": {
    "execution": {
     "iopub.execute_input": "2020-12-20T10:07:31.452530Z",
     "iopub.status.busy": "2020-12-20T10:07:31.451923Z",
     "iopub.status.idle": "2020-12-20T10:07:31.466298Z",
     "shell.execute_reply": "2020-12-20T10:07:31.465435Z"
    },
    "papermill": {
     "duration": 0.061957,
     "end_time": "2020-12-20T10:07:31.466528",
     "exception": false,
     "start_time": "2020-12-20T10:07:31.404571",
     "status": "completed"
    },
    "tags": []
   },
   "outputs": [],
   "source": [
    "learner_lr = Learner(loss, model_lr, opt, config.num_epochs)\n",
    "acc_lr = ClfCallback(learner_lr, config.bs, training_xdata , testing_xdata, training_ydata, testing_ydata)\n",
    "learner_lr.set_callbacks([acc_lr])"
   ]
  },
  {
   "cell_type": "code",
   "execution_count": 22,
   "metadata": {
    "execution": {
     "iopub.execute_input": "2020-12-20T10:07:31.553420Z",
     "iopub.status.busy": "2020-12-20T10:07:31.552825Z",
     "iopub.status.idle": "2020-12-20T10:07:51.551871Z",
     "shell.execute_reply": "2020-12-20T10:07:51.552595Z"
    },
    "papermill": {
     "duration": 20.043645,
     "end_time": "2020-12-20T10:07:51.552738",
     "exception": false,
     "start_time": "2020-12-20T10:07:31.509093",
     "status": "completed"
    },
    "tags": []
   },
   "outputs": [
    {
     "name": "stdout",
     "output_type": "stream",
     "text": [
      "====== Logistic Regression ======\n",
      "Epoch 0, Loss 0.2162\n",
      "Training Accuracy: 0.7445, Testing Accuracy: 0.7505\n",
      "\n"
     ]
    },
    {
     "name": "stdout",
     "output_type": "stream",
     "text": [
      "Epoch 10, Loss 0.1005\n",
      "Training Accuracy: 0.9071, Testing Accuracy: 0.9224\n",
      "\n"
     ]
    },
    {
     "name": "stdout",
     "output_type": "stream",
     "text": [
      "Epoch 20, Loss 0.0781\n",
      "Training Accuracy: 0.9276, Testing Accuracy: 0.9420\n",
      "\n"
     ]
    },
    {
     "name": "stdout",
     "output_type": "stream",
     "text": [
      "Epoch 30, Loss 0.0677\n",
      "Training Accuracy: 0.9347, Testing Accuracy: 0.9471\n",
      "\n"
     ]
    },
    {
     "name": "stdout",
     "output_type": "stream",
     "text": [
      "Epoch 40, Loss 0.0613\n",
      "Training Accuracy: 0.9410, Testing Accuracy: 0.9506\n",
      "\n"
     ]
    },
    {
     "name": "stdout",
     "output_type": "stream",
     "text": [
      "Epoch 50, Loss 0.057\n",
      "Training Accuracy: 0.9439, Testing Accuracy: 0.9546\n",
      "\n"
     ]
    },
    {
     "name": "stdout",
     "output_type": "stream",
     "text": [
      "Epoch 60, Loss 0.0538\n",
      "Training Accuracy: 0.9472, Testing Accuracy: 0.9567\n",
      "\n"
     ]
    },
    {
     "name": "stdout",
     "output_type": "stream",
     "text": [
      "Epoch 70, Loss 0.0513\n",
      "Training Accuracy: 0.9494, Testing Accuracy: 0.9582\n",
      "\n"
     ]
    },
    {
     "name": "stdout",
     "output_type": "stream",
     "text": [
      "Epoch 80, Loss 0.0493\n",
      "Training Accuracy: 0.9508, Testing Accuracy: 0.9592\n",
      "\n"
     ]
    },
    {
     "name": "stdout",
     "output_type": "stream",
     "text": [
      "Epoch 90, Loss 0.0476\n",
      "Training Accuracy: 0.9518, Testing Accuracy: 0.9607\n",
      "\n"
     ]
    },
    {
     "name": "stdout",
     "output_type": "stream",
     "text": [
      "Epoch 100, Loss 0.0463\n",
      "Training Accuracy: 0.9535, Testing Accuracy: 0.9612\n",
      "\n"
     ]
    },
    {
     "name": "stdout",
     "output_type": "stream",
     "text": [
      "Epoch 110, Loss 0.0451\n",
      "Training Accuracy: 0.9545, Testing Accuracy: 0.9612\n",
      "\n"
     ]
    },
    {
     "name": "stdout",
     "output_type": "stream",
     "text": [
      "Epoch 120, Loss 0.044\n",
      "Training Accuracy: 0.9551, Testing Accuracy: 0.9612\n",
      "\n"
     ]
    },
    {
     "name": "stdout",
     "output_type": "stream",
     "text": [
      "Epoch 130, Loss 0.0431\n",
      "Training Accuracy: 0.9553, Testing Accuracy: 0.9617\n",
      "\n"
     ]
    },
    {
     "name": "stdout",
     "output_type": "stream",
     "text": [
      "Epoch 140, Loss 0.0423\n",
      "Training Accuracy: 0.9559, Testing Accuracy: 0.9622\n",
      "\n"
     ]
    },
    {
     "name": "stdout",
     "output_type": "stream",
     "text": [
      "Epoch 150, Loss 0.0416\n",
      "Training Accuracy: 0.9567, Testing Accuracy: 0.9627\n",
      "\n"
     ]
    },
    {
     "name": "stdout",
     "output_type": "stream",
     "text": [
      "Epoch 160, Loss 0.0409\n",
      "Training Accuracy: 0.9571, Testing Accuracy: 0.9637\n",
      "\n"
     ]
    },
    {
     "name": "stdout",
     "output_type": "stream",
     "text": [
      "Epoch 170, Loss 0.0403\n",
      "Training Accuracy: 0.9578, Testing Accuracy: 0.9642\n",
      "\n"
     ]
    },
    {
     "name": "stdout",
     "output_type": "stream",
     "text": [
      "Epoch 180, Loss 0.0397\n",
      "Training Accuracy: 0.9584, Testing Accuracy: 0.9657\n",
      "\n"
     ]
    },
    {
     "name": "stdout",
     "output_type": "stream",
     "text": [
      "Epoch 190, Loss 0.0392\n",
      "Training Accuracy: 0.9586, Testing Accuracy: 0.9662\n",
      "\n"
     ]
    },
    {
     "name": "stdout",
     "output_type": "stream",
     "text": [
      "Epoch 200, Loss 0.0387\n",
      "Training Accuracy: 0.9590, Testing Accuracy: 0.9667\n",
      "\n"
     ]
    },
    {
     "name": "stdout",
     "output_type": "stream",
     "text": [
      "Epoch 210, Loss 0.0383\n",
      "Training Accuracy: 0.9597, Testing Accuracy: 0.9667\n",
      "\n"
     ]
    },
    {
     "name": "stdout",
     "output_type": "stream",
     "text": [
      "Epoch 220, Loss 0.0379\n",
      "Training Accuracy: 0.9599, Testing Accuracy: 0.9672\n",
      "\n"
     ]
    },
    {
     "name": "stdout",
     "output_type": "stream",
     "text": [
      "Epoch 230, Loss 0.0375\n",
      "Training Accuracy: 0.9604, Testing Accuracy: 0.9672\n",
      "\n"
     ]
    },
    {
     "name": "stdout",
     "output_type": "stream",
     "text": [
      "Epoch 240, Loss 0.0372\n",
      "Training Accuracy: 0.9605, Testing Accuracy: 0.9688\n",
      "\n"
     ]
    },
    {
     "name": "stdout",
     "output_type": "stream",
     "text": [
      "Epoch 250, Loss 0.0368\n",
      "Training Accuracy: 0.9608, Testing Accuracy: 0.9688\n",
      "\n"
     ]
    },
    {
     "data": {
      "text/plain": [
       "0.04723580302823595"
      ]
     },
     "execution_count": 22,
     "metadata": {},
     "output_type": "execute_result"
    }
   ],
   "source": [
    "print(\"====== Logistic Regression ======\")\n",
    "learner_lr.train_loop(dl)"
   ]
  },
  {
   "cell_type": "markdown",
   "metadata": {
    "papermill": {
     "duration": 0.043346,
     "end_time": "2020-12-20T10:07:51.650795",
     "exception": false,
     "start_time": "2020-12-20T10:07:51.607449",
     "status": "completed"
    },
    "tags": []
   },
   "source": [
    "### Comparing results of NN and LR"
   ]
  },
  {
   "cell_type": "code",
   "execution_count": 23,
   "metadata": {
    "execution": {
     "iopub.execute_input": "2020-12-20T10:07:51.753419Z",
     "iopub.status.busy": "2020-12-20T10:07:51.752810Z",
     "iopub.status.idle": "2020-12-20T10:07:52.017719Z",
     "shell.execute_reply": "2020-12-20T10:07:52.017193Z"
    },
    "papermill": {
     "duration": 0.319678,
     "end_time": "2020-12-20T10:07:52.017848",
     "exception": false,
     "start_time": "2020-12-20T10:07:51.698170",
     "status": "completed"
    },
    "tags": []
   },
   "outputs": [
    {
     "data": {
      "text/plain": [
       "<matplotlib.legend.Legend at 0x7fedf7adfb70>"
      ]
     },
     "execution_count": 23,
     "metadata": {},
     "output_type": "execute_result"
    },
    {
     "data": {
      "image/png": "[encoded data removed]",
      "text/plain": [
       "<Figure size 1080x720 with 1 Axes>"
      ]
     },
     "metadata": {
      "needs_background": "light"
     },
     "output_type": "display_data"
    }
   ],
   "source": [
    "plt.figure(figsize=(15,10))\n",
    "\n",
    "# Neural Network plots\n",
    "plt.plot(acc_nn.accuracies, 'r-', label = \"Training Accuracies - NN\")\n",
    "plt.plot(acc_nn.test_accuracies, 'g-', label = \"Testing Accuracies - NN\")\n",
    "\n",
    "# Logistic Regression plots\n",
    "plt.plot(acc_lr.accuracies, 'k-', label = \"Training Accuracies - LR\")\n",
    "plt.plot(acc_lr.test_accuracies, 'b-', label = \"Testing Accuracies - LR\")\n",
    "\n",
    "plt.ylim(0.8, 1)\n",
    "\n",
    "plt.legend()\n",
    "\n"
   ]
  },
  {
   "cell_type": "markdown",
   "metadata": {
    "papermill": {
     "duration": 0.048867,
     "end_time": "2020-12-20T10:07:52.117548",
     "exception": false,
     "start_time": "2020-12-20T10:07:52.068681",
     "status": "completed"
    },
    "tags": []
   },
   "source": [
    "### From the plot, we can observe the following:\n",
    "- Neural Network achieves higher accuracy than the Logistic Regression model.\n",
    "- This apparently, is because of overfitting, i.e. NN captures more noise than data.\n",
    "- Testing accuracy of NN drops below the Training accuracy at higher epochs. This explains the over-fitting on training data.\n",
    "- Logistic Regression gives a reliable accuracy, without the above mentioned problem.\n"
   ]
  },
  {
   "cell_type": "markdown",
   "metadata": {
    "papermill": {
     "duration": 0.048073,
     "end_time": "2020-12-20T10:07:52.213091",
     "exception": false,
     "start_time": "2020-12-20T10:07:52.165018",
     "status": "completed"
    },
    "tags": []
   },
   "source": [
    "### Moving till the last but one layer (excluding it).\n",
    "#### Plotting the outputs of this layer of the NN."
   ]
  },
  {
   "cell_type": "code",
   "execution_count": 24,
   "metadata": {
    "execution": {
     "iopub.execute_input": "2020-12-20T10:07:52.328149Z",
     "iopub.status.busy": "2020-12-20T10:07:52.325967Z",
     "iopub.status.idle": "2020-12-20T10:07:52.333084Z",
     "shell.execute_reply": "2020-12-20T10:07:52.333615Z"
    },
    "papermill": {
     "duration": 0.070209,
     "end_time": "2020-12-20T10:07:52.333750",
     "exception": false,
     "start_time": "2020-12-20T10:07:52.263541",
     "status": "completed"
    },
    "tags": []
   },
   "outputs": [],
   "source": [
    "model_new = Model(layers[:-2])"
   ]
  },
  {
   "cell_type": "code",
   "execution_count": 25,
   "metadata": {
    "execution": {
     "iopub.execute_input": "2020-12-20T10:07:52.430480Z",
     "iopub.status.busy": "2020-12-20T10:07:52.429720Z",
     "iopub.status.idle": "2020-12-20T10:07:52.454819Z",
     "shell.execute_reply": "2020-12-20T10:07:52.455426Z"
    },
    "papermill": {
     "duration": 0.074865,
     "end_time": "2020-12-20T10:07:52.455560",
     "exception": false,
     "start_time": "2020-12-20T10:07:52.380695",
     "status": "completed"
    },
    "tags": []
   },
   "outputs": [],
   "source": [
    "plot_testing = model_new(testing_xdata)"
   ]
  },
  {
   "cell_type": "code",
   "execution_count": 26,
   "metadata": {
    "execution": {
     "iopub.execute_input": "2020-12-20T10:07:52.558253Z",
     "iopub.status.busy": "2020-12-20T10:07:52.557663Z",
     "iopub.status.idle": "2020-12-20T10:07:52.786939Z",
     "shell.execute_reply": "2020-12-20T10:07:52.786109Z"
    },
    "papermill": {
     "duration": 0.286461,
     "end_time": "2020-12-20T10:07:52.787134",
     "exception": false,
     "start_time": "2020-12-20T10:07:52.500673",
     "status": "completed"
    },
    "tags": []
   },
   "outputs": [
    {
     "data": {
      "text/plain": [
       "Text(0.5, 1.0, 'Outputs')"
      ]
     },
     "execution_count": 26,
     "metadata": {},
     "output_type": "execute_result"
    },
    {
     "data": {
      "image/png": "[encoded data removed]",
      "text/plain": [
       "<Figure size 576x504 with 1 Axes>"
      ]
     },
     "metadata": {
      "needs_background": "light"
     },
     "output_type": "display_data"
    }
   ],
   "source": [
    "plt.figure(figsize=(8,7))\n",
    "plt.scatter(plot_testing[:,0], plot_testing[:,1], alpha = 0.1, c = y_test.ravel());\n",
    "plt.title('Outputs')"
   ]
  },
  {
   "cell_type": "markdown",
   "metadata": {
    "papermill": {
     "duration": 0.04978,
     "end_time": "2020-12-20T10:07:52.885657",
     "exception": false,
     "start_time": "2020-12-20T10:07:52.835877",
     "status": "completed"
    },
    "tags": []
   },
   "source": [
    "### Plotting probability contours"
   ]
  },
  {
   "cell_type": "code",
   "execution_count": 27,
   "metadata": {
    "execution": {
     "iopub.execute_input": "2020-12-20T10:07:52.988477Z",
     "iopub.status.busy": "2020-12-20T10:07:52.987157Z",
     "iopub.status.idle": "2020-12-20T10:07:52.999197Z",
     "shell.execute_reply": "2020-12-20T10:07:52.999699Z"
    },
    "papermill": {
     "duration": 0.064559,
     "end_time": "2020-12-20T10:07:52.999889",
     "exception": false,
     "start_time": "2020-12-20T10:07:52.935330",
     "status": "completed"
    },
    "tags": []
   },
   "outputs": [],
   "source": [
    "model_prob = Model(layers[-2:]) "
   ]
  },
  {
   "cell_type": "code",
   "execution_count": 28,
   "metadata": {
    "execution": {
     "iopub.execute_input": "2020-12-20T10:07:53.114387Z",
     "iopub.status.busy": "2020-12-20T10:07:53.111388Z",
     "iopub.status.idle": "2020-12-20T10:07:53.124954Z",
     "shell.execute_reply": "2020-12-20T10:07:53.125370Z"
    },
    "papermill": {
     "duration": 0.073909,
     "end_time": "2020-12-20T10:07:53.125495",
     "exception": false,
     "start_time": "2020-12-20T10:07:53.051586",
     "status": "completed"
    },
    "tags": []
   },
   "outputs": [],
   "source": [
    "# Adjust the x and y ranges according to the above generated plot.\n",
    "x_range = np.linspace(-4, 1, 100) \n",
    "y_range = np.linspace(-6, 6, 100) \n",
    "x_grid, y_grid = np.meshgrid(x_range, y_range) # x_grid and y_grig are of size 100 X 100\n",
    "\n",
    "# converting x_grid and y_grid to continuous arrays\n",
    "x_grid_flat = np.ravel(x_grid)\n",
    "y_grid_flat = np.ravel(y_grid)\n",
    "\n",
    "# The last layer of the current model takes two columns as input. Hence transpose of np.vstack() is required.\n",
    "X = np.vstack((x_grid_flat, y_grid_flat)).T\n",
    "\n",
    "# x_grid and y_grid are of size 100 x 100\n",
    "probability_contour = model_prob(X).reshape(100,100) "
   ]
  },
  {
   "cell_type": "code",
   "execution_count": 29,
   "metadata": {
    "execution": {
     "iopub.execute_input": "2020-12-20T10:07:53.245049Z",
     "iopub.status.busy": "2020-12-20T10:07:53.244442Z",
     "iopub.status.idle": "2020-12-20T10:07:53.538362Z",
     "shell.execute_reply": "2020-12-20T10:07:53.537150Z"
    },
    "papermill": {
     "duration": 0.363274,
     "end_time": "2020-12-20T10:07:53.538530",
     "exception": false,
     "start_time": "2020-12-20T10:07:53.175256",
     "status": "completed"
    },
    "tags": []
   },
   "outputs": [
    {
     "data": {
      "image/png": "[encoded data removed]",
      "text/plain": [
       "<Figure size 720x648 with 1 Axes>"
      ]
     },
     "metadata": {
      "needs_background": "light"
     },
     "output_type": "display_data"
    }
   ],
   "source": [
    "plt.figure(figsize=(10,9))\n",
    "plt.scatter(plot_testing[:,0], plot_testing[:,1], alpha = 0.1, c = y_test.ravel())\n",
    "contours = plt.contour(x_grid,y_grid,probability_contour)\n",
    "plt.title('Probability Contours')\n",
    "plt.clabel(contours, inline = True );"
   ]
  }
 ],
 "metadata": {
  "kernelspec": {
   "display_name": "Python 3",
   "language": "python",
   "name": "python3"
  },
  "language_info": {
   "codemirror_mode": {
    "name": "ipython",
    "version": 3
   },
   "file_extension": ".py",
   "mimetype": "text/x-python",
   "name": "python",
   "nbconvert_exporter": "python",
   "pygments_lexer": "ipython3",
   "version": "3.6.12"
  },
  "papermill": {
   "duration": 168.082522,
   "end_time": "2020-12-20T10:07:53.893998",
   "environment_variables": {},
   "exception": null,
   "input_path": "2020-08-11-NeuralNetwork.ipynb",
   "output_path": "2020-08-11-NeuralNetwork.ipynb",
   "parameters": {},
   "start_time": "2020-12-20T10:05:05.811476",
   "version": "2.1.2"
  }
 },
 "nbformat": 4,
 "nbformat_minor": 4
}