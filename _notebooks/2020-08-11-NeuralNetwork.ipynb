{
 "cells": [
  {
   "cell_type": "markdown",
   "metadata": {
    "papermill": {
     "duration": 0.037537,
     "end_time": "2020-11-25T20:04:28.524339",
     "exception": false,
     "start_time": "2020-11-25T20:04:28.486802",
     "status": "completed"
    },
    "tags": []
   },
   "source": [
    "# \"A Basic Neural Network: Differentiate Hand-Written Digits\"\n",
    "\n",
    "- badges: true\n",
    "- author: Akshith Sriram"
   ]
  },
  {
   "cell_type": "markdown",
   "metadata": {
    "papermill": {
     "duration": 0.024528,
     "end_time": "2020-11-25T20:04:28.577225",
     "exception": false,
     "start_time": "2020-11-25T20:04:28.552697",
     "status": "completed"
    },
    "tags": []
   },
   "source": [
    "### Key Objectives:\n",
    "- Building a neural network that differentiates two hand-written digits 3 and 8.\n",
    "- Comparing the results of this Neural Network (NN) to that of a Logistic Regression (LR) model.\n",
    "\n",
    "### Requirements:\n",
    "- 'Kudzu' : A neural network library that was designed during our course by [Univ.AI](www.univ.ai). \n",
    "- MNIST Database\n",
    "\n",
    "If MNIST is not installed, use the command `!pip install mnist` given below.\n",
    "It can be run both from the command line and Jupyter Notebook."
   ]
  },
  {
   "cell_type": "code",
   "execution_count": 1,
   "metadata": {
    "execution": {
     "iopub.execute_input": "2020-11-25T20:04:28.637614Z",
     "iopub.status.busy": "2020-11-25T20:04:28.637011Z",
     "iopub.status.idle": "2020-11-25T20:04:31.228028Z",
     "shell.execute_reply": "2020-11-25T20:04:31.228535Z"
    },
    "papermill": {
     "duration": 2.626523,
     "end_time": "2020-11-25T20:04:31.228735",
     "exception": false,
     "start_time": "2020-11-25T20:04:28.602212",
     "status": "completed"
    },
    "tags": []
   },
   "outputs": [
    {
     "name": "stdout",
     "output_type": "stream",
     "text": [
      "Collecting mnist\r\n"
     ]
    },
    {
     "name": "stdout",
     "output_type": "stream",
     "text": [
      "  Downloading mnist-0.2.2-py2.py3-none-any.whl (3.5 kB)\r\n",
      "Requirement already satisfied: numpy in /opt/hostedtoolcache/Python/3.6.12/x64/lib/python3.6/site-packages (from mnist) (1.19.4)\r\n"
     ]
    },
    {
     "name": "stdout",
     "output_type": "stream",
     "text": [
      "Installing collected packages: mnist\r\n"
     ]
    },
    {
     "name": "stdout",
     "output_type": "stream",
     "text": [
      "Successfully installed mnist-0.2.2\r\n"
     ]
    }
   ],
   "source": [
    "!pip install mnist "
   ]
  },
  {
   "cell_type": "markdown",
   "metadata": {
    "papermill": {
     "duration": 0.027285,
     "end_time": "2020-11-25T20:04:31.284656",
     "exception": false,
     "start_time": "2020-11-25T20:04:31.257371",
     "status": "completed"
    },
    "tags": []
   },
   "source": [
    "#### Importing necessary libraries"
   ]
  },
  {
   "cell_type": "code",
   "execution_count": 2,
   "metadata": {
    "execution": {
     "iopub.execute_input": "2020-11-25T20:04:31.354299Z",
     "iopub.status.busy": "2020-11-25T20:04:31.353725Z",
     "iopub.status.idle": "2020-11-25T20:04:31.929863Z",
     "shell.execute_reply": "2020-11-25T20:04:31.930693Z"
    },
    "papermill": {
     "duration": 0.614408,
     "end_time": "2020-11-25T20:04:31.930946",
     "exception": false,
     "start_time": "2020-11-25T20:04:31.316538",
     "status": "completed"
    },
    "tags": []
   },
   "outputs": [],
   "source": [
    "%load_ext autoreload\n",
    "%autoreload 2\n",
    "\n",
    "%matplotlib inline\n",
    "import matplotlib.pyplot as plt\n",
    "\n",
    "import numpy as np\n",
    "import pandas as pd"
   ]
  },
  {
   "cell_type": "markdown",
   "metadata": {
    "papermill": {
     "duration": 0.026431,
     "end_time": "2020-11-25T20:04:31.984898",
     "exception": false,
     "start_time": "2020-11-25T20:04:31.958467",
     "status": "completed"
    },
    "tags": []
   },
   "source": [
    "### Preparing the Data"
   ]
  },
  {
   "cell_type": "code",
   "execution_count": 3,
   "metadata": {
    "execution": {
     "iopub.execute_input": "2020-11-25T20:04:32.045777Z",
     "iopub.status.busy": "2020-11-25T20:04:32.045200Z",
     "iopub.status.idle": "2020-11-25T20:04:32.056658Z",
     "shell.execute_reply": "2020-11-25T20:04:32.057184Z"
    },
    "papermill": {
     "duration": 0.045006,
     "end_time": "2020-11-25T20:04:32.057368",
     "exception": false,
     "start_time": "2020-11-25T20:04:32.012362",
     "status": "completed"
    },
    "tags": []
   },
   "outputs": [],
   "source": [
    "import mnist"
   ]
  },
  {
   "cell_type": "code",
   "execution_count": 4,
   "metadata": {
    "execution": {
     "iopub.execute_input": "2020-11-25T20:04:32.118322Z",
     "iopub.status.busy": "2020-11-25T20:04:32.117697Z",
     "iopub.status.idle": "2020-11-25T20:04:34.947175Z",
     "shell.execute_reply": "2020-11-25T20:04:34.946574Z"
    },
    "papermill": {
     "duration": 2.859697,
     "end_time": "2020-11-25T20:04:34.947383",
     "exception": false,
     "start_time": "2020-11-25T20:04:32.087686",
     "status": "completed"
    },
    "tags": []
   },
   "outputs": [],
   "source": [
    "train_images = mnist.train_images()\n",
    "train_labels = mnist.train_labels()"
   ]
  },
  {
   "cell_type": "code",
   "execution_count": 5,
   "metadata": {
    "execution": {
     "iopub.execute_input": "2020-11-25T20:04:35.012227Z",
     "iopub.status.busy": "2020-11-25T20:04:35.011569Z",
     "iopub.status.idle": "2020-11-25T20:04:35.031234Z",
     "shell.execute_reply": "2020-11-25T20:04:35.030496Z"
    },
    "papermill": {
     "duration": 0.053147,
     "end_time": "2020-11-25T20:04:35.031414",
     "exception": false,
     "start_time": "2020-11-25T20:04:34.978267",
     "status": "completed"
    },
    "tags": []
   },
   "outputs": [
    {
     "data": {
      "text/plain": [
       "((60000, 28, 28), (60000,))"
      ]
     },
     "execution_count": 5,
     "metadata": {},
     "output_type": "execute_result"
    }
   ],
   "source": [
    "train_images.shape, train_labels.shape"
   ]
  },
  {
   "cell_type": "code",
   "execution_count": 6,
   "metadata": {
    "execution": {
     "iopub.execute_input": "2020-11-25T20:04:35.098248Z",
     "iopub.status.busy": "2020-11-25T20:04:35.097437Z",
     "iopub.status.idle": "2020-11-25T20:04:35.962885Z",
     "shell.execute_reply": "2020-11-25T20:04:35.962294Z"
    },
    "papermill": {
     "duration": 0.900733,
     "end_time": "2020-11-25T20:04:35.963068",
     "exception": false,
     "start_time": "2020-11-25T20:04:35.062335",
     "status": "completed"
    },
    "tags": []
   },
   "outputs": [],
   "source": [
    "test_images = mnist.test_images()\n",
    "test_labels = mnist.test_labels()"
   ]
  },
  {
   "cell_type": "code",
   "execution_count": 7,
   "metadata": {
    "execution": {
     "iopub.execute_input": "2020-11-25T20:04:36.033529Z",
     "iopub.status.busy": "2020-11-25T20:04:36.032868Z",
     "iopub.status.idle": "2020-11-25T20:04:36.048391Z",
     "shell.execute_reply": "2020-11-25T20:04:36.047801Z"
    },
    "papermill": {
     "duration": 0.050705,
     "end_time": "2020-11-25T20:04:36.048513",
     "exception": false,
     "start_time": "2020-11-25T20:04:35.997808",
     "status": "completed"
    },
    "tags": []
   },
   "outputs": [
    {
     "data": {
      "text/plain": [
       "((10000, 28, 28), (10000,))"
      ]
     },
     "execution_count": 7,
     "metadata": {},
     "output_type": "execute_result"
    }
   ],
   "source": [
    "test_images.shape, test_labels.shape"
   ]
  },
  {
   "cell_type": "code",
   "execution_count": 8,
   "metadata": {
    "execution": {
     "iopub.execute_input": "2020-11-25T20:04:36.113375Z",
     "iopub.status.busy": "2020-11-25T20:04:36.112628Z",
     "iopub.status.idle": "2020-11-25T20:04:36.301740Z",
     "shell.execute_reply": "2020-11-25T20:04:36.301180Z"
    },
    "papermill": {
     "duration": 0.223994,
     "end_time": "2020-11-25T20:04:36.301901",
     "exception": false,
     "start_time": "2020-11-25T20:04:36.077907",
     "status": "completed"
    },
    "tags": []
   },
   "outputs": [
    {
     "name": "stdout",
     "output_type": "stream",
     "text": [
      "2\n"
     ]
    },
    {
     "data": {
      "text/plain": [
       "<matplotlib.image.AxesImage at 0x7f016bc8b080>"
      ]
     },
     "execution_count": 8,
     "metadata": {},
     "output_type": "execute_result"
    },
    {
     "data": {
      "image/png": "[encoded data removed]",
      "text/plain": [
       "<Figure size 432x288 with 1 Axes>"
      ]
     },
     "metadata": {
      "needs_background": "light"
     },
     "output_type": "display_data"
    }
   ],
   "source": [
    "image_index = 7776 # You may select anything up to 60,000\n",
    "print(train_labels[image_index]) \n",
    "plt.imshow(train_images[image_index], cmap='Greys')"
   ]
  },
  {
   "cell_type": "markdown",
   "metadata": {
    "papermill": {
     "duration": 0.031993,
     "end_time": "2020-11-25T20:04:36.365353",
     "exception": false,
     "start_time": "2020-11-25T20:04:36.333360",
     "status": "completed"
    },
    "tags": []
   },
   "source": [
    "## Filter data to get 3 and 8 out"
   ]
  },
  {
   "cell_type": "code",
   "execution_count": 9,
   "metadata": {
    "execution": {
     "iopub.execute_input": "2020-11-25T20:04:36.435950Z",
     "iopub.status.busy": "2020-11-25T20:04:36.435224Z",
     "iopub.status.idle": "2020-11-25T20:04:36.457055Z",
     "shell.execute_reply": "2020-11-25T20:04:36.457584Z"
    },
    "papermill": {
     "duration": 0.058926,
     "end_time": "2020-11-25T20:04:36.457780",
     "exception": false,
     "start_time": "2020-11-25T20:04:36.398854",
     "status": "completed"
    },
    "tags": []
   },
   "outputs": [],
   "source": [
    "train_filter = np.where((train_labels == 3 ) | (train_labels == 8))\n",
    "test_filter = np.where((test_labels == 3) | (test_labels == 8))\n",
    "X_train, y_train = train_images[train_filter], train_labels[train_filter]\n",
    "X_test, y_test = test_images[test_filter], test_labels[test_filter]"
   ]
  },
  {
   "cell_type": "markdown",
   "metadata": {
    "papermill": {
     "duration": 0.032479,
     "end_time": "2020-11-25T20:04:36.522984",
     "exception": false,
     "start_time": "2020-11-25T20:04:36.490505",
     "status": "completed"
    },
    "tags": []
   },
   "source": [
    "We normalize the pixel values in the 0 to 1 range"
   ]
  },
  {
   "cell_type": "code",
   "execution_count": 10,
   "metadata": {
    "execution": {
     "iopub.execute_input": "2020-11-25T20:04:36.590914Z",
     "iopub.status.busy": "2020-11-25T20:04:36.590305Z",
     "iopub.status.idle": "2020-11-25T20:04:36.657165Z",
     "shell.execute_reply": "2020-11-25T20:04:36.657752Z"
    },
    "papermill": {
     "duration": 0.103413,
     "end_time": "2020-11-25T20:04:36.657944",
     "exception": false,
     "start_time": "2020-11-25T20:04:36.554531",
     "status": "completed"
    },
    "tags": []
   },
   "outputs": [],
   "source": [
    "X_train = X_train/255.\n",
    "X_test = X_test/255."
   ]
  },
  {
   "cell_type": "markdown",
   "metadata": {
    "papermill": {
     "duration": 0.032779,
     "end_time": "2020-11-25T20:04:36.723637",
     "exception": false,
     "start_time": "2020-11-25T20:04:36.690858",
     "status": "completed"
    },
    "tags": []
   },
   "source": [
    "Setup the labels as 1 (when the digit is 3) and 0 (when the digit is 8)"
   ]
  },
  {
   "cell_type": "code",
   "execution_count": 11,
   "metadata": {
    "execution": {
     "iopub.execute_input": "2020-11-25T20:04:36.795158Z",
     "iopub.status.busy": "2020-11-25T20:04:36.794547Z",
     "iopub.status.idle": "2020-11-25T20:04:36.811861Z",
     "shell.execute_reply": "2020-11-25T20:04:36.811313Z"
    },
    "papermill": {
     "duration": 0.054546,
     "end_time": "2020-11-25T20:04:36.811999",
     "exception": false,
     "start_time": "2020-11-25T20:04:36.757453",
     "status": "completed"
    },
    "tags": []
   },
   "outputs": [],
   "source": [
    "y_train = 1*(y_train==3)\n",
    "y_test = 1*(y_test==3)"
   ]
  },
  {
   "cell_type": "code",
   "execution_count": 12,
   "metadata": {
    "execution": {
     "iopub.execute_input": "2020-11-25T20:04:36.880728Z",
     "iopub.status.busy": "2020-11-25T20:04:36.879900Z",
     "iopub.status.idle": "2020-11-25T20:04:36.896369Z",
     "shell.execute_reply": "2020-11-25T20:04:36.895814Z"
    },
    "papermill": {
     "duration": 0.051739,
     "end_time": "2020-11-25T20:04:36.896507",
     "exception": false,
     "start_time": "2020-11-25T20:04:36.844768",
     "status": "completed"
    },
    "tags": []
   },
   "outputs": [
    {
     "data": {
      "text/plain": [
       "((11982, 28, 28), (1984, 28, 28))"
      ]
     },
     "execution_count": 12,
     "metadata": {},
     "output_type": "execute_result"
    }
   ],
   "source": [
    "X_train.shape, X_test.shape"
   ]
  },
  {
   "cell_type": "markdown",
   "metadata": {
    "papermill": {
     "duration": 0.034562,
     "end_time": "2020-11-25T20:04:36.966615",
     "exception": false,
     "start_time": "2020-11-25T20:04:36.932053",
     "status": "completed"
    },
    "tags": []
   },
   "source": [
    "### Reshape the input data to create a linear array"
   ]
  },
  {
   "cell_type": "code",
   "execution_count": 13,
   "metadata": {
    "execution": {
     "iopub.execute_input": "2020-11-25T20:04:37.035021Z",
     "iopub.status.busy": "2020-11-25T20:04:37.034448Z",
     "iopub.status.idle": "2020-11-25T20:04:37.048689Z",
     "shell.execute_reply": "2020-11-25T20:04:37.049191Z"
    },
    "papermill": {
     "duration": 0.047021,
     "end_time": "2020-11-25T20:04:37.049325",
     "exception": false,
     "start_time": "2020-11-25T20:04:37.002304",
     "status": "completed"
    },
    "tags": []
   },
   "outputs": [
    {
     "data": {
      "text/plain": [
       "((11982, 784), (1984, 784))"
      ]
     },
     "execution_count": 13,
     "metadata": {},
     "output_type": "execute_result"
    }
   ],
   "source": [
    "X_train = X_train.reshape(X_train.shape[0], -1)\n",
    "X_test = X_test.reshape(X_test.shape[0], -1)\n",
    "X_train.shape, X_test.shape"
   ]
  },
  {
   "cell_type": "markdown",
   "metadata": {
    "papermill": {
     "duration": 0.028601,
     "end_time": "2020-11-25T20:04:37.107369",
     "exception": false,
     "start_time": "2020-11-25T20:04:37.078768",
     "status": "completed"
    },
    "tags": []
   },
   "source": [
    "### Importing appropriate functions from 'Kudzu'"
   ]
  },
  {
   "cell_type": "code",
   "execution_count": 14,
   "metadata": {
    "execution": {
     "iopub.execute_input": "2020-11-25T20:04:37.179897Z",
     "iopub.status.busy": "2020-11-25T20:04:37.179196Z",
     "iopub.status.idle": "2020-11-25T20:04:37.200215Z",
     "shell.execute_reply": "2020-11-25T20:04:37.199698Z"
    },
    "papermill": {
     "duration": 0.06193,
     "end_time": "2020-11-25T20:04:37.200353",
     "exception": false,
     "start_time": "2020-11-25T20:04:37.138423",
     "status": "completed"
    },
    "tags": []
   },
   "outputs": [],
   "source": [
    "from kudzu.layer import Sigmoid\n",
    "from kudzu.layer import Relu\n",
    "from kudzu.layer import Affine, Sigmoid\n",
    "\n",
    "from kudzu.model import Model\n",
    "from kudzu.train import Learner\n",
    "from kudzu.optim import GD\n",
    "from kudzu.data import Data, Dataloader, Sampler\n",
    "\n",
    "from kudzu.callbacks import AccCallback\n",
    "from kudzu.callbacks import ClfCallback\n",
    "\n",
    "from kudzu.loss import MSE"
   ]
  },
  {
   "cell_type": "markdown",
   "metadata": {
    "papermill": {
     "duration": 0.031258,
     "end_time": "2020-11-25T20:04:37.264710",
     "exception": false,
     "start_time": "2020-11-25T20:04:37.233452",
     "status": "completed"
    },
    "tags": []
   },
   "source": [
    "### Let us create a `Config` class, to store important parameters. \n",
    "This class essentially plays the role of a dictionary."
   ]
  },
  {
   "cell_type": "code",
   "execution_count": 15,
   "metadata": {
    "execution": {
     "iopub.execute_input": "2020-11-25T20:04:37.333883Z",
     "iopub.status.busy": "2020-11-25T20:04:37.332667Z",
     "iopub.status.idle": "2020-11-25T20:04:37.343928Z",
     "shell.execute_reply": "2020-11-25T20:04:37.344434Z"
    },
    "papermill": {
     "duration": 0.048279,
     "end_time": "2020-11-25T20:04:37.344721",
     "exception": false,
     "start_time": "2020-11-25T20:04:37.296442",
     "status": "completed"
    },
    "tags": []
   },
   "outputs": [],
   "source": [
    "class Config:\n",
    "    pass\n",
    "config = Config()\n",
    "config.lr = 0.001\n",
    "config.num_epochs = 251\n",
    "config.bs = 50"
   ]
  },
  {
   "cell_type": "markdown",
   "metadata": {
    "papermill": {
     "duration": 0.033111,
     "end_time": "2020-11-25T20:04:37.410182",
     "exception": false,
     "start_time": "2020-11-25T20:04:37.377071",
     "status": "completed"
    },
    "tags": []
   },
   "source": [
    "### Initializing data to the variables"
   ]
  },
  {
   "cell_type": "code",
   "execution_count": 16,
   "metadata": {
    "execution": {
     "iopub.execute_input": "2020-11-25T20:04:37.481247Z",
     "iopub.status.busy": "2020-11-25T20:04:37.480561Z",
     "iopub.status.idle": "2020-11-25T20:04:37.496268Z",
     "shell.execute_reply": "2020-11-25T20:04:37.495692Z"
    },
    "papermill": {
     "duration": 0.053069,
     "end_time": "2020-11-25T20:04:37.496508",
     "exception": false,
     "start_time": "2020-11-25T20:04:37.443439",
     "status": "completed"
    },
    "tags": []
   },
   "outputs": [],
   "source": [
    "data = Data(X_train, y_train.reshape(-1,1))\n",
    "sampler = Sampler(data, config.bs, shuffle=True)\n",
    "\n",
    "dl = Dataloader(data, sampler)\n",
    "\n",
    "opt = GD(config.lr)\n",
    "loss = MSE()"
   ]
  },
  {
   "cell_type": "code",
   "execution_count": 17,
   "metadata": {
    "execution": {
     "iopub.execute_input": "2020-11-25T20:04:37.569031Z",
     "iopub.status.busy": "2020-11-25T20:04:37.568097Z",
     "iopub.status.idle": "2020-11-25T20:04:37.580114Z",
     "shell.execute_reply": "2020-11-25T20:04:37.580709Z"
    },
    "papermill": {
     "duration": 0.051334,
     "end_time": "2020-11-25T20:04:37.580840",
     "exception": false,
     "start_time": "2020-11-25T20:04:37.529506",
     "status": "completed"
    },
    "tags": []
   },
   "outputs": [],
   "source": [
    "training_xdata = X_train\n",
    "testing_xdata = X_test\n",
    "training_ydata = y_train.reshape(-1,1)\n",
    "testing_ydata = y_test.reshape(-1,1)"
   ]
  },
  {
   "cell_type": "markdown",
   "metadata": {
    "papermill": {
     "duration": 0.028042,
     "end_time": "2020-11-25T20:04:37.640828",
     "exception": false,
     "start_time": "2020-11-25T20:04:37.612786",
     "status": "completed"
    },
    "tags": []
   },
   "source": [
    "### Running Models with the Training data\n",
    "Details about the network layers:\n",
    "- A first affine layer has 784 inputs and does 100 affine transforms. These are followed by a Relu\n",
    "- A second affine layer has 100 inputs from the 100 activations of the past layer, and does 100 affine transforms. These are followed by a Relu\n",
    "- A third affine layer has 100 activations and does 2 affine transformations to create an embedding for visualization. There is no non-linearity here.\n",
    "- A final \"logistic regression\" which has an affine transform from 2 inputs to 1 output, which is squeezed through a sigmoid.\n",
    "\n",
    "Help taken from Anshuman's Notebook."
   ]
  },
  {
   "cell_type": "code",
   "execution_count": 18,
   "metadata": {
    "execution": {
     "iopub.execute_input": "2020-11-25T20:04:37.702086Z",
     "iopub.status.busy": "2020-11-25T20:04:37.701356Z",
     "iopub.status.idle": "2020-11-25T20:04:37.716887Z",
     "shell.execute_reply": "2020-11-25T20:04:37.716437Z"
    },
    "papermill": {
     "duration": 0.048899,
     "end_time": "2020-11-25T20:04:37.716995",
     "exception": false,
     "start_time": "2020-11-25T20:04:37.668096",
     "status": "completed"
    },
    "tags": []
   },
   "outputs": [],
   "source": [
    "# layers for the Neural Network\n",
    "layers = [Affine(\"first\", 784, 100), Relu(\"first\"), Affine(\"second\", 100, 100), Relu(\"second\"), Affine(\"third\", 100, 2), Affine(\"final\", 2, 1), Sigmoid(\"final\")]\n",
    "model_nn = Model(layers)\n",
    "\n",
    "# layers for the Logistic Regression\n",
    "layers_lr = [Affine(\"logits\", 784, 1), Sigmoid(\"sigmoid\")]\n",
    "model_lr = Model(layers_lr)"
   ]
  },
  {
   "cell_type": "code",
   "execution_count": 19,
   "metadata": {
    "execution": {
     "iopub.execute_input": "2020-11-25T20:04:37.781263Z",
     "iopub.status.busy": "2020-11-25T20:04:37.780602Z",
     "iopub.status.idle": "2020-11-25T20:04:37.791781Z",
     "shell.execute_reply": "2020-11-25T20:04:37.792259Z"
    },
    "papermill": {
     "duration": 0.042864,
     "end_time": "2020-11-25T20:04:37.792384",
     "exception": false,
     "start_time": "2020-11-25T20:04:37.749520",
     "status": "completed"
    },
    "tags": []
   },
   "outputs": [],
   "source": [
    "# suffix _nn stands for Neural Network.\n",
    "learner_nn = Learner(loss, model_nn, opt, config.num_epochs)\n",
    "acc_nn = ClfCallback(learner_nn, config.bs, training_xdata , testing_xdata, training_ydata, testing_ydata)\n",
    "learner_nn.set_callbacks([acc_nn])"
   ]
  },
  {
   "cell_type": "code",
   "execution_count": 20,
   "metadata": {
    "execution": {
     "iopub.execute_input": "2020-11-25T20:04:37.851603Z",
     "iopub.status.busy": "2020-11-25T20:04:37.850921Z",
     "iopub.status.idle": "2020-11-25T20:07:05.183645Z",
     "shell.execute_reply": "2020-11-25T20:07:05.184391Z"
    },
    "papermill": {
     "duration": 147.364389,
     "end_time": "2020-11-25T20:07:05.184551",
     "exception": false,
     "start_time": "2020-11-25T20:04:37.820162",
     "status": "completed"
    },
    "tags": []
   },
   "outputs": [
    {
     "name": "stdout",
     "output_type": "stream",
     "text": [
      "====== Neural Network ======\n"
     ]
    },
    {
     "name": "stdout",
     "output_type": "stream",
     "text": [
      "Epoch 0, Loss 0.2468\n",
      "Training Accuracy: 0.6241, Testing Accuracy: 0.6205\n",
      "\n"
     ]
    },
    {
     "name": "stdout",
     "output_type": "stream",
     "text": [
      "Epoch 10, Loss 0.1674\n",
      "Training Accuracy: 0.8962, Testing Accuracy: 0.9088\n",
      "\n"
     ]
    },
    {
     "name": "stdout",
     "output_type": "stream",
     "text": [
      "Epoch 20, Loss 0.0826\n",
      "Training Accuracy: 0.9255, Testing Accuracy: 0.9390\n",
      "\n"
     ]
    },
    {
     "name": "stdout",
     "output_type": "stream",
     "text": [
      "Epoch 30, Loss 0.0557\n",
      "Training Accuracy: 0.9433, Testing Accuracy: 0.9541\n",
      "\n"
     ]
    },
    {
     "name": "stdout",
     "output_type": "stream",
     "text": [
      "Epoch 40, Loss 0.045\n",
      "Training Accuracy: 0.9507, Testing Accuracy: 0.9602\n",
      "\n"
     ]
    },
    {
     "name": "stdout",
     "output_type": "stream",
     "text": [
      "Epoch 50, Loss 0.0394\n",
      "Training Accuracy: 0.9556, Testing Accuracy: 0.9652\n",
      "\n"
     ]
    },
    {
     "name": "stdout",
     "output_type": "stream",
     "text": [
      "Epoch 60, Loss 0.0359\n",
      "Training Accuracy: 0.9586, Testing Accuracy: 0.9677\n",
      "\n"
     ]
    },
    {
     "name": "stdout",
     "output_type": "stream",
     "text": [
      "Epoch 70, Loss 0.0334\n",
      "Training Accuracy: 0.9618, Testing Accuracy: 0.9688\n",
      "\n"
     ]
    },
    {
     "name": "stdout",
     "output_type": "stream",
     "text": [
      "Epoch 80, Loss 0.0315\n",
      "Training Accuracy: 0.9634, Testing Accuracy: 0.9682\n",
      "\n"
     ]
    },
    {
     "name": "stdout",
     "output_type": "stream",
     "text": [
      "Epoch 90, Loss 0.03\n",
      "Training Accuracy: 0.9653, Testing Accuracy: 0.9703\n",
      "\n"
     ]
    },
    {
     "name": "stdout",
     "output_type": "stream",
     "text": [
      "Epoch 100, Loss 0.0288\n",
      "Training Accuracy: 0.9669, Testing Accuracy: 0.9703\n",
      "\n"
     ]
    },
    {
     "name": "stdout",
     "output_type": "stream",
     "text": [
      "Epoch 110, Loss 0.0277\n",
      "Training Accuracy: 0.9677, Testing Accuracy: 0.9708\n",
      "\n"
     ]
    },
    {
     "name": "stdout",
     "output_type": "stream",
     "text": [
      "Epoch 120, Loss 0.0268\n",
      "Training Accuracy: 0.9684, Testing Accuracy: 0.9713\n",
      "\n"
     ]
    },
    {
     "name": "stdout",
     "output_type": "stream",
     "text": [
      "Epoch 130, Loss 0.0261\n",
      "Training Accuracy: 0.9698, Testing Accuracy: 0.9723\n",
      "\n"
     ]
    },
    {
     "name": "stdout",
     "output_type": "stream",
     "text": [
      "Epoch 140, Loss 0.0253\n",
      "Training Accuracy: 0.9708, Testing Accuracy: 0.9723\n",
      "\n"
     ]
    },
    {
     "name": "stdout",
     "output_type": "stream",
     "text": [
      "Epoch 150, Loss 0.0247\n",
      "Training Accuracy: 0.9722, Testing Accuracy: 0.9723\n",
      "\n"
     ]
    },
    {
     "name": "stdout",
     "output_type": "stream",
     "text": [
      "Epoch 160, Loss 0.0241\n",
      "Training Accuracy: 0.9730, Testing Accuracy: 0.9728\n",
      "\n"
     ]
    },
    {
     "name": "stdout",
     "output_type": "stream",
     "text": [
      "Epoch 170, Loss 0.0236\n",
      "Training Accuracy: 0.9739, Testing Accuracy: 0.9733\n",
      "\n"
     ]
    },
    {
     "name": "stdout",
     "output_type": "stream",
     "text": [
      "Epoch 180, Loss 0.023\n",
      "Training Accuracy: 0.9744, Testing Accuracy: 0.9728\n",
      "\n"
     ]
    },
    {
     "name": "stdout",
     "output_type": "stream",
     "text": [
      "Epoch 190, Loss 0.0226\n",
      "Training Accuracy: 0.9750, Testing Accuracy: 0.9728\n",
      "\n"
     ]
    },
    {
     "name": "stdout",
     "output_type": "stream",
     "text": [
      "Epoch 200, Loss 0.0221\n",
      "Training Accuracy: 0.9750, Testing Accuracy: 0.9728\n",
      "\n"
     ]
    },
    {
     "name": "stdout",
     "output_type": "stream",
     "text": [
      "Epoch 210, Loss 0.0217\n",
      "Training Accuracy: 0.9750, Testing Accuracy: 0.9728\n",
      "\n"
     ]
    },
    {
     "name": "stdout",
     "output_type": "stream",
     "text": [
      "Epoch 220, Loss 0.0213\n",
      "Training Accuracy: 0.9754, Testing Accuracy: 0.9728\n",
      "\n"
     ]
    },
    {
     "name": "stdout",
     "output_type": "stream",
     "text": [
      "Epoch 230, Loss 0.0209\n",
      "Training Accuracy: 0.9759, Testing Accuracy: 0.9728\n",
      "\n"
     ]
    },
    {
     "name": "stdout",
     "output_type": "stream",
     "text": [
      "Epoch 240, Loss 0.0205\n",
      "Training Accuracy: 0.9766, Testing Accuracy: 0.9743\n",
      "\n"
     ]
    },
    {
     "name": "stdout",
     "output_type": "stream",
     "text": [
      "Epoch 250, Loss 0.0202\n",
      "Training Accuracy: 0.9772, Testing Accuracy: 0.9738\n",
      "\n"
     ]
    },
    {
     "data": {
      "text/plain": [
       "0.03212463223767106"
      ]
     },
     "execution_count": 20,
     "metadata": {},
     "output_type": "execute_result"
    }
   ],
   "source": [
    "print(\"====== Neural Network ======\")\n",
    "learner_nn.train_loop(dl)"
   ]
  },
  {
   "cell_type": "markdown",
   "metadata": {
    "papermill": {
     "duration": 0.03757,
     "end_time": "2020-11-25T20:07:05.261865",
     "exception": false,
     "start_time": "2020-11-25T20:07:05.224295",
     "status": "completed"
    },
    "tags": []
   },
   "source": [
    "### Logistic Regression based Implementation."
   ]
  },
  {
   "cell_type": "code",
   "execution_count": 21,
   "metadata": {
    "execution": {
     "iopub.execute_input": "2020-11-25T20:07:05.356452Z",
     "iopub.status.busy": "2020-11-25T20:07:05.355677Z",
     "iopub.status.idle": "2020-11-25T20:07:05.369056Z",
     "shell.execute_reply": "2020-11-25T20:07:05.369604Z"
    },
    "papermill": {
     "duration": 0.062297,
     "end_time": "2020-11-25T20:07:05.369772",
     "exception": false,
     "start_time": "2020-11-25T20:07:05.307475",
     "status": "completed"
    },
    "tags": []
   },
   "outputs": [],
   "source": [
    "learner_lr = Learner(loss, model_lr, opt, config.num_epochs)\n",
    "acc_lr = ClfCallback(learner_lr, config.bs, training_xdata , testing_xdata, training_ydata, testing_ydata)\n",
    "learner_lr.set_callbacks([acc_lr])"
   ]
  },
  {
   "cell_type": "code",
   "execution_count": 22,
   "metadata": {
    "execution": {
     "iopub.execute_input": "2020-11-25T20:07:05.455977Z",
     "iopub.status.busy": "2020-11-25T20:07:05.455193Z",
     "iopub.status.idle": "2020-11-25T20:07:26.841635Z",
     "shell.execute_reply": "2020-11-25T20:07:26.842177Z"
    },
    "papermill": {
     "duration": 21.430091,
     "end_time": "2020-11-25T20:07:26.842380",
     "exception": false,
     "start_time": "2020-11-25T20:07:05.412289",
     "status": "completed"
    },
    "tags": []
   },
   "outputs": [
    {
     "name": "stdout",
     "output_type": "stream",
     "text": [
      "====== Logistic Regression ======\n",
      "Epoch 0, Loss 0.2758\n",
      "Training Accuracy: 0.5325, Testing Accuracy: 0.5549\n",
      "\n"
     ]
    },
    {
     "name": "stdout",
     "output_type": "stream",
     "text": [
      "Epoch 10, Loss 0.111\n",
      "Training Accuracy: 0.8927, Testing Accuracy: 0.8982\n",
      "\n"
     ]
    },
    {
     "name": "stdout",
     "output_type": "stream",
     "text": [
      "Epoch 20, Loss 0.0832\n",
      "Training Accuracy: 0.9209, Testing Accuracy: 0.9294\n",
      "\n"
     ]
    },
    {
     "name": "stdout",
     "output_type": "stream",
     "text": [
      "Epoch 30, Loss 0.0706\n",
      "Training Accuracy: 0.9330, Testing Accuracy: 0.9430\n",
      "\n"
     ]
    },
    {
     "name": "stdout",
     "output_type": "stream",
     "text": [
      "Epoch 40, Loss 0.0631\n",
      "Training Accuracy: 0.9407, Testing Accuracy: 0.9466\n",
      "\n"
     ]
    },
    {
     "name": "stdout",
     "output_type": "stream",
     "text": [
      "Epoch 50, Loss 0.0582\n",
      "Training Accuracy: 0.9440, Testing Accuracy: 0.9531\n",
      "\n"
     ]
    },
    {
     "name": "stdout",
     "output_type": "stream",
     "text": [
      "Epoch 60, Loss 0.0546\n",
      "Training Accuracy: 0.9465, Testing Accuracy: 0.9546\n",
      "\n"
     ]
    },
    {
     "name": "stdout",
     "output_type": "stream",
     "text": [
      "Epoch 70, Loss 0.0519\n",
      "Training Accuracy: 0.9491, Testing Accuracy: 0.9592\n",
      "\n"
     ]
    },
    {
     "name": "stdout",
     "output_type": "stream",
     "text": [
      "Epoch 80, Loss 0.0497\n",
      "Training Accuracy: 0.9508, Testing Accuracy: 0.9607\n",
      "\n"
     ]
    },
    {
     "name": "stdout",
     "output_type": "stream",
     "text": [
      "Epoch 90, Loss 0.0479\n",
      "Training Accuracy: 0.9532, Testing Accuracy: 0.9602\n",
      "\n"
     ]
    },
    {
     "name": "stdout",
     "output_type": "stream",
     "text": [
      "Epoch 100, Loss 0.0465\n",
      "Training Accuracy: 0.9542, Testing Accuracy: 0.9627\n",
      "\n"
     ]
    },
    {
     "name": "stdout",
     "output_type": "stream",
     "text": [
      "Epoch 110, Loss 0.0452\n",
      "Training Accuracy: 0.9553, Testing Accuracy: 0.9632\n",
      "\n"
     ]
    },
    {
     "name": "stdout",
     "output_type": "stream",
     "text": [
      "Epoch 120, Loss 0.0441\n",
      "Training Accuracy: 0.9558, Testing Accuracy: 0.9637\n",
      "\n"
     ]
    },
    {
     "name": "stdout",
     "output_type": "stream",
     "text": [
      "Epoch 130, Loss 0.0431\n",
      "Training Accuracy: 0.9562, Testing Accuracy: 0.9647\n",
      "\n"
     ]
    },
    {
     "name": "stdout",
     "output_type": "stream",
     "text": [
      "Epoch 140, Loss 0.0423\n",
      "Training Accuracy: 0.9561, Testing Accuracy: 0.9657\n",
      "\n"
     ]
    },
    {
     "name": "stdout",
     "output_type": "stream",
     "text": [
      "Epoch 150, Loss 0.0415\n",
      "Training Accuracy: 0.9571, Testing Accuracy: 0.9662\n",
      "\n"
     ]
    },
    {
     "name": "stdout",
     "output_type": "stream",
     "text": [
      "Epoch 160, Loss 0.0409\n",
      "Training Accuracy: 0.9577, Testing Accuracy: 0.9662\n",
      "\n"
     ]
    },
    {
     "name": "stdout",
     "output_type": "stream",
     "text": [
      "Epoch 170, Loss 0.0402\n",
      "Training Accuracy: 0.9586, Testing Accuracy: 0.9662\n",
      "\n"
     ]
    },
    {
     "name": "stdout",
     "output_type": "stream",
     "text": [
      "Epoch 180, Loss 0.0397\n",
      "Training Accuracy: 0.9591, Testing Accuracy: 0.9672\n",
      "\n"
     ]
    },
    {
     "name": "stdout",
     "output_type": "stream",
     "text": [
      "Epoch 190, Loss 0.0391\n",
      "Training Accuracy: 0.9594, Testing Accuracy: 0.9672\n",
      "\n"
     ]
    },
    {
     "name": "stdout",
     "output_type": "stream",
     "text": [
      "Epoch 200, Loss 0.0387\n",
      "Training Accuracy: 0.9594, Testing Accuracy: 0.9667\n",
      "\n"
     ]
    },
    {
     "name": "stdout",
     "output_type": "stream",
     "text": [
      "Epoch 210, Loss 0.0382\n",
      "Training Accuracy: 0.9596, Testing Accuracy: 0.9667\n",
      "\n"
     ]
    },
    {
     "name": "stdout",
     "output_type": "stream",
     "text": [
      "Epoch 220, Loss 0.0378\n",
      "Training Accuracy: 0.9600, Testing Accuracy: 0.9667\n",
      "\n"
     ]
    },
    {
     "name": "stdout",
     "output_type": "stream",
     "text": [
      "Epoch 230, Loss 0.0374\n",
      "Training Accuracy: 0.9607, Testing Accuracy: 0.9657\n",
      "\n"
     ]
    },
    {
     "name": "stdout",
     "output_type": "stream",
     "text": [
      "Epoch 240, Loss 0.037\n",
      "Training Accuracy: 0.9607, Testing Accuracy: 0.9657\n",
      "\n"
     ]
    },
    {
     "name": "stdout",
     "output_type": "stream",
     "text": [
      "Epoch 250, Loss 0.0367\n",
      "Training Accuracy: 0.9611, Testing Accuracy: 0.9662\n",
      "\n"
     ]
    },
    {
     "data": {
      "text/plain": [
       "0.08380565921317541"
      ]
     },
     "execution_count": 22,
     "metadata": {},
     "output_type": "execute_result"
    }
   ],
   "source": [
    "print(\"====== Logistic Regression ======\")\n",
    "learner_lr.train_loop(dl)"
   ]
  },
  {
   "cell_type": "markdown",
   "metadata": {
    "papermill": {
     "duration": 0.051573,
     "end_time": "2020-11-25T20:07:26.950043",
     "exception": false,
     "start_time": "2020-11-25T20:07:26.898470",
     "status": "completed"
    },
    "tags": []
   },
   "source": [
    "### Comparing results of NN and LR"
   ]
  },
  {
   "cell_type": "code",
   "execution_count": 23,
   "metadata": {
    "execution": {
     "iopub.execute_input": "2020-11-25T20:07:27.056479Z",
     "iopub.status.busy": "2020-11-25T20:07:27.055835Z",
     "iopub.status.idle": "2020-11-25T20:07:27.374368Z",
     "shell.execute_reply": "2020-11-25T20:07:27.373886Z"
    },
    "papermill": {
     "duration": 0.373875,
     "end_time": "2020-11-25T20:07:27.374511",
     "exception": false,
     "start_time": "2020-11-25T20:07:27.000636",
     "status": "completed"
    },
    "tags": []
   },
   "outputs": [
    {
     "data": {
      "text/plain": [
       "<matplotlib.legend.Legend at 0x7f016985d978>"
      ]
     },
     "execution_count": 23,
     "metadata": {},
     "output_type": "execute_result"
    },
    {
     "data": {
      "image/png": "[encoded data removed]",
      "text/plain": [
       "<Figure size 1080x720 with 1 Axes>"
      ]
     },
     "metadata": {
      "needs_background": "light"
     },
     "output_type": "display_data"
    }
   ],
   "source": [
    "plt.figure(figsize=(15,10))\n",
    "\n",
    "# Neural Network plots\n",
    "plt.plot(acc_nn.accuracies, 'r-', label = \"Training Accuracies - NN\")\n",
    "plt.plot(acc_nn.test_accuracies, 'g-', label = \"Testing Accuracies - NN\")\n",
    "\n",
    "# Logistic Regression plots\n",
    "plt.plot(acc_lr.accuracies, 'k-', label = \"Training Accuracies - LR\")\n",
    "plt.plot(acc_lr.test_accuracies, 'b-', label = \"Testing Accuracies - LR\")\n",
    "\n",
    "plt.ylim(0.8, 1)\n",
    "\n",
    "plt.legend()\n",
    "\n"
   ]
  },
  {
   "cell_type": "markdown",
   "metadata": {
    "papermill": {
     "duration": 0.056422,
     "end_time": "2020-11-25T20:07:27.488788",
     "exception": false,
     "start_time": "2020-11-25T20:07:27.432366",
     "status": "completed"
    },
    "tags": []
   },
   "source": [
    "### From the plot, we can observe the following:\n",
    "- Neural Network achieves higher accuracy than the Logistic Regression model.\n",
    "- This apparently, is because of overfitting, i.e. NN captures more noise than data.\n",
    "- Testing accuracy of NN drops below the Training accuracy at higher epochs. This explains the over-fitting on training data.\n",
    "- Logistic Regression gives a reliable accuracy, without the above mentioned problem.\n"
   ]
  },
  {
   "cell_type": "markdown",
   "metadata": {
    "papermill": {
     "duration": 0.053526,
     "end_time": "2020-11-25T20:07:27.597977",
     "exception": false,
     "start_time": "2020-11-25T20:07:27.544451",
     "status": "completed"
    },
    "tags": []
   },
   "source": [
    "### Moving till the last but one layer (excluding it).\n",
    "#### Plotting the outputs of this layer of the NN."
   ]
  },
  {
   "cell_type": "code",
   "execution_count": 24,
   "metadata": {
    "execution": {
     "iopub.execute_input": "2020-11-25T20:07:27.702969Z",
     "iopub.status.busy": "2020-11-25T20:07:27.702242Z",
     "iopub.status.idle": "2020-11-25T20:07:27.715783Z",
     "shell.execute_reply": "2020-11-25T20:07:27.716285Z"
    },
    "papermill": {
     "duration": 0.068804,
     "end_time": "2020-11-25T20:07:27.716507",
     "exception": false,
     "start_time": "2020-11-25T20:07:27.647703",
     "status": "completed"
    },
    "tags": []
   },
   "outputs": [],
   "source": [
    "model_new = Model(layers[:-2])"
   ]
  },
  {
   "cell_type": "code",
   "execution_count": 25,
   "metadata": {
    "execution": {
     "iopub.execute_input": "2020-11-25T20:07:27.819995Z",
     "iopub.status.busy": "2020-11-25T20:07:27.819412Z",
     "iopub.status.idle": "2020-11-25T20:07:27.848887Z",
     "shell.execute_reply": "2020-11-25T20:07:27.849364Z"
    },
    "papermill": {
     "duration": 0.082644,
     "end_time": "2020-11-25T20:07:27.849511",
     "exception": false,
     "start_time": "2020-11-25T20:07:27.766867",
     "status": "completed"
    },
    "tags": []
   },
   "outputs": [],
   "source": [
    "plot_testing = model_new(testing_xdata)"
   ]
  },
  {
   "cell_type": "code",
   "execution_count": 26,
   "metadata": {
    "execution": {
     "iopub.execute_input": "2020-11-25T20:07:27.958080Z",
     "iopub.status.busy": "2020-11-25T20:07:27.957501Z",
     "iopub.status.idle": "2020-11-25T20:07:28.197389Z",
     "shell.execute_reply": "2020-11-25T20:07:28.197980Z"
    },
    "papermill": {
     "duration": 0.296845,
     "end_time": "2020-11-25T20:07:28.198149",
     "exception": false,
     "start_time": "2020-11-25T20:07:27.901304",
     "status": "completed"
    },
    "tags": []
   },
   "outputs": [
    {
     "data": {
      "text/plain": [
       "Text(0.5, 1.0, 'Outputs')"
      ]
     },
     "execution_count": 26,
     "metadata": {},
     "output_type": "execute_result"
    },
    {
     "data": {
      "image/png": "[encoded data removed]",
      "text/plain": [
       "<Figure size 576x504 with 1 Axes>"
      ]
     },
     "metadata": {
      "needs_background": "light"
     },
     "output_type": "display_data"
    }
   ],
   "source": [
    "plt.figure(figsize=(8,7))\n",
    "plt.scatter(plot_testing[:,0], plot_testing[:,1], alpha = 0.1, c = y_test.ravel());\n",
    "plt.title('Outputs')"
   ]
  },
  {
   "cell_type": "markdown",
   "metadata": {
    "papermill": {
     "duration": 0.051514,
     "end_time": "2020-11-25T20:07:28.301595",
     "exception": false,
     "start_time": "2020-11-25T20:07:28.250081",
     "status": "completed"
    },
    "tags": []
   },
   "source": [
    "### Plotting probability contours"
   ]
  },
  {
   "cell_type": "code",
   "execution_count": 27,
   "metadata": {
    "execution": {
     "iopub.execute_input": "2020-11-25T20:07:28.414038Z",
     "iopub.status.busy": "2020-11-25T20:07:28.413221Z",
     "iopub.status.idle": "2020-11-25T20:07:28.429370Z",
     "shell.execute_reply": "2020-11-25T20:07:28.428811Z"
    },
    "papermill": {
     "duration": 0.076012,
     "end_time": "2020-11-25T20:07:28.429713",
     "exception": false,
     "start_time": "2020-11-25T20:07:28.353701",
     "status": "completed"
    },
    "tags": []
   },
   "outputs": [],
   "source": [
    "model_prob = Model(layers[-2:]) "
   ]
  },
  {
   "cell_type": "code",
   "execution_count": 28,
   "metadata": {
    "execution": {
     "iopub.execute_input": "2020-11-25T20:07:28.544608Z",
     "iopub.status.busy": "2020-11-25T20:07:28.543793Z",
     "iopub.status.idle": "2020-11-25T20:07:28.559672Z",
     "shell.execute_reply": "2020-11-25T20:07:28.560126Z"
    },
    "papermill": {
     "duration": 0.073778,
     "end_time": "2020-11-25T20:07:28.560312",
     "exception": false,
     "start_time": "2020-11-25T20:07:28.486534",
     "status": "completed"
    },
    "tags": []
   },
   "outputs": [],
   "source": [
    "# Adjust the x and y ranges according to the above generated plot.\n",
    "x_range = np.linspace(-4, 1, 100) \n",
    "y_range = np.linspace(-6, 6, 100) \n",
    "x_grid, y_grid = np.meshgrid(x_range, y_range) # x_grid and y_grig are of size 100 X 100\n",
    "\n",
    "# converting x_grid and y_grid to continuous arrays\n",
    "x_grid_flat = np.ravel(x_grid)\n",
    "y_grid_flat = np.ravel(y_grid)\n",
    "\n",
    "# The last layer of the current model takes two columns as input. Hence transpose of np.vstack() is required.\n",
    "X = np.vstack((x_grid_flat, y_grid_flat)).T\n",
    "\n",
    "# x_grid and y_grid are of size 100 x 100\n",
    "probability_contour = model_prob(X).reshape(100,100) "
   ]
  },
  {
   "cell_type": "code",
   "execution_count": 29,
   "metadata": {
    "execution": {
     "iopub.execute_input": "2020-11-25T20:07:28.677202Z",
     "iopub.status.busy": "2020-11-25T20:07:28.676602Z",
     "iopub.status.idle": "2020-11-25T20:07:29.004639Z",
     "shell.execute_reply": "2020-11-25T20:07:29.003963Z"
    },
    "papermill": {
     "duration": 0.387718,
     "end_time": "2020-11-25T20:07:29.004803",
     "exception": false,
     "start_time": "2020-11-25T20:07:28.617085",
     "status": "completed"
    },
    "tags": []
   },
   "outputs": [
    {
     "data": {
      "image/png": "[encoded data removed]",
      "text/plain": [
       "<Figure size 720x648 with 1 Axes>"
      ]
     },
     "metadata": {
      "needs_background": "light"
     },
     "output_type": "display_data"
    }
   ],
   "source": [
    "plt.figure(figsize=(10,9))\n",
    "plt.scatter(plot_testing[:,0], plot_testing[:,1], alpha = 0.1, c = y_test.ravel())\n",
    "contours = plt.contour(x_grid,y_grid,probability_contour)\n",
    "plt.title('Probability Contours')\n",
    "plt.clabel(contours, inline = True );"
   ]
  }
 ],
 "metadata": {
  "kernelspec": {
   "display_name": "Python 3",
   "language": "python",
   "name": "python3"
  },
  "language_info": {
   "codemirror_mode": {
    "name": "ipython",
    "version": 3
   },
   "file_extension": ".py",
   "mimetype": "text/x-python",
   "name": "python",
   "nbconvert_exporter": "python",
   "pygments_lexer": "ipython3",
   "version": "3.6.12"
  },
  "papermill": {
   "duration": 182.047318,
   "end_time": "2020-11-25T20:07:29.381896",
   "environment_variables": {},
   "exception": null,
   "input_path": "2020-08-11-NeuralNetwork.ipynb",
   "output_path": "2020-08-11-NeuralNetwork.ipynb",
   "parameters": {},
   "start_time": "2020-11-25T20:04:27.334578",
   "version": "2.1.2"
  }
 },
 "nbformat": 4,
 "nbformat_minor": 4
}