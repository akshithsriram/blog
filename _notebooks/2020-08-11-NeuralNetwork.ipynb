{
 "cells": [
  {
   "cell_type": "markdown",
   "id": "fitted-suggestion",
   "metadata": {
    "papermill": {
     "duration": 0.032582,
     "end_time": "2021-08-18T20:04:32.729297",
     "exception": false,
     "start_time": "2021-08-18T20:04:32.696715",
     "status": "completed"
    },
    "tags": []
   },
   "source": [
    "# \"A Basic Neural Network: Differentiate Hand-Written Digits\"\n",
    "\n",
    "- badges: true\n",
    "- author: Akshith Sriram"
   ]
  },
  {
   "cell_type": "markdown",
   "id": "signal-flexibility",
   "metadata": {
    "papermill": {
     "duration": 0.024635,
     "end_time": "2021-08-18T20:04:32.779679",
     "exception": false,
     "start_time": "2021-08-18T20:04:32.755044",
     "status": "completed"
    },
    "tags": []
   },
   "source": [
    "### Key Objectives:\n",
    "- Building a neural network that differentiates two hand-written digits 3 and 8.\n",
    "- Comparing the results of this Neural Network (NN) to that of a Logistic Regression (LR) model.\n",
    "\n",
    "### Requirements:\n",
    "- 'Kudzu' : A neural network library that was designed during our course by [Univ.AI](www.univ.ai). \n",
    "- MNIST Database\n",
    "\n",
    "If MNIST is not installed, use the command `!pip install mnist` given below.\n",
    "It can be run both from the command line and Jupyter Notebook."
   ]
  },
  {
   "cell_type": "code",
   "execution_count": 1,
   "id": "british-texture",
   "metadata": {
    "execution": {
     "iopub.execute_input": "2021-08-18T20:04:32.840325Z",
     "iopub.status.busy": "2021-08-18T20:04:32.839762Z",
     "iopub.status.idle": "2021-08-18T20:04:34.606868Z",
     "shell.execute_reply": "2021-08-18T20:04:34.607316Z"
    },
    "papermill": {
     "duration": 1.803309,
     "end_time": "2021-08-18T20:04:34.607513",
     "exception": false,
     "start_time": "2021-08-18T20:04:32.804204",
     "status": "completed"
    },
    "tags": []
   },
   "outputs": [
    {
     "name": "stdout",
     "output_type": "stream",
     "text": [
      "Collecting mnist\r\n"
     ]
    },
    {
     "name": "stdout",
     "output_type": "stream",
     "text": [
      "  Downloading mnist-0.2.2-py2.py3-none-any.whl (3.5 kB)\r\n",
      "Requirement already satisfied: numpy in /opt/hostedtoolcache/Python/3.6.14/x64/lib/python3.6/site-packages (from mnist) (1.19.5)\r\n"
     ]
    },
    {
     "name": "stdout",
     "output_type": "stream",
     "text": [
      "Installing collected packages: mnist\r\n"
     ]
    },
    {
     "name": "stdout",
     "output_type": "stream",
     "text": [
      "Successfully installed mnist-0.2.2\r\n"
     ]
    },
    {
     "name": "stdout",
     "output_type": "stream",
     "text": [
      "\u001b[33mWARNING: You are using pip version 21.2.3; however, version 21.2.4 is available.\r\n",
      "You should consider upgrading via the '/opt/hostedtoolcache/Python/3.6.14/x64/bin/python -m pip install --upgrade pip' command.\u001b[0m\r\n"
     ]
    }
   ],
   "source": [
    "!pip install mnist "
   ]
  },
  {
   "cell_type": "markdown",
   "id": "stunning-extra",
   "metadata": {
    "papermill": {
     "duration": 0.02576,
     "end_time": "2021-08-18T20:04:34.661030",
     "exception": false,
     "start_time": "2021-08-18T20:04:34.635270",
     "status": "completed"
    },
    "tags": []
   },
   "source": [
    "#### Importing necessary libraries"
   ]
  },
  {
   "cell_type": "code",
   "execution_count": 2,
   "id": "wooden-france",
   "metadata": {
    "execution": {
     "iopub.execute_input": "2021-08-18T20:04:34.720258Z",
     "iopub.status.busy": "2021-08-18T20:04:34.719664Z",
     "iopub.status.idle": "2021-08-18T20:04:35.252337Z",
     "shell.execute_reply": "2021-08-18T20:04:35.251880Z"
    },
    "papermill": {
     "duration": 0.56575,
     "end_time": "2021-08-18T20:04:35.252446",
     "exception": false,
     "start_time": "2021-08-18T20:04:34.686696",
     "status": "completed"
    },
    "tags": []
   },
   "outputs": [],
   "source": [
    "%load_ext autoreload\n",
    "%autoreload 2\n",
    "\n",
    "%matplotlib inline\n",
    "import matplotlib.pyplot as plt\n",
    "\n",
    "import numpy as np\n",
    "import pandas as pd"
   ]
  },
  {
   "cell_type": "markdown",
   "id": "stunning-physics",
   "metadata": {
    "papermill": {
     "duration": 0.025535,
     "end_time": "2021-08-18T20:04:35.304139",
     "exception": false,
     "start_time": "2021-08-18T20:04:35.278604",
     "status": "completed"
    },
    "tags": []
   },
   "source": [
    "### Preparing the Data"
   ]
  },
  {
   "cell_type": "code",
   "execution_count": 3,
   "id": "unauthorized-remainder",
   "metadata": {
    "execution": {
     "iopub.execute_input": "2021-08-18T20:04:35.359118Z",
     "iopub.status.busy": "2021-08-18T20:04:35.358617Z",
     "iopub.status.idle": "2021-08-18T20:04:35.368966Z",
     "shell.execute_reply": "2021-08-18T20:04:35.369371Z"
    },
    "papermill": {
     "duration": 0.039469,
     "end_time": "2021-08-18T20:04:35.369484",
     "exception": false,
     "start_time": "2021-08-18T20:04:35.330015",
     "status": "completed"
    },
    "tags": []
   },
   "outputs": [],
   "source": [
    "import mnist"
   ]
  },
  {
   "cell_type": "code",
   "execution_count": 4,
   "id": "correct-antarctica",
   "metadata": {
    "execution": {
     "iopub.execute_input": "2021-08-18T20:04:35.424999Z",
     "iopub.status.busy": "2021-08-18T20:04:35.424529Z",
     "iopub.status.idle": "2021-08-18T20:09:03.460499Z",
     "shell.execute_reply": "2021-08-18T20:09:03.460989Z"
    },
    "papermill": {
     "duration": 268.065806,
     "end_time": "2021-08-18T20:09:03.461138",
     "exception": false,
     "start_time": "2021-08-18T20:04:35.395332",
     "status": "completed"
    },
    "tags": []
   },
   "outputs": [],
   "source": [
    "train_images = mnist.train_images()\n",
    "train_labels = mnist.train_labels()"
   ]
  },
  {
   "cell_type": "code",
   "execution_count": 5,
   "id": "musical-prospect",
   "metadata": {
    "execution": {
     "iopub.execute_input": "2021-08-18T20:09:03.527391Z",
     "iopub.status.busy": "2021-08-18T20:09:03.526773Z",
     "iopub.status.idle": "2021-08-18T20:09:03.531916Z",
     "shell.execute_reply": "2021-08-18T20:09:03.532652Z"
    },
    "papermill": {
     "duration": 0.04482,
     "end_time": "2021-08-18T20:09:03.532803",
     "exception": false,
     "start_time": "2021-08-18T20:09:03.487983",
     "status": "completed"
    },
    "tags": []
   },
   "outputs": [
    {
     "data": {
      "text/plain": [
       "((60000, 28, 28), (60000,))"
      ]
     },
     "execution_count": 5,
     "metadata": {},
     "output_type": "execute_result"
    }
   ],
   "source": [
    "train_images.shape, train_labels.shape"
   ]
  },
  {
   "cell_type": "code",
   "execution_count": 6,
   "id": "preliminary-elizabeth",
   "metadata": {
    "execution": {
     "iopub.execute_input": "2021-08-18T20:09:03.597822Z",
     "iopub.status.busy": "2021-08-18T20:09:03.597330Z",
     "iopub.status.idle": "2021-08-18T20:09:42.221377Z",
     "shell.execute_reply": "2021-08-18T20:09:42.220448Z"
    },
    "papermill": {
     "duration": 38.662519,
     "end_time": "2021-08-18T20:09:42.221586",
     "exception": false,
     "start_time": "2021-08-18T20:09:03.559067",
     "status": "completed"
    },
    "tags": []
   },
   "outputs": [],
   "source": [
    "test_images = mnist.test_images()\n",
    "test_labels = mnist.test_labels()"
   ]
  },
  {
   "cell_type": "code",
   "execution_count": 7,
   "id": "acknowledged-oxygen",
   "metadata": {
    "execution": {
     "iopub.execute_input": "2021-08-18T20:09:42.284150Z",
     "iopub.status.busy": "2021-08-18T20:09:42.283124Z",
     "iopub.status.idle": "2021-08-18T20:09:42.297160Z",
     "shell.execute_reply": "2021-08-18T20:09:42.296773Z"
    },
    "papermill": {
     "duration": 0.045805,
     "end_time": "2021-08-18T20:09:42.297265",
     "exception": false,
     "start_time": "2021-08-18T20:09:42.251460",
     "status": "completed"
    },
    "tags": []
   },
   "outputs": [
    {
     "data": {
      "text/plain": [
       "((10000, 28, 28), (10000,))"
      ]
     },
     "execution_count": 7,
     "metadata": {},
     "output_type": "execute_result"
    }
   ],
   "source": [
    "test_images.shape, test_labels.shape"
   ]
  },
  {
   "cell_type": "code",
   "execution_count": 8,
   "id": "innovative-organic",
   "metadata": {
    "execution": {
     "iopub.execute_input": "2021-08-18T20:09:42.355629Z",
     "iopub.status.busy": "2021-08-18T20:09:42.355044Z",
     "iopub.status.idle": "2021-08-18T20:09:42.499493Z",
     "shell.execute_reply": "2021-08-18T20:09:42.499025Z"
    },
    "papermill": {
     "duration": 0.17604,
     "end_time": "2021-08-18T20:09:42.499620",
     "exception": false,
     "start_time": "2021-08-18T20:09:42.323580",
     "status": "completed"
    },
    "tags": []
   },
   "outputs": [
    {
     "name": "stdout",
     "output_type": "stream",
     "text": [
      "2\n"
     ]
    },
    {
     "data": {
      "text/plain": [
       "<matplotlib.image.AxesImage at 0x7ff8dba19780>"
      ]
     },
     "execution_count": 8,
     "metadata": {},
     "output_type": "execute_result"
    },
    {
     "data": {
      "image/png": "[encoded data removed]",
      "text/plain": [
       "<Figure size 432x288 with 1 Axes>"
      ]
     },
     "metadata": {
      "needs_background": "light"
     },
     "output_type": "display_data"
    }
   ],
   "source": [
    "image_index = 7776 # You may select anything up to 60,000\n",
    "print(train_labels[image_index]) \n",
    "plt.imshow(train_images[image_index], cmap='Greys')"
   ]
  },
  {
   "cell_type": "markdown",
   "id": "facial-modem",
   "metadata": {
    "papermill": {
     "duration": 0.028339,
     "end_time": "2021-08-18T20:09:42.556138",
     "exception": false,
     "start_time": "2021-08-18T20:09:42.527799",
     "status": "completed"
    },
    "tags": []
   },
   "source": [
    "## Filter data to get 3 and 8 out"
   ]
  },
  {
   "cell_type": "code",
   "execution_count": 9,
   "id": "thousand-acquisition",
   "metadata": {
    "execution": {
     "iopub.execute_input": "2021-08-18T20:09:42.619285Z",
     "iopub.status.busy": "2021-08-18T20:09:42.618221Z",
     "iopub.status.idle": "2021-08-18T20:09:42.636769Z",
     "shell.execute_reply": "2021-08-18T20:09:42.636206Z"
    },
    "papermill": {
     "duration": 0.052694,
     "end_time": "2021-08-18T20:09:42.636891",
     "exception": false,
     "start_time": "2021-08-18T20:09:42.584197",
     "status": "completed"
    },
    "tags": []
   },
   "outputs": [],
   "source": [
    "train_filter = np.where((train_labels == 3 ) | (train_labels == 8))\n",
    "test_filter = np.where((test_labels == 3) | (test_labels == 8))\n",
    "X_train, y_train = train_images[train_filter], train_labels[train_filter]\n",
    "X_test, y_test = test_images[test_filter], test_labels[test_filter]"
   ]
  },
  {
   "cell_type": "markdown",
   "id": "ruled-access",
   "metadata": {
    "papermill": {
     "duration": 0.028495,
     "end_time": "2021-08-18T20:09:42.694811",
     "exception": false,
     "start_time": "2021-08-18T20:09:42.666316",
     "status": "completed"
    },
    "tags": []
   },
   "source": [
    "We normalize the pixel values in the 0 to 1 range"
   ]
  },
  {
   "cell_type": "code",
   "execution_count": 10,
   "id": "isolated-denver",
   "metadata": {
    "execution": {
     "iopub.execute_input": "2021-08-18T20:09:42.757514Z",
     "iopub.status.busy": "2021-08-18T20:09:42.757006Z",
     "iopub.status.idle": "2021-08-18T20:09:42.809424Z",
     "shell.execute_reply": "2021-08-18T20:09:42.808579Z"
    },
    "papermill": {
     "duration": 0.086529,
     "end_time": "2021-08-18T20:09:42.809633",
     "exception": false,
     "start_time": "2021-08-18T20:09:42.723104",
     "status": "completed"
    },
    "tags": []
   },
   "outputs": [],
   "source": [
    "X_train = X_train/255.\n",
    "X_test = X_test/255."
   ]
  },
  {
   "cell_type": "markdown",
   "id": "perfect-summary",
   "metadata": {
    "papermill": {
     "duration": 0.029768,
     "end_time": "2021-08-18T20:09:42.869795",
     "exception": false,
     "start_time": "2021-08-18T20:09:42.840027",
     "status": "completed"
    },
    "tags": []
   },
   "source": [
    "Setup the labels as 1 (when the digit is 3) and 0 (when the digit is 8)"
   ]
  },
  {
   "cell_type": "code",
   "execution_count": 11,
   "id": "personalized-growing",
   "metadata": {
    "execution": {
     "iopub.execute_input": "2021-08-18T20:09:42.933664Z",
     "iopub.status.busy": "2021-08-18T20:09:42.933087Z",
     "iopub.status.idle": "2021-08-18T20:09:42.944863Z",
     "shell.execute_reply": "2021-08-18T20:09:42.944428Z"
    },
    "papermill": {
     "duration": 0.04623,
     "end_time": "2021-08-18T20:09:42.944980",
     "exception": false,
     "start_time": "2021-08-18T20:09:42.898750",
     "status": "completed"
    },
    "tags": []
   },
   "outputs": [],
   "source": [
    "y_train = 1*(y_train==3)\n",
    "y_test = 1*(y_test==3)"
   ]
  },
  {
   "cell_type": "code",
   "execution_count": 12,
   "id": "considered-virgin",
   "metadata": {
    "execution": {
     "iopub.execute_input": "2021-08-18T20:09:43.006653Z",
     "iopub.status.busy": "2021-08-18T20:09:43.006093Z",
     "iopub.status.idle": "2021-08-18T20:09:43.017617Z",
     "shell.execute_reply": "2021-08-18T20:09:43.018048Z"
    },
    "papermill": {
     "duration": 0.043904,
     "end_time": "2021-08-18T20:09:43.018170",
     "exception": false,
     "start_time": "2021-08-18T20:09:42.974266",
     "status": "completed"
    },
    "tags": []
   },
   "outputs": [
    {
     "data": {
      "text/plain": [
       "((11982, 28, 28), (1984, 28, 28))"
      ]
     },
     "execution_count": 12,
     "metadata": {},
     "output_type": "execute_result"
    }
   ],
   "source": [
    "X_train.shape, X_test.shape"
   ]
  },
  {
   "cell_type": "markdown",
   "id": "civilian-mobile",
   "metadata": {
    "papermill": {
     "duration": 0.030857,
     "end_time": "2021-08-18T20:09:43.078181",
     "exception": false,
     "start_time": "2021-08-18T20:09:43.047324",
     "status": "completed"
    },
    "tags": []
   },
   "source": [
    "### Reshape the input data to create a linear array"
   ]
  },
  {
   "cell_type": "code",
   "execution_count": 13,
   "id": "colonial-adams",
   "metadata": {
    "execution": {
     "iopub.execute_input": "2021-08-18T20:09:43.144283Z",
     "iopub.status.busy": "2021-08-18T20:09:43.143701Z",
     "iopub.status.idle": "2021-08-18T20:09:43.157277Z",
     "shell.execute_reply": "2021-08-18T20:09:43.156843Z"
    },
    "papermill": {
     "duration": 0.049261,
     "end_time": "2021-08-18T20:09:43.157393",
     "exception": false,
     "start_time": "2021-08-18T20:09:43.108132",
     "status": "completed"
    },
    "tags": []
   },
   "outputs": [
    {
     "data": {
      "text/plain": [
       "((11982, 784), (1984, 784))"
      ]
     },
     "execution_count": 13,
     "metadata": {},
     "output_type": "execute_result"
    }
   ],
   "source": [
    "X_train = X_train.reshape(X_train.shape[0], -1)\n",
    "X_test = X_test.reshape(X_test.shape[0], -1)\n",
    "X_train.shape, X_test.shape"
   ]
  },
  {
   "cell_type": "markdown",
   "id": "smart-details",
   "metadata": {
    "papermill": {
     "duration": 0.027689,
     "end_time": "2021-08-18T20:09:43.212611",
     "exception": false,
     "start_time": "2021-08-18T20:09:43.184922",
     "status": "completed"
    },
    "tags": []
   },
   "source": [
    "### Importing appropriate functions from 'Kudzu'"
   ]
  },
  {
   "cell_type": "code",
   "execution_count": 14,
   "id": "celtic-trial",
   "metadata": {
    "execution": {
     "iopub.execute_input": "2021-08-18T20:09:43.274668Z",
     "iopub.status.busy": "2021-08-18T20:09:43.273680Z",
     "iopub.status.idle": "2021-08-18T20:09:43.294739Z",
     "shell.execute_reply": "2021-08-18T20:09:43.293756Z"
    },
    "papermill": {
     "duration": 0.05436,
     "end_time": "2021-08-18T20:09:43.294864",
     "exception": false,
     "start_time": "2021-08-18T20:09:43.240504",
     "status": "completed"
    },
    "tags": []
   },
   "outputs": [],
   "source": [
    "from kudzu.layer import Sigmoid\n",
    "from kudzu.layer import Relu\n",
    "from kudzu.layer import Affine, Sigmoid\n",
    "\n",
    "from kudzu.model import Model\n",
    "from kudzu.train import Learner\n",
    "from kudzu.optim import GD\n",
    "from kudzu.data import Data, Dataloader, Sampler\n",
    "\n",
    "from kudzu.callbacks import AccCallback\n",
    "from kudzu.callbacks import ClfCallback\n",
    "\n",
    "from kudzu.loss import MSE"
   ]
  },
  {
   "cell_type": "markdown",
   "id": "coupled-customer",
   "metadata": {
    "papermill": {
     "duration": 0.027405,
     "end_time": "2021-08-18T20:09:43.352069",
     "exception": false,
     "start_time": "2021-08-18T20:09:43.324664",
     "status": "completed"
    },
    "tags": []
   },
   "source": [
    "### Let us create a `Config` class, to store important parameters. \n",
    "This class essentially plays the role of a dictionary."
   ]
  },
  {
   "cell_type": "code",
   "execution_count": 15,
   "id": "young-ceiling",
   "metadata": {
    "execution": {
     "iopub.execute_input": "2021-08-18T20:09:43.414805Z",
     "iopub.status.busy": "2021-08-18T20:09:43.412272Z",
     "iopub.status.idle": "2021-08-18T20:09:43.423704Z",
     "shell.execute_reply": "2021-08-18T20:09:43.424065Z"
    },
    "papermill": {
     "duration": 0.043275,
     "end_time": "2021-08-18T20:09:43.424191",
     "exception": false,
     "start_time": "2021-08-18T20:09:43.380916",
     "status": "completed"
    },
    "tags": []
   },
   "outputs": [],
   "source": [
    "class Config:\n",
    "    pass\n",
    "config = Config()\n",
    "config.lr = 0.001\n",
    "config.num_epochs = 251\n",
    "config.bs = 50"
   ]
  },
  {
   "cell_type": "markdown",
   "id": "according-mandate",
   "metadata": {
    "papermill": {
     "duration": 0.029116,
     "end_time": "2021-08-18T20:09:43.481623",
     "exception": false,
     "start_time": "2021-08-18T20:09:43.452507",
     "status": "completed"
    },
    "tags": []
   },
   "source": [
    "### Initializing data to the variables"
   ]
  },
  {
   "cell_type": "code",
   "execution_count": 16,
   "id": "academic-disposition",
   "metadata": {
    "execution": {
     "iopub.execute_input": "2021-08-18T20:09:43.544793Z",
     "iopub.status.busy": "2021-08-18T20:09:43.544245Z",
     "iopub.status.idle": "2021-08-18T20:09:43.556434Z",
     "shell.execute_reply": "2021-08-18T20:09:43.556041Z"
    },
    "papermill": {
     "duration": 0.046298,
     "end_time": "2021-08-18T20:09:43.556542",
     "exception": false,
     "start_time": "2021-08-18T20:09:43.510244",
     "status": "completed"
    },
    "tags": []
   },
   "outputs": [],
   "source": [
    "data = Data(X_train, y_train.reshape(-1,1))\n",
    "sampler = Sampler(data, config.bs, shuffle=True)\n",
    "\n",
    "dl = Dataloader(data, sampler)\n",
    "\n",
    "opt = GD(config.lr)\n",
    "loss = MSE()"
   ]
  },
  {
   "cell_type": "code",
   "execution_count": 17,
   "id": "featured-commission",
   "metadata": {
    "execution": {
     "iopub.execute_input": "2021-08-18T20:09:43.618648Z",
     "iopub.status.busy": "2021-08-18T20:09:43.618153Z",
     "iopub.status.idle": "2021-08-18T20:09:43.632411Z",
     "shell.execute_reply": "2021-08-18T20:09:43.632889Z"
    },
    "papermill": {
     "duration": 0.04878,
     "end_time": "2021-08-18T20:09:43.633035",
     "exception": false,
     "start_time": "2021-08-18T20:09:43.584255",
     "status": "completed"
    },
    "tags": []
   },
   "outputs": [],
   "source": [
    "training_xdata = X_train\n",
    "testing_xdata = X_test\n",
    "training_ydata = y_train.reshape(-1,1)\n",
    "testing_ydata = y_test.reshape(-1,1)"
   ]
  },
  {
   "cell_type": "markdown",
   "id": "played-safety",
   "metadata": {
    "papermill": {
     "duration": 0.028044,
     "end_time": "2021-08-18T20:09:43.690368",
     "exception": false,
     "start_time": "2021-08-18T20:09:43.662324",
     "status": "completed"
    },
    "tags": []
   },
   "source": [
    "### Running Models with the Training data\n",
    "Details about the network layers:\n",
    "- A first affine layer has 784 inputs and does 100 affine transforms. These are followed by a Relu\n",
    "- A second affine layer has 100 inputs from the 100 activations of the past layer, and does 100 affine transforms. These are followed by a Relu\n",
    "- A third affine layer has 100 activations and does 2 affine transformations to create an embedding for visualization. There is no non-linearity here.\n",
    "- A final \"logistic regression\" which has an affine transform from 2 inputs to 1 output, which is squeezed through a sigmoid.\n",
    "\n",
    "Help taken from Anshuman's Notebook."
   ]
  },
  {
   "cell_type": "code",
   "execution_count": 18,
   "id": "asian-bankruptcy",
   "metadata": {
    "execution": {
     "iopub.execute_input": "2021-08-18T20:09:43.754824Z",
     "iopub.status.busy": "2021-08-18T20:09:43.754216Z",
     "iopub.status.idle": "2021-08-18T20:09:43.769338Z",
     "shell.execute_reply": "2021-08-18T20:09:43.769767Z"
    },
    "papermill": {
     "duration": 0.050956,
     "end_time": "2021-08-18T20:09:43.769913",
     "exception": false,
     "start_time": "2021-08-18T20:09:43.718957",
     "status": "completed"
    },
    "tags": []
   },
   "outputs": [],
   "source": [
    "# layers for the Neural Network\n",
    "layers = [Affine(\"first\", 784, 100), Relu(\"first\"), Affine(\"second\", 100, 100), Relu(\"second\"), Affine(\"third\", 100, 2), Affine(\"final\", 2, 1), Sigmoid(\"final\")]\n",
    "model_nn = Model(layers)\n",
    "\n",
    "# layers for the Logistic Regression\n",
    "layers_lr = [Affine(\"logits\", 784, 1), Sigmoid(\"sigmoid\")]\n",
    "model_lr = Model(layers_lr)"
   ]
  },
  {
   "cell_type": "code",
   "execution_count": 19,
   "id": "removed-butler",
   "metadata": {
    "execution": {
     "iopub.execute_input": "2021-08-18T20:09:43.838009Z",
     "iopub.status.busy": "2021-08-18T20:09:43.837419Z",
     "iopub.status.idle": "2021-08-18T20:09:43.848411Z",
     "shell.execute_reply": "2021-08-18T20:09:43.847942Z"
    },
    "papermill": {
     "duration": 0.049116,
     "end_time": "2021-08-18T20:09:43.848528",
     "exception": false,
     "start_time": "2021-08-18T20:09:43.799412",
     "status": "completed"
    },
    "tags": []
   },
   "outputs": [],
   "source": [
    "# suffix _nn stands for Neural Network.\n",
    "learner_nn = Learner(loss, model_nn, opt, config.num_epochs)\n",
    "acc_nn = ClfCallback(learner_nn, config.bs, training_xdata , testing_xdata, training_ydata, testing_ydata)\n",
    "learner_nn.set_callbacks([acc_nn])"
   ]
  },
  {
   "cell_type": "code",
   "execution_count": 20,
   "id": "conceptual-throw",
   "metadata": {
    "execution": {
     "iopub.execute_input": "2021-08-18T20:09:43.912291Z",
     "iopub.status.busy": "2021-08-18T20:09:43.911744Z",
     "iopub.status.idle": "2021-08-18T20:10:59.926492Z",
     "shell.execute_reply": "2021-08-18T20:10:59.927156Z"
    },
    "papermill": {
     "duration": 76.050219,
     "end_time": "2021-08-18T20:10:59.927290",
     "exception": false,
     "start_time": "2021-08-18T20:09:43.877071",
     "status": "completed"
    },
    "tags": []
   },
   "outputs": [
    {
     "name": "stdout",
     "output_type": "stream",
     "text": [
      "====== Neural Network ======\n"
     ]
    },
    {
     "name": "stdout",
     "output_type": "stream",
     "text": [
      "Epoch 0, Loss 0.2331\n",
      "Training Accuracy: 0.7378, Testing Accuracy: 0.7460\n",
      "\n"
     ]
    },
    {
     "name": "stdout",
     "output_type": "stream",
     "text": [
      "Epoch 10, Loss 0.0831\n",
      "Training Accuracy: 0.9205, Testing Accuracy: 0.9355\n",
      "\n"
     ]
    },
    {
     "name": "stdout",
     "output_type": "stream",
     "text": [
      "Epoch 20, Loss 0.0523\n",
      "Training Accuracy: 0.9444, Testing Accuracy: 0.9541\n",
      "\n"
     ]
    },
    {
     "name": "stdout",
     "output_type": "stream",
     "text": [
      "Epoch 30, Loss 0.0418\n",
      "Training Accuracy: 0.9530, Testing Accuracy: 0.9617\n",
      "\n"
     ]
    },
    {
     "name": "stdout",
     "output_type": "stream",
     "text": [
      "Epoch 40, Loss 0.0366\n",
      "Training Accuracy: 0.9589, Testing Accuracy: 0.9652\n",
      "\n"
     ]
    },
    {
     "name": "stdout",
     "output_type": "stream",
     "text": [
      "Epoch 50, Loss 0.0334\n",
      "Training Accuracy: 0.9620, Testing Accuracy: 0.9667\n",
      "\n"
     ]
    },
    {
     "name": "stdout",
     "output_type": "stream",
     "text": [
      "Epoch 60, Loss 0.0311\n",
      "Training Accuracy: 0.9640, Testing Accuracy: 0.9667\n",
      "\n"
     ]
    },
    {
     "name": "stdout",
     "output_type": "stream",
     "text": [
      "Epoch 70, Loss 0.0294\n",
      "Training Accuracy: 0.9663, Testing Accuracy: 0.9677\n",
      "\n"
     ]
    },
    {
     "name": "stdout",
     "output_type": "stream",
     "text": [
      "Epoch 80, Loss 0.028\n",
      "Training Accuracy: 0.9679, Testing Accuracy: 0.9677\n",
      "\n"
     ]
    },
    {
     "name": "stdout",
     "output_type": "stream",
     "text": [
      "Epoch 90, Loss 0.0268\n",
      "Training Accuracy: 0.9692, Testing Accuracy: 0.9682\n",
      "\n"
     ]
    },
    {
     "name": "stdout",
     "output_type": "stream",
     "text": [
      "Epoch 100, Loss 0.0258\n",
      "Training Accuracy: 0.9703, Testing Accuracy: 0.9682\n",
      "\n"
     ]
    },
    {
     "name": "stdout",
     "output_type": "stream",
     "text": [
      "Epoch 110, Loss 0.0249\n",
      "Training Accuracy: 0.9708, Testing Accuracy: 0.9688\n",
      "\n"
     ]
    },
    {
     "name": "stdout",
     "output_type": "stream",
     "text": [
      "Epoch 120, Loss 0.0241\n",
      "Training Accuracy: 0.9720, Testing Accuracy: 0.9693\n",
      "\n"
     ]
    },
    {
     "name": "stdout",
     "output_type": "stream",
     "text": [
      "Epoch 130, Loss 0.0234\n",
      "Training Accuracy: 0.9730, Testing Accuracy: 0.9698\n",
      "\n"
     ]
    },
    {
     "name": "stdout",
     "output_type": "stream",
     "text": [
      "Epoch 140, Loss 0.0228\n",
      "Training Accuracy: 0.9740, Testing Accuracy: 0.9688\n",
      "\n"
     ]
    },
    {
     "name": "stdout",
     "output_type": "stream",
     "text": [
      "Epoch 150, Loss 0.0221\n",
      "Training Accuracy: 0.9744, Testing Accuracy: 0.9693\n",
      "\n"
     ]
    },
    {
     "name": "stdout",
     "output_type": "stream",
     "text": [
      "Epoch 160, Loss 0.0216\n",
      "Training Accuracy: 0.9748, Testing Accuracy: 0.9698\n",
      "\n"
     ]
    },
    {
     "name": "stdout",
     "output_type": "stream",
     "text": [
      "Epoch 170, Loss 0.021\n",
      "Training Accuracy: 0.9758, Testing Accuracy: 0.9708\n",
      "\n"
     ]
    },
    {
     "name": "stdout",
     "output_type": "stream",
     "text": [
      "Epoch 180, Loss 0.0205\n",
      "Training Accuracy: 0.9765, Testing Accuracy: 0.9713\n",
      "\n"
     ]
    },
    {
     "name": "stdout",
     "output_type": "stream",
     "text": [
      "Epoch 190, Loss 0.0201\n",
      "Training Accuracy: 0.9775, Testing Accuracy: 0.9713\n",
      "\n"
     ]
    },
    {
     "name": "stdout",
     "output_type": "stream",
     "text": [
      "Epoch 200, Loss 0.0196\n",
      "Training Accuracy: 0.9779, Testing Accuracy: 0.9713\n",
      "\n"
     ]
    },
    {
     "name": "stdout",
     "output_type": "stream",
     "text": [
      "Epoch 210, Loss 0.0192\n",
      "Training Accuracy: 0.9782, Testing Accuracy: 0.9713\n",
      "\n"
     ]
    },
    {
     "name": "stdout",
     "output_type": "stream",
     "text": [
      "Epoch 220, Loss 0.0188\n",
      "Training Accuracy: 0.9789, Testing Accuracy: 0.9718\n",
      "\n"
     ]
    },
    {
     "name": "stdout",
     "output_type": "stream",
     "text": [
      "Epoch 230, Loss 0.0184\n",
      "Training Accuracy: 0.9792, Testing Accuracy: 0.9723\n",
      "\n"
     ]
    },
    {
     "name": "stdout",
     "output_type": "stream",
     "text": [
      "Epoch 240, Loss 0.018\n",
      "Training Accuracy: 0.9797, Testing Accuracy: 0.9728\n",
      "\n"
     ]
    },
    {
     "name": "stdout",
     "output_type": "stream",
     "text": [
      "Epoch 250, Loss 0.0176\n",
      "Training Accuracy: 0.9799, Testing Accuracy: 0.9728\n",
      "\n"
     ]
    },
    {
     "data": {
      "text/plain": [
       "0.04795371794270363"
      ]
     },
     "execution_count": 20,
     "metadata": {},
     "output_type": "execute_result"
    }
   ],
   "source": [
    "print(\"====== Neural Network ======\")\n",
    "learner_nn.train_loop(dl)"
   ]
  },
  {
   "cell_type": "markdown",
   "id": "competent-suffering",
   "metadata": {
    "papermill": {
     "duration": 0.032488,
     "end_time": "2021-08-18T20:10:59.993619",
     "exception": false,
     "start_time": "2021-08-18T20:10:59.961131",
     "status": "completed"
    },
    "tags": []
   },
   "source": [
    "### Logistic Regression based Implementation."
   ]
  },
  {
   "cell_type": "code",
   "execution_count": 21,
   "id": "qualified-psychiatry",
   "metadata": {
    "execution": {
     "iopub.execute_input": "2021-08-18T20:11:00.065276Z",
     "iopub.status.busy": "2021-08-18T20:11:00.064681Z",
     "iopub.status.idle": "2021-08-18T20:11:00.075310Z",
     "shell.execute_reply": "2021-08-18T20:11:00.075781Z"
    },
    "papermill": {
     "duration": 0.046747,
     "end_time": "2021-08-18T20:11:00.075919",
     "exception": false,
     "start_time": "2021-08-18T20:11:00.029172",
     "status": "completed"
    },
    "tags": []
   },
   "outputs": [],
   "source": [
    "learner_lr = Learner(loss, model_lr, opt, config.num_epochs)\n",
    "acc_lr = ClfCallback(learner_lr, config.bs, training_xdata , testing_xdata, training_ydata, testing_ydata)\n",
    "learner_lr.set_callbacks([acc_lr])"
   ]
  },
  {
   "cell_type": "code",
   "execution_count": 22,
   "id": "average-outside",
   "metadata": {
    "execution": {
     "iopub.execute_input": "2021-08-18T20:11:00.146161Z",
     "iopub.status.busy": "2021-08-18T20:11:00.145651Z",
     "iopub.status.idle": "2021-08-18T20:11:14.296368Z",
     "shell.execute_reply": "2021-08-18T20:11:14.297139Z"
    },
    "papermill": {
     "duration": 14.186635,
     "end_time": "2021-08-18T20:11:14.297288",
     "exception": false,
     "start_time": "2021-08-18T20:11:00.110653",
     "status": "completed"
    },
    "tags": []
   },
   "outputs": [
    {
     "name": "stdout",
     "output_type": "stream",
     "text": [
      "====== Logistic Regression ======\n",
      "Epoch 0, Loss 0.2031\n",
      "Training Accuracy: 0.8005, Testing Accuracy: 0.8281\n",
      "\n"
     ]
    },
    {
     "name": "stdout",
     "output_type": "stream",
     "text": [
      "Epoch 10, Loss 0.098\n",
      "Training Accuracy: 0.9161, Testing Accuracy: 0.9304\n",
      "\n"
     ]
    },
    {
     "name": "stdout",
     "output_type": "stream",
     "text": [
      "Epoch 20, Loss 0.0772\n",
      "Training Accuracy: 0.9311, Testing Accuracy: 0.9441\n",
      "\n"
     ]
    },
    {
     "name": "stdout",
     "output_type": "stream",
     "text": [
      "Epoch 30, Loss 0.0671\n",
      "Training Accuracy: 0.9379, Testing Accuracy: 0.9491\n",
      "\n"
     ]
    },
    {
     "name": "stdout",
     "output_type": "stream",
     "text": [
      "Epoch 40, Loss 0.0608\n",
      "Training Accuracy: 0.9417, Testing Accuracy: 0.9531\n",
      "\n"
     ]
    },
    {
     "name": "stdout",
     "output_type": "stream",
     "text": [
      "Epoch 50, Loss 0.0565\n",
      "Training Accuracy: 0.9447, Testing Accuracy: 0.9582\n",
      "\n"
     ]
    },
    {
     "name": "stdout",
     "output_type": "stream",
     "text": [
      "Epoch 60, Loss 0.0533\n",
      "Training Accuracy: 0.9464, Testing Accuracy: 0.9607\n",
      "\n"
     ]
    },
    {
     "name": "stdout",
     "output_type": "stream",
     "text": [
      "Epoch 70, Loss 0.0509\n",
      "Training Accuracy: 0.9478, Testing Accuracy: 0.9622\n",
      "\n"
     ]
    },
    {
     "name": "stdout",
     "output_type": "stream",
     "text": [
      "Epoch 80, Loss 0.0489\n",
      "Training Accuracy: 0.9499, Testing Accuracy: 0.9632\n",
      "\n"
     ]
    },
    {
     "name": "stdout",
     "output_type": "stream",
     "text": [
      "Epoch 90, Loss 0.0473\n",
      "Training Accuracy: 0.9508, Testing Accuracy: 0.9637\n",
      "\n"
     ]
    },
    {
     "name": "stdout",
     "output_type": "stream",
     "text": [
      "Epoch 100, Loss 0.0459\n",
      "Training Accuracy: 0.9523, Testing Accuracy: 0.9632\n",
      "\n"
     ]
    },
    {
     "name": "stdout",
     "output_type": "stream",
     "text": [
      "Epoch 110, Loss 0.0447\n",
      "Training Accuracy: 0.9534, Testing Accuracy: 0.9637\n",
      "\n"
     ]
    },
    {
     "name": "stdout",
     "output_type": "stream",
     "text": [
      "Epoch 120, Loss 0.0436\n",
      "Training Accuracy: 0.9543, Testing Accuracy: 0.9642\n",
      "\n"
     ]
    },
    {
     "name": "stdout",
     "output_type": "stream",
     "text": [
      "Epoch 130, Loss 0.0427\n",
      "Training Accuracy: 0.9550, Testing Accuracy: 0.9647\n",
      "\n"
     ]
    },
    {
     "name": "stdout",
     "output_type": "stream",
     "text": [
      "Epoch 140, Loss 0.0419\n",
      "Training Accuracy: 0.9559, Testing Accuracy: 0.9647\n",
      "\n"
     ]
    },
    {
     "name": "stdout",
     "output_type": "stream",
     "text": [
      "Epoch 150, Loss 0.0412\n",
      "Training Accuracy: 0.9567, Testing Accuracy: 0.9647\n",
      "\n"
     ]
    },
    {
     "name": "stdout",
     "output_type": "stream",
     "text": [
      "Epoch 160, Loss 0.0405\n",
      "Training Accuracy: 0.9572, Testing Accuracy: 0.9652\n",
      "\n"
     ]
    },
    {
     "name": "stdout",
     "output_type": "stream",
     "text": [
      "Epoch 170, Loss 0.0399\n",
      "Training Accuracy: 0.9582, Testing Accuracy: 0.9652\n",
      "\n"
     ]
    },
    {
     "name": "stdout",
     "output_type": "stream",
     "text": [
      "Epoch 180, Loss 0.0394\n",
      "Training Accuracy: 0.9582, Testing Accuracy: 0.9657\n",
      "\n"
     ]
    },
    {
     "name": "stdout",
     "output_type": "stream",
     "text": [
      "Epoch 190, Loss 0.0389\n",
      "Training Accuracy: 0.9589, Testing Accuracy: 0.9657\n",
      "\n"
     ]
    },
    {
     "name": "stdout",
     "output_type": "stream",
     "text": [
      "Epoch 200, Loss 0.0384\n",
      "Training Accuracy: 0.9591, Testing Accuracy: 0.9657\n",
      "\n"
     ]
    },
    {
     "name": "stdout",
     "output_type": "stream",
     "text": [
      "Epoch 210, Loss 0.038\n",
      "Training Accuracy: 0.9597, Testing Accuracy: 0.9657\n",
      "\n"
     ]
    },
    {
     "name": "stdout",
     "output_type": "stream",
     "text": [
      "Epoch 220, Loss 0.0375\n",
      "Training Accuracy: 0.9599, Testing Accuracy: 0.9657\n",
      "\n"
     ]
    },
    {
     "name": "stdout",
     "output_type": "stream",
     "text": [
      "Epoch 230, Loss 0.0372\n",
      "Training Accuracy: 0.9604, Testing Accuracy: 0.9657\n",
      "\n"
     ]
    },
    {
     "name": "stdout",
     "output_type": "stream",
     "text": [
      "Epoch 240, Loss 0.0368\n",
      "Training Accuracy: 0.9607, Testing Accuracy: 0.9662\n",
      "\n"
     ]
    },
    {
     "name": "stdout",
     "output_type": "stream",
     "text": [
      "Epoch 250, Loss 0.0365\n",
      "Training Accuracy: 0.9610, Testing Accuracy: 0.9662\n",
      "\n"
     ]
    },
    {
     "data": {
      "text/plain": [
       "0.04502439528971719"
      ]
     },
     "execution_count": 22,
     "metadata": {},
     "output_type": "execute_result"
    }
   ],
   "source": [
    "print(\"====== Logistic Regression ======\")\n",
    "learner_lr.train_loop(dl)"
   ]
  },
  {
   "cell_type": "markdown",
   "id": "adjusted-possible",
   "metadata": {
    "papermill": {
     "duration": 0.047131,
     "end_time": "2021-08-18T20:11:14.391163",
     "exception": false,
     "start_time": "2021-08-18T20:11:14.344032",
     "status": "completed"
    },
    "tags": []
   },
   "source": [
    "### Comparing results of NN and LR"
   ]
  },
  {
   "cell_type": "code",
   "execution_count": 23,
   "id": "mental-multimedia",
   "metadata": {
    "execution": {
     "iopub.execute_input": "2021-08-18T20:11:14.489522Z",
     "iopub.status.busy": "2021-08-18T20:11:14.488912Z",
     "iopub.status.idle": "2021-08-18T20:11:14.757061Z",
     "shell.execute_reply": "2021-08-18T20:11:14.756542Z"
    },
    "papermill": {
     "duration": 0.320151,
     "end_time": "2021-08-18T20:11:14.757191",
     "exception": false,
     "start_time": "2021-08-18T20:11:14.437040",
     "status": "completed"
    },
    "tags": []
   },
   "outputs": [
    {
     "data": {
      "text/plain": [
       "<matplotlib.legend.Legend at 0x7ff8d36060f0>"
      ]
     },
     "execution_count": 23,
     "metadata": {},
     "output_type": "execute_result"
    },
    {
     "data": {
      "image/png": "[encoded data removed]",
      "text/plain": [
       "<Figure size 1080x720 with 1 Axes>"
      ]
     },
     "metadata": {
      "needs_background": "light"
     },
     "output_type": "display_data"
    }
   ],
   "source": [
    "plt.figure(figsize=(15,10))\n",
    "\n",
    "# Neural Network plots\n",
    "plt.plot(acc_nn.accuracies, 'r-', label = \"Training Accuracies - NN\")\n",
    "plt.plot(acc_nn.test_accuracies, 'g-', label = \"Testing Accuracies - NN\")\n",
    "\n",
    "# Logistic Regression plots\n",
    "plt.plot(acc_lr.accuracies, 'k-', label = \"Training Accuracies - LR\")\n",
    "plt.plot(acc_lr.test_accuracies, 'b-', label = \"Testing Accuracies - LR\")\n",
    "\n",
    "plt.ylim(0.8, 1)\n",
    "\n",
    "plt.legend()\n",
    "\n"
   ]
  },
  {
   "cell_type": "markdown",
   "id": "sexual-flesh",
   "metadata": {
    "papermill": {
     "duration": 0.046524,
     "end_time": "2021-08-18T20:11:14.852317",
     "exception": false,
     "start_time": "2021-08-18T20:11:14.805793",
     "status": "completed"
    },
    "tags": []
   },
   "source": [
    "### From the plot, we can observe the following:\n",
    "- Neural Network achieves higher accuracy than the Logistic Regression model.\n",
    "- This apparently, is because of overfitting, i.e. NN captures more noise than data.\n",
    "- Testing accuracy of NN drops below the Training accuracy at higher epochs. This explains the over-fitting on training data.\n",
    "- Logistic Regression gives a reliable accuracy, without the above mentioned problem.\n"
   ]
  },
  {
   "cell_type": "markdown",
   "id": "institutional-pacific",
   "metadata": {
    "papermill": {
     "duration": 0.047948,
     "end_time": "2021-08-18T20:11:14.946459",
     "exception": false,
     "start_time": "2021-08-18T20:11:14.898511",
     "status": "completed"
    },
    "tags": []
   },
   "source": [
    "### Moving till the last but one layer (excluding it).\n",
    "#### Plotting the outputs of this layer of the NN."
   ]
  },
  {
   "cell_type": "code",
   "execution_count": 24,
   "id": "economic-server",
   "metadata": {
    "execution": {
     "iopub.execute_input": "2021-08-18T20:11:15.073602Z",
     "iopub.status.busy": "2021-08-18T20:11:15.073032Z",
     "iopub.status.idle": "2021-08-18T20:11:15.085282Z",
     "shell.execute_reply": "2021-08-18T20:11:15.084848Z"
    },
    "papermill": {
     "duration": 0.092466,
     "end_time": "2021-08-18T20:11:15.085396",
     "exception": false,
     "start_time": "2021-08-18T20:11:14.992930",
     "status": "completed"
    },
    "tags": []
   },
   "outputs": [],
   "source": [
    "model_new = Model(layers[:-2])"
   ]
  },
  {
   "cell_type": "code",
   "execution_count": 25,
   "id": "varied-upgrade",
   "metadata": {
    "execution": {
     "iopub.execute_input": "2021-08-18T20:11:15.184017Z",
     "iopub.status.busy": "2021-08-18T20:11:15.183445Z",
     "iopub.status.idle": "2021-08-18T20:11:15.201591Z",
     "shell.execute_reply": "2021-08-18T20:11:15.202040Z"
    },
    "papermill": {
     "duration": 0.071065,
     "end_time": "2021-08-18T20:11:15.202170",
     "exception": false,
     "start_time": "2021-08-18T20:11:15.131105",
     "status": "completed"
    },
    "tags": []
   },
   "outputs": [],
   "source": [
    "plot_testing = model_new(testing_xdata)"
   ]
  },
  {
   "cell_type": "code",
   "execution_count": 26,
   "id": "specific-handling",
   "metadata": {
    "execution": {
     "iopub.execute_input": "2021-08-18T20:11:15.311447Z",
     "iopub.status.busy": "2021-08-18T20:11:15.310886Z",
     "iopub.status.idle": "2021-08-18T20:11:15.542408Z",
     "shell.execute_reply": "2021-08-18T20:11:15.541897Z"
    },
    "papermill": {
     "duration": 0.287937,
     "end_time": "2021-08-18T20:11:15.542529",
     "exception": false,
     "start_time": "2021-08-18T20:11:15.254592",
     "status": "completed"
    },
    "tags": []
   },
   "outputs": [
    {
     "data": {
      "text/plain": [
       "Text(0.5, 1.0, 'Outputs')"
      ]
     },
     "execution_count": 26,
     "metadata": {},
     "output_type": "execute_result"
    },
    {
     "data": {
      "image/png": "[encoded data removed]",
      "text/plain": [
       "<Figure size 576x504 with 1 Axes>"
      ]
     },
     "metadata": {
      "needs_background": "light"
     },
     "output_type": "display_data"
    }
   ],
   "source": [
    "plt.figure(figsize=(8,7))\n",
    "plt.scatter(plot_testing[:,0], plot_testing[:,1], alpha = 0.1, c = y_test.ravel());\n",
    "plt.title('Outputs')"
   ]
  },
  {
   "cell_type": "markdown",
   "id": "described-knowing",
   "metadata": {
    "papermill": {
     "duration": 0.048955,
     "end_time": "2021-08-18T20:11:15.640310",
     "exception": false,
     "start_time": "2021-08-18T20:11:15.591355",
     "status": "completed"
    },
    "tags": []
   },
   "source": [
    "### Plotting probability contours"
   ]
  },
  {
   "cell_type": "code",
   "execution_count": 27,
   "id": "needed-growing",
   "metadata": {
    "execution": {
     "iopub.execute_input": "2021-08-18T20:11:15.744159Z",
     "iopub.status.busy": "2021-08-18T20:11:15.743554Z",
     "iopub.status.idle": "2021-08-18T20:11:15.758006Z",
     "shell.execute_reply": "2021-08-18T20:11:15.758431Z"
    },
    "papermill": {
     "duration": 0.068819,
     "end_time": "2021-08-18T20:11:15.758554",
     "exception": false,
     "start_time": "2021-08-18T20:11:15.689735",
     "status": "completed"
    },
    "tags": []
   },
   "outputs": [],
   "source": [
    "model_prob = Model(layers[-2:]) "
   ]
  },
  {
   "cell_type": "code",
   "execution_count": 28,
   "id": "introductory-enforcement",
   "metadata": {
    "execution": {
     "iopub.execute_input": "2021-08-18T20:11:15.864111Z",
     "iopub.status.busy": "2021-08-18T20:11:15.863557Z",
     "iopub.status.idle": "2021-08-18T20:11:15.887812Z",
     "shell.execute_reply": "2021-08-18T20:11:15.888314Z"
    },
    "papermill": {
     "duration": 0.079744,
     "end_time": "2021-08-18T20:11:15.888453",
     "exception": false,
     "start_time": "2021-08-18T20:11:15.808709",
     "status": "completed"
    },
    "tags": []
   },
   "outputs": [],
   "source": [
    "# Adjust the x and y ranges according to the above generated plot.\n",
    "x_range = np.linspace(-4, 1, 100) \n",
    "y_range = np.linspace(-6, 6, 100) \n",
    "x_grid, y_grid = np.meshgrid(x_range, y_range) # x_grid and y_grig are of size 100 X 100\n",
    "\n",
    "# converting x_grid and y_grid to continuous arrays\n",
    "x_grid_flat = np.ravel(x_grid)\n",
    "y_grid_flat = np.ravel(y_grid)\n",
    "\n",
    "# The last layer of the current model takes two columns as input. Hence transpose of np.vstack() is required.\n",
    "X = np.vstack((x_grid_flat, y_grid_flat)).T\n",
    "\n",
    "# x_grid and y_grid are of size 100 x 100\n",
    "probability_contour = model_prob(X).reshape(100,100) "
   ]
  },
  {
   "cell_type": "code",
   "execution_count": 29,
   "id": "understood-landing",
   "metadata": {
    "execution": {
     "iopub.execute_input": "2021-08-18T20:11:16.011311Z",
     "iopub.status.busy": "2021-08-18T20:11:16.010759Z",
     "iopub.status.idle": "2021-08-18T20:11:16.277833Z",
     "shell.execute_reply": "2021-08-18T20:11:16.276911Z"
    },
    "papermill": {
     "duration": 0.334324,
     "end_time": "2021-08-18T20:11:16.277965",
     "exception": false,
     "start_time": "2021-08-18T20:11:15.943641",
     "status": "completed"
    },
    "tags": []
   },
   "outputs": [
    {
     "data": {
      "image/png": "[encoded data removed]",
      "text/plain": [
       "<Figure size 720x648 with 1 Axes>"
      ]
     },
     "metadata": {
      "needs_background": "light"
     },
     "output_type": "display_data"
    }
   ],
   "source": [
    "plt.figure(figsize=(10,9))\n",
    "plt.scatter(plot_testing[:,0], plot_testing[:,1], alpha = 0.1, c = y_test.ravel())\n",
    "contours = plt.contour(x_grid,y_grid,probability_contour)\n",
    "plt.title('Probability Contours')\n",
    "plt.clabel(contours, inline = True );"
   ]
  }
 ],
 "metadata": {
  "kernelspec": {
   "display_name": "Python 3",
   "language": "python",
   "name": "python3"
  },
  "language_info": {
   "codemirror_mode": {
    "name": "ipython",
    "version": 3
   },
   "file_extension": ".py",
   "mimetype": "text/x-python",
   "name": "python",
   "nbconvert_exporter": "python",
   "pygments_lexer": "ipython3",
   "version": "3.6.14"
  },
  "papermill": {
   "duration": 405.121846,
   "end_time": "2021-08-18T20:11:16.637386",
   "environment_variables": {},
   "exception": null,
   "input_path": "2020-08-11-NeuralNetwork.ipynb",
   "output_path": "2020-08-11-NeuralNetwork.ipynb",
   "parameters": {},
   "start_time": "2021-08-18T20:04:31.515540",
   "version": "2.1.2"
  }
 },
 "nbformat": 4,
 "nbformat_minor": 5
}