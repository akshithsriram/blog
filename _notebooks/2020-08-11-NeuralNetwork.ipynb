{
 "cells": [
  {
   "cell_type": "markdown",
   "id": "fitted-suggestion",
   "metadata": {
    "papermill": {
     "duration": 0.033554,
     "end_time": "2021-02-24T10:04:37.483180",
     "exception": false,
     "start_time": "2021-02-24T10:04:37.449626",
     "status": "completed"
    },
    "tags": []
   },
   "source": [
    "# \"A Basic Neural Network: Differentiate Hand-Written Digits\"\n",
    "\n",
    "- badges: true\n",
    "- author: Akshith Sriram"
   ]
  },
  {
   "cell_type": "markdown",
   "id": "signal-flexibility",
   "metadata": {
    "papermill": {
     "duration": 0.088947,
     "end_time": "2021-02-24T10:04:37.635988",
     "exception": false,
     "start_time": "2021-02-24T10:04:37.547041",
     "status": "completed"
    },
    "tags": []
   },
   "source": [
    "### Key Objectives:\n",
    "- Building a neural network that differentiates two hand-written digits 3 and 8.\n",
    "- Comparing the results of this Neural Network (NN) to that of a Logistic Regression (LR) model.\n",
    "\n",
    "### Requirements:\n",
    "- 'Kudzu' : A neural network library that was designed during our course by [Univ.AI](www.univ.ai). \n",
    "- MNIST Database\n",
    "\n",
    "If MNIST is not installed, use the command `!pip install mnist` given below.\n",
    "It can be run both from the command line and Jupyter Notebook."
   ]
  },
  {
   "cell_type": "code",
   "execution_count": 1,
   "id": "british-texture",
   "metadata": {
    "execution": {
     "iopub.execute_input": "2021-02-24T10:04:37.710821Z",
     "iopub.status.busy": "2021-02-24T10:04:37.710202Z",
     "iopub.status.idle": "2021-02-24T10:04:39.308110Z",
     "shell.execute_reply": "2021-02-24T10:04:39.307572Z"
    },
    "papermill": {
     "duration": 1.639482,
     "end_time": "2021-02-24T10:04:39.308262",
     "exception": false,
     "start_time": "2021-02-24T10:04:37.668780",
     "status": "completed"
    },
    "tags": []
   },
   "outputs": [
    {
     "name": "stdout",
     "output_type": "stream",
     "text": [
      "Collecting mnist\r\n"
     ]
    },
    {
     "name": "stdout",
     "output_type": "stream",
     "text": [
      "  Downloading mnist-0.2.2-py2.py3-none-any.whl (3.5 kB)\r\n",
      "Requirement already satisfied: numpy in /opt/hostedtoolcache/Python/3.6.13/x64/lib/python3.6/site-packages (from mnist) (1.19.5)\r\n"
     ]
    },
    {
     "name": "stdout",
     "output_type": "stream",
     "text": [
      "Installing collected packages: mnist\r\n",
      "Successfully installed mnist-0.2.2\r\n"
     ]
    }
   ],
   "source": [
    "!pip install mnist "
   ]
  },
  {
   "cell_type": "markdown",
   "id": "stunning-extra",
   "metadata": {
    "papermill": {
     "duration": 0.029383,
     "end_time": "2021-02-24T10:04:39.367721",
     "exception": false,
     "start_time": "2021-02-24T10:04:39.338338",
     "status": "completed"
    },
    "tags": []
   },
   "source": [
    "#### Importing necessary libraries"
   ]
  },
  {
   "cell_type": "code",
   "execution_count": 2,
   "id": "wooden-france",
   "metadata": {
    "execution": {
     "iopub.execute_input": "2021-02-24T10:04:39.435003Z",
     "iopub.status.busy": "2021-02-24T10:04:39.434391Z",
     "iopub.status.idle": "2021-02-24T10:04:40.028703Z",
     "shell.execute_reply": "2021-02-24T10:04:40.028167Z"
    },
    "papermill": {
     "duration": 0.63105,
     "end_time": "2021-02-24T10:04:40.028867",
     "exception": false,
     "start_time": "2021-02-24T10:04:39.397817",
     "status": "completed"
    },
    "tags": []
   },
   "outputs": [],
   "source": [
    "%load_ext autoreload\n",
    "%autoreload 2\n",
    "\n",
    "%matplotlib inline\n",
    "import matplotlib.pyplot as plt\n",
    "\n",
    "import numpy as np\n",
    "import pandas as pd"
   ]
  },
  {
   "cell_type": "markdown",
   "id": "stunning-physics",
   "metadata": {
    "papermill": {
     "duration": 0.029476,
     "end_time": "2021-02-24T10:04:40.088716",
     "exception": false,
     "start_time": "2021-02-24T10:04:40.059240",
     "status": "completed"
    },
    "tags": []
   },
   "source": [
    "### Preparing the Data"
   ]
  },
  {
   "cell_type": "code",
   "execution_count": 3,
   "id": "unauthorized-remainder",
   "metadata": {
    "execution": {
     "iopub.execute_input": "2021-02-24T10:04:40.151584Z",
     "iopub.status.busy": "2021-02-24T10:04:40.150971Z",
     "iopub.status.idle": "2021-02-24T10:04:40.163930Z",
     "shell.execute_reply": "2021-02-24T10:04:40.163426Z"
    },
    "papermill": {
     "duration": 0.046039,
     "end_time": "2021-02-24T10:04:40.164058",
     "exception": false,
     "start_time": "2021-02-24T10:04:40.118019",
     "status": "completed"
    },
    "tags": []
   },
   "outputs": [],
   "source": [
    "import mnist"
   ]
  },
  {
   "cell_type": "code",
   "execution_count": 4,
   "id": "correct-antarctica",
   "metadata": {
    "execution": {
     "iopub.execute_input": "2021-02-24T10:04:40.227203Z",
     "iopub.status.busy": "2021-02-24T10:04:40.226623Z",
     "iopub.status.idle": "2021-02-24T10:04:41.385520Z",
     "shell.execute_reply": "2021-02-24T10:04:41.386413Z"
    },
    "papermill": {
     "duration": 1.192995,
     "end_time": "2021-02-24T10:04:41.386666",
     "exception": false,
     "start_time": "2021-02-24T10:04:40.193671",
     "status": "completed"
    },
    "tags": []
   },
   "outputs": [],
   "source": [
    "train_images = mnist.train_images()\n",
    "train_labels = mnist.train_labels()"
   ]
  },
  {
   "cell_type": "code",
   "execution_count": 5,
   "id": "musical-prospect",
   "metadata": {
    "execution": {
     "iopub.execute_input": "2021-02-24T10:04:41.455374Z",
     "iopub.status.busy": "2021-02-24T10:04:41.454304Z",
     "iopub.status.idle": "2021-02-24T10:04:41.469788Z",
     "shell.execute_reply": "2021-02-24T10:04:41.469275Z"
    },
    "papermill": {
     "duration": 0.04962,
     "end_time": "2021-02-24T10:04:41.469909",
     "exception": false,
     "start_time": "2021-02-24T10:04:41.420289",
     "status": "completed"
    },
    "tags": []
   },
   "outputs": [
    {
     "data": {
      "text/plain": [
       "((60000, 28, 28), (60000,))"
      ]
     },
     "execution_count": 5,
     "metadata": {},
     "output_type": "execute_result"
    }
   ],
   "source": [
    "train_images.shape, train_labels.shape"
   ]
  },
  {
   "cell_type": "code",
   "execution_count": 6,
   "id": "preliminary-elizabeth",
   "metadata": {
    "execution": {
     "iopub.execute_input": "2021-02-24T10:04:41.535326Z",
     "iopub.status.busy": "2021-02-24T10:04:41.534711Z",
     "iopub.status.idle": "2021-02-24T10:04:42.100634Z",
     "shell.execute_reply": "2021-02-24T10:04:42.100032Z"
    },
    "papermill": {
     "duration": 0.601228,
     "end_time": "2021-02-24T10:04:42.100764",
     "exception": false,
     "start_time": "2021-02-24T10:04:41.499536",
     "status": "completed"
    },
    "tags": []
   },
   "outputs": [],
   "source": [
    "test_images = mnist.test_images()\n",
    "test_labels = mnist.test_labels()"
   ]
  },
  {
   "cell_type": "code",
   "execution_count": 7,
   "id": "acknowledged-oxygen",
   "metadata": {
    "execution": {
     "iopub.execute_input": "2021-02-24T10:04:42.169070Z",
     "iopub.status.busy": "2021-02-24T10:04:42.168450Z",
     "iopub.status.idle": "2021-02-24T10:04:42.181669Z",
     "shell.execute_reply": "2021-02-24T10:04:42.180992Z"
    },
    "papermill": {
     "duration": 0.050766,
     "end_time": "2021-02-24T10:04:42.181802",
     "exception": false,
     "start_time": "2021-02-24T10:04:42.131036",
     "status": "completed"
    },
    "tags": []
   },
   "outputs": [
    {
     "data": {
      "text/plain": [
       "((10000, 28, 28), (10000,))"
      ]
     },
     "execution_count": 7,
     "metadata": {},
     "output_type": "execute_result"
    }
   ],
   "source": [
    "test_images.shape, test_labels.shape"
   ]
  },
  {
   "cell_type": "code",
   "execution_count": 8,
   "id": "innovative-organic",
   "metadata": {
    "execution": {
     "iopub.execute_input": "2021-02-24T10:04:42.256531Z",
     "iopub.status.busy": "2021-02-24T10:04:42.255929Z",
     "iopub.status.idle": "2021-02-24T10:04:42.421187Z",
     "shell.execute_reply": "2021-02-24T10:04:42.421660Z"
    },
    "papermill": {
     "duration": 0.209749,
     "end_time": "2021-02-24T10:04:42.421820",
     "exception": false,
     "start_time": "2021-02-24T10:04:42.212071",
     "status": "completed"
    },
    "tags": []
   },
   "outputs": [
    {
     "name": "stdout",
     "output_type": "stream",
     "text": [
      "2\n"
     ]
    },
    {
     "data": {
      "text/plain": [
       "<matplotlib.image.AxesImage at 0x7f103d3e84a8>"
      ]
     },
     "execution_count": 8,
     "metadata": {},
     "output_type": "execute_result"
    },
    {
     "data": {
      "image/png": "[encoded data removed]",
      "text/plain": [
       "<Figure size 432x288 with 1 Axes>"
      ]
     },
     "metadata": {
      "needs_background": "light"
     },
     "output_type": "display_data"
    }
   ],
   "source": [
    "image_index = 7776 # You may select anything up to 60,000\n",
    "print(train_labels[image_index]) \n",
    "plt.imshow(train_images[image_index], cmap='Greys')"
   ]
  },
  {
   "cell_type": "markdown",
   "id": "facial-modem",
   "metadata": {
    "papermill": {
     "duration": 0.033178,
     "end_time": "2021-02-24T10:04:42.490038",
     "exception": false,
     "start_time": "2021-02-24T10:04:42.456860",
     "status": "completed"
    },
    "tags": []
   },
   "source": [
    "## Filter data to get 3 and 8 out"
   ]
  },
  {
   "cell_type": "code",
   "execution_count": 9,
   "id": "thousand-acquisition",
   "metadata": {
    "execution": {
     "iopub.execute_input": "2021-02-24T10:04:42.558603Z",
     "iopub.status.busy": "2021-02-24T10:04:42.557465Z",
     "iopub.status.idle": "2021-02-24T10:04:42.577672Z",
     "shell.execute_reply": "2021-02-24T10:04:42.576937Z"
    },
    "papermill": {
     "duration": 0.056596,
     "end_time": "2021-02-24T10:04:42.577840",
     "exception": false,
     "start_time": "2021-02-24T10:04:42.521244",
     "status": "completed"
    },
    "tags": []
   },
   "outputs": [],
   "source": [
    "train_filter = np.where((train_labels == 3 ) | (train_labels == 8))\n",
    "test_filter = np.where((test_labels == 3) | (test_labels == 8))\n",
    "X_train, y_train = train_images[train_filter], train_labels[train_filter]\n",
    "X_test, y_test = test_images[test_filter], test_labels[test_filter]"
   ]
  },
  {
   "cell_type": "markdown",
   "id": "ruled-access",
   "metadata": {
    "papermill": {
     "duration": 0.03113,
     "end_time": "2021-02-24T10:04:42.641799",
     "exception": false,
     "start_time": "2021-02-24T10:04:42.610669",
     "status": "completed"
    },
    "tags": []
   },
   "source": [
    "We normalize the pixel values in the 0 to 1 range"
   ]
  },
  {
   "cell_type": "code",
   "execution_count": 10,
   "id": "isolated-denver",
   "metadata": {
    "execution": {
     "iopub.execute_input": "2021-02-24T10:04:42.708943Z",
     "iopub.status.busy": "2021-02-24T10:04:42.708333Z",
     "iopub.status.idle": "2021-02-24T10:04:42.762520Z",
     "shell.execute_reply": "2021-02-24T10:04:42.763042Z"
    },
    "papermill": {
     "duration": 0.090251,
     "end_time": "2021-02-24T10:04:42.763196",
     "exception": false,
     "start_time": "2021-02-24T10:04:42.672945",
     "status": "completed"
    },
    "tags": []
   },
   "outputs": [],
   "source": [
    "X_train = X_train/255.\n",
    "X_test = X_test/255."
   ]
  },
  {
   "cell_type": "markdown",
   "id": "perfect-summary",
   "metadata": {
    "papermill": {
     "duration": 0.58572,
     "end_time": "2021-02-24T10:04:43.385463",
     "exception": false,
     "start_time": "2021-02-24T10:04:42.799743",
     "status": "completed"
    },
    "tags": []
   },
   "source": [
    "Setup the labels as 1 (when the digit is 3) and 0 (when the digit is 8)"
   ]
  },
  {
   "cell_type": "code",
   "execution_count": 11,
   "id": "personalized-growing",
   "metadata": {
    "execution": {
     "iopub.execute_input": "2021-02-24T10:04:43.468024Z",
     "iopub.status.busy": "2021-02-24T10:04:43.467415Z",
     "iopub.status.idle": "2021-02-24T10:04:43.480781Z",
     "shell.execute_reply": "2021-02-24T10:04:43.481242Z"
    },
    "papermill": {
     "duration": 0.0492,
     "end_time": "2021-02-24T10:04:43.481389",
     "exception": false,
     "start_time": "2021-02-24T10:04:43.432189",
     "status": "completed"
    },
    "tags": []
   },
   "outputs": [],
   "source": [
    "y_train = 1*(y_train==3)\n",
    "y_test = 1*(y_test==3)"
   ]
  },
  {
   "cell_type": "code",
   "execution_count": 12,
   "id": "considered-virgin",
   "metadata": {
    "execution": {
     "iopub.execute_input": "2021-02-24T10:04:43.581329Z",
     "iopub.status.busy": "2021-02-24T10:04:43.580737Z",
     "iopub.status.idle": "2021-02-24T10:04:43.593131Z",
     "shell.execute_reply": "2021-02-24T10:04:43.592649Z"
    },
    "papermill": {
     "duration": 0.051303,
     "end_time": "2021-02-24T10:04:43.593255",
     "exception": false,
     "start_time": "2021-02-24T10:04:43.541952",
     "status": "completed"
    },
    "tags": []
   },
   "outputs": [
    {
     "data": {
      "text/plain": [
       "((11982, 28, 28), (1984, 28, 28))"
      ]
     },
     "execution_count": 12,
     "metadata": {},
     "output_type": "execute_result"
    }
   ],
   "source": [
    "X_train.shape, X_test.shape"
   ]
  },
  {
   "cell_type": "markdown",
   "id": "civilian-mobile",
   "metadata": {
    "papermill": {
     "duration": 0.031179,
     "end_time": "2021-02-24T10:04:43.655762",
     "exception": false,
     "start_time": "2021-02-24T10:04:43.624583",
     "status": "completed"
    },
    "tags": []
   },
   "source": [
    "### Reshape the input data to create a linear array"
   ]
  },
  {
   "cell_type": "code",
   "execution_count": 13,
   "id": "colonial-adams",
   "metadata": {
    "execution": {
     "iopub.execute_input": "2021-02-24T10:04:43.726977Z",
     "iopub.status.busy": "2021-02-24T10:04:43.726364Z",
     "iopub.status.idle": "2021-02-24T10:04:43.740452Z",
     "shell.execute_reply": "2021-02-24T10:04:43.739943Z"
    },
    "papermill": {
     "duration": 0.05319,
     "end_time": "2021-02-24T10:04:43.740575",
     "exception": false,
     "start_time": "2021-02-24T10:04:43.687385",
     "status": "completed"
    },
    "tags": []
   },
   "outputs": [
    {
     "data": {
      "text/plain": [
       "((11982, 784), (1984, 784))"
      ]
     },
     "execution_count": 13,
     "metadata": {},
     "output_type": "execute_result"
    }
   ],
   "source": [
    "X_train = X_train.reshape(X_train.shape[0], -1)\n",
    "X_test = X_test.reshape(X_test.shape[0], -1)\n",
    "X_train.shape, X_test.shape"
   ]
  },
  {
   "cell_type": "markdown",
   "id": "smart-details",
   "metadata": {
    "papermill": {
     "duration": 0.031446,
     "end_time": "2021-02-24T10:04:43.803680",
     "exception": false,
     "start_time": "2021-02-24T10:04:43.772234",
     "status": "completed"
    },
    "tags": []
   },
   "source": [
    "### Importing appropriate functions from 'Kudzu'"
   ]
  },
  {
   "cell_type": "code",
   "execution_count": 14,
   "id": "celtic-trial",
   "metadata": {
    "execution": {
     "iopub.execute_input": "2021-02-24T10:04:43.872141Z",
     "iopub.status.busy": "2021-02-24T10:04:43.871517Z",
     "iopub.status.idle": "2021-02-24T10:04:43.893938Z",
     "shell.execute_reply": "2021-02-24T10:04:43.893022Z"
    },
    "papermill": {
     "duration": 0.058697,
     "end_time": "2021-02-24T10:04:43.894093",
     "exception": false,
     "start_time": "2021-02-24T10:04:43.835396",
     "status": "completed"
    },
    "tags": []
   },
   "outputs": [],
   "source": [
    "from kudzu.layer import Sigmoid\n",
    "from kudzu.layer import Relu\n",
    "from kudzu.layer import Affine, Sigmoid\n",
    "\n",
    "from kudzu.model import Model\n",
    "from kudzu.train import Learner\n",
    "from kudzu.optim import GD\n",
    "from kudzu.data import Data, Dataloader, Sampler\n",
    "\n",
    "from kudzu.callbacks import AccCallback\n",
    "from kudzu.callbacks import ClfCallback\n",
    "\n",
    "from kudzu.loss import MSE"
   ]
  },
  {
   "cell_type": "markdown",
   "id": "coupled-customer",
   "metadata": {
    "papermill": {
     "duration": 0.031397,
     "end_time": "2021-02-24T10:04:43.957183",
     "exception": false,
     "start_time": "2021-02-24T10:04:43.925786",
     "status": "completed"
    },
    "tags": []
   },
   "source": [
    "### Let us create a `Config` class, to store important parameters. \n",
    "This class essentially plays the role of a dictionary."
   ]
  },
  {
   "cell_type": "code",
   "execution_count": 15,
   "id": "young-ceiling",
   "metadata": {
    "execution": {
     "iopub.execute_input": "2021-02-24T10:04:44.025324Z",
     "iopub.status.busy": "2021-02-24T10:04:44.024714Z",
     "iopub.status.idle": "2021-02-24T10:04:44.039812Z",
     "shell.execute_reply": "2021-02-24T10:04:44.038761Z"
    },
    "papermill": {
     "duration": 0.050909,
     "end_time": "2021-02-24T10:04:44.039942",
     "exception": false,
     "start_time": "2021-02-24T10:04:43.989033",
     "status": "completed"
    },
    "tags": []
   },
   "outputs": [],
   "source": [
    "class Config:\n",
    "    pass\n",
    "config = Config()\n",
    "config.lr = 0.001\n",
    "config.num_epochs = 251\n",
    "config.bs = 50"
   ]
  },
  {
   "cell_type": "markdown",
   "id": "according-mandate",
   "metadata": {
    "papermill": {
     "duration": 0.031398,
     "end_time": "2021-02-24T10:04:44.102890",
     "exception": false,
     "start_time": "2021-02-24T10:04:44.071492",
     "status": "completed"
    },
    "tags": []
   },
   "source": [
    "### Initializing data to the variables"
   ]
  },
  {
   "cell_type": "code",
   "execution_count": 16,
   "id": "academic-disposition",
   "metadata": {
    "execution": {
     "iopub.execute_input": "2021-02-24T10:04:44.175029Z",
     "iopub.status.busy": "2021-02-24T10:04:44.170109Z",
     "iopub.status.idle": "2021-02-24T10:04:44.183617Z",
     "shell.execute_reply": "2021-02-24T10:04:44.183097Z"
    },
    "papermill": {
     "duration": 0.049037,
     "end_time": "2021-02-24T10:04:44.183746",
     "exception": false,
     "start_time": "2021-02-24T10:04:44.134709",
     "status": "completed"
    },
    "tags": []
   },
   "outputs": [],
   "source": [
    "data = Data(X_train, y_train.reshape(-1,1))\n",
    "sampler = Sampler(data, config.bs, shuffle=True)\n",
    "\n",
    "dl = Dataloader(data, sampler)\n",
    "\n",
    "opt = GD(config.lr)\n",
    "loss = MSE()"
   ]
  },
  {
   "cell_type": "code",
   "execution_count": 17,
   "id": "featured-commission",
   "metadata": {
    "execution": {
     "iopub.execute_input": "2021-02-24T10:04:44.253720Z",
     "iopub.status.busy": "2021-02-24T10:04:44.253112Z",
     "iopub.status.idle": "2021-02-24T10:04:44.266265Z",
     "shell.execute_reply": "2021-02-24T10:04:44.266729Z"
    },
    "papermill": {
     "duration": 0.051211,
     "end_time": "2021-02-24T10:04:44.266887",
     "exception": false,
     "start_time": "2021-02-24T10:04:44.215676",
     "status": "completed"
    },
    "tags": []
   },
   "outputs": [],
   "source": [
    "training_xdata = X_train\n",
    "testing_xdata = X_test\n",
    "training_ydata = y_train.reshape(-1,1)\n",
    "testing_ydata = y_test.reshape(-1,1)"
   ]
  },
  {
   "cell_type": "markdown",
   "id": "played-safety",
   "metadata": {
    "papermill": {
     "duration": 0.031501,
     "end_time": "2021-02-24T10:04:44.330190",
     "exception": false,
     "start_time": "2021-02-24T10:04:44.298689",
     "status": "completed"
    },
    "tags": []
   },
   "source": [
    "### Running Models with the Training data\n",
    "Details about the network layers:\n",
    "- A first affine layer has 784 inputs and does 100 affine transforms. These are followed by a Relu\n",
    "- A second affine layer has 100 inputs from the 100 activations of the past layer, and does 100 affine transforms. These are followed by a Relu\n",
    "- A third affine layer has 100 activations and does 2 affine transformations to create an embedding for visualization. There is no non-linearity here.\n",
    "- A final \"logistic regression\" which has an affine transform from 2 inputs to 1 output, which is squeezed through a sigmoid.\n",
    "\n",
    "Help taken from Anshuman's Notebook."
   ]
  },
  {
   "cell_type": "code",
   "execution_count": 18,
   "id": "asian-bankruptcy",
   "metadata": {
    "execution": {
     "iopub.execute_input": "2021-02-24T10:04:44.398925Z",
     "iopub.status.busy": "2021-02-24T10:04:44.398297Z",
     "iopub.status.idle": "2021-02-24T10:04:44.416043Z",
     "shell.execute_reply": "2021-02-24T10:04:44.416534Z"
    },
    "papermill": {
     "duration": 0.054966,
     "end_time": "2021-02-24T10:04:44.416687",
     "exception": false,
     "start_time": "2021-02-24T10:04:44.361721",
     "status": "completed"
    },
    "tags": []
   },
   "outputs": [],
   "source": [
    "# layers for the Neural Network\n",
    "layers = [Affine(\"first\", 784, 100), Relu(\"first\"), Affine(\"second\", 100, 100), Relu(\"second\"), Affine(\"third\", 100, 2), Affine(\"final\", 2, 1), Sigmoid(\"final\")]\n",
    "model_nn = Model(layers)\n",
    "\n",
    "# layers for the Logistic Regression\n",
    "layers_lr = [Affine(\"logits\", 784, 1), Sigmoid(\"sigmoid\")]\n",
    "model_lr = Model(layers_lr)"
   ]
  },
  {
   "cell_type": "code",
   "execution_count": 19,
   "id": "removed-butler",
   "metadata": {
    "execution": {
     "iopub.execute_input": "2021-02-24T10:04:44.486628Z",
     "iopub.status.busy": "2021-02-24T10:04:44.485973Z",
     "iopub.status.idle": "2021-02-24T10:04:44.499227Z",
     "shell.execute_reply": "2021-02-24T10:04:44.499704Z"
    },
    "papermill": {
     "duration": 0.051063,
     "end_time": "2021-02-24T10:04:44.499848",
     "exception": false,
     "start_time": "2021-02-24T10:04:44.448785",
     "status": "completed"
    },
    "tags": []
   },
   "outputs": [],
   "source": [
    "# suffix _nn stands for Neural Network.\n",
    "learner_nn = Learner(loss, model_nn, opt, config.num_epochs)\n",
    "acc_nn = ClfCallback(learner_nn, config.bs, training_xdata , testing_xdata, training_ydata, testing_ydata)\n",
    "learner_nn.set_callbacks([acc_nn])"
   ]
  },
  {
   "cell_type": "code",
   "execution_count": 20,
   "id": "conceptual-throw",
   "metadata": {
    "execution": {
     "iopub.execute_input": "2021-02-24T10:04:44.568241Z",
     "iopub.status.busy": "2021-02-24T10:04:44.567636Z",
     "iopub.status.idle": "2021-02-24T10:06:13.298410Z",
     "shell.execute_reply": "2021-02-24T10:06:13.298980Z"
    },
    "papermill": {
     "duration": 88.767325,
     "end_time": "2021-02-24T10:06:13.299133",
     "exception": false,
     "start_time": "2021-02-24T10:04:44.531808",
     "status": "completed"
    },
    "tags": []
   },
   "outputs": [
    {
     "name": "stdout",
     "output_type": "stream",
     "text": [
      "====== Neural Network ======\n"
     ]
    },
    {
     "name": "stdout",
     "output_type": "stream",
     "text": [
      "Epoch 0, Loss 0.2247\n",
      "Training Accuracy: 0.7817, Testing Accuracy: 0.7883\n",
      "\n"
     ]
    },
    {
     "name": "stdout",
     "output_type": "stream",
     "text": [
      "Epoch 10, Loss 0.0636\n",
      "Training Accuracy: 0.9338, Testing Accuracy: 0.9461\n",
      "\n"
     ]
    },
    {
     "name": "stdout",
     "output_type": "stream",
     "text": [
      "Epoch 20, Loss 0.0444\n",
      "Training Accuracy: 0.9528, Testing Accuracy: 0.9567\n",
      "\n"
     ]
    },
    {
     "name": "stdout",
     "output_type": "stream",
     "text": [
      "Epoch 30, Loss 0.0368\n",
      "Training Accuracy: 0.9599, Testing Accuracy: 0.9632\n",
      "\n"
     ]
    },
    {
     "name": "stdout",
     "output_type": "stream",
     "text": [
      "Epoch 40, Loss 0.0325\n",
      "Training Accuracy: 0.9639, Testing Accuracy: 0.9672\n",
      "\n"
     ]
    },
    {
     "name": "stdout",
     "output_type": "stream",
     "text": [
      "Epoch 50, Loss 0.0297\n",
      "Training Accuracy: 0.9670, Testing Accuracy: 0.9723\n",
      "\n"
     ]
    },
    {
     "name": "stdout",
     "output_type": "stream",
     "text": [
      "Epoch 60, Loss 0.0277\n",
      "Training Accuracy: 0.9687, Testing Accuracy: 0.9723\n",
      "\n"
     ]
    },
    {
     "name": "stdout",
     "output_type": "stream",
     "text": [
      "Epoch 70, Loss 0.0262\n",
      "Training Accuracy: 0.9712, Testing Accuracy: 0.9733\n",
      "\n"
     ]
    },
    {
     "name": "stdout",
     "output_type": "stream",
     "text": [
      "Epoch 80, Loss 0.0249\n",
      "Training Accuracy: 0.9727, Testing Accuracy: 0.9728\n",
      "\n"
     ]
    },
    {
     "name": "stdout",
     "output_type": "stream",
     "text": [
      "Epoch 90, Loss 0.0238\n",
      "Training Accuracy: 0.9739, Testing Accuracy: 0.9743\n",
      "\n"
     ]
    },
    {
     "name": "stdout",
     "output_type": "stream",
     "text": [
      "Epoch 100, Loss 0.0229\n",
      "Training Accuracy: 0.9752, Testing Accuracy: 0.9748\n",
      "\n"
     ]
    },
    {
     "name": "stdout",
     "output_type": "stream",
     "text": [
      "Epoch 110, Loss 0.0221\n",
      "Training Accuracy: 0.9758, Testing Accuracy: 0.9753\n",
      "\n"
     ]
    },
    {
     "name": "stdout",
     "output_type": "stream",
     "text": [
      "Epoch 120, Loss 0.0213\n",
      "Training Accuracy: 0.9770, Testing Accuracy: 0.9753\n",
      "\n"
     ]
    },
    {
     "name": "stdout",
     "output_type": "stream",
     "text": [
      "Epoch 130, Loss 0.0207\n",
      "Training Accuracy: 0.9775, Testing Accuracy: 0.9758\n",
      "\n"
     ]
    },
    {
     "name": "stdout",
     "output_type": "stream",
     "text": [
      "Epoch 140, Loss 0.02\n",
      "Training Accuracy: 0.9783, Testing Accuracy: 0.9758\n",
      "\n"
     ]
    },
    {
     "name": "stdout",
     "output_type": "stream",
     "text": [
      "Epoch 150, Loss 0.0194\n",
      "Training Accuracy: 0.9788, Testing Accuracy: 0.9763\n",
      "\n"
     ]
    },
    {
     "name": "stdout",
     "output_type": "stream",
     "text": [
      "Epoch 160, Loss 0.0188\n",
      "Training Accuracy: 0.9798, Testing Accuracy: 0.9768\n",
      "\n"
     ]
    },
    {
     "name": "stdout",
     "output_type": "stream",
     "text": [
      "Epoch 170, Loss 0.0183\n",
      "Training Accuracy: 0.9806, Testing Accuracy: 0.9768\n",
      "\n"
     ]
    },
    {
     "name": "stdout",
     "output_type": "stream",
     "text": [
      "Epoch 180, Loss 0.0178\n",
      "Training Accuracy: 0.9811, Testing Accuracy: 0.9768\n",
      "\n"
     ]
    },
    {
     "name": "stdout",
     "output_type": "stream",
     "text": [
      "Epoch 190, Loss 0.0173\n",
      "Training Accuracy: 0.9820, Testing Accuracy: 0.9783\n",
      "\n"
     ]
    },
    {
     "name": "stdout",
     "output_type": "stream",
     "text": [
      "Epoch 200, Loss 0.0168\n",
      "Training Accuracy: 0.9826, Testing Accuracy: 0.9788\n",
      "\n"
     ]
    },
    {
     "name": "stdout",
     "output_type": "stream",
     "text": [
      "Epoch 210, Loss 0.0164\n",
      "Training Accuracy: 0.9831, Testing Accuracy: 0.9798\n",
      "\n"
     ]
    },
    {
     "name": "stdout",
     "output_type": "stream",
     "text": [
      "Epoch 220, Loss 0.016\n",
      "Training Accuracy: 0.9831, Testing Accuracy: 0.9803\n",
      "\n"
     ]
    },
    {
     "name": "stdout",
     "output_type": "stream",
     "text": [
      "Epoch 230, Loss 0.0155\n",
      "Training Accuracy: 0.9840, Testing Accuracy: 0.9803\n",
      "\n"
     ]
    },
    {
     "name": "stdout",
     "output_type": "stream",
     "text": [
      "Epoch 240, Loss 0.0152\n",
      "Training Accuracy: 0.9841, Testing Accuracy: 0.9803\n",
      "\n"
     ]
    },
    {
     "name": "stdout",
     "output_type": "stream",
     "text": [
      "Epoch 250, Loss 0.0148\n",
      "Training Accuracy: 0.9846, Testing Accuracy: 0.9803\n",
      "\n"
     ]
    },
    {
     "data": {
      "text/plain": [
       "0.0076061368934044835"
      ]
     },
     "execution_count": 20,
     "metadata": {},
     "output_type": "execute_result"
    }
   ],
   "source": [
    "print(\"====== Neural Network ======\")\n",
    "learner_nn.train_loop(dl)"
   ]
  },
  {
   "cell_type": "markdown",
   "id": "competent-suffering",
   "metadata": {
    "papermill": {
     "duration": 0.05131,
     "end_time": "2021-02-24T10:06:13.391330",
     "exception": false,
     "start_time": "2021-02-24T10:06:13.340020",
     "status": "completed"
    },
    "tags": []
   },
   "source": [
    "### Logistic Regression based Implementation."
   ]
  },
  {
   "cell_type": "code",
   "execution_count": 21,
   "id": "qualified-psychiatry",
   "metadata": {
    "execution": {
     "iopub.execute_input": "2021-02-24T10:06:13.478875Z",
     "iopub.status.busy": "2021-02-24T10:06:13.477319Z",
     "iopub.status.idle": "2021-02-24T10:06:13.490317Z",
     "shell.execute_reply": "2021-02-24T10:06:13.489783Z"
    },
    "papermill": {
     "duration": 0.058913,
     "end_time": "2021-02-24T10:06:13.490447",
     "exception": false,
     "start_time": "2021-02-24T10:06:13.431534",
     "status": "completed"
    },
    "tags": []
   },
   "outputs": [],
   "source": [
    "learner_lr = Learner(loss, model_lr, opt, config.num_epochs)\n",
    "acc_lr = ClfCallback(learner_lr, config.bs, training_xdata , testing_xdata, training_ydata, testing_ydata)\n",
    "learner_lr.set_callbacks([acc_lr])"
   ]
  },
  {
   "cell_type": "code",
   "execution_count": 22,
   "id": "average-outside",
   "metadata": {
    "execution": {
     "iopub.execute_input": "2021-02-24T10:06:13.575700Z",
     "iopub.status.busy": "2021-02-24T10:06:13.575097Z",
     "iopub.status.idle": "2021-02-24T10:06:29.199598Z",
     "shell.execute_reply": "2021-02-24T10:06:29.200414Z"
    },
    "papermill": {
     "duration": 15.669859,
     "end_time": "2021-02-24T10:06:29.200567",
     "exception": false,
     "start_time": "2021-02-24T10:06:13.530708",
     "status": "completed"
    },
    "tags": []
   },
   "outputs": [
    {
     "name": "stdout",
     "output_type": "stream",
     "text": [
      "====== Logistic Regression ======\n",
      "Epoch 0, Loss 0.2193\n",
      "Training Accuracy: 0.7359, Testing Accuracy: 0.7419\n",
      "\n"
     ]
    },
    {
     "name": "stdout",
     "output_type": "stream",
     "text": [
      "Epoch 10, Loss 0.1051\n",
      "Training Accuracy: 0.8974, Testing Accuracy: 0.9078\n",
      "\n"
     ]
    },
    {
     "name": "stdout",
     "output_type": "stream",
     "text": [
      "Epoch 20, Loss 0.0814\n",
      "Training Accuracy: 0.9205, Testing Accuracy: 0.9294\n",
      "\n"
     ]
    },
    {
     "name": "stdout",
     "output_type": "stream",
     "text": [
      "Epoch 30, Loss 0.07\n",
      "Training Accuracy: 0.9334, Testing Accuracy: 0.9430\n",
      "\n"
     ]
    },
    {
     "name": "stdout",
     "output_type": "stream",
     "text": [
      "Epoch 40, Loss 0.0631\n",
      "Training Accuracy: 0.9397, Testing Accuracy: 0.9501\n",
      "\n"
     ]
    },
    {
     "name": "stdout",
     "output_type": "stream",
     "text": [
      "Epoch 50, Loss 0.0583\n",
      "Training Accuracy: 0.9423, Testing Accuracy: 0.9521\n",
      "\n"
     ]
    },
    {
     "name": "stdout",
     "output_type": "stream",
     "text": [
      "Epoch 60, Loss 0.0548\n",
      "Training Accuracy: 0.9457, Testing Accuracy: 0.9541\n",
      "\n"
     ]
    },
    {
     "name": "stdout",
     "output_type": "stream",
     "text": [
      "Epoch 70, Loss 0.0522\n",
      "Training Accuracy: 0.9476, Testing Accuracy: 0.9551\n",
      "\n"
     ]
    },
    {
     "name": "stdout",
     "output_type": "stream",
     "text": [
      "Epoch 80, Loss 0.05\n",
      "Training Accuracy: 0.9493, Testing Accuracy: 0.9592\n",
      "\n"
     ]
    },
    {
     "name": "stdout",
     "output_type": "stream",
     "text": [
      "Epoch 90, Loss 0.0482\n",
      "Training Accuracy: 0.9507, Testing Accuracy: 0.9607\n",
      "\n"
     ]
    },
    {
     "name": "stdout",
     "output_type": "stream",
     "text": [
      "Epoch 100, Loss 0.0467\n",
      "Training Accuracy: 0.9519, Testing Accuracy: 0.9607\n",
      "\n"
     ]
    },
    {
     "name": "stdout",
     "output_type": "stream",
     "text": [
      "Epoch 110, Loss 0.0455\n",
      "Training Accuracy: 0.9531, Testing Accuracy: 0.9612\n",
      "\n"
     ]
    },
    {
     "name": "stdout",
     "output_type": "stream",
     "text": [
      "Epoch 120, Loss 0.0444\n",
      "Training Accuracy: 0.9543, Testing Accuracy: 0.9612\n",
      "\n"
     ]
    },
    {
     "name": "stdout",
     "output_type": "stream",
     "text": [
      "Epoch 130, Loss 0.0434\n",
      "Training Accuracy: 0.9543, Testing Accuracy: 0.9632\n",
      "\n"
     ]
    },
    {
     "name": "stdout",
     "output_type": "stream",
     "text": [
      "Epoch 140, Loss 0.0425\n",
      "Training Accuracy: 0.9553, Testing Accuracy: 0.9642\n",
      "\n"
     ]
    },
    {
     "name": "stdout",
     "output_type": "stream",
     "text": [
      "Epoch 150, Loss 0.0418\n",
      "Training Accuracy: 0.9560, Testing Accuracy: 0.9657\n",
      "\n"
     ]
    },
    {
     "name": "stdout",
     "output_type": "stream",
     "text": [
      "Epoch 160, Loss 0.0411\n",
      "Training Accuracy: 0.9567, Testing Accuracy: 0.9667\n",
      "\n"
     ]
    },
    {
     "name": "stdout",
     "output_type": "stream",
     "text": [
      "Epoch 170, Loss 0.0404\n",
      "Training Accuracy: 0.9573, Testing Accuracy: 0.9667\n",
      "\n"
     ]
    },
    {
     "name": "stdout",
     "output_type": "stream",
     "text": [
      "Epoch 180, Loss 0.0398\n",
      "Training Accuracy: 0.9582, Testing Accuracy: 0.9662\n",
      "\n"
     ]
    },
    {
     "name": "stdout",
     "output_type": "stream",
     "text": [
      "Epoch 190, Loss 0.0393\n",
      "Training Accuracy: 0.9585, Testing Accuracy: 0.9667\n",
      "\n"
     ]
    },
    {
     "name": "stdout",
     "output_type": "stream",
     "text": [
      "Epoch 200, Loss 0.0388\n",
      "Training Accuracy: 0.9591, Testing Accuracy: 0.9667\n",
      "\n"
     ]
    },
    {
     "name": "stdout",
     "output_type": "stream",
     "text": [
      "Epoch 210, Loss 0.0383\n",
      "Training Accuracy: 0.9592, Testing Accuracy: 0.9667\n",
      "\n"
     ]
    },
    {
     "name": "stdout",
     "output_type": "stream",
     "text": [
      "Epoch 220, Loss 0.0379\n",
      "Training Accuracy: 0.9593, Testing Accuracy: 0.9667\n",
      "\n"
     ]
    },
    {
     "name": "stdout",
     "output_type": "stream",
     "text": [
      "Epoch 230, Loss 0.0375\n",
      "Training Accuracy: 0.9599, Testing Accuracy: 0.9662\n",
      "\n"
     ]
    },
    {
     "name": "stdout",
     "output_type": "stream",
     "text": [
      "Epoch 240, Loss 0.0371\n",
      "Training Accuracy: 0.9604, Testing Accuracy: 0.9657\n",
      "\n"
     ]
    },
    {
     "name": "stdout",
     "output_type": "stream",
     "text": [
      "Epoch 250, Loss 0.0368\n",
      "Training Accuracy: 0.9611, Testing Accuracy: 0.9662\n",
      "\n"
     ]
    },
    {
     "data": {
      "text/plain": [
       "0.025555098823455226"
      ]
     },
     "execution_count": 22,
     "metadata": {},
     "output_type": "execute_result"
    }
   ],
   "source": [
    "print(\"====== Logistic Regression ======\")\n",
    "learner_lr.train_loop(dl)"
   ]
  },
  {
   "cell_type": "markdown",
   "id": "adjusted-possible",
   "metadata": {
    "papermill": {
     "duration": 0.047559,
     "end_time": "2021-02-24T10:06:29.296690",
     "exception": false,
     "start_time": "2021-02-24T10:06:29.249131",
     "status": "completed"
    },
    "tags": []
   },
   "source": [
    "### Comparing results of NN and LR"
   ]
  },
  {
   "cell_type": "code",
   "execution_count": 23,
   "id": "mental-multimedia",
   "metadata": {
    "execution": {
     "iopub.execute_input": "2021-02-24T10:06:29.400051Z",
     "iopub.status.busy": "2021-02-24T10:06:29.398969Z",
     "iopub.status.idle": "2021-02-24T10:06:29.640627Z",
     "shell.execute_reply": "2021-02-24T10:06:29.641093Z"
    },
    "papermill": {
     "duration": 0.297262,
     "end_time": "2021-02-24T10:06:29.641252",
     "exception": false,
     "start_time": "2021-02-24T10:06:29.343990",
     "status": "completed"
    },
    "tags": []
   },
   "outputs": [
    {
     "data": {
      "text/plain": [
       "<matplotlib.legend.Legend at 0x7f1034f50198>"
      ]
     },
     "execution_count": 23,
     "metadata": {},
     "output_type": "execute_result"
    },
    {
     "data": {
      "image/png": "[encoded data removed]",
      "text/plain": [
       "<Figure size 1080x720 with 1 Axes>"
      ]
     },
     "metadata": {
      "needs_background": "light"
     },
     "output_type": "display_data"
    }
   ],
   "source": [
    "plt.figure(figsize=(15,10))\n",
    "\n",
    "# Neural Network plots\n",
    "plt.plot(acc_nn.accuracies, 'r-', label = \"Training Accuracies - NN\")\n",
    "plt.plot(acc_nn.test_accuracies, 'g-', label = \"Testing Accuracies - NN\")\n",
    "\n",
    "# Logistic Regression plots\n",
    "plt.plot(acc_lr.accuracies, 'k-', label = \"Training Accuracies - LR\")\n",
    "plt.plot(acc_lr.test_accuracies, 'b-', label = \"Testing Accuracies - LR\")\n",
    "\n",
    "plt.ylim(0.8, 1)\n",
    "\n",
    "plt.legend()\n",
    "\n"
   ]
  },
  {
   "cell_type": "markdown",
   "id": "sexual-flesh",
   "metadata": {
    "papermill": {
     "duration": 0.0495,
     "end_time": "2021-02-24T10:06:29.740467",
     "exception": false,
     "start_time": "2021-02-24T10:06:29.690967",
     "status": "completed"
    },
    "tags": []
   },
   "source": [
    "### From the plot, we can observe the following:\n",
    "- Neural Network achieves higher accuracy than the Logistic Regression model.\n",
    "- This apparently, is because of overfitting, i.e. NN captures more noise than data.\n",
    "- Testing accuracy of NN drops below the Training accuracy at higher epochs. This explains the over-fitting on training data.\n",
    "- Logistic Regression gives a reliable accuracy, without the above mentioned problem.\n"
   ]
  },
  {
   "cell_type": "markdown",
   "id": "institutional-pacific",
   "metadata": {
    "papermill": {
     "duration": 0.049394,
     "end_time": "2021-02-24T10:06:29.839864",
     "exception": false,
     "start_time": "2021-02-24T10:06:29.790470",
     "status": "completed"
    },
    "tags": []
   },
   "source": [
    "### Moving till the last but one layer (excluding it).\n",
    "#### Plotting the outputs of this layer of the NN."
   ]
  },
  {
   "cell_type": "code",
   "execution_count": 24,
   "id": "economic-server",
   "metadata": {
    "execution": {
     "iopub.execute_input": "2021-02-24T10:06:29.943954Z",
     "iopub.status.busy": "2021-02-24T10:06:29.943355Z",
     "iopub.status.idle": "2021-02-24T10:06:29.955761Z",
     "shell.execute_reply": "2021-02-24T10:06:29.955290Z"
    },
    "papermill": {
     "duration": 0.066783,
     "end_time": "2021-02-24T10:06:29.955883",
     "exception": false,
     "start_time": "2021-02-24T10:06:29.889100",
     "status": "completed"
    },
    "tags": []
   },
   "outputs": [],
   "source": [
    "model_new = Model(layers[:-2])"
   ]
  },
  {
   "cell_type": "code",
   "execution_count": 25,
   "id": "varied-upgrade",
   "metadata": {
    "execution": {
     "iopub.execute_input": "2021-02-24T10:06:30.059370Z",
     "iopub.status.busy": "2021-02-24T10:06:30.058771Z",
     "iopub.status.idle": "2021-02-24T10:06:30.081429Z",
     "shell.execute_reply": "2021-02-24T10:06:30.081931Z"
    },
    "papermill": {
     "duration": 0.076756,
     "end_time": "2021-02-24T10:06:30.082095",
     "exception": false,
     "start_time": "2021-02-24T10:06:30.005339",
     "status": "completed"
    },
    "tags": []
   },
   "outputs": [],
   "source": [
    "plot_testing = model_new(testing_xdata)"
   ]
  },
  {
   "cell_type": "code",
   "execution_count": 26,
   "id": "specific-handling",
   "metadata": {
    "execution": {
     "iopub.execute_input": "2021-02-24T10:06:30.191601Z",
     "iopub.status.busy": "2021-02-24T10:06:30.191018Z",
     "iopub.status.idle": "2021-02-24T10:06:30.403965Z",
     "shell.execute_reply": "2021-02-24T10:06:30.404434Z"
    },
    "papermill": {
     "duration": 0.273117,
     "end_time": "2021-02-24T10:06:30.404580",
     "exception": false,
     "start_time": "2021-02-24T10:06:30.131463",
     "status": "completed"
    },
    "tags": []
   },
   "outputs": [
    {
     "data": {
      "text/plain": [
       "Text(0.5, 1.0, 'Outputs')"
      ]
     },
     "execution_count": 26,
     "metadata": {},
     "output_type": "execute_result"
    },
    {
     "data": {
      "image/png": "[encoded data removed]",
      "text/plain": [
       "<Figure size 576x504 with 1 Axes>"
      ]
     },
     "metadata": {
      "needs_background": "light"
     },
     "output_type": "display_data"
    }
   ],
   "source": [
    "plt.figure(figsize=(8,7))\n",
    "plt.scatter(plot_testing[:,0], plot_testing[:,1], alpha = 0.1, c = y_test.ravel());\n",
    "plt.title('Outputs')"
   ]
  },
  {
   "cell_type": "markdown",
   "id": "described-knowing",
   "metadata": {
    "papermill": {
     "duration": 0.053108,
     "end_time": "2021-02-24T10:06:30.511231",
     "exception": false,
     "start_time": "2021-02-24T10:06:30.458123",
     "status": "completed"
    },
    "tags": []
   },
   "source": [
    "### Plotting probability contours"
   ]
  },
  {
   "cell_type": "code",
   "execution_count": 27,
   "id": "needed-growing",
   "metadata": {
    "execution": {
     "iopub.execute_input": "2021-02-24T10:06:30.623255Z",
     "iopub.status.busy": "2021-02-24T10:06:30.622398Z",
     "iopub.status.idle": "2021-02-24T10:06:30.634968Z",
     "shell.execute_reply": "2021-02-24T10:06:30.634460Z"
    },
    "papermill": {
     "duration": 0.070523,
     "end_time": "2021-02-24T10:06:30.635084",
     "exception": false,
     "start_time": "2021-02-24T10:06:30.564561",
     "status": "completed"
    },
    "tags": []
   },
   "outputs": [],
   "source": [
    "model_prob = Model(layers[-2:]) "
   ]
  },
  {
   "cell_type": "code",
   "execution_count": 28,
   "id": "introductory-enforcement",
   "metadata": {
    "execution": {
     "iopub.execute_input": "2021-02-24T10:06:30.767029Z",
     "iopub.status.busy": "2021-02-24T10:06:30.766390Z",
     "iopub.status.idle": "2021-02-24T10:06:30.778773Z",
     "shell.execute_reply": "2021-02-24T10:06:30.779233Z"
    },
    "papermill": {
     "duration": 0.076652,
     "end_time": "2021-02-24T10:06:30.779386",
     "exception": false,
     "start_time": "2021-02-24T10:06:30.702734",
     "status": "completed"
    },
    "tags": []
   },
   "outputs": [],
   "source": [
    "# Adjust the x and y ranges according to the above generated plot.\n",
    "x_range = np.linspace(-4, 1, 100) \n",
    "y_range = np.linspace(-6, 6, 100) \n",
    "x_grid, y_grid = np.meshgrid(x_range, y_range) # x_grid and y_grig are of size 100 X 100\n",
    "\n",
    "# converting x_grid and y_grid to continuous arrays\n",
    "x_grid_flat = np.ravel(x_grid)\n",
    "y_grid_flat = np.ravel(y_grid)\n",
    "\n",
    "# The last layer of the current model takes two columns as input. Hence transpose of np.vstack() is required.\n",
    "X = np.vstack((x_grid_flat, y_grid_flat)).T\n",
    "\n",
    "# x_grid and y_grid are of size 100 x 100\n",
    "probability_contour = model_prob(X).reshape(100,100) "
   ]
  },
  {
   "cell_type": "code",
   "execution_count": 29,
   "id": "understood-landing",
   "metadata": {
    "execution": {
     "iopub.execute_input": "2021-02-24T10:06:30.919487Z",
     "iopub.status.busy": "2021-02-24T10:06:30.918881Z",
     "iopub.status.idle": "2021-02-24T10:06:31.174392Z",
     "shell.execute_reply": "2021-02-24T10:06:31.175242Z"
    },
    "papermill": {
     "duration": 0.315639,
     "end_time": "2021-02-24T10:06:31.175474",
     "exception": false,
     "start_time": "2021-02-24T10:06:30.859835",
     "status": "completed"
    },
    "tags": []
   },
   "outputs": [
    {
     "data": {
      "image/png": "[encoded data removed]",
      "text/plain": [
       "<Figure size 720x648 with 1 Axes>"
      ]
     },
     "metadata": {
      "needs_background": "light"
     },
     "output_type": "display_data"
    }
   ],
   "source": [
    "plt.figure(figsize=(10,9))\n",
    "plt.scatter(plot_testing[:,0], plot_testing[:,1], alpha = 0.1, c = y_test.ravel())\n",
    "contours = plt.contour(x_grid,y_grid,probability_contour)\n",
    "plt.title('Probability Contours')\n",
    "plt.clabel(contours, inline = True );"
   ]
  }
 ],
 "metadata": {
  "kernelspec": {
   "display_name": "Python 3",
   "language": "python",
   "name": "python3"
  },
  "language_info": {
   "codemirror_mode": {
    "name": "ipython",
    "version": 3
   },
   "file_extension": ".py",
   "mimetype": "text/x-python",
   "name": "python",
   "nbconvert_exporter": "python",
   "pygments_lexer": "ipython3",
   "version": "3.6.13"
  },
  "papermill": {
   "duration": 115.289672,
   "end_time": "2021-02-24T10:06:31.641727",
   "environment_variables": {},
   "exception": null,
   "input_path": "2020-08-11-NeuralNetwork.ipynb",
   "output_path": "2020-08-11-NeuralNetwork.ipynb",
   "parameters": {},
   "start_time": "2021-02-24T10:04:36.352055",
   "version": "2.1.2"
  }
 },
 "nbformat": 4,
 "nbformat_minor": 5
}