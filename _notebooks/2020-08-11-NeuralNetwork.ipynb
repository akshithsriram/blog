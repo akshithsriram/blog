{
 "cells": [
  {
   "cell_type": "markdown",
   "metadata": {
    "papermill": {
     "duration": 0.030722,
     "end_time": "2021-01-02T00:15:07.605503",
     "exception": false,
     "start_time": "2021-01-02T00:15:07.574781",
     "status": "completed"
    },
    "tags": []
   },
   "source": [
    "# \"A Basic Neural Network: Differentiate Hand-Written Digits\"\n",
    "\n",
    "- badges: true\n",
    "- author: Akshith Sriram"
   ]
  },
  {
   "cell_type": "markdown",
   "metadata": {
    "papermill": {
     "duration": 0.022179,
     "end_time": "2021-01-02T00:15:07.650001",
     "exception": false,
     "start_time": "2021-01-02T00:15:07.627822",
     "status": "completed"
    },
    "tags": []
   },
   "source": [
    "### Key Objectives:\n",
    "- Building a neural network that differentiates two hand-written digits 3 and 8.\n",
    "- Comparing the results of this Neural Network (NN) to that of a Logistic Regression (LR) model.\n",
    "\n",
    "### Requirements:\n",
    "- 'Kudzu' : A neural network library that was designed during our course by [Univ.AI](www.univ.ai). \n",
    "- MNIST Database\n",
    "\n",
    "If MNIST is not installed, use the command `!pip install mnist` given below.\n",
    "It can be run both from the command line and Jupyter Notebook."
   ]
  },
  {
   "cell_type": "code",
   "execution_count": 1,
   "metadata": {
    "execution": {
     "iopub.execute_input": "2021-01-02T00:15:07.705198Z",
     "iopub.status.busy": "2021-01-02T00:15:07.704643Z",
     "iopub.status.idle": "2021-01-02T00:15:09.082331Z",
     "shell.execute_reply": "2021-01-02T00:15:09.081442Z"
    },
    "papermill": {
     "duration": 1.411163,
     "end_time": "2021-01-02T00:15:09.082586",
     "exception": false,
     "start_time": "2021-01-02T00:15:07.671423",
     "status": "completed"
    },
    "tags": []
   },
   "outputs": [
    {
     "name": "stdout",
     "output_type": "stream",
     "text": [
      "Collecting mnist\r\n"
     ]
    },
    {
     "name": "stdout",
     "output_type": "stream",
     "text": [
      "  Downloading mnist-0.2.2-py2.py3-none-any.whl (3.5 kB)\r\n",
      "Requirement already satisfied: numpy in /opt/hostedtoolcache/Python/3.6.12/x64/lib/python3.6/site-packages (from mnist) (1.19.4)\r\n"
     ]
    },
    {
     "name": "stdout",
     "output_type": "stream",
     "text": [
      "Installing collected packages: mnist\r\n",
      "Successfully installed mnist-0.2.2\r\n"
     ]
    },
    {
     "name": "stdout",
     "output_type": "stream",
     "text": [
      "\u001b[33mWARNING: You are using pip version 20.3.1; however, version 20.3.3 is available.\r\n",
      "You should consider upgrading via the '/opt/hostedtoolcache/Python/3.6.12/x64/bin/python -m pip install --upgrade pip' command.\u001b[0m\r\n"
     ]
    }
   ],
   "source": [
    "!pip install mnist "
   ]
  },
  {
   "cell_type": "markdown",
   "metadata": {
    "papermill": {
     "duration": 0.026293,
     "end_time": "2021-01-02T00:15:09.135439",
     "exception": false,
     "start_time": "2021-01-02T00:15:09.109146",
     "status": "completed"
    },
    "tags": []
   },
   "source": [
    "#### Importing necessary libraries"
   ]
  },
  {
   "cell_type": "code",
   "execution_count": 2,
   "metadata": {
    "execution": {
     "iopub.execute_input": "2021-01-02T00:15:09.194532Z",
     "iopub.status.busy": "2021-01-02T00:15:09.192057Z",
     "iopub.status.idle": "2021-01-02T00:15:09.724215Z",
     "shell.execute_reply": "2021-01-02T00:15:09.723036Z"
    },
    "papermill": {
     "duration": 0.564405,
     "end_time": "2021-01-02T00:15:09.724365",
     "exception": false,
     "start_time": "2021-01-02T00:15:09.159960",
     "status": "completed"
    },
    "tags": []
   },
   "outputs": [],
   "source": [
    "%load_ext autoreload\n",
    "%autoreload 2\n",
    "\n",
    "%matplotlib inline\n",
    "import matplotlib.pyplot as plt\n",
    "\n",
    "import numpy as np\n",
    "import pandas as pd"
   ]
  },
  {
   "cell_type": "markdown",
   "metadata": {
    "papermill": {
     "duration": 0.07256,
     "end_time": "2021-01-02T00:15:09.820197",
     "exception": false,
     "start_time": "2021-01-02T00:15:09.747637",
     "status": "completed"
    },
    "tags": []
   },
   "source": [
    "### Preparing the Data"
   ]
  },
  {
   "cell_type": "code",
   "execution_count": 3,
   "metadata": {
    "execution": {
     "iopub.execute_input": "2021-01-02T00:15:09.876574Z",
     "iopub.status.busy": "2021-01-02T00:15:09.876023Z",
     "iopub.status.idle": "2021-01-02T00:15:09.887490Z",
     "shell.execute_reply": "2021-01-02T00:15:09.887014Z"
    },
    "papermill": {
     "duration": 0.041505,
     "end_time": "2021-01-02T00:15:09.887607",
     "exception": false,
     "start_time": "2021-01-02T00:15:09.846102",
     "status": "completed"
    },
    "tags": []
   },
   "outputs": [],
   "source": [
    "import mnist"
   ]
  },
  {
   "cell_type": "code",
   "execution_count": 4,
   "metadata": {
    "execution": {
     "iopub.execute_input": "2021-01-02T00:15:09.940197Z",
     "iopub.status.busy": "2021-01-02T00:15:09.939660Z",
     "iopub.status.idle": "2021-01-02T00:15:10.717331Z",
     "shell.execute_reply": "2021-01-02T00:15:10.716811Z"
    },
    "papermill": {
     "duration": 0.805357,
     "end_time": "2021-01-02T00:15:10.717464",
     "exception": false,
     "start_time": "2021-01-02T00:15:09.912107",
     "status": "completed"
    },
    "tags": []
   },
   "outputs": [],
   "source": [
    "train_images = mnist.train_images()\n",
    "train_labels = mnist.train_labels()"
   ]
  },
  {
   "cell_type": "code",
   "execution_count": 5,
   "metadata": {
    "execution": {
     "iopub.execute_input": "2021-01-02T00:15:10.769314Z",
     "iopub.status.busy": "2021-01-02T00:15:10.768760Z",
     "iopub.status.idle": "2021-01-02T00:15:10.784278Z",
     "shell.execute_reply": "2021-01-02T00:15:10.784924Z"
    },
    "papermill": {
     "duration": 0.042964,
     "end_time": "2021-01-02T00:15:10.785061",
     "exception": false,
     "start_time": "2021-01-02T00:15:10.742097",
     "status": "completed"
    },
    "tags": []
   },
   "outputs": [
    {
     "data": {
      "text/plain": [
       "((60000, 28, 28), (60000,))"
      ]
     },
     "execution_count": 5,
     "metadata": {},
     "output_type": "execute_result"
    }
   ],
   "source": [
    "train_images.shape, train_labels.shape"
   ]
  },
  {
   "cell_type": "code",
   "execution_count": 6,
   "metadata": {
    "execution": {
     "iopub.execute_input": "2021-01-02T00:15:10.841416Z",
     "iopub.status.busy": "2021-01-02T00:15:10.840880Z",
     "iopub.status.idle": "2021-01-02T00:15:11.178860Z",
     "shell.execute_reply": "2021-01-02T00:15:11.177886Z"
    },
    "papermill": {
     "duration": 0.368218,
     "end_time": "2021-01-02T00:15:11.179023",
     "exception": false,
     "start_time": "2021-01-02T00:15:10.810805",
     "status": "completed"
    },
    "tags": []
   },
   "outputs": [],
   "source": [
    "test_images = mnist.test_images()\n",
    "test_labels = mnist.test_labels()"
   ]
  },
  {
   "cell_type": "code",
   "execution_count": 7,
   "metadata": {
    "execution": {
     "iopub.execute_input": "2021-01-02T00:15:11.237577Z",
     "iopub.status.busy": "2021-01-02T00:15:11.233783Z",
     "iopub.status.idle": "2021-01-02T00:15:11.248677Z",
     "shell.execute_reply": "2021-01-02T00:15:11.249646Z"
    },
    "papermill": {
     "duration": 0.045591,
     "end_time": "2021-01-02T00:15:11.249869",
     "exception": false,
     "start_time": "2021-01-02T00:15:11.204278",
     "status": "completed"
    },
    "tags": []
   },
   "outputs": [
    {
     "data": {
      "text/plain": [
       "((10000, 28, 28), (10000,))"
      ]
     },
     "execution_count": 7,
     "metadata": {},
     "output_type": "execute_result"
    }
   ],
   "source": [
    "test_images.shape, test_labels.shape"
   ]
  },
  {
   "cell_type": "code",
   "execution_count": 8,
   "metadata": {
    "execution": {
     "iopub.execute_input": "2021-01-02T00:15:11.315414Z",
     "iopub.status.busy": "2021-01-02T00:15:11.307564Z",
     "iopub.status.idle": "2021-01-02T00:15:11.445286Z",
     "shell.execute_reply": "2021-01-02T00:15:11.444822Z"
    },
    "papermill": {
     "duration": 0.169182,
     "end_time": "2021-01-02T00:15:11.445412",
     "exception": false,
     "start_time": "2021-01-02T00:15:11.276230",
     "status": "completed"
    },
    "tags": []
   },
   "outputs": [
    {
     "name": "stdout",
     "output_type": "stream",
     "text": [
      "2\n"
     ]
    },
    {
     "data": {
      "text/plain": [
       "<matplotlib.image.AxesImage at 0x7eff248922b0>"
      ]
     },
     "execution_count": 8,
     "metadata": {},
     "output_type": "execute_result"
    },
    {
     "data": {
      "image/png": "[encoded data removed]",
      "text/plain": [
       "<Figure size 432x288 with 1 Axes>"
      ]
     },
     "metadata": {
      "needs_background": "light"
     },
     "output_type": "display_data"
    }
   ],
   "source": [
    "image_index = 7776 # You may select anything up to 60,000\n",
    "print(train_labels[image_index]) \n",
    "plt.imshow(train_images[image_index], cmap='Greys')"
   ]
  },
  {
   "cell_type": "markdown",
   "metadata": {
    "papermill": {
     "duration": 0.025806,
     "end_time": "2021-01-02T00:15:11.495926",
     "exception": false,
     "start_time": "2021-01-02T00:15:11.470120",
     "status": "completed"
    },
    "tags": []
   },
   "source": [
    "## Filter data to get 3 and 8 out"
   ]
  },
  {
   "cell_type": "code",
   "execution_count": 9,
   "metadata": {
    "execution": {
     "iopub.execute_input": "2021-01-02T00:15:11.555403Z",
     "iopub.status.busy": "2021-01-02T00:15:11.548827Z",
     "iopub.status.idle": "2021-01-02T00:15:11.566729Z",
     "shell.execute_reply": "2021-01-02T00:15:11.566218Z"
    },
    "papermill": {
     "duration": 0.046381,
     "end_time": "2021-01-02T00:15:11.566853",
     "exception": false,
     "start_time": "2021-01-02T00:15:11.520472",
     "status": "completed"
    },
    "tags": []
   },
   "outputs": [],
   "source": [
    "train_filter = np.where((train_labels == 3 ) | (train_labels == 8))\n",
    "test_filter = np.where((test_labels == 3) | (test_labels == 8))\n",
    "X_train, y_train = train_images[train_filter], train_labels[train_filter]\n",
    "X_test, y_test = test_images[test_filter], test_labels[test_filter]"
   ]
  },
  {
   "cell_type": "markdown",
   "metadata": {
    "papermill": {
     "duration": 0.025651,
     "end_time": "2021-01-02T00:15:11.618613",
     "exception": false,
     "start_time": "2021-01-02T00:15:11.592962",
     "status": "completed"
    },
    "tags": []
   },
   "source": [
    "We normalize the pixel values in the 0 to 1 range"
   ]
  },
  {
   "cell_type": "code",
   "execution_count": 10,
   "metadata": {
    "execution": {
     "iopub.execute_input": "2021-01-02T00:15:11.674703Z",
     "iopub.status.busy": "2021-01-02T00:15:11.674131Z",
     "iopub.status.idle": "2021-01-02T00:15:11.731629Z",
     "shell.execute_reply": "2021-01-02T00:15:11.730762Z"
    },
    "papermill": {
     "duration": 0.087108,
     "end_time": "2021-01-02T00:15:11.731856",
     "exception": false,
     "start_time": "2021-01-02T00:15:11.644748",
     "status": "completed"
    },
    "tags": []
   },
   "outputs": [],
   "source": [
    "X_train = X_train/255.\n",
    "X_test = X_test/255."
   ]
  },
  {
   "cell_type": "markdown",
   "metadata": {
    "papermill": {
     "duration": 0.026419,
     "end_time": "2021-01-02T00:15:11.787516",
     "exception": false,
     "start_time": "2021-01-02T00:15:11.761097",
     "status": "completed"
    },
    "tags": []
   },
   "source": [
    "Setup the labels as 1 (when the digit is 3) and 0 (when the digit is 8)"
   ]
  },
  {
   "cell_type": "code",
   "execution_count": 11,
   "metadata": {
    "execution": {
     "iopub.execute_input": "2021-01-02T00:15:11.842878Z",
     "iopub.status.busy": "2021-01-02T00:15:11.842314Z",
     "iopub.status.idle": "2021-01-02T00:15:11.856362Z",
     "shell.execute_reply": "2021-01-02T00:15:11.855901Z"
    },
    "papermill": {
     "duration": 0.043631,
     "end_time": "2021-01-02T00:15:11.856480",
     "exception": false,
     "start_time": "2021-01-02T00:15:11.812849",
     "status": "completed"
    },
    "tags": []
   },
   "outputs": [],
   "source": [
    "y_train = 1*(y_train==3)\n",
    "y_test = 1*(y_test==3)"
   ]
  },
  {
   "cell_type": "code",
   "execution_count": 12,
   "metadata": {
    "execution": {
     "iopub.execute_input": "2021-01-02T00:15:11.911949Z",
     "iopub.status.busy": "2021-01-02T00:15:11.911365Z",
     "iopub.status.idle": "2021-01-02T00:15:11.926519Z",
     "shell.execute_reply": "2021-01-02T00:15:11.926028Z"
    },
    "papermill": {
     "duration": 0.044434,
     "end_time": "2021-01-02T00:15:11.926667",
     "exception": false,
     "start_time": "2021-01-02T00:15:11.882233",
     "status": "completed"
    },
    "tags": []
   },
   "outputs": [
    {
     "data": {
      "text/plain": [
       "((11982, 28, 28), (1984, 28, 28))"
      ]
     },
     "execution_count": 12,
     "metadata": {},
     "output_type": "execute_result"
    }
   ],
   "source": [
    "X_train.shape, X_test.shape"
   ]
  },
  {
   "cell_type": "markdown",
   "metadata": {
    "papermill": {
     "duration": 0.02636,
     "end_time": "2021-01-02T00:15:11.979333",
     "exception": false,
     "start_time": "2021-01-02T00:15:11.952973",
     "status": "completed"
    },
    "tags": []
   },
   "source": [
    "### Reshape the input data to create a linear array"
   ]
  },
  {
   "cell_type": "code",
   "execution_count": 13,
   "metadata": {
    "execution": {
     "iopub.execute_input": "2021-01-02T00:15:12.033342Z",
     "iopub.status.busy": "2021-01-02T00:15:12.032161Z",
     "iopub.status.idle": "2021-01-02T00:15:12.047390Z",
     "shell.execute_reply": "2021-01-02T00:15:12.047852Z"
    },
    "papermill": {
     "duration": 0.043621,
     "end_time": "2021-01-02T00:15:12.047979",
     "exception": false,
     "start_time": "2021-01-02T00:15:12.004358",
     "status": "completed"
    },
    "tags": []
   },
   "outputs": [
    {
     "data": {
      "text/plain": [
       "((11982, 784), (1984, 784))"
      ]
     },
     "execution_count": 13,
     "metadata": {},
     "output_type": "execute_result"
    }
   ],
   "source": [
    "X_train = X_train.reshape(X_train.shape[0], -1)\n",
    "X_test = X_test.reshape(X_test.shape[0], -1)\n",
    "X_train.shape, X_test.shape"
   ]
  },
  {
   "cell_type": "markdown",
   "metadata": {
    "papermill": {
     "duration": 0.02663,
     "end_time": "2021-01-02T00:15:12.100780",
     "exception": false,
     "start_time": "2021-01-02T00:15:12.074150",
     "status": "completed"
    },
    "tags": []
   },
   "source": [
    "### Importing appropriate functions from 'Kudzu'"
   ]
  },
  {
   "cell_type": "code",
   "execution_count": 14,
   "metadata": {
    "execution": {
     "iopub.execute_input": "2021-01-02T00:15:12.159506Z",
     "iopub.status.busy": "2021-01-02T00:15:12.158957Z",
     "iopub.status.idle": "2021-01-02T00:15:12.178666Z",
     "shell.execute_reply": "2021-01-02T00:15:12.178119Z"
    },
    "papermill": {
     "duration": 0.050893,
     "end_time": "2021-01-02T00:15:12.178802",
     "exception": false,
     "start_time": "2021-01-02T00:15:12.127909",
     "status": "completed"
    },
    "tags": []
   },
   "outputs": [],
   "source": [
    "from kudzu.layer import Sigmoid\n",
    "from kudzu.layer import Relu\n",
    "from kudzu.layer import Affine, Sigmoid\n",
    "\n",
    "from kudzu.model import Model\n",
    "from kudzu.train import Learner\n",
    "from kudzu.optim import GD\n",
    "from kudzu.data import Data, Dataloader, Sampler\n",
    "\n",
    "from kudzu.callbacks import AccCallback\n",
    "from kudzu.callbacks import ClfCallback\n",
    "\n",
    "from kudzu.loss import MSE"
   ]
  },
  {
   "cell_type": "markdown",
   "metadata": {
    "papermill": {
     "duration": 0.027394,
     "end_time": "2021-01-02T00:15:12.233101",
     "exception": false,
     "start_time": "2021-01-02T00:15:12.205707",
     "status": "completed"
    },
    "tags": []
   },
   "source": [
    "### Let us create a `Config` class, to store important parameters. \n",
    "This class essentially plays the role of a dictionary."
   ]
  },
  {
   "cell_type": "code",
   "execution_count": 15,
   "metadata": {
    "execution": {
     "iopub.execute_input": "2021-01-02T00:15:12.292525Z",
     "iopub.status.busy": "2021-01-02T00:15:12.291990Z",
     "iopub.status.idle": "2021-01-02T00:15:12.303974Z",
     "shell.execute_reply": "2021-01-02T00:15:12.303481Z"
    },
    "papermill": {
     "duration": 0.043139,
     "end_time": "2021-01-02T00:15:12.304084",
     "exception": false,
     "start_time": "2021-01-02T00:15:12.260945",
     "status": "completed"
    },
    "tags": []
   },
   "outputs": [],
   "source": [
    "class Config:\n",
    "    pass\n",
    "config = Config()\n",
    "config.lr = 0.001\n",
    "config.num_epochs = 251\n",
    "config.bs = 50"
   ]
  },
  {
   "cell_type": "markdown",
   "metadata": {
    "papermill": {
     "duration": 0.026587,
     "end_time": "2021-01-02T00:15:12.357049",
     "exception": false,
     "start_time": "2021-01-02T00:15:12.330462",
     "status": "completed"
    },
    "tags": []
   },
   "source": [
    "### Initializing data to the variables"
   ]
  },
  {
   "cell_type": "code",
   "execution_count": 16,
   "metadata": {
    "execution": {
     "iopub.execute_input": "2021-01-02T00:15:12.415484Z",
     "iopub.status.busy": "2021-01-02T00:15:12.414517Z",
     "iopub.status.idle": "2021-01-02T00:15:12.429967Z",
     "shell.execute_reply": "2021-01-02T00:15:12.430377Z"
    },
    "papermill": {
     "duration": 0.046151,
     "end_time": "2021-01-02T00:15:12.430506",
     "exception": false,
     "start_time": "2021-01-02T00:15:12.384355",
     "status": "completed"
    },
    "tags": []
   },
   "outputs": [],
   "source": [
    "data = Data(X_train, y_train.reshape(-1,1))\n",
    "sampler = Sampler(data, config.bs, shuffle=True)\n",
    "\n",
    "dl = Dataloader(data, sampler)\n",
    "\n",
    "opt = GD(config.lr)\n",
    "loss = MSE()"
   ]
  },
  {
   "cell_type": "code",
   "execution_count": 17,
   "metadata": {
    "execution": {
     "iopub.execute_input": "2021-01-02T00:15:12.488973Z",
     "iopub.status.busy": "2021-01-02T00:15:12.488392Z",
     "iopub.status.idle": "2021-01-02T00:15:12.501861Z",
     "shell.execute_reply": "2021-01-02T00:15:12.502330Z"
    },
    "papermill": {
     "duration": 0.045047,
     "end_time": "2021-01-02T00:15:12.502456",
     "exception": false,
     "start_time": "2021-01-02T00:15:12.457409",
     "status": "completed"
    },
    "tags": []
   },
   "outputs": [],
   "source": [
    "training_xdata = X_train\n",
    "testing_xdata = X_test\n",
    "training_ydata = y_train.reshape(-1,1)\n",
    "testing_ydata = y_test.reshape(-1,1)"
   ]
  },
  {
   "cell_type": "markdown",
   "metadata": {
    "papermill": {
     "duration": 0.026699,
     "end_time": "2021-01-02T00:15:12.556213",
     "exception": false,
     "start_time": "2021-01-02T00:15:12.529514",
     "status": "completed"
    },
    "tags": []
   },
   "source": [
    "### Running Models with the Training data\n",
    "Details about the network layers:\n",
    "- A first affine layer has 784 inputs and does 100 affine transforms. These are followed by a Relu\n",
    "- A second affine layer has 100 inputs from the 100 activations of the past layer, and does 100 affine transforms. These are followed by a Relu\n",
    "- A third affine layer has 100 activations and does 2 affine transformations to create an embedding for visualization. There is no non-linearity here.\n",
    "- A final \"logistic regression\" which has an affine transform from 2 inputs to 1 output, which is squeezed through a sigmoid.\n",
    "\n",
    "Help taken from Anshuman's Notebook."
   ]
  },
  {
   "cell_type": "code",
   "execution_count": 18,
   "metadata": {
    "execution": {
     "iopub.execute_input": "2021-01-02T00:15:12.616529Z",
     "iopub.status.busy": "2021-01-02T00:15:12.615489Z",
     "iopub.status.idle": "2021-01-02T00:15:12.631996Z",
     "shell.execute_reply": "2021-01-02T00:15:12.631496Z"
    },
    "papermill": {
     "duration": 0.049321,
     "end_time": "2021-01-02T00:15:12.632117",
     "exception": false,
     "start_time": "2021-01-02T00:15:12.582796",
     "status": "completed"
    },
    "tags": []
   },
   "outputs": [],
   "source": [
    "# layers for the Neural Network\n",
    "layers = [Affine(\"first\", 784, 100), Relu(\"first\"), Affine(\"second\", 100, 100), Relu(\"second\"), Affine(\"third\", 100, 2), Affine(\"final\", 2, 1), Sigmoid(\"final\")]\n",
    "model_nn = Model(layers)\n",
    "\n",
    "# layers for the Logistic Regression\n",
    "layers_lr = [Affine(\"logits\", 784, 1), Sigmoid(\"sigmoid\")]\n",
    "model_lr = Model(layers_lr)"
   ]
  },
  {
   "cell_type": "code",
   "execution_count": 19,
   "metadata": {
    "execution": {
     "iopub.execute_input": "2021-01-02T00:15:12.692954Z",
     "iopub.status.busy": "2021-01-02T00:15:12.692368Z",
     "iopub.status.idle": "2021-01-02T00:15:12.704784Z",
     "shell.execute_reply": "2021-01-02T00:15:12.704351Z"
    },
    "papermill": {
     "duration": 0.046007,
     "end_time": "2021-01-02T00:15:12.704896",
     "exception": false,
     "start_time": "2021-01-02T00:15:12.658889",
     "status": "completed"
    },
    "tags": []
   },
   "outputs": [],
   "source": [
    "# suffix _nn stands for Neural Network.\n",
    "learner_nn = Learner(loss, model_nn, opt, config.num_epochs)\n",
    "acc_nn = ClfCallback(learner_nn, config.bs, training_xdata , testing_xdata, training_ydata, testing_ydata)\n",
    "learner_nn.set_callbacks([acc_nn])"
   ]
  },
  {
   "cell_type": "code",
   "execution_count": 20,
   "metadata": {
    "execution": {
     "iopub.execute_input": "2021-01-02T00:15:12.761582Z",
     "iopub.status.busy": "2021-01-02T00:15:12.761048Z",
     "iopub.status.idle": "2021-01-02T00:16:36.474688Z",
     "shell.execute_reply": "2021-01-02T00:16:36.475576Z"
    },
    "papermill": {
     "duration": 83.744128,
     "end_time": "2021-01-02T00:16:36.475735",
     "exception": false,
     "start_time": "2021-01-02T00:15:12.731607",
     "status": "completed"
    },
    "tags": []
   },
   "outputs": [
    {
     "name": "stdout",
     "output_type": "stream",
     "text": [
      "====== Neural Network ======\n"
     ]
    },
    {
     "name": "stdout",
     "output_type": "stream",
     "text": [
      "Epoch 0, Loss 0.2486\n",
      "Training Accuracy: 0.5595, Testing Accuracy: 0.5539\n",
      "\n"
     ]
    },
    {
     "name": "stdout",
     "output_type": "stream",
     "text": [
      "Epoch 10, Loss 0.1671\n",
      "Training Accuracy: 0.8692, Testing Accuracy: 0.8760\n",
      "\n"
     ]
    },
    {
     "name": "stdout",
     "output_type": "stream",
     "text": [
      "Epoch 20, Loss 0.0853\n",
      "Training Accuracy: 0.9121, Testing Accuracy: 0.9204\n",
      "\n"
     ]
    },
    {
     "name": "stdout",
     "output_type": "stream",
     "text": [
      "Epoch 30, Loss 0.0584\n",
      "Training Accuracy: 0.9346, Testing Accuracy: 0.9410\n",
      "\n"
     ]
    },
    {
     "name": "stdout",
     "output_type": "stream",
     "text": [
      "Epoch 40, Loss 0.0469\n",
      "Training Accuracy: 0.9456, Testing Accuracy: 0.9541\n",
      "\n"
     ]
    },
    {
     "name": "stdout",
     "output_type": "stream",
     "text": [
      "Epoch 50, Loss 0.0407\n",
      "Training Accuracy: 0.9519, Testing Accuracy: 0.9612\n",
      "\n"
     ]
    },
    {
     "name": "stdout",
     "output_type": "stream",
     "text": [
      "Epoch 60, Loss 0.0369\n",
      "Training Accuracy: 0.9566, Testing Accuracy: 0.9667\n",
      "\n"
     ]
    },
    {
     "name": "stdout",
     "output_type": "stream",
     "text": [
      "Epoch 70, Loss 0.0342\n",
      "Training Accuracy: 0.9597, Testing Accuracy: 0.9682\n",
      "\n"
     ]
    },
    {
     "name": "stdout",
     "output_type": "stream",
     "text": [
      "Epoch 80, Loss 0.0322\n",
      "Training Accuracy: 0.9624, Testing Accuracy: 0.9693\n",
      "\n"
     ]
    },
    {
     "name": "stdout",
     "output_type": "stream",
     "text": [
      "Epoch 90, Loss 0.0306\n",
      "Training Accuracy: 0.9638, Testing Accuracy: 0.9698\n",
      "\n"
     ]
    },
    {
     "name": "stdout",
     "output_type": "stream",
     "text": [
      "Epoch 100, Loss 0.0292\n",
      "Training Accuracy: 0.9660, Testing Accuracy: 0.9698\n",
      "\n"
     ]
    },
    {
     "name": "stdout",
     "output_type": "stream",
     "text": [
      "Epoch 110, Loss 0.0281\n",
      "Training Accuracy: 0.9678, Testing Accuracy: 0.9698\n",
      "\n"
     ]
    },
    {
     "name": "stdout",
     "output_type": "stream",
     "text": [
      "Epoch 120, Loss 0.0272\n",
      "Training Accuracy: 0.9688, Testing Accuracy: 0.9713\n",
      "\n"
     ]
    },
    {
     "name": "stdout",
     "output_type": "stream",
     "text": [
      "Epoch 130, Loss 0.0263\n",
      "Training Accuracy: 0.9699, Testing Accuracy: 0.9718\n",
      "\n"
     ]
    },
    {
     "name": "stdout",
     "output_type": "stream",
     "text": [
      "Epoch 140, Loss 0.0255\n",
      "Training Accuracy: 0.9709, Testing Accuracy: 0.9718\n",
      "\n"
     ]
    },
    {
     "name": "stdout",
     "output_type": "stream",
     "text": [
      "Epoch 150, Loss 0.0248\n",
      "Training Accuracy: 0.9717, Testing Accuracy: 0.9718\n",
      "\n"
     ]
    },
    {
     "name": "stdout",
     "output_type": "stream",
     "text": [
      "Epoch 160, Loss 0.0242\n",
      "Training Accuracy: 0.9724, Testing Accuracy: 0.9728\n",
      "\n"
     ]
    },
    {
     "name": "stdout",
     "output_type": "stream",
     "text": [
      "Epoch 170, Loss 0.0237\n",
      "Training Accuracy: 0.9730, Testing Accuracy: 0.9733\n",
      "\n"
     ]
    },
    {
     "name": "stdout",
     "output_type": "stream",
     "text": [
      "Epoch 180, Loss 0.0232\n",
      "Training Accuracy: 0.9737, Testing Accuracy: 0.9738\n",
      "\n"
     ]
    },
    {
     "name": "stdout",
     "output_type": "stream",
     "text": [
      "Epoch 190, Loss 0.0227\n",
      "Training Accuracy: 0.9740, Testing Accuracy: 0.9738\n",
      "\n"
     ]
    },
    {
     "name": "stdout",
     "output_type": "stream",
     "text": [
      "Epoch 200, Loss 0.0222\n",
      "Training Accuracy: 0.9746, Testing Accuracy: 0.9738\n",
      "\n"
     ]
    },
    {
     "name": "stdout",
     "output_type": "stream",
     "text": [
      "Epoch 210, Loss 0.0218\n",
      "Training Accuracy: 0.9752, Testing Accuracy: 0.9738\n",
      "\n"
     ]
    },
    {
     "name": "stdout",
     "output_type": "stream",
     "text": [
      "Epoch 220, Loss 0.0214\n",
      "Training Accuracy: 0.9757, Testing Accuracy: 0.9738\n",
      "\n"
     ]
    },
    {
     "name": "stdout",
     "output_type": "stream",
     "text": [
      "Epoch 230, Loss 0.021\n",
      "Training Accuracy: 0.9759, Testing Accuracy: 0.9743\n",
      "\n"
     ]
    },
    {
     "name": "stdout",
     "output_type": "stream",
     "text": [
      "Epoch 240, Loss 0.0207\n",
      "Training Accuracy: 0.9764, Testing Accuracy: 0.9743\n",
      "\n"
     ]
    },
    {
     "name": "stdout",
     "output_type": "stream",
     "text": [
      "Epoch 250, Loss 0.0203\n",
      "Training Accuracy: 0.9770, Testing Accuracy: 0.9743\n",
      "\n"
     ]
    },
    {
     "data": {
      "text/plain": [
       "0.055230250106306875"
      ]
     },
     "execution_count": 20,
     "metadata": {},
     "output_type": "execute_result"
    }
   ],
   "source": [
    "print(\"====== Neural Network ======\")\n",
    "learner_nn.train_loop(dl)"
   ]
  },
  {
   "cell_type": "markdown",
   "metadata": {
    "papermill": {
     "duration": 0.035482,
     "end_time": "2021-01-02T00:16:36.547558",
     "exception": false,
     "start_time": "2021-01-02T00:16:36.512076",
     "status": "completed"
    },
    "tags": []
   },
   "source": [
    "### Logistic Regression based Implementation."
   ]
  },
  {
   "cell_type": "code",
   "execution_count": 21,
   "metadata": {
    "execution": {
     "iopub.execute_input": "2021-01-02T00:16:36.622183Z",
     "iopub.status.busy": "2021-01-02T00:16:36.621648Z",
     "iopub.status.idle": "2021-01-02T00:16:36.635615Z",
     "shell.execute_reply": "2021-01-02T00:16:36.635184Z"
    },
    "papermill": {
     "duration": 0.053381,
     "end_time": "2021-01-02T00:16:36.635735",
     "exception": false,
     "start_time": "2021-01-02T00:16:36.582354",
     "status": "completed"
    },
    "tags": []
   },
   "outputs": [],
   "source": [
    "learner_lr = Learner(loss, model_lr, opt, config.num_epochs)\n",
    "acc_lr = ClfCallback(learner_lr, config.bs, training_xdata , testing_xdata, training_ydata, testing_ydata)\n",
    "learner_lr.set_callbacks([acc_lr])"
   ]
  },
  {
   "cell_type": "code",
   "execution_count": 22,
   "metadata": {
    "execution": {
     "iopub.execute_input": "2021-01-02T00:16:36.711851Z",
     "iopub.status.busy": "2021-01-02T00:16:36.711275Z",
     "iopub.status.idle": "2021-01-02T00:16:51.157585Z",
     "shell.execute_reply": "2021-01-02T00:16:51.158337Z"
    },
    "papermill": {
     "duration": 14.488567,
     "end_time": "2021-01-02T00:16:51.158490",
     "exception": false,
     "start_time": "2021-01-02T00:16:36.669923",
     "status": "completed"
    },
    "tags": []
   },
   "outputs": [
    {
     "name": "stdout",
     "output_type": "stream",
     "text": [
      "====== Logistic Regression ======\n",
      "Epoch 0, Loss 0.2412\n",
      "Training Accuracy: 0.6747, Testing Accuracy: 0.6689\n",
      "\n"
     ]
    },
    {
     "name": "stdout",
     "output_type": "stream",
     "text": [
      "Epoch 10, Loss 0.1064\n",
      "Training Accuracy: 0.9009, Testing Accuracy: 0.9158\n",
      "\n"
     ]
    },
    {
     "name": "stdout",
     "output_type": "stream",
     "text": [
      "Epoch 20, Loss 0.0809\n",
      "Training Accuracy: 0.9263, Testing Accuracy: 0.9365\n",
      "\n"
     ]
    },
    {
     "name": "stdout",
     "output_type": "stream",
     "text": [
      "Epoch 30, Loss 0.0692\n",
      "Training Accuracy: 0.9350, Testing Accuracy: 0.9461\n",
      "\n"
     ]
    },
    {
     "name": "stdout",
     "output_type": "stream",
     "text": [
      "Epoch 40, Loss 0.0623\n",
      "Training Accuracy: 0.9407, Testing Accuracy: 0.9506\n",
      "\n"
     ]
    },
    {
     "name": "stdout",
     "output_type": "stream",
     "text": [
      "Epoch 50, Loss 0.0576\n",
      "Training Accuracy: 0.9449, Testing Accuracy: 0.9536\n",
      "\n"
     ]
    },
    {
     "name": "stdout",
     "output_type": "stream",
     "text": [
      "Epoch 60, Loss 0.0541\n",
      "Training Accuracy: 0.9463, Testing Accuracy: 0.9572\n",
      "\n"
     ]
    },
    {
     "name": "stdout",
     "output_type": "stream",
     "text": [
      "Epoch 70, Loss 0.0515\n",
      "Training Accuracy: 0.9497, Testing Accuracy: 0.9582\n",
      "\n"
     ]
    },
    {
     "name": "stdout",
     "output_type": "stream",
     "text": [
      "Epoch 80, Loss 0.0494\n",
      "Training Accuracy: 0.9510, Testing Accuracy: 0.9587\n",
      "\n"
     ]
    },
    {
     "name": "stdout",
     "output_type": "stream",
     "text": [
      "Epoch 90, Loss 0.0476\n",
      "Training Accuracy: 0.9520, Testing Accuracy: 0.9612\n",
      "\n"
     ]
    },
    {
     "name": "stdout",
     "output_type": "stream",
     "text": [
      "Epoch 100, Loss 0.0462\n",
      "Training Accuracy: 0.9527, Testing Accuracy: 0.9632\n",
      "\n"
     ]
    },
    {
     "name": "stdout",
     "output_type": "stream",
     "text": [
      "Epoch 110, Loss 0.0449\n",
      "Training Accuracy: 0.9533, Testing Accuracy: 0.9632\n",
      "\n"
     ]
    },
    {
     "name": "stdout",
     "output_type": "stream",
     "text": [
      "Epoch 120, Loss 0.0439\n",
      "Training Accuracy: 0.9541, Testing Accuracy: 0.9642\n",
      "\n"
     ]
    },
    {
     "name": "stdout",
     "output_type": "stream",
     "text": [
      "Epoch 130, Loss 0.0429\n",
      "Training Accuracy: 0.9551, Testing Accuracy: 0.9652\n",
      "\n"
     ]
    },
    {
     "name": "stdout",
     "output_type": "stream",
     "text": [
      "Epoch 140, Loss 0.0421\n",
      "Training Accuracy: 0.9557, Testing Accuracy: 0.9647\n",
      "\n"
     ]
    },
    {
     "name": "stdout",
     "output_type": "stream",
     "text": [
      "Epoch 150, Loss 0.0413\n",
      "Training Accuracy: 0.9562, Testing Accuracy: 0.9647\n",
      "\n"
     ]
    },
    {
     "name": "stdout",
     "output_type": "stream",
     "text": [
      "Epoch 160, Loss 0.0406\n",
      "Training Accuracy: 0.9564, Testing Accuracy: 0.9647\n",
      "\n"
     ]
    },
    {
     "name": "stdout",
     "output_type": "stream",
     "text": [
      "Epoch 170, Loss 0.04\n",
      "Training Accuracy: 0.9569, Testing Accuracy: 0.9642\n",
      "\n"
     ]
    },
    {
     "name": "stdout",
     "output_type": "stream",
     "text": [
      "Epoch 180, Loss 0.0394\n",
      "Training Accuracy: 0.9574, Testing Accuracy: 0.9652\n",
      "\n"
     ]
    },
    {
     "name": "stdout",
     "output_type": "stream",
     "text": [
      "Epoch 190, Loss 0.0389\n",
      "Training Accuracy: 0.9579, Testing Accuracy: 0.9652\n",
      "\n"
     ]
    },
    {
     "name": "stdout",
     "output_type": "stream",
     "text": [
      "Epoch 200, Loss 0.0384\n",
      "Training Accuracy: 0.9585, Testing Accuracy: 0.9652\n",
      "\n"
     ]
    },
    {
     "name": "stdout",
     "output_type": "stream",
     "text": [
      "Epoch 210, Loss 0.038\n",
      "Training Accuracy: 0.9589, Testing Accuracy: 0.9647\n",
      "\n"
     ]
    },
    {
     "name": "stdout",
     "output_type": "stream",
     "text": [
      "Epoch 220, Loss 0.0376\n",
      "Training Accuracy: 0.9594, Testing Accuracy: 0.9657\n",
      "\n"
     ]
    },
    {
     "name": "stdout",
     "output_type": "stream",
     "text": [
      "Epoch 230, Loss 0.0372\n",
      "Training Accuracy: 0.9593, Testing Accuracy: 0.9662\n",
      "\n"
     ]
    },
    {
     "name": "stdout",
     "output_type": "stream",
     "text": [
      "Epoch 240, Loss 0.0368\n",
      "Training Accuracy: 0.9596, Testing Accuracy: 0.9667\n",
      "\n"
     ]
    },
    {
     "name": "stdout",
     "output_type": "stream",
     "text": [
      "Epoch 250, Loss 0.0365\n",
      "Training Accuracy: 0.9598, Testing Accuracy: 0.9677\n",
      "\n"
     ]
    },
    {
     "data": {
      "text/plain": [
       "0.033788464067895596"
      ]
     },
     "execution_count": 22,
     "metadata": {},
     "output_type": "execute_result"
    }
   ],
   "source": [
    "print(\"====== Logistic Regression ======\")\n",
    "learner_lr.train_loop(dl)"
   ]
  },
  {
   "cell_type": "markdown",
   "metadata": {
    "papermill": {
     "duration": 0.043447,
     "end_time": "2021-01-02T00:16:51.245668",
     "exception": false,
     "start_time": "2021-01-02T00:16:51.202221",
     "status": "completed"
    },
    "tags": []
   },
   "source": [
    "### Comparing results of NN and LR"
   ]
  },
  {
   "cell_type": "code",
   "execution_count": 23,
   "metadata": {
    "execution": {
     "iopub.execute_input": "2021-01-02T00:16:51.338966Z",
     "iopub.status.busy": "2021-01-02T00:16:51.337900Z",
     "iopub.status.idle": "2021-01-02T00:16:51.565818Z",
     "shell.execute_reply": "2021-01-02T00:16:51.566268Z"
    },
    "papermill": {
     "duration": 0.276865,
     "end_time": "2021-01-02T00:16:51.566417",
     "exception": false,
     "start_time": "2021-01-02T00:16:51.289552",
     "status": "completed"
    },
    "tags": []
   },
   "outputs": [
    {
     "data": {
      "text/plain": [
       "<matplotlib.legend.Legend at 0x7eff24467c18>"
      ]
     },
     "execution_count": 23,
     "metadata": {},
     "output_type": "execute_result"
    },
    {
     "data": {
      "image/png": "[encoded data removed]",
      "text/plain": [
       "<Figure size 1080x720 with 1 Axes>"
      ]
     },
     "metadata": {
      "needs_background": "light"
     },
     "output_type": "display_data"
    }
   ],
   "source": [
    "plt.figure(figsize=(15,10))\n",
    "\n",
    "# Neural Network plots\n",
    "plt.plot(acc_nn.accuracies, 'r-', label = \"Training Accuracies - NN\")\n",
    "plt.plot(acc_nn.test_accuracies, 'g-', label = \"Testing Accuracies - NN\")\n",
    "\n",
    "# Logistic Regression plots\n",
    "plt.plot(acc_lr.accuracies, 'k-', label = \"Training Accuracies - LR\")\n",
    "plt.plot(acc_lr.test_accuracies, 'b-', label = \"Testing Accuracies - LR\")\n",
    "\n",
    "plt.ylim(0.8, 1)\n",
    "\n",
    "plt.legend()\n",
    "\n"
   ]
  },
  {
   "cell_type": "markdown",
   "metadata": {
    "papermill": {
     "duration": 0.04449,
     "end_time": "2021-01-02T00:16:51.654239",
     "exception": false,
     "start_time": "2021-01-02T00:16:51.609749",
     "status": "completed"
    },
    "tags": []
   },
   "source": [
    "### From the plot, we can observe the following:\n",
    "- Neural Network achieves higher accuracy than the Logistic Regression model.\n",
    "- This apparently, is because of overfitting, i.e. NN captures more noise than data.\n",
    "- Testing accuracy of NN drops below the Training accuracy at higher epochs. This explains the over-fitting on training data.\n",
    "- Logistic Regression gives a reliable accuracy, without the above mentioned problem.\n"
   ]
  },
  {
   "cell_type": "markdown",
   "metadata": {
    "papermill": {
     "duration": 0.043411,
     "end_time": "2021-01-02T00:16:51.741694",
     "exception": false,
     "start_time": "2021-01-02T00:16:51.698283",
     "status": "completed"
    },
    "tags": []
   },
   "source": [
    "### Moving till the last but one layer (excluding it).\n",
    "#### Plotting the outputs of this layer of the NN."
   ]
  },
  {
   "cell_type": "code",
   "execution_count": 24,
   "metadata": {
    "execution": {
     "iopub.execute_input": "2021-01-02T00:16:51.836082Z",
     "iopub.status.busy": "2021-01-02T00:16:51.835524Z",
     "iopub.status.idle": "2021-01-02T00:16:51.846481Z",
     "shell.execute_reply": "2021-01-02T00:16:51.846957Z"
    },
    "papermill": {
     "duration": 0.061358,
     "end_time": "2021-01-02T00:16:51.847113",
     "exception": false,
     "start_time": "2021-01-02T00:16:51.785755",
     "status": "completed"
    },
    "tags": []
   },
   "outputs": [],
   "source": [
    "model_new = Model(layers[:-2])"
   ]
  },
  {
   "cell_type": "code",
   "execution_count": 25,
   "metadata": {
    "execution": {
     "iopub.execute_input": "2021-01-02T00:16:51.939282Z",
     "iopub.status.busy": "2021-01-02T00:16:51.938729Z",
     "iopub.status.idle": "2021-01-02T00:16:51.960760Z",
     "shell.execute_reply": "2021-01-02T00:16:51.961197Z"
    },
    "papermill": {
     "duration": 0.069561,
     "end_time": "2021-01-02T00:16:51.961331",
     "exception": false,
     "start_time": "2021-01-02T00:16:51.891770",
     "status": "completed"
    },
    "tags": []
   },
   "outputs": [],
   "source": [
    "plot_testing = model_new(testing_xdata)"
   ]
  },
  {
   "cell_type": "code",
   "execution_count": 26,
   "metadata": {
    "execution": {
     "iopub.execute_input": "2021-01-02T00:16:52.052650Z",
     "iopub.status.busy": "2021-01-02T00:16:52.052072Z",
     "iopub.status.idle": "2021-01-02T00:16:52.243647Z",
     "shell.execute_reply": "2021-01-02T00:16:52.243134Z"
    },
    "papermill": {
     "duration": 0.238344,
     "end_time": "2021-01-02T00:16:52.243837",
     "exception": false,
     "start_time": "2021-01-02T00:16:52.005493",
     "status": "completed"
    },
    "tags": []
   },
   "outputs": [
    {
     "data": {
      "text/plain": [
       "Text(0.5, 1.0, 'Outputs')"
      ]
     },
     "execution_count": 26,
     "metadata": {},
     "output_type": "execute_result"
    },
    {
     "data": {
      "image/png": "[encoded data removed]",
      "text/plain": [
       "<Figure size 576x504 with 1 Axes>"
      ]
     },
     "metadata": {
      "needs_background": "light"
     },
     "output_type": "display_data"
    }
   ],
   "source": [
    "plt.figure(figsize=(8,7))\n",
    "plt.scatter(plot_testing[:,0], plot_testing[:,1], alpha = 0.1, c = y_test.ravel());\n",
    "plt.title('Outputs')"
   ]
  },
  {
   "cell_type": "markdown",
   "metadata": {
    "papermill": {
     "duration": 0.045887,
     "end_time": "2021-01-02T00:16:52.338358",
     "exception": false,
     "start_time": "2021-01-02T00:16:52.292471",
     "status": "completed"
    },
    "tags": []
   },
   "source": [
    "### Plotting probability contours"
   ]
  },
  {
   "cell_type": "code",
   "execution_count": 27,
   "metadata": {
    "execution": {
     "iopub.execute_input": "2021-01-02T00:16:52.438101Z",
     "iopub.status.busy": "2021-01-02T00:16:52.437516Z",
     "iopub.status.idle": "2021-01-02T00:16:52.451592Z",
     "shell.execute_reply": "2021-01-02T00:16:52.452035Z"
    },
    "papermill": {
     "duration": 0.065903,
     "end_time": "2021-01-02T00:16:52.452188",
     "exception": false,
     "start_time": "2021-01-02T00:16:52.386285",
     "status": "completed"
    },
    "tags": []
   },
   "outputs": [],
   "source": [
    "model_prob = Model(layers[-2:]) "
   ]
  },
  {
   "cell_type": "code",
   "execution_count": 28,
   "metadata": {
    "execution": {
     "iopub.execute_input": "2021-01-02T00:16:52.549769Z",
     "iopub.status.busy": "2021-01-02T00:16:52.549179Z",
     "iopub.status.idle": "2021-01-02T00:16:52.562971Z",
     "shell.execute_reply": "2021-01-02T00:16:52.563415Z"
    },
    "papermill": {
     "duration": 0.065435,
     "end_time": "2021-01-02T00:16:52.563551",
     "exception": false,
     "start_time": "2021-01-02T00:16:52.498116",
     "status": "completed"
    },
    "tags": []
   },
   "outputs": [],
   "source": [
    "# Adjust the x and y ranges according to the above generated plot.\n",
    "x_range = np.linspace(-4, 1, 100) \n",
    "y_range = np.linspace(-6, 6, 100) \n",
    "x_grid, y_grid = np.meshgrid(x_range, y_range) # x_grid and y_grig are of size 100 X 100\n",
    "\n",
    "# converting x_grid and y_grid to continuous arrays\n",
    "x_grid_flat = np.ravel(x_grid)\n",
    "y_grid_flat = np.ravel(y_grid)\n",
    "\n",
    "# The last layer of the current model takes two columns as input. Hence transpose of np.vstack() is required.\n",
    "X = np.vstack((x_grid_flat, y_grid_flat)).T\n",
    "\n",
    "# x_grid and y_grid are of size 100 x 100\n",
    "probability_contour = model_prob(X).reshape(100,100) "
   ]
  },
  {
   "cell_type": "code",
   "execution_count": 29,
   "metadata": {
    "execution": {
     "iopub.execute_input": "2021-01-02T00:16:52.689218Z",
     "iopub.status.busy": "2021-01-02T00:16:52.688664Z",
     "iopub.status.idle": "2021-01-02T00:16:52.929343Z",
     "shell.execute_reply": "2021-01-02T00:16:52.929782Z"
    },
    "papermill": {
     "duration": 0.320633,
     "end_time": "2021-01-02T00:16:52.929928",
     "exception": false,
     "start_time": "2021-01-02T00:16:52.609295",
     "status": "completed"
    },
    "tags": []
   },
   "outputs": [
    {
     "data": {
      "image/png": "[encoded data removed]",
      "text/plain": [
       "<Figure size 720x648 with 1 Axes>"
      ]
     },
     "metadata": {
      "needs_background": "light"
     },
     "output_type": "display_data"
    }
   ],
   "source": [
    "plt.figure(figsize=(10,9))\n",
    "plt.scatter(plot_testing[:,0], plot_testing[:,1], alpha = 0.1, c = y_test.ravel())\n",
    "contours = plt.contour(x_grid,y_grid,probability_contour)\n",
    "plt.title('Probability Contours')\n",
    "plt.clabel(contours, inline = True );"
   ]
  }
 ],
 "metadata": {
  "kernelspec": {
   "display_name": "Python 3",
   "language": "python",
   "name": "python3"
  },
  "language_info": {
   "codemirror_mode": {
    "name": "ipython",
    "version": 3
   },
   "file_extension": ".py",
   "mimetype": "text/x-python",
   "name": "python",
   "nbconvert_exporter": "python",
   "pygments_lexer": "ipython3",
   "version": "3.6.12"
  },
  "papermill": {
   "duration": 106.791877,
   "end_time": "2021-01-02T00:16:53.287279",
   "environment_variables": {},
   "exception": null,
   "input_path": "2020-08-11-NeuralNetwork.ipynb",
   "output_path": "2020-08-11-NeuralNetwork.ipynb",
   "parameters": {},
   "start_time": "2021-01-02T00:15:06.495402",
   "version": "2.1.2"
  }
 },
 "nbformat": 4,
 "nbformat_minor": 4
}