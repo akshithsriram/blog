{
 "cells": [
  {
   "cell_type": "markdown",
   "metadata": {
    "papermill": {
     "duration": 0.032227,
     "end_time": "2020-12-27T10:09:41.582776",
     "exception": false,
     "start_time": "2020-12-27T10:09:41.550549",
     "status": "completed"
    },
    "tags": []
   },
   "source": [
    "# \"A Basic Neural Network: Differentiate Hand-Written Digits\"\n",
    "\n",
    "- badges: true\n",
    "- author: Akshith Sriram"
   ]
  },
  {
   "cell_type": "markdown",
   "metadata": {
    "papermill": {
     "duration": 0.027259,
     "end_time": "2020-12-27T10:09:41.636603",
     "exception": false,
     "start_time": "2020-12-27T10:09:41.609344",
     "status": "completed"
    },
    "tags": []
   },
   "source": [
    "### Key Objectives:\n",
    "- Building a neural network that differentiates two hand-written digits 3 and 8.\n",
    "- Comparing the results of this Neural Network (NN) to that of a Logistic Regression (LR) model.\n",
    "\n",
    "### Requirements:\n",
    "- 'Kudzu' : A neural network library that was designed during our course by [Univ.AI](www.univ.ai). \n",
    "- MNIST Database\n",
    "\n",
    "If MNIST is not installed, use the command `!pip install mnist` given below.\n",
    "It can be run both from the command line and Jupyter Notebook."
   ]
  },
  {
   "cell_type": "code",
   "execution_count": 1,
   "metadata": {
    "execution": {
     "iopub.execute_input": "2020-12-27T10:09:41.700136Z",
     "iopub.status.busy": "2020-12-27T10:09:41.699381Z",
     "iopub.status.idle": "2020-12-27T10:09:43.283775Z",
     "shell.execute_reply": "2020-12-27T10:09:43.284293Z"
    },
    "papermill": {
     "duration": 1.622753,
     "end_time": "2020-12-27T10:09:43.284492",
     "exception": false,
     "start_time": "2020-12-27T10:09:41.661739",
     "status": "completed"
    },
    "tags": []
   },
   "outputs": [
    {
     "name": "stdout",
     "output_type": "stream",
     "text": [
      "Collecting mnist\r\n"
     ]
    },
    {
     "name": "stdout",
     "output_type": "stream",
     "text": [
      "  Downloading mnist-0.2.2-py2.py3-none-any.whl (3.5 kB)\r\n",
      "Requirement already satisfied: numpy in /opt/hostedtoolcache/Python/3.6.12/x64/lib/python3.6/site-packages (from mnist) (1.19.4)\r\n"
     ]
    },
    {
     "name": "stdout",
     "output_type": "stream",
     "text": [
      "Installing collected packages: mnist\r\n"
     ]
    },
    {
     "name": "stdout",
     "output_type": "stream",
     "text": [
      "Successfully installed mnist-0.2.2\r\n"
     ]
    },
    {
     "name": "stdout",
     "output_type": "stream",
     "text": [
      "\u001b[33mWARNING: You are using pip version 20.3.1; however, version 20.3.3 is available.\r\n",
      "You should consider upgrading via the '/opt/hostedtoolcache/Python/3.6.12/x64/bin/python -m pip install --upgrade pip' command.\u001b[0m\r\n"
     ]
    }
   ],
   "source": [
    "!pip install mnist "
   ]
  },
  {
   "cell_type": "markdown",
   "metadata": {
    "papermill": {
     "duration": 0.02925,
     "end_time": "2020-12-27T10:09:43.342699",
     "exception": false,
     "start_time": "2020-12-27T10:09:43.313449",
     "status": "completed"
    },
    "tags": []
   },
   "source": [
    "#### Importing necessary libraries"
   ]
  },
  {
   "cell_type": "code",
   "execution_count": 2,
   "metadata": {
    "execution": {
     "iopub.execute_input": "2020-12-27T10:09:43.405889Z",
     "iopub.status.busy": "2020-12-27T10:09:43.405285Z",
     "iopub.status.idle": "2020-12-27T10:09:43.990809Z",
     "shell.execute_reply": "2020-12-27T10:09:43.989780Z"
    },
    "papermill": {
     "duration": 0.619202,
     "end_time": "2020-12-27T10:09:43.990951",
     "exception": false,
     "start_time": "2020-12-27T10:09:43.371749",
     "status": "completed"
    },
    "tags": []
   },
   "outputs": [],
   "source": [
    "%load_ext autoreload\n",
    "%autoreload 2\n",
    "\n",
    "%matplotlib inline\n",
    "import matplotlib.pyplot as plt\n",
    "\n",
    "import numpy as np\n",
    "import pandas as pd"
   ]
  },
  {
   "cell_type": "markdown",
   "metadata": {
    "papermill": {
     "duration": 0.032188,
     "end_time": "2020-12-27T10:09:44.053847",
     "exception": false,
     "start_time": "2020-12-27T10:09:44.021659",
     "status": "completed"
    },
    "tags": []
   },
   "source": [
    "### Preparing the Data"
   ]
  },
  {
   "cell_type": "code",
   "execution_count": 3,
   "metadata": {
    "execution": {
     "iopub.execute_input": "2020-12-27T10:09:44.127317Z",
     "iopub.status.busy": "2020-12-27T10:09:44.123282Z",
     "iopub.status.idle": "2020-12-27T10:09:44.132350Z",
     "shell.execute_reply": "2020-12-27T10:09:44.131799Z"
    },
    "papermill": {
     "duration": 0.049371,
     "end_time": "2020-12-27T10:09:44.132484",
     "exception": false,
     "start_time": "2020-12-27T10:09:44.083113",
     "status": "completed"
    },
    "tags": []
   },
   "outputs": [],
   "source": [
    "import mnist"
   ]
  },
  {
   "cell_type": "code",
   "execution_count": 4,
   "metadata": {
    "execution": {
     "iopub.execute_input": "2020-12-27T10:09:44.199206Z",
     "iopub.status.busy": "2020-12-27T10:09:44.198567Z",
     "iopub.status.idle": "2020-12-27T10:09:45.821626Z",
     "shell.execute_reply": "2020-12-27T10:09:45.820993Z"
    },
    "papermill": {
     "duration": 1.660402,
     "end_time": "2020-12-27T10:09:45.821783",
     "exception": false,
     "start_time": "2020-12-27T10:09:44.161381",
     "status": "completed"
    },
    "tags": []
   },
   "outputs": [],
   "source": [
    "train_images = mnist.train_images()\n",
    "train_labels = mnist.train_labels()"
   ]
  },
  {
   "cell_type": "code",
   "execution_count": 5,
   "metadata": {
    "execution": {
     "iopub.execute_input": "2020-12-27T10:09:45.884356Z",
     "iopub.status.busy": "2020-12-27T10:09:45.883083Z",
     "iopub.status.idle": "2020-12-27T10:09:45.896831Z",
     "shell.execute_reply": "2020-12-27T10:09:45.896285Z"
    },
    "papermill": {
     "duration": 0.045863,
     "end_time": "2020-12-27T10:09:45.896947",
     "exception": false,
     "start_time": "2020-12-27T10:09:45.851084",
     "status": "completed"
    },
    "tags": []
   },
   "outputs": [
    {
     "data": {
      "text/plain": [
       "((60000, 28, 28), (60000,))"
      ]
     },
     "execution_count": 5,
     "metadata": {},
     "output_type": "execute_result"
    }
   ],
   "source": [
    "train_images.shape, train_labels.shape"
   ]
  },
  {
   "cell_type": "code",
   "execution_count": 6,
   "metadata": {
    "execution": {
     "iopub.execute_input": "2020-12-27T10:09:45.958606Z",
     "iopub.status.busy": "2020-12-27T10:09:45.957980Z",
     "iopub.status.idle": "2020-12-27T10:09:46.751892Z",
     "shell.execute_reply": "2020-12-27T10:09:46.751283Z"
    },
    "papermill": {
     "duration": 0.826988,
     "end_time": "2020-12-27T10:09:46.752050",
     "exception": false,
     "start_time": "2020-12-27T10:09:45.925062",
     "status": "completed"
    },
    "tags": []
   },
   "outputs": [],
   "source": [
    "test_images = mnist.test_images()\n",
    "test_labels = mnist.test_labels()"
   ]
  },
  {
   "cell_type": "code",
   "execution_count": 7,
   "metadata": {
    "execution": {
     "iopub.execute_input": "2020-12-27T10:09:47.163896Z",
     "iopub.status.busy": "2020-12-27T10:09:47.163212Z",
     "iopub.status.idle": "2020-12-27T10:09:47.177410Z",
     "shell.execute_reply": "2020-12-27T10:09:47.178265Z"
    },
    "papermill": {
     "duration": 0.395794,
     "end_time": "2020-12-27T10:09:47.178453",
     "exception": false,
     "start_time": "2020-12-27T10:09:46.782659",
     "status": "completed"
    },
    "tags": []
   },
   "outputs": [
    {
     "data": {
      "text/plain": [
       "((10000, 28, 28), (10000,))"
      ]
     },
     "execution_count": 7,
     "metadata": {},
     "output_type": "execute_result"
    }
   ],
   "source": [
    "test_images.shape, test_labels.shape"
   ]
  },
  {
   "cell_type": "code",
   "execution_count": 8,
   "metadata": {
    "execution": {
     "iopub.execute_input": "2020-12-27T10:09:47.554774Z",
     "iopub.status.busy": "2020-12-27T10:09:47.554117Z",
     "iopub.status.idle": "2020-12-27T10:09:47.733000Z",
     "shell.execute_reply": "2020-12-27T10:09:47.731956Z"
    },
    "papermill": {
     "duration": 0.43326,
     "end_time": "2020-12-27T10:09:47.733148",
     "exception": false,
     "start_time": "2020-12-27T10:09:47.299888",
     "status": "completed"
    },
    "tags": []
   },
   "outputs": [
    {
     "name": "stdout",
     "output_type": "stream",
     "text": [
      "2\n"
     ]
    },
    {
     "data": {
      "text/plain": [
       "<matplotlib.image.AxesImage at 0x7f9ea69782e8>"
      ]
     },
     "execution_count": 8,
     "metadata": {},
     "output_type": "execute_result"
    },
    {
     "data": {
      "image/png": "[encoded data removed]",
      "text/plain": [
       "<Figure size 432x288 with 1 Axes>"
      ]
     },
     "metadata": {
      "needs_background": "light"
     },
     "output_type": "display_data"
    }
   ],
   "source": [
    "image_index = 7776 # You may select anything up to 60,000\n",
    "print(train_labels[image_index]) \n",
    "plt.imshow(train_images[image_index], cmap='Greys')"
   ]
  },
  {
   "cell_type": "markdown",
   "metadata": {
    "papermill": {
     "duration": 0.037461,
     "end_time": "2020-12-27T10:09:47.808110",
     "exception": false,
     "start_time": "2020-12-27T10:09:47.770649",
     "status": "completed"
    },
    "tags": []
   },
   "source": [
    "## Filter data to get 3 and 8 out"
   ]
  },
  {
   "cell_type": "code",
   "execution_count": 9,
   "metadata": {
    "execution": {
     "iopub.execute_input": "2020-12-27T10:09:47.890986Z",
     "iopub.status.busy": "2020-12-27T10:09:47.885879Z",
     "iopub.status.idle": "2020-12-27T10:09:47.896927Z",
     "shell.execute_reply": "2020-12-27T10:09:47.896375Z"
    },
    "papermill": {
     "duration": 0.055286,
     "end_time": "2020-12-27T10:09:47.897060",
     "exception": false,
     "start_time": "2020-12-27T10:09:47.841774",
     "status": "completed"
    },
    "tags": []
   },
   "outputs": [],
   "source": [
    "train_filter = np.where((train_labels == 3 ) | (train_labels == 8))\n",
    "test_filter = np.where((test_labels == 3) | (test_labels == 8))\n",
    "X_train, y_train = train_images[train_filter], train_labels[train_filter]\n",
    "X_test, y_test = test_images[test_filter], test_labels[test_filter]"
   ]
  },
  {
   "cell_type": "markdown",
   "metadata": {
    "papermill": {
     "duration": 0.027303,
     "end_time": "2020-12-27T10:09:47.954171",
     "exception": false,
     "start_time": "2020-12-27T10:09:47.926868",
     "status": "completed"
    },
    "tags": []
   },
   "source": [
    "We normalize the pixel values in the 0 to 1 range"
   ]
  },
  {
   "cell_type": "code",
   "execution_count": 10,
   "metadata": {
    "execution": {
     "iopub.execute_input": "2020-12-27T10:09:48.027197Z",
     "iopub.status.busy": "2020-12-27T10:09:48.019985Z",
     "iopub.status.idle": "2020-12-27T10:09:48.076674Z",
     "shell.execute_reply": "2020-12-27T10:09:48.077155Z"
    },
    "papermill": {
     "duration": 0.094554,
     "end_time": "2020-12-27T10:09:48.077357",
     "exception": false,
     "start_time": "2020-12-27T10:09:47.982803",
     "status": "completed"
    },
    "tags": []
   },
   "outputs": [],
   "source": [
    "X_train = X_train/255.\n",
    "X_test = X_test/255."
   ]
  },
  {
   "cell_type": "markdown",
   "metadata": {
    "papermill": {
     "duration": 0.030766,
     "end_time": "2020-12-27T10:09:48.139707",
     "exception": false,
     "start_time": "2020-12-27T10:09:48.108941",
     "status": "completed"
    },
    "tags": []
   },
   "source": [
    "Setup the labels as 1 (when the digit is 3) and 0 (when the digit is 8)"
   ]
  },
  {
   "cell_type": "code",
   "execution_count": 11,
   "metadata": {
    "execution": {
     "iopub.execute_input": "2020-12-27T10:09:48.218147Z",
     "iopub.status.busy": "2020-12-27T10:09:48.217222Z",
     "iopub.status.idle": "2020-12-27T10:09:48.222624Z",
     "shell.execute_reply": "2020-12-27T10:09:48.222060Z"
    },
    "papermill": {
     "duration": 0.053455,
     "end_time": "2020-12-27T10:09:48.222772",
     "exception": false,
     "start_time": "2020-12-27T10:09:48.169317",
     "status": "completed"
    },
    "tags": []
   },
   "outputs": [],
   "source": [
    "y_train = 1*(y_train==3)\n",
    "y_test = 1*(y_test==3)"
   ]
  },
  {
   "cell_type": "code",
   "execution_count": 12,
   "metadata": {
    "execution": {
     "iopub.execute_input": "2020-12-27T10:09:48.300586Z",
     "iopub.status.busy": "2020-12-27T10:09:48.299054Z",
     "iopub.status.idle": "2020-12-27T10:09:48.308849Z",
     "shell.execute_reply": "2020-12-27T10:09:48.307612Z"
    },
    "papermill": {
     "duration": 0.052907,
     "end_time": "2020-12-27T10:09:48.308981",
     "exception": false,
     "start_time": "2020-12-27T10:09:48.256074",
     "status": "completed"
    },
    "tags": []
   },
   "outputs": [
    {
     "data": {
      "text/plain": [
       "((11982, 28, 28), (1984, 28, 28))"
      ]
     },
     "execution_count": 12,
     "metadata": {},
     "output_type": "execute_result"
    }
   ],
   "source": [
    "X_train.shape, X_test.shape"
   ]
  },
  {
   "cell_type": "markdown",
   "metadata": {
    "papermill": {
     "duration": 0.031155,
     "end_time": "2020-12-27T10:09:48.376339",
     "exception": false,
     "start_time": "2020-12-27T10:09:48.345184",
     "status": "completed"
    },
    "tags": []
   },
   "source": [
    "### Reshape the input data to create a linear array"
   ]
  },
  {
   "cell_type": "code",
   "execution_count": 13,
   "metadata": {
    "execution": {
     "iopub.execute_input": "2020-12-27T10:09:48.455381Z",
     "iopub.status.busy": "2020-12-27T10:09:48.454545Z",
     "iopub.status.idle": "2020-12-27T10:09:48.458111Z",
     "shell.execute_reply": "2020-12-27T10:09:48.458626Z"
    },
    "papermill": {
     "duration": 0.052998,
     "end_time": "2020-12-27T10:09:48.458767",
     "exception": false,
     "start_time": "2020-12-27T10:09:48.405769",
     "status": "completed"
    },
    "tags": []
   },
   "outputs": [
    {
     "data": {
      "text/plain": [
       "((11982, 784), (1984, 784))"
      ]
     },
     "execution_count": 13,
     "metadata": {},
     "output_type": "execute_result"
    }
   ],
   "source": [
    "X_train = X_train.reshape(X_train.shape[0], -1)\n",
    "X_test = X_test.reshape(X_test.shape[0], -1)\n",
    "X_train.shape, X_test.shape"
   ]
  },
  {
   "cell_type": "markdown",
   "metadata": {
    "papermill": {
     "duration": 0.029666,
     "end_time": "2020-12-27T10:09:48.518221",
     "exception": false,
     "start_time": "2020-12-27T10:09:48.488555",
     "status": "completed"
    },
    "tags": []
   },
   "source": [
    "### Importing appropriate functions from 'Kudzu'"
   ]
  },
  {
   "cell_type": "code",
   "execution_count": 14,
   "metadata": {
    "execution": {
     "iopub.execute_input": "2020-12-27T10:09:48.591620Z",
     "iopub.status.busy": "2020-12-27T10:09:48.590984Z",
     "iopub.status.idle": "2020-12-27T10:09:48.607363Z",
     "shell.execute_reply": "2020-12-27T10:09:48.607842Z"
    },
    "papermill": {
     "duration": 0.059127,
     "end_time": "2020-12-27T10:09:48.607994",
     "exception": false,
     "start_time": "2020-12-27T10:09:48.548867",
     "status": "completed"
    },
    "tags": []
   },
   "outputs": [],
   "source": [
    "from kudzu.layer import Sigmoid\n",
    "from kudzu.layer import Relu\n",
    "from kudzu.layer import Affine, Sigmoid\n",
    "\n",
    "from kudzu.model import Model\n",
    "from kudzu.train import Learner\n",
    "from kudzu.optim import GD\n",
    "from kudzu.data import Data, Dataloader, Sampler\n",
    "\n",
    "from kudzu.callbacks import AccCallback\n",
    "from kudzu.callbacks import ClfCallback\n",
    "\n",
    "from kudzu.loss import MSE"
   ]
  },
  {
   "cell_type": "markdown",
   "metadata": {
    "papermill": {
     "duration": 0.027723,
     "end_time": "2020-12-27T10:09:48.665434",
     "exception": false,
     "start_time": "2020-12-27T10:09:48.637711",
     "status": "completed"
    },
    "tags": []
   },
   "source": [
    "### Let us create a `Config` class, to store important parameters. \n",
    "This class essentially plays the role of a dictionary."
   ]
  },
  {
   "cell_type": "code",
   "execution_count": 15,
   "metadata": {
    "execution": {
     "iopub.execute_input": "2020-12-27T10:09:48.739873Z",
     "iopub.status.busy": "2020-12-27T10:09:48.739265Z",
     "iopub.status.idle": "2020-12-27T10:09:48.742939Z",
     "shell.execute_reply": "2020-12-27T10:09:48.743417Z"
    },
    "papermill": {
     "duration": 0.048862,
     "end_time": "2020-12-27T10:09:48.743551",
     "exception": false,
     "start_time": "2020-12-27T10:09:48.694689",
     "status": "completed"
    },
    "tags": []
   },
   "outputs": [],
   "source": [
    "class Config:\n",
    "    pass\n",
    "config = Config()\n",
    "config.lr = 0.001\n",
    "config.num_epochs = 251\n",
    "config.bs = 50"
   ]
  },
  {
   "cell_type": "markdown",
   "metadata": {
    "papermill": {
     "duration": 0.030173,
     "end_time": "2020-12-27T10:09:48.803842",
     "exception": false,
     "start_time": "2020-12-27T10:09:48.773669",
     "status": "completed"
    },
    "tags": []
   },
   "source": [
    "### Initializing data to the variables"
   ]
  },
  {
   "cell_type": "code",
   "execution_count": 16,
   "metadata": {
    "execution": {
     "iopub.execute_input": "2020-12-27T10:09:48.878206Z",
     "iopub.status.busy": "2020-12-27T10:09:48.877585Z",
     "iopub.status.idle": "2020-12-27T10:09:48.890127Z",
     "shell.execute_reply": "2020-12-27T10:09:48.889570Z"
    },
    "papermill": {
     "duration": 0.053356,
     "end_time": "2020-12-27T10:09:48.890251",
     "exception": false,
     "start_time": "2020-12-27T10:09:48.836895",
     "status": "completed"
    },
    "tags": []
   },
   "outputs": [],
   "source": [
    "data = Data(X_train, y_train.reshape(-1,1))\n",
    "sampler = Sampler(data, config.bs, shuffle=True)\n",
    "\n",
    "dl = Dataloader(data, sampler)\n",
    "\n",
    "opt = GD(config.lr)\n",
    "loss = MSE()"
   ]
  },
  {
   "cell_type": "code",
   "execution_count": 17,
   "metadata": {
    "execution": {
     "iopub.execute_input": "2020-12-27T10:09:48.960744Z",
     "iopub.status.busy": "2020-12-27T10:09:48.960120Z",
     "iopub.status.idle": "2020-12-27T10:09:48.971934Z",
     "shell.execute_reply": "2020-12-27T10:09:48.971318Z"
    },
    "papermill": {
     "duration": 0.050207,
     "end_time": "2020-12-27T10:09:48.972065",
     "exception": false,
     "start_time": "2020-12-27T10:09:48.921858",
     "status": "completed"
    },
    "tags": []
   },
   "outputs": [],
   "source": [
    "training_xdata = X_train\n",
    "testing_xdata = X_test\n",
    "training_ydata = y_train.reshape(-1,1)\n",
    "testing_ydata = y_test.reshape(-1,1)"
   ]
  },
  {
   "cell_type": "markdown",
   "metadata": {
    "papermill": {
     "duration": 0.029913,
     "end_time": "2020-12-27T10:09:49.032478",
     "exception": false,
     "start_time": "2020-12-27T10:09:49.002565",
     "status": "completed"
    },
    "tags": []
   },
   "source": [
    "### Running Models with the Training data\n",
    "Details about the network layers:\n",
    "- A first affine layer has 784 inputs and does 100 affine transforms. These are followed by a Relu\n",
    "- A second affine layer has 100 inputs from the 100 activations of the past layer, and does 100 affine transforms. These are followed by a Relu\n",
    "- A third affine layer has 100 activations and does 2 affine transformations to create an embedding for visualization. There is no non-linearity here.\n",
    "- A final \"logistic regression\" which has an affine transform from 2 inputs to 1 output, which is squeezed through a sigmoid.\n",
    "\n",
    "Help taken from Anshuman's Notebook."
   ]
  },
  {
   "cell_type": "code",
   "execution_count": 18,
   "metadata": {
    "execution": {
     "iopub.execute_input": "2020-12-27T10:09:49.111220Z",
     "iopub.status.busy": "2020-12-27T10:09:49.102453Z",
     "iopub.status.idle": "2020-12-27T10:09:49.117568Z",
     "shell.execute_reply": "2020-12-27T10:09:49.117047Z"
    },
    "papermill": {
     "duration": 0.056116,
     "end_time": "2020-12-27T10:09:49.117706",
     "exception": false,
     "start_time": "2020-12-27T10:09:49.061590",
     "status": "completed"
    },
    "tags": []
   },
   "outputs": [],
   "source": [
    "# layers for the Neural Network\n",
    "layers = [Affine(\"first\", 784, 100), Relu(\"first\"), Affine(\"second\", 100, 100), Relu(\"second\"), Affine(\"third\", 100, 2), Affine(\"final\", 2, 1), Sigmoid(\"final\")]\n",
    "model_nn = Model(layers)\n",
    "\n",
    "# layers for the Logistic Regression\n",
    "layers_lr = [Affine(\"logits\", 784, 1), Sigmoid(\"sigmoid\")]\n",
    "model_lr = Model(layers_lr)"
   ]
  },
  {
   "cell_type": "code",
   "execution_count": 19,
   "metadata": {
    "execution": {
     "iopub.execute_input": "2020-12-27T10:09:49.186712Z",
     "iopub.status.busy": "2020-12-27T10:09:49.186028Z",
     "iopub.status.idle": "2020-12-27T10:09:49.195983Z",
     "shell.execute_reply": "2020-12-27T10:09:49.196499Z"
    },
    "papermill": {
     "duration": 0.048533,
     "end_time": "2020-12-27T10:09:49.196635",
     "exception": false,
     "start_time": "2020-12-27T10:09:49.148102",
     "status": "completed"
    },
    "tags": []
   },
   "outputs": [],
   "source": [
    "# suffix _nn stands for Neural Network.\n",
    "learner_nn = Learner(loss, model_nn, opt, config.num_epochs)\n",
    "acc_nn = ClfCallback(learner_nn, config.bs, training_xdata , testing_xdata, training_ydata, testing_ydata)\n",
    "learner_nn.set_callbacks([acc_nn])"
   ]
  },
  {
   "cell_type": "code",
   "execution_count": 20,
   "metadata": {
    "execution": {
     "iopub.execute_input": "2020-12-27T10:09:49.268632Z",
     "iopub.status.busy": "2020-12-27T10:09:49.267185Z",
     "iopub.status.idle": "2020-12-27T10:11:52.746293Z",
     "shell.execute_reply": "2020-12-27T10:11:52.746926Z"
    },
    "papermill": {
     "duration": 123.517726,
     "end_time": "2020-12-27T10:11:52.747100",
     "exception": false,
     "start_time": "2020-12-27T10:09:49.229374",
     "status": "completed"
    },
    "tags": []
   },
   "outputs": [
    {
     "name": "stdout",
     "output_type": "stream",
     "text": [
      "====== Neural Network ======\n"
     ]
    },
    {
     "name": "stdout",
     "output_type": "stream",
     "text": [
      "Epoch 0, Loss 0.2481\n",
      "Training Accuracy: 0.5699, Testing Accuracy: 0.5726\n",
      "\n"
     ]
    },
    {
     "name": "stdout",
     "output_type": "stream",
     "text": [
      "Epoch 10, Loss 0.1672\n",
      "Training Accuracy: 0.8647, Testing Accuracy: 0.8730\n",
      "\n"
     ]
    },
    {
     "name": "stdout",
     "output_type": "stream",
     "text": [
      "Epoch 20, Loss 0.0871\n",
      "Training Accuracy: 0.9135, Testing Accuracy: 0.9209\n",
      "\n"
     ]
    },
    {
     "name": "stdout",
     "output_type": "stream",
     "text": [
      "Epoch 30, Loss 0.0576\n",
      "Training Accuracy: 0.9394, Testing Accuracy: 0.9461\n",
      "\n"
     ]
    },
    {
     "name": "stdout",
     "output_type": "stream",
     "text": [
      "Epoch 40, Loss 0.0453\n",
      "Training Accuracy: 0.9513, Testing Accuracy: 0.9592\n",
      "\n"
     ]
    },
    {
     "name": "stdout",
     "output_type": "stream",
     "text": [
      "Epoch 50, Loss 0.0389\n",
      "Training Accuracy: 0.9574, Testing Accuracy: 0.9632\n",
      "\n"
     ]
    },
    {
     "name": "stdout",
     "output_type": "stream",
     "text": [
      "Epoch 60, Loss 0.035\n",
      "Training Accuracy: 0.9615, Testing Accuracy: 0.9657\n",
      "\n"
     ]
    },
    {
     "name": "stdout",
     "output_type": "stream",
     "text": [
      "Epoch 70, Loss 0.0324\n",
      "Training Accuracy: 0.9639, Testing Accuracy: 0.9672\n",
      "\n"
     ]
    },
    {
     "name": "stdout",
     "output_type": "stream",
     "text": [
      "Epoch 80, Loss 0.0304\n",
      "Training Accuracy: 0.9650, Testing Accuracy: 0.9682\n",
      "\n"
     ]
    },
    {
     "name": "stdout",
     "output_type": "stream",
     "text": [
      "Epoch 90, Loss 0.0289\n",
      "Training Accuracy: 0.9663, Testing Accuracy: 0.9693\n",
      "\n"
     ]
    },
    {
     "name": "stdout",
     "output_type": "stream",
     "text": [
      "Epoch 100, Loss 0.0277\n",
      "Training Accuracy: 0.9670, Testing Accuracy: 0.9703\n",
      "\n"
     ]
    },
    {
     "name": "stdout",
     "output_type": "stream",
     "text": [
      "Epoch 110, Loss 0.0267\n",
      "Training Accuracy: 0.9688, Testing Accuracy: 0.9703\n",
      "\n"
     ]
    },
    {
     "name": "stdout",
     "output_type": "stream",
     "text": [
      "Epoch 120, Loss 0.0258\n",
      "Training Accuracy: 0.9698, Testing Accuracy: 0.9713\n",
      "\n"
     ]
    },
    {
     "name": "stdout",
     "output_type": "stream",
     "text": [
      "Epoch 130, Loss 0.025\n",
      "Training Accuracy: 0.9706, Testing Accuracy: 0.9708\n",
      "\n"
     ]
    },
    {
     "name": "stdout",
     "output_type": "stream",
     "text": [
      "Epoch 140, Loss 0.0243\n",
      "Training Accuracy: 0.9724, Testing Accuracy: 0.9708\n",
      "\n"
     ]
    },
    {
     "name": "stdout",
     "output_type": "stream",
     "text": [
      "Epoch 150, Loss 0.0236\n",
      "Training Accuracy: 0.9732, Testing Accuracy: 0.9708\n",
      "\n"
     ]
    },
    {
     "name": "stdout",
     "output_type": "stream",
     "text": [
      "Epoch 160, Loss 0.023\n",
      "Training Accuracy: 0.9735, Testing Accuracy: 0.9708\n",
      "\n"
     ]
    },
    {
     "name": "stdout",
     "output_type": "stream",
     "text": [
      "Epoch 170, Loss 0.0225\n",
      "Training Accuracy: 0.9738, Testing Accuracy: 0.9718\n",
      "\n"
     ]
    },
    {
     "name": "stdout",
     "output_type": "stream",
     "text": [
      "Epoch 180, Loss 0.022\n",
      "Training Accuracy: 0.9746, Testing Accuracy: 0.9718\n",
      "\n"
     ]
    },
    {
     "name": "stdout",
     "output_type": "stream",
     "text": [
      "Epoch 190, Loss 0.0215\n",
      "Training Accuracy: 0.9751, Testing Accuracy: 0.9718\n",
      "\n"
     ]
    },
    {
     "name": "stdout",
     "output_type": "stream",
     "text": [
      "Epoch 200, Loss 0.0211\n",
      "Training Accuracy: 0.9756, Testing Accuracy: 0.9723\n",
      "\n"
     ]
    },
    {
     "name": "stdout",
     "output_type": "stream",
     "text": [
      "Epoch 210, Loss 0.0207\n",
      "Training Accuracy: 0.9762, Testing Accuracy: 0.9718\n",
      "\n"
     ]
    },
    {
     "name": "stdout",
     "output_type": "stream",
     "text": [
      "Epoch 220, Loss 0.0203\n",
      "Training Accuracy: 0.9766, Testing Accuracy: 0.9723\n",
      "\n"
     ]
    },
    {
     "name": "stdout",
     "output_type": "stream",
     "text": [
      "Epoch 230, Loss 0.0199\n",
      "Training Accuracy: 0.9774, Testing Accuracy: 0.9733\n",
      "\n"
     ]
    },
    {
     "name": "stdout",
     "output_type": "stream",
     "text": [
      "Epoch 240, Loss 0.0195\n",
      "Training Accuracy: 0.9777, Testing Accuracy: 0.9733\n",
      "\n"
     ]
    },
    {
     "name": "stdout",
     "output_type": "stream",
     "text": [
      "Epoch 250, Loss 0.0192\n",
      "Training Accuracy: 0.9782, Testing Accuracy: 0.9738\n",
      "\n"
     ]
    },
    {
     "data": {
      "text/plain": [
       "0.0103133406781826"
      ]
     },
     "execution_count": 20,
     "metadata": {},
     "output_type": "execute_result"
    }
   ],
   "source": [
    "print(\"====== Neural Network ======\")\n",
    "learner_nn.train_loop(dl)"
   ]
  },
  {
   "cell_type": "markdown",
   "metadata": {
    "papermill": {
     "duration": 0.039593,
     "end_time": "2020-12-27T10:11:52.826515",
     "exception": false,
     "start_time": "2020-12-27T10:11:52.786922",
     "status": "completed"
    },
    "tags": []
   },
   "source": [
    "### Logistic Regression based Implementation."
   ]
  },
  {
   "cell_type": "code",
   "execution_count": 21,
   "metadata": {
    "execution": {
     "iopub.execute_input": "2020-12-27T10:11:52.917390Z",
     "iopub.status.busy": "2020-12-27T10:11:52.914385Z",
     "iopub.status.idle": "2020-12-27T10:11:52.921961Z",
     "shell.execute_reply": "2020-12-27T10:11:52.922613Z"
    },
    "papermill": {
     "duration": 0.059271,
     "end_time": "2020-12-27T10:11:52.922750",
     "exception": false,
     "start_time": "2020-12-27T10:11:52.863479",
     "status": "completed"
    },
    "tags": []
   },
   "outputs": [],
   "source": [
    "learner_lr = Learner(loss, model_lr, opt, config.num_epochs)\n",
    "acc_lr = ClfCallback(learner_lr, config.bs, training_xdata , testing_xdata, training_ydata, testing_ydata)\n",
    "learner_lr.set_callbacks([acc_lr])"
   ]
  },
  {
   "cell_type": "code",
   "execution_count": 22,
   "metadata": {
    "execution": {
     "iopub.execute_input": "2020-12-27T10:11:53.001690Z",
     "iopub.status.busy": "2020-12-27T10:11:53.000858Z",
     "iopub.status.idle": "2020-12-27T10:12:11.488131Z",
     "shell.execute_reply": "2020-12-27T10:12:11.488864Z"
    },
    "papermill": {
     "duration": 18.529655,
     "end_time": "2020-12-27T10:12:11.489022",
     "exception": false,
     "start_time": "2020-12-27T10:11:52.959367",
     "status": "completed"
    },
    "tags": []
   },
   "outputs": [
    {
     "name": "stdout",
     "output_type": "stream",
     "text": [
      "====== Logistic Regression ======\n",
      "Epoch 0, Loss 0.2105\n",
      "Training Accuracy: 0.7847, Testing Accuracy: 0.7737\n",
      "\n"
     ]
    },
    {
     "name": "stdout",
     "output_type": "stream",
     "text": [
      "Epoch 10, Loss 0.0962\n",
      "Training Accuracy: 0.9255, Testing Accuracy: 0.9315\n",
      "\n"
     ]
    },
    {
     "name": "stdout",
     "output_type": "stream",
     "text": [
      "Epoch 20, Loss 0.0752\n",
      "Training Accuracy: 0.9367, Testing Accuracy: 0.9425\n",
      "\n"
     ]
    },
    {
     "name": "stdout",
     "output_type": "stream",
     "text": [
      "Epoch 30, Loss 0.0653\n",
      "Training Accuracy: 0.9423, Testing Accuracy: 0.9491\n",
      "\n"
     ]
    },
    {
     "name": "stdout",
     "output_type": "stream",
     "text": [
      "Epoch 40, Loss 0.0594\n",
      "Training Accuracy: 0.9457, Testing Accuracy: 0.9531\n",
      "\n"
     ]
    },
    {
     "name": "stdout",
     "output_type": "stream",
     "text": [
      "Epoch 50, Loss 0.0553\n",
      "Training Accuracy: 0.9478, Testing Accuracy: 0.9551\n",
      "\n"
     ]
    },
    {
     "name": "stdout",
     "output_type": "stream",
     "text": [
      "Epoch 60, Loss 0.0523\n",
      "Training Accuracy: 0.9498, Testing Accuracy: 0.9561\n",
      "\n"
     ]
    },
    {
     "name": "stdout",
     "output_type": "stream",
     "text": [
      "Epoch 70, Loss 0.0499\n",
      "Training Accuracy: 0.9507, Testing Accuracy: 0.9572\n",
      "\n"
     ]
    },
    {
     "name": "stdout",
     "output_type": "stream",
     "text": [
      "Epoch 80, Loss 0.0481\n",
      "Training Accuracy: 0.9525, Testing Accuracy: 0.9597\n",
      "\n"
     ]
    },
    {
     "name": "stdout",
     "output_type": "stream",
     "text": [
      "Epoch 90, Loss 0.0465\n",
      "Training Accuracy: 0.9534, Testing Accuracy: 0.9607\n",
      "\n"
     ]
    },
    {
     "name": "stdout",
     "output_type": "stream",
     "text": [
      "Epoch 100, Loss 0.0452\n",
      "Training Accuracy: 0.9548, Testing Accuracy: 0.9612\n",
      "\n"
     ]
    },
    {
     "name": "stdout",
     "output_type": "stream",
     "text": [
      "Epoch 110, Loss 0.044\n",
      "Training Accuracy: 0.9559, Testing Accuracy: 0.9617\n",
      "\n"
     ]
    },
    {
     "name": "stdout",
     "output_type": "stream",
     "text": [
      "Epoch 120, Loss 0.043\n",
      "Training Accuracy: 0.9565, Testing Accuracy: 0.9627\n",
      "\n"
     ]
    },
    {
     "name": "stdout",
     "output_type": "stream",
     "text": [
      "Epoch 130, Loss 0.0422\n",
      "Training Accuracy: 0.9569, Testing Accuracy: 0.9632\n",
      "\n"
     ]
    },
    {
     "name": "stdout",
     "output_type": "stream",
     "text": [
      "Epoch 140, Loss 0.0414\n",
      "Training Accuracy: 0.9577, Testing Accuracy: 0.9642\n",
      "\n"
     ]
    },
    {
     "name": "stdout",
     "output_type": "stream",
     "text": [
      "Epoch 150, Loss 0.0407\n",
      "Training Accuracy: 0.9585, Testing Accuracy: 0.9642\n",
      "\n"
     ]
    },
    {
     "name": "stdout",
     "output_type": "stream",
     "text": [
      "Epoch 160, Loss 0.0401\n",
      "Training Accuracy: 0.9588, Testing Accuracy: 0.9642\n",
      "\n"
     ]
    },
    {
     "name": "stdout",
     "output_type": "stream",
     "text": [
      "Epoch 170, Loss 0.0395\n",
      "Training Accuracy: 0.9592, Testing Accuracy: 0.9642\n",
      "\n"
     ]
    },
    {
     "name": "stdout",
     "output_type": "stream",
     "text": [
      "Epoch 180, Loss 0.0389\n",
      "Training Accuracy: 0.9599, Testing Accuracy: 0.9647\n",
      "\n"
     ]
    },
    {
     "name": "stdout",
     "output_type": "stream",
     "text": [
      "Epoch 190, Loss 0.0385\n",
      "Training Accuracy: 0.9602, Testing Accuracy: 0.9647\n",
      "\n"
     ]
    },
    {
     "name": "stdout",
     "output_type": "stream",
     "text": [
      "Epoch 200, Loss 0.038\n",
      "Training Accuracy: 0.9604, Testing Accuracy: 0.9647\n",
      "\n"
     ]
    },
    {
     "name": "stdout",
     "output_type": "stream",
     "text": [
      "Epoch 210, Loss 0.0376\n",
      "Training Accuracy: 0.9611, Testing Accuracy: 0.9647\n",
      "\n"
     ]
    },
    {
     "name": "stdout",
     "output_type": "stream",
     "text": [
      "Epoch 220, Loss 0.0372\n",
      "Training Accuracy: 0.9613, Testing Accuracy: 0.9647\n",
      "\n"
     ]
    },
    {
     "name": "stdout",
     "output_type": "stream",
     "text": [
      "Epoch 230, Loss 0.0368\n",
      "Training Accuracy: 0.9614, Testing Accuracy: 0.9647\n",
      "\n"
     ]
    },
    {
     "name": "stdout",
     "output_type": "stream",
     "text": [
      "Epoch 240, Loss 0.0365\n",
      "Training Accuracy: 0.9615, Testing Accuracy: 0.9647\n",
      "\n"
     ]
    },
    {
     "name": "stdout",
     "output_type": "stream",
     "text": [
      "Epoch 250, Loss 0.0362\n",
      "Training Accuracy: 0.9619, Testing Accuracy: 0.9652\n",
      "\n"
     ]
    },
    {
     "data": {
      "text/plain": [
       "0.03220954440050029"
      ]
     },
     "execution_count": 22,
     "metadata": {},
     "output_type": "execute_result"
    }
   ],
   "source": [
    "print(\"====== Logistic Regression ======\")\n",
    "learner_lr.train_loop(dl)"
   ]
  },
  {
   "cell_type": "markdown",
   "metadata": {
    "papermill": {
     "duration": 0.046508,
     "end_time": "2020-12-27T10:12:11.582002",
     "exception": false,
     "start_time": "2020-12-27T10:12:11.535494",
     "status": "completed"
    },
    "tags": []
   },
   "source": [
    "### Comparing results of NN and LR"
   ]
  },
  {
   "cell_type": "code",
   "execution_count": 23,
   "metadata": {
    "execution": {
     "iopub.execute_input": "2020-12-27T10:12:11.679357Z",
     "iopub.status.busy": "2020-12-27T10:12:11.675818Z",
     "iopub.status.idle": "2020-12-27T10:12:11.929160Z",
     "shell.execute_reply": "2020-12-27T10:12:11.929639Z"
    },
    "papermill": {
     "duration": 0.30349,
     "end_time": "2020-12-27T10:12:11.930565",
     "exception": false,
     "start_time": "2020-12-27T10:12:11.627075",
     "status": "completed"
    },
    "tags": []
   },
   "outputs": [
    {
     "data": {
      "text/plain": [
       "<matplotlib.legend.Legend at 0x7f9ea1da1c18>"
      ]
     },
     "execution_count": 23,
     "metadata": {},
     "output_type": "execute_result"
    },
    {
     "data": {
      "image/png": "[encoded data removed]",
      "text/plain": [
       "<Figure size 1080x720 with 1 Axes>"
      ]
     },
     "metadata": {
      "needs_background": "light"
     },
     "output_type": "display_data"
    }
   ],
   "source": [
    "plt.figure(figsize=(15,10))\n",
    "\n",
    "# Neural Network plots\n",
    "plt.plot(acc_nn.accuracies, 'r-', label = \"Training Accuracies - NN\")\n",
    "plt.plot(acc_nn.test_accuracies, 'g-', label = \"Testing Accuracies - NN\")\n",
    "\n",
    "# Logistic Regression plots\n",
    "plt.plot(acc_lr.accuracies, 'k-', label = \"Training Accuracies - LR\")\n",
    "plt.plot(acc_lr.test_accuracies, 'b-', label = \"Testing Accuracies - LR\")\n",
    "\n",
    "plt.ylim(0.8, 1)\n",
    "\n",
    "plt.legend()\n",
    "\n"
   ]
  },
  {
   "cell_type": "markdown",
   "metadata": {
    "papermill": {
     "duration": 0.045836,
     "end_time": "2020-12-27T10:12:12.025793",
     "exception": false,
     "start_time": "2020-12-27T10:12:11.979957",
     "status": "completed"
    },
    "tags": []
   },
   "source": [
    "### From the plot, we can observe the following:\n",
    "- Neural Network achieves higher accuracy than the Logistic Regression model.\n",
    "- This apparently, is because of overfitting, i.e. NN captures more noise than data.\n",
    "- Testing accuracy of NN drops below the Training accuracy at higher epochs. This explains the over-fitting on training data.\n",
    "- Logistic Regression gives a reliable accuracy, without the above mentioned problem.\n"
   ]
  },
  {
   "cell_type": "markdown",
   "metadata": {
    "papermill": {
     "duration": 0.050513,
     "end_time": "2020-12-27T10:12:12.124047",
     "exception": false,
     "start_time": "2020-12-27T10:12:12.073534",
     "status": "completed"
    },
    "tags": []
   },
   "source": [
    "### Moving till the last but one layer (excluding it).\n",
    "#### Plotting the outputs of this layer of the NN."
   ]
  },
  {
   "cell_type": "code",
   "execution_count": 24,
   "metadata": {
    "execution": {
     "iopub.execute_input": "2020-12-27T10:12:12.231007Z",
     "iopub.status.busy": "2020-12-27T10:12:12.230309Z",
     "iopub.status.idle": "2020-12-27T10:12:12.241183Z",
     "shell.execute_reply": "2020-12-27T10:12:12.241732Z"
    },
    "papermill": {
     "duration": 0.069103,
     "end_time": "2020-12-27T10:12:12.241933",
     "exception": false,
     "start_time": "2020-12-27T10:12:12.172830",
     "status": "completed"
    },
    "tags": []
   },
   "outputs": [],
   "source": [
    "model_new = Model(layers[:-2])"
   ]
  },
  {
   "cell_type": "code",
   "execution_count": 25,
   "metadata": {
    "execution": {
     "iopub.execute_input": "2020-12-27T10:12:12.343145Z",
     "iopub.status.busy": "2020-12-27T10:12:12.342363Z",
     "iopub.status.idle": "2020-12-27T10:12:12.368768Z",
     "shell.execute_reply": "2020-12-27T10:12:12.369689Z"
    },
    "papermill": {
     "duration": 0.078312,
     "end_time": "2020-12-27T10:12:12.369841",
     "exception": false,
     "start_time": "2020-12-27T10:12:12.291529",
     "status": "completed"
    },
    "tags": []
   },
   "outputs": [],
   "source": [
    "plot_testing = model_new(testing_xdata)"
   ]
  },
  {
   "cell_type": "code",
   "execution_count": 26,
   "metadata": {
    "execution": {
     "iopub.execute_input": "2020-12-27T10:12:12.471890Z",
     "iopub.status.busy": "2020-12-27T10:12:12.471277Z",
     "iopub.status.idle": "2020-12-27T10:12:12.686817Z",
     "shell.execute_reply": "2020-12-27T10:12:12.686281Z"
    },
    "papermill": {
     "duration": 0.268728,
     "end_time": "2020-12-27T10:12:12.686950",
     "exception": false,
     "start_time": "2020-12-27T10:12:12.418222",
     "status": "completed"
    },
    "tags": []
   },
   "outputs": [
    {
     "data": {
      "text/plain": [
       "Text(0.5, 1.0, 'Outputs')"
      ]
     },
     "execution_count": 26,
     "metadata": {},
     "output_type": "execute_result"
    },
    {
     "data": {
      "image/png": "[encoded data removed]",
      "text/plain": [
       "<Figure size 576x504 with 1 Axes>"
      ]
     },
     "metadata": {
      "needs_background": "light"
     },
     "output_type": "display_data"
    }
   ],
   "source": [
    "plt.figure(figsize=(8,7))\n",
    "plt.scatter(plot_testing[:,0], plot_testing[:,1], alpha = 0.1, c = y_test.ravel());\n",
    "plt.title('Outputs')"
   ]
  },
  {
   "cell_type": "markdown",
   "metadata": {
    "papermill": {
     "duration": 0.048193,
     "end_time": "2020-12-27T10:12:12.785419",
     "exception": false,
     "start_time": "2020-12-27T10:12:12.737226",
     "status": "completed"
    },
    "tags": []
   },
   "source": [
    "### Plotting probability contours"
   ]
  },
  {
   "cell_type": "code",
   "execution_count": 27,
   "metadata": {
    "execution": {
     "iopub.execute_input": "2020-12-27T10:12:12.896355Z",
     "iopub.status.busy": "2020-12-27T10:12:12.895730Z",
     "iopub.status.idle": "2020-12-27T10:12:12.907074Z",
     "shell.execute_reply": "2020-12-27T10:12:12.906541Z"
    },
    "papermill": {
     "duration": 0.068162,
     "end_time": "2020-12-27T10:12:12.907199",
     "exception": false,
     "start_time": "2020-12-27T10:12:12.839037",
     "status": "completed"
    },
    "tags": []
   },
   "outputs": [],
   "source": [
    "model_prob = Model(layers[-2:]) "
   ]
  },
  {
   "cell_type": "code",
   "execution_count": 28,
   "metadata": {
    "execution": {
     "iopub.execute_input": "2020-12-27T10:12:13.029923Z",
     "iopub.status.busy": "2020-12-27T10:12:13.029334Z",
     "iopub.status.idle": "2020-12-27T10:12:13.041678Z",
     "shell.execute_reply": "2020-12-27T10:12:13.042154Z"
    },
    "papermill": {
     "duration": 0.08459,
     "end_time": "2020-12-27T10:12:13.042314",
     "exception": false,
     "start_time": "2020-12-27T10:12:12.957724",
     "status": "completed"
    },
    "tags": []
   },
   "outputs": [],
   "source": [
    "# Adjust the x and y ranges according to the above generated plot.\n",
    "x_range = np.linspace(-4, 1, 100) \n",
    "y_range = np.linspace(-6, 6, 100) \n",
    "x_grid, y_grid = np.meshgrid(x_range, y_range) # x_grid and y_grig are of size 100 X 100\n",
    "\n",
    "# converting x_grid and y_grid to continuous arrays\n",
    "x_grid_flat = np.ravel(x_grid)\n",
    "y_grid_flat = np.ravel(y_grid)\n",
    "\n",
    "# The last layer of the current model takes two columns as input. Hence transpose of np.vstack() is required.\n",
    "X = np.vstack((x_grid_flat, y_grid_flat)).T\n",
    "\n",
    "# x_grid and y_grid are of size 100 x 100\n",
    "probability_contour = model_prob(X).reshape(100,100) "
   ]
  },
  {
   "cell_type": "code",
   "execution_count": 29,
   "metadata": {
    "execution": {
     "iopub.execute_input": "2020-12-27T10:12:13.154727Z",
     "iopub.status.busy": "2020-12-27T10:12:13.154030Z",
     "iopub.status.idle": "2020-12-27T10:12:13.438315Z",
     "shell.execute_reply": "2020-12-27T10:12:13.437746Z"
    },
    "papermill": {
     "duration": 0.34442,
     "end_time": "2020-12-27T10:12:13.438511",
     "exception": false,
     "start_time": "2020-12-27T10:12:13.094091",
     "status": "completed"
    },
    "tags": []
   },
   "outputs": [
    {
     "data": {
      "image/png": "[encoded data removed]",
      "text/plain": [
       "<Figure size 720x648 with 1 Axes>"
      ]
     },
     "metadata": {
      "needs_background": "light"
     },
     "output_type": "display_data"
    }
   ],
   "source": [
    "plt.figure(figsize=(10,9))\n",
    "plt.scatter(plot_testing[:,0], plot_testing[:,1], alpha = 0.1, c = y_test.ravel())\n",
    "contours = plt.contour(x_grid,y_grid,probability_contour)\n",
    "plt.title('Probability Contours')\n",
    "plt.clabel(contours, inline = True );"
   ]
  }
 ],
 "metadata": {
  "kernelspec": {
   "display_name": "Python 3",
   "language": "python",
   "name": "python3"
  },
  "language_info": {
   "codemirror_mode": {
    "name": "ipython",
    "version": 3
   },
   "file_extension": ".py",
   "mimetype": "text/x-python",
   "name": "python",
   "nbconvert_exporter": "python",
   "pygments_lexer": "ipython3",
   "version": "3.6.12"
  },
  "papermill": {
   "duration": 153.341289,
   "end_time": "2020-12-27T10:12:13.801941",
   "environment_variables": {},
   "exception": null,
   "input_path": "2020-08-11-NeuralNetwork.ipynb",
   "output_path": "2020-08-11-NeuralNetwork.ipynb",
   "parameters": {},
   "start_time": "2020-12-27T10:09:40.460652",
   "version": "2.1.2"
  }
 },
 "nbformat": 4,
 "nbformat_minor": 4
}