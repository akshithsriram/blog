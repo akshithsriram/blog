{
 "cells": [
  {
   "cell_type": "markdown",
   "id": "fitted-suggestion",
   "metadata": {
    "papermill": {
     "duration": 0.033937,
     "end_time": "2021-07-19T10:05:12.344864",
     "exception": false,
     "start_time": "2021-07-19T10:05:12.310927",
     "status": "completed"
    },
    "tags": []
   },
   "source": [
    "# \"A Basic Neural Network: Differentiate Hand-Written Digits\"\n",
    "\n",
    "- badges: true\n",
    "- author: Akshith Sriram"
   ]
  },
  {
   "cell_type": "markdown",
   "id": "signal-flexibility",
   "metadata": {
    "papermill": {
     "duration": 0.029593,
     "end_time": "2021-07-19T10:05:12.404997",
     "exception": false,
     "start_time": "2021-07-19T10:05:12.375404",
     "status": "completed"
    },
    "tags": []
   },
   "source": [
    "### Key Objectives:\n",
    "- Building a neural network that differentiates two hand-written digits 3 and 8.\n",
    "- Comparing the results of this Neural Network (NN) to that of a Logistic Regression (LR) model.\n",
    "\n",
    "### Requirements:\n",
    "- 'Kudzu' : A neural network library that was designed during our course by [Univ.AI](www.univ.ai). \n",
    "- MNIST Database\n",
    "\n",
    "If MNIST is not installed, use the command `!pip install mnist` given below.\n",
    "It can be run both from the command line and Jupyter Notebook."
   ]
  },
  {
   "cell_type": "code",
   "execution_count": 1,
   "id": "british-texture",
   "metadata": {
    "execution": {
     "iopub.execute_input": "2021-07-19T10:05:12.475025Z",
     "iopub.status.busy": "2021-07-19T10:05:12.474445Z",
     "iopub.status.idle": "2021-07-19T10:05:14.179201Z",
     "shell.execute_reply": "2021-07-19T10:05:14.178327Z"
    },
    "papermill": {
     "duration": 1.743456,
     "end_time": "2021-07-19T10:05:14.179358",
     "exception": false,
     "start_time": "2021-07-19T10:05:12.435902",
     "status": "completed"
    },
    "tags": []
   },
   "outputs": [
    {
     "name": "stdout",
     "output_type": "stream",
     "text": [
      "Collecting mnist\r\n"
     ]
    },
    {
     "name": "stdout",
     "output_type": "stream",
     "text": [
      "  Downloading mnist-0.2.2-py2.py3-none-any.whl (3.5 kB)\r\n",
      "Requirement already satisfied: numpy in /opt/hostedtoolcache/Python/3.6.14/x64/lib/python3.6/site-packages (from mnist) (1.19.5)\r\n"
     ]
    },
    {
     "name": "stdout",
     "output_type": "stream",
     "text": [
      "Installing collected packages: mnist\r\n"
     ]
    },
    {
     "name": "stdout",
     "output_type": "stream",
     "text": [
      "Successfully installed mnist-0.2.2\r\n"
     ]
    }
   ],
   "source": [
    "!pip install mnist "
   ]
  },
  {
   "cell_type": "markdown",
   "id": "stunning-extra",
   "metadata": {
    "papermill": {
     "duration": 0.032701,
     "end_time": "2021-07-19T10:05:14.245737",
     "exception": false,
     "start_time": "2021-07-19T10:05:14.213036",
     "status": "completed"
    },
    "tags": []
   },
   "source": [
    "#### Importing necessary libraries"
   ]
  },
  {
   "cell_type": "code",
   "execution_count": 2,
   "id": "wooden-france",
   "metadata": {
    "execution": {
     "iopub.execute_input": "2021-07-19T10:05:14.321761Z",
     "iopub.status.busy": "2021-07-19T10:05:14.321110Z",
     "iopub.status.idle": "2021-07-19T10:05:14.939491Z",
     "shell.execute_reply": "2021-07-19T10:05:14.938953Z"
    },
    "papermill": {
     "duration": 0.660452,
     "end_time": "2021-07-19T10:05:14.939637",
     "exception": false,
     "start_time": "2021-07-19T10:05:14.279185",
     "status": "completed"
    },
    "tags": []
   },
   "outputs": [],
   "source": [
    "%load_ext autoreload\n",
    "%autoreload 2\n",
    "\n",
    "%matplotlib inline\n",
    "import matplotlib.pyplot as plt\n",
    "\n",
    "import numpy as np\n",
    "import pandas as pd"
   ]
  },
  {
   "cell_type": "markdown",
   "id": "stunning-physics",
   "metadata": {
    "papermill": {
     "duration": 0.043678,
     "end_time": "2021-07-19T10:05:15.017858",
     "exception": false,
     "start_time": "2021-07-19T10:05:14.974180",
     "status": "completed"
    },
    "tags": []
   },
   "source": [
    "### Preparing the Data"
   ]
  },
  {
   "cell_type": "code",
   "execution_count": 3,
   "id": "unauthorized-remainder",
   "metadata": {
    "execution": {
     "iopub.execute_input": "2021-07-19T10:05:15.099524Z",
     "iopub.status.busy": "2021-07-19T10:05:15.098820Z",
     "iopub.status.idle": "2021-07-19T10:05:15.110517Z",
     "shell.execute_reply": "2021-07-19T10:05:15.109964Z"
    },
    "papermill": {
     "duration": 0.052202,
     "end_time": "2021-07-19T10:05:15.110666",
     "exception": false,
     "start_time": "2021-07-19T10:05:15.058464",
     "status": "completed"
    },
    "tags": []
   },
   "outputs": [],
   "source": [
    "import mnist"
   ]
  },
  {
   "cell_type": "code",
   "execution_count": 4,
   "id": "correct-antarctica",
   "metadata": {
    "execution": {
     "iopub.execute_input": "2021-07-19T10:05:15.200805Z",
     "iopub.status.busy": "2021-07-19T10:05:15.198511Z",
     "iopub.status.idle": "2021-07-19T10:10:13.518186Z",
     "shell.execute_reply": "2021-07-19T10:10:13.517553Z"
    },
    "papermill": {
     "duration": 298.371788,
     "end_time": "2021-07-19T10:10:13.518339",
     "exception": false,
     "start_time": "2021-07-19T10:05:15.146551",
     "status": "completed"
    },
    "tags": []
   },
   "outputs": [],
   "source": [
    "train_images = mnist.train_images()\n",
    "train_labels = mnist.train_labels()"
   ]
  },
  {
   "cell_type": "code",
   "execution_count": 5,
   "id": "musical-prospect",
   "metadata": {
    "execution": {
     "iopub.execute_input": "2021-07-19T10:10:13.587773Z",
     "iopub.status.busy": "2021-07-19T10:10:13.587080Z",
     "iopub.status.idle": "2021-07-19T10:10:13.604703Z",
     "shell.execute_reply": "2021-07-19T10:10:13.604152Z"
    },
    "papermill": {
     "duration": 0.052863,
     "end_time": "2021-07-19T10:10:13.604839",
     "exception": false,
     "start_time": "2021-07-19T10:10:13.551976",
     "status": "completed"
    },
    "tags": []
   },
   "outputs": [
    {
     "data": {
      "text/plain": [
       "((60000, 28, 28), (60000,))"
      ]
     },
     "execution_count": 5,
     "metadata": {},
     "output_type": "execute_result"
    }
   ],
   "source": [
    "train_images.shape, train_labels.shape"
   ]
  },
  {
   "cell_type": "code",
   "execution_count": 6,
   "id": "preliminary-elizabeth",
   "metadata": {
    "execution": {
     "iopub.execute_input": "2021-07-19T10:10:13.678179Z",
     "iopub.status.busy": "2021-07-19T10:10:13.677341Z",
     "iopub.status.idle": "2021-07-19T10:11:05.027456Z",
     "shell.execute_reply": "2021-07-19T10:11:05.026858Z"
    },
    "papermill": {
     "duration": 51.387808,
     "end_time": "2021-07-19T10:11:05.027586",
     "exception": false,
     "start_time": "2021-07-19T10:10:13.639778",
     "status": "completed"
    },
    "tags": []
   },
   "outputs": [],
   "source": [
    "test_images = mnist.test_images()\n",
    "test_labels = mnist.test_labels()"
   ]
  },
  {
   "cell_type": "code",
   "execution_count": 7,
   "id": "acknowledged-oxygen",
   "metadata": {
    "execution": {
     "iopub.execute_input": "2021-07-19T10:11:05.102063Z",
     "iopub.status.busy": "2021-07-19T10:11:05.101404Z",
     "iopub.status.idle": "2021-07-19T10:11:05.113209Z",
     "shell.execute_reply": "2021-07-19T10:11:05.113837Z"
    },
    "papermill": {
     "duration": 0.052154,
     "end_time": "2021-07-19T10:11:05.113982",
     "exception": false,
     "start_time": "2021-07-19T10:11:05.061828",
     "status": "completed"
    },
    "tags": []
   },
   "outputs": [
    {
     "data": {
      "text/plain": [
       "((10000, 28, 28), (10000,))"
      ]
     },
     "execution_count": 7,
     "metadata": {},
     "output_type": "execute_result"
    }
   ],
   "source": [
    "test_images.shape, test_labels.shape"
   ]
  },
  {
   "cell_type": "code",
   "execution_count": 8,
   "id": "innovative-organic",
   "metadata": {
    "execution": {
     "iopub.execute_input": "2021-07-19T10:11:05.187799Z",
     "iopub.status.busy": "2021-07-19T10:11:05.187133Z",
     "iopub.status.idle": "2021-07-19T10:11:05.358588Z",
     "shell.execute_reply": "2021-07-19T10:11:05.359109Z"
    },
    "papermill": {
     "duration": 0.212328,
     "end_time": "2021-07-19T10:11:05.359264",
     "exception": false,
     "start_time": "2021-07-19T10:11:05.146936",
     "status": "completed"
    },
    "tags": []
   },
   "outputs": [
    {
     "name": "stdout",
     "output_type": "stream",
     "text": [
      "2\n"
     ]
    },
    {
     "data": {
      "text/plain": [
       "<matplotlib.image.AxesImage at 0x7fb99d79d588>"
      ]
     },
     "execution_count": 8,
     "metadata": {},
     "output_type": "execute_result"
    },
    {
     "data": {
      "image/png": "[encoded data removed]",
      "text/plain": [
       "<Figure size 432x288 with 1 Axes>"
      ]
     },
     "metadata": {
      "needs_background": "light"
     },
     "output_type": "display_data"
    }
   ],
   "source": [
    "image_index = 7776 # You may select anything up to 60,000\n",
    "print(train_labels[image_index]) \n",
    "plt.imshow(train_images[image_index], cmap='Greys')"
   ]
  },
  {
   "cell_type": "markdown",
   "id": "facial-modem",
   "metadata": {
    "papermill": {
     "duration": 0.033972,
     "end_time": "2021-07-19T10:11:05.428915",
     "exception": false,
     "start_time": "2021-07-19T10:11:05.394943",
     "status": "completed"
    },
    "tags": []
   },
   "source": [
    "## Filter data to get 3 and 8 out"
   ]
  },
  {
   "cell_type": "code",
   "execution_count": 9,
   "id": "thousand-acquisition",
   "metadata": {
    "execution": {
     "iopub.execute_input": "2021-07-19T10:11:05.505318Z",
     "iopub.status.busy": "2021-07-19T10:11:05.504674Z",
     "iopub.status.idle": "2021-07-19T10:11:05.522611Z",
     "shell.execute_reply": "2021-07-19T10:11:05.523172Z"
    },
    "papermill": {
     "duration": 0.061337,
     "end_time": "2021-07-19T10:11:05.523334",
     "exception": false,
     "start_time": "2021-07-19T10:11:05.461997",
     "status": "completed"
    },
    "tags": []
   },
   "outputs": [],
   "source": [
    "train_filter = np.where((train_labels == 3 ) | (train_labels == 8))\n",
    "test_filter = np.where((test_labels == 3) | (test_labels == 8))\n",
    "X_train, y_train = train_images[train_filter], train_labels[train_filter]\n",
    "X_test, y_test = test_images[test_filter], test_labels[test_filter]"
   ]
  },
  {
   "cell_type": "markdown",
   "id": "ruled-access",
   "metadata": {
    "papermill": {
     "duration": 0.035211,
     "end_time": "2021-07-19T10:11:05.595608",
     "exception": false,
     "start_time": "2021-07-19T10:11:05.560397",
     "status": "completed"
    },
    "tags": []
   },
   "source": [
    "We normalize the pixel values in the 0 to 1 range"
   ]
  },
  {
   "cell_type": "code",
   "execution_count": 10,
   "id": "isolated-denver",
   "metadata": {
    "execution": {
     "iopub.execute_input": "2021-07-19T10:11:05.681037Z",
     "iopub.status.busy": "2021-07-19T10:11:05.680310Z",
     "iopub.status.idle": "2021-07-19T10:11:05.743050Z",
     "shell.execute_reply": "2021-07-19T10:11:05.742489Z"
    },
    "papermill": {
     "duration": 0.109869,
     "end_time": "2021-07-19T10:11:05.743217",
     "exception": false,
     "start_time": "2021-07-19T10:11:05.633348",
     "status": "completed"
    },
    "tags": []
   },
   "outputs": [],
   "source": [
    "X_train = X_train/255.\n",
    "X_test = X_test/255."
   ]
  },
  {
   "cell_type": "markdown",
   "id": "perfect-summary",
   "metadata": {
    "papermill": {
     "duration": 0.035411,
     "end_time": "2021-07-19T10:11:05.814580",
     "exception": false,
     "start_time": "2021-07-19T10:11:05.779169",
     "status": "completed"
    },
    "tags": []
   },
   "source": [
    "Setup the labels as 1 (when the digit is 3) and 0 (when the digit is 8)"
   ]
  },
  {
   "cell_type": "code",
   "execution_count": 11,
   "id": "personalized-growing",
   "metadata": {
    "execution": {
     "iopub.execute_input": "2021-07-19T10:11:05.903285Z",
     "iopub.status.busy": "2021-07-19T10:11:05.902581Z",
     "iopub.status.idle": "2021-07-19T10:11:05.905269Z",
     "shell.execute_reply": "2021-07-19T10:11:05.904674Z"
    },
    "papermill": {
     "duration": 0.055998,
     "end_time": "2021-07-19T10:11:05.905413",
     "exception": false,
     "start_time": "2021-07-19T10:11:05.849415",
     "status": "completed"
    },
    "tags": []
   },
   "outputs": [],
   "source": [
    "y_train = 1*(y_train==3)\n",
    "y_test = 1*(y_test==3)"
   ]
  },
  {
   "cell_type": "code",
   "execution_count": 12,
   "id": "considered-virgin",
   "metadata": {
    "execution": {
     "iopub.execute_input": "2021-07-19T10:11:05.979909Z",
     "iopub.status.busy": "2021-07-19T10:11:05.979281Z",
     "iopub.status.idle": "2021-07-19T10:11:05.994471Z",
     "shell.execute_reply": "2021-07-19T10:11:05.994998Z"
    },
    "papermill": {
     "duration": 0.053167,
     "end_time": "2021-07-19T10:11:05.995152",
     "exception": false,
     "start_time": "2021-07-19T10:11:05.941985",
     "status": "completed"
    },
    "tags": []
   },
   "outputs": [
    {
     "data": {
      "text/plain": [
       "((11982, 28, 28), (1984, 28, 28))"
      ]
     },
     "execution_count": 12,
     "metadata": {},
     "output_type": "execute_result"
    }
   ],
   "source": [
    "X_train.shape, X_test.shape"
   ]
  },
  {
   "cell_type": "markdown",
   "id": "civilian-mobile",
   "metadata": {
    "papermill": {
     "duration": 0.034616,
     "end_time": "2021-07-19T10:11:06.064905",
     "exception": false,
     "start_time": "2021-07-19T10:11:06.030289",
     "status": "completed"
    },
    "tags": []
   },
   "source": [
    "### Reshape the input data to create a linear array"
   ]
  },
  {
   "cell_type": "code",
   "execution_count": 13,
   "id": "colonial-adams",
   "metadata": {
    "execution": {
     "iopub.execute_input": "2021-07-19T10:11:06.151862Z",
     "iopub.status.busy": "2021-07-19T10:11:06.141670Z",
     "iopub.status.idle": "2021-07-19T10:11:06.154919Z",
     "shell.execute_reply": "2021-07-19T10:11:06.155449Z"
    },
    "papermill": {
     "duration": 0.055366,
     "end_time": "2021-07-19T10:11:06.155624",
     "exception": false,
     "start_time": "2021-07-19T10:11:06.100258",
     "status": "completed"
    },
    "tags": []
   },
   "outputs": [
    {
     "data": {
      "text/plain": [
       "((11982, 784), (1984, 784))"
      ]
     },
     "execution_count": 13,
     "metadata": {},
     "output_type": "execute_result"
    }
   ],
   "source": [
    "X_train = X_train.reshape(X_train.shape[0], -1)\n",
    "X_test = X_test.reshape(X_test.shape[0], -1)\n",
    "X_train.shape, X_test.shape"
   ]
  },
  {
   "cell_type": "markdown",
   "id": "smart-details",
   "metadata": {
    "papermill": {
     "duration": 0.034777,
     "end_time": "2021-07-19T10:11:06.227247",
     "exception": false,
     "start_time": "2021-07-19T10:11:06.192470",
     "status": "completed"
    },
    "tags": []
   },
   "source": [
    "### Importing appropriate functions from 'Kudzu'"
   ]
  },
  {
   "cell_type": "code",
   "execution_count": 14,
   "id": "celtic-trial",
   "metadata": {
    "execution": {
     "iopub.execute_input": "2021-07-19T10:11:06.306061Z",
     "iopub.status.busy": "2021-07-19T10:11:06.305432Z",
     "iopub.status.idle": "2021-07-19T10:11:06.323468Z",
     "shell.execute_reply": "2021-07-19T10:11:06.324007Z"
    },
    "papermill": {
     "duration": 0.060852,
     "end_time": "2021-07-19T10:11:06.324156",
     "exception": false,
     "start_time": "2021-07-19T10:11:06.263304",
     "status": "completed"
    },
    "tags": []
   },
   "outputs": [],
   "source": [
    "from kudzu.layer import Sigmoid\n",
    "from kudzu.layer import Relu\n",
    "from kudzu.layer import Affine, Sigmoid\n",
    "\n",
    "from kudzu.model import Model\n",
    "from kudzu.train import Learner\n",
    "from kudzu.optim import GD\n",
    "from kudzu.data import Data, Dataloader, Sampler\n",
    "\n",
    "from kudzu.callbacks import AccCallback\n",
    "from kudzu.callbacks import ClfCallback\n",
    "\n",
    "from kudzu.loss import MSE"
   ]
  },
  {
   "cell_type": "markdown",
   "id": "coupled-customer",
   "metadata": {
    "papermill": {
     "duration": 0.034242,
     "end_time": "2021-07-19T10:11:06.392465",
     "exception": false,
     "start_time": "2021-07-19T10:11:06.358223",
     "status": "completed"
    },
    "tags": []
   },
   "source": [
    "### Let us create a `Config` class, to store important parameters. \n",
    "This class essentially plays the role of a dictionary."
   ]
  },
  {
   "cell_type": "code",
   "execution_count": 15,
   "id": "young-ceiling",
   "metadata": {
    "execution": {
     "iopub.execute_input": "2021-07-19T10:11:06.465887Z",
     "iopub.status.busy": "2021-07-19T10:11:06.465183Z",
     "iopub.status.idle": "2021-07-19T10:11:06.477268Z",
     "shell.execute_reply": "2021-07-19T10:11:06.477823Z"
    },
    "papermill": {
     "duration": 0.049788,
     "end_time": "2021-07-19T10:11:06.477953",
     "exception": false,
     "start_time": "2021-07-19T10:11:06.428165",
     "status": "completed"
    },
    "tags": []
   },
   "outputs": [],
   "source": [
    "class Config:\n",
    "    pass\n",
    "config = Config()\n",
    "config.lr = 0.001\n",
    "config.num_epochs = 251\n",
    "config.bs = 50"
   ]
  },
  {
   "cell_type": "markdown",
   "id": "according-mandate",
   "metadata": {
    "papermill": {
     "duration": 0.037233,
     "end_time": "2021-07-19T10:11:06.548083",
     "exception": false,
     "start_time": "2021-07-19T10:11:06.510850",
     "status": "completed"
    },
    "tags": []
   },
   "source": [
    "### Initializing data to the variables"
   ]
  },
  {
   "cell_type": "code",
   "execution_count": 16,
   "id": "academic-disposition",
   "metadata": {
    "execution": {
     "iopub.execute_input": "2021-07-19T10:11:06.626605Z",
     "iopub.status.busy": "2021-07-19T10:11:06.625944Z",
     "iopub.status.idle": "2021-07-19T10:11:06.639397Z",
     "shell.execute_reply": "2021-07-19T10:11:06.638886Z"
    },
    "papermill": {
     "duration": 0.055121,
     "end_time": "2021-07-19T10:11:06.639530",
     "exception": false,
     "start_time": "2021-07-19T10:11:06.584409",
     "status": "completed"
    },
    "tags": []
   },
   "outputs": [],
   "source": [
    "data = Data(X_train, y_train.reshape(-1,1))\n",
    "sampler = Sampler(data, config.bs, shuffle=True)\n",
    "\n",
    "dl = Dataloader(data, sampler)\n",
    "\n",
    "opt = GD(config.lr)\n",
    "loss = MSE()"
   ]
  },
  {
   "cell_type": "code",
   "execution_count": 17,
   "id": "featured-commission",
   "metadata": {
    "execution": {
     "iopub.execute_input": "2021-07-19T10:11:06.712476Z",
     "iopub.status.busy": "2021-07-19T10:11:06.711825Z",
     "iopub.status.idle": "2021-07-19T10:11:06.724897Z",
     "shell.execute_reply": "2021-07-19T10:11:06.725500Z"
    },
    "papermill": {
     "duration": 0.051536,
     "end_time": "2021-07-19T10:11:06.725634",
     "exception": false,
     "start_time": "2021-07-19T10:11:06.674098",
     "status": "completed"
    },
    "tags": []
   },
   "outputs": [],
   "source": [
    "training_xdata = X_train\n",
    "testing_xdata = X_test\n",
    "training_ydata = y_train.reshape(-1,1)\n",
    "testing_ydata = y_test.reshape(-1,1)"
   ]
  },
  {
   "cell_type": "markdown",
   "id": "played-safety",
   "metadata": {
    "papermill": {
     "duration": 0.039218,
     "end_time": "2021-07-19T10:11:06.801779",
     "exception": false,
     "start_time": "2021-07-19T10:11:06.762561",
     "status": "completed"
    },
    "tags": []
   },
   "source": [
    "### Running Models with the Training data\n",
    "Details about the network layers:\n",
    "- A first affine layer has 784 inputs and does 100 affine transforms. These are followed by a Relu\n",
    "- A second affine layer has 100 inputs from the 100 activations of the past layer, and does 100 affine transforms. These are followed by a Relu\n",
    "- A third affine layer has 100 activations and does 2 affine transformations to create an embedding for visualization. There is no non-linearity here.\n",
    "- A final \"logistic regression\" which has an affine transform from 2 inputs to 1 output, which is squeezed through a sigmoid.\n",
    "\n",
    "Help taken from Anshuman's Notebook."
   ]
  },
  {
   "cell_type": "code",
   "execution_count": 18,
   "id": "asian-bankruptcy",
   "metadata": {
    "execution": {
     "iopub.execute_input": "2021-07-19T10:11:06.884680Z",
     "iopub.status.busy": "2021-07-19T10:11:06.884019Z",
     "iopub.status.idle": "2021-07-19T10:11:06.902434Z",
     "shell.execute_reply": "2021-07-19T10:11:06.901869Z"
    },
    "papermill": {
     "duration": 0.064625,
     "end_time": "2021-07-19T10:11:06.902592",
     "exception": false,
     "start_time": "2021-07-19T10:11:06.837967",
     "status": "completed"
    },
    "tags": []
   },
   "outputs": [],
   "source": [
    "# layers for the Neural Network\n",
    "layers = [Affine(\"first\", 784, 100), Relu(\"first\"), Affine(\"second\", 100, 100), Relu(\"second\"), Affine(\"third\", 100, 2), Affine(\"final\", 2, 1), Sigmoid(\"final\")]\n",
    "model_nn = Model(layers)\n",
    "\n",
    "# layers for the Logistic Regression\n",
    "layers_lr = [Affine(\"logits\", 784, 1), Sigmoid(\"sigmoid\")]\n",
    "model_lr = Model(layers_lr)"
   ]
  },
  {
   "cell_type": "code",
   "execution_count": 19,
   "id": "removed-butler",
   "metadata": {
    "execution": {
     "iopub.execute_input": "2021-07-19T10:11:06.978532Z",
     "iopub.status.busy": "2021-07-19T10:11:06.977758Z",
     "iopub.status.idle": "2021-07-19T10:11:06.990305Z",
     "shell.execute_reply": "2021-07-19T10:11:06.990788Z"
    },
    "papermill": {
     "duration": 0.050013,
     "end_time": "2021-07-19T10:11:06.990912",
     "exception": false,
     "start_time": "2021-07-19T10:11:06.940899",
     "status": "completed"
    },
    "tags": []
   },
   "outputs": [],
   "source": [
    "# suffix _nn stands for Neural Network.\n",
    "learner_nn = Learner(loss, model_nn, opt, config.num_epochs)\n",
    "acc_nn = ClfCallback(learner_nn, config.bs, training_xdata , testing_xdata, training_ydata, testing_ydata)\n",
    "learner_nn.set_callbacks([acc_nn])"
   ]
  },
  {
   "cell_type": "code",
   "execution_count": 20,
   "id": "conceptual-throw",
   "metadata": {
    "execution": {
     "iopub.execute_input": "2021-07-19T10:11:07.065372Z",
     "iopub.status.busy": "2021-07-19T10:11:07.064778Z",
     "iopub.status.idle": "2021-07-19T10:13:13.116876Z",
     "shell.execute_reply": "2021-07-19T10:13:13.117703Z"
    },
    "papermill": {
     "duration": 126.091383,
     "end_time": "2021-07-19T10:13:13.117867",
     "exception": false,
     "start_time": "2021-07-19T10:11:07.026484",
     "status": "completed"
    },
    "tags": []
   },
   "outputs": [
    {
     "name": "stdout",
     "output_type": "stream",
     "text": [
      "====== Neural Network ======\n"
     ]
    },
    {
     "name": "stdout",
     "output_type": "stream",
     "text": [
      "Epoch 0, Loss 0.2473\n",
      "Training Accuracy: 0.5169, Testing Accuracy: 0.5121\n",
      "\n"
     ]
    },
    {
     "name": "stdout",
     "output_type": "stream",
     "text": [
      "Epoch 10, Loss 0.1621\n",
      "Training Accuracy: 0.8985, Testing Accuracy: 0.9022\n",
      "\n"
     ]
    },
    {
     "name": "stdout",
     "output_type": "stream",
     "text": [
      "Epoch 20, Loss 0.0789\n",
      "Training Accuracy: 0.9281, Testing Accuracy: 0.9451\n",
      "\n"
     ]
    },
    {
     "name": "stdout",
     "output_type": "stream",
     "text": [
      "Epoch 30, Loss 0.0535\n",
      "Training Accuracy: 0.9437, Testing Accuracy: 0.9567\n",
      "\n"
     ]
    },
    {
     "name": "stdout",
     "output_type": "stream",
     "text": [
      "Epoch 40, Loss 0.0434\n",
      "Training Accuracy: 0.9524, Testing Accuracy: 0.9607\n",
      "\n"
     ]
    },
    {
     "name": "stdout",
     "output_type": "stream",
     "text": [
      "Epoch 50, Loss 0.038\n",
      "Training Accuracy: 0.9573, Testing Accuracy: 0.9652\n",
      "\n"
     ]
    },
    {
     "name": "stdout",
     "output_type": "stream",
     "text": [
      "Epoch 60, Loss 0.0346\n",
      "Training Accuracy: 0.9610, Testing Accuracy: 0.9688\n",
      "\n"
     ]
    },
    {
     "name": "stdout",
     "output_type": "stream",
     "text": [
      "Epoch 70, Loss 0.0322\n",
      "Training Accuracy: 0.9635, Testing Accuracy: 0.9688\n",
      "\n"
     ]
    },
    {
     "name": "stdout",
     "output_type": "stream",
     "text": [
      "Epoch 80, Loss 0.0304\n",
      "Training Accuracy: 0.9659, Testing Accuracy: 0.9698\n",
      "\n"
     ]
    },
    {
     "name": "stdout",
     "output_type": "stream",
     "text": [
      "Epoch 90, Loss 0.0289\n",
      "Training Accuracy: 0.9675, Testing Accuracy: 0.9693\n",
      "\n"
     ]
    },
    {
     "name": "stdout",
     "output_type": "stream",
     "text": [
      "Epoch 100, Loss 0.0277\n",
      "Training Accuracy: 0.9686, Testing Accuracy: 0.9698\n",
      "\n"
     ]
    },
    {
     "name": "stdout",
     "output_type": "stream",
     "text": [
      "Epoch 110, Loss 0.0268\n",
      "Training Accuracy: 0.9699, Testing Accuracy: 0.9703\n",
      "\n"
     ]
    },
    {
     "name": "stdout",
     "output_type": "stream",
     "text": [
      "Epoch 120, Loss 0.0259\n",
      "Training Accuracy: 0.9709, Testing Accuracy: 0.9723\n",
      "\n"
     ]
    },
    {
     "name": "stdout",
     "output_type": "stream",
     "text": [
      "Epoch 130, Loss 0.0252\n",
      "Training Accuracy: 0.9719, Testing Accuracy: 0.9723\n",
      "\n"
     ]
    },
    {
     "name": "stdout",
     "output_type": "stream",
     "text": [
      "Epoch 140, Loss 0.0245\n",
      "Training Accuracy: 0.9723, Testing Accuracy: 0.9718\n",
      "\n"
     ]
    },
    {
     "name": "stdout",
     "output_type": "stream",
     "text": [
      "Epoch 150, Loss 0.0239\n",
      "Training Accuracy: 0.9731, Testing Accuracy: 0.9718\n",
      "\n"
     ]
    },
    {
     "name": "stdout",
     "output_type": "stream",
     "text": [
      "Epoch 160, Loss 0.0233\n",
      "Training Accuracy: 0.9735, Testing Accuracy: 0.9718\n",
      "\n"
     ]
    },
    {
     "name": "stdout",
     "output_type": "stream",
     "text": [
      "Epoch 170, Loss 0.0228\n",
      "Training Accuracy: 0.9736, Testing Accuracy: 0.9728\n",
      "\n"
     ]
    },
    {
     "name": "stdout",
     "output_type": "stream",
     "text": [
      "Epoch 180, Loss 0.0224\n",
      "Training Accuracy: 0.9741, Testing Accuracy: 0.9728\n",
      "\n"
     ]
    },
    {
     "name": "stdout",
     "output_type": "stream",
     "text": [
      "Epoch 190, Loss 0.0219\n",
      "Training Accuracy: 0.9747, Testing Accuracy: 0.9728\n",
      "\n"
     ]
    },
    {
     "name": "stdout",
     "output_type": "stream",
     "text": [
      "Epoch 200, Loss 0.0215\n",
      "Training Accuracy: 0.9754, Testing Accuracy: 0.9743\n",
      "\n"
     ]
    },
    {
     "name": "stdout",
     "output_type": "stream",
     "text": [
      "Epoch 210, Loss 0.0211\n",
      "Training Accuracy: 0.9762, Testing Accuracy: 0.9738\n",
      "\n"
     ]
    },
    {
     "name": "stdout",
     "output_type": "stream",
     "text": [
      "Epoch 220, Loss 0.0207\n",
      "Training Accuracy: 0.9767, Testing Accuracy: 0.9743\n",
      "\n"
     ]
    },
    {
     "name": "stdout",
     "output_type": "stream",
     "text": [
      "Epoch 230, Loss 0.0203\n",
      "Training Accuracy: 0.9771, Testing Accuracy: 0.9738\n",
      "\n"
     ]
    },
    {
     "name": "stdout",
     "output_type": "stream",
     "text": [
      "Epoch 240, Loss 0.02\n",
      "Training Accuracy: 0.9780, Testing Accuracy: 0.9738\n",
      "\n"
     ]
    },
    {
     "name": "stdout",
     "output_type": "stream",
     "text": [
      "Epoch 250, Loss 0.0197\n",
      "Training Accuracy: 0.9782, Testing Accuracy: 0.9738\n",
      "\n"
     ]
    },
    {
     "data": {
      "text/plain": [
       "0.025395786082964483"
      ]
     },
     "execution_count": 20,
     "metadata": {},
     "output_type": "execute_result"
    }
   ],
   "source": [
    "print(\"====== Neural Network ======\")\n",
    "learner_nn.train_loop(dl)"
   ]
  },
  {
   "cell_type": "markdown",
   "id": "competent-suffering",
   "metadata": {
    "papermill": {
     "duration": 0.046709,
     "end_time": "2021-07-19T10:13:13.211700",
     "exception": false,
     "start_time": "2021-07-19T10:13:13.164991",
     "status": "completed"
    },
    "tags": []
   },
   "source": [
    "### Logistic Regression based Implementation."
   ]
  },
  {
   "cell_type": "code",
   "execution_count": 21,
   "id": "qualified-psychiatry",
   "metadata": {
    "execution": {
     "iopub.execute_input": "2021-07-19T10:13:13.307524Z",
     "iopub.status.busy": "2021-07-19T10:13:13.306878Z",
     "iopub.status.idle": "2021-07-19T10:13:13.319949Z",
     "shell.execute_reply": "2021-07-19T10:13:13.320490Z"
    },
    "papermill": {
     "duration": 0.063539,
     "end_time": "2021-07-19T10:13:13.320651",
     "exception": false,
     "start_time": "2021-07-19T10:13:13.257112",
     "status": "completed"
    },
    "tags": []
   },
   "outputs": [],
   "source": [
    "learner_lr = Learner(loss, model_lr, opt, config.num_epochs)\n",
    "acc_lr = ClfCallback(learner_lr, config.bs, training_xdata , testing_xdata, training_ydata, testing_ydata)\n",
    "learner_lr.set_callbacks([acc_lr])"
   ]
  },
  {
   "cell_type": "code",
   "execution_count": 22,
   "id": "average-outside",
   "metadata": {
    "execution": {
     "iopub.execute_input": "2021-07-19T10:13:13.426290Z",
     "iopub.status.busy": "2021-07-19T10:13:13.425348Z",
     "iopub.status.idle": "2021-07-19T10:13:31.503976Z",
     "shell.execute_reply": "2021-07-19T10:13:31.504830Z"
    },
    "papermill": {
     "duration": 18.138694,
     "end_time": "2021-07-19T10:13:31.505007",
     "exception": false,
     "start_time": "2021-07-19T10:13:13.366313",
     "status": "completed"
    },
    "tags": []
   },
   "outputs": [
    {
     "name": "stdout",
     "output_type": "stream",
     "text": [
      "====== Logistic Regression ======\n",
      "Epoch 0, Loss 0.2792\n",
      "Training Accuracy: 0.5345, Testing Accuracy: 0.5494\n",
      "\n"
     ]
    },
    {
     "name": "stdout",
     "output_type": "stream",
     "text": [
      "Epoch 10, Loss 0.105\n",
      "Training Accuracy: 0.9109, Testing Accuracy: 0.9163\n",
      "\n"
     ]
    },
    {
     "name": "stdout",
     "output_type": "stream",
     "text": [
      "Epoch 20, Loss 0.0792\n",
      "Training Accuracy: 0.9313, Testing Accuracy: 0.9345\n",
      "\n"
     ]
    },
    {
     "name": "stdout",
     "output_type": "stream",
     "text": [
      "Epoch 30, Loss 0.0678\n",
      "Training Accuracy: 0.9396, Testing Accuracy: 0.9496\n",
      "\n"
     ]
    },
    {
     "name": "stdout",
     "output_type": "stream",
     "text": [
      "Epoch 40, Loss 0.0611\n",
      "Training Accuracy: 0.9437, Testing Accuracy: 0.9526\n",
      "\n"
     ]
    },
    {
     "name": "stdout",
     "output_type": "stream",
     "text": [
      "Epoch 50, Loss 0.0566\n",
      "Training Accuracy: 0.9470, Testing Accuracy: 0.9541\n",
      "\n"
     ]
    },
    {
     "name": "stdout",
     "output_type": "stream",
     "text": [
      "Epoch 60, Loss 0.0533\n",
      "Training Accuracy: 0.9490, Testing Accuracy: 0.9572\n",
      "\n"
     ]
    },
    {
     "name": "stdout",
     "output_type": "stream",
     "text": [
      "Epoch 70, Loss 0.0507\n",
      "Training Accuracy: 0.9514, Testing Accuracy: 0.9597\n",
      "\n"
     ]
    },
    {
     "name": "stdout",
     "output_type": "stream",
     "text": [
      "Epoch 80, Loss 0.0487\n",
      "Training Accuracy: 0.9520, Testing Accuracy: 0.9612\n",
      "\n"
     ]
    },
    {
     "name": "stdout",
     "output_type": "stream",
     "text": [
      "Epoch 90, Loss 0.047\n",
      "Training Accuracy: 0.9539, Testing Accuracy: 0.9617\n",
      "\n"
     ]
    },
    {
     "name": "stdout",
     "output_type": "stream",
     "text": [
      "Epoch 100, Loss 0.0456\n",
      "Training Accuracy: 0.9548, Testing Accuracy: 0.9622\n",
      "\n"
     ]
    },
    {
     "name": "stdout",
     "output_type": "stream",
     "text": [
      "Epoch 110, Loss 0.0444\n",
      "Training Accuracy: 0.9555, Testing Accuracy: 0.9627\n",
      "\n"
     ]
    },
    {
     "name": "stdout",
     "output_type": "stream",
     "text": [
      "Epoch 120, Loss 0.0434\n",
      "Training Accuracy: 0.9567, Testing Accuracy: 0.9627\n",
      "\n"
     ]
    },
    {
     "name": "stdout",
     "output_type": "stream",
     "text": [
      "Epoch 130, Loss 0.0424\n",
      "Training Accuracy: 0.9570, Testing Accuracy: 0.9637\n",
      "\n"
     ]
    },
    {
     "name": "stdout",
     "output_type": "stream",
     "text": [
      "Epoch 140, Loss 0.0416\n",
      "Training Accuracy: 0.9574, Testing Accuracy: 0.9637\n",
      "\n"
     ]
    },
    {
     "name": "stdout",
     "output_type": "stream",
     "text": [
      "Epoch 150, Loss 0.0409\n",
      "Training Accuracy: 0.9578, Testing Accuracy: 0.9652\n",
      "\n"
     ]
    },
    {
     "name": "stdout",
     "output_type": "stream",
     "text": [
      "Epoch 160, Loss 0.0402\n",
      "Training Accuracy: 0.9587, Testing Accuracy: 0.9647\n",
      "\n"
     ]
    },
    {
     "name": "stdout",
     "output_type": "stream",
     "text": [
      "Epoch 170, Loss 0.0396\n",
      "Training Accuracy: 0.9590, Testing Accuracy: 0.9662\n",
      "\n"
     ]
    },
    {
     "name": "stdout",
     "output_type": "stream",
     "text": [
      "Epoch 180, Loss 0.0391\n",
      "Training Accuracy: 0.9590, Testing Accuracy: 0.9667\n",
      "\n"
     ]
    },
    {
     "name": "stdout",
     "output_type": "stream",
     "text": [
      "Epoch 190, Loss 0.0385\n",
      "Training Accuracy: 0.9599, Testing Accuracy: 0.9667\n",
      "\n"
     ]
    },
    {
     "name": "stdout",
     "output_type": "stream",
     "text": [
      "Epoch 200, Loss 0.0381\n",
      "Training Accuracy: 0.9605, Testing Accuracy: 0.9667\n",
      "\n"
     ]
    },
    {
     "name": "stdout",
     "output_type": "stream",
     "text": [
      "Epoch 210, Loss 0.0376\n",
      "Training Accuracy: 0.9606, Testing Accuracy: 0.9682\n",
      "\n"
     ]
    },
    {
     "name": "stdout",
     "output_type": "stream",
     "text": [
      "Epoch 220, Loss 0.0372\n",
      "Training Accuracy: 0.9612, Testing Accuracy: 0.9682\n",
      "\n"
     ]
    },
    {
     "name": "stdout",
     "output_type": "stream",
     "text": [
      "Epoch 230, Loss 0.0369\n",
      "Training Accuracy: 0.9617, Testing Accuracy: 0.9688\n",
      "\n"
     ]
    },
    {
     "name": "stdout",
     "output_type": "stream",
     "text": [
      "Epoch 240, Loss 0.0365\n",
      "Training Accuracy: 0.9619, Testing Accuracy: 0.9688\n",
      "\n"
     ]
    },
    {
     "name": "stdout",
     "output_type": "stream",
     "text": [
      "Epoch 250, Loss 0.0362\n",
      "Training Accuracy: 0.9620, Testing Accuracy: 0.9688\n",
      "\n"
     ]
    },
    {
     "data": {
      "text/plain": [
       "0.02913670788964294"
      ]
     },
     "execution_count": 22,
     "metadata": {},
     "output_type": "execute_result"
    }
   ],
   "source": [
    "print(\"====== Logistic Regression ======\")\n",
    "learner_lr.train_loop(dl)"
   ]
  },
  {
   "cell_type": "markdown",
   "id": "adjusted-possible",
   "metadata": {
    "papermill": {
     "duration": 0.052785,
     "end_time": "2021-07-19T10:13:31.612364",
     "exception": false,
     "start_time": "2021-07-19T10:13:31.559579",
     "status": "completed"
    },
    "tags": []
   },
   "source": [
    "### Comparing results of NN and LR"
   ]
  },
  {
   "cell_type": "code",
   "execution_count": 23,
   "id": "mental-multimedia",
   "metadata": {
    "execution": {
     "iopub.execute_input": "2021-07-19T10:13:31.725334Z",
     "iopub.status.busy": "2021-07-19T10:13:31.724612Z",
     "iopub.status.idle": "2021-07-19T10:13:32.021209Z",
     "shell.execute_reply": "2021-07-19T10:13:32.021678Z"
    },
    "papermill": {
     "duration": 0.356674,
     "end_time": "2021-07-19T10:13:32.021822",
     "exception": false,
     "start_time": "2021-07-19T10:13:31.665148",
     "status": "completed"
    },
    "tags": []
   },
   "outputs": [
    {
     "data": {
      "text/plain": [
       "<matplotlib.legend.Legend at 0x7fb995301198>"
      ]
     },
     "execution_count": 23,
     "metadata": {},
     "output_type": "execute_result"
    },
    {
     "data": {
      "image/png": "[encoded data removed]",
      "text/plain": [
       "<Figure size 1080x720 with 1 Axes>"
      ]
     },
     "metadata": {
      "needs_background": "light"
     },
     "output_type": "display_data"
    }
   ],
   "source": [
    "plt.figure(figsize=(15,10))\n",
    "\n",
    "# Neural Network plots\n",
    "plt.plot(acc_nn.accuracies, 'r-', label = \"Training Accuracies - NN\")\n",
    "plt.plot(acc_nn.test_accuracies, 'g-', label = \"Testing Accuracies - NN\")\n",
    "\n",
    "# Logistic Regression plots\n",
    "plt.plot(acc_lr.accuracies, 'k-', label = \"Training Accuracies - LR\")\n",
    "plt.plot(acc_lr.test_accuracies, 'b-', label = \"Testing Accuracies - LR\")\n",
    "\n",
    "plt.ylim(0.8, 1)\n",
    "\n",
    "plt.legend()\n",
    "\n"
   ]
  },
  {
   "cell_type": "markdown",
   "id": "sexual-flesh",
   "metadata": {
    "papermill": {
     "duration": 0.052848,
     "end_time": "2021-07-19T10:13:32.127833",
     "exception": false,
     "start_time": "2021-07-19T10:13:32.074985",
     "status": "completed"
    },
    "tags": []
   },
   "source": [
    "### From the plot, we can observe the following:\n",
    "- Neural Network achieves higher accuracy than the Logistic Regression model.\n",
    "- This apparently, is because of overfitting, i.e. NN captures more noise than data.\n",
    "- Testing accuracy of NN drops below the Training accuracy at higher epochs. This explains the over-fitting on training data.\n",
    "- Logistic Regression gives a reliable accuracy, without the above mentioned problem.\n"
   ]
  },
  {
   "cell_type": "markdown",
   "id": "institutional-pacific",
   "metadata": {
    "papermill": {
     "duration": 0.052382,
     "end_time": "2021-07-19T10:13:32.231641",
     "exception": false,
     "start_time": "2021-07-19T10:13:32.179259",
     "status": "completed"
    },
    "tags": []
   },
   "source": [
    "### Moving till the last but one layer (excluding it).\n",
    "#### Plotting the outputs of this layer of the NN."
   ]
  },
  {
   "cell_type": "code",
   "execution_count": 24,
   "id": "economic-server",
   "metadata": {
    "execution": {
     "iopub.execute_input": "2021-07-19T10:13:32.354984Z",
     "iopub.status.busy": "2021-07-19T10:13:32.341956Z",
     "iopub.status.idle": "2021-07-19T10:13:32.358331Z",
     "shell.execute_reply": "2021-07-19T10:13:32.357852Z"
    },
    "papermill": {
     "duration": 0.076713,
     "end_time": "2021-07-19T10:13:32.358444",
     "exception": false,
     "start_time": "2021-07-19T10:13:32.281731",
     "status": "completed"
    },
    "tags": []
   },
   "outputs": [],
   "source": [
    "model_new = Model(layers[:-2])"
   ]
  },
  {
   "cell_type": "code",
   "execution_count": 25,
   "id": "varied-upgrade",
   "metadata": {
    "execution": {
     "iopub.execute_input": "2021-07-19T10:13:32.510119Z",
     "iopub.status.busy": "2021-07-19T10:13:32.509193Z",
     "iopub.status.idle": "2021-07-19T10:13:32.529609Z",
     "shell.execute_reply": "2021-07-19T10:13:32.530141Z"
    },
    "papermill": {
     "duration": 0.088955,
     "end_time": "2021-07-19T10:13:32.530322",
     "exception": false,
     "start_time": "2021-07-19T10:13:32.441367",
     "status": "completed"
    },
    "tags": []
   },
   "outputs": [],
   "source": [
    "plot_testing = model_new(testing_xdata)"
   ]
  },
  {
   "cell_type": "code",
   "execution_count": 26,
   "id": "specific-handling",
   "metadata": {
    "execution": {
     "iopub.execute_input": "2021-07-19T10:13:32.660254Z",
     "iopub.status.busy": "2021-07-19T10:13:32.659267Z",
     "iopub.status.idle": "2021-07-19T10:13:32.905475Z",
     "shell.execute_reply": "2021-07-19T10:13:32.904981Z"
    },
    "papermill": {
     "duration": 0.310233,
     "end_time": "2021-07-19T10:13:32.905601",
     "exception": false,
     "start_time": "2021-07-19T10:13:32.595368",
     "status": "completed"
    },
    "tags": []
   },
   "outputs": [
    {
     "data": {
      "text/plain": [
       "Text(0.5, 1.0, 'Outputs')"
      ]
     },
     "execution_count": 26,
     "metadata": {},
     "output_type": "execute_result"
    },
    {
     "data": {
      "image/png": "[encoded data removed]",
      "text/plain": [
       "<Figure size 576x504 with 1 Axes>"
      ]
     },
     "metadata": {
      "needs_background": "light"
     },
     "output_type": "display_data"
    }
   ],
   "source": [
    "plt.figure(figsize=(8,7))\n",
    "plt.scatter(plot_testing[:,0], plot_testing[:,1], alpha = 0.1, c = y_test.ravel());\n",
    "plt.title('Outputs')"
   ]
  },
  {
   "cell_type": "markdown",
   "id": "described-knowing",
   "metadata": {
    "papermill": {
     "duration": 0.054048,
     "end_time": "2021-07-19T10:13:33.013023",
     "exception": false,
     "start_time": "2021-07-19T10:13:32.958975",
     "status": "completed"
    },
    "tags": []
   },
   "source": [
    "### Plotting probability contours"
   ]
  },
  {
   "cell_type": "code",
   "execution_count": 27,
   "id": "needed-growing",
   "metadata": {
    "execution": {
     "iopub.execute_input": "2021-07-19T10:13:33.130304Z",
     "iopub.status.busy": "2021-07-19T10:13:33.129711Z",
     "iopub.status.idle": "2021-07-19T10:13:33.140302Z",
     "shell.execute_reply": "2021-07-19T10:13:33.140805Z"
    },
    "papermill": {
     "duration": 0.073863,
     "end_time": "2021-07-19T10:13:33.140935",
     "exception": false,
     "start_time": "2021-07-19T10:13:33.067072",
     "status": "completed"
    },
    "tags": []
   },
   "outputs": [],
   "source": [
    "model_prob = Model(layers[-2:]) "
   ]
  },
  {
   "cell_type": "code",
   "execution_count": 28,
   "id": "introductory-enforcement",
   "metadata": {
    "execution": {
     "iopub.execute_input": "2021-07-19T10:13:33.265047Z",
     "iopub.status.busy": "2021-07-19T10:13:33.257155Z",
     "iopub.status.idle": "2021-07-19T10:13:33.271521Z",
     "shell.execute_reply": "2021-07-19T10:13:33.271964Z"
    },
    "papermill": {
     "duration": 0.075146,
     "end_time": "2021-07-19T10:13:33.272098",
     "exception": false,
     "start_time": "2021-07-19T10:13:33.196952",
     "status": "completed"
    },
    "tags": []
   },
   "outputs": [],
   "source": [
    "# Adjust the x and y ranges according to the above generated plot.\n",
    "x_range = np.linspace(-4, 1, 100) \n",
    "y_range = np.linspace(-6, 6, 100) \n",
    "x_grid, y_grid = np.meshgrid(x_range, y_range) # x_grid and y_grig are of size 100 X 100\n",
    "\n",
    "# converting x_grid and y_grid to continuous arrays\n",
    "x_grid_flat = np.ravel(x_grid)\n",
    "y_grid_flat = np.ravel(y_grid)\n",
    "\n",
    "# The last layer of the current model takes two columns as input. Hence transpose of np.vstack() is required.\n",
    "X = np.vstack((x_grid_flat, y_grid_flat)).T\n",
    "\n",
    "# x_grid and y_grid are of size 100 x 100\n",
    "probability_contour = model_prob(X).reshape(100,100) "
   ]
  },
  {
   "cell_type": "code",
   "execution_count": 29,
   "id": "understood-landing",
   "metadata": {
    "execution": {
     "iopub.execute_input": "2021-07-19T10:13:33.399646Z",
     "iopub.status.busy": "2021-07-19T10:13:33.398981Z",
     "iopub.status.idle": "2021-07-19T10:13:33.719690Z",
     "shell.execute_reply": "2021-07-19T10:13:33.719181Z"
    },
    "papermill": {
     "duration": 0.383043,
     "end_time": "2021-07-19T10:13:33.719817",
     "exception": false,
     "start_time": "2021-07-19T10:13:33.336774",
     "status": "completed"
    },
    "tags": []
   },
   "outputs": [
    {
     "data": {
      "image/png": "[encoded data removed]",
      "text/plain": [
       "<Figure size 720x648 with 1 Axes>"
      ]
     },
     "metadata": {
      "needs_background": "light"
     },
     "output_type": "display_data"
    }
   ],
   "source": [
    "plt.figure(figsize=(10,9))\n",
    "plt.scatter(plot_testing[:,0], plot_testing[:,1], alpha = 0.1, c = y_test.ravel())\n",
    "contours = plt.contour(x_grid,y_grid,probability_contour)\n",
    "plt.title('Probability Contours')\n",
    "plt.clabel(contours, inline = True );"
   ]
  }
 ],
 "metadata": {
  "kernelspec": {
   "display_name": "Python 3",
   "language": "python",
   "name": "python3"
  },
  "language_info": {
   "codemirror_mode": {
    "name": "ipython",
    "version": 3
   },
   "file_extension": ".py",
   "mimetype": "text/x-python",
   "name": "python",
   "nbconvert_exporter": "python",
   "pygments_lexer": "ipython3",
   "version": "3.6.14"
  },
  "papermill": {
   "duration": 503.018312,
   "end_time": "2021-07-19T10:13:34.186688",
   "environment_variables": {},
   "exception": null,
   "input_path": "2020-08-11-NeuralNetwork.ipynb",
   "output_path": "2020-08-11-NeuralNetwork.ipynb",
   "parameters": {},
   "start_time": "2021-07-19T10:05:11.168376",
   "version": "2.1.2"
  }
 },
 "nbformat": 4,
 "nbformat_minor": 5
}