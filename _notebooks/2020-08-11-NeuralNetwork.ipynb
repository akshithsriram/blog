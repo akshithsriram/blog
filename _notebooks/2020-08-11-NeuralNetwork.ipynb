{
 "cells": [
  {
   "cell_type": "markdown",
   "metadata": {
    "papermill": {
     "duration": 0.031013,
     "end_time": "2020-08-28T10:03:49.425538",
     "exception": false,
     "start_time": "2020-08-28T10:03:49.394525",
     "status": "completed"
    },
    "tags": []
   },
   "source": [
    "# \"A Basic Neural Network: Differentiate Hand-Written Digits\"\n",
    "\n",
    "- badges: true\n",
    "- author: Akshith Sriram"
   ]
  },
  {
   "cell_type": "markdown",
   "metadata": {
    "papermill": {
     "duration": 0.025561,
     "end_time": "2020-08-28T10:03:49.475093",
     "exception": false,
     "start_time": "2020-08-28T10:03:49.449532",
     "status": "completed"
    },
    "tags": []
   },
   "source": [
    "### Key Objectives:\n",
    "- Building a neural network that differentiates two hand-written digits 3 and 8.\n",
    "- Comparing the results of this Neural Network (NN) to that of a Logistic Regression (LR) model.\n",
    "\n",
    "### Requirements:\n",
    "- 'Kudzu' : A neural network library that was designed during our course by [Univ.AI](www.univ.ai). \n",
    "- MNIST Database\n",
    "\n",
    "If MNIST is not installed, use the command `!pip install mnist` given below.\n",
    "It can be run both from the command line and Jupyter Notebook."
   ]
  },
  {
   "cell_type": "code",
   "execution_count": 1,
   "metadata": {
    "execution": {
     "iopub.execute_input": "2020-08-28T10:03:49.527666Z",
     "iopub.status.busy": "2020-08-28T10:03:49.527132Z",
     "iopub.status.idle": "2020-08-28T10:03:50.952275Z",
     "shell.execute_reply": "2020-08-28T10:03:50.951785Z"
    },
    "papermill": {
     "duration": 1.453434,
     "end_time": "2020-08-28T10:03:50.952418",
     "exception": false,
     "start_time": "2020-08-28T10:03:49.498984",
     "status": "completed"
    },
    "tags": []
   },
   "outputs": [
    {
     "name": "stdout",
     "output_type": "stream",
     "text": [
      "Collecting mnist\r\n"
     ]
    },
    {
     "name": "stdout",
     "output_type": "stream",
     "text": [
      "  Downloading mnist-0.2.2-py2.py3-none-any.whl (3.5 kB)\r\n",
      "Requirement already satisfied: numpy in /opt/hostedtoolcache/Python/3.6.11/x64/lib/python3.6/site-packages (from mnist) (1.19.1)\r\n"
     ]
    },
    {
     "name": "stdout",
     "output_type": "stream",
     "text": [
      "Installing collected packages: mnist\r\n"
     ]
    },
    {
     "name": "stdout",
     "output_type": "stream",
     "text": [
      "Successfully installed mnist-0.2.2\r\n"
     ]
    }
   ],
   "source": [
    "!pip install mnist "
   ]
  },
  {
   "cell_type": "markdown",
   "metadata": {
    "papermill": {
     "duration": 0.02321,
     "end_time": "2020-08-28T10:03:51.001035",
     "exception": false,
     "start_time": "2020-08-28T10:03:50.977825",
     "status": "completed"
    },
    "tags": []
   },
   "source": [
    "#### Importing necessary libraries"
   ]
  },
  {
   "cell_type": "code",
   "execution_count": 2,
   "metadata": {
    "execution": {
     "iopub.execute_input": "2020-08-28T10:03:51.056356Z",
     "iopub.status.busy": "2020-08-28T10:03:51.055739Z",
     "iopub.status.idle": "2020-08-28T10:03:51.568601Z",
     "shell.execute_reply": "2020-08-28T10:03:51.569102Z"
    },
    "papermill": {
     "duration": 0.544108,
     "end_time": "2020-08-28T10:03:51.569260",
     "exception": false,
     "start_time": "2020-08-28T10:03:51.025152",
     "status": "completed"
    },
    "tags": []
   },
   "outputs": [],
   "source": [
    "%load_ext autoreload\n",
    "%autoreload 2\n",
    "\n",
    "%matplotlib inline\n",
    "import matplotlib.pyplot as plt\n",
    "\n",
    "import numpy as np\n",
    "import pandas as pd"
   ]
  },
  {
   "cell_type": "markdown",
   "metadata": {
    "papermill": {
     "duration": 0.025332,
     "end_time": "2020-08-28T10:03:51.622337",
     "exception": false,
     "start_time": "2020-08-28T10:03:51.597005",
     "status": "completed"
    },
    "tags": []
   },
   "source": [
    "### Preparing the Data"
   ]
  },
  {
   "cell_type": "code",
   "execution_count": 3,
   "metadata": {
    "execution": {
     "iopub.execute_input": "2020-08-28T10:03:51.678797Z",
     "iopub.status.busy": "2020-08-28T10:03:51.678210Z",
     "iopub.status.idle": "2020-08-28T10:03:51.691792Z",
     "shell.execute_reply": "2020-08-28T10:03:51.691305Z"
    },
    "papermill": {
     "duration": 0.045623,
     "end_time": "2020-08-28T10:03:51.691907",
     "exception": false,
     "start_time": "2020-08-28T10:03:51.646284",
     "status": "completed"
    },
    "tags": []
   },
   "outputs": [],
   "source": [
    "import mnist"
   ]
  },
  {
   "cell_type": "code",
   "execution_count": 4,
   "metadata": {
    "execution": {
     "iopub.execute_input": "2020-08-28T10:03:51.741648Z",
     "iopub.status.busy": "2020-08-28T10:03:51.741028Z",
     "iopub.status.idle": "2020-08-28T10:03:52.568005Z",
     "shell.execute_reply": "2020-08-28T10:03:52.567088Z"
    },
    "papermill": {
     "duration": 0.852655,
     "end_time": "2020-08-28T10:03:52.568134",
     "exception": false,
     "start_time": "2020-08-28T10:03:51.715479",
     "status": "completed"
    },
    "tags": []
   },
   "outputs": [],
   "source": [
    "train_images = mnist.train_images()\n",
    "train_labels = mnist.train_labels()"
   ]
  },
  {
   "cell_type": "code",
   "execution_count": 5,
   "metadata": {
    "execution": {
     "iopub.execute_input": "2020-08-28T10:03:52.861251Z",
     "iopub.status.busy": "2020-08-28T10:03:52.860383Z",
     "iopub.status.idle": "2020-08-28T10:03:52.871127Z",
     "shell.execute_reply": "2020-08-28T10:03:52.870671Z"
    },
    "papermill": {
     "duration": 0.279425,
     "end_time": "2020-08-28T10:03:52.871244",
     "exception": false,
     "start_time": "2020-08-28T10:03:52.591819",
     "status": "completed"
    },
    "tags": []
   },
   "outputs": [
    {
     "data": {
      "text/plain": [
       "((60000, 28, 28), (60000,))"
      ]
     },
     "execution_count": 5,
     "metadata": {},
     "output_type": "execute_result"
    }
   ],
   "source": [
    "train_images.shape, train_labels.shape"
   ]
  },
  {
   "cell_type": "code",
   "execution_count": 6,
   "metadata": {
    "execution": {
     "iopub.execute_input": "2020-08-28T10:03:53.151695Z",
     "iopub.status.busy": "2020-08-28T10:03:53.151152Z",
     "iopub.status.idle": "2020-08-28T10:03:53.559714Z",
     "shell.execute_reply": "2020-08-28T10:03:53.560206Z"
    },
    "papermill": {
     "duration": 0.457502,
     "end_time": "2020-08-28T10:03:53.560353",
     "exception": false,
     "start_time": "2020-08-28T10:03:53.102851",
     "status": "completed"
    },
    "tags": []
   },
   "outputs": [],
   "source": [
    "test_images = mnist.test_images()\n",
    "test_labels = mnist.test_labels()"
   ]
  },
  {
   "cell_type": "code",
   "execution_count": 7,
   "metadata": {
    "execution": {
     "iopub.execute_input": "2020-08-28T10:03:53.650857Z",
     "iopub.status.busy": "2020-08-28T10:03:53.650265Z",
     "iopub.status.idle": "2020-08-28T10:03:53.661582Z",
     "shell.execute_reply": "2020-08-28T10:03:53.662076Z"
    },
    "papermill": {
     "duration": 0.077813,
     "end_time": "2020-08-28T10:03:53.662303",
     "exception": false,
     "start_time": "2020-08-28T10:03:53.584490",
     "status": "completed"
    },
    "tags": []
   },
   "outputs": [
    {
     "data": {
      "text/plain": [
       "((10000, 28, 28), (10000,))"
      ]
     },
     "execution_count": 7,
     "metadata": {},
     "output_type": "execute_result"
    }
   ],
   "source": [
    "test_images.shape, test_labels.shape"
   ]
  },
  {
   "cell_type": "code",
   "execution_count": 8,
   "metadata": {
    "execution": {
     "iopub.execute_input": "2020-08-28T10:03:53.719469Z",
     "iopub.status.busy": "2020-08-28T10:03:53.718771Z",
     "iopub.status.idle": "2020-08-28T10:03:53.874486Z",
     "shell.execute_reply": "2020-08-28T10:03:53.875263Z"
    },
    "papermill": {
     "duration": 0.187713,
     "end_time": "2020-08-28T10:03:53.875459",
     "exception": false,
     "start_time": "2020-08-28T10:03:53.687746",
     "status": "completed"
    },
    "tags": []
   },
   "outputs": [
    {
     "name": "stdout",
     "output_type": "stream",
     "text": [
      "2\n"
     ]
    },
    {
     "data": {
      "text/plain": [
       "<matplotlib.image.AxesImage at 0x7f54e3c65fd0>"
      ]
     },
     "execution_count": 8,
     "metadata": {},
     "output_type": "execute_result"
    },
    {
     "data": {
      "image/png": "[encoded data removed]",
      "text/plain": [
       "<Figure size 432x288 with 1 Axes>"
      ]
     },
     "metadata": {
      "needs_background": "light"
     },
     "output_type": "display_data"
    }
   ],
   "source": [
    "image_index = 7776 # You may select anything up to 60,000\n",
    "print(train_labels[image_index]) \n",
    "plt.imshow(train_images[image_index], cmap='Greys')"
   ]
  },
  {
   "cell_type": "markdown",
   "metadata": {
    "papermill": {
     "duration": 0.028295,
     "end_time": "2020-08-28T10:03:53.928675",
     "exception": false,
     "start_time": "2020-08-28T10:03:53.900380",
     "status": "completed"
    },
    "tags": []
   },
   "source": [
    "## Filter data to get 3 and 8 out"
   ]
  },
  {
   "cell_type": "code",
   "execution_count": 9,
   "metadata": {
    "execution": {
     "iopub.execute_input": "2020-08-28T10:03:53.991482Z",
     "iopub.status.busy": "2020-08-28T10:03:53.983065Z",
     "iopub.status.idle": "2020-08-28T10:03:54.000530Z",
     "shell.execute_reply": "2020-08-28T10:03:53.999965Z"
    },
    "papermill": {
     "duration": 0.046798,
     "end_time": "2020-08-28T10:03:54.000718",
     "exception": false,
     "start_time": "2020-08-28T10:03:53.953920",
     "status": "completed"
    },
    "tags": []
   },
   "outputs": [],
   "source": [
    "train_filter = np.where((train_labels == 3 ) | (train_labels == 8))\n",
    "test_filter = np.where((test_labels == 3) | (test_labels == 8))\n",
    "X_train, y_train = train_images[train_filter], train_labels[train_filter]\n",
    "X_test, y_test = test_images[test_filter], test_labels[test_filter]"
   ]
  },
  {
   "cell_type": "markdown",
   "metadata": {
    "papermill": {
     "duration": 0.024476,
     "end_time": "2020-08-28T10:03:54.050535",
     "exception": false,
     "start_time": "2020-08-28T10:03:54.026059",
     "status": "completed"
    },
    "tags": []
   },
   "source": [
    "We normalize the pixel values in the 0 to 1 range"
   ]
  },
  {
   "cell_type": "code",
   "execution_count": 10,
   "metadata": {
    "execution": {
     "iopub.execute_input": "2020-08-28T10:03:54.104164Z",
     "iopub.status.busy": "2020-08-28T10:03:54.103638Z",
     "iopub.status.idle": "2020-08-28T10:03:54.156425Z",
     "shell.execute_reply": "2020-08-28T10:03:54.155914Z"
    },
    "papermill": {
     "duration": 0.080479,
     "end_time": "2020-08-28T10:03:54.156629",
     "exception": false,
     "start_time": "2020-08-28T10:03:54.076150",
     "status": "completed"
    },
    "tags": []
   },
   "outputs": [],
   "source": [
    "X_train = X_train/255.\n",
    "X_test = X_test/255."
   ]
  },
  {
   "cell_type": "markdown",
   "metadata": {
    "papermill": {
     "duration": 0.031082,
     "end_time": "2020-08-28T10:03:54.213880",
     "exception": false,
     "start_time": "2020-08-28T10:03:54.182798",
     "status": "completed"
    },
    "tags": []
   },
   "source": [
    "Setup the labels as 1 (when the digit is 3) and 0 (when the digit is 8)"
   ]
  },
  {
   "cell_type": "code",
   "execution_count": 11,
   "metadata": {
    "execution": {
     "iopub.execute_input": "2020-08-28T10:03:54.276196Z",
     "iopub.status.busy": "2020-08-28T10:03:54.275650Z",
     "iopub.status.idle": "2020-08-28T10:03:54.286416Z",
     "shell.execute_reply": "2020-08-28T10:03:54.286838Z"
    },
    "papermill": {
     "duration": 0.042513,
     "end_time": "2020-08-28T10:03:54.286957",
     "exception": false,
     "start_time": "2020-08-28T10:03:54.244444",
     "status": "completed"
    },
    "tags": []
   },
   "outputs": [],
   "source": [
    "y_train = 1*(y_train==3)\n",
    "y_test = 1*(y_test==3)"
   ]
  },
  {
   "cell_type": "code",
   "execution_count": 12,
   "metadata": {
    "execution": {
     "iopub.execute_input": "2020-08-28T10:03:54.344337Z",
     "iopub.status.busy": "2020-08-28T10:03:54.343700Z",
     "iopub.status.idle": "2020-08-28T10:03:54.355114Z",
     "shell.execute_reply": "2020-08-28T10:03:54.354651Z"
    },
    "papermill": {
     "duration": 0.040554,
     "end_time": "2020-08-28T10:03:54.355224",
     "exception": false,
     "start_time": "2020-08-28T10:03:54.314670",
     "status": "completed"
    },
    "tags": []
   },
   "outputs": [
    {
     "data": {
      "text/plain": [
       "((11982, 28, 28), (1984, 28, 28))"
      ]
     },
     "execution_count": 12,
     "metadata": {},
     "output_type": "execute_result"
    }
   ],
   "source": [
    "X_train.shape, X_test.shape"
   ]
  },
  {
   "cell_type": "markdown",
   "metadata": {
    "papermill": {
     "duration": 0.025025,
     "end_time": "2020-08-28T10:03:54.406431",
     "exception": false,
     "start_time": "2020-08-28T10:03:54.381406",
     "status": "completed"
    },
    "tags": []
   },
   "source": [
    "### Reshape the input data to create a linear array"
   ]
  },
  {
   "cell_type": "code",
   "execution_count": 13,
   "metadata": {
    "execution": {
     "iopub.execute_input": "2020-08-28T10:03:54.463078Z",
     "iopub.status.busy": "2020-08-28T10:03:54.462535Z",
     "iopub.status.idle": "2020-08-28T10:03:54.473413Z",
     "shell.execute_reply": "2020-08-28T10:03:54.473810Z"
    },
    "papermill": {
     "duration": 0.03947,
     "end_time": "2020-08-28T10:03:54.473927",
     "exception": false,
     "start_time": "2020-08-28T10:03:54.434457",
     "status": "completed"
    },
    "tags": []
   },
   "outputs": [
    {
     "data": {
      "text/plain": [
       "((11982, 784), (1984, 784))"
      ]
     },
     "execution_count": 13,
     "metadata": {},
     "output_type": "execute_result"
    }
   ],
   "source": [
    "X_train = X_train.reshape(X_train.shape[0], -1)\n",
    "X_test = X_test.reshape(X_test.shape[0], -1)\n",
    "X_train.shape, X_test.shape"
   ]
  },
  {
   "cell_type": "markdown",
   "metadata": {
    "papermill": {
     "duration": 0.025164,
     "end_time": "2020-08-28T10:03:54.524186",
     "exception": false,
     "start_time": "2020-08-28T10:03:54.499022",
     "status": "completed"
    },
    "tags": []
   },
   "source": [
    "### Importing appropriate functions from 'Kudzu'"
   ]
  },
  {
   "cell_type": "code",
   "execution_count": 14,
   "metadata": {
    "execution": {
     "iopub.execute_input": "2020-08-28T10:03:54.578168Z",
     "iopub.status.busy": "2020-08-28T10:03:54.577614Z",
     "iopub.status.idle": "2020-08-28T10:03:54.598699Z",
     "shell.execute_reply": "2020-08-28T10:03:54.598194Z"
    },
    "papermill": {
     "duration": 0.048455,
     "end_time": "2020-08-28T10:03:54.598812",
     "exception": false,
     "start_time": "2020-08-28T10:03:54.550357",
     "status": "completed"
    },
    "tags": []
   },
   "outputs": [],
   "source": [
    "from kudzu.layer import Sigmoid\n",
    "from kudzu.layer import Relu\n",
    "from kudzu.layer import Affine, Sigmoid\n",
    "\n",
    "from kudzu.model import Model\n",
    "from kudzu.train import Learner\n",
    "from kudzu.optim import GD\n",
    "from kudzu.data import Data, Dataloader, Sampler\n",
    "\n",
    "from kudzu.callbacks import AccCallback\n",
    "from kudzu.callbacks import ClfCallback\n",
    "\n",
    "from kudzu.loss import MSE"
   ]
  },
  {
   "cell_type": "markdown",
   "metadata": {
    "papermill": {
     "duration": 0.025802,
     "end_time": "2020-08-28T10:03:54.650833",
     "exception": false,
     "start_time": "2020-08-28T10:03:54.625031",
     "status": "completed"
    },
    "tags": []
   },
   "source": [
    "### Let us create a `Config` class, to store important parameters. \n",
    "This class essentially plays the role of a dictionary."
   ]
  },
  {
   "cell_type": "code",
   "execution_count": 15,
   "metadata": {
    "execution": {
     "iopub.execute_input": "2020-08-28T10:03:54.706283Z",
     "iopub.status.busy": "2020-08-28T10:03:54.705744Z",
     "iopub.status.idle": "2020-08-28T10:03:54.718291Z",
     "shell.execute_reply": "2020-08-28T10:03:54.717809Z"
    },
    "papermill": {
     "duration": 0.04206,
     "end_time": "2020-08-28T10:03:54.718405",
     "exception": false,
     "start_time": "2020-08-28T10:03:54.676345",
     "status": "completed"
    },
    "tags": []
   },
   "outputs": [],
   "source": [
    "class Config:\n",
    "    pass\n",
    "config = Config()\n",
    "config.lr = 0.001\n",
    "config.num_epochs = 251\n",
    "config.bs = 50"
   ]
  },
  {
   "cell_type": "markdown",
   "metadata": {
    "papermill": {
     "duration": 0.026171,
     "end_time": "2020-08-28T10:03:54.773194",
     "exception": false,
     "start_time": "2020-08-28T10:03:54.747023",
     "status": "completed"
    },
    "tags": []
   },
   "source": [
    "### Initializing data to the variables"
   ]
  },
  {
   "cell_type": "code",
   "execution_count": 16,
   "metadata": {
    "execution": {
     "iopub.execute_input": "2020-08-28T10:03:54.826282Z",
     "iopub.status.busy": "2020-08-28T10:03:54.825757Z",
     "iopub.status.idle": "2020-08-28T10:03:54.836075Z",
     "shell.execute_reply": "2020-08-28T10:03:54.835530Z"
    },
    "papermill": {
     "duration": 0.038118,
     "end_time": "2020-08-28T10:03:54.836183",
     "exception": false,
     "start_time": "2020-08-28T10:03:54.798065",
     "status": "completed"
    },
    "tags": []
   },
   "outputs": [],
   "source": [
    "data = Data(X_train, y_train.reshape(-1,1))\n",
    "sampler = Sampler(data, config.bs, shuffle=True)\n",
    "\n",
    "dl = Dataloader(data, sampler)\n",
    "\n",
    "opt = GD(config.lr)\n",
    "loss = MSE()"
   ]
  },
  {
   "cell_type": "code",
   "execution_count": 17,
   "metadata": {
    "execution": {
     "iopub.execute_input": "2020-08-28T10:03:54.889717Z",
     "iopub.status.busy": "2020-08-28T10:03:54.889187Z",
     "iopub.status.idle": "2020-08-28T10:03:54.899271Z",
     "shell.execute_reply": "2020-08-28T10:03:54.898832Z"
    },
    "papermill": {
     "duration": 0.038561,
     "end_time": "2020-08-28T10:03:54.899374",
     "exception": false,
     "start_time": "2020-08-28T10:03:54.860813",
     "status": "completed"
    },
    "tags": []
   },
   "outputs": [],
   "source": [
    "training_xdata = X_train\n",
    "testing_xdata = X_test\n",
    "training_ydata = y_train.reshape(-1,1)\n",
    "testing_ydata = y_test.reshape(-1,1)"
   ]
  },
  {
   "cell_type": "markdown",
   "metadata": {
    "papermill": {
     "duration": 0.025172,
     "end_time": "2020-08-28T10:03:54.949425",
     "exception": false,
     "start_time": "2020-08-28T10:03:54.924253",
     "status": "completed"
    },
    "tags": []
   },
   "source": [
    "### Running Models with the Training data\n",
    "Details about the network layers:\n",
    "- A first affine layer has 784 inputs and does 100 affine transforms. These are followed by a Relu\n",
    "- A second affine layer has 100 inputs from the 100 activations of the past layer, and does 100 affine transforms. These are followed by a Relu\n",
    "- A third affine layer has 100 activations and does 2 affine transformations to create an embedding for visualization. There is no non-linearity here.\n",
    "- A final \"logistic regression\" which has an affine transform from 2 inputs to 1 output, which is squeezed through a sigmoid.\n",
    "\n",
    "Help taken from Anshuman's Notebook."
   ]
  },
  {
   "cell_type": "code",
   "execution_count": 18,
   "metadata": {
    "execution": {
     "iopub.execute_input": "2020-08-28T10:03:55.004378Z",
     "iopub.status.busy": "2020-08-28T10:03:55.003808Z",
     "iopub.status.idle": "2020-08-28T10:03:55.018344Z",
     "shell.execute_reply": "2020-08-28T10:03:55.017900Z"
    },
    "papermill": {
     "duration": 0.043111,
     "end_time": "2020-08-28T10:03:55.018450",
     "exception": false,
     "start_time": "2020-08-28T10:03:54.975339",
     "status": "completed"
    },
    "tags": []
   },
   "outputs": [],
   "source": [
    "# layers for the Neural Network\n",
    "layers = [Affine(\"first\", 784, 100), Relu(\"first\"), Affine(\"second\", 100, 100), Relu(\"second\"), Affine(\"third\", 100, 2), Affine(\"final\", 2, 1), Sigmoid(\"final\")]\n",
    "model_nn = Model(layers)\n",
    "\n",
    "# layers for the Logistic Regression\n",
    "layers_lr = [Affine(\"logits\", 784, 1), Sigmoid(\"sigmoid\")]\n",
    "model_lr = Model(layers_lr)"
   ]
  },
  {
   "cell_type": "code",
   "execution_count": 19,
   "metadata": {
    "execution": {
     "iopub.execute_input": "2020-08-28T10:03:55.075125Z",
     "iopub.status.busy": "2020-08-28T10:03:55.074530Z",
     "iopub.status.idle": "2020-08-28T10:03:55.085502Z",
     "shell.execute_reply": "2020-08-28T10:03:55.086029Z"
    },
    "papermill": {
     "duration": 0.041781,
     "end_time": "2020-08-28T10:03:55.086148",
     "exception": false,
     "start_time": "2020-08-28T10:03:55.044367",
     "status": "completed"
    },
    "tags": []
   },
   "outputs": [],
   "source": [
    "# suffix _nn stands for Neural Network.\n",
    "learner_nn = Learner(loss, model_nn, opt, config.num_epochs)\n",
    "acc_nn = ClfCallback(learner_nn, config.bs, training_xdata , testing_xdata, training_ydata, testing_ydata)\n",
    "learner_nn.set_callbacks([acc_nn])"
   ]
  },
  {
   "cell_type": "code",
   "execution_count": 20,
   "metadata": {
    "execution": {
     "iopub.execute_input": "2020-08-28T10:03:55.139594Z",
     "iopub.status.busy": "2020-08-28T10:03:55.139080Z",
     "iopub.status.idle": "2020-08-28T10:06:06.305623Z",
     "shell.execute_reply": "2020-08-28T10:06:06.304758Z"
    },
    "papermill": {
     "duration": 131.194001,
     "end_time": "2020-08-28T10:06:06.305752",
     "exception": false,
     "start_time": "2020-08-28T10:03:55.111751",
     "status": "completed"
    },
    "tags": []
   },
   "outputs": [
    {
     "name": "stdout",
     "output_type": "stream",
     "text": [
      "====== Neural Network ======\n"
     ]
    },
    {
     "name": "stdout",
     "output_type": "stream",
     "text": [
      "Epoch 0, Loss 0.2365\n",
      "Training Accuracy: 0.7553, Testing Accuracy: 0.7651\n",
      "\n"
     ]
    },
    {
     "name": "stdout",
     "output_type": "stream",
     "text": [
      "Epoch 10, Loss 0.063\n",
      "Training Accuracy: 0.9357, Testing Accuracy: 0.9365\n",
      "\n"
     ]
    },
    {
     "name": "stdout",
     "output_type": "stream",
     "text": [
      "Epoch 20, Loss 0.0435\n",
      "Training Accuracy: 0.9513, Testing Accuracy: 0.9551\n",
      "\n"
     ]
    },
    {
     "name": "stdout",
     "output_type": "stream",
     "text": [
      "Epoch 30, Loss 0.0362\n",
      "Training Accuracy: 0.9583, Testing Accuracy: 0.9607\n",
      "\n"
     ]
    },
    {
     "name": "stdout",
     "output_type": "stream",
     "text": [
      "Epoch 40, Loss 0.0321\n",
      "Training Accuracy: 0.9640, Testing Accuracy: 0.9647\n",
      "\n"
     ]
    },
    {
     "name": "stdout",
     "output_type": "stream",
     "text": [
      "Epoch 50, Loss 0.0294\n",
      "Training Accuracy: 0.9673, Testing Accuracy: 0.9647\n",
      "\n"
     ]
    },
    {
     "name": "stdout",
     "output_type": "stream",
     "text": [
      "Epoch 60, Loss 0.0274\n",
      "Training Accuracy: 0.9692, Testing Accuracy: 0.9667\n",
      "\n"
     ]
    },
    {
     "name": "stdout",
     "output_type": "stream",
     "text": [
      "Epoch 70, Loss 0.0259\n",
      "Training Accuracy: 0.9710, Testing Accuracy: 0.9693\n",
      "\n"
     ]
    },
    {
     "name": "stdout",
     "output_type": "stream",
     "text": [
      "Epoch 80, Loss 0.0246\n",
      "Training Accuracy: 0.9722, Testing Accuracy: 0.9718\n",
      "\n"
     ]
    },
    {
     "name": "stdout",
     "output_type": "stream",
     "text": [
      "Epoch 90, Loss 0.0235\n",
      "Training Accuracy: 0.9734, Testing Accuracy: 0.9718\n",
      "\n"
     ]
    },
    {
     "name": "stdout",
     "output_type": "stream",
     "text": [
      "Epoch 100, Loss 0.0226\n",
      "Training Accuracy: 0.9740, Testing Accuracy: 0.9713\n",
      "\n"
     ]
    },
    {
     "name": "stdout",
     "output_type": "stream",
     "text": [
      "Epoch 110, Loss 0.0218\n",
      "Training Accuracy: 0.9750, Testing Accuracy: 0.9718\n",
      "\n"
     ]
    },
    {
     "name": "stdout",
     "output_type": "stream",
     "text": [
      "Epoch 120, Loss 0.021\n",
      "Training Accuracy: 0.9769, Testing Accuracy: 0.9728\n",
      "\n"
     ]
    },
    {
     "name": "stdout",
     "output_type": "stream",
     "text": [
      "Epoch 130, Loss 0.0204\n",
      "Training Accuracy: 0.9777, Testing Accuracy: 0.9728\n",
      "\n"
     ]
    },
    {
     "name": "stdout",
     "output_type": "stream",
     "text": [
      "Epoch 140, Loss 0.0197\n",
      "Training Accuracy: 0.9786, Testing Accuracy: 0.9733\n",
      "\n"
     ]
    },
    {
     "name": "stdout",
     "output_type": "stream",
     "text": [
      "Epoch 150, Loss 0.0192\n",
      "Training Accuracy: 0.9794, Testing Accuracy: 0.9728\n",
      "\n"
     ]
    },
    {
     "name": "stdout",
     "output_type": "stream",
     "text": [
      "Epoch 160, Loss 0.0186\n",
      "Training Accuracy: 0.9795, Testing Accuracy: 0.9723\n",
      "\n"
     ]
    },
    {
     "name": "stdout",
     "output_type": "stream",
     "text": [
      "Epoch 170, Loss 0.0181\n",
      "Training Accuracy: 0.9804, Testing Accuracy: 0.9718\n",
      "\n"
     ]
    },
    {
     "name": "stdout",
     "output_type": "stream",
     "text": [
      "Epoch 180, Loss 0.0176\n",
      "Training Accuracy: 0.9811, Testing Accuracy: 0.9723\n",
      "\n"
     ]
    },
    {
     "name": "stdout",
     "output_type": "stream",
     "text": [
      "Epoch 190, Loss 0.0172\n",
      "Training Accuracy: 0.9813, Testing Accuracy: 0.9728\n",
      "\n"
     ]
    },
    {
     "name": "stdout",
     "output_type": "stream",
     "text": [
      "Epoch 200, Loss 0.0168\n",
      "Training Accuracy: 0.9818, Testing Accuracy: 0.9733\n",
      "\n"
     ]
    },
    {
     "name": "stdout",
     "output_type": "stream",
     "text": [
      "Epoch 210, Loss 0.0163\n",
      "Training Accuracy: 0.9830, Testing Accuracy: 0.9738\n",
      "\n"
     ]
    },
    {
     "name": "stdout",
     "output_type": "stream",
     "text": [
      "Epoch 220, Loss 0.0159\n",
      "Training Accuracy: 0.9835, Testing Accuracy: 0.9743\n",
      "\n"
     ]
    },
    {
     "name": "stdout",
     "output_type": "stream",
     "text": [
      "Epoch 230, Loss 0.0155\n",
      "Training Accuracy: 0.9840, Testing Accuracy: 0.9738\n",
      "\n"
     ]
    },
    {
     "name": "stdout",
     "output_type": "stream",
     "text": [
      "Epoch 240, Loss 0.0152\n",
      "Training Accuracy: 0.9844, Testing Accuracy: 0.9748\n",
      "\n"
     ]
    },
    {
     "name": "stdout",
     "output_type": "stream",
     "text": [
      "Epoch 250, Loss 0.0148\n",
      "Training Accuracy: 0.9847, Testing Accuracy: 0.9758\n",
      "\n"
     ]
    },
    {
     "data": {
      "text/plain": [
       "0.006180917451078576"
      ]
     },
     "execution_count": 20,
     "metadata": {},
     "output_type": "execute_result"
    }
   ],
   "source": [
    "print(\"====== Neural Network ======\")\n",
    "learner_nn.train_loop(dl)"
   ]
  },
  {
   "cell_type": "markdown",
   "metadata": {
    "papermill": {
     "duration": 0.034225,
     "end_time": "2020-08-28T10:06:06.376115",
     "exception": false,
     "start_time": "2020-08-28T10:06:06.341890",
     "status": "completed"
    },
    "tags": []
   },
   "source": [
    "### Logistic Regression based Implementation."
   ]
  },
  {
   "cell_type": "code",
   "execution_count": 21,
   "metadata": {
    "execution": {
     "iopub.execute_input": "2020-08-28T10:06:06.467738Z",
     "iopub.status.busy": "2020-08-28T10:06:06.467168Z",
     "iopub.status.idle": "2020-08-28T10:06:06.478085Z",
     "shell.execute_reply": "2020-08-28T10:06:06.477663Z"
    },
    "papermill": {
     "duration": 0.053277,
     "end_time": "2020-08-28T10:06:06.478196",
     "exception": false,
     "start_time": "2020-08-28T10:06:06.424919",
     "status": "completed"
    },
    "tags": []
   },
   "outputs": [],
   "source": [
    "learner_lr = Learner(loss, model_lr, opt, config.num_epochs)\n",
    "acc_lr = ClfCallback(learner_lr, config.bs, training_xdata , testing_xdata, training_ydata, testing_ydata)\n",
    "learner_lr.set_callbacks([acc_lr])"
   ]
  },
  {
   "cell_type": "code",
   "execution_count": 22,
   "metadata": {
    "execution": {
     "iopub.execute_input": "2020-08-28T10:06:06.551483Z",
     "iopub.status.busy": "2020-08-28T10:06:06.550431Z",
     "iopub.status.idle": "2020-08-28T10:06:25.530137Z",
     "shell.execute_reply": "2020-08-28T10:06:25.529460Z"
    },
    "papermill": {
     "duration": 19.016983,
     "end_time": "2020-08-28T10:06:25.530259",
     "exception": false,
     "start_time": "2020-08-28T10:06:06.513276",
     "status": "completed"
    },
    "tags": []
   },
   "outputs": [
    {
     "name": "stdout",
     "output_type": "stream",
     "text": [
      "====== Logistic Regression ======\n",
      "Epoch 0, Loss 0.2062\n",
      "Training Accuracy: 0.8102, Testing Accuracy: 0.8377\n",
      "\n"
     ]
    },
    {
     "name": "stdout",
     "output_type": "stream",
     "text": [
      "Epoch 10, Loss 0.098\n",
      "Training Accuracy: 0.9195, Testing Accuracy: 0.9325\n",
      "\n"
     ]
    },
    {
     "name": "stdout",
     "output_type": "stream",
     "text": [
      "Epoch 20, Loss 0.0772\n",
      "Training Accuracy: 0.9317, Testing Accuracy: 0.9476\n",
      "\n"
     ]
    },
    {
     "name": "stdout",
     "output_type": "stream",
     "text": [
      "Epoch 30, Loss 0.0672\n",
      "Training Accuracy: 0.9386, Testing Accuracy: 0.9516\n",
      "\n"
     ]
    },
    {
     "name": "stdout",
     "output_type": "stream",
     "text": [
      "Epoch 40, Loss 0.061\n",
      "Training Accuracy: 0.9427, Testing Accuracy: 0.9556\n",
      "\n"
     ]
    },
    {
     "name": "stdout",
     "output_type": "stream",
     "text": [
      "Epoch 50, Loss 0.0567\n",
      "Training Accuracy: 0.9456, Testing Accuracy: 0.9567\n",
      "\n"
     ]
    },
    {
     "name": "stdout",
     "output_type": "stream",
     "text": [
      "Epoch 60, Loss 0.0536\n",
      "Training Accuracy: 0.9480, Testing Accuracy: 0.9602\n",
      "\n"
     ]
    },
    {
     "name": "stdout",
     "output_type": "stream",
     "text": [
      "Epoch 70, Loss 0.0511\n",
      "Training Accuracy: 0.9499, Testing Accuracy: 0.9607\n",
      "\n"
     ]
    },
    {
     "name": "stdout",
     "output_type": "stream",
     "text": [
      "Epoch 80, Loss 0.0491\n",
      "Training Accuracy: 0.9515, Testing Accuracy: 0.9607\n",
      "\n"
     ]
    },
    {
     "name": "stdout",
     "output_type": "stream",
     "text": [
      "Epoch 90, Loss 0.0475\n",
      "Training Accuracy: 0.9531, Testing Accuracy: 0.9637\n",
      "\n"
     ]
    },
    {
     "name": "stdout",
     "output_type": "stream",
     "text": [
      "Epoch 100, Loss 0.0461\n",
      "Training Accuracy: 0.9543, Testing Accuracy: 0.9642\n",
      "\n"
     ]
    },
    {
     "name": "stdout",
     "output_type": "stream",
     "text": [
      "Epoch 110, Loss 0.0449\n",
      "Training Accuracy: 0.9552, Testing Accuracy: 0.9647\n",
      "\n"
     ]
    },
    {
     "name": "stdout",
     "output_type": "stream",
     "text": [
      "Epoch 120, Loss 0.0438\n",
      "Training Accuracy: 0.9556, Testing Accuracy: 0.9652\n",
      "\n"
     ]
    },
    {
     "name": "stdout",
     "output_type": "stream",
     "text": [
      "Epoch 130, Loss 0.0429\n",
      "Training Accuracy: 0.9561, Testing Accuracy: 0.9657\n",
      "\n"
     ]
    },
    {
     "name": "stdout",
     "output_type": "stream",
     "text": [
      "Epoch 140, Loss 0.0421\n",
      "Training Accuracy: 0.9569, Testing Accuracy: 0.9662\n",
      "\n"
     ]
    },
    {
     "name": "stdout",
     "output_type": "stream",
     "text": [
      "Epoch 150, Loss 0.0413\n",
      "Training Accuracy: 0.9574, Testing Accuracy: 0.9662\n",
      "\n"
     ]
    },
    {
     "name": "stdout",
     "output_type": "stream",
     "text": [
      "Epoch 160, Loss 0.0407\n",
      "Training Accuracy: 0.9579, Testing Accuracy: 0.9662\n",
      "\n"
     ]
    },
    {
     "name": "stdout",
     "output_type": "stream",
     "text": [
      "Epoch 170, Loss 0.0401\n",
      "Training Accuracy: 0.9584, Testing Accuracy: 0.9667\n",
      "\n"
     ]
    },
    {
     "name": "stdout",
     "output_type": "stream",
     "text": [
      "Epoch 180, Loss 0.0395\n",
      "Training Accuracy: 0.9583, Testing Accuracy: 0.9662\n",
      "\n"
     ]
    },
    {
     "name": "stdout",
     "output_type": "stream",
     "text": [
      "Epoch 190, Loss 0.039\n",
      "Training Accuracy: 0.9589, Testing Accuracy: 0.9662\n",
      "\n"
     ]
    },
    {
     "name": "stdout",
     "output_type": "stream",
     "text": [
      "Epoch 200, Loss 0.0385\n",
      "Training Accuracy: 0.9591, Testing Accuracy: 0.9667\n",
      "\n"
     ]
    },
    {
     "name": "stdout",
     "output_type": "stream",
     "text": [
      "Epoch 210, Loss 0.0381\n",
      "Training Accuracy: 0.9595, Testing Accuracy: 0.9672\n",
      "\n"
     ]
    },
    {
     "name": "stdout",
     "output_type": "stream",
     "text": [
      "Epoch 220, Loss 0.0377\n",
      "Training Accuracy: 0.9596, Testing Accuracy: 0.9672\n",
      "\n"
     ]
    },
    {
     "name": "stdout",
     "output_type": "stream",
     "text": [
      "Epoch 230, Loss 0.0373\n",
      "Training Accuracy: 0.9601, Testing Accuracy: 0.9682\n",
      "\n"
     ]
    },
    {
     "name": "stdout",
     "output_type": "stream",
     "text": [
      "Epoch 240, Loss 0.0369\n",
      "Training Accuracy: 0.9599, Testing Accuracy: 0.9677\n",
      "\n"
     ]
    },
    {
     "name": "stdout",
     "output_type": "stream",
     "text": [
      "Epoch 250, Loss 0.0366\n",
      "Training Accuracy: 0.9604, Testing Accuracy: 0.9682\n",
      "\n"
     ]
    },
    {
     "data": {
      "text/plain": [
       "0.0514464905869153"
      ]
     },
     "execution_count": 22,
     "metadata": {},
     "output_type": "execute_result"
    }
   ],
   "source": [
    "print(\"====== Logistic Regression ======\")\n",
    "learner_lr.train_loop(dl)"
   ]
  },
  {
   "cell_type": "markdown",
   "metadata": {
    "papermill": {
     "duration": 0.040424,
     "end_time": "2020-08-28T10:06:25.612244",
     "exception": false,
     "start_time": "2020-08-28T10:06:25.571820",
     "status": "completed"
    },
    "tags": []
   },
   "source": [
    "### Comparing results of NN and LR"
   ]
  },
  {
   "cell_type": "code",
   "execution_count": 23,
   "metadata": {
    "execution": {
     "iopub.execute_input": "2020-08-28T10:06:25.703982Z",
     "iopub.status.busy": "2020-08-28T10:06:25.703218Z",
     "iopub.status.idle": "2020-08-28T10:06:25.960888Z",
     "shell.execute_reply": "2020-08-28T10:06:25.961475Z"
    },
    "papermill": {
     "duration": 0.306372,
     "end_time": "2020-08-28T10:06:25.961742",
     "exception": false,
     "start_time": "2020-08-28T10:06:25.655370",
     "status": "completed"
    },
    "tags": []
   },
   "outputs": [
    {
     "data": {
      "text/plain": [
       "<matplotlib.legend.Legend at 0x7f54e17db278>"
      ]
     },
     "execution_count": 23,
     "metadata": {},
     "output_type": "execute_result"
    },
    {
     "data": {
      "image/png": "[encoded data removed]",
      "text/plain": [
       "<Figure size 1080x720 with 1 Axes>"
      ]
     },
     "metadata": {
      "needs_background": "light"
     },
     "output_type": "display_data"
    }
   ],
   "source": [
    "plt.figure(figsize=(15,10))\n",
    "\n",
    "# Neural Network plots\n",
    "plt.plot(acc_nn.accuracies, 'r-', label = \"Training Accuracies - NN\")\n",
    "plt.plot(acc_nn.test_accuracies, 'g-', label = \"Testing Accuracies - NN\")\n",
    "\n",
    "# Logistic Regression plots\n",
    "plt.plot(acc_lr.accuracies, 'k-', label = \"Training Accuracies - LR\")\n",
    "plt.plot(acc_lr.test_accuracies, 'b-', label = \"Testing Accuracies - LR\")\n",
    "\n",
    "plt.ylim(0.8, 1)\n",
    "\n",
    "plt.legend()\n",
    "\n"
   ]
  },
  {
   "cell_type": "markdown",
   "metadata": {
    "papermill": {
     "duration": 0.047509,
     "end_time": "2020-08-28T10:06:26.060040",
     "exception": false,
     "start_time": "2020-08-28T10:06:26.012531",
     "status": "completed"
    },
    "tags": []
   },
   "source": [
    "### From the plot, we can observe the following:\n",
    "- Neural Network achieves higher accuracy than the Logistic Regression model.\n",
    "- This apparently, is because of overfitting, i.e. NN captures more noise than data.\n",
    "- Testing accuracy of NN drops below the Training accuracy at higher epochs. This explains the over-fitting on training data.\n",
    "- Logistic Regression gives a reliable accuracy, without the above mentioned problem.\n"
   ]
  },
  {
   "cell_type": "markdown",
   "metadata": {
    "papermill": {
     "duration": 0.041562,
     "end_time": "2020-08-28T10:06:26.147566",
     "exception": false,
     "start_time": "2020-08-28T10:06:26.106004",
     "status": "completed"
    },
    "tags": []
   },
   "source": [
    "### Moving till the last but one layer (excluding it).\n",
    "#### Plotting the outputs of this layer of the NN."
   ]
  },
  {
   "cell_type": "code",
   "execution_count": 24,
   "metadata": {
    "execution": {
     "iopub.execute_input": "2020-08-28T10:06:26.235675Z",
     "iopub.status.busy": "2020-08-28T10:06:26.234696Z",
     "iopub.status.idle": "2020-08-28T10:06:26.247944Z",
     "shell.execute_reply": "2020-08-28T10:06:26.247400Z"
    },
    "papermill": {
     "duration": 0.059706,
     "end_time": "2020-08-28T10:06:26.248065",
     "exception": false,
     "start_time": "2020-08-28T10:06:26.188359",
     "status": "completed"
    },
    "tags": []
   },
   "outputs": [],
   "source": [
    "model_new = Model(layers[:-2])"
   ]
  },
  {
   "cell_type": "code",
   "execution_count": 25,
   "metadata": {
    "execution": {
     "iopub.execute_input": "2020-08-28T10:06:26.335666Z",
     "iopub.status.busy": "2020-08-28T10:06:26.334853Z",
     "iopub.status.idle": "2020-08-28T10:06:26.358151Z",
     "shell.execute_reply": "2020-08-28T10:06:26.358782Z"
    },
    "papermill": {
     "duration": 0.067139,
     "end_time": "2020-08-28T10:06:26.358916",
     "exception": false,
     "start_time": "2020-08-28T10:06:26.291777",
     "status": "completed"
    },
    "tags": []
   },
   "outputs": [],
   "source": [
    "plot_testing = model_new(testing_xdata)"
   ]
  },
  {
   "cell_type": "code",
   "execution_count": 26,
   "metadata": {
    "execution": {
     "iopub.execute_input": "2020-08-28T10:06:26.452477Z",
     "iopub.status.busy": "2020-08-28T10:06:26.451963Z",
     "iopub.status.idle": "2020-08-28T10:06:26.666541Z",
     "shell.execute_reply": "2020-08-28T10:06:26.666967Z"
    },
    "papermill": {
     "duration": 0.26717,
     "end_time": "2020-08-28T10:06:26.667102",
     "exception": false,
     "start_time": "2020-08-28T10:06:26.399932",
     "status": "completed"
    },
    "tags": []
   },
   "outputs": [
    {
     "data": {
      "text/plain": [
       "Text(0.5, 1.0, 'Outputs')"
      ]
     },
     "execution_count": 26,
     "metadata": {},
     "output_type": "execute_result"
    },
    {
     "data": {
      "image/png": "[encoded data removed]",
      "text/plain": [
       "<Figure size 576x504 with 1 Axes>"
      ]
     },
     "metadata": {
      "needs_background": "light"
     },
     "output_type": "display_data"
    }
   ],
   "source": [
    "plt.figure(figsize=(8,7))\n",
    "plt.scatter(plot_testing[:,0], plot_testing[:,1], alpha = 0.1, c = y_test.ravel());\n",
    "plt.title('Outputs')"
   ]
  },
  {
   "cell_type": "markdown",
   "metadata": {
    "papermill": {
     "duration": 0.046805,
     "end_time": "2020-08-28T10:06:26.759577",
     "exception": false,
     "start_time": "2020-08-28T10:06:26.712772",
     "status": "completed"
    },
    "tags": []
   },
   "source": [
    "### Plotting probability contours"
   ]
  },
  {
   "cell_type": "code",
   "execution_count": 27,
   "metadata": {
    "execution": {
     "iopub.execute_input": "2020-08-28T10:06:26.879366Z",
     "iopub.status.busy": "2020-08-28T10:06:26.878741Z",
     "iopub.status.idle": "2020-08-28T10:06:26.891353Z",
     "shell.execute_reply": "2020-08-28T10:06:26.891963Z"
    },
    "papermill": {
     "duration": 0.073799,
     "end_time": "2020-08-28T10:06:26.892108",
     "exception": false,
     "start_time": "2020-08-28T10:06:26.818309",
     "status": "completed"
    },
    "tags": []
   },
   "outputs": [],
   "source": [
    "model_prob = Model(layers[-2:]) "
   ]
  },
  {
   "cell_type": "code",
   "execution_count": 28,
   "metadata": {
    "execution": {
     "iopub.execute_input": "2020-08-28T10:06:27.011700Z",
     "iopub.status.busy": "2020-08-28T10:06:27.010989Z",
     "iopub.status.idle": "2020-08-28T10:06:27.025949Z",
     "shell.execute_reply": "2020-08-28T10:06:27.026448Z"
    },
    "papermill": {
     "duration": 0.079313,
     "end_time": "2020-08-28T10:06:27.026615",
     "exception": false,
     "start_time": "2020-08-28T10:06:26.947302",
     "status": "completed"
    },
    "tags": []
   },
   "outputs": [],
   "source": [
    "# Adjust the x and y ranges according to the above generated plot.\n",
    "x_range = np.linspace(-4, 1, 100) \n",
    "y_range = np.linspace(-6, 6, 100) \n",
    "x_grid, y_grid = np.meshgrid(x_range, y_range) # x_grid and y_grig are of size 100 X 100\n",
    "\n",
    "# converting x_grid and y_grid to continuous arrays\n",
    "x_grid_flat = np.ravel(x_grid)\n",
    "y_grid_flat = np.ravel(y_grid)\n",
    "\n",
    "# The last layer of the current model takes two columns as input. Hence transpose of np.vstack() is required.\n",
    "X = np.vstack((x_grid_flat, y_grid_flat)).T\n",
    "\n",
    "# x_grid and y_grid are of size 100 x 100\n",
    "probability_contour = model_prob(X).reshape(100,100) "
   ]
  },
  {
   "cell_type": "code",
   "execution_count": 29,
   "metadata": {
    "execution": {
     "iopub.execute_input": "2020-08-28T10:06:27.140015Z",
     "iopub.status.busy": "2020-08-28T10:06:27.139407Z",
     "iopub.status.idle": "2020-08-28T10:06:27.403745Z",
     "shell.execute_reply": "2020-08-28T10:06:27.404440Z"
    },
    "papermill": {
     "duration": 0.324012,
     "end_time": "2020-08-28T10:06:27.404584",
     "exception": false,
     "start_time": "2020-08-28T10:06:27.080572",
     "status": "completed"
    },
    "tags": []
   },
   "outputs": [
    {
     "data": {
      "image/png": "[encoded data removed]",
      "text/plain": [
       "<Figure size 720x648 with 1 Axes>"
      ]
     },
     "metadata": {
      "needs_background": "light"
     },
     "output_type": "display_data"
    }
   ],
   "source": [
    "plt.figure(figsize=(10,9))\n",
    "plt.scatter(plot_testing[:,0], plot_testing[:,1], alpha = 0.1, c = y_test.ravel())\n",
    "contours = plt.contour(x_grid,y_grid,probability_contour)\n",
    "plt.title('Probability Contours')\n",
    "plt.clabel(contours, inline = True );"
   ]
  }
 ],
 "metadata": {
  "kernelspec": {
   "display_name": "Python 3",
   "language": "python",
   "name": "python3"
  },
  "language_info": {
   "codemirror_mode": {
    "name": "ipython",
    "version": 3
   },
   "file_extension": ".py",
   "mimetype": "text/x-python",
   "name": "python",
   "nbconvert_exporter": "python",
   "pygments_lexer": "ipython3",
   "version": "3.6.11"
  },
  "papermill": {
   "duration": 160.362575,
   "end_time": "2020-08-28T10:06:28.709923",
   "environment_variables": {},
   "exception": null,
   "input_path": "2020-08-11-NeuralNetwork.ipynb",
   "output_path": "2020-08-11-NeuralNetwork.ipynb",
   "parameters": {},
   "start_time": "2020-08-28T10:03:48.347348",
   "version": "2.1.2"
  }
 },
 "nbformat": 4,
 "nbformat_minor": 4
}