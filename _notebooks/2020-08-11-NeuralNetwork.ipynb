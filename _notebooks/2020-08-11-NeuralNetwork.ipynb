{
 "cells": [
  {
   "cell_type": "markdown",
   "metadata": {
    "papermill": {
     "duration": 0.031471,
     "end_time": "2020-10-03T00:07:33.641547",
     "exception": false,
     "start_time": "2020-10-03T00:07:33.610076",
     "status": "completed"
    },
    "tags": []
   },
   "source": [
    "# \"A Basic Neural Network: Differentiate Hand-Written Digits\"\n",
    "\n",
    "- badges: true\n",
    "- author: Akshith Sriram"
   ]
  },
  {
   "cell_type": "markdown",
   "metadata": {
    "papermill": {
     "duration": 0.025053,
     "end_time": "2020-10-03T00:07:33.692193",
     "exception": false,
     "start_time": "2020-10-03T00:07:33.667140",
     "status": "completed"
    },
    "tags": []
   },
   "source": [
    "### Key Objectives:\n",
    "- Building a neural network that differentiates two hand-written digits 3 and 8.\n",
    "- Comparing the results of this Neural Network (NN) to that of a Logistic Regression (LR) model.\n",
    "\n",
    "### Requirements:\n",
    "- 'Kudzu' : A neural network library that was designed during our course by [Univ.AI](www.univ.ai). \n",
    "- MNIST Database\n",
    "\n",
    "If MNIST is not installed, use the command `!pip install mnist` given below.\n",
    "It can be run both from the command line and Jupyter Notebook."
   ]
  },
  {
   "cell_type": "code",
   "execution_count": 1,
   "metadata": {
    "execution": {
     "iopub.execute_input": "2020-10-03T00:07:33.748321Z",
     "iopub.status.busy": "2020-10-03T00:07:33.747704Z",
     "iopub.status.idle": "2020-10-03T00:07:35.466944Z",
     "shell.execute_reply": "2020-10-03T00:07:35.465922Z"
    },
    "papermill": {
     "duration": 1.750237,
     "end_time": "2020-10-03T00:07:35.467138",
     "exception": false,
     "start_time": "2020-10-03T00:07:33.716901",
     "status": "completed"
    },
    "tags": []
   },
   "outputs": [
    {
     "name": "stdout",
     "output_type": "stream",
     "text": [
      "Collecting mnist\r\n"
     ]
    },
    {
     "name": "stdout",
     "output_type": "stream",
     "text": [
      "  Downloading mnist-0.2.2-py2.py3-none-any.whl (3.5 kB)\r\n"
     ]
    },
    {
     "name": "stdout",
     "output_type": "stream",
     "text": [
      "Requirement already satisfied: numpy in /opt/hostedtoolcache/Python/3.6.12/x64/lib/python3.6/site-packages (from mnist) (1.19.2)\r\n"
     ]
    },
    {
     "name": "stdout",
     "output_type": "stream",
     "text": [
      "Installing collected packages: mnist\r\n"
     ]
    },
    {
     "name": "stdout",
     "output_type": "stream",
     "text": [
      "Successfully installed mnist-0.2.2\r\n"
     ]
    }
   ],
   "source": [
    "!pip install mnist "
   ]
  },
  {
   "cell_type": "markdown",
   "metadata": {
    "papermill": {
     "duration": 0.027003,
     "end_time": "2020-10-03T00:07:35.523365",
     "exception": false,
     "start_time": "2020-10-03T00:07:35.496362",
     "status": "completed"
    },
    "tags": []
   },
   "source": [
    "#### Importing necessary libraries"
   ]
  },
  {
   "cell_type": "code",
   "execution_count": 2,
   "metadata": {
    "execution": {
     "iopub.execute_input": "2020-10-03T00:07:35.588458Z",
     "iopub.status.busy": "2020-10-03T00:07:35.587868Z",
     "iopub.status.idle": "2020-10-03T00:07:36.207640Z",
     "shell.execute_reply": "2020-10-03T00:07:36.207124Z"
    },
    "papermill": {
     "duration": 0.655873,
     "end_time": "2020-10-03T00:07:36.207780",
     "exception": false,
     "start_time": "2020-10-03T00:07:35.551907",
     "status": "completed"
    },
    "tags": []
   },
   "outputs": [],
   "source": [
    "%load_ext autoreload\n",
    "%autoreload 2\n",
    "\n",
    "%matplotlib inline\n",
    "import matplotlib.pyplot as plt\n",
    "\n",
    "import numpy as np\n",
    "import pandas as pd"
   ]
  },
  {
   "cell_type": "markdown",
   "metadata": {
    "papermill": {
     "duration": 0.032303,
     "end_time": "2020-10-03T00:07:36.271269",
     "exception": false,
     "start_time": "2020-10-03T00:07:36.238966",
     "status": "completed"
    },
    "tags": []
   },
   "source": [
    "### Preparing the Data"
   ]
  },
  {
   "cell_type": "code",
   "execution_count": 3,
   "metadata": {
    "execution": {
     "iopub.execute_input": "2020-10-03T00:07:36.338272Z",
     "iopub.status.busy": "2020-10-03T00:07:36.337640Z",
     "iopub.status.idle": "2020-10-03T00:07:36.354724Z",
     "shell.execute_reply": "2020-10-03T00:07:36.354233Z"
    },
    "papermill": {
     "duration": 0.053132,
     "end_time": "2020-10-03T00:07:36.354850",
     "exception": false,
     "start_time": "2020-10-03T00:07:36.301718",
     "status": "completed"
    },
    "tags": []
   },
   "outputs": [],
   "source": [
    "import mnist"
   ]
  },
  {
   "cell_type": "code",
   "execution_count": 4,
   "metadata": {
    "execution": {
     "iopub.execute_input": "2020-10-03T00:07:36.417571Z",
     "iopub.status.busy": "2020-10-03T00:07:36.416988Z",
     "iopub.status.idle": "2020-10-03T00:07:38.153646Z",
     "shell.execute_reply": "2020-10-03T00:07:38.152444Z"
    },
    "papermill": {
     "duration": 1.766422,
     "end_time": "2020-10-03T00:07:38.153792",
     "exception": false,
     "start_time": "2020-10-03T00:07:36.387370",
     "status": "completed"
    },
    "tags": []
   },
   "outputs": [],
   "source": [
    "train_images = mnist.train_images()\n",
    "train_labels = mnist.train_labels()"
   ]
  },
  {
   "cell_type": "code",
   "execution_count": 5,
   "metadata": {
    "execution": {
     "iopub.execute_input": "2020-10-03T00:07:38.215163Z",
     "iopub.status.busy": "2020-10-03T00:07:38.214348Z",
     "iopub.status.idle": "2020-10-03T00:07:38.227870Z",
     "shell.execute_reply": "2020-10-03T00:07:38.227393Z"
    },
    "papermill": {
     "duration": 0.045337,
     "end_time": "2020-10-03T00:07:38.228002",
     "exception": false,
     "start_time": "2020-10-03T00:07:38.182665",
     "status": "completed"
    },
    "tags": []
   },
   "outputs": [
    {
     "data": {
      "text/plain": [
       "((60000, 28, 28), (60000,))"
      ]
     },
     "execution_count": 5,
     "metadata": {},
     "output_type": "execute_result"
    }
   ],
   "source": [
    "train_images.shape, train_labels.shape"
   ]
  },
  {
   "cell_type": "code",
   "execution_count": 6,
   "metadata": {
    "execution": {
     "iopub.execute_input": "2020-10-03T00:07:38.287938Z",
     "iopub.status.busy": "2020-10-03T00:07:38.287337Z",
     "iopub.status.idle": "2020-10-03T00:07:39.154773Z",
     "shell.execute_reply": "2020-10-03T00:07:39.155355Z"
    },
    "papermill": {
     "duration": 0.899216,
     "end_time": "2020-10-03T00:07:39.155541",
     "exception": false,
     "start_time": "2020-10-03T00:07:38.256325",
     "status": "completed"
    },
    "tags": []
   },
   "outputs": [],
   "source": [
    "test_images = mnist.test_images()\n",
    "test_labels = mnist.test_labels()"
   ]
  },
  {
   "cell_type": "code",
   "execution_count": 7,
   "metadata": {
    "execution": {
     "iopub.execute_input": "2020-10-03T00:07:39.216576Z",
     "iopub.status.busy": "2020-10-03T00:07:39.215468Z",
     "iopub.status.idle": "2020-10-03T00:07:39.231712Z",
     "shell.execute_reply": "2020-10-03T00:07:39.231205Z"
    },
    "papermill": {
     "duration": 0.047133,
     "end_time": "2020-10-03T00:07:39.231847",
     "exception": false,
     "start_time": "2020-10-03T00:07:39.184714",
     "status": "completed"
    },
    "tags": []
   },
   "outputs": [
    {
     "data": {
      "text/plain": [
       "((10000, 28, 28), (10000,))"
      ]
     },
     "execution_count": 7,
     "metadata": {},
     "output_type": "execute_result"
    }
   ],
   "source": [
    "test_images.shape, test_labels.shape"
   ]
  },
  {
   "cell_type": "code",
   "execution_count": 8,
   "metadata": {
    "execution": {
     "iopub.execute_input": "2020-10-03T00:07:39.319919Z",
     "iopub.status.busy": "2020-10-03T00:07:39.297827Z",
     "iopub.status.idle": "2020-10-03T00:07:39.459077Z",
     "shell.execute_reply": "2020-10-03T00:07:39.459554Z"
    },
    "papermill": {
     "duration": 0.20042,
     "end_time": "2020-10-03T00:07:39.459717",
     "exception": false,
     "start_time": "2020-10-03T00:07:39.259297",
     "status": "completed"
    },
    "tags": []
   },
   "outputs": [
    {
     "name": "stdout",
     "output_type": "stream",
     "text": [
      "2\n"
     ]
    },
    {
     "data": {
      "text/plain": [
       "<matplotlib.image.AxesImage at 0x7f8faa075908>"
      ]
     },
     "execution_count": 8,
     "metadata": {},
     "output_type": "execute_result"
    },
    {
     "data": {
      "image/png": "[encoded data removed]",
      "text/plain": [
       "<Figure size 432x288 with 1 Axes>"
      ]
     },
     "metadata": {
      "needs_background": "light"
     },
     "output_type": "display_data"
    }
   ],
   "source": [
    "image_index = 7776 # You may select anything up to 60,000\n",
    "print(train_labels[image_index]) \n",
    "plt.imshow(train_images[image_index], cmap='Greys')"
   ]
  },
  {
   "cell_type": "markdown",
   "metadata": {
    "papermill": {
     "duration": 0.029365,
     "end_time": "2020-10-03T00:07:39.519396",
     "exception": false,
     "start_time": "2020-10-03T00:07:39.490031",
     "status": "completed"
    },
    "tags": []
   },
   "source": [
    "## Filter data to get 3 and 8 out"
   ]
  },
  {
   "cell_type": "code",
   "execution_count": 9,
   "metadata": {
    "execution": {
     "iopub.execute_input": "2020-10-03T00:07:39.586149Z",
     "iopub.status.busy": "2020-10-03T00:07:39.585503Z",
     "iopub.status.idle": "2020-10-03T00:07:39.602068Z",
     "shell.execute_reply": "2020-10-03T00:07:39.601525Z"
    },
    "papermill": {
     "duration": 0.053517,
     "end_time": "2020-10-03T00:07:39.602194",
     "exception": false,
     "start_time": "2020-10-03T00:07:39.548677",
     "status": "completed"
    },
    "tags": []
   },
   "outputs": [],
   "source": [
    "train_filter = np.where((train_labels == 3 ) | (train_labels == 8))\n",
    "test_filter = np.where((test_labels == 3) | (test_labels == 8))\n",
    "X_train, y_train = train_images[train_filter], train_labels[train_filter]\n",
    "X_test, y_test = test_images[test_filter], test_labels[test_filter]"
   ]
  },
  {
   "cell_type": "markdown",
   "metadata": {
    "papermill": {
     "duration": 0.029837,
     "end_time": "2020-10-03T00:07:39.662072",
     "exception": false,
     "start_time": "2020-10-03T00:07:39.632235",
     "status": "completed"
    },
    "tags": []
   },
   "source": [
    "We normalize the pixel values in the 0 to 1 range"
   ]
  },
  {
   "cell_type": "code",
   "execution_count": 10,
   "metadata": {
    "execution": {
     "iopub.execute_input": "2020-10-03T00:07:39.726339Z",
     "iopub.status.busy": "2020-10-03T00:07:39.725734Z",
     "iopub.status.idle": "2020-10-03T00:07:39.779683Z",
     "shell.execute_reply": "2020-10-03T00:07:39.779068Z"
    },
    "papermill": {
     "duration": 0.086254,
     "end_time": "2020-10-03T00:07:39.779820",
     "exception": false,
     "start_time": "2020-10-03T00:07:39.693566",
     "status": "completed"
    },
    "tags": []
   },
   "outputs": [],
   "source": [
    "X_train = X_train/255.\n",
    "X_test = X_test/255."
   ]
  },
  {
   "cell_type": "markdown",
   "metadata": {
    "papermill": {
     "duration": 0.028179,
     "end_time": "2020-10-03T00:07:39.836436",
     "exception": false,
     "start_time": "2020-10-03T00:07:39.808257",
     "status": "completed"
    },
    "tags": []
   },
   "source": [
    "Setup the labels as 1 (when the digit is 3) and 0 (when the digit is 8)"
   ]
  },
  {
   "cell_type": "code",
   "execution_count": 11,
   "metadata": {
    "execution": {
     "iopub.execute_input": "2020-10-03T00:07:39.896329Z",
     "iopub.status.busy": "2020-10-03T00:07:39.895743Z",
     "iopub.status.idle": "2020-10-03T00:07:39.908866Z",
     "shell.execute_reply": "2020-10-03T00:07:39.909367Z"
    },
    "papermill": {
     "duration": 0.044748,
     "end_time": "2020-10-03T00:07:39.909510",
     "exception": false,
     "start_time": "2020-10-03T00:07:39.864762",
     "status": "completed"
    },
    "tags": []
   },
   "outputs": [],
   "source": [
    "y_train = 1*(y_train==3)\n",
    "y_test = 1*(y_test==3)"
   ]
  },
  {
   "cell_type": "code",
   "execution_count": 12,
   "metadata": {
    "execution": {
     "iopub.execute_input": "2020-10-03T00:07:39.973409Z",
     "iopub.status.busy": "2020-10-03T00:07:39.972805Z",
     "iopub.status.idle": "2020-10-03T00:07:39.985316Z",
     "shell.execute_reply": "2020-10-03T00:07:39.984822Z"
    },
    "papermill": {
     "duration": 0.047744,
     "end_time": "2020-10-03T00:07:39.985441",
     "exception": false,
     "start_time": "2020-10-03T00:07:39.937697",
     "status": "completed"
    },
    "tags": []
   },
   "outputs": [
    {
     "data": {
      "text/plain": [
       "((11982, 28, 28), (1984, 28, 28))"
      ]
     },
     "execution_count": 12,
     "metadata": {},
     "output_type": "execute_result"
    }
   ],
   "source": [
    "X_train.shape, X_test.shape"
   ]
  },
  {
   "cell_type": "markdown",
   "metadata": {
    "papermill": {
     "duration": 0.02822,
     "end_time": "2020-10-03T00:07:40.042096",
     "exception": false,
     "start_time": "2020-10-03T00:07:40.013876",
     "status": "completed"
    },
    "tags": []
   },
   "source": [
    "### Reshape the input data to create a linear array"
   ]
  },
  {
   "cell_type": "code",
   "execution_count": 13,
   "metadata": {
    "execution": {
     "iopub.execute_input": "2020-10-03T00:07:40.103320Z",
     "iopub.status.busy": "2020-10-03T00:07:40.102734Z",
     "iopub.status.idle": "2020-10-03T00:07:40.116571Z",
     "shell.execute_reply": "2020-10-03T00:07:40.117042Z"
    },
    "papermill": {
     "duration": 0.046468,
     "end_time": "2020-10-03T00:07:40.117191",
     "exception": false,
     "start_time": "2020-10-03T00:07:40.070723",
     "status": "completed"
    },
    "tags": []
   },
   "outputs": [
    {
     "data": {
      "text/plain": [
       "((11982, 784), (1984, 784))"
      ]
     },
     "execution_count": 13,
     "metadata": {},
     "output_type": "execute_result"
    }
   ],
   "source": [
    "X_train = X_train.reshape(X_train.shape[0], -1)\n",
    "X_test = X_test.reshape(X_test.shape[0], -1)\n",
    "X_train.shape, X_test.shape"
   ]
  },
  {
   "cell_type": "markdown",
   "metadata": {
    "papermill": {
     "duration": 0.028671,
     "end_time": "2020-10-03T00:07:40.174593",
     "exception": false,
     "start_time": "2020-10-03T00:07:40.145922",
     "status": "completed"
    },
    "tags": []
   },
   "source": [
    "### Importing appropriate functions from 'Kudzu'"
   ]
  },
  {
   "cell_type": "code",
   "execution_count": 14,
   "metadata": {
    "execution": {
     "iopub.execute_input": "2020-10-03T00:07:40.237206Z",
     "iopub.status.busy": "2020-10-03T00:07:40.236639Z",
     "iopub.status.idle": "2020-10-03T00:07:40.256238Z",
     "shell.execute_reply": "2020-10-03T00:07:40.256704Z"
    },
    "papermill": {
     "duration": 0.053371,
     "end_time": "2020-10-03T00:07:40.256844",
     "exception": false,
     "start_time": "2020-10-03T00:07:40.203473",
     "status": "completed"
    },
    "tags": []
   },
   "outputs": [],
   "source": [
    "from kudzu.layer import Sigmoid\n",
    "from kudzu.layer import Relu\n",
    "from kudzu.layer import Affine, Sigmoid\n",
    "\n",
    "from kudzu.model import Model\n",
    "from kudzu.train import Learner\n",
    "from kudzu.optim import GD\n",
    "from kudzu.data import Data, Dataloader, Sampler\n",
    "\n",
    "from kudzu.callbacks import AccCallback\n",
    "from kudzu.callbacks import ClfCallback\n",
    "\n",
    "from kudzu.loss import MSE"
   ]
  },
  {
   "cell_type": "markdown",
   "metadata": {
    "papermill": {
     "duration": 0.028708,
     "end_time": "2020-10-03T00:07:40.314438",
     "exception": false,
     "start_time": "2020-10-03T00:07:40.285730",
     "status": "completed"
    },
    "tags": []
   },
   "source": [
    "### Let us create a `Config` class, to store important parameters. \n",
    "This class essentially plays the role of a dictionary."
   ]
  },
  {
   "cell_type": "code",
   "execution_count": 15,
   "metadata": {
    "execution": {
     "iopub.execute_input": "2020-10-03T00:07:40.377525Z",
     "iopub.status.busy": "2020-10-03T00:07:40.376917Z",
     "iopub.status.idle": "2020-10-03T00:07:40.391826Z",
     "shell.execute_reply": "2020-10-03T00:07:40.391340Z"
    },
    "papermill": {
     "duration": 0.048647,
     "end_time": "2020-10-03T00:07:40.391962",
     "exception": false,
     "start_time": "2020-10-03T00:07:40.343315",
     "status": "completed"
    },
    "tags": []
   },
   "outputs": [],
   "source": [
    "class Config:\n",
    "    pass\n",
    "config = Config()\n",
    "config.lr = 0.001\n",
    "config.num_epochs = 251\n",
    "config.bs = 50"
   ]
  },
  {
   "cell_type": "markdown",
   "metadata": {
    "papermill": {
     "duration": 0.028982,
     "end_time": "2020-10-03T00:07:40.449810",
     "exception": false,
     "start_time": "2020-10-03T00:07:40.420828",
     "status": "completed"
    },
    "tags": []
   },
   "source": [
    "### Initializing data to the variables"
   ]
  },
  {
   "cell_type": "code",
   "execution_count": 16,
   "metadata": {
    "execution": {
     "iopub.execute_input": "2020-10-03T00:07:40.515114Z",
     "iopub.status.busy": "2020-10-03T00:07:40.514513Z",
     "iopub.status.idle": "2020-10-03T00:07:40.526142Z",
     "shell.execute_reply": "2020-10-03T00:07:40.525651Z"
    },
    "papermill": {
     "duration": 0.04763,
     "end_time": "2020-10-03T00:07:40.526272",
     "exception": false,
     "start_time": "2020-10-03T00:07:40.478642",
     "status": "completed"
    },
    "tags": []
   },
   "outputs": [],
   "source": [
    "data = Data(X_train, y_train.reshape(-1,1))\n",
    "sampler = Sampler(data, config.bs, shuffle=True)\n",
    "\n",
    "dl = Dataloader(data, sampler)\n",
    "\n",
    "opt = GD(config.lr)\n",
    "loss = MSE()"
   ]
  },
  {
   "cell_type": "code",
   "execution_count": 17,
   "metadata": {
    "execution": {
     "iopub.execute_input": "2020-10-03T00:07:40.588054Z",
     "iopub.status.busy": "2020-10-03T00:07:40.587475Z",
     "iopub.status.idle": "2020-10-03T00:07:40.602066Z",
     "shell.execute_reply": "2020-10-03T00:07:40.601538Z"
    },
    "papermill": {
     "duration": 0.047472,
     "end_time": "2020-10-03T00:07:40.602188",
     "exception": false,
     "start_time": "2020-10-03T00:07:40.554716",
     "status": "completed"
    },
    "tags": []
   },
   "outputs": [],
   "source": [
    "training_xdata = X_train\n",
    "testing_xdata = X_test\n",
    "training_ydata = y_train.reshape(-1,1)\n",
    "testing_ydata = y_test.reshape(-1,1)"
   ]
  },
  {
   "cell_type": "markdown",
   "metadata": {
    "papermill": {
     "duration": 0.028457,
     "end_time": "2020-10-03T00:07:40.659028",
     "exception": false,
     "start_time": "2020-10-03T00:07:40.630571",
     "status": "completed"
    },
    "tags": []
   },
   "source": [
    "### Running Models with the Training data\n",
    "Details about the network layers:\n",
    "- A first affine layer has 784 inputs and does 100 affine transforms. These are followed by a Relu\n",
    "- A second affine layer has 100 inputs from the 100 activations of the past layer, and does 100 affine transforms. These are followed by a Relu\n",
    "- A third affine layer has 100 activations and does 2 affine transformations to create an embedding for visualization. There is no non-linearity here.\n",
    "- A final \"logistic regression\" which has an affine transform from 2 inputs to 1 output, which is squeezed through a sigmoid.\n",
    "\n",
    "Help taken from Anshuman's Notebook."
   ]
  },
  {
   "cell_type": "code",
   "execution_count": 18,
   "metadata": {
    "execution": {
     "iopub.execute_input": "2020-10-03T00:07:40.722385Z",
     "iopub.status.busy": "2020-10-03T00:07:40.721780Z",
     "iopub.status.idle": "2020-10-03T00:07:40.739864Z",
     "shell.execute_reply": "2020-10-03T00:07:40.740344Z"
    },
    "papermill": {
     "duration": 0.052966,
     "end_time": "2020-10-03T00:07:40.740488",
     "exception": false,
     "start_time": "2020-10-03T00:07:40.687522",
     "status": "completed"
    },
    "tags": []
   },
   "outputs": [],
   "source": [
    "# layers for the Neural Network\n",
    "layers = [Affine(\"first\", 784, 100), Relu(\"first\"), Affine(\"second\", 100, 100), Relu(\"second\"), Affine(\"third\", 100, 2), Affine(\"final\", 2, 1), Sigmoid(\"final\")]\n",
    "model_nn = Model(layers)\n",
    "\n",
    "# layers for the Logistic Regression\n",
    "layers_lr = [Affine(\"logits\", 784, 1), Sigmoid(\"sigmoid\")]\n",
    "model_lr = Model(layers_lr)"
   ]
  },
  {
   "cell_type": "code",
   "execution_count": 19,
   "metadata": {
    "execution": {
     "iopub.execute_input": "2020-10-03T00:07:40.810939Z",
     "iopub.status.busy": "2020-10-03T00:07:40.810326Z",
     "iopub.status.idle": "2020-10-03T00:07:40.819653Z",
     "shell.execute_reply": "2020-10-03T00:07:40.819141Z"
    },
    "papermill": {
     "duration": 0.050483,
     "end_time": "2020-10-03T00:07:40.819781",
     "exception": false,
     "start_time": "2020-10-03T00:07:40.769298",
     "status": "completed"
    },
    "tags": []
   },
   "outputs": [],
   "source": [
    "# suffix _nn stands for Neural Network.\n",
    "learner_nn = Learner(loss, model_nn, opt, config.num_epochs)\n",
    "acc_nn = ClfCallback(learner_nn, config.bs, training_xdata , testing_xdata, training_ydata, testing_ydata)\n",
    "learner_nn.set_callbacks([acc_nn])"
   ]
  },
  {
   "cell_type": "code",
   "execution_count": 20,
   "metadata": {
    "execution": {
     "iopub.execute_input": "2020-10-03T00:07:40.881843Z",
     "iopub.status.busy": "2020-10-03T00:07:40.881241Z",
     "iopub.status.idle": "2020-10-03T00:09:06.830028Z",
     "shell.execute_reply": "2020-10-03T00:09:06.830828Z"
    },
    "papermill": {
     "duration": 85.982548,
     "end_time": "2020-10-03T00:09:06.830986",
     "exception": false,
     "start_time": "2020-10-03T00:07:40.848438",
     "status": "completed"
    },
    "tags": []
   },
   "outputs": [
    {
     "name": "stdout",
     "output_type": "stream",
     "text": [
      "====== Neural Network ======\n"
     ]
    },
    {
     "name": "stdout",
     "output_type": "stream",
     "text": [
      "Epoch 0, Loss 0.2469\n",
      "Training Accuracy: 0.5562, Testing Accuracy: 0.5474\n",
      "\n"
     ]
    },
    {
     "name": "stdout",
     "output_type": "stream",
     "text": [
      "Epoch 10, Loss 0.151\n",
      "Training Accuracy: 0.8753, Testing Accuracy: 0.8790\n",
      "\n"
     ]
    },
    {
     "name": "stdout",
     "output_type": "stream",
     "text": [
      "Epoch 20, Loss 0.0774\n",
      "Training Accuracy: 0.9244, Testing Accuracy: 0.9284\n",
      "\n"
     ]
    },
    {
     "name": "stdout",
     "output_type": "stream",
     "text": [
      "Epoch 30, Loss 0.0539\n",
      "Training Accuracy: 0.9428, Testing Accuracy: 0.9501\n",
      "\n"
     ]
    },
    {
     "name": "stdout",
     "output_type": "stream",
     "text": [
      "Epoch 40, Loss 0.0439\n",
      "Training Accuracy: 0.9509, Testing Accuracy: 0.9587\n",
      "\n"
     ]
    },
    {
     "name": "stdout",
     "output_type": "stream",
     "text": [
      "Epoch 50, Loss 0.0385\n",
      "Training Accuracy: 0.9563, Testing Accuracy: 0.9612\n",
      "\n"
     ]
    },
    {
     "name": "stdout",
     "output_type": "stream",
     "text": [
      "Epoch 60, Loss 0.0351\n",
      "Training Accuracy: 0.9600, Testing Accuracy: 0.9632\n",
      "\n"
     ]
    },
    {
     "name": "stdout",
     "output_type": "stream",
     "text": [
      "Epoch 70, Loss 0.0327\n",
      "Training Accuracy: 0.9613, Testing Accuracy: 0.9667\n",
      "\n"
     ]
    },
    {
     "name": "stdout",
     "output_type": "stream",
     "text": [
      "Epoch 80, Loss 0.0309\n",
      "Training Accuracy: 0.9630, Testing Accuracy: 0.9688\n",
      "\n"
     ]
    },
    {
     "name": "stdout",
     "output_type": "stream",
     "text": [
      "Epoch 90, Loss 0.0295\n",
      "Training Accuracy: 0.9641, Testing Accuracy: 0.9703\n",
      "\n"
     ]
    },
    {
     "name": "stdout",
     "output_type": "stream",
     "text": [
      "Epoch 100, Loss 0.0283\n",
      "Training Accuracy: 0.9652, Testing Accuracy: 0.9698\n",
      "\n"
     ]
    },
    {
     "name": "stdout",
     "output_type": "stream",
     "text": [
      "Epoch 110, Loss 0.0273\n",
      "Training Accuracy: 0.9665, Testing Accuracy: 0.9698\n",
      "\n"
     ]
    },
    {
     "name": "stdout",
     "output_type": "stream",
     "text": [
      "Epoch 120, Loss 0.0264\n",
      "Training Accuracy: 0.9680, Testing Accuracy: 0.9703\n",
      "\n"
     ]
    },
    {
     "name": "stdout",
     "output_type": "stream",
     "text": [
      "Epoch 130, Loss 0.0255\n",
      "Training Accuracy: 0.9695, Testing Accuracy: 0.9708\n",
      "\n"
     ]
    },
    {
     "name": "stdout",
     "output_type": "stream",
     "text": [
      "Epoch 140, Loss 0.0248\n",
      "Training Accuracy: 0.9700, Testing Accuracy: 0.9723\n",
      "\n"
     ]
    },
    {
     "name": "stdout",
     "output_type": "stream",
     "text": [
      "Epoch 150, Loss 0.0241\n",
      "Training Accuracy: 0.9710, Testing Accuracy: 0.9738\n",
      "\n"
     ]
    },
    {
     "name": "stdout",
     "output_type": "stream",
     "text": [
      "Epoch 160, Loss 0.0234\n",
      "Training Accuracy: 0.9718, Testing Accuracy: 0.9743\n",
      "\n"
     ]
    },
    {
     "name": "stdout",
     "output_type": "stream",
     "text": [
      "Epoch 170, Loss 0.0228\n",
      "Training Accuracy: 0.9722, Testing Accuracy: 0.9723\n",
      "\n"
     ]
    },
    {
     "name": "stdout",
     "output_type": "stream",
     "text": [
      "Epoch 180, Loss 0.0222\n",
      "Training Accuracy: 0.9733, Testing Accuracy: 0.9743\n",
      "\n"
     ]
    },
    {
     "name": "stdout",
     "output_type": "stream",
     "text": [
      "Epoch 190, Loss 0.0217\n",
      "Training Accuracy: 0.9736, Testing Accuracy: 0.9738\n",
      "\n"
     ]
    },
    {
     "name": "stdout",
     "output_type": "stream",
     "text": [
      "Epoch 200, Loss 0.0212\n",
      "Training Accuracy: 0.9745, Testing Accuracy: 0.9748\n",
      "\n"
     ]
    },
    {
     "name": "stdout",
     "output_type": "stream",
     "text": [
      "Epoch 210, Loss 0.0207\n",
      "Training Accuracy: 0.9755, Testing Accuracy: 0.9738\n",
      "\n"
     ]
    },
    {
     "name": "stdout",
     "output_type": "stream",
     "text": [
      "Epoch 220, Loss 0.0202\n",
      "Training Accuracy: 0.9762, Testing Accuracy: 0.9738\n",
      "\n"
     ]
    },
    {
     "name": "stdout",
     "output_type": "stream",
     "text": [
      "Epoch 230, Loss 0.0197\n",
      "Training Accuracy: 0.9766, Testing Accuracy: 0.9743\n",
      "\n"
     ]
    },
    {
     "name": "stdout",
     "output_type": "stream",
     "text": [
      "Epoch 240, Loss 0.0192\n",
      "Training Accuracy: 0.9775, Testing Accuracy: 0.9748\n",
      "\n"
     ]
    },
    {
     "name": "stdout",
     "output_type": "stream",
     "text": [
      "Epoch 250, Loss 0.0188\n",
      "Training Accuracy: 0.9781, Testing Accuracy: 0.9753\n",
      "\n"
     ]
    },
    {
     "data": {
      "text/plain": [
       "0.00784791634725659"
      ]
     },
     "execution_count": 20,
     "metadata": {},
     "output_type": "execute_result"
    }
   ],
   "source": [
    "print(\"====== Neural Network ======\")\n",
    "learner_nn.train_loop(dl)"
   ]
  },
  {
   "cell_type": "markdown",
   "metadata": {
    "papermill": {
     "duration": 0.03746,
     "end_time": "2020-10-03T00:09:06.906497",
     "exception": false,
     "start_time": "2020-10-03T00:09:06.869037",
     "status": "completed"
    },
    "tags": []
   },
   "source": [
    "### Logistic Regression based Implementation."
   ]
  },
  {
   "cell_type": "code",
   "execution_count": 21,
   "metadata": {
    "execution": {
     "iopub.execute_input": "2020-10-03T00:09:06.984664Z",
     "iopub.status.busy": "2020-10-03T00:09:06.984048Z",
     "iopub.status.idle": "2020-10-03T00:09:06.996997Z",
     "shell.execute_reply": "2020-10-03T00:09:06.996450Z"
    },
    "papermill": {
     "duration": 0.053816,
     "end_time": "2020-10-03T00:09:06.997126",
     "exception": false,
     "start_time": "2020-10-03T00:09:06.943310",
     "status": "completed"
    },
    "tags": []
   },
   "outputs": [],
   "source": [
    "learner_lr = Learner(loss, model_lr, opt, config.num_epochs)\n",
    "acc_lr = ClfCallback(learner_lr, config.bs, training_xdata , testing_xdata, training_ydata, testing_ydata)\n",
    "learner_lr.set_callbacks([acc_lr])"
   ]
  },
  {
   "cell_type": "code",
   "execution_count": 22,
   "metadata": {
    "execution": {
     "iopub.execute_input": "2020-10-03T00:09:07.075298Z",
     "iopub.status.busy": "2020-10-03T00:09:07.074696Z",
     "iopub.status.idle": "2020-10-03T00:09:24.565942Z",
     "shell.execute_reply": "2020-10-03T00:09:24.566734Z"
    },
    "papermill": {
     "duration": 17.532507,
     "end_time": "2020-10-03T00:09:24.566891",
     "exception": false,
     "start_time": "2020-10-03T00:09:07.034384",
     "status": "completed"
    },
    "tags": []
   },
   "outputs": [
    {
     "name": "stdout",
     "output_type": "stream",
     "text": [
      "====== Logistic Regression ======\n",
      "Epoch 0, Loss 0.2377\n",
      "Training Accuracy: 0.7031, Testing Accuracy: 0.7056\n",
      "\n"
     ]
    },
    {
     "name": "stdout",
     "output_type": "stream",
     "text": [
      "Epoch 10, Loss 0.1036\n",
      "Training Accuracy: 0.9076, Testing Accuracy: 0.9168\n",
      "\n"
     ]
    },
    {
     "name": "stdout",
     "output_type": "stream",
     "text": [
      "Epoch 20, Loss 0.0796\n",
      "Training Accuracy: 0.9277, Testing Accuracy: 0.9365\n",
      "\n"
     ]
    },
    {
     "name": "stdout",
     "output_type": "stream",
     "text": [
      "Epoch 30, Loss 0.0685\n",
      "Training Accuracy: 0.9374, Testing Accuracy: 0.9506\n",
      "\n"
     ]
    },
    {
     "name": "stdout",
     "output_type": "stream",
     "text": [
      "Epoch 40, Loss 0.0618\n",
      "Training Accuracy: 0.9424, Testing Accuracy: 0.9526\n",
      "\n"
     ]
    },
    {
     "name": "stdout",
     "output_type": "stream",
     "text": [
      "Epoch 50, Loss 0.0573\n",
      "Training Accuracy: 0.9457, Testing Accuracy: 0.9561\n",
      "\n"
     ]
    },
    {
     "name": "stdout",
     "output_type": "stream",
     "text": [
      "Epoch 60, Loss 0.0539\n",
      "Training Accuracy: 0.9479, Testing Accuracy: 0.9582\n",
      "\n"
     ]
    },
    {
     "name": "stdout",
     "output_type": "stream",
     "text": [
      "Epoch 70, Loss 0.0513\n",
      "Training Accuracy: 0.9497, Testing Accuracy: 0.9627\n",
      "\n"
     ]
    },
    {
     "name": "stdout",
     "output_type": "stream",
     "text": [
      "Epoch 80, Loss 0.0493\n",
      "Training Accuracy: 0.9513, Testing Accuracy: 0.9647\n",
      "\n"
     ]
    },
    {
     "name": "stdout",
     "output_type": "stream",
     "text": [
      "Epoch 90, Loss 0.0476\n",
      "Training Accuracy: 0.9528, Testing Accuracy: 0.9657\n",
      "\n"
     ]
    },
    {
     "name": "stdout",
     "output_type": "stream",
     "text": [
      "Epoch 100, Loss 0.0461\n",
      "Training Accuracy: 0.9538, Testing Accuracy: 0.9652\n",
      "\n"
     ]
    },
    {
     "name": "stdout",
     "output_type": "stream",
     "text": [
      "Epoch 110, Loss 0.0449\n",
      "Training Accuracy: 0.9542, Testing Accuracy: 0.9652\n",
      "\n"
     ]
    },
    {
     "name": "stdout",
     "output_type": "stream",
     "text": [
      "Epoch 120, Loss 0.0439\n",
      "Training Accuracy: 0.9558, Testing Accuracy: 0.9657\n",
      "\n"
     ]
    },
    {
     "name": "stdout",
     "output_type": "stream",
     "text": [
      "Epoch 130, Loss 0.0429\n",
      "Training Accuracy: 0.9567, Testing Accuracy: 0.9662\n",
      "\n"
     ]
    },
    {
     "name": "stdout",
     "output_type": "stream",
     "text": [
      "Epoch 140, Loss 0.0421\n",
      "Training Accuracy: 0.9572, Testing Accuracy: 0.9672\n",
      "\n"
     ]
    },
    {
     "name": "stdout",
     "output_type": "stream",
     "text": [
      "Epoch 150, Loss 0.0413\n",
      "Training Accuracy: 0.9578, Testing Accuracy: 0.9672\n",
      "\n"
     ]
    },
    {
     "name": "stdout",
     "output_type": "stream",
     "text": [
      "Epoch 160, Loss 0.0407\n",
      "Training Accuracy: 0.9579, Testing Accuracy: 0.9672\n",
      "\n"
     ]
    },
    {
     "name": "stdout",
     "output_type": "stream",
     "text": [
      "Epoch 170, Loss 0.0401\n",
      "Training Accuracy: 0.9581, Testing Accuracy: 0.9672\n",
      "\n"
     ]
    },
    {
     "name": "stdout",
     "output_type": "stream",
     "text": [
      "Epoch 180, Loss 0.0395\n",
      "Training Accuracy: 0.9584, Testing Accuracy: 0.9677\n",
      "\n"
     ]
    },
    {
     "name": "stdout",
     "output_type": "stream",
     "text": [
      "Epoch 190, Loss 0.039\n",
      "Training Accuracy: 0.9590, Testing Accuracy: 0.9682\n",
      "\n"
     ]
    },
    {
     "name": "stdout",
     "output_type": "stream",
     "text": [
      "Epoch 200, Loss 0.0385\n",
      "Training Accuracy: 0.9592, Testing Accuracy: 0.9682\n",
      "\n"
     ]
    },
    {
     "name": "stdout",
     "output_type": "stream",
     "text": [
      "Epoch 210, Loss 0.0381\n",
      "Training Accuracy: 0.9595, Testing Accuracy: 0.9688\n",
      "\n"
     ]
    },
    {
     "name": "stdout",
     "output_type": "stream",
     "text": [
      "Epoch 220, Loss 0.0377\n",
      "Training Accuracy: 0.9600, Testing Accuracy: 0.9688\n",
      "\n"
     ]
    },
    {
     "name": "stdout",
     "output_type": "stream",
     "text": [
      "Epoch 230, Loss 0.0373\n",
      "Training Accuracy: 0.9606, Testing Accuracy: 0.9688\n",
      "\n"
     ]
    },
    {
     "name": "stdout",
     "output_type": "stream",
     "text": [
      "Epoch 240, Loss 0.0369\n",
      "Training Accuracy: 0.9608, Testing Accuracy: 0.9698\n",
      "\n"
     ]
    },
    {
     "name": "stdout",
     "output_type": "stream",
     "text": [
      "Epoch 250, Loss 0.0366\n",
      "Training Accuracy: 0.9612, Testing Accuracy: 0.9703\n",
      "\n"
     ]
    },
    {
     "data": {
      "text/plain": [
       "0.04256962058357383"
      ]
     },
     "execution_count": 22,
     "metadata": {},
     "output_type": "execute_result"
    }
   ],
   "source": [
    "print(\"====== Logistic Regression ======\")\n",
    "learner_lr.train_loop(dl)"
   ]
  },
  {
   "cell_type": "markdown",
   "metadata": {
    "papermill": {
     "duration": 0.044039,
     "end_time": "2020-10-03T00:09:24.656402",
     "exception": false,
     "start_time": "2020-10-03T00:09:24.612363",
     "status": "completed"
    },
    "tags": []
   },
   "source": [
    "### Comparing results of NN and LR"
   ]
  },
  {
   "cell_type": "code",
   "execution_count": 23,
   "metadata": {
    "execution": {
     "iopub.execute_input": "2020-10-03T00:09:24.751549Z",
     "iopub.status.busy": "2020-10-03T00:09:24.750480Z",
     "iopub.status.idle": "2020-10-03T00:09:24.992469Z",
     "shell.execute_reply": "2020-10-03T00:09:24.992930Z"
    },
    "papermill": {
     "duration": 0.292692,
     "end_time": "2020-10-03T00:09:24.993088",
     "exception": false,
     "start_time": "2020-10-03T00:09:24.700396",
     "status": "completed"
    },
    "tags": []
   },
   "outputs": [
    {
     "data": {
      "text/plain": [
       "<matplotlib.legend.Legend at 0x7f8fa342f2b0>"
      ]
     },
     "execution_count": 23,
     "metadata": {},
     "output_type": "execute_result"
    },
    {
     "data": {
      "image/png": "[encoded data removed]",
      "text/plain": [
       "<Figure size 1080x720 with 1 Axes>"
      ]
     },
     "metadata": {
      "needs_background": "light"
     },
     "output_type": "display_data"
    }
   ],
   "source": [
    "plt.figure(figsize=(15,10))\n",
    "\n",
    "# Neural Network plots\n",
    "plt.plot(acc_nn.accuracies, 'r-', label = \"Training Accuracies - NN\")\n",
    "plt.plot(acc_nn.test_accuracies, 'g-', label = \"Testing Accuracies - NN\")\n",
    "\n",
    "# Logistic Regression plots\n",
    "plt.plot(acc_lr.accuracies, 'k-', label = \"Training Accuracies - LR\")\n",
    "plt.plot(acc_lr.test_accuracies, 'b-', label = \"Testing Accuracies - LR\")\n",
    "\n",
    "plt.ylim(0.8, 1)\n",
    "\n",
    "plt.legend()\n",
    "\n"
   ]
  },
  {
   "cell_type": "markdown",
   "metadata": {
    "papermill": {
     "duration": 0.04605,
     "end_time": "2020-10-03T00:09:25.087461",
     "exception": false,
     "start_time": "2020-10-03T00:09:25.041411",
     "status": "completed"
    },
    "tags": []
   },
   "source": [
    "### From the plot, we can observe the following:\n",
    "- Neural Network achieves higher accuracy than the Logistic Regression model.\n",
    "- This apparently, is because of overfitting, i.e. NN captures more noise than data.\n",
    "- Testing accuracy of NN drops below the Training accuracy at higher epochs. This explains the over-fitting on training data.\n",
    "- Logistic Regression gives a reliable accuracy, without the above mentioned problem.\n"
   ]
  },
  {
   "cell_type": "markdown",
   "metadata": {
    "papermill": {
     "duration": 0.046373,
     "end_time": "2020-10-03T00:09:25.179874",
     "exception": false,
     "start_time": "2020-10-03T00:09:25.133501",
     "status": "completed"
    },
    "tags": []
   },
   "source": [
    "### Moving till the last but one layer (excluding it).\n",
    "#### Plotting the outputs of this layer of the NN."
   ]
  },
  {
   "cell_type": "code",
   "execution_count": 24,
   "metadata": {
    "execution": {
     "iopub.execute_input": "2020-10-03T00:09:25.276284Z",
     "iopub.status.busy": "2020-10-03T00:09:25.275695Z",
     "iopub.status.idle": "2020-10-03T00:09:25.288073Z",
     "shell.execute_reply": "2020-10-03T00:09:25.288545Z"
    },
    "papermill": {
     "duration": 0.062703,
     "end_time": "2020-10-03T00:09:25.288693",
     "exception": false,
     "start_time": "2020-10-03T00:09:25.225990",
     "status": "completed"
    },
    "tags": []
   },
   "outputs": [],
   "source": [
    "model_new = Model(layers[:-2])"
   ]
  },
  {
   "cell_type": "code",
   "execution_count": 25,
   "metadata": {
    "execution": {
     "iopub.execute_input": "2020-10-03T00:09:25.386374Z",
     "iopub.status.busy": "2020-10-03T00:09:25.385767Z",
     "iopub.status.idle": "2020-10-03T00:09:25.406937Z",
     "shell.execute_reply": "2020-10-03T00:09:25.407752Z"
    },
    "papermill": {
     "duration": 0.072497,
     "end_time": "2020-10-03T00:09:25.407926",
     "exception": false,
     "start_time": "2020-10-03T00:09:25.335429",
     "status": "completed"
    },
    "tags": []
   },
   "outputs": [],
   "source": [
    "plot_testing = model_new(testing_xdata)"
   ]
  },
  {
   "cell_type": "code",
   "execution_count": 26,
   "metadata": {
    "execution": {
     "iopub.execute_input": "2020-10-03T00:09:25.511159Z",
     "iopub.status.busy": "2020-10-03T00:09:25.510550Z",
     "iopub.status.idle": "2020-10-03T00:09:25.722933Z",
     "shell.execute_reply": "2020-10-03T00:09:25.722417Z"
    },
    "papermill": {
     "duration": 0.268713,
     "end_time": "2020-10-03T00:09:25.723065",
     "exception": false,
     "start_time": "2020-10-03T00:09:25.454352",
     "status": "completed"
    },
    "tags": []
   },
   "outputs": [
    {
     "data": {
      "text/plain": [
       "Text(0.5, 1.0, 'Outputs')"
      ]
     },
     "execution_count": 26,
     "metadata": {},
     "output_type": "execute_result"
    },
    {
     "data": {
      "image/png": "[encoded data removed]",
      "text/plain": [
       "<Figure size 576x504 with 1 Axes>"
      ]
     },
     "metadata": {
      "needs_background": "light"
     },
     "output_type": "display_data"
    }
   ],
   "source": [
    "plt.figure(figsize=(8,7))\n",
    "plt.scatter(plot_testing[:,0], plot_testing[:,1], alpha = 0.1, c = y_test.ravel());\n",
    "plt.title('Outputs')"
   ]
  },
  {
   "cell_type": "markdown",
   "metadata": {
    "papermill": {
     "duration": 0.048526,
     "end_time": "2020-10-03T00:09:25.821012",
     "exception": false,
     "start_time": "2020-10-03T00:09:25.772486",
     "status": "completed"
    },
    "tags": []
   },
   "source": [
    "### Plotting probability contours"
   ]
  },
  {
   "cell_type": "code",
   "execution_count": 27,
   "metadata": {
    "execution": {
     "iopub.execute_input": "2020-10-03T00:09:25.924761Z",
     "iopub.status.busy": "2020-10-03T00:09:25.924168Z",
     "iopub.status.idle": "2020-10-03T00:09:25.937927Z",
     "shell.execute_reply": "2020-10-03T00:09:25.937410Z"
    },
    "papermill": {
     "duration": 0.068505,
     "end_time": "2020-10-03T00:09:25.938067",
     "exception": false,
     "start_time": "2020-10-03T00:09:25.869562",
     "status": "completed"
    },
    "tags": []
   },
   "outputs": [],
   "source": [
    "model_prob = Model(layers[-2:]) "
   ]
  },
  {
   "cell_type": "code",
   "execution_count": 28,
   "metadata": {
    "execution": {
     "iopub.execute_input": "2020-10-03T00:09:26.047823Z",
     "iopub.status.busy": "2020-10-03T00:09:26.047220Z",
     "iopub.status.idle": "2020-10-03T00:09:26.060727Z",
     "shell.execute_reply": "2020-10-03T00:09:26.061186Z"
    },
    "papermill": {
     "duration": 0.074577,
     "end_time": "2020-10-03T00:09:26.061345",
     "exception": false,
     "start_time": "2020-10-03T00:09:25.986768",
     "status": "completed"
    },
    "tags": []
   },
   "outputs": [],
   "source": [
    "# Adjust the x and y ranges according to the above generated plot.\n",
    "x_range = np.linspace(-4, 1, 100) \n",
    "y_range = np.linspace(-6, 6, 100) \n",
    "x_grid, y_grid = np.meshgrid(x_range, y_range) # x_grid and y_grig are of size 100 X 100\n",
    "\n",
    "# converting x_grid and y_grid to continuous arrays\n",
    "x_grid_flat = np.ravel(x_grid)\n",
    "y_grid_flat = np.ravel(y_grid)\n",
    "\n",
    "# The last layer of the current model takes two columns as input. Hence transpose of np.vstack() is required.\n",
    "X = np.vstack((x_grid_flat, y_grid_flat)).T\n",
    "\n",
    "# x_grid and y_grid are of size 100 x 100\n",
    "probability_contour = model_prob(X).reshape(100,100) "
   ]
  },
  {
   "cell_type": "code",
   "execution_count": 29,
   "metadata": {
    "execution": {
     "iopub.execute_input": "2020-10-03T00:09:26.172662Z",
     "iopub.status.busy": "2020-10-03T00:09:26.172050Z",
     "iopub.status.idle": "2020-10-03T00:09:26.433134Z",
     "shell.execute_reply": "2020-10-03T00:09:26.433638Z"
    },
    "papermill": {
     "duration": 0.31892,
     "end_time": "2020-10-03T00:09:26.433801",
     "exception": false,
     "start_time": "2020-10-03T00:09:26.114881",
     "status": "completed"
    },
    "tags": []
   },
   "outputs": [
    {
     "data": {
      "image/png": "[encoded data removed]",
      "text/plain": [
       "<Figure size 720x648 with 1 Axes>"
      ]
     },
     "metadata": {
      "needs_background": "light"
     },
     "output_type": "display_data"
    }
   ],
   "source": [
    "plt.figure(figsize=(10,9))\n",
    "plt.scatter(plot_testing[:,0], plot_testing[:,1], alpha = 0.1, c = y_test.ravel())\n",
    "contours = plt.contour(x_grid,y_grid,probability_contour)\n",
    "plt.title('Probability Contours')\n",
    "plt.clabel(contours, inline = True );"
   ]
  }
 ],
 "metadata": {
  "kernelspec": {
   "display_name": "Python 3",
   "language": "python",
   "name": "python3"
  },
  "language_info": {
   "codemirror_mode": {
    "name": "ipython",
    "version": 3
   },
   "file_extension": ".py",
   "mimetype": "text/x-python",
   "name": "python",
   "nbconvert_exporter": "python",
   "pygments_lexer": "ipython3",
   "version": "3.6.12"
  },
  "papermill": {
   "duration": 114.352265,
   "end_time": "2020-10-03T00:09:26.895285",
   "environment_variables": {},
   "exception": null,
   "input_path": "2020-08-11-NeuralNetwork.ipynb",
   "output_path": "2020-08-11-NeuralNetwork.ipynb",
   "parameters": {},
   "start_time": "2020-10-03T00:07:32.543020",
   "version": "2.1.2"
  }
 },
 "nbformat": 4,
 "nbformat_minor": 4
}