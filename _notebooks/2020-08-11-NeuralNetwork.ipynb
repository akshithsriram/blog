{
 "cells": [
  {
   "cell_type": "markdown",
   "metadata": {
    "papermill": {
     "duration": 0.031039,
     "end_time": "2020-12-12T10:04:39.288590",
     "exception": false,
     "start_time": "2020-12-12T10:04:39.257551",
     "status": "completed"
    },
    "tags": []
   },
   "source": [
    "# \"A Basic Neural Network: Differentiate Hand-Written Digits\"\n",
    "\n",
    "- badges: true\n",
    "- author: Akshith Sriram"
   ]
  },
  {
   "cell_type": "markdown",
   "metadata": {
    "papermill": {
     "duration": 0.024955,
     "end_time": "2020-12-12T10:04:39.339429",
     "exception": false,
     "start_time": "2020-12-12T10:04:39.314474",
     "status": "completed"
    },
    "tags": []
   },
   "source": [
    "### Key Objectives:\n",
    "- Building a neural network that differentiates two hand-written digits 3 and 8.\n",
    "- Comparing the results of this Neural Network (NN) to that of a Logistic Regression (LR) model.\n",
    "\n",
    "### Requirements:\n",
    "- 'Kudzu' : A neural network library that was designed during our course by [Univ.AI](www.univ.ai). \n",
    "- MNIST Database\n",
    "\n",
    "If MNIST is not installed, use the command `!pip install mnist` given below.\n",
    "It can be run both from the command line and Jupyter Notebook."
   ]
  },
  {
   "cell_type": "code",
   "execution_count": 1,
   "metadata": {
    "execution": {
     "iopub.execute_input": "2020-12-12T10:04:39.400336Z",
     "iopub.status.busy": "2020-12-12T10:04:39.399734Z",
     "iopub.status.idle": "2020-12-12T10:04:41.785807Z",
     "shell.execute_reply": "2020-12-12T10:04:41.786384Z"
    },
    "papermill": {
     "duration": 2.422208,
     "end_time": "2020-12-12T10:04:41.786603",
     "exception": false,
     "start_time": "2020-12-12T10:04:39.364395",
     "status": "completed"
    },
    "tags": []
   },
   "outputs": [
    {
     "name": "stdout",
     "output_type": "stream",
     "text": [
      "Collecting mnist\r\n"
     ]
    },
    {
     "name": "stdout",
     "output_type": "stream",
     "text": [
      "  Downloading mnist-0.2.2-py2.py3-none-any.whl (3.5 kB)\r\n",
      "Requirement already satisfied: numpy in /opt/hostedtoolcache/Python/3.6.12/x64/lib/python3.6/site-packages (from mnist) (1.19.4)\r\n"
     ]
    },
    {
     "name": "stdout",
     "output_type": "stream",
     "text": [
      "Installing collected packages: mnist\r\n"
     ]
    },
    {
     "name": "stdout",
     "output_type": "stream",
     "text": [
      "Successfully installed mnist-0.2.2\r\n"
     ]
    },
    {
     "name": "stdout",
     "output_type": "stream",
     "text": [
      "\u001b[33mWARNING: You are using pip version 20.2.4; however, version 20.3.1 is available.\r\n",
      "You should consider upgrading via the '/opt/hostedtoolcache/Python/3.6.12/x64/bin/python -m pip install --upgrade pip' command.\u001b[0m\r\n"
     ]
    }
   ],
   "source": [
    "!pip install mnist "
   ]
  },
  {
   "cell_type": "markdown",
   "metadata": {
    "papermill": {
     "duration": 0.02614,
     "end_time": "2020-12-12T10:04:41.840271",
     "exception": false,
     "start_time": "2020-12-12T10:04:41.814131",
     "status": "completed"
    },
    "tags": []
   },
   "source": [
    "#### Importing necessary libraries"
   ]
  },
  {
   "cell_type": "code",
   "execution_count": 2,
   "metadata": {
    "execution": {
     "iopub.execute_input": "2020-12-12T10:04:41.901906Z",
     "iopub.status.busy": "2020-12-12T10:04:41.901277Z",
     "iopub.status.idle": "2020-12-12T10:04:42.562779Z",
     "shell.execute_reply": "2020-12-12T10:04:42.562119Z"
    },
    "papermill": {
     "duration": 0.695576,
     "end_time": "2020-12-12T10:04:42.562941",
     "exception": false,
     "start_time": "2020-12-12T10:04:41.867365",
     "status": "completed"
    },
    "tags": []
   },
   "outputs": [],
   "source": [
    "%load_ext autoreload\n",
    "%autoreload 2\n",
    "\n",
    "%matplotlib inline\n",
    "import matplotlib.pyplot as plt\n",
    "\n",
    "import numpy as np\n",
    "import pandas as pd"
   ]
  },
  {
   "cell_type": "markdown",
   "metadata": {
    "papermill": {
     "duration": 0.026807,
     "end_time": "2020-12-12T10:04:42.616247",
     "exception": false,
     "start_time": "2020-12-12T10:04:42.589440",
     "status": "completed"
    },
    "tags": []
   },
   "source": [
    "### Preparing the Data"
   ]
  },
  {
   "cell_type": "code",
   "execution_count": 3,
   "metadata": {
    "execution": {
     "iopub.execute_input": "2020-12-12T10:04:42.672923Z",
     "iopub.status.busy": "2020-12-12T10:04:42.672316Z",
     "iopub.status.idle": "2020-12-12T10:04:42.685054Z",
     "shell.execute_reply": "2020-12-12T10:04:42.685646Z"
    },
    "papermill": {
     "duration": 0.043257,
     "end_time": "2020-12-12T10:04:42.685796",
     "exception": false,
     "start_time": "2020-12-12T10:04:42.642539",
     "status": "completed"
    },
    "tags": []
   },
   "outputs": [],
   "source": [
    "import mnist"
   ]
  },
  {
   "cell_type": "code",
   "execution_count": 4,
   "metadata": {
    "execution": {
     "iopub.execute_input": "2020-12-12T10:04:42.742750Z",
     "iopub.status.busy": "2020-12-12T10:04:42.742200Z",
     "iopub.status.idle": "2020-12-12T10:04:44.476651Z",
     "shell.execute_reply": "2020-12-12T10:04:44.476123Z"
    },
    "papermill": {
     "duration": 1.764647,
     "end_time": "2020-12-12T10:04:44.476796",
     "exception": false,
     "start_time": "2020-12-12T10:04:42.712149",
     "status": "completed"
    },
    "tags": []
   },
   "outputs": [],
   "source": [
    "train_images = mnist.train_images()\n",
    "train_labels = mnist.train_labels()"
   ]
  },
  {
   "cell_type": "code",
   "execution_count": 5,
   "metadata": {
    "execution": {
     "iopub.execute_input": "2020-12-12T10:04:44.544074Z",
     "iopub.status.busy": "2020-12-12T10:04:44.543282Z",
     "iopub.status.idle": "2020-12-12T10:04:44.556976Z",
     "shell.execute_reply": "2020-12-12T10:04:44.557521Z"
    },
    "papermill": {
     "duration": 0.051188,
     "end_time": "2020-12-12T10:04:44.557724",
     "exception": false,
     "start_time": "2020-12-12T10:04:44.506536",
     "status": "completed"
    },
    "tags": []
   },
   "outputs": [
    {
     "data": {
      "text/plain": [
       "((60000, 28, 28), (60000,))"
      ]
     },
     "execution_count": 5,
     "metadata": {},
     "output_type": "execute_result"
    }
   ],
   "source": [
    "train_images.shape, train_labels.shape"
   ]
  },
  {
   "cell_type": "code",
   "execution_count": 6,
   "metadata": {
    "execution": {
     "iopub.execute_input": "2020-12-12T10:04:44.622809Z",
     "iopub.status.busy": "2020-12-12T10:04:44.622229Z",
     "iopub.status.idle": "2020-12-12T10:04:45.477985Z",
     "shell.execute_reply": "2020-12-12T10:04:45.478409Z"
    },
    "papermill": {
     "duration": 0.888421,
     "end_time": "2020-12-12T10:04:45.478546",
     "exception": false,
     "start_time": "2020-12-12T10:04:44.590125",
     "status": "completed"
    },
    "tags": []
   },
   "outputs": [],
   "source": [
    "test_images = mnist.test_images()\n",
    "test_labels = mnist.test_labels()"
   ]
  },
  {
   "cell_type": "code",
   "execution_count": 7,
   "metadata": {
    "execution": {
     "iopub.execute_input": "2020-12-12T10:04:45.541541Z",
     "iopub.status.busy": "2020-12-12T10:04:45.540794Z",
     "iopub.status.idle": "2020-12-12T10:04:45.555293Z",
     "shell.execute_reply": "2020-12-12T10:04:45.555877Z"
    },
    "papermill": {
     "duration": 0.046911,
     "end_time": "2020-12-12T10:04:45.556030",
     "exception": false,
     "start_time": "2020-12-12T10:04:45.509119",
     "status": "completed"
    },
    "tags": []
   },
   "outputs": [
    {
     "data": {
      "text/plain": [
       "((10000, 28, 28), (10000,))"
      ]
     },
     "execution_count": 7,
     "metadata": {},
     "output_type": "execute_result"
    }
   ],
   "source": [
    "test_images.shape, test_labels.shape"
   ]
  },
  {
   "cell_type": "code",
   "execution_count": 8,
   "metadata": {
    "execution": {
     "iopub.execute_input": "2020-12-12T10:04:45.619247Z",
     "iopub.status.busy": "2020-12-12T10:04:45.618652Z",
     "iopub.status.idle": "2020-12-12T10:04:45.765175Z",
     "shell.execute_reply": "2020-12-12T10:04:45.766609Z"
    },
    "papermill": {
     "duration": 0.181769,
     "end_time": "2020-12-12T10:04:45.767033",
     "exception": false,
     "start_time": "2020-12-12T10:04:45.585264",
     "status": "completed"
    },
    "tags": []
   },
   "outputs": [
    {
     "name": "stdout",
     "output_type": "stream",
     "text": [
      "2\n"
     ]
    },
    {
     "data": {
      "text/plain": [
       "<matplotlib.image.AxesImage at 0x7f8f810bf278>"
      ]
     },
     "execution_count": 8,
     "metadata": {},
     "output_type": "execute_result"
    },
    {
     "data": {
      "image/png": "[encoded data removed]",
      "text/plain": [
       "<Figure size 432x288 with 1 Axes>"
      ]
     },
     "metadata": {
      "needs_background": "light"
     },
     "output_type": "display_data"
    }
   ],
   "source": [
    "image_index = 7776 # You may select anything up to 60,000\n",
    "print(train_labels[image_index]) \n",
    "plt.imshow(train_images[image_index], cmap='Greys')"
   ]
  },
  {
   "cell_type": "markdown",
   "metadata": {
    "papermill": {
     "duration": 0.034572,
     "end_time": "2020-12-12T10:04:45.831881",
     "exception": false,
     "start_time": "2020-12-12T10:04:45.797309",
     "status": "completed"
    },
    "tags": []
   },
   "source": [
    "## Filter data to get 3 and 8 out"
   ]
  },
  {
   "cell_type": "code",
   "execution_count": 9,
   "metadata": {
    "execution": {
     "iopub.execute_input": "2020-12-12T10:04:45.903540Z",
     "iopub.status.busy": "2020-12-12T10:04:45.902943Z",
     "iopub.status.idle": "2020-12-12T10:04:45.920040Z",
     "shell.execute_reply": "2020-12-12T10:04:45.919500Z"
    },
    "papermill": {
     "duration": 0.057486,
     "end_time": "2020-12-12T10:04:45.920184",
     "exception": false,
     "start_time": "2020-12-12T10:04:45.862698",
     "status": "completed"
    },
    "tags": []
   },
   "outputs": [],
   "source": [
    "train_filter = np.where((train_labels == 3 ) | (train_labels == 8))\n",
    "test_filter = np.where((test_labels == 3) | (test_labels == 8))\n",
    "X_train, y_train = train_images[train_filter], train_labels[train_filter]\n",
    "X_test, y_test = test_images[test_filter], test_labels[test_filter]"
   ]
  },
  {
   "cell_type": "markdown",
   "metadata": {
    "papermill": {
     "duration": 0.030071,
     "end_time": "2020-12-12T10:04:45.982725",
     "exception": false,
     "start_time": "2020-12-12T10:04:45.952654",
     "status": "completed"
    },
    "tags": []
   },
   "source": [
    "We normalize the pixel values in the 0 to 1 range"
   ]
  },
  {
   "cell_type": "code",
   "execution_count": 10,
   "metadata": {
    "execution": {
     "iopub.execute_input": "2020-12-12T10:04:46.046197Z",
     "iopub.status.busy": "2020-12-12T10:04:46.045572Z",
     "iopub.status.idle": "2020-12-12T10:04:46.096803Z",
     "shell.execute_reply": "2020-12-12T10:04:46.096269Z"
    },
    "papermill": {
     "duration": 0.085108,
     "end_time": "2020-12-12T10:04:46.096947",
     "exception": false,
     "start_time": "2020-12-12T10:04:46.011839",
     "status": "completed"
    },
    "tags": []
   },
   "outputs": [],
   "source": [
    "X_train = X_train/255.\n",
    "X_test = X_test/255."
   ]
  },
  {
   "cell_type": "markdown",
   "metadata": {
    "papermill": {
     "duration": 0.03191,
     "end_time": "2020-12-12T10:04:46.159834",
     "exception": false,
     "start_time": "2020-12-12T10:04:46.127924",
     "status": "completed"
    },
    "tags": []
   },
   "source": [
    "Setup the labels as 1 (when the digit is 3) and 0 (when the digit is 8)"
   ]
  },
  {
   "cell_type": "code",
   "execution_count": 11,
   "metadata": {
    "execution": {
     "iopub.execute_input": "2020-12-12T10:04:46.236560Z",
     "iopub.status.busy": "2020-12-12T10:04:46.235910Z",
     "iopub.status.idle": "2020-12-12T10:04:46.251109Z",
     "shell.execute_reply": "2020-12-12T10:04:46.250498Z"
    },
    "papermill": {
     "duration": 0.053263,
     "end_time": "2020-12-12T10:04:46.251240",
     "exception": false,
     "start_time": "2020-12-12T10:04:46.197977",
     "status": "completed"
    },
    "tags": []
   },
   "outputs": [],
   "source": [
    "y_train = 1*(y_train==3)\n",
    "y_test = 1*(y_test==3)"
   ]
  },
  {
   "cell_type": "code",
   "execution_count": 12,
   "metadata": {
    "execution": {
     "iopub.execute_input": "2020-12-12T10:04:46.318949Z",
     "iopub.status.busy": "2020-12-12T10:04:46.318399Z",
     "iopub.status.idle": "2020-12-12T10:04:46.333619Z",
     "shell.execute_reply": "2020-12-12T10:04:46.333079Z"
    },
    "papermill": {
     "duration": 0.048123,
     "end_time": "2020-12-12T10:04:46.333766",
     "exception": false,
     "start_time": "2020-12-12T10:04:46.285643",
     "status": "completed"
    },
    "tags": []
   },
   "outputs": [
    {
     "data": {
      "text/plain": [
       "((11982, 28, 28), (1984, 28, 28))"
      ]
     },
     "execution_count": 12,
     "metadata": {},
     "output_type": "execute_result"
    }
   ],
   "source": [
    "X_train.shape, X_test.shape"
   ]
  },
  {
   "cell_type": "markdown",
   "metadata": {
    "papermill": {
     "duration": 0.033144,
     "end_time": "2020-12-12T10:04:46.395621",
     "exception": false,
     "start_time": "2020-12-12T10:04:46.362477",
     "status": "completed"
    },
    "tags": []
   },
   "source": [
    "### Reshape the input data to create a linear array"
   ]
  },
  {
   "cell_type": "code",
   "execution_count": 13,
   "metadata": {
    "execution": {
     "iopub.execute_input": "2020-12-12T10:04:46.468161Z",
     "iopub.status.busy": "2020-12-12T10:04:46.467510Z",
     "iopub.status.idle": "2020-12-12T10:04:46.482859Z",
     "shell.execute_reply": "2020-12-12T10:04:46.482225Z"
    },
    "papermill": {
     "duration": 0.055028,
     "end_time": "2020-12-12T10:04:46.483040",
     "exception": false,
     "start_time": "2020-12-12T10:04:46.428012",
     "status": "completed"
    },
    "tags": []
   },
   "outputs": [
    {
     "data": {
      "text/plain": [
       "((11982, 784), (1984, 784))"
      ]
     },
     "execution_count": 13,
     "metadata": {},
     "output_type": "execute_result"
    }
   ],
   "source": [
    "X_train = X_train.reshape(X_train.shape[0], -1)\n",
    "X_test = X_test.reshape(X_test.shape[0], -1)\n",
    "X_train.shape, X_test.shape"
   ]
  },
  {
   "cell_type": "markdown",
   "metadata": {
    "papermill": {
     "duration": 0.034758,
     "end_time": "2020-12-12T10:04:46.551305",
     "exception": false,
     "start_time": "2020-12-12T10:04:46.516547",
     "status": "completed"
    },
    "tags": []
   },
   "source": [
    "### Importing appropriate functions from 'Kudzu'"
   ]
  },
  {
   "cell_type": "code",
   "execution_count": 14,
   "metadata": {
    "execution": {
     "iopub.execute_input": "2020-12-12T10:04:46.623525Z",
     "iopub.status.busy": "2020-12-12T10:04:46.622896Z",
     "iopub.status.idle": "2020-12-12T10:04:46.647249Z",
     "shell.execute_reply": "2020-12-12T10:04:46.648182Z"
    },
    "papermill": {
     "duration": 0.063116,
     "end_time": "2020-12-12T10:04:46.648364",
     "exception": false,
     "start_time": "2020-12-12T10:04:46.585248",
     "status": "completed"
    },
    "tags": []
   },
   "outputs": [],
   "source": [
    "from kudzu.layer import Sigmoid\n",
    "from kudzu.layer import Relu\n",
    "from kudzu.layer import Affine, Sigmoid\n",
    "\n",
    "from kudzu.model import Model\n",
    "from kudzu.train import Learner\n",
    "from kudzu.optim import GD\n",
    "from kudzu.data import Data, Dataloader, Sampler\n",
    "\n",
    "from kudzu.callbacks import AccCallback\n",
    "from kudzu.callbacks import ClfCallback\n",
    "\n",
    "from kudzu.loss import MSE"
   ]
  },
  {
   "cell_type": "markdown",
   "metadata": {
    "papermill": {
     "duration": 0.031241,
     "end_time": "2020-12-12T10:04:46.711307",
     "exception": false,
     "start_time": "2020-12-12T10:04:46.680066",
     "status": "completed"
    },
    "tags": []
   },
   "source": [
    "### Let us create a `Config` class, to store important parameters. \n",
    "This class essentially plays the role of a dictionary."
   ]
  },
  {
   "cell_type": "code",
   "execution_count": 15,
   "metadata": {
    "execution": {
     "iopub.execute_input": "2020-12-12T10:04:46.795114Z",
     "iopub.status.busy": "2020-12-12T10:04:46.785995Z",
     "iopub.status.idle": "2020-12-12T10:04:46.798158Z",
     "shell.execute_reply": "2020-12-12T10:04:46.797672Z"
    },
    "papermill": {
     "duration": 0.05143,
     "end_time": "2020-12-12T10:04:46.798293",
     "exception": false,
     "start_time": "2020-12-12T10:04:46.746863",
     "status": "completed"
    },
    "tags": []
   },
   "outputs": [],
   "source": [
    "class Config:\n",
    "    pass\n",
    "config = Config()\n",
    "config.lr = 0.001\n",
    "config.num_epochs = 251\n",
    "config.bs = 50"
   ]
  },
  {
   "cell_type": "markdown",
   "metadata": {
    "papermill": {
     "duration": 0.029784,
     "end_time": "2020-12-12T10:04:46.859280",
     "exception": false,
     "start_time": "2020-12-12T10:04:46.829496",
     "status": "completed"
    },
    "tags": []
   },
   "source": [
    "### Initializing data to the variables"
   ]
  },
  {
   "cell_type": "code",
   "execution_count": 16,
   "metadata": {
    "execution": {
     "iopub.execute_input": "2020-12-12T10:04:46.925960Z",
     "iopub.status.busy": "2020-12-12T10:04:46.925290Z",
     "iopub.status.idle": "2020-12-12T10:04:46.938549Z",
     "shell.execute_reply": "2020-12-12T10:04:46.939048Z"
    },
    "papermill": {
     "duration": 0.049634,
     "end_time": "2020-12-12T10:04:46.939211",
     "exception": false,
     "start_time": "2020-12-12T10:04:46.889577",
     "status": "completed"
    },
    "tags": []
   },
   "outputs": [],
   "source": [
    "data = Data(X_train, y_train.reshape(-1,1))\n",
    "sampler = Sampler(data, config.bs, shuffle=True)\n",
    "\n",
    "dl = Dataloader(data, sampler)\n",
    "\n",
    "opt = GD(config.lr)\n",
    "loss = MSE()"
   ]
  },
  {
   "cell_type": "code",
   "execution_count": 17,
   "metadata": {
    "execution": {
     "iopub.execute_input": "2020-12-12T10:04:47.005732Z",
     "iopub.status.busy": "2020-12-12T10:04:47.005088Z",
     "iopub.status.idle": "2020-12-12T10:04:47.018584Z",
     "shell.execute_reply": "2020-12-12T10:04:47.019071Z"
    },
    "papermill": {
     "duration": 0.049171,
     "end_time": "2020-12-12T10:04:47.019221",
     "exception": false,
     "start_time": "2020-12-12T10:04:46.970050",
     "status": "completed"
    },
    "tags": []
   },
   "outputs": [],
   "source": [
    "training_xdata = X_train\n",
    "testing_xdata = X_test\n",
    "training_ydata = y_train.reshape(-1,1)\n",
    "testing_ydata = y_test.reshape(-1,1)"
   ]
  },
  {
   "cell_type": "markdown",
   "metadata": {
    "papermill": {
     "duration": 0.029839,
     "end_time": "2020-12-12T10:04:47.085595",
     "exception": false,
     "start_time": "2020-12-12T10:04:47.055756",
     "status": "completed"
    },
    "tags": []
   },
   "source": [
    "### Running Models with the Training data\n",
    "Details about the network layers:\n",
    "- A first affine layer has 784 inputs and does 100 affine transforms. These are followed by a Relu\n",
    "- A second affine layer has 100 inputs from the 100 activations of the past layer, and does 100 affine transforms. These are followed by a Relu\n",
    "- A third affine layer has 100 activations and does 2 affine transformations to create an embedding for visualization. There is no non-linearity here.\n",
    "- A final \"logistic regression\" which has an affine transform from 2 inputs to 1 output, which is squeezed through a sigmoid.\n",
    "\n",
    "Help taken from Anshuman's Notebook."
   ]
  },
  {
   "cell_type": "code",
   "execution_count": 18,
   "metadata": {
    "execution": {
     "iopub.execute_input": "2020-12-12T10:04:47.152074Z",
     "iopub.status.busy": "2020-12-12T10:04:47.151399Z",
     "iopub.status.idle": "2020-12-12T10:04:47.170451Z",
     "shell.execute_reply": "2020-12-12T10:04:47.169791Z"
    },
    "papermill": {
     "duration": 0.054606,
     "end_time": "2020-12-12T10:04:47.170593",
     "exception": false,
     "start_time": "2020-12-12T10:04:47.115987",
     "status": "completed"
    },
    "tags": []
   },
   "outputs": [],
   "source": [
    "# layers for the Neural Network\n",
    "layers = [Affine(\"first\", 784, 100), Relu(\"first\"), Affine(\"second\", 100, 100), Relu(\"second\"), Affine(\"third\", 100, 2), Affine(\"final\", 2, 1), Sigmoid(\"final\")]\n",
    "model_nn = Model(layers)\n",
    "\n",
    "# layers for the Logistic Regression\n",
    "layers_lr = [Affine(\"logits\", 784, 1), Sigmoid(\"sigmoid\")]\n",
    "model_lr = Model(layers_lr)"
   ]
  },
  {
   "cell_type": "code",
   "execution_count": 19,
   "metadata": {
    "execution": {
     "iopub.execute_input": "2020-12-12T10:04:47.237306Z",
     "iopub.status.busy": "2020-12-12T10:04:47.236702Z",
     "iopub.status.idle": "2020-12-12T10:04:47.252827Z",
     "shell.execute_reply": "2020-12-12T10:04:47.252257Z"
    },
    "papermill": {
     "duration": 0.052147,
     "end_time": "2020-12-12T10:04:47.252971",
     "exception": false,
     "start_time": "2020-12-12T10:04:47.200824",
     "status": "completed"
    },
    "tags": []
   },
   "outputs": [],
   "source": [
    "# suffix _nn stands for Neural Network.\n",
    "learner_nn = Learner(loss, model_nn, opt, config.num_epochs)\n",
    "acc_nn = ClfCallback(learner_nn, config.bs, training_xdata , testing_xdata, training_ydata, testing_ydata)\n",
    "learner_nn.set_callbacks([acc_nn])"
   ]
  },
  {
   "cell_type": "code",
   "execution_count": 20,
   "metadata": {
    "execution": {
     "iopub.execute_input": "2020-12-12T10:04:47.318022Z",
     "iopub.status.busy": "2020-12-12T10:04:47.317417Z",
     "iopub.status.idle": "2020-12-12T10:06:13.606709Z",
     "shell.execute_reply": "2020-12-12T10:06:13.607523Z"
    },
    "papermill": {
     "duration": 86.322458,
     "end_time": "2020-12-12T10:06:13.607684",
     "exception": false,
     "start_time": "2020-12-12T10:04:47.285226",
     "status": "completed"
    },
    "tags": []
   },
   "outputs": [
    {
     "name": "stdout",
     "output_type": "stream",
     "text": [
      "====== Neural Network ======\n"
     ]
    },
    {
     "name": "stdout",
     "output_type": "stream",
     "text": [
      "Epoch 0, Loss 0.2513\n",
      "Training Accuracy: 0.4451, Testing Accuracy: 0.4274\n",
      "\n"
     ]
    },
    {
     "name": "stdout",
     "output_type": "stream",
     "text": [
      "Epoch 10, Loss 0.2425\n",
      "Training Accuracy: 0.7798, Testing Accuracy: 0.7777\n",
      "\n"
     ]
    },
    {
     "name": "stdout",
     "output_type": "stream",
     "text": [
      "Epoch 20, Loss 0.2058\n",
      "Training Accuracy: 0.8815, Testing Accuracy: 0.8982\n",
      "\n"
     ]
    },
    {
     "name": "stdout",
     "output_type": "stream",
     "text": [
      "Epoch 30, Loss 0.1024\n",
      "Training Accuracy: 0.9147, Testing Accuracy: 0.9279\n",
      "\n"
     ]
    },
    {
     "name": "stdout",
     "output_type": "stream",
     "text": [
      "Epoch 40, Loss 0.0621\n",
      "Training Accuracy: 0.9357, Testing Accuracy: 0.9481\n",
      "\n"
     ]
    },
    {
     "name": "stdout",
     "output_type": "stream",
     "text": [
      "Epoch 50, Loss 0.048\n",
      "Training Accuracy: 0.9482, Testing Accuracy: 0.9536\n",
      "\n"
     ]
    },
    {
     "name": "stdout",
     "output_type": "stream",
     "text": [
      "Epoch 60, Loss 0.0411\n",
      "Training Accuracy: 0.9535, Testing Accuracy: 0.9587\n",
      "\n"
     ]
    },
    {
     "name": "stdout",
     "output_type": "stream",
     "text": [
      "Epoch 70, Loss 0.037\n",
      "Training Accuracy: 0.9569, Testing Accuracy: 0.9652\n",
      "\n"
     ]
    },
    {
     "name": "stdout",
     "output_type": "stream",
     "text": [
      "Epoch 80, Loss 0.0342\n",
      "Training Accuracy: 0.9601, Testing Accuracy: 0.9672\n",
      "\n"
     ]
    },
    {
     "name": "stdout",
     "output_type": "stream",
     "text": [
      "Epoch 90, Loss 0.0323\n",
      "Training Accuracy: 0.9618, Testing Accuracy: 0.9677\n",
      "\n"
     ]
    },
    {
     "name": "stdout",
     "output_type": "stream",
     "text": [
      "Epoch 100, Loss 0.0308\n",
      "Training Accuracy: 0.9634, Testing Accuracy: 0.9677\n",
      "\n"
     ]
    },
    {
     "name": "stdout",
     "output_type": "stream",
     "text": [
      "Epoch 110, Loss 0.0296\n",
      "Training Accuracy: 0.9648, Testing Accuracy: 0.9677\n",
      "\n"
     ]
    },
    {
     "name": "stdout",
     "output_type": "stream",
     "text": [
      "Epoch 120, Loss 0.0286\n",
      "Training Accuracy: 0.9656, Testing Accuracy: 0.9698\n",
      "\n"
     ]
    },
    {
     "name": "stdout",
     "output_type": "stream",
     "text": [
      "Epoch 130, Loss 0.0278\n",
      "Training Accuracy: 0.9671, Testing Accuracy: 0.9693\n",
      "\n"
     ]
    },
    {
     "name": "stdout",
     "output_type": "stream",
     "text": [
      "Epoch 140, Loss 0.027\n",
      "Training Accuracy: 0.9681, Testing Accuracy: 0.9688\n",
      "\n"
     ]
    },
    {
     "name": "stdout",
     "output_type": "stream",
     "text": [
      "Epoch 150, Loss 0.0264\n",
      "Training Accuracy: 0.9690, Testing Accuracy: 0.9682\n",
      "\n"
     ]
    },
    {
     "name": "stdout",
     "output_type": "stream",
     "text": [
      "Epoch 160, Loss 0.0258\n",
      "Training Accuracy: 0.9699, Testing Accuracy: 0.9688\n",
      "\n"
     ]
    },
    {
     "name": "stdout",
     "output_type": "stream",
     "text": [
      "Epoch 170, Loss 0.0252\n",
      "Training Accuracy: 0.9705, Testing Accuracy: 0.9688\n",
      "\n"
     ]
    },
    {
     "name": "stdout",
     "output_type": "stream",
     "text": [
      "Epoch 180, Loss 0.0247\n",
      "Training Accuracy: 0.9714, Testing Accuracy: 0.9693\n",
      "\n"
     ]
    },
    {
     "name": "stdout",
     "output_type": "stream",
     "text": [
      "Epoch 190, Loss 0.0243\n",
      "Training Accuracy: 0.9716, Testing Accuracy: 0.9688\n",
      "\n"
     ]
    },
    {
     "name": "stdout",
     "output_type": "stream",
     "text": [
      "Epoch 200, Loss 0.0238\n",
      "Training Accuracy: 0.9716, Testing Accuracy: 0.9693\n",
      "\n"
     ]
    },
    {
     "name": "stdout",
     "output_type": "stream",
     "text": [
      "Epoch 210, Loss 0.0234\n",
      "Training Accuracy: 0.9722, Testing Accuracy: 0.9688\n",
      "\n"
     ]
    },
    {
     "name": "stdout",
     "output_type": "stream",
     "text": [
      "Epoch 220, Loss 0.023\n",
      "Training Accuracy: 0.9726, Testing Accuracy: 0.9688\n",
      "\n"
     ]
    },
    {
     "name": "stdout",
     "output_type": "stream",
     "text": [
      "Epoch 230, Loss 0.0226\n",
      "Training Accuracy: 0.9734, Testing Accuracy: 0.9688\n",
      "\n"
     ]
    },
    {
     "name": "stdout",
     "output_type": "stream",
     "text": [
      "Epoch 240, Loss 0.0223\n",
      "Training Accuracy: 0.9736, Testing Accuracy: 0.9688\n",
      "\n"
     ]
    },
    {
     "name": "stdout",
     "output_type": "stream",
     "text": [
      "Epoch 250, Loss 0.0219\n",
      "Training Accuracy: 0.9743, Testing Accuracy: 0.9693\n",
      "\n"
     ]
    },
    {
     "data": {
      "text/plain": [
       "0.0386296435970994"
      ]
     },
     "execution_count": 20,
     "metadata": {},
     "output_type": "execute_result"
    }
   ],
   "source": [
    "print(\"====== Neural Network ======\")\n",
    "learner_nn.train_loop(dl)"
   ]
  },
  {
   "cell_type": "markdown",
   "metadata": {
    "papermill": {
     "duration": 0.03675,
     "end_time": "2020-12-12T10:06:13.682421",
     "exception": false,
     "start_time": "2020-12-12T10:06:13.645671",
     "status": "completed"
    },
    "tags": []
   },
   "source": [
    "### Logistic Regression based Implementation."
   ]
  },
  {
   "cell_type": "code",
   "execution_count": 21,
   "metadata": {
    "execution": {
     "iopub.execute_input": "2020-12-12T10:06:13.761439Z",
     "iopub.status.busy": "2020-12-12T10:06:13.760683Z",
     "iopub.status.idle": "2020-12-12T10:06:13.772380Z",
     "shell.execute_reply": "2020-12-12T10:06:13.772829Z"
    },
    "papermill": {
     "duration": 0.054109,
     "end_time": "2020-12-12T10:06:13.772984",
     "exception": false,
     "start_time": "2020-12-12T10:06:13.718875",
     "status": "completed"
    },
    "tags": []
   },
   "outputs": [],
   "source": [
    "learner_lr = Learner(loss, model_lr, opt, config.num_epochs)\n",
    "acc_lr = ClfCallback(learner_lr, config.bs, training_xdata , testing_xdata, training_ydata, testing_ydata)\n",
    "learner_lr.set_callbacks([acc_lr])"
   ]
  },
  {
   "cell_type": "code",
   "execution_count": 22,
   "metadata": {
    "execution": {
     "iopub.execute_input": "2020-12-12T10:06:13.851108Z",
     "iopub.status.busy": "2020-12-12T10:06:13.850504Z",
     "iopub.status.idle": "2020-12-12T10:06:31.106240Z",
     "shell.execute_reply": "2020-12-12T10:06:31.106721Z"
    },
    "papermill": {
     "duration": 17.296984,
     "end_time": "2020-12-12T10:06:31.106873",
     "exception": false,
     "start_time": "2020-12-12T10:06:13.809889",
     "status": "completed"
    },
    "tags": []
   },
   "outputs": [
    {
     "name": "stdout",
     "output_type": "stream",
     "text": [
      "====== Logistic Regression ======\n",
      "Epoch 0, Loss 0.2332\n",
      "Training Accuracy: 0.7143, Testing Accuracy: 0.7228\n",
      "\n"
     ]
    },
    {
     "name": "stdout",
     "output_type": "stream",
     "text": [
      "Epoch 10, Loss 0.1057\n",
      "Training Accuracy: 0.9008, Testing Accuracy: 0.9093\n",
      "\n"
     ]
    },
    {
     "name": "stdout",
     "output_type": "stream",
     "text": [
      "Epoch 20, Loss 0.0813\n",
      "Training Accuracy: 0.9229, Testing Accuracy: 0.9325\n",
      "\n"
     ]
    },
    {
     "name": "stdout",
     "output_type": "stream",
     "text": [
      "Epoch 30, Loss 0.0698\n",
      "Training Accuracy: 0.9328, Testing Accuracy: 0.9435\n",
      "\n"
     ]
    },
    {
     "name": "stdout",
     "output_type": "stream",
     "text": [
      "Epoch 40, Loss 0.0629\n",
      "Training Accuracy: 0.9387, Testing Accuracy: 0.9491\n",
      "\n"
     ]
    },
    {
     "name": "stdout",
     "output_type": "stream",
     "text": [
      "Epoch 50, Loss 0.0581\n",
      "Training Accuracy: 0.9427, Testing Accuracy: 0.9536\n",
      "\n"
     ]
    },
    {
     "name": "stdout",
     "output_type": "stream",
     "text": [
      "Epoch 60, Loss 0.0547\n",
      "Training Accuracy: 0.9463, Testing Accuracy: 0.9556\n",
      "\n"
     ]
    },
    {
     "name": "stdout",
     "output_type": "stream",
     "text": [
      "Epoch 70, Loss 0.052\n",
      "Training Accuracy: 0.9486, Testing Accuracy: 0.9587\n",
      "\n"
     ]
    },
    {
     "name": "stdout",
     "output_type": "stream",
     "text": [
      "Epoch 80, Loss 0.0499\n",
      "Training Accuracy: 0.9501, Testing Accuracy: 0.9597\n",
      "\n"
     ]
    },
    {
     "name": "stdout",
     "output_type": "stream",
     "text": [
      "Epoch 90, Loss 0.0481\n",
      "Training Accuracy: 0.9511, Testing Accuracy: 0.9597\n",
      "\n"
     ]
    },
    {
     "name": "stdout",
     "output_type": "stream",
     "text": [
      "Epoch 100, Loss 0.0466\n",
      "Training Accuracy: 0.9518, Testing Accuracy: 0.9602\n",
      "\n"
     ]
    },
    {
     "name": "stdout",
     "output_type": "stream",
     "text": [
      "Epoch 110, Loss 0.0454\n",
      "Training Accuracy: 0.9527, Testing Accuracy: 0.9617\n",
      "\n"
     ]
    },
    {
     "name": "stdout",
     "output_type": "stream",
     "text": [
      "Epoch 120, Loss 0.0443\n",
      "Training Accuracy: 0.9538, Testing Accuracy: 0.9617\n",
      "\n"
     ]
    },
    {
     "name": "stdout",
     "output_type": "stream",
     "text": [
      "Epoch 130, Loss 0.0433\n",
      "Training Accuracy: 0.9547, Testing Accuracy: 0.9617\n",
      "\n"
     ]
    },
    {
     "name": "stdout",
     "output_type": "stream",
     "text": [
      "Epoch 140, Loss 0.0425\n",
      "Training Accuracy: 0.9550, Testing Accuracy: 0.9622\n",
      "\n"
     ]
    },
    {
     "name": "stdout",
     "output_type": "stream",
     "text": [
      "Epoch 150, Loss 0.0417\n",
      "Training Accuracy: 0.9557, Testing Accuracy: 0.9627\n",
      "\n"
     ]
    },
    {
     "name": "stdout",
     "output_type": "stream",
     "text": [
      "Epoch 160, Loss 0.041\n",
      "Training Accuracy: 0.9565, Testing Accuracy: 0.9627\n",
      "\n"
     ]
    },
    {
     "name": "stdout",
     "output_type": "stream",
     "text": [
      "Epoch 170, Loss 0.0404\n",
      "Training Accuracy: 0.9574, Testing Accuracy: 0.9627\n",
      "\n"
     ]
    },
    {
     "name": "stdout",
     "output_type": "stream",
     "text": [
      "Epoch 180, Loss 0.0398\n",
      "Training Accuracy: 0.9581, Testing Accuracy: 0.9632\n",
      "\n"
     ]
    },
    {
     "name": "stdout",
     "output_type": "stream",
     "text": [
      "Epoch 190, Loss 0.0393\n",
      "Training Accuracy: 0.9588, Testing Accuracy: 0.9637\n",
      "\n"
     ]
    },
    {
     "name": "stdout",
     "output_type": "stream",
     "text": [
      "Epoch 200, Loss 0.0388\n",
      "Training Accuracy: 0.9590, Testing Accuracy: 0.9637\n",
      "\n"
     ]
    },
    {
     "name": "stdout",
     "output_type": "stream",
     "text": [
      "Epoch 210, Loss 0.0383\n",
      "Training Accuracy: 0.9592, Testing Accuracy: 0.9642\n",
      "\n"
     ]
    },
    {
     "name": "stdout",
     "output_type": "stream",
     "text": [
      "Epoch 220, Loss 0.0379\n",
      "Training Accuracy: 0.9596, Testing Accuracy: 0.9637\n",
      "\n"
     ]
    },
    {
     "name": "stdout",
     "output_type": "stream",
     "text": [
      "Epoch 230, Loss 0.0375\n",
      "Training Accuracy: 0.9600, Testing Accuracy: 0.9647\n",
      "\n"
     ]
    },
    {
     "name": "stdout",
     "output_type": "stream",
     "text": [
      "Epoch 240, Loss 0.0371\n",
      "Training Accuracy: 0.9604, Testing Accuracy: 0.9652\n",
      "\n"
     ]
    },
    {
     "name": "stdout",
     "output_type": "stream",
     "text": [
      "Epoch 250, Loss 0.0368\n",
      "Training Accuracy: 0.9609, Testing Accuracy: 0.9657\n",
      "\n"
     ]
    },
    {
     "data": {
      "text/plain": [
       "0.01818834467785256"
      ]
     },
     "execution_count": 22,
     "metadata": {},
     "output_type": "execute_result"
    }
   ],
   "source": [
    "print(\"====== Logistic Regression ======\")\n",
    "learner_lr.train_loop(dl)"
   ]
  },
  {
   "cell_type": "markdown",
   "metadata": {
    "papermill": {
     "duration": 0.044331,
     "end_time": "2020-12-12T10:06:31.196075",
     "exception": false,
     "start_time": "2020-12-12T10:06:31.151744",
     "status": "completed"
    },
    "tags": []
   },
   "source": [
    "### Comparing results of NN and LR"
   ]
  },
  {
   "cell_type": "code",
   "execution_count": 23,
   "metadata": {
    "execution": {
     "iopub.execute_input": "2020-12-12T10:06:31.291590Z",
     "iopub.status.busy": "2020-12-12T10:06:31.290270Z",
     "iopub.status.idle": "2020-12-12T10:06:31.535600Z",
     "shell.execute_reply": "2020-12-12T10:06:31.535108Z"
    },
    "papermill": {
     "duration": 0.295933,
     "end_time": "2020-12-12T10:06:31.535739",
     "exception": false,
     "start_time": "2020-12-12T10:06:31.239806",
     "status": "completed"
    },
    "tags": []
   },
   "outputs": [
    {
     "data": {
      "text/plain": [
       "<matplotlib.legend.Legend at 0x7f8f7a4e3be0>"
      ]
     },
     "execution_count": 23,
     "metadata": {},
     "output_type": "execute_result"
    },
    {
     "data": {
      "image/png": "[encoded data removed]",
      "text/plain": [
       "<Figure size 1080x720 with 1 Axes>"
      ]
     },
     "metadata": {
      "needs_background": "light"
     },
     "output_type": "display_data"
    }
   ],
   "source": [
    "plt.figure(figsize=(15,10))\n",
    "\n",
    "# Neural Network plots\n",
    "plt.plot(acc_nn.accuracies, 'r-', label = \"Training Accuracies - NN\")\n",
    "plt.plot(acc_nn.test_accuracies, 'g-', label = \"Testing Accuracies - NN\")\n",
    "\n",
    "# Logistic Regression plots\n",
    "plt.plot(acc_lr.accuracies, 'k-', label = \"Training Accuracies - LR\")\n",
    "plt.plot(acc_lr.test_accuracies, 'b-', label = \"Testing Accuracies - LR\")\n",
    "\n",
    "plt.ylim(0.8, 1)\n",
    "\n",
    "plt.legend()\n",
    "\n"
   ]
  },
  {
   "cell_type": "markdown",
   "metadata": {
    "papermill": {
     "duration": 0.046065,
     "end_time": "2020-12-12T10:06:31.628967",
     "exception": false,
     "start_time": "2020-12-12T10:06:31.582902",
     "status": "completed"
    },
    "tags": []
   },
   "source": [
    "### From the plot, we can observe the following:\n",
    "- Neural Network achieves higher accuracy than the Logistic Regression model.\n",
    "- This apparently, is because of overfitting, i.e. NN captures more noise than data.\n",
    "- Testing accuracy of NN drops below the Training accuracy at higher epochs. This explains the over-fitting on training data.\n",
    "- Logistic Regression gives a reliable accuracy, without the above mentioned problem.\n"
   ]
  },
  {
   "cell_type": "markdown",
   "metadata": {
    "papermill": {
     "duration": 0.046186,
     "end_time": "2020-12-12T10:06:31.720831",
     "exception": false,
     "start_time": "2020-12-12T10:06:31.674645",
     "status": "completed"
    },
    "tags": []
   },
   "source": [
    "### Moving till the last but one layer (excluding it).\n",
    "#### Plotting the outputs of this layer of the NN."
   ]
  },
  {
   "cell_type": "code",
   "execution_count": 24,
   "metadata": {
    "execution": {
     "iopub.execute_input": "2020-12-12T10:06:31.817619Z",
     "iopub.status.busy": "2020-12-12T10:06:31.817008Z",
     "iopub.status.idle": "2020-12-12T10:06:31.830001Z",
     "shell.execute_reply": "2020-12-12T10:06:31.830480Z"
    },
    "papermill": {
     "duration": 0.063654,
     "end_time": "2020-12-12T10:06:31.830630",
     "exception": false,
     "start_time": "2020-12-12T10:06:31.766976",
     "status": "completed"
    },
    "tags": []
   },
   "outputs": [],
   "source": [
    "model_new = Model(layers[:-2])"
   ]
  },
  {
   "cell_type": "code",
   "execution_count": 25,
   "metadata": {
    "execution": {
     "iopub.execute_input": "2020-12-12T10:06:31.936108Z",
     "iopub.status.busy": "2020-12-12T10:06:31.927571Z",
     "iopub.status.idle": "2020-12-12T10:06:31.949059Z",
     "shell.execute_reply": "2020-12-12T10:06:31.949623Z"
    },
    "papermill": {
     "duration": 0.072594,
     "end_time": "2020-12-12T10:06:31.949784",
     "exception": false,
     "start_time": "2020-12-12T10:06:31.877190",
     "status": "completed"
    },
    "tags": []
   },
   "outputs": [],
   "source": [
    "plot_testing = model_new(testing_xdata)"
   ]
  },
  {
   "cell_type": "code",
   "execution_count": 26,
   "metadata": {
    "execution": {
     "iopub.execute_input": "2020-12-12T10:06:32.046992Z",
     "iopub.status.busy": "2020-12-12T10:06:32.046401Z",
     "iopub.status.idle": "2020-12-12T10:06:32.248682Z",
     "shell.execute_reply": "2020-12-12T10:06:32.247879Z"
    },
    "papermill": {
     "duration": 0.252642,
     "end_time": "2020-12-12T10:06:32.248820",
     "exception": false,
     "start_time": "2020-12-12T10:06:31.996178",
     "status": "completed"
    },
    "tags": []
   },
   "outputs": [
    {
     "data": {
      "text/plain": [
       "Text(0.5, 1.0, 'Outputs')"
      ]
     },
     "execution_count": 26,
     "metadata": {},
     "output_type": "execute_result"
    },
    {
     "data": {
      "image/png": "[encoded data removed]",
      "text/plain": [
       "<Figure size 576x504 with 1 Axes>"
      ]
     },
     "metadata": {
      "needs_background": "light"
     },
     "output_type": "display_data"
    }
   ],
   "source": [
    "plt.figure(figsize=(8,7))\n",
    "plt.scatter(plot_testing[:,0], plot_testing[:,1], alpha = 0.1, c = y_test.ravel());\n",
    "plt.title('Outputs')"
   ]
  },
  {
   "cell_type": "markdown",
   "metadata": {
    "papermill": {
     "duration": 0.048443,
     "end_time": "2020-12-12T10:06:32.345497",
     "exception": false,
     "start_time": "2020-12-12T10:06:32.297054",
     "status": "completed"
    },
    "tags": []
   },
   "source": [
    "### Plotting probability contours"
   ]
  },
  {
   "cell_type": "code",
   "execution_count": 27,
   "metadata": {
    "execution": {
     "iopub.execute_input": "2020-12-12T10:06:32.451055Z",
     "iopub.status.busy": "2020-12-12T10:06:32.447164Z",
     "iopub.status.idle": "2020-12-12T10:06:32.461175Z",
     "shell.execute_reply": "2020-12-12T10:06:32.460650Z"
    },
    "papermill": {
     "duration": 0.06745,
     "end_time": "2020-12-12T10:06:32.461307",
     "exception": false,
     "start_time": "2020-12-12T10:06:32.393857",
     "status": "completed"
    },
    "tags": []
   },
   "outputs": [],
   "source": [
    "model_prob = Model(layers[-2:]) "
   ]
  },
  {
   "cell_type": "code",
   "execution_count": 28,
   "metadata": {
    "execution": {
     "iopub.execute_input": "2020-12-12T10:06:32.566817Z",
     "iopub.status.busy": "2020-12-12T10:06:32.566199Z",
     "iopub.status.idle": "2020-12-12T10:06:32.579408Z",
     "shell.execute_reply": "2020-12-12T10:06:32.579871Z"
    },
    "papermill": {
     "duration": 0.070106,
     "end_time": "2020-12-12T10:06:32.580028",
     "exception": false,
     "start_time": "2020-12-12T10:06:32.509922",
     "status": "completed"
    },
    "tags": []
   },
   "outputs": [],
   "source": [
    "# Adjust the x and y ranges according to the above generated plot.\n",
    "x_range = np.linspace(-4, 1, 100) \n",
    "y_range = np.linspace(-6, 6, 100) \n",
    "x_grid, y_grid = np.meshgrid(x_range, y_range) # x_grid and y_grig are of size 100 X 100\n",
    "\n",
    "# converting x_grid and y_grid to continuous arrays\n",
    "x_grid_flat = np.ravel(x_grid)\n",
    "y_grid_flat = np.ravel(y_grid)\n",
    "\n",
    "# The last layer of the current model takes two columns as input. Hence transpose of np.vstack() is required.\n",
    "X = np.vstack((x_grid_flat, y_grid_flat)).T\n",
    "\n",
    "# x_grid and y_grid are of size 100 x 100\n",
    "probability_contour = model_prob(X).reshape(100,100) "
   ]
  },
  {
   "cell_type": "code",
   "execution_count": 29,
   "metadata": {
    "execution": {
     "iopub.execute_input": "2020-12-12T10:06:32.690952Z",
     "iopub.status.busy": "2020-12-12T10:06:32.690345Z",
     "iopub.status.idle": "2020-12-12T10:06:32.931466Z",
     "shell.execute_reply": "2020-12-12T10:06:32.931920Z"
    },
    "papermill": {
     "duration": 0.30171,
     "end_time": "2020-12-12T10:06:32.932073",
     "exception": false,
     "start_time": "2020-12-12T10:06:32.630363",
     "status": "completed"
    },
    "tags": []
   },
   "outputs": [
    {
     "data": {
      "image/png": "[encoded data removed]",
      "text/plain": [
       "<Figure size 720x648 with 1 Axes>"
      ]
     },
     "metadata": {
      "needs_background": "light"
     },
     "output_type": "display_data"
    }
   ],
   "source": [
    "plt.figure(figsize=(10,9))\n",
    "plt.scatter(plot_testing[:,0], plot_testing[:,1], alpha = 0.1, c = y_test.ravel())\n",
    "contours = plt.contour(x_grid,y_grid,probability_contour)\n",
    "plt.title('Probability Contours')\n",
    "plt.clabel(contours, inline = True );"
   ]
  }
 ],
 "metadata": {
  "kernelspec": {
   "display_name": "Python 3",
   "language": "python",
   "name": "python3"
  },
  "language_info": {
   "codemirror_mode": {
    "name": "ipython",
    "version": 3
   },
   "file_extension": ".py",
   "mimetype": "text/x-python",
   "name": "python",
   "nbconvert_exporter": "python",
   "pygments_lexer": "ipython3",
   "version": "3.6.12"
  },
  "papermill": {
   "duration": 115.270588,
   "end_time": "2020-12-12T10:06:33.391308",
   "environment_variables": {},
   "exception": null,
   "input_path": "2020-08-11-NeuralNetwork.ipynb",
   "output_path": "2020-08-11-NeuralNetwork.ipynb",
   "parameters": {},
   "start_time": "2020-12-12T10:04:38.120720",
   "version": "2.1.2"
  }
 },
 "nbformat": 4,
 "nbformat_minor": 4
}