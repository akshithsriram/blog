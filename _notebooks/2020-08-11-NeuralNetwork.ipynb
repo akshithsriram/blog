{
 "cells": [
  {
   "cell_type": "markdown",
   "id": "fitted-suggestion",
   "metadata": {
    "papermill": {
     "duration": 0.052363,
     "end_time": "2021-02-03T00:05:43.915280",
     "exception": false,
     "start_time": "2021-02-03T00:05:43.862917",
     "status": "completed"
    },
    "tags": []
   },
   "source": [
    "# \"A Basic Neural Network: Differentiate Hand-Written Digits\"\n",
    "\n",
    "- badges: true\n",
    "- author: Akshith Sriram"
   ]
  },
  {
   "cell_type": "markdown",
   "id": "signal-flexibility",
   "metadata": {
    "papermill": {
     "duration": 0.033167,
     "end_time": "2021-02-03T00:05:43.981711",
     "exception": false,
     "start_time": "2021-02-03T00:05:43.948544",
     "status": "completed"
    },
    "tags": []
   },
   "source": [
    "### Key Objectives:\n",
    "- Building a neural network that differentiates two hand-written digits 3 and 8.\n",
    "- Comparing the results of this Neural Network (NN) to that of a Logistic Regression (LR) model.\n",
    "\n",
    "### Requirements:\n",
    "- 'Kudzu' : A neural network library that was designed during our course by [Univ.AI](www.univ.ai). \n",
    "- MNIST Database\n",
    "\n",
    "If MNIST is not installed, use the command `!pip install mnist` given below.\n",
    "It can be run both from the command line and Jupyter Notebook."
   ]
  },
  {
   "cell_type": "code",
   "execution_count": 1,
   "id": "british-texture",
   "metadata": {
    "execution": {
     "iopub.execute_input": "2021-02-03T00:05:44.065326Z",
     "iopub.status.busy": "2021-02-03T00:05:44.060406Z",
     "iopub.status.idle": "2021-02-03T00:05:45.679169Z",
     "shell.execute_reply": "2021-02-03T00:05:45.678392Z"
    },
    "papermill": {
     "duration": 1.666492,
     "end_time": "2021-02-03T00:05:45.679344",
     "exception": false,
     "start_time": "2021-02-03T00:05:44.012852",
     "status": "completed"
    },
    "tags": []
   },
   "outputs": [
    {
     "name": "stdout",
     "output_type": "stream",
     "text": [
      "Collecting mnist\r\n"
     ]
    },
    {
     "name": "stdout",
     "output_type": "stream",
     "text": [
      "  Downloading mnist-0.2.2-py2.py3-none-any.whl (3.5 kB)\r\n",
      "Requirement already satisfied: numpy in /opt/hostedtoolcache/Python/3.6.12/x64/lib/python3.6/site-packages (from mnist) (1.19.5)\r\n"
     ]
    },
    {
     "name": "stdout",
     "output_type": "stream",
     "text": [
      "Installing collected packages: mnist\r\n"
     ]
    },
    {
     "name": "stdout",
     "output_type": "stream",
     "text": [
      "Successfully installed mnist-0.2.2\r\n"
     ]
    },
    {
     "name": "stdout",
     "output_type": "stream",
     "text": [
      "\u001b[33mWARNING: You are using pip version 20.3.4; however, version 21.0.1 is available.\r\n",
      "You should consider upgrading via the '/opt/hostedtoolcache/Python/3.6.12/x64/bin/python -m pip install --upgrade pip' command.\u001b[0m\r\n"
     ]
    }
   ],
   "source": [
    "!pip install mnist "
   ]
  },
  {
   "cell_type": "markdown",
   "id": "stunning-extra",
   "metadata": {
    "papermill": {
     "duration": 0.033791,
     "end_time": "2021-02-03T00:05:45.747062",
     "exception": false,
     "start_time": "2021-02-03T00:05:45.713271",
     "status": "completed"
    },
    "tags": []
   },
   "source": [
    "#### Importing necessary libraries"
   ]
  },
  {
   "cell_type": "code",
   "execution_count": 2,
   "id": "wooden-france",
   "metadata": {
    "execution": {
     "iopub.execute_input": "2021-02-03T00:05:45.816567Z",
     "iopub.status.busy": "2021-02-03T00:05:45.816013Z",
     "iopub.status.idle": "2021-02-03T00:05:46.433470Z",
     "shell.execute_reply": "2021-02-03T00:05:46.432303Z"
    },
    "papermill": {
     "duration": 0.655106,
     "end_time": "2021-02-03T00:05:46.433626",
     "exception": false,
     "start_time": "2021-02-03T00:05:45.778520",
     "status": "completed"
    },
    "tags": []
   },
   "outputs": [],
   "source": [
    "%load_ext autoreload\n",
    "%autoreload 2\n",
    "\n",
    "%matplotlib inline\n",
    "import matplotlib.pyplot as plt\n",
    "\n",
    "import numpy as np\n",
    "import pandas as pd"
   ]
  },
  {
   "cell_type": "markdown",
   "id": "stunning-physics",
   "metadata": {
    "papermill": {
     "duration": 0.03423,
     "end_time": "2021-02-03T00:05:46.503125",
     "exception": false,
     "start_time": "2021-02-03T00:05:46.468895",
     "status": "completed"
    },
    "tags": []
   },
   "source": [
    "### Preparing the Data"
   ]
  },
  {
   "cell_type": "code",
   "execution_count": 3,
   "id": "unauthorized-remainder",
   "metadata": {
    "execution": {
     "iopub.execute_input": "2021-02-03T00:05:46.584108Z",
     "iopub.status.busy": "2021-02-03T00:05:46.576858Z",
     "iopub.status.idle": "2021-02-03T00:05:46.589589Z",
     "shell.execute_reply": "2021-02-03T00:05:46.589007Z"
    },
    "papermill": {
     "duration": 0.051807,
     "end_time": "2021-02-03T00:05:46.589729",
     "exception": false,
     "start_time": "2021-02-03T00:05:46.537922",
     "status": "completed"
    },
    "tags": []
   },
   "outputs": [],
   "source": [
    "import mnist"
   ]
  },
  {
   "cell_type": "code",
   "execution_count": 4,
   "id": "correct-antarctica",
   "metadata": {
    "execution": {
     "iopub.execute_input": "2021-02-03T00:05:46.664184Z",
     "iopub.status.busy": "2021-02-03T00:05:46.663495Z",
     "iopub.status.idle": "2021-02-03T00:05:47.452031Z",
     "shell.execute_reply": "2021-02-03T00:05:47.451381Z"
    },
    "papermill": {
     "duration": 0.828728,
     "end_time": "2021-02-03T00:05:47.452187",
     "exception": false,
     "start_time": "2021-02-03T00:05:46.623459",
     "status": "completed"
    },
    "tags": []
   },
   "outputs": [],
   "source": [
    "train_images = mnist.train_images()\n",
    "train_labels = mnist.train_labels()"
   ]
  },
  {
   "cell_type": "code",
   "execution_count": 5,
   "id": "musical-prospect",
   "metadata": {
    "execution": {
     "iopub.execute_input": "2021-02-03T00:05:47.525447Z",
     "iopub.status.busy": "2021-02-03T00:05:47.524781Z",
     "iopub.status.idle": "2021-02-03T00:05:47.539775Z",
     "shell.execute_reply": "2021-02-03T00:05:47.539087Z"
    },
    "papermill": {
     "duration": 0.053858,
     "end_time": "2021-02-03T00:05:47.539923",
     "exception": false,
     "start_time": "2021-02-03T00:05:47.486065",
     "status": "completed"
    },
    "tags": []
   },
   "outputs": [
    {
     "data": {
      "text/plain": [
       "((60000, 28, 28), (60000,))"
      ]
     },
     "execution_count": 5,
     "metadata": {},
     "output_type": "execute_result"
    }
   ],
   "source": [
    "train_images.shape, train_labels.shape"
   ]
  },
  {
   "cell_type": "code",
   "execution_count": 6,
   "id": "preliminary-elizabeth",
   "metadata": {
    "execution": {
     "iopub.execute_input": "2021-02-03T00:05:47.628326Z",
     "iopub.status.busy": "2021-02-03T00:05:47.627615Z",
     "iopub.status.idle": "2021-02-03T00:05:47.902837Z",
     "shell.execute_reply": "2021-02-03T00:05:47.902227Z"
    },
    "papermill": {
     "duration": 0.328823,
     "end_time": "2021-02-03T00:05:47.902981",
     "exception": false,
     "start_time": "2021-02-03T00:05:47.574158",
     "status": "completed"
    },
    "tags": []
   },
   "outputs": [],
   "source": [
    "test_images = mnist.test_images()\n",
    "test_labels = mnist.test_labels()"
   ]
  },
  {
   "cell_type": "code",
   "execution_count": 7,
   "id": "acknowledged-oxygen",
   "metadata": {
    "execution": {
     "iopub.execute_input": "2021-02-03T00:05:48.264192Z",
     "iopub.status.busy": "2021-02-03T00:05:48.263490Z",
     "iopub.status.idle": "2021-02-03T00:05:48.277460Z",
     "shell.execute_reply": "2021-02-03T00:05:48.277990Z"
    },
    "papermill": {
     "duration": 0.26981,
     "end_time": "2021-02-03T00:05:48.278159",
     "exception": false,
     "start_time": "2021-02-03T00:05:48.008349",
     "status": "completed"
    },
    "tags": []
   },
   "outputs": [
    {
     "data": {
      "text/plain": [
       "((10000, 28, 28), (10000,))"
      ]
     },
     "execution_count": 7,
     "metadata": {},
     "output_type": "execute_result"
    }
   ],
   "source": [
    "test_images.shape, test_labels.shape"
   ]
  },
  {
   "cell_type": "code",
   "execution_count": 8,
   "id": "innovative-organic",
   "metadata": {
    "execution": {
     "iopub.execute_input": "2021-02-03T00:05:48.596103Z",
     "iopub.status.busy": "2021-02-03T00:05:48.595443Z",
     "iopub.status.idle": "2021-02-03T00:05:48.774646Z",
     "shell.execute_reply": "2021-02-03T00:05:48.774052Z"
    },
    "papermill": {
     "duration": 0.2175,
     "end_time": "2021-02-03T00:05:48.774798",
     "exception": false,
     "start_time": "2021-02-03T00:05:48.557298",
     "status": "completed"
    },
    "tags": []
   },
   "outputs": [
    {
     "name": "stdout",
     "output_type": "stream",
     "text": [
      "2\n"
     ]
    },
    {
     "data": {
      "text/plain": [
       "<matplotlib.image.AxesImage at 0x7f60298b7f60>"
      ]
     },
     "execution_count": 8,
     "metadata": {},
     "output_type": "execute_result"
    },
    {
     "data": {
      "image/png": "[encoded data removed]",
      "text/plain": [
       "<Figure size 432x288 with 1 Axes>"
      ]
     },
     "metadata": {
      "needs_background": "light"
     },
     "output_type": "display_data"
    }
   ],
   "source": [
    "image_index = 7776 # You may select anything up to 60,000\n",
    "print(train_labels[image_index]) \n",
    "plt.imshow(train_images[image_index], cmap='Greys')"
   ]
  },
  {
   "cell_type": "markdown",
   "id": "facial-modem",
   "metadata": {
    "papermill": {
     "duration": 0.035795,
     "end_time": "2021-02-03T00:05:48.845311",
     "exception": false,
     "start_time": "2021-02-03T00:05:48.809516",
     "status": "completed"
    },
    "tags": []
   },
   "source": [
    "## Filter data to get 3 and 8 out"
   ]
  },
  {
   "cell_type": "code",
   "execution_count": 9,
   "id": "thousand-acquisition",
   "metadata": {
    "execution": {
     "iopub.execute_input": "2021-02-03T00:05:48.935734Z",
     "iopub.status.busy": "2021-02-03T00:05:48.928492Z",
     "iopub.status.idle": "2021-02-03T00:05:48.945832Z",
     "shell.execute_reply": "2021-02-03T00:05:48.945215Z"
    },
    "papermill": {
     "duration": 0.064151,
     "end_time": "2021-02-03T00:05:48.945986",
     "exception": false,
     "start_time": "2021-02-03T00:05:48.881835",
     "status": "completed"
    },
    "tags": []
   },
   "outputs": [],
   "source": [
    "train_filter = np.where((train_labels == 3 ) | (train_labels == 8))\n",
    "test_filter = np.where((test_labels == 3) | (test_labels == 8))\n",
    "X_train, y_train = train_images[train_filter], train_labels[train_filter]\n",
    "X_test, y_test = test_images[test_filter], test_labels[test_filter]"
   ]
  },
  {
   "cell_type": "markdown",
   "id": "ruled-access",
   "metadata": {
    "papermill": {
     "duration": 0.034381,
     "end_time": "2021-02-03T00:05:49.015533",
     "exception": false,
     "start_time": "2021-02-03T00:05:48.981152",
     "status": "completed"
    },
    "tags": []
   },
   "source": [
    "We normalize the pixel values in the 0 to 1 range"
   ]
  },
  {
   "cell_type": "code",
   "execution_count": 10,
   "id": "isolated-denver",
   "metadata": {
    "execution": {
     "iopub.execute_input": "2021-02-03T00:05:49.105104Z",
     "iopub.status.busy": "2021-02-03T00:05:49.101959Z",
     "iopub.status.idle": "2021-02-03T00:05:49.158054Z",
     "shell.execute_reply": "2021-02-03T00:05:49.157374Z"
    },
    "papermill": {
     "duration": 0.107552,
     "end_time": "2021-02-03T00:05:49.158215",
     "exception": false,
     "start_time": "2021-02-03T00:05:49.050663",
     "status": "completed"
    },
    "tags": []
   },
   "outputs": [],
   "source": [
    "X_train = X_train/255.\n",
    "X_test = X_test/255."
   ]
  },
  {
   "cell_type": "markdown",
   "id": "perfect-summary",
   "metadata": {
    "papermill": {
     "duration": 0.036148,
     "end_time": "2021-02-03T00:05:49.231878",
     "exception": false,
     "start_time": "2021-02-03T00:05:49.195730",
     "status": "completed"
    },
    "tags": []
   },
   "source": [
    "Setup the labels as 1 (when the digit is 3) and 0 (when the digit is 8)"
   ]
  },
  {
   "cell_type": "code",
   "execution_count": 11,
   "id": "personalized-growing",
   "metadata": {
    "execution": {
     "iopub.execute_input": "2021-02-03T00:05:49.312301Z",
     "iopub.status.busy": "2021-02-03T00:05:49.311650Z",
     "iopub.status.idle": "2021-02-03T00:05:49.323556Z",
     "shell.execute_reply": "2021-02-03T00:05:49.322793Z"
    },
    "papermill": {
     "duration": 0.055622,
     "end_time": "2021-02-03T00:05:49.323716",
     "exception": false,
     "start_time": "2021-02-03T00:05:49.268094",
     "status": "completed"
    },
    "tags": []
   },
   "outputs": [],
   "source": [
    "y_train = 1*(y_train==3)\n",
    "y_test = 1*(y_test==3)"
   ]
  },
  {
   "cell_type": "code",
   "execution_count": 12,
   "id": "considered-virgin",
   "metadata": {
    "execution": {
     "iopub.execute_input": "2021-02-03T00:05:49.418377Z",
     "iopub.status.busy": "2021-02-03T00:05:49.414433Z",
     "iopub.status.idle": "2021-02-03T00:05:49.421704Z",
     "shell.execute_reply": "2021-02-03T00:05:49.422277Z"
    },
    "papermill": {
     "duration": 0.062071,
     "end_time": "2021-02-03T00:05:49.422440",
     "exception": false,
     "start_time": "2021-02-03T00:05:49.360369",
     "status": "completed"
    },
    "tags": []
   },
   "outputs": [
    {
     "data": {
      "text/plain": [
       "((11982, 28, 28), (1984, 28, 28))"
      ]
     },
     "execution_count": 12,
     "metadata": {},
     "output_type": "execute_result"
    }
   ],
   "source": [
    "X_train.shape, X_test.shape"
   ]
  },
  {
   "cell_type": "markdown",
   "id": "civilian-mobile",
   "metadata": {
    "papermill": {
     "duration": 0.036072,
     "end_time": "2021-02-03T00:05:49.494797",
     "exception": false,
     "start_time": "2021-02-03T00:05:49.458725",
     "status": "completed"
    },
    "tags": []
   },
   "source": [
    "### Reshape the input data to create a linear array"
   ]
  },
  {
   "cell_type": "code",
   "execution_count": 13,
   "id": "colonial-adams",
   "metadata": {
    "execution": {
     "iopub.execute_input": "2021-02-03T00:05:49.584206Z",
     "iopub.status.busy": "2021-02-03T00:05:49.574537Z",
     "iopub.status.idle": "2021-02-03T00:05:49.587948Z",
     "shell.execute_reply": "2021-02-03T00:05:49.587367Z"
    },
    "papermill": {
     "duration": 0.056675,
     "end_time": "2021-02-03T00:05:49.588088",
     "exception": false,
     "start_time": "2021-02-03T00:05:49.531413",
     "status": "completed"
    },
    "tags": []
   },
   "outputs": [
    {
     "data": {
      "text/plain": [
       "((11982, 784), (1984, 784))"
      ]
     },
     "execution_count": 13,
     "metadata": {},
     "output_type": "execute_result"
    }
   ],
   "source": [
    "X_train = X_train.reshape(X_train.shape[0], -1)\n",
    "X_test = X_test.reshape(X_test.shape[0], -1)\n",
    "X_train.shape, X_test.shape"
   ]
  },
  {
   "cell_type": "markdown",
   "id": "smart-details",
   "metadata": {
    "papermill": {
     "duration": 0.035806,
     "end_time": "2021-02-03T00:05:49.659666",
     "exception": false,
     "start_time": "2021-02-03T00:05:49.623860",
     "status": "completed"
    },
    "tags": []
   },
   "source": [
    "### Importing appropriate functions from 'Kudzu'"
   ]
  },
  {
   "cell_type": "code",
   "execution_count": 14,
   "id": "celtic-trial",
   "metadata": {
    "execution": {
     "iopub.execute_input": "2021-02-03T00:05:49.743426Z",
     "iopub.status.busy": "2021-02-03T00:05:49.742714Z",
     "iopub.status.idle": "2021-02-03T00:05:49.763807Z",
     "shell.execute_reply": "2021-02-03T00:05:49.763143Z"
    },
    "papermill": {
     "duration": 0.068076,
     "end_time": "2021-02-03T00:05:49.763962",
     "exception": false,
     "start_time": "2021-02-03T00:05:49.695886",
     "status": "completed"
    },
    "tags": []
   },
   "outputs": [],
   "source": [
    "from kudzu.layer import Sigmoid\n",
    "from kudzu.layer import Relu\n",
    "from kudzu.layer import Affine, Sigmoid\n",
    "\n",
    "from kudzu.model import Model\n",
    "from kudzu.train import Learner\n",
    "from kudzu.optim import GD\n",
    "from kudzu.data import Data, Dataloader, Sampler\n",
    "\n",
    "from kudzu.callbacks import AccCallback\n",
    "from kudzu.callbacks import ClfCallback\n",
    "\n",
    "from kudzu.loss import MSE"
   ]
  },
  {
   "cell_type": "markdown",
   "id": "coupled-customer",
   "metadata": {
    "papermill": {
     "duration": 0.036293,
     "end_time": "2021-02-03T00:05:49.835951",
     "exception": false,
     "start_time": "2021-02-03T00:05:49.799658",
     "status": "completed"
    },
    "tags": []
   },
   "source": [
    "### Let us create a `Config` class, to store important parameters. \n",
    "This class essentially plays the role of a dictionary."
   ]
  },
  {
   "cell_type": "code",
   "execution_count": 15,
   "id": "young-ceiling",
   "metadata": {
    "execution": {
     "iopub.execute_input": "2021-02-03T00:05:49.919887Z",
     "iopub.status.busy": "2021-02-03T00:05:49.919132Z",
     "iopub.status.idle": "2021-02-03T00:05:49.931082Z",
     "shell.execute_reply": "2021-02-03T00:05:49.930455Z"
    },
    "papermill": {
     "duration": 0.056111,
     "end_time": "2021-02-03T00:05:49.931230",
     "exception": false,
     "start_time": "2021-02-03T00:05:49.875119",
     "status": "completed"
    },
    "tags": []
   },
   "outputs": [],
   "source": [
    "class Config:\n",
    "    pass\n",
    "config = Config()\n",
    "config.lr = 0.001\n",
    "config.num_epochs = 251\n",
    "config.bs = 50"
   ]
  },
  {
   "cell_type": "markdown",
   "id": "according-mandate",
   "metadata": {
    "papermill": {
     "duration": 0.03529,
     "end_time": "2021-02-03T00:05:50.003263",
     "exception": false,
     "start_time": "2021-02-03T00:05:49.967973",
     "status": "completed"
    },
    "tags": []
   },
   "source": [
    "### Initializing data to the variables"
   ]
  },
  {
   "cell_type": "code",
   "execution_count": 16,
   "id": "academic-disposition",
   "metadata": {
    "execution": {
     "iopub.execute_input": "2021-02-03T00:05:50.087204Z",
     "iopub.status.busy": "2021-02-03T00:05:50.086386Z",
     "iopub.status.idle": "2021-02-03T00:05:50.097011Z",
     "shell.execute_reply": "2021-02-03T00:05:50.096446Z"
    },
    "papermill": {
     "duration": 0.056767,
     "end_time": "2021-02-03T00:05:50.097150",
     "exception": false,
     "start_time": "2021-02-03T00:05:50.040383",
     "status": "completed"
    },
    "tags": []
   },
   "outputs": [],
   "source": [
    "data = Data(X_train, y_train.reshape(-1,1))\n",
    "sampler = Sampler(data, config.bs, shuffle=True)\n",
    "\n",
    "dl = Dataloader(data, sampler)\n",
    "\n",
    "opt = GD(config.lr)\n",
    "loss = MSE()"
   ]
  },
  {
   "cell_type": "code",
   "execution_count": 17,
   "id": "featured-commission",
   "metadata": {
    "execution": {
     "iopub.execute_input": "2021-02-03T00:05:50.178528Z",
     "iopub.status.busy": "2021-02-03T00:05:50.177866Z",
     "iopub.status.idle": "2021-02-03T00:05:50.188377Z",
     "shell.execute_reply": "2021-02-03T00:05:50.189007Z"
    },
    "papermill": {
     "duration": 0.055083,
     "end_time": "2021-02-03T00:05:50.189160",
     "exception": false,
     "start_time": "2021-02-03T00:05:50.134077",
     "status": "completed"
    },
    "tags": []
   },
   "outputs": [],
   "source": [
    "training_xdata = X_train\n",
    "testing_xdata = X_test\n",
    "training_ydata = y_train.reshape(-1,1)\n",
    "testing_ydata = y_test.reshape(-1,1)"
   ]
  },
  {
   "cell_type": "markdown",
   "id": "played-safety",
   "metadata": {
    "papermill": {
     "duration": 0.047969,
     "end_time": "2021-02-03T00:05:50.276445",
     "exception": false,
     "start_time": "2021-02-03T00:05:50.228476",
     "status": "completed"
    },
    "tags": []
   },
   "source": [
    "### Running Models with the Training data\n",
    "Details about the network layers:\n",
    "- A first affine layer has 784 inputs and does 100 affine transforms. These are followed by a Relu\n",
    "- A second affine layer has 100 inputs from the 100 activations of the past layer, and does 100 affine transforms. These are followed by a Relu\n",
    "- A third affine layer has 100 activations and does 2 affine transformations to create an embedding for visualization. There is no non-linearity here.\n",
    "- A final \"logistic regression\" which has an affine transform from 2 inputs to 1 output, which is squeezed through a sigmoid.\n",
    "\n",
    "Help taken from Anshuman's Notebook."
   ]
  },
  {
   "cell_type": "code",
   "execution_count": 18,
   "id": "asian-bankruptcy",
   "metadata": {
    "execution": {
     "iopub.execute_input": "2021-02-03T00:05:50.356256Z",
     "iopub.status.busy": "2021-02-03T00:05:50.355474Z",
     "iopub.status.idle": "2021-02-03T00:05:50.372643Z",
     "shell.execute_reply": "2021-02-03T00:05:50.373232Z"
    },
    "papermill": {
     "duration": 0.061175,
     "end_time": "2021-02-03T00:05:50.373398",
     "exception": false,
     "start_time": "2021-02-03T00:05:50.312223",
     "status": "completed"
    },
    "tags": []
   },
   "outputs": [],
   "source": [
    "# layers for the Neural Network\n",
    "layers = [Affine(\"first\", 784, 100), Relu(\"first\"), Affine(\"second\", 100, 100), Relu(\"second\"), Affine(\"third\", 100, 2), Affine(\"final\", 2, 1), Sigmoid(\"final\")]\n",
    "model_nn = Model(layers)\n",
    "\n",
    "# layers for the Logistic Regression\n",
    "layers_lr = [Affine(\"logits\", 784, 1), Sigmoid(\"sigmoid\")]\n",
    "model_lr = Model(layers_lr)"
   ]
  },
  {
   "cell_type": "code",
   "execution_count": 19,
   "id": "removed-butler",
   "metadata": {
    "execution": {
     "iopub.execute_input": "2021-02-03T00:05:50.453692Z",
     "iopub.status.busy": "2021-02-03T00:05:50.452892Z",
     "iopub.status.idle": "2021-02-03T00:05:50.465552Z",
     "shell.execute_reply": "2021-02-03T00:05:50.465004Z"
    },
    "papermill": {
     "duration": 0.055269,
     "end_time": "2021-02-03T00:05:50.465699",
     "exception": false,
     "start_time": "2021-02-03T00:05:50.410430",
     "status": "completed"
    },
    "tags": []
   },
   "outputs": [],
   "source": [
    "# suffix _nn stands for Neural Network.\n",
    "learner_nn = Learner(loss, model_nn, opt, config.num_epochs)\n",
    "acc_nn = ClfCallback(learner_nn, config.bs, training_xdata , testing_xdata, training_ydata, testing_ydata)\n",
    "learner_nn.set_callbacks([acc_nn])"
   ]
  },
  {
   "cell_type": "code",
   "execution_count": 20,
   "id": "conceptual-throw",
   "metadata": {
    "execution": {
     "iopub.execute_input": "2021-02-03T00:05:50.542369Z",
     "iopub.status.busy": "2021-02-03T00:05:50.541710Z",
     "iopub.status.idle": "2021-02-03T00:08:11.113979Z",
     "shell.execute_reply": "2021-02-03T00:08:11.113405Z"
    },
    "papermill": {
     "duration": 140.612362,
     "end_time": "2021-02-03T00:08:11.114135",
     "exception": false,
     "start_time": "2021-02-03T00:05:50.501773",
     "status": "completed"
    },
    "tags": []
   },
   "outputs": [
    {
     "name": "stdout",
     "output_type": "stream",
     "text": [
      "====== Neural Network ======\n"
     ]
    },
    {
     "name": "stdout",
     "output_type": "stream",
     "text": [
      "Epoch 0, Loss 0.2486\n",
      "Training Accuracy: 0.6514, Testing Accuracy: 0.6779\n",
      "\n"
     ]
    },
    {
     "name": "stdout",
     "output_type": "stream",
     "text": [
      "Epoch 10, Loss 0.2422\n",
      "Training Accuracy: 0.8012, Testing Accuracy: 0.8191\n",
      "\n"
     ]
    },
    {
     "name": "stdout",
     "output_type": "stream",
     "text": [
      "Epoch 20, Loss 0.2131\n",
      "Training Accuracy: 0.8556, Testing Accuracy: 0.8780\n",
      "\n"
     ]
    },
    {
     "name": "stdout",
     "output_type": "stream",
     "text": [
      "Epoch 30, Loss 0.1202\n",
      "Training Accuracy: 0.8899, Testing Accuracy: 0.9022\n",
      "\n"
     ]
    },
    {
     "name": "stdout",
     "output_type": "stream",
     "text": [
      "Epoch 40, Loss 0.0714\n",
      "Training Accuracy: 0.9241, Testing Accuracy: 0.9365\n",
      "\n"
     ]
    },
    {
     "name": "stdout",
     "output_type": "stream",
     "text": [
      "Epoch 50, Loss 0.0537\n",
      "Training Accuracy: 0.9396, Testing Accuracy: 0.9536\n",
      "\n"
     ]
    },
    {
     "name": "stdout",
     "output_type": "stream",
     "text": [
      "Epoch 60, Loss 0.0451\n",
      "Training Accuracy: 0.9481, Testing Accuracy: 0.9592\n",
      "\n"
     ]
    },
    {
     "name": "stdout",
     "output_type": "stream",
     "text": [
      "Epoch 70, Loss 0.0402\n",
      "Training Accuracy: 0.9531, Testing Accuracy: 0.9617\n",
      "\n"
     ]
    },
    {
     "name": "stdout",
     "output_type": "stream",
     "text": [
      "Epoch 80, Loss 0.037\n",
      "Training Accuracy: 0.9566, Testing Accuracy: 0.9662\n",
      "\n"
     ]
    },
    {
     "name": "stdout",
     "output_type": "stream",
     "text": [
      "Epoch 90, Loss 0.0346\n",
      "Training Accuracy: 0.9586, Testing Accuracy: 0.9672\n",
      "\n"
     ]
    },
    {
     "name": "stdout",
     "output_type": "stream",
     "text": [
      "Epoch 100, Loss 0.0328\n",
      "Training Accuracy: 0.9604, Testing Accuracy: 0.9682\n",
      "\n"
     ]
    },
    {
     "name": "stdout",
     "output_type": "stream",
     "text": [
      "Epoch 110, Loss 0.0314\n",
      "Training Accuracy: 0.9624, Testing Accuracy: 0.9703\n",
      "\n"
     ]
    },
    {
     "name": "stdout",
     "output_type": "stream",
     "text": [
      "Epoch 120, Loss 0.0302\n",
      "Training Accuracy: 0.9644, Testing Accuracy: 0.9713\n",
      "\n"
     ]
    },
    {
     "name": "stdout",
     "output_type": "stream",
     "text": [
      "Epoch 130, Loss 0.0292\n",
      "Training Accuracy: 0.9655, Testing Accuracy: 0.9713\n",
      "\n"
     ]
    },
    {
     "name": "stdout",
     "output_type": "stream",
     "text": [
      "Epoch 140, Loss 0.0283\n",
      "Training Accuracy: 0.9667, Testing Accuracy: 0.9708\n",
      "\n"
     ]
    },
    {
     "name": "stdout",
     "output_type": "stream",
     "text": [
      "Epoch 150, Loss 0.0275\n",
      "Training Accuracy: 0.9677, Testing Accuracy: 0.9713\n",
      "\n"
     ]
    },
    {
     "name": "stdout",
     "output_type": "stream",
     "text": [
      "Epoch 160, Loss 0.0268\n",
      "Training Accuracy: 0.9687, Testing Accuracy: 0.9708\n",
      "\n"
     ]
    },
    {
     "name": "stdout",
     "output_type": "stream",
     "text": [
      "Epoch 170, Loss 0.0261\n",
      "Training Accuracy: 0.9695, Testing Accuracy: 0.9708\n",
      "\n"
     ]
    },
    {
     "name": "stdout",
     "output_type": "stream",
     "text": [
      "Epoch 180, Loss 0.0256\n",
      "Training Accuracy: 0.9703, Testing Accuracy: 0.9713\n",
      "\n"
     ]
    },
    {
     "name": "stdout",
     "output_type": "stream",
     "text": [
      "Epoch 190, Loss 0.025\n",
      "Training Accuracy: 0.9710, Testing Accuracy: 0.9718\n",
      "\n"
     ]
    },
    {
     "name": "stdout",
     "output_type": "stream",
     "text": [
      "Epoch 200, Loss 0.0245\n",
      "Training Accuracy: 0.9717, Testing Accuracy: 0.9713\n",
      "\n"
     ]
    },
    {
     "name": "stdout",
     "output_type": "stream",
     "text": [
      "Epoch 210, Loss 0.024\n",
      "Training Accuracy: 0.9724, Testing Accuracy: 0.9718\n",
      "\n"
     ]
    },
    {
     "name": "stdout",
     "output_type": "stream",
     "text": [
      "Epoch 220, Loss 0.0236\n",
      "Training Accuracy: 0.9725, Testing Accuracy: 0.9718\n",
      "\n"
     ]
    },
    {
     "name": "stdout",
     "output_type": "stream",
     "text": [
      "Epoch 230, Loss 0.0232\n",
      "Training Accuracy: 0.9733, Testing Accuracy: 0.9718\n",
      "\n"
     ]
    },
    {
     "name": "stdout",
     "output_type": "stream",
     "text": [
      "Epoch 240, Loss 0.0228\n",
      "Training Accuracy: 0.9734, Testing Accuracy: 0.9728\n",
      "\n"
     ]
    },
    {
     "name": "stdout",
     "output_type": "stream",
     "text": [
      "Epoch 250, Loss 0.0224\n",
      "Training Accuracy: 0.9740, Testing Accuracy: 0.9728\n",
      "\n"
     ]
    },
    {
     "data": {
      "text/plain": [
       "0.008611295234683881"
      ]
     },
     "execution_count": 20,
     "metadata": {},
     "output_type": "execute_result"
    }
   ],
   "source": [
    "print(\"====== Neural Network ======\")\n",
    "learner_nn.train_loop(dl)"
   ]
  },
  {
   "cell_type": "markdown",
   "id": "competent-suffering",
   "metadata": {
    "papermill": {
     "duration": 0.049409,
     "end_time": "2021-02-03T00:08:11.214075",
     "exception": false,
     "start_time": "2021-02-03T00:08:11.164666",
     "status": "completed"
    },
    "tags": []
   },
   "source": [
    "### Logistic Regression based Implementation."
   ]
  },
  {
   "cell_type": "code",
   "execution_count": 21,
   "id": "qualified-psychiatry",
   "metadata": {
    "execution": {
     "iopub.execute_input": "2021-02-03T00:08:11.313341Z",
     "iopub.status.busy": "2021-02-03T00:08:11.312691Z",
     "iopub.status.idle": "2021-02-03T00:08:11.323950Z",
     "shell.execute_reply": "2021-02-03T00:08:11.323344Z"
    },
    "papermill": {
     "duration": 0.062607,
     "end_time": "2021-02-03T00:08:11.324104",
     "exception": false,
     "start_time": "2021-02-03T00:08:11.261497",
     "status": "completed"
    },
    "tags": []
   },
   "outputs": [],
   "source": [
    "learner_lr = Learner(loss, model_lr, opt, config.num_epochs)\n",
    "acc_lr = ClfCallback(learner_lr, config.bs, training_xdata , testing_xdata, training_ydata, testing_ydata)\n",
    "learner_lr.set_callbacks([acc_lr])"
   ]
  },
  {
   "cell_type": "code",
   "execution_count": 22,
   "id": "average-outside",
   "metadata": {
    "execution": {
     "iopub.execute_input": "2021-02-03T00:08:11.423439Z",
     "iopub.status.busy": "2021-02-03T00:08:11.422752Z",
     "iopub.status.idle": "2021-02-03T00:08:31.457526Z",
     "shell.execute_reply": "2021-02-03T00:08:31.458426Z"
    },
    "papermill": {
     "duration": 20.0881,
     "end_time": "2021-02-03T00:08:31.458630",
     "exception": false,
     "start_time": "2021-02-03T00:08:11.370530",
     "status": "completed"
    },
    "tags": []
   },
   "outputs": [
    {
     "name": "stdout",
     "output_type": "stream",
     "text": [
      "====== Logistic Regression ======\n",
      "Epoch 0, Loss 0.2934\n",
      "Training Accuracy: 0.5335, Testing Accuracy: 0.5610\n",
      "\n"
     ]
    },
    {
     "name": "stdout",
     "output_type": "stream",
     "text": [
      "Epoch 10, Loss 0.1038\n",
      "Training Accuracy: 0.9158, Testing Accuracy: 0.9229\n",
      "\n"
     ]
    },
    {
     "name": "stdout",
     "output_type": "stream",
     "text": [
      "Epoch 20, Loss 0.0791\n",
      "Training Accuracy: 0.9286, Testing Accuracy: 0.9385\n",
      "\n"
     ]
    },
    {
     "name": "stdout",
     "output_type": "stream",
     "text": [
      "Epoch 30, Loss 0.068\n",
      "Training Accuracy: 0.9375, Testing Accuracy: 0.9466\n",
      "\n"
     ]
    },
    {
     "name": "stdout",
     "output_type": "stream",
     "text": [
      "Epoch 40, Loss 0.0614\n",
      "Training Accuracy: 0.9426, Testing Accuracy: 0.9501\n",
      "\n"
     ]
    },
    {
     "name": "stdout",
     "output_type": "stream",
     "text": [
      "Epoch 50, Loss 0.057\n",
      "Training Accuracy: 0.9455, Testing Accuracy: 0.9541\n",
      "\n"
     ]
    },
    {
     "name": "stdout",
     "output_type": "stream",
     "text": [
      "Epoch 60, Loss 0.0537\n",
      "Training Accuracy: 0.9480, Testing Accuracy: 0.9546\n",
      "\n"
     ]
    },
    {
     "name": "stdout",
     "output_type": "stream",
     "text": [
      "Epoch 70, Loss 0.0512\n",
      "Training Accuracy: 0.9498, Testing Accuracy: 0.9567\n",
      "\n"
     ]
    },
    {
     "name": "stdout",
     "output_type": "stream",
     "text": [
      "Epoch 80, Loss 0.0491\n",
      "Training Accuracy: 0.9512, Testing Accuracy: 0.9577\n",
      "\n"
     ]
    },
    {
     "name": "stdout",
     "output_type": "stream",
     "text": [
      "Epoch 90, Loss 0.0474\n",
      "Training Accuracy: 0.9523, Testing Accuracy: 0.9602\n",
      "\n"
     ]
    },
    {
     "name": "stdout",
     "output_type": "stream",
     "text": [
      "Epoch 100, Loss 0.046\n",
      "Training Accuracy: 0.9536, Testing Accuracy: 0.9617\n",
      "\n"
     ]
    },
    {
     "name": "stdout",
     "output_type": "stream",
     "text": [
      "Epoch 110, Loss 0.0448\n",
      "Training Accuracy: 0.9545, Testing Accuracy: 0.9632\n",
      "\n"
     ]
    },
    {
     "name": "stdout",
     "output_type": "stream",
     "text": [
      "Epoch 120, Loss 0.0438\n",
      "Training Accuracy: 0.9553, Testing Accuracy: 0.9632\n",
      "\n"
     ]
    },
    {
     "name": "stdout",
     "output_type": "stream",
     "text": [
      "Epoch 130, Loss 0.0428\n",
      "Training Accuracy: 0.9559, Testing Accuracy: 0.9642\n",
      "\n"
     ]
    },
    {
     "name": "stdout",
     "output_type": "stream",
     "text": [
      "Epoch 140, Loss 0.042\n",
      "Training Accuracy: 0.9564, Testing Accuracy: 0.9652\n",
      "\n"
     ]
    },
    {
     "name": "stdout",
     "output_type": "stream",
     "text": [
      "Epoch 150, Loss 0.0413\n",
      "Training Accuracy: 0.9572, Testing Accuracy: 0.9652\n",
      "\n"
     ]
    },
    {
     "name": "stdout",
     "output_type": "stream",
     "text": [
      "Epoch 160, Loss 0.0406\n",
      "Training Accuracy: 0.9577, Testing Accuracy: 0.9652\n",
      "\n"
     ]
    },
    {
     "name": "stdout",
     "output_type": "stream",
     "text": [
      "Epoch 170, Loss 0.04\n",
      "Training Accuracy: 0.9579, Testing Accuracy: 0.9652\n",
      "\n"
     ]
    },
    {
     "name": "stdout",
     "output_type": "stream",
     "text": [
      "Epoch 180, Loss 0.0394\n",
      "Training Accuracy: 0.9587, Testing Accuracy: 0.9652\n",
      "\n"
     ]
    },
    {
     "name": "stdout",
     "output_type": "stream",
     "text": [
      "Epoch 190, Loss 0.0389\n",
      "Training Accuracy: 0.9592, Testing Accuracy: 0.9652\n",
      "\n"
     ]
    },
    {
     "name": "stdout",
     "output_type": "stream",
     "text": [
      "Epoch 200, Loss 0.0385\n",
      "Training Accuracy: 0.9594, Testing Accuracy: 0.9657\n",
      "\n"
     ]
    },
    {
     "name": "stdout",
     "output_type": "stream",
     "text": [
      "Epoch 210, Loss 0.038\n",
      "Training Accuracy: 0.9597, Testing Accuracy: 0.9652\n",
      "\n"
     ]
    },
    {
     "name": "stdout",
     "output_type": "stream",
     "text": [
      "Epoch 220, Loss 0.0376\n",
      "Training Accuracy: 0.9599, Testing Accuracy: 0.9657\n",
      "\n"
     ]
    },
    {
     "name": "stdout",
     "output_type": "stream",
     "text": [
      "Epoch 230, Loss 0.0372\n",
      "Training Accuracy: 0.9601, Testing Accuracy: 0.9672\n",
      "\n"
     ]
    },
    {
     "name": "stdout",
     "output_type": "stream",
     "text": [
      "Epoch 240, Loss 0.0369\n",
      "Training Accuracy: 0.9602, Testing Accuracy: 0.9672\n",
      "\n"
     ]
    },
    {
     "name": "stdout",
     "output_type": "stream",
     "text": [
      "Epoch 250, Loss 0.0365\n",
      "Training Accuracy: 0.9604, Testing Accuracy: 0.9672\n",
      "\n"
     ]
    },
    {
     "data": {
      "text/plain": [
       "0.011857090657351237"
      ]
     },
     "execution_count": 22,
     "metadata": {},
     "output_type": "execute_result"
    }
   ],
   "source": [
    "print(\"====== Logistic Regression ======\")\n",
    "learner_lr.train_loop(dl)"
   ]
  },
  {
   "cell_type": "markdown",
   "id": "adjusted-possible",
   "metadata": {
    "papermill": {
     "duration": 0.053961,
     "end_time": "2021-02-03T00:08:31.567378",
     "exception": false,
     "start_time": "2021-02-03T00:08:31.513417",
     "status": "completed"
    },
    "tags": []
   },
   "source": [
    "### Comparing results of NN and LR"
   ]
  },
  {
   "cell_type": "code",
   "execution_count": 23,
   "id": "mental-multimedia",
   "metadata": {
    "execution": {
     "iopub.execute_input": "2021-02-03T00:08:31.682263Z",
     "iopub.status.busy": "2021-02-03T00:08:31.681563Z",
     "iopub.status.idle": "2021-02-03T00:08:31.965686Z",
     "shell.execute_reply": "2021-02-03T00:08:31.964637Z"
    },
    "papermill": {
     "duration": 0.344538,
     "end_time": "2021-02-03T00:08:31.965828",
     "exception": false,
     "start_time": "2021-02-03T00:08:31.621290",
     "status": "completed"
    },
    "tags": []
   },
   "outputs": [
    {
     "data": {
      "text/plain": [
       "<matplotlib.legend.Legend at 0x7f60214998d0>"
      ]
     },
     "execution_count": 23,
     "metadata": {},
     "output_type": "execute_result"
    },
    {
     "data": {
      "image/png": "[encoded data removed]",
      "text/plain": [
       "<Figure size 1080x720 with 1 Axes>"
      ]
     },
     "metadata": {
      "needs_background": "light"
     },
     "output_type": "display_data"
    }
   ],
   "source": [
    "plt.figure(figsize=(15,10))\n",
    "\n",
    "# Neural Network plots\n",
    "plt.plot(acc_nn.accuracies, 'r-', label = \"Training Accuracies - NN\")\n",
    "plt.plot(acc_nn.test_accuracies, 'g-', label = \"Testing Accuracies - NN\")\n",
    "\n",
    "# Logistic Regression plots\n",
    "plt.plot(acc_lr.accuracies, 'k-', label = \"Training Accuracies - LR\")\n",
    "plt.plot(acc_lr.test_accuracies, 'b-', label = \"Testing Accuracies - LR\")\n",
    "\n",
    "plt.ylim(0.8, 1)\n",
    "\n",
    "plt.legend()\n",
    "\n"
   ]
  },
  {
   "cell_type": "markdown",
   "id": "sexual-flesh",
   "metadata": {
    "papermill": {
     "duration": 0.057819,
     "end_time": "2021-02-03T00:08:32.074212",
     "exception": false,
     "start_time": "2021-02-03T00:08:32.016393",
     "status": "completed"
    },
    "tags": []
   },
   "source": [
    "### From the plot, we can observe the following:\n",
    "- Neural Network achieves higher accuracy than the Logistic Regression model.\n",
    "- This apparently, is because of overfitting, i.e. NN captures more noise than data.\n",
    "- Testing accuracy of NN drops below the Training accuracy at higher epochs. This explains the over-fitting on training data.\n",
    "- Logistic Regression gives a reliable accuracy, without the above mentioned problem.\n"
   ]
  },
  {
   "cell_type": "markdown",
   "id": "institutional-pacific",
   "metadata": {
    "papermill": {
     "duration": 0.061203,
     "end_time": "2021-02-03T00:08:32.190218",
     "exception": false,
     "start_time": "2021-02-03T00:08:32.129015",
     "status": "completed"
    },
    "tags": []
   },
   "source": [
    "### Moving till the last but one layer (excluding it).\n",
    "#### Plotting the outputs of this layer of the NN."
   ]
  },
  {
   "cell_type": "code",
   "execution_count": 24,
   "id": "economic-server",
   "metadata": {
    "execution": {
     "iopub.execute_input": "2021-02-03T00:08:32.323054Z",
     "iopub.status.busy": "2021-02-03T00:08:32.322041Z",
     "iopub.status.idle": "2021-02-03T00:08:32.327982Z",
     "shell.execute_reply": "2021-02-03T00:08:32.328542Z"
    },
    "papermill": {
     "duration": 0.079665,
     "end_time": "2021-02-03T00:08:32.328727",
     "exception": false,
     "start_time": "2021-02-03T00:08:32.249062",
     "status": "completed"
    },
    "tags": []
   },
   "outputs": [],
   "source": [
    "model_new = Model(layers[:-2])"
   ]
  },
  {
   "cell_type": "code",
   "execution_count": 25,
   "id": "varied-upgrade",
   "metadata": {
    "execution": {
     "iopub.execute_input": "2021-02-03T00:08:32.455486Z",
     "iopub.status.busy": "2021-02-03T00:08:32.447496Z",
     "iopub.status.idle": "2021-02-03T00:08:32.473231Z",
     "shell.execute_reply": "2021-02-03T00:08:32.474086Z"
    },
    "papermill": {
     "duration": 0.089502,
     "end_time": "2021-02-03T00:08:32.474263",
     "exception": false,
     "start_time": "2021-02-03T00:08:32.384761",
     "status": "completed"
    },
    "tags": []
   },
   "outputs": [],
   "source": [
    "plot_testing = model_new(testing_xdata)"
   ]
  },
  {
   "cell_type": "code",
   "execution_count": 26,
   "id": "specific-handling",
   "metadata": {
    "execution": {
     "iopub.execute_input": "2021-02-03T00:08:32.599390Z",
     "iopub.status.busy": "2021-02-03T00:08:32.596152Z",
     "iopub.status.idle": "2021-02-03T00:08:32.827128Z",
     "shell.execute_reply": "2021-02-03T00:08:32.826503Z"
    },
    "papermill": {
     "duration": 0.295186,
     "end_time": "2021-02-03T00:08:32.827288",
     "exception": false,
     "start_time": "2021-02-03T00:08:32.532102",
     "status": "completed"
    },
    "tags": []
   },
   "outputs": [
    {
     "data": {
      "text/plain": [
       "Text(0.5, 1.0, 'Outputs')"
      ]
     },
     "execution_count": 26,
     "metadata": {},
     "output_type": "execute_result"
    },
    {
     "data": {
      "image/png": "[encoded data removed]",
      "text/plain": [
       "<Figure size 576x504 with 1 Axes>"
      ]
     },
     "metadata": {
      "needs_background": "light"
     },
     "output_type": "display_data"
    }
   ],
   "source": [
    "plt.figure(figsize=(8,7))\n",
    "plt.scatter(plot_testing[:,0], plot_testing[:,1], alpha = 0.1, c = y_test.ravel());\n",
    "plt.title('Outputs')"
   ]
  },
  {
   "cell_type": "markdown",
   "id": "described-knowing",
   "metadata": {
    "papermill": {
     "duration": 0.058294,
     "end_time": "2021-02-03T00:08:32.949562",
     "exception": false,
     "start_time": "2021-02-03T00:08:32.891268",
     "status": "completed"
    },
    "tags": []
   },
   "source": [
    "### Plotting probability contours"
   ]
  },
  {
   "cell_type": "code",
   "execution_count": 27,
   "id": "needed-growing",
   "metadata": {
    "execution": {
     "iopub.execute_input": "2021-02-03T00:08:33.075578Z",
     "iopub.status.busy": "2021-02-03T00:08:33.074897Z",
     "iopub.status.idle": "2021-02-03T00:08:33.086647Z",
     "shell.execute_reply": "2021-02-03T00:08:33.086050Z"
    },
    "papermill": {
     "duration": 0.078967,
     "end_time": "2021-02-03T00:08:33.086795",
     "exception": false,
     "start_time": "2021-02-03T00:08:33.007828",
     "status": "completed"
    },
    "tags": []
   },
   "outputs": [],
   "source": [
    "model_prob = Model(layers[-2:]) "
   ]
  },
  {
   "cell_type": "code",
   "execution_count": 28,
   "id": "introductory-enforcement",
   "metadata": {
    "execution": {
     "iopub.execute_input": "2021-02-03T00:08:33.234295Z",
     "iopub.status.busy": "2021-02-03T00:08:33.233592Z",
     "iopub.status.idle": "2021-02-03T00:08:33.250314Z",
     "shell.execute_reply": "2021-02-03T00:08:33.250874Z"
    },
    "papermill": {
     "duration": 0.105407,
     "end_time": "2021-02-03T00:08:33.251051",
     "exception": false,
     "start_time": "2021-02-03T00:08:33.145644",
     "status": "completed"
    },
    "tags": []
   },
   "outputs": [],
   "source": [
    "# Adjust the x and y ranges according to the above generated plot.\n",
    "x_range = np.linspace(-4, 1, 100) \n",
    "y_range = np.linspace(-6, 6, 100) \n",
    "x_grid, y_grid = np.meshgrid(x_range, y_range) # x_grid and y_grig are of size 100 X 100\n",
    "\n",
    "# converting x_grid and y_grid to continuous arrays\n",
    "x_grid_flat = np.ravel(x_grid)\n",
    "y_grid_flat = np.ravel(y_grid)\n",
    "\n",
    "# The last layer of the current model takes two columns as input. Hence transpose of np.vstack() is required.\n",
    "X = np.vstack((x_grid_flat, y_grid_flat)).T\n",
    "\n",
    "# x_grid and y_grid are of size 100 x 100\n",
    "probability_contour = model_prob(X).reshape(100,100) "
   ]
  },
  {
   "cell_type": "code",
   "execution_count": 29,
   "id": "understood-landing",
   "metadata": {
    "execution": {
     "iopub.execute_input": "2021-02-03T00:08:33.383537Z",
     "iopub.status.busy": "2021-02-03T00:08:33.375143Z",
     "iopub.status.idle": "2021-02-03T00:08:33.653888Z",
     "shell.execute_reply": "2021-02-03T00:08:33.653242Z"
    },
    "papermill": {
     "duration": 0.346383,
     "end_time": "2021-02-03T00:08:33.654042",
     "exception": false,
     "start_time": "2021-02-03T00:08:33.307659",
     "status": "completed"
    },
    "tags": []
   },
   "outputs": [
    {
     "data": {
      "image/png": "[encoded data removed]",
      "text/plain": [
       "<Figure size 720x648 with 1 Axes>"
      ]
     },
     "metadata": {
      "needs_background": "light"
     },
     "output_type": "display_data"
    }
   ],
   "source": [
    "plt.figure(figsize=(10,9))\n",
    "plt.scatter(plot_testing[:,0], plot_testing[:,1], alpha = 0.1, c = y_test.ravel())\n",
    "contours = plt.contour(x_grid,y_grid,probability_contour)\n",
    "plt.title('Probability Contours')\n",
    "plt.clabel(contours, inline = True );"
   ]
  }
 ],
 "metadata": {
  "kernelspec": {
   "display_name": "Python 3",
   "language": "python",
   "name": "python3"
  },
  "language_info": {
   "codemirror_mode": {
    "name": "ipython",
    "version": 3
   },
   "file_extension": ".py",
   "mimetype": "text/x-python",
   "name": "python",
   "nbconvert_exporter": "python",
   "pygments_lexer": "ipython3",
   "version": "3.6.12"
  },
  "papermill": {
   "duration": 171.423322,
   "end_time": "2021-02-03T00:08:34.124917",
   "environment_variables": {},
   "exception": null,
   "input_path": "2020-08-11-NeuralNetwork.ipynb",
   "output_path": "2020-08-11-NeuralNetwork.ipynb",
   "parameters": {},
   "start_time": "2021-02-03T00:05:42.701595",
   "version": "2.1.2"
  }
 },
 "nbformat": 4,
 "nbformat_minor": 5
}