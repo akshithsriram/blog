{
 "cells": [
  {
   "cell_type": "markdown",
   "id": "fitted-suggestion",
   "metadata": {
    "papermill": {
     "duration": 0.033004,
     "end_time": "2021-07-17T10:04:53.656526",
     "exception": false,
     "start_time": "2021-07-17T10:04:53.623522",
     "status": "completed"
    },
    "tags": []
   },
   "source": [
    "# \"A Basic Neural Network: Differentiate Hand-Written Digits\"\n",
    "\n",
    "- badges: true\n",
    "- author: Akshith Sriram"
   ]
  },
  {
   "cell_type": "markdown",
   "id": "signal-flexibility",
   "metadata": {
    "papermill": {
     "duration": 0.026245,
     "end_time": "2021-07-17T10:04:53.710458",
     "exception": false,
     "start_time": "2021-07-17T10:04:53.684213",
     "status": "completed"
    },
    "tags": []
   },
   "source": [
    "### Key Objectives:\n",
    "- Building a neural network that differentiates two hand-written digits 3 and 8.\n",
    "- Comparing the results of this Neural Network (NN) to that of a Logistic Regression (LR) model.\n",
    "\n",
    "### Requirements:\n",
    "- 'Kudzu' : A neural network library that was designed during our course by [Univ.AI](www.univ.ai). \n",
    "- MNIST Database\n",
    "\n",
    "If MNIST is not installed, use the command `!pip install mnist` given below.\n",
    "It can be run both from the command line and Jupyter Notebook."
   ]
  },
  {
   "cell_type": "code",
   "execution_count": 1,
   "id": "british-texture",
   "metadata": {
    "execution": {
     "iopub.execute_input": "2021-07-17T10:04:53.773836Z",
     "iopub.status.busy": "2021-07-17T10:04:53.773279Z",
     "iopub.status.idle": "2021-07-17T10:04:55.284287Z",
     "shell.execute_reply": "2021-07-17T10:04:55.283035Z"
    },
    "papermill": {
     "duration": 1.548262,
     "end_time": "2021-07-17T10:04:55.284532",
     "exception": false,
     "start_time": "2021-07-17T10:04:53.736270",
     "status": "completed"
    },
    "tags": []
   },
   "outputs": [
    {
     "name": "stdout",
     "output_type": "stream",
     "text": [
      "Collecting mnist\r\n"
     ]
    },
    {
     "name": "stdout",
     "output_type": "stream",
     "text": [
      "  Downloading mnist-0.2.2-py2.py3-none-any.whl (3.5 kB)\r\n"
     ]
    },
    {
     "name": "stdout",
     "output_type": "stream",
     "text": [
      "Requirement already satisfied: numpy in /opt/hostedtoolcache/Python/3.6.14/x64/lib/python3.6/site-packages (from mnist) (1.19.5)\r\n"
     ]
    },
    {
     "name": "stdout",
     "output_type": "stream",
     "text": [
      "Installing collected packages: mnist\r\n",
      "Successfully installed mnist-0.2.2\r\n"
     ]
    }
   ],
   "source": [
    "!pip install mnist "
   ]
  },
  {
   "cell_type": "markdown",
   "id": "stunning-extra",
   "metadata": {
    "papermill": {
     "duration": 0.027125,
     "end_time": "2021-07-17T10:04:55.342119",
     "exception": false,
     "start_time": "2021-07-17T10:04:55.314994",
     "status": "completed"
    },
    "tags": []
   },
   "source": [
    "#### Importing necessary libraries"
   ]
  },
  {
   "cell_type": "code",
   "execution_count": 2,
   "id": "wooden-france",
   "metadata": {
    "execution": {
     "iopub.execute_input": "2021-07-17T10:04:55.403357Z",
     "iopub.status.busy": "2021-07-17T10:04:55.402424Z",
     "iopub.status.idle": "2021-07-17T10:04:55.930095Z",
     "shell.execute_reply": "2021-07-17T10:04:55.929105Z"
    },
    "papermill": {
     "duration": 0.56191,
     "end_time": "2021-07-17T10:04:55.930229",
     "exception": false,
     "start_time": "2021-07-17T10:04:55.368319",
     "status": "completed"
    },
    "tags": []
   },
   "outputs": [],
   "source": [
    "%load_ext autoreload\n",
    "%autoreload 2\n",
    "\n",
    "%matplotlib inline\n",
    "import matplotlib.pyplot as plt\n",
    "\n",
    "import numpy as np\n",
    "import pandas as pd"
   ]
  },
  {
   "cell_type": "markdown",
   "id": "stunning-physics",
   "metadata": {
    "papermill": {
     "duration": 0.027207,
     "end_time": "2021-07-17T10:04:55.985588",
     "exception": false,
     "start_time": "2021-07-17T10:04:55.958381",
     "status": "completed"
    },
    "tags": []
   },
   "source": [
    "### Preparing the Data"
   ]
  },
  {
   "cell_type": "code",
   "execution_count": 3,
   "id": "unauthorized-remainder",
   "metadata": {
    "execution": {
     "iopub.execute_input": "2021-07-17T10:04:56.044631Z",
     "iopub.status.busy": "2021-07-17T10:04:56.043995Z",
     "iopub.status.idle": "2021-07-17T10:04:56.057467Z",
     "shell.execute_reply": "2021-07-17T10:04:56.057942Z"
    },
    "papermill": {
     "duration": 0.046177,
     "end_time": "2021-07-17T10:04:56.058070",
     "exception": false,
     "start_time": "2021-07-17T10:04:56.011893",
     "status": "completed"
    },
    "tags": []
   },
   "outputs": [],
   "source": [
    "import mnist"
   ]
  },
  {
   "cell_type": "code",
   "execution_count": 4,
   "id": "correct-antarctica",
   "metadata": {
    "execution": {
     "iopub.execute_input": "2021-07-17T10:04:56.116402Z",
     "iopub.status.busy": "2021-07-17T10:04:56.115827Z",
     "iopub.status.idle": "2021-07-17T10:09:18.613783Z",
     "shell.execute_reply": "2021-07-17T10:09:18.612904Z"
    },
    "papermill": {
     "duration": 262.529233,
     "end_time": "2021-07-17T10:09:18.613918",
     "exception": false,
     "start_time": "2021-07-17T10:04:56.084685",
     "status": "completed"
    },
    "tags": []
   },
   "outputs": [],
   "source": [
    "train_images = mnist.train_images()\n",
    "train_labels = mnist.train_labels()"
   ]
  },
  {
   "cell_type": "code",
   "execution_count": 5,
   "id": "musical-prospect",
   "metadata": {
    "execution": {
     "iopub.execute_input": "2021-07-17T10:09:18.676724Z",
     "iopub.status.busy": "2021-07-17T10:09:18.676101Z",
     "iopub.status.idle": "2021-07-17T10:09:18.693444Z",
     "shell.execute_reply": "2021-07-17T10:09:18.693878Z"
    },
    "papermill": {
     "duration": 0.050288,
     "end_time": "2021-07-17T10:09:18.694003",
     "exception": false,
     "start_time": "2021-07-17T10:09:18.643715",
     "status": "completed"
    },
    "tags": []
   },
   "outputs": [
    {
     "data": {
      "text/plain": [
       "((60000, 28, 28), (60000,))"
      ]
     },
     "execution_count": 5,
     "metadata": {},
     "output_type": "execute_result"
    }
   ],
   "source": [
    "train_images.shape, train_labels.shape"
   ]
  },
  {
   "cell_type": "code",
   "execution_count": 6,
   "id": "preliminary-elizabeth",
   "metadata": {
    "execution": {
     "iopub.execute_input": "2021-07-17T10:09:18.753078Z",
     "iopub.status.busy": "2021-07-17T10:09:18.752442Z",
     "iopub.status.idle": "2021-07-17T10:10:01.189192Z",
     "shell.execute_reply": "2021-07-17T10:10:01.188558Z"
    },
    "papermill": {
     "duration": 42.467575,
     "end_time": "2021-07-17T10:10:01.189352",
     "exception": false,
     "start_time": "2021-07-17T10:09:18.721777",
     "status": "completed"
    },
    "tags": []
   },
   "outputs": [],
   "source": [
    "test_images = mnist.test_images()\n",
    "test_labels = mnist.test_labels()"
   ]
  },
  {
   "cell_type": "code",
   "execution_count": 7,
   "id": "acknowledged-oxygen",
   "metadata": {
    "execution": {
     "iopub.execute_input": "2021-07-17T10:10:01.251455Z",
     "iopub.status.busy": "2021-07-17T10:10:01.250911Z",
     "iopub.status.idle": "2021-07-17T10:10:01.264448Z",
     "shell.execute_reply": "2021-07-17T10:10:01.264092Z"
    },
    "papermill": {
     "duration": 0.046431,
     "end_time": "2021-07-17T10:10:01.264544",
     "exception": false,
     "start_time": "2021-07-17T10:10:01.218113",
     "status": "completed"
    },
    "tags": []
   },
   "outputs": [
    {
     "data": {
      "text/plain": [
       "((10000, 28, 28), (10000,))"
      ]
     },
     "execution_count": 7,
     "metadata": {},
     "output_type": "execute_result"
    }
   ],
   "source": [
    "test_images.shape, test_labels.shape"
   ]
  },
  {
   "cell_type": "code",
   "execution_count": 8,
   "id": "innovative-organic",
   "metadata": {
    "execution": {
     "iopub.execute_input": "2021-07-17T10:10:01.325533Z",
     "iopub.status.busy": "2021-07-17T10:10:01.324976Z",
     "iopub.status.idle": "2021-07-17T10:10:01.469557Z",
     "shell.execute_reply": "2021-07-17T10:10:01.468319Z"
    },
    "papermill": {
     "duration": 0.178271,
     "end_time": "2021-07-17T10:10:01.469776",
     "exception": false,
     "start_time": "2021-07-17T10:10:01.291505",
     "status": "completed"
    },
    "tags": []
   },
   "outputs": [
    {
     "name": "stdout",
     "output_type": "stream",
     "text": [
      "2\n"
     ]
    },
    {
     "data": {
      "text/plain": [
       "<matplotlib.image.AxesImage at 0x7f643db13588>"
      ]
     },
     "execution_count": 8,
     "metadata": {},
     "output_type": "execute_result"
    },
    {
     "data": {
      "image/png": "[encoded data removed]",
      "text/plain": [
       "<Figure size 432x288 with 1 Axes>"
      ]
     },
     "metadata": {
      "needs_background": "light"
     },
     "output_type": "display_data"
    }
   ],
   "source": [
    "image_index = 7776 # You may select anything up to 60,000\n",
    "print(train_labels[image_index]) \n",
    "plt.imshow(train_images[image_index], cmap='Greys')"
   ]
  },
  {
   "cell_type": "markdown",
   "id": "facial-modem",
   "metadata": {
    "papermill": {
     "duration": 0.029619,
     "end_time": "2021-07-17T10:10:01.530665",
     "exception": false,
     "start_time": "2021-07-17T10:10:01.501046",
     "status": "completed"
    },
    "tags": []
   },
   "source": [
    "## Filter data to get 3 and 8 out"
   ]
  },
  {
   "cell_type": "code",
   "execution_count": 9,
   "id": "thousand-acquisition",
   "metadata": {
    "execution": {
     "iopub.execute_input": "2021-07-17T10:10:01.601478Z",
     "iopub.status.busy": "2021-07-17T10:10:01.598757Z",
     "iopub.status.idle": "2021-07-17T10:10:01.615366Z",
     "shell.execute_reply": "2021-07-17T10:10:01.614916Z"
    },
    "papermill": {
     "duration": 0.054626,
     "end_time": "2021-07-17T10:10:01.615473",
     "exception": false,
     "start_time": "2021-07-17T10:10:01.560847",
     "status": "completed"
    },
    "tags": []
   },
   "outputs": [],
   "source": [
    "train_filter = np.where((train_labels == 3 ) | (train_labels == 8))\n",
    "test_filter = np.where((test_labels == 3) | (test_labels == 8))\n",
    "X_train, y_train = train_images[train_filter], train_labels[train_filter]\n",
    "X_test, y_test = test_images[test_filter], test_labels[test_filter]"
   ]
  },
  {
   "cell_type": "markdown",
   "id": "ruled-access",
   "metadata": {
    "papermill": {
     "duration": 0.0301,
     "end_time": "2021-07-17T10:10:01.675237",
     "exception": false,
     "start_time": "2021-07-17T10:10:01.645137",
     "status": "completed"
    },
    "tags": []
   },
   "source": [
    "We normalize the pixel values in the 0 to 1 range"
   ]
  },
  {
   "cell_type": "code",
   "execution_count": 10,
   "id": "isolated-denver",
   "metadata": {
    "execution": {
     "iopub.execute_input": "2021-07-17T10:10:01.740398Z",
     "iopub.status.busy": "2021-07-17T10:10:01.739791Z",
     "iopub.status.idle": "2021-07-17T10:10:01.796255Z",
     "shell.execute_reply": "2021-07-17T10:10:01.795352Z"
    },
    "papermill": {
     "duration": 0.091172,
     "end_time": "2021-07-17T10:10:01.796503",
     "exception": false,
     "start_time": "2021-07-17T10:10:01.705331",
     "status": "completed"
    },
    "tags": []
   },
   "outputs": [],
   "source": [
    "X_train = X_train/255.\n",
    "X_test = X_test/255."
   ]
  },
  {
   "cell_type": "markdown",
   "id": "perfect-summary",
   "metadata": {
    "papermill": {
     "duration": 0.032114,
     "end_time": "2021-07-17T10:10:01.859442",
     "exception": false,
     "start_time": "2021-07-17T10:10:01.827328",
     "status": "completed"
    },
    "tags": []
   },
   "source": [
    "Setup the labels as 1 (when the digit is 3) and 0 (when the digit is 8)"
   ]
  },
  {
   "cell_type": "code",
   "execution_count": 11,
   "id": "personalized-growing",
   "metadata": {
    "execution": {
     "iopub.execute_input": "2021-07-17T10:10:01.926282Z",
     "iopub.status.busy": "2021-07-17T10:10:01.925816Z",
     "iopub.status.idle": "2021-07-17T10:10:01.939571Z",
     "shell.execute_reply": "2021-07-17T10:10:01.939133Z"
    },
    "papermill": {
     "duration": 0.048762,
     "end_time": "2021-07-17T10:10:01.939692",
     "exception": false,
     "start_time": "2021-07-17T10:10:01.890930",
     "status": "completed"
    },
    "tags": []
   },
   "outputs": [],
   "source": [
    "y_train = 1*(y_train==3)\n",
    "y_test = 1*(y_test==3)"
   ]
  },
  {
   "cell_type": "code",
   "execution_count": 12,
   "id": "considered-virgin",
   "metadata": {
    "execution": {
     "iopub.execute_input": "2021-07-17T10:10:02.000068Z",
     "iopub.status.busy": "2021-07-17T10:10:01.999505Z",
     "iopub.status.idle": "2021-07-17T10:10:02.012899Z",
     "shell.execute_reply": "2021-07-17T10:10:02.013342Z"
    },
    "papermill": {
     "duration": 0.046314,
     "end_time": "2021-07-17T10:10:02.013471",
     "exception": false,
     "start_time": "2021-07-17T10:10:01.967157",
     "status": "completed"
    },
    "tags": []
   },
   "outputs": [
    {
     "data": {
      "text/plain": [
       "((11982, 28, 28), (1984, 28, 28))"
      ]
     },
     "execution_count": 12,
     "metadata": {},
     "output_type": "execute_result"
    }
   ],
   "source": [
    "X_train.shape, X_test.shape"
   ]
  },
  {
   "cell_type": "markdown",
   "id": "civilian-mobile",
   "metadata": {
    "papermill": {
     "duration": 0.029875,
     "end_time": "2021-07-17T10:10:02.073715",
     "exception": false,
     "start_time": "2021-07-17T10:10:02.043840",
     "status": "completed"
    },
    "tags": []
   },
   "source": [
    "### Reshape the input data to create a linear array"
   ]
  },
  {
   "cell_type": "code",
   "execution_count": 13,
   "id": "colonial-adams",
   "metadata": {
    "execution": {
     "iopub.execute_input": "2021-07-17T10:10:02.135266Z",
     "iopub.status.busy": "2021-07-17T10:10:02.134734Z",
     "iopub.status.idle": "2021-07-17T10:10:02.148100Z",
     "shell.execute_reply": "2021-07-17T10:10:02.147629Z"
    },
    "papermill": {
     "duration": 0.045812,
     "end_time": "2021-07-17T10:10:02.148218",
     "exception": false,
     "start_time": "2021-07-17T10:10:02.102406",
     "status": "completed"
    },
    "tags": []
   },
   "outputs": [
    {
     "data": {
      "text/plain": [
       "((11982, 784), (1984, 784))"
      ]
     },
     "execution_count": 13,
     "metadata": {},
     "output_type": "execute_result"
    }
   ],
   "source": [
    "X_train = X_train.reshape(X_train.shape[0], -1)\n",
    "X_test = X_test.reshape(X_test.shape[0], -1)\n",
    "X_train.shape, X_test.shape"
   ]
  },
  {
   "cell_type": "markdown",
   "id": "smart-details",
   "metadata": {
    "papermill": {
     "duration": 0.028401,
     "end_time": "2021-07-17T10:10:02.205872",
     "exception": false,
     "start_time": "2021-07-17T10:10:02.177471",
     "status": "completed"
    },
    "tags": []
   },
   "source": [
    "### Importing appropriate functions from 'Kudzu'"
   ]
  },
  {
   "cell_type": "code",
   "execution_count": 14,
   "id": "celtic-trial",
   "metadata": {
    "execution": {
     "iopub.execute_input": "2021-07-17T10:10:02.272179Z",
     "iopub.status.busy": "2021-07-17T10:10:02.271633Z",
     "iopub.status.idle": "2021-07-17T10:10:02.292505Z",
     "shell.execute_reply": "2021-07-17T10:10:02.293041Z"
    },
    "papermill": {
     "duration": 0.057481,
     "end_time": "2021-07-17T10:10:02.293189",
     "exception": false,
     "start_time": "2021-07-17T10:10:02.235708",
     "status": "completed"
    },
    "tags": []
   },
   "outputs": [],
   "source": [
    "from kudzu.layer import Sigmoid\n",
    "from kudzu.layer import Relu\n",
    "from kudzu.layer import Affine, Sigmoid\n",
    "\n",
    "from kudzu.model import Model\n",
    "from kudzu.train import Learner\n",
    "from kudzu.optim import GD\n",
    "from kudzu.data import Data, Dataloader, Sampler\n",
    "\n",
    "from kudzu.callbacks import AccCallback\n",
    "from kudzu.callbacks import ClfCallback\n",
    "\n",
    "from kudzu.loss import MSE"
   ]
  },
  {
   "cell_type": "markdown",
   "id": "coupled-customer",
   "metadata": {
    "papermill": {
     "duration": 0.032312,
     "end_time": "2021-07-17T10:10:02.357664",
     "exception": false,
     "start_time": "2021-07-17T10:10:02.325352",
     "status": "completed"
    },
    "tags": []
   },
   "source": [
    "### Let us create a `Config` class, to store important parameters. \n",
    "This class essentially plays the role of a dictionary."
   ]
  },
  {
   "cell_type": "code",
   "execution_count": 15,
   "id": "young-ceiling",
   "metadata": {
    "execution": {
     "iopub.execute_input": "2021-07-17T10:10:02.427370Z",
     "iopub.status.busy": "2021-07-17T10:10:02.426786Z",
     "iopub.status.idle": "2021-07-17T10:10:02.437945Z",
     "shell.execute_reply": "2021-07-17T10:10:02.438416Z"
    },
    "papermill": {
     "duration": 0.049164,
     "end_time": "2021-07-17T10:10:02.438552",
     "exception": false,
     "start_time": "2021-07-17T10:10:02.389388",
     "status": "completed"
    },
    "tags": []
   },
   "outputs": [],
   "source": [
    "class Config:\n",
    "    pass\n",
    "config = Config()\n",
    "config.lr = 0.001\n",
    "config.num_epochs = 251\n",
    "config.bs = 50"
   ]
  },
  {
   "cell_type": "markdown",
   "id": "according-mandate",
   "metadata": {
    "papermill": {
     "duration": 0.03097,
     "end_time": "2021-07-17T10:10:02.498791",
     "exception": false,
     "start_time": "2021-07-17T10:10:02.467821",
     "status": "completed"
    },
    "tags": []
   },
   "source": [
    "### Initializing data to the variables"
   ]
  },
  {
   "cell_type": "code",
   "execution_count": 16,
   "id": "academic-disposition",
   "metadata": {
    "execution": {
     "iopub.execute_input": "2021-07-17T10:10:02.562103Z",
     "iopub.status.busy": "2021-07-17T10:10:02.561537Z",
     "iopub.status.idle": "2021-07-17T10:10:02.573965Z",
     "shell.execute_reply": "2021-07-17T10:10:02.574436Z"
    },
    "papermill": {
     "duration": 0.046381,
     "end_time": "2021-07-17T10:10:02.574570",
     "exception": false,
     "start_time": "2021-07-17T10:10:02.528189",
     "status": "completed"
    },
    "tags": []
   },
   "outputs": [],
   "source": [
    "data = Data(X_train, y_train.reshape(-1,1))\n",
    "sampler = Sampler(data, config.bs, shuffle=True)\n",
    "\n",
    "dl = Dataloader(data, sampler)\n",
    "\n",
    "opt = GD(config.lr)\n",
    "loss = MSE()"
   ]
  },
  {
   "cell_type": "code",
   "execution_count": 17,
   "id": "featured-commission",
   "metadata": {
    "execution": {
     "iopub.execute_input": "2021-07-17T10:10:02.637556Z",
     "iopub.status.busy": "2021-07-17T10:10:02.637066Z",
     "iopub.status.idle": "2021-07-17T10:10:02.650793Z",
     "shell.execute_reply": "2021-07-17T10:10:02.651231Z"
    },
    "papermill": {
     "duration": 0.047448,
     "end_time": "2021-07-17T10:10:02.651364",
     "exception": false,
     "start_time": "2021-07-17T10:10:02.603916",
     "status": "completed"
    },
    "tags": []
   },
   "outputs": [],
   "source": [
    "training_xdata = X_train\n",
    "testing_xdata = X_test\n",
    "training_ydata = y_train.reshape(-1,1)\n",
    "testing_ydata = y_test.reshape(-1,1)"
   ]
  },
  {
   "cell_type": "markdown",
   "id": "played-safety",
   "metadata": {
    "papermill": {
     "duration": 0.028864,
     "end_time": "2021-07-17T10:10:02.708917",
     "exception": false,
     "start_time": "2021-07-17T10:10:02.680053",
     "status": "completed"
    },
    "tags": []
   },
   "source": [
    "### Running Models with the Training data\n",
    "Details about the network layers:\n",
    "- A first affine layer has 784 inputs and does 100 affine transforms. These are followed by a Relu\n",
    "- A second affine layer has 100 inputs from the 100 activations of the past layer, and does 100 affine transforms. These are followed by a Relu\n",
    "- A third affine layer has 100 activations and does 2 affine transformations to create an embedding for visualization. There is no non-linearity here.\n",
    "- A final \"logistic regression\" which has an affine transform from 2 inputs to 1 output, which is squeezed through a sigmoid.\n",
    "\n",
    "Help taken from Anshuman's Notebook."
   ]
  },
  {
   "cell_type": "code",
   "execution_count": 18,
   "id": "asian-bankruptcy",
   "metadata": {
    "execution": {
     "iopub.execute_input": "2021-07-17T10:10:02.778371Z",
     "iopub.status.busy": "2021-07-17T10:10:02.777868Z",
     "iopub.status.idle": "2021-07-17T10:10:02.795344Z",
     "shell.execute_reply": "2021-07-17T10:10:02.794841Z"
    },
    "papermill": {
     "duration": 0.052863,
     "end_time": "2021-07-17T10:10:02.795462",
     "exception": false,
     "start_time": "2021-07-17T10:10:02.742599",
     "status": "completed"
    },
    "tags": []
   },
   "outputs": [],
   "source": [
    "# layers for the Neural Network\n",
    "layers = [Affine(\"first\", 784, 100), Relu(\"first\"), Affine(\"second\", 100, 100), Relu(\"second\"), Affine(\"third\", 100, 2), Affine(\"final\", 2, 1), Sigmoid(\"final\")]\n",
    "model_nn = Model(layers)\n",
    "\n",
    "# layers for the Logistic Regression\n",
    "layers_lr = [Affine(\"logits\", 784, 1), Sigmoid(\"sigmoid\")]\n",
    "model_lr = Model(layers_lr)"
   ]
  },
  {
   "cell_type": "code",
   "execution_count": 19,
   "id": "removed-butler",
   "metadata": {
    "execution": {
     "iopub.execute_input": "2021-07-17T10:10:02.857998Z",
     "iopub.status.busy": "2021-07-17T10:10:02.857587Z",
     "iopub.status.idle": "2021-07-17T10:10:02.872853Z",
     "shell.execute_reply": "2021-07-17T10:10:02.872468Z"
    },
    "papermill": {
     "duration": 0.048855,
     "end_time": "2021-07-17T10:10:02.872951",
     "exception": false,
     "start_time": "2021-07-17T10:10:02.824096",
     "status": "completed"
    },
    "tags": []
   },
   "outputs": [],
   "source": [
    "# suffix _nn stands for Neural Network.\n",
    "learner_nn = Learner(loss, model_nn, opt, config.num_epochs)\n",
    "acc_nn = ClfCallback(learner_nn, config.bs, training_xdata , testing_xdata, training_ydata, testing_ydata)\n",
    "learner_nn.set_callbacks([acc_nn])"
   ]
  },
  {
   "cell_type": "code",
   "execution_count": 20,
   "id": "conceptual-throw",
   "metadata": {
    "execution": {
     "iopub.execute_input": "2021-07-17T10:10:02.936091Z",
     "iopub.status.busy": "2021-07-17T10:10:02.935516Z",
     "iopub.status.idle": "2021-07-17T10:11:26.290539Z",
     "shell.execute_reply": "2021-07-17T10:11:26.291051Z"
    },
    "papermill": {
     "duration": 83.388582,
     "end_time": "2021-07-17T10:11:26.291190",
     "exception": false,
     "start_time": "2021-07-17T10:10:02.902608",
     "status": "completed"
    },
    "tags": []
   },
   "outputs": [
    {
     "name": "stdout",
     "output_type": "stream",
     "text": [
      "====== Neural Network ======\n"
     ]
    },
    {
     "name": "stdout",
     "output_type": "stream",
     "text": [
      "Epoch 0, Loss 0.2351\n",
      "Training Accuracy: 0.7410, Testing Accuracy: 0.7601\n",
      "\n"
     ]
    },
    {
     "name": "stdout",
     "output_type": "stream",
     "text": [
      "Epoch 10, Loss 0.0648\n",
      "Training Accuracy: 0.9363, Testing Accuracy: 0.9476\n",
      "\n"
     ]
    },
    {
     "name": "stdout",
     "output_type": "stream",
     "text": [
      "Epoch 20, Loss 0.0455\n",
      "Training Accuracy: 0.9507, Testing Accuracy: 0.9577\n",
      "\n"
     ]
    },
    {
     "name": "stdout",
     "output_type": "stream",
     "text": [
      "Epoch 30, Loss 0.0379\n",
      "Training Accuracy: 0.9584, Testing Accuracy: 0.9627\n",
      "\n"
     ]
    },
    {
     "name": "stdout",
     "output_type": "stream",
     "text": [
      "Epoch 40, Loss 0.0338\n",
      "Training Accuracy: 0.9629, Testing Accuracy: 0.9667\n",
      "\n"
     ]
    },
    {
     "name": "stdout",
     "output_type": "stream",
     "text": [
      "Epoch 50, Loss 0.031\n",
      "Training Accuracy: 0.9659, Testing Accuracy: 0.9667\n",
      "\n"
     ]
    },
    {
     "name": "stdout",
     "output_type": "stream",
     "text": [
      "Epoch 60, Loss 0.0291\n",
      "Training Accuracy: 0.9670, Testing Accuracy: 0.9667\n",
      "\n"
     ]
    },
    {
     "name": "stdout",
     "output_type": "stream",
     "text": [
      "Epoch 70, Loss 0.0275\n",
      "Training Accuracy: 0.9679, Testing Accuracy: 0.9677\n",
      "\n"
     ]
    },
    {
     "name": "stdout",
     "output_type": "stream",
     "text": [
      "Epoch 80, Loss 0.0262\n",
      "Training Accuracy: 0.9687, Testing Accuracy: 0.9693\n",
      "\n"
     ]
    },
    {
     "name": "stdout",
     "output_type": "stream",
     "text": [
      "Epoch 90, Loss 0.0251\n",
      "Training Accuracy: 0.9701, Testing Accuracy: 0.9713\n",
      "\n"
     ]
    },
    {
     "name": "stdout",
     "output_type": "stream",
     "text": [
      "Epoch 100, Loss 0.0242\n",
      "Training Accuracy: 0.9706, Testing Accuracy: 0.9723\n",
      "\n"
     ]
    },
    {
     "name": "stdout",
     "output_type": "stream",
     "text": [
      "Epoch 110, Loss 0.0234\n",
      "Training Accuracy: 0.9726, Testing Accuracy: 0.9723\n",
      "\n"
     ]
    },
    {
     "name": "stdout",
     "output_type": "stream",
     "text": [
      "Epoch 120, Loss 0.0226\n",
      "Training Accuracy: 0.9737, Testing Accuracy: 0.9743\n",
      "\n"
     ]
    },
    {
     "name": "stdout",
     "output_type": "stream",
     "text": [
      "Epoch 130, Loss 0.0219\n",
      "Training Accuracy: 0.9747, Testing Accuracy: 0.9748\n",
      "\n"
     ]
    },
    {
     "name": "stdout",
     "output_type": "stream",
     "text": [
      "Epoch 140, Loss 0.0212\n",
      "Training Accuracy: 0.9762, Testing Accuracy: 0.9753\n",
      "\n"
     ]
    },
    {
     "name": "stdout",
     "output_type": "stream",
     "text": [
      "Epoch 150, Loss 0.0206\n",
      "Training Accuracy: 0.9767, Testing Accuracy: 0.9758\n",
      "\n"
     ]
    },
    {
     "name": "stdout",
     "output_type": "stream",
     "text": [
      "Epoch 160, Loss 0.0201\n",
      "Training Accuracy: 0.9771, Testing Accuracy: 0.9753\n",
      "\n"
     ]
    },
    {
     "name": "stdout",
     "output_type": "stream",
     "text": [
      "Epoch 170, Loss 0.0195\n",
      "Training Accuracy: 0.9782, Testing Accuracy: 0.9758\n",
      "\n"
     ]
    },
    {
     "name": "stdout",
     "output_type": "stream",
     "text": [
      "Epoch 180, Loss 0.0191\n",
      "Training Accuracy: 0.9789, Testing Accuracy: 0.9753\n",
      "\n"
     ]
    },
    {
     "name": "stdout",
     "output_type": "stream",
     "text": [
      "Epoch 190, Loss 0.0186\n",
      "Training Accuracy: 0.9799, Testing Accuracy: 0.9763\n",
      "\n"
     ]
    },
    {
     "name": "stdout",
     "output_type": "stream",
     "text": [
      "Epoch 200, Loss 0.0181\n",
      "Training Accuracy: 0.9804, Testing Accuracy: 0.9763\n",
      "\n"
     ]
    },
    {
     "name": "stdout",
     "output_type": "stream",
     "text": [
      "Epoch 210, Loss 0.0177\n",
      "Training Accuracy: 0.9807, Testing Accuracy: 0.9763\n",
      "\n"
     ]
    },
    {
     "name": "stdout",
     "output_type": "stream",
     "text": [
      "Epoch 220, Loss 0.0173\n",
      "Training Accuracy: 0.9816, Testing Accuracy: 0.9763\n",
      "\n"
     ]
    },
    {
     "name": "stdout",
     "output_type": "stream",
     "text": [
      "Epoch 230, Loss 0.0169\n",
      "Training Accuracy: 0.9823, Testing Accuracy: 0.9763\n",
      "\n"
     ]
    },
    {
     "name": "stdout",
     "output_type": "stream",
     "text": [
      "Epoch 240, Loss 0.0165\n",
      "Training Accuracy: 0.9831, Testing Accuracy: 0.9763\n",
      "\n"
     ]
    },
    {
     "name": "stdout",
     "output_type": "stream",
     "text": [
      "Epoch 250, Loss 0.0161\n",
      "Training Accuracy: 0.9832, Testing Accuracy: 0.9773\n",
      "\n"
     ]
    },
    {
     "data": {
      "text/plain": [
       "0.000877965590345201"
      ]
     },
     "execution_count": 20,
     "metadata": {},
     "output_type": "execute_result"
    }
   ],
   "source": [
    "print(\"====== Neural Network ======\")\n",
    "learner_nn.train_loop(dl)"
   ]
  },
  {
   "cell_type": "markdown",
   "id": "competent-suffering",
   "metadata": {
    "papermill": {
     "duration": 0.036529,
     "end_time": "2021-07-17T10:11:26.370622",
     "exception": false,
     "start_time": "2021-07-17T10:11:26.334093",
     "status": "completed"
    },
    "tags": []
   },
   "source": [
    "### Logistic Regression based Implementation."
   ]
  },
  {
   "cell_type": "code",
   "execution_count": 21,
   "id": "qualified-psychiatry",
   "metadata": {
    "execution": {
     "iopub.execute_input": "2021-07-17T10:11:26.455500Z",
     "iopub.status.busy": "2021-07-17T10:11:26.453230Z",
     "iopub.status.idle": "2021-07-17T10:11:26.465630Z",
     "shell.execute_reply": "2021-07-17T10:11:26.465205Z"
    },
    "papermill": {
     "duration": 0.057345,
     "end_time": "2021-07-17T10:11:26.465766",
     "exception": false,
     "start_time": "2021-07-17T10:11:26.408421",
     "status": "completed"
    },
    "tags": []
   },
   "outputs": [],
   "source": [
    "learner_lr = Learner(loss, model_lr, opt, config.num_epochs)\n",
    "acc_lr = ClfCallback(learner_lr, config.bs, training_xdata , testing_xdata, training_ydata, testing_ydata)\n",
    "learner_lr.set_callbacks([acc_lr])"
   ]
  },
  {
   "cell_type": "code",
   "execution_count": 22,
   "id": "average-outside",
   "metadata": {
    "execution": {
     "iopub.execute_input": "2021-07-17T10:11:26.543541Z",
     "iopub.status.busy": "2021-07-17T10:11:26.541974Z",
     "iopub.status.idle": "2021-07-17T10:11:41.012366Z",
     "shell.execute_reply": "2021-07-17T10:11:41.013068Z"
    },
    "papermill": {
     "duration": 14.511587,
     "end_time": "2021-07-17T10:11:41.013215",
     "exception": false,
     "start_time": "2021-07-17T10:11:26.501628",
     "status": "completed"
    },
    "tags": []
   },
   "outputs": [
    {
     "name": "stdout",
     "output_type": "stream",
     "text": [
      "====== Logistic Regression ======\n",
      "Epoch 0, Loss 0.2191\n",
      "Training Accuracy: 0.7705, Testing Accuracy: 0.7954\n",
      "\n"
     ]
    },
    {
     "name": "stdout",
     "output_type": "stream",
     "text": [
      "Epoch 10, Loss 0.1002\n",
      "Training Accuracy: 0.9126, Testing Accuracy: 0.9249\n",
      "\n"
     ]
    },
    {
     "name": "stdout",
     "output_type": "stream",
     "text": [
      "Epoch 20, Loss 0.0783\n",
      "Training Accuracy: 0.9294, Testing Accuracy: 0.9400\n",
      "\n"
     ]
    },
    {
     "name": "stdout",
     "output_type": "stream",
     "text": [
      "Epoch 30, Loss 0.0678\n",
      "Training Accuracy: 0.9373, Testing Accuracy: 0.9461\n",
      "\n"
     ]
    },
    {
     "name": "stdout",
     "output_type": "stream",
     "text": [
      "Epoch 40, Loss 0.0615\n",
      "Training Accuracy: 0.9423, Testing Accuracy: 0.9506\n",
      "\n"
     ]
    },
    {
     "name": "stdout",
     "output_type": "stream",
     "text": [
      "Epoch 50, Loss 0.0571\n",
      "Training Accuracy: 0.9453, Testing Accuracy: 0.9541\n",
      "\n"
     ]
    },
    {
     "name": "stdout",
     "output_type": "stream",
     "text": [
      "Epoch 60, Loss 0.0539\n",
      "Training Accuracy: 0.9467, Testing Accuracy: 0.9551\n",
      "\n"
     ]
    },
    {
     "name": "stdout",
     "output_type": "stream",
     "text": [
      "Epoch 70, Loss 0.0514\n",
      "Training Accuracy: 0.9489, Testing Accuracy: 0.9567\n",
      "\n"
     ]
    },
    {
     "name": "stdout",
     "output_type": "stream",
     "text": [
      "Epoch 80, Loss 0.0494\n",
      "Training Accuracy: 0.9505, Testing Accuracy: 0.9602\n",
      "\n"
     ]
    },
    {
     "name": "stdout",
     "output_type": "stream",
     "text": [
      "Epoch 90, Loss 0.0477\n",
      "Training Accuracy: 0.9517, Testing Accuracy: 0.9627\n",
      "\n"
     ]
    },
    {
     "name": "stdout",
     "output_type": "stream",
     "text": [
      "Epoch 100, Loss 0.0463\n",
      "Training Accuracy: 0.9530, Testing Accuracy: 0.9617\n",
      "\n"
     ]
    },
    {
     "name": "stdout",
     "output_type": "stream",
     "text": [
      "Epoch 110, Loss 0.0451\n",
      "Training Accuracy: 0.9533, Testing Accuracy: 0.9622\n",
      "\n"
     ]
    },
    {
     "name": "stdout",
     "output_type": "stream",
     "text": [
      "Epoch 120, Loss 0.044\n",
      "Training Accuracy: 0.9540, Testing Accuracy: 0.9632\n",
      "\n"
     ]
    },
    {
     "name": "stdout",
     "output_type": "stream",
     "text": [
      "Epoch 130, Loss 0.0431\n",
      "Training Accuracy: 0.9549, Testing Accuracy: 0.9632\n",
      "\n"
     ]
    },
    {
     "name": "stdout",
     "output_type": "stream",
     "text": [
      "Epoch 140, Loss 0.0423\n",
      "Training Accuracy: 0.9553, Testing Accuracy: 0.9637\n",
      "\n"
     ]
    },
    {
     "name": "stdout",
     "output_type": "stream",
     "text": [
      "Epoch 150, Loss 0.0415\n",
      "Training Accuracy: 0.9559, Testing Accuracy: 0.9637\n",
      "\n"
     ]
    },
    {
     "name": "stdout",
     "output_type": "stream",
     "text": [
      "Epoch 160, Loss 0.0409\n",
      "Training Accuracy: 0.9569, Testing Accuracy: 0.9637\n",
      "\n"
     ]
    },
    {
     "name": "stdout",
     "output_type": "stream",
     "text": [
      "Epoch 170, Loss 0.0403\n",
      "Training Accuracy: 0.9577, Testing Accuracy: 0.9642\n",
      "\n"
     ]
    },
    {
     "name": "stdout",
     "output_type": "stream",
     "text": [
      "Epoch 180, Loss 0.0397\n",
      "Training Accuracy: 0.9580, Testing Accuracy: 0.9642\n",
      "\n"
     ]
    },
    {
     "name": "stdout",
     "output_type": "stream",
     "text": [
      "Epoch 190, Loss 0.0392\n",
      "Training Accuracy: 0.9587, Testing Accuracy: 0.9637\n",
      "\n"
     ]
    },
    {
     "name": "stdout",
     "output_type": "stream",
     "text": [
      "Epoch 200, Loss 0.0387\n",
      "Training Accuracy: 0.9589, Testing Accuracy: 0.9637\n",
      "\n"
     ]
    },
    {
     "name": "stdout",
     "output_type": "stream",
     "text": [
      "Epoch 210, Loss 0.0383\n",
      "Training Accuracy: 0.9594, Testing Accuracy: 0.9637\n",
      "\n"
     ]
    },
    {
     "name": "stdout",
     "output_type": "stream",
     "text": [
      "Epoch 220, Loss 0.0378\n",
      "Training Accuracy: 0.9597, Testing Accuracy: 0.9647\n",
      "\n"
     ]
    },
    {
     "name": "stdout",
     "output_type": "stream",
     "text": [
      "Epoch 230, Loss 0.0375\n",
      "Training Accuracy: 0.9597, Testing Accuracy: 0.9637\n",
      "\n"
     ]
    },
    {
     "name": "stdout",
     "output_type": "stream",
     "text": [
      "Epoch 240, Loss 0.0371\n",
      "Training Accuracy: 0.9599, Testing Accuracy: 0.9642\n",
      "\n"
     ]
    },
    {
     "name": "stdout",
     "output_type": "stream",
     "text": [
      "Epoch 250, Loss 0.0368\n",
      "Training Accuracy: 0.9604, Testing Accuracy: 0.9642\n",
      "\n"
     ]
    },
    {
     "data": {
      "text/plain": [
       "0.024858458426635942"
      ]
     },
     "execution_count": 22,
     "metadata": {},
     "output_type": "execute_result"
    }
   ],
   "source": [
    "print(\"====== Logistic Regression ======\")\n",
    "learner_lr.train_loop(dl)"
   ]
  },
  {
   "cell_type": "markdown",
   "id": "adjusted-possible",
   "metadata": {
    "papermill": {
     "duration": 0.045306,
     "end_time": "2021-07-17T10:11:41.104481",
     "exception": false,
     "start_time": "2021-07-17T10:11:41.059175",
     "status": "completed"
    },
    "tags": []
   },
   "source": [
    "### Comparing results of NN and LR"
   ]
  },
  {
   "cell_type": "code",
   "execution_count": 23,
   "id": "mental-multimedia",
   "metadata": {
    "execution": {
     "iopub.execute_input": "2021-07-17T10:11:41.205448Z",
     "iopub.status.busy": "2021-07-17T10:11:41.204849Z",
     "iopub.status.idle": "2021-07-17T10:11:41.452340Z",
     "shell.execute_reply": "2021-07-17T10:11:41.451520Z"
    },
    "papermill": {
     "duration": 0.303525,
     "end_time": "2021-07-17T10:11:41.452560",
     "exception": false,
     "start_time": "2021-07-17T10:11:41.149035",
     "status": "completed"
    },
    "tags": []
   },
   "outputs": [
    {
     "data": {
      "text/plain": [
       "<matplotlib.legend.Legend at 0x7f64302ec1d0>"
      ]
     },
     "execution_count": 23,
     "metadata": {},
     "output_type": "execute_result"
    },
    {
     "data": {
      "image/png": "[encoded data removed]",
      "text/plain": [
       "<Figure size 1080x720 with 1 Axes>"
      ]
     },
     "metadata": {
      "needs_background": "light"
     },
     "output_type": "display_data"
    }
   ],
   "source": [
    "plt.figure(figsize=(15,10))\n",
    "\n",
    "# Neural Network plots\n",
    "plt.plot(acc_nn.accuracies, 'r-', label = \"Training Accuracies - NN\")\n",
    "plt.plot(acc_nn.test_accuracies, 'g-', label = \"Testing Accuracies - NN\")\n",
    "\n",
    "# Logistic Regression plots\n",
    "plt.plot(acc_lr.accuracies, 'k-', label = \"Training Accuracies - LR\")\n",
    "plt.plot(acc_lr.test_accuracies, 'b-', label = \"Testing Accuracies - LR\")\n",
    "\n",
    "plt.ylim(0.8, 1)\n",
    "\n",
    "plt.legend()\n",
    "\n"
   ]
  },
  {
   "cell_type": "markdown",
   "id": "sexual-flesh",
   "metadata": {
    "papermill": {
     "duration": 0.04658,
     "end_time": "2021-07-17T10:11:41.546809",
     "exception": false,
     "start_time": "2021-07-17T10:11:41.500229",
     "status": "completed"
    },
    "tags": []
   },
   "source": [
    "### From the plot, we can observe the following:\n",
    "- Neural Network achieves higher accuracy than the Logistic Regression model.\n",
    "- This apparently, is because of overfitting, i.e. NN captures more noise than data.\n",
    "- Testing accuracy of NN drops below the Training accuracy at higher epochs. This explains the over-fitting on training data.\n",
    "- Logistic Regression gives a reliable accuracy, without the above mentioned problem.\n"
   ]
  },
  {
   "cell_type": "markdown",
   "id": "institutional-pacific",
   "metadata": {
    "papermill": {
     "duration": 0.046672,
     "end_time": "2021-07-17T10:11:41.638831",
     "exception": false,
     "start_time": "2021-07-17T10:11:41.592159",
     "status": "completed"
    },
    "tags": []
   },
   "source": [
    "### Moving till the last but one layer (excluding it).\n",
    "#### Plotting the outputs of this layer of the NN."
   ]
  },
  {
   "cell_type": "code",
   "execution_count": 24,
   "id": "economic-server",
   "metadata": {
    "execution": {
     "iopub.execute_input": "2021-07-17T10:11:41.732528Z",
     "iopub.status.busy": "2021-07-17T10:11:41.731981Z",
     "iopub.status.idle": "2021-07-17T10:11:41.744081Z",
     "shell.execute_reply": "2021-07-17T10:11:41.743652Z"
    },
    "papermill": {
     "duration": 0.06132,
     "end_time": "2021-07-17T10:11:41.744195",
     "exception": false,
     "start_time": "2021-07-17T10:11:41.682875",
     "status": "completed"
    },
    "tags": []
   },
   "outputs": [],
   "source": [
    "model_new = Model(layers[:-2])"
   ]
  },
  {
   "cell_type": "code",
   "execution_count": 25,
   "id": "varied-upgrade",
   "metadata": {
    "execution": {
     "iopub.execute_input": "2021-07-17T10:11:41.839315Z",
     "iopub.status.busy": "2021-07-17T10:11:41.838803Z",
     "iopub.status.idle": "2021-07-17T10:11:41.859133Z",
     "shell.execute_reply": "2021-07-17T10:11:41.859523Z"
    },
    "papermill": {
     "duration": 0.071391,
     "end_time": "2021-07-17T10:11:41.859670",
     "exception": false,
     "start_time": "2021-07-17T10:11:41.788279",
     "status": "completed"
    },
    "tags": []
   },
   "outputs": [],
   "source": [
    "plot_testing = model_new(testing_xdata)"
   ]
  },
  {
   "cell_type": "code",
   "execution_count": 26,
   "id": "specific-handling",
   "metadata": {
    "execution": {
     "iopub.execute_input": "2021-07-17T10:11:41.984969Z",
     "iopub.status.busy": "2021-07-17T10:11:41.984383Z",
     "iopub.status.idle": "2021-07-17T10:11:42.240787Z",
     "shell.execute_reply": "2021-07-17T10:11:42.240272Z"
    },
    "papermill": {
     "duration": 0.30725,
     "end_time": "2021-07-17T10:11:42.240913",
     "exception": false,
     "start_time": "2021-07-17T10:11:41.933663",
     "status": "completed"
    },
    "tags": []
   },
   "outputs": [
    {
     "data": {
      "text/plain": [
       "Text(0.5, 1.0, 'Outputs')"
      ]
     },
     "execution_count": 26,
     "metadata": {},
     "output_type": "execute_result"
    },
    {
     "data": {
      "image/png": "[encoded data removed]",
      "text/plain": [
       "<Figure size 576x504 with 1 Axes>"
      ]
     },
     "metadata": {
      "needs_background": "light"
     },
     "output_type": "display_data"
    }
   ],
   "source": [
    "plt.figure(figsize=(8,7))\n",
    "plt.scatter(plot_testing[:,0], plot_testing[:,1], alpha = 0.1, c = y_test.ravel());\n",
    "plt.title('Outputs')"
   ]
  },
  {
   "cell_type": "markdown",
   "id": "described-knowing",
   "metadata": {
    "papermill": {
     "duration": 0.048253,
     "end_time": "2021-07-17T10:11:42.338469",
     "exception": false,
     "start_time": "2021-07-17T10:11:42.290216",
     "status": "completed"
    },
    "tags": []
   },
   "source": [
    "### Plotting probability contours"
   ]
  },
  {
   "cell_type": "code",
   "execution_count": 27,
   "id": "needed-growing",
   "metadata": {
    "execution": {
     "iopub.execute_input": "2021-07-17T10:11:42.436284Z",
     "iopub.status.busy": "2021-07-17T10:11:42.435740Z",
     "iopub.status.idle": "2021-07-17T10:11:42.449466Z",
     "shell.execute_reply": "2021-07-17T10:11:42.449008Z"
    },
    "papermill": {
     "duration": 0.063096,
     "end_time": "2021-07-17T10:11:42.449575",
     "exception": false,
     "start_time": "2021-07-17T10:11:42.386479",
     "status": "completed"
    },
    "tags": []
   },
   "outputs": [],
   "source": [
    "model_prob = Model(layers[-2:]) "
   ]
  },
  {
   "cell_type": "code",
   "execution_count": 28,
   "id": "introductory-enforcement",
   "metadata": {
    "execution": {
     "iopub.execute_input": "2021-07-17T10:11:42.550477Z",
     "iopub.status.busy": "2021-07-17T10:11:42.549398Z",
     "iopub.status.idle": "2021-07-17T10:11:42.563043Z",
     "shell.execute_reply": "2021-07-17T10:11:42.563449Z"
    },
    "papermill": {
     "duration": 0.066212,
     "end_time": "2021-07-17T10:11:42.563580",
     "exception": false,
     "start_time": "2021-07-17T10:11:42.497368",
     "status": "completed"
    },
    "tags": []
   },
   "outputs": [],
   "source": [
    "# Adjust the x and y ranges according to the above generated plot.\n",
    "x_range = np.linspace(-4, 1, 100) \n",
    "y_range = np.linspace(-6, 6, 100) \n",
    "x_grid, y_grid = np.meshgrid(x_range, y_range) # x_grid and y_grig are of size 100 X 100\n",
    "\n",
    "# converting x_grid and y_grid to continuous arrays\n",
    "x_grid_flat = np.ravel(x_grid)\n",
    "y_grid_flat = np.ravel(y_grid)\n",
    "\n",
    "# The last layer of the current model takes two columns as input. Hence transpose of np.vstack() is required.\n",
    "X = np.vstack((x_grid_flat, y_grid_flat)).T\n",
    "\n",
    "# x_grid and y_grid are of size 100 x 100\n",
    "probability_contour = model_prob(X).reshape(100,100) "
   ]
  },
  {
   "cell_type": "code",
   "execution_count": 29,
   "id": "understood-landing",
   "metadata": {
    "execution": {
     "iopub.execute_input": "2021-07-17T10:11:42.677277Z",
     "iopub.status.busy": "2021-07-17T10:11:42.676866Z",
     "iopub.status.idle": "2021-07-17T10:11:42.921359Z",
     "shell.execute_reply": "2021-07-17T10:11:42.920925Z"
    },
    "papermill": {
     "duration": 0.308144,
     "end_time": "2021-07-17T10:11:42.921492",
     "exception": false,
     "start_time": "2021-07-17T10:11:42.613348",
     "status": "completed"
    },
    "tags": []
   },
   "outputs": [
    {
     "data": {
      "image/png": "[encoded data removed]",
      "text/plain": [
       "<Figure size 720x648 with 1 Axes>"
      ]
     },
     "metadata": {
      "needs_background": "light"
     },
     "output_type": "display_data"
    }
   ],
   "source": [
    "plt.figure(figsize=(10,9))\n",
    "plt.scatter(plot_testing[:,0], plot_testing[:,1], alpha = 0.1, c = y_test.ravel())\n",
    "contours = plt.contour(x_grid,y_grid,probability_contour)\n",
    "plt.title('Probability Contours')\n",
    "plt.clabel(contours, inline = True );"
   ]
  }
 ],
 "metadata": {
  "kernelspec": {
   "display_name": "Python 3",
   "language": "python",
   "name": "python3"
  },
  "language_info": {
   "codemirror_mode": {
    "name": "ipython",
    "version": 3
   },
   "file_extension": ".py",
   "mimetype": "text/x-python",
   "name": "python",
   "nbconvert_exporter": "python",
   "pygments_lexer": "ipython3",
   "version": "3.6.14"
  },
  "papermill": {
   "duration": 410.851704,
   "end_time": "2021-07-17T10:11:43.285505",
   "environment_variables": {},
   "exception": null,
   "input_path": "2020-08-11-NeuralNetwork.ipynb",
   "output_path": "2020-08-11-NeuralNetwork.ipynb",
   "parameters": {},
   "start_time": "2021-07-17T10:04:52.433801",
   "version": "2.1.2"
  }
 },
 "nbformat": 4,
 "nbformat_minor": 5
}