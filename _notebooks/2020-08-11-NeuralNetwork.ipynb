{
 "cells": [
  {
   "cell_type": "markdown",
   "metadata": {
    "papermill": {
     "duration": 0.031696,
     "end_time": "2020-10-05T00:07:16.167549",
     "exception": false,
     "start_time": "2020-10-05T00:07:16.135853",
     "status": "completed"
    },
    "tags": []
   },
   "source": [
    "# \"A Basic Neural Network: Differentiate Hand-Written Digits\"\n",
    "\n",
    "- badges: true\n",
    "- author: Akshith Sriram"
   ]
  },
  {
   "cell_type": "markdown",
   "metadata": {
    "papermill": {
     "duration": 0.024579,
     "end_time": "2020-10-05T00:07:16.217010",
     "exception": false,
     "start_time": "2020-10-05T00:07:16.192431",
     "status": "completed"
    },
    "tags": []
   },
   "source": [
    "### Key Objectives:\n",
    "- Building a neural network that differentiates two hand-written digits 3 and 8.\n",
    "- Comparing the results of this Neural Network (NN) to that of a Logistic Regression (LR) model.\n",
    "\n",
    "### Requirements:\n",
    "- 'Kudzu' : A neural network library that was designed during our course by [Univ.AI](www.univ.ai). \n",
    "- MNIST Database\n",
    "\n",
    "If MNIST is not installed, use the command `!pip install mnist` given below.\n",
    "It can be run both from the command line and Jupyter Notebook."
   ]
  },
  {
   "cell_type": "code",
   "execution_count": 1,
   "metadata": {
    "execution": {
     "iopub.execute_input": "2020-10-05T00:07:16.273401Z",
     "iopub.status.busy": "2020-10-05T00:07:16.272792Z",
     "iopub.status.idle": "2020-10-05T00:07:17.697043Z",
     "shell.execute_reply": "2020-10-05T00:07:17.697631Z"
    },
    "papermill": {
     "duration": 1.456146,
     "end_time": "2020-10-05T00:07:17.697826",
     "exception": false,
     "start_time": "2020-10-05T00:07:16.241680",
     "status": "completed"
    },
    "tags": []
   },
   "outputs": [
    {
     "name": "stdout",
     "output_type": "stream",
     "text": [
      "Collecting mnist\r\n"
     ]
    },
    {
     "name": "stdout",
     "output_type": "stream",
     "text": [
      "  Downloading mnist-0.2.2-py2.py3-none-any.whl (3.5 kB)\r\n",
      "Requirement already satisfied: numpy in /opt/hostedtoolcache/Python/3.6.12/x64/lib/python3.6/site-packages (from mnist) (1.19.2)\r\n"
     ]
    },
    {
     "name": "stdout",
     "output_type": "stream",
     "text": [
      "Installing collected packages: mnist\r\n"
     ]
    },
    {
     "name": "stdout",
     "output_type": "stream",
     "text": [
      "Successfully installed mnist-0.2.2\r\n"
     ]
    }
   ],
   "source": [
    "!pip install mnist "
   ]
  },
  {
   "cell_type": "markdown",
   "metadata": {
    "papermill": {
     "duration": 0.027402,
     "end_time": "2020-10-05T00:07:17.754276",
     "exception": false,
     "start_time": "2020-10-05T00:07:17.726874",
     "status": "completed"
    },
    "tags": []
   },
   "source": [
    "#### Importing necessary libraries"
   ]
  },
  {
   "cell_type": "code",
   "execution_count": 2,
   "metadata": {
    "execution": {
     "iopub.execute_input": "2020-10-05T00:07:17.818332Z",
     "iopub.status.busy": "2020-10-05T00:07:17.817746Z",
     "iopub.status.idle": "2020-10-05T00:07:18.390670Z",
     "shell.execute_reply": "2020-10-05T00:07:18.390132Z"
    },
    "papermill": {
     "duration": 0.608748,
     "end_time": "2020-10-05T00:07:18.390820",
     "exception": false,
     "start_time": "2020-10-05T00:07:17.782072",
     "status": "completed"
    },
    "tags": []
   },
   "outputs": [],
   "source": [
    "%load_ext autoreload\n",
    "%autoreload 2\n",
    "\n",
    "%matplotlib inline\n",
    "import matplotlib.pyplot as plt\n",
    "\n",
    "import numpy as np\n",
    "import pandas as pd"
   ]
  },
  {
   "cell_type": "markdown",
   "metadata": {
    "papermill": {
     "duration": 0.025957,
     "end_time": "2020-10-05T00:07:18.443042",
     "exception": false,
     "start_time": "2020-10-05T00:07:18.417085",
     "status": "completed"
    },
    "tags": []
   },
   "source": [
    "### Preparing the Data"
   ]
  },
  {
   "cell_type": "code",
   "execution_count": 3,
   "metadata": {
    "execution": {
     "iopub.execute_input": "2020-10-05T00:07:18.508570Z",
     "iopub.status.busy": "2020-10-05T00:07:18.507999Z",
     "iopub.status.idle": "2020-10-05T00:07:18.515551Z",
     "shell.execute_reply": "2020-10-05T00:07:18.515994Z"
    },
    "papermill": {
     "duration": 0.046678,
     "end_time": "2020-10-05T00:07:18.516142",
     "exception": false,
     "start_time": "2020-10-05T00:07:18.469464",
     "status": "completed"
    },
    "tags": []
   },
   "outputs": [],
   "source": [
    "import mnist"
   ]
  },
  {
   "cell_type": "code",
   "execution_count": 4,
   "metadata": {
    "execution": {
     "iopub.execute_input": "2020-10-05T00:07:18.572686Z",
     "iopub.status.busy": "2020-10-05T00:07:18.572105Z",
     "iopub.status.idle": "2020-10-05T00:07:19.344272Z",
     "shell.execute_reply": "2020-10-05T00:07:19.342863Z"
    },
    "papermill": {
     "duration": 0.802825,
     "end_time": "2020-10-05T00:07:19.344504",
     "exception": false,
     "start_time": "2020-10-05T00:07:18.541679",
     "status": "completed"
    },
    "tags": []
   },
   "outputs": [],
   "source": [
    "train_images = mnist.train_images()\n",
    "train_labels = mnist.train_labels()"
   ]
  },
  {
   "cell_type": "code",
   "execution_count": 5,
   "metadata": {
    "execution": {
     "iopub.execute_input": "2020-10-05T00:07:19.401771Z",
     "iopub.status.busy": "2020-10-05T00:07:19.401177Z",
     "iopub.status.idle": "2020-10-05T00:07:19.426244Z",
     "shell.execute_reply": "2020-10-05T00:07:19.426850Z"
    },
    "papermill": {
     "duration": 0.055517,
     "end_time": "2020-10-05T00:07:19.427008",
     "exception": false,
     "start_time": "2020-10-05T00:07:19.371491",
     "status": "completed"
    },
    "tags": []
   },
   "outputs": [
    {
     "data": {
      "text/plain": [
       "((60000, 28, 28), (60000,))"
      ]
     },
     "execution_count": 5,
     "metadata": {},
     "output_type": "execute_result"
    }
   ],
   "source": [
    "train_images.shape, train_labels.shape"
   ]
  },
  {
   "cell_type": "code",
   "execution_count": 6,
   "metadata": {
    "execution": {
     "iopub.execute_input": "2020-10-05T00:07:19.846507Z",
     "iopub.status.busy": "2020-10-05T00:07:19.845881Z",
     "iopub.status.idle": "2020-10-05T00:07:20.115816Z",
     "shell.execute_reply": "2020-10-05T00:07:20.115239Z"
    },
    "papermill": {
     "duration": 0.662906,
     "end_time": "2020-10-05T00:07:20.115961",
     "exception": false,
     "start_time": "2020-10-05T00:07:19.453055",
     "status": "completed"
    },
    "tags": []
   },
   "outputs": [],
   "source": [
    "test_images = mnist.test_images()\n",
    "test_labels = mnist.test_labels()"
   ]
  },
  {
   "cell_type": "code",
   "execution_count": 7,
   "metadata": {
    "execution": {
     "iopub.execute_input": "2020-10-05T00:07:20.178261Z",
     "iopub.status.busy": "2020-10-05T00:07:20.177684Z",
     "iopub.status.idle": "2020-10-05T00:07:20.193598Z",
     "shell.execute_reply": "2020-10-05T00:07:20.192950Z"
    },
    "papermill": {
     "duration": 0.04696,
     "end_time": "2020-10-05T00:07:20.193733",
     "exception": false,
     "start_time": "2020-10-05T00:07:20.146773",
     "status": "completed"
    },
    "tags": []
   },
   "outputs": [
    {
     "data": {
      "text/plain": [
       "((10000, 28, 28), (10000,))"
      ]
     },
     "execution_count": 7,
     "metadata": {},
     "output_type": "execute_result"
    }
   ],
   "source": [
    "test_images.shape, test_labels.shape"
   ]
  },
  {
   "cell_type": "code",
   "execution_count": 8,
   "metadata": {
    "execution": {
     "iopub.execute_input": "2020-10-05T00:07:20.252096Z",
     "iopub.status.busy": "2020-10-05T00:07:20.251518Z",
     "iopub.status.idle": "2020-10-05T00:07:20.400842Z",
     "shell.execute_reply": "2020-10-05T00:07:20.400323Z"
    },
    "papermill": {
     "duration": 0.180682,
     "end_time": "2020-10-05T00:07:20.400973",
     "exception": false,
     "start_time": "2020-10-05T00:07:20.220291",
     "status": "completed"
    },
    "tags": []
   },
   "outputs": [
    {
     "name": "stdout",
     "output_type": "stream",
     "text": [
      "2\n"
     ]
    },
    {
     "data": {
      "text/plain": [
       "<matplotlib.image.AxesImage at 0x7f0043d917f0>"
      ]
     },
     "execution_count": 8,
     "metadata": {},
     "output_type": "execute_result"
    },
    {
     "data": {
      "image/png": "[encoded data removed]",
      "text/plain": [
       "<Figure size 432x288 with 1 Axes>"
      ]
     },
     "metadata": {
      "needs_background": "light"
     },
     "output_type": "display_data"
    }
   ],
   "source": [
    "image_index = 7776 # You may select anything up to 60,000\n",
    "print(train_labels[image_index]) \n",
    "plt.imshow(train_images[image_index], cmap='Greys')"
   ]
  },
  {
   "cell_type": "markdown",
   "metadata": {
    "papermill": {
     "duration": 0.027655,
     "end_time": "2020-10-05T00:07:20.456554",
     "exception": false,
     "start_time": "2020-10-05T00:07:20.428899",
     "status": "completed"
    },
    "tags": []
   },
   "source": [
    "## Filter data to get 3 and 8 out"
   ]
  },
  {
   "cell_type": "code",
   "execution_count": 9,
   "metadata": {
    "execution": {
     "iopub.execute_input": "2020-10-05T00:07:20.517585Z",
     "iopub.status.busy": "2020-10-05T00:07:20.516216Z",
     "iopub.status.idle": "2020-10-05T00:07:20.532904Z",
     "shell.execute_reply": "2020-10-05T00:07:20.532303Z"
    },
    "papermill": {
     "duration": 0.048912,
     "end_time": "2020-10-05T00:07:20.533031",
     "exception": false,
     "start_time": "2020-10-05T00:07:20.484119",
     "status": "completed"
    },
    "tags": []
   },
   "outputs": [],
   "source": [
    "train_filter = np.where((train_labels == 3 ) | (train_labels == 8))\n",
    "test_filter = np.where((test_labels == 3) | (test_labels == 8))\n",
    "X_train, y_train = train_images[train_filter], train_labels[train_filter]\n",
    "X_test, y_test = test_images[test_filter], test_labels[test_filter]"
   ]
  },
  {
   "cell_type": "markdown",
   "metadata": {
    "papermill": {
     "duration": 0.027838,
     "end_time": "2020-10-05T00:07:20.588941",
     "exception": false,
     "start_time": "2020-10-05T00:07:20.561103",
     "status": "completed"
    },
    "tags": []
   },
   "source": [
    "We normalize the pixel values in the 0 to 1 range"
   ]
  },
  {
   "cell_type": "code",
   "execution_count": 10,
   "metadata": {
    "execution": {
     "iopub.execute_input": "2020-10-05T00:07:20.654294Z",
     "iopub.status.busy": "2020-10-05T00:07:20.653710Z",
     "iopub.status.idle": "2020-10-05T00:07:20.700842Z",
     "shell.execute_reply": "2020-10-05T00:07:20.701333Z"
    },
    "papermill": {
     "duration": 0.084144,
     "end_time": "2020-10-05T00:07:20.701502",
     "exception": false,
     "start_time": "2020-10-05T00:07:20.617358",
     "status": "completed"
    },
    "tags": []
   },
   "outputs": [],
   "source": [
    "X_train = X_train/255.\n",
    "X_test = X_test/255."
   ]
  },
  {
   "cell_type": "markdown",
   "metadata": {
    "papermill": {
     "duration": 0.028861,
     "end_time": "2020-10-05T00:07:20.759014",
     "exception": false,
     "start_time": "2020-10-05T00:07:20.730153",
     "status": "completed"
    },
    "tags": []
   },
   "source": [
    "Setup the labels as 1 (when the digit is 3) and 0 (when the digit is 8)"
   ]
  },
  {
   "cell_type": "code",
   "execution_count": 11,
   "metadata": {
    "execution": {
     "iopub.execute_input": "2020-10-05T00:07:20.819553Z",
     "iopub.status.busy": "2020-10-05T00:07:20.818933Z",
     "iopub.status.idle": "2020-10-05T00:07:20.831858Z",
     "shell.execute_reply": "2020-10-05T00:07:20.831371Z"
    },
    "papermill": {
     "duration": 0.044617,
     "end_time": "2020-10-05T00:07:20.831989",
     "exception": false,
     "start_time": "2020-10-05T00:07:20.787372",
     "status": "completed"
    },
    "tags": []
   },
   "outputs": [],
   "source": [
    "y_train = 1*(y_train==3)\n",
    "y_test = 1*(y_test==3)"
   ]
  },
  {
   "cell_type": "code",
   "execution_count": 12,
   "metadata": {
    "execution": {
     "iopub.execute_input": "2020-10-05T00:07:20.896312Z",
     "iopub.status.busy": "2020-10-05T00:07:20.895721Z",
     "iopub.status.idle": "2020-10-05T00:07:20.911496Z",
     "shell.execute_reply": "2020-10-05T00:07:20.910967Z"
    },
    "papermill": {
     "duration": 0.051252,
     "end_time": "2020-10-05T00:07:20.911628",
     "exception": false,
     "start_time": "2020-10-05T00:07:20.860376",
     "status": "completed"
    },
    "tags": []
   },
   "outputs": [
    {
     "data": {
      "text/plain": [
       "((11982, 28, 28), (1984, 28, 28))"
      ]
     },
     "execution_count": 12,
     "metadata": {},
     "output_type": "execute_result"
    }
   ],
   "source": [
    "X_train.shape, X_test.shape"
   ]
  },
  {
   "cell_type": "markdown",
   "metadata": {
    "papermill": {
     "duration": 0.028095,
     "end_time": "2020-10-05T00:07:20.967797",
     "exception": false,
     "start_time": "2020-10-05T00:07:20.939702",
     "status": "completed"
    },
    "tags": []
   },
   "source": [
    "### Reshape the input data to create a linear array"
   ]
  },
  {
   "cell_type": "code",
   "execution_count": 13,
   "metadata": {
    "execution": {
     "iopub.execute_input": "2020-10-05T00:07:21.030787Z",
     "iopub.status.busy": "2020-10-05T00:07:21.030182Z",
     "iopub.status.idle": "2020-10-05T00:07:21.043064Z",
     "shell.execute_reply": "2020-10-05T00:07:21.042525Z"
    },
    "papermill": {
     "duration": 0.047232,
     "end_time": "2020-10-05T00:07:21.043196",
     "exception": false,
     "start_time": "2020-10-05T00:07:20.995964",
     "status": "completed"
    },
    "tags": []
   },
   "outputs": [
    {
     "data": {
      "text/plain": [
       "((11982, 784), (1984, 784))"
      ]
     },
     "execution_count": 13,
     "metadata": {},
     "output_type": "execute_result"
    }
   ],
   "source": [
    "X_train = X_train.reshape(X_train.shape[0], -1)\n",
    "X_test = X_test.reshape(X_test.shape[0], -1)\n",
    "X_train.shape, X_test.shape"
   ]
  },
  {
   "cell_type": "markdown",
   "metadata": {
    "papermill": {
     "duration": 0.028065,
     "end_time": "2020-10-05T00:07:21.099464",
     "exception": false,
     "start_time": "2020-10-05T00:07:21.071399",
     "status": "completed"
    },
    "tags": []
   },
   "source": [
    "### Importing appropriate functions from 'Kudzu'"
   ]
  },
  {
   "cell_type": "code",
   "execution_count": 14,
   "metadata": {
    "execution": {
     "iopub.execute_input": "2020-10-05T00:07:21.163486Z",
     "iopub.status.busy": "2020-10-05T00:07:21.162870Z",
     "iopub.status.idle": "2020-10-05T00:07:21.181254Z",
     "shell.execute_reply": "2020-10-05T00:07:21.181702Z"
    },
    "papermill": {
     "duration": 0.054021,
     "end_time": "2020-10-05T00:07:21.181855",
     "exception": false,
     "start_time": "2020-10-05T00:07:21.127834",
     "status": "completed"
    },
    "tags": []
   },
   "outputs": [],
   "source": [
    "from kudzu.layer import Sigmoid\n",
    "from kudzu.layer import Relu\n",
    "from kudzu.layer import Affine, Sigmoid\n",
    "\n",
    "from kudzu.model import Model\n",
    "from kudzu.train import Learner\n",
    "from kudzu.optim import GD\n",
    "from kudzu.data import Data, Dataloader, Sampler\n",
    "\n",
    "from kudzu.callbacks import AccCallback\n",
    "from kudzu.callbacks import ClfCallback\n",
    "\n",
    "from kudzu.loss import MSE"
   ]
  },
  {
   "cell_type": "markdown",
   "metadata": {
    "papermill": {
     "duration": 0.0281,
     "end_time": "2020-10-05T00:07:21.238050",
     "exception": false,
     "start_time": "2020-10-05T00:07:21.209950",
     "status": "completed"
    },
    "tags": []
   },
   "source": [
    "### Let us create a `Config` class, to store important parameters. \n",
    "This class essentially plays the role of a dictionary."
   ]
  },
  {
   "cell_type": "code",
   "execution_count": 15,
   "metadata": {
    "execution": {
     "iopub.execute_input": "2020-10-05T00:07:21.299434Z",
     "iopub.status.busy": "2020-10-05T00:07:21.298829Z",
     "iopub.status.idle": "2020-10-05T00:07:21.311338Z",
     "shell.execute_reply": "2020-10-05T00:07:21.311787Z"
    },
    "papermill": {
     "duration": 0.045868,
     "end_time": "2020-10-05T00:07:21.311941",
     "exception": false,
     "start_time": "2020-10-05T00:07:21.266073",
     "status": "completed"
    },
    "tags": []
   },
   "outputs": [],
   "source": [
    "class Config:\n",
    "    pass\n",
    "config = Config()\n",
    "config.lr = 0.001\n",
    "config.num_epochs = 251\n",
    "config.bs = 50"
   ]
  },
  {
   "cell_type": "markdown",
   "metadata": {
    "papermill": {
     "duration": 0.027977,
     "end_time": "2020-10-05T00:07:21.368033",
     "exception": false,
     "start_time": "2020-10-05T00:07:21.340056",
     "status": "completed"
    },
    "tags": []
   },
   "source": [
    "### Initializing data to the variables"
   ]
  },
  {
   "cell_type": "code",
   "execution_count": 16,
   "metadata": {
    "execution": {
     "iopub.execute_input": "2020-10-05T00:07:21.430103Z",
     "iopub.status.busy": "2020-10-05T00:07:21.429510Z",
     "iopub.status.idle": "2020-10-05T00:07:21.442981Z",
     "shell.execute_reply": "2020-10-05T00:07:21.443467Z"
    },
    "papermill": {
     "duration": 0.046751,
     "end_time": "2020-10-05T00:07:21.443616",
     "exception": false,
     "start_time": "2020-10-05T00:07:21.396865",
     "status": "completed"
    },
    "tags": []
   },
   "outputs": [],
   "source": [
    "data = Data(X_train, y_train.reshape(-1,1))\n",
    "sampler = Sampler(data, config.bs, shuffle=True)\n",
    "\n",
    "dl = Dataloader(data, sampler)\n",
    "\n",
    "opt = GD(config.lr)\n",
    "loss = MSE()"
   ]
  },
  {
   "cell_type": "code",
   "execution_count": 17,
   "metadata": {
    "execution": {
     "iopub.execute_input": "2020-10-05T00:07:21.507435Z",
     "iopub.status.busy": "2020-10-05T00:07:21.506831Z",
     "iopub.status.idle": "2020-10-05T00:07:21.518156Z",
     "shell.execute_reply": "2020-10-05T00:07:21.517658Z"
    },
    "papermill": {
     "duration": 0.046665,
     "end_time": "2020-10-05T00:07:21.518281",
     "exception": false,
     "start_time": "2020-10-05T00:07:21.471616",
     "status": "completed"
    },
    "tags": []
   },
   "outputs": [],
   "source": [
    "training_xdata = X_train\n",
    "testing_xdata = X_test\n",
    "training_ydata = y_train.reshape(-1,1)\n",
    "testing_ydata = y_test.reshape(-1,1)"
   ]
  },
  {
   "cell_type": "markdown",
   "metadata": {
    "papermill": {
     "duration": 0.028096,
     "end_time": "2020-10-05T00:07:21.574807",
     "exception": false,
     "start_time": "2020-10-05T00:07:21.546711",
     "status": "completed"
    },
    "tags": []
   },
   "source": [
    "### Running Models with the Training data\n",
    "Details about the network layers:\n",
    "- A first affine layer has 784 inputs and does 100 affine transforms. These are followed by a Relu\n",
    "- A second affine layer has 100 inputs from the 100 activations of the past layer, and does 100 affine transforms. These are followed by a Relu\n",
    "- A third affine layer has 100 activations and does 2 affine transformations to create an embedding for visualization. There is no non-linearity here.\n",
    "- A final \"logistic regression\" which has an affine transform from 2 inputs to 1 output, which is squeezed through a sigmoid.\n",
    "\n",
    "Help taken from Anshuman's Notebook."
   ]
  },
  {
   "cell_type": "code",
   "execution_count": 18,
   "metadata": {
    "execution": {
     "iopub.execute_input": "2020-10-05T00:07:21.636866Z",
     "iopub.status.busy": "2020-10-05T00:07:21.636262Z",
     "iopub.status.idle": "2020-10-05T00:07:21.656231Z",
     "shell.execute_reply": "2020-10-05T00:07:21.655751Z"
    },
    "papermill": {
     "duration": 0.053536,
     "end_time": "2020-10-05T00:07:21.656362",
     "exception": false,
     "start_time": "2020-10-05T00:07:21.602826",
     "status": "completed"
    },
    "tags": []
   },
   "outputs": [],
   "source": [
    "# layers for the Neural Network\n",
    "layers = [Affine(\"first\", 784, 100), Relu(\"first\"), Affine(\"second\", 100, 100), Relu(\"second\"), Affine(\"third\", 100, 2), Affine(\"final\", 2, 1), Sigmoid(\"final\")]\n",
    "model_nn = Model(layers)\n",
    "\n",
    "# layers for the Logistic Regression\n",
    "layers_lr = [Affine(\"logits\", 784, 1), Sigmoid(\"sigmoid\")]\n",
    "model_lr = Model(layers_lr)"
   ]
  },
  {
   "cell_type": "code",
   "execution_count": 19,
   "metadata": {
    "execution": {
     "iopub.execute_input": "2020-10-05T00:07:21.716749Z",
     "iopub.status.busy": "2020-10-05T00:07:21.716170Z",
     "iopub.status.idle": "2020-10-05T00:07:21.729416Z",
     "shell.execute_reply": "2020-10-05T00:07:21.728936Z"
    },
    "papermill": {
     "duration": 0.04497,
     "end_time": "2020-10-05T00:07:21.729546",
     "exception": false,
     "start_time": "2020-10-05T00:07:21.684576",
     "status": "completed"
    },
    "tags": []
   },
   "outputs": [],
   "source": [
    "# suffix _nn stands for Neural Network.\n",
    "learner_nn = Learner(loss, model_nn, opt, config.num_epochs)\n",
    "acc_nn = ClfCallback(learner_nn, config.bs, training_xdata , testing_xdata, training_ydata, testing_ydata)\n",
    "learner_nn.set_callbacks([acc_nn])"
   ]
  },
  {
   "cell_type": "code",
   "execution_count": 20,
   "metadata": {
    "execution": {
     "iopub.execute_input": "2020-10-05T00:07:21.789502Z",
     "iopub.status.busy": "2020-10-05T00:07:21.788912Z",
     "iopub.status.idle": "2020-10-05T00:08:46.853461Z",
     "shell.execute_reply": "2020-10-05T00:08:46.852991Z"
    },
    "papermill": {
     "duration": 85.095854,
     "end_time": "2020-10-05T00:08:46.853572",
     "exception": false,
     "start_time": "2020-10-05T00:07:21.757718",
     "status": "completed"
    },
    "tags": []
   },
   "outputs": [
    {
     "name": "stdout",
     "output_type": "stream",
     "text": [
      "====== Neural Network ======\n"
     ]
    },
    {
     "name": "stdout",
     "output_type": "stream",
     "text": [
      "Epoch 0, Loss 0.23\n",
      "Training Accuracy: 0.7414, Testing Accuracy: 0.7535\n",
      "\n"
     ]
    },
    {
     "name": "stdout",
     "output_type": "stream",
     "text": [
      "Epoch 10, Loss 0.064\n",
      "Training Accuracy: 0.9398, Testing Accuracy: 0.9506\n",
      "\n"
     ]
    },
    {
     "name": "stdout",
     "output_type": "stream",
     "text": [
      "Epoch 20, Loss 0.0438\n",
      "Training Accuracy: 0.9528, Testing Accuracy: 0.9602\n",
      "\n"
     ]
    },
    {
     "name": "stdout",
     "output_type": "stream",
     "text": [
      "Epoch 30, Loss 0.0363\n",
      "Training Accuracy: 0.9599, Testing Accuracy: 0.9647\n",
      "\n"
     ]
    },
    {
     "name": "stdout",
     "output_type": "stream",
     "text": [
      "Epoch 40, Loss 0.0322\n",
      "Training Accuracy: 0.9644, Testing Accuracy: 0.9672\n",
      "\n"
     ]
    },
    {
     "name": "stdout",
     "output_type": "stream",
     "text": [
      "Epoch 50, Loss 0.0295\n",
      "Training Accuracy: 0.9670, Testing Accuracy: 0.9693\n",
      "\n"
     ]
    },
    {
     "name": "stdout",
     "output_type": "stream",
     "text": [
      "Epoch 60, Loss 0.0275\n",
      "Training Accuracy: 0.9695, Testing Accuracy: 0.9708\n",
      "\n"
     ]
    },
    {
     "name": "stdout",
     "output_type": "stream",
     "text": [
      "Epoch 70, Loss 0.0258\n",
      "Training Accuracy: 0.9718, Testing Accuracy: 0.9728\n",
      "\n"
     ]
    },
    {
     "name": "stdout",
     "output_type": "stream",
     "text": [
      "Epoch 80, Loss 0.0245\n",
      "Training Accuracy: 0.9732, Testing Accuracy: 0.9743\n",
      "\n"
     ]
    },
    {
     "name": "stdout",
     "output_type": "stream",
     "text": [
      "Epoch 90, Loss 0.0234\n",
      "Training Accuracy: 0.9741, Testing Accuracy: 0.9738\n",
      "\n"
     ]
    },
    {
     "name": "stdout",
     "output_type": "stream",
     "text": [
      "Epoch 100, Loss 0.0223\n",
      "Training Accuracy: 0.9751, Testing Accuracy: 0.9743\n",
      "\n"
     ]
    },
    {
     "name": "stdout",
     "output_type": "stream",
     "text": [
      "Epoch 110, Loss 0.0215\n",
      "Training Accuracy: 0.9763, Testing Accuracy: 0.9758\n",
      "\n"
     ]
    },
    {
     "name": "stdout",
     "output_type": "stream",
     "text": [
      "Epoch 120, Loss 0.0207\n",
      "Training Accuracy: 0.9771, Testing Accuracy: 0.9763\n",
      "\n"
     ]
    },
    {
     "name": "stdout",
     "output_type": "stream",
     "text": [
      "Epoch 130, Loss 0.0199\n",
      "Training Accuracy: 0.9783, Testing Accuracy: 0.9768\n",
      "\n"
     ]
    },
    {
     "name": "stdout",
     "output_type": "stream",
     "text": [
      "Epoch 140, Loss 0.0193\n",
      "Training Accuracy: 0.9790, Testing Accuracy: 0.9763\n",
      "\n"
     ]
    },
    {
     "name": "stdout",
     "output_type": "stream",
     "text": [
      "Epoch 150, Loss 0.0187\n",
      "Training Accuracy: 0.9798, Testing Accuracy: 0.9778\n",
      "\n"
     ]
    },
    {
     "name": "stdout",
     "output_type": "stream",
     "text": [
      "Epoch 160, Loss 0.0181\n",
      "Training Accuracy: 0.9810, Testing Accuracy: 0.9778\n",
      "\n"
     ]
    },
    {
     "name": "stdout",
     "output_type": "stream",
     "text": [
      "Epoch 170, Loss 0.0176\n",
      "Training Accuracy: 0.9816, Testing Accuracy: 0.9778\n",
      "\n"
     ]
    },
    {
     "name": "stdout",
     "output_type": "stream",
     "text": [
      "Epoch 180, Loss 0.0171\n",
      "Training Accuracy: 0.9823, Testing Accuracy: 0.9788\n",
      "\n"
     ]
    },
    {
     "name": "stdout",
     "output_type": "stream",
     "text": [
      "Epoch 190, Loss 0.0167\n",
      "Training Accuracy: 0.9826, Testing Accuracy: 0.9788\n",
      "\n"
     ]
    },
    {
     "name": "stdout",
     "output_type": "stream",
     "text": [
      "Epoch 200, Loss 0.0163\n",
      "Training Accuracy: 0.9829, Testing Accuracy: 0.9798\n",
      "\n"
     ]
    },
    {
     "name": "stdout",
     "output_type": "stream",
     "text": [
      "Epoch 210, Loss 0.0159\n",
      "Training Accuracy: 0.9834, Testing Accuracy: 0.9814\n",
      "\n"
     ]
    },
    {
     "name": "stdout",
     "output_type": "stream",
     "text": [
      "Epoch 220, Loss 0.0155\n",
      "Training Accuracy: 0.9838, Testing Accuracy: 0.9803\n",
      "\n"
     ]
    },
    {
     "name": "stdout",
     "output_type": "stream",
     "text": [
      "Epoch 230, Loss 0.0151\n",
      "Training Accuracy: 0.9841, Testing Accuracy: 0.9814\n",
      "\n"
     ]
    },
    {
     "name": "stdout",
     "output_type": "stream",
     "text": [
      "Epoch 240, Loss 0.0148\n",
      "Training Accuracy: 0.9846, Testing Accuracy: 0.9814\n",
      "\n"
     ]
    },
    {
     "name": "stdout",
     "output_type": "stream",
     "text": [
      "Epoch 250, Loss 0.0144\n",
      "Training Accuracy: 0.9850, Testing Accuracy: 0.9814\n",
      "\n"
     ]
    },
    {
     "data": {
      "text/plain": [
       "0.00767536167554732"
      ]
     },
     "execution_count": 20,
     "metadata": {},
     "output_type": "execute_result"
    }
   ],
   "source": [
    "print(\"====== Neural Network ======\")\n",
    "learner_nn.train_loop(dl)"
   ]
  },
  {
   "cell_type": "markdown",
   "metadata": {
    "papermill": {
     "duration": 0.035801,
     "end_time": "2020-10-05T00:08:46.924993",
     "exception": false,
     "start_time": "2020-10-05T00:08:46.889192",
     "status": "completed"
    },
    "tags": []
   },
   "source": [
    "### Logistic Regression based Implementation."
   ]
  },
  {
   "cell_type": "code",
   "execution_count": 21,
   "metadata": {
    "execution": {
     "iopub.execute_input": "2020-10-05T00:08:47.005970Z",
     "iopub.status.busy": "2020-10-05T00:08:47.004873Z",
     "iopub.status.idle": "2020-10-05T00:08:47.015415Z",
     "shell.execute_reply": "2020-10-05T00:08:47.015891Z"
    },
    "papermill": {
     "duration": 0.055918,
     "end_time": "2020-10-05T00:08:47.016041",
     "exception": false,
     "start_time": "2020-10-05T00:08:46.960123",
     "status": "completed"
    },
    "tags": []
   },
   "outputs": [],
   "source": [
    "learner_lr = Learner(loss, model_lr, opt, config.num_epochs)\n",
    "acc_lr = ClfCallback(learner_lr, config.bs, training_xdata , testing_xdata, training_ydata, testing_ydata)\n",
    "learner_lr.set_callbacks([acc_lr])"
   ]
  },
  {
   "cell_type": "code",
   "execution_count": 22,
   "metadata": {
    "execution": {
     "iopub.execute_input": "2020-10-05T00:08:47.095668Z",
     "iopub.status.busy": "2020-10-05T00:08:47.091433Z",
     "iopub.status.idle": "2020-10-05T00:09:03.644813Z",
     "shell.execute_reply": "2020-10-05T00:09:03.645293Z"
    },
    "papermill": {
     "duration": 16.59332,
     "end_time": "2020-10-05T00:09:03.645448",
     "exception": false,
     "start_time": "2020-10-05T00:08:47.052128",
     "status": "completed"
    },
    "tags": []
   },
   "outputs": [
    {
     "name": "stdout",
     "output_type": "stream",
     "text": [
      "====== Logistic Regression ======\n",
      "Epoch 0, Loss 0.2606\n",
      "Training Accuracy: 0.6028, Testing Accuracy: 0.6134\n",
      "\n"
     ]
    },
    {
     "name": "stdout",
     "output_type": "stream",
     "text": [
      "Epoch 10, Loss 0.1057\n",
      "Training Accuracy: 0.9035, Testing Accuracy: 0.9088\n",
      "\n"
     ]
    },
    {
     "name": "stdout",
     "output_type": "stream",
     "text": [
      "Epoch 20, Loss 0.0807\n",
      "Training Accuracy: 0.9263, Testing Accuracy: 0.9335\n",
      "\n"
     ]
    },
    {
     "name": "stdout",
     "output_type": "stream",
     "text": [
      "Epoch 30, Loss 0.0692\n",
      "Training Accuracy: 0.9342, Testing Accuracy: 0.9415\n",
      "\n"
     ]
    },
    {
     "name": "stdout",
     "output_type": "stream",
     "text": [
      "Epoch 40, Loss 0.0624\n",
      "Training Accuracy: 0.9393, Testing Accuracy: 0.9511\n",
      "\n"
     ]
    },
    {
     "name": "stdout",
     "output_type": "stream",
     "text": [
      "Epoch 50, Loss 0.0577\n",
      "Training Accuracy: 0.9436, Testing Accuracy: 0.9541\n",
      "\n"
     ]
    },
    {
     "name": "stdout",
     "output_type": "stream",
     "text": [
      "Epoch 60, Loss 0.0543\n",
      "Training Accuracy: 0.9459, Testing Accuracy: 0.9577\n",
      "\n"
     ]
    },
    {
     "name": "stdout",
     "output_type": "stream",
     "text": [
      "Epoch 70, Loss 0.0517\n",
      "Training Accuracy: 0.9480, Testing Accuracy: 0.9592\n",
      "\n"
     ]
    },
    {
     "name": "stdout",
     "output_type": "stream",
     "text": [
      "Epoch 80, Loss 0.0496\n",
      "Training Accuracy: 0.9495, Testing Accuracy: 0.9612\n",
      "\n"
     ]
    },
    {
     "name": "stdout",
     "output_type": "stream",
     "text": [
      "Epoch 90, Loss 0.0479\n",
      "Training Accuracy: 0.9510, Testing Accuracy: 0.9617\n",
      "\n"
     ]
    },
    {
     "name": "stdout",
     "output_type": "stream",
     "text": [
      "Epoch 100, Loss 0.0464\n",
      "Training Accuracy: 0.9523, Testing Accuracy: 0.9622\n",
      "\n"
     ]
    },
    {
     "name": "stdout",
     "output_type": "stream",
     "text": [
      "Epoch 110, Loss 0.0452\n",
      "Training Accuracy: 0.9530, Testing Accuracy: 0.9627\n",
      "\n"
     ]
    },
    {
     "name": "stdout",
     "output_type": "stream",
     "text": [
      "Epoch 120, Loss 0.0441\n",
      "Training Accuracy: 0.9533, Testing Accuracy: 0.9632\n",
      "\n"
     ]
    },
    {
     "name": "stdout",
     "output_type": "stream",
     "text": [
      "Epoch 130, Loss 0.0432\n",
      "Training Accuracy: 0.9543, Testing Accuracy: 0.9642\n",
      "\n"
     ]
    },
    {
     "name": "stdout",
     "output_type": "stream",
     "text": [
      "Epoch 140, Loss 0.0423\n",
      "Training Accuracy: 0.9549, Testing Accuracy: 0.9647\n",
      "\n"
     ]
    },
    {
     "name": "stdout",
     "output_type": "stream",
     "text": [
      "Epoch 150, Loss 0.0416\n",
      "Training Accuracy: 0.9557, Testing Accuracy: 0.9657\n",
      "\n"
     ]
    },
    {
     "name": "stdout",
     "output_type": "stream",
     "text": [
      "Epoch 160, Loss 0.0409\n",
      "Training Accuracy: 0.9566, Testing Accuracy: 0.9657\n",
      "\n"
     ]
    },
    {
     "name": "stdout",
     "output_type": "stream",
     "text": [
      "Epoch 170, Loss 0.0403\n",
      "Training Accuracy: 0.9576, Testing Accuracy: 0.9657\n",
      "\n"
     ]
    },
    {
     "name": "stdout",
     "output_type": "stream",
     "text": [
      "Epoch 180, Loss 0.0397\n",
      "Training Accuracy: 0.9581, Testing Accuracy: 0.9662\n",
      "\n"
     ]
    },
    {
     "name": "stdout",
     "output_type": "stream",
     "text": [
      "Epoch 190, Loss 0.0392\n",
      "Training Accuracy: 0.9585, Testing Accuracy: 0.9672\n",
      "\n"
     ]
    },
    {
     "name": "stdout",
     "output_type": "stream",
     "text": [
      "Epoch 200, Loss 0.0387\n",
      "Training Accuracy: 0.9587, Testing Accuracy: 0.9672\n",
      "\n"
     ]
    },
    {
     "name": "stdout",
     "output_type": "stream",
     "text": [
      "Epoch 210, Loss 0.0383\n",
      "Training Accuracy: 0.9592, Testing Accuracy: 0.9677\n",
      "\n"
     ]
    },
    {
     "name": "stdout",
     "output_type": "stream",
     "text": [
      "Epoch 220, Loss 0.0378\n",
      "Training Accuracy: 0.9597, Testing Accuracy: 0.9677\n",
      "\n"
     ]
    },
    {
     "name": "stdout",
     "output_type": "stream",
     "text": [
      "Epoch 230, Loss 0.0374\n",
      "Training Accuracy: 0.9601, Testing Accuracy: 0.9672\n",
      "\n"
     ]
    },
    {
     "name": "stdout",
     "output_type": "stream",
     "text": [
      "Epoch 240, Loss 0.0371\n",
      "Training Accuracy: 0.9602, Testing Accuracy: 0.9677\n",
      "\n"
     ]
    },
    {
     "name": "stdout",
     "output_type": "stream",
     "text": [
      "Epoch 250, Loss 0.0367\n",
      "Training Accuracy: 0.9603, Testing Accuracy: 0.9672\n",
      "\n"
     ]
    },
    {
     "data": {
      "text/plain": [
       "0.021855916650259963"
      ]
     },
     "execution_count": 22,
     "metadata": {},
     "output_type": "execute_result"
    }
   ],
   "source": [
    "print(\"====== Logistic Regression ======\")\n",
    "learner_lr.train_loop(dl)"
   ]
  },
  {
   "cell_type": "markdown",
   "metadata": {
    "papermill": {
     "duration": 0.041293,
     "end_time": "2020-10-05T00:09:03.730516",
     "exception": false,
     "start_time": "2020-10-05T00:09:03.689223",
     "status": "completed"
    },
    "tags": []
   },
   "source": [
    "### Comparing results of NN and LR"
   ]
  },
  {
   "cell_type": "code",
   "execution_count": 23,
   "metadata": {
    "execution": {
     "iopub.execute_input": "2020-10-05T00:09:03.822440Z",
     "iopub.status.busy": "2020-10-05T00:09:03.821889Z",
     "iopub.status.idle": "2020-10-05T00:09:04.060972Z",
     "shell.execute_reply": "2020-10-05T00:09:04.060458Z"
    },
    "papermill": {
     "duration": 0.28773,
     "end_time": "2020-10-05T00:09:04.061105",
     "exception": false,
     "start_time": "2020-10-05T00:09:03.773375",
     "status": "completed"
    },
    "tags": []
   },
   "outputs": [
    {
     "data": {
      "text/plain": [
       "<matplotlib.legend.Legend at 0x7f003d14a278>"
      ]
     },
     "execution_count": 23,
     "metadata": {},
     "output_type": "execute_result"
    },
    {
     "data": {
      "image/png": "[encoded data removed]",
      "text/plain": [
       "<Figure size 1080x720 with 1 Axes>"
      ]
     },
     "metadata": {
      "needs_background": "light"
     },
     "output_type": "display_data"
    }
   ],
   "source": [
    "plt.figure(figsize=(15,10))\n",
    "\n",
    "# Neural Network plots\n",
    "plt.plot(acc_nn.accuracies, 'r-', label = \"Training Accuracies - NN\")\n",
    "plt.plot(acc_nn.test_accuracies, 'g-', label = \"Testing Accuracies - NN\")\n",
    "\n",
    "# Logistic Regression plots\n",
    "plt.plot(acc_lr.accuracies, 'k-', label = \"Training Accuracies - LR\")\n",
    "plt.plot(acc_lr.test_accuracies, 'b-', label = \"Testing Accuracies - LR\")\n",
    "\n",
    "plt.ylim(0.8, 1)\n",
    "\n",
    "plt.legend()\n",
    "\n"
   ]
  },
  {
   "cell_type": "markdown",
   "metadata": {
    "papermill": {
     "duration": 0.04277,
     "end_time": "2020-10-05T00:09:04.145514",
     "exception": false,
     "start_time": "2020-10-05T00:09:04.102744",
     "status": "completed"
    },
    "tags": []
   },
   "source": [
    "### From the plot, we can observe the following:\n",
    "- Neural Network achieves higher accuracy than the Logistic Regression model.\n",
    "- This apparently, is because of overfitting, i.e. NN captures more noise than data.\n",
    "- Testing accuracy of NN drops below the Training accuracy at higher epochs. This explains the over-fitting on training data.\n",
    "- Logistic Regression gives a reliable accuracy, without the above mentioned problem.\n"
   ]
  },
  {
   "cell_type": "markdown",
   "metadata": {
    "papermill": {
     "duration": 0.040748,
     "end_time": "2020-10-05T00:09:04.228534",
     "exception": false,
     "start_time": "2020-10-05T00:09:04.187786",
     "status": "completed"
    },
    "tags": []
   },
   "source": [
    "### Moving till the last but one layer (excluding it).\n",
    "#### Plotting the outputs of this layer of the NN."
   ]
  },
  {
   "cell_type": "code",
   "execution_count": 24,
   "metadata": {
    "execution": {
     "iopub.execute_input": "2020-10-05T00:09:04.331061Z",
     "iopub.status.busy": "2020-10-05T00:09:04.326848Z",
     "iopub.status.idle": "2020-10-05T00:09:04.333648Z",
     "shell.execute_reply": "2020-10-05T00:09:04.333122Z"
    },
    "papermill": {
     "duration": 0.063103,
     "end_time": "2020-10-05T00:09:04.333773",
     "exception": false,
     "start_time": "2020-10-05T00:09:04.270670",
     "status": "completed"
    },
    "tags": []
   },
   "outputs": [],
   "source": [
    "model_new = Model(layers[:-2])"
   ]
  },
  {
   "cell_type": "code",
   "execution_count": 25,
   "metadata": {
    "execution": {
     "iopub.execute_input": "2020-10-05T00:09:04.427084Z",
     "iopub.status.busy": "2020-10-05T00:09:04.426512Z",
     "iopub.status.idle": "2020-10-05T00:09:04.445719Z",
     "shell.execute_reply": "2020-10-05T00:09:04.446158Z"
    },
    "papermill": {
     "duration": 0.06797,
     "end_time": "2020-10-05T00:09:04.446299",
     "exception": false,
     "start_time": "2020-10-05T00:09:04.378329",
     "status": "completed"
    },
    "tags": []
   },
   "outputs": [],
   "source": [
    "plot_testing = model_new(testing_xdata)"
   ]
  },
  {
   "cell_type": "code",
   "execution_count": 26,
   "metadata": {
    "execution": {
     "iopub.execute_input": "2020-10-05T00:09:04.544287Z",
     "iopub.status.busy": "2020-10-05T00:09:04.543705Z",
     "iopub.status.idle": "2020-10-05T00:09:04.727763Z",
     "shell.execute_reply": "2020-10-05T00:09:04.728200Z"
    },
    "papermill": {
     "duration": 0.238167,
     "end_time": "2020-10-05T00:09:04.728347",
     "exception": false,
     "start_time": "2020-10-05T00:09:04.490180",
     "status": "completed"
    },
    "tags": []
   },
   "outputs": [
    {
     "data": {
      "text/plain": [
       "Text(0.5, 1.0, 'Outputs')"
      ]
     },
     "execution_count": 26,
     "metadata": {},
     "output_type": "execute_result"
    },
    {
     "data": {
      "image/png": "[encoded data removed]",
      "text/plain": [
       "<Figure size 576x504 with 1 Axes>"
      ]
     },
     "metadata": {
      "needs_background": "light"
     },
     "output_type": "display_data"
    }
   ],
   "source": [
    "plt.figure(figsize=(8,7))\n",
    "plt.scatter(plot_testing[:,0], plot_testing[:,1], alpha = 0.1, c = y_test.ravel());\n",
    "plt.title('Outputs')"
   ]
  },
  {
   "cell_type": "markdown",
   "metadata": {
    "papermill": {
     "duration": 0.043489,
     "end_time": "2020-10-05T00:09:04.817556",
     "exception": false,
     "start_time": "2020-10-05T00:09:04.774067",
     "status": "completed"
    },
    "tags": []
   },
   "source": [
    "### Plotting probability contours"
   ]
  },
  {
   "cell_type": "code",
   "execution_count": 27,
   "metadata": {
    "execution": {
     "iopub.execute_input": "2020-10-05T00:09:04.920197Z",
     "iopub.status.busy": "2020-10-05T00:09:04.912004Z",
     "iopub.status.idle": "2020-10-05T00:09:04.929013Z",
     "shell.execute_reply": "2020-10-05T00:09:04.930909Z"
    },
    "papermill": {
     "duration": 0.068332,
     "end_time": "2020-10-05T00:09:04.931153",
     "exception": false,
     "start_time": "2020-10-05T00:09:04.862821",
     "status": "completed"
    },
    "tags": []
   },
   "outputs": [],
   "source": [
    "model_prob = Model(layers[-2:]) "
   ]
  },
  {
   "cell_type": "code",
   "execution_count": 28,
   "metadata": {
    "execution": {
     "iopub.execute_input": "2020-10-05T00:09:05.034143Z",
     "iopub.status.busy": "2020-10-05T00:09:05.033621Z",
     "iopub.status.idle": "2020-10-05T00:09:05.050040Z",
     "shell.execute_reply": "2020-10-05T00:09:05.050446Z"
    },
    "papermill": {
     "duration": 0.069638,
     "end_time": "2020-10-05T00:09:05.050601",
     "exception": false,
     "start_time": "2020-10-05T00:09:04.980963",
     "status": "completed"
    },
    "tags": []
   },
   "outputs": [],
   "source": [
    "# Adjust the x and y ranges according to the above generated plot.\n",
    "x_range = np.linspace(-4, 1, 100) \n",
    "y_range = np.linspace(-6, 6, 100) \n",
    "x_grid, y_grid = np.meshgrid(x_range, y_range) # x_grid and y_grig are of size 100 X 100\n",
    "\n",
    "# converting x_grid and y_grid to continuous arrays\n",
    "x_grid_flat = np.ravel(x_grid)\n",
    "y_grid_flat = np.ravel(y_grid)\n",
    "\n",
    "# The last layer of the current model takes two columns as input. Hence transpose of np.vstack() is required.\n",
    "X = np.vstack((x_grid_flat, y_grid_flat)).T\n",
    "\n",
    "# x_grid and y_grid are of size 100 x 100\n",
    "probability_contour = model_prob(X).reshape(100,100) "
   ]
  },
  {
   "cell_type": "code",
   "execution_count": 29,
   "metadata": {
    "execution": {
     "iopub.execute_input": "2020-10-05T00:09:05.156335Z",
     "iopub.status.busy": "2020-10-05T00:09:05.155757Z",
     "iopub.status.idle": "2020-10-05T00:09:05.402424Z",
     "shell.execute_reply": "2020-10-05T00:09:05.402934Z"
    },
    "papermill": {
     "duration": 0.303505,
     "end_time": "2020-10-05T00:09:05.403093",
     "exception": false,
     "start_time": "2020-10-05T00:09:05.099588",
     "status": "completed"
    },
    "tags": []
   },
   "outputs": [
    {
     "data": {
      "image/png": "[encoded data removed]",
      "text/plain": [
       "<Figure size 720x648 with 1 Axes>"
      ]
     },
     "metadata": {
      "needs_background": "light"
     },
     "output_type": "display_data"
    }
   ],
   "source": [
    "plt.figure(figsize=(10,9))\n",
    "plt.scatter(plot_testing[:,0], plot_testing[:,1], alpha = 0.1, c = y_test.ravel())\n",
    "contours = plt.contour(x_grid,y_grid,probability_contour)\n",
    "plt.title('Probability Contours')\n",
    "plt.clabel(contours, inline = True );"
   ]
  }
 ],
 "metadata": {
  "kernelspec": {
   "display_name": "Python 3",
   "language": "python",
   "name": "python3"
  },
  "language_info": {
   "codemirror_mode": {
    "name": "ipython",
    "version": 3
   },
   "file_extension": ".py",
   "mimetype": "text/x-python",
   "name": "python",
   "nbconvert_exporter": "python",
   "pygments_lexer": "ipython3",
   "version": "3.6.12"
  },
  "papermill": {
   "duration": 110.699192,
   "end_time": "2020-10-05T00:09:05.761707",
   "environment_variables": {},
   "exception": null,
   "input_path": "2020-08-11-NeuralNetwork.ipynb",
   "output_path": "2020-08-11-NeuralNetwork.ipynb",
   "parameters": {},
   "start_time": "2020-10-05T00:07:15.062515",
   "version": "2.1.2"
  }
 },
 "nbformat": 4,
 "nbformat_minor": 4
}