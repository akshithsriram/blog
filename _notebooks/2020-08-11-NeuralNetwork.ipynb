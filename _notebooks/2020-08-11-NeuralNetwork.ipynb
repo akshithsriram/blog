{
 "cells": [
  {
   "cell_type": "markdown",
   "metadata": {
    "papermill": {
     "duration": 0.031226,
     "end_time": "2020-11-19T10:04:53.948380",
     "exception": false,
     "start_time": "2020-11-19T10:04:53.917154",
     "status": "completed"
    },
    "tags": []
   },
   "source": [
    "# \"A Basic Neural Network: Differentiate Hand-Written Digits\"\n",
    "\n",
    "- badges: true\n",
    "- author: Akshith Sriram"
   ]
  },
  {
   "cell_type": "markdown",
   "metadata": {
    "papermill": {
     "duration": 0.033784,
     "end_time": "2020-11-19T10:04:54.008501",
     "exception": false,
     "start_time": "2020-11-19T10:04:53.974717",
     "status": "completed"
    },
    "tags": []
   },
   "source": [
    "### Key Objectives:\n",
    "- Building a neural network that differentiates two hand-written digits 3 and 8.\n",
    "- Comparing the results of this Neural Network (NN) to that of a Logistic Regression (LR) model.\n",
    "\n",
    "### Requirements:\n",
    "- 'Kudzu' : A neural network library that was designed during our course by [Univ.AI](www.univ.ai). \n",
    "- MNIST Database\n",
    "\n",
    "If MNIST is not installed, use the command `!pip install mnist` given below.\n",
    "It can be run both from the command line and Jupyter Notebook."
   ]
  },
  {
   "cell_type": "code",
   "execution_count": 1,
   "metadata": {
    "execution": {
     "iopub.execute_input": "2020-11-19T10:04:54.066494Z",
     "iopub.status.busy": "2020-11-19T10:04:54.065770Z",
     "iopub.status.idle": "2020-11-19T10:04:56.062637Z",
     "shell.execute_reply": "2020-11-19T10:04:56.061998Z"
    },
    "papermill": {
     "duration": 2.028461,
     "end_time": "2020-11-19T10:04:56.062830",
     "exception": false,
     "start_time": "2020-11-19T10:04:54.034369",
     "status": "completed"
    },
    "tags": []
   },
   "outputs": [
    {
     "name": "stdout",
     "output_type": "stream",
     "text": [
      "Collecting mnist\r\n"
     ]
    },
    {
     "name": "stdout",
     "output_type": "stream",
     "text": [
      "  Downloading mnist-0.2.2-py2.py3-none-any.whl (3.5 kB)\r\n"
     ]
    },
    {
     "name": "stdout",
     "output_type": "stream",
     "text": [
      "Requirement already satisfied: numpy in /opt/hostedtoolcache/Python/3.6.12/x64/lib/python3.6/site-packages (from mnist) (1.19.4)\r\n"
     ]
    },
    {
     "name": "stdout",
     "output_type": "stream",
     "text": [
      "Installing collected packages: mnist\r\n"
     ]
    },
    {
     "name": "stdout",
     "output_type": "stream",
     "text": [
      "Successfully installed mnist-0.2.2\r\n"
     ]
    }
   ],
   "source": [
    "!pip install mnist "
   ]
  },
  {
   "cell_type": "markdown",
   "metadata": {
    "papermill": {
     "duration": 0.029302,
     "end_time": "2020-11-19T10:04:56.121609",
     "exception": false,
     "start_time": "2020-11-19T10:04:56.092307",
     "status": "completed"
    },
    "tags": []
   },
   "source": [
    "#### Importing necessary libraries"
   ]
  },
  {
   "cell_type": "code",
   "execution_count": 2,
   "metadata": {
    "execution": {
     "iopub.execute_input": "2020-11-19T10:04:56.191952Z",
     "iopub.status.busy": "2020-11-19T10:04:56.191120Z",
     "iopub.status.idle": "2020-11-19T10:04:56.797373Z",
     "shell.execute_reply": "2020-11-19T10:04:56.796789Z"
    },
    "papermill": {
     "duration": 0.64535,
     "end_time": "2020-11-19T10:04:56.797514",
     "exception": false,
     "start_time": "2020-11-19T10:04:56.152164",
     "status": "completed"
    },
    "tags": []
   },
   "outputs": [],
   "source": [
    "%load_ext autoreload\n",
    "%autoreload 2\n",
    "\n",
    "%matplotlib inline\n",
    "import matplotlib.pyplot as plt\n",
    "\n",
    "import numpy as np\n",
    "import pandas as pd"
   ]
  },
  {
   "cell_type": "markdown",
   "metadata": {
    "papermill": {
     "duration": 0.028556,
     "end_time": "2020-11-19T10:04:56.858088",
     "exception": false,
     "start_time": "2020-11-19T10:04:56.829532",
     "status": "completed"
    },
    "tags": []
   },
   "source": [
    "### Preparing the Data"
   ]
  },
  {
   "cell_type": "code",
   "execution_count": 3,
   "metadata": {
    "execution": {
     "iopub.execute_input": "2020-11-19T10:04:56.927675Z",
     "iopub.status.busy": "2020-11-19T10:04:56.927103Z",
     "iopub.status.idle": "2020-11-19T10:04:56.935400Z",
     "shell.execute_reply": "2020-11-19T10:04:56.935845Z"
    },
    "papermill": {
     "duration": 0.049652,
     "end_time": "2020-11-19T10:04:56.935969",
     "exception": false,
     "start_time": "2020-11-19T10:04:56.886317",
     "status": "completed"
    },
    "tags": []
   },
   "outputs": [],
   "source": [
    "import mnist"
   ]
  },
  {
   "cell_type": "code",
   "execution_count": 4,
   "metadata": {
    "execution": {
     "iopub.execute_input": "2020-11-19T10:04:57.007876Z",
     "iopub.status.busy": "2020-11-19T10:04:57.007157Z",
     "iopub.status.idle": "2020-11-19T10:04:57.742898Z",
     "shell.execute_reply": "2020-11-19T10:04:57.742221Z"
    },
    "papermill": {
     "duration": 0.770321,
     "end_time": "2020-11-19T10:04:57.743054",
     "exception": false,
     "start_time": "2020-11-19T10:04:56.972733",
     "status": "completed"
    },
    "tags": []
   },
   "outputs": [],
   "source": [
    "train_images = mnist.train_images()\n",
    "train_labels = mnist.train_labels()"
   ]
  },
  {
   "cell_type": "code",
   "execution_count": 5,
   "metadata": {
    "execution": {
     "iopub.execute_input": "2020-11-19T10:04:57.814832Z",
     "iopub.status.busy": "2020-11-19T10:04:57.814147Z",
     "iopub.status.idle": "2020-11-19T10:04:57.828841Z",
     "shell.execute_reply": "2020-11-19T10:04:57.829416Z"
    },
    "papermill": {
     "duration": 0.053069,
     "end_time": "2020-11-19T10:04:57.829592",
     "exception": false,
     "start_time": "2020-11-19T10:04:57.776523",
     "status": "completed"
    },
    "tags": []
   },
   "outputs": [
    {
     "data": {
      "text/plain": [
       "((60000, 28, 28), (60000,))"
      ]
     },
     "execution_count": 5,
     "metadata": {},
     "output_type": "execute_result"
    }
   ],
   "source": [
    "train_images.shape, train_labels.shape"
   ]
  },
  {
   "cell_type": "code",
   "execution_count": 6,
   "metadata": {
    "execution": {
     "iopub.execute_input": "2020-11-19T10:04:57.897623Z",
     "iopub.status.busy": "2020-11-19T10:04:57.896917Z",
     "iopub.status.idle": "2020-11-19T10:04:58.154539Z",
     "shell.execute_reply": "2020-11-19T10:04:58.153915Z"
    },
    "papermill": {
     "duration": 0.293358,
     "end_time": "2020-11-19T10:04:58.154690",
     "exception": false,
     "start_time": "2020-11-19T10:04:57.861332",
     "status": "completed"
    },
    "tags": []
   },
   "outputs": [],
   "source": [
    "test_images = mnist.test_images()\n",
    "test_labels = mnist.test_labels()"
   ]
  },
  {
   "cell_type": "code",
   "execution_count": 7,
   "metadata": {
    "execution": {
     "iopub.execute_input": "2020-11-19T10:04:58.235209Z",
     "iopub.status.busy": "2020-11-19T10:04:58.234534Z",
     "iopub.status.idle": "2020-11-19T10:04:58.246025Z",
     "shell.execute_reply": "2020-11-19T10:04:58.245449Z"
    },
    "papermill": {
     "duration": 0.057746,
     "end_time": "2020-11-19T10:04:58.246185",
     "exception": false,
     "start_time": "2020-11-19T10:04:58.188439",
     "status": "completed"
    },
    "tags": []
   },
   "outputs": [
    {
     "data": {
      "text/plain": [
       "((10000, 28, 28), (10000,))"
      ]
     },
     "execution_count": 7,
     "metadata": {},
     "output_type": "execute_result"
    }
   ],
   "source": [
    "test_images.shape, test_labels.shape"
   ]
  },
  {
   "cell_type": "code",
   "execution_count": 8,
   "metadata": {
    "execution": {
     "iopub.execute_input": "2020-11-19T10:04:58.314948Z",
     "iopub.status.busy": "2020-11-19T10:04:58.314290Z",
     "iopub.status.idle": "2020-11-19T10:04:58.498687Z",
     "shell.execute_reply": "2020-11-19T10:04:58.499254Z"
    },
    "papermill": {
     "duration": 0.221674,
     "end_time": "2020-11-19T10:04:58.499469",
     "exception": false,
     "start_time": "2020-11-19T10:04:58.277795",
     "status": "completed"
    },
    "tags": []
   },
   "outputs": [
    {
     "name": "stdout",
     "output_type": "stream",
     "text": [
      "2\n"
     ]
    },
    {
     "data": {
      "text/plain": [
       "<matplotlib.image.AxesImage at 0x7f3b27013080>"
      ]
     },
     "execution_count": 8,
     "metadata": {},
     "output_type": "execute_result"
    },
    {
     "data": {
      "image/png": "[encoded data removed]",
      "text/plain": [
       "<Figure size 432x288 with 1 Axes>"
      ]
     },
     "metadata": {
      "needs_background": "light"
     },
     "output_type": "display_data"
    }
   ],
   "source": [
    "image_index = 7776 # You may select anything up to 60,000\n",
    "print(train_labels[image_index]) \n",
    "plt.imshow(train_images[image_index], cmap='Greys')"
   ]
  },
  {
   "cell_type": "markdown",
   "metadata": {
    "papermill": {
     "duration": 0.034861,
     "end_time": "2020-11-19T10:04:58.567407",
     "exception": false,
     "start_time": "2020-11-19T10:04:58.532546",
     "status": "completed"
    },
    "tags": []
   },
   "source": [
    "## Filter data to get 3 and 8 out"
   ]
  },
  {
   "cell_type": "code",
   "execution_count": 9,
   "metadata": {
    "execution": {
     "iopub.execute_input": "2020-11-19T10:04:58.639545Z",
     "iopub.status.busy": "2020-11-19T10:04:58.638790Z",
     "iopub.status.idle": "2020-11-19T10:04:58.656776Z",
     "shell.execute_reply": "2020-11-19T10:04:58.656232Z"
    },
    "papermill": {
     "duration": 0.057215,
     "end_time": "2020-11-19T10:04:58.656921",
     "exception": false,
     "start_time": "2020-11-19T10:04:58.599706",
     "status": "completed"
    },
    "tags": []
   },
   "outputs": [],
   "source": [
    "train_filter = np.where((train_labels == 3 ) | (train_labels == 8))\n",
    "test_filter = np.where((test_labels == 3) | (test_labels == 8))\n",
    "X_train, y_train = train_images[train_filter], train_labels[train_filter]\n",
    "X_test, y_test = test_images[test_filter], test_labels[test_filter]"
   ]
  },
  {
   "cell_type": "markdown",
   "metadata": {
    "papermill": {
     "duration": 0.032882,
     "end_time": "2020-11-19T10:04:58.721091",
     "exception": false,
     "start_time": "2020-11-19T10:04:58.688209",
     "status": "completed"
    },
    "tags": []
   },
   "source": [
    "We normalize the pixel values in the 0 to 1 range"
   ]
  },
  {
   "cell_type": "code",
   "execution_count": 10,
   "metadata": {
    "execution": {
     "iopub.execute_input": "2020-11-19T10:04:58.798547Z",
     "iopub.status.busy": "2020-11-19T10:04:58.797878Z",
     "iopub.status.idle": "2020-11-19T10:04:58.856502Z",
     "shell.execute_reply": "2020-11-19T10:04:58.855913Z"
    },
    "papermill": {
     "duration": 0.102536,
     "end_time": "2020-11-19T10:04:58.856705",
     "exception": false,
     "start_time": "2020-11-19T10:04:58.754169",
     "status": "completed"
    },
    "tags": []
   },
   "outputs": [],
   "source": [
    "X_train = X_train/255.\n",
    "X_test = X_test/255."
   ]
  },
  {
   "cell_type": "markdown",
   "metadata": {
    "papermill": {
     "duration": 0.033421,
     "end_time": "2020-11-19T10:04:58.924766",
     "exception": false,
     "start_time": "2020-11-19T10:04:58.891345",
     "status": "completed"
    },
    "tags": []
   },
   "source": [
    "Setup the labels as 1 (when the digit is 3) and 0 (when the digit is 8)"
   ]
  },
  {
   "cell_type": "code",
   "execution_count": 11,
   "metadata": {
    "execution": {
     "iopub.execute_input": "2020-11-19T10:04:59.005194Z",
     "iopub.status.busy": "2020-11-19T10:04:58.998005Z",
     "iopub.status.idle": "2020-11-19T10:04:59.007860Z",
     "shell.execute_reply": "2020-11-19T10:04:59.008423Z"
    },
    "papermill": {
     "duration": 0.051494,
     "end_time": "2020-11-19T10:04:59.008568",
     "exception": false,
     "start_time": "2020-11-19T10:04:58.957074",
     "status": "completed"
    },
    "tags": []
   },
   "outputs": [],
   "source": [
    "y_train = 1*(y_train==3)\n",
    "y_test = 1*(y_test==3)"
   ]
  },
  {
   "cell_type": "code",
   "execution_count": 12,
   "metadata": {
    "execution": {
     "iopub.execute_input": "2020-11-19T10:04:59.083036Z",
     "iopub.status.busy": "2020-11-19T10:04:59.082275Z",
     "iopub.status.idle": "2020-11-19T10:04:59.095400Z",
     "shell.execute_reply": "2020-11-19T10:04:59.094742Z"
    },
    "papermill": {
     "duration": 0.053571,
     "end_time": "2020-11-19T10:04:59.095532",
     "exception": false,
     "start_time": "2020-11-19T10:04:59.041961",
     "status": "completed"
    },
    "tags": []
   },
   "outputs": [
    {
     "data": {
      "text/plain": [
       "((11982, 28, 28), (1984, 28, 28))"
      ]
     },
     "execution_count": 12,
     "metadata": {},
     "output_type": "execute_result"
    }
   ],
   "source": [
    "X_train.shape, X_test.shape"
   ]
  },
  {
   "cell_type": "markdown",
   "metadata": {
    "papermill": {
     "duration": 0.033923,
     "end_time": "2020-11-19T10:04:59.161287",
     "exception": false,
     "start_time": "2020-11-19T10:04:59.127364",
     "status": "completed"
    },
    "tags": []
   },
   "source": [
    "### Reshape the input data to create a linear array"
   ]
  },
  {
   "cell_type": "code",
   "execution_count": 13,
   "metadata": {
    "execution": {
     "iopub.execute_input": "2020-11-19T10:04:59.231615Z",
     "iopub.status.busy": "2020-11-19T10:04:59.230835Z",
     "iopub.status.idle": "2020-11-19T10:04:59.246603Z",
     "shell.execute_reply": "2020-11-19T10:04:59.247128Z"
    },
    "papermill": {
     "duration": 0.052548,
     "end_time": "2020-11-19T10:04:59.247274",
     "exception": false,
     "start_time": "2020-11-19T10:04:59.194726",
     "status": "completed"
    },
    "tags": []
   },
   "outputs": [
    {
     "data": {
      "text/plain": [
       "((11982, 784), (1984, 784))"
      ]
     },
     "execution_count": 13,
     "metadata": {},
     "output_type": "execute_result"
    }
   ],
   "source": [
    "X_train = X_train.reshape(X_train.shape[0], -1)\n",
    "X_test = X_test.reshape(X_test.shape[0], -1)\n",
    "X_train.shape, X_test.shape"
   ]
  },
  {
   "cell_type": "markdown",
   "metadata": {
    "papermill": {
     "duration": 0.03202,
     "end_time": "2020-11-19T10:04:59.315193",
     "exception": false,
     "start_time": "2020-11-19T10:04:59.283173",
     "status": "completed"
    },
    "tags": []
   },
   "source": [
    "### Importing appropriate functions from 'Kudzu'"
   ]
  },
  {
   "cell_type": "code",
   "execution_count": 14,
   "metadata": {
    "execution": {
     "iopub.execute_input": "2020-11-19T10:04:59.397068Z",
     "iopub.status.busy": "2020-11-19T10:04:59.387680Z",
     "iopub.status.idle": "2020-11-19T10:04:59.407840Z",
     "shell.execute_reply": "2020-11-19T10:04:59.407307Z"
    },
    "papermill": {
     "duration": 0.061528,
     "end_time": "2020-11-19T10:04:59.408013",
     "exception": false,
     "start_time": "2020-11-19T10:04:59.346485",
     "status": "completed"
    },
    "tags": []
   },
   "outputs": [],
   "source": [
    "from kudzu.layer import Sigmoid\n",
    "from kudzu.layer import Relu\n",
    "from kudzu.layer import Affine, Sigmoid\n",
    "\n",
    "from kudzu.model import Model\n",
    "from kudzu.train import Learner\n",
    "from kudzu.optim import GD\n",
    "from kudzu.data import Data, Dataloader, Sampler\n",
    "\n",
    "from kudzu.callbacks import AccCallback\n",
    "from kudzu.callbacks import ClfCallback\n",
    "\n",
    "from kudzu.loss import MSE"
   ]
  },
  {
   "cell_type": "markdown",
   "metadata": {
    "papermill": {
     "duration": 0.032129,
     "end_time": "2020-11-19T10:04:59.472222",
     "exception": false,
     "start_time": "2020-11-19T10:04:59.440093",
     "status": "completed"
    },
    "tags": []
   },
   "source": [
    "### Let us create a `Config` class, to store important parameters. \n",
    "This class essentially plays the role of a dictionary."
   ]
  },
  {
   "cell_type": "code",
   "execution_count": 15,
   "metadata": {
    "execution": {
     "iopub.execute_input": "2020-11-19T10:04:59.542437Z",
     "iopub.status.busy": "2020-11-19T10:04:59.541819Z",
     "iopub.status.idle": "2020-11-19T10:04:59.555386Z",
     "shell.execute_reply": "2020-11-19T10:04:59.554750Z"
    },
    "papermill": {
     "duration": 0.04899,
     "end_time": "2020-11-19T10:04:59.555582",
     "exception": false,
     "start_time": "2020-11-19T10:04:59.506592",
     "status": "completed"
    },
    "tags": []
   },
   "outputs": [],
   "source": [
    "class Config:\n",
    "    pass\n",
    "config = Config()\n",
    "config.lr = 0.001\n",
    "config.num_epochs = 251\n",
    "config.bs = 50"
   ]
  },
  {
   "cell_type": "markdown",
   "metadata": {
    "papermill": {
     "duration": 0.031267,
     "end_time": "2020-11-19T10:04:59.619188",
     "exception": false,
     "start_time": "2020-11-19T10:04:59.587921",
     "status": "completed"
    },
    "tags": []
   },
   "source": [
    "### Initializing data to the variables"
   ]
  },
  {
   "cell_type": "code",
   "execution_count": 16,
   "metadata": {
    "execution": {
     "iopub.execute_input": "2020-11-19T10:04:59.692363Z",
     "iopub.status.busy": "2020-11-19T10:04:59.691746Z",
     "iopub.status.idle": "2020-11-19T10:04:59.704756Z",
     "shell.execute_reply": "2020-11-19T10:04:59.705422Z"
    },
    "papermill": {
     "duration": 0.051793,
     "end_time": "2020-11-19T10:04:59.705590",
     "exception": false,
     "start_time": "2020-11-19T10:04:59.653797",
     "status": "completed"
    },
    "tags": []
   },
   "outputs": [],
   "source": [
    "data = Data(X_train, y_train.reshape(-1,1))\n",
    "sampler = Sampler(data, config.bs, shuffle=True)\n",
    "\n",
    "dl = Dataloader(data, sampler)\n",
    "\n",
    "opt = GD(config.lr)\n",
    "loss = MSE()"
   ]
  },
  {
   "cell_type": "code",
   "execution_count": 17,
   "metadata": {
    "execution": {
     "iopub.execute_input": "2020-11-19T10:04:59.774713Z",
     "iopub.status.busy": "2020-11-19T10:04:59.774008Z",
     "iopub.status.idle": "2020-11-19T10:04:59.787237Z",
     "shell.execute_reply": "2020-11-19T10:04:59.786739Z"
    },
    "papermill": {
     "duration": 0.04958,
     "end_time": "2020-11-19T10:04:59.787380",
     "exception": false,
     "start_time": "2020-11-19T10:04:59.737800",
     "status": "completed"
    },
    "tags": []
   },
   "outputs": [],
   "source": [
    "training_xdata = X_train\n",
    "testing_xdata = X_test\n",
    "training_ydata = y_train.reshape(-1,1)\n",
    "testing_ydata = y_test.reshape(-1,1)"
   ]
  },
  {
   "cell_type": "markdown",
   "metadata": {
    "papermill": {
     "duration": 0.03223,
     "end_time": "2020-11-19T10:04:59.853733",
     "exception": false,
     "start_time": "2020-11-19T10:04:59.821503",
     "status": "completed"
    },
    "tags": []
   },
   "source": [
    "### Running Models with the Training data\n",
    "Details about the network layers:\n",
    "- A first affine layer has 784 inputs and does 100 affine transforms. These are followed by a Relu\n",
    "- A second affine layer has 100 inputs from the 100 activations of the past layer, and does 100 affine transforms. These are followed by a Relu\n",
    "- A third affine layer has 100 activations and does 2 affine transformations to create an embedding for visualization. There is no non-linearity here.\n",
    "- A final \"logistic regression\" which has an affine transform from 2 inputs to 1 output, which is squeezed through a sigmoid.\n",
    "\n",
    "Help taken from Anshuman's Notebook."
   ]
  },
  {
   "cell_type": "code",
   "execution_count": 18,
   "metadata": {
    "execution": {
     "iopub.execute_input": "2020-11-19T10:04:59.926046Z",
     "iopub.status.busy": "2020-11-19T10:04:59.925427Z",
     "iopub.status.idle": "2020-11-19T10:04:59.944456Z",
     "shell.execute_reply": "2020-11-19T10:04:59.943900Z"
    },
    "papermill": {
     "duration": 0.058575,
     "end_time": "2020-11-19T10:04:59.944600",
     "exception": false,
     "start_time": "2020-11-19T10:04:59.886025",
     "status": "completed"
    },
    "tags": []
   },
   "outputs": [],
   "source": [
    "# layers for the Neural Network\n",
    "layers = [Affine(\"first\", 784, 100), Relu(\"first\"), Affine(\"second\", 100, 100), Relu(\"second\"), Affine(\"third\", 100, 2), Affine(\"final\", 2, 1), Sigmoid(\"final\")]\n",
    "model_nn = Model(layers)\n",
    "\n",
    "# layers for the Logistic Regression\n",
    "layers_lr = [Affine(\"logits\", 784, 1), Sigmoid(\"sigmoid\")]\n",
    "model_lr = Model(layers_lr)"
   ]
  },
  {
   "cell_type": "code",
   "execution_count": 19,
   "metadata": {
    "execution": {
     "iopub.execute_input": "2020-11-19T10:05:00.017876Z",
     "iopub.status.busy": "2020-11-19T10:05:00.017175Z",
     "iopub.status.idle": "2020-11-19T10:05:00.030307Z",
     "shell.execute_reply": "2020-11-19T10:05:00.030857Z"
    },
    "papermill": {
     "duration": 0.054559,
     "end_time": "2020-11-19T10:05:00.031060",
     "exception": false,
     "start_time": "2020-11-19T10:04:59.976501",
     "status": "completed"
    },
    "tags": []
   },
   "outputs": [],
   "source": [
    "# suffix _nn stands for Neural Network.\n",
    "learner_nn = Learner(loss, model_nn, opt, config.num_epochs)\n",
    "acc_nn = ClfCallback(learner_nn, config.bs, training_xdata , testing_xdata, training_ydata, testing_ydata)\n",
    "learner_nn.set_callbacks([acc_nn])"
   ]
  },
  {
   "cell_type": "code",
   "execution_count": 20,
   "metadata": {
    "execution": {
     "iopub.execute_input": "2020-11-19T10:05:00.105291Z",
     "iopub.status.busy": "2020-11-19T10:05:00.104550Z",
     "iopub.status.idle": "2020-11-19T10:07:19.398489Z",
     "shell.execute_reply": "2020-11-19T10:07:19.399140Z"
    },
    "papermill": {
     "duration": 139.336641,
     "end_time": "2020-11-19T10:07:19.399312",
     "exception": false,
     "start_time": "2020-11-19T10:05:00.062671",
     "status": "completed"
    },
    "tags": []
   },
   "outputs": [
    {
     "name": "stdout",
     "output_type": "stream",
     "text": [
      "====== Neural Network ======\n"
     ]
    },
    {
     "name": "stdout",
     "output_type": "stream",
     "text": [
      "Epoch 0, Loss 0.2459\n",
      "Training Accuracy: 0.5996, Testing Accuracy: 0.5892\n",
      "\n"
     ]
    },
    {
     "name": "stdout",
     "output_type": "stream",
     "text": [
      "Epoch 10, Loss 0.1029\n",
      "Training Accuracy: 0.9094, Testing Accuracy: 0.9189\n",
      "\n"
     ]
    },
    {
     "name": "stdout",
     "output_type": "stream",
     "text": [
      "Epoch 20, Loss 0.0611\n",
      "Training Accuracy: 0.9368, Testing Accuracy: 0.9496\n",
      "\n"
     ]
    },
    {
     "name": "stdout",
     "output_type": "stream",
     "text": [
      "Epoch 30, Loss 0.047\n",
      "Training Accuracy: 0.9474, Testing Accuracy: 0.9602\n",
      "\n"
     ]
    },
    {
     "name": "stdout",
     "output_type": "stream",
     "text": [
      "Epoch 40, Loss 0.0402\n",
      "Training Accuracy: 0.9547, Testing Accuracy: 0.9647\n",
      "\n"
     ]
    },
    {
     "name": "stdout",
     "output_type": "stream",
     "text": [
      "Epoch 50, Loss 0.0361\n",
      "Training Accuracy: 0.9593, Testing Accuracy: 0.9647\n",
      "\n"
     ]
    },
    {
     "name": "stdout",
     "output_type": "stream",
     "text": [
      "Epoch 60, Loss 0.0334\n",
      "Training Accuracy: 0.9616, Testing Accuracy: 0.9652\n",
      "\n"
     ]
    },
    {
     "name": "stdout",
     "output_type": "stream",
     "text": [
      "Epoch 70, Loss 0.0314\n",
      "Training Accuracy: 0.9632, Testing Accuracy: 0.9672\n",
      "\n"
     ]
    },
    {
     "name": "stdout",
     "output_type": "stream",
     "text": [
      "Epoch 80, Loss 0.0298\n",
      "Training Accuracy: 0.9648, Testing Accuracy: 0.9688\n",
      "\n"
     ]
    },
    {
     "name": "stdout",
     "output_type": "stream",
     "text": [
      "Epoch 90, Loss 0.0285\n",
      "Training Accuracy: 0.9667, Testing Accuracy: 0.9677\n",
      "\n"
     ]
    },
    {
     "name": "stdout",
     "output_type": "stream",
     "text": [
      "Epoch 100, Loss 0.0275\n",
      "Training Accuracy: 0.9680, Testing Accuracy: 0.9688\n",
      "\n"
     ]
    },
    {
     "name": "stdout",
     "output_type": "stream",
     "text": [
      "Epoch 110, Loss 0.0266\n",
      "Training Accuracy: 0.9696, Testing Accuracy: 0.9693\n",
      "\n"
     ]
    },
    {
     "name": "stdout",
     "output_type": "stream",
     "text": [
      "Epoch 120, Loss 0.0258\n",
      "Training Accuracy: 0.9708, Testing Accuracy: 0.9703\n",
      "\n"
     ]
    },
    {
     "name": "stdout",
     "output_type": "stream",
     "text": [
      "Epoch 130, Loss 0.0251\n",
      "Training Accuracy: 0.9713, Testing Accuracy: 0.9703\n",
      "\n"
     ]
    },
    {
     "name": "stdout",
     "output_type": "stream",
     "text": [
      "Epoch 140, Loss 0.0244\n",
      "Training Accuracy: 0.9718, Testing Accuracy: 0.9713\n",
      "\n"
     ]
    },
    {
     "name": "stdout",
     "output_type": "stream",
     "text": [
      "Epoch 150, Loss 0.0238\n",
      "Training Accuracy: 0.9720, Testing Accuracy: 0.9718\n",
      "\n"
     ]
    },
    {
     "name": "stdout",
     "output_type": "stream",
     "text": [
      "Epoch 160, Loss 0.0233\n",
      "Training Accuracy: 0.9725, Testing Accuracy: 0.9728\n",
      "\n"
     ]
    },
    {
     "name": "stdout",
     "output_type": "stream",
     "text": [
      "Epoch 170, Loss 0.0228\n",
      "Training Accuracy: 0.9734, Testing Accuracy: 0.9733\n",
      "\n"
     ]
    },
    {
     "name": "stdout",
     "output_type": "stream",
     "text": [
      "Epoch 180, Loss 0.0223\n",
      "Training Accuracy: 0.9740, Testing Accuracy: 0.9733\n",
      "\n"
     ]
    },
    {
     "name": "stdout",
     "output_type": "stream",
     "text": [
      "Epoch 190, Loss 0.0219\n",
      "Training Accuracy: 0.9748, Testing Accuracy: 0.9733\n",
      "\n"
     ]
    },
    {
     "name": "stdout",
     "output_type": "stream",
     "text": [
      "Epoch 200, Loss 0.0214\n",
      "Training Accuracy: 0.9751, Testing Accuracy: 0.9723\n",
      "\n"
     ]
    },
    {
     "name": "stdout",
     "output_type": "stream",
     "text": [
      "Epoch 210, Loss 0.021\n",
      "Training Accuracy: 0.9760, Testing Accuracy: 0.9723\n",
      "\n"
     ]
    },
    {
     "name": "stdout",
     "output_type": "stream",
     "text": [
      "Epoch 220, Loss 0.0206\n",
      "Training Accuracy: 0.9764, Testing Accuracy: 0.9723\n",
      "\n"
     ]
    },
    {
     "name": "stdout",
     "output_type": "stream",
     "text": [
      "Epoch 230, Loss 0.0202\n",
      "Training Accuracy: 0.9772, Testing Accuracy: 0.9728\n",
      "\n"
     ]
    },
    {
     "name": "stdout",
     "output_type": "stream",
     "text": [
      "Epoch 240, Loss 0.0198\n",
      "Training Accuracy: 0.9778, Testing Accuracy: 0.9733\n",
      "\n"
     ]
    },
    {
     "name": "stdout",
     "output_type": "stream",
     "text": [
      "Epoch 250, Loss 0.0195\n",
      "Training Accuracy: 0.9782, Testing Accuracy: 0.9733\n",
      "\n"
     ]
    },
    {
     "data": {
      "text/plain": [
       "0.011359864747862778"
      ]
     },
     "execution_count": 20,
     "metadata": {},
     "output_type": "execute_result"
    }
   ],
   "source": [
    "print(\"====== Neural Network ======\")\n",
    "learner_nn.train_loop(dl)"
   ]
  },
  {
   "cell_type": "markdown",
   "metadata": {
    "papermill": {
     "duration": 0.042787,
     "end_time": "2020-11-19T10:07:19.485556",
     "exception": false,
     "start_time": "2020-11-19T10:07:19.442769",
     "status": "completed"
    },
    "tags": []
   },
   "source": [
    "### Logistic Regression based Implementation."
   ]
  },
  {
   "cell_type": "code",
   "execution_count": 21,
   "metadata": {
    "execution": {
     "iopub.execute_input": "2020-11-19T10:07:19.577849Z",
     "iopub.status.busy": "2020-11-19T10:07:19.577126Z",
     "iopub.status.idle": "2020-11-19T10:07:19.596766Z",
     "shell.execute_reply": "2020-11-19T10:07:19.596191Z"
    },
    "papermill": {
     "duration": 0.06818,
     "end_time": "2020-11-19T10:07:19.596920",
     "exception": false,
     "start_time": "2020-11-19T10:07:19.528740",
     "status": "completed"
    },
    "tags": []
   },
   "outputs": [],
   "source": [
    "learner_lr = Learner(loss, model_lr, opt, config.num_epochs)\n",
    "acc_lr = ClfCallback(learner_lr, config.bs, training_xdata , testing_xdata, training_ydata, testing_ydata)\n",
    "learner_lr.set_callbacks([acc_lr])"
   ]
  },
  {
   "cell_type": "code",
   "execution_count": 22,
   "metadata": {
    "execution": {
     "iopub.execute_input": "2020-11-19T10:07:19.698826Z",
     "iopub.status.busy": "2020-11-19T10:07:19.698141Z",
     "iopub.status.idle": "2020-11-19T10:07:40.140221Z",
     "shell.execute_reply": "2020-11-19T10:07:40.141105Z"
    },
    "papermill": {
     "duration": 20.495713,
     "end_time": "2020-11-19T10:07:40.141316",
     "exception": false,
     "start_time": "2020-11-19T10:07:19.645603",
     "status": "completed"
    },
    "tags": []
   },
   "outputs": [
    {
     "name": "stdout",
     "output_type": "stream",
     "text": [
      "====== Logistic Regression ======\n",
      "Epoch 0, Loss 0.208\n",
      "Training Accuracy: 0.7968, Testing Accuracy: 0.8100\n",
      "\n"
     ]
    },
    {
     "name": "stdout",
     "output_type": "stream",
     "text": [
      "Epoch 10, Loss 0.1025\n",
      "Training Accuracy: 0.9023, Testing Accuracy: 0.9128\n",
      "\n"
     ]
    },
    {
     "name": "stdout",
     "output_type": "stream",
     "text": [
      "Epoch 20, Loss 0.0805\n",
      "Training Accuracy: 0.9226, Testing Accuracy: 0.9325\n",
      "\n"
     ]
    },
    {
     "name": "stdout",
     "output_type": "stream",
     "text": [
      "Epoch 30, Loss 0.0697\n",
      "Training Accuracy: 0.9328, Testing Accuracy: 0.9425\n",
      "\n"
     ]
    },
    {
     "name": "stdout",
     "output_type": "stream",
     "text": [
      "Epoch 40, Loss 0.063\n",
      "Training Accuracy: 0.9376, Testing Accuracy: 0.9451\n",
      "\n"
     ]
    },
    {
     "name": "stdout",
     "output_type": "stream",
     "text": [
      "Epoch 50, Loss 0.0583\n",
      "Training Accuracy: 0.9423, Testing Accuracy: 0.9491\n",
      "\n"
     ]
    },
    {
     "name": "stdout",
     "output_type": "stream",
     "text": [
      "Epoch 60, Loss 0.0549\n",
      "Training Accuracy: 0.9444, Testing Accuracy: 0.9536\n",
      "\n"
     ]
    },
    {
     "name": "stdout",
     "output_type": "stream",
     "text": [
      "Epoch 70, Loss 0.0523\n",
      "Training Accuracy: 0.9463, Testing Accuracy: 0.9546\n",
      "\n"
     ]
    },
    {
     "name": "stdout",
     "output_type": "stream",
     "text": [
      "Epoch 80, Loss 0.0501\n",
      "Training Accuracy: 0.9478, Testing Accuracy: 0.9567\n",
      "\n"
     ]
    },
    {
     "name": "stdout",
     "output_type": "stream",
     "text": [
      "Epoch 90, Loss 0.0484\n",
      "Training Accuracy: 0.9490, Testing Accuracy: 0.9577\n",
      "\n"
     ]
    },
    {
     "name": "stdout",
     "output_type": "stream",
     "text": [
      "Epoch 100, Loss 0.0469\n",
      "Training Accuracy: 0.9506, Testing Accuracy: 0.9597\n",
      "\n"
     ]
    },
    {
     "name": "stdout",
     "output_type": "stream",
     "text": [
      "Epoch 110, Loss 0.0456\n",
      "Training Accuracy: 0.9523, Testing Accuracy: 0.9597\n",
      "\n"
     ]
    },
    {
     "name": "stdout",
     "output_type": "stream",
     "text": [
      "Epoch 120, Loss 0.0445\n",
      "Training Accuracy: 0.9532, Testing Accuracy: 0.9597\n",
      "\n"
     ]
    },
    {
     "name": "stdout",
     "output_type": "stream",
     "text": [
      "Epoch 130, Loss 0.0435\n",
      "Training Accuracy: 0.9541, Testing Accuracy: 0.9602\n",
      "\n"
     ]
    },
    {
     "name": "stdout",
     "output_type": "stream",
     "text": [
      "Epoch 140, Loss 0.0427\n",
      "Training Accuracy: 0.9547, Testing Accuracy: 0.9612\n",
      "\n"
     ]
    },
    {
     "name": "stdout",
     "output_type": "stream",
     "text": [
      "Epoch 150, Loss 0.0419\n",
      "Training Accuracy: 0.9553, Testing Accuracy: 0.9612\n",
      "\n"
     ]
    },
    {
     "name": "stdout",
     "output_type": "stream",
     "text": [
      "Epoch 160, Loss 0.0412\n",
      "Training Accuracy: 0.9564, Testing Accuracy: 0.9622\n",
      "\n"
     ]
    },
    {
     "name": "stdout",
     "output_type": "stream",
     "text": [
      "Epoch 170, Loss 0.0405\n",
      "Training Accuracy: 0.9574, Testing Accuracy: 0.9627\n",
      "\n"
     ]
    },
    {
     "name": "stdout",
     "output_type": "stream",
     "text": [
      "Epoch 180, Loss 0.04\n",
      "Training Accuracy: 0.9578, Testing Accuracy: 0.9627\n",
      "\n"
     ]
    },
    {
     "name": "stdout",
     "output_type": "stream",
     "text": [
      "Epoch 190, Loss 0.0394\n",
      "Training Accuracy: 0.9580, Testing Accuracy: 0.9627\n",
      "\n"
     ]
    },
    {
     "name": "stdout",
     "output_type": "stream",
     "text": [
      "Epoch 200, Loss 0.0389\n",
      "Training Accuracy: 0.9586, Testing Accuracy: 0.9632\n",
      "\n"
     ]
    },
    {
     "name": "stdout",
     "output_type": "stream",
     "text": [
      "Epoch 210, Loss 0.0385\n",
      "Training Accuracy: 0.9595, Testing Accuracy: 0.9627\n",
      "\n"
     ]
    },
    {
     "name": "stdout",
     "output_type": "stream",
     "text": [
      "Epoch 220, Loss 0.038\n",
      "Training Accuracy: 0.9599, Testing Accuracy: 0.9627\n",
      "\n"
     ]
    },
    {
     "name": "stdout",
     "output_type": "stream",
     "text": [
      "Epoch 230, Loss 0.0376\n",
      "Training Accuracy: 0.9601, Testing Accuracy: 0.9627\n",
      "\n"
     ]
    },
    {
     "name": "stdout",
     "output_type": "stream",
     "text": [
      "Epoch 240, Loss 0.0373\n",
      "Training Accuracy: 0.9605, Testing Accuracy: 0.9627\n",
      "\n"
     ]
    },
    {
     "name": "stdout",
     "output_type": "stream",
     "text": [
      "Epoch 250, Loss 0.0369\n",
      "Training Accuracy: 0.9608, Testing Accuracy: 0.9627\n",
      "\n"
     ]
    },
    {
     "data": {
      "text/plain": [
       "0.05786607584686912"
      ]
     },
     "execution_count": 22,
     "metadata": {},
     "output_type": "execute_result"
    }
   ],
   "source": [
    "print(\"====== Logistic Regression ======\")\n",
    "learner_lr.train_loop(dl)"
   ]
  },
  {
   "cell_type": "markdown",
   "metadata": {
    "papermill": {
     "duration": 0.051878,
     "end_time": "2020-11-19T10:07:40.244656",
     "exception": false,
     "start_time": "2020-11-19T10:07:40.192778",
     "status": "completed"
    },
    "tags": []
   },
   "source": [
    "### Comparing results of NN and LR"
   ]
  },
  {
   "cell_type": "code",
   "execution_count": 23,
   "metadata": {
    "execution": {
     "iopub.execute_input": "2020-11-19T10:07:40.354495Z",
     "iopub.status.busy": "2020-11-19T10:07:40.353780Z",
     "iopub.status.idle": "2020-11-19T10:07:40.648094Z",
     "shell.execute_reply": "2020-11-19T10:07:40.647544Z"
    },
    "papermill": {
     "duration": 0.351291,
     "end_time": "2020-11-19T10:07:40.648248",
     "exception": false,
     "start_time": "2020-11-19T10:07:40.296957",
     "status": "completed"
    },
    "tags": []
   },
   "outputs": [
    {
     "data": {
      "text/plain": [
       "<matplotlib.legend.Legend at 0x7f3b204369e8>"
      ]
     },
     "execution_count": 23,
     "metadata": {},
     "output_type": "execute_result"
    },
    {
     "data": {
      "image/png": "[encoded data removed]",
      "text/plain": [
       "<Figure size 1080x720 with 1 Axes>"
      ]
     },
     "metadata": {
      "needs_background": "light"
     },
     "output_type": "display_data"
    }
   ],
   "source": [
    "plt.figure(figsize=(15,10))\n",
    "\n",
    "# Neural Network plots\n",
    "plt.plot(acc_nn.accuracies, 'r-', label = \"Training Accuracies - NN\")\n",
    "plt.plot(acc_nn.test_accuracies, 'g-', label = \"Testing Accuracies - NN\")\n",
    "\n",
    "# Logistic Regression plots\n",
    "plt.plot(acc_lr.accuracies, 'k-', label = \"Training Accuracies - LR\")\n",
    "plt.plot(acc_lr.test_accuracies, 'b-', label = \"Testing Accuracies - LR\")\n",
    "\n",
    "plt.ylim(0.8, 1)\n",
    "\n",
    "plt.legend()\n",
    "\n"
   ]
  },
  {
   "cell_type": "markdown",
   "metadata": {
    "papermill": {
     "duration": 0.059744,
     "end_time": "2020-11-19T10:07:40.761574",
     "exception": false,
     "start_time": "2020-11-19T10:07:40.701830",
     "status": "completed"
    },
    "tags": []
   },
   "source": [
    "### From the plot, we can observe the following:\n",
    "- Neural Network achieves higher accuracy than the Logistic Regression model.\n",
    "- This apparently, is because of overfitting, i.e. NN captures more noise than data.\n",
    "- Testing accuracy of NN drops below the Training accuracy at higher epochs. This explains the over-fitting on training data.\n",
    "- Logistic Regression gives a reliable accuracy, without the above mentioned problem.\n"
   ]
  },
  {
   "cell_type": "markdown",
   "metadata": {
    "papermill": {
     "duration": 0.055606,
     "end_time": "2020-11-19T10:07:40.877179",
     "exception": false,
     "start_time": "2020-11-19T10:07:40.821573",
     "status": "completed"
    },
    "tags": []
   },
   "source": [
    "### Moving till the last but one layer (excluding it).\n",
    "#### Plotting the outputs of this layer of the NN."
   ]
  },
  {
   "cell_type": "code",
   "execution_count": 24,
   "metadata": {
    "execution": {
     "iopub.execute_input": "2020-11-19T10:07:40.990675Z",
     "iopub.status.busy": "2020-11-19T10:07:40.988504Z",
     "iopub.status.idle": "2020-11-19T10:07:41.004343Z",
     "shell.execute_reply": "2020-11-19T10:07:41.004904Z"
    },
    "papermill": {
     "duration": 0.073447,
     "end_time": "2020-11-19T10:07:41.005078",
     "exception": false,
     "start_time": "2020-11-19T10:07:40.931631",
     "status": "completed"
    },
    "tags": []
   },
   "outputs": [],
   "source": [
    "model_new = Model(layers[:-2])"
   ]
  },
  {
   "cell_type": "code",
   "execution_count": 25,
   "metadata": {
    "execution": {
     "iopub.execute_input": "2020-11-19T10:07:41.135591Z",
     "iopub.status.busy": "2020-11-19T10:07:41.134832Z",
     "iopub.status.idle": "2020-11-19T10:07:41.150516Z",
     "shell.execute_reply": "2020-11-19T10:07:41.151122Z"
    },
    "papermill": {
     "duration": 0.090332,
     "end_time": "2020-11-19T10:07:41.151306",
     "exception": false,
     "start_time": "2020-11-19T10:07:41.060974",
     "status": "completed"
    },
    "tags": []
   },
   "outputs": [],
   "source": [
    "plot_testing = model_new(testing_xdata)"
   ]
  },
  {
   "cell_type": "code",
   "execution_count": 26,
   "metadata": {
    "execution": {
     "iopub.execute_input": "2020-11-19T10:07:41.267960Z",
     "iopub.status.busy": "2020-11-19T10:07:41.267144Z",
     "iopub.status.idle": "2020-11-19T10:07:41.536598Z",
     "shell.execute_reply": "2020-11-19T10:07:41.537118Z"
    },
    "papermill": {
     "duration": 0.332001,
     "end_time": "2020-11-19T10:07:41.537333",
     "exception": false,
     "start_time": "2020-11-19T10:07:41.205332",
     "status": "completed"
    },
    "tags": []
   },
   "outputs": [
    {
     "data": {
      "text/plain": [
       "Text(0.5, 1.0, 'Outputs')"
      ]
     },
     "execution_count": 26,
     "metadata": {},
     "output_type": "execute_result"
    },
    {
     "data": {
      "image/png": "[encoded data removed]",
      "text/plain": [
       "<Figure size 576x504 with 1 Axes>"
      ]
     },
     "metadata": {
      "needs_background": "light"
     },
     "output_type": "display_data"
    }
   ],
   "source": [
    "plt.figure(figsize=(8,7))\n",
    "plt.scatter(plot_testing[:,0], plot_testing[:,1], alpha = 0.1, c = y_test.ravel());\n",
    "plt.title('Outputs')"
   ]
  },
  {
   "cell_type": "markdown",
   "metadata": {
    "papermill": {
     "duration": 0.057743,
     "end_time": "2020-11-19T10:07:41.659327",
     "exception": false,
     "start_time": "2020-11-19T10:07:41.601584",
     "status": "completed"
    },
    "tags": []
   },
   "source": [
    "### Plotting probability contours"
   ]
  },
  {
   "cell_type": "code",
   "execution_count": 27,
   "metadata": {
    "execution": {
     "iopub.execute_input": "2020-11-19T10:07:41.777128Z",
     "iopub.status.busy": "2020-11-19T10:07:41.776437Z",
     "iopub.status.idle": "2020-11-19T10:07:41.791918Z",
     "shell.execute_reply": "2020-11-19T10:07:41.791324Z"
    },
    "papermill": {
     "duration": 0.076678,
     "end_time": "2020-11-19T10:07:41.792075",
     "exception": false,
     "start_time": "2020-11-19T10:07:41.715397",
     "status": "completed"
    },
    "tags": []
   },
   "outputs": [],
   "source": [
    "model_prob = Model(layers[-2:]) "
   ]
  },
  {
   "cell_type": "code",
   "execution_count": 28,
   "metadata": {
    "execution": {
     "iopub.execute_input": "2020-11-19T10:07:41.914926Z",
     "iopub.status.busy": "2020-11-19T10:07:41.914224Z",
     "iopub.status.idle": "2020-11-19T10:07:41.930306Z",
     "shell.execute_reply": "2020-11-19T10:07:41.930840Z"
    },
    "papermill": {
     "duration": 0.08136,
     "end_time": "2020-11-19T10:07:41.931021",
     "exception": false,
     "start_time": "2020-11-19T10:07:41.849661",
     "status": "completed"
    },
    "tags": []
   },
   "outputs": [],
   "source": [
    "# Adjust the x and y ranges according to the above generated plot.\n",
    "x_range = np.linspace(-4, 1, 100) \n",
    "y_range = np.linspace(-6, 6, 100) \n",
    "x_grid, y_grid = np.meshgrid(x_range, y_range) # x_grid and y_grig are of size 100 X 100\n",
    "\n",
    "# converting x_grid and y_grid to continuous arrays\n",
    "x_grid_flat = np.ravel(x_grid)\n",
    "y_grid_flat = np.ravel(y_grid)\n",
    "\n",
    "# The last layer of the current model takes two columns as input. Hence transpose of np.vstack() is required.\n",
    "X = np.vstack((x_grid_flat, y_grid_flat)).T\n",
    "\n",
    "# x_grid and y_grid are of size 100 x 100\n",
    "probability_contour = model_prob(X).reshape(100,100) "
   ]
  },
  {
   "cell_type": "code",
   "execution_count": 29,
   "metadata": {
    "execution": {
     "iopub.execute_input": "2020-11-19T10:07:42.055013Z",
     "iopub.status.busy": "2020-11-19T10:07:42.054198Z",
     "iopub.status.idle": "2020-11-19T10:07:42.406305Z",
     "shell.execute_reply": "2020-11-19T10:07:42.405734Z"
    },
    "papermill": {
     "duration": 0.415602,
     "end_time": "2020-11-19T10:07:42.406459",
     "exception": false,
     "start_time": "2020-11-19T10:07:41.990857",
     "status": "completed"
    },
    "tags": []
   },
   "outputs": [
    {
     "data": {
      "image/png": "[encoded data removed]",
      "text/plain": [
       "<Figure size 720x648 with 1 Axes>"
      ]
     },
     "metadata": {
      "needs_background": "light"
     },
     "output_type": "display_data"
    }
   ],
   "source": [
    "plt.figure(figsize=(10,9))\n",
    "plt.scatter(plot_testing[:,0], plot_testing[:,1], alpha = 0.1, c = y_test.ravel())\n",
    "contours = plt.contour(x_grid,y_grid,probability_contour)\n",
    "plt.title('Probability Contours')\n",
    "plt.clabel(contours, inline = True );"
   ]
  }
 ],
 "metadata": {
  "kernelspec": {
   "display_name": "Python 3",
   "language": "python",
   "name": "python3"
  },
  "language_info": {
   "codemirror_mode": {
    "name": "ipython",
    "version": 3
   },
   "file_extension": ".py",
   "mimetype": "text/x-python",
   "name": "python",
   "nbconvert_exporter": "python",
   "pygments_lexer": "ipython3",
   "version": "3.6.12"
  },
  "papermill": {
   "duration": 170.095027,
   "end_time": "2020-11-19T10:07:42.901957",
   "environment_variables": {},
   "exception": null,
   "input_path": "2020-08-11-NeuralNetwork.ipynb",
   "output_path": "2020-08-11-NeuralNetwork.ipynb",
   "parameters": {},
   "start_time": "2020-11-19T10:04:52.806930",
   "version": "2.1.2"
  }
 },
 "nbformat": 4,
 "nbformat_minor": 4
}