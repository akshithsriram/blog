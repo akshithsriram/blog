{
 "cells": [
  {
   "cell_type": "markdown",
   "metadata": {
    "papermill": {
     "duration": 0.032029,
     "end_time": "2020-10-06T00:07:42.188205",
     "exception": false,
     "start_time": "2020-10-06T00:07:42.156176",
     "status": "completed"
    },
    "tags": []
   },
   "source": [
    "# \"A Basic Neural Network: Differentiate Hand-Written Digits\"\n",
    "\n",
    "- badges: true\n",
    "- author: Akshith Sriram"
   ]
  },
  {
   "cell_type": "markdown",
   "metadata": {
    "papermill": {
     "duration": 0.027781,
     "end_time": "2020-10-06T00:07:42.246441",
     "exception": false,
     "start_time": "2020-10-06T00:07:42.218660",
     "status": "completed"
    },
    "tags": []
   },
   "source": [
    "### Key Objectives:\n",
    "- Building a neural network that differentiates two hand-written digits 3 and 8.\n",
    "- Comparing the results of this Neural Network (NN) to that of a Logistic Regression (LR) model.\n",
    "\n",
    "### Requirements:\n",
    "- 'Kudzu' : A neural network library that was designed during our course by [Univ.AI](www.univ.ai). \n",
    "- MNIST Database\n",
    "\n",
    "If MNIST is not installed, use the command `!pip install mnist` given below.\n",
    "It can be run both from the command line and Jupyter Notebook."
   ]
  },
  {
   "cell_type": "code",
   "execution_count": 1,
   "metadata": {
    "execution": {
     "iopub.execute_input": "2020-10-06T00:07:42.307238Z",
     "iopub.status.busy": "2020-10-06T00:07:42.306523Z",
     "iopub.status.idle": "2020-10-06T00:07:43.872945Z",
     "shell.execute_reply": "2020-10-06T00:07:43.873591Z"
    },
    "papermill": {
     "duration": 1.599221,
     "end_time": "2020-10-06T00:07:43.873793",
     "exception": false,
     "start_time": "2020-10-06T00:07:42.274572",
     "status": "completed"
    },
    "tags": []
   },
   "outputs": [
    {
     "name": "stdout",
     "output_type": "stream",
     "text": [
      "Collecting mnist\r\n"
     ]
    },
    {
     "name": "stdout",
     "output_type": "stream",
     "text": [
      "  Downloading mnist-0.2.2-py2.py3-none-any.whl (3.5 kB)\r\n",
      "Requirement already satisfied: numpy in /opt/hostedtoolcache/Python/3.6.12/x64/lib/python3.6/site-packages (from mnist) (1.19.2)\r\n"
     ]
    },
    {
     "name": "stdout",
     "output_type": "stream",
     "text": [
      "Installing collected packages: mnist\r\n"
     ]
    },
    {
     "name": "stdout",
     "output_type": "stream",
     "text": [
      "Successfully installed mnist-0.2.2\r\n"
     ]
    }
   ],
   "source": [
    "!pip install mnist "
   ]
  },
  {
   "cell_type": "markdown",
   "metadata": {
    "papermill": {
     "duration": 0.028199,
     "end_time": "2020-10-06T00:07:43.931539",
     "exception": false,
     "start_time": "2020-10-06T00:07:43.903340",
     "status": "completed"
    },
    "tags": []
   },
   "source": [
    "#### Importing necessary libraries"
   ]
  },
  {
   "cell_type": "code",
   "execution_count": 2,
   "metadata": {
    "execution": {
     "iopub.execute_input": "2020-10-06T00:07:44.005991Z",
     "iopub.status.busy": "2020-10-06T00:07:44.005346Z",
     "iopub.status.idle": "2020-10-06T00:07:44.615648Z",
     "shell.execute_reply": "2020-10-06T00:07:44.614850Z"
    },
    "papermill": {
     "duration": 0.652017,
     "end_time": "2020-10-06T00:07:44.615828",
     "exception": false,
     "start_time": "2020-10-06T00:07:43.963811",
     "status": "completed"
    },
    "tags": []
   },
   "outputs": [],
   "source": [
    "%load_ext autoreload\n",
    "%autoreload 2\n",
    "\n",
    "%matplotlib inline\n",
    "import matplotlib.pyplot as plt\n",
    "\n",
    "import numpy as np\n",
    "import pandas as pd"
   ]
  },
  {
   "cell_type": "markdown",
   "metadata": {
    "papermill": {
     "duration": 0.030115,
     "end_time": "2020-10-06T00:07:44.675837",
     "exception": false,
     "start_time": "2020-10-06T00:07:44.645722",
     "status": "completed"
    },
    "tags": []
   },
   "source": [
    "### Preparing the Data"
   ]
  },
  {
   "cell_type": "code",
   "execution_count": 3,
   "metadata": {
    "execution": {
     "iopub.execute_input": "2020-10-06T00:07:44.742177Z",
     "iopub.status.busy": "2020-10-06T00:07:44.741513Z",
     "iopub.status.idle": "2020-10-06T00:07:44.757774Z",
     "shell.execute_reply": "2020-10-06T00:07:44.757220Z"
    },
    "papermill": {
     "duration": 0.052298,
     "end_time": "2020-10-06T00:07:44.757915",
     "exception": false,
     "start_time": "2020-10-06T00:07:44.705617",
     "status": "completed"
    },
    "tags": []
   },
   "outputs": [],
   "source": [
    "import mnist"
   ]
  },
  {
   "cell_type": "code",
   "execution_count": 4,
   "metadata": {
    "execution": {
     "iopub.execute_input": "2020-10-06T00:07:44.826278Z",
     "iopub.status.busy": "2020-10-06T00:07:44.825617Z",
     "iopub.status.idle": "2020-10-06T00:07:45.582922Z",
     "shell.execute_reply": "2020-10-06T00:07:45.582199Z"
    },
    "papermill": {
     "duration": 0.794634,
     "end_time": "2020-10-06T00:07:45.583149",
     "exception": false,
     "start_time": "2020-10-06T00:07:44.788515",
     "status": "completed"
    },
    "tags": []
   },
   "outputs": [],
   "source": [
    "train_images = mnist.train_images()\n",
    "train_labels = mnist.train_labels()"
   ]
  },
  {
   "cell_type": "code",
   "execution_count": 5,
   "metadata": {
    "execution": {
     "iopub.execute_input": "2020-10-06T00:07:45.664445Z",
     "iopub.status.busy": "2020-10-06T00:07:45.663331Z",
     "iopub.status.idle": "2020-10-06T00:07:45.670301Z",
     "shell.execute_reply": "2020-10-06T00:07:45.671037Z"
    },
    "papermill": {
     "duration": 0.060105,
     "end_time": "2020-10-06T00:07:45.671206",
     "exception": false,
     "start_time": "2020-10-06T00:07:45.611101",
     "status": "completed"
    },
    "tags": []
   },
   "outputs": [
    {
     "data": {
      "text/plain": [
       "((60000, 28, 28), (60000,))"
      ]
     },
     "execution_count": 5,
     "metadata": {},
     "output_type": "execute_result"
    }
   ],
   "source": [
    "train_images.shape, train_labels.shape"
   ]
  },
  {
   "cell_type": "code",
   "execution_count": 6,
   "metadata": {
    "execution": {
     "iopub.execute_input": "2020-10-06T00:07:45.751614Z",
     "iopub.status.busy": "2020-10-06T00:07:45.750736Z",
     "iopub.status.idle": "2020-10-06T00:07:46.004313Z",
     "shell.execute_reply": "2020-10-06T00:07:46.003506Z"
    },
    "papermill": {
     "duration": 0.305501,
     "end_time": "2020-10-06T00:07:46.004466",
     "exception": false,
     "start_time": "2020-10-06T00:07:45.698965",
     "status": "completed"
    },
    "tags": []
   },
   "outputs": [],
   "source": [
    "test_images = mnist.test_images()\n",
    "test_labels = mnist.test_labels()"
   ]
  },
  {
   "cell_type": "code",
   "execution_count": 7,
   "metadata": {
    "execution": {
     "iopub.execute_input": "2020-10-06T00:07:46.071955Z",
     "iopub.status.busy": "2020-10-06T00:07:46.071153Z",
     "iopub.status.idle": "2020-10-06T00:07:46.085429Z",
     "shell.execute_reply": "2020-10-06T00:07:46.084802Z"
    },
    "papermill": {
     "duration": 0.053977,
     "end_time": "2020-10-06T00:07:46.085585",
     "exception": false,
     "start_time": "2020-10-06T00:07:46.031608",
     "status": "completed"
    },
    "tags": []
   },
   "outputs": [
    {
     "data": {
      "text/plain": [
       "((10000, 28, 28), (10000,))"
      ]
     },
     "execution_count": 7,
     "metadata": {},
     "output_type": "execute_result"
    }
   ],
   "source": [
    "test_images.shape, test_labels.shape"
   ]
  },
  {
   "cell_type": "code",
   "execution_count": 8,
   "metadata": {
    "execution": {
     "iopub.execute_input": "2020-10-06T00:07:46.155525Z",
     "iopub.status.busy": "2020-10-06T00:07:46.154922Z",
     "iopub.status.idle": "2020-10-06T00:07:46.336668Z",
     "shell.execute_reply": "2020-10-06T00:07:46.337261Z"
    },
    "papermill": {
     "duration": 0.222249,
     "end_time": "2020-10-06T00:07:46.337418",
     "exception": false,
     "start_time": "2020-10-06T00:07:46.115169",
     "status": "completed"
    },
    "tags": []
   },
   "outputs": [
    {
     "name": "stdout",
     "output_type": "stream",
     "text": [
      "2\n"
     ]
    },
    {
     "data": {
      "text/plain": [
       "<matplotlib.image.AxesImage at 0x7fd5c9a13908>"
      ]
     },
     "execution_count": 8,
     "metadata": {},
     "output_type": "execute_result"
    },
    {
     "data": {
      "image/png": "[encoded data removed]",
      "text/plain": [
       "<Figure size 432x288 with 1 Axes>"
      ]
     },
     "metadata": {
      "needs_background": "light"
     },
     "output_type": "display_data"
    }
   ],
   "source": [
    "image_index = 7776 # You may select anything up to 60,000\n",
    "print(train_labels[image_index]) \n",
    "plt.imshow(train_images[image_index], cmap='Greys')"
   ]
  },
  {
   "cell_type": "markdown",
   "metadata": {
    "papermill": {
     "duration": 0.033474,
     "end_time": "2020-10-06T00:07:46.402525",
     "exception": false,
     "start_time": "2020-10-06T00:07:46.369051",
     "status": "completed"
    },
    "tags": []
   },
   "source": [
    "## Filter data to get 3 and 8 out"
   ]
  },
  {
   "cell_type": "code",
   "execution_count": 9,
   "metadata": {
    "execution": {
     "iopub.execute_input": "2020-10-06T00:07:46.483506Z",
     "iopub.status.busy": "2020-10-06T00:07:46.475981Z",
     "iopub.status.idle": "2020-10-06T00:07:46.490501Z",
     "shell.execute_reply": "2020-10-06T00:07:46.489977Z"
    },
    "papermill": {
     "duration": 0.057437,
     "end_time": "2020-10-06T00:07:46.490659",
     "exception": false,
     "start_time": "2020-10-06T00:07:46.433222",
     "status": "completed"
    },
    "tags": []
   },
   "outputs": [],
   "source": [
    "train_filter = np.where((train_labels == 3 ) | (train_labels == 8))\n",
    "test_filter = np.where((test_labels == 3) | (test_labels == 8))\n",
    "X_train, y_train = train_images[train_filter], train_labels[train_filter]\n",
    "X_test, y_test = test_images[test_filter], test_labels[test_filter]"
   ]
  },
  {
   "cell_type": "markdown",
   "metadata": {
    "papermill": {
     "duration": 0.030086,
     "end_time": "2020-10-06T00:07:46.550604",
     "exception": false,
     "start_time": "2020-10-06T00:07:46.520518",
     "status": "completed"
    },
    "tags": []
   },
   "source": [
    "We normalize the pixel values in the 0 to 1 range"
   ]
  },
  {
   "cell_type": "code",
   "execution_count": 10,
   "metadata": {
    "execution": {
     "iopub.execute_input": "2020-10-06T00:07:46.617124Z",
     "iopub.status.busy": "2020-10-06T00:07:46.616385Z",
     "iopub.status.idle": "2020-10-06T00:07:46.677363Z",
     "shell.execute_reply": "2020-10-06T00:07:46.677836Z"
    },
    "papermill": {
     "duration": 0.09692,
     "end_time": "2020-10-06T00:07:46.677997",
     "exception": false,
     "start_time": "2020-10-06T00:07:46.581077",
     "status": "completed"
    },
    "tags": []
   },
   "outputs": [],
   "source": [
    "X_train = X_train/255.\n",
    "X_test = X_test/255."
   ]
  },
  {
   "cell_type": "markdown",
   "metadata": {
    "papermill": {
     "duration": 0.03101,
     "end_time": "2020-10-06T00:07:46.739960",
     "exception": false,
     "start_time": "2020-10-06T00:07:46.708950",
     "status": "completed"
    },
    "tags": []
   },
   "source": [
    "Setup the labels as 1 (when the digit is 3) and 0 (when the digit is 8)"
   ]
  },
  {
   "cell_type": "code",
   "execution_count": 11,
   "metadata": {
    "execution": {
     "iopub.execute_input": "2020-10-06T00:07:46.808914Z",
     "iopub.status.busy": "2020-10-06T00:07:46.808263Z",
     "iopub.status.idle": "2020-10-06T00:07:46.822985Z",
     "shell.execute_reply": "2020-10-06T00:07:46.822357Z"
    },
    "papermill": {
     "duration": 0.053259,
     "end_time": "2020-10-06T00:07:46.823136",
     "exception": false,
     "start_time": "2020-10-06T00:07:46.769877",
     "status": "completed"
    },
    "tags": []
   },
   "outputs": [],
   "source": [
    "y_train = 1*(y_train==3)\n",
    "y_test = 1*(y_test==3)"
   ]
  },
  {
   "cell_type": "code",
   "execution_count": 12,
   "metadata": {
    "execution": {
     "iopub.execute_input": "2020-10-06T00:07:46.903038Z",
     "iopub.status.busy": "2020-10-06T00:07:46.897166Z",
     "iopub.status.idle": "2020-10-06T00:07:46.907062Z",
     "shell.execute_reply": "2020-10-06T00:07:46.907503Z"
    },
    "papermill": {
     "duration": 0.05258,
     "end_time": "2020-10-06T00:07:46.907651",
     "exception": false,
     "start_time": "2020-10-06T00:07:46.855071",
     "status": "completed"
    },
    "tags": []
   },
   "outputs": [
    {
     "data": {
      "text/plain": [
       "((11982, 28, 28), (1984, 28, 28))"
      ]
     },
     "execution_count": 12,
     "metadata": {},
     "output_type": "execute_result"
    }
   ],
   "source": [
    "X_train.shape, X_test.shape"
   ]
  },
  {
   "cell_type": "markdown",
   "metadata": {
    "papermill": {
     "duration": 0.029954,
     "end_time": "2020-10-06T00:07:46.968665",
     "exception": false,
     "start_time": "2020-10-06T00:07:46.938711",
     "status": "completed"
    },
    "tags": []
   },
   "source": [
    "### Reshape the input data to create a linear array"
   ]
  },
  {
   "cell_type": "code",
   "execution_count": 13,
   "metadata": {
    "execution": {
     "iopub.execute_input": "2020-10-06T00:07:47.043719Z",
     "iopub.status.busy": "2020-10-06T00:07:47.043041Z",
     "iopub.status.idle": "2020-10-06T00:07:47.056553Z",
     "shell.execute_reply": "2020-10-06T00:07:47.057132Z"
    },
    "papermill": {
     "duration": 0.055548,
     "end_time": "2020-10-06T00:07:47.057294",
     "exception": false,
     "start_time": "2020-10-06T00:07:47.001746",
     "status": "completed"
    },
    "tags": []
   },
   "outputs": [
    {
     "data": {
      "text/plain": [
       "((11982, 784), (1984, 784))"
      ]
     },
     "execution_count": 13,
     "metadata": {},
     "output_type": "execute_result"
    }
   ],
   "source": [
    "X_train = X_train.reshape(X_train.shape[0], -1)\n",
    "X_test = X_test.reshape(X_test.shape[0], -1)\n",
    "X_train.shape, X_test.shape"
   ]
  },
  {
   "cell_type": "markdown",
   "metadata": {
    "papermill": {
     "duration": 0.031322,
     "end_time": "2020-10-06T00:07:47.120765",
     "exception": false,
     "start_time": "2020-10-06T00:07:47.089443",
     "status": "completed"
    },
    "tags": []
   },
   "source": [
    "### Importing appropriate functions from 'Kudzu'"
   ]
  },
  {
   "cell_type": "code",
   "execution_count": 14,
   "metadata": {
    "execution": {
     "iopub.execute_input": "2020-10-06T00:07:47.191088Z",
     "iopub.status.busy": "2020-10-06T00:07:47.190515Z",
     "iopub.status.idle": "2020-10-06T00:07:47.211399Z",
     "shell.execute_reply": "2020-10-06T00:07:47.212002Z"
    },
    "papermill": {
     "duration": 0.056629,
     "end_time": "2020-10-06T00:07:47.212151",
     "exception": false,
     "start_time": "2020-10-06T00:07:47.155522",
     "status": "completed"
    },
    "tags": []
   },
   "outputs": [],
   "source": [
    "from kudzu.layer import Sigmoid\n",
    "from kudzu.layer import Relu\n",
    "from kudzu.layer import Affine, Sigmoid\n",
    "\n",
    "from kudzu.model import Model\n",
    "from kudzu.train import Learner\n",
    "from kudzu.optim import GD\n",
    "from kudzu.data import Data, Dataloader, Sampler\n",
    "\n",
    "from kudzu.callbacks import AccCallback\n",
    "from kudzu.callbacks import ClfCallback\n",
    "\n",
    "from kudzu.loss import MSE"
   ]
  },
  {
   "cell_type": "markdown",
   "metadata": {
    "papermill": {
     "duration": 0.030774,
     "end_time": "2020-10-06T00:07:47.274464",
     "exception": false,
     "start_time": "2020-10-06T00:07:47.243690",
     "status": "completed"
    },
    "tags": []
   },
   "source": [
    "### Let us create a `Config` class, to store important parameters. \n",
    "This class essentially plays the role of a dictionary."
   ]
  },
  {
   "cell_type": "code",
   "execution_count": 15,
   "metadata": {
    "execution": {
     "iopub.execute_input": "2020-10-06T00:07:47.348633Z",
     "iopub.status.busy": "2020-10-06T00:07:47.347917Z",
     "iopub.status.idle": "2020-10-06T00:07:47.358008Z",
     "shell.execute_reply": "2020-10-06T00:07:47.358772Z"
    },
    "papermill": {
     "duration": 0.052362,
     "end_time": "2020-10-06T00:07:47.358922",
     "exception": false,
     "start_time": "2020-10-06T00:07:47.306560",
     "status": "completed"
    },
    "tags": []
   },
   "outputs": [],
   "source": [
    "class Config:\n",
    "    pass\n",
    "config = Config()\n",
    "config.lr = 0.001\n",
    "config.num_epochs = 251\n",
    "config.bs = 50"
   ]
  },
  {
   "cell_type": "markdown",
   "metadata": {
    "papermill": {
     "duration": 0.030633,
     "end_time": "2020-10-06T00:07:47.422553",
     "exception": false,
     "start_time": "2020-10-06T00:07:47.391920",
     "status": "completed"
    },
    "tags": []
   },
   "source": [
    "### Initializing data to the variables"
   ]
  },
  {
   "cell_type": "code",
   "execution_count": 16,
   "metadata": {
    "execution": {
     "iopub.execute_input": "2020-10-06T00:07:47.496079Z",
     "iopub.status.busy": "2020-10-06T00:07:47.495445Z",
     "iopub.status.idle": "2020-10-06T00:07:47.508683Z",
     "shell.execute_reply": "2020-10-06T00:07:47.508108Z"
    },
    "papermill": {
     "duration": 0.054292,
     "end_time": "2020-10-06T00:07:47.508957",
     "exception": false,
     "start_time": "2020-10-06T00:07:47.454665",
     "status": "completed"
    },
    "tags": []
   },
   "outputs": [],
   "source": [
    "data = Data(X_train, y_train.reshape(-1,1))\n",
    "sampler = Sampler(data, config.bs, shuffle=True)\n",
    "\n",
    "dl = Dataloader(data, sampler)\n",
    "\n",
    "opt = GD(config.lr)\n",
    "loss = MSE()"
   ]
  },
  {
   "cell_type": "code",
   "execution_count": 17,
   "metadata": {
    "execution": {
     "iopub.execute_input": "2020-10-06T00:07:47.579288Z",
     "iopub.status.busy": "2020-10-06T00:07:47.578678Z",
     "iopub.status.idle": "2020-10-06T00:07:47.592871Z",
     "shell.execute_reply": "2020-10-06T00:07:47.592341Z"
    },
    "papermill": {
     "duration": 0.05119,
     "end_time": "2020-10-06T00:07:47.593000",
     "exception": false,
     "start_time": "2020-10-06T00:07:47.541810",
     "status": "completed"
    },
    "tags": []
   },
   "outputs": [],
   "source": [
    "training_xdata = X_train\n",
    "testing_xdata = X_test\n",
    "training_ydata = y_train.reshape(-1,1)\n",
    "testing_ydata = y_test.reshape(-1,1)"
   ]
  },
  {
   "cell_type": "markdown",
   "metadata": {
    "papermill": {
     "duration": 0.031083,
     "end_time": "2020-10-06T00:07:47.654430",
     "exception": false,
     "start_time": "2020-10-06T00:07:47.623347",
     "status": "completed"
    },
    "tags": []
   },
   "source": [
    "### Running Models with the Training data\n",
    "Details about the network layers:\n",
    "- A first affine layer has 784 inputs and does 100 affine transforms. These are followed by a Relu\n",
    "- A second affine layer has 100 inputs from the 100 activations of the past layer, and does 100 affine transforms. These are followed by a Relu\n",
    "- A third affine layer has 100 activations and does 2 affine transformations to create an embedding for visualization. There is no non-linearity here.\n",
    "- A final \"logistic regression\" which has an affine transform from 2 inputs to 1 output, which is squeezed through a sigmoid.\n",
    "\n",
    "Help taken from Anshuman's Notebook."
   ]
  },
  {
   "cell_type": "code",
   "execution_count": 18,
   "metadata": {
    "execution": {
     "iopub.execute_input": "2020-10-06T00:07:48.217818Z",
     "iopub.status.busy": "2020-10-06T00:07:48.217124Z",
     "iopub.status.idle": "2020-10-06T00:07:48.234738Z",
     "shell.execute_reply": "2020-10-06T00:07:48.235235Z"
    },
    "papermill": {
     "duration": 0.437126,
     "end_time": "2020-10-06T00:07:48.235396",
     "exception": false,
     "start_time": "2020-10-06T00:07:47.798270",
     "status": "completed"
    },
    "tags": []
   },
   "outputs": [],
   "source": [
    "# layers for the Neural Network\n",
    "layers = [Affine(\"first\", 784, 100), Relu(\"first\"), Affine(\"second\", 100, 100), Relu(\"second\"), Affine(\"third\", 100, 2), Affine(\"final\", 2, 1), Sigmoid(\"final\")]\n",
    "model_nn = Model(layers)\n",
    "\n",
    "# layers for the Logistic Regression\n",
    "layers_lr = [Affine(\"logits\", 784, 1), Sigmoid(\"sigmoid\")]\n",
    "model_lr = Model(layers_lr)"
   ]
  },
  {
   "cell_type": "code",
   "execution_count": 19,
   "metadata": {
    "execution": {
     "iopub.execute_input": "2020-10-06T00:07:48.311925Z",
     "iopub.status.busy": "2020-10-06T00:07:48.311329Z",
     "iopub.status.idle": "2020-10-06T00:07:48.323219Z",
     "shell.execute_reply": "2020-10-06T00:07:48.323724Z"
    },
    "papermill": {
     "duration": 0.051937,
     "end_time": "2020-10-06T00:07:48.323901",
     "exception": false,
     "start_time": "2020-10-06T00:07:48.271964",
     "status": "completed"
    },
    "tags": []
   },
   "outputs": [],
   "source": [
    "# suffix _nn stands for Neural Network.\n",
    "learner_nn = Learner(loss, model_nn, opt, config.num_epochs)\n",
    "acc_nn = ClfCallback(learner_nn, config.bs, training_xdata , testing_xdata, training_ydata, testing_ydata)\n",
    "learner_nn.set_callbacks([acc_nn])"
   ]
  },
  {
   "cell_type": "code",
   "execution_count": 20,
   "metadata": {
    "execution": {
     "iopub.execute_input": "2020-10-06T00:07:48.391371Z",
     "iopub.status.busy": "2020-10-06T00:07:48.390728Z",
     "iopub.status.idle": "2020-10-06T00:10:10.414533Z",
     "shell.execute_reply": "2020-10-06T00:10:10.415365Z"
    },
    "papermill": {
     "duration": 142.06011,
     "end_time": "2020-10-06T00:10:10.415746",
     "exception": false,
     "start_time": "2020-10-06T00:07:48.355636",
     "status": "completed"
    },
    "tags": []
   },
   "outputs": [
    {
     "name": "stdout",
     "output_type": "stream",
     "text": [
      "====== Neural Network ======\n"
     ]
    },
    {
     "name": "stdout",
     "output_type": "stream",
     "text": [
      "Epoch 0, Loss 0.2658\n",
      "Training Accuracy: 0.4821, Testing Accuracy: 0.4924\n",
      "\n"
     ]
    },
    {
     "name": "stdout",
     "output_type": "stream",
     "text": [
      "Epoch 10, Loss 0.0961\n",
      "Training Accuracy: 0.9155, Testing Accuracy: 0.9209\n",
      "\n"
     ]
    },
    {
     "name": "stdout",
     "output_type": "stream",
     "text": [
      "Epoch 20, Loss 0.0546\n",
      "Training Accuracy: 0.9450, Testing Accuracy: 0.9541\n",
      "\n"
     ]
    },
    {
     "name": "stdout",
     "output_type": "stream",
     "text": [
      "Epoch 30, Loss 0.0423\n",
      "Training Accuracy: 0.9562, Testing Accuracy: 0.9642\n",
      "\n"
     ]
    },
    {
     "name": "stdout",
     "output_type": "stream",
     "text": [
      "Epoch 40, Loss 0.0367\n",
      "Training Accuracy: 0.9599, Testing Accuracy: 0.9667\n",
      "\n"
     ]
    },
    {
     "name": "stdout",
     "output_type": "stream",
     "text": [
      "Epoch 50, Loss 0.0333\n",
      "Training Accuracy: 0.9619, Testing Accuracy: 0.9693\n",
      "\n"
     ]
    },
    {
     "name": "stdout",
     "output_type": "stream",
     "text": [
      "Epoch 60, Loss 0.031\n",
      "Training Accuracy: 0.9635, Testing Accuracy: 0.9723\n",
      "\n"
     ]
    },
    {
     "name": "stdout",
     "output_type": "stream",
     "text": [
      "Epoch 70, Loss 0.0292\n",
      "Training Accuracy: 0.9653, Testing Accuracy: 0.9718\n",
      "\n"
     ]
    },
    {
     "name": "stdout",
     "output_type": "stream",
     "text": [
      "Epoch 80, Loss 0.0278\n",
      "Training Accuracy: 0.9665, Testing Accuracy: 0.9713\n",
      "\n"
     ]
    },
    {
     "name": "stdout",
     "output_type": "stream",
     "text": [
      "Epoch 90, Loss 0.0266\n",
      "Training Accuracy: 0.9678, Testing Accuracy: 0.9703\n",
      "\n"
     ]
    },
    {
     "name": "stdout",
     "output_type": "stream",
     "text": [
      "Epoch 100, Loss 0.0256\n",
      "Training Accuracy: 0.9695, Testing Accuracy: 0.9718\n",
      "\n"
     ]
    },
    {
     "name": "stdout",
     "output_type": "stream",
     "text": [
      "Epoch 110, Loss 0.0248\n",
      "Training Accuracy: 0.9711, Testing Accuracy: 0.9713\n",
      "\n"
     ]
    },
    {
     "name": "stdout",
     "output_type": "stream",
     "text": [
      "Epoch 120, Loss 0.024\n",
      "Training Accuracy: 0.9721, Testing Accuracy: 0.9718\n",
      "\n"
     ]
    },
    {
     "name": "stdout",
     "output_type": "stream",
     "text": [
      "Epoch 130, Loss 0.0233\n",
      "Training Accuracy: 0.9733, Testing Accuracy: 0.9713\n",
      "\n"
     ]
    },
    {
     "name": "stdout",
     "output_type": "stream",
     "text": [
      "Epoch 140, Loss 0.0227\n",
      "Training Accuracy: 0.9740, Testing Accuracy: 0.9708\n",
      "\n"
     ]
    },
    {
     "name": "stdout",
     "output_type": "stream",
     "text": [
      "Epoch 150, Loss 0.0221\n",
      "Training Accuracy: 0.9749, Testing Accuracy: 0.9708\n",
      "\n"
     ]
    },
    {
     "name": "stdout",
     "output_type": "stream",
     "text": [
      "Epoch 160, Loss 0.0215\n",
      "Training Accuracy: 0.9756, Testing Accuracy: 0.9723\n",
      "\n"
     ]
    },
    {
     "name": "stdout",
     "output_type": "stream",
     "text": [
      "Epoch 170, Loss 0.021\n",
      "Training Accuracy: 0.9766, Testing Accuracy: 0.9718\n",
      "\n"
     ]
    },
    {
     "name": "stdout",
     "output_type": "stream",
     "text": [
      "Epoch 180, Loss 0.0205\n",
      "Training Accuracy: 0.9768, Testing Accuracy: 0.9728\n",
      "\n"
     ]
    },
    {
     "name": "stdout",
     "output_type": "stream",
     "text": [
      "Epoch 190, Loss 0.0201\n",
      "Training Accuracy: 0.9773, Testing Accuracy: 0.9733\n",
      "\n"
     ]
    },
    {
     "name": "stdout",
     "output_type": "stream",
     "text": [
      "Epoch 200, Loss 0.0196\n",
      "Training Accuracy: 0.9780, Testing Accuracy: 0.9738\n",
      "\n"
     ]
    },
    {
     "name": "stdout",
     "output_type": "stream",
     "text": [
      "Epoch 210, Loss 0.0192\n",
      "Training Accuracy: 0.9783, Testing Accuracy: 0.9738\n",
      "\n"
     ]
    },
    {
     "name": "stdout",
     "output_type": "stream",
     "text": [
      "Epoch 220, Loss 0.0188\n",
      "Training Accuracy: 0.9791, Testing Accuracy: 0.9733\n",
      "\n"
     ]
    },
    {
     "name": "stdout",
     "output_type": "stream",
     "text": [
      "Epoch 230, Loss 0.0184\n",
      "Training Accuracy: 0.9792, Testing Accuracy: 0.9738\n",
      "\n"
     ]
    },
    {
     "name": "stdout",
     "output_type": "stream",
     "text": [
      "Epoch 240, Loss 0.0181\n",
      "Training Accuracy: 0.9796, Testing Accuracy: 0.9738\n",
      "\n"
     ]
    },
    {
     "name": "stdout",
     "output_type": "stream",
     "text": [
      "Epoch 250, Loss 0.0177\n",
      "Training Accuracy: 0.9798, Testing Accuracy: 0.9748\n",
      "\n"
     ]
    },
    {
     "data": {
      "text/plain": [
       "0.011869034003773232"
      ]
     },
     "execution_count": 20,
     "metadata": {},
     "output_type": "execute_result"
    }
   ],
   "source": [
    "print(\"====== Neural Network ======\")\n",
    "learner_nn.train_loop(dl)"
   ]
  },
  {
   "cell_type": "markdown",
   "metadata": {
    "papermill": {
     "duration": 0.043112,
     "end_time": "2020-10-06T00:10:10.502318",
     "exception": false,
     "start_time": "2020-10-06T00:10:10.459206",
     "status": "completed"
    },
    "tags": []
   },
   "source": [
    "### Logistic Regression based Implementation."
   ]
  },
  {
   "cell_type": "code",
   "execution_count": 21,
   "metadata": {
    "execution": {
     "iopub.execute_input": "2020-10-06T00:10:10.593489Z",
     "iopub.status.busy": "2020-10-06T00:10:10.592779Z",
     "iopub.status.idle": "2020-10-06T00:10:10.605941Z",
     "shell.execute_reply": "2020-10-06T00:10:10.606455Z"
    },
    "papermill": {
     "duration": 0.059691,
     "end_time": "2020-10-06T00:10:10.606633",
     "exception": false,
     "start_time": "2020-10-06T00:10:10.546942",
     "status": "completed"
    },
    "tags": []
   },
   "outputs": [],
   "source": [
    "learner_lr = Learner(loss, model_lr, opt, config.num_epochs)\n",
    "acc_lr = ClfCallback(learner_lr, config.bs, training_xdata , testing_xdata, training_ydata, testing_ydata)\n",
    "learner_lr.set_callbacks([acc_lr])"
   ]
  },
  {
   "cell_type": "code",
   "execution_count": 22,
   "metadata": {
    "execution": {
     "iopub.execute_input": "2020-10-06T00:10:10.703104Z",
     "iopub.status.busy": "2020-10-06T00:10:10.702340Z",
     "iopub.status.idle": "2020-10-06T00:10:31.798350Z",
     "shell.execute_reply": "2020-10-06T00:10:31.799379Z"
    },
    "papermill": {
     "duration": 21.14922,
     "end_time": "2020-10-06T00:10:31.799542",
     "exception": false,
     "start_time": "2020-10-06T00:10:10.650322",
     "status": "completed"
    },
    "tags": []
   },
   "outputs": [
    {
     "name": "stdout",
     "output_type": "stream",
     "text": [
      "====== Logistic Regression ======\n",
      "Epoch 0, Loss 0.2708\n",
      "Training Accuracy: 0.5521, Testing Accuracy: 0.5484\n",
      "\n"
     ]
    },
    {
     "name": "stdout",
     "output_type": "stream",
     "text": [
      "Epoch 10, Loss 0.1038\n",
      "Training Accuracy: 0.9153, Testing Accuracy: 0.9214\n",
      "\n"
     ]
    },
    {
     "name": "stdout",
     "output_type": "stream",
     "text": [
      "Epoch 20, Loss 0.0792\n",
      "Training Accuracy: 0.9286, Testing Accuracy: 0.9410\n",
      "\n"
     ]
    },
    {
     "name": "stdout",
     "output_type": "stream",
     "text": [
      "Epoch 30, Loss 0.0683\n",
      "Training Accuracy: 0.9362, Testing Accuracy: 0.9471\n",
      "\n"
     ]
    },
    {
     "name": "stdout",
     "output_type": "stream",
     "text": [
      "Epoch 40, Loss 0.0617\n",
      "Training Accuracy: 0.9407, Testing Accuracy: 0.9491\n",
      "\n"
     ]
    },
    {
     "name": "stdout",
     "output_type": "stream",
     "text": [
      "Epoch 50, Loss 0.0573\n",
      "Training Accuracy: 0.9442, Testing Accuracy: 0.9536\n",
      "\n"
     ]
    },
    {
     "name": "stdout",
     "output_type": "stream",
     "text": [
      "Epoch 60, Loss 0.054\n",
      "Training Accuracy: 0.9468, Testing Accuracy: 0.9577\n",
      "\n"
     ]
    },
    {
     "name": "stdout",
     "output_type": "stream",
     "text": [
      "Epoch 70, Loss 0.0514\n",
      "Training Accuracy: 0.9492, Testing Accuracy: 0.9602\n",
      "\n"
     ]
    },
    {
     "name": "stdout",
     "output_type": "stream",
     "text": [
      "Epoch 80, Loss 0.0494\n",
      "Training Accuracy: 0.9508, Testing Accuracy: 0.9617\n",
      "\n"
     ]
    },
    {
     "name": "stdout",
     "output_type": "stream",
     "text": [
      "Epoch 90, Loss 0.0477\n",
      "Training Accuracy: 0.9517, Testing Accuracy: 0.9632\n",
      "\n"
     ]
    },
    {
     "name": "stdout",
     "output_type": "stream",
     "text": [
      "Epoch 100, Loss 0.0462\n",
      "Training Accuracy: 0.9528, Testing Accuracy: 0.9632\n",
      "\n"
     ]
    },
    {
     "name": "stdout",
     "output_type": "stream",
     "text": [
      "Epoch 110, Loss 0.045\n",
      "Training Accuracy: 0.9535, Testing Accuracy: 0.9632\n",
      "\n"
     ]
    },
    {
     "name": "stdout",
     "output_type": "stream",
     "text": [
      "Epoch 120, Loss 0.044\n",
      "Training Accuracy: 0.9547, Testing Accuracy: 0.9647\n",
      "\n"
     ]
    },
    {
     "name": "stdout",
     "output_type": "stream",
     "text": [
      "Epoch 130, Loss 0.043\n",
      "Training Accuracy: 0.9554, Testing Accuracy: 0.9652\n",
      "\n"
     ]
    },
    {
     "name": "stdout",
     "output_type": "stream",
     "text": [
      "Epoch 140, Loss 0.0422\n",
      "Training Accuracy: 0.9561, Testing Accuracy: 0.9652\n",
      "\n"
     ]
    },
    {
     "name": "stdout",
     "output_type": "stream",
     "text": [
      "Epoch 150, Loss 0.0414\n",
      "Training Accuracy: 0.9568, Testing Accuracy: 0.9662\n",
      "\n"
     ]
    },
    {
     "name": "stdout",
     "output_type": "stream",
     "text": [
      "Epoch 160, Loss 0.0408\n",
      "Training Accuracy: 0.9573, Testing Accuracy: 0.9667\n",
      "\n"
     ]
    },
    {
     "name": "stdout",
     "output_type": "stream",
     "text": [
      "Epoch 170, Loss 0.0401\n",
      "Training Accuracy: 0.9580, Testing Accuracy: 0.9667\n",
      "\n"
     ]
    },
    {
     "name": "stdout",
     "output_type": "stream",
     "text": [
      "Epoch 180, Loss 0.0396\n",
      "Training Accuracy: 0.9581, Testing Accuracy: 0.9682\n",
      "\n"
     ]
    },
    {
     "name": "stdout",
     "output_type": "stream",
     "text": [
      "Epoch 190, Loss 0.039\n",
      "Training Accuracy: 0.9586, Testing Accuracy: 0.9682\n",
      "\n"
     ]
    },
    {
     "name": "stdout",
     "output_type": "stream",
     "text": [
      "Epoch 200, Loss 0.0386\n",
      "Training Accuracy: 0.9589, Testing Accuracy: 0.9688\n",
      "\n"
     ]
    },
    {
     "name": "stdout",
     "output_type": "stream",
     "text": [
      "Epoch 210, Loss 0.0381\n",
      "Training Accuracy: 0.9593, Testing Accuracy: 0.9688\n",
      "\n"
     ]
    },
    {
     "name": "stdout",
     "output_type": "stream",
     "text": [
      "Epoch 220, Loss 0.0377\n",
      "Training Accuracy: 0.9598, Testing Accuracy: 0.9682\n",
      "\n"
     ]
    },
    {
     "name": "stdout",
     "output_type": "stream",
     "text": [
      "Epoch 230, Loss 0.0373\n",
      "Training Accuracy: 0.9600, Testing Accuracy: 0.9682\n",
      "\n"
     ]
    },
    {
     "name": "stdout",
     "output_type": "stream",
     "text": [
      "Epoch 240, Loss 0.037\n",
      "Training Accuracy: 0.9601, Testing Accuracy: 0.9682\n",
      "\n"
     ]
    },
    {
     "name": "stdout",
     "output_type": "stream",
     "text": [
      "Epoch 250, Loss 0.0366\n",
      "Training Accuracy: 0.9603, Testing Accuracy: 0.9682\n",
      "\n"
     ]
    },
    {
     "data": {
      "text/plain": [
       "0.07743254239462985"
      ]
     },
     "execution_count": 22,
     "metadata": {},
     "output_type": "execute_result"
    }
   ],
   "source": [
    "print(\"====== Logistic Regression ======\")\n",
    "learner_lr.train_loop(dl)"
   ]
  },
  {
   "cell_type": "markdown",
   "metadata": {
    "papermill": {
     "duration": 0.052291,
     "end_time": "2020-10-06T00:10:31.901225",
     "exception": false,
     "start_time": "2020-10-06T00:10:31.848934",
     "status": "completed"
    },
    "tags": []
   },
   "source": [
    "### Comparing results of NN and LR"
   ]
  },
  {
   "cell_type": "code",
   "execution_count": 23,
   "metadata": {
    "execution": {
     "iopub.execute_input": "2020-10-06T00:10:32.016012Z",
     "iopub.status.busy": "2020-10-06T00:10:32.013225Z",
     "iopub.status.idle": "2020-10-06T00:10:32.313444Z",
     "shell.execute_reply": "2020-10-06T00:10:32.312882Z"
    },
    "papermill": {
     "duration": 0.360063,
     "end_time": "2020-10-06T00:10:32.313585",
     "exception": false,
     "start_time": "2020-10-06T00:10:31.953522",
     "status": "completed"
    },
    "tags": []
   },
   "outputs": [
    {
     "data": {
      "text/plain": [
       "<matplotlib.legend.Legend at 0x7fd5c2de50f0>"
      ]
     },
     "execution_count": 23,
     "metadata": {},
     "output_type": "execute_result"
    },
    {
     "data": {
      "image/png": "[encoded data removed]",
      "text/plain": [
       "<Figure size 1080x720 with 1 Axes>"
      ]
     },
     "metadata": {
      "needs_background": "light"
     },
     "output_type": "display_data"
    }
   ],
   "source": [
    "plt.figure(figsize=(15,10))\n",
    "\n",
    "# Neural Network plots\n",
    "plt.plot(acc_nn.accuracies, 'r-', label = \"Training Accuracies - NN\")\n",
    "plt.plot(acc_nn.test_accuracies, 'g-', label = \"Testing Accuracies - NN\")\n",
    "\n",
    "# Logistic Regression plots\n",
    "plt.plot(acc_lr.accuracies, 'k-', label = \"Training Accuracies - LR\")\n",
    "plt.plot(acc_lr.test_accuracies, 'b-', label = \"Testing Accuracies - LR\")\n",
    "\n",
    "plt.ylim(0.8, 1)\n",
    "\n",
    "plt.legend()\n",
    "\n"
   ]
  },
  {
   "cell_type": "markdown",
   "metadata": {
    "papermill": {
     "duration": 0.056363,
     "end_time": "2020-10-06T00:10:32.422356",
     "exception": false,
     "start_time": "2020-10-06T00:10:32.365993",
     "status": "completed"
    },
    "tags": []
   },
   "source": [
    "### From the plot, we can observe the following:\n",
    "- Neural Network achieves higher accuracy than the Logistic Regression model.\n",
    "- This apparently, is because of overfitting, i.e. NN captures more noise than data.\n",
    "- Testing accuracy of NN drops below the Training accuracy at higher epochs. This explains the over-fitting on training data.\n",
    "- Logistic Regression gives a reliable accuracy, without the above mentioned problem.\n"
   ]
  },
  {
   "cell_type": "markdown",
   "metadata": {
    "papermill": {
     "duration": 0.051036,
     "end_time": "2020-10-06T00:10:32.526608",
     "exception": false,
     "start_time": "2020-10-06T00:10:32.475572",
     "status": "completed"
    },
    "tags": []
   },
   "source": [
    "### Moving till the last but one layer (excluding it).\n",
    "#### Plotting the outputs of this layer of the NN."
   ]
  },
  {
   "cell_type": "code",
   "execution_count": 24,
   "metadata": {
    "execution": {
     "iopub.execute_input": "2020-10-06T00:10:32.646676Z",
     "iopub.status.busy": "2020-10-06T00:10:32.640027Z",
     "iopub.status.idle": "2020-10-06T00:10:32.649290Z",
     "shell.execute_reply": "2020-10-06T00:10:32.648812Z"
    },
    "papermill": {
     "duration": 0.070896,
     "end_time": "2020-10-06T00:10:32.649434",
     "exception": false,
     "start_time": "2020-10-06T00:10:32.578538",
     "status": "completed"
    },
    "tags": []
   },
   "outputs": [],
   "source": [
    "model_new = Model(layers[:-2])"
   ]
  },
  {
   "cell_type": "code",
   "execution_count": 25,
   "metadata": {
    "execution": {
     "iopub.execute_input": "2020-10-06T00:10:32.768859Z",
     "iopub.status.busy": "2020-10-06T00:10:32.761299Z",
     "iopub.status.idle": "2020-10-06T00:10:32.788878Z",
     "shell.execute_reply": "2020-10-06T00:10:32.789773Z"
    },
    "papermill": {
     "duration": 0.090828,
     "end_time": "2020-10-06T00:10:32.789991",
     "exception": false,
     "start_time": "2020-10-06T00:10:32.699163",
     "status": "completed"
    },
    "tags": []
   },
   "outputs": [],
   "source": [
    "plot_testing = model_new(testing_xdata)"
   ]
  },
  {
   "cell_type": "code",
   "execution_count": 26,
   "metadata": {
    "execution": {
     "iopub.execute_input": "2020-10-06T00:10:32.912169Z",
     "iopub.status.busy": "2020-10-06T00:10:32.911463Z",
     "iopub.status.idle": "2020-10-06T00:10:33.173992Z",
     "shell.execute_reply": "2020-10-06T00:10:33.174612Z"
    },
    "papermill": {
     "duration": 0.330183,
     "end_time": "2020-10-06T00:10:33.174795",
     "exception": false,
     "start_time": "2020-10-06T00:10:32.844612",
     "status": "completed"
    },
    "tags": []
   },
   "outputs": [
    {
     "data": {
      "text/plain": [
       "Text(0.5, 1.0, 'Outputs')"
      ]
     },
     "execution_count": 26,
     "metadata": {},
     "output_type": "execute_result"
    },
    {
     "data": {
      "image/png": "[encoded data removed]",
      "text/plain": [
       "<Figure size 576x504 with 1 Axes>"
      ]
     },
     "metadata": {
      "needs_background": "light"
     },
     "output_type": "display_data"
    }
   ],
   "source": [
    "plt.figure(figsize=(8,7))\n",
    "plt.scatter(plot_testing[:,0], plot_testing[:,1], alpha = 0.1, c = y_test.ravel());\n",
    "plt.title('Outputs')"
   ]
  },
  {
   "cell_type": "markdown",
   "metadata": {
    "papermill": {
     "duration": 0.057294,
     "end_time": "2020-10-06T00:10:33.287902",
     "exception": false,
     "start_time": "2020-10-06T00:10:33.230608",
     "status": "completed"
    },
    "tags": []
   },
   "source": [
    "### Plotting probability contours"
   ]
  },
  {
   "cell_type": "code",
   "execution_count": 27,
   "metadata": {
    "execution": {
     "iopub.execute_input": "2020-10-06T00:10:33.409259Z",
     "iopub.status.busy": "2020-10-06T00:10:33.408474Z",
     "iopub.status.idle": "2020-10-06T00:10:33.419761Z",
     "shell.execute_reply": "2020-10-06T00:10:33.420598Z"
    },
    "papermill": {
     "duration": 0.076157,
     "end_time": "2020-10-06T00:10:33.420803",
     "exception": false,
     "start_time": "2020-10-06T00:10:33.344646",
     "status": "completed"
    },
    "tags": []
   },
   "outputs": [],
   "source": [
    "model_prob = Model(layers[-2:]) "
   ]
  },
  {
   "cell_type": "code",
   "execution_count": 28,
   "metadata": {
    "execution": {
     "iopub.execute_input": "2020-10-06T00:10:33.551809Z",
     "iopub.status.busy": "2020-10-06T00:10:33.543535Z",
     "iopub.status.idle": "2020-10-06T00:10:33.556061Z",
     "shell.execute_reply": "2020-10-06T00:10:33.556564Z"
    },
    "papermill": {
     "duration": 0.080007,
     "end_time": "2020-10-06T00:10:33.556729",
     "exception": false,
     "start_time": "2020-10-06T00:10:33.476722",
     "status": "completed"
    },
    "tags": []
   },
   "outputs": [],
   "source": [
    "# Adjust the x and y ranges according to the above generated plot.\n",
    "x_range = np.linspace(-4, 1, 100) \n",
    "y_range = np.linspace(-6, 6, 100) \n",
    "x_grid, y_grid = np.meshgrid(x_range, y_range) # x_grid and y_grig are of size 100 X 100\n",
    "\n",
    "# converting x_grid and y_grid to continuous arrays\n",
    "x_grid_flat = np.ravel(x_grid)\n",
    "y_grid_flat = np.ravel(y_grid)\n",
    "\n",
    "# The last layer of the current model takes two columns as input. Hence transpose of np.vstack() is required.\n",
    "X = np.vstack((x_grid_flat, y_grid_flat)).T\n",
    "\n",
    "# x_grid and y_grid are of size 100 x 100\n",
    "probability_contour = model_prob(X).reshape(100,100) "
   ]
  },
  {
   "cell_type": "code",
   "execution_count": 29,
   "metadata": {
    "execution": {
     "iopub.execute_input": "2020-10-06T00:10:33.680170Z",
     "iopub.status.busy": "2020-10-06T00:10:33.679279Z",
     "iopub.status.idle": "2020-10-06T00:10:33.993366Z",
     "shell.execute_reply": "2020-10-06T00:10:33.993866Z"
    },
    "papermill": {
     "duration": 0.375437,
     "end_time": "2020-10-06T00:10:33.994035",
     "exception": false,
     "start_time": "2020-10-06T00:10:33.618598",
     "status": "completed"
    },
    "tags": []
   },
   "outputs": [
    {
     "data": {
      "image/png": "[encoded data removed]",
      "text/plain": [
       "<Figure size 720x648 with 1 Axes>"
      ]
     },
     "metadata": {
      "needs_background": "light"
     },
     "output_type": "display_data"
    }
   ],
   "source": [
    "plt.figure(figsize=(10,9))\n",
    "plt.scatter(plot_testing[:,0], plot_testing[:,1], alpha = 0.1, c = y_test.ravel())\n",
    "contours = plt.contour(x_grid,y_grid,probability_contour)\n",
    "plt.title('Probability Contours')\n",
    "plt.clabel(contours, inline = True );"
   ]
  }
 ],
 "metadata": {
  "kernelspec": {
   "display_name": "Python 3",
   "language": "python",
   "name": "python3"
  },
  "language_info": {
   "codemirror_mode": {
    "name": "ipython",
    "version": 3
   },
   "file_extension": ".py",
   "mimetype": "text/x-python",
   "name": "python",
   "nbconvert_exporter": "python",
   "pygments_lexer": "ipython3",
   "version": "3.6.12"
  },
  "papermill": {
   "duration": 174.439571,
   "end_time": "2020-10-06T00:10:35.402140",
   "environment_variables": {},
   "exception": null,
   "input_path": "2020-08-11-NeuralNetwork.ipynb",
   "output_path": "2020-08-11-NeuralNetwork.ipynb",
   "parameters": {},
   "start_time": "2020-10-06T00:07:40.962569",
   "version": "2.1.2"
  }
 },
 "nbformat": 4,
 "nbformat_minor": 4
}