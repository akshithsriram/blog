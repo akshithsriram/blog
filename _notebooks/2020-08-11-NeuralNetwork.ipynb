{
 "cells": [
  {
   "cell_type": "markdown",
   "metadata": {
    "papermill": {
     "duration": 0.031645,
     "end_time": "2020-08-26T00:05:21.767703",
     "exception": false,
     "start_time": "2020-08-26T00:05:21.736058",
     "status": "completed"
    },
    "tags": []
   },
   "source": [
    "# \"A Basic Neural Network: Differentiate Hand-Written Digits\"\n",
    "\n",
    "- badges: true\n",
    "- author: Akshith Sriram"
   ]
  },
  {
   "cell_type": "markdown",
   "metadata": {
    "papermill": {
     "duration": 0.025966,
     "end_time": "2020-08-26T00:05:21.820506",
     "exception": false,
     "start_time": "2020-08-26T00:05:21.794540",
     "status": "completed"
    },
    "tags": []
   },
   "source": [
    "### Key Objectives:\n",
    "- Building a neural network that differentiates two hand-written digits 3 and 8.\n",
    "- Comparing the results of this Neural Network (NN) to that of a Logistic Regression (LR) model.\n",
    "\n",
    "### Requirements:\n",
    "- 'Kudzu' : A neural network library that was designed during our course by [Univ.AI](www.univ.ai). \n",
    "- MNIST Database\n",
    "\n",
    "If MNIST is not installed, use the command `!pip install mnist` given below.\n",
    "It can be run both from the command line and Jupyter Notebook."
   ]
  },
  {
   "cell_type": "code",
   "execution_count": 1,
   "metadata": {
    "execution": {
     "iopub.execute_input": "2020-08-26T00:05:21.880006Z",
     "iopub.status.busy": "2020-08-26T00:05:21.879396Z",
     "iopub.status.idle": "2020-08-26T00:05:24.324466Z",
     "shell.execute_reply": "2020-08-26T00:05:24.323342Z"
    },
    "papermill": {
     "duration": 2.478175,
     "end_time": "2020-08-26T00:05:24.324647",
     "exception": false,
     "start_time": "2020-08-26T00:05:21.846472",
     "status": "completed"
    },
    "tags": []
   },
   "outputs": [
    {
     "name": "stdout",
     "output_type": "stream",
     "text": [
      "Collecting mnist\r\n",
      "  Downloading mnist-0.2.2-py2.py3-none-any.whl (3.5 kB)\r\n"
     ]
    },
    {
     "name": "stdout",
     "output_type": "stream",
     "text": [
      "Requirement already satisfied: numpy in /opt/hostedtoolcache/Python/3.6.11/x64/lib/python3.6/site-packages (from mnist) (1.19.1)\r\n"
     ]
    },
    {
     "name": "stdout",
     "output_type": "stream",
     "text": [
      "Installing collected packages: mnist\r\n"
     ]
    },
    {
     "name": "stdout",
     "output_type": "stream",
     "text": [
      "Successfully installed mnist-0.2.2\r\n"
     ]
    }
   ],
   "source": [
    "!pip install mnist "
   ]
  },
  {
   "cell_type": "markdown",
   "metadata": {
    "papermill": {
     "duration": 0.027512,
     "end_time": "2020-08-26T00:05:24.380004",
     "exception": false,
     "start_time": "2020-08-26T00:05:24.352492",
     "status": "completed"
    },
    "tags": []
   },
   "source": [
    "#### Importing necessary libraries"
   ]
  },
  {
   "cell_type": "code",
   "execution_count": 2,
   "metadata": {
    "execution": {
     "iopub.execute_input": "2020-08-26T00:05:24.448315Z",
     "iopub.status.busy": "2020-08-26T00:05:24.447700Z",
     "iopub.status.idle": "2020-08-26T00:05:25.024974Z",
     "shell.execute_reply": "2020-08-26T00:05:25.024411Z"
    },
    "papermill": {
     "duration": 0.612282,
     "end_time": "2020-08-26T00:05:25.025120",
     "exception": false,
     "start_time": "2020-08-26T00:05:24.412838",
     "status": "completed"
    },
    "tags": []
   },
   "outputs": [],
   "source": [
    "%load_ext autoreload\n",
    "%autoreload 2\n",
    "\n",
    "%matplotlib inline\n",
    "import matplotlib.pyplot as plt\n",
    "\n",
    "import numpy as np\n",
    "import pandas as pd"
   ]
  },
  {
   "cell_type": "markdown",
   "metadata": {
    "papermill": {
     "duration": 0.027758,
     "end_time": "2020-08-26T00:05:25.080927",
     "exception": false,
     "start_time": "2020-08-26T00:05:25.053169",
     "status": "completed"
    },
    "tags": []
   },
   "source": [
    "### Preparing the Data"
   ]
  },
  {
   "cell_type": "code",
   "execution_count": 3,
   "metadata": {
    "execution": {
     "iopub.execute_input": "2020-08-26T00:05:25.139675Z",
     "iopub.status.busy": "2020-08-26T00:05:25.139063Z",
     "iopub.status.idle": "2020-08-26T00:05:25.151137Z",
     "shell.execute_reply": "2020-08-26T00:05:25.151633Z"
    },
    "papermill": {
     "duration": 0.043361,
     "end_time": "2020-08-26T00:05:25.151777",
     "exception": false,
     "start_time": "2020-08-26T00:05:25.108416",
     "status": "completed"
    },
    "tags": []
   },
   "outputs": [],
   "source": [
    "import mnist"
   ]
  },
  {
   "cell_type": "code",
   "execution_count": 4,
   "metadata": {
    "execution": {
     "iopub.execute_input": "2020-08-26T00:05:25.209992Z",
     "iopub.status.busy": "2020-08-26T00:05:25.209366Z",
     "iopub.status.idle": "2020-08-26T00:05:26.651773Z",
     "shell.execute_reply": "2020-08-26T00:05:26.650706Z"
    },
    "papermill": {
     "duration": 1.472721,
     "end_time": "2020-08-26T00:05:26.651943",
     "exception": false,
     "start_time": "2020-08-26T00:05:25.179222",
     "status": "completed"
    },
    "tags": []
   },
   "outputs": [],
   "source": [
    "train_images = mnist.train_images()\n",
    "train_labels = mnist.train_labels()"
   ]
  },
  {
   "cell_type": "code",
   "execution_count": 5,
   "metadata": {
    "execution": {
     "iopub.execute_input": "2020-08-26T00:05:26.712023Z",
     "iopub.status.busy": "2020-08-26T00:05:26.711415Z",
     "iopub.status.idle": "2020-08-26T00:05:26.726515Z",
     "shell.execute_reply": "2020-08-26T00:05:26.726001Z"
    },
    "papermill": {
     "duration": 0.046813,
     "end_time": "2020-08-26T00:05:26.726643",
     "exception": false,
     "start_time": "2020-08-26T00:05:26.679830",
     "status": "completed"
    },
    "tags": []
   },
   "outputs": [
    {
     "data": {
      "text/plain": [
       "((60000, 28, 28), (60000,))"
      ]
     },
     "execution_count": 5,
     "metadata": {},
     "output_type": "execute_result"
    }
   ],
   "source": [
    "train_images.shape, train_labels.shape"
   ]
  },
  {
   "cell_type": "code",
   "execution_count": 6,
   "metadata": {
    "execution": {
     "iopub.execute_input": "2020-08-26T00:05:26.786394Z",
     "iopub.status.busy": "2020-08-26T00:05:26.785805Z",
     "iopub.status.idle": "2020-08-26T00:05:28.597270Z",
     "shell.execute_reply": "2020-08-26T00:05:28.598091Z"
    },
    "papermill": {
     "duration": 1.844043,
     "end_time": "2020-08-26T00:05:28.598349",
     "exception": false,
     "start_time": "2020-08-26T00:05:26.754306",
     "status": "completed"
    },
    "tags": []
   },
   "outputs": [],
   "source": [
    "test_images = mnist.test_images()\n",
    "test_labels = mnist.test_labels()"
   ]
  },
  {
   "cell_type": "code",
   "execution_count": 7,
   "metadata": {
    "execution": {
     "iopub.execute_input": "2020-08-26T00:05:28.660956Z",
     "iopub.status.busy": "2020-08-26T00:05:28.660327Z",
     "iopub.status.idle": "2020-08-26T00:05:28.675716Z",
     "shell.execute_reply": "2020-08-26T00:05:28.675202Z"
    },
    "papermill": {
     "duration": 0.0472,
     "end_time": "2020-08-26T00:05:28.675840",
     "exception": false,
     "start_time": "2020-08-26T00:05:28.628640",
     "status": "completed"
    },
    "tags": []
   },
   "outputs": [
    {
     "data": {
      "text/plain": [
       "((10000, 28, 28), (10000,))"
      ]
     },
     "execution_count": 7,
     "metadata": {},
     "output_type": "execute_result"
    }
   ],
   "source": [
    "test_images.shape, test_labels.shape"
   ]
  },
  {
   "cell_type": "code",
   "execution_count": 8,
   "metadata": {
    "execution": {
     "iopub.execute_input": "2020-08-26T00:05:28.736646Z",
     "iopub.status.busy": "2020-08-26T00:05:28.736048Z",
     "iopub.status.idle": "2020-08-26T00:05:28.894267Z",
     "shell.execute_reply": "2020-08-26T00:05:28.894914Z"
    },
    "papermill": {
     "duration": 0.191184,
     "end_time": "2020-08-26T00:05:28.895106",
     "exception": false,
     "start_time": "2020-08-26T00:05:28.703922",
     "status": "completed"
    },
    "tags": []
   },
   "outputs": [
    {
     "name": "stdout",
     "output_type": "stream",
     "text": [
      "2\n"
     ]
    },
    {
     "data": {
      "text/plain": [
       "<matplotlib.image.AxesImage at 0x7f398bd9ba58>"
      ]
     },
     "execution_count": 8,
     "metadata": {},
     "output_type": "execute_result"
    },
    {
     "data": {
      "image/png": "[encoded data removed]",
      "text/plain": [
       "<Figure size 432x288 with 1 Axes>"
      ]
     },
     "metadata": {
      "needs_background": "light"
     },
     "output_type": "display_data"
    }
   ],
   "source": [
    "image_index = 7776 # You may select anything up to 60,000\n",
    "print(train_labels[image_index]) \n",
    "plt.imshow(train_images[image_index], cmap='Greys')"
   ]
  },
  {
   "cell_type": "markdown",
   "metadata": {
    "papermill": {
     "duration": 0.029634,
     "end_time": "2020-08-26T00:05:28.954539",
     "exception": false,
     "start_time": "2020-08-26T00:05:28.924905",
     "status": "completed"
    },
    "tags": []
   },
   "source": [
    "## Filter data to get 3 and 8 out"
   ]
  },
  {
   "cell_type": "code",
   "execution_count": 9,
   "metadata": {
    "execution": {
     "iopub.execute_input": "2020-08-26T00:05:29.210374Z",
     "iopub.status.busy": "2020-08-26T00:05:29.209505Z",
     "iopub.status.idle": "2020-08-26T00:05:29.224866Z",
     "shell.execute_reply": "2020-08-26T00:05:29.225377Z"
    },
    "papermill": {
     "duration": 0.241571,
     "end_time": "2020-08-26T00:05:29.225538",
     "exception": false,
     "start_time": "2020-08-26T00:05:28.983967",
     "status": "completed"
    },
    "tags": []
   },
   "outputs": [],
   "source": [
    "train_filter = np.where((train_labels == 3 ) | (train_labels == 8))\n",
    "test_filter = np.where((test_labels == 3) | (test_labels == 8))\n",
    "X_train, y_train = train_images[train_filter], train_labels[train_filter]\n",
    "X_test, y_test = test_images[test_filter], test_labels[test_filter]"
   ]
  },
  {
   "cell_type": "markdown",
   "metadata": {
    "papermill": {
     "duration": 0.595989,
     "end_time": "2020-08-26T00:05:29.854045",
     "exception": false,
     "start_time": "2020-08-26T00:05:29.258056",
     "status": "completed"
    },
    "tags": []
   },
   "source": [
    "We normalize the pixel values in the 0 to 1 range"
   ]
  },
  {
   "cell_type": "code",
   "execution_count": 10,
   "metadata": {
    "execution": {
     "iopub.execute_input": "2020-08-26T00:05:29.918814Z",
     "iopub.status.busy": "2020-08-26T00:05:29.918197Z",
     "iopub.status.idle": "2020-08-26T00:05:29.975056Z",
     "shell.execute_reply": "2020-08-26T00:05:29.974128Z"
    },
    "papermill": {
     "duration": 0.090002,
     "end_time": "2020-08-26T00:05:29.975278",
     "exception": false,
     "start_time": "2020-08-26T00:05:29.885276",
     "status": "completed"
    },
    "tags": []
   },
   "outputs": [],
   "source": [
    "X_train = X_train/255.\n",
    "X_test = X_test/255."
   ]
  },
  {
   "cell_type": "markdown",
   "metadata": {
    "papermill": {
     "duration": 0.029163,
     "end_time": "2020-08-26T00:05:30.035870",
     "exception": false,
     "start_time": "2020-08-26T00:05:30.006707",
     "status": "completed"
    },
    "tags": []
   },
   "source": [
    "Setup the labels as 1 (when the digit is 3) and 0 (when the digit is 8)"
   ]
  },
  {
   "cell_type": "code",
   "execution_count": 11,
   "metadata": {
    "execution": {
     "iopub.execute_input": "2020-08-26T00:05:30.098904Z",
     "iopub.status.busy": "2020-08-26T00:05:30.098301Z",
     "iopub.status.idle": "2020-08-26T00:05:30.112049Z",
     "shell.execute_reply": "2020-08-26T00:05:30.112567Z"
    },
    "papermill": {
     "duration": 0.047616,
     "end_time": "2020-08-26T00:05:30.112734",
     "exception": false,
     "start_time": "2020-08-26T00:05:30.065118",
     "status": "completed"
    },
    "tags": []
   },
   "outputs": [],
   "source": [
    "y_train = 1*(y_train==3)\n",
    "y_test = 1*(y_test==3)"
   ]
  },
  {
   "cell_type": "code",
   "execution_count": 12,
   "metadata": {
    "execution": {
     "iopub.execute_input": "2020-08-26T00:05:30.175371Z",
     "iopub.status.busy": "2020-08-26T00:05:30.174778Z",
     "iopub.status.idle": "2020-08-26T00:05:30.191660Z",
     "shell.execute_reply": "2020-08-26T00:05:30.191142Z"
    },
    "papermill": {
     "duration": 0.049747,
     "end_time": "2020-08-26T00:05:30.191782",
     "exception": false,
     "start_time": "2020-08-26T00:05:30.142035",
     "status": "completed"
    },
    "tags": []
   },
   "outputs": [
    {
     "data": {
      "text/plain": [
       "((11982, 28, 28), (1984, 28, 28))"
      ]
     },
     "execution_count": 12,
     "metadata": {},
     "output_type": "execute_result"
    }
   ],
   "source": [
    "X_train.shape, X_test.shape"
   ]
  },
  {
   "cell_type": "markdown",
   "metadata": {
    "papermill": {
     "duration": 0.02945,
     "end_time": "2020-08-26T00:05:30.250644",
     "exception": false,
     "start_time": "2020-08-26T00:05:30.221194",
     "status": "completed"
    },
    "tags": []
   },
   "source": [
    "### Reshape the input data to create a linear array"
   ]
  },
  {
   "cell_type": "code",
   "execution_count": 13,
   "metadata": {
    "execution": {
     "iopub.execute_input": "2020-08-26T00:05:30.314856Z",
     "iopub.status.busy": "2020-08-26T00:05:30.314261Z",
     "iopub.status.idle": "2020-08-26T00:05:30.329055Z",
     "shell.execute_reply": "2020-08-26T00:05:30.328510Z"
    },
    "papermill": {
     "duration": 0.049055,
     "end_time": "2020-08-26T00:05:30.329184",
     "exception": false,
     "start_time": "2020-08-26T00:05:30.280129",
     "status": "completed"
    },
    "tags": []
   },
   "outputs": [
    {
     "data": {
      "text/plain": [
       "((11982, 784), (1984, 784))"
      ]
     },
     "execution_count": 13,
     "metadata": {},
     "output_type": "execute_result"
    }
   ],
   "source": [
    "X_train = X_train.reshape(X_train.shape[0], -1)\n",
    "X_test = X_test.reshape(X_test.shape[0], -1)\n",
    "X_train.shape, X_test.shape"
   ]
  },
  {
   "cell_type": "markdown",
   "metadata": {
    "papermill": {
     "duration": 0.029529,
     "end_time": "2020-08-26T00:05:30.388383",
     "exception": false,
     "start_time": "2020-08-26T00:05:30.358854",
     "status": "completed"
    },
    "tags": []
   },
   "source": [
    "### Importing appropriate functions from 'Kudzu'"
   ]
  },
  {
   "cell_type": "code",
   "execution_count": 14,
   "metadata": {
    "execution": {
     "iopub.execute_input": "2020-08-26T00:05:30.454074Z",
     "iopub.status.busy": "2020-08-26T00:05:30.453462Z",
     "iopub.status.idle": "2020-08-26T00:05:30.474109Z",
     "shell.execute_reply": "2020-08-26T00:05:30.473599Z"
    },
    "papermill": {
     "duration": 0.056014,
     "end_time": "2020-08-26T00:05:30.474229",
     "exception": false,
     "start_time": "2020-08-26T00:05:30.418215",
     "status": "completed"
    },
    "tags": []
   },
   "outputs": [],
   "source": [
    "from kudzu.layer import Sigmoid\n",
    "from kudzu.layer import Relu\n",
    "from kudzu.layer import Affine, Sigmoid\n",
    "\n",
    "from kudzu.model import Model\n",
    "from kudzu.train import Learner\n",
    "from kudzu.optim import GD\n",
    "from kudzu.data import Data, Dataloader, Sampler\n",
    "\n",
    "from kudzu.callbacks import AccCallback\n",
    "from kudzu.callbacks import ClfCallback\n",
    "\n",
    "from kudzu.loss import MSE"
   ]
  },
  {
   "cell_type": "markdown",
   "metadata": {
    "papermill": {
     "duration": 0.029545,
     "end_time": "2020-08-26T00:05:30.533461",
     "exception": false,
     "start_time": "2020-08-26T00:05:30.503916",
     "status": "completed"
    },
    "tags": []
   },
   "source": [
    "### Let us create a `Config` class, to store important parameters. \n",
    "This class essentially plays the role of a dictionary."
   ]
  },
  {
   "cell_type": "code",
   "execution_count": 15,
   "metadata": {
    "execution": {
     "iopub.execute_input": "2020-08-26T00:05:30.598293Z",
     "iopub.status.busy": "2020-08-26T00:05:30.597692Z",
     "iopub.status.idle": "2020-08-26T00:05:30.609850Z",
     "shell.execute_reply": "2020-08-26T00:05:30.610310Z"
    },
    "papermill": {
     "duration": 0.047265,
     "end_time": "2020-08-26T00:05:30.610445",
     "exception": false,
     "start_time": "2020-08-26T00:05:30.563180",
     "status": "completed"
    },
    "tags": []
   },
   "outputs": [],
   "source": [
    "class Config:\n",
    "    pass\n",
    "config = Config()\n",
    "config.lr = 0.001\n",
    "config.num_epochs = 251\n",
    "config.bs = 50"
   ]
  },
  {
   "cell_type": "markdown",
   "metadata": {
    "papermill": {
     "duration": 0.029646,
     "end_time": "2020-08-26T00:05:30.669693",
     "exception": false,
     "start_time": "2020-08-26T00:05:30.640047",
     "status": "completed"
    },
    "tags": []
   },
   "source": [
    "### Initializing data to the variables"
   ]
  },
  {
   "cell_type": "code",
   "execution_count": 16,
   "metadata": {
    "execution": {
     "iopub.execute_input": "2020-08-26T00:05:30.734164Z",
     "iopub.status.busy": "2020-08-26T00:05:30.733563Z",
     "iopub.status.idle": "2020-08-26T00:05:30.748332Z",
     "shell.execute_reply": "2020-08-26T00:05:30.748883Z"
    },
    "papermill": {
     "duration": 0.049462,
     "end_time": "2020-08-26T00:05:30.749018",
     "exception": false,
     "start_time": "2020-08-26T00:05:30.699556",
     "status": "completed"
    },
    "tags": []
   },
   "outputs": [],
   "source": [
    "data = Data(X_train, y_train.reshape(-1,1))\n",
    "sampler = Sampler(data, config.bs, shuffle=True)\n",
    "\n",
    "dl = Dataloader(data, sampler)\n",
    "\n",
    "opt = GD(config.lr)\n",
    "loss = MSE()"
   ]
  },
  {
   "cell_type": "code",
   "execution_count": 17,
   "metadata": {
    "execution": {
     "iopub.execute_input": "2020-08-26T00:05:30.821314Z",
     "iopub.status.busy": "2020-08-26T00:05:30.820680Z",
     "iopub.status.idle": "2020-08-26T00:05:30.828989Z",
     "shell.execute_reply": "2020-08-26T00:05:30.829481Z"
    },
    "papermill": {
     "duration": 0.050921,
     "end_time": "2020-08-26T00:05:30.829612",
     "exception": false,
     "start_time": "2020-08-26T00:05:30.778691",
     "status": "completed"
    },
    "tags": []
   },
   "outputs": [],
   "source": [
    "training_xdata = X_train\n",
    "testing_xdata = X_test\n",
    "training_ydata = y_train.reshape(-1,1)\n",
    "testing_ydata = y_test.reshape(-1,1)"
   ]
  },
  {
   "cell_type": "markdown",
   "metadata": {
    "papermill": {
     "duration": 0.029545,
     "end_time": "2020-08-26T00:05:30.888898",
     "exception": false,
     "start_time": "2020-08-26T00:05:30.859353",
     "status": "completed"
    },
    "tags": []
   },
   "source": [
    "### Running Models with the Training data\n",
    "Details about the network layers:\n",
    "- A first affine layer has 784 inputs and does 100 affine transforms. These are followed by a Relu\n",
    "- A second affine layer has 100 inputs from the 100 activations of the past layer, and does 100 affine transforms. These are followed by a Relu\n",
    "- A third affine layer has 100 activations and does 2 affine transformations to create an embedding for visualization. There is no non-linearity here.\n",
    "- A final \"logistic regression\" which has an affine transform from 2 inputs to 1 output, which is squeezed through a sigmoid.\n",
    "\n",
    "Help taken from Anshuman's Notebook."
   ]
  },
  {
   "cell_type": "code",
   "execution_count": 18,
   "metadata": {
    "execution": {
     "iopub.execute_input": "2020-08-26T00:05:30.953623Z",
     "iopub.status.busy": "2020-08-26T00:05:30.953013Z",
     "iopub.status.idle": "2020-08-26T00:05:30.969927Z",
     "shell.execute_reply": "2020-08-26T00:05:30.969421Z"
    },
    "papermill": {
     "duration": 0.051602,
     "end_time": "2020-08-26T00:05:30.970046",
     "exception": false,
     "start_time": "2020-08-26T00:05:30.918444",
     "status": "completed"
    },
    "tags": []
   },
   "outputs": [],
   "source": [
    "# layers for the Neural Network\n",
    "layers = [Affine(\"first\", 784, 100), Relu(\"first\"), Affine(\"second\", 100, 100), Relu(\"second\"), Affine(\"third\", 100, 2), Affine(\"final\", 2, 1), Sigmoid(\"final\")]\n",
    "model_nn = Model(layers)\n",
    "\n",
    "# layers for the Logistic Regression\n",
    "layers_lr = [Affine(\"logits\", 784, 1), Sigmoid(\"sigmoid\")]\n",
    "model_lr = Model(layers_lr)"
   ]
  },
  {
   "cell_type": "code",
   "execution_count": 19,
   "metadata": {
    "execution": {
     "iopub.execute_input": "2020-08-26T00:05:31.041528Z",
     "iopub.status.busy": "2020-08-26T00:05:31.033678Z",
     "iopub.status.idle": "2020-08-26T00:05:31.046183Z",
     "shell.execute_reply": "2020-08-26T00:05:31.045675Z"
    },
    "papermill": {
     "duration": 0.046126,
     "end_time": "2020-08-26T00:05:31.046299",
     "exception": false,
     "start_time": "2020-08-26T00:05:31.000173",
     "status": "completed"
    },
    "tags": []
   },
   "outputs": [],
   "source": [
    "# suffix _nn stands for Neural Network.\n",
    "learner_nn = Learner(loss, model_nn, opt, config.num_epochs)\n",
    "acc_nn = ClfCallback(learner_nn, config.bs, training_xdata , testing_xdata, training_ydata, testing_ydata)\n",
    "learner_nn.set_callbacks([acc_nn])"
   ]
  },
  {
   "cell_type": "code",
   "execution_count": 20,
   "metadata": {
    "execution": {
     "iopub.execute_input": "2020-08-26T00:05:31.109412Z",
     "iopub.status.busy": "2020-08-26T00:05:31.108814Z",
     "iopub.status.idle": "2020-08-26T00:06:57.558129Z",
     "shell.execute_reply": "2020-08-26T00:06:57.558707Z"
    },
    "papermill": {
     "duration": 86.483027,
     "end_time": "2020-08-26T00:06:57.558869",
     "exception": false,
     "start_time": "2020-08-26T00:05:31.075842",
     "status": "completed"
    },
    "tags": []
   },
   "outputs": [
    {
     "name": "stdout",
     "output_type": "stream",
     "text": [
      "====== Neural Network ======\n"
     ]
    },
    {
     "name": "stdout",
     "output_type": "stream",
     "text": [
      "Epoch 0, Loss 0.2473\n",
      "Training Accuracy: 0.6254, Testing Accuracy: 0.6316\n",
      "\n"
     ]
    },
    {
     "name": "stdout",
     "output_type": "stream",
     "text": [
      "Epoch 10, Loss 0.0953\n",
      "Training Accuracy: 0.9118, Testing Accuracy: 0.9189\n",
      "\n"
     ]
    },
    {
     "name": "stdout",
     "output_type": "stream",
     "text": [
      "Epoch 20, Loss 0.0563\n",
      "Training Accuracy: 0.9413, Testing Accuracy: 0.9546\n",
      "\n"
     ]
    },
    {
     "name": "stdout",
     "output_type": "stream",
     "text": [
      "Epoch 30, Loss 0.0434\n",
      "Training Accuracy: 0.9531, Testing Accuracy: 0.9637\n",
      "\n"
     ]
    },
    {
     "name": "stdout",
     "output_type": "stream",
     "text": [
      "Epoch 40, Loss 0.0372\n",
      "Training Accuracy: 0.9584, Testing Accuracy: 0.9672\n",
      "\n"
     ]
    },
    {
     "name": "stdout",
     "output_type": "stream",
     "text": [
      "Epoch 50, Loss 0.0336\n",
      "Training Accuracy: 0.9609, Testing Accuracy: 0.9682\n",
      "\n"
     ]
    },
    {
     "name": "stdout",
     "output_type": "stream",
     "text": [
      "Epoch 60, Loss 0.0311\n",
      "Training Accuracy: 0.9644, Testing Accuracy: 0.9703\n",
      "\n"
     ]
    },
    {
     "name": "stdout",
     "output_type": "stream",
     "text": [
      "Epoch 70, Loss 0.0293\n",
      "Training Accuracy: 0.9671, Testing Accuracy: 0.9703\n",
      "\n"
     ]
    },
    {
     "name": "stdout",
     "output_type": "stream",
     "text": [
      "Epoch 80, Loss 0.0279\n",
      "Training Accuracy: 0.9682, Testing Accuracy: 0.9708\n",
      "\n"
     ]
    },
    {
     "name": "stdout",
     "output_type": "stream",
     "text": [
      "Epoch 90, Loss 0.0267\n",
      "Training Accuracy: 0.9694, Testing Accuracy: 0.9708\n",
      "\n"
     ]
    },
    {
     "name": "stdout",
     "output_type": "stream",
     "text": [
      "Epoch 100, Loss 0.0257\n",
      "Training Accuracy: 0.9705, Testing Accuracy: 0.9708\n",
      "\n"
     ]
    },
    {
     "name": "stdout",
     "output_type": "stream",
     "text": [
      "Epoch 110, Loss 0.0249\n",
      "Training Accuracy: 0.9712, Testing Accuracy: 0.9723\n",
      "\n"
     ]
    },
    {
     "name": "stdout",
     "output_type": "stream",
     "text": [
      "Epoch 120, Loss 0.0241\n",
      "Training Accuracy: 0.9719, Testing Accuracy: 0.9708\n",
      "\n"
     ]
    },
    {
     "name": "stdout",
     "output_type": "stream",
     "text": [
      "Epoch 130, Loss 0.0234\n",
      "Training Accuracy: 0.9730, Testing Accuracy: 0.9703\n",
      "\n"
     ]
    },
    {
     "name": "stdout",
     "output_type": "stream",
     "text": [
      "Epoch 140, Loss 0.0227\n",
      "Training Accuracy: 0.9740, Testing Accuracy: 0.9698\n",
      "\n"
     ]
    },
    {
     "name": "stdout",
     "output_type": "stream",
     "text": [
      "Epoch 150, Loss 0.0221\n",
      "Training Accuracy: 0.9751, Testing Accuracy: 0.9713\n",
      "\n"
     ]
    },
    {
     "name": "stdout",
     "output_type": "stream",
     "text": [
      "Epoch 160, Loss 0.0215\n",
      "Training Accuracy: 0.9762, Testing Accuracy: 0.9718\n",
      "\n"
     ]
    },
    {
     "name": "stdout",
     "output_type": "stream",
     "text": [
      "Epoch 170, Loss 0.021\n",
      "Training Accuracy: 0.9768, Testing Accuracy: 0.9728\n",
      "\n"
     ]
    },
    {
     "name": "stdout",
     "output_type": "stream",
     "text": [
      "Epoch 180, Loss 0.0204\n",
      "Training Accuracy: 0.9775, Testing Accuracy: 0.9728\n",
      "\n"
     ]
    },
    {
     "name": "stdout",
     "output_type": "stream",
     "text": [
      "Epoch 190, Loss 0.0199\n",
      "Training Accuracy: 0.9782, Testing Accuracy: 0.9728\n",
      "\n"
     ]
    },
    {
     "name": "stdout",
     "output_type": "stream",
     "text": [
      "Epoch 200, Loss 0.0195\n",
      "Training Accuracy: 0.9791, Testing Accuracy: 0.9743\n",
      "\n"
     ]
    },
    {
     "name": "stdout",
     "output_type": "stream",
     "text": [
      "Epoch 210, Loss 0.019\n",
      "Training Accuracy: 0.9797, Testing Accuracy: 0.9743\n",
      "\n"
     ]
    },
    {
     "name": "stdout",
     "output_type": "stream",
     "text": [
      "Epoch 220, Loss 0.0186\n",
      "Training Accuracy: 0.9802, Testing Accuracy: 0.9743\n",
      "\n"
     ]
    },
    {
     "name": "stdout",
     "output_type": "stream",
     "text": [
      "Epoch 230, Loss 0.0181\n",
      "Training Accuracy: 0.9807, Testing Accuracy: 0.9753\n",
      "\n"
     ]
    },
    {
     "name": "stdout",
     "output_type": "stream",
     "text": [
      "Epoch 240, Loss 0.0177\n",
      "Training Accuracy: 0.9811, Testing Accuracy: 0.9753\n",
      "\n"
     ]
    },
    {
     "name": "stdout",
     "output_type": "stream",
     "text": [
      "Epoch 250, Loss 0.0173\n",
      "Training Accuracy: 0.9814, Testing Accuracy: 0.9753\n",
      "\n"
     ]
    },
    {
     "data": {
      "text/plain": [
       "0.018034828604245753"
      ]
     },
     "execution_count": 20,
     "metadata": {},
     "output_type": "execute_result"
    }
   ],
   "source": [
    "print(\"====== Neural Network ======\")\n",
    "learner_nn.train_loop(dl)"
   ]
  },
  {
   "cell_type": "markdown",
   "metadata": {
    "papermill": {
     "duration": 0.039244,
     "end_time": "2020-08-26T00:06:57.638200",
     "exception": false,
     "start_time": "2020-08-26T00:06:57.598956",
     "status": "completed"
    },
    "tags": []
   },
   "source": [
    "### Logistic Regression based Implementation."
   ]
  },
  {
   "cell_type": "code",
   "execution_count": 21,
   "metadata": {
    "execution": {
     "iopub.execute_input": "2020-08-26T00:06:57.729090Z",
     "iopub.status.busy": "2020-08-26T00:06:57.728454Z",
     "iopub.status.idle": "2020-08-26T00:06:57.741658Z",
     "shell.execute_reply": "2020-08-26T00:06:57.742151Z"
    },
    "papermill": {
     "duration": 0.057497,
     "end_time": "2020-08-26T00:06:57.742298",
     "exception": false,
     "start_time": "2020-08-26T00:06:57.684801",
     "status": "completed"
    },
    "tags": []
   },
   "outputs": [],
   "source": [
    "learner_lr = Learner(loss, model_lr, opt, config.num_epochs)\n",
    "acc_lr = ClfCallback(learner_lr, config.bs, training_xdata , testing_xdata, training_ydata, testing_ydata)\n",
    "learner_lr.set_callbacks([acc_lr])"
   ]
  },
  {
   "cell_type": "code",
   "execution_count": 22,
   "metadata": {
    "execution": {
     "iopub.execute_input": "2020-08-26T00:06:57.822075Z",
     "iopub.status.busy": "2020-08-26T00:06:57.821479Z",
     "iopub.status.idle": "2020-08-26T00:07:13.208658Z",
     "shell.execute_reply": "2020-08-26T00:07:13.209180Z"
    },
    "papermill": {
     "duration": 15.42903,
     "end_time": "2020-08-26T00:07:13.209344",
     "exception": false,
     "start_time": "2020-08-26T00:06:57.780314",
     "status": "completed"
    },
    "tags": []
   },
   "outputs": [
    {
     "name": "stdout",
     "output_type": "stream",
     "text": [
      "====== Logistic Regression ======\n",
      "Epoch 0, Loss 0.2152\n",
      "Training Accuracy: 0.7862, Testing Accuracy: 0.7828\n",
      "\n"
     ]
    },
    {
     "name": "stdout",
     "output_type": "stream",
     "text": [
      "Epoch 10, Loss 0.0957\n",
      "Training Accuracy: 0.9268, Testing Accuracy: 0.9415\n",
      "\n"
     ]
    },
    {
     "name": "stdout",
     "output_type": "stream",
     "text": [
      "Epoch 20, Loss 0.0748\n",
      "Training Accuracy: 0.9343, Testing Accuracy: 0.9471\n",
      "\n"
     ]
    },
    {
     "name": "stdout",
     "output_type": "stream",
     "text": [
      "Epoch 30, Loss 0.0651\n",
      "Training Accuracy: 0.9411, Testing Accuracy: 0.9506\n",
      "\n"
     ]
    },
    {
     "name": "stdout",
     "output_type": "stream",
     "text": [
      "Epoch 40, Loss 0.0592\n",
      "Training Accuracy: 0.9449, Testing Accuracy: 0.9536\n",
      "\n"
     ]
    },
    {
     "name": "stdout",
     "output_type": "stream",
     "text": [
      "Epoch 50, Loss 0.0551\n",
      "Training Accuracy: 0.9483, Testing Accuracy: 0.9582\n",
      "\n"
     ]
    },
    {
     "name": "stdout",
     "output_type": "stream",
     "text": [
      "Epoch 60, Loss 0.0521\n",
      "Training Accuracy: 0.9508, Testing Accuracy: 0.9607\n",
      "\n"
     ]
    },
    {
     "name": "stdout",
     "output_type": "stream",
     "text": [
      "Epoch 70, Loss 0.0498\n",
      "Training Accuracy: 0.9526, Testing Accuracy: 0.9622\n",
      "\n"
     ]
    },
    {
     "name": "stdout",
     "output_type": "stream",
     "text": [
      "Epoch 80, Loss 0.0479\n",
      "Training Accuracy: 0.9542, Testing Accuracy: 0.9627\n",
      "\n"
     ]
    },
    {
     "name": "stdout",
     "output_type": "stream",
     "text": [
      "Epoch 90, Loss 0.0463\n",
      "Training Accuracy: 0.9553, Testing Accuracy: 0.9647\n",
      "\n"
     ]
    },
    {
     "name": "stdout",
     "output_type": "stream",
     "text": [
      "Epoch 100, Loss 0.045\n",
      "Training Accuracy: 0.9558, Testing Accuracy: 0.9652\n",
      "\n"
     ]
    },
    {
     "name": "stdout",
     "output_type": "stream",
     "text": [
      "Epoch 110, Loss 0.0438\n",
      "Training Accuracy: 0.9564, Testing Accuracy: 0.9662\n",
      "\n"
     ]
    },
    {
     "name": "stdout",
     "output_type": "stream",
     "text": [
      "Epoch 120, Loss 0.0428\n",
      "Training Accuracy: 0.9574, Testing Accuracy: 0.9672\n",
      "\n"
     ]
    },
    {
     "name": "stdout",
     "output_type": "stream",
     "text": [
      "Epoch 130, Loss 0.042\n",
      "Training Accuracy: 0.9578, Testing Accuracy: 0.9672\n",
      "\n"
     ]
    },
    {
     "name": "stdout",
     "output_type": "stream",
     "text": [
      "Epoch 140, Loss 0.0412\n",
      "Training Accuracy: 0.9580, Testing Accuracy: 0.9672\n",
      "\n"
     ]
    },
    {
     "name": "stdout",
     "output_type": "stream",
     "text": [
      "Epoch 150, Loss 0.0405\n",
      "Training Accuracy: 0.9584, Testing Accuracy: 0.9672\n",
      "\n"
     ]
    },
    {
     "name": "stdout",
     "output_type": "stream",
     "text": [
      "Epoch 160, Loss 0.0398\n",
      "Training Accuracy: 0.9593, Testing Accuracy: 0.9672\n",
      "\n"
     ]
    },
    {
     "name": "stdout",
     "output_type": "stream",
     "text": [
      "Epoch 170, Loss 0.0393\n",
      "Training Accuracy: 0.9599, Testing Accuracy: 0.9667\n",
      "\n"
     ]
    },
    {
     "name": "stdout",
     "output_type": "stream",
     "text": [
      "Epoch 180, Loss 0.0387\n",
      "Training Accuracy: 0.9603, Testing Accuracy: 0.9667\n",
      "\n"
     ]
    },
    {
     "name": "stdout",
     "output_type": "stream",
     "text": [
      "Epoch 190, Loss 0.0383\n",
      "Training Accuracy: 0.9607, Testing Accuracy: 0.9662\n",
      "\n"
     ]
    },
    {
     "name": "stdout",
     "output_type": "stream",
     "text": [
      "Epoch 200, Loss 0.0378\n",
      "Training Accuracy: 0.9613, Testing Accuracy: 0.9672\n",
      "\n"
     ]
    },
    {
     "name": "stdout",
     "output_type": "stream",
     "text": [
      "Epoch 210, Loss 0.0374\n",
      "Training Accuracy: 0.9614, Testing Accuracy: 0.9672\n",
      "\n"
     ]
    },
    {
     "name": "stdout",
     "output_type": "stream",
     "text": [
      "Epoch 220, Loss 0.037\n",
      "Training Accuracy: 0.9616, Testing Accuracy: 0.9667\n",
      "\n"
     ]
    },
    {
     "name": "stdout",
     "output_type": "stream",
     "text": [
      "Epoch 230, Loss 0.0366\n",
      "Training Accuracy: 0.9618, Testing Accuracy: 0.9667\n",
      "\n"
     ]
    },
    {
     "name": "stdout",
     "output_type": "stream",
     "text": [
      "Epoch 240, Loss 0.0363\n",
      "Training Accuracy: 0.9619, Testing Accuracy: 0.9672\n",
      "\n"
     ]
    },
    {
     "name": "stdout",
     "output_type": "stream",
     "text": [
      "Epoch 250, Loss 0.036\n",
      "Training Accuracy: 0.9622, Testing Accuracy: 0.9672\n",
      "\n"
     ]
    },
    {
     "data": {
      "text/plain": [
       "0.021367658482957835"
      ]
     },
     "execution_count": 22,
     "metadata": {},
     "output_type": "execute_result"
    }
   ],
   "source": [
    "print(\"====== Logistic Regression ======\")\n",
    "learner_lr.train_loop(dl)"
   ]
  },
  {
   "cell_type": "markdown",
   "metadata": {
    "papermill": {
     "duration": 0.046458,
     "end_time": "2020-08-26T00:07:13.302843",
     "exception": false,
     "start_time": "2020-08-26T00:07:13.256385",
     "status": "completed"
    },
    "tags": []
   },
   "source": [
    "### Comparing results of NN and LR"
   ]
  },
  {
   "cell_type": "code",
   "execution_count": 23,
   "metadata": {
    "execution": {
     "iopub.execute_input": "2020-08-26T00:07:13.402218Z",
     "iopub.status.busy": "2020-08-26T00:07:13.401612Z",
     "iopub.status.idle": "2020-08-26T00:07:13.649807Z",
     "shell.execute_reply": "2020-08-26T00:07:13.649039Z"
    },
    "papermill": {
     "duration": 0.300699,
     "end_time": "2020-08-26T00:07:13.649944",
     "exception": false,
     "start_time": "2020-08-26T00:07:13.349245",
     "status": "completed"
    },
    "tags": []
   },
   "outputs": [
    {
     "data": {
      "text/plain": [
       "<matplotlib.legend.Legend at 0x7f398b9841d0>"
      ]
     },
     "execution_count": 23,
     "metadata": {},
     "output_type": "execute_result"
    },
    {
     "data": {
      "image/png": "[encoded data removed]",
      "text/plain": [
       "<Figure size 1080x720 with 1 Axes>"
      ]
     },
     "metadata": {
      "needs_background": "light"
     },
     "output_type": "display_data"
    }
   ],
   "source": [
    "plt.figure(figsize=(15,10))\n",
    "\n",
    "# Neural Network plots\n",
    "plt.plot(acc_nn.accuracies, 'r-', label = \"Training Accuracies - NN\")\n",
    "plt.plot(acc_nn.test_accuracies, 'g-', label = \"Testing Accuracies - NN\")\n",
    "\n",
    "# Logistic Regression plots\n",
    "plt.plot(acc_lr.accuracies, 'k-', label = \"Training Accuracies - LR\")\n",
    "plt.plot(acc_lr.test_accuracies, 'b-', label = \"Testing Accuracies - LR\")\n",
    "\n",
    "plt.ylim(0.8, 1)\n",
    "\n",
    "plt.legend()\n",
    "\n"
   ]
  },
  {
   "cell_type": "markdown",
   "metadata": {
    "papermill": {
     "duration": 0.047999,
     "end_time": "2020-08-26T00:07:13.746383",
     "exception": false,
     "start_time": "2020-08-26T00:07:13.698384",
     "status": "completed"
    },
    "tags": []
   },
   "source": [
    "### From the plot, we can observe the following:\n",
    "- Neural Network achieves higher accuracy than the Logistic Regression model.\n",
    "- This apparently, is because of overfitting, i.e. NN captures more noise than data.\n",
    "- Testing accuracy of NN drops below the Training accuracy at higher epochs. This explains the over-fitting on training data.\n",
    "- Logistic Regression gives a reliable accuracy, without the above mentioned problem.\n"
   ]
  },
  {
   "cell_type": "markdown",
   "metadata": {
    "papermill": {
     "duration": 0.048017,
     "end_time": "2020-08-26T00:07:13.842507",
     "exception": false,
     "start_time": "2020-08-26T00:07:13.794490",
     "status": "completed"
    },
    "tags": []
   },
   "source": [
    "### Moving till the last but one layer (excluding it).\n",
    "#### Plotting the outputs of this layer of the NN."
   ]
  },
  {
   "cell_type": "code",
   "execution_count": 24,
   "metadata": {
    "execution": {
     "iopub.execute_input": "2020-08-26T00:07:13.953410Z",
     "iopub.status.busy": "2020-08-26T00:07:13.945313Z",
     "iopub.status.idle": "2020-08-26T00:07:13.957623Z",
     "shell.execute_reply": "2020-08-26T00:07:13.957076Z"
    },
    "papermill": {
     "duration": 0.067062,
     "end_time": "2020-08-26T00:07:13.957745",
     "exception": false,
     "start_time": "2020-08-26T00:07:13.890683",
     "status": "completed"
    },
    "tags": []
   },
   "outputs": [],
   "source": [
    "model_new = Model(layers[:-2])"
   ]
  },
  {
   "cell_type": "code",
   "execution_count": 25,
   "metadata": {
    "execution": {
     "iopub.execute_input": "2020-08-26T00:07:14.066067Z",
     "iopub.status.busy": "2020-08-26T00:07:14.065474Z",
     "iopub.status.idle": "2020-08-26T00:07:14.082602Z",
     "shell.execute_reply": "2020-08-26T00:07:14.083098Z"
    },
    "papermill": {
     "duration": 0.077434,
     "end_time": "2020-08-26T00:07:14.083240",
     "exception": false,
     "start_time": "2020-08-26T00:07:14.005806",
     "status": "completed"
    },
    "tags": []
   },
   "outputs": [],
   "source": [
    "plot_testing = model_new(testing_xdata)"
   ]
  },
  {
   "cell_type": "code",
   "execution_count": 26,
   "metadata": {
    "execution": {
     "iopub.execute_input": "2020-08-26T00:07:14.190201Z",
     "iopub.status.busy": "2020-08-26T00:07:14.189603Z",
     "iopub.status.idle": "2020-08-26T00:07:14.399847Z",
     "shell.execute_reply": "2020-08-26T00:07:14.400381Z"
    },
    "papermill": {
     "duration": 0.268857,
     "end_time": "2020-08-26T00:07:14.400526",
     "exception": false,
     "start_time": "2020-08-26T00:07:14.131669",
     "status": "completed"
    },
    "tags": []
   },
   "outputs": [
    {
     "data": {
      "text/plain": [
       "Text(0.5, 1.0, 'Outputs')"
      ]
     },
     "execution_count": 26,
     "metadata": {},
     "output_type": "execute_result"
    },
    {
     "data": {
      "image/png": "[encoded data removed]",
      "text/plain": [
       "<Figure size 576x504 with 1 Axes>"
      ]
     },
     "metadata": {
      "needs_background": "light"
     },
     "output_type": "display_data"
    }
   ],
   "source": [
    "plt.figure(figsize=(8,7))\n",
    "plt.scatter(plot_testing[:,0], plot_testing[:,1], alpha = 0.1, c = y_test.ravel());\n",
    "plt.title('Outputs')"
   ]
  },
  {
   "cell_type": "markdown",
   "metadata": {
    "papermill": {
     "duration": 0.050357,
     "end_time": "2020-08-26T00:07:14.501478",
     "exception": false,
     "start_time": "2020-08-26T00:07:14.451121",
     "status": "completed"
    },
    "tags": []
   },
   "source": [
    "### Plotting probability contours"
   ]
  },
  {
   "cell_type": "code",
   "execution_count": 27,
   "metadata": {
    "execution": {
     "iopub.execute_input": "2020-08-26T00:07:14.614306Z",
     "iopub.status.busy": "2020-08-26T00:07:14.613714Z",
     "iopub.status.idle": "2020-08-26T00:07:14.623405Z",
     "shell.execute_reply": "2020-08-26T00:07:14.622890Z"
    },
    "papermill": {
     "duration": 0.071855,
     "end_time": "2020-08-26T00:07:14.623527",
     "exception": false,
     "start_time": "2020-08-26T00:07:14.551672",
     "status": "completed"
    },
    "tags": []
   },
   "outputs": [],
   "source": [
    "model_prob = Model(layers[-2:]) "
   ]
  },
  {
   "cell_type": "code",
   "execution_count": 28,
   "metadata": {
    "execution": {
     "iopub.execute_input": "2020-08-26T00:07:14.728860Z",
     "iopub.status.busy": "2020-08-26T00:07:14.727813Z",
     "iopub.status.idle": "2020-08-26T00:07:14.743915Z",
     "shell.execute_reply": "2020-08-26T00:07:14.744372Z"
    },
    "papermill": {
     "duration": 0.070921,
     "end_time": "2020-08-26T00:07:14.744509",
     "exception": false,
     "start_time": "2020-08-26T00:07:14.673588",
     "status": "completed"
    },
    "tags": []
   },
   "outputs": [],
   "source": [
    "# Adjust the x and y ranges according to the above generated plot.\n",
    "x_range = np.linspace(-4, 1, 100) \n",
    "y_range = np.linspace(-6, 6, 100) \n",
    "x_grid, y_grid = np.meshgrid(x_range, y_range) # x_grid and y_grig are of size 100 X 100\n",
    "\n",
    "# converting x_grid and y_grid to continuous arrays\n",
    "x_grid_flat = np.ravel(x_grid)\n",
    "y_grid_flat = np.ravel(y_grid)\n",
    "\n",
    "# The last layer of the current model takes two columns as input. Hence transpose of np.vstack() is required.\n",
    "X = np.vstack((x_grid_flat, y_grid_flat)).T\n",
    "\n",
    "# x_grid and y_grid are of size 100 x 100\n",
    "probability_contour = model_prob(X).reshape(100,100) "
   ]
  },
  {
   "cell_type": "code",
   "execution_count": 29,
   "metadata": {
    "execution": {
     "iopub.execute_input": "2020-08-26T00:07:14.854210Z",
     "iopub.status.busy": "2020-08-26T00:07:14.853621Z",
     "iopub.status.idle": "2020-08-26T00:07:15.111838Z",
     "shell.execute_reply": "2020-08-26T00:07:15.111314Z"
    },
    "papermill": {
     "duration": 0.317335,
     "end_time": "2020-08-26T00:07:15.111968",
     "exception": false,
     "start_time": "2020-08-26T00:07:14.794633",
     "status": "completed"
    },
    "tags": []
   },
   "outputs": [
    {
     "data": {
      "image/png": "[encoded data removed]",
      "text/plain": [
       "<Figure size 720x648 with 1 Axes>"
      ]
     },
     "metadata": {
      "needs_background": "light"
     },
     "output_type": "display_data"
    }
   ],
   "source": [
    "plt.figure(figsize=(10,9))\n",
    "plt.scatter(plot_testing[:,0], plot_testing[:,1], alpha = 0.1, c = y_test.ravel())\n",
    "contours = plt.contour(x_grid,y_grid,probability_contour)\n",
    "plt.title('Probability Contours')\n",
    "plt.clabel(contours, inline = True );"
   ]
  }
 ],
 "metadata": {
  "kernelspec": {
   "display_name": "Python 3",
   "language": "python",
   "name": "python3"
  },
  "language_info": {
   "codemirror_mode": {
    "name": "ipython",
    "version": 3
   },
   "file_extension": ".py",
   "mimetype": "text/x-python",
   "name": "python",
   "nbconvert_exporter": "python",
   "pygments_lexer": "ipython3",
   "version": "3.6.11"
  },
  "papermill": {
   "duration": 114.820459,
   "end_time": "2020-08-26T00:07:15.473437",
   "environment_variables": {},
   "exception": null,
   "input_path": "2020-08-11-NeuralNetwork.ipynb",
   "output_path": "2020-08-11-NeuralNetwork.ipynb",
   "parameters": {},
   "start_time": "2020-08-26T00:05:20.652978",
   "version": "2.1.2"
  }
 },
 "nbformat": 4,
 "nbformat_minor": 4
}