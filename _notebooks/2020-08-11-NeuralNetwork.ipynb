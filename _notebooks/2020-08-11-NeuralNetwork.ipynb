{
 "cells": [
  {
   "cell_type": "markdown",
   "metadata": {
    "papermill": {
     "duration": 0.033649,
     "end_time": "2020-09-21T00:06:39.011478",
     "exception": false,
     "start_time": "2020-09-21T00:06:38.977829",
     "status": "completed"
    },
    "tags": []
   },
   "source": [
    "# \"A Basic Neural Network: Differentiate Hand-Written Digits\"\n",
    "\n",
    "- badges: true\n",
    "- author: Akshith Sriram"
   ]
  },
  {
   "cell_type": "markdown",
   "metadata": {
    "papermill": {
     "duration": 0.02778,
     "end_time": "2020-09-21T00:06:39.066806",
     "exception": false,
     "start_time": "2020-09-21T00:06:39.039026",
     "status": "completed"
    },
    "tags": []
   },
   "source": [
    "### Key Objectives:\n",
    "- Building a neural network that differentiates two hand-written digits 3 and 8.\n",
    "- Comparing the results of this Neural Network (NN) to that of a Logistic Regression (LR) model.\n",
    "\n",
    "### Requirements:\n",
    "- 'Kudzu' : A neural network library that was designed during our course by [Univ.AI](www.univ.ai). \n",
    "- MNIST Database\n",
    "\n",
    "If MNIST is not installed, use the command `!pip install mnist` given below.\n",
    "It can be run both from the command line and Jupyter Notebook."
   ]
  },
  {
   "cell_type": "code",
   "execution_count": 1,
   "metadata": {
    "execution": {
     "iopub.execute_input": "2020-09-21T00:06:39.128341Z",
     "iopub.status.busy": "2020-09-21T00:06:39.127602Z",
     "iopub.status.idle": "2020-09-21T00:06:40.835908Z",
     "shell.execute_reply": "2020-09-21T00:06:40.834909Z"
    },
    "papermill": {
     "duration": 1.742042,
     "end_time": "2020-09-21T00:06:40.836069",
     "exception": false,
     "start_time": "2020-09-21T00:06:39.094027",
     "status": "completed"
    },
    "tags": []
   },
   "outputs": [
    {
     "name": "stdout",
     "output_type": "stream",
     "text": [
      "Collecting mnist\r\n"
     ]
    },
    {
     "name": "stdout",
     "output_type": "stream",
     "text": [
      "  Downloading mnist-0.2.2-py2.py3-none-any.whl (3.5 kB)\r\n"
     ]
    },
    {
     "name": "stdout",
     "output_type": "stream",
     "text": [
      "Requirement already satisfied: numpy in /opt/hostedtoolcache/Python/3.6.12/x64/lib/python3.6/site-packages (from mnist) (1.19.2)\r\n"
     ]
    },
    {
     "name": "stdout",
     "output_type": "stream",
     "text": [
      "Installing collected packages: mnist\r\n"
     ]
    },
    {
     "name": "stdout",
     "output_type": "stream",
     "text": [
      "Successfully installed mnist-0.2.2\r\n"
     ]
    }
   ],
   "source": [
    "!pip install mnist "
   ]
  },
  {
   "cell_type": "markdown",
   "metadata": {
    "papermill": {
     "duration": 0.028234,
     "end_time": "2020-09-21T00:06:40.894760",
     "exception": false,
     "start_time": "2020-09-21T00:06:40.866526",
     "status": "completed"
    },
    "tags": []
   },
   "source": [
    "#### Importing necessary libraries"
   ]
  },
  {
   "cell_type": "code",
   "execution_count": 2,
   "metadata": {
    "execution": {
     "iopub.execute_input": "2020-09-21T00:06:40.961058Z",
     "iopub.status.busy": "2020-09-21T00:06:40.960352Z",
     "iopub.status.idle": "2020-09-21T00:06:41.561387Z",
     "shell.execute_reply": "2020-09-21T00:06:41.560840Z"
    },
    "papermill": {
     "duration": 0.638399,
     "end_time": "2020-09-21T00:06:41.561539",
     "exception": false,
     "start_time": "2020-09-21T00:06:40.923140",
     "status": "completed"
    },
    "tags": []
   },
   "outputs": [],
   "source": [
    "%load_ext autoreload\n",
    "%autoreload 2\n",
    "\n",
    "%matplotlib inline\n",
    "import matplotlib.pyplot as plt\n",
    "\n",
    "import numpy as np\n",
    "import pandas as pd"
   ]
  },
  {
   "cell_type": "markdown",
   "metadata": {
    "papermill": {
     "duration": 0.029082,
     "end_time": "2020-09-21T00:06:41.621179",
     "exception": false,
     "start_time": "2020-09-21T00:06:41.592097",
     "status": "completed"
    },
    "tags": []
   },
   "source": [
    "### Preparing the Data"
   ]
  },
  {
   "cell_type": "code",
   "execution_count": 3,
   "metadata": {
    "execution": {
     "iopub.execute_input": "2020-09-21T00:06:41.684000Z",
     "iopub.status.busy": "2020-09-21T00:06:41.683231Z",
     "iopub.status.idle": "2020-09-21T00:06:41.697432Z",
     "shell.execute_reply": "2020-09-21T00:06:41.696873Z"
    },
    "papermill": {
     "duration": 0.047822,
     "end_time": "2020-09-21T00:06:41.697564",
     "exception": false,
     "start_time": "2020-09-21T00:06:41.649742",
     "status": "completed"
    },
    "tags": []
   },
   "outputs": [],
   "source": [
    "import mnist"
   ]
  },
  {
   "cell_type": "code",
   "execution_count": 4,
   "metadata": {
    "execution": {
     "iopub.execute_input": "2020-09-21T00:06:41.760031Z",
     "iopub.status.busy": "2020-09-21T00:06:41.759333Z",
     "iopub.status.idle": "2020-09-21T00:06:42.693430Z",
     "shell.execute_reply": "2020-09-21T00:06:42.692907Z"
    },
    "papermill": {
     "duration": 0.967598,
     "end_time": "2020-09-21T00:06:42.693582",
     "exception": false,
     "start_time": "2020-09-21T00:06:41.725984",
     "status": "completed"
    },
    "tags": []
   },
   "outputs": [],
   "source": [
    "train_images = mnist.train_images()\n",
    "train_labels = mnist.train_labels()"
   ]
  },
  {
   "cell_type": "code",
   "execution_count": 5,
   "metadata": {
    "execution": {
     "iopub.execute_input": "2020-09-21T00:06:42.756964Z",
     "iopub.status.busy": "2020-09-21T00:06:42.755507Z",
     "iopub.status.idle": "2020-09-21T00:06:42.770705Z",
     "shell.execute_reply": "2020-09-21T00:06:42.770209Z"
    },
    "papermill": {
     "duration": 0.047831,
     "end_time": "2020-09-21T00:06:42.770834",
     "exception": false,
     "start_time": "2020-09-21T00:06:42.723003",
     "status": "completed"
    },
    "tags": []
   },
   "outputs": [
    {
     "data": {
      "text/plain": [
       "((60000, 28, 28), (60000,))"
      ]
     },
     "execution_count": 5,
     "metadata": {},
     "output_type": "execute_result"
    }
   ],
   "source": [
    "train_images.shape, train_labels.shape"
   ]
  },
  {
   "cell_type": "code",
   "execution_count": 6,
   "metadata": {
    "execution": {
     "iopub.execute_input": "2020-09-21T00:06:42.835071Z",
     "iopub.status.busy": "2020-09-21T00:06:42.834406Z",
     "iopub.status.idle": "2020-09-21T00:06:43.269595Z",
     "shell.execute_reply": "2020-09-21T00:06:43.268581Z"
    },
    "papermill": {
     "duration": 0.469268,
     "end_time": "2020-09-21T00:06:43.269801",
     "exception": false,
     "start_time": "2020-09-21T00:06:42.800533",
     "status": "completed"
    },
    "tags": []
   },
   "outputs": [],
   "source": [
    "test_images = mnist.test_images()\n",
    "test_labels = mnist.test_labels()"
   ]
  },
  {
   "cell_type": "code",
   "execution_count": 7,
   "metadata": {
    "execution": {
     "iopub.execute_input": "2020-09-21T00:06:43.331734Z",
     "iopub.status.busy": "2020-09-21T00:06:43.331079Z",
     "iopub.status.idle": "2020-09-21T00:06:43.344613Z",
     "shell.execute_reply": "2020-09-21T00:06:43.344054Z"
    },
    "papermill": {
     "duration": 0.045228,
     "end_time": "2020-09-21T00:06:43.344757",
     "exception": false,
     "start_time": "2020-09-21T00:06:43.299529",
     "status": "completed"
    },
    "tags": []
   },
   "outputs": [
    {
     "data": {
      "text/plain": [
       "((10000, 28, 28), (10000,))"
      ]
     },
     "execution_count": 7,
     "metadata": {},
     "output_type": "execute_result"
    }
   ],
   "source": [
    "test_images.shape, test_labels.shape"
   ]
  },
  {
   "cell_type": "code",
   "execution_count": 8,
   "metadata": {
    "execution": {
     "iopub.execute_input": "2020-09-21T00:06:43.408549Z",
     "iopub.status.busy": "2020-09-21T00:06:43.407911Z",
     "iopub.status.idle": "2020-09-21T00:06:43.578726Z",
     "shell.execute_reply": "2020-09-21T00:06:43.578212Z"
    },
    "papermill": {
     "duration": 0.20519,
     "end_time": "2020-09-21T00:06:43.579045",
     "exception": false,
     "start_time": "2020-09-21T00:06:43.373855",
     "status": "completed"
    },
    "tags": []
   },
   "outputs": [
    {
     "name": "stdout",
     "output_type": "stream",
     "text": [
      "2\n"
     ]
    },
    {
     "data": {
      "text/plain": [
       "<matplotlib.image.AxesImage at 0x7f8d4166aeb8>"
      ]
     },
     "execution_count": 8,
     "metadata": {},
     "output_type": "execute_result"
    },
    {
     "data": {
      "image/png": "[encoded data removed]",
      "text/plain": [
       "<Figure size 432x288 with 1 Axes>"
      ]
     },
     "metadata": {
      "needs_background": "light"
     },
     "output_type": "display_data"
    }
   ],
   "source": [
    "image_index = 7776 # You may select anything up to 60,000\n",
    "print(train_labels[image_index]) \n",
    "plt.imshow(train_images[image_index], cmap='Greys')"
   ]
  },
  {
   "cell_type": "markdown",
   "metadata": {
    "papermill": {
     "duration": 0.031755,
     "end_time": "2020-09-21T00:06:43.641259",
     "exception": false,
     "start_time": "2020-09-21T00:06:43.609504",
     "status": "completed"
    },
    "tags": []
   },
   "source": [
    "## Filter data to get 3 and 8 out"
   ]
  },
  {
   "cell_type": "code",
   "execution_count": 9,
   "metadata": {
    "execution": {
     "iopub.execute_input": "2020-09-21T00:06:43.713305Z",
     "iopub.status.busy": "2020-09-21T00:06:43.707085Z",
     "iopub.status.idle": "2020-09-21T00:06:43.727594Z",
     "shell.execute_reply": "2020-09-21T00:06:43.726870Z"
    },
    "papermill": {
     "duration": 0.05786,
     "end_time": "2020-09-21T00:06:43.727780",
     "exception": false,
     "start_time": "2020-09-21T00:06:43.669920",
     "status": "completed"
    },
    "tags": []
   },
   "outputs": [],
   "source": [
    "train_filter = np.where((train_labels == 3 ) | (train_labels == 8))\n",
    "test_filter = np.where((test_labels == 3) | (test_labels == 8))\n",
    "X_train, y_train = train_images[train_filter], train_labels[train_filter]\n",
    "X_test, y_test = test_images[test_filter], test_labels[test_filter]"
   ]
  },
  {
   "cell_type": "markdown",
   "metadata": {
    "papermill": {
     "duration": 0.030465,
     "end_time": "2020-09-21T00:06:43.789033",
     "exception": false,
     "start_time": "2020-09-21T00:06:43.758568",
     "status": "completed"
    },
    "tags": []
   },
   "source": [
    "We normalize the pixel values in the 0 to 1 range"
   ]
  },
  {
   "cell_type": "code",
   "execution_count": 10,
   "metadata": {
    "execution": {
     "iopub.execute_input": "2020-09-21T00:06:43.855385Z",
     "iopub.status.busy": "2020-09-21T00:06:43.854718Z",
     "iopub.status.idle": "2020-09-21T00:06:43.916893Z",
     "shell.execute_reply": "2020-09-21T00:06:43.916344Z"
    },
    "papermill": {
     "duration": 0.098065,
     "end_time": "2020-09-21T00:06:43.917037",
     "exception": false,
     "start_time": "2020-09-21T00:06:43.818972",
     "status": "completed"
    },
    "tags": []
   },
   "outputs": [],
   "source": [
    "X_train = X_train/255.\n",
    "X_test = X_test/255."
   ]
  },
  {
   "cell_type": "markdown",
   "metadata": {
    "papermill": {
     "duration": 0.031542,
     "end_time": "2020-09-21T00:06:43.979333",
     "exception": false,
     "start_time": "2020-09-21T00:06:43.947791",
     "status": "completed"
    },
    "tags": []
   },
   "source": [
    "Setup the labels as 1 (when the digit is 3) and 0 (when the digit is 8)"
   ]
  },
  {
   "cell_type": "code",
   "execution_count": 11,
   "metadata": {
    "execution": {
     "iopub.execute_input": "2020-09-21T00:06:44.044590Z",
     "iopub.status.busy": "2020-09-21T00:06:44.043792Z",
     "iopub.status.idle": "2020-09-21T00:06:44.057178Z",
     "shell.execute_reply": "2020-09-21T00:06:44.056533Z"
    },
    "papermill": {
     "duration": 0.047024,
     "end_time": "2020-09-21T00:06:44.057341",
     "exception": false,
     "start_time": "2020-09-21T00:06:44.010317",
     "status": "completed"
    },
    "tags": []
   },
   "outputs": [],
   "source": [
    "y_train = 1*(y_train==3)\n",
    "y_test = 1*(y_test==3)"
   ]
  },
  {
   "cell_type": "code",
   "execution_count": 12,
   "metadata": {
    "execution": {
     "iopub.execute_input": "2020-09-21T00:06:44.124465Z",
     "iopub.status.busy": "2020-09-21T00:06:44.123796Z",
     "iopub.status.idle": "2020-09-21T00:06:44.137290Z",
     "shell.execute_reply": "2020-09-21T00:06:44.136765Z"
    },
    "papermill": {
     "duration": 0.047675,
     "end_time": "2020-09-21T00:06:44.137411",
     "exception": false,
     "start_time": "2020-09-21T00:06:44.089736",
     "status": "completed"
    },
    "tags": []
   },
   "outputs": [
    {
     "data": {
      "text/plain": [
       "((11982, 28, 28), (1984, 28, 28))"
      ]
     },
     "execution_count": 12,
     "metadata": {},
     "output_type": "execute_result"
    }
   ],
   "source": [
    "X_train.shape, X_test.shape"
   ]
  },
  {
   "cell_type": "markdown",
   "metadata": {
    "papermill": {
     "duration": 0.031779,
     "end_time": "2020-09-21T00:06:44.199141",
     "exception": false,
     "start_time": "2020-09-21T00:06:44.167362",
     "status": "completed"
    },
    "tags": []
   },
   "source": [
    "### Reshape the input data to create a linear array"
   ]
  },
  {
   "cell_type": "code",
   "execution_count": 13,
   "metadata": {
    "execution": {
     "iopub.execute_input": "2020-09-21T00:06:44.268887Z",
     "iopub.status.busy": "2020-09-21T00:06:44.268131Z",
     "iopub.status.idle": "2020-09-21T00:06:44.282145Z",
     "shell.execute_reply": "2020-09-21T00:06:44.281505Z"
    },
    "papermill": {
     "duration": 0.049614,
     "end_time": "2020-09-21T00:06:44.282291",
     "exception": false,
     "start_time": "2020-09-21T00:06:44.232677",
     "status": "completed"
    },
    "tags": []
   },
   "outputs": [
    {
     "data": {
      "text/plain": [
       "((11982, 784), (1984, 784))"
      ]
     },
     "execution_count": 13,
     "metadata": {},
     "output_type": "execute_result"
    }
   ],
   "source": [
    "X_train = X_train.reshape(X_train.shape[0], -1)\n",
    "X_test = X_test.reshape(X_test.shape[0], -1)\n",
    "X_train.shape, X_test.shape"
   ]
  },
  {
   "cell_type": "markdown",
   "metadata": {
    "papermill": {
     "duration": 0.031541,
     "end_time": "2020-09-21T00:06:44.345041",
     "exception": false,
     "start_time": "2020-09-21T00:06:44.313500",
     "status": "completed"
    },
    "tags": []
   },
   "source": [
    "### Importing appropriate functions from 'Kudzu'"
   ]
  },
  {
   "cell_type": "code",
   "execution_count": 14,
   "metadata": {
    "execution": {
     "iopub.execute_input": "2020-09-21T00:06:44.413436Z",
     "iopub.status.busy": "2020-09-21T00:06:44.412753Z",
     "iopub.status.idle": "2020-09-21T00:06:44.433652Z",
     "shell.execute_reply": "2020-09-21T00:06:44.434250Z"
    },
    "papermill": {
     "duration": 0.058058,
     "end_time": "2020-09-21T00:06:44.434427",
     "exception": false,
     "start_time": "2020-09-21T00:06:44.376369",
     "status": "completed"
    },
    "tags": []
   },
   "outputs": [],
   "source": [
    "from kudzu.layer import Sigmoid\n",
    "from kudzu.layer import Relu\n",
    "from kudzu.layer import Affine, Sigmoid\n",
    "\n",
    "from kudzu.model import Model\n",
    "from kudzu.train import Learner\n",
    "from kudzu.optim import GD\n",
    "from kudzu.data import Data, Dataloader, Sampler\n",
    "\n",
    "from kudzu.callbacks import AccCallback\n",
    "from kudzu.callbacks import ClfCallback\n",
    "\n",
    "from kudzu.loss import MSE"
   ]
  },
  {
   "cell_type": "markdown",
   "metadata": {
    "papermill": {
     "duration": 0.030367,
     "end_time": "2020-09-21T00:06:44.495719",
     "exception": false,
     "start_time": "2020-09-21T00:06:44.465352",
     "status": "completed"
    },
    "tags": []
   },
   "source": [
    "### Let us create a `Config` class, to store important parameters. \n",
    "This class essentially plays the role of a dictionary."
   ]
  },
  {
   "cell_type": "code",
   "execution_count": 15,
   "metadata": {
    "execution": {
     "iopub.execute_input": "2020-09-21T00:06:44.561986Z",
     "iopub.status.busy": "2020-09-21T00:06:44.561266Z",
     "iopub.status.idle": "2020-09-21T00:06:44.575272Z",
     "shell.execute_reply": "2020-09-21T00:06:44.574772Z"
    },
    "papermill": {
     "duration": 0.049092,
     "end_time": "2020-09-21T00:06:44.575411",
     "exception": false,
     "start_time": "2020-09-21T00:06:44.526319",
     "status": "completed"
    },
    "tags": []
   },
   "outputs": [],
   "source": [
    "class Config:\n",
    "    pass\n",
    "config = Config()\n",
    "config.lr = 0.001\n",
    "config.num_epochs = 251\n",
    "config.bs = 50"
   ]
  },
  {
   "cell_type": "markdown",
   "metadata": {
    "papermill": {
     "duration": 0.032651,
     "end_time": "2020-09-21T00:06:44.640258",
     "exception": false,
     "start_time": "2020-09-21T00:06:44.607607",
     "status": "completed"
    },
    "tags": []
   },
   "source": [
    "### Initializing data to the variables"
   ]
  },
  {
   "cell_type": "code",
   "execution_count": 16,
   "metadata": {
    "execution": {
     "iopub.execute_input": "2020-09-21T00:06:44.708533Z",
     "iopub.status.busy": "2020-09-21T00:06:44.707900Z",
     "iopub.status.idle": "2020-09-21T00:06:44.721115Z",
     "shell.execute_reply": "2020-09-21T00:06:44.720560Z"
    },
    "papermill": {
     "duration": 0.049331,
     "end_time": "2020-09-21T00:06:44.721246",
     "exception": false,
     "start_time": "2020-09-21T00:06:44.671915",
     "status": "completed"
    },
    "tags": []
   },
   "outputs": [],
   "source": [
    "data = Data(X_train, y_train.reshape(-1,1))\n",
    "sampler = Sampler(data, config.bs, shuffle=True)\n",
    "\n",
    "dl = Dataloader(data, sampler)\n",
    "\n",
    "opt = GD(config.lr)\n",
    "loss = MSE()"
   ]
  },
  {
   "cell_type": "code",
   "execution_count": 17,
   "metadata": {
    "execution": {
     "iopub.execute_input": "2020-09-21T00:06:44.785475Z",
     "iopub.status.busy": "2020-09-21T00:06:44.784868Z",
     "iopub.status.idle": "2020-09-21T00:06:44.796866Z",
     "shell.execute_reply": "2020-09-21T00:06:44.796251Z"
    },
    "papermill": {
     "duration": 0.044995,
     "end_time": "2020-09-21T00:06:44.796989",
     "exception": false,
     "start_time": "2020-09-21T00:06:44.751994",
     "status": "completed"
    },
    "tags": []
   },
   "outputs": [],
   "source": [
    "training_xdata = X_train\n",
    "testing_xdata = X_test\n",
    "training_ydata = y_train.reshape(-1,1)\n",
    "testing_ydata = y_test.reshape(-1,1)"
   ]
  },
  {
   "cell_type": "markdown",
   "metadata": {
    "papermill": {
     "duration": 0.034586,
     "end_time": "2020-09-21T00:06:44.869690",
     "exception": false,
     "start_time": "2020-09-21T00:06:44.835104",
     "status": "completed"
    },
    "tags": []
   },
   "source": [
    "### Running Models with the Training data\n",
    "Details about the network layers:\n",
    "- A first affine layer has 784 inputs and does 100 affine transforms. These are followed by a Relu\n",
    "- A second affine layer has 100 inputs from the 100 activations of the past layer, and does 100 affine transforms. These are followed by a Relu\n",
    "- A third affine layer has 100 activations and does 2 affine transformations to create an embedding for visualization. There is no non-linearity here.\n",
    "- A final \"logistic regression\" which has an affine transform from 2 inputs to 1 output, which is squeezed through a sigmoid.\n",
    "\n",
    "Help taken from Anshuman's Notebook."
   ]
  },
  {
   "cell_type": "code",
   "execution_count": 18,
   "metadata": {
    "execution": {
     "iopub.execute_input": "2020-09-21T00:06:44.934527Z",
     "iopub.status.busy": "2020-09-21T00:06:44.933922Z",
     "iopub.status.idle": "2020-09-21T00:06:44.950832Z",
     "shell.execute_reply": "2020-09-21T00:06:44.950332Z"
    },
    "papermill": {
     "duration": 0.050711,
     "end_time": "2020-09-21T00:06:44.950954",
     "exception": false,
     "start_time": "2020-09-21T00:06:44.900243",
     "status": "completed"
    },
    "tags": []
   },
   "outputs": [],
   "source": [
    "# layers for the Neural Network\n",
    "layers = [Affine(\"first\", 784, 100), Relu(\"first\"), Affine(\"second\", 100, 100), Relu(\"second\"), Affine(\"third\", 100, 2), Affine(\"final\", 2, 1), Sigmoid(\"final\")]\n",
    "model_nn = Model(layers)\n",
    "\n",
    "# layers for the Logistic Regression\n",
    "layers_lr = [Affine(\"logits\", 784, 1), Sigmoid(\"sigmoid\")]\n",
    "model_lr = Model(layers_lr)"
   ]
  },
  {
   "cell_type": "code",
   "execution_count": 19,
   "metadata": {
    "execution": {
     "iopub.execute_input": "2020-09-21T00:06:45.015078Z",
     "iopub.status.busy": "2020-09-21T00:06:45.014457Z",
     "iopub.status.idle": "2020-09-21T00:06:45.027149Z",
     "shell.execute_reply": "2020-09-21T00:06:45.026694Z"
    },
    "papermill": {
     "duration": 0.045817,
     "end_time": "2020-09-21T00:06:45.027312",
     "exception": false,
     "start_time": "2020-09-21T00:06:44.981495",
     "status": "completed"
    },
    "tags": []
   },
   "outputs": [],
   "source": [
    "# suffix _nn stands for Neural Network.\n",
    "learner_nn = Learner(loss, model_nn, opt, config.num_epochs)\n",
    "acc_nn = ClfCallback(learner_nn, config.bs, training_xdata , testing_xdata, training_ydata, testing_ydata)\n",
    "learner_nn.set_callbacks([acc_nn])"
   ]
  },
  {
   "cell_type": "code",
   "execution_count": 20,
   "metadata": {
    "execution": {
     "iopub.execute_input": "2020-09-21T00:06:45.093238Z",
     "iopub.status.busy": "2020-09-21T00:06:45.092584Z",
     "iopub.status.idle": "2020-09-21T00:09:00.825136Z",
     "shell.execute_reply": "2020-09-21T00:09:00.826085Z"
    },
    "papermill": {
     "duration": 135.769418,
     "end_time": "2020-09-21T00:09:00.826275",
     "exception": false,
     "start_time": "2020-09-21T00:06:45.056857",
     "status": "completed"
    },
    "tags": []
   },
   "outputs": [
    {
     "name": "stdout",
     "output_type": "stream",
     "text": [
      "====== Neural Network ======\n"
     ]
    },
    {
     "name": "stdout",
     "output_type": "stream",
     "text": [
      "Epoch 0, Loss 0.2397\n",
      "Training Accuracy: 0.5804, Testing Accuracy: 0.5806\n",
      "\n"
     ]
    },
    {
     "name": "stdout",
     "output_type": "stream",
     "text": [
      "Epoch 10, Loss 0.1427\n",
      "Training Accuracy: 0.8912, Testing Accuracy: 0.9042\n",
      "\n"
     ]
    },
    {
     "name": "stdout",
     "output_type": "stream",
     "text": [
      "Epoch 20, Loss 0.0734\n",
      "Training Accuracy: 0.9269, Testing Accuracy: 0.9395\n",
      "\n"
     ]
    },
    {
     "name": "stdout",
     "output_type": "stream",
     "text": [
      "Epoch 30, Loss 0.0524\n",
      "Training Accuracy: 0.9442, Testing Accuracy: 0.9531\n",
      "\n"
     ]
    },
    {
     "name": "stdout",
     "output_type": "stream",
     "text": [
      "Epoch 40, Loss 0.0433\n",
      "Training Accuracy: 0.9528, Testing Accuracy: 0.9597\n",
      "\n"
     ]
    },
    {
     "name": "stdout",
     "output_type": "stream",
     "text": [
      "Epoch 50, Loss 0.0383\n",
      "Training Accuracy: 0.9565, Testing Accuracy: 0.9647\n",
      "\n"
     ]
    },
    {
     "name": "stdout",
     "output_type": "stream",
     "text": [
      "Epoch 60, Loss 0.0352\n",
      "Training Accuracy: 0.9595, Testing Accuracy: 0.9677\n",
      "\n"
     ]
    },
    {
     "name": "stdout",
     "output_type": "stream",
     "text": [
      "Epoch 70, Loss 0.0329\n",
      "Training Accuracy: 0.9624, Testing Accuracy: 0.9708\n",
      "\n"
     ]
    },
    {
     "name": "stdout",
     "output_type": "stream",
     "text": [
      "Epoch 80, Loss 0.0311\n",
      "Training Accuracy: 0.9639, Testing Accuracy: 0.9703\n",
      "\n"
     ]
    },
    {
     "name": "stdout",
     "output_type": "stream",
     "text": [
      "Epoch 90, Loss 0.0297\n",
      "Training Accuracy: 0.9656, Testing Accuracy: 0.9708\n",
      "\n"
     ]
    },
    {
     "name": "stdout",
     "output_type": "stream",
     "text": [
      "Epoch 100, Loss 0.0285\n",
      "Training Accuracy: 0.9670, Testing Accuracy: 0.9718\n",
      "\n"
     ]
    },
    {
     "name": "stdout",
     "output_type": "stream",
     "text": [
      "Epoch 110, Loss 0.0275\n",
      "Training Accuracy: 0.9682, Testing Accuracy: 0.9718\n",
      "\n"
     ]
    },
    {
     "name": "stdout",
     "output_type": "stream",
     "text": [
      "Epoch 120, Loss 0.0266\n",
      "Training Accuracy: 0.9694, Testing Accuracy: 0.9713\n",
      "\n"
     ]
    },
    {
     "name": "stdout",
     "output_type": "stream",
     "text": [
      "Epoch 130, Loss 0.0258\n",
      "Training Accuracy: 0.9700, Testing Accuracy: 0.9718\n",
      "\n"
     ]
    },
    {
     "name": "stdout",
     "output_type": "stream",
     "text": [
      "Epoch 140, Loss 0.025\n",
      "Training Accuracy: 0.9711, Testing Accuracy: 0.9723\n",
      "\n"
     ]
    },
    {
     "name": "stdout",
     "output_type": "stream",
     "text": [
      "Epoch 150, Loss 0.0244\n",
      "Training Accuracy: 0.9715, Testing Accuracy: 0.9728\n",
      "\n"
     ]
    },
    {
     "name": "stdout",
     "output_type": "stream",
     "text": [
      "Epoch 160, Loss 0.0237\n",
      "Training Accuracy: 0.9723, Testing Accuracy: 0.9733\n",
      "\n"
     ]
    },
    {
     "name": "stdout",
     "output_type": "stream",
     "text": [
      "Epoch 170, Loss 0.0232\n",
      "Training Accuracy: 0.9730, Testing Accuracy: 0.9738\n",
      "\n"
     ]
    },
    {
     "name": "stdout",
     "output_type": "stream",
     "text": [
      "Epoch 180, Loss 0.0226\n",
      "Training Accuracy: 0.9739, Testing Accuracy: 0.9738\n",
      "\n"
     ]
    },
    {
     "name": "stdout",
     "output_type": "stream",
     "text": [
      "Epoch 190, Loss 0.0221\n",
      "Training Accuracy: 0.9745, Testing Accuracy: 0.9733\n",
      "\n"
     ]
    },
    {
     "name": "stdout",
     "output_type": "stream",
     "text": [
      "Epoch 200, Loss 0.0216\n",
      "Training Accuracy: 0.9750, Testing Accuracy: 0.9733\n",
      "\n"
     ]
    },
    {
     "name": "stdout",
     "output_type": "stream",
     "text": [
      "Epoch 210, Loss 0.0212\n",
      "Training Accuracy: 0.9760, Testing Accuracy: 0.9743\n",
      "\n"
     ]
    },
    {
     "name": "stdout",
     "output_type": "stream",
     "text": [
      "Epoch 220, Loss 0.0207\n",
      "Training Accuracy: 0.9763, Testing Accuracy: 0.9748\n",
      "\n"
     ]
    },
    {
     "name": "stdout",
     "output_type": "stream",
     "text": [
      "Epoch 230, Loss 0.0203\n",
      "Training Accuracy: 0.9766, Testing Accuracy: 0.9748\n",
      "\n"
     ]
    },
    {
     "name": "stdout",
     "output_type": "stream",
     "text": [
      "Epoch 240, Loss 0.0199\n",
      "Training Accuracy: 0.9774, Testing Accuracy: 0.9748\n",
      "\n"
     ]
    },
    {
     "name": "stdout",
     "output_type": "stream",
     "text": [
      "Epoch 250, Loss 0.0195\n",
      "Training Accuracy: 0.9778, Testing Accuracy: 0.9743\n",
      "\n"
     ]
    },
    {
     "data": {
      "text/plain": [
       "0.009285686778917774"
      ]
     },
     "execution_count": 20,
     "metadata": {},
     "output_type": "execute_result"
    }
   ],
   "source": [
    "print(\"====== Neural Network ======\")\n",
    "learner_nn.train_loop(dl)"
   ]
  },
  {
   "cell_type": "markdown",
   "metadata": {
    "papermill": {
     "duration": 0.057124,
     "end_time": "2020-09-21T00:09:00.965553",
     "exception": false,
     "start_time": "2020-09-21T00:09:00.908429",
     "status": "completed"
    },
    "tags": []
   },
   "source": [
    "### Logistic Regression based Implementation."
   ]
  },
  {
   "cell_type": "code",
   "execution_count": 21,
   "metadata": {
    "execution": {
     "iopub.execute_input": "2020-09-21T00:09:01.065545Z",
     "iopub.status.busy": "2020-09-21T00:09:01.064849Z",
     "iopub.status.idle": "2020-09-21T00:09:01.068272Z",
     "shell.execute_reply": "2020-09-21T00:09:01.069083Z"
    },
    "papermill": {
     "duration": 0.06155,
     "end_time": "2020-09-21T00:09:01.069256",
     "exception": false,
     "start_time": "2020-09-21T00:09:01.007706",
     "status": "completed"
    },
    "tags": []
   },
   "outputs": [],
   "source": [
    "learner_lr = Learner(loss, model_lr, opt, config.num_epochs)\n",
    "acc_lr = ClfCallback(learner_lr, config.bs, training_xdata , testing_xdata, training_ydata, testing_ydata)\n",
    "learner_lr.set_callbacks([acc_lr])"
   ]
  },
  {
   "cell_type": "code",
   "execution_count": 22,
   "metadata": {
    "execution": {
     "iopub.execute_input": "2020-09-21T00:09:01.173661Z",
     "iopub.status.busy": "2020-09-21T00:09:01.172930Z",
     "iopub.status.idle": "2020-09-21T00:09:20.870085Z",
     "shell.execute_reply": "2020-09-21T00:09:20.871052Z"
    },
    "papermill": {
     "duration": 19.756815,
     "end_time": "2020-09-21T00:09:20.871223",
     "exception": false,
     "start_time": "2020-09-21T00:09:01.114408",
     "status": "completed"
    },
    "tags": []
   },
   "outputs": [
    {
     "name": "stdout",
     "output_type": "stream",
     "text": [
      "====== Logistic Regression ======\n",
      "Epoch 0, Loss 0.2483\n",
      "Training Accuracy: 0.6695, Testing Accuracy: 0.6804\n",
      "\n"
     ]
    },
    {
     "name": "stdout",
     "output_type": "stream",
     "text": [
      "Epoch 10, Loss 0.1024\n",
      "Training Accuracy: 0.9142, Testing Accuracy: 0.9244\n",
      "\n"
     ]
    },
    {
     "name": "stdout",
     "output_type": "stream",
     "text": [
      "Epoch 20, Loss 0.0783\n",
      "Training Accuracy: 0.9311, Testing Accuracy: 0.9441\n",
      "\n"
     ]
    },
    {
     "name": "stdout",
     "output_type": "stream",
     "text": [
      "Epoch 30, Loss 0.0674\n",
      "Training Accuracy: 0.9379, Testing Accuracy: 0.9516\n",
      "\n"
     ]
    },
    {
     "name": "stdout",
     "output_type": "stream",
     "text": [
      "Epoch 40, Loss 0.0609\n",
      "Training Accuracy: 0.9427, Testing Accuracy: 0.9536\n",
      "\n"
     ]
    },
    {
     "name": "stdout",
     "output_type": "stream",
     "text": [
      "Epoch 50, Loss 0.0565\n",
      "Training Accuracy: 0.9462, Testing Accuracy: 0.9561\n",
      "\n"
     ]
    },
    {
     "name": "stdout",
     "output_type": "stream",
     "text": [
      "Epoch 60, Loss 0.0533\n",
      "Training Accuracy: 0.9478, Testing Accuracy: 0.9592\n",
      "\n"
     ]
    },
    {
     "name": "stdout",
     "output_type": "stream",
     "text": [
      "Epoch 70, Loss 0.0508\n",
      "Training Accuracy: 0.9510, Testing Accuracy: 0.9612\n",
      "\n"
     ]
    },
    {
     "name": "stdout",
     "output_type": "stream",
     "text": [
      "Epoch 80, Loss 0.0488\n",
      "Training Accuracy: 0.9516, Testing Accuracy: 0.9627\n",
      "\n"
     ]
    },
    {
     "name": "stdout",
     "output_type": "stream",
     "text": [
      "Epoch 90, Loss 0.0472\n",
      "Training Accuracy: 0.9529, Testing Accuracy: 0.9652\n",
      "\n"
     ]
    },
    {
     "name": "stdout",
     "output_type": "stream",
     "text": [
      "Epoch 100, Loss 0.0458\n",
      "Training Accuracy: 0.9538, Testing Accuracy: 0.9662\n",
      "\n"
     ]
    },
    {
     "name": "stdout",
     "output_type": "stream",
     "text": [
      "Epoch 110, Loss 0.0446\n",
      "Training Accuracy: 0.9543, Testing Accuracy: 0.9677\n",
      "\n"
     ]
    },
    {
     "name": "stdout",
     "output_type": "stream",
     "text": [
      "Epoch 120, Loss 0.0436\n",
      "Training Accuracy: 0.9556, Testing Accuracy: 0.9677\n",
      "\n"
     ]
    },
    {
     "name": "stdout",
     "output_type": "stream",
     "text": [
      "Epoch 130, Loss 0.0426\n",
      "Training Accuracy: 0.9562, Testing Accuracy: 0.9672\n",
      "\n"
     ]
    },
    {
     "name": "stdout",
     "output_type": "stream",
     "text": [
      "Epoch 140, Loss 0.0418\n",
      "Training Accuracy: 0.9570, Testing Accuracy: 0.9672\n",
      "\n"
     ]
    },
    {
     "name": "stdout",
     "output_type": "stream",
     "text": [
      "Epoch 150, Loss 0.0411\n",
      "Training Accuracy: 0.9577, Testing Accuracy: 0.9677\n",
      "\n"
     ]
    },
    {
     "name": "stdout",
     "output_type": "stream",
     "text": [
      "Epoch 160, Loss 0.0405\n",
      "Training Accuracy: 0.9583, Testing Accuracy: 0.9677\n",
      "\n"
     ]
    },
    {
     "name": "stdout",
     "output_type": "stream",
     "text": [
      "Epoch 170, Loss 0.0399\n",
      "Training Accuracy: 0.9588, Testing Accuracy: 0.9677\n",
      "\n"
     ]
    },
    {
     "name": "stdout",
     "output_type": "stream",
     "text": [
      "Epoch 180, Loss 0.0393\n",
      "Training Accuracy: 0.9594, Testing Accuracy: 0.9672\n",
      "\n"
     ]
    },
    {
     "name": "stdout",
     "output_type": "stream",
     "text": [
      "Epoch 190, Loss 0.0388\n",
      "Training Accuracy: 0.9600, Testing Accuracy: 0.9677\n",
      "\n"
     ]
    },
    {
     "name": "stdout",
     "output_type": "stream",
     "text": [
      "Epoch 200, Loss 0.0383\n",
      "Training Accuracy: 0.9603, Testing Accuracy: 0.9682\n",
      "\n"
     ]
    },
    {
     "name": "stdout",
     "output_type": "stream",
     "text": [
      "Epoch 210, Loss 0.0379\n",
      "Training Accuracy: 0.9609, Testing Accuracy: 0.9682\n",
      "\n"
     ]
    },
    {
     "name": "stdout",
     "output_type": "stream",
     "text": [
      "Epoch 220, Loss 0.0375\n",
      "Training Accuracy: 0.9612, Testing Accuracy: 0.9688\n",
      "\n"
     ]
    },
    {
     "name": "stdout",
     "output_type": "stream",
     "text": [
      "Epoch 230, Loss 0.0371\n",
      "Training Accuracy: 0.9614, Testing Accuracy: 0.9688\n",
      "\n"
     ]
    },
    {
     "name": "stdout",
     "output_type": "stream",
     "text": [
      "Epoch 240, Loss 0.0368\n",
      "Training Accuracy: 0.9617, Testing Accuracy: 0.9688\n",
      "\n"
     ]
    },
    {
     "name": "stdout",
     "output_type": "stream",
     "text": [
      "Epoch 250, Loss 0.0364\n",
      "Training Accuracy: 0.9619, Testing Accuracy: 0.9693\n",
      "\n"
     ]
    },
    {
     "data": {
      "text/plain": [
       "0.04528597333556769"
      ]
     },
     "execution_count": 22,
     "metadata": {},
     "output_type": "execute_result"
    }
   ],
   "source": [
    "print(\"====== Logistic Regression ======\")\n",
    "learner_lr.train_loop(dl)"
   ]
  },
  {
   "cell_type": "markdown",
   "metadata": {
    "papermill": {
     "duration": 0.051458,
     "end_time": "2020-09-21T00:09:20.974660",
     "exception": false,
     "start_time": "2020-09-21T00:09:20.923202",
     "status": "completed"
    },
    "tags": []
   },
   "source": [
    "### Comparing results of NN and LR"
   ]
  },
  {
   "cell_type": "code",
   "execution_count": 23,
   "metadata": {
    "execution": {
     "iopub.execute_input": "2020-09-21T00:09:21.085486Z",
     "iopub.status.busy": "2020-09-21T00:09:21.084781Z",
     "iopub.status.idle": "2020-09-21T00:09:21.363032Z",
     "shell.execute_reply": "2020-09-21T00:09:21.362482Z"
    },
    "papermill": {
     "duration": 0.338686,
     "end_time": "2020-09-21T00:09:21.363175",
     "exception": false,
     "start_time": "2020-09-21T00:09:21.024489",
     "status": "completed"
    },
    "tags": []
   },
   "outputs": [
    {
     "data": {
      "text/plain": [
       "<matplotlib.legend.Legend at 0x7f8d1267b240>"
      ]
     },
     "execution_count": 23,
     "metadata": {},
     "output_type": "execute_result"
    },
    {
     "data": {
      "image/png": "[encoded data removed]",
      "text/plain": [
       "<Figure size 1080x720 with 1 Axes>"
      ]
     },
     "metadata": {
      "needs_background": "light"
     },
     "output_type": "display_data"
    }
   ],
   "source": [
    "plt.figure(figsize=(15,10))\n",
    "\n",
    "# Neural Network plots\n",
    "plt.plot(acc_nn.accuracies, 'r-', label = \"Training Accuracies - NN\")\n",
    "plt.plot(acc_nn.test_accuracies, 'g-', label = \"Testing Accuracies - NN\")\n",
    "\n",
    "# Logistic Regression plots\n",
    "plt.plot(acc_lr.accuracies, 'k-', label = \"Training Accuracies - LR\")\n",
    "plt.plot(acc_lr.test_accuracies, 'b-', label = \"Testing Accuracies - LR\")\n",
    "\n",
    "plt.ylim(0.8, 1)\n",
    "\n",
    "plt.legend()\n",
    "\n"
   ]
  },
  {
   "cell_type": "markdown",
   "metadata": {
    "papermill": {
     "duration": 0.053088,
     "end_time": "2020-09-21T00:09:21.468111",
     "exception": false,
     "start_time": "2020-09-21T00:09:21.415023",
     "status": "completed"
    },
    "tags": []
   },
   "source": [
    "### From the plot, we can observe the following:\n",
    "- Neural Network achieves higher accuracy than the Logistic Regression model.\n",
    "- This apparently, is because of overfitting, i.e. NN captures more noise than data.\n",
    "- Testing accuracy of NN drops below the Training accuracy at higher epochs. This explains the over-fitting on training data.\n",
    "- Logistic Regression gives a reliable accuracy, without the above mentioned problem.\n"
   ]
  },
  {
   "cell_type": "markdown",
   "metadata": {
    "papermill": {
     "duration": 0.050669,
     "end_time": "2020-09-21T00:09:21.569790",
     "exception": false,
     "start_time": "2020-09-21T00:09:21.519121",
     "status": "completed"
    },
    "tags": []
   },
   "source": [
    "### Moving till the last but one layer (excluding it).\n",
    "#### Plotting the outputs of this layer of the NN."
   ]
  },
  {
   "cell_type": "code",
   "execution_count": 24,
   "metadata": {
    "execution": {
     "iopub.execute_input": "2020-09-21T00:09:21.682382Z",
     "iopub.status.busy": "2020-09-21T00:09:21.680985Z",
     "iopub.status.idle": "2020-09-21T00:09:21.694087Z",
     "shell.execute_reply": "2020-09-21T00:09:21.694933Z"
    },
    "papermill": {
     "duration": 0.073483,
     "end_time": "2020-09-21T00:09:21.695109",
     "exception": false,
     "start_time": "2020-09-21T00:09:21.621626",
     "status": "completed"
    },
    "tags": []
   },
   "outputs": [],
   "source": [
    "model_new = Model(layers[:-2])"
   ]
  },
  {
   "cell_type": "code",
   "execution_count": 25,
   "metadata": {
    "execution": {
     "iopub.execute_input": "2020-09-21T00:09:21.804115Z",
     "iopub.status.busy": "2020-09-21T00:09:21.803379Z",
     "iopub.status.idle": "2020-09-21T00:09:21.830639Z",
     "shell.execute_reply": "2020-09-21T00:09:21.831164Z"
    },
    "papermill": {
     "duration": 0.083139,
     "end_time": "2020-09-21T00:09:21.831328",
     "exception": false,
     "start_time": "2020-09-21T00:09:21.748189",
     "status": "completed"
    },
    "tags": []
   },
   "outputs": [],
   "source": [
    "plot_testing = model_new(testing_xdata)"
   ]
  },
  {
   "cell_type": "code",
   "execution_count": 26,
   "metadata": {
    "execution": {
     "iopub.execute_input": "2020-09-21T00:09:21.942772Z",
     "iopub.status.busy": "2020-09-21T00:09:21.942054Z",
     "iopub.status.idle": "2020-09-21T00:09:22.195481Z",
     "shell.execute_reply": "2020-09-21T00:09:22.194845Z"
    },
    "papermill": {
     "duration": 0.310629,
     "end_time": "2020-09-21T00:09:22.195640",
     "exception": false,
     "start_time": "2020-09-21T00:09:21.885011",
     "status": "completed"
    },
    "tags": []
   },
   "outputs": [
    {
     "data": {
      "text/plain": [
       "Text(0.5, 1.0, 'Outputs')"
      ]
     },
     "execution_count": 26,
     "metadata": {},
     "output_type": "execute_result"
    },
    {
     "data": {
      "image/png": "[encoded data removed]",
      "text/plain": [
       "<Figure size 576x504 with 1 Axes>"
      ]
     },
     "metadata": {
      "needs_background": "light"
     },
     "output_type": "display_data"
    }
   ],
   "source": [
    "plt.figure(figsize=(8,7))\n",
    "plt.scatter(plot_testing[:,0], plot_testing[:,1], alpha = 0.1, c = y_test.ravel());\n",
    "plt.title('Outputs')"
   ]
  },
  {
   "cell_type": "markdown",
   "metadata": {
    "papermill": {
     "duration": 0.053326,
     "end_time": "2020-09-21T00:09:22.305190",
     "exception": false,
     "start_time": "2020-09-21T00:09:22.251864",
     "status": "completed"
    },
    "tags": []
   },
   "source": [
    "### Plotting probability contours"
   ]
  },
  {
   "cell_type": "code",
   "execution_count": 27,
   "metadata": {
    "execution": {
     "iopub.execute_input": "2020-09-21T00:09:22.419280Z",
     "iopub.status.busy": "2020-09-21T00:09:22.418586Z",
     "iopub.status.idle": "2020-09-21T00:09:22.432943Z",
     "shell.execute_reply": "2020-09-21T00:09:22.433497Z"
    },
    "papermill": {
     "duration": 0.074289,
     "end_time": "2020-09-21T00:09:22.433672",
     "exception": false,
     "start_time": "2020-09-21T00:09:22.359383",
     "status": "completed"
    },
    "tags": []
   },
   "outputs": [],
   "source": [
    "model_prob = Model(layers[-2:]) "
   ]
  },
  {
   "cell_type": "code",
   "execution_count": 28,
   "metadata": {
    "execution": {
     "iopub.execute_input": "2020-09-21T00:09:22.548564Z",
     "iopub.status.busy": "2020-09-21T00:09:22.547860Z",
     "iopub.status.idle": "2020-09-21T00:09:22.564409Z",
     "shell.execute_reply": "2020-09-21T00:09:22.563844Z"
    },
    "papermill": {
     "duration": 0.07609,
     "end_time": "2020-09-21T00:09:22.564571",
     "exception": false,
     "start_time": "2020-09-21T00:09:22.488481",
     "status": "completed"
    },
    "tags": []
   },
   "outputs": [],
   "source": [
    "# Adjust the x and y ranges according to the above generated plot.\n",
    "x_range = np.linspace(-4, 1, 100) \n",
    "y_range = np.linspace(-6, 6, 100) \n",
    "x_grid, y_grid = np.meshgrid(x_range, y_range) # x_grid and y_grig are of size 100 X 100\n",
    "\n",
    "# converting x_grid and y_grid to continuous arrays\n",
    "x_grid_flat = np.ravel(x_grid)\n",
    "y_grid_flat = np.ravel(y_grid)\n",
    "\n",
    "# The last layer of the current model takes two columns as input. Hence transpose of np.vstack() is required.\n",
    "X = np.vstack((x_grid_flat, y_grid_flat)).T\n",
    "\n",
    "# x_grid and y_grid are of size 100 x 100\n",
    "probability_contour = model_prob(X).reshape(100,100) "
   ]
  },
  {
   "cell_type": "code",
   "execution_count": 29,
   "metadata": {
    "execution": {
     "iopub.execute_input": "2020-09-21T00:09:22.680397Z",
     "iopub.status.busy": "2020-09-21T00:09:22.679480Z",
     "iopub.status.idle": "2020-09-21T00:09:22.980802Z",
     "shell.execute_reply": "2020-09-21T00:09:22.981364Z"
    },
    "papermill": {
     "duration": 0.362085,
     "end_time": "2020-09-21T00:09:22.981528",
     "exception": false,
     "start_time": "2020-09-21T00:09:22.619443",
     "status": "completed"
    },
    "tags": []
   },
   "outputs": [
    {
     "data": {
      "image/png": "[encoded data removed]",
      "text/plain": [
       "<Figure size 720x648 with 1 Axes>"
      ]
     },
     "metadata": {
      "needs_background": "light"
     },
     "output_type": "display_data"
    }
   ],
   "source": [
    "plt.figure(figsize=(10,9))\n",
    "plt.scatter(plot_testing[:,0], plot_testing[:,1], alpha = 0.1, c = y_test.ravel())\n",
    "contours = plt.contour(x_grid,y_grid,probability_contour)\n",
    "plt.title('Probability Contours')\n",
    "plt.clabel(contours, inline = True );"
   ]
  }
 ],
 "metadata": {
  "kernelspec": {
   "display_name": "Python 3",
   "language": "python",
   "name": "python3"
  },
  "language_info": {
   "codemirror_mode": {
    "name": "ipython",
    "version": 3
   },
   "file_extension": ".py",
   "mimetype": "text/x-python",
   "name": "python",
   "nbconvert_exporter": "python",
   "pygments_lexer": "ipython3",
   "version": "3.6.12"
  },
  "papermill": {
   "duration": 166.418347,
   "end_time": "2020-09-21T00:09:24.299538",
   "environment_variables": {},
   "exception": null,
   "input_path": "2020-08-11-NeuralNetwork.ipynb",
   "output_path": "2020-08-11-NeuralNetwork.ipynb",
   "parameters": {},
   "start_time": "2020-09-21T00:06:37.881191",
   "version": "2.1.2"
  }
 },
 "nbformat": 4,
 "nbformat_minor": 4
}