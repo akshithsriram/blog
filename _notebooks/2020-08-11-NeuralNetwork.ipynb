{
 "cells": [
  {
   "cell_type": "markdown",
   "id": "fitted-suggestion",
   "metadata": {
    "papermill": {
     "duration": 0.066923,
     "end_time": "2021-02-20T20:04:22.715820",
     "exception": false,
     "start_time": "2021-02-20T20:04:22.648897",
     "status": "completed"
    },
    "tags": []
   },
   "source": [
    "# \"A Basic Neural Network: Differentiate Hand-Written Digits\"\n",
    "\n",
    "- badges: true\n",
    "- author: Akshith Sriram"
   ]
  },
  {
   "cell_type": "markdown",
   "id": "signal-flexibility",
   "metadata": {
    "papermill": {
     "duration": 0.032159,
     "end_time": "2021-02-20T20:04:22.790451",
     "exception": false,
     "start_time": "2021-02-20T20:04:22.758292",
     "status": "completed"
    },
    "tags": []
   },
   "source": [
    "### Key Objectives:\n",
    "- Building a neural network that differentiates two hand-written digits 3 and 8.\n",
    "- Comparing the results of this Neural Network (NN) to that of a Logistic Regression (LR) model.\n",
    "\n",
    "### Requirements:\n",
    "- 'Kudzu' : A neural network library that was designed during our course by [Univ.AI](www.univ.ai). \n",
    "- MNIST Database\n",
    "\n",
    "If MNIST is not installed, use the command `!pip install mnist` given below.\n",
    "It can be run both from the command line and Jupyter Notebook."
   ]
  },
  {
   "cell_type": "code",
   "execution_count": 1,
   "id": "british-texture",
   "metadata": {
    "execution": {
     "iopub.execute_input": "2021-02-20T20:04:22.868126Z",
     "iopub.status.busy": "2021-02-20T20:04:22.867423Z",
     "iopub.status.idle": "2021-02-20T20:04:24.782170Z",
     "shell.execute_reply": "2021-02-20T20:04:24.781092Z"
    },
    "papermill": {
     "duration": 1.959529,
     "end_time": "2021-02-20T20:04:24.782347",
     "exception": false,
     "start_time": "2021-02-20T20:04:22.822818",
     "status": "completed"
    },
    "tags": []
   },
   "outputs": [
    {
     "name": "stdout",
     "output_type": "stream",
     "text": [
      "Collecting mnist\r\n"
     ]
    },
    {
     "name": "stdout",
     "output_type": "stream",
     "text": [
      "  Downloading mnist-0.2.2-py2.py3-none-any.whl (3.5 kB)\r\n",
      "Requirement already satisfied: numpy in /opt/hostedtoolcache/Python/3.6.12/x64/lib/python3.6/site-packages (from mnist) (1.19.5)\r\n"
     ]
    },
    {
     "name": "stdout",
     "output_type": "stream",
     "text": [
      "Installing collected packages: mnist\r\n"
     ]
    },
    {
     "name": "stdout",
     "output_type": "stream",
     "text": [
      "Successfully installed mnist-0.2.2\r\n"
     ]
    }
   ],
   "source": [
    "!pip install mnist "
   ]
  },
  {
   "cell_type": "markdown",
   "id": "stunning-extra",
   "metadata": {
    "papermill": {
     "duration": 0.033898,
     "end_time": "2021-02-20T20:04:24.853283",
     "exception": false,
     "start_time": "2021-02-20T20:04:24.819385",
     "status": "completed"
    },
    "tags": []
   },
   "source": [
    "#### Importing necessary libraries"
   ]
  },
  {
   "cell_type": "code",
   "execution_count": 2,
   "id": "wooden-france",
   "metadata": {
    "execution": {
     "iopub.execute_input": "2021-02-20T20:04:24.929985Z",
     "iopub.status.busy": "2021-02-20T20:04:24.929299Z",
     "iopub.status.idle": "2021-02-20T20:04:25.625884Z",
     "shell.execute_reply": "2021-02-20T20:04:25.624989Z"
    },
    "papermill": {
     "duration": 0.738893,
     "end_time": "2021-02-20T20:04:25.626032",
     "exception": false,
     "start_time": "2021-02-20T20:04:24.887139",
     "status": "completed"
    },
    "tags": []
   },
   "outputs": [],
   "source": [
    "%load_ext autoreload\n",
    "%autoreload 2\n",
    "\n",
    "%matplotlib inline\n",
    "import matplotlib.pyplot as plt\n",
    "\n",
    "import numpy as np\n",
    "import pandas as pd"
   ]
  },
  {
   "cell_type": "markdown",
   "id": "stunning-physics",
   "metadata": {
    "papermill": {
     "duration": 0.039369,
     "end_time": "2021-02-20T20:04:25.701568",
     "exception": false,
     "start_time": "2021-02-20T20:04:25.662199",
     "status": "completed"
    },
    "tags": []
   },
   "source": [
    "### Preparing the Data"
   ]
  },
  {
   "cell_type": "code",
   "execution_count": 3,
   "id": "unauthorized-remainder",
   "metadata": {
    "execution": {
     "iopub.execute_input": "2021-02-20T20:04:25.787441Z",
     "iopub.status.busy": "2021-02-20T20:04:25.786535Z",
     "iopub.status.idle": "2021-02-20T20:04:25.799153Z",
     "shell.execute_reply": "2021-02-20T20:04:25.799731Z"
    },
    "papermill": {
     "duration": 0.056576,
     "end_time": "2021-02-20T20:04:25.799902",
     "exception": false,
     "start_time": "2021-02-20T20:04:25.743326",
     "status": "completed"
    },
    "tags": []
   },
   "outputs": [],
   "source": [
    "import mnist"
   ]
  },
  {
   "cell_type": "code",
   "execution_count": 4,
   "id": "correct-antarctica",
   "metadata": {
    "execution": {
     "iopub.execute_input": "2021-02-20T20:04:25.883504Z",
     "iopub.status.busy": "2021-02-20T20:04:25.882792Z",
     "iopub.status.idle": "2021-02-20T20:04:26.725250Z",
     "shell.execute_reply": "2021-02-20T20:04:26.725796Z"
    },
    "papermill": {
     "duration": 0.88461,
     "end_time": "2021-02-20T20:04:26.725971",
     "exception": false,
     "start_time": "2021-02-20T20:04:25.841361",
     "status": "completed"
    },
    "tags": []
   },
   "outputs": [],
   "source": [
    "train_images = mnist.train_images()\n",
    "train_labels = mnist.train_labels()"
   ]
  },
  {
   "cell_type": "code",
   "execution_count": 5,
   "id": "musical-prospect",
   "metadata": {
    "execution": {
     "iopub.execute_input": "2021-02-20T20:04:26.802114Z",
     "iopub.status.busy": "2021-02-20T20:04:26.800996Z",
     "iopub.status.idle": "2021-02-20T20:04:26.820128Z",
     "shell.execute_reply": "2021-02-20T20:04:26.820705Z"
    },
    "papermill": {
     "duration": 0.062113,
     "end_time": "2021-02-20T20:04:26.820864",
     "exception": false,
     "start_time": "2021-02-20T20:04:26.758751",
     "status": "completed"
    },
    "tags": []
   },
   "outputs": [
    {
     "data": {
      "text/plain": [
       "((60000, 28, 28), (60000,))"
      ]
     },
     "execution_count": 5,
     "metadata": {},
     "output_type": "execute_result"
    }
   ],
   "source": [
    "train_images.shape, train_labels.shape"
   ]
  },
  {
   "cell_type": "code",
   "execution_count": 6,
   "id": "preliminary-elizabeth",
   "metadata": {
    "execution": {
     "iopub.execute_input": "2021-02-20T20:04:26.898559Z",
     "iopub.status.busy": "2021-02-20T20:04:26.897872Z",
     "iopub.status.idle": "2021-02-20T20:04:27.178123Z",
     "shell.execute_reply": "2021-02-20T20:04:27.177465Z"
    },
    "papermill": {
     "duration": 0.320485,
     "end_time": "2021-02-20T20:04:27.178260",
     "exception": false,
     "start_time": "2021-02-20T20:04:26.857775",
     "status": "completed"
    },
    "tags": []
   },
   "outputs": [],
   "source": [
    "test_images = mnist.test_images()\n",
    "test_labels = mnist.test_labels()"
   ]
  },
  {
   "cell_type": "code",
   "execution_count": 7,
   "id": "acknowledged-oxygen",
   "metadata": {
    "execution": {
     "iopub.execute_input": "2021-02-20T20:04:27.252953Z",
     "iopub.status.busy": "2021-02-20T20:04:27.251911Z",
     "iopub.status.idle": "2021-02-20T20:04:27.274301Z",
     "shell.execute_reply": "2021-02-20T20:04:27.274918Z"
    },
    "papermill": {
     "duration": 0.063141,
     "end_time": "2021-02-20T20:04:27.275125",
     "exception": false,
     "start_time": "2021-02-20T20:04:27.211984",
     "status": "completed"
    },
    "tags": []
   },
   "outputs": [
    {
     "data": {
      "text/plain": [
       "((10000, 28, 28), (10000,))"
      ]
     },
     "execution_count": 7,
     "metadata": {},
     "output_type": "execute_result"
    }
   ],
   "source": [
    "test_images.shape, test_labels.shape"
   ]
  },
  {
   "cell_type": "code",
   "execution_count": 8,
   "id": "innovative-organic",
   "metadata": {
    "execution": {
     "iopub.execute_input": "2021-02-20T20:04:27.362361Z",
     "iopub.status.busy": "2021-02-20T20:04:27.361632Z",
     "iopub.status.idle": "2021-02-20T20:04:27.568180Z",
     "shell.execute_reply": "2021-02-20T20:04:27.567595Z"
    },
    "papermill": {
     "duration": 0.253995,
     "end_time": "2021-02-20T20:04:27.568332",
     "exception": false,
     "start_time": "2021-02-20T20:04:27.314337",
     "status": "completed"
    },
    "tags": []
   },
   "outputs": [
    {
     "name": "stdout",
     "output_type": "stream",
     "text": [
      "2\n"
     ]
    },
    {
     "data": {
      "text/plain": [
       "<matplotlib.image.AxesImage at 0x7f1c010b14a8>"
      ]
     },
     "execution_count": 8,
     "metadata": {},
     "output_type": "execute_result"
    },
    {
     "data": {
      "image/png": "[encoded data removed]",
      "text/plain": [
       "<Figure size 432x288 with 1 Axes>"
      ]
     },
     "metadata": {
      "needs_background": "light"
     },
     "output_type": "display_data"
    }
   ],
   "source": [
    "image_index = 7776 # You may select anything up to 60,000\n",
    "print(train_labels[image_index]) \n",
    "plt.imshow(train_images[image_index], cmap='Greys')"
   ]
  },
  {
   "cell_type": "markdown",
   "id": "facial-modem",
   "metadata": {
    "papermill": {
     "duration": 0.036941,
     "end_time": "2021-02-20T20:04:27.644308",
     "exception": false,
     "start_time": "2021-02-20T20:04:27.607367",
     "status": "completed"
    },
    "tags": []
   },
   "source": [
    "## Filter data to get 3 and 8 out"
   ]
  },
  {
   "cell_type": "code",
   "execution_count": 9,
   "id": "thousand-acquisition",
   "metadata": {
    "execution": {
     "iopub.execute_input": "2021-02-20T20:04:28.272524Z",
     "iopub.status.busy": "2021-02-20T20:04:28.271077Z",
     "iopub.status.idle": "2021-02-20T20:04:28.289058Z",
     "shell.execute_reply": "2021-02-20T20:04:28.288467Z"
    },
    "papermill": {
     "duration": 0.116026,
     "end_time": "2021-02-20T20:04:28.289212",
     "exception": false,
     "start_time": "2021-02-20T20:04:28.173186",
     "status": "completed"
    },
    "tags": []
   },
   "outputs": [],
   "source": [
    "train_filter = np.where((train_labels == 3 ) | (train_labels == 8))\n",
    "test_filter = np.where((test_labels == 3) | (test_labels == 8))\n",
    "X_train, y_train = train_images[train_filter], train_labels[train_filter]\n",
    "X_test, y_test = test_images[test_filter], test_labels[test_filter]"
   ]
  },
  {
   "cell_type": "markdown",
   "id": "ruled-access",
   "metadata": {
    "papermill": {
     "duration": 0.039611,
     "end_time": "2021-02-20T20:04:28.384774",
     "exception": false,
     "start_time": "2021-02-20T20:04:28.345163",
     "status": "completed"
    },
    "tags": []
   },
   "source": [
    "We normalize the pixel values in the 0 to 1 range"
   ]
  },
  {
   "cell_type": "code",
   "execution_count": 10,
   "id": "isolated-denver",
   "metadata": {
    "execution": {
     "iopub.execute_input": "2021-02-20T20:04:28.463036Z",
     "iopub.status.busy": "2021-02-20T20:04:28.462313Z",
     "iopub.status.idle": "2021-02-20T20:04:28.525255Z",
     "shell.execute_reply": "2021-02-20T20:04:28.524638Z"
    },
    "papermill": {
     "duration": 0.105568,
     "end_time": "2021-02-20T20:04:28.525430",
     "exception": false,
     "start_time": "2021-02-20T20:04:28.419862",
     "status": "completed"
    },
    "tags": []
   },
   "outputs": [],
   "source": [
    "X_train = X_train/255.\n",
    "X_test = X_test/255."
   ]
  },
  {
   "cell_type": "markdown",
   "id": "perfect-summary",
   "metadata": {
    "papermill": {
     "duration": 0.036229,
     "end_time": "2021-02-20T20:04:28.597685",
     "exception": false,
     "start_time": "2021-02-20T20:04:28.561456",
     "status": "completed"
    },
    "tags": []
   },
   "source": [
    "Setup the labels as 1 (when the digit is 3) and 0 (when the digit is 8)"
   ]
  },
  {
   "cell_type": "code",
   "execution_count": 11,
   "id": "personalized-growing",
   "metadata": {
    "execution": {
     "iopub.execute_input": "2021-02-20T20:04:28.677538Z",
     "iopub.status.busy": "2021-02-20T20:04:28.676774Z",
     "iopub.status.idle": "2021-02-20T20:04:28.691115Z",
     "shell.execute_reply": "2021-02-20T20:04:28.691814Z"
    },
    "papermill": {
     "duration": 0.05734,
     "end_time": "2021-02-20T20:04:28.691976",
     "exception": false,
     "start_time": "2021-02-20T20:04:28.634636",
     "status": "completed"
    },
    "tags": []
   },
   "outputs": [],
   "source": [
    "y_train = 1*(y_train==3)\n",
    "y_test = 1*(y_test==3)"
   ]
  },
  {
   "cell_type": "code",
   "execution_count": 12,
   "id": "considered-virgin",
   "metadata": {
    "execution": {
     "iopub.execute_input": "2021-02-20T20:04:28.771127Z",
     "iopub.status.busy": "2021-02-20T20:04:28.770454Z",
     "iopub.status.idle": "2021-02-20T20:04:28.784439Z",
     "shell.execute_reply": "2021-02-20T20:04:28.784970Z"
    },
    "papermill": {
     "duration": 0.055539,
     "end_time": "2021-02-20T20:04:28.785140",
     "exception": false,
     "start_time": "2021-02-20T20:04:28.729601",
     "status": "completed"
    },
    "tags": []
   },
   "outputs": [
    {
     "data": {
      "text/plain": [
       "((11982, 28, 28), (1984, 28, 28))"
      ]
     },
     "execution_count": 12,
     "metadata": {},
     "output_type": "execute_result"
    }
   ],
   "source": [
    "X_train.shape, X_test.shape"
   ]
  },
  {
   "cell_type": "markdown",
   "id": "civilian-mobile",
   "metadata": {
    "papermill": {
     "duration": 0.041621,
     "end_time": "2021-02-20T20:04:28.864950",
     "exception": false,
     "start_time": "2021-02-20T20:04:28.823329",
     "status": "completed"
    },
    "tags": []
   },
   "source": [
    "### Reshape the input data to create a linear array"
   ]
  },
  {
   "cell_type": "code",
   "execution_count": 13,
   "id": "colonial-adams",
   "metadata": {
    "execution": {
     "iopub.execute_input": "2021-02-20T20:04:28.948438Z",
     "iopub.status.busy": "2021-02-20T20:04:28.947705Z",
     "iopub.status.idle": "2021-02-20T20:04:28.963556Z",
     "shell.execute_reply": "2021-02-20T20:04:28.962869Z"
    },
    "papermill": {
     "duration": 0.061217,
     "end_time": "2021-02-20T20:04:28.963707",
     "exception": false,
     "start_time": "2021-02-20T20:04:28.902490",
     "status": "completed"
    },
    "tags": []
   },
   "outputs": [
    {
     "data": {
      "text/plain": [
       "((11982, 784), (1984, 784))"
      ]
     },
     "execution_count": 13,
     "metadata": {},
     "output_type": "execute_result"
    }
   ],
   "source": [
    "X_train = X_train.reshape(X_train.shape[0], -1)\n",
    "X_test = X_test.reshape(X_test.shape[0], -1)\n",
    "X_train.shape, X_test.shape"
   ]
  },
  {
   "cell_type": "markdown",
   "id": "smart-details",
   "metadata": {
    "papermill": {
     "duration": 0.035843,
     "end_time": "2021-02-20T20:04:29.035128",
     "exception": false,
     "start_time": "2021-02-20T20:04:28.999285",
     "status": "completed"
    },
    "tags": []
   },
   "source": [
    "### Importing appropriate functions from 'Kudzu'"
   ]
  },
  {
   "cell_type": "code",
   "execution_count": 14,
   "id": "celtic-trial",
   "metadata": {
    "execution": {
     "iopub.execute_input": "2021-02-20T20:04:29.114896Z",
     "iopub.status.busy": "2021-02-20T20:04:29.114161Z",
     "iopub.status.idle": "2021-02-20T20:04:29.148575Z",
     "shell.execute_reply": "2021-02-20T20:04:29.147904Z"
    },
    "papermill": {
     "duration": 0.074514,
     "end_time": "2021-02-20T20:04:29.148727",
     "exception": false,
     "start_time": "2021-02-20T20:04:29.074213",
     "status": "completed"
    },
    "tags": []
   },
   "outputs": [],
   "source": [
    "from kudzu.layer import Sigmoid\n",
    "from kudzu.layer import Relu\n",
    "from kudzu.layer import Affine, Sigmoid\n",
    "\n",
    "from kudzu.model import Model\n",
    "from kudzu.train import Learner\n",
    "from kudzu.optim import GD\n",
    "from kudzu.data import Data, Dataloader, Sampler\n",
    "\n",
    "from kudzu.callbacks import AccCallback\n",
    "from kudzu.callbacks import ClfCallback\n",
    "\n",
    "from kudzu.loss import MSE"
   ]
  },
  {
   "cell_type": "markdown",
   "id": "coupled-customer",
   "metadata": {
    "papermill": {
     "duration": 0.036403,
     "end_time": "2021-02-20T20:04:29.225011",
     "exception": false,
     "start_time": "2021-02-20T20:04:29.188608",
     "status": "completed"
    },
    "tags": []
   },
   "source": [
    "### Let us create a `Config` class, to store important parameters. \n",
    "This class essentially plays the role of a dictionary."
   ]
  },
  {
   "cell_type": "code",
   "execution_count": 15,
   "id": "young-ceiling",
   "metadata": {
    "execution": {
     "iopub.execute_input": "2021-02-20T20:04:29.306219Z",
     "iopub.status.busy": "2021-02-20T20:04:29.305524Z",
     "iopub.status.idle": "2021-02-20T20:04:29.320214Z",
     "shell.execute_reply": "2021-02-20T20:04:29.318895Z"
    },
    "papermill": {
     "duration": 0.05852,
     "end_time": "2021-02-20T20:04:29.320369",
     "exception": false,
     "start_time": "2021-02-20T20:04:29.261849",
     "status": "completed"
    },
    "tags": []
   },
   "outputs": [],
   "source": [
    "class Config:\n",
    "    pass\n",
    "config = Config()\n",
    "config.lr = 0.001\n",
    "config.num_epochs = 251\n",
    "config.bs = 50"
   ]
  },
  {
   "cell_type": "markdown",
   "id": "according-mandate",
   "metadata": {
    "papermill": {
     "duration": 0.036012,
     "end_time": "2021-02-20T20:04:29.393072",
     "exception": false,
     "start_time": "2021-02-20T20:04:29.357060",
     "status": "completed"
    },
    "tags": []
   },
   "source": [
    "### Initializing data to the variables"
   ]
  },
  {
   "cell_type": "code",
   "execution_count": 16,
   "id": "academic-disposition",
   "metadata": {
    "execution": {
     "iopub.execute_input": "2021-02-20T20:04:29.471295Z",
     "iopub.status.busy": "2021-02-20T20:04:29.470605Z",
     "iopub.status.idle": "2021-02-20T20:04:29.486745Z",
     "shell.execute_reply": "2021-02-20T20:04:29.486124Z"
    },
    "papermill": {
     "duration": 0.057922,
     "end_time": "2021-02-20T20:04:29.486894",
     "exception": false,
     "start_time": "2021-02-20T20:04:29.428972",
     "status": "completed"
    },
    "tags": []
   },
   "outputs": [],
   "source": [
    "data = Data(X_train, y_train.reshape(-1,1))\n",
    "sampler = Sampler(data, config.bs, shuffle=True)\n",
    "\n",
    "dl = Dataloader(data, sampler)\n",
    "\n",
    "opt = GD(config.lr)\n",
    "loss = MSE()"
   ]
  },
  {
   "cell_type": "code",
   "execution_count": 17,
   "id": "featured-commission",
   "metadata": {
    "execution": {
     "iopub.execute_input": "2021-02-20T20:04:29.571253Z",
     "iopub.status.busy": "2021-02-20T20:04:29.570507Z",
     "iopub.status.idle": "2021-02-20T20:04:29.588578Z",
     "shell.execute_reply": "2021-02-20T20:04:29.587897Z"
    },
    "papermill": {
     "duration": 0.063327,
     "end_time": "2021-02-20T20:04:29.588730",
     "exception": false,
     "start_time": "2021-02-20T20:04:29.525403",
     "status": "completed"
    },
    "tags": []
   },
   "outputs": [],
   "source": [
    "training_xdata = X_train\n",
    "testing_xdata = X_test\n",
    "training_ydata = y_train.reshape(-1,1)\n",
    "testing_ydata = y_test.reshape(-1,1)"
   ]
  },
  {
   "cell_type": "markdown",
   "id": "played-safety",
   "metadata": {
    "papermill": {
     "duration": 0.037674,
     "end_time": "2021-02-20T20:04:29.664204",
     "exception": false,
     "start_time": "2021-02-20T20:04:29.626530",
     "status": "completed"
    },
    "tags": []
   },
   "source": [
    "### Running Models with the Training data\n",
    "Details about the network layers:\n",
    "- A first affine layer has 784 inputs and does 100 affine transforms. These are followed by a Relu\n",
    "- A second affine layer has 100 inputs from the 100 activations of the past layer, and does 100 affine transforms. These are followed by a Relu\n",
    "- A third affine layer has 100 activations and does 2 affine transformations to create an embedding for visualization. There is no non-linearity here.\n",
    "- A final \"logistic regression\" which has an affine transform from 2 inputs to 1 output, which is squeezed through a sigmoid.\n",
    "\n",
    "Help taken from Anshuman's Notebook."
   ]
  },
  {
   "cell_type": "code",
   "execution_count": 18,
   "id": "asian-bankruptcy",
   "metadata": {
    "execution": {
     "iopub.execute_input": "2021-02-20T20:04:29.747002Z",
     "iopub.status.busy": "2021-02-20T20:04:29.746148Z",
     "iopub.status.idle": "2021-02-20T20:04:29.769969Z",
     "shell.execute_reply": "2021-02-20T20:04:29.769358Z"
    },
    "papermill": {
     "duration": 0.066153,
     "end_time": "2021-02-20T20:04:29.770138",
     "exception": false,
     "start_time": "2021-02-20T20:04:29.703985",
     "status": "completed"
    },
    "tags": []
   },
   "outputs": [],
   "source": [
    "# layers for the Neural Network\n",
    "layers = [Affine(\"first\", 784, 100), Relu(\"first\"), Affine(\"second\", 100, 100), Relu(\"second\"), Affine(\"third\", 100, 2), Affine(\"final\", 2, 1), Sigmoid(\"final\")]\n",
    "model_nn = Model(layers)\n",
    "\n",
    "# layers for the Logistic Regression\n",
    "layers_lr = [Affine(\"logits\", 784, 1), Sigmoid(\"sigmoid\")]\n",
    "model_lr = Model(layers_lr)"
   ]
  },
  {
   "cell_type": "code",
   "execution_count": 19,
   "id": "removed-butler",
   "metadata": {
    "execution": {
     "iopub.execute_input": "2021-02-20T20:04:29.849895Z",
     "iopub.status.busy": "2021-02-20T20:04:29.849205Z",
     "iopub.status.idle": "2021-02-20T20:04:29.864833Z",
     "shell.execute_reply": "2021-02-20T20:04:29.864200Z"
    },
    "papermill": {
     "duration": 0.057593,
     "end_time": "2021-02-20T20:04:29.864993",
     "exception": false,
     "start_time": "2021-02-20T20:04:29.807400",
     "status": "completed"
    },
    "tags": []
   },
   "outputs": [],
   "source": [
    "# suffix _nn stands for Neural Network.\n",
    "learner_nn = Learner(loss, model_nn, opt, config.num_epochs)\n",
    "acc_nn = ClfCallback(learner_nn, config.bs, training_xdata , testing_xdata, training_ydata, testing_ydata)\n",
    "learner_nn.set_callbacks([acc_nn])"
   ]
  },
  {
   "cell_type": "code",
   "execution_count": 20,
   "id": "conceptual-throw",
   "metadata": {
    "execution": {
     "iopub.execute_input": "2021-02-20T20:04:29.943186Z",
     "iopub.status.busy": "2021-02-20T20:04:29.942481Z",
     "iopub.status.idle": "2021-02-20T20:06:54.716663Z",
     "shell.execute_reply": "2021-02-20T20:06:54.717302Z"
    },
    "papermill": {
     "duration": 144.815183,
     "end_time": "2021-02-20T20:06:54.717464",
     "exception": false,
     "start_time": "2021-02-20T20:04:29.902281",
     "status": "completed"
    },
    "tags": []
   },
   "outputs": [
    {
     "name": "stdout",
     "output_type": "stream",
     "text": [
      "====== Neural Network ======\n"
     ]
    },
    {
     "name": "stdout",
     "output_type": "stream",
     "text": [
      "Epoch 0, Loss 0.2068\n",
      "Training Accuracy: 0.8146, Testing Accuracy: 0.8155\n",
      "\n"
     ]
    },
    {
     "name": "stdout",
     "output_type": "stream",
     "text": [
      "Epoch 10, Loss 0.0563\n",
      "Training Accuracy: 0.9422, Testing Accuracy: 0.9521\n",
      "\n"
     ]
    },
    {
     "name": "stdout",
     "output_type": "stream",
     "text": [
      "Epoch 20, Loss 0.0404\n",
      "Training Accuracy: 0.9549, Testing Accuracy: 0.9632\n",
      "\n"
     ]
    },
    {
     "name": "stdout",
     "output_type": "stream",
     "text": [
      "Epoch 30, Loss 0.0339\n",
      "Training Accuracy: 0.9624, Testing Accuracy: 0.9667\n",
      "\n"
     ]
    },
    {
     "name": "stdout",
     "output_type": "stream",
     "text": [
      "Epoch 40, Loss 0.0301\n",
      "Training Accuracy: 0.9659, Testing Accuracy: 0.9713\n",
      "\n"
     ]
    },
    {
     "name": "stdout",
     "output_type": "stream",
     "text": [
      "Epoch 50, Loss 0.0276\n",
      "Training Accuracy: 0.9690, Testing Accuracy: 0.9698\n",
      "\n"
     ]
    },
    {
     "name": "stdout",
     "output_type": "stream",
     "text": [
      "Epoch 60, Loss 0.0257\n",
      "Training Accuracy: 0.9704, Testing Accuracy: 0.9718\n",
      "\n"
     ]
    },
    {
     "name": "stdout",
     "output_type": "stream",
     "text": [
      "Epoch 70, Loss 0.0243\n",
      "Training Accuracy: 0.9726, Testing Accuracy: 0.9713\n",
      "\n"
     ]
    },
    {
     "name": "stdout",
     "output_type": "stream",
     "text": [
      "Epoch 80, Loss 0.023\n",
      "Training Accuracy: 0.9736, Testing Accuracy: 0.9728\n",
      "\n"
     ]
    },
    {
     "name": "stdout",
     "output_type": "stream",
     "text": [
      "Epoch 90, Loss 0.022\n",
      "Training Accuracy: 0.9747, Testing Accuracy: 0.9743\n",
      "\n"
     ]
    },
    {
     "name": "stdout",
     "output_type": "stream",
     "text": [
      "Epoch 100, Loss 0.0211\n",
      "Training Accuracy: 0.9757, Testing Accuracy: 0.9743\n",
      "\n"
     ]
    },
    {
     "name": "stdout",
     "output_type": "stream",
     "text": [
      "Epoch 110, Loss 0.0202\n",
      "Training Accuracy: 0.9766, Testing Accuracy: 0.9753\n",
      "\n"
     ]
    },
    {
     "name": "stdout",
     "output_type": "stream",
     "text": [
      "Epoch 120, Loss 0.0195\n",
      "Training Accuracy: 0.9774, Testing Accuracy: 0.9748\n",
      "\n"
     ]
    },
    {
     "name": "stdout",
     "output_type": "stream",
     "text": [
      "Epoch 130, Loss 0.0188\n",
      "Training Accuracy: 0.9785, Testing Accuracy: 0.9753\n",
      "\n"
     ]
    },
    {
     "name": "stdout",
     "output_type": "stream",
     "text": [
      "Epoch 140, Loss 0.0181\n",
      "Training Accuracy: 0.9791, Testing Accuracy: 0.9763\n",
      "\n"
     ]
    },
    {
     "name": "stdout",
     "output_type": "stream",
     "text": [
      "Epoch 150, Loss 0.0175\n",
      "Training Accuracy: 0.9800, Testing Accuracy: 0.9763\n",
      "\n"
     ]
    },
    {
     "name": "stdout",
     "output_type": "stream",
     "text": [
      "Epoch 160, Loss 0.0169\n",
      "Training Accuracy: 0.9809, Testing Accuracy: 0.9773\n",
      "\n"
     ]
    },
    {
     "name": "stdout",
     "output_type": "stream",
     "text": [
      "Epoch 170, Loss 0.0164\n",
      "Training Accuracy: 0.9818, Testing Accuracy: 0.9778\n",
      "\n"
     ]
    },
    {
     "name": "stdout",
     "output_type": "stream",
     "text": [
      "Epoch 180, Loss 0.0159\n",
      "Training Accuracy: 0.9825, Testing Accuracy: 0.9778\n",
      "\n"
     ]
    },
    {
     "name": "stdout",
     "output_type": "stream",
     "text": [
      "Epoch 190, Loss 0.0154\n",
      "Training Accuracy: 0.9831, Testing Accuracy: 0.9783\n",
      "\n"
     ]
    },
    {
     "name": "stdout",
     "output_type": "stream",
     "text": [
      "Epoch 200, Loss 0.015\n",
      "Training Accuracy: 0.9840, Testing Accuracy: 0.9778\n",
      "\n"
     ]
    },
    {
     "name": "stdout",
     "output_type": "stream",
     "text": [
      "Epoch 210, Loss 0.0145\n",
      "Training Accuracy: 0.9846, Testing Accuracy: 0.9783\n",
      "\n"
     ]
    },
    {
     "name": "stdout",
     "output_type": "stream",
     "text": [
      "Epoch 220, Loss 0.0141\n",
      "Training Accuracy: 0.9856, Testing Accuracy: 0.9788\n",
      "\n"
     ]
    },
    {
     "name": "stdout",
     "output_type": "stream",
     "text": [
      "Epoch 230, Loss 0.0137\n",
      "Training Accuracy: 0.9859, Testing Accuracy: 0.9798\n",
      "\n"
     ]
    },
    {
     "name": "stdout",
     "output_type": "stream",
     "text": [
      "Epoch 240, Loss 0.0134\n",
      "Training Accuracy: 0.9862, Testing Accuracy: 0.9808\n",
      "\n"
     ]
    },
    {
     "name": "stdout",
     "output_type": "stream",
     "text": [
      "Epoch 250, Loss 0.013\n",
      "Training Accuracy: 0.9868, Testing Accuracy: 0.9814\n",
      "\n"
     ]
    },
    {
     "data": {
      "text/plain": [
       "0.0370813223002911"
      ]
     },
     "execution_count": 20,
     "metadata": {},
     "output_type": "execute_result"
    }
   ],
   "source": [
    "print(\"====== Neural Network ======\")\n",
    "learner_nn.train_loop(dl)"
   ]
  },
  {
   "cell_type": "markdown",
   "id": "competent-suffering",
   "metadata": {
    "papermill": {
     "duration": 0.044222,
     "end_time": "2021-02-20T20:06:54.806585",
     "exception": false,
     "start_time": "2021-02-20T20:06:54.762363",
     "status": "completed"
    },
    "tags": []
   },
   "source": [
    "### Logistic Regression based Implementation."
   ]
  },
  {
   "cell_type": "code",
   "execution_count": 21,
   "id": "qualified-psychiatry",
   "metadata": {
    "execution": {
     "iopub.execute_input": "2021-02-20T20:06:54.904983Z",
     "iopub.status.busy": "2021-02-20T20:06:54.904159Z",
     "iopub.status.idle": "2021-02-20T20:06:54.917533Z",
     "shell.execute_reply": "2021-02-20T20:06:54.918142Z"
    },
    "papermill": {
     "duration": 0.067311,
     "end_time": "2021-02-20T20:06:54.918303",
     "exception": false,
     "start_time": "2021-02-20T20:06:54.850992",
     "status": "completed"
    },
    "tags": []
   },
   "outputs": [],
   "source": [
    "learner_lr = Learner(loss, model_lr, opt, config.num_epochs)\n",
    "acc_lr = ClfCallback(learner_lr, config.bs, training_xdata , testing_xdata, training_ydata, testing_ydata)\n",
    "learner_lr.set_callbacks([acc_lr])"
   ]
  },
  {
   "cell_type": "code",
   "execution_count": 22,
   "id": "average-outside",
   "metadata": {
    "execution": {
     "iopub.execute_input": "2021-02-20T20:06:55.018639Z",
     "iopub.status.busy": "2021-02-20T20:06:55.016490Z",
     "iopub.status.idle": "2021-02-20T20:07:15.179985Z",
     "shell.execute_reply": "2021-02-20T20:07:15.180770Z"
    },
    "papermill": {
     "duration": 20.216363,
     "end_time": "2021-02-20T20:07:15.180933",
     "exception": false,
     "start_time": "2021-02-20T20:06:54.964570",
     "status": "completed"
    },
    "tags": []
   },
   "outputs": [
    {
     "name": "stdout",
     "output_type": "stream",
     "text": [
      "====== Logistic Regression ======\n",
      "Epoch 0, Loss 0.2207\n",
      "Training Accuracy: 0.7540, Testing Accuracy: 0.7656\n",
      "\n"
     ]
    },
    {
     "name": "stdout",
     "output_type": "stream",
     "text": [
      "Epoch 10, Loss 0.0984\n",
      "Training Accuracy: 0.9197, Testing Accuracy: 0.9299\n",
      "\n"
     ]
    },
    {
     "name": "stdout",
     "output_type": "stream",
     "text": [
      "Epoch 20, Loss 0.0767\n",
      "Training Accuracy: 0.9297, Testing Accuracy: 0.9400\n",
      "\n"
     ]
    },
    {
     "name": "stdout",
     "output_type": "stream",
     "text": [
      "Epoch 30, Loss 0.0666\n",
      "Training Accuracy: 0.9373, Testing Accuracy: 0.9481\n",
      "\n"
     ]
    },
    {
     "name": "stdout",
     "output_type": "stream",
     "text": [
      "Epoch 40, Loss 0.0605\n",
      "Training Accuracy: 0.9432, Testing Accuracy: 0.9511\n",
      "\n"
     ]
    },
    {
     "name": "stdout",
     "output_type": "stream",
     "text": [
      "Epoch 50, Loss 0.0563\n",
      "Training Accuracy: 0.9457, Testing Accuracy: 0.9551\n",
      "\n"
     ]
    },
    {
     "name": "stdout",
     "output_type": "stream",
     "text": [
      "Epoch 60, Loss 0.0532\n",
      "Training Accuracy: 0.9478, Testing Accuracy: 0.9556\n",
      "\n"
     ]
    },
    {
     "name": "stdout",
     "output_type": "stream",
     "text": [
      "Epoch 70, Loss 0.0508\n",
      "Training Accuracy: 0.9498, Testing Accuracy: 0.9572\n",
      "\n"
     ]
    },
    {
     "name": "stdout",
     "output_type": "stream",
     "text": [
      "Epoch 80, Loss 0.0488\n",
      "Training Accuracy: 0.9508, Testing Accuracy: 0.9602\n",
      "\n"
     ]
    },
    {
     "name": "stdout",
     "output_type": "stream",
     "text": [
      "Epoch 90, Loss 0.0472\n",
      "Training Accuracy: 0.9518, Testing Accuracy: 0.9607\n",
      "\n"
     ]
    },
    {
     "name": "stdout",
     "output_type": "stream",
     "text": [
      "Epoch 100, Loss 0.0459\n",
      "Training Accuracy: 0.9532, Testing Accuracy: 0.9607\n",
      "\n"
     ]
    },
    {
     "name": "stdout",
     "output_type": "stream",
     "text": [
      "Epoch 110, Loss 0.0447\n",
      "Training Accuracy: 0.9537, Testing Accuracy: 0.9617\n",
      "\n"
     ]
    },
    {
     "name": "stdout",
     "output_type": "stream",
     "text": [
      "Epoch 120, Loss 0.0436\n",
      "Training Accuracy: 0.9548, Testing Accuracy: 0.9627\n",
      "\n"
     ]
    },
    {
     "name": "stdout",
     "output_type": "stream",
     "text": [
      "Epoch 130, Loss 0.0427\n",
      "Training Accuracy: 0.9559, Testing Accuracy: 0.9627\n",
      "\n"
     ]
    },
    {
     "name": "stdout",
     "output_type": "stream",
     "text": [
      "Epoch 140, Loss 0.0419\n",
      "Training Accuracy: 0.9564, Testing Accuracy: 0.9642\n",
      "\n"
     ]
    },
    {
     "name": "stdout",
     "output_type": "stream",
     "text": [
      "Epoch 150, Loss 0.0412\n",
      "Training Accuracy: 0.9574, Testing Accuracy: 0.9652\n",
      "\n"
     ]
    },
    {
     "name": "stdout",
     "output_type": "stream",
     "text": [
      "Epoch 160, Loss 0.0406\n",
      "Training Accuracy: 0.9579, Testing Accuracy: 0.9657\n",
      "\n"
     ]
    },
    {
     "name": "stdout",
     "output_type": "stream",
     "text": [
      "Epoch 170, Loss 0.04\n",
      "Training Accuracy: 0.9588, Testing Accuracy: 0.9657\n",
      "\n"
     ]
    },
    {
     "name": "stdout",
     "output_type": "stream",
     "text": [
      "Epoch 180, Loss 0.0394\n",
      "Training Accuracy: 0.9594, Testing Accuracy: 0.9662\n",
      "\n"
     ]
    },
    {
     "name": "stdout",
     "output_type": "stream",
     "text": [
      "Epoch 190, Loss 0.0389\n",
      "Training Accuracy: 0.9598, Testing Accuracy: 0.9662\n",
      "\n"
     ]
    },
    {
     "name": "stdout",
     "output_type": "stream",
     "text": [
      "Epoch 200, Loss 0.0384\n",
      "Training Accuracy: 0.9602, Testing Accuracy: 0.9657\n",
      "\n"
     ]
    },
    {
     "name": "stdout",
     "output_type": "stream",
     "text": [
      "Epoch 210, Loss 0.038\n",
      "Training Accuracy: 0.9604, Testing Accuracy: 0.9652\n",
      "\n"
     ]
    },
    {
     "name": "stdout",
     "output_type": "stream",
     "text": [
      "Epoch 220, Loss 0.0376\n",
      "Training Accuracy: 0.9611, Testing Accuracy: 0.9652\n",
      "\n"
     ]
    },
    {
     "name": "stdout",
     "output_type": "stream",
     "text": [
      "Epoch 230, Loss 0.0372\n",
      "Training Accuracy: 0.9614, Testing Accuracy: 0.9657\n",
      "\n"
     ]
    },
    {
     "name": "stdout",
     "output_type": "stream",
     "text": [
      "Epoch 240, Loss 0.0369\n",
      "Training Accuracy: 0.9614, Testing Accuracy: 0.9657\n",
      "\n"
     ]
    },
    {
     "name": "stdout",
     "output_type": "stream",
     "text": [
      "Epoch 250, Loss 0.0365\n",
      "Training Accuracy: 0.9616, Testing Accuracy: 0.9667\n",
      "\n"
     ]
    },
    {
     "data": {
      "text/plain": [
       "0.08868831413114948"
      ]
     },
     "execution_count": 22,
     "metadata": {},
     "output_type": "execute_result"
    }
   ],
   "source": [
    "print(\"====== Logistic Regression ======\")\n",
    "learner_lr.train_loop(dl)"
   ]
  },
  {
   "cell_type": "markdown",
   "id": "adjusted-possible",
   "metadata": {
    "papermill": {
     "duration": 0.05433,
     "end_time": "2021-02-20T20:07:15.289485",
     "exception": false,
     "start_time": "2021-02-20T20:07:15.235155",
     "status": "completed"
    },
    "tags": []
   },
   "source": [
    "### Comparing results of NN and LR"
   ]
  },
  {
   "cell_type": "code",
   "execution_count": 23,
   "id": "mental-multimedia",
   "metadata": {
    "execution": {
     "iopub.execute_input": "2021-02-20T20:07:15.405841Z",
     "iopub.status.busy": "2021-02-20T20:07:15.404006Z",
     "iopub.status.idle": "2021-02-20T20:07:15.712729Z",
     "shell.execute_reply": "2021-02-20T20:07:15.711595Z"
    },
    "papermill": {
     "duration": 0.369762,
     "end_time": "2021-02-20T20:07:15.712897",
     "exception": false,
     "start_time": "2021-02-20T20:07:15.343135",
     "status": "completed"
    },
    "tags": []
   },
   "outputs": [
    {
     "data": {
      "text/plain": [
       "<matplotlib.legend.Legend at 0x7f1bf446c160>"
      ]
     },
     "execution_count": 23,
     "metadata": {},
     "output_type": "execute_result"
    },
    {
     "data": {
      "image/png": "[encoded data removed]",
      "text/plain": [
       "<Figure size 1080x720 with 1 Axes>"
      ]
     },
     "metadata": {
      "needs_background": "light"
     },
     "output_type": "display_data"
    }
   ],
   "source": [
    "plt.figure(figsize=(15,10))\n",
    "\n",
    "# Neural Network plots\n",
    "plt.plot(acc_nn.accuracies, 'r-', label = \"Training Accuracies - NN\")\n",
    "plt.plot(acc_nn.test_accuracies, 'g-', label = \"Testing Accuracies - NN\")\n",
    "\n",
    "# Logistic Regression plots\n",
    "plt.plot(acc_lr.accuracies, 'k-', label = \"Training Accuracies - LR\")\n",
    "plt.plot(acc_lr.test_accuracies, 'b-', label = \"Testing Accuracies - LR\")\n",
    "\n",
    "plt.ylim(0.8, 1)\n",
    "\n",
    "plt.legend()\n",
    "\n"
   ]
  },
  {
   "cell_type": "markdown",
   "id": "sexual-flesh",
   "metadata": {
    "papermill": {
     "duration": 0.060869,
     "end_time": "2021-02-20T20:07:15.830314",
     "exception": false,
     "start_time": "2021-02-20T20:07:15.769445",
     "status": "completed"
    },
    "tags": []
   },
   "source": [
    "### From the plot, we can observe the following:\n",
    "- Neural Network achieves higher accuracy than the Logistic Regression model.\n",
    "- This apparently, is because of overfitting, i.e. NN captures more noise than data.\n",
    "- Testing accuracy of NN drops below the Training accuracy at higher epochs. This explains the over-fitting on training data.\n",
    "- Logistic Regression gives a reliable accuracy, without the above mentioned problem.\n"
   ]
  },
  {
   "cell_type": "markdown",
   "id": "institutional-pacific",
   "metadata": {
    "papermill": {
     "duration": 0.055278,
     "end_time": "2021-02-20T20:07:15.942584",
     "exception": false,
     "start_time": "2021-02-20T20:07:15.887306",
     "status": "completed"
    },
    "tags": []
   },
   "source": [
    "### Moving till the last but one layer (excluding it).\n",
    "#### Plotting the outputs of this layer of the NN."
   ]
  },
  {
   "cell_type": "code",
   "execution_count": 24,
   "id": "economic-server",
   "metadata": {
    "execution": {
     "iopub.execute_input": "2021-02-20T20:07:16.067689Z",
     "iopub.status.busy": "2021-02-20T20:07:16.059127Z",
     "iopub.status.idle": "2021-02-20T20:07:16.072294Z",
     "shell.execute_reply": "2021-02-20T20:07:16.073007Z"
    },
    "papermill": {
     "duration": 0.074861,
     "end_time": "2021-02-20T20:07:16.073176",
     "exception": false,
     "start_time": "2021-02-20T20:07:15.998315",
     "status": "completed"
    },
    "tags": []
   },
   "outputs": [],
   "source": [
    "model_new = Model(layers[:-2])"
   ]
  },
  {
   "cell_type": "code",
   "execution_count": 25,
   "id": "varied-upgrade",
   "metadata": {
    "execution": {
     "iopub.execute_input": "2021-02-20T20:07:16.190202Z",
     "iopub.status.busy": "2021-02-20T20:07:16.189540Z",
     "iopub.status.idle": "2021-02-20T20:07:16.221734Z",
     "shell.execute_reply": "2021-02-20T20:07:16.222694Z"
    },
    "papermill": {
     "duration": 0.0942,
     "end_time": "2021-02-20T20:07:16.222865",
     "exception": false,
     "start_time": "2021-02-20T20:07:16.128665",
     "status": "completed"
    },
    "tags": []
   },
   "outputs": [],
   "source": [
    "plot_testing = model_new(testing_xdata)"
   ]
  },
  {
   "cell_type": "code",
   "execution_count": 26,
   "id": "specific-handling",
   "metadata": {
    "execution": {
     "iopub.execute_input": "2021-02-20T20:07:16.342606Z",
     "iopub.status.busy": "2021-02-20T20:07:16.341863Z",
     "iopub.status.idle": "2021-02-20T20:07:16.590847Z",
     "shell.execute_reply": "2021-02-20T20:07:16.589976Z"
    },
    "papermill": {
     "duration": 0.308328,
     "end_time": "2021-02-20T20:07:16.591002",
     "exception": false,
     "start_time": "2021-02-20T20:07:16.282674",
     "status": "completed"
    },
    "tags": []
   },
   "outputs": [
    {
     "data": {
      "text/plain": [
       "Text(0.5, 1.0, 'Outputs')"
      ]
     },
     "execution_count": 26,
     "metadata": {},
     "output_type": "execute_result"
    },
    {
     "data": {
      "image/png": "[encoded data removed]",
      "text/plain": [
       "<Figure size 576x504 with 1 Axes>"
      ]
     },
     "metadata": {
      "needs_background": "light"
     },
     "output_type": "display_data"
    }
   ],
   "source": [
    "plt.figure(figsize=(8,7))\n",
    "plt.scatter(plot_testing[:,0], plot_testing[:,1], alpha = 0.1, c = y_test.ravel());\n",
    "plt.title('Outputs')"
   ]
  },
  {
   "cell_type": "markdown",
   "id": "described-knowing",
   "metadata": {
    "papermill": {
     "duration": 0.058877,
     "end_time": "2021-02-20T20:07:16.711420",
     "exception": false,
     "start_time": "2021-02-20T20:07:16.652543",
     "status": "completed"
    },
    "tags": []
   },
   "source": [
    "### Plotting probability contours"
   ]
  },
  {
   "cell_type": "code",
   "execution_count": 27,
   "id": "needed-growing",
   "metadata": {
    "execution": {
     "iopub.execute_input": "2021-02-20T20:07:16.838578Z",
     "iopub.status.busy": "2021-02-20T20:07:16.837826Z",
     "iopub.status.idle": "2021-02-20T20:07:16.850188Z",
     "shell.execute_reply": "2021-02-20T20:07:16.849607Z"
    },
    "papermill": {
     "duration": 0.078541,
     "end_time": "2021-02-20T20:07:16.850323",
     "exception": false,
     "start_time": "2021-02-20T20:07:16.771782",
     "status": "completed"
    },
    "tags": []
   },
   "outputs": [],
   "source": [
    "model_prob = Model(layers[-2:]) "
   ]
  },
  {
   "cell_type": "code",
   "execution_count": 28,
   "id": "introductory-enforcement",
   "metadata": {
    "execution": {
     "iopub.execute_input": "2021-02-20T20:07:16.996028Z",
     "iopub.status.busy": "2021-02-20T20:07:16.995311Z",
     "iopub.status.idle": "2021-02-20T20:07:17.011005Z",
     "shell.execute_reply": "2021-02-20T20:07:17.011531Z"
    },
    "papermill": {
     "duration": 0.081154,
     "end_time": "2021-02-20T20:07:17.011691",
     "exception": false,
     "start_time": "2021-02-20T20:07:16.930537",
     "status": "completed"
    },
    "tags": []
   },
   "outputs": [],
   "source": [
    "# Adjust the x and y ranges according to the above generated plot.\n",
    "x_range = np.linspace(-4, 1, 100) \n",
    "y_range = np.linspace(-6, 6, 100) \n",
    "x_grid, y_grid = np.meshgrid(x_range, y_range) # x_grid and y_grig are of size 100 X 100\n",
    "\n",
    "# converting x_grid and y_grid to continuous arrays\n",
    "x_grid_flat = np.ravel(x_grid)\n",
    "y_grid_flat = np.ravel(y_grid)\n",
    "\n",
    "# The last layer of the current model takes two columns as input. Hence transpose of np.vstack() is required.\n",
    "X = np.vstack((x_grid_flat, y_grid_flat)).T\n",
    "\n",
    "# x_grid and y_grid are of size 100 x 100\n",
    "probability_contour = model_prob(X).reshape(100,100) "
   ]
  },
  {
   "cell_type": "code",
   "execution_count": 29,
   "id": "understood-landing",
   "metadata": {
    "execution": {
     "iopub.execute_input": "2021-02-20T20:07:17.154184Z",
     "iopub.status.busy": "2021-02-20T20:07:17.153418Z",
     "iopub.status.idle": "2021-02-20T20:07:17.453302Z",
     "shell.execute_reply": "2021-02-20T20:07:17.452172Z"
    },
    "papermill": {
     "duration": 0.380161,
     "end_time": "2021-02-20T20:07:17.453441",
     "exception": false,
     "start_time": "2021-02-20T20:07:17.073280",
     "status": "completed"
    },
    "tags": []
   },
   "outputs": [
    {
     "data": {
      "image/png": "[encoded data removed]",
      "text/plain": [
       "<Figure size 720x648 with 1 Axes>"
      ]
     },
     "metadata": {
      "needs_background": "light"
     },
     "output_type": "display_data"
    }
   ],
   "source": [
    "plt.figure(figsize=(10,9))\n",
    "plt.scatter(plot_testing[:,0], plot_testing[:,1], alpha = 0.1, c = y_test.ravel())\n",
    "contours = plt.contour(x_grid,y_grid,probability_contour)\n",
    "plt.title('Probability Contours')\n",
    "plt.clabel(contours, inline = True );"
   ]
  }
 ],
 "metadata": {
  "kernelspec": {
   "display_name": "Python 3",
   "language": "python",
   "name": "python3"
  },
  "language_info": {
   "codemirror_mode": {
    "name": "ipython",
    "version": 3
   },
   "file_extension": ".py",
   "mimetype": "text/x-python",
   "name": "python",
   "nbconvert_exporter": "python",
   "pygments_lexer": "ipython3",
   "version": "3.6.12"
  },
  "papermill": {
   "duration": 176.491106,
   "end_time": "2021-02-20T20:07:17.928053",
   "environment_variables": {},
   "exception": null,
   "input_path": "2020-08-11-NeuralNetwork.ipynb",
   "output_path": "2020-08-11-NeuralNetwork.ipynb",
   "parameters": {},
   "start_time": "2021-02-20T20:04:21.436947",
   "version": "2.1.2"
  }
 },
 "nbformat": 4,
 "nbformat_minor": 5
}