{
 "cells": [
  {
   "cell_type": "markdown",
   "metadata": {
    "papermill": {
     "duration": 0.030608,
     "end_time": "2020-08-27T00:05:51.991558",
     "exception": false,
     "start_time": "2020-08-27T00:05:51.960950",
     "status": "completed"
    },
    "tags": []
   },
   "source": [
    "# \"A Basic Neural Network: Differentiate Hand-Written Digits\"\n",
    "\n",
    "- badges: true\n",
    "- author: Akshith Sriram"
   ]
  },
  {
   "cell_type": "markdown",
   "metadata": {
    "papermill": {
     "duration": 0.033167,
     "end_time": "2020-08-27T00:05:52.052991",
     "exception": false,
     "start_time": "2020-08-27T00:05:52.019824",
     "status": "completed"
    },
    "tags": []
   },
   "source": [
    "### Key Objectives:\n",
    "- Building a neural network that differentiates two hand-written digits 3 and 8.\n",
    "- Comparing the results of this Neural Network (NN) to that of a Logistic Regression (LR) model.\n",
    "\n",
    "### Requirements:\n",
    "- 'Kudzu' : A neural network library that was designed during our course by [Univ.AI](www.univ.ai). \n",
    "- MNIST Database\n",
    "\n",
    "If MNIST is not installed, use the command `!pip install mnist` given below.\n",
    "It can be run both from the command line and Jupyter Notebook."
   ]
  },
  {
   "cell_type": "code",
   "execution_count": 1,
   "metadata": {
    "execution": {
     "iopub.execute_input": "2020-08-27T00:05:52.115187Z",
     "iopub.status.busy": "2020-08-27T00:05:52.114564Z",
     "iopub.status.idle": "2020-08-27T00:05:53.914758Z",
     "shell.execute_reply": "2020-08-27T00:05:53.913872Z"
    },
    "papermill": {
     "duration": 1.833023,
     "end_time": "2020-08-27T00:05:53.915023",
     "exception": false,
     "start_time": "2020-08-27T00:05:52.082000",
     "status": "completed"
    },
    "tags": []
   },
   "outputs": [
    {
     "name": "stdout",
     "output_type": "stream",
     "text": [
      "Collecting mnist\r\n"
     ]
    },
    {
     "name": "stdout",
     "output_type": "stream",
     "text": [
      "  Downloading mnist-0.2.2-py2.py3-none-any.whl (3.5 kB)\r\n",
      "Requirement already satisfied: numpy in /opt/hostedtoolcache/Python/3.6.11/x64/lib/python3.6/site-packages (from mnist) (1.19.1)\r\n"
     ]
    },
    {
     "name": "stdout",
     "output_type": "stream",
     "text": [
      "Installing collected packages: mnist\r\n"
     ]
    },
    {
     "name": "stdout",
     "output_type": "stream",
     "text": [
      "Successfully installed mnist-0.2.2\r\n"
     ]
    }
   ],
   "source": [
    "!pip install mnist "
   ]
  },
  {
   "cell_type": "markdown",
   "metadata": {
    "papermill": {
     "duration": 0.040715,
     "end_time": "2020-08-27T00:05:53.992316",
     "exception": false,
     "start_time": "2020-08-27T00:05:53.951601",
     "status": "completed"
    },
    "tags": []
   },
   "source": [
    "#### Importing necessary libraries"
   ]
  },
  {
   "cell_type": "code",
   "execution_count": 2,
   "metadata": {
    "execution": {
     "iopub.execute_input": "2020-08-27T00:05:54.061545Z",
     "iopub.status.busy": "2020-08-27T00:05:54.060875Z",
     "iopub.status.idle": "2020-08-27T00:05:54.659544Z",
     "shell.execute_reply": "2020-08-27T00:05:54.660074Z"
    },
    "papermill": {
     "duration": 0.637216,
     "end_time": "2020-08-27T00:05:54.660311",
     "exception": false,
     "start_time": "2020-08-27T00:05:54.023095",
     "status": "completed"
    },
    "tags": []
   },
   "outputs": [],
   "source": [
    "%load_ext autoreload\n",
    "%autoreload 2\n",
    "\n",
    "%matplotlib inline\n",
    "import matplotlib.pyplot as plt\n",
    "\n",
    "import numpy as np\n",
    "import pandas as pd"
   ]
  },
  {
   "cell_type": "markdown",
   "metadata": {
    "papermill": {
     "duration": 0.030309,
     "end_time": "2020-08-27T00:05:54.721794",
     "exception": false,
     "start_time": "2020-08-27T00:05:54.691485",
     "status": "completed"
    },
    "tags": []
   },
   "source": [
    "### Preparing the Data"
   ]
  },
  {
   "cell_type": "code",
   "execution_count": 3,
   "metadata": {
    "execution": {
     "iopub.execute_input": "2020-08-27T00:05:54.786231Z",
     "iopub.status.busy": "2020-08-27T00:05:54.785604Z",
     "iopub.status.idle": "2020-08-27T00:05:54.798415Z",
     "shell.execute_reply": "2020-08-27T00:05:54.797773Z"
    },
    "papermill": {
     "duration": 0.047767,
     "end_time": "2020-08-27T00:05:54.798548",
     "exception": false,
     "start_time": "2020-08-27T00:05:54.750781",
     "status": "completed"
    },
    "tags": []
   },
   "outputs": [],
   "source": [
    "import mnist"
   ]
  },
  {
   "cell_type": "code",
   "execution_count": 4,
   "metadata": {
    "execution": {
     "iopub.execute_input": "2020-08-27T00:05:54.865041Z",
     "iopub.status.busy": "2020-08-27T00:05:54.864126Z",
     "iopub.status.idle": "2020-08-27T00:05:56.589462Z",
     "shell.execute_reply": "2020-08-27T00:05:56.590134Z"
    },
    "papermill": {
     "duration": 1.762717,
     "end_time": "2020-08-27T00:05:56.590298",
     "exception": false,
     "start_time": "2020-08-27T00:05:54.827581",
     "status": "completed"
    },
    "tags": []
   },
   "outputs": [],
   "source": [
    "train_images = mnist.train_images()\n",
    "train_labels = mnist.train_labels()"
   ]
  },
  {
   "cell_type": "code",
   "execution_count": 5,
   "metadata": {
    "execution": {
     "iopub.execute_input": "2020-08-27T00:05:56.656724Z",
     "iopub.status.busy": "2020-08-27T00:05:56.655989Z",
     "iopub.status.idle": "2020-08-27T00:05:56.671088Z",
     "shell.execute_reply": "2020-08-27T00:05:56.670554Z"
    },
    "papermill": {
     "duration": 0.050301,
     "end_time": "2020-08-27T00:05:56.671219",
     "exception": false,
     "start_time": "2020-08-27T00:05:56.620918",
     "status": "completed"
    },
    "tags": []
   },
   "outputs": [
    {
     "data": {
      "text/plain": [
       "((60000, 28, 28), (60000,))"
      ]
     },
     "execution_count": 5,
     "metadata": {},
     "output_type": "execute_result"
    }
   ],
   "source": [
    "train_images.shape, train_labels.shape"
   ]
  },
  {
   "cell_type": "code",
   "execution_count": 6,
   "metadata": {
    "execution": {
     "iopub.execute_input": "2020-08-27T00:05:56.737421Z",
     "iopub.status.busy": "2020-08-27T00:05:56.736801Z",
     "iopub.status.idle": "2020-08-27T00:05:57.601213Z",
     "shell.execute_reply": "2020-08-27T00:05:57.601866Z"
    },
    "papermill": {
     "duration": 0.901728,
     "end_time": "2020-08-27T00:05:57.602094",
     "exception": false,
     "start_time": "2020-08-27T00:05:56.700366",
     "status": "completed"
    },
    "tags": []
   },
   "outputs": [],
   "source": [
    "test_images = mnist.test_images()\n",
    "test_labels = mnist.test_labels()"
   ]
  },
  {
   "cell_type": "code",
   "execution_count": 7,
   "metadata": {
    "execution": {
     "iopub.execute_input": "2020-08-27T00:05:57.667754Z",
     "iopub.status.busy": "2020-08-27T00:05:57.667050Z",
     "iopub.status.idle": "2020-08-27T00:05:57.682151Z",
     "shell.execute_reply": "2020-08-27T00:05:57.681464Z"
    },
    "papermill": {
     "duration": 0.048594,
     "end_time": "2020-08-27T00:05:57.682283",
     "exception": false,
     "start_time": "2020-08-27T00:05:57.633689",
     "status": "completed"
    },
    "tags": []
   },
   "outputs": [
    {
     "data": {
      "text/plain": [
       "((10000, 28, 28), (10000,))"
      ]
     },
     "execution_count": 7,
     "metadata": {},
     "output_type": "execute_result"
    }
   ],
   "source": [
    "test_images.shape, test_labels.shape"
   ]
  },
  {
   "cell_type": "code",
   "execution_count": 8,
   "metadata": {
    "execution": {
     "iopub.execute_input": "2020-08-27T00:05:57.746656Z",
     "iopub.status.busy": "2020-08-27T00:05:57.745982Z",
     "iopub.status.idle": "2020-08-27T00:05:57.931379Z",
     "shell.execute_reply": "2020-08-27T00:05:57.931902Z"
    },
    "papermill": {
     "duration": 0.220002,
     "end_time": "2020-08-27T00:05:57.932080",
     "exception": false,
     "start_time": "2020-08-27T00:05:57.712078",
     "status": "completed"
    },
    "tags": []
   },
   "outputs": [
    {
     "name": "stdout",
     "output_type": "stream",
     "text": [
      "2\n"
     ]
    },
    {
     "data": {
      "text/plain": [
       "<matplotlib.image.AxesImage at 0x7fb121060b38>"
      ]
     },
     "execution_count": 8,
     "metadata": {},
     "output_type": "execute_result"
    },
    {
     "data": {
      "image/png": "[encoded data removed]",
      "text/plain": [
       "<Figure size 432x288 with 1 Axes>"
      ]
     },
     "metadata": {
      "needs_background": "light"
     },
     "output_type": "display_data"
    }
   ],
   "source": [
    "image_index = 7776 # You may select anything up to 60,000\n",
    "print(train_labels[image_index]) \n",
    "plt.imshow(train_images[image_index], cmap='Greys')"
   ]
  },
  {
   "cell_type": "markdown",
   "metadata": {
    "papermill": {
     "duration": 0.030753,
     "end_time": "2020-08-27T00:05:57.993542",
     "exception": false,
     "start_time": "2020-08-27T00:05:57.962789",
     "status": "completed"
    },
    "tags": []
   },
   "source": [
    "## Filter data to get 3 and 8 out"
   ]
  },
  {
   "cell_type": "code",
   "execution_count": 9,
   "metadata": {
    "execution": {
     "iopub.execute_input": "2020-08-27T00:05:58.059971Z",
     "iopub.status.busy": "2020-08-27T00:05:58.059314Z",
     "iopub.status.idle": "2020-08-27T00:05:58.080556Z",
     "shell.execute_reply": "2020-08-27T00:05:58.081171Z"
    },
    "papermill": {
     "duration": 0.056626,
     "end_time": "2020-08-27T00:05:58.081347",
     "exception": false,
     "start_time": "2020-08-27T00:05:58.024721",
     "status": "completed"
    },
    "tags": []
   },
   "outputs": [],
   "source": [
    "train_filter = np.where((train_labels == 3 ) | (train_labels == 8))\n",
    "test_filter = np.where((test_labels == 3) | (test_labels == 8))\n",
    "X_train, y_train = train_images[train_filter], train_labels[train_filter]\n",
    "X_test, y_test = test_images[test_filter], test_labels[test_filter]"
   ]
  },
  {
   "cell_type": "markdown",
   "metadata": {
    "papermill": {
     "duration": 0.032904,
     "end_time": "2020-08-27T00:05:58.145674",
     "exception": false,
     "start_time": "2020-08-27T00:05:58.112770",
     "status": "completed"
    },
    "tags": []
   },
   "source": [
    "We normalize the pixel values in the 0 to 1 range"
   ]
  },
  {
   "cell_type": "code",
   "execution_count": 10,
   "metadata": {
    "execution": {
     "iopub.execute_input": "2020-08-27T00:05:58.213602Z",
     "iopub.status.busy": "2020-08-27T00:05:58.212997Z",
     "iopub.status.idle": "2020-08-27T00:05:58.278380Z",
     "shell.execute_reply": "2020-08-27T00:05:58.277731Z"
    },
    "papermill": {
     "duration": 0.101273,
     "end_time": "2020-08-27T00:05:58.278526",
     "exception": false,
     "start_time": "2020-08-27T00:05:58.177253",
     "status": "completed"
    },
    "tags": []
   },
   "outputs": [],
   "source": [
    "X_train = X_train/255.\n",
    "X_test = X_test/255."
   ]
  },
  {
   "cell_type": "markdown",
   "metadata": {
    "papermill": {
     "duration": 0.034212,
     "end_time": "2020-08-27T00:05:58.345638",
     "exception": false,
     "start_time": "2020-08-27T00:05:58.311426",
     "status": "completed"
    },
    "tags": []
   },
   "source": [
    "Setup the labels as 1 (when the digit is 3) and 0 (when the digit is 8)"
   ]
  },
  {
   "cell_type": "code",
   "execution_count": 11,
   "metadata": {
    "execution": {
     "iopub.execute_input": "2020-08-27T00:05:58.411973Z",
     "iopub.status.busy": "2020-08-27T00:05:58.411319Z",
     "iopub.status.idle": "2020-08-27T00:05:58.424567Z",
     "shell.execute_reply": "2020-08-27T00:05:58.423943Z"
    },
    "papermill": {
     "duration": 0.048193,
     "end_time": "2020-08-27T00:05:58.424712",
     "exception": false,
     "start_time": "2020-08-27T00:05:58.376519",
     "status": "completed"
    },
    "tags": []
   },
   "outputs": [],
   "source": [
    "y_train = 1*(y_train==3)\n",
    "y_test = 1*(y_test==3)"
   ]
  },
  {
   "cell_type": "code",
   "execution_count": 12,
   "metadata": {
    "execution": {
     "iopub.execute_input": "2020-08-27T00:05:58.492284Z",
     "iopub.status.busy": "2020-08-27T00:05:58.491523Z",
     "iopub.status.idle": "2020-08-27T00:05:58.506217Z",
     "shell.execute_reply": "2020-08-27T00:05:58.505572Z"
    },
    "papermill": {
     "duration": 0.049575,
     "end_time": "2020-08-27T00:05:58.506350",
     "exception": false,
     "start_time": "2020-08-27T00:05:58.456775",
     "status": "completed"
    },
    "tags": []
   },
   "outputs": [
    {
     "data": {
      "text/plain": [
       "((11982, 28, 28), (1984, 28, 28))"
      ]
     },
     "execution_count": 12,
     "metadata": {},
     "output_type": "execute_result"
    }
   ],
   "source": [
    "X_train.shape, X_test.shape"
   ]
  },
  {
   "cell_type": "markdown",
   "metadata": {
    "papermill": {
     "duration": 0.033217,
     "end_time": "2020-08-27T00:05:58.573056",
     "exception": false,
     "start_time": "2020-08-27T00:05:58.539839",
     "status": "completed"
    },
    "tags": []
   },
   "source": [
    "### Reshape the input data to create a linear array"
   ]
  },
  {
   "cell_type": "code",
   "execution_count": 13,
   "metadata": {
    "execution": {
     "iopub.execute_input": "2020-08-27T00:05:58.641825Z",
     "iopub.status.busy": "2020-08-27T00:05:58.641138Z",
     "iopub.status.idle": "2020-08-27T00:05:58.657583Z",
     "shell.execute_reply": "2020-08-27T00:05:58.658124Z"
    },
    "papermill": {
     "duration": 0.052962,
     "end_time": "2020-08-27T00:05:58.658286",
     "exception": false,
     "start_time": "2020-08-27T00:05:58.605324",
     "status": "completed"
    },
    "tags": []
   },
   "outputs": [
    {
     "data": {
      "text/plain": [
       "((11982, 784), (1984, 784))"
      ]
     },
     "execution_count": 13,
     "metadata": {},
     "output_type": "execute_result"
    }
   ],
   "source": [
    "X_train = X_train.reshape(X_train.shape[0], -1)\n",
    "X_test = X_test.reshape(X_test.shape[0], -1)\n",
    "X_train.shape, X_test.shape"
   ]
  },
  {
   "cell_type": "markdown",
   "metadata": {
    "papermill": {
     "duration": 0.031712,
     "end_time": "2020-08-27T00:05:58.722749",
     "exception": false,
     "start_time": "2020-08-27T00:05:58.691037",
     "status": "completed"
    },
    "tags": []
   },
   "source": [
    "### Importing appropriate functions from 'Kudzu'"
   ]
  },
  {
   "cell_type": "code",
   "execution_count": 14,
   "metadata": {
    "execution": {
     "iopub.execute_input": "2020-08-27T00:05:58.798594Z",
     "iopub.status.busy": "2020-08-27T00:05:58.797886Z",
     "iopub.status.idle": "2020-08-27T00:05:58.817633Z",
     "shell.execute_reply": "2020-08-27T00:05:58.817084Z"
    },
    "papermill": {
     "duration": 0.057111,
     "end_time": "2020-08-27T00:05:58.817788",
     "exception": false,
     "start_time": "2020-08-27T00:05:58.760677",
     "status": "completed"
    },
    "tags": []
   },
   "outputs": [],
   "source": [
    "from kudzu.layer import Sigmoid\n",
    "from kudzu.layer import Relu\n",
    "from kudzu.layer import Affine, Sigmoid\n",
    "\n",
    "from kudzu.model import Model\n",
    "from kudzu.train import Learner\n",
    "from kudzu.optim import GD\n",
    "from kudzu.data import Data, Dataloader, Sampler\n",
    "\n",
    "from kudzu.callbacks import AccCallback\n",
    "from kudzu.callbacks import ClfCallback\n",
    "\n",
    "from kudzu.loss import MSE"
   ]
  },
  {
   "cell_type": "markdown",
   "metadata": {
    "papermill": {
     "duration": 0.030625,
     "end_time": "2020-08-27T00:05:58.881158",
     "exception": false,
     "start_time": "2020-08-27T00:05:58.850533",
     "status": "completed"
    },
    "tags": []
   },
   "source": [
    "### Let us create a `Config` class, to store important parameters. \n",
    "This class essentially plays the role of a dictionary."
   ]
  },
  {
   "cell_type": "code",
   "execution_count": 15,
   "metadata": {
    "execution": {
     "iopub.execute_input": "2020-08-27T00:05:58.948500Z",
     "iopub.status.busy": "2020-08-27T00:05:58.947840Z",
     "iopub.status.idle": "2020-08-27T00:05:58.961043Z",
     "shell.execute_reply": "2020-08-27T00:05:58.961677Z"
    },
    "papermill": {
     "duration": 0.050073,
     "end_time": "2020-08-27T00:05:58.961845",
     "exception": false,
     "start_time": "2020-08-27T00:05:58.911772",
     "status": "completed"
    },
    "tags": []
   },
   "outputs": [],
   "source": [
    "class Config:\n",
    "    pass\n",
    "config = Config()\n",
    "config.lr = 0.001\n",
    "config.num_epochs = 251\n",
    "config.bs = 50"
   ]
  },
  {
   "cell_type": "markdown",
   "metadata": {
    "papermill": {
     "duration": 0.031017,
     "end_time": "2020-08-27T00:05:59.024123",
     "exception": false,
     "start_time": "2020-08-27T00:05:58.993106",
     "status": "completed"
    },
    "tags": []
   },
   "source": [
    "### Initializing data to the variables"
   ]
  },
  {
   "cell_type": "code",
   "execution_count": 16,
   "metadata": {
    "execution": {
     "iopub.execute_input": "2020-08-27T00:05:59.095070Z",
     "iopub.status.busy": "2020-08-27T00:05:59.094300Z",
     "iopub.status.idle": "2020-08-27T00:05:59.107447Z",
     "shell.execute_reply": "2020-08-27T00:05:59.106829Z"
    },
    "papermill": {
     "duration": 0.051466,
     "end_time": "2020-08-27T00:05:59.107574",
     "exception": false,
     "start_time": "2020-08-27T00:05:59.056108",
     "status": "completed"
    },
    "tags": []
   },
   "outputs": [],
   "source": [
    "data = Data(X_train, y_train.reshape(-1,1))\n",
    "sampler = Sampler(data, config.bs, shuffle=True)\n",
    "\n",
    "dl = Dataloader(data, sampler)\n",
    "\n",
    "opt = GD(config.lr)\n",
    "loss = MSE()"
   ]
  },
  {
   "cell_type": "code",
   "execution_count": 17,
   "metadata": {
    "execution": {
     "iopub.execute_input": "2020-08-27T00:05:59.178913Z",
     "iopub.status.busy": "2020-08-27T00:05:59.178308Z",
     "iopub.status.idle": "2020-08-27T00:05:59.190855Z",
     "shell.execute_reply": "2020-08-27T00:05:59.191464Z"
    },
    "papermill": {
     "duration": 0.053113,
     "end_time": "2020-08-27T00:05:59.191653",
     "exception": false,
     "start_time": "2020-08-27T00:05:59.138540",
     "status": "completed"
    },
    "tags": []
   },
   "outputs": [],
   "source": [
    "training_xdata = X_train\n",
    "testing_xdata = X_test\n",
    "training_ydata = y_train.reshape(-1,1)\n",
    "testing_ydata = y_test.reshape(-1,1)"
   ]
  },
  {
   "cell_type": "markdown",
   "metadata": {
    "papermill": {
     "duration": 0.037084,
     "end_time": "2020-08-27T00:05:59.261975",
     "exception": false,
     "start_time": "2020-08-27T00:05:59.224891",
     "status": "completed"
    },
    "tags": []
   },
   "source": [
    "### Running Models with the Training data\n",
    "Details about the network layers:\n",
    "- A first affine layer has 784 inputs and does 100 affine transforms. These are followed by a Relu\n",
    "- A second affine layer has 100 inputs from the 100 activations of the past layer, and does 100 affine transforms. These are followed by a Relu\n",
    "- A third affine layer has 100 activations and does 2 affine transformations to create an embedding for visualization. There is no non-linearity here.\n",
    "- A final \"logistic regression\" which has an affine transform from 2 inputs to 1 output, which is squeezed through a sigmoid.\n",
    "\n",
    "Help taken from Anshuman's Notebook."
   ]
  },
  {
   "cell_type": "code",
   "execution_count": 18,
   "metadata": {
    "execution": {
     "iopub.execute_input": "2020-08-27T00:05:59.330971Z",
     "iopub.status.busy": "2020-08-27T00:05:59.330257Z",
     "iopub.status.idle": "2020-08-27T00:05:59.348443Z",
     "shell.execute_reply": "2020-08-27T00:05:59.347927Z"
    },
    "papermill": {
     "duration": 0.055255,
     "end_time": "2020-08-27T00:05:59.348574",
     "exception": false,
     "start_time": "2020-08-27T00:05:59.293319",
     "status": "completed"
    },
    "tags": []
   },
   "outputs": [],
   "source": [
    "# layers for the Neural Network\n",
    "layers = [Affine(\"first\", 784, 100), Relu(\"first\"), Affine(\"second\", 100, 100), Relu(\"second\"), Affine(\"third\", 100, 2), Affine(\"final\", 2, 1), Sigmoid(\"final\")]\n",
    "model_nn = Model(layers)\n",
    "\n",
    "# layers for the Logistic Regression\n",
    "layers_lr = [Affine(\"logits\", 784, 1), Sigmoid(\"sigmoid\")]\n",
    "model_lr = Model(layers_lr)"
   ]
  },
  {
   "cell_type": "code",
   "execution_count": 19,
   "metadata": {
    "execution": {
     "iopub.execute_input": "2020-08-27T00:05:59.417786Z",
     "iopub.status.busy": "2020-08-27T00:05:59.417091Z",
     "iopub.status.idle": "2020-08-27T00:05:59.428967Z",
     "shell.execute_reply": "2020-08-27T00:05:59.429615Z"
    },
    "papermill": {
     "duration": 0.049386,
     "end_time": "2020-08-27T00:05:59.429898",
     "exception": false,
     "start_time": "2020-08-27T00:05:59.380512",
     "status": "completed"
    },
    "tags": []
   },
   "outputs": [],
   "source": [
    "# suffix _nn stands for Neural Network.\n",
    "learner_nn = Learner(loss, model_nn, opt, config.num_epochs)\n",
    "acc_nn = ClfCallback(learner_nn, config.bs, training_xdata , testing_xdata, training_ydata, testing_ydata)\n",
    "learner_nn.set_callbacks([acc_nn])"
   ]
  },
  {
   "cell_type": "code",
   "execution_count": 20,
   "metadata": {
    "execution": {
     "iopub.execute_input": "2020-08-27T00:05:59.502728Z",
     "iopub.status.busy": "2020-08-27T00:05:59.502083Z",
     "iopub.status.idle": "2020-08-27T00:08:18.047290Z",
     "shell.execute_reply": "2020-08-27T00:08:18.046800Z"
    },
    "papermill": {
     "duration": 138.584551,
     "end_time": "2020-08-27T00:08:18.047421",
     "exception": false,
     "start_time": "2020-08-27T00:05:59.462870",
     "status": "completed"
    },
    "tags": []
   },
   "outputs": [
    {
     "name": "stdout",
     "output_type": "stream",
     "text": [
      "====== Neural Network ======\n"
     ]
    },
    {
     "name": "stdout",
     "output_type": "stream",
     "text": [
      "Epoch 0, Loss 0.2556\n",
      "Training Accuracy: 0.4468, Testing Accuracy: 0.4189\n",
      "\n"
     ]
    },
    {
     "name": "stdout",
     "output_type": "stream",
     "text": [
      "Epoch 10, Loss 0.2078\n",
      "Training Accuracy: 0.8383, Testing Accuracy: 0.8463\n",
      "\n"
     ]
    },
    {
     "name": "stdout",
     "output_type": "stream",
     "text": [
      "Epoch 20, Loss 0.1109\n",
      "Training Accuracy: 0.9022, Testing Accuracy: 0.9173\n",
      "\n"
     ]
    },
    {
     "name": "stdout",
     "output_type": "stream",
     "text": [
      "Epoch 30, Loss 0.0666\n",
      "Training Accuracy: 0.9279, Testing Accuracy: 0.9430\n",
      "\n"
     ]
    },
    {
     "name": "stdout",
     "output_type": "stream",
     "text": [
      "Epoch 40, Loss 0.0507\n",
      "Training Accuracy: 0.9432, Testing Accuracy: 0.9516\n",
      "\n"
     ]
    },
    {
     "name": "stdout",
     "output_type": "stream",
     "text": [
      "Epoch 50, Loss 0.043\n",
      "Training Accuracy: 0.9507, Testing Accuracy: 0.9597\n",
      "\n"
     ]
    },
    {
     "name": "stdout",
     "output_type": "stream",
     "text": [
      "Epoch 60, Loss 0.0384\n",
      "Training Accuracy: 0.9553, Testing Accuracy: 0.9632\n",
      "\n"
     ]
    },
    {
     "name": "stdout",
     "output_type": "stream",
     "text": [
      "Epoch 70, Loss 0.0354\n",
      "Training Accuracy: 0.9593, Testing Accuracy: 0.9637\n",
      "\n"
     ]
    },
    {
     "name": "stdout",
     "output_type": "stream",
     "text": [
      "Epoch 80, Loss 0.0332\n",
      "Training Accuracy: 0.9618, Testing Accuracy: 0.9662\n",
      "\n"
     ]
    },
    {
     "name": "stdout",
     "output_type": "stream",
     "text": [
      "Epoch 90, Loss 0.0315\n",
      "Training Accuracy: 0.9636, Testing Accuracy: 0.9682\n",
      "\n"
     ]
    },
    {
     "name": "stdout",
     "output_type": "stream",
     "text": [
      "Epoch 100, Loss 0.0302\n",
      "Training Accuracy: 0.9649, Testing Accuracy: 0.9703\n",
      "\n"
     ]
    },
    {
     "name": "stdout",
     "output_type": "stream",
     "text": [
      "Epoch 110, Loss 0.0291\n",
      "Training Accuracy: 0.9663, Testing Accuracy: 0.9703\n",
      "\n"
     ]
    },
    {
     "name": "stdout",
     "output_type": "stream",
     "text": [
      "Epoch 120, Loss 0.0281\n",
      "Training Accuracy: 0.9673, Testing Accuracy: 0.9698\n",
      "\n"
     ]
    },
    {
     "name": "stdout",
     "output_type": "stream",
     "text": [
      "Epoch 130, Loss 0.0272\n",
      "Training Accuracy: 0.9681, Testing Accuracy: 0.9693\n",
      "\n"
     ]
    },
    {
     "name": "stdout",
     "output_type": "stream",
     "text": [
      "Epoch 140, Loss 0.0265\n",
      "Training Accuracy: 0.9690, Testing Accuracy: 0.9682\n",
      "\n"
     ]
    },
    {
     "name": "stdout",
     "output_type": "stream",
     "text": [
      "Epoch 150, Loss 0.0258\n",
      "Training Accuracy: 0.9696, Testing Accuracy: 0.9688\n",
      "\n"
     ]
    },
    {
     "name": "stdout",
     "output_type": "stream",
     "text": [
      "Epoch 160, Loss 0.0252\n",
      "Training Accuracy: 0.9705, Testing Accuracy: 0.9688\n",
      "\n"
     ]
    },
    {
     "name": "stdout",
     "output_type": "stream",
     "text": [
      "Epoch 170, Loss 0.0246\n",
      "Training Accuracy: 0.9715, Testing Accuracy: 0.9698\n",
      "\n"
     ]
    },
    {
     "name": "stdout",
     "output_type": "stream",
     "text": [
      "Epoch 180, Loss 0.0241\n",
      "Training Accuracy: 0.9719, Testing Accuracy: 0.9708\n",
      "\n"
     ]
    },
    {
     "name": "stdout",
     "output_type": "stream",
     "text": [
      "Epoch 190, Loss 0.0236\n",
      "Training Accuracy: 0.9731, Testing Accuracy: 0.9708\n",
      "\n"
     ]
    },
    {
     "name": "stdout",
     "output_type": "stream",
     "text": [
      "Epoch 200, Loss 0.0231\n",
      "Training Accuracy: 0.9739, Testing Accuracy: 0.9708\n",
      "\n"
     ]
    },
    {
     "name": "stdout",
     "output_type": "stream",
     "text": [
      "Epoch 210, Loss 0.0227\n",
      "Training Accuracy: 0.9743, Testing Accuracy: 0.9708\n",
      "\n"
     ]
    },
    {
     "name": "stdout",
     "output_type": "stream",
     "text": [
      "Epoch 220, Loss 0.0223\n",
      "Training Accuracy: 0.9745, Testing Accuracy: 0.9713\n",
      "\n"
     ]
    },
    {
     "name": "stdout",
     "output_type": "stream",
     "text": [
      "Epoch 230, Loss 0.0219\n",
      "Training Accuracy: 0.9748, Testing Accuracy: 0.9713\n",
      "\n"
     ]
    },
    {
     "name": "stdout",
     "output_type": "stream",
     "text": [
      "Epoch 240, Loss 0.0215\n",
      "Training Accuracy: 0.9755, Testing Accuracy: 0.9718\n",
      "\n"
     ]
    },
    {
     "name": "stdout",
     "output_type": "stream",
     "text": [
      "Epoch 250, Loss 0.0212\n",
      "Training Accuracy: 0.9763, Testing Accuracy: 0.9718\n",
      "\n"
     ]
    },
    {
     "data": {
      "text/plain": [
       "0.03283217041151547"
      ]
     },
     "execution_count": 20,
     "metadata": {},
     "output_type": "execute_result"
    }
   ],
   "source": [
    "print(\"====== Neural Network ======\")\n",
    "learner_nn.train_loop(dl)"
   ]
  },
  {
   "cell_type": "markdown",
   "metadata": {
    "papermill": {
     "duration": 0.039071,
     "end_time": "2020-08-27T00:08:18.130714",
     "exception": false,
     "start_time": "2020-08-27T00:08:18.091643",
     "status": "completed"
    },
    "tags": []
   },
   "source": [
    "### Logistic Regression based Implementation."
   ]
  },
  {
   "cell_type": "code",
   "execution_count": 21,
   "metadata": {
    "execution": {
     "iopub.execute_input": "2020-08-27T00:08:18.222749Z",
     "iopub.status.busy": "2020-08-27T00:08:18.222109Z",
     "iopub.status.idle": "2020-08-27T00:08:18.235106Z",
     "shell.execute_reply": "2020-08-27T00:08:18.235687Z"
    },
    "papermill": {
     "duration": 0.06305,
     "end_time": "2020-08-27T00:08:18.235875",
     "exception": false,
     "start_time": "2020-08-27T00:08:18.172825",
     "status": "completed"
    },
    "tags": []
   },
   "outputs": [],
   "source": [
    "learner_lr = Learner(loss, model_lr, opt, config.num_epochs)\n",
    "acc_lr = ClfCallback(learner_lr, config.bs, training_xdata , testing_xdata, training_ydata, testing_ydata)\n",
    "learner_lr.set_callbacks([acc_lr])"
   ]
  },
  {
   "cell_type": "code",
   "execution_count": 22,
   "metadata": {
    "execution": {
     "iopub.execute_input": "2020-08-27T00:08:18.324922Z",
     "iopub.status.busy": "2020-08-27T00:08:18.324199Z",
     "iopub.status.idle": "2020-08-27T00:08:38.626821Z",
     "shell.execute_reply": "2020-08-27T00:08:38.627699Z"
    },
    "papermill": {
     "duration": 20.350232,
     "end_time": "2020-08-27T00:08:38.627867",
     "exception": false,
     "start_time": "2020-08-27T00:08:18.277635",
     "status": "completed"
    },
    "tags": []
   },
   "outputs": [
    {
     "name": "stdout",
     "output_type": "stream",
     "text": [
      "====== Logistic Regression ======\n",
      "Epoch 0, Loss 0.2677\n",
      "Training Accuracy: 0.5729, Testing Accuracy: 0.5711\n",
      "\n"
     ]
    },
    {
     "name": "stdout",
     "output_type": "stream",
     "text": [
      "Epoch 10, Loss 0.1072\n",
      "Training Accuracy: 0.9047, Testing Accuracy: 0.9118\n",
      "\n"
     ]
    },
    {
     "name": "stdout",
     "output_type": "stream",
     "text": [
      "Epoch 20, Loss 0.0812\n",
      "Training Accuracy: 0.9245, Testing Accuracy: 0.9325\n",
      "\n"
     ]
    },
    {
     "name": "stdout",
     "output_type": "stream",
     "text": [
      "Epoch 30, Loss 0.0695\n",
      "Training Accuracy: 0.9364, Testing Accuracy: 0.9405\n",
      "\n"
     ]
    },
    {
     "name": "stdout",
     "output_type": "stream",
     "text": [
      "Epoch 40, Loss 0.0626\n",
      "Training Accuracy: 0.9409, Testing Accuracy: 0.9481\n",
      "\n"
     ]
    },
    {
     "name": "stdout",
     "output_type": "stream",
     "text": [
      "Epoch 50, Loss 0.0579\n",
      "Training Accuracy: 0.9436, Testing Accuracy: 0.9521\n",
      "\n"
     ]
    },
    {
     "name": "stdout",
     "output_type": "stream",
     "text": [
      "Epoch 60, Loss 0.0545\n",
      "Training Accuracy: 0.9462, Testing Accuracy: 0.9531\n",
      "\n"
     ]
    },
    {
     "name": "stdout",
     "output_type": "stream",
     "text": [
      "Epoch 70, Loss 0.0519\n",
      "Training Accuracy: 0.9479, Testing Accuracy: 0.9561\n",
      "\n"
     ]
    },
    {
     "name": "stdout",
     "output_type": "stream",
     "text": [
      "Epoch 80, Loss 0.0498\n",
      "Training Accuracy: 0.9497, Testing Accuracy: 0.9592\n",
      "\n"
     ]
    },
    {
     "name": "stdout",
     "output_type": "stream",
     "text": [
      "Epoch 90, Loss 0.0481\n",
      "Training Accuracy: 0.9508, Testing Accuracy: 0.9607\n",
      "\n"
     ]
    },
    {
     "name": "stdout",
     "output_type": "stream",
     "text": [
      "Epoch 100, Loss 0.0467\n",
      "Training Accuracy: 0.9523, Testing Accuracy: 0.9617\n",
      "\n"
     ]
    },
    {
     "name": "stdout",
     "output_type": "stream",
     "text": [
      "Epoch 110, Loss 0.0454\n",
      "Training Accuracy: 0.9531, Testing Accuracy: 0.9612\n",
      "\n"
     ]
    },
    {
     "name": "stdout",
     "output_type": "stream",
     "text": [
      "Epoch 120, Loss 0.0443\n",
      "Training Accuracy: 0.9544, Testing Accuracy: 0.9612\n",
      "\n"
     ]
    },
    {
     "name": "stdout",
     "output_type": "stream",
     "text": [
      "Epoch 130, Loss 0.0434\n",
      "Training Accuracy: 0.9551, Testing Accuracy: 0.9622\n",
      "\n"
     ]
    },
    {
     "name": "stdout",
     "output_type": "stream",
     "text": [
      "Epoch 140, Loss 0.0425\n",
      "Training Accuracy: 0.9555, Testing Accuracy: 0.9627\n",
      "\n"
     ]
    },
    {
     "name": "stdout",
     "output_type": "stream",
     "text": [
      "Epoch 150, Loss 0.0418\n",
      "Training Accuracy: 0.9562, Testing Accuracy: 0.9632\n",
      "\n"
     ]
    },
    {
     "name": "stdout",
     "output_type": "stream",
     "text": [
      "Epoch 160, Loss 0.0411\n",
      "Training Accuracy: 0.9567, Testing Accuracy: 0.9642\n",
      "\n"
     ]
    },
    {
     "name": "stdout",
     "output_type": "stream",
     "text": [
      "Epoch 170, Loss 0.0405\n",
      "Training Accuracy: 0.9573, Testing Accuracy: 0.9647\n",
      "\n"
     ]
    },
    {
     "name": "stdout",
     "output_type": "stream",
     "text": [
      "Epoch 180, Loss 0.0399\n",
      "Training Accuracy: 0.9579, Testing Accuracy: 0.9647\n",
      "\n"
     ]
    },
    {
     "name": "stdout",
     "output_type": "stream",
     "text": [
      "Epoch 190, Loss 0.0394\n",
      "Training Accuracy: 0.9586, Testing Accuracy: 0.9657\n",
      "\n"
     ]
    },
    {
     "name": "stdout",
     "output_type": "stream",
     "text": [
      "Epoch 200, Loss 0.0389\n",
      "Training Accuracy: 0.9589, Testing Accuracy: 0.9652\n",
      "\n"
     ]
    },
    {
     "name": "stdout",
     "output_type": "stream",
     "text": [
      "Epoch 210, Loss 0.0384\n",
      "Training Accuracy: 0.9593, Testing Accuracy: 0.9652\n",
      "\n"
     ]
    },
    {
     "name": "stdout",
     "output_type": "stream",
     "text": [
      "Epoch 220, Loss 0.038\n",
      "Training Accuracy: 0.9594, Testing Accuracy: 0.9657\n",
      "\n"
     ]
    },
    {
     "name": "stdout",
     "output_type": "stream",
     "text": [
      "Epoch 230, Loss 0.0376\n",
      "Training Accuracy: 0.9598, Testing Accuracy: 0.9657\n",
      "\n"
     ]
    },
    {
     "name": "stdout",
     "output_type": "stream",
     "text": [
      "Epoch 240, Loss 0.0372\n",
      "Training Accuracy: 0.9599, Testing Accuracy: 0.9657\n",
      "\n"
     ]
    },
    {
     "name": "stdout",
     "output_type": "stream",
     "text": [
      "Epoch 250, Loss 0.0369\n",
      "Training Accuracy: 0.9604, Testing Accuracy: 0.9662\n",
      "\n"
     ]
    },
    {
     "data": {
      "text/plain": [
       "0.0649741470784112"
      ]
     },
     "execution_count": 22,
     "metadata": {},
     "output_type": "execute_result"
    }
   ],
   "source": [
    "print(\"====== Logistic Regression ======\")\n",
    "learner_lr.train_loop(dl)"
   ]
  },
  {
   "cell_type": "markdown",
   "metadata": {
    "papermill": {
     "duration": 0.048192,
     "end_time": "2020-08-27T00:08:38.724969",
     "exception": false,
     "start_time": "2020-08-27T00:08:38.676777",
     "status": "completed"
    },
    "tags": []
   },
   "source": [
    "### Comparing results of NN and LR"
   ]
  },
  {
   "cell_type": "code",
   "execution_count": 23,
   "metadata": {
    "execution": {
     "iopub.execute_input": "2020-08-27T00:08:38.827115Z",
     "iopub.status.busy": "2020-08-27T00:08:38.826395Z",
     "iopub.status.idle": "2020-08-27T00:08:39.110365Z",
     "shell.execute_reply": "2020-08-27T00:08:39.110900Z"
    },
    "papermill": {
     "duration": 0.337226,
     "end_time": "2020-08-27T00:08:39.111057",
     "exception": false,
     "start_time": "2020-08-27T00:08:38.773831",
     "status": "completed"
    },
    "tags": []
   },
   "outputs": [
    {
     "data": {
      "text/plain": [
       "<matplotlib.legend.Legend at 0x7fb120c4a2b0>"
      ]
     },
     "execution_count": 23,
     "metadata": {},
     "output_type": "execute_result"
    },
    {
     "data": {
      "image/png": "[encoded data removed]",
      "text/plain": [
       "<Figure size 1080x720 with 1 Axes>"
      ]
     },
     "metadata": {
      "needs_background": "light"
     },
     "output_type": "display_data"
    }
   ],
   "source": [
    "plt.figure(figsize=(15,10))\n",
    "\n",
    "# Neural Network plots\n",
    "plt.plot(acc_nn.accuracies, 'r-', label = \"Training Accuracies - NN\")\n",
    "plt.plot(acc_nn.test_accuracies, 'g-', label = \"Testing Accuracies - NN\")\n",
    "\n",
    "# Logistic Regression plots\n",
    "plt.plot(acc_lr.accuracies, 'k-', label = \"Training Accuracies - LR\")\n",
    "plt.plot(acc_lr.test_accuracies, 'b-', label = \"Testing Accuracies - LR\")\n",
    "\n",
    "plt.ylim(0.8, 1)\n",
    "\n",
    "plt.legend()\n",
    "\n"
   ]
  },
  {
   "cell_type": "markdown",
   "metadata": {
    "papermill": {
     "duration": 0.052534,
     "end_time": "2020-08-27T00:08:39.213226",
     "exception": false,
     "start_time": "2020-08-27T00:08:39.160692",
     "status": "completed"
    },
    "tags": []
   },
   "source": [
    "### From the plot, we can observe the following:\n",
    "- Neural Network achieves higher accuracy than the Logistic Regression model.\n",
    "- This apparently, is because of overfitting, i.e. NN captures more noise than data.\n",
    "- Testing accuracy of NN drops below the Training accuracy at higher epochs. This explains the over-fitting on training data.\n",
    "- Logistic Regression gives a reliable accuracy, without the above mentioned problem.\n"
   ]
  },
  {
   "cell_type": "markdown",
   "metadata": {
    "papermill": {
     "duration": 0.051847,
     "end_time": "2020-08-27T00:08:39.318513",
     "exception": false,
     "start_time": "2020-08-27T00:08:39.266666",
     "status": "completed"
    },
    "tags": []
   },
   "source": [
    "### Moving till the last but one layer (excluding it).\n",
    "#### Plotting the outputs of this layer of the NN."
   ]
  },
  {
   "cell_type": "code",
   "execution_count": 24,
   "metadata": {
    "execution": {
     "iopub.execute_input": "2020-08-27T00:08:39.433396Z",
     "iopub.status.busy": "2020-08-27T00:08:39.430536Z",
     "iopub.status.idle": "2020-08-27T00:08:39.443707Z",
     "shell.execute_reply": "2020-08-27T00:08:39.444285Z"
    },
    "papermill": {
     "duration": 0.072657,
     "end_time": "2020-08-27T00:08:39.444422",
     "exception": false,
     "start_time": "2020-08-27T00:08:39.371765",
     "status": "completed"
    },
    "tags": []
   },
   "outputs": [],
   "source": [
    "model_new = Model(layers[:-2])"
   ]
  },
  {
   "cell_type": "code",
   "execution_count": 25,
   "metadata": {
    "execution": {
     "iopub.execute_input": "2020-08-27T00:08:39.552468Z",
     "iopub.status.busy": "2020-08-27T00:08:39.551748Z",
     "iopub.status.idle": "2020-08-27T00:08:39.578902Z",
     "shell.execute_reply": "2020-08-27T00:08:39.579455Z"
    },
    "papermill": {
     "duration": 0.084533,
     "end_time": "2020-08-27T00:08:39.579624",
     "exception": false,
     "start_time": "2020-08-27T00:08:39.495091",
     "status": "completed"
    },
    "tags": []
   },
   "outputs": [],
   "source": [
    "plot_testing = model_new(testing_xdata)"
   ]
  },
  {
   "cell_type": "code",
   "execution_count": 26,
   "metadata": {
    "execution": {
     "iopub.execute_input": "2020-08-27T00:08:39.693824Z",
     "iopub.status.busy": "2020-08-27T00:08:39.693114Z",
     "iopub.status.idle": "2020-08-27T00:08:39.937477Z",
     "shell.execute_reply": "2020-08-27T00:08:39.938029Z"
    },
    "papermill": {
     "duration": 0.306942,
     "end_time": "2020-08-27T00:08:39.938205",
     "exception": false,
     "start_time": "2020-08-27T00:08:39.631263",
     "status": "completed"
    },
    "tags": []
   },
   "outputs": [
    {
     "data": {
      "text/plain": [
       "Text(0.5, 1.0, 'Outputs')"
      ]
     },
     "execution_count": 26,
     "metadata": {},
     "output_type": "execute_result"
    },
    {
     "data": {
      "image/png": "[encoded data removed]",
      "text/plain": [
       "<Figure size 576x504 with 1 Axes>"
      ]
     },
     "metadata": {
      "needs_background": "light"
     },
     "output_type": "display_data"
    }
   ],
   "source": [
    "plt.figure(figsize=(8,7))\n",
    "plt.scatter(plot_testing[:,0], plot_testing[:,1], alpha = 0.1, c = y_test.ravel());\n",
    "plt.title('Outputs')"
   ]
  },
  {
   "cell_type": "markdown",
   "metadata": {
    "papermill": {
     "duration": 0.052199,
     "end_time": "2020-08-27T00:08:40.043211",
     "exception": false,
     "start_time": "2020-08-27T00:08:39.991012",
     "status": "completed"
    },
    "tags": []
   },
   "source": [
    "### Plotting probability contours"
   ]
  },
  {
   "cell_type": "code",
   "execution_count": 27,
   "metadata": {
    "execution": {
     "iopub.execute_input": "2020-08-27T00:08:40.155869Z",
     "iopub.status.busy": "2020-08-27T00:08:40.154008Z",
     "iopub.status.idle": "2020-08-27T00:08:40.166645Z",
     "shell.execute_reply": "2020-08-27T00:08:40.166144Z"
    },
    "papermill": {
     "duration": 0.070122,
     "end_time": "2020-08-27T00:08:40.166779",
     "exception": false,
     "start_time": "2020-08-27T00:08:40.096657",
     "status": "completed"
    },
    "tags": []
   },
   "outputs": [],
   "source": [
    "model_prob = Model(layers[-2:]) "
   ]
  },
  {
   "cell_type": "code",
   "execution_count": 28,
   "metadata": {
    "execution": {
     "iopub.execute_input": "2020-08-27T00:08:40.280273Z",
     "iopub.status.busy": "2020-08-27T00:08:40.279595Z",
     "iopub.status.idle": "2020-08-27T00:08:40.292205Z",
     "shell.execute_reply": "2020-08-27T00:08:40.292770Z"
    },
    "papermill": {
     "duration": 0.07398,
     "end_time": "2020-08-27T00:08:40.292921",
     "exception": false,
     "start_time": "2020-08-27T00:08:40.218941",
     "status": "completed"
    },
    "tags": []
   },
   "outputs": [],
   "source": [
    "# Adjust the x and y ranges according to the above generated plot.\n",
    "x_range = np.linspace(-4, 1, 100) \n",
    "y_range = np.linspace(-6, 6, 100) \n",
    "x_grid, y_grid = np.meshgrid(x_range, y_range) # x_grid and y_grig are of size 100 X 100\n",
    "\n",
    "# converting x_grid and y_grid to continuous arrays\n",
    "x_grid_flat = np.ravel(x_grid)\n",
    "y_grid_flat = np.ravel(y_grid)\n",
    "\n",
    "# The last layer of the current model takes two columns as input. Hence transpose of np.vstack() is required.\n",
    "X = np.vstack((x_grid_flat, y_grid_flat)).T\n",
    "\n",
    "# x_grid and y_grid are of size 100 x 100\n",
    "probability_contour = model_prob(X).reshape(100,100) "
   ]
  },
  {
   "cell_type": "code",
   "execution_count": 29,
   "metadata": {
    "execution": {
     "iopub.execute_input": "2020-08-27T00:08:40.432388Z",
     "iopub.status.busy": "2020-08-27T00:08:40.431775Z",
     "iopub.status.idle": "2020-08-27T00:08:40.718796Z",
     "shell.execute_reply": "2020-08-27T00:08:40.719343Z"
    },
    "papermill": {
     "duration": 0.372764,
     "end_time": "2020-08-27T00:08:40.719492",
     "exception": false,
     "start_time": "2020-08-27T00:08:40.346728",
     "status": "completed"
    },
    "tags": []
   },
   "outputs": [
    {
     "data": {
      "image/png": "[encoded data removed]",
      "text/plain": [
       "<Figure size 720x648 with 1 Axes>"
      ]
     },
     "metadata": {
      "needs_background": "light"
     },
     "output_type": "display_data"
    }
   ],
   "source": [
    "plt.figure(figsize=(10,9))\n",
    "plt.scatter(plot_testing[:,0], plot_testing[:,1], alpha = 0.1, c = y_test.ravel())\n",
    "contours = plt.contour(x_grid,y_grid,probability_contour)\n",
    "plt.title('Probability Contours')\n",
    "plt.clabel(contours, inline = True );"
   ]
  }
 ],
 "metadata": {
  "kernelspec": {
   "display_name": "Python 3",
   "language": "python",
   "name": "python3"
  },
  "language_info": {
   "codemirror_mode": {
    "name": "ipython",
    "version": 3
   },
   "file_extension": ".py",
   "mimetype": "text/x-python",
   "name": "python",
   "nbconvert_exporter": "python",
   "pygments_lexer": "ipython3",
   "version": "3.6.11"
  },
  "papermill": {
   "duration": 170.221301,
   "end_time": "2020-08-27T00:08:41.079661",
   "environment_variables": {},
   "exception": null,
   "input_path": "2020-08-11-NeuralNetwork.ipynb",
   "output_path": "2020-08-11-NeuralNetwork.ipynb",
   "parameters": {},
   "start_time": "2020-08-27T00:05:50.858360",
   "version": "2.1.2"
  }
 },
 "nbformat": 4,
 "nbformat_minor": 4
}