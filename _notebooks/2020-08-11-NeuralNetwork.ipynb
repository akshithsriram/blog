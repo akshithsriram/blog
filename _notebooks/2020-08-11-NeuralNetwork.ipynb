{
 "cells": [
  {
   "cell_type": "markdown",
   "id": "fitted-suggestion",
   "metadata": {
    "papermill": {
     "duration": 0.036928,
     "end_time": "2021-02-03T20:04:24.076705",
     "exception": false,
     "start_time": "2021-02-03T20:04:24.039777",
     "status": "completed"
    },
    "tags": []
   },
   "source": [
    "# \"A Basic Neural Network: Differentiate Hand-Written Digits\"\n",
    "\n",
    "- badges: true\n",
    "- author: Akshith Sriram"
   ]
  },
  {
   "cell_type": "markdown",
   "id": "signal-flexibility",
   "metadata": {
    "papermill": {
     "duration": 0.032985,
     "end_time": "2021-02-03T20:04:24.140480",
     "exception": false,
     "start_time": "2021-02-03T20:04:24.107495",
     "status": "completed"
    },
    "tags": []
   },
   "source": [
    "### Key Objectives:\n",
    "- Building a neural network that differentiates two hand-written digits 3 and 8.\n",
    "- Comparing the results of this Neural Network (NN) to that of a Logistic Regression (LR) model.\n",
    "\n",
    "### Requirements:\n",
    "- 'Kudzu' : A neural network library that was designed during our course by [Univ.AI](www.univ.ai). \n",
    "- MNIST Database\n",
    "\n",
    "If MNIST is not installed, use the command `!pip install mnist` given below.\n",
    "It can be run both from the command line and Jupyter Notebook."
   ]
  },
  {
   "cell_type": "code",
   "execution_count": 1,
   "id": "british-texture",
   "metadata": {
    "execution": {
     "iopub.execute_input": "2021-02-03T20:04:24.212197Z",
     "iopub.status.busy": "2021-02-03T20:04:24.211581Z",
     "iopub.status.idle": "2021-02-03T20:04:25.790927Z",
     "shell.execute_reply": "2021-02-03T20:04:25.790009Z"
    },
    "papermill": {
     "duration": 1.621089,
     "end_time": "2021-02-03T20:04:25.791128",
     "exception": false,
     "start_time": "2021-02-03T20:04:24.170039",
     "status": "completed"
    },
    "tags": []
   },
   "outputs": [
    {
     "name": "stdout",
     "output_type": "stream",
     "text": [
      "Collecting mnist\r\n"
     ]
    },
    {
     "name": "stdout",
     "output_type": "stream",
     "text": [
      "  Downloading mnist-0.2.2-py2.py3-none-any.whl (3.5 kB)\r\n",
      "Requirement already satisfied: numpy in /opt/hostedtoolcache/Python/3.6.12/x64/lib/python3.6/site-packages (from mnist) (1.19.5)\r\n"
     ]
    },
    {
     "name": "stdout",
     "output_type": "stream",
     "text": [
      "Installing collected packages: mnist\r\n"
     ]
    },
    {
     "name": "stdout",
     "output_type": "stream",
     "text": [
      "Successfully installed mnist-0.2.2\r\n"
     ]
    },
    {
     "name": "stdout",
     "output_type": "stream",
     "text": [
      "\u001b[33mWARNING: You are using pip version 20.3.4; however, version 21.0.1 is available.\r\n",
      "You should consider upgrading via the '/opt/hostedtoolcache/Python/3.6.12/x64/bin/python -m pip install --upgrade pip' command.\u001b[0m\r\n"
     ]
    }
   ],
   "source": [
    "!pip install mnist "
   ]
  },
  {
   "cell_type": "markdown",
   "id": "stunning-extra",
   "metadata": {
    "papermill": {
     "duration": 0.031235,
     "end_time": "2021-02-03T20:04:25.855946",
     "exception": false,
     "start_time": "2021-02-03T20:04:25.824711",
     "status": "completed"
    },
    "tags": []
   },
   "source": [
    "#### Importing necessary libraries"
   ]
  },
  {
   "cell_type": "code",
   "execution_count": 2,
   "id": "wooden-france",
   "metadata": {
    "execution": {
     "iopub.execute_input": "2021-02-03T20:04:25.925732Z",
     "iopub.status.busy": "2021-02-03T20:04:25.925125Z",
     "iopub.status.idle": "2021-02-03T20:04:26.534258Z",
     "shell.execute_reply": "2021-02-03T20:04:26.534809Z"
    },
    "papermill": {
     "duration": 0.647532,
     "end_time": "2021-02-03T20:04:26.535019",
     "exception": false,
     "start_time": "2021-02-03T20:04:25.887487",
     "status": "completed"
    },
    "tags": []
   },
   "outputs": [],
   "source": [
    "%load_ext autoreload\n",
    "%autoreload 2\n",
    "\n",
    "%matplotlib inline\n",
    "import matplotlib.pyplot as plt\n",
    "\n",
    "import numpy as np\n",
    "import pandas as pd"
   ]
  },
  {
   "cell_type": "markdown",
   "id": "stunning-physics",
   "metadata": {
    "papermill": {
     "duration": 0.03308,
     "end_time": "2021-02-03T20:04:26.601798",
     "exception": false,
     "start_time": "2021-02-03T20:04:26.568718",
     "status": "completed"
    },
    "tags": []
   },
   "source": [
    "### Preparing the Data"
   ]
  },
  {
   "cell_type": "code",
   "execution_count": 3,
   "id": "unauthorized-remainder",
   "metadata": {
    "execution": {
     "iopub.execute_input": "2021-02-03T20:04:26.689461Z",
     "iopub.status.busy": "2021-02-03T20:04:26.688665Z",
     "iopub.status.idle": "2021-02-03T20:04:26.692739Z",
     "shell.execute_reply": "2021-02-03T20:04:26.692098Z"
    },
    "papermill": {
     "duration": 0.058308,
     "end_time": "2021-02-03T20:04:26.692875",
     "exception": false,
     "start_time": "2021-02-03T20:04:26.634567",
     "status": "completed"
    },
    "tags": []
   },
   "outputs": [],
   "source": [
    "import mnist"
   ]
  },
  {
   "cell_type": "code",
   "execution_count": 4,
   "id": "correct-antarctica",
   "metadata": {
    "execution": {
     "iopub.execute_input": "2021-02-03T20:04:26.759447Z",
     "iopub.status.busy": "2021-02-03T20:04:26.758731Z",
     "iopub.status.idle": "2021-02-03T20:04:28.476583Z",
     "shell.execute_reply": "2021-02-03T20:04:28.475897Z"
    },
    "papermill": {
     "duration": 1.75189,
     "end_time": "2021-02-03T20:04:28.476812",
     "exception": false,
     "start_time": "2021-02-03T20:04:26.724922",
     "status": "completed"
    },
    "tags": []
   },
   "outputs": [],
   "source": [
    "train_images = mnist.train_images()\n",
    "train_labels = mnist.train_labels()"
   ]
  },
  {
   "cell_type": "code",
   "execution_count": 5,
   "id": "musical-prospect",
   "metadata": {
    "execution": {
     "iopub.execute_input": "2021-02-03T20:04:28.559934Z",
     "iopub.status.busy": "2021-02-03T20:04:28.559239Z",
     "iopub.status.idle": "2021-02-03T20:04:28.570167Z",
     "shell.execute_reply": "2021-02-03T20:04:28.570936Z"
    },
    "papermill": {
     "duration": 0.062636,
     "end_time": "2021-02-03T20:04:28.571114",
     "exception": false,
     "start_time": "2021-02-03T20:04:28.508478",
     "status": "completed"
    },
    "tags": []
   },
   "outputs": [
    {
     "data": {
      "text/plain": [
       "((60000, 28, 28), (60000,))"
      ]
     },
     "execution_count": 5,
     "metadata": {},
     "output_type": "execute_result"
    }
   ],
   "source": [
    "train_images.shape, train_labels.shape"
   ]
  },
  {
   "cell_type": "code",
   "execution_count": 6,
   "id": "preliminary-elizabeth",
   "metadata": {
    "execution": {
     "iopub.execute_input": "2021-02-03T20:04:28.942078Z",
     "iopub.status.busy": "2021-02-03T20:04:28.941244Z",
     "iopub.status.idle": "2021-02-03T20:04:29.820331Z",
     "shell.execute_reply": "2021-02-03T20:04:29.819688Z"
    },
    "papermill": {
     "duration": 1.155498,
     "end_time": "2021-02-03T20:04:29.820496",
     "exception": false,
     "start_time": "2021-02-03T20:04:28.664998",
     "status": "completed"
    },
    "tags": []
   },
   "outputs": [],
   "source": [
    "test_images = mnist.test_images()\n",
    "test_labels = mnist.test_labels()"
   ]
  },
  {
   "cell_type": "code",
   "execution_count": 7,
   "id": "acknowledged-oxygen",
   "metadata": {
    "execution": {
     "iopub.execute_input": "2021-02-03T20:04:29.894448Z",
     "iopub.status.busy": "2021-02-03T20:04:29.893743Z",
     "iopub.status.idle": "2021-02-03T20:04:29.908201Z",
     "shell.execute_reply": "2021-02-03T20:04:29.907542Z"
    },
    "papermill": {
     "duration": 0.053906,
     "end_time": "2021-02-03T20:04:29.908394",
     "exception": false,
     "start_time": "2021-02-03T20:04:29.854488",
     "status": "completed"
    },
    "tags": []
   },
   "outputs": [
    {
     "data": {
      "text/plain": [
       "((10000, 28, 28), (10000,))"
      ]
     },
     "execution_count": 7,
     "metadata": {},
     "output_type": "execute_result"
    }
   ],
   "source": [
    "test_images.shape, test_labels.shape"
   ]
  },
  {
   "cell_type": "code",
   "execution_count": 8,
   "id": "innovative-organic",
   "metadata": {
    "execution": {
     "iopub.execute_input": "2021-02-03T20:04:29.981928Z",
     "iopub.status.busy": "2021-02-03T20:04:29.981257Z",
     "iopub.status.idle": "2021-02-03T20:04:30.161753Z",
     "shell.execute_reply": "2021-02-03T20:04:30.161146Z"
    },
    "papermill": {
     "duration": 0.221444,
     "end_time": "2021-02-03T20:04:30.161949",
     "exception": false,
     "start_time": "2021-02-03T20:04:29.940505",
     "status": "completed"
    },
    "tags": []
   },
   "outputs": [
    {
     "name": "stdout",
     "output_type": "stream",
     "text": [
      "2\n"
     ]
    },
    {
     "data": {
      "text/plain": [
       "<matplotlib.image.AxesImage at 0x7fe5a3318f60>"
      ]
     },
     "execution_count": 8,
     "metadata": {},
     "output_type": "execute_result"
    },
    {
     "data": {
      "image/png": "[encoded data removed]",
      "text/plain": [
       "<Figure size 432x288 with 1 Axes>"
      ]
     },
     "metadata": {
      "needs_background": "light"
     },
     "output_type": "display_data"
    }
   ],
   "source": [
    "image_index = 7776 # You may select anything up to 60,000\n",
    "print(train_labels[image_index]) \n",
    "plt.imshow(train_images[image_index], cmap='Greys')"
   ]
  },
  {
   "cell_type": "markdown",
   "id": "facial-modem",
   "metadata": {
    "papermill": {
     "duration": 0.032248,
     "end_time": "2021-02-03T20:04:30.227704",
     "exception": false,
     "start_time": "2021-02-03T20:04:30.195456",
     "status": "completed"
    },
    "tags": []
   },
   "source": [
    "## Filter data to get 3 and 8 out"
   ]
  },
  {
   "cell_type": "code",
   "execution_count": 9,
   "id": "thousand-acquisition",
   "metadata": {
    "execution": {
     "iopub.execute_input": "2021-02-03T20:04:30.321417Z",
     "iopub.status.busy": "2021-02-03T20:04:30.313065Z",
     "iopub.status.idle": "2021-02-03T20:04:30.327486Z",
     "shell.execute_reply": "2021-02-03T20:04:30.327953Z"
    },
    "papermill": {
     "duration": 0.064275,
     "end_time": "2021-02-03T20:04:30.328138",
     "exception": false,
     "start_time": "2021-02-03T20:04:30.263863",
     "status": "completed"
    },
    "tags": []
   },
   "outputs": [],
   "source": [
    "train_filter = np.where((train_labels == 3 ) | (train_labels == 8))\n",
    "test_filter = np.where((test_labels == 3) | (test_labels == 8))\n",
    "X_train, y_train = train_images[train_filter], train_labels[train_filter]\n",
    "X_test, y_test = test_images[test_filter], test_labels[test_filter]"
   ]
  },
  {
   "cell_type": "markdown",
   "id": "ruled-access",
   "metadata": {
    "papermill": {
     "duration": 0.0333,
     "end_time": "2021-02-03T20:04:30.396544",
     "exception": false,
     "start_time": "2021-02-03T20:04:30.363244",
     "status": "completed"
    },
    "tags": []
   },
   "source": [
    "We normalize the pixel values in the 0 to 1 range"
   ]
  },
  {
   "cell_type": "code",
   "execution_count": 10,
   "id": "isolated-denver",
   "metadata": {
    "execution": {
     "iopub.execute_input": "2021-02-03T20:04:30.469180Z",
     "iopub.status.busy": "2021-02-03T20:04:30.468522Z",
     "iopub.status.idle": "2021-02-03T20:04:30.540576Z",
     "shell.execute_reply": "2021-02-03T20:04:30.539881Z"
    },
    "papermill": {
     "duration": 0.111704,
     "end_time": "2021-02-03T20:04:30.540757",
     "exception": false,
     "start_time": "2021-02-03T20:04:30.429053",
     "status": "completed"
    },
    "tags": []
   },
   "outputs": [],
   "source": [
    "X_train = X_train/255.\n",
    "X_test = X_test/255."
   ]
  },
  {
   "cell_type": "markdown",
   "id": "perfect-summary",
   "metadata": {
    "papermill": {
     "duration": 0.034046,
     "end_time": "2021-02-03T20:04:30.609422",
     "exception": false,
     "start_time": "2021-02-03T20:04:30.575376",
     "status": "completed"
    },
    "tags": []
   },
   "source": [
    "Setup the labels as 1 (when the digit is 3) and 0 (when the digit is 8)"
   ]
  },
  {
   "cell_type": "code",
   "execution_count": 11,
   "id": "personalized-growing",
   "metadata": {
    "execution": {
     "iopub.execute_input": "2021-02-03T20:04:30.679755Z",
     "iopub.status.busy": "2021-02-03T20:04:30.679036Z",
     "iopub.status.idle": "2021-02-03T20:04:30.692328Z",
     "shell.execute_reply": "2021-02-03T20:04:30.692857Z"
    },
    "papermill": {
     "duration": 0.0509,
     "end_time": "2021-02-03T20:04:30.693013",
     "exception": false,
     "start_time": "2021-02-03T20:04:30.642113",
     "status": "completed"
    },
    "tags": []
   },
   "outputs": [],
   "source": [
    "y_train = 1*(y_train==3)\n",
    "y_test = 1*(y_test==3)"
   ]
  },
  {
   "cell_type": "code",
   "execution_count": 12,
   "id": "considered-virgin",
   "metadata": {
    "execution": {
     "iopub.execute_input": "2021-02-03T20:04:30.787494Z",
     "iopub.status.busy": "2021-02-03T20:04:30.786862Z",
     "iopub.status.idle": "2021-02-03T20:04:30.790966Z",
     "shell.execute_reply": "2021-02-03T20:04:30.790341Z"
    },
    "papermill": {
     "duration": 0.063049,
     "end_time": "2021-02-03T20:04:30.791122",
     "exception": false,
     "start_time": "2021-02-03T20:04:30.728073",
     "status": "completed"
    },
    "tags": []
   },
   "outputs": [
    {
     "data": {
      "text/plain": [
       "((11982, 28, 28), (1984, 28, 28))"
      ]
     },
     "execution_count": 12,
     "metadata": {},
     "output_type": "execute_result"
    }
   ],
   "source": [
    "X_train.shape, X_test.shape"
   ]
  },
  {
   "cell_type": "markdown",
   "id": "civilian-mobile",
   "metadata": {
    "papermill": {
     "duration": 0.033646,
     "end_time": "2021-02-03T20:04:30.858929",
     "exception": false,
     "start_time": "2021-02-03T20:04:30.825283",
     "status": "completed"
    },
    "tags": []
   },
   "source": [
    "### Reshape the input data to create a linear array"
   ]
  },
  {
   "cell_type": "code",
   "execution_count": 13,
   "id": "colonial-adams",
   "metadata": {
    "execution": {
     "iopub.execute_input": "2021-02-03T20:04:30.934429Z",
     "iopub.status.busy": "2021-02-03T20:04:30.933701Z",
     "iopub.status.idle": "2021-02-03T20:04:30.946535Z",
     "shell.execute_reply": "2021-02-03T20:04:30.947115Z"
    },
    "papermill": {
     "duration": 0.055134,
     "end_time": "2021-02-03T20:04:30.947329",
     "exception": false,
     "start_time": "2021-02-03T20:04:30.892195",
     "status": "completed"
    },
    "tags": []
   },
   "outputs": [
    {
     "data": {
      "text/plain": [
       "((11982, 784), (1984, 784))"
      ]
     },
     "execution_count": 13,
     "metadata": {},
     "output_type": "execute_result"
    }
   ],
   "source": [
    "X_train = X_train.reshape(X_train.shape[0], -1)\n",
    "X_test = X_test.reshape(X_test.shape[0], -1)\n",
    "X_train.shape, X_test.shape"
   ]
  },
  {
   "cell_type": "markdown",
   "id": "smart-details",
   "metadata": {
    "papermill": {
     "duration": 0.033171,
     "end_time": "2021-02-03T20:04:31.015555",
     "exception": false,
     "start_time": "2021-02-03T20:04:30.982384",
     "status": "completed"
    },
    "tags": []
   },
   "source": [
    "### Importing appropriate functions from 'Kudzu'"
   ]
  },
  {
   "cell_type": "code",
   "execution_count": 14,
   "id": "celtic-trial",
   "metadata": {
    "execution": {
     "iopub.execute_input": "2021-02-03T20:04:31.093933Z",
     "iopub.status.busy": "2021-02-03T20:04:31.093224Z",
     "iopub.status.idle": "2021-02-03T20:04:31.112181Z",
     "shell.execute_reply": "2021-02-03T20:04:31.112771Z"
    },
    "papermill": {
     "duration": 0.063236,
     "end_time": "2021-02-03T20:04:31.112975",
     "exception": false,
     "start_time": "2021-02-03T20:04:31.049739",
     "status": "completed"
    },
    "tags": []
   },
   "outputs": [],
   "source": [
    "from kudzu.layer import Sigmoid\n",
    "from kudzu.layer import Relu\n",
    "from kudzu.layer import Affine, Sigmoid\n",
    "\n",
    "from kudzu.model import Model\n",
    "from kudzu.train import Learner\n",
    "from kudzu.optim import GD\n",
    "from kudzu.data import Data, Dataloader, Sampler\n",
    "\n",
    "from kudzu.callbacks import AccCallback\n",
    "from kudzu.callbacks import ClfCallback\n",
    "\n",
    "from kudzu.loss import MSE"
   ]
  },
  {
   "cell_type": "markdown",
   "id": "coupled-customer",
   "metadata": {
    "papermill": {
     "duration": 0.046896,
     "end_time": "2021-02-03T20:04:31.195050",
     "exception": false,
     "start_time": "2021-02-03T20:04:31.148154",
     "status": "completed"
    },
    "tags": []
   },
   "source": [
    "### Let us create a `Config` class, to store important parameters. \n",
    "This class essentially plays the role of a dictionary."
   ]
  },
  {
   "cell_type": "code",
   "execution_count": 15,
   "id": "young-ceiling",
   "metadata": {
    "execution": {
     "iopub.execute_input": "2021-02-03T20:04:31.270487Z",
     "iopub.status.busy": "2021-02-03T20:04:31.269341Z",
     "iopub.status.idle": "2021-02-03T20:04:31.284537Z",
     "shell.execute_reply": "2021-02-03T20:04:31.283881Z"
    },
    "papermill": {
     "duration": 0.054124,
     "end_time": "2021-02-03T20:04:31.284697",
     "exception": false,
     "start_time": "2021-02-03T20:04:31.230573",
     "status": "completed"
    },
    "tags": []
   },
   "outputs": [],
   "source": [
    "class Config:\n",
    "    pass\n",
    "config = Config()\n",
    "config.lr = 0.001\n",
    "config.num_epochs = 251\n",
    "config.bs = 50"
   ]
  },
  {
   "cell_type": "markdown",
   "id": "according-mandate",
   "metadata": {
    "papermill": {
     "duration": 0.03442,
     "end_time": "2021-02-03T20:04:31.351251",
     "exception": false,
     "start_time": "2021-02-03T20:04:31.316831",
     "status": "completed"
    },
    "tags": []
   },
   "source": [
    "### Initializing data to the variables"
   ]
  },
  {
   "cell_type": "code",
   "execution_count": 16,
   "id": "academic-disposition",
   "metadata": {
    "execution": {
     "iopub.execute_input": "2021-02-03T20:04:31.427075Z",
     "iopub.status.busy": "2021-02-03T20:04:31.425938Z",
     "iopub.status.idle": "2021-02-03T20:04:31.436675Z",
     "shell.execute_reply": "2021-02-03T20:04:31.437319Z"
    },
    "papermill": {
     "duration": 0.052657,
     "end_time": "2021-02-03T20:04:31.437482",
     "exception": false,
     "start_time": "2021-02-03T20:04:31.384825",
     "status": "completed"
    },
    "tags": []
   },
   "outputs": [],
   "source": [
    "data = Data(X_train, y_train.reshape(-1,1))\n",
    "sampler = Sampler(data, config.bs, shuffle=True)\n",
    "\n",
    "dl = Dataloader(data, sampler)\n",
    "\n",
    "opt = GD(config.lr)\n",
    "loss = MSE()"
   ]
  },
  {
   "cell_type": "code",
   "execution_count": 17,
   "id": "featured-commission",
   "metadata": {
    "execution": {
     "iopub.execute_input": "2021-02-03T20:04:31.519321Z",
     "iopub.status.busy": "2021-02-03T20:04:31.513280Z",
     "iopub.status.idle": "2021-02-03T20:04:31.521840Z",
     "shell.execute_reply": "2021-02-03T20:04:31.522383Z"
    },
    "papermill": {
     "duration": 0.052731,
     "end_time": "2021-02-03T20:04:31.522549",
     "exception": false,
     "start_time": "2021-02-03T20:04:31.469818",
     "status": "completed"
    },
    "tags": []
   },
   "outputs": [],
   "source": [
    "training_xdata = X_train\n",
    "testing_xdata = X_test\n",
    "training_ydata = y_train.reshape(-1,1)\n",
    "testing_ydata = y_test.reshape(-1,1)"
   ]
  },
  {
   "cell_type": "markdown",
   "id": "played-safety",
   "metadata": {
    "papermill": {
     "duration": 0.037117,
     "end_time": "2021-02-03T20:04:31.592727",
     "exception": false,
     "start_time": "2021-02-03T20:04:31.555610",
     "status": "completed"
    },
    "tags": []
   },
   "source": [
    "### Running Models with the Training data\n",
    "Details about the network layers:\n",
    "- A first affine layer has 784 inputs and does 100 affine transforms. These are followed by a Relu\n",
    "- A second affine layer has 100 inputs from the 100 activations of the past layer, and does 100 affine transforms. These are followed by a Relu\n",
    "- A third affine layer has 100 activations and does 2 affine transformations to create an embedding for visualization. There is no non-linearity here.\n",
    "- A final \"logistic regression\" which has an affine transform from 2 inputs to 1 output, which is squeezed through a sigmoid.\n",
    "\n",
    "Help taken from Anshuman's Notebook."
   ]
  },
  {
   "cell_type": "code",
   "execution_count": 18,
   "id": "asian-bankruptcy",
   "metadata": {
    "execution": {
     "iopub.execute_input": "2021-02-03T20:04:31.680472Z",
     "iopub.status.busy": "2021-02-03T20:04:31.679686Z",
     "iopub.status.idle": "2021-02-03T20:04:31.687349Z",
     "shell.execute_reply": "2021-02-03T20:04:31.686816Z"
    },
    "papermill": {
     "duration": 0.061496,
     "end_time": "2021-02-03T20:04:31.687496",
     "exception": false,
     "start_time": "2021-02-03T20:04:31.626000",
     "status": "completed"
    },
    "tags": []
   },
   "outputs": [],
   "source": [
    "# layers for the Neural Network\n",
    "layers = [Affine(\"first\", 784, 100), Relu(\"first\"), Affine(\"second\", 100, 100), Relu(\"second\"), Affine(\"third\", 100, 2), Affine(\"final\", 2, 1), Sigmoid(\"final\")]\n",
    "model_nn = Model(layers)\n",
    "\n",
    "# layers for the Logistic Regression\n",
    "layers_lr = [Affine(\"logits\", 784, 1), Sigmoid(\"sigmoid\")]\n",
    "model_lr = Model(layers_lr)"
   ]
  },
  {
   "cell_type": "code",
   "execution_count": 19,
   "id": "removed-butler",
   "metadata": {
    "execution": {
     "iopub.execute_input": "2021-02-03T20:04:31.767546Z",
     "iopub.status.busy": "2021-02-03T20:04:31.766893Z",
     "iopub.status.idle": "2021-02-03T20:04:31.778924Z",
     "shell.execute_reply": "2021-02-03T20:04:31.779450Z"
    },
    "papermill": {
     "duration": 0.057237,
     "end_time": "2021-02-03T20:04:31.779634",
     "exception": false,
     "start_time": "2021-02-03T20:04:31.722397",
     "status": "completed"
    },
    "tags": []
   },
   "outputs": [],
   "source": [
    "# suffix _nn stands for Neural Network.\n",
    "learner_nn = Learner(loss, model_nn, opt, config.num_epochs)\n",
    "acc_nn = ClfCallback(learner_nn, config.bs, training_xdata , testing_xdata, training_ydata, testing_ydata)\n",
    "learner_nn.set_callbacks([acc_nn])"
   ]
  },
  {
   "cell_type": "code",
   "execution_count": 20,
   "id": "conceptual-throw",
   "metadata": {
    "execution": {
     "iopub.execute_input": "2021-02-03T20:04:31.861389Z",
     "iopub.status.busy": "2021-02-03T20:04:31.860677Z",
     "iopub.status.idle": "2021-02-03T20:06:39.068183Z",
     "shell.execute_reply": "2021-02-03T20:06:39.067575Z"
    },
    "papermill": {
     "duration": 127.253402,
     "end_time": "2021-02-03T20:06:39.068363",
     "exception": false,
     "start_time": "2021-02-03T20:04:31.814961",
     "status": "completed"
    },
    "tags": []
   },
   "outputs": [
    {
     "name": "stdout",
     "output_type": "stream",
     "text": [
      "====== Neural Network ======\n"
     ]
    },
    {
     "name": "stdout",
     "output_type": "stream",
     "text": [
      "Epoch 0, Loss 0.2335\n",
      "Training Accuracy: 0.6945, Testing Accuracy: 0.7011\n",
      "\n"
     ]
    },
    {
     "name": "stdout",
     "output_type": "stream",
     "text": [
      "Epoch 10, Loss 0.0931\n",
      "Training Accuracy: 0.9088, Testing Accuracy: 0.9224\n",
      "\n"
     ]
    },
    {
     "name": "stdout",
     "output_type": "stream",
     "text": [
      "Epoch 20, Loss 0.0576\n",
      "Training Accuracy: 0.9387, Testing Accuracy: 0.9491\n",
      "\n"
     ]
    },
    {
     "name": "stdout",
     "output_type": "stream",
     "text": [
      "Epoch 30, Loss 0.0448\n",
      "Training Accuracy: 0.9508, Testing Accuracy: 0.9592\n",
      "\n"
     ]
    },
    {
     "name": "stdout",
     "output_type": "stream",
     "text": [
      "Epoch 40, Loss 0.0386\n",
      "Training Accuracy: 0.9577, Testing Accuracy: 0.9657\n",
      "\n"
     ]
    },
    {
     "name": "stdout",
     "output_type": "stream",
     "text": [
      "Epoch 50, Loss 0.0348\n",
      "Training Accuracy: 0.9602, Testing Accuracy: 0.9657\n",
      "\n"
     ]
    },
    {
     "name": "stdout",
     "output_type": "stream",
     "text": [
      "Epoch 60, Loss 0.0323\n",
      "Training Accuracy: 0.9635, Testing Accuracy: 0.9677\n",
      "\n"
     ]
    },
    {
     "name": "stdout",
     "output_type": "stream",
     "text": [
      "Epoch 70, Loss 0.0304\n",
      "Training Accuracy: 0.9654, Testing Accuracy: 0.9688\n",
      "\n"
     ]
    },
    {
     "name": "stdout",
     "output_type": "stream",
     "text": [
      "Epoch 80, Loss 0.029\n",
      "Training Accuracy: 0.9670, Testing Accuracy: 0.9682\n",
      "\n"
     ]
    },
    {
     "name": "stdout",
     "output_type": "stream",
     "text": [
      "Epoch 90, Loss 0.0278\n",
      "Training Accuracy: 0.9681, Testing Accuracy: 0.9698\n",
      "\n"
     ]
    },
    {
     "name": "stdout",
     "output_type": "stream",
     "text": [
      "Epoch 100, Loss 0.0268\n",
      "Training Accuracy: 0.9693, Testing Accuracy: 0.9698\n",
      "\n"
     ]
    },
    {
     "name": "stdout",
     "output_type": "stream",
     "text": [
      "Epoch 110, Loss 0.0259\n",
      "Training Accuracy: 0.9700, Testing Accuracy: 0.9703\n",
      "\n"
     ]
    },
    {
     "name": "stdout",
     "output_type": "stream",
     "text": [
      "Epoch 120, Loss 0.0252\n",
      "Training Accuracy: 0.9709, Testing Accuracy: 0.9703\n",
      "\n"
     ]
    },
    {
     "name": "stdout",
     "output_type": "stream",
     "text": [
      "Epoch 130, Loss 0.0245\n",
      "Training Accuracy: 0.9720, Testing Accuracy: 0.9713\n",
      "\n"
     ]
    },
    {
     "name": "stdout",
     "output_type": "stream",
     "text": [
      "Epoch 140, Loss 0.0239\n",
      "Training Accuracy: 0.9726, Testing Accuracy: 0.9713\n",
      "\n"
     ]
    },
    {
     "name": "stdout",
     "output_type": "stream",
     "text": [
      "Epoch 150, Loss 0.0233\n",
      "Training Accuracy: 0.9739, Testing Accuracy: 0.9718\n",
      "\n"
     ]
    },
    {
     "name": "stdout",
     "output_type": "stream",
     "text": [
      "Epoch 160, Loss 0.0228\n",
      "Training Accuracy: 0.9744, Testing Accuracy: 0.9713\n",
      "\n"
     ]
    },
    {
     "name": "stdout",
     "output_type": "stream",
     "text": [
      "Epoch 170, Loss 0.0223\n",
      "Training Accuracy: 0.9747, Testing Accuracy: 0.9713\n",
      "\n"
     ]
    },
    {
     "name": "stdout",
     "output_type": "stream",
     "text": [
      "Epoch 180, Loss 0.0218\n",
      "Training Accuracy: 0.9753, Testing Accuracy: 0.9723\n",
      "\n"
     ]
    },
    {
     "name": "stdout",
     "output_type": "stream",
     "text": [
      "Epoch 190, Loss 0.0214\n",
      "Training Accuracy: 0.9758, Testing Accuracy: 0.9718\n",
      "\n"
     ]
    },
    {
     "name": "stdout",
     "output_type": "stream",
     "text": [
      "Epoch 200, Loss 0.0209\n",
      "Training Accuracy: 0.9766, Testing Accuracy: 0.9718\n",
      "\n"
     ]
    },
    {
     "name": "stdout",
     "output_type": "stream",
     "text": [
      "Epoch 210, Loss 0.0205\n",
      "Training Accuracy: 0.9772, Testing Accuracy: 0.9728\n",
      "\n"
     ]
    },
    {
     "name": "stdout",
     "output_type": "stream",
     "text": [
      "Epoch 220, Loss 0.0201\n",
      "Training Accuracy: 0.9775, Testing Accuracy: 0.9733\n",
      "\n"
     ]
    },
    {
     "name": "stdout",
     "output_type": "stream",
     "text": [
      "Epoch 230, Loss 0.0198\n",
      "Training Accuracy: 0.9776, Testing Accuracy: 0.9738\n",
      "\n"
     ]
    },
    {
     "name": "stdout",
     "output_type": "stream",
     "text": [
      "Epoch 240, Loss 0.0194\n",
      "Training Accuracy: 0.9781, Testing Accuracy: 0.9743\n",
      "\n"
     ]
    },
    {
     "name": "stdout",
     "output_type": "stream",
     "text": [
      "Epoch 250, Loss 0.0191\n",
      "Training Accuracy: 0.9787, Testing Accuracy: 0.9743\n",
      "\n"
     ]
    },
    {
     "data": {
      "text/plain": [
       "0.03975428721472854"
      ]
     },
     "execution_count": 20,
     "metadata": {},
     "output_type": "execute_result"
    }
   ],
   "source": [
    "print(\"====== Neural Network ======\")\n",
    "learner_nn.train_loop(dl)"
   ]
  },
  {
   "cell_type": "markdown",
   "id": "competent-suffering",
   "metadata": {
    "papermill": {
     "duration": 0.043026,
     "end_time": "2021-02-03T20:06:39.155483",
     "exception": false,
     "start_time": "2021-02-03T20:06:39.112457",
     "status": "completed"
    },
    "tags": []
   },
   "source": [
    "### Logistic Regression based Implementation."
   ]
  },
  {
   "cell_type": "code",
   "execution_count": 21,
   "id": "qualified-psychiatry",
   "metadata": {
    "execution": {
     "iopub.execute_input": "2021-02-03T20:06:39.251716Z",
     "iopub.status.busy": "2021-02-03T20:06:39.250975Z",
     "iopub.status.idle": "2021-02-03T20:06:39.261516Z",
     "shell.execute_reply": "2021-02-03T20:06:39.262039Z"
    },
    "papermill": {
     "duration": 0.062851,
     "end_time": "2021-02-03T20:06:39.262230",
     "exception": false,
     "start_time": "2021-02-03T20:06:39.199379",
     "status": "completed"
    },
    "tags": []
   },
   "outputs": [],
   "source": [
    "learner_lr = Learner(loss, model_lr, opt, config.num_epochs)\n",
    "acc_lr = ClfCallback(learner_lr, config.bs, training_xdata , testing_xdata, training_ydata, testing_ydata)\n",
    "learner_lr.set_callbacks([acc_lr])"
   ]
  },
  {
   "cell_type": "code",
   "execution_count": 22,
   "id": "average-outside",
   "metadata": {
    "execution": {
     "iopub.execute_input": "2021-02-03T20:06:39.364495Z",
     "iopub.status.busy": "2021-02-03T20:06:39.360223Z",
     "iopub.status.idle": "2021-02-03T20:06:58.212858Z",
     "shell.execute_reply": "2021-02-03T20:06:58.213494Z"
    },
    "papermill": {
     "duration": 18.909772,
     "end_time": "2021-02-03T20:06:58.213668",
     "exception": false,
     "start_time": "2021-02-03T20:06:39.303896",
     "status": "completed"
    },
    "tags": []
   },
   "outputs": [
    {
     "name": "stdout",
     "output_type": "stream",
     "text": [
      "====== Logistic Regression ======\n",
      "Epoch 0, Loss 0.2399\n",
      "Training Accuracy: 0.7152, Testing Accuracy: 0.7082\n",
      "\n"
     ]
    },
    {
     "name": "stdout",
     "output_type": "stream",
     "text": [
      "Epoch 10, Loss 0.0988\n",
      "Training Accuracy: 0.9217, Testing Accuracy: 0.9350\n",
      "\n"
     ]
    },
    {
     "name": "stdout",
     "output_type": "stream",
     "text": [
      "Epoch 20, Loss 0.0767\n",
      "Training Accuracy: 0.9316, Testing Accuracy: 0.9430\n",
      "\n"
     ]
    },
    {
     "name": "stdout",
     "output_type": "stream",
     "text": [
      "Epoch 30, Loss 0.0665\n",
      "Training Accuracy: 0.9388, Testing Accuracy: 0.9506\n",
      "\n"
     ]
    },
    {
     "name": "stdout",
     "output_type": "stream",
     "text": [
      "Epoch 40, Loss 0.0604\n",
      "Training Accuracy: 0.9440, Testing Accuracy: 0.9531\n",
      "\n"
     ]
    },
    {
     "name": "stdout",
     "output_type": "stream",
     "text": [
      "Epoch 50, Loss 0.0561\n",
      "Training Accuracy: 0.9467, Testing Accuracy: 0.9556\n",
      "\n"
     ]
    },
    {
     "name": "stdout",
     "output_type": "stream",
     "text": [
      "Epoch 60, Loss 0.053\n",
      "Training Accuracy: 0.9482, Testing Accuracy: 0.9582\n",
      "\n"
     ]
    },
    {
     "name": "stdout",
     "output_type": "stream",
     "text": [
      "Epoch 70, Loss 0.0506\n",
      "Training Accuracy: 0.9497, Testing Accuracy: 0.9597\n",
      "\n"
     ]
    },
    {
     "name": "stdout",
     "output_type": "stream",
     "text": [
      "Epoch 80, Loss 0.0487\n",
      "Training Accuracy: 0.9507, Testing Accuracy: 0.9602\n",
      "\n"
     ]
    },
    {
     "name": "stdout",
     "output_type": "stream",
     "text": [
      "Epoch 90, Loss 0.047\n",
      "Training Accuracy: 0.9522, Testing Accuracy: 0.9612\n",
      "\n"
     ]
    },
    {
     "name": "stdout",
     "output_type": "stream",
     "text": [
      "Epoch 100, Loss 0.0457\n",
      "Training Accuracy: 0.9537, Testing Accuracy: 0.9617\n",
      "\n"
     ]
    },
    {
     "name": "stdout",
     "output_type": "stream",
     "text": [
      "Epoch 110, Loss 0.0445\n",
      "Training Accuracy: 0.9545, Testing Accuracy: 0.9617\n",
      "\n"
     ]
    },
    {
     "name": "stdout",
     "output_type": "stream",
     "text": [
      "Epoch 120, Loss 0.0435\n",
      "Training Accuracy: 0.9550, Testing Accuracy: 0.9622\n",
      "\n"
     ]
    },
    {
     "name": "stdout",
     "output_type": "stream",
     "text": [
      "Epoch 130, Loss 0.0426\n",
      "Training Accuracy: 0.9562, Testing Accuracy: 0.9622\n",
      "\n"
     ]
    },
    {
     "name": "stdout",
     "output_type": "stream",
     "text": [
      "Epoch 140, Loss 0.0418\n",
      "Training Accuracy: 0.9570, Testing Accuracy: 0.9637\n",
      "\n"
     ]
    },
    {
     "name": "stdout",
     "output_type": "stream",
     "text": [
      "Epoch 150, Loss 0.041\n",
      "Training Accuracy: 0.9573, Testing Accuracy: 0.9642\n",
      "\n"
     ]
    },
    {
     "name": "stdout",
     "output_type": "stream",
     "text": [
      "Epoch 160, Loss 0.0404\n",
      "Training Accuracy: 0.9578, Testing Accuracy: 0.9647\n",
      "\n"
     ]
    },
    {
     "name": "stdout",
     "output_type": "stream",
     "text": [
      "Epoch 170, Loss 0.0398\n",
      "Training Accuracy: 0.9584, Testing Accuracy: 0.9652\n",
      "\n"
     ]
    },
    {
     "name": "stdout",
     "output_type": "stream",
     "text": [
      "Epoch 180, Loss 0.0392\n",
      "Training Accuracy: 0.9591, Testing Accuracy: 0.9662\n",
      "\n"
     ]
    },
    {
     "name": "stdout",
     "output_type": "stream",
     "text": [
      "Epoch 190, Loss 0.0387\n",
      "Training Accuracy: 0.9597, Testing Accuracy: 0.9662\n",
      "\n"
     ]
    },
    {
     "name": "stdout",
     "output_type": "stream",
     "text": [
      "Epoch 200, Loss 0.0383\n",
      "Training Accuracy: 0.9597, Testing Accuracy: 0.9662\n",
      "\n"
     ]
    },
    {
     "name": "stdout",
     "output_type": "stream",
     "text": [
      "Epoch 210, Loss 0.0378\n",
      "Training Accuracy: 0.9602, Testing Accuracy: 0.9667\n",
      "\n"
     ]
    },
    {
     "name": "stdout",
     "output_type": "stream",
     "text": [
      "Epoch 220, Loss 0.0374\n",
      "Training Accuracy: 0.9606, Testing Accuracy: 0.9662\n",
      "\n"
     ]
    },
    {
     "name": "stdout",
     "output_type": "stream",
     "text": [
      "Epoch 230, Loss 0.037\n",
      "Training Accuracy: 0.9609, Testing Accuracy: 0.9662\n",
      "\n"
     ]
    },
    {
     "name": "stdout",
     "output_type": "stream",
     "text": [
      "Epoch 240, Loss 0.0367\n",
      "Training Accuracy: 0.9609, Testing Accuracy: 0.9667\n",
      "\n"
     ]
    },
    {
     "name": "stdout",
     "output_type": "stream",
     "text": [
      "Epoch 250, Loss 0.0364\n",
      "Training Accuracy: 0.9612, Testing Accuracy: 0.9672\n",
      "\n"
     ]
    },
    {
     "data": {
      "text/plain": [
       "0.056466743131263736"
      ]
     },
     "execution_count": 22,
     "metadata": {},
     "output_type": "execute_result"
    }
   ],
   "source": [
    "print(\"====== Logistic Regression ======\")\n",
    "learner_lr.train_loop(dl)"
   ]
  },
  {
   "cell_type": "markdown",
   "id": "adjusted-possible",
   "metadata": {
    "papermill": {
     "duration": 0.049918,
     "end_time": "2021-02-03T20:06:58.316092",
     "exception": false,
     "start_time": "2021-02-03T20:06:58.266174",
     "status": "completed"
    },
    "tags": []
   },
   "source": [
    "### Comparing results of NN and LR"
   ]
  },
  {
   "cell_type": "code",
   "execution_count": 23,
   "id": "mental-multimedia",
   "metadata": {
    "execution": {
     "iopub.execute_input": "2021-02-03T20:06:58.421507Z",
     "iopub.status.busy": "2021-02-03T20:06:58.420904Z",
     "iopub.status.idle": "2021-02-03T20:06:58.686921Z",
     "shell.execute_reply": "2021-02-03T20:06:58.686386Z"
    },
    "papermill": {
     "duration": 0.321156,
     "end_time": "2021-02-03T20:06:58.687072",
     "exception": false,
     "start_time": "2021-02-03T20:06:58.365916",
     "status": "completed"
    },
    "tags": []
   },
   "outputs": [
    {
     "data": {
      "text/plain": [
       "<matplotlib.legend.Legend at 0x7fe59aefb8d0>"
      ]
     },
     "execution_count": 23,
     "metadata": {},
     "output_type": "execute_result"
    },
    {
     "data": {
      "image/png": "[encoded data removed]",
      "text/plain": [
       "<Figure size 1080x720 with 1 Axes>"
      ]
     },
     "metadata": {
      "needs_background": "light"
     },
     "output_type": "display_data"
    }
   ],
   "source": [
    "plt.figure(figsize=(15,10))\n",
    "\n",
    "# Neural Network plots\n",
    "plt.plot(acc_nn.accuracies, 'r-', label = \"Training Accuracies - NN\")\n",
    "plt.plot(acc_nn.test_accuracies, 'g-', label = \"Testing Accuracies - NN\")\n",
    "\n",
    "# Logistic Regression plots\n",
    "plt.plot(acc_lr.accuracies, 'k-', label = \"Training Accuracies - LR\")\n",
    "plt.plot(acc_lr.test_accuracies, 'b-', label = \"Testing Accuracies - LR\")\n",
    "\n",
    "plt.ylim(0.8, 1)\n",
    "\n",
    "plt.legend()\n",
    "\n"
   ]
  },
  {
   "cell_type": "markdown",
   "id": "sexual-flesh",
   "metadata": {
    "papermill": {
     "duration": 0.053876,
     "end_time": "2021-02-03T20:06:58.793117",
     "exception": false,
     "start_time": "2021-02-03T20:06:58.739241",
     "status": "completed"
    },
    "tags": []
   },
   "source": [
    "### From the plot, we can observe the following:\n",
    "- Neural Network achieves higher accuracy than the Logistic Regression model.\n",
    "- This apparently, is because of overfitting, i.e. NN captures more noise than data.\n",
    "- Testing accuracy of NN drops below the Training accuracy at higher epochs. This explains the over-fitting on training data.\n",
    "- Logistic Regression gives a reliable accuracy, without the above mentioned problem.\n"
   ]
  },
  {
   "cell_type": "markdown",
   "id": "institutional-pacific",
   "metadata": {
    "papermill": {
     "duration": 0.052547,
     "end_time": "2021-02-03T20:06:58.897718",
     "exception": false,
     "start_time": "2021-02-03T20:06:58.845171",
     "status": "completed"
    },
    "tags": []
   },
   "source": [
    "### Moving till the last but one layer (excluding it).\n",
    "#### Plotting the outputs of this layer of the NN."
   ]
  },
  {
   "cell_type": "code",
   "execution_count": 24,
   "id": "economic-server",
   "metadata": {
    "execution": {
     "iopub.execute_input": "2021-02-03T20:06:59.008407Z",
     "iopub.status.busy": "2021-02-03T20:06:59.007667Z",
     "iopub.status.idle": "2021-02-03T20:06:59.018641Z",
     "shell.execute_reply": "2021-02-03T20:06:59.019165Z"
    },
    "papermill": {
     "duration": 0.070704,
     "end_time": "2021-02-03T20:06:59.019328",
     "exception": false,
     "start_time": "2021-02-03T20:06:58.948624",
     "status": "completed"
    },
    "tags": []
   },
   "outputs": [],
   "source": [
    "model_new = Model(layers[:-2])"
   ]
  },
  {
   "cell_type": "code",
   "execution_count": 25,
   "id": "varied-upgrade",
   "metadata": {
    "execution": {
     "iopub.execute_input": "2021-02-03T20:06:59.141088Z",
     "iopub.status.busy": "2021-02-03T20:06:59.136083Z",
     "iopub.status.idle": "2021-02-03T20:06:59.159407Z",
     "shell.execute_reply": "2021-02-03T20:06:59.159943Z"
    },
    "papermill": {
     "duration": 0.086771,
     "end_time": "2021-02-03T20:06:59.160124",
     "exception": false,
     "start_time": "2021-02-03T20:06:59.073353",
     "status": "completed"
    },
    "tags": []
   },
   "outputs": [],
   "source": [
    "plot_testing = model_new(testing_xdata)"
   ]
  },
  {
   "cell_type": "code",
   "execution_count": 26,
   "id": "specific-handling",
   "metadata": {
    "execution": {
     "iopub.execute_input": "2021-02-03T20:06:59.278016Z",
     "iopub.status.busy": "2021-02-03T20:06:59.277344Z",
     "iopub.status.idle": "2021-02-03T20:06:59.515524Z",
     "shell.execute_reply": "2021-02-03T20:06:59.514933Z"
    },
    "papermill": {
     "duration": 0.300006,
     "end_time": "2021-02-03T20:06:59.515686",
     "exception": false,
     "start_time": "2021-02-03T20:06:59.215680",
     "status": "completed"
    },
    "tags": []
   },
   "outputs": [
    {
     "data": {
      "text/plain": [
       "Text(0.5, 1.0, 'Outputs')"
      ]
     },
     "execution_count": 26,
     "metadata": {},
     "output_type": "execute_result"
    },
    {
     "data": {
      "image/png": "[encoded data removed]",
      "text/plain": [
       "<Figure size 576x504 with 1 Axes>"
      ]
     },
     "metadata": {
      "needs_background": "light"
     },
     "output_type": "display_data"
    }
   ],
   "source": [
    "plt.figure(figsize=(8,7))\n",
    "plt.scatter(plot_testing[:,0], plot_testing[:,1], alpha = 0.1, c = y_test.ravel());\n",
    "plt.title('Outputs')"
   ]
  },
  {
   "cell_type": "markdown",
   "id": "described-knowing",
   "metadata": {
    "papermill": {
     "duration": 0.054956,
     "end_time": "2021-02-03T20:06:59.626808",
     "exception": false,
     "start_time": "2021-02-03T20:06:59.571852",
     "status": "completed"
    },
    "tags": []
   },
   "source": [
    "### Plotting probability contours"
   ]
  },
  {
   "cell_type": "code",
   "execution_count": 27,
   "id": "needed-growing",
   "metadata": {
    "execution": {
     "iopub.execute_input": "2021-02-03T20:06:59.746073Z",
     "iopub.status.busy": "2021-02-03T20:06:59.745435Z",
     "iopub.status.idle": "2021-02-03T20:06:59.757762Z",
     "shell.execute_reply": "2021-02-03T20:06:59.758271Z"
    },
    "papermill": {
     "duration": 0.07504,
     "end_time": "2021-02-03T20:06:59.758429",
     "exception": false,
     "start_time": "2021-02-03T20:06:59.683389",
     "status": "completed"
    },
    "tags": []
   },
   "outputs": [],
   "source": [
    "model_prob = Model(layers[-2:]) "
   ]
  },
  {
   "cell_type": "code",
   "execution_count": 28,
   "id": "introductory-enforcement",
   "metadata": {
    "execution": {
     "iopub.execute_input": "2021-02-03T20:06:59.904810Z",
     "iopub.status.busy": "2021-02-03T20:06:59.904179Z",
     "iopub.status.idle": "2021-02-03T20:06:59.918698Z",
     "shell.execute_reply": "2021-02-03T20:06:59.919157Z"
    },
    "papermill": {
     "duration": 0.103983,
     "end_time": "2021-02-03T20:06:59.919331",
     "exception": false,
     "start_time": "2021-02-03T20:06:59.815348",
     "status": "completed"
    },
    "tags": []
   },
   "outputs": [],
   "source": [
    "# Adjust the x and y ranges according to the above generated plot.\n",
    "x_range = np.linspace(-4, 1, 100) \n",
    "y_range = np.linspace(-6, 6, 100) \n",
    "x_grid, y_grid = np.meshgrid(x_range, y_range) # x_grid and y_grig are of size 100 X 100\n",
    "\n",
    "# converting x_grid and y_grid to continuous arrays\n",
    "x_grid_flat = np.ravel(x_grid)\n",
    "y_grid_flat = np.ravel(y_grid)\n",
    "\n",
    "# The last layer of the current model takes two columns as input. Hence transpose of np.vstack() is required.\n",
    "X = np.vstack((x_grid_flat, y_grid_flat)).T\n",
    "\n",
    "# x_grid and y_grid are of size 100 x 100\n",
    "probability_contour = model_prob(X).reshape(100,100) "
   ]
  },
  {
   "cell_type": "code",
   "execution_count": 29,
   "id": "understood-landing",
   "metadata": {
    "execution": {
     "iopub.execute_input": "2021-02-03T20:07:00.035337Z",
     "iopub.status.busy": "2021-02-03T20:07:00.034729Z",
     "iopub.status.idle": "2021-02-03T20:07:00.319102Z",
     "shell.execute_reply": "2021-02-03T20:07:00.319654Z"
    },
    "papermill": {
     "duration": 0.346932,
     "end_time": "2021-02-03T20:07:00.319825",
     "exception": false,
     "start_time": "2021-02-03T20:06:59.972893",
     "status": "completed"
    },
    "tags": []
   },
   "outputs": [
    {
     "data": {
      "image/png": "[encoded data removed]",
      "text/plain": [
       "<Figure size 720x648 with 1 Axes>"
      ]
     },
     "metadata": {
      "needs_background": "light"
     },
     "output_type": "display_data"
    }
   ],
   "source": [
    "plt.figure(figsize=(10,9))\n",
    "plt.scatter(plot_testing[:,0], plot_testing[:,1], alpha = 0.1, c = y_test.ravel())\n",
    "contours = plt.contour(x_grid,y_grid,probability_contour)\n",
    "plt.title('Probability Contours')\n",
    "plt.clabel(contours, inline = True );"
   ]
  }
 ],
 "metadata": {
  "kernelspec": {
   "display_name": "Python 3",
   "language": "python",
   "name": "python3"
  },
  "language_info": {
   "codemirror_mode": {
    "name": "ipython",
    "version": 3
   },
   "file_extension": ".py",
   "mimetype": "text/x-python",
   "name": "python",
   "nbconvert_exporter": "python",
   "pygments_lexer": "ipython3",
   "version": "3.6.12"
  },
  "papermill": {
   "duration": 158.077602,
   "end_time": "2021-02-03T20:07:00.790958",
   "environment_variables": {},
   "exception": null,
   "input_path": "2020-08-11-NeuralNetwork.ipynb",
   "output_path": "2020-08-11-NeuralNetwork.ipynb",
   "parameters": {},
   "start_time": "2021-02-03T20:04:22.713356",
   "version": "2.1.2"
  }
 },
 "nbformat": 4,
 "nbformat_minor": 5
}