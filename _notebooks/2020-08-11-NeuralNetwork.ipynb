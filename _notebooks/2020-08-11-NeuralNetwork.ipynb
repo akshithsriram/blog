{
 "cells": [
  {
   "cell_type": "markdown",
   "id": "fitted-suggestion",
   "metadata": {
    "papermill": {
     "duration": 0.029347,
     "end_time": "2021-07-26T00:15:01.983848",
     "exception": false,
     "start_time": "2021-07-26T00:15:01.954501",
     "status": "completed"
    },
    "tags": []
   },
   "source": [
    "# \"A Basic Neural Network: Differentiate Hand-Written Digits\"\n",
    "\n",
    "- badges: true\n",
    "- author: Akshith Sriram"
   ]
  },
  {
   "cell_type": "markdown",
   "id": "signal-flexibility",
   "metadata": {
    "papermill": {
     "duration": 0.024915,
     "end_time": "2021-07-26T00:15:02.034522",
     "exception": false,
     "start_time": "2021-07-26T00:15:02.009607",
     "status": "completed"
    },
    "tags": []
   },
   "source": [
    "### Key Objectives:\n",
    "- Building a neural network that differentiates two hand-written digits 3 and 8.\n",
    "- Comparing the results of this Neural Network (NN) to that of a Logistic Regression (LR) model.\n",
    "\n",
    "### Requirements:\n",
    "- 'Kudzu' : A neural network library that was designed during our course by [Univ.AI](www.univ.ai). \n",
    "- MNIST Database\n",
    "\n",
    "If MNIST is not installed, use the command `!pip install mnist` given below.\n",
    "It can be run both from the command line and Jupyter Notebook."
   ]
  },
  {
   "cell_type": "code",
   "execution_count": 1,
   "id": "british-texture",
   "metadata": {
    "execution": {
     "iopub.execute_input": "2021-07-26T00:15:02.093746Z",
     "iopub.status.busy": "2021-07-26T00:15:02.093224Z",
     "iopub.status.idle": "2021-07-26T00:15:03.750233Z",
     "shell.execute_reply": "2021-07-26T00:15:03.749708Z"
    },
    "papermill": {
     "duration": 1.690891,
     "end_time": "2021-07-26T00:15:03.750390",
     "exception": false,
     "start_time": "2021-07-26T00:15:02.059499",
     "status": "completed"
    },
    "tags": []
   },
   "outputs": [
    {
     "name": "stdout",
     "output_type": "stream",
     "text": [
      "Collecting mnist\r\n"
     ]
    },
    {
     "name": "stdout",
     "output_type": "stream",
     "text": [
      "  Downloading mnist-0.2.2-py2.py3-none-any.whl (3.5 kB)\r\n"
     ]
    },
    {
     "name": "stdout",
     "output_type": "stream",
     "text": [
      "Requirement already satisfied: numpy in /opt/hostedtoolcache/Python/3.6.14/x64/lib/python3.6/site-packages (from mnist) (1.19.5)\r\n"
     ]
    },
    {
     "name": "stdout",
     "output_type": "stream",
     "text": [
      "Installing collected packages: mnist\r\n"
     ]
    },
    {
     "name": "stdout",
     "output_type": "stream",
     "text": [
      "Successfully installed mnist-0.2.2\r\n",
      "\u001b[33mWARNING: You are using pip version 21.1.3; however, version 21.2.1 is available.\r\n",
      "You should consider upgrading via the '/opt/hostedtoolcache/Python/3.6.14/x64/bin/python -m pip install --upgrade pip' command.\u001b[0m\r\n"
     ]
    }
   ],
   "source": [
    "!pip install mnist "
   ]
  },
  {
   "cell_type": "markdown",
   "id": "stunning-extra",
   "metadata": {
    "papermill": {
     "duration": 0.023145,
     "end_time": "2021-07-26T00:15:03.797900",
     "exception": false,
     "start_time": "2021-07-26T00:15:03.774755",
     "status": "completed"
    },
    "tags": []
   },
   "source": [
    "#### Importing necessary libraries"
   ]
  },
  {
   "cell_type": "code",
   "execution_count": 2,
   "id": "wooden-france",
   "metadata": {
    "execution": {
     "iopub.execute_input": "2021-07-26T00:15:03.850703Z",
     "iopub.status.busy": "2021-07-26T00:15:03.850246Z",
     "iopub.status.idle": "2021-07-26T00:15:04.313441Z",
     "shell.execute_reply": "2021-07-26T00:15:04.313833Z"
    },
    "papermill": {
     "duration": 0.492919,
     "end_time": "2021-07-26T00:15:04.313965",
     "exception": false,
     "start_time": "2021-07-26T00:15:03.821046",
     "status": "completed"
    },
    "tags": []
   },
   "outputs": [],
   "source": [
    "%load_ext autoreload\n",
    "%autoreload 2\n",
    "\n",
    "%matplotlib inline\n",
    "import matplotlib.pyplot as plt\n",
    "\n",
    "import numpy as np\n",
    "import pandas as pd"
   ]
  },
  {
   "cell_type": "markdown",
   "id": "stunning-physics",
   "metadata": {
    "papermill": {
     "duration": 0.026602,
     "end_time": "2021-07-26T00:15:04.366746",
     "exception": false,
     "start_time": "2021-07-26T00:15:04.340144",
     "status": "completed"
    },
    "tags": []
   },
   "source": [
    "### Preparing the Data"
   ]
  },
  {
   "cell_type": "code",
   "execution_count": 3,
   "id": "unauthorized-remainder",
   "metadata": {
    "execution": {
     "iopub.execute_input": "2021-07-26T00:15:04.426486Z",
     "iopub.status.busy": "2021-07-26T00:15:04.425985Z",
     "iopub.status.idle": "2021-07-26T00:15:04.434698Z",
     "shell.execute_reply": "2021-07-26T00:15:04.435102Z"
    },
    "papermill": {
     "duration": 0.042084,
     "end_time": "2021-07-26T00:15:04.435232",
     "exception": false,
     "start_time": "2021-07-26T00:15:04.393148",
     "status": "completed"
    },
    "tags": []
   },
   "outputs": [],
   "source": [
    "import mnist"
   ]
  },
  {
   "cell_type": "code",
   "execution_count": 4,
   "id": "correct-antarctica",
   "metadata": {
    "execution": {
     "iopub.execute_input": "2021-07-26T00:15:04.491226Z",
     "iopub.status.busy": "2021-07-26T00:15:04.490726Z",
     "iopub.status.idle": "2021-07-26T00:19:48.652999Z",
     "shell.execute_reply": "2021-07-26T00:19:48.652440Z"
    },
    "papermill": {
     "duration": 284.19151,
     "end_time": "2021-07-26T00:19:48.653146",
     "exception": false,
     "start_time": "2021-07-26T00:15:04.461636",
     "status": "completed"
    },
    "tags": []
   },
   "outputs": [],
   "source": [
    "train_images = mnist.train_images()\n",
    "train_labels = mnist.train_labels()"
   ]
  },
  {
   "cell_type": "code",
   "execution_count": 5,
   "id": "musical-prospect",
   "metadata": {
    "execution": {
     "iopub.execute_input": "2021-07-26T00:19:48.723455Z",
     "iopub.status.busy": "2021-07-26T00:19:48.716938Z",
     "iopub.status.idle": "2021-07-26T00:19:48.725970Z",
     "shell.execute_reply": "2021-07-26T00:19:48.726302Z"
    },
    "papermill": {
     "duration": 0.046178,
     "end_time": "2021-07-26T00:19:48.726422",
     "exception": false,
     "start_time": "2021-07-26T00:19:48.680244",
     "status": "completed"
    },
    "tags": []
   },
   "outputs": [
    {
     "data": {
      "text/plain": [
       "((60000, 28, 28), (60000,))"
      ]
     },
     "execution_count": 5,
     "metadata": {},
     "output_type": "execute_result"
    }
   ],
   "source": [
    "train_images.shape, train_labels.shape"
   ]
  },
  {
   "cell_type": "code",
   "execution_count": 6,
   "id": "preliminary-elizabeth",
   "metadata": {
    "execution": {
     "iopub.execute_input": "2021-07-26T00:19:48.779294Z",
     "iopub.status.busy": "2021-07-26T00:19:48.775272Z",
     "iopub.status.idle": "2021-07-26T00:20:27.817549Z",
     "shell.execute_reply": "2021-07-26T00:20:27.817123Z"
    },
    "papermill": {
     "duration": 39.067886,
     "end_time": "2021-07-26T00:20:27.817667",
     "exception": false,
     "start_time": "2021-07-26T00:19:48.749781",
     "status": "completed"
    },
    "tags": []
   },
   "outputs": [],
   "source": [
    "test_images = mnist.test_images()\n",
    "test_labels = mnist.test_labels()"
   ]
  },
  {
   "cell_type": "code",
   "execution_count": 7,
   "id": "acknowledged-oxygen",
   "metadata": {
    "execution": {
     "iopub.execute_input": "2021-07-26T00:20:27.872615Z",
     "iopub.status.busy": "2021-07-26T00:20:27.872163Z",
     "iopub.status.idle": "2021-07-26T00:20:27.881839Z",
     "shell.execute_reply": "2021-07-26T00:20:27.881479Z"
    },
    "papermill": {
     "duration": 0.040491,
     "end_time": "2021-07-26T00:20:27.881942",
     "exception": false,
     "start_time": "2021-07-26T00:20:27.841451",
     "status": "completed"
    },
    "tags": []
   },
   "outputs": [
    {
     "data": {
      "text/plain": [
       "((10000, 28, 28), (10000,))"
      ]
     },
     "execution_count": 7,
     "metadata": {},
     "output_type": "execute_result"
    }
   ],
   "source": [
    "test_images.shape, test_labels.shape"
   ]
  },
  {
   "cell_type": "code",
   "execution_count": 8,
   "id": "innovative-organic",
   "metadata": {
    "execution": {
     "iopub.execute_input": "2021-07-26T00:20:27.957738Z",
     "iopub.status.busy": "2021-07-26T00:20:27.945656Z",
     "iopub.status.idle": "2021-07-26T00:20:28.067656Z",
     "shell.execute_reply": "2021-07-26T00:20:28.067239Z"
    },
    "papermill": {
     "duration": 0.162257,
     "end_time": "2021-07-26T00:20:28.067777",
     "exception": false,
     "start_time": "2021-07-26T00:20:27.905520",
     "status": "completed"
    },
    "tags": []
   },
   "outputs": [
    {
     "name": "stdout",
     "output_type": "stream",
     "text": [
      "2\n"
     ]
    },
    {
     "data": {
      "text/plain": [
       "<matplotlib.image.AxesImage at 0x7ff6f9bd16a0>"
      ]
     },
     "execution_count": 8,
     "metadata": {},
     "output_type": "execute_result"
    },
    {
     "data": {
      "image/png": "[encoded data removed]",
      "text/plain": [
       "<Figure size 432x288 with 1 Axes>"
      ]
     },
     "metadata": {
      "needs_background": "light"
     },
     "output_type": "display_data"
    }
   ],
   "source": [
    "image_index = 7776 # You may select anything up to 60,000\n",
    "print(train_labels[image_index]) \n",
    "plt.imshow(train_images[image_index], cmap='Greys')"
   ]
  },
  {
   "cell_type": "markdown",
   "id": "facial-modem",
   "metadata": {
    "papermill": {
     "duration": 0.028034,
     "end_time": "2021-07-26T00:20:28.123812",
     "exception": false,
     "start_time": "2021-07-26T00:20:28.095778",
     "status": "completed"
    },
    "tags": []
   },
   "source": [
    "## Filter data to get 3 and 8 out"
   ]
  },
  {
   "cell_type": "code",
   "execution_count": 9,
   "id": "thousand-acquisition",
   "metadata": {
    "execution": {
     "iopub.execute_input": "2021-07-26T00:20:28.183714Z",
     "iopub.status.busy": "2021-07-26T00:20:28.183203Z",
     "iopub.status.idle": "2021-07-26T00:20:28.197270Z",
     "shell.execute_reply": "2021-07-26T00:20:28.197697Z"
    },
    "papermill": {
     "duration": 0.04643,
     "end_time": "2021-07-26T00:20:28.197825",
     "exception": false,
     "start_time": "2021-07-26T00:20:28.151395",
     "status": "completed"
    },
    "tags": []
   },
   "outputs": [],
   "source": [
    "train_filter = np.where((train_labels == 3 ) | (train_labels == 8))\n",
    "test_filter = np.where((test_labels == 3) | (test_labels == 8))\n",
    "X_train, y_train = train_images[train_filter], train_labels[train_filter]\n",
    "X_test, y_test = test_images[test_filter], test_labels[test_filter]"
   ]
  },
  {
   "cell_type": "markdown",
   "id": "ruled-access",
   "metadata": {
    "papermill": {
     "duration": 0.027471,
     "end_time": "2021-07-26T00:20:28.252869",
     "exception": false,
     "start_time": "2021-07-26T00:20:28.225398",
     "status": "completed"
    },
    "tags": []
   },
   "source": [
    "We normalize the pixel values in the 0 to 1 range"
   ]
  },
  {
   "cell_type": "code",
   "execution_count": 10,
   "id": "isolated-denver",
   "metadata": {
    "execution": {
     "iopub.execute_input": "2021-07-26T00:20:28.311663Z",
     "iopub.status.busy": "2021-07-26T00:20:28.311172Z",
     "iopub.status.idle": "2021-07-26T00:20:28.354405Z",
     "shell.execute_reply": "2021-07-26T00:20:28.353895Z"
    },
    "papermill": {
     "duration": 0.074074,
     "end_time": "2021-07-26T00:20:28.354547",
     "exception": false,
     "start_time": "2021-07-26T00:20:28.280473",
     "status": "completed"
    },
    "tags": []
   },
   "outputs": [],
   "source": [
    "X_train = X_train/255.\n",
    "X_test = X_test/255."
   ]
  },
  {
   "cell_type": "markdown",
   "id": "perfect-summary",
   "metadata": {
    "papermill": {
     "duration": 0.028335,
     "end_time": "2021-07-26T00:20:28.411024",
     "exception": false,
     "start_time": "2021-07-26T00:20:28.382689",
     "status": "completed"
    },
    "tags": []
   },
   "source": [
    "Setup the labels as 1 (when the digit is 3) and 0 (when the digit is 8)"
   ]
  },
  {
   "cell_type": "code",
   "execution_count": 11,
   "id": "personalized-growing",
   "metadata": {
    "execution": {
     "iopub.execute_input": "2021-07-26T00:20:28.469941Z",
     "iopub.status.busy": "2021-07-26T00:20:28.469438Z",
     "iopub.status.idle": "2021-07-26T00:20:28.481760Z",
     "shell.execute_reply": "2021-07-26T00:20:28.481332Z"
    },
    "papermill": {
     "duration": 0.043242,
     "end_time": "2021-07-26T00:20:28.481868",
     "exception": false,
     "start_time": "2021-07-26T00:20:28.438626",
     "status": "completed"
    },
    "tags": []
   },
   "outputs": [],
   "source": [
    "y_train = 1*(y_train==3)\n",
    "y_test = 1*(y_test==3)"
   ]
  },
  {
   "cell_type": "code",
   "execution_count": 12,
   "id": "considered-virgin",
   "metadata": {
    "execution": {
     "iopub.execute_input": "2021-07-26T00:20:28.541962Z",
     "iopub.status.busy": "2021-07-26T00:20:28.541472Z",
     "iopub.status.idle": "2021-07-26T00:20:28.552999Z",
     "shell.execute_reply": "2021-07-26T00:20:28.553377Z"
    },
    "papermill": {
     "duration": 0.043949,
     "end_time": "2021-07-26T00:20:28.553501",
     "exception": false,
     "start_time": "2021-07-26T00:20:28.509552",
     "status": "completed"
    },
    "tags": []
   },
   "outputs": [
    {
     "data": {
      "text/plain": [
       "((11982, 28, 28), (1984, 28, 28))"
      ]
     },
     "execution_count": 12,
     "metadata": {},
     "output_type": "execute_result"
    }
   ],
   "source": [
    "X_train.shape, X_test.shape"
   ]
  },
  {
   "cell_type": "markdown",
   "id": "civilian-mobile",
   "metadata": {
    "papermill": {
     "duration": 0.027807,
     "end_time": "2021-07-26T00:20:28.609070",
     "exception": false,
     "start_time": "2021-07-26T00:20:28.581263",
     "status": "completed"
    },
    "tags": []
   },
   "source": [
    "### Reshape the input data to create a linear array"
   ]
  },
  {
   "cell_type": "code",
   "execution_count": 13,
   "id": "colonial-adams",
   "metadata": {
    "execution": {
     "iopub.execute_input": "2021-07-26T00:20:28.670295Z",
     "iopub.status.busy": "2021-07-26T00:20:28.669792Z",
     "iopub.status.idle": "2021-07-26T00:20:28.682535Z",
     "shell.execute_reply": "2021-07-26T00:20:28.683003Z"
    },
    "papermill": {
     "duration": 0.046016,
     "end_time": "2021-07-26T00:20:28.683133",
     "exception": false,
     "start_time": "2021-07-26T00:20:28.637117",
     "status": "completed"
    },
    "tags": []
   },
   "outputs": [
    {
     "data": {
      "text/plain": [
       "((11982, 784), (1984, 784))"
      ]
     },
     "execution_count": 13,
     "metadata": {},
     "output_type": "execute_result"
    }
   ],
   "source": [
    "X_train = X_train.reshape(X_train.shape[0], -1)\n",
    "X_test = X_test.reshape(X_test.shape[0], -1)\n",
    "X_train.shape, X_test.shape"
   ]
  },
  {
   "cell_type": "markdown",
   "id": "smart-details",
   "metadata": {
    "papermill": {
     "duration": 0.028051,
     "end_time": "2021-07-26T00:20:28.739853",
     "exception": false,
     "start_time": "2021-07-26T00:20:28.711802",
     "status": "completed"
    },
    "tags": []
   },
   "source": [
    "### Importing appropriate functions from 'Kudzu'"
   ]
  },
  {
   "cell_type": "code",
   "execution_count": 14,
   "id": "celtic-trial",
   "metadata": {
    "execution": {
     "iopub.execute_input": "2021-07-26T00:20:28.801806Z",
     "iopub.status.busy": "2021-07-26T00:20:28.801295Z",
     "iopub.status.idle": "2021-07-26T00:20:28.817309Z",
     "shell.execute_reply": "2021-07-26T00:20:28.816872Z"
    },
    "papermill": {
     "duration": 0.049208,
     "end_time": "2021-07-26T00:20:28.817416",
     "exception": false,
     "start_time": "2021-07-26T00:20:28.768208",
     "status": "completed"
    },
    "tags": []
   },
   "outputs": [],
   "source": [
    "from kudzu.layer import Sigmoid\n",
    "from kudzu.layer import Relu\n",
    "from kudzu.layer import Affine, Sigmoid\n",
    "\n",
    "from kudzu.model import Model\n",
    "from kudzu.train import Learner\n",
    "from kudzu.optim import GD\n",
    "from kudzu.data import Data, Dataloader, Sampler\n",
    "\n",
    "from kudzu.callbacks import AccCallback\n",
    "from kudzu.callbacks import ClfCallback\n",
    "\n",
    "from kudzu.loss import MSE"
   ]
  },
  {
   "cell_type": "markdown",
   "id": "coupled-customer",
   "metadata": {
    "papermill": {
     "duration": 0.028124,
     "end_time": "2021-07-26T00:20:28.875444",
     "exception": false,
     "start_time": "2021-07-26T00:20:28.847320",
     "status": "completed"
    },
    "tags": []
   },
   "source": [
    "### Let us create a `Config` class, to store important parameters. \n",
    "This class essentially plays the role of a dictionary."
   ]
  },
  {
   "cell_type": "code",
   "execution_count": 15,
   "id": "young-ceiling",
   "metadata": {
    "execution": {
     "iopub.execute_input": "2021-07-26T00:20:28.935353Z",
     "iopub.status.busy": "2021-07-26T00:20:28.934852Z",
     "iopub.status.idle": "2021-07-26T00:20:28.947059Z",
     "shell.execute_reply": "2021-07-26T00:20:28.946660Z"
    },
    "papermill": {
     "duration": 0.043518,
     "end_time": "2021-07-26T00:20:28.947166",
     "exception": false,
     "start_time": "2021-07-26T00:20:28.903648",
     "status": "completed"
    },
    "tags": []
   },
   "outputs": [],
   "source": [
    "class Config:\n",
    "    pass\n",
    "config = Config()\n",
    "config.lr = 0.001\n",
    "config.num_epochs = 251\n",
    "config.bs = 50"
   ]
  },
  {
   "cell_type": "markdown",
   "id": "according-mandate",
   "metadata": {
    "papermill": {
     "duration": 0.02799,
     "end_time": "2021-07-26T00:20:29.003260",
     "exception": false,
     "start_time": "2021-07-26T00:20:28.975270",
     "status": "completed"
    },
    "tags": []
   },
   "source": [
    "### Initializing data to the variables"
   ]
  },
  {
   "cell_type": "code",
   "execution_count": 16,
   "id": "academic-disposition",
   "metadata": {
    "execution": {
     "iopub.execute_input": "2021-07-26T00:20:29.064529Z",
     "iopub.status.busy": "2021-07-26T00:20:29.064029Z",
     "iopub.status.idle": "2021-07-26T00:20:29.074927Z",
     "shell.execute_reply": "2021-07-26T00:20:29.074531Z"
    },
    "papermill": {
     "duration": 0.043592,
     "end_time": "2021-07-26T00:20:29.075034",
     "exception": false,
     "start_time": "2021-07-26T00:20:29.031442",
     "status": "completed"
    },
    "tags": []
   },
   "outputs": [],
   "source": [
    "data = Data(X_train, y_train.reshape(-1,1))\n",
    "sampler = Sampler(data, config.bs, shuffle=True)\n",
    "\n",
    "dl = Dataloader(data, sampler)\n",
    "\n",
    "opt = GD(config.lr)\n",
    "loss = MSE()"
   ]
  },
  {
   "cell_type": "code",
   "execution_count": 17,
   "id": "featured-commission",
   "metadata": {
    "execution": {
     "iopub.execute_input": "2021-07-26T00:20:29.136736Z",
     "iopub.status.busy": "2021-07-26T00:20:29.136217Z",
     "iopub.status.idle": "2021-07-26T00:20:29.145813Z",
     "shell.execute_reply": "2021-07-26T00:20:29.146184Z"
    },
    "papermill": {
     "duration": 0.043244,
     "end_time": "2021-07-26T00:20:29.146302",
     "exception": false,
     "start_time": "2021-07-26T00:20:29.103058",
     "status": "completed"
    },
    "tags": []
   },
   "outputs": [],
   "source": [
    "training_xdata = X_train\n",
    "testing_xdata = X_test\n",
    "training_ydata = y_train.reshape(-1,1)\n",
    "testing_ydata = y_test.reshape(-1,1)"
   ]
  },
  {
   "cell_type": "markdown",
   "id": "played-safety",
   "metadata": {
    "papermill": {
     "duration": 0.028096,
     "end_time": "2021-07-26T00:20:29.202551",
     "exception": false,
     "start_time": "2021-07-26T00:20:29.174455",
     "status": "completed"
    },
    "tags": []
   },
   "source": [
    "### Running Models with the Training data\n",
    "Details about the network layers:\n",
    "- A first affine layer has 784 inputs and does 100 affine transforms. These are followed by a Relu\n",
    "- A second affine layer has 100 inputs from the 100 activations of the past layer, and does 100 affine transforms. These are followed by a Relu\n",
    "- A third affine layer has 100 activations and does 2 affine transformations to create an embedding for visualization. There is no non-linearity here.\n",
    "- A final \"logistic regression\" which has an affine transform from 2 inputs to 1 output, which is squeezed through a sigmoid.\n",
    "\n",
    "Help taken from Anshuman's Notebook."
   ]
  },
  {
   "cell_type": "code",
   "execution_count": 18,
   "id": "asian-bankruptcy",
   "metadata": {
    "execution": {
     "iopub.execute_input": "2021-07-26T00:20:29.262719Z",
     "iopub.status.busy": "2021-07-26T00:20:29.262211Z",
     "iopub.status.idle": "2021-07-26T00:20:29.276641Z",
     "shell.execute_reply": "2021-07-26T00:20:29.276244Z"
    },
    "papermill": {
     "duration": 0.046129,
     "end_time": "2021-07-26T00:20:29.276767",
     "exception": false,
     "start_time": "2021-07-26T00:20:29.230638",
     "status": "completed"
    },
    "tags": []
   },
   "outputs": [],
   "source": [
    "# layers for the Neural Network\n",
    "layers = [Affine(\"first\", 784, 100), Relu(\"first\"), Affine(\"second\", 100, 100), Relu(\"second\"), Affine(\"third\", 100, 2), Affine(\"final\", 2, 1), Sigmoid(\"final\")]\n",
    "model_nn = Model(layers)\n",
    "\n",
    "# layers for the Logistic Regression\n",
    "layers_lr = [Affine(\"logits\", 784, 1), Sigmoid(\"sigmoid\")]\n",
    "model_lr = Model(layers_lr)"
   ]
  },
  {
   "cell_type": "code",
   "execution_count": 19,
   "id": "removed-butler",
   "metadata": {
    "execution": {
     "iopub.execute_input": "2021-07-26T00:20:29.339344Z",
     "iopub.status.busy": "2021-07-26T00:20:29.338854Z",
     "iopub.status.idle": "2021-07-26T00:20:29.348303Z",
     "shell.execute_reply": "2021-07-26T00:20:29.347904Z"
    },
    "papermill": {
     "duration": 0.043452,
     "end_time": "2021-07-26T00:20:29.348404",
     "exception": false,
     "start_time": "2021-07-26T00:20:29.304952",
     "status": "completed"
    },
    "tags": []
   },
   "outputs": [],
   "source": [
    "# suffix _nn stands for Neural Network.\n",
    "learner_nn = Learner(loss, model_nn, opt, config.num_epochs)\n",
    "acc_nn = ClfCallback(learner_nn, config.bs, training_xdata , testing_xdata, training_ydata, testing_ydata)\n",
    "learner_nn.set_callbacks([acc_nn])"
   ]
  },
  {
   "cell_type": "code",
   "execution_count": 20,
   "id": "conceptual-throw",
   "metadata": {
    "execution": {
     "iopub.execute_input": "2021-07-26T00:20:29.408111Z",
     "iopub.status.busy": "2021-07-26T00:20:29.407618Z",
     "iopub.status.idle": "2021-07-26T00:21:43.597787Z",
     "shell.execute_reply": "2021-07-26T00:21:43.598264Z"
    },
    "papermill": {
     "duration": 74.221842,
     "end_time": "2021-07-26T00:21:43.598405",
     "exception": false,
     "start_time": "2021-07-26T00:20:29.376563",
     "status": "completed"
    },
    "tags": []
   },
   "outputs": [
    {
     "name": "stdout",
     "output_type": "stream",
     "text": [
      "====== Neural Network ======\n"
     ]
    },
    {
     "name": "stdout",
     "output_type": "stream",
     "text": [
      "Epoch 0, Loss 0.2558\n",
      "Training Accuracy: 0.4918, Testing Accuracy: 0.4924\n",
      "\n"
     ]
    },
    {
     "name": "stdout",
     "output_type": "stream",
     "text": [
      "Epoch 10, Loss 0.165\n",
      "Training Accuracy: 0.8877, Testing Accuracy: 0.9037\n",
      "\n"
     ]
    },
    {
     "name": "stdout",
     "output_type": "stream",
     "text": [
      "Epoch 20, Loss 0.0811\n",
      "Training Accuracy: 0.9245, Testing Accuracy: 0.9400\n",
      "\n"
     ]
    },
    {
     "name": "stdout",
     "output_type": "stream",
     "text": [
      "Epoch 30, Loss 0.054\n",
      "Training Accuracy: 0.9447, Testing Accuracy: 0.9536\n",
      "\n"
     ]
    },
    {
     "name": "stdout",
     "output_type": "stream",
     "text": [
      "Epoch 40, Loss 0.0433\n",
      "Training Accuracy: 0.9531, Testing Accuracy: 0.9602\n",
      "\n"
     ]
    },
    {
     "name": "stdout",
     "output_type": "stream",
     "text": [
      "Epoch 50, Loss 0.0379\n",
      "Training Accuracy: 0.9579, Testing Accuracy: 0.9622\n",
      "\n"
     ]
    },
    {
     "name": "stdout",
     "output_type": "stream",
     "text": [
      "Epoch 60, Loss 0.0347\n",
      "Training Accuracy: 0.9613, Testing Accuracy: 0.9642\n",
      "\n"
     ]
    },
    {
     "name": "stdout",
     "output_type": "stream",
     "text": [
      "Epoch 70, Loss 0.0324\n",
      "Training Accuracy: 0.9623, Testing Accuracy: 0.9672\n",
      "\n"
     ]
    },
    {
     "name": "stdout",
     "output_type": "stream",
     "text": [
      "Epoch 80, Loss 0.0308\n",
      "Training Accuracy: 0.9640, Testing Accuracy: 0.9693\n",
      "\n"
     ]
    },
    {
     "name": "stdout",
     "output_type": "stream",
     "text": [
      "Epoch 90, Loss 0.0294\n",
      "Training Accuracy: 0.9655, Testing Accuracy: 0.9698\n",
      "\n"
     ]
    },
    {
     "name": "stdout",
     "output_type": "stream",
     "text": [
      "Epoch 100, Loss 0.0283\n",
      "Training Accuracy: 0.9667, Testing Accuracy: 0.9693\n",
      "\n"
     ]
    },
    {
     "name": "stdout",
     "output_type": "stream",
     "text": [
      "Epoch 110, Loss 0.0274\n",
      "Training Accuracy: 0.9681, Testing Accuracy: 0.9693\n",
      "\n"
     ]
    },
    {
     "name": "stdout",
     "output_type": "stream",
     "text": [
      "Epoch 120, Loss 0.0266\n",
      "Training Accuracy: 0.9689, Testing Accuracy: 0.9688\n",
      "\n"
     ]
    },
    {
     "name": "stdout",
     "output_type": "stream",
     "text": [
      "Epoch 130, Loss 0.0258\n",
      "Training Accuracy: 0.9695, Testing Accuracy: 0.9693\n",
      "\n"
     ]
    },
    {
     "name": "stdout",
     "output_type": "stream",
     "text": [
      "Epoch 140, Loss 0.0252\n",
      "Training Accuracy: 0.9702, Testing Accuracy: 0.9693\n",
      "\n"
     ]
    },
    {
     "name": "stdout",
     "output_type": "stream",
     "text": [
      "Epoch 150, Loss 0.0246\n",
      "Training Accuracy: 0.9712, Testing Accuracy: 0.9698\n",
      "\n"
     ]
    },
    {
     "name": "stdout",
     "output_type": "stream",
     "text": [
      "Epoch 160, Loss 0.024\n",
      "Training Accuracy: 0.9719, Testing Accuracy: 0.9703\n",
      "\n"
     ]
    },
    {
     "name": "stdout",
     "output_type": "stream",
     "text": [
      "Epoch 170, Loss 0.0235\n",
      "Training Accuracy: 0.9725, Testing Accuracy: 0.9703\n",
      "\n"
     ]
    },
    {
     "name": "stdout",
     "output_type": "stream",
     "text": [
      "Epoch 180, Loss 0.023\n",
      "Training Accuracy: 0.9733, Testing Accuracy: 0.9713\n",
      "\n"
     ]
    },
    {
     "name": "stdout",
     "output_type": "stream",
     "text": [
      "Epoch 190, Loss 0.0226\n",
      "Training Accuracy: 0.9737, Testing Accuracy: 0.9713\n",
      "\n"
     ]
    },
    {
     "name": "stdout",
     "output_type": "stream",
     "text": [
      "Epoch 200, Loss 0.0221\n",
      "Training Accuracy: 0.9740, Testing Accuracy: 0.9718\n",
      "\n"
     ]
    },
    {
     "name": "stdout",
     "output_type": "stream",
     "text": [
      "Epoch 210, Loss 0.0217\n",
      "Training Accuracy: 0.9742, Testing Accuracy: 0.9723\n",
      "\n"
     ]
    },
    {
     "name": "stdout",
     "output_type": "stream",
     "text": [
      "Epoch 220, Loss 0.0213\n",
      "Training Accuracy: 0.9747, Testing Accuracy: 0.9728\n",
      "\n"
     ]
    },
    {
     "name": "stdout",
     "output_type": "stream",
     "text": [
      "Epoch 230, Loss 0.0209\n",
      "Training Accuracy: 0.9755, Testing Accuracy: 0.9728\n",
      "\n"
     ]
    },
    {
     "name": "stdout",
     "output_type": "stream",
     "text": [
      "Epoch 240, Loss 0.0206\n",
      "Training Accuracy: 0.9762, Testing Accuracy: 0.9728\n",
      "\n"
     ]
    },
    {
     "name": "stdout",
     "output_type": "stream",
     "text": [
      "Epoch 250, Loss 0.0202\n",
      "Training Accuracy: 0.9765, Testing Accuracy: 0.9733\n",
      "\n"
     ]
    },
    {
     "data": {
      "text/plain": [
       "0.01707979570633447"
      ]
     },
     "execution_count": 20,
     "metadata": {},
     "output_type": "execute_result"
    }
   ],
   "source": [
    "print(\"====== Neural Network ======\")\n",
    "learner_nn.train_loop(dl)"
   ]
  },
  {
   "cell_type": "markdown",
   "id": "competent-suffering",
   "metadata": {
    "papermill": {
     "duration": 0.03125,
     "end_time": "2021-07-26T00:21:43.664340",
     "exception": false,
     "start_time": "2021-07-26T00:21:43.633090",
     "status": "completed"
    },
    "tags": []
   },
   "source": [
    "### Logistic Regression based Implementation."
   ]
  },
  {
   "cell_type": "code",
   "execution_count": 21,
   "id": "qualified-psychiatry",
   "metadata": {
    "execution": {
     "iopub.execute_input": "2021-07-26T00:21:43.737599Z",
     "iopub.status.busy": "2021-07-26T00:21:43.737121Z",
     "iopub.status.idle": "2021-07-26T00:21:43.741868Z",
     "shell.execute_reply": "2021-07-26T00:21:43.741063Z"
    },
    "papermill": {
     "duration": 0.046281,
     "end_time": "2021-07-26T00:21:43.741971",
     "exception": false,
     "start_time": "2021-07-26T00:21:43.695690",
     "status": "completed"
    },
    "tags": []
   },
   "outputs": [],
   "source": [
    "learner_lr = Learner(loss, model_lr, opt, config.num_epochs)\n",
    "acc_lr = ClfCallback(learner_lr, config.bs, training_xdata , testing_xdata, training_ydata, testing_ydata)\n",
    "learner_lr.set_callbacks([acc_lr])"
   ]
  },
  {
   "cell_type": "code",
   "execution_count": 22,
   "id": "average-outside",
   "metadata": {
    "execution": {
     "iopub.execute_input": "2021-07-26T00:21:43.810315Z",
     "iopub.status.busy": "2021-07-26T00:21:43.809870Z",
     "iopub.status.idle": "2021-07-26T00:21:57.386562Z",
     "shell.execute_reply": "2021-07-26T00:21:57.386947Z"
    },
    "papermill": {
     "duration": 13.613862,
     "end_time": "2021-07-26T00:21:57.387077",
     "exception": false,
     "start_time": "2021-07-26T00:21:43.773215",
     "status": "completed"
    },
    "tags": []
   },
   "outputs": [
    {
     "name": "stdout",
     "output_type": "stream",
     "text": [
      "====== Logistic Regression ======\n",
      "Epoch 0, Loss 0.3109\n",
      "Training Accuracy: 0.3912, Testing Accuracy: 0.4163\n",
      "\n"
     ]
    },
    {
     "name": "stdout",
     "output_type": "stream",
     "text": [
      "Epoch 10, Loss 0.1084\n",
      "Training Accuracy: 0.9041, Testing Accuracy: 0.9128\n",
      "\n"
     ]
    },
    {
     "name": "stdout",
     "output_type": "stream",
     "text": [
      "Epoch 20, Loss 0.0814\n",
      "Training Accuracy: 0.9239, Testing Accuracy: 0.9350\n",
      "\n"
     ]
    },
    {
     "name": "stdout",
     "output_type": "stream",
     "text": [
      "Epoch 30, Loss 0.0695\n",
      "Training Accuracy: 0.9346, Testing Accuracy: 0.9491\n",
      "\n"
     ]
    },
    {
     "name": "stdout",
     "output_type": "stream",
     "text": [
      "Epoch 40, Loss 0.0625\n",
      "Training Accuracy: 0.9403, Testing Accuracy: 0.9541\n",
      "\n"
     ]
    },
    {
     "name": "stdout",
     "output_type": "stream",
     "text": [
      "Epoch 50, Loss 0.0578\n",
      "Training Accuracy: 0.9441, Testing Accuracy: 0.9577\n",
      "\n"
     ]
    },
    {
     "name": "stdout",
     "output_type": "stream",
     "text": [
      "Epoch 60, Loss 0.0543\n",
      "Training Accuracy: 0.9467, Testing Accuracy: 0.9587\n",
      "\n"
     ]
    },
    {
     "name": "stdout",
     "output_type": "stream",
     "text": [
      "Epoch 70, Loss 0.0517\n",
      "Training Accuracy: 0.9488, Testing Accuracy: 0.9602\n",
      "\n"
     ]
    },
    {
     "name": "stdout",
     "output_type": "stream",
     "text": [
      "Epoch 80, Loss 0.0496\n",
      "Training Accuracy: 0.9500, Testing Accuracy: 0.9622\n",
      "\n"
     ]
    },
    {
     "name": "stdout",
     "output_type": "stream",
     "text": [
      "Epoch 90, Loss 0.0478\n",
      "Training Accuracy: 0.9508, Testing Accuracy: 0.9627\n",
      "\n"
     ]
    },
    {
     "name": "stdout",
     "output_type": "stream",
     "text": [
      "Epoch 100, Loss 0.0464\n",
      "Training Accuracy: 0.9518, Testing Accuracy: 0.9637\n",
      "\n"
     ]
    },
    {
     "name": "stdout",
     "output_type": "stream",
     "text": [
      "Epoch 110, Loss 0.0451\n",
      "Training Accuracy: 0.9524, Testing Accuracy: 0.9647\n",
      "\n"
     ]
    },
    {
     "name": "stdout",
     "output_type": "stream",
     "text": [
      "Epoch 120, Loss 0.0441\n",
      "Training Accuracy: 0.9533, Testing Accuracy: 0.9657\n",
      "\n"
     ]
    },
    {
     "name": "stdout",
     "output_type": "stream",
     "text": [
      "Epoch 130, Loss 0.0431\n",
      "Training Accuracy: 0.9549, Testing Accuracy: 0.9662\n",
      "\n"
     ]
    },
    {
     "name": "stdout",
     "output_type": "stream",
     "text": [
      "Epoch 140, Loss 0.0423\n",
      "Training Accuracy: 0.9554, Testing Accuracy: 0.9662\n",
      "\n"
     ]
    },
    {
     "name": "stdout",
     "output_type": "stream",
     "text": [
      "Epoch 150, Loss 0.0415\n",
      "Training Accuracy: 0.9564, Testing Accuracy: 0.9662\n",
      "\n"
     ]
    },
    {
     "name": "stdout",
     "output_type": "stream",
     "text": [
      "Epoch 160, Loss 0.0408\n",
      "Training Accuracy: 0.9573, Testing Accuracy: 0.9667\n",
      "\n"
     ]
    },
    {
     "name": "stdout",
     "output_type": "stream",
     "text": [
      "Epoch 170, Loss 0.0402\n",
      "Training Accuracy: 0.9578, Testing Accuracy: 0.9662\n",
      "\n"
     ]
    },
    {
     "name": "stdout",
     "output_type": "stream",
     "text": [
      "Epoch 180, Loss 0.0396\n",
      "Training Accuracy: 0.9584, Testing Accuracy: 0.9662\n",
      "\n"
     ]
    },
    {
     "name": "stdout",
     "output_type": "stream",
     "text": [
      "Epoch 190, Loss 0.0391\n",
      "Training Accuracy: 0.9584, Testing Accuracy: 0.9667\n",
      "\n"
     ]
    },
    {
     "name": "stdout",
     "output_type": "stream",
     "text": [
      "Epoch 200, Loss 0.0386\n",
      "Training Accuracy: 0.9592, Testing Accuracy: 0.9667\n",
      "\n"
     ]
    },
    {
     "name": "stdout",
     "output_type": "stream",
     "text": [
      "Epoch 210, Loss 0.0382\n",
      "Training Accuracy: 0.9597, Testing Accuracy: 0.9667\n",
      "\n"
     ]
    },
    {
     "name": "stdout",
     "output_type": "stream",
     "text": [
      "Epoch 220, Loss 0.0378\n",
      "Training Accuracy: 0.9599, Testing Accuracy: 0.9662\n",
      "\n"
     ]
    },
    {
     "name": "stdout",
     "output_type": "stream",
     "text": [
      "Epoch 230, Loss 0.0374\n",
      "Training Accuracy: 0.9603, Testing Accuracy: 0.9667\n",
      "\n"
     ]
    },
    {
     "name": "stdout",
     "output_type": "stream",
     "text": [
      "Epoch 240, Loss 0.037\n",
      "Training Accuracy: 0.9604, Testing Accuracy: 0.9672\n",
      "\n"
     ]
    },
    {
     "name": "stdout",
     "output_type": "stream",
     "text": [
      "Epoch 250, Loss 0.0367\n",
      "Training Accuracy: 0.9609, Testing Accuracy: 0.9672\n",
      "\n"
     ]
    },
    {
     "data": {
      "text/plain": [
       "0.022628365154900094"
      ]
     },
     "execution_count": 22,
     "metadata": {},
     "output_type": "execute_result"
    }
   ],
   "source": [
    "print(\"====== Logistic Regression ======\")\n",
    "learner_lr.train_loop(dl)"
   ]
  },
  {
   "cell_type": "markdown",
   "id": "adjusted-possible",
   "metadata": {
    "papermill": {
     "duration": 0.042136,
     "end_time": "2021-07-26T00:21:57.473289",
     "exception": false,
     "start_time": "2021-07-26T00:21:57.431153",
     "status": "completed"
    },
    "tags": []
   },
   "source": [
    "### Comparing results of NN and LR"
   ]
  },
  {
   "cell_type": "code",
   "execution_count": 23,
   "id": "mental-multimedia",
   "metadata": {
    "execution": {
     "iopub.execute_input": "2021-07-26T00:21:57.569849Z",
     "iopub.status.busy": "2021-07-26T00:21:57.569317Z",
     "iopub.status.idle": "2021-07-26T00:21:57.803835Z",
     "shell.execute_reply": "2021-07-26T00:21:57.803386Z"
    },
    "papermill": {
     "duration": 0.288485,
     "end_time": "2021-07-26T00:21:57.803950",
     "exception": false,
     "start_time": "2021-07-26T00:21:57.515465",
     "status": "completed"
    },
    "tags": []
   },
   "outputs": [
    {
     "data": {
      "text/plain": [
       "<matplotlib.legend.Legend at 0x7ff6ecf8b198>"
      ]
     },
     "execution_count": 23,
     "metadata": {},
     "output_type": "execute_result"
    },
    {
     "data": {
      "image/png": "[encoded data removed]",
      "text/plain": [
       "<Figure size 1080x720 with 1 Axes>"
      ]
     },
     "metadata": {
      "needs_background": "light"
     },
     "output_type": "display_data"
    }
   ],
   "source": [
    "plt.figure(figsize=(15,10))\n",
    "\n",
    "# Neural Network plots\n",
    "plt.plot(acc_nn.accuracies, 'r-', label = \"Training Accuracies - NN\")\n",
    "plt.plot(acc_nn.test_accuracies, 'g-', label = \"Testing Accuracies - NN\")\n",
    "\n",
    "# Logistic Regression plots\n",
    "plt.plot(acc_lr.accuracies, 'k-', label = \"Training Accuracies - LR\")\n",
    "plt.plot(acc_lr.test_accuracies, 'b-', label = \"Testing Accuracies - LR\")\n",
    "\n",
    "plt.ylim(0.8, 1)\n",
    "\n",
    "plt.legend()\n",
    "\n"
   ]
  },
  {
   "cell_type": "markdown",
   "id": "sexual-flesh",
   "metadata": {
    "papermill": {
     "duration": 0.043698,
     "end_time": "2021-07-26T00:21:57.891784",
     "exception": false,
     "start_time": "2021-07-26T00:21:57.848086",
     "status": "completed"
    },
    "tags": []
   },
   "source": [
    "### From the plot, we can observe the following:\n",
    "- Neural Network achieves higher accuracy than the Logistic Regression model.\n",
    "- This apparently, is because of overfitting, i.e. NN captures more noise than data.\n",
    "- Testing accuracy of NN drops below the Training accuracy at higher epochs. This explains the over-fitting on training data.\n",
    "- Logistic Regression gives a reliable accuracy, without the above mentioned problem.\n"
   ]
  },
  {
   "cell_type": "markdown",
   "id": "institutional-pacific",
   "metadata": {
    "papermill": {
     "duration": 0.043693,
     "end_time": "2021-07-26T00:21:57.979128",
     "exception": false,
     "start_time": "2021-07-26T00:21:57.935435",
     "status": "completed"
    },
    "tags": []
   },
   "source": [
    "### Moving till the last but one layer (excluding it).\n",
    "#### Plotting the outputs of this layer of the NN."
   ]
  },
  {
   "cell_type": "code",
   "execution_count": 24,
   "id": "economic-server",
   "metadata": {
    "execution": {
     "iopub.execute_input": "2021-07-26T00:21:58.073770Z",
     "iopub.status.busy": "2021-07-26T00:21:58.072061Z",
     "iopub.status.idle": "2021-07-26T00:21:58.081601Z",
     "shell.execute_reply": "2021-07-26T00:21:58.082000Z"
    },
    "papermill": {
     "duration": 0.059193,
     "end_time": "2021-07-26T00:21:58.082128",
     "exception": false,
     "start_time": "2021-07-26T00:21:58.022935",
     "status": "completed"
    },
    "tags": []
   },
   "outputs": [],
   "source": [
    "model_new = Model(layers[:-2])"
   ]
  },
  {
   "cell_type": "code",
   "execution_count": 25,
   "id": "varied-upgrade",
   "metadata": {
    "execution": {
     "iopub.execute_input": "2021-07-26T00:21:58.177506Z",
     "iopub.status.busy": "2021-07-26T00:21:58.174922Z",
     "iopub.status.idle": "2021-07-26T00:21:58.194027Z",
     "shell.execute_reply": "2021-07-26T00:21:58.194439Z"
    },
    "papermill": {
     "duration": 0.068606,
     "end_time": "2021-07-26T00:21:58.194575",
     "exception": false,
     "start_time": "2021-07-26T00:21:58.125969",
     "status": "completed"
    },
    "tags": []
   },
   "outputs": [],
   "source": [
    "plot_testing = model_new(testing_xdata)"
   ]
  },
  {
   "cell_type": "code",
   "execution_count": 26,
   "id": "specific-handling",
   "metadata": {
    "execution": {
     "iopub.execute_input": "2021-07-26T00:21:58.323563Z",
     "iopub.status.busy": "2021-07-26T00:21:58.323037Z",
     "iopub.status.idle": "2021-07-26T00:21:58.498312Z",
     "shell.execute_reply": "2021-07-26T00:21:58.497787Z"
    },
    "papermill": {
     "duration": 0.22312,
     "end_time": "2021-07-26T00:21:58.498442",
     "exception": false,
     "start_time": "2021-07-26T00:21:58.275322",
     "status": "completed"
    },
    "tags": []
   },
   "outputs": [
    {
     "data": {
      "text/plain": [
       "Text(0.5, 1.0, 'Outputs')"
      ]
     },
     "execution_count": 26,
     "metadata": {},
     "output_type": "execute_result"
    },
    {
     "data": {
      "image/png": "[encoded data removed]",
      "text/plain": [
       "<Figure size 576x504 with 1 Axes>"
      ]
     },
     "metadata": {
      "needs_background": "light"
     },
     "output_type": "display_data"
    }
   ],
   "source": [
    "plt.figure(figsize=(8,7))\n",
    "plt.scatter(plot_testing[:,0], plot_testing[:,1], alpha = 0.1, c = y_test.ravel());\n",
    "plt.title('Outputs')"
   ]
  },
  {
   "cell_type": "markdown",
   "id": "described-knowing",
   "metadata": {
    "papermill": {
     "duration": 0.045975,
     "end_time": "2021-07-26T00:21:58.590939",
     "exception": false,
     "start_time": "2021-07-26T00:21:58.544964",
     "status": "completed"
    },
    "tags": []
   },
   "source": [
    "### Plotting probability contours"
   ]
  },
  {
   "cell_type": "code",
   "execution_count": 27,
   "id": "needed-growing",
   "metadata": {
    "execution": {
     "iopub.execute_input": "2021-07-26T00:21:58.686532Z",
     "iopub.status.busy": "2021-07-26T00:21:58.686014Z",
     "iopub.status.idle": "2021-07-26T00:21:58.697300Z",
     "shell.execute_reply": "2021-07-26T00:21:58.697702Z"
    },
    "papermill": {
     "duration": 0.060955,
     "end_time": "2021-07-26T00:21:58.697834",
     "exception": false,
     "start_time": "2021-07-26T00:21:58.636879",
     "status": "completed"
    },
    "tags": []
   },
   "outputs": [],
   "source": [
    "model_prob = Model(layers[-2:]) "
   ]
  },
  {
   "cell_type": "code",
   "execution_count": 28,
   "id": "introductory-enforcement",
   "metadata": {
    "execution": {
     "iopub.execute_input": "2021-07-26T00:21:58.794607Z",
     "iopub.status.busy": "2021-07-26T00:21:58.794107Z",
     "iopub.status.idle": "2021-07-26T00:21:58.807006Z",
     "shell.execute_reply": "2021-07-26T00:21:58.807378Z"
    },
    "papermill": {
     "duration": 0.063569,
     "end_time": "2021-07-26T00:21:58.807508",
     "exception": false,
     "start_time": "2021-07-26T00:21:58.743939",
     "status": "completed"
    },
    "tags": []
   },
   "outputs": [],
   "source": [
    "# Adjust the x and y ranges according to the above generated plot.\n",
    "x_range = np.linspace(-4, 1, 100) \n",
    "y_range = np.linspace(-6, 6, 100) \n",
    "x_grid, y_grid = np.meshgrid(x_range, y_range) # x_grid and y_grig are of size 100 X 100\n",
    "\n",
    "# converting x_grid and y_grid to continuous arrays\n",
    "x_grid_flat = np.ravel(x_grid)\n",
    "y_grid_flat = np.ravel(y_grid)\n",
    "\n",
    "# The last layer of the current model takes two columns as input. Hence transpose of np.vstack() is required.\n",
    "X = np.vstack((x_grid_flat, y_grid_flat)).T\n",
    "\n",
    "# x_grid and y_grid are of size 100 x 100\n",
    "probability_contour = model_prob(X).reshape(100,100) "
   ]
  },
  {
   "cell_type": "code",
   "execution_count": 29,
   "id": "understood-landing",
   "metadata": {
    "execution": {
     "iopub.execute_input": "2021-07-26T00:21:58.902624Z",
     "iopub.status.busy": "2021-07-26T00:21:58.902177Z",
     "iopub.status.idle": "2021-07-26T00:21:59.145379Z",
     "shell.execute_reply": "2021-07-26T00:21:59.144921Z"
    },
    "papermill": {
     "duration": 0.287695,
     "end_time": "2021-07-26T00:21:59.145497",
     "exception": false,
     "start_time": "2021-07-26T00:21:58.857802",
     "status": "completed"
    },
    "tags": []
   },
   "outputs": [
    {
     "data": {
      "image/png": "[encoded data removed]",
      "text/plain": [
       "<Figure size 720x648 with 1 Axes>"
      ]
     },
     "metadata": {
      "needs_background": "light"
     },
     "output_type": "display_data"
    }
   ],
   "source": [
    "plt.figure(figsize=(10,9))\n",
    "plt.scatter(plot_testing[:,0], plot_testing[:,1], alpha = 0.1, c = y_test.ravel())\n",
    "contours = plt.contour(x_grid,y_grid,probability_contour)\n",
    "plt.title('Probability Contours')\n",
    "plt.clabel(contours, inline = True );"
   ]
  }
 ],
 "metadata": {
  "kernelspec": {
   "display_name": "Python 3",
   "language": "python",
   "name": "python3"
  },
  "language_info": {
   "codemirror_mode": {
    "name": "ipython",
    "version": 3
   },
   "file_extension": ".py",
   "mimetype": "text/x-python",
   "name": "python",
   "nbconvert_exporter": "python",
   "pygments_lexer": "ipython3",
   "version": "3.6.14"
  },
  "papermill": {
   "duration": 419.415512,
   "end_time": "2021-07-26T00:22:00.346812",
   "environment_variables": {},
   "exception": null,
   "input_path": "2020-08-11-NeuralNetwork.ipynb",
   "output_path": "2020-08-11-NeuralNetwork.ipynb",
   "parameters": {},
   "start_time": "2021-07-26T00:15:00.931300",
   "version": "2.1.2"
  }
 },
 "nbformat": 4,
 "nbformat_minor": 5
}