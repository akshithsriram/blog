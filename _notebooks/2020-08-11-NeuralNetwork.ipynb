{
 "cells": [
  {
   "cell_type": "markdown",
   "metadata": {
    "papermill": {
     "duration": 0.026826,
     "end_time": "2021-01-16T00:36:36.823504",
     "exception": false,
     "start_time": "2021-01-16T00:36:36.796678",
     "status": "completed"
    },
    "tags": []
   },
   "source": [
    "# \"A Basic Neural Network: Differentiate Hand-Written Digits\"\n",
    "\n",
    "- badges: true\n",
    "- author: Akshith Sriram"
   ]
  },
  {
   "cell_type": "markdown",
   "metadata": {
    "papermill": {
     "duration": 0.023715,
     "end_time": "2021-01-16T00:36:36.870283",
     "exception": false,
     "start_time": "2021-01-16T00:36:36.846568",
     "status": "completed"
    },
    "tags": []
   },
   "source": [
    "### Key Objectives:\n",
    "- Building a neural network that differentiates two hand-written digits 3 and 8.\n",
    "- Comparing the results of this Neural Network (NN) to that of a Logistic Regression (LR) model.\n",
    "\n",
    "### Requirements:\n",
    "- 'Kudzu' : A neural network library that was designed during our course by [Univ.AI](www.univ.ai). \n",
    "- MNIST Database\n",
    "\n",
    "If MNIST is not installed, use the command `!pip install mnist` given below.\n",
    "It can be run both from the command line and Jupyter Notebook."
   ]
  },
  {
   "cell_type": "code",
   "execution_count": 1,
   "metadata": {
    "execution": {
     "iopub.execute_input": "2021-01-16T00:36:36.925119Z",
     "iopub.status.busy": "2021-01-16T00:36:36.924593Z",
     "iopub.status.idle": "2021-01-16T00:36:38.295668Z",
     "shell.execute_reply": "2021-01-16T00:36:38.295153Z"
    },
    "papermill": {
     "duration": 1.403272,
     "end_time": "2021-01-16T00:36:38.295811",
     "exception": false,
     "start_time": "2021-01-16T00:36:36.892539",
     "status": "completed"
    },
    "tags": []
   },
   "outputs": [
    {
     "name": "stdout",
     "output_type": "stream",
     "text": [
      "Collecting mnist\r\n"
     ]
    },
    {
     "name": "stdout",
     "output_type": "stream",
     "text": [
      "  Downloading mnist-0.2.2-py2.py3-none-any.whl (3.5 kB)\r\n",
      "Requirement already satisfied: numpy in /opt/hostedtoolcache/Python/3.6.12/x64/lib/python3.6/site-packages (from mnist) (1.19.5)\r\n"
     ]
    },
    {
     "name": "stdout",
     "output_type": "stream",
     "text": [
      "Installing collected packages: mnist\r\n"
     ]
    },
    {
     "name": "stdout",
     "output_type": "stream",
     "text": [
      "Successfully installed mnist-0.2.2\r\n"
     ]
    }
   ],
   "source": [
    "!pip install mnist "
   ]
  },
  {
   "cell_type": "markdown",
   "metadata": {
    "papermill": {
     "duration": 0.023251,
     "end_time": "2021-01-16T00:36:38.342951",
     "exception": false,
     "start_time": "2021-01-16T00:36:38.319700",
     "status": "completed"
    },
    "tags": []
   },
   "source": [
    "#### Importing necessary libraries"
   ]
  },
  {
   "cell_type": "code",
   "execution_count": 2,
   "metadata": {
    "execution": {
     "iopub.execute_input": "2021-01-16T00:36:38.396817Z",
     "iopub.status.busy": "2021-01-16T00:36:38.396306Z",
     "iopub.status.idle": "2021-01-16T00:36:38.847032Z",
     "shell.execute_reply": "2021-01-16T00:36:38.846496Z"
    },
    "papermill": {
     "duration": 0.481098,
     "end_time": "2021-01-16T00:36:38.847202",
     "exception": false,
     "start_time": "2021-01-16T00:36:38.366104",
     "status": "completed"
    },
    "tags": []
   },
   "outputs": [],
   "source": [
    "%load_ext autoreload\n",
    "%autoreload 2\n",
    "\n",
    "%matplotlib inline\n",
    "import matplotlib.pyplot as plt\n",
    "\n",
    "import numpy as np\n",
    "import pandas as pd"
   ]
  },
  {
   "cell_type": "markdown",
   "metadata": {
    "papermill": {
     "duration": 0.023781,
     "end_time": "2021-01-16T00:36:38.895115",
     "exception": false,
     "start_time": "2021-01-16T00:36:38.871334",
     "status": "completed"
    },
    "tags": []
   },
   "source": [
    "### Preparing the Data"
   ]
  },
  {
   "cell_type": "code",
   "execution_count": 3,
   "metadata": {
    "execution": {
     "iopub.execute_input": "2021-01-16T00:36:38.945059Z",
     "iopub.status.busy": "2021-01-16T00:36:38.944554Z",
     "iopub.status.idle": "2021-01-16T00:36:38.956667Z",
     "shell.execute_reply": "2021-01-16T00:36:38.956238Z"
    },
    "papermill": {
     "duration": 0.038435,
     "end_time": "2021-01-16T00:36:38.956776",
     "exception": false,
     "start_time": "2021-01-16T00:36:38.918341",
     "status": "completed"
    },
    "tags": []
   },
   "outputs": [],
   "source": [
    "import mnist"
   ]
  },
  {
   "cell_type": "code",
   "execution_count": 4,
   "metadata": {
    "execution": {
     "iopub.execute_input": "2021-01-16T00:36:39.011273Z",
     "iopub.status.busy": "2021-01-16T00:36:39.010751Z",
     "iopub.status.idle": "2021-01-16T00:36:39.767724Z",
     "shell.execute_reply": "2021-01-16T00:36:39.768216Z"
    },
    "papermill": {
     "duration": 0.788284,
     "end_time": "2021-01-16T00:36:39.768371",
     "exception": false,
     "start_time": "2021-01-16T00:36:38.980087",
     "status": "completed"
    },
    "tags": []
   },
   "outputs": [],
   "source": [
    "train_images = mnist.train_images()\n",
    "train_labels = mnist.train_labels()"
   ]
  },
  {
   "cell_type": "code",
   "execution_count": 5,
   "metadata": {
    "execution": {
     "iopub.execute_input": "2021-01-16T00:36:39.820640Z",
     "iopub.status.busy": "2021-01-16T00:36:39.820180Z",
     "iopub.status.idle": "2021-01-16T00:36:39.832169Z",
     "shell.execute_reply": "2021-01-16T00:36:39.831807Z"
    },
    "papermill": {
     "duration": 0.040267,
     "end_time": "2021-01-16T00:36:39.832276",
     "exception": false,
     "start_time": "2021-01-16T00:36:39.792009",
     "status": "completed"
    },
    "tags": []
   },
   "outputs": [
    {
     "data": {
      "text/plain": [
       "((60000, 28, 28), (60000,))"
      ]
     },
     "execution_count": 5,
     "metadata": {},
     "output_type": "execute_result"
    }
   ],
   "source": [
    "train_images.shape, train_labels.shape"
   ]
  },
  {
   "cell_type": "code",
   "execution_count": 6,
   "metadata": {
    "execution": {
     "iopub.execute_input": "2021-01-16T00:36:39.879868Z",
     "iopub.status.busy": "2021-01-16T00:36:39.879417Z",
     "iopub.status.idle": "2021-01-16T00:36:40.173762Z",
     "shell.execute_reply": "2021-01-16T00:36:40.173210Z"
    },
    "papermill": {
     "duration": 0.32065,
     "end_time": "2021-01-16T00:36:40.173907",
     "exception": false,
     "start_time": "2021-01-16T00:36:39.853257",
     "status": "completed"
    },
    "tags": []
   },
   "outputs": [],
   "source": [
    "test_images = mnist.test_images()\n",
    "test_labels = mnist.test_labels()"
   ]
  },
  {
   "cell_type": "code",
   "execution_count": 7,
   "metadata": {
    "execution": {
     "iopub.execute_input": "2021-01-16T00:36:40.223253Z",
     "iopub.status.busy": "2021-01-16T00:36:40.222768Z",
     "iopub.status.idle": "2021-01-16T00:36:40.234634Z",
     "shell.execute_reply": "2021-01-16T00:36:40.234278Z"
    },
    "papermill": {
     "duration": 0.037157,
     "end_time": "2021-01-16T00:36:40.234740",
     "exception": false,
     "start_time": "2021-01-16T00:36:40.197583",
     "status": "completed"
    },
    "tags": []
   },
   "outputs": [
    {
     "data": {
      "text/plain": [
       "((10000, 28, 28), (10000,))"
      ]
     },
     "execution_count": 7,
     "metadata": {},
     "output_type": "execute_result"
    }
   ],
   "source": [
    "test_images.shape, test_labels.shape"
   ]
  },
  {
   "cell_type": "code",
   "execution_count": 8,
   "metadata": {
    "execution": {
     "iopub.execute_input": "2021-01-16T00:36:40.284282Z",
     "iopub.status.busy": "2021-01-16T00:36:40.283848Z",
     "iopub.status.idle": "2021-01-16T00:36:40.409646Z",
     "shell.execute_reply": "2021-01-16T00:36:40.410034Z"
    },
    "papermill": {
     "duration": 0.154307,
     "end_time": "2021-01-16T00:36:40.410179",
     "exception": false,
     "start_time": "2021-01-16T00:36:40.255872",
     "status": "completed"
    },
    "tags": []
   },
   "outputs": [
    {
     "name": "stdout",
     "output_type": "stream",
     "text": [
      "2\n"
     ]
    },
    {
     "data": {
      "text/plain": [
       "<matplotlib.image.AxesImage at 0x7f0e41bcf588>"
      ]
     },
     "execution_count": 8,
     "metadata": {},
     "output_type": "execute_result"
    },
    {
     "data": {
      "image/png": "[encoded data removed]",
      "text/plain": [
       "<Figure size 432x288 with 1 Axes>"
      ]
     },
     "metadata": {
      "needs_background": "light"
     },
     "output_type": "display_data"
    }
   ],
   "source": [
    "image_index = 7776 # You may select anything up to 60,000\n",
    "print(train_labels[image_index]) \n",
    "plt.imshow(train_images[image_index], cmap='Greys')"
   ]
  },
  {
   "cell_type": "markdown",
   "metadata": {
    "papermill": {
     "duration": 0.025784,
     "end_time": "2021-01-16T00:36:40.461117",
     "exception": false,
     "start_time": "2021-01-16T00:36:40.435333",
     "status": "completed"
    },
    "tags": []
   },
   "source": [
    "## Filter data to get 3 and 8 out"
   ]
  },
  {
   "cell_type": "code",
   "execution_count": 9,
   "metadata": {
    "execution": {
     "iopub.execute_input": "2021-01-16T00:36:40.517741Z",
     "iopub.status.busy": "2021-01-16T00:36:40.517228Z",
     "iopub.status.idle": "2021-01-16T00:36:40.534226Z",
     "shell.execute_reply": "2021-01-16T00:36:40.533820Z"
    },
    "papermill": {
     "duration": 0.048132,
     "end_time": "2021-01-16T00:36:40.534345",
     "exception": false,
     "start_time": "2021-01-16T00:36:40.486213",
     "status": "completed"
    },
    "tags": []
   },
   "outputs": [],
   "source": [
    "train_filter = np.where((train_labels == 3 ) | (train_labels == 8))\n",
    "test_filter = np.where((test_labels == 3) | (test_labels == 8))\n",
    "X_train, y_train = train_images[train_filter], train_labels[train_filter]\n",
    "X_test, y_test = test_images[test_filter], test_labels[test_filter]"
   ]
  },
  {
   "cell_type": "markdown",
   "metadata": {
    "papermill": {
     "duration": 0.025006,
     "end_time": "2021-01-16T00:36:40.584321",
     "exception": false,
     "start_time": "2021-01-16T00:36:40.559315",
     "status": "completed"
    },
    "tags": []
   },
   "source": [
    "We normalize the pixel values in the 0 to 1 range"
   ]
  },
  {
   "cell_type": "code",
   "execution_count": 10,
   "metadata": {
    "execution": {
     "iopub.execute_input": "2021-01-16T00:36:40.638452Z",
     "iopub.status.busy": "2021-01-16T00:36:40.637956Z",
     "iopub.status.idle": "2021-01-16T00:36:40.682965Z",
     "shell.execute_reply": "2021-01-16T00:36:40.682471Z"
    },
    "papermill": {
     "duration": 0.074004,
     "end_time": "2021-01-16T00:36:40.683135",
     "exception": false,
     "start_time": "2021-01-16T00:36:40.609131",
     "status": "completed"
    },
    "tags": []
   },
   "outputs": [],
   "source": [
    "X_train = X_train/255.\n",
    "X_test = X_test/255."
   ]
  },
  {
   "cell_type": "markdown",
   "metadata": {
    "papermill": {
     "duration": 0.025997,
     "end_time": "2021-01-16T00:36:40.734975",
     "exception": false,
     "start_time": "2021-01-16T00:36:40.708978",
     "status": "completed"
    },
    "tags": []
   },
   "source": [
    "Setup the labels as 1 (when the digit is 3) and 0 (when the digit is 8)"
   ]
  },
  {
   "cell_type": "code",
   "execution_count": 11,
   "metadata": {
    "execution": {
     "iopub.execute_input": "2021-01-16T00:36:40.784726Z",
     "iopub.status.busy": "2021-01-16T00:36:40.782415Z",
     "iopub.status.idle": "2021-01-16T00:36:40.793081Z",
     "shell.execute_reply": "2021-01-16T00:36:40.793491Z"
    },
    "papermill": {
     "duration": 0.036495,
     "end_time": "2021-01-16T00:36:40.793624",
     "exception": false,
     "start_time": "2021-01-16T00:36:40.757129",
     "status": "completed"
    },
    "tags": []
   },
   "outputs": [],
   "source": [
    "y_train = 1*(y_train==3)\n",
    "y_test = 1*(y_test==3)"
   ]
  },
  {
   "cell_type": "code",
   "execution_count": 12,
   "metadata": {
    "execution": {
     "iopub.execute_input": "2021-01-16T00:36:40.848581Z",
     "iopub.status.busy": "2021-01-16T00:36:40.848088Z",
     "iopub.status.idle": "2021-01-16T00:36:40.858520Z",
     "shell.execute_reply": "2021-01-16T00:36:40.858091Z"
    },
    "papermill": {
     "duration": 0.040042,
     "end_time": "2021-01-16T00:36:40.858632",
     "exception": false,
     "start_time": "2021-01-16T00:36:40.818590",
     "status": "completed"
    },
    "tags": []
   },
   "outputs": [
    {
     "data": {
      "text/plain": [
       "((11982, 28, 28), (1984, 28, 28))"
      ]
     },
     "execution_count": 12,
     "metadata": {},
     "output_type": "execute_result"
    }
   ],
   "source": [
    "X_train.shape, X_test.shape"
   ]
  },
  {
   "cell_type": "markdown",
   "metadata": {
    "papermill": {
     "duration": 0.02519,
     "end_time": "2021-01-16T00:36:40.909002",
     "exception": false,
     "start_time": "2021-01-16T00:36:40.883812",
     "status": "completed"
    },
    "tags": []
   },
   "source": [
    "### Reshape the input data to create a linear array"
   ]
  },
  {
   "cell_type": "code",
   "execution_count": 13,
   "metadata": {
    "execution": {
     "iopub.execute_input": "2021-01-16T00:36:40.970801Z",
     "iopub.status.busy": "2021-01-16T00:36:40.970340Z",
     "iopub.status.idle": "2021-01-16T00:36:40.978660Z",
     "shell.execute_reply": "2021-01-16T00:36:40.978275Z"
    },
    "papermill": {
     "duration": 0.04447,
     "end_time": "2021-01-16T00:36:40.978761",
     "exception": false,
     "start_time": "2021-01-16T00:36:40.934291",
     "status": "completed"
    },
    "tags": []
   },
   "outputs": [
    {
     "data": {
      "text/plain": [
       "((11982, 784), (1984, 784))"
      ]
     },
     "execution_count": 13,
     "metadata": {},
     "output_type": "execute_result"
    }
   ],
   "source": [
    "X_train = X_train.reshape(X_train.shape[0], -1)\n",
    "X_test = X_test.reshape(X_test.shape[0], -1)\n",
    "X_train.shape, X_test.shape"
   ]
  },
  {
   "cell_type": "markdown",
   "metadata": {
    "papermill": {
     "duration": 0.02248,
     "end_time": "2021-01-16T00:36:41.023676",
     "exception": false,
     "start_time": "2021-01-16T00:36:41.001196",
     "status": "completed"
    },
    "tags": []
   },
   "source": [
    "### Importing appropriate functions from 'Kudzu'"
   ]
  },
  {
   "cell_type": "code",
   "execution_count": 14,
   "metadata": {
    "execution": {
     "iopub.execute_input": "2021-01-16T00:36:41.074408Z",
     "iopub.status.busy": "2021-01-16T00:36:41.073952Z",
     "iopub.status.idle": "2021-01-16T00:36:41.091835Z",
     "shell.execute_reply": "2021-01-16T00:36:41.091466Z"
    },
    "papermill": {
     "duration": 0.045314,
     "end_time": "2021-01-16T00:36:41.091946",
     "exception": false,
     "start_time": "2021-01-16T00:36:41.046632",
     "status": "completed"
    },
    "tags": []
   },
   "outputs": [],
   "source": [
    "from kudzu.layer import Sigmoid\n",
    "from kudzu.layer import Relu\n",
    "from kudzu.layer import Affine, Sigmoid\n",
    "\n",
    "from kudzu.model import Model\n",
    "from kudzu.train import Learner\n",
    "from kudzu.optim import GD\n",
    "from kudzu.data import Data, Dataloader, Sampler\n",
    "\n",
    "from kudzu.callbacks import AccCallback\n",
    "from kudzu.callbacks import ClfCallback\n",
    "\n",
    "from kudzu.loss import MSE"
   ]
  },
  {
   "cell_type": "markdown",
   "metadata": {
    "papermill": {
     "duration": 0.022537,
     "end_time": "2021-01-16T00:36:41.137466",
     "exception": false,
     "start_time": "2021-01-16T00:36:41.114929",
     "status": "completed"
    },
    "tags": []
   },
   "source": [
    "### Let us create a `Config` class, to store important parameters. \n",
    "This class essentially plays the role of a dictionary."
   ]
  },
  {
   "cell_type": "code",
   "execution_count": 15,
   "metadata": {
    "execution": {
     "iopub.execute_input": "2021-01-16T00:36:41.187854Z",
     "iopub.status.busy": "2021-01-16T00:36:41.187398Z",
     "iopub.status.idle": "2021-01-16T00:36:41.198197Z",
     "shell.execute_reply": "2021-01-16T00:36:41.198621Z"
    },
    "papermill": {
     "duration": 0.038608,
     "end_time": "2021-01-16T00:36:41.198741",
     "exception": false,
     "start_time": "2021-01-16T00:36:41.160133",
     "status": "completed"
    },
    "tags": []
   },
   "outputs": [],
   "source": [
    "class Config:\n",
    "    pass\n",
    "config = Config()\n",
    "config.lr = 0.001\n",
    "config.num_epochs = 251\n",
    "config.bs = 50"
   ]
  },
  {
   "cell_type": "markdown",
   "metadata": {
    "papermill": {
     "duration": 0.022603,
     "end_time": "2021-01-16T00:36:41.243965",
     "exception": false,
     "start_time": "2021-01-16T00:36:41.221362",
     "status": "completed"
    },
    "tags": []
   },
   "source": [
    "### Initializing data to the variables"
   ]
  },
  {
   "cell_type": "code",
   "execution_count": 16,
   "metadata": {
    "execution": {
     "iopub.execute_input": "2021-01-16T00:36:41.293563Z",
     "iopub.status.busy": "2021-01-16T00:36:41.293112Z",
     "iopub.status.idle": "2021-01-16T00:36:41.304653Z",
     "shell.execute_reply": "2021-01-16T00:36:41.304296Z"
    },
    "papermill": {
     "duration": 0.038279,
     "end_time": "2021-01-16T00:36:41.304755",
     "exception": false,
     "start_time": "2021-01-16T00:36:41.266476",
     "status": "completed"
    },
    "tags": []
   },
   "outputs": [],
   "source": [
    "data = Data(X_train, y_train.reshape(-1,1))\n",
    "sampler = Sampler(data, config.bs, shuffle=True)\n",
    "\n",
    "dl = Dataloader(data, sampler)\n",
    "\n",
    "opt = GD(config.lr)\n",
    "loss = MSE()"
   ]
  },
  {
   "cell_type": "code",
   "execution_count": 17,
   "metadata": {
    "execution": {
     "iopub.execute_input": "2021-01-16T00:36:41.356761Z",
     "iopub.status.busy": "2021-01-16T00:36:41.356245Z",
     "iopub.status.idle": "2021-01-16T00:36:41.365470Z",
     "shell.execute_reply": "2021-01-16T00:36:41.365065Z"
    },
    "papermill": {
     "duration": 0.038474,
     "end_time": "2021-01-16T00:36:41.365583",
     "exception": false,
     "start_time": "2021-01-16T00:36:41.327109",
     "status": "completed"
    },
    "tags": []
   },
   "outputs": [],
   "source": [
    "training_xdata = X_train\n",
    "testing_xdata = X_test\n",
    "training_ydata = y_train.reshape(-1,1)\n",
    "testing_ydata = y_test.reshape(-1,1)"
   ]
  },
  {
   "cell_type": "markdown",
   "metadata": {
    "papermill": {
     "duration": 0.025214,
     "end_time": "2021-01-16T00:36:41.416179",
     "exception": false,
     "start_time": "2021-01-16T00:36:41.390965",
     "status": "completed"
    },
    "tags": []
   },
   "source": [
    "### Running Models with the Training data\n",
    "Details about the network layers:\n",
    "- A first affine layer has 784 inputs and does 100 affine transforms. These are followed by a Relu\n",
    "- A second affine layer has 100 inputs from the 100 activations of the past layer, and does 100 affine transforms. These are followed by a Relu\n",
    "- A third affine layer has 100 activations and does 2 affine transformations to create an embedding for visualization. There is no non-linearity here.\n",
    "- A final \"logistic regression\" which has an affine transform from 2 inputs to 1 output, which is squeezed through a sigmoid.\n",
    "\n",
    "Help taken from Anshuman's Notebook."
   ]
  },
  {
   "cell_type": "code",
   "execution_count": 18,
   "metadata": {
    "execution": {
     "iopub.execute_input": "2021-01-16T00:36:41.472235Z",
     "iopub.status.busy": "2021-01-16T00:36:41.471717Z",
     "iopub.status.idle": "2021-01-16T00:36:41.487017Z",
     "shell.execute_reply": "2021-01-16T00:36:41.487446Z"
    },
    "papermill": {
     "duration": 0.046129,
     "end_time": "2021-01-16T00:36:41.487576",
     "exception": false,
     "start_time": "2021-01-16T00:36:41.441447",
     "status": "completed"
    },
    "tags": []
   },
   "outputs": [],
   "source": [
    "# layers for the Neural Network\n",
    "layers = [Affine(\"first\", 784, 100), Relu(\"first\"), Affine(\"second\", 100, 100), Relu(\"second\"), Affine(\"third\", 100, 2), Affine(\"final\", 2, 1), Sigmoid(\"final\")]\n",
    "model_nn = Model(layers)\n",
    "\n",
    "# layers for the Logistic Regression\n",
    "layers_lr = [Affine(\"logits\", 784, 1), Sigmoid(\"sigmoid\")]\n",
    "model_lr = Model(layers_lr)"
   ]
  },
  {
   "cell_type": "code",
   "execution_count": 19,
   "metadata": {
    "execution": {
     "iopub.execute_input": "2021-01-16T00:36:41.541753Z",
     "iopub.status.busy": "2021-01-16T00:36:41.541262Z",
     "iopub.status.idle": "2021-01-16T00:36:41.552620Z",
     "shell.execute_reply": "2021-01-16T00:36:41.553048Z"
    },
    "papermill": {
     "duration": 0.040091,
     "end_time": "2021-01-16T00:36:41.553170",
     "exception": false,
     "start_time": "2021-01-16T00:36:41.513079",
     "status": "completed"
    },
    "tags": []
   },
   "outputs": [],
   "source": [
    "# suffix _nn stands for Neural Network.\n",
    "learner_nn = Learner(loss, model_nn, opt, config.num_epochs)\n",
    "acc_nn = ClfCallback(learner_nn, config.bs, training_xdata , testing_xdata, training_ydata, testing_ydata)\n",
    "learner_nn.set_callbacks([acc_nn])"
   ]
  },
  {
   "cell_type": "code",
   "execution_count": 20,
   "metadata": {
    "execution": {
     "iopub.execute_input": "2021-01-16T00:36:41.611594Z",
     "iopub.status.busy": "2021-01-16T00:36:41.611090Z",
     "iopub.status.idle": "2021-01-16T00:37:56.988399Z",
     "shell.execute_reply": "2021-01-16T00:37:56.989044Z"
    },
    "papermill": {
     "duration": 75.41066,
     "end_time": "2021-01-16T00:37:56.989192",
     "exception": false,
     "start_time": "2021-01-16T00:36:41.578532",
     "status": "completed"
    },
    "tags": []
   },
   "outputs": [
    {
     "name": "stdout",
     "output_type": "stream",
     "text": [
      "====== Neural Network ======\n"
     ]
    },
    {
     "name": "stdout",
     "output_type": "stream",
     "text": [
      "Epoch 0, Loss 0.2403\n",
      "Training Accuracy: 0.6761, Testing Accuracy: 0.6951\n",
      "\n"
     ]
    },
    {
     "name": "stdout",
     "output_type": "stream",
     "text": [
      "Epoch 10, Loss 0.0832\n",
      "Training Accuracy: 0.9171, Testing Accuracy: 0.9274\n",
      "\n"
     ]
    },
    {
     "name": "stdout",
     "output_type": "stream",
     "text": [
      "Epoch 20, Loss 0.0529\n",
      "Training Accuracy: 0.9445, Testing Accuracy: 0.9536\n",
      "\n"
     ]
    },
    {
     "name": "stdout",
     "output_type": "stream",
     "text": [
      "Epoch 30, Loss 0.0421\n",
      "Training Accuracy: 0.9552, Testing Accuracy: 0.9617\n",
      "\n"
     ]
    },
    {
     "name": "stdout",
     "output_type": "stream",
     "text": [
      "Epoch 40, Loss 0.0367\n",
      "Training Accuracy: 0.9604, Testing Accuracy: 0.9642\n",
      "\n"
     ]
    },
    {
     "name": "stdout",
     "output_type": "stream",
     "text": [
      "Epoch 50, Loss 0.0334\n",
      "Training Accuracy: 0.9631, Testing Accuracy: 0.9677\n",
      "\n"
     ]
    },
    {
     "name": "stdout",
     "output_type": "stream",
     "text": [
      "Epoch 60, Loss 0.0311\n",
      "Training Accuracy: 0.9648, Testing Accuracy: 0.9672\n",
      "\n"
     ]
    },
    {
     "name": "stdout",
     "output_type": "stream",
     "text": [
      "Epoch 70, Loss 0.0294\n",
      "Training Accuracy: 0.9665, Testing Accuracy: 0.9682\n",
      "\n"
     ]
    },
    {
     "name": "stdout",
     "output_type": "stream",
     "text": [
      "Epoch 80, Loss 0.0281\n",
      "Training Accuracy: 0.9679, Testing Accuracy: 0.9682\n",
      "\n"
     ]
    },
    {
     "name": "stdout",
     "output_type": "stream",
     "text": [
      "Epoch 90, Loss 0.027\n",
      "Training Accuracy: 0.9696, Testing Accuracy: 0.9688\n",
      "\n"
     ]
    },
    {
     "name": "stdout",
     "output_type": "stream",
     "text": [
      "Epoch 100, Loss 0.0261\n",
      "Training Accuracy: 0.9705, Testing Accuracy: 0.9688\n",
      "\n"
     ]
    },
    {
     "name": "stdout",
     "output_type": "stream",
     "text": [
      "Epoch 110, Loss 0.0252\n",
      "Training Accuracy: 0.9711, Testing Accuracy: 0.9698\n",
      "\n"
     ]
    },
    {
     "name": "stdout",
     "output_type": "stream",
     "text": [
      "Epoch 120, Loss 0.0245\n",
      "Training Accuracy: 0.9722, Testing Accuracy: 0.9703\n",
      "\n"
     ]
    },
    {
     "name": "stdout",
     "output_type": "stream",
     "text": [
      "Epoch 130, Loss 0.0239\n",
      "Training Accuracy: 0.9729, Testing Accuracy: 0.9713\n",
      "\n"
     ]
    },
    {
     "name": "stdout",
     "output_type": "stream",
     "text": [
      "Epoch 140, Loss 0.0233\n",
      "Training Accuracy: 0.9731, Testing Accuracy: 0.9713\n",
      "\n"
     ]
    },
    {
     "name": "stdout",
     "output_type": "stream",
     "text": [
      "Epoch 150, Loss 0.0228\n",
      "Training Accuracy: 0.9735, Testing Accuracy: 0.9713\n",
      "\n"
     ]
    },
    {
     "name": "stdout",
     "output_type": "stream",
     "text": [
      "Epoch 160, Loss 0.0222\n",
      "Training Accuracy: 0.9746, Testing Accuracy: 0.9713\n",
      "\n"
     ]
    },
    {
     "name": "stdout",
     "output_type": "stream",
     "text": [
      "Epoch 170, Loss 0.0217\n",
      "Training Accuracy: 0.9753, Testing Accuracy: 0.9713\n",
      "\n"
     ]
    },
    {
     "name": "stdout",
     "output_type": "stream",
     "text": [
      "Epoch 180, Loss 0.0213\n",
      "Training Accuracy: 0.9755, Testing Accuracy: 0.9718\n",
      "\n"
     ]
    },
    {
     "name": "stdout",
     "output_type": "stream",
     "text": [
      "Epoch 190, Loss 0.0208\n",
      "Training Accuracy: 0.9760, Testing Accuracy: 0.9723\n",
      "\n"
     ]
    },
    {
     "name": "stdout",
     "output_type": "stream",
     "text": [
      "Epoch 200, Loss 0.0204\n",
      "Training Accuracy: 0.9766, Testing Accuracy: 0.9728\n",
      "\n"
     ]
    },
    {
     "name": "stdout",
     "output_type": "stream",
     "text": [
      "Epoch 210, Loss 0.02\n",
      "Training Accuracy: 0.9775, Testing Accuracy: 0.9728\n",
      "\n"
     ]
    },
    {
     "name": "stdout",
     "output_type": "stream",
     "text": [
      "Epoch 220, Loss 0.0196\n",
      "Training Accuracy: 0.9781, Testing Accuracy: 0.9728\n",
      "\n"
     ]
    },
    {
     "name": "stdout",
     "output_type": "stream",
     "text": [
      "Epoch 230, Loss 0.0192\n",
      "Training Accuracy: 0.9784, Testing Accuracy: 0.9733\n",
      "\n"
     ]
    },
    {
     "name": "stdout",
     "output_type": "stream",
     "text": [
      "Epoch 240, Loss 0.0188\n",
      "Training Accuracy: 0.9791, Testing Accuracy: 0.9723\n",
      "\n"
     ]
    },
    {
     "name": "stdout",
     "output_type": "stream",
     "text": [
      "Epoch 250, Loss 0.0185\n",
      "Training Accuracy: 0.9801, Testing Accuracy: 0.9733\n",
      "\n"
     ]
    },
    {
     "data": {
      "text/plain": [
       "0.06188633115402729"
      ]
     },
     "execution_count": 20,
     "metadata": {},
     "output_type": "execute_result"
    }
   ],
   "source": [
    "print(\"====== Neural Network ======\")\n",
    "learner_nn.train_loop(dl)"
   ]
  },
  {
   "cell_type": "markdown",
   "metadata": {
    "papermill": {
     "duration": 0.032448,
     "end_time": "2021-01-16T00:37:57.054793",
     "exception": false,
     "start_time": "2021-01-16T00:37:57.022345",
     "status": "completed"
    },
    "tags": []
   },
   "source": [
    "### Logistic Regression based Implementation."
   ]
  },
  {
   "cell_type": "code",
   "execution_count": 21,
   "metadata": {
    "execution": {
     "iopub.execute_input": "2021-01-16T00:37:57.125765Z",
     "iopub.status.busy": "2021-01-16T00:37:57.125158Z",
     "iopub.status.idle": "2021-01-16T00:37:57.135745Z",
     "shell.execute_reply": "2021-01-16T00:37:57.135341Z"
    },
    "papermill": {
     "duration": 0.048015,
     "end_time": "2021-01-16T00:37:57.135863",
     "exception": false,
     "start_time": "2021-01-16T00:37:57.087848",
     "status": "completed"
    },
    "tags": []
   },
   "outputs": [],
   "source": [
    "learner_lr = Learner(loss, model_lr, opt, config.num_epochs)\n",
    "acc_lr = ClfCallback(learner_lr, config.bs, training_xdata , testing_xdata, training_ydata, testing_ydata)\n",
    "learner_lr.set_callbacks([acc_lr])"
   ]
  },
  {
   "cell_type": "code",
   "execution_count": 22,
   "metadata": {
    "execution": {
     "iopub.execute_input": "2021-01-16T00:37:57.209341Z",
     "iopub.status.busy": "2021-01-16T00:37:57.208848Z",
     "iopub.status.idle": "2021-01-16T00:38:10.849222Z",
     "shell.execute_reply": "2021-01-16T00:38:10.849697Z"
    },
    "papermill": {
     "duration": 13.681545,
     "end_time": "2021-01-16T00:38:10.849836",
     "exception": false,
     "start_time": "2021-01-16T00:37:57.168291",
     "status": "completed"
    },
    "tags": []
   },
   "outputs": [
    {
     "name": "stdout",
     "output_type": "stream",
     "text": [
      "====== Logistic Regression ======\n",
      "Epoch 0, Loss 0.2748\n",
      "Training Accuracy: 0.5681, Testing Accuracy: 0.5675\n",
      "\n"
     ]
    },
    {
     "name": "stdout",
     "output_type": "stream",
     "text": [
      "Epoch 10, Loss 0.1107\n",
      "Training Accuracy: 0.8893, Testing Accuracy: 0.8967\n",
      "\n"
     ]
    },
    {
     "name": "stdout",
     "output_type": "stream",
     "text": [
      "Epoch 20, Loss 0.084\n",
      "Training Accuracy: 0.9170, Testing Accuracy: 0.9244\n",
      "\n"
     ]
    },
    {
     "name": "stdout",
     "output_type": "stream",
     "text": [
      "Epoch 30, Loss 0.0716\n",
      "Training Accuracy: 0.9308, Testing Accuracy: 0.9360\n",
      "\n"
     ]
    },
    {
     "name": "stdout",
     "output_type": "stream",
     "text": [
      "Epoch 40, Loss 0.0642\n",
      "Training Accuracy: 0.9379, Testing Accuracy: 0.9425\n",
      "\n"
     ]
    },
    {
     "name": "stdout",
     "output_type": "stream",
     "text": [
      "Epoch 50, Loss 0.0591\n",
      "Training Accuracy: 0.9414, Testing Accuracy: 0.9461\n",
      "\n"
     ]
    },
    {
     "name": "stdout",
     "output_type": "stream",
     "text": [
      "Epoch 60, Loss 0.0555\n",
      "Training Accuracy: 0.9451, Testing Accuracy: 0.9491\n",
      "\n"
     ]
    },
    {
     "name": "stdout",
     "output_type": "stream",
     "text": [
      "Epoch 70, Loss 0.0527\n",
      "Training Accuracy: 0.9470, Testing Accuracy: 0.9561\n",
      "\n"
     ]
    },
    {
     "name": "stdout",
     "output_type": "stream",
     "text": [
      "Epoch 80, Loss 0.0505\n",
      "Training Accuracy: 0.9490, Testing Accuracy: 0.9577\n",
      "\n"
     ]
    },
    {
     "name": "stdout",
     "output_type": "stream",
     "text": [
      "Epoch 90, Loss 0.0486\n",
      "Training Accuracy: 0.9500, Testing Accuracy: 0.9582\n",
      "\n"
     ]
    },
    {
     "name": "stdout",
     "output_type": "stream",
     "text": [
      "Epoch 100, Loss 0.0471\n",
      "Training Accuracy: 0.9509, Testing Accuracy: 0.9597\n",
      "\n"
     ]
    },
    {
     "name": "stdout",
     "output_type": "stream",
     "text": [
      "Epoch 110, Loss 0.0458\n",
      "Training Accuracy: 0.9523, Testing Accuracy: 0.9617\n",
      "\n"
     ]
    },
    {
     "name": "stdout",
     "output_type": "stream",
     "text": [
      "Epoch 120, Loss 0.0447\n",
      "Training Accuracy: 0.9531, Testing Accuracy: 0.9637\n",
      "\n"
     ]
    },
    {
     "name": "stdout",
     "output_type": "stream",
     "text": [
      "Epoch 130, Loss 0.0437\n",
      "Training Accuracy: 0.9537, Testing Accuracy: 0.9647\n",
      "\n"
     ]
    },
    {
     "name": "stdout",
     "output_type": "stream",
     "text": [
      "Epoch 140, Loss 0.0428\n",
      "Training Accuracy: 0.9548, Testing Accuracy: 0.9647\n",
      "\n"
     ]
    },
    {
     "name": "stdout",
     "output_type": "stream",
     "text": [
      "Epoch 150, Loss 0.042\n",
      "Training Accuracy: 0.9558, Testing Accuracy: 0.9657\n",
      "\n"
     ]
    },
    {
     "name": "stdout",
     "output_type": "stream",
     "text": [
      "Epoch 160, Loss 0.0413\n",
      "Training Accuracy: 0.9563, Testing Accuracy: 0.9662\n",
      "\n"
     ]
    },
    {
     "name": "stdout",
     "output_type": "stream",
     "text": [
      "Epoch 170, Loss 0.0406\n",
      "Training Accuracy: 0.9572, Testing Accuracy: 0.9667\n",
      "\n"
     ]
    },
    {
     "name": "stdout",
     "output_type": "stream",
     "text": [
      "Epoch 180, Loss 0.0401\n",
      "Training Accuracy: 0.9575, Testing Accuracy: 0.9672\n",
      "\n"
     ]
    },
    {
     "name": "stdout",
     "output_type": "stream",
     "text": [
      "Epoch 190, Loss 0.0395\n",
      "Training Accuracy: 0.9579, Testing Accuracy: 0.9672\n",
      "\n"
     ]
    },
    {
     "name": "stdout",
     "output_type": "stream",
     "text": [
      "Epoch 200, Loss 0.039\n",
      "Training Accuracy: 0.9584, Testing Accuracy: 0.9672\n",
      "\n"
     ]
    },
    {
     "name": "stdout",
     "output_type": "stream",
     "text": [
      "Epoch 210, Loss 0.0385\n",
      "Training Accuracy: 0.9587, Testing Accuracy: 0.9667\n",
      "\n"
     ]
    },
    {
     "name": "stdout",
     "output_type": "stream",
     "text": [
      "Epoch 220, Loss 0.0381\n",
      "Training Accuracy: 0.9593, Testing Accuracy: 0.9672\n",
      "\n"
     ]
    },
    {
     "name": "stdout",
     "output_type": "stream",
     "text": [
      "Epoch 230, Loss 0.0377\n",
      "Training Accuracy: 0.9593, Testing Accuracy: 0.9672\n",
      "\n"
     ]
    },
    {
     "name": "stdout",
     "output_type": "stream",
     "text": [
      "Epoch 240, Loss 0.0373\n",
      "Training Accuracy: 0.9599, Testing Accuracy: 0.9667\n",
      "\n"
     ]
    },
    {
     "name": "stdout",
     "output_type": "stream",
     "text": [
      "Epoch 250, Loss 0.037\n",
      "Training Accuracy: 0.9604, Testing Accuracy: 0.9667\n",
      "\n"
     ]
    },
    {
     "data": {
      "text/plain": [
       "0.1005406435654463"
      ]
     },
     "execution_count": 22,
     "metadata": {},
     "output_type": "execute_result"
    }
   ],
   "source": [
    "print(\"====== Logistic Regression ======\")\n",
    "learner_lr.train_loop(dl)"
   ]
  },
  {
   "cell_type": "markdown",
   "metadata": {
    "papermill": {
     "duration": 0.039904,
     "end_time": "2021-01-16T00:38:10.929404",
     "exception": false,
     "start_time": "2021-01-16T00:38:10.889500",
     "status": "completed"
    },
    "tags": []
   },
   "source": [
    "### Comparing results of NN and LR"
   ]
  },
  {
   "cell_type": "code",
   "execution_count": 23,
   "metadata": {
    "execution": {
     "iopub.execute_input": "2021-01-16T00:38:11.016170Z",
     "iopub.status.busy": "2021-01-16T00:38:11.015660Z",
     "iopub.status.idle": "2021-01-16T00:38:11.226199Z",
     "shell.execute_reply": "2021-01-16T00:38:11.225771Z"
    },
    "papermill": {
     "duration": 0.257627,
     "end_time": "2021-01-16T00:38:11.226327",
     "exception": false,
     "start_time": "2021-01-16T00:38:10.968700",
     "status": "completed"
    },
    "tags": []
   },
   "outputs": [
    {
     "data": {
      "text/plain": [
       "<matplotlib.legend.Legend at 0x7f0e397b5278>"
      ]
     },
     "execution_count": 23,
     "metadata": {},
     "output_type": "execute_result"
    },
    {
     "data": {
      "image/png": "[encoded data removed]",
      "text/plain": [
       "<Figure size 1080x720 with 1 Axes>"
      ]
     },
     "metadata": {
      "needs_background": "light"
     },
     "output_type": "display_data"
    }
   ],
   "source": [
    "plt.figure(figsize=(15,10))\n",
    "\n",
    "# Neural Network plots\n",
    "plt.plot(acc_nn.accuracies, 'r-', label = \"Training Accuracies - NN\")\n",
    "plt.plot(acc_nn.test_accuracies, 'g-', label = \"Testing Accuracies - NN\")\n",
    "\n",
    "# Logistic Regression plots\n",
    "plt.plot(acc_lr.accuracies, 'k-', label = \"Training Accuracies - LR\")\n",
    "plt.plot(acc_lr.test_accuracies, 'b-', label = \"Testing Accuracies - LR\")\n",
    "\n",
    "plt.ylim(0.8, 1)\n",
    "\n",
    "plt.legend()\n",
    "\n"
   ]
  },
  {
   "cell_type": "markdown",
   "metadata": {
    "papermill": {
     "duration": 0.041016,
     "end_time": "2021-01-16T00:38:11.308693",
     "exception": false,
     "start_time": "2021-01-16T00:38:11.267677",
     "status": "completed"
    },
    "tags": []
   },
   "source": [
    "### From the plot, we can observe the following:\n",
    "- Neural Network achieves higher accuracy than the Logistic Regression model.\n",
    "- This apparently, is because of overfitting, i.e. NN captures more noise than data.\n",
    "- Testing accuracy of NN drops below the Training accuracy at higher epochs. This explains the over-fitting on training data.\n",
    "- Logistic Regression gives a reliable accuracy, without the above mentioned problem.\n"
   ]
  },
  {
   "cell_type": "markdown",
   "metadata": {
    "papermill": {
     "duration": 0.04071,
     "end_time": "2021-01-16T00:38:11.390297",
     "exception": false,
     "start_time": "2021-01-16T00:38:11.349587",
     "status": "completed"
    },
    "tags": []
   },
   "source": [
    "### Moving till the last but one layer (excluding it).\n",
    "#### Plotting the outputs of this layer of the NN."
   ]
  },
  {
   "cell_type": "code",
   "execution_count": 24,
   "metadata": {
    "execution": {
     "iopub.execute_input": "2021-01-16T00:38:11.485567Z",
     "iopub.status.busy": "2021-01-16T00:38:11.484526Z",
     "iopub.status.idle": "2021-01-16T00:38:11.490307Z",
     "shell.execute_reply": "2021-01-16T00:38:11.490719Z"
    },
    "papermill": {
     "duration": 0.059502,
     "end_time": "2021-01-16T00:38:11.490850",
     "exception": false,
     "start_time": "2021-01-16T00:38:11.431348",
     "status": "completed"
    },
    "tags": []
   },
   "outputs": [],
   "source": [
    "model_new = Model(layers[:-2])"
   ]
  },
  {
   "cell_type": "code",
   "execution_count": 25,
   "metadata": {
    "execution": {
     "iopub.execute_input": "2021-01-16T00:38:11.578425Z",
     "iopub.status.busy": "2021-01-16T00:38:11.577481Z",
     "iopub.status.idle": "2021-01-16T00:38:11.594927Z",
     "shell.execute_reply": "2021-01-16T00:38:11.595358Z"
    },
    "papermill": {
     "duration": 0.063776,
     "end_time": "2021-01-16T00:38:11.595495",
     "exception": false,
     "start_time": "2021-01-16T00:38:11.531719",
     "status": "completed"
    },
    "tags": []
   },
   "outputs": [],
   "source": [
    "plot_testing = model_new(testing_xdata)"
   ]
  },
  {
   "cell_type": "code",
   "execution_count": 26,
   "metadata": {
    "execution": {
     "iopub.execute_input": "2021-01-16T00:38:11.687628Z",
     "iopub.status.busy": "2021-01-16T00:38:11.687057Z",
     "iopub.status.idle": "2021-01-16T00:38:11.833104Z",
     "shell.execute_reply": "2021-01-16T00:38:11.833660Z"
    },
    "papermill": {
     "duration": 0.197048,
     "end_time": "2021-01-16T00:38:11.833805",
     "exception": false,
     "start_time": "2021-01-16T00:38:11.636757",
     "status": "completed"
    },
    "tags": []
   },
   "outputs": [
    {
     "data": {
      "text/plain": [
       "Text(0.5, 1.0, 'Outputs')"
      ]
     },
     "execution_count": 26,
     "metadata": {},
     "output_type": "execute_result"
    },
    {
     "data": {
      "image/png": "[encoded data removed]",
      "text/plain": [
       "<Figure size 576x504 with 1 Axes>"
      ]
     },
     "metadata": {
      "needs_background": "light"
     },
     "output_type": "display_data"
    }
   ],
   "source": [
    "plt.figure(figsize=(8,7))\n",
    "plt.scatter(plot_testing[:,0], plot_testing[:,1], alpha = 0.1, c = y_test.ravel());\n",
    "plt.title('Outputs')"
   ]
  },
  {
   "cell_type": "markdown",
   "metadata": {
    "papermill": {
     "duration": 0.037574,
     "end_time": "2021-01-16T00:38:11.909431",
     "exception": false,
     "start_time": "2021-01-16T00:38:11.871857",
     "status": "completed"
    },
    "tags": []
   },
   "source": [
    "### Plotting probability contours"
   ]
  },
  {
   "cell_type": "code",
   "execution_count": 27,
   "metadata": {
    "execution": {
     "iopub.execute_input": "2021-01-16T00:38:11.988766Z",
     "iopub.status.busy": "2021-01-16T00:38:11.988315Z",
     "iopub.status.idle": "2021-01-16T00:38:12.000444Z",
     "shell.execute_reply": "2021-01-16T00:38:12.000060Z"
    },
    "papermill": {
     "duration": 0.053137,
     "end_time": "2021-01-16T00:38:12.000546",
     "exception": false,
     "start_time": "2021-01-16T00:38:11.947409",
     "status": "completed"
    },
    "tags": []
   },
   "outputs": [],
   "source": [
    "model_prob = Model(layers[-2:]) "
   ]
  },
  {
   "cell_type": "code",
   "execution_count": 28,
   "metadata": {
    "execution": {
     "iopub.execute_input": "2021-01-16T00:38:12.097980Z",
     "iopub.status.busy": "2021-01-16T00:38:12.093569Z",
     "iopub.status.idle": "2021-01-16T00:38:12.098556Z",
     "shell.execute_reply": "2021-01-16T00:38:12.098946Z"
    },
    "papermill": {
     "duration": 0.060659,
     "end_time": "2021-01-16T00:38:12.099098",
     "exception": false,
     "start_time": "2021-01-16T00:38:12.038439",
     "status": "completed"
    },
    "tags": []
   },
   "outputs": [],
   "source": [
    "# Adjust the x and y ranges according to the above generated plot.\n",
    "x_range = np.linspace(-4, 1, 100) \n",
    "y_range = np.linspace(-6, 6, 100) \n",
    "x_grid, y_grid = np.meshgrid(x_range, y_range) # x_grid and y_grig are of size 100 X 100\n",
    "\n",
    "# converting x_grid and y_grid to continuous arrays\n",
    "x_grid_flat = np.ravel(x_grid)\n",
    "y_grid_flat = np.ravel(y_grid)\n",
    "\n",
    "# The last layer of the current model takes two columns as input. Hence transpose of np.vstack() is required.\n",
    "X = np.vstack((x_grid_flat, y_grid_flat)).T\n",
    "\n",
    "# x_grid and y_grid are of size 100 x 100\n",
    "probability_contour = model_prob(X).reshape(100,100) "
   ]
  },
  {
   "cell_type": "code",
   "execution_count": 29,
   "metadata": {
    "execution": {
     "iopub.execute_input": "2021-01-16T00:38:12.223841Z",
     "iopub.status.busy": "2021-01-16T00:38:12.223083Z",
     "iopub.status.idle": "2021-01-16T00:38:12.427439Z",
     "shell.execute_reply": "2021-01-16T00:38:12.426911Z"
    },
    "papermill": {
     "duration": 0.285716,
     "end_time": "2021-01-16T00:38:12.427580",
     "exception": false,
     "start_time": "2021-01-16T00:38:12.141864",
     "status": "completed"
    },
    "tags": []
   },
   "outputs": [
    {
     "data": {
      "image/png": "[encoded data removed]",
      "text/plain": [
       "<Figure size 720x648 with 1 Axes>"
      ]
     },
     "metadata": {
      "needs_background": "light"
     },
     "output_type": "display_data"
    }
   ],
   "source": [
    "plt.figure(figsize=(10,9))\n",
    "plt.scatter(plot_testing[:,0], plot_testing[:,1], alpha = 0.1, c = y_test.ravel())\n",
    "contours = plt.contour(x_grid,y_grid,probability_contour)\n",
    "plt.title('Probability Contours')\n",
    "plt.clabel(contours, inline = True );"
   ]
  }
 ],
 "metadata": {
  "kernelspec": {
   "display_name": "Python 3",
   "language": "python",
   "name": "python3"
  },
  "language_info": {
   "codemirror_mode": {
    "name": "ipython",
    "version": 3
   },
   "file_extension": ".py",
   "mimetype": "text/x-python",
   "name": "python",
   "nbconvert_exporter": "python",
   "pygments_lexer": "ipython3",
   "version": "3.6.12"
  },
  "papermill": {
   "duration": 97.108075,
   "end_time": "2021-01-16T00:38:12.881856",
   "environment_variables": {},
   "exception": null,
   "input_path": "2020-08-11-NeuralNetwork.ipynb",
   "output_path": "2020-08-11-NeuralNetwork.ipynb",
   "parameters": {},
   "start_time": "2021-01-16T00:36:35.773781",
   "version": "2.1.2"
  }
 },
 "nbformat": 4,
 "nbformat_minor": 4
}