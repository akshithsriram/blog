{
 "cells": [
  {
   "cell_type": "markdown",
   "id": "fitted-suggestion",
   "metadata": {
    "papermill": {
     "duration": 0.033802,
     "end_time": "2021-05-18T20:05:28.463559",
     "exception": false,
     "start_time": "2021-05-18T20:05:28.429757",
     "status": "completed"
    },
    "tags": []
   },
   "source": [
    "# \"A Basic Neural Network: Differentiate Hand-Written Digits\"\n",
    "\n",
    "- badges: true\n",
    "- author: Akshith Sriram"
   ]
  },
  {
   "cell_type": "markdown",
   "id": "signal-flexibility",
   "metadata": {
    "papermill": {
     "duration": 0.027945,
     "end_time": "2021-05-18T20:05:28.520099",
     "exception": false,
     "start_time": "2021-05-18T20:05:28.492154",
     "status": "completed"
    },
    "tags": []
   },
   "source": [
    "### Key Objectives:\n",
    "- Building a neural network that differentiates two hand-written digits 3 and 8.\n",
    "- Comparing the results of this Neural Network (NN) to that of a Logistic Regression (LR) model.\n",
    "\n",
    "### Requirements:\n",
    "- 'Kudzu' : A neural network library that was designed during our course by [Univ.AI](www.univ.ai). \n",
    "- MNIST Database\n",
    "\n",
    "If MNIST is not installed, use the command `!pip install mnist` given below.\n",
    "It can be run both from the command line and Jupyter Notebook."
   ]
  },
  {
   "cell_type": "code",
   "execution_count": 1,
   "id": "british-texture",
   "metadata": {
    "execution": {
     "iopub.execute_input": "2021-05-18T20:05:28.585417Z",
     "iopub.status.busy": "2021-05-18T20:05:28.584776Z",
     "iopub.status.idle": "2021-05-18T20:05:30.120659Z",
     "shell.execute_reply": "2021-05-18T20:05:30.119575Z"
    },
    "papermill": {
     "duration": 1.57294,
     "end_time": "2021-05-18T20:05:30.120795",
     "exception": false,
     "start_time": "2021-05-18T20:05:28.547855",
     "status": "completed"
    },
    "tags": []
   },
   "outputs": [
    {
     "name": "stdout",
     "output_type": "stream",
     "text": [
      "Collecting mnist\r\n"
     ]
    },
    {
     "name": "stdout",
     "output_type": "stream",
     "text": [
      "  Downloading mnist-0.2.2-py2.py3-none-any.whl (3.5 kB)\r\n",
      "Requirement already satisfied: numpy in /opt/hostedtoolcache/Python/3.6.13/x64/lib/python3.6/site-packages (from mnist) (1.19.5)\r\n"
     ]
    },
    {
     "name": "stdout",
     "output_type": "stream",
     "text": [
      "Installing collected packages: mnist\r\n"
     ]
    },
    {
     "name": "stdout",
     "output_type": "stream",
     "text": [
      "Successfully installed mnist-0.2.2\r\n"
     ]
    }
   ],
   "source": [
    "!pip install mnist "
   ]
  },
  {
   "cell_type": "markdown",
   "id": "stunning-extra",
   "metadata": {
    "papermill": {
     "duration": 0.030647,
     "end_time": "2021-05-18T20:05:30.180981",
     "exception": false,
     "start_time": "2021-05-18T20:05:30.150334",
     "status": "completed"
    },
    "tags": []
   },
   "source": [
    "#### Importing necessary libraries"
   ]
  },
  {
   "cell_type": "code",
   "execution_count": 2,
   "id": "wooden-france",
   "metadata": {
    "execution": {
     "iopub.execute_input": "2021-05-18T20:05:30.246281Z",
     "iopub.status.busy": "2021-05-18T20:05:30.245654Z",
     "iopub.status.idle": "2021-05-18T20:05:30.792905Z",
     "shell.execute_reply": "2021-05-18T20:05:30.793377Z"
    },
    "papermill": {
     "duration": 0.583991,
     "end_time": "2021-05-18T20:05:30.793530",
     "exception": false,
     "start_time": "2021-05-18T20:05:30.209539",
     "status": "completed"
    },
    "tags": []
   },
   "outputs": [],
   "source": [
    "%load_ext autoreload\n",
    "%autoreload 2\n",
    "\n",
    "%matplotlib inline\n",
    "import matplotlib.pyplot as plt\n",
    "\n",
    "import numpy as np\n",
    "import pandas as pd"
   ]
  },
  {
   "cell_type": "markdown",
   "id": "stunning-physics",
   "metadata": {
    "papermill": {
     "duration": 0.029608,
     "end_time": "2021-05-18T20:05:30.853487",
     "exception": false,
     "start_time": "2021-05-18T20:05:30.823879",
     "status": "completed"
    },
    "tags": []
   },
   "source": [
    "### Preparing the Data"
   ]
  },
  {
   "cell_type": "code",
   "execution_count": 3,
   "id": "unauthorized-remainder",
   "metadata": {
    "execution": {
     "iopub.execute_input": "2021-05-18T20:05:30.916231Z",
     "iopub.status.busy": "2021-05-18T20:05:30.915670Z",
     "iopub.status.idle": "2021-05-18T20:05:30.927728Z",
     "shell.execute_reply": "2021-05-18T20:05:30.928313Z"
    },
    "papermill": {
     "duration": 0.046453,
     "end_time": "2021-05-18T20:05:30.928438",
     "exception": false,
     "start_time": "2021-05-18T20:05:30.881985",
     "status": "completed"
    },
    "tags": []
   },
   "outputs": [],
   "source": [
    "import mnist"
   ]
  },
  {
   "cell_type": "code",
   "execution_count": 4,
   "id": "correct-antarctica",
   "metadata": {
    "execution": {
     "iopub.execute_input": "2021-05-18T20:05:30.994403Z",
     "iopub.status.busy": "2021-05-18T20:05:30.993244Z",
     "iopub.status.idle": "2021-05-18T20:10:21.292245Z",
     "shell.execute_reply": "2021-05-18T20:10:21.291177Z"
    },
    "papermill": {
     "duration": 290.334074,
     "end_time": "2021-05-18T20:10:21.292415",
     "exception": false,
     "start_time": "2021-05-18T20:05:30.958341",
     "status": "completed"
    },
    "tags": []
   },
   "outputs": [],
   "source": [
    "train_images = mnist.train_images()\n",
    "train_labels = mnist.train_labels()"
   ]
  },
  {
   "cell_type": "code",
   "execution_count": 5,
   "id": "musical-prospect",
   "metadata": {
    "execution": {
     "iopub.execute_input": "2021-05-18T20:10:21.367033Z",
     "iopub.status.busy": "2021-05-18T20:10:21.366294Z",
     "iopub.status.idle": "2021-05-18T20:10:21.382359Z",
     "shell.execute_reply": "2021-05-18T20:10:21.382905Z"
    },
    "papermill": {
     "duration": 0.055291,
     "end_time": "2021-05-18T20:10:21.383064",
     "exception": false,
     "start_time": "2021-05-18T20:10:21.327773",
     "status": "completed"
    },
    "tags": []
   },
   "outputs": [
    {
     "data": {
      "text/plain": [
       "((60000, 28, 28), (60000,))"
      ]
     },
     "execution_count": 5,
     "metadata": {},
     "output_type": "execute_result"
    }
   ],
   "source": [
    "train_images.shape, train_labels.shape"
   ]
  },
  {
   "cell_type": "code",
   "execution_count": 6,
   "id": "preliminary-elizabeth",
   "metadata": {
    "execution": {
     "iopub.execute_input": "2021-05-18T20:10:21.462166Z",
     "iopub.status.busy": "2021-05-18T20:10:21.461525Z",
     "iopub.status.idle": "2021-05-18T20:11:12.331716Z",
     "shell.execute_reply": "2021-05-18T20:11:12.330778Z"
    },
    "papermill": {
     "duration": 50.914719,
     "end_time": "2021-05-18T20:11:12.331842",
     "exception": false,
     "start_time": "2021-05-18T20:10:21.417123",
     "status": "completed"
    },
    "tags": []
   },
   "outputs": [],
   "source": [
    "test_images = mnist.test_images()\n",
    "test_labels = mnist.test_labels()"
   ]
  },
  {
   "cell_type": "code",
   "execution_count": 7,
   "id": "acknowledged-oxygen",
   "metadata": {
    "execution": {
     "iopub.execute_input": "2021-05-18T20:11:12.403426Z",
     "iopub.status.busy": "2021-05-18T20:11:12.402890Z",
     "iopub.status.idle": "2021-05-18T20:11:12.417662Z",
     "shell.execute_reply": "2021-05-18T20:11:12.416926Z"
    },
    "papermill": {
     "duration": 0.053098,
     "end_time": "2021-05-18T20:11:12.417814",
     "exception": false,
     "start_time": "2021-05-18T20:11:12.364716",
     "status": "completed"
    },
    "tags": []
   },
   "outputs": [
    {
     "data": {
      "text/plain": [
       "((10000, 28, 28), (10000,))"
      ]
     },
     "execution_count": 7,
     "metadata": {},
     "output_type": "execute_result"
    }
   ],
   "source": [
    "test_images.shape, test_labels.shape"
   ]
  },
  {
   "cell_type": "code",
   "execution_count": 8,
   "id": "innovative-organic",
   "metadata": {
    "execution": {
     "iopub.execute_input": "2021-05-18T20:11:12.485582Z",
     "iopub.status.busy": "2021-05-18T20:11:12.484791Z",
     "iopub.status.idle": "2021-05-18T20:11:12.668033Z",
     "shell.execute_reply": "2021-05-18T20:11:12.667206Z"
    },
    "papermill": {
     "duration": 0.219133,
     "end_time": "2021-05-18T20:11:12.668165",
     "exception": false,
     "start_time": "2021-05-18T20:11:12.449032",
     "status": "completed"
    },
    "tags": []
   },
   "outputs": [
    {
     "name": "stdout",
     "output_type": "stream",
     "text": [
      "2\n"
     ]
    },
    {
     "data": {
      "text/plain": [
       "<matplotlib.image.AxesImage at 0x7fc8991cc3c8>"
      ]
     },
     "execution_count": 8,
     "metadata": {},
     "output_type": "execute_result"
    },
    {
     "data": {
      "image/png": "[encoded data removed]",
      "text/plain": [
       "<Figure size 432x288 with 1 Axes>"
      ]
     },
     "metadata": {
      "needs_background": "light"
     },
     "output_type": "display_data"
    }
   ],
   "source": [
    "image_index = 7776 # You may select anything up to 60,000\n",
    "print(train_labels[image_index]) \n",
    "plt.imshow(train_images[image_index], cmap='Greys')"
   ]
  },
  {
   "cell_type": "markdown",
   "id": "facial-modem",
   "metadata": {
    "papermill": {
     "duration": 0.032373,
     "end_time": "2021-05-18T20:11:12.734644",
     "exception": false,
     "start_time": "2021-05-18T20:11:12.702271",
     "status": "completed"
    },
    "tags": []
   },
   "source": [
    "## Filter data to get 3 and 8 out"
   ]
  },
  {
   "cell_type": "code",
   "execution_count": 9,
   "id": "thousand-acquisition",
   "metadata": {
    "execution": {
     "iopub.execute_input": "2021-05-18T20:11:12.809398Z",
     "iopub.status.busy": "2021-05-18T20:11:12.802835Z",
     "iopub.status.idle": "2021-05-18T20:11:12.821684Z",
     "shell.execute_reply": "2021-05-18T20:11:12.821127Z"
    },
    "papermill": {
     "duration": 0.051404,
     "end_time": "2021-05-18T20:11:12.821797",
     "exception": false,
     "start_time": "2021-05-18T20:11:12.770393",
     "status": "completed"
    },
    "tags": []
   },
   "outputs": [],
   "source": [
    "train_filter = np.where((train_labels == 3 ) | (train_labels == 8))\n",
    "test_filter = np.where((test_labels == 3) | (test_labels == 8))\n",
    "X_train, y_train = train_images[train_filter], train_labels[train_filter]\n",
    "X_test, y_test = test_images[test_filter], test_labels[test_filter]"
   ]
  },
  {
   "cell_type": "markdown",
   "id": "ruled-access",
   "metadata": {
    "papermill": {
     "duration": 0.033247,
     "end_time": "2021-05-18T20:11:12.890266",
     "exception": false,
     "start_time": "2021-05-18T20:11:12.857019",
     "status": "completed"
    },
    "tags": []
   },
   "source": [
    "We normalize the pixel values in the 0 to 1 range"
   ]
  },
  {
   "cell_type": "code",
   "execution_count": 10,
   "id": "isolated-denver",
   "metadata": {
    "execution": {
     "iopub.execute_input": "2021-05-18T20:11:12.962143Z",
     "iopub.status.busy": "2021-05-18T20:11:12.961315Z",
     "iopub.status.idle": "2021-05-18T20:11:13.024710Z",
     "shell.execute_reply": "2021-05-18T20:11:13.025348Z"
    },
    "papermill": {
     "duration": 0.102175,
     "end_time": "2021-05-18T20:11:13.025511",
     "exception": false,
     "start_time": "2021-05-18T20:11:12.923336",
     "status": "completed"
    },
    "tags": []
   },
   "outputs": [],
   "source": [
    "X_train = X_train/255.\n",
    "X_test = X_test/255."
   ]
  },
  {
   "cell_type": "markdown",
   "id": "perfect-summary",
   "metadata": {
    "papermill": {
     "duration": 0.035192,
     "end_time": "2021-05-18T20:11:13.097723",
     "exception": false,
     "start_time": "2021-05-18T20:11:13.062531",
     "status": "completed"
    },
    "tags": []
   },
   "source": [
    "Setup the labels as 1 (when the digit is 3) and 0 (when the digit is 8)"
   ]
  },
  {
   "cell_type": "code",
   "execution_count": 11,
   "id": "personalized-growing",
   "metadata": {
    "execution": {
     "iopub.execute_input": "2021-05-18T20:11:13.170030Z",
     "iopub.status.busy": "2021-05-18T20:11:13.169337Z",
     "iopub.status.idle": "2021-05-18T20:11:13.180464Z",
     "shell.execute_reply": "2021-05-18T20:11:13.179958Z"
    },
    "papermill": {
     "duration": 0.05201,
     "end_time": "2021-05-18T20:11:13.180578",
     "exception": false,
     "start_time": "2021-05-18T20:11:13.128568",
     "status": "completed"
    },
    "tags": []
   },
   "outputs": [],
   "source": [
    "y_train = 1*(y_train==3)\n",
    "y_test = 1*(y_test==3)"
   ]
  },
  {
   "cell_type": "code",
   "execution_count": 12,
   "id": "considered-virgin",
   "metadata": {
    "execution": {
     "iopub.execute_input": "2021-05-18T20:11:13.256644Z",
     "iopub.status.busy": "2021-05-18T20:11:13.256007Z",
     "iopub.status.idle": "2021-05-18T20:11:13.269048Z",
     "shell.execute_reply": "2021-05-18T20:11:13.268583Z"
    },
    "papermill": {
     "duration": 0.054757,
     "end_time": "2021-05-18T20:11:13.269156",
     "exception": false,
     "start_time": "2021-05-18T20:11:13.214399",
     "status": "completed"
    },
    "tags": []
   },
   "outputs": [
    {
     "data": {
      "text/plain": [
       "((11982, 28, 28), (1984, 28, 28))"
      ]
     },
     "execution_count": 12,
     "metadata": {},
     "output_type": "execute_result"
    }
   ],
   "source": [
    "X_train.shape, X_test.shape"
   ]
  },
  {
   "cell_type": "markdown",
   "id": "civilian-mobile",
   "metadata": {
    "papermill": {
     "duration": 0.031231,
     "end_time": "2021-05-18T20:11:13.329065",
     "exception": false,
     "start_time": "2021-05-18T20:11:13.297834",
     "status": "completed"
    },
    "tags": []
   },
   "source": [
    "### Reshape the input data to create a linear array"
   ]
  },
  {
   "cell_type": "code",
   "execution_count": 13,
   "id": "colonial-adams",
   "metadata": {
    "execution": {
     "iopub.execute_input": "2021-05-18T20:11:13.400841Z",
     "iopub.status.busy": "2021-05-18T20:11:13.400245Z",
     "iopub.status.idle": "2021-05-18T20:11:13.414523Z",
     "shell.execute_reply": "2021-05-18T20:11:13.414988Z"
    },
    "papermill": {
     "duration": 0.052387,
     "end_time": "2021-05-18T20:11:13.415121",
     "exception": false,
     "start_time": "2021-05-18T20:11:13.362734",
     "status": "completed"
    },
    "tags": []
   },
   "outputs": [
    {
     "data": {
      "text/plain": [
       "((11982, 784), (1984, 784))"
      ]
     },
     "execution_count": 13,
     "metadata": {},
     "output_type": "execute_result"
    }
   ],
   "source": [
    "X_train = X_train.reshape(X_train.shape[0], -1)\n",
    "X_test = X_test.reshape(X_test.shape[0], -1)\n",
    "X_train.shape, X_test.shape"
   ]
  },
  {
   "cell_type": "markdown",
   "id": "smart-details",
   "metadata": {
    "papermill": {
     "duration": 0.033595,
     "end_time": "2021-05-18T20:11:13.481286",
     "exception": false,
     "start_time": "2021-05-18T20:11:13.447691",
     "status": "completed"
    },
    "tags": []
   },
   "source": [
    "### Importing appropriate functions from 'Kudzu'"
   ]
  },
  {
   "cell_type": "code",
   "execution_count": 14,
   "id": "celtic-trial",
   "metadata": {
    "execution": {
     "iopub.execute_input": "2021-05-18T20:11:13.567015Z",
     "iopub.status.busy": "2021-05-18T20:11:13.558652Z",
     "iopub.status.idle": "2021-05-18T20:11:13.576251Z",
     "shell.execute_reply": "2021-05-18T20:11:13.577000Z"
    },
    "papermill": {
     "duration": 0.062338,
     "end_time": "2021-05-18T20:11:13.577233",
     "exception": false,
     "start_time": "2021-05-18T20:11:13.514895",
     "status": "completed"
    },
    "tags": []
   },
   "outputs": [],
   "source": [
    "from kudzu.layer import Sigmoid\n",
    "from kudzu.layer import Relu\n",
    "from kudzu.layer import Affine, Sigmoid\n",
    "\n",
    "from kudzu.model import Model\n",
    "from kudzu.train import Learner\n",
    "from kudzu.optim import GD\n",
    "from kudzu.data import Data, Dataloader, Sampler\n",
    "\n",
    "from kudzu.callbacks import AccCallback\n",
    "from kudzu.callbacks import ClfCallback\n",
    "\n",
    "from kudzu.loss import MSE"
   ]
  },
  {
   "cell_type": "markdown",
   "id": "coupled-customer",
   "metadata": {
    "papermill": {
     "duration": 0.033258,
     "end_time": "2021-05-18T20:11:13.644676",
     "exception": false,
     "start_time": "2021-05-18T20:11:13.611418",
     "status": "completed"
    },
    "tags": []
   },
   "source": [
    "### Let us create a `Config` class, to store important parameters. \n",
    "This class essentially plays the role of a dictionary."
   ]
  },
  {
   "cell_type": "code",
   "execution_count": 15,
   "id": "young-ceiling",
   "metadata": {
    "execution": {
     "iopub.execute_input": "2021-05-18T20:11:13.720167Z",
     "iopub.status.busy": "2021-05-18T20:11:13.719394Z",
     "iopub.status.idle": "2021-05-18T20:11:13.730888Z",
     "shell.execute_reply": "2021-05-18T20:11:13.731431Z"
    },
    "papermill": {
     "duration": 0.052652,
     "end_time": "2021-05-18T20:11:13.731606",
     "exception": false,
     "start_time": "2021-05-18T20:11:13.678954",
     "status": "completed"
    },
    "tags": []
   },
   "outputs": [],
   "source": [
    "class Config:\n",
    "    pass\n",
    "config = Config()\n",
    "config.lr = 0.001\n",
    "config.num_epochs = 251\n",
    "config.bs = 50"
   ]
  },
  {
   "cell_type": "markdown",
   "id": "according-mandate",
   "metadata": {
    "papermill": {
     "duration": 0.03321,
     "end_time": "2021-05-18T20:11:13.798084",
     "exception": false,
     "start_time": "2021-05-18T20:11:13.764874",
     "status": "completed"
    },
    "tags": []
   },
   "source": [
    "### Initializing data to the variables"
   ]
  },
  {
   "cell_type": "code",
   "execution_count": 16,
   "id": "academic-disposition",
   "metadata": {
    "execution": {
     "iopub.execute_input": "2021-05-18T20:11:13.867281Z",
     "iopub.status.busy": "2021-05-18T20:11:13.866680Z",
     "iopub.status.idle": "2021-05-18T20:11:13.879121Z",
     "shell.execute_reply": "2021-05-18T20:11:13.879672Z"
    },
    "papermill": {
     "duration": 0.048998,
     "end_time": "2021-05-18T20:11:13.879811",
     "exception": false,
     "start_time": "2021-05-18T20:11:13.830813",
     "status": "completed"
    },
    "tags": []
   },
   "outputs": [],
   "source": [
    "data = Data(X_train, y_train.reshape(-1,1))\n",
    "sampler = Sampler(data, config.bs, shuffle=True)\n",
    "\n",
    "dl = Dataloader(data, sampler)\n",
    "\n",
    "opt = GD(config.lr)\n",
    "loss = MSE()"
   ]
  },
  {
   "cell_type": "code",
   "execution_count": 17,
   "id": "featured-commission",
   "metadata": {
    "execution": {
     "iopub.execute_input": "2021-05-18T20:11:13.947727Z",
     "iopub.status.busy": "2021-05-18T20:11:13.947080Z",
     "iopub.status.idle": "2021-05-18T20:11:13.958643Z",
     "shell.execute_reply": "2021-05-18T20:11:13.959079Z"
    },
    "papermill": {
     "duration": 0.047222,
     "end_time": "2021-05-18T20:11:13.959191",
     "exception": false,
     "start_time": "2021-05-18T20:11:13.911969",
     "status": "completed"
    },
    "tags": []
   },
   "outputs": [],
   "source": [
    "training_xdata = X_train\n",
    "testing_xdata = X_test\n",
    "training_ydata = y_train.reshape(-1,1)\n",
    "testing_ydata = y_test.reshape(-1,1)"
   ]
  },
  {
   "cell_type": "markdown",
   "id": "played-safety",
   "metadata": {
    "papermill": {
     "duration": 0.034078,
     "end_time": "2021-05-18T20:11:14.026000",
     "exception": false,
     "start_time": "2021-05-18T20:11:13.991922",
     "status": "completed"
    },
    "tags": []
   },
   "source": [
    "### Running Models with the Training data\n",
    "Details about the network layers:\n",
    "- A first affine layer has 784 inputs and does 100 affine transforms. These are followed by a Relu\n",
    "- A second affine layer has 100 inputs from the 100 activations of the past layer, and does 100 affine transforms. These are followed by a Relu\n",
    "- A third affine layer has 100 activations and does 2 affine transformations to create an embedding for visualization. There is no non-linearity here.\n",
    "- A final \"logistic regression\" which has an affine transform from 2 inputs to 1 output, which is squeezed through a sigmoid.\n",
    "\n",
    "Help taken from Anshuman's Notebook."
   ]
  },
  {
   "cell_type": "code",
   "execution_count": 18,
   "id": "asian-bankruptcy",
   "metadata": {
    "execution": {
     "iopub.execute_input": "2021-05-18T20:11:14.107562Z",
     "iopub.status.busy": "2021-05-18T20:11:14.106943Z",
     "iopub.status.idle": "2021-05-18T20:11:14.125680Z",
     "shell.execute_reply": "2021-05-18T20:11:14.125175Z"
    },
    "papermill": {
     "duration": 0.064794,
     "end_time": "2021-05-18T20:11:14.125810",
     "exception": false,
     "start_time": "2021-05-18T20:11:14.061016",
     "status": "completed"
    },
    "tags": []
   },
   "outputs": [],
   "source": [
    "# layers for the Neural Network\n",
    "layers = [Affine(\"first\", 784, 100), Relu(\"first\"), Affine(\"second\", 100, 100), Relu(\"second\"), Affine(\"third\", 100, 2), Affine(\"final\", 2, 1), Sigmoid(\"final\")]\n",
    "model_nn = Model(layers)\n",
    "\n",
    "# layers for the Logistic Regression\n",
    "layers_lr = [Affine(\"logits\", 784, 1), Sigmoid(\"sigmoid\")]\n",
    "model_lr = Model(layers_lr)"
   ]
  },
  {
   "cell_type": "code",
   "execution_count": 19,
   "id": "removed-butler",
   "metadata": {
    "execution": {
     "iopub.execute_input": "2021-05-18T20:11:14.208236Z",
     "iopub.status.busy": "2021-05-18T20:11:14.207638Z",
     "iopub.status.idle": "2021-05-18T20:11:14.219497Z",
     "shell.execute_reply": "2021-05-18T20:11:14.220010Z"
    },
    "papermill": {
     "duration": 0.056966,
     "end_time": "2021-05-18T20:11:14.220135",
     "exception": false,
     "start_time": "2021-05-18T20:11:14.163169",
     "status": "completed"
    },
    "tags": []
   },
   "outputs": [],
   "source": [
    "# suffix _nn stands for Neural Network.\n",
    "learner_nn = Learner(loss, model_nn, opt, config.num_epochs)\n",
    "acc_nn = ClfCallback(learner_nn, config.bs, training_xdata , testing_xdata, training_ydata, testing_ydata)\n",
    "learner_nn.set_callbacks([acc_nn])"
   ]
  },
  {
   "cell_type": "code",
   "execution_count": 20,
   "id": "conceptual-throw",
   "metadata": {
    "execution": {
     "iopub.execute_input": "2021-05-18T20:11:14.295695Z",
     "iopub.status.busy": "2021-05-18T20:11:14.294991Z",
     "iopub.status.idle": "2021-05-18T20:13:36.026006Z",
     "shell.execute_reply": "2021-05-18T20:13:36.027210Z"
    },
    "papermill": {
     "duration": 141.772367,
     "end_time": "2021-05-18T20:13:36.027386",
     "exception": false,
     "start_time": "2021-05-18T20:11:14.255019",
     "status": "completed"
    },
    "tags": []
   },
   "outputs": [
    {
     "name": "stdout",
     "output_type": "stream",
     "text": [
      "====== Neural Network ======\n"
     ]
    },
    {
     "name": "stdout",
     "output_type": "stream",
     "text": [
      "Epoch 0, Loss 0.2371\n",
      "Training Accuracy: 0.7351, Testing Accuracy: 0.7455\n",
      "\n"
     ]
    },
    {
     "name": "stdout",
     "output_type": "stream",
     "text": [
      "Epoch 10, Loss 0.1123\n",
      "Training Accuracy: 0.9225, Testing Accuracy: 0.9380\n",
      "\n"
     ]
    },
    {
     "name": "stdout",
     "output_type": "stream",
     "text": [
      "Epoch 20, Loss 0.0615\n",
      "Training Accuracy: 0.9393, Testing Accuracy: 0.9516\n",
      "\n"
     ]
    },
    {
     "name": "stdout",
     "output_type": "stream",
     "text": [
      "Epoch 30, Loss 0.0469\n",
      "Training Accuracy: 0.9493, Testing Accuracy: 0.9597\n",
      "\n"
     ]
    },
    {
     "name": "stdout",
     "output_type": "stream",
     "text": [
      "Epoch 40, Loss 0.0401\n",
      "Training Accuracy: 0.9568, Testing Accuracy: 0.9652\n",
      "\n"
     ]
    },
    {
     "name": "stdout",
     "output_type": "stream",
     "text": [
      "Epoch 50, Loss 0.036\n",
      "Training Accuracy: 0.9603, Testing Accuracy: 0.9667\n",
      "\n"
     ]
    },
    {
     "name": "stdout",
     "output_type": "stream",
     "text": [
      "Epoch 60, Loss 0.0333\n",
      "Training Accuracy: 0.9629, Testing Accuracy: 0.9672\n",
      "\n"
     ]
    },
    {
     "name": "stdout",
     "output_type": "stream",
     "text": [
      "Epoch 70, Loss 0.0313\n",
      "Training Accuracy: 0.9647, Testing Accuracy: 0.9693\n",
      "\n"
     ]
    },
    {
     "name": "stdout",
     "output_type": "stream",
     "text": [
      "Epoch 80, Loss 0.0297\n",
      "Training Accuracy: 0.9668, Testing Accuracy: 0.9688\n",
      "\n"
     ]
    },
    {
     "name": "stdout",
     "output_type": "stream",
     "text": [
      "Epoch 90, Loss 0.0284\n",
      "Training Accuracy: 0.9680, Testing Accuracy: 0.9708\n",
      "\n"
     ]
    },
    {
     "name": "stdout",
     "output_type": "stream",
     "text": [
      "Epoch 100, Loss 0.0273\n",
      "Training Accuracy: 0.9694, Testing Accuracy: 0.9708\n",
      "\n"
     ]
    },
    {
     "name": "stdout",
     "output_type": "stream",
     "text": [
      "Epoch 110, Loss 0.0264\n",
      "Training Accuracy: 0.9700, Testing Accuracy: 0.9713\n",
      "\n"
     ]
    },
    {
     "name": "stdout",
     "output_type": "stream",
     "text": [
      "Epoch 120, Loss 0.0255\n",
      "Training Accuracy: 0.9709, Testing Accuracy: 0.9713\n",
      "\n"
     ]
    },
    {
     "name": "stdout",
     "output_type": "stream",
     "text": [
      "Epoch 130, Loss 0.0248\n",
      "Training Accuracy: 0.9717, Testing Accuracy: 0.9713\n",
      "\n"
     ]
    },
    {
     "name": "stdout",
     "output_type": "stream",
     "text": [
      "Epoch 140, Loss 0.0241\n",
      "Training Accuracy: 0.9724, Testing Accuracy: 0.9723\n",
      "\n"
     ]
    },
    {
     "name": "stdout",
     "output_type": "stream",
     "text": [
      "Epoch 150, Loss 0.0235\n",
      "Training Accuracy: 0.9730, Testing Accuracy: 0.9718\n",
      "\n"
     ]
    },
    {
     "name": "stdout",
     "output_type": "stream",
     "text": [
      "Epoch 160, Loss 0.0229\n",
      "Training Accuracy: 0.9735, Testing Accuracy: 0.9718\n",
      "\n"
     ]
    },
    {
     "name": "stdout",
     "output_type": "stream",
     "text": [
      "Epoch 170, Loss 0.0224\n",
      "Training Accuracy: 0.9742, Testing Accuracy: 0.9718\n",
      "\n"
     ]
    },
    {
     "name": "stdout",
     "output_type": "stream",
     "text": [
      "Epoch 180, Loss 0.0219\n",
      "Training Accuracy: 0.9747, Testing Accuracy: 0.9723\n",
      "\n"
     ]
    },
    {
     "name": "stdout",
     "output_type": "stream",
     "text": [
      "Epoch 190, Loss 0.0214\n",
      "Training Accuracy: 0.9755, Testing Accuracy: 0.9718\n",
      "\n"
     ]
    },
    {
     "name": "stdout",
     "output_type": "stream",
     "text": [
      "Epoch 200, Loss 0.0209\n",
      "Training Accuracy: 0.9760, Testing Accuracy: 0.9723\n",
      "\n"
     ]
    },
    {
     "name": "stdout",
     "output_type": "stream",
     "text": [
      "Epoch 210, Loss 0.0205\n",
      "Training Accuracy: 0.9762, Testing Accuracy: 0.9723\n",
      "\n"
     ]
    },
    {
     "name": "stdout",
     "output_type": "stream",
     "text": [
      "Epoch 220, Loss 0.0201\n",
      "Training Accuracy: 0.9767, Testing Accuracy: 0.9723\n",
      "\n"
     ]
    },
    {
     "name": "stdout",
     "output_type": "stream",
     "text": [
      "Epoch 230, Loss 0.0197\n",
      "Training Accuracy: 0.9775, Testing Accuracy: 0.9728\n",
      "\n"
     ]
    },
    {
     "name": "stdout",
     "output_type": "stream",
     "text": [
      "Epoch 240, Loss 0.0193\n",
      "Training Accuracy: 0.9780, Testing Accuracy: 0.9733\n",
      "\n"
     ]
    },
    {
     "name": "stdout",
     "output_type": "stream",
     "text": [
      "Epoch 250, Loss 0.0189\n",
      "Training Accuracy: 0.9785, Testing Accuracy: 0.9748\n",
      "\n"
     ]
    },
    {
     "data": {
      "text/plain": [
       "0.01127073718738835"
      ]
     },
     "execution_count": 20,
     "metadata": {},
     "output_type": "execute_result"
    }
   ],
   "source": [
    "print(\"====== Neural Network ======\")\n",
    "learner_nn.train_loop(dl)"
   ]
  },
  {
   "cell_type": "markdown",
   "id": "competent-suffering",
   "metadata": {
    "papermill": {
     "duration": 0.042137,
     "end_time": "2021-05-18T20:13:36.115410",
     "exception": false,
     "start_time": "2021-05-18T20:13:36.073273",
     "status": "completed"
    },
    "tags": []
   },
   "source": [
    "### Logistic Regression based Implementation."
   ]
  },
  {
   "cell_type": "code",
   "execution_count": 21,
   "id": "qualified-psychiatry",
   "metadata": {
    "execution": {
     "iopub.execute_input": "2021-05-18T20:13:36.208535Z",
     "iopub.status.busy": "2021-05-18T20:13:36.207792Z",
     "iopub.status.idle": "2021-05-18T20:13:36.221750Z",
     "shell.execute_reply": "2021-05-18T20:13:36.221106Z"
    },
    "papermill": {
     "duration": 0.061439,
     "end_time": "2021-05-18T20:13:36.221885",
     "exception": false,
     "start_time": "2021-05-18T20:13:36.160446",
     "status": "completed"
    },
    "tags": []
   },
   "outputs": [],
   "source": [
    "learner_lr = Learner(loss, model_lr, opt, config.num_epochs)\n",
    "acc_lr = ClfCallback(learner_lr, config.bs, training_xdata , testing_xdata, training_ydata, testing_ydata)\n",
    "learner_lr.set_callbacks([acc_lr])"
   ]
  },
  {
   "cell_type": "code",
   "execution_count": 22,
   "id": "average-outside",
   "metadata": {
    "execution": {
     "iopub.execute_input": "2021-05-18T20:13:36.324728Z",
     "iopub.status.busy": "2021-05-18T20:13:36.315583Z",
     "iopub.status.idle": "2021-05-18T20:13:56.638322Z",
     "shell.execute_reply": "2021-05-18T20:13:56.639134Z"
    },
    "papermill": {
     "duration": 20.372315,
     "end_time": "2021-05-18T20:13:56.639342",
     "exception": false,
     "start_time": "2021-05-18T20:13:36.267027",
     "status": "completed"
    },
    "tags": []
   },
   "outputs": [
    {
     "name": "stdout",
     "output_type": "stream",
     "text": [
      "====== Logistic Regression ======\n",
      "Epoch 0, Loss 0.279\n",
      "Training Accuracy: 0.5768, Testing Accuracy: 0.5832\n",
      "\n"
     ]
    },
    {
     "name": "stdout",
     "output_type": "stream",
     "text": [
      "Epoch 10, Loss 0.1083\n",
      "Training Accuracy: 0.8946, Testing Accuracy: 0.9103\n",
      "\n"
     ]
    },
    {
     "name": "stdout",
     "output_type": "stream",
     "text": [
      "Epoch 20, Loss 0.0822\n",
      "Training Accuracy: 0.9196, Testing Accuracy: 0.9360\n",
      "\n"
     ]
    },
    {
     "name": "stdout",
     "output_type": "stream",
     "text": [
      "Epoch 30, Loss 0.0704\n",
      "Training Accuracy: 0.9326, Testing Accuracy: 0.9471\n",
      "\n"
     ]
    },
    {
     "name": "stdout",
     "output_type": "stream",
     "text": [
      "Epoch 40, Loss 0.0633\n",
      "Training Accuracy: 0.9381, Testing Accuracy: 0.9526\n",
      "\n"
     ]
    },
    {
     "name": "stdout",
     "output_type": "stream",
     "text": [
      "Epoch 50, Loss 0.0585\n",
      "Training Accuracy: 0.9419, Testing Accuracy: 0.9561\n",
      "\n"
     ]
    },
    {
     "name": "stdout",
     "output_type": "stream",
     "text": [
      "Epoch 60, Loss 0.055\n",
      "Training Accuracy: 0.9450, Testing Accuracy: 0.9587\n",
      "\n"
     ]
    },
    {
     "name": "stdout",
     "output_type": "stream",
     "text": [
      "Epoch 70, Loss 0.0523\n",
      "Training Accuracy: 0.9475, Testing Accuracy: 0.9597\n",
      "\n"
     ]
    },
    {
     "name": "stdout",
     "output_type": "stream",
     "text": [
      "Epoch 80, Loss 0.0501\n",
      "Training Accuracy: 0.9488, Testing Accuracy: 0.9597\n",
      "\n"
     ]
    },
    {
     "name": "stdout",
     "output_type": "stream",
     "text": [
      "Epoch 90, Loss 0.0483\n",
      "Training Accuracy: 0.9503, Testing Accuracy: 0.9612\n",
      "\n"
     ]
    },
    {
     "name": "stdout",
     "output_type": "stream",
     "text": [
      "Epoch 100, Loss 0.0468\n",
      "Training Accuracy: 0.9523, Testing Accuracy: 0.9617\n",
      "\n"
     ]
    },
    {
     "name": "stdout",
     "output_type": "stream",
     "text": [
      "Epoch 110, Loss 0.0455\n",
      "Training Accuracy: 0.9532, Testing Accuracy: 0.9617\n",
      "\n"
     ]
    },
    {
     "name": "stdout",
     "output_type": "stream",
     "text": [
      "Epoch 120, Loss 0.0444\n",
      "Training Accuracy: 0.9540, Testing Accuracy: 0.9617\n",
      "\n"
     ]
    },
    {
     "name": "stdout",
     "output_type": "stream",
     "text": [
      "Epoch 130, Loss 0.0435\n",
      "Training Accuracy: 0.9543, Testing Accuracy: 0.9622\n",
      "\n"
     ]
    },
    {
     "name": "stdout",
     "output_type": "stream",
     "text": [
      "Epoch 140, Loss 0.0426\n",
      "Training Accuracy: 0.9552, Testing Accuracy: 0.9622\n",
      "\n"
     ]
    },
    {
     "name": "stdout",
     "output_type": "stream",
     "text": [
      "Epoch 150, Loss 0.0418\n",
      "Training Accuracy: 0.9559, Testing Accuracy: 0.9622\n",
      "\n"
     ]
    },
    {
     "name": "stdout",
     "output_type": "stream",
     "text": [
      "Epoch 160, Loss 0.0411\n",
      "Training Accuracy: 0.9562, Testing Accuracy: 0.9627\n",
      "\n"
     ]
    },
    {
     "name": "stdout",
     "output_type": "stream",
     "text": [
      "Epoch 170, Loss 0.0404\n",
      "Training Accuracy: 0.9565, Testing Accuracy: 0.9647\n",
      "\n"
     ]
    },
    {
     "name": "stdout",
     "output_type": "stream",
     "text": [
      "Epoch 180, Loss 0.0399\n",
      "Training Accuracy: 0.9570, Testing Accuracy: 0.9657\n",
      "\n"
     ]
    },
    {
     "name": "stdout",
     "output_type": "stream",
     "text": [
      "Epoch 190, Loss 0.0393\n",
      "Training Accuracy: 0.9572, Testing Accuracy: 0.9657\n",
      "\n"
     ]
    },
    {
     "name": "stdout",
     "output_type": "stream",
     "text": [
      "Epoch 200, Loss 0.0388\n",
      "Training Accuracy: 0.9578, Testing Accuracy: 0.9667\n",
      "\n"
     ]
    },
    {
     "name": "stdout",
     "output_type": "stream",
     "text": [
      "Epoch 210, Loss 0.0384\n",
      "Training Accuracy: 0.9584, Testing Accuracy: 0.9667\n",
      "\n"
     ]
    },
    {
     "name": "stdout",
     "output_type": "stream",
     "text": [
      "Epoch 220, Loss 0.0379\n",
      "Training Accuracy: 0.9588, Testing Accuracy: 0.9667\n",
      "\n"
     ]
    },
    {
     "name": "stdout",
     "output_type": "stream",
     "text": [
      "Epoch 230, Loss 0.0375\n",
      "Training Accuracy: 0.9598, Testing Accuracy: 0.9672\n",
      "\n"
     ]
    },
    {
     "name": "stdout",
     "output_type": "stream",
     "text": [
      "Epoch 240, Loss 0.0372\n",
      "Training Accuracy: 0.9602, Testing Accuracy: 0.9672\n",
      "\n"
     ]
    },
    {
     "name": "stdout",
     "output_type": "stream",
     "text": [
      "Epoch 250, Loss 0.0368\n",
      "Training Accuracy: 0.9605, Testing Accuracy: 0.9677\n",
      "\n"
     ]
    },
    {
     "data": {
      "text/plain": [
       "0.08237452010156177"
      ]
     },
     "execution_count": 22,
     "metadata": {},
     "output_type": "execute_result"
    }
   ],
   "source": [
    "print(\"====== Logistic Regression ======\")\n",
    "learner_lr.train_loop(dl)"
   ]
  },
  {
   "cell_type": "markdown",
   "id": "adjusted-possible",
   "metadata": {
    "papermill": {
     "duration": 0.069254,
     "end_time": "2021-05-18T20:13:56.759345",
     "exception": false,
     "start_time": "2021-05-18T20:13:56.690091",
     "status": "completed"
    },
    "tags": []
   },
   "source": [
    "### Comparing results of NN and LR"
   ]
  },
  {
   "cell_type": "code",
   "execution_count": 23,
   "id": "mental-multimedia",
   "metadata": {
    "execution": {
     "iopub.execute_input": "2021-05-18T20:13:56.866888Z",
     "iopub.status.busy": "2021-05-18T20:13:56.865759Z",
     "iopub.status.idle": "2021-05-18T20:13:57.143685Z",
     "shell.execute_reply": "2021-05-18T20:13:57.143169Z"
    },
    "papermill": {
     "duration": 0.33178,
     "end_time": "2021-05-18T20:13:57.143805",
     "exception": false,
     "start_time": "2021-05-18T20:13:56.812025",
     "status": "completed"
    },
    "tags": []
   },
   "outputs": [
    {
     "data": {
      "text/plain": [
       "<matplotlib.legend.Legend at 0x7fc88b9a3198>"
      ]
     },
     "execution_count": 23,
     "metadata": {},
     "output_type": "execute_result"
    },
    {
     "data": {
      "image/png": "[encoded data removed]",
      "text/plain": [
       "<Figure size 1080x720 with 1 Axes>"
      ]
     },
     "metadata": {
      "needs_background": "light"
     },
     "output_type": "display_data"
    }
   ],
   "source": [
    "plt.figure(figsize=(15,10))\n",
    "\n",
    "# Neural Network plots\n",
    "plt.plot(acc_nn.accuracies, 'r-', label = \"Training Accuracies - NN\")\n",
    "plt.plot(acc_nn.test_accuracies, 'g-', label = \"Testing Accuracies - NN\")\n",
    "\n",
    "# Logistic Regression plots\n",
    "plt.plot(acc_lr.accuracies, 'k-', label = \"Training Accuracies - LR\")\n",
    "plt.plot(acc_lr.test_accuracies, 'b-', label = \"Testing Accuracies - LR\")\n",
    "\n",
    "plt.ylim(0.8, 1)\n",
    "\n",
    "plt.legend()\n",
    "\n"
   ]
  },
  {
   "cell_type": "markdown",
   "id": "sexual-flesh",
   "metadata": {
    "papermill": {
     "duration": 0.052468,
     "end_time": "2021-05-18T20:13:57.252652",
     "exception": false,
     "start_time": "2021-05-18T20:13:57.200184",
     "status": "completed"
    },
    "tags": []
   },
   "source": [
    "### From the plot, we can observe the following:\n",
    "- Neural Network achieves higher accuracy than the Logistic Regression model.\n",
    "- This apparently, is because of overfitting, i.e. NN captures more noise than data.\n",
    "- Testing accuracy of NN drops below the Training accuracy at higher epochs. This explains the over-fitting on training data.\n",
    "- Logistic Regression gives a reliable accuracy, without the above mentioned problem.\n"
   ]
  },
  {
   "cell_type": "markdown",
   "id": "institutional-pacific",
   "metadata": {
    "papermill": {
     "duration": 0.049546,
     "end_time": "2021-05-18T20:13:57.354196",
     "exception": false,
     "start_time": "2021-05-18T20:13:57.304650",
     "status": "completed"
    },
    "tags": []
   },
   "source": [
    "### Moving till the last but one layer (excluding it).\n",
    "#### Plotting the outputs of this layer of the NN."
   ]
  },
  {
   "cell_type": "code",
   "execution_count": 24,
   "id": "economic-server",
   "metadata": {
    "execution": {
     "iopub.execute_input": "2021-05-18T20:13:57.455998Z",
     "iopub.status.busy": "2021-05-18T20:13:57.454907Z",
     "iopub.status.idle": "2021-05-18T20:13:57.467456Z",
     "shell.execute_reply": "2021-05-18T20:13:57.468157Z"
    },
    "papermill": {
     "duration": 0.066703,
     "end_time": "2021-05-18T20:13:57.468361",
     "exception": false,
     "start_time": "2021-05-18T20:13:57.401658",
     "status": "completed"
    },
    "tags": []
   },
   "outputs": [],
   "source": [
    "model_new = Model(layers[:-2])"
   ]
  },
  {
   "cell_type": "code",
   "execution_count": 25,
   "id": "varied-upgrade",
   "metadata": {
    "execution": {
     "iopub.execute_input": "2021-05-18T20:13:57.606326Z",
     "iopub.status.busy": "2021-05-18T20:13:57.605764Z",
     "iopub.status.idle": "2021-05-18T20:13:57.634719Z",
     "shell.execute_reply": "2021-05-18T20:13:57.635293Z"
    },
    "papermill": {
     "duration": 0.113475,
     "end_time": "2021-05-18T20:13:57.635515",
     "exception": false,
     "start_time": "2021-05-18T20:13:57.522040",
     "status": "completed"
    },
    "tags": []
   },
   "outputs": [],
   "source": [
    "plot_testing = model_new(testing_xdata)"
   ]
  },
  {
   "cell_type": "code",
   "execution_count": 26,
   "id": "specific-handling",
   "metadata": {
    "execution": {
     "iopub.execute_input": "2021-05-18T20:13:57.748501Z",
     "iopub.status.busy": "2021-05-18T20:13:57.747871Z",
     "iopub.status.idle": "2021-05-18T20:13:57.984559Z",
     "shell.execute_reply": "2021-05-18T20:13:57.983984Z"
    },
    "papermill": {
     "duration": 0.292089,
     "end_time": "2021-05-18T20:13:57.984700",
     "exception": false,
     "start_time": "2021-05-18T20:13:57.692611",
     "status": "completed"
    },
    "tags": []
   },
   "outputs": [
    {
     "data": {
      "text/plain": [
       "Text(0.5, 1.0, 'Outputs')"
      ]
     },
     "execution_count": 26,
     "metadata": {},
     "output_type": "execute_result"
    },
    {
     "data": {
      "image/png": "[encoded data removed]",
      "text/plain": [
       "<Figure size 576x504 with 1 Axes>"
      ]
     },
     "metadata": {
      "needs_background": "light"
     },
     "output_type": "display_data"
    }
   ],
   "source": [
    "plt.figure(figsize=(8,7))\n",
    "plt.scatter(plot_testing[:,0], plot_testing[:,1], alpha = 0.1, c = y_test.ravel());\n",
    "plt.title('Outputs')"
   ]
  },
  {
   "cell_type": "markdown",
   "id": "described-knowing",
   "metadata": {
    "papermill": {
     "duration": 0.053387,
     "end_time": "2021-05-18T20:13:58.091021",
     "exception": false,
     "start_time": "2021-05-18T20:13:58.037634",
     "status": "completed"
    },
    "tags": []
   },
   "source": [
    "### Plotting probability contours"
   ]
  },
  {
   "cell_type": "code",
   "execution_count": 27,
   "id": "needed-growing",
   "metadata": {
    "execution": {
     "iopub.execute_input": "2021-05-18T20:13:58.207757Z",
     "iopub.status.busy": "2021-05-18T20:13:58.207160Z",
     "iopub.status.idle": "2021-05-18T20:13:58.218172Z",
     "shell.execute_reply": "2021-05-18T20:13:58.218684Z"
    },
    "papermill": {
     "duration": 0.069709,
     "end_time": "2021-05-18T20:13:58.218810",
     "exception": false,
     "start_time": "2021-05-18T20:13:58.149101",
     "status": "completed"
    },
    "tags": []
   },
   "outputs": [],
   "source": [
    "model_prob = Model(layers[-2:]) "
   ]
  },
  {
   "cell_type": "code",
   "execution_count": 28,
   "id": "introductory-enforcement",
   "metadata": {
    "execution": {
     "iopub.execute_input": "2021-05-18T20:13:58.327266Z",
     "iopub.status.busy": "2021-05-18T20:13:58.326618Z",
     "iopub.status.idle": "2021-05-18T20:13:58.338752Z",
     "shell.execute_reply": "2021-05-18T20:13:58.339168Z"
    },
    "papermill": {
     "duration": 0.067309,
     "end_time": "2021-05-18T20:13:58.339318",
     "exception": false,
     "start_time": "2021-05-18T20:13:58.272009",
     "status": "completed"
    },
    "tags": []
   },
   "outputs": [],
   "source": [
    "# Adjust the x and y ranges according to the above generated plot.\n",
    "x_range = np.linspace(-4, 1, 100) \n",
    "y_range = np.linspace(-6, 6, 100) \n",
    "x_grid, y_grid = np.meshgrid(x_range, y_range) # x_grid and y_grig are of size 100 X 100\n",
    "\n",
    "# converting x_grid and y_grid to continuous arrays\n",
    "x_grid_flat = np.ravel(x_grid)\n",
    "y_grid_flat = np.ravel(y_grid)\n",
    "\n",
    "# The last layer of the current model takes two columns as input. Hence transpose of np.vstack() is required.\n",
    "X = np.vstack((x_grid_flat, y_grid_flat)).T\n",
    "\n",
    "# x_grid and y_grid are of size 100 x 100\n",
    "probability_contour = model_prob(X).reshape(100,100) "
   ]
  },
  {
   "cell_type": "code",
   "execution_count": 29,
   "id": "understood-landing",
   "metadata": {
    "execution": {
     "iopub.execute_input": "2021-05-18T20:13:58.461554Z",
     "iopub.status.busy": "2021-05-18T20:13:58.460979Z",
     "iopub.status.idle": "2021-05-18T20:13:58.735505Z",
     "shell.execute_reply": "2021-05-18T20:13:58.735035Z"
    },
    "papermill": {
     "duration": 0.344366,
     "end_time": "2021-05-18T20:13:58.735625",
     "exception": false,
     "start_time": "2021-05-18T20:13:58.391259",
     "status": "completed"
    },
    "tags": []
   },
   "outputs": [
    {
     "data": {
      "image/png": "[encoded data removed]",
      "text/plain": [
       "<Figure size 720x648 with 1 Axes>"
      ]
     },
     "metadata": {
      "needs_background": "light"
     },
     "output_type": "display_data"
    }
   ],
   "source": [
    "plt.figure(figsize=(10,9))\n",
    "plt.scatter(plot_testing[:,0], plot_testing[:,1], alpha = 0.1, c = y_test.ravel())\n",
    "contours = plt.contour(x_grid,y_grid,probability_contour)\n",
    "plt.title('Probability Contours')\n",
    "plt.clabel(contours, inline = True );"
   ]
  }
 ],
 "metadata": {
  "kernelspec": {
   "display_name": "Python 3",
   "language": "python",
   "name": "python3"
  },
  "language_info": {
   "codemirror_mode": {
    "name": "ipython",
    "version": 3
   },
   "file_extension": ".py",
   "mimetype": "text/x-python",
   "name": "python",
   "nbconvert_exporter": "python",
   "pygments_lexer": "ipython3",
   "version": "3.6.13"
  },
  "papermill": {
   "duration": 511.950679,
   "end_time": "2021-05-18T20:13:59.102326",
   "environment_variables": {},
   "exception": null,
   "input_path": "2020-08-11-NeuralNetwork.ipynb",
   "output_path": "2020-08-11-NeuralNetwork.ipynb",
   "parameters": {},
   "start_time": "2021-05-18T20:05:27.151647",
   "version": "2.1.2"
  }
 },
 "nbformat": 4,
 "nbformat_minor": 5
}