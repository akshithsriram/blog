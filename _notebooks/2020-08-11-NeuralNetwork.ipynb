{
 "cells": [
  {
   "cell_type": "markdown",
   "id": "fitted-suggestion",
   "metadata": {
    "papermill": {
     "duration": 0.035943,
     "end_time": "2021-02-10T20:04:55.886489",
     "exception": false,
     "start_time": "2021-02-10T20:04:55.850546",
     "status": "completed"
    },
    "tags": []
   },
   "source": [
    "# \"A Basic Neural Network: Differentiate Hand-Written Digits\"\n",
    "\n",
    "- badges: true\n",
    "- author: Akshith Sriram"
   ]
  },
  {
   "cell_type": "markdown",
   "id": "signal-flexibility",
   "metadata": {
    "papermill": {
     "duration": 0.033037,
     "end_time": "2021-02-10T20:04:55.951663",
     "exception": false,
     "start_time": "2021-02-10T20:04:55.918626",
     "status": "completed"
    },
    "tags": []
   },
   "source": [
    "### Key Objectives:\n",
    "- Building a neural network that differentiates two hand-written digits 3 and 8.\n",
    "- Comparing the results of this Neural Network (NN) to that of a Logistic Regression (LR) model.\n",
    "\n",
    "### Requirements:\n",
    "- 'Kudzu' : A neural network library that was designed during our course by [Univ.AI](www.univ.ai). \n",
    "- MNIST Database\n",
    "\n",
    "If MNIST is not installed, use the command `!pip install mnist` given below.\n",
    "It can be run both from the command line and Jupyter Notebook."
   ]
  },
  {
   "cell_type": "code",
   "execution_count": 1,
   "id": "british-texture",
   "metadata": {
    "execution": {
     "iopub.execute_input": "2021-02-10T20:04:56.029470Z",
     "iopub.status.busy": "2021-02-10T20:04:56.028817Z",
     "iopub.status.idle": "2021-02-10T20:04:57.713504Z",
     "shell.execute_reply": "2021-02-10T20:04:57.714049Z"
    },
    "papermill": {
     "duration": 1.729475,
     "end_time": "2021-02-10T20:04:57.714240",
     "exception": false,
     "start_time": "2021-02-10T20:04:55.984765",
     "status": "completed"
    },
    "tags": []
   },
   "outputs": [
    {
     "name": "stdout",
     "output_type": "stream",
     "text": [
      "Collecting mnist\r\n"
     ]
    },
    {
     "name": "stdout",
     "output_type": "stream",
     "text": [
      "  Downloading mnist-0.2.2-py2.py3-none-any.whl (3.5 kB)\r\n",
      "Requirement already satisfied: numpy in /opt/hostedtoolcache/Python/3.6.12/x64/lib/python3.6/site-packages (from mnist) (1.19.5)\r\n"
     ]
    },
    {
     "name": "stdout",
     "output_type": "stream",
     "text": [
      "Installing collected packages: mnist\r\n"
     ]
    },
    {
     "name": "stdout",
     "output_type": "stream",
     "text": [
      "Successfully installed mnist-0.2.2\r\n"
     ]
    }
   ],
   "source": [
    "!pip install mnist "
   ]
  },
  {
   "cell_type": "markdown",
   "id": "stunning-extra",
   "metadata": {
    "papermill": {
     "duration": 0.034263,
     "end_time": "2021-02-10T20:04:57.783905",
     "exception": false,
     "start_time": "2021-02-10T20:04:57.749642",
     "status": "completed"
    },
    "tags": []
   },
   "source": [
    "#### Importing necessary libraries"
   ]
  },
  {
   "cell_type": "code",
   "execution_count": 2,
   "id": "wooden-france",
   "metadata": {
    "execution": {
     "iopub.execute_input": "2021-02-10T20:04:57.867674Z",
     "iopub.status.busy": "2021-02-10T20:04:57.866993Z",
     "iopub.status.idle": "2021-02-10T20:04:58.495591Z",
     "shell.execute_reply": "2021-02-10T20:04:58.496133Z"
    },
    "papermill": {
     "duration": 0.679306,
     "end_time": "2021-02-10T20:04:58.496303",
     "exception": false,
     "start_time": "2021-02-10T20:04:57.816997",
     "status": "completed"
    },
    "tags": []
   },
   "outputs": [],
   "source": [
    "%load_ext autoreload\n",
    "%autoreload 2\n",
    "\n",
    "%matplotlib inline\n",
    "import matplotlib.pyplot as plt\n",
    "\n",
    "import numpy as np\n",
    "import pandas as pd"
   ]
  },
  {
   "cell_type": "markdown",
   "id": "stunning-physics",
   "metadata": {
    "papermill": {
     "duration": 0.033225,
     "end_time": "2021-02-10T20:04:58.567073",
     "exception": false,
     "start_time": "2021-02-10T20:04:58.533848",
     "status": "completed"
    },
    "tags": []
   },
   "source": [
    "### Preparing the Data"
   ]
  },
  {
   "cell_type": "code",
   "execution_count": 3,
   "id": "unauthorized-remainder",
   "metadata": {
    "execution": {
     "iopub.execute_input": "2021-02-10T20:04:58.638742Z",
     "iopub.status.busy": "2021-02-10T20:04:58.638085Z",
     "iopub.status.idle": "2021-02-10T20:04:58.650631Z",
     "shell.execute_reply": "2021-02-10T20:04:58.650068Z"
    },
    "papermill": {
     "duration": 0.05063,
     "end_time": "2021-02-10T20:04:58.650763",
     "exception": false,
     "start_time": "2021-02-10T20:04:58.600133",
     "status": "completed"
    },
    "tags": []
   },
   "outputs": [],
   "source": [
    "import mnist"
   ]
  },
  {
   "cell_type": "code",
   "execution_count": 4,
   "id": "correct-antarctica",
   "metadata": {
    "execution": {
     "iopub.execute_input": "2021-02-10T20:04:58.723241Z",
     "iopub.status.busy": "2021-02-10T20:04:58.722593Z",
     "iopub.status.idle": "2021-02-10T20:04:59.523818Z",
     "shell.execute_reply": "2021-02-10T20:04:59.523178Z"
    },
    "papermill": {
     "duration": 0.83962,
     "end_time": "2021-02-10T20:04:59.523965",
     "exception": false,
     "start_time": "2021-02-10T20:04:58.684345",
     "status": "completed"
    },
    "tags": []
   },
   "outputs": [],
   "source": [
    "train_images = mnist.train_images()\n",
    "train_labels = mnist.train_labels()"
   ]
  },
  {
   "cell_type": "code",
   "execution_count": 5,
   "id": "musical-prospect",
   "metadata": {
    "execution": {
     "iopub.execute_input": "2021-02-10T20:04:59.623529Z",
     "iopub.status.busy": "2021-02-10T20:04:59.620917Z",
     "iopub.status.idle": "2021-02-10T20:04:59.637015Z",
     "shell.execute_reply": "2021-02-10T20:04:59.636451Z"
    },
    "papermill": {
     "duration": 0.080703,
     "end_time": "2021-02-10T20:04:59.637152",
     "exception": false,
     "start_time": "2021-02-10T20:04:59.556449",
     "status": "completed"
    },
    "tags": []
   },
   "outputs": [
    {
     "data": {
      "text/plain": [
       "((60000, 28, 28), (60000,))"
      ]
     },
     "execution_count": 5,
     "metadata": {},
     "output_type": "execute_result"
    }
   ],
   "source": [
    "train_images.shape, train_labels.shape"
   ]
  },
  {
   "cell_type": "code",
   "execution_count": 6,
   "id": "preliminary-elizabeth",
   "metadata": {
    "execution": {
     "iopub.execute_input": "2021-02-10T20:04:59.728092Z",
     "iopub.status.busy": "2021-02-10T20:04:59.717614Z",
     "iopub.status.idle": "2021-02-10T20:05:00.041938Z",
     "shell.execute_reply": "2021-02-10T20:05:00.041293Z"
    },
    "papermill": {
     "duration": 0.368617,
     "end_time": "2021-02-10T20:05:00.042081",
     "exception": false,
     "start_time": "2021-02-10T20:04:59.673464",
     "status": "completed"
    },
    "tags": []
   },
   "outputs": [],
   "source": [
    "test_images = mnist.test_images()\n",
    "test_labels = mnist.test_labels()"
   ]
  },
  {
   "cell_type": "code",
   "execution_count": 7,
   "id": "acknowledged-oxygen",
   "metadata": {
    "execution": {
     "iopub.execute_input": "2021-02-10T20:05:00.128600Z",
     "iopub.status.busy": "2021-02-10T20:05:00.122603Z",
     "iopub.status.idle": "2021-02-10T20:05:00.132056Z",
     "shell.execute_reply": "2021-02-10T20:05:00.131464Z"
    },
    "papermill": {
     "duration": 0.054688,
     "end_time": "2021-02-10T20:05:00.132189",
     "exception": false,
     "start_time": "2021-02-10T20:05:00.077501",
     "status": "completed"
    },
    "tags": []
   },
   "outputs": [
    {
     "data": {
      "text/plain": [
       "((10000, 28, 28), (10000,))"
      ]
     },
     "execution_count": 7,
     "metadata": {},
     "output_type": "execute_result"
    }
   ],
   "source": [
    "test_images.shape, test_labels.shape"
   ]
  },
  {
   "cell_type": "code",
   "execution_count": 8,
   "id": "innovative-organic",
   "metadata": {
    "execution": {
     "iopub.execute_input": "2021-02-10T20:05:00.226110Z",
     "iopub.status.busy": "2021-02-10T20:05:00.206627Z",
     "iopub.status.idle": "2021-02-10T20:05:00.380699Z",
     "shell.execute_reply": "2021-02-10T20:05:00.379947Z"
    },
    "papermill": {
     "duration": 0.213602,
     "end_time": "2021-02-10T20:05:00.380843",
     "exception": false,
     "start_time": "2021-02-10T20:05:00.167241",
     "status": "completed"
    },
    "tags": []
   },
   "outputs": [
    {
     "name": "stdout",
     "output_type": "stream",
     "text": [
      "2\n"
     ]
    },
    {
     "data": {
      "text/plain": [
       "<matplotlib.image.AxesImage at 0x7fe27db95208>"
      ]
     },
     "execution_count": 8,
     "metadata": {},
     "output_type": "execute_result"
    },
    {
     "data": {
      "image/png": "[encoded data removed]",
      "text/plain": [
       "<Figure size 432x288 with 1 Axes>"
      ]
     },
     "metadata": {
      "needs_background": "light"
     },
     "output_type": "display_data"
    }
   ],
   "source": [
    "image_index = 7776 # You may select anything up to 60,000\n",
    "print(train_labels[image_index]) \n",
    "plt.imshow(train_images[image_index], cmap='Greys')"
   ]
  },
  {
   "cell_type": "markdown",
   "id": "facial-modem",
   "metadata": {
    "papermill": {
     "duration": 0.037692,
     "end_time": "2021-02-10T20:05:00.453498",
     "exception": false,
     "start_time": "2021-02-10T20:05:00.415806",
     "status": "completed"
    },
    "tags": []
   },
   "source": [
    "## Filter data to get 3 and 8 out"
   ]
  },
  {
   "cell_type": "code",
   "execution_count": 9,
   "id": "thousand-acquisition",
   "metadata": {
    "execution": {
     "iopub.execute_input": "2021-02-10T20:05:00.534456Z",
     "iopub.status.busy": "2021-02-10T20:05:00.533783Z",
     "iopub.status.idle": "2021-02-10T20:05:00.548476Z",
     "shell.execute_reply": "2021-02-10T20:05:00.549031Z"
    },
    "papermill": {
     "duration": 0.061233,
     "end_time": "2021-02-10T20:05:00.549194",
     "exception": false,
     "start_time": "2021-02-10T20:05:00.487961",
     "status": "completed"
    },
    "tags": []
   },
   "outputs": [],
   "source": [
    "train_filter = np.where((train_labels == 3 ) | (train_labels == 8))\n",
    "test_filter = np.where((test_labels == 3) | (test_labels == 8))\n",
    "X_train, y_train = train_images[train_filter], train_labels[train_filter]\n",
    "X_test, y_test = test_images[test_filter], test_labels[test_filter]"
   ]
  },
  {
   "cell_type": "markdown",
   "id": "ruled-access",
   "metadata": {
    "papermill": {
     "duration": 0.035998,
     "end_time": "2021-02-10T20:05:00.628421",
     "exception": false,
     "start_time": "2021-02-10T20:05:00.592423",
     "status": "completed"
    },
    "tags": []
   },
   "source": [
    "We normalize the pixel values in the 0 to 1 range"
   ]
  },
  {
   "cell_type": "code",
   "execution_count": 10,
   "id": "isolated-denver",
   "metadata": {
    "execution": {
     "iopub.execute_input": "2021-02-10T20:05:00.744344Z",
     "iopub.status.busy": "2021-02-10T20:05:00.735433Z",
     "iopub.status.idle": "2021-02-10T20:05:00.800032Z",
     "shell.execute_reply": "2021-02-10T20:05:00.799439Z"
    },
    "papermill": {
     "duration": 0.131792,
     "end_time": "2021-02-10T20:05:00.800179",
     "exception": false,
     "start_time": "2021-02-10T20:05:00.668387",
     "status": "completed"
    },
    "tags": []
   },
   "outputs": [],
   "source": [
    "X_train = X_train/255.\n",
    "X_test = X_test/255."
   ]
  },
  {
   "cell_type": "markdown",
   "id": "perfect-summary",
   "metadata": {
    "papermill": {
     "duration": 0.037873,
     "end_time": "2021-02-10T20:05:01.114318",
     "exception": false,
     "start_time": "2021-02-10T20:05:01.076445",
     "status": "completed"
    },
    "tags": []
   },
   "source": [
    "Setup the labels as 1 (when the digit is 3) and 0 (when the digit is 8)"
   ]
  },
  {
   "cell_type": "code",
   "execution_count": 11,
   "id": "personalized-growing",
   "metadata": {
    "execution": {
     "iopub.execute_input": "2021-02-10T20:05:01.196229Z",
     "iopub.status.busy": "2021-02-10T20:05:01.195563Z",
     "iopub.status.idle": "2021-02-10T20:05:01.203844Z",
     "shell.execute_reply": "2021-02-10T20:05:01.204354Z"
    },
    "papermill": {
     "duration": 0.056147,
     "end_time": "2021-02-10T20:05:01.204505",
     "exception": false,
     "start_time": "2021-02-10T20:05:01.148358",
     "status": "completed"
    },
    "tags": []
   },
   "outputs": [],
   "source": [
    "y_train = 1*(y_train==3)\n",
    "y_test = 1*(y_test==3)"
   ]
  },
  {
   "cell_type": "code",
   "execution_count": 12,
   "id": "considered-virgin",
   "metadata": {
    "execution": {
     "iopub.execute_input": "2021-02-10T20:05:01.279513Z",
     "iopub.status.busy": "2021-02-10T20:05:01.278821Z",
     "iopub.status.idle": "2021-02-10T20:05:01.292947Z",
     "shell.execute_reply": "2021-02-10T20:05:01.293580Z"
    },
    "papermill": {
     "duration": 0.054398,
     "end_time": "2021-02-10T20:05:01.293727",
     "exception": false,
     "start_time": "2021-02-10T20:05:01.239329",
     "status": "completed"
    },
    "tags": []
   },
   "outputs": [
    {
     "data": {
      "text/plain": [
       "((11982, 28, 28), (1984, 28, 28))"
      ]
     },
     "execution_count": 12,
     "metadata": {},
     "output_type": "execute_result"
    }
   ],
   "source": [
    "X_train.shape, X_test.shape"
   ]
  },
  {
   "cell_type": "markdown",
   "id": "civilian-mobile",
   "metadata": {
    "papermill": {
     "duration": 0.037674,
     "end_time": "2021-02-10T20:05:01.366300",
     "exception": false,
     "start_time": "2021-02-10T20:05:01.328626",
     "status": "completed"
    },
    "tags": []
   },
   "source": [
    "### Reshape the input data to create a linear array"
   ]
  },
  {
   "cell_type": "code",
   "execution_count": 13,
   "id": "colonial-adams",
   "metadata": {
    "execution": {
     "iopub.execute_input": "2021-02-10T20:05:01.452078Z",
     "iopub.status.busy": "2021-02-10T20:05:01.451388Z",
     "iopub.status.idle": "2021-02-10T20:05:01.464420Z",
     "shell.execute_reply": "2021-02-10T20:05:01.463855Z"
    },
    "papermill": {
     "duration": 0.056453,
     "end_time": "2021-02-10T20:05:01.464704",
     "exception": false,
     "start_time": "2021-02-10T20:05:01.408251",
     "status": "completed"
    },
    "tags": []
   },
   "outputs": [
    {
     "data": {
      "text/plain": [
       "((11982, 784), (1984, 784))"
      ]
     },
     "execution_count": 13,
     "metadata": {},
     "output_type": "execute_result"
    }
   ],
   "source": [
    "X_train = X_train.reshape(X_train.shape[0], -1)\n",
    "X_test = X_test.reshape(X_test.shape[0], -1)\n",
    "X_train.shape, X_test.shape"
   ]
  },
  {
   "cell_type": "markdown",
   "id": "smart-details",
   "metadata": {
    "papermill": {
     "duration": 0.037013,
     "end_time": "2021-02-10T20:05:01.538297",
     "exception": false,
     "start_time": "2021-02-10T20:05:01.501284",
     "status": "completed"
    },
    "tags": []
   },
   "source": [
    "### Importing appropriate functions from 'Kudzu'"
   ]
  },
  {
   "cell_type": "code",
   "execution_count": 14,
   "id": "celtic-trial",
   "metadata": {
    "execution": {
     "iopub.execute_input": "2021-02-10T20:05:01.622157Z",
     "iopub.status.busy": "2021-02-10T20:05:01.614233Z",
     "iopub.status.idle": "2021-02-10T20:05:01.640572Z",
     "shell.execute_reply": "2021-02-10T20:05:01.639916Z"
    },
    "papermill": {
     "duration": 0.066223,
     "end_time": "2021-02-10T20:05:01.640709",
     "exception": false,
     "start_time": "2021-02-10T20:05:01.574486",
     "status": "completed"
    },
    "tags": []
   },
   "outputs": [],
   "source": [
    "from kudzu.layer import Sigmoid\n",
    "from kudzu.layer import Relu\n",
    "from kudzu.layer import Affine, Sigmoid\n",
    "\n",
    "from kudzu.model import Model\n",
    "from kudzu.train import Learner\n",
    "from kudzu.optim import GD\n",
    "from kudzu.data import Data, Dataloader, Sampler\n",
    "\n",
    "from kudzu.callbacks import AccCallback\n",
    "from kudzu.callbacks import ClfCallback\n",
    "\n",
    "from kudzu.loss import MSE"
   ]
  },
  {
   "cell_type": "markdown",
   "id": "coupled-customer",
   "metadata": {
    "papermill": {
     "duration": 0.034537,
     "end_time": "2021-02-10T20:05:01.712257",
     "exception": false,
     "start_time": "2021-02-10T20:05:01.677720",
     "status": "completed"
    },
    "tags": []
   },
   "source": [
    "### Let us create a `Config` class, to store important parameters. \n",
    "This class essentially plays the role of a dictionary."
   ]
  },
  {
   "cell_type": "code",
   "execution_count": 15,
   "id": "young-ceiling",
   "metadata": {
    "execution": {
     "iopub.execute_input": "2021-02-10T20:05:01.796293Z",
     "iopub.status.busy": "2021-02-10T20:05:01.795590Z",
     "iopub.status.idle": "2021-02-10T20:05:01.806206Z",
     "shell.execute_reply": "2021-02-10T20:05:01.805648Z"
    },
    "papermill": {
     "duration": 0.056578,
     "end_time": "2021-02-10T20:05:01.806337",
     "exception": false,
     "start_time": "2021-02-10T20:05:01.749759",
     "status": "completed"
    },
    "tags": []
   },
   "outputs": [],
   "source": [
    "class Config:\n",
    "    pass\n",
    "config = Config()\n",
    "config.lr = 0.001\n",
    "config.num_epochs = 251\n",
    "config.bs = 50"
   ]
  },
  {
   "cell_type": "markdown",
   "id": "according-mandate",
   "metadata": {
    "papermill": {
     "duration": 0.036815,
     "end_time": "2021-02-10T20:05:01.878514",
     "exception": false,
     "start_time": "2021-02-10T20:05:01.841699",
     "status": "completed"
    },
    "tags": []
   },
   "source": [
    "### Initializing data to the variables"
   ]
  },
  {
   "cell_type": "code",
   "execution_count": 16,
   "id": "academic-disposition",
   "metadata": {
    "execution": {
     "iopub.execute_input": "2021-02-10T20:05:01.957096Z",
     "iopub.status.busy": "2021-02-10T20:05:01.956429Z",
     "iopub.status.idle": "2021-02-10T20:05:01.968215Z",
     "shell.execute_reply": "2021-02-10T20:05:01.968724Z"
    },
    "papermill": {
     "duration": 0.054535,
     "end_time": "2021-02-10T20:05:01.968875",
     "exception": false,
     "start_time": "2021-02-10T20:05:01.914340",
     "status": "completed"
    },
    "tags": []
   },
   "outputs": [],
   "source": [
    "data = Data(X_train, y_train.reshape(-1,1))\n",
    "sampler = Sampler(data, config.bs, shuffle=True)\n",
    "\n",
    "dl = Dataloader(data, sampler)\n",
    "\n",
    "opt = GD(config.lr)\n",
    "loss = MSE()"
   ]
  },
  {
   "cell_type": "code",
   "execution_count": 17,
   "id": "featured-commission",
   "metadata": {
    "execution": {
     "iopub.execute_input": "2021-02-10T20:05:02.045041Z",
     "iopub.status.busy": "2021-02-10T20:05:02.044375Z",
     "iopub.status.idle": "2021-02-10T20:05:02.056547Z",
     "shell.execute_reply": "2021-02-10T20:05:02.057059Z"
    },
    "papermill": {
     "duration": 0.052488,
     "end_time": "2021-02-10T20:05:02.057209",
     "exception": false,
     "start_time": "2021-02-10T20:05:02.004721",
     "status": "completed"
    },
    "tags": []
   },
   "outputs": [],
   "source": [
    "training_xdata = X_train\n",
    "testing_xdata = X_test\n",
    "training_ydata = y_train.reshape(-1,1)\n",
    "testing_ydata = y_test.reshape(-1,1)"
   ]
  },
  {
   "cell_type": "markdown",
   "id": "played-safety",
   "metadata": {
    "papermill": {
     "duration": 0.037284,
     "end_time": "2021-02-10T20:05:02.130468",
     "exception": false,
     "start_time": "2021-02-10T20:05:02.093184",
     "status": "completed"
    },
    "tags": []
   },
   "source": [
    "### Running Models with the Training data\n",
    "Details about the network layers:\n",
    "- A first affine layer has 784 inputs and does 100 affine transforms. These are followed by a Relu\n",
    "- A second affine layer has 100 inputs from the 100 activations of the past layer, and does 100 affine transforms. These are followed by a Relu\n",
    "- A third affine layer has 100 activations and does 2 affine transformations to create an embedding for visualization. There is no non-linearity here.\n",
    "- A final \"logistic regression\" which has an affine transform from 2 inputs to 1 output, which is squeezed through a sigmoid.\n",
    "\n",
    "Help taken from Anshuman's Notebook."
   ]
  },
  {
   "cell_type": "code",
   "execution_count": 18,
   "id": "asian-bankruptcy",
   "metadata": {
    "execution": {
     "iopub.execute_input": "2021-02-10T20:05:02.213576Z",
     "iopub.status.busy": "2021-02-10T20:05:02.212082Z",
     "iopub.status.idle": "2021-02-10T20:05:02.227383Z",
     "shell.execute_reply": "2021-02-10T20:05:02.226840Z"
    },
    "papermill": {
     "duration": 0.061117,
     "end_time": "2021-02-10T20:05:02.227524",
     "exception": false,
     "start_time": "2021-02-10T20:05:02.166407",
     "status": "completed"
    },
    "tags": []
   },
   "outputs": [],
   "source": [
    "# layers for the Neural Network\n",
    "layers = [Affine(\"first\", 784, 100), Relu(\"first\"), Affine(\"second\", 100, 100), Relu(\"second\"), Affine(\"third\", 100, 2), Affine(\"final\", 2, 1), Sigmoid(\"final\")]\n",
    "model_nn = Model(layers)\n",
    "\n",
    "# layers for the Logistic Regression\n",
    "layers_lr = [Affine(\"logits\", 784, 1), Sigmoid(\"sigmoid\")]\n",
    "model_lr = Model(layers_lr)"
   ]
  },
  {
   "cell_type": "code",
   "execution_count": 19,
   "id": "removed-butler",
   "metadata": {
    "execution": {
     "iopub.execute_input": "2021-02-10T20:05:02.305495Z",
     "iopub.status.busy": "2021-02-10T20:05:02.304846Z",
     "iopub.status.idle": "2021-02-10T20:05:02.317808Z",
     "shell.execute_reply": "2021-02-10T20:05:02.318385Z"
    },
    "papermill": {
     "duration": 0.053022,
     "end_time": "2021-02-10T20:05:02.318532",
     "exception": false,
     "start_time": "2021-02-10T20:05:02.265510",
     "status": "completed"
    },
    "tags": []
   },
   "outputs": [],
   "source": [
    "# suffix _nn stands for Neural Network.\n",
    "learner_nn = Learner(loss, model_nn, opt, config.num_epochs)\n",
    "acc_nn = ClfCallback(learner_nn, config.bs, training_xdata , testing_xdata, training_ydata, testing_ydata)\n",
    "learner_nn.set_callbacks([acc_nn])"
   ]
  },
  {
   "cell_type": "code",
   "execution_count": 20,
   "id": "conceptual-throw",
   "metadata": {
    "execution": {
     "iopub.execute_input": "2021-02-10T20:05:02.399465Z",
     "iopub.status.busy": "2021-02-10T20:05:02.398815Z",
     "iopub.status.idle": "2021-02-10T20:07:10.459104Z",
     "shell.execute_reply": "2021-02-10T20:07:10.459770Z"
    },
    "papermill": {
     "duration": 128.104849,
     "end_time": "2021-02-10T20:07:10.459932",
     "exception": false,
     "start_time": "2021-02-10T20:05:02.355083",
     "status": "completed"
    },
    "tags": []
   },
   "outputs": [
    {
     "name": "stdout",
     "output_type": "stream",
     "text": [
      "====== Neural Network ======\n"
     ]
    },
    {
     "name": "stdout",
     "output_type": "stream",
     "text": [
      "Epoch 0, Loss 0.2378\n",
      "Training Accuracy: 0.7001, Testing Accuracy: 0.7314\n",
      "\n"
     ]
    },
    {
     "name": "stdout",
     "output_type": "stream",
     "text": [
      "Epoch 10, Loss 0.0966\n",
      "Training Accuracy: 0.9170, Testing Accuracy: 0.9289\n",
      "\n"
     ]
    },
    {
     "name": "stdout",
     "output_type": "stream",
     "text": [
      "Epoch 20, Loss 0.0569\n",
      "Training Accuracy: 0.9422, Testing Accuracy: 0.9551\n",
      "\n"
     ]
    },
    {
     "name": "stdout",
     "output_type": "stream",
     "text": [
      "Epoch 30, Loss 0.044\n",
      "Training Accuracy: 0.9523, Testing Accuracy: 0.9667\n",
      "\n"
     ]
    },
    {
     "name": "stdout",
     "output_type": "stream",
     "text": [
      "Epoch 40, Loss 0.0379\n",
      "Training Accuracy: 0.9565, Testing Accuracy: 0.9688\n",
      "\n"
     ]
    },
    {
     "name": "stdout",
     "output_type": "stream",
     "text": [
      "Epoch 50, Loss 0.0343\n",
      "Training Accuracy: 0.9603, Testing Accuracy: 0.9708\n",
      "\n"
     ]
    },
    {
     "name": "stdout",
     "output_type": "stream",
     "text": [
      "Epoch 60, Loss 0.0318\n",
      "Training Accuracy: 0.9624, Testing Accuracy: 0.9713\n",
      "\n"
     ]
    },
    {
     "name": "stdout",
     "output_type": "stream",
     "text": [
      "Epoch 70, Loss 0.03\n",
      "Training Accuracy: 0.9649, Testing Accuracy: 0.9703\n",
      "\n"
     ]
    },
    {
     "name": "stdout",
     "output_type": "stream",
     "text": [
      "Epoch 80, Loss 0.0285\n",
      "Training Accuracy: 0.9664, Testing Accuracy: 0.9708\n",
      "\n"
     ]
    },
    {
     "name": "stdout",
     "output_type": "stream",
     "text": [
      "Epoch 90, Loss 0.0273\n",
      "Training Accuracy: 0.9675, Testing Accuracy: 0.9708\n",
      "\n"
     ]
    },
    {
     "name": "stdout",
     "output_type": "stream",
     "text": [
      "Epoch 100, Loss 0.0263\n",
      "Training Accuracy: 0.9690, Testing Accuracy: 0.9728\n",
      "\n"
     ]
    },
    {
     "name": "stdout",
     "output_type": "stream",
     "text": [
      "Epoch 110, Loss 0.0254\n",
      "Training Accuracy: 0.9704, Testing Accuracy: 0.9718\n",
      "\n"
     ]
    },
    {
     "name": "stdout",
     "output_type": "stream",
     "text": [
      "Epoch 120, Loss 0.0246\n",
      "Training Accuracy: 0.9710, Testing Accuracy: 0.9718\n",
      "\n"
     ]
    },
    {
     "name": "stdout",
     "output_type": "stream",
     "text": [
      "Epoch 130, Loss 0.0239\n",
      "Training Accuracy: 0.9719, Testing Accuracy: 0.9743\n",
      "\n"
     ]
    },
    {
     "name": "stdout",
     "output_type": "stream",
     "text": [
      "Epoch 140, Loss 0.0232\n",
      "Training Accuracy: 0.9725, Testing Accuracy: 0.9743\n",
      "\n"
     ]
    },
    {
     "name": "stdout",
     "output_type": "stream",
     "text": [
      "Epoch 150, Loss 0.0226\n",
      "Training Accuracy: 0.9732, Testing Accuracy: 0.9748\n",
      "\n"
     ]
    },
    {
     "name": "stdout",
     "output_type": "stream",
     "text": [
      "Epoch 160, Loss 0.022\n",
      "Training Accuracy: 0.9741, Testing Accuracy: 0.9753\n",
      "\n"
     ]
    },
    {
     "name": "stdout",
     "output_type": "stream",
     "text": [
      "Epoch 170, Loss 0.0215\n",
      "Training Accuracy: 0.9746, Testing Accuracy: 0.9758\n",
      "\n"
     ]
    },
    {
     "name": "stdout",
     "output_type": "stream",
     "text": [
      "Epoch 180, Loss 0.021\n",
      "Training Accuracy: 0.9754, Testing Accuracy: 0.9753\n",
      "\n"
     ]
    },
    {
     "name": "stdout",
     "output_type": "stream",
     "text": [
      "Epoch 190, Loss 0.0205\n",
      "Training Accuracy: 0.9760, Testing Accuracy: 0.9748\n",
      "\n"
     ]
    },
    {
     "name": "stdout",
     "output_type": "stream",
     "text": [
      "Epoch 200, Loss 0.0201\n",
      "Training Accuracy: 0.9765, Testing Accuracy: 0.9753\n",
      "\n"
     ]
    },
    {
     "name": "stdout",
     "output_type": "stream",
     "text": [
      "Epoch 210, Loss 0.0196\n",
      "Training Accuracy: 0.9772, Testing Accuracy: 0.9753\n",
      "\n"
     ]
    },
    {
     "name": "stdout",
     "output_type": "stream",
     "text": [
      "Epoch 220, Loss 0.0192\n",
      "Training Accuracy: 0.9783, Testing Accuracy: 0.9758\n",
      "\n"
     ]
    },
    {
     "name": "stdout",
     "output_type": "stream",
     "text": [
      "Epoch 230, Loss 0.0188\n",
      "Training Accuracy: 0.9788, Testing Accuracy: 0.9758\n",
      "\n"
     ]
    },
    {
     "name": "stdout",
     "output_type": "stream",
     "text": [
      "Epoch 240, Loss 0.0184\n",
      "Training Accuracy: 0.9792, Testing Accuracy: 0.9763\n",
      "\n"
     ]
    },
    {
     "name": "stdout",
     "output_type": "stream",
     "text": [
      "Epoch 250, Loss 0.0181\n",
      "Training Accuracy: 0.9796, Testing Accuracy: 0.9768\n",
      "\n"
     ]
    },
    {
     "data": {
      "text/plain": [
       "0.0050593795041955405"
      ]
     },
     "execution_count": 20,
     "metadata": {},
     "output_type": "execute_result"
    }
   ],
   "source": [
    "print(\"====== Neural Network ======\")\n",
    "learner_nn.train_loop(dl)"
   ]
  },
  {
   "cell_type": "markdown",
   "id": "competent-suffering",
   "metadata": {
    "papermill": {
     "duration": 0.045012,
     "end_time": "2021-02-10T20:07:10.549631",
     "exception": false,
     "start_time": "2021-02-10T20:07:10.504619",
     "status": "completed"
    },
    "tags": []
   },
   "source": [
    "### Logistic Regression based Implementation."
   ]
  },
  {
   "cell_type": "code",
   "execution_count": 21,
   "id": "qualified-psychiatry",
   "metadata": {
    "execution": {
     "iopub.execute_input": "2021-02-10T20:07:10.649308Z",
     "iopub.status.busy": "2021-02-10T20:07:10.648647Z",
     "iopub.status.idle": "2021-02-10T20:07:10.662457Z",
     "shell.execute_reply": "2021-02-10T20:07:10.662966Z"
    },
    "papermill": {
     "duration": 0.070012,
     "end_time": "2021-02-10T20:07:10.663115",
     "exception": false,
     "start_time": "2021-02-10T20:07:10.593103",
     "status": "completed"
    },
    "tags": []
   },
   "outputs": [],
   "source": [
    "learner_lr = Learner(loss, model_lr, opt, config.num_epochs)\n",
    "acc_lr = ClfCallback(learner_lr, config.bs, training_xdata , testing_xdata, training_ydata, testing_ydata)\n",
    "learner_lr.set_callbacks([acc_lr])"
   ]
  },
  {
   "cell_type": "code",
   "execution_count": 22,
   "id": "average-outside",
   "metadata": {
    "execution": {
     "iopub.execute_input": "2021-02-10T20:07:10.766277Z",
     "iopub.status.busy": "2021-02-10T20:07:10.765619Z",
     "iopub.status.idle": "2021-02-10T20:07:29.555857Z",
     "shell.execute_reply": "2021-02-10T20:07:29.556362Z"
    },
    "papermill": {
     "duration": 18.848325,
     "end_time": "2021-02-10T20:07:29.556524",
     "exception": false,
     "start_time": "2021-02-10T20:07:10.708199",
     "status": "completed"
    },
    "tags": []
   },
   "outputs": [
    {
     "name": "stdout",
     "output_type": "stream",
     "text": [
      "====== Logistic Regression ======\n",
      "Epoch 0, Loss 0.247\n",
      "Training Accuracy: 0.6641, Testing Accuracy: 0.6467\n",
      "\n"
     ]
    },
    {
     "name": "stdout",
     "output_type": "stream",
     "text": [
      "Epoch 10, Loss 0.1006\n",
      "Training Accuracy: 0.9190, Testing Accuracy: 0.9234\n",
      "\n"
     ]
    },
    {
     "name": "stdout",
     "output_type": "stream",
     "text": [
      "Epoch 20, Loss 0.077\n",
      "Training Accuracy: 0.9337, Testing Accuracy: 0.9441\n",
      "\n"
     ]
    },
    {
     "name": "stdout",
     "output_type": "stream",
     "text": [
      "Epoch 30, Loss 0.0666\n",
      "Training Accuracy: 0.9390, Testing Accuracy: 0.9511\n",
      "\n"
     ]
    },
    {
     "name": "stdout",
     "output_type": "stream",
     "text": [
      "Epoch 40, Loss 0.0604\n",
      "Training Accuracy: 0.9434, Testing Accuracy: 0.9551\n",
      "\n"
     ]
    },
    {
     "name": "stdout",
     "output_type": "stream",
     "text": [
      "Epoch 50, Loss 0.0562\n",
      "Training Accuracy: 0.9461, Testing Accuracy: 0.9556\n",
      "\n"
     ]
    },
    {
     "name": "stdout",
     "output_type": "stream",
     "text": [
      "Epoch 60, Loss 0.0531\n",
      "Training Accuracy: 0.9488, Testing Accuracy: 0.9572\n",
      "\n"
     ]
    },
    {
     "name": "stdout",
     "output_type": "stream",
     "text": [
      "Epoch 70, Loss 0.0507\n",
      "Training Accuracy: 0.9504, Testing Accuracy: 0.9567\n",
      "\n"
     ]
    },
    {
     "name": "stdout",
     "output_type": "stream",
     "text": [
      "Epoch 80, Loss 0.0487\n",
      "Training Accuracy: 0.9518, Testing Accuracy: 0.9572\n",
      "\n"
     ]
    },
    {
     "name": "stdout",
     "output_type": "stream",
     "text": [
      "Epoch 90, Loss 0.0471\n",
      "Training Accuracy: 0.9533, Testing Accuracy: 0.9582\n",
      "\n"
     ]
    },
    {
     "name": "stdout",
     "output_type": "stream",
     "text": [
      "Epoch 100, Loss 0.0458\n",
      "Training Accuracy: 0.9538, Testing Accuracy: 0.9602\n",
      "\n"
     ]
    },
    {
     "name": "stdout",
     "output_type": "stream",
     "text": [
      "Epoch 110, Loss 0.0446\n",
      "Training Accuracy: 0.9545, Testing Accuracy: 0.9612\n",
      "\n"
     ]
    },
    {
     "name": "stdout",
     "output_type": "stream",
     "text": [
      "Epoch 120, Loss 0.0436\n",
      "Training Accuracy: 0.9549, Testing Accuracy: 0.9622\n",
      "\n"
     ]
    },
    {
     "name": "stdout",
     "output_type": "stream",
     "text": [
      "Epoch 130, Loss 0.0427\n",
      "Training Accuracy: 0.9560, Testing Accuracy: 0.9632\n",
      "\n"
     ]
    },
    {
     "name": "stdout",
     "output_type": "stream",
     "text": [
      "Epoch 140, Loss 0.0418\n",
      "Training Accuracy: 0.9565, Testing Accuracy: 0.9637\n",
      "\n"
     ]
    },
    {
     "name": "stdout",
     "output_type": "stream",
     "text": [
      "Epoch 150, Loss 0.0411\n",
      "Training Accuracy: 0.9569, Testing Accuracy: 0.9637\n",
      "\n"
     ]
    },
    {
     "name": "stdout",
     "output_type": "stream",
     "text": [
      "Epoch 160, Loss 0.0405\n",
      "Training Accuracy: 0.9575, Testing Accuracy: 0.9642\n",
      "\n"
     ]
    },
    {
     "name": "stdout",
     "output_type": "stream",
     "text": [
      "Epoch 170, Loss 0.0399\n",
      "Training Accuracy: 0.9583, Testing Accuracy: 0.9647\n",
      "\n"
     ]
    },
    {
     "name": "stdout",
     "output_type": "stream",
     "text": [
      "Epoch 180, Loss 0.0393\n",
      "Training Accuracy: 0.9585, Testing Accuracy: 0.9652\n",
      "\n"
     ]
    },
    {
     "name": "stdout",
     "output_type": "stream",
     "text": [
      "Epoch 190, Loss 0.0388\n",
      "Training Accuracy: 0.9589, Testing Accuracy: 0.9657\n",
      "\n"
     ]
    },
    {
     "name": "stdout",
     "output_type": "stream",
     "text": [
      "Epoch 200, Loss 0.0383\n",
      "Training Accuracy: 0.9598, Testing Accuracy: 0.9657\n",
      "\n"
     ]
    },
    {
     "name": "stdout",
     "output_type": "stream",
     "text": [
      "Epoch 210, Loss 0.0379\n",
      "Training Accuracy: 0.9599, Testing Accuracy: 0.9667\n",
      "\n"
     ]
    },
    {
     "name": "stdout",
     "output_type": "stream",
     "text": [
      "Epoch 220, Loss 0.0375\n",
      "Training Accuracy: 0.9599, Testing Accuracy: 0.9667\n",
      "\n"
     ]
    },
    {
     "name": "stdout",
     "output_type": "stream",
     "text": [
      "Epoch 230, Loss 0.0371\n",
      "Training Accuracy: 0.9603, Testing Accuracy: 0.9667\n",
      "\n"
     ]
    },
    {
     "name": "stdout",
     "output_type": "stream",
     "text": [
      "Epoch 240, Loss 0.0368\n",
      "Training Accuracy: 0.9607, Testing Accuracy: 0.9677\n",
      "\n"
     ]
    },
    {
     "name": "stdout",
     "output_type": "stream",
     "text": [
      "Epoch 250, Loss 0.0364\n",
      "Training Accuracy: 0.9610, Testing Accuracy: 0.9677\n",
      "\n"
     ]
    },
    {
     "data": {
      "text/plain": [
       "0.032668610972028264"
      ]
     },
     "execution_count": 22,
     "metadata": {},
     "output_type": "execute_result"
    }
   ],
   "source": [
    "print(\"====== Logistic Regression ======\")\n",
    "learner_lr.train_loop(dl)"
   ]
  },
  {
   "cell_type": "markdown",
   "id": "adjusted-possible",
   "metadata": {
    "papermill": {
     "duration": 0.054512,
     "end_time": "2021-02-10T20:07:29.666938",
     "exception": false,
     "start_time": "2021-02-10T20:07:29.612426",
     "status": "completed"
    },
    "tags": []
   },
   "source": [
    "### Comparing results of NN and LR"
   ]
  },
  {
   "cell_type": "code",
   "execution_count": 23,
   "id": "mental-multimedia",
   "metadata": {
    "execution": {
     "iopub.execute_input": "2021-02-10T20:07:29.785005Z",
     "iopub.status.busy": "2021-02-10T20:07:29.784319Z",
     "iopub.status.idle": "2021-02-10T20:07:30.054345Z",
     "shell.execute_reply": "2021-02-10T20:07:30.054894Z"
    },
    "papermill": {
     "duration": 0.334293,
     "end_time": "2021-02-10T20:07:30.055062",
     "exception": false,
     "start_time": "2021-02-10T20:07:29.720769",
     "status": "completed"
    },
    "tags": []
   },
   "outputs": [
    {
     "data": {
      "text/plain": [
       "<matplotlib.legend.Legend at 0x7fe27576aa90>"
      ]
     },
     "execution_count": 23,
     "metadata": {},
     "output_type": "execute_result"
    },
    {
     "data": {
      "image/png": "[encoded data removed]",
      "text/plain": [
       "<Figure size 1080x720 with 1 Axes>"
      ]
     },
     "metadata": {
      "needs_background": "light"
     },
     "output_type": "display_data"
    }
   ],
   "source": [
    "plt.figure(figsize=(15,10))\n",
    "\n",
    "# Neural Network plots\n",
    "plt.plot(acc_nn.accuracies, 'r-', label = \"Training Accuracies - NN\")\n",
    "plt.plot(acc_nn.test_accuracies, 'g-', label = \"Testing Accuracies - NN\")\n",
    "\n",
    "# Logistic Regression plots\n",
    "plt.plot(acc_lr.accuracies, 'k-', label = \"Training Accuracies - LR\")\n",
    "plt.plot(acc_lr.test_accuracies, 'b-', label = \"Testing Accuracies - LR\")\n",
    "\n",
    "plt.ylim(0.8, 1)\n",
    "\n",
    "plt.legend()\n",
    "\n"
   ]
  },
  {
   "cell_type": "markdown",
   "id": "sexual-flesh",
   "metadata": {
    "papermill": {
     "duration": 0.054579,
     "end_time": "2021-02-10T20:07:30.166569",
     "exception": false,
     "start_time": "2021-02-10T20:07:30.111990",
     "status": "completed"
    },
    "tags": []
   },
   "source": [
    "### From the plot, we can observe the following:\n",
    "- Neural Network achieves higher accuracy than the Logistic Regression model.\n",
    "- This apparently, is because of overfitting, i.e. NN captures more noise than data.\n",
    "- Testing accuracy of NN drops below the Training accuracy at higher epochs. This explains the over-fitting on training data.\n",
    "- Logistic Regression gives a reliable accuracy, without the above mentioned problem.\n"
   ]
  },
  {
   "cell_type": "markdown",
   "id": "institutional-pacific",
   "metadata": {
    "papermill": {
     "duration": 0.054432,
     "end_time": "2021-02-10T20:07:30.275945",
     "exception": false,
     "start_time": "2021-02-10T20:07:30.221513",
     "status": "completed"
    },
    "tags": []
   },
   "source": [
    "### Moving till the last but one layer (excluding it).\n",
    "#### Plotting the outputs of this layer of the NN."
   ]
  },
  {
   "cell_type": "code",
   "execution_count": 24,
   "id": "economic-server",
   "metadata": {
    "execution": {
     "iopub.execute_input": "2021-02-10T20:07:30.392924Z",
     "iopub.status.busy": "2021-02-10T20:07:30.392264Z",
     "iopub.status.idle": "2021-02-10T20:07:30.406110Z",
     "shell.execute_reply": "2021-02-10T20:07:30.406747Z"
    },
    "papermill": {
     "duration": 0.075174,
     "end_time": "2021-02-10T20:07:30.406909",
     "exception": false,
     "start_time": "2021-02-10T20:07:30.331735",
     "status": "completed"
    },
    "tags": []
   },
   "outputs": [],
   "source": [
    "model_new = Model(layers[:-2])"
   ]
  },
  {
   "cell_type": "code",
   "execution_count": 25,
   "id": "varied-upgrade",
   "metadata": {
    "execution": {
     "iopub.execute_input": "2021-02-10T20:07:30.526108Z",
     "iopub.status.busy": "2021-02-10T20:07:30.525463Z",
     "iopub.status.idle": "2021-02-10T20:07:30.549912Z",
     "shell.execute_reply": "2021-02-10T20:07:30.550705Z"
    },
    "papermill": {
     "duration": 0.087399,
     "end_time": "2021-02-10T20:07:30.550880",
     "exception": false,
     "start_time": "2021-02-10T20:07:30.463481",
     "status": "completed"
    },
    "tags": []
   },
   "outputs": [],
   "source": [
    "plot_testing = model_new(testing_xdata)"
   ]
  },
  {
   "cell_type": "code",
   "execution_count": 26,
   "id": "specific-handling",
   "metadata": {
    "execution": {
     "iopub.execute_input": "2021-02-10T20:07:30.674173Z",
     "iopub.status.busy": "2021-02-10T20:07:30.673465Z",
     "iopub.status.idle": "2021-02-10T20:07:30.918073Z",
     "shell.execute_reply": "2021-02-10T20:07:30.917500Z"
    },
    "papermill": {
     "duration": 0.313428,
     "end_time": "2021-02-10T20:07:30.918213",
     "exception": false,
     "start_time": "2021-02-10T20:07:30.604785",
     "status": "completed"
    },
    "tags": []
   },
   "outputs": [
    {
     "data": {
      "text/plain": [
       "Text(0.5, 1.0, 'Outputs')"
      ]
     },
     "execution_count": 26,
     "metadata": {},
     "output_type": "execute_result"
    },
    {
     "data": {
      "image/png": "[encoded data removed]",
      "text/plain": [
       "<Figure size 576x504 with 1 Axes>"
      ]
     },
     "metadata": {
      "needs_background": "light"
     },
     "output_type": "display_data"
    }
   ],
   "source": [
    "plt.figure(figsize=(8,7))\n",
    "plt.scatter(plot_testing[:,0], plot_testing[:,1], alpha = 0.1, c = y_test.ravel());\n",
    "plt.title('Outputs')"
   ]
  },
  {
   "cell_type": "markdown",
   "id": "described-knowing",
   "metadata": {
    "papermill": {
     "duration": 0.058828,
     "end_time": "2021-02-10T20:07:31.033926",
     "exception": false,
     "start_time": "2021-02-10T20:07:30.975098",
     "status": "completed"
    },
    "tags": []
   },
   "source": [
    "### Plotting probability contours"
   ]
  },
  {
   "cell_type": "code",
   "execution_count": 27,
   "id": "needed-growing",
   "metadata": {
    "execution": {
     "iopub.execute_input": "2021-02-10T20:07:31.160097Z",
     "iopub.status.busy": "2021-02-10T20:07:31.159413Z",
     "iopub.status.idle": "2021-02-10T20:07:31.168294Z",
     "shell.execute_reply": "2021-02-10T20:07:31.167737Z"
    },
    "papermill": {
     "duration": 0.078139,
     "end_time": "2021-02-10T20:07:31.168423",
     "exception": false,
     "start_time": "2021-02-10T20:07:31.090284",
     "status": "completed"
    },
    "tags": []
   },
   "outputs": [],
   "source": [
    "model_prob = Model(layers[-2:]) "
   ]
  },
  {
   "cell_type": "code",
   "execution_count": 28,
   "id": "introductory-enforcement",
   "metadata": {
    "execution": {
     "iopub.execute_input": "2021-02-10T20:07:31.313269Z",
     "iopub.status.busy": "2021-02-10T20:07:31.312611Z",
     "iopub.status.idle": "2021-02-10T20:07:31.327141Z",
     "shell.execute_reply": "2021-02-10T20:07:31.327685Z"
    },
    "papermill": {
     "duration": 0.103278,
     "end_time": "2021-02-10T20:07:31.327842",
     "exception": false,
     "start_time": "2021-02-10T20:07:31.224564",
     "status": "completed"
    },
    "tags": []
   },
   "outputs": [],
   "source": [
    "# Adjust the x and y ranges according to the above generated plot.\n",
    "x_range = np.linspace(-4, 1, 100) \n",
    "y_range = np.linspace(-6, 6, 100) \n",
    "x_grid, y_grid = np.meshgrid(x_range, y_range) # x_grid and y_grig are of size 100 X 100\n",
    "\n",
    "# converting x_grid and y_grid to continuous arrays\n",
    "x_grid_flat = np.ravel(x_grid)\n",
    "y_grid_flat = np.ravel(y_grid)\n",
    "\n",
    "# The last layer of the current model takes two columns as input. Hence transpose of np.vstack() is required.\n",
    "X = np.vstack((x_grid_flat, y_grid_flat)).T\n",
    "\n",
    "# x_grid and y_grid are of size 100 x 100\n",
    "probability_contour = model_prob(X).reshape(100,100) "
   ]
  },
  {
   "cell_type": "code",
   "execution_count": 29,
   "id": "understood-landing",
   "metadata": {
    "execution": {
     "iopub.execute_input": "2021-02-10T20:07:31.448226Z",
     "iopub.status.busy": "2021-02-10T20:07:31.447568Z",
     "iopub.status.idle": "2021-02-10T20:07:31.733188Z",
     "shell.execute_reply": "2021-02-10T20:07:31.732574Z"
    },
    "papermill": {
     "duration": 0.349425,
     "end_time": "2021-02-10T20:07:31.733333",
     "exception": false,
     "start_time": "2021-02-10T20:07:31.383908",
     "status": "completed"
    },
    "tags": []
   },
   "outputs": [
    {
     "data": {
      "image/png": "[encoded data removed]",
      "text/plain": [
       "<Figure size 720x648 with 1 Axes>"
      ]
     },
     "metadata": {
      "needs_background": "light"
     },
     "output_type": "display_data"
    }
   ],
   "source": [
    "plt.figure(figsize=(10,9))\n",
    "plt.scatter(plot_testing[:,0], plot_testing[:,1], alpha = 0.1, c = y_test.ravel())\n",
    "contours = plt.contour(x_grid,y_grid,probability_contour)\n",
    "plt.title('Probability Contours')\n",
    "plt.clabel(contours, inline = True );"
   ]
  }
 ],
 "metadata": {
  "kernelspec": {
   "display_name": "Python 3",
   "language": "python",
   "name": "python3"
  },
  "language_info": {
   "codemirror_mode": {
    "name": "ipython",
    "version": 3
   },
   "file_extension": ".py",
   "mimetype": "text/x-python",
   "name": "python",
   "nbconvert_exporter": "python",
   "pygments_lexer": "ipython3",
   "version": "3.6.12"
  },
  "papermill": {
   "duration": 158.431469,
   "end_time": "2021-02-10T20:07:33.148732",
   "environment_variables": {},
   "exception": null,
   "input_path": "2020-08-11-NeuralNetwork.ipynb",
   "output_path": "2020-08-11-NeuralNetwork.ipynb",
   "parameters": {},
   "start_time": "2021-02-10T20:04:54.717263",
   "version": "2.1.2"
  }
 },
 "nbformat": 4,
 "nbformat_minor": 5
}