{
 "cells": [
  {
   "cell_type": "markdown",
   "metadata": {
    "papermill": {
     "duration": 0.029468,
     "end_time": "2020-11-04T20:03:47.074562",
     "exception": false,
     "start_time": "2020-11-04T20:03:47.045094",
     "status": "completed"
    },
    "tags": []
   },
   "source": [
    "# \"A Basic Neural Network: Differentiate Hand-Written Digits\"\n",
    "\n",
    "- badges: true\n",
    "- author: Akshith Sriram"
   ]
  },
  {
   "cell_type": "markdown",
   "metadata": {
    "papermill": {
     "duration": 0.025388,
     "end_time": "2020-11-04T20:03:47.126180",
     "exception": false,
     "start_time": "2020-11-04T20:03:47.100792",
     "status": "completed"
    },
    "tags": []
   },
   "source": [
    "### Key Objectives:\n",
    "- Building a neural network that differentiates two hand-written digits 3 and 8.\n",
    "- Comparing the results of this Neural Network (NN) to that of a Logistic Regression (LR) model.\n",
    "\n",
    "### Requirements:\n",
    "- 'Kudzu' : A neural network library that was designed during our course by [Univ.AI](www.univ.ai). \n",
    "- MNIST Database\n",
    "\n",
    "If MNIST is not installed, use the command `!pip install mnist` given below.\n",
    "It can be run both from the command line and Jupyter Notebook."
   ]
  },
  {
   "cell_type": "code",
   "execution_count": 1,
   "metadata": {
    "execution": {
     "iopub.execute_input": "2020-11-04T20:03:47.182241Z",
     "iopub.status.busy": "2020-11-04T20:03:47.181623Z",
     "iopub.status.idle": "2020-11-04T20:03:48.616308Z",
     "shell.execute_reply": "2020-11-04T20:03:48.616995Z"
    },
    "papermill": {
     "duration": 1.465378,
     "end_time": "2020-11-04T20:03:48.617222",
     "exception": false,
     "start_time": "2020-11-04T20:03:47.151844",
     "status": "completed"
    },
    "tags": []
   },
   "outputs": [
    {
     "name": "stdout",
     "output_type": "stream",
     "text": [
      "Collecting mnist\r\n"
     ]
    },
    {
     "name": "stdout",
     "output_type": "stream",
     "text": [
      "  Downloading mnist-0.2.2-py2.py3-none-any.whl (3.5 kB)\r\n",
      "Requirement already satisfied: numpy in /opt/hostedtoolcache/Python/3.6.12/x64/lib/python3.6/site-packages (from mnist) (1.19.4)\r\n"
     ]
    },
    {
     "name": "stdout",
     "output_type": "stream",
     "text": [
      "Installing collected packages: mnist\r\n"
     ]
    },
    {
     "name": "stdout",
     "output_type": "stream",
     "text": [
      "Successfully installed mnist-0.2.2\r\n"
     ]
    }
   ],
   "source": [
    "!pip install mnist "
   ]
  },
  {
   "cell_type": "markdown",
   "metadata": {
    "papermill": {
     "duration": 0.027688,
     "end_time": "2020-11-04T20:03:48.673012",
     "exception": false,
     "start_time": "2020-11-04T20:03:48.645324",
     "status": "completed"
    },
    "tags": []
   },
   "source": [
    "#### Importing necessary libraries"
   ]
  },
  {
   "cell_type": "code",
   "execution_count": 2,
   "metadata": {
    "execution": {
     "iopub.execute_input": "2020-11-04T20:03:49.121492Z",
     "iopub.status.busy": "2020-11-04T20:03:49.116880Z",
     "iopub.status.idle": "2020-11-04T20:03:49.704227Z",
     "shell.execute_reply": "2020-11-04T20:03:49.703205Z"
    },
    "papermill": {
     "duration": 1.002471,
     "end_time": "2020-11-04T20:03:49.704386",
     "exception": false,
     "start_time": "2020-11-04T20:03:48.701915",
     "status": "completed"
    },
    "tags": []
   },
   "outputs": [],
   "source": [
    "%load_ext autoreload\n",
    "%autoreload 2\n",
    "\n",
    "%matplotlib inline\n",
    "import matplotlib.pyplot as plt\n",
    "\n",
    "import numpy as np\n",
    "import pandas as pd"
   ]
  },
  {
   "cell_type": "markdown",
   "metadata": {
    "papermill": {
     "duration": 0.026743,
     "end_time": "2020-11-04T20:03:49.758333",
     "exception": false,
     "start_time": "2020-11-04T20:03:49.731590",
     "status": "completed"
    },
    "tags": []
   },
   "source": [
    "### Preparing the Data"
   ]
  },
  {
   "cell_type": "code",
   "execution_count": 3,
   "metadata": {
    "execution": {
     "iopub.execute_input": "2020-11-04T20:03:49.816778Z",
     "iopub.status.busy": "2020-11-04T20:03:49.815565Z",
     "iopub.status.idle": "2020-11-04T20:03:49.829175Z",
     "shell.execute_reply": "2020-11-04T20:03:49.828501Z"
    },
    "papermill": {
     "duration": 0.043996,
     "end_time": "2020-11-04T20:03:49.829319",
     "exception": false,
     "start_time": "2020-11-04T20:03:49.785323",
     "status": "completed"
    },
    "tags": []
   },
   "outputs": [],
   "source": [
    "import mnist"
   ]
  },
  {
   "cell_type": "code",
   "execution_count": 4,
   "metadata": {
    "execution": {
     "iopub.execute_input": "2020-11-04T20:03:49.890555Z",
     "iopub.status.busy": "2020-11-04T20:03:49.889950Z",
     "iopub.status.idle": "2020-11-04T20:03:50.730706Z",
     "shell.execute_reply": "2020-11-04T20:03:50.730191Z"
    },
    "papermill": {
     "duration": 0.871992,
     "end_time": "2020-11-04T20:03:50.730851",
     "exception": false,
     "start_time": "2020-11-04T20:03:49.858859",
     "status": "completed"
    },
    "tags": []
   },
   "outputs": [],
   "source": [
    "train_images = mnist.train_images()\n",
    "train_labels = mnist.train_labels()"
   ]
  },
  {
   "cell_type": "code",
   "execution_count": 5,
   "metadata": {
    "execution": {
     "iopub.execute_input": "2020-11-04T20:03:50.788678Z",
     "iopub.status.busy": "2020-11-04T20:03:50.788088Z",
     "iopub.status.idle": "2020-11-04T20:03:50.803980Z",
     "shell.execute_reply": "2020-11-04T20:03:50.803391Z"
    },
    "papermill": {
     "duration": 0.046235,
     "end_time": "2020-11-04T20:03:50.804111",
     "exception": false,
     "start_time": "2020-11-04T20:03:50.757876",
     "status": "completed"
    },
    "tags": []
   },
   "outputs": [
    {
     "data": {
      "text/plain": [
       "((60000, 28, 28), (60000,))"
      ]
     },
     "execution_count": 5,
     "metadata": {},
     "output_type": "execute_result"
    }
   ],
   "source": [
    "train_images.shape, train_labels.shape"
   ]
  },
  {
   "cell_type": "code",
   "execution_count": 6,
   "metadata": {
    "execution": {
     "iopub.execute_input": "2020-11-04T20:03:50.864570Z",
     "iopub.status.busy": "2020-11-04T20:03:50.863975Z",
     "iopub.status.idle": "2020-11-04T20:03:51.114362Z",
     "shell.execute_reply": "2020-11-04T20:03:51.114855Z"
    },
    "papermill": {
     "duration": 0.281845,
     "end_time": "2020-11-04T20:03:51.115027",
     "exception": false,
     "start_time": "2020-11-04T20:03:50.833182",
     "status": "completed"
    },
    "tags": []
   },
   "outputs": [],
   "source": [
    "test_images = mnist.test_images()\n",
    "test_labels = mnist.test_labels()"
   ]
  },
  {
   "cell_type": "code",
   "execution_count": 7,
   "metadata": {
    "execution": {
     "iopub.execute_input": "2020-11-04T20:03:51.174342Z",
     "iopub.status.busy": "2020-11-04T20:03:51.173735Z",
     "iopub.status.idle": "2020-11-04T20:03:51.188117Z",
     "shell.execute_reply": "2020-11-04T20:03:51.187639Z"
    },
    "papermill": {
     "duration": 0.045744,
     "end_time": "2020-11-04T20:03:51.188254",
     "exception": false,
     "start_time": "2020-11-04T20:03:51.142510",
     "status": "completed"
    },
    "tags": []
   },
   "outputs": [
    {
     "data": {
      "text/plain": [
       "((10000, 28, 28), (10000,))"
      ]
     },
     "execution_count": 7,
     "metadata": {},
     "output_type": "execute_result"
    }
   ],
   "source": [
    "test_images.shape, test_labels.shape"
   ]
  },
  {
   "cell_type": "code",
   "execution_count": 8,
   "metadata": {
    "execution": {
     "iopub.execute_input": "2020-11-04T20:03:51.247245Z",
     "iopub.status.busy": "2020-11-04T20:03:51.246649Z",
     "iopub.status.idle": "2020-11-04T20:03:51.396895Z",
     "shell.execute_reply": "2020-11-04T20:03:51.396395Z"
    },
    "papermill": {
     "duration": 0.181165,
     "end_time": "2020-11-04T20:03:51.397036",
     "exception": false,
     "start_time": "2020-11-04T20:03:51.215871",
     "status": "completed"
    },
    "tags": []
   },
   "outputs": [
    {
     "name": "stdout",
     "output_type": "stream",
     "text": [
      "2\n"
     ]
    },
    {
     "data": {
      "text/plain": [
       "<matplotlib.image.AxesImage at 0x7f0d0af2b400>"
      ]
     },
     "execution_count": 8,
     "metadata": {},
     "output_type": "execute_result"
    },
    {
     "data": {
      "image/png": "[encoded data removed]",
      "text/plain": [
       "<Figure size 432x288 with 1 Axes>"
      ]
     },
     "metadata": {
      "needs_background": "light"
     },
     "output_type": "display_data"
    }
   ],
   "source": [
    "image_index = 7776 # You may select anything up to 60,000\n",
    "print(train_labels[image_index]) \n",
    "plt.imshow(train_images[image_index], cmap='Greys')"
   ]
  },
  {
   "cell_type": "markdown",
   "metadata": {
    "papermill": {
     "duration": 0.028717,
     "end_time": "2020-11-04T20:03:51.454940",
     "exception": false,
     "start_time": "2020-11-04T20:03:51.426223",
     "status": "completed"
    },
    "tags": []
   },
   "source": [
    "## Filter data to get 3 and 8 out"
   ]
  },
  {
   "cell_type": "code",
   "execution_count": 9,
   "metadata": {
    "execution": {
     "iopub.execute_input": "2020-11-04T20:03:51.522341Z",
     "iopub.status.busy": "2020-11-04T20:03:51.516066Z",
     "iopub.status.idle": "2020-11-04T20:03:51.532634Z",
     "shell.execute_reply": "2020-11-04T20:03:51.532135Z"
    },
    "papermill": {
     "duration": 0.049347,
     "end_time": "2020-11-04T20:03:51.532777",
     "exception": false,
     "start_time": "2020-11-04T20:03:51.483430",
     "status": "completed"
    },
    "tags": []
   },
   "outputs": [],
   "source": [
    "train_filter = np.where((train_labels == 3 ) | (train_labels == 8))\n",
    "test_filter = np.where((test_labels == 3) | (test_labels == 8))\n",
    "X_train, y_train = train_images[train_filter], train_labels[train_filter]\n",
    "X_test, y_test = test_images[test_filter], test_labels[test_filter]"
   ]
  },
  {
   "cell_type": "markdown",
   "metadata": {
    "papermill": {
     "duration": 0.032124,
     "end_time": "2020-11-04T20:03:51.594218",
     "exception": false,
     "start_time": "2020-11-04T20:03:51.562094",
     "status": "completed"
    },
    "tags": []
   },
   "source": [
    "We normalize the pixel values in the 0 to 1 range"
   ]
  },
  {
   "cell_type": "code",
   "execution_count": 10,
   "metadata": {
    "execution": {
     "iopub.execute_input": "2020-11-04T20:03:51.655706Z",
     "iopub.status.busy": "2020-11-04T20:03:51.655089Z",
     "iopub.status.idle": "2020-11-04T20:03:51.707300Z",
     "shell.execute_reply": "2020-11-04T20:03:51.706640Z"
    },
    "papermill": {
     "duration": 0.08457,
     "end_time": "2020-11-04T20:03:51.707442",
     "exception": false,
     "start_time": "2020-11-04T20:03:51.622872",
     "status": "completed"
    },
    "tags": []
   },
   "outputs": [],
   "source": [
    "X_train = X_train/255.\n",
    "X_test = X_test/255."
   ]
  },
  {
   "cell_type": "markdown",
   "metadata": {
    "papermill": {
     "duration": 0.028598,
     "end_time": "2020-11-04T20:03:51.765073",
     "exception": false,
     "start_time": "2020-11-04T20:03:51.736475",
     "status": "completed"
    },
    "tags": []
   },
   "source": [
    "Setup the labels as 1 (when the digit is 3) and 0 (when the digit is 8)"
   ]
  },
  {
   "cell_type": "code",
   "execution_count": 11,
   "metadata": {
    "execution": {
     "iopub.execute_input": "2020-11-04T20:03:51.827242Z",
     "iopub.status.busy": "2020-11-04T20:03:51.826325Z",
     "iopub.status.idle": "2020-11-04T20:03:51.839668Z",
     "shell.execute_reply": "2020-11-04T20:03:51.838928Z"
    },
    "papermill": {
     "duration": 0.046044,
     "end_time": "2020-11-04T20:03:51.839817",
     "exception": false,
     "start_time": "2020-11-04T20:03:51.793773",
     "status": "completed"
    },
    "tags": []
   },
   "outputs": [],
   "source": [
    "y_train = 1*(y_train==3)\n",
    "y_test = 1*(y_test==3)"
   ]
  },
  {
   "cell_type": "code",
   "execution_count": 12,
   "metadata": {
    "execution": {
     "iopub.execute_input": "2020-11-04T20:03:51.907586Z",
     "iopub.status.busy": "2020-11-04T20:03:51.906993Z",
     "iopub.status.idle": "2020-11-04T20:03:51.921216Z",
     "shell.execute_reply": "2020-11-04T20:03:51.920714Z"
    },
    "papermill": {
     "duration": 0.047672,
     "end_time": "2020-11-04T20:03:51.921345",
     "exception": false,
     "start_time": "2020-11-04T20:03:51.873673",
     "status": "completed"
    },
    "tags": []
   },
   "outputs": [
    {
     "data": {
      "text/plain": [
       "((11982, 28, 28), (1984, 28, 28))"
      ]
     },
     "execution_count": 12,
     "metadata": {},
     "output_type": "execute_result"
    }
   ],
   "source": [
    "X_train.shape, X_test.shape"
   ]
  },
  {
   "cell_type": "markdown",
   "metadata": {
    "papermill": {
     "duration": 0.028891,
     "end_time": "2020-11-04T20:03:51.979245",
     "exception": false,
     "start_time": "2020-11-04T20:03:51.950354",
     "status": "completed"
    },
    "tags": []
   },
   "source": [
    "### Reshape the input data to create a linear array"
   ]
  },
  {
   "cell_type": "code",
   "execution_count": 13,
   "metadata": {
    "execution": {
     "iopub.execute_input": "2020-11-04T20:03:52.044388Z",
     "iopub.status.busy": "2020-11-04T20:03:52.043788Z",
     "iopub.status.idle": "2020-11-04T20:03:52.055832Z",
     "shell.execute_reply": "2020-11-04T20:03:52.056311Z"
    },
    "papermill": {
     "duration": 0.048355,
     "end_time": "2020-11-04T20:03:52.056454",
     "exception": false,
     "start_time": "2020-11-04T20:03:52.008099",
     "status": "completed"
    },
    "tags": []
   },
   "outputs": [
    {
     "data": {
      "text/plain": [
       "((11982, 784), (1984, 784))"
      ]
     },
     "execution_count": 13,
     "metadata": {},
     "output_type": "execute_result"
    }
   ],
   "source": [
    "X_train = X_train.reshape(X_train.shape[0], -1)\n",
    "X_test = X_test.reshape(X_test.shape[0], -1)\n",
    "X_train.shape, X_test.shape"
   ]
  },
  {
   "cell_type": "markdown",
   "metadata": {
    "papermill": {
     "duration": 0.029043,
     "end_time": "2020-11-04T20:03:52.114486",
     "exception": false,
     "start_time": "2020-11-04T20:03:52.085443",
     "status": "completed"
    },
    "tags": []
   },
   "source": [
    "### Importing appropriate functions from 'Kudzu'"
   ]
  },
  {
   "cell_type": "code",
   "execution_count": 14,
   "metadata": {
    "execution": {
     "iopub.execute_input": "2020-11-04T20:03:52.177571Z",
     "iopub.status.busy": "2020-11-04T20:03:52.176955Z",
     "iopub.status.idle": "2020-11-04T20:03:52.197320Z",
     "shell.execute_reply": "2020-11-04T20:03:52.196792Z"
    },
    "papermill": {
     "duration": 0.053624,
     "end_time": "2020-11-04T20:03:52.197454",
     "exception": false,
     "start_time": "2020-11-04T20:03:52.143830",
     "status": "completed"
    },
    "tags": []
   },
   "outputs": [],
   "source": [
    "from kudzu.layer import Sigmoid\n",
    "from kudzu.layer import Relu\n",
    "from kudzu.layer import Affine, Sigmoid\n",
    "\n",
    "from kudzu.model import Model\n",
    "from kudzu.train import Learner\n",
    "from kudzu.optim import GD\n",
    "from kudzu.data import Data, Dataloader, Sampler\n",
    "\n",
    "from kudzu.callbacks import AccCallback\n",
    "from kudzu.callbacks import ClfCallback\n",
    "\n",
    "from kudzu.loss import MSE"
   ]
  },
  {
   "cell_type": "markdown",
   "metadata": {
    "papermill": {
     "duration": 0.029108,
     "end_time": "2020-11-04T20:03:52.255901",
     "exception": false,
     "start_time": "2020-11-04T20:03:52.226793",
     "status": "completed"
    },
    "tags": []
   },
   "source": [
    "### Let us create a `Config` class, to store important parameters. \n",
    "This class essentially plays the role of a dictionary."
   ]
  },
  {
   "cell_type": "code",
   "execution_count": 15,
   "metadata": {
    "execution": {
     "iopub.execute_input": "2020-11-04T20:03:52.320364Z",
     "iopub.status.busy": "2020-11-04T20:03:52.319769Z",
     "iopub.status.idle": "2020-11-04T20:03:52.331371Z",
     "shell.execute_reply": "2020-11-04T20:03:52.331848Z"
    },
    "papermill": {
     "duration": 0.046369,
     "end_time": "2020-11-04T20:03:52.331999",
     "exception": false,
     "start_time": "2020-11-04T20:03:52.285630",
     "status": "completed"
    },
    "tags": []
   },
   "outputs": [],
   "source": [
    "class Config:\n",
    "    pass\n",
    "config = Config()\n",
    "config.lr = 0.001\n",
    "config.num_epochs = 251\n",
    "config.bs = 50"
   ]
  },
  {
   "cell_type": "markdown",
   "metadata": {
    "papermill": {
     "duration": 0.029252,
     "end_time": "2020-11-04T20:03:52.390525",
     "exception": false,
     "start_time": "2020-11-04T20:03:52.361273",
     "status": "completed"
    },
    "tags": []
   },
   "source": [
    "### Initializing data to the variables"
   ]
  },
  {
   "cell_type": "code",
   "execution_count": 16,
   "metadata": {
    "execution": {
     "iopub.execute_input": "2020-11-04T20:03:52.454292Z",
     "iopub.status.busy": "2020-11-04T20:03:52.453657Z",
     "iopub.status.idle": "2020-11-04T20:03:52.469755Z",
     "shell.execute_reply": "2020-11-04T20:03:52.469039Z"
    },
    "papermill": {
     "duration": 0.050781,
     "end_time": "2020-11-04T20:03:52.470780",
     "exception": false,
     "start_time": "2020-11-04T20:03:52.419999",
     "status": "completed"
    },
    "tags": []
   },
   "outputs": [],
   "source": [
    "data = Data(X_train, y_train.reshape(-1,1))\n",
    "sampler = Sampler(data, config.bs, shuffle=True)\n",
    "\n",
    "dl = Dataloader(data, sampler)\n",
    "\n",
    "opt = GD(config.lr)\n",
    "loss = MSE()"
   ]
  },
  {
   "cell_type": "code",
   "execution_count": 17,
   "metadata": {
    "execution": {
     "iopub.execute_input": "2020-11-04T20:03:52.537006Z",
     "iopub.status.busy": "2020-11-04T20:03:52.536397Z",
     "iopub.status.idle": "2020-11-04T20:03:52.549345Z",
     "shell.execute_reply": "2020-11-04T20:03:52.549880Z"
    },
    "papermill": {
     "duration": 0.048617,
     "end_time": "2020-11-04T20:03:52.550044",
     "exception": false,
     "start_time": "2020-11-04T20:03:52.501427",
     "status": "completed"
    },
    "tags": []
   },
   "outputs": [],
   "source": [
    "training_xdata = X_train\n",
    "testing_xdata = X_test\n",
    "training_ydata = y_train.reshape(-1,1)\n",
    "testing_ydata = y_test.reshape(-1,1)"
   ]
  },
  {
   "cell_type": "markdown",
   "metadata": {
    "papermill": {
     "duration": 0.029103,
     "end_time": "2020-11-04T20:03:52.608583",
     "exception": false,
     "start_time": "2020-11-04T20:03:52.579480",
     "status": "completed"
    },
    "tags": []
   },
   "source": [
    "### Running Models with the Training data\n",
    "Details about the network layers:\n",
    "- A first affine layer has 784 inputs and does 100 affine transforms. These are followed by a Relu\n",
    "- A second affine layer has 100 inputs from the 100 activations of the past layer, and does 100 affine transforms. These are followed by a Relu\n",
    "- A third affine layer has 100 activations and does 2 affine transformations to create an embedding for visualization. There is no non-linearity here.\n",
    "- A final \"logistic regression\" which has an affine transform from 2 inputs to 1 output, which is squeezed through a sigmoid.\n",
    "\n",
    "Help taken from Anshuman's Notebook."
   ]
  },
  {
   "cell_type": "code",
   "execution_count": 18,
   "metadata": {
    "execution": {
     "iopub.execute_input": "2020-11-04T20:03:52.673128Z",
     "iopub.status.busy": "2020-11-04T20:03:52.672531Z",
     "iopub.status.idle": "2020-11-04T20:03:52.689644Z",
     "shell.execute_reply": "2020-11-04T20:03:52.690100Z"
    },
    "papermill": {
     "duration": 0.052531,
     "end_time": "2020-11-04T20:03:52.690256",
     "exception": false,
     "start_time": "2020-11-04T20:03:52.637725",
     "status": "completed"
    },
    "tags": []
   },
   "outputs": [],
   "source": [
    "# layers for the Neural Network\n",
    "layers = [Affine(\"first\", 784, 100), Relu(\"first\"), Affine(\"second\", 100, 100), Relu(\"second\"), Affine(\"third\", 100, 2), Affine(\"final\", 2, 1), Sigmoid(\"final\")]\n",
    "model_nn = Model(layers)\n",
    "\n",
    "# layers for the Logistic Regression\n",
    "layers_lr = [Affine(\"logits\", 784, 1), Sigmoid(\"sigmoid\")]\n",
    "model_lr = Model(layers_lr)"
   ]
  },
  {
   "cell_type": "code",
   "execution_count": 19,
   "metadata": {
    "execution": {
     "iopub.execute_input": "2020-11-04T20:03:52.753450Z",
     "iopub.status.busy": "2020-11-04T20:03:52.752855Z",
     "iopub.status.idle": "2020-11-04T20:03:52.767498Z",
     "shell.execute_reply": "2020-11-04T20:03:52.767014Z"
    },
    "papermill": {
     "duration": 0.048163,
     "end_time": "2020-11-04T20:03:52.767635",
     "exception": false,
     "start_time": "2020-11-04T20:03:52.719472",
     "status": "completed"
    },
    "tags": []
   },
   "outputs": [],
   "source": [
    "# suffix _nn stands for Neural Network.\n",
    "learner_nn = Learner(loss, model_nn, opt, config.num_epochs)\n",
    "acc_nn = ClfCallback(learner_nn, config.bs, training_xdata , testing_xdata, training_ydata, testing_ydata)\n",
    "learner_nn.set_callbacks([acc_nn])"
   ]
  },
  {
   "cell_type": "code",
   "execution_count": 20,
   "metadata": {
    "execution": {
     "iopub.execute_input": "2020-11-04T20:03:52.833039Z",
     "iopub.status.busy": "2020-11-04T20:03:52.832448Z",
     "iopub.status.idle": "2020-11-04T20:05:25.868480Z",
     "shell.execute_reply": "2020-11-04T20:05:25.869300Z"
    },
    "papermill": {
     "duration": 93.071087,
     "end_time": "2020-11-04T20:05:25.869469",
     "exception": false,
     "start_time": "2020-11-04T20:03:52.798382",
     "status": "completed"
    },
    "tags": []
   },
   "outputs": [
    {
     "name": "stdout",
     "output_type": "stream",
     "text": [
      "====== Neural Network ======\n"
     ]
    },
    {
     "name": "stdout",
     "output_type": "stream",
     "text": [
      "Epoch 0, Loss 0.2301\n",
      "Training Accuracy: 0.7873, Testing Accuracy: 0.7853\n",
      "\n"
     ]
    },
    {
     "name": "stdout",
     "output_type": "stream",
     "text": [
      "Epoch 10, Loss 0.06\n",
      "Training Accuracy: 0.9385, Testing Accuracy: 0.9516\n",
      "\n"
     ]
    },
    {
     "name": "stdout",
     "output_type": "stream",
     "text": [
      "Epoch 20, Loss 0.0431\n",
      "Training Accuracy: 0.9525, Testing Accuracy: 0.9602\n",
      "\n"
     ]
    },
    {
     "name": "stdout",
     "output_type": "stream",
     "text": [
      "Epoch 30, Loss 0.0362\n",
      "Training Accuracy: 0.9594, Testing Accuracy: 0.9667\n",
      "\n"
     ]
    },
    {
     "name": "stdout",
     "output_type": "stream",
     "text": [
      "Epoch 40, Loss 0.0323\n",
      "Training Accuracy: 0.9629, Testing Accuracy: 0.9698\n",
      "\n"
     ]
    },
    {
     "name": "stdout",
     "output_type": "stream",
     "text": [
      "Epoch 50, Loss 0.0296\n",
      "Training Accuracy: 0.9664, Testing Accuracy: 0.9723\n",
      "\n"
     ]
    },
    {
     "name": "stdout",
     "output_type": "stream",
     "text": [
      "Epoch 60, Loss 0.0277\n",
      "Training Accuracy: 0.9692, Testing Accuracy: 0.9723\n",
      "\n"
     ]
    },
    {
     "name": "stdout",
     "output_type": "stream",
     "text": [
      "Epoch 70, Loss 0.0261\n",
      "Training Accuracy: 0.9701, Testing Accuracy: 0.9708\n",
      "\n"
     ]
    },
    {
     "name": "stdout",
     "output_type": "stream",
     "text": [
      "Epoch 80, Loss 0.0249\n",
      "Training Accuracy: 0.9717, Testing Accuracy: 0.9718\n",
      "\n"
     ]
    },
    {
     "name": "stdout",
     "output_type": "stream",
     "text": [
      "Epoch 90, Loss 0.0238\n",
      "Training Accuracy: 0.9728, Testing Accuracy: 0.9718\n",
      "\n"
     ]
    },
    {
     "name": "stdout",
     "output_type": "stream",
     "text": [
      "Epoch 100, Loss 0.0229\n",
      "Training Accuracy: 0.9737, Testing Accuracy: 0.9718\n",
      "\n"
     ]
    },
    {
     "name": "stdout",
     "output_type": "stream",
     "text": [
      "Epoch 110, Loss 0.0221\n",
      "Training Accuracy: 0.9750, Testing Accuracy: 0.9728\n",
      "\n"
     ]
    },
    {
     "name": "stdout",
     "output_type": "stream",
     "text": [
      "Epoch 120, Loss 0.0213\n",
      "Training Accuracy: 0.9763, Testing Accuracy: 0.9728\n",
      "\n"
     ]
    },
    {
     "name": "stdout",
     "output_type": "stream",
     "text": [
      "Epoch 130, Loss 0.0206\n",
      "Training Accuracy: 0.9770, Testing Accuracy: 0.9723\n",
      "\n"
     ]
    },
    {
     "name": "stdout",
     "output_type": "stream",
     "text": [
      "Epoch 140, Loss 0.02\n",
      "Training Accuracy: 0.9778, Testing Accuracy: 0.9723\n",
      "\n"
     ]
    },
    {
     "name": "stdout",
     "output_type": "stream",
     "text": [
      "Epoch 150, Loss 0.0194\n",
      "Training Accuracy: 0.9780, Testing Accuracy: 0.9728\n",
      "\n"
     ]
    },
    {
     "name": "stdout",
     "output_type": "stream",
     "text": [
      "Epoch 160, Loss 0.0188\n",
      "Training Accuracy: 0.9789, Testing Accuracy: 0.9733\n",
      "\n"
     ]
    },
    {
     "name": "stdout",
     "output_type": "stream",
     "text": [
      "Epoch 170, Loss 0.0183\n",
      "Training Accuracy: 0.9798, Testing Accuracy: 0.9743\n",
      "\n"
     ]
    },
    {
     "name": "stdout",
     "output_type": "stream",
     "text": [
      "Epoch 180, Loss 0.0178\n",
      "Training Accuracy: 0.9802, Testing Accuracy: 0.9738\n",
      "\n"
     ]
    },
    {
     "name": "stdout",
     "output_type": "stream",
     "text": [
      "Epoch 190, Loss 0.0173\n",
      "Training Accuracy: 0.9806, Testing Accuracy: 0.9748\n",
      "\n"
     ]
    },
    {
     "name": "stdout",
     "output_type": "stream",
     "text": [
      "Epoch 200, Loss 0.0169\n",
      "Training Accuracy: 0.9816, Testing Accuracy: 0.9748\n",
      "\n"
     ]
    },
    {
     "name": "stdout",
     "output_type": "stream",
     "text": [
      "Epoch 210, Loss 0.0165\n",
      "Training Accuracy: 0.9818, Testing Accuracy: 0.9763\n",
      "\n"
     ]
    },
    {
     "name": "stdout",
     "output_type": "stream",
     "text": [
      "Epoch 220, Loss 0.0161\n",
      "Training Accuracy: 0.9821, Testing Accuracy: 0.9758\n",
      "\n"
     ]
    },
    {
     "name": "stdout",
     "output_type": "stream",
     "text": [
      "Epoch 230, Loss 0.0157\n",
      "Training Accuracy: 0.9826, Testing Accuracy: 0.9758\n",
      "\n"
     ]
    },
    {
     "name": "stdout",
     "output_type": "stream",
     "text": [
      "Epoch 240, Loss 0.0153\n",
      "Training Accuracy: 0.9831, Testing Accuracy: 0.9753\n",
      "\n"
     ]
    },
    {
     "name": "stdout",
     "output_type": "stream",
     "text": [
      "Epoch 250, Loss 0.015\n",
      "Training Accuracy: 0.9836, Testing Accuracy: 0.9753\n",
      "\n"
     ]
    },
    {
     "data": {
      "text/plain": [
       "0.012524929909128072"
      ]
     },
     "execution_count": 20,
     "metadata": {},
     "output_type": "execute_result"
    }
   ],
   "source": [
    "print(\"====== Neural Network ======\")\n",
    "learner_nn.train_loop(dl)"
   ]
  },
  {
   "cell_type": "markdown",
   "metadata": {
    "papermill": {
     "duration": 0.037272,
     "end_time": "2020-11-04T20:05:25.944888",
     "exception": false,
     "start_time": "2020-11-04T20:05:25.907616",
     "status": "completed"
    },
    "tags": []
   },
   "source": [
    "### Logistic Regression based Implementation."
   ]
  },
  {
   "cell_type": "code",
   "execution_count": 21,
   "metadata": {
    "execution": {
     "iopub.execute_input": "2020-11-04T20:05:26.027570Z",
     "iopub.status.busy": "2020-11-04T20:05:26.025088Z",
     "iopub.status.idle": "2020-11-04T20:05:26.038536Z",
     "shell.execute_reply": "2020-11-04T20:05:26.038007Z"
    },
    "papermill": {
     "duration": 0.056603,
     "end_time": "2020-11-04T20:05:26.038673",
     "exception": false,
     "start_time": "2020-11-04T20:05:25.982070",
     "status": "completed"
    },
    "tags": []
   },
   "outputs": [],
   "source": [
    "learner_lr = Learner(loss, model_lr, opt, config.num_epochs)\n",
    "acc_lr = ClfCallback(learner_lr, config.bs, training_xdata , testing_xdata, training_ydata, testing_ydata)\n",
    "learner_lr.set_callbacks([acc_lr])"
   ]
  },
  {
   "cell_type": "code",
   "execution_count": 22,
   "metadata": {
    "execution": {
     "iopub.execute_input": "2020-11-04T20:05:26.126478Z",
     "iopub.status.busy": "2020-11-04T20:05:26.122876Z",
     "iopub.status.idle": "2020-11-04T20:05:42.968771Z",
     "shell.execute_reply": "2020-11-04T20:05:42.969643Z"
    },
    "papermill": {
     "duration": 16.893338,
     "end_time": "2020-11-04T20:05:42.969813",
     "exception": false,
     "start_time": "2020-11-04T20:05:26.076475",
     "status": "completed"
    },
    "tags": []
   },
   "outputs": [
    {
     "name": "stdout",
     "output_type": "stream",
     "text": [
      "====== Logistic Regression ======\n",
      "Epoch 0, Loss 0.2178\n",
      "Training Accuracy: 0.7883, Testing Accuracy: 0.7989\n",
      "\n"
     ]
    },
    {
     "name": "stdout",
     "output_type": "stream",
     "text": [
      "Epoch 10, Loss 0.0998\n",
      "Training Accuracy: 0.9130, Testing Accuracy: 0.9269\n",
      "\n"
     ]
    },
    {
     "name": "stdout",
     "output_type": "stream",
     "text": [
      "Epoch 20, Loss 0.0782\n",
      "Training Accuracy: 0.9269, Testing Accuracy: 0.9435\n",
      "\n"
     ]
    },
    {
     "name": "stdout",
     "output_type": "stream",
     "text": [
      "Epoch 30, Loss 0.0679\n",
      "Training Accuracy: 0.9348, Testing Accuracy: 0.9496\n",
      "\n"
     ]
    },
    {
     "name": "stdout",
     "output_type": "stream",
     "text": [
      "Epoch 40, Loss 0.0616\n",
      "Training Accuracy: 0.9396, Testing Accuracy: 0.9511\n",
      "\n"
     ]
    },
    {
     "name": "stdout",
     "output_type": "stream",
     "text": [
      "Epoch 50, Loss 0.0572\n",
      "Training Accuracy: 0.9436, Testing Accuracy: 0.9546\n",
      "\n"
     ]
    },
    {
     "name": "stdout",
     "output_type": "stream",
     "text": [
      "Epoch 60, Loss 0.054\n",
      "Training Accuracy: 0.9460, Testing Accuracy: 0.9577\n",
      "\n"
     ]
    },
    {
     "name": "stdout",
     "output_type": "stream",
     "text": [
      "Epoch 70, Loss 0.0515\n",
      "Training Accuracy: 0.9485, Testing Accuracy: 0.9582\n",
      "\n"
     ]
    },
    {
     "name": "stdout",
     "output_type": "stream",
     "text": [
      "Epoch 80, Loss 0.0494\n",
      "Training Accuracy: 0.9498, Testing Accuracy: 0.9597\n",
      "\n"
     ]
    },
    {
     "name": "stdout",
     "output_type": "stream",
     "text": [
      "Epoch 90, Loss 0.0478\n",
      "Training Accuracy: 0.9510, Testing Accuracy: 0.9602\n",
      "\n"
     ]
    },
    {
     "name": "stdout",
     "output_type": "stream",
     "text": [
      "Epoch 100, Loss 0.0463\n",
      "Training Accuracy: 0.9518, Testing Accuracy: 0.9612\n",
      "\n"
     ]
    },
    {
     "name": "stdout",
     "output_type": "stream",
     "text": [
      "Epoch 110, Loss 0.0451\n",
      "Training Accuracy: 0.9529, Testing Accuracy: 0.9602\n",
      "\n"
     ]
    },
    {
     "name": "stdout",
     "output_type": "stream",
     "text": [
      "Epoch 120, Loss 0.0441\n",
      "Training Accuracy: 0.9537, Testing Accuracy: 0.9617\n",
      "\n"
     ]
    },
    {
     "name": "stdout",
     "output_type": "stream",
     "text": [
      "Epoch 130, Loss 0.0431\n",
      "Training Accuracy: 0.9544, Testing Accuracy: 0.9632\n",
      "\n"
     ]
    },
    {
     "name": "stdout",
     "output_type": "stream",
     "text": [
      "Epoch 140, Loss 0.0423\n",
      "Training Accuracy: 0.9546, Testing Accuracy: 0.9642\n",
      "\n"
     ]
    },
    {
     "name": "stdout",
     "output_type": "stream",
     "text": [
      "Epoch 150, Loss 0.0415\n",
      "Training Accuracy: 0.9551, Testing Accuracy: 0.9637\n",
      "\n"
     ]
    },
    {
     "name": "stdout",
     "output_type": "stream",
     "text": [
      "Epoch 160, Loss 0.0409\n",
      "Training Accuracy: 0.9558, Testing Accuracy: 0.9642\n",
      "\n"
     ]
    },
    {
     "name": "stdout",
     "output_type": "stream",
     "text": [
      "Epoch 170, Loss 0.0402\n",
      "Training Accuracy: 0.9562, Testing Accuracy: 0.9642\n",
      "\n"
     ]
    },
    {
     "name": "stdout",
     "output_type": "stream",
     "text": [
      "Epoch 180, Loss 0.0397\n",
      "Training Accuracy: 0.9569, Testing Accuracy: 0.9642\n",
      "\n"
     ]
    },
    {
     "name": "stdout",
     "output_type": "stream",
     "text": [
      "Epoch 190, Loss 0.0391\n",
      "Training Accuracy: 0.9571, Testing Accuracy: 0.9647\n",
      "\n"
     ]
    },
    {
     "name": "stdout",
     "output_type": "stream",
     "text": [
      "Epoch 200, Loss 0.0387\n",
      "Training Accuracy: 0.9579, Testing Accuracy: 0.9657\n",
      "\n"
     ]
    },
    {
     "name": "stdout",
     "output_type": "stream",
     "text": [
      "Epoch 210, Loss 0.0382\n",
      "Training Accuracy: 0.9586, Testing Accuracy: 0.9657\n",
      "\n"
     ]
    },
    {
     "name": "stdout",
     "output_type": "stream",
     "text": [
      "Epoch 220, Loss 0.0378\n",
      "Training Accuracy: 0.9588, Testing Accuracy: 0.9667\n",
      "\n"
     ]
    },
    {
     "name": "stdout",
     "output_type": "stream",
     "text": [
      "Epoch 230, Loss 0.0374\n",
      "Training Accuracy: 0.9594, Testing Accuracy: 0.9667\n",
      "\n"
     ]
    },
    {
     "name": "stdout",
     "output_type": "stream",
     "text": [
      "Epoch 240, Loss 0.037\n",
      "Training Accuracy: 0.9598, Testing Accuracy: 0.9672\n",
      "\n"
     ]
    },
    {
     "name": "stdout",
     "output_type": "stream",
     "text": [
      "Epoch 250, Loss 0.0367\n",
      "Training Accuracy: 0.9600, Testing Accuracy: 0.9672\n",
      "\n"
     ]
    },
    {
     "data": {
      "text/plain": [
       "0.038875100966265064"
      ]
     },
     "execution_count": 22,
     "metadata": {},
     "output_type": "execute_result"
    }
   ],
   "source": [
    "print(\"====== Logistic Regression ======\")\n",
    "learner_lr.train_loop(dl)"
   ]
  },
  {
   "cell_type": "markdown",
   "metadata": {
    "papermill": {
     "duration": 0.045126,
     "end_time": "2020-11-04T20:05:43.061258",
     "exception": false,
     "start_time": "2020-11-04T20:05:43.016132",
     "status": "completed"
    },
    "tags": []
   },
   "source": [
    "### Comparing results of NN and LR"
   ]
  },
  {
   "cell_type": "code",
   "execution_count": 23,
   "metadata": {
    "execution": {
     "iopub.execute_input": "2020-11-04T20:05:43.157232Z",
     "iopub.status.busy": "2020-11-04T20:05:43.156610Z",
     "iopub.status.idle": "2020-11-04T20:05:43.399985Z",
     "shell.execute_reply": "2020-11-04T20:05:43.399474Z"
    },
    "papermill": {
     "duration": 0.293447,
     "end_time": "2020-11-04T20:05:43.400128",
     "exception": false,
     "start_time": "2020-11-04T20:05:43.106681",
     "status": "completed"
    },
    "tags": []
   },
   "outputs": [
    {
     "data": {
      "text/plain": [
       "<matplotlib.legend.Legend at 0x7f0d0370a0b8>"
      ]
     },
     "execution_count": 23,
     "metadata": {},
     "output_type": "execute_result"
    },
    {
     "data": {
      "image/png": "[encoded data removed]",
      "text/plain": [
       "<Figure size 1080x720 with 1 Axes>"
      ]
     },
     "metadata": {
      "needs_background": "light"
     },
     "output_type": "display_data"
    }
   ],
   "source": [
    "plt.figure(figsize=(15,10))\n",
    "\n",
    "# Neural Network plots\n",
    "plt.plot(acc_nn.accuracies, 'r-', label = \"Training Accuracies - NN\")\n",
    "plt.plot(acc_nn.test_accuracies, 'g-', label = \"Testing Accuracies - NN\")\n",
    "\n",
    "# Logistic Regression plots\n",
    "plt.plot(acc_lr.accuracies, 'k-', label = \"Training Accuracies - LR\")\n",
    "plt.plot(acc_lr.test_accuracies, 'b-', label = \"Testing Accuracies - LR\")\n",
    "\n",
    "plt.ylim(0.8, 1)\n",
    "\n",
    "plt.legend()\n",
    "\n"
   ]
  },
  {
   "cell_type": "markdown",
   "metadata": {
    "papermill": {
     "duration": 0.049681,
     "end_time": "2020-11-04T20:05:43.499407",
     "exception": false,
     "start_time": "2020-11-04T20:05:43.449726",
     "status": "completed"
    },
    "tags": []
   },
   "source": [
    "### From the plot, we can observe the following:\n",
    "- Neural Network achieves higher accuracy than the Logistic Regression model.\n",
    "- This apparently, is because of overfitting, i.e. NN captures more noise than data.\n",
    "- Testing accuracy of NN drops below the Training accuracy at higher epochs. This explains the over-fitting on training data.\n",
    "- Logistic Regression gives a reliable accuracy, without the above mentioned problem.\n"
   ]
  },
  {
   "cell_type": "markdown",
   "metadata": {
    "papermill": {
     "duration": 0.047962,
     "end_time": "2020-11-04T20:05:43.596678",
     "exception": false,
     "start_time": "2020-11-04T20:05:43.548716",
     "status": "completed"
    },
    "tags": []
   },
   "source": [
    "### Moving till the last but one layer (excluding it).\n",
    "#### Plotting the outputs of this layer of the NN."
   ]
  },
  {
   "cell_type": "code",
   "execution_count": 24,
   "metadata": {
    "execution": {
     "iopub.execute_input": "2020-11-04T20:05:43.698530Z",
     "iopub.status.busy": "2020-11-04T20:05:43.697900Z",
     "iopub.status.idle": "2020-11-04T20:05:43.710499Z",
     "shell.execute_reply": "2020-11-04T20:05:43.710020Z"
    },
    "papermill": {
     "duration": 0.06578,
     "end_time": "2020-11-04T20:05:43.710631",
     "exception": false,
     "start_time": "2020-11-04T20:05:43.644851",
     "status": "completed"
    },
    "tags": []
   },
   "outputs": [],
   "source": [
    "model_new = Model(layers[:-2])"
   ]
  },
  {
   "cell_type": "code",
   "execution_count": 25,
   "metadata": {
    "execution": {
     "iopub.execute_input": "2020-11-04T20:05:43.815268Z",
     "iopub.status.busy": "2020-11-04T20:05:43.812427Z",
     "iopub.status.idle": "2020-11-04T20:05:43.832366Z",
     "shell.execute_reply": "2020-11-04T20:05:43.832858Z"
    },
    "papermill": {
     "duration": 0.075535,
     "end_time": "2020-11-04T20:05:43.833021",
     "exception": false,
     "start_time": "2020-11-04T20:05:43.757486",
     "status": "completed"
    },
    "tags": []
   },
   "outputs": [],
   "source": [
    "plot_testing = model_new(testing_xdata)"
   ]
  },
  {
   "cell_type": "code",
   "execution_count": 26,
   "metadata": {
    "execution": {
     "iopub.execute_input": "2020-11-04T20:05:43.932091Z",
     "iopub.status.busy": "2020-11-04T20:05:43.931476Z",
     "iopub.status.idle": "2020-11-04T20:05:44.120578Z",
     "shell.execute_reply": "2020-11-04T20:05:44.121068Z"
    },
    "papermill": {
     "duration": 0.241062,
     "end_time": "2020-11-04T20:05:44.121230",
     "exception": false,
     "start_time": "2020-11-04T20:05:43.880168",
     "status": "completed"
    },
    "tags": []
   },
   "outputs": [
    {
     "data": {
      "text/plain": [
       "Text(0.5, 1.0, 'Outputs')"
      ]
     },
     "execution_count": 26,
     "metadata": {},
     "output_type": "execute_result"
    },
    {
     "data": {
      "image/png": "[encoded data removed]",
      "text/plain": [
       "<Figure size 576x504 with 1 Axes>"
      ]
     },
     "metadata": {
      "needs_background": "light"
     },
     "output_type": "display_data"
    }
   ],
   "source": [
    "plt.figure(figsize=(8,7))\n",
    "plt.scatter(plot_testing[:,0], plot_testing[:,1], alpha = 0.1, c = y_test.ravel());\n",
    "plt.title('Outputs')"
   ]
  },
  {
   "cell_type": "markdown",
   "metadata": {
    "papermill": {
     "duration": 0.049481,
     "end_time": "2020-11-04T20:05:44.220228",
     "exception": false,
     "start_time": "2020-11-04T20:05:44.170747",
     "status": "completed"
    },
    "tags": []
   },
   "source": [
    "### Plotting probability contours"
   ]
  },
  {
   "cell_type": "code",
   "execution_count": 27,
   "metadata": {
    "execution": {
     "iopub.execute_input": "2020-11-04T20:05:44.326442Z",
     "iopub.status.busy": "2020-11-04T20:05:44.325820Z",
     "iopub.status.idle": "2020-11-04T20:05:44.337242Z",
     "shell.execute_reply": "2020-11-04T20:05:44.336728Z"
    },
    "papermill": {
     "duration": 0.06784,
     "end_time": "2020-11-04T20:05:44.337376",
     "exception": false,
     "start_time": "2020-11-04T20:05:44.269536",
     "status": "completed"
    },
    "tags": []
   },
   "outputs": [],
   "source": [
    "model_prob = Model(layers[-2:]) "
   ]
  },
  {
   "cell_type": "code",
   "execution_count": 28,
   "metadata": {
    "execution": {
     "iopub.execute_input": "2020-11-04T20:05:44.445023Z",
     "iopub.status.busy": "2020-11-04T20:05:44.444412Z",
     "iopub.status.idle": "2020-11-04T20:05:44.458282Z",
     "shell.execute_reply": "2020-11-04T20:05:44.458740Z"
    },
    "papermill": {
     "duration": 0.071861,
     "end_time": "2020-11-04T20:05:44.458902",
     "exception": false,
     "start_time": "2020-11-04T20:05:44.387041",
     "status": "completed"
    },
    "tags": []
   },
   "outputs": [],
   "source": [
    "# Adjust the x and y ranges according to the above generated plot.\n",
    "x_range = np.linspace(-4, 1, 100) \n",
    "y_range = np.linspace(-6, 6, 100) \n",
    "x_grid, y_grid = np.meshgrid(x_range, y_range) # x_grid and y_grig are of size 100 X 100\n",
    "\n",
    "# converting x_grid and y_grid to continuous arrays\n",
    "x_grid_flat = np.ravel(x_grid)\n",
    "y_grid_flat = np.ravel(y_grid)\n",
    "\n",
    "# The last layer of the current model takes two columns as input. Hence transpose of np.vstack() is required.\n",
    "X = np.vstack((x_grid_flat, y_grid_flat)).T\n",
    "\n",
    "# x_grid and y_grid are of size 100 x 100\n",
    "probability_contour = model_prob(X).reshape(100,100) "
   ]
  },
  {
   "cell_type": "code",
   "execution_count": 29,
   "metadata": {
    "execution": {
     "iopub.execute_input": "2020-11-04T20:05:44.575115Z",
     "iopub.status.busy": "2020-11-04T20:05:44.574479Z",
     "iopub.status.idle": "2020-11-04T20:05:44.809583Z",
     "shell.execute_reply": "2020-11-04T20:05:44.810077Z"
    },
    "papermill": {
     "duration": 0.300444,
     "end_time": "2020-11-04T20:05:44.810240",
     "exception": false,
     "start_time": "2020-11-04T20:05:44.509796",
     "status": "completed"
    },
    "tags": []
   },
   "outputs": [
    {
     "data": {
      "image/png": "[encoded data removed]",
      "text/plain": [
       "<Figure size 720x648 with 1 Axes>"
      ]
     },
     "metadata": {
      "needs_background": "light"
     },
     "output_type": "display_data"
    }
   ],
   "source": [
    "plt.figure(figsize=(10,9))\n",
    "plt.scatter(plot_testing[:,0], plot_testing[:,1], alpha = 0.1, c = y_test.ravel())\n",
    "contours = plt.contour(x_grid,y_grid,probability_contour)\n",
    "plt.title('Probability Contours')\n",
    "plt.clabel(contours, inline = True );"
   ]
  }
 ],
 "metadata": {
  "kernelspec": {
   "display_name": "Python 3",
   "language": "python",
   "name": "python3"
  },
  "language_info": {
   "codemirror_mode": {
    "name": "ipython",
    "version": 3
   },
   "file_extension": ".py",
   "mimetype": "text/x-python",
   "name": "python",
   "nbconvert_exporter": "python",
   "pygments_lexer": "ipython3",
   "version": "3.6.12"
  },
  "papermill": {
   "duration": 119.311512,
   "end_time": "2020-11-04T20:05:45.271101",
   "environment_variables": {},
   "exception": null,
   "input_path": "2020-08-11-NeuralNetwork.ipynb",
   "output_path": "2020-08-11-NeuralNetwork.ipynb",
   "parameters": {},
   "start_time": "2020-11-04T20:03:45.959589",
   "version": "2.1.2"
  }
 },
 "nbformat": 4,
 "nbformat_minor": 4
}