{
 "cells": [
  {
   "cell_type": "markdown",
   "id": "fitted-suggestion",
   "metadata": {
    "papermill": {
     "duration": 0.027781,
     "end_time": "2021-04-14T10:10:14.075663",
     "exception": false,
     "start_time": "2021-04-14T10:10:14.047882",
     "status": "completed"
    },
    "tags": []
   },
   "source": [
    "# \"A Basic Neural Network: Differentiate Hand-Written Digits\"\n",
    "\n",
    "- badges: true\n",
    "- author: Akshith Sriram"
   ]
  },
  {
   "cell_type": "markdown",
   "id": "signal-flexibility",
   "metadata": {
    "papermill": {
     "duration": 0.022972,
     "end_time": "2021-04-14T10:10:14.122947",
     "exception": false,
     "start_time": "2021-04-14T10:10:14.099975",
     "status": "completed"
    },
    "tags": []
   },
   "source": [
    "### Key Objectives:\n",
    "- Building a neural network that differentiates two hand-written digits 3 and 8.\n",
    "- Comparing the results of this Neural Network (NN) to that of a Logistic Regression (LR) model.\n",
    "\n",
    "### Requirements:\n",
    "- 'Kudzu' : A neural network library that was designed during our course by [Univ.AI](www.univ.ai). \n",
    "- MNIST Database\n",
    "\n",
    "If MNIST is not installed, use the command `!pip install mnist` given below.\n",
    "It can be run both from the command line and Jupyter Notebook."
   ]
  },
  {
   "cell_type": "code",
   "execution_count": 1,
   "id": "british-texture",
   "metadata": {
    "execution": {
     "iopub.execute_input": "2021-04-14T10:10:14.178754Z",
     "iopub.status.busy": "2021-04-14T10:10:14.178330Z",
     "iopub.status.idle": "2021-04-14T10:10:15.456129Z",
     "shell.execute_reply": "2021-04-14T10:10:15.454999Z"
    },
    "papermill": {
     "duration": 1.311569,
     "end_time": "2021-04-14T10:10:15.456284",
     "exception": false,
     "start_time": "2021-04-14T10:10:14.144715",
     "status": "completed"
    },
    "tags": []
   },
   "outputs": [
    {
     "name": "stdout",
     "output_type": "stream",
     "text": [
      "Collecting mnist\r\n"
     ]
    },
    {
     "name": "stdout",
     "output_type": "stream",
     "text": [
      "  Downloading mnist-0.2.2-py2.py3-none-any.whl (3.5 kB)\r\n",
      "Requirement already satisfied: numpy in /opt/hostedtoolcache/Python/3.6.13/x64/lib/python3.6/site-packages (from mnist) (1.19.5)\r\n"
     ]
    },
    {
     "name": "stdout",
     "output_type": "stream",
     "text": [
      "Installing collected packages: mnist\r\n"
     ]
    },
    {
     "name": "stdout",
     "output_type": "stream",
     "text": [
      "Successfully installed mnist-0.2.2\r\n"
     ]
    }
   ],
   "source": [
    "!pip install mnist "
   ]
  },
  {
   "cell_type": "markdown",
   "id": "stunning-extra",
   "metadata": {
    "papermill": {
     "duration": 0.024185,
     "end_time": "2021-04-14T10:10:15.504215",
     "exception": false,
     "start_time": "2021-04-14T10:10:15.480030",
     "status": "completed"
    },
    "tags": []
   },
   "source": [
    "#### Importing necessary libraries"
   ]
  },
  {
   "cell_type": "code",
   "execution_count": 2,
   "id": "wooden-france",
   "metadata": {
    "execution": {
     "iopub.execute_input": "2021-04-14T10:10:15.559596Z",
     "iopub.status.busy": "2021-04-14T10:10:15.557482Z",
     "iopub.status.idle": "2021-04-14T10:10:16.064949Z",
     "shell.execute_reply": "2021-04-14T10:10:16.063835Z"
    },
    "papermill": {
     "duration": 0.538649,
     "end_time": "2021-04-14T10:10:16.065102",
     "exception": false,
     "start_time": "2021-04-14T10:10:15.526453",
     "status": "completed"
    },
    "tags": []
   },
   "outputs": [],
   "source": [
    "%load_ext autoreload\n",
    "%autoreload 2\n",
    "\n",
    "%matplotlib inline\n",
    "import matplotlib.pyplot as plt\n",
    "\n",
    "import numpy as np\n",
    "import pandas as pd"
   ]
  },
  {
   "cell_type": "markdown",
   "id": "stunning-physics",
   "metadata": {
    "papermill": {
     "duration": 0.026088,
     "end_time": "2021-04-14T10:10:16.118337",
     "exception": false,
     "start_time": "2021-04-14T10:10:16.092249",
     "status": "completed"
    },
    "tags": []
   },
   "source": [
    "### Preparing the Data"
   ]
  },
  {
   "cell_type": "code",
   "execution_count": 3,
   "id": "unauthorized-remainder",
   "metadata": {
    "execution": {
     "iopub.execute_input": "2021-04-14T10:10:16.169739Z",
     "iopub.status.busy": "2021-04-14T10:10:16.169207Z",
     "iopub.status.idle": "2021-04-14T10:10:16.183263Z",
     "shell.execute_reply": "2021-04-14T10:10:16.182873Z"
    },
    "papermill": {
     "duration": 0.042092,
     "end_time": "2021-04-14T10:10:16.183367",
     "exception": false,
     "start_time": "2021-04-14T10:10:16.141275",
     "status": "completed"
    },
    "tags": []
   },
   "outputs": [],
   "source": [
    "import mnist"
   ]
  },
  {
   "cell_type": "code",
   "execution_count": 4,
   "id": "correct-antarctica",
   "metadata": {
    "execution": {
     "iopub.execute_input": "2021-04-14T10:10:16.234119Z",
     "iopub.status.busy": "2021-04-14T10:10:16.233708Z",
     "iopub.status.idle": "2021-04-14T10:15:21.135175Z",
     "shell.execute_reply": "2021-04-14T10:15:21.134291Z"
    },
    "papermill": {
     "duration": 304.927565,
     "end_time": "2021-04-14T10:15:21.135388",
     "exception": false,
     "start_time": "2021-04-14T10:10:16.207823",
     "status": "completed"
    },
    "tags": []
   },
   "outputs": [],
   "source": [
    "train_images = mnist.train_images()\n",
    "train_labels = mnist.train_labels()"
   ]
  },
  {
   "cell_type": "code",
   "execution_count": 5,
   "id": "musical-prospect",
   "metadata": {
    "execution": {
     "iopub.execute_input": "2021-04-14T10:15:21.193687Z",
     "iopub.status.busy": "2021-04-14T10:15:21.193179Z",
     "iopub.status.idle": "2021-04-14T10:15:21.211867Z",
     "shell.execute_reply": "2021-04-14T10:15:21.212292Z"
    },
    "papermill": {
     "duration": 0.047602,
     "end_time": "2021-04-14T10:15:21.212397",
     "exception": false,
     "start_time": "2021-04-14T10:15:21.164795",
     "status": "completed"
    },
    "tags": []
   },
   "outputs": [
    {
     "data": {
      "text/plain": [
       "((60000, 28, 28), (60000,))"
      ]
     },
     "execution_count": 5,
     "metadata": {},
     "output_type": "execute_result"
    }
   ],
   "source": [
    "train_images.shape, train_labels.shape"
   ]
  },
  {
   "cell_type": "code",
   "execution_count": 6,
   "id": "preliminary-elizabeth",
   "metadata": {
    "execution": {
     "iopub.execute_input": "2021-04-14T10:15:21.286249Z",
     "iopub.status.busy": "2021-04-14T10:15:21.285842Z",
     "iopub.status.idle": "2021-04-14T10:16:09.781171Z",
     "shell.execute_reply": "2021-04-14T10:16:09.780271Z"
    },
    "papermill": {
     "duration": 48.520847,
     "end_time": "2021-04-14T10:16:09.781391",
     "exception": false,
     "start_time": "2021-04-14T10:15:21.260544",
     "status": "completed"
    },
    "tags": []
   },
   "outputs": [],
   "source": [
    "test_images = mnist.test_images()\n",
    "test_labels = mnist.test_labels()"
   ]
  },
  {
   "cell_type": "code",
   "execution_count": 7,
   "id": "acknowledged-oxygen",
   "metadata": {
    "execution": {
     "iopub.execute_input": "2021-04-14T10:16:09.838458Z",
     "iopub.status.busy": "2021-04-14T10:16:09.837416Z",
     "iopub.status.idle": "2021-04-14T10:16:09.853308Z",
     "shell.execute_reply": "2021-04-14T10:16:09.853797Z"
    },
    "papermill": {
     "duration": 0.043589,
     "end_time": "2021-04-14T10:16:09.853927",
     "exception": false,
     "start_time": "2021-04-14T10:16:09.810338",
     "status": "completed"
    },
    "tags": []
   },
   "outputs": [
    {
     "data": {
      "text/plain": [
       "((10000, 28, 28), (10000,))"
      ]
     },
     "execution_count": 7,
     "metadata": {},
     "output_type": "execute_result"
    }
   ],
   "source": [
    "test_images.shape, test_labels.shape"
   ]
  },
  {
   "cell_type": "code",
   "execution_count": 8,
   "id": "innovative-organic",
   "metadata": {
    "execution": {
     "iopub.execute_input": "2021-04-14T10:16:09.909216Z",
     "iopub.status.busy": "2021-04-14T10:16:09.908687Z",
     "iopub.status.idle": "2021-04-14T10:16:10.041661Z",
     "shell.execute_reply": "2021-04-14T10:16:10.042122Z"
    },
    "papermill": {
     "duration": 0.163178,
     "end_time": "2021-04-14T10:16:10.042269",
     "exception": false,
     "start_time": "2021-04-14T10:16:09.879091",
     "status": "completed"
    },
    "tags": []
   },
   "outputs": [
    {
     "name": "stdout",
     "output_type": "stream",
     "text": [
      "2\n"
     ]
    },
    {
     "data": {
      "text/plain": [
       "<matplotlib.image.AxesImage at 0x7feedd7c6a20>"
      ]
     },
     "execution_count": 8,
     "metadata": {},
     "output_type": "execute_result"
    },
    {
     "data": {
      "image/png": "[encoded data removed]",
      "text/plain": [
       "<Figure size 432x288 with 1 Axes>"
      ]
     },
     "metadata": {
      "needs_background": "light"
     },
     "output_type": "display_data"
    }
   ],
   "source": [
    "image_index = 7776 # You may select anything up to 60,000\n",
    "print(train_labels[image_index]) \n",
    "plt.imshow(train_images[image_index], cmap='Greys')"
   ]
  },
  {
   "cell_type": "markdown",
   "id": "facial-modem",
   "metadata": {
    "papermill": {
     "duration": 0.026361,
     "end_time": "2021-04-14T10:16:10.098165",
     "exception": false,
     "start_time": "2021-04-14T10:16:10.071804",
     "status": "completed"
    },
    "tags": []
   },
   "source": [
    "## Filter data to get 3 and 8 out"
   ]
  },
  {
   "cell_type": "code",
   "execution_count": 9,
   "id": "thousand-acquisition",
   "metadata": {
    "execution": {
     "iopub.execute_input": "2021-04-14T10:16:10.162840Z",
     "iopub.status.busy": "2021-04-14T10:16:10.162285Z",
     "iopub.status.idle": "2021-04-14T10:16:10.179107Z",
     "shell.execute_reply": "2021-04-14T10:16:10.179566Z"
    },
    "papermill": {
     "duration": 0.052535,
     "end_time": "2021-04-14T10:16:10.179697",
     "exception": false,
     "start_time": "2021-04-14T10:16:10.127162",
     "status": "completed"
    },
    "tags": []
   },
   "outputs": [],
   "source": [
    "train_filter = np.where((train_labels == 3 ) | (train_labels == 8))\n",
    "test_filter = np.where((test_labels == 3) | (test_labels == 8))\n",
    "X_train, y_train = train_images[train_filter], train_labels[train_filter]\n",
    "X_test, y_test = test_images[test_filter], test_labels[test_filter]"
   ]
  },
  {
   "cell_type": "markdown",
   "id": "ruled-access",
   "metadata": {
    "papermill": {
     "duration": 0.030785,
     "end_time": "2021-04-14T10:16:10.239906",
     "exception": false,
     "start_time": "2021-04-14T10:16:10.209121",
     "status": "completed"
    },
    "tags": []
   },
   "source": [
    "We normalize the pixel values in the 0 to 1 range"
   ]
  },
  {
   "cell_type": "code",
   "execution_count": 10,
   "id": "isolated-denver",
   "metadata": {
    "execution": {
     "iopub.execute_input": "2021-04-14T10:16:10.303036Z",
     "iopub.status.busy": "2021-04-14T10:16:10.302462Z",
     "iopub.status.idle": "2021-04-14T10:16:10.351675Z",
     "shell.execute_reply": "2021-04-14T10:16:10.350842Z"
    },
    "papermill": {
     "duration": 0.082771,
     "end_time": "2021-04-14T10:16:10.351885",
     "exception": false,
     "start_time": "2021-04-14T10:16:10.269114",
     "status": "completed"
    },
    "tags": []
   },
   "outputs": [],
   "source": [
    "X_train = X_train/255.\n",
    "X_test = X_test/255."
   ]
  },
  {
   "cell_type": "markdown",
   "id": "perfect-summary",
   "metadata": {
    "papermill": {
     "duration": 0.024388,
     "end_time": "2021-04-14T10:16:10.403350",
     "exception": false,
     "start_time": "2021-04-14T10:16:10.378962",
     "status": "completed"
    },
    "tags": []
   },
   "source": [
    "Setup the labels as 1 (when the digit is 3) and 0 (when the digit is 8)"
   ]
  },
  {
   "cell_type": "code",
   "execution_count": 11,
   "id": "personalized-growing",
   "metadata": {
    "execution": {
     "iopub.execute_input": "2021-04-14T10:16:10.464060Z",
     "iopub.status.busy": "2021-04-14T10:16:10.463575Z",
     "iopub.status.idle": "2021-04-14T10:16:10.475644Z",
     "shell.execute_reply": "2021-04-14T10:16:10.476048Z"
    },
    "papermill": {
     "duration": 0.045399,
     "end_time": "2021-04-14T10:16:10.476179",
     "exception": false,
     "start_time": "2021-04-14T10:16:10.430780",
     "status": "completed"
    },
    "tags": []
   },
   "outputs": [],
   "source": [
    "y_train = 1*(y_train==3)\n",
    "y_test = 1*(y_test==3)"
   ]
  },
  {
   "cell_type": "code",
   "execution_count": 12,
   "id": "considered-virgin",
   "metadata": {
    "execution": {
     "iopub.execute_input": "2021-04-14T10:16:10.534657Z",
     "iopub.status.busy": "2021-04-14T10:16:10.534181Z",
     "iopub.status.idle": "2021-04-14T10:16:10.548042Z",
     "shell.execute_reply": "2021-04-14T10:16:10.547589Z"
    },
    "papermill": {
     "duration": 0.04431,
     "end_time": "2021-04-14T10:16:10.548160",
     "exception": false,
     "start_time": "2021-04-14T10:16:10.503850",
     "status": "completed"
    },
    "tags": []
   },
   "outputs": [
    {
     "data": {
      "text/plain": [
       "((11982, 28, 28), (1984, 28, 28))"
      ]
     },
     "execution_count": 12,
     "metadata": {},
     "output_type": "execute_result"
    }
   ],
   "source": [
    "X_train.shape, X_test.shape"
   ]
  },
  {
   "cell_type": "markdown",
   "id": "civilian-mobile",
   "metadata": {
    "papermill": {
     "duration": 0.028445,
     "end_time": "2021-04-14T10:16:10.606133",
     "exception": false,
     "start_time": "2021-04-14T10:16:10.577688",
     "status": "completed"
    },
    "tags": []
   },
   "source": [
    "### Reshape the input data to create a linear array"
   ]
  },
  {
   "cell_type": "code",
   "execution_count": 13,
   "id": "colonial-adams",
   "metadata": {
    "execution": {
     "iopub.execute_input": "2021-04-14T10:16:10.665928Z",
     "iopub.status.busy": "2021-04-14T10:16:10.665384Z",
     "iopub.status.idle": "2021-04-14T10:16:10.679167Z",
     "shell.execute_reply": "2021-04-14T10:16:10.678791Z"
    },
    "papermill": {
     "duration": 0.045785,
     "end_time": "2021-04-14T10:16:10.679269",
     "exception": false,
     "start_time": "2021-04-14T10:16:10.633484",
     "status": "completed"
    },
    "tags": []
   },
   "outputs": [
    {
     "data": {
      "text/plain": [
       "((11982, 784), (1984, 784))"
      ]
     },
     "execution_count": 13,
     "metadata": {},
     "output_type": "execute_result"
    }
   ],
   "source": [
    "X_train = X_train.reshape(X_train.shape[0], -1)\n",
    "X_test = X_test.reshape(X_test.shape[0], -1)\n",
    "X_train.shape, X_test.shape"
   ]
  },
  {
   "cell_type": "markdown",
   "id": "smart-details",
   "metadata": {
    "papermill": {
     "duration": 0.024384,
     "end_time": "2021-04-14T10:16:10.728468",
     "exception": false,
     "start_time": "2021-04-14T10:16:10.704084",
     "status": "completed"
    },
    "tags": []
   },
   "source": [
    "### Importing appropriate functions from 'Kudzu'"
   ]
  },
  {
   "cell_type": "code",
   "execution_count": 14,
   "id": "celtic-trial",
   "metadata": {
    "execution": {
     "iopub.execute_input": "2021-04-14T10:16:10.783835Z",
     "iopub.status.busy": "2021-04-14T10:16:10.783374Z",
     "iopub.status.idle": "2021-04-14T10:16:10.802158Z",
     "shell.execute_reply": "2021-04-14T10:16:10.801218Z"
    },
    "papermill": {
     "duration": 0.049255,
     "end_time": "2021-04-14T10:16:10.802277",
     "exception": false,
     "start_time": "2021-04-14T10:16:10.753022",
     "status": "completed"
    },
    "tags": []
   },
   "outputs": [],
   "source": [
    "from kudzu.layer import Sigmoid\n",
    "from kudzu.layer import Relu\n",
    "from kudzu.layer import Affine, Sigmoid\n",
    "\n",
    "from kudzu.model import Model\n",
    "from kudzu.train import Learner\n",
    "from kudzu.optim import GD\n",
    "from kudzu.data import Data, Dataloader, Sampler\n",
    "\n",
    "from kudzu.callbacks import AccCallback\n",
    "from kudzu.callbacks import ClfCallback\n",
    "\n",
    "from kudzu.loss import MSE"
   ]
  },
  {
   "cell_type": "markdown",
   "id": "coupled-customer",
   "metadata": {
    "papermill": {
     "duration": 0.023739,
     "end_time": "2021-04-14T10:16:10.850443",
     "exception": false,
     "start_time": "2021-04-14T10:16:10.826704",
     "status": "completed"
    },
    "tags": []
   },
   "source": [
    "### Let us create a `Config` class, to store important parameters. \n",
    "This class essentially plays the role of a dictionary."
   ]
  },
  {
   "cell_type": "code",
   "execution_count": 15,
   "id": "young-ceiling",
   "metadata": {
    "execution": {
     "iopub.execute_input": "2021-04-14T10:16:10.905618Z",
     "iopub.status.busy": "2021-04-14T10:16:10.905091Z",
     "iopub.status.idle": "2021-04-14T10:16:10.918443Z",
     "shell.execute_reply": "2021-04-14T10:16:10.918870Z"
    },
    "papermill": {
     "duration": 0.043729,
     "end_time": "2021-04-14T10:16:10.918995",
     "exception": false,
     "start_time": "2021-04-14T10:16:10.875266",
     "status": "completed"
    },
    "tags": []
   },
   "outputs": [],
   "source": [
    "class Config:\n",
    "    pass\n",
    "config = Config()\n",
    "config.lr = 0.001\n",
    "config.num_epochs = 251\n",
    "config.bs = 50"
   ]
  },
  {
   "cell_type": "markdown",
   "id": "according-mandate",
   "metadata": {
    "papermill": {
     "duration": 0.026395,
     "end_time": "2021-04-14T10:16:10.969404",
     "exception": false,
     "start_time": "2021-04-14T10:16:10.943009",
     "status": "completed"
    },
    "tags": []
   },
   "source": [
    "### Initializing data to the variables"
   ]
  },
  {
   "cell_type": "code",
   "execution_count": 16,
   "id": "academic-disposition",
   "metadata": {
    "execution": {
     "iopub.execute_input": "2021-04-14T10:16:11.024406Z",
     "iopub.status.busy": "2021-04-14T10:16:11.023514Z",
     "iopub.status.idle": "2021-04-14T10:16:11.036844Z",
     "shell.execute_reply": "2021-04-14T10:16:11.036103Z"
    },
    "papermill": {
     "duration": 0.041509,
     "end_time": "2021-04-14T10:16:11.036933",
     "exception": false,
     "start_time": "2021-04-14T10:16:10.995424",
     "status": "completed"
    },
    "tags": []
   },
   "outputs": [],
   "source": [
    "data = Data(X_train, y_train.reshape(-1,1))\n",
    "sampler = Sampler(data, config.bs, shuffle=True)\n",
    "\n",
    "dl = Dataloader(data, sampler)\n",
    "\n",
    "opt = GD(config.lr)\n",
    "loss = MSE()"
   ]
  },
  {
   "cell_type": "code",
   "execution_count": 17,
   "id": "featured-commission",
   "metadata": {
    "execution": {
     "iopub.execute_input": "2021-04-14T10:16:11.090183Z",
     "iopub.status.busy": "2021-04-14T10:16:11.089601Z",
     "iopub.status.idle": "2021-04-14T10:16:11.101975Z",
     "shell.execute_reply": "2021-04-14T10:16:11.101633Z"
    },
    "papermill": {
     "duration": 0.040148,
     "end_time": "2021-04-14T10:16:11.102056",
     "exception": false,
     "start_time": "2021-04-14T10:16:11.061908",
     "status": "completed"
    },
    "tags": []
   },
   "outputs": [],
   "source": [
    "training_xdata = X_train\n",
    "testing_xdata = X_test\n",
    "training_ydata = y_train.reshape(-1,1)\n",
    "testing_ydata = y_test.reshape(-1,1)"
   ]
  },
  {
   "cell_type": "markdown",
   "id": "played-safety",
   "metadata": {
    "papermill": {
     "duration": 0.025598,
     "end_time": "2021-04-14T10:16:11.151706",
     "exception": false,
     "start_time": "2021-04-14T10:16:11.126108",
     "status": "completed"
    },
    "tags": []
   },
   "source": [
    "### Running Models with the Training data\n",
    "Details about the network layers:\n",
    "- A first affine layer has 784 inputs and does 100 affine transforms. These are followed by a Relu\n",
    "- A second affine layer has 100 inputs from the 100 activations of the past layer, and does 100 affine transforms. These are followed by a Relu\n",
    "- A third affine layer has 100 activations and does 2 affine transformations to create an embedding for visualization. There is no non-linearity here.\n",
    "- A final \"logistic regression\" which has an affine transform from 2 inputs to 1 output, which is squeezed through a sigmoid.\n",
    "\n",
    "Help taken from Anshuman's Notebook."
   ]
  },
  {
   "cell_type": "code",
   "execution_count": 18,
   "id": "asian-bankruptcy",
   "metadata": {
    "execution": {
     "iopub.execute_input": "2021-04-14T10:16:11.204750Z",
     "iopub.status.busy": "2021-04-14T10:16:11.204185Z",
     "iopub.status.idle": "2021-04-14T10:16:11.223226Z",
     "shell.execute_reply": "2021-04-14T10:16:11.222761Z"
    },
    "papermill": {
     "duration": 0.048056,
     "end_time": "2021-04-14T10:16:11.223344",
     "exception": false,
     "start_time": "2021-04-14T10:16:11.175288",
     "status": "completed"
    },
    "tags": []
   },
   "outputs": [],
   "source": [
    "# layers for the Neural Network\n",
    "layers = [Affine(\"first\", 784, 100), Relu(\"first\"), Affine(\"second\", 100, 100), Relu(\"second\"), Affine(\"third\", 100, 2), Affine(\"final\", 2, 1), Sigmoid(\"final\")]\n",
    "model_nn = Model(layers)\n",
    "\n",
    "# layers for the Logistic Regression\n",
    "layers_lr = [Affine(\"logits\", 784, 1), Sigmoid(\"sigmoid\")]\n",
    "model_lr = Model(layers_lr)"
   ]
  },
  {
   "cell_type": "code",
   "execution_count": 19,
   "id": "removed-butler",
   "metadata": {
    "execution": {
     "iopub.execute_input": "2021-04-14T10:16:11.277763Z",
     "iopub.status.busy": "2021-04-14T10:16:11.277242Z",
     "iopub.status.idle": "2021-04-14T10:16:11.290940Z",
     "shell.execute_reply": "2021-04-14T10:16:11.291282Z"
    },
    "papermill": {
     "duration": 0.042386,
     "end_time": "2021-04-14T10:16:11.291377",
     "exception": false,
     "start_time": "2021-04-14T10:16:11.248991",
     "status": "completed"
    },
    "tags": []
   },
   "outputs": [],
   "source": [
    "# suffix _nn stands for Neural Network.\n",
    "learner_nn = Learner(loss, model_nn, opt, config.num_epochs)\n",
    "acc_nn = ClfCallback(learner_nn, config.bs, training_xdata , testing_xdata, training_ydata, testing_ydata)\n",
    "learner_nn.set_callbacks([acc_nn])"
   ]
  },
  {
   "cell_type": "code",
   "execution_count": 20,
   "id": "conceptual-throw",
   "metadata": {
    "execution": {
     "iopub.execute_input": "2021-04-14T10:16:11.343334Z",
     "iopub.status.busy": "2021-04-14T10:16:11.342932Z",
     "iopub.status.idle": "2021-04-14T10:17:27.715258Z",
     "shell.execute_reply": "2021-04-14T10:17:27.715650Z"
    },
    "papermill": {
     "duration": 76.399641,
     "end_time": "2021-04-14T10:17:27.715765",
     "exception": false,
     "start_time": "2021-04-14T10:16:11.316124",
     "status": "completed"
    },
    "tags": []
   },
   "outputs": [
    {
     "name": "stdout",
     "output_type": "stream",
     "text": [
      "====== Neural Network ======\n"
     ]
    },
    {
     "name": "stdout",
     "output_type": "stream",
     "text": [
      "Epoch 0, Loss 0.243\n",
      "Training Accuracy: 0.6802, Testing Accuracy: 0.6759\n",
      "\n"
     ]
    },
    {
     "name": "stdout",
     "output_type": "stream",
     "text": [
      "Epoch 10, Loss 0.1112\n",
      "Training Accuracy: 0.8896, Testing Accuracy: 0.8982\n",
      "\n"
     ]
    },
    {
     "name": "stdout",
     "output_type": "stream",
     "text": [
      "Epoch 20, Loss 0.0676\n",
      "Training Accuracy: 0.9262, Testing Accuracy: 0.9325\n",
      "\n"
     ]
    },
    {
     "name": "stdout",
     "output_type": "stream",
     "text": [
      "Epoch 30, Loss 0.051\n",
      "Training Accuracy: 0.9412, Testing Accuracy: 0.9491\n",
      "\n"
     ]
    },
    {
     "name": "stdout",
     "output_type": "stream",
     "text": [
      "Epoch 40, Loss 0.0426\n",
      "Training Accuracy: 0.9518, Testing Accuracy: 0.9597\n",
      "\n"
     ]
    },
    {
     "name": "stdout",
     "output_type": "stream",
     "text": [
      "Epoch 50, Loss 0.0378\n",
      "Training Accuracy: 0.9570, Testing Accuracy: 0.9637\n",
      "\n"
     ]
    },
    {
     "name": "stdout",
     "output_type": "stream",
     "text": [
      "Epoch 60, Loss 0.0346\n",
      "Training Accuracy: 0.9605, Testing Accuracy: 0.9677\n",
      "\n"
     ]
    },
    {
     "name": "stdout",
     "output_type": "stream",
     "text": [
      "Epoch 70, Loss 0.0322\n",
      "Training Accuracy: 0.9629, Testing Accuracy: 0.9698\n",
      "\n"
     ]
    },
    {
     "name": "stdout",
     "output_type": "stream",
     "text": [
      "Epoch 80, Loss 0.0305\n",
      "Training Accuracy: 0.9655, Testing Accuracy: 0.9703\n",
      "\n"
     ]
    },
    {
     "name": "stdout",
     "output_type": "stream",
     "text": [
      "Epoch 90, Loss 0.0291\n",
      "Training Accuracy: 0.9666, Testing Accuracy: 0.9693\n",
      "\n"
     ]
    },
    {
     "name": "stdout",
     "output_type": "stream",
     "text": [
      "Epoch 100, Loss 0.0279\n",
      "Training Accuracy: 0.9679, Testing Accuracy: 0.9698\n",
      "\n"
     ]
    },
    {
     "name": "stdout",
     "output_type": "stream",
     "text": [
      "Epoch 110, Loss 0.0269\n",
      "Training Accuracy: 0.9689, Testing Accuracy: 0.9698\n",
      "\n"
     ]
    },
    {
     "name": "stdout",
     "output_type": "stream",
     "text": [
      "Epoch 120, Loss 0.0261\n",
      "Training Accuracy: 0.9698, Testing Accuracy: 0.9703\n",
      "\n"
     ]
    },
    {
     "name": "stdout",
     "output_type": "stream",
     "text": [
      "Epoch 130, Loss 0.0253\n",
      "Training Accuracy: 0.9705, Testing Accuracy: 0.9708\n",
      "\n"
     ]
    },
    {
     "name": "stdout",
     "output_type": "stream",
     "text": [
      "Epoch 140, Loss 0.0246\n",
      "Training Accuracy: 0.9710, Testing Accuracy: 0.9718\n",
      "\n"
     ]
    },
    {
     "name": "stdout",
     "output_type": "stream",
     "text": [
      "Epoch 150, Loss 0.024\n",
      "Training Accuracy: 0.9718, Testing Accuracy: 0.9728\n",
      "\n"
     ]
    },
    {
     "name": "stdout",
     "output_type": "stream",
     "text": [
      "Epoch 160, Loss 0.0235\n",
      "Training Accuracy: 0.9725, Testing Accuracy: 0.9723\n",
      "\n"
     ]
    },
    {
     "name": "stdout",
     "output_type": "stream",
     "text": [
      "Epoch 170, Loss 0.0229\n",
      "Training Accuracy: 0.9728, Testing Accuracy: 0.9723\n",
      "\n"
     ]
    },
    {
     "name": "stdout",
     "output_type": "stream",
     "text": [
      "Epoch 180, Loss 0.0225\n",
      "Training Accuracy: 0.9733, Testing Accuracy: 0.9733\n",
      "\n"
     ]
    },
    {
     "name": "stdout",
     "output_type": "stream",
     "text": [
      "Epoch 190, Loss 0.022\n",
      "Training Accuracy: 0.9740, Testing Accuracy: 0.9728\n",
      "\n"
     ]
    },
    {
     "name": "stdout",
     "output_type": "stream",
     "text": [
      "Epoch 200, Loss 0.0216\n",
      "Training Accuracy: 0.9746, Testing Accuracy: 0.9728\n",
      "\n"
     ]
    },
    {
     "name": "stdout",
     "output_type": "stream",
     "text": [
      "Epoch 210, Loss 0.0212\n",
      "Training Accuracy: 0.9752, Testing Accuracy: 0.9723\n",
      "\n"
     ]
    },
    {
     "name": "stdout",
     "output_type": "stream",
     "text": [
      "Epoch 220, Loss 0.0208\n",
      "Training Accuracy: 0.9760, Testing Accuracy: 0.9723\n",
      "\n"
     ]
    },
    {
     "name": "stdout",
     "output_type": "stream",
     "text": [
      "Epoch 230, Loss 0.0205\n",
      "Training Accuracy: 0.9765, Testing Accuracy: 0.9718\n",
      "\n"
     ]
    },
    {
     "name": "stdout",
     "output_type": "stream",
     "text": [
      "Epoch 240, Loss 0.0201\n",
      "Training Accuracy: 0.9769, Testing Accuracy: 0.9718\n",
      "\n"
     ]
    },
    {
     "name": "stdout",
     "output_type": "stream",
     "text": [
      "Epoch 250, Loss 0.0198\n",
      "Training Accuracy: 0.9771, Testing Accuracy: 0.9718\n",
      "\n"
     ]
    },
    {
     "data": {
      "text/plain": [
       "0.02661046388136265"
      ]
     },
     "execution_count": 20,
     "metadata": {},
     "output_type": "execute_result"
    }
   ],
   "source": [
    "print(\"====== Neural Network ======\")\n",
    "learner_nn.train_loop(dl)"
   ]
  },
  {
   "cell_type": "markdown",
   "id": "competent-suffering",
   "metadata": {
    "papermill": {
     "duration": 0.033087,
     "end_time": "2021-04-14T10:17:27.780495",
     "exception": false,
     "start_time": "2021-04-14T10:17:27.747408",
     "status": "completed"
    },
    "tags": []
   },
   "source": [
    "### Logistic Regression based Implementation."
   ]
  },
  {
   "cell_type": "code",
   "execution_count": 21,
   "id": "qualified-psychiatry",
   "metadata": {
    "execution": {
     "iopub.execute_input": "2021-04-14T10:17:27.857885Z",
     "iopub.status.busy": "2021-04-14T10:17:27.857275Z",
     "iopub.status.idle": "2021-04-14T10:17:27.866967Z",
     "shell.execute_reply": "2021-04-14T10:17:27.866553Z"
    },
    "papermill": {
     "duration": 0.050494,
     "end_time": "2021-04-14T10:17:27.867081",
     "exception": false,
     "start_time": "2021-04-14T10:17:27.816587",
     "status": "completed"
    },
    "tags": []
   },
   "outputs": [],
   "source": [
    "learner_lr = Learner(loss, model_lr, opt, config.num_epochs)\n",
    "acc_lr = ClfCallback(learner_lr, config.bs, training_xdata , testing_xdata, training_ydata, testing_ydata)\n",
    "learner_lr.set_callbacks([acc_lr])"
   ]
  },
  {
   "cell_type": "code",
   "execution_count": 22,
   "id": "average-outside",
   "metadata": {
    "execution": {
     "iopub.execute_input": "2021-04-14T10:17:27.937319Z",
     "iopub.status.busy": "2021-04-14T10:17:27.936905Z",
     "iopub.status.idle": "2021-04-14T10:17:41.087895Z",
     "shell.execute_reply": "2021-04-14T10:17:41.088531Z"
    },
    "papermill": {
     "duration": 13.187602,
     "end_time": "2021-04-14T10:17:41.088680",
     "exception": false,
     "start_time": "2021-04-14T10:17:27.901078",
     "status": "completed"
    },
    "tags": []
   },
   "outputs": [
    {
     "name": "stdout",
     "output_type": "stream",
     "text": [
      "====== Logistic Regression ======\n",
      "Epoch 0, Loss 0.2662\n",
      "Training Accuracy: 0.5687, Testing Accuracy: 0.5539\n",
      "\n"
     ]
    },
    {
     "name": "stdout",
     "output_type": "stream",
     "text": [
      "Epoch 10, Loss 0.1088\n",
      "Training Accuracy: 0.8962, Testing Accuracy: 0.9083\n",
      "\n"
     ]
    },
    {
     "name": "stdout",
     "output_type": "stream",
     "text": [
      "Epoch 20, Loss 0.0826\n",
      "Training Accuracy: 0.9184, Testing Accuracy: 0.9294\n",
      "\n"
     ]
    },
    {
     "name": "stdout",
     "output_type": "stream",
     "text": [
      "Epoch 30, Loss 0.0706\n",
      "Training Accuracy: 0.9298, Testing Accuracy: 0.9425\n",
      "\n"
     ]
    },
    {
     "name": "stdout",
     "output_type": "stream",
     "text": [
      "Epoch 40, Loss 0.0635\n",
      "Training Accuracy: 0.9367, Testing Accuracy: 0.9491\n",
      "\n"
     ]
    },
    {
     "name": "stdout",
     "output_type": "stream",
     "text": [
      "Epoch 50, Loss 0.0586\n",
      "Training Accuracy: 0.9405, Testing Accuracy: 0.9546\n",
      "\n"
     ]
    },
    {
     "name": "stdout",
     "output_type": "stream",
     "text": [
      "Epoch 60, Loss 0.0551\n",
      "Training Accuracy: 0.9436, Testing Accuracy: 0.9572\n",
      "\n"
     ]
    },
    {
     "name": "stdout",
     "output_type": "stream",
     "text": [
      "Epoch 70, Loss 0.0523\n",
      "Training Accuracy: 0.9466, Testing Accuracy: 0.9602\n",
      "\n"
     ]
    },
    {
     "name": "stdout",
     "output_type": "stream",
     "text": [
      "Epoch 80, Loss 0.0501\n",
      "Training Accuracy: 0.9490, Testing Accuracy: 0.9617\n",
      "\n"
     ]
    },
    {
     "name": "stdout",
     "output_type": "stream",
     "text": [
      "Epoch 90, Loss 0.0484\n",
      "Training Accuracy: 0.9501, Testing Accuracy: 0.9617\n",
      "\n"
     ]
    },
    {
     "name": "stdout",
     "output_type": "stream",
     "text": [
      "Epoch 100, Loss 0.0469\n",
      "Training Accuracy: 0.9513, Testing Accuracy: 0.9622\n",
      "\n"
     ]
    },
    {
     "name": "stdout",
     "output_type": "stream",
     "text": [
      "Epoch 110, Loss 0.0456\n",
      "Training Accuracy: 0.9521, Testing Accuracy: 0.9622\n",
      "\n"
     ]
    },
    {
     "name": "stdout",
     "output_type": "stream",
     "text": [
      "Epoch 120, Loss 0.0445\n",
      "Training Accuracy: 0.9529, Testing Accuracy: 0.9627\n",
      "\n"
     ]
    },
    {
     "name": "stdout",
     "output_type": "stream",
     "text": [
      "Epoch 130, Loss 0.0435\n",
      "Training Accuracy: 0.9540, Testing Accuracy: 0.9632\n",
      "\n"
     ]
    },
    {
     "name": "stdout",
     "output_type": "stream",
     "text": [
      "Epoch 140, Loss 0.0426\n",
      "Training Accuracy: 0.9547, Testing Accuracy: 0.9637\n",
      "\n"
     ]
    },
    {
     "name": "stdout",
     "output_type": "stream",
     "text": [
      "Epoch 150, Loss 0.0418\n",
      "Training Accuracy: 0.9553, Testing Accuracy: 0.9652\n",
      "\n"
     ]
    },
    {
     "name": "stdout",
     "output_type": "stream",
     "text": [
      "Epoch 160, Loss 0.0411\n",
      "Training Accuracy: 0.9560, Testing Accuracy: 0.9652\n",
      "\n"
     ]
    },
    {
     "name": "stdout",
     "output_type": "stream",
     "text": [
      "Epoch 170, Loss 0.0405\n",
      "Training Accuracy: 0.9563, Testing Accuracy: 0.9657\n",
      "\n"
     ]
    },
    {
     "name": "stdout",
     "output_type": "stream",
     "text": [
      "Epoch 180, Loss 0.0399\n",
      "Training Accuracy: 0.9567, Testing Accuracy: 0.9662\n",
      "\n"
     ]
    },
    {
     "name": "stdout",
     "output_type": "stream",
     "text": [
      "Epoch 190, Loss 0.0394\n",
      "Training Accuracy: 0.9569, Testing Accuracy: 0.9662\n",
      "\n"
     ]
    },
    {
     "name": "stdout",
     "output_type": "stream",
     "text": [
      "Epoch 200, Loss 0.0389\n",
      "Training Accuracy: 0.9579, Testing Accuracy: 0.9662\n",
      "\n"
     ]
    },
    {
     "name": "stdout",
     "output_type": "stream",
     "text": [
      "Epoch 210, Loss 0.0384\n",
      "Training Accuracy: 0.9585, Testing Accuracy: 0.9662\n",
      "\n"
     ]
    },
    {
     "name": "stdout",
     "output_type": "stream",
     "text": [
      "Epoch 220, Loss 0.038\n",
      "Training Accuracy: 0.9589, Testing Accuracy: 0.9662\n",
      "\n"
     ]
    },
    {
     "name": "stdout",
     "output_type": "stream",
     "text": [
      "Epoch 230, Loss 0.0376\n",
      "Training Accuracy: 0.9592, Testing Accuracy: 0.9662\n",
      "\n"
     ]
    },
    {
     "name": "stdout",
     "output_type": "stream",
     "text": [
      "Epoch 240, Loss 0.0372\n",
      "Training Accuracy: 0.9596, Testing Accuracy: 0.9667\n",
      "\n"
     ]
    },
    {
     "name": "stdout",
     "output_type": "stream",
     "text": [
      "Epoch 250, Loss 0.0369\n",
      "Training Accuracy: 0.9599, Testing Accuracy: 0.9662\n",
      "\n"
     ]
    },
    {
     "data": {
      "text/plain": [
       "0.016701001695043263"
      ]
     },
     "execution_count": 22,
     "metadata": {},
     "output_type": "execute_result"
    }
   ],
   "source": [
    "print(\"====== Logistic Regression ======\")\n",
    "learner_lr.train_loop(dl)"
   ]
  },
  {
   "cell_type": "markdown",
   "id": "adjusted-possible",
   "metadata": {
    "papermill": {
     "duration": 0.039126,
     "end_time": "2021-04-14T10:17:41.169050",
     "exception": false,
     "start_time": "2021-04-14T10:17:41.129924",
     "status": "completed"
    },
    "tags": []
   },
   "source": [
    "### Comparing results of NN and LR"
   ]
  },
  {
   "cell_type": "code",
   "execution_count": 23,
   "id": "mental-multimedia",
   "metadata": {
    "execution": {
     "iopub.execute_input": "2021-04-14T10:17:41.251526Z",
     "iopub.status.busy": "2021-04-14T10:17:41.250809Z",
     "iopub.status.idle": "2021-04-14T10:17:41.445499Z",
     "shell.execute_reply": "2021-04-14T10:17:41.445925Z"
    },
    "papermill": {
     "duration": 0.238042,
     "end_time": "2021-04-14T10:17:41.446067",
     "exception": false,
     "start_time": "2021-04-14T10:17:41.208025",
     "status": "completed"
    },
    "tags": []
   },
   "outputs": [
    {
     "data": {
      "text/plain": [
       "<matplotlib.legend.Legend at 0x7feed53294a8>"
      ]
     },
     "execution_count": 23,
     "metadata": {},
     "output_type": "execute_result"
    },
    {
     "data": {
      "image/png": "[encoded data removed]",
      "text/plain": [
       "<Figure size 1080x720 with 1 Axes>"
      ]
     },
     "metadata": {
      "needs_background": "light"
     },
     "output_type": "display_data"
    }
   ],
   "source": [
    "plt.figure(figsize=(15,10))\n",
    "\n",
    "# Neural Network plots\n",
    "plt.plot(acc_nn.accuracies, 'r-', label = \"Training Accuracies - NN\")\n",
    "plt.plot(acc_nn.test_accuracies, 'g-', label = \"Testing Accuracies - NN\")\n",
    "\n",
    "# Logistic Regression plots\n",
    "plt.plot(acc_lr.accuracies, 'k-', label = \"Training Accuracies - LR\")\n",
    "plt.plot(acc_lr.test_accuracies, 'b-', label = \"Testing Accuracies - LR\")\n",
    "\n",
    "plt.ylim(0.8, 1)\n",
    "\n",
    "plt.legend()\n",
    "\n"
   ]
  },
  {
   "cell_type": "markdown",
   "id": "sexual-flesh",
   "metadata": {
    "papermill": {
     "duration": 0.041775,
     "end_time": "2021-04-14T10:17:41.530822",
     "exception": false,
     "start_time": "2021-04-14T10:17:41.489047",
     "status": "completed"
    },
    "tags": []
   },
   "source": [
    "### From the plot, we can observe the following:\n",
    "- Neural Network achieves higher accuracy than the Logistic Regression model.\n",
    "- This apparently, is because of overfitting, i.e. NN captures more noise than data.\n",
    "- Testing accuracy of NN drops below the Training accuracy at higher epochs. This explains the over-fitting on training data.\n",
    "- Logistic Regression gives a reliable accuracy, without the above mentioned problem.\n"
   ]
  },
  {
   "cell_type": "markdown",
   "id": "institutional-pacific",
   "metadata": {
    "papermill": {
     "duration": 0.038827,
     "end_time": "2021-04-14T10:17:41.610645",
     "exception": false,
     "start_time": "2021-04-14T10:17:41.571818",
     "status": "completed"
    },
    "tags": []
   },
   "source": [
    "### Moving till the last but one layer (excluding it).\n",
    "#### Plotting the outputs of this layer of the NN."
   ]
  },
  {
   "cell_type": "code",
   "execution_count": 24,
   "id": "economic-server",
   "metadata": {
    "execution": {
     "iopub.execute_input": "2021-04-14T10:17:41.695982Z",
     "iopub.status.busy": "2021-04-14T10:17:41.695502Z",
     "iopub.status.idle": "2021-04-14T10:17:41.707262Z",
     "shell.execute_reply": "2021-04-14T10:17:41.706867Z"
    },
    "papermill": {
     "duration": 0.056641,
     "end_time": "2021-04-14T10:17:41.707351",
     "exception": false,
     "start_time": "2021-04-14T10:17:41.650710",
     "status": "completed"
    },
    "tags": []
   },
   "outputs": [],
   "source": [
    "model_new = Model(layers[:-2])"
   ]
  },
  {
   "cell_type": "code",
   "execution_count": 25,
   "id": "varied-upgrade",
   "metadata": {
    "execution": {
     "iopub.execute_input": "2021-04-14T10:17:41.792720Z",
     "iopub.status.busy": "2021-04-14T10:17:41.791696Z",
     "iopub.status.idle": "2021-04-14T10:17:41.809217Z",
     "shell.execute_reply": "2021-04-14T10:17:41.809683Z"
    },
    "papermill": {
     "duration": 0.064548,
     "end_time": "2021-04-14T10:17:41.809823",
     "exception": false,
     "start_time": "2021-04-14T10:17:41.745275",
     "status": "completed"
    },
    "tags": []
   },
   "outputs": [],
   "source": [
    "plot_testing = model_new(testing_xdata)"
   ]
  },
  {
   "cell_type": "code",
   "execution_count": 26,
   "id": "specific-handling",
   "metadata": {
    "execution": {
     "iopub.execute_input": "2021-04-14T10:17:41.902803Z",
     "iopub.status.busy": "2021-04-14T10:17:41.902307Z",
     "iopub.status.idle": "2021-04-14T10:17:42.081344Z",
     "shell.execute_reply": "2021-04-14T10:17:42.080804Z"
    },
    "papermill": {
     "duration": 0.228124,
     "end_time": "2021-04-14T10:17:42.081464",
     "exception": false,
     "start_time": "2021-04-14T10:17:41.853340",
     "status": "completed"
    },
    "tags": []
   },
   "outputs": [
    {
     "data": {
      "text/plain": [
       "Text(0.5, 1.0, 'Outputs')"
      ]
     },
     "execution_count": 26,
     "metadata": {},
     "output_type": "execute_result"
    },
    {
     "data": {
      "image/png": "[encoded data removed]",
      "text/plain": [
       "<Figure size 576x504 with 1 Axes>"
      ]
     },
     "metadata": {
      "needs_background": "light"
     },
     "output_type": "display_data"
    }
   ],
   "source": [
    "plt.figure(figsize=(8,7))\n",
    "plt.scatter(plot_testing[:,0], plot_testing[:,1], alpha = 0.1, c = y_test.ravel());\n",
    "plt.title('Outputs')"
   ]
  },
  {
   "cell_type": "markdown",
   "id": "described-knowing",
   "metadata": {
    "papermill": {
     "duration": 0.041943,
     "end_time": "2021-04-14T10:17:42.167305",
     "exception": false,
     "start_time": "2021-04-14T10:17:42.125362",
     "status": "completed"
    },
    "tags": []
   },
   "source": [
    "### Plotting probability contours"
   ]
  },
  {
   "cell_type": "code",
   "execution_count": 27,
   "id": "needed-growing",
   "metadata": {
    "execution": {
     "iopub.execute_input": "2021-04-14T10:17:42.278152Z",
     "iopub.status.busy": "2021-04-14T10:17:42.277700Z",
     "iopub.status.idle": "2021-04-14T10:17:42.291309Z",
     "shell.execute_reply": "2021-04-14T10:17:42.290980Z"
    },
    "papermill": {
     "duration": 0.059129,
     "end_time": "2021-04-14T10:17:42.291398",
     "exception": false,
     "start_time": "2021-04-14T10:17:42.232269",
     "status": "completed"
    },
    "tags": []
   },
   "outputs": [],
   "source": [
    "model_prob = Model(layers[-2:]) "
   ]
  },
  {
   "cell_type": "code",
   "execution_count": 28,
   "id": "introductory-enforcement",
   "metadata": {
    "execution": {
     "iopub.execute_input": "2021-04-14T10:17:42.378821Z",
     "iopub.status.busy": "2021-04-14T10:17:42.378353Z",
     "iopub.status.idle": "2021-04-14T10:17:42.390717Z",
     "shell.execute_reply": "2021-04-14T10:17:42.391153Z"
    },
    "papermill": {
     "duration": 0.059433,
     "end_time": "2021-04-14T10:17:42.391277",
     "exception": false,
     "start_time": "2021-04-14T10:17:42.331844",
     "status": "completed"
    },
    "tags": []
   },
   "outputs": [],
   "source": [
    "# Adjust the x and y ranges according to the above generated plot.\n",
    "x_range = np.linspace(-4, 1, 100) \n",
    "y_range = np.linspace(-6, 6, 100) \n",
    "x_grid, y_grid = np.meshgrid(x_range, y_range) # x_grid and y_grig are of size 100 X 100\n",
    "\n",
    "# converting x_grid and y_grid to continuous arrays\n",
    "x_grid_flat = np.ravel(x_grid)\n",
    "y_grid_flat = np.ravel(y_grid)\n",
    "\n",
    "# The last layer of the current model takes two columns as input. Hence transpose of np.vstack() is required.\n",
    "X = np.vstack((x_grid_flat, y_grid_flat)).T\n",
    "\n",
    "# x_grid and y_grid are of size 100 x 100\n",
    "probability_contour = model_prob(X).reshape(100,100) "
   ]
  },
  {
   "cell_type": "code",
   "execution_count": 29,
   "id": "understood-landing",
   "metadata": {
    "execution": {
     "iopub.execute_input": "2021-04-14T10:17:42.489026Z",
     "iopub.status.busy": "2021-04-14T10:17:42.488579Z",
     "iopub.status.idle": "2021-04-14T10:17:42.695634Z",
     "shell.execute_reply": "2021-04-14T10:17:42.695234Z"
    },
    "papermill": {
     "duration": 0.25854,
     "end_time": "2021-04-14T10:17:42.695744",
     "exception": false,
     "start_time": "2021-04-14T10:17:42.437204",
     "status": "completed"
    },
    "tags": []
   },
   "outputs": [
    {
     "data": {
      "image/png": "[encoded data removed]",
      "text/plain": [
       "<Figure size 720x648 with 1 Axes>"
      ]
     },
     "metadata": {
      "needs_background": "light"
     },
     "output_type": "display_data"
    }
   ],
   "source": [
    "plt.figure(figsize=(10,9))\n",
    "plt.scatter(plot_testing[:,0], plot_testing[:,1], alpha = 0.1, c = y_test.ravel())\n",
    "contours = plt.contour(x_grid,y_grid,probability_contour)\n",
    "plt.title('Probability Contours')\n",
    "plt.clabel(contours, inline = True );"
   ]
  }
 ],
 "metadata": {
  "kernelspec": {
   "display_name": "Python 3",
   "language": "python",
   "name": "python3"
  },
  "language_info": {
   "codemirror_mode": {
    "name": "ipython",
    "version": 3
   },
   "file_extension": ".py",
   "mimetype": "text/x-python",
   "name": "python",
   "nbconvert_exporter": "python",
   "pygments_lexer": "ipython3",
   "version": "3.6.13"
  },
  "papermill": {
   "duration": 450.238433,
   "end_time": "2021-04-14T10:17:43.046215",
   "environment_variables": {},
   "exception": null,
   "input_path": "2020-08-11-NeuralNetwork.ipynb",
   "output_path": "2020-08-11-NeuralNetwork.ipynb",
   "parameters": {},
   "start_time": "2021-04-14T10:10:12.807782",
   "version": "2.1.2"
  }
 },
 "nbformat": 4,
 "nbformat_minor": 5
}