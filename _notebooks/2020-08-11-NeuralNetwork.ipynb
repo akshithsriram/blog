{
 "cells": [
  {
   "cell_type": "markdown",
   "id": "fitted-suggestion",
   "metadata": {
    "papermill": {
     "duration": 0.036965,
     "end_time": "2021-05-09T00:09:11.047274",
     "exception": false,
     "start_time": "2021-05-09T00:09:11.010309",
     "status": "completed"
    },
    "tags": []
   },
   "source": [
    "# \"A Basic Neural Network: Differentiate Hand-Written Digits\"\n",
    "\n",
    "- badges: true\n",
    "- author: Akshith Sriram"
   ]
  },
  {
   "cell_type": "markdown",
   "id": "signal-flexibility",
   "metadata": {
    "papermill": {
     "duration": 0.033693,
     "end_time": "2021-05-09T00:09:11.117659",
     "exception": false,
     "start_time": "2021-05-09T00:09:11.083966",
     "status": "completed"
    },
    "tags": []
   },
   "source": [
    "### Key Objectives:\n",
    "- Building a neural network that differentiates two hand-written digits 3 and 8.\n",
    "- Comparing the results of this Neural Network (NN) to that of a Logistic Regression (LR) model.\n",
    "\n",
    "### Requirements:\n",
    "- 'Kudzu' : A neural network library that was designed during our course by [Univ.AI](www.univ.ai). \n",
    "- MNIST Database\n",
    "\n",
    "If MNIST is not installed, use the command `!pip install mnist` given below.\n",
    "It can be run both from the command line and Jupyter Notebook."
   ]
  },
  {
   "cell_type": "code",
   "execution_count": 1,
   "id": "british-texture",
   "metadata": {
    "execution": {
     "iopub.execute_input": "2021-05-09T00:09:11.193439Z",
     "iopub.status.busy": "2021-05-09T00:09:11.192711Z",
     "iopub.status.idle": "2021-05-09T00:09:13.030274Z",
     "shell.execute_reply": "2021-05-09T00:09:13.029674Z"
    },
    "papermill": {
     "duration": 1.881034,
     "end_time": "2021-05-09T00:09:13.030420",
     "exception": false,
     "start_time": "2021-05-09T00:09:11.149386",
     "status": "completed"
    },
    "tags": []
   },
   "outputs": [
    {
     "name": "stdout",
     "output_type": "stream",
     "text": [
      "Collecting mnist\r\n"
     ]
    },
    {
     "name": "stdout",
     "output_type": "stream",
     "text": [
      "  Downloading mnist-0.2.2-py2.py3-none-any.whl (3.5 kB)\r\n",
      "Requirement already satisfied: numpy in /opt/hostedtoolcache/Python/3.6.13/x64/lib/python3.6/site-packages (from mnist) (1.19.5)\r\n"
     ]
    },
    {
     "name": "stdout",
     "output_type": "stream",
     "text": [
      "Installing collected packages: mnist\r\n",
      "Successfully installed mnist-0.2.2\r\n"
     ]
    }
   ],
   "source": [
    "!pip install mnist "
   ]
  },
  {
   "cell_type": "markdown",
   "id": "stunning-extra",
   "metadata": {
    "papermill": {
     "duration": 0.035624,
     "end_time": "2021-05-09T00:09:13.101299",
     "exception": false,
     "start_time": "2021-05-09T00:09:13.065675",
     "status": "completed"
    },
    "tags": []
   },
   "source": [
    "#### Importing necessary libraries"
   ]
  },
  {
   "cell_type": "code",
   "execution_count": 2,
   "id": "wooden-france",
   "metadata": {
    "execution": {
     "iopub.execute_input": "2021-05-09T00:09:13.191614Z",
     "iopub.status.busy": "2021-05-09T00:09:13.190778Z",
     "iopub.status.idle": "2021-05-09T00:09:13.825343Z",
     "shell.execute_reply": "2021-05-09T00:09:13.824491Z"
    },
    "papermill": {
     "duration": 0.688951,
     "end_time": "2021-05-09T00:09:13.825513",
     "exception": false,
     "start_time": "2021-05-09T00:09:13.136562",
     "status": "completed"
    },
    "tags": []
   },
   "outputs": [],
   "source": [
    "%load_ext autoreload\n",
    "%autoreload 2\n",
    "\n",
    "%matplotlib inline\n",
    "import matplotlib.pyplot as plt\n",
    "\n",
    "import numpy as np\n",
    "import pandas as pd"
   ]
  },
  {
   "cell_type": "markdown",
   "id": "stunning-physics",
   "metadata": {
    "papermill": {
     "duration": 0.035667,
     "end_time": "2021-05-09T00:09:13.906593",
     "exception": false,
     "start_time": "2021-05-09T00:09:13.870926",
     "status": "completed"
    },
    "tags": []
   },
   "source": [
    "### Preparing the Data"
   ]
  },
  {
   "cell_type": "code",
   "execution_count": 3,
   "id": "unauthorized-remainder",
   "metadata": {
    "execution": {
     "iopub.execute_input": "2021-05-09T00:09:13.988446Z",
     "iopub.status.busy": "2021-05-09T00:09:13.987695Z",
     "iopub.status.idle": "2021-05-09T00:09:14.000432Z",
     "shell.execute_reply": "2021-05-09T00:09:13.999877Z"
    },
    "papermill": {
     "duration": 0.053985,
     "end_time": "2021-05-09T00:09:14.000586",
     "exception": false,
     "start_time": "2021-05-09T00:09:13.946601",
     "status": "completed"
    },
    "tags": []
   },
   "outputs": [],
   "source": [
    "import mnist"
   ]
  },
  {
   "cell_type": "code",
   "execution_count": 4,
   "id": "correct-antarctica",
   "metadata": {
    "execution": {
     "iopub.execute_input": "2021-05-09T00:09:14.074046Z",
     "iopub.status.busy": "2021-05-09T00:09:14.073252Z",
     "iopub.status.idle": "2021-05-09T00:09:38.429553Z",
     "shell.execute_reply": "2021-05-09T00:09:38.428591Z"
    },
    "papermill": {
     "duration": 24.396595,
     "end_time": "2021-05-09T00:09:38.429681",
     "exception": false,
     "start_time": "2021-05-09T00:09:14.033086",
     "status": "completed"
    },
    "tags": []
   },
   "outputs": [],
   "source": [
    "train_images = mnist.train_images()\n",
    "train_labels = mnist.train_labels()"
   ]
  },
  {
   "cell_type": "code",
   "execution_count": 5,
   "id": "musical-prospect",
   "metadata": {
    "execution": {
     "iopub.execute_input": "2021-05-09T00:09:38.505025Z",
     "iopub.status.busy": "2021-05-09T00:09:38.504252Z",
     "iopub.status.idle": "2021-05-09T00:09:38.516308Z",
     "shell.execute_reply": "2021-05-09T00:09:38.516836Z"
    },
    "papermill": {
     "duration": 0.053674,
     "end_time": "2021-05-09T00:09:38.516995",
     "exception": false,
     "start_time": "2021-05-09T00:09:38.463321",
     "status": "completed"
    },
    "tags": []
   },
   "outputs": [
    {
     "data": {
      "text/plain": [
       "((60000, 28, 28), (60000,))"
      ]
     },
     "execution_count": 5,
     "metadata": {},
     "output_type": "execute_result"
    }
   ],
   "source": [
    "train_images.shape, train_labels.shape"
   ]
  },
  {
   "cell_type": "code",
   "execution_count": 6,
   "id": "preliminary-elizabeth",
   "metadata": {
    "execution": {
     "iopub.execute_input": "2021-05-09T00:09:38.592711Z",
     "iopub.status.busy": "2021-05-09T00:09:38.592002Z",
     "iopub.status.idle": "2021-05-09T00:09:42.156546Z",
     "shell.execute_reply": "2021-05-09T00:09:42.157044Z"
    },
    "papermill": {
     "duration": 3.605891,
     "end_time": "2021-05-09T00:09:42.157205",
     "exception": false,
     "start_time": "2021-05-09T00:09:38.551314",
     "status": "completed"
    },
    "tags": []
   },
   "outputs": [],
   "source": [
    "test_images = mnist.test_images()\n",
    "test_labels = mnist.test_labels()"
   ]
  },
  {
   "cell_type": "code",
   "execution_count": 7,
   "id": "acknowledged-oxygen",
   "metadata": {
    "execution": {
     "iopub.execute_input": "2021-05-09T00:09:42.232537Z",
     "iopub.status.busy": "2021-05-09T00:09:42.231948Z",
     "iopub.status.idle": "2021-05-09T00:09:42.246416Z",
     "shell.execute_reply": "2021-05-09T00:09:42.245766Z"
    },
    "papermill": {
     "duration": 0.052118,
     "end_time": "2021-05-09T00:09:42.246569",
     "exception": false,
     "start_time": "2021-05-09T00:09:42.194451",
     "status": "completed"
    },
    "tags": []
   },
   "outputs": [
    {
     "data": {
      "text/plain": [
       "((10000, 28, 28), (10000,))"
      ]
     },
     "execution_count": 7,
     "metadata": {},
     "output_type": "execute_result"
    }
   ],
   "source": [
    "test_images.shape, test_labels.shape"
   ]
  },
  {
   "cell_type": "code",
   "execution_count": 8,
   "id": "innovative-organic",
   "metadata": {
    "execution": {
     "iopub.execute_input": "2021-05-09T00:09:42.324056Z",
     "iopub.status.busy": "2021-05-09T00:09:42.323007Z",
     "iopub.status.idle": "2021-05-09T00:09:42.505283Z",
     "shell.execute_reply": "2021-05-09T00:09:42.505824Z"
    },
    "papermill": {
     "duration": 0.222455,
     "end_time": "2021-05-09T00:09:42.505999",
     "exception": false,
     "start_time": "2021-05-09T00:09:42.283544",
     "status": "completed"
    },
    "tags": []
   },
   "outputs": [
    {
     "name": "stdout",
     "output_type": "stream",
     "text": [
      "2\n"
     ]
    },
    {
     "data": {
      "text/plain": [
       "<matplotlib.image.AxesImage at 0x7f88383623c8>"
      ]
     },
     "execution_count": 8,
     "metadata": {},
     "output_type": "execute_result"
    },
    {
     "data": {
      "image/png": "[encoded data removed]",
      "text/plain": [
       "<Figure size 432x288 with 1 Axes>"
      ]
     },
     "metadata": {
      "needs_background": "light"
     },
     "output_type": "display_data"
    }
   ],
   "source": [
    "image_index = 7776 # You may select anything up to 60,000\n",
    "print(train_labels[image_index]) \n",
    "plt.imshow(train_images[image_index], cmap='Greys')"
   ]
  },
  {
   "cell_type": "markdown",
   "id": "facial-modem",
   "metadata": {
    "papermill": {
     "duration": 0.037414,
     "end_time": "2021-05-09T00:09:42.580700",
     "exception": false,
     "start_time": "2021-05-09T00:09:42.543286",
     "status": "completed"
    },
    "tags": []
   },
   "source": [
    "## Filter data to get 3 and 8 out"
   ]
  },
  {
   "cell_type": "code",
   "execution_count": 9,
   "id": "thousand-acquisition",
   "metadata": {
    "execution": {
     "iopub.execute_input": "2021-05-09T00:09:42.656144Z",
     "iopub.status.busy": "2021-05-09T00:09:42.655367Z",
     "iopub.status.idle": "2021-05-09T00:09:42.675429Z",
     "shell.execute_reply": "2021-05-09T00:09:42.674892Z"
    },
    "papermill": {
     "duration": 0.0605,
     "end_time": "2021-05-09T00:09:42.675552",
     "exception": false,
     "start_time": "2021-05-09T00:09:42.615052",
     "status": "completed"
    },
    "tags": []
   },
   "outputs": [],
   "source": [
    "train_filter = np.where((train_labels == 3 ) | (train_labels == 8))\n",
    "test_filter = np.where((test_labels == 3) | (test_labels == 8))\n",
    "X_train, y_train = train_images[train_filter], train_labels[train_filter]\n",
    "X_test, y_test = test_images[test_filter], test_labels[test_filter]"
   ]
  },
  {
   "cell_type": "markdown",
   "id": "ruled-access",
   "metadata": {
    "papermill": {
     "duration": 0.036655,
     "end_time": "2021-05-09T00:09:42.750057",
     "exception": false,
     "start_time": "2021-05-09T00:09:42.713402",
     "status": "completed"
    },
    "tags": []
   },
   "source": [
    "We normalize the pixel values in the 0 to 1 range"
   ]
  },
  {
   "cell_type": "code",
   "execution_count": 10,
   "id": "isolated-denver",
   "metadata": {
    "execution": {
     "iopub.execute_input": "2021-05-09T00:09:42.841553Z",
     "iopub.status.busy": "2021-05-09T00:09:42.840926Z",
     "iopub.status.idle": "2021-05-09T00:09:42.909869Z",
     "shell.execute_reply": "2021-05-09T00:09:42.910443Z"
    },
    "papermill": {
     "duration": 0.125557,
     "end_time": "2021-05-09T00:09:42.910603",
     "exception": false,
     "start_time": "2021-05-09T00:09:42.785046",
     "status": "completed"
    },
    "tags": []
   },
   "outputs": [],
   "source": [
    "X_train = X_train/255.\n",
    "X_test = X_test/255."
   ]
  },
  {
   "cell_type": "markdown",
   "id": "perfect-summary",
   "metadata": {
    "papermill": {
     "duration": 0.037888,
     "end_time": "2021-05-09T00:09:42.985335",
     "exception": false,
     "start_time": "2021-05-09T00:09:42.947447",
     "status": "completed"
    },
    "tags": []
   },
   "source": [
    "Setup the labels as 1 (when the digit is 3) and 0 (when the digit is 8)"
   ]
  },
  {
   "cell_type": "code",
   "execution_count": 11,
   "id": "personalized-growing",
   "metadata": {
    "execution": {
     "iopub.execute_input": "2021-05-09T00:09:43.067262Z",
     "iopub.status.busy": "2021-05-09T00:09:43.066575Z",
     "iopub.status.idle": "2021-05-09T00:09:43.081113Z",
     "shell.execute_reply": "2021-05-09T00:09:43.080471Z"
    },
    "papermill": {
     "duration": 0.060386,
     "end_time": "2021-05-09T00:09:43.081274",
     "exception": false,
     "start_time": "2021-05-09T00:09:43.020888",
     "status": "completed"
    },
    "tags": []
   },
   "outputs": [],
   "source": [
    "y_train = 1*(y_train==3)\n",
    "y_test = 1*(y_test==3)"
   ]
  },
  {
   "cell_type": "code",
   "execution_count": 12,
   "id": "considered-virgin",
   "metadata": {
    "execution": {
     "iopub.execute_input": "2021-05-09T00:09:43.159629Z",
     "iopub.status.busy": "2021-05-09T00:09:43.159052Z",
     "iopub.status.idle": "2021-05-09T00:09:43.174119Z",
     "shell.execute_reply": "2021-05-09T00:09:43.173499Z"
    },
    "papermill": {
     "duration": 0.054424,
     "end_time": "2021-05-09T00:09:43.174234",
     "exception": false,
     "start_time": "2021-05-09T00:09:43.119810",
     "status": "completed"
    },
    "tags": []
   },
   "outputs": [
    {
     "data": {
      "text/plain": [
       "((11982, 28, 28), (1984, 28, 28))"
      ]
     },
     "execution_count": 12,
     "metadata": {},
     "output_type": "execute_result"
    }
   ],
   "source": [
    "X_train.shape, X_test.shape"
   ]
  },
  {
   "cell_type": "markdown",
   "id": "civilian-mobile",
   "metadata": {
    "papermill": {
     "duration": 0.03523,
     "end_time": "2021-05-09T00:09:43.248225",
     "exception": false,
     "start_time": "2021-05-09T00:09:43.212995",
     "status": "completed"
    },
    "tags": []
   },
   "source": [
    "### Reshape the input data to create a linear array"
   ]
  },
  {
   "cell_type": "code",
   "execution_count": 13,
   "id": "colonial-adams",
   "metadata": {
    "execution": {
     "iopub.execute_input": "2021-05-09T00:09:43.330890Z",
     "iopub.status.busy": "2021-05-09T00:09:43.330217Z",
     "iopub.status.idle": "2021-05-09T00:09:43.345089Z",
     "shell.execute_reply": "2021-05-09T00:09:43.344601Z"
    },
    "papermill": {
     "duration": 0.062769,
     "end_time": "2021-05-09T00:09:43.345203",
     "exception": false,
     "start_time": "2021-05-09T00:09:43.282434",
     "status": "completed"
    },
    "tags": []
   },
   "outputs": [
    {
     "data": {
      "text/plain": [
       "((11982, 784), (1984, 784))"
      ]
     },
     "execution_count": 13,
     "metadata": {},
     "output_type": "execute_result"
    }
   ],
   "source": [
    "X_train = X_train.reshape(X_train.shape[0], -1)\n",
    "X_test = X_test.reshape(X_test.shape[0], -1)\n",
    "X_train.shape, X_test.shape"
   ]
  },
  {
   "cell_type": "markdown",
   "id": "smart-details",
   "metadata": {
    "papermill": {
     "duration": 0.036067,
     "end_time": "2021-05-09T00:09:43.419188",
     "exception": false,
     "start_time": "2021-05-09T00:09:43.383121",
     "status": "completed"
    },
    "tags": []
   },
   "source": [
    "### Importing appropriate functions from 'Kudzu'"
   ]
  },
  {
   "cell_type": "code",
   "execution_count": 14,
   "id": "celtic-trial",
   "metadata": {
    "execution": {
     "iopub.execute_input": "2021-05-09T00:09:43.499633Z",
     "iopub.status.busy": "2021-05-09T00:09:43.499014Z",
     "iopub.status.idle": "2021-05-09T00:09:43.519637Z",
     "shell.execute_reply": "2021-05-09T00:09:43.519145Z"
    },
    "papermill": {
     "duration": 0.064866,
     "end_time": "2021-05-09T00:09:43.519777",
     "exception": false,
     "start_time": "2021-05-09T00:09:43.454911",
     "status": "completed"
    },
    "tags": []
   },
   "outputs": [],
   "source": [
    "from kudzu.layer import Sigmoid\n",
    "from kudzu.layer import Relu\n",
    "from kudzu.layer import Affine, Sigmoid\n",
    "\n",
    "from kudzu.model import Model\n",
    "from kudzu.train import Learner\n",
    "from kudzu.optim import GD\n",
    "from kudzu.data import Data, Dataloader, Sampler\n",
    "\n",
    "from kudzu.callbacks import AccCallback\n",
    "from kudzu.callbacks import ClfCallback\n",
    "\n",
    "from kudzu.loss import MSE"
   ]
  },
  {
   "cell_type": "markdown",
   "id": "coupled-customer",
   "metadata": {
    "papermill": {
     "duration": 0.036462,
     "end_time": "2021-05-09T00:09:43.595536",
     "exception": false,
     "start_time": "2021-05-09T00:09:43.559074",
     "status": "completed"
    },
    "tags": []
   },
   "source": [
    "### Let us create a `Config` class, to store important parameters. \n",
    "This class essentially plays the role of a dictionary."
   ]
  },
  {
   "cell_type": "code",
   "execution_count": 15,
   "id": "young-ceiling",
   "metadata": {
    "execution": {
     "iopub.execute_input": "2021-05-09T00:09:43.675100Z",
     "iopub.status.busy": "2021-05-09T00:09:43.674436Z",
     "iopub.status.idle": "2021-05-09T00:09:43.686133Z",
     "shell.execute_reply": "2021-05-09T00:09:43.686676Z"
    },
    "papermill": {
     "duration": 0.054362,
     "end_time": "2021-05-09T00:09:43.686817",
     "exception": false,
     "start_time": "2021-05-09T00:09:43.632455",
     "status": "completed"
    },
    "tags": []
   },
   "outputs": [],
   "source": [
    "class Config:\n",
    "    pass\n",
    "config = Config()\n",
    "config.lr = 0.001\n",
    "config.num_epochs = 251\n",
    "config.bs = 50"
   ]
  },
  {
   "cell_type": "markdown",
   "id": "according-mandate",
   "metadata": {
    "papermill": {
     "duration": 0.039072,
     "end_time": "2021-05-09T00:09:43.762737",
     "exception": false,
     "start_time": "2021-05-09T00:09:43.723665",
     "status": "completed"
    },
    "tags": []
   },
   "source": [
    "### Initializing data to the variables"
   ]
  },
  {
   "cell_type": "code",
   "execution_count": 16,
   "id": "academic-disposition",
   "metadata": {
    "execution": {
     "iopub.execute_input": "2021-05-09T00:09:43.840114Z",
     "iopub.status.busy": "2021-05-09T00:09:43.839405Z",
     "iopub.status.idle": "2021-05-09T00:09:43.856090Z",
     "shell.execute_reply": "2021-05-09T00:09:43.856866Z"
    },
    "papermill": {
     "duration": 0.056833,
     "end_time": "2021-05-09T00:09:43.857044",
     "exception": false,
     "start_time": "2021-05-09T00:09:43.800211",
     "status": "completed"
    },
    "tags": []
   },
   "outputs": [],
   "source": [
    "data = Data(X_train, y_train.reshape(-1,1))\n",
    "sampler = Sampler(data, config.bs, shuffle=True)\n",
    "\n",
    "dl = Dataloader(data, sampler)\n",
    "\n",
    "opt = GD(config.lr)\n",
    "loss = MSE()"
   ]
  },
  {
   "cell_type": "code",
   "execution_count": 17,
   "id": "featured-commission",
   "metadata": {
    "execution": {
     "iopub.execute_input": "2021-05-09T00:09:43.947149Z",
     "iopub.status.busy": "2021-05-09T00:09:43.944640Z",
     "iopub.status.idle": "2021-05-09T00:09:43.957343Z",
     "shell.execute_reply": "2021-05-09T00:09:43.956786Z"
    },
    "papermill": {
     "duration": 0.059023,
     "end_time": "2021-05-09T00:09:43.957463",
     "exception": false,
     "start_time": "2021-05-09T00:09:43.898440",
     "status": "completed"
    },
    "tags": []
   },
   "outputs": [],
   "source": [
    "training_xdata = X_train\n",
    "testing_xdata = X_test\n",
    "training_ydata = y_train.reshape(-1,1)\n",
    "testing_ydata = y_test.reshape(-1,1)"
   ]
  },
  {
   "cell_type": "markdown",
   "id": "played-safety",
   "metadata": {
    "papermill": {
     "duration": 0.036609,
     "end_time": "2021-05-09T00:09:44.031931",
     "exception": false,
     "start_time": "2021-05-09T00:09:43.995322",
     "status": "completed"
    },
    "tags": []
   },
   "source": [
    "### Running Models with the Training data\n",
    "Details about the network layers:\n",
    "- A first affine layer has 784 inputs and does 100 affine transforms. These are followed by a Relu\n",
    "- A second affine layer has 100 inputs from the 100 activations of the past layer, and does 100 affine transforms. These are followed by a Relu\n",
    "- A third affine layer has 100 activations and does 2 affine transformations to create an embedding for visualization. There is no non-linearity here.\n",
    "- A final \"logistic regression\" which has an affine transform from 2 inputs to 1 output, which is squeezed through a sigmoid.\n",
    "\n",
    "Help taken from Anshuman's Notebook."
   ]
  },
  {
   "cell_type": "code",
   "execution_count": 18,
   "id": "asian-bankruptcy",
   "metadata": {
    "execution": {
     "iopub.execute_input": "2021-05-09T00:09:44.116005Z",
     "iopub.status.busy": "2021-05-09T00:09:44.115325Z",
     "iopub.status.idle": "2021-05-09T00:09:44.132060Z",
     "shell.execute_reply": "2021-05-09T00:09:44.132608Z"
    },
    "papermill": {
     "duration": 0.060642,
     "end_time": "2021-05-09T00:09:44.132796",
     "exception": false,
     "start_time": "2021-05-09T00:09:44.072154",
     "status": "completed"
    },
    "tags": []
   },
   "outputs": [],
   "source": [
    "# layers for the Neural Network\n",
    "layers = [Affine(\"first\", 784, 100), Relu(\"first\"), Affine(\"second\", 100, 100), Relu(\"second\"), Affine(\"third\", 100, 2), Affine(\"final\", 2, 1), Sigmoid(\"final\")]\n",
    "model_nn = Model(layers)\n",
    "\n",
    "# layers for the Logistic Regression\n",
    "layers_lr = [Affine(\"logits\", 784, 1), Sigmoid(\"sigmoid\")]\n",
    "model_lr = Model(layers_lr)"
   ]
  },
  {
   "cell_type": "code",
   "execution_count": 19,
   "id": "removed-butler",
   "metadata": {
    "execution": {
     "iopub.execute_input": "2021-05-09T00:09:44.220095Z",
     "iopub.status.busy": "2021-05-09T00:09:44.218590Z",
     "iopub.status.idle": "2021-05-09T00:09:44.230560Z",
     "shell.execute_reply": "2021-05-09T00:09:44.229909Z"
    },
    "papermill": {
     "duration": 0.059255,
     "end_time": "2021-05-09T00:09:44.230709",
     "exception": false,
     "start_time": "2021-05-09T00:09:44.171454",
     "status": "completed"
    },
    "tags": []
   },
   "outputs": [],
   "source": [
    "# suffix _nn stands for Neural Network.\n",
    "learner_nn = Learner(loss, model_nn, opt, config.num_epochs)\n",
    "acc_nn = ClfCallback(learner_nn, config.bs, training_xdata , testing_xdata, training_ydata, testing_ydata)\n",
    "learner_nn.set_callbacks([acc_nn])"
   ]
  },
  {
   "cell_type": "code",
   "execution_count": 20,
   "id": "conceptual-throw",
   "metadata": {
    "execution": {
     "iopub.execute_input": "2021-05-09T00:09:44.326723Z",
     "iopub.status.busy": "2021-05-09T00:09:44.326037Z",
     "iopub.status.idle": "2021-05-09T00:12:11.298720Z",
     "shell.execute_reply": "2021-05-09T00:12:11.299700Z"
    },
    "papermill": {
     "duration": 147.021561,
     "end_time": "2021-05-09T00:12:11.299876",
     "exception": false,
     "start_time": "2021-05-09T00:09:44.278315",
     "status": "completed"
    },
    "tags": []
   },
   "outputs": [
    {
     "name": "stdout",
     "output_type": "stream",
     "text": [
      "====== Neural Network ======\n"
     ]
    },
    {
     "name": "stdout",
     "output_type": "stream",
     "text": [
      "Epoch 0, Loss 0.2125\n",
      "Training Accuracy: 0.8373, Testing Accuracy: 0.8493\n",
      "\n"
     ]
    },
    {
     "name": "stdout",
     "output_type": "stream",
     "text": [
      "Epoch 10, Loss 0.0552\n",
      "Training Accuracy: 0.9419, Testing Accuracy: 0.9486\n",
      "\n"
     ]
    },
    {
     "name": "stdout",
     "output_type": "stream",
     "text": [
      "Epoch 20, Loss 0.04\n",
      "Training Accuracy: 0.9567, Testing Accuracy: 0.9592\n",
      "\n"
     ]
    },
    {
     "name": "stdout",
     "output_type": "stream",
     "text": [
      "Epoch 30, Loss 0.034\n",
      "Training Accuracy: 0.9629, Testing Accuracy: 0.9652\n",
      "\n"
     ]
    },
    {
     "name": "stdout",
     "output_type": "stream",
     "text": [
      "Epoch 40, Loss 0.0305\n",
      "Training Accuracy: 0.9654, Testing Accuracy: 0.9667\n",
      "\n"
     ]
    },
    {
     "name": "stdout",
     "output_type": "stream",
     "text": [
      "Epoch 50, Loss 0.0282\n",
      "Training Accuracy: 0.9673, Testing Accuracy: 0.9682\n",
      "\n"
     ]
    },
    {
     "name": "stdout",
     "output_type": "stream",
     "text": [
      "Epoch 60, Loss 0.0264\n",
      "Training Accuracy: 0.9694, Testing Accuracy: 0.9672\n",
      "\n"
     ]
    },
    {
     "name": "stdout",
     "output_type": "stream",
     "text": [
      "Epoch 70, Loss 0.0251\n",
      "Training Accuracy: 0.9715, Testing Accuracy: 0.9693\n",
      "\n"
     ]
    },
    {
     "name": "stdout",
     "output_type": "stream",
     "text": [
      "Epoch 80, Loss 0.0239\n",
      "Training Accuracy: 0.9721, Testing Accuracy: 0.9713\n",
      "\n"
     ]
    },
    {
     "name": "stdout",
     "output_type": "stream",
     "text": [
      "Epoch 90, Loss 0.0229\n",
      "Training Accuracy: 0.9734, Testing Accuracy: 0.9718\n",
      "\n"
     ]
    },
    {
     "name": "stdout",
     "output_type": "stream",
     "text": [
      "Epoch 100, Loss 0.022\n",
      "Training Accuracy: 0.9750, Testing Accuracy: 0.9723\n",
      "\n"
     ]
    },
    {
     "name": "stdout",
     "output_type": "stream",
     "text": [
      "Epoch 110, Loss 0.0213\n",
      "Training Accuracy: 0.9763, Testing Accuracy: 0.9743\n",
      "\n"
     ]
    },
    {
     "name": "stdout",
     "output_type": "stream",
     "text": [
      "Epoch 120, Loss 0.0206\n",
      "Training Accuracy: 0.9771, Testing Accuracy: 0.9753\n",
      "\n"
     ]
    },
    {
     "name": "stdout",
     "output_type": "stream",
     "text": [
      "Epoch 130, Loss 0.0199\n",
      "Training Accuracy: 0.9778, Testing Accuracy: 0.9758\n",
      "\n"
     ]
    },
    {
     "name": "stdout",
     "output_type": "stream",
     "text": [
      "Epoch 140, Loss 0.0193\n",
      "Training Accuracy: 0.9786, Testing Accuracy: 0.9758\n",
      "\n"
     ]
    },
    {
     "name": "stdout",
     "output_type": "stream",
     "text": [
      "Epoch 150, Loss 0.0188\n",
      "Training Accuracy: 0.9796, Testing Accuracy: 0.9753\n",
      "\n"
     ]
    },
    {
     "name": "stdout",
     "output_type": "stream",
     "text": [
      "Epoch 160, Loss 0.0183\n",
      "Training Accuracy: 0.9801, Testing Accuracy: 0.9758\n",
      "\n"
     ]
    },
    {
     "name": "stdout",
     "output_type": "stream",
     "text": [
      "Epoch 170, Loss 0.0178\n",
      "Training Accuracy: 0.9810, Testing Accuracy: 0.9763\n",
      "\n"
     ]
    },
    {
     "name": "stdout",
     "output_type": "stream",
     "text": [
      "Epoch 180, Loss 0.0174\n",
      "Training Accuracy: 0.9817, Testing Accuracy: 0.9763\n",
      "\n"
     ]
    },
    {
     "name": "stdout",
     "output_type": "stream",
     "text": [
      "Epoch 190, Loss 0.0169\n",
      "Training Accuracy: 0.9822, Testing Accuracy: 0.9768\n",
      "\n"
     ]
    },
    {
     "name": "stdout",
     "output_type": "stream",
     "text": [
      "Epoch 200, Loss 0.0165\n",
      "Training Accuracy: 0.9824, Testing Accuracy: 0.9763\n",
      "\n"
     ]
    },
    {
     "name": "stdout",
     "output_type": "stream",
     "text": [
      "Epoch 210, Loss 0.0161\n",
      "Training Accuracy: 0.9826, Testing Accuracy: 0.9768\n",
      "\n"
     ]
    },
    {
     "name": "stdout",
     "output_type": "stream",
     "text": [
      "Epoch 220, Loss 0.0157\n",
      "Training Accuracy: 0.9831, Testing Accuracy: 0.9773\n",
      "\n"
     ]
    },
    {
     "name": "stdout",
     "output_type": "stream",
     "text": [
      "Epoch 230, Loss 0.0154\n",
      "Training Accuracy: 0.9836, Testing Accuracy: 0.9773\n",
      "\n"
     ]
    },
    {
     "name": "stdout",
     "output_type": "stream",
     "text": [
      "Epoch 240, Loss 0.015\n",
      "Training Accuracy: 0.9839, Testing Accuracy: 0.9768\n",
      "\n"
     ]
    },
    {
     "name": "stdout",
     "output_type": "stream",
     "text": [
      "Epoch 250, Loss 0.0147\n",
      "Training Accuracy: 0.9851, Testing Accuracy: 0.9778\n",
      "\n"
     ]
    },
    {
     "data": {
      "text/plain": [
       "0.020812896355704456"
      ]
     },
     "execution_count": 20,
     "metadata": {},
     "output_type": "execute_result"
    }
   ],
   "source": [
    "print(\"====== Neural Network ======\")\n",
    "learner_nn.train_loop(dl)"
   ]
  },
  {
   "cell_type": "markdown",
   "id": "competent-suffering",
   "metadata": {
    "papermill": {
     "duration": 0.045671,
     "end_time": "2021-05-09T00:12:11.394225",
     "exception": false,
     "start_time": "2021-05-09T00:12:11.348554",
     "status": "completed"
    },
    "tags": []
   },
   "source": [
    "### Logistic Regression based Implementation."
   ]
  },
  {
   "cell_type": "code",
   "execution_count": 21,
   "id": "qualified-psychiatry",
   "metadata": {
    "execution": {
     "iopub.execute_input": "2021-05-09T00:12:11.493252Z",
     "iopub.status.busy": "2021-05-09T00:12:11.492534Z",
     "iopub.status.idle": "2021-05-09T00:12:11.505064Z",
     "shell.execute_reply": "2021-05-09T00:12:11.504341Z"
    },
    "papermill": {
     "duration": 0.064371,
     "end_time": "2021-05-09T00:12:11.505214",
     "exception": false,
     "start_time": "2021-05-09T00:12:11.440843",
     "status": "completed"
    },
    "tags": []
   },
   "outputs": [],
   "source": [
    "learner_lr = Learner(loss, model_lr, opt, config.num_epochs)\n",
    "acc_lr = ClfCallback(learner_lr, config.bs, training_xdata , testing_xdata, training_ydata, testing_ydata)\n",
    "learner_lr.set_callbacks([acc_lr])"
   ]
  },
  {
   "cell_type": "code",
   "execution_count": 22,
   "id": "average-outside",
   "metadata": {
    "execution": {
     "iopub.execute_input": "2021-05-09T00:12:11.609003Z",
     "iopub.status.busy": "2021-05-09T00:12:11.608385Z",
     "iopub.status.idle": "2021-05-09T00:12:32.661457Z",
     "shell.execute_reply": "2021-05-09T00:12:32.662589Z"
    },
    "papermill": {
     "duration": 21.108482,
     "end_time": "2021-05-09T00:12:32.662763",
     "exception": false,
     "start_time": "2021-05-09T00:12:11.554281",
     "status": "completed"
    },
    "tags": []
   },
   "outputs": [
    {
     "name": "stdout",
     "output_type": "stream",
     "text": [
      "====== Logistic Regression ======\n",
      "Epoch 0, Loss 0.2631\n",
      "Training Accuracy: 0.6012, Testing Accuracy: 0.5806\n",
      "\n"
     ]
    },
    {
     "name": "stdout",
     "output_type": "stream",
     "text": [
      "Epoch 10, Loss 0.1029\n",
      "Training Accuracy: 0.9115, Testing Accuracy: 0.9214\n",
      "\n"
     ]
    },
    {
     "name": "stdout",
     "output_type": "stream",
     "text": [
      "Epoch 20, Loss 0.0786\n",
      "Training Accuracy: 0.9293, Testing Accuracy: 0.9400\n",
      "\n"
     ]
    },
    {
     "name": "stdout",
     "output_type": "stream",
     "text": [
      "Epoch 30, Loss 0.0676\n",
      "Training Accuracy: 0.9382, Testing Accuracy: 0.9461\n",
      "\n"
     ]
    },
    {
     "name": "stdout",
     "output_type": "stream",
     "text": [
      "Epoch 40, Loss 0.0611\n",
      "Training Accuracy: 0.9428, Testing Accuracy: 0.9501\n",
      "\n"
     ]
    },
    {
     "name": "stdout",
     "output_type": "stream",
     "text": [
      "Epoch 50, Loss 0.0567\n",
      "Training Accuracy: 0.9450, Testing Accuracy: 0.9536\n",
      "\n"
     ]
    },
    {
     "name": "stdout",
     "output_type": "stream",
     "text": [
      "Epoch 60, Loss 0.0535\n",
      "Training Accuracy: 0.9467, Testing Accuracy: 0.9577\n",
      "\n"
     ]
    },
    {
     "name": "stdout",
     "output_type": "stream",
     "text": [
      "Epoch 70, Loss 0.051\n",
      "Training Accuracy: 0.9488, Testing Accuracy: 0.9592\n",
      "\n"
     ]
    },
    {
     "name": "stdout",
     "output_type": "stream",
     "text": [
      "Epoch 80, Loss 0.049\n",
      "Training Accuracy: 0.9508, Testing Accuracy: 0.9597\n",
      "\n"
     ]
    },
    {
     "name": "stdout",
     "output_type": "stream",
     "text": [
      "Epoch 90, Loss 0.0473\n",
      "Training Accuracy: 0.9523, Testing Accuracy: 0.9617\n",
      "\n"
     ]
    },
    {
     "name": "stdout",
     "output_type": "stream",
     "text": [
      "Epoch 100, Loss 0.0459\n",
      "Training Accuracy: 0.9535, Testing Accuracy: 0.9632\n",
      "\n"
     ]
    },
    {
     "name": "stdout",
     "output_type": "stream",
     "text": [
      "Epoch 110, Loss 0.0447\n",
      "Training Accuracy: 0.9540, Testing Accuracy: 0.9637\n",
      "\n"
     ]
    },
    {
     "name": "stdout",
     "output_type": "stream",
     "text": [
      "Epoch 120, Loss 0.0437\n",
      "Training Accuracy: 0.9550, Testing Accuracy: 0.9647\n",
      "\n"
     ]
    },
    {
     "name": "stdout",
     "output_type": "stream",
     "text": [
      "Epoch 130, Loss 0.0428\n",
      "Training Accuracy: 0.9555, Testing Accuracy: 0.9652\n",
      "\n"
     ]
    },
    {
     "name": "stdout",
     "output_type": "stream",
     "text": [
      "Epoch 140, Loss 0.042\n",
      "Training Accuracy: 0.9559, Testing Accuracy: 0.9652\n",
      "\n"
     ]
    },
    {
     "name": "stdout",
     "output_type": "stream",
     "text": [
      "Epoch 150, Loss 0.0412\n",
      "Training Accuracy: 0.9565, Testing Accuracy: 0.9647\n",
      "\n"
     ]
    },
    {
     "name": "stdout",
     "output_type": "stream",
     "text": [
      "Epoch 160, Loss 0.0406\n",
      "Training Accuracy: 0.9569, Testing Accuracy: 0.9647\n",
      "\n"
     ]
    },
    {
     "name": "stdout",
     "output_type": "stream",
     "text": [
      "Epoch 170, Loss 0.0399\n",
      "Training Accuracy: 0.9579, Testing Accuracy: 0.9647\n",
      "\n"
     ]
    },
    {
     "name": "stdout",
     "output_type": "stream",
     "text": [
      "Epoch 180, Loss 0.0394\n",
      "Training Accuracy: 0.9587, Testing Accuracy: 0.9647\n",
      "\n"
     ]
    },
    {
     "name": "stdout",
     "output_type": "stream",
     "text": [
      "Epoch 190, Loss 0.0389\n",
      "Training Accuracy: 0.9592, Testing Accuracy: 0.9652\n",
      "\n"
     ]
    },
    {
     "name": "stdout",
     "output_type": "stream",
     "text": [
      "Epoch 200, Loss 0.0384\n",
      "Training Accuracy: 0.9597, Testing Accuracy: 0.9662\n",
      "\n"
     ]
    },
    {
     "name": "stdout",
     "output_type": "stream",
     "text": [
      "Epoch 210, Loss 0.038\n",
      "Training Accuracy: 0.9602, Testing Accuracy: 0.9657\n",
      "\n"
     ]
    },
    {
     "name": "stdout",
     "output_type": "stream",
     "text": [
      "Epoch 220, Loss 0.0376\n",
      "Training Accuracy: 0.9605, Testing Accuracy: 0.9657\n",
      "\n"
     ]
    },
    {
     "name": "stdout",
     "output_type": "stream",
     "text": [
      "Epoch 230, Loss 0.0372\n",
      "Training Accuracy: 0.9604, Testing Accuracy: 0.9657\n",
      "\n"
     ]
    },
    {
     "name": "stdout",
     "output_type": "stream",
     "text": [
      "Epoch 240, Loss 0.0368\n",
      "Training Accuracy: 0.9605, Testing Accuracy: 0.9662\n",
      "\n"
     ]
    },
    {
     "name": "stdout",
     "output_type": "stream",
     "text": [
      "Epoch 250, Loss 0.0365\n",
      "Training Accuracy: 0.9608, Testing Accuracy: 0.9667\n",
      "\n"
     ]
    },
    {
     "data": {
      "text/plain": [
       "0.04714821410953926"
      ]
     },
     "execution_count": 22,
     "metadata": {},
     "output_type": "execute_result"
    }
   ],
   "source": [
    "print(\"====== Logistic Regression ======\")\n",
    "learner_lr.train_loop(dl)"
   ]
  },
  {
   "cell_type": "markdown",
   "id": "adjusted-possible",
   "metadata": {
    "papermill": {
     "duration": 0.053608,
     "end_time": "2021-05-09T00:12:32.772333",
     "exception": false,
     "start_time": "2021-05-09T00:12:32.718725",
     "status": "completed"
    },
    "tags": []
   },
   "source": [
    "### Comparing results of NN and LR"
   ]
  },
  {
   "cell_type": "code",
   "execution_count": 23,
   "id": "mental-multimedia",
   "metadata": {
    "execution": {
     "iopub.execute_input": "2021-05-09T00:12:32.896586Z",
     "iopub.status.busy": "2021-05-09T00:12:32.895903Z",
     "iopub.status.idle": "2021-05-09T00:12:33.200346Z",
     "shell.execute_reply": "2021-05-09T00:12:33.200816Z"
    },
    "papermill": {
     "duration": 0.369051,
     "end_time": "2021-05-09T00:12:33.200963",
     "exception": false,
     "start_time": "2021-05-09T00:12:32.831912",
     "status": "completed"
    },
    "tags": []
   },
   "outputs": [
    {
     "data": {
      "text/plain": [
       "<matplotlib.legend.Legend at 0x7f882fec71d0>"
      ]
     },
     "execution_count": 23,
     "metadata": {},
     "output_type": "execute_result"
    },
    {
     "data": {
      "image/png": "[encoded data removed]",
      "text/plain": [
       "<Figure size 1080x720 with 1 Axes>"
      ]
     },
     "metadata": {
      "needs_background": "light"
     },
     "output_type": "display_data"
    }
   ],
   "source": [
    "plt.figure(figsize=(15,10))\n",
    "\n",
    "# Neural Network plots\n",
    "plt.plot(acc_nn.accuracies, 'r-', label = \"Training Accuracies - NN\")\n",
    "plt.plot(acc_nn.test_accuracies, 'g-', label = \"Testing Accuracies - NN\")\n",
    "\n",
    "# Logistic Regression plots\n",
    "plt.plot(acc_lr.accuracies, 'k-', label = \"Training Accuracies - LR\")\n",
    "plt.plot(acc_lr.test_accuracies, 'b-', label = \"Testing Accuracies - LR\")\n",
    "\n",
    "plt.ylim(0.8, 1)\n",
    "\n",
    "plt.legend()\n",
    "\n"
   ]
  },
  {
   "cell_type": "markdown",
   "id": "sexual-flesh",
   "metadata": {
    "papermill": {
     "duration": 0.061604,
     "end_time": "2021-05-09T00:12:33.320951",
     "exception": false,
     "start_time": "2021-05-09T00:12:33.259347",
     "status": "completed"
    },
    "tags": []
   },
   "source": [
    "### From the plot, we can observe the following:\n",
    "- Neural Network achieves higher accuracy than the Logistic Regression model.\n",
    "- This apparently, is because of overfitting, i.e. NN captures more noise than data.\n",
    "- Testing accuracy of NN drops below the Training accuracy at higher epochs. This explains the over-fitting on training data.\n",
    "- Logistic Regression gives a reliable accuracy, without the above mentioned problem.\n"
   ]
  },
  {
   "cell_type": "markdown",
   "id": "institutional-pacific",
   "metadata": {
    "papermill": {
     "duration": 0.055525,
     "end_time": "2021-05-09T00:12:33.433698",
     "exception": false,
     "start_time": "2021-05-09T00:12:33.378173",
     "status": "completed"
    },
    "tags": []
   },
   "source": [
    "### Moving till the last but one layer (excluding it).\n",
    "#### Plotting the outputs of this layer of the NN."
   ]
  },
  {
   "cell_type": "code",
   "execution_count": 24,
   "id": "economic-server",
   "metadata": {
    "execution": {
     "iopub.execute_input": "2021-05-09T00:12:33.560177Z",
     "iopub.status.busy": "2021-05-09T00:12:33.559541Z",
     "iopub.status.idle": "2021-05-09T00:12:33.569120Z",
     "shell.execute_reply": "2021-05-09T00:12:33.568193Z"
    },
    "papermill": {
     "duration": 0.080225,
     "end_time": "2021-05-09T00:12:33.569240",
     "exception": false,
     "start_time": "2021-05-09T00:12:33.489015",
     "status": "completed"
    },
    "tags": []
   },
   "outputs": [],
   "source": [
    "model_new = Model(layers[:-2])"
   ]
  },
  {
   "cell_type": "code",
   "execution_count": 25,
   "id": "varied-upgrade",
   "metadata": {
    "execution": {
     "iopub.execute_input": "2021-05-09T00:12:33.687568Z",
     "iopub.status.busy": "2021-05-09T00:12:33.686840Z",
     "iopub.status.idle": "2021-05-09T00:12:33.714937Z",
     "shell.execute_reply": "2021-05-09T00:12:33.715815Z"
    },
    "papermill": {
     "duration": 0.089928,
     "end_time": "2021-05-09T00:12:33.715970",
     "exception": false,
     "start_time": "2021-05-09T00:12:33.626042",
     "status": "completed"
    },
    "tags": []
   },
   "outputs": [],
   "source": [
    "plot_testing = model_new(testing_xdata)"
   ]
  },
  {
   "cell_type": "code",
   "execution_count": 26,
   "id": "specific-handling",
   "metadata": {
    "execution": {
     "iopub.execute_input": "2021-05-09T00:12:33.854469Z",
     "iopub.status.busy": "2021-05-09T00:12:33.850472Z",
     "iopub.status.idle": "2021-05-09T00:12:34.093000Z",
     "shell.execute_reply": "2021-05-09T00:12:34.093466Z"
    },
    "papermill": {
     "duration": 0.31884,
     "end_time": "2021-05-09T00:12:34.093623",
     "exception": false,
     "start_time": "2021-05-09T00:12:33.774783",
     "status": "completed"
    },
    "tags": []
   },
   "outputs": [
    {
     "data": {
      "text/plain": [
       "Text(0.5, 1.0, 'Outputs')"
      ]
     },
     "execution_count": 26,
     "metadata": {},
     "output_type": "execute_result"
    },
    {
     "data": {
      "image/png": "[encoded data removed]",
      "text/plain": [
       "<Figure size 576x504 with 1 Axes>"
      ]
     },
     "metadata": {
      "needs_background": "light"
     },
     "output_type": "display_data"
    }
   ],
   "source": [
    "plt.figure(figsize=(8,7))\n",
    "plt.scatter(plot_testing[:,0], plot_testing[:,1], alpha = 0.1, c = y_test.ravel());\n",
    "plt.title('Outputs')"
   ]
  },
  {
   "cell_type": "markdown",
   "id": "described-knowing",
   "metadata": {
    "papermill": {
     "duration": 0.081728,
     "end_time": "2021-05-09T00:12:34.235093",
     "exception": false,
     "start_time": "2021-05-09T00:12:34.153365",
     "status": "completed"
    },
    "tags": []
   },
   "source": [
    "### Plotting probability contours"
   ]
  },
  {
   "cell_type": "code",
   "execution_count": 27,
   "id": "needed-growing",
   "metadata": {
    "execution": {
     "iopub.execute_input": "2021-05-09T00:12:34.369680Z",
     "iopub.status.busy": "2021-05-09T00:12:34.368989Z",
     "iopub.status.idle": "2021-05-09T00:12:34.382697Z",
     "shell.execute_reply": "2021-05-09T00:12:34.382081Z"
    },
    "papermill": {
     "duration": 0.085138,
     "end_time": "2021-05-09T00:12:34.382905",
     "exception": false,
     "start_time": "2021-05-09T00:12:34.297767",
     "status": "completed"
    },
    "tags": []
   },
   "outputs": [],
   "source": [
    "model_prob = Model(layers[-2:]) "
   ]
  },
  {
   "cell_type": "code",
   "execution_count": 28,
   "id": "introductory-enforcement",
   "metadata": {
    "execution": {
     "iopub.execute_input": "2021-05-09T00:12:34.513471Z",
     "iopub.status.busy": "2021-05-09T00:12:34.512863Z",
     "iopub.status.idle": "2021-05-09T00:12:34.527749Z",
     "shell.execute_reply": "2021-05-09T00:12:34.528286Z"
    },
    "papermill": {
     "duration": 0.082206,
     "end_time": "2021-05-09T00:12:34.528465",
     "exception": false,
     "start_time": "2021-05-09T00:12:34.446259",
     "status": "completed"
    },
    "tags": []
   },
   "outputs": [],
   "source": [
    "# Adjust the x and y ranges according to the above generated plot.\n",
    "x_range = np.linspace(-4, 1, 100) \n",
    "y_range = np.linspace(-6, 6, 100) \n",
    "x_grid, y_grid = np.meshgrid(x_range, y_range) # x_grid and y_grig are of size 100 X 100\n",
    "\n",
    "# converting x_grid and y_grid to continuous arrays\n",
    "x_grid_flat = np.ravel(x_grid)\n",
    "y_grid_flat = np.ravel(y_grid)\n",
    "\n",
    "# The last layer of the current model takes two columns as input. Hence transpose of np.vstack() is required.\n",
    "X = np.vstack((x_grid_flat, y_grid_flat)).T\n",
    "\n",
    "# x_grid and y_grid are of size 100 x 100\n",
    "probability_contour = model_prob(X).reshape(100,100) "
   ]
  },
  {
   "cell_type": "code",
   "execution_count": 29,
   "id": "understood-landing",
   "metadata": {
    "execution": {
     "iopub.execute_input": "2021-05-09T00:12:34.666926Z",
     "iopub.status.busy": "2021-05-09T00:12:34.666180Z",
     "iopub.status.idle": "2021-05-09T00:12:34.974222Z",
     "shell.execute_reply": "2021-05-09T00:12:34.973706Z"
    },
    "papermill": {
     "duration": 0.379709,
     "end_time": "2021-05-09T00:12:34.974359",
     "exception": false,
     "start_time": "2021-05-09T00:12:34.594650",
     "status": "completed"
    },
    "tags": []
   },
   "outputs": [
    {
     "data": {
      "image/png": "[encoded data removed]",
      "text/plain": [
       "<Figure size 720x648 with 1 Axes>"
      ]
     },
     "metadata": {
      "needs_background": "light"
     },
     "output_type": "display_data"
    }
   ],
   "source": [
    "plt.figure(figsize=(10,9))\n",
    "plt.scatter(plot_testing[:,0], plot_testing[:,1], alpha = 0.1, c = y_test.ravel())\n",
    "contours = plt.contour(x_grid,y_grid,probability_contour)\n",
    "plt.title('Probability Contours')\n",
    "plt.clabel(contours, inline = True );"
   ]
  }
 ],
 "metadata": {
  "kernelspec": {
   "display_name": "Python 3",
   "language": "python",
   "name": "python3"
  },
  "language_info": {
   "codemirror_mode": {
    "name": "ipython",
    "version": 3
   },
   "file_extension": ".py",
   "mimetype": "text/x-python",
   "name": "python",
   "nbconvert_exporter": "python",
   "pygments_lexer": "ipython3",
   "version": "3.6.13"
  },
  "papermill": {
   "duration": 206.470695,
   "end_time": "2021-05-09T00:12:36.348632",
   "environment_variables": {},
   "exception": null,
   "input_path": "2020-08-11-NeuralNetwork.ipynb",
   "output_path": "2020-08-11-NeuralNetwork.ipynb",
   "parameters": {},
   "start_time": "2021-05-09T00:09:09.877937",
   "version": "2.1.2"
  }
 },
 "nbformat": 4,
 "nbformat_minor": 5
}