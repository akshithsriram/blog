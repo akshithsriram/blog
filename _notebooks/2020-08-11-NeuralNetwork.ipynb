{
 "cells": [
  {
   "cell_type": "markdown",
   "metadata": {
    "papermill": {
     "duration": 0.030942,
     "end_time": "2020-09-07T10:04:44.522182",
     "exception": false,
     "start_time": "2020-09-07T10:04:44.491240",
     "status": "completed"
    },
    "tags": []
   },
   "source": [
    "# \"A Basic Neural Network: Differentiate Hand-Written Digits\"\n",
    "\n",
    "- badges: true\n",
    "- author: Akshith Sriram"
   ]
  },
  {
   "cell_type": "markdown",
   "metadata": {
    "papermill": {
     "duration": 0.025643,
     "end_time": "2020-09-07T10:04:44.576052",
     "exception": false,
     "start_time": "2020-09-07T10:04:44.550409",
     "status": "completed"
    },
    "tags": []
   },
   "source": [
    "### Key Objectives:\n",
    "- Building a neural network that differentiates two hand-written digits 3 and 8.\n",
    "- Comparing the results of this Neural Network (NN) to that of a Logistic Regression (LR) model.\n",
    "\n",
    "### Requirements:\n",
    "- 'Kudzu' : A neural network library that was designed during our course by [Univ.AI](www.univ.ai). \n",
    "- MNIST Database\n",
    "\n",
    "If MNIST is not installed, use the command `!pip install mnist` given below.\n",
    "It can be run both from the command line and Jupyter Notebook."
   ]
  },
  {
   "cell_type": "code",
   "execution_count": 1,
   "metadata": {
    "execution": {
     "iopub.execute_input": "2020-09-07T10:04:44.638808Z",
     "iopub.status.busy": "2020-09-07T10:04:44.637237Z",
     "iopub.status.idle": "2020-09-07T10:04:46.236141Z",
     "shell.execute_reply": "2020-09-07T10:04:46.235245Z"
    },
    "papermill": {
     "duration": 1.632988,
     "end_time": "2020-09-07T10:04:46.236399",
     "exception": false,
     "start_time": "2020-09-07T10:04:44.603411",
     "status": "completed"
    },
    "tags": []
   },
   "outputs": [
    {
     "name": "stdout",
     "output_type": "stream",
     "text": [
      "Collecting mnist\r\n"
     ]
    },
    {
     "name": "stdout",
     "output_type": "stream",
     "text": [
      "  Downloading mnist-0.2.2-py2.py3-none-any.whl (3.5 kB)\r\n",
      "Requirement already satisfied: numpy in /opt/hostedtoolcache/Python/3.6.12/x64/lib/python3.6/site-packages (from mnist) (1.19.1)\r\n"
     ]
    },
    {
     "name": "stdout",
     "output_type": "stream",
     "text": [
      "Installing collected packages: mnist\r\n"
     ]
    },
    {
     "name": "stdout",
     "output_type": "stream",
     "text": [
      "Successfully installed mnist-0.2.2\r\n"
     ]
    }
   ],
   "source": [
    "!pip install mnist "
   ]
  },
  {
   "cell_type": "markdown",
   "metadata": {
    "papermill": {
     "duration": 0.027071,
     "end_time": "2020-09-07T10:04:46.292703",
     "exception": false,
     "start_time": "2020-09-07T10:04:46.265632",
     "status": "completed"
    },
    "tags": []
   },
   "source": [
    "#### Importing necessary libraries"
   ]
  },
  {
   "cell_type": "code",
   "execution_count": 2,
   "metadata": {
    "execution": {
     "iopub.execute_input": "2020-09-07T10:04:46.357961Z",
     "iopub.status.busy": "2020-09-07T10:04:46.357343Z",
     "iopub.status.idle": "2020-09-07T10:04:46.998928Z",
     "shell.execute_reply": "2020-09-07T10:04:46.998039Z"
    },
    "papermill": {
     "duration": 0.678056,
     "end_time": "2020-09-07T10:04:46.999165",
     "exception": false,
     "start_time": "2020-09-07T10:04:46.321109",
     "status": "completed"
    },
    "tags": []
   },
   "outputs": [],
   "source": [
    "%load_ext autoreload\n",
    "%autoreload 2\n",
    "\n",
    "%matplotlib inline\n",
    "import matplotlib.pyplot as plt\n",
    "\n",
    "import numpy as np\n",
    "import pandas as pd"
   ]
  },
  {
   "cell_type": "markdown",
   "metadata": {
    "papermill": {
     "duration": 0.032512,
     "end_time": "2020-09-07T10:04:47.060747",
     "exception": false,
     "start_time": "2020-09-07T10:04:47.028235",
     "status": "completed"
    },
    "tags": []
   },
   "source": [
    "### Preparing the Data"
   ]
  },
  {
   "cell_type": "code",
   "execution_count": 3,
   "metadata": {
    "execution": {
     "iopub.execute_input": "2020-09-07T10:04:47.122299Z",
     "iopub.status.busy": "2020-09-07T10:04:47.121298Z",
     "iopub.status.idle": "2020-09-07T10:04:47.134516Z",
     "shell.execute_reply": "2020-09-07T10:04:47.134005Z"
    },
    "papermill": {
     "duration": 0.045819,
     "end_time": "2020-09-07T10:04:47.134661",
     "exception": false,
     "start_time": "2020-09-07T10:04:47.088842",
     "status": "completed"
    },
    "tags": []
   },
   "outputs": [],
   "source": [
    "import mnist"
   ]
  },
  {
   "cell_type": "code",
   "execution_count": 4,
   "metadata": {
    "execution": {
     "iopub.execute_input": "2020-09-07T10:04:47.196927Z",
     "iopub.status.busy": "2020-09-07T10:04:47.196308Z",
     "iopub.status.idle": "2020-09-07T10:04:48.936921Z",
     "shell.execute_reply": "2020-09-07T10:04:48.935945Z"
    },
    "papermill": {
     "duration": 1.775079,
     "end_time": "2020-09-07T10:04:48.937076",
     "exception": false,
     "start_time": "2020-09-07T10:04:47.161997",
     "status": "completed"
    },
    "tags": []
   },
   "outputs": [],
   "source": [
    "train_images = mnist.train_images()\n",
    "train_labels = mnist.train_labels()"
   ]
  },
  {
   "cell_type": "code",
   "execution_count": 5,
   "metadata": {
    "execution": {
     "iopub.execute_input": "2020-09-07T10:04:49.136214Z",
     "iopub.status.busy": "2020-09-07T10:04:49.134677Z",
     "iopub.status.idle": "2020-09-07T10:04:49.148540Z",
     "shell.execute_reply": "2020-09-07T10:04:49.149049Z"
    },
    "papermill": {
     "duration": 0.183274,
     "end_time": "2020-09-07T10:04:49.149212",
     "exception": false,
     "start_time": "2020-09-07T10:04:48.965938",
     "status": "completed"
    },
    "tags": []
   },
   "outputs": [
    {
     "data": {
      "text/plain": [
       "((60000, 28, 28), (60000,))"
      ]
     },
     "execution_count": 5,
     "metadata": {},
     "output_type": "execute_result"
    }
   ],
   "source": [
    "train_images.shape, train_labels.shape"
   ]
  },
  {
   "cell_type": "code",
   "execution_count": 6,
   "metadata": {
    "execution": {
     "iopub.execute_input": "2020-09-07T10:04:49.582886Z",
     "iopub.status.busy": "2020-09-07T10:04:49.582094Z",
     "iopub.status.idle": "2020-09-07T10:04:50.376800Z",
     "shell.execute_reply": "2020-09-07T10:04:50.376250Z"
    },
    "papermill": {
     "duration": 1.200249,
     "end_time": "2020-09-07T10:04:50.376967",
     "exception": false,
     "start_time": "2020-09-07T10:04:49.176718",
     "status": "completed"
    },
    "tags": []
   },
   "outputs": [],
   "source": [
    "test_images = mnist.test_images()\n",
    "test_labels = mnist.test_labels()"
   ]
  },
  {
   "cell_type": "code",
   "execution_count": 7,
   "metadata": {
    "execution": {
     "iopub.execute_input": "2020-09-07T10:04:50.437675Z",
     "iopub.status.busy": "2020-09-07T10:04:50.437076Z",
     "iopub.status.idle": "2020-09-07T10:04:50.452750Z",
     "shell.execute_reply": "2020-09-07T10:04:50.453280Z"
    },
    "papermill": {
     "duration": 0.048281,
     "end_time": "2020-09-07T10:04:50.453499",
     "exception": false,
     "start_time": "2020-09-07T10:04:50.405218",
     "status": "completed"
    },
    "tags": []
   },
   "outputs": [
    {
     "data": {
      "text/plain": [
       "((10000, 28, 28), (10000,))"
      ]
     },
     "execution_count": 7,
     "metadata": {},
     "output_type": "execute_result"
    }
   ],
   "source": [
    "test_images.shape, test_labels.shape"
   ]
  },
  {
   "cell_type": "code",
   "execution_count": 8,
   "metadata": {
    "execution": {
     "iopub.execute_input": "2020-09-07T10:04:50.515581Z",
     "iopub.status.busy": "2020-09-07T10:04:50.514980Z",
     "iopub.status.idle": "2020-09-07T10:04:50.682941Z",
     "shell.execute_reply": "2020-09-07T10:04:50.682328Z"
    },
    "papermill": {
     "duration": 0.200998,
     "end_time": "2020-09-07T10:04:50.683078",
     "exception": false,
     "start_time": "2020-09-07T10:04:50.482080",
     "status": "completed"
    },
    "tags": []
   },
   "outputs": [
    {
     "name": "stdout",
     "output_type": "stream",
     "text": [
      "2\n"
     ]
    },
    {
     "data": {
      "text/plain": [
       "<matplotlib.image.AxesImage at 0x7ffbc41f0be0>"
      ]
     },
     "execution_count": 8,
     "metadata": {},
     "output_type": "execute_result"
    },
    {
     "data": {
      "image/png": "[encoded data removed]",
      "text/plain": [
       "<Figure size 432x288 with 1 Axes>"
      ]
     },
     "metadata": {
      "needs_background": "light"
     },
     "output_type": "display_data"
    }
   ],
   "source": [
    "image_index = 7776 # You may select anything up to 60,000\n",
    "print(train_labels[image_index]) \n",
    "plt.imshow(train_images[image_index], cmap='Greys')"
   ]
  },
  {
   "cell_type": "markdown",
   "metadata": {
    "papermill": {
     "duration": 0.03034,
     "end_time": "2020-09-07T10:04:50.743207",
     "exception": false,
     "start_time": "2020-09-07T10:04:50.712867",
     "status": "completed"
    },
    "tags": []
   },
   "source": [
    "## Filter data to get 3 and 8 out"
   ]
  },
  {
   "cell_type": "code",
   "execution_count": 9,
   "metadata": {
    "execution": {
     "iopub.execute_input": "2020-09-07T10:04:50.810482Z",
     "iopub.status.busy": "2020-09-07T10:04:50.809699Z",
     "iopub.status.idle": "2020-09-07T10:04:50.828497Z",
     "shell.execute_reply": "2020-09-07T10:04:50.827750Z"
    },
    "papermill": {
     "duration": 0.054432,
     "end_time": "2020-09-07T10:04:50.828709",
     "exception": false,
     "start_time": "2020-09-07T10:04:50.774277",
     "status": "completed"
    },
    "tags": []
   },
   "outputs": [],
   "source": [
    "train_filter = np.where((train_labels == 3 ) | (train_labels == 8))\n",
    "test_filter = np.where((test_labels == 3) | (test_labels == 8))\n",
    "X_train, y_train = train_images[train_filter], train_labels[train_filter]\n",
    "X_test, y_test = test_images[test_filter], test_labels[test_filter]"
   ]
  },
  {
   "cell_type": "markdown",
   "metadata": {
    "papermill": {
     "duration": 0.03041,
     "end_time": "2020-09-07T10:04:50.890754",
     "exception": false,
     "start_time": "2020-09-07T10:04:50.860344",
     "status": "completed"
    },
    "tags": []
   },
   "source": [
    "We normalize the pixel values in the 0 to 1 range"
   ]
  },
  {
   "cell_type": "code",
   "execution_count": 10,
   "metadata": {
    "execution": {
     "iopub.execute_input": "2020-09-07T10:04:50.960183Z",
     "iopub.status.busy": "2020-09-07T10:04:50.959529Z",
     "iopub.status.idle": "2020-09-07T10:04:51.012337Z",
     "shell.execute_reply": "2020-09-07T10:04:51.011788Z"
    },
    "papermill": {
     "duration": 0.091413,
     "end_time": "2020-09-07T10:04:51.012477",
     "exception": false,
     "start_time": "2020-09-07T10:04:50.921064",
     "status": "completed"
    },
    "tags": []
   },
   "outputs": [],
   "source": [
    "X_train = X_train/255.\n",
    "X_test = X_test/255."
   ]
  },
  {
   "cell_type": "markdown",
   "metadata": {
    "papermill": {
     "duration": 0.032539,
     "end_time": "2020-09-07T10:04:51.074561",
     "exception": false,
     "start_time": "2020-09-07T10:04:51.042022",
     "status": "completed"
    },
    "tags": []
   },
   "source": [
    "Setup the labels as 1 (when the digit is 3) and 0 (when the digit is 8)"
   ]
  },
  {
   "cell_type": "code",
   "execution_count": 11,
   "metadata": {
    "execution": {
     "iopub.execute_input": "2020-09-07T10:04:51.145861Z",
     "iopub.status.busy": "2020-09-07T10:04:51.139030Z",
     "iopub.status.idle": "2020-09-07T10:04:51.152672Z",
     "shell.execute_reply": "2020-09-07T10:04:51.152170Z"
    },
    "papermill": {
     "duration": 0.047056,
     "end_time": "2020-09-07T10:04:51.152813",
     "exception": false,
     "start_time": "2020-09-07T10:04:51.105757",
     "status": "completed"
    },
    "tags": []
   },
   "outputs": [],
   "source": [
    "y_train = 1*(y_train==3)\n",
    "y_test = 1*(y_test==3)"
   ]
  },
  {
   "cell_type": "code",
   "execution_count": 12,
   "metadata": {
    "execution": {
     "iopub.execute_input": "2020-09-07T10:04:51.224197Z",
     "iopub.status.busy": "2020-09-07T10:04:51.223527Z",
     "iopub.status.idle": "2020-09-07T10:04:51.237262Z",
     "shell.execute_reply": "2020-09-07T10:04:51.236713Z"
    },
    "papermill": {
     "duration": 0.046962,
     "end_time": "2020-09-07T10:04:51.237399",
     "exception": false,
     "start_time": "2020-09-07T10:04:51.190437",
     "status": "completed"
    },
    "tags": []
   },
   "outputs": [
    {
     "data": {
      "text/plain": [
       "((11982, 28, 28), (1984, 28, 28))"
      ]
     },
     "execution_count": 12,
     "metadata": {},
     "output_type": "execute_result"
    }
   ],
   "source": [
    "X_train.shape, X_test.shape"
   ]
  },
  {
   "cell_type": "markdown",
   "metadata": {
    "papermill": {
     "duration": 0.032975,
     "end_time": "2020-09-07T10:04:51.300181",
     "exception": false,
     "start_time": "2020-09-07T10:04:51.267206",
     "status": "completed"
    },
    "tags": []
   },
   "source": [
    "### Reshape the input data to create a linear array"
   ]
  },
  {
   "cell_type": "code",
   "execution_count": 13,
   "metadata": {
    "execution": {
     "iopub.execute_input": "2020-09-07T10:04:51.365907Z",
     "iopub.status.busy": "2020-09-07T10:04:51.365303Z",
     "iopub.status.idle": "2020-09-07T10:04:51.379628Z",
     "shell.execute_reply": "2020-09-07T10:04:51.379115Z"
    },
    "papermill": {
     "duration": 0.050553,
     "end_time": "2020-09-07T10:04:51.379763",
     "exception": false,
     "start_time": "2020-09-07T10:04:51.329210",
     "status": "completed"
    },
    "tags": []
   },
   "outputs": [
    {
     "data": {
      "text/plain": [
       "((11982, 784), (1984, 784))"
      ]
     },
     "execution_count": 13,
     "metadata": {},
     "output_type": "execute_result"
    }
   ],
   "source": [
    "X_train = X_train.reshape(X_train.shape[0], -1)\n",
    "X_test = X_test.reshape(X_test.shape[0], -1)\n",
    "X_train.shape, X_test.shape"
   ]
  },
  {
   "cell_type": "markdown",
   "metadata": {
    "papermill": {
     "duration": 0.034086,
     "end_time": "2020-09-07T10:04:51.448479",
     "exception": false,
     "start_time": "2020-09-07T10:04:51.414393",
     "status": "completed"
    },
    "tags": []
   },
   "source": [
    "### Importing appropriate functions from 'Kudzu'"
   ]
  },
  {
   "cell_type": "code",
   "execution_count": 14,
   "metadata": {
    "execution": {
     "iopub.execute_input": "2020-09-07T10:04:51.517547Z",
     "iopub.status.busy": "2020-09-07T10:04:51.516911Z",
     "iopub.status.idle": "2020-09-07T10:04:51.539052Z",
     "shell.execute_reply": "2020-09-07T10:04:51.538502Z"
    },
    "papermill": {
     "duration": 0.06043,
     "end_time": "2020-09-07T10:04:51.539191",
     "exception": false,
     "start_time": "2020-09-07T10:04:51.478761",
     "status": "completed"
    },
    "tags": []
   },
   "outputs": [],
   "source": [
    "from kudzu.layer import Sigmoid\n",
    "from kudzu.layer import Relu\n",
    "from kudzu.layer import Affine, Sigmoid\n",
    "\n",
    "from kudzu.model import Model\n",
    "from kudzu.train import Learner\n",
    "from kudzu.optim import GD\n",
    "from kudzu.data import Data, Dataloader, Sampler\n",
    "\n",
    "from kudzu.callbacks import AccCallback\n",
    "from kudzu.callbacks import ClfCallback\n",
    "\n",
    "from kudzu.loss import MSE"
   ]
  },
  {
   "cell_type": "markdown",
   "metadata": {
    "papermill": {
     "duration": 0.034334,
     "end_time": "2020-09-07T10:04:51.602951",
     "exception": false,
     "start_time": "2020-09-07T10:04:51.568617",
     "status": "completed"
    },
    "tags": []
   },
   "source": [
    "### Let us create a `Config` class, to store important parameters. \n",
    "This class essentially plays the role of a dictionary."
   ]
  },
  {
   "cell_type": "code",
   "execution_count": 15,
   "metadata": {
    "execution": {
     "iopub.execute_input": "2020-09-07T10:04:51.670658Z",
     "iopub.status.busy": "2020-09-07T10:04:51.669755Z",
     "iopub.status.idle": "2020-09-07T10:04:51.684925Z",
     "shell.execute_reply": "2020-09-07T10:04:51.683815Z"
    },
    "papermill": {
     "duration": 0.049924,
     "end_time": "2020-09-07T10:04:51.685158",
     "exception": false,
     "start_time": "2020-09-07T10:04:51.635234",
     "status": "completed"
    },
    "tags": []
   },
   "outputs": [],
   "source": [
    "class Config:\n",
    "    pass\n",
    "config = Config()\n",
    "config.lr = 0.001\n",
    "config.num_epochs = 251\n",
    "config.bs = 50"
   ]
  },
  {
   "cell_type": "markdown",
   "metadata": {
    "papermill": {
     "duration": 0.029507,
     "end_time": "2020-09-07T10:04:51.746558",
     "exception": false,
     "start_time": "2020-09-07T10:04:51.717051",
     "status": "completed"
    },
    "tags": []
   },
   "source": [
    "### Initializing data to the variables"
   ]
  },
  {
   "cell_type": "code",
   "execution_count": 16,
   "metadata": {
    "execution": {
     "iopub.execute_input": "2020-09-07T10:04:51.813430Z",
     "iopub.status.busy": "2020-09-07T10:04:51.812767Z",
     "iopub.status.idle": "2020-09-07T10:04:51.828195Z",
     "shell.execute_reply": "2020-09-07T10:04:51.827291Z"
    },
    "papermill": {
     "duration": 0.052058,
     "end_time": "2020-09-07T10:04:51.828414",
     "exception": false,
     "start_time": "2020-09-07T10:04:51.776356",
     "status": "completed"
    },
    "tags": []
   },
   "outputs": [],
   "source": [
    "data = Data(X_train, y_train.reshape(-1,1))\n",
    "sampler = Sampler(data, config.bs, shuffle=True)\n",
    "\n",
    "dl = Dataloader(data, sampler)\n",
    "\n",
    "opt = GD(config.lr)\n",
    "loss = MSE()"
   ]
  },
  {
   "cell_type": "code",
   "execution_count": 17,
   "metadata": {
    "execution": {
     "iopub.execute_input": "2020-09-07T10:04:51.897172Z",
     "iopub.status.busy": "2020-09-07T10:04:51.896555Z",
     "iopub.status.idle": "2020-09-07T10:04:51.909824Z",
     "shell.execute_reply": "2020-09-07T10:04:51.909310Z"
    },
    "papermill": {
     "duration": 0.04956,
     "end_time": "2020-09-07T10:04:51.909967",
     "exception": false,
     "start_time": "2020-09-07T10:04:51.860407",
     "status": "completed"
    },
    "tags": []
   },
   "outputs": [],
   "source": [
    "training_xdata = X_train\n",
    "testing_xdata = X_test\n",
    "training_ydata = y_train.reshape(-1,1)\n",
    "testing_ydata = y_test.reshape(-1,1)"
   ]
  },
  {
   "cell_type": "markdown",
   "metadata": {
    "papermill": {
     "duration": 0.02936,
     "end_time": "2020-09-07T10:04:51.983473",
     "exception": false,
     "start_time": "2020-09-07T10:04:51.954113",
     "status": "completed"
    },
    "tags": []
   },
   "source": [
    "### Running Models with the Training data\n",
    "Details about the network layers:\n",
    "- A first affine layer has 784 inputs and does 100 affine transforms. These are followed by a Relu\n",
    "- A second affine layer has 100 inputs from the 100 activations of the past layer, and does 100 affine transforms. These are followed by a Relu\n",
    "- A third affine layer has 100 activations and does 2 affine transformations to create an embedding for visualization. There is no non-linearity here.\n",
    "- A final \"logistic regression\" which has an affine transform from 2 inputs to 1 output, which is squeezed through a sigmoid.\n",
    "\n",
    "Help taken from Anshuman's Notebook."
   ]
  },
  {
   "cell_type": "code",
   "execution_count": 18,
   "metadata": {
    "execution": {
     "iopub.execute_input": "2020-09-07T10:04:52.048604Z",
     "iopub.status.busy": "2020-09-07T10:04:52.047985Z",
     "iopub.status.idle": "2020-09-07T10:04:52.067092Z",
     "shell.execute_reply": "2020-09-07T10:04:52.066587Z"
    },
    "papermill": {
     "duration": 0.05399,
     "end_time": "2020-09-07T10:04:52.067237",
     "exception": false,
     "start_time": "2020-09-07T10:04:52.013247",
     "status": "completed"
    },
    "tags": []
   },
   "outputs": [],
   "source": [
    "# layers for the Neural Network\n",
    "layers = [Affine(\"first\", 784, 100), Relu(\"first\"), Affine(\"second\", 100, 100), Relu(\"second\"), Affine(\"third\", 100, 2), Affine(\"final\", 2, 1), Sigmoid(\"final\")]\n",
    "model_nn = Model(layers)\n",
    "\n",
    "# layers for the Logistic Regression\n",
    "layers_lr = [Affine(\"logits\", 784, 1), Sigmoid(\"sigmoid\")]\n",
    "model_lr = Model(layers_lr)"
   ]
  },
  {
   "cell_type": "code",
   "execution_count": 19,
   "metadata": {
    "execution": {
     "iopub.execute_input": "2020-09-07T10:04:52.135457Z",
     "iopub.status.busy": "2020-09-07T10:04:52.134851Z",
     "iopub.status.idle": "2020-09-07T10:04:52.148616Z",
     "shell.execute_reply": "2020-09-07T10:04:52.148069Z"
    },
    "papermill": {
     "duration": 0.04908,
     "end_time": "2020-09-07T10:04:52.148755",
     "exception": false,
     "start_time": "2020-09-07T10:04:52.099675",
     "status": "completed"
    },
    "tags": []
   },
   "outputs": [],
   "source": [
    "# suffix _nn stands for Neural Network.\n",
    "learner_nn = Learner(loss, model_nn, opt, config.num_epochs)\n",
    "acc_nn = ClfCallback(learner_nn, config.bs, training_xdata , testing_xdata, training_ydata, testing_ydata)\n",
    "learner_nn.set_callbacks([acc_nn])"
   ]
  },
  {
   "cell_type": "code",
   "execution_count": 20,
   "metadata": {
    "execution": {
     "iopub.execute_input": "2020-09-07T10:04:52.211410Z",
     "iopub.status.busy": "2020-09-07T10:04:52.210820Z",
     "iopub.status.idle": "2020-09-07T10:06:36.628858Z",
     "shell.execute_reply": "2020-09-07T10:06:36.629359Z"
    },
    "papermill": {
     "duration": 104.451261,
     "end_time": "2020-09-07T10:06:36.629519",
     "exception": false,
     "start_time": "2020-09-07T10:04:52.178258",
     "status": "completed"
    },
    "tags": []
   },
   "outputs": [
    {
     "name": "stdout",
     "output_type": "stream",
     "text": [
      "====== Neural Network ======\n"
     ]
    },
    {
     "name": "stdout",
     "output_type": "stream",
     "text": [
      "Epoch 0, Loss 0.2487\n",
      "Training Accuracy: 0.5382, Testing Accuracy: 0.5257\n",
      "\n"
     ]
    },
    {
     "name": "stdout",
     "output_type": "stream",
     "text": [
      "Epoch 10, Loss 0.1938\n",
      "Training Accuracy: 0.8691, Testing Accuracy: 0.8775\n",
      "\n"
     ]
    },
    {
     "name": "stdout",
     "output_type": "stream",
     "text": [
      "Epoch 20, Loss 0.0943\n",
      "Training Accuracy: 0.9156, Testing Accuracy: 0.9264\n",
      "\n"
     ]
    },
    {
     "name": "stdout",
     "output_type": "stream",
     "text": [
      "Epoch 30, Loss 0.0591\n",
      "Training Accuracy: 0.9381, Testing Accuracy: 0.9501\n",
      "\n"
     ]
    },
    {
     "name": "stdout",
     "output_type": "stream",
     "text": [
      "Epoch 40, Loss 0.0462\n",
      "Training Accuracy: 0.9492, Testing Accuracy: 0.9577\n",
      "\n"
     ]
    },
    {
     "name": "stdout",
     "output_type": "stream",
     "text": [
      "Epoch 50, Loss 0.0398\n",
      "Training Accuracy: 0.9543, Testing Accuracy: 0.9612\n",
      "\n"
     ]
    },
    {
     "name": "stdout",
     "output_type": "stream",
     "text": [
      "Epoch 60, Loss 0.036\n",
      "Training Accuracy: 0.9572, Testing Accuracy: 0.9622\n",
      "\n"
     ]
    },
    {
     "name": "stdout",
     "output_type": "stream",
     "text": [
      "Epoch 70, Loss 0.0335\n",
      "Training Accuracy: 0.9592, Testing Accuracy: 0.9642\n",
      "\n"
     ]
    },
    {
     "name": "stdout",
     "output_type": "stream",
     "text": [
      "Epoch 80, Loss 0.0316\n",
      "Training Accuracy: 0.9621, Testing Accuracy: 0.9647\n",
      "\n"
     ]
    },
    {
     "name": "stdout",
     "output_type": "stream",
     "text": [
      "Epoch 90, Loss 0.0301\n",
      "Training Accuracy: 0.9636, Testing Accuracy: 0.9647\n",
      "\n"
     ]
    },
    {
     "name": "stdout",
     "output_type": "stream",
     "text": [
      "Epoch 100, Loss 0.0288\n",
      "Training Accuracy: 0.9650, Testing Accuracy: 0.9662\n",
      "\n"
     ]
    },
    {
     "name": "stdout",
     "output_type": "stream",
     "text": [
      "Epoch 110, Loss 0.0277\n",
      "Training Accuracy: 0.9670, Testing Accuracy: 0.9662\n",
      "\n"
     ]
    },
    {
     "name": "stdout",
     "output_type": "stream",
     "text": [
      "Epoch 120, Loss 0.0268\n",
      "Training Accuracy: 0.9679, Testing Accuracy: 0.9662\n",
      "\n"
     ]
    },
    {
     "name": "stdout",
     "output_type": "stream",
     "text": [
      "Epoch 130, Loss 0.0259\n",
      "Training Accuracy: 0.9685, Testing Accuracy: 0.9672\n",
      "\n"
     ]
    },
    {
     "name": "stdout",
     "output_type": "stream",
     "text": [
      "Epoch 140, Loss 0.0252\n",
      "Training Accuracy: 0.9694, Testing Accuracy: 0.9667\n",
      "\n"
     ]
    },
    {
     "name": "stdout",
     "output_type": "stream",
     "text": [
      "Epoch 150, Loss 0.0245\n",
      "Training Accuracy: 0.9701, Testing Accuracy: 0.9672\n",
      "\n"
     ]
    },
    {
     "name": "stdout",
     "output_type": "stream",
     "text": [
      "Epoch 160, Loss 0.0238\n",
      "Training Accuracy: 0.9715, Testing Accuracy: 0.9682\n",
      "\n"
     ]
    },
    {
     "name": "stdout",
     "output_type": "stream",
     "text": [
      "Epoch 170, Loss 0.0232\n",
      "Training Accuracy: 0.9720, Testing Accuracy: 0.9682\n",
      "\n"
     ]
    },
    {
     "name": "stdout",
     "output_type": "stream",
     "text": [
      "Epoch 180, Loss 0.0226\n",
      "Training Accuracy: 0.9729, Testing Accuracy: 0.9688\n",
      "\n"
     ]
    },
    {
     "name": "stdout",
     "output_type": "stream",
     "text": [
      "Epoch 190, Loss 0.0221\n",
      "Training Accuracy: 0.9744, Testing Accuracy: 0.9698\n",
      "\n"
     ]
    },
    {
     "name": "stdout",
     "output_type": "stream",
     "text": [
      "Epoch 200, Loss 0.0216\n",
      "Training Accuracy: 0.9751, Testing Accuracy: 0.9693\n",
      "\n"
     ]
    },
    {
     "name": "stdout",
     "output_type": "stream",
     "text": [
      "Epoch 210, Loss 0.0211\n",
      "Training Accuracy: 0.9755, Testing Accuracy: 0.9698\n",
      "\n"
     ]
    },
    {
     "name": "stdout",
     "output_type": "stream",
     "text": [
      "Epoch 220, Loss 0.0207\n",
      "Training Accuracy: 0.9766, Testing Accuracy: 0.9703\n",
      "\n"
     ]
    },
    {
     "name": "stdout",
     "output_type": "stream",
     "text": [
      "Epoch 230, Loss 0.0203\n",
      "Training Accuracy: 0.9772, Testing Accuracy: 0.9703\n",
      "\n"
     ]
    },
    {
     "name": "stdout",
     "output_type": "stream",
     "text": [
      "Epoch 240, Loss 0.0198\n",
      "Training Accuracy: 0.9775, Testing Accuracy: 0.9703\n",
      "\n"
     ]
    },
    {
     "name": "stdout",
     "output_type": "stream",
     "text": [
      "Epoch 250, Loss 0.0195\n",
      "Training Accuracy: 0.9784, Testing Accuracy: 0.9708\n",
      "\n"
     ]
    },
    {
     "data": {
      "text/plain": [
       "0.003560053137657792"
      ]
     },
     "execution_count": 20,
     "metadata": {},
     "output_type": "execute_result"
    }
   ],
   "source": [
    "print(\"====== Neural Network ======\")\n",
    "learner_nn.train_loop(dl)"
   ]
  },
  {
   "cell_type": "markdown",
   "metadata": {
    "papermill": {
     "duration": 0.041011,
     "end_time": "2020-09-07T10:06:36.712458",
     "exception": false,
     "start_time": "2020-09-07T10:06:36.671447",
     "status": "completed"
    },
    "tags": []
   },
   "source": [
    "### Logistic Regression based Implementation."
   ]
  },
  {
   "cell_type": "code",
   "execution_count": 21,
   "metadata": {
    "execution": {
     "iopub.execute_input": "2020-09-07T10:06:36.806013Z",
     "iopub.status.busy": "2020-09-07T10:06:36.805378Z",
     "iopub.status.idle": "2020-09-07T10:06:36.818717Z",
     "shell.execute_reply": "2020-09-07T10:06:36.818182Z"
    },
    "papermill": {
     "duration": 0.064198,
     "end_time": "2020-09-07T10:06:36.818857",
     "exception": false,
     "start_time": "2020-09-07T10:06:36.754659",
     "status": "completed"
    },
    "tags": []
   },
   "outputs": [],
   "source": [
    "learner_lr = Learner(loss, model_lr, opt, config.num_epochs)\n",
    "acc_lr = ClfCallback(learner_lr, config.bs, training_xdata , testing_xdata, training_ydata, testing_ydata)\n",
    "learner_lr.set_callbacks([acc_lr])"
   ]
  },
  {
   "cell_type": "code",
   "execution_count": 22,
   "metadata": {
    "execution": {
     "iopub.execute_input": "2020-09-07T10:06:36.909385Z",
     "iopub.status.busy": "2020-09-07T10:06:36.908080Z",
     "iopub.status.idle": "2020-09-07T10:06:55.125809Z",
     "shell.execute_reply": "2020-09-07T10:06:55.126615Z"
    },
    "papermill": {
     "duration": 18.270186,
     "end_time": "2020-09-07T10:06:55.126779",
     "exception": false,
     "start_time": "2020-09-07T10:06:36.856593",
     "status": "completed"
    },
    "tags": []
   },
   "outputs": [
    {
     "name": "stdout",
     "output_type": "stream",
     "text": [
      "====== Logistic Regression ======\n",
      "Epoch 0, Loss 0.2362\n",
      "Training Accuracy: 0.7065, Testing Accuracy: 0.7233\n",
      "\n"
     ]
    },
    {
     "name": "stdout",
     "output_type": "stream",
     "text": [
      "Epoch 10, Loss 0.1027\n",
      "Training Accuracy: 0.9099, Testing Accuracy: 0.9189\n",
      "\n"
     ]
    },
    {
     "name": "stdout",
     "output_type": "stream",
     "text": [
      "Epoch 20, Loss 0.0788\n",
      "Training Accuracy: 0.9272, Testing Accuracy: 0.9390\n",
      "\n"
     ]
    },
    {
     "name": "stdout",
     "output_type": "stream",
     "text": [
      "Epoch 30, Loss 0.0679\n",
      "Training Accuracy: 0.9357, Testing Accuracy: 0.9461\n",
      "\n"
     ]
    },
    {
     "name": "stdout",
     "output_type": "stream",
     "text": [
      "Epoch 40, Loss 0.0614\n",
      "Training Accuracy: 0.9414, Testing Accuracy: 0.9511\n",
      "\n"
     ]
    },
    {
     "name": "stdout",
     "output_type": "stream",
     "text": [
      "Epoch 50, Loss 0.0569\n",
      "Training Accuracy: 0.9443, Testing Accuracy: 0.9541\n",
      "\n"
     ]
    },
    {
     "name": "stdout",
     "output_type": "stream",
     "text": [
      "Epoch 60, Loss 0.0537\n",
      "Training Accuracy: 0.9470, Testing Accuracy: 0.9551\n",
      "\n"
     ]
    },
    {
     "name": "stdout",
     "output_type": "stream",
     "text": [
      "Epoch 70, Loss 0.0511\n",
      "Training Accuracy: 0.9486, Testing Accuracy: 0.9572\n",
      "\n"
     ]
    },
    {
     "name": "stdout",
     "output_type": "stream",
     "text": [
      "Epoch 80, Loss 0.0491\n",
      "Training Accuracy: 0.9503, Testing Accuracy: 0.9577\n",
      "\n"
     ]
    },
    {
     "name": "stdout",
     "output_type": "stream",
     "text": [
      "Epoch 90, Loss 0.0474\n",
      "Training Accuracy: 0.9509, Testing Accuracy: 0.9597\n",
      "\n"
     ]
    },
    {
     "name": "stdout",
     "output_type": "stream",
     "text": [
      "Epoch 100, Loss 0.046\n",
      "Training Accuracy: 0.9519, Testing Accuracy: 0.9617\n",
      "\n"
     ]
    },
    {
     "name": "stdout",
     "output_type": "stream",
     "text": [
      "Epoch 110, Loss 0.0448\n",
      "Training Accuracy: 0.9529, Testing Accuracy: 0.9612\n",
      "\n"
     ]
    },
    {
     "name": "stdout",
     "output_type": "stream",
     "text": [
      "Epoch 120, Loss 0.0438\n",
      "Training Accuracy: 0.9539, Testing Accuracy: 0.9612\n",
      "\n"
     ]
    },
    {
     "name": "stdout",
     "output_type": "stream",
     "text": [
      "Epoch 130, Loss 0.0428\n",
      "Training Accuracy: 0.9544, Testing Accuracy: 0.9617\n",
      "\n"
     ]
    },
    {
     "name": "stdout",
     "output_type": "stream",
     "text": [
      "Epoch 140, Loss 0.042\n",
      "Training Accuracy: 0.9555, Testing Accuracy: 0.9622\n",
      "\n"
     ]
    },
    {
     "name": "stdout",
     "output_type": "stream",
     "text": [
      "Epoch 150, Loss 0.0413\n",
      "Training Accuracy: 0.9563, Testing Accuracy: 0.9637\n",
      "\n"
     ]
    },
    {
     "name": "stdout",
     "output_type": "stream",
     "text": [
      "Epoch 160, Loss 0.0406\n",
      "Training Accuracy: 0.9571, Testing Accuracy: 0.9642\n",
      "\n"
     ]
    },
    {
     "name": "stdout",
     "output_type": "stream",
     "text": [
      "Epoch 170, Loss 0.04\n",
      "Training Accuracy: 0.9577, Testing Accuracy: 0.9642\n",
      "\n"
     ]
    },
    {
     "name": "stdout",
     "output_type": "stream",
     "text": [
      "Epoch 180, Loss 0.0394\n",
      "Training Accuracy: 0.9583, Testing Accuracy: 0.9647\n",
      "\n"
     ]
    },
    {
     "name": "stdout",
     "output_type": "stream",
     "text": [
      "Epoch 190, Loss 0.0389\n",
      "Training Accuracy: 0.9589, Testing Accuracy: 0.9657\n",
      "\n"
     ]
    },
    {
     "name": "stdout",
     "output_type": "stream",
     "text": [
      "Epoch 200, Loss 0.0384\n",
      "Training Accuracy: 0.9592, Testing Accuracy: 0.9657\n",
      "\n"
     ]
    },
    {
     "name": "stdout",
     "output_type": "stream",
     "text": [
      "Epoch 210, Loss 0.038\n",
      "Training Accuracy: 0.9594, Testing Accuracy: 0.9657\n",
      "\n"
     ]
    },
    {
     "name": "stdout",
     "output_type": "stream",
     "text": [
      "Epoch 220, Loss 0.0376\n",
      "Training Accuracy: 0.9595, Testing Accuracy: 0.9667\n",
      "\n"
     ]
    },
    {
     "name": "stdout",
     "output_type": "stream",
     "text": [
      "Epoch 230, Loss 0.0372\n",
      "Training Accuracy: 0.9602, Testing Accuracy: 0.9667\n",
      "\n"
     ]
    },
    {
     "name": "stdout",
     "output_type": "stream",
     "text": [
      "Epoch 240, Loss 0.0368\n",
      "Training Accuracy: 0.9608, Testing Accuracy: 0.9672\n",
      "\n"
     ]
    },
    {
     "name": "stdout",
     "output_type": "stream",
     "text": [
      "Epoch 250, Loss 0.0365\n",
      "Training Accuracy: 0.9610, Testing Accuracy: 0.9672\n",
      "\n"
     ]
    },
    {
     "data": {
      "text/plain": [
       "0.01875721217898187"
      ]
     },
     "execution_count": 22,
     "metadata": {},
     "output_type": "execute_result"
    }
   ],
   "source": [
    "print(\"====== Logistic Regression ======\")\n",
    "learner_lr.train_loop(dl)"
   ]
  },
  {
   "cell_type": "markdown",
   "metadata": {
    "papermill": {
     "duration": 0.056216,
     "end_time": "2020-09-07T10:06:55.229948",
     "exception": false,
     "start_time": "2020-09-07T10:06:55.173732",
     "status": "completed"
    },
    "tags": []
   },
   "source": [
    "### Comparing results of NN and LR"
   ]
  },
  {
   "cell_type": "code",
   "execution_count": 23,
   "metadata": {
    "execution": {
     "iopub.execute_input": "2020-09-07T10:06:55.326568Z",
     "iopub.status.busy": "2020-09-07T10:06:55.325945Z",
     "iopub.status.idle": "2020-09-07T10:06:55.579149Z",
     "shell.execute_reply": "2020-09-07T10:06:55.578657Z"
    },
    "papermill": {
     "duration": 0.303442,
     "end_time": "2020-09-07T10:06:55.579291",
     "exception": false,
     "start_time": "2020-09-07T10:06:55.275849",
     "status": "completed"
    },
    "tags": []
   },
   "outputs": [
    {
     "data": {
      "text/plain": [
       "<matplotlib.legend.Legend at 0x7ffbbf62a390>"
      ]
     },
     "execution_count": 23,
     "metadata": {},
     "output_type": "execute_result"
    },
    {
     "data": {
      "image/png": "[encoded data removed]",
      "text/plain": [
       "<Figure size 1080x720 with 1 Axes>"
      ]
     },
     "metadata": {
      "needs_background": "light"
     },
     "output_type": "display_data"
    }
   ],
   "source": [
    "plt.figure(figsize=(15,10))\n",
    "\n",
    "# Neural Network plots\n",
    "plt.plot(acc_nn.accuracies, 'r-', label = \"Training Accuracies - NN\")\n",
    "plt.plot(acc_nn.test_accuracies, 'g-', label = \"Testing Accuracies - NN\")\n",
    "\n",
    "# Logistic Regression plots\n",
    "plt.plot(acc_lr.accuracies, 'k-', label = \"Training Accuracies - LR\")\n",
    "plt.plot(acc_lr.test_accuracies, 'b-', label = \"Testing Accuracies - LR\")\n",
    "\n",
    "plt.ylim(0.8, 1)\n",
    "\n",
    "plt.legend()\n",
    "\n"
   ]
  },
  {
   "cell_type": "markdown",
   "metadata": {
    "papermill": {
     "duration": 0.051358,
     "end_time": "2020-09-07T10:06:55.684667",
     "exception": false,
     "start_time": "2020-09-07T10:06:55.633309",
     "status": "completed"
    },
    "tags": []
   },
   "source": [
    "### From the plot, we can observe the following:\n",
    "- Neural Network achieves higher accuracy than the Logistic Regression model.\n",
    "- This apparently, is because of overfitting, i.e. NN captures more noise than data.\n",
    "- Testing accuracy of NN drops below the Training accuracy at higher epochs. This explains the over-fitting on training data.\n",
    "- Logistic Regression gives a reliable accuracy, without the above mentioned problem.\n"
   ]
  },
  {
   "cell_type": "markdown",
   "metadata": {
    "papermill": {
     "duration": 0.047732,
     "end_time": "2020-09-07T10:06:55.789190",
     "exception": false,
     "start_time": "2020-09-07T10:06:55.741458",
     "status": "completed"
    },
    "tags": []
   },
   "source": [
    "### Moving till the last but one layer (excluding it).\n",
    "#### Plotting the outputs of this layer of the NN."
   ]
  },
  {
   "cell_type": "code",
   "execution_count": 24,
   "metadata": {
    "execution": {
     "iopub.execute_input": "2020-09-07T10:06:55.892134Z",
     "iopub.status.busy": "2020-09-07T10:06:55.891539Z",
     "iopub.status.idle": "2020-09-07T10:06:55.905190Z",
     "shell.execute_reply": "2020-09-07T10:06:55.904593Z"
    },
    "papermill": {
     "duration": 0.066763,
     "end_time": "2020-09-07T10:06:55.905350",
     "exception": false,
     "start_time": "2020-09-07T10:06:55.838587",
     "status": "completed"
    },
    "tags": []
   },
   "outputs": [],
   "source": [
    "model_new = Model(layers[:-2])"
   ]
  },
  {
   "cell_type": "code",
   "execution_count": 25,
   "metadata": {
    "execution": {
     "iopub.execute_input": "2020-09-07T10:06:56.007187Z",
     "iopub.status.busy": "2020-09-07T10:06:56.005820Z",
     "iopub.status.idle": "2020-09-07T10:06:56.029476Z",
     "shell.execute_reply": "2020-09-07T10:06:56.029964Z"
    },
    "papermill": {
     "duration": 0.076743,
     "end_time": "2020-09-07T10:06:56.030140",
     "exception": false,
     "start_time": "2020-09-07T10:06:55.953397",
     "status": "completed"
    },
    "tags": []
   },
   "outputs": [],
   "source": [
    "plot_testing = model_new(testing_xdata)"
   ]
  },
  {
   "cell_type": "code",
   "execution_count": 26,
   "metadata": {
    "execution": {
     "iopub.execute_input": "2020-09-07T10:06:56.133678Z",
     "iopub.status.busy": "2020-09-07T10:06:56.133068Z",
     "iopub.status.idle": "2020-09-07T10:06:56.356236Z",
     "shell.execute_reply": "2020-09-07T10:06:56.356736Z"
    },
    "papermill": {
     "duration": 0.276563,
     "end_time": "2020-09-07T10:06:56.356921",
     "exception": false,
     "start_time": "2020-09-07T10:06:56.080358",
     "status": "completed"
    },
    "tags": []
   },
   "outputs": [
    {
     "data": {
      "text/plain": [
       "Text(0.5, 1.0, 'Outputs')"
      ]
     },
     "execution_count": 26,
     "metadata": {},
     "output_type": "execute_result"
    },
    {
     "data": {
      "image/png": "[encoded data removed]",
      "text/plain": [
       "<Figure size 576x504 with 1 Axes>"
      ]
     },
     "metadata": {
      "needs_background": "light"
     },
     "output_type": "display_data"
    }
   ],
   "source": [
    "plt.figure(figsize=(8,7))\n",
    "plt.scatter(plot_testing[:,0], plot_testing[:,1], alpha = 0.1, c = y_test.ravel());\n",
    "plt.title('Outputs')"
   ]
  },
  {
   "cell_type": "markdown",
   "metadata": {
    "papermill": {
     "duration": 0.050476,
     "end_time": "2020-09-07T10:06:56.458248",
     "exception": false,
     "start_time": "2020-09-07T10:06:56.407772",
     "status": "completed"
    },
    "tags": []
   },
   "source": [
    "### Plotting probability contours"
   ]
  },
  {
   "cell_type": "code",
   "execution_count": 27,
   "metadata": {
    "execution": {
     "iopub.execute_input": "2020-09-07T10:06:56.565608Z",
     "iopub.status.busy": "2020-09-07T10:06:56.565013Z",
     "iopub.status.idle": "2020-09-07T10:06:56.579001Z",
     "shell.execute_reply": "2020-09-07T10:06:56.578498Z"
    },
    "papermill": {
     "duration": 0.068867,
     "end_time": "2020-09-07T10:06:56.579142",
     "exception": false,
     "start_time": "2020-09-07T10:06:56.510275",
     "status": "completed"
    },
    "tags": []
   },
   "outputs": [],
   "source": [
    "model_prob = Model(layers[-2:]) "
   ]
  },
  {
   "cell_type": "code",
   "execution_count": 28,
   "metadata": {
    "execution": {
     "iopub.execute_input": "2020-09-07T10:06:56.690280Z",
     "iopub.status.busy": "2020-09-07T10:06:56.689668Z",
     "iopub.status.idle": "2020-09-07T10:06:56.705883Z",
     "shell.execute_reply": "2020-09-07T10:06:56.706349Z"
    },
    "papermill": {
     "duration": 0.075347,
     "end_time": "2020-09-07T10:06:56.706514",
     "exception": false,
     "start_time": "2020-09-07T10:06:56.631167",
     "status": "completed"
    },
    "tags": []
   },
   "outputs": [],
   "source": [
    "# Adjust the x and y ranges according to the above generated plot.\n",
    "x_range = np.linspace(-4, 1, 100) \n",
    "y_range = np.linspace(-6, 6, 100) \n",
    "x_grid, y_grid = np.meshgrid(x_range, y_range) # x_grid and y_grig are of size 100 X 100\n",
    "\n",
    "# converting x_grid and y_grid to continuous arrays\n",
    "x_grid_flat = np.ravel(x_grid)\n",
    "y_grid_flat = np.ravel(y_grid)\n",
    "\n",
    "# The last layer of the current model takes two columns as input. Hence transpose of np.vstack() is required.\n",
    "X = np.vstack((x_grid_flat, y_grid_flat)).T\n",
    "\n",
    "# x_grid and y_grid are of size 100 x 100\n",
    "probability_contour = model_prob(X).reshape(100,100) "
   ]
  },
  {
   "cell_type": "code",
   "execution_count": 29,
   "metadata": {
    "execution": {
     "iopub.execute_input": "2020-09-07T10:06:56.819704Z",
     "iopub.status.busy": "2020-09-07T10:06:56.819114Z",
     "iopub.status.idle": "2020-09-07T10:06:57.105800Z",
     "shell.execute_reply": "2020-09-07T10:06:57.104305Z"
    },
    "papermill": {
     "duration": 0.347884,
     "end_time": "2020-09-07T10:06:57.106053",
     "exception": false,
     "start_time": "2020-09-07T10:06:56.758169",
     "status": "completed"
    },
    "tags": []
   },
   "outputs": [
    {
     "data": {
      "image/png": "[encoded data removed]",
      "text/plain": [
       "<Figure size 720x648 with 1 Axes>"
      ]
     },
     "metadata": {
      "needs_background": "light"
     },
     "output_type": "display_data"
    }
   ],
   "source": [
    "plt.figure(figsize=(10,9))\n",
    "plt.scatter(plot_testing[:,0], plot_testing[:,1], alpha = 0.1, c = y_test.ravel())\n",
    "contours = plt.contour(x_grid,y_grid,probability_contour)\n",
    "plt.title('Probability Contours')\n",
    "plt.clabel(contours, inline = True );"
   ]
  }
 ],
 "metadata": {
  "kernelspec": {
   "display_name": "Python 3",
   "language": "python",
   "name": "python3"
  },
  "language_info": {
   "codemirror_mode": {
    "name": "ipython",
    "version": 3
   },
   "file_extension": ".py",
   "mimetype": "text/x-python",
   "name": "python",
   "nbconvert_exporter": "python",
   "pygments_lexer": "ipython3",
   "version": "3.6.12"
  },
  "papermill": {
   "duration": 134.263773,
   "end_time": "2020-09-07T10:06:57.569334",
   "environment_variables": {},
   "exception": null,
   "input_path": "2020-08-11-NeuralNetwork.ipynb",
   "output_path": "2020-08-11-NeuralNetwork.ipynb",
   "parameters": {},
   "start_time": "2020-09-07T10:04:43.305561",
   "version": "2.1.2"
  }
 },
 "nbformat": 4,
 "nbformat_minor": 4
}