{
 "cells": [
  {
   "cell_type": "markdown",
   "metadata": {
    "papermill": {
     "duration": 0.036069,
     "end_time": "2020-09-08T00:06:27.858345",
     "exception": false,
     "start_time": "2020-09-08T00:06:27.822276",
     "status": "completed"
    },
    "tags": []
   },
   "source": [
    "# \"A Basic Neural Network: Differentiate Hand-Written Digits\"\n",
    "\n",
    "- badges: true\n",
    "- author: Akshith Sriram"
   ]
  },
  {
   "cell_type": "markdown",
   "metadata": {
    "papermill": {
     "duration": 0.028355,
     "end_time": "2020-09-08T00:06:27.915007",
     "exception": false,
     "start_time": "2020-09-08T00:06:27.886652",
     "status": "completed"
    },
    "tags": []
   },
   "source": [
    "### Key Objectives:\n",
    "- Building a neural network that differentiates two hand-written digits 3 and 8.\n",
    "- Comparing the results of this Neural Network (NN) to that of a Logistic Regression (LR) model.\n",
    "\n",
    "### Requirements:\n",
    "- 'Kudzu' : A neural network library that was designed during our course by [Univ.AI](www.univ.ai). \n",
    "- MNIST Database\n",
    "\n",
    "If MNIST is not installed, use the command `!pip install mnist` given below.\n",
    "It can be run both from the command line and Jupyter Notebook."
   ]
  },
  {
   "cell_type": "code",
   "execution_count": 1,
   "metadata": {
    "execution": {
     "iopub.execute_input": "2020-09-08T00:06:27.976271Z",
     "iopub.status.busy": "2020-09-08T00:06:27.975609Z",
     "iopub.status.idle": "2020-09-08T00:06:29.703337Z",
     "shell.execute_reply": "2020-09-08T00:06:29.702386Z"
    },
    "papermill": {
     "duration": 1.761135,
     "end_time": "2020-09-08T00:06:29.703535",
     "exception": false,
     "start_time": "2020-09-08T00:06:27.942400",
     "status": "completed"
    },
    "tags": []
   },
   "outputs": [
    {
     "name": "stdout",
     "output_type": "stream",
     "text": [
      "Collecting mnist\r\n"
     ]
    },
    {
     "name": "stdout",
     "output_type": "stream",
     "text": [
      "  Downloading mnist-0.2.2-py2.py3-none-any.whl (3.5 kB)\r\n",
      "Requirement already satisfied: numpy in /opt/hostedtoolcache/Python/3.6.12/x64/lib/python3.6/site-packages (from mnist) (1.19.1)\r\n"
     ]
    },
    {
     "name": "stdout",
     "output_type": "stream",
     "text": [
      "Installing collected packages: mnist\r\n"
     ]
    },
    {
     "name": "stdout",
     "output_type": "stream",
     "text": [
      "Successfully installed mnist-0.2.2\r\n"
     ]
    }
   ],
   "source": [
    "!pip install mnist "
   ]
  },
  {
   "cell_type": "markdown",
   "metadata": {
    "papermill": {
     "duration": 0.032328,
     "end_time": "2020-09-08T00:06:29.772153",
     "exception": false,
     "start_time": "2020-09-08T00:06:29.739825",
     "status": "completed"
    },
    "tags": []
   },
   "source": [
    "#### Importing necessary libraries"
   ]
  },
  {
   "cell_type": "code",
   "execution_count": 2,
   "metadata": {
    "execution": {
     "iopub.execute_input": "2020-09-08T00:06:30.064528Z",
     "iopub.status.busy": "2020-09-08T00:06:30.063750Z",
     "iopub.status.idle": "2020-09-08T00:06:30.699770Z",
     "shell.execute_reply": "2020-09-08T00:06:30.698819Z"
    },
    "papermill": {
     "duration": 0.83402,
     "end_time": "2020-09-08T00:06:30.699929",
     "exception": false,
     "start_time": "2020-09-08T00:06:29.865909",
     "status": "completed"
    },
    "tags": []
   },
   "outputs": [],
   "source": [
    "%load_ext autoreload\n",
    "%autoreload 2\n",
    "\n",
    "%matplotlib inline\n",
    "import matplotlib.pyplot as plt\n",
    "\n",
    "import numpy as np\n",
    "import pandas as pd"
   ]
  },
  {
   "cell_type": "markdown",
   "metadata": {
    "papermill": {
     "duration": 0.031095,
     "end_time": "2020-09-08T00:06:30.763519",
     "exception": false,
     "start_time": "2020-09-08T00:06:30.732424",
     "status": "completed"
    },
    "tags": []
   },
   "source": [
    "### Preparing the Data"
   ]
  },
  {
   "cell_type": "code",
   "execution_count": 3,
   "metadata": {
    "execution": {
     "iopub.execute_input": "2020-09-08T00:06:30.831419Z",
     "iopub.status.busy": "2020-09-08T00:06:30.824927Z",
     "iopub.status.idle": "2020-09-08T00:06:30.837705Z",
     "shell.execute_reply": "2020-09-08T00:06:30.837092Z"
    },
    "papermill": {
     "duration": 0.045919,
     "end_time": "2020-09-08T00:06:30.837852",
     "exception": false,
     "start_time": "2020-09-08T00:06:30.791933",
     "status": "completed"
    },
    "tags": []
   },
   "outputs": [],
   "source": [
    "import mnist"
   ]
  },
  {
   "cell_type": "code",
   "execution_count": 4,
   "metadata": {
    "execution": {
     "iopub.execute_input": "2020-09-08T00:06:30.926517Z",
     "iopub.status.busy": "2020-09-08T00:06:30.915923Z",
     "iopub.status.idle": "2020-09-08T00:06:31.951271Z",
     "shell.execute_reply": "2020-09-08T00:06:31.950633Z"
    },
    "papermill": {
     "duration": 1.079304,
     "end_time": "2020-09-08T00:06:31.951439",
     "exception": false,
     "start_time": "2020-09-08T00:06:30.872135",
     "status": "completed"
    },
    "tags": []
   },
   "outputs": [],
   "source": [
    "train_images = mnist.train_images()\n",
    "train_labels = mnist.train_labels()"
   ]
  },
  {
   "cell_type": "code",
   "execution_count": 5,
   "metadata": {
    "execution": {
     "iopub.execute_input": "2020-09-08T00:06:32.022663Z",
     "iopub.status.busy": "2020-09-08T00:06:32.021918Z",
     "iopub.status.idle": "2020-09-08T00:06:32.036618Z",
     "shell.execute_reply": "2020-09-08T00:06:32.037242Z"
    },
    "papermill": {
     "duration": 0.051608,
     "end_time": "2020-09-08T00:06:32.037406",
     "exception": false,
     "start_time": "2020-09-08T00:06:31.985798",
     "status": "completed"
    },
    "tags": []
   },
   "outputs": [
    {
     "data": {
      "text/plain": [
       "((60000, 28, 28), (60000,))"
      ]
     },
     "execution_count": 5,
     "metadata": {},
     "output_type": "execute_result"
    }
   ],
   "source": [
    "train_images.shape, train_labels.shape"
   ]
  },
  {
   "cell_type": "code",
   "execution_count": 6,
   "metadata": {
    "execution": {
     "iopub.execute_input": "2020-09-08T00:06:32.122422Z",
     "iopub.status.busy": "2020-09-08T00:06:32.115289Z",
     "iopub.status.idle": "2020-09-08T00:06:32.533988Z",
     "shell.execute_reply": "2020-09-08T00:06:32.533383Z"
    },
    "papermill": {
     "duration": 0.463415,
     "end_time": "2020-09-08T00:06:32.534143",
     "exception": false,
     "start_time": "2020-09-08T00:06:32.070728",
     "status": "completed"
    },
    "tags": []
   },
   "outputs": [],
   "source": [
    "test_images = mnist.test_images()\n",
    "test_labels = mnist.test_labels()"
   ]
  },
  {
   "cell_type": "code",
   "execution_count": 7,
   "metadata": {
    "execution": {
     "iopub.execute_input": "2020-09-08T00:06:32.611057Z",
     "iopub.status.busy": "2020-09-08T00:06:32.600878Z",
     "iopub.status.idle": "2020-09-08T00:06:32.615064Z",
     "shell.execute_reply": "2020-09-08T00:06:32.614483Z"
    },
    "papermill": {
     "duration": 0.050836,
     "end_time": "2020-09-08T00:06:32.615197",
     "exception": false,
     "start_time": "2020-09-08T00:06:32.564361",
     "status": "completed"
    },
    "tags": []
   },
   "outputs": [
    {
     "data": {
      "text/plain": [
       "((10000, 28, 28), (10000,))"
      ]
     },
     "execution_count": 7,
     "metadata": {},
     "output_type": "execute_result"
    }
   ],
   "source": [
    "test_images.shape, test_labels.shape"
   ]
  },
  {
   "cell_type": "code",
   "execution_count": 8,
   "metadata": {
    "execution": {
     "iopub.execute_input": "2020-09-08T00:06:32.677610Z",
     "iopub.status.busy": "2020-09-08T00:06:32.676742Z",
     "iopub.status.idle": "2020-09-08T00:06:32.857179Z",
     "shell.execute_reply": "2020-09-08T00:06:32.856635Z"
    },
    "papermill": {
     "duration": 0.213691,
     "end_time": "2020-09-08T00:06:32.857333",
     "exception": false,
     "start_time": "2020-09-08T00:06:32.643642",
     "status": "completed"
    },
    "tags": []
   },
   "outputs": [
    {
     "name": "stdout",
     "output_type": "stream",
     "text": [
      "2\n"
     ]
    },
    {
     "data": {
      "text/plain": [
       "<matplotlib.image.AxesImage at 0x7fa14a19bc18>"
      ]
     },
     "execution_count": 8,
     "metadata": {},
     "output_type": "execute_result"
    },
    {
     "data": {
      "image/png": "[encoded data removed]",
      "text/plain": [
       "<Figure size 432x288 with 1 Axes>"
      ]
     },
     "metadata": {
      "needs_background": "light"
     },
     "output_type": "display_data"
    }
   ],
   "source": [
    "image_index = 7776 # You may select anything up to 60,000\n",
    "print(train_labels[image_index]) \n",
    "plt.imshow(train_images[image_index], cmap='Greys')"
   ]
  },
  {
   "cell_type": "markdown",
   "metadata": {
    "papermill": {
     "duration": 0.030646,
     "end_time": "2020-09-08T00:06:32.920477",
     "exception": false,
     "start_time": "2020-09-08T00:06:32.889831",
     "status": "completed"
    },
    "tags": []
   },
   "source": [
    "## Filter data to get 3 and 8 out"
   ]
  },
  {
   "cell_type": "code",
   "execution_count": 9,
   "metadata": {
    "execution": {
     "iopub.execute_input": "2020-09-08T00:06:32.991263Z",
     "iopub.status.busy": "2020-09-08T00:06:32.990070Z",
     "iopub.status.idle": "2020-09-08T00:06:33.010650Z",
     "shell.execute_reply": "2020-09-08T00:06:33.009688Z"
    },
    "papermill": {
     "duration": 0.058059,
     "end_time": "2020-09-08T00:06:33.010816",
     "exception": false,
     "start_time": "2020-09-08T00:06:32.952757",
     "status": "completed"
    },
    "tags": []
   },
   "outputs": [],
   "source": [
    "train_filter = np.where((train_labels == 3 ) | (train_labels == 8))\n",
    "test_filter = np.where((test_labels == 3) | (test_labels == 8))\n",
    "X_train, y_train = train_images[train_filter], train_labels[train_filter]\n",
    "X_test, y_test = test_images[test_filter], test_labels[test_filter]"
   ]
  },
  {
   "cell_type": "markdown",
   "metadata": {
    "papermill": {
     "duration": 0.03247,
     "end_time": "2020-09-08T00:06:33.076991",
     "exception": false,
     "start_time": "2020-09-08T00:06:33.044521",
     "status": "completed"
    },
    "tags": []
   },
   "source": [
    "We normalize the pixel values in the 0 to 1 range"
   ]
  },
  {
   "cell_type": "code",
   "execution_count": 10,
   "metadata": {
    "execution": {
     "iopub.execute_input": "2020-09-08T00:06:33.144951Z",
     "iopub.status.busy": "2020-09-08T00:06:33.144312Z",
     "iopub.status.idle": "2020-09-08T00:06:33.208089Z",
     "shell.execute_reply": "2020-09-08T00:06:33.207523Z"
    },
    "papermill": {
     "duration": 0.098866,
     "end_time": "2020-09-08T00:06:33.208243",
     "exception": false,
     "start_time": "2020-09-08T00:06:33.109377",
     "status": "completed"
    },
    "tags": []
   },
   "outputs": [],
   "source": [
    "X_train = X_train/255.\n",
    "X_test = X_test/255."
   ]
  },
  {
   "cell_type": "markdown",
   "metadata": {
    "papermill": {
     "duration": 0.032789,
     "end_time": "2020-09-08T00:06:33.272321",
     "exception": false,
     "start_time": "2020-09-08T00:06:33.239532",
     "status": "completed"
    },
    "tags": []
   },
   "source": [
    "Setup the labels as 1 (when the digit is 3) and 0 (when the digit is 8)"
   ]
  },
  {
   "cell_type": "code",
   "execution_count": 11,
   "metadata": {
    "execution": {
     "iopub.execute_input": "2020-09-08T00:06:33.343748Z",
     "iopub.status.busy": "2020-09-08T00:06:33.343113Z",
     "iopub.status.idle": "2020-09-08T00:06:33.354248Z",
     "shell.execute_reply": "2020-09-08T00:06:33.354838Z"
    },
    "papermill": {
     "duration": 0.049987,
     "end_time": "2020-09-08T00:06:33.354979",
     "exception": false,
     "start_time": "2020-09-08T00:06:33.304992",
     "status": "completed"
    },
    "tags": []
   },
   "outputs": [],
   "source": [
    "y_train = 1*(y_train==3)\n",
    "y_test = 1*(y_test==3)"
   ]
  },
  {
   "cell_type": "code",
   "execution_count": 12,
   "metadata": {
    "execution": {
     "iopub.execute_input": "2020-09-08T00:06:33.426036Z",
     "iopub.status.busy": "2020-09-08T00:06:33.425384Z",
     "iopub.status.idle": "2020-09-08T00:06:33.433875Z",
     "shell.execute_reply": "2020-09-08T00:06:33.434473Z"
    },
    "papermill": {
     "duration": 0.050066,
     "end_time": "2020-09-08T00:06:33.434620",
     "exception": false,
     "start_time": "2020-09-08T00:06:33.384554",
     "status": "completed"
    },
    "tags": []
   },
   "outputs": [
    {
     "data": {
      "text/plain": [
       "((11982, 28, 28), (1984, 28, 28))"
      ]
     },
     "execution_count": 12,
     "metadata": {},
     "output_type": "execute_result"
    }
   ],
   "source": [
    "X_train.shape, X_test.shape"
   ]
  },
  {
   "cell_type": "markdown",
   "metadata": {
    "papermill": {
     "duration": 0.030537,
     "end_time": "2020-09-08T00:06:33.496134",
     "exception": false,
     "start_time": "2020-09-08T00:06:33.465597",
     "status": "completed"
    },
    "tags": []
   },
   "source": [
    "### Reshape the input data to create a linear array"
   ]
  },
  {
   "cell_type": "code",
   "execution_count": 13,
   "metadata": {
    "execution": {
     "iopub.execute_input": "2020-09-08T00:06:33.569094Z",
     "iopub.status.busy": "2020-09-08T00:06:33.568443Z",
     "iopub.status.idle": "2020-09-08T00:06:33.579189Z",
     "shell.execute_reply": "2020-09-08T00:06:33.578631Z"
    },
    "papermill": {
     "duration": 0.050555,
     "end_time": "2020-09-08T00:06:33.579317",
     "exception": false,
     "start_time": "2020-09-08T00:06:33.528762",
     "status": "completed"
    },
    "tags": []
   },
   "outputs": [
    {
     "data": {
      "text/plain": [
       "((11982, 784), (1984, 784))"
      ]
     },
     "execution_count": 13,
     "metadata": {},
     "output_type": "execute_result"
    }
   ],
   "source": [
    "X_train = X_train.reshape(X_train.shape[0], -1)\n",
    "X_test = X_test.reshape(X_test.shape[0], -1)\n",
    "X_train.shape, X_test.shape"
   ]
  },
  {
   "cell_type": "markdown",
   "metadata": {
    "papermill": {
     "duration": 0.032874,
     "end_time": "2020-09-08T00:06:33.643679",
     "exception": false,
     "start_time": "2020-09-08T00:06:33.610805",
     "status": "completed"
    },
    "tags": []
   },
   "source": [
    "### Importing appropriate functions from 'Kudzu'"
   ]
  },
  {
   "cell_type": "code",
   "execution_count": 14,
   "metadata": {
    "execution": {
     "iopub.execute_input": "2020-09-08T00:06:33.715891Z",
     "iopub.status.busy": "2020-09-08T00:06:33.715239Z",
     "iopub.status.idle": "2020-09-08T00:06:33.735922Z",
     "shell.execute_reply": "2020-09-08T00:06:33.736549Z"
    },
    "papermill": {
     "duration": 0.060847,
     "end_time": "2020-09-08T00:06:33.736693",
     "exception": false,
     "start_time": "2020-09-08T00:06:33.675846",
     "status": "completed"
    },
    "tags": []
   },
   "outputs": [],
   "source": [
    "from kudzu.layer import Sigmoid\n",
    "from kudzu.layer import Relu\n",
    "from kudzu.layer import Affine, Sigmoid\n",
    "\n",
    "from kudzu.model import Model\n",
    "from kudzu.train import Learner\n",
    "from kudzu.optim import GD\n",
    "from kudzu.data import Data, Dataloader, Sampler\n",
    "\n",
    "from kudzu.callbacks import AccCallback\n",
    "from kudzu.callbacks import ClfCallback\n",
    "\n",
    "from kudzu.loss import MSE"
   ]
  },
  {
   "cell_type": "markdown",
   "metadata": {
    "papermill": {
     "duration": 0.030783,
     "end_time": "2020-09-08T00:06:33.799615",
     "exception": false,
     "start_time": "2020-09-08T00:06:33.768832",
     "status": "completed"
    },
    "tags": []
   },
   "source": [
    "### Let us create a `Config` class, to store important parameters. \n",
    "This class essentially plays the role of a dictionary."
   ]
  },
  {
   "cell_type": "code",
   "execution_count": 15,
   "metadata": {
    "execution": {
     "iopub.execute_input": "2020-09-08T00:06:33.867749Z",
     "iopub.status.busy": "2020-09-08T00:06:33.867099Z",
     "iopub.status.idle": "2020-09-08T00:06:33.879186Z",
     "shell.execute_reply": "2020-09-08T00:06:33.879753Z"
    },
    "papermill": {
     "duration": 0.048109,
     "end_time": "2020-09-08T00:06:33.879900",
     "exception": false,
     "start_time": "2020-09-08T00:06:33.831791",
     "status": "completed"
    },
    "tags": []
   },
   "outputs": [],
   "source": [
    "class Config:\n",
    "    pass\n",
    "config = Config()\n",
    "config.lr = 0.001\n",
    "config.num_epochs = 251\n",
    "config.bs = 50"
   ]
  },
  {
   "cell_type": "markdown",
   "metadata": {
    "papermill": {
     "duration": 0.031703,
     "end_time": "2020-09-08T00:06:33.942239",
     "exception": false,
     "start_time": "2020-09-08T00:06:33.910536",
     "status": "completed"
    },
    "tags": []
   },
   "source": [
    "### Initializing data to the variables"
   ]
  },
  {
   "cell_type": "code",
   "execution_count": 16,
   "metadata": {
    "execution": {
     "iopub.execute_input": "2020-09-08T00:06:34.009960Z",
     "iopub.status.busy": "2020-09-08T00:06:34.009306Z",
     "iopub.status.idle": "2020-09-08T00:06:34.020922Z",
     "shell.execute_reply": "2020-09-08T00:06:34.024257Z"
    },
    "papermill": {
     "duration": 0.05072,
     "end_time": "2020-09-08T00:06:34.024407",
     "exception": false,
     "start_time": "2020-09-08T00:06:33.973687",
     "status": "completed"
    },
    "tags": []
   },
   "outputs": [],
   "source": [
    "data = Data(X_train, y_train.reshape(-1,1))\n",
    "sampler = Sampler(data, config.bs, shuffle=True)\n",
    "\n",
    "dl = Dataloader(data, sampler)\n",
    "\n",
    "opt = GD(config.lr)\n",
    "loss = MSE()"
   ]
  },
  {
   "cell_type": "code",
   "execution_count": 17,
   "metadata": {
    "execution": {
     "iopub.execute_input": "2020-09-08T00:06:34.100756Z",
     "iopub.status.busy": "2020-09-08T00:06:34.099707Z",
     "iopub.status.idle": "2020-09-08T00:06:34.109657Z",
     "shell.execute_reply": "2020-09-08T00:06:34.110281Z"
    },
    "papermill": {
     "duration": 0.047021,
     "end_time": "2020-09-08T00:06:34.110453",
     "exception": false,
     "start_time": "2020-09-08T00:06:34.063432",
     "status": "completed"
    },
    "tags": []
   },
   "outputs": [],
   "source": [
    "training_xdata = X_train\n",
    "testing_xdata = X_test\n",
    "training_ydata = y_train.reshape(-1,1)\n",
    "testing_ydata = y_test.reshape(-1,1)"
   ]
  },
  {
   "cell_type": "markdown",
   "metadata": {
    "papermill": {
     "duration": 0.034431,
     "end_time": "2020-09-08T00:06:34.177926",
     "exception": false,
     "start_time": "2020-09-08T00:06:34.143495",
     "status": "completed"
    },
    "tags": []
   },
   "source": [
    "### Running Models with the Training data\n",
    "Details about the network layers:\n",
    "- A first affine layer has 784 inputs and does 100 affine transforms. These are followed by a Relu\n",
    "- A second affine layer has 100 inputs from the 100 activations of the past layer, and does 100 affine transforms. These are followed by a Relu\n",
    "- A third affine layer has 100 activations and does 2 affine transformations to create an embedding for visualization. There is no non-linearity here.\n",
    "- A final \"logistic regression\" which has an affine transform from 2 inputs to 1 output, which is squeezed through a sigmoid.\n",
    "\n",
    "Help taken from Anshuman's Notebook."
   ]
  },
  {
   "cell_type": "code",
   "execution_count": 18,
   "metadata": {
    "execution": {
     "iopub.execute_input": "2020-09-08T00:06:34.258110Z",
     "iopub.status.busy": "2020-09-08T00:06:34.257375Z",
     "iopub.status.idle": "2020-09-08T00:06:34.271956Z",
     "shell.execute_reply": "2020-09-08T00:06:34.272521Z"
    },
    "papermill": {
     "duration": 0.063383,
     "end_time": "2020-09-08T00:06:34.272688",
     "exception": false,
     "start_time": "2020-09-08T00:06:34.209305",
     "status": "completed"
    },
    "tags": []
   },
   "outputs": [],
   "source": [
    "# layers for the Neural Network\n",
    "layers = [Affine(\"first\", 784, 100), Relu(\"first\"), Affine(\"second\", 100, 100), Relu(\"second\"), Affine(\"third\", 100, 2), Affine(\"final\", 2, 1), Sigmoid(\"final\")]\n",
    "model_nn = Model(layers)\n",
    "\n",
    "# layers for the Logistic Regression\n",
    "layers_lr = [Affine(\"logits\", 784, 1), Sigmoid(\"sigmoid\")]\n",
    "model_lr = Model(layers_lr)"
   ]
  },
  {
   "cell_type": "code",
   "execution_count": 19,
   "metadata": {
    "execution": {
     "iopub.execute_input": "2020-09-08T00:06:34.347974Z",
     "iopub.status.busy": "2020-09-08T00:06:34.347252Z",
     "iopub.status.idle": "2020-09-08T00:06:34.360943Z",
     "shell.execute_reply": "2020-09-08T00:06:34.361569Z"
    },
    "papermill": {
     "duration": 0.051916,
     "end_time": "2020-09-08T00:06:34.361727",
     "exception": false,
     "start_time": "2020-09-08T00:06:34.309811",
     "status": "completed"
    },
    "tags": []
   },
   "outputs": [],
   "source": [
    "# suffix _nn stands for Neural Network.\n",
    "learner_nn = Learner(loss, model_nn, opt, config.num_epochs)\n",
    "acc_nn = ClfCallback(learner_nn, config.bs, training_xdata , testing_xdata, training_ydata, testing_ydata)\n",
    "learner_nn.set_callbacks([acc_nn])"
   ]
  },
  {
   "cell_type": "code",
   "execution_count": 20,
   "metadata": {
    "execution": {
     "iopub.execute_input": "2020-09-08T00:06:34.439947Z",
     "iopub.status.busy": "2020-09-08T00:06:34.439224Z",
     "iopub.status.idle": "2020-09-08T00:08:42.862601Z",
     "shell.execute_reply": "2020-09-08T00:08:42.863232Z"
    },
    "papermill": {
     "duration": 128.465263,
     "end_time": "2020-09-08T00:08:42.863400",
     "exception": false,
     "start_time": "2020-09-08T00:06:34.398137",
     "status": "completed"
    },
    "tags": []
   },
   "outputs": [
    {
     "name": "stdout",
     "output_type": "stream",
     "text": [
      "====== Neural Network ======\n"
     ]
    },
    {
     "name": "stdout",
     "output_type": "stream",
     "text": [
      "Epoch 0, Loss 0.2282\n",
      "Training Accuracy: 0.7326, Testing Accuracy: 0.7434\n",
      "\n"
     ]
    },
    {
     "name": "stdout",
     "output_type": "stream",
     "text": [
      "Epoch 10, Loss 0.0798\n",
      "Training Accuracy: 0.9184, Testing Accuracy: 0.9335\n",
      "\n"
     ]
    },
    {
     "name": "stdout",
     "output_type": "stream",
     "text": [
      "Epoch 20, Loss 0.0523\n",
      "Training Accuracy: 0.9448, Testing Accuracy: 0.9551\n",
      "\n"
     ]
    },
    {
     "name": "stdout",
     "output_type": "stream",
     "text": [
      "Epoch 30, Loss 0.0421\n",
      "Training Accuracy: 0.9545, Testing Accuracy: 0.9597\n",
      "\n"
     ]
    },
    {
     "name": "stdout",
     "output_type": "stream",
     "text": [
      "Epoch 40, Loss 0.0368\n",
      "Training Accuracy: 0.9566, Testing Accuracy: 0.9632\n",
      "\n"
     ]
    },
    {
     "name": "stdout",
     "output_type": "stream",
     "text": [
      "Epoch 50, Loss 0.0335\n",
      "Training Accuracy: 0.9608, Testing Accuracy: 0.9677\n",
      "\n"
     ]
    },
    {
     "name": "stdout",
     "output_type": "stream",
     "text": [
      "Epoch 60, Loss 0.0312\n",
      "Training Accuracy: 0.9639, Testing Accuracy: 0.9693\n",
      "\n"
     ]
    },
    {
     "name": "stdout",
     "output_type": "stream",
     "text": [
      "Epoch 70, Loss 0.0294\n",
      "Training Accuracy: 0.9657, Testing Accuracy: 0.9703\n",
      "\n"
     ]
    },
    {
     "name": "stdout",
     "output_type": "stream",
     "text": [
      "Epoch 80, Loss 0.028\n",
      "Training Accuracy: 0.9679, Testing Accuracy: 0.9713\n",
      "\n"
     ]
    },
    {
     "name": "stdout",
     "output_type": "stream",
     "text": [
      "Epoch 90, Loss 0.0269\n",
      "Training Accuracy: 0.9691, Testing Accuracy: 0.9688\n",
      "\n"
     ]
    },
    {
     "name": "stdout",
     "output_type": "stream",
     "text": [
      "Epoch 100, Loss 0.0259\n",
      "Training Accuracy: 0.9703, Testing Accuracy: 0.9698\n",
      "\n"
     ]
    },
    {
     "name": "stdout",
     "output_type": "stream",
     "text": [
      "Epoch 110, Loss 0.025\n",
      "Training Accuracy: 0.9714, Testing Accuracy: 0.9693\n",
      "\n"
     ]
    },
    {
     "name": "stdout",
     "output_type": "stream",
     "text": [
      "Epoch 120, Loss 0.0242\n",
      "Training Accuracy: 0.9723, Testing Accuracy: 0.9708\n",
      "\n"
     ]
    },
    {
     "name": "stdout",
     "output_type": "stream",
     "text": [
      "Epoch 130, Loss 0.0236\n",
      "Training Accuracy: 0.9732, Testing Accuracy: 0.9718\n",
      "\n"
     ]
    },
    {
     "name": "stdout",
     "output_type": "stream",
     "text": [
      "Epoch 140, Loss 0.0229\n",
      "Training Accuracy: 0.9737, Testing Accuracy: 0.9728\n",
      "\n"
     ]
    },
    {
     "name": "stdout",
     "output_type": "stream",
     "text": [
      "Epoch 150, Loss 0.0223\n",
      "Training Accuracy: 0.9745, Testing Accuracy: 0.9728\n",
      "\n"
     ]
    },
    {
     "name": "stdout",
     "output_type": "stream",
     "text": [
      "Epoch 160, Loss 0.0218\n",
      "Training Accuracy: 0.9751, Testing Accuracy: 0.9728\n",
      "\n"
     ]
    },
    {
     "name": "stdout",
     "output_type": "stream",
     "text": [
      "Epoch 170, Loss 0.0212\n",
      "Training Accuracy: 0.9757, Testing Accuracy: 0.9733\n",
      "\n"
     ]
    },
    {
     "name": "stdout",
     "output_type": "stream",
     "text": [
      "Epoch 180, Loss 0.0207\n",
      "Training Accuracy: 0.9765, Testing Accuracy: 0.9743\n",
      "\n"
     ]
    },
    {
     "name": "stdout",
     "output_type": "stream",
     "text": [
      "Epoch 190, Loss 0.0203\n",
      "Training Accuracy: 0.9770, Testing Accuracy: 0.9743\n",
      "\n"
     ]
    },
    {
     "name": "stdout",
     "output_type": "stream",
     "text": [
      "Epoch 200, Loss 0.0198\n",
      "Training Accuracy: 0.9775, Testing Accuracy: 0.9743\n",
      "\n"
     ]
    },
    {
     "name": "stdout",
     "output_type": "stream",
     "text": [
      "Epoch 210, Loss 0.0194\n",
      "Training Accuracy: 0.9783, Testing Accuracy: 0.9753\n",
      "\n"
     ]
    },
    {
     "name": "stdout",
     "output_type": "stream",
     "text": [
      "Epoch 220, Loss 0.019\n",
      "Training Accuracy: 0.9786, Testing Accuracy: 0.9753\n",
      "\n"
     ]
    },
    {
     "name": "stdout",
     "output_type": "stream",
     "text": [
      "Epoch 230, Loss 0.0186\n",
      "Training Accuracy: 0.9793, Testing Accuracy: 0.9753\n",
      "\n"
     ]
    },
    {
     "name": "stdout",
     "output_type": "stream",
     "text": [
      "Epoch 240, Loss 0.0182\n",
      "Training Accuracy: 0.9799, Testing Accuracy: 0.9753\n",
      "\n"
     ]
    },
    {
     "name": "stdout",
     "output_type": "stream",
     "text": [
      "Epoch 250, Loss 0.0178\n",
      "Training Accuracy: 0.9805, Testing Accuracy: 0.9753\n",
      "\n"
     ]
    },
    {
     "data": {
      "text/plain": [
       "0.02788843953163781"
      ]
     },
     "execution_count": 20,
     "metadata": {},
     "output_type": "execute_result"
    }
   ],
   "source": [
    "print(\"====== Neural Network ======\")\n",
    "learner_nn.train_loop(dl)"
   ]
  },
  {
   "cell_type": "markdown",
   "metadata": {
    "papermill": {
     "duration": 0.040687,
     "end_time": "2020-09-08T00:08:42.946890",
     "exception": false,
     "start_time": "2020-09-08T00:08:42.906203",
     "status": "completed"
    },
    "tags": []
   },
   "source": [
    "### Logistic Regression based Implementation."
   ]
  },
  {
   "cell_type": "code",
   "execution_count": 21,
   "metadata": {
    "execution": {
     "iopub.execute_input": "2020-09-08T00:08:43.032539Z",
     "iopub.status.busy": "2020-09-08T00:08:43.031740Z",
     "iopub.status.idle": "2020-09-08T00:08:43.043827Z",
     "shell.execute_reply": "2020-09-08T00:08:43.044837Z"
    },
    "papermill": {
     "duration": 0.057936,
     "end_time": "2020-09-08T00:08:43.044987",
     "exception": false,
     "start_time": "2020-09-08T00:08:42.987051",
     "status": "completed"
    },
    "tags": []
   },
   "outputs": [],
   "source": [
    "learner_lr = Learner(loss, model_lr, opt, config.num_epochs)\n",
    "acc_lr = ClfCallback(learner_lr, config.bs, training_xdata , testing_xdata, training_ydata, testing_ydata)\n",
    "learner_lr.set_callbacks([acc_lr])"
   ]
  },
  {
   "cell_type": "code",
   "execution_count": 22,
   "metadata": {
    "execution": {
     "iopub.execute_input": "2020-09-08T00:08:43.140073Z",
     "iopub.status.busy": "2020-09-08T00:08:43.139425Z",
     "iopub.status.idle": "2020-09-08T00:09:02.551036Z",
     "shell.execute_reply": "2020-09-08T00:09:02.551653Z"
    },
    "papermill": {
     "duration": 19.465819,
     "end_time": "2020-09-08T00:09:02.551831",
     "exception": false,
     "start_time": "2020-09-08T00:08:43.086012",
     "status": "completed"
    },
    "tags": []
   },
   "outputs": [
    {
     "name": "stdout",
     "output_type": "stream",
     "text": [
      "====== Logistic Regression ======\n",
      "Epoch 0, Loss 0.2324\n",
      "Training Accuracy: 0.6961, Testing Accuracy: 0.6845\n",
      "\n"
     ]
    },
    {
     "name": "stdout",
     "output_type": "stream",
     "text": [
      "Epoch 10, Loss 0.1048\n",
      "Training Accuracy: 0.8996, Testing Accuracy: 0.9168\n",
      "\n"
     ]
    },
    {
     "name": "stdout",
     "output_type": "stream",
     "text": [
      "Epoch 20, Loss 0.0808\n",
      "Training Accuracy: 0.9215, Testing Accuracy: 0.9360\n",
      "\n"
     ]
    },
    {
     "name": "stdout",
     "output_type": "stream",
     "text": [
      "Epoch 30, Loss 0.0696\n",
      "Training Accuracy: 0.9323, Testing Accuracy: 0.9451\n",
      "\n"
     ]
    },
    {
     "name": "stdout",
     "output_type": "stream",
     "text": [
      "Epoch 40, Loss 0.0628\n",
      "Training Accuracy: 0.9376, Testing Accuracy: 0.9501\n",
      "\n"
     ]
    },
    {
     "name": "stdout",
     "output_type": "stream",
     "text": [
      "Epoch 50, Loss 0.0582\n",
      "Training Accuracy: 0.9415, Testing Accuracy: 0.9536\n",
      "\n"
     ]
    },
    {
     "name": "stdout",
     "output_type": "stream",
     "text": [
      "Epoch 60, Loss 0.0547\n",
      "Training Accuracy: 0.9447, Testing Accuracy: 0.9546\n",
      "\n"
     ]
    },
    {
     "name": "stdout",
     "output_type": "stream",
     "text": [
      "Epoch 70, Loss 0.0521\n",
      "Training Accuracy: 0.9473, Testing Accuracy: 0.9582\n",
      "\n"
     ]
    },
    {
     "name": "stdout",
     "output_type": "stream",
     "text": [
      "Epoch 80, Loss 0.05\n",
      "Training Accuracy: 0.9489, Testing Accuracy: 0.9582\n",
      "\n"
     ]
    },
    {
     "name": "stdout",
     "output_type": "stream",
     "text": [
      "Epoch 90, Loss 0.0482\n",
      "Training Accuracy: 0.9508, Testing Accuracy: 0.9587\n",
      "\n"
     ]
    },
    {
     "name": "stdout",
     "output_type": "stream",
     "text": [
      "Epoch 100, Loss 0.0467\n",
      "Training Accuracy: 0.9520, Testing Accuracy: 0.9612\n",
      "\n"
     ]
    },
    {
     "name": "stdout",
     "output_type": "stream",
     "text": [
      "Epoch 110, Loss 0.0455\n",
      "Training Accuracy: 0.9533, Testing Accuracy: 0.9617\n",
      "\n"
     ]
    },
    {
     "name": "stdout",
     "output_type": "stream",
     "text": [
      "Epoch 120, Loss 0.0444\n",
      "Training Accuracy: 0.9538, Testing Accuracy: 0.9622\n",
      "\n"
     ]
    },
    {
     "name": "stdout",
     "output_type": "stream",
     "text": [
      "Epoch 130, Loss 0.0434\n",
      "Training Accuracy: 0.9553, Testing Accuracy: 0.9632\n",
      "\n"
     ]
    },
    {
     "name": "stdout",
     "output_type": "stream",
     "text": [
      "Epoch 140, Loss 0.0425\n",
      "Training Accuracy: 0.9557, Testing Accuracy: 0.9637\n",
      "\n"
     ]
    },
    {
     "name": "stdout",
     "output_type": "stream",
     "text": [
      "Epoch 150, Loss 0.0418\n",
      "Training Accuracy: 0.9566, Testing Accuracy: 0.9627\n",
      "\n"
     ]
    },
    {
     "name": "stdout",
     "output_type": "stream",
     "text": [
      "Epoch 160, Loss 0.0411\n",
      "Training Accuracy: 0.9573, Testing Accuracy: 0.9637\n",
      "\n"
     ]
    },
    {
     "name": "stdout",
     "output_type": "stream",
     "text": [
      "Epoch 170, Loss 0.0404\n",
      "Training Accuracy: 0.9582, Testing Accuracy: 0.9632\n",
      "\n"
     ]
    },
    {
     "name": "stdout",
     "output_type": "stream",
     "text": [
      "Epoch 180, Loss 0.0398\n",
      "Training Accuracy: 0.9591, Testing Accuracy: 0.9632\n",
      "\n"
     ]
    },
    {
     "name": "stdout",
     "output_type": "stream",
     "text": [
      "Epoch 190, Loss 0.0393\n",
      "Training Accuracy: 0.9591, Testing Accuracy: 0.9632\n",
      "\n"
     ]
    },
    {
     "name": "stdout",
     "output_type": "stream",
     "text": [
      "Epoch 200, Loss 0.0388\n",
      "Training Accuracy: 0.9595, Testing Accuracy: 0.9632\n",
      "\n"
     ]
    },
    {
     "name": "stdout",
     "output_type": "stream",
     "text": [
      "Epoch 210, Loss 0.0384\n",
      "Training Accuracy: 0.9600, Testing Accuracy: 0.9642\n",
      "\n"
     ]
    },
    {
     "name": "stdout",
     "output_type": "stream",
     "text": [
      "Epoch 220, Loss 0.0379\n",
      "Training Accuracy: 0.9603, Testing Accuracy: 0.9642\n",
      "\n"
     ]
    },
    {
     "name": "stdout",
     "output_type": "stream",
     "text": [
      "Epoch 230, Loss 0.0375\n",
      "Training Accuracy: 0.9604, Testing Accuracy: 0.9647\n",
      "\n"
     ]
    },
    {
     "name": "stdout",
     "output_type": "stream",
     "text": [
      "Epoch 240, Loss 0.0372\n",
      "Training Accuracy: 0.9606, Testing Accuracy: 0.9652\n",
      "\n"
     ]
    },
    {
     "name": "stdout",
     "output_type": "stream",
     "text": [
      "Epoch 250, Loss 0.0368\n",
      "Training Accuracy: 0.9608, Testing Accuracy: 0.9657\n",
      "\n"
     ]
    },
    {
     "data": {
      "text/plain": [
       "0.029642411350464214"
      ]
     },
     "execution_count": 22,
     "metadata": {},
     "output_type": "execute_result"
    }
   ],
   "source": [
    "print(\"====== Logistic Regression ======\")\n",
    "learner_lr.train_loop(dl)"
   ]
  },
  {
   "cell_type": "markdown",
   "metadata": {
    "papermill": {
     "duration": 0.053207,
     "end_time": "2020-09-08T00:09:02.662881",
     "exception": false,
     "start_time": "2020-09-08T00:09:02.609674",
     "status": "completed"
    },
    "tags": []
   },
   "source": [
    "### Comparing results of NN and LR"
   ]
  },
  {
   "cell_type": "code",
   "execution_count": 23,
   "metadata": {
    "execution": {
     "iopub.execute_input": "2020-09-08T00:09:02.784751Z",
     "iopub.status.busy": "2020-09-08T00:09:02.783940Z",
     "iopub.status.idle": "2020-09-08T00:09:03.066009Z",
     "shell.execute_reply": "2020-09-08T00:09:03.065401Z"
    },
    "papermill": {
     "duration": 0.343996,
     "end_time": "2020-09-08T00:09:03.066163",
     "exception": false,
     "start_time": "2020-09-08T00:09:02.722167",
     "status": "completed"
    },
    "tags": []
   },
   "outputs": [
    {
     "data": {
      "text/plain": [
       "<matplotlib.legend.Legend at 0x7fa149d81358>"
      ]
     },
     "execution_count": 23,
     "metadata": {},
     "output_type": "execute_result"
    },
    {
     "data": {
      "image/png": "[encoded data removed]",
      "text/plain": [
       "<Figure size 1080x720 with 1 Axes>"
      ]
     },
     "metadata": {
      "needs_background": "light"
     },
     "output_type": "display_data"
    }
   ],
   "source": [
    "plt.figure(figsize=(15,10))\n",
    "\n",
    "# Neural Network plots\n",
    "plt.plot(acc_nn.accuracies, 'r-', label = \"Training Accuracies - NN\")\n",
    "plt.plot(acc_nn.test_accuracies, 'g-', label = \"Testing Accuracies - NN\")\n",
    "\n",
    "# Logistic Regression plots\n",
    "plt.plot(acc_lr.accuracies, 'k-', label = \"Training Accuracies - LR\")\n",
    "plt.plot(acc_lr.test_accuracies, 'b-', label = \"Testing Accuracies - LR\")\n",
    "\n",
    "plt.ylim(0.8, 1)\n",
    "\n",
    "plt.legend()\n",
    "\n"
   ]
  },
  {
   "cell_type": "markdown",
   "metadata": {
    "papermill": {
     "duration": 0.053166,
     "end_time": "2020-09-08T00:09:03.176203",
     "exception": false,
     "start_time": "2020-09-08T00:09:03.123037",
     "status": "completed"
    },
    "tags": []
   },
   "source": [
    "### From the plot, we can observe the following:\n",
    "- Neural Network achieves higher accuracy than the Logistic Regression model.\n",
    "- This apparently, is because of overfitting, i.e. NN captures more noise than data.\n",
    "- Testing accuracy of NN drops below the Training accuracy at higher epochs. This explains the over-fitting on training data.\n",
    "- Logistic Regression gives a reliable accuracy, without the above mentioned problem.\n"
   ]
  },
  {
   "cell_type": "markdown",
   "metadata": {
    "papermill": {
     "duration": 0.050507,
     "end_time": "2020-09-08T00:09:03.277657",
     "exception": false,
     "start_time": "2020-09-08T00:09:03.227150",
     "status": "completed"
    },
    "tags": []
   },
   "source": [
    "### Moving till the last but one layer (excluding it).\n",
    "#### Plotting the outputs of this layer of the NN."
   ]
  },
  {
   "cell_type": "code",
   "execution_count": 24,
   "metadata": {
    "execution": {
     "iopub.execute_input": "2020-09-08T00:09:03.399245Z",
     "iopub.status.busy": "2020-09-08T00:09:03.398586Z",
     "iopub.status.idle": "2020-09-08T00:09:03.413728Z",
     "shell.execute_reply": "2020-09-08T00:09:03.414263Z"
    },
    "papermill": {
     "duration": 0.081201,
     "end_time": "2020-09-08T00:09:03.414446",
     "exception": false,
     "start_time": "2020-09-08T00:09:03.333245",
     "status": "completed"
    },
    "tags": []
   },
   "outputs": [],
   "source": [
    "model_new = Model(layers[:-2])"
   ]
  },
  {
   "cell_type": "code",
   "execution_count": 25,
   "metadata": {
    "execution": {
     "iopub.execute_input": "2020-09-08T00:09:03.539312Z",
     "iopub.status.busy": "2020-09-08T00:09:03.538657Z",
     "iopub.status.idle": "2020-09-08T00:09:03.566656Z",
     "shell.execute_reply": "2020-09-08T00:09:03.567350Z"
    },
    "papermill": {
     "duration": 0.090715,
     "end_time": "2020-09-08T00:09:03.567530",
     "exception": false,
     "start_time": "2020-09-08T00:09:03.476815",
     "status": "completed"
    },
    "tags": []
   },
   "outputs": [],
   "source": [
    "plot_testing = model_new(testing_xdata)"
   ]
  },
  {
   "cell_type": "code",
   "execution_count": 26,
   "metadata": {
    "execution": {
     "iopub.execute_input": "2020-09-08T00:09:03.681203Z",
     "iopub.status.busy": "2020-09-08T00:09:03.680544Z",
     "iopub.status.idle": "2020-09-08T00:09:03.943709Z",
     "shell.execute_reply": "2020-09-08T00:09:03.943036Z"
    },
    "papermill": {
     "duration": 0.322122,
     "end_time": "2020-09-08T00:09:03.943878",
     "exception": false,
     "start_time": "2020-09-08T00:09:03.621756",
     "status": "completed"
    },
    "tags": []
   },
   "outputs": [
    {
     "data": {
      "text/plain": [
       "Text(0.5, 1.0, 'Outputs')"
      ]
     },
     "execution_count": 26,
     "metadata": {},
     "output_type": "execute_result"
    },
    {
     "data": {
      "image/png": "[encoded data removed]",
      "text/plain": [
       "<Figure size 576x504 with 1 Axes>"
      ]
     },
     "metadata": {
      "needs_background": "light"
     },
     "output_type": "display_data"
    }
   ],
   "source": [
    "plt.figure(figsize=(8,7))\n",
    "plt.scatter(plot_testing[:,0], plot_testing[:,1], alpha = 0.1, c = y_test.ravel());\n",
    "plt.title('Outputs')"
   ]
  },
  {
   "cell_type": "markdown",
   "metadata": {
    "papermill": {
     "duration": 0.057465,
     "end_time": "2020-09-08T00:09:04.062768",
     "exception": false,
     "start_time": "2020-09-08T00:09:04.005303",
     "status": "completed"
    },
    "tags": []
   },
   "source": [
    "### Plotting probability contours"
   ]
  },
  {
   "cell_type": "code",
   "execution_count": 27,
   "metadata": {
    "execution": {
     "iopub.execute_input": "2020-09-08T00:09:04.180465Z",
     "iopub.status.busy": "2020-09-08T00:09:04.179807Z",
     "iopub.status.idle": "2020-09-08T00:09:04.194020Z",
     "shell.execute_reply": "2020-09-08T00:09:04.194685Z"
    },
    "papermill": {
     "duration": 0.075002,
     "end_time": "2020-09-08T00:09:04.194845",
     "exception": false,
     "start_time": "2020-09-08T00:09:04.119843",
     "status": "completed"
    },
    "tags": []
   },
   "outputs": [],
   "source": [
    "model_prob = Model(layers[-2:]) "
   ]
  },
  {
   "cell_type": "code",
   "execution_count": 28,
   "metadata": {
    "execution": {
     "iopub.execute_input": "2020-09-08T00:09:04.320490Z",
     "iopub.status.busy": "2020-09-08T00:09:04.319753Z",
     "iopub.status.idle": "2020-09-08T00:09:04.335993Z",
     "shell.execute_reply": "2020-09-08T00:09:04.337834Z"
    },
    "papermill": {
     "duration": 0.086789,
     "end_time": "2020-09-08T00:09:04.338285",
     "exception": false,
     "start_time": "2020-09-08T00:09:04.251496",
     "status": "completed"
    },
    "tags": []
   },
   "outputs": [],
   "source": [
    "# Adjust the x and y ranges according to the above generated plot.\n",
    "x_range = np.linspace(-4, 1, 100) \n",
    "y_range = np.linspace(-6, 6, 100) \n",
    "x_grid, y_grid = np.meshgrid(x_range, y_range) # x_grid and y_grig are of size 100 X 100\n",
    "\n",
    "# converting x_grid and y_grid to continuous arrays\n",
    "x_grid_flat = np.ravel(x_grid)\n",
    "y_grid_flat = np.ravel(y_grid)\n",
    "\n",
    "# The last layer of the current model takes two columns as input. Hence transpose of np.vstack() is required.\n",
    "X = np.vstack((x_grid_flat, y_grid_flat)).T\n",
    "\n",
    "# x_grid and y_grid are of size 100 x 100\n",
    "probability_contour = model_prob(X).reshape(100,100) "
   ]
  },
  {
   "cell_type": "code",
   "execution_count": 29,
   "metadata": {
    "execution": {
     "iopub.execute_input": "2020-09-08T00:09:04.475274Z",
     "iopub.status.busy": "2020-09-08T00:09:04.474539Z",
     "iopub.status.idle": "2020-09-08T00:09:04.794844Z",
     "shell.execute_reply": "2020-09-08T00:09:04.795392Z"
    },
    "papermill": {
     "duration": 0.398989,
     "end_time": "2020-09-08T00:09:04.795564",
     "exception": false,
     "start_time": "2020-09-08T00:09:04.396575",
     "status": "completed"
    },
    "tags": []
   },
   "outputs": [
    {
     "data": {
      "image/png": "[encoded data removed]",
      "text/plain": [
       "<Figure size 720x648 with 1 Axes>"
      ]
     },
     "metadata": {
      "needs_background": "light"
     },
     "output_type": "display_data"
    }
   ],
   "source": [
    "plt.figure(figsize=(10,9))\n",
    "plt.scatter(plot_testing[:,0], plot_testing[:,1], alpha = 0.1, c = y_test.ravel())\n",
    "contours = plt.contour(x_grid,y_grid,probability_contour)\n",
    "plt.title('Probability Contours')\n",
    "plt.clabel(contours, inline = True );"
   ]
  }
 ],
 "metadata": {
  "kernelspec": {
   "display_name": "Python 3",
   "language": "python",
   "name": "python3"
  },
  "language_info": {
   "codemirror_mode": {
    "name": "ipython",
    "version": 3
   },
   "file_extension": ".py",
   "mimetype": "text/x-python",
   "name": "python",
   "nbconvert_exporter": "python",
   "pygments_lexer": "ipython3",
   "version": "3.6.12"
  },
  "papermill": {
   "duration": 159.482095,
   "end_time": "2020-09-08T00:09:06.157528",
   "environment_variables": {},
   "exception": null,
   "input_path": "2020-08-11-NeuralNetwork.ipynb",
   "output_path": "2020-08-11-NeuralNetwork.ipynb",
   "parameters": {},
   "start_time": "2020-09-08T00:06:26.675433",
   "version": "2.1.2"
  }
 },
 "nbformat": 4,
 "nbformat_minor": 4
}