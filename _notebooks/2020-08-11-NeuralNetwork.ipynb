{
 "cells": [
  {
   "cell_type": "markdown",
   "id": "fitted-suggestion",
   "metadata": {
    "papermill": {
     "duration": 0.037892,
     "end_time": "2021-08-16T20:05:42.894170",
     "exception": false,
     "start_time": "2021-08-16T20:05:42.856278",
     "status": "completed"
    },
    "tags": []
   },
   "source": [
    "# \"A Basic Neural Network: Differentiate Hand-Written Digits\"\n",
    "\n",
    "- badges: true\n",
    "- author: Akshith Sriram"
   ]
  },
  {
   "cell_type": "markdown",
   "id": "signal-flexibility",
   "metadata": {
    "papermill": {
     "duration": 0.033563,
     "end_time": "2021-08-16T20:05:42.962634",
     "exception": false,
     "start_time": "2021-08-16T20:05:42.929071",
     "status": "completed"
    },
    "tags": []
   },
   "source": [
    "### Key Objectives:\n",
    "- Building a neural network that differentiates two hand-written digits 3 and 8.\n",
    "- Comparing the results of this Neural Network (NN) to that of a Logistic Regression (LR) model.\n",
    "\n",
    "### Requirements:\n",
    "- 'Kudzu' : A neural network library that was designed during our course by [Univ.AI](www.univ.ai). \n",
    "- MNIST Database\n",
    "\n",
    "If MNIST is not installed, use the command `!pip install mnist` given below.\n",
    "It can be run both from the command line and Jupyter Notebook."
   ]
  },
  {
   "cell_type": "code",
   "execution_count": 1,
   "id": "british-texture",
   "metadata": {
    "execution": {
     "iopub.execute_input": "2021-08-16T20:05:43.042620Z",
     "iopub.status.busy": "2021-08-16T20:05:43.041906Z",
     "iopub.status.idle": "2021-08-16T20:05:45.981139Z",
     "shell.execute_reply": "2021-08-16T20:05:45.980372Z"
    },
    "papermill": {
     "duration": 2.985124,
     "end_time": "2021-08-16T20:05:45.981302",
     "exception": false,
     "start_time": "2021-08-16T20:05:42.996178",
     "status": "completed"
    },
    "tags": []
   },
   "outputs": [
    {
     "name": "stdout",
     "output_type": "stream",
     "text": [
      "Collecting mnist\r\n"
     ]
    },
    {
     "name": "stdout",
     "output_type": "stream",
     "text": [
      "  Downloading mnist-0.2.2-py2.py3-none-any.whl (3.5 kB)\r\n",
      "Requirement already satisfied: numpy in /opt/hostedtoolcache/Python/3.6.14/x64/lib/python3.6/site-packages (from mnist) (1.19.5)\r\n"
     ]
    },
    {
     "name": "stdout",
     "output_type": "stream",
     "text": [
      "Installing collected packages: mnist\r\n"
     ]
    },
    {
     "name": "stdout",
     "output_type": "stream",
     "text": [
      "Successfully installed mnist-0.2.2\r\n"
     ]
    },
    {
     "name": "stdout",
     "output_type": "stream",
     "text": [
      "\u001b[33mWARNING: You are using pip version 21.2.3; however, version 21.2.4 is available.\r\n",
      "You should consider upgrading via the '/opt/hostedtoolcache/Python/3.6.14/x64/bin/python -m pip install --upgrade pip' command.\u001b[0m\r\n"
     ]
    }
   ],
   "source": [
    "!pip install mnist "
   ]
  },
  {
   "cell_type": "markdown",
   "id": "stunning-extra",
   "metadata": {
    "papermill": {
     "duration": 0.035587,
     "end_time": "2021-08-16T20:05:46.053296",
     "exception": false,
     "start_time": "2021-08-16T20:05:46.017709",
     "status": "completed"
    },
    "tags": []
   },
   "source": [
    "#### Importing necessary libraries"
   ]
  },
  {
   "cell_type": "code",
   "execution_count": 2,
   "id": "wooden-france",
   "metadata": {
    "execution": {
     "iopub.execute_input": "2021-08-16T20:05:46.131562Z",
     "iopub.status.busy": "2021-08-16T20:05:46.130821Z",
     "iopub.status.idle": "2021-08-16T20:05:46.745654Z",
     "shell.execute_reply": "2021-08-16T20:05:46.745098Z"
    },
    "papermill": {
     "duration": 0.657671,
     "end_time": "2021-08-16T20:05:46.745797",
     "exception": false,
     "start_time": "2021-08-16T20:05:46.088126",
     "status": "completed"
    },
    "tags": []
   },
   "outputs": [],
   "source": [
    "%load_ext autoreload\n",
    "%autoreload 2\n",
    "\n",
    "%matplotlib inline\n",
    "import matplotlib.pyplot as plt\n",
    "\n",
    "import numpy as np\n",
    "import pandas as pd"
   ]
  },
  {
   "cell_type": "markdown",
   "id": "stunning-physics",
   "metadata": {
    "papermill": {
     "duration": 0.034224,
     "end_time": "2021-08-16T20:05:46.815389",
     "exception": false,
     "start_time": "2021-08-16T20:05:46.781165",
     "status": "completed"
    },
    "tags": []
   },
   "source": [
    "### Preparing the Data"
   ]
  },
  {
   "cell_type": "code",
   "execution_count": 3,
   "id": "unauthorized-remainder",
   "metadata": {
    "execution": {
     "iopub.execute_input": "2021-08-16T20:05:46.893190Z",
     "iopub.status.busy": "2021-08-16T20:05:46.892460Z",
     "iopub.status.idle": "2021-08-16T20:05:46.903819Z",
     "shell.execute_reply": "2021-08-16T20:05:46.904465Z"
    },
    "papermill": {
     "duration": 0.05338,
     "end_time": "2021-08-16T20:05:46.904617",
     "exception": false,
     "start_time": "2021-08-16T20:05:46.851237",
     "status": "completed"
    },
    "tags": []
   },
   "outputs": [],
   "source": [
    "import mnist"
   ]
  },
  {
   "cell_type": "code",
   "execution_count": 4,
   "id": "correct-antarctica",
   "metadata": {
    "execution": {
     "iopub.execute_input": "2021-08-16T20:05:46.978432Z",
     "iopub.status.busy": "2021-08-16T20:05:46.977757Z",
     "iopub.status.idle": "2021-08-16T20:10:47.475944Z",
     "shell.execute_reply": "2021-08-16T20:10:47.474745Z"
    },
    "papermill": {
     "duration": 300.536941,
     "end_time": "2021-08-16T20:10:47.476117",
     "exception": false,
     "start_time": "2021-08-16T20:05:46.939176",
     "status": "completed"
    },
    "tags": []
   },
   "outputs": [],
   "source": [
    "train_images = mnist.train_images()\n",
    "train_labels = mnist.train_labels()"
   ]
  },
  {
   "cell_type": "code",
   "execution_count": 5,
   "id": "musical-prospect",
   "metadata": {
    "execution": {
     "iopub.execute_input": "2021-08-16T20:10:47.557515Z",
     "iopub.status.busy": "2021-08-16T20:10:47.550518Z",
     "iopub.status.idle": "2021-08-16T20:10:47.566642Z",
     "shell.execute_reply": "2021-08-16T20:10:47.567159Z"
    },
    "papermill": {
     "duration": 0.054308,
     "end_time": "2021-08-16T20:10:47.567297",
     "exception": false,
     "start_time": "2021-08-16T20:10:47.512989",
     "status": "completed"
    },
    "tags": []
   },
   "outputs": [
    {
     "data": {
      "text/plain": [
       "((60000, 28, 28), (60000,))"
      ]
     },
     "execution_count": 5,
     "metadata": {},
     "output_type": "execute_result"
    }
   ],
   "source": [
    "train_images.shape, train_labels.shape"
   ]
  },
  {
   "cell_type": "code",
   "execution_count": 6,
   "id": "preliminary-elizabeth",
   "metadata": {
    "execution": {
     "iopub.execute_input": "2021-08-16T20:10:47.641897Z",
     "iopub.status.busy": "2021-08-16T20:10:47.641209Z",
     "iopub.status.idle": "2021-08-16T20:11:31.447618Z",
     "shell.execute_reply": "2021-08-16T20:11:31.446978Z"
    },
    "papermill": {
     "duration": 43.844549,
     "end_time": "2021-08-16T20:11:31.447751",
     "exception": false,
     "start_time": "2021-08-16T20:10:47.603202",
     "status": "completed"
    },
    "tags": []
   },
   "outputs": [],
   "source": [
    "test_images = mnist.test_images()\n",
    "test_labels = mnist.test_labels()"
   ]
  },
  {
   "cell_type": "code",
   "execution_count": 7,
   "id": "acknowledged-oxygen",
   "metadata": {
    "execution": {
     "iopub.execute_input": "2021-08-16T20:11:31.523921Z",
     "iopub.status.busy": "2021-08-16T20:11:31.523226Z",
     "iopub.status.idle": "2021-08-16T20:11:31.536510Z",
     "shell.execute_reply": "2021-08-16T20:11:31.537229Z"
    },
    "papermill": {
     "duration": 0.053423,
     "end_time": "2021-08-16T20:11:31.537374",
     "exception": false,
     "start_time": "2021-08-16T20:11:31.483951",
     "status": "completed"
    },
    "tags": []
   },
   "outputs": [
    {
     "data": {
      "text/plain": [
       "((10000, 28, 28), (10000,))"
      ]
     },
     "execution_count": 7,
     "metadata": {},
     "output_type": "execute_result"
    }
   ],
   "source": [
    "test_images.shape, test_labels.shape"
   ]
  },
  {
   "cell_type": "code",
   "execution_count": 8,
   "id": "innovative-organic",
   "metadata": {
    "execution": {
     "iopub.execute_input": "2021-08-16T20:11:31.612198Z",
     "iopub.status.busy": "2021-08-16T20:11:31.611544Z",
     "iopub.status.idle": "2021-08-16T20:11:31.788988Z",
     "shell.execute_reply": "2021-08-16T20:11:31.789503Z"
    },
    "papermill": {
     "duration": 0.216876,
     "end_time": "2021-08-16T20:11:31.789657",
     "exception": false,
     "start_time": "2021-08-16T20:11:31.572781",
     "status": "completed"
    },
    "tags": []
   },
   "outputs": [
    {
     "name": "stdout",
     "output_type": "stream",
     "text": [
      "2\n"
     ]
    },
    {
     "data": {
      "text/plain": [
       "<matplotlib.image.AxesImage at 0x7f827edf1208>"
      ]
     },
     "execution_count": 8,
     "metadata": {},
     "output_type": "execute_result"
    },
    {
     "data": {
      "image/png": "[encoded data removed]",
      "text/plain": [
       "<Figure size 432x288 with 1 Axes>"
      ]
     },
     "metadata": {
      "needs_background": "light"
     },
     "output_type": "display_data"
    }
   ],
   "source": [
    "image_index = 7776 # You may select anything up to 60,000\n",
    "print(train_labels[image_index]) \n",
    "plt.imshow(train_images[image_index], cmap='Greys')"
   ]
  },
  {
   "cell_type": "markdown",
   "id": "facial-modem",
   "metadata": {
    "papermill": {
     "duration": 0.036806,
     "end_time": "2021-08-16T20:11:31.863932",
     "exception": false,
     "start_time": "2021-08-16T20:11:31.827126",
     "status": "completed"
    },
    "tags": []
   },
   "source": [
    "## Filter data to get 3 and 8 out"
   ]
  },
  {
   "cell_type": "code",
   "execution_count": 9,
   "id": "thousand-acquisition",
   "metadata": {
    "execution": {
     "iopub.execute_input": "2021-08-16T20:11:31.945635Z",
     "iopub.status.busy": "2021-08-16T20:11:31.944987Z",
     "iopub.status.idle": "2021-08-16T20:11:31.961478Z",
     "shell.execute_reply": "2021-08-16T20:11:31.962036Z"
    },
    "papermill": {
     "duration": 0.061796,
     "end_time": "2021-08-16T20:11:31.962240",
     "exception": false,
     "start_time": "2021-08-16T20:11:31.900444",
     "status": "completed"
    },
    "tags": []
   },
   "outputs": [],
   "source": [
    "train_filter = np.where((train_labels == 3 ) | (train_labels == 8))\n",
    "test_filter = np.where((test_labels == 3) | (test_labels == 8))\n",
    "X_train, y_train = train_images[train_filter], train_labels[train_filter]\n",
    "X_test, y_test = test_images[test_filter], test_labels[test_filter]"
   ]
  },
  {
   "cell_type": "markdown",
   "id": "ruled-access",
   "metadata": {
    "papermill": {
     "duration": 0.037826,
     "end_time": "2021-08-16T20:11:32.038715",
     "exception": false,
     "start_time": "2021-08-16T20:11:32.000889",
     "status": "completed"
    },
    "tags": []
   },
   "source": [
    "We normalize the pixel values in the 0 to 1 range"
   ]
  },
  {
   "cell_type": "code",
   "execution_count": 10,
   "id": "isolated-denver",
   "metadata": {
    "execution": {
     "iopub.execute_input": "2021-08-16T20:11:32.115403Z",
     "iopub.status.busy": "2021-08-16T20:11:32.114759Z",
     "iopub.status.idle": "2021-08-16T20:11:32.177840Z",
     "shell.execute_reply": "2021-08-16T20:11:32.177234Z"
    },
    "papermill": {
     "duration": 0.102565,
     "end_time": "2021-08-16T20:11:32.178023",
     "exception": false,
     "start_time": "2021-08-16T20:11:32.075458",
     "status": "completed"
    },
    "tags": []
   },
   "outputs": [],
   "source": [
    "X_train = X_train/255.\n",
    "X_test = X_test/255."
   ]
  },
  {
   "cell_type": "markdown",
   "id": "perfect-summary",
   "metadata": {
    "papermill": {
     "duration": 0.035381,
     "end_time": "2021-08-16T20:11:32.249986",
     "exception": false,
     "start_time": "2021-08-16T20:11:32.214605",
     "status": "completed"
    },
    "tags": []
   },
   "source": [
    "Setup the labels as 1 (when the digit is 3) and 0 (when the digit is 8)"
   ]
  },
  {
   "cell_type": "code",
   "execution_count": 11,
   "id": "personalized-growing",
   "metadata": {
    "execution": {
     "iopub.execute_input": "2021-08-16T20:11:32.326838Z",
     "iopub.status.busy": "2021-08-16T20:11:32.326173Z",
     "iopub.status.idle": "2021-08-16T20:11:32.340256Z",
     "shell.execute_reply": "2021-08-16T20:11:32.341053Z"
    },
    "papermill": {
     "duration": 0.054431,
     "end_time": "2021-08-16T20:11:32.341206",
     "exception": false,
     "start_time": "2021-08-16T20:11:32.286775",
     "status": "completed"
    },
    "tags": []
   },
   "outputs": [],
   "source": [
    "y_train = 1*(y_train==3)\n",
    "y_test = 1*(y_test==3)"
   ]
  },
  {
   "cell_type": "code",
   "execution_count": 12,
   "id": "considered-virgin",
   "metadata": {
    "execution": {
     "iopub.execute_input": "2021-08-16T20:11:32.420907Z",
     "iopub.status.busy": "2021-08-16T20:11:32.420233Z",
     "iopub.status.idle": "2021-08-16T20:11:32.431560Z",
     "shell.execute_reply": "2021-08-16T20:11:32.432270Z"
    },
    "papermill": {
     "duration": 0.054817,
     "end_time": "2021-08-16T20:11:32.432405",
     "exception": false,
     "start_time": "2021-08-16T20:11:32.377588",
     "status": "completed"
    },
    "tags": []
   },
   "outputs": [
    {
     "data": {
      "text/plain": [
       "((11982, 28, 28), (1984, 28, 28))"
      ]
     },
     "execution_count": 12,
     "metadata": {},
     "output_type": "execute_result"
    }
   ],
   "source": [
    "X_train.shape, X_test.shape"
   ]
  },
  {
   "cell_type": "markdown",
   "id": "civilian-mobile",
   "metadata": {
    "papermill": {
     "duration": 0.036975,
     "end_time": "2021-08-16T20:11:32.507352",
     "exception": false,
     "start_time": "2021-08-16T20:11:32.470377",
     "status": "completed"
    },
    "tags": []
   },
   "source": [
    "### Reshape the input data to create a linear array"
   ]
  },
  {
   "cell_type": "code",
   "execution_count": 13,
   "id": "colonial-adams",
   "metadata": {
    "execution": {
     "iopub.execute_input": "2021-08-16T20:11:32.586113Z",
     "iopub.status.busy": "2021-08-16T20:11:32.585463Z",
     "iopub.status.idle": "2021-08-16T20:11:32.599685Z",
     "shell.execute_reply": "2021-08-16T20:11:32.600324Z"
    },
    "papermill": {
     "duration": 0.055187,
     "end_time": "2021-08-16T20:11:32.600470",
     "exception": false,
     "start_time": "2021-08-16T20:11:32.545283",
     "status": "completed"
    },
    "tags": []
   },
   "outputs": [
    {
     "data": {
      "text/plain": [
       "((11982, 784), (1984, 784))"
      ]
     },
     "execution_count": 13,
     "metadata": {},
     "output_type": "execute_result"
    }
   ],
   "source": [
    "X_train = X_train.reshape(X_train.shape[0], -1)\n",
    "X_test = X_test.reshape(X_test.shape[0], -1)\n",
    "X_train.shape, X_test.shape"
   ]
  },
  {
   "cell_type": "markdown",
   "id": "smart-details",
   "metadata": {
    "papermill": {
     "duration": 0.037693,
     "end_time": "2021-08-16T20:11:32.676550",
     "exception": false,
     "start_time": "2021-08-16T20:11:32.638857",
     "status": "completed"
    },
    "tags": []
   },
   "source": [
    "### Importing appropriate functions from 'Kudzu'"
   ]
  },
  {
   "cell_type": "code",
   "execution_count": 14,
   "id": "celtic-trial",
   "metadata": {
    "execution": {
     "iopub.execute_input": "2021-08-16T20:11:32.757107Z",
     "iopub.status.busy": "2021-08-16T20:11:32.756432Z",
     "iopub.status.idle": "2021-08-16T20:11:32.777035Z",
     "shell.execute_reply": "2021-08-16T20:11:32.777556Z"
    },
    "papermill": {
     "duration": 0.063331,
     "end_time": "2021-08-16T20:11:32.777719",
     "exception": false,
     "start_time": "2021-08-16T20:11:32.714388",
     "status": "completed"
    },
    "tags": []
   },
   "outputs": [],
   "source": [
    "from kudzu.layer import Sigmoid\n",
    "from kudzu.layer import Relu\n",
    "from kudzu.layer import Affine, Sigmoid\n",
    "\n",
    "from kudzu.model import Model\n",
    "from kudzu.train import Learner\n",
    "from kudzu.optim import GD\n",
    "from kudzu.data import Data, Dataloader, Sampler\n",
    "\n",
    "from kudzu.callbacks import AccCallback\n",
    "from kudzu.callbacks import ClfCallback\n",
    "\n",
    "from kudzu.loss import MSE"
   ]
  },
  {
   "cell_type": "markdown",
   "id": "coupled-customer",
   "metadata": {
    "papermill": {
     "duration": 0.036731,
     "end_time": "2021-08-16T20:11:32.852277",
     "exception": false,
     "start_time": "2021-08-16T20:11:32.815546",
     "status": "completed"
    },
    "tags": []
   },
   "source": [
    "### Let us create a `Config` class, to store important parameters. \n",
    "This class essentially plays the role of a dictionary."
   ]
  },
  {
   "cell_type": "code",
   "execution_count": 15,
   "id": "young-ceiling",
   "metadata": {
    "execution": {
     "iopub.execute_input": "2021-08-16T20:11:32.944377Z",
     "iopub.status.busy": "2021-08-16T20:11:32.941642Z",
     "iopub.status.idle": "2021-08-16T20:11:32.947341Z",
     "shell.execute_reply": "2021-08-16T20:11:32.946736Z"
    },
    "papermill": {
     "duration": 0.057091,
     "end_time": "2021-08-16T20:11:32.947465",
     "exception": false,
     "start_time": "2021-08-16T20:11:32.890374",
     "status": "completed"
    },
    "tags": []
   },
   "outputs": [],
   "source": [
    "class Config:\n",
    "    pass\n",
    "config = Config()\n",
    "config.lr = 0.001\n",
    "config.num_epochs = 251\n",
    "config.bs = 50"
   ]
  },
  {
   "cell_type": "markdown",
   "id": "according-mandate",
   "metadata": {
    "papermill": {
     "duration": 0.037951,
     "end_time": "2021-08-16T20:11:33.023581",
     "exception": false,
     "start_time": "2021-08-16T20:11:32.985630",
     "status": "completed"
    },
    "tags": []
   },
   "source": [
    "### Initializing data to the variables"
   ]
  },
  {
   "cell_type": "code",
   "execution_count": 16,
   "id": "academic-disposition",
   "metadata": {
    "execution": {
     "iopub.execute_input": "2021-08-16T20:11:33.116766Z",
     "iopub.status.busy": "2021-08-16T20:11:33.109824Z",
     "iopub.status.idle": "2021-08-16T20:11:33.119327Z",
     "shell.execute_reply": "2021-08-16T20:11:33.119828Z"
    },
    "papermill": {
     "duration": 0.058724,
     "end_time": "2021-08-16T20:11:33.119981",
     "exception": false,
     "start_time": "2021-08-16T20:11:33.061257",
     "status": "completed"
    },
    "tags": []
   },
   "outputs": [],
   "source": [
    "data = Data(X_train, y_train.reshape(-1,1))\n",
    "sampler = Sampler(data, config.bs, shuffle=True)\n",
    "\n",
    "dl = Dataloader(data, sampler)\n",
    "\n",
    "opt = GD(config.lr)\n",
    "loss = MSE()"
   ]
  },
  {
   "cell_type": "code",
   "execution_count": 17,
   "id": "featured-commission",
   "metadata": {
    "execution": {
     "iopub.execute_input": "2021-08-16T20:11:33.199898Z",
     "iopub.status.busy": "2021-08-16T20:11:33.199254Z",
     "iopub.status.idle": "2021-08-16T20:11:33.212764Z",
     "shell.execute_reply": "2021-08-16T20:11:33.212149Z"
    },
    "papermill": {
     "duration": 0.056236,
     "end_time": "2021-08-16T20:11:33.212891",
     "exception": false,
     "start_time": "2021-08-16T20:11:33.156655",
     "status": "completed"
    },
    "tags": []
   },
   "outputs": [],
   "source": [
    "training_xdata = X_train\n",
    "testing_xdata = X_test\n",
    "training_ydata = y_train.reshape(-1,1)\n",
    "testing_ydata = y_test.reshape(-1,1)"
   ]
  },
  {
   "cell_type": "markdown",
   "id": "played-safety",
   "metadata": {
    "papermill": {
     "duration": 0.037524,
     "end_time": "2021-08-16T20:11:33.287712",
     "exception": false,
     "start_time": "2021-08-16T20:11:33.250188",
     "status": "completed"
    },
    "tags": []
   },
   "source": [
    "### Running Models with the Training data\n",
    "Details about the network layers:\n",
    "- A first affine layer has 784 inputs and does 100 affine transforms. These are followed by a Relu\n",
    "- A second affine layer has 100 inputs from the 100 activations of the past layer, and does 100 affine transforms. These are followed by a Relu\n",
    "- A third affine layer has 100 activations and does 2 affine transformations to create an embedding for visualization. There is no non-linearity here.\n",
    "- A final \"logistic regression\" which has an affine transform from 2 inputs to 1 output, which is squeezed through a sigmoid.\n",
    "\n",
    "Help taken from Anshuman's Notebook."
   ]
  },
  {
   "cell_type": "code",
   "execution_count": 18,
   "id": "asian-bankruptcy",
   "metadata": {
    "execution": {
     "iopub.execute_input": "2021-08-16T20:11:33.372219Z",
     "iopub.status.busy": "2021-08-16T20:11:33.371568Z",
     "iopub.status.idle": "2021-08-16T20:11:33.386800Z",
     "shell.execute_reply": "2021-08-16T20:11:33.386227Z"
    },
    "papermill": {
     "duration": 0.060843,
     "end_time": "2021-08-16T20:11:33.386926",
     "exception": false,
     "start_time": "2021-08-16T20:11:33.326083",
     "status": "completed"
    },
    "tags": []
   },
   "outputs": [],
   "source": [
    "# layers for the Neural Network\n",
    "layers = [Affine(\"first\", 784, 100), Relu(\"first\"), Affine(\"second\", 100, 100), Relu(\"second\"), Affine(\"third\", 100, 2), Affine(\"final\", 2, 1), Sigmoid(\"final\")]\n",
    "model_nn = Model(layers)\n",
    "\n",
    "# layers for the Logistic Regression\n",
    "layers_lr = [Affine(\"logits\", 784, 1), Sigmoid(\"sigmoid\")]\n",
    "model_lr = Model(layers_lr)"
   ]
  },
  {
   "cell_type": "code",
   "execution_count": 19,
   "id": "removed-butler",
   "metadata": {
    "execution": {
     "iopub.execute_input": "2021-08-16T20:11:33.464093Z",
     "iopub.status.busy": "2021-08-16T20:11:33.463407Z",
     "iopub.status.idle": "2021-08-16T20:11:33.475825Z",
     "shell.execute_reply": "2021-08-16T20:11:33.475278Z"
    },
    "papermill": {
     "duration": 0.052342,
     "end_time": "2021-08-16T20:11:33.475959",
     "exception": false,
     "start_time": "2021-08-16T20:11:33.423617",
     "status": "completed"
    },
    "tags": []
   },
   "outputs": [],
   "source": [
    "# suffix _nn stands for Neural Network.\n",
    "learner_nn = Learner(loss, model_nn, opt, config.num_epochs)\n",
    "acc_nn = ClfCallback(learner_nn, config.bs, training_xdata , testing_xdata, training_ydata, testing_ydata)\n",
    "learner_nn.set_callbacks([acc_nn])"
   ]
  },
  {
   "cell_type": "code",
   "execution_count": 20,
   "id": "conceptual-throw",
   "metadata": {
    "execution": {
     "iopub.execute_input": "2021-08-16T20:11:33.569108Z",
     "iopub.status.busy": "2021-08-16T20:11:33.568423Z",
     "iopub.status.idle": "2021-08-16T20:13:39.924114Z",
     "shell.execute_reply": "2021-08-16T20:13:39.924967Z"
    },
    "papermill": {
     "duration": 126.410073,
     "end_time": "2021-08-16T20:13:39.925111",
     "exception": false,
     "start_time": "2021-08-16T20:11:33.515038",
     "status": "completed"
    },
    "tags": []
   },
   "outputs": [
    {
     "name": "stdout",
     "output_type": "stream",
     "text": [
      "====== Neural Network ======\n"
     ]
    },
    {
     "name": "stdout",
     "output_type": "stream",
     "text": [
      "Epoch 0, Loss 0.2464\n",
      "Training Accuracy: 0.7151, Testing Accuracy: 0.7238\n",
      "\n"
     ]
    },
    {
     "name": "stdout",
     "output_type": "stream",
     "text": [
      "Epoch 10, Loss 0.0647\n",
      "Training Accuracy: 0.9337, Testing Accuracy: 0.9466\n",
      "\n"
     ]
    },
    {
     "name": "stdout",
     "output_type": "stream",
     "text": [
      "Epoch 20, Loss 0.043\n",
      "Training Accuracy: 0.9530, Testing Accuracy: 0.9632\n",
      "\n"
     ]
    },
    {
     "name": "stdout",
     "output_type": "stream",
     "text": [
      "Epoch 30, Loss 0.0356\n",
      "Training Accuracy: 0.9601, Testing Accuracy: 0.9682\n",
      "\n"
     ]
    },
    {
     "name": "stdout",
     "output_type": "stream",
     "text": [
      "Epoch 40, Loss 0.0318\n",
      "Training Accuracy: 0.9638, Testing Accuracy: 0.9703\n",
      "\n"
     ]
    },
    {
     "name": "stdout",
     "output_type": "stream",
     "text": [
      "Epoch 50, Loss 0.0292\n",
      "Training Accuracy: 0.9660, Testing Accuracy: 0.9723\n",
      "\n"
     ]
    },
    {
     "name": "stdout",
     "output_type": "stream",
     "text": [
      "Epoch 60, Loss 0.0274\n",
      "Training Accuracy: 0.9684, Testing Accuracy: 0.9738\n",
      "\n"
     ]
    },
    {
     "name": "stdout",
     "output_type": "stream",
     "text": [
      "Epoch 70, Loss 0.026\n",
      "Training Accuracy: 0.9703, Testing Accuracy: 0.9728\n",
      "\n"
     ]
    },
    {
     "name": "stdout",
     "output_type": "stream",
     "text": [
      "Epoch 80, Loss 0.0247\n",
      "Training Accuracy: 0.9711, Testing Accuracy: 0.9738\n",
      "\n"
     ]
    },
    {
     "name": "stdout",
     "output_type": "stream",
     "text": [
      "Epoch 90, Loss 0.0237\n",
      "Training Accuracy: 0.9727, Testing Accuracy: 0.9748\n",
      "\n"
     ]
    },
    {
     "name": "stdout",
     "output_type": "stream",
     "text": [
      "Epoch 100, Loss 0.0228\n",
      "Training Accuracy: 0.9744, Testing Accuracy: 0.9753\n",
      "\n"
     ]
    },
    {
     "name": "stdout",
     "output_type": "stream",
     "text": [
      "Epoch 110, Loss 0.022\n",
      "Training Accuracy: 0.9756, Testing Accuracy: 0.9753\n",
      "\n"
     ]
    },
    {
     "name": "stdout",
     "output_type": "stream",
     "text": [
      "Epoch 120, Loss 0.0212\n",
      "Training Accuracy: 0.9760, Testing Accuracy: 0.9753\n",
      "\n"
     ]
    },
    {
     "name": "stdout",
     "output_type": "stream",
     "text": [
      "Epoch 130, Loss 0.0205\n",
      "Training Accuracy: 0.9770, Testing Accuracy: 0.9763\n",
      "\n"
     ]
    },
    {
     "name": "stdout",
     "output_type": "stream",
     "text": [
      "Epoch 140, Loss 0.0199\n",
      "Training Accuracy: 0.9779, Testing Accuracy: 0.9763\n",
      "\n"
     ]
    },
    {
     "name": "stdout",
     "output_type": "stream",
     "text": [
      "Epoch 150, Loss 0.0193\n",
      "Training Accuracy: 0.9786, Testing Accuracy: 0.9763\n",
      "\n"
     ]
    },
    {
     "name": "stdout",
     "output_type": "stream",
     "text": [
      "Epoch 160, Loss 0.0188\n",
      "Training Accuracy: 0.9792, Testing Accuracy: 0.9763\n",
      "\n"
     ]
    },
    {
     "name": "stdout",
     "output_type": "stream",
     "text": [
      "Epoch 170, Loss 0.0182\n",
      "Training Accuracy: 0.9796, Testing Accuracy: 0.9768\n",
      "\n"
     ]
    },
    {
     "name": "stdout",
     "output_type": "stream",
     "text": [
      "Epoch 180, Loss 0.0177\n",
      "Training Accuracy: 0.9806, Testing Accuracy: 0.9768\n",
      "\n"
     ]
    },
    {
     "name": "stdout",
     "output_type": "stream",
     "text": [
      "Epoch 190, Loss 0.0173\n",
      "Training Accuracy: 0.9813, Testing Accuracy: 0.9773\n",
      "\n"
     ]
    },
    {
     "name": "stdout",
     "output_type": "stream",
     "text": [
      "Epoch 200, Loss 0.0168\n",
      "Training Accuracy: 0.9820, Testing Accuracy: 0.9773\n",
      "\n"
     ]
    },
    {
     "name": "stdout",
     "output_type": "stream",
     "text": [
      "Epoch 210, Loss 0.0164\n",
      "Training Accuracy: 0.9821, Testing Accuracy: 0.9773\n",
      "\n"
     ]
    },
    {
     "name": "stdout",
     "output_type": "stream",
     "text": [
      "Epoch 220, Loss 0.016\n",
      "Training Accuracy: 0.9830, Testing Accuracy: 0.9773\n",
      "\n"
     ]
    },
    {
     "name": "stdout",
     "output_type": "stream",
     "text": [
      "Epoch 230, Loss 0.0156\n",
      "Training Accuracy: 0.9834, Testing Accuracy: 0.9778\n",
      "\n"
     ]
    },
    {
     "name": "stdout",
     "output_type": "stream",
     "text": [
      "Epoch 240, Loss 0.0152\n",
      "Training Accuracy: 0.9839, Testing Accuracy: 0.9783\n",
      "\n"
     ]
    },
    {
     "name": "stdout",
     "output_type": "stream",
     "text": [
      "Epoch 250, Loss 0.0149\n",
      "Training Accuracy: 0.9846, Testing Accuracy: 0.9783\n",
      "\n"
     ]
    },
    {
     "data": {
      "text/plain": [
       "0.03429983587944276"
      ]
     },
     "execution_count": 20,
     "metadata": {},
     "output_type": "execute_result"
    }
   ],
   "source": [
    "print(\"====== Neural Network ======\")\n",
    "learner_nn.train_loop(dl)"
   ]
  },
  {
   "cell_type": "markdown",
   "id": "competent-suffering",
   "metadata": {
    "papermill": {
     "duration": 0.047363,
     "end_time": "2021-08-16T20:13:40.019678",
     "exception": false,
     "start_time": "2021-08-16T20:13:39.972315",
     "status": "completed"
    },
    "tags": []
   },
   "source": [
    "### Logistic Regression based Implementation."
   ]
  },
  {
   "cell_type": "code",
   "execution_count": 21,
   "id": "qualified-psychiatry",
   "metadata": {
    "execution": {
     "iopub.execute_input": "2021-08-16T20:13:40.120469Z",
     "iopub.status.busy": "2021-08-16T20:13:40.119714Z",
     "iopub.status.idle": "2021-08-16T20:13:40.131429Z",
     "shell.execute_reply": "2021-08-16T20:13:40.130379Z"
    },
    "papermill": {
     "duration": 0.066064,
     "end_time": "2021-08-16T20:13:40.131543",
     "exception": false,
     "start_time": "2021-08-16T20:13:40.065479",
     "status": "completed"
    },
    "tags": []
   },
   "outputs": [],
   "source": [
    "learner_lr = Learner(loss, model_lr, opt, config.num_epochs)\n",
    "acc_lr = ClfCallback(learner_lr, config.bs, training_xdata , testing_xdata, training_ydata, testing_ydata)\n",
    "learner_lr.set_callbacks([acc_lr])"
   ]
  },
  {
   "cell_type": "code",
   "execution_count": 22,
   "id": "average-outside",
   "metadata": {
    "execution": {
     "iopub.execute_input": "2021-08-16T20:13:40.230025Z",
     "iopub.status.busy": "2021-08-16T20:13:40.229389Z",
     "iopub.status.idle": "2021-08-16T20:13:58.217762Z",
     "shell.execute_reply": "2021-08-16T20:13:58.218682Z"
    },
    "papermill": {
     "duration": 18.04205,
     "end_time": "2021-08-16T20:13:58.218860",
     "exception": false,
     "start_time": "2021-08-16T20:13:40.176810",
     "status": "completed"
    },
    "tags": []
   },
   "outputs": [
    {
     "name": "stdout",
     "output_type": "stream",
     "text": [
      "====== Logistic Regression ======\n",
      "Epoch 0, Loss 0.255\n",
      "Training Accuracy: 0.6229, Testing Accuracy: 0.6260\n",
      "\n"
     ]
    },
    {
     "name": "stdout",
     "output_type": "stream",
     "text": [
      "Epoch 10, Loss 0.1077\n",
      "Training Accuracy: 0.9003, Testing Accuracy: 0.9153\n",
      "\n"
     ]
    },
    {
     "name": "stdout",
     "output_type": "stream",
     "text": [
      "Epoch 20, Loss 0.0825\n",
      "Training Accuracy: 0.9212, Testing Accuracy: 0.9370\n",
      "\n"
     ]
    },
    {
     "name": "stdout",
     "output_type": "stream",
     "text": [
      "Epoch 30, Loss 0.0708\n",
      "Training Accuracy: 0.9318, Testing Accuracy: 0.9456\n",
      "\n"
     ]
    },
    {
     "name": "stdout",
     "output_type": "stream",
     "text": [
      "Epoch 40, Loss 0.0637\n",
      "Training Accuracy: 0.9383, Testing Accuracy: 0.9496\n",
      "\n"
     ]
    },
    {
     "name": "stdout",
     "output_type": "stream",
     "text": [
      "Epoch 50, Loss 0.0589\n",
      "Training Accuracy: 0.9422, Testing Accuracy: 0.9521\n",
      "\n"
     ]
    },
    {
     "name": "stdout",
     "output_type": "stream",
     "text": [
      "Epoch 60, Loss 0.0554\n",
      "Training Accuracy: 0.9448, Testing Accuracy: 0.9541\n",
      "\n"
     ]
    },
    {
     "name": "stdout",
     "output_type": "stream",
     "text": [
      "Epoch 70, Loss 0.0527\n",
      "Training Accuracy: 0.9475, Testing Accuracy: 0.9556\n",
      "\n"
     ]
    },
    {
     "name": "stdout",
     "output_type": "stream",
     "text": [
      "Epoch 80, Loss 0.0505\n",
      "Training Accuracy: 0.9492, Testing Accuracy: 0.9572\n",
      "\n"
     ]
    },
    {
     "name": "stdout",
     "output_type": "stream",
     "text": [
      "Epoch 90, Loss 0.0487\n",
      "Training Accuracy: 0.9510, Testing Accuracy: 0.9587\n",
      "\n"
     ]
    },
    {
     "name": "stdout",
     "output_type": "stream",
     "text": [
      "Epoch 100, Loss 0.0472\n",
      "Training Accuracy: 0.9524, Testing Accuracy: 0.9607\n",
      "\n"
     ]
    },
    {
     "name": "stdout",
     "output_type": "stream",
     "text": [
      "Epoch 110, Loss 0.0459\n",
      "Training Accuracy: 0.9538, Testing Accuracy: 0.9607\n",
      "\n"
     ]
    },
    {
     "name": "stdout",
     "output_type": "stream",
     "text": [
      "Epoch 120, Loss 0.0447\n",
      "Training Accuracy: 0.9547, Testing Accuracy: 0.9627\n",
      "\n"
     ]
    },
    {
     "name": "stdout",
     "output_type": "stream",
     "text": [
      "Epoch 130, Loss 0.0437\n",
      "Training Accuracy: 0.9558, Testing Accuracy: 0.9632\n",
      "\n"
     ]
    },
    {
     "name": "stdout",
     "output_type": "stream",
     "text": [
      "Epoch 140, Loss 0.0429\n",
      "Training Accuracy: 0.9564, Testing Accuracy: 0.9637\n",
      "\n"
     ]
    },
    {
     "name": "stdout",
     "output_type": "stream",
     "text": [
      "Epoch 150, Loss 0.0421\n",
      "Training Accuracy: 0.9573, Testing Accuracy: 0.9642\n",
      "\n"
     ]
    },
    {
     "name": "stdout",
     "output_type": "stream",
     "text": [
      "Epoch 160, Loss 0.0414\n",
      "Training Accuracy: 0.9577, Testing Accuracy: 0.9642\n",
      "\n"
     ]
    },
    {
     "name": "stdout",
     "output_type": "stream",
     "text": [
      "Epoch 170, Loss 0.0407\n",
      "Training Accuracy: 0.9579, Testing Accuracy: 0.9642\n",
      "\n"
     ]
    },
    {
     "name": "stdout",
     "output_type": "stream",
     "text": [
      "Epoch 180, Loss 0.0401\n",
      "Training Accuracy: 0.9585, Testing Accuracy: 0.9642\n",
      "\n"
     ]
    },
    {
     "name": "stdout",
     "output_type": "stream",
     "text": [
      "Epoch 190, Loss 0.0396\n",
      "Training Accuracy: 0.9588, Testing Accuracy: 0.9652\n",
      "\n"
     ]
    },
    {
     "name": "stdout",
     "output_type": "stream",
     "text": [
      "Epoch 200, Loss 0.0391\n",
      "Training Accuracy: 0.9589, Testing Accuracy: 0.9652\n",
      "\n"
     ]
    },
    {
     "name": "stdout",
     "output_type": "stream",
     "text": [
      "Epoch 210, Loss 0.0386\n",
      "Training Accuracy: 0.9594, Testing Accuracy: 0.9667\n",
      "\n"
     ]
    },
    {
     "name": "stdout",
     "output_type": "stream",
     "text": [
      "Epoch 220, Loss 0.0382\n",
      "Training Accuracy: 0.9595, Testing Accuracy: 0.9667\n",
      "\n"
     ]
    },
    {
     "name": "stdout",
     "output_type": "stream",
     "text": [
      "Epoch 230, Loss 0.0378\n",
      "Training Accuracy: 0.9599, Testing Accuracy: 0.9667\n",
      "\n"
     ]
    },
    {
     "name": "stdout",
     "output_type": "stream",
     "text": [
      "Epoch 240, Loss 0.0374\n",
      "Training Accuracy: 0.9603, Testing Accuracy: 0.9667\n",
      "\n"
     ]
    },
    {
     "name": "stdout",
     "output_type": "stream",
     "text": [
      "Epoch 250, Loss 0.037\n",
      "Training Accuracy: 0.9607, Testing Accuracy: 0.9672\n",
      "\n"
     ]
    },
    {
     "data": {
      "text/plain": [
       "0.044506909336449005"
      ]
     },
     "execution_count": 22,
     "metadata": {},
     "output_type": "execute_result"
    }
   ],
   "source": [
    "print(\"====== Logistic Regression ======\")\n",
    "learner_lr.train_loop(dl)"
   ]
  },
  {
   "cell_type": "markdown",
   "id": "adjusted-possible",
   "metadata": {
    "papermill": {
     "duration": 0.053834,
     "end_time": "2021-08-16T20:13:58.330570",
     "exception": false,
     "start_time": "2021-08-16T20:13:58.276736",
     "status": "completed"
    },
    "tags": []
   },
   "source": [
    "### Comparing results of NN and LR"
   ]
  },
  {
   "cell_type": "code",
   "execution_count": 23,
   "id": "mental-multimedia",
   "metadata": {
    "execution": {
     "iopub.execute_input": "2021-08-16T20:13:58.458013Z",
     "iopub.status.busy": "2021-08-16T20:13:58.457350Z",
     "iopub.status.idle": "2021-08-16T20:13:58.751785Z",
     "shell.execute_reply": "2021-08-16T20:13:58.751208Z"
    },
    "papermill": {
     "duration": 0.36584,
     "end_time": "2021-08-16T20:13:58.751933",
     "exception": false,
     "start_time": "2021-08-16T20:13:58.386093",
     "status": "completed"
    },
    "tags": []
   },
   "outputs": [
    {
     "data": {
      "text/plain": [
       "<matplotlib.legend.Legend at 0x7f8271643160>"
      ]
     },
     "execution_count": 23,
     "metadata": {},
     "output_type": "execute_result"
    },
    {
     "data": {
      "image/png": "[encoded data removed]",
      "text/plain": [
       "<Figure size 1080x720 with 1 Axes>"
      ]
     },
     "metadata": {
      "needs_background": "light"
     },
     "output_type": "display_data"
    }
   ],
   "source": [
    "plt.figure(figsize=(15,10))\n",
    "\n",
    "# Neural Network plots\n",
    "plt.plot(acc_nn.accuracies, 'r-', label = \"Training Accuracies - NN\")\n",
    "plt.plot(acc_nn.test_accuracies, 'g-', label = \"Testing Accuracies - NN\")\n",
    "\n",
    "# Logistic Regression plots\n",
    "plt.plot(acc_lr.accuracies, 'k-', label = \"Training Accuracies - LR\")\n",
    "plt.plot(acc_lr.test_accuracies, 'b-', label = \"Testing Accuracies - LR\")\n",
    "\n",
    "plt.ylim(0.8, 1)\n",
    "\n",
    "plt.legend()\n",
    "\n"
   ]
  },
  {
   "cell_type": "markdown",
   "id": "sexual-flesh",
   "metadata": {
    "papermill": {
     "duration": 0.055333,
     "end_time": "2021-08-16T20:13:58.862525",
     "exception": false,
     "start_time": "2021-08-16T20:13:58.807192",
     "status": "completed"
    },
    "tags": []
   },
   "source": [
    "### From the plot, we can observe the following:\n",
    "- Neural Network achieves higher accuracy than the Logistic Regression model.\n",
    "- This apparently, is because of overfitting, i.e. NN captures more noise than data.\n",
    "- Testing accuracy of NN drops below the Training accuracy at higher epochs. This explains the over-fitting on training data.\n",
    "- Logistic Regression gives a reliable accuracy, without the above mentioned problem.\n"
   ]
  },
  {
   "cell_type": "markdown",
   "id": "institutional-pacific",
   "metadata": {
    "papermill": {
     "duration": 0.058474,
     "end_time": "2021-08-16T20:13:58.978746",
     "exception": false,
     "start_time": "2021-08-16T20:13:58.920272",
     "status": "completed"
    },
    "tags": []
   },
   "source": [
    "### Moving till the last but one layer (excluding it).\n",
    "#### Plotting the outputs of this layer of the NN."
   ]
  },
  {
   "cell_type": "code",
   "execution_count": 24,
   "id": "economic-server",
   "metadata": {
    "execution": {
     "iopub.execute_input": "2021-08-16T20:13:59.118466Z",
     "iopub.status.busy": "2021-08-16T20:13:59.105420Z",
     "iopub.status.idle": "2021-08-16T20:13:59.121793Z",
     "shell.execute_reply": "2021-08-16T20:13:59.122371Z"
    },
    "papermill": {
     "duration": 0.086258,
     "end_time": "2021-08-16T20:13:59.122514",
     "exception": false,
     "start_time": "2021-08-16T20:13:59.036256",
     "status": "completed"
    },
    "tags": []
   },
   "outputs": [],
   "source": [
    "model_new = Model(layers[:-2])"
   ]
  },
  {
   "cell_type": "code",
   "execution_count": 25,
   "id": "varied-upgrade",
   "metadata": {
    "execution": {
     "iopub.execute_input": "2021-08-16T20:13:59.270710Z",
     "iopub.status.busy": "2021-08-16T20:13:59.270049Z",
     "iopub.status.idle": "2021-08-16T20:13:59.294651Z",
     "shell.execute_reply": "2021-08-16T20:13:59.295169Z"
    },
    "papermill": {
     "duration": 0.092491,
     "end_time": "2021-08-16T20:13:59.295382",
     "exception": false,
     "start_time": "2021-08-16T20:13:59.202891",
     "status": "completed"
    },
    "tags": []
   },
   "outputs": [],
   "source": [
    "plot_testing = model_new(testing_xdata)"
   ]
  },
  {
   "cell_type": "code",
   "execution_count": 26,
   "id": "specific-handling",
   "metadata": {
    "execution": {
     "iopub.execute_input": "2021-08-16T20:13:59.431793Z",
     "iopub.status.busy": "2021-08-16T20:13:59.424451Z",
     "iopub.status.idle": "2021-08-16T20:13:59.712538Z",
     "shell.execute_reply": "2021-08-16T20:13:59.712019Z"
    },
    "papermill": {
     "duration": 0.351113,
     "end_time": "2021-08-16T20:13:59.712699",
     "exception": false,
     "start_time": "2021-08-16T20:13:59.361586",
     "status": "completed"
    },
    "tags": []
   },
   "outputs": [
    {
     "data": {
      "text/plain": [
       "Text(0.5, 1.0, 'Outputs')"
      ]
     },
     "execution_count": 26,
     "metadata": {},
     "output_type": "execute_result"
    },
    {
     "data": {
      "image/png": "[encoded data removed]",
      "text/plain": [
       "<Figure size 576x504 with 1 Axes>"
      ]
     },
     "metadata": {
      "needs_background": "light"
     },
     "output_type": "display_data"
    }
   ],
   "source": [
    "plt.figure(figsize=(8,7))\n",
    "plt.scatter(plot_testing[:,0], plot_testing[:,1], alpha = 0.1, c = y_test.ravel());\n",
    "plt.title('Outputs')"
   ]
  },
  {
   "cell_type": "markdown",
   "id": "described-knowing",
   "metadata": {
    "papermill": {
     "duration": 0.061896,
     "end_time": "2021-08-16T20:13:59.837431",
     "exception": false,
     "start_time": "2021-08-16T20:13:59.775535",
     "status": "completed"
    },
    "tags": []
   },
   "source": [
    "### Plotting probability contours"
   ]
  },
  {
   "cell_type": "code",
   "execution_count": 27,
   "id": "needed-growing",
   "metadata": {
    "execution": {
     "iopub.execute_input": "2021-08-16T20:13:59.963570Z",
     "iopub.status.busy": "2021-08-16T20:13:59.962857Z",
     "iopub.status.idle": "2021-08-16T20:13:59.976221Z",
     "shell.execute_reply": "2021-08-16T20:13:59.975517Z"
    },
    "papermill": {
     "duration": 0.077682,
     "end_time": "2021-08-16T20:13:59.976350",
     "exception": false,
     "start_time": "2021-08-16T20:13:59.898668",
     "status": "completed"
    },
    "tags": []
   },
   "outputs": [],
   "source": [
    "model_prob = Model(layers[-2:]) "
   ]
  },
  {
   "cell_type": "code",
   "execution_count": 28,
   "id": "introductory-enforcement",
   "metadata": {
    "execution": {
     "iopub.execute_input": "2021-08-16T20:14:00.113411Z",
     "iopub.status.busy": "2021-08-16T20:14:00.109461Z",
     "iopub.status.idle": "2021-08-16T20:14:00.121162Z",
     "shell.execute_reply": "2021-08-16T20:14:00.121667Z"
    },
    "papermill": {
     "duration": 0.083832,
     "end_time": "2021-08-16T20:14:00.121838",
     "exception": false,
     "start_time": "2021-08-16T20:14:00.038006",
     "status": "completed"
    },
    "tags": []
   },
   "outputs": [],
   "source": [
    "# Adjust the x and y ranges according to the above generated plot.\n",
    "x_range = np.linspace(-4, 1, 100) \n",
    "y_range = np.linspace(-6, 6, 100) \n",
    "x_grid, y_grid = np.meshgrid(x_range, y_range) # x_grid and y_grig are of size 100 X 100\n",
    "\n",
    "# converting x_grid and y_grid to continuous arrays\n",
    "x_grid_flat = np.ravel(x_grid)\n",
    "y_grid_flat = np.ravel(y_grid)\n",
    "\n",
    "# The last layer of the current model takes two columns as input. Hence transpose of np.vstack() is required.\n",
    "X = np.vstack((x_grid_flat, y_grid_flat)).T\n",
    "\n",
    "# x_grid and y_grid are of size 100 x 100\n",
    "probability_contour = model_prob(X).reshape(100,100) "
   ]
  },
  {
   "cell_type": "code",
   "execution_count": 29,
   "id": "understood-landing",
   "metadata": {
    "execution": {
     "iopub.execute_input": "2021-08-16T20:14:00.259826Z",
     "iopub.status.busy": "2021-08-16T20:14:00.258418Z",
     "iopub.status.idle": "2021-08-16T20:14:00.564598Z",
     "shell.execute_reply": "2021-08-16T20:14:00.565400Z"
    },
    "papermill": {
     "duration": 0.378703,
     "end_time": "2021-08-16T20:14:00.565571",
     "exception": false,
     "start_time": "2021-08-16T20:14:00.186868",
     "status": "completed"
    },
    "tags": []
   },
   "outputs": [
    {
     "data": {
      "image/png": "[encoded data removed]",
      "text/plain": [
       "<Figure size 720x648 with 1 Axes>"
      ]
     },
     "metadata": {
      "needs_background": "light"
     },
     "output_type": "display_data"
    }
   ],
   "source": [
    "plt.figure(figsize=(10,9))\n",
    "plt.scatter(plot_testing[:,0], plot_testing[:,1], alpha = 0.1, c = y_test.ravel())\n",
    "contours = plt.contour(x_grid,y_grid,probability_contour)\n",
    "plt.title('Probability Contours')\n",
    "plt.clabel(contours, inline = True );"
   ]
  }
 ],
 "metadata": {
  "kernelspec": {
   "display_name": "Python 3",
   "language": "python",
   "name": "python3"
  },
  "language_info": {
   "codemirror_mode": {
    "name": "ipython",
    "version": 3
   },
   "file_extension": ".py",
   "mimetype": "text/x-python",
   "name": "python",
   "nbconvert_exporter": "python",
   "pygments_lexer": "ipython3",
   "version": "3.6.14"
  },
  "papermill": {
   "duration": 499.28906,
   "end_time": "2021-08-16T20:14:01.038542",
   "environment_variables": {},
   "exception": null,
   "input_path": "2020-08-11-NeuralNetwork.ipynb",
   "output_path": "2020-08-11-NeuralNetwork.ipynb",
   "parameters": {},
   "start_time": "2021-08-16T20:05:41.749482",
   "version": "2.1.2"
  }
 },
 "nbformat": 4,
 "nbformat_minor": 5
}