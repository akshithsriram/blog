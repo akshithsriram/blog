{
 "cells": [
  {
   "cell_type": "markdown",
   "metadata": {
    "papermill": {
     "duration": 0.033319,
     "end_time": "2020-12-05T10:04:13.874605",
     "exception": false,
     "start_time": "2020-12-05T10:04:13.841286",
     "status": "completed"
    },
    "tags": []
   },
   "source": [
    "# \"A Basic Neural Network: Differentiate Hand-Written Digits\"\n",
    "\n",
    "- badges: true\n",
    "- author: Akshith Sriram"
   ]
  },
  {
   "cell_type": "markdown",
   "metadata": {
    "papermill": {
     "duration": 0.030716,
     "end_time": "2020-12-05T10:04:13.936899",
     "exception": false,
     "start_time": "2020-12-05T10:04:13.906183",
     "status": "completed"
    },
    "tags": []
   },
   "source": [
    "### Key Objectives:\n",
    "- Building a neural network that differentiates two hand-written digits 3 and 8.\n",
    "- Comparing the results of this Neural Network (NN) to that of a Logistic Regression (LR) model.\n",
    "\n",
    "### Requirements:\n",
    "- 'Kudzu' : A neural network library that was designed during our course by [Univ.AI](www.univ.ai). \n",
    "- MNIST Database\n",
    "\n",
    "If MNIST is not installed, use the command `!pip install mnist` given below.\n",
    "It can be run both from the command line and Jupyter Notebook."
   ]
  },
  {
   "cell_type": "code",
   "execution_count": 1,
   "metadata": {
    "execution": {
     "iopub.execute_input": "2020-12-05T10:04:13.998859Z",
     "iopub.status.busy": "2020-12-05T10:04:13.998190Z",
     "iopub.status.idle": "2020-12-05T10:04:15.694900Z",
     "shell.execute_reply": "2020-12-05T10:04:15.694280Z"
    },
    "papermill": {
     "duration": 1.730108,
     "end_time": "2020-12-05T10:04:15.695074",
     "exception": false,
     "start_time": "2020-12-05T10:04:13.964966",
     "status": "completed"
    },
    "tags": []
   },
   "outputs": [
    {
     "name": "stdout",
     "output_type": "stream",
     "text": [
      "Collecting mnist\r\n"
     ]
    },
    {
     "name": "stdout",
     "output_type": "stream",
     "text": [
      "  Downloading mnist-0.2.2-py2.py3-none-any.whl (3.5 kB)\r\n",
      "Requirement already satisfied: numpy in /opt/hostedtoolcache/Python/3.6.12/x64/lib/python3.6/site-packages (from mnist) (1.19.4)\r\n"
     ]
    },
    {
     "name": "stdout",
     "output_type": "stream",
     "text": [
      "Installing collected packages: mnist\r\n"
     ]
    },
    {
     "name": "stdout",
     "output_type": "stream",
     "text": [
      "Successfully installed mnist-0.2.2\r\n"
     ]
    },
    {
     "name": "stdout",
     "output_type": "stream",
     "text": [
      "\u001b[33mWARNING: You are using pip version 20.2.4; however, version 20.3.1 is available.\r\n",
      "You should consider upgrading via the '/opt/hostedtoolcache/Python/3.6.12/x64/bin/python -m pip install --upgrade pip' command.\u001b[0m\r\n"
     ]
    }
   ],
   "source": [
    "!pip install mnist "
   ]
  },
  {
   "cell_type": "markdown",
   "metadata": {
    "papermill": {
     "duration": 0.030055,
     "end_time": "2020-12-05T10:04:15.756219",
     "exception": false,
     "start_time": "2020-12-05T10:04:15.726164",
     "status": "completed"
    },
    "tags": []
   },
   "source": [
    "#### Importing necessary libraries"
   ]
  },
  {
   "cell_type": "code",
   "execution_count": 2,
   "metadata": {
    "execution": {
     "iopub.execute_input": "2020-12-05T10:04:15.826024Z",
     "iopub.status.busy": "2020-12-05T10:04:15.825305Z",
     "iopub.status.idle": "2020-12-05T10:04:16.480870Z",
     "shell.execute_reply": "2020-12-05T10:04:16.480304Z"
    },
    "papermill": {
     "duration": 0.693497,
     "end_time": "2020-12-05T10:04:16.481056",
     "exception": false,
     "start_time": "2020-12-05T10:04:15.787559",
     "status": "completed"
    },
    "tags": []
   },
   "outputs": [],
   "source": [
    "%load_ext autoreload\n",
    "%autoreload 2\n",
    "\n",
    "%matplotlib inline\n",
    "import matplotlib.pyplot as plt\n",
    "\n",
    "import numpy as np\n",
    "import pandas as pd"
   ]
  },
  {
   "cell_type": "markdown",
   "metadata": {
    "papermill": {
     "duration": 0.03066,
     "end_time": "2020-12-05T10:04:16.543352",
     "exception": false,
     "start_time": "2020-12-05T10:04:16.512692",
     "status": "completed"
    },
    "tags": []
   },
   "source": [
    "### Preparing the Data"
   ]
  },
  {
   "cell_type": "code",
   "execution_count": 3,
   "metadata": {
    "execution": {
     "iopub.execute_input": "2020-12-05T10:04:16.610828Z",
     "iopub.status.busy": "2020-12-05T10:04:16.610104Z",
     "iopub.status.idle": "2020-12-05T10:04:16.622554Z",
     "shell.execute_reply": "2020-12-05T10:04:16.621753Z"
    },
    "papermill": {
     "duration": 0.04987,
     "end_time": "2020-12-05T10:04:16.622749",
     "exception": false,
     "start_time": "2020-12-05T10:04:16.572879",
     "status": "completed"
    },
    "tags": []
   },
   "outputs": [],
   "source": [
    "import mnist"
   ]
  },
  {
   "cell_type": "code",
   "execution_count": 4,
   "metadata": {
    "execution": {
     "iopub.execute_input": "2020-12-05T10:04:16.691698Z",
     "iopub.status.busy": "2020-12-05T10:04:16.690883Z",
     "iopub.status.idle": "2020-12-05T10:04:17.419434Z",
     "shell.execute_reply": "2020-12-05T10:04:17.418181Z"
    },
    "papermill": {
     "duration": 0.766202,
     "end_time": "2020-12-05T10:04:17.419572",
     "exception": false,
     "start_time": "2020-12-05T10:04:16.653370",
     "status": "completed"
    },
    "tags": []
   },
   "outputs": [],
   "source": [
    "train_images = mnist.train_images()\n",
    "train_labels = mnist.train_labels()"
   ]
  },
  {
   "cell_type": "code",
   "execution_count": 5,
   "metadata": {
    "execution": {
     "iopub.execute_input": "2020-12-05T10:04:17.487653Z",
     "iopub.status.busy": "2020-12-05T10:04:17.486998Z",
     "iopub.status.idle": "2020-12-05T10:04:17.504193Z",
     "shell.execute_reply": "2020-12-05T10:04:17.503633Z"
    },
    "papermill": {
     "duration": 0.047909,
     "end_time": "2020-12-05T10:04:17.504433",
     "exception": false,
     "start_time": "2020-12-05T10:04:17.456524",
     "status": "completed"
    },
    "tags": []
   },
   "outputs": [
    {
     "data": {
      "text/plain": [
       "((60000, 28, 28), (60000,))"
      ]
     },
     "execution_count": 5,
     "metadata": {},
     "output_type": "execute_result"
    }
   ],
   "source": [
    "train_images.shape, train_labels.shape"
   ]
  },
  {
   "cell_type": "code",
   "execution_count": 6,
   "metadata": {
    "execution": {
     "iopub.execute_input": "2020-12-05T10:04:17.567306Z",
     "iopub.status.busy": "2020-12-05T10:04:17.566717Z",
     "iopub.status.idle": "2020-12-05T10:04:17.814463Z",
     "shell.execute_reply": "2020-12-05T10:04:17.814874Z"
    },
    "papermill": {
     "duration": 0.280371,
     "end_time": "2020-12-05T10:04:17.815022",
     "exception": false,
     "start_time": "2020-12-05T10:04:17.534651",
     "status": "completed"
    },
    "tags": []
   },
   "outputs": [],
   "source": [
    "test_images = mnist.test_images()\n",
    "test_labels = mnist.test_labels()"
   ]
  },
  {
   "cell_type": "code",
   "execution_count": 7,
   "metadata": {
    "execution": {
     "iopub.execute_input": "2020-12-05T10:04:17.871073Z",
     "iopub.status.busy": "2020-12-05T10:04:17.870532Z",
     "iopub.status.idle": "2020-12-05T10:04:17.881995Z",
     "shell.execute_reply": "2020-12-05T10:04:17.882470Z"
    },
    "papermill": {
     "duration": 0.041714,
     "end_time": "2020-12-05T10:04:17.882593",
     "exception": false,
     "start_time": "2020-12-05T10:04:17.840879",
     "status": "completed"
    },
    "tags": []
   },
   "outputs": [
    {
     "data": {
      "text/plain": [
       "((10000, 28, 28), (10000,))"
      ]
     },
     "execution_count": 7,
     "metadata": {},
     "output_type": "execute_result"
    }
   ],
   "source": [
    "test_images.shape, test_labels.shape"
   ]
  },
  {
   "cell_type": "code",
   "execution_count": 8,
   "metadata": {
    "execution": {
     "iopub.execute_input": "2020-12-05T10:04:17.939641Z",
     "iopub.status.busy": "2020-12-05T10:04:17.938927Z",
     "iopub.status.idle": "2020-12-05T10:04:18.113892Z",
     "shell.execute_reply": "2020-12-05T10:04:18.114403Z"
    },
    "papermill": {
     "duration": 0.206002,
     "end_time": "2020-12-05T10:04:18.114575",
     "exception": false,
     "start_time": "2020-12-05T10:04:17.908573",
     "status": "completed"
    },
    "tags": []
   },
   "outputs": [
    {
     "name": "stdout",
     "output_type": "stream",
     "text": [
      "2\n"
     ]
    },
    {
     "data": {
      "text/plain": [
       "<matplotlib.image.AxesImage at 0x7fd9a89430b8>"
      ]
     },
     "execution_count": 8,
     "metadata": {},
     "output_type": "execute_result"
    },
    {
     "data": {
      "image/png": "[encoded data removed]",
      "text/plain": [
       "<Figure size 432x288 with 1 Axes>"
      ]
     },
     "metadata": {
      "needs_background": "light"
     },
     "output_type": "display_data"
    }
   ],
   "source": [
    "image_index = 7776 # You may select anything up to 60,000\n",
    "print(train_labels[image_index]) \n",
    "plt.imshow(train_images[image_index], cmap='Greys')"
   ]
  },
  {
   "cell_type": "markdown",
   "metadata": {
    "papermill": {
     "duration": 0.028342,
     "end_time": "2020-12-05T10:04:18.171812",
     "exception": false,
     "start_time": "2020-12-05T10:04:18.143470",
     "status": "completed"
    },
    "tags": []
   },
   "source": [
    "## Filter data to get 3 and 8 out"
   ]
  },
  {
   "cell_type": "code",
   "execution_count": 9,
   "metadata": {
    "execution": {
     "iopub.execute_input": "2020-12-05T10:04:18.232256Z",
     "iopub.status.busy": "2020-12-05T10:04:18.231674Z",
     "iopub.status.idle": "2020-12-05T10:04:18.248226Z",
     "shell.execute_reply": "2020-12-05T10:04:18.247571Z"
    },
    "papermill": {
     "duration": 0.047509,
     "end_time": "2020-12-05T10:04:18.248355",
     "exception": false,
     "start_time": "2020-12-05T10:04:18.200846",
     "status": "completed"
    },
    "tags": []
   },
   "outputs": [],
   "source": [
    "train_filter = np.where((train_labels == 3 ) | (train_labels == 8))\n",
    "test_filter = np.where((test_labels == 3) | (test_labels == 8))\n",
    "X_train, y_train = train_images[train_filter], train_labels[train_filter]\n",
    "X_test, y_test = test_images[test_filter], test_labels[test_filter]"
   ]
  },
  {
   "cell_type": "markdown",
   "metadata": {
    "papermill": {
     "duration": 0.027859,
     "end_time": "2020-12-05T10:04:18.303845",
     "exception": false,
     "start_time": "2020-12-05T10:04:18.275986",
     "status": "completed"
    },
    "tags": []
   },
   "source": [
    "We normalize the pixel values in the 0 to 1 range"
   ]
  },
  {
   "cell_type": "code",
   "execution_count": 10,
   "metadata": {
    "execution": {
     "iopub.execute_input": "2020-12-05T10:04:18.366504Z",
     "iopub.status.busy": "2020-12-05T10:04:18.365817Z",
     "iopub.status.idle": "2020-12-05T10:04:18.421904Z",
     "shell.execute_reply": "2020-12-05T10:04:18.421392Z"
    },
    "papermill": {
     "duration": 0.091332,
     "end_time": "2020-12-05T10:04:18.422065",
     "exception": false,
     "start_time": "2020-12-05T10:04:18.330733",
     "status": "completed"
    },
    "tags": []
   },
   "outputs": [],
   "source": [
    "X_train = X_train/255.\n",
    "X_test = X_test/255."
   ]
  },
  {
   "cell_type": "markdown",
   "metadata": {
    "papermill": {
     "duration": 0.037594,
     "end_time": "2020-12-05T10:04:18.488996",
     "exception": false,
     "start_time": "2020-12-05T10:04:18.451402",
     "status": "completed"
    },
    "tags": []
   },
   "source": [
    "Setup the labels as 1 (when the digit is 3) and 0 (when the digit is 8)"
   ]
  },
  {
   "cell_type": "code",
   "execution_count": 11,
   "metadata": {
    "execution": {
     "iopub.execute_input": "2020-12-05T10:04:18.552887Z",
     "iopub.status.busy": "2020-12-05T10:04:18.552328Z",
     "iopub.status.idle": "2020-12-05T10:04:18.566364Z",
     "shell.execute_reply": "2020-12-05T10:04:18.565590Z"
    },
    "papermill": {
     "duration": 0.046801,
     "end_time": "2020-12-05T10:04:18.566496",
     "exception": false,
     "start_time": "2020-12-05T10:04:18.519695",
     "status": "completed"
    },
    "tags": []
   },
   "outputs": [],
   "source": [
    "y_train = 1*(y_train==3)\n",
    "y_test = 1*(y_test==3)"
   ]
  },
  {
   "cell_type": "code",
   "execution_count": 12,
   "metadata": {
    "execution": {
     "iopub.execute_input": "2020-12-05T10:04:18.635951Z",
     "iopub.status.busy": "2020-12-05T10:04:18.635307Z",
     "iopub.status.idle": "2020-12-05T10:04:18.660761Z",
     "shell.execute_reply": "2020-12-05T10:04:18.660106Z"
    },
    "papermill": {
     "duration": 0.061153,
     "end_time": "2020-12-05T10:04:18.660895",
     "exception": false,
     "start_time": "2020-12-05T10:04:18.599742",
     "status": "completed"
    },
    "tags": []
   },
   "outputs": [
    {
     "data": {
      "text/plain": [
       "((11982, 28, 28), (1984, 28, 28))"
      ]
     },
     "execution_count": 12,
     "metadata": {},
     "output_type": "execute_result"
    }
   ],
   "source": [
    "X_train.shape, X_test.shape"
   ]
  },
  {
   "cell_type": "markdown",
   "metadata": {
    "papermill": {
     "duration": 0.031645,
     "end_time": "2020-12-05T10:04:18.725406",
     "exception": false,
     "start_time": "2020-12-05T10:04:18.693761",
     "status": "completed"
    },
    "tags": []
   },
   "source": [
    "### Reshape the input data to create a linear array"
   ]
  },
  {
   "cell_type": "code",
   "execution_count": 13,
   "metadata": {
    "execution": {
     "iopub.execute_input": "2020-12-05T10:04:18.799550Z",
     "iopub.status.busy": "2020-12-05T10:04:18.798912Z",
     "iopub.status.idle": "2020-12-05T10:04:18.811220Z",
     "shell.execute_reply": "2020-12-05T10:04:18.811743Z"
    },
    "papermill": {
     "duration": 0.053159,
     "end_time": "2020-12-05T10:04:18.811898",
     "exception": false,
     "start_time": "2020-12-05T10:04:18.758739",
     "status": "completed"
    },
    "tags": []
   },
   "outputs": [
    {
     "data": {
      "text/plain": [
       "((11982, 784), (1984, 784))"
      ]
     },
     "execution_count": 13,
     "metadata": {},
     "output_type": "execute_result"
    }
   ],
   "source": [
    "X_train = X_train.reshape(X_train.shape[0], -1)\n",
    "X_test = X_test.reshape(X_test.shape[0], -1)\n",
    "X_train.shape, X_test.shape"
   ]
  },
  {
   "cell_type": "markdown",
   "metadata": {
    "papermill": {
     "duration": 0.03393,
     "end_time": "2020-12-05T10:04:18.878306",
     "exception": false,
     "start_time": "2020-12-05T10:04:18.844376",
     "status": "completed"
    },
    "tags": []
   },
   "source": [
    "### Importing appropriate functions from 'Kudzu'"
   ]
  },
  {
   "cell_type": "code",
   "execution_count": 14,
   "metadata": {
    "execution": {
     "iopub.execute_input": "2020-12-05T10:04:18.956132Z",
     "iopub.status.busy": "2020-12-05T10:04:18.955482Z",
     "iopub.status.idle": "2020-12-05T10:04:18.981727Z",
     "shell.execute_reply": "2020-12-05T10:04:18.980810Z"
    },
    "papermill": {
     "duration": 0.069858,
     "end_time": "2020-12-05T10:04:18.981921",
     "exception": false,
     "start_time": "2020-12-05T10:04:18.912063",
     "status": "completed"
    },
    "tags": []
   },
   "outputs": [],
   "source": [
    "from kudzu.layer import Sigmoid\n",
    "from kudzu.layer import Relu\n",
    "from kudzu.layer import Affine, Sigmoid\n",
    "\n",
    "from kudzu.model import Model\n",
    "from kudzu.train import Learner\n",
    "from kudzu.optim import GD\n",
    "from kudzu.data import Data, Dataloader, Sampler\n",
    "\n",
    "from kudzu.callbacks import AccCallback\n",
    "from kudzu.callbacks import ClfCallback\n",
    "\n",
    "from kudzu.loss import MSE"
   ]
  },
  {
   "cell_type": "markdown",
   "metadata": {
    "papermill": {
     "duration": 0.030613,
     "end_time": "2020-12-05T10:04:19.045739",
     "exception": false,
     "start_time": "2020-12-05T10:04:19.015126",
     "status": "completed"
    },
    "tags": []
   },
   "source": [
    "### Let us create a `Config` class, to store important parameters. \n",
    "This class essentially plays the role of a dictionary."
   ]
  },
  {
   "cell_type": "code",
   "execution_count": 15,
   "metadata": {
    "execution": {
     "iopub.execute_input": "2020-12-05T10:04:19.118351Z",
     "iopub.status.busy": "2020-12-05T10:04:19.117620Z",
     "iopub.status.idle": "2020-12-05T10:04:19.127783Z",
     "shell.execute_reply": "2020-12-05T10:04:19.128313Z"
    },
    "papermill": {
     "duration": 0.050924,
     "end_time": "2020-12-05T10:04:19.128471",
     "exception": false,
     "start_time": "2020-12-05T10:04:19.077547",
     "status": "completed"
    },
    "tags": []
   },
   "outputs": [],
   "source": [
    "class Config:\n",
    "    pass\n",
    "config = Config()\n",
    "config.lr = 0.001\n",
    "config.num_epochs = 251\n",
    "config.bs = 50"
   ]
  },
  {
   "cell_type": "markdown",
   "metadata": {
    "papermill": {
     "duration": 0.03062,
     "end_time": "2020-12-05T10:04:19.191229",
     "exception": false,
     "start_time": "2020-12-05T10:04:19.160609",
     "status": "completed"
    },
    "tags": []
   },
   "source": [
    "### Initializing data to the variables"
   ]
  },
  {
   "cell_type": "code",
   "execution_count": 16,
   "metadata": {
    "execution": {
     "iopub.execute_input": "2020-12-05T10:04:19.261393Z",
     "iopub.status.busy": "2020-12-05T10:04:19.260820Z",
     "iopub.status.idle": "2020-12-05T10:04:19.273448Z",
     "shell.execute_reply": "2020-12-05T10:04:19.272966Z"
    },
    "papermill": {
     "duration": 0.050871,
     "end_time": "2020-12-05T10:04:19.273586",
     "exception": false,
     "start_time": "2020-12-05T10:04:19.222715",
     "status": "completed"
    },
    "tags": []
   },
   "outputs": [],
   "source": [
    "data = Data(X_train, y_train.reshape(-1,1))\n",
    "sampler = Sampler(data, config.bs, shuffle=True)\n",
    "\n",
    "dl = Dataloader(data, sampler)\n",
    "\n",
    "opt = GD(config.lr)\n",
    "loss = MSE()"
   ]
  },
  {
   "cell_type": "code",
   "execution_count": 17,
   "metadata": {
    "execution": {
     "iopub.execute_input": "2020-12-05T10:04:19.343177Z",
     "iopub.status.busy": "2020-12-05T10:04:19.342263Z",
     "iopub.status.idle": "2020-12-05T10:04:19.354755Z",
     "shell.execute_reply": "2020-12-05T10:04:19.354220Z"
    },
    "papermill": {
     "duration": 0.049667,
     "end_time": "2020-12-05T10:04:19.354887",
     "exception": false,
     "start_time": "2020-12-05T10:04:19.305220",
     "status": "completed"
    },
    "tags": []
   },
   "outputs": [],
   "source": [
    "training_xdata = X_train\n",
    "testing_xdata = X_test\n",
    "training_ydata = y_train.reshape(-1,1)\n",
    "testing_ydata = y_test.reshape(-1,1)"
   ]
  },
  {
   "cell_type": "markdown",
   "metadata": {
    "papermill": {
     "duration": 0.032192,
     "end_time": "2020-12-05T10:04:19.419175",
     "exception": false,
     "start_time": "2020-12-05T10:04:19.386983",
     "status": "completed"
    },
    "tags": []
   },
   "source": [
    "### Running Models with the Training data\n",
    "Details about the network layers:\n",
    "- A first affine layer has 784 inputs and does 100 affine transforms. These are followed by a Relu\n",
    "- A second affine layer has 100 inputs from the 100 activations of the past layer, and does 100 affine transforms. These are followed by a Relu\n",
    "- A third affine layer has 100 activations and does 2 affine transformations to create an embedding for visualization. There is no non-linearity here.\n",
    "- A final \"logistic regression\" which has an affine transform from 2 inputs to 1 output, which is squeezed through a sigmoid.\n",
    "\n",
    "Help taken from Anshuman's Notebook."
   ]
  },
  {
   "cell_type": "code",
   "execution_count": 18,
   "metadata": {
    "execution": {
     "iopub.execute_input": "2020-12-05T10:04:19.491924Z",
     "iopub.status.busy": "2020-12-05T10:04:19.491206Z",
     "iopub.status.idle": "2020-12-05T10:04:19.507055Z",
     "shell.execute_reply": "2020-12-05T10:04:19.506432Z"
    },
    "papermill": {
     "duration": 0.056534,
     "end_time": "2020-12-05T10:04:19.507189",
     "exception": false,
     "start_time": "2020-12-05T10:04:19.450655",
     "status": "completed"
    },
    "tags": []
   },
   "outputs": [],
   "source": [
    "# layers for the Neural Network\n",
    "layers = [Affine(\"first\", 784, 100), Relu(\"first\"), Affine(\"second\", 100, 100), Relu(\"second\"), Affine(\"third\", 100, 2), Affine(\"final\", 2, 1), Sigmoid(\"final\")]\n",
    "model_nn = Model(layers)\n",
    "\n",
    "# layers for the Logistic Regression\n",
    "layers_lr = [Affine(\"logits\", 784, 1), Sigmoid(\"sigmoid\")]\n",
    "model_lr = Model(layers_lr)"
   ]
  },
  {
   "cell_type": "code",
   "execution_count": 19,
   "metadata": {
    "execution": {
     "iopub.execute_input": "2020-12-05T10:04:19.587897Z",
     "iopub.status.busy": "2020-12-05T10:04:19.580101Z",
     "iopub.status.idle": "2020-12-05T10:04:19.591749Z",
     "shell.execute_reply": "2020-12-05T10:04:19.590669Z"
    },
    "papermill": {
     "duration": 0.054122,
     "end_time": "2020-12-05T10:04:19.591920",
     "exception": false,
     "start_time": "2020-12-05T10:04:19.537798",
     "status": "completed"
    },
    "tags": []
   },
   "outputs": [],
   "source": [
    "# suffix _nn stands for Neural Network.\n",
    "learner_nn = Learner(loss, model_nn, opt, config.num_epochs)\n",
    "acc_nn = ClfCallback(learner_nn, config.bs, training_xdata , testing_xdata, training_ydata, testing_ydata)\n",
    "learner_nn.set_callbacks([acc_nn])"
   ]
  },
  {
   "cell_type": "code",
   "execution_count": 20,
   "metadata": {
    "execution": {
     "iopub.execute_input": "2020-12-05T10:04:19.679047Z",
     "iopub.status.busy": "2020-12-05T10:04:19.665912Z",
     "iopub.status.idle": "2020-12-05T10:06:38.283104Z",
     "shell.execute_reply": "2020-12-05T10:06:38.284074Z"
    },
    "papermill": {
     "duration": 138.659474,
     "end_time": "2020-12-05T10:06:38.284267",
     "exception": false,
     "start_time": "2020-12-05T10:04:19.624793",
     "status": "completed"
    },
    "tags": []
   },
   "outputs": [
    {
     "name": "stdout",
     "output_type": "stream",
     "text": [
      "====== Neural Network ======\n"
     ]
    },
    {
     "name": "stdout",
     "output_type": "stream",
     "text": [
      "Epoch 0, Loss 0.2503\n",
      "Training Accuracy: 0.6153, Testing Accuracy: 0.6149\n",
      "\n"
     ]
    },
    {
     "name": "stdout",
     "output_type": "stream",
     "text": [
      "Epoch 10, Loss 0.0884\n",
      "Training Accuracy: 0.9217, Testing Accuracy: 0.9309\n",
      "\n"
     ]
    },
    {
     "name": "stdout",
     "output_type": "stream",
     "text": [
      "Epoch 20, Loss 0.0543\n",
      "Training Accuracy: 0.9439, Testing Accuracy: 0.9511\n",
      "\n"
     ]
    },
    {
     "name": "stdout",
     "output_type": "stream",
     "text": [
      "Epoch 30, Loss 0.043\n",
      "Training Accuracy: 0.9529, Testing Accuracy: 0.9602\n",
      "\n"
     ]
    },
    {
     "name": "stdout",
     "output_type": "stream",
     "text": [
      "Epoch 40, Loss 0.0375\n",
      "Training Accuracy: 0.9590, Testing Accuracy: 0.9662\n",
      "\n"
     ]
    },
    {
     "name": "stdout",
     "output_type": "stream",
     "text": [
      "Epoch 50, Loss 0.0341\n",
      "Training Accuracy: 0.9617, Testing Accuracy: 0.9672\n",
      "\n"
     ]
    },
    {
     "name": "stdout",
     "output_type": "stream",
     "text": [
      "Epoch 60, Loss 0.0318\n",
      "Training Accuracy: 0.9644, Testing Accuracy: 0.9677\n",
      "\n"
     ]
    },
    {
     "name": "stdout",
     "output_type": "stream",
     "text": [
      "Epoch 70, Loss 0.03\n",
      "Training Accuracy: 0.9663, Testing Accuracy: 0.9688\n",
      "\n"
     ]
    },
    {
     "name": "stdout",
     "output_type": "stream",
     "text": [
      "Epoch 80, Loss 0.0287\n",
      "Training Accuracy: 0.9678, Testing Accuracy: 0.9688\n",
      "\n"
     ]
    },
    {
     "name": "stdout",
     "output_type": "stream",
     "text": [
      "Epoch 90, Loss 0.0275\n",
      "Training Accuracy: 0.9688, Testing Accuracy: 0.9682\n",
      "\n"
     ]
    },
    {
     "name": "stdout",
     "output_type": "stream",
     "text": [
      "Epoch 100, Loss 0.0266\n",
      "Training Accuracy: 0.9697, Testing Accuracy: 0.9693\n",
      "\n"
     ]
    },
    {
     "name": "stdout",
     "output_type": "stream",
     "text": [
      "Epoch 110, Loss 0.0257\n",
      "Training Accuracy: 0.9710, Testing Accuracy: 0.9698\n",
      "\n"
     ]
    },
    {
     "name": "stdout",
     "output_type": "stream",
     "text": [
      "Epoch 120, Loss 0.025\n",
      "Training Accuracy: 0.9712, Testing Accuracy: 0.9688\n",
      "\n"
     ]
    },
    {
     "name": "stdout",
     "output_type": "stream",
     "text": [
      "Epoch 130, Loss 0.0243\n",
      "Training Accuracy: 0.9718, Testing Accuracy: 0.9698\n",
      "\n"
     ]
    },
    {
     "name": "stdout",
     "output_type": "stream",
     "text": [
      "Epoch 140, Loss 0.0237\n",
      "Training Accuracy: 0.9723, Testing Accuracy: 0.9693\n",
      "\n"
     ]
    },
    {
     "name": "stdout",
     "output_type": "stream",
     "text": [
      "Epoch 150, Loss 0.0232\n",
      "Training Accuracy: 0.9730, Testing Accuracy: 0.9698\n",
      "\n"
     ]
    },
    {
     "name": "stdout",
     "output_type": "stream",
     "text": [
      "Epoch 160, Loss 0.0227\n",
      "Training Accuracy: 0.9740, Testing Accuracy: 0.9708\n",
      "\n"
     ]
    },
    {
     "name": "stdout",
     "output_type": "stream",
     "text": [
      "Epoch 170, Loss 0.0222\n",
      "Training Accuracy: 0.9745, Testing Accuracy: 0.9713\n",
      "\n"
     ]
    },
    {
     "name": "stdout",
     "output_type": "stream",
     "text": [
      "Epoch 180, Loss 0.0217\n",
      "Training Accuracy: 0.9751, Testing Accuracy: 0.9708\n",
      "\n"
     ]
    },
    {
     "name": "stdout",
     "output_type": "stream",
     "text": [
      "Epoch 190, Loss 0.0213\n",
      "Training Accuracy: 0.9755, Testing Accuracy: 0.9708\n",
      "\n"
     ]
    },
    {
     "name": "stdout",
     "output_type": "stream",
     "text": [
      "Epoch 200, Loss 0.0209\n",
      "Training Accuracy: 0.9759, Testing Accuracy: 0.9713\n",
      "\n"
     ]
    },
    {
     "name": "stdout",
     "output_type": "stream",
     "text": [
      "Epoch 210, Loss 0.0205\n",
      "Training Accuracy: 0.9764, Testing Accuracy: 0.9718\n",
      "\n"
     ]
    },
    {
     "name": "stdout",
     "output_type": "stream",
     "text": [
      "Epoch 220, Loss 0.0202\n",
      "Training Accuracy: 0.9770, Testing Accuracy: 0.9718\n",
      "\n"
     ]
    },
    {
     "name": "stdout",
     "output_type": "stream",
     "text": [
      "Epoch 230, Loss 0.0198\n",
      "Training Accuracy: 0.9773, Testing Accuracy: 0.9723\n",
      "\n"
     ]
    },
    {
     "name": "stdout",
     "output_type": "stream",
     "text": [
      "Epoch 240, Loss 0.0195\n",
      "Training Accuracy: 0.9780, Testing Accuracy: 0.9728\n",
      "\n"
     ]
    },
    {
     "name": "stdout",
     "output_type": "stream",
     "text": [
      "Epoch 250, Loss 0.0191\n",
      "Training Accuracy: 0.9781, Testing Accuracy: 0.9728\n",
      "\n"
     ]
    },
    {
     "data": {
      "text/plain": [
       "0.0018300530813335483"
      ]
     },
     "execution_count": 20,
     "metadata": {},
     "output_type": "execute_result"
    }
   ],
   "source": [
    "print(\"====== Neural Network ======\")\n",
    "learner_nn.train_loop(dl)"
   ]
  },
  {
   "cell_type": "markdown",
   "metadata": {
    "papermill": {
     "duration": 0.042975,
     "end_time": "2020-12-05T10:06:38.373042",
     "exception": false,
     "start_time": "2020-12-05T10:06:38.330067",
     "status": "completed"
    },
    "tags": []
   },
   "source": [
    "### Logistic Regression based Implementation."
   ]
  },
  {
   "cell_type": "code",
   "execution_count": 21,
   "metadata": {
    "execution": {
     "iopub.execute_input": "2020-12-05T10:06:38.463181Z",
     "iopub.status.busy": "2020-12-05T10:06:38.462467Z",
     "iopub.status.idle": "2020-12-05T10:06:38.475662Z",
     "shell.execute_reply": "2020-12-05T10:06:38.476148Z"
    },
    "papermill": {
     "duration": 0.061459,
     "end_time": "2020-12-05T10:06:38.476322",
     "exception": false,
     "start_time": "2020-12-05T10:06:38.414863",
     "status": "completed"
    },
    "tags": []
   },
   "outputs": [],
   "source": [
    "learner_lr = Learner(loss, model_lr, opt, config.num_epochs)\n",
    "acc_lr = ClfCallback(learner_lr, config.bs, training_xdata , testing_xdata, training_ydata, testing_ydata)\n",
    "learner_lr.set_callbacks([acc_lr])"
   ]
  },
  {
   "cell_type": "code",
   "execution_count": 22,
   "metadata": {
    "execution": {
     "iopub.execute_input": "2020-12-05T10:06:38.573368Z",
     "iopub.status.busy": "2020-12-05T10:06:38.572555Z",
     "iopub.status.idle": "2020-12-05T10:06:58.954612Z",
     "shell.execute_reply": "2020-12-05T10:06:58.953649Z"
    },
    "papermill": {
     "duration": 20.432353,
     "end_time": "2020-12-05T10:06:58.954747",
     "exception": false,
     "start_time": "2020-12-05T10:06:38.522394",
     "status": "completed"
    },
    "tags": []
   },
   "outputs": [
    {
     "name": "stdout",
     "output_type": "stream",
     "text": [
      "====== Logistic Regression ======\n",
      "Epoch 0, Loss 0.2383\n",
      "Training Accuracy: 0.7114, Testing Accuracy: 0.7298\n",
      "\n"
     ]
    },
    {
     "name": "stdout",
     "output_type": "stream",
     "text": [
      "Epoch 10, Loss 0.1031\n",
      "Training Accuracy: 0.9133, Testing Accuracy: 0.9264\n",
      "\n"
     ]
    },
    {
     "name": "stdout",
     "output_type": "stream",
     "text": [
      "Epoch 20, Loss 0.0796\n",
      "Training Accuracy: 0.9305, Testing Accuracy: 0.9390\n",
      "\n"
     ]
    },
    {
     "name": "stdout",
     "output_type": "stream",
     "text": [
      "Epoch 30, Loss 0.0687\n",
      "Training Accuracy: 0.9360, Testing Accuracy: 0.9456\n",
      "\n"
     ]
    },
    {
     "name": "stdout",
     "output_type": "stream",
     "text": [
      "Epoch 40, Loss 0.0622\n",
      "Training Accuracy: 0.9394, Testing Accuracy: 0.9511\n",
      "\n"
     ]
    },
    {
     "name": "stdout",
     "output_type": "stream",
     "text": [
      "Epoch 50, Loss 0.0577\n",
      "Training Accuracy: 0.9427, Testing Accuracy: 0.9546\n",
      "\n"
     ]
    },
    {
     "name": "stdout",
     "output_type": "stream",
     "text": [
      "Epoch 60, Loss 0.0544\n",
      "Training Accuracy: 0.9457, Testing Accuracy: 0.9582\n",
      "\n"
     ]
    },
    {
     "name": "stdout",
     "output_type": "stream",
     "text": [
      "Epoch 70, Loss 0.0518\n",
      "Training Accuracy: 0.9481, Testing Accuracy: 0.9612\n",
      "\n"
     ]
    },
    {
     "name": "stdout",
     "output_type": "stream",
     "text": [
      "Epoch 80, Loss 0.0497\n",
      "Training Accuracy: 0.9500, Testing Accuracy: 0.9627\n",
      "\n"
     ]
    },
    {
     "name": "stdout",
     "output_type": "stream",
     "text": [
      "Epoch 90, Loss 0.048\n",
      "Training Accuracy: 0.9511, Testing Accuracy: 0.9632\n",
      "\n"
     ]
    },
    {
     "name": "stdout",
     "output_type": "stream",
     "text": [
      "Epoch 100, Loss 0.0466\n",
      "Training Accuracy: 0.9527, Testing Accuracy: 0.9632\n",
      "\n"
     ]
    },
    {
     "name": "stdout",
     "output_type": "stream",
     "text": [
      "Epoch 110, Loss 0.0453\n",
      "Training Accuracy: 0.9535, Testing Accuracy: 0.9637\n",
      "\n"
     ]
    },
    {
     "name": "stdout",
     "output_type": "stream",
     "text": [
      "Epoch 120, Loss 0.0443\n",
      "Training Accuracy: 0.9546, Testing Accuracy: 0.9642\n",
      "\n"
     ]
    },
    {
     "name": "stdout",
     "output_type": "stream",
     "text": [
      "Epoch 130, Loss 0.0433\n",
      "Training Accuracy: 0.9556, Testing Accuracy: 0.9642\n",
      "\n"
     ]
    },
    {
     "name": "stdout",
     "output_type": "stream",
     "text": [
      "Epoch 140, Loss 0.0425\n",
      "Training Accuracy: 0.9559, Testing Accuracy: 0.9642\n",
      "\n"
     ]
    },
    {
     "name": "stdout",
     "output_type": "stream",
     "text": [
      "Epoch 150, Loss 0.0417\n",
      "Training Accuracy: 0.9563, Testing Accuracy: 0.9642\n",
      "\n"
     ]
    },
    {
     "name": "stdout",
     "output_type": "stream",
     "text": [
      "Epoch 160, Loss 0.041\n",
      "Training Accuracy: 0.9570, Testing Accuracy: 0.9637\n",
      "\n"
     ]
    },
    {
     "name": "stdout",
     "output_type": "stream",
     "text": [
      "Epoch 170, Loss 0.0404\n",
      "Training Accuracy: 0.9574, Testing Accuracy: 0.9637\n",
      "\n"
     ]
    },
    {
     "name": "stdout",
     "output_type": "stream",
     "text": [
      "Epoch 180, Loss 0.0398\n",
      "Training Accuracy: 0.9577, Testing Accuracy: 0.9647\n",
      "\n"
     ]
    },
    {
     "name": "stdout",
     "output_type": "stream",
     "text": [
      "Epoch 190, Loss 0.0393\n",
      "Training Accuracy: 0.9582, Testing Accuracy: 0.9647\n",
      "\n"
     ]
    },
    {
     "name": "stdout",
     "output_type": "stream",
     "text": [
      "Epoch 200, Loss 0.0388\n",
      "Training Accuracy: 0.9588, Testing Accuracy: 0.9652\n",
      "\n"
     ]
    },
    {
     "name": "stdout",
     "output_type": "stream",
     "text": [
      "Epoch 210, Loss 0.0384\n",
      "Training Accuracy: 0.9594, Testing Accuracy: 0.9657\n",
      "\n"
     ]
    },
    {
     "name": "stdout",
     "output_type": "stream",
     "text": [
      "Epoch 220, Loss 0.0379\n",
      "Training Accuracy: 0.9595, Testing Accuracy: 0.9662\n",
      "\n"
     ]
    },
    {
     "name": "stdout",
     "output_type": "stream",
     "text": [
      "Epoch 230, Loss 0.0375\n",
      "Training Accuracy: 0.9599, Testing Accuracy: 0.9672\n",
      "\n"
     ]
    },
    {
     "name": "stdout",
     "output_type": "stream",
     "text": [
      "Epoch 240, Loss 0.0372\n",
      "Training Accuracy: 0.9601, Testing Accuracy: 0.9667\n",
      "\n"
     ]
    },
    {
     "name": "stdout",
     "output_type": "stream",
     "text": [
      "Epoch 250, Loss 0.0368\n",
      "Training Accuracy: 0.9604, Testing Accuracy: 0.9667\n",
      "\n"
     ]
    },
    {
     "data": {
      "text/plain": [
       "0.0354403466298112"
      ]
     },
     "execution_count": 22,
     "metadata": {},
     "output_type": "execute_result"
    }
   ],
   "source": [
    "print(\"====== Logistic Regression ======\")\n",
    "learner_lr.train_loop(dl)"
   ]
  },
  {
   "cell_type": "markdown",
   "metadata": {
    "papermill": {
     "duration": 0.047585,
     "end_time": "2020-12-05T10:06:59.053483",
     "exception": false,
     "start_time": "2020-12-05T10:06:59.005898",
     "status": "completed"
    },
    "tags": []
   },
   "source": [
    "### Comparing results of NN and LR"
   ]
  },
  {
   "cell_type": "code",
   "execution_count": 23,
   "metadata": {
    "execution": {
     "iopub.execute_input": "2020-12-05T10:06:59.159450Z",
     "iopub.status.busy": "2020-12-05T10:06:59.158808Z",
     "iopub.status.idle": "2020-12-05T10:06:59.445655Z",
     "shell.execute_reply": "2020-12-05T10:06:59.445103Z"
    },
    "papermill": {
     "duration": 0.34272,
     "end_time": "2020-12-05T10:06:59.445802",
     "exception": false,
     "start_time": "2020-12-05T10:06:59.103082",
     "status": "completed"
    },
    "tags": []
   },
   "outputs": [
    {
     "data": {
      "text/plain": [
       "<matplotlib.legend.Legend at 0x7fd9a11889b0>"
      ]
     },
     "execution_count": 23,
     "metadata": {},
     "output_type": "execute_result"
    },
    {
     "data": {
      "image/png": "[encoded data removed]",
      "text/plain": [
       "<Figure size 1080x720 with 1 Axes>"
      ]
     },
     "metadata": {
      "needs_background": "light"
     },
     "output_type": "display_data"
    }
   ],
   "source": [
    "plt.figure(figsize=(15,10))\n",
    "\n",
    "# Neural Network plots\n",
    "plt.plot(acc_nn.accuracies, 'r-', label = \"Training Accuracies - NN\")\n",
    "plt.plot(acc_nn.test_accuracies, 'g-', label = \"Testing Accuracies - NN\")\n",
    "\n",
    "# Logistic Regression plots\n",
    "plt.plot(acc_lr.accuracies, 'k-', label = \"Training Accuracies - LR\")\n",
    "plt.plot(acc_lr.test_accuracies, 'b-', label = \"Testing Accuracies - LR\")\n",
    "\n",
    "plt.ylim(0.8, 1)\n",
    "\n",
    "plt.legend()\n",
    "\n"
   ]
  },
  {
   "cell_type": "markdown",
   "metadata": {
    "papermill": {
     "duration": 0.050485,
     "end_time": "2020-12-05T10:06:59.549758",
     "exception": false,
     "start_time": "2020-12-05T10:06:59.499273",
     "status": "completed"
    },
    "tags": []
   },
   "source": [
    "### From the plot, we can observe the following:\n",
    "- Neural Network achieves higher accuracy than the Logistic Regression model.\n",
    "- This apparently, is because of overfitting, i.e. NN captures more noise than data.\n",
    "- Testing accuracy of NN drops below the Training accuracy at higher epochs. This explains the over-fitting on training data.\n",
    "- Logistic Regression gives a reliable accuracy, without the above mentioned problem.\n"
   ]
  },
  {
   "cell_type": "markdown",
   "metadata": {
    "papermill": {
     "duration": 0.051678,
     "end_time": "2020-12-05T10:06:59.652460",
     "exception": false,
     "start_time": "2020-12-05T10:06:59.600782",
     "status": "completed"
    },
    "tags": []
   },
   "source": [
    "### Moving till the last but one layer (excluding it).\n",
    "#### Plotting the outputs of this layer of the NN."
   ]
  },
  {
   "cell_type": "code",
   "execution_count": 24,
   "metadata": {
    "execution": {
     "iopub.execute_input": "2020-12-05T10:06:59.766068Z",
     "iopub.status.busy": "2020-12-05T10:06:59.764676Z",
     "iopub.status.idle": "2020-12-05T10:06:59.781887Z",
     "shell.execute_reply": "2020-12-05T10:06:59.781317Z"
    },
    "papermill": {
     "duration": 0.075668,
     "end_time": "2020-12-05T10:06:59.782053",
     "exception": false,
     "start_time": "2020-12-05T10:06:59.706385",
     "status": "completed"
    },
    "tags": []
   },
   "outputs": [],
   "source": [
    "model_new = Model(layers[:-2])"
   ]
  },
  {
   "cell_type": "code",
   "execution_count": 25,
   "metadata": {
    "execution": {
     "iopub.execute_input": "2020-12-05T10:06:59.891444Z",
     "iopub.status.busy": "2020-12-05T10:06:59.889562Z",
     "iopub.status.idle": "2020-12-05T10:06:59.914607Z",
     "shell.execute_reply": "2020-12-05T10:06:59.915161Z"
    },
    "papermill": {
     "duration": 0.082134,
     "end_time": "2020-12-05T10:06:59.915315",
     "exception": false,
     "start_time": "2020-12-05T10:06:59.833181",
     "status": "completed"
    },
    "tags": []
   },
   "outputs": [],
   "source": [
    "plot_testing = model_new(testing_xdata)"
   ]
  },
  {
   "cell_type": "code",
   "execution_count": 26,
   "metadata": {
    "execution": {
     "iopub.execute_input": "2020-12-05T10:07:00.027827Z",
     "iopub.status.busy": "2020-12-05T10:07:00.027149Z",
     "iopub.status.idle": "2020-12-05T10:07:00.244529Z",
     "shell.execute_reply": "2020-12-05T10:07:00.245049Z"
    },
    "papermill": {
     "duration": 0.278116,
     "end_time": "2020-12-05T10:07:00.245208",
     "exception": false,
     "start_time": "2020-12-05T10:06:59.967092",
     "status": "completed"
    },
    "tags": []
   },
   "outputs": [
    {
     "data": {
      "text/plain": [
       "Text(0.5, 1.0, 'Outputs')"
      ]
     },
     "execution_count": 26,
     "metadata": {},
     "output_type": "execute_result"
    },
    {
     "data": {
      "image/png": "[encoded data removed]",
      "text/plain": [
       "<Figure size 576x504 with 1 Axes>"
      ]
     },
     "metadata": {
      "needs_background": "light"
     },
     "output_type": "display_data"
    }
   ],
   "source": [
    "plt.figure(figsize=(8,7))\n",
    "plt.scatter(plot_testing[:,0], plot_testing[:,1], alpha = 0.1, c = y_test.ravel());\n",
    "plt.title('Outputs')"
   ]
  },
  {
   "cell_type": "markdown",
   "metadata": {
    "papermill": {
     "duration": 0.052125,
     "end_time": "2020-12-05T10:07:00.351571",
     "exception": false,
     "start_time": "2020-12-05T10:07:00.299446",
     "status": "completed"
    },
    "tags": []
   },
   "source": [
    "### Plotting probability contours"
   ]
  },
  {
   "cell_type": "code",
   "execution_count": 27,
   "metadata": {
    "execution": {
     "iopub.execute_input": "2020-12-05T10:07:00.471240Z",
     "iopub.status.busy": "2020-12-05T10:07:00.469070Z",
     "iopub.status.idle": "2020-12-05T10:07:00.482509Z",
     "shell.execute_reply": "2020-12-05T10:07:00.482986Z"
    },
    "papermill": {
     "duration": 0.072231,
     "end_time": "2020-12-05T10:07:00.483126",
     "exception": false,
     "start_time": "2020-12-05T10:07:00.410895",
     "status": "completed"
    },
    "tags": []
   },
   "outputs": [],
   "source": [
    "model_prob = Model(layers[-2:]) "
   ]
  },
  {
   "cell_type": "code",
   "execution_count": 28,
   "metadata": {
    "execution": {
     "iopub.execute_input": "2020-12-05T10:07:00.599425Z",
     "iopub.status.busy": "2020-12-05T10:07:00.592803Z",
     "iopub.status.idle": "2020-12-05T10:07:00.609368Z",
     "shell.execute_reply": "2020-12-05T10:07:00.608630Z"
    },
    "papermill": {
     "duration": 0.07647,
     "end_time": "2020-12-05T10:07:00.609489",
     "exception": false,
     "start_time": "2020-12-05T10:07:00.533019",
     "status": "completed"
    },
    "tags": []
   },
   "outputs": [],
   "source": [
    "# Adjust the x and y ranges according to the above generated plot.\n",
    "x_range = np.linspace(-4, 1, 100) \n",
    "y_range = np.linspace(-6, 6, 100) \n",
    "x_grid, y_grid = np.meshgrid(x_range, y_range) # x_grid and y_grig are of size 100 X 100\n",
    "\n",
    "# converting x_grid and y_grid to continuous arrays\n",
    "x_grid_flat = np.ravel(x_grid)\n",
    "y_grid_flat = np.ravel(y_grid)\n",
    "\n",
    "# The last layer of the current model takes two columns as input. Hence transpose of np.vstack() is required.\n",
    "X = np.vstack((x_grid_flat, y_grid_flat)).T\n",
    "\n",
    "# x_grid and y_grid are of size 100 x 100\n",
    "probability_contour = model_prob(X).reshape(100,100) "
   ]
  },
  {
   "cell_type": "code",
   "execution_count": 29,
   "metadata": {
    "execution": {
     "iopub.execute_input": "2020-12-05T10:07:00.747234Z",
     "iopub.status.busy": "2020-12-05T10:07:00.744321Z",
     "iopub.status.idle": "2020-12-05T10:07:01.019950Z",
     "shell.execute_reply": "2020-12-05T10:07:01.020972Z"
    },
    "papermill": {
     "duration": 0.360424,
     "end_time": "2020-12-05T10:07:01.021151",
     "exception": false,
     "start_time": "2020-12-05T10:07:00.660727",
     "status": "completed"
    },
    "tags": []
   },
   "outputs": [
    {
     "data": {
      "image/png": "[encoded data removed]",
      "text/plain": [
       "<Figure size 720x648 with 1 Axes>"
      ]
     },
     "metadata": {
      "needs_background": "light"
     },
     "output_type": "display_data"
    }
   ],
   "source": [
    "plt.figure(figsize=(10,9))\n",
    "plt.scatter(plot_testing[:,0], plot_testing[:,1], alpha = 0.1, c = y_test.ravel())\n",
    "contours = plt.contour(x_grid,y_grid,probability_contour)\n",
    "plt.title('Probability Contours')\n",
    "plt.clabel(contours, inline = True );"
   ]
  }
 ],
 "metadata": {
  "kernelspec": {
   "display_name": "Python 3",
   "language": "python",
   "name": "python3"
  },
  "language_info": {
   "codemirror_mode": {
    "name": "ipython",
    "version": 3
   },
   "file_extension": ".py",
   "mimetype": "text/x-python",
   "name": "python",
   "nbconvert_exporter": "python",
   "pygments_lexer": "ipython3",
   "version": "3.6.12"
  },
  "papermill": {
   "duration": 168.710318,
   "end_time": "2020-12-05T10:07:01.408718",
   "environment_variables": {},
   "exception": null,
   "input_path": "2020-08-11-NeuralNetwork.ipynb",
   "output_path": "2020-08-11-NeuralNetwork.ipynb",
   "parameters": {},
   "start_time": "2020-12-05T10:04:12.698400",
   "version": "2.1.2"
  }
 },
 "nbformat": 4,
 "nbformat_minor": 4
}