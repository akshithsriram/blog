{
 "cells": [
  {
   "cell_type": "markdown",
   "metadata": {
    "papermill": {
     "duration": 0.032993,
     "end_time": "2020-10-27T00:07:02.136011",
     "exception": false,
     "start_time": "2020-10-27T00:07:02.103018",
     "status": "completed"
    },
    "tags": []
   },
   "source": [
    "# \"A Basic Neural Network: Differentiate Hand-Written Digits\"\n",
    "\n",
    "- badges: true\n",
    "- author: Akshith Sriram"
   ]
  },
  {
   "cell_type": "markdown",
   "metadata": {
    "papermill": {
     "duration": 0.023593,
     "end_time": "2020-10-27T00:07:02.185040",
     "exception": false,
     "start_time": "2020-10-27T00:07:02.161447",
     "status": "completed"
    },
    "tags": []
   },
   "source": [
    "### Key Objectives:\n",
    "- Building a neural network that differentiates two hand-written digits 3 and 8.\n",
    "- Comparing the results of this Neural Network (NN) to that of a Logistic Regression (LR) model.\n",
    "\n",
    "### Requirements:\n",
    "- 'Kudzu' : A neural network library that was designed during our course by [Univ.AI](www.univ.ai). \n",
    "- MNIST Database\n",
    "\n",
    "If MNIST is not installed, use the command `!pip install mnist` given below.\n",
    "It can be run both from the command line and Jupyter Notebook."
   ]
  },
  {
   "cell_type": "code",
   "execution_count": 1,
   "metadata": {
    "execution": {
     "iopub.execute_input": "2020-10-27T00:07:02.242036Z",
     "iopub.status.busy": "2020-10-27T00:07:02.241428Z",
     "iopub.status.idle": "2020-10-27T00:07:04.512631Z",
     "shell.execute_reply": "2020-10-27T00:07:04.513080Z"
    },
    "papermill": {
     "duration": 2.303369,
     "end_time": "2020-10-27T00:07:04.513257",
     "exception": false,
     "start_time": "2020-10-27T00:07:02.209888",
     "status": "completed"
    },
    "tags": []
   },
   "outputs": [
    {
     "name": "stdout",
     "output_type": "stream",
     "text": [
      "Collecting mnist\r\n"
     ]
    },
    {
     "name": "stdout",
     "output_type": "stream",
     "text": [
      "  Downloading mnist-0.2.2-py2.py3-none-any.whl (3.5 kB)\r\n"
     ]
    },
    {
     "name": "stdout",
     "output_type": "stream",
     "text": [
      "Requirement already satisfied: numpy in /opt/hostedtoolcache/Python/3.6.12/x64/lib/python3.6/site-packages (from mnist) (1.19.2)\r\n"
     ]
    },
    {
     "name": "stdout",
     "output_type": "stream",
     "text": [
      "Installing collected packages: mnist\r\n"
     ]
    },
    {
     "name": "stdout",
     "output_type": "stream",
     "text": [
      "Successfully installed mnist-0.2.2\r\n",
      "\u001b[33mWARNING: You are using pip version 20.2.3; however, version 20.2.4 is available.\r\n",
      "You should consider upgrading via the '/opt/hostedtoolcache/Python/3.6.12/x64/bin/python -m pip install --upgrade pip' command.\u001b[0m\r\n"
     ]
    }
   ],
   "source": [
    "!pip install mnist "
   ]
  },
  {
   "cell_type": "markdown",
   "metadata": {
    "papermill": {
     "duration": 0.024175,
     "end_time": "2020-10-27T00:07:04.564385",
     "exception": false,
     "start_time": "2020-10-27T00:07:04.540210",
     "status": "completed"
    },
    "tags": []
   },
   "source": [
    "#### Importing necessary libraries"
   ]
  },
  {
   "cell_type": "code",
   "execution_count": 2,
   "metadata": {
    "execution": {
     "iopub.execute_input": "2020-10-27T00:07:04.626353Z",
     "iopub.status.busy": "2020-10-27T00:07:04.625091Z",
     "iopub.status.idle": "2020-10-27T00:07:05.225704Z",
     "shell.execute_reply": "2020-10-27T00:07:05.225171Z"
    },
    "papermill": {
     "duration": 0.635239,
     "end_time": "2020-10-27T00:07:05.225876",
     "exception": false,
     "start_time": "2020-10-27T00:07:04.590637",
     "status": "completed"
    },
    "tags": []
   },
   "outputs": [],
   "source": [
    "%load_ext autoreload\n",
    "%autoreload 2\n",
    "\n",
    "%matplotlib inline\n",
    "import matplotlib.pyplot as plt\n",
    "\n",
    "import numpy as np\n",
    "import pandas as pd"
   ]
  },
  {
   "cell_type": "markdown",
   "metadata": {
    "papermill": {
     "duration": 0.027297,
     "end_time": "2020-10-27T00:07:05.281138",
     "exception": false,
     "start_time": "2020-10-27T00:07:05.253841",
     "status": "completed"
    },
    "tags": []
   },
   "source": [
    "### Preparing the Data"
   ]
  },
  {
   "cell_type": "code",
   "execution_count": 3,
   "metadata": {
    "execution": {
     "iopub.execute_input": "2020-10-27T00:07:05.339727Z",
     "iopub.status.busy": "2020-10-27T00:07:05.339158Z",
     "iopub.status.idle": "2020-10-27T00:07:05.351869Z",
     "shell.execute_reply": "2020-10-27T00:07:05.352323Z"
    },
    "papermill": {
     "duration": 0.04523,
     "end_time": "2020-10-27T00:07:05.352477",
     "exception": false,
     "start_time": "2020-10-27T00:07:05.307247",
     "status": "completed"
    },
    "tags": []
   },
   "outputs": [],
   "source": [
    "import mnist"
   ]
  },
  {
   "cell_type": "code",
   "execution_count": 4,
   "metadata": {
    "execution": {
     "iopub.execute_input": "2020-10-27T00:07:05.410125Z",
     "iopub.status.busy": "2020-10-27T00:07:05.408880Z",
     "iopub.status.idle": "2020-10-27T00:07:06.105462Z",
     "shell.execute_reply": "2020-10-27T00:07:06.105976Z"
    },
    "papermill": {
     "duration": 0.727271,
     "end_time": "2020-10-27T00:07:06.106150",
     "exception": false,
     "start_time": "2020-10-27T00:07:05.378879",
     "status": "completed"
    },
    "tags": []
   },
   "outputs": [],
   "source": [
    "train_images = mnist.train_images()\n",
    "train_labels = mnist.train_labels()"
   ]
  },
  {
   "cell_type": "code",
   "execution_count": 5,
   "metadata": {
    "execution": {
     "iopub.execute_input": "2020-10-27T00:07:06.166176Z",
     "iopub.status.busy": "2020-10-27T00:07:06.165578Z",
     "iopub.status.idle": "2020-10-27T00:07:06.181090Z",
     "shell.execute_reply": "2020-10-27T00:07:06.180580Z"
    },
    "papermill": {
     "duration": 0.048125,
     "end_time": "2020-10-27T00:07:06.181224",
     "exception": false,
     "start_time": "2020-10-27T00:07:06.133099",
     "status": "completed"
    },
    "tags": []
   },
   "outputs": [
    {
     "data": {
      "text/plain": [
       "((60000, 28, 28), (60000,))"
      ]
     },
     "execution_count": 5,
     "metadata": {},
     "output_type": "execute_result"
    }
   ],
   "source": [
    "train_images.shape, train_labels.shape"
   ]
  },
  {
   "cell_type": "code",
   "execution_count": 6,
   "metadata": {
    "execution": {
     "iopub.execute_input": "2020-10-27T00:07:06.245529Z",
     "iopub.status.busy": "2020-10-27T00:07:06.244981Z",
     "iopub.status.idle": "2020-10-27T00:07:06.506872Z",
     "shell.execute_reply": "2020-10-27T00:07:06.505935Z"
    },
    "papermill": {
     "duration": 0.299353,
     "end_time": "2020-10-27T00:07:06.507141",
     "exception": false,
     "start_time": "2020-10-27T00:07:06.207788",
     "status": "completed"
    },
    "tags": []
   },
   "outputs": [],
   "source": [
    "test_images = mnist.test_images()\n",
    "test_labels = mnist.test_labels()"
   ]
  },
  {
   "cell_type": "code",
   "execution_count": 7,
   "metadata": {
    "execution": {
     "iopub.execute_input": "2020-10-27T00:07:06.569193Z",
     "iopub.status.busy": "2020-10-27T00:07:06.568608Z",
     "iopub.status.idle": "2020-10-27T00:07:06.584153Z",
     "shell.execute_reply": "2020-10-27T00:07:06.584571Z"
    },
    "papermill": {
     "duration": 0.04927,
     "end_time": "2020-10-27T00:07:06.584719",
     "exception": false,
     "start_time": "2020-10-27T00:07:06.535449",
     "status": "completed"
    },
    "tags": []
   },
   "outputs": [
    {
     "data": {
      "text/plain": [
       "((10000, 28, 28), (10000,))"
      ]
     },
     "execution_count": 7,
     "metadata": {},
     "output_type": "execute_result"
    }
   ],
   "source": [
    "test_images.shape, test_labels.shape"
   ]
  },
  {
   "cell_type": "code",
   "execution_count": 8,
   "metadata": {
    "execution": {
     "iopub.execute_input": "2020-10-27T00:07:06.645514Z",
     "iopub.status.busy": "2020-10-27T00:07:06.644481Z",
     "iopub.status.idle": "2020-10-27T00:07:06.795483Z",
     "shell.execute_reply": "2020-10-27T00:07:06.795978Z"
    },
    "papermill": {
     "duration": 0.183635,
     "end_time": "2020-10-27T00:07:06.796145",
     "exception": false,
     "start_time": "2020-10-27T00:07:06.612510",
     "status": "completed"
    },
    "tags": []
   },
   "outputs": [
    {
     "name": "stdout",
     "output_type": "stream",
     "text": [
      "2\n"
     ]
    },
    {
     "data": {
      "text/plain": [
       "<matplotlib.image.AxesImage at 0x7f00ad574978>"
      ]
     },
     "execution_count": 8,
     "metadata": {},
     "output_type": "execute_result"
    },
    {
     "data": {
      "image/png": "[encoded data removed]",
      "text/plain": [
       "<Figure size 432x288 with 1 Axes>"
      ]
     },
     "metadata": {
      "needs_background": "light"
     },
     "output_type": "display_data"
    }
   ],
   "source": [
    "image_index = 7776 # You may select anything up to 60,000\n",
    "print(train_labels[image_index]) \n",
    "plt.imshow(train_images[image_index], cmap='Greys')"
   ]
  },
  {
   "cell_type": "markdown",
   "metadata": {
    "papermill": {
     "duration": 0.033432,
     "end_time": "2020-10-27T00:07:06.868475",
     "exception": false,
     "start_time": "2020-10-27T00:07:06.835043",
     "status": "completed"
    },
    "tags": []
   },
   "source": [
    "## Filter data to get 3 and 8 out"
   ]
  },
  {
   "cell_type": "code",
   "execution_count": 9,
   "metadata": {
    "execution": {
     "iopub.execute_input": "2020-10-27T00:07:06.930687Z",
     "iopub.status.busy": "2020-10-27T00:07:06.930098Z",
     "iopub.status.idle": "2020-10-27T00:07:06.948501Z",
     "shell.execute_reply": "2020-10-27T00:07:06.947744Z"
    },
    "papermill": {
     "duration": 0.051239,
     "end_time": "2020-10-27T00:07:06.948689",
     "exception": false,
     "start_time": "2020-10-27T00:07:06.897450",
     "status": "completed"
    },
    "tags": []
   },
   "outputs": [],
   "source": [
    "train_filter = np.where((train_labels == 3 ) | (train_labels == 8))\n",
    "test_filter = np.where((test_labels == 3) | (test_labels == 8))\n",
    "X_train, y_train = train_images[train_filter], train_labels[train_filter]\n",
    "X_test, y_test = test_images[test_filter], test_labels[test_filter]"
   ]
  },
  {
   "cell_type": "markdown",
   "metadata": {
    "papermill": {
     "duration": 0.029149,
     "end_time": "2020-10-27T00:07:07.011947",
     "exception": false,
     "start_time": "2020-10-27T00:07:06.982798",
     "status": "completed"
    },
    "tags": []
   },
   "source": [
    "We normalize the pixel values in the 0 to 1 range"
   ]
  },
  {
   "cell_type": "code",
   "execution_count": 10,
   "metadata": {
    "execution": {
     "iopub.execute_input": "2020-10-27T00:07:07.080770Z",
     "iopub.status.busy": "2020-10-27T00:07:07.080149Z",
     "iopub.status.idle": "2020-10-27T00:07:07.133465Z",
     "shell.execute_reply": "2020-10-27T00:07:07.132570Z"
    },
    "papermill": {
     "duration": 0.092372,
     "end_time": "2020-10-27T00:07:07.133703",
     "exception": false,
     "start_time": "2020-10-27T00:07:07.041331",
     "status": "completed"
    },
    "tags": []
   },
   "outputs": [],
   "source": [
    "X_train = X_train/255.\n",
    "X_test = X_test/255."
   ]
  },
  {
   "cell_type": "markdown",
   "metadata": {
    "papermill": {
     "duration": 0.02824,
     "end_time": "2020-10-27T00:07:07.192765",
     "exception": false,
     "start_time": "2020-10-27T00:07:07.164525",
     "status": "completed"
    },
    "tags": []
   },
   "source": [
    "Setup the labels as 1 (when the digit is 3) and 0 (when the digit is 8)"
   ]
  },
  {
   "cell_type": "code",
   "execution_count": 11,
   "metadata": {
    "execution": {
     "iopub.execute_input": "2020-10-27T00:07:07.255453Z",
     "iopub.status.busy": "2020-10-27T00:07:07.254760Z",
     "iopub.status.idle": "2020-10-27T00:07:07.266928Z",
     "shell.execute_reply": "2020-10-27T00:07:07.267410Z"
    },
    "papermill": {
     "duration": 0.047349,
     "end_time": "2020-10-27T00:07:07.267573",
     "exception": false,
     "start_time": "2020-10-27T00:07:07.220224",
     "status": "completed"
    },
    "tags": []
   },
   "outputs": [],
   "source": [
    "y_train = 1*(y_train==3)\n",
    "y_test = 1*(y_test==3)"
   ]
  },
  {
   "cell_type": "code",
   "execution_count": 12,
   "metadata": {
    "execution": {
     "iopub.execute_input": "2020-10-27T00:07:07.327373Z",
     "iopub.status.busy": "2020-10-27T00:07:07.326779Z",
     "iopub.status.idle": "2020-10-27T00:07:07.351081Z",
     "shell.execute_reply": "2020-10-27T00:07:07.352043Z"
    },
    "papermill": {
     "duration": 0.056794,
     "end_time": "2020-10-27T00:07:07.352278",
     "exception": false,
     "start_time": "2020-10-27T00:07:07.295484",
     "status": "completed"
    },
    "tags": []
   },
   "outputs": [
    {
     "data": {
      "text/plain": [
       "((11982, 28, 28), (1984, 28, 28))"
      ]
     },
     "execution_count": 12,
     "metadata": {},
     "output_type": "execute_result"
    }
   ],
   "source": [
    "X_train.shape, X_test.shape"
   ]
  },
  {
   "cell_type": "markdown",
   "metadata": {
    "papermill": {
     "duration": 0.02916,
     "end_time": "2020-10-27T00:07:07.410843",
     "exception": false,
     "start_time": "2020-10-27T00:07:07.381683",
     "status": "completed"
    },
    "tags": []
   },
   "source": [
    "### Reshape the input data to create a linear array"
   ]
  },
  {
   "cell_type": "code",
   "execution_count": 13,
   "metadata": {
    "execution": {
     "iopub.execute_input": "2020-10-27T00:07:07.484929Z",
     "iopub.status.busy": "2020-10-27T00:07:07.476908Z",
     "iopub.status.idle": "2020-10-27T00:07:07.487979Z",
     "shell.execute_reply": "2020-10-27T00:07:07.488618Z"
    },
    "papermill": {
     "duration": 0.049516,
     "end_time": "2020-10-27T00:07:07.488783",
     "exception": false,
     "start_time": "2020-10-27T00:07:07.439267",
     "status": "completed"
    },
    "tags": []
   },
   "outputs": [
    {
     "data": {
      "text/plain": [
       "((11982, 784), (1984, 784))"
      ]
     },
     "execution_count": 13,
     "metadata": {},
     "output_type": "execute_result"
    }
   ],
   "source": [
    "X_train = X_train.reshape(X_train.shape[0], -1)\n",
    "X_test = X_test.reshape(X_test.shape[0], -1)\n",
    "X_train.shape, X_test.shape"
   ]
  },
  {
   "cell_type": "markdown",
   "metadata": {
    "papermill": {
     "duration": 0.028131,
     "end_time": "2020-10-27T00:07:07.545146",
     "exception": false,
     "start_time": "2020-10-27T00:07:07.517015",
     "status": "completed"
    },
    "tags": []
   },
   "source": [
    "### Importing appropriate functions from 'Kudzu'"
   ]
  },
  {
   "cell_type": "code",
   "execution_count": 14,
   "metadata": {
    "execution": {
     "iopub.execute_input": "2020-10-27T00:07:07.610214Z",
     "iopub.status.busy": "2020-10-27T00:07:07.609075Z",
     "iopub.status.idle": "2020-10-27T00:07:07.632587Z",
     "shell.execute_reply": "2020-10-27T00:07:07.631887Z"
    },
    "papermill": {
     "duration": 0.058823,
     "end_time": "2020-10-27T00:07:07.632760",
     "exception": false,
     "start_time": "2020-10-27T00:07:07.573937",
     "status": "completed"
    },
    "tags": []
   },
   "outputs": [],
   "source": [
    "from kudzu.layer import Sigmoid\n",
    "from kudzu.layer import Relu\n",
    "from kudzu.layer import Affine, Sigmoid\n",
    "\n",
    "from kudzu.model import Model\n",
    "from kudzu.train import Learner\n",
    "from kudzu.optim import GD\n",
    "from kudzu.data import Data, Dataloader, Sampler\n",
    "\n",
    "from kudzu.callbacks import AccCallback\n",
    "from kudzu.callbacks import ClfCallback\n",
    "\n",
    "from kudzu.loss import MSE"
   ]
  },
  {
   "cell_type": "markdown",
   "metadata": {
    "papermill": {
     "duration": 0.027386,
     "end_time": "2020-10-27T00:07:07.689573",
     "exception": false,
     "start_time": "2020-10-27T00:07:07.662187",
     "status": "completed"
    },
    "tags": []
   },
   "source": [
    "### Let us create a `Config` class, to store important parameters. \n",
    "This class essentially plays the role of a dictionary."
   ]
  },
  {
   "cell_type": "code",
   "execution_count": 15,
   "metadata": {
    "execution": {
     "iopub.execute_input": "2020-10-27T00:07:07.752571Z",
     "iopub.status.busy": "2020-10-27T00:07:07.751960Z",
     "iopub.status.idle": "2020-10-27T00:07:07.768965Z",
     "shell.execute_reply": "2020-10-27T00:07:07.768376Z"
    },
    "papermill": {
     "duration": 0.051556,
     "end_time": "2020-10-27T00:07:07.769093",
     "exception": false,
     "start_time": "2020-10-27T00:07:07.717537",
     "status": "completed"
    },
    "tags": []
   },
   "outputs": [],
   "source": [
    "class Config:\n",
    "    pass\n",
    "config = Config()\n",
    "config.lr = 0.001\n",
    "config.num_epochs = 251\n",
    "config.bs = 50"
   ]
  },
  {
   "cell_type": "markdown",
   "metadata": {
    "papermill": {
     "duration": 0.028387,
     "end_time": "2020-10-27T00:07:07.826063",
     "exception": false,
     "start_time": "2020-10-27T00:07:07.797676",
     "status": "completed"
    },
    "tags": []
   },
   "source": [
    "### Initializing data to the variables"
   ]
  },
  {
   "cell_type": "code",
   "execution_count": 16,
   "metadata": {
    "execution": {
     "iopub.execute_input": "2020-10-27T00:07:07.891761Z",
     "iopub.status.busy": "2020-10-27T00:07:07.890927Z",
     "iopub.status.idle": "2020-10-27T00:07:07.902150Z",
     "shell.execute_reply": "2020-10-27T00:07:07.901640Z"
    },
    "papermill": {
     "duration": 0.04857,
     "end_time": "2020-10-27T00:07:07.902279",
     "exception": false,
     "start_time": "2020-10-27T00:07:07.853709",
     "status": "completed"
    },
    "tags": []
   },
   "outputs": [],
   "source": [
    "data = Data(X_train, y_train.reshape(-1,1))\n",
    "sampler = Sampler(data, config.bs, shuffle=True)\n",
    "\n",
    "dl = Dataloader(data, sampler)\n",
    "\n",
    "opt = GD(config.lr)\n",
    "loss = MSE()"
   ]
  },
  {
   "cell_type": "code",
   "execution_count": 17,
   "metadata": {
    "execution": {
     "iopub.execute_input": "2020-10-27T00:07:07.971764Z",
     "iopub.status.busy": "2020-10-27T00:07:07.971162Z",
     "iopub.status.idle": "2020-10-27T00:07:07.979922Z",
     "shell.execute_reply": "2020-10-27T00:07:07.979446Z"
    },
    "papermill": {
     "duration": 0.047649,
     "end_time": "2020-10-27T00:07:07.980053",
     "exception": false,
     "start_time": "2020-10-27T00:07:07.932404",
     "status": "completed"
    },
    "tags": []
   },
   "outputs": [],
   "source": [
    "training_xdata = X_train\n",
    "testing_xdata = X_test\n",
    "training_ydata = y_train.reshape(-1,1)\n",
    "testing_ydata = y_test.reshape(-1,1)"
   ]
  },
  {
   "cell_type": "markdown",
   "metadata": {
    "papermill": {
     "duration": 0.029531,
     "end_time": "2020-10-27T00:07:08.038624",
     "exception": false,
     "start_time": "2020-10-27T00:07:08.009093",
     "status": "completed"
    },
    "tags": []
   },
   "source": [
    "### Running Models with the Training data\n",
    "Details about the network layers:\n",
    "- A first affine layer has 784 inputs and does 100 affine transforms. These are followed by a Relu\n",
    "- A second affine layer has 100 inputs from the 100 activations of the past layer, and does 100 affine transforms. These are followed by a Relu\n",
    "- A third affine layer has 100 activations and does 2 affine transformations to create an embedding for visualization. There is no non-linearity here.\n",
    "- A final \"logistic regression\" which has an affine transform from 2 inputs to 1 output, which is squeezed through a sigmoid.\n",
    "\n",
    "Help taken from Anshuman's Notebook."
   ]
  },
  {
   "cell_type": "code",
   "execution_count": 18,
   "metadata": {
    "execution": {
     "iopub.execute_input": "2020-10-27T00:07:08.104240Z",
     "iopub.status.busy": "2020-10-27T00:07:08.103642Z",
     "iopub.status.idle": "2020-10-27T00:07:08.124714Z",
     "shell.execute_reply": "2020-10-27T00:07:08.124216Z"
    },
    "papermill": {
     "duration": 0.056674,
     "end_time": "2020-10-27T00:07:08.124850",
     "exception": false,
     "start_time": "2020-10-27T00:07:08.068176",
     "status": "completed"
    },
    "tags": []
   },
   "outputs": [],
   "source": [
    "# layers for the Neural Network\n",
    "layers = [Affine(\"first\", 784, 100), Relu(\"first\"), Affine(\"second\", 100, 100), Relu(\"second\"), Affine(\"third\", 100, 2), Affine(\"final\", 2, 1), Sigmoid(\"final\")]\n",
    "model_nn = Model(layers)\n",
    "\n",
    "# layers for the Logistic Regression\n",
    "layers_lr = [Affine(\"logits\", 784, 1), Sigmoid(\"sigmoid\")]\n",
    "model_lr = Model(layers_lr)"
   ]
  },
  {
   "cell_type": "code",
   "execution_count": 19,
   "metadata": {
    "execution": {
     "iopub.execute_input": "2020-10-27T00:07:08.186480Z",
     "iopub.status.busy": "2020-10-27T00:07:08.185870Z",
     "iopub.status.idle": "2020-10-27T00:07:08.198799Z",
     "shell.execute_reply": "2020-10-27T00:07:08.198330Z"
    },
    "papermill": {
     "duration": 0.044903,
     "end_time": "2020-10-27T00:07:08.198928",
     "exception": false,
     "start_time": "2020-10-27T00:07:08.154025",
     "status": "completed"
    },
    "tags": []
   },
   "outputs": [],
   "source": [
    "# suffix _nn stands for Neural Network.\n",
    "learner_nn = Learner(loss, model_nn, opt, config.num_epochs)\n",
    "acc_nn = ClfCallback(learner_nn, config.bs, training_xdata , testing_xdata, training_ydata, testing_ydata)\n",
    "learner_nn.set_callbacks([acc_nn])"
   ]
  },
  {
   "cell_type": "code",
   "execution_count": 20,
   "metadata": {
    "execution": {
     "iopub.execute_input": "2020-10-27T00:07:08.260340Z",
     "iopub.status.busy": "2020-10-27T00:07:08.259736Z",
     "iopub.status.idle": "2020-10-27T00:08:33.460218Z",
     "shell.execute_reply": "2020-10-27T00:08:33.461049Z"
    },
    "papermill": {
     "duration": 85.234382,
     "end_time": "2020-10-27T00:08:33.461230",
     "exception": false,
     "start_time": "2020-10-27T00:07:08.226848",
     "status": "completed"
    },
    "tags": []
   },
   "outputs": [
    {
     "name": "stdout",
     "output_type": "stream",
     "text": [
      "====== Neural Network ======\n"
     ]
    },
    {
     "name": "stdout",
     "output_type": "stream",
     "text": [
      "Epoch 0, Loss 0.2462\n",
      "Training Accuracy: 0.6294, Testing Accuracy: 0.6134\n",
      "\n"
     ]
    },
    {
     "name": "stdout",
     "output_type": "stream",
     "text": [
      "Epoch 10, Loss 0.0914\n",
      "Training Accuracy: 0.9222, Testing Accuracy: 0.9229\n",
      "\n"
     ]
    },
    {
     "name": "stdout",
     "output_type": "stream",
     "text": [
      "Epoch 20, Loss 0.0545\n",
      "Training Accuracy: 0.9450, Testing Accuracy: 0.9506\n",
      "\n"
     ]
    },
    {
     "name": "stdout",
     "output_type": "stream",
     "text": [
      "Epoch 30, Loss 0.0423\n",
      "Training Accuracy: 0.9547, Testing Accuracy: 0.9592\n",
      "\n"
     ]
    },
    {
     "name": "stdout",
     "output_type": "stream",
     "text": [
      "Epoch 40, Loss 0.0365\n",
      "Training Accuracy: 0.9599, Testing Accuracy: 0.9632\n",
      "\n"
     ]
    },
    {
     "name": "stdout",
     "output_type": "stream",
     "text": [
      "Epoch 50, Loss 0.033\n",
      "Training Accuracy: 0.9629, Testing Accuracy: 0.9657\n",
      "\n"
     ]
    },
    {
     "name": "stdout",
     "output_type": "stream",
     "text": [
      "Epoch 60, Loss 0.0306\n",
      "Training Accuracy: 0.9648, Testing Accuracy: 0.9672\n",
      "\n"
     ]
    },
    {
     "name": "stdout",
     "output_type": "stream",
     "text": [
      "Epoch 70, Loss 0.0289\n",
      "Training Accuracy: 0.9664, Testing Accuracy: 0.9672\n",
      "\n"
     ]
    },
    {
     "name": "stdout",
     "output_type": "stream",
     "text": [
      "Epoch 80, Loss 0.0275\n",
      "Training Accuracy: 0.9681, Testing Accuracy: 0.9677\n",
      "\n"
     ]
    },
    {
     "name": "stdout",
     "output_type": "stream",
     "text": [
      "Epoch 90, Loss 0.0264\n",
      "Training Accuracy: 0.9696, Testing Accuracy: 0.9682\n",
      "\n"
     ]
    },
    {
     "name": "stdout",
     "output_type": "stream",
     "text": [
      "Epoch 100, Loss 0.0255\n",
      "Training Accuracy: 0.9705, Testing Accuracy: 0.9688\n",
      "\n"
     ]
    },
    {
     "name": "stdout",
     "output_type": "stream",
     "text": [
      "Epoch 110, Loss 0.0247\n",
      "Training Accuracy: 0.9718, Testing Accuracy: 0.9698\n",
      "\n"
     ]
    },
    {
     "name": "stdout",
     "output_type": "stream",
     "text": [
      "Epoch 120, Loss 0.024\n",
      "Training Accuracy: 0.9730, Testing Accuracy: 0.9708\n",
      "\n"
     ]
    },
    {
     "name": "stdout",
     "output_type": "stream",
     "text": [
      "Epoch 130, Loss 0.0233\n",
      "Training Accuracy: 0.9735, Testing Accuracy: 0.9713\n",
      "\n"
     ]
    },
    {
     "name": "stdout",
     "output_type": "stream",
     "text": [
      "Epoch 140, Loss 0.0227\n",
      "Training Accuracy: 0.9741, Testing Accuracy: 0.9713\n",
      "\n"
     ]
    },
    {
     "name": "stdout",
     "output_type": "stream",
     "text": [
      "Epoch 150, Loss 0.0222\n",
      "Training Accuracy: 0.9744, Testing Accuracy: 0.9718\n",
      "\n"
     ]
    },
    {
     "name": "stdout",
     "output_type": "stream",
     "text": [
      "Epoch 160, Loss 0.0217\n",
      "Training Accuracy: 0.9752, Testing Accuracy: 0.9718\n",
      "\n"
     ]
    },
    {
     "name": "stdout",
     "output_type": "stream",
     "text": [
      "Epoch 170, Loss 0.0212\n",
      "Training Accuracy: 0.9757, Testing Accuracy: 0.9718\n",
      "\n"
     ]
    },
    {
     "name": "stdout",
     "output_type": "stream",
     "text": [
      "Epoch 180, Loss 0.0207\n",
      "Training Accuracy: 0.9766, Testing Accuracy: 0.9718\n",
      "\n"
     ]
    },
    {
     "name": "stdout",
     "output_type": "stream",
     "text": [
      "Epoch 190, Loss 0.0203\n",
      "Training Accuracy: 0.9770, Testing Accuracy: 0.9718\n",
      "\n"
     ]
    },
    {
     "name": "stdout",
     "output_type": "stream",
     "text": [
      "Epoch 200, Loss 0.0199\n",
      "Training Accuracy: 0.9779, Testing Accuracy: 0.9728\n",
      "\n"
     ]
    },
    {
     "name": "stdout",
     "output_type": "stream",
     "text": [
      "Epoch 210, Loss 0.0195\n",
      "Training Accuracy: 0.9781, Testing Accuracy: 0.9728\n",
      "\n"
     ]
    },
    {
     "name": "stdout",
     "output_type": "stream",
     "text": [
      "Epoch 220, Loss 0.0192\n",
      "Training Accuracy: 0.9786, Testing Accuracy: 0.9733\n",
      "\n"
     ]
    },
    {
     "name": "stdout",
     "output_type": "stream",
     "text": [
      "Epoch 230, Loss 0.0188\n",
      "Training Accuracy: 0.9788, Testing Accuracy: 0.9733\n",
      "\n"
     ]
    },
    {
     "name": "stdout",
     "output_type": "stream",
     "text": [
      "Epoch 240, Loss 0.0185\n",
      "Training Accuracy: 0.9795, Testing Accuracy: 0.9733\n",
      "\n"
     ]
    },
    {
     "name": "stdout",
     "output_type": "stream",
     "text": [
      "Epoch 250, Loss 0.0181\n",
      "Training Accuracy: 0.9796, Testing Accuracy: 0.9733\n",
      "\n"
     ]
    },
    {
     "data": {
      "text/plain": [
       "0.011735930279549188"
      ]
     },
     "execution_count": 20,
     "metadata": {},
     "output_type": "execute_result"
    }
   ],
   "source": [
    "print(\"====== Neural Network ======\")\n",
    "learner_nn.train_loop(dl)"
   ]
  },
  {
   "cell_type": "markdown",
   "metadata": {
    "papermill": {
     "duration": 0.036348,
     "end_time": "2020-10-27T00:08:33.534552",
     "exception": false,
     "start_time": "2020-10-27T00:08:33.498204",
     "status": "completed"
    },
    "tags": []
   },
   "source": [
    "### Logistic Regression based Implementation."
   ]
  },
  {
   "cell_type": "code",
   "execution_count": 21,
   "metadata": {
    "execution": {
     "iopub.execute_input": "2020-10-27T00:08:33.612893Z",
     "iopub.status.busy": "2020-10-27T00:08:33.612051Z",
     "iopub.status.idle": "2020-10-27T00:08:33.626319Z",
     "shell.execute_reply": "2020-10-27T00:08:33.626768Z"
    },
    "papermill": {
     "duration": 0.055756,
     "end_time": "2020-10-27T00:08:33.626922",
     "exception": false,
     "start_time": "2020-10-27T00:08:33.571166",
     "status": "completed"
    },
    "tags": []
   },
   "outputs": [],
   "source": [
    "learner_lr = Learner(loss, model_lr, opt, config.num_epochs)\n",
    "acc_lr = ClfCallback(learner_lr, config.bs, training_xdata , testing_xdata, training_ydata, testing_ydata)\n",
    "learner_lr.set_callbacks([acc_lr])"
   ]
  },
  {
   "cell_type": "code",
   "execution_count": 22,
   "metadata": {
    "execution": {
     "iopub.execute_input": "2020-10-27T00:08:33.704176Z",
     "iopub.status.busy": "2020-10-27T00:08:33.703588Z",
     "iopub.status.idle": "2020-10-27T00:08:50.582222Z",
     "shell.execute_reply": "2020-10-27T00:08:50.581729Z"
    },
    "papermill": {
     "duration": 16.918749,
     "end_time": "2020-10-27T00:08:50.582370",
     "exception": false,
     "start_time": "2020-10-27T00:08:33.663621",
     "status": "completed"
    },
    "tags": []
   },
   "outputs": [
    {
     "name": "stdout",
     "output_type": "stream",
     "text": [
      "====== Logistic Regression ======\n",
      "Epoch 0, Loss 0.2091\n",
      "Training Accuracy: 0.7823, Testing Accuracy: 0.7974\n",
      "\n"
     ]
    },
    {
     "name": "stdout",
     "output_type": "stream",
     "text": [
      "Epoch 10, Loss 0.1015\n",
      "Training Accuracy: 0.9091, Testing Accuracy: 0.9209\n",
      "\n"
     ]
    },
    {
     "name": "stdout",
     "output_type": "stream",
     "text": [
      "Epoch 20, Loss 0.0789\n",
      "Training Accuracy: 0.9268, Testing Accuracy: 0.9435\n",
      "\n"
     ]
    },
    {
     "name": "stdout",
     "output_type": "stream",
     "text": [
      "Epoch 30, Loss 0.068\n",
      "Training Accuracy: 0.9364, Testing Accuracy: 0.9496\n",
      "\n"
     ]
    },
    {
     "name": "stdout",
     "output_type": "stream",
     "text": [
      "Epoch 40, Loss 0.0614\n",
      "Training Accuracy: 0.9433, Testing Accuracy: 0.9541\n",
      "\n"
     ]
    },
    {
     "name": "stdout",
     "output_type": "stream",
     "text": [
      "Epoch 50, Loss 0.0569\n",
      "Training Accuracy: 0.9464, Testing Accuracy: 0.9556\n",
      "\n"
     ]
    },
    {
     "name": "stdout",
     "output_type": "stream",
     "text": [
      "Epoch 60, Loss 0.0536\n",
      "Training Accuracy: 0.9485, Testing Accuracy: 0.9582\n",
      "\n"
     ]
    },
    {
     "name": "stdout",
     "output_type": "stream",
     "text": [
      "Epoch 70, Loss 0.0511\n",
      "Training Accuracy: 0.9504, Testing Accuracy: 0.9587\n",
      "\n"
     ]
    },
    {
     "name": "stdout",
     "output_type": "stream",
     "text": [
      "Epoch 80, Loss 0.0491\n",
      "Training Accuracy: 0.9515, Testing Accuracy: 0.9617\n",
      "\n"
     ]
    },
    {
     "name": "stdout",
     "output_type": "stream",
     "text": [
      "Epoch 90, Loss 0.0474\n",
      "Training Accuracy: 0.9527, Testing Accuracy: 0.9632\n",
      "\n"
     ]
    },
    {
     "name": "stdout",
     "output_type": "stream",
     "text": [
      "Epoch 100, Loss 0.046\n",
      "Training Accuracy: 0.9543, Testing Accuracy: 0.9637\n",
      "\n"
     ]
    },
    {
     "name": "stdout",
     "output_type": "stream",
     "text": [
      "Epoch 110, Loss 0.0448\n",
      "Training Accuracy: 0.9549, Testing Accuracy: 0.9642\n",
      "\n"
     ]
    },
    {
     "name": "stdout",
     "output_type": "stream",
     "text": [
      "Epoch 120, Loss 0.0437\n",
      "Training Accuracy: 0.9560, Testing Accuracy: 0.9647\n",
      "\n"
     ]
    },
    {
     "name": "stdout",
     "output_type": "stream",
     "text": [
      "Epoch 130, Loss 0.0428\n",
      "Training Accuracy: 0.9567, Testing Accuracy: 0.9647\n",
      "\n"
     ]
    },
    {
     "name": "stdout",
     "output_type": "stream",
     "text": [
      "Epoch 140, Loss 0.042\n",
      "Training Accuracy: 0.9574, Testing Accuracy: 0.9652\n",
      "\n"
     ]
    },
    {
     "name": "stdout",
     "output_type": "stream",
     "text": [
      "Epoch 150, Loss 0.0413\n",
      "Training Accuracy: 0.9579, Testing Accuracy: 0.9657\n",
      "\n"
     ]
    },
    {
     "name": "stdout",
     "output_type": "stream",
     "text": [
      "Epoch 160, Loss 0.0406\n",
      "Training Accuracy: 0.9581, Testing Accuracy: 0.9657\n",
      "\n"
     ]
    },
    {
     "name": "stdout",
     "output_type": "stream",
     "text": [
      "Epoch 170, Loss 0.04\n",
      "Training Accuracy: 0.9585, Testing Accuracy: 0.9657\n",
      "\n"
     ]
    },
    {
     "name": "stdout",
     "output_type": "stream",
     "text": [
      "Epoch 180, Loss 0.0394\n",
      "Training Accuracy: 0.9589, Testing Accuracy: 0.9667\n",
      "\n"
     ]
    },
    {
     "name": "stdout",
     "output_type": "stream",
     "text": [
      "Epoch 190, Loss 0.0389\n",
      "Training Accuracy: 0.9594, Testing Accuracy: 0.9662\n",
      "\n"
     ]
    },
    {
     "name": "stdout",
     "output_type": "stream",
     "text": [
      "Epoch 200, Loss 0.0385\n",
      "Training Accuracy: 0.9597, Testing Accuracy: 0.9667\n",
      "\n"
     ]
    },
    {
     "name": "stdout",
     "output_type": "stream",
     "text": [
      "Epoch 210, Loss 0.038\n",
      "Training Accuracy: 0.9602, Testing Accuracy: 0.9667\n",
      "\n"
     ]
    },
    {
     "name": "stdout",
     "output_type": "stream",
     "text": [
      "Epoch 220, Loss 0.0376\n",
      "Training Accuracy: 0.9604, Testing Accuracy: 0.9667\n",
      "\n"
     ]
    },
    {
     "name": "stdout",
     "output_type": "stream",
     "text": [
      "Epoch 230, Loss 0.0372\n",
      "Training Accuracy: 0.9606, Testing Accuracy: 0.9667\n",
      "\n"
     ]
    },
    {
     "name": "stdout",
     "output_type": "stream",
     "text": [
      "Epoch 240, Loss 0.0369\n",
      "Training Accuracy: 0.9609, Testing Accuracy: 0.9667\n",
      "\n"
     ]
    },
    {
     "name": "stdout",
     "output_type": "stream",
     "text": [
      "Epoch 250, Loss 0.0365\n",
      "Training Accuracy: 0.9613, Testing Accuracy: 0.9662\n",
      "\n"
     ]
    },
    {
     "data": {
      "text/plain": [
       "0.023394667832091164"
      ]
     },
     "execution_count": 22,
     "metadata": {},
     "output_type": "execute_result"
    }
   ],
   "source": [
    "print(\"====== Logistic Regression ======\")\n",
    "learner_lr.train_loop(dl)"
   ]
  },
  {
   "cell_type": "markdown",
   "metadata": {
    "papermill": {
     "duration": 0.043741,
     "end_time": "2020-10-27T00:08:50.672203",
     "exception": false,
     "start_time": "2020-10-27T00:08:50.628462",
     "status": "completed"
    },
    "tags": []
   },
   "source": [
    "### Comparing results of NN and LR"
   ]
  },
  {
   "cell_type": "code",
   "execution_count": 23,
   "metadata": {
    "execution": {
     "iopub.execute_input": "2020-10-27T00:08:50.768036Z",
     "iopub.status.busy": "2020-10-27T00:08:50.767443Z",
     "iopub.status.idle": "2020-10-27T00:08:50.999463Z",
     "shell.execute_reply": "2020-10-27T00:08:50.998866Z"
    },
    "papermill": {
     "duration": 0.280893,
     "end_time": "2020-10-27T00:08:50.999612",
     "exception": false,
     "start_time": "2020-10-27T00:08:50.718719",
     "status": "completed"
    },
    "tags": []
   },
   "outputs": [
    {
     "data": {
      "text/plain": [
       "<matplotlib.legend.Legend at 0x7f00a5d4b320>"
      ]
     },
     "execution_count": 23,
     "metadata": {},
     "output_type": "execute_result"
    },
    {
     "data": {
      "image/png": "[encoded data removed]",
      "text/plain": [
       "<Figure size 1080x720 with 1 Axes>"
      ]
     },
     "metadata": {
      "needs_background": "light"
     },
     "output_type": "display_data"
    }
   ],
   "source": [
    "plt.figure(figsize=(15,10))\n",
    "\n",
    "# Neural Network plots\n",
    "plt.plot(acc_nn.accuracies, 'r-', label = \"Training Accuracies - NN\")\n",
    "plt.plot(acc_nn.test_accuracies, 'g-', label = \"Testing Accuracies - NN\")\n",
    "\n",
    "# Logistic Regression plots\n",
    "plt.plot(acc_lr.accuracies, 'k-', label = \"Training Accuracies - LR\")\n",
    "plt.plot(acc_lr.test_accuracies, 'b-', label = \"Testing Accuracies - LR\")\n",
    "\n",
    "plt.ylim(0.8, 1)\n",
    "\n",
    "plt.legend()\n",
    "\n"
   ]
  },
  {
   "cell_type": "markdown",
   "metadata": {
    "papermill": {
     "duration": 0.045367,
     "end_time": "2020-10-27T00:08:51.089947",
     "exception": false,
     "start_time": "2020-10-27T00:08:51.044580",
     "status": "completed"
    },
    "tags": []
   },
   "source": [
    "### From the plot, we can observe the following:\n",
    "- Neural Network achieves higher accuracy than the Logistic Regression model.\n",
    "- This apparently, is because of overfitting, i.e. NN captures more noise than data.\n",
    "- Testing accuracy of NN drops below the Training accuracy at higher epochs. This explains the over-fitting on training data.\n",
    "- Logistic Regression gives a reliable accuracy, without the above mentioned problem.\n"
   ]
  },
  {
   "cell_type": "markdown",
   "metadata": {
    "papermill": {
     "duration": 0.045379,
     "end_time": "2020-10-27T00:08:51.180407",
     "exception": false,
     "start_time": "2020-10-27T00:08:51.135028",
     "status": "completed"
    },
    "tags": []
   },
   "source": [
    "### Moving till the last but one layer (excluding it).\n",
    "#### Plotting the outputs of this layer of the NN."
   ]
  },
  {
   "cell_type": "code",
   "execution_count": 24,
   "metadata": {
    "execution": {
     "iopub.execute_input": "2020-10-27T00:08:51.278319Z",
     "iopub.status.busy": "2020-10-27T00:08:51.277728Z",
     "iopub.status.idle": "2020-10-27T00:08:51.288813Z",
     "shell.execute_reply": "2020-10-27T00:08:51.289310Z"
    },
    "papermill": {
     "duration": 0.064295,
     "end_time": "2020-10-27T00:08:51.289475",
     "exception": false,
     "start_time": "2020-10-27T00:08:51.225180",
     "status": "completed"
    },
    "tags": []
   },
   "outputs": [],
   "source": [
    "model_new = Model(layers[:-2])"
   ]
  },
  {
   "cell_type": "code",
   "execution_count": 25,
   "metadata": {
    "execution": {
     "iopub.execute_input": "2020-10-27T00:08:51.382774Z",
     "iopub.status.busy": "2020-10-27T00:08:51.382164Z",
     "iopub.status.idle": "2020-10-27T00:08:51.401954Z",
     "shell.execute_reply": "2020-10-27T00:08:51.402436Z"
    },
    "papermill": {
     "duration": 0.069191,
     "end_time": "2020-10-27T00:08:51.402598",
     "exception": false,
     "start_time": "2020-10-27T00:08:51.333407",
     "status": "completed"
    },
    "tags": []
   },
   "outputs": [],
   "source": [
    "plot_testing = model_new(testing_xdata)"
   ]
  },
  {
   "cell_type": "code",
   "execution_count": 26,
   "metadata": {
    "execution": {
     "iopub.execute_input": "2020-10-27T00:08:51.496158Z",
     "iopub.status.busy": "2020-10-27T00:08:51.495608Z",
     "iopub.status.idle": "2020-10-27T00:08:51.719161Z",
     "shell.execute_reply": "2020-10-27T00:08:51.718494Z"
    },
    "papermill": {
     "duration": 0.272072,
     "end_time": "2020-10-27T00:08:51.719314",
     "exception": false,
     "start_time": "2020-10-27T00:08:51.447242",
     "status": "completed"
    },
    "tags": []
   },
   "outputs": [
    {
     "data": {
      "text/plain": [
       "Text(0.5, 1.0, 'Outputs')"
      ]
     },
     "execution_count": 26,
     "metadata": {},
     "output_type": "execute_result"
    },
    {
     "data": {
      "image/png": "[encoded data removed]",
      "text/plain": [
       "<Figure size 576x504 with 1 Axes>"
      ]
     },
     "metadata": {
      "needs_background": "light"
     },
     "output_type": "display_data"
    }
   ],
   "source": [
    "plt.figure(figsize=(8,7))\n",
    "plt.scatter(plot_testing[:,0], plot_testing[:,1], alpha = 0.1, c = y_test.ravel());\n",
    "plt.title('Outputs')"
   ]
  },
  {
   "cell_type": "markdown",
   "metadata": {
    "papermill": {
     "duration": 0.046497,
     "end_time": "2020-10-27T00:08:51.813513",
     "exception": false,
     "start_time": "2020-10-27T00:08:51.767016",
     "status": "completed"
    },
    "tags": []
   },
   "source": [
    "### Plotting probability contours"
   ]
  },
  {
   "cell_type": "code",
   "execution_count": 27,
   "metadata": {
    "execution": {
     "iopub.execute_input": "2020-10-27T00:08:51.910917Z",
     "iopub.status.busy": "2020-10-27T00:08:51.910337Z",
     "iopub.status.idle": "2020-10-27T00:08:51.924411Z",
     "shell.execute_reply": "2020-10-27T00:08:51.923919Z"
    },
    "papermill": {
     "duration": 0.064609,
     "end_time": "2020-10-27T00:08:51.924536",
     "exception": false,
     "start_time": "2020-10-27T00:08:51.859927",
     "status": "completed"
    },
    "tags": []
   },
   "outputs": [],
   "source": [
    "model_prob = Model(layers[-2:]) "
   ]
  },
  {
   "cell_type": "code",
   "execution_count": 28,
   "metadata": {
    "execution": {
     "iopub.execute_input": "2020-10-27T00:08:52.026062Z",
     "iopub.status.busy": "2020-10-27T00:08:52.024943Z",
     "iopub.status.idle": "2020-10-27T00:08:52.039997Z",
     "shell.execute_reply": "2020-10-27T00:08:52.040447Z"
    },
    "papermill": {
     "duration": 0.06879,
     "end_time": "2020-10-27T00:08:52.040593",
     "exception": false,
     "start_time": "2020-10-27T00:08:51.971803",
     "status": "completed"
    },
    "tags": []
   },
   "outputs": [],
   "source": [
    "# Adjust the x and y ranges according to the above generated plot.\n",
    "x_range = np.linspace(-4, 1, 100) \n",
    "y_range = np.linspace(-6, 6, 100) \n",
    "x_grid, y_grid = np.meshgrid(x_range, y_range) # x_grid and y_grig are of size 100 X 100\n",
    "\n",
    "# converting x_grid and y_grid to continuous arrays\n",
    "x_grid_flat = np.ravel(x_grid)\n",
    "y_grid_flat = np.ravel(y_grid)\n",
    "\n",
    "# The last layer of the current model takes two columns as input. Hence transpose of np.vstack() is required.\n",
    "X = np.vstack((x_grid_flat, y_grid_flat)).T\n",
    "\n",
    "# x_grid and y_grid are of size 100 x 100\n",
    "probability_contour = model_prob(X).reshape(100,100) "
   ]
  },
  {
   "cell_type": "code",
   "execution_count": 29,
   "metadata": {
    "execution": {
     "iopub.execute_input": "2020-10-27T00:08:52.143026Z",
     "iopub.status.busy": "2020-10-27T00:08:52.142404Z",
     "iopub.status.idle": "2020-10-27T00:08:52.402960Z",
     "shell.execute_reply": "2020-10-27T00:08:52.402169Z"
    },
    "papermill": {
     "duration": 0.314619,
     "end_time": "2020-10-27T00:08:52.403198",
     "exception": false,
     "start_time": "2020-10-27T00:08:52.088579",
     "status": "completed"
    },
    "tags": []
   },
   "outputs": [
    {
     "data": {
      "image/png": "[encoded data removed]",
      "text/plain": [
       "<Figure size 720x648 with 1 Axes>"
      ]
     },
     "metadata": {
      "needs_background": "light"
     },
     "output_type": "display_data"
    }
   ],
   "source": [
    "plt.figure(figsize=(10,9))\n",
    "plt.scatter(plot_testing[:,0], plot_testing[:,1], alpha = 0.1, c = y_test.ravel())\n",
    "contours = plt.contour(x_grid,y_grid,probability_contour)\n",
    "plt.title('Probability Contours')\n",
    "plt.clabel(contours, inline = True );"
   ]
  }
 ],
 "metadata": {
  "kernelspec": {
   "display_name": "Python 3",
   "language": "python",
   "name": "python3"
  },
  "language_info": {
   "codemirror_mode": {
    "name": "ipython",
    "version": 3
   },
   "file_extension": ".py",
   "mimetype": "text/x-python",
   "name": "python",
   "nbconvert_exporter": "python",
   "pygments_lexer": "ipython3",
   "version": "3.6.12"
  },
  "papermill": {
   "duration": 111.84581,
   "end_time": "2020-10-27T00:08:52.864465",
   "environment_variables": {},
   "exception": null,
   "input_path": "2020-08-11-NeuralNetwork.ipynb",
   "output_path": "2020-08-11-NeuralNetwork.ipynb",
   "parameters": {},
   "start_time": "2020-10-27T00:07:01.018655",
   "version": "2.1.2"
  }
 },
 "nbformat": 4,
 "nbformat_minor": 4
}