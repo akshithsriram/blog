{
 "cells": [
  {
   "cell_type": "markdown",
   "id": "fitted-suggestion",
   "metadata": {
    "papermill": {
     "duration": 0.032227,
     "end_time": "2021-05-09T20:04:32.861683",
     "exception": false,
     "start_time": "2021-05-09T20:04:32.829456",
     "status": "completed"
    },
    "tags": []
   },
   "source": [
    "# \"A Basic Neural Network: Differentiate Hand-Written Digits\"\n",
    "\n",
    "- badges: true\n",
    "- author: Akshith Sriram"
   ]
  },
  {
   "cell_type": "markdown",
   "id": "signal-flexibility",
   "metadata": {
    "papermill": {
     "duration": 0.023843,
     "end_time": "2021-05-09T20:04:32.909556",
     "exception": false,
     "start_time": "2021-05-09T20:04:32.885713",
     "status": "completed"
    },
    "tags": []
   },
   "source": [
    "### Key Objectives:\n",
    "- Building a neural network that differentiates two hand-written digits 3 and 8.\n",
    "- Comparing the results of this Neural Network (NN) to that of a Logistic Regression (LR) model.\n",
    "\n",
    "### Requirements:\n",
    "- 'Kudzu' : A neural network library that was designed during our course by [Univ.AI](www.univ.ai). \n",
    "- MNIST Database\n",
    "\n",
    "If MNIST is not installed, use the command `!pip install mnist` given below.\n",
    "It can be run both from the command line and Jupyter Notebook."
   ]
  },
  {
   "cell_type": "code",
   "execution_count": 1,
   "id": "british-texture",
   "metadata": {
    "execution": {
     "iopub.execute_input": "2021-05-09T20:04:32.968153Z",
     "iopub.status.busy": "2021-05-09T20:04:32.967562Z",
     "iopub.status.idle": "2021-05-09T20:04:34.344210Z",
     "shell.execute_reply": "2021-05-09T20:04:34.342766Z"
    },
    "papermill": {
     "duration": 1.410407,
     "end_time": "2021-05-09T20:04:34.344438",
     "exception": false,
     "start_time": "2021-05-09T20:04:32.934031",
     "status": "completed"
    },
    "tags": []
   },
   "outputs": [
    {
     "name": "stdout",
     "output_type": "stream",
     "text": [
      "Collecting mnist\r\n"
     ]
    },
    {
     "name": "stdout",
     "output_type": "stream",
     "text": [
      "  Downloading mnist-0.2.2-py2.py3-none-any.whl (3.5 kB)\r\n"
     ]
    },
    {
     "name": "stdout",
     "output_type": "stream",
     "text": [
      "Requirement already satisfied: numpy in /opt/hostedtoolcache/Python/3.6.13/x64/lib/python3.6/site-packages (from mnist) (1.19.5)\r\n"
     ]
    },
    {
     "name": "stdout",
     "output_type": "stream",
     "text": [
      "Installing collected packages: mnist\r\n"
     ]
    },
    {
     "name": "stdout",
     "output_type": "stream",
     "text": [
      "Successfully installed mnist-0.2.2\r\n"
     ]
    }
   ],
   "source": [
    "!pip install mnist "
   ]
  },
  {
   "cell_type": "markdown",
   "id": "stunning-extra",
   "metadata": {
    "papermill": {
     "duration": 0.027842,
     "end_time": "2021-05-09T20:04:34.402844",
     "exception": false,
     "start_time": "2021-05-09T20:04:34.375002",
     "status": "completed"
    },
    "tags": []
   },
   "source": [
    "#### Importing necessary libraries"
   ]
  },
  {
   "cell_type": "code",
   "execution_count": 2,
   "id": "wooden-france",
   "metadata": {
    "execution": {
     "iopub.execute_input": "2021-05-09T20:04:34.465460Z",
     "iopub.status.busy": "2021-05-09T20:04:34.464360Z",
     "iopub.status.idle": "2021-05-09T20:04:34.983266Z",
     "shell.execute_reply": "2021-05-09T20:04:34.982237Z"
    },
    "papermill": {
     "duration": 0.552604,
     "end_time": "2021-05-09T20:04:34.983422",
     "exception": false,
     "start_time": "2021-05-09T20:04:34.430818",
     "status": "completed"
    },
    "tags": []
   },
   "outputs": [],
   "source": [
    "%load_ext autoreload\n",
    "%autoreload 2\n",
    "\n",
    "%matplotlib inline\n",
    "import matplotlib.pyplot as plt\n",
    "\n",
    "import numpy as np\n",
    "import pandas as pd"
   ]
  },
  {
   "cell_type": "markdown",
   "id": "stunning-physics",
   "metadata": {
    "papermill": {
     "duration": 0.024848,
     "end_time": "2021-05-09T20:04:35.034358",
     "exception": false,
     "start_time": "2021-05-09T20:04:35.009510",
     "status": "completed"
    },
    "tags": []
   },
   "source": [
    "### Preparing the Data"
   ]
  },
  {
   "cell_type": "code",
   "execution_count": 3,
   "id": "unauthorized-remainder",
   "metadata": {
    "execution": {
     "iopub.execute_input": "2021-05-09T20:04:35.092734Z",
     "iopub.status.busy": "2021-05-09T20:04:35.091679Z",
     "iopub.status.idle": "2021-05-09T20:04:35.104432Z",
     "shell.execute_reply": "2021-05-09T20:04:35.103925Z"
    },
    "papermill": {
     "duration": 0.044232,
     "end_time": "2021-05-09T20:04:35.104550",
     "exception": false,
     "start_time": "2021-05-09T20:04:35.060318",
     "status": "completed"
    },
    "tags": []
   },
   "outputs": [],
   "source": [
    "import mnist"
   ]
  },
  {
   "cell_type": "code",
   "execution_count": 4,
   "id": "correct-antarctica",
   "metadata": {
    "execution": {
     "iopub.execute_input": "2021-05-09T20:04:35.161568Z",
     "iopub.status.busy": "2021-05-09T20:04:35.160984Z",
     "iopub.status.idle": "2021-05-09T20:09:11.973043Z",
     "shell.execute_reply": "2021-05-09T20:09:11.972501Z"
    },
    "papermill": {
     "duration": 276.841399,
     "end_time": "2021-05-09T20:09:11.973183",
     "exception": false,
     "start_time": "2021-05-09T20:04:35.131784",
     "status": "completed"
    },
    "tags": []
   },
   "outputs": [],
   "source": [
    "train_images = mnist.train_images()\n",
    "train_labels = mnist.train_labels()"
   ]
  },
  {
   "cell_type": "code",
   "execution_count": 5,
   "id": "musical-prospect",
   "metadata": {
    "execution": {
     "iopub.execute_input": "2021-05-09T20:09:12.037841Z",
     "iopub.status.busy": "2021-05-09T20:09:12.037220Z",
     "iopub.status.idle": "2021-05-09T20:09:12.052505Z",
     "shell.execute_reply": "2021-05-09T20:09:12.052118Z"
    },
    "papermill": {
     "duration": 0.047535,
     "end_time": "2021-05-09T20:09:12.052611",
     "exception": false,
     "start_time": "2021-05-09T20:09:12.005076",
     "status": "completed"
    },
    "tags": []
   },
   "outputs": [
    {
     "data": {
      "text/plain": [
       "((60000, 28, 28), (60000,))"
      ]
     },
     "execution_count": 5,
     "metadata": {},
     "output_type": "execute_result"
    }
   ],
   "source": [
    "train_images.shape, train_labels.shape"
   ]
  },
  {
   "cell_type": "code",
   "execution_count": 6,
   "id": "preliminary-elizabeth",
   "metadata": {
    "execution": {
     "iopub.execute_input": "2021-05-09T20:09:12.113425Z",
     "iopub.status.busy": "2021-05-09T20:09:12.112325Z",
     "iopub.status.idle": "2021-05-09T20:09:58.502172Z",
     "shell.execute_reply": "2021-05-09T20:09:58.501471Z"
    },
    "papermill": {
     "duration": 46.421022,
     "end_time": "2021-05-09T20:09:58.502286",
     "exception": false,
     "start_time": "2021-05-09T20:09:12.081264",
     "status": "completed"
    },
    "tags": []
   },
   "outputs": [],
   "source": [
    "test_images = mnist.test_images()\n",
    "test_labels = mnist.test_labels()"
   ]
  },
  {
   "cell_type": "code",
   "execution_count": 7,
   "id": "acknowledged-oxygen",
   "metadata": {
    "execution": {
     "iopub.execute_input": "2021-05-09T20:09:58.563363Z",
     "iopub.status.busy": "2021-05-09T20:09:58.562775Z",
     "iopub.status.idle": "2021-05-09T20:09:58.578123Z",
     "shell.execute_reply": "2021-05-09T20:09:58.577715Z"
    },
    "papermill": {
     "duration": 0.046801,
     "end_time": "2021-05-09T20:09:58.578224",
     "exception": false,
     "start_time": "2021-05-09T20:09:58.531423",
     "status": "completed"
    },
    "tags": []
   },
   "outputs": [
    {
     "data": {
      "text/plain": [
       "((10000, 28, 28), (10000,))"
      ]
     },
     "execution_count": 7,
     "metadata": {},
     "output_type": "execute_result"
    }
   ],
   "source": [
    "test_images.shape, test_labels.shape"
   ]
  },
  {
   "cell_type": "code",
   "execution_count": 8,
   "id": "innovative-organic",
   "metadata": {
    "execution": {
     "iopub.execute_input": "2021-05-09T20:09:58.639863Z",
     "iopub.status.busy": "2021-05-09T20:09:58.638912Z",
     "iopub.status.idle": "2021-05-09T20:09:58.786055Z",
     "shell.execute_reply": "2021-05-09T20:09:58.785509Z"
    },
    "papermill": {
     "duration": 0.179292,
     "end_time": "2021-05-09T20:09:58.786181",
     "exception": false,
     "start_time": "2021-05-09T20:09:58.606889",
     "status": "completed"
    },
    "tags": []
   },
   "outputs": [
    {
     "name": "stdout",
     "output_type": "stream",
     "text": [
      "2\n"
     ]
    },
    {
     "data": {
      "text/plain": [
       "<matplotlib.image.AxesImage at 0x7f14f5dde390>"
      ]
     },
     "execution_count": 8,
     "metadata": {},
     "output_type": "execute_result"
    },
    {
     "data": {
      "image/png": "[encoded data removed]",
      "text/plain": [
       "<Figure size 432x288 with 1 Axes>"
      ]
     },
     "metadata": {
      "needs_background": "light"
     },
     "output_type": "display_data"
    }
   ],
   "source": [
    "image_index = 7776 # You may select anything up to 60,000\n",
    "print(train_labels[image_index]) \n",
    "plt.imshow(train_images[image_index], cmap='Greys')"
   ]
  },
  {
   "cell_type": "markdown",
   "id": "facial-modem",
   "metadata": {
    "papermill": {
     "duration": 0.028615,
     "end_time": "2021-05-09T20:09:58.845514",
     "exception": false,
     "start_time": "2021-05-09T20:09:58.816899",
     "status": "completed"
    },
    "tags": []
   },
   "source": [
    "## Filter data to get 3 and 8 out"
   ]
  },
  {
   "cell_type": "code",
   "execution_count": 9,
   "id": "thousand-acquisition",
   "metadata": {
    "execution": {
     "iopub.execute_input": "2021-05-09T20:09:58.906113Z",
     "iopub.status.busy": "2021-05-09T20:09:58.905584Z",
     "iopub.status.idle": "2021-05-09T20:09:58.922043Z",
     "shell.execute_reply": "2021-05-09T20:09:58.921520Z"
    },
    "papermill": {
     "duration": 0.04768,
     "end_time": "2021-05-09T20:09:58.922175",
     "exception": false,
     "start_time": "2021-05-09T20:09:58.874495",
     "status": "completed"
    },
    "tags": []
   },
   "outputs": [],
   "source": [
    "train_filter = np.where((train_labels == 3 ) | (train_labels == 8))\n",
    "test_filter = np.where((test_labels == 3) | (test_labels == 8))\n",
    "X_train, y_train = train_images[train_filter], train_labels[train_filter]\n",
    "X_test, y_test = test_images[test_filter], test_labels[test_filter]"
   ]
  },
  {
   "cell_type": "markdown",
   "id": "ruled-access",
   "metadata": {
    "papermill": {
     "duration": 0.028957,
     "end_time": "2021-05-09T20:09:58.981994",
     "exception": false,
     "start_time": "2021-05-09T20:09:58.953037",
     "status": "completed"
    },
    "tags": []
   },
   "source": [
    "We normalize the pixel values in the 0 to 1 range"
   ]
  },
  {
   "cell_type": "code",
   "execution_count": 10,
   "id": "isolated-denver",
   "metadata": {
    "execution": {
     "iopub.execute_input": "2021-05-09T20:09:59.045712Z",
     "iopub.status.busy": "2021-05-09T20:09:59.045149Z",
     "iopub.status.idle": "2021-05-09T20:09:59.098877Z",
     "shell.execute_reply": "2021-05-09T20:09:59.097988Z"
    },
    "papermill": {
     "duration": 0.087481,
     "end_time": "2021-05-09T20:09:59.099077",
     "exception": false,
     "start_time": "2021-05-09T20:09:59.011596",
     "status": "completed"
    },
    "tags": []
   },
   "outputs": [],
   "source": [
    "X_train = X_train/255.\n",
    "X_test = X_test/255."
   ]
  },
  {
   "cell_type": "markdown",
   "id": "perfect-summary",
   "metadata": {
    "papermill": {
     "duration": 0.028831,
     "end_time": "2021-05-09T20:09:59.157194",
     "exception": false,
     "start_time": "2021-05-09T20:09:59.128363",
     "status": "completed"
    },
    "tags": []
   },
   "source": [
    "Setup the labels as 1 (when the digit is 3) and 0 (when the digit is 8)"
   ]
  },
  {
   "cell_type": "code",
   "execution_count": 11,
   "id": "personalized-growing",
   "metadata": {
    "execution": {
     "iopub.execute_input": "2021-05-09T20:09:59.220515Z",
     "iopub.status.busy": "2021-05-09T20:09:59.219961Z",
     "iopub.status.idle": "2021-05-09T20:09:59.233637Z",
     "shell.execute_reply": "2021-05-09T20:09:59.233133Z"
    },
    "papermill": {
     "duration": 0.047841,
     "end_time": "2021-05-09T20:09:59.233765",
     "exception": false,
     "start_time": "2021-05-09T20:09:59.185924",
     "status": "completed"
    },
    "tags": []
   },
   "outputs": [],
   "source": [
    "y_train = 1*(y_train==3)\n",
    "y_test = 1*(y_test==3)"
   ]
  },
  {
   "cell_type": "code",
   "execution_count": 12,
   "id": "considered-virgin",
   "metadata": {
    "execution": {
     "iopub.execute_input": "2021-05-09T20:09:59.293554Z",
     "iopub.status.busy": "2021-05-09T20:09:59.292960Z",
     "iopub.status.idle": "2021-05-09T20:09:59.307572Z",
     "shell.execute_reply": "2021-05-09T20:09:59.307149Z"
    },
    "papermill": {
     "duration": 0.046177,
     "end_time": "2021-05-09T20:09:59.307684",
     "exception": false,
     "start_time": "2021-05-09T20:09:59.261507",
     "status": "completed"
    },
    "tags": []
   },
   "outputs": [
    {
     "data": {
      "text/plain": [
       "((11982, 28, 28), (1984, 28, 28))"
      ]
     },
     "execution_count": 12,
     "metadata": {},
     "output_type": "execute_result"
    }
   ],
   "source": [
    "X_train.shape, X_test.shape"
   ]
  },
  {
   "cell_type": "markdown",
   "id": "civilian-mobile",
   "metadata": {
    "papermill": {
     "duration": 0.030078,
     "end_time": "2021-05-09T20:09:59.366097",
     "exception": false,
     "start_time": "2021-05-09T20:09:59.336019",
     "status": "completed"
    },
    "tags": []
   },
   "source": [
    "### Reshape the input data to create a linear array"
   ]
  },
  {
   "cell_type": "code",
   "execution_count": 13,
   "id": "colonial-adams",
   "metadata": {
    "execution": {
     "iopub.execute_input": "2021-05-09T20:09:59.435649Z",
     "iopub.status.busy": "2021-05-09T20:09:59.435107Z",
     "iopub.status.idle": "2021-05-09T20:09:59.447837Z",
     "shell.execute_reply": "2021-05-09T20:09:59.447403Z"
    },
    "papermill": {
     "duration": 0.050768,
     "end_time": "2021-05-09T20:09:59.447949",
     "exception": false,
     "start_time": "2021-05-09T20:09:59.397181",
     "status": "completed"
    },
    "tags": []
   },
   "outputs": [
    {
     "data": {
      "text/plain": [
       "((11982, 784), (1984, 784))"
      ]
     },
     "execution_count": 13,
     "metadata": {},
     "output_type": "execute_result"
    }
   ],
   "source": [
    "X_train = X_train.reshape(X_train.shape[0], -1)\n",
    "X_test = X_test.reshape(X_test.shape[0], -1)\n",
    "X_train.shape, X_test.shape"
   ]
  },
  {
   "cell_type": "markdown",
   "id": "smart-details",
   "metadata": {
    "papermill": {
     "duration": 0.029592,
     "end_time": "2021-05-09T20:09:59.506817",
     "exception": false,
     "start_time": "2021-05-09T20:09:59.477225",
     "status": "completed"
    },
    "tags": []
   },
   "source": [
    "### Importing appropriate functions from 'Kudzu'"
   ]
  },
  {
   "cell_type": "code",
   "execution_count": 14,
   "id": "celtic-trial",
   "metadata": {
    "execution": {
     "iopub.execute_input": "2021-05-09T20:09:59.571818Z",
     "iopub.status.busy": "2021-05-09T20:09:59.571345Z",
     "iopub.status.idle": "2021-05-09T20:09:59.597334Z",
     "shell.execute_reply": "2021-05-09T20:09:59.596840Z"
    },
    "papermill": {
     "duration": 0.0615,
     "end_time": "2021-05-09T20:09:59.597451",
     "exception": false,
     "start_time": "2021-05-09T20:09:59.535951",
     "status": "completed"
    },
    "tags": []
   },
   "outputs": [],
   "source": [
    "from kudzu.layer import Sigmoid\n",
    "from kudzu.layer import Relu\n",
    "from kudzu.layer import Affine, Sigmoid\n",
    "\n",
    "from kudzu.model import Model\n",
    "from kudzu.train import Learner\n",
    "from kudzu.optim import GD\n",
    "from kudzu.data import Data, Dataloader, Sampler\n",
    "\n",
    "from kudzu.callbacks import AccCallback\n",
    "from kudzu.callbacks import ClfCallback\n",
    "\n",
    "from kudzu.loss import MSE"
   ]
  },
  {
   "cell_type": "markdown",
   "id": "coupled-customer",
   "metadata": {
    "papermill": {
     "duration": 0.028025,
     "end_time": "2021-05-09T20:09:59.653960",
     "exception": false,
     "start_time": "2021-05-09T20:09:59.625935",
     "status": "completed"
    },
    "tags": []
   },
   "source": [
    "### Let us create a `Config` class, to store important parameters. \n",
    "This class essentially plays the role of a dictionary."
   ]
  },
  {
   "cell_type": "code",
   "execution_count": 15,
   "id": "young-ceiling",
   "metadata": {
    "execution": {
     "iopub.execute_input": "2021-05-09T20:09:59.716101Z",
     "iopub.status.busy": "2021-05-09T20:09:59.715565Z",
     "iopub.status.idle": "2021-05-09T20:09:59.726985Z",
     "shell.execute_reply": "2021-05-09T20:09:59.727388Z"
    },
    "papermill": {
     "duration": 0.044249,
     "end_time": "2021-05-09T20:09:59.727503",
     "exception": false,
     "start_time": "2021-05-09T20:09:59.683254",
     "status": "completed"
    },
    "tags": []
   },
   "outputs": [],
   "source": [
    "class Config:\n",
    "    pass\n",
    "config = Config()\n",
    "config.lr = 0.001\n",
    "config.num_epochs = 251\n",
    "config.bs = 50"
   ]
  },
  {
   "cell_type": "markdown",
   "id": "according-mandate",
   "metadata": {
    "papermill": {
     "duration": 0.028776,
     "end_time": "2021-05-09T20:09:59.785296",
     "exception": false,
     "start_time": "2021-05-09T20:09:59.756520",
     "status": "completed"
    },
    "tags": []
   },
   "source": [
    "### Initializing data to the variables"
   ]
  },
  {
   "cell_type": "code",
   "execution_count": 16,
   "id": "academic-disposition",
   "metadata": {
    "execution": {
     "iopub.execute_input": "2021-05-09T20:09:59.847696Z",
     "iopub.status.busy": "2021-05-09T20:09:59.846565Z",
     "iopub.status.idle": "2021-05-09T20:09:59.861046Z",
     "shell.execute_reply": "2021-05-09T20:09:59.860118Z"
    },
    "papermill": {
     "duration": 0.045971,
     "end_time": "2021-05-09T20:09:59.861160",
     "exception": false,
     "start_time": "2021-05-09T20:09:59.815189",
     "status": "completed"
    },
    "tags": []
   },
   "outputs": [],
   "source": [
    "data = Data(X_train, y_train.reshape(-1,1))\n",
    "sampler = Sampler(data, config.bs, shuffle=True)\n",
    "\n",
    "dl = Dataloader(data, sampler)\n",
    "\n",
    "opt = GD(config.lr)\n",
    "loss = MSE()"
   ]
  },
  {
   "cell_type": "code",
   "execution_count": 17,
   "id": "featured-commission",
   "metadata": {
    "execution": {
     "iopub.execute_input": "2021-05-09T20:09:59.923336Z",
     "iopub.status.busy": "2021-05-09T20:09:59.921193Z",
     "iopub.status.idle": "2021-05-09T20:09:59.933691Z",
     "shell.execute_reply": "2021-05-09T20:09:59.933205Z"
    },
    "papermill": {
     "duration": 0.044656,
     "end_time": "2021-05-09T20:09:59.933800",
     "exception": false,
     "start_time": "2021-05-09T20:09:59.889144",
     "status": "completed"
    },
    "tags": []
   },
   "outputs": [],
   "source": [
    "training_xdata = X_train\n",
    "testing_xdata = X_test\n",
    "training_ydata = y_train.reshape(-1,1)\n",
    "testing_ydata = y_test.reshape(-1,1)"
   ]
  },
  {
   "cell_type": "markdown",
   "id": "played-safety",
   "metadata": {
    "papermill": {
     "duration": 0.030317,
     "end_time": "2021-05-09T20:09:59.993478",
     "exception": false,
     "start_time": "2021-05-09T20:09:59.963161",
     "status": "completed"
    },
    "tags": []
   },
   "source": [
    "### Running Models with the Training data\n",
    "Details about the network layers:\n",
    "- A first affine layer has 784 inputs and does 100 affine transforms. These are followed by a Relu\n",
    "- A second affine layer has 100 inputs from the 100 activations of the past layer, and does 100 affine transforms. These are followed by a Relu\n",
    "- A third affine layer has 100 activations and does 2 affine transformations to create an embedding for visualization. There is no non-linearity here.\n",
    "- A final \"logistic regression\" which has an affine transform from 2 inputs to 1 output, which is squeezed through a sigmoid.\n",
    "\n",
    "Help taken from Anshuman's Notebook."
   ]
  },
  {
   "cell_type": "code",
   "execution_count": 18,
   "id": "asian-bankruptcy",
   "metadata": {
    "execution": {
     "iopub.execute_input": "2021-05-09T20:10:00.058809Z",
     "iopub.status.busy": "2021-05-09T20:10:00.058209Z",
     "iopub.status.idle": "2021-05-09T20:10:00.076088Z",
     "shell.execute_reply": "2021-05-09T20:10:00.076588Z"
    },
    "papermill": {
     "duration": 0.054953,
     "end_time": "2021-05-09T20:10:00.076839",
     "exception": false,
     "start_time": "2021-05-09T20:10:00.021886",
     "status": "completed"
    },
    "tags": []
   },
   "outputs": [],
   "source": [
    "# layers for the Neural Network\n",
    "layers = [Affine(\"first\", 784, 100), Relu(\"first\"), Affine(\"second\", 100, 100), Relu(\"second\"), Affine(\"third\", 100, 2), Affine(\"final\", 2, 1), Sigmoid(\"final\")]\n",
    "model_nn = Model(layers)\n",
    "\n",
    "# layers for the Logistic Regression\n",
    "layers_lr = [Affine(\"logits\", 784, 1), Sigmoid(\"sigmoid\")]\n",
    "model_lr = Model(layers_lr)"
   ]
  },
  {
   "cell_type": "code",
   "execution_count": 19,
   "id": "removed-butler",
   "metadata": {
    "execution": {
     "iopub.execute_input": "2021-05-09T20:10:00.141627Z",
     "iopub.status.busy": "2021-05-09T20:10:00.141020Z",
     "iopub.status.idle": "2021-05-09T20:10:00.154820Z",
     "shell.execute_reply": "2021-05-09T20:10:00.154436Z"
    },
    "papermill": {
     "duration": 0.046284,
     "end_time": "2021-05-09T20:10:00.154919",
     "exception": false,
     "start_time": "2021-05-09T20:10:00.108635",
     "status": "completed"
    },
    "tags": []
   },
   "outputs": [],
   "source": [
    "# suffix _nn stands for Neural Network.\n",
    "learner_nn = Learner(loss, model_nn, opt, config.num_epochs)\n",
    "acc_nn = ClfCallback(learner_nn, config.bs, training_xdata , testing_xdata, training_ydata, testing_ydata)\n",
    "learner_nn.set_callbacks([acc_nn])"
   ]
  },
  {
   "cell_type": "code",
   "execution_count": 20,
   "id": "conceptual-throw",
   "metadata": {
    "execution": {
     "iopub.execute_input": "2021-05-09T20:10:00.220789Z",
     "iopub.status.busy": "2021-05-09T20:10:00.220230Z",
     "iopub.status.idle": "2021-05-09T20:11:21.574532Z",
     "shell.execute_reply": "2021-05-09T20:11:21.575215Z"
    },
    "papermill": {
     "duration": 81.392595,
     "end_time": "2021-05-09T20:11:21.575358",
     "exception": false,
     "start_time": "2021-05-09T20:10:00.182763",
     "status": "completed"
    },
    "tags": []
   },
   "outputs": [
    {
     "name": "stdout",
     "output_type": "stream",
     "text": [
      "====== Neural Network ======\n"
     ]
    },
    {
     "name": "stdout",
     "output_type": "stream",
     "text": [
      "Epoch 0, Loss 0.2226\n",
      "Training Accuracy: 0.7768, Testing Accuracy: 0.7802\n",
      "\n"
     ]
    },
    {
     "name": "stdout",
     "output_type": "stream",
     "text": [
      "Epoch 10, Loss 0.055\n",
      "Training Accuracy: 0.9442, Testing Accuracy: 0.9471\n",
      "\n"
     ]
    },
    {
     "name": "stdout",
     "output_type": "stream",
     "text": [
      "Epoch 20, Loss 0.0395\n",
      "Training Accuracy: 0.9579, Testing Accuracy: 0.9607\n",
      "\n"
     ]
    },
    {
     "name": "stdout",
     "output_type": "stream",
     "text": [
      "Epoch 30, Loss 0.0334\n",
      "Training Accuracy: 0.9624, Testing Accuracy: 0.9657\n",
      "\n"
     ]
    },
    {
     "name": "stdout",
     "output_type": "stream",
     "text": [
      "Epoch 40, Loss 0.03\n",
      "Training Accuracy: 0.9664, Testing Accuracy: 0.9662\n",
      "\n"
     ]
    },
    {
     "name": "stdout",
     "output_type": "stream",
     "text": [
      "Epoch 50, Loss 0.0278\n",
      "Training Accuracy: 0.9682, Testing Accuracy: 0.9688\n",
      "\n"
     ]
    },
    {
     "name": "stdout",
     "output_type": "stream",
     "text": [
      "Epoch 60, Loss 0.0261\n",
      "Training Accuracy: 0.9701, Testing Accuracy: 0.9708\n",
      "\n"
     ]
    },
    {
     "name": "stdout",
     "output_type": "stream",
     "text": [
      "Epoch 70, Loss 0.0247\n",
      "Training Accuracy: 0.9715, Testing Accuracy: 0.9718\n",
      "\n"
     ]
    },
    {
     "name": "stdout",
     "output_type": "stream",
     "text": [
      "Epoch 80, Loss 0.0236\n",
      "Training Accuracy: 0.9727, Testing Accuracy: 0.9723\n",
      "\n"
     ]
    },
    {
     "name": "stdout",
     "output_type": "stream",
     "text": [
      "Epoch 90, Loss 0.0226\n",
      "Training Accuracy: 0.9735, Testing Accuracy: 0.9728\n",
      "\n"
     ]
    },
    {
     "name": "stdout",
     "output_type": "stream",
     "text": [
      "Epoch 100, Loss 0.0218\n",
      "Training Accuracy: 0.9758, Testing Accuracy: 0.9728\n",
      "\n"
     ]
    },
    {
     "name": "stdout",
     "output_type": "stream",
     "text": [
      "Epoch 110, Loss 0.021\n",
      "Training Accuracy: 0.9765, Testing Accuracy: 0.9738\n",
      "\n"
     ]
    },
    {
     "name": "stdout",
     "output_type": "stream",
     "text": [
      "Epoch 120, Loss 0.0204\n",
      "Training Accuracy: 0.9775, Testing Accuracy: 0.9738\n",
      "\n"
     ]
    },
    {
     "name": "stdout",
     "output_type": "stream",
     "text": [
      "Epoch 130, Loss 0.0197\n",
      "Training Accuracy: 0.9780, Testing Accuracy: 0.9733\n",
      "\n"
     ]
    },
    {
     "name": "stdout",
     "output_type": "stream",
     "text": [
      "Epoch 140, Loss 0.0191\n",
      "Training Accuracy: 0.9784, Testing Accuracy: 0.9733\n",
      "\n"
     ]
    },
    {
     "name": "stdout",
     "output_type": "stream",
     "text": [
      "Epoch 150, Loss 0.0186\n",
      "Training Accuracy: 0.9791, Testing Accuracy: 0.9753\n",
      "\n"
     ]
    },
    {
     "name": "stdout",
     "output_type": "stream",
     "text": [
      "Epoch 160, Loss 0.0181\n",
      "Training Accuracy: 0.9799, Testing Accuracy: 0.9763\n",
      "\n"
     ]
    },
    {
     "name": "stdout",
     "output_type": "stream",
     "text": [
      "Epoch 170, Loss 0.0176\n",
      "Training Accuracy: 0.9805, Testing Accuracy: 0.9763\n",
      "\n"
     ]
    },
    {
     "name": "stdout",
     "output_type": "stream",
     "text": [
      "Epoch 180, Loss 0.0171\n",
      "Training Accuracy: 0.9814, Testing Accuracy: 0.9768\n",
      "\n"
     ]
    },
    {
     "name": "stdout",
     "output_type": "stream",
     "text": [
      "Epoch 190, Loss 0.0167\n",
      "Training Accuracy: 0.9821, Testing Accuracy: 0.9768\n",
      "\n"
     ]
    },
    {
     "name": "stdout",
     "output_type": "stream",
     "text": [
      "Epoch 200, Loss 0.0163\n",
      "Training Accuracy: 0.9823, Testing Accuracy: 0.9773\n",
      "\n"
     ]
    },
    {
     "name": "stdout",
     "output_type": "stream",
     "text": [
      "Epoch 210, Loss 0.0159\n",
      "Training Accuracy: 0.9827, Testing Accuracy: 0.9778\n",
      "\n"
     ]
    },
    {
     "name": "stdout",
     "output_type": "stream",
     "text": [
      "Epoch 220, Loss 0.0155\n",
      "Training Accuracy: 0.9838, Testing Accuracy: 0.9773\n",
      "\n"
     ]
    },
    {
     "name": "stdout",
     "output_type": "stream",
     "text": [
      "Epoch 230, Loss 0.0151\n",
      "Training Accuracy: 0.9841, Testing Accuracy: 0.9773\n",
      "\n"
     ]
    },
    {
     "name": "stdout",
     "output_type": "stream",
     "text": [
      "Epoch 240, Loss 0.0147\n",
      "Training Accuracy: 0.9845, Testing Accuracy: 0.9773\n",
      "\n"
     ]
    },
    {
     "name": "stdout",
     "output_type": "stream",
     "text": [
      "Epoch 250, Loss 0.0144\n",
      "Training Accuracy: 0.9849, Testing Accuracy: 0.9778\n",
      "\n"
     ]
    },
    {
     "data": {
      "text/plain": [
       "0.0015116474305085907"
      ]
     },
     "execution_count": 20,
     "metadata": {},
     "output_type": "execute_result"
    }
   ],
   "source": [
    "print(\"====== Neural Network ======\")\n",
    "learner_nn.train_loop(dl)"
   ]
  },
  {
   "cell_type": "markdown",
   "id": "competent-suffering",
   "metadata": {
    "papermill": {
     "duration": 0.038444,
     "end_time": "2021-05-09T20:11:21.653356",
     "exception": false,
     "start_time": "2021-05-09T20:11:21.614912",
     "status": "completed"
    },
    "tags": []
   },
   "source": [
    "### Logistic Regression based Implementation."
   ]
  },
  {
   "cell_type": "code",
   "execution_count": 21,
   "id": "qualified-psychiatry",
   "metadata": {
    "execution": {
     "iopub.execute_input": "2021-05-09T20:11:21.733965Z",
     "iopub.status.busy": "2021-05-09T20:11:21.733297Z",
     "iopub.status.idle": "2021-05-09T20:11:21.745332Z",
     "shell.execute_reply": "2021-05-09T20:11:21.744841Z"
    },
    "papermill": {
     "duration": 0.053505,
     "end_time": "2021-05-09T20:11:21.745458",
     "exception": false,
     "start_time": "2021-05-09T20:11:21.691953",
     "status": "completed"
    },
    "tags": []
   },
   "outputs": [],
   "source": [
    "learner_lr = Learner(loss, model_lr, opt, config.num_epochs)\n",
    "acc_lr = ClfCallback(learner_lr, config.bs, training_xdata , testing_xdata, training_ydata, testing_ydata)\n",
    "learner_lr.set_callbacks([acc_lr])"
   ]
  },
  {
   "cell_type": "code",
   "execution_count": 22,
   "id": "average-outside",
   "metadata": {
    "execution": {
     "iopub.execute_input": "2021-05-09T20:11:21.822371Z",
     "iopub.status.busy": "2021-05-09T20:11:21.821932Z",
     "iopub.status.idle": "2021-05-09T20:11:36.120816Z",
     "shell.execute_reply": "2021-05-09T20:11:36.120237Z"
    },
    "papermill": {
     "duration": 14.338487,
     "end_time": "2021-05-09T20:11:36.120936",
     "exception": false,
     "start_time": "2021-05-09T20:11:21.782449",
     "status": "completed"
    },
    "tags": []
   },
   "outputs": [
    {
     "name": "stdout",
     "output_type": "stream",
     "text": [
      "====== Logistic Regression ======\n",
      "Epoch 0, Loss 0.2468\n",
      "Training Accuracy: 0.6645, Testing Accuracy: 0.6779\n",
      "\n"
     ]
    },
    {
     "name": "stdout",
     "output_type": "stream",
     "text": [
      "Epoch 10, Loss 0.101\n",
      "Training Accuracy: 0.9189, Testing Accuracy: 0.9299\n",
      "\n"
     ]
    },
    {
     "name": "stdout",
     "output_type": "stream",
     "text": [
      "Epoch 20, Loss 0.0777\n",
      "Training Accuracy: 0.9317, Testing Accuracy: 0.9435\n",
      "\n"
     ]
    },
    {
     "name": "stdout",
     "output_type": "stream",
     "text": [
      "Epoch 30, Loss 0.0671\n",
      "Training Accuracy: 0.9376, Testing Accuracy: 0.9516\n",
      "\n"
     ]
    },
    {
     "name": "stdout",
     "output_type": "stream",
     "text": [
      "Epoch 40, Loss 0.0606\n",
      "Training Accuracy: 0.9419, Testing Accuracy: 0.9556\n",
      "\n"
     ]
    },
    {
     "name": "stdout",
     "output_type": "stream",
     "text": [
      "Epoch 50, Loss 0.0563\n",
      "Training Accuracy: 0.9448, Testing Accuracy: 0.9582\n",
      "\n"
     ]
    },
    {
     "name": "stdout",
     "output_type": "stream",
     "text": [
      "Epoch 60, Loss 0.0531\n",
      "Training Accuracy: 0.9478, Testing Accuracy: 0.9617\n",
      "\n"
     ]
    },
    {
     "name": "stdout",
     "output_type": "stream",
     "text": [
      "Epoch 70, Loss 0.0506\n",
      "Training Accuracy: 0.9508, Testing Accuracy: 0.9632\n",
      "\n"
     ]
    },
    {
     "name": "stdout",
     "output_type": "stream",
     "text": [
      "Epoch 80, Loss 0.0486\n",
      "Training Accuracy: 0.9522, Testing Accuracy: 0.9657\n",
      "\n"
     ]
    },
    {
     "name": "stdout",
     "output_type": "stream",
     "text": [
      "Epoch 90, Loss 0.047\n",
      "Training Accuracy: 0.9532, Testing Accuracy: 0.9667\n",
      "\n"
     ]
    },
    {
     "name": "stdout",
     "output_type": "stream",
     "text": [
      "Epoch 100, Loss 0.0456\n",
      "Training Accuracy: 0.9544, Testing Accuracy: 0.9667\n",
      "\n"
     ]
    },
    {
     "name": "stdout",
     "output_type": "stream",
     "text": [
      "Epoch 110, Loss 0.0444\n",
      "Training Accuracy: 0.9553, Testing Accuracy: 0.9672\n",
      "\n"
     ]
    },
    {
     "name": "stdout",
     "output_type": "stream",
     "text": [
      "Epoch 120, Loss 0.0434\n",
      "Training Accuracy: 0.9565, Testing Accuracy: 0.9672\n",
      "\n"
     ]
    },
    {
     "name": "stdout",
     "output_type": "stream",
     "text": [
      "Epoch 130, Loss 0.0425\n",
      "Training Accuracy: 0.9565, Testing Accuracy: 0.9672\n",
      "\n"
     ]
    },
    {
     "name": "stdout",
     "output_type": "stream",
     "text": [
      "Epoch 140, Loss 0.0417\n",
      "Training Accuracy: 0.9569, Testing Accuracy: 0.9667\n",
      "\n"
     ]
    },
    {
     "name": "stdout",
     "output_type": "stream",
     "text": [
      "Epoch 150, Loss 0.041\n",
      "Training Accuracy: 0.9572, Testing Accuracy: 0.9672\n",
      "\n"
     ]
    },
    {
     "name": "stdout",
     "output_type": "stream",
     "text": [
      "Epoch 160, Loss 0.0403\n",
      "Training Accuracy: 0.9578, Testing Accuracy: 0.9677\n",
      "\n"
     ]
    },
    {
     "name": "stdout",
     "output_type": "stream",
     "text": [
      "Epoch 170, Loss 0.0397\n",
      "Training Accuracy: 0.9584, Testing Accuracy: 0.9677\n",
      "\n"
     ]
    },
    {
     "name": "stdout",
     "output_type": "stream",
     "text": [
      "Epoch 180, Loss 0.0392\n",
      "Training Accuracy: 0.9591, Testing Accuracy: 0.9677\n",
      "\n"
     ]
    },
    {
     "name": "stdout",
     "output_type": "stream",
     "text": [
      "Epoch 190, Loss 0.0387\n",
      "Training Accuracy: 0.9594, Testing Accuracy: 0.9677\n",
      "\n"
     ]
    },
    {
     "name": "stdout",
     "output_type": "stream",
     "text": [
      "Epoch 200, Loss 0.0382\n",
      "Training Accuracy: 0.9596, Testing Accuracy: 0.9677\n",
      "\n"
     ]
    },
    {
     "name": "stdout",
     "output_type": "stream",
     "text": [
      "Epoch 210, Loss 0.0378\n",
      "Training Accuracy: 0.9600, Testing Accuracy: 0.9677\n",
      "\n"
     ]
    },
    {
     "name": "stdout",
     "output_type": "stream",
     "text": [
      "Epoch 220, Loss 0.0374\n",
      "Training Accuracy: 0.9605, Testing Accuracy: 0.9672\n",
      "\n"
     ]
    },
    {
     "name": "stdout",
     "output_type": "stream",
     "text": [
      "Epoch 230, Loss 0.037\n",
      "Training Accuracy: 0.9605, Testing Accuracy: 0.9677\n",
      "\n"
     ]
    },
    {
     "name": "stdout",
     "output_type": "stream",
     "text": [
      "Epoch 240, Loss 0.0367\n",
      "Training Accuracy: 0.9608, Testing Accuracy: 0.9677\n",
      "\n"
     ]
    },
    {
     "name": "stdout",
     "output_type": "stream",
     "text": [
      "Epoch 250, Loss 0.0363\n",
      "Training Accuracy: 0.9607, Testing Accuracy: 0.9682\n",
      "\n"
     ]
    },
    {
     "data": {
      "text/plain": [
       "0.03528137193474102"
      ]
     },
     "execution_count": 22,
     "metadata": {},
     "output_type": "execute_result"
    }
   ],
   "source": [
    "print(\"====== Logistic Regression ======\")\n",
    "learner_lr.train_loop(dl)"
   ]
  },
  {
   "cell_type": "markdown",
   "id": "adjusted-possible",
   "metadata": {
    "papermill": {
     "duration": 0.043419,
     "end_time": "2021-05-09T20:11:36.206219",
     "exception": false,
     "start_time": "2021-05-09T20:11:36.162800",
     "status": "completed"
    },
    "tags": []
   },
   "source": [
    "### Comparing results of NN and LR"
   ]
  },
  {
   "cell_type": "code",
   "execution_count": 23,
   "id": "mental-multimedia",
   "metadata": {
    "execution": {
     "iopub.execute_input": "2021-05-09T20:11:36.303367Z",
     "iopub.status.busy": "2021-05-09T20:11:36.302294Z",
     "iopub.status.idle": "2021-05-09T20:11:36.531519Z",
     "shell.execute_reply": "2021-05-09T20:11:36.531051Z"
    },
    "papermill": {
     "duration": 0.282298,
     "end_time": "2021-05-09T20:11:36.531640",
     "exception": false,
     "start_time": "2021-05-09T20:11:36.249342",
     "status": "completed"
    },
    "tags": []
   },
   "outputs": [
    {
     "data": {
      "text/plain": [
       "<matplotlib.legend.Legend at 0x7f14e85b6198>"
      ]
     },
     "execution_count": 23,
     "metadata": {},
     "output_type": "execute_result"
    },
    {
     "data": {
      "image/png": "[encoded data removed]",
      "text/plain": [
       "<Figure size 1080x720 with 1 Axes>"
      ]
     },
     "metadata": {
      "needs_background": "light"
     },
     "output_type": "display_data"
    }
   ],
   "source": [
    "plt.figure(figsize=(15,10))\n",
    "\n",
    "# Neural Network plots\n",
    "plt.plot(acc_nn.accuracies, 'r-', label = \"Training Accuracies - NN\")\n",
    "plt.plot(acc_nn.test_accuracies, 'g-', label = \"Testing Accuracies - NN\")\n",
    "\n",
    "# Logistic Regression plots\n",
    "plt.plot(acc_lr.accuracies, 'k-', label = \"Training Accuracies - LR\")\n",
    "plt.plot(acc_lr.test_accuracies, 'b-', label = \"Testing Accuracies - LR\")\n",
    "\n",
    "plt.ylim(0.8, 1)\n",
    "\n",
    "plt.legend()\n",
    "\n"
   ]
  },
  {
   "cell_type": "markdown",
   "id": "sexual-flesh",
   "metadata": {
    "papermill": {
     "duration": 0.049328,
     "end_time": "2021-05-09T20:11:36.628800",
     "exception": false,
     "start_time": "2021-05-09T20:11:36.579472",
     "status": "completed"
    },
    "tags": []
   },
   "source": [
    "### From the plot, we can observe the following:\n",
    "- Neural Network achieves higher accuracy than the Logistic Regression model.\n",
    "- This apparently, is because of overfitting, i.e. NN captures more noise than data.\n",
    "- Testing accuracy of NN drops below the Training accuracy at higher epochs. This explains the over-fitting on training data.\n",
    "- Logistic Regression gives a reliable accuracy, without the above mentioned problem.\n"
   ]
  },
  {
   "cell_type": "markdown",
   "id": "institutional-pacific",
   "metadata": {
    "papermill": {
     "duration": 0.047402,
     "end_time": "2021-05-09T20:11:36.723689",
     "exception": false,
     "start_time": "2021-05-09T20:11:36.676287",
     "status": "completed"
    },
    "tags": []
   },
   "source": [
    "### Moving till the last but one layer (excluding it).\n",
    "#### Plotting the outputs of this layer of the NN."
   ]
  },
  {
   "cell_type": "code",
   "execution_count": 24,
   "id": "economic-server",
   "metadata": {
    "execution": {
     "iopub.execute_input": "2021-05-09T20:11:36.831856Z",
     "iopub.status.busy": "2021-05-09T20:11:36.827212Z",
     "iopub.status.idle": "2021-05-09T20:11:36.833915Z",
     "shell.execute_reply": "2021-05-09T20:11:36.834343Z"
    },
    "papermill": {
     "duration": 0.065655,
     "end_time": "2021-05-09T20:11:36.834471",
     "exception": false,
     "start_time": "2021-05-09T20:11:36.768816",
     "status": "completed"
    },
    "tags": []
   },
   "outputs": [],
   "source": [
    "model_new = Model(layers[:-2])"
   ]
  },
  {
   "cell_type": "code",
   "execution_count": 25,
   "id": "varied-upgrade",
   "metadata": {
    "execution": {
     "iopub.execute_input": "2021-05-09T20:11:36.930462Z",
     "iopub.status.busy": "2021-05-09T20:11:36.929943Z",
     "iopub.status.idle": "2021-05-09T20:11:36.951787Z",
     "shell.execute_reply": "2021-05-09T20:11:36.952485Z"
    },
    "papermill": {
     "duration": 0.073847,
     "end_time": "2021-05-09T20:11:36.952630",
     "exception": false,
     "start_time": "2021-05-09T20:11:36.878783",
     "status": "completed"
    },
    "tags": []
   },
   "outputs": [],
   "source": [
    "plot_testing = model_new(testing_xdata)"
   ]
  },
  {
   "cell_type": "code",
   "execution_count": 26,
   "id": "specific-handling",
   "metadata": {
    "execution": {
     "iopub.execute_input": "2021-05-09T20:11:37.108744Z",
     "iopub.status.busy": "2021-05-09T20:11:37.103313Z",
     "iopub.status.idle": "2021-05-09T20:11:37.273810Z",
     "shell.execute_reply": "2021-05-09T20:11:37.272912Z"
    },
    "papermill": {
     "duration": 0.27349,
     "end_time": "2021-05-09T20:11:37.274011",
     "exception": false,
     "start_time": "2021-05-09T20:11:37.000521",
     "status": "completed"
    },
    "tags": []
   },
   "outputs": [
    {
     "data": {
      "text/plain": [
       "Text(0.5, 1.0, 'Outputs')"
      ]
     },
     "execution_count": 26,
     "metadata": {},
     "output_type": "execute_result"
    },
    {
     "data": {
      "image/png": "[encoded data removed]",
      "text/plain": [
       "<Figure size 576x504 with 1 Axes>"
      ]
     },
     "metadata": {
      "needs_background": "light"
     },
     "output_type": "display_data"
    }
   ],
   "source": [
    "plt.figure(figsize=(8,7))\n",
    "plt.scatter(plot_testing[:,0], plot_testing[:,1], alpha = 0.1, c = y_test.ravel());\n",
    "plt.title('Outputs')"
   ]
  },
  {
   "cell_type": "markdown",
   "id": "described-knowing",
   "metadata": {
    "papermill": {
     "duration": 0.048741,
     "end_time": "2021-05-09T20:11:37.372407",
     "exception": false,
     "start_time": "2021-05-09T20:11:37.323666",
     "status": "completed"
    },
    "tags": []
   },
   "source": [
    "### Plotting probability contours"
   ]
  },
  {
   "cell_type": "code",
   "execution_count": 27,
   "id": "needed-growing",
   "metadata": {
    "execution": {
     "iopub.execute_input": "2021-05-09T20:11:37.478254Z",
     "iopub.status.busy": "2021-05-09T20:11:37.477724Z",
     "iopub.status.idle": "2021-05-09T20:11:37.489163Z",
     "shell.execute_reply": "2021-05-09T20:11:37.488735Z"
    },
    "papermill": {
     "duration": 0.066363,
     "end_time": "2021-05-09T20:11:37.489275",
     "exception": false,
     "start_time": "2021-05-09T20:11:37.422912",
     "status": "completed"
    },
    "tags": []
   },
   "outputs": [],
   "source": [
    "model_prob = Model(layers[-2:]) "
   ]
  },
  {
   "cell_type": "code",
   "execution_count": 28,
   "id": "introductory-enforcement",
   "metadata": {
    "execution": {
     "iopub.execute_input": "2021-05-09T20:11:37.596356Z",
     "iopub.status.busy": "2021-05-09T20:11:37.595828Z",
     "iopub.status.idle": "2021-05-09T20:11:37.610054Z",
     "shell.execute_reply": "2021-05-09T20:11:37.610500Z"
    },
    "papermill": {
     "duration": 0.071455,
     "end_time": "2021-05-09T20:11:37.610645",
     "exception": false,
     "start_time": "2021-05-09T20:11:37.539190",
     "status": "completed"
    },
    "tags": []
   },
   "outputs": [],
   "source": [
    "# Adjust the x and y ranges according to the above generated plot.\n",
    "x_range = np.linspace(-4, 1, 100) \n",
    "y_range = np.linspace(-6, 6, 100) \n",
    "x_grid, y_grid = np.meshgrid(x_range, y_range) # x_grid and y_grig are of size 100 X 100\n",
    "\n",
    "# converting x_grid and y_grid to continuous arrays\n",
    "x_grid_flat = np.ravel(x_grid)\n",
    "y_grid_flat = np.ravel(y_grid)\n",
    "\n",
    "# The last layer of the current model takes two columns as input. Hence transpose of np.vstack() is required.\n",
    "X = np.vstack((x_grid_flat, y_grid_flat)).T\n",
    "\n",
    "# x_grid and y_grid are of size 100 x 100\n",
    "probability_contour = model_prob(X).reshape(100,100) "
   ]
  },
  {
   "cell_type": "code",
   "execution_count": 29,
   "id": "understood-landing",
   "metadata": {
    "execution": {
     "iopub.execute_input": "2021-05-09T20:11:37.726794Z",
     "iopub.status.busy": "2021-05-09T20:11:37.726219Z",
     "iopub.status.idle": "2021-05-09T20:11:37.966715Z",
     "shell.execute_reply": "2021-05-09T20:11:37.965717Z"
    },
    "papermill": {
     "duration": 0.30497,
     "end_time": "2021-05-09T20:11:37.966845",
     "exception": false,
     "start_time": "2021-05-09T20:11:37.661875",
     "status": "completed"
    },
    "tags": []
   },
   "outputs": [
    {
     "data": {
      "image/png": "[encoded data removed]",
      "text/plain": [
       "<Figure size 720x648 with 1 Axes>"
      ]
     },
     "metadata": {
      "needs_background": "light"
     },
     "output_type": "display_data"
    }
   ],
   "source": [
    "plt.figure(figsize=(10,9))\n",
    "plt.scatter(plot_testing[:,0], plot_testing[:,1], alpha = 0.1, c = y_test.ravel())\n",
    "contours = plt.contour(x_grid,y_grid,probability_contour)\n",
    "plt.title('Probability Contours')\n",
    "plt.clabel(contours, inline = True );"
   ]
  }
 ],
 "metadata": {
  "kernelspec": {
   "display_name": "Python 3",
   "language": "python",
   "name": "python3"
  },
  "language_info": {
   "codemirror_mode": {
    "name": "ipython",
    "version": 3
   },
   "file_extension": ".py",
   "mimetype": "text/x-python",
   "name": "python",
   "nbconvert_exporter": "python",
   "pygments_lexer": "ipython3",
   "version": "3.6.13"
  },
  "papermill": {
   "duration": 427.46778,
   "end_time": "2021-05-09T20:11:39.241726",
   "environment_variables": {},
   "exception": null,
   "input_path": "2020-08-11-NeuralNetwork.ipynb",
   "output_path": "2020-08-11-NeuralNetwork.ipynb",
   "parameters": {},
   "start_time": "2021-05-09T20:04:31.773946",
   "version": "2.1.2"
  }
 },
 "nbformat": 4,
 "nbformat_minor": 5
}