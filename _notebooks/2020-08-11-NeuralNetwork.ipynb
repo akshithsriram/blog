{
 "cells": [
  {
   "cell_type": "markdown",
   "metadata": {
    "papermill": {
     "duration": 0.032255,
     "end_time": "2020-08-29T00:11:19.934546",
     "exception": false,
     "start_time": "2020-08-29T00:11:19.902291",
     "status": "completed"
    },
    "tags": []
   },
   "source": [
    "# \"A Basic Neural Network: Differentiate Hand-Written Digits\"\n",
    "\n",
    "- badges: true\n",
    "- author: Akshith Sriram"
   ]
  },
  {
   "cell_type": "markdown",
   "metadata": {
    "papermill": {
     "duration": 0.021793,
     "end_time": "2020-08-29T00:11:19.979962",
     "exception": false,
     "start_time": "2020-08-29T00:11:19.958169",
     "status": "completed"
    },
    "tags": []
   },
   "source": [
    "### Key Objectives:\n",
    "- Building a neural network that differentiates two hand-written digits 3 and 8.\n",
    "- Comparing the results of this Neural Network (NN) to that of a Logistic Regression (LR) model.\n",
    "\n",
    "### Requirements:\n",
    "- 'Kudzu' : A neural network library that was designed during our course by [Univ.AI](www.univ.ai). \n",
    "- MNIST Database\n",
    "\n",
    "If MNIST is not installed, use the command `!pip install mnist` given below.\n",
    "It can be run both from the command line and Jupyter Notebook."
   ]
  },
  {
   "cell_type": "code",
   "execution_count": 1,
   "metadata": {
    "execution": {
     "iopub.execute_input": "2020-08-29T00:11:20.031348Z",
     "iopub.status.busy": "2020-08-29T00:11:20.030685Z",
     "iopub.status.idle": "2020-08-29T00:11:22.091908Z",
     "shell.execute_reply": "2020-08-29T00:11:22.090970Z"
    },
    "papermill": {
     "duration": 2.08943,
     "end_time": "2020-08-29T00:11:22.092068",
     "exception": false,
     "start_time": "2020-08-29T00:11:20.002638",
     "status": "completed"
    },
    "tags": []
   },
   "outputs": [
    {
     "name": "stdout",
     "output_type": "stream",
     "text": [
      "Collecting mnist\r\n"
     ]
    },
    {
     "name": "stdout",
     "output_type": "stream",
     "text": [
      "  Downloading mnist-0.2.2-py2.py3-none-any.whl (3.5 kB)\r\n"
     ]
    },
    {
     "name": "stdout",
     "output_type": "stream",
     "text": [
      "Requirement already satisfied: numpy in /opt/hostedtoolcache/Python/3.6.11/x64/lib/python3.6/site-packages (from mnist) (1.19.1)\r\n"
     ]
    },
    {
     "name": "stdout",
     "output_type": "stream",
     "text": [
      "Installing collected packages: mnist\r\n"
     ]
    },
    {
     "name": "stdout",
     "output_type": "stream",
     "text": [
      "Successfully installed mnist-0.2.2\r\n"
     ]
    }
   ],
   "source": [
    "!pip install mnist "
   ]
  },
  {
   "cell_type": "markdown",
   "metadata": {
    "papermill": {
     "duration": 0.024141,
     "end_time": "2020-08-29T00:11:22.143667",
     "exception": false,
     "start_time": "2020-08-29T00:11:22.119526",
     "status": "completed"
    },
    "tags": []
   },
   "source": [
    "#### Importing necessary libraries"
   ]
  },
  {
   "cell_type": "code",
   "execution_count": 2,
   "metadata": {
    "execution": {
     "iopub.execute_input": "2020-08-29T00:11:22.200234Z",
     "iopub.status.busy": "2020-08-29T00:11:22.199709Z",
     "iopub.status.idle": "2020-08-29T00:11:22.733393Z",
     "shell.execute_reply": "2020-08-29T00:11:22.731977Z"
    },
    "papermill": {
     "duration": 0.564539,
     "end_time": "2020-08-29T00:11:22.733618",
     "exception": false,
     "start_time": "2020-08-29T00:11:22.169079",
     "status": "completed"
    },
    "tags": []
   },
   "outputs": [],
   "source": [
    "%load_ext autoreload\n",
    "%autoreload 2\n",
    "\n",
    "%matplotlib inline\n",
    "import matplotlib.pyplot as plt\n",
    "\n",
    "import numpy as np\n",
    "import pandas as pd"
   ]
  },
  {
   "cell_type": "markdown",
   "metadata": {
    "papermill": {
     "duration": 0.025895,
     "end_time": "2020-08-29T00:11:22.786997",
     "exception": false,
     "start_time": "2020-08-29T00:11:22.761102",
     "status": "completed"
    },
    "tags": []
   },
   "source": [
    "### Preparing the Data"
   ]
  },
  {
   "cell_type": "code",
   "execution_count": 3,
   "metadata": {
    "execution": {
     "iopub.execute_input": "2020-08-29T00:11:22.841745Z",
     "iopub.status.busy": "2020-08-29T00:11:22.841181Z",
     "iopub.status.idle": "2020-08-29T00:11:22.856189Z",
     "shell.execute_reply": "2020-08-29T00:11:22.855784Z"
    },
    "papermill": {
     "duration": 0.04321,
     "end_time": "2020-08-29T00:11:22.856292",
     "exception": false,
     "start_time": "2020-08-29T00:11:22.813082",
     "status": "completed"
    },
    "tags": []
   },
   "outputs": [],
   "source": [
    "import mnist"
   ]
  },
  {
   "cell_type": "code",
   "execution_count": 4,
   "metadata": {
    "execution": {
     "iopub.execute_input": "2020-08-29T00:11:22.911734Z",
     "iopub.status.busy": "2020-08-29T00:11:22.911166Z",
     "iopub.status.idle": "2020-08-29T00:11:23.709567Z",
     "shell.execute_reply": "2020-08-29T00:11:23.710353Z"
    },
    "papermill": {
     "duration": 0.828361,
     "end_time": "2020-08-29T00:11:23.710592",
     "exception": false,
     "start_time": "2020-08-29T00:11:22.882231",
     "status": "completed"
    },
    "tags": []
   },
   "outputs": [],
   "source": [
    "train_images = mnist.train_images()\n",
    "train_labels = mnist.train_labels()"
   ]
  },
  {
   "cell_type": "code",
   "execution_count": 5,
   "metadata": {
    "execution": {
     "iopub.execute_input": "2020-08-29T00:11:23.768826Z",
     "iopub.status.busy": "2020-08-29T00:11:23.768295Z",
     "iopub.status.idle": "2020-08-29T00:11:23.782730Z",
     "shell.execute_reply": "2020-08-29T00:11:23.783197Z"
    },
    "papermill": {
     "duration": 0.045143,
     "end_time": "2020-08-29T00:11:23.783439",
     "exception": false,
     "start_time": "2020-08-29T00:11:23.738296",
     "status": "completed"
    },
    "tags": []
   },
   "outputs": [
    {
     "data": {
      "text/plain": [
       "((60000, 28, 28), (60000,))"
      ]
     },
     "execution_count": 5,
     "metadata": {},
     "output_type": "execute_result"
    }
   ],
   "source": [
    "train_images.shape, train_labels.shape"
   ]
  },
  {
   "cell_type": "code",
   "execution_count": 6,
   "metadata": {
    "execution": {
     "iopub.execute_input": "2020-08-29T00:11:23.838393Z",
     "iopub.status.busy": "2020-08-29T00:11:23.837828Z",
     "iopub.status.idle": "2020-08-29T00:11:24.141783Z",
     "shell.execute_reply": "2020-08-29T00:11:24.140905Z"
    },
    "papermill": {
     "duration": 0.332711,
     "end_time": "2020-08-29T00:11:24.142017",
     "exception": false,
     "start_time": "2020-08-29T00:11:23.809306",
     "status": "completed"
    },
    "tags": []
   },
   "outputs": [],
   "source": [
    "test_images = mnist.test_images()\n",
    "test_labels = mnist.test_labels()"
   ]
  },
  {
   "cell_type": "code",
   "execution_count": 7,
   "metadata": {
    "execution": {
     "iopub.execute_input": "2020-08-29T00:11:24.198949Z",
     "iopub.status.busy": "2020-08-29T00:11:24.198371Z",
     "iopub.status.idle": "2020-08-29T00:11:24.212820Z",
     "shell.execute_reply": "2020-08-29T00:11:24.212417Z"
    },
    "papermill": {
     "duration": 0.044313,
     "end_time": "2020-08-29T00:11:24.212922",
     "exception": false,
     "start_time": "2020-08-29T00:11:24.168609",
     "status": "completed"
    },
    "tags": []
   },
   "outputs": [
    {
     "data": {
      "text/plain": [
       "((10000, 28, 28), (10000,))"
      ]
     },
     "execution_count": 7,
     "metadata": {},
     "output_type": "execute_result"
    }
   ],
   "source": [
    "test_images.shape, test_labels.shape"
   ]
  },
  {
   "cell_type": "code",
   "execution_count": 8,
   "metadata": {
    "execution": {
     "iopub.execute_input": "2020-08-29T00:11:24.269875Z",
     "iopub.status.busy": "2020-08-29T00:11:24.269047Z",
     "iopub.status.idle": "2020-08-29T00:11:24.408104Z",
     "shell.execute_reply": "2020-08-29T00:11:24.407626Z"
    },
    "papermill": {
     "duration": 0.170734,
     "end_time": "2020-08-29T00:11:24.408361",
     "exception": false,
     "start_time": "2020-08-29T00:11:24.237627",
     "status": "completed"
    },
    "tags": []
   },
   "outputs": [
    {
     "name": "stdout",
     "output_type": "stream",
     "text": [
      "2\n"
     ]
    },
    {
     "data": {
      "text/plain": [
       "<matplotlib.image.AxesImage at 0x7f4111fc2b38>"
      ]
     },
     "execution_count": 8,
     "metadata": {},
     "output_type": "execute_result"
    },
    {
     "data": {
      "image/png": "[encoded data removed]",
      "text/plain": [
       "<Figure size 432x288 with 1 Axes>"
      ]
     },
     "metadata": {
      "needs_background": "light"
     },
     "output_type": "display_data"
    }
   ],
   "source": [
    "image_index = 7776 # You may select anything up to 60,000\n",
    "print(train_labels[image_index]) \n",
    "plt.imshow(train_images[image_index], cmap='Greys')"
   ]
  },
  {
   "cell_type": "markdown",
   "metadata": {
    "papermill": {
     "duration": 0.026923,
     "end_time": "2020-08-29T00:11:24.461551",
     "exception": false,
     "start_time": "2020-08-29T00:11:24.434628",
     "status": "completed"
    },
    "tags": []
   },
   "source": [
    "## Filter data to get 3 and 8 out"
   ]
  },
  {
   "cell_type": "code",
   "execution_count": 9,
   "metadata": {
    "execution": {
     "iopub.execute_input": "2020-08-29T00:11:24.521018Z",
     "iopub.status.busy": "2020-08-29T00:11:24.520418Z",
     "iopub.status.idle": "2020-08-29T00:11:24.537216Z",
     "shell.execute_reply": "2020-08-29T00:11:24.536692Z"
    },
    "papermill": {
     "duration": 0.04775,
     "end_time": "2020-08-29T00:11:24.537331",
     "exception": false,
     "start_time": "2020-08-29T00:11:24.489581",
     "status": "completed"
    },
    "tags": []
   },
   "outputs": [],
   "source": [
    "train_filter = np.where((train_labels == 3 ) | (train_labels == 8))\n",
    "test_filter = np.where((test_labels == 3) | (test_labels == 8))\n",
    "X_train, y_train = train_images[train_filter], train_labels[train_filter]\n",
    "X_test, y_test = test_images[test_filter], test_labels[test_filter]"
   ]
  },
  {
   "cell_type": "markdown",
   "metadata": {
    "papermill": {
     "duration": 0.02474,
     "end_time": "2020-08-29T00:11:24.589343",
     "exception": false,
     "start_time": "2020-08-29T00:11:24.564603",
     "status": "completed"
    },
    "tags": []
   },
   "source": [
    "We normalize the pixel values in the 0 to 1 range"
   ]
  },
  {
   "cell_type": "code",
   "execution_count": 10,
   "metadata": {
    "execution": {
     "iopub.execute_input": "2020-08-29T00:11:24.650939Z",
     "iopub.status.busy": "2020-08-29T00:11:24.644904Z",
     "iopub.status.idle": "2020-08-29T00:11:24.694813Z",
     "shell.execute_reply": "2020-08-29T00:11:24.693861Z"
    },
    "papermill": {
     "duration": 0.079797,
     "end_time": "2020-08-29T00:11:24.695031",
     "exception": false,
     "start_time": "2020-08-29T00:11:24.615234",
     "status": "completed"
    },
    "tags": []
   },
   "outputs": [],
   "source": [
    "X_train = X_train/255.\n",
    "X_test = X_test/255."
   ]
  },
  {
   "cell_type": "markdown",
   "metadata": {
    "papermill": {
     "duration": 0.025281,
     "end_time": "2020-08-29T00:11:24.749088",
     "exception": false,
     "start_time": "2020-08-29T00:11:24.723807",
     "status": "completed"
    },
    "tags": []
   },
   "source": [
    "Setup the labels as 1 (when the digit is 3) and 0 (when the digit is 8)"
   ]
  },
  {
   "cell_type": "code",
   "execution_count": 11,
   "metadata": {
    "execution": {
     "iopub.execute_input": "2020-08-29T00:11:24.808648Z",
     "iopub.status.busy": "2020-08-29T00:11:24.808140Z",
     "iopub.status.idle": "2020-08-29T00:11:24.820768Z",
     "shell.execute_reply": "2020-08-29T00:11:24.821171Z"
    },
    "papermill": {
     "duration": 0.044536,
     "end_time": "2020-08-29T00:11:24.821306",
     "exception": false,
     "start_time": "2020-08-29T00:11:24.776770",
     "status": "completed"
    },
    "tags": []
   },
   "outputs": [],
   "source": [
    "y_train = 1*(y_train==3)\n",
    "y_test = 1*(y_test==3)"
   ]
  },
  {
   "cell_type": "code",
   "execution_count": 12,
   "metadata": {
    "execution": {
     "iopub.execute_input": "2020-08-29T00:11:24.877900Z",
     "iopub.status.busy": "2020-08-29T00:11:24.876969Z",
     "iopub.status.idle": "2020-08-29T00:11:24.892412Z",
     "shell.execute_reply": "2020-08-29T00:11:24.891845Z"
    },
    "papermill": {
     "duration": 0.044402,
     "end_time": "2020-08-29T00:11:24.892544",
     "exception": false,
     "start_time": "2020-08-29T00:11:24.848142",
     "status": "completed"
    },
    "tags": []
   },
   "outputs": [
    {
     "data": {
      "text/plain": [
       "((11982, 28, 28), (1984, 28, 28))"
      ]
     },
     "execution_count": 12,
     "metadata": {},
     "output_type": "execute_result"
    }
   ],
   "source": [
    "X_train.shape, X_test.shape"
   ]
  },
  {
   "cell_type": "markdown",
   "metadata": {
    "papermill": {
     "duration": 0.026565,
     "end_time": "2020-08-29T00:11:24.945492",
     "exception": false,
     "start_time": "2020-08-29T00:11:24.918927",
     "status": "completed"
    },
    "tags": []
   },
   "source": [
    "### Reshape the input data to create a linear array"
   ]
  },
  {
   "cell_type": "code",
   "execution_count": 13,
   "metadata": {
    "execution": {
     "iopub.execute_input": "2020-08-29T00:11:25.004271Z",
     "iopub.status.busy": "2020-08-29T00:11:25.003734Z",
     "iopub.status.idle": "2020-08-29T00:11:25.016673Z",
     "shell.execute_reply": "2020-08-29T00:11:25.016193Z"
    },
    "papermill": {
     "duration": 0.043676,
     "end_time": "2020-08-29T00:11:25.016790",
     "exception": false,
     "start_time": "2020-08-29T00:11:24.973114",
     "status": "completed"
    },
    "tags": []
   },
   "outputs": [
    {
     "data": {
      "text/plain": [
       "((11982, 784), (1984, 784))"
      ]
     },
     "execution_count": 13,
     "metadata": {},
     "output_type": "execute_result"
    }
   ],
   "source": [
    "X_train = X_train.reshape(X_train.shape[0], -1)\n",
    "X_test = X_test.reshape(X_test.shape[0], -1)\n",
    "X_train.shape, X_test.shape"
   ]
  },
  {
   "cell_type": "markdown",
   "metadata": {
    "papermill": {
     "duration": 0.027576,
     "end_time": "2020-08-29T00:11:25.070006",
     "exception": false,
     "start_time": "2020-08-29T00:11:25.042430",
     "status": "completed"
    },
    "tags": []
   },
   "source": [
    "### Importing appropriate functions from 'Kudzu'"
   ]
  },
  {
   "cell_type": "code",
   "execution_count": 14,
   "metadata": {
    "execution": {
     "iopub.execute_input": "2020-08-29T00:11:25.128996Z",
     "iopub.status.busy": "2020-08-29T00:11:25.128458Z",
     "iopub.status.idle": "2020-08-29T00:11:25.148920Z",
     "shell.execute_reply": "2020-08-29T00:11:25.148267Z"
    },
    "papermill": {
     "duration": 0.051093,
     "end_time": "2020-08-29T00:11:25.149054",
     "exception": false,
     "start_time": "2020-08-29T00:11:25.097961",
     "status": "completed"
    },
    "tags": []
   },
   "outputs": [],
   "source": [
    "from kudzu.layer import Sigmoid\n",
    "from kudzu.layer import Relu\n",
    "from kudzu.layer import Affine, Sigmoid\n",
    "\n",
    "from kudzu.model import Model\n",
    "from kudzu.train import Learner\n",
    "from kudzu.optim import GD\n",
    "from kudzu.data import Data, Dataloader, Sampler\n",
    "\n",
    "from kudzu.callbacks import AccCallback\n",
    "from kudzu.callbacks import ClfCallback\n",
    "\n",
    "from kudzu.loss import MSE"
   ]
  },
  {
   "cell_type": "markdown",
   "metadata": {
    "papermill": {
     "duration": 0.025893,
     "end_time": "2020-08-29T00:11:25.202487",
     "exception": false,
     "start_time": "2020-08-29T00:11:25.176594",
     "status": "completed"
    },
    "tags": []
   },
   "source": [
    "### Let us create a `Config` class, to store important parameters. \n",
    "This class essentially plays the role of a dictionary."
   ]
  },
  {
   "cell_type": "code",
   "execution_count": 15,
   "metadata": {
    "execution": {
     "iopub.execute_input": "2020-08-29T00:11:25.259444Z",
     "iopub.status.busy": "2020-08-29T00:11:25.258909Z",
     "iopub.status.idle": "2020-08-29T00:11:25.275880Z",
     "shell.execute_reply": "2020-08-29T00:11:25.276327Z"
    },
    "papermill": {
     "duration": 0.048425,
     "end_time": "2020-08-29T00:11:25.276466",
     "exception": false,
     "start_time": "2020-08-29T00:11:25.228041",
     "status": "completed"
    },
    "tags": []
   },
   "outputs": [],
   "source": [
    "class Config:\n",
    "    pass\n",
    "config = Config()\n",
    "config.lr = 0.001\n",
    "config.num_epochs = 251\n",
    "config.bs = 50"
   ]
  },
  {
   "cell_type": "markdown",
   "metadata": {
    "papermill": {
     "duration": 0.025963,
     "end_time": "2020-08-29T00:11:25.329174",
     "exception": false,
     "start_time": "2020-08-29T00:11:25.303211",
     "status": "completed"
    },
    "tags": []
   },
   "source": [
    "### Initializing data to the variables"
   ]
  },
  {
   "cell_type": "code",
   "execution_count": 16,
   "metadata": {
    "execution": {
     "iopub.execute_input": "2020-08-29T00:11:25.386843Z",
     "iopub.status.busy": "2020-08-29T00:11:25.386266Z",
     "iopub.status.idle": "2020-08-29T00:11:25.401386Z",
     "shell.execute_reply": "2020-08-29T00:11:25.400922Z"
    },
    "papermill": {
     "duration": 0.045732,
     "end_time": "2020-08-29T00:11:25.401486",
     "exception": false,
     "start_time": "2020-08-29T00:11:25.355754",
     "status": "completed"
    },
    "tags": []
   },
   "outputs": [],
   "source": [
    "data = Data(X_train, y_train.reshape(-1,1))\n",
    "sampler = Sampler(data, config.bs, shuffle=True)\n",
    "\n",
    "dl = Dataloader(data, sampler)\n",
    "\n",
    "opt = GD(config.lr)\n",
    "loss = MSE()"
   ]
  },
  {
   "cell_type": "code",
   "execution_count": 17,
   "metadata": {
    "execution": {
     "iopub.execute_input": "2020-08-29T00:11:25.458152Z",
     "iopub.status.busy": "2020-08-29T00:11:25.457583Z",
     "iopub.status.idle": "2020-08-29T00:11:25.469154Z",
     "shell.execute_reply": "2020-08-29T00:11:25.469610Z"
    },
    "papermill": {
     "duration": 0.042462,
     "end_time": "2020-08-29T00:11:25.469753",
     "exception": false,
     "start_time": "2020-08-29T00:11:25.427291",
     "status": "completed"
    },
    "tags": []
   },
   "outputs": [],
   "source": [
    "training_xdata = X_train\n",
    "testing_xdata = X_test\n",
    "training_ydata = y_train.reshape(-1,1)\n",
    "testing_ydata = y_test.reshape(-1,1)"
   ]
  },
  {
   "cell_type": "markdown",
   "metadata": {
    "papermill": {
     "duration": 0.029964,
     "end_time": "2020-08-29T00:11:25.526728",
     "exception": false,
     "start_time": "2020-08-29T00:11:25.496764",
     "status": "completed"
    },
    "tags": []
   },
   "source": [
    "### Running Models with the Training data\n",
    "Details about the network layers:\n",
    "- A first affine layer has 784 inputs and does 100 affine transforms. These are followed by a Relu\n",
    "- A second affine layer has 100 inputs from the 100 activations of the past layer, and does 100 affine transforms. These are followed by a Relu\n",
    "- A third affine layer has 100 activations and does 2 affine transformations to create an embedding for visualization. There is no non-linearity here.\n",
    "- A final \"logistic regression\" which has an affine transform from 2 inputs to 1 output, which is squeezed through a sigmoid.\n",
    "\n",
    "Help taken from Anshuman's Notebook."
   ]
  },
  {
   "cell_type": "code",
   "execution_count": 18,
   "metadata": {
    "execution": {
     "iopub.execute_input": "2020-08-29T00:11:25.586752Z",
     "iopub.status.busy": "2020-08-29T00:11:25.586208Z",
     "iopub.status.idle": "2020-08-29T00:11:25.604923Z",
     "shell.execute_reply": "2020-08-29T00:11:25.604276Z"
    },
    "papermill": {
     "duration": 0.050109,
     "end_time": "2020-08-29T00:11:25.605046",
     "exception": false,
     "start_time": "2020-08-29T00:11:25.554937",
     "status": "completed"
    },
    "tags": []
   },
   "outputs": [],
   "source": [
    "# layers for the Neural Network\n",
    "layers = [Affine(\"first\", 784, 100), Relu(\"first\"), Affine(\"second\", 100, 100), Relu(\"second\"), Affine(\"third\", 100, 2), Affine(\"final\", 2, 1), Sigmoid(\"final\")]\n",
    "model_nn = Model(layers)\n",
    "\n",
    "# layers for the Logistic Regression\n",
    "layers_lr = [Affine(\"logits\", 784, 1), Sigmoid(\"sigmoid\")]\n",
    "model_lr = Model(layers_lr)"
   ]
  },
  {
   "cell_type": "code",
   "execution_count": 19,
   "metadata": {
    "execution": {
     "iopub.execute_input": "2020-08-29T00:11:25.665479Z",
     "iopub.status.busy": "2020-08-29T00:11:25.664941Z",
     "iopub.status.idle": "2020-08-29T00:11:25.679085Z",
     "shell.execute_reply": "2020-08-29T00:11:25.678643Z"
    },
    "papermill": {
     "duration": 0.046831,
     "end_time": "2020-08-29T00:11:25.679187",
     "exception": false,
     "start_time": "2020-08-29T00:11:25.632356",
     "status": "completed"
    },
    "tags": []
   },
   "outputs": [],
   "source": [
    "# suffix _nn stands for Neural Network.\n",
    "learner_nn = Learner(loss, model_nn, opt, config.num_epochs)\n",
    "acc_nn = ClfCallback(learner_nn, config.bs, training_xdata , testing_xdata, training_ydata, testing_ydata)\n",
    "learner_nn.set_callbacks([acc_nn])"
   ]
  },
  {
   "cell_type": "code",
   "execution_count": 20,
   "metadata": {
    "execution": {
     "iopub.execute_input": "2020-08-29T00:11:25.738456Z",
     "iopub.status.busy": "2020-08-29T00:11:25.737835Z",
     "iopub.status.idle": "2020-08-29T00:12:48.481436Z",
     "shell.execute_reply": "2020-08-29T00:12:48.482237Z"
    },
    "papermill": {
     "duration": 82.776627,
     "end_time": "2020-08-29T00:12:48.482398",
     "exception": false,
     "start_time": "2020-08-29T00:11:25.705771",
     "status": "completed"
    },
    "tags": []
   },
   "outputs": [
    {
     "name": "stdout",
     "output_type": "stream",
     "text": [
      "====== Neural Network ======\n"
     ]
    },
    {
     "name": "stdout",
     "output_type": "stream",
     "text": [
      "Epoch 0, Loss 0.2516\n",
      "Training Accuracy: 0.4547, Testing Accuracy: 0.4682\n",
      "\n"
     ]
    },
    {
     "name": "stdout",
     "output_type": "stream",
     "text": [
      "Epoch 10, Loss 0.2431\n",
      "Training Accuracy: 0.7850, Testing Accuracy: 0.8105\n",
      "\n"
     ]
    },
    {
     "name": "stdout",
     "output_type": "stream",
     "text": [
      "Epoch 20, Loss 0.2117\n",
      "Training Accuracy: 0.8854, Testing Accuracy: 0.8901\n",
      "\n"
     ]
    },
    {
     "name": "stdout",
     "output_type": "stream",
     "text": [
      "Epoch 30, Loss 0.1148\n",
      "Training Accuracy: 0.9090, Testing Accuracy: 0.9153\n",
      "\n"
     ]
    },
    {
     "name": "stdout",
     "output_type": "stream",
     "text": [
      "Epoch 40, Loss 0.0673\n",
      "Training Accuracy: 0.9309, Testing Accuracy: 0.9456\n",
      "\n"
     ]
    },
    {
     "name": "stdout",
     "output_type": "stream",
     "text": [
      "Epoch 50, Loss 0.0508\n",
      "Training Accuracy: 0.9448, Testing Accuracy: 0.9567\n",
      "\n"
     ]
    },
    {
     "name": "stdout",
     "output_type": "stream",
     "text": [
      "Epoch 60, Loss 0.0429\n",
      "Training Accuracy: 0.9523, Testing Accuracy: 0.9642\n",
      "\n"
     ]
    },
    {
     "name": "stdout",
     "output_type": "stream",
     "text": [
      "Epoch 70, Loss 0.0382\n",
      "Training Accuracy: 0.9572, Testing Accuracy: 0.9672\n",
      "\n"
     ]
    },
    {
     "name": "stdout",
     "output_type": "stream",
     "text": [
      "Epoch 80, Loss 0.0351\n",
      "Training Accuracy: 0.9597, Testing Accuracy: 0.9672\n",
      "\n"
     ]
    },
    {
     "name": "stdout",
     "output_type": "stream",
     "text": [
      "Epoch 90, Loss 0.0329\n",
      "Training Accuracy: 0.9615, Testing Accuracy: 0.9682\n",
      "\n"
     ]
    },
    {
     "name": "stdout",
     "output_type": "stream",
     "text": [
      "Epoch 100, Loss 0.0312\n",
      "Training Accuracy: 0.9632, Testing Accuracy: 0.9693\n",
      "\n"
     ]
    },
    {
     "name": "stdout",
     "output_type": "stream",
     "text": [
      "Epoch 110, Loss 0.0298\n",
      "Training Accuracy: 0.9647, Testing Accuracy: 0.9703\n",
      "\n"
     ]
    },
    {
     "name": "stdout",
     "output_type": "stream",
     "text": [
      "Epoch 120, Loss 0.0287\n",
      "Training Accuracy: 0.9663, Testing Accuracy: 0.9713\n",
      "\n"
     ]
    },
    {
     "name": "stdout",
     "output_type": "stream",
     "text": [
      "Epoch 130, Loss 0.0277\n",
      "Training Accuracy: 0.9672, Testing Accuracy: 0.9718\n",
      "\n"
     ]
    },
    {
     "name": "stdout",
     "output_type": "stream",
     "text": [
      "Epoch 140, Loss 0.0268\n",
      "Training Accuracy: 0.9684, Testing Accuracy: 0.9713\n",
      "\n"
     ]
    },
    {
     "name": "stdout",
     "output_type": "stream",
     "text": [
      "Epoch 150, Loss 0.0261\n",
      "Training Accuracy: 0.9698, Testing Accuracy: 0.9698\n",
      "\n"
     ]
    },
    {
     "name": "stdout",
     "output_type": "stream",
     "text": [
      "Epoch 160, Loss 0.0254\n",
      "Training Accuracy: 0.9705, Testing Accuracy: 0.9698\n",
      "\n"
     ]
    },
    {
     "name": "stdout",
     "output_type": "stream",
     "text": [
      "Epoch 170, Loss 0.0247\n",
      "Training Accuracy: 0.9715, Testing Accuracy: 0.9703\n",
      "\n"
     ]
    },
    {
     "name": "stdout",
     "output_type": "stream",
     "text": [
      "Epoch 180, Loss 0.0241\n",
      "Training Accuracy: 0.9722, Testing Accuracy: 0.9713\n",
      "\n"
     ]
    },
    {
     "name": "stdout",
     "output_type": "stream",
     "text": [
      "Epoch 190, Loss 0.0236\n",
      "Training Accuracy: 0.9730, Testing Accuracy: 0.9708\n",
      "\n"
     ]
    },
    {
     "name": "stdout",
     "output_type": "stream",
     "text": [
      "Epoch 200, Loss 0.023\n",
      "Training Accuracy: 0.9736, Testing Accuracy: 0.9708\n",
      "\n"
     ]
    },
    {
     "name": "stdout",
     "output_type": "stream",
     "text": [
      "Epoch 210, Loss 0.0225\n",
      "Training Accuracy: 0.9748, Testing Accuracy: 0.9708\n",
      "\n"
     ]
    },
    {
     "name": "stdout",
     "output_type": "stream",
     "text": [
      "Epoch 220, Loss 0.0221\n",
      "Training Accuracy: 0.9752, Testing Accuracy: 0.9708\n",
      "\n"
     ]
    },
    {
     "name": "stdout",
     "output_type": "stream",
     "text": [
      "Epoch 230, Loss 0.0217\n",
      "Training Accuracy: 0.9756, Testing Accuracy: 0.9708\n",
      "\n"
     ]
    },
    {
     "name": "stdout",
     "output_type": "stream",
     "text": [
      "Epoch 240, Loss 0.0212\n",
      "Training Accuracy: 0.9764, Testing Accuracy: 0.9708\n",
      "\n"
     ]
    },
    {
     "name": "stdout",
     "output_type": "stream",
     "text": [
      "Epoch 250, Loss 0.0209\n",
      "Training Accuracy: 0.9768, Testing Accuracy: 0.9713\n",
      "\n"
     ]
    },
    {
     "data": {
      "text/plain": [
       "0.008173174148136005"
      ]
     },
     "execution_count": 20,
     "metadata": {},
     "output_type": "execute_result"
    }
   ],
   "source": [
    "print(\"====== Neural Network ======\")\n",
    "learner_nn.train_loop(dl)"
   ]
  },
  {
   "cell_type": "markdown",
   "metadata": {
    "papermill": {
     "duration": 0.034749,
     "end_time": "2020-08-29T00:12:48.553244",
     "exception": false,
     "start_time": "2020-08-29T00:12:48.518495",
     "status": "completed"
    },
    "tags": []
   },
   "source": [
    "### Logistic Regression based Implementation."
   ]
  },
  {
   "cell_type": "code",
   "execution_count": 21,
   "metadata": {
    "execution": {
     "iopub.execute_input": "2020-08-29T00:12:48.627301Z",
     "iopub.status.busy": "2020-08-29T00:12:48.626500Z",
     "iopub.status.idle": "2020-08-29T00:12:48.638386Z",
     "shell.execute_reply": "2020-08-29T00:12:48.637861Z"
    },
    "papermill": {
     "duration": 0.050822,
     "end_time": "2020-08-29T00:12:48.638513",
     "exception": false,
     "start_time": "2020-08-29T00:12:48.587691",
     "status": "completed"
    },
    "tags": []
   },
   "outputs": [],
   "source": [
    "learner_lr = Learner(loss, model_lr, opt, config.num_epochs)\n",
    "acc_lr = ClfCallback(learner_lr, config.bs, training_xdata , testing_xdata, training_ydata, testing_ydata)\n",
    "learner_lr.set_callbacks([acc_lr])"
   ]
  },
  {
   "cell_type": "code",
   "execution_count": 22,
   "metadata": {
    "execution": {
     "iopub.execute_input": "2020-08-29T00:12:48.711897Z",
     "iopub.status.busy": "2020-08-29T00:12:48.710853Z",
     "iopub.status.idle": "2020-08-29T00:13:03.482389Z",
     "shell.execute_reply": "2020-08-29T00:13:03.483054Z"
    },
    "papermill": {
     "duration": 14.810046,
     "end_time": "2020-08-29T00:13:03.483204",
     "exception": false,
     "start_time": "2020-08-29T00:12:48.673158",
     "status": "completed"
    },
    "tags": []
   },
   "outputs": [
    {
     "name": "stdout",
     "output_type": "stream",
     "text": [
      "====== Logistic Regression ======\n",
      "Epoch 0, Loss 0.2391\n",
      "Training Accuracy: 0.6927, Testing Accuracy: 0.6774\n",
      "\n"
     ]
    },
    {
     "name": "stdout",
     "output_type": "stream",
     "text": [
      "Epoch 10, Loss 0.1063\n",
      "Training Accuracy: 0.9009, Testing Accuracy: 0.9037\n",
      "\n"
     ]
    },
    {
     "name": "stdout",
     "output_type": "stream",
     "text": [
      "Epoch 20, Loss 0.0812\n",
      "Training Accuracy: 0.9238, Testing Accuracy: 0.9325\n",
      "\n"
     ]
    },
    {
     "name": "stdout",
     "output_type": "stream",
     "text": [
      "Epoch 30, Loss 0.0697\n",
      "Training Accuracy: 0.9332, Testing Accuracy: 0.9451\n",
      "\n"
     ]
    },
    {
     "name": "stdout",
     "output_type": "stream",
     "text": [
      "Epoch 40, Loss 0.0627\n",
      "Training Accuracy: 0.9387, Testing Accuracy: 0.9536\n",
      "\n"
     ]
    },
    {
     "name": "stdout",
     "output_type": "stream",
     "text": [
      "Epoch 50, Loss 0.058\n",
      "Training Accuracy: 0.9425, Testing Accuracy: 0.9567\n",
      "\n"
     ]
    },
    {
     "name": "stdout",
     "output_type": "stream",
     "text": [
      "Epoch 60, Loss 0.0546\n",
      "Training Accuracy: 0.9451, Testing Accuracy: 0.9582\n",
      "\n"
     ]
    },
    {
     "name": "stdout",
     "output_type": "stream",
     "text": [
      "Epoch 70, Loss 0.0519\n",
      "Training Accuracy: 0.9468, Testing Accuracy: 0.9587\n",
      "\n"
     ]
    },
    {
     "name": "stdout",
     "output_type": "stream",
     "text": [
      "Epoch 80, Loss 0.0498\n",
      "Training Accuracy: 0.9492, Testing Accuracy: 0.9592\n",
      "\n"
     ]
    },
    {
     "name": "stdout",
     "output_type": "stream",
     "text": [
      "Epoch 90, Loss 0.0481\n",
      "Training Accuracy: 0.9506, Testing Accuracy: 0.9602\n",
      "\n"
     ]
    },
    {
     "name": "stdout",
     "output_type": "stream",
     "text": [
      "Epoch 100, Loss 0.0466\n",
      "Training Accuracy: 0.9524, Testing Accuracy: 0.9612\n",
      "\n"
     ]
    },
    {
     "name": "stdout",
     "output_type": "stream",
     "text": [
      "Epoch 110, Loss 0.0453\n",
      "Training Accuracy: 0.9538, Testing Accuracy: 0.9622\n",
      "\n"
     ]
    },
    {
     "name": "stdout",
     "output_type": "stream",
     "text": [
      "Epoch 120, Loss 0.0442\n",
      "Training Accuracy: 0.9549, Testing Accuracy: 0.9632\n",
      "\n"
     ]
    },
    {
     "name": "stdout",
     "output_type": "stream",
     "text": [
      "Epoch 130, Loss 0.0433\n",
      "Training Accuracy: 0.9558, Testing Accuracy: 0.9642\n",
      "\n"
     ]
    },
    {
     "name": "stdout",
     "output_type": "stream",
     "text": [
      "Epoch 140, Loss 0.0424\n",
      "Training Accuracy: 0.9567, Testing Accuracy: 0.9667\n",
      "\n"
     ]
    },
    {
     "name": "stdout",
     "output_type": "stream",
     "text": [
      "Epoch 150, Loss 0.0416\n",
      "Training Accuracy: 0.9573, Testing Accuracy: 0.9667\n",
      "\n"
     ]
    },
    {
     "name": "stdout",
     "output_type": "stream",
     "text": [
      "Epoch 160, Loss 0.041\n",
      "Training Accuracy: 0.9574, Testing Accuracy: 0.9672\n",
      "\n"
     ]
    },
    {
     "name": "stdout",
     "output_type": "stream",
     "text": [
      "Epoch 170, Loss 0.0403\n",
      "Training Accuracy: 0.9577, Testing Accuracy: 0.9677\n",
      "\n"
     ]
    },
    {
     "name": "stdout",
     "output_type": "stream",
     "text": [
      "Epoch 180, Loss 0.0397\n",
      "Training Accuracy: 0.9581, Testing Accuracy: 0.9677\n",
      "\n"
     ]
    },
    {
     "name": "stdout",
     "output_type": "stream",
     "text": [
      "Epoch 190, Loss 0.0392\n",
      "Training Accuracy: 0.9584, Testing Accuracy: 0.9682\n",
      "\n"
     ]
    },
    {
     "name": "stdout",
     "output_type": "stream",
     "text": [
      "Epoch 200, Loss 0.0387\n",
      "Training Accuracy: 0.9592, Testing Accuracy: 0.9682\n",
      "\n"
     ]
    },
    {
     "name": "stdout",
     "output_type": "stream",
     "text": [
      "Epoch 210, Loss 0.0383\n",
      "Training Accuracy: 0.9596, Testing Accuracy: 0.9677\n",
      "\n"
     ]
    },
    {
     "name": "stdout",
     "output_type": "stream",
     "text": [
      "Epoch 220, Loss 0.0378\n",
      "Training Accuracy: 0.9598, Testing Accuracy: 0.9677\n",
      "\n"
     ]
    },
    {
     "name": "stdout",
     "output_type": "stream",
     "text": [
      "Epoch 230, Loss 0.0374\n",
      "Training Accuracy: 0.9600, Testing Accuracy: 0.9677\n",
      "\n"
     ]
    },
    {
     "name": "stdout",
     "output_type": "stream",
     "text": [
      "Epoch 240, Loss 0.0371\n",
      "Training Accuracy: 0.9603, Testing Accuracy: 0.9682\n",
      "\n"
     ]
    },
    {
     "name": "stdout",
     "output_type": "stream",
     "text": [
      "Epoch 250, Loss 0.0367\n",
      "Training Accuracy: 0.9609, Testing Accuracy: 0.9682\n",
      "\n"
     ]
    },
    {
     "data": {
      "text/plain": [
       "0.007813209893962498"
      ]
     },
     "execution_count": 22,
     "metadata": {},
     "output_type": "execute_result"
    }
   ],
   "source": [
    "print(\"====== Logistic Regression ======\")\n",
    "learner_lr.train_loop(dl)"
   ]
  },
  {
   "cell_type": "markdown",
   "metadata": {
    "papermill": {
     "duration": 0.042186,
     "end_time": "2020-08-29T00:13:03.568820",
     "exception": false,
     "start_time": "2020-08-29T00:13:03.526634",
     "status": "completed"
    },
    "tags": []
   },
   "source": [
    "### Comparing results of NN and LR"
   ]
  },
  {
   "cell_type": "code",
   "execution_count": 23,
   "metadata": {
    "execution": {
     "iopub.execute_input": "2020-08-29T00:13:03.658944Z",
     "iopub.status.busy": "2020-08-29T00:13:03.657726Z",
     "iopub.status.idle": "2020-08-29T00:13:03.885525Z",
     "shell.execute_reply": "2020-08-29T00:13:03.885080Z"
    },
    "papermill": {
     "duration": 0.274921,
     "end_time": "2020-08-29T00:13:03.885638",
     "exception": false,
     "start_time": "2020-08-29T00:13:03.610717",
     "status": "completed"
    },
    "tags": []
   },
   "outputs": [
    {
     "data": {
      "text/plain": [
       "<matplotlib.legend.Legend at 0x7f410d3ff2b0>"
      ]
     },
     "execution_count": 23,
     "metadata": {},
     "output_type": "execute_result"
    },
    {
     "data": {
      "image/png": "[encoded data removed]",
      "text/plain": [
       "<Figure size 1080x720 with 1 Axes>"
      ]
     },
     "metadata": {
      "needs_background": "light"
     },
     "output_type": "display_data"
    }
   ],
   "source": [
    "plt.figure(figsize=(15,10))\n",
    "\n",
    "# Neural Network plots\n",
    "plt.plot(acc_nn.accuracies, 'r-', label = \"Training Accuracies - NN\")\n",
    "plt.plot(acc_nn.test_accuracies, 'g-', label = \"Testing Accuracies - NN\")\n",
    "\n",
    "# Logistic Regression plots\n",
    "plt.plot(acc_lr.accuracies, 'k-', label = \"Training Accuracies - LR\")\n",
    "plt.plot(acc_lr.test_accuracies, 'b-', label = \"Testing Accuracies - LR\")\n",
    "\n",
    "plt.ylim(0.8, 1)\n",
    "\n",
    "plt.legend()\n",
    "\n"
   ]
  },
  {
   "cell_type": "markdown",
   "metadata": {
    "papermill": {
     "duration": 0.041632,
     "end_time": "2020-08-29T00:13:03.969228",
     "exception": false,
     "start_time": "2020-08-29T00:13:03.927596",
     "status": "completed"
    },
    "tags": []
   },
   "source": [
    "### From the plot, we can observe the following:\n",
    "- Neural Network achieves higher accuracy than the Logistic Regression model.\n",
    "- This apparently, is because of overfitting, i.e. NN captures more noise than data.\n",
    "- Testing accuracy of NN drops below the Training accuracy at higher epochs. This explains the over-fitting on training data.\n",
    "- Logistic Regression gives a reliable accuracy, without the above mentioned problem.\n"
   ]
  },
  {
   "cell_type": "markdown",
   "metadata": {
    "papermill": {
     "duration": 0.04352,
     "end_time": "2020-08-29T00:13:04.057032",
     "exception": false,
     "start_time": "2020-08-29T00:13:04.013512",
     "status": "completed"
    },
    "tags": []
   },
   "source": [
    "### Moving till the last but one layer (excluding it).\n",
    "#### Plotting the outputs of this layer of the NN."
   ]
  },
  {
   "cell_type": "code",
   "execution_count": 24,
   "metadata": {
    "execution": {
     "iopub.execute_input": "2020-08-29T00:13:04.151580Z",
     "iopub.status.busy": "2020-08-29T00:13:04.150765Z",
     "iopub.status.idle": "2020-08-29T00:13:04.162700Z",
     "shell.execute_reply": "2020-08-29T00:13:04.162137Z"
    },
    "papermill": {
     "duration": 0.05859,
     "end_time": "2020-08-29T00:13:04.162815",
     "exception": false,
     "start_time": "2020-08-29T00:13:04.104225",
     "status": "completed"
    },
    "tags": []
   },
   "outputs": [],
   "source": [
    "model_new = Model(layers[:-2])"
   ]
  },
  {
   "cell_type": "code",
   "execution_count": 25,
   "metadata": {
    "execution": {
     "iopub.execute_input": "2020-08-29T00:13:04.250727Z",
     "iopub.status.busy": "2020-08-29T00:13:04.250257Z",
     "iopub.status.idle": "2020-08-29T00:13:04.269341Z",
     "shell.execute_reply": "2020-08-29T00:13:04.269837Z"
    },
    "papermill": {
     "duration": 0.065065,
     "end_time": "2020-08-29T00:13:04.270141",
     "exception": false,
     "start_time": "2020-08-29T00:13:04.205076",
     "status": "completed"
    },
    "tags": []
   },
   "outputs": [],
   "source": [
    "plot_testing = model_new(testing_xdata)"
   ]
  },
  {
   "cell_type": "code",
   "execution_count": 26,
   "metadata": {
    "execution": {
     "iopub.execute_input": "2020-08-29T00:13:04.371745Z",
     "iopub.status.busy": "2020-08-29T00:13:04.371147Z",
     "iopub.status.idle": "2020-08-29T00:13:04.572668Z",
     "shell.execute_reply": "2020-08-29T00:13:04.573110Z"
    },
    "papermill": {
     "duration": 0.257948,
     "end_time": "2020-08-29T00:13:04.573257",
     "exception": false,
     "start_time": "2020-08-29T00:13:04.315309",
     "status": "completed"
    },
    "tags": []
   },
   "outputs": [
    {
     "data": {
      "text/plain": [
       "Text(0.5, 1.0, 'Outputs')"
      ]
     },
     "execution_count": 26,
     "metadata": {},
     "output_type": "execute_result"
    },
    {
     "data": {
      "image/png": "[encoded data removed]",
      "text/plain": [
       "<Figure size 576x504 with 1 Axes>"
      ]
     },
     "metadata": {
      "needs_background": "light"
     },
     "output_type": "display_data"
    }
   ],
   "source": [
    "plt.figure(figsize=(8,7))\n",
    "plt.scatter(plot_testing[:,0], plot_testing[:,1], alpha = 0.1, c = y_test.ravel());\n",
    "plt.title('Outputs')"
   ]
  },
  {
   "cell_type": "markdown",
   "metadata": {
    "papermill": {
     "duration": 0.044166,
     "end_time": "2020-08-29T00:13:04.662035",
     "exception": false,
     "start_time": "2020-08-29T00:13:04.617869",
     "status": "completed"
    },
    "tags": []
   },
   "source": [
    "### Plotting probability contours"
   ]
  },
  {
   "cell_type": "code",
   "execution_count": 27,
   "metadata": {
    "execution": {
     "iopub.execute_input": "2020-08-29T00:13:04.752764Z",
     "iopub.status.busy": "2020-08-29T00:13:04.752288Z",
     "iopub.status.idle": "2020-08-29T00:13:04.765696Z",
     "shell.execute_reply": "2020-08-29T00:13:04.764827Z"
    },
    "papermill": {
     "duration": 0.059659,
     "end_time": "2020-08-29T00:13:04.765827",
     "exception": false,
     "start_time": "2020-08-29T00:13:04.706168",
     "status": "completed"
    },
    "tags": []
   },
   "outputs": [],
   "source": [
    "model_prob = Model(layers[-2:]) "
   ]
  },
  {
   "cell_type": "code",
   "execution_count": 28,
   "metadata": {
    "execution": {
     "iopub.execute_input": "2020-08-29T00:13:04.866236Z",
     "iopub.status.busy": "2020-08-29T00:13:04.865703Z",
     "iopub.status.idle": "2020-08-29T00:13:04.878757Z",
     "shell.execute_reply": "2020-08-29T00:13:04.879204Z"
    },
    "papermill": {
     "duration": 0.067101,
     "end_time": "2020-08-29T00:13:04.879430",
     "exception": false,
     "start_time": "2020-08-29T00:13:04.812329",
     "status": "completed"
    },
    "tags": []
   },
   "outputs": [],
   "source": [
    "# Adjust the x and y ranges according to the above generated plot.\n",
    "x_range = np.linspace(-4, 1, 100) \n",
    "y_range = np.linspace(-6, 6, 100) \n",
    "x_grid, y_grid = np.meshgrid(x_range, y_range) # x_grid and y_grig are of size 100 X 100\n",
    "\n",
    "# converting x_grid and y_grid to continuous arrays\n",
    "x_grid_flat = np.ravel(x_grid)\n",
    "y_grid_flat = np.ravel(y_grid)\n",
    "\n",
    "# The last layer of the current model takes two columns as input. Hence transpose of np.vstack() is required.\n",
    "X = np.vstack((x_grid_flat, y_grid_flat)).T\n",
    "\n",
    "# x_grid and y_grid are of size 100 x 100\n",
    "probability_contour = model_prob(X).reshape(100,100) "
   ]
  },
  {
   "cell_type": "code",
   "execution_count": 29,
   "metadata": {
    "execution": {
     "iopub.execute_input": "2020-08-29T00:13:04.983511Z",
     "iopub.status.busy": "2020-08-29T00:13:04.982874Z",
     "iopub.status.idle": "2020-08-29T00:13:05.225689Z",
     "shell.execute_reply": "2020-08-29T00:13:05.224859Z"
    },
    "papermill": {
     "duration": 0.298464,
     "end_time": "2020-08-29T00:13:05.225826",
     "exception": false,
     "start_time": "2020-08-29T00:13:04.927362",
     "status": "completed"
    },
    "tags": []
   },
   "outputs": [
    {
     "data": {
      "image/png": "[encoded data removed]",
      "text/plain": [
       "<Figure size 720x648 with 1 Axes>"
      ]
     },
     "metadata": {
      "needs_background": "light"
     },
     "output_type": "display_data"
    }
   ],
   "source": [
    "plt.figure(figsize=(10,9))\n",
    "plt.scatter(plot_testing[:,0], plot_testing[:,1], alpha = 0.1, c = y_test.ravel())\n",
    "contours = plt.contour(x_grid,y_grid,probability_contour)\n",
    "plt.title('Probability Contours')\n",
    "plt.clabel(contours, inline = True );"
   ]
  }
 ],
 "metadata": {
  "kernelspec": {
   "display_name": "Python 3",
   "language": "python",
   "name": "python3"
  },
  "language_info": {
   "codemirror_mode": {
    "name": "ipython",
    "version": 3
   },
   "file_extension": ".py",
   "mimetype": "text/x-python",
   "name": "python",
   "nbconvert_exporter": "python",
   "pygments_lexer": "ipython3",
   "version": "3.6.11"
  },
  "papermill": {
   "duration": 106.737754,
   "end_time": "2020-08-29T00:13:05.581036",
   "environment_variables": {},
   "exception": null,
   "input_path": "2020-08-11-NeuralNetwork.ipynb",
   "output_path": "2020-08-11-NeuralNetwork.ipynb",
   "parameters": {},
   "start_time": "2020-08-29T00:11:18.843282",
   "version": "2.1.2"
  }
 },
 "nbformat": 4,
 "nbformat_minor": 4
}