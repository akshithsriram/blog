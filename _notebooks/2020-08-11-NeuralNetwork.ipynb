{
 "cells": [
  {
   "cell_type": "markdown",
   "metadata": {
    "papermill": {
     "duration": 0.034579,
     "end_time": "2020-11-11T20:03:55.682403",
     "exception": false,
     "start_time": "2020-11-11T20:03:55.647824",
     "status": "completed"
    },
    "tags": []
   },
   "source": [
    "# \"A Basic Neural Network: Differentiate Hand-Written Digits\"\n",
    "\n",
    "- badges: true\n",
    "- author: Akshith Sriram"
   ]
  },
  {
   "cell_type": "markdown",
   "metadata": {
    "papermill": {
     "duration": 0.025538,
     "end_time": "2020-11-11T20:03:55.734455",
     "exception": false,
     "start_time": "2020-11-11T20:03:55.708917",
     "status": "completed"
    },
    "tags": []
   },
   "source": [
    "### Key Objectives:\n",
    "- Building a neural network that differentiates two hand-written digits 3 and 8.\n",
    "- Comparing the results of this Neural Network (NN) to that of a Logistic Regression (LR) model.\n",
    "\n",
    "### Requirements:\n",
    "- 'Kudzu' : A neural network library that was designed during our course by [Univ.AI](www.univ.ai). \n",
    "- MNIST Database\n",
    "\n",
    "If MNIST is not installed, use the command `!pip install mnist` given below.\n",
    "It can be run both from the command line and Jupyter Notebook."
   ]
  },
  {
   "cell_type": "code",
   "execution_count": 1,
   "metadata": {
    "execution": {
     "iopub.execute_input": "2020-11-11T20:03:55.790205Z",
     "iopub.status.busy": "2020-11-11T20:03:55.789605Z",
     "iopub.status.idle": "2020-11-11T20:03:57.238711Z",
     "shell.execute_reply": "2020-11-11T20:03:57.239298Z"
    },
    "papermill": {
     "duration": 1.480468,
     "end_time": "2020-11-11T20:03:57.239508",
     "exception": false,
     "start_time": "2020-11-11T20:03:55.759040",
     "status": "completed"
    },
    "tags": []
   },
   "outputs": [
    {
     "name": "stdout",
     "output_type": "stream",
     "text": [
      "Collecting mnist\r\n"
     ]
    },
    {
     "name": "stdout",
     "output_type": "stream",
     "text": [
      "  Downloading mnist-0.2.2-py2.py3-none-any.whl (3.5 kB)\r\n",
      "Requirement already satisfied: numpy in /opt/hostedtoolcache/Python/3.6.12/x64/lib/python3.6/site-packages (from mnist) (1.19.4)\r\n"
     ]
    },
    {
     "name": "stdout",
     "output_type": "stream",
     "text": [
      "Installing collected packages: mnist\r\n"
     ]
    },
    {
     "name": "stdout",
     "output_type": "stream",
     "text": [
      "Successfully installed mnist-0.2.2\r\n"
     ]
    }
   ],
   "source": [
    "!pip install mnist "
   ]
  },
  {
   "cell_type": "markdown",
   "metadata": {
    "papermill": {
     "duration": 0.026232,
     "end_time": "2020-11-11T20:03:57.292762",
     "exception": false,
     "start_time": "2020-11-11T20:03:57.266530",
     "status": "completed"
    },
    "tags": []
   },
   "source": [
    "#### Importing necessary libraries"
   ]
  },
  {
   "cell_type": "code",
   "execution_count": 2,
   "metadata": {
    "execution": {
     "iopub.execute_input": "2020-11-11T20:03:57.355911Z",
     "iopub.status.busy": "2020-11-11T20:03:57.355297Z",
     "iopub.status.idle": "2020-11-11T20:03:57.956270Z",
     "shell.execute_reply": "2020-11-11T20:03:57.955730Z"
    },
    "papermill": {
     "duration": 0.636269,
     "end_time": "2020-11-11T20:03:57.956418",
     "exception": false,
     "start_time": "2020-11-11T20:03:57.320149",
     "status": "completed"
    },
    "tags": []
   },
   "outputs": [],
   "source": [
    "%load_ext autoreload\n",
    "%autoreload 2\n",
    "\n",
    "%matplotlib inline\n",
    "import matplotlib.pyplot as plt\n",
    "\n",
    "import numpy as np\n",
    "import pandas as pd"
   ]
  },
  {
   "cell_type": "markdown",
   "metadata": {
    "papermill": {
     "duration": 0.026847,
     "end_time": "2020-11-11T20:03:58.015950",
     "exception": false,
     "start_time": "2020-11-11T20:03:57.989103",
     "status": "completed"
    },
    "tags": []
   },
   "source": [
    "### Preparing the Data"
   ]
  },
  {
   "cell_type": "code",
   "execution_count": 3,
   "metadata": {
    "execution": {
     "iopub.execute_input": "2020-11-11T20:03:58.074533Z",
     "iopub.status.busy": "2020-11-11T20:03:58.073940Z",
     "iopub.status.idle": "2020-11-11T20:03:58.087530Z",
     "shell.execute_reply": "2020-11-11T20:03:58.088039Z"
    },
    "papermill": {
     "duration": 0.045809,
     "end_time": "2020-11-11T20:03:58.088186",
     "exception": false,
     "start_time": "2020-11-11T20:03:58.042377",
     "status": "completed"
    },
    "tags": []
   },
   "outputs": [],
   "source": [
    "import mnist"
   ]
  },
  {
   "cell_type": "code",
   "execution_count": 4,
   "metadata": {
    "execution": {
     "iopub.execute_input": "2020-11-11T20:03:58.145275Z",
     "iopub.status.busy": "2020-11-11T20:03:58.144690Z",
     "iopub.status.idle": "2020-11-11T20:03:58.930480Z",
     "shell.execute_reply": "2020-11-11T20:03:58.929447Z"
    },
    "papermill": {
     "duration": 0.816176,
     "end_time": "2020-11-11T20:03:58.930723",
     "exception": false,
     "start_time": "2020-11-11T20:03:58.114547",
     "status": "completed"
    },
    "tags": []
   },
   "outputs": [],
   "source": [
    "train_images = mnist.train_images()\n",
    "train_labels = mnist.train_labels()"
   ]
  },
  {
   "cell_type": "code",
   "execution_count": 5,
   "metadata": {
    "execution": {
     "iopub.execute_input": "2020-11-11T20:03:58.988349Z",
     "iopub.status.busy": "2020-11-11T20:03:58.987767Z",
     "iopub.status.idle": "2020-11-11T20:03:59.004987Z",
     "shell.execute_reply": "2020-11-11T20:03:59.005433Z"
    },
    "papermill": {
     "duration": 0.048116,
     "end_time": "2020-11-11T20:03:59.005580",
     "exception": false,
     "start_time": "2020-11-11T20:03:58.957464",
     "status": "completed"
    },
    "tags": []
   },
   "outputs": [
    {
     "data": {
      "text/plain": [
       "((60000, 28, 28), (60000,))"
      ]
     },
     "execution_count": 5,
     "metadata": {},
     "output_type": "execute_result"
    }
   ],
   "source": [
    "train_images.shape, train_labels.shape"
   ]
  },
  {
   "cell_type": "code",
   "execution_count": 6,
   "metadata": {
    "execution": {
     "iopub.execute_input": "2020-11-11T20:03:59.061608Z",
     "iopub.status.busy": "2020-11-11T20:03:59.061065Z",
     "iopub.status.idle": "2020-11-11T20:03:59.458997Z",
     "shell.execute_reply": "2020-11-11T20:03:59.458111Z"
    },
    "papermill": {
     "duration": 0.427463,
     "end_time": "2020-11-11T20:03:59.459263",
     "exception": false,
     "start_time": "2020-11-11T20:03:59.031800",
     "status": "completed"
    },
    "tags": []
   },
   "outputs": [],
   "source": [
    "test_images = mnist.test_images()\n",
    "test_labels = mnist.test_labels()"
   ]
  },
  {
   "cell_type": "code",
   "execution_count": 7,
   "metadata": {
    "execution": {
     "iopub.execute_input": "2020-11-11T20:03:59.523471Z",
     "iopub.status.busy": "2020-11-11T20:03:59.522844Z",
     "iopub.status.idle": "2020-11-11T20:03:59.536402Z",
     "shell.execute_reply": "2020-11-11T20:03:59.536980Z"
    },
    "papermill": {
     "duration": 0.045615,
     "end_time": "2020-11-11T20:03:59.537133",
     "exception": false,
     "start_time": "2020-11-11T20:03:59.491518",
     "status": "completed"
    },
    "tags": []
   },
   "outputs": [
    {
     "data": {
      "text/plain": [
       "((10000, 28, 28), (10000,))"
      ]
     },
     "execution_count": 7,
     "metadata": {},
     "output_type": "execute_result"
    }
   ],
   "source": [
    "test_images.shape, test_labels.shape"
   ]
  },
  {
   "cell_type": "code",
   "execution_count": 8,
   "metadata": {
    "execution": {
     "iopub.execute_input": "2020-11-11T20:03:59.919350Z",
     "iopub.status.busy": "2020-11-11T20:03:59.918536Z",
     "iopub.status.idle": "2020-11-11T20:04:00.075682Z",
     "shell.execute_reply": "2020-11-11T20:04:00.076239Z"
    },
    "papermill": {
     "duration": 0.506505,
     "end_time": "2020-11-11T20:04:00.076488",
     "exception": false,
     "start_time": "2020-11-11T20:03:59.569983",
     "status": "completed"
    },
    "tags": []
   },
   "outputs": [
    {
     "name": "stdout",
     "output_type": "stream",
     "text": [
      "2\n"
     ]
    },
    {
     "data": {
      "text/plain": [
       "<matplotlib.image.AxesImage at 0x7f5bad6c6470>"
      ]
     },
     "execution_count": 8,
     "metadata": {},
     "output_type": "execute_result"
    },
    {
     "data": {
      "image/png": "[encoded data removed]",
      "text/plain": [
       "<Figure size 432x288 with 1 Axes>"
      ]
     },
     "metadata": {
      "needs_background": "light"
     },
     "output_type": "display_data"
    }
   ],
   "source": [
    "image_index = 7776 # You may select anything up to 60,000\n",
    "print(train_labels[image_index]) \n",
    "plt.imshow(train_images[image_index], cmap='Greys')"
   ]
  },
  {
   "cell_type": "markdown",
   "metadata": {
    "papermill": {
     "duration": 0.047703,
     "end_time": "2020-11-11T20:04:00.157820",
     "exception": false,
     "start_time": "2020-11-11T20:04:00.110117",
     "status": "completed"
    },
    "tags": []
   },
   "source": [
    "## Filter data to get 3 and 8 out"
   ]
  },
  {
   "cell_type": "code",
   "execution_count": 9,
   "metadata": {
    "execution": {
     "iopub.execute_input": "2020-11-11T20:04:00.221979Z",
     "iopub.status.busy": "2020-11-11T20:04:00.221386Z",
     "iopub.status.idle": "2020-11-11T20:04:00.241995Z",
     "shell.execute_reply": "2020-11-11T20:04:00.241496Z"
    },
    "papermill": {
     "duration": 0.055791,
     "end_time": "2020-11-11T20:04:00.242122",
     "exception": false,
     "start_time": "2020-11-11T20:04:00.186331",
     "status": "completed"
    },
    "tags": []
   },
   "outputs": [],
   "source": [
    "train_filter = np.where((train_labels == 3 ) | (train_labels == 8))\n",
    "test_filter = np.where((test_labels == 3) | (test_labels == 8))\n",
    "X_train, y_train = train_images[train_filter], train_labels[train_filter]\n",
    "X_test, y_test = test_images[test_filter], test_labels[test_filter]"
   ]
  },
  {
   "cell_type": "markdown",
   "metadata": {
    "papermill": {
     "duration": 0.028603,
     "end_time": "2020-11-11T20:04:00.299664",
     "exception": false,
     "start_time": "2020-11-11T20:04:00.271061",
     "status": "completed"
    },
    "tags": []
   },
   "source": [
    "We normalize the pixel values in the 0 to 1 range"
   ]
  },
  {
   "cell_type": "code",
   "execution_count": 10,
   "metadata": {
    "execution": {
     "iopub.execute_input": "2020-11-11T20:04:00.361168Z",
     "iopub.status.busy": "2020-11-11T20:04:00.360528Z",
     "iopub.status.idle": "2020-11-11T20:04:00.420570Z",
     "shell.execute_reply": "2020-11-11T20:04:00.419576Z"
    },
    "papermill": {
     "duration": 0.093019,
     "end_time": "2020-11-11T20:04:00.420815",
     "exception": false,
     "start_time": "2020-11-11T20:04:00.327796",
     "status": "completed"
    },
    "tags": []
   },
   "outputs": [],
   "source": [
    "X_train = X_train/255.\n",
    "X_test = X_test/255."
   ]
  },
  {
   "cell_type": "markdown",
   "metadata": {
    "papermill": {
     "duration": 0.029222,
     "end_time": "2020-11-11T20:04:00.480108",
     "exception": false,
     "start_time": "2020-11-11T20:04:00.450886",
     "status": "completed"
    },
    "tags": []
   },
   "source": [
    "Setup the labels as 1 (when the digit is 3) and 0 (when the digit is 8)"
   ]
  },
  {
   "cell_type": "code",
   "execution_count": 11,
   "metadata": {
    "execution": {
     "iopub.execute_input": "2020-11-11T20:04:00.557387Z",
     "iopub.status.busy": "2020-11-11T20:04:00.556280Z",
     "iopub.status.idle": "2020-11-11T20:04:00.566221Z",
     "shell.execute_reply": "2020-11-11T20:04:00.565750Z"
    },
    "papermill": {
     "duration": 0.053285,
     "end_time": "2020-11-11T20:04:00.566350",
     "exception": false,
     "start_time": "2020-11-11T20:04:00.513065",
     "status": "completed"
    },
    "tags": []
   },
   "outputs": [],
   "source": [
    "y_train = 1*(y_train==3)\n",
    "y_test = 1*(y_test==3)"
   ]
  },
  {
   "cell_type": "code",
   "execution_count": 12,
   "metadata": {
    "execution": {
     "iopub.execute_input": "2020-11-11T20:04:00.630548Z",
     "iopub.status.busy": "2020-11-11T20:04:00.629907Z",
     "iopub.status.idle": "2020-11-11T20:04:00.648185Z",
     "shell.execute_reply": "2020-11-11T20:04:00.647691Z"
    },
    "papermill": {
     "duration": 0.05039,
     "end_time": "2020-11-11T20:04:00.648309",
     "exception": false,
     "start_time": "2020-11-11T20:04:00.597919",
     "status": "completed"
    },
    "tags": []
   },
   "outputs": [
    {
     "data": {
      "text/plain": [
       "((11982, 28, 28), (1984, 28, 28))"
      ]
     },
     "execution_count": 12,
     "metadata": {},
     "output_type": "execute_result"
    }
   ],
   "source": [
    "X_train.shape, X_test.shape"
   ]
  },
  {
   "cell_type": "markdown",
   "metadata": {
    "papermill": {
     "duration": 0.03268,
     "end_time": "2020-11-11T20:04:00.708831",
     "exception": false,
     "start_time": "2020-11-11T20:04:00.676151",
     "status": "completed"
    },
    "tags": []
   },
   "source": [
    "### Reshape the input data to create a linear array"
   ]
  },
  {
   "cell_type": "code",
   "execution_count": 13,
   "metadata": {
    "execution": {
     "iopub.execute_input": "2020-11-11T20:04:00.772547Z",
     "iopub.status.busy": "2020-11-11T20:04:00.771889Z",
     "iopub.status.idle": "2020-11-11T20:04:00.787378Z",
     "shell.execute_reply": "2020-11-11T20:04:00.786881Z"
    },
    "papermill": {
     "duration": 0.047845,
     "end_time": "2020-11-11T20:04:00.787508",
     "exception": false,
     "start_time": "2020-11-11T20:04:00.739663",
     "status": "completed"
    },
    "tags": []
   },
   "outputs": [
    {
     "data": {
      "text/plain": [
       "((11982, 784), (1984, 784))"
      ]
     },
     "execution_count": 13,
     "metadata": {},
     "output_type": "execute_result"
    }
   ],
   "source": [
    "X_train = X_train.reshape(X_train.shape[0], -1)\n",
    "X_test = X_test.reshape(X_test.shape[0], -1)\n",
    "X_train.shape, X_test.shape"
   ]
  },
  {
   "cell_type": "markdown",
   "metadata": {
    "papermill": {
     "duration": 0.030628,
     "end_time": "2020-11-11T20:04:00.849331",
     "exception": false,
     "start_time": "2020-11-11T20:04:00.818703",
     "status": "completed"
    },
    "tags": []
   },
   "source": [
    "### Importing appropriate functions from 'Kudzu'"
   ]
  },
  {
   "cell_type": "code",
   "execution_count": 14,
   "metadata": {
    "execution": {
     "iopub.execute_input": "2020-11-11T20:04:00.917848Z",
     "iopub.status.busy": "2020-11-11T20:04:00.917254Z",
     "iopub.status.idle": "2020-11-11T20:04:00.937475Z",
     "shell.execute_reply": "2020-11-11T20:04:00.936707Z"
    },
    "papermill": {
     "duration": 0.059237,
     "end_time": "2020-11-11T20:04:00.937696",
     "exception": false,
     "start_time": "2020-11-11T20:04:00.878459",
     "status": "completed"
    },
    "tags": []
   },
   "outputs": [],
   "source": [
    "from kudzu.layer import Sigmoid\n",
    "from kudzu.layer import Relu\n",
    "from kudzu.layer import Affine, Sigmoid\n",
    "\n",
    "from kudzu.model import Model\n",
    "from kudzu.train import Learner\n",
    "from kudzu.optim import GD\n",
    "from kudzu.data import Data, Dataloader, Sampler\n",
    "\n",
    "from kudzu.callbacks import AccCallback\n",
    "from kudzu.callbacks import ClfCallback\n",
    "\n",
    "from kudzu.loss import MSE"
   ]
  },
  {
   "cell_type": "markdown",
   "metadata": {
    "papermill": {
     "duration": 0.030026,
     "end_time": "2020-11-11T20:04:00.997739",
     "exception": false,
     "start_time": "2020-11-11T20:04:00.967713",
     "status": "completed"
    },
    "tags": []
   },
   "source": [
    "### Let us create a `Config` class, to store important parameters. \n",
    "This class essentially plays the role of a dictionary."
   ]
  },
  {
   "cell_type": "code",
   "execution_count": 15,
   "metadata": {
    "execution": {
     "iopub.execute_input": "2020-11-11T20:04:01.062263Z",
     "iopub.status.busy": "2020-11-11T20:04:01.061670Z",
     "iopub.status.idle": "2020-11-11T20:04:01.077180Z",
     "shell.execute_reply": "2020-11-11T20:04:01.076694Z"
    },
    "papermill": {
     "duration": 0.049536,
     "end_time": "2020-11-11T20:04:01.077309",
     "exception": false,
     "start_time": "2020-11-11T20:04:01.027773",
     "status": "completed"
    },
    "tags": []
   },
   "outputs": [],
   "source": [
    "class Config:\n",
    "    pass\n",
    "config = Config()\n",
    "config.lr = 0.001\n",
    "config.num_epochs = 251\n",
    "config.bs = 50"
   ]
  },
  {
   "cell_type": "markdown",
   "metadata": {
    "papermill": {
     "duration": 0.028987,
     "end_time": "2020-11-11T20:04:01.136819",
     "exception": false,
     "start_time": "2020-11-11T20:04:01.107832",
     "status": "completed"
    },
    "tags": []
   },
   "source": [
    "### Initializing data to the variables"
   ]
  },
  {
   "cell_type": "code",
   "execution_count": 16,
   "metadata": {
    "execution": {
     "iopub.execute_input": "2020-11-11T20:04:01.212648Z",
     "iopub.status.busy": "2020-11-11T20:04:01.212055Z",
     "iopub.status.idle": "2020-11-11T20:04:01.220531Z",
     "shell.execute_reply": "2020-11-11T20:04:01.220062Z"
    },
    "papermill": {
     "duration": 0.053631,
     "end_time": "2020-11-11T20:04:01.220656",
     "exception": false,
     "start_time": "2020-11-11T20:04:01.167025",
     "status": "completed"
    },
    "tags": []
   },
   "outputs": [],
   "source": [
    "data = Data(X_train, y_train.reshape(-1,1))\n",
    "sampler = Sampler(data, config.bs, shuffle=True)\n",
    "\n",
    "dl = Dataloader(data, sampler)\n",
    "\n",
    "opt = GD(config.lr)\n",
    "loss = MSE()"
   ]
  },
  {
   "cell_type": "code",
   "execution_count": 17,
   "metadata": {
    "execution": {
     "iopub.execute_input": "2020-11-11T20:04:01.283510Z",
     "iopub.status.busy": "2020-11-11T20:04:01.282876Z",
     "iopub.status.idle": "2020-11-11T20:04:01.296243Z",
     "shell.execute_reply": "2020-11-11T20:04:01.295760Z"
    },
    "papermill": {
     "duration": 0.045736,
     "end_time": "2020-11-11T20:04:01.296375",
     "exception": false,
     "start_time": "2020-11-11T20:04:01.250639",
     "status": "completed"
    },
    "tags": []
   },
   "outputs": [],
   "source": [
    "training_xdata = X_train\n",
    "testing_xdata = X_test\n",
    "training_ydata = y_train.reshape(-1,1)\n",
    "testing_ydata = y_test.reshape(-1,1)"
   ]
  },
  {
   "cell_type": "markdown",
   "metadata": {
    "papermill": {
     "duration": 0.03079,
     "end_time": "2020-11-11T20:04:01.356672",
     "exception": false,
     "start_time": "2020-11-11T20:04:01.325882",
     "status": "completed"
    },
    "tags": []
   },
   "source": [
    "### Running Models with the Training data\n",
    "Details about the network layers:\n",
    "- A first affine layer has 784 inputs and does 100 affine transforms. These are followed by a Relu\n",
    "- A second affine layer has 100 inputs from the 100 activations of the past layer, and does 100 affine transforms. These are followed by a Relu\n",
    "- A third affine layer has 100 activations and does 2 affine transformations to create an embedding for visualization. There is no non-linearity here.\n",
    "- A final \"logistic regression\" which has an affine transform from 2 inputs to 1 output, which is squeezed through a sigmoid.\n",
    "\n",
    "Help taken from Anshuman's Notebook."
   ]
  },
  {
   "cell_type": "code",
   "execution_count": 18,
   "metadata": {
    "execution": {
     "iopub.execute_input": "2020-11-11T20:04:01.419730Z",
     "iopub.status.busy": "2020-11-11T20:04:01.419104Z",
     "iopub.status.idle": "2020-11-11T20:04:01.438321Z",
     "shell.execute_reply": "2020-11-11T20:04:01.438821Z"
    },
    "papermill": {
     "duration": 0.05377,
     "end_time": "2020-11-11T20:04:01.438963",
     "exception": false,
     "start_time": "2020-11-11T20:04:01.385193",
     "status": "completed"
    },
    "tags": []
   },
   "outputs": [],
   "source": [
    "# layers for the Neural Network\n",
    "layers = [Affine(\"first\", 784, 100), Relu(\"first\"), Affine(\"second\", 100, 100), Relu(\"second\"), Affine(\"third\", 100, 2), Affine(\"final\", 2, 1), Sigmoid(\"final\")]\n",
    "model_nn = Model(layers)\n",
    "\n",
    "# layers for the Logistic Regression\n",
    "layers_lr = [Affine(\"logits\", 784, 1), Sigmoid(\"sigmoid\")]\n",
    "model_lr = Model(layers_lr)"
   ]
  },
  {
   "cell_type": "code",
   "execution_count": 19,
   "metadata": {
    "execution": {
     "iopub.execute_input": "2020-11-11T20:04:01.507075Z",
     "iopub.status.busy": "2020-11-11T20:04:01.506496Z",
     "iopub.status.idle": "2020-11-11T20:04:01.516004Z",
     "shell.execute_reply": "2020-11-11T20:04:01.515527Z"
    },
    "papermill": {
     "duration": 0.048594,
     "end_time": "2020-11-11T20:04:01.516132",
     "exception": false,
     "start_time": "2020-11-11T20:04:01.467538",
     "status": "completed"
    },
    "tags": []
   },
   "outputs": [],
   "source": [
    "# suffix _nn stands for Neural Network.\n",
    "learner_nn = Learner(loss, model_nn, opt, config.num_epochs)\n",
    "acc_nn = ClfCallback(learner_nn, config.bs, training_xdata , testing_xdata, training_ydata, testing_ydata)\n",
    "learner_nn.set_callbacks([acc_nn])"
   ]
  },
  {
   "cell_type": "code",
   "execution_count": 20,
   "metadata": {
    "execution": {
     "iopub.execute_input": "2020-11-11T20:04:01.576812Z",
     "iopub.status.busy": "2020-11-11T20:04:01.576232Z",
     "iopub.status.idle": "2020-11-11T20:05:32.683247Z",
     "shell.execute_reply": "2020-11-11T20:05:32.684067Z"
    },
    "papermill": {
     "duration": 91.13986,
     "end_time": "2020-11-11T20:05:32.684228",
     "exception": false,
     "start_time": "2020-11-11T20:04:01.544368",
     "status": "completed"
    },
    "tags": []
   },
   "outputs": [
    {
     "name": "stdout",
     "output_type": "stream",
     "text": [
      "====== Neural Network ======\n"
     ]
    },
    {
     "name": "stdout",
     "output_type": "stream",
     "text": [
      "Epoch 0, Loss 0.2386\n",
      "Training Accuracy: 0.7073, Testing Accuracy: 0.7041\n",
      "\n"
     ]
    },
    {
     "name": "stdout",
     "output_type": "stream",
     "text": [
      "Epoch 10, Loss 0.1261\n",
      "Training Accuracy: 0.8978, Testing Accuracy: 0.9027\n",
      "\n"
     ]
    },
    {
     "name": "stdout",
     "output_type": "stream",
     "text": [
      "Epoch 20, Loss 0.0689\n",
      "Training Accuracy: 0.9296, Testing Accuracy: 0.9360\n",
      "\n"
     ]
    },
    {
     "name": "stdout",
     "output_type": "stream",
     "text": [
      "Epoch 30, Loss 0.051\n",
      "Training Accuracy: 0.9432, Testing Accuracy: 0.9541\n",
      "\n"
     ]
    },
    {
     "name": "stdout",
     "output_type": "stream",
     "text": [
      "Epoch 40, Loss 0.0428\n",
      "Training Accuracy: 0.9523, Testing Accuracy: 0.9602\n",
      "\n"
     ]
    },
    {
     "name": "stdout",
     "output_type": "stream",
     "text": [
      "Epoch 50, Loss 0.0381\n",
      "Training Accuracy: 0.9563, Testing Accuracy: 0.9632\n",
      "\n"
     ]
    },
    {
     "name": "stdout",
     "output_type": "stream",
     "text": [
      "Epoch 60, Loss 0.035\n",
      "Training Accuracy: 0.9594, Testing Accuracy: 0.9642\n",
      "\n"
     ]
    },
    {
     "name": "stdout",
     "output_type": "stream",
     "text": [
      "Epoch 70, Loss 0.0328\n",
      "Training Accuracy: 0.9614, Testing Accuracy: 0.9662\n",
      "\n"
     ]
    },
    {
     "name": "stdout",
     "output_type": "stream",
     "text": [
      "Epoch 80, Loss 0.0311\n",
      "Training Accuracy: 0.9637, Testing Accuracy: 0.9672\n",
      "\n"
     ]
    },
    {
     "name": "stdout",
     "output_type": "stream",
     "text": [
      "Epoch 90, Loss 0.0297\n",
      "Training Accuracy: 0.9647, Testing Accuracy: 0.9662\n",
      "\n"
     ]
    },
    {
     "name": "stdout",
     "output_type": "stream",
     "text": [
      "Epoch 100, Loss 0.0286\n",
      "Training Accuracy: 0.9659, Testing Accuracy: 0.9652\n",
      "\n"
     ]
    },
    {
     "name": "stdout",
     "output_type": "stream",
     "text": [
      "Epoch 110, Loss 0.0276\n",
      "Training Accuracy: 0.9680, Testing Accuracy: 0.9657\n",
      "\n"
     ]
    },
    {
     "name": "stdout",
     "output_type": "stream",
     "text": [
      "Epoch 120, Loss 0.0267\n",
      "Training Accuracy: 0.9688, Testing Accuracy: 0.9652\n",
      "\n"
     ]
    },
    {
     "name": "stdout",
     "output_type": "stream",
     "text": [
      "Epoch 130, Loss 0.0259\n",
      "Training Accuracy: 0.9695, Testing Accuracy: 0.9652\n",
      "\n"
     ]
    },
    {
     "name": "stdout",
     "output_type": "stream",
     "text": [
      "Epoch 140, Loss 0.0252\n",
      "Training Accuracy: 0.9705, Testing Accuracy: 0.9662\n",
      "\n"
     ]
    },
    {
     "name": "stdout",
     "output_type": "stream",
     "text": [
      "Epoch 150, Loss 0.0246\n",
      "Training Accuracy: 0.9719, Testing Accuracy: 0.9667\n",
      "\n"
     ]
    },
    {
     "name": "stdout",
     "output_type": "stream",
     "text": [
      "Epoch 160, Loss 0.024\n",
      "Training Accuracy: 0.9725, Testing Accuracy: 0.9657\n",
      "\n"
     ]
    },
    {
     "name": "stdout",
     "output_type": "stream",
     "text": [
      "Epoch 170, Loss 0.0234\n",
      "Training Accuracy: 0.9735, Testing Accuracy: 0.9662\n",
      "\n"
     ]
    },
    {
     "name": "stdout",
     "output_type": "stream",
     "text": [
      "Epoch 180, Loss 0.0229\n",
      "Training Accuracy: 0.9737, Testing Accuracy: 0.9677\n",
      "\n"
     ]
    },
    {
     "name": "stdout",
     "output_type": "stream",
     "text": [
      "Epoch 190, Loss 0.0224\n",
      "Training Accuracy: 0.9744, Testing Accuracy: 0.9677\n",
      "\n"
     ]
    },
    {
     "name": "stdout",
     "output_type": "stream",
     "text": [
      "Epoch 200, Loss 0.0219\n",
      "Training Accuracy: 0.9750, Testing Accuracy: 0.9682\n",
      "\n"
     ]
    },
    {
     "name": "stdout",
     "output_type": "stream",
     "text": [
      "Epoch 210, Loss 0.0214\n",
      "Training Accuracy: 0.9757, Testing Accuracy: 0.9693\n",
      "\n"
     ]
    },
    {
     "name": "stdout",
     "output_type": "stream",
     "text": [
      "Epoch 220, Loss 0.021\n",
      "Training Accuracy: 0.9762, Testing Accuracy: 0.9698\n",
      "\n"
     ]
    },
    {
     "name": "stdout",
     "output_type": "stream",
     "text": [
      "Epoch 230, Loss 0.0206\n",
      "Training Accuracy: 0.9766, Testing Accuracy: 0.9703\n",
      "\n"
     ]
    },
    {
     "name": "stdout",
     "output_type": "stream",
     "text": [
      "Epoch 240, Loss 0.0202\n",
      "Training Accuracy: 0.9776, Testing Accuracy: 0.9703\n",
      "\n"
     ]
    },
    {
     "name": "stdout",
     "output_type": "stream",
     "text": [
      "Epoch 250, Loss 0.0198\n",
      "Training Accuracy: 0.9782, Testing Accuracy: 0.9728\n",
      "\n"
     ]
    },
    {
     "data": {
      "text/plain": [
       "0.029746818487752055"
      ]
     },
     "execution_count": 20,
     "metadata": {},
     "output_type": "execute_result"
    }
   ],
   "source": [
    "print(\"====== Neural Network ======\")\n",
    "learner_nn.train_loop(dl)"
   ]
  },
  {
   "cell_type": "markdown",
   "metadata": {
    "papermill": {
     "duration": 0.036453,
     "end_time": "2020-11-11T20:05:32.757973",
     "exception": false,
     "start_time": "2020-11-11T20:05:32.721520",
     "status": "completed"
    },
    "tags": []
   },
   "source": [
    "### Logistic Regression based Implementation."
   ]
  },
  {
   "cell_type": "code",
   "execution_count": 21,
   "metadata": {
    "execution": {
     "iopub.execute_input": "2020-11-11T20:05:32.835484Z",
     "iopub.status.busy": "2020-11-11T20:05:32.834680Z",
     "iopub.status.idle": "2020-11-11T20:05:32.847642Z",
     "shell.execute_reply": "2020-11-11T20:05:32.847120Z"
    },
    "papermill": {
     "duration": 0.053497,
     "end_time": "2020-11-11T20:05:32.847779",
     "exception": false,
     "start_time": "2020-11-11T20:05:32.794282",
     "status": "completed"
    },
    "tags": []
   },
   "outputs": [],
   "source": [
    "learner_lr = Learner(loss, model_lr, opt, config.num_epochs)\n",
    "acc_lr = ClfCallback(learner_lr, config.bs, training_xdata , testing_xdata, training_ydata, testing_ydata)\n",
    "learner_lr.set_callbacks([acc_lr])"
   ]
  },
  {
   "cell_type": "code",
   "execution_count": 22,
   "metadata": {
    "execution": {
     "iopub.execute_input": "2020-11-11T20:05:32.929499Z",
     "iopub.status.busy": "2020-11-11T20:05:32.928033Z",
     "iopub.status.idle": "2020-11-11T20:05:48.618210Z",
     "shell.execute_reply": "2020-11-11T20:05:48.619017Z"
    },
    "papermill": {
     "duration": 15.73476,
     "end_time": "2020-11-11T20:05:48.619179",
     "exception": false,
     "start_time": "2020-11-11T20:05:32.884419",
     "status": "completed"
    },
    "tags": []
   },
   "outputs": [
    {
     "name": "stdout",
     "output_type": "stream",
     "text": [
      "====== Logistic Regression ======\n",
      "Epoch 0, Loss 0.2336\n",
      "Training Accuracy: 0.6879, Testing Accuracy: 0.6961\n",
      "\n"
     ]
    },
    {
     "name": "stdout",
     "output_type": "stream",
     "text": [
      "Epoch 10, Loss 0.1046\n",
      "Training Accuracy: 0.9052, Testing Accuracy: 0.9153\n",
      "\n"
     ]
    },
    {
     "name": "stdout",
     "output_type": "stream",
     "text": [
      "Epoch 20, Loss 0.0802\n",
      "Training Accuracy: 0.9269, Testing Accuracy: 0.9375\n",
      "\n"
     ]
    },
    {
     "name": "stdout",
     "output_type": "stream",
     "text": [
      "Epoch 30, Loss 0.0688\n",
      "Training Accuracy: 0.9377, Testing Accuracy: 0.9476\n",
      "\n"
     ]
    },
    {
     "name": "stdout",
     "output_type": "stream",
     "text": [
      "Epoch 40, Loss 0.062\n",
      "Training Accuracy: 0.9422, Testing Accuracy: 0.9506\n",
      "\n"
     ]
    },
    {
     "name": "stdout",
     "output_type": "stream",
     "text": [
      "Epoch 50, Loss 0.0574\n",
      "Training Accuracy: 0.9459, Testing Accuracy: 0.9541\n",
      "\n"
     ]
    },
    {
     "name": "stdout",
     "output_type": "stream",
     "text": [
      "Epoch 60, Loss 0.054\n",
      "Training Accuracy: 0.9473, Testing Accuracy: 0.9567\n",
      "\n"
     ]
    },
    {
     "name": "stdout",
     "output_type": "stream",
     "text": [
      "Epoch 70, Loss 0.0514\n",
      "Training Accuracy: 0.9504, Testing Accuracy: 0.9587\n",
      "\n"
     ]
    },
    {
     "name": "stdout",
     "output_type": "stream",
     "text": [
      "Epoch 80, Loss 0.0493\n",
      "Training Accuracy: 0.9524, Testing Accuracy: 0.9617\n",
      "\n"
     ]
    },
    {
     "name": "stdout",
     "output_type": "stream",
     "text": [
      "Epoch 90, Loss 0.0476\n",
      "Training Accuracy: 0.9525, Testing Accuracy: 0.9617\n",
      "\n"
     ]
    },
    {
     "name": "stdout",
     "output_type": "stream",
     "text": [
      "Epoch 100, Loss 0.0462\n",
      "Training Accuracy: 0.9533, Testing Accuracy: 0.9632\n",
      "\n"
     ]
    },
    {
     "name": "stdout",
     "output_type": "stream",
     "text": [
      "Epoch 110, Loss 0.045\n",
      "Training Accuracy: 0.9543, Testing Accuracy: 0.9637\n",
      "\n"
     ]
    },
    {
     "name": "stdout",
     "output_type": "stream",
     "text": [
      "Epoch 120, Loss 0.0439\n",
      "Training Accuracy: 0.9551, Testing Accuracy: 0.9652\n",
      "\n"
     ]
    },
    {
     "name": "stdout",
     "output_type": "stream",
     "text": [
      "Epoch 130, Loss 0.0429\n",
      "Training Accuracy: 0.9559, Testing Accuracy: 0.9647\n",
      "\n"
     ]
    },
    {
     "name": "stdout",
     "output_type": "stream",
     "text": [
      "Epoch 140, Loss 0.0421\n",
      "Training Accuracy: 0.9564, Testing Accuracy: 0.9642\n",
      "\n"
     ]
    },
    {
     "name": "stdout",
     "output_type": "stream",
     "text": [
      "Epoch 150, Loss 0.0414\n",
      "Training Accuracy: 0.9571, Testing Accuracy: 0.9642\n",
      "\n"
     ]
    },
    {
     "name": "stdout",
     "output_type": "stream",
     "text": [
      "Epoch 160, Loss 0.0407\n",
      "Training Accuracy: 0.9579, Testing Accuracy: 0.9647\n",
      "\n"
     ]
    },
    {
     "name": "stdout",
     "output_type": "stream",
     "text": [
      "Epoch 170, Loss 0.0401\n",
      "Training Accuracy: 0.9586, Testing Accuracy: 0.9657\n",
      "\n"
     ]
    },
    {
     "name": "stdout",
     "output_type": "stream",
     "text": [
      "Epoch 180, Loss 0.0395\n",
      "Training Accuracy: 0.9590, Testing Accuracy: 0.9652\n",
      "\n"
     ]
    },
    {
     "name": "stdout",
     "output_type": "stream",
     "text": [
      "Epoch 190, Loss 0.039\n",
      "Training Accuracy: 0.9593, Testing Accuracy: 0.9657\n",
      "\n"
     ]
    },
    {
     "name": "stdout",
     "output_type": "stream",
     "text": [
      "Epoch 200, Loss 0.0385\n",
      "Training Accuracy: 0.9596, Testing Accuracy: 0.9662\n",
      "\n"
     ]
    },
    {
     "name": "stdout",
     "output_type": "stream",
     "text": [
      "Epoch 210, Loss 0.0381\n",
      "Training Accuracy: 0.9599, Testing Accuracy: 0.9667\n",
      "\n"
     ]
    },
    {
     "name": "stdout",
     "output_type": "stream",
     "text": [
      "Epoch 220, Loss 0.0376\n",
      "Training Accuracy: 0.9603, Testing Accuracy: 0.9672\n",
      "\n"
     ]
    },
    {
     "name": "stdout",
     "output_type": "stream",
     "text": [
      "Epoch 230, Loss 0.0372\n",
      "Training Accuracy: 0.9604, Testing Accuracy: 0.9677\n",
      "\n"
     ]
    },
    {
     "name": "stdout",
     "output_type": "stream",
     "text": [
      "Epoch 240, Loss 0.0369\n",
      "Training Accuracy: 0.9604, Testing Accuracy: 0.9682\n",
      "\n"
     ]
    },
    {
     "name": "stdout",
     "output_type": "stream",
     "text": [
      "Epoch 250, Loss 0.0365\n",
      "Training Accuracy: 0.9608, Testing Accuracy: 0.9688\n",
      "\n"
     ]
    },
    {
     "data": {
      "text/plain": [
       "0.03247563124979114"
      ]
     },
     "execution_count": 22,
     "metadata": {},
     "output_type": "execute_result"
    }
   ],
   "source": [
    "print(\"====== Logistic Regression ======\")\n",
    "learner_lr.train_loop(dl)"
   ]
  },
  {
   "cell_type": "markdown",
   "metadata": {
    "papermill": {
     "duration": 0.044383,
     "end_time": "2020-11-11T20:05:48.708818",
     "exception": false,
     "start_time": "2020-11-11T20:05:48.664435",
     "status": "completed"
    },
    "tags": []
   },
   "source": [
    "### Comparing results of NN and LR"
   ]
  },
  {
   "cell_type": "code",
   "execution_count": 23,
   "metadata": {
    "execution": {
     "iopub.execute_input": "2020-11-11T20:05:48.804082Z",
     "iopub.status.busy": "2020-11-11T20:05:48.802718Z",
     "iopub.status.idle": "2020-11-11T20:05:49.046371Z",
     "shell.execute_reply": "2020-11-11T20:05:49.045875Z"
    },
    "papermill": {
     "duration": 0.293678,
     "end_time": "2020-11-11T20:05:49.046516",
     "exception": false,
     "start_time": "2020-11-11T20:05:48.752838",
     "status": "completed"
    },
    "tags": []
   },
   "outputs": [
    {
     "data": {
      "text/plain": [
       "<matplotlib.legend.Legend at 0x7f5bab230160>"
      ]
     },
     "execution_count": 23,
     "metadata": {},
     "output_type": "execute_result"
    },
    {
     "data": {
      "image/png": "[encoded data removed]",
      "text/plain": [
       "<Figure size 1080x720 with 1 Axes>"
      ]
     },
     "metadata": {
      "needs_background": "light"
     },
     "output_type": "display_data"
    }
   ],
   "source": [
    "plt.figure(figsize=(15,10))\n",
    "\n",
    "# Neural Network plots\n",
    "plt.plot(acc_nn.accuracies, 'r-', label = \"Training Accuracies - NN\")\n",
    "plt.plot(acc_nn.test_accuracies, 'g-', label = \"Testing Accuracies - NN\")\n",
    "\n",
    "# Logistic Regression plots\n",
    "plt.plot(acc_lr.accuracies, 'k-', label = \"Training Accuracies - LR\")\n",
    "plt.plot(acc_lr.test_accuracies, 'b-', label = \"Testing Accuracies - LR\")\n",
    "\n",
    "plt.ylim(0.8, 1)\n",
    "\n",
    "plt.legend()\n",
    "\n"
   ]
  },
  {
   "cell_type": "markdown",
   "metadata": {
    "papermill": {
     "duration": 0.045357,
     "end_time": "2020-11-11T20:05:49.138340",
     "exception": false,
     "start_time": "2020-11-11T20:05:49.092983",
     "status": "completed"
    },
    "tags": []
   },
   "source": [
    "### From the plot, we can observe the following:\n",
    "- Neural Network achieves higher accuracy than the Logistic Regression model.\n",
    "- This apparently, is because of overfitting, i.e. NN captures more noise than data.\n",
    "- Testing accuracy of NN drops below the Training accuracy at higher epochs. This explains the over-fitting on training data.\n",
    "- Logistic Regression gives a reliable accuracy, without the above mentioned problem.\n"
   ]
  },
  {
   "cell_type": "markdown",
   "metadata": {
    "papermill": {
     "duration": 0.04522,
     "end_time": "2020-11-11T20:05:49.228362",
     "exception": false,
     "start_time": "2020-11-11T20:05:49.183142",
     "status": "completed"
    },
    "tags": []
   },
   "source": [
    "### Moving till the last but one layer (excluding it).\n",
    "#### Plotting the outputs of this layer of the NN."
   ]
  },
  {
   "cell_type": "code",
   "execution_count": 24,
   "metadata": {
    "execution": {
     "iopub.execute_input": "2020-11-11T20:05:49.329194Z",
     "iopub.status.busy": "2020-11-11T20:05:49.327907Z",
     "iopub.status.idle": "2020-11-11T20:05:49.339951Z",
     "shell.execute_reply": "2020-11-11T20:05:49.339440Z"
    },
    "papermill": {
     "duration": 0.065751,
     "end_time": "2020-11-11T20:05:49.340073",
     "exception": false,
     "start_time": "2020-11-11T20:05:49.274322",
     "status": "completed"
    },
    "tags": []
   },
   "outputs": [],
   "source": [
    "model_new = Model(layers[:-2])"
   ]
  },
  {
   "cell_type": "code",
   "execution_count": 25,
   "metadata": {
    "execution": {
     "iopub.execute_input": "2020-11-11T20:05:49.439076Z",
     "iopub.status.busy": "2020-11-11T20:05:49.434741Z",
     "iopub.status.idle": "2020-11-11T20:05:49.458055Z",
     "shell.execute_reply": "2020-11-11T20:05:49.458812Z"
    },
    "papermill": {
     "duration": 0.073925,
     "end_time": "2020-11-11T20:05:49.458965",
     "exception": false,
     "start_time": "2020-11-11T20:05:49.385040",
     "status": "completed"
    },
    "tags": []
   },
   "outputs": [],
   "source": [
    "plot_testing = model_new(testing_xdata)"
   ]
  },
  {
   "cell_type": "code",
   "execution_count": 26,
   "metadata": {
    "execution": {
     "iopub.execute_input": "2020-11-11T20:05:49.564470Z",
     "iopub.status.busy": "2020-11-11T20:05:49.563890Z",
     "iopub.status.idle": "2020-11-11T20:05:49.769400Z",
     "shell.execute_reply": "2020-11-11T20:05:49.769901Z"
    },
    "papermill": {
     "duration": 0.264814,
     "end_time": "2020-11-11T20:05:49.770057",
     "exception": false,
     "start_time": "2020-11-11T20:05:49.505243",
     "status": "completed"
    },
    "tags": []
   },
   "outputs": [
    {
     "data": {
      "text/plain": [
       "Text(0.5, 1.0, 'Outputs')"
      ]
     },
     "execution_count": 26,
     "metadata": {},
     "output_type": "execute_result"
    },
    {
     "data": {
      "image/png": "[encoded data removed]",
      "text/plain": [
       "<Figure size 576x504 with 1 Axes>"
      ]
     },
     "metadata": {
      "needs_background": "light"
     },
     "output_type": "display_data"
    }
   ],
   "source": [
    "plt.figure(figsize=(8,7))\n",
    "plt.scatter(plot_testing[:,0], plot_testing[:,1], alpha = 0.1, c = y_test.ravel());\n",
    "plt.title('Outputs')"
   ]
  },
  {
   "cell_type": "markdown",
   "metadata": {
    "papermill": {
     "duration": 0.047788,
     "end_time": "2020-11-11T20:05:49.866218",
     "exception": false,
     "start_time": "2020-11-11T20:05:49.818430",
     "status": "completed"
    },
    "tags": []
   },
   "source": [
    "### Plotting probability contours"
   ]
  },
  {
   "cell_type": "code",
   "execution_count": 27,
   "metadata": {
    "execution": {
     "iopub.execute_input": "2020-11-11T20:05:49.967799Z",
     "iopub.status.busy": "2020-11-11T20:05:49.966247Z",
     "iopub.status.idle": "2020-11-11T20:05:49.980741Z",
     "shell.execute_reply": "2020-11-11T20:05:49.980270Z"
    },
    "papermill": {
     "duration": 0.067754,
     "end_time": "2020-11-11T20:05:49.980872",
     "exception": false,
     "start_time": "2020-11-11T20:05:49.913118",
     "status": "completed"
    },
    "tags": []
   },
   "outputs": [],
   "source": [
    "model_prob = Model(layers[-2:]) "
   ]
  },
  {
   "cell_type": "code",
   "execution_count": 28,
   "metadata": {
    "execution": {
     "iopub.execute_input": "2020-11-11T20:05:50.082015Z",
     "iopub.status.busy": "2020-11-11T20:05:50.081424Z",
     "iopub.status.idle": "2020-11-11T20:05:50.097800Z",
     "shell.execute_reply": "2020-11-11T20:05:50.098245Z"
    },
    "papermill": {
     "duration": 0.069249,
     "end_time": "2020-11-11T20:05:50.098391",
     "exception": false,
     "start_time": "2020-11-11T20:05:50.029142",
     "status": "completed"
    },
    "tags": []
   },
   "outputs": [],
   "source": [
    "# Adjust the x and y ranges according to the above generated plot.\n",
    "x_range = np.linspace(-4, 1, 100) \n",
    "y_range = np.linspace(-6, 6, 100) \n",
    "x_grid, y_grid = np.meshgrid(x_range, y_range) # x_grid and y_grig are of size 100 X 100\n",
    "\n",
    "# converting x_grid and y_grid to continuous arrays\n",
    "x_grid_flat = np.ravel(x_grid)\n",
    "y_grid_flat = np.ravel(y_grid)\n",
    "\n",
    "# The last layer of the current model takes two columns as input. Hence transpose of np.vstack() is required.\n",
    "X = np.vstack((x_grid_flat, y_grid_flat)).T\n",
    "\n",
    "# x_grid and y_grid are of size 100 x 100\n",
    "probability_contour = model_prob(X).reshape(100,100) "
   ]
  },
  {
   "cell_type": "code",
   "execution_count": 29,
   "metadata": {
    "execution": {
     "iopub.execute_input": "2020-11-11T20:05:50.199782Z",
     "iopub.status.busy": "2020-11-11T20:05:50.199163Z",
     "iopub.status.idle": "2020-11-11T20:05:50.470776Z",
     "shell.execute_reply": "2020-11-11T20:05:50.471275Z"
    },
    "papermill": {
     "duration": 0.324514,
     "end_time": "2020-11-11T20:05:50.471438",
     "exception": false,
     "start_time": "2020-11-11T20:05:50.146924",
     "status": "completed"
    },
    "tags": []
   },
   "outputs": [
    {
     "data": {
      "image/png": "[encoded data removed]",
      "text/plain": [
       "<Figure size 720x648 with 1 Axes>"
      ]
     },
     "metadata": {
      "needs_background": "light"
     },
     "output_type": "display_data"
    }
   ],
   "source": [
    "plt.figure(figsize=(10,9))\n",
    "plt.scatter(plot_testing[:,0], plot_testing[:,1], alpha = 0.1, c = y_test.ravel())\n",
    "contours = plt.contour(x_grid,y_grid,probability_contour)\n",
    "plt.title('Probability Contours')\n",
    "plt.clabel(contours, inline = True );"
   ]
  }
 ],
 "metadata": {
  "kernelspec": {
   "display_name": "Python 3",
   "language": "python",
   "name": "python3"
  },
  "language_info": {
   "codemirror_mode": {
    "name": "ipython",
    "version": 3
   },
   "file_extension": ".py",
   "mimetype": "text/x-python",
   "name": "python",
   "nbconvert_exporter": "python",
   "pygments_lexer": "ipython3",
   "version": "3.6.12"
  },
  "papermill": {
   "duration": 116.374972,
   "end_time": "2020-11-11T20:05:50.931394",
   "environment_variables": {},
   "exception": null,
   "input_path": "2020-08-11-NeuralNetwork.ipynb",
   "output_path": "2020-08-11-NeuralNetwork.ipynb",
   "parameters": {},
   "start_time": "2020-11-11T20:03:54.556422",
   "version": "2.1.2"
  }
 },
 "nbformat": 4,
 "nbformat_minor": 4
}