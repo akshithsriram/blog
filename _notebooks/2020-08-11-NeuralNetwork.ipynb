{
 "cells": [
  {
   "cell_type": "markdown",
   "id": "fitted-suggestion",
   "metadata": {
    "papermill": {
     "duration": 0.038617,
     "end_time": "2021-04-18T00:31:01.390148",
     "exception": false,
     "start_time": "2021-04-18T00:31:01.351531",
     "status": "completed"
    },
    "tags": []
   },
   "source": [
    "# \"A Basic Neural Network: Differentiate Hand-Written Digits\"\n",
    "\n",
    "- badges: true\n",
    "- author: Akshith Sriram"
   ]
  },
  {
   "cell_type": "markdown",
   "id": "signal-flexibility",
   "metadata": {
    "papermill": {
     "duration": 0.03367,
     "end_time": "2021-04-18T00:31:01.459926",
     "exception": false,
     "start_time": "2021-04-18T00:31:01.426256",
     "status": "completed"
    },
    "tags": []
   },
   "source": [
    "### Key Objectives:\n",
    "- Building a neural network that differentiates two hand-written digits 3 and 8.\n",
    "- Comparing the results of this Neural Network (NN) to that of a Logistic Regression (LR) model.\n",
    "\n",
    "### Requirements:\n",
    "- 'Kudzu' : A neural network library that was designed during our course by [Univ.AI](www.univ.ai). \n",
    "- MNIST Database\n",
    "\n",
    "If MNIST is not installed, use the command `!pip install mnist` given below.\n",
    "It can be run both from the command line and Jupyter Notebook."
   ]
  },
  {
   "cell_type": "code",
   "execution_count": 1,
   "id": "british-texture",
   "metadata": {
    "execution": {
     "iopub.execute_input": "2021-04-18T00:31:01.539589Z",
     "iopub.status.busy": "2021-04-18T00:31:01.538832Z",
     "iopub.status.idle": "2021-04-18T00:31:03.264440Z",
     "shell.execute_reply": "2021-04-18T00:31:03.263458Z"
    },
    "papermill": {
     "duration": 1.770938,
     "end_time": "2021-04-18T00:31:03.264622",
     "exception": false,
     "start_time": "2021-04-18T00:31:01.493684",
     "status": "completed"
    },
    "tags": []
   },
   "outputs": [
    {
     "name": "stdout",
     "output_type": "stream",
     "text": [
      "Collecting mnist\r\n"
     ]
    },
    {
     "name": "stdout",
     "output_type": "stream",
     "text": [
      "  Downloading mnist-0.2.2-py2.py3-none-any.whl (3.5 kB)\r\n",
      "Requirement already satisfied: numpy in /opt/hostedtoolcache/Python/3.6.13/x64/lib/python3.6/site-packages (from mnist) (1.19.5)\r\n"
     ]
    },
    {
     "name": "stdout",
     "output_type": "stream",
     "text": [
      "Installing collected packages: mnist\r\n"
     ]
    },
    {
     "name": "stdout",
     "output_type": "stream",
     "text": [
      "Successfully installed mnist-0.2.2\r\n"
     ]
    }
   ],
   "source": [
    "!pip install mnist "
   ]
  },
  {
   "cell_type": "markdown",
   "id": "stunning-extra",
   "metadata": {
    "papermill": {
     "duration": 0.035655,
     "end_time": "2021-04-18T00:31:03.336640",
     "exception": false,
     "start_time": "2021-04-18T00:31:03.300985",
     "status": "completed"
    },
    "tags": []
   },
   "source": [
    "#### Importing necessary libraries"
   ]
  },
  {
   "cell_type": "code",
   "execution_count": 2,
   "id": "wooden-france",
   "metadata": {
    "execution": {
     "iopub.execute_input": "2021-04-18T00:31:03.416725Z",
     "iopub.status.busy": "2021-04-18T00:31:03.416007Z",
     "iopub.status.idle": "2021-04-18T00:31:04.085636Z",
     "shell.execute_reply": "2021-04-18T00:31:04.085029Z"
    },
    "papermill": {
     "duration": 0.713266,
     "end_time": "2021-04-18T00:31:04.085784",
     "exception": false,
     "start_time": "2021-04-18T00:31:03.372518",
     "status": "completed"
    },
    "tags": []
   },
   "outputs": [],
   "source": [
    "%load_ext autoreload\n",
    "%autoreload 2\n",
    "\n",
    "%matplotlib inline\n",
    "import matplotlib.pyplot as plt\n",
    "\n",
    "import numpy as np\n",
    "import pandas as pd"
   ]
  },
  {
   "cell_type": "markdown",
   "id": "stunning-physics",
   "metadata": {
    "papermill": {
     "duration": 0.036921,
     "end_time": "2021-04-18T00:31:04.159041",
     "exception": false,
     "start_time": "2021-04-18T00:31:04.122120",
     "status": "completed"
    },
    "tags": []
   },
   "source": [
    "### Preparing the Data"
   ]
  },
  {
   "cell_type": "code",
   "execution_count": 3,
   "id": "unauthorized-remainder",
   "metadata": {
    "execution": {
     "iopub.execute_input": "2021-04-18T00:31:04.249146Z",
     "iopub.status.busy": "2021-04-18T00:31:04.242210Z",
     "iopub.status.idle": "2021-04-18T00:31:04.255941Z",
     "shell.execute_reply": "2021-04-18T00:31:04.255045Z"
    },
    "papermill": {
     "duration": 0.060507,
     "end_time": "2021-04-18T00:31:04.256097",
     "exception": false,
     "start_time": "2021-04-18T00:31:04.195590",
     "status": "completed"
    },
    "tags": []
   },
   "outputs": [],
   "source": [
    "import mnist"
   ]
  },
  {
   "cell_type": "code",
   "execution_count": 4,
   "id": "correct-antarctica",
   "metadata": {
    "execution": {
     "iopub.execute_input": "2021-04-18T00:31:04.333690Z",
     "iopub.status.busy": "2021-04-18T00:31:04.332997Z",
     "iopub.status.idle": "2021-04-18T00:35:13.085524Z",
     "shell.execute_reply": "2021-04-18T00:35:13.086253Z"
    },
    "papermill": {
     "duration": 248.793169,
     "end_time": "2021-04-18T00:35:13.086416",
     "exception": false,
     "start_time": "2021-04-18T00:31:04.293247",
     "status": "completed"
    },
    "tags": []
   },
   "outputs": [],
   "source": [
    "train_images = mnist.train_images()\n",
    "train_labels = mnist.train_labels()"
   ]
  },
  {
   "cell_type": "code",
   "execution_count": 5,
   "id": "musical-prospect",
   "metadata": {
    "execution": {
     "iopub.execute_input": "2021-04-18T00:35:13.166206Z",
     "iopub.status.busy": "2021-04-18T00:35:13.165601Z",
     "iopub.status.idle": "2021-04-18T00:35:13.180398Z",
     "shell.execute_reply": "2021-04-18T00:35:13.179714Z"
    },
    "papermill": {
     "duration": 0.057544,
     "end_time": "2021-04-18T00:35:13.180549",
     "exception": false,
     "start_time": "2021-04-18T00:35:13.123005",
     "status": "completed"
    },
    "tags": []
   },
   "outputs": [
    {
     "data": {
      "text/plain": [
       "((60000, 28, 28), (60000,))"
      ]
     },
     "execution_count": 5,
     "metadata": {},
     "output_type": "execute_result"
    }
   ],
   "source": [
    "train_images.shape, train_labels.shape"
   ]
  },
  {
   "cell_type": "code",
   "execution_count": 6,
   "id": "preliminary-elizabeth",
   "metadata": {
    "execution": {
     "iopub.execute_input": "2021-04-18T00:35:13.254999Z",
     "iopub.status.busy": "2021-04-18T00:35:13.254373Z",
     "iopub.status.idle": "2021-04-18T00:35:59.949666Z",
     "shell.execute_reply": "2021-04-18T00:35:59.950214Z"
    },
    "papermill": {
     "duration": 46.734431,
     "end_time": "2021-04-18T00:35:59.950379",
     "exception": false,
     "start_time": "2021-04-18T00:35:13.215948",
     "status": "completed"
    },
    "tags": []
   },
   "outputs": [],
   "source": [
    "test_images = mnist.test_images()\n",
    "test_labels = mnist.test_labels()"
   ]
  },
  {
   "cell_type": "code",
   "execution_count": 7,
   "id": "acknowledged-oxygen",
   "metadata": {
    "execution": {
     "iopub.execute_input": "2021-04-18T00:36:00.039361Z",
     "iopub.status.busy": "2021-04-18T00:36:00.031544Z",
     "iopub.status.idle": "2021-04-18T00:36:00.042730Z",
     "shell.execute_reply": "2021-04-18T00:36:00.043381Z"
    },
    "papermill": {
     "duration": 0.057085,
     "end_time": "2021-04-18T00:36:00.043546",
     "exception": false,
     "start_time": "2021-04-18T00:35:59.986461",
     "status": "completed"
    },
    "tags": []
   },
   "outputs": [
    {
     "data": {
      "text/plain": [
       "((10000, 28, 28), (10000,))"
      ]
     },
     "execution_count": 7,
     "metadata": {},
     "output_type": "execute_result"
    }
   ],
   "source": [
    "test_images.shape, test_labels.shape"
   ]
  },
  {
   "cell_type": "code",
   "execution_count": 8,
   "id": "innovative-organic",
   "metadata": {
    "execution": {
     "iopub.execute_input": "2021-04-18T00:36:00.127729Z",
     "iopub.status.busy": "2021-04-18T00:36:00.127064Z",
     "iopub.status.idle": "2021-04-18T00:36:00.319945Z",
     "shell.execute_reply": "2021-04-18T00:36:00.320492Z"
    },
    "papermill": {
     "duration": 0.236717,
     "end_time": "2021-04-18T00:36:00.320681",
     "exception": false,
     "start_time": "2021-04-18T00:36:00.083964",
     "status": "completed"
    },
    "tags": []
   },
   "outputs": [
    {
     "name": "stdout",
     "output_type": "stream",
     "text": [
      "2\n"
     ]
    },
    {
     "data": {
      "text/plain": [
       "<matplotlib.image.AxesImage at 0x7f4578cb1a58>"
      ]
     },
     "execution_count": 8,
     "metadata": {},
     "output_type": "execute_result"
    },
    {
     "data": {
      "image/png": "[encoded data removed]",
      "text/plain": [
       "<Figure size 432x288 with 1 Axes>"
      ]
     },
     "metadata": {
      "needs_background": "light"
     },
     "output_type": "display_data"
    }
   ],
   "source": [
    "image_index = 7776 # You may select anything up to 60,000\n",
    "print(train_labels[image_index]) \n",
    "plt.imshow(train_images[image_index], cmap='Greys')"
   ]
  },
  {
   "cell_type": "markdown",
   "id": "facial-modem",
   "metadata": {
    "papermill": {
     "duration": 0.03931,
     "end_time": "2021-04-18T00:36:00.397315",
     "exception": false,
     "start_time": "2021-04-18T00:36:00.358005",
     "status": "completed"
    },
    "tags": []
   },
   "source": [
    "## Filter data to get 3 and 8 out"
   ]
  },
  {
   "cell_type": "code",
   "execution_count": 9,
   "id": "thousand-acquisition",
   "metadata": {
    "execution": {
     "iopub.execute_input": "2021-04-18T00:36:00.479543Z",
     "iopub.status.busy": "2021-04-18T00:36:00.478889Z",
     "iopub.status.idle": "2021-04-18T00:36:00.500731Z",
     "shell.execute_reply": "2021-04-18T00:36:00.500036Z"
    },
    "papermill": {
     "duration": 0.063632,
     "end_time": "2021-04-18T00:36:00.500877",
     "exception": false,
     "start_time": "2021-04-18T00:36:00.437245",
     "status": "completed"
    },
    "tags": []
   },
   "outputs": [],
   "source": [
    "train_filter = np.where((train_labels == 3 ) | (train_labels == 8))\n",
    "test_filter = np.where((test_labels == 3) | (test_labels == 8))\n",
    "X_train, y_train = train_images[train_filter], train_labels[train_filter]\n",
    "X_test, y_test = test_images[test_filter], test_labels[test_filter]"
   ]
  },
  {
   "cell_type": "markdown",
   "id": "ruled-access",
   "metadata": {
    "papermill": {
     "duration": 0.038165,
     "end_time": "2021-04-18T00:36:00.577673",
     "exception": false,
     "start_time": "2021-04-18T00:36:00.539508",
     "status": "completed"
    },
    "tags": []
   },
   "source": [
    "We normalize the pixel values in the 0 to 1 range"
   ]
  },
  {
   "cell_type": "code",
   "execution_count": 10,
   "id": "isolated-denver",
   "metadata": {
    "execution": {
     "iopub.execute_input": "2021-04-18T00:36:00.674601Z",
     "iopub.status.busy": "2021-04-18T00:36:00.673910Z",
     "iopub.status.idle": "2021-04-18T00:36:00.728874Z",
     "shell.execute_reply": "2021-04-18T00:36:00.728231Z"
    },
    "papermill": {
     "duration": 0.113498,
     "end_time": "2021-04-18T00:36:00.729030",
     "exception": false,
     "start_time": "2021-04-18T00:36:00.615532",
     "status": "completed"
    },
    "tags": []
   },
   "outputs": [],
   "source": [
    "X_train = X_train/255.\n",
    "X_test = X_test/255."
   ]
  },
  {
   "cell_type": "markdown",
   "id": "perfect-summary",
   "metadata": {
    "papermill": {
     "duration": 0.037214,
     "end_time": "2021-04-18T00:36:00.804285",
     "exception": false,
     "start_time": "2021-04-18T00:36:00.767071",
     "status": "completed"
    },
    "tags": []
   },
   "source": [
    "Setup the labels as 1 (when the digit is 3) and 0 (when the digit is 8)"
   ]
  },
  {
   "cell_type": "code",
   "execution_count": 11,
   "id": "personalized-growing",
   "metadata": {
    "execution": {
     "iopub.execute_input": "2021-04-18T00:36:00.886253Z",
     "iopub.status.busy": "2021-04-18T00:36:00.885602Z",
     "iopub.status.idle": "2021-04-18T00:36:00.899267Z",
     "shell.execute_reply": "2021-04-18T00:36:00.898463Z"
    },
    "papermill": {
     "duration": 0.057899,
     "end_time": "2021-04-18T00:36:00.899493",
     "exception": false,
     "start_time": "2021-04-18T00:36:00.841594",
     "status": "completed"
    },
    "tags": []
   },
   "outputs": [],
   "source": [
    "y_train = 1*(y_train==3)\n",
    "y_test = 1*(y_test==3)"
   ]
  },
  {
   "cell_type": "code",
   "execution_count": 12,
   "id": "considered-virgin",
   "metadata": {
    "execution": {
     "iopub.execute_input": "2021-04-18T00:36:00.994125Z",
     "iopub.status.busy": "2021-04-18T00:36:00.989645Z",
     "iopub.status.idle": "2021-04-18T00:36:00.999808Z",
     "shell.execute_reply": "2021-04-18T00:36:01.000334Z"
    },
    "papermill": {
     "duration": 0.061228,
     "end_time": "2021-04-18T00:36:01.000483",
     "exception": false,
     "start_time": "2021-04-18T00:36:00.939255",
     "status": "completed"
    },
    "tags": []
   },
   "outputs": [
    {
     "data": {
      "text/plain": [
       "((11982, 28, 28), (1984, 28, 28))"
      ]
     },
     "execution_count": 12,
     "metadata": {},
     "output_type": "execute_result"
    }
   ],
   "source": [
    "X_train.shape, X_test.shape"
   ]
  },
  {
   "cell_type": "markdown",
   "id": "civilian-mobile",
   "metadata": {
    "papermill": {
     "duration": 0.039208,
     "end_time": "2021-04-18T00:36:01.079565",
     "exception": false,
     "start_time": "2021-04-18T00:36:01.040357",
     "status": "completed"
    },
    "tags": []
   },
   "source": [
    "### Reshape the input data to create a linear array"
   ]
  },
  {
   "cell_type": "code",
   "execution_count": 13,
   "id": "colonial-adams",
   "metadata": {
    "execution": {
     "iopub.execute_input": "2021-04-18T00:36:01.166553Z",
     "iopub.status.busy": "2021-04-18T00:36:01.165883Z",
     "iopub.status.idle": "2021-04-18T00:36:01.180415Z",
     "shell.execute_reply": "2021-04-18T00:36:01.181054Z"
    },
    "papermill": {
     "duration": 0.064891,
     "end_time": "2021-04-18T00:36:01.181209",
     "exception": false,
     "start_time": "2021-04-18T00:36:01.116318",
     "status": "completed"
    },
    "tags": []
   },
   "outputs": [
    {
     "data": {
      "text/plain": [
       "((11982, 784), (1984, 784))"
      ]
     },
     "execution_count": 13,
     "metadata": {},
     "output_type": "execute_result"
    }
   ],
   "source": [
    "X_train = X_train.reshape(X_train.shape[0], -1)\n",
    "X_test = X_test.reshape(X_test.shape[0], -1)\n",
    "X_train.shape, X_test.shape"
   ]
  },
  {
   "cell_type": "markdown",
   "id": "smart-details",
   "metadata": {
    "papermill": {
     "duration": 0.038912,
     "end_time": "2021-04-18T00:36:01.260368",
     "exception": false,
     "start_time": "2021-04-18T00:36:01.221456",
     "status": "completed"
    },
    "tags": []
   },
   "source": [
    "### Importing appropriate functions from 'Kudzu'"
   ]
  },
  {
   "cell_type": "code",
   "execution_count": 14,
   "id": "celtic-trial",
   "metadata": {
    "execution": {
     "iopub.execute_input": "2021-04-18T00:36:01.353811Z",
     "iopub.status.busy": "2021-04-18T00:36:01.345634Z",
     "iopub.status.idle": "2021-04-18T00:36:01.365055Z",
     "shell.execute_reply": "2021-04-18T00:36:01.364428Z"
    },
    "papermill": {
     "duration": 0.068443,
     "end_time": "2021-04-18T00:36:01.365197",
     "exception": false,
     "start_time": "2021-04-18T00:36:01.296754",
     "status": "completed"
    },
    "tags": []
   },
   "outputs": [],
   "source": [
    "from kudzu.layer import Sigmoid\n",
    "from kudzu.layer import Relu\n",
    "from kudzu.layer import Affine, Sigmoid\n",
    "\n",
    "from kudzu.model import Model\n",
    "from kudzu.train import Learner\n",
    "from kudzu.optim import GD\n",
    "from kudzu.data import Data, Dataloader, Sampler\n",
    "\n",
    "from kudzu.callbacks import AccCallback\n",
    "from kudzu.callbacks import ClfCallback\n",
    "\n",
    "from kudzu.loss import MSE"
   ]
  },
  {
   "cell_type": "markdown",
   "id": "coupled-customer",
   "metadata": {
    "papermill": {
     "duration": 0.03765,
     "end_time": "2021-04-18T00:36:01.441422",
     "exception": false,
     "start_time": "2021-04-18T00:36:01.403772",
     "status": "completed"
    },
    "tags": []
   },
   "source": [
    "### Let us create a `Config` class, to store important parameters. \n",
    "This class essentially plays the role of a dictionary."
   ]
  },
  {
   "cell_type": "code",
   "execution_count": 15,
   "id": "young-ceiling",
   "metadata": {
    "execution": {
     "iopub.execute_input": "2021-04-18T00:36:01.535717Z",
     "iopub.status.busy": "2021-04-18T00:36:01.532510Z",
     "iopub.status.idle": "2021-04-18T00:36:01.538655Z",
     "shell.execute_reply": "2021-04-18T00:36:01.538073Z"
    },
    "papermill": {
     "duration": 0.060661,
     "end_time": "2021-04-18T00:36:01.538798",
     "exception": false,
     "start_time": "2021-04-18T00:36:01.478137",
     "status": "completed"
    },
    "tags": []
   },
   "outputs": [],
   "source": [
    "class Config:\n",
    "    pass\n",
    "config = Config()\n",
    "config.lr = 0.001\n",
    "config.num_epochs = 251\n",
    "config.bs = 50"
   ]
  },
  {
   "cell_type": "markdown",
   "id": "according-mandate",
   "metadata": {
    "papermill": {
     "duration": 0.038766,
     "end_time": "2021-04-18T00:36:01.615122",
     "exception": false,
     "start_time": "2021-04-18T00:36:01.576356",
     "status": "completed"
    },
    "tags": []
   },
   "source": [
    "### Initializing data to the variables"
   ]
  },
  {
   "cell_type": "code",
   "execution_count": 16,
   "id": "academic-disposition",
   "metadata": {
    "execution": {
     "iopub.execute_input": "2021-04-18T00:36:01.698043Z",
     "iopub.status.busy": "2021-04-18T00:36:01.697331Z",
     "iopub.status.idle": "2021-04-18T00:36:01.710978Z",
     "shell.execute_reply": "2021-04-18T00:36:01.711576Z"
    },
    "papermill": {
     "duration": 0.057493,
     "end_time": "2021-04-18T00:36:01.711723",
     "exception": false,
     "start_time": "2021-04-18T00:36:01.654230",
     "status": "completed"
    },
    "tags": []
   },
   "outputs": [],
   "source": [
    "data = Data(X_train, y_train.reshape(-1,1))\n",
    "sampler = Sampler(data, config.bs, shuffle=True)\n",
    "\n",
    "dl = Dataloader(data, sampler)\n",
    "\n",
    "opt = GD(config.lr)\n",
    "loss = MSE()"
   ]
  },
  {
   "cell_type": "code",
   "execution_count": 17,
   "id": "featured-commission",
   "metadata": {
    "execution": {
     "iopub.execute_input": "2021-04-18T00:36:01.795109Z",
     "iopub.status.busy": "2021-04-18T00:36:01.794438Z",
     "iopub.status.idle": "2021-04-18T00:36:01.807220Z",
     "shell.execute_reply": "2021-04-18T00:36:01.807751Z"
    },
    "papermill": {
     "duration": 0.056545,
     "end_time": "2021-04-18T00:36:01.807955",
     "exception": false,
     "start_time": "2021-04-18T00:36:01.751410",
     "status": "completed"
    },
    "tags": []
   },
   "outputs": [],
   "source": [
    "training_xdata = X_train\n",
    "testing_xdata = X_test\n",
    "training_ydata = y_train.reshape(-1,1)\n",
    "testing_ydata = y_test.reshape(-1,1)"
   ]
  },
  {
   "cell_type": "markdown",
   "id": "played-safety",
   "metadata": {
    "papermill": {
     "duration": 0.039778,
     "end_time": "2021-04-18T00:36:01.886758",
     "exception": false,
     "start_time": "2021-04-18T00:36:01.846980",
     "status": "completed"
    },
    "tags": []
   },
   "source": [
    "### Running Models with the Training data\n",
    "Details about the network layers:\n",
    "- A first affine layer has 784 inputs and does 100 affine transforms. These are followed by a Relu\n",
    "- A second affine layer has 100 inputs from the 100 activations of the past layer, and does 100 affine transforms. These are followed by a Relu\n",
    "- A third affine layer has 100 activations and does 2 affine transformations to create an embedding for visualization. There is no non-linearity here.\n",
    "- A final \"logistic regression\" which has an affine transform from 2 inputs to 1 output, which is squeezed through a sigmoid.\n",
    "\n",
    "Help taken from Anshuman's Notebook."
   ]
  },
  {
   "cell_type": "code",
   "execution_count": 18,
   "id": "asian-bankruptcy",
   "metadata": {
    "execution": {
     "iopub.execute_input": "2021-04-18T00:36:01.968292Z",
     "iopub.status.busy": "2021-04-18T00:36:01.967593Z",
     "iopub.status.idle": "2021-04-18T00:36:01.986749Z",
     "shell.execute_reply": "2021-04-18T00:36:01.986157Z"
    },
    "papermill": {
     "duration": 0.061196,
     "end_time": "2021-04-18T00:36:01.986893",
     "exception": false,
     "start_time": "2021-04-18T00:36:01.925697",
     "status": "completed"
    },
    "tags": []
   },
   "outputs": [],
   "source": [
    "# layers for the Neural Network\n",
    "layers = [Affine(\"first\", 784, 100), Relu(\"first\"), Affine(\"second\", 100, 100), Relu(\"second\"), Affine(\"third\", 100, 2), Affine(\"final\", 2, 1), Sigmoid(\"final\")]\n",
    "model_nn = Model(layers)\n",
    "\n",
    "# layers for the Logistic Regression\n",
    "layers_lr = [Affine(\"logits\", 784, 1), Sigmoid(\"sigmoid\")]\n",
    "model_lr = Model(layers_lr)"
   ]
  },
  {
   "cell_type": "code",
   "execution_count": 19,
   "id": "removed-butler",
   "metadata": {
    "execution": {
     "iopub.execute_input": "2021-04-18T00:36:02.071062Z",
     "iopub.status.busy": "2021-04-18T00:36:02.069527Z",
     "iopub.status.idle": "2021-04-18T00:36:02.084067Z",
     "shell.execute_reply": "2021-04-18T00:36:02.083482Z"
    },
    "papermill": {
     "duration": 0.059843,
     "end_time": "2021-04-18T00:36:02.084221",
     "exception": false,
     "start_time": "2021-04-18T00:36:02.024378",
     "status": "completed"
    },
    "tags": []
   },
   "outputs": [],
   "source": [
    "# suffix _nn stands for Neural Network.\n",
    "learner_nn = Learner(loss, model_nn, opt, config.num_epochs)\n",
    "acc_nn = ClfCallback(learner_nn, config.bs, training_xdata , testing_xdata, training_ydata, testing_ydata)\n",
    "learner_nn.set_callbacks([acc_nn])"
   ]
  },
  {
   "cell_type": "code",
   "execution_count": 20,
   "id": "conceptual-throw",
   "metadata": {
    "execution": {
     "iopub.execute_input": "2021-04-18T00:36:02.178693Z",
     "iopub.status.busy": "2021-04-18T00:36:02.169579Z",
     "iopub.status.idle": "2021-04-18T00:38:26.074095Z",
     "shell.execute_reply": "2021-04-18T00:38:26.073501Z"
    },
    "papermill": {
     "duration": 143.95097,
     "end_time": "2021-04-18T00:38:26.074226",
     "exception": false,
     "start_time": "2021-04-18T00:36:02.123256",
     "status": "completed"
    },
    "tags": []
   },
   "outputs": [
    {
     "name": "stdout",
     "output_type": "stream",
     "text": [
      "====== Neural Network ======\n"
     ]
    },
    {
     "name": "stdout",
     "output_type": "stream",
     "text": [
      "Epoch 0, Loss 0.2465\n",
      "Training Accuracy: 0.6884, Testing Accuracy: 0.6900\n",
      "\n"
     ]
    },
    {
     "name": "stdout",
     "output_type": "stream",
     "text": [
      "Epoch 10, Loss 0.0708\n",
      "Training Accuracy: 0.9326, Testing Accuracy: 0.9405\n",
      "\n"
     ]
    },
    {
     "name": "stdout",
     "output_type": "stream",
     "text": [
      "Epoch 20, Loss 0.0465\n",
      "Training Accuracy: 0.9517, Testing Accuracy: 0.9572\n",
      "\n"
     ]
    },
    {
     "name": "stdout",
     "output_type": "stream",
     "text": [
      "Epoch 30, Loss 0.0381\n",
      "Training Accuracy: 0.9586, Testing Accuracy: 0.9652\n",
      "\n"
     ]
    },
    {
     "name": "stdout",
     "output_type": "stream",
     "text": [
      "Epoch 40, Loss 0.0337\n",
      "Training Accuracy: 0.9621, Testing Accuracy: 0.9672\n",
      "\n"
     ]
    },
    {
     "name": "stdout",
     "output_type": "stream",
     "text": [
      "Epoch 50, Loss 0.031\n",
      "Training Accuracy: 0.9649, Testing Accuracy: 0.9667\n",
      "\n"
     ]
    },
    {
     "name": "stdout",
     "output_type": "stream",
     "text": [
      "Epoch 60, Loss 0.0291\n",
      "Training Accuracy: 0.9659, Testing Accuracy: 0.9677\n",
      "\n"
     ]
    },
    {
     "name": "stdout",
     "output_type": "stream",
     "text": [
      "Epoch 70, Loss 0.0276\n",
      "Training Accuracy: 0.9678, Testing Accuracy: 0.9677\n",
      "\n"
     ]
    },
    {
     "name": "stdout",
     "output_type": "stream",
     "text": [
      "Epoch 80, Loss 0.0264\n",
      "Training Accuracy: 0.9694, Testing Accuracy: 0.9682\n",
      "\n"
     ]
    },
    {
     "name": "stdout",
     "output_type": "stream",
     "text": [
      "Epoch 90, Loss 0.0254\n",
      "Training Accuracy: 0.9710, Testing Accuracy: 0.9698\n",
      "\n"
     ]
    },
    {
     "name": "stdout",
     "output_type": "stream",
     "text": [
      "Epoch 100, Loss 0.0245\n",
      "Training Accuracy: 0.9721, Testing Accuracy: 0.9703\n",
      "\n"
     ]
    },
    {
     "name": "stdout",
     "output_type": "stream",
     "text": [
      "Epoch 110, Loss 0.0237\n",
      "Training Accuracy: 0.9734, Testing Accuracy: 0.9713\n",
      "\n"
     ]
    },
    {
     "name": "stdout",
     "output_type": "stream",
     "text": [
      "Epoch 120, Loss 0.023\n",
      "Training Accuracy: 0.9743, Testing Accuracy: 0.9713\n",
      "\n"
     ]
    },
    {
     "name": "stdout",
     "output_type": "stream",
     "text": [
      "Epoch 130, Loss 0.0224\n",
      "Training Accuracy: 0.9756, Testing Accuracy: 0.9708\n",
      "\n"
     ]
    },
    {
     "name": "stdout",
     "output_type": "stream",
     "text": [
      "Epoch 140, Loss 0.0218\n",
      "Training Accuracy: 0.9762, Testing Accuracy: 0.9718\n",
      "\n"
     ]
    },
    {
     "name": "stdout",
     "output_type": "stream",
     "text": [
      "Epoch 150, Loss 0.0212\n",
      "Training Accuracy: 0.9769, Testing Accuracy: 0.9728\n",
      "\n"
     ]
    },
    {
     "name": "stdout",
     "output_type": "stream",
     "text": [
      "Epoch 160, Loss 0.0207\n",
      "Training Accuracy: 0.9777, Testing Accuracy: 0.9728\n",
      "\n"
     ]
    },
    {
     "name": "stdout",
     "output_type": "stream",
     "text": [
      "Epoch 170, Loss 0.0202\n",
      "Training Accuracy: 0.9781, Testing Accuracy: 0.9738\n",
      "\n"
     ]
    },
    {
     "name": "stdout",
     "output_type": "stream",
     "text": [
      "Epoch 180, Loss 0.0197\n",
      "Training Accuracy: 0.9785, Testing Accuracy: 0.9743\n",
      "\n"
     ]
    },
    {
     "name": "stdout",
     "output_type": "stream",
     "text": [
      "Epoch 190, Loss 0.0193\n",
      "Training Accuracy: 0.9789, Testing Accuracy: 0.9743\n",
      "\n"
     ]
    },
    {
     "name": "stdout",
     "output_type": "stream",
     "text": [
      "Epoch 200, Loss 0.0189\n",
      "Training Accuracy: 0.9793, Testing Accuracy: 0.9743\n",
      "\n"
     ]
    },
    {
     "name": "stdout",
     "output_type": "stream",
     "text": [
      "Epoch 210, Loss 0.0184\n",
      "Training Accuracy: 0.9801, Testing Accuracy: 0.9743\n",
      "\n"
     ]
    },
    {
     "name": "stdout",
     "output_type": "stream",
     "text": [
      "Epoch 220, Loss 0.018\n",
      "Training Accuracy: 0.9806, Testing Accuracy: 0.9743\n",
      "\n"
     ]
    },
    {
     "name": "stdout",
     "output_type": "stream",
     "text": [
      "Epoch 230, Loss 0.0177\n",
      "Training Accuracy: 0.9809, Testing Accuracy: 0.9753\n",
      "\n"
     ]
    },
    {
     "name": "stdout",
     "output_type": "stream",
     "text": [
      "Epoch 240, Loss 0.0173\n",
      "Training Accuracy: 0.9811, Testing Accuracy: 0.9753\n",
      "\n"
     ]
    },
    {
     "name": "stdout",
     "output_type": "stream",
     "text": [
      "Epoch 250, Loss 0.0169\n",
      "Training Accuracy: 0.9815, Testing Accuracy: 0.9758\n",
      "\n"
     ]
    },
    {
     "data": {
      "text/plain": [
       "0.0036332462138189267"
      ]
     },
     "execution_count": 20,
     "metadata": {},
     "output_type": "execute_result"
    }
   ],
   "source": [
    "print(\"====== Neural Network ======\")\n",
    "learner_nn.train_loop(dl)"
   ]
  },
  {
   "cell_type": "markdown",
   "id": "competent-suffering",
   "metadata": {
    "papermill": {
     "duration": 0.047596,
     "end_time": "2021-04-18T00:38:26.175291",
     "exception": false,
     "start_time": "2021-04-18T00:38:26.127695",
     "status": "completed"
    },
    "tags": []
   },
   "source": [
    "### Logistic Regression based Implementation."
   ]
  },
  {
   "cell_type": "code",
   "execution_count": 21,
   "id": "qualified-psychiatry",
   "metadata": {
    "execution": {
     "iopub.execute_input": "2021-04-18T00:38:26.283479Z",
     "iopub.status.busy": "2021-04-18T00:38:26.282816Z",
     "iopub.status.idle": "2021-04-18T00:38:26.297407Z",
     "shell.execute_reply": "2021-04-18T00:38:26.296624Z"
    },
    "papermill": {
     "duration": 0.069459,
     "end_time": "2021-04-18T00:38:26.297561",
     "exception": false,
     "start_time": "2021-04-18T00:38:26.228102",
     "status": "completed"
    },
    "tags": []
   },
   "outputs": [],
   "source": [
    "learner_lr = Learner(loss, model_lr, opt, config.num_epochs)\n",
    "acc_lr = ClfCallback(learner_lr, config.bs, training_xdata , testing_xdata, training_ydata, testing_ydata)\n",
    "learner_lr.set_callbacks([acc_lr])"
   ]
  },
  {
   "cell_type": "code",
   "execution_count": 22,
   "id": "average-outside",
   "metadata": {
    "execution": {
     "iopub.execute_input": "2021-04-18T00:38:26.401634Z",
     "iopub.status.busy": "2021-04-18T00:38:26.400992Z",
     "iopub.status.idle": "2021-04-18T00:38:47.556602Z",
     "shell.execute_reply": "2021-04-18T00:38:47.557180Z"
    },
    "papermill": {
     "duration": 21.209819,
     "end_time": "2021-04-18T00:38:47.557341",
     "exception": false,
     "start_time": "2021-04-18T00:38:26.347522",
     "status": "completed"
    },
    "tags": []
   },
   "outputs": [
    {
     "name": "stdout",
     "output_type": "stream",
     "text": [
      "====== Logistic Regression ======\n",
      "Epoch 0, Loss 0.2555\n",
      "Training Accuracy: 0.6337, Testing Accuracy: 0.6310\n",
      "\n"
     ]
    },
    {
     "name": "stdout",
     "output_type": "stream",
     "text": [
      "Epoch 10, Loss 0.1054\n",
      "Training Accuracy: 0.9041, Testing Accuracy: 0.9118\n",
      "\n"
     ]
    },
    {
     "name": "stdout",
     "output_type": "stream",
     "text": [
      "Epoch 20, Loss 0.0807\n",
      "Training Accuracy: 0.9251, Testing Accuracy: 0.9345\n",
      "\n"
     ]
    },
    {
     "name": "stdout",
     "output_type": "stream",
     "text": [
      "Epoch 30, Loss 0.0693\n",
      "Training Accuracy: 0.9340, Testing Accuracy: 0.9430\n",
      "\n"
     ]
    },
    {
     "name": "stdout",
     "output_type": "stream",
     "text": [
      "Epoch 40, Loss 0.0625\n",
      "Training Accuracy: 0.9392, Testing Accuracy: 0.9476\n",
      "\n"
     ]
    },
    {
     "name": "stdout",
     "output_type": "stream",
     "text": [
      "Epoch 50, Loss 0.0578\n",
      "Training Accuracy: 0.9432, Testing Accuracy: 0.9531\n",
      "\n"
     ]
    },
    {
     "name": "stdout",
     "output_type": "stream",
     "text": [
      "Epoch 60, Loss 0.0544\n",
      "Training Accuracy: 0.9456, Testing Accuracy: 0.9561\n",
      "\n"
     ]
    },
    {
     "name": "stdout",
     "output_type": "stream",
     "text": [
      "Epoch 70, Loss 0.0518\n",
      "Training Accuracy: 0.9477, Testing Accuracy: 0.9572\n",
      "\n"
     ]
    },
    {
     "name": "stdout",
     "output_type": "stream",
     "text": [
      "Epoch 80, Loss 0.0497\n",
      "Training Accuracy: 0.9498, Testing Accuracy: 0.9592\n",
      "\n"
     ]
    },
    {
     "name": "stdout",
     "output_type": "stream",
     "text": [
      "Epoch 90, Loss 0.0479\n",
      "Training Accuracy: 0.9512, Testing Accuracy: 0.9597\n",
      "\n"
     ]
    },
    {
     "name": "stdout",
     "output_type": "stream",
     "text": [
      "Epoch 100, Loss 0.0465\n",
      "Training Accuracy: 0.9520, Testing Accuracy: 0.9612\n",
      "\n"
     ]
    },
    {
     "name": "stdout",
     "output_type": "stream",
     "text": [
      "Epoch 110, Loss 0.0452\n",
      "Training Accuracy: 0.9529, Testing Accuracy: 0.9617\n",
      "\n"
     ]
    },
    {
     "name": "stdout",
     "output_type": "stream",
     "text": [
      "Epoch 120, Loss 0.0442\n",
      "Training Accuracy: 0.9538, Testing Accuracy: 0.9612\n",
      "\n"
     ]
    },
    {
     "name": "stdout",
     "output_type": "stream",
     "text": [
      "Epoch 130, Loss 0.0432\n",
      "Training Accuracy: 0.9548, Testing Accuracy: 0.9617\n",
      "\n"
     ]
    },
    {
     "name": "stdout",
     "output_type": "stream",
     "text": [
      "Epoch 140, Loss 0.0424\n",
      "Training Accuracy: 0.9552, Testing Accuracy: 0.9627\n",
      "\n"
     ]
    },
    {
     "name": "stdout",
     "output_type": "stream",
     "text": [
      "Epoch 150, Loss 0.0416\n",
      "Training Accuracy: 0.9558, Testing Accuracy: 0.9627\n",
      "\n"
     ]
    },
    {
     "name": "stdout",
     "output_type": "stream",
     "text": [
      "Epoch 160, Loss 0.0409\n",
      "Training Accuracy: 0.9568, Testing Accuracy: 0.9632\n",
      "\n"
     ]
    },
    {
     "name": "stdout",
     "output_type": "stream",
     "text": [
      "Epoch 170, Loss 0.0403\n",
      "Training Accuracy: 0.9570, Testing Accuracy: 0.9637\n",
      "\n"
     ]
    },
    {
     "name": "stdout",
     "output_type": "stream",
     "text": [
      "Epoch 180, Loss 0.0397\n",
      "Training Accuracy: 0.9573, Testing Accuracy: 0.9637\n",
      "\n"
     ]
    },
    {
     "name": "stdout",
     "output_type": "stream",
     "text": [
      "Epoch 190, Loss 0.0392\n",
      "Training Accuracy: 0.9577, Testing Accuracy: 0.9642\n",
      "\n"
     ]
    },
    {
     "name": "stdout",
     "output_type": "stream",
     "text": [
      "Epoch 200, Loss 0.0387\n",
      "Training Accuracy: 0.9579, Testing Accuracy: 0.9637\n",
      "\n"
     ]
    },
    {
     "name": "stdout",
     "output_type": "stream",
     "text": [
      "Epoch 210, Loss 0.0382\n",
      "Training Accuracy: 0.9584, Testing Accuracy: 0.9637\n",
      "\n"
     ]
    },
    {
     "name": "stdout",
     "output_type": "stream",
     "text": [
      "Epoch 220, Loss 0.0378\n",
      "Training Accuracy: 0.9590, Testing Accuracy: 0.9647\n",
      "\n"
     ]
    },
    {
     "name": "stdout",
     "output_type": "stream",
     "text": [
      "Epoch 230, Loss 0.0374\n",
      "Training Accuracy: 0.9593, Testing Accuracy: 0.9652\n",
      "\n"
     ]
    },
    {
     "name": "stdout",
     "output_type": "stream",
     "text": [
      "Epoch 240, Loss 0.0371\n",
      "Training Accuracy: 0.9594, Testing Accuracy: 0.9652\n",
      "\n"
     ]
    },
    {
     "name": "stdout",
     "output_type": "stream",
     "text": [
      "Epoch 250, Loss 0.0367\n",
      "Training Accuracy: 0.9598, Testing Accuracy: 0.9657\n",
      "\n"
     ]
    },
    {
     "data": {
      "text/plain": [
       "0.05779362143436784"
      ]
     },
     "execution_count": 22,
     "metadata": {},
     "output_type": "execute_result"
    }
   ],
   "source": [
    "print(\"====== Logistic Regression ======\")\n",
    "learner_lr.train_loop(dl)"
   ]
  },
  {
   "cell_type": "markdown",
   "id": "adjusted-possible",
   "metadata": {
    "papermill": {
     "duration": 0.056462,
     "end_time": "2021-04-18T00:38:47.671524",
     "exception": false,
     "start_time": "2021-04-18T00:38:47.615062",
     "status": "completed"
    },
    "tags": []
   },
   "source": [
    "### Comparing results of NN and LR"
   ]
  },
  {
   "cell_type": "code",
   "execution_count": 23,
   "id": "mental-multimedia",
   "metadata": {
    "execution": {
     "iopub.execute_input": "2021-04-18T00:38:47.793975Z",
     "iopub.status.busy": "2021-04-18T00:38:47.793307Z",
     "iopub.status.idle": "2021-04-18T00:38:48.116689Z",
     "shell.execute_reply": "2021-04-18T00:38:48.115936Z"
    },
    "papermill": {
     "duration": 0.387224,
     "end_time": "2021-04-18T00:38:48.116835",
     "exception": false,
     "start_time": "2021-04-18T00:38:47.729611",
     "status": "completed"
    },
    "tags": []
   },
   "outputs": [
    {
     "data": {
      "text/plain": [
       "<matplotlib.legend.Legend at 0x7f45708154e0>"
      ]
     },
     "execution_count": 23,
     "metadata": {},
     "output_type": "execute_result"
    },
    {
     "data": {
      "image/png": "[encoded data removed]",
      "text/plain": [
       "<Figure size 1080x720 with 1 Axes>"
      ]
     },
     "metadata": {
      "needs_background": "light"
     },
     "output_type": "display_data"
    }
   ],
   "source": [
    "plt.figure(figsize=(15,10))\n",
    "\n",
    "# Neural Network plots\n",
    "plt.plot(acc_nn.accuracies, 'r-', label = \"Training Accuracies - NN\")\n",
    "plt.plot(acc_nn.test_accuracies, 'g-', label = \"Testing Accuracies - NN\")\n",
    "\n",
    "# Logistic Regression plots\n",
    "plt.plot(acc_lr.accuracies, 'k-', label = \"Training Accuracies - LR\")\n",
    "plt.plot(acc_lr.test_accuracies, 'b-', label = \"Testing Accuracies - LR\")\n",
    "\n",
    "plt.ylim(0.8, 1)\n",
    "\n",
    "plt.legend()\n",
    "\n"
   ]
  },
  {
   "cell_type": "markdown",
   "id": "sexual-flesh",
   "metadata": {
    "papermill": {
     "duration": 0.060774,
     "end_time": "2021-04-18T00:38:48.238993",
     "exception": false,
     "start_time": "2021-04-18T00:38:48.178219",
     "status": "completed"
    },
    "tags": []
   },
   "source": [
    "### From the plot, we can observe the following:\n",
    "- Neural Network achieves higher accuracy than the Logistic Regression model.\n",
    "- This apparently, is because of overfitting, i.e. NN captures more noise than data.\n",
    "- Testing accuracy of NN drops below the Training accuracy at higher epochs. This explains the over-fitting on training data.\n",
    "- Logistic Regression gives a reliable accuracy, without the above mentioned problem.\n"
   ]
  },
  {
   "cell_type": "markdown",
   "id": "institutional-pacific",
   "metadata": {
    "papermill": {
     "duration": 0.05967,
     "end_time": "2021-04-18T00:38:48.359420",
     "exception": false,
     "start_time": "2021-04-18T00:38:48.299750",
     "status": "completed"
    },
    "tags": []
   },
   "source": [
    "### Moving till the last but one layer (excluding it).\n",
    "#### Plotting the outputs of this layer of the NN."
   ]
  },
  {
   "cell_type": "code",
   "execution_count": 24,
   "id": "economic-server",
   "metadata": {
    "execution": {
     "iopub.execute_input": "2021-04-18T00:38:48.493178Z",
     "iopub.status.busy": "2021-04-18T00:38:48.490948Z",
     "iopub.status.idle": "2021-04-18T00:38:48.502652Z",
     "shell.execute_reply": "2021-04-18T00:38:48.503497Z"
    },
    "papermill": {
     "duration": 0.08434,
     "end_time": "2021-04-18T00:38:48.503693",
     "exception": false,
     "start_time": "2021-04-18T00:38:48.419353",
     "status": "completed"
    },
    "tags": []
   },
   "outputs": [],
   "source": [
    "model_new = Model(layers[:-2])"
   ]
  },
  {
   "cell_type": "code",
   "execution_count": 25,
   "id": "varied-upgrade",
   "metadata": {
    "execution": {
     "iopub.execute_input": "2021-04-18T00:38:48.632698Z",
     "iopub.status.busy": "2021-04-18T00:38:48.631589Z",
     "iopub.status.idle": "2021-04-18T00:38:48.657354Z",
     "shell.execute_reply": "2021-04-18T00:38:48.657968Z"
    },
    "papermill": {
     "duration": 0.09519,
     "end_time": "2021-04-18T00:38:48.658128",
     "exception": false,
     "start_time": "2021-04-18T00:38:48.562938",
     "status": "completed"
    },
    "tags": []
   },
   "outputs": [],
   "source": [
    "plot_testing = model_new(testing_xdata)"
   ]
  },
  {
   "cell_type": "code",
   "execution_count": 26,
   "id": "specific-handling",
   "metadata": {
    "execution": {
     "iopub.execute_input": "2021-04-18T00:38:48.794981Z",
     "iopub.status.busy": "2021-04-18T00:38:48.793885Z",
     "iopub.status.idle": "2021-04-18T00:38:49.014014Z",
     "shell.execute_reply": "2021-04-18T00:38:49.013445Z"
    },
    "papermill": {
     "duration": 0.296305,
     "end_time": "2021-04-18T00:38:49.014152",
     "exception": false,
     "start_time": "2021-04-18T00:38:48.717847",
     "status": "completed"
    },
    "tags": []
   },
   "outputs": [
    {
     "data": {
      "text/plain": [
       "Text(0.5, 1.0, 'Outputs')"
      ]
     },
     "execution_count": 26,
     "metadata": {},
     "output_type": "execute_result"
    },
    {
     "data": {
      "image/png": "[encoded data removed]",
      "text/plain": [
       "<Figure size 576x504 with 1 Axes>"
      ]
     },
     "metadata": {
      "needs_background": "light"
     },
     "output_type": "display_data"
    }
   ],
   "source": [
    "plt.figure(figsize=(8,7))\n",
    "plt.scatter(plot_testing[:,0], plot_testing[:,1], alpha = 0.1, c = y_test.ravel());\n",
    "plt.title('Outputs')"
   ]
  },
  {
   "cell_type": "markdown",
   "id": "described-knowing",
   "metadata": {
    "papermill": {
     "duration": 0.090499,
     "end_time": "2021-04-18T00:38:49.169378",
     "exception": false,
     "start_time": "2021-04-18T00:38:49.078879",
     "status": "completed"
    },
    "tags": []
   },
   "source": [
    "### Plotting probability contours"
   ]
  },
  {
   "cell_type": "code",
   "execution_count": 27,
   "id": "needed-growing",
   "metadata": {
    "execution": {
     "iopub.execute_input": "2021-04-18T00:38:49.295566Z",
     "iopub.status.busy": "2021-04-18T00:38:49.294818Z",
     "iopub.status.idle": "2021-04-18T00:38:49.307895Z",
     "shell.execute_reply": "2021-04-18T00:38:49.308370Z"
    },
    "papermill": {
     "duration": 0.079779,
     "end_time": "2021-04-18T00:38:49.308615",
     "exception": false,
     "start_time": "2021-04-18T00:38:49.228836",
     "status": "completed"
    },
    "tags": []
   },
   "outputs": [],
   "source": [
    "model_prob = Model(layers[-2:]) "
   ]
  },
  {
   "cell_type": "code",
   "execution_count": 28,
   "id": "introductory-enforcement",
   "metadata": {
    "execution": {
     "iopub.execute_input": "2021-04-18T00:38:49.437194Z",
     "iopub.status.busy": "2021-04-18T00:38:49.436504Z",
     "iopub.status.idle": "2021-04-18T00:38:49.452017Z",
     "shell.execute_reply": "2021-04-18T00:38:49.452543Z"
    },
    "papermill": {
     "duration": 0.083198,
     "end_time": "2021-04-18T00:38:49.452739",
     "exception": false,
     "start_time": "2021-04-18T00:38:49.369541",
     "status": "completed"
    },
    "tags": []
   },
   "outputs": [],
   "source": [
    "# Adjust the x and y ranges according to the above generated plot.\n",
    "x_range = np.linspace(-4, 1, 100) \n",
    "y_range = np.linspace(-6, 6, 100) \n",
    "x_grid, y_grid = np.meshgrid(x_range, y_range) # x_grid and y_grig are of size 100 X 100\n",
    "\n",
    "# converting x_grid and y_grid to continuous arrays\n",
    "x_grid_flat = np.ravel(x_grid)\n",
    "y_grid_flat = np.ravel(y_grid)\n",
    "\n",
    "# The last layer of the current model takes two columns as input. Hence transpose of np.vstack() is required.\n",
    "X = np.vstack((x_grid_flat, y_grid_flat)).T\n",
    "\n",
    "# x_grid and y_grid are of size 100 x 100\n",
    "probability_contour = model_prob(X).reshape(100,100) "
   ]
  },
  {
   "cell_type": "code",
   "execution_count": 29,
   "id": "understood-landing",
   "metadata": {
    "execution": {
     "iopub.execute_input": "2021-04-18T00:38:49.579430Z",
     "iopub.status.busy": "2021-04-18T00:38:49.578786Z",
     "iopub.status.idle": "2021-04-18T00:38:49.872028Z",
     "shell.execute_reply": "2021-04-18T00:38:49.870804Z"
    },
    "papermill": {
     "duration": 0.358637,
     "end_time": "2021-04-18T00:38:49.872171",
     "exception": false,
     "start_time": "2021-04-18T00:38:49.513534",
     "status": "completed"
    },
    "tags": []
   },
   "outputs": [
    {
     "data": {
      "image/png": "[encoded data removed]",
      "text/plain": [
       "<Figure size 720x648 with 1 Axes>"
      ]
     },
     "metadata": {
      "needs_background": "light"
     },
     "output_type": "display_data"
    }
   ],
   "source": [
    "plt.figure(figsize=(10,9))\n",
    "plt.scatter(plot_testing[:,0], plot_testing[:,1], alpha = 0.1, c = y_test.ravel())\n",
    "contours = plt.contour(x_grid,y_grid,probability_contour)\n",
    "plt.title('Probability Contours')\n",
    "plt.clabel(contours, inline = True );"
   ]
  }
 ],
 "metadata": {
  "kernelspec": {
   "display_name": "Python 3",
   "language": "python",
   "name": "python3"
  },
  "language_info": {
   "codemirror_mode": {
    "name": "ipython",
    "version": 3
   },
   "file_extension": ".py",
   "mimetype": "text/x-python",
   "name": "python",
   "nbconvert_exporter": "python",
   "pygments_lexer": "ipython3",
   "version": "3.6.13"
  },
  "papermill": {
   "duration": 470.402358,
   "end_time": "2021-04-18T00:38:50.351641",
   "environment_variables": {},
   "exception": null,
   "input_path": "2020-08-11-NeuralNetwork.ipynb",
   "output_path": "2020-08-11-NeuralNetwork.ipynb",
   "parameters": {},
   "start_time": "2021-04-18T00:30:59.949283",
   "version": "2.1.2"
  }
 },
 "nbformat": 4,
 "nbformat_minor": 5
}