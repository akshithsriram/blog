{
 "cells": [
  {
   "cell_type": "markdown",
   "metadata": {
    "papermill": {
     "duration": 0.027138,
     "end_time": "2020-12-25T00:12:50.685551",
     "exception": false,
     "start_time": "2020-12-25T00:12:50.658413",
     "status": "completed"
    },
    "tags": []
   },
   "source": [
    "# \"A Basic Neural Network: Differentiate Hand-Written Digits\"\n",
    "\n",
    "- badges: true\n",
    "- author: Akshith Sriram"
   ]
  },
  {
   "cell_type": "markdown",
   "metadata": {
    "papermill": {
     "duration": 0.021961,
     "end_time": "2020-12-25T00:12:50.730305",
     "exception": false,
     "start_time": "2020-12-25T00:12:50.708344",
     "status": "completed"
    },
    "tags": []
   },
   "source": [
    "### Key Objectives:\n",
    "- Building a neural network that differentiates two hand-written digits 3 and 8.\n",
    "- Comparing the results of this Neural Network (NN) to that of a Logistic Regression (LR) model.\n",
    "\n",
    "### Requirements:\n",
    "- 'Kudzu' : A neural network library that was designed during our course by [Univ.AI](www.univ.ai). \n",
    "- MNIST Database\n",
    "\n",
    "If MNIST is not installed, use the command `!pip install mnist` given below.\n",
    "It can be run both from the command line and Jupyter Notebook."
   ]
  },
  {
   "cell_type": "code",
   "execution_count": 1,
   "metadata": {
    "execution": {
     "iopub.execute_input": "2020-12-25T00:12:50.784945Z",
     "iopub.status.busy": "2020-12-25T00:12:50.784429Z",
     "iopub.status.idle": "2020-12-25T00:12:52.088725Z",
     "shell.execute_reply": "2020-12-25T00:12:52.089203Z"
    },
    "papermill": {
     "duration": 1.335677,
     "end_time": "2020-12-25T00:12:52.089400",
     "exception": false,
     "start_time": "2020-12-25T00:12:50.753723",
     "status": "completed"
    },
    "tags": []
   },
   "outputs": [
    {
     "name": "stdout",
     "output_type": "stream",
     "text": [
      "Collecting mnist\r\n"
     ]
    },
    {
     "name": "stdout",
     "output_type": "stream",
     "text": [
      "  Downloading mnist-0.2.2-py2.py3-none-any.whl (3.5 kB)\r\n",
      "Requirement already satisfied: numpy in /opt/hostedtoolcache/Python/3.6.12/x64/lib/python3.6/site-packages (from mnist) (1.19.4)\r\n"
     ]
    },
    {
     "name": "stdout",
     "output_type": "stream",
     "text": [
      "Installing collected packages: mnist\r\n"
     ]
    },
    {
     "name": "stdout",
     "output_type": "stream",
     "text": [
      "Successfully installed mnist-0.2.2\r\n"
     ]
    },
    {
     "name": "stdout",
     "output_type": "stream",
     "text": [
      "\u001b[33mWARNING: You are using pip version 20.3.1; however, version 20.3.3 is available.\r\n",
      "You should consider upgrading via the '/opt/hostedtoolcache/Python/3.6.12/x64/bin/python -m pip install --upgrade pip' command.\u001b[0m\r\n"
     ]
    }
   ],
   "source": [
    "!pip install mnist "
   ]
  },
  {
   "cell_type": "markdown",
   "metadata": {
    "papermill": {
     "duration": 0.02348,
     "end_time": "2020-12-25T00:12:52.137901",
     "exception": false,
     "start_time": "2020-12-25T00:12:52.114421",
     "status": "completed"
    },
    "tags": []
   },
   "source": [
    "#### Importing necessary libraries"
   ]
  },
  {
   "cell_type": "code",
   "execution_count": 2,
   "metadata": {
    "execution": {
     "iopub.execute_input": "2020-12-25T00:12:52.191695Z",
     "iopub.status.busy": "2020-12-25T00:12:52.191166Z",
     "iopub.status.idle": "2020-12-25T00:12:52.706281Z",
     "shell.execute_reply": "2020-12-25T00:12:52.705380Z"
    },
    "papermill": {
     "duration": 0.54513,
     "end_time": "2020-12-25T00:12:52.706431",
     "exception": false,
     "start_time": "2020-12-25T00:12:52.161301",
     "status": "completed"
    },
    "tags": []
   },
   "outputs": [],
   "source": [
    "%load_ext autoreload\n",
    "%autoreload 2\n",
    "\n",
    "%matplotlib inline\n",
    "import matplotlib.pyplot as plt\n",
    "\n",
    "import numpy as np\n",
    "import pandas as pd"
   ]
  },
  {
   "cell_type": "markdown",
   "metadata": {
    "papermill": {
     "duration": 0.023839,
     "end_time": "2020-12-25T00:12:52.754245",
     "exception": false,
     "start_time": "2020-12-25T00:12:52.730406",
     "status": "completed"
    },
    "tags": []
   },
   "source": [
    "### Preparing the Data"
   ]
  },
  {
   "cell_type": "code",
   "execution_count": 3,
   "metadata": {
    "execution": {
     "iopub.execute_input": "2020-12-25T00:12:52.817703Z",
     "iopub.status.busy": "2020-12-25T00:12:52.816954Z",
     "iopub.status.idle": "2020-12-25T00:12:52.821061Z",
     "shell.execute_reply": "2020-12-25T00:12:52.820653Z"
    },
    "papermill": {
     "duration": 0.043622,
     "end_time": "2020-12-25T00:12:52.821171",
     "exception": false,
     "start_time": "2020-12-25T00:12:52.777549",
     "status": "completed"
    },
    "tags": []
   },
   "outputs": [],
   "source": [
    "import mnist"
   ]
  },
  {
   "cell_type": "code",
   "execution_count": 4,
   "metadata": {
    "execution": {
     "iopub.execute_input": "2020-12-25T00:12:52.871578Z",
     "iopub.status.busy": "2020-12-25T00:12:52.871006Z",
     "iopub.status.idle": "2020-12-25T00:12:53.566224Z",
     "shell.execute_reply": "2020-12-25T00:12:53.565659Z"
    },
    "papermill": {
     "duration": 0.721863,
     "end_time": "2020-12-25T00:12:53.566406",
     "exception": false,
     "start_time": "2020-12-25T00:12:52.844543",
     "status": "completed"
    },
    "tags": []
   },
   "outputs": [],
   "source": [
    "train_images = mnist.train_images()\n",
    "train_labels = mnist.train_labels()"
   ]
  },
  {
   "cell_type": "code",
   "execution_count": 5,
   "metadata": {
    "execution": {
     "iopub.execute_input": "2020-12-25T00:12:53.618038Z",
     "iopub.status.busy": "2020-12-25T00:12:53.617528Z",
     "iopub.status.idle": "2020-12-25T00:12:53.631239Z",
     "shell.execute_reply": "2020-12-25T00:12:53.630613Z"
    },
    "papermill": {
     "duration": 0.040961,
     "end_time": "2020-12-25T00:12:53.631364",
     "exception": false,
     "start_time": "2020-12-25T00:12:53.590403",
     "status": "completed"
    },
    "tags": []
   },
   "outputs": [
    {
     "data": {
      "text/plain": [
       "((60000, 28, 28), (60000,))"
      ]
     },
     "execution_count": 5,
     "metadata": {},
     "output_type": "execute_result"
    }
   ],
   "source": [
    "train_images.shape, train_labels.shape"
   ]
  },
  {
   "cell_type": "code",
   "execution_count": 6,
   "metadata": {
    "execution": {
     "iopub.execute_input": "2020-12-25T00:12:53.684046Z",
     "iopub.status.busy": "2020-12-25T00:12:53.683549Z",
     "iopub.status.idle": "2020-12-25T00:12:53.953570Z",
     "shell.execute_reply": "2020-12-25T00:12:53.953072Z"
    },
    "papermill": {
     "duration": 0.298248,
     "end_time": "2020-12-25T00:12:53.953695",
     "exception": false,
     "start_time": "2020-12-25T00:12:53.655447",
     "status": "completed"
    },
    "tags": []
   },
   "outputs": [],
   "source": [
    "test_images = mnist.test_images()\n",
    "test_labels = mnist.test_labels()"
   ]
  },
  {
   "cell_type": "code",
   "execution_count": 7,
   "metadata": {
    "execution": {
     "iopub.execute_input": "2020-12-25T00:12:54.008125Z",
     "iopub.status.busy": "2020-12-25T00:12:54.006747Z",
     "iopub.status.idle": "2020-12-25T00:12:54.018835Z",
     "shell.execute_reply": "2020-12-25T00:12:54.018376Z"
    },
    "papermill": {
     "duration": 0.041144,
     "end_time": "2020-12-25T00:12:54.018952",
     "exception": false,
     "start_time": "2020-12-25T00:12:53.977808",
     "status": "completed"
    },
    "tags": []
   },
   "outputs": [
    {
     "data": {
      "text/plain": [
       "((10000, 28, 28), (10000,))"
      ]
     },
     "execution_count": 7,
     "metadata": {},
     "output_type": "execute_result"
    }
   ],
   "source": [
    "test_images.shape, test_labels.shape"
   ]
  },
  {
   "cell_type": "code",
   "execution_count": 8,
   "metadata": {
    "execution": {
     "iopub.execute_input": "2020-12-25T00:12:54.096798Z",
     "iopub.status.busy": "2020-12-25T00:12:54.084023Z",
     "iopub.status.idle": "2020-12-25T00:12:54.208685Z",
     "shell.execute_reply": "2020-12-25T00:12:54.208231Z"
    },
    "papermill": {
     "duration": 0.166053,
     "end_time": "2020-12-25T00:12:54.208859",
     "exception": false,
     "start_time": "2020-12-25T00:12:54.042806",
     "status": "completed"
    },
    "tags": []
   },
   "outputs": [
    {
     "name": "stdout",
     "output_type": "stream",
     "text": [
      "2\n"
     ]
    },
    {
     "data": {
      "text/plain": [
       "<matplotlib.image.AxesImage at 0x7f0130bba358>"
      ]
     },
     "execution_count": 8,
     "metadata": {},
     "output_type": "execute_result"
    },
    {
     "data": {
      "image/png": "[encoded data removed]",
      "text/plain": [
       "<Figure size 432x288 with 1 Axes>"
      ]
     },
     "metadata": {
      "needs_background": "light"
     },
     "output_type": "display_data"
    }
   ],
   "source": [
    "image_index = 7776 # You may select anything up to 60,000\n",
    "print(train_labels[image_index]) \n",
    "plt.imshow(train_images[image_index], cmap='Greys')"
   ]
  },
  {
   "cell_type": "markdown",
   "metadata": {
    "papermill": {
     "duration": 0.025982,
     "end_time": "2020-12-25T00:12:54.260600",
     "exception": false,
     "start_time": "2020-12-25T00:12:54.234618",
     "status": "completed"
    },
    "tags": []
   },
   "source": [
    "## Filter data to get 3 and 8 out"
   ]
  },
  {
   "cell_type": "code",
   "execution_count": 9,
   "metadata": {
    "execution": {
     "iopub.execute_input": "2020-12-25T00:12:54.319412Z",
     "iopub.status.busy": "2020-12-25T00:12:54.317609Z",
     "iopub.status.idle": "2020-12-25T00:12:54.331686Z",
     "shell.execute_reply": "2020-12-25T00:12:54.331269Z"
    },
    "papermill": {
     "duration": 0.046454,
     "end_time": "2020-12-25T00:12:54.331807",
     "exception": false,
     "start_time": "2020-12-25T00:12:54.285353",
     "status": "completed"
    },
    "tags": []
   },
   "outputs": [],
   "source": [
    "train_filter = np.where((train_labels == 3 ) | (train_labels == 8))\n",
    "test_filter = np.where((test_labels == 3) | (test_labels == 8))\n",
    "X_train, y_train = train_images[train_filter], train_labels[train_filter]\n",
    "X_test, y_test = test_images[test_filter], test_labels[test_filter]"
   ]
  },
  {
   "cell_type": "markdown",
   "metadata": {
    "papermill": {
     "duration": 0.024956,
     "end_time": "2020-12-25T00:12:54.381931",
     "exception": false,
     "start_time": "2020-12-25T00:12:54.356975",
     "status": "completed"
    },
    "tags": []
   },
   "source": [
    "We normalize the pixel values in the 0 to 1 range"
   ]
  },
  {
   "cell_type": "code",
   "execution_count": 10,
   "metadata": {
    "execution": {
     "iopub.execute_input": "2020-12-25T00:12:54.435630Z",
     "iopub.status.busy": "2020-12-25T00:12:54.435109Z",
     "iopub.status.idle": "2020-12-25T00:12:54.484169Z",
     "shell.execute_reply": "2020-12-25T00:12:54.483642Z"
    },
    "papermill": {
     "duration": 0.077588,
     "end_time": "2020-12-25T00:12:54.484306",
     "exception": false,
     "start_time": "2020-12-25T00:12:54.406718",
     "status": "completed"
    },
    "tags": []
   },
   "outputs": [],
   "source": [
    "X_train = X_train/255.\n",
    "X_test = X_test/255."
   ]
  },
  {
   "cell_type": "markdown",
   "metadata": {
    "papermill": {
     "duration": 0.025434,
     "end_time": "2020-12-25T00:12:54.536278",
     "exception": false,
     "start_time": "2020-12-25T00:12:54.510844",
     "status": "completed"
    },
    "tags": []
   },
   "source": [
    "Setup the labels as 1 (when the digit is 3) and 0 (when the digit is 8)"
   ]
  },
  {
   "cell_type": "code",
   "execution_count": 11,
   "metadata": {
    "execution": {
     "iopub.execute_input": "2020-12-25T00:12:54.598312Z",
     "iopub.status.busy": "2020-12-25T00:12:54.597763Z",
     "iopub.status.idle": "2020-12-25T00:12:54.605151Z",
     "shell.execute_reply": "2020-12-25T00:12:54.604667Z"
    },
    "papermill": {
     "duration": 0.043549,
     "end_time": "2020-12-25T00:12:54.605271",
     "exception": false,
     "start_time": "2020-12-25T00:12:54.561722",
     "status": "completed"
    },
    "tags": []
   },
   "outputs": [],
   "source": [
    "y_train = 1*(y_train==3)\n",
    "y_test = 1*(y_test==3)"
   ]
  },
  {
   "cell_type": "code",
   "execution_count": 12,
   "metadata": {
    "execution": {
     "iopub.execute_input": "2020-12-25T00:12:54.660204Z",
     "iopub.status.busy": "2020-12-25T00:12:54.659699Z",
     "iopub.status.idle": "2020-12-25T00:12:54.671364Z",
     "shell.execute_reply": "2020-12-25T00:12:54.671754Z"
    },
    "papermill": {
     "duration": 0.041511,
     "end_time": "2020-12-25T00:12:54.671889",
     "exception": false,
     "start_time": "2020-12-25T00:12:54.630378",
     "status": "completed"
    },
    "tags": []
   },
   "outputs": [
    {
     "data": {
      "text/plain": [
       "((11982, 28, 28), (1984, 28, 28))"
      ]
     },
     "execution_count": 12,
     "metadata": {},
     "output_type": "execute_result"
    }
   ],
   "source": [
    "X_train.shape, X_test.shape"
   ]
  },
  {
   "cell_type": "markdown",
   "metadata": {
    "papermill": {
     "duration": 0.025152,
     "end_time": "2020-12-25T00:12:54.722170",
     "exception": false,
     "start_time": "2020-12-25T00:12:54.697018",
     "status": "completed"
    },
    "tags": []
   },
   "source": [
    "### Reshape the input data to create a linear array"
   ]
  },
  {
   "cell_type": "code",
   "execution_count": 13,
   "metadata": {
    "execution": {
     "iopub.execute_input": "2020-12-25T00:12:54.788321Z",
     "iopub.status.busy": "2020-12-25T00:12:54.777471Z",
     "iopub.status.idle": "2020-12-25T00:12:54.790893Z",
     "shell.execute_reply": "2020-12-25T00:12:54.791304Z"
    },
    "papermill": {
     "duration": 0.044117,
     "end_time": "2020-12-25T00:12:54.791431",
     "exception": false,
     "start_time": "2020-12-25T00:12:54.747314",
     "status": "completed"
    },
    "tags": []
   },
   "outputs": [
    {
     "data": {
      "text/plain": [
       "((11982, 784), (1984, 784))"
      ]
     },
     "execution_count": 13,
     "metadata": {},
     "output_type": "execute_result"
    }
   ],
   "source": [
    "X_train = X_train.reshape(X_train.shape[0], -1)\n",
    "X_test = X_test.reshape(X_test.shape[0], -1)\n",
    "X_train.shape, X_test.shape"
   ]
  },
  {
   "cell_type": "markdown",
   "metadata": {
    "papermill": {
     "duration": 0.025235,
     "end_time": "2020-12-25T00:12:54.841799",
     "exception": false,
     "start_time": "2020-12-25T00:12:54.816564",
     "status": "completed"
    },
    "tags": []
   },
   "source": [
    "### Importing appropriate functions from 'Kudzu'"
   ]
  },
  {
   "cell_type": "code",
   "execution_count": 14,
   "metadata": {
    "execution": {
     "iopub.execute_input": "2020-12-25T00:12:54.900603Z",
     "iopub.status.busy": "2020-12-25T00:12:54.900070Z",
     "iopub.status.idle": "2020-12-25T00:12:54.915838Z",
     "shell.execute_reply": "2020-12-25T00:12:54.915408Z"
    },
    "papermill": {
     "duration": 0.048773,
     "end_time": "2020-12-25T00:12:54.915960",
     "exception": false,
     "start_time": "2020-12-25T00:12:54.867187",
     "status": "completed"
    },
    "tags": []
   },
   "outputs": [],
   "source": [
    "from kudzu.layer import Sigmoid\n",
    "from kudzu.layer import Relu\n",
    "from kudzu.layer import Affine, Sigmoid\n",
    "\n",
    "from kudzu.model import Model\n",
    "from kudzu.train import Learner\n",
    "from kudzu.optim import GD\n",
    "from kudzu.data import Data, Dataloader, Sampler\n",
    "\n",
    "from kudzu.callbacks import AccCallback\n",
    "from kudzu.callbacks import ClfCallback\n",
    "\n",
    "from kudzu.loss import MSE"
   ]
  },
  {
   "cell_type": "markdown",
   "metadata": {
    "papermill": {
     "duration": 0.025508,
     "end_time": "2020-12-25T00:12:54.966861",
     "exception": false,
     "start_time": "2020-12-25T00:12:54.941353",
     "status": "completed"
    },
    "tags": []
   },
   "source": [
    "### Let us create a `Config` class, to store important parameters. \n",
    "This class essentially plays the role of a dictionary."
   ]
  },
  {
   "cell_type": "code",
   "execution_count": 15,
   "metadata": {
    "execution": {
     "iopub.execute_input": "2020-12-25T00:12:55.024930Z",
     "iopub.status.busy": "2020-12-25T00:12:55.024414Z",
     "iopub.status.idle": "2020-12-25T00:12:55.034594Z",
     "shell.execute_reply": "2020-12-25T00:12:55.034153Z"
    },
    "papermill": {
     "duration": 0.042311,
     "end_time": "2020-12-25T00:12:55.034711",
     "exception": false,
     "start_time": "2020-12-25T00:12:54.992400",
     "status": "completed"
    },
    "tags": []
   },
   "outputs": [],
   "source": [
    "class Config:\n",
    "    pass\n",
    "config = Config()\n",
    "config.lr = 0.001\n",
    "config.num_epochs = 251\n",
    "config.bs = 50"
   ]
  },
  {
   "cell_type": "markdown",
   "metadata": {
    "papermill": {
     "duration": 0.025699,
     "end_time": "2020-12-25T00:12:55.085875",
     "exception": false,
     "start_time": "2020-12-25T00:12:55.060176",
     "status": "completed"
    },
    "tags": []
   },
   "source": [
    "### Initializing data to the variables"
   ]
  },
  {
   "cell_type": "code",
   "execution_count": 16,
   "metadata": {
    "execution": {
     "iopub.execute_input": "2020-12-25T00:12:55.152715Z",
     "iopub.status.busy": "2020-12-25T00:12:55.152204Z",
     "iopub.status.idle": "2020-12-25T00:12:55.157793Z",
     "shell.execute_reply": "2020-12-25T00:12:55.158177Z"
    },
    "papermill": {
     "duration": 0.046858,
     "end_time": "2020-12-25T00:12:55.158333",
     "exception": false,
     "start_time": "2020-12-25T00:12:55.111475",
     "status": "completed"
    },
    "tags": []
   },
   "outputs": [],
   "source": [
    "data = Data(X_train, y_train.reshape(-1,1))\n",
    "sampler = Sampler(data, config.bs, shuffle=True)\n",
    "\n",
    "dl = Dataloader(data, sampler)\n",
    "\n",
    "opt = GD(config.lr)\n",
    "loss = MSE()"
   ]
  },
  {
   "cell_type": "code",
   "execution_count": 17,
   "metadata": {
    "execution": {
     "iopub.execute_input": "2020-12-25T00:12:55.216536Z",
     "iopub.status.busy": "2020-12-25T00:12:55.216015Z",
     "iopub.status.idle": "2020-12-25T00:12:55.225369Z",
     "shell.execute_reply": "2020-12-25T00:12:55.225749Z"
    },
    "papermill": {
     "duration": 0.042318,
     "end_time": "2020-12-25T00:12:55.225883",
     "exception": false,
     "start_time": "2020-12-25T00:12:55.183565",
     "status": "completed"
    },
    "tags": []
   },
   "outputs": [],
   "source": [
    "training_xdata = X_train\n",
    "testing_xdata = X_test\n",
    "training_ydata = y_train.reshape(-1,1)\n",
    "testing_ydata = y_test.reshape(-1,1)"
   ]
  },
  {
   "cell_type": "markdown",
   "metadata": {
    "papermill": {
     "duration": 0.025493,
     "end_time": "2020-12-25T00:12:55.276892",
     "exception": false,
     "start_time": "2020-12-25T00:12:55.251399",
     "status": "completed"
    },
    "tags": []
   },
   "source": [
    "### Running Models with the Training data\n",
    "Details about the network layers:\n",
    "- A first affine layer has 784 inputs and does 100 affine transforms. These are followed by a Relu\n",
    "- A second affine layer has 100 inputs from the 100 activations of the past layer, and does 100 affine transforms. These are followed by a Relu\n",
    "- A third affine layer has 100 activations and does 2 affine transformations to create an embedding for visualization. There is no non-linearity here.\n",
    "- A final \"logistic regression\" which has an affine transform from 2 inputs to 1 output, which is squeezed through a sigmoid.\n",
    "\n",
    "Help taken from Anshuman's Notebook."
   ]
  },
  {
   "cell_type": "code",
   "execution_count": 18,
   "metadata": {
    "execution": {
     "iopub.execute_input": "2020-12-25T00:12:55.337541Z",
     "iopub.status.busy": "2020-12-25T00:12:55.336997Z",
     "iopub.status.idle": "2020-12-25T00:12:55.349645Z",
     "shell.execute_reply": "2020-12-25T00:12:55.349195Z"
    },
    "papermill": {
     "duration": 0.047381,
     "end_time": "2020-12-25T00:12:55.349761",
     "exception": false,
     "start_time": "2020-12-25T00:12:55.302380",
     "status": "completed"
    },
    "tags": []
   },
   "outputs": [],
   "source": [
    "# layers for the Neural Network\n",
    "layers = [Affine(\"first\", 784, 100), Relu(\"first\"), Affine(\"second\", 100, 100), Relu(\"second\"), Affine(\"third\", 100, 2), Affine(\"final\", 2, 1), Sigmoid(\"final\")]\n",
    "model_nn = Model(layers)\n",
    "\n",
    "# layers for the Logistic Regression\n",
    "layers_lr = [Affine(\"logits\", 784, 1), Sigmoid(\"sigmoid\")]\n",
    "model_lr = Model(layers_lr)"
   ]
  },
  {
   "cell_type": "code",
   "execution_count": 19,
   "metadata": {
    "execution": {
     "iopub.execute_input": "2020-12-25T00:12:55.405238Z",
     "iopub.status.busy": "2020-12-25T00:12:55.404728Z",
     "iopub.status.idle": "2020-12-25T00:12:55.416863Z",
     "shell.execute_reply": "2020-12-25T00:12:55.417291Z"
    },
    "papermill": {
     "duration": 0.042055,
     "end_time": "2020-12-25T00:12:55.417422",
     "exception": false,
     "start_time": "2020-12-25T00:12:55.375367",
     "status": "completed"
    },
    "tags": []
   },
   "outputs": [],
   "source": [
    "# suffix _nn stands for Neural Network.\n",
    "learner_nn = Learner(loss, model_nn, opt, config.num_epochs)\n",
    "acc_nn = ClfCallback(learner_nn, config.bs, training_xdata , testing_xdata, training_ydata, testing_ydata)\n",
    "learner_nn.set_callbacks([acc_nn])"
   ]
  },
  {
   "cell_type": "code",
   "execution_count": 20,
   "metadata": {
    "execution": {
     "iopub.execute_input": "2020-12-25T00:12:55.479720Z",
     "iopub.status.busy": "2020-12-25T00:12:55.479181Z",
     "iopub.status.idle": "2020-12-25T00:14:15.537405Z",
     "shell.execute_reply": "2020-12-25T00:14:15.537891Z"
    },
    "papermill": {
     "duration": 80.095199,
     "end_time": "2020-12-25T00:14:15.538035",
     "exception": false,
     "start_time": "2020-12-25T00:12:55.442836",
     "status": "completed"
    },
    "tags": []
   },
   "outputs": [
    {
     "name": "stdout",
     "output_type": "stream",
     "text": [
      "====== Neural Network ======\n"
     ]
    },
    {
     "name": "stdout",
     "output_type": "stream",
     "text": [
      "Epoch 0, Loss 0.2485\n",
      "Training Accuracy: 0.6738, Testing Accuracy: 0.6956\n",
      "\n"
     ]
    },
    {
     "name": "stdout",
     "output_type": "stream",
     "text": [
      "Epoch 10, Loss 0.0785\n",
      "Training Accuracy: 0.9244, Testing Accuracy: 0.9400\n",
      "\n"
     ]
    },
    {
     "name": "stdout",
     "output_type": "stream",
     "text": [
      "Epoch 20, Loss 0.0487\n",
      "Training Accuracy: 0.9495, Testing Accuracy: 0.9622\n",
      "\n"
     ]
    },
    {
     "name": "stdout",
     "output_type": "stream",
     "text": [
      "Epoch 30, Loss 0.0391\n",
      "Training Accuracy: 0.9584, Testing Accuracy: 0.9657\n",
      "\n"
     ]
    },
    {
     "name": "stdout",
     "output_type": "stream",
     "text": [
      "Epoch 40, Loss 0.0343\n",
      "Training Accuracy: 0.9634, Testing Accuracy: 0.9708\n",
      "\n"
     ]
    },
    {
     "name": "stdout",
     "output_type": "stream",
     "text": [
      "Epoch 50, Loss 0.0312\n",
      "Training Accuracy: 0.9658, Testing Accuracy: 0.9733\n",
      "\n"
     ]
    },
    {
     "name": "stdout",
     "output_type": "stream",
     "text": [
      "Epoch 60, Loss 0.0291\n",
      "Training Accuracy: 0.9677, Testing Accuracy: 0.9718\n",
      "\n"
     ]
    },
    {
     "name": "stdout",
     "output_type": "stream",
     "text": [
      "Epoch 70, Loss 0.0274\n",
      "Training Accuracy: 0.9694, Testing Accuracy: 0.9718\n",
      "\n"
     ]
    },
    {
     "name": "stdout",
     "output_type": "stream",
     "text": [
      "Epoch 80, Loss 0.0261\n",
      "Training Accuracy: 0.9709, Testing Accuracy: 0.9718\n",
      "\n"
     ]
    },
    {
     "name": "stdout",
     "output_type": "stream",
     "text": [
      "Epoch 90, Loss 0.0249\n",
      "Training Accuracy: 0.9719, Testing Accuracy: 0.9728\n",
      "\n"
     ]
    },
    {
     "name": "stdout",
     "output_type": "stream",
     "text": [
      "Epoch 100, Loss 0.0239\n",
      "Training Accuracy: 0.9732, Testing Accuracy: 0.9728\n",
      "\n"
     ]
    },
    {
     "name": "stdout",
     "output_type": "stream",
     "text": [
      "Epoch 110, Loss 0.0231\n",
      "Training Accuracy: 0.9745, Testing Accuracy: 0.9738\n",
      "\n"
     ]
    },
    {
     "name": "stdout",
     "output_type": "stream",
     "text": [
      "Epoch 120, Loss 0.0223\n",
      "Training Accuracy: 0.9756, Testing Accuracy: 0.9748\n",
      "\n"
     ]
    },
    {
     "name": "stdout",
     "output_type": "stream",
     "text": [
      "Epoch 130, Loss 0.0215\n",
      "Training Accuracy: 0.9760, Testing Accuracy: 0.9738\n",
      "\n"
     ]
    },
    {
     "name": "stdout",
     "output_type": "stream",
     "text": [
      "Epoch 140, Loss 0.0209\n",
      "Training Accuracy: 0.9770, Testing Accuracy: 0.9743\n",
      "\n"
     ]
    },
    {
     "name": "stdout",
     "output_type": "stream",
     "text": [
      "Epoch 150, Loss 0.0203\n",
      "Training Accuracy: 0.9777, Testing Accuracy: 0.9753\n",
      "\n"
     ]
    },
    {
     "name": "stdout",
     "output_type": "stream",
     "text": [
      "Epoch 160, Loss 0.0197\n",
      "Training Accuracy: 0.9785, Testing Accuracy: 0.9753\n",
      "\n"
     ]
    },
    {
     "name": "stdout",
     "output_type": "stream",
     "text": [
      "Epoch 170, Loss 0.0191\n",
      "Training Accuracy: 0.9794, Testing Accuracy: 0.9748\n",
      "\n"
     ]
    },
    {
     "name": "stdout",
     "output_type": "stream",
     "text": [
      "Epoch 180, Loss 0.0186\n",
      "Training Accuracy: 0.9801, Testing Accuracy: 0.9748\n",
      "\n"
     ]
    },
    {
     "name": "stdout",
     "output_type": "stream",
     "text": [
      "Epoch 190, Loss 0.0182\n",
      "Training Accuracy: 0.9808, Testing Accuracy: 0.9758\n",
      "\n"
     ]
    },
    {
     "name": "stdout",
     "output_type": "stream",
     "text": [
      "Epoch 200, Loss 0.0177\n",
      "Training Accuracy: 0.9812, Testing Accuracy: 0.9753\n",
      "\n"
     ]
    },
    {
     "name": "stdout",
     "output_type": "stream",
     "text": [
      "Epoch 210, Loss 0.0172\n",
      "Training Accuracy: 0.9819, Testing Accuracy: 0.9748\n",
      "\n"
     ]
    },
    {
     "name": "stdout",
     "output_type": "stream",
     "text": [
      "Epoch 220, Loss 0.0168\n",
      "Training Accuracy: 0.9823, Testing Accuracy: 0.9758\n",
      "\n"
     ]
    },
    {
     "name": "stdout",
     "output_type": "stream",
     "text": [
      "Epoch 230, Loss 0.0164\n",
      "Training Accuracy: 0.9829, Testing Accuracy: 0.9758\n",
      "\n"
     ]
    },
    {
     "name": "stdout",
     "output_type": "stream",
     "text": [
      "Epoch 240, Loss 0.016\n",
      "Training Accuracy: 0.9834, Testing Accuracy: 0.9763\n",
      "\n"
     ]
    },
    {
     "name": "stdout",
     "output_type": "stream",
     "text": [
      "Epoch 250, Loss 0.0156\n",
      "Training Accuracy: 0.9834, Testing Accuracy: 0.9763\n",
      "\n"
     ]
    },
    {
     "data": {
      "text/plain": [
       "0.02223017306497135"
      ]
     },
     "execution_count": 20,
     "metadata": {},
     "output_type": "execute_result"
    }
   ],
   "source": [
    "print(\"====== Neural Network ======\")\n",
    "learner_nn.train_loop(dl)"
   ]
  },
  {
   "cell_type": "markdown",
   "metadata": {
    "papermill": {
     "duration": 0.032781,
     "end_time": "2020-12-25T00:14:15.603998",
     "exception": false,
     "start_time": "2020-12-25T00:14:15.571217",
     "status": "completed"
    },
    "tags": []
   },
   "source": [
    "### Logistic Regression based Implementation."
   ]
  },
  {
   "cell_type": "code",
   "execution_count": 21,
   "metadata": {
    "execution": {
     "iopub.execute_input": "2020-12-25T00:14:15.684036Z",
     "iopub.status.busy": "2020-12-25T00:14:15.683496Z",
     "iopub.status.idle": "2020-12-25T00:14:15.690441Z",
     "shell.execute_reply": "2020-12-25T00:14:15.689971Z"
    },
    "papermill": {
     "duration": 0.053876,
     "end_time": "2020-12-25T00:14:15.690563",
     "exception": false,
     "start_time": "2020-12-25T00:14:15.636687",
     "status": "completed"
    },
    "tags": []
   },
   "outputs": [],
   "source": [
    "learner_lr = Learner(loss, model_lr, opt, config.num_epochs)\n",
    "acc_lr = ClfCallback(learner_lr, config.bs, training_xdata , testing_xdata, training_ydata, testing_ydata)\n",
    "learner_lr.set_callbacks([acc_lr])"
   ]
  },
  {
   "cell_type": "code",
   "execution_count": 22,
   "metadata": {
    "execution": {
     "iopub.execute_input": "2020-12-25T00:14:15.762591Z",
     "iopub.status.busy": "2020-12-25T00:14:15.760858Z",
     "iopub.status.idle": "2020-12-25T00:14:30.530746Z",
     "shell.execute_reply": "2020-12-25T00:14:30.531458Z"
    },
    "papermill": {
     "duration": 14.808163,
     "end_time": "2020-12-25T00:14:30.531613",
     "exception": false,
     "start_time": "2020-12-25T00:14:15.723450",
     "status": "completed"
    },
    "tags": []
   },
   "outputs": [
    {
     "name": "stdout",
     "output_type": "stream",
     "text": [
      "====== Logistic Regression ======\n",
      "Epoch 0, Loss 0.2323\n",
      "Training Accuracy: 0.7302, Testing Accuracy: 0.7303\n",
      "\n"
     ]
    },
    {
     "name": "stdout",
     "output_type": "stream",
     "text": [
      "Epoch 10, Loss 0.1026\n",
      "Training Accuracy: 0.9104, Testing Accuracy: 0.9214\n",
      "\n"
     ]
    },
    {
     "name": "stdout",
     "output_type": "stream",
     "text": [
      "Epoch 20, Loss 0.0789\n",
      "Training Accuracy: 0.9276, Testing Accuracy: 0.9395\n",
      "\n"
     ]
    },
    {
     "name": "stdout",
     "output_type": "stream",
     "text": [
      "Epoch 30, Loss 0.068\n",
      "Training Accuracy: 0.9371, Testing Accuracy: 0.9516\n",
      "\n"
     ]
    },
    {
     "name": "stdout",
     "output_type": "stream",
     "text": [
      "Epoch 40, Loss 0.0614\n",
      "Training Accuracy: 0.9423, Testing Accuracy: 0.9551\n",
      "\n"
     ]
    },
    {
     "name": "stdout",
     "output_type": "stream",
     "text": [
      "Epoch 50, Loss 0.0569\n",
      "Training Accuracy: 0.9455, Testing Accuracy: 0.9567\n",
      "\n"
     ]
    },
    {
     "name": "stdout",
     "output_type": "stream",
     "text": [
      "Epoch 60, Loss 0.0536\n",
      "Training Accuracy: 0.9480, Testing Accuracy: 0.9582\n",
      "\n"
     ]
    },
    {
     "name": "stdout",
     "output_type": "stream",
     "text": [
      "Epoch 70, Loss 0.0511\n",
      "Training Accuracy: 0.9495, Testing Accuracy: 0.9597\n",
      "\n"
     ]
    },
    {
     "name": "stdout",
     "output_type": "stream",
     "text": [
      "Epoch 80, Loss 0.049\n",
      "Training Accuracy: 0.9509, Testing Accuracy: 0.9612\n",
      "\n"
     ]
    },
    {
     "name": "stdout",
     "output_type": "stream",
     "text": [
      "Epoch 90, Loss 0.0474\n",
      "Training Accuracy: 0.9521, Testing Accuracy: 0.9622\n",
      "\n"
     ]
    },
    {
     "name": "stdout",
     "output_type": "stream",
     "text": [
      "Epoch 100, Loss 0.046\n",
      "Training Accuracy: 0.9528, Testing Accuracy: 0.9637\n",
      "\n"
     ]
    },
    {
     "name": "stdout",
     "output_type": "stream",
     "text": [
      "Epoch 110, Loss 0.0447\n",
      "Training Accuracy: 0.9540, Testing Accuracy: 0.9647\n",
      "\n"
     ]
    },
    {
     "name": "stdout",
     "output_type": "stream",
     "text": [
      "Epoch 120, Loss 0.0437\n",
      "Training Accuracy: 0.9541, Testing Accuracy: 0.9662\n",
      "\n"
     ]
    },
    {
     "name": "stdout",
     "output_type": "stream",
     "text": [
      "Epoch 130, Loss 0.0428\n",
      "Training Accuracy: 0.9547, Testing Accuracy: 0.9667\n",
      "\n"
     ]
    },
    {
     "name": "stdout",
     "output_type": "stream",
     "text": [
      "Epoch 140, Loss 0.042\n",
      "Training Accuracy: 0.9559, Testing Accuracy: 0.9667\n",
      "\n"
     ]
    },
    {
     "name": "stdout",
     "output_type": "stream",
     "text": [
      "Epoch 150, Loss 0.0412\n",
      "Training Accuracy: 0.9569, Testing Accuracy: 0.9667\n",
      "\n"
     ]
    },
    {
     "name": "stdout",
     "output_type": "stream",
     "text": [
      "Epoch 160, Loss 0.0406\n",
      "Training Accuracy: 0.9574, Testing Accuracy: 0.9672\n",
      "\n"
     ]
    },
    {
     "name": "stdout",
     "output_type": "stream",
     "text": [
      "Epoch 170, Loss 0.0399\n",
      "Training Accuracy: 0.9584, Testing Accuracy: 0.9672\n",
      "\n"
     ]
    },
    {
     "name": "stdout",
     "output_type": "stream",
     "text": [
      "Epoch 180, Loss 0.0394\n",
      "Training Accuracy: 0.9585, Testing Accuracy: 0.9672\n",
      "\n"
     ]
    },
    {
     "name": "stdout",
     "output_type": "stream",
     "text": [
      "Epoch 190, Loss 0.0389\n",
      "Training Accuracy: 0.9592, Testing Accuracy: 0.9677\n",
      "\n"
     ]
    },
    {
     "name": "stdout",
     "output_type": "stream",
     "text": [
      "Epoch 200, Loss 0.0384\n",
      "Training Accuracy: 0.9596, Testing Accuracy: 0.9682\n",
      "\n"
     ]
    },
    {
     "name": "stdout",
     "output_type": "stream",
     "text": [
      "Epoch 210, Loss 0.038\n",
      "Training Accuracy: 0.9599, Testing Accuracy: 0.9688\n",
      "\n"
     ]
    },
    {
     "name": "stdout",
     "output_type": "stream",
     "text": [
      "Epoch 220, Loss 0.0376\n",
      "Training Accuracy: 0.9600, Testing Accuracy: 0.9688\n",
      "\n"
     ]
    },
    {
     "name": "stdout",
     "output_type": "stream",
     "text": [
      "Epoch 230, Loss 0.0372\n",
      "Training Accuracy: 0.9603, Testing Accuracy: 0.9688\n",
      "\n"
     ]
    },
    {
     "name": "stdout",
     "output_type": "stream",
     "text": [
      "Epoch 240, Loss 0.0368\n",
      "Training Accuracy: 0.9604, Testing Accuracy: 0.9698\n",
      "\n"
     ]
    },
    {
     "name": "stdout",
     "output_type": "stream",
     "text": [
      "Epoch 250, Loss 0.0365\n",
      "Training Accuracy: 0.9608, Testing Accuracy: 0.9703\n",
      "\n"
     ]
    },
    {
     "data": {
      "text/plain": [
       "0.03601810464368679"
      ]
     },
     "execution_count": 22,
     "metadata": {},
     "output_type": "execute_result"
    }
   ],
   "source": [
    "print(\"====== Logistic Regression ======\")\n",
    "learner_lr.train_loop(dl)"
   ]
  },
  {
   "cell_type": "markdown",
   "metadata": {
    "papermill": {
     "duration": 0.039854,
     "end_time": "2020-12-25T00:14:30.612288",
     "exception": false,
     "start_time": "2020-12-25T00:14:30.572434",
     "status": "completed"
    },
    "tags": []
   },
   "source": [
    "### Comparing results of NN and LR"
   ]
  },
  {
   "cell_type": "code",
   "execution_count": 23,
   "metadata": {
    "execution": {
     "iopub.execute_input": "2020-12-25T00:14:30.696619Z",
     "iopub.status.busy": "2020-12-25T00:14:30.696017Z",
     "iopub.status.idle": "2020-12-25T00:14:30.907693Z",
     "shell.execute_reply": "2020-12-25T00:14:30.907250Z"
    },
    "papermill": {
     "duration": 0.255879,
     "end_time": "2020-12-25T00:14:30.907824",
     "exception": false,
     "start_time": "2020-12-25T00:14:30.651945",
     "status": "completed"
    },
    "tags": []
   },
   "outputs": [
    {
     "data": {
      "text/plain": [
       "<matplotlib.legend.Legend at 0x7f0129402ba8>"
      ]
     },
     "execution_count": 23,
     "metadata": {},
     "output_type": "execute_result"
    },
    {
     "data": {
      "image/png": "[encoded data removed]",
      "text/plain": [
       "<Figure size 1080x720 with 1 Axes>"
      ]
     },
     "metadata": {
      "needs_background": "light"
     },
     "output_type": "display_data"
    }
   ],
   "source": [
    "plt.figure(figsize=(15,10))\n",
    "\n",
    "# Neural Network plots\n",
    "plt.plot(acc_nn.accuracies, 'r-', label = \"Training Accuracies - NN\")\n",
    "plt.plot(acc_nn.test_accuracies, 'g-', label = \"Testing Accuracies - NN\")\n",
    "\n",
    "# Logistic Regression plots\n",
    "plt.plot(acc_lr.accuracies, 'k-', label = \"Training Accuracies - LR\")\n",
    "plt.plot(acc_lr.test_accuracies, 'b-', label = \"Testing Accuracies - LR\")\n",
    "\n",
    "plt.ylim(0.8, 1)\n",
    "\n",
    "plt.legend()\n",
    "\n"
   ]
  },
  {
   "cell_type": "markdown",
   "metadata": {
    "papermill": {
     "duration": 0.04108,
     "end_time": "2020-12-25T00:14:30.990319",
     "exception": false,
     "start_time": "2020-12-25T00:14:30.949239",
     "status": "completed"
    },
    "tags": []
   },
   "source": [
    "### From the plot, we can observe the following:\n",
    "- Neural Network achieves higher accuracy than the Logistic Regression model.\n",
    "- This apparently, is because of overfitting, i.e. NN captures more noise than data.\n",
    "- Testing accuracy of NN drops below the Training accuracy at higher epochs. This explains the over-fitting on training data.\n",
    "- Logistic Regression gives a reliable accuracy, without the above mentioned problem.\n"
   ]
  },
  {
   "cell_type": "markdown",
   "metadata": {
    "papermill": {
     "duration": 0.041351,
     "end_time": "2020-12-25T00:14:31.072664",
     "exception": false,
     "start_time": "2020-12-25T00:14:31.031313",
     "status": "completed"
    },
    "tags": []
   },
   "source": [
    "### Moving till the last but one layer (excluding it).\n",
    "#### Plotting the outputs of this layer of the NN."
   ]
  },
  {
   "cell_type": "code",
   "execution_count": 24,
   "metadata": {
    "execution": {
     "iopub.execute_input": "2020-12-25T00:14:31.173108Z",
     "iopub.status.busy": "2020-12-25T00:14:31.172595Z",
     "iopub.status.idle": "2020-12-25T00:14:31.176157Z",
     "shell.execute_reply": "2020-12-25T00:14:31.175728Z"
    },
    "papermill": {
     "duration": 0.062298,
     "end_time": "2020-12-25T00:14:31.176267",
     "exception": false,
     "start_time": "2020-12-25T00:14:31.113969",
     "status": "completed"
    },
    "tags": []
   },
   "outputs": [],
   "source": [
    "model_new = Model(layers[:-2])"
   ]
  },
  {
   "cell_type": "code",
   "execution_count": 25,
   "metadata": {
    "execution": {
     "iopub.execute_input": "2020-12-25T00:14:31.261856Z",
     "iopub.status.busy": "2020-12-25T00:14:31.261343Z",
     "iopub.status.idle": "2020-12-25T00:14:31.279924Z",
     "shell.execute_reply": "2020-12-25T00:14:31.280335Z"
    },
    "papermill": {
     "duration": 0.063326,
     "end_time": "2020-12-25T00:14:31.280467",
     "exception": false,
     "start_time": "2020-12-25T00:14:31.217141",
     "status": "completed"
    },
    "tags": []
   },
   "outputs": [],
   "source": [
    "plot_testing = model_new(testing_xdata)"
   ]
  },
  {
   "cell_type": "code",
   "execution_count": 26,
   "metadata": {
    "execution": {
     "iopub.execute_input": "2020-12-25T00:14:31.367492Z",
     "iopub.status.busy": "2020-12-25T00:14:31.366983Z",
     "iopub.status.idle": "2020-12-25T00:14:31.557495Z",
     "shell.execute_reply": "2020-12-25T00:14:31.557051Z"
    },
    "papermill": {
     "duration": 0.236015,
     "end_time": "2020-12-25T00:14:31.557617",
     "exception": false,
     "start_time": "2020-12-25T00:14:31.321602",
     "status": "completed"
    },
    "tags": []
   },
   "outputs": [
    {
     "data": {
      "text/plain": [
       "Text(0.5, 1.0, 'Outputs')"
      ]
     },
     "execution_count": 26,
     "metadata": {},
     "output_type": "execute_result"
    },
    {
     "data": {
      "image/png": "[encoded data removed]",
      "text/plain": [
       "<Figure size 576x504 with 1 Axes>"
      ]
     },
     "metadata": {
      "needs_background": "light"
     },
     "output_type": "display_data"
    }
   ],
   "source": [
    "plt.figure(figsize=(8,7))\n",
    "plt.scatter(plot_testing[:,0], plot_testing[:,1], alpha = 0.1, c = y_test.ravel());\n",
    "plt.title('Outputs')"
   ]
  },
  {
   "cell_type": "markdown",
   "metadata": {
    "papermill": {
     "duration": 0.043964,
     "end_time": "2020-12-25T00:14:31.645812",
     "exception": false,
     "start_time": "2020-12-25T00:14:31.601848",
     "status": "completed"
    },
    "tags": []
   },
   "source": [
    "### Plotting probability contours"
   ]
  },
  {
   "cell_type": "code",
   "execution_count": 27,
   "metadata": {
    "execution": {
     "iopub.execute_input": "2020-12-25T00:14:31.751362Z",
     "iopub.status.busy": "2020-12-25T00:14:31.750583Z",
     "iopub.status.idle": "2020-12-25T00:14:31.754391Z",
     "shell.execute_reply": "2020-12-25T00:14:31.753936Z"
    },
    "papermill": {
     "duration": 0.06512,
     "end_time": "2020-12-25T00:14:31.754504",
     "exception": false,
     "start_time": "2020-12-25T00:14:31.689384",
     "status": "completed"
    },
    "tags": []
   },
   "outputs": [],
   "source": [
    "model_prob = Model(layers[-2:]) "
   ]
  },
  {
   "cell_type": "code",
   "execution_count": 28,
   "metadata": {
    "execution": {
     "iopub.execute_input": "2020-12-25T00:14:31.846191Z",
     "iopub.status.busy": "2020-12-25T00:14:31.845661Z",
     "iopub.status.idle": "2020-12-25T00:14:31.858861Z",
     "shell.execute_reply": "2020-12-25T00:14:31.859249Z"
    },
    "papermill": {
     "duration": 0.061431,
     "end_time": "2020-12-25T00:14:31.859383",
     "exception": false,
     "start_time": "2020-12-25T00:14:31.797952",
     "status": "completed"
    },
    "tags": []
   },
   "outputs": [],
   "source": [
    "# Adjust the x and y ranges according to the above generated plot.\n",
    "x_range = np.linspace(-4, 1, 100) \n",
    "y_range = np.linspace(-6, 6, 100) \n",
    "x_grid, y_grid = np.meshgrid(x_range, y_range) # x_grid and y_grig are of size 100 X 100\n",
    "\n",
    "# converting x_grid and y_grid to continuous arrays\n",
    "x_grid_flat = np.ravel(x_grid)\n",
    "y_grid_flat = np.ravel(y_grid)\n",
    "\n",
    "# The last layer of the current model takes two columns as input. Hence transpose of np.vstack() is required.\n",
    "X = np.vstack((x_grid_flat, y_grid_flat)).T\n",
    "\n",
    "# x_grid and y_grid are of size 100 x 100\n",
    "probability_contour = model_prob(X).reshape(100,100) "
   ]
  },
  {
   "cell_type": "code",
   "execution_count": 29,
   "metadata": {
    "execution": {
     "iopub.execute_input": "2020-12-25T00:14:31.978889Z",
     "iopub.status.busy": "2020-12-25T00:14:31.978362Z",
     "iopub.status.idle": "2020-12-25T00:14:32.196515Z",
     "shell.execute_reply": "2020-12-25T00:14:32.196907Z"
    },
    "papermill": {
     "duration": 0.293429,
     "end_time": "2020-12-25T00:14:32.197057",
     "exception": false,
     "start_time": "2020-12-25T00:14:31.903628",
     "status": "completed"
    },
    "tags": []
   },
   "outputs": [
    {
     "data": {
      "image/png": "[encoded data removed]",
      "text/plain": [
       "<Figure size 720x648 with 1 Axes>"
      ]
     },
     "metadata": {
      "needs_background": "light"
     },
     "output_type": "display_data"
    }
   ],
   "source": [
    "plt.figure(figsize=(10,9))\n",
    "plt.scatter(plot_testing[:,0], plot_testing[:,1], alpha = 0.1, c = y_test.ravel())\n",
    "contours = plt.contour(x_grid,y_grid,probability_contour)\n",
    "plt.title('Probability Contours')\n",
    "plt.clabel(contours, inline = True );"
   ]
  }
 ],
 "metadata": {
  "kernelspec": {
   "display_name": "Python 3",
   "language": "python",
   "name": "python3"
  },
  "language_info": {
   "codemirror_mode": {
    "name": "ipython",
    "version": 3
   },
   "file_extension": ".py",
   "mimetype": "text/x-python",
   "name": "python",
   "nbconvert_exporter": "python",
   "pygments_lexer": "ipython3",
   "version": "3.6.12"
  },
  "papermill": {
   "duration": 102.908612,
   "end_time": "2020-12-25T00:14:32.650199",
   "environment_variables": {},
   "exception": null,
   "input_path": "2020-08-11-NeuralNetwork.ipynb",
   "output_path": "2020-08-11-NeuralNetwork.ipynb",
   "parameters": {},
   "start_time": "2020-12-25T00:12:49.741587",
   "version": "2.1.2"
  }
 },
 "nbformat": 4,
 "nbformat_minor": 4
}