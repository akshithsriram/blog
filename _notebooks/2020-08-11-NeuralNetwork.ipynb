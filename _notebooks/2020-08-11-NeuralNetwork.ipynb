{
 "cells": [
  {
   "cell_type": "markdown",
   "metadata": {
    "papermill": {
     "duration": 0.033544,
     "end_time": "2021-01-11T00:21:14.988667",
     "exception": false,
     "start_time": "2021-01-11T00:21:14.955123",
     "status": "completed"
    },
    "tags": []
   },
   "source": [
    "# \"A Basic Neural Network: Differentiate Hand-Written Digits\"\n",
    "\n",
    "- badges: true\n",
    "- author: Akshith Sriram"
   ]
  },
  {
   "cell_type": "markdown",
   "metadata": {
    "papermill": {
     "duration": 0.025815,
     "end_time": "2021-01-11T00:21:15.040311",
     "exception": false,
     "start_time": "2021-01-11T00:21:15.014496",
     "status": "completed"
    },
    "tags": []
   },
   "source": [
    "### Key Objectives:\n",
    "- Building a neural network that differentiates two hand-written digits 3 and 8.\n",
    "- Comparing the results of this Neural Network (NN) to that of a Logistic Regression (LR) model.\n",
    "\n",
    "### Requirements:\n",
    "- 'Kudzu' : A neural network library that was designed during our course by [Univ.AI](www.univ.ai). \n",
    "- MNIST Database\n",
    "\n",
    "If MNIST is not installed, use the command `!pip install mnist` given below.\n",
    "It can be run both from the command line and Jupyter Notebook."
   ]
  },
  {
   "cell_type": "code",
   "execution_count": 1,
   "metadata": {
    "execution": {
     "iopub.execute_input": "2021-01-11T00:21:15.110699Z",
     "iopub.status.busy": "2021-01-11T00:21:15.110109Z",
     "iopub.status.idle": "2021-01-11T00:21:17.134763Z",
     "shell.execute_reply": "2021-01-11T00:21:17.133610Z"
    },
    "papermill": {
     "duration": 2.070312,
     "end_time": "2021-01-11T00:21:17.134926",
     "exception": false,
     "start_time": "2021-01-11T00:21:15.064614",
     "status": "completed"
    },
    "tags": []
   },
   "outputs": [
    {
     "name": "stdout",
     "output_type": "stream",
     "text": [
      "Collecting mnist\r\n"
     ]
    },
    {
     "name": "stdout",
     "output_type": "stream",
     "text": [
      "  Downloading mnist-0.2.2-py2.py3-none-any.whl (3.5 kB)\r\n",
      "Requirement already satisfied: numpy in /opt/hostedtoolcache/Python/3.6.12/x64/lib/python3.6/site-packages (from mnist) (1.19.5)\r\n"
     ]
    },
    {
     "name": "stdout",
     "output_type": "stream",
     "text": [
      "Installing collected packages: mnist\r\n"
     ]
    },
    {
     "name": "stdout",
     "output_type": "stream",
     "text": [
      "Successfully installed mnist-0.2.2\r\n",
      "\u001b[33mWARNING: You are using pip version 20.3.1; however, version 20.3.3 is available.\r\n",
      "You should consider upgrading via the '/opt/hostedtoolcache/Python/3.6.12/x64/bin/python -m pip install --upgrade pip' command.\u001b[0m\r\n"
     ]
    }
   ],
   "source": [
    "!pip install mnist "
   ]
  },
  {
   "cell_type": "markdown",
   "metadata": {
    "papermill": {
     "duration": 0.025061,
     "end_time": "2021-01-11T00:21:17.186296",
     "exception": false,
     "start_time": "2021-01-11T00:21:17.161235",
     "status": "completed"
    },
    "tags": []
   },
   "source": [
    "#### Importing necessary libraries"
   ]
  },
  {
   "cell_type": "code",
   "execution_count": 2,
   "metadata": {
    "execution": {
     "iopub.execute_input": "2021-01-11T00:21:17.249508Z",
     "iopub.status.busy": "2021-01-11T00:21:17.245406Z",
     "iopub.status.idle": "2021-01-11T00:21:17.837447Z",
     "shell.execute_reply": "2021-01-11T00:21:17.835920Z"
    },
    "papermill": {
     "duration": 0.625608,
     "end_time": "2021-01-11T00:21:17.837669",
     "exception": false,
     "start_time": "2021-01-11T00:21:17.212061",
     "status": "completed"
    },
    "tags": []
   },
   "outputs": [],
   "source": [
    "%load_ext autoreload\n",
    "%autoreload 2\n",
    "\n",
    "%matplotlib inline\n",
    "import matplotlib.pyplot as plt\n",
    "\n",
    "import numpy as np\n",
    "import pandas as pd"
   ]
  },
  {
   "cell_type": "markdown",
   "metadata": {
    "papermill": {
     "duration": 0.035731,
     "end_time": "2021-01-11T00:21:17.903401",
     "exception": false,
     "start_time": "2021-01-11T00:21:17.867670",
     "status": "completed"
    },
    "tags": []
   },
   "source": [
    "### Preparing the Data"
   ]
  },
  {
   "cell_type": "code",
   "execution_count": 3,
   "metadata": {
    "execution": {
     "iopub.execute_input": "2021-01-11T00:21:17.961818Z",
     "iopub.status.busy": "2021-01-11T00:21:17.960709Z",
     "iopub.status.idle": "2021-01-11T00:21:17.981911Z",
     "shell.execute_reply": "2021-01-11T00:21:17.981410Z"
    },
    "papermill": {
     "duration": 0.051068,
     "end_time": "2021-01-11T00:21:17.982032",
     "exception": false,
     "start_time": "2021-01-11T00:21:17.930964",
     "status": "completed"
    },
    "tags": []
   },
   "outputs": [],
   "source": [
    "import mnist"
   ]
  },
  {
   "cell_type": "code",
   "execution_count": 4,
   "metadata": {
    "execution": {
     "iopub.execute_input": "2021-01-11T00:21:18.042677Z",
     "iopub.status.busy": "2021-01-11T00:21:18.041788Z",
     "iopub.status.idle": "2021-01-11T00:21:19.893344Z",
     "shell.execute_reply": "2021-01-11T00:21:19.891966Z"
    },
    "papermill": {
     "duration": 1.882721,
     "end_time": "2021-01-11T00:21:19.893565",
     "exception": false,
     "start_time": "2021-01-11T00:21:18.010844",
     "status": "completed"
    },
    "tags": []
   },
   "outputs": [],
   "source": [
    "train_images = mnist.train_images()\n",
    "train_labels = mnist.train_labels()"
   ]
  },
  {
   "cell_type": "code",
   "execution_count": 5,
   "metadata": {
    "execution": {
     "iopub.execute_input": "2021-01-11T00:21:19.953899Z",
     "iopub.status.busy": "2021-01-11T00:21:19.953327Z",
     "iopub.status.idle": "2021-01-11T00:21:19.971572Z",
     "shell.execute_reply": "2021-01-11T00:21:19.972039Z"
    },
    "papermill": {
     "duration": 0.049635,
     "end_time": "2021-01-11T00:21:19.972181",
     "exception": false,
     "start_time": "2021-01-11T00:21:19.922546",
     "status": "completed"
    },
    "tags": []
   },
   "outputs": [
    {
     "data": {
      "text/plain": [
       "((60000, 28, 28), (60000,))"
      ]
     },
     "execution_count": 5,
     "metadata": {},
     "output_type": "execute_result"
    }
   ],
   "source": [
    "train_images.shape, train_labels.shape"
   ]
  },
  {
   "cell_type": "code",
   "execution_count": 6,
   "metadata": {
    "execution": {
     "iopub.execute_input": "2021-01-11T00:21:20.029931Z",
     "iopub.status.busy": "2021-01-11T00:21:20.029350Z",
     "iopub.status.idle": "2021-01-11T00:21:22.893319Z",
     "shell.execute_reply": "2021-01-11T00:21:22.892439Z"
    },
    "papermill": {
     "duration": 2.894942,
     "end_time": "2021-01-11T00:21:22.893539",
     "exception": false,
     "start_time": "2021-01-11T00:21:19.998597",
     "status": "completed"
    },
    "tags": []
   },
   "outputs": [],
   "source": [
    "test_images = mnist.test_images()\n",
    "test_labels = mnist.test_labels()"
   ]
  },
  {
   "cell_type": "code",
   "execution_count": 7,
   "metadata": {
    "execution": {
     "iopub.execute_input": "2021-01-11T00:21:22.954886Z",
     "iopub.status.busy": "2021-01-11T00:21:22.954305Z",
     "iopub.status.idle": "2021-01-11T00:21:22.970625Z",
     "shell.execute_reply": "2021-01-11T00:21:22.970147Z"
    },
    "papermill": {
     "duration": 0.047522,
     "end_time": "2021-01-11T00:21:22.970752",
     "exception": false,
     "start_time": "2021-01-11T00:21:22.923230",
     "status": "completed"
    },
    "tags": []
   },
   "outputs": [
    {
     "data": {
      "text/plain": [
       "((10000, 28, 28), (10000,))"
      ]
     },
     "execution_count": 7,
     "metadata": {},
     "output_type": "execute_result"
    }
   ],
   "source": [
    "test_images.shape, test_labels.shape"
   ]
  },
  {
   "cell_type": "code",
   "execution_count": 8,
   "metadata": {
    "execution": {
     "iopub.execute_input": "2021-01-11T00:21:23.031652Z",
     "iopub.status.busy": "2021-01-11T00:21:23.031105Z",
     "iopub.status.idle": "2021-01-11T00:21:23.171705Z",
     "shell.execute_reply": "2021-01-11T00:21:23.171216Z"
    },
    "papermill": {
     "duration": 0.175681,
     "end_time": "2021-01-11T00:21:23.171830",
     "exception": false,
     "start_time": "2021-01-11T00:21:22.996149",
     "status": "completed"
    },
    "tags": []
   },
   "outputs": [
    {
     "name": "stdout",
     "output_type": "stream",
     "text": [
      "2\n"
     ]
    },
    {
     "data": {
      "text/plain": [
       "<matplotlib.image.AxesImage at 0x7fcdd505f390>"
      ]
     },
     "execution_count": 8,
     "metadata": {},
     "output_type": "execute_result"
    },
    {
     "data": {
      "image/png": "[encoded data removed]",
      "text/plain": [
       "<Figure size 432x288 with 1 Axes>"
      ]
     },
     "metadata": {
      "needs_background": "light"
     },
     "output_type": "display_data"
    }
   ],
   "source": [
    "image_index = 7776 # You may select anything up to 60,000\n",
    "print(train_labels[image_index]) \n",
    "plt.imshow(train_images[image_index], cmap='Greys')"
   ]
  },
  {
   "cell_type": "markdown",
   "metadata": {
    "papermill": {
     "duration": 0.027225,
     "end_time": "2021-01-11T00:21:23.226589",
     "exception": false,
     "start_time": "2021-01-11T00:21:23.199364",
     "status": "completed"
    },
    "tags": []
   },
   "source": [
    "## Filter data to get 3 and 8 out"
   ]
  },
  {
   "cell_type": "code",
   "execution_count": 9,
   "metadata": {
    "execution": {
     "iopub.execute_input": "2021-01-11T00:21:23.296721Z",
     "iopub.status.busy": "2021-01-11T00:21:23.285600Z",
     "iopub.status.idle": "2021-01-11T00:21:23.306422Z",
     "shell.execute_reply": "2021-01-11T00:21:23.305450Z"
    },
    "papermill": {
     "duration": 0.054033,
     "end_time": "2021-01-11T00:21:23.306543",
     "exception": false,
     "start_time": "2021-01-11T00:21:23.252510",
     "status": "completed"
    },
    "tags": []
   },
   "outputs": [],
   "source": [
    "train_filter = np.where((train_labels == 3 ) | (train_labels == 8))\n",
    "test_filter = np.where((test_labels == 3) | (test_labels == 8))\n",
    "X_train, y_train = train_images[train_filter], train_labels[train_filter]\n",
    "X_test, y_test = test_images[test_filter], test_labels[test_filter]"
   ]
  },
  {
   "cell_type": "markdown",
   "metadata": {
    "papermill": {
     "duration": 0.025322,
     "end_time": "2021-01-11T00:21:23.358484",
     "exception": false,
     "start_time": "2021-01-11T00:21:23.333162",
     "status": "completed"
    },
    "tags": []
   },
   "source": [
    "We normalize the pixel values in the 0 to 1 range"
   ]
  },
  {
   "cell_type": "code",
   "execution_count": 10,
   "metadata": {
    "execution": {
     "iopub.execute_input": "2021-01-11T00:21:23.421026Z",
     "iopub.status.busy": "2021-01-11T00:21:23.415045Z",
     "iopub.status.idle": "2021-01-11T00:21:23.468978Z",
     "shell.execute_reply": "2021-01-11T00:21:23.468461Z"
    },
    "papermill": {
     "duration": 0.083566,
     "end_time": "2021-01-11T00:21:23.469118",
     "exception": false,
     "start_time": "2021-01-11T00:21:23.385552",
     "status": "completed"
    },
    "tags": []
   },
   "outputs": [],
   "source": [
    "X_train = X_train/255.\n",
    "X_test = X_test/255."
   ]
  },
  {
   "cell_type": "markdown",
   "metadata": {
    "papermill": {
     "duration": 0.027062,
     "end_time": "2021-01-11T00:21:23.527996",
     "exception": false,
     "start_time": "2021-01-11T00:21:23.500934",
     "status": "completed"
    },
    "tags": []
   },
   "source": [
    "Setup the labels as 1 (when the digit is 3) and 0 (when the digit is 8)"
   ]
  },
  {
   "cell_type": "code",
   "execution_count": 11,
   "metadata": {
    "execution": {
     "iopub.execute_input": "2021-01-11T00:21:23.592367Z",
     "iopub.status.busy": "2021-01-11T00:21:23.591800Z",
     "iopub.status.idle": "2021-01-11T00:21:23.610130Z",
     "shell.execute_reply": "2021-01-11T00:21:23.610579Z"
    },
    "papermill": {
     "duration": 0.054511,
     "end_time": "2021-01-11T00:21:23.610741",
     "exception": false,
     "start_time": "2021-01-11T00:21:23.556230",
     "status": "completed"
    },
    "tags": []
   },
   "outputs": [],
   "source": [
    "y_train = 1*(y_train==3)\n",
    "y_test = 1*(y_test==3)"
   ]
  },
  {
   "cell_type": "code",
   "execution_count": 12,
   "metadata": {
    "execution": {
     "iopub.execute_input": "2021-01-11T00:21:23.670317Z",
     "iopub.status.busy": "2021-01-11T00:21:23.669724Z",
     "iopub.status.idle": "2021-01-11T00:21:23.683661Z",
     "shell.execute_reply": "2021-01-11T00:21:23.683152Z"
    },
    "papermill": {
     "duration": 0.045425,
     "end_time": "2021-01-11T00:21:23.683781",
     "exception": false,
     "start_time": "2021-01-11T00:21:23.638356",
     "status": "completed"
    },
    "tags": []
   },
   "outputs": [
    {
     "data": {
      "text/plain": [
       "((11982, 28, 28), (1984, 28, 28))"
      ]
     },
     "execution_count": 12,
     "metadata": {},
     "output_type": "execute_result"
    }
   ],
   "source": [
    "X_train.shape, X_test.shape"
   ]
  },
  {
   "cell_type": "markdown",
   "metadata": {
    "papermill": {
     "duration": 0.027357,
     "end_time": "2021-01-11T00:21:23.739502",
     "exception": false,
     "start_time": "2021-01-11T00:21:23.712145",
     "status": "completed"
    },
    "tags": []
   },
   "source": [
    "### Reshape the input data to create a linear array"
   ]
  },
  {
   "cell_type": "code",
   "execution_count": 13,
   "metadata": {
    "execution": {
     "iopub.execute_input": "2021-01-11T00:21:23.802739Z",
     "iopub.status.busy": "2021-01-11T00:21:23.801633Z",
     "iopub.status.idle": "2021-01-11T00:21:23.818438Z",
     "shell.execute_reply": "2021-01-11T00:21:23.817911Z"
    },
    "papermill": {
     "duration": 0.049253,
     "end_time": "2021-01-11T00:21:23.818563",
     "exception": false,
     "start_time": "2021-01-11T00:21:23.769310",
     "status": "completed"
    },
    "tags": []
   },
   "outputs": [
    {
     "data": {
      "text/plain": [
       "((11982, 784), (1984, 784))"
      ]
     },
     "execution_count": 13,
     "metadata": {},
     "output_type": "execute_result"
    }
   ],
   "source": [
    "X_train = X_train.reshape(X_train.shape[0], -1)\n",
    "X_test = X_test.reshape(X_test.shape[0], -1)\n",
    "X_train.shape, X_test.shape"
   ]
  },
  {
   "cell_type": "markdown",
   "metadata": {
    "papermill": {
     "duration": 0.027442,
     "end_time": "2021-01-11T00:21:23.874088",
     "exception": false,
     "start_time": "2021-01-11T00:21:23.846646",
     "status": "completed"
    },
    "tags": []
   },
   "source": [
    "### Importing appropriate functions from 'Kudzu'"
   ]
  },
  {
   "cell_type": "code",
   "execution_count": 14,
   "metadata": {
    "execution": {
     "iopub.execute_input": "2021-01-11T00:21:23.939070Z",
     "iopub.status.busy": "2021-01-11T00:21:23.935815Z",
     "iopub.status.idle": "2021-01-11T00:21:23.955850Z",
     "shell.execute_reply": "2021-01-11T00:21:23.955385Z"
    },
    "papermill": {
     "duration": 0.0541,
     "end_time": "2021-01-11T00:21:23.955960",
     "exception": false,
     "start_time": "2021-01-11T00:21:23.901860",
     "status": "completed"
    },
    "tags": []
   },
   "outputs": [],
   "source": [
    "from kudzu.layer import Sigmoid\n",
    "from kudzu.layer import Relu\n",
    "from kudzu.layer import Affine, Sigmoid\n",
    "\n",
    "from kudzu.model import Model\n",
    "from kudzu.train import Learner\n",
    "from kudzu.optim import GD\n",
    "from kudzu.data import Data, Dataloader, Sampler\n",
    "\n",
    "from kudzu.callbacks import AccCallback\n",
    "from kudzu.callbacks import ClfCallback\n",
    "\n",
    "from kudzu.loss import MSE"
   ]
  },
  {
   "cell_type": "markdown",
   "metadata": {
    "papermill": {
     "duration": 0.029122,
     "end_time": "2021-01-11T00:21:24.018016",
     "exception": false,
     "start_time": "2021-01-11T00:21:23.988894",
     "status": "completed"
    },
    "tags": []
   },
   "source": [
    "### Let us create a `Config` class, to store important parameters. \n",
    "This class essentially plays the role of a dictionary."
   ]
  },
  {
   "cell_type": "code",
   "execution_count": 15,
   "metadata": {
    "execution": {
     "iopub.execute_input": "2021-01-11T00:21:24.087700Z",
     "iopub.status.busy": "2021-01-11T00:21:24.087105Z",
     "iopub.status.idle": "2021-01-11T00:21:24.096547Z",
     "shell.execute_reply": "2021-01-11T00:21:24.096997Z"
    },
    "papermill": {
     "duration": 0.049245,
     "end_time": "2021-01-11T00:21:24.097134",
     "exception": false,
     "start_time": "2021-01-11T00:21:24.047889",
     "status": "completed"
    },
    "tags": []
   },
   "outputs": [],
   "source": [
    "class Config:\n",
    "    pass\n",
    "config = Config()\n",
    "config.lr = 0.001\n",
    "config.num_epochs = 251\n",
    "config.bs = 50"
   ]
  },
  {
   "cell_type": "markdown",
   "metadata": {
    "papermill": {
     "duration": 0.031022,
     "end_time": "2021-01-11T00:21:24.155981",
     "exception": false,
     "start_time": "2021-01-11T00:21:24.124959",
     "status": "completed"
    },
    "tags": []
   },
   "source": [
    "### Initializing data to the variables"
   ]
  },
  {
   "cell_type": "code",
   "execution_count": 16,
   "metadata": {
    "execution": {
     "iopub.execute_input": "2021-01-11T00:21:24.218214Z",
     "iopub.status.busy": "2021-01-11T00:21:24.217623Z",
     "iopub.status.idle": "2021-01-11T00:21:24.230357Z",
     "shell.execute_reply": "2021-01-11T00:21:24.230809Z"
    },
    "papermill": {
     "duration": 0.047774,
     "end_time": "2021-01-11T00:21:24.230959",
     "exception": false,
     "start_time": "2021-01-11T00:21:24.183185",
     "status": "completed"
    },
    "tags": []
   },
   "outputs": [],
   "source": [
    "data = Data(X_train, y_train.reshape(-1,1))\n",
    "sampler = Sampler(data, config.bs, shuffle=True)\n",
    "\n",
    "dl = Dataloader(data, sampler)\n",
    "\n",
    "opt = GD(config.lr)\n",
    "loss = MSE()"
   ]
  },
  {
   "cell_type": "code",
   "execution_count": 17,
   "metadata": {
    "execution": {
     "iopub.execute_input": "2021-01-11T00:21:24.294014Z",
     "iopub.status.busy": "2021-01-11T00:21:24.293388Z",
     "iopub.status.idle": "2021-01-11T00:21:24.306478Z",
     "shell.execute_reply": "2021-01-11T00:21:24.306931Z"
    },
    "papermill": {
     "duration": 0.04711,
     "end_time": "2021-01-11T00:21:24.307095",
     "exception": false,
     "start_time": "2021-01-11T00:21:24.259985",
     "status": "completed"
    },
    "tags": []
   },
   "outputs": [],
   "source": [
    "training_xdata = X_train\n",
    "testing_xdata = X_test\n",
    "training_ydata = y_train.reshape(-1,1)\n",
    "testing_ydata = y_test.reshape(-1,1)"
   ]
  },
  {
   "cell_type": "markdown",
   "metadata": {
    "papermill": {
     "duration": 0.031971,
     "end_time": "2021-01-11T00:21:24.366515",
     "exception": false,
     "start_time": "2021-01-11T00:21:24.334544",
     "status": "completed"
    },
    "tags": []
   },
   "source": [
    "### Running Models with the Training data\n",
    "Details about the network layers:\n",
    "- A first affine layer has 784 inputs and does 100 affine transforms. These are followed by a Relu\n",
    "- A second affine layer has 100 inputs from the 100 activations of the past layer, and does 100 affine transforms. These are followed by a Relu\n",
    "- A third affine layer has 100 activations and does 2 affine transformations to create an embedding for visualization. There is no non-linearity here.\n",
    "- A final \"logistic regression\" which has an affine transform from 2 inputs to 1 output, which is squeezed through a sigmoid.\n",
    "\n",
    "Help taken from Anshuman's Notebook."
   ]
  },
  {
   "cell_type": "code",
   "execution_count": 18,
   "metadata": {
    "execution": {
     "iopub.execute_input": "2021-01-11T00:21:24.428657Z",
     "iopub.status.busy": "2021-01-11T00:21:24.428064Z",
     "iopub.status.idle": "2021-01-11T00:21:24.445925Z",
     "shell.execute_reply": "2021-01-11T00:21:24.445472Z"
    },
    "papermill": {
     "duration": 0.051486,
     "end_time": "2021-01-11T00:21:24.446042",
     "exception": false,
     "start_time": "2021-01-11T00:21:24.394556",
     "status": "completed"
    },
    "tags": []
   },
   "outputs": [],
   "source": [
    "# layers for the Neural Network\n",
    "layers = [Affine(\"first\", 784, 100), Relu(\"first\"), Affine(\"second\", 100, 100), Relu(\"second\"), Affine(\"third\", 100, 2), Affine(\"final\", 2, 1), Sigmoid(\"final\")]\n",
    "model_nn = Model(layers)\n",
    "\n",
    "# layers for the Logistic Regression\n",
    "layers_lr = [Affine(\"logits\", 784, 1), Sigmoid(\"sigmoid\")]\n",
    "model_lr = Model(layers_lr)"
   ]
  },
  {
   "cell_type": "code",
   "execution_count": 19,
   "metadata": {
    "execution": {
     "iopub.execute_input": "2021-01-11T00:21:24.512448Z",
     "iopub.status.busy": "2021-01-11T00:21:24.511850Z",
     "iopub.status.idle": "2021-01-11T00:21:24.524801Z",
     "shell.execute_reply": "2021-01-11T00:21:24.524336Z"
    },
    "papermill": {
     "duration": 0.052041,
     "end_time": "2021-01-11T00:21:24.524911",
     "exception": false,
     "start_time": "2021-01-11T00:21:24.472870",
     "status": "completed"
    },
    "tags": []
   },
   "outputs": [],
   "source": [
    "# suffix _nn stands for Neural Network.\n",
    "learner_nn = Learner(loss, model_nn, opt, config.num_epochs)\n",
    "acc_nn = ClfCallback(learner_nn, config.bs, training_xdata , testing_xdata, training_ydata, testing_ydata)\n",
    "learner_nn.set_callbacks([acc_nn])"
   ]
  },
  {
   "cell_type": "code",
   "execution_count": 20,
   "metadata": {
    "execution": {
     "iopub.execute_input": "2021-01-11T00:21:24.583376Z",
     "iopub.status.busy": "2021-01-11T00:21:24.582757Z",
     "iopub.status.idle": "2021-01-11T00:22:53.295308Z",
     "shell.execute_reply": "2021-01-11T00:22:53.296184Z"
    },
    "papermill": {
     "duration": 88.744145,
     "end_time": "2021-01-11T00:22:53.296334",
     "exception": false,
     "start_time": "2021-01-11T00:21:24.552189",
     "status": "completed"
    },
    "tags": []
   },
   "outputs": [
    {
     "name": "stdout",
     "output_type": "stream",
     "text": [
      "====== Neural Network ======\n"
     ]
    },
    {
     "name": "stdout",
     "output_type": "stream",
     "text": [
      "Epoch 0, Loss 0.2289\n",
      "Training Accuracy: 0.7510, Testing Accuracy: 0.7918\n",
      "\n"
     ]
    },
    {
     "name": "stdout",
     "output_type": "stream",
     "text": [
      "Epoch 10, Loss 0.0733\n",
      "Training Accuracy: 0.9287, Testing Accuracy: 0.9350\n",
      "\n"
     ]
    },
    {
     "name": "stdout",
     "output_type": "stream",
     "text": [
      "Epoch 20, Loss 0.0503\n",
      "Training Accuracy: 0.9461, Testing Accuracy: 0.9501\n",
      "\n"
     ]
    },
    {
     "name": "stdout",
     "output_type": "stream",
     "text": [
      "Epoch 30, Loss 0.0415\n",
      "Training Accuracy: 0.9536, Testing Accuracy: 0.9587\n",
      "\n"
     ]
    },
    {
     "name": "stdout",
     "output_type": "stream",
     "text": [
      "Epoch 40, Loss 0.0368\n",
      "Training Accuracy: 0.9589, Testing Accuracy: 0.9647\n",
      "\n"
     ]
    },
    {
     "name": "stdout",
     "output_type": "stream",
     "text": [
      "Epoch 50, Loss 0.0337\n",
      "Training Accuracy: 0.9614, Testing Accuracy: 0.9652\n",
      "\n"
     ]
    },
    {
     "name": "stdout",
     "output_type": "stream",
     "text": [
      "Epoch 60, Loss 0.0315\n",
      "Training Accuracy: 0.9633, Testing Accuracy: 0.9667\n",
      "\n"
     ]
    },
    {
     "name": "stdout",
     "output_type": "stream",
     "text": [
      "Epoch 70, Loss 0.0297\n",
      "Training Accuracy: 0.9648, Testing Accuracy: 0.9677\n",
      "\n"
     ]
    },
    {
     "name": "stdout",
     "output_type": "stream",
     "text": [
      "Epoch 80, Loss 0.0284\n",
      "Training Accuracy: 0.9659, Testing Accuracy: 0.9693\n",
      "\n"
     ]
    },
    {
     "name": "stdout",
     "output_type": "stream",
     "text": [
      "Epoch 90, Loss 0.0272\n",
      "Training Accuracy: 0.9670, Testing Accuracy: 0.9693\n",
      "\n"
     ]
    },
    {
     "name": "stdout",
     "output_type": "stream",
     "text": [
      "Epoch 100, Loss 0.0263\n",
      "Training Accuracy: 0.9680, Testing Accuracy: 0.9698\n",
      "\n"
     ]
    },
    {
     "name": "stdout",
     "output_type": "stream",
     "text": [
      "Epoch 110, Loss 0.0254\n",
      "Training Accuracy: 0.9695, Testing Accuracy: 0.9708\n",
      "\n"
     ]
    },
    {
     "name": "stdout",
     "output_type": "stream",
     "text": [
      "Epoch 120, Loss 0.0246\n",
      "Training Accuracy: 0.9707, Testing Accuracy: 0.9703\n",
      "\n"
     ]
    },
    {
     "name": "stdout",
     "output_type": "stream",
     "text": [
      "Epoch 130, Loss 0.024\n",
      "Training Accuracy: 0.9718, Testing Accuracy: 0.9698\n",
      "\n"
     ]
    },
    {
     "name": "stdout",
     "output_type": "stream",
     "text": [
      "Epoch 140, Loss 0.0234\n",
      "Training Accuracy: 0.9733, Testing Accuracy: 0.9703\n",
      "\n"
     ]
    },
    {
     "name": "stdout",
     "output_type": "stream",
     "text": [
      "Epoch 150, Loss 0.0228\n",
      "Training Accuracy: 0.9739, Testing Accuracy: 0.9688\n",
      "\n"
     ]
    },
    {
     "name": "stdout",
     "output_type": "stream",
     "text": [
      "Epoch 160, Loss 0.0223\n",
      "Training Accuracy: 0.9744, Testing Accuracy: 0.9693\n",
      "\n"
     ]
    },
    {
     "name": "stdout",
     "output_type": "stream",
     "text": [
      "Epoch 170, Loss 0.0218\n",
      "Training Accuracy: 0.9748, Testing Accuracy: 0.9693\n",
      "\n"
     ]
    },
    {
     "name": "stdout",
     "output_type": "stream",
     "text": [
      "Epoch 180, Loss 0.0213\n",
      "Training Accuracy: 0.9756, Testing Accuracy: 0.9693\n",
      "\n"
     ]
    },
    {
     "name": "stdout",
     "output_type": "stream",
     "text": [
      "Epoch 190, Loss 0.0209\n",
      "Training Accuracy: 0.9761, Testing Accuracy: 0.9703\n",
      "\n"
     ]
    },
    {
     "name": "stdout",
     "output_type": "stream",
     "text": [
      "Epoch 200, Loss 0.0205\n",
      "Training Accuracy: 0.9770, Testing Accuracy: 0.9708\n",
      "\n"
     ]
    },
    {
     "name": "stdout",
     "output_type": "stream",
     "text": [
      "Epoch 210, Loss 0.0201\n",
      "Training Accuracy: 0.9774, Testing Accuracy: 0.9713\n",
      "\n"
     ]
    },
    {
     "name": "stdout",
     "output_type": "stream",
     "text": [
      "Epoch 220, Loss 0.0197\n",
      "Training Accuracy: 0.9781, Testing Accuracy: 0.9703\n",
      "\n"
     ]
    },
    {
     "name": "stdout",
     "output_type": "stream",
     "text": [
      "Epoch 230, Loss 0.0194\n",
      "Training Accuracy: 0.9783, Testing Accuracy: 0.9703\n",
      "\n"
     ]
    },
    {
     "name": "stdout",
     "output_type": "stream",
     "text": [
      "Epoch 240, Loss 0.019\n",
      "Training Accuracy: 0.9791, Testing Accuracy: 0.9713\n",
      "\n"
     ]
    },
    {
     "name": "stdout",
     "output_type": "stream",
     "text": [
      "Epoch 250, Loss 0.0187\n",
      "Training Accuracy: 0.9791, Testing Accuracy: 0.9718\n",
      "\n"
     ]
    },
    {
     "data": {
      "text/plain": [
       "0.019741612063753668"
      ]
     },
     "execution_count": 20,
     "metadata": {},
     "output_type": "execute_result"
    }
   ],
   "source": [
    "print(\"====== Neural Network ======\")\n",
    "learner_nn.train_loop(dl)"
   ]
  },
  {
   "cell_type": "markdown",
   "metadata": {
    "papermill": {
     "duration": 0.035918,
     "end_time": "2021-01-11T00:22:53.369314",
     "exception": false,
     "start_time": "2021-01-11T00:22:53.333396",
     "status": "completed"
    },
    "tags": []
   },
   "source": [
    "### Logistic Regression based Implementation."
   ]
  },
  {
   "cell_type": "code",
   "execution_count": 21,
   "metadata": {
    "execution": {
     "iopub.execute_input": "2021-01-11T00:22:53.460612Z",
     "iopub.status.busy": "2021-01-11T00:22:53.459647Z",
     "iopub.status.idle": "2021-01-11T00:22:53.471872Z",
     "shell.execute_reply": "2021-01-11T00:22:53.471389Z"
    },
    "papermill": {
     "duration": 0.052939,
     "end_time": "2021-01-11T00:22:53.471998",
     "exception": false,
     "start_time": "2021-01-11T00:22:53.419059",
     "status": "completed"
    },
    "tags": []
   },
   "outputs": [],
   "source": [
    "learner_lr = Learner(loss, model_lr, opt, config.num_epochs)\n",
    "acc_lr = ClfCallback(learner_lr, config.bs, training_xdata , testing_xdata, training_ydata, testing_ydata)\n",
    "learner_lr.set_callbacks([acc_lr])"
   ]
  },
  {
   "cell_type": "code",
   "execution_count": 22,
   "metadata": {
    "execution": {
     "iopub.execute_input": "2021-01-11T00:22:53.548241Z",
     "iopub.status.busy": "2021-01-11T00:22:53.547655Z",
     "iopub.status.idle": "2021-01-11T00:23:09.173493Z",
     "shell.execute_reply": "2021-01-11T00:23:09.174301Z"
    },
    "papermill": {
     "duration": 15.667063,
     "end_time": "2021-01-11T00:23:09.174461",
     "exception": false,
     "start_time": "2021-01-11T00:22:53.507398",
     "status": "completed"
    },
    "tags": []
   },
   "outputs": [
    {
     "name": "stdout",
     "output_type": "stream",
     "text": [
      "====== Logistic Regression ======\n",
      "Epoch 0, Loss 0.257\n",
      "Training Accuracy: 0.6212, Testing Accuracy: 0.6265\n",
      "\n"
     ]
    },
    {
     "name": "stdout",
     "output_type": "stream",
     "text": [
      "Epoch 10, Loss 0.1074\n",
      "Training Accuracy: 0.9006, Testing Accuracy: 0.9098\n",
      "\n"
     ]
    },
    {
     "name": "stdout",
     "output_type": "stream",
     "text": [
      "Epoch 20, Loss 0.0819\n",
      "Training Accuracy: 0.9225, Testing Accuracy: 0.9309\n",
      "\n"
     ]
    },
    {
     "name": "stdout",
     "output_type": "stream",
     "text": [
      "Epoch 30, Loss 0.0701\n",
      "Training Accuracy: 0.9330, Testing Accuracy: 0.9441\n",
      "\n"
     ]
    },
    {
     "name": "stdout",
     "output_type": "stream",
     "text": [
      "Epoch 40, Loss 0.0629\n",
      "Training Accuracy: 0.9386, Testing Accuracy: 0.9471\n",
      "\n"
     ]
    },
    {
     "name": "stdout",
     "output_type": "stream",
     "text": [
      "Epoch 50, Loss 0.0581\n",
      "Training Accuracy: 0.9419, Testing Accuracy: 0.9516\n",
      "\n"
     ]
    },
    {
     "name": "stdout",
     "output_type": "stream",
     "text": [
      "Epoch 60, Loss 0.0546\n",
      "Training Accuracy: 0.9442, Testing Accuracy: 0.9531\n",
      "\n"
     ]
    },
    {
     "name": "stdout",
     "output_type": "stream",
     "text": [
      "Epoch 70, Loss 0.0519\n",
      "Training Accuracy: 0.9466, Testing Accuracy: 0.9561\n",
      "\n"
     ]
    },
    {
     "name": "stdout",
     "output_type": "stream",
     "text": [
      "Epoch 80, Loss 0.0497\n",
      "Training Accuracy: 0.9488, Testing Accuracy: 0.9572\n",
      "\n"
     ]
    },
    {
     "name": "stdout",
     "output_type": "stream",
     "text": [
      "Epoch 90, Loss 0.0479\n",
      "Training Accuracy: 0.9508, Testing Accuracy: 0.9602\n",
      "\n"
     ]
    },
    {
     "name": "stdout",
     "output_type": "stream",
     "text": [
      "Epoch 100, Loss 0.0465\n",
      "Training Accuracy: 0.9521, Testing Accuracy: 0.9607\n",
      "\n"
     ]
    },
    {
     "name": "stdout",
     "output_type": "stream",
     "text": [
      "Epoch 110, Loss 0.0452\n",
      "Training Accuracy: 0.9528, Testing Accuracy: 0.9607\n",
      "\n"
     ]
    },
    {
     "name": "stdout",
     "output_type": "stream",
     "text": [
      "Epoch 120, Loss 0.0441\n",
      "Training Accuracy: 0.9543, Testing Accuracy: 0.9622\n",
      "\n"
     ]
    },
    {
     "name": "stdout",
     "output_type": "stream",
     "text": [
      "Epoch 130, Loss 0.0431\n",
      "Training Accuracy: 0.9548, Testing Accuracy: 0.9642\n",
      "\n"
     ]
    },
    {
     "name": "stdout",
     "output_type": "stream",
     "text": [
      "Epoch 140, Loss 0.0423\n",
      "Training Accuracy: 0.9562, Testing Accuracy: 0.9647\n",
      "\n"
     ]
    },
    {
     "name": "stdout",
     "output_type": "stream",
     "text": [
      "Epoch 150, Loss 0.0415\n",
      "Training Accuracy: 0.9565, Testing Accuracy: 0.9647\n",
      "\n"
     ]
    },
    {
     "name": "stdout",
     "output_type": "stream",
     "text": [
      "Epoch 160, Loss 0.0408\n",
      "Training Accuracy: 0.9569, Testing Accuracy: 0.9662\n",
      "\n"
     ]
    },
    {
     "name": "stdout",
     "output_type": "stream",
     "text": [
      "Epoch 170, Loss 0.0402\n",
      "Training Accuracy: 0.9572, Testing Accuracy: 0.9662\n",
      "\n"
     ]
    },
    {
     "name": "stdout",
     "output_type": "stream",
     "text": [
      "Epoch 180, Loss 0.0396\n",
      "Training Accuracy: 0.9574, Testing Accuracy: 0.9662\n",
      "\n"
     ]
    },
    {
     "name": "stdout",
     "output_type": "stream",
     "text": [
      "Epoch 190, Loss 0.0391\n",
      "Training Accuracy: 0.9579, Testing Accuracy: 0.9667\n",
      "\n"
     ]
    },
    {
     "name": "stdout",
     "output_type": "stream",
     "text": [
      "Epoch 200, Loss 0.0386\n",
      "Training Accuracy: 0.9584, Testing Accuracy: 0.9667\n",
      "\n"
     ]
    },
    {
     "name": "stdout",
     "output_type": "stream",
     "text": [
      "Epoch 210, Loss 0.0381\n",
      "Training Accuracy: 0.9589, Testing Accuracy: 0.9667\n",
      "\n"
     ]
    },
    {
     "name": "stdout",
     "output_type": "stream",
     "text": [
      "Epoch 220, Loss 0.0377\n",
      "Training Accuracy: 0.9596, Testing Accuracy: 0.9662\n",
      "\n"
     ]
    },
    {
     "name": "stdout",
     "output_type": "stream",
     "text": [
      "Epoch 230, Loss 0.0373\n",
      "Training Accuracy: 0.9600, Testing Accuracy: 0.9662\n",
      "\n"
     ]
    },
    {
     "name": "stdout",
     "output_type": "stream",
     "text": [
      "Epoch 240, Loss 0.0369\n",
      "Training Accuracy: 0.9605, Testing Accuracy: 0.9662\n",
      "\n"
     ]
    },
    {
     "name": "stdout",
     "output_type": "stream",
     "text": [
      "Epoch 250, Loss 0.0366\n",
      "Training Accuracy: 0.9608, Testing Accuracy: 0.9667\n",
      "\n"
     ]
    },
    {
     "data": {
      "text/plain": [
       "0.04022698193023499"
      ]
     },
     "execution_count": 22,
     "metadata": {},
     "output_type": "execute_result"
    }
   ],
   "source": [
    "print(\"====== Logistic Regression ======\")\n",
    "learner_lr.train_loop(dl)"
   ]
  },
  {
   "cell_type": "markdown",
   "metadata": {
    "papermill": {
     "duration": 0.043649,
     "end_time": "2021-01-11T00:23:09.264114",
     "exception": false,
     "start_time": "2021-01-11T00:23:09.220465",
     "status": "completed"
    },
    "tags": []
   },
   "source": [
    "### Comparing results of NN and LR"
   ]
  },
  {
   "cell_type": "code",
   "execution_count": 23,
   "metadata": {
    "execution": {
     "iopub.execute_input": "2021-01-11T00:23:09.360221Z",
     "iopub.status.busy": "2021-01-11T00:23:09.359613Z",
     "iopub.status.idle": "2021-01-11T00:23:09.597775Z",
     "shell.execute_reply": "2021-01-11T00:23:09.597257Z"
    },
    "papermill": {
     "duration": 0.290351,
     "end_time": "2021-01-11T00:23:09.597908",
     "exception": false,
     "start_time": "2021-01-11T00:23:09.307557",
     "status": "completed"
    },
    "tags": []
   },
   "outputs": [
    {
     "data": {
      "text/plain": [
       "<matplotlib.legend.Legend at 0x7fcdd4bc7080>"
      ]
     },
     "execution_count": 23,
     "metadata": {},
     "output_type": "execute_result"
    },
    {
     "data": {
      "image/png": "[encoded data removed]",
      "text/plain": [
       "<Figure size 1080x720 with 1 Axes>"
      ]
     },
     "metadata": {
      "needs_background": "light"
     },
     "output_type": "display_data"
    }
   ],
   "source": [
    "plt.figure(figsize=(15,10))\n",
    "\n",
    "# Neural Network plots\n",
    "plt.plot(acc_nn.accuracies, 'r-', label = \"Training Accuracies - NN\")\n",
    "plt.plot(acc_nn.test_accuracies, 'g-', label = \"Testing Accuracies - NN\")\n",
    "\n",
    "# Logistic Regression plots\n",
    "plt.plot(acc_lr.accuracies, 'k-', label = \"Training Accuracies - LR\")\n",
    "plt.plot(acc_lr.test_accuracies, 'b-', label = \"Testing Accuracies - LR\")\n",
    "\n",
    "plt.ylim(0.8, 1)\n",
    "\n",
    "plt.legend()\n",
    "\n"
   ]
  },
  {
   "cell_type": "markdown",
   "metadata": {
    "papermill": {
     "duration": 0.048416,
     "end_time": "2021-01-11T00:23:09.694013",
     "exception": false,
     "start_time": "2021-01-11T00:23:09.645597",
     "status": "completed"
    },
    "tags": []
   },
   "source": [
    "### From the plot, we can observe the following:\n",
    "- Neural Network achieves higher accuracy than the Logistic Regression model.\n",
    "- This apparently, is because of overfitting, i.e. NN captures more noise than data.\n",
    "- Testing accuracy of NN drops below the Training accuracy at higher epochs. This explains the over-fitting on training data.\n",
    "- Logistic Regression gives a reliable accuracy, without the above mentioned problem.\n"
   ]
  },
  {
   "cell_type": "markdown",
   "metadata": {
    "papermill": {
     "duration": 0.045222,
     "end_time": "2021-01-11T00:23:09.786023",
     "exception": false,
     "start_time": "2021-01-11T00:23:09.740801",
     "status": "completed"
    },
    "tags": []
   },
   "source": [
    "### Moving till the last but one layer (excluding it).\n",
    "#### Plotting the outputs of this layer of the NN."
   ]
  },
  {
   "cell_type": "code",
   "execution_count": 24,
   "metadata": {
    "execution": {
     "iopub.execute_input": "2021-01-11T00:23:09.877378Z",
     "iopub.status.busy": "2021-01-11T00:23:09.876764Z",
     "iopub.status.idle": "2021-01-11T00:23:09.891347Z",
     "shell.execute_reply": "2021-01-11T00:23:09.892056Z"
    },
    "papermill": {
     "duration": 0.062634,
     "end_time": "2021-01-11T00:23:09.892202",
     "exception": false,
     "start_time": "2021-01-11T00:23:09.829568",
     "status": "completed"
    },
    "tags": []
   },
   "outputs": [],
   "source": [
    "model_new = Model(layers[:-2])"
   ]
  },
  {
   "cell_type": "code",
   "execution_count": 25,
   "metadata": {
    "execution": {
     "iopub.execute_input": "2021-01-11T00:23:09.992478Z",
     "iopub.status.busy": "2021-01-11T00:23:09.991879Z",
     "iopub.status.idle": "2021-01-11T00:23:10.013732Z",
     "shell.execute_reply": "2021-01-11T00:23:10.014206Z"
    },
    "papermill": {
     "duration": 0.075284,
     "end_time": "2021-01-11T00:23:10.014357",
     "exception": false,
     "start_time": "2021-01-11T00:23:09.939073",
     "status": "completed"
    },
    "tags": []
   },
   "outputs": [],
   "source": [
    "plot_testing = model_new(testing_xdata)"
   ]
  },
  {
   "cell_type": "code",
   "execution_count": 26,
   "metadata": {
    "execution": {
     "iopub.execute_input": "2021-01-11T00:23:10.112421Z",
     "iopub.status.busy": "2021-01-11T00:23:10.111879Z",
     "iopub.status.idle": "2021-01-11T00:23:10.343049Z",
     "shell.execute_reply": "2021-01-11T00:23:10.343502Z"
    },
    "papermill": {
     "duration": 0.281908,
     "end_time": "2021-01-11T00:23:10.343645",
     "exception": false,
     "start_time": "2021-01-11T00:23:10.061737",
     "status": "completed"
    },
    "tags": []
   },
   "outputs": [
    {
     "data": {
      "text/plain": [
       "Text(0.5, 1.0, 'Outputs')"
      ]
     },
     "execution_count": 26,
     "metadata": {},
     "output_type": "execute_result"
    },
    {
     "data": {
      "image/png": "[encoded data removed]",
      "text/plain": [
       "<Figure size 576x504 with 1 Axes>"
      ]
     },
     "metadata": {
      "needs_background": "light"
     },
     "output_type": "display_data"
    }
   ],
   "source": [
    "plt.figure(figsize=(8,7))\n",
    "plt.scatter(plot_testing[:,0], plot_testing[:,1], alpha = 0.1, c = y_test.ravel());\n",
    "plt.title('Outputs')"
   ]
  },
  {
   "cell_type": "markdown",
   "metadata": {
    "papermill": {
     "duration": 0.051779,
     "end_time": "2021-01-11T00:23:10.442526",
     "exception": false,
     "start_time": "2021-01-11T00:23:10.390747",
     "status": "completed"
    },
    "tags": []
   },
   "source": [
    "### Plotting probability contours"
   ]
  },
  {
   "cell_type": "code",
   "execution_count": 27,
   "metadata": {
    "execution": {
     "iopub.execute_input": "2021-01-11T00:23:10.548321Z",
     "iopub.status.busy": "2021-01-11T00:23:10.547710Z",
     "iopub.status.idle": "2021-01-11T00:23:10.557230Z",
     "shell.execute_reply": "2021-01-11T00:23:10.556749Z"
    },
    "papermill": {
     "duration": 0.06648,
     "end_time": "2021-01-11T00:23:10.557345",
     "exception": false,
     "start_time": "2021-01-11T00:23:10.490865",
     "status": "completed"
    },
    "tags": []
   },
   "outputs": [],
   "source": [
    "model_prob = Model(layers[-2:]) "
   ]
  },
  {
   "cell_type": "code",
   "execution_count": 28,
   "metadata": {
    "execution": {
     "iopub.execute_input": "2021-01-11T00:23:10.662712Z",
     "iopub.status.busy": "2021-01-11T00:23:10.661886Z",
     "iopub.status.idle": "2021-01-11T00:23:10.676845Z",
     "shell.execute_reply": "2021-01-11T00:23:10.677311Z"
    },
    "papermill": {
     "duration": 0.071662,
     "end_time": "2021-01-11T00:23:10.677456",
     "exception": false,
     "start_time": "2021-01-11T00:23:10.605794",
     "status": "completed"
    },
    "tags": []
   },
   "outputs": [],
   "source": [
    "# Adjust the x and y ranges according to the above generated plot.\n",
    "x_range = np.linspace(-4, 1, 100) \n",
    "y_range = np.linspace(-6, 6, 100) \n",
    "x_grid, y_grid = np.meshgrid(x_range, y_range) # x_grid and y_grig are of size 100 X 100\n",
    "\n",
    "# converting x_grid and y_grid to continuous arrays\n",
    "x_grid_flat = np.ravel(x_grid)\n",
    "y_grid_flat = np.ravel(y_grid)\n",
    "\n",
    "# The last layer of the current model takes two columns as input. Hence transpose of np.vstack() is required.\n",
    "X = np.vstack((x_grid_flat, y_grid_flat)).T\n",
    "\n",
    "# x_grid and y_grid are of size 100 x 100\n",
    "probability_contour = model_prob(X).reshape(100,100) "
   ]
  },
  {
   "cell_type": "code",
   "execution_count": 29,
   "metadata": {
    "execution": {
     "iopub.execute_input": "2021-01-11T00:23:10.817653Z",
     "iopub.status.busy": "2021-01-11T00:23:10.817042Z",
     "iopub.status.idle": "2021-01-11T00:23:11.087891Z",
     "shell.execute_reply": "2021-01-11T00:23:11.087362Z"
    },
    "papermill": {
     "duration": 0.324054,
     "end_time": "2021-01-11T00:23:11.088024",
     "exception": false,
     "start_time": "2021-01-11T00:23:10.763970",
     "status": "completed"
    },
    "tags": []
   },
   "outputs": [
    {
     "data": {
      "image/png": "[encoded data removed]",
      "text/plain": [
       "<Figure size 720x648 with 1 Axes>"
      ]
     },
     "metadata": {
      "needs_background": "light"
     },
     "output_type": "display_data"
    }
   ],
   "source": [
    "plt.figure(figsize=(10,9))\n",
    "plt.scatter(plot_testing[:,0], plot_testing[:,1], alpha = 0.1, c = y_test.ravel())\n",
    "contours = plt.contour(x_grid,y_grid,probability_contour)\n",
    "plt.title('Probability Contours')\n",
    "plt.clabel(contours, inline = True );"
   ]
  }
 ],
 "metadata": {
  "kernelspec": {
   "display_name": "Python 3",
   "language": "python",
   "name": "python3"
  },
  "language_info": {
   "codemirror_mode": {
    "name": "ipython",
    "version": 3
   },
   "file_extension": ".py",
   "mimetype": "text/x-python",
   "name": "python",
   "nbconvert_exporter": "python",
   "pygments_lexer": "ipython3",
   "version": "3.6.12"
  },
  "papermill": {
   "duration": 117.880562,
   "end_time": "2021-01-11T00:23:11.546014",
   "environment_variables": {},
   "exception": null,
   "input_path": "2020-08-11-NeuralNetwork.ipynb",
   "output_path": "2020-08-11-NeuralNetwork.ipynb",
   "parameters": {},
   "start_time": "2021-01-11T00:21:13.665452",
   "version": "2.1.2"
  }
 },
 "nbformat": 4,
 "nbformat_minor": 4
}