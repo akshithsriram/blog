{
 "cells": [
  {
   "cell_type": "markdown",
   "metadata": {
    "papermill": {
     "duration": 0.033816,
     "end_time": "2020-08-25T20:04:31.686444",
     "exception": false,
     "start_time": "2020-08-25T20:04:31.652628",
     "status": "completed"
    },
    "tags": []
   },
   "source": [
    "# \"A Basic Neural Network: Differentiate Hand-Written Digits\"\n",
    "\n",
    "- badges: true\n",
    "- author: Akshith Sriram"
   ]
  },
  {
   "cell_type": "markdown",
   "metadata": {
    "papermill": {
     "duration": 0.03066,
     "end_time": "2020-08-25T20:04:31.749061",
     "exception": false,
     "start_time": "2020-08-25T20:04:31.718401",
     "status": "completed"
    },
    "tags": []
   },
   "source": [
    "### Key Objectives:\n",
    "- Building a neural network that differentiates two hand-written digits 3 and 8.\n",
    "- Comparing the results of this Neural Network (NN) to that of a Logistic Regression (LR) model.\n",
    "\n",
    "### Requirements:\n",
    "- 'Kudzu' : A neural network library that was designed during our course by [Univ.AI](www.univ.ai). \n",
    "- MNIST Database\n",
    "\n",
    "If MNIST is not installed, use the command `!pip install mnist` given below.\n",
    "It can be run both from the command line and Jupyter Notebook."
   ]
  },
  {
   "cell_type": "code",
   "execution_count": 1,
   "metadata": {
    "execution": {
     "iopub.execute_input": "2020-08-25T20:04:31.810536Z",
     "iopub.status.busy": "2020-08-25T20:04:31.809788Z",
     "iopub.status.idle": "2020-08-25T20:04:33.482462Z",
     "shell.execute_reply": "2020-08-25T20:04:33.483004Z"
    },
    "papermill": {
     "duration": 1.706151,
     "end_time": "2020-08-25T20:04:33.483206",
     "exception": false,
     "start_time": "2020-08-25T20:04:31.777055",
     "status": "completed"
    },
    "tags": []
   },
   "outputs": [
    {
     "name": "stdout",
     "output_type": "stream",
     "text": [
      "Collecting mnist\r\n"
     ]
    },
    {
     "name": "stdout",
     "output_type": "stream",
     "text": [
      "  Downloading mnist-0.2.2-py2.py3-none-any.whl (3.5 kB)\r\n",
      "Requirement already satisfied: numpy in /opt/hostedtoolcache/Python/3.6.11/x64/lib/python3.6/site-packages (from mnist) (1.19.1)\r\n"
     ]
    },
    {
     "name": "stdout",
     "output_type": "stream",
     "text": [
      "Installing collected packages: mnist\r\n"
     ]
    },
    {
     "name": "stdout",
     "output_type": "stream",
     "text": [
      "Successfully installed mnist-0.2.2\r\n"
     ]
    }
   ],
   "source": [
    "!pip install mnist "
   ]
  },
  {
   "cell_type": "markdown",
   "metadata": {
    "papermill": {
     "duration": 0.030874,
     "end_time": "2020-08-25T20:04:33.546823",
     "exception": false,
     "start_time": "2020-08-25T20:04:33.515949",
     "status": "completed"
    },
    "tags": []
   },
   "source": [
    "#### Importing necessary libraries"
   ]
  },
  {
   "cell_type": "code",
   "execution_count": 2,
   "metadata": {
    "execution": {
     "iopub.execute_input": "2020-08-25T20:04:33.618227Z",
     "iopub.status.busy": "2020-08-25T20:04:33.617516Z",
     "iopub.status.idle": "2020-08-25T20:04:34.257643Z",
     "shell.execute_reply": "2020-08-25T20:04:34.258254Z"
    },
    "papermill": {
     "duration": 0.678065,
     "end_time": "2020-08-25T20:04:34.258464",
     "exception": false,
     "start_time": "2020-08-25T20:04:33.580399",
     "status": "completed"
    },
    "tags": []
   },
   "outputs": [],
   "source": [
    "%load_ext autoreload\n",
    "%autoreload 2\n",
    "\n",
    "%matplotlib inline\n",
    "import matplotlib.pyplot as plt\n",
    "\n",
    "import numpy as np\n",
    "import pandas as pd"
   ]
  },
  {
   "cell_type": "markdown",
   "metadata": {
    "papermill": {
     "duration": 0.030665,
     "end_time": "2020-08-25T20:04:34.318781",
     "exception": false,
     "start_time": "2020-08-25T20:04:34.288116",
     "status": "completed"
    },
    "tags": []
   },
   "source": [
    "### Preparing the Data"
   ]
  },
  {
   "cell_type": "code",
   "execution_count": 3,
   "metadata": {
    "execution": {
     "iopub.execute_input": "2020-08-25T20:04:34.386165Z",
     "iopub.status.busy": "2020-08-25T20:04:34.385407Z",
     "iopub.status.idle": "2020-08-25T20:04:34.400030Z",
     "shell.execute_reply": "2020-08-25T20:04:34.399476Z"
    },
    "papermill": {
     "duration": 0.051769,
     "end_time": "2020-08-25T20:04:34.400175",
     "exception": false,
     "start_time": "2020-08-25T20:04:34.348406",
     "status": "completed"
    },
    "tags": []
   },
   "outputs": [],
   "source": [
    "import mnist"
   ]
  },
  {
   "cell_type": "code",
   "execution_count": 4,
   "metadata": {
    "execution": {
     "iopub.execute_input": "2020-08-25T20:04:34.466941Z",
     "iopub.status.busy": "2020-08-25T20:04:34.466161Z",
     "iopub.status.idle": "2020-08-25T20:04:38.224939Z",
     "shell.execute_reply": "2020-08-25T20:04:38.223941Z"
    },
    "papermill": {
     "duration": 3.793242,
     "end_time": "2020-08-25T20:04:38.225117",
     "exception": false,
     "start_time": "2020-08-25T20:04:34.431875",
     "status": "completed"
    },
    "tags": []
   },
   "outputs": [],
   "source": [
    "train_images = mnist.train_images()\n",
    "train_labels = mnist.train_labels()"
   ]
  },
  {
   "cell_type": "code",
   "execution_count": 5,
   "metadata": {
    "execution": {
     "iopub.execute_input": "2020-08-25T20:04:38.301058Z",
     "iopub.status.busy": "2020-08-25T20:04:38.295051Z",
     "iopub.status.idle": "2020-08-25T20:04:38.312266Z",
     "shell.execute_reply": "2020-08-25T20:04:38.311697Z"
    },
    "papermill": {
     "duration": 0.051267,
     "end_time": "2020-08-25T20:04:38.312437",
     "exception": false,
     "start_time": "2020-08-25T20:04:38.261170",
     "status": "completed"
    },
    "tags": []
   },
   "outputs": [
    {
     "data": {
      "text/plain": [
       "((60000, 28, 28), (60000,))"
      ]
     },
     "execution_count": 5,
     "metadata": {},
     "output_type": "execute_result"
    }
   ],
   "source": [
    "train_images.shape, train_labels.shape"
   ]
  },
  {
   "cell_type": "code",
   "execution_count": 6,
   "metadata": {
    "execution": {
     "iopub.execute_input": "2020-08-25T20:04:38.379004Z",
     "iopub.status.busy": "2020-08-25T20:04:38.378220Z",
     "iopub.status.idle": "2020-08-25T20:04:40.432581Z",
     "shell.execute_reply": "2020-08-25T20:04:40.431919Z"
    },
    "papermill": {
     "duration": 2.089747,
     "end_time": "2020-08-25T20:04:40.432739",
     "exception": false,
     "start_time": "2020-08-25T20:04:38.342992",
     "status": "completed"
    },
    "tags": []
   },
   "outputs": [],
   "source": [
    "test_images = mnist.test_images()\n",
    "test_labels = mnist.test_labels()"
   ]
  },
  {
   "cell_type": "code",
   "execution_count": 7,
   "metadata": {
    "execution": {
     "iopub.execute_input": "2020-08-25T20:04:40.502544Z",
     "iopub.status.busy": "2020-08-25T20:04:40.501816Z",
     "iopub.status.idle": "2020-08-25T20:04:40.516595Z",
     "shell.execute_reply": "2020-08-25T20:04:40.515903Z"
    },
    "papermill": {
     "duration": 0.052073,
     "end_time": "2020-08-25T20:04:40.516745",
     "exception": false,
     "start_time": "2020-08-25T20:04:40.464672",
     "status": "completed"
    },
    "tags": []
   },
   "outputs": [
    {
     "data": {
      "text/plain": [
       "((10000, 28, 28), (10000,))"
      ]
     },
     "execution_count": 7,
     "metadata": {},
     "output_type": "execute_result"
    }
   ],
   "source": [
    "test_images.shape, test_labels.shape"
   ]
  },
  {
   "cell_type": "code",
   "execution_count": 8,
   "metadata": {
    "execution": {
     "iopub.execute_input": "2020-08-25T20:04:40.583248Z",
     "iopub.status.busy": "2020-08-25T20:04:40.582480Z",
     "iopub.status.idle": "2020-08-25T20:04:40.765836Z",
     "shell.execute_reply": "2020-08-25T20:04:40.765194Z"
    },
    "papermill": {
     "duration": 0.218192,
     "end_time": "2020-08-25T20:04:40.765984",
     "exception": false,
     "start_time": "2020-08-25T20:04:40.547792",
     "status": "completed"
    },
    "tags": []
   },
   "outputs": [
    {
     "name": "stdout",
     "output_type": "stream",
     "text": [
      "2\n"
     ]
    },
    {
     "data": {
      "text/plain": [
       "<matplotlib.image.AxesImage at 0x7fe47a30c0b8>"
      ]
     },
     "execution_count": 8,
     "metadata": {},
     "output_type": "execute_result"
    },
    {
     "data": {
      "image/png": "[encoded data removed]",
      "text/plain": [
       "<Figure size 432x288 with 1 Axes>"
      ]
     },
     "metadata": {
      "needs_background": "light"
     },
     "output_type": "display_data"
    }
   ],
   "source": [
    "image_index = 7776 # You may select anything up to 60,000\n",
    "print(train_labels[image_index]) \n",
    "plt.imshow(train_images[image_index], cmap='Greys')"
   ]
  },
  {
   "cell_type": "markdown",
   "metadata": {
    "papermill": {
     "duration": 0.031306,
     "end_time": "2020-08-25T20:04:40.837370",
     "exception": false,
     "start_time": "2020-08-25T20:04:40.806064",
     "status": "completed"
    },
    "tags": []
   },
   "source": [
    "## Filter data to get 3 and 8 out"
   ]
  },
  {
   "cell_type": "code",
   "execution_count": 9,
   "metadata": {
    "execution": {
     "iopub.execute_input": "2020-08-25T20:04:40.909370Z",
     "iopub.status.busy": "2020-08-25T20:04:40.908610Z",
     "iopub.status.idle": "2020-08-25T20:04:40.930133Z",
     "shell.execute_reply": "2020-08-25T20:04:40.930713Z"
    },
    "papermill": {
     "duration": 0.058425,
     "end_time": "2020-08-25T20:04:40.930901",
     "exception": false,
     "start_time": "2020-08-25T20:04:40.872476",
     "status": "completed"
    },
    "tags": []
   },
   "outputs": [],
   "source": [
    "train_filter = np.where((train_labels == 3 ) | (train_labels == 8))\n",
    "test_filter = np.where((test_labels == 3) | (test_labels == 8))\n",
    "X_train, y_train = train_images[train_filter], train_labels[train_filter]\n",
    "X_test, y_test = test_images[test_filter], test_labels[test_filter]"
   ]
  },
  {
   "cell_type": "markdown",
   "metadata": {
    "papermill": {
     "duration": 0.036849,
     "end_time": "2020-08-25T20:04:41.006679",
     "exception": false,
     "start_time": "2020-08-25T20:04:40.969830",
     "status": "completed"
    },
    "tags": []
   },
   "source": [
    "We normalize the pixel values in the 0 to 1 range"
   ]
  },
  {
   "cell_type": "code",
   "execution_count": 10,
   "metadata": {
    "execution": {
     "iopub.execute_input": "2020-08-25T20:04:41.078790Z",
     "iopub.status.busy": "2020-08-25T20:04:41.078113Z",
     "iopub.status.idle": "2020-08-25T20:04:41.139230Z",
     "shell.execute_reply": "2020-08-25T20:04:41.138553Z"
    },
    "papermill": {
     "duration": 0.099539,
     "end_time": "2020-08-25T20:04:41.139388",
     "exception": false,
     "start_time": "2020-08-25T20:04:41.039849",
     "status": "completed"
    },
    "tags": []
   },
   "outputs": [],
   "source": [
    "X_train = X_train/255.\n",
    "X_test = X_test/255."
   ]
  },
  {
   "cell_type": "markdown",
   "metadata": {
    "papermill": {
     "duration": 0.031965,
     "end_time": "2020-08-25T20:04:41.204628",
     "exception": false,
     "start_time": "2020-08-25T20:04:41.172663",
     "status": "completed"
    },
    "tags": []
   },
   "source": [
    "Setup the labels as 1 (when the digit is 3) and 0 (when the digit is 8)"
   ]
  },
  {
   "cell_type": "code",
   "execution_count": 11,
   "metadata": {
    "execution": {
     "iopub.execute_input": "2020-08-25T20:04:41.275120Z",
     "iopub.status.busy": "2020-08-25T20:04:41.274383Z",
     "iopub.status.idle": "2020-08-25T20:04:41.288195Z",
     "shell.execute_reply": "2020-08-25T20:04:41.288884Z"
    },
    "papermill": {
     "duration": 0.053433,
     "end_time": "2020-08-25T20:04:41.289060",
     "exception": false,
     "start_time": "2020-08-25T20:04:41.235627",
     "status": "completed"
    },
    "tags": []
   },
   "outputs": [],
   "source": [
    "y_train = 1*(y_train==3)\n",
    "y_test = 1*(y_test==3)"
   ]
  },
  {
   "cell_type": "code",
   "execution_count": 12,
   "metadata": {
    "execution": {
     "iopub.execute_input": "2020-08-25T20:04:41.362295Z",
     "iopub.status.busy": "2020-08-25T20:04:41.361628Z",
     "iopub.status.idle": "2020-08-25T20:04:41.375947Z",
     "shell.execute_reply": "2020-08-25T20:04:41.376581Z"
    },
    "papermill": {
     "duration": 0.053224,
     "end_time": "2020-08-25T20:04:41.376758",
     "exception": false,
     "start_time": "2020-08-25T20:04:41.323534",
     "status": "completed"
    },
    "tags": []
   },
   "outputs": [
    {
     "data": {
      "text/plain": [
       "((11982, 28, 28), (1984, 28, 28))"
      ]
     },
     "execution_count": 12,
     "metadata": {},
     "output_type": "execute_result"
    }
   ],
   "source": [
    "X_train.shape, X_test.shape"
   ]
  },
  {
   "cell_type": "markdown",
   "metadata": {
    "papermill": {
     "duration": 0.031007,
     "end_time": "2020-08-25T20:04:41.439611",
     "exception": false,
     "start_time": "2020-08-25T20:04:41.408604",
     "status": "completed"
    },
    "tags": []
   },
   "source": [
    "### Reshape the input data to create a linear array"
   ]
  },
  {
   "cell_type": "code",
   "execution_count": 13,
   "metadata": {
    "execution": {
     "iopub.execute_input": "2020-08-25T20:04:41.509886Z",
     "iopub.status.busy": "2020-08-25T20:04:41.509162Z",
     "iopub.status.idle": "2020-08-25T20:04:41.524870Z",
     "shell.execute_reply": "2020-08-25T20:04:41.524278Z"
    },
    "papermill": {
     "duration": 0.052315,
     "end_time": "2020-08-25T20:04:41.525015",
     "exception": false,
     "start_time": "2020-08-25T20:04:41.472700",
     "status": "completed"
    },
    "tags": []
   },
   "outputs": [
    {
     "data": {
      "text/plain": [
       "((11982, 784), (1984, 784))"
      ]
     },
     "execution_count": 13,
     "metadata": {},
     "output_type": "execute_result"
    }
   ],
   "source": [
    "X_train = X_train.reshape(X_train.shape[0], -1)\n",
    "X_test = X_test.reshape(X_test.shape[0], -1)\n",
    "X_train.shape, X_test.shape"
   ]
  },
  {
   "cell_type": "markdown",
   "metadata": {
    "papermill": {
     "duration": 0.031605,
     "end_time": "2020-08-25T20:04:41.590942",
     "exception": false,
     "start_time": "2020-08-25T20:04:41.559337",
     "status": "completed"
    },
    "tags": []
   },
   "source": [
    "### Importing appropriate functions from 'Kudzu'"
   ]
  },
  {
   "cell_type": "code",
   "execution_count": 14,
   "metadata": {
    "execution": {
     "iopub.execute_input": "2020-08-25T20:04:41.661725Z",
     "iopub.status.busy": "2020-08-25T20:04:41.661066Z",
     "iopub.status.idle": "2020-08-25T20:04:41.680626Z",
     "shell.execute_reply": "2020-08-25T20:04:41.681163Z"
    },
    "papermill": {
     "duration": 0.05719,
     "end_time": "2020-08-25T20:04:41.681327",
     "exception": false,
     "start_time": "2020-08-25T20:04:41.624137",
     "status": "completed"
    },
    "tags": []
   },
   "outputs": [],
   "source": [
    "from kudzu.layer import Sigmoid\n",
    "from kudzu.layer import Relu\n",
    "from kudzu.layer import Affine, Sigmoid\n",
    "\n",
    "from kudzu.model import Model\n",
    "from kudzu.train import Learner\n",
    "from kudzu.optim import GD\n",
    "from kudzu.data import Data, Dataloader, Sampler\n",
    "\n",
    "from kudzu.callbacks import AccCallback\n",
    "from kudzu.callbacks import ClfCallback\n",
    "\n",
    "from kudzu.loss import MSE"
   ]
  },
  {
   "cell_type": "markdown",
   "metadata": {
    "papermill": {
     "duration": 0.032536,
     "end_time": "2020-08-25T20:04:41.744284",
     "exception": false,
     "start_time": "2020-08-25T20:04:41.711748",
     "status": "completed"
    },
    "tags": []
   },
   "source": [
    "### Let us create a `Config` class, to store important parameters. \n",
    "This class essentially plays the role of a dictionary."
   ]
  },
  {
   "cell_type": "code",
   "execution_count": 15,
   "metadata": {
    "execution": {
     "iopub.execute_input": "2020-08-25T20:04:41.810952Z",
     "iopub.status.busy": "2020-08-25T20:04:41.810095Z",
     "iopub.status.idle": "2020-08-25T20:04:41.823090Z",
     "shell.execute_reply": "2020-08-25T20:04:41.822476Z"
    },
    "papermill": {
     "duration": 0.047666,
     "end_time": "2020-08-25T20:04:41.823214",
     "exception": false,
     "start_time": "2020-08-25T20:04:41.775548",
     "status": "completed"
    },
    "tags": []
   },
   "outputs": [],
   "source": [
    "class Config:\n",
    "    pass\n",
    "config = Config()\n",
    "config.lr = 0.001\n",
    "config.num_epochs = 251\n",
    "config.bs = 50"
   ]
  },
  {
   "cell_type": "markdown",
   "metadata": {
    "papermill": {
     "duration": 0.030104,
     "end_time": "2020-08-25T20:04:41.885549",
     "exception": false,
     "start_time": "2020-08-25T20:04:41.855445",
     "status": "completed"
    },
    "tags": []
   },
   "source": [
    "### Initializing data to the variables"
   ]
  },
  {
   "cell_type": "code",
   "execution_count": 16,
   "metadata": {
    "execution": {
     "iopub.execute_input": "2020-08-25T20:04:41.958842Z",
     "iopub.status.busy": "2020-08-25T20:04:41.958113Z",
     "iopub.status.idle": "2020-08-25T20:04:41.972717Z",
     "shell.execute_reply": "2020-08-25T20:04:41.972089Z"
    },
    "papermill": {
     "duration": 0.053044,
     "end_time": "2020-08-25T20:04:41.972859",
     "exception": false,
     "start_time": "2020-08-25T20:04:41.919815",
     "status": "completed"
    },
    "tags": []
   },
   "outputs": [],
   "source": [
    "data = Data(X_train, y_train.reshape(-1,1))\n",
    "sampler = Sampler(data, config.bs, shuffle=True)\n",
    "\n",
    "dl = Dataloader(data, sampler)\n",
    "\n",
    "opt = GD(config.lr)\n",
    "loss = MSE()"
   ]
  },
  {
   "cell_type": "code",
   "execution_count": 17,
   "metadata": {
    "execution": {
     "iopub.execute_input": "2020-08-25T20:04:42.044981Z",
     "iopub.status.busy": "2020-08-25T20:04:42.043952Z",
     "iopub.status.idle": "2020-08-25T20:04:42.058210Z",
     "shell.execute_reply": "2020-08-25T20:04:42.057565Z"
    },
    "papermill": {
     "duration": 0.05154,
     "end_time": "2020-08-25T20:04:42.058369",
     "exception": false,
     "start_time": "2020-08-25T20:04:42.006829",
     "status": "completed"
    },
    "tags": []
   },
   "outputs": [],
   "source": [
    "training_xdata = X_train\n",
    "testing_xdata = X_test\n",
    "training_ydata = y_train.reshape(-1,1)\n",
    "testing_ydata = y_test.reshape(-1,1)"
   ]
  },
  {
   "cell_type": "markdown",
   "metadata": {
    "papermill": {
     "duration": 0.031936,
     "end_time": "2020-08-25T20:04:42.122406",
     "exception": false,
     "start_time": "2020-08-25T20:04:42.090470",
     "status": "completed"
    },
    "tags": []
   },
   "source": [
    "### Running Models with the Training data\n",
    "Details about the network layers:\n",
    "- A first affine layer has 784 inputs and does 100 affine transforms. These are followed by a Relu\n",
    "- A second affine layer has 100 inputs from the 100 activations of the past layer, and does 100 affine transforms. These are followed by a Relu\n",
    "- A third affine layer has 100 activations and does 2 affine transformations to create an embedding for visualization. There is no non-linearity here.\n",
    "- A final \"logistic regression\" which has an affine transform from 2 inputs to 1 output, which is squeezed through a sigmoid.\n",
    "\n",
    "Help taken from Anshuman's Notebook."
   ]
  },
  {
   "cell_type": "code",
   "execution_count": 18,
   "metadata": {
    "execution": {
     "iopub.execute_input": "2020-08-25T20:04:42.192280Z",
     "iopub.status.busy": "2020-08-25T20:04:42.191544Z",
     "iopub.status.idle": "2020-08-25T20:04:42.211474Z",
     "shell.execute_reply": "2020-08-25T20:04:42.210850Z"
    },
    "papermill": {
     "duration": 0.056199,
     "end_time": "2020-08-25T20:04:42.211625",
     "exception": false,
     "start_time": "2020-08-25T20:04:42.155426",
     "status": "completed"
    },
    "tags": []
   },
   "outputs": [],
   "source": [
    "# layers for the Neural Network\n",
    "layers = [Affine(\"first\", 784, 100), Relu(\"first\"), Affine(\"second\", 100, 100), Relu(\"second\"), Affine(\"third\", 100, 2), Affine(\"final\", 2, 1), Sigmoid(\"final\")]\n",
    "model_nn = Model(layers)\n",
    "\n",
    "# layers for the Logistic Regression\n",
    "layers_lr = [Affine(\"logits\", 784, 1), Sigmoid(\"sigmoid\")]\n",
    "model_lr = Model(layers_lr)"
   ]
  },
  {
   "cell_type": "code",
   "execution_count": 19,
   "metadata": {
    "execution": {
     "iopub.execute_input": "2020-08-25T20:04:42.283706Z",
     "iopub.status.busy": "2020-08-25T20:04:42.282978Z",
     "iopub.status.idle": "2020-08-25T20:04:42.297055Z",
     "shell.execute_reply": "2020-08-25T20:04:42.296455Z"
    },
    "papermill": {
     "duration": 0.052788,
     "end_time": "2020-08-25T20:04:42.297202",
     "exception": false,
     "start_time": "2020-08-25T20:04:42.244414",
     "status": "completed"
    },
    "tags": []
   },
   "outputs": [],
   "source": [
    "# suffix _nn stands for Neural Network.\n",
    "learner_nn = Learner(loss, model_nn, opt, config.num_epochs)\n",
    "acc_nn = ClfCallback(learner_nn, config.bs, training_xdata , testing_xdata, training_ydata, testing_ydata)\n",
    "learner_nn.set_callbacks([acc_nn])"
   ]
  },
  {
   "cell_type": "code",
   "execution_count": 20,
   "metadata": {
    "execution": {
     "iopub.execute_input": "2020-08-25T20:04:42.366773Z",
     "iopub.status.busy": "2020-08-25T20:04:42.366121Z",
     "iopub.status.idle": "2020-08-25T20:07:02.710590Z",
     "shell.execute_reply": "2020-08-25T20:07:02.711122Z"
    },
    "papermill": {
     "duration": 140.380734,
     "end_time": "2020-08-25T20:07:02.711333",
     "exception": false,
     "start_time": "2020-08-25T20:04:42.330599",
     "status": "completed"
    },
    "tags": []
   },
   "outputs": [
    {
     "name": "stdout",
     "output_type": "stream",
     "text": [
      "====== Neural Network ======\n"
     ]
    },
    {
     "name": "stdout",
     "output_type": "stream",
     "text": [
      "Epoch 0, Loss 0.2257\n",
      "Training Accuracy: 0.7738, Testing Accuracy: 0.7747\n",
      "\n"
     ]
    },
    {
     "name": "stdout",
     "output_type": "stream",
     "text": [
      "Epoch 10, Loss 0.0976\n",
      "Training Accuracy: 0.9130, Testing Accuracy: 0.9189\n",
      "\n"
     ]
    },
    {
     "name": "stdout",
     "output_type": "stream",
     "text": [
      "Epoch 20, Loss 0.0582\n",
      "Training Accuracy: 0.9383, Testing Accuracy: 0.9511\n",
      "\n"
     ]
    },
    {
     "name": "stdout",
     "output_type": "stream",
     "text": [
      "Epoch 30, Loss 0.0448\n",
      "Training Accuracy: 0.9504, Testing Accuracy: 0.9592\n",
      "\n"
     ]
    },
    {
     "name": "stdout",
     "output_type": "stream",
     "text": [
      "Epoch 40, Loss 0.0384\n",
      "Training Accuracy: 0.9567, Testing Accuracy: 0.9652\n",
      "\n"
     ]
    },
    {
     "name": "stdout",
     "output_type": "stream",
     "text": [
      "Epoch 50, Loss 0.0346\n",
      "Training Accuracy: 0.9594, Testing Accuracy: 0.9667\n",
      "\n"
     ]
    },
    {
     "name": "stdout",
     "output_type": "stream",
     "text": [
      "Epoch 60, Loss 0.032\n",
      "Training Accuracy: 0.9625, Testing Accuracy: 0.9677\n",
      "\n"
     ]
    },
    {
     "name": "stdout",
     "output_type": "stream",
     "text": [
      "Epoch 70, Loss 0.0301\n",
      "Training Accuracy: 0.9644, Testing Accuracy: 0.9688\n",
      "\n"
     ]
    },
    {
     "name": "stdout",
     "output_type": "stream",
     "text": [
      "Epoch 80, Loss 0.0286\n",
      "Training Accuracy: 0.9670, Testing Accuracy: 0.9693\n",
      "\n"
     ]
    },
    {
     "name": "stdout",
     "output_type": "stream",
     "text": [
      "Epoch 90, Loss 0.0274\n",
      "Training Accuracy: 0.9685, Testing Accuracy: 0.9698\n",
      "\n"
     ]
    },
    {
     "name": "stdout",
     "output_type": "stream",
     "text": [
      "Epoch 100, Loss 0.0264\n",
      "Training Accuracy: 0.9692, Testing Accuracy: 0.9703\n",
      "\n"
     ]
    },
    {
     "name": "stdout",
     "output_type": "stream",
     "text": [
      "Epoch 110, Loss 0.0255\n",
      "Training Accuracy: 0.9704, Testing Accuracy: 0.9703\n",
      "\n"
     ]
    },
    {
     "name": "stdout",
     "output_type": "stream",
     "text": [
      "Epoch 120, Loss 0.0247\n",
      "Training Accuracy: 0.9718, Testing Accuracy: 0.9688\n",
      "\n"
     ]
    },
    {
     "name": "stdout",
     "output_type": "stream",
     "text": [
      "Epoch 130, Loss 0.024\n",
      "Training Accuracy: 0.9726, Testing Accuracy: 0.9688\n",
      "\n"
     ]
    },
    {
     "name": "stdout",
     "output_type": "stream",
     "text": [
      "Epoch 140, Loss 0.0234\n",
      "Training Accuracy: 0.9734, Testing Accuracy: 0.9703\n",
      "\n"
     ]
    },
    {
     "name": "stdout",
     "output_type": "stream",
     "text": [
      "Epoch 150, Loss 0.0228\n",
      "Training Accuracy: 0.9745, Testing Accuracy: 0.9708\n",
      "\n"
     ]
    },
    {
     "name": "stdout",
     "output_type": "stream",
     "text": [
      "Epoch 160, Loss 0.0223\n",
      "Training Accuracy: 0.9750, Testing Accuracy: 0.9713\n",
      "\n"
     ]
    },
    {
     "name": "stdout",
     "output_type": "stream",
     "text": [
      "Epoch 170, Loss 0.0218\n",
      "Training Accuracy: 0.9754, Testing Accuracy: 0.9713\n",
      "\n"
     ]
    },
    {
     "name": "stdout",
     "output_type": "stream",
     "text": [
      "Epoch 180, Loss 0.0214\n",
      "Training Accuracy: 0.9762, Testing Accuracy: 0.9713\n",
      "\n"
     ]
    },
    {
     "name": "stdout",
     "output_type": "stream",
     "text": [
      "Epoch 190, Loss 0.0209\n",
      "Training Accuracy: 0.9767, Testing Accuracy: 0.9718\n",
      "\n"
     ]
    },
    {
     "name": "stdout",
     "output_type": "stream",
     "text": [
      "Epoch 200, Loss 0.0205\n",
      "Training Accuracy: 0.9773, Testing Accuracy: 0.9718\n",
      "\n"
     ]
    },
    {
     "name": "stdout",
     "output_type": "stream",
     "text": [
      "Epoch 210, Loss 0.0201\n",
      "Training Accuracy: 0.9776, Testing Accuracy: 0.9718\n",
      "\n"
     ]
    },
    {
     "name": "stdout",
     "output_type": "stream",
     "text": [
      "Epoch 220, Loss 0.0198\n",
      "Training Accuracy: 0.9782, Testing Accuracy: 0.9723\n",
      "\n"
     ]
    },
    {
     "name": "stdout",
     "output_type": "stream",
     "text": [
      "Epoch 230, Loss 0.0194\n",
      "Training Accuracy: 0.9785, Testing Accuracy: 0.9723\n",
      "\n"
     ]
    },
    {
     "name": "stdout",
     "output_type": "stream",
     "text": [
      "Epoch 240, Loss 0.0191\n",
      "Training Accuracy: 0.9786, Testing Accuracy: 0.9728\n",
      "\n"
     ]
    },
    {
     "name": "stdout",
     "output_type": "stream",
     "text": [
      "Epoch 250, Loss 0.0188\n",
      "Training Accuracy: 0.9791, Testing Accuracy: 0.9723\n",
      "\n"
     ]
    },
    {
     "data": {
      "text/plain": [
       "0.021795436380862142"
      ]
     },
     "execution_count": 20,
     "metadata": {},
     "output_type": "execute_result"
    }
   ],
   "source": [
    "print(\"====== Neural Network ======\")\n",
    "learner_nn.train_loop(dl)"
   ]
  },
  {
   "cell_type": "markdown",
   "metadata": {
    "papermill": {
     "duration": 0.04408,
     "end_time": "2020-08-25T20:07:02.798870",
     "exception": false,
     "start_time": "2020-08-25T20:07:02.754790",
     "status": "completed"
    },
    "tags": []
   },
   "source": [
    "### Logistic Regression based Implementation."
   ]
  },
  {
   "cell_type": "code",
   "execution_count": 21,
   "metadata": {
    "execution": {
     "iopub.execute_input": "2020-08-25T20:07:02.901814Z",
     "iopub.status.busy": "2020-08-25T20:07:02.901058Z",
     "iopub.status.idle": "2020-08-25T20:07:02.915646Z",
     "shell.execute_reply": "2020-08-25T20:07:02.916264Z"
    },
    "papermill": {
     "duration": 0.074069,
     "end_time": "2020-08-25T20:07:02.916447",
     "exception": false,
     "start_time": "2020-08-25T20:07:02.842378",
     "status": "completed"
    },
    "tags": []
   },
   "outputs": [],
   "source": [
    "learner_lr = Learner(loss, model_lr, opt, config.num_epochs)\n",
    "acc_lr = ClfCallback(learner_lr, config.bs, training_xdata , testing_xdata, training_ydata, testing_ydata)\n",
    "learner_lr.set_callbacks([acc_lr])"
   ]
  },
  {
   "cell_type": "code",
   "execution_count": 22,
   "metadata": {
    "execution": {
     "iopub.execute_input": "2020-08-25T20:07:03.017644Z",
     "iopub.status.busy": "2020-08-25T20:07:03.016966Z",
     "iopub.status.idle": "2020-08-25T20:07:23.724828Z",
     "shell.execute_reply": "2020-08-25T20:07:23.725697Z"
    },
    "papermill": {
     "duration": 20.757757,
     "end_time": "2020-08-25T20:07:23.725873",
     "exception": false,
     "start_time": "2020-08-25T20:07:02.968116",
     "status": "completed"
    },
    "tags": []
   },
   "outputs": [
    {
     "name": "stdout",
     "output_type": "stream",
     "text": [
      "====== Logistic Regression ======\n",
      "Epoch 0, Loss 0.24\n",
      "Training Accuracy: 0.7098, Testing Accuracy: 0.7394\n",
      "\n"
     ]
    },
    {
     "name": "stdout",
     "output_type": "stream",
     "text": [
      "Epoch 10, Loss 0.1004\n",
      "Training Accuracy: 0.9143, Testing Accuracy: 0.9214\n",
      "\n"
     ]
    },
    {
     "name": "stdout",
     "output_type": "stream",
     "text": [
      "Epoch 20, Loss 0.0779\n",
      "Training Accuracy: 0.9293, Testing Accuracy: 0.9365\n",
      "\n"
     ]
    },
    {
     "name": "stdout",
     "output_type": "stream",
     "text": [
      "Epoch 30, Loss 0.0675\n",
      "Training Accuracy: 0.9357, Testing Accuracy: 0.9451\n",
      "\n"
     ]
    },
    {
     "name": "stdout",
     "output_type": "stream",
     "text": [
      "Epoch 40, Loss 0.0611\n",
      "Training Accuracy: 0.9410, Testing Accuracy: 0.9501\n",
      "\n"
     ]
    },
    {
     "name": "stdout",
     "output_type": "stream",
     "text": [
      "Epoch 50, Loss 0.0568\n",
      "Training Accuracy: 0.9450, Testing Accuracy: 0.9556\n",
      "\n"
     ]
    },
    {
     "name": "stdout",
     "output_type": "stream",
     "text": [
      "Epoch 60, Loss 0.0536\n",
      "Training Accuracy: 0.9475, Testing Accuracy: 0.9577\n",
      "\n"
     ]
    },
    {
     "name": "stdout",
     "output_type": "stream",
     "text": [
      "Epoch 70, Loss 0.0511\n",
      "Training Accuracy: 0.9493, Testing Accuracy: 0.9612\n",
      "\n"
     ]
    },
    {
     "name": "stdout",
     "output_type": "stream",
     "text": [
      "Epoch 80, Loss 0.0491\n",
      "Training Accuracy: 0.9518, Testing Accuracy: 0.9622\n",
      "\n"
     ]
    },
    {
     "name": "stdout",
     "output_type": "stream",
     "text": [
      "Epoch 90, Loss 0.0475\n",
      "Training Accuracy: 0.9528, Testing Accuracy: 0.9627\n",
      "\n"
     ]
    },
    {
     "name": "stdout",
     "output_type": "stream",
     "text": [
      "Epoch 100, Loss 0.0461\n",
      "Training Accuracy: 0.9536, Testing Accuracy: 0.9627\n",
      "\n"
     ]
    },
    {
     "name": "stdout",
     "output_type": "stream",
     "text": [
      "Epoch 110, Loss 0.0449\n",
      "Training Accuracy: 0.9542, Testing Accuracy: 0.9622\n",
      "\n"
     ]
    },
    {
     "name": "stdout",
     "output_type": "stream",
     "text": [
      "Epoch 120, Loss 0.0438\n",
      "Training Accuracy: 0.9548, Testing Accuracy: 0.9627\n",
      "\n"
     ]
    },
    {
     "name": "stdout",
     "output_type": "stream",
     "text": [
      "Epoch 130, Loss 0.0429\n",
      "Training Accuracy: 0.9556, Testing Accuracy: 0.9632\n",
      "\n"
     ]
    },
    {
     "name": "stdout",
     "output_type": "stream",
     "text": [
      "Epoch 140, Loss 0.0421\n",
      "Training Accuracy: 0.9567, Testing Accuracy: 0.9647\n",
      "\n"
     ]
    },
    {
     "name": "stdout",
     "output_type": "stream",
     "text": [
      "Epoch 150, Loss 0.0414\n",
      "Training Accuracy: 0.9571, Testing Accuracy: 0.9652\n",
      "\n"
     ]
    },
    {
     "name": "stdout",
     "output_type": "stream",
     "text": [
      "Epoch 160, Loss 0.0407\n",
      "Training Accuracy: 0.9574, Testing Accuracy: 0.9667\n",
      "\n"
     ]
    },
    {
     "name": "stdout",
     "output_type": "stream",
     "text": [
      "Epoch 170, Loss 0.0401\n",
      "Training Accuracy: 0.9579, Testing Accuracy: 0.9672\n",
      "\n"
     ]
    },
    {
     "name": "stdout",
     "output_type": "stream",
     "text": [
      "Epoch 180, Loss 0.0396\n",
      "Training Accuracy: 0.9586, Testing Accuracy: 0.9677\n",
      "\n"
     ]
    },
    {
     "name": "stdout",
     "output_type": "stream",
     "text": [
      "Epoch 190, Loss 0.039\n",
      "Training Accuracy: 0.9589, Testing Accuracy: 0.9677\n",
      "\n"
     ]
    },
    {
     "name": "stdout",
     "output_type": "stream",
     "text": [
      "Epoch 200, Loss 0.0386\n",
      "Training Accuracy: 0.9594, Testing Accuracy: 0.9677\n",
      "\n"
     ]
    },
    {
     "name": "stdout",
     "output_type": "stream",
     "text": [
      "Epoch 210, Loss 0.0381\n",
      "Training Accuracy: 0.9598, Testing Accuracy: 0.9677\n",
      "\n"
     ]
    },
    {
     "name": "stdout",
     "output_type": "stream",
     "text": [
      "Epoch 220, Loss 0.0377\n",
      "Training Accuracy: 0.9600, Testing Accuracy: 0.9682\n",
      "\n"
     ]
    },
    {
     "name": "stdout",
     "output_type": "stream",
     "text": [
      "Epoch 230, Loss 0.0373\n",
      "Training Accuracy: 0.9607, Testing Accuracy: 0.9682\n",
      "\n"
     ]
    },
    {
     "name": "stdout",
     "output_type": "stream",
     "text": [
      "Epoch 240, Loss 0.037\n",
      "Training Accuracy: 0.9609, Testing Accuracy: 0.9688\n",
      "\n"
     ]
    },
    {
     "name": "stdout",
     "output_type": "stream",
     "text": [
      "Epoch 250, Loss 0.0366\n",
      "Training Accuracy: 0.9612, Testing Accuracy: 0.9688\n",
      "\n"
     ]
    },
    {
     "data": {
      "text/plain": [
       "0.011087046064005686"
      ]
     },
     "execution_count": 22,
     "metadata": {},
     "output_type": "execute_result"
    }
   ],
   "source": [
    "print(\"====== Logistic Regression ======\")\n",
    "learner_lr.train_loop(dl)"
   ]
  },
  {
   "cell_type": "markdown",
   "metadata": {
    "papermill": {
     "duration": 0.055352,
     "end_time": "2020-08-25T20:07:23.838711",
     "exception": false,
     "start_time": "2020-08-25T20:07:23.783359",
     "status": "completed"
    },
    "tags": []
   },
   "source": [
    "### Comparing results of NN and LR"
   ]
  },
  {
   "cell_type": "code",
   "execution_count": 23,
   "metadata": {
    "execution": {
     "iopub.execute_input": "2020-08-25T20:07:23.947530Z",
     "iopub.status.busy": "2020-08-25T20:07:23.946811Z",
     "iopub.status.idle": "2020-08-25T20:07:24.243166Z",
     "shell.execute_reply": "2020-08-25T20:07:24.243761Z"
    },
    "papermill": {
     "duration": 0.354286,
     "end_time": "2020-08-25T20:07:24.243938",
     "exception": false,
     "start_time": "2020-08-25T20:07:23.889652",
     "status": "completed"
    },
    "tags": []
   },
   "outputs": [
    {
     "data": {
      "text/plain": [
       "<matplotlib.legend.Legend at 0x7fe47573a828>"
      ]
     },
     "execution_count": 23,
     "metadata": {},
     "output_type": "execute_result"
    },
    {
     "data": {
      "image/png": "[encoded data removed]",
      "text/plain": [
       "<Figure size 1080x720 with 1 Axes>"
      ]
     },
     "metadata": {
      "needs_background": "light"
     },
     "output_type": "display_data"
    }
   ],
   "source": [
    "plt.figure(figsize=(15,10))\n",
    "\n",
    "# Neural Network plots\n",
    "plt.plot(acc_nn.accuracies, 'r-', label = \"Training Accuracies - NN\")\n",
    "plt.plot(acc_nn.test_accuracies, 'g-', label = \"Testing Accuracies - NN\")\n",
    "\n",
    "# Logistic Regression plots\n",
    "plt.plot(acc_lr.accuracies, 'k-', label = \"Training Accuracies - LR\")\n",
    "plt.plot(acc_lr.test_accuracies, 'b-', label = \"Testing Accuracies - LR\")\n",
    "\n",
    "plt.ylim(0.8, 1)\n",
    "\n",
    "plt.legend()\n",
    "\n"
   ]
  },
  {
   "cell_type": "markdown",
   "metadata": {
    "papermill": {
     "duration": 0.054828,
     "end_time": "2020-08-25T20:07:24.353414",
     "exception": false,
     "start_time": "2020-08-25T20:07:24.298586",
     "status": "completed"
    },
    "tags": []
   },
   "source": [
    "### From the plot, we can observe the following:\n",
    "- Neural Network achieves higher accuracy than the Logistic Regression model.\n",
    "- This apparently, is because of overfitting, i.e. NN captures more noise than data.\n",
    "- Testing accuracy of NN drops below the Training accuracy at higher epochs. This explains the over-fitting on training data.\n",
    "- Logistic Regression gives a reliable accuracy, without the above mentioned problem.\n"
   ]
  },
  {
   "cell_type": "markdown",
   "metadata": {
    "papermill": {
     "duration": 0.054725,
     "end_time": "2020-08-25T20:07:24.463749",
     "exception": false,
     "start_time": "2020-08-25T20:07:24.409024",
     "status": "completed"
    },
    "tags": []
   },
   "source": [
    "### Moving till the last but one layer (excluding it).\n",
    "#### Plotting the outputs of this layer of the NN."
   ]
  },
  {
   "cell_type": "code",
   "execution_count": 24,
   "metadata": {
    "execution": {
     "iopub.execute_input": "2020-08-25T20:07:24.585386Z",
     "iopub.status.busy": "2020-08-25T20:07:24.577863Z",
     "iopub.status.idle": "2020-08-25T20:07:24.591774Z",
     "shell.execute_reply": "2020-08-25T20:07:24.591196Z"
    },
    "papermill": {
     "duration": 0.07308,
     "end_time": "2020-08-25T20:07:24.591956",
     "exception": false,
     "start_time": "2020-08-25T20:07:24.518876",
     "status": "completed"
    },
    "tags": []
   },
   "outputs": [],
   "source": [
    "model_new = Model(layers[:-2])"
   ]
  },
  {
   "cell_type": "code",
   "execution_count": 25,
   "metadata": {
    "execution": {
     "iopub.execute_input": "2020-08-25T20:07:24.712881Z",
     "iopub.status.busy": "2020-08-25T20:07:24.712124Z",
     "iopub.status.idle": "2020-08-25T20:07:24.734705Z",
     "shell.execute_reply": "2020-08-25T20:07:24.735586Z"
    },
    "papermill": {
     "duration": 0.089524,
     "end_time": "2020-08-25T20:07:24.735780",
     "exception": false,
     "start_time": "2020-08-25T20:07:24.646256",
     "status": "completed"
    },
    "tags": []
   },
   "outputs": [],
   "source": [
    "plot_testing = model_new(testing_xdata)"
   ]
  },
  {
   "cell_type": "code",
   "execution_count": 26,
   "metadata": {
    "execution": {
     "iopub.execute_input": "2020-08-25T20:07:24.860632Z",
     "iopub.status.busy": "2020-08-25T20:07:24.859902Z",
     "iopub.status.idle": "2020-08-25T20:07:25.113816Z",
     "shell.execute_reply": "2020-08-25T20:07:25.113221Z"
    },
    "papermill": {
     "duration": 0.315331,
     "end_time": "2020-08-25T20:07:25.113969",
     "exception": false,
     "start_time": "2020-08-25T20:07:24.798638",
     "status": "completed"
    },
    "tags": []
   },
   "outputs": [
    {
     "data": {
      "text/plain": [
       "Text(0.5, 1.0, 'Outputs')"
      ]
     },
     "execution_count": 26,
     "metadata": {},
     "output_type": "execute_result"
    },
    {
     "data": {
      "image/png": "[encoded data removed]",
      "text/plain": [
       "<Figure size 576x504 with 1 Axes>"
      ]
     },
     "metadata": {
      "needs_background": "light"
     },
     "output_type": "display_data"
    }
   ],
   "source": [
    "plt.figure(figsize=(8,7))\n",
    "plt.scatter(plot_testing[:,0], plot_testing[:,1], alpha = 0.1, c = y_test.ravel());\n",
    "plt.title('Outputs')"
   ]
  },
  {
   "cell_type": "markdown",
   "metadata": {
    "papermill": {
     "duration": 0.058058,
     "end_time": "2020-08-25T20:07:25.227668",
     "exception": false,
     "start_time": "2020-08-25T20:07:25.169610",
     "status": "completed"
    },
    "tags": []
   },
   "source": [
    "### Plotting probability contours"
   ]
  },
  {
   "cell_type": "code",
   "execution_count": 27,
   "metadata": {
    "execution": {
     "iopub.execute_input": "2020-08-25T20:07:25.347155Z",
     "iopub.status.busy": "2020-08-25T20:07:25.346379Z",
     "iopub.status.idle": "2020-08-25T20:07:25.360544Z",
     "shell.execute_reply": "2020-08-25T20:07:25.359929Z"
    },
    "papermill": {
     "duration": 0.07401,
     "end_time": "2020-08-25T20:07:25.360730",
     "exception": false,
     "start_time": "2020-08-25T20:07:25.286720",
     "status": "completed"
    },
    "tags": []
   },
   "outputs": [],
   "source": [
    "model_prob = Model(layers[-2:]) "
   ]
  },
  {
   "cell_type": "code",
   "execution_count": 28,
   "metadata": {
    "execution": {
     "iopub.execute_input": "2020-08-25T20:07:25.475194Z",
     "iopub.status.busy": "2020-08-25T20:07:25.474432Z",
     "iopub.status.idle": "2020-08-25T20:07:25.489069Z",
     "shell.execute_reply": "2020-08-25T20:07:25.489665Z"
    },
    "papermill": {
     "duration": 0.073686,
     "end_time": "2020-08-25T20:07:25.489856",
     "exception": false,
     "start_time": "2020-08-25T20:07:25.416170",
     "status": "completed"
    },
    "tags": []
   },
   "outputs": [],
   "source": [
    "# Adjust the x and y ranges according to the above generated plot.\n",
    "x_range = np.linspace(-4, 1, 100) \n",
    "y_range = np.linspace(-6, 6, 100) \n",
    "x_grid, y_grid = np.meshgrid(x_range, y_range) # x_grid and y_grig are of size 100 X 100\n",
    "\n",
    "# converting x_grid and y_grid to continuous arrays\n",
    "x_grid_flat = np.ravel(x_grid)\n",
    "y_grid_flat = np.ravel(y_grid)\n",
    "\n",
    "# The last layer of the current model takes two columns as input. Hence transpose of np.vstack() is required.\n",
    "X = np.vstack((x_grid_flat, y_grid_flat)).T\n",
    "\n",
    "# x_grid and y_grid are of size 100 x 100\n",
    "probability_contour = model_prob(X).reshape(100,100) "
   ]
  },
  {
   "cell_type": "code",
   "execution_count": 29,
   "metadata": {
    "execution": {
     "iopub.execute_input": "2020-08-25T20:07:25.624588Z",
     "iopub.status.busy": "2020-08-25T20:07:25.623843Z",
     "iopub.status.idle": "2020-08-25T20:07:25.944959Z",
     "shell.execute_reply": "2020-08-25T20:07:25.945548Z"
    },
    "papermill": {
     "duration": 0.402591,
     "end_time": "2020-08-25T20:07:25.945738",
     "exception": false,
     "start_time": "2020-08-25T20:07:25.543147",
     "status": "completed"
    },
    "tags": []
   },
   "outputs": [
    {
     "data": {
      "image/png": "[encoded data removed]",
      "text/plain": [
       "<Figure size 720x648 with 1 Axes>"
      ]
     },
     "metadata": {
      "needs_background": "light"
     },
     "output_type": "display_data"
    }
   ],
   "source": [
    "plt.figure(figsize=(10,9))\n",
    "plt.scatter(plot_testing[:,0], plot_testing[:,1], alpha = 0.1, c = y_test.ravel())\n",
    "contours = plt.contour(x_grid,y_grid,probability_contour)\n",
    "plt.title('Probability Contours')\n",
    "plt.clabel(contours, inline = True );"
   ]
  }
 ],
 "metadata": {
  "kernelspec": {
   "display_name": "Python 3",
   "language": "python",
   "name": "python3"
  },
  "language_info": {
   "codemirror_mode": {
    "name": "ipython",
    "version": 3
   },
   "file_extension": ".py",
   "mimetype": "text/x-python",
   "name": "python",
   "nbconvert_exporter": "python",
   "pygments_lexer": "ipython3",
   "version": "3.6.11"
  },
  "papermill": {
   "duration": 175.939978,
   "end_time": "2020-08-25T20:07:26.413875",
   "environment_variables": {},
   "exception": null,
   "input_path": "2020-08-11-NeuralNetwork.ipynb",
   "output_path": "2020-08-11-NeuralNetwork.ipynb",
   "parameters": {},
   "start_time": "2020-08-25T20:04:30.473897",
   "version": "2.1.2"
  }
 },
 "nbformat": 4,
 "nbformat_minor": 4
}