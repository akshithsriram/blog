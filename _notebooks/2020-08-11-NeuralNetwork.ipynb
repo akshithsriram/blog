{
 "cells": [
  {
   "cell_type": "markdown",
   "metadata": {
    "papermill": {
     "duration": 0.029436,
     "end_time": "2020-10-21T20:04:47.747249",
     "exception": false,
     "start_time": "2020-10-21T20:04:47.717813",
     "status": "completed"
    },
    "tags": []
   },
   "source": [
    "# \"A Basic Neural Network: Differentiate Hand-Written Digits\"\n",
    "\n",
    "- badges: true\n",
    "- author: Akshith Sriram"
   ]
  },
  {
   "cell_type": "markdown",
   "metadata": {
    "papermill": {
     "duration": 0.023449,
     "end_time": "2020-10-21T20:04:47.795470",
     "exception": false,
     "start_time": "2020-10-21T20:04:47.772021",
     "status": "completed"
    },
    "tags": []
   },
   "source": [
    "### Key Objectives:\n",
    "- Building a neural network that differentiates two hand-written digits 3 and 8.\n",
    "- Comparing the results of this Neural Network (NN) to that of a Logistic Regression (LR) model.\n",
    "\n",
    "### Requirements:\n",
    "- 'Kudzu' : A neural network library that was designed during our course by [Univ.AI](www.univ.ai). \n",
    "- MNIST Database\n",
    "\n",
    "If MNIST is not installed, use the command `!pip install mnist` given below.\n",
    "It can be run both from the command line and Jupyter Notebook."
   ]
  },
  {
   "cell_type": "code",
   "execution_count": 1,
   "metadata": {
    "execution": {
     "iopub.execute_input": "2020-10-21T20:04:47.846330Z",
     "iopub.status.busy": "2020-10-21T20:04:47.844245Z",
     "iopub.status.idle": "2020-10-21T20:04:49.316385Z",
     "shell.execute_reply": "2020-10-21T20:04:49.315389Z"
    },
    "papermill": {
     "duration": 1.499024,
     "end_time": "2020-10-21T20:04:49.316531",
     "exception": false,
     "start_time": "2020-10-21T20:04:47.817507",
     "status": "completed"
    },
    "tags": []
   },
   "outputs": [
    {
     "name": "stdout",
     "output_type": "stream",
     "text": [
      "Collecting mnist\r\n"
     ]
    },
    {
     "name": "stdout",
     "output_type": "stream",
     "text": [
      "  Downloading mnist-0.2.2-py2.py3-none-any.whl (3.5 kB)\r\n",
      "Requirement already satisfied: numpy in /opt/hostedtoolcache/Python/3.6.12/x64/lib/python3.6/site-packages (from mnist) (1.19.2)\r\n"
     ]
    },
    {
     "name": "stdout",
     "output_type": "stream",
     "text": [
      "Installing collected packages: mnist\r\n"
     ]
    },
    {
     "name": "stdout",
     "output_type": "stream",
     "text": [
      "Successfully installed mnist-0.2.2\r\n",
      "\u001b[33mWARNING: You are using pip version 20.2.3; however, version 20.2.4 is available.\r\n",
      "You should consider upgrading via the '/opt/hostedtoolcache/Python/3.6.12/x64/bin/python -m pip install --upgrade pip' command.\u001b[0m\r\n"
     ]
    }
   ],
   "source": [
    "!pip install mnist "
   ]
  },
  {
   "cell_type": "markdown",
   "metadata": {
    "papermill": {
     "duration": 0.09654,
     "end_time": "2020-10-21T20:04:49.499488",
     "exception": false,
     "start_time": "2020-10-21T20:04:49.402948",
     "status": "completed"
    },
    "tags": []
   },
   "source": [
    "#### Importing necessary libraries"
   ]
  },
  {
   "cell_type": "code",
   "execution_count": 2,
   "metadata": {
    "execution": {
     "iopub.execute_input": "2020-10-21T20:04:49.570173Z",
     "iopub.status.busy": "2020-10-21T20:04:49.569611Z",
     "iopub.status.idle": "2020-10-21T20:04:50.028172Z",
     "shell.execute_reply": "2020-10-21T20:04:50.027388Z"
    },
    "papermill": {
     "duration": 0.50512,
     "end_time": "2020-10-21T20:04:50.028301",
     "exception": false,
     "start_time": "2020-10-21T20:04:49.523181",
     "status": "completed"
    },
    "tags": []
   },
   "outputs": [],
   "source": [
    "%load_ext autoreload\n",
    "%autoreload 2\n",
    "\n",
    "%matplotlib inline\n",
    "import matplotlib.pyplot as plt\n",
    "\n",
    "import numpy as np\n",
    "import pandas as pd"
   ]
  },
  {
   "cell_type": "markdown",
   "metadata": {
    "papermill": {
     "duration": 0.023192,
     "end_time": "2020-10-21T20:04:50.074231",
     "exception": false,
     "start_time": "2020-10-21T20:04:50.051039",
     "status": "completed"
    },
    "tags": []
   },
   "source": [
    "### Preparing the Data"
   ]
  },
  {
   "cell_type": "code",
   "execution_count": 3,
   "metadata": {
    "execution": {
     "iopub.execute_input": "2020-10-21T20:04:50.130092Z",
     "iopub.status.busy": "2020-10-21T20:04:50.122799Z",
     "iopub.status.idle": "2020-10-21T20:04:50.132398Z",
     "shell.execute_reply": "2020-10-21T20:04:50.131893Z"
    },
    "papermill": {
     "duration": 0.035155,
     "end_time": "2020-10-21T20:04:50.132499",
     "exception": false,
     "start_time": "2020-10-21T20:04:50.097344",
     "status": "completed"
    },
    "tags": []
   },
   "outputs": [],
   "source": [
    "import mnist"
   ]
  },
  {
   "cell_type": "code",
   "execution_count": 4,
   "metadata": {
    "execution": {
     "iopub.execute_input": "2020-10-21T20:04:50.192105Z",
     "iopub.status.busy": "2020-10-21T20:04:50.186192Z",
     "iopub.status.idle": "2020-10-21T20:04:50.923981Z",
     "shell.execute_reply": "2020-10-21T20:04:50.924395Z"
    },
    "papermill": {
     "duration": 0.770441,
     "end_time": "2020-10-21T20:04:50.924546",
     "exception": false,
     "start_time": "2020-10-21T20:04:50.154105",
     "status": "completed"
    },
    "tags": []
   },
   "outputs": [],
   "source": [
    "train_images = mnist.train_images()\n",
    "train_labels = mnist.train_labels()"
   ]
  },
  {
   "cell_type": "code",
   "execution_count": 5,
   "metadata": {
    "execution": {
     "iopub.execute_input": "2020-10-21T20:04:50.988280Z",
     "iopub.status.busy": "2020-10-21T20:04:50.983512Z",
     "iopub.status.idle": "2020-10-21T20:04:50.994281Z",
     "shell.execute_reply": "2020-10-21T20:04:50.993835Z"
    },
    "papermill": {
     "duration": 0.047925,
     "end_time": "2020-10-21T20:04:50.994395",
     "exception": false,
     "start_time": "2020-10-21T20:04:50.946470",
     "status": "completed"
    },
    "tags": []
   },
   "outputs": [
    {
     "data": {
      "text/plain": [
       "((60000, 28, 28), (60000,))"
      ]
     },
     "execution_count": 5,
     "metadata": {},
     "output_type": "execute_result"
    }
   ],
   "source": [
    "train_images.shape, train_labels.shape"
   ]
  },
  {
   "cell_type": "code",
   "execution_count": 6,
   "metadata": {
    "execution": {
     "iopub.execute_input": "2020-10-21T20:04:51.059615Z",
     "iopub.status.busy": "2020-10-21T20:04:51.059105Z",
     "iopub.status.idle": "2020-10-21T20:04:51.327545Z",
     "shell.execute_reply": "2020-10-21T20:04:51.327018Z"
    },
    "papermill": {
     "duration": 0.309937,
     "end_time": "2020-10-21T20:04:51.327667",
     "exception": false,
     "start_time": "2020-10-21T20:04:51.017730",
     "status": "completed"
    },
    "tags": []
   },
   "outputs": [],
   "source": [
    "test_images = mnist.test_images()\n",
    "test_labels = mnist.test_labels()"
   ]
  },
  {
   "cell_type": "code",
   "execution_count": 7,
   "metadata": {
    "execution": {
     "iopub.execute_input": "2020-10-21T20:04:51.379847Z",
     "iopub.status.busy": "2020-10-21T20:04:51.379315Z",
     "iopub.status.idle": "2020-10-21T20:04:51.389165Z",
     "shell.execute_reply": "2020-10-21T20:04:51.388422Z"
    },
    "papermill": {
     "duration": 0.03783,
     "end_time": "2020-10-21T20:04:51.389274",
     "exception": false,
     "start_time": "2020-10-21T20:04:51.351444",
     "status": "completed"
    },
    "tags": []
   },
   "outputs": [
    {
     "data": {
      "text/plain": [
       "((10000, 28, 28), (10000,))"
      ]
     },
     "execution_count": 7,
     "metadata": {},
     "output_type": "execute_result"
    }
   ],
   "source": [
    "test_images.shape, test_labels.shape"
   ]
  },
  {
   "cell_type": "code",
   "execution_count": 8,
   "metadata": {
    "execution": {
     "iopub.execute_input": "2020-10-21T20:04:51.438211Z",
     "iopub.status.busy": "2020-10-21T20:04:51.437647Z",
     "iopub.status.idle": "2020-10-21T20:04:51.590875Z",
     "shell.execute_reply": "2020-10-21T20:04:51.590319Z"
    },
    "papermill": {
     "duration": 0.179278,
     "end_time": "2020-10-21T20:04:51.590984",
     "exception": false,
     "start_time": "2020-10-21T20:04:51.411706",
     "status": "completed"
    },
    "tags": []
   },
   "outputs": [
    {
     "name": "stdout",
     "output_type": "stream",
     "text": [
      "2\n"
     ]
    },
    {
     "data": {
      "text/plain": [
       "<matplotlib.image.AxesImage at 0x7fd81a712940>"
      ]
     },
     "execution_count": 8,
     "metadata": {},
     "output_type": "execute_result"
    },
    {
     "data": {
      "image/png": "[encoded data removed]",
      "text/plain": [
       "<Figure size 432x288 with 1 Axes>"
      ]
     },
     "metadata": {
      "needs_background": "light"
     },
     "output_type": "display_data"
    }
   ],
   "source": [
    "image_index = 7776 # You may select anything up to 60,000\n",
    "print(train_labels[image_index]) \n",
    "plt.imshow(train_images[image_index], cmap='Greys')"
   ]
  },
  {
   "cell_type": "markdown",
   "metadata": {
    "papermill": {
     "duration": 0.024136,
     "end_time": "2020-10-21T20:04:51.639864",
     "exception": false,
     "start_time": "2020-10-21T20:04:51.615728",
     "status": "completed"
    },
    "tags": []
   },
   "source": [
    "## Filter data to get 3 and 8 out"
   ]
  },
  {
   "cell_type": "code",
   "execution_count": 9,
   "metadata": {
    "execution": {
     "iopub.execute_input": "2020-10-21T20:04:51.690628Z",
     "iopub.status.busy": "2020-10-21T20:04:51.690076Z",
     "iopub.status.idle": "2020-10-21T20:04:51.704731Z",
     "shell.execute_reply": "2020-10-21T20:04:51.705165Z"
    },
    "papermill": {
     "duration": 0.041769,
     "end_time": "2020-10-21T20:04:51.705286",
     "exception": false,
     "start_time": "2020-10-21T20:04:51.663517",
     "status": "completed"
    },
    "tags": []
   },
   "outputs": [],
   "source": [
    "train_filter = np.where((train_labels == 3 ) | (train_labels == 8))\n",
    "test_filter = np.where((test_labels == 3) | (test_labels == 8))\n",
    "X_train, y_train = train_images[train_filter], train_labels[train_filter]\n",
    "X_test, y_test = test_images[test_filter], test_labels[test_filter]"
   ]
  },
  {
   "cell_type": "markdown",
   "metadata": {
    "papermill": {
     "duration": 0.023925,
     "end_time": "2020-10-21T20:04:51.752797",
     "exception": false,
     "start_time": "2020-10-21T20:04:51.728872",
     "status": "completed"
    },
    "tags": []
   },
   "source": [
    "We normalize the pixel values in the 0 to 1 range"
   ]
  },
  {
   "cell_type": "code",
   "execution_count": 10,
   "metadata": {
    "execution": {
     "iopub.execute_input": "2020-10-21T20:04:51.802691Z",
     "iopub.status.busy": "2020-10-21T20:04:51.802137Z",
     "iopub.status.idle": "2020-10-21T20:04:51.852742Z",
     "shell.execute_reply": "2020-10-21T20:04:51.853165Z"
    },
    "papermill": {
     "duration": 0.077174,
     "end_time": "2020-10-21T20:04:51.853317",
     "exception": false,
     "start_time": "2020-10-21T20:04:51.776143",
     "status": "completed"
    },
    "tags": []
   },
   "outputs": [],
   "source": [
    "X_train = X_train/255.\n",
    "X_test = X_test/255."
   ]
  },
  {
   "cell_type": "markdown",
   "metadata": {
    "papermill": {
     "duration": 0.023601,
     "end_time": "2020-10-21T20:04:51.901444",
     "exception": false,
     "start_time": "2020-10-21T20:04:51.877843",
     "status": "completed"
    },
    "tags": []
   },
   "source": [
    "Setup the labels as 1 (when the digit is 3) and 0 (when the digit is 8)"
   ]
  },
  {
   "cell_type": "code",
   "execution_count": 11,
   "metadata": {
    "execution": {
     "iopub.execute_input": "2020-10-21T20:04:51.952203Z",
     "iopub.status.busy": "2020-10-21T20:04:51.951596Z",
     "iopub.status.idle": "2020-10-21T20:04:51.962222Z",
     "shell.execute_reply": "2020-10-21T20:04:51.962705Z"
    },
    "papermill": {
     "duration": 0.037473,
     "end_time": "2020-10-21T20:04:51.962824",
     "exception": false,
     "start_time": "2020-10-21T20:04:51.925351",
     "status": "completed"
    },
    "tags": []
   },
   "outputs": [],
   "source": [
    "y_train = 1*(y_train==3)\n",
    "y_test = 1*(y_test==3)"
   ]
  },
  {
   "cell_type": "code",
   "execution_count": 12,
   "metadata": {
    "execution": {
     "iopub.execute_input": "2020-10-21T20:04:52.018472Z",
     "iopub.status.busy": "2020-10-21T20:04:52.017952Z",
     "iopub.status.idle": "2020-10-21T20:04:52.028003Z",
     "shell.execute_reply": "2020-10-21T20:04:52.028505Z"
    },
    "papermill": {
     "duration": 0.038544,
     "end_time": "2020-10-21T20:04:52.028620",
     "exception": false,
     "start_time": "2020-10-21T20:04:51.990076",
     "status": "completed"
    },
    "tags": []
   },
   "outputs": [
    {
     "data": {
      "text/plain": [
       "((11982, 28, 28), (1984, 28, 28))"
      ]
     },
     "execution_count": 12,
     "metadata": {},
     "output_type": "execute_result"
    }
   ],
   "source": [
    "X_train.shape, X_test.shape"
   ]
  },
  {
   "cell_type": "markdown",
   "metadata": {
    "papermill": {
     "duration": 0.028005,
     "end_time": "2020-10-21T20:04:52.082396",
     "exception": false,
     "start_time": "2020-10-21T20:04:52.054391",
     "status": "completed"
    },
    "tags": []
   },
   "source": [
    "### Reshape the input data to create a linear array"
   ]
  },
  {
   "cell_type": "code",
   "execution_count": 13,
   "metadata": {
    "execution": {
     "iopub.execute_input": "2020-10-21T20:04:52.147652Z",
     "iopub.status.busy": "2020-10-21T20:04:52.142231Z",
     "iopub.status.idle": "2020-10-21T20:04:52.150322Z",
     "shell.execute_reply": "2020-10-21T20:04:52.150791Z"
    },
    "papermill": {
     "duration": 0.042743,
     "end_time": "2020-10-21T20:04:52.150913",
     "exception": false,
     "start_time": "2020-10-21T20:04:52.108170",
     "status": "completed"
    },
    "tags": []
   },
   "outputs": [
    {
     "data": {
      "text/plain": [
       "((11982, 784), (1984, 784))"
      ]
     },
     "execution_count": 13,
     "metadata": {},
     "output_type": "execute_result"
    }
   ],
   "source": [
    "X_train = X_train.reshape(X_train.shape[0], -1)\n",
    "X_test = X_test.reshape(X_test.shape[0], -1)\n",
    "X_train.shape, X_test.shape"
   ]
  },
  {
   "cell_type": "markdown",
   "metadata": {
    "papermill": {
     "duration": 0.023902,
     "end_time": "2020-10-21T20:04:52.198498",
     "exception": false,
     "start_time": "2020-10-21T20:04:52.174596",
     "status": "completed"
    },
    "tags": []
   },
   "source": [
    "### Importing appropriate functions from 'Kudzu'"
   ]
  },
  {
   "cell_type": "code",
   "execution_count": 14,
   "metadata": {
    "execution": {
     "iopub.execute_input": "2020-10-21T20:04:52.263465Z",
     "iopub.status.busy": "2020-10-21T20:04:52.257376Z",
     "iopub.status.idle": "2020-10-21T20:04:52.275441Z",
     "shell.execute_reply": "2020-10-21T20:04:52.274862Z"
    },
    "papermill": {
     "duration": 0.051951,
     "end_time": "2020-10-21T20:04:52.275570",
     "exception": false,
     "start_time": "2020-10-21T20:04:52.223619",
     "status": "completed"
    },
    "tags": []
   },
   "outputs": [],
   "source": [
    "from kudzu.layer import Sigmoid\n",
    "from kudzu.layer import Relu\n",
    "from kudzu.layer import Affine, Sigmoid\n",
    "\n",
    "from kudzu.model import Model\n",
    "from kudzu.train import Learner\n",
    "from kudzu.optim import GD\n",
    "from kudzu.data import Data, Dataloader, Sampler\n",
    "\n",
    "from kudzu.callbacks import AccCallback\n",
    "from kudzu.callbacks import ClfCallback\n",
    "\n",
    "from kudzu.loss import MSE"
   ]
  },
  {
   "cell_type": "markdown",
   "metadata": {
    "papermill": {
     "duration": 0.023871,
     "end_time": "2020-10-21T20:04:52.325705",
     "exception": false,
     "start_time": "2020-10-21T20:04:52.301834",
     "status": "completed"
    },
    "tags": []
   },
   "source": [
    "### Let us create a `Config` class, to store important parameters. \n",
    "This class essentially plays the role of a dictionary."
   ]
  },
  {
   "cell_type": "code",
   "execution_count": 15,
   "metadata": {
    "execution": {
     "iopub.execute_input": "2020-10-21T20:04:52.382828Z",
     "iopub.status.busy": "2020-10-21T20:04:52.382211Z",
     "iopub.status.idle": "2020-10-21T20:04:52.392824Z",
     "shell.execute_reply": "2020-10-21T20:04:52.393339Z"
    },
    "papermill": {
     "duration": 0.043335,
     "end_time": "2020-10-21T20:04:52.393455",
     "exception": false,
     "start_time": "2020-10-21T20:04:52.350120",
     "status": "completed"
    },
    "tags": []
   },
   "outputs": [],
   "source": [
    "class Config:\n",
    "    pass\n",
    "config = Config()\n",
    "config.lr = 0.001\n",
    "config.num_epochs = 251\n",
    "config.bs = 50"
   ]
  },
  {
   "cell_type": "markdown",
   "metadata": {
    "papermill": {
     "duration": 0.025849,
     "end_time": "2020-10-21T20:04:52.444278",
     "exception": false,
     "start_time": "2020-10-21T20:04:52.418429",
     "status": "completed"
    },
    "tags": []
   },
   "source": [
    "### Initializing data to the variables"
   ]
  },
  {
   "cell_type": "code",
   "execution_count": 16,
   "metadata": {
    "execution": {
     "iopub.execute_input": "2020-10-21T20:04:52.499648Z",
     "iopub.status.busy": "2020-10-21T20:04:52.498957Z",
     "iopub.status.idle": "2020-10-21T20:04:52.508565Z",
     "shell.execute_reply": "2020-10-21T20:04:52.509070Z"
    },
    "papermill": {
     "duration": 0.040051,
     "end_time": "2020-10-21T20:04:52.509183",
     "exception": false,
     "start_time": "2020-10-21T20:04:52.469132",
     "status": "completed"
    },
    "tags": []
   },
   "outputs": [],
   "source": [
    "data = Data(X_train, y_train.reshape(-1,1))\n",
    "sampler = Sampler(data, config.bs, shuffle=True)\n",
    "\n",
    "dl = Dataloader(data, sampler)\n",
    "\n",
    "opt = GD(config.lr)\n",
    "loss = MSE()"
   ]
  },
  {
   "cell_type": "code",
   "execution_count": 17,
   "metadata": {
    "execution": {
     "iopub.execute_input": "2020-10-21T20:04:52.561552Z",
     "iopub.status.busy": "2020-10-21T20:04:52.560909Z",
     "iopub.status.idle": "2020-10-21T20:04:52.570596Z",
     "shell.execute_reply": "2020-10-21T20:04:52.570186Z"
    },
    "papermill": {
     "duration": 0.036177,
     "end_time": "2020-10-21T20:04:52.570717",
     "exception": false,
     "start_time": "2020-10-21T20:04:52.534540",
     "status": "completed"
    },
    "tags": []
   },
   "outputs": [],
   "source": [
    "training_xdata = X_train\n",
    "testing_xdata = X_test\n",
    "training_ydata = y_train.reshape(-1,1)\n",
    "testing_ydata = y_test.reshape(-1,1)"
   ]
  },
  {
   "cell_type": "markdown",
   "metadata": {
    "papermill": {
     "duration": 0.023813,
     "end_time": "2020-10-21T20:04:52.618358",
     "exception": false,
     "start_time": "2020-10-21T20:04:52.594545",
     "status": "completed"
    },
    "tags": []
   },
   "source": [
    "### Running Models with the Training data\n",
    "Details about the network layers:\n",
    "- A first affine layer has 784 inputs and does 100 affine transforms. These are followed by a Relu\n",
    "- A second affine layer has 100 inputs from the 100 activations of the past layer, and does 100 affine transforms. These are followed by a Relu\n",
    "- A third affine layer has 100 activations and does 2 affine transformations to create an embedding for visualization. There is no non-linearity here.\n",
    "- A final \"logistic regression\" which has an affine transform from 2 inputs to 1 output, which is squeezed through a sigmoid.\n",
    "\n",
    "Help taken from Anshuman's Notebook."
   ]
  },
  {
   "cell_type": "code",
   "execution_count": 18,
   "metadata": {
    "execution": {
     "iopub.execute_input": "2020-10-21T20:04:52.672437Z",
     "iopub.status.busy": "2020-10-21T20:04:52.671572Z",
     "iopub.status.idle": "2020-10-21T20:04:52.684432Z",
     "shell.execute_reply": "2020-10-21T20:04:52.684840Z"
    },
    "papermill": {
     "duration": 0.042753,
     "end_time": "2020-10-21T20:04:52.684962",
     "exception": false,
     "start_time": "2020-10-21T20:04:52.642209",
     "status": "completed"
    },
    "tags": []
   },
   "outputs": [],
   "source": [
    "# layers for the Neural Network\n",
    "layers = [Affine(\"first\", 784, 100), Relu(\"first\"), Affine(\"second\", 100, 100), Relu(\"second\"), Affine(\"third\", 100, 2), Affine(\"final\", 2, 1), Sigmoid(\"final\")]\n",
    "model_nn = Model(layers)\n",
    "\n",
    "# layers for the Logistic Regression\n",
    "layers_lr = [Affine(\"logits\", 784, 1), Sigmoid(\"sigmoid\")]\n",
    "model_lr = Model(layers_lr)"
   ]
  },
  {
   "cell_type": "code",
   "execution_count": 19,
   "metadata": {
    "execution": {
     "iopub.execute_input": "2020-10-21T20:04:52.737444Z",
     "iopub.status.busy": "2020-10-21T20:04:52.736918Z",
     "iopub.status.idle": "2020-10-21T20:04:52.745703Z",
     "shell.execute_reply": "2020-10-21T20:04:52.746156Z"
    },
    "papermill": {
     "duration": 0.036779,
     "end_time": "2020-10-21T20:04:52.746272",
     "exception": false,
     "start_time": "2020-10-21T20:04:52.709493",
     "status": "completed"
    },
    "tags": []
   },
   "outputs": [],
   "source": [
    "# suffix _nn stands for Neural Network.\n",
    "learner_nn = Learner(loss, model_nn, opt, config.num_epochs)\n",
    "acc_nn = ClfCallback(learner_nn, config.bs, training_xdata , testing_xdata, training_ydata, testing_ydata)\n",
    "learner_nn.set_callbacks([acc_nn])"
   ]
  },
  {
   "cell_type": "code",
   "execution_count": 20,
   "metadata": {
    "execution": {
     "iopub.execute_input": "2020-10-21T20:04:52.799488Z",
     "iopub.status.busy": "2020-10-21T20:04:52.798928Z",
     "iopub.status.idle": "2020-10-21T20:06:50.160620Z",
     "shell.execute_reply": "2020-10-21T20:06:50.161326Z"
    },
    "papermill": {
     "duration": 117.389402,
     "end_time": "2020-10-21T20:06:50.161472",
     "exception": false,
     "start_time": "2020-10-21T20:04:52.772070",
     "status": "completed"
    },
    "tags": []
   },
   "outputs": [
    {
     "name": "stdout",
     "output_type": "stream",
     "text": [
      "====== Neural Network ======\n"
     ]
    },
    {
     "name": "stdout",
     "output_type": "stream",
     "text": [
      "Epoch 0, Loss 0.238\n",
      "Training Accuracy: 0.6627, Testing Accuracy: 0.6714\n",
      "\n"
     ]
    },
    {
     "name": "stdout",
     "output_type": "stream",
     "text": [
      "Epoch 10, Loss 0.103\n",
      "Training Accuracy: 0.9098, Testing Accuracy: 0.9158\n",
      "\n"
     ]
    },
    {
     "name": "stdout",
     "output_type": "stream",
     "text": [
      "Epoch 20, Loss 0.0618\n",
      "Training Accuracy: 0.9365, Testing Accuracy: 0.9481\n",
      "\n"
     ]
    },
    {
     "name": "stdout",
     "output_type": "stream",
     "text": [
      "Epoch 30, Loss 0.0474\n",
      "Training Accuracy: 0.9491, Testing Accuracy: 0.9597\n",
      "\n"
     ]
    },
    {
     "name": "stdout",
     "output_type": "stream",
     "text": [
      "Epoch 40, Loss 0.0403\n",
      "Training Accuracy: 0.9548, Testing Accuracy: 0.9662\n",
      "\n"
     ]
    },
    {
     "name": "stdout",
     "output_type": "stream",
     "text": [
      "Epoch 50, Loss 0.0361\n",
      "Training Accuracy: 0.9586, Testing Accuracy: 0.9698\n",
      "\n"
     ]
    },
    {
     "name": "stdout",
     "output_type": "stream",
     "text": [
      "Epoch 60, Loss 0.0332\n",
      "Training Accuracy: 0.9614, Testing Accuracy: 0.9718\n",
      "\n"
     ]
    },
    {
     "name": "stdout",
     "output_type": "stream",
     "text": [
      "Epoch 70, Loss 0.0311\n",
      "Training Accuracy: 0.9633, Testing Accuracy: 0.9738\n",
      "\n"
     ]
    },
    {
     "name": "stdout",
     "output_type": "stream",
     "text": [
      "Epoch 80, Loss 0.0295\n",
      "Training Accuracy: 0.9649, Testing Accuracy: 0.9738\n",
      "\n"
     ]
    },
    {
     "name": "stdout",
     "output_type": "stream",
     "text": [
      "Epoch 90, Loss 0.0281\n",
      "Training Accuracy: 0.9668, Testing Accuracy: 0.9748\n",
      "\n"
     ]
    },
    {
     "name": "stdout",
     "output_type": "stream",
     "text": [
      "Epoch 100, Loss 0.027\n",
      "Training Accuracy: 0.9683, Testing Accuracy: 0.9748\n",
      "\n"
     ]
    },
    {
     "name": "stdout",
     "output_type": "stream",
     "text": [
      "Epoch 110, Loss 0.026\n",
      "Training Accuracy: 0.9695, Testing Accuracy: 0.9748\n",
      "\n"
     ]
    },
    {
     "name": "stdout",
     "output_type": "stream",
     "text": [
      "Epoch 120, Loss 0.0251\n",
      "Training Accuracy: 0.9710, Testing Accuracy: 0.9753\n",
      "\n"
     ]
    },
    {
     "name": "stdout",
     "output_type": "stream",
     "text": [
      "Epoch 130, Loss 0.0243\n",
      "Training Accuracy: 0.9721, Testing Accuracy: 0.9758\n",
      "\n"
     ]
    },
    {
     "name": "stdout",
     "output_type": "stream",
     "text": [
      "Epoch 140, Loss 0.0236\n",
      "Training Accuracy: 0.9730, Testing Accuracy: 0.9748\n",
      "\n"
     ]
    },
    {
     "name": "stdout",
     "output_type": "stream",
     "text": [
      "Epoch 150, Loss 0.023\n",
      "Training Accuracy: 0.9738, Testing Accuracy: 0.9753\n",
      "\n"
     ]
    },
    {
     "name": "stdout",
     "output_type": "stream",
     "text": [
      "Epoch 160, Loss 0.0224\n",
      "Training Accuracy: 0.9750, Testing Accuracy: 0.9743\n",
      "\n"
     ]
    },
    {
     "name": "stdout",
     "output_type": "stream",
     "text": [
      "Epoch 170, Loss 0.0218\n",
      "Training Accuracy: 0.9755, Testing Accuracy: 0.9743\n",
      "\n"
     ]
    },
    {
     "name": "stdout",
     "output_type": "stream",
     "text": [
      "Epoch 180, Loss 0.0213\n",
      "Training Accuracy: 0.9761, Testing Accuracy: 0.9753\n",
      "\n"
     ]
    },
    {
     "name": "stdout",
     "output_type": "stream",
     "text": [
      "Epoch 190, Loss 0.0208\n",
      "Training Accuracy: 0.9765, Testing Accuracy: 0.9758\n",
      "\n"
     ]
    },
    {
     "name": "stdout",
     "output_type": "stream",
     "text": [
      "Epoch 200, Loss 0.0204\n",
      "Training Accuracy: 0.9775, Testing Accuracy: 0.9758\n",
      "\n"
     ]
    },
    {
     "name": "stdout",
     "output_type": "stream",
     "text": [
      "Epoch 210, Loss 0.0199\n",
      "Training Accuracy: 0.9778, Testing Accuracy: 0.9758\n",
      "\n"
     ]
    },
    {
     "name": "stdout",
     "output_type": "stream",
     "text": [
      "Epoch 220, Loss 0.0195\n",
      "Training Accuracy: 0.9784, Testing Accuracy: 0.9758\n",
      "\n"
     ]
    },
    {
     "name": "stdout",
     "output_type": "stream",
     "text": [
      "Epoch 230, Loss 0.0191\n",
      "Training Accuracy: 0.9788, Testing Accuracy: 0.9763\n",
      "\n"
     ]
    },
    {
     "name": "stdout",
     "output_type": "stream",
     "text": [
      "Epoch 240, Loss 0.0187\n",
      "Training Accuracy: 0.9792, Testing Accuracy: 0.9763\n",
      "\n"
     ]
    },
    {
     "name": "stdout",
     "output_type": "stream",
     "text": [
      "Epoch 250, Loss 0.0184\n",
      "Training Accuracy: 0.9798, Testing Accuracy: 0.9768\n",
      "\n"
     ]
    },
    {
     "data": {
      "text/plain": [
       "0.001263360035856539"
      ]
     },
     "execution_count": 20,
     "metadata": {},
     "output_type": "execute_result"
    }
   ],
   "source": [
    "print(\"====== Neural Network ======\")\n",
    "learner_nn.train_loop(dl)"
   ]
  },
  {
   "cell_type": "markdown",
   "metadata": {
    "papermill": {
     "duration": 0.04282,
     "end_time": "2020-10-21T20:06:50.237636",
     "exception": false,
     "start_time": "2020-10-21T20:06:50.194816",
     "status": "completed"
    },
    "tags": []
   },
   "source": [
    "### Logistic Regression based Implementation."
   ]
  },
  {
   "cell_type": "code",
   "execution_count": 21,
   "metadata": {
    "execution": {
     "iopub.execute_input": "2020-10-21T20:06:50.322883Z",
     "iopub.status.busy": "2020-10-21T20:06:50.322342Z",
     "iopub.status.idle": "2020-10-21T20:06:50.333057Z",
     "shell.execute_reply": "2020-10-21T20:06:50.332638Z"
    },
    "papermill": {
     "duration": 0.045579,
     "end_time": "2020-10-21T20:06:50.333166",
     "exception": false,
     "start_time": "2020-10-21T20:06:50.287587",
     "status": "completed"
    },
    "tags": []
   },
   "outputs": [],
   "source": [
    "learner_lr = Learner(loss, model_lr, opt, config.num_epochs)\n",
    "acc_lr = ClfCallback(learner_lr, config.bs, training_xdata , testing_xdata, training_ydata, testing_ydata)\n",
    "learner_lr.set_callbacks([acc_lr])"
   ]
  },
  {
   "cell_type": "code",
   "execution_count": 22,
   "metadata": {
    "execution": {
     "iopub.execute_input": "2020-10-21T20:06:50.408804Z",
     "iopub.status.busy": "2020-10-21T20:06:50.408224Z",
     "iopub.status.idle": "2020-10-21T20:07:07.781064Z",
     "shell.execute_reply": "2020-10-21T20:07:07.781738Z"
    },
    "papermill": {
     "duration": 17.412734,
     "end_time": "2020-10-21T20:07:07.781878",
     "exception": false,
     "start_time": "2020-10-21T20:06:50.369144",
     "status": "completed"
    },
    "tags": []
   },
   "outputs": [
    {
     "name": "stdout",
     "output_type": "stream",
     "text": [
      "====== Logistic Regression ======\n",
      "Epoch 0, Loss 0.2319\n",
      "Training Accuracy: 0.6953, Testing Accuracy: 0.7021\n",
      "\n"
     ]
    },
    {
     "name": "stdout",
     "output_type": "stream",
     "text": [
      "Epoch 10, Loss 0.1039\n",
      "Training Accuracy: 0.9069, Testing Accuracy: 0.9138\n",
      "\n"
     ]
    },
    {
     "name": "stdout",
     "output_type": "stream",
     "text": [
      "Epoch 20, Loss 0.0794\n",
      "Training Accuracy: 0.9273, Testing Accuracy: 0.9365\n",
      "\n"
     ]
    },
    {
     "name": "stdout",
     "output_type": "stream",
     "text": [
      "Epoch 30, Loss 0.0682\n",
      "Training Accuracy: 0.9362, Testing Accuracy: 0.9456\n",
      "\n"
     ]
    },
    {
     "name": "stdout",
     "output_type": "stream",
     "text": [
      "Epoch 40, Loss 0.0616\n",
      "Training Accuracy: 0.9417, Testing Accuracy: 0.9506\n",
      "\n"
     ]
    },
    {
     "name": "stdout",
     "output_type": "stream",
     "text": [
      "Epoch 50, Loss 0.0571\n",
      "Training Accuracy: 0.9453, Testing Accuracy: 0.9531\n",
      "\n"
     ]
    },
    {
     "name": "stdout",
     "output_type": "stream",
     "text": [
      "Epoch 60, Loss 0.0538\n",
      "Training Accuracy: 0.9477, Testing Accuracy: 0.9536\n",
      "\n"
     ]
    },
    {
     "name": "stdout",
     "output_type": "stream",
     "text": [
      "Epoch 70, Loss 0.0513\n",
      "Training Accuracy: 0.9500, Testing Accuracy: 0.9546\n",
      "\n"
     ]
    },
    {
     "name": "stdout",
     "output_type": "stream",
     "text": [
      "Epoch 80, Loss 0.0493\n",
      "Training Accuracy: 0.9517, Testing Accuracy: 0.9582\n",
      "\n"
     ]
    },
    {
     "name": "stdout",
     "output_type": "stream",
     "text": [
      "Epoch 90, Loss 0.0476\n",
      "Training Accuracy: 0.9527, Testing Accuracy: 0.9612\n",
      "\n"
     ]
    },
    {
     "name": "stdout",
     "output_type": "stream",
     "text": [
      "Epoch 100, Loss 0.0462\n",
      "Training Accuracy: 0.9540, Testing Accuracy: 0.9627\n",
      "\n"
     ]
    },
    {
     "name": "stdout",
     "output_type": "stream",
     "text": [
      "Epoch 110, Loss 0.045\n",
      "Training Accuracy: 0.9552, Testing Accuracy: 0.9627\n",
      "\n"
     ]
    },
    {
     "name": "stdout",
     "output_type": "stream",
     "text": [
      "Epoch 120, Loss 0.044\n",
      "Training Accuracy: 0.9558, Testing Accuracy: 0.9627\n",
      "\n"
     ]
    },
    {
     "name": "stdout",
     "output_type": "stream",
     "text": [
      "Epoch 130, Loss 0.043\n",
      "Training Accuracy: 0.9569, Testing Accuracy: 0.9637\n",
      "\n"
     ]
    },
    {
     "name": "stdout",
     "output_type": "stream",
     "text": [
      "Epoch 140, Loss 0.0422\n",
      "Training Accuracy: 0.9570, Testing Accuracy: 0.9647\n",
      "\n"
     ]
    },
    {
     "name": "stdout",
     "output_type": "stream",
     "text": [
      "Epoch 150, Loss 0.0415\n",
      "Training Accuracy: 0.9571, Testing Accuracy: 0.9647\n",
      "\n"
     ]
    },
    {
     "name": "stdout",
     "output_type": "stream",
     "text": [
      "Epoch 160, Loss 0.0408\n",
      "Training Accuracy: 0.9575, Testing Accuracy: 0.9657\n",
      "\n"
     ]
    },
    {
     "name": "stdout",
     "output_type": "stream",
     "text": [
      "Epoch 170, Loss 0.0402\n",
      "Training Accuracy: 0.9581, Testing Accuracy: 0.9647\n",
      "\n"
     ]
    },
    {
     "name": "stdout",
     "output_type": "stream",
     "text": [
      "Epoch 180, Loss 0.0396\n",
      "Training Accuracy: 0.9587, Testing Accuracy: 0.9642\n",
      "\n"
     ]
    },
    {
     "name": "stdout",
     "output_type": "stream",
     "text": [
      "Epoch 190, Loss 0.0391\n",
      "Training Accuracy: 0.9589, Testing Accuracy: 0.9642\n",
      "\n"
     ]
    },
    {
     "name": "stdout",
     "output_type": "stream",
     "text": [
      "Epoch 200, Loss 0.0387\n",
      "Training Accuracy: 0.9595, Testing Accuracy: 0.9642\n",
      "\n"
     ]
    },
    {
     "name": "stdout",
     "output_type": "stream",
     "text": [
      "Epoch 210, Loss 0.0382\n",
      "Training Accuracy: 0.9599, Testing Accuracy: 0.9642\n",
      "\n"
     ]
    },
    {
     "name": "stdout",
     "output_type": "stream",
     "text": [
      "Epoch 220, Loss 0.0378\n",
      "Training Accuracy: 0.9605, Testing Accuracy: 0.9642\n",
      "\n"
     ]
    },
    {
     "name": "stdout",
     "output_type": "stream",
     "text": [
      "Epoch 230, Loss 0.0374\n",
      "Training Accuracy: 0.9609, Testing Accuracy: 0.9647\n",
      "\n"
     ]
    },
    {
     "name": "stdout",
     "output_type": "stream",
     "text": [
      "Epoch 240, Loss 0.0371\n",
      "Training Accuracy: 0.9611, Testing Accuracy: 0.9652\n",
      "\n"
     ]
    },
    {
     "name": "stdout",
     "output_type": "stream",
     "text": [
      "Epoch 250, Loss 0.0367\n",
      "Training Accuracy: 0.9611, Testing Accuracy: 0.9652\n",
      "\n"
     ]
    },
    {
     "data": {
      "text/plain": [
       "0.03123310101517126"
      ]
     },
     "execution_count": 22,
     "metadata": {},
     "output_type": "execute_result"
    }
   ],
   "source": [
    "print(\"====== Logistic Regression ======\")\n",
    "learner_lr.train_loop(dl)"
   ]
  },
  {
   "cell_type": "markdown",
   "metadata": {
    "papermill": {
     "duration": 0.039192,
     "end_time": "2020-10-21T20:07:07.862131",
     "exception": false,
     "start_time": "2020-10-21T20:07:07.822939",
     "status": "completed"
    },
    "tags": []
   },
   "source": [
    "### Comparing results of NN and LR"
   ]
  },
  {
   "cell_type": "code",
   "execution_count": 23,
   "metadata": {
    "execution": {
     "iopub.execute_input": "2020-10-21T20:07:07.940992Z",
     "iopub.status.busy": "2020-10-21T20:07:07.940471Z",
     "iopub.status.idle": "2020-10-21T20:07:08.168651Z",
     "shell.execute_reply": "2020-10-21T20:07:08.168229Z"
    },
    "papermill": {
     "duration": 0.269649,
     "end_time": "2020-10-21T20:07:08.168763",
     "exception": false,
     "start_time": "2020-10-21T20:07:07.899114",
     "status": "completed"
    },
    "tags": []
   },
   "outputs": [
    {
     "data": {
      "text/plain": [
       "<matplotlib.legend.Legend at 0x7fd818276240>"
      ]
     },
     "execution_count": 23,
     "metadata": {},
     "output_type": "execute_result"
    },
    {
     "data": {
      "image/png": "[encoded data removed]",
      "text/plain": [
       "<Figure size 1080x720 with 1 Axes>"
      ]
     },
     "metadata": {
      "needs_background": "light"
     },
     "output_type": "display_data"
    }
   ],
   "source": [
    "plt.figure(figsize=(15,10))\n",
    "\n",
    "# Neural Network plots\n",
    "plt.plot(acc_nn.accuracies, 'r-', label = \"Training Accuracies - NN\")\n",
    "plt.plot(acc_nn.test_accuracies, 'g-', label = \"Testing Accuracies - NN\")\n",
    "\n",
    "# Logistic Regression plots\n",
    "plt.plot(acc_lr.accuracies, 'k-', label = \"Training Accuracies - LR\")\n",
    "plt.plot(acc_lr.test_accuracies, 'b-', label = \"Testing Accuracies - LR\")\n",
    "\n",
    "plt.ylim(0.8, 1)\n",
    "\n",
    "plt.legend()\n",
    "\n"
   ]
  },
  {
   "cell_type": "markdown",
   "metadata": {
    "papermill": {
     "duration": 0.039365,
     "end_time": "2020-10-21T20:07:08.246763",
     "exception": false,
     "start_time": "2020-10-21T20:07:08.207398",
     "status": "completed"
    },
    "tags": []
   },
   "source": [
    "### From the plot, we can observe the following:\n",
    "- Neural Network achieves higher accuracy than the Logistic Regression model.\n",
    "- This apparently, is because of overfitting, i.e. NN captures more noise than data.\n",
    "- Testing accuracy of NN drops below the Training accuracy at higher epochs. This explains the over-fitting on training data.\n",
    "- Logistic Regression gives a reliable accuracy, without the above mentioned problem.\n"
   ]
  },
  {
   "cell_type": "markdown",
   "metadata": {
    "papermill": {
     "duration": 0.038339,
     "end_time": "2020-10-21T20:07:08.323779",
     "exception": false,
     "start_time": "2020-10-21T20:07:08.285440",
     "status": "completed"
    },
    "tags": []
   },
   "source": [
    "### Moving till the last but one layer (excluding it).\n",
    "#### Plotting the outputs of this layer of the NN."
   ]
  },
  {
   "cell_type": "code",
   "execution_count": 24,
   "metadata": {
    "execution": {
     "iopub.execute_input": "2020-10-21T20:07:08.416060Z",
     "iopub.status.busy": "2020-10-21T20:07:08.415203Z",
     "iopub.status.idle": "2020-10-21T20:07:08.420857Z",
     "shell.execute_reply": "2020-10-21T20:07:08.420446Z"
    },
    "papermill": {
     "duration": 0.054418,
     "end_time": "2020-10-21T20:07:08.420961",
     "exception": false,
     "start_time": "2020-10-21T20:07:08.366543",
     "status": "completed"
    },
    "tags": []
   },
   "outputs": [],
   "source": [
    "model_new = Model(layers[:-2])"
   ]
  },
  {
   "cell_type": "code",
   "execution_count": 25,
   "metadata": {
    "execution": {
     "iopub.execute_input": "2020-10-21T20:07:08.515920Z",
     "iopub.status.busy": "2020-10-21T20:07:08.499961Z",
     "iopub.status.idle": "2020-10-21T20:07:08.526188Z",
     "shell.execute_reply": "2020-10-21T20:07:08.526665Z"
    },
    "papermill": {
     "duration": 0.067666,
     "end_time": "2020-10-21T20:07:08.526789",
     "exception": false,
     "start_time": "2020-10-21T20:07:08.459123",
     "status": "completed"
    },
    "tags": []
   },
   "outputs": [],
   "source": [
    "plot_testing = model_new(testing_xdata)"
   ]
  },
  {
   "cell_type": "code",
   "execution_count": 26,
   "metadata": {
    "execution": {
     "iopub.execute_input": "2020-10-21T20:07:08.615801Z",
     "iopub.status.busy": "2020-10-21T20:07:08.615290Z",
     "iopub.status.idle": "2020-10-21T20:07:08.800851Z",
     "shell.execute_reply": "2020-10-21T20:07:08.801270Z"
    },
    "papermill": {
     "duration": 0.233507,
     "end_time": "2020-10-21T20:07:08.801399",
     "exception": false,
     "start_time": "2020-10-21T20:07:08.567892",
     "status": "completed"
    },
    "tags": []
   },
   "outputs": [
    {
     "data": {
      "text/plain": [
       "Text(0.5, 1.0, 'Outputs')"
      ]
     },
     "execution_count": 26,
     "metadata": {},
     "output_type": "execute_result"
    },
    {
     "data": {
      "image/png": "[encoded data removed]",
      "text/plain": [
       "<Figure size 576x504 with 1 Axes>"
      ]
     },
     "metadata": {
      "needs_background": "light"
     },
     "output_type": "display_data"
    }
   ],
   "source": [
    "plt.figure(figsize=(8,7))\n",
    "plt.scatter(plot_testing[:,0], plot_testing[:,1], alpha = 0.1, c = y_test.ravel());\n",
    "plt.title('Outputs')"
   ]
  },
  {
   "cell_type": "markdown",
   "metadata": {
    "papermill": {
     "duration": 0.041554,
     "end_time": "2020-10-21T20:07:08.886653",
     "exception": false,
     "start_time": "2020-10-21T20:07:08.845099",
     "status": "completed"
    },
    "tags": []
   },
   "source": [
    "### Plotting probability contours"
   ]
  },
  {
   "cell_type": "code",
   "execution_count": 27,
   "metadata": {
    "execution": {
     "iopub.execute_input": "2020-10-21T20:07:08.983482Z",
     "iopub.status.busy": "2020-10-21T20:07:08.982716Z",
     "iopub.status.idle": "2020-10-21T20:07:08.986452Z",
     "shell.execute_reply": "2020-10-21T20:07:08.986014Z"
    },
    "papermill": {
     "duration": 0.060004,
     "end_time": "2020-10-21T20:07:08.986555",
     "exception": false,
     "start_time": "2020-10-21T20:07:08.926551",
     "status": "completed"
    },
    "tags": []
   },
   "outputs": [],
   "source": [
    "model_prob = Model(layers[-2:]) "
   ]
  },
  {
   "cell_type": "code",
   "execution_count": 28,
   "metadata": {
    "execution": {
     "iopub.execute_input": "2020-10-21T20:07:09.072027Z",
     "iopub.status.busy": "2020-10-21T20:07:09.071509Z",
     "iopub.status.idle": "2020-10-21T20:07:09.082136Z",
     "shell.execute_reply": "2020-10-21T20:07:09.082545Z"
    },
    "papermill": {
     "duration": 0.055692,
     "end_time": "2020-10-21T20:07:09.082693",
     "exception": false,
     "start_time": "2020-10-21T20:07:09.027001",
     "status": "completed"
    },
    "tags": []
   },
   "outputs": [],
   "source": [
    "# Adjust the x and y ranges according to the above generated plot.\n",
    "x_range = np.linspace(-4, 1, 100) \n",
    "y_range = np.linspace(-6, 6, 100) \n",
    "x_grid, y_grid = np.meshgrid(x_range, y_range) # x_grid and y_grig are of size 100 X 100\n",
    "\n",
    "# converting x_grid and y_grid to continuous arrays\n",
    "x_grid_flat = np.ravel(x_grid)\n",
    "y_grid_flat = np.ravel(y_grid)\n",
    "\n",
    "# The last layer of the current model takes two columns as input. Hence transpose of np.vstack() is required.\n",
    "X = np.vstack((x_grid_flat, y_grid_flat)).T\n",
    "\n",
    "# x_grid and y_grid are of size 100 x 100\n",
    "probability_contour = model_prob(X).reshape(100,100) "
   ]
  },
  {
   "cell_type": "code",
   "execution_count": 29,
   "metadata": {
    "execution": {
     "iopub.execute_input": "2020-10-21T20:07:09.179803Z",
     "iopub.status.busy": "2020-10-21T20:07:09.179281Z",
     "iopub.status.idle": "2020-10-21T20:07:09.427191Z",
     "shell.execute_reply": "2020-10-21T20:07:09.427588Z"
    },
    "papermill": {
     "duration": 0.304977,
     "end_time": "2020-10-21T20:07:09.427723",
     "exception": false,
     "start_time": "2020-10-21T20:07:09.122746",
     "status": "completed"
    },
    "tags": []
   },
   "outputs": [
    {
     "data": {
      "image/png": "[encoded data removed]",
      "text/plain": [
       "<Figure size 720x648 with 1 Axes>"
      ]
     },
     "metadata": {
      "needs_background": "light"
     },
     "output_type": "display_data"
    }
   ],
   "source": [
    "plt.figure(figsize=(10,9))\n",
    "plt.scatter(plot_testing[:,0], plot_testing[:,1], alpha = 0.1, c = y_test.ravel())\n",
    "contours = plt.contour(x_grid,y_grid,probability_contour)\n",
    "plt.title('Probability Contours')\n",
    "plt.clabel(contours, inline = True );"
   ]
  }
 ],
 "metadata": {
  "kernelspec": {
   "display_name": "Python 3",
   "language": "python",
   "name": "python3"
  },
  "language_info": {
   "codemirror_mode": {
    "name": "ipython",
    "version": 3
   },
   "file_extension": ".py",
   "mimetype": "text/x-python",
   "name": "python",
   "nbconvert_exporter": "python",
   "pygments_lexer": "ipython3",
   "version": "3.6.12"
  },
  "papermill": {
   "duration": 143.115266,
   "end_time": "2020-10-21T20:07:09.792053",
   "environment_variables": {},
   "exception": null,
   "input_path": "2020-08-11-NeuralNetwork.ipynb",
   "output_path": "2020-08-11-NeuralNetwork.ipynb",
   "parameters": {},
   "start_time": "2020-10-21T20:04:46.676787",
   "version": "2.1.2"
  }
 },
 "nbformat": 4,
 "nbformat_minor": 4
}