{
 "cells": [
  {
   "cell_type": "markdown",
   "metadata": {
    "papermill": {
     "duration": 0.032006,
     "end_time": "2020-10-11T10:04:57.327537",
     "exception": false,
     "start_time": "2020-10-11T10:04:57.295531",
     "status": "completed"
    },
    "tags": []
   },
   "source": [
    "# \"A Basic Neural Network: Differentiate Hand-Written Digits\"\n",
    "\n",
    "- badges: true\n",
    "- author: Akshith Sriram"
   ]
  },
  {
   "cell_type": "markdown",
   "metadata": {
    "papermill": {
     "duration": 0.025395,
     "end_time": "2020-10-11T10:04:57.378971",
     "exception": false,
     "start_time": "2020-10-11T10:04:57.353576",
     "status": "completed"
    },
    "tags": []
   },
   "source": [
    "### Key Objectives:\n",
    "- Building a neural network that differentiates two hand-written digits 3 and 8.\n",
    "- Comparing the results of this Neural Network (NN) to that of a Logistic Regression (LR) model.\n",
    "\n",
    "### Requirements:\n",
    "- 'Kudzu' : A neural network library that was designed during our course by [Univ.AI](www.univ.ai). \n",
    "- MNIST Database\n",
    "\n",
    "If MNIST is not installed, use the command `!pip install mnist` given below.\n",
    "It can be run both from the command line and Jupyter Notebook."
   ]
  },
  {
   "cell_type": "code",
   "execution_count": 1,
   "metadata": {
    "execution": {
     "iopub.execute_input": "2020-10-11T10:04:57.434508Z",
     "iopub.status.busy": "2020-10-11T10:04:57.433890Z",
     "iopub.status.idle": "2020-10-11T10:04:58.948420Z",
     "shell.execute_reply": "2020-10-11T10:04:58.949149Z"
    },
    "papermill": {
     "duration": 1.546108,
     "end_time": "2020-10-11T10:04:58.949438",
     "exception": false,
     "start_time": "2020-10-11T10:04:57.403330",
     "status": "completed"
    },
    "tags": []
   },
   "outputs": [
    {
     "name": "stdout",
     "output_type": "stream",
     "text": [
      "Collecting mnist\r\n"
     ]
    },
    {
     "name": "stdout",
     "output_type": "stream",
     "text": [
      "  Downloading mnist-0.2.2-py2.py3-none-any.whl (3.5 kB)\r\n",
      "Requirement already satisfied: numpy in /opt/hostedtoolcache/Python/3.6.12/x64/lib/python3.6/site-packages (from mnist) (1.19.2)\r\n"
     ]
    },
    {
     "name": "stdout",
     "output_type": "stream",
     "text": [
      "Installing collected packages: mnist\r\n"
     ]
    },
    {
     "name": "stdout",
     "output_type": "stream",
     "text": [
      "Successfully installed mnist-0.2.2\r\n"
     ]
    }
   ],
   "source": [
    "!pip install mnist "
   ]
  },
  {
   "cell_type": "markdown",
   "metadata": {
    "papermill": {
     "duration": 0.025852,
     "end_time": "2020-10-11T10:04:59.001952",
     "exception": false,
     "start_time": "2020-10-11T10:04:58.976100",
     "status": "completed"
    },
    "tags": []
   },
   "source": [
    "#### Importing necessary libraries"
   ]
  },
  {
   "cell_type": "code",
   "execution_count": 2,
   "metadata": {
    "execution": {
     "iopub.execute_input": "2020-10-11T10:04:59.074043Z",
     "iopub.status.busy": "2020-10-11T10:04:59.063392Z",
     "iopub.status.idle": "2020-10-11T10:04:59.686883Z",
     "shell.execute_reply": "2020-10-11T10:04:59.687403Z"
    },
    "papermill": {
     "duration": 0.658786,
     "end_time": "2020-10-11T10:04:59.687611",
     "exception": false,
     "start_time": "2020-10-11T10:04:59.028825",
     "status": "completed"
    },
    "tags": []
   },
   "outputs": [],
   "source": [
    "%load_ext autoreload\n",
    "%autoreload 2\n",
    "\n",
    "%matplotlib inline\n",
    "import matplotlib.pyplot as plt\n",
    "\n",
    "import numpy as np\n",
    "import pandas as pd"
   ]
  },
  {
   "cell_type": "markdown",
   "metadata": {
    "papermill": {
     "duration": 0.025808,
     "end_time": "2020-10-11T10:04:59.739561",
     "exception": false,
     "start_time": "2020-10-11T10:04:59.713753",
     "status": "completed"
    },
    "tags": []
   },
   "source": [
    "### Preparing the Data"
   ]
  },
  {
   "cell_type": "code",
   "execution_count": 3,
   "metadata": {
    "execution": {
     "iopub.execute_input": "2020-10-11T10:04:59.799209Z",
     "iopub.status.busy": "2020-10-11T10:04:59.798581Z",
     "iopub.status.idle": "2020-10-11T10:04:59.815921Z",
     "shell.execute_reply": "2020-10-11T10:04:59.814758Z"
    },
    "papermill": {
     "duration": 0.050553,
     "end_time": "2020-10-11T10:04:59.816085",
     "exception": false,
     "start_time": "2020-10-11T10:04:59.765532",
     "status": "completed"
    },
    "tags": []
   },
   "outputs": [],
   "source": [
    "import mnist"
   ]
  },
  {
   "cell_type": "code",
   "execution_count": 4,
   "metadata": {
    "execution": {
     "iopub.execute_input": "2020-10-11T10:04:59.874516Z",
     "iopub.status.busy": "2020-10-11T10:04:59.872354Z",
     "iopub.status.idle": "2020-10-11T10:05:00.662122Z",
     "shell.execute_reply": "2020-10-11T10:05:00.661530Z"
    },
    "papermill": {
     "duration": 0.820086,
     "end_time": "2020-10-11T10:05:00.662289",
     "exception": false,
     "start_time": "2020-10-11T10:04:59.842203",
     "status": "completed"
    },
    "tags": []
   },
   "outputs": [],
   "source": [
    "train_images = mnist.train_images()\n",
    "train_labels = mnist.train_labels()"
   ]
  },
  {
   "cell_type": "code",
   "execution_count": 5,
   "metadata": {
    "execution": {
     "iopub.execute_input": "2020-10-11T10:05:00.721764Z",
     "iopub.status.busy": "2020-10-11T10:05:00.721164Z",
     "iopub.status.idle": "2020-10-11T10:05:00.737599Z",
     "shell.execute_reply": "2020-10-11T10:05:00.737062Z"
    },
    "papermill": {
     "duration": 0.047815,
     "end_time": "2020-10-11T10:05:00.737734",
     "exception": false,
     "start_time": "2020-10-11T10:05:00.689919",
     "status": "completed"
    },
    "tags": []
   },
   "outputs": [
    {
     "data": {
      "text/plain": [
       "((60000, 28, 28), (60000,))"
      ]
     },
     "execution_count": 5,
     "metadata": {},
     "output_type": "execute_result"
    }
   ],
   "source": [
    "train_images.shape, train_labels.shape"
   ]
  },
  {
   "cell_type": "code",
   "execution_count": 6,
   "metadata": {
    "execution": {
     "iopub.execute_input": "2020-10-11T10:05:01.082835Z",
     "iopub.status.busy": "2020-10-11T10:05:01.082076Z",
     "iopub.status.idle": "2020-10-11T10:05:01.363657Z",
     "shell.execute_reply": "2020-10-11T10:05:01.362726Z"
    },
    "papermill": {
     "duration": 0.598295,
     "end_time": "2020-10-11T10:05:01.363878",
     "exception": false,
     "start_time": "2020-10-11T10:05:00.765583",
     "status": "completed"
    },
    "tags": []
   },
   "outputs": [],
   "source": [
    "test_images = mnist.test_images()\n",
    "test_labels = mnist.test_labels()"
   ]
  },
  {
   "cell_type": "code",
   "execution_count": 7,
   "metadata": {
    "execution": {
     "iopub.execute_input": "2020-10-11T10:05:01.429937Z",
     "iopub.status.busy": "2020-10-11T10:05:01.429314Z",
     "iopub.status.idle": "2020-10-11T10:05:01.441663Z",
     "shell.execute_reply": "2020-10-11T10:05:01.442135Z"
    },
    "papermill": {
     "duration": 0.04822,
     "end_time": "2020-10-11T10:05:01.442298",
     "exception": false,
     "start_time": "2020-10-11T10:05:01.394078",
     "status": "completed"
    },
    "tags": []
   },
   "outputs": [
    {
     "data": {
      "text/plain": [
       "((10000, 28, 28), (10000,))"
      ]
     },
     "execution_count": 7,
     "metadata": {},
     "output_type": "execute_result"
    }
   ],
   "source": [
    "test_images.shape, test_labels.shape"
   ]
  },
  {
   "cell_type": "code",
   "execution_count": 8,
   "metadata": {
    "execution": {
     "iopub.execute_input": "2020-10-11T10:05:01.503047Z",
     "iopub.status.busy": "2020-10-11T10:05:01.502420Z",
     "iopub.status.idle": "2020-10-11T10:05:01.659025Z",
     "shell.execute_reply": "2020-10-11T10:05:01.658106Z"
    },
    "papermill": {
     "duration": 0.18757,
     "end_time": "2020-10-11T10:05:01.659190",
     "exception": false,
     "start_time": "2020-10-11T10:05:01.471620",
     "status": "completed"
    },
    "tags": []
   },
   "outputs": [
    {
     "name": "stdout",
     "output_type": "stream",
     "text": [
      "2\n"
     ]
    },
    {
     "data": {
      "text/plain": [
       "<matplotlib.image.AxesImage at 0x7f011dc24978>"
      ]
     },
     "execution_count": 8,
     "metadata": {},
     "output_type": "execute_result"
    },
    {
     "data": {
      "image/png": "[encoded data removed]",
      "text/plain": [
       "<Figure size 432x288 with 1 Axes>"
      ]
     },
     "metadata": {
      "needs_background": "light"
     },
     "output_type": "display_data"
    }
   ],
   "source": [
    "image_index = 7776 # You may select anything up to 60,000\n",
    "print(train_labels[image_index]) \n",
    "plt.imshow(train_images[image_index], cmap='Greys')"
   ]
  },
  {
   "cell_type": "markdown",
   "metadata": {
    "papermill": {
     "duration": 0.028416,
     "end_time": "2020-10-11T10:05:01.716209",
     "exception": false,
     "start_time": "2020-10-11T10:05:01.687793",
     "status": "completed"
    },
    "tags": []
   },
   "source": [
    "## Filter data to get 3 and 8 out"
   ]
  },
  {
   "cell_type": "code",
   "execution_count": 9,
   "metadata": {
    "execution": {
     "iopub.execute_input": "2020-10-11T10:05:01.778091Z",
     "iopub.status.busy": "2020-10-11T10:05:01.777082Z",
     "iopub.status.idle": "2020-10-11T10:05:01.800860Z",
     "shell.execute_reply": "2020-10-11T10:05:01.801543Z"
    },
    "papermill": {
     "duration": 0.057796,
     "end_time": "2020-10-11T10:05:01.801773",
     "exception": false,
     "start_time": "2020-10-11T10:05:01.743977",
     "status": "completed"
    },
    "tags": []
   },
   "outputs": [],
   "source": [
    "train_filter = np.where((train_labels == 3 ) | (train_labels == 8))\n",
    "test_filter = np.where((test_labels == 3) | (test_labels == 8))\n",
    "X_train, y_train = train_images[train_filter], train_labels[train_filter]\n",
    "X_test, y_test = test_images[test_filter], test_labels[test_filter]"
   ]
  },
  {
   "cell_type": "markdown",
   "metadata": {
    "papermill": {
     "duration": 0.030551,
     "end_time": "2020-10-11T10:05:01.860673",
     "exception": false,
     "start_time": "2020-10-11T10:05:01.830122",
     "status": "completed"
    },
    "tags": []
   },
   "source": [
    "We normalize the pixel values in the 0 to 1 range"
   ]
  },
  {
   "cell_type": "code",
   "execution_count": 10,
   "metadata": {
    "execution": {
     "iopub.execute_input": "2020-10-11T10:05:01.930604Z",
     "iopub.status.busy": "2020-10-11T10:05:01.930027Z",
     "iopub.status.idle": "2020-10-11T10:05:01.997761Z",
     "shell.execute_reply": "2020-10-11T10:05:01.996754Z"
    },
    "papermill": {
     "duration": 0.107801,
     "end_time": "2020-10-11T10:05:01.998014",
     "exception": false,
     "start_time": "2020-10-11T10:05:01.890213",
     "status": "completed"
    },
    "tags": []
   },
   "outputs": [],
   "source": [
    "X_train = X_train/255.\n",
    "X_test = X_test/255."
   ]
  },
  {
   "cell_type": "markdown",
   "metadata": {
    "papermill": {
     "duration": 0.028275,
     "end_time": "2020-10-11T10:05:02.055441",
     "exception": false,
     "start_time": "2020-10-11T10:05:02.027166",
     "status": "completed"
    },
    "tags": []
   },
   "source": [
    "Setup the labels as 1 (when the digit is 3) and 0 (when the digit is 8)"
   ]
  },
  {
   "cell_type": "code",
   "execution_count": 11,
   "metadata": {
    "execution": {
     "iopub.execute_input": "2020-10-11T10:05:02.118804Z",
     "iopub.status.busy": "2020-10-11T10:05:02.118165Z",
     "iopub.status.idle": "2020-10-11T10:05:02.133519Z",
     "shell.execute_reply": "2020-10-11T10:05:02.132929Z"
    },
    "papermill": {
     "duration": 0.049584,
     "end_time": "2020-10-11T10:05:02.133671",
     "exception": false,
     "start_time": "2020-10-11T10:05:02.084087",
     "status": "completed"
    },
    "tags": []
   },
   "outputs": [],
   "source": [
    "y_train = 1*(y_train==3)\n",
    "y_test = 1*(y_test==3)"
   ]
  },
  {
   "cell_type": "code",
   "execution_count": 12,
   "metadata": {
    "execution": {
     "iopub.execute_input": "2020-10-11T10:05:02.195185Z",
     "iopub.status.busy": "2020-10-11T10:05:02.194550Z",
     "iopub.status.idle": "2020-10-11T10:05:02.210071Z",
     "shell.execute_reply": "2020-10-11T10:05:02.209567Z"
    },
    "papermill": {
     "duration": 0.048079,
     "end_time": "2020-10-11T10:05:02.210216",
     "exception": false,
     "start_time": "2020-10-11T10:05:02.162137",
     "status": "completed"
    },
    "tags": []
   },
   "outputs": [
    {
     "data": {
      "text/plain": [
       "((11982, 28, 28), (1984, 28, 28))"
      ]
     },
     "execution_count": 12,
     "metadata": {},
     "output_type": "execute_result"
    }
   ],
   "source": [
    "X_train.shape, X_test.shape"
   ]
  },
  {
   "cell_type": "markdown",
   "metadata": {
    "papermill": {
     "duration": 0.027972,
     "end_time": "2020-10-11T10:05:02.266255",
     "exception": false,
     "start_time": "2020-10-11T10:05:02.238283",
     "status": "completed"
    },
    "tags": []
   },
   "source": [
    "### Reshape the input data to create a linear array"
   ]
  },
  {
   "cell_type": "code",
   "execution_count": 13,
   "metadata": {
    "execution": {
     "iopub.execute_input": "2020-10-11T10:05:02.328697Z",
     "iopub.status.busy": "2020-10-11T10:05:02.327865Z",
     "iopub.status.idle": "2020-10-11T10:05:02.345262Z",
     "shell.execute_reply": "2020-10-11T10:05:02.344720Z"
    },
    "papermill": {
     "duration": 0.050801,
     "end_time": "2020-10-11T10:05:02.345404",
     "exception": false,
     "start_time": "2020-10-11T10:05:02.294603",
     "status": "completed"
    },
    "tags": []
   },
   "outputs": [
    {
     "data": {
      "text/plain": [
       "((11982, 784), (1984, 784))"
      ]
     },
     "execution_count": 13,
     "metadata": {},
     "output_type": "execute_result"
    }
   ],
   "source": [
    "X_train = X_train.reshape(X_train.shape[0], -1)\n",
    "X_test = X_test.reshape(X_test.shape[0], -1)\n",
    "X_train.shape, X_test.shape"
   ]
  },
  {
   "cell_type": "markdown",
   "metadata": {
    "papermill": {
     "duration": 0.028022,
     "end_time": "2020-10-11T10:05:02.401977",
     "exception": false,
     "start_time": "2020-10-11T10:05:02.373955",
     "status": "completed"
    },
    "tags": []
   },
   "source": [
    "### Importing appropriate functions from 'Kudzu'"
   ]
  },
  {
   "cell_type": "code",
   "execution_count": 14,
   "metadata": {
    "execution": {
     "iopub.execute_input": "2020-10-11T10:05:02.463945Z",
     "iopub.status.busy": "2020-10-11T10:05:02.463340Z",
     "iopub.status.idle": "2020-10-11T10:05:02.486058Z",
     "shell.execute_reply": "2020-10-11T10:05:02.485529Z"
    },
    "papermill": {
     "duration": 0.056651,
     "end_time": "2020-10-11T10:05:02.486194",
     "exception": false,
     "start_time": "2020-10-11T10:05:02.429543",
     "status": "completed"
    },
    "tags": []
   },
   "outputs": [],
   "source": [
    "from kudzu.layer import Sigmoid\n",
    "from kudzu.layer import Relu\n",
    "from kudzu.layer import Affine, Sigmoid\n",
    "\n",
    "from kudzu.model import Model\n",
    "from kudzu.train import Learner\n",
    "from kudzu.optim import GD\n",
    "from kudzu.data import Data, Dataloader, Sampler\n",
    "\n",
    "from kudzu.callbacks import AccCallback\n",
    "from kudzu.callbacks import ClfCallback\n",
    "\n",
    "from kudzu.loss import MSE"
   ]
  },
  {
   "cell_type": "markdown",
   "metadata": {
    "papermill": {
     "duration": 0.028143,
     "end_time": "2020-10-11T10:05:02.542513",
     "exception": false,
     "start_time": "2020-10-11T10:05:02.514370",
     "status": "completed"
    },
    "tags": []
   },
   "source": [
    "### Let us create a `Config` class, to store important parameters. \n",
    "This class essentially plays the role of a dictionary."
   ]
  },
  {
   "cell_type": "code",
   "execution_count": 15,
   "metadata": {
    "execution": {
     "iopub.execute_input": "2020-10-11T10:05:02.606321Z",
     "iopub.status.busy": "2020-10-11T10:05:02.605717Z",
     "iopub.status.idle": "2020-10-11T10:05:02.618725Z",
     "shell.execute_reply": "2020-10-11T10:05:02.619233Z"
    },
    "papermill": {
     "duration": 0.047719,
     "end_time": "2020-10-11T10:05:02.619412",
     "exception": false,
     "start_time": "2020-10-11T10:05:02.571693",
     "status": "completed"
    },
    "tags": []
   },
   "outputs": [],
   "source": [
    "class Config:\n",
    "    pass\n",
    "config = Config()\n",
    "config.lr = 0.001\n",
    "config.num_epochs = 251\n",
    "config.bs = 50"
   ]
  },
  {
   "cell_type": "markdown",
   "metadata": {
    "papermill": {
     "duration": 0.027676,
     "end_time": "2020-10-11T10:05:02.675951",
     "exception": false,
     "start_time": "2020-10-11T10:05:02.648275",
     "status": "completed"
    },
    "tags": []
   },
   "source": [
    "### Initializing data to the variables"
   ]
  },
  {
   "cell_type": "code",
   "execution_count": 16,
   "metadata": {
    "execution": {
     "iopub.execute_input": "2020-10-11T10:05:02.738438Z",
     "iopub.status.busy": "2020-10-11T10:05:02.737883Z",
     "iopub.status.idle": "2020-10-11T10:05:02.752085Z",
     "shell.execute_reply": "2020-10-11T10:05:02.752588Z"
    },
    "papermill": {
     "duration": 0.048062,
     "end_time": "2020-10-11T10:05:02.752738",
     "exception": false,
     "start_time": "2020-10-11T10:05:02.704676",
     "status": "completed"
    },
    "tags": []
   },
   "outputs": [],
   "source": [
    "data = Data(X_train, y_train.reshape(-1,1))\n",
    "sampler = Sampler(data, config.bs, shuffle=True)\n",
    "\n",
    "dl = Dataloader(data, sampler)\n",
    "\n",
    "opt = GD(config.lr)\n",
    "loss = MSE()"
   ]
  },
  {
   "cell_type": "code",
   "execution_count": 17,
   "metadata": {
    "execution": {
     "iopub.execute_input": "2020-10-11T10:05:02.825884Z",
     "iopub.status.busy": "2020-10-11T10:05:02.819154Z",
     "iopub.status.idle": "2020-10-11T10:05:02.830664Z",
     "shell.execute_reply": "2020-10-11T10:05:02.830158Z"
    },
    "papermill": {
     "duration": 0.050146,
     "end_time": "2020-10-11T10:05:02.830795",
     "exception": false,
     "start_time": "2020-10-11T10:05:02.780649",
     "status": "completed"
    },
    "tags": []
   },
   "outputs": [],
   "source": [
    "training_xdata = X_train\n",
    "testing_xdata = X_test\n",
    "training_ydata = y_train.reshape(-1,1)\n",
    "testing_ydata = y_test.reshape(-1,1)"
   ]
  },
  {
   "cell_type": "markdown",
   "metadata": {
    "papermill": {
     "duration": 0.029959,
     "end_time": "2020-10-11T10:05:02.890662",
     "exception": false,
     "start_time": "2020-10-11T10:05:02.860703",
     "status": "completed"
    },
    "tags": []
   },
   "source": [
    "### Running Models with the Training data\n",
    "Details about the network layers:\n",
    "- A first affine layer has 784 inputs and does 100 affine transforms. These are followed by a Relu\n",
    "- A second affine layer has 100 inputs from the 100 activations of the past layer, and does 100 affine transforms. These are followed by a Relu\n",
    "- A third affine layer has 100 activations and does 2 affine transformations to create an embedding for visualization. There is no non-linearity here.\n",
    "- A final \"logistic regression\" which has an affine transform from 2 inputs to 1 output, which is squeezed through a sigmoid.\n",
    "\n",
    "Help taken from Anshuman's Notebook."
   ]
  },
  {
   "cell_type": "code",
   "execution_count": 18,
   "metadata": {
    "execution": {
     "iopub.execute_input": "2020-10-11T10:05:02.966006Z",
     "iopub.status.busy": "2020-10-11T10:05:02.965352Z",
     "iopub.status.idle": "2020-10-11T10:05:02.982412Z",
     "shell.execute_reply": "2020-10-11T10:05:02.982862Z"
    },
    "papermill": {
     "duration": 0.063927,
     "end_time": "2020-10-11T10:05:02.983032",
     "exception": false,
     "start_time": "2020-10-11T10:05:02.919105",
     "status": "completed"
    },
    "tags": []
   },
   "outputs": [],
   "source": [
    "# layers for the Neural Network\n",
    "layers = [Affine(\"first\", 784, 100), Relu(\"first\"), Affine(\"second\", 100, 100), Relu(\"second\"), Affine(\"third\", 100, 2), Affine(\"final\", 2, 1), Sigmoid(\"final\")]\n",
    "model_nn = Model(layers)\n",
    "\n",
    "# layers for the Logistic Regression\n",
    "layers_lr = [Affine(\"logits\", 784, 1), Sigmoid(\"sigmoid\")]\n",
    "model_lr = Model(layers_lr)"
   ]
  },
  {
   "cell_type": "code",
   "execution_count": 19,
   "metadata": {
    "execution": {
     "iopub.execute_input": "2020-10-11T10:05:03.109597Z",
     "iopub.status.busy": "2020-10-11T10:05:03.108882Z",
     "iopub.status.idle": "2020-10-11T10:05:03.123328Z",
     "shell.execute_reply": "2020-10-11T10:05:03.122820Z"
    },
    "papermill": {
     "duration": 0.112743,
     "end_time": "2020-10-11T10:05:03.123472",
     "exception": false,
     "start_time": "2020-10-11T10:05:03.010729",
     "status": "completed"
    },
    "tags": []
   },
   "outputs": [],
   "source": [
    "# suffix _nn stands for Neural Network.\n",
    "learner_nn = Learner(loss, model_nn, opt, config.num_epochs)\n",
    "acc_nn = ClfCallback(learner_nn, config.bs, training_xdata , testing_xdata, training_ydata, testing_ydata)\n",
    "learner_nn.set_callbacks([acc_nn])"
   ]
  },
  {
   "cell_type": "code",
   "execution_count": 20,
   "metadata": {
    "execution": {
     "iopub.execute_input": "2020-10-11T10:05:03.189105Z",
     "iopub.status.busy": "2020-10-11T10:05:03.188462Z",
     "iopub.status.idle": "2020-10-11T10:06:33.102421Z",
     "shell.execute_reply": "2020-10-11T10:06:33.102987Z"
    },
    "papermill": {
     "duration": 89.948911,
     "end_time": "2020-10-11T10:06:33.103174",
     "exception": false,
     "start_time": "2020-10-11T10:05:03.154263",
     "status": "completed"
    },
    "tags": []
   },
   "outputs": [
    {
     "name": "stdout",
     "output_type": "stream",
     "text": [
      "====== Neural Network ======\n"
     ]
    },
    {
     "name": "stdout",
     "output_type": "stream",
     "text": [
      "Epoch 0, Loss 0.2484\n",
      "Training Accuracy: 0.6600, Testing Accuracy: 0.6643\n",
      "\n"
     ]
    },
    {
     "name": "stdout",
     "output_type": "stream",
     "text": [
      "Epoch 10, Loss 0.088\n",
      "Training Accuracy: 0.9192, Testing Accuracy: 0.9335\n",
      "\n"
     ]
    },
    {
     "name": "stdout",
     "output_type": "stream",
     "text": [
      "Epoch 20, Loss 0.0545\n",
      "Training Accuracy: 0.9436, Testing Accuracy: 0.9516\n",
      "\n"
     ]
    },
    {
     "name": "stdout",
     "output_type": "stream",
     "text": [
      "Epoch 30, Loss 0.0429\n",
      "Training Accuracy: 0.9530, Testing Accuracy: 0.9627\n",
      "\n"
     ]
    },
    {
     "name": "stdout",
     "output_type": "stream",
     "text": [
      "Epoch 40, Loss 0.037\n",
      "Training Accuracy: 0.9582, Testing Accuracy: 0.9667\n",
      "\n"
     ]
    },
    {
     "name": "stdout",
     "output_type": "stream",
     "text": [
      "Epoch 50, Loss 0.0334\n",
      "Training Accuracy: 0.9615, Testing Accuracy: 0.9677\n",
      "\n"
     ]
    },
    {
     "name": "stdout",
     "output_type": "stream",
     "text": [
      "Epoch 60, Loss 0.031\n",
      "Training Accuracy: 0.9640, Testing Accuracy: 0.9698\n",
      "\n"
     ]
    },
    {
     "name": "stdout",
     "output_type": "stream",
     "text": [
      "Epoch 70, Loss 0.0292\n",
      "Training Accuracy: 0.9667, Testing Accuracy: 0.9688\n",
      "\n"
     ]
    },
    {
     "name": "stdout",
     "output_type": "stream",
     "text": [
      "Epoch 80, Loss 0.0278\n",
      "Training Accuracy: 0.9676, Testing Accuracy: 0.9688\n",
      "\n"
     ]
    },
    {
     "name": "stdout",
     "output_type": "stream",
     "text": [
      "Epoch 90, Loss 0.0266\n",
      "Training Accuracy: 0.9689, Testing Accuracy: 0.9698\n",
      "\n"
     ]
    },
    {
     "name": "stdout",
     "output_type": "stream",
     "text": [
      "Epoch 100, Loss 0.0256\n",
      "Training Accuracy: 0.9695, Testing Accuracy: 0.9708\n",
      "\n"
     ]
    },
    {
     "name": "stdout",
     "output_type": "stream",
     "text": [
      "Epoch 110, Loss 0.0247\n",
      "Training Accuracy: 0.9710, Testing Accuracy: 0.9703\n",
      "\n"
     ]
    },
    {
     "name": "stdout",
     "output_type": "stream",
     "text": [
      "Epoch 120, Loss 0.024\n",
      "Training Accuracy: 0.9722, Testing Accuracy: 0.9708\n",
      "\n"
     ]
    },
    {
     "name": "stdout",
     "output_type": "stream",
     "text": [
      "Epoch 130, Loss 0.0233\n",
      "Training Accuracy: 0.9734, Testing Accuracy: 0.9723\n",
      "\n"
     ]
    },
    {
     "name": "stdout",
     "output_type": "stream",
     "text": [
      "Epoch 140, Loss 0.0226\n",
      "Training Accuracy: 0.9741, Testing Accuracy: 0.9733\n",
      "\n"
     ]
    },
    {
     "name": "stdout",
     "output_type": "stream",
     "text": [
      "Epoch 150, Loss 0.0221\n",
      "Training Accuracy: 0.9747, Testing Accuracy: 0.9728\n",
      "\n"
     ]
    },
    {
     "name": "stdout",
     "output_type": "stream",
     "text": [
      "Epoch 160, Loss 0.0215\n",
      "Training Accuracy: 0.9755, Testing Accuracy: 0.9728\n",
      "\n"
     ]
    },
    {
     "name": "stdout",
     "output_type": "stream",
     "text": [
      "Epoch 170, Loss 0.021\n",
      "Training Accuracy: 0.9764, Testing Accuracy: 0.9723\n",
      "\n"
     ]
    },
    {
     "name": "stdout",
     "output_type": "stream",
     "text": [
      "Epoch 180, Loss 0.0206\n",
      "Training Accuracy: 0.9770, Testing Accuracy: 0.9738\n",
      "\n"
     ]
    },
    {
     "name": "stdout",
     "output_type": "stream",
     "text": [
      "Epoch 190, Loss 0.0201\n",
      "Training Accuracy: 0.9775, Testing Accuracy: 0.9733\n",
      "\n"
     ]
    },
    {
     "name": "stdout",
     "output_type": "stream",
     "text": [
      "Epoch 200, Loss 0.0197\n",
      "Training Accuracy: 0.9783, Testing Accuracy: 0.9738\n",
      "\n"
     ]
    },
    {
     "name": "stdout",
     "output_type": "stream",
     "text": [
      "Epoch 210, Loss 0.0193\n",
      "Training Accuracy: 0.9790, Testing Accuracy: 0.9738\n",
      "\n"
     ]
    },
    {
     "name": "stdout",
     "output_type": "stream",
     "text": [
      "Epoch 220, Loss 0.0189\n",
      "Training Accuracy: 0.9793, Testing Accuracy: 0.9743\n",
      "\n"
     ]
    },
    {
     "name": "stdout",
     "output_type": "stream",
     "text": [
      "Epoch 230, Loss 0.0185\n",
      "Training Accuracy: 0.9796, Testing Accuracy: 0.9743\n",
      "\n"
     ]
    },
    {
     "name": "stdout",
     "output_type": "stream",
     "text": [
      "Epoch 240, Loss 0.0182\n",
      "Training Accuracy: 0.9799, Testing Accuracy: 0.9743\n",
      "\n"
     ]
    },
    {
     "name": "stdout",
     "output_type": "stream",
     "text": [
      "Epoch 250, Loss 0.0178\n",
      "Training Accuracy: 0.9803, Testing Accuracy: 0.9743\n",
      "\n"
     ]
    },
    {
     "data": {
      "text/plain": [
       "0.013200926705961355"
      ]
     },
     "execution_count": 20,
     "metadata": {},
     "output_type": "execute_result"
    }
   ],
   "source": [
    "print(\"====== Neural Network ======\")\n",
    "learner_nn.train_loop(dl)"
   ]
  },
  {
   "cell_type": "markdown",
   "metadata": {
    "papermill": {
     "duration": 0.036682,
     "end_time": "2020-10-11T10:06:33.177987",
     "exception": false,
     "start_time": "2020-10-11T10:06:33.141305",
     "status": "completed"
    },
    "tags": []
   },
   "source": [
    "### Logistic Regression based Implementation."
   ]
  },
  {
   "cell_type": "code",
   "execution_count": 21,
   "metadata": {
    "execution": {
     "iopub.execute_input": "2020-10-11T10:06:33.291662Z",
     "iopub.status.busy": "2020-10-11T10:06:33.291009Z",
     "iopub.status.idle": "2020-10-11T10:06:33.298947Z",
     "shell.execute_reply": "2020-10-11T10:06:33.298436Z"
    },
    "papermill": {
     "duration": 0.065547,
     "end_time": "2020-10-11T10:06:33.299086",
     "exception": false,
     "start_time": "2020-10-11T10:06:33.233539",
     "status": "completed"
    },
    "tags": []
   },
   "outputs": [],
   "source": [
    "learner_lr = Learner(loss, model_lr, opt, config.num_epochs)\n",
    "acc_lr = ClfCallback(learner_lr, config.bs, training_xdata , testing_xdata, training_ydata, testing_ydata)\n",
    "learner_lr.set_callbacks([acc_lr])"
   ]
  },
  {
   "cell_type": "code",
   "execution_count": 22,
   "metadata": {
    "execution": {
     "iopub.execute_input": "2020-10-11T10:06:33.386416Z",
     "iopub.status.busy": "2020-10-11T10:06:33.385165Z",
     "iopub.status.idle": "2020-10-11T10:06:52.164645Z",
     "shell.execute_reply": "2020-10-11T10:06:52.165505Z"
    },
    "papermill": {
     "duration": 18.830052,
     "end_time": "2020-10-11T10:06:52.165703",
     "exception": false,
     "start_time": "2020-10-11T10:06:33.335651",
     "status": "completed"
    },
    "tags": []
   },
   "outputs": [
    {
     "name": "stdout",
     "output_type": "stream",
     "text": [
      "====== Logistic Regression ======\n",
      "Epoch 0, Loss 0.2208\n",
      "Training Accuracy: 0.7703, Testing Accuracy: 0.7782\n",
      "\n"
     ]
    },
    {
     "name": "stdout",
     "output_type": "stream",
     "text": [
      "Epoch 10, Loss 0.0986\n",
      "Training Accuracy: 0.9159, Testing Accuracy: 0.9264\n",
      "\n"
     ]
    },
    {
     "name": "stdout",
     "output_type": "stream",
     "text": [
      "Epoch 20, Loss 0.0771\n",
      "Training Accuracy: 0.9300, Testing Accuracy: 0.9405\n",
      "\n"
     ]
    },
    {
     "name": "stdout",
     "output_type": "stream",
     "text": [
      "Epoch 30, Loss 0.0669\n",
      "Training Accuracy: 0.9376, Testing Accuracy: 0.9491\n",
      "\n"
     ]
    },
    {
     "name": "stdout",
     "output_type": "stream",
     "text": [
      "Epoch 40, Loss 0.0606\n",
      "Training Accuracy: 0.9424, Testing Accuracy: 0.9546\n",
      "\n"
     ]
    },
    {
     "name": "stdout",
     "output_type": "stream",
     "text": [
      "Epoch 50, Loss 0.0563\n",
      "Training Accuracy: 0.9461, Testing Accuracy: 0.9572\n",
      "\n"
     ]
    },
    {
     "name": "stdout",
     "output_type": "stream",
     "text": [
      "Epoch 60, Loss 0.0531\n",
      "Training Accuracy: 0.9487, Testing Accuracy: 0.9572\n",
      "\n"
     ]
    },
    {
     "name": "stdout",
     "output_type": "stream",
     "text": [
      "Epoch 70, Loss 0.0506\n",
      "Training Accuracy: 0.9500, Testing Accuracy: 0.9602\n",
      "\n"
     ]
    },
    {
     "name": "stdout",
     "output_type": "stream",
     "text": [
      "Epoch 80, Loss 0.0486\n",
      "Training Accuracy: 0.9520, Testing Accuracy: 0.9627\n",
      "\n"
     ]
    },
    {
     "name": "stdout",
     "output_type": "stream",
     "text": [
      "Epoch 90, Loss 0.047\n",
      "Training Accuracy: 0.9529, Testing Accuracy: 0.9637\n",
      "\n"
     ]
    },
    {
     "name": "stdout",
     "output_type": "stream",
     "text": [
      "Epoch 100, Loss 0.0456\n",
      "Training Accuracy: 0.9538, Testing Accuracy: 0.9642\n",
      "\n"
     ]
    },
    {
     "name": "stdout",
     "output_type": "stream",
     "text": [
      "Epoch 110, Loss 0.0444\n",
      "Training Accuracy: 0.9548, Testing Accuracy: 0.9642\n",
      "\n"
     ]
    },
    {
     "name": "stdout",
     "output_type": "stream",
     "text": [
      "Epoch 120, Loss 0.0434\n",
      "Training Accuracy: 0.9555, Testing Accuracy: 0.9637\n",
      "\n"
     ]
    },
    {
     "name": "stdout",
     "output_type": "stream",
     "text": [
      "Epoch 130, Loss 0.0424\n",
      "Training Accuracy: 0.9566, Testing Accuracy: 0.9637\n",
      "\n"
     ]
    },
    {
     "name": "stdout",
     "output_type": "stream",
     "text": [
      "Epoch 140, Loss 0.0416\n",
      "Training Accuracy: 0.9568, Testing Accuracy: 0.9637\n",
      "\n"
     ]
    },
    {
     "name": "stdout",
     "output_type": "stream",
     "text": [
      "Epoch 150, Loss 0.0409\n",
      "Training Accuracy: 0.9578, Testing Accuracy: 0.9647\n",
      "\n"
     ]
    },
    {
     "name": "stdout",
     "output_type": "stream",
     "text": [
      "Epoch 160, Loss 0.0402\n",
      "Training Accuracy: 0.9585, Testing Accuracy: 0.9647\n",
      "\n"
     ]
    },
    {
     "name": "stdout",
     "output_type": "stream",
     "text": [
      "Epoch 170, Loss 0.0396\n",
      "Training Accuracy: 0.9591, Testing Accuracy: 0.9647\n",
      "\n"
     ]
    },
    {
     "name": "stdout",
     "output_type": "stream",
     "text": [
      "Epoch 180, Loss 0.0391\n",
      "Training Accuracy: 0.9594, Testing Accuracy: 0.9647\n",
      "\n"
     ]
    },
    {
     "name": "stdout",
     "output_type": "stream",
     "text": [
      "Epoch 190, Loss 0.0386\n",
      "Training Accuracy: 0.9603, Testing Accuracy: 0.9652\n",
      "\n"
     ]
    },
    {
     "name": "stdout",
     "output_type": "stream",
     "text": [
      "Epoch 200, Loss 0.0381\n",
      "Training Accuracy: 0.9604, Testing Accuracy: 0.9652\n",
      "\n"
     ]
    },
    {
     "name": "stdout",
     "output_type": "stream",
     "text": [
      "Epoch 210, Loss 0.0377\n",
      "Training Accuracy: 0.9609, Testing Accuracy: 0.9662\n",
      "\n"
     ]
    },
    {
     "name": "stdout",
     "output_type": "stream",
     "text": [
      "Epoch 220, Loss 0.0373\n",
      "Training Accuracy: 0.9609, Testing Accuracy: 0.9672\n",
      "\n"
     ]
    },
    {
     "name": "stdout",
     "output_type": "stream",
     "text": [
      "Epoch 230, Loss 0.0369\n",
      "Training Accuracy: 0.9612, Testing Accuracy: 0.9672\n",
      "\n"
     ]
    },
    {
     "name": "stdout",
     "output_type": "stream",
     "text": [
      "Epoch 240, Loss 0.0365\n",
      "Training Accuracy: 0.9616, Testing Accuracy: 0.9672\n",
      "\n"
     ]
    },
    {
     "name": "stdout",
     "output_type": "stream",
     "text": [
      "Epoch 250, Loss 0.0362\n",
      "Training Accuracy: 0.9619, Testing Accuracy: 0.9672\n",
      "\n"
     ]
    },
    {
     "data": {
      "text/plain": [
       "0.011443087857419659"
      ]
     },
     "execution_count": 22,
     "metadata": {},
     "output_type": "execute_result"
    }
   ],
   "source": [
    "print(\"====== Logistic Regression ======\")\n",
    "learner_lr.train_loop(dl)"
   ]
  },
  {
   "cell_type": "markdown",
   "metadata": {
    "papermill": {
     "duration": 0.044898,
     "end_time": "2020-10-11T10:06:52.256016",
     "exception": false,
     "start_time": "2020-10-11T10:06:52.211118",
     "status": "completed"
    },
    "tags": []
   },
   "source": [
    "### Comparing results of NN and LR"
   ]
  },
  {
   "cell_type": "code",
   "execution_count": 23,
   "metadata": {
    "execution": {
     "iopub.execute_input": "2020-10-11T10:06:52.351523Z",
     "iopub.status.busy": "2020-10-11T10:06:52.350893Z",
     "iopub.status.idle": "2020-10-11T10:06:52.598881Z",
     "shell.execute_reply": "2020-10-11T10:06:52.598352Z"
    },
    "papermill": {
     "duration": 0.299178,
     "end_time": "2020-10-11T10:06:52.599031",
     "exception": false,
     "start_time": "2020-10-11T10:06:52.299853",
     "status": "completed"
    },
    "tags": []
   },
   "outputs": [
    {
     "data": {
      "text/plain": [
       "<matplotlib.legend.Legend at 0x7f011b787128>"
      ]
     },
     "execution_count": 23,
     "metadata": {},
     "output_type": "execute_result"
    },
    {
     "data": {
      "image/png": "[encoded data removed]",
      "text/plain": [
       "<Figure size 1080x720 with 1 Axes>"
      ]
     },
     "metadata": {
      "needs_background": "light"
     },
     "output_type": "display_data"
    }
   ],
   "source": [
    "plt.figure(figsize=(15,10))\n",
    "\n",
    "# Neural Network plots\n",
    "plt.plot(acc_nn.accuracies, 'r-', label = \"Training Accuracies - NN\")\n",
    "plt.plot(acc_nn.test_accuracies, 'g-', label = \"Testing Accuracies - NN\")\n",
    "\n",
    "# Logistic Regression plots\n",
    "plt.plot(acc_lr.accuracies, 'k-', label = \"Training Accuracies - LR\")\n",
    "plt.plot(acc_lr.test_accuracies, 'b-', label = \"Testing Accuracies - LR\")\n",
    "\n",
    "plt.ylim(0.8, 1)\n",
    "\n",
    "plt.legend()\n",
    "\n"
   ]
  },
  {
   "cell_type": "markdown",
   "metadata": {
    "papermill": {
     "duration": 0.045347,
     "end_time": "2020-10-11T10:06:52.689974",
     "exception": false,
     "start_time": "2020-10-11T10:06:52.644627",
     "status": "completed"
    },
    "tags": []
   },
   "source": [
    "### From the plot, we can observe the following:\n",
    "- Neural Network achieves higher accuracy than the Logistic Regression model.\n",
    "- This apparently, is because of overfitting, i.e. NN captures more noise than data.\n",
    "- Testing accuracy of NN drops below the Training accuracy at higher epochs. This explains the over-fitting on training data.\n",
    "- Logistic Regression gives a reliable accuracy, without the above mentioned problem.\n"
   ]
  },
  {
   "cell_type": "markdown",
   "metadata": {
    "papermill": {
     "duration": 0.045228,
     "end_time": "2020-10-11T10:06:52.781573",
     "exception": false,
     "start_time": "2020-10-11T10:06:52.736345",
     "status": "completed"
    },
    "tags": []
   },
   "source": [
    "### Moving till the last but one layer (excluding it).\n",
    "#### Plotting the outputs of this layer of the NN."
   ]
  },
  {
   "cell_type": "code",
   "execution_count": 24,
   "metadata": {
    "execution": {
     "iopub.execute_input": "2020-10-11T10:06:52.881844Z",
     "iopub.status.busy": "2020-10-11T10:06:52.881191Z",
     "iopub.status.idle": "2020-10-11T10:06:52.894262Z",
     "shell.execute_reply": "2020-10-11T10:06:52.893728Z"
    },
    "papermill": {
     "duration": 0.067056,
     "end_time": "2020-10-11T10:06:52.894410",
     "exception": false,
     "start_time": "2020-10-11T10:06:52.827354",
     "status": "completed"
    },
    "tags": []
   },
   "outputs": [],
   "source": [
    "model_new = Model(layers[:-2])"
   ]
  },
  {
   "cell_type": "code",
   "execution_count": 25,
   "metadata": {
    "execution": {
     "iopub.execute_input": "2020-10-11T10:06:52.998038Z",
     "iopub.status.busy": "2020-10-11T10:06:52.992661Z",
     "iopub.status.idle": "2020-10-11T10:06:53.014616Z",
     "shell.execute_reply": "2020-10-11T10:06:53.015351Z"
    },
    "papermill": {
     "duration": 0.075012,
     "end_time": "2020-10-11T10:06:53.015536",
     "exception": false,
     "start_time": "2020-10-11T10:06:52.940524",
     "status": "completed"
    },
    "tags": []
   },
   "outputs": [],
   "source": [
    "plot_testing = model_new(testing_xdata)"
   ]
  },
  {
   "cell_type": "code",
   "execution_count": 26,
   "metadata": {
    "execution": {
     "iopub.execute_input": "2020-10-11T10:06:53.118969Z",
     "iopub.status.busy": "2020-10-11T10:06:53.118352Z",
     "iopub.status.idle": "2020-10-11T10:06:53.346446Z",
     "shell.execute_reply": "2020-10-11T10:06:53.346937Z"
    },
    "papermill": {
     "duration": 0.285157,
     "end_time": "2020-10-11T10:06:53.347123",
     "exception": false,
     "start_time": "2020-10-11T10:06:53.061966",
     "status": "completed"
    },
    "tags": []
   },
   "outputs": [
    {
     "data": {
      "text/plain": [
       "Text(0.5, 1.0, 'Outputs')"
      ]
     },
     "execution_count": 26,
     "metadata": {},
     "output_type": "execute_result"
    },
    {
     "data": {
      "image/png": "[encoded data removed]",
      "text/plain": [
       "<Figure size 576x504 with 1 Axes>"
      ]
     },
     "metadata": {
      "needs_background": "light"
     },
     "output_type": "display_data"
    }
   ],
   "source": [
    "plt.figure(figsize=(8,7))\n",
    "plt.scatter(plot_testing[:,0], plot_testing[:,1], alpha = 0.1, c = y_test.ravel());\n",
    "plt.title('Outputs')"
   ]
  },
  {
   "cell_type": "markdown",
   "metadata": {
    "papermill": {
     "duration": 0.048688,
     "end_time": "2020-10-11T10:06:53.444642",
     "exception": false,
     "start_time": "2020-10-11T10:06:53.395954",
     "status": "completed"
    },
    "tags": []
   },
   "source": [
    "### Plotting probability contours"
   ]
  },
  {
   "cell_type": "code",
   "execution_count": 27,
   "metadata": {
    "execution": {
     "iopub.execute_input": "2020-10-11T10:06:53.554552Z",
     "iopub.status.busy": "2020-10-11T10:06:53.553465Z",
     "iopub.status.idle": "2020-10-11T10:06:53.563307Z",
     "shell.execute_reply": "2020-10-11T10:06:53.563781Z"
    },
    "papermill": {
     "duration": 0.070525,
     "end_time": "2020-10-11T10:06:53.563958",
     "exception": false,
     "start_time": "2020-10-11T10:06:53.493433",
     "status": "completed"
    },
    "tags": []
   },
   "outputs": [],
   "source": [
    "model_prob = Model(layers[-2:]) "
   ]
  },
  {
   "cell_type": "code",
   "execution_count": 28,
   "metadata": {
    "execution": {
     "iopub.execute_input": "2020-10-11T10:06:53.669546Z",
     "iopub.status.busy": "2020-10-11T10:06:53.668096Z",
     "iopub.status.idle": "2020-10-11T10:06:53.685186Z",
     "shell.execute_reply": "2020-10-11T10:06:53.685696Z"
    },
    "papermill": {
     "duration": 0.072523,
     "end_time": "2020-10-11T10:06:53.685874",
     "exception": false,
     "start_time": "2020-10-11T10:06:53.613351",
     "status": "completed"
    },
    "tags": []
   },
   "outputs": [],
   "source": [
    "# Adjust the x and y ranges according to the above generated plot.\n",
    "x_range = np.linspace(-4, 1, 100) \n",
    "y_range = np.linspace(-6, 6, 100) \n",
    "x_grid, y_grid = np.meshgrid(x_range, y_range) # x_grid and y_grig are of size 100 X 100\n",
    "\n",
    "# converting x_grid and y_grid to continuous arrays\n",
    "x_grid_flat = np.ravel(x_grid)\n",
    "y_grid_flat = np.ravel(y_grid)\n",
    "\n",
    "# The last layer of the current model takes two columns as input. Hence transpose of np.vstack() is required.\n",
    "X = np.vstack((x_grid_flat, y_grid_flat)).T\n",
    "\n",
    "# x_grid and y_grid are of size 100 x 100\n",
    "probability_contour = model_prob(X).reshape(100,100) "
   ]
  },
  {
   "cell_type": "code",
   "execution_count": 29,
   "metadata": {
    "execution": {
     "iopub.execute_input": "2020-10-11T10:06:53.791454Z",
     "iopub.status.busy": "2020-10-11T10:06:53.790853Z",
     "iopub.status.idle": "2020-10-11T10:06:54.056778Z",
     "shell.execute_reply": "2020-10-11T10:06:54.057286Z"
    },
    "papermill": {
     "duration": 0.321777,
     "end_time": "2020-10-11T10:06:54.057483",
     "exception": false,
     "start_time": "2020-10-11T10:06:53.735706",
     "status": "completed"
    },
    "tags": []
   },
   "outputs": [
    {
     "data": {
      "image/png": "[encoded data removed]",
      "text/plain": [
       "<Figure size 720x648 with 1 Axes>"
      ]
     },
     "metadata": {
      "needs_background": "light"
     },
     "output_type": "display_data"
    }
   ],
   "source": [
    "plt.figure(figsize=(10,9))\n",
    "plt.scatter(plot_testing[:,0], plot_testing[:,1], alpha = 0.1, c = y_test.ravel())\n",
    "contours = plt.contour(x_grid,y_grid,probability_contour)\n",
    "plt.title('Probability Contours')\n",
    "plt.clabel(contours, inline = True );"
   ]
  }
 ],
 "metadata": {
  "kernelspec": {
   "display_name": "Python 3",
   "language": "python",
   "name": "python3"
  },
  "language_info": {
   "codemirror_mode": {
    "name": "ipython",
    "version": 3
   },
   "file_extension": ".py",
   "mimetype": "text/x-python",
   "name": "python",
   "nbconvert_exporter": "python",
   "pygments_lexer": "ipython3",
   "version": "3.6.12"
  },
  "papermill": {
   "duration": 118.323085,
   "end_time": "2020-10-11T10:06:54.518013",
   "environment_variables": {},
   "exception": null,
   "input_path": "2020-08-11-NeuralNetwork.ipynb",
   "output_path": "2020-08-11-NeuralNetwork.ipynb",
   "parameters": {},
   "start_time": "2020-10-11T10:04:56.194928",
   "version": "2.1.2"
  }
 },
 "nbformat": 4,
 "nbformat_minor": 4
}