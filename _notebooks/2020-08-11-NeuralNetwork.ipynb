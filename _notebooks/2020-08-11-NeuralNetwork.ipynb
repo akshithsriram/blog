{
 "cells": [
  {
   "cell_type": "markdown",
   "metadata": {
    "papermill": {
     "duration": 0.027549,
     "end_time": "2020-11-29T20:04:18.633922",
     "exception": false,
     "start_time": "2020-11-29T20:04:18.606373",
     "status": "completed"
    },
    "tags": []
   },
   "source": [
    "# \"A Basic Neural Network: Differentiate Hand-Written Digits\"\n",
    "\n",
    "- badges: true\n",
    "- author: Akshith Sriram"
   ]
  },
  {
   "cell_type": "markdown",
   "metadata": {
    "papermill": {
     "duration": 0.018355,
     "end_time": "2020-11-29T20:04:18.672475",
     "exception": false,
     "start_time": "2020-11-29T20:04:18.654120",
     "status": "completed"
    },
    "tags": []
   },
   "source": [
    "### Key Objectives:\n",
    "- Building a neural network that differentiates two hand-written digits 3 and 8.\n",
    "- Comparing the results of this Neural Network (NN) to that of a Logistic Regression (LR) model.\n",
    "\n",
    "### Requirements:\n",
    "- 'Kudzu' : A neural network library that was designed during our course by [Univ.AI](www.univ.ai). \n",
    "- MNIST Database\n",
    "\n",
    "If MNIST is not installed, use the command `!pip install mnist` given below.\n",
    "It can be run both from the command line and Jupyter Notebook."
   ]
  },
  {
   "cell_type": "code",
   "execution_count": 1,
   "metadata": {
    "execution": {
     "iopub.execute_input": "2020-11-29T20:04:18.717271Z",
     "iopub.status.busy": "2020-11-29T20:04:18.716838Z",
     "iopub.status.idle": "2020-11-29T20:04:19.901456Z",
     "shell.execute_reply": "2020-11-29T20:04:19.902104Z"
    },
    "papermill": {
     "duration": 1.209665,
     "end_time": "2020-11-29T20:04:19.902290",
     "exception": false,
     "start_time": "2020-11-29T20:04:18.692625",
     "status": "completed"
    },
    "tags": []
   },
   "outputs": [
    {
     "name": "stdout",
     "output_type": "stream",
     "text": [
      "Collecting mnist\r\n"
     ]
    },
    {
     "name": "stdout",
     "output_type": "stream",
     "text": [
      "  Downloading mnist-0.2.2-py2.py3-none-any.whl (3.5 kB)\r\n"
     ]
    },
    {
     "name": "stdout",
     "output_type": "stream",
     "text": [
      "Requirement already satisfied: numpy in /opt/hostedtoolcache/Python/3.6.12/x64/lib/python3.6/site-packages (from mnist) (1.19.4)\r\n"
     ]
    },
    {
     "name": "stdout",
     "output_type": "stream",
     "text": [
      "Installing collected packages: mnist\r\n"
     ]
    },
    {
     "name": "stdout",
     "output_type": "stream",
     "text": [
      "Successfully installed mnist-0.2.2\r\n"
     ]
    }
   ],
   "source": [
    "!pip install mnist "
   ]
  },
  {
   "cell_type": "markdown",
   "metadata": {
    "papermill": {
     "duration": 0.021961,
     "end_time": "2020-11-29T20:04:19.945955",
     "exception": false,
     "start_time": "2020-11-29T20:04:19.923994",
     "status": "completed"
    },
    "tags": []
   },
   "source": [
    "#### Importing necessary libraries"
   ]
  },
  {
   "cell_type": "code",
   "execution_count": 2,
   "metadata": {
    "execution": {
     "iopub.execute_input": "2020-11-29T20:04:20.004069Z",
     "iopub.status.busy": "2020-11-29T20:04:20.001583Z",
     "iopub.status.idle": "2020-11-29T20:04:20.486082Z",
     "shell.execute_reply": "2020-11-29T20:04:20.486615Z"
    },
    "papermill": {
     "duration": 0.515891,
     "end_time": "2020-11-29T20:04:20.486775",
     "exception": false,
     "start_time": "2020-11-29T20:04:19.970884",
     "status": "completed"
    },
    "tags": []
   },
   "outputs": [],
   "source": [
    "%load_ext autoreload\n",
    "%autoreload 2\n",
    "\n",
    "%matplotlib inline\n",
    "import matplotlib.pyplot as plt\n",
    "\n",
    "import numpy as np\n",
    "import pandas as pd"
   ]
  },
  {
   "cell_type": "markdown",
   "metadata": {
    "papermill": {
     "duration": 0.020989,
     "end_time": "2020-11-29T20:04:20.531864",
     "exception": false,
     "start_time": "2020-11-29T20:04:20.510875",
     "status": "completed"
    },
    "tags": []
   },
   "source": [
    "### Preparing the Data"
   ]
  },
  {
   "cell_type": "code",
   "execution_count": 3,
   "metadata": {
    "execution": {
     "iopub.execute_input": "2020-11-29T20:04:20.578204Z",
     "iopub.status.busy": "2020-11-29T20:04:20.577622Z",
     "iopub.status.idle": "2020-11-29T20:04:20.590274Z",
     "shell.execute_reply": "2020-11-29T20:04:20.589853Z"
    },
    "papermill": {
     "duration": 0.037573,
     "end_time": "2020-11-29T20:04:20.590379",
     "exception": false,
     "start_time": "2020-11-29T20:04:20.552806",
     "status": "completed"
    },
    "tags": []
   },
   "outputs": [],
   "source": [
    "import mnist"
   ]
  },
  {
   "cell_type": "code",
   "execution_count": 4,
   "metadata": {
    "execution": {
     "iopub.execute_input": "2020-11-29T20:04:20.646941Z",
     "iopub.status.busy": "2020-11-29T20:04:20.641664Z",
     "iopub.status.idle": "2020-11-29T20:04:21.265286Z",
     "shell.execute_reply": "2020-11-29T20:04:21.265837Z"
    },
    "papermill": {
     "duration": 0.654284,
     "end_time": "2020-11-29T20:04:21.266025",
     "exception": false,
     "start_time": "2020-11-29T20:04:20.611741",
     "status": "completed"
    },
    "tags": []
   },
   "outputs": [],
   "source": [
    "train_images = mnist.train_images()\n",
    "train_labels = mnist.train_labels()"
   ]
  },
  {
   "cell_type": "code",
   "execution_count": 5,
   "metadata": {
    "execution": {
     "iopub.execute_input": "2020-11-29T20:04:21.313110Z",
     "iopub.status.busy": "2020-11-29T20:04:21.312692Z",
     "iopub.status.idle": "2020-11-29T20:04:21.328710Z",
     "shell.execute_reply": "2020-11-29T20:04:21.328305Z"
    },
    "papermill": {
     "duration": 0.040045,
     "end_time": "2020-11-29T20:04:21.328810",
     "exception": false,
     "start_time": "2020-11-29T20:04:21.288765",
     "status": "completed"
    },
    "tags": []
   },
   "outputs": [
    {
     "data": {
      "text/plain": [
       "((60000, 28, 28), (60000,))"
      ]
     },
     "execution_count": 5,
     "metadata": {},
     "output_type": "execute_result"
    }
   ],
   "source": [
    "train_images.shape, train_labels.shape"
   ]
  },
  {
   "cell_type": "code",
   "execution_count": 6,
   "metadata": {
    "execution": {
     "iopub.execute_input": "2020-11-29T20:04:21.380248Z",
     "iopub.status.busy": "2020-11-29T20:04:21.379675Z",
     "iopub.status.idle": "2020-11-29T20:04:21.643150Z",
     "shell.execute_reply": "2020-11-29T20:04:21.642221Z"
    },
    "papermill": {
     "duration": 0.293432,
     "end_time": "2020-11-29T20:04:21.643366",
     "exception": false,
     "start_time": "2020-11-29T20:04:21.349934",
     "status": "completed"
    },
    "tags": []
   },
   "outputs": [],
   "source": [
    "test_images = mnist.test_images()\n",
    "test_labels = mnist.test_labels()"
   ]
  },
  {
   "cell_type": "code",
   "execution_count": 7,
   "metadata": {
    "execution": {
     "iopub.execute_input": "2020-11-29T20:04:21.690922Z",
     "iopub.status.busy": "2020-11-29T20:04:21.690509Z",
     "iopub.status.idle": "2020-11-29T20:04:21.703431Z",
     "shell.execute_reply": "2020-11-29T20:04:21.703849Z"
    },
    "papermill": {
     "duration": 0.038021,
     "end_time": "2020-11-29T20:04:21.703977",
     "exception": false,
     "start_time": "2020-11-29T20:04:21.665956",
     "status": "completed"
    },
    "tags": []
   },
   "outputs": [
    {
     "data": {
      "text/plain": [
       "((10000, 28, 28), (10000,))"
      ]
     },
     "execution_count": 7,
     "metadata": {},
     "output_type": "execute_result"
    }
   ],
   "source": [
    "test_images.shape, test_labels.shape"
   ]
  },
  {
   "cell_type": "code",
   "execution_count": 8,
   "metadata": {
    "execution": {
     "iopub.execute_input": "2020-11-29T20:04:21.752918Z",
     "iopub.status.busy": "2020-11-29T20:04:21.752478Z",
     "iopub.status.idle": "2020-11-29T20:04:21.873726Z",
     "shell.execute_reply": "2020-11-29T20:04:21.873110Z"
    },
    "papermill": {
     "duration": 0.146904,
     "end_time": "2020-11-29T20:04:21.873875",
     "exception": false,
     "start_time": "2020-11-29T20:04:21.726971",
     "status": "completed"
    },
    "tags": []
   },
   "outputs": [
    {
     "name": "stdout",
     "output_type": "stream",
     "text": [
      "2\n"
     ]
    },
    {
     "data": {
      "text/plain": [
       "<matplotlib.image.AxesImage at 0x7fdd2829c080>"
      ]
     },
     "execution_count": 8,
     "metadata": {},
     "output_type": "execute_result"
    },
    {
     "data": {
      "image/png": "[encoded data removed]",
      "text/plain": [
       "<Figure size 432x288 with 1 Axes>"
      ]
     },
     "metadata": {
      "needs_background": "light"
     },
     "output_type": "display_data"
    }
   ],
   "source": [
    "image_index = 7776 # You may select anything up to 60,000\n",
    "print(train_labels[image_index]) \n",
    "plt.imshow(train_images[image_index], cmap='Greys')"
   ]
  },
  {
   "cell_type": "markdown",
   "metadata": {
    "papermill": {
     "duration": 0.024819,
     "end_time": "2020-11-29T20:04:21.925342",
     "exception": false,
     "start_time": "2020-11-29T20:04:21.900523",
     "status": "completed"
    },
    "tags": []
   },
   "source": [
    "## Filter data to get 3 and 8 out"
   ]
  },
  {
   "cell_type": "code",
   "execution_count": 9,
   "metadata": {
    "execution": {
     "iopub.execute_input": "2020-11-29T20:04:21.979569Z",
     "iopub.status.busy": "2020-11-29T20:04:21.979022Z",
     "iopub.status.idle": "2020-11-29T20:04:22.000443Z",
     "shell.execute_reply": "2020-11-29T20:04:21.999468Z"
    },
    "papermill": {
     "duration": 0.05043,
     "end_time": "2020-11-29T20:04:22.000645",
     "exception": false,
     "start_time": "2020-11-29T20:04:21.950215",
     "status": "completed"
    },
    "tags": []
   },
   "outputs": [],
   "source": [
    "train_filter = np.where((train_labels == 3 ) | (train_labels == 8))\n",
    "test_filter = np.where((test_labels == 3) | (test_labels == 8))\n",
    "X_train, y_train = train_images[train_filter], train_labels[train_filter]\n",
    "X_test, y_test = test_images[test_filter], test_labels[test_filter]"
   ]
  },
  {
   "cell_type": "markdown",
   "metadata": {
    "papermill": {
     "duration": 0.023274,
     "end_time": "2020-11-29T20:04:22.052564",
     "exception": false,
     "start_time": "2020-11-29T20:04:22.029290",
     "status": "completed"
    },
    "tags": []
   },
   "source": [
    "We normalize the pixel values in the 0 to 1 range"
   ]
  },
  {
   "cell_type": "code",
   "execution_count": 10,
   "metadata": {
    "execution": {
     "iopub.execute_input": "2020-11-29T20:04:22.099992Z",
     "iopub.status.busy": "2020-11-29T20:04:22.099552Z",
     "iopub.status.idle": "2020-11-29T20:04:22.148208Z",
     "shell.execute_reply": "2020-11-29T20:04:22.147367Z"
    },
    "papermill": {
     "duration": 0.074482,
     "end_time": "2020-11-29T20:04:22.148411",
     "exception": false,
     "start_time": "2020-11-29T20:04:22.073929",
     "status": "completed"
    },
    "tags": []
   },
   "outputs": [],
   "source": [
    "X_train = X_train/255.\n",
    "X_test = X_test/255."
   ]
  },
  {
   "cell_type": "markdown",
   "metadata": {
    "papermill": {
     "duration": 0.023757,
     "end_time": "2020-11-29T20:04:22.196497",
     "exception": false,
     "start_time": "2020-11-29T20:04:22.172740",
     "status": "completed"
    },
    "tags": []
   },
   "source": [
    "Setup the labels as 1 (when the digit is 3) and 0 (when the digit is 8)"
   ]
  },
  {
   "cell_type": "code",
   "execution_count": 11,
   "metadata": {
    "execution": {
     "iopub.execute_input": "2020-11-29T20:04:22.245499Z",
     "iopub.status.busy": "2020-11-29T20:04:22.245026Z",
     "iopub.status.idle": "2020-11-29T20:04:22.256179Z",
     "shell.execute_reply": "2020-11-29T20:04:22.256591Z"
    },
    "papermill": {
     "duration": 0.037957,
     "end_time": "2020-11-29T20:04:22.256701",
     "exception": false,
     "start_time": "2020-11-29T20:04:22.218744",
     "status": "completed"
    },
    "tags": []
   },
   "outputs": [],
   "source": [
    "y_train = 1*(y_train==3)\n",
    "y_test = 1*(y_test==3)"
   ]
  },
  {
   "cell_type": "code",
   "execution_count": 12,
   "metadata": {
    "execution": {
     "iopub.execute_input": "2020-11-29T20:04:22.308739Z",
     "iopub.status.busy": "2020-11-29T20:04:22.308327Z",
     "iopub.status.idle": "2020-11-29T20:04:22.323460Z",
     "shell.execute_reply": "2020-11-29T20:04:22.323067Z"
    },
    "papermill": {
     "duration": 0.043816,
     "end_time": "2020-11-29T20:04:22.323546",
     "exception": false,
     "start_time": "2020-11-29T20:04:22.279730",
     "status": "completed"
    },
    "tags": []
   },
   "outputs": [
    {
     "data": {
      "text/plain": [
       "((11982, 28, 28), (1984, 28, 28))"
      ]
     },
     "execution_count": 12,
     "metadata": {},
     "output_type": "execute_result"
    }
   ],
   "source": [
    "X_train.shape, X_test.shape"
   ]
  },
  {
   "cell_type": "markdown",
   "metadata": {
    "papermill": {
     "duration": 0.02378,
     "end_time": "2020-11-29T20:04:22.369266",
     "exception": false,
     "start_time": "2020-11-29T20:04:22.345486",
     "status": "completed"
    },
    "tags": []
   },
   "source": [
    "### Reshape the input data to create a linear array"
   ]
  },
  {
   "cell_type": "code",
   "execution_count": 13,
   "metadata": {
    "execution": {
     "iopub.execute_input": "2020-11-29T20:04:22.420710Z",
     "iopub.status.busy": "2020-11-29T20:04:22.420241Z",
     "iopub.status.idle": "2020-11-29T20:04:22.433977Z",
     "shell.execute_reply": "2020-11-29T20:04:22.433516Z"
    },
    "papermill": {
     "duration": 0.041405,
     "end_time": "2020-11-29T20:04:22.434098",
     "exception": false,
     "start_time": "2020-11-29T20:04:22.392693",
     "status": "completed"
    },
    "tags": []
   },
   "outputs": [
    {
     "data": {
      "text/plain": [
       "((11982, 784), (1984, 784))"
      ]
     },
     "execution_count": 13,
     "metadata": {},
     "output_type": "execute_result"
    }
   ],
   "source": [
    "X_train = X_train.reshape(X_train.shape[0], -1)\n",
    "X_test = X_test.reshape(X_test.shape[0], -1)\n",
    "X_train.shape, X_test.shape"
   ]
  },
  {
   "cell_type": "markdown",
   "metadata": {
    "papermill": {
     "duration": 0.02825,
     "end_time": "2020-11-29T20:04:22.487315",
     "exception": false,
     "start_time": "2020-11-29T20:04:22.459065",
     "status": "completed"
    },
    "tags": []
   },
   "source": [
    "### Importing appropriate functions from 'Kudzu'"
   ]
  },
  {
   "cell_type": "code",
   "execution_count": 14,
   "metadata": {
    "execution": {
     "iopub.execute_input": "2020-11-29T20:04:22.541129Z",
     "iopub.status.busy": "2020-11-29T20:04:22.540656Z",
     "iopub.status.idle": "2020-11-29T20:04:22.558258Z",
     "shell.execute_reply": "2020-11-29T20:04:22.558749Z"
    },
    "papermill": {
     "duration": 0.045303,
     "end_time": "2020-11-29T20:04:22.558883",
     "exception": false,
     "start_time": "2020-11-29T20:04:22.513580",
     "status": "completed"
    },
    "tags": []
   },
   "outputs": [],
   "source": [
    "from kudzu.layer import Sigmoid\n",
    "from kudzu.layer import Relu\n",
    "from kudzu.layer import Affine, Sigmoid\n",
    "\n",
    "from kudzu.model import Model\n",
    "from kudzu.train import Learner\n",
    "from kudzu.optim import GD\n",
    "from kudzu.data import Data, Dataloader, Sampler\n",
    "\n",
    "from kudzu.callbacks import AccCallback\n",
    "from kudzu.callbacks import ClfCallback\n",
    "\n",
    "from kudzu.loss import MSE"
   ]
  },
  {
   "cell_type": "markdown",
   "metadata": {
    "papermill": {
     "duration": 0.025434,
     "end_time": "2020-11-29T20:04:22.608288",
     "exception": false,
     "start_time": "2020-11-29T20:04:22.582854",
     "status": "completed"
    },
    "tags": []
   },
   "source": [
    "### Let us create a `Config` class, to store important parameters. \n",
    "This class essentially plays the role of a dictionary."
   ]
  },
  {
   "cell_type": "code",
   "execution_count": 15,
   "metadata": {
    "execution": {
     "iopub.execute_input": "2020-11-29T20:04:22.664565Z",
     "iopub.status.busy": "2020-11-29T20:04:22.663979Z",
     "iopub.status.idle": "2020-11-29T20:04:22.677287Z",
     "shell.execute_reply": "2020-11-29T20:04:22.676710Z"
    },
    "papermill": {
     "duration": 0.045043,
     "end_time": "2020-11-29T20:04:22.677407",
     "exception": false,
     "start_time": "2020-11-29T20:04:22.632364",
     "status": "completed"
    },
    "tags": []
   },
   "outputs": [],
   "source": [
    "class Config:\n",
    "    pass\n",
    "config = Config()\n",
    "config.lr = 0.001\n",
    "config.num_epochs = 251\n",
    "config.bs = 50"
   ]
  },
  {
   "cell_type": "markdown",
   "metadata": {
    "papermill": {
     "duration": 0.022538,
     "end_time": "2020-11-29T20:04:22.725072",
     "exception": false,
     "start_time": "2020-11-29T20:04:22.702534",
     "status": "completed"
    },
    "tags": []
   },
   "source": [
    "### Initializing data to the variables"
   ]
  },
  {
   "cell_type": "code",
   "execution_count": 16,
   "metadata": {
    "execution": {
     "iopub.execute_input": "2020-11-29T20:04:22.775352Z",
     "iopub.status.busy": "2020-11-29T20:04:22.774938Z",
     "iopub.status.idle": "2020-11-29T20:04:22.785938Z",
     "shell.execute_reply": "2020-11-29T20:04:22.786449Z"
    },
    "papermill": {
     "duration": 0.037909,
     "end_time": "2020-11-29T20:04:22.786582",
     "exception": false,
     "start_time": "2020-11-29T20:04:22.748673",
     "status": "completed"
    },
    "tags": []
   },
   "outputs": [],
   "source": [
    "data = Data(X_train, y_train.reshape(-1,1))\n",
    "sampler = Sampler(data, config.bs, shuffle=True)\n",
    "\n",
    "dl = Dataloader(data, sampler)\n",
    "\n",
    "opt = GD(config.lr)\n",
    "loss = MSE()"
   ]
  },
  {
   "cell_type": "code",
   "execution_count": 17,
   "metadata": {
    "execution": {
     "iopub.execute_input": "2020-11-29T20:04:22.834295Z",
     "iopub.status.busy": "2020-11-29T20:04:22.833865Z",
     "iopub.status.idle": "2020-11-29T20:04:22.846802Z",
     "shell.execute_reply": "2020-11-29T20:04:22.846398Z"
    },
    "papermill": {
     "duration": 0.03876,
     "end_time": "2020-11-29T20:04:22.846896",
     "exception": false,
     "start_time": "2020-11-29T20:04:22.808136",
     "status": "completed"
    },
    "tags": []
   },
   "outputs": [],
   "source": [
    "training_xdata = X_train\n",
    "testing_xdata = X_test\n",
    "training_ydata = y_train.reshape(-1,1)\n",
    "testing_ydata = y_test.reshape(-1,1)"
   ]
  },
  {
   "cell_type": "markdown",
   "metadata": {
    "papermill": {
     "duration": 0.022227,
     "end_time": "2020-11-29T20:04:22.891609",
     "exception": false,
     "start_time": "2020-11-29T20:04:22.869382",
     "status": "completed"
    },
    "tags": []
   },
   "source": [
    "### Running Models with the Training data\n",
    "Details about the network layers:\n",
    "- A first affine layer has 784 inputs and does 100 affine transforms. These are followed by a Relu\n",
    "- A second affine layer has 100 inputs from the 100 activations of the past layer, and does 100 affine transforms. These are followed by a Relu\n",
    "- A third affine layer has 100 activations and does 2 affine transformations to create an embedding for visualization. There is no non-linearity here.\n",
    "- A final \"logistic regression\" which has an affine transform from 2 inputs to 1 output, which is squeezed through a sigmoid.\n",
    "\n",
    "Help taken from Anshuman's Notebook."
   ]
  },
  {
   "cell_type": "code",
   "execution_count": 18,
   "metadata": {
    "execution": {
     "iopub.execute_input": "2020-11-29T20:04:22.942982Z",
     "iopub.status.busy": "2020-11-29T20:04:22.942400Z",
     "iopub.status.idle": "2020-11-29T20:04:22.959456Z",
     "shell.execute_reply": "2020-11-29T20:04:22.959106Z"
    },
    "papermill": {
     "duration": 0.045932,
     "end_time": "2020-11-29T20:04:22.959538",
     "exception": false,
     "start_time": "2020-11-29T20:04:22.913606",
     "status": "completed"
    },
    "tags": []
   },
   "outputs": [],
   "source": [
    "# layers for the Neural Network\n",
    "layers = [Affine(\"first\", 784, 100), Relu(\"first\"), Affine(\"second\", 100, 100), Relu(\"second\"), Affine(\"third\", 100, 2), Affine(\"final\", 2, 1), Sigmoid(\"final\")]\n",
    "model_nn = Model(layers)\n",
    "\n",
    "# layers for the Logistic Regression\n",
    "layers_lr = [Affine(\"logits\", 784, 1), Sigmoid(\"sigmoid\")]\n",
    "model_lr = Model(layers_lr)"
   ]
  },
  {
   "cell_type": "code",
   "execution_count": 19,
   "metadata": {
    "execution": {
     "iopub.execute_input": "2020-11-29T20:04:23.435084Z",
     "iopub.status.busy": "2020-11-29T20:04:23.434468Z",
     "iopub.status.idle": "2020-11-29T20:04:23.447444Z",
     "shell.execute_reply": "2020-11-29T20:04:23.447864Z"
    },
    "papermill": {
     "duration": 0.463037,
     "end_time": "2020-11-29T20:04:23.448004",
     "exception": false,
     "start_time": "2020-11-29T20:04:22.984967",
     "status": "completed"
    },
    "tags": []
   },
   "outputs": [],
   "source": [
    "# suffix _nn stands for Neural Network.\n",
    "learner_nn = Learner(loss, model_nn, opt, config.num_epochs)\n",
    "acc_nn = ClfCallback(learner_nn, config.bs, training_xdata , testing_xdata, training_ydata, testing_ydata)\n",
    "learner_nn.set_callbacks([acc_nn])"
   ]
  },
  {
   "cell_type": "code",
   "execution_count": 20,
   "metadata": {
    "execution": {
     "iopub.execute_input": "2020-11-29T20:04:23.574239Z",
     "iopub.status.busy": "2020-11-29T20:04:23.573616Z",
     "iopub.status.idle": "2020-11-29T20:05:39.392328Z",
     "shell.execute_reply": "2020-11-29T20:05:39.391899Z"
    },
    "papermill": {
     "duration": 75.855356,
     "end_time": "2020-11-29T20:05:39.392445",
     "exception": false,
     "start_time": "2020-11-29T20:04:23.537089",
     "status": "completed"
    },
    "tags": []
   },
   "outputs": [
    {
     "name": "stdout",
     "output_type": "stream",
     "text": [
      "====== Neural Network ======\n"
     ]
    },
    {
     "name": "stdout",
     "output_type": "stream",
     "text": [
      "Epoch 0, Loss 0.2553\n",
      "Training Accuracy: 0.4836, Testing Accuracy: 0.4894\n",
      "\n"
     ]
    },
    {
     "name": "stdout",
     "output_type": "stream",
     "text": [
      "Epoch 10, Loss 0.159\n",
      "Training Accuracy: 0.8903, Testing Accuracy: 0.9027\n",
      "\n"
     ]
    },
    {
     "name": "stdout",
     "output_type": "stream",
     "text": [
      "Epoch 20, Loss 0.0796\n",
      "Training Accuracy: 0.9234, Testing Accuracy: 0.9294\n",
      "\n"
     ]
    },
    {
     "name": "stdout",
     "output_type": "stream",
     "text": [
      "Epoch 30, Loss 0.0554\n",
      "Training Accuracy: 0.9386, Testing Accuracy: 0.9501\n",
      "\n"
     ]
    },
    {
     "name": "stdout",
     "output_type": "stream",
     "text": [
      "Epoch 40, Loss 0.0451\n",
      "Training Accuracy: 0.9478, Testing Accuracy: 0.9561\n",
      "\n"
     ]
    },
    {
     "name": "stdout",
     "output_type": "stream",
     "text": [
      "Epoch 50, Loss 0.0395\n",
      "Training Accuracy: 0.9532, Testing Accuracy: 0.9607\n",
      "\n"
     ]
    },
    {
     "name": "stdout",
     "output_type": "stream",
     "text": [
      "Epoch 60, Loss 0.036\n",
      "Training Accuracy: 0.9565, Testing Accuracy: 0.9642\n",
      "\n"
     ]
    },
    {
     "name": "stdout",
     "output_type": "stream",
     "text": [
      "Epoch 70, Loss 0.0335\n",
      "Training Accuracy: 0.9597, Testing Accuracy: 0.9652\n",
      "\n"
     ]
    },
    {
     "name": "stdout",
     "output_type": "stream",
     "text": [
      "Epoch 80, Loss 0.0316\n",
      "Training Accuracy: 0.9626, Testing Accuracy: 0.9672\n",
      "\n"
     ]
    },
    {
     "name": "stdout",
     "output_type": "stream",
     "text": [
      "Epoch 90, Loss 0.0301\n",
      "Training Accuracy: 0.9647, Testing Accuracy: 0.9682\n",
      "\n"
     ]
    },
    {
     "name": "stdout",
     "output_type": "stream",
     "text": [
      "Epoch 100, Loss 0.0288\n",
      "Training Accuracy: 0.9661, Testing Accuracy: 0.9703\n",
      "\n"
     ]
    },
    {
     "name": "stdout",
     "output_type": "stream",
     "text": [
      "Epoch 110, Loss 0.0277\n",
      "Training Accuracy: 0.9669, Testing Accuracy: 0.9723\n",
      "\n"
     ]
    },
    {
     "name": "stdout",
     "output_type": "stream",
     "text": [
      "Epoch 120, Loss 0.0268\n",
      "Training Accuracy: 0.9688, Testing Accuracy: 0.9728\n",
      "\n"
     ]
    },
    {
     "name": "stdout",
     "output_type": "stream",
     "text": [
      "Epoch 130, Loss 0.0259\n",
      "Training Accuracy: 0.9701, Testing Accuracy: 0.9733\n",
      "\n"
     ]
    },
    {
     "name": "stdout",
     "output_type": "stream",
     "text": [
      "Epoch 140, Loss 0.0251\n",
      "Training Accuracy: 0.9710, Testing Accuracy: 0.9733\n",
      "\n"
     ]
    },
    {
     "name": "stdout",
     "output_type": "stream",
     "text": [
      "Epoch 150, Loss 0.0244\n",
      "Training Accuracy: 0.9715, Testing Accuracy: 0.9733\n",
      "\n"
     ]
    },
    {
     "name": "stdout",
     "output_type": "stream",
     "text": [
      "Epoch 160, Loss 0.0238\n",
      "Training Accuracy: 0.9720, Testing Accuracy: 0.9743\n",
      "\n"
     ]
    },
    {
     "name": "stdout",
     "output_type": "stream",
     "text": [
      "Epoch 170, Loss 0.0232\n",
      "Training Accuracy: 0.9728, Testing Accuracy: 0.9738\n",
      "\n"
     ]
    },
    {
     "name": "stdout",
     "output_type": "stream",
     "text": [
      "Epoch 180, Loss 0.0226\n",
      "Training Accuracy: 0.9744, Testing Accuracy: 0.9733\n",
      "\n"
     ]
    },
    {
     "name": "stdout",
     "output_type": "stream",
     "text": [
      "Epoch 190, Loss 0.0221\n",
      "Training Accuracy: 0.9752, Testing Accuracy: 0.9743\n",
      "\n"
     ]
    },
    {
     "name": "stdout",
     "output_type": "stream",
     "text": [
      "Epoch 200, Loss 0.0216\n",
      "Training Accuracy: 0.9755, Testing Accuracy: 0.9743\n",
      "\n"
     ]
    },
    {
     "name": "stdout",
     "output_type": "stream",
     "text": [
      "Epoch 210, Loss 0.0211\n",
      "Training Accuracy: 0.9759, Testing Accuracy: 0.9748\n",
      "\n"
     ]
    },
    {
     "name": "stdout",
     "output_type": "stream",
     "text": [
      "Epoch 220, Loss 0.0207\n",
      "Training Accuracy: 0.9761, Testing Accuracy: 0.9748\n",
      "\n"
     ]
    },
    {
     "name": "stdout",
     "output_type": "stream",
     "text": [
      "Epoch 230, Loss 0.0202\n",
      "Training Accuracy: 0.9770, Testing Accuracy: 0.9753\n",
      "\n"
     ]
    },
    {
     "name": "stdout",
     "output_type": "stream",
     "text": [
      "Epoch 240, Loss 0.0198\n",
      "Training Accuracy: 0.9777, Testing Accuracy: 0.9753\n",
      "\n"
     ]
    },
    {
     "name": "stdout",
     "output_type": "stream",
     "text": [
      "Epoch 250, Loss 0.0194\n",
      "Training Accuracy: 0.9784, Testing Accuracy: 0.9743\n",
      "\n"
     ]
    },
    {
     "data": {
      "text/plain": [
       "0.025034372406614755"
      ]
     },
     "execution_count": 20,
     "metadata": {},
     "output_type": "execute_result"
    }
   ],
   "source": [
    "print(\"====== Neural Network ======\")\n",
    "learner_nn.train_loop(dl)"
   ]
  },
  {
   "cell_type": "markdown",
   "metadata": {
    "papermill": {
     "duration": 0.03624,
     "end_time": "2020-11-29T20:05:39.465290",
     "exception": false,
     "start_time": "2020-11-29T20:05:39.429050",
     "status": "completed"
    },
    "tags": []
   },
   "source": [
    "### Logistic Regression based Implementation."
   ]
  },
  {
   "cell_type": "code",
   "execution_count": 21,
   "metadata": {
    "execution": {
     "iopub.execute_input": "2020-11-29T20:05:39.543923Z",
     "iopub.status.busy": "2020-11-29T20:05:39.543304Z",
     "iopub.status.idle": "2020-11-29T20:05:39.555992Z",
     "shell.execute_reply": "2020-11-29T20:05:39.555433Z"
    },
    "papermill": {
     "duration": 0.0546,
     "end_time": "2020-11-29T20:05:39.556139",
     "exception": false,
     "start_time": "2020-11-29T20:05:39.501539",
     "status": "completed"
    },
    "tags": []
   },
   "outputs": [],
   "source": [
    "learner_lr = Learner(loss, model_lr, opt, config.num_epochs)\n",
    "acc_lr = ClfCallback(learner_lr, config.bs, training_xdata , testing_xdata, training_ydata, testing_ydata)\n",
    "learner_lr.set_callbacks([acc_lr])"
   ]
  },
  {
   "cell_type": "code",
   "execution_count": 22,
   "metadata": {
    "execution": {
     "iopub.execute_input": "2020-11-29T20:05:39.640633Z",
     "iopub.status.busy": "2020-11-29T20:05:39.636263Z",
     "iopub.status.idle": "2020-11-29T20:05:53.373488Z",
     "shell.execute_reply": "2020-11-29T20:05:53.372996Z"
    },
    "papermill": {
     "duration": 13.78035,
     "end_time": "2020-11-29T20:05:53.373628",
     "exception": false,
     "start_time": "2020-11-29T20:05:39.593278",
     "status": "completed"
    },
    "tags": []
   },
   "outputs": [
    {
     "name": "stdout",
     "output_type": "stream",
     "text": [
      "====== Logistic Regression ======\n",
      "Epoch 0, Loss 0.2658\n",
      "Training Accuracy: 0.5782, Testing Accuracy: 0.5842\n",
      "\n"
     ]
    },
    {
     "name": "stdout",
     "output_type": "stream",
     "text": [
      "Epoch 10, Loss 0.1031\n",
      "Training Accuracy: 0.9104, Testing Accuracy: 0.9153\n",
      "\n"
     ]
    },
    {
     "name": "stdout",
     "output_type": "stream",
     "text": [
      "Epoch 20, Loss 0.0787\n",
      "Training Accuracy: 0.9286, Testing Accuracy: 0.9325\n",
      "\n"
     ]
    },
    {
     "name": "stdout",
     "output_type": "stream",
     "text": [
      "Epoch 30, Loss 0.0678\n",
      "Training Accuracy: 0.9377, Testing Accuracy: 0.9420\n",
      "\n"
     ]
    },
    {
     "name": "stdout",
     "output_type": "stream",
     "text": [
      "Epoch 40, Loss 0.0612\n",
      "Training Accuracy: 0.9427, Testing Accuracy: 0.9501\n",
      "\n"
     ]
    },
    {
     "name": "stdout",
     "output_type": "stream",
     "text": [
      "Epoch 50, Loss 0.0567\n",
      "Training Accuracy: 0.9461, Testing Accuracy: 0.9511\n",
      "\n"
     ]
    },
    {
     "name": "stdout",
     "output_type": "stream",
     "text": [
      "Epoch 60, Loss 0.0535\n",
      "Training Accuracy: 0.9478, Testing Accuracy: 0.9536\n",
      "\n"
     ]
    },
    {
     "name": "stdout",
     "output_type": "stream",
     "text": [
      "Epoch 70, Loss 0.0509\n",
      "Training Accuracy: 0.9500, Testing Accuracy: 0.9567\n",
      "\n"
     ]
    },
    {
     "name": "stdout",
     "output_type": "stream",
     "text": [
      "Epoch 80, Loss 0.0489\n",
      "Training Accuracy: 0.9515, Testing Accuracy: 0.9587\n",
      "\n"
     ]
    },
    {
     "name": "stdout",
     "output_type": "stream",
     "text": [
      "Epoch 90, Loss 0.0472\n",
      "Training Accuracy: 0.9533, Testing Accuracy: 0.9607\n",
      "\n"
     ]
    },
    {
     "name": "stdout",
     "output_type": "stream",
     "text": [
      "Epoch 100, Loss 0.0458\n",
      "Training Accuracy: 0.9543, Testing Accuracy: 0.9622\n",
      "\n"
     ]
    },
    {
     "name": "stdout",
     "output_type": "stream",
     "text": [
      "Epoch 110, Loss 0.0446\n",
      "Training Accuracy: 0.9557, Testing Accuracy: 0.9627\n",
      "\n"
     ]
    },
    {
     "name": "stdout",
     "output_type": "stream",
     "text": [
      "Epoch 120, Loss 0.0435\n",
      "Training Accuracy: 0.9562, Testing Accuracy: 0.9632\n",
      "\n"
     ]
    },
    {
     "name": "stdout",
     "output_type": "stream",
     "text": [
      "Epoch 130, Loss 0.0426\n",
      "Training Accuracy: 0.9566, Testing Accuracy: 0.9642\n",
      "\n"
     ]
    },
    {
     "name": "stdout",
     "output_type": "stream",
     "text": [
      "Epoch 140, Loss 0.0418\n",
      "Training Accuracy: 0.9570, Testing Accuracy: 0.9647\n",
      "\n"
     ]
    },
    {
     "name": "stdout",
     "output_type": "stream",
     "text": [
      "Epoch 150, Loss 0.0411\n",
      "Training Accuracy: 0.9577, Testing Accuracy: 0.9642\n",
      "\n"
     ]
    },
    {
     "name": "stdout",
     "output_type": "stream",
     "text": [
      "Epoch 160, Loss 0.0404\n",
      "Training Accuracy: 0.9583, Testing Accuracy: 0.9647\n",
      "\n"
     ]
    },
    {
     "name": "stdout",
     "output_type": "stream",
     "text": [
      "Epoch 170, Loss 0.0398\n",
      "Training Accuracy: 0.9586, Testing Accuracy: 0.9657\n",
      "\n"
     ]
    },
    {
     "name": "stdout",
     "output_type": "stream",
     "text": [
      "Epoch 180, Loss 0.0392\n",
      "Training Accuracy: 0.9591, Testing Accuracy: 0.9667\n",
      "\n"
     ]
    },
    {
     "name": "stdout",
     "output_type": "stream",
     "text": [
      "Epoch 190, Loss 0.0387\n",
      "Training Accuracy: 0.9594, Testing Accuracy: 0.9667\n",
      "\n"
     ]
    },
    {
     "name": "stdout",
     "output_type": "stream",
     "text": [
      "Epoch 200, Loss 0.0383\n",
      "Training Accuracy: 0.9599, Testing Accuracy: 0.9667\n",
      "\n"
     ]
    },
    {
     "name": "stdout",
     "output_type": "stream",
     "text": [
      "Epoch 210, Loss 0.0378\n",
      "Training Accuracy: 0.9603, Testing Accuracy: 0.9667\n",
      "\n"
     ]
    },
    {
     "name": "stdout",
     "output_type": "stream",
     "text": [
      "Epoch 220, Loss 0.0374\n",
      "Training Accuracy: 0.9606, Testing Accuracy: 0.9667\n",
      "\n"
     ]
    },
    {
     "name": "stdout",
     "output_type": "stream",
     "text": [
      "Epoch 230, Loss 0.037\n",
      "Training Accuracy: 0.9608, Testing Accuracy: 0.9667\n",
      "\n"
     ]
    },
    {
     "name": "stdout",
     "output_type": "stream",
     "text": [
      "Epoch 240, Loss 0.0367\n",
      "Training Accuracy: 0.9614, Testing Accuracy: 0.9657\n",
      "\n"
     ]
    },
    {
     "name": "stdout",
     "output_type": "stream",
     "text": [
      "Epoch 250, Loss 0.0363\n",
      "Training Accuracy: 0.9617, Testing Accuracy: 0.9657\n",
      "\n"
     ]
    },
    {
     "data": {
      "text/plain": [
       "0.011400029324565096"
      ]
     },
     "execution_count": 22,
     "metadata": {},
     "output_type": "execute_result"
    }
   ],
   "source": [
    "print(\"====== Logistic Regression ======\")\n",
    "learner_lr.train_loop(dl)"
   ]
  },
  {
   "cell_type": "markdown",
   "metadata": {
    "papermill": {
     "duration": 0.040975,
     "end_time": "2020-11-29T20:05:53.455149",
     "exception": false,
     "start_time": "2020-11-29T20:05:53.414174",
     "status": "completed"
    },
    "tags": []
   },
   "source": [
    "### Comparing results of NN and LR"
   ]
  },
  {
   "cell_type": "code",
   "execution_count": 23,
   "metadata": {
    "execution": {
     "iopub.execute_input": "2020-11-29T20:05:53.550266Z",
     "iopub.status.busy": "2020-11-29T20:05:53.549611Z",
     "iopub.status.idle": "2020-11-29T20:05:53.777543Z",
     "shell.execute_reply": "2020-11-29T20:05:53.777050Z"
    },
    "papermill": {
     "duration": 0.278239,
     "end_time": "2020-11-29T20:05:53.777665",
     "exception": false,
     "start_time": "2020-11-29T20:05:53.499426",
     "status": "completed"
    },
    "tags": []
   },
   "outputs": [
    {
     "data": {
      "text/plain": [
       "<matplotlib.legend.Legend at 0x7fdd20ae1940>"
      ]
     },
     "execution_count": 23,
     "metadata": {},
     "output_type": "execute_result"
    },
    {
     "data": {
      "image/png": "[encoded data removed]",
      "text/plain": [
       "<Figure size 1080x720 with 1 Axes>"
      ]
     },
     "metadata": {
      "needs_background": "light"
     },
     "output_type": "display_data"
    }
   ],
   "source": [
    "plt.figure(figsize=(15,10))\n",
    "\n",
    "# Neural Network plots\n",
    "plt.plot(acc_nn.accuracies, 'r-', label = \"Training Accuracies - NN\")\n",
    "plt.plot(acc_nn.test_accuracies, 'g-', label = \"Testing Accuracies - NN\")\n",
    "\n",
    "# Logistic Regression plots\n",
    "plt.plot(acc_lr.accuracies, 'k-', label = \"Training Accuracies - LR\")\n",
    "plt.plot(acc_lr.test_accuracies, 'b-', label = \"Testing Accuracies - LR\")\n",
    "\n",
    "plt.ylim(0.8, 1)\n",
    "\n",
    "plt.legend()\n",
    "\n"
   ]
  },
  {
   "cell_type": "markdown",
   "metadata": {
    "papermill": {
     "duration": 0.041554,
     "end_time": "2020-11-29T20:05:53.863853",
     "exception": false,
     "start_time": "2020-11-29T20:05:53.822299",
     "status": "completed"
    },
    "tags": []
   },
   "source": [
    "### From the plot, we can observe the following:\n",
    "- Neural Network achieves higher accuracy than the Logistic Regression model.\n",
    "- This apparently, is because of overfitting, i.e. NN captures more noise than data.\n",
    "- Testing accuracy of NN drops below the Training accuracy at higher epochs. This explains the over-fitting on training data.\n",
    "- Logistic Regression gives a reliable accuracy, without the above mentioned problem.\n"
   ]
  },
  {
   "cell_type": "markdown",
   "metadata": {
    "papermill": {
     "duration": 0.036989,
     "end_time": "2020-11-29T20:05:53.937423",
     "exception": false,
     "start_time": "2020-11-29T20:05:53.900434",
     "status": "completed"
    },
    "tags": []
   },
   "source": [
    "### Moving till the last but one layer (excluding it).\n",
    "#### Plotting the outputs of this layer of the NN."
   ]
  },
  {
   "cell_type": "code",
   "execution_count": 24,
   "metadata": {
    "execution": {
     "iopub.execute_input": "2020-11-29T20:05:54.017906Z",
     "iopub.status.busy": "2020-11-29T20:05:54.016319Z",
     "iopub.status.idle": "2020-11-29T20:05:54.029896Z",
     "shell.execute_reply": "2020-11-29T20:05:54.030320Z"
    },
    "papermill": {
     "duration": 0.055433,
     "end_time": "2020-11-29T20:05:54.030440",
     "exception": false,
     "start_time": "2020-11-29T20:05:53.975007",
     "status": "completed"
    },
    "tags": []
   },
   "outputs": [],
   "source": [
    "model_new = Model(layers[:-2])"
   ]
  },
  {
   "cell_type": "code",
   "execution_count": 25,
   "metadata": {
    "execution": {
     "iopub.execute_input": "2020-11-29T20:05:54.112412Z",
     "iopub.status.busy": "2020-11-29T20:05:54.111874Z",
     "iopub.status.idle": "2020-11-29T20:05:54.132810Z",
     "shell.execute_reply": "2020-11-29T20:05:54.133299Z"
    },
    "papermill": {
     "duration": 0.063484,
     "end_time": "2020-11-29T20:05:54.133450",
     "exception": false,
     "start_time": "2020-11-29T20:05:54.069966",
     "status": "completed"
    },
    "tags": []
   },
   "outputs": [],
   "source": [
    "plot_testing = model_new(testing_xdata)"
   ]
  },
  {
   "cell_type": "code",
   "execution_count": 26,
   "metadata": {
    "execution": {
     "iopub.execute_input": "2020-11-29T20:05:54.227957Z",
     "iopub.status.busy": "2020-11-29T20:05:54.227364Z",
     "iopub.status.idle": "2020-11-29T20:05:54.400817Z",
     "shell.execute_reply": "2020-11-29T20:05:54.400340Z"
    },
    "papermill": {
     "duration": 0.224083,
     "end_time": "2020-11-29T20:05:54.400948",
     "exception": false,
     "start_time": "2020-11-29T20:05:54.176865",
     "status": "completed"
    },
    "tags": []
   },
   "outputs": [
    {
     "data": {
      "text/plain": [
       "Text(0.5, 1.0, 'Outputs')"
      ]
     },
     "execution_count": 26,
     "metadata": {},
     "output_type": "execute_result"
    },
    {
     "data": {
      "image/png": "[encoded data removed]",
      "text/plain": [
       "<Figure size 576x504 with 1 Axes>"
      ]
     },
     "metadata": {
      "needs_background": "light"
     },
     "output_type": "display_data"
    }
   ],
   "source": [
    "plt.figure(figsize=(8,7))\n",
    "plt.scatter(plot_testing[:,0], plot_testing[:,1], alpha = 0.1, c = y_test.ravel());\n",
    "plt.title('Outputs')"
   ]
  },
  {
   "cell_type": "markdown",
   "metadata": {
    "papermill": {
     "duration": 0.037955,
     "end_time": "2020-11-29T20:05:54.477411",
     "exception": false,
     "start_time": "2020-11-29T20:05:54.439456",
     "status": "completed"
    },
    "tags": []
   },
   "source": [
    "### Plotting probability contours"
   ]
  },
  {
   "cell_type": "code",
   "execution_count": 27,
   "metadata": {
    "execution": {
     "iopub.execute_input": "2020-11-29T20:05:54.560476Z",
     "iopub.status.busy": "2020-11-29T20:05:54.559886Z",
     "iopub.status.idle": "2020-11-29T20:05:54.572807Z",
     "shell.execute_reply": "2020-11-29T20:05:54.573283Z"
    },
    "papermill": {
     "duration": 0.059058,
     "end_time": "2020-11-29T20:05:54.573420",
     "exception": false,
     "start_time": "2020-11-29T20:05:54.514362",
     "status": "completed"
    },
    "tags": []
   },
   "outputs": [],
   "source": [
    "model_prob = Model(layers[-2:]) "
   ]
  },
  {
   "cell_type": "code",
   "execution_count": 28,
   "metadata": {
    "execution": {
     "iopub.execute_input": "2020-11-29T20:05:54.660541Z",
     "iopub.status.busy": "2020-11-29T20:05:54.659604Z",
     "iopub.status.idle": "2020-11-29T20:05:54.672902Z",
     "shell.execute_reply": "2020-11-29T20:05:54.673292Z"
    },
    "papermill": {
     "duration": 0.058028,
     "end_time": "2020-11-29T20:05:54.673406",
     "exception": false,
     "start_time": "2020-11-29T20:05:54.615378",
     "status": "completed"
    },
    "tags": []
   },
   "outputs": [],
   "source": [
    "# Adjust the x and y ranges according to the above generated plot.\n",
    "x_range = np.linspace(-4, 1, 100) \n",
    "y_range = np.linspace(-6, 6, 100) \n",
    "x_grid, y_grid = np.meshgrid(x_range, y_range) # x_grid and y_grig are of size 100 X 100\n",
    "\n",
    "# converting x_grid and y_grid to continuous arrays\n",
    "x_grid_flat = np.ravel(x_grid)\n",
    "y_grid_flat = np.ravel(y_grid)\n",
    "\n",
    "# The last layer of the current model takes two columns as input. Hence transpose of np.vstack() is required.\n",
    "X = np.vstack((x_grid_flat, y_grid_flat)).T\n",
    "\n",
    "# x_grid and y_grid are of size 100 x 100\n",
    "probability_contour = model_prob(X).reshape(100,100) "
   ]
  },
  {
   "cell_type": "code",
   "execution_count": 29,
   "metadata": {
    "execution": {
     "iopub.execute_input": "2020-11-29T20:05:54.764243Z",
     "iopub.status.busy": "2020-11-29T20:05:54.763814Z",
     "iopub.status.idle": "2020-11-29T20:05:54.972110Z",
     "shell.execute_reply": "2020-11-29T20:05:54.972474Z"
    },
    "papermill": {
     "duration": 0.261057,
     "end_time": "2020-11-29T20:05:54.972595",
     "exception": false,
     "start_time": "2020-11-29T20:05:54.711538",
     "status": "completed"
    },
    "tags": []
   },
   "outputs": [
    {
     "data": {
      "image/png": "[encoded data removed]",
      "text/plain": [
       "<Figure size 720x648 with 1 Axes>"
      ]
     },
     "metadata": {
      "needs_background": "light"
     },
     "output_type": "display_data"
    }
   ],
   "source": [
    "plt.figure(figsize=(10,9))\n",
    "plt.scatter(plot_testing[:,0], plot_testing[:,1], alpha = 0.1, c = y_test.ravel())\n",
    "contours = plt.contour(x_grid,y_grid,probability_contour)\n",
    "plt.title('Probability Contours')\n",
    "plt.clabel(contours, inline = True );"
   ]
  }
 ],
 "metadata": {
  "kernelspec": {
   "display_name": "Python 3",
   "language": "python",
   "name": "python3"
  },
  "language_info": {
   "codemirror_mode": {
    "name": "ipython",
    "version": 3
   },
   "file_extension": ".py",
   "mimetype": "text/x-python",
   "name": "python",
   "nbconvert_exporter": "python",
   "pygments_lexer": "ipython3",
   "version": "3.6.12"
  },
  "papermill": {
   "duration": 97.753593,
   "end_time": "2020-11-29T20:05:55.321238",
   "environment_variables": {},
   "exception": null,
   "input_path": "2020-08-11-NeuralNetwork.ipynb",
   "output_path": "2020-08-11-NeuralNetwork.ipynb",
   "parameters": {},
   "start_time": "2020-11-29T20:04:17.567645",
   "version": "2.1.2"
  }
 },
 "nbformat": 4,
 "nbformat_minor": 4
}