{
 "cells": [
  {
   "cell_type": "markdown",
   "metadata": {
    "papermill": {
     "duration": 0.027362,
     "end_time": "2021-01-10T00:21:31.747973",
     "exception": false,
     "start_time": "2021-01-10T00:21:31.720611",
     "status": "completed"
    },
    "tags": []
   },
   "source": [
    "# \"A Basic Neural Network: Differentiate Hand-Written Digits\"\n",
    "\n",
    "- badges: true\n",
    "- author: Akshith Sriram"
   ]
  },
  {
   "cell_type": "markdown",
   "metadata": {
    "papermill": {
     "duration": 0.023876,
     "end_time": "2021-01-10T00:21:31.796677",
     "exception": false,
     "start_time": "2021-01-10T00:21:31.772801",
     "status": "completed"
    },
    "tags": []
   },
   "source": [
    "### Key Objectives:\n",
    "- Building a neural network that differentiates two hand-written digits 3 and 8.\n",
    "- Comparing the results of this Neural Network (NN) to that of a Logistic Regression (LR) model.\n",
    "\n",
    "### Requirements:\n",
    "- 'Kudzu' : A neural network library that was designed during our course by [Univ.AI](www.univ.ai). \n",
    "- MNIST Database\n",
    "\n",
    "If MNIST is not installed, use the command `!pip install mnist` given below.\n",
    "It can be run both from the command line and Jupyter Notebook."
   ]
  },
  {
   "cell_type": "code",
   "execution_count": 1,
   "metadata": {
    "execution": {
     "iopub.execute_input": "2021-01-10T00:21:31.853729Z",
     "iopub.status.busy": "2021-01-10T00:21:31.853061Z",
     "iopub.status.idle": "2021-01-10T00:21:33.744443Z",
     "shell.execute_reply": "2021-01-10T00:21:33.744929Z"
    },
    "papermill": {
     "duration": 1.925021,
     "end_time": "2021-01-10T00:21:33.745121",
     "exception": false,
     "start_time": "2021-01-10T00:21:31.820100",
     "status": "completed"
    },
    "tags": []
   },
   "outputs": [
    {
     "name": "stdout",
     "output_type": "stream",
     "text": [
      "Collecting mnist\r\n"
     ]
    },
    {
     "name": "stdout",
     "output_type": "stream",
     "text": [
      "  Downloading mnist-0.2.2-py2.py3-none-any.whl (3.5 kB)\r\n",
      "Requirement already satisfied: numpy in /opt/hostedtoolcache/Python/3.6.12/x64/lib/python3.6/site-packages (from mnist) (1.19.5)\r\n"
     ]
    },
    {
     "name": "stdout",
     "output_type": "stream",
     "text": [
      "Installing collected packages: mnist\r\n",
      "Successfully installed mnist-0.2.2\r\n"
     ]
    },
    {
     "name": "stdout",
     "output_type": "stream",
     "text": [
      "\u001b[33mWARNING: You are using pip version 20.3.1; however, version 20.3.3 is available.\r\n",
      "You should consider upgrading via the '/opt/hostedtoolcache/Python/3.6.12/x64/bin/python -m pip install --upgrade pip' command.\u001b[0m\r\n"
     ]
    }
   ],
   "source": [
    "!pip install mnist "
   ]
  },
  {
   "cell_type": "markdown",
   "metadata": {
    "papermill": {
     "duration": 0.02564,
     "end_time": "2021-01-10T00:21:33.797060",
     "exception": false,
     "start_time": "2021-01-10T00:21:33.771420",
     "status": "completed"
    },
    "tags": []
   },
   "source": [
    "#### Importing necessary libraries"
   ]
  },
  {
   "cell_type": "code",
   "execution_count": 2,
   "metadata": {
    "execution": {
     "iopub.execute_input": "2021-01-10T00:21:33.862865Z",
     "iopub.status.busy": "2021-01-10T00:21:33.857699Z",
     "iopub.status.idle": "2021-01-10T00:21:34.399589Z",
     "shell.execute_reply": "2021-01-10T00:21:34.399047Z"
    },
    "papermill": {
     "duration": 0.57416,
     "end_time": "2021-01-10T00:21:34.399729",
     "exception": false,
     "start_time": "2021-01-10T00:21:33.825569",
     "status": "completed"
    },
    "tags": []
   },
   "outputs": [],
   "source": [
    "%load_ext autoreload\n",
    "%autoreload 2\n",
    "\n",
    "%matplotlib inline\n",
    "import matplotlib.pyplot as plt\n",
    "\n",
    "import numpy as np\n",
    "import pandas as pd"
   ]
  },
  {
   "cell_type": "markdown",
   "metadata": {
    "papermill": {
     "duration": 0.025438,
     "end_time": "2021-01-10T00:21:34.452523",
     "exception": false,
     "start_time": "2021-01-10T00:21:34.427085",
     "status": "completed"
    },
    "tags": []
   },
   "source": [
    "### Preparing the Data"
   ]
  },
  {
   "cell_type": "code",
   "execution_count": 3,
   "metadata": {
    "execution": {
     "iopub.execute_input": "2021-01-10T00:21:34.507736Z",
     "iopub.status.busy": "2021-01-10T00:21:34.507092Z",
     "iopub.status.idle": "2021-01-10T00:21:34.518942Z",
     "shell.execute_reply": "2021-01-10T00:21:34.518444Z"
    },
    "papermill": {
     "duration": 0.040151,
     "end_time": "2021-01-10T00:21:34.519060",
     "exception": false,
     "start_time": "2021-01-10T00:21:34.478909",
     "status": "completed"
    },
    "tags": []
   },
   "outputs": [],
   "source": [
    "import mnist"
   ]
  },
  {
   "cell_type": "code",
   "execution_count": 4,
   "metadata": {
    "execution": {
     "iopub.execute_input": "2021-01-10T00:21:34.571995Z",
     "iopub.status.busy": "2021-01-10T00:21:34.571416Z",
     "iopub.status.idle": "2021-01-10T00:21:36.449898Z",
     "shell.execute_reply": "2021-01-10T00:21:36.448931Z"
    },
    "papermill": {
     "duration": 1.906095,
     "end_time": "2021-01-10T00:21:36.450046",
     "exception": false,
     "start_time": "2021-01-10T00:21:34.543951",
     "status": "completed"
    },
    "tags": []
   },
   "outputs": [],
   "source": [
    "train_images = mnist.train_images()\n",
    "train_labels = mnist.train_labels()"
   ]
  },
  {
   "cell_type": "code",
   "execution_count": 5,
   "metadata": {
    "execution": {
     "iopub.execute_input": "2021-01-10T00:21:36.508348Z",
     "iopub.status.busy": "2021-01-10T00:21:36.507755Z",
     "iopub.status.idle": "2021-01-10T00:21:36.520790Z",
     "shell.execute_reply": "2021-01-10T00:21:36.520304Z"
    },
    "papermill": {
     "duration": 0.044066,
     "end_time": "2021-01-10T00:21:36.520908",
     "exception": false,
     "start_time": "2021-01-10T00:21:36.476842",
     "status": "completed"
    },
    "tags": []
   },
   "outputs": [
    {
     "data": {
      "text/plain": [
       "((60000, 28, 28), (60000,))"
      ]
     },
     "execution_count": 5,
     "metadata": {},
     "output_type": "execute_result"
    }
   ],
   "source": [
    "train_images.shape, train_labels.shape"
   ]
  },
  {
   "cell_type": "code",
   "execution_count": 6,
   "metadata": {
    "execution": {
     "iopub.execute_input": "2021-01-10T00:21:36.578642Z",
     "iopub.status.busy": "2021-01-10T00:21:36.577681Z",
     "iopub.status.idle": "2021-01-10T00:21:37.551111Z",
     "shell.execute_reply": "2021-01-10T00:21:37.551774Z"
    },
    "papermill": {
     "duration": 1.00576,
     "end_time": "2021-01-10T00:21:37.551984",
     "exception": false,
     "start_time": "2021-01-10T00:21:36.546224",
     "status": "completed"
    },
    "tags": []
   },
   "outputs": [],
   "source": [
    "test_images = mnist.test_images()\n",
    "test_labels = mnist.test_labels()"
   ]
  },
  {
   "cell_type": "code",
   "execution_count": 7,
   "metadata": {
    "execution": {
     "iopub.execute_input": "2021-01-10T00:21:37.609621Z",
     "iopub.status.busy": "2021-01-10T00:21:37.609053Z",
     "iopub.status.idle": "2021-01-10T00:21:37.621028Z",
     "shell.execute_reply": "2021-01-10T00:21:37.621468Z"
    },
    "papermill": {
     "duration": 0.041322,
     "end_time": "2021-01-10T00:21:37.621598",
     "exception": false,
     "start_time": "2021-01-10T00:21:37.580276",
     "status": "completed"
    },
    "tags": []
   },
   "outputs": [
    {
     "data": {
      "text/plain": [
       "((10000, 28, 28), (10000,))"
      ]
     },
     "execution_count": 7,
     "metadata": {},
     "output_type": "execute_result"
    }
   ],
   "source": [
    "test_images.shape, test_labels.shape"
   ]
  },
  {
   "cell_type": "code",
   "execution_count": 8,
   "metadata": {
    "execution": {
     "iopub.execute_input": "2021-01-10T00:21:37.681619Z",
     "iopub.status.busy": "2021-01-10T00:21:37.681054Z",
     "iopub.status.idle": "2021-01-10T00:21:37.845485Z",
     "shell.execute_reply": "2021-01-10T00:21:37.844886Z"
    },
    "papermill": {
     "duration": 0.198527,
     "end_time": "2021-01-10T00:21:37.845643",
     "exception": false,
     "start_time": "2021-01-10T00:21:37.647116",
     "status": "completed"
    },
    "tags": []
   },
   "outputs": [
    {
     "name": "stdout",
     "output_type": "stream",
     "text": [
      "2\n"
     ]
    },
    {
     "data": {
      "text/plain": [
       "<matplotlib.image.AxesImage at 0x7fd5acc033c8>"
      ]
     },
     "execution_count": 8,
     "metadata": {},
     "output_type": "execute_result"
    },
    {
     "data": {
      "image/png": "[encoded data removed]",
      "text/plain": [
       "<Figure size 432x288 with 1 Axes>"
      ]
     },
     "metadata": {
      "needs_background": "light"
     },
     "output_type": "display_data"
    }
   ],
   "source": [
    "image_index = 7776 # You may select anything up to 60,000\n",
    "print(train_labels[image_index]) \n",
    "plt.imshow(train_images[image_index], cmap='Greys')"
   ]
  },
  {
   "cell_type": "markdown",
   "metadata": {
    "papermill": {
     "duration": 0.288381,
     "end_time": "2021-01-10T00:21:38.172159",
     "exception": false,
     "start_time": "2021-01-10T00:21:37.883778",
     "status": "completed"
    },
    "tags": []
   },
   "source": [
    "## Filter data to get 3 and 8 out"
   ]
  },
  {
   "cell_type": "code",
   "execution_count": 9,
   "metadata": {
    "execution": {
     "iopub.execute_input": "2021-01-10T00:21:38.526631Z",
     "iopub.status.busy": "2021-01-10T00:21:38.525830Z",
     "iopub.status.idle": "2021-01-10T00:21:38.544770Z",
     "shell.execute_reply": "2021-01-10T00:21:38.544095Z"
    },
    "papermill": {
     "duration": 0.053911,
     "end_time": "2021-01-10T00:21:38.544920",
     "exception": false,
     "start_time": "2021-01-10T00:21:38.491009",
     "status": "completed"
    },
    "tags": []
   },
   "outputs": [],
   "source": [
    "train_filter = np.where((train_labels == 3 ) | (train_labels == 8))\n",
    "test_filter = np.where((test_labels == 3) | (test_labels == 8))\n",
    "X_train, y_train = train_images[train_filter], train_labels[train_filter]\n",
    "X_test, y_test = test_images[test_filter], test_labels[test_filter]"
   ]
  },
  {
   "cell_type": "markdown",
   "metadata": {
    "papermill": {
     "duration": 0.028998,
     "end_time": "2021-01-10T00:21:38.606266",
     "exception": false,
     "start_time": "2021-01-10T00:21:38.577268",
     "status": "completed"
    },
    "tags": []
   },
   "source": [
    "We normalize the pixel values in the 0 to 1 range"
   ]
  },
  {
   "cell_type": "code",
   "execution_count": 10,
   "metadata": {
    "execution": {
     "iopub.execute_input": "2021-01-10T00:21:38.667422Z",
     "iopub.status.busy": "2021-01-10T00:21:38.666744Z",
     "iopub.status.idle": "2021-01-10T00:21:38.719227Z",
     "shell.execute_reply": "2021-01-10T00:21:38.718707Z"
    },
    "papermill": {
     "duration": 0.086177,
     "end_time": "2021-01-10T00:21:38.719383",
     "exception": false,
     "start_time": "2021-01-10T00:21:38.633206",
     "status": "completed"
    },
    "tags": []
   },
   "outputs": [],
   "source": [
    "X_train = X_train/255.\n",
    "X_test = X_test/255."
   ]
  },
  {
   "cell_type": "markdown",
   "metadata": {
    "papermill": {
     "duration": 0.027878,
     "end_time": "2021-01-10T00:21:38.775926",
     "exception": false,
     "start_time": "2021-01-10T00:21:38.748048",
     "status": "completed"
    },
    "tags": []
   },
   "source": [
    "Setup the labels as 1 (when the digit is 3) and 0 (when the digit is 8)"
   ]
  },
  {
   "cell_type": "code",
   "execution_count": 11,
   "metadata": {
    "execution": {
     "iopub.execute_input": "2021-01-10T00:21:38.842062Z",
     "iopub.status.busy": "2021-01-10T00:21:38.841480Z",
     "iopub.status.idle": "2021-01-10T00:21:38.845360Z",
     "shell.execute_reply": "2021-01-10T00:21:38.845843Z"
    },
    "papermill": {
     "duration": 0.043191,
     "end_time": "2021-01-10T00:21:38.845976",
     "exception": false,
     "start_time": "2021-01-10T00:21:38.802785",
     "status": "completed"
    },
    "tags": []
   },
   "outputs": [],
   "source": [
    "y_train = 1*(y_train==3)\n",
    "y_test = 1*(y_test==3)"
   ]
  },
  {
   "cell_type": "code",
   "execution_count": 12,
   "metadata": {
    "execution": {
     "iopub.execute_input": "2021-01-10T00:21:38.903372Z",
     "iopub.status.busy": "2021-01-10T00:21:38.902620Z",
     "iopub.status.idle": "2021-01-10T00:21:38.916385Z",
     "shell.execute_reply": "2021-01-10T00:21:38.916955Z"
    },
    "papermill": {
     "duration": 0.042916,
     "end_time": "2021-01-10T00:21:38.917117",
     "exception": false,
     "start_time": "2021-01-10T00:21:38.874201",
     "status": "completed"
    },
    "tags": []
   },
   "outputs": [
    {
     "data": {
      "text/plain": [
       "((11982, 28, 28), (1984, 28, 28))"
      ]
     },
     "execution_count": 12,
     "metadata": {},
     "output_type": "execute_result"
    }
   ],
   "source": [
    "X_train.shape, X_test.shape"
   ]
  },
  {
   "cell_type": "markdown",
   "metadata": {
    "papermill": {
     "duration": 0.030442,
     "end_time": "2021-01-10T00:21:38.975884",
     "exception": false,
     "start_time": "2021-01-10T00:21:38.945442",
     "status": "completed"
    },
    "tags": []
   },
   "source": [
    "### Reshape the input data to create a linear array"
   ]
  },
  {
   "cell_type": "code",
   "execution_count": 13,
   "metadata": {
    "execution": {
     "iopub.execute_input": "2021-01-10T00:21:39.039173Z",
     "iopub.status.busy": "2021-01-10T00:21:39.038598Z",
     "iopub.status.idle": "2021-01-10T00:21:39.049171Z",
     "shell.execute_reply": "2021-01-10T00:21:39.048635Z"
    },
    "papermill": {
     "duration": 0.045699,
     "end_time": "2021-01-10T00:21:39.049291",
     "exception": false,
     "start_time": "2021-01-10T00:21:39.003592",
     "status": "completed"
    },
    "tags": []
   },
   "outputs": [
    {
     "data": {
      "text/plain": [
       "((11982, 784), (1984, 784))"
      ]
     },
     "execution_count": 13,
     "metadata": {},
     "output_type": "execute_result"
    }
   ],
   "source": [
    "X_train = X_train.reshape(X_train.shape[0], -1)\n",
    "X_test = X_test.reshape(X_test.shape[0], -1)\n",
    "X_train.shape, X_test.shape"
   ]
  },
  {
   "cell_type": "markdown",
   "metadata": {
    "papermill": {
     "duration": 0.027854,
     "end_time": "2021-01-10T00:21:39.107576",
     "exception": false,
     "start_time": "2021-01-10T00:21:39.079722",
     "status": "completed"
    },
    "tags": []
   },
   "source": [
    "### Importing appropriate functions from 'Kudzu'"
   ]
  },
  {
   "cell_type": "code",
   "execution_count": 14,
   "metadata": {
    "execution": {
     "iopub.execute_input": "2021-01-10T00:21:39.168401Z",
     "iopub.status.busy": "2021-01-10T00:21:39.167763Z",
     "iopub.status.idle": "2021-01-10T00:21:39.186033Z",
     "shell.execute_reply": "2021-01-10T00:21:39.185545Z"
    },
    "papermill": {
     "duration": 0.051531,
     "end_time": "2021-01-10T00:21:39.186390",
     "exception": false,
     "start_time": "2021-01-10T00:21:39.134859",
     "status": "completed"
    },
    "tags": []
   },
   "outputs": [],
   "source": [
    "from kudzu.layer import Sigmoid\n",
    "from kudzu.layer import Relu\n",
    "from kudzu.layer import Affine, Sigmoid\n",
    "\n",
    "from kudzu.model import Model\n",
    "from kudzu.train import Learner\n",
    "from kudzu.optim import GD\n",
    "from kudzu.data import Data, Dataloader, Sampler\n",
    "\n",
    "from kudzu.callbacks import AccCallback\n",
    "from kudzu.callbacks import ClfCallback\n",
    "\n",
    "from kudzu.loss import MSE"
   ]
  },
  {
   "cell_type": "markdown",
   "metadata": {
    "papermill": {
     "duration": 0.02826,
     "end_time": "2021-01-10T00:21:39.242767",
     "exception": false,
     "start_time": "2021-01-10T00:21:39.214507",
     "status": "completed"
    },
    "tags": []
   },
   "source": [
    "### Let us create a `Config` class, to store important parameters. \n",
    "This class essentially plays the role of a dictionary."
   ]
  },
  {
   "cell_type": "code",
   "execution_count": 15,
   "metadata": {
    "execution": {
     "iopub.execute_input": "2021-01-10T00:21:39.311655Z",
     "iopub.status.busy": "2021-01-10T00:21:39.305817Z",
     "iopub.status.idle": "2021-01-10T00:21:39.313775Z",
     "shell.execute_reply": "2021-01-10T00:21:39.314273Z"
    },
    "papermill": {
     "duration": 0.044148,
     "end_time": "2021-01-10T00:21:39.314402",
     "exception": false,
     "start_time": "2021-01-10T00:21:39.270254",
     "status": "completed"
    },
    "tags": []
   },
   "outputs": [],
   "source": [
    "class Config:\n",
    "    pass\n",
    "config = Config()\n",
    "config.lr = 0.001\n",
    "config.num_epochs = 251\n",
    "config.bs = 50"
   ]
  },
  {
   "cell_type": "markdown",
   "metadata": {
    "papermill": {
     "duration": 0.028436,
     "end_time": "2021-01-10T00:21:39.371357",
     "exception": false,
     "start_time": "2021-01-10T00:21:39.342921",
     "status": "completed"
    },
    "tags": []
   },
   "source": [
    "### Initializing data to the variables"
   ]
  },
  {
   "cell_type": "code",
   "execution_count": 16,
   "metadata": {
    "execution": {
     "iopub.execute_input": "2021-01-10T00:21:39.433807Z",
     "iopub.status.busy": "2021-01-10T00:21:39.433232Z",
     "iopub.status.idle": "2021-01-10T00:21:39.445052Z",
     "shell.execute_reply": "2021-01-10T00:21:39.445608Z"
    },
    "papermill": {
     "duration": 0.044398,
     "end_time": "2021-01-10T00:21:39.445741",
     "exception": false,
     "start_time": "2021-01-10T00:21:39.401343",
     "status": "completed"
    },
    "tags": []
   },
   "outputs": [],
   "source": [
    "data = Data(X_train, y_train.reshape(-1,1))\n",
    "sampler = Sampler(data, config.bs, shuffle=True)\n",
    "\n",
    "dl = Dataloader(data, sampler)\n",
    "\n",
    "opt = GD(config.lr)\n",
    "loss = MSE()"
   ]
  },
  {
   "cell_type": "code",
   "execution_count": 17,
   "metadata": {
    "execution": {
     "iopub.execute_input": "2021-01-10T00:21:39.505561Z",
     "iopub.status.busy": "2021-01-10T00:21:39.504953Z",
     "iopub.status.idle": "2021-01-10T00:21:39.516310Z",
     "shell.execute_reply": "2021-01-10T00:21:39.516811Z"
    },
    "papermill": {
     "duration": 0.043737,
     "end_time": "2021-01-10T00:21:39.516939",
     "exception": false,
     "start_time": "2021-01-10T00:21:39.473202",
     "status": "completed"
    },
    "tags": []
   },
   "outputs": [],
   "source": [
    "training_xdata = X_train\n",
    "testing_xdata = X_test\n",
    "training_ydata = y_train.reshape(-1,1)\n",
    "testing_ydata = y_test.reshape(-1,1)"
   ]
  },
  {
   "cell_type": "markdown",
   "metadata": {
    "papermill": {
     "duration": 0.026779,
     "end_time": "2021-01-10T00:21:39.572758",
     "exception": false,
     "start_time": "2021-01-10T00:21:39.545979",
     "status": "completed"
    },
    "tags": []
   },
   "source": [
    "### Running Models with the Training data\n",
    "Details about the network layers:\n",
    "- A first affine layer has 784 inputs and does 100 affine transforms. These are followed by a Relu\n",
    "- A second affine layer has 100 inputs from the 100 activations of the past layer, and does 100 affine transforms. These are followed by a Relu\n",
    "- A third affine layer has 100 activations and does 2 affine transformations to create an embedding for visualization. There is no non-linearity here.\n",
    "- A final \"logistic regression\" which has an affine transform from 2 inputs to 1 output, which is squeezed through a sigmoid.\n",
    "\n",
    "Help taken from Anshuman's Notebook."
   ]
  },
  {
   "cell_type": "code",
   "execution_count": 18,
   "metadata": {
    "execution": {
     "iopub.execute_input": "2021-01-10T00:21:39.636803Z",
     "iopub.status.busy": "2021-01-10T00:21:39.636126Z",
     "iopub.status.idle": "2021-01-10T00:21:39.648397Z",
     "shell.execute_reply": "2021-01-10T00:21:39.647922Z"
    },
    "papermill": {
     "duration": 0.048207,
     "end_time": "2021-01-10T00:21:39.648518",
     "exception": false,
     "start_time": "2021-01-10T00:21:39.600311",
     "status": "completed"
    },
    "tags": []
   },
   "outputs": [],
   "source": [
    "# layers for the Neural Network\n",
    "layers = [Affine(\"first\", 784, 100), Relu(\"first\"), Affine(\"second\", 100, 100), Relu(\"second\"), Affine(\"third\", 100, 2), Affine(\"final\", 2, 1), Sigmoid(\"final\")]\n",
    "model_nn = Model(layers)\n",
    "\n",
    "# layers for the Logistic Regression\n",
    "layers_lr = [Affine(\"logits\", 784, 1), Sigmoid(\"sigmoid\")]\n",
    "model_lr = Model(layers_lr)"
   ]
  },
  {
   "cell_type": "code",
   "execution_count": 19,
   "metadata": {
    "execution": {
     "iopub.execute_input": "2021-01-10T00:21:39.707038Z",
     "iopub.status.busy": "2021-01-10T00:21:39.706455Z",
     "iopub.status.idle": "2021-01-10T00:21:39.716770Z",
     "shell.execute_reply": "2021-01-10T00:21:39.717326Z"
    },
    "papermill": {
     "duration": 0.040981,
     "end_time": "2021-01-10T00:21:39.717539",
     "exception": false,
     "start_time": "2021-01-10T00:21:39.676558",
     "status": "completed"
    },
    "tags": []
   },
   "outputs": [],
   "source": [
    "# suffix _nn stands for Neural Network.\n",
    "learner_nn = Learner(loss, model_nn, opt, config.num_epochs)\n",
    "acc_nn = ClfCallback(learner_nn, config.bs, training_xdata , testing_xdata, training_ydata, testing_ydata)\n",
    "learner_nn.set_callbacks([acc_nn])"
   ]
  },
  {
   "cell_type": "code",
   "execution_count": 20,
   "metadata": {
    "execution": {
     "iopub.execute_input": "2021-01-10T00:21:39.779702Z",
     "iopub.status.busy": "2021-01-10T00:21:39.779025Z",
     "iopub.status.idle": "2021-01-10T00:23:41.210196Z",
     "shell.execute_reply": "2021-01-10T00:23:41.209424Z"
    },
    "papermill": {
     "duration": 121.465382,
     "end_time": "2021-01-10T00:23:41.210331",
     "exception": false,
     "start_time": "2021-01-10T00:21:39.744949",
     "status": "completed"
    },
    "tags": []
   },
   "outputs": [
    {
     "name": "stdout",
     "output_type": "stream",
     "text": [
      "====== Neural Network ======\n"
     ]
    },
    {
     "name": "stdout",
     "output_type": "stream",
     "text": [
      "Epoch 0, Loss 0.2453\n",
      "Training Accuracy: 0.6849, Testing Accuracy: 0.6976\n",
      "\n"
     ]
    },
    {
     "name": "stdout",
     "output_type": "stream",
     "text": [
      "Epoch 10, Loss 0.2044\n",
      "Training Accuracy: 0.8696, Testing Accuracy: 0.8906\n",
      "\n"
     ]
    },
    {
     "name": "stdout",
     "output_type": "stream",
     "text": [
      "Epoch 20, Loss 0.113\n",
      "Training Accuracy: 0.9064, Testing Accuracy: 0.9229\n",
      "\n"
     ]
    },
    {
     "name": "stdout",
     "output_type": "stream",
     "text": [
      "Epoch 30, Loss 0.0673\n",
      "Training Accuracy: 0.9295, Testing Accuracy: 0.9415\n",
      "\n"
     ]
    },
    {
     "name": "stdout",
     "output_type": "stream",
     "text": [
      "Epoch 40, Loss 0.051\n",
      "Training Accuracy: 0.9430, Testing Accuracy: 0.9536\n",
      "\n"
     ]
    },
    {
     "name": "stdout",
     "output_type": "stream",
     "text": [
      "Epoch 50, Loss 0.0432\n",
      "Training Accuracy: 0.9502, Testing Accuracy: 0.9592\n",
      "\n"
     ]
    },
    {
     "name": "stdout",
     "output_type": "stream",
     "text": [
      "Epoch 60, Loss 0.0388\n",
      "Training Accuracy: 0.9548, Testing Accuracy: 0.9617\n",
      "\n"
     ]
    },
    {
     "name": "stdout",
     "output_type": "stream",
     "text": [
      "Epoch 70, Loss 0.0358\n",
      "Training Accuracy: 0.9583, Testing Accuracy: 0.9652\n",
      "\n"
     ]
    },
    {
     "name": "stdout",
     "output_type": "stream",
     "text": [
      "Epoch 80, Loss 0.0337\n",
      "Training Accuracy: 0.9604, Testing Accuracy: 0.9677\n",
      "\n"
     ]
    },
    {
     "name": "stdout",
     "output_type": "stream",
     "text": [
      "Epoch 90, Loss 0.0321\n",
      "Training Accuracy: 0.9624, Testing Accuracy: 0.9688\n",
      "\n"
     ]
    },
    {
     "name": "stdout",
     "output_type": "stream",
     "text": [
      "Epoch 100, Loss 0.0308\n",
      "Training Accuracy: 0.9641, Testing Accuracy: 0.9698\n",
      "\n"
     ]
    },
    {
     "name": "stdout",
     "output_type": "stream",
     "text": [
      "Epoch 110, Loss 0.0297\n",
      "Training Accuracy: 0.9652, Testing Accuracy: 0.9708\n",
      "\n"
     ]
    },
    {
     "name": "stdout",
     "output_type": "stream",
     "text": [
      "Epoch 120, Loss 0.0288\n",
      "Training Accuracy: 0.9670, Testing Accuracy: 0.9703\n",
      "\n"
     ]
    },
    {
     "name": "stdout",
     "output_type": "stream",
     "text": [
      "Epoch 130, Loss 0.028\n",
      "Training Accuracy: 0.9676, Testing Accuracy: 0.9703\n",
      "\n"
     ]
    },
    {
     "name": "stdout",
     "output_type": "stream",
     "text": [
      "Epoch 140, Loss 0.0273\n",
      "Training Accuracy: 0.9686, Testing Accuracy: 0.9703\n",
      "\n"
     ]
    },
    {
     "name": "stdout",
     "output_type": "stream",
     "text": [
      "Epoch 150, Loss 0.0267\n",
      "Training Accuracy: 0.9695, Testing Accuracy: 0.9703\n",
      "\n"
     ]
    },
    {
     "name": "stdout",
     "output_type": "stream",
     "text": [
      "Epoch 160, Loss 0.0261\n",
      "Training Accuracy: 0.9700, Testing Accuracy: 0.9708\n",
      "\n"
     ]
    },
    {
     "name": "stdout",
     "output_type": "stream",
     "text": [
      "Epoch 170, Loss 0.0256\n",
      "Training Accuracy: 0.9704, Testing Accuracy: 0.9703\n",
      "\n"
     ]
    },
    {
     "name": "stdout",
     "output_type": "stream",
     "text": [
      "Epoch 180, Loss 0.0251\n",
      "Training Accuracy: 0.9709, Testing Accuracy: 0.9703\n",
      "\n"
     ]
    },
    {
     "name": "stdout",
     "output_type": "stream",
     "text": [
      "Epoch 190, Loss 0.0247\n",
      "Training Accuracy: 0.9715, Testing Accuracy: 0.9698\n",
      "\n"
     ]
    },
    {
     "name": "stdout",
     "output_type": "stream",
     "text": [
      "Epoch 200, Loss 0.0243\n",
      "Training Accuracy: 0.9721, Testing Accuracy: 0.9698\n",
      "\n"
     ]
    },
    {
     "name": "stdout",
     "output_type": "stream",
     "text": [
      "Epoch 210, Loss 0.0239\n",
      "Training Accuracy: 0.9726, Testing Accuracy: 0.9703\n",
      "\n"
     ]
    },
    {
     "name": "stdout",
     "output_type": "stream",
     "text": [
      "Epoch 220, Loss 0.0235\n",
      "Training Accuracy: 0.9728, Testing Accuracy: 0.9703\n",
      "\n"
     ]
    },
    {
     "name": "stdout",
     "output_type": "stream",
     "text": [
      "Epoch 230, Loss 0.0232\n",
      "Training Accuracy: 0.9735, Testing Accuracy: 0.9703\n",
      "\n"
     ]
    },
    {
     "name": "stdout",
     "output_type": "stream",
     "text": [
      "Epoch 240, Loss 0.0229\n",
      "Training Accuracy: 0.9740, Testing Accuracy: 0.9698\n",
      "\n"
     ]
    },
    {
     "name": "stdout",
     "output_type": "stream",
     "text": [
      "Epoch 250, Loss 0.0225\n",
      "Training Accuracy: 0.9741, Testing Accuracy: 0.9693\n",
      "\n"
     ]
    },
    {
     "data": {
      "text/plain": [
       "0.004938044992274639"
      ]
     },
     "execution_count": 20,
     "metadata": {},
     "output_type": "execute_result"
    }
   ],
   "source": [
    "print(\"====== Neural Network ======\")\n",
    "learner_nn.train_loop(dl)"
   ]
  },
  {
   "cell_type": "markdown",
   "metadata": {
    "papermill": {
     "duration": 0.038349,
     "end_time": "2021-01-10T00:23:41.286119",
     "exception": false,
     "start_time": "2021-01-10T00:23:41.247770",
     "status": "completed"
    },
    "tags": []
   },
   "source": [
    "### Logistic Regression based Implementation."
   ]
  },
  {
   "cell_type": "code",
   "execution_count": 21,
   "metadata": {
    "execution": {
     "iopub.execute_input": "2021-01-10T00:23:41.386899Z",
     "iopub.status.busy": "2021-01-10T00:23:41.385931Z",
     "iopub.status.idle": "2021-01-10T00:23:41.389675Z",
     "shell.execute_reply": "2021-01-10T00:23:41.390545Z"
    },
    "papermill": {
     "duration": 0.06589,
     "end_time": "2021-01-10T00:23:41.390704",
     "exception": false,
     "start_time": "2021-01-10T00:23:41.324814",
     "status": "completed"
    },
    "tags": []
   },
   "outputs": [],
   "source": [
    "learner_lr = Learner(loss, model_lr, opt, config.num_epochs)\n",
    "acc_lr = ClfCallback(learner_lr, config.bs, training_xdata , testing_xdata, training_ydata, testing_ydata)\n",
    "learner_lr.set_callbacks([acc_lr])"
   ]
  },
  {
   "cell_type": "code",
   "execution_count": 22,
   "metadata": {
    "execution": {
     "iopub.execute_input": "2021-01-10T00:23:41.476171Z",
     "iopub.status.busy": "2021-01-10T00:23:41.475582Z",
     "iopub.status.idle": "2021-01-10T00:23:59.229627Z",
     "shell.execute_reply": "2021-01-10T00:23:59.230461Z"
    },
    "papermill": {
     "duration": 17.800445,
     "end_time": "2021-01-10T00:23:59.230627",
     "exception": false,
     "start_time": "2021-01-10T00:23:41.430182",
     "status": "completed"
    },
    "tags": []
   },
   "outputs": [
    {
     "name": "stdout",
     "output_type": "stream",
     "text": [
      "====== Logistic Regression ======\n",
      "Epoch 0, Loss 0.2474\n",
      "Training Accuracy: 0.6703, Testing Accuracy: 0.6598\n",
      "\n"
     ]
    },
    {
     "name": "stdout",
     "output_type": "stream",
     "text": [
      "Epoch 10, Loss 0.1009\n",
      "Training Accuracy: 0.9167, Testing Accuracy: 0.9304\n",
      "\n"
     ]
    },
    {
     "name": "stdout",
     "output_type": "stream",
     "text": [
      "Epoch 20, Loss 0.0778\n",
      "Training Accuracy: 0.9301, Testing Accuracy: 0.9420\n",
      "\n"
     ]
    },
    {
     "name": "stdout",
     "output_type": "stream",
     "text": [
      "Epoch 30, Loss 0.0674\n",
      "Training Accuracy: 0.9360, Testing Accuracy: 0.9471\n",
      "\n"
     ]
    },
    {
     "name": "stdout",
     "output_type": "stream",
     "text": [
      "Epoch 40, Loss 0.0611\n",
      "Training Accuracy: 0.9407, Testing Accuracy: 0.9516\n",
      "\n"
     ]
    },
    {
     "name": "stdout",
     "output_type": "stream",
     "text": [
      "Epoch 50, Loss 0.0569\n",
      "Training Accuracy: 0.9437, Testing Accuracy: 0.9546\n",
      "\n"
     ]
    },
    {
     "name": "stdout",
     "output_type": "stream",
     "text": [
      "Epoch 60, Loss 0.0537\n",
      "Training Accuracy: 0.9464, Testing Accuracy: 0.9572\n",
      "\n"
     ]
    },
    {
     "name": "stdout",
     "output_type": "stream",
     "text": [
      "Epoch 70, Loss 0.0513\n",
      "Training Accuracy: 0.9484, Testing Accuracy: 0.9582\n",
      "\n"
     ]
    },
    {
     "name": "stdout",
     "output_type": "stream",
     "text": [
      "Epoch 80, Loss 0.0493\n",
      "Training Accuracy: 0.9495, Testing Accuracy: 0.9592\n",
      "\n"
     ]
    },
    {
     "name": "stdout",
     "output_type": "stream",
     "text": [
      "Epoch 90, Loss 0.0477\n",
      "Training Accuracy: 0.9509, Testing Accuracy: 0.9597\n",
      "\n"
     ]
    },
    {
     "name": "stdout",
     "output_type": "stream",
     "text": [
      "Epoch 100, Loss 0.0463\n",
      "Training Accuracy: 0.9525, Testing Accuracy: 0.9627\n",
      "\n"
     ]
    },
    {
     "name": "stdout",
     "output_type": "stream",
     "text": [
      "Epoch 110, Loss 0.0451\n",
      "Training Accuracy: 0.9533, Testing Accuracy: 0.9627\n",
      "\n"
     ]
    },
    {
     "name": "stdout",
     "output_type": "stream",
     "text": [
      "Epoch 120, Loss 0.0441\n",
      "Training Accuracy: 0.9542, Testing Accuracy: 0.9627\n",
      "\n"
     ]
    },
    {
     "name": "stdout",
     "output_type": "stream",
     "text": [
      "Epoch 130, Loss 0.0432\n",
      "Training Accuracy: 0.9547, Testing Accuracy: 0.9637\n",
      "\n"
     ]
    },
    {
     "name": "stdout",
     "output_type": "stream",
     "text": [
      "Epoch 140, Loss 0.0423\n",
      "Training Accuracy: 0.9552, Testing Accuracy: 0.9652\n",
      "\n"
     ]
    },
    {
     "name": "stdout",
     "output_type": "stream",
     "text": [
      "Epoch 150, Loss 0.0416\n",
      "Training Accuracy: 0.9562, Testing Accuracy: 0.9652\n",
      "\n"
     ]
    },
    {
     "name": "stdout",
     "output_type": "stream",
     "text": [
      "Epoch 160, Loss 0.041\n",
      "Training Accuracy: 0.9566, Testing Accuracy: 0.9652\n",
      "\n"
     ]
    },
    {
     "name": "stdout",
     "output_type": "stream",
     "text": [
      "Epoch 170, Loss 0.0403\n",
      "Training Accuracy: 0.9572, Testing Accuracy: 0.9657\n",
      "\n"
     ]
    },
    {
     "name": "stdout",
     "output_type": "stream",
     "text": [
      "Epoch 180, Loss 0.0398\n",
      "Training Accuracy: 0.9576, Testing Accuracy: 0.9657\n",
      "\n"
     ]
    },
    {
     "name": "stdout",
     "output_type": "stream",
     "text": [
      "Epoch 190, Loss 0.0393\n",
      "Training Accuracy: 0.9580, Testing Accuracy: 0.9672\n",
      "\n"
     ]
    },
    {
     "name": "stdout",
     "output_type": "stream",
     "text": [
      "Epoch 200, Loss 0.0388\n",
      "Training Accuracy: 0.9584, Testing Accuracy: 0.9672\n",
      "\n"
     ]
    },
    {
     "name": "stdout",
     "output_type": "stream",
     "text": [
      "Epoch 210, Loss 0.0384\n",
      "Training Accuracy: 0.9591, Testing Accuracy: 0.9672\n",
      "\n"
     ]
    },
    {
     "name": "stdout",
     "output_type": "stream",
     "text": [
      "Epoch 220, Loss 0.038\n",
      "Training Accuracy: 0.9595, Testing Accuracy: 0.9672\n",
      "\n"
     ]
    },
    {
     "name": "stdout",
     "output_type": "stream",
     "text": [
      "Epoch 230, Loss 0.0376\n",
      "Training Accuracy: 0.9597, Testing Accuracy: 0.9672\n",
      "\n"
     ]
    },
    {
     "name": "stdout",
     "output_type": "stream",
     "text": [
      "Epoch 240, Loss 0.0372\n",
      "Training Accuracy: 0.9599, Testing Accuracy: 0.9677\n",
      "\n"
     ]
    },
    {
     "name": "stdout",
     "output_type": "stream",
     "text": [
      "Epoch 250, Loss 0.0369\n",
      "Training Accuracy: 0.9601, Testing Accuracy: 0.9682\n",
      "\n"
     ]
    },
    {
     "data": {
      "text/plain": [
       "0.0485057053909175"
      ]
     },
     "execution_count": 22,
     "metadata": {},
     "output_type": "execute_result"
    }
   ],
   "source": [
    "print(\"====== Logistic Regression ======\")\n",
    "learner_lr.train_loop(dl)"
   ]
  },
  {
   "cell_type": "markdown",
   "metadata": {
    "papermill": {
     "duration": 0.046747,
     "end_time": "2021-01-10T00:23:59.325178",
     "exception": false,
     "start_time": "2021-01-10T00:23:59.278431",
     "status": "completed"
    },
    "tags": []
   },
   "source": [
    "### Comparing results of NN and LR"
   ]
  },
  {
   "cell_type": "code",
   "execution_count": 23,
   "metadata": {
    "execution": {
     "iopub.execute_input": "2021-01-10T00:23:59.421246Z",
     "iopub.status.busy": "2021-01-10T00:23:59.420429Z",
     "iopub.status.idle": "2021-01-10T00:23:59.678150Z",
     "shell.execute_reply": "2021-01-10T00:23:59.678655Z"
    },
    "papermill": {
     "duration": 0.308826,
     "end_time": "2021-01-10T00:23:59.678824",
     "exception": false,
     "start_time": "2021-01-10T00:23:59.369998",
     "status": "completed"
    },
    "tags": []
   },
   "outputs": [
    {
     "data": {
      "text/plain": [
       "<matplotlib.legend.Legend at 0x7fd5a003c0b8>"
      ]
     },
     "execution_count": 23,
     "metadata": {},
     "output_type": "execute_result"
    },
    {
     "data": {
      "image/png": "[encoded data removed]",
      "text/plain": [
       "<Figure size 1080x720 with 1 Axes>"
      ]
     },
     "metadata": {
      "needs_background": "light"
     },
     "output_type": "display_data"
    }
   ],
   "source": [
    "plt.figure(figsize=(15,10))\n",
    "\n",
    "# Neural Network plots\n",
    "plt.plot(acc_nn.accuracies, 'r-', label = \"Training Accuracies - NN\")\n",
    "plt.plot(acc_nn.test_accuracies, 'g-', label = \"Testing Accuracies - NN\")\n",
    "\n",
    "# Logistic Regression plots\n",
    "plt.plot(acc_lr.accuracies, 'k-', label = \"Training Accuracies - LR\")\n",
    "plt.plot(acc_lr.test_accuracies, 'b-', label = \"Testing Accuracies - LR\")\n",
    "\n",
    "plt.ylim(0.8, 1)\n",
    "\n",
    "plt.legend()\n",
    "\n"
   ]
  },
  {
   "cell_type": "markdown",
   "metadata": {
    "papermill": {
     "duration": 0.044942,
     "end_time": "2021-01-10T00:23:59.769029",
     "exception": false,
     "start_time": "2021-01-10T00:23:59.724087",
     "status": "completed"
    },
    "tags": []
   },
   "source": [
    "### From the plot, we can observe the following:\n",
    "- Neural Network achieves higher accuracy than the Logistic Regression model.\n",
    "- This apparently, is because of overfitting, i.e. NN captures more noise than data.\n",
    "- Testing accuracy of NN drops below the Training accuracy at higher epochs. This explains the over-fitting on training data.\n",
    "- Logistic Regression gives a reliable accuracy, without the above mentioned problem.\n"
   ]
  },
  {
   "cell_type": "markdown",
   "metadata": {
    "papermill": {
     "duration": 0.0439,
     "end_time": "2021-01-10T00:23:59.857806",
     "exception": false,
     "start_time": "2021-01-10T00:23:59.813906",
     "status": "completed"
    },
    "tags": []
   },
   "source": [
    "### Moving till the last but one layer (excluding it).\n",
    "#### Plotting the outputs of this layer of the NN."
   ]
  },
  {
   "cell_type": "code",
   "execution_count": 24,
   "metadata": {
    "execution": {
     "iopub.execute_input": "2021-01-10T00:23:59.968065Z",
     "iopub.status.busy": "2021-01-10T00:23:59.967303Z",
     "iopub.status.idle": "2021-01-10T00:23:59.970155Z",
     "shell.execute_reply": "2021-01-10T00:23:59.970603Z"
    },
    "papermill": {
     "duration": 0.067993,
     "end_time": "2021-01-10T00:23:59.970740",
     "exception": false,
     "start_time": "2021-01-10T00:23:59.902747",
     "status": "completed"
    },
    "tags": []
   },
   "outputs": [],
   "source": [
    "model_new = Model(layers[:-2])"
   ]
  },
  {
   "cell_type": "code",
   "execution_count": 25,
   "metadata": {
    "execution": {
     "iopub.execute_input": "2021-01-10T00:24:00.090242Z",
     "iopub.status.busy": "2021-01-10T00:24:00.081852Z",
     "iopub.status.idle": "2021-01-10T00:24:00.101586Z",
     "shell.execute_reply": "2021-01-10T00:24:00.102269Z"
    },
    "papermill": {
     "duration": 0.08439,
     "end_time": "2021-01-10T00:24:00.102451",
     "exception": false,
     "start_time": "2021-01-10T00:24:00.018061",
     "status": "completed"
    },
    "tags": []
   },
   "outputs": [],
   "source": [
    "plot_testing = model_new(testing_xdata)"
   ]
  },
  {
   "cell_type": "code",
   "execution_count": 26,
   "metadata": {
    "execution": {
     "iopub.execute_input": "2021-01-10T00:24:00.205260Z",
     "iopub.status.busy": "2021-01-10T00:24:00.204612Z",
     "iopub.status.idle": "2021-01-10T00:24:00.420176Z",
     "shell.execute_reply": "2021-01-10T00:24:00.420729Z"
    },
    "papermill": {
     "duration": 0.268072,
     "end_time": "2021-01-10T00:24:00.420897",
     "exception": false,
     "start_time": "2021-01-10T00:24:00.152825",
     "status": "completed"
    },
    "tags": []
   },
   "outputs": [
    {
     "data": {
      "text/plain": [
       "Text(0.5, 1.0, 'Outputs')"
      ]
     },
     "execution_count": 26,
     "metadata": {},
     "output_type": "execute_result"
    },
    {
     "data": {
      "image/png": "[encoded data removed]",
      "text/plain": [
       "<Figure size 576x504 with 1 Axes>"
      ]
     },
     "metadata": {
      "needs_background": "light"
     },
     "output_type": "display_data"
    }
   ],
   "source": [
    "plt.figure(figsize=(8,7))\n",
    "plt.scatter(plot_testing[:,0], plot_testing[:,1], alpha = 0.1, c = y_test.ravel());\n",
    "plt.title('Outputs')"
   ]
  },
  {
   "cell_type": "markdown",
   "metadata": {
    "papermill": {
     "duration": 0.047468,
     "end_time": "2021-01-10T00:24:00.519356",
     "exception": false,
     "start_time": "2021-01-10T00:24:00.471888",
     "status": "completed"
    },
    "tags": []
   },
   "source": [
    "### Plotting probability contours"
   ]
  },
  {
   "cell_type": "code",
   "execution_count": 27,
   "metadata": {
    "execution": {
     "iopub.execute_input": "2021-01-10T00:24:00.625735Z",
     "iopub.status.busy": "2021-01-10T00:24:00.625082Z",
     "iopub.status.idle": "2021-01-10T00:24:00.634683Z",
     "shell.execute_reply": "2021-01-10T00:24:00.634222Z"
    },
    "papermill": {
     "duration": 0.066326,
     "end_time": "2021-01-10T00:24:00.634806",
     "exception": false,
     "start_time": "2021-01-10T00:24:00.568480",
     "status": "completed"
    },
    "tags": []
   },
   "outputs": [],
   "source": [
    "model_prob = Model(layers[-2:]) "
   ]
  },
  {
   "cell_type": "code",
   "execution_count": 28,
   "metadata": {
    "execution": {
     "iopub.execute_input": "2021-01-10T00:24:00.737902Z",
     "iopub.status.busy": "2021-01-10T00:24:00.737257Z",
     "iopub.status.idle": "2021-01-10T00:24:00.752689Z",
     "shell.execute_reply": "2021-01-10T00:24:00.752174Z"
    },
    "papermill": {
     "duration": 0.069793,
     "end_time": "2021-01-10T00:24:00.752839",
     "exception": false,
     "start_time": "2021-01-10T00:24:00.683046",
     "status": "completed"
    },
    "tags": []
   },
   "outputs": [],
   "source": [
    "# Adjust the x and y ranges according to the above generated plot.\n",
    "x_range = np.linspace(-4, 1, 100) \n",
    "y_range = np.linspace(-6, 6, 100) \n",
    "x_grid, y_grid = np.meshgrid(x_range, y_range) # x_grid and y_grig are of size 100 X 100\n",
    "\n",
    "# converting x_grid and y_grid to continuous arrays\n",
    "x_grid_flat = np.ravel(x_grid)\n",
    "y_grid_flat = np.ravel(y_grid)\n",
    "\n",
    "# The last layer of the current model takes two columns as input. Hence transpose of np.vstack() is required.\n",
    "X = np.vstack((x_grid_flat, y_grid_flat)).T\n",
    "\n",
    "# x_grid and y_grid are of size 100 x 100\n",
    "probability_contour = model_prob(X).reshape(100,100) "
   ]
  },
  {
   "cell_type": "code",
   "execution_count": 29,
   "metadata": {
    "execution": {
     "iopub.execute_input": "2021-01-10T00:24:00.886201Z",
     "iopub.status.busy": "2021-01-10T00:24:00.885130Z",
     "iopub.status.idle": "2021-01-10T00:24:01.153667Z",
     "shell.execute_reply": "2021-01-10T00:24:01.154147Z"
    },
    "papermill": {
     "duration": 0.327431,
     "end_time": "2021-01-10T00:24:01.154305",
     "exception": false,
     "start_time": "2021-01-10T00:24:00.826874",
     "status": "completed"
    },
    "tags": []
   },
   "outputs": [
    {
     "data": {
      "image/png": "[encoded data removed]",
      "text/plain": [
       "<Figure size 720x648 with 1 Axes>"
      ]
     },
     "metadata": {
      "needs_background": "light"
     },
     "output_type": "display_data"
    }
   ],
   "source": [
    "plt.figure(figsize=(10,9))\n",
    "plt.scatter(plot_testing[:,0], plot_testing[:,1], alpha = 0.1, c = y_test.ravel())\n",
    "contours = plt.contour(x_grid,y_grid,probability_contour)\n",
    "plt.title('Probability Contours')\n",
    "plt.clabel(contours, inline = True );"
   ]
  }
 ],
 "metadata": {
  "kernelspec": {
   "display_name": "Python 3",
   "language": "python",
   "name": "python3"
  },
  "language_info": {
   "codemirror_mode": {
    "name": "ipython",
    "version": 3
   },
   "file_extension": ".py",
   "mimetype": "text/x-python",
   "name": "python",
   "nbconvert_exporter": "python",
   "pygments_lexer": "ipython3",
   "version": "3.6.12"
  },
  "papermill": {
   "duration": 150.872643,
   "end_time": "2021-01-10T00:24:01.513604",
   "environment_variables": {},
   "exception": null,
   "input_path": "2020-08-11-NeuralNetwork.ipynb",
   "output_path": "2020-08-11-NeuralNetwork.ipynb",
   "parameters": {},
   "start_time": "2021-01-10T00:21:30.640961",
   "version": "2.1.2"
  }
 },
 "nbformat": 4,
 "nbformat_minor": 4
}