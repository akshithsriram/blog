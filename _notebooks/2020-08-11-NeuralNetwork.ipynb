{
 "cells": [
  {
   "cell_type": "markdown",
   "id": "fitted-suggestion",
   "metadata": {
    "papermill": {
     "duration": 0.032625,
     "end_time": "2021-02-17T10:04:52.570235",
     "exception": false,
     "start_time": "2021-02-17T10:04:52.537610",
     "status": "completed"
    },
    "tags": []
   },
   "source": [
    "# \"A Basic Neural Network: Differentiate Hand-Written Digits\"\n",
    "\n",
    "- badges: true\n",
    "- author: Akshith Sriram"
   ]
  },
  {
   "cell_type": "markdown",
   "id": "signal-flexibility",
   "metadata": {
    "papermill": {
     "duration": 0.022888,
     "end_time": "2021-02-17T10:04:52.620196",
     "exception": false,
     "start_time": "2021-02-17T10:04:52.597308",
     "status": "completed"
    },
    "tags": []
   },
   "source": [
    "### Key Objectives:\n",
    "- Building a neural network that differentiates two hand-written digits 3 and 8.\n",
    "- Comparing the results of this Neural Network (NN) to that of a Logistic Regression (LR) model.\n",
    "\n",
    "### Requirements:\n",
    "- 'Kudzu' : A neural network library that was designed during our course by [Univ.AI](www.univ.ai). \n",
    "- MNIST Database\n",
    "\n",
    "If MNIST is not installed, use the command `!pip install mnist` given below.\n",
    "It can be run both from the command line and Jupyter Notebook."
   ]
  },
  {
   "cell_type": "code",
   "execution_count": 1,
   "id": "british-texture",
   "metadata": {
    "execution": {
     "iopub.execute_input": "2021-02-17T10:04:52.684160Z",
     "iopub.status.busy": "2021-02-17T10:04:52.683553Z",
     "iopub.status.idle": "2021-02-17T10:04:54.115453Z",
     "shell.execute_reply": "2021-02-17T10:04:54.116258Z"
    },
    "papermill": {
     "duration": 1.47141,
     "end_time": "2021-02-17T10:04:54.116448",
     "exception": false,
     "start_time": "2021-02-17T10:04:52.645038",
     "status": "completed"
    },
    "tags": []
   },
   "outputs": [
    {
     "name": "stdout",
     "output_type": "stream",
     "text": [
      "Collecting mnist\r\n"
     ]
    },
    {
     "name": "stdout",
     "output_type": "stream",
     "text": [
      "  Downloading mnist-0.2.2-py2.py3-none-any.whl (3.5 kB)\r\n",
      "Requirement already satisfied: numpy in /opt/hostedtoolcache/Python/3.6.12/x64/lib/python3.6/site-packages (from mnist) (1.19.5)\r\n"
     ]
    },
    {
     "name": "stdout",
     "output_type": "stream",
     "text": [
      "Installing collected packages: mnist\r\n"
     ]
    },
    {
     "name": "stdout",
     "output_type": "stream",
     "text": [
      "Successfully installed mnist-0.2.2\r\n"
     ]
    }
   ],
   "source": [
    "!pip install mnist "
   ]
  },
  {
   "cell_type": "markdown",
   "id": "stunning-extra",
   "metadata": {
    "papermill": {
     "duration": 0.029014,
     "end_time": "2021-02-17T10:04:54.174601",
     "exception": false,
     "start_time": "2021-02-17T10:04:54.145587",
     "status": "completed"
    },
    "tags": []
   },
   "source": [
    "#### Importing necessary libraries"
   ]
  },
  {
   "cell_type": "code",
   "execution_count": 2,
   "id": "wooden-france",
   "metadata": {
    "execution": {
     "iopub.execute_input": "2021-02-17T10:04:54.240736Z",
     "iopub.status.busy": "2021-02-17T10:04:54.240106Z",
     "iopub.status.idle": "2021-02-17T10:04:54.817387Z",
     "shell.execute_reply": "2021-02-17T10:04:54.816617Z"
    },
    "papermill": {
     "duration": 0.613826,
     "end_time": "2021-02-17T10:04:54.817523",
     "exception": false,
     "start_time": "2021-02-17T10:04:54.203697",
     "status": "completed"
    },
    "tags": []
   },
   "outputs": [],
   "source": [
    "%load_ext autoreload\n",
    "%autoreload 2\n",
    "\n",
    "%matplotlib inline\n",
    "import matplotlib.pyplot as plt\n",
    "\n",
    "import numpy as np\n",
    "import pandas as pd"
   ]
  },
  {
   "cell_type": "markdown",
   "id": "stunning-physics",
   "metadata": {
    "papermill": {
     "duration": 0.028816,
     "end_time": "2021-02-17T10:04:54.875787",
     "exception": false,
     "start_time": "2021-02-17T10:04:54.846971",
     "status": "completed"
    },
    "tags": []
   },
   "source": [
    "### Preparing the Data"
   ]
  },
  {
   "cell_type": "code",
   "execution_count": 3,
   "id": "unauthorized-remainder",
   "metadata": {
    "execution": {
     "iopub.execute_input": "2021-02-17T10:04:54.938197Z",
     "iopub.status.busy": "2021-02-17T10:04:54.937705Z",
     "iopub.status.idle": "2021-02-17T10:04:54.948620Z",
     "shell.execute_reply": "2021-02-17T10:04:54.949173Z"
    },
    "papermill": {
     "duration": 0.045513,
     "end_time": "2021-02-17T10:04:54.949311",
     "exception": false,
     "start_time": "2021-02-17T10:04:54.903798",
     "status": "completed"
    },
    "tags": []
   },
   "outputs": [],
   "source": [
    "import mnist"
   ]
  },
  {
   "cell_type": "code",
   "execution_count": 4,
   "id": "correct-antarctica",
   "metadata": {
    "execution": {
     "iopub.execute_input": "2021-02-17T10:04:55.006744Z",
     "iopub.status.busy": "2021-02-17T10:04:55.006206Z",
     "iopub.status.idle": "2021-02-17T10:04:55.754167Z",
     "shell.execute_reply": "2021-02-17T10:04:55.753337Z"
    },
    "papermill": {
     "duration": 0.777656,
     "end_time": "2021-02-17T10:04:55.754371",
     "exception": false,
     "start_time": "2021-02-17T10:04:54.976715",
     "status": "completed"
    },
    "tags": []
   },
   "outputs": [],
   "source": [
    "train_images = mnist.train_images()\n",
    "train_labels = mnist.train_labels()"
   ]
  },
  {
   "cell_type": "code",
   "execution_count": 5,
   "id": "musical-prospect",
   "metadata": {
    "execution": {
     "iopub.execute_input": "2021-02-17T10:04:55.816549Z",
     "iopub.status.busy": "2021-02-17T10:04:55.815929Z",
     "iopub.status.idle": "2021-02-17T10:04:55.832295Z",
     "shell.execute_reply": "2021-02-17T10:04:55.832748Z"
    },
    "papermill": {
     "duration": 0.048531,
     "end_time": "2021-02-17T10:04:55.832881",
     "exception": false,
     "start_time": "2021-02-17T10:04:55.784350",
     "status": "completed"
    },
    "tags": []
   },
   "outputs": [
    {
     "data": {
      "text/plain": [
       "((60000, 28, 28), (60000,))"
      ]
     },
     "execution_count": 5,
     "metadata": {},
     "output_type": "execute_result"
    }
   ],
   "source": [
    "train_images.shape, train_labels.shape"
   ]
  },
  {
   "cell_type": "code",
   "execution_count": 6,
   "id": "preliminary-elizabeth",
   "metadata": {
    "execution": {
     "iopub.execute_input": "2021-02-17T10:04:55.897299Z",
     "iopub.status.busy": "2021-02-17T10:04:55.896712Z",
     "iopub.status.idle": "2021-02-17T10:04:56.169696Z",
     "shell.execute_reply": "2021-02-17T10:04:56.168894Z"
    },
    "papermill": {
     "duration": 0.306587,
     "end_time": "2021-02-17T10:04:56.169891",
     "exception": false,
     "start_time": "2021-02-17T10:04:55.863304",
     "status": "completed"
    },
    "tags": []
   },
   "outputs": [],
   "source": [
    "test_images = mnist.test_images()\n",
    "test_labels = mnist.test_labels()"
   ]
  },
  {
   "cell_type": "code",
   "execution_count": 7,
   "id": "acknowledged-oxygen",
   "metadata": {
    "execution": {
     "iopub.execute_input": "2021-02-17T10:04:56.232641Z",
     "iopub.status.busy": "2021-02-17T10:04:56.232015Z",
     "iopub.status.idle": "2021-02-17T10:04:56.247240Z",
     "shell.execute_reply": "2021-02-17T10:04:56.246763Z"
    },
    "papermill": {
     "duration": 0.048025,
     "end_time": "2021-02-17T10:04:56.247354",
     "exception": false,
     "start_time": "2021-02-17T10:04:56.199329",
     "status": "completed"
    },
    "tags": []
   },
   "outputs": [
    {
     "data": {
      "text/plain": [
       "((10000, 28, 28), (10000,))"
      ]
     },
     "execution_count": 7,
     "metadata": {},
     "output_type": "execute_result"
    }
   ],
   "source": [
    "test_images.shape, test_labels.shape"
   ]
  },
  {
   "cell_type": "code",
   "execution_count": 8,
   "id": "innovative-organic",
   "metadata": {
    "execution": {
     "iopub.execute_input": "2021-02-17T10:04:56.314886Z",
     "iopub.status.busy": "2021-02-17T10:04:56.313760Z",
     "iopub.status.idle": "2021-02-17T10:04:56.458084Z",
     "shell.execute_reply": "2021-02-17T10:04:56.457532Z"
    },
    "papermill": {
     "duration": 0.18238,
     "end_time": "2021-02-17T10:04:56.458213",
     "exception": false,
     "start_time": "2021-02-17T10:04:56.275833",
     "status": "completed"
    },
    "tags": []
   },
   "outputs": [
    {
     "name": "stdout",
     "output_type": "stream",
     "text": [
      "2\n"
     ]
    },
    {
     "data": {
      "text/plain": [
       "<matplotlib.image.AxesImage at 0x7f61e5811320>"
      ]
     },
     "execution_count": 8,
     "metadata": {},
     "output_type": "execute_result"
    },
    {
     "data": {
      "image/png": "[encoded data removed]",
      "text/plain": [
       "<Figure size 432x288 with 1 Axes>"
      ]
     },
     "metadata": {
      "needs_background": "light"
     },
     "output_type": "display_data"
    }
   ],
   "source": [
    "image_index = 7776 # You may select anything up to 60,000\n",
    "print(train_labels[image_index]) \n",
    "plt.imshow(train_images[image_index], cmap='Greys')"
   ]
  },
  {
   "cell_type": "markdown",
   "id": "facial-modem",
   "metadata": {
    "papermill": {
     "duration": 0.02808,
     "end_time": "2021-02-17T10:04:56.514836",
     "exception": false,
     "start_time": "2021-02-17T10:04:56.486756",
     "status": "completed"
    },
    "tags": []
   },
   "source": [
    "## Filter data to get 3 and 8 out"
   ]
  },
  {
   "cell_type": "code",
   "execution_count": 9,
   "id": "thousand-acquisition",
   "metadata": {
    "execution": {
     "iopub.execute_input": "2021-02-17T10:04:56.581505Z",
     "iopub.status.busy": "2021-02-17T10:04:56.580989Z",
     "iopub.status.idle": "2021-02-17T10:04:56.591517Z",
     "shell.execute_reply": "2021-02-17T10:04:56.591025Z"
    },
    "papermill": {
     "duration": 0.051041,
     "end_time": "2021-02-17T10:04:56.591646",
     "exception": false,
     "start_time": "2021-02-17T10:04:56.540605",
     "status": "completed"
    },
    "tags": []
   },
   "outputs": [],
   "source": [
    "train_filter = np.where((train_labels == 3 ) | (train_labels == 8))\n",
    "test_filter = np.where((test_labels == 3) | (test_labels == 8))\n",
    "X_train, y_train = train_images[train_filter], train_labels[train_filter]\n",
    "X_test, y_test = test_images[test_filter], test_labels[test_filter]"
   ]
  },
  {
   "cell_type": "markdown",
   "id": "ruled-access",
   "metadata": {
    "papermill": {
     "duration": 0.025701,
     "end_time": "2021-02-17T10:04:56.644313",
     "exception": false,
     "start_time": "2021-02-17T10:04:56.618612",
     "status": "completed"
    },
    "tags": []
   },
   "source": [
    "We normalize the pixel values in the 0 to 1 range"
   ]
  },
  {
   "cell_type": "code",
   "execution_count": 10,
   "id": "isolated-denver",
   "metadata": {
    "execution": {
     "iopub.execute_input": "2021-02-17T10:04:56.700268Z",
     "iopub.status.busy": "2021-02-17T10:04:56.699702Z",
     "iopub.status.idle": "2021-02-17T10:04:56.752911Z",
     "shell.execute_reply": "2021-02-17T10:04:56.751976Z"
    },
    "papermill": {
     "duration": 0.083412,
     "end_time": "2021-02-17T10:04:56.753122",
     "exception": false,
     "start_time": "2021-02-17T10:04:56.669710",
     "status": "completed"
    },
    "tags": []
   },
   "outputs": [],
   "source": [
    "X_train = X_train/255.\n",
    "X_test = X_test/255."
   ]
  },
  {
   "cell_type": "markdown",
   "id": "perfect-summary",
   "metadata": {
    "papermill": {
     "duration": 0.026247,
     "end_time": "2021-02-17T10:04:56.807982",
     "exception": false,
     "start_time": "2021-02-17T10:04:56.781735",
     "status": "completed"
    },
    "tags": []
   },
   "source": [
    "Setup the labels as 1 (when the digit is 3) and 0 (when the digit is 8)"
   ]
  },
  {
   "cell_type": "code",
   "execution_count": 11,
   "id": "personalized-growing",
   "metadata": {
    "execution": {
     "iopub.execute_input": "2021-02-17T10:04:56.869231Z",
     "iopub.status.busy": "2021-02-17T10:04:56.868703Z",
     "iopub.status.idle": "2021-02-17T10:04:56.884483Z",
     "shell.execute_reply": "2021-02-17T10:04:56.884035Z"
    },
    "papermill": {
     "duration": 0.049243,
     "end_time": "2021-02-17T10:04:56.884587",
     "exception": false,
     "start_time": "2021-02-17T10:04:56.835344",
     "status": "completed"
    },
    "tags": []
   },
   "outputs": [],
   "source": [
    "y_train = 1*(y_train==3)\n",
    "y_test = 1*(y_test==3)"
   ]
  },
  {
   "cell_type": "code",
   "execution_count": 12,
   "id": "considered-virgin",
   "metadata": {
    "execution": {
     "iopub.execute_input": "2021-02-17T10:04:56.941317Z",
     "iopub.status.busy": "2021-02-17T10:04:56.940778Z",
     "iopub.status.idle": "2021-02-17T10:04:56.955207Z",
     "shell.execute_reply": "2021-02-17T10:04:56.955674Z"
    },
    "papermill": {
     "duration": 0.044327,
     "end_time": "2021-02-17T10:04:56.955797",
     "exception": false,
     "start_time": "2021-02-17T10:04:56.911470",
     "status": "completed"
    },
    "tags": []
   },
   "outputs": [
    {
     "data": {
      "text/plain": [
       "((11982, 28, 28), (1984, 28, 28))"
      ]
     },
     "execution_count": 12,
     "metadata": {},
     "output_type": "execute_result"
    }
   ],
   "source": [
    "X_train.shape, X_test.shape"
   ]
  },
  {
   "cell_type": "markdown",
   "id": "civilian-mobile",
   "metadata": {
    "papermill": {
     "duration": 0.025783,
     "end_time": "2021-02-17T10:04:57.006846",
     "exception": false,
     "start_time": "2021-02-17T10:04:56.981063",
     "status": "completed"
    },
    "tags": []
   },
   "source": [
    "### Reshape the input data to create a linear array"
   ]
  },
  {
   "cell_type": "code",
   "execution_count": 13,
   "id": "colonial-adams",
   "metadata": {
    "execution": {
     "iopub.execute_input": "2021-02-17T10:04:57.065036Z",
     "iopub.status.busy": "2021-02-17T10:04:57.064554Z",
     "iopub.status.idle": "2021-02-17T10:04:57.079189Z",
     "shell.execute_reply": "2021-02-17T10:04:57.078801Z"
    },
    "papermill": {
     "duration": 0.047193,
     "end_time": "2021-02-17T10:04:57.079290",
     "exception": false,
     "start_time": "2021-02-17T10:04:57.032097",
     "status": "completed"
    },
    "tags": []
   },
   "outputs": [
    {
     "data": {
      "text/plain": [
       "((11982, 784), (1984, 784))"
      ]
     },
     "execution_count": 13,
     "metadata": {},
     "output_type": "execute_result"
    }
   ],
   "source": [
    "X_train = X_train.reshape(X_train.shape[0], -1)\n",
    "X_test = X_test.reshape(X_test.shape[0], -1)\n",
    "X_train.shape, X_test.shape"
   ]
  },
  {
   "cell_type": "markdown",
   "id": "smart-details",
   "metadata": {
    "papermill": {
     "duration": 0.027872,
     "end_time": "2021-02-17T10:04:57.134373",
     "exception": false,
     "start_time": "2021-02-17T10:04:57.106501",
     "status": "completed"
    },
    "tags": []
   },
   "source": [
    "### Importing appropriate functions from 'Kudzu'"
   ]
  },
  {
   "cell_type": "code",
   "execution_count": 14,
   "id": "celtic-trial",
   "metadata": {
    "execution": {
     "iopub.execute_input": "2021-02-17T10:04:57.194928Z",
     "iopub.status.busy": "2021-02-17T10:04:57.194403Z",
     "iopub.status.idle": "2021-02-17T10:04:57.213751Z",
     "shell.execute_reply": "2021-02-17T10:04:57.213166Z"
    },
    "papermill": {
     "duration": 0.051224,
     "end_time": "2021-02-17T10:04:57.213898",
     "exception": false,
     "start_time": "2021-02-17T10:04:57.162674",
     "status": "completed"
    },
    "tags": []
   },
   "outputs": [],
   "source": [
    "from kudzu.layer import Sigmoid\n",
    "from kudzu.layer import Relu\n",
    "from kudzu.layer import Affine, Sigmoid\n",
    "\n",
    "from kudzu.model import Model\n",
    "from kudzu.train import Learner\n",
    "from kudzu.optim import GD\n",
    "from kudzu.data import Data, Dataloader, Sampler\n",
    "\n",
    "from kudzu.callbacks import AccCallback\n",
    "from kudzu.callbacks import ClfCallback\n",
    "\n",
    "from kudzu.loss import MSE"
   ]
  },
  {
   "cell_type": "markdown",
   "id": "coupled-customer",
   "metadata": {
    "papermill": {
     "duration": 0.029048,
     "end_time": "2021-02-17T10:04:57.271372",
     "exception": false,
     "start_time": "2021-02-17T10:04:57.242324",
     "status": "completed"
    },
    "tags": []
   },
   "source": [
    "### Let us create a `Config` class, to store important parameters. \n",
    "This class essentially plays the role of a dictionary."
   ]
  },
  {
   "cell_type": "code",
   "execution_count": 15,
   "id": "young-ceiling",
   "metadata": {
    "execution": {
     "iopub.execute_input": "2021-02-17T10:04:57.333533Z",
     "iopub.status.busy": "2021-02-17T10:04:57.332965Z",
     "iopub.status.idle": "2021-02-17T10:04:57.346571Z",
     "shell.execute_reply": "2021-02-17T10:04:57.346159Z"
    },
    "papermill": {
     "duration": 0.046863,
     "end_time": "2021-02-17T10:04:57.346670",
     "exception": false,
     "start_time": "2021-02-17T10:04:57.299807",
     "status": "completed"
    },
    "tags": []
   },
   "outputs": [],
   "source": [
    "class Config:\n",
    "    pass\n",
    "config = Config()\n",
    "config.lr = 0.001\n",
    "config.num_epochs = 251\n",
    "config.bs = 50"
   ]
  },
  {
   "cell_type": "markdown",
   "id": "according-mandate",
   "metadata": {
    "papermill": {
     "duration": 0.027362,
     "end_time": "2021-02-17T10:04:57.402284",
     "exception": false,
     "start_time": "2021-02-17T10:04:57.374922",
     "status": "completed"
    },
    "tags": []
   },
   "source": [
    "### Initializing data to the variables"
   ]
  },
  {
   "cell_type": "code",
   "execution_count": 16,
   "id": "academic-disposition",
   "metadata": {
    "execution": {
     "iopub.execute_input": "2021-02-17T10:04:57.464029Z",
     "iopub.status.busy": "2021-02-17T10:04:57.463431Z",
     "iopub.status.idle": "2021-02-17T10:04:57.476590Z",
     "shell.execute_reply": "2021-02-17T10:04:57.476080Z"
    },
    "papermill": {
     "duration": 0.047105,
     "end_time": "2021-02-17T10:04:57.476714",
     "exception": false,
     "start_time": "2021-02-17T10:04:57.429609",
     "status": "completed"
    },
    "tags": []
   },
   "outputs": [],
   "source": [
    "data = Data(X_train, y_train.reshape(-1,1))\n",
    "sampler = Sampler(data, config.bs, shuffle=True)\n",
    "\n",
    "dl = Dataloader(data, sampler)\n",
    "\n",
    "opt = GD(config.lr)\n",
    "loss = MSE()"
   ]
  },
  {
   "cell_type": "code",
   "execution_count": 17,
   "id": "featured-commission",
   "metadata": {
    "execution": {
     "iopub.execute_input": "2021-02-17T10:04:57.541459Z",
     "iopub.status.busy": "2021-02-17T10:04:57.540896Z",
     "iopub.status.idle": "2021-02-17T10:04:57.551694Z",
     "shell.execute_reply": "2021-02-17T10:04:57.551304Z"
    },
    "papermill": {
     "duration": 0.047861,
     "end_time": "2021-02-17T10:04:57.551795",
     "exception": false,
     "start_time": "2021-02-17T10:04:57.503934",
     "status": "completed"
    },
    "tags": []
   },
   "outputs": [],
   "source": [
    "training_xdata = X_train\n",
    "testing_xdata = X_test\n",
    "training_ydata = y_train.reshape(-1,1)\n",
    "testing_ydata = y_test.reshape(-1,1)"
   ]
  },
  {
   "cell_type": "markdown",
   "id": "played-safety",
   "metadata": {
    "papermill": {
     "duration": 0.028226,
     "end_time": "2021-02-17T10:04:57.608801",
     "exception": false,
     "start_time": "2021-02-17T10:04:57.580575",
     "status": "completed"
    },
    "tags": []
   },
   "source": [
    "### Running Models with the Training data\n",
    "Details about the network layers:\n",
    "- A first affine layer has 784 inputs and does 100 affine transforms. These are followed by a Relu\n",
    "- A second affine layer has 100 inputs from the 100 activations of the past layer, and does 100 affine transforms. These are followed by a Relu\n",
    "- A third affine layer has 100 activations and does 2 affine transformations to create an embedding for visualization. There is no non-linearity here.\n",
    "- A final \"logistic regression\" which has an affine transform from 2 inputs to 1 output, which is squeezed through a sigmoid.\n",
    "\n",
    "Help taken from Anshuman's Notebook."
   ]
  },
  {
   "cell_type": "code",
   "execution_count": 18,
   "id": "asian-bankruptcy",
   "metadata": {
    "execution": {
     "iopub.execute_input": "2021-02-17T10:04:57.667702Z",
     "iopub.status.busy": "2021-02-17T10:04:57.667100Z",
     "iopub.status.idle": "2021-02-17T10:04:57.682264Z",
     "shell.execute_reply": "2021-02-17T10:04:57.681765Z"
    },
    "papermill": {
     "duration": 0.04733,
     "end_time": "2021-02-17T10:04:57.682384",
     "exception": false,
     "start_time": "2021-02-17T10:04:57.635054",
     "status": "completed"
    },
    "tags": []
   },
   "outputs": [],
   "source": [
    "# layers for the Neural Network\n",
    "layers = [Affine(\"first\", 784, 100), Relu(\"first\"), Affine(\"second\", 100, 100), Relu(\"second\"), Affine(\"third\", 100, 2), Affine(\"final\", 2, 1), Sigmoid(\"final\")]\n",
    "model_nn = Model(layers)\n",
    "\n",
    "# layers for the Logistic Regression\n",
    "layers_lr = [Affine(\"logits\", 784, 1), Sigmoid(\"sigmoid\")]\n",
    "model_lr = Model(layers_lr)"
   ]
  },
  {
   "cell_type": "code",
   "execution_count": 19,
   "id": "removed-butler",
   "metadata": {
    "execution": {
     "iopub.execute_input": "2021-02-17T10:04:57.744288Z",
     "iopub.status.busy": "2021-02-17T10:04:57.743751Z",
     "iopub.status.idle": "2021-02-17T10:04:57.755924Z",
     "shell.execute_reply": "2021-02-17T10:04:57.756439Z"
    },
    "papermill": {
     "duration": 0.045547,
     "end_time": "2021-02-17T10:04:57.756566",
     "exception": false,
     "start_time": "2021-02-17T10:04:57.711019",
     "status": "completed"
    },
    "tags": []
   },
   "outputs": [],
   "source": [
    "# suffix _nn stands for Neural Network.\n",
    "learner_nn = Learner(loss, model_nn, opt, config.num_epochs)\n",
    "acc_nn = ClfCallback(learner_nn, config.bs, training_xdata , testing_xdata, training_ydata, testing_ydata)\n",
    "learner_nn.set_callbacks([acc_nn])"
   ]
  },
  {
   "cell_type": "code",
   "execution_count": 20,
   "id": "conceptual-throw",
   "metadata": {
    "execution": {
     "iopub.execute_input": "2021-02-17T10:04:57.818493Z",
     "iopub.status.busy": "2021-02-17T10:04:57.818004Z",
     "iopub.status.idle": "2021-02-17T10:06:22.126932Z",
     "shell.execute_reply": "2021-02-17T10:06:22.127730Z"
    },
    "papermill": {
     "duration": 84.344153,
     "end_time": "2021-02-17T10:06:22.127887",
     "exception": false,
     "start_time": "2021-02-17T10:04:57.783734",
     "status": "completed"
    },
    "tags": []
   },
   "outputs": [
    {
     "name": "stdout",
     "output_type": "stream",
     "text": [
      "====== Neural Network ======\n"
     ]
    },
    {
     "name": "stdout",
     "output_type": "stream",
     "text": [
      "Epoch 0, Loss 0.2565\n",
      "Training Accuracy: 0.4958, Testing Accuracy: 0.4929\n",
      "\n"
     ]
    },
    {
     "name": "stdout",
     "output_type": "stream",
     "text": [
      "Epoch 10, Loss 0.1526\n",
      "Training Accuracy: 0.8968, Testing Accuracy: 0.9052\n",
      "\n"
     ]
    },
    {
     "name": "stdout",
     "output_type": "stream",
     "text": [
      "Epoch 20, Loss 0.0776\n",
      "Training Accuracy: 0.9234, Testing Accuracy: 0.9340\n",
      "\n"
     ]
    },
    {
     "name": "stdout",
     "output_type": "stream",
     "text": [
      "Epoch 30, Loss 0.0552\n",
      "Training Accuracy: 0.9386, Testing Accuracy: 0.9496\n",
      "\n"
     ]
    },
    {
     "name": "stdout",
     "output_type": "stream",
     "text": [
      "Epoch 40, Loss 0.0454\n",
      "Training Accuracy: 0.9468, Testing Accuracy: 0.9577\n",
      "\n"
     ]
    },
    {
     "name": "stdout",
     "output_type": "stream",
     "text": [
      "Epoch 50, Loss 0.0398\n",
      "Training Accuracy: 0.9541, Testing Accuracy: 0.9627\n",
      "\n"
     ]
    },
    {
     "name": "stdout",
     "output_type": "stream",
     "text": [
      "Epoch 60, Loss 0.0362\n",
      "Training Accuracy: 0.9576, Testing Accuracy: 0.9647\n",
      "\n"
     ]
    },
    {
     "name": "stdout",
     "output_type": "stream",
     "text": [
      "Epoch 70, Loss 0.0337\n",
      "Training Accuracy: 0.9606, Testing Accuracy: 0.9672\n",
      "\n"
     ]
    },
    {
     "name": "stdout",
     "output_type": "stream",
     "text": [
      "Epoch 80, Loss 0.0317\n",
      "Training Accuracy: 0.9631, Testing Accuracy: 0.9662\n",
      "\n"
     ]
    },
    {
     "name": "stdout",
     "output_type": "stream",
     "text": [
      "Epoch 90, Loss 0.0301\n",
      "Training Accuracy: 0.9647, Testing Accuracy: 0.9703\n",
      "\n"
     ]
    },
    {
     "name": "stdout",
     "output_type": "stream",
     "text": [
      "Epoch 100, Loss 0.0289\n",
      "Training Accuracy: 0.9667, Testing Accuracy: 0.9718\n",
      "\n"
     ]
    },
    {
     "name": "stdout",
     "output_type": "stream",
     "text": [
      "Epoch 110, Loss 0.0278\n",
      "Training Accuracy: 0.9675, Testing Accuracy: 0.9728\n",
      "\n"
     ]
    },
    {
     "name": "stdout",
     "output_type": "stream",
     "text": [
      "Epoch 120, Loss 0.0268\n",
      "Training Accuracy: 0.9682, Testing Accuracy: 0.9718\n",
      "\n"
     ]
    },
    {
     "name": "stdout",
     "output_type": "stream",
     "text": [
      "Epoch 130, Loss 0.026\n",
      "Training Accuracy: 0.9690, Testing Accuracy: 0.9723\n",
      "\n"
     ]
    },
    {
     "name": "stdout",
     "output_type": "stream",
     "text": [
      "Epoch 140, Loss 0.0252\n",
      "Training Accuracy: 0.9703, Testing Accuracy: 0.9738\n",
      "\n"
     ]
    },
    {
     "name": "stdout",
     "output_type": "stream",
     "text": [
      "Epoch 150, Loss 0.0245\n",
      "Training Accuracy: 0.9714, Testing Accuracy: 0.9733\n",
      "\n"
     ]
    },
    {
     "name": "stdout",
     "output_type": "stream",
     "text": [
      "Epoch 160, Loss 0.0239\n",
      "Training Accuracy: 0.9720, Testing Accuracy: 0.9738\n",
      "\n"
     ]
    },
    {
     "name": "stdout",
     "output_type": "stream",
     "text": [
      "Epoch 170, Loss 0.0234\n",
      "Training Accuracy: 0.9728, Testing Accuracy: 0.9738\n",
      "\n"
     ]
    },
    {
     "name": "stdout",
     "output_type": "stream",
     "text": [
      "Epoch 180, Loss 0.0228\n",
      "Training Accuracy: 0.9733, Testing Accuracy: 0.9738\n",
      "\n"
     ]
    },
    {
     "name": "stdout",
     "output_type": "stream",
     "text": [
      "Epoch 190, Loss 0.0223\n",
      "Training Accuracy: 0.9741, Testing Accuracy: 0.9743\n",
      "\n"
     ]
    },
    {
     "name": "stdout",
     "output_type": "stream",
     "text": [
      "Epoch 200, Loss 0.0219\n",
      "Training Accuracy: 0.9745, Testing Accuracy: 0.9738\n",
      "\n"
     ]
    },
    {
     "name": "stdout",
     "output_type": "stream",
     "text": [
      "Epoch 210, Loss 0.0215\n",
      "Training Accuracy: 0.9750, Testing Accuracy: 0.9733\n",
      "\n"
     ]
    },
    {
     "name": "stdout",
     "output_type": "stream",
     "text": [
      "Epoch 220, Loss 0.0211\n",
      "Training Accuracy: 0.9756, Testing Accuracy: 0.9738\n",
      "\n"
     ]
    },
    {
     "name": "stdout",
     "output_type": "stream",
     "text": [
      "Epoch 230, Loss 0.0207\n",
      "Training Accuracy: 0.9759, Testing Accuracy: 0.9733\n",
      "\n"
     ]
    },
    {
     "name": "stdout",
     "output_type": "stream",
     "text": [
      "Epoch 240, Loss 0.0203\n",
      "Training Accuracy: 0.9765, Testing Accuracy: 0.9743\n",
      "\n"
     ]
    },
    {
     "name": "stdout",
     "output_type": "stream",
     "text": [
      "Epoch 250, Loss 0.0199\n",
      "Training Accuracy: 0.9764, Testing Accuracy: 0.9743\n",
      "\n"
     ]
    },
    {
     "data": {
      "text/plain": [
       "0.011874024491222697"
      ]
     },
     "execution_count": 20,
     "metadata": {},
     "output_type": "execute_result"
    }
   ],
   "source": [
    "print(\"====== Neural Network ======\")\n",
    "learner_nn.train_loop(dl)"
   ]
  },
  {
   "cell_type": "markdown",
   "id": "competent-suffering",
   "metadata": {
    "papermill": {
     "duration": 0.037169,
     "end_time": "2021-02-17T10:06:22.205644",
     "exception": false,
     "start_time": "2021-02-17T10:06:22.168475",
     "status": "completed"
    },
    "tags": []
   },
   "source": [
    "### Logistic Regression based Implementation."
   ]
  },
  {
   "cell_type": "code",
   "execution_count": 21,
   "id": "qualified-psychiatry",
   "metadata": {
    "execution": {
     "iopub.execute_input": "2021-02-17T10:06:22.283419Z",
     "iopub.status.busy": "2021-02-17T10:06:22.282553Z",
     "iopub.status.idle": "2021-02-17T10:06:22.294164Z",
     "shell.execute_reply": "2021-02-17T10:06:22.293651Z"
    },
    "papermill": {
     "duration": 0.051691,
     "end_time": "2021-02-17T10:06:22.294280",
     "exception": false,
     "start_time": "2021-02-17T10:06:22.242589",
     "status": "completed"
    },
    "tags": []
   },
   "outputs": [],
   "source": [
    "learner_lr = Learner(loss, model_lr, opt, config.num_epochs)\n",
    "acc_lr = ClfCallback(learner_lr, config.bs, training_xdata , testing_xdata, training_ydata, testing_ydata)\n",
    "learner_lr.set_callbacks([acc_lr])"
   ]
  },
  {
   "cell_type": "code",
   "execution_count": 22,
   "id": "average-outside",
   "metadata": {
    "execution": {
     "iopub.execute_input": "2021-02-17T10:06:22.374023Z",
     "iopub.status.busy": "2021-02-17T10:06:22.373439Z",
     "iopub.status.idle": "2021-02-17T10:06:37.116169Z",
     "shell.execute_reply": "2021-02-17T10:06:37.116966Z"
    },
    "papermill": {
     "duration": 14.786291,
     "end_time": "2021-02-17T10:06:37.117112",
     "exception": false,
     "start_time": "2021-02-17T10:06:22.330821",
     "status": "completed"
    },
    "tags": []
   },
   "outputs": [
    {
     "name": "stdout",
     "output_type": "stream",
     "text": [
      "====== Logistic Regression ======\n",
      "Epoch 0, Loss 0.2522\n",
      "Training Accuracy: 0.6634, Testing Accuracy: 0.6527\n",
      "\n"
     ]
    },
    {
     "name": "stdout",
     "output_type": "stream",
     "text": [
      "Epoch 10, Loss 0.1039\n",
      "Training Accuracy: 0.9104, Testing Accuracy: 0.9224\n",
      "\n"
     ]
    },
    {
     "name": "stdout",
     "output_type": "stream",
     "text": [
      "Epoch 20, Loss 0.0797\n",
      "Training Accuracy: 0.9296, Testing Accuracy: 0.9410\n",
      "\n"
     ]
    },
    {
     "name": "stdout",
     "output_type": "stream",
     "text": [
      "Epoch 30, Loss 0.0687\n",
      "Training Accuracy: 0.9357, Testing Accuracy: 0.9496\n",
      "\n"
     ]
    },
    {
     "name": "stdout",
     "output_type": "stream",
     "text": [
      "Epoch 40, Loss 0.0621\n",
      "Training Accuracy: 0.9409, Testing Accuracy: 0.9536\n",
      "\n"
     ]
    },
    {
     "name": "stdout",
     "output_type": "stream",
     "text": [
      "Epoch 50, Loss 0.0576\n",
      "Training Accuracy: 0.9435, Testing Accuracy: 0.9546\n",
      "\n"
     ]
    },
    {
     "name": "stdout",
     "output_type": "stream",
     "text": [
      "Epoch 60, Loss 0.0543\n",
      "Training Accuracy: 0.9460, Testing Accuracy: 0.9567\n",
      "\n"
     ]
    },
    {
     "name": "stdout",
     "output_type": "stream",
     "text": [
      "Epoch 70, Loss 0.0517\n",
      "Training Accuracy: 0.9479, Testing Accuracy: 0.9592\n",
      "\n"
     ]
    },
    {
     "name": "stdout",
     "output_type": "stream",
     "text": [
      "Epoch 80, Loss 0.0497\n",
      "Training Accuracy: 0.9496, Testing Accuracy: 0.9597\n",
      "\n"
     ]
    },
    {
     "name": "stdout",
     "output_type": "stream",
     "text": [
      "Epoch 90, Loss 0.048\n",
      "Training Accuracy: 0.9508, Testing Accuracy: 0.9597\n",
      "\n"
     ]
    },
    {
     "name": "stdout",
     "output_type": "stream",
     "text": [
      "Epoch 100, Loss 0.0465\n",
      "Training Accuracy: 0.9518, Testing Accuracy: 0.9617\n",
      "\n"
     ]
    },
    {
     "name": "stdout",
     "output_type": "stream",
     "text": [
      "Epoch 110, Loss 0.0453\n",
      "Training Accuracy: 0.9528, Testing Accuracy: 0.9642\n",
      "\n"
     ]
    },
    {
     "name": "stdout",
     "output_type": "stream",
     "text": [
      "Epoch 120, Loss 0.0442\n",
      "Training Accuracy: 0.9537, Testing Accuracy: 0.9647\n",
      "\n"
     ]
    },
    {
     "name": "stdout",
     "output_type": "stream",
     "text": [
      "Epoch 130, Loss 0.0433\n",
      "Training Accuracy: 0.9546, Testing Accuracy: 0.9642\n",
      "\n"
     ]
    },
    {
     "name": "stdout",
     "output_type": "stream",
     "text": [
      "Epoch 140, Loss 0.0424\n",
      "Training Accuracy: 0.9550, Testing Accuracy: 0.9642\n",
      "\n"
     ]
    },
    {
     "name": "stdout",
     "output_type": "stream",
     "text": [
      "Epoch 150, Loss 0.0416\n",
      "Training Accuracy: 0.9557, Testing Accuracy: 0.9647\n",
      "\n"
     ]
    },
    {
     "name": "stdout",
     "output_type": "stream",
     "text": [
      "Epoch 160, Loss 0.041\n",
      "Training Accuracy: 0.9565, Testing Accuracy: 0.9652\n",
      "\n"
     ]
    },
    {
     "name": "stdout",
     "output_type": "stream",
     "text": [
      "Epoch 170, Loss 0.0403\n",
      "Training Accuracy: 0.9571, Testing Accuracy: 0.9657\n",
      "\n"
     ]
    },
    {
     "name": "stdout",
     "output_type": "stream",
     "text": [
      "Epoch 180, Loss 0.0398\n",
      "Training Accuracy: 0.9580, Testing Accuracy: 0.9657\n",
      "\n"
     ]
    },
    {
     "name": "stdout",
     "output_type": "stream",
     "text": [
      "Epoch 190, Loss 0.0392\n",
      "Training Accuracy: 0.9588, Testing Accuracy: 0.9657\n",
      "\n"
     ]
    },
    {
     "name": "stdout",
     "output_type": "stream",
     "text": [
      "Epoch 200, Loss 0.0388\n",
      "Training Accuracy: 0.9591, Testing Accuracy: 0.9662\n",
      "\n"
     ]
    },
    {
     "name": "stdout",
     "output_type": "stream",
     "text": [
      "Epoch 210, Loss 0.0383\n",
      "Training Accuracy: 0.9595, Testing Accuracy: 0.9667\n",
      "\n"
     ]
    },
    {
     "name": "stdout",
     "output_type": "stream",
     "text": [
      "Epoch 220, Loss 0.0379\n",
      "Training Accuracy: 0.9599, Testing Accuracy: 0.9672\n",
      "\n"
     ]
    },
    {
     "name": "stdout",
     "output_type": "stream",
     "text": [
      "Epoch 230, Loss 0.0375\n",
      "Training Accuracy: 0.9606, Testing Accuracy: 0.9677\n",
      "\n"
     ]
    },
    {
     "name": "stdout",
     "output_type": "stream",
     "text": [
      "Epoch 240, Loss 0.0371\n",
      "Training Accuracy: 0.9609, Testing Accuracy: 0.9677\n",
      "\n"
     ]
    },
    {
     "name": "stdout",
     "output_type": "stream",
     "text": [
      "Epoch 250, Loss 0.0368\n",
      "Training Accuracy: 0.9609, Testing Accuracy: 0.9677\n",
      "\n"
     ]
    },
    {
     "data": {
      "text/plain": [
       "0.0302943164870272"
      ]
     },
     "execution_count": 22,
     "metadata": {},
     "output_type": "execute_result"
    }
   ],
   "source": [
    "print(\"====== Logistic Regression ======\")\n",
    "learner_lr.train_loop(dl)"
   ]
  },
  {
   "cell_type": "markdown",
   "id": "adjusted-possible",
   "metadata": {
    "papermill": {
     "duration": 0.042966,
     "end_time": "2021-02-17T10:06:37.203881",
     "exception": false,
     "start_time": "2021-02-17T10:06:37.160915",
     "status": "completed"
    },
    "tags": []
   },
   "source": [
    "### Comparing results of NN and LR"
   ]
  },
  {
   "cell_type": "code",
   "execution_count": 23,
   "id": "mental-multimedia",
   "metadata": {
    "execution": {
     "iopub.execute_input": "2021-02-17T10:06:37.294175Z",
     "iopub.status.busy": "2021-02-17T10:06:37.293115Z",
     "iopub.status.idle": "2021-02-17T10:06:37.515538Z",
     "shell.execute_reply": "2021-02-17T10:06:37.515905Z"
    },
    "papermill": {
     "duration": 0.269796,
     "end_time": "2021-02-17T10:06:37.516024",
     "exception": false,
     "start_time": "2021-02-17T10:06:37.246228",
     "status": "completed"
    },
    "tags": []
   },
   "outputs": [
    {
     "data": {
      "text/plain": [
       "<matplotlib.legend.Legend at 0x7f61dd365c50>"
      ]
     },
     "execution_count": 23,
     "metadata": {},
     "output_type": "execute_result"
    },
    {
     "data": {
      "image/png": "[encoded data removed]",
      "text/plain": [
       "<Figure size 1080x720 with 1 Axes>"
      ]
     },
     "metadata": {
      "needs_background": "light"
     },
     "output_type": "display_data"
    }
   ],
   "source": [
    "plt.figure(figsize=(15,10))\n",
    "\n",
    "# Neural Network plots\n",
    "plt.plot(acc_nn.accuracies, 'r-', label = \"Training Accuracies - NN\")\n",
    "plt.plot(acc_nn.test_accuracies, 'g-', label = \"Testing Accuracies - NN\")\n",
    "\n",
    "# Logistic Regression plots\n",
    "plt.plot(acc_lr.accuracies, 'k-', label = \"Training Accuracies - LR\")\n",
    "plt.plot(acc_lr.test_accuracies, 'b-', label = \"Testing Accuracies - LR\")\n",
    "\n",
    "plt.ylim(0.8, 1)\n",
    "\n",
    "plt.legend()\n",
    "\n"
   ]
  },
  {
   "cell_type": "markdown",
   "id": "sexual-flesh",
   "metadata": {
    "papermill": {
     "duration": 0.044326,
     "end_time": "2021-02-17T10:06:37.604740",
     "exception": false,
     "start_time": "2021-02-17T10:06:37.560414",
     "status": "completed"
    },
    "tags": []
   },
   "source": [
    "### From the plot, we can observe the following:\n",
    "- Neural Network achieves higher accuracy than the Logistic Regression model.\n",
    "- This apparently, is because of overfitting, i.e. NN captures more noise than data.\n",
    "- Testing accuracy of NN drops below the Training accuracy at higher epochs. This explains the over-fitting on training data.\n",
    "- Logistic Regression gives a reliable accuracy, without the above mentioned problem.\n"
   ]
  },
  {
   "cell_type": "markdown",
   "id": "institutional-pacific",
   "metadata": {
    "papermill": {
     "duration": 0.044177,
     "end_time": "2021-02-17T10:06:37.692502",
     "exception": false,
     "start_time": "2021-02-17T10:06:37.648325",
     "status": "completed"
    },
    "tags": []
   },
   "source": [
    "### Moving till the last but one layer (excluding it).\n",
    "#### Plotting the outputs of this layer of the NN."
   ]
  },
  {
   "cell_type": "code",
   "execution_count": 24,
   "id": "economic-server",
   "metadata": {
    "execution": {
     "iopub.execute_input": "2021-02-17T10:06:37.785109Z",
     "iopub.status.busy": "2021-02-17T10:06:37.784554Z",
     "iopub.status.idle": "2021-02-17T10:06:37.796123Z",
     "shell.execute_reply": "2021-02-17T10:06:37.796618Z"
    },
    "papermill": {
     "duration": 0.061779,
     "end_time": "2021-02-17T10:06:37.796749",
     "exception": false,
     "start_time": "2021-02-17T10:06:37.734970",
     "status": "completed"
    },
    "tags": []
   },
   "outputs": [],
   "source": [
    "model_new = Model(layers[:-2])"
   ]
  },
  {
   "cell_type": "code",
   "execution_count": 25,
   "id": "varied-upgrade",
   "metadata": {
    "execution": {
     "iopub.execute_input": "2021-02-17T10:06:37.887144Z",
     "iopub.status.busy": "2021-02-17T10:06:37.886547Z",
     "iopub.status.idle": "2021-02-17T10:06:37.905741Z",
     "shell.execute_reply": "2021-02-17T10:06:37.906246Z"
    },
    "papermill": {
     "duration": 0.066893,
     "end_time": "2021-02-17T10:06:37.906398",
     "exception": false,
     "start_time": "2021-02-17T10:06:37.839505",
     "status": "completed"
    },
    "tags": []
   },
   "outputs": [],
   "source": [
    "plot_testing = model_new(testing_xdata)"
   ]
  },
  {
   "cell_type": "code",
   "execution_count": 26,
   "id": "specific-handling",
   "metadata": {
    "execution": {
     "iopub.execute_input": "2021-02-17T10:06:38.001623Z",
     "iopub.status.busy": "2021-02-17T10:06:38.001115Z",
     "iopub.status.idle": "2021-02-17T10:06:38.199418Z",
     "shell.execute_reply": "2021-02-17T10:06:38.198877Z"
    },
    "papermill": {
     "duration": 0.246932,
     "end_time": "2021-02-17T10:06:38.199548",
     "exception": false,
     "start_time": "2021-02-17T10:06:37.952616",
     "status": "completed"
    },
    "tags": []
   },
   "outputs": [
    {
     "data": {
      "text/plain": [
       "Text(0.5, 1.0, 'Outputs')"
      ]
     },
     "execution_count": 26,
     "metadata": {},
     "output_type": "execute_result"
    },
    {
     "data": {
      "image/png": "[encoded data removed]",
      "text/plain": [
       "<Figure size 576x504 with 1 Axes>"
      ]
     },
     "metadata": {
      "needs_background": "light"
     },
     "output_type": "display_data"
    }
   ],
   "source": [
    "plt.figure(figsize=(8,7))\n",
    "plt.scatter(plot_testing[:,0], plot_testing[:,1], alpha = 0.1, c = y_test.ravel());\n",
    "plt.title('Outputs')"
   ]
  },
  {
   "cell_type": "markdown",
   "id": "described-knowing",
   "metadata": {
    "papermill": {
     "duration": 0.044326,
     "end_time": "2021-02-17T10:06:38.290655",
     "exception": false,
     "start_time": "2021-02-17T10:06:38.246329",
     "status": "completed"
    },
    "tags": []
   },
   "source": [
    "### Plotting probability contours"
   ]
  },
  {
   "cell_type": "code",
   "execution_count": 27,
   "id": "needed-growing",
   "metadata": {
    "execution": {
     "iopub.execute_input": "2021-02-17T10:06:38.388037Z",
     "iopub.status.busy": "2021-02-17T10:06:38.387440Z",
     "iopub.status.idle": "2021-02-17T10:06:38.402830Z",
     "shell.execute_reply": "2021-02-17T10:06:38.402354Z"
    },
    "papermill": {
     "duration": 0.064575,
     "end_time": "2021-02-17T10:06:38.402952",
     "exception": false,
     "start_time": "2021-02-17T10:06:38.338377",
     "status": "completed"
    },
    "tags": []
   },
   "outputs": [],
   "source": [
    "model_prob = Model(layers[-2:]) "
   ]
  },
  {
   "cell_type": "code",
   "execution_count": 28,
   "id": "introductory-enforcement",
   "metadata": {
    "execution": {
     "iopub.execute_input": "2021-02-17T10:06:38.503268Z",
     "iopub.status.busy": "2021-02-17T10:06:38.502693Z",
     "iopub.status.idle": "2021-02-17T10:06:38.517044Z",
     "shell.execute_reply": "2021-02-17T10:06:38.517410Z"
    },
    "papermill": {
     "duration": 0.068875,
     "end_time": "2021-02-17T10:06:38.517519",
     "exception": false,
     "start_time": "2021-02-17T10:06:38.448644",
     "status": "completed"
    },
    "tags": []
   },
   "outputs": [],
   "source": [
    "# Adjust the x and y ranges according to the above generated plot.\n",
    "x_range = np.linspace(-4, 1, 100) \n",
    "y_range = np.linspace(-6, 6, 100) \n",
    "x_grid, y_grid = np.meshgrid(x_range, y_range) # x_grid and y_grig are of size 100 X 100\n",
    "\n",
    "# converting x_grid and y_grid to continuous arrays\n",
    "x_grid_flat = np.ravel(x_grid)\n",
    "y_grid_flat = np.ravel(y_grid)\n",
    "\n",
    "# The last layer of the current model takes two columns as input. Hence transpose of np.vstack() is required.\n",
    "X = np.vstack((x_grid_flat, y_grid_flat)).T\n",
    "\n",
    "# x_grid and y_grid are of size 100 x 100\n",
    "probability_contour = model_prob(X).reshape(100,100) "
   ]
  },
  {
   "cell_type": "code",
   "execution_count": 29,
   "id": "understood-landing",
   "metadata": {
    "execution": {
     "iopub.execute_input": "2021-02-17T10:06:38.645612Z",
     "iopub.status.busy": "2021-02-17T10:06:38.645017Z",
     "iopub.status.idle": "2021-02-17T10:06:38.896245Z",
     "shell.execute_reply": "2021-02-17T10:06:38.895253Z"
    },
    "papermill": {
     "duration": 0.305332,
     "end_time": "2021-02-17T10:06:38.896444",
     "exception": false,
     "start_time": "2021-02-17T10:06:38.591112",
     "status": "completed"
    },
    "tags": []
   },
   "outputs": [
    {
     "data": {
      "image/png": "[encoded data removed]",
      "text/plain": [
       "<Figure size 720x648 with 1 Axes>"
      ]
     },
     "metadata": {
      "needs_background": "light"
     },
     "output_type": "display_data"
    }
   ],
   "source": [
    "plt.figure(figsize=(10,9))\n",
    "plt.scatter(plot_testing[:,0], plot_testing[:,1], alpha = 0.1, c = y_test.ravel())\n",
    "contours = plt.contour(x_grid,y_grid,probability_contour)\n",
    "plt.title('Probability Contours')\n",
    "plt.clabel(contours, inline = True );"
   ]
  }
 ],
 "metadata": {
  "kernelspec": {
   "display_name": "Python 3",
   "language": "python",
   "name": "python3"
  },
  "language_info": {
   "codemirror_mode": {
    "name": "ipython",
    "version": 3
   },
   "file_extension": ".py",
   "mimetype": "text/x-python",
   "name": "python",
   "nbconvert_exporter": "python",
   "pygments_lexer": "ipython3",
   "version": "3.6.12"
  },
  "papermill": {
   "duration": 107.885963,
   "end_time": "2021-02-17T10:06:39.359237",
   "environment_variables": {},
   "exception": null,
   "input_path": "2020-08-11-NeuralNetwork.ipynb",
   "output_path": "2020-08-11-NeuralNetwork.ipynb",
   "parameters": {},
   "start_time": "2021-02-17T10:04:51.473274",
   "version": "2.1.2"
  }
 },
 "nbformat": 4,
 "nbformat_minor": 5
}