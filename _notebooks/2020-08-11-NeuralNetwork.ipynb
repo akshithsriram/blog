{
 "cells": [
  {
   "cell_type": "markdown",
   "metadata": {
    "papermill": {
     "duration": 0.029586,
     "end_time": "2020-12-04T00:06:40.885500",
     "exception": false,
     "start_time": "2020-12-04T00:06:40.855914",
     "status": "completed"
    },
    "tags": []
   },
   "source": [
    "# \"A Basic Neural Network: Differentiate Hand-Written Digits\"\n",
    "\n",
    "- badges: true\n",
    "- author: Akshith Sriram"
   ]
  },
  {
   "cell_type": "markdown",
   "metadata": {
    "papermill": {
     "duration": 0.023155,
     "end_time": "2020-12-04T00:06:40.931569",
     "exception": false,
     "start_time": "2020-12-04T00:06:40.908414",
     "status": "completed"
    },
    "tags": []
   },
   "source": [
    "### Key Objectives:\n",
    "- Building a neural network that differentiates two hand-written digits 3 and 8.\n",
    "- Comparing the results of this Neural Network (NN) to that of a Logistic Regression (LR) model.\n",
    "\n",
    "### Requirements:\n",
    "- 'Kudzu' : A neural network library that was designed during our course by [Univ.AI](www.univ.ai). \n",
    "- MNIST Database\n",
    "\n",
    "If MNIST is not installed, use the command `!pip install mnist` given below.\n",
    "It can be run both from the command line and Jupyter Notebook."
   ]
  },
  {
   "cell_type": "code",
   "execution_count": 1,
   "metadata": {
    "execution": {
     "iopub.execute_input": "2020-12-04T00:06:40.985875Z",
     "iopub.status.busy": "2020-12-04T00:06:40.985267Z",
     "iopub.status.idle": "2020-12-04T00:06:42.415992Z",
     "shell.execute_reply": "2020-12-04T00:06:42.416641Z"
    },
    "papermill": {
     "duration": 1.46208,
     "end_time": "2020-12-04T00:06:42.416920",
     "exception": false,
     "start_time": "2020-12-04T00:06:40.954840",
     "status": "completed"
    },
    "tags": []
   },
   "outputs": [
    {
     "name": "stdout",
     "output_type": "stream",
     "text": [
      "Collecting mnist\r\n"
     ]
    },
    {
     "name": "stdout",
     "output_type": "stream",
     "text": [
      "  Downloading mnist-0.2.2-py2.py3-none-any.whl (3.5 kB)\r\n"
     ]
    },
    {
     "name": "stdout",
     "output_type": "stream",
     "text": [
      "Requirement already satisfied: numpy in /opt/hostedtoolcache/Python/3.6.12/x64/lib/python3.6/site-packages (from mnist) (1.19.4)\r\n"
     ]
    },
    {
     "name": "stdout",
     "output_type": "stream",
     "text": [
      "Installing collected packages: mnist\r\n",
      "Successfully installed mnist-0.2.2\r\n"
     ]
    },
    {
     "name": "stdout",
     "output_type": "stream",
     "text": [
      "\u001b[33mWARNING: You are using pip version 20.2.4; however, version 20.3.1 is available.\r\n",
      "You should consider upgrading via the '/opt/hostedtoolcache/Python/3.6.12/x64/bin/python -m pip install --upgrade pip' command.\u001b[0m\r\n"
     ]
    }
   ],
   "source": [
    "!pip install mnist "
   ]
  },
  {
   "cell_type": "markdown",
   "metadata": {
    "papermill": {
     "duration": 0.023333,
     "end_time": "2020-12-04T00:06:42.466499",
     "exception": false,
     "start_time": "2020-12-04T00:06:42.443166",
     "status": "completed"
    },
    "tags": []
   },
   "source": [
    "#### Importing necessary libraries"
   ]
  },
  {
   "cell_type": "code",
   "execution_count": 2,
   "metadata": {
    "execution": {
     "iopub.execute_input": "2020-12-04T00:06:42.523613Z",
     "iopub.status.busy": "2020-12-04T00:06:42.523025Z",
     "iopub.status.idle": "2020-12-04T00:06:43.046263Z",
     "shell.execute_reply": "2020-12-04T00:06:43.044782Z"
    },
    "papermill": {
     "duration": 0.555497,
     "end_time": "2020-12-04T00:06:43.046507",
     "exception": false,
     "start_time": "2020-12-04T00:06:42.491010",
     "status": "completed"
    },
    "tags": []
   },
   "outputs": [],
   "source": [
    "%load_ext autoreload\n",
    "%autoreload 2\n",
    "\n",
    "%matplotlib inline\n",
    "import matplotlib.pyplot as plt\n",
    "\n",
    "import numpy as np\n",
    "import pandas as pd"
   ]
  },
  {
   "cell_type": "markdown",
   "metadata": {
    "papermill": {
     "duration": 0.024571,
     "end_time": "2020-12-04T00:06:43.099206",
     "exception": false,
     "start_time": "2020-12-04T00:06:43.074635",
     "status": "completed"
    },
    "tags": []
   },
   "source": [
    "### Preparing the Data"
   ]
  },
  {
   "cell_type": "code",
   "execution_count": 3,
   "metadata": {
    "execution": {
     "iopub.execute_input": "2020-12-04T00:06:43.163162Z",
     "iopub.status.busy": "2020-12-04T00:06:43.152150Z",
     "iopub.status.idle": "2020-12-04T00:06:43.166785Z",
     "shell.execute_reply": "2020-12-04T00:06:43.166190Z"
    },
    "papermill": {
     "duration": 0.042261,
     "end_time": "2020-12-04T00:06:43.166900",
     "exception": false,
     "start_time": "2020-12-04T00:06:43.124639",
     "status": "completed"
    },
    "tags": []
   },
   "outputs": [],
   "source": [
    "import mnist"
   ]
  },
  {
   "cell_type": "code",
   "execution_count": 4,
   "metadata": {
    "execution": {
     "iopub.execute_input": "2020-12-04T00:06:43.225482Z",
     "iopub.status.busy": "2020-12-04T00:06:43.218557Z",
     "iopub.status.idle": "2020-12-04T00:06:43.918627Z",
     "shell.execute_reply": "2020-12-04T00:06:43.919457Z"
    },
    "papermill": {
     "duration": 0.727966,
     "end_time": "2020-12-04T00:06:43.919716",
     "exception": false,
     "start_time": "2020-12-04T00:06:43.191750",
     "status": "completed"
    },
    "tags": []
   },
   "outputs": [],
   "source": [
    "train_images = mnist.train_images()\n",
    "train_labels = mnist.train_labels()"
   ]
  },
  {
   "cell_type": "code",
   "execution_count": 5,
   "metadata": {
    "execution": {
     "iopub.execute_input": "2020-12-04T00:06:43.974208Z",
     "iopub.status.busy": "2020-12-04T00:06:43.973686Z",
     "iopub.status.idle": "2020-12-04T00:06:43.988138Z",
     "shell.execute_reply": "2020-12-04T00:06:43.987680Z"
    },
    "papermill": {
     "duration": 0.042902,
     "end_time": "2020-12-04T00:06:43.988253",
     "exception": false,
     "start_time": "2020-12-04T00:06:43.945351",
     "status": "completed"
    },
    "tags": []
   },
   "outputs": [
    {
     "data": {
      "text/plain": [
       "((60000, 28, 28), (60000,))"
      ]
     },
     "execution_count": 5,
     "metadata": {},
     "output_type": "execute_result"
    }
   ],
   "source": [
    "train_images.shape, train_labels.shape"
   ]
  },
  {
   "cell_type": "code",
   "execution_count": 6,
   "metadata": {
    "execution": {
     "iopub.execute_input": "2020-12-04T00:06:44.045468Z",
     "iopub.status.busy": "2020-12-04T00:06:44.044878Z",
     "iopub.status.idle": "2020-12-04T00:06:44.329124Z",
     "shell.execute_reply": "2020-12-04T00:06:44.328483Z"
    },
    "papermill": {
     "duration": 0.316739,
     "end_time": "2020-12-04T00:06:44.329279",
     "exception": false,
     "start_time": "2020-12-04T00:06:44.012540",
     "status": "completed"
    },
    "tags": []
   },
   "outputs": [],
   "source": [
    "test_images = mnist.test_images()\n",
    "test_labels = mnist.test_labels()"
   ]
  },
  {
   "cell_type": "code",
   "execution_count": 7,
   "metadata": {
    "execution": {
     "iopub.execute_input": "2020-12-04T00:06:44.385254Z",
     "iopub.status.busy": "2020-12-04T00:06:44.384682Z",
     "iopub.status.idle": "2020-12-04T00:06:44.398702Z",
     "shell.execute_reply": "2020-12-04T00:06:44.398199Z"
    },
    "papermill": {
     "duration": 0.042801,
     "end_time": "2020-12-04T00:06:44.398835",
     "exception": false,
     "start_time": "2020-12-04T00:06:44.356034",
     "status": "completed"
    },
    "tags": []
   },
   "outputs": [
    {
     "data": {
      "text/plain": [
       "((10000, 28, 28), (10000,))"
      ]
     },
     "execution_count": 7,
     "metadata": {},
     "output_type": "execute_result"
    }
   ],
   "source": [
    "test_images.shape, test_labels.shape"
   ]
  },
  {
   "cell_type": "code",
   "execution_count": 8,
   "metadata": {
    "execution": {
     "iopub.execute_input": "2020-12-04T00:06:44.452170Z",
     "iopub.status.busy": "2020-12-04T00:06:44.451627Z",
     "iopub.status.idle": "2020-12-04T00:06:44.591652Z",
     "shell.execute_reply": "2020-12-04T00:06:44.592081Z"
    },
    "papermill": {
     "duration": 0.169554,
     "end_time": "2020-12-04T00:06:44.592232",
     "exception": false,
     "start_time": "2020-12-04T00:06:44.422678",
     "status": "completed"
    },
    "tags": []
   },
   "outputs": [
    {
     "name": "stdout",
     "output_type": "stream",
     "text": [
      "2\n"
     ]
    },
    {
     "data": {
      "text/plain": [
       "<matplotlib.image.AxesImage at 0x7f63908c3080>"
      ]
     },
     "execution_count": 8,
     "metadata": {},
     "output_type": "execute_result"
    },
    {
     "data": {
      "image/png": "[encoded data removed]",
      "text/plain": [
       "<Figure size 432x288 with 1 Axes>"
      ]
     },
     "metadata": {
      "needs_background": "light"
     },
     "output_type": "display_data"
    }
   ],
   "source": [
    "image_index = 7776 # You may select anything up to 60,000\n",
    "print(train_labels[image_index]) \n",
    "plt.imshow(train_images[image_index], cmap='Greys')"
   ]
  },
  {
   "cell_type": "markdown",
   "metadata": {
    "papermill": {
     "duration": 0.026525,
     "end_time": "2020-12-04T00:06:44.645210",
     "exception": false,
     "start_time": "2020-12-04T00:06:44.618685",
     "status": "completed"
    },
    "tags": []
   },
   "source": [
    "## Filter data to get 3 and 8 out"
   ]
  },
  {
   "cell_type": "code",
   "execution_count": 9,
   "metadata": {
    "execution": {
     "iopub.execute_input": "2020-12-04T00:06:44.702592Z",
     "iopub.status.busy": "2020-12-04T00:06:44.702051Z",
     "iopub.status.idle": "2020-12-04T00:06:44.717263Z",
     "shell.execute_reply": "2020-12-04T00:06:44.716757Z"
    },
    "papermill": {
     "duration": 0.046553,
     "end_time": "2020-12-04T00:06:44.717387",
     "exception": false,
     "start_time": "2020-12-04T00:06:44.670834",
     "status": "completed"
    },
    "tags": []
   },
   "outputs": [],
   "source": [
    "train_filter = np.where((train_labels == 3 ) | (train_labels == 8))\n",
    "test_filter = np.where((test_labels == 3) | (test_labels == 8))\n",
    "X_train, y_train = train_images[train_filter], train_labels[train_filter]\n",
    "X_test, y_test = test_images[test_filter], test_labels[test_filter]"
   ]
  },
  {
   "cell_type": "markdown",
   "metadata": {
    "papermill": {
     "duration": 0.025911,
     "end_time": "2020-12-04T00:06:44.769706",
     "exception": false,
     "start_time": "2020-12-04T00:06:44.743795",
     "status": "completed"
    },
    "tags": []
   },
   "source": [
    "We normalize the pixel values in the 0 to 1 range"
   ]
  },
  {
   "cell_type": "code",
   "execution_count": 10,
   "metadata": {
    "execution": {
     "iopub.execute_input": "2020-12-04T00:06:44.832087Z",
     "iopub.status.busy": "2020-12-04T00:06:44.831542Z",
     "iopub.status.idle": "2020-12-04T00:06:44.883262Z",
     "shell.execute_reply": "2020-12-04T00:06:44.882614Z"
    },
    "papermill": {
     "duration": 0.08716,
     "end_time": "2020-12-04T00:06:44.883399",
     "exception": false,
     "start_time": "2020-12-04T00:06:44.796239",
     "status": "completed"
    },
    "tags": []
   },
   "outputs": [],
   "source": [
    "X_train = X_train/255.\n",
    "X_test = X_test/255."
   ]
  },
  {
   "cell_type": "markdown",
   "metadata": {
    "papermill": {
     "duration": 0.026463,
     "end_time": "2020-12-04T00:06:44.935753",
     "exception": false,
     "start_time": "2020-12-04T00:06:44.909290",
     "status": "completed"
    },
    "tags": []
   },
   "source": [
    "Setup the labels as 1 (when the digit is 3) and 0 (when the digit is 8)"
   ]
  },
  {
   "cell_type": "code",
   "execution_count": 11,
   "metadata": {
    "execution": {
     "iopub.execute_input": "2020-12-04T00:06:45.000340Z",
     "iopub.status.busy": "2020-12-04T00:06:44.999791Z",
     "iopub.status.idle": "2020-12-04T00:06:45.007819Z",
     "shell.execute_reply": "2020-12-04T00:06:45.008261Z"
    },
    "papermill": {
     "duration": 0.046075,
     "end_time": "2020-12-04T00:06:45.008414",
     "exception": false,
     "start_time": "2020-12-04T00:06:44.962339",
     "status": "completed"
    },
    "tags": []
   },
   "outputs": [],
   "source": [
    "y_train = 1*(y_train==3)\n",
    "y_test = 1*(y_test==3)"
   ]
  },
  {
   "cell_type": "code",
   "execution_count": 12,
   "metadata": {
    "execution": {
     "iopub.execute_input": "2020-12-04T00:06:45.076152Z",
     "iopub.status.busy": "2020-12-04T00:06:45.067733Z",
     "iopub.status.idle": "2020-12-04T00:06:45.079291Z",
     "shell.execute_reply": "2020-12-04T00:06:45.078832Z"
    },
    "papermill": {
     "duration": 0.045459,
     "end_time": "2020-12-04T00:06:45.079430",
     "exception": false,
     "start_time": "2020-12-04T00:06:45.033971",
     "status": "completed"
    },
    "tags": []
   },
   "outputs": [
    {
     "data": {
      "text/plain": [
       "((11982, 28, 28), (1984, 28, 28))"
      ]
     },
     "execution_count": 12,
     "metadata": {},
     "output_type": "execute_result"
    }
   ],
   "source": [
    "X_train.shape, X_test.shape"
   ]
  },
  {
   "cell_type": "markdown",
   "metadata": {
    "papermill": {
     "duration": 0.026533,
     "end_time": "2020-12-04T00:06:45.132514",
     "exception": false,
     "start_time": "2020-12-04T00:06:45.105981",
     "status": "completed"
    },
    "tags": []
   },
   "source": [
    "### Reshape the input data to create a linear array"
   ]
  },
  {
   "cell_type": "code",
   "execution_count": 13,
   "metadata": {
    "execution": {
     "iopub.execute_input": "2020-12-04T00:06:45.197087Z",
     "iopub.status.busy": "2020-12-04T00:06:45.196498Z",
     "iopub.status.idle": "2020-12-04T00:06:45.208026Z",
     "shell.execute_reply": "2020-12-04T00:06:45.208438Z"
    },
    "papermill": {
     "duration": 0.049323,
     "end_time": "2020-12-04T00:06:45.208601",
     "exception": false,
     "start_time": "2020-12-04T00:06:45.159278",
     "status": "completed"
    },
    "tags": []
   },
   "outputs": [
    {
     "data": {
      "text/plain": [
       "((11982, 784), (1984, 784))"
      ]
     },
     "execution_count": 13,
     "metadata": {},
     "output_type": "execute_result"
    }
   ],
   "source": [
    "X_train = X_train.reshape(X_train.shape[0], -1)\n",
    "X_test = X_test.reshape(X_test.shape[0], -1)\n",
    "X_train.shape, X_test.shape"
   ]
  },
  {
   "cell_type": "markdown",
   "metadata": {
    "papermill": {
     "duration": 0.025831,
     "end_time": "2020-12-04T00:06:45.259833",
     "exception": false,
     "start_time": "2020-12-04T00:06:45.234002",
     "status": "completed"
    },
    "tags": []
   },
   "source": [
    "### Importing appropriate functions from 'Kudzu'"
   ]
  },
  {
   "cell_type": "code",
   "execution_count": 14,
   "metadata": {
    "execution": {
     "iopub.execute_input": "2020-12-04T00:06:45.316619Z",
     "iopub.status.busy": "2020-12-04T00:06:45.316071Z",
     "iopub.status.idle": "2020-12-04T00:06:45.335658Z",
     "shell.execute_reply": "2020-12-04T00:06:45.335130Z"
    },
    "papermill": {
     "duration": 0.049808,
     "end_time": "2020-12-04T00:06:45.335779",
     "exception": false,
     "start_time": "2020-12-04T00:06:45.285971",
     "status": "completed"
    },
    "tags": []
   },
   "outputs": [],
   "source": [
    "from kudzu.layer import Sigmoid\n",
    "from kudzu.layer import Relu\n",
    "from kudzu.layer import Affine, Sigmoid\n",
    "\n",
    "from kudzu.model import Model\n",
    "from kudzu.train import Learner\n",
    "from kudzu.optim import GD\n",
    "from kudzu.data import Data, Dataloader, Sampler\n",
    "\n",
    "from kudzu.callbacks import AccCallback\n",
    "from kudzu.callbacks import ClfCallback\n",
    "\n",
    "from kudzu.loss import MSE"
   ]
  },
  {
   "cell_type": "markdown",
   "metadata": {
    "papermill": {
     "duration": 0.025846,
     "end_time": "2020-12-04T00:06:45.387030",
     "exception": false,
     "start_time": "2020-12-04T00:06:45.361184",
     "status": "completed"
    },
    "tags": []
   },
   "source": [
    "### Let us create a `Config` class, to store important parameters. \n",
    "This class essentially plays the role of a dictionary."
   ]
  },
  {
   "cell_type": "code",
   "execution_count": 15,
   "metadata": {
    "execution": {
     "iopub.execute_input": "2020-12-04T00:06:45.443801Z",
     "iopub.status.busy": "2020-12-04T00:06:45.443203Z",
     "iopub.status.idle": "2020-12-04T00:06:45.458181Z",
     "shell.execute_reply": "2020-12-04T00:06:45.457713Z"
    },
    "papermill": {
     "duration": 0.045364,
     "end_time": "2020-12-04T00:06:45.458289",
     "exception": false,
     "start_time": "2020-12-04T00:06:45.412925",
     "status": "completed"
    },
    "tags": []
   },
   "outputs": [],
   "source": [
    "class Config:\n",
    "    pass\n",
    "config = Config()\n",
    "config.lr = 0.001\n",
    "config.num_epochs = 251\n",
    "config.bs = 50"
   ]
  },
  {
   "cell_type": "markdown",
   "metadata": {
    "papermill": {
     "duration": 0.025541,
     "end_time": "2020-12-04T00:06:45.510382",
     "exception": false,
     "start_time": "2020-12-04T00:06:45.484841",
     "status": "completed"
    },
    "tags": []
   },
   "source": [
    "### Initializing data to the variables"
   ]
  },
  {
   "cell_type": "code",
   "execution_count": 16,
   "metadata": {
    "execution": {
     "iopub.execute_input": "2020-12-04T00:06:45.569719Z",
     "iopub.status.busy": "2020-12-04T00:06:45.569125Z",
     "iopub.status.idle": "2020-12-04T00:06:45.583605Z",
     "shell.execute_reply": "2020-12-04T00:06:45.583147Z"
    },
    "papermill": {
     "duration": 0.046298,
     "end_time": "2020-12-04T00:06:45.583714",
     "exception": false,
     "start_time": "2020-12-04T00:06:45.537416",
     "status": "completed"
    },
    "tags": []
   },
   "outputs": [],
   "source": [
    "data = Data(X_train, y_train.reshape(-1,1))\n",
    "sampler = Sampler(data, config.bs, shuffle=True)\n",
    "\n",
    "dl = Dataloader(data, sampler)\n",
    "\n",
    "opt = GD(config.lr)\n",
    "loss = MSE()"
   ]
  },
  {
   "cell_type": "code",
   "execution_count": 17,
   "metadata": {
    "execution": {
     "iopub.execute_input": "2020-12-04T00:06:45.640926Z",
     "iopub.status.busy": "2020-12-04T00:06:45.640459Z",
     "iopub.status.idle": "2020-12-04T00:06:45.654339Z",
     "shell.execute_reply": "2020-12-04T00:06:45.653588Z"
    },
    "papermill": {
     "duration": 0.044308,
     "end_time": "2020-12-04T00:06:45.654510",
     "exception": false,
     "start_time": "2020-12-04T00:06:45.610202",
     "status": "completed"
    },
    "tags": []
   },
   "outputs": [],
   "source": [
    "training_xdata = X_train\n",
    "testing_xdata = X_test\n",
    "training_ydata = y_train.reshape(-1,1)\n",
    "testing_ydata = y_test.reshape(-1,1)"
   ]
  },
  {
   "cell_type": "markdown",
   "metadata": {
    "papermill": {
     "duration": 0.026234,
     "end_time": "2020-12-04T00:06:45.710431",
     "exception": false,
     "start_time": "2020-12-04T00:06:45.684197",
     "status": "completed"
    },
    "tags": []
   },
   "source": [
    "### Running Models with the Training data\n",
    "Details about the network layers:\n",
    "- A first affine layer has 784 inputs and does 100 affine transforms. These are followed by a Relu\n",
    "- A second affine layer has 100 inputs from the 100 activations of the past layer, and does 100 affine transforms. These are followed by a Relu\n",
    "- A third affine layer has 100 activations and does 2 affine transformations to create an embedding for visualization. There is no non-linearity here.\n",
    "- A final \"logistic regression\" which has an affine transform from 2 inputs to 1 output, which is squeezed through a sigmoid.\n",
    "\n",
    "Help taken from Anshuman's Notebook."
   ]
  },
  {
   "cell_type": "code",
   "execution_count": 18,
   "metadata": {
    "execution": {
     "iopub.execute_input": "2020-12-04T00:06:45.766428Z",
     "iopub.status.busy": "2020-12-04T00:06:45.765878Z",
     "iopub.status.idle": "2020-12-04T00:06:45.782873Z",
     "shell.execute_reply": "2020-12-04T00:06:45.783287Z"
    },
    "papermill": {
     "duration": 0.04597,
     "end_time": "2020-12-04T00:06:45.783396",
     "exception": false,
     "start_time": "2020-12-04T00:06:45.737426",
     "status": "completed"
    },
    "tags": []
   },
   "outputs": [],
   "source": [
    "# layers for the Neural Network\n",
    "layers = [Affine(\"first\", 784, 100), Relu(\"first\"), Affine(\"second\", 100, 100), Relu(\"second\"), Affine(\"third\", 100, 2), Affine(\"final\", 2, 1), Sigmoid(\"final\")]\n",
    "model_nn = Model(layers)\n",
    "\n",
    "# layers for the Logistic Regression\n",
    "layers_lr = [Affine(\"logits\", 784, 1), Sigmoid(\"sigmoid\")]\n",
    "model_lr = Model(layers_lr)"
   ]
  },
  {
   "cell_type": "code",
   "execution_count": 19,
   "metadata": {
    "execution": {
     "iopub.execute_input": "2020-12-04T00:06:45.851396Z",
     "iopub.status.busy": "2020-12-04T00:06:45.846404Z",
     "iopub.status.idle": "2020-12-04T00:06:45.855813Z",
     "shell.execute_reply": "2020-12-04T00:06:45.855358Z"
    },
    "papermill": {
     "duration": 0.046686,
     "end_time": "2020-12-04T00:06:45.855921",
     "exception": false,
     "start_time": "2020-12-04T00:06:45.809235",
     "status": "completed"
    },
    "tags": []
   },
   "outputs": [],
   "source": [
    "# suffix _nn stands for Neural Network.\n",
    "learner_nn = Learner(loss, model_nn, opt, config.num_epochs)\n",
    "acc_nn = ClfCallback(learner_nn, config.bs, training_xdata , testing_xdata, training_ydata, testing_ydata)\n",
    "learner_nn.set_callbacks([acc_nn])"
   ]
  },
  {
   "cell_type": "code",
   "execution_count": 20,
   "metadata": {
    "execution": {
     "iopub.execute_input": "2020-12-04T00:06:45.913379Z",
     "iopub.status.busy": "2020-12-04T00:06:45.912790Z",
     "iopub.status.idle": "2020-12-04T00:08:07.245354Z",
     "shell.execute_reply": "2020-12-04T00:08:07.246107Z"
    },
    "papermill": {
     "duration": 81.364209,
     "end_time": "2020-12-04T00:08:07.246261",
     "exception": false,
     "start_time": "2020-12-04T00:06:45.882052",
     "status": "completed"
    },
    "tags": []
   },
   "outputs": [
    {
     "name": "stdout",
     "output_type": "stream",
     "text": [
      "====== Neural Network ======\n"
     ]
    },
    {
     "name": "stdout",
     "output_type": "stream",
     "text": [
      "Epoch 0, Loss 0.2058\n",
      "Training Accuracy: 0.8192, Testing Accuracy: 0.8397\n",
      "\n"
     ]
    },
    {
     "name": "stdout",
     "output_type": "stream",
     "text": [
      "Epoch 10, Loss 0.0599\n",
      "Training Accuracy: 0.9344, Testing Accuracy: 0.9446\n",
      "\n"
     ]
    },
    {
     "name": "stdout",
     "output_type": "stream",
     "text": [
      "Epoch 20, Loss 0.0442\n",
      "Training Accuracy: 0.9480, Testing Accuracy: 0.9572\n",
      "\n"
     ]
    },
    {
     "name": "stdout",
     "output_type": "stream",
     "text": [
      "Epoch 30, Loss 0.0374\n",
      "Training Accuracy: 0.9574, Testing Accuracy: 0.9617\n",
      "\n"
     ]
    },
    {
     "name": "stdout",
     "output_type": "stream",
     "text": [
      "Epoch 40, Loss 0.0335\n",
      "Training Accuracy: 0.9619, Testing Accuracy: 0.9652\n",
      "\n"
     ]
    },
    {
     "name": "stdout",
     "output_type": "stream",
     "text": [
      "Epoch 50, Loss 0.0308\n",
      "Training Accuracy: 0.9658, Testing Accuracy: 0.9672\n",
      "\n"
     ]
    },
    {
     "name": "stdout",
     "output_type": "stream",
     "text": [
      "Epoch 60, Loss 0.0289\n",
      "Training Accuracy: 0.9669, Testing Accuracy: 0.9693\n",
      "\n"
     ]
    },
    {
     "name": "stdout",
     "output_type": "stream",
     "text": [
      "Epoch 70, Loss 0.0273\n",
      "Training Accuracy: 0.9692, Testing Accuracy: 0.9708\n",
      "\n"
     ]
    },
    {
     "name": "stdout",
     "output_type": "stream",
     "text": [
      "Epoch 80, Loss 0.026\n",
      "Training Accuracy: 0.9706, Testing Accuracy: 0.9733\n",
      "\n"
     ]
    },
    {
     "name": "stdout",
     "output_type": "stream",
     "text": [
      "Epoch 90, Loss 0.025\n",
      "Training Accuracy: 0.9714, Testing Accuracy: 0.9733\n",
      "\n"
     ]
    },
    {
     "name": "stdout",
     "output_type": "stream",
     "text": [
      "Epoch 100, Loss 0.024\n",
      "Training Accuracy: 0.9722, Testing Accuracy: 0.9738\n",
      "\n"
     ]
    },
    {
     "name": "stdout",
     "output_type": "stream",
     "text": [
      "Epoch 110, Loss 0.0232\n",
      "Training Accuracy: 0.9735, Testing Accuracy: 0.9738\n",
      "\n"
     ]
    },
    {
     "name": "stdout",
     "output_type": "stream",
     "text": [
      "Epoch 120, Loss 0.0225\n",
      "Training Accuracy: 0.9745, Testing Accuracy: 0.9738\n",
      "\n"
     ]
    },
    {
     "name": "stdout",
     "output_type": "stream",
     "text": [
      "Epoch 130, Loss 0.0218\n",
      "Training Accuracy: 0.9745, Testing Accuracy: 0.9738\n",
      "\n"
     ]
    },
    {
     "name": "stdout",
     "output_type": "stream",
     "text": [
      "Epoch 140, Loss 0.0212\n",
      "Training Accuracy: 0.9760, Testing Accuracy: 0.9738\n",
      "\n"
     ]
    },
    {
     "name": "stdout",
     "output_type": "stream",
     "text": [
      "Epoch 150, Loss 0.0206\n",
      "Training Accuracy: 0.9766, Testing Accuracy: 0.9748\n",
      "\n"
     ]
    },
    {
     "name": "stdout",
     "output_type": "stream",
     "text": [
      "Epoch 160, Loss 0.02\n",
      "Training Accuracy: 0.9774, Testing Accuracy: 0.9753\n",
      "\n"
     ]
    },
    {
     "name": "stdout",
     "output_type": "stream",
     "text": [
      "Epoch 170, Loss 0.0195\n",
      "Training Accuracy: 0.9777, Testing Accuracy: 0.9748\n",
      "\n"
     ]
    },
    {
     "name": "stdout",
     "output_type": "stream",
     "text": [
      "Epoch 180, Loss 0.019\n",
      "Training Accuracy: 0.9778, Testing Accuracy: 0.9748\n",
      "\n"
     ]
    },
    {
     "name": "stdout",
     "output_type": "stream",
     "text": [
      "Epoch 190, Loss 0.0186\n",
      "Training Accuracy: 0.9783, Testing Accuracy: 0.9748\n",
      "\n"
     ]
    },
    {
     "name": "stdout",
     "output_type": "stream",
     "text": [
      "Epoch 200, Loss 0.0181\n",
      "Training Accuracy: 0.9790, Testing Accuracy: 0.9748\n",
      "\n"
     ]
    },
    {
     "name": "stdout",
     "output_type": "stream",
     "text": [
      "Epoch 210, Loss 0.0177\n",
      "Training Accuracy: 0.9796, Testing Accuracy: 0.9758\n",
      "\n"
     ]
    },
    {
     "name": "stdout",
     "output_type": "stream",
     "text": [
      "Epoch 220, Loss 0.0173\n",
      "Training Accuracy: 0.9801, Testing Accuracy: 0.9763\n",
      "\n"
     ]
    },
    {
     "name": "stdout",
     "output_type": "stream",
     "text": [
      "Epoch 230, Loss 0.0169\n",
      "Training Accuracy: 0.9805, Testing Accuracy: 0.9768\n",
      "\n"
     ]
    },
    {
     "name": "stdout",
     "output_type": "stream",
     "text": [
      "Epoch 240, Loss 0.0165\n",
      "Training Accuracy: 0.9811, Testing Accuracy: 0.9768\n",
      "\n"
     ]
    },
    {
     "name": "stdout",
     "output_type": "stream",
     "text": [
      "Epoch 250, Loss 0.0161\n",
      "Training Accuracy: 0.9816, Testing Accuracy: 0.9773\n",
      "\n"
     ]
    },
    {
     "data": {
      "text/plain": [
       "0.035972137471092944"
      ]
     },
     "execution_count": 20,
     "metadata": {},
     "output_type": "execute_result"
    }
   ],
   "source": [
    "print(\"====== Neural Network ======\")\n",
    "learner_nn.train_loop(dl)"
   ]
  },
  {
   "cell_type": "markdown",
   "metadata": {
    "papermill": {
     "duration": 0.034501,
     "end_time": "2020-12-04T00:08:07.315731",
     "exception": false,
     "start_time": "2020-12-04T00:08:07.281230",
     "status": "completed"
    },
    "tags": []
   },
   "source": [
    "### Logistic Regression based Implementation."
   ]
  },
  {
   "cell_type": "code",
   "execution_count": 21,
   "metadata": {
    "execution": {
     "iopub.execute_input": "2020-12-04T00:08:07.385042Z",
     "iopub.status.busy": "2020-12-04T00:08:07.384453Z",
     "iopub.status.idle": "2020-12-04T00:08:07.398641Z",
     "shell.execute_reply": "2020-12-04T00:08:07.397896Z"
    },
    "papermill": {
     "duration": 0.050305,
     "end_time": "2020-12-04T00:08:07.398771",
     "exception": false,
     "start_time": "2020-12-04T00:08:07.348466",
     "status": "completed"
    },
    "tags": []
   },
   "outputs": [],
   "source": [
    "learner_lr = Learner(loss, model_lr, opt, config.num_epochs)\n",
    "acc_lr = ClfCallback(learner_lr, config.bs, training_xdata , testing_xdata, training_ydata, testing_ydata)\n",
    "learner_lr.set_callbacks([acc_lr])"
   ]
  },
  {
   "cell_type": "code",
   "execution_count": 22,
   "metadata": {
    "execution": {
     "iopub.execute_input": "2020-12-04T00:08:07.470592Z",
     "iopub.status.busy": "2020-12-04T00:08:07.470043Z",
     "iopub.status.idle": "2020-12-04T00:08:21.820134Z",
     "shell.execute_reply": "2020-12-04T00:08:21.819687Z"
    },
    "papermill": {
     "duration": 14.387261,
     "end_time": "2020-12-04T00:08:21.820260",
     "exception": false,
     "start_time": "2020-12-04T00:08:07.432999",
     "status": "completed"
    },
    "tags": []
   },
   "outputs": [
    {
     "name": "stdout",
     "output_type": "stream",
     "text": [
      "====== Logistic Regression ======\n",
      "Epoch 0, Loss 0.2233\n",
      "Training Accuracy: 0.7596, Testing Accuracy: 0.7848\n",
      "\n"
     ]
    },
    {
     "name": "stdout",
     "output_type": "stream",
     "text": [
      "Epoch 10, Loss 0.1005\n",
      "Training Accuracy: 0.9099, Testing Accuracy: 0.9254\n",
      "\n"
     ]
    },
    {
     "name": "stdout",
     "output_type": "stream",
     "text": [
      "Epoch 20, Loss 0.0787\n",
      "Training Accuracy: 0.9255, Testing Accuracy: 0.9385\n",
      "\n"
     ]
    },
    {
     "name": "stdout",
     "output_type": "stream",
     "text": [
      "Epoch 30, Loss 0.0684\n",
      "Training Accuracy: 0.9327, Testing Accuracy: 0.9400\n",
      "\n"
     ]
    },
    {
     "name": "stdout",
     "output_type": "stream",
     "text": [
      "Epoch 40, Loss 0.062\n",
      "Training Accuracy: 0.9378, Testing Accuracy: 0.9476\n",
      "\n"
     ]
    },
    {
     "name": "stdout",
     "output_type": "stream",
     "text": [
      "Epoch 50, Loss 0.0576\n",
      "Training Accuracy: 0.9427, Testing Accuracy: 0.9536\n",
      "\n"
     ]
    },
    {
     "name": "stdout",
     "output_type": "stream",
     "text": [
      "Epoch 60, Loss 0.0543\n",
      "Training Accuracy: 0.9457, Testing Accuracy: 0.9561\n",
      "\n"
     ]
    },
    {
     "name": "stdout",
     "output_type": "stream",
     "text": [
      "Epoch 70, Loss 0.0518\n",
      "Training Accuracy: 0.9482, Testing Accuracy: 0.9582\n",
      "\n"
     ]
    },
    {
     "name": "stdout",
     "output_type": "stream",
     "text": [
      "Epoch 80, Loss 0.0497\n",
      "Training Accuracy: 0.9494, Testing Accuracy: 0.9592\n",
      "\n"
     ]
    },
    {
     "name": "stdout",
     "output_type": "stream",
     "text": [
      "Epoch 90, Loss 0.048\n",
      "Training Accuracy: 0.9512, Testing Accuracy: 0.9592\n",
      "\n"
     ]
    },
    {
     "name": "stdout",
     "output_type": "stream",
     "text": [
      "Epoch 100, Loss 0.0466\n",
      "Training Accuracy: 0.9520, Testing Accuracy: 0.9592\n",
      "\n"
     ]
    },
    {
     "name": "stdout",
     "output_type": "stream",
     "text": [
      "Epoch 110, Loss 0.0454\n",
      "Training Accuracy: 0.9525, Testing Accuracy: 0.9607\n",
      "\n"
     ]
    },
    {
     "name": "stdout",
     "output_type": "stream",
     "text": [
      "Epoch 120, Loss 0.0443\n",
      "Training Accuracy: 0.9534, Testing Accuracy: 0.9637\n",
      "\n"
     ]
    },
    {
     "name": "stdout",
     "output_type": "stream",
     "text": [
      "Epoch 130, Loss 0.0433\n",
      "Training Accuracy: 0.9542, Testing Accuracy: 0.9637\n",
      "\n"
     ]
    },
    {
     "name": "stdout",
     "output_type": "stream",
     "text": [
      "Epoch 140, Loss 0.0425\n",
      "Training Accuracy: 0.9551, Testing Accuracy: 0.9647\n",
      "\n"
     ]
    },
    {
     "name": "stdout",
     "output_type": "stream",
     "text": [
      "Epoch 150, Loss 0.0417\n",
      "Training Accuracy: 0.9558, Testing Accuracy: 0.9647\n",
      "\n"
     ]
    },
    {
     "name": "stdout",
     "output_type": "stream",
     "text": [
      "Epoch 160, Loss 0.041\n",
      "Training Accuracy: 0.9566, Testing Accuracy: 0.9652\n",
      "\n"
     ]
    },
    {
     "name": "stdout",
     "output_type": "stream",
     "text": [
      "Epoch 170, Loss 0.0404\n",
      "Training Accuracy: 0.9573, Testing Accuracy: 0.9652\n",
      "\n"
     ]
    },
    {
     "name": "stdout",
     "output_type": "stream",
     "text": [
      "Epoch 180, Loss 0.0398\n",
      "Training Accuracy: 0.9577, Testing Accuracy: 0.9647\n",
      "\n"
     ]
    },
    {
     "name": "stdout",
     "output_type": "stream",
     "text": [
      "Epoch 190, Loss 0.0393\n",
      "Training Accuracy: 0.9581, Testing Accuracy: 0.9662\n",
      "\n"
     ]
    },
    {
     "name": "stdout",
     "output_type": "stream",
     "text": [
      "Epoch 200, Loss 0.0388\n",
      "Training Accuracy: 0.9585, Testing Accuracy: 0.9662\n",
      "\n"
     ]
    },
    {
     "name": "stdout",
     "output_type": "stream",
     "text": [
      "Epoch 210, Loss 0.0384\n",
      "Training Accuracy: 0.9589, Testing Accuracy: 0.9662\n",
      "\n"
     ]
    },
    {
     "name": "stdout",
     "output_type": "stream",
     "text": [
      "Epoch 220, Loss 0.0379\n",
      "Training Accuracy: 0.9592, Testing Accuracy: 0.9667\n",
      "\n"
     ]
    },
    {
     "name": "stdout",
     "output_type": "stream",
     "text": [
      "Epoch 230, Loss 0.0375\n",
      "Training Accuracy: 0.9594, Testing Accuracy: 0.9677\n",
      "\n"
     ]
    },
    {
     "name": "stdout",
     "output_type": "stream",
     "text": [
      "Epoch 240, Loss 0.0372\n",
      "Training Accuracy: 0.9600, Testing Accuracy: 0.9682\n",
      "\n"
     ]
    },
    {
     "name": "stdout",
     "output_type": "stream",
     "text": [
      "Epoch 250, Loss 0.0368\n",
      "Training Accuracy: 0.9604, Testing Accuracy: 0.9677\n",
      "\n"
     ]
    },
    {
     "data": {
      "text/plain": [
       "0.02922769491305927"
      ]
     },
     "execution_count": 22,
     "metadata": {},
     "output_type": "execute_result"
    }
   ],
   "source": [
    "print(\"====== Logistic Regression ======\")\n",
    "learner_lr.train_loop(dl)"
   ]
  },
  {
   "cell_type": "markdown",
   "metadata": {
    "papermill": {
     "duration": 0.042535,
     "end_time": "2020-12-04T00:08:21.903966",
     "exception": false,
     "start_time": "2020-12-04T00:08:21.861431",
     "status": "completed"
    },
    "tags": []
   },
   "source": [
    "### Comparing results of NN and LR"
   ]
  },
  {
   "cell_type": "code",
   "execution_count": 23,
   "metadata": {
    "execution": {
     "iopub.execute_input": "2020-12-04T00:08:21.992567Z",
     "iopub.status.busy": "2020-12-04T00:08:21.991951Z",
     "iopub.status.idle": "2020-12-04T00:08:22.219955Z",
     "shell.execute_reply": "2020-12-04T00:08:22.219464Z"
    },
    "papermill": {
     "duration": 0.274316,
     "end_time": "2020-12-04T00:08:22.220082",
     "exception": false,
     "start_time": "2020-12-04T00:08:21.945766",
     "status": "completed"
    },
    "tags": []
   },
   "outputs": [
    {
     "data": {
      "text/plain": [
       "<matplotlib.legend.Legend at 0x7f63891099e8>"
      ]
     },
     "execution_count": 23,
     "metadata": {},
     "output_type": "execute_result"
    },
    {
     "data": {
      "image/png": "[encoded data removed]",
      "text/plain": [
       "<Figure size 1080x720 with 1 Axes>"
      ]
     },
     "metadata": {
      "needs_background": "light"
     },
     "output_type": "display_data"
    }
   ],
   "source": [
    "plt.figure(figsize=(15,10))\n",
    "\n",
    "# Neural Network plots\n",
    "plt.plot(acc_nn.accuracies, 'r-', label = \"Training Accuracies - NN\")\n",
    "plt.plot(acc_nn.test_accuracies, 'g-', label = \"Testing Accuracies - NN\")\n",
    "\n",
    "# Logistic Regression plots\n",
    "plt.plot(acc_lr.accuracies, 'k-', label = \"Training Accuracies - LR\")\n",
    "plt.plot(acc_lr.test_accuracies, 'b-', label = \"Testing Accuracies - LR\")\n",
    "\n",
    "plt.ylim(0.8, 1)\n",
    "\n",
    "plt.legend()\n",
    "\n"
   ]
  },
  {
   "cell_type": "markdown",
   "metadata": {
    "papermill": {
     "duration": 0.041441,
     "end_time": "2020-12-04T00:08:22.303700",
     "exception": false,
     "start_time": "2020-12-04T00:08:22.262259",
     "status": "completed"
    },
    "tags": []
   },
   "source": [
    "### From the plot, we can observe the following:\n",
    "- Neural Network achieves higher accuracy than the Logistic Regression model.\n",
    "- This apparently, is because of overfitting, i.e. NN captures more noise than data.\n",
    "- Testing accuracy of NN drops below the Training accuracy at higher epochs. This explains the over-fitting on training data.\n",
    "- Logistic Regression gives a reliable accuracy, without the above mentioned problem.\n"
   ]
  },
  {
   "cell_type": "markdown",
   "metadata": {
    "papermill": {
     "duration": 0.04411,
     "end_time": "2020-12-04T00:08:22.390826",
     "exception": false,
     "start_time": "2020-12-04T00:08:22.346716",
     "status": "completed"
    },
    "tags": []
   },
   "source": [
    "### Moving till the last but one layer (excluding it).\n",
    "#### Plotting the outputs of this layer of the NN."
   ]
  },
  {
   "cell_type": "code",
   "execution_count": 24,
   "metadata": {
    "execution": {
     "iopub.execute_input": "2020-12-04T00:08:22.486132Z",
     "iopub.status.busy": "2020-12-04T00:08:22.485582Z",
     "iopub.status.idle": "2020-12-04T00:08:22.496856Z",
     "shell.execute_reply": "2020-12-04T00:08:22.496354Z"
    },
    "papermill": {
     "duration": 0.062586,
     "end_time": "2020-12-04T00:08:22.496986",
     "exception": false,
     "start_time": "2020-12-04T00:08:22.434400",
     "status": "completed"
    },
    "tags": []
   },
   "outputs": [],
   "source": [
    "model_new = Model(layers[:-2])"
   ]
  },
  {
   "cell_type": "code",
   "execution_count": 25,
   "metadata": {
    "execution": {
     "iopub.execute_input": "2020-12-04T00:08:22.590299Z",
     "iopub.status.busy": "2020-12-04T00:08:22.589756Z",
     "iopub.status.idle": "2020-12-04T00:08:22.608710Z",
     "shell.execute_reply": "2020-12-04T00:08:22.609188Z"
    },
    "papermill": {
     "duration": 0.069154,
     "end_time": "2020-12-04T00:08:22.609334",
     "exception": false,
     "start_time": "2020-12-04T00:08:22.540180",
     "status": "completed"
    },
    "tags": []
   },
   "outputs": [],
   "source": [
    "plot_testing = model_new(testing_xdata)"
   ]
  },
  {
   "cell_type": "code",
   "execution_count": 26,
   "metadata": {
    "execution": {
     "iopub.execute_input": "2020-12-04T00:08:22.706246Z",
     "iopub.status.busy": "2020-12-04T00:08:22.705670Z",
     "iopub.status.idle": "2020-12-04T00:08:22.891806Z",
     "shell.execute_reply": "2020-12-04T00:08:22.892457Z"
    },
    "papermill": {
     "duration": 0.24024,
     "end_time": "2020-12-04T00:08:22.892674",
     "exception": false,
     "start_time": "2020-12-04T00:08:22.652434",
     "status": "completed"
    },
    "tags": []
   },
   "outputs": [
    {
     "data": {
      "text/plain": [
       "Text(0.5, 1.0, 'Outputs')"
      ]
     },
     "execution_count": 26,
     "metadata": {},
     "output_type": "execute_result"
    },
    {
     "data": {
      "image/png": "[encoded data removed]",
      "text/plain": [
       "<Figure size 576x504 with 1 Axes>"
      ]
     },
     "metadata": {
      "needs_background": "light"
     },
     "output_type": "display_data"
    }
   ],
   "source": [
    "plt.figure(figsize=(8,7))\n",
    "plt.scatter(plot_testing[:,0], plot_testing[:,1], alpha = 0.1, c = y_test.ravel());\n",
    "plt.title('Outputs')"
   ]
  },
  {
   "cell_type": "markdown",
   "metadata": {
    "papermill": {
     "duration": 0.045521,
     "end_time": "2020-12-04T00:08:22.985421",
     "exception": false,
     "start_time": "2020-12-04T00:08:22.939900",
     "status": "completed"
    },
    "tags": []
   },
   "source": [
    "### Plotting probability contours"
   ]
  },
  {
   "cell_type": "code",
   "execution_count": 27,
   "metadata": {
    "execution": {
     "iopub.execute_input": "2020-12-04T00:08:23.086797Z",
     "iopub.status.busy": "2020-12-04T00:08:23.086026Z",
     "iopub.status.idle": "2020-12-04T00:08:23.096887Z",
     "shell.execute_reply": "2020-12-04T00:08:23.096370Z"
    },
    "papermill": {
     "duration": 0.063741,
     "end_time": "2020-12-04T00:08:23.097019",
     "exception": false,
     "start_time": "2020-12-04T00:08:23.033278",
     "status": "completed"
    },
    "tags": []
   },
   "outputs": [],
   "source": [
    "model_prob = Model(layers[-2:]) "
   ]
  },
  {
   "cell_type": "code",
   "execution_count": 28,
   "metadata": {
    "execution": {
     "iopub.execute_input": "2020-12-04T00:08:23.197891Z",
     "iopub.status.busy": "2020-12-04T00:08:23.197334Z",
     "iopub.status.idle": "2020-12-04T00:08:23.210284Z",
     "shell.execute_reply": "2020-12-04T00:08:23.210656Z"
    },
    "papermill": {
     "duration": 0.067199,
     "end_time": "2020-12-04T00:08:23.210818",
     "exception": false,
     "start_time": "2020-12-04T00:08:23.143619",
     "status": "completed"
    },
    "tags": []
   },
   "outputs": [],
   "source": [
    "# Adjust the x and y ranges according to the above generated plot.\n",
    "x_range = np.linspace(-4, 1, 100) \n",
    "y_range = np.linspace(-6, 6, 100) \n",
    "x_grid, y_grid = np.meshgrid(x_range, y_range) # x_grid and y_grig are of size 100 X 100\n",
    "\n",
    "# converting x_grid and y_grid to continuous arrays\n",
    "x_grid_flat = np.ravel(x_grid)\n",
    "y_grid_flat = np.ravel(y_grid)\n",
    "\n",
    "# The last layer of the current model takes two columns as input. Hence transpose of np.vstack() is required.\n",
    "X = np.vstack((x_grid_flat, y_grid_flat)).T\n",
    "\n",
    "# x_grid and y_grid are of size 100 x 100\n",
    "probability_contour = model_prob(X).reshape(100,100) "
   ]
  },
  {
   "cell_type": "code",
   "execution_count": 29,
   "metadata": {
    "execution": {
     "iopub.execute_input": "2020-12-04T00:08:23.310881Z",
     "iopub.status.busy": "2020-12-04T00:08:23.310268Z",
     "iopub.status.idle": "2020-12-04T00:08:23.542713Z",
     "shell.execute_reply": "2020-12-04T00:08:23.543168Z"
    },
    "papermill": {
     "duration": 0.286511,
     "end_time": "2020-12-04T00:08:23.543313",
     "exception": false,
     "start_time": "2020-12-04T00:08:23.256802",
     "status": "completed"
    },
    "tags": []
   },
   "outputs": [
    {
     "data": {
      "image/png": "[encoded data removed]",
      "text/plain": [
       "<Figure size 720x648 with 1 Axes>"
      ]
     },
     "metadata": {
      "needs_background": "light"
     },
     "output_type": "display_data"
    }
   ],
   "source": [
    "plt.figure(figsize=(10,9))\n",
    "plt.scatter(plot_testing[:,0], plot_testing[:,1], alpha = 0.1, c = y_test.ravel())\n",
    "contours = plt.contour(x_grid,y_grid,probability_contour)\n",
    "plt.title('Probability Contours')\n",
    "plt.clabel(contours, inline = True );"
   ]
  }
 ],
 "metadata": {
  "kernelspec": {
   "display_name": "Python 3",
   "language": "python",
   "name": "python3"
  },
  "language_info": {
   "codemirror_mode": {
    "name": "ipython",
    "version": 3
   },
   "file_extension": ".py",
   "mimetype": "text/x-python",
   "name": "python",
   "nbconvert_exporter": "python",
   "pygments_lexer": "ipython3",
   "version": "3.6.12"
  },
  "papermill": {
   "duration": 104.211129,
   "end_time": "2020-12-04T00:08:24.001351",
   "environment_variables": {},
   "exception": null,
   "input_path": "2020-08-11-NeuralNetwork.ipynb",
   "output_path": "2020-08-11-NeuralNetwork.ipynb",
   "parameters": {},
   "start_time": "2020-12-04T00:06:39.790222",
   "version": "2.1.2"
  }
 },
 "nbformat": 4,
 "nbformat_minor": 4
}