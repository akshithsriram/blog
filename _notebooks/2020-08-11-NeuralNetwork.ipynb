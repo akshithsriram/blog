{
 "cells": [
  {
   "cell_type": "markdown",
   "metadata": {
    "papermill": {
     "duration": 0.032094,
     "end_time": "2020-09-13T20:03:59.242754",
     "exception": false,
     "start_time": "2020-09-13T20:03:59.210660",
     "status": "completed"
    },
    "tags": []
   },
   "source": [
    "# \"A Basic Neural Network: Differentiate Hand-Written Digits\"\n",
    "\n",
    "- badges: true\n",
    "- author: Akshith Sriram"
   ]
  },
  {
   "cell_type": "markdown",
   "metadata": {
    "papermill": {
     "duration": 0.027284,
     "end_time": "2020-09-13T20:03:59.298915",
     "exception": false,
     "start_time": "2020-09-13T20:03:59.271631",
     "status": "completed"
    },
    "tags": []
   },
   "source": [
    "### Key Objectives:\n",
    "- Building a neural network that differentiates two hand-written digits 3 and 8.\n",
    "- Comparing the results of this Neural Network (NN) to that of a Logistic Regression (LR) model.\n",
    "\n",
    "### Requirements:\n",
    "- 'Kudzu' : A neural network library that was designed during our course by [Univ.AI](www.univ.ai). \n",
    "- MNIST Database\n",
    "\n",
    "If MNIST is not installed, use the command `!pip install mnist` given below.\n",
    "It can be run both from the command line and Jupyter Notebook."
   ]
  },
  {
   "cell_type": "code",
   "execution_count": 1,
   "metadata": {
    "execution": {
     "iopub.execute_input": "2020-09-13T20:03:59.359349Z",
     "iopub.status.busy": "2020-09-13T20:03:59.358654Z",
     "iopub.status.idle": "2020-09-13T20:04:00.945160Z",
     "shell.execute_reply": "2020-09-13T20:04:00.944269Z"
    },
    "papermill": {
     "duration": 1.619034,
     "end_time": "2020-09-13T20:04:00.945312",
     "exception": false,
     "start_time": "2020-09-13T20:03:59.326278",
     "status": "completed"
    },
    "tags": []
   },
   "outputs": [
    {
     "name": "stdout",
     "output_type": "stream",
     "text": [
      "Collecting mnist\r\n",
      "  Downloading mnist-0.2.2-py2.py3-none-any.whl (3.5 kB)\r\n"
     ]
    },
    {
     "name": "stdout",
     "output_type": "stream",
     "text": [
      "Requirement already satisfied: numpy in /opt/hostedtoolcache/Python/3.6.12/x64/lib/python3.6/site-packages (from mnist) (1.19.2)\r\n"
     ]
    },
    {
     "name": "stdout",
     "output_type": "stream",
     "text": [
      "Installing collected packages: mnist\r\n",
      "Successfully installed mnist-0.2.2\r\n"
     ]
    },
    {
     "name": "stdout",
     "output_type": "stream",
     "text": [
      "\u001b[33mWARNING: You are using pip version 20.2.2; however, version 20.2.3 is available.\r\n",
      "You should consider upgrading via the '/opt/hostedtoolcache/Python/3.6.12/x64/bin/python -m pip install --upgrade pip' command.\u001b[0m\r\n"
     ]
    }
   ],
   "source": [
    "!pip install mnist "
   ]
  },
  {
   "cell_type": "markdown",
   "metadata": {
    "papermill": {
     "duration": 0.029998,
     "end_time": "2020-09-13T20:04:01.005338",
     "exception": false,
     "start_time": "2020-09-13T20:04:00.975340",
     "status": "completed"
    },
    "tags": []
   },
   "source": [
    "#### Importing necessary libraries"
   ]
  },
  {
   "cell_type": "code",
   "execution_count": 2,
   "metadata": {
    "execution": {
     "iopub.execute_input": "2020-09-13T20:04:01.072192Z",
     "iopub.status.busy": "2020-09-13T20:04:01.071540Z",
     "iopub.status.idle": "2020-09-13T20:04:01.674620Z",
     "shell.execute_reply": "2020-09-13T20:04:01.675079Z"
    },
    "papermill": {
     "duration": 0.640378,
     "end_time": "2020-09-13T20:04:01.675237",
     "exception": false,
     "start_time": "2020-09-13T20:04:01.034859",
     "status": "completed"
    },
    "tags": []
   },
   "outputs": [],
   "source": [
    "%load_ext autoreload\n",
    "%autoreload 2\n",
    "\n",
    "%matplotlib inline\n",
    "import matplotlib.pyplot as plt\n",
    "\n",
    "import numpy as np\n",
    "import pandas as pd"
   ]
  },
  {
   "cell_type": "markdown",
   "metadata": {
    "papermill": {
     "duration": 0.032703,
     "end_time": "2020-09-13T20:04:01.872133",
     "exception": false,
     "start_time": "2020-09-13T20:04:01.839430",
     "status": "completed"
    },
    "tags": []
   },
   "source": [
    "### Preparing the Data"
   ]
  },
  {
   "cell_type": "code",
   "execution_count": 3,
   "metadata": {
    "execution": {
     "iopub.execute_input": "2020-09-13T20:04:01.943211Z",
     "iopub.status.busy": "2020-09-13T20:04:01.942430Z",
     "iopub.status.idle": "2020-09-13T20:04:01.955196Z",
     "shell.execute_reply": "2020-09-13T20:04:01.955713Z"
    },
    "papermill": {
     "duration": 0.050574,
     "end_time": "2020-09-13T20:04:01.955886",
     "exception": false,
     "start_time": "2020-09-13T20:04:01.905312",
     "status": "completed"
    },
    "tags": []
   },
   "outputs": [],
   "source": [
    "import mnist"
   ]
  },
  {
   "cell_type": "code",
   "execution_count": 4,
   "metadata": {
    "execution": {
     "iopub.execute_input": "2020-09-13T20:04:02.048385Z",
     "iopub.status.busy": "2020-09-13T20:04:02.043545Z",
     "iopub.status.idle": "2020-09-13T20:04:03.557798Z",
     "shell.execute_reply": "2020-09-13T20:04:03.556964Z"
    },
    "papermill": {
     "duration": 1.56344,
     "end_time": "2020-09-13T20:04:03.557936",
     "exception": false,
     "start_time": "2020-09-13T20:04:01.994496",
     "status": "completed"
    },
    "tags": []
   },
   "outputs": [],
   "source": [
    "train_images = mnist.train_images()\n",
    "train_labels = mnist.train_labels()"
   ]
  },
  {
   "cell_type": "code",
   "execution_count": 5,
   "metadata": {
    "execution": {
     "iopub.execute_input": "2020-09-13T20:04:03.616531Z",
     "iopub.status.busy": "2020-09-13T20:04:03.615781Z",
     "iopub.status.idle": "2020-09-13T20:04:03.630342Z",
     "shell.execute_reply": "2020-09-13T20:04:03.630898Z"
    },
    "papermill": {
     "duration": 0.044913,
     "end_time": "2020-09-13T20:04:03.631027",
     "exception": false,
     "start_time": "2020-09-13T20:04:03.586114",
     "status": "completed"
    },
    "tags": []
   },
   "outputs": [
    {
     "data": {
      "text/plain": [
       "((60000, 28, 28), (60000,))"
      ]
     },
     "execution_count": 5,
     "metadata": {},
     "output_type": "execute_result"
    }
   ],
   "source": [
    "train_images.shape, train_labels.shape"
   ]
  },
  {
   "cell_type": "code",
   "execution_count": 6,
   "metadata": {
    "execution": {
     "iopub.execute_input": "2020-09-13T20:04:03.687763Z",
     "iopub.status.busy": "2020-09-13T20:04:03.687164Z",
     "iopub.status.idle": "2020-09-13T20:04:04.571014Z",
     "shell.execute_reply": "2020-09-13T20:04:04.571560Z"
    },
    "papermill": {
     "duration": 0.913803,
     "end_time": "2020-09-13T20:04:04.571723",
     "exception": false,
     "start_time": "2020-09-13T20:04:03.657920",
     "status": "completed"
    },
    "tags": []
   },
   "outputs": [],
   "source": [
    "test_images = mnist.test_images()\n",
    "test_labels = mnist.test_labels()"
   ]
  },
  {
   "cell_type": "code",
   "execution_count": 7,
   "metadata": {
    "execution": {
     "iopub.execute_input": "2020-09-13T20:04:04.632172Z",
     "iopub.status.busy": "2020-09-13T20:04:04.631564Z",
     "iopub.status.idle": "2020-09-13T20:04:04.645344Z",
     "shell.execute_reply": "2020-09-13T20:04:04.645896Z"
    },
    "papermill": {
     "duration": 0.045859,
     "end_time": "2020-09-13T20:04:04.646029",
     "exception": false,
     "start_time": "2020-09-13T20:04:04.600170",
     "status": "completed"
    },
    "tags": []
   },
   "outputs": [
    {
     "data": {
      "text/plain": [
       "((10000, 28, 28), (10000,))"
      ]
     },
     "execution_count": 7,
     "metadata": {},
     "output_type": "execute_result"
    }
   ],
   "source": [
    "test_images.shape, test_labels.shape"
   ]
  },
  {
   "cell_type": "code",
   "execution_count": 8,
   "metadata": {
    "execution": {
     "iopub.execute_input": "2020-09-13T20:04:04.708480Z",
     "iopub.status.busy": "2020-09-13T20:04:04.707862Z",
     "iopub.status.idle": "2020-09-13T20:04:04.866680Z",
     "shell.execute_reply": "2020-09-13T20:04:04.867212Z"
    },
    "papermill": {
     "duration": 0.192192,
     "end_time": "2020-09-13T20:04:04.867482",
     "exception": false,
     "start_time": "2020-09-13T20:04:04.675290",
     "status": "completed"
    },
    "tags": []
   },
   "outputs": [
    {
     "name": "stdout",
     "output_type": "stream",
     "text": [
      "2\n"
     ]
    },
    {
     "data": {
      "text/plain": [
       "<matplotlib.image.AxesImage at 0x7fac2bf3a630>"
      ]
     },
     "execution_count": 8,
     "metadata": {},
     "output_type": "execute_result"
    },
    {
     "data": {
      "image/png": "[encoded data removed]",
      "text/plain": [
       "<Figure size 432x288 with 1 Axes>"
      ]
     },
     "metadata": {
      "needs_background": "light"
     },
     "output_type": "display_data"
    }
   ],
   "source": [
    "image_index = 7776 # You may select anything up to 60,000\n",
    "print(train_labels[image_index]) \n",
    "plt.imshow(train_images[image_index], cmap='Greys')"
   ]
  },
  {
   "cell_type": "markdown",
   "metadata": {
    "papermill": {
     "duration": 0.030935,
     "end_time": "2020-09-13T20:04:04.929702",
     "exception": false,
     "start_time": "2020-09-13T20:04:04.898767",
     "status": "completed"
    },
    "tags": []
   },
   "source": [
    "## Filter data to get 3 and 8 out"
   ]
  },
  {
   "cell_type": "code",
   "execution_count": 9,
   "metadata": {
    "execution": {
     "iopub.execute_input": "2020-09-13T20:04:04.996046Z",
     "iopub.status.busy": "2020-09-13T20:04:04.995336Z",
     "iopub.status.idle": "2020-09-13T20:04:05.011669Z",
     "shell.execute_reply": "2020-09-13T20:04:05.012175Z"
    },
    "papermill": {
     "duration": 0.050742,
     "end_time": "2020-09-13T20:04:05.012367",
     "exception": false,
     "start_time": "2020-09-13T20:04:04.961625",
     "status": "completed"
    },
    "tags": []
   },
   "outputs": [],
   "source": [
    "train_filter = np.where((train_labels == 3 ) | (train_labels == 8))\n",
    "test_filter = np.where((test_labels == 3) | (test_labels == 8))\n",
    "X_train, y_train = train_images[train_filter], train_labels[train_filter]\n",
    "X_test, y_test = test_images[test_filter], test_labels[test_filter]"
   ]
  },
  {
   "cell_type": "markdown",
   "metadata": {
    "papermill": {
     "duration": 0.029265,
     "end_time": "2020-09-13T20:04:05.071331",
     "exception": false,
     "start_time": "2020-09-13T20:04:05.042066",
     "status": "completed"
    },
    "tags": []
   },
   "source": [
    "We normalize the pixel values in the 0 to 1 range"
   ]
  },
  {
   "cell_type": "code",
   "execution_count": 10,
   "metadata": {
    "execution": {
     "iopub.execute_input": "2020-09-13T20:04:05.135571Z",
     "iopub.status.busy": "2020-09-13T20:04:05.134943Z",
     "iopub.status.idle": "2020-09-13T20:04:05.192677Z",
     "shell.execute_reply": "2020-09-13T20:04:05.192101Z"
    },
    "papermill": {
     "duration": 0.092678,
     "end_time": "2020-09-13T20:04:05.192846",
     "exception": false,
     "start_time": "2020-09-13T20:04:05.100168",
     "status": "completed"
    },
    "tags": []
   },
   "outputs": [],
   "source": [
    "X_train = X_train/255.\n",
    "X_test = X_test/255."
   ]
  },
  {
   "cell_type": "markdown",
   "metadata": {
    "papermill": {
     "duration": 0.031099,
     "end_time": "2020-09-13T20:04:05.255270",
     "exception": false,
     "start_time": "2020-09-13T20:04:05.224171",
     "status": "completed"
    },
    "tags": []
   },
   "source": [
    "Setup the labels as 1 (when the digit is 3) and 0 (when the digit is 8)"
   ]
  },
  {
   "cell_type": "code",
   "execution_count": 11,
   "metadata": {
    "execution": {
     "iopub.execute_input": "2020-09-13T20:04:05.318727Z",
     "iopub.status.busy": "2020-09-13T20:04:05.318076Z",
     "iopub.status.idle": "2020-09-13T20:04:05.330418Z",
     "shell.execute_reply": "2020-09-13T20:04:05.330968Z"
    },
    "papermill": {
     "duration": 0.045722,
     "end_time": "2020-09-13T20:04:05.331106",
     "exception": false,
     "start_time": "2020-09-13T20:04:05.285384",
     "status": "completed"
    },
    "tags": []
   },
   "outputs": [],
   "source": [
    "y_train = 1*(y_train==3)\n",
    "y_test = 1*(y_test==3)"
   ]
  },
  {
   "cell_type": "code",
   "execution_count": 12,
   "metadata": {
    "execution": {
     "iopub.execute_input": "2020-09-13T20:04:05.395764Z",
     "iopub.status.busy": "2020-09-13T20:04:05.395110Z",
     "iopub.status.idle": "2020-09-13T20:04:05.408771Z",
     "shell.execute_reply": "2020-09-13T20:04:05.409342Z"
    },
    "papermill": {
     "duration": 0.047307,
     "end_time": "2020-09-13T20:04:05.409476",
     "exception": false,
     "start_time": "2020-09-13T20:04:05.362169",
     "status": "completed"
    },
    "tags": []
   },
   "outputs": [
    {
     "data": {
      "text/plain": [
       "((11982, 28, 28), (1984, 28, 28))"
      ]
     },
     "execution_count": 12,
     "metadata": {},
     "output_type": "execute_result"
    }
   ],
   "source": [
    "X_train.shape, X_test.shape"
   ]
  },
  {
   "cell_type": "markdown",
   "metadata": {
    "papermill": {
     "duration": 0.036946,
     "end_time": "2020-09-13T20:04:05.475906",
     "exception": false,
     "start_time": "2020-09-13T20:04:05.438960",
     "status": "completed"
    },
    "tags": []
   },
   "source": [
    "### Reshape the input data to create a linear array"
   ]
  },
  {
   "cell_type": "code",
   "execution_count": 13,
   "metadata": {
    "execution": {
     "iopub.execute_input": "2020-09-13T20:04:05.540842Z",
     "iopub.status.busy": "2020-09-13T20:04:05.540119Z",
     "iopub.status.idle": "2020-09-13T20:04:05.553132Z",
     "shell.execute_reply": "2020-09-13T20:04:05.553653Z"
    },
    "papermill": {
     "duration": 0.047911,
     "end_time": "2020-09-13T20:04:05.553796",
     "exception": false,
     "start_time": "2020-09-13T20:04:05.505885",
     "status": "completed"
    },
    "tags": []
   },
   "outputs": [
    {
     "data": {
      "text/plain": [
       "((11982, 784), (1984, 784))"
      ]
     },
     "execution_count": 13,
     "metadata": {},
     "output_type": "execute_result"
    }
   ],
   "source": [
    "X_train = X_train.reshape(X_train.shape[0], -1)\n",
    "X_test = X_test.reshape(X_test.shape[0], -1)\n",
    "X_train.shape, X_test.shape"
   ]
  },
  {
   "cell_type": "markdown",
   "metadata": {
    "papermill": {
     "duration": 0.030947,
     "end_time": "2020-09-13T20:04:05.615878",
     "exception": false,
     "start_time": "2020-09-13T20:04:05.584931",
     "status": "completed"
    },
    "tags": []
   },
   "source": [
    "### Importing appropriate functions from 'Kudzu'"
   ]
  },
  {
   "cell_type": "code",
   "execution_count": 14,
   "metadata": {
    "execution": {
     "iopub.execute_input": "2020-09-13T20:04:05.693518Z",
     "iopub.status.busy": "2020-09-13T20:04:05.688392Z",
     "iopub.status.idle": "2020-09-13T20:04:05.705820Z",
     "shell.execute_reply": "2020-09-13T20:04:05.706491Z"
    },
    "papermill": {
     "duration": 0.059212,
     "end_time": "2020-09-13T20:04:05.706629",
     "exception": false,
     "start_time": "2020-09-13T20:04:05.647417",
     "status": "completed"
    },
    "tags": []
   },
   "outputs": [],
   "source": [
    "from kudzu.layer import Sigmoid\n",
    "from kudzu.layer import Relu\n",
    "from kudzu.layer import Affine, Sigmoid\n",
    "\n",
    "from kudzu.model import Model\n",
    "from kudzu.train import Learner\n",
    "from kudzu.optim import GD\n",
    "from kudzu.data import Data, Dataloader, Sampler\n",
    "\n",
    "from kudzu.callbacks import AccCallback\n",
    "from kudzu.callbacks import ClfCallback\n",
    "\n",
    "from kudzu.loss import MSE"
   ]
  },
  {
   "cell_type": "markdown",
   "metadata": {
    "papermill": {
     "duration": 0.029621,
     "end_time": "2020-09-13T20:04:05.766216",
     "exception": false,
     "start_time": "2020-09-13T20:04:05.736595",
     "status": "completed"
    },
    "tags": []
   },
   "source": [
    "### Let us create a `Config` class, to store important parameters. \n",
    "This class essentially plays the role of a dictionary."
   ]
  },
  {
   "cell_type": "code",
   "execution_count": 15,
   "metadata": {
    "execution": {
     "iopub.execute_input": "2020-09-13T20:04:05.846553Z",
     "iopub.status.busy": "2020-09-13T20:04:05.845132Z",
     "iopub.status.idle": "2020-09-13T20:04:05.848779Z",
     "shell.execute_reply": "2020-09-13T20:04:05.849291Z"
    },
    "papermill": {
     "duration": 0.053388,
     "end_time": "2020-09-13T20:04:05.849501",
     "exception": false,
     "start_time": "2020-09-13T20:04:05.796113",
     "status": "completed"
    },
    "tags": []
   },
   "outputs": [],
   "source": [
    "class Config:\n",
    "    pass\n",
    "config = Config()\n",
    "config.lr = 0.001\n",
    "config.num_epochs = 251\n",
    "config.bs = 50"
   ]
  },
  {
   "cell_type": "markdown",
   "metadata": {
    "papermill": {
     "duration": 0.02977,
     "end_time": "2020-09-13T20:04:05.908828",
     "exception": false,
     "start_time": "2020-09-13T20:04:05.879058",
     "status": "completed"
    },
    "tags": []
   },
   "source": [
    "### Initializing data to the variables"
   ]
  },
  {
   "cell_type": "code",
   "execution_count": 16,
   "metadata": {
    "execution": {
     "iopub.execute_input": "2020-09-13T20:04:05.986462Z",
     "iopub.status.busy": "2020-09-13T20:04:05.976191Z",
     "iopub.status.idle": "2020-09-13T20:04:05.989172Z",
     "shell.execute_reply": "2020-09-13T20:04:05.989676Z"
    },
    "papermill": {
     "duration": 0.051057,
     "end_time": "2020-09-13T20:04:05.989807",
     "exception": false,
     "start_time": "2020-09-13T20:04:05.938750",
     "status": "completed"
    },
    "tags": []
   },
   "outputs": [],
   "source": [
    "data = Data(X_train, y_train.reshape(-1,1))\n",
    "sampler = Sampler(data, config.bs, shuffle=True)\n",
    "\n",
    "dl = Dataloader(data, sampler)\n",
    "\n",
    "opt = GD(config.lr)\n",
    "loss = MSE()"
   ]
  },
  {
   "cell_type": "code",
   "execution_count": 17,
   "metadata": {
    "execution": {
     "iopub.execute_input": "2020-09-13T20:04:06.064204Z",
     "iopub.status.busy": "2020-09-13T20:04:06.061057Z",
     "iopub.status.idle": "2020-09-13T20:04:06.066936Z",
     "shell.execute_reply": "2020-09-13T20:04:06.066364Z"
    },
    "papermill": {
     "duration": 0.048464,
     "end_time": "2020-09-13T20:04:06.067082",
     "exception": false,
     "start_time": "2020-09-13T20:04:06.018618",
     "status": "completed"
    },
    "tags": []
   },
   "outputs": [],
   "source": [
    "training_xdata = X_train\n",
    "testing_xdata = X_test\n",
    "training_ydata = y_train.reshape(-1,1)\n",
    "testing_ydata = y_test.reshape(-1,1)"
   ]
  },
  {
   "cell_type": "markdown",
   "metadata": {
    "papermill": {
     "duration": 0.030096,
     "end_time": "2020-09-13T20:04:06.126319",
     "exception": false,
     "start_time": "2020-09-13T20:04:06.096223",
     "status": "completed"
    },
    "tags": []
   },
   "source": [
    "### Running Models with the Training data\n",
    "Details about the network layers:\n",
    "- A first affine layer has 784 inputs and does 100 affine transforms. These are followed by a Relu\n",
    "- A second affine layer has 100 inputs from the 100 activations of the past layer, and does 100 affine transforms. These are followed by a Relu\n",
    "- A third affine layer has 100 activations and does 2 affine transformations to create an embedding for visualization. There is no non-linearity here.\n",
    "- A final \"logistic regression\" which has an affine transform from 2 inputs to 1 output, which is squeezed through a sigmoid.\n",
    "\n",
    "Help taken from Anshuman's Notebook."
   ]
  },
  {
   "cell_type": "code",
   "execution_count": 18,
   "metadata": {
    "execution": {
     "iopub.execute_input": "2020-09-13T20:04:06.191618Z",
     "iopub.status.busy": "2020-09-13T20:04:06.190934Z",
     "iopub.status.idle": "2020-09-13T20:04:06.206914Z",
     "shell.execute_reply": "2020-09-13T20:04:06.206445Z"
    },
    "papermill": {
     "duration": 0.051821,
     "end_time": "2020-09-13T20:04:06.207032",
     "exception": false,
     "start_time": "2020-09-13T20:04:06.155211",
     "status": "completed"
    },
    "tags": []
   },
   "outputs": [],
   "source": [
    "# layers for the Neural Network\n",
    "layers = [Affine(\"first\", 784, 100), Relu(\"first\"), Affine(\"second\", 100, 100), Relu(\"second\"), Affine(\"third\", 100, 2), Affine(\"final\", 2, 1), Sigmoid(\"final\")]\n",
    "model_nn = Model(layers)\n",
    "\n",
    "# layers for the Logistic Regression\n",
    "layers_lr = [Affine(\"logits\", 784, 1), Sigmoid(\"sigmoid\")]\n",
    "model_lr = Model(layers_lr)"
   ]
  },
  {
   "cell_type": "code",
   "execution_count": 19,
   "metadata": {
    "execution": {
     "iopub.execute_input": "2020-09-13T20:04:06.271610Z",
     "iopub.status.busy": "2020-09-13T20:04:06.270945Z",
     "iopub.status.idle": "2020-09-13T20:04:06.283786Z",
     "shell.execute_reply": "2020-09-13T20:04:06.284338Z"
    },
    "papermill": {
     "duration": 0.047515,
     "end_time": "2020-09-13T20:04:06.284496",
     "exception": false,
     "start_time": "2020-09-13T20:04:06.236981",
     "status": "completed"
    },
    "tags": []
   },
   "outputs": [],
   "source": [
    "# suffix _nn stands for Neural Network.\n",
    "learner_nn = Learner(loss, model_nn, opt, config.num_epochs)\n",
    "acc_nn = ClfCallback(learner_nn, config.bs, training_xdata , testing_xdata, training_ydata, testing_ydata)\n",
    "learner_nn.set_callbacks([acc_nn])"
   ]
  },
  {
   "cell_type": "code",
   "execution_count": 20,
   "metadata": {
    "execution": {
     "iopub.execute_input": "2020-09-13T20:04:06.362105Z",
     "iopub.status.busy": "2020-09-13T20:04:06.358194Z",
     "iopub.status.idle": "2020-09-13T20:06:06.440452Z",
     "shell.execute_reply": "2020-09-13T20:06:06.441061Z"
    },
    "papermill": {
     "duration": 120.125499,
     "end_time": "2020-09-13T20:06:06.441232",
     "exception": false,
     "start_time": "2020-09-13T20:04:06.315733",
     "status": "completed"
    },
    "tags": []
   },
   "outputs": [
    {
     "name": "stdout",
     "output_type": "stream",
     "text": [
      "====== Neural Network ======\n"
     ]
    },
    {
     "name": "stdout",
     "output_type": "stream",
     "text": [
      "Epoch 0, Loss 0.254\n",
      "Training Accuracy: 0.6749, Testing Accuracy: 0.6830\n",
      "\n"
     ]
    },
    {
     "name": "stdout",
     "output_type": "stream",
     "text": [
      "Epoch 10, Loss 0.0691\n",
      "Training Accuracy: 0.9321, Testing Accuracy: 0.9385\n",
      "\n"
     ]
    },
    {
     "name": "stdout",
     "output_type": "stream",
     "text": [
      "Epoch 20, Loss 0.0461\n",
      "Training Accuracy: 0.9518, Testing Accuracy: 0.9607\n",
      "\n"
     ]
    },
    {
     "name": "stdout",
     "output_type": "stream",
     "text": [
      "Epoch 30, Loss 0.038\n",
      "Training Accuracy: 0.9582, Testing Accuracy: 0.9637\n",
      "\n"
     ]
    },
    {
     "name": "stdout",
     "output_type": "stream",
     "text": [
      "Epoch 40, Loss 0.0338\n",
      "Training Accuracy: 0.9616, Testing Accuracy: 0.9652\n",
      "\n"
     ]
    },
    {
     "name": "stdout",
     "output_type": "stream",
     "text": [
      "Epoch 50, Loss 0.031\n",
      "Training Accuracy: 0.9643, Testing Accuracy: 0.9662\n",
      "\n"
     ]
    },
    {
     "name": "stdout",
     "output_type": "stream",
     "text": [
      "Epoch 60, Loss 0.029\n",
      "Training Accuracy: 0.9663, Testing Accuracy: 0.9677\n",
      "\n"
     ]
    },
    {
     "name": "stdout",
     "output_type": "stream",
     "text": [
      "Epoch 70, Loss 0.0274\n",
      "Training Accuracy: 0.9681, Testing Accuracy: 0.9682\n",
      "\n"
     ]
    },
    {
     "name": "stdout",
     "output_type": "stream",
     "text": [
      "Epoch 80, Loss 0.026\n",
      "Training Accuracy: 0.9700, Testing Accuracy: 0.9688\n",
      "\n"
     ]
    },
    {
     "name": "stdout",
     "output_type": "stream",
     "text": [
      "Epoch 90, Loss 0.0249\n",
      "Training Accuracy: 0.9714, Testing Accuracy: 0.9698\n",
      "\n"
     ]
    },
    {
     "name": "stdout",
     "output_type": "stream",
     "text": [
      "Epoch 100, Loss 0.0239\n",
      "Training Accuracy: 0.9723, Testing Accuracy: 0.9703\n",
      "\n"
     ]
    },
    {
     "name": "stdout",
     "output_type": "stream",
     "text": [
      "Epoch 110, Loss 0.0231\n",
      "Training Accuracy: 0.9735, Testing Accuracy: 0.9698\n",
      "\n"
     ]
    },
    {
     "name": "stdout",
     "output_type": "stream",
     "text": [
      "Epoch 120, Loss 0.0223\n",
      "Training Accuracy: 0.9740, Testing Accuracy: 0.9703\n",
      "\n"
     ]
    },
    {
     "name": "stdout",
     "output_type": "stream",
     "text": [
      "Epoch 130, Loss 0.0216\n",
      "Training Accuracy: 0.9756, Testing Accuracy: 0.9718\n",
      "\n"
     ]
    },
    {
     "name": "stdout",
     "output_type": "stream",
     "text": [
      "Epoch 140, Loss 0.0209\n",
      "Training Accuracy: 0.9767, Testing Accuracy: 0.9733\n",
      "\n"
     ]
    },
    {
     "name": "stdout",
     "output_type": "stream",
     "text": [
      "Epoch 150, Loss 0.0203\n",
      "Training Accuracy: 0.9773, Testing Accuracy: 0.9728\n",
      "\n"
     ]
    },
    {
     "name": "stdout",
     "output_type": "stream",
     "text": [
      "Epoch 160, Loss 0.0198\n",
      "Training Accuracy: 0.9783, Testing Accuracy: 0.9723\n",
      "\n"
     ]
    },
    {
     "name": "stdout",
     "output_type": "stream",
     "text": [
      "Epoch 170, Loss 0.0193\n",
      "Training Accuracy: 0.9788, Testing Accuracy: 0.9728\n",
      "\n"
     ]
    },
    {
     "name": "stdout",
     "output_type": "stream",
     "text": [
      "Epoch 180, Loss 0.0188\n",
      "Training Accuracy: 0.9791, Testing Accuracy: 0.9728\n",
      "\n"
     ]
    },
    {
     "name": "stdout",
     "output_type": "stream",
     "text": [
      "Epoch 190, Loss 0.0183\n",
      "Training Accuracy: 0.9796, Testing Accuracy: 0.9733\n",
      "\n"
     ]
    },
    {
     "name": "stdout",
     "output_type": "stream",
     "text": [
      "Epoch 200, Loss 0.0179\n",
      "Training Accuracy: 0.9801, Testing Accuracy: 0.9738\n",
      "\n"
     ]
    },
    {
     "name": "stdout",
     "output_type": "stream",
     "text": [
      "Epoch 210, Loss 0.0175\n",
      "Training Accuracy: 0.9806, Testing Accuracy: 0.9753\n",
      "\n"
     ]
    },
    {
     "name": "stdout",
     "output_type": "stream",
     "text": [
      "Epoch 220, Loss 0.0171\n",
      "Training Accuracy: 0.9811, Testing Accuracy: 0.9753\n",
      "\n"
     ]
    },
    {
     "name": "stdout",
     "output_type": "stream",
     "text": [
      "Epoch 230, Loss 0.0167\n",
      "Training Accuracy: 0.9815, Testing Accuracy: 0.9753\n",
      "\n"
     ]
    },
    {
     "name": "stdout",
     "output_type": "stream",
     "text": [
      "Epoch 240, Loss 0.0164\n",
      "Training Accuracy: 0.9819, Testing Accuracy: 0.9753\n",
      "\n"
     ]
    },
    {
     "name": "stdout",
     "output_type": "stream",
     "text": [
      "Epoch 250, Loss 0.0161\n",
      "Training Accuracy: 0.9824, Testing Accuracy: 0.9758\n",
      "\n"
     ]
    },
    {
     "data": {
      "text/plain": [
       "0.01497634030141117"
      ]
     },
     "execution_count": 20,
     "metadata": {},
     "output_type": "execute_result"
    }
   ],
   "source": [
    "print(\"====== Neural Network ======\")\n",
    "learner_nn.train_loop(dl)"
   ]
  },
  {
   "cell_type": "markdown",
   "metadata": {
    "papermill": {
     "duration": 0.039069,
     "end_time": "2020-09-13T20:06:06.521284",
     "exception": false,
     "start_time": "2020-09-13T20:06:06.482215",
     "status": "completed"
    },
    "tags": []
   },
   "source": [
    "### Logistic Regression based Implementation."
   ]
  },
  {
   "cell_type": "code",
   "execution_count": 21,
   "metadata": {
    "execution": {
     "iopub.execute_input": "2020-09-13T20:06:06.605814Z",
     "iopub.status.busy": "2020-09-13T20:06:06.605069Z",
     "iopub.status.idle": "2020-09-13T20:06:06.615986Z",
     "shell.execute_reply": "2020-09-13T20:06:06.615461Z"
    },
    "papermill": {
     "duration": 0.055839,
     "end_time": "2020-09-13T20:06:06.616120",
     "exception": false,
     "start_time": "2020-09-13T20:06:06.560281",
     "status": "completed"
    },
    "tags": []
   },
   "outputs": [],
   "source": [
    "learner_lr = Learner(loss, model_lr, opt, config.num_epochs)\n",
    "acc_lr = ClfCallback(learner_lr, config.bs, training_xdata , testing_xdata, training_ydata, testing_ydata)\n",
    "learner_lr.set_callbacks([acc_lr])"
   ]
  },
  {
   "cell_type": "code",
   "execution_count": 22,
   "metadata": {
    "execution": {
     "iopub.execute_input": "2020-09-13T20:06:06.700034Z",
     "iopub.status.busy": "2020-09-13T20:06:06.699143Z",
     "iopub.status.idle": "2020-09-13T20:06:24.408374Z",
     "shell.execute_reply": "2020-09-13T20:06:24.409205Z"
    },
    "papermill": {
     "duration": 17.752899,
     "end_time": "2020-09-13T20:06:24.409356",
     "exception": false,
     "start_time": "2020-09-13T20:06:06.656457",
     "status": "completed"
    },
    "tags": []
   },
   "outputs": [
    {
     "name": "stdout",
     "output_type": "stream",
     "text": [
      "====== Logistic Regression ======\n",
      "Epoch 0, Loss 0.2393\n",
      "Training Accuracy: 0.6884, Testing Accuracy: 0.6971\n",
      "\n"
     ]
    },
    {
     "name": "stdout",
     "output_type": "stream",
     "text": [
      "Epoch 10, Loss 0.1043\n",
      "Training Accuracy: 0.9080, Testing Accuracy: 0.9168\n",
      "\n"
     ]
    },
    {
     "name": "stdout",
     "output_type": "stream",
     "text": [
      "Epoch 20, Loss 0.0796\n",
      "Training Accuracy: 0.9274, Testing Accuracy: 0.9350\n",
      "\n"
     ]
    },
    {
     "name": "stdout",
     "output_type": "stream",
     "text": [
      "Epoch 30, Loss 0.0684\n",
      "Training Accuracy: 0.9372, Testing Accuracy: 0.9410\n",
      "\n"
     ]
    },
    {
     "name": "stdout",
     "output_type": "stream",
     "text": [
      "Epoch 40, Loss 0.0617\n",
      "Training Accuracy: 0.9420, Testing Accuracy: 0.9471\n",
      "\n"
     ]
    },
    {
     "name": "stdout",
     "output_type": "stream",
     "text": [
      "Epoch 50, Loss 0.0571\n",
      "Training Accuracy: 0.9448, Testing Accuracy: 0.9516\n",
      "\n"
     ]
    },
    {
     "name": "stdout",
     "output_type": "stream",
     "text": [
      "Epoch 60, Loss 0.0538\n",
      "Training Accuracy: 0.9476, Testing Accuracy: 0.9546\n",
      "\n"
     ]
    },
    {
     "name": "stdout",
     "output_type": "stream",
     "text": [
      "Epoch 70, Loss 0.0512\n",
      "Training Accuracy: 0.9499, Testing Accuracy: 0.9551\n",
      "\n"
     ]
    },
    {
     "name": "stdout",
     "output_type": "stream",
     "text": [
      "Epoch 80, Loss 0.0491\n",
      "Training Accuracy: 0.9508, Testing Accuracy: 0.9577\n",
      "\n"
     ]
    },
    {
     "name": "stdout",
     "output_type": "stream",
     "text": [
      "Epoch 90, Loss 0.0474\n",
      "Training Accuracy: 0.9521, Testing Accuracy: 0.9587\n",
      "\n"
     ]
    },
    {
     "name": "stdout",
     "output_type": "stream",
     "text": [
      "Epoch 100, Loss 0.046\n",
      "Training Accuracy: 0.9534, Testing Accuracy: 0.9592\n",
      "\n"
     ]
    },
    {
     "name": "stdout",
     "output_type": "stream",
     "text": [
      "Epoch 110, Loss 0.0447\n",
      "Training Accuracy: 0.9546, Testing Accuracy: 0.9597\n",
      "\n"
     ]
    },
    {
     "name": "stdout",
     "output_type": "stream",
     "text": [
      "Epoch 120, Loss 0.0437\n",
      "Training Accuracy: 0.9553, Testing Accuracy: 0.9612\n",
      "\n"
     ]
    },
    {
     "name": "stdout",
     "output_type": "stream",
     "text": [
      "Epoch 130, Loss 0.0427\n",
      "Training Accuracy: 0.9560, Testing Accuracy: 0.9627\n",
      "\n"
     ]
    },
    {
     "name": "stdout",
     "output_type": "stream",
     "text": [
      "Epoch 140, Loss 0.0419\n",
      "Training Accuracy: 0.9565, Testing Accuracy: 0.9632\n",
      "\n"
     ]
    },
    {
     "name": "stdout",
     "output_type": "stream",
     "text": [
      "Epoch 150, Loss 0.0411\n",
      "Training Accuracy: 0.9571, Testing Accuracy: 0.9642\n",
      "\n"
     ]
    },
    {
     "name": "stdout",
     "output_type": "stream",
     "text": [
      "Epoch 160, Loss 0.0405\n",
      "Training Accuracy: 0.9580, Testing Accuracy: 0.9652\n",
      "\n"
     ]
    },
    {
     "name": "stdout",
     "output_type": "stream",
     "text": [
      "Epoch 170, Loss 0.0398\n",
      "Training Accuracy: 0.9584, Testing Accuracy: 0.9652\n",
      "\n"
     ]
    },
    {
     "name": "stdout",
     "output_type": "stream",
     "text": [
      "Epoch 180, Loss 0.0393\n",
      "Training Accuracy: 0.9587, Testing Accuracy: 0.9652\n",
      "\n"
     ]
    },
    {
     "name": "stdout",
     "output_type": "stream",
     "text": [
      "Epoch 190, Loss 0.0388\n",
      "Training Accuracy: 0.9590, Testing Accuracy: 0.9662\n",
      "\n"
     ]
    },
    {
     "name": "stdout",
     "output_type": "stream",
     "text": [
      "Epoch 200, Loss 0.0383\n",
      "Training Accuracy: 0.9594, Testing Accuracy: 0.9667\n",
      "\n"
     ]
    },
    {
     "name": "stdout",
     "output_type": "stream",
     "text": [
      "Epoch 210, Loss 0.0378\n",
      "Training Accuracy: 0.9600, Testing Accuracy: 0.9672\n",
      "\n"
     ]
    },
    {
     "name": "stdout",
     "output_type": "stream",
     "text": [
      "Epoch 220, Loss 0.0374\n",
      "Training Accuracy: 0.9605, Testing Accuracy: 0.9677\n",
      "\n"
     ]
    },
    {
     "name": "stdout",
     "output_type": "stream",
     "text": [
      "Epoch 230, Loss 0.037\n",
      "Training Accuracy: 0.9610, Testing Accuracy: 0.9682\n",
      "\n"
     ]
    },
    {
     "name": "stdout",
     "output_type": "stream",
     "text": [
      "Epoch 240, Loss 0.0367\n",
      "Training Accuracy: 0.9613, Testing Accuracy: 0.9682\n",
      "\n"
     ]
    },
    {
     "name": "stdout",
     "output_type": "stream",
     "text": [
      "Epoch 250, Loss 0.0363\n",
      "Training Accuracy: 0.9613, Testing Accuracy: 0.9682\n",
      "\n"
     ]
    },
    {
     "data": {
      "text/plain": [
       "0.01594912117368023"
      ]
     },
     "execution_count": 22,
     "metadata": {},
     "output_type": "execute_result"
    }
   ],
   "source": [
    "print(\"====== Logistic Regression ======\")\n",
    "learner_lr.train_loop(dl)"
   ]
  },
  {
   "cell_type": "markdown",
   "metadata": {
    "papermill": {
     "duration": 0.049658,
     "end_time": "2020-09-13T20:06:24.511743",
     "exception": false,
     "start_time": "2020-09-13T20:06:24.462085",
     "status": "completed"
    },
    "tags": []
   },
   "source": [
    "### Comparing results of NN and LR"
   ]
  },
  {
   "cell_type": "code",
   "execution_count": 23,
   "metadata": {
    "execution": {
     "iopub.execute_input": "2020-09-13T20:06:24.615508Z",
     "iopub.status.busy": "2020-09-13T20:06:24.612896Z",
     "iopub.status.idle": "2020-09-13T20:06:24.883802Z",
     "shell.execute_reply": "2020-09-13T20:06:24.883092Z"
    },
    "papermill": {
     "duration": 0.323754,
     "end_time": "2020-09-13T20:06:24.883935",
     "exception": false,
     "start_time": "2020-09-13T20:06:24.560181",
     "status": "completed"
    },
    "tags": []
   },
   "outputs": [
    {
     "data": {
      "text/plain": [
       "<matplotlib.legend.Legend at 0x7fac252f2080>"
      ]
     },
     "execution_count": 23,
     "metadata": {},
     "output_type": "execute_result"
    },
    {
     "data": {
      "image/png": "[encoded data removed]",
      "text/plain": [
       "<Figure size 1080x720 with 1 Axes>"
      ]
     },
     "metadata": {
      "needs_background": "light"
     },
     "output_type": "display_data"
    }
   ],
   "source": [
    "plt.figure(figsize=(15,10))\n",
    "\n",
    "# Neural Network plots\n",
    "plt.plot(acc_nn.accuracies, 'r-', label = \"Training Accuracies - NN\")\n",
    "plt.plot(acc_nn.test_accuracies, 'g-', label = \"Testing Accuracies - NN\")\n",
    "\n",
    "# Logistic Regression plots\n",
    "plt.plot(acc_lr.accuracies, 'k-', label = \"Training Accuracies - LR\")\n",
    "plt.plot(acc_lr.test_accuracies, 'b-', label = \"Testing Accuracies - LR\")\n",
    "\n",
    "plt.ylim(0.8, 1)\n",
    "\n",
    "plt.legend()\n",
    "\n"
   ]
  },
  {
   "cell_type": "markdown",
   "metadata": {
    "papermill": {
     "duration": 0.050764,
     "end_time": "2020-09-13T20:06:24.983966",
     "exception": false,
     "start_time": "2020-09-13T20:06:24.933202",
     "status": "completed"
    },
    "tags": []
   },
   "source": [
    "### From the plot, we can observe the following:\n",
    "- Neural Network achieves higher accuracy than the Logistic Regression model.\n",
    "- This apparently, is because of overfitting, i.e. NN captures more noise than data.\n",
    "- Testing accuracy of NN drops below the Training accuracy at higher epochs. This explains the over-fitting on training data.\n",
    "- Logistic Regression gives a reliable accuracy, without the above mentioned problem.\n"
   ]
  },
  {
   "cell_type": "markdown",
   "metadata": {
    "papermill": {
     "duration": 0.050203,
     "end_time": "2020-09-13T20:06:25.083943",
     "exception": false,
     "start_time": "2020-09-13T20:06:25.033740",
     "status": "completed"
    },
    "tags": []
   },
   "source": [
    "### Moving till the last but one layer (excluding it).\n",
    "#### Plotting the outputs of this layer of the NN."
   ]
  },
  {
   "cell_type": "code",
   "execution_count": 24,
   "metadata": {
    "execution": {
     "iopub.execute_input": "2020-09-13T20:06:25.187632Z",
     "iopub.status.busy": "2020-09-13T20:06:25.186950Z",
     "iopub.status.idle": "2020-09-13T20:06:25.198746Z",
     "shell.execute_reply": "2020-09-13T20:06:25.199230Z"
    },
    "papermill": {
     "duration": 0.066368,
     "end_time": "2020-09-13T20:06:25.199362",
     "exception": false,
     "start_time": "2020-09-13T20:06:25.132994",
     "status": "completed"
    },
    "tags": []
   },
   "outputs": [],
   "source": [
    "model_new = Model(layers[:-2])"
   ]
  },
  {
   "cell_type": "code",
   "execution_count": 25,
   "metadata": {
    "execution": {
     "iopub.execute_input": "2020-09-13T20:06:25.301661Z",
     "iopub.status.busy": "2020-09-13T20:06:25.301080Z",
     "iopub.status.idle": "2020-09-13T20:06:25.326207Z",
     "shell.execute_reply": "2020-09-13T20:06:25.326950Z"
    },
    "papermill": {
     "duration": 0.07879,
     "end_time": "2020-09-13T20:06:25.327123",
     "exception": false,
     "start_time": "2020-09-13T20:06:25.248333",
     "status": "completed"
    },
    "tags": []
   },
   "outputs": [],
   "source": [
    "plot_testing = model_new(testing_xdata)"
   ]
  },
  {
   "cell_type": "code",
   "execution_count": 26,
   "metadata": {
    "execution": {
     "iopub.execute_input": "2020-09-13T20:06:25.438917Z",
     "iopub.status.busy": "2020-09-13T20:06:25.436699Z",
     "iopub.status.idle": "2020-09-13T20:06:25.660495Z",
     "shell.execute_reply": "2020-09-13T20:06:25.661025Z"
    },
    "papermill": {
     "duration": 0.281412,
     "end_time": "2020-09-13T20:06:25.661195",
     "exception": false,
     "start_time": "2020-09-13T20:06:25.379783",
     "status": "completed"
    },
    "tags": []
   },
   "outputs": [
    {
     "data": {
      "text/plain": [
       "Text(0.5, 1.0, 'Outputs')"
      ]
     },
     "execution_count": 26,
     "metadata": {},
     "output_type": "execute_result"
    },
    {
     "data": {
      "image/png": "[encoded data removed]",
      "text/plain": [
       "<Figure size 576x504 with 1 Axes>"
      ]
     },
     "metadata": {
      "needs_background": "light"
     },
     "output_type": "display_data"
    }
   ],
   "source": [
    "plt.figure(figsize=(8,7))\n",
    "plt.scatter(plot_testing[:,0], plot_testing[:,1], alpha = 0.1, c = y_test.ravel());\n",
    "plt.title('Outputs')"
   ]
  },
  {
   "cell_type": "markdown",
   "metadata": {
    "papermill": {
     "duration": 0.054158,
     "end_time": "2020-09-13T20:06:25.766119",
     "exception": false,
     "start_time": "2020-09-13T20:06:25.711961",
     "status": "completed"
    },
    "tags": []
   },
   "source": [
    "### Plotting probability contours"
   ]
  },
  {
   "cell_type": "code",
   "execution_count": 27,
   "metadata": {
    "execution": {
     "iopub.execute_input": "2020-09-13T20:06:25.877691Z",
     "iopub.status.busy": "2020-09-13T20:06:25.877015Z",
     "iopub.status.idle": "2020-09-13T20:06:25.887440Z",
     "shell.execute_reply": "2020-09-13T20:06:25.886763Z"
    },
    "papermill": {
     "duration": 0.067946,
     "end_time": "2020-09-13T20:06:25.887580",
     "exception": false,
     "start_time": "2020-09-13T20:06:25.819634",
     "status": "completed"
    },
    "tags": []
   },
   "outputs": [],
   "source": [
    "model_prob = Model(layers[-2:]) "
   ]
  },
  {
   "cell_type": "code",
   "execution_count": 28,
   "metadata": {
    "execution": {
     "iopub.execute_input": "2020-09-13T20:06:26.010517Z",
     "iopub.status.busy": "2020-09-13T20:06:26.003191Z",
     "iopub.status.idle": "2020-09-13T20:06:26.011437Z",
     "shell.execute_reply": "2020-09-13T20:06:26.012178Z"
    },
    "papermill": {
     "duration": 0.072773,
     "end_time": "2020-09-13T20:06:26.012366",
     "exception": false,
     "start_time": "2020-09-13T20:06:25.939593",
     "status": "completed"
    },
    "tags": []
   },
   "outputs": [],
   "source": [
    "# Adjust the x and y ranges according to the above generated plot.\n",
    "x_range = np.linspace(-4, 1, 100) \n",
    "y_range = np.linspace(-6, 6, 100) \n",
    "x_grid, y_grid = np.meshgrid(x_range, y_range) # x_grid and y_grig are of size 100 X 100\n",
    "\n",
    "# converting x_grid and y_grid to continuous arrays\n",
    "x_grid_flat = np.ravel(x_grid)\n",
    "y_grid_flat = np.ravel(y_grid)\n",
    "\n",
    "# The last layer of the current model takes two columns as input. Hence transpose of np.vstack() is required.\n",
    "X = np.vstack((x_grid_flat, y_grid_flat)).T\n",
    "\n",
    "# x_grid and y_grid are of size 100 x 100\n",
    "probability_contour = model_prob(X).reshape(100,100) "
   ]
  },
  {
   "cell_type": "code",
   "execution_count": 29,
   "metadata": {
    "execution": {
     "iopub.execute_input": "2020-09-13T20:06:26.136161Z",
     "iopub.status.busy": "2020-09-13T20:06:26.135198Z",
     "iopub.status.idle": "2020-09-13T20:06:26.411339Z",
     "shell.execute_reply": "2020-09-13T20:06:26.410269Z"
    },
    "papermill": {
     "duration": 0.343122,
     "end_time": "2020-09-13T20:06:26.411469",
     "exception": false,
     "start_time": "2020-09-13T20:06:26.068347",
     "status": "completed"
    },
    "tags": []
   },
   "outputs": [
    {
     "data": {
      "image/png": "[encoded data removed]",
      "text/plain": [
       "<Figure size 720x648 with 1 Axes>"
      ]
     },
     "metadata": {
      "needs_background": "light"
     },
     "output_type": "display_data"
    }
   ],
   "source": [
    "plt.figure(figsize=(10,9))\n",
    "plt.scatter(plot_testing[:,0], plot_testing[:,1], alpha = 0.1, c = y_test.ravel())\n",
    "contours = plt.contour(x_grid,y_grid,probability_contour)\n",
    "plt.title('Probability Contours')\n",
    "plt.clabel(contours, inline = True );"
   ]
  }
 ],
 "metadata": {
  "kernelspec": {
   "display_name": "Python 3",
   "language": "python",
   "name": "python3"
  },
  "language_info": {
   "codemirror_mode": {
    "name": "ipython",
    "version": 3
   },
   "file_extension": ".py",
   "mimetype": "text/x-python",
   "name": "python",
   "nbconvert_exporter": "python",
   "pygments_lexer": "ipython3",
   "version": "3.6.12"
  },
  "papermill": {
   "duration": 148.632986,
   "end_time": "2020-09-13T20:06:26.772809",
   "environment_variables": {},
   "exception": null,
   "input_path": "2020-08-11-NeuralNetwork.ipynb",
   "output_path": "2020-08-11-NeuralNetwork.ipynb",
   "parameters": {},
   "start_time": "2020-09-13T20:03:58.139823",
   "version": "2.1.2"
  }
 },
 "nbformat": 4,
 "nbformat_minor": 4
}