{
 "cells": [
  {
   "cell_type": "markdown",
   "metadata": {
    "papermill": {
     "duration": 0.031664,
     "end_time": "2020-12-31T20:10:22.035266",
     "exception": false,
     "start_time": "2020-12-31T20:10:22.003602",
     "status": "completed"
    },
    "tags": []
   },
   "source": [
    "# \"A Basic Neural Network: Differentiate Hand-Written Digits\"\n",
    "\n",
    "- badges: true\n",
    "- author: Akshith Sriram"
   ]
  },
  {
   "cell_type": "markdown",
   "metadata": {
    "papermill": {
     "duration": 0.026258,
     "end_time": "2020-12-31T20:10:22.087325",
     "exception": false,
     "start_time": "2020-12-31T20:10:22.061067",
     "status": "completed"
    },
    "tags": []
   },
   "source": [
    "### Key Objectives:\n",
    "- Building a neural network that differentiates two hand-written digits 3 and 8.\n",
    "- Comparing the results of this Neural Network (NN) to that of a Logistic Regression (LR) model.\n",
    "\n",
    "### Requirements:\n",
    "- 'Kudzu' : A neural network library that was designed during our course by [Univ.AI](www.univ.ai). \n",
    "- MNIST Database\n",
    "\n",
    "If MNIST is not installed, use the command `!pip install mnist` given below.\n",
    "It can be run both from the command line and Jupyter Notebook."
   ]
  },
  {
   "cell_type": "code",
   "execution_count": 1,
   "metadata": {
    "execution": {
     "iopub.execute_input": "2020-12-31T20:10:22.149670Z",
     "iopub.status.busy": "2020-12-31T20:10:22.149088Z",
     "iopub.status.idle": "2020-12-31T20:10:24.117851Z",
     "shell.execute_reply": "2020-12-31T20:10:24.117306Z"
    },
    "papermill": {
     "duration": 2.005074,
     "end_time": "2020-12-31T20:10:24.118017",
     "exception": false,
     "start_time": "2020-12-31T20:10:22.112943",
     "status": "completed"
    },
    "tags": []
   },
   "outputs": [
    {
     "name": "stdout",
     "output_type": "stream",
     "text": [
      "Collecting mnist\r\n"
     ]
    },
    {
     "name": "stdout",
     "output_type": "stream",
     "text": [
      "  Downloading mnist-0.2.2-py2.py3-none-any.whl (3.5 kB)\r\n",
      "Requirement already satisfied: numpy in /opt/hostedtoolcache/Python/3.6.12/x64/lib/python3.6/site-packages (from mnist) (1.19.4)\r\n"
     ]
    },
    {
     "name": "stdout",
     "output_type": "stream",
     "text": [
      "Installing collected packages: mnist\r\n"
     ]
    },
    {
     "name": "stdout",
     "output_type": "stream",
     "text": [
      "Successfully installed mnist-0.2.2\r\n"
     ]
    },
    {
     "name": "stdout",
     "output_type": "stream",
     "text": [
      "\u001b[33mWARNING: You are using pip version 20.3.1; however, version 20.3.3 is available.\r\n",
      "You should consider upgrading via the '/opt/hostedtoolcache/Python/3.6.12/x64/bin/python -m pip install --upgrade pip' command.\u001b[0m\r\n"
     ]
    }
   ],
   "source": [
    "!pip install mnist "
   ]
  },
  {
   "cell_type": "markdown",
   "metadata": {
    "papermill": {
     "duration": 0.027314,
     "end_time": "2020-12-31T20:10:24.173272",
     "exception": false,
     "start_time": "2020-12-31T20:10:24.145958",
     "status": "completed"
    },
    "tags": []
   },
   "source": [
    "#### Importing necessary libraries"
   ]
  },
  {
   "cell_type": "code",
   "execution_count": 2,
   "metadata": {
    "execution": {
     "iopub.execute_input": "2020-12-31T20:10:24.236177Z",
     "iopub.status.busy": "2020-12-31T20:10:24.235605Z",
     "iopub.status.idle": "2020-12-31T20:10:24.840531Z",
     "shell.execute_reply": "2020-12-31T20:10:24.839994Z"
    },
    "papermill": {
     "duration": 0.639902,
     "end_time": "2020-12-31T20:10:24.840673",
     "exception": false,
     "start_time": "2020-12-31T20:10:24.200771",
     "status": "completed"
    },
    "tags": []
   },
   "outputs": [],
   "source": [
    "%load_ext autoreload\n",
    "%autoreload 2\n",
    "\n",
    "%matplotlib inline\n",
    "import matplotlib.pyplot as plt\n",
    "\n",
    "import numpy as np\n",
    "import pandas as pd"
   ]
  },
  {
   "cell_type": "markdown",
   "metadata": {
    "papermill": {
     "duration": 0.027953,
     "end_time": "2020-12-31T20:10:24.898591",
     "exception": false,
     "start_time": "2020-12-31T20:10:24.870638",
     "status": "completed"
    },
    "tags": []
   },
   "source": [
    "### Preparing the Data"
   ]
  },
  {
   "cell_type": "code",
   "execution_count": 3,
   "metadata": {
    "execution": {
     "iopub.execute_input": "2020-12-31T20:10:24.962247Z",
     "iopub.status.busy": "2020-12-31T20:10:24.961602Z",
     "iopub.status.idle": "2020-12-31T20:10:24.973063Z",
     "shell.execute_reply": "2020-12-31T20:10:24.973564Z"
    },
    "papermill": {
     "duration": 0.045751,
     "end_time": "2020-12-31T20:10:24.973720",
     "exception": false,
     "start_time": "2020-12-31T20:10:24.927969",
     "status": "completed"
    },
    "tags": []
   },
   "outputs": [],
   "source": [
    "import mnist"
   ]
  },
  {
   "cell_type": "code",
   "execution_count": 4,
   "metadata": {
    "execution": {
     "iopub.execute_input": "2020-12-31T20:10:25.038667Z",
     "iopub.status.busy": "2020-12-31T20:10:25.038048Z",
     "iopub.status.idle": "2020-12-31T20:10:26.569629Z",
     "shell.execute_reply": "2020-12-31T20:10:26.568538Z"
    },
    "papermill": {
     "duration": 1.567606,
     "end_time": "2020-12-31T20:10:26.569768",
     "exception": false,
     "start_time": "2020-12-31T20:10:25.002162",
     "status": "completed"
    },
    "tags": []
   },
   "outputs": [],
   "source": [
    "train_images = mnist.train_images()\n",
    "train_labels = mnist.train_labels()"
   ]
  },
  {
   "cell_type": "code",
   "execution_count": 5,
   "metadata": {
    "execution": {
     "iopub.execute_input": "2020-12-31T20:10:26.632142Z",
     "iopub.status.busy": "2020-12-31T20:10:26.631271Z",
     "iopub.status.idle": "2020-12-31T20:10:26.644891Z",
     "shell.execute_reply": "2020-12-31T20:10:26.644285Z"
    },
    "papermill": {
     "duration": 0.046906,
     "end_time": "2020-12-31T20:10:26.645048",
     "exception": false,
     "start_time": "2020-12-31T20:10:26.598142",
     "status": "completed"
    },
    "tags": []
   },
   "outputs": [
    {
     "data": {
      "text/plain": [
       "((60000, 28, 28), (60000,))"
      ]
     },
     "execution_count": 5,
     "metadata": {},
     "output_type": "execute_result"
    }
   ],
   "source": [
    "train_images.shape, train_labels.shape"
   ]
  },
  {
   "cell_type": "code",
   "execution_count": 6,
   "metadata": {
    "execution": {
     "iopub.execute_input": "2020-12-31T20:10:26.705606Z",
     "iopub.status.busy": "2020-12-31T20:10:26.705000Z",
     "iopub.status.idle": "2020-12-31T20:10:27.580876Z",
     "shell.execute_reply": "2020-12-31T20:10:27.580312Z"
    },
    "papermill": {
     "duration": 0.908352,
     "end_time": "2020-12-31T20:10:27.581014",
     "exception": false,
     "start_time": "2020-12-31T20:10:26.672662",
     "status": "completed"
    },
    "tags": []
   },
   "outputs": [],
   "source": [
    "test_images = mnist.test_images()\n",
    "test_labels = mnist.test_labels()"
   ]
  },
  {
   "cell_type": "code",
   "execution_count": 7,
   "metadata": {
    "execution": {
     "iopub.execute_input": "2020-12-31T20:10:27.643718Z",
     "iopub.status.busy": "2020-12-31T20:10:27.643075Z",
     "iopub.status.idle": "2020-12-31T20:10:27.656770Z",
     "shell.execute_reply": "2020-12-31T20:10:27.656109Z"
    },
    "papermill": {
     "duration": 0.047541,
     "end_time": "2020-12-31T20:10:27.656994",
     "exception": false,
     "start_time": "2020-12-31T20:10:27.609453",
     "status": "completed"
    },
    "tags": []
   },
   "outputs": [
    {
     "data": {
      "text/plain": [
       "((10000, 28, 28), (10000,))"
      ]
     },
     "execution_count": 7,
     "metadata": {},
     "output_type": "execute_result"
    }
   ],
   "source": [
    "test_images.shape, test_labels.shape"
   ]
  },
  {
   "cell_type": "code",
   "execution_count": 8,
   "metadata": {
    "execution": {
     "iopub.execute_input": "2020-12-31T20:10:27.722178Z",
     "iopub.status.busy": "2020-12-31T20:10:27.721518Z",
     "iopub.status.idle": "2020-12-31T20:10:27.898841Z",
     "shell.execute_reply": "2020-12-31T20:10:27.899406Z"
    },
    "papermill": {
     "duration": 0.214141,
     "end_time": "2020-12-31T20:10:27.899570",
     "exception": false,
     "start_time": "2020-12-31T20:10:27.685429",
     "status": "completed"
    },
    "tags": []
   },
   "outputs": [
    {
     "name": "stdout",
     "output_type": "stream",
     "text": [
      "2\n"
     ]
    },
    {
     "data": {
      "text/plain": [
       "<matplotlib.image.AxesImage at 0x7f1ddb677278>"
      ]
     },
     "execution_count": 8,
     "metadata": {},
     "output_type": "execute_result"
    },
    {
     "data": {
      "image/png": "[encoded data removed]",
      "text/plain": [
       "<Figure size 432x288 with 1 Axes>"
      ]
     },
     "metadata": {
      "needs_background": "light"
     },
     "output_type": "display_data"
    }
   ],
   "source": [
    "image_index = 7776 # You may select anything up to 60,000\n",
    "print(train_labels[image_index]) \n",
    "plt.imshow(train_images[image_index], cmap='Greys')"
   ]
  },
  {
   "cell_type": "markdown",
   "metadata": {
    "papermill": {
     "duration": 0.035334,
     "end_time": "2020-12-31T20:10:27.966187",
     "exception": false,
     "start_time": "2020-12-31T20:10:27.930853",
     "status": "completed"
    },
    "tags": []
   },
   "source": [
    "## Filter data to get 3 and 8 out"
   ]
  },
  {
   "cell_type": "code",
   "execution_count": 9,
   "metadata": {
    "execution": {
     "iopub.execute_input": "2020-12-31T20:10:28.033065Z",
     "iopub.status.busy": "2020-12-31T20:10:28.032481Z",
     "iopub.status.idle": "2020-12-31T20:10:28.048732Z",
     "shell.execute_reply": "2020-12-31T20:10:28.049211Z"
    },
    "papermill": {
     "duration": 0.052635,
     "end_time": "2020-12-31T20:10:28.049378",
     "exception": false,
     "start_time": "2020-12-31T20:10:27.996743",
     "status": "completed"
    },
    "tags": []
   },
   "outputs": [],
   "source": [
    "train_filter = np.where((train_labels == 3 ) | (train_labels == 8))\n",
    "test_filter = np.where((test_labels == 3) | (test_labels == 8))\n",
    "X_train, y_train = train_images[train_filter], train_labels[train_filter]\n",
    "X_test, y_test = test_images[test_filter], test_labels[test_filter]"
   ]
  },
  {
   "cell_type": "markdown",
   "metadata": {
    "papermill": {
     "duration": 0.029195,
     "end_time": "2020-12-31T20:10:28.107608",
     "exception": false,
     "start_time": "2020-12-31T20:10:28.078413",
     "status": "completed"
    },
    "tags": []
   },
   "source": [
    "We normalize the pixel values in the 0 to 1 range"
   ]
  },
  {
   "cell_type": "code",
   "execution_count": 10,
   "metadata": {
    "execution": {
     "iopub.execute_input": "2020-12-31T20:10:28.169130Z",
     "iopub.status.busy": "2020-12-31T20:10:28.168534Z",
     "iopub.status.idle": "2020-12-31T20:10:28.230911Z",
     "shell.execute_reply": "2020-12-31T20:10:28.230393Z"
    },
    "papermill": {
     "duration": 0.094861,
     "end_time": "2020-12-31T20:10:28.231064",
     "exception": false,
     "start_time": "2020-12-31T20:10:28.136203",
     "status": "completed"
    },
    "tags": []
   },
   "outputs": [],
   "source": [
    "X_train = X_train/255.\n",
    "X_test = X_test/255."
   ]
  },
  {
   "cell_type": "markdown",
   "metadata": {
    "papermill": {
     "duration": 0.029678,
     "end_time": "2020-12-31T20:10:28.290812",
     "exception": false,
     "start_time": "2020-12-31T20:10:28.261134",
     "status": "completed"
    },
    "tags": []
   },
   "source": [
    "Setup the labels as 1 (when the digit is 3) and 0 (when the digit is 8)"
   ]
  },
  {
   "cell_type": "code",
   "execution_count": 11,
   "metadata": {
    "execution": {
     "iopub.execute_input": "2020-12-31T20:10:28.355801Z",
     "iopub.status.busy": "2020-12-31T20:10:28.355216Z",
     "iopub.status.idle": "2020-12-31T20:10:28.369728Z",
     "shell.execute_reply": "2020-12-31T20:10:28.369064Z"
    },
    "papermill": {
     "duration": 0.050567,
     "end_time": "2020-12-31T20:10:28.369920",
     "exception": false,
     "start_time": "2020-12-31T20:10:28.319353",
     "status": "completed"
    },
    "tags": []
   },
   "outputs": [],
   "source": [
    "y_train = 1*(y_train==3)\n",
    "y_test = 1*(y_test==3)"
   ]
  },
  {
   "cell_type": "code",
   "execution_count": 12,
   "metadata": {
    "execution": {
     "iopub.execute_input": "2020-12-31T20:10:28.431953Z",
     "iopub.status.busy": "2020-12-31T20:10:28.431233Z",
     "iopub.status.idle": "2020-12-31T20:10:28.444655Z",
     "shell.execute_reply": "2020-12-31T20:10:28.445246Z"
    },
    "papermill": {
     "duration": 0.04643,
     "end_time": "2020-12-31T20:10:28.445408",
     "exception": false,
     "start_time": "2020-12-31T20:10:28.398978",
     "status": "completed"
    },
    "tags": []
   },
   "outputs": [
    {
     "data": {
      "text/plain": [
       "((11982, 28, 28), (1984, 28, 28))"
      ]
     },
     "execution_count": 12,
     "metadata": {},
     "output_type": "execute_result"
    }
   ],
   "source": [
    "X_train.shape, X_test.shape"
   ]
  },
  {
   "cell_type": "markdown",
   "metadata": {
    "papermill": {
     "duration": 0.029342,
     "end_time": "2020-12-31T20:10:28.507441",
     "exception": false,
     "start_time": "2020-12-31T20:10:28.478099",
     "status": "completed"
    },
    "tags": []
   },
   "source": [
    "### Reshape the input data to create a linear array"
   ]
  },
  {
   "cell_type": "code",
   "execution_count": 13,
   "metadata": {
    "execution": {
     "iopub.execute_input": "2020-12-31T20:10:28.570315Z",
     "iopub.status.busy": "2020-12-31T20:10:28.569725Z",
     "iopub.status.idle": "2020-12-31T20:10:28.583158Z",
     "shell.execute_reply": "2020-12-31T20:10:28.583718Z"
    },
    "papermill": {
     "duration": 0.047241,
     "end_time": "2020-12-31T20:10:28.583858",
     "exception": false,
     "start_time": "2020-12-31T20:10:28.536617",
     "status": "completed"
    },
    "tags": []
   },
   "outputs": [
    {
     "data": {
      "text/plain": [
       "((11982, 784), (1984, 784))"
      ]
     },
     "execution_count": 13,
     "metadata": {},
     "output_type": "execute_result"
    }
   ],
   "source": [
    "X_train = X_train.reshape(X_train.shape[0], -1)\n",
    "X_test = X_test.reshape(X_test.shape[0], -1)\n",
    "X_train.shape, X_test.shape"
   ]
  },
  {
   "cell_type": "markdown",
   "metadata": {
    "papermill": {
     "duration": 0.029652,
     "end_time": "2020-12-31T20:10:28.642957",
     "exception": false,
     "start_time": "2020-12-31T20:10:28.613305",
     "status": "completed"
    },
    "tags": []
   },
   "source": [
    "### Importing appropriate functions from 'Kudzu'"
   ]
  },
  {
   "cell_type": "code",
   "execution_count": 14,
   "metadata": {
    "execution": {
     "iopub.execute_input": "2020-12-31T20:10:28.715563Z",
     "iopub.status.busy": "2020-12-31T20:10:28.714931Z",
     "iopub.status.idle": "2020-12-31T20:10:28.734785Z",
     "shell.execute_reply": "2020-12-31T20:10:28.735508Z"
    },
    "papermill": {
     "duration": 0.060811,
     "end_time": "2020-12-31T20:10:28.735736",
     "exception": false,
     "start_time": "2020-12-31T20:10:28.674925",
     "status": "completed"
    },
    "tags": []
   },
   "outputs": [],
   "source": [
    "from kudzu.layer import Sigmoid\n",
    "from kudzu.layer import Relu\n",
    "from kudzu.layer import Affine, Sigmoid\n",
    "\n",
    "from kudzu.model import Model\n",
    "from kudzu.train import Learner\n",
    "from kudzu.optim import GD\n",
    "from kudzu.data import Data, Dataloader, Sampler\n",
    "\n",
    "from kudzu.callbacks import AccCallback\n",
    "from kudzu.callbacks import ClfCallback\n",
    "\n",
    "from kudzu.loss import MSE"
   ]
  },
  {
   "cell_type": "markdown",
   "metadata": {
    "papermill": {
     "duration": 0.033346,
     "end_time": "2020-12-31T20:10:28.803050",
     "exception": false,
     "start_time": "2020-12-31T20:10:28.769704",
     "status": "completed"
    },
    "tags": []
   },
   "source": [
    "### Let us create a `Config` class, to store important parameters. \n",
    "This class essentially plays the role of a dictionary."
   ]
  },
  {
   "cell_type": "code",
   "execution_count": 15,
   "metadata": {
    "execution": {
     "iopub.execute_input": "2020-12-31T20:10:28.877227Z",
     "iopub.status.busy": "2020-12-31T20:10:28.876598Z",
     "iopub.status.idle": "2020-12-31T20:10:28.888941Z",
     "shell.execute_reply": "2020-12-31T20:10:28.889425Z"
    },
    "papermill": {
     "duration": 0.052315,
     "end_time": "2020-12-31T20:10:28.889578",
     "exception": false,
     "start_time": "2020-12-31T20:10:28.837263",
     "status": "completed"
    },
    "tags": []
   },
   "outputs": [],
   "source": [
    "class Config:\n",
    "    pass\n",
    "config = Config()\n",
    "config.lr = 0.001\n",
    "config.num_epochs = 251\n",
    "config.bs = 50"
   ]
  },
  {
   "cell_type": "markdown",
   "metadata": {
    "papermill": {
     "duration": 0.031318,
     "end_time": "2020-12-31T20:10:28.952565",
     "exception": false,
     "start_time": "2020-12-31T20:10:28.921247",
     "status": "completed"
    },
    "tags": []
   },
   "source": [
    "### Initializing data to the variables"
   ]
  },
  {
   "cell_type": "code",
   "execution_count": 16,
   "metadata": {
    "execution": {
     "iopub.execute_input": "2020-12-31T20:10:29.021923Z",
     "iopub.status.busy": "2020-12-31T20:10:29.021304Z",
     "iopub.status.idle": "2020-12-31T20:10:29.033085Z",
     "shell.execute_reply": "2020-12-31T20:10:29.032561Z"
    },
    "papermill": {
     "duration": 0.049205,
     "end_time": "2020-12-31T20:10:29.033227",
     "exception": false,
     "start_time": "2020-12-31T20:10:28.984022",
     "status": "completed"
    },
    "tags": []
   },
   "outputs": [],
   "source": [
    "data = Data(X_train, y_train.reshape(-1,1))\n",
    "sampler = Sampler(data, config.bs, shuffle=True)\n",
    "\n",
    "dl = Dataloader(data, sampler)\n",
    "\n",
    "opt = GD(config.lr)\n",
    "loss = MSE()"
   ]
  },
  {
   "cell_type": "code",
   "execution_count": 17,
   "metadata": {
    "execution": {
     "iopub.execute_input": "2020-12-31T20:10:29.100758Z",
     "iopub.status.busy": "2020-12-31T20:10:29.099944Z",
     "iopub.status.idle": "2020-12-31T20:10:29.112937Z",
     "shell.execute_reply": "2020-12-31T20:10:29.113488Z"
    },
    "papermill": {
     "duration": 0.050722,
     "end_time": "2020-12-31T20:10:29.113640",
     "exception": false,
     "start_time": "2020-12-31T20:10:29.062918",
     "status": "completed"
    },
    "tags": []
   },
   "outputs": [],
   "source": [
    "training_xdata = X_train\n",
    "testing_xdata = X_test\n",
    "training_ydata = y_train.reshape(-1,1)\n",
    "testing_ydata = y_test.reshape(-1,1)"
   ]
  },
  {
   "cell_type": "markdown",
   "metadata": {
    "papermill": {
     "duration": 0.031394,
     "end_time": "2020-12-31T20:10:29.175180",
     "exception": false,
     "start_time": "2020-12-31T20:10:29.143786",
     "status": "completed"
    },
    "tags": []
   },
   "source": [
    "### Running Models with the Training data\n",
    "Details about the network layers:\n",
    "- A first affine layer has 784 inputs and does 100 affine transforms. These are followed by a Relu\n",
    "- A second affine layer has 100 inputs from the 100 activations of the past layer, and does 100 affine transforms. These are followed by a Relu\n",
    "- A third affine layer has 100 activations and does 2 affine transformations to create an embedding for visualization. There is no non-linearity here.\n",
    "- A final \"logistic regression\" which has an affine transform from 2 inputs to 1 output, which is squeezed through a sigmoid.\n",
    "\n",
    "Help taken from Anshuman's Notebook."
   ]
  },
  {
   "cell_type": "code",
   "execution_count": 18,
   "metadata": {
    "execution": {
     "iopub.execute_input": "2020-12-31T20:10:29.242447Z",
     "iopub.status.busy": "2020-12-31T20:10:29.241797Z",
     "iopub.status.idle": "2020-12-31T20:10:29.259420Z",
     "shell.execute_reply": "2020-12-31T20:10:29.260012Z"
    },
    "papermill": {
     "duration": 0.054277,
     "end_time": "2020-12-31T20:10:29.260261",
     "exception": false,
     "start_time": "2020-12-31T20:10:29.205984",
     "status": "completed"
    },
    "tags": []
   },
   "outputs": [],
   "source": [
    "# layers for the Neural Network\n",
    "layers = [Affine(\"first\", 784, 100), Relu(\"first\"), Affine(\"second\", 100, 100), Relu(\"second\"), Affine(\"third\", 100, 2), Affine(\"final\", 2, 1), Sigmoid(\"final\")]\n",
    "model_nn = Model(layers)\n",
    "\n",
    "# layers for the Logistic Regression\n",
    "layers_lr = [Affine(\"logits\", 784, 1), Sigmoid(\"sigmoid\")]\n",
    "model_lr = Model(layers_lr)"
   ]
  },
  {
   "cell_type": "code",
   "execution_count": 19,
   "metadata": {
    "execution": {
     "iopub.execute_input": "2020-12-31T20:10:29.335014Z",
     "iopub.status.busy": "2020-12-31T20:10:29.334414Z",
     "iopub.status.idle": "2020-12-31T20:10:29.343992Z",
     "shell.execute_reply": "2020-12-31T20:10:29.343373Z"
    },
    "papermill": {
     "duration": 0.04964,
     "end_time": "2020-12-31T20:10:29.344127",
     "exception": false,
     "start_time": "2020-12-31T20:10:29.294487",
     "status": "completed"
    },
    "tags": []
   },
   "outputs": [],
   "source": [
    "# suffix _nn stands for Neural Network.\n",
    "learner_nn = Learner(loss, model_nn, opt, config.num_epochs)\n",
    "acc_nn = ClfCallback(learner_nn, config.bs, training_xdata , testing_xdata, training_ydata, testing_ydata)\n",
    "learner_nn.set_callbacks([acc_nn])"
   ]
  },
  {
   "cell_type": "code",
   "execution_count": 20,
   "metadata": {
    "execution": {
     "iopub.execute_input": "2020-12-31T20:10:29.410557Z",
     "iopub.status.busy": "2020-12-31T20:10:29.409937Z",
     "iopub.status.idle": "2020-12-31T20:12:46.662850Z",
     "shell.execute_reply": "2020-12-31T20:12:46.663450Z"
    },
    "papermill": {
     "duration": 137.287466,
     "end_time": "2020-12-31T20:12:46.663603",
     "exception": false,
     "start_time": "2020-12-31T20:10:29.376137",
     "status": "completed"
    },
    "tags": []
   },
   "outputs": [
    {
     "name": "stdout",
     "output_type": "stream",
     "text": [
      "====== Neural Network ======\n"
     ]
    },
    {
     "name": "stdout",
     "output_type": "stream",
     "text": [
      "Epoch 0, Loss 0.2169\n",
      "Training Accuracy: 0.8242, Testing Accuracy: 0.8185\n",
      "\n"
     ]
    },
    {
     "name": "stdout",
     "output_type": "stream",
     "text": [
      "Epoch 10, Loss 0.0739\n",
      "Training Accuracy: 0.9316, Testing Accuracy: 0.9370\n",
      "\n"
     ]
    },
    {
     "name": "stdout",
     "output_type": "stream",
     "text": [
      "Epoch 20, Loss 0.0502\n",
      "Training Accuracy: 0.9459, Testing Accuracy: 0.9556\n",
      "\n"
     ]
    },
    {
     "name": "stdout",
     "output_type": "stream",
     "text": [
      "Epoch 30, Loss 0.0412\n",
      "Training Accuracy: 0.9531, Testing Accuracy: 0.9632\n",
      "\n"
     ]
    },
    {
     "name": "stdout",
     "output_type": "stream",
     "text": [
      "Epoch 40, Loss 0.0365\n",
      "Training Accuracy: 0.9584, Testing Accuracy: 0.9672\n",
      "\n"
     ]
    },
    {
     "name": "stdout",
     "output_type": "stream",
     "text": [
      "Epoch 50, Loss 0.0335\n",
      "Training Accuracy: 0.9619, Testing Accuracy: 0.9682\n",
      "\n"
     ]
    },
    {
     "name": "stdout",
     "output_type": "stream",
     "text": [
      "Epoch 60, Loss 0.0314\n",
      "Training Accuracy: 0.9640, Testing Accuracy: 0.9677\n",
      "\n"
     ]
    },
    {
     "name": "stdout",
     "output_type": "stream",
     "text": [
      "Epoch 70, Loss 0.0298\n",
      "Training Accuracy: 0.9667, Testing Accuracy: 0.9682\n",
      "\n"
     ]
    },
    {
     "name": "stdout",
     "output_type": "stream",
     "text": [
      "Epoch 80, Loss 0.0285\n",
      "Training Accuracy: 0.9675, Testing Accuracy: 0.9682\n",
      "\n"
     ]
    },
    {
     "name": "stdout",
     "output_type": "stream",
     "text": [
      "Epoch 90, Loss 0.0274\n",
      "Training Accuracy: 0.9687, Testing Accuracy: 0.9688\n",
      "\n"
     ]
    },
    {
     "name": "stdout",
     "output_type": "stream",
     "text": [
      "Epoch 100, Loss 0.0265\n",
      "Training Accuracy: 0.9693, Testing Accuracy: 0.9698\n",
      "\n"
     ]
    },
    {
     "name": "stdout",
     "output_type": "stream",
     "text": [
      "Epoch 110, Loss 0.0256\n",
      "Training Accuracy: 0.9708, Testing Accuracy: 0.9698\n",
      "\n"
     ]
    },
    {
     "name": "stdout",
     "output_type": "stream",
     "text": [
      "Epoch 120, Loss 0.0249\n",
      "Training Accuracy: 0.9712, Testing Accuracy: 0.9703\n",
      "\n"
     ]
    },
    {
     "name": "stdout",
     "output_type": "stream",
     "text": [
      "Epoch 130, Loss 0.0243\n",
      "Training Accuracy: 0.9719, Testing Accuracy: 0.9708\n",
      "\n"
     ]
    },
    {
     "name": "stdout",
     "output_type": "stream",
     "text": [
      "Epoch 140, Loss 0.0237\n",
      "Training Accuracy: 0.9728, Testing Accuracy: 0.9708\n",
      "\n"
     ]
    },
    {
     "name": "stdout",
     "output_type": "stream",
     "text": [
      "Epoch 150, Loss 0.0231\n",
      "Training Accuracy: 0.9734, Testing Accuracy: 0.9713\n",
      "\n"
     ]
    },
    {
     "name": "stdout",
     "output_type": "stream",
     "text": [
      "Epoch 160, Loss 0.0226\n",
      "Training Accuracy: 0.9749, Testing Accuracy: 0.9713\n",
      "\n"
     ]
    },
    {
     "name": "stdout",
     "output_type": "stream",
     "text": [
      "Epoch 170, Loss 0.0221\n",
      "Training Accuracy: 0.9757, Testing Accuracy: 0.9713\n",
      "\n"
     ]
    },
    {
     "name": "stdout",
     "output_type": "stream",
     "text": [
      "Epoch 180, Loss 0.0217\n",
      "Training Accuracy: 0.9760, Testing Accuracy: 0.9713\n",
      "\n"
     ]
    },
    {
     "name": "stdout",
     "output_type": "stream",
     "text": [
      "Epoch 190, Loss 0.0213\n",
      "Training Accuracy: 0.9765, Testing Accuracy: 0.9718\n",
      "\n"
     ]
    },
    {
     "name": "stdout",
     "output_type": "stream",
     "text": [
      "Epoch 200, Loss 0.0209\n",
      "Training Accuracy: 0.9766, Testing Accuracy: 0.9723\n",
      "\n"
     ]
    },
    {
     "name": "stdout",
     "output_type": "stream",
     "text": [
      "Epoch 210, Loss 0.0205\n",
      "Training Accuracy: 0.9771, Testing Accuracy: 0.9723\n",
      "\n"
     ]
    },
    {
     "name": "stdout",
     "output_type": "stream",
     "text": [
      "Epoch 220, Loss 0.0202\n",
      "Training Accuracy: 0.9777, Testing Accuracy: 0.9723\n",
      "\n"
     ]
    },
    {
     "name": "stdout",
     "output_type": "stream",
     "text": [
      "Epoch 230, Loss 0.0198\n",
      "Training Accuracy: 0.9783, Testing Accuracy: 0.9728\n",
      "\n"
     ]
    },
    {
     "name": "stdout",
     "output_type": "stream",
     "text": [
      "Epoch 240, Loss 0.0195\n",
      "Training Accuracy: 0.9786, Testing Accuracy: 0.9728\n",
      "\n"
     ]
    },
    {
     "name": "stdout",
     "output_type": "stream",
     "text": [
      "Epoch 250, Loss 0.0192\n",
      "Training Accuracy: 0.9790, Testing Accuracy: 0.9728\n",
      "\n"
     ]
    },
    {
     "data": {
      "text/plain": [
       "0.042093750859094996"
      ]
     },
     "execution_count": 20,
     "metadata": {},
     "output_type": "execute_result"
    }
   ],
   "source": [
    "print(\"====== Neural Network ======\")\n",
    "learner_nn.train_loop(dl)"
   ]
  },
  {
   "cell_type": "markdown",
   "metadata": {
    "papermill": {
     "duration": 0.082058,
     "end_time": "2020-12-31T20:12:46.784564",
     "exception": false,
     "start_time": "2020-12-31T20:12:46.702506",
     "status": "completed"
    },
    "tags": []
   },
   "source": [
    "### Logistic Regression based Implementation."
   ]
  },
  {
   "cell_type": "code",
   "execution_count": 21,
   "metadata": {
    "execution": {
     "iopub.execute_input": "2020-12-31T20:12:46.869139Z",
     "iopub.status.busy": "2020-12-31T20:12:46.868557Z",
     "iopub.status.idle": "2020-12-31T20:12:46.881060Z",
     "shell.execute_reply": "2020-12-31T20:12:46.880284Z"
    },
    "papermill": {
     "duration": 0.05698,
     "end_time": "2020-12-31T20:12:46.881183",
     "exception": false,
     "start_time": "2020-12-31T20:12:46.824203",
     "status": "completed"
    },
    "tags": []
   },
   "outputs": [],
   "source": [
    "learner_lr = Learner(loss, model_lr, opt, config.num_epochs)\n",
    "acc_lr = ClfCallback(learner_lr, config.bs, training_xdata , testing_xdata, training_ydata, testing_ydata)\n",
    "learner_lr.set_callbacks([acc_lr])"
   ]
  },
  {
   "cell_type": "code",
   "execution_count": 22,
   "metadata": {
    "execution": {
     "iopub.execute_input": "2020-12-31T20:12:46.963218Z",
     "iopub.status.busy": "2020-12-31T20:12:46.961688Z",
     "iopub.status.idle": "2020-12-31T20:13:07.535439Z",
     "shell.execute_reply": "2020-12-31T20:13:07.536267Z"
    },
    "papermill": {
     "duration": 20.61723,
     "end_time": "2020-12-31T20:13:07.536415",
     "exception": false,
     "start_time": "2020-12-31T20:12:46.919185",
     "status": "completed"
    },
    "tags": []
   },
   "outputs": [
    {
     "name": "stdout",
     "output_type": "stream",
     "text": [
      "====== Logistic Regression ======\n",
      "Epoch 0, Loss 0.2368\n",
      "Training Accuracy: 0.7223, Testing Accuracy: 0.7334\n",
      "\n"
     ]
    },
    {
     "name": "stdout",
     "output_type": "stream",
     "text": [
      "Epoch 10, Loss 0.102\n",
      "Training Accuracy: 0.9105, Testing Accuracy: 0.9269\n",
      "\n"
     ]
    },
    {
     "name": "stdout",
     "output_type": "stream",
     "text": [
      "Epoch 20, Loss 0.0788\n",
      "Training Accuracy: 0.9277, Testing Accuracy: 0.9441\n",
      "\n"
     ]
    },
    {
     "name": "stdout",
     "output_type": "stream",
     "text": [
      "Epoch 30, Loss 0.068\n",
      "Training Accuracy: 0.9367, Testing Accuracy: 0.9491\n",
      "\n"
     ]
    },
    {
     "name": "stdout",
     "output_type": "stream",
     "text": [
      "Epoch 40, Loss 0.0616\n",
      "Training Accuracy: 0.9407, Testing Accuracy: 0.9521\n",
      "\n"
     ]
    },
    {
     "name": "stdout",
     "output_type": "stream",
     "text": [
      "Epoch 50, Loss 0.0571\n",
      "Training Accuracy: 0.9445, Testing Accuracy: 0.9546\n",
      "\n"
     ]
    },
    {
     "name": "stdout",
     "output_type": "stream",
     "text": [
      "Epoch 60, Loss 0.0538\n",
      "Training Accuracy: 0.9470, Testing Accuracy: 0.9561\n",
      "\n"
     ]
    },
    {
     "name": "stdout",
     "output_type": "stream",
     "text": [
      "Epoch 70, Loss 0.0513\n",
      "Training Accuracy: 0.9490, Testing Accuracy: 0.9582\n",
      "\n"
     ]
    },
    {
     "name": "stdout",
     "output_type": "stream",
     "text": [
      "Epoch 80, Loss 0.0492\n",
      "Training Accuracy: 0.9510, Testing Accuracy: 0.9602\n",
      "\n"
     ]
    },
    {
     "name": "stdout",
     "output_type": "stream",
     "text": [
      "Epoch 90, Loss 0.0475\n",
      "Training Accuracy: 0.9520, Testing Accuracy: 0.9622\n",
      "\n"
     ]
    },
    {
     "name": "stdout",
     "output_type": "stream",
     "text": [
      "Epoch 100, Loss 0.0461\n",
      "Training Accuracy: 0.9528, Testing Accuracy: 0.9622\n",
      "\n"
     ]
    },
    {
     "name": "stdout",
     "output_type": "stream",
     "text": [
      "Epoch 110, Loss 0.0449\n",
      "Training Accuracy: 0.9542, Testing Accuracy: 0.9637\n",
      "\n"
     ]
    },
    {
     "name": "stdout",
     "output_type": "stream",
     "text": [
      "Epoch 120, Loss 0.0438\n",
      "Training Accuracy: 0.9547, Testing Accuracy: 0.9642\n",
      "\n"
     ]
    },
    {
     "name": "stdout",
     "output_type": "stream",
     "text": [
      "Epoch 130, Loss 0.0429\n",
      "Training Accuracy: 0.9557, Testing Accuracy: 0.9642\n",
      "\n"
     ]
    },
    {
     "name": "stdout",
     "output_type": "stream",
     "text": [
      "Epoch 140, Loss 0.0421\n",
      "Training Accuracy: 0.9564, Testing Accuracy: 0.9637\n",
      "\n"
     ]
    },
    {
     "name": "stdout",
     "output_type": "stream",
     "text": [
      "Epoch 150, Loss 0.0413\n",
      "Training Accuracy: 0.9573, Testing Accuracy: 0.9642\n",
      "\n"
     ]
    },
    {
     "name": "stdout",
     "output_type": "stream",
     "text": [
      "Epoch 160, Loss 0.0406\n",
      "Training Accuracy: 0.9576, Testing Accuracy: 0.9647\n",
      "\n"
     ]
    },
    {
     "name": "stdout",
     "output_type": "stream",
     "text": [
      "Epoch 170, Loss 0.04\n",
      "Training Accuracy: 0.9582, Testing Accuracy: 0.9652\n",
      "\n"
     ]
    },
    {
     "name": "stdout",
     "output_type": "stream",
     "text": [
      "Epoch 180, Loss 0.0395\n",
      "Training Accuracy: 0.9587, Testing Accuracy: 0.9647\n",
      "\n"
     ]
    },
    {
     "name": "stdout",
     "output_type": "stream",
     "text": [
      "Epoch 190, Loss 0.0389\n",
      "Training Accuracy: 0.9589, Testing Accuracy: 0.9647\n",
      "\n"
     ]
    },
    {
     "name": "stdout",
     "output_type": "stream",
     "text": [
      "Epoch 200, Loss 0.0385\n",
      "Training Accuracy: 0.9594, Testing Accuracy: 0.9652\n",
      "\n"
     ]
    },
    {
     "name": "stdout",
     "output_type": "stream",
     "text": [
      "Epoch 210, Loss 0.038\n",
      "Training Accuracy: 0.9596, Testing Accuracy: 0.9657\n",
      "\n"
     ]
    },
    {
     "name": "stdout",
     "output_type": "stream",
     "text": [
      "Epoch 220, Loss 0.0376\n",
      "Training Accuracy: 0.9600, Testing Accuracy: 0.9667\n",
      "\n"
     ]
    },
    {
     "name": "stdout",
     "output_type": "stream",
     "text": [
      "Epoch 230, Loss 0.0372\n",
      "Training Accuracy: 0.9606, Testing Accuracy: 0.9662\n",
      "\n"
     ]
    },
    {
     "name": "stdout",
     "output_type": "stream",
     "text": [
      "Epoch 240, Loss 0.0369\n",
      "Training Accuracy: 0.9608, Testing Accuracy: 0.9662\n",
      "\n"
     ]
    },
    {
     "name": "stdout",
     "output_type": "stream",
     "text": [
      "Epoch 250, Loss 0.0365\n",
      "Training Accuracy: 0.9610, Testing Accuracy: 0.9667\n",
      "\n"
     ]
    },
    {
     "data": {
      "text/plain": [
       "0.0545776191271774"
      ]
     },
     "execution_count": 22,
     "metadata": {},
     "output_type": "execute_result"
    }
   ],
   "source": [
    "print(\"====== Logistic Regression ======\")\n",
    "learner_lr.train_loop(dl)"
   ]
  },
  {
   "cell_type": "markdown",
   "metadata": {
    "papermill": {
     "duration": 0.047758,
     "end_time": "2020-12-31T20:13:07.631723",
     "exception": false,
     "start_time": "2020-12-31T20:13:07.583965",
     "status": "completed"
    },
    "tags": []
   },
   "source": [
    "### Comparing results of NN and LR"
   ]
  },
  {
   "cell_type": "code",
   "execution_count": 23,
   "metadata": {
    "execution": {
     "iopub.execute_input": "2020-12-31T20:13:07.737122Z",
     "iopub.status.busy": "2020-12-31T20:13:07.735806Z",
     "iopub.status.idle": "2020-12-31T20:13:08.008640Z",
     "shell.execute_reply": "2020-12-31T20:13:08.008166Z"
    },
    "papermill": {
     "duration": 0.327702,
     "end_time": "2020-12-31T20:13:08.008761",
     "exception": false,
     "start_time": "2020-12-31T20:13:07.681059",
     "status": "completed"
    },
    "tags": []
   },
   "outputs": [
    {
     "data": {
      "text/plain": [
       "<matplotlib.legend.Legend at 0x7f1dd5ec1ba8>"
      ]
     },
     "execution_count": 23,
     "metadata": {},
     "output_type": "execute_result"
    },
    {
     "data": {
      "image/png": "[encoded data removed]",
      "text/plain": [
       "<Figure size 1080x720 with 1 Axes>"
      ]
     },
     "metadata": {
      "needs_background": "light"
     },
     "output_type": "display_data"
    }
   ],
   "source": [
    "plt.figure(figsize=(15,10))\n",
    "\n",
    "# Neural Network plots\n",
    "plt.plot(acc_nn.accuracies, 'r-', label = \"Training Accuracies - NN\")\n",
    "plt.plot(acc_nn.test_accuracies, 'g-', label = \"Testing Accuracies - NN\")\n",
    "\n",
    "# Logistic Regression plots\n",
    "plt.plot(acc_lr.accuracies, 'k-', label = \"Training Accuracies - LR\")\n",
    "plt.plot(acc_lr.test_accuracies, 'b-', label = \"Testing Accuracies - LR\")\n",
    "\n",
    "plt.ylim(0.8, 1)\n",
    "\n",
    "plt.legend()\n",
    "\n"
   ]
  },
  {
   "cell_type": "markdown",
   "metadata": {
    "papermill": {
     "duration": 0.046544,
     "end_time": "2020-12-31T20:13:08.103671",
     "exception": false,
     "start_time": "2020-12-31T20:13:08.057127",
     "status": "completed"
    },
    "tags": []
   },
   "source": [
    "### From the plot, we can observe the following:\n",
    "- Neural Network achieves higher accuracy than the Logistic Regression model.\n",
    "- This apparently, is because of overfitting, i.e. NN captures more noise than data.\n",
    "- Testing accuracy of NN drops below the Training accuracy at higher epochs. This explains the over-fitting on training data.\n",
    "- Logistic Regression gives a reliable accuracy, without the above mentioned problem.\n"
   ]
  },
  {
   "cell_type": "markdown",
   "metadata": {
    "papermill": {
     "duration": 0.049388,
     "end_time": "2020-12-31T20:13:08.199263",
     "exception": false,
     "start_time": "2020-12-31T20:13:08.149875",
     "status": "completed"
    },
    "tags": []
   },
   "source": [
    "### Moving till the last but one layer (excluding it).\n",
    "#### Plotting the outputs of this layer of the NN."
   ]
  },
  {
   "cell_type": "code",
   "execution_count": 24,
   "metadata": {
    "execution": {
     "iopub.execute_input": "2020-12-31T20:13:08.304039Z",
     "iopub.status.busy": "2020-12-31T20:13:08.299267Z",
     "iopub.status.idle": "2020-12-31T20:13:08.313415Z",
     "shell.execute_reply": "2020-12-31T20:13:08.314100Z"
    },
    "papermill": {
     "duration": 0.066097,
     "end_time": "2020-12-31T20:13:08.314311",
     "exception": false,
     "start_time": "2020-12-31T20:13:08.248214",
     "status": "completed"
    },
    "tags": []
   },
   "outputs": [],
   "source": [
    "model_new = Model(layers[:-2])"
   ]
  },
  {
   "cell_type": "code",
   "execution_count": 25,
   "metadata": {
    "execution": {
     "iopub.execute_input": "2020-12-31T20:13:08.423724Z",
     "iopub.status.busy": "2020-12-31T20:13:08.414884Z",
     "iopub.status.idle": "2020-12-31T20:13:08.444580Z",
     "shell.execute_reply": "2020-12-31T20:13:08.445149Z"
    },
    "papermill": {
     "duration": 0.084421,
     "end_time": "2020-12-31T20:13:08.445303",
     "exception": false,
     "start_time": "2020-12-31T20:13:08.360882",
     "status": "completed"
    },
    "tags": []
   },
   "outputs": [],
   "source": [
    "plot_testing = model_new(testing_xdata)"
   ]
  },
  {
   "cell_type": "code",
   "execution_count": 26,
   "metadata": {
    "execution": {
     "iopub.execute_input": "2020-12-31T20:13:08.556434Z",
     "iopub.status.busy": "2020-12-31T20:13:08.555851Z",
     "iopub.status.idle": "2020-12-31T20:13:08.795628Z",
     "shell.execute_reply": "2020-12-31T20:13:08.796274Z"
    },
    "papermill": {
     "duration": 0.295593,
     "end_time": "2020-12-31T20:13:08.796429",
     "exception": false,
     "start_time": "2020-12-31T20:13:08.500836",
     "status": "completed"
    },
    "tags": []
   },
   "outputs": [
    {
     "data": {
      "text/plain": [
       "Text(0.5, 1.0, 'Outputs')"
      ]
     },
     "execution_count": 26,
     "metadata": {},
     "output_type": "execute_result"
    },
    {
     "data": {
      "image/png": "[encoded data removed]",
      "text/plain": [
       "<Figure size 576x504 with 1 Axes>"
      ]
     },
     "metadata": {
      "needs_background": "light"
     },
     "output_type": "display_data"
    }
   ],
   "source": [
    "plt.figure(figsize=(8,7))\n",
    "plt.scatter(plot_testing[:,0], plot_testing[:,1], alpha = 0.1, c = y_test.ravel());\n",
    "plt.title('Outputs')"
   ]
  },
  {
   "cell_type": "markdown",
   "metadata": {
    "papermill": {
     "duration": 0.049906,
     "end_time": "2020-12-31T20:13:08.897537",
     "exception": false,
     "start_time": "2020-12-31T20:13:08.847631",
     "status": "completed"
    },
    "tags": []
   },
   "source": [
    "### Plotting probability contours"
   ]
  },
  {
   "cell_type": "code",
   "execution_count": 27,
   "metadata": {
    "execution": {
     "iopub.execute_input": "2020-12-31T20:13:09.000432Z",
     "iopub.status.busy": "2020-12-31T20:13:08.999808Z",
     "iopub.status.idle": "2020-12-31T20:13:09.012334Z",
     "shell.execute_reply": "2020-12-31T20:13:09.011715Z"
    },
    "papermill": {
     "duration": 0.065864,
     "end_time": "2020-12-31T20:13:09.012455",
     "exception": false,
     "start_time": "2020-12-31T20:13:08.946591",
     "status": "completed"
    },
    "tags": []
   },
   "outputs": [],
   "source": [
    "model_prob = Model(layers[-2:]) "
   ]
  },
  {
   "cell_type": "code",
   "execution_count": 28,
   "metadata": {
    "execution": {
     "iopub.execute_input": "2020-12-31T20:13:09.121671Z",
     "iopub.status.busy": "2020-12-31T20:13:09.121014Z",
     "iopub.status.idle": "2020-12-31T20:13:09.133349Z",
     "shell.execute_reply": "2020-12-31T20:13:09.133796Z"
    },
    "papermill": {
     "duration": 0.071471,
     "end_time": "2020-12-31T20:13:09.133948",
     "exception": false,
     "start_time": "2020-12-31T20:13:09.062477",
     "status": "completed"
    },
    "tags": []
   },
   "outputs": [],
   "source": [
    "# Adjust the x and y ranges according to the above generated plot.\n",
    "x_range = np.linspace(-4, 1, 100) \n",
    "y_range = np.linspace(-6, 6, 100) \n",
    "x_grid, y_grid = np.meshgrid(x_range, y_range) # x_grid and y_grig are of size 100 X 100\n",
    "\n",
    "# converting x_grid and y_grid to continuous arrays\n",
    "x_grid_flat = np.ravel(x_grid)\n",
    "y_grid_flat = np.ravel(y_grid)\n",
    "\n",
    "# The last layer of the current model takes two columns as input. Hence transpose of np.vstack() is required.\n",
    "X = np.vstack((x_grid_flat, y_grid_flat)).T\n",
    "\n",
    "# x_grid and y_grid are of size 100 x 100\n",
    "probability_contour = model_prob(X).reshape(100,100) "
   ]
  },
  {
   "cell_type": "code",
   "execution_count": 29,
   "metadata": {
    "execution": {
     "iopub.execute_input": "2020-12-31T20:13:09.268102Z",
     "iopub.status.busy": "2020-12-31T20:13:09.267507Z",
     "iopub.status.idle": "2020-12-31T20:13:09.565870Z",
     "shell.execute_reply": "2020-12-31T20:13:09.565356Z"
    },
    "papermill": {
     "duration": 0.355197,
     "end_time": "2020-12-31T20:13:09.566001",
     "exception": false,
     "start_time": "2020-12-31T20:13:09.210804",
     "status": "completed"
    },
    "tags": []
   },
   "outputs": [
    {
     "data": {
      "image/png": "[encoded data removed]",
      "text/plain": [
       "<Figure size 720x648 with 1 Axes>"
      ]
     },
     "metadata": {
      "needs_background": "light"
     },
     "output_type": "display_data"
    }
   ],
   "source": [
    "plt.figure(figsize=(10,9))\n",
    "plt.scatter(plot_testing[:,0], plot_testing[:,1], alpha = 0.1, c = y_test.ravel())\n",
    "contours = plt.contour(x_grid,y_grid,probability_contour)\n",
    "plt.title('Probability Contours')\n",
    "plt.clabel(contours, inline = True );"
   ]
  }
 ],
 "metadata": {
  "kernelspec": {
   "display_name": "Python 3",
   "language": "python",
   "name": "python3"
  },
  "language_info": {
   "codemirror_mode": {
    "name": "ipython",
    "version": 3
   },
   "file_extension": ".py",
   "mimetype": "text/x-python",
   "name": "python",
   "nbconvert_exporter": "python",
   "pygments_lexer": "ipython3",
   "version": "3.6.12"
  },
  "papermill": {
   "duration": 169.131159,
   "end_time": "2020-12-31T20:13:10.028111",
   "environment_variables": {},
   "exception": null,
   "input_path": "2020-08-11-NeuralNetwork.ipynb",
   "output_path": "2020-08-11-NeuralNetwork.ipynb",
   "parameters": {},
   "start_time": "2020-12-31T20:10:20.896952",
   "version": "2.1.2"
  }
 },
 "nbformat": 4,
 "nbformat_minor": 4
}