{
 "cells": [
  {
   "cell_type": "markdown",
   "metadata": {
    "papermill": {
     "duration": 0.035037,
     "end_time": "2021-01-09T00:23:46.403426",
     "exception": false,
     "start_time": "2021-01-09T00:23:46.368389",
     "status": "completed"
    },
    "tags": []
   },
   "source": [
    "# \"A Basic Neural Network: Differentiate Hand-Written Digits\"\n",
    "\n",
    "- badges: true\n",
    "- author: Akshith Sriram"
   ]
  },
  {
   "cell_type": "markdown",
   "metadata": {
    "papermill": {
     "duration": 0.029944,
     "end_time": "2021-01-09T00:23:46.643766",
     "exception": false,
     "start_time": "2021-01-09T00:23:46.613822",
     "status": "completed"
    },
    "tags": []
   },
   "source": [
    "### Key Objectives:\n",
    "- Building a neural network that differentiates two hand-written digits 3 and 8.\n",
    "- Comparing the results of this Neural Network (NN) to that of a Logistic Regression (LR) model.\n",
    "\n",
    "### Requirements:\n",
    "- 'Kudzu' : A neural network library that was designed during our course by [Univ.AI](www.univ.ai). \n",
    "- MNIST Database\n",
    "\n",
    "If MNIST is not installed, use the command `!pip install mnist` given below.\n",
    "It can be run both from the command line and Jupyter Notebook."
   ]
  },
  {
   "cell_type": "code",
   "execution_count": 1,
   "metadata": {
    "execution": {
     "iopub.execute_input": "2021-01-09T00:23:46.714284Z",
     "iopub.status.busy": "2021-01-09T00:23:46.713542Z",
     "iopub.status.idle": "2021-01-09T00:23:48.474628Z",
     "shell.execute_reply": "2021-01-09T00:23:48.473751Z"
    },
    "papermill": {
     "duration": 1.800753,
     "end_time": "2021-01-09T00:23:48.474806",
     "exception": false,
     "start_time": "2021-01-09T00:23:46.674053",
     "status": "completed"
    },
    "tags": []
   },
   "outputs": [
    {
     "name": "stdout",
     "output_type": "stream",
     "text": [
      "Collecting mnist\r\n"
     ]
    },
    {
     "name": "stdout",
     "output_type": "stream",
     "text": [
      "  Downloading mnist-0.2.2-py2.py3-none-any.whl (3.5 kB)\r\n"
     ]
    },
    {
     "name": "stdout",
     "output_type": "stream",
     "text": [
      "Requirement already satisfied: numpy in /opt/hostedtoolcache/Python/3.6.12/x64/lib/python3.6/site-packages (from mnist) (1.19.5)\r\n"
     ]
    },
    {
     "name": "stdout",
     "output_type": "stream",
     "text": [
      "Installing collected packages: mnist\r\n"
     ]
    },
    {
     "name": "stdout",
     "output_type": "stream",
     "text": [
      "Successfully installed mnist-0.2.2\r\n",
      "\u001b[33mWARNING: You are using pip version 20.3.1; however, version 20.3.3 is available.\r\n",
      "You should consider upgrading via the '/opt/hostedtoolcache/Python/3.6.12/x64/bin/python -m pip install --upgrade pip' command.\u001b[0m\r\n"
     ]
    }
   ],
   "source": [
    "!pip install mnist "
   ]
  },
  {
   "cell_type": "markdown",
   "metadata": {
    "papermill": {
     "duration": 0.031421,
     "end_time": "2021-01-09T00:23:48.537589",
     "exception": false,
     "start_time": "2021-01-09T00:23:48.506168",
     "status": "completed"
    },
    "tags": []
   },
   "source": [
    "#### Importing necessary libraries"
   ]
  },
  {
   "cell_type": "code",
   "execution_count": 2,
   "metadata": {
    "execution": {
     "iopub.execute_input": "2021-01-09T00:23:48.608436Z",
     "iopub.status.busy": "2021-01-09T00:23:48.607789Z",
     "iopub.status.idle": "2021-01-09T00:23:49.230191Z",
     "shell.execute_reply": "2021-01-09T00:23:49.229591Z"
    },
    "papermill": {
     "duration": 0.663007,
     "end_time": "2021-01-09T00:23:49.230347",
     "exception": false,
     "start_time": "2021-01-09T00:23:48.567340",
     "status": "completed"
    },
    "tags": []
   },
   "outputs": [],
   "source": [
    "%load_ext autoreload\n",
    "%autoreload 2\n",
    "\n",
    "%matplotlib inline\n",
    "import matplotlib.pyplot as plt\n",
    "\n",
    "import numpy as np\n",
    "import pandas as pd"
   ]
  },
  {
   "cell_type": "markdown",
   "metadata": {
    "papermill": {
     "duration": 0.031885,
     "end_time": "2021-01-09T00:23:49.294662",
     "exception": false,
     "start_time": "2021-01-09T00:23:49.262777",
     "status": "completed"
    },
    "tags": []
   },
   "source": [
    "### Preparing the Data"
   ]
  },
  {
   "cell_type": "code",
   "execution_count": 3,
   "metadata": {
    "execution": {
     "iopub.execute_input": "2021-01-09T00:23:49.364588Z",
     "iopub.status.busy": "2021-01-09T00:23:49.363897Z",
     "iopub.status.idle": "2021-01-09T00:23:49.374583Z",
     "shell.execute_reply": "2021-01-09T00:23:49.375211Z"
    },
    "papermill": {
     "duration": 0.049317,
     "end_time": "2021-01-09T00:23:49.375419",
     "exception": false,
     "start_time": "2021-01-09T00:23:49.326102",
     "status": "completed"
    },
    "tags": []
   },
   "outputs": [],
   "source": [
    "import mnist"
   ]
  },
  {
   "cell_type": "code",
   "execution_count": 4,
   "metadata": {
    "execution": {
     "iopub.execute_input": "2021-01-09T00:23:49.445113Z",
     "iopub.status.busy": "2021-01-09T00:23:49.444399Z",
     "iopub.status.idle": "2021-01-09T00:23:51.088282Z",
     "shell.execute_reply": "2021-01-09T00:23:51.087254Z"
    },
    "papermill": {
     "duration": 1.680819,
     "end_time": "2021-01-09T00:23:51.088440",
     "exception": false,
     "start_time": "2021-01-09T00:23:49.407621",
     "status": "completed"
    },
    "tags": []
   },
   "outputs": [],
   "source": [
    "train_images = mnist.train_images()\n",
    "train_labels = mnist.train_labels()"
   ]
  },
  {
   "cell_type": "code",
   "execution_count": 5,
   "metadata": {
    "execution": {
     "iopub.execute_input": "2021-01-09T00:23:51.160310Z",
     "iopub.status.busy": "2021-01-09T00:23:51.158889Z",
     "iopub.status.idle": "2021-01-09T00:23:51.174490Z",
     "shell.execute_reply": "2021-01-09T00:23:51.175255Z"
    },
    "papermill": {
     "duration": 0.05424,
     "end_time": "2021-01-09T00:23:51.175421",
     "exception": false,
     "start_time": "2021-01-09T00:23:51.121181",
     "status": "completed"
    },
    "tags": []
   },
   "outputs": [
    {
     "data": {
      "text/plain": [
       "((60000, 28, 28), (60000,))"
      ]
     },
     "execution_count": 5,
     "metadata": {},
     "output_type": "execute_result"
    }
   ],
   "source": [
    "train_images.shape, train_labels.shape"
   ]
  },
  {
   "cell_type": "code",
   "execution_count": 6,
   "metadata": {
    "execution": {
     "iopub.execute_input": "2021-01-09T00:23:51.243285Z",
     "iopub.status.busy": "2021-01-09T00:23:51.242544Z",
     "iopub.status.idle": "2021-01-09T00:23:52.436035Z",
     "shell.execute_reply": "2021-01-09T00:23:52.435312Z"
    },
    "papermill": {
     "duration": 1.229739,
     "end_time": "2021-01-09T00:23:52.436184",
     "exception": false,
     "start_time": "2021-01-09T00:23:51.206445",
     "status": "completed"
    },
    "tags": []
   },
   "outputs": [],
   "source": [
    "test_images = mnist.test_images()\n",
    "test_labels = mnist.test_labels()"
   ]
  },
  {
   "cell_type": "code",
   "execution_count": 7,
   "metadata": {
    "execution": {
     "iopub.execute_input": "2021-01-09T00:23:52.504931Z",
     "iopub.status.busy": "2021-01-09T00:23:52.504176Z",
     "iopub.status.idle": "2021-01-09T00:23:52.518335Z",
     "shell.execute_reply": "2021-01-09T00:23:52.517699Z"
    },
    "papermill": {
     "duration": 0.050617,
     "end_time": "2021-01-09T00:23:52.518517",
     "exception": false,
     "start_time": "2021-01-09T00:23:52.467900",
     "status": "completed"
    },
    "tags": []
   },
   "outputs": [
    {
     "data": {
      "text/plain": [
       "((10000, 28, 28), (10000,))"
      ]
     },
     "execution_count": 7,
     "metadata": {},
     "output_type": "execute_result"
    }
   ],
   "source": [
    "test_images.shape, test_labels.shape"
   ]
  },
  {
   "cell_type": "code",
   "execution_count": 8,
   "metadata": {
    "execution": {
     "iopub.execute_input": "2021-01-09T00:23:52.588082Z",
     "iopub.status.busy": "2021-01-09T00:23:52.587350Z",
     "iopub.status.idle": "2021-01-09T00:23:52.772025Z",
     "shell.execute_reply": "2021-01-09T00:23:52.771495Z"
    },
    "papermill": {
     "duration": 0.22202,
     "end_time": "2021-01-09T00:23:52.772169",
     "exception": false,
     "start_time": "2021-01-09T00:23:52.550149",
     "status": "completed"
    },
    "tags": []
   },
   "outputs": [
    {
     "name": "stdout",
     "output_type": "stream",
     "text": [
      "2\n"
     ]
    },
    {
     "data": {
      "text/plain": [
       "<matplotlib.image.AxesImage at 0x7fcf247567f0>"
      ]
     },
     "execution_count": 8,
     "metadata": {},
     "output_type": "execute_result"
    },
    {
     "data": {
      "image/png": "[encoded data removed]",
      "text/plain": [
       "<Figure size 432x288 with 1 Axes>"
      ]
     },
     "metadata": {
      "needs_background": "light"
     },
     "output_type": "display_data"
    }
   ],
   "source": [
    "image_index = 7776 # You may select anything up to 60,000\n",
    "print(train_labels[image_index]) \n",
    "plt.imshow(train_images[image_index], cmap='Greys')"
   ]
  },
  {
   "cell_type": "markdown",
   "metadata": {
    "papermill": {
     "duration": 0.031899,
     "end_time": "2021-01-09T00:23:52.836843",
     "exception": false,
     "start_time": "2021-01-09T00:23:52.804944",
     "status": "completed"
    },
    "tags": []
   },
   "source": [
    "## Filter data to get 3 and 8 out"
   ]
  },
  {
   "cell_type": "code",
   "execution_count": 9,
   "metadata": {
    "execution": {
     "iopub.execute_input": "2021-01-09T00:23:52.908471Z",
     "iopub.status.busy": "2021-01-09T00:23:52.907746Z",
     "iopub.status.idle": "2021-01-09T00:23:52.927839Z",
     "shell.execute_reply": "2021-01-09T00:23:52.927103Z"
    },
    "papermill": {
     "duration": 0.058104,
     "end_time": "2021-01-09T00:23:52.927997",
     "exception": false,
     "start_time": "2021-01-09T00:23:52.869893",
     "status": "completed"
    },
    "tags": []
   },
   "outputs": [],
   "source": [
    "train_filter = np.where((train_labels == 3 ) | (train_labels == 8))\n",
    "test_filter = np.where((test_labels == 3) | (test_labels == 8))\n",
    "X_train, y_train = train_images[train_filter], train_labels[train_filter]\n",
    "X_test, y_test = test_images[test_filter], test_labels[test_filter]"
   ]
  },
  {
   "cell_type": "markdown",
   "metadata": {
    "papermill": {
     "duration": 0.032548,
     "end_time": "2021-01-09T00:23:52.994090",
     "exception": false,
     "start_time": "2021-01-09T00:23:52.961542",
     "status": "completed"
    },
    "tags": []
   },
   "source": [
    "We normalize the pixel values in the 0 to 1 range"
   ]
  },
  {
   "cell_type": "code",
   "execution_count": 10,
   "metadata": {
    "execution": {
     "iopub.execute_input": "2021-01-09T00:23:53.066418Z",
     "iopub.status.busy": "2021-01-09T00:23:53.065637Z",
     "iopub.status.idle": "2021-01-09T00:23:53.129435Z",
     "shell.execute_reply": "2021-01-09T00:23:53.128824Z"
    },
    "papermill": {
     "duration": 0.102459,
     "end_time": "2021-01-09T00:23:53.129609",
     "exception": false,
     "start_time": "2021-01-09T00:23:53.027150",
     "status": "completed"
    },
    "tags": []
   },
   "outputs": [],
   "source": [
    "X_train = X_train/255.\n",
    "X_test = X_test/255."
   ]
  },
  {
   "cell_type": "markdown",
   "metadata": {
    "papermill": {
     "duration": 0.03413,
     "end_time": "2021-01-09T00:23:53.197272",
     "exception": false,
     "start_time": "2021-01-09T00:23:53.163142",
     "status": "completed"
    },
    "tags": []
   },
   "source": [
    "Setup the labels as 1 (when the digit is 3) and 0 (when the digit is 8)"
   ]
  },
  {
   "cell_type": "code",
   "execution_count": 11,
   "metadata": {
    "execution": {
     "iopub.execute_input": "2021-01-09T00:23:53.267701Z",
     "iopub.status.busy": "2021-01-09T00:23:53.266941Z",
     "iopub.status.idle": "2021-01-09T00:23:53.280374Z",
     "shell.execute_reply": "2021-01-09T00:23:53.281000Z"
    },
    "papermill": {
     "duration": 0.051334,
     "end_time": "2021-01-09T00:23:53.281206",
     "exception": false,
     "start_time": "2021-01-09T00:23:53.229872",
     "status": "completed"
    },
    "tags": []
   },
   "outputs": [],
   "source": [
    "y_train = 1*(y_train==3)\n",
    "y_test = 1*(y_test==3)"
   ]
  },
  {
   "cell_type": "code",
   "execution_count": 12,
   "metadata": {
    "execution": {
     "iopub.execute_input": "2021-01-09T00:23:53.351949Z",
     "iopub.status.busy": "2021-01-09T00:23:53.351214Z",
     "iopub.status.idle": "2021-01-09T00:23:53.365785Z",
     "shell.execute_reply": "2021-01-09T00:23:53.366360Z"
    },
    "papermill": {
     "duration": 0.052016,
     "end_time": "2021-01-09T00:23:53.366511",
     "exception": false,
     "start_time": "2021-01-09T00:23:53.314495",
     "status": "completed"
    },
    "tags": []
   },
   "outputs": [
    {
     "data": {
      "text/plain": [
       "((11982, 28, 28), (1984, 28, 28))"
      ]
     },
     "execution_count": 12,
     "metadata": {},
     "output_type": "execute_result"
    }
   ],
   "source": [
    "X_train.shape, X_test.shape"
   ]
  },
  {
   "cell_type": "markdown",
   "metadata": {
    "papermill": {
     "duration": 0.033322,
     "end_time": "2021-01-09T00:23:53.433347",
     "exception": false,
     "start_time": "2021-01-09T00:23:53.400025",
     "status": "completed"
    },
    "tags": []
   },
   "source": [
    "### Reshape the input data to create a linear array"
   ]
  },
  {
   "cell_type": "code",
   "execution_count": 13,
   "metadata": {
    "execution": {
     "iopub.execute_input": "2021-01-09T00:23:53.506139Z",
     "iopub.status.busy": "2021-01-09T00:23:53.505230Z",
     "iopub.status.idle": "2021-01-09T00:23:53.522772Z",
     "shell.execute_reply": "2021-01-09T00:23:53.522235Z"
    },
    "papermill": {
     "duration": 0.056792,
     "end_time": "2021-01-09T00:23:53.522905",
     "exception": false,
     "start_time": "2021-01-09T00:23:53.466113",
     "status": "completed"
    },
    "tags": []
   },
   "outputs": [
    {
     "data": {
      "text/plain": [
       "((11982, 784), (1984, 784))"
      ]
     },
     "execution_count": 13,
     "metadata": {},
     "output_type": "execute_result"
    }
   ],
   "source": [
    "X_train = X_train.reshape(X_train.shape[0], -1)\n",
    "X_test = X_test.reshape(X_test.shape[0], -1)\n",
    "X_train.shape, X_test.shape"
   ]
  },
  {
   "cell_type": "markdown",
   "metadata": {
    "papermill": {
     "duration": 0.033485,
     "end_time": "2021-01-09T00:23:53.590088",
     "exception": false,
     "start_time": "2021-01-09T00:23:53.556603",
     "status": "completed"
    },
    "tags": []
   },
   "source": [
    "### Importing appropriate functions from 'Kudzu'"
   ]
  },
  {
   "cell_type": "code",
   "execution_count": 14,
   "metadata": {
    "execution": {
     "iopub.execute_input": "2021-01-09T00:23:53.664795Z",
     "iopub.status.busy": "2021-01-09T00:23:53.664063Z",
     "iopub.status.idle": "2021-01-09T00:23:53.686129Z",
     "shell.execute_reply": "2021-01-09T00:23:53.685582Z"
    },
    "papermill": {
     "duration": 0.061125,
     "end_time": "2021-01-09T00:23:53.686289",
     "exception": false,
     "start_time": "2021-01-09T00:23:53.625164",
     "status": "completed"
    },
    "tags": []
   },
   "outputs": [],
   "source": [
    "from kudzu.layer import Sigmoid\n",
    "from kudzu.layer import Relu\n",
    "from kudzu.layer import Affine, Sigmoid\n",
    "\n",
    "from kudzu.model import Model\n",
    "from kudzu.train import Learner\n",
    "from kudzu.optim import GD\n",
    "from kudzu.data import Data, Dataloader, Sampler\n",
    "\n",
    "from kudzu.callbacks import AccCallback\n",
    "from kudzu.callbacks import ClfCallback\n",
    "\n",
    "from kudzu.loss import MSE"
   ]
  },
  {
   "cell_type": "markdown",
   "metadata": {
    "papermill": {
     "duration": 0.033823,
     "end_time": "2021-01-09T00:23:53.753553",
     "exception": false,
     "start_time": "2021-01-09T00:23:53.719730",
     "status": "completed"
    },
    "tags": []
   },
   "source": [
    "### Let us create a `Config` class, to store important parameters. \n",
    "This class essentially plays the role of a dictionary."
   ]
  },
  {
   "cell_type": "code",
   "execution_count": 15,
   "metadata": {
    "execution": {
     "iopub.execute_input": "2021-01-09T00:23:53.829410Z",
     "iopub.status.busy": "2021-01-09T00:23:53.828744Z",
     "iopub.status.idle": "2021-01-09T00:23:53.842474Z",
     "shell.execute_reply": "2021-01-09T00:23:53.841818Z"
    },
    "papermill": {
     "duration": 0.05462,
     "end_time": "2021-01-09T00:23:53.842616",
     "exception": false,
     "start_time": "2021-01-09T00:23:53.787996",
     "status": "completed"
    },
    "tags": []
   },
   "outputs": [],
   "source": [
    "class Config:\n",
    "    pass\n",
    "config = Config()\n",
    "config.lr = 0.001\n",
    "config.num_epochs = 251\n",
    "config.bs = 50"
   ]
  },
  {
   "cell_type": "markdown",
   "metadata": {
    "papermill": {
     "duration": 0.03317,
     "end_time": "2021-01-09T00:23:53.908380",
     "exception": false,
     "start_time": "2021-01-09T00:23:53.875210",
     "status": "completed"
    },
    "tags": []
   },
   "source": [
    "### Initializing data to the variables"
   ]
  },
  {
   "cell_type": "code",
   "execution_count": 16,
   "metadata": {
    "execution": {
     "iopub.execute_input": "2021-01-09T00:23:53.982181Z",
     "iopub.status.busy": "2021-01-09T00:23:53.981535Z",
     "iopub.status.idle": "2021-01-09T00:23:53.994605Z",
     "shell.execute_reply": "2021-01-09T00:23:53.994042Z"
    },
    "papermill": {
     "duration": 0.052628,
     "end_time": "2021-01-09T00:23:53.994740",
     "exception": false,
     "start_time": "2021-01-09T00:23:53.942112",
     "status": "completed"
    },
    "tags": []
   },
   "outputs": [],
   "source": [
    "data = Data(X_train, y_train.reshape(-1,1))\n",
    "sampler = Sampler(data, config.bs, shuffle=True)\n",
    "\n",
    "dl = Dataloader(data, sampler)\n",
    "\n",
    "opt = GD(config.lr)\n",
    "loss = MSE()"
   ]
  },
  {
   "cell_type": "code",
   "execution_count": 17,
   "metadata": {
    "execution": {
     "iopub.execute_input": "2021-01-09T00:23:54.070236Z",
     "iopub.status.busy": "2021-01-09T00:23:54.069060Z",
     "iopub.status.idle": "2021-01-09T00:23:54.081830Z",
     "shell.execute_reply": "2021-01-09T00:23:54.081125Z"
    },
    "papermill": {
     "duration": 0.053108,
     "end_time": "2021-01-09T00:23:54.081972",
     "exception": false,
     "start_time": "2021-01-09T00:23:54.028864",
     "status": "completed"
    },
    "tags": []
   },
   "outputs": [],
   "source": [
    "training_xdata = X_train\n",
    "testing_xdata = X_test\n",
    "training_ydata = y_train.reshape(-1,1)\n",
    "testing_ydata = y_test.reshape(-1,1)"
   ]
  },
  {
   "cell_type": "markdown",
   "metadata": {
    "papermill": {
     "duration": 0.033451,
     "end_time": "2021-01-09T00:23:54.149524",
     "exception": false,
     "start_time": "2021-01-09T00:23:54.116073",
     "status": "completed"
    },
    "tags": []
   },
   "source": [
    "### Running Models with the Training data\n",
    "Details about the network layers:\n",
    "- A first affine layer has 784 inputs and does 100 affine transforms. These are followed by a Relu\n",
    "- A second affine layer has 100 inputs from the 100 activations of the past layer, and does 100 affine transforms. These are followed by a Relu\n",
    "- A third affine layer has 100 activations and does 2 affine transformations to create an embedding for visualization. There is no non-linearity here.\n",
    "- A final \"logistic regression\" which has an affine transform from 2 inputs to 1 output, which is squeezed through a sigmoid.\n",
    "\n",
    "Help taken from Anshuman's Notebook."
   ]
  },
  {
   "cell_type": "code",
   "execution_count": 18,
   "metadata": {
    "execution": {
     "iopub.execute_input": "2021-01-09T00:23:54.224978Z",
     "iopub.status.busy": "2021-01-09T00:23:54.224286Z",
     "iopub.status.idle": "2021-01-09T00:23:54.241600Z",
     "shell.execute_reply": "2021-01-09T00:23:54.242156Z"
    },
    "papermill": {
     "duration": 0.058931,
     "end_time": "2021-01-09T00:23:54.242326",
     "exception": false,
     "start_time": "2021-01-09T00:23:54.183395",
     "status": "completed"
    },
    "tags": []
   },
   "outputs": [],
   "source": [
    "# layers for the Neural Network\n",
    "layers = [Affine(\"first\", 784, 100), Relu(\"first\"), Affine(\"second\", 100, 100), Relu(\"second\"), Affine(\"third\", 100, 2), Affine(\"final\", 2, 1), Sigmoid(\"final\")]\n",
    "model_nn = Model(layers)\n",
    "\n",
    "# layers for the Logistic Regression\n",
    "layers_lr = [Affine(\"logits\", 784, 1), Sigmoid(\"sigmoid\")]\n",
    "model_lr = Model(layers_lr)"
   ]
  },
  {
   "cell_type": "code",
   "execution_count": 19,
   "metadata": {
    "execution": {
     "iopub.execute_input": "2021-01-09T00:23:54.318892Z",
     "iopub.status.busy": "2021-01-09T00:23:54.318199Z",
     "iopub.status.idle": "2021-01-09T00:23:54.329161Z",
     "shell.execute_reply": "2021-01-09T00:23:54.328552Z"
    },
    "papermill": {
     "duration": 0.05345,
     "end_time": "2021-01-09T00:23:54.329294",
     "exception": false,
     "start_time": "2021-01-09T00:23:54.275844",
     "status": "completed"
    },
    "tags": []
   },
   "outputs": [],
   "source": [
    "# suffix _nn stands for Neural Network.\n",
    "learner_nn = Learner(loss, model_nn, opt, config.num_epochs)\n",
    "acc_nn = ClfCallback(learner_nn, config.bs, training_xdata , testing_xdata, training_ydata, testing_ydata)\n",
    "learner_nn.set_callbacks([acc_nn])"
   ]
  },
  {
   "cell_type": "code",
   "execution_count": 20,
   "metadata": {
    "execution": {
     "iopub.execute_input": "2021-01-09T00:23:54.401799Z",
     "iopub.status.busy": "2021-01-09T00:23:54.401141Z",
     "iopub.status.idle": "2021-01-09T00:26:14.007407Z",
     "shell.execute_reply": "2021-01-09T00:26:14.008066Z"
    },
    "papermill": {
     "duration": 139.645458,
     "end_time": "2021-01-09T00:26:14.008290",
     "exception": false,
     "start_time": "2021-01-09T00:23:54.362832",
     "status": "completed"
    },
    "tags": []
   },
   "outputs": [
    {
     "name": "stdout",
     "output_type": "stream",
     "text": [
      "====== Neural Network ======\n"
     ]
    },
    {
     "name": "stdout",
     "output_type": "stream",
     "text": [
      "Epoch 0, Loss 0.2513\n",
      "Training Accuracy: 0.4987, Testing Accuracy: 0.5000\n",
      "\n"
     ]
    },
    {
     "name": "stdout",
     "output_type": "stream",
     "text": [
      "Epoch 10, Loss 0.2332\n",
      "Training Accuracy: 0.7689, Testing Accuracy: 0.7853\n",
      "\n"
     ]
    },
    {
     "name": "stdout",
     "output_type": "stream",
     "text": [
      "Epoch 20, Loss 0.1794\n",
      "Training Accuracy: 0.8716, Testing Accuracy: 0.8810\n",
      "\n"
     ]
    },
    {
     "name": "stdout",
     "output_type": "stream",
     "text": [
      "Epoch 30, Loss 0.0957\n",
      "Training Accuracy: 0.9113, Testing Accuracy: 0.9189\n",
      "\n"
     ]
    },
    {
     "name": "stdout",
     "output_type": "stream",
     "text": [
      "Epoch 40, Loss 0.0627\n",
      "Training Accuracy: 0.9327, Testing Accuracy: 0.9466\n",
      "\n"
     ]
    },
    {
     "name": "stdout",
     "output_type": "stream",
     "text": [
      "Epoch 50, Loss 0.0496\n",
      "Training Accuracy: 0.9436, Testing Accuracy: 0.9531\n",
      "\n"
     ]
    },
    {
     "name": "stdout",
     "output_type": "stream",
     "text": [
      "Epoch 60, Loss 0.0429\n",
      "Training Accuracy: 0.9508, Testing Accuracy: 0.9582\n",
      "\n"
     ]
    },
    {
     "name": "stdout",
     "output_type": "stream",
     "text": [
      "Epoch 70, Loss 0.0387\n",
      "Training Accuracy: 0.9545, Testing Accuracy: 0.9617\n",
      "\n"
     ]
    },
    {
     "name": "stdout",
     "output_type": "stream",
     "text": [
      "Epoch 80, Loss 0.0359\n",
      "Training Accuracy: 0.9574, Testing Accuracy: 0.9632\n",
      "\n"
     ]
    },
    {
     "name": "stdout",
     "output_type": "stream",
     "text": [
      "Epoch 90, Loss 0.0338\n",
      "Training Accuracy: 0.9595, Testing Accuracy: 0.9647\n",
      "\n"
     ]
    },
    {
     "name": "stdout",
     "output_type": "stream",
     "text": [
      "Epoch 100, Loss 0.0321\n",
      "Training Accuracy: 0.9611, Testing Accuracy: 0.9667\n",
      "\n"
     ]
    },
    {
     "name": "stdout",
     "output_type": "stream",
     "text": [
      "Epoch 110, Loss 0.0307\n",
      "Training Accuracy: 0.9630, Testing Accuracy: 0.9677\n",
      "\n"
     ]
    },
    {
     "name": "stdout",
     "output_type": "stream",
     "text": [
      "Epoch 120, Loss 0.0295\n",
      "Training Accuracy: 0.9652, Testing Accuracy: 0.9688\n",
      "\n"
     ]
    },
    {
     "name": "stdout",
     "output_type": "stream",
     "text": [
      "Epoch 130, Loss 0.0285\n",
      "Training Accuracy: 0.9661, Testing Accuracy: 0.9682\n",
      "\n"
     ]
    },
    {
     "name": "stdout",
     "output_type": "stream",
     "text": [
      "Epoch 140, Loss 0.0276\n",
      "Training Accuracy: 0.9671, Testing Accuracy: 0.9677\n",
      "\n"
     ]
    },
    {
     "name": "stdout",
     "output_type": "stream",
     "text": [
      "Epoch 150, Loss 0.0268\n",
      "Training Accuracy: 0.9679, Testing Accuracy: 0.9693\n",
      "\n"
     ]
    },
    {
     "name": "stdout",
     "output_type": "stream",
     "text": [
      "Epoch 160, Loss 0.0261\n",
      "Training Accuracy: 0.9689, Testing Accuracy: 0.9698\n",
      "\n"
     ]
    },
    {
     "name": "stdout",
     "output_type": "stream",
     "text": [
      "Epoch 170, Loss 0.0254\n",
      "Training Accuracy: 0.9699, Testing Accuracy: 0.9693\n",
      "\n"
     ]
    },
    {
     "name": "stdout",
     "output_type": "stream",
     "text": [
      "Epoch 180, Loss 0.0248\n",
      "Training Accuracy: 0.9706, Testing Accuracy: 0.9693\n",
      "\n"
     ]
    },
    {
     "name": "stdout",
     "output_type": "stream",
     "text": [
      "Epoch 190, Loss 0.0242\n",
      "Training Accuracy: 0.9712, Testing Accuracy: 0.9708\n",
      "\n"
     ]
    },
    {
     "name": "stdout",
     "output_type": "stream",
     "text": [
      "Epoch 200, Loss 0.0237\n",
      "Training Accuracy: 0.9719, Testing Accuracy: 0.9703\n",
      "\n"
     ]
    },
    {
     "name": "stdout",
     "output_type": "stream",
     "text": [
      "Epoch 210, Loss 0.0232\n",
      "Training Accuracy: 0.9725, Testing Accuracy: 0.9713\n",
      "\n"
     ]
    },
    {
     "name": "stdout",
     "output_type": "stream",
     "text": [
      "Epoch 220, Loss 0.0228\n",
      "Training Accuracy: 0.9731, Testing Accuracy: 0.9718\n",
      "\n"
     ]
    },
    {
     "name": "stdout",
     "output_type": "stream",
     "text": [
      "Epoch 230, Loss 0.0223\n",
      "Training Accuracy: 0.9737, Testing Accuracy: 0.9718\n",
      "\n"
     ]
    },
    {
     "name": "stdout",
     "output_type": "stream",
     "text": [
      "Epoch 240, Loss 0.0219\n",
      "Training Accuracy: 0.9743, Testing Accuracy: 0.9718\n",
      "\n"
     ]
    },
    {
     "name": "stdout",
     "output_type": "stream",
     "text": [
      "Epoch 250, Loss 0.0215\n",
      "Training Accuracy: 0.9750, Testing Accuracy: 0.9718\n",
      "\n"
     ]
    },
    {
     "data": {
      "text/plain": [
       "0.00750338513195037"
      ]
     },
     "execution_count": 20,
     "metadata": {},
     "output_type": "execute_result"
    }
   ],
   "source": [
    "print(\"====== Neural Network ======\")\n",
    "learner_nn.train_loop(dl)"
   ]
  },
  {
   "cell_type": "markdown",
   "metadata": {
    "papermill": {
     "duration": 0.04599,
     "end_time": "2021-01-09T00:26:14.098310",
     "exception": false,
     "start_time": "2021-01-09T00:26:14.052320",
     "status": "completed"
    },
    "tags": []
   },
   "source": [
    "### Logistic Regression based Implementation."
   ]
  },
  {
   "cell_type": "code",
   "execution_count": 21,
   "metadata": {
    "execution": {
     "iopub.execute_input": "2021-01-09T00:26:14.194316Z",
     "iopub.status.busy": "2021-01-09T00:26:14.193181Z",
     "iopub.status.idle": "2021-01-09T00:26:14.207687Z",
     "shell.execute_reply": "2021-01-09T00:26:14.206964Z"
    },
    "papermill": {
     "duration": 0.066182,
     "end_time": "2021-01-09T00:26:14.208066",
     "exception": false,
     "start_time": "2021-01-09T00:26:14.141884",
     "status": "completed"
    },
    "tags": []
   },
   "outputs": [],
   "source": [
    "learner_lr = Learner(loss, model_lr, opt, config.num_epochs)\n",
    "acc_lr = ClfCallback(learner_lr, config.bs, training_xdata , testing_xdata, training_ydata, testing_ydata)\n",
    "learner_lr.set_callbacks([acc_lr])"
   ]
  },
  {
   "cell_type": "code",
   "execution_count": 22,
   "metadata": {
    "execution": {
     "iopub.execute_input": "2021-01-09T00:26:14.301487Z",
     "iopub.status.busy": "2021-01-09T00:26:14.300820Z",
     "iopub.status.idle": "2021-01-09T00:26:34.374083Z",
     "shell.execute_reply": "2021-01-09T00:26:34.374750Z"
    },
    "papermill": {
     "duration": 20.120597,
     "end_time": "2021-01-09T00:26:34.374916",
     "exception": false,
     "start_time": "2021-01-09T00:26:14.254319",
     "status": "completed"
    },
    "tags": []
   },
   "outputs": [
    {
     "name": "stdout",
     "output_type": "stream",
     "text": [
      "====== Logistic Regression ======\n",
      "Epoch 0, Loss 0.2458\n",
      "Training Accuracy: 0.6705, Testing Accuracy: 0.6653\n",
      "\n"
     ]
    },
    {
     "name": "stdout",
     "output_type": "stream",
     "text": [
      "Epoch 10, Loss 0.1046\n",
      "Training Accuracy: 0.9055, Testing Accuracy: 0.9209\n",
      "\n"
     ]
    },
    {
     "name": "stdout",
     "output_type": "stream",
     "text": [
      "Epoch 20, Loss 0.0805\n",
      "Training Accuracy: 0.9249, Testing Accuracy: 0.9395\n",
      "\n"
     ]
    },
    {
     "name": "stdout",
     "output_type": "stream",
     "text": [
      "Epoch 30, Loss 0.0693\n",
      "Training Accuracy: 0.9331, Testing Accuracy: 0.9486\n",
      "\n"
     ]
    },
    {
     "name": "stdout",
     "output_type": "stream",
     "text": [
      "Epoch 40, Loss 0.0626\n",
      "Training Accuracy: 0.9395, Testing Accuracy: 0.9506\n",
      "\n"
     ]
    },
    {
     "name": "stdout",
     "output_type": "stream",
     "text": [
      "Epoch 50, Loss 0.058\n",
      "Training Accuracy: 0.9427, Testing Accuracy: 0.9551\n",
      "\n"
     ]
    },
    {
     "name": "stdout",
     "output_type": "stream",
     "text": [
      "Epoch 60, Loss 0.0545\n",
      "Training Accuracy: 0.9450, Testing Accuracy: 0.9556\n",
      "\n"
     ]
    },
    {
     "name": "stdout",
     "output_type": "stream",
     "text": [
      "Epoch 70, Loss 0.0519\n",
      "Training Accuracy: 0.9468, Testing Accuracy: 0.9556\n",
      "\n"
     ]
    },
    {
     "name": "stdout",
     "output_type": "stream",
     "text": [
      "Epoch 80, Loss 0.0498\n",
      "Training Accuracy: 0.9483, Testing Accuracy: 0.9567\n",
      "\n"
     ]
    },
    {
     "name": "stdout",
     "output_type": "stream",
     "text": [
      "Epoch 90, Loss 0.048\n",
      "Training Accuracy: 0.9501, Testing Accuracy: 0.9582\n",
      "\n"
     ]
    },
    {
     "name": "stdout",
     "output_type": "stream",
     "text": [
      "Epoch 100, Loss 0.0465\n",
      "Training Accuracy: 0.9515, Testing Accuracy: 0.9602\n",
      "\n"
     ]
    },
    {
     "name": "stdout",
     "output_type": "stream",
     "text": [
      "Epoch 110, Loss 0.0453\n",
      "Training Accuracy: 0.9530, Testing Accuracy: 0.9612\n",
      "\n"
     ]
    },
    {
     "name": "stdout",
     "output_type": "stream",
     "text": [
      "Epoch 120, Loss 0.0442\n",
      "Training Accuracy: 0.9537, Testing Accuracy: 0.9632\n",
      "\n"
     ]
    },
    {
     "name": "stdout",
     "output_type": "stream",
     "text": [
      "Epoch 130, Loss 0.0432\n",
      "Training Accuracy: 0.9550, Testing Accuracy: 0.9642\n",
      "\n"
     ]
    },
    {
     "name": "stdout",
     "output_type": "stream",
     "text": [
      "Epoch 140, Loss 0.0424\n",
      "Training Accuracy: 0.9558, Testing Accuracy: 0.9642\n",
      "\n"
     ]
    },
    {
     "name": "stdout",
     "output_type": "stream",
     "text": [
      "Epoch 150, Loss 0.0416\n",
      "Training Accuracy: 0.9564, Testing Accuracy: 0.9642\n",
      "\n"
     ]
    },
    {
     "name": "stdout",
     "output_type": "stream",
     "text": [
      "Epoch 160, Loss 0.0409\n",
      "Training Accuracy: 0.9565, Testing Accuracy: 0.9637\n",
      "\n"
     ]
    },
    {
     "name": "stdout",
     "output_type": "stream",
     "text": [
      "Epoch 170, Loss 0.0403\n",
      "Training Accuracy: 0.9566, Testing Accuracy: 0.9637\n",
      "\n"
     ]
    },
    {
     "name": "stdout",
     "output_type": "stream",
     "text": [
      "Epoch 180, Loss 0.0397\n",
      "Training Accuracy: 0.9574, Testing Accuracy: 0.9647\n",
      "\n"
     ]
    },
    {
     "name": "stdout",
     "output_type": "stream",
     "text": [
      "Epoch 190, Loss 0.0392\n",
      "Training Accuracy: 0.9579, Testing Accuracy: 0.9647\n",
      "\n"
     ]
    },
    {
     "name": "stdout",
     "output_type": "stream",
     "text": [
      "Epoch 200, Loss 0.0387\n",
      "Training Accuracy: 0.9584, Testing Accuracy: 0.9652\n",
      "\n"
     ]
    },
    {
     "name": "stdout",
     "output_type": "stream",
     "text": [
      "Epoch 210, Loss 0.0382\n",
      "Training Accuracy: 0.9587, Testing Accuracy: 0.9652\n",
      "\n"
     ]
    },
    {
     "name": "stdout",
     "output_type": "stream",
     "text": [
      "Epoch 220, Loss 0.0378\n",
      "Training Accuracy: 0.9592, Testing Accuracy: 0.9652\n",
      "\n"
     ]
    },
    {
     "name": "stdout",
     "output_type": "stream",
     "text": [
      "Epoch 230, Loss 0.0374\n",
      "Training Accuracy: 0.9599, Testing Accuracy: 0.9662\n",
      "\n"
     ]
    },
    {
     "name": "stdout",
     "output_type": "stream",
     "text": [
      "Epoch 240, Loss 0.037\n",
      "Training Accuracy: 0.9603, Testing Accuracy: 0.9662\n",
      "\n"
     ]
    },
    {
     "name": "stdout",
     "output_type": "stream",
     "text": [
      "Epoch 250, Loss 0.0367\n",
      "Training Accuracy: 0.9606, Testing Accuracy: 0.9672\n",
      "\n"
     ]
    },
    {
     "data": {
      "text/plain": [
       "0.03961957545184525"
      ]
     },
     "execution_count": 22,
     "metadata": {},
     "output_type": "execute_result"
    }
   ],
   "source": [
    "print(\"====== Logistic Regression ======\")\n",
    "learner_lr.train_loop(dl)"
   ]
  },
  {
   "cell_type": "markdown",
   "metadata": {
    "papermill": {
     "duration": 0.054256,
     "end_time": "2021-01-09T00:26:34.482047",
     "exception": false,
     "start_time": "2021-01-09T00:26:34.427791",
     "status": "completed"
    },
    "tags": []
   },
   "source": [
    "### Comparing results of NN and LR"
   ]
  },
  {
   "cell_type": "code",
   "execution_count": 23,
   "metadata": {
    "execution": {
     "iopub.execute_input": "2021-01-09T00:26:34.594918Z",
     "iopub.status.busy": "2021-01-09T00:26:34.594244Z",
     "iopub.status.idle": "2021-01-09T00:26:34.887786Z",
     "shell.execute_reply": "2021-01-09T00:26:34.887129Z"
    },
    "papermill": {
     "duration": 0.351876,
     "end_time": "2021-01-09T00:26:34.887930",
     "exception": false,
     "start_time": "2021-01-09T00:26:34.536054",
     "status": "completed"
    },
    "tags": []
   },
   "outputs": [
    {
     "data": {
      "text/plain": [
       "<matplotlib.legend.Legend at 0x7fcf1efb0198>"
      ]
     },
     "execution_count": 23,
     "metadata": {},
     "output_type": "execute_result"
    },
    {
     "data": {
      "image/png": "[encoded data removed]",
      "text/plain": [
       "<Figure size 1080x720 with 1 Axes>"
      ]
     },
     "metadata": {
      "needs_background": "light"
     },
     "output_type": "display_data"
    }
   ],
   "source": [
    "plt.figure(figsize=(15,10))\n",
    "\n",
    "# Neural Network plots\n",
    "plt.plot(acc_nn.accuracies, 'r-', label = \"Training Accuracies - NN\")\n",
    "plt.plot(acc_nn.test_accuracies, 'g-', label = \"Testing Accuracies - NN\")\n",
    "\n",
    "# Logistic Regression plots\n",
    "plt.plot(acc_lr.accuracies, 'k-', label = \"Training Accuracies - LR\")\n",
    "plt.plot(acc_lr.test_accuracies, 'b-', label = \"Testing Accuracies - LR\")\n",
    "\n",
    "plt.ylim(0.8, 1)\n",
    "\n",
    "plt.legend()\n",
    "\n"
   ]
  },
  {
   "cell_type": "markdown",
   "metadata": {
    "papermill": {
     "duration": 0.05534,
     "end_time": "2021-01-09T00:26:35.000272",
     "exception": false,
     "start_time": "2021-01-09T00:26:34.944932",
     "status": "completed"
    },
    "tags": []
   },
   "source": [
    "### From the plot, we can observe the following:\n",
    "- Neural Network achieves higher accuracy than the Logistic Regression model.\n",
    "- This apparently, is because of overfitting, i.e. NN captures more noise than data.\n",
    "- Testing accuracy of NN drops below the Training accuracy at higher epochs. This explains the over-fitting on training data.\n",
    "- Logistic Regression gives a reliable accuracy, without the above mentioned problem.\n"
   ]
  },
  {
   "cell_type": "markdown",
   "metadata": {
    "papermill": {
     "duration": 0.057354,
     "end_time": "2021-01-09T00:26:35.113844",
     "exception": false,
     "start_time": "2021-01-09T00:26:35.056490",
     "status": "completed"
    },
    "tags": []
   },
   "source": [
    "### Moving till the last but one layer (excluding it).\n",
    "#### Plotting the outputs of this layer of the NN."
   ]
  },
  {
   "cell_type": "code",
   "execution_count": 24,
   "metadata": {
    "execution": {
     "iopub.execute_input": "2021-01-09T00:26:35.241924Z",
     "iopub.status.busy": "2021-01-09T00:26:35.232856Z",
     "iopub.status.idle": "2021-01-09T00:26:35.247809Z",
     "shell.execute_reply": "2021-01-09T00:26:35.247134Z"
    },
    "papermill": {
     "duration": 0.077683,
     "end_time": "2021-01-09T00:26:35.247963",
     "exception": false,
     "start_time": "2021-01-09T00:26:35.170280",
     "status": "completed"
    },
    "tags": []
   },
   "outputs": [],
   "source": [
    "model_new = Model(layers[:-2])"
   ]
  },
  {
   "cell_type": "code",
   "execution_count": 25,
   "metadata": {
    "execution": {
     "iopub.execute_input": "2021-01-09T00:26:35.375391Z",
     "iopub.status.busy": "2021-01-09T00:26:35.367497Z",
     "iopub.status.idle": "2021-01-09T00:26:35.393874Z",
     "shell.execute_reply": "2021-01-09T00:26:35.394749Z"
    },
    "papermill": {
     "duration": 0.091785,
     "end_time": "2021-01-09T00:26:35.394930",
     "exception": false,
     "start_time": "2021-01-09T00:26:35.303145",
     "status": "completed"
    },
    "tags": []
   },
   "outputs": [],
   "source": [
    "plot_testing = model_new(testing_xdata)"
   ]
  },
  {
   "cell_type": "code",
   "execution_count": 26,
   "metadata": {
    "execution": {
     "iopub.execute_input": "2021-01-09T00:26:35.509704Z",
     "iopub.status.busy": "2021-01-09T00:26:35.508987Z",
     "iopub.status.idle": "2021-01-09T00:26:35.759419Z",
     "shell.execute_reply": "2021-01-09T00:26:35.759938Z"
    },
    "papermill": {
     "duration": 0.308605,
     "end_time": "2021-01-09T00:26:35.760137",
     "exception": false,
     "start_time": "2021-01-09T00:26:35.451532",
     "status": "completed"
    },
    "tags": []
   },
   "outputs": [
    {
     "data": {
      "text/plain": [
       "Text(0.5, 1.0, 'Outputs')"
      ]
     },
     "execution_count": 26,
     "metadata": {},
     "output_type": "execute_result"
    },
    {
     "data": {
      "image/png": "[encoded data removed]",
      "text/plain": [
       "<Figure size 576x504 with 1 Axes>"
      ]
     },
     "metadata": {
      "needs_background": "light"
     },
     "output_type": "display_data"
    }
   ],
   "source": [
    "plt.figure(figsize=(8,7))\n",
    "plt.scatter(plot_testing[:,0], plot_testing[:,1], alpha = 0.1, c = y_test.ravel());\n",
    "plt.title('Outputs')"
   ]
  },
  {
   "cell_type": "markdown",
   "metadata": {
    "papermill": {
     "duration": 0.055561,
     "end_time": "2021-01-09T00:26:35.872329",
     "exception": false,
     "start_time": "2021-01-09T00:26:35.816768",
     "status": "completed"
    },
    "tags": []
   },
   "source": [
    "### Plotting probability contours"
   ]
  },
  {
   "cell_type": "code",
   "execution_count": 27,
   "metadata": {
    "execution": {
     "iopub.execute_input": "2021-01-09T00:26:35.990361Z",
     "iopub.status.busy": "2021-01-09T00:26:35.989654Z",
     "iopub.status.idle": "2021-01-09T00:26:36.002921Z",
     "shell.execute_reply": "2021-01-09T00:26:36.003456Z"
    },
    "papermill": {
     "duration": 0.07437,
     "end_time": "2021-01-09T00:26:36.003652",
     "exception": false,
     "start_time": "2021-01-09T00:26:35.929282",
     "status": "completed"
    },
    "tags": []
   },
   "outputs": [],
   "source": [
    "model_prob = Model(layers[-2:]) "
   ]
  },
  {
   "cell_type": "code",
   "execution_count": 28,
   "metadata": {
    "execution": {
     "iopub.execute_input": "2021-01-09T00:26:36.137282Z",
     "iopub.status.busy": "2021-01-09T00:26:36.125542Z",
     "iopub.status.idle": "2021-01-09T00:26:36.138010Z",
     "shell.execute_reply": "2021-01-09T00:26:36.138551Z"
    },
    "papermill": {
     "duration": 0.079013,
     "end_time": "2021-01-09T00:26:36.138712",
     "exception": false,
     "start_time": "2021-01-09T00:26:36.059699",
     "status": "completed"
    },
    "tags": []
   },
   "outputs": [],
   "source": [
    "# Adjust the x and y ranges according to the above generated plot.\n",
    "x_range = np.linspace(-4, 1, 100) \n",
    "y_range = np.linspace(-6, 6, 100) \n",
    "x_grid, y_grid = np.meshgrid(x_range, y_range) # x_grid and y_grig are of size 100 X 100\n",
    "\n",
    "# converting x_grid and y_grid to continuous arrays\n",
    "x_grid_flat = np.ravel(x_grid)\n",
    "y_grid_flat = np.ravel(y_grid)\n",
    "\n",
    "# The last layer of the current model takes two columns as input. Hence transpose of np.vstack() is required.\n",
    "X = np.vstack((x_grid_flat, y_grid_flat)).T\n",
    "\n",
    "# x_grid and y_grid are of size 100 x 100\n",
    "probability_contour = model_prob(X).reshape(100,100) "
   ]
  },
  {
   "cell_type": "code",
   "execution_count": 29,
   "metadata": {
    "execution": {
     "iopub.execute_input": "2021-01-09T00:26:36.282478Z",
     "iopub.status.busy": "2021-01-09T00:26:36.281727Z",
     "iopub.status.idle": "2021-01-09T00:26:36.580325Z",
     "shell.execute_reply": "2021-01-09T00:26:36.579299Z"
    },
    "papermill": {
     "duration": 0.362247,
     "end_time": "2021-01-09T00:26:36.580486",
     "exception": false,
     "start_time": "2021-01-09T00:26:36.218239",
     "status": "completed"
    },
    "tags": []
   },
   "outputs": [
    {
     "data": {
      "image/png": "[encoded data removed]",
      "text/plain": [
       "<Figure size 720x648 with 1 Axes>"
      ]
     },
     "metadata": {
      "needs_background": "light"
     },
     "output_type": "display_data"
    }
   ],
   "source": [
    "plt.figure(figsize=(10,9))\n",
    "plt.scatter(plot_testing[:,0], plot_testing[:,1], alpha = 0.1, c = y_test.ravel())\n",
    "contours = plt.contour(x_grid,y_grid,probability_contour)\n",
    "plt.title('Probability Contours')\n",
    "plt.clabel(contours, inline = True );"
   ]
  }
 ],
 "metadata": {
  "kernelspec": {
   "display_name": "Python 3",
   "language": "python",
   "name": "python3"
  },
  "language_info": {
   "codemirror_mode": {
    "name": "ipython",
    "version": 3
   },
   "file_extension": ".py",
   "mimetype": "text/x-python",
   "name": "python",
   "nbconvert_exporter": "python",
   "pygments_lexer": "ipython3",
   "version": "3.6.12"
  },
  "papermill": {
   "duration": 171.832065,
   "end_time": "2021-01-09T00:26:37.046864",
   "environment_variables": {},
   "exception": null,
   "input_path": "2020-08-11-NeuralNetwork.ipynb",
   "output_path": "2020-08-11-NeuralNetwork.ipynb",
   "parameters": {},
   "start_time": "2021-01-09T00:23:45.214799",
   "version": "2.1.2"
  }
 },
 "nbformat": 4,
 "nbformat_minor": 4
}