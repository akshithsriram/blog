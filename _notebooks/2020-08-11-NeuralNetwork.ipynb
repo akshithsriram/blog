{
 "cells": [
  {
   "cell_type": "markdown",
   "id": "fitted-suggestion",
   "metadata": {
    "papermill": {
     "duration": 0.037469,
     "end_time": "2021-06-10T20:04:56.929670",
     "exception": false,
     "start_time": "2021-06-10T20:04:56.892201",
     "status": "completed"
    },
    "tags": []
   },
   "source": [
    "# \"A Basic Neural Network: Differentiate Hand-Written Digits\"\n",
    "\n",
    "- badges: true\n",
    "- author: Akshith Sriram"
   ]
  },
  {
   "cell_type": "markdown",
   "id": "signal-flexibility",
   "metadata": {
    "papermill": {
     "duration": 0.032194,
     "end_time": "2021-06-10T20:04:56.994157",
     "exception": false,
     "start_time": "2021-06-10T20:04:56.961963",
     "status": "completed"
    },
    "tags": []
   },
   "source": [
    "### Key Objectives:\n",
    "- Building a neural network that differentiates two hand-written digits 3 and 8.\n",
    "- Comparing the results of this Neural Network (NN) to that of a Logistic Regression (LR) model.\n",
    "\n",
    "### Requirements:\n",
    "- 'Kudzu' : A neural network library that was designed during our course by [Univ.AI](www.univ.ai). \n",
    "- MNIST Database\n",
    "\n",
    "If MNIST is not installed, use the command `!pip install mnist` given below.\n",
    "It can be run both from the command line and Jupyter Notebook."
   ]
  },
  {
   "cell_type": "code",
   "execution_count": 1,
   "id": "british-texture",
   "metadata": {
    "execution": {
     "iopub.execute_input": "2021-06-10T20:04:57.071038Z",
     "iopub.status.busy": "2021-06-10T20:04:57.070392Z",
     "iopub.status.idle": "2021-06-10T20:04:58.651563Z",
     "shell.execute_reply": "2021-06-10T20:04:58.650627Z"
    },
    "papermill": {
     "duration": 1.624102,
     "end_time": "2021-06-10T20:04:58.651726",
     "exception": false,
     "start_time": "2021-06-10T20:04:57.027624",
     "status": "completed"
    },
    "tags": []
   },
   "outputs": [
    {
     "name": "stdout",
     "output_type": "stream",
     "text": [
      "Collecting mnist\r\n"
     ]
    },
    {
     "name": "stdout",
     "output_type": "stream",
     "text": [
      "  Downloading mnist-0.2.2-py2.py3-none-any.whl (3.5 kB)\r\n",
      "Requirement already satisfied: numpy in /opt/hostedtoolcache/Python/3.6.13/x64/lib/python3.6/site-packages (from mnist) (1.19.5)\r\n"
     ]
    },
    {
     "name": "stdout",
     "output_type": "stream",
     "text": [
      "Installing collected packages: mnist\r\n"
     ]
    },
    {
     "name": "stdout",
     "output_type": "stream",
     "text": [
      "Successfully installed mnist-0.2.2\r\n"
     ]
    }
   ],
   "source": [
    "!pip install mnist "
   ]
  },
  {
   "cell_type": "markdown",
   "id": "stunning-extra",
   "metadata": {
    "papermill": {
     "duration": 0.033002,
     "end_time": "2021-06-10T20:04:58.714652",
     "exception": false,
     "start_time": "2021-06-10T20:04:58.681650",
     "status": "completed"
    },
    "tags": []
   },
   "source": [
    "#### Importing necessary libraries"
   ]
  },
  {
   "cell_type": "code",
   "execution_count": 2,
   "id": "wooden-france",
   "metadata": {
    "execution": {
     "iopub.execute_input": "2021-06-10T20:04:58.786811Z",
     "iopub.status.busy": "2021-06-10T20:04:58.786153Z",
     "iopub.status.idle": "2021-06-10T20:04:59.390242Z",
     "shell.execute_reply": "2021-06-10T20:04:59.389753Z"
    },
    "papermill": {
     "duration": 0.645113,
     "end_time": "2021-06-10T20:04:59.390399",
     "exception": false,
     "start_time": "2021-06-10T20:04:58.745286",
     "status": "completed"
    },
    "tags": []
   },
   "outputs": [],
   "source": [
    "%load_ext autoreload\n",
    "%autoreload 2\n",
    "\n",
    "%matplotlib inline\n",
    "import matplotlib.pyplot as plt\n",
    "\n",
    "import numpy as np\n",
    "import pandas as pd"
   ]
  },
  {
   "cell_type": "markdown",
   "id": "stunning-physics",
   "metadata": {
    "papermill": {
     "duration": 0.033177,
     "end_time": "2021-06-10T20:04:59.455813",
     "exception": false,
     "start_time": "2021-06-10T20:04:59.422636",
     "status": "completed"
    },
    "tags": []
   },
   "source": [
    "### Preparing the Data"
   ]
  },
  {
   "cell_type": "code",
   "execution_count": 3,
   "id": "unauthorized-remainder",
   "metadata": {
    "execution": {
     "iopub.execute_input": "2021-06-10T20:04:59.527669Z",
     "iopub.status.busy": "2021-06-10T20:04:59.527003Z",
     "iopub.status.idle": "2021-06-10T20:04:59.540788Z",
     "shell.execute_reply": "2021-06-10T20:04:59.540191Z"
    },
    "papermill": {
     "duration": 0.054192,
     "end_time": "2021-06-10T20:04:59.540907",
     "exception": false,
     "start_time": "2021-06-10T20:04:59.486715",
     "status": "completed"
    },
    "tags": []
   },
   "outputs": [],
   "source": [
    "import mnist"
   ]
  },
  {
   "cell_type": "code",
   "execution_count": 4,
   "id": "correct-antarctica",
   "metadata": {
    "execution": {
     "iopub.execute_input": "2021-06-10T20:04:59.615108Z",
     "iopub.status.busy": "2021-06-10T20:04:59.614404Z",
     "iopub.status.idle": "2021-06-10T20:09:22.534011Z",
     "shell.execute_reply": "2021-06-10T20:09:22.533511Z"
    },
    "papermill": {
     "duration": 262.960793,
     "end_time": "2021-06-10T20:09:22.534146",
     "exception": false,
     "start_time": "2021-06-10T20:04:59.573353",
     "status": "completed"
    },
    "tags": []
   },
   "outputs": [],
   "source": [
    "train_images = mnist.train_images()\n",
    "train_labels = mnist.train_labels()"
   ]
  },
  {
   "cell_type": "code",
   "execution_count": 5,
   "id": "musical-prospect",
   "metadata": {
    "execution": {
     "iopub.execute_input": "2021-06-10T20:09:22.598577Z",
     "iopub.status.busy": "2021-06-10T20:09:22.597989Z",
     "iopub.status.idle": "2021-06-10T20:09:22.613631Z",
     "shell.execute_reply": "2021-06-10T20:09:22.614144Z"
    },
    "papermill": {
     "duration": 0.048342,
     "end_time": "2021-06-10T20:09:22.614266",
     "exception": false,
     "start_time": "2021-06-10T20:09:22.565924",
     "status": "completed"
    },
    "tags": []
   },
   "outputs": [
    {
     "data": {
      "text/plain": [
       "((60000, 28, 28), (60000,))"
      ]
     },
     "execution_count": 5,
     "metadata": {},
     "output_type": "execute_result"
    }
   ],
   "source": [
    "train_images.shape, train_labels.shape"
   ]
  },
  {
   "cell_type": "code",
   "execution_count": 6,
   "id": "preliminary-elizabeth",
   "metadata": {
    "execution": {
     "iopub.execute_input": "2021-06-10T20:09:22.689076Z",
     "iopub.status.busy": "2021-06-10T20:09:22.688521Z",
     "iopub.status.idle": "2021-06-10T20:10:13.420989Z",
     "shell.execute_reply": "2021-06-10T20:10:13.420488Z"
    },
    "papermill": {
     "duration": 50.775862,
     "end_time": "2021-06-10T20:10:13.421130",
     "exception": false,
     "start_time": "2021-06-10T20:09:22.645268",
     "status": "completed"
    },
    "tags": []
   },
   "outputs": [],
   "source": [
    "test_images = mnist.test_images()\n",
    "test_labels = mnist.test_labels()"
   ]
  },
  {
   "cell_type": "code",
   "execution_count": 7,
   "id": "acknowledged-oxygen",
   "metadata": {
    "execution": {
     "iopub.execute_input": "2021-06-10T20:10:13.483980Z",
     "iopub.status.busy": "2021-06-10T20:10:13.483401Z",
     "iopub.status.idle": "2021-06-10T20:10:13.496818Z",
     "shell.execute_reply": "2021-06-10T20:10:13.496210Z"
    },
    "papermill": {
     "duration": 0.046205,
     "end_time": "2021-06-10T20:10:13.496954",
     "exception": false,
     "start_time": "2021-06-10T20:10:13.450749",
     "status": "completed"
    },
    "tags": []
   },
   "outputs": [
    {
     "data": {
      "text/plain": [
       "((10000, 28, 28), (10000,))"
      ]
     },
     "execution_count": 7,
     "metadata": {},
     "output_type": "execute_result"
    }
   ],
   "source": [
    "test_images.shape, test_labels.shape"
   ]
  },
  {
   "cell_type": "code",
   "execution_count": 8,
   "id": "innovative-organic",
   "metadata": {
    "execution": {
     "iopub.execute_input": "2021-06-10T20:10:13.567785Z",
     "iopub.status.busy": "2021-06-10T20:10:13.567197Z",
     "iopub.status.idle": "2021-06-10T20:10:13.743396Z",
     "shell.execute_reply": "2021-06-10T20:10:13.742891Z"
    },
    "papermill": {
     "duration": 0.214362,
     "end_time": "2021-06-10T20:10:13.743536",
     "exception": false,
     "start_time": "2021-06-10T20:10:13.529174",
     "status": "completed"
    },
    "tags": []
   },
   "outputs": [
    {
     "name": "stdout",
     "output_type": "stream",
     "text": [
      "2\n"
     ]
    },
    {
     "data": {
      "text/plain": [
       "<matplotlib.image.AxesImage at 0x7f1c787cf630>"
      ]
     },
     "execution_count": 8,
     "metadata": {},
     "output_type": "execute_result"
    },
    {
     "data": {
      "image/png": "[encoded data removed]",
      "text/plain": [
       "<Figure size 432x288 with 1 Axes>"
      ]
     },
     "metadata": {
      "needs_background": "light"
     },
     "output_type": "display_data"
    }
   ],
   "source": [
    "image_index = 7776 # You may select anything up to 60,000\n",
    "print(train_labels[image_index]) \n",
    "plt.imshow(train_images[image_index], cmap='Greys')"
   ]
  },
  {
   "cell_type": "markdown",
   "id": "facial-modem",
   "metadata": {
    "papermill": {
     "duration": 0.034775,
     "end_time": "2021-06-10T20:10:13.810534",
     "exception": false,
     "start_time": "2021-06-10T20:10:13.775759",
     "status": "completed"
    },
    "tags": []
   },
   "source": [
    "## Filter data to get 3 and 8 out"
   ]
  },
  {
   "cell_type": "code",
   "execution_count": 9,
   "id": "thousand-acquisition",
   "metadata": {
    "execution": {
     "iopub.execute_input": "2021-06-10T20:10:13.881439Z",
     "iopub.status.busy": "2021-06-10T20:10:13.876531Z",
     "iopub.status.idle": "2021-06-10T20:10:13.895668Z",
     "shell.execute_reply": "2021-06-10T20:10:13.896077Z"
    },
    "papermill": {
     "duration": 0.055044,
     "end_time": "2021-06-10T20:10:13.896267",
     "exception": false,
     "start_time": "2021-06-10T20:10:13.841223",
     "status": "completed"
    },
    "tags": []
   },
   "outputs": [],
   "source": [
    "train_filter = np.where((train_labels == 3 ) | (train_labels == 8))\n",
    "test_filter = np.where((test_labels == 3) | (test_labels == 8))\n",
    "X_train, y_train = train_images[train_filter], train_labels[train_filter]\n",
    "X_test, y_test = test_images[test_filter], test_labels[test_filter]"
   ]
  },
  {
   "cell_type": "markdown",
   "id": "ruled-access",
   "metadata": {
    "papermill": {
     "duration": 0.037194,
     "end_time": "2021-06-10T20:10:13.965588",
     "exception": false,
     "start_time": "2021-06-10T20:10:13.928394",
     "status": "completed"
    },
    "tags": []
   },
   "source": [
    "We normalize the pixel values in the 0 to 1 range"
   ]
  },
  {
   "cell_type": "code",
   "execution_count": 10,
   "id": "isolated-denver",
   "metadata": {
    "execution": {
     "iopub.execute_input": "2021-06-10T20:10:14.044668Z",
     "iopub.status.busy": "2021-06-10T20:10:14.044107Z",
     "iopub.status.idle": "2021-06-10T20:10:14.104946Z",
     "shell.execute_reply": "2021-06-10T20:10:14.104351Z"
    },
    "papermill": {
     "duration": 0.103303,
     "end_time": "2021-06-10T20:10:14.105102",
     "exception": false,
     "start_time": "2021-06-10T20:10:14.001799",
     "status": "completed"
    },
    "tags": []
   },
   "outputs": [],
   "source": [
    "X_train = X_train/255.\n",
    "X_test = X_test/255."
   ]
  },
  {
   "cell_type": "markdown",
   "id": "perfect-summary",
   "metadata": {
    "papermill": {
     "duration": 0.034667,
     "end_time": "2021-06-10T20:10:14.173094",
     "exception": false,
     "start_time": "2021-06-10T20:10:14.138427",
     "status": "completed"
    },
    "tags": []
   },
   "source": [
    "Setup the labels as 1 (when the digit is 3) and 0 (when the digit is 8)"
   ]
  },
  {
   "cell_type": "code",
   "execution_count": 11,
   "id": "personalized-growing",
   "metadata": {
    "execution": {
     "iopub.execute_input": "2021-06-10T20:10:14.247024Z",
     "iopub.status.busy": "2021-06-10T20:10:14.244907Z",
     "iopub.status.idle": "2021-06-10T20:10:14.257198Z",
     "shell.execute_reply": "2021-06-10T20:10:14.256734Z"
    },
    "papermill": {
     "duration": 0.051079,
     "end_time": "2021-06-10T20:10:14.257327",
     "exception": false,
     "start_time": "2021-06-10T20:10:14.206248",
     "status": "completed"
    },
    "tags": []
   },
   "outputs": [],
   "source": [
    "y_train = 1*(y_train==3)\n",
    "y_test = 1*(y_test==3)"
   ]
  },
  {
   "cell_type": "code",
   "execution_count": 12,
   "id": "considered-virgin",
   "metadata": {
    "execution": {
     "iopub.execute_input": "2021-06-10T20:10:14.331788Z",
     "iopub.status.busy": "2021-06-10T20:10:14.331191Z",
     "iopub.status.idle": "2021-06-10T20:10:14.345052Z",
     "shell.execute_reply": "2021-06-10T20:10:14.344279Z"
    },
    "papermill": {
     "duration": 0.05212,
     "end_time": "2021-06-10T20:10:14.345241",
     "exception": false,
     "start_time": "2021-06-10T20:10:14.293121",
     "status": "completed"
    },
    "tags": []
   },
   "outputs": [
    {
     "data": {
      "text/plain": [
       "((11982, 28, 28), (1984, 28, 28))"
      ]
     },
     "execution_count": 12,
     "metadata": {},
     "output_type": "execute_result"
    }
   ],
   "source": [
    "X_train.shape, X_test.shape"
   ]
  },
  {
   "cell_type": "markdown",
   "id": "civilian-mobile",
   "metadata": {
    "papermill": {
     "duration": 0.033161,
     "end_time": "2021-06-10T20:10:14.410673",
     "exception": false,
     "start_time": "2021-06-10T20:10:14.377512",
     "status": "completed"
    },
    "tags": []
   },
   "source": [
    "### Reshape the input data to create a linear array"
   ]
  },
  {
   "cell_type": "code",
   "execution_count": 13,
   "id": "colonial-adams",
   "metadata": {
    "execution": {
     "iopub.execute_input": "2021-06-10T20:10:14.480560Z",
     "iopub.status.busy": "2021-06-10T20:10:14.479954Z",
     "iopub.status.idle": "2021-06-10T20:10:14.492167Z",
     "shell.execute_reply": "2021-06-10T20:10:14.491680Z"
    },
    "papermill": {
     "duration": 0.049779,
     "end_time": "2021-06-10T20:10:14.492273",
     "exception": false,
     "start_time": "2021-06-10T20:10:14.442494",
     "status": "completed"
    },
    "tags": []
   },
   "outputs": [
    {
     "data": {
      "text/plain": [
       "((11982, 784), (1984, 784))"
      ]
     },
     "execution_count": 13,
     "metadata": {},
     "output_type": "execute_result"
    }
   ],
   "source": [
    "X_train = X_train.reshape(X_train.shape[0], -1)\n",
    "X_test = X_test.reshape(X_test.shape[0], -1)\n",
    "X_train.shape, X_test.shape"
   ]
  },
  {
   "cell_type": "markdown",
   "id": "smart-details",
   "metadata": {
    "papermill": {
     "duration": 0.031844,
     "end_time": "2021-06-10T20:10:14.555634",
     "exception": false,
     "start_time": "2021-06-10T20:10:14.523790",
     "status": "completed"
    },
    "tags": []
   },
   "source": [
    "### Importing appropriate functions from 'Kudzu'"
   ]
  },
  {
   "cell_type": "code",
   "execution_count": 14,
   "id": "celtic-trial",
   "metadata": {
    "execution": {
     "iopub.execute_input": "2021-06-10T20:10:14.635255Z",
     "iopub.status.busy": "2021-06-10T20:10:14.629733Z",
     "iopub.status.idle": "2021-06-10T20:10:14.645391Z",
     "shell.execute_reply": "2021-06-10T20:10:14.644984Z"
    },
    "papermill": {
     "duration": 0.058614,
     "end_time": "2021-06-10T20:10:14.645493",
     "exception": false,
     "start_time": "2021-06-10T20:10:14.586879",
     "status": "completed"
    },
    "tags": []
   },
   "outputs": [],
   "source": [
    "from kudzu.layer import Sigmoid\n",
    "from kudzu.layer import Relu\n",
    "from kudzu.layer import Affine, Sigmoid\n",
    "\n",
    "from kudzu.model import Model\n",
    "from kudzu.train import Learner\n",
    "from kudzu.optim import GD\n",
    "from kudzu.data import Data, Dataloader, Sampler\n",
    "\n",
    "from kudzu.callbacks import AccCallback\n",
    "from kudzu.callbacks import ClfCallback\n",
    "\n",
    "from kudzu.loss import MSE"
   ]
  },
  {
   "cell_type": "markdown",
   "id": "coupled-customer",
   "metadata": {
    "papermill": {
     "duration": 0.036195,
     "end_time": "2021-06-10T20:10:14.715720",
     "exception": false,
     "start_time": "2021-06-10T20:10:14.679525",
     "status": "completed"
    },
    "tags": []
   },
   "source": [
    "### Let us create a `Config` class, to store important parameters. \n",
    "This class essentially plays the role of a dictionary."
   ]
  },
  {
   "cell_type": "code",
   "execution_count": 15,
   "id": "young-ceiling",
   "metadata": {
    "execution": {
     "iopub.execute_input": "2021-06-10T20:10:14.790204Z",
     "iopub.status.busy": "2021-06-10T20:10:14.789067Z",
     "iopub.status.idle": "2021-06-10T20:10:14.803926Z",
     "shell.execute_reply": "2021-06-10T20:10:14.803259Z"
    },
    "papermill": {
     "duration": 0.054104,
     "end_time": "2021-06-10T20:10:14.804053",
     "exception": false,
     "start_time": "2021-06-10T20:10:14.749949",
     "status": "completed"
    },
    "tags": []
   },
   "outputs": [],
   "source": [
    "class Config:\n",
    "    pass\n",
    "config = Config()\n",
    "config.lr = 0.001\n",
    "config.num_epochs = 251\n",
    "config.bs = 50"
   ]
  },
  {
   "cell_type": "markdown",
   "id": "according-mandate",
   "metadata": {
    "papermill": {
     "duration": 0.034156,
     "end_time": "2021-06-10T20:10:14.875203",
     "exception": false,
     "start_time": "2021-06-10T20:10:14.841047",
     "status": "completed"
    },
    "tags": []
   },
   "source": [
    "### Initializing data to the variables"
   ]
  },
  {
   "cell_type": "code",
   "execution_count": 16,
   "id": "academic-disposition",
   "metadata": {
    "execution": {
     "iopub.execute_input": "2021-06-10T20:10:14.955603Z",
     "iopub.status.busy": "2021-06-10T20:10:14.954791Z",
     "iopub.status.idle": "2021-06-10T20:10:14.967605Z",
     "shell.execute_reply": "2021-06-10T20:10:14.968094Z"
    },
    "papermill": {
     "duration": 0.056668,
     "end_time": "2021-06-10T20:10:14.968232",
     "exception": false,
     "start_time": "2021-06-10T20:10:14.911564",
     "status": "completed"
    },
    "tags": []
   },
   "outputs": [],
   "source": [
    "data = Data(X_train, y_train.reshape(-1,1))\n",
    "sampler = Sampler(data, config.bs, shuffle=True)\n",
    "\n",
    "dl = Dataloader(data, sampler)\n",
    "\n",
    "opt = GD(config.lr)\n",
    "loss = MSE()"
   ]
  },
  {
   "cell_type": "code",
   "execution_count": 17,
   "id": "featured-commission",
   "metadata": {
    "execution": {
     "iopub.execute_input": "2021-06-10T20:10:15.043703Z",
     "iopub.status.busy": "2021-06-10T20:10:15.043037Z",
     "iopub.status.idle": "2021-06-10T20:10:15.056753Z",
     "shell.execute_reply": "2021-06-10T20:10:15.056219Z"
    },
    "papermill": {
     "duration": 0.054028,
     "end_time": "2021-06-10T20:10:15.056899",
     "exception": false,
     "start_time": "2021-06-10T20:10:15.002871",
     "status": "completed"
    },
    "tags": []
   },
   "outputs": [],
   "source": [
    "training_xdata = X_train\n",
    "testing_xdata = X_test\n",
    "training_ydata = y_train.reshape(-1,1)\n",
    "testing_ydata = y_test.reshape(-1,1)"
   ]
  },
  {
   "cell_type": "markdown",
   "id": "played-safety",
   "metadata": {
    "papermill": {
     "duration": 0.03635,
     "end_time": "2021-06-10T20:10:15.127135",
     "exception": false,
     "start_time": "2021-06-10T20:10:15.090785",
     "status": "completed"
    },
    "tags": []
   },
   "source": [
    "### Running Models with the Training data\n",
    "Details about the network layers:\n",
    "- A first affine layer has 784 inputs and does 100 affine transforms. These are followed by a Relu\n",
    "- A second affine layer has 100 inputs from the 100 activations of the past layer, and does 100 affine transforms. These are followed by a Relu\n",
    "- A third affine layer has 100 activations and does 2 affine transformations to create an embedding for visualization. There is no non-linearity here.\n",
    "- A final \"logistic regression\" which has an affine transform from 2 inputs to 1 output, which is squeezed through a sigmoid.\n",
    "\n",
    "Help taken from Anshuman's Notebook."
   ]
  },
  {
   "cell_type": "code",
   "execution_count": 18,
   "id": "asian-bankruptcy",
   "metadata": {
    "execution": {
     "iopub.execute_input": "2021-06-10T20:10:15.209400Z",
     "iopub.status.busy": "2021-06-10T20:10:15.208789Z",
     "iopub.status.idle": "2021-06-10T20:10:15.220219Z",
     "shell.execute_reply": "2021-06-10T20:10:15.220706Z"
    },
    "papermill": {
     "duration": 0.059231,
     "end_time": "2021-06-10T20:10:15.220869",
     "exception": false,
     "start_time": "2021-06-10T20:10:15.161638",
     "status": "completed"
    },
    "tags": []
   },
   "outputs": [],
   "source": [
    "# layers for the Neural Network\n",
    "layers = [Affine(\"first\", 784, 100), Relu(\"first\"), Affine(\"second\", 100, 100), Relu(\"second\"), Affine(\"third\", 100, 2), Affine(\"final\", 2, 1), Sigmoid(\"final\")]\n",
    "model_nn = Model(layers)\n",
    "\n",
    "# layers for the Logistic Regression\n",
    "layers_lr = [Affine(\"logits\", 784, 1), Sigmoid(\"sigmoid\")]\n",
    "model_lr = Model(layers_lr)"
   ]
  },
  {
   "cell_type": "code",
   "execution_count": 19,
   "id": "removed-butler",
   "metadata": {
    "execution": {
     "iopub.execute_input": "2021-06-10T20:10:15.303871Z",
     "iopub.status.busy": "2021-06-10T20:10:15.292289Z",
     "iopub.status.idle": "2021-06-10T20:10:15.307140Z",
     "shell.execute_reply": "2021-06-10T20:10:15.306478Z"
    },
    "papermill": {
     "duration": 0.053151,
     "end_time": "2021-06-10T20:10:15.307289",
     "exception": false,
     "start_time": "2021-06-10T20:10:15.254138",
     "status": "completed"
    },
    "tags": []
   },
   "outputs": [],
   "source": [
    "# suffix _nn stands for Neural Network.\n",
    "learner_nn = Learner(loss, model_nn, opt, config.num_epochs)\n",
    "acc_nn = ClfCallback(learner_nn, config.bs, training_xdata , testing_xdata, training_ydata, testing_ydata)\n",
    "learner_nn.set_callbacks([acc_nn])"
   ]
  },
  {
   "cell_type": "code",
   "execution_count": 20,
   "id": "conceptual-throw",
   "metadata": {
    "execution": {
     "iopub.execute_input": "2021-06-10T20:10:15.377838Z",
     "iopub.status.busy": "2021-06-10T20:10:15.377272Z",
     "iopub.status.idle": "2021-06-10T20:12:38.498048Z",
     "shell.execute_reply": "2021-06-10T20:12:38.498805Z"
    },
    "papermill": {
     "duration": 143.158428,
     "end_time": "2021-06-10T20:12:38.498952",
     "exception": false,
     "start_time": "2021-06-10T20:10:15.340524",
     "status": "completed"
    },
    "tags": []
   },
   "outputs": [
    {
     "name": "stdout",
     "output_type": "stream",
     "text": [
      "====== Neural Network ======\n"
     ]
    },
    {
     "name": "stdout",
     "output_type": "stream",
     "text": [
      "Epoch 0, Loss 0.25\n",
      "Training Accuracy: 0.5864, Testing Accuracy: 0.5565\n",
      "\n"
     ]
    },
    {
     "name": "stdout",
     "output_type": "stream",
     "text": [
      "Epoch 10, Loss 0.1362\n",
      "Training Accuracy: 0.8817, Testing Accuracy: 0.8901\n",
      "\n"
     ]
    },
    {
     "name": "stdout",
     "output_type": "stream",
     "text": [
      "Epoch 20, Loss 0.0727\n",
      "Training Accuracy: 0.9263, Testing Accuracy: 0.9370\n",
      "\n"
     ]
    },
    {
     "name": "stdout",
     "output_type": "stream",
     "text": [
      "Epoch 30, Loss 0.0516\n",
      "Training Accuracy: 0.9440, Testing Accuracy: 0.9521\n",
      "\n"
     ]
    },
    {
     "name": "stdout",
     "output_type": "stream",
     "text": [
      "Epoch 40, Loss 0.0424\n",
      "Training Accuracy: 0.9535, Testing Accuracy: 0.9577\n",
      "\n"
     ]
    },
    {
     "name": "stdout",
     "output_type": "stream",
     "text": [
      "Epoch 50, Loss 0.0374\n",
      "Training Accuracy: 0.9588, Testing Accuracy: 0.9647\n",
      "\n"
     ]
    },
    {
     "name": "stdout",
     "output_type": "stream",
     "text": [
      "Epoch 60, Loss 0.0342\n",
      "Training Accuracy: 0.9621, Testing Accuracy: 0.9667\n",
      "\n"
     ]
    },
    {
     "name": "stdout",
     "output_type": "stream",
     "text": [
      "Epoch 70, Loss 0.0319\n",
      "Training Accuracy: 0.9639, Testing Accuracy: 0.9682\n",
      "\n"
     ]
    },
    {
     "name": "stdout",
     "output_type": "stream",
     "text": [
      "Epoch 80, Loss 0.0301\n",
      "Training Accuracy: 0.9654, Testing Accuracy: 0.9708\n",
      "\n"
     ]
    },
    {
     "name": "stdout",
     "output_type": "stream",
     "text": [
      "Epoch 90, Loss 0.0287\n",
      "Training Accuracy: 0.9672, Testing Accuracy: 0.9698\n",
      "\n"
     ]
    },
    {
     "name": "stdout",
     "output_type": "stream",
     "text": [
      "Epoch 100, Loss 0.0274\n",
      "Training Accuracy: 0.9684, Testing Accuracy: 0.9713\n",
      "\n"
     ]
    },
    {
     "name": "stdout",
     "output_type": "stream",
     "text": [
      "Epoch 110, Loss 0.0264\n",
      "Training Accuracy: 0.9700, Testing Accuracy: 0.9708\n",
      "\n"
     ]
    },
    {
     "name": "stdout",
     "output_type": "stream",
     "text": [
      "Epoch 120, Loss 0.0254\n",
      "Training Accuracy: 0.9710, Testing Accuracy: 0.9723\n",
      "\n"
     ]
    },
    {
     "name": "stdout",
     "output_type": "stream",
     "text": [
      "Epoch 130, Loss 0.0246\n",
      "Training Accuracy: 0.9716, Testing Accuracy: 0.9728\n",
      "\n"
     ]
    },
    {
     "name": "stdout",
     "output_type": "stream",
     "text": [
      "Epoch 140, Loss 0.0238\n",
      "Training Accuracy: 0.9725, Testing Accuracy: 0.9738\n",
      "\n"
     ]
    },
    {
     "name": "stdout",
     "output_type": "stream",
     "text": [
      "Epoch 150, Loss 0.0231\n",
      "Training Accuracy: 0.9730, Testing Accuracy: 0.9733\n",
      "\n"
     ]
    },
    {
     "name": "stdout",
     "output_type": "stream",
     "text": [
      "Epoch 160, Loss 0.0224\n",
      "Training Accuracy: 0.9744, Testing Accuracy: 0.9743\n",
      "\n"
     ]
    },
    {
     "name": "stdout",
     "output_type": "stream",
     "text": [
      "Epoch 170, Loss 0.0218\n",
      "Training Accuracy: 0.9750, Testing Accuracy: 0.9748\n",
      "\n"
     ]
    },
    {
     "name": "stdout",
     "output_type": "stream",
     "text": [
      "Epoch 180, Loss 0.0213\n",
      "Training Accuracy: 0.9755, Testing Accuracy: 0.9748\n",
      "\n"
     ]
    },
    {
     "name": "stdout",
     "output_type": "stream",
     "text": [
      "Epoch 190, Loss 0.0208\n",
      "Training Accuracy: 0.9760, Testing Accuracy: 0.9748\n",
      "\n"
     ]
    },
    {
     "name": "stdout",
     "output_type": "stream",
     "text": [
      "Epoch 200, Loss 0.0203\n",
      "Training Accuracy: 0.9768, Testing Accuracy: 0.9748\n",
      "\n"
     ]
    },
    {
     "name": "stdout",
     "output_type": "stream",
     "text": [
      "Epoch 210, Loss 0.0198\n",
      "Training Accuracy: 0.9771, Testing Accuracy: 0.9753\n",
      "\n"
     ]
    },
    {
     "name": "stdout",
     "output_type": "stream",
     "text": [
      "Epoch 220, Loss 0.0193\n",
      "Training Accuracy: 0.9778, Testing Accuracy: 0.9753\n",
      "\n"
     ]
    },
    {
     "name": "stdout",
     "output_type": "stream",
     "text": [
      "Epoch 230, Loss 0.0189\n",
      "Training Accuracy: 0.9786, Testing Accuracy: 0.9758\n",
      "\n"
     ]
    },
    {
     "name": "stdout",
     "output_type": "stream",
     "text": [
      "Epoch 240, Loss 0.0185\n",
      "Training Accuracy: 0.9795, Testing Accuracy: 0.9758\n",
      "\n"
     ]
    },
    {
     "name": "stdout",
     "output_type": "stream",
     "text": [
      "Epoch 250, Loss 0.0181\n",
      "Training Accuracy: 0.9799, Testing Accuracy: 0.9758\n",
      "\n"
     ]
    },
    {
     "data": {
      "text/plain": [
       "0.007067755188503701"
      ]
     },
     "execution_count": 20,
     "metadata": {},
     "output_type": "execute_result"
    }
   ],
   "source": [
    "print(\"====== Neural Network ======\")\n",
    "learner_nn.train_loop(dl)"
   ]
  },
  {
   "cell_type": "markdown",
   "id": "competent-suffering",
   "metadata": {
    "papermill": {
     "duration": 0.045091,
     "end_time": "2021-06-10T20:12:38.590117",
     "exception": false,
     "start_time": "2021-06-10T20:12:38.545026",
     "status": "completed"
    },
    "tags": []
   },
   "source": [
    "### Logistic Regression based Implementation."
   ]
  },
  {
   "cell_type": "code",
   "execution_count": 21,
   "id": "qualified-psychiatry",
   "metadata": {
    "execution": {
     "iopub.execute_input": "2021-06-10T20:12:38.692841Z",
     "iopub.status.busy": "2021-06-10T20:12:38.692002Z",
     "iopub.status.idle": "2021-06-10T20:12:38.697930Z",
     "shell.execute_reply": "2021-06-10T20:12:38.698471Z"
    },
    "papermill": {
     "duration": 0.062942,
     "end_time": "2021-06-10T20:12:38.698626",
     "exception": false,
     "start_time": "2021-06-10T20:12:38.635684",
     "status": "completed"
    },
    "tags": []
   },
   "outputs": [],
   "source": [
    "learner_lr = Learner(loss, model_lr, opt, config.num_epochs)\n",
    "acc_lr = ClfCallback(learner_lr, config.bs, training_xdata , testing_xdata, training_ydata, testing_ydata)\n",
    "learner_lr.set_callbacks([acc_lr])"
   ]
  },
  {
   "cell_type": "code",
   "execution_count": 22,
   "id": "average-outside",
   "metadata": {
    "execution": {
     "iopub.execute_input": "2021-06-10T20:12:38.792989Z",
     "iopub.status.busy": "2021-06-10T20:12:38.792049Z",
     "iopub.status.idle": "2021-06-10T20:12:59.514604Z",
     "shell.execute_reply": "2021-06-10T20:12:59.515425Z"
    },
    "papermill": {
     "duration": 20.771569,
     "end_time": "2021-06-10T20:12:59.515647",
     "exception": false,
     "start_time": "2021-06-10T20:12:38.744078",
     "status": "completed"
    },
    "tags": []
   },
   "outputs": [
    {
     "name": "stdout",
     "output_type": "stream",
     "text": [
      "====== Logistic Regression ======\n",
      "Epoch 0, Loss 0.2515\n",
      "Training Accuracy: 0.6606, Testing Accuracy: 0.6643\n",
      "\n"
     ]
    },
    {
     "name": "stdout",
     "output_type": "stream",
     "text": [
      "Epoch 10, Loss 0.1062\n",
      "Training Accuracy: 0.9040, Testing Accuracy: 0.9078\n",
      "\n"
     ]
    },
    {
     "name": "stdout",
     "output_type": "stream",
     "text": [
      "Epoch 20, Loss 0.0811\n",
      "Training Accuracy: 0.9255, Testing Accuracy: 0.9325\n",
      "\n"
     ]
    },
    {
     "name": "stdout",
     "output_type": "stream",
     "text": [
      "Epoch 30, Loss 0.0695\n",
      "Training Accuracy: 0.9344, Testing Accuracy: 0.9400\n",
      "\n"
     ]
    },
    {
     "name": "stdout",
     "output_type": "stream",
     "text": [
      "Epoch 40, Loss 0.0626\n",
      "Training Accuracy: 0.9395, Testing Accuracy: 0.9476\n",
      "\n"
     ]
    },
    {
     "name": "stdout",
     "output_type": "stream",
     "text": [
      "Epoch 50, Loss 0.0579\n",
      "Training Accuracy: 0.9428, Testing Accuracy: 0.9531\n",
      "\n"
     ]
    },
    {
     "name": "stdout",
     "output_type": "stream",
     "text": [
      "Epoch 60, Loss 0.0545\n",
      "Training Accuracy: 0.9449, Testing Accuracy: 0.9572\n",
      "\n"
     ]
    },
    {
     "name": "stdout",
     "output_type": "stream",
     "text": [
      "Epoch 70, Loss 0.0518\n",
      "Training Accuracy: 0.9465, Testing Accuracy: 0.9587\n",
      "\n"
     ]
    },
    {
     "name": "stdout",
     "output_type": "stream",
     "text": [
      "Epoch 80, Loss 0.0497\n",
      "Training Accuracy: 0.9481, Testing Accuracy: 0.9592\n",
      "\n"
     ]
    },
    {
     "name": "stdout",
     "output_type": "stream",
     "text": [
      "Epoch 90, Loss 0.0479\n",
      "Training Accuracy: 0.9499, Testing Accuracy: 0.9607\n",
      "\n"
     ]
    },
    {
     "name": "stdout",
     "output_type": "stream",
     "text": [
      "Epoch 100, Loss 0.0464\n",
      "Training Accuracy: 0.9513, Testing Accuracy: 0.9607\n",
      "\n"
     ]
    },
    {
     "name": "stdout",
     "output_type": "stream",
     "text": [
      "Epoch 110, Loss 0.0452\n",
      "Training Accuracy: 0.9528, Testing Accuracy: 0.9617\n",
      "\n"
     ]
    },
    {
     "name": "stdout",
     "output_type": "stream",
     "text": [
      "Epoch 120, Loss 0.0441\n",
      "Training Accuracy: 0.9544, Testing Accuracy: 0.9627\n",
      "\n"
     ]
    },
    {
     "name": "stdout",
     "output_type": "stream",
     "text": [
      "Epoch 130, Loss 0.0431\n",
      "Training Accuracy: 0.9547, Testing Accuracy: 0.9642\n",
      "\n"
     ]
    },
    {
     "name": "stdout",
     "output_type": "stream",
     "text": [
      "Epoch 140, Loss 0.0422\n",
      "Training Accuracy: 0.9559, Testing Accuracy: 0.9642\n",
      "\n"
     ]
    },
    {
     "name": "stdout",
     "output_type": "stream",
     "text": [
      "Epoch 150, Loss 0.0415\n",
      "Training Accuracy: 0.9567, Testing Accuracy: 0.9642\n",
      "\n"
     ]
    },
    {
     "name": "stdout",
     "output_type": "stream",
     "text": [
      "Epoch 160, Loss 0.0408\n",
      "Training Accuracy: 0.9573, Testing Accuracy: 0.9647\n",
      "\n"
     ]
    },
    {
     "name": "stdout",
     "output_type": "stream",
     "text": [
      "Epoch 170, Loss 0.0401\n",
      "Training Accuracy: 0.9582, Testing Accuracy: 0.9652\n",
      "\n"
     ]
    },
    {
     "name": "stdout",
     "output_type": "stream",
     "text": [
      "Epoch 180, Loss 0.0396\n",
      "Training Accuracy: 0.9584, Testing Accuracy: 0.9652\n",
      "\n"
     ]
    },
    {
     "name": "stdout",
     "output_type": "stream",
     "text": [
      "Epoch 190, Loss 0.039\n",
      "Training Accuracy: 0.9589, Testing Accuracy: 0.9657\n",
      "\n"
     ]
    },
    {
     "name": "stdout",
     "output_type": "stream",
     "text": [
      "Epoch 200, Loss 0.0385\n",
      "Training Accuracy: 0.9594, Testing Accuracy: 0.9657\n",
      "\n"
     ]
    },
    {
     "name": "stdout",
     "output_type": "stream",
     "text": [
      "Epoch 210, Loss 0.0381\n",
      "Training Accuracy: 0.9596, Testing Accuracy: 0.9657\n",
      "\n"
     ]
    },
    {
     "name": "stdout",
     "output_type": "stream",
     "text": [
      "Epoch 220, Loss 0.0377\n",
      "Training Accuracy: 0.9600, Testing Accuracy: 0.9657\n",
      "\n"
     ]
    },
    {
     "name": "stdout",
     "output_type": "stream",
     "text": [
      "Epoch 230, Loss 0.0373\n",
      "Training Accuracy: 0.9600, Testing Accuracy: 0.9662\n",
      "\n"
     ]
    },
    {
     "name": "stdout",
     "output_type": "stream",
     "text": [
      "Epoch 240, Loss 0.0369\n",
      "Training Accuracy: 0.9604, Testing Accuracy: 0.9667\n",
      "\n"
     ]
    },
    {
     "name": "stdout",
     "output_type": "stream",
     "text": [
      "Epoch 250, Loss 0.0366\n",
      "Training Accuracy: 0.9604, Testing Accuracy: 0.9667\n",
      "\n"
     ]
    },
    {
     "data": {
      "text/plain": [
       "0.06973219162246864"
      ]
     },
     "execution_count": 22,
     "metadata": {},
     "output_type": "execute_result"
    }
   ],
   "source": [
    "print(\"====== Logistic Regression ======\")\n",
    "learner_lr.train_loop(dl)"
   ]
  },
  {
   "cell_type": "markdown",
   "id": "adjusted-possible",
   "metadata": {
    "papermill": {
     "duration": 0.055917,
     "end_time": "2021-06-10T20:12:59.622319",
     "exception": false,
     "start_time": "2021-06-10T20:12:59.566402",
     "status": "completed"
    },
    "tags": []
   },
   "source": [
    "### Comparing results of NN and LR"
   ]
  },
  {
   "cell_type": "code",
   "execution_count": 23,
   "id": "mental-multimedia",
   "metadata": {
    "execution": {
     "iopub.execute_input": "2021-06-10T20:12:59.732832Z",
     "iopub.status.busy": "2021-06-10T20:12:59.732221Z",
     "iopub.status.idle": "2021-06-10T20:12:59.995092Z",
     "shell.execute_reply": "2021-06-10T20:12:59.994439Z"
    },
    "papermill": {
     "duration": 0.324899,
     "end_time": "2021-06-10T20:12:59.995325",
     "exception": false,
     "start_time": "2021-06-10T20:12:59.670426",
     "status": "completed"
    },
    "tags": []
   },
   "outputs": [
    {
     "data": {
      "text/plain": [
       "<matplotlib.legend.Legend at 0x7f1c7032e0b8>"
      ]
     },
     "execution_count": 23,
     "metadata": {},
     "output_type": "execute_result"
    },
    {
     "data": {
      "image/png": "[encoded data removed]",
      "text/plain": [
       "<Figure size 1080x720 with 1 Axes>"
      ]
     },
     "metadata": {
      "needs_background": "light"
     },
     "output_type": "display_data"
    }
   ],
   "source": [
    "plt.figure(figsize=(15,10))\n",
    "\n",
    "# Neural Network plots\n",
    "plt.plot(acc_nn.accuracies, 'r-', label = \"Training Accuracies - NN\")\n",
    "plt.plot(acc_nn.test_accuracies, 'g-', label = \"Testing Accuracies - NN\")\n",
    "\n",
    "# Logistic Regression plots\n",
    "plt.plot(acc_lr.accuracies, 'k-', label = \"Training Accuracies - LR\")\n",
    "plt.plot(acc_lr.test_accuracies, 'b-', label = \"Testing Accuracies - LR\")\n",
    "\n",
    "plt.ylim(0.8, 1)\n",
    "\n",
    "plt.legend()\n",
    "\n"
   ]
  },
  {
   "cell_type": "markdown",
   "id": "sexual-flesh",
   "metadata": {
    "papermill": {
     "duration": 0.052727,
     "end_time": "2021-06-10T20:13:00.099721",
     "exception": false,
     "start_time": "2021-06-10T20:13:00.046994",
     "status": "completed"
    },
    "tags": []
   },
   "source": [
    "### From the plot, we can observe the following:\n",
    "- Neural Network achieves higher accuracy than the Logistic Regression model.\n",
    "- This apparently, is because of overfitting, i.e. NN captures more noise than data.\n",
    "- Testing accuracy of NN drops below the Training accuracy at higher epochs. This explains the over-fitting on training data.\n",
    "- Logistic Regression gives a reliable accuracy, without the above mentioned problem.\n"
   ]
  },
  {
   "cell_type": "markdown",
   "id": "institutional-pacific",
   "metadata": {
    "papermill": {
     "duration": 0.049337,
     "end_time": "2021-06-10T20:13:00.201186",
     "exception": false,
     "start_time": "2021-06-10T20:13:00.151849",
     "status": "completed"
    },
    "tags": []
   },
   "source": [
    "### Moving till the last but one layer (excluding it).\n",
    "#### Plotting the outputs of this layer of the NN."
   ]
  },
  {
   "cell_type": "code",
   "execution_count": 24,
   "id": "economic-server",
   "metadata": {
    "execution": {
     "iopub.execute_input": "2021-06-10T20:13:00.306122Z",
     "iopub.status.busy": "2021-06-10T20:13:00.305381Z",
     "iopub.status.idle": "2021-06-10T20:13:00.317952Z",
     "shell.execute_reply": "2021-06-10T20:13:00.318525Z"
    },
    "papermill": {
     "duration": 0.066831,
     "end_time": "2021-06-10T20:13:00.318742",
     "exception": false,
     "start_time": "2021-06-10T20:13:00.251911",
     "status": "completed"
    },
    "tags": []
   },
   "outputs": [],
   "source": [
    "model_new = Model(layers[:-2])"
   ]
  },
  {
   "cell_type": "code",
   "execution_count": 25,
   "id": "varied-upgrade",
   "metadata": {
    "execution": {
     "iopub.execute_input": "2021-06-10T20:13:00.458793Z",
     "iopub.status.busy": "2021-06-10T20:13:00.458023Z",
     "iopub.status.idle": "2021-06-10T20:13:00.486511Z",
     "shell.execute_reply": "2021-06-10T20:13:00.487672Z"
    },
    "papermill": {
     "duration": 0.088949,
     "end_time": "2021-06-10T20:13:00.487861",
     "exception": false,
     "start_time": "2021-06-10T20:13:00.398912",
     "status": "completed"
    },
    "tags": []
   },
   "outputs": [],
   "source": [
    "plot_testing = model_new(testing_xdata)"
   ]
  },
  {
   "cell_type": "code",
   "execution_count": 26,
   "id": "specific-handling",
   "metadata": {
    "execution": {
     "iopub.execute_input": "2021-06-10T20:13:00.616759Z",
     "iopub.status.busy": "2021-06-10T20:13:00.616112Z",
     "iopub.status.idle": "2021-06-10T20:13:00.833725Z",
     "shell.execute_reply": "2021-06-10T20:13:00.832647Z"
    },
    "papermill": {
     "duration": 0.279374,
     "end_time": "2021-06-10T20:13:00.833868",
     "exception": false,
     "start_time": "2021-06-10T20:13:00.554494",
     "status": "completed"
    },
    "tags": []
   },
   "outputs": [
    {
     "data": {
      "text/plain": [
       "Text(0.5, 1.0, 'Outputs')"
      ]
     },
     "execution_count": 26,
     "metadata": {},
     "output_type": "execute_result"
    },
    {
     "data": {
      "image/png": "[encoded data removed]",
      "text/plain": [
       "<Figure size 576x504 with 1 Axes>"
      ]
     },
     "metadata": {
      "needs_background": "light"
     },
     "output_type": "display_data"
    }
   ],
   "source": [
    "plt.figure(figsize=(8,7))\n",
    "plt.scatter(plot_testing[:,0], plot_testing[:,1], alpha = 0.1, c = y_test.ravel());\n",
    "plt.title('Outputs')"
   ]
  },
  {
   "cell_type": "markdown",
   "id": "described-knowing",
   "metadata": {
    "papermill": {
     "duration": 0.050967,
     "end_time": "2021-06-10T20:13:00.937084",
     "exception": false,
     "start_time": "2021-06-10T20:13:00.886117",
     "status": "completed"
    },
    "tags": []
   },
   "source": [
    "### Plotting probability contours"
   ]
  },
  {
   "cell_type": "code",
   "execution_count": 27,
   "id": "needed-growing",
   "metadata": {
    "execution": {
     "iopub.execute_input": "2021-06-10T20:13:01.041932Z",
     "iopub.status.busy": "2021-06-10T20:13:01.041226Z",
     "iopub.status.idle": "2021-06-10T20:13:01.054955Z",
     "shell.execute_reply": "2021-06-10T20:13:01.054482Z"
    },
    "papermill": {
     "duration": 0.06707,
     "end_time": "2021-06-10T20:13:01.055078",
     "exception": false,
     "start_time": "2021-06-10T20:13:00.988008",
     "status": "completed"
    },
    "tags": []
   },
   "outputs": [],
   "source": [
    "model_prob = Model(layers[-2:]) "
   ]
  },
  {
   "cell_type": "code",
   "execution_count": 28,
   "id": "introductory-enforcement",
   "metadata": {
    "execution": {
     "iopub.execute_input": "2021-06-10T20:13:01.170020Z",
     "iopub.status.busy": "2021-06-10T20:13:01.169469Z",
     "iopub.status.idle": "2021-06-10T20:13:01.184849Z",
     "shell.execute_reply": "2021-06-10T20:13:01.185444Z"
    },
    "papermill": {
     "duration": 0.074818,
     "end_time": "2021-06-10T20:13:01.185702",
     "exception": false,
     "start_time": "2021-06-10T20:13:01.110884",
     "status": "completed"
    },
    "tags": []
   },
   "outputs": [],
   "source": [
    "# Adjust the x and y ranges according to the above generated plot.\n",
    "x_range = np.linspace(-4, 1, 100) \n",
    "y_range = np.linspace(-6, 6, 100) \n",
    "x_grid, y_grid = np.meshgrid(x_range, y_range) # x_grid and y_grig are of size 100 X 100\n",
    "\n",
    "# converting x_grid and y_grid to continuous arrays\n",
    "x_grid_flat = np.ravel(x_grid)\n",
    "y_grid_flat = np.ravel(y_grid)\n",
    "\n",
    "# The last layer of the current model takes two columns as input. Hence transpose of np.vstack() is required.\n",
    "X = np.vstack((x_grid_flat, y_grid_flat)).T\n",
    "\n",
    "# x_grid and y_grid are of size 100 x 100\n",
    "probability_contour = model_prob(X).reshape(100,100) "
   ]
  },
  {
   "cell_type": "code",
   "execution_count": 29,
   "id": "understood-landing",
   "metadata": {
    "execution": {
     "iopub.execute_input": "2021-06-10T20:13:01.308358Z",
     "iopub.status.busy": "2021-06-10T20:13:01.307759Z",
     "iopub.status.idle": "2021-06-10T20:13:01.602159Z",
     "shell.execute_reply": "2021-06-10T20:13:01.602598Z"
    },
    "papermill": {
     "duration": 0.353776,
     "end_time": "2021-06-10T20:13:01.602756",
     "exception": false,
     "start_time": "2021-06-10T20:13:01.248980",
     "status": "completed"
    },
    "tags": []
   },
   "outputs": [
    {
     "data": {
      "image/png": "[encoded data removed]",
      "text/plain": [
       "<Figure size 720x648 with 1 Axes>"
      ]
     },
     "metadata": {
      "needs_background": "light"
     },
     "output_type": "display_data"
    }
   ],
   "source": [
    "plt.figure(figsize=(10,9))\n",
    "plt.scatter(plot_testing[:,0], plot_testing[:,1], alpha = 0.1, c = y_test.ravel())\n",
    "contours = plt.contour(x_grid,y_grid,probability_contour)\n",
    "plt.title('Probability Contours')\n",
    "plt.clabel(contours, inline = True );"
   ]
  }
 ],
 "metadata": {
  "kernelspec": {
   "display_name": "Python 3",
   "language": "python",
   "name": "python3"
  },
  "language_info": {
   "codemirror_mode": {
    "name": "ipython",
    "version": 3
   },
   "file_extension": ".py",
   "mimetype": "text/x-python",
   "name": "python",
   "nbconvert_exporter": "python",
   "pygments_lexer": "ipython3",
   "version": "3.6.13"
  },
  "papermill": {
   "duration": 486.17527,
   "end_time": "2021-06-10T20:13:01.963162",
   "environment_variables": {},
   "exception": null,
   "input_path": "2020-08-11-NeuralNetwork.ipynb",
   "output_path": "2020-08-11-NeuralNetwork.ipynb",
   "parameters": {},
   "start_time": "2021-06-10T20:04:55.787892",
   "version": "2.1.2"
  }
 },
 "nbformat": 4,
 "nbformat_minor": 5
}