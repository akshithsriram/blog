{
 "cells": [
  {
   "cell_type": "markdown",
   "metadata": {
    "papermill": {
     "duration": 0.029285,
     "end_time": "2020-09-28T00:06:15.147435",
     "exception": false,
     "start_time": "2020-09-28T00:06:15.118150",
     "status": "completed"
    },
    "tags": []
   },
   "source": [
    "# \"A Basic Neural Network: Differentiate Hand-Written Digits\"\n",
    "\n",
    "- badges: true\n",
    "- author: Akshith Sriram"
   ]
  },
  {
   "cell_type": "markdown",
   "metadata": {
    "papermill": {
     "duration": 0.02375,
     "end_time": "2020-09-28T00:06:15.195132",
     "exception": false,
     "start_time": "2020-09-28T00:06:15.171382",
     "status": "completed"
    },
    "tags": []
   },
   "source": [
    "### Key Objectives:\n",
    "- Building a neural network that differentiates two hand-written digits 3 and 8.\n",
    "- Comparing the results of this Neural Network (NN) to that of a Logistic Regression (LR) model.\n",
    "\n",
    "### Requirements:\n",
    "- 'Kudzu' : A neural network library that was designed during our course by [Univ.AI](www.univ.ai). \n",
    "- MNIST Database\n",
    "\n",
    "If MNIST is not installed, use the command `!pip install mnist` given below.\n",
    "It can be run both from the command line and Jupyter Notebook."
   ]
  },
  {
   "cell_type": "code",
   "execution_count": 1,
   "metadata": {
    "execution": {
     "iopub.execute_input": "2020-09-28T00:06:15.247618Z",
     "iopub.status.busy": "2020-09-28T00:06:15.246986Z",
     "iopub.status.idle": "2020-09-28T00:06:16.669911Z",
     "shell.execute_reply": "2020-09-28T00:06:16.668435Z"
    },
    "papermill": {
     "duration": 1.452164,
     "end_time": "2020-09-28T00:06:16.670168",
     "exception": false,
     "start_time": "2020-09-28T00:06:15.218004",
     "status": "completed"
    },
    "tags": []
   },
   "outputs": [
    {
     "name": "stdout",
     "output_type": "stream",
     "text": [
      "Collecting mnist\r\n"
     ]
    },
    {
     "name": "stdout",
     "output_type": "stream",
     "text": [
      "  Downloading mnist-0.2.2-py2.py3-none-any.whl (3.5 kB)\r\n",
      "Requirement already satisfied: numpy in /opt/hostedtoolcache/Python/3.6.12/x64/lib/python3.6/site-packages (from mnist) (1.19.2)\r\n"
     ]
    },
    {
     "name": "stdout",
     "output_type": "stream",
     "text": [
      "Installing collected packages: mnist\r\n",
      "Successfully installed mnist-0.2.2\r\n"
     ]
    }
   ],
   "source": [
    "!pip install mnist "
   ]
  },
  {
   "cell_type": "markdown",
   "metadata": {
    "papermill": {
     "duration": 0.022195,
     "end_time": "2020-09-28T00:06:16.716367",
     "exception": false,
     "start_time": "2020-09-28T00:06:16.694172",
     "status": "completed"
    },
    "tags": []
   },
   "source": [
    "#### Importing necessary libraries"
   ]
  },
  {
   "cell_type": "code",
   "execution_count": 2,
   "metadata": {
    "execution": {
     "iopub.execute_input": "2020-09-28T00:06:16.773323Z",
     "iopub.status.busy": "2020-09-28T00:06:16.772771Z",
     "iopub.status.idle": "2020-09-28T00:06:17.293343Z",
     "shell.execute_reply": "2020-09-28T00:06:17.292707Z"
    },
    "papermill": {
     "duration": 0.551479,
     "end_time": "2020-09-28T00:06:17.293481",
     "exception": false,
     "start_time": "2020-09-28T00:06:16.742002",
     "status": "completed"
    },
    "tags": []
   },
   "outputs": [],
   "source": [
    "%load_ext autoreload\n",
    "%autoreload 2\n",
    "\n",
    "%matplotlib inline\n",
    "import matplotlib.pyplot as plt\n",
    "\n",
    "import numpy as np\n",
    "import pandas as pd"
   ]
  },
  {
   "cell_type": "markdown",
   "metadata": {
    "papermill": {
     "duration": 0.025717,
     "end_time": "2020-09-28T00:06:17.345162",
     "exception": false,
     "start_time": "2020-09-28T00:06:17.319445",
     "status": "completed"
    },
    "tags": []
   },
   "source": [
    "### Preparing the Data"
   ]
  },
  {
   "cell_type": "code",
   "execution_count": 3,
   "metadata": {
    "execution": {
     "iopub.execute_input": "2020-09-28T00:06:17.404439Z",
     "iopub.status.busy": "2020-09-28T00:06:17.400717Z",
     "iopub.status.idle": "2020-09-28T00:06:17.412670Z",
     "shell.execute_reply": "2020-09-28T00:06:17.412194Z"
    },
    "papermill": {
     "duration": 0.041354,
     "end_time": "2020-09-28T00:06:17.412798",
     "exception": false,
     "start_time": "2020-09-28T00:06:17.371444",
     "status": "completed"
    },
    "tags": []
   },
   "outputs": [],
   "source": [
    "import mnist"
   ]
  },
  {
   "cell_type": "code",
   "execution_count": 4,
   "metadata": {
    "execution": {
     "iopub.execute_input": "2020-09-28T00:06:17.467927Z",
     "iopub.status.busy": "2020-09-28T00:06:17.467313Z",
     "iopub.status.idle": "2020-09-28T00:06:19.138278Z",
     "shell.execute_reply": "2020-09-28T00:06:19.139136Z"
    },
    "papermill": {
     "duration": 1.700691,
     "end_time": "2020-09-28T00:06:19.139426",
     "exception": false,
     "start_time": "2020-09-28T00:06:17.438735",
     "status": "completed"
    },
    "tags": []
   },
   "outputs": [],
   "source": [
    "train_images = mnist.train_images()\n",
    "train_labels = mnist.train_labels()"
   ]
  },
  {
   "cell_type": "code",
   "execution_count": 5,
   "metadata": {
    "execution": {
     "iopub.execute_input": "2020-09-28T00:06:19.400316Z",
     "iopub.status.busy": "2020-09-28T00:06:19.399265Z",
     "iopub.status.idle": "2020-09-28T00:06:19.415482Z",
     "shell.execute_reply": "2020-09-28T00:06:19.415015Z"
    },
    "papermill": {
     "duration": 0.113413,
     "end_time": "2020-09-28T00:06:19.415607",
     "exception": false,
     "start_time": "2020-09-28T00:06:19.302194",
     "status": "completed"
    },
    "tags": []
   },
   "outputs": [
    {
     "data": {
      "text/plain": [
       "((60000, 28, 28), (60000,))"
      ]
     },
     "execution_count": 5,
     "metadata": {},
     "output_type": "execute_result"
    }
   ],
   "source": [
    "train_images.shape, train_labels.shape"
   ]
  },
  {
   "cell_type": "code",
   "execution_count": 6,
   "metadata": {
    "execution": {
     "iopub.execute_input": "2020-09-28T00:06:19.652187Z",
     "iopub.status.busy": "2020-09-28T00:06:19.651634Z",
     "iopub.status.idle": "2020-09-28T00:06:20.501787Z",
     "shell.execute_reply": "2020-09-28T00:06:20.500917Z"
    },
    "papermill": {
     "duration": 1.06085,
     "end_time": "2020-09-28T00:06:20.502014",
     "exception": false,
     "start_time": "2020-09-28T00:06:19.441164",
     "status": "completed"
    },
    "tags": []
   },
   "outputs": [],
   "source": [
    "test_images = mnist.test_images()\n",
    "test_labels = mnist.test_labels()"
   ]
  },
  {
   "cell_type": "code",
   "execution_count": 7,
   "metadata": {
    "execution": {
     "iopub.execute_input": "2020-09-28T00:06:20.556657Z",
     "iopub.status.busy": "2020-09-28T00:06:20.556078Z",
     "iopub.status.idle": "2020-09-28T00:06:20.567346Z",
     "shell.execute_reply": "2020-09-28T00:06:20.567874Z"
    },
    "papermill": {
     "duration": 0.040819,
     "end_time": "2020-09-28T00:06:20.568007",
     "exception": false,
     "start_time": "2020-09-28T00:06:20.527188",
     "status": "completed"
    },
    "tags": []
   },
   "outputs": [
    {
     "data": {
      "text/plain": [
       "((10000, 28, 28), (10000,))"
      ]
     },
     "execution_count": 7,
     "metadata": {},
     "output_type": "execute_result"
    }
   ],
   "source": [
    "test_images.shape, test_labels.shape"
   ]
  },
  {
   "cell_type": "code",
   "execution_count": 8,
   "metadata": {
    "execution": {
     "iopub.execute_input": "2020-09-28T00:06:20.617692Z",
     "iopub.status.busy": "2020-09-28T00:06:20.617201Z",
     "iopub.status.idle": "2020-09-28T00:06:20.746552Z",
     "shell.execute_reply": "2020-09-28T00:06:20.746984Z"
    },
    "papermill": {
     "duration": 0.157424,
     "end_time": "2020-09-28T00:06:20.747133",
     "exception": false,
     "start_time": "2020-09-28T00:06:20.589709",
     "status": "completed"
    },
    "tags": []
   },
   "outputs": [
    {
     "name": "stdout",
     "output_type": "stream",
     "text": [
      "2\n"
     ]
    },
    {
     "data": {
      "text/plain": [
       "<matplotlib.image.AxesImage at 0x7f11ff10f7f0>"
      ]
     },
     "execution_count": 8,
     "metadata": {},
     "output_type": "execute_result"
    },
    {
     "data": {
      "image/png": "[encoded data removed]",
      "text/plain": [
       "<Figure size 432x288 with 1 Axes>"
      ]
     },
     "metadata": {
      "needs_background": "light"
     },
     "output_type": "display_data"
    }
   ],
   "source": [
    "image_index = 7776 # You may select anything up to 60,000\n",
    "print(train_labels[image_index]) \n",
    "plt.imshow(train_images[image_index], cmap='Greys')"
   ]
  },
  {
   "cell_type": "markdown",
   "metadata": {
    "papermill": {
     "duration": 0.025496,
     "end_time": "2020-09-28T00:06:20.796743",
     "exception": false,
     "start_time": "2020-09-28T00:06:20.771247",
     "status": "completed"
    },
    "tags": []
   },
   "source": [
    "## Filter data to get 3 and 8 out"
   ]
  },
  {
   "cell_type": "code",
   "execution_count": 9,
   "metadata": {
    "execution": {
     "iopub.execute_input": "2020-09-28T00:06:20.849252Z",
     "iopub.status.busy": "2020-09-28T00:06:20.848426Z",
     "iopub.status.idle": "2020-09-28T00:06:20.865694Z",
     "shell.execute_reply": "2020-09-28T00:06:20.864824Z"
    },
    "papermill": {
     "duration": 0.04532,
     "end_time": "2020-09-28T00:06:20.865814",
     "exception": false,
     "start_time": "2020-09-28T00:06:20.820494",
     "status": "completed"
    },
    "tags": []
   },
   "outputs": [],
   "source": [
    "train_filter = np.where((train_labels == 3 ) | (train_labels == 8))\n",
    "test_filter = np.where((test_labels == 3) | (test_labels == 8))\n",
    "X_train, y_train = train_images[train_filter], train_labels[train_filter]\n",
    "X_test, y_test = test_images[test_filter], test_labels[test_filter]"
   ]
  },
  {
   "cell_type": "markdown",
   "metadata": {
    "papermill": {
     "duration": 0.023043,
     "end_time": "2020-09-28T00:06:20.911568",
     "exception": false,
     "start_time": "2020-09-28T00:06:20.888525",
     "status": "completed"
    },
    "tags": []
   },
   "source": [
    "We normalize the pixel values in the 0 to 1 range"
   ]
  },
  {
   "cell_type": "code",
   "execution_count": 10,
   "metadata": {
    "execution": {
     "iopub.execute_input": "2020-09-28T00:06:20.961070Z",
     "iopub.status.busy": "2020-09-28T00:06:20.960529Z",
     "iopub.status.idle": "2020-09-28T00:06:21.010696Z",
     "shell.execute_reply": "2020-09-28T00:06:21.010217Z"
    },
    "papermill": {
     "duration": 0.076113,
     "end_time": "2020-09-28T00:06:21.010826",
     "exception": false,
     "start_time": "2020-09-28T00:06:20.934713",
     "status": "completed"
    },
    "tags": []
   },
   "outputs": [],
   "source": [
    "X_train = X_train/255.\n",
    "X_test = X_test/255."
   ]
  },
  {
   "cell_type": "markdown",
   "metadata": {
    "papermill": {
     "duration": 0.02461,
     "end_time": "2020-09-28T00:06:21.060496",
     "exception": false,
     "start_time": "2020-09-28T00:06:21.035886",
     "status": "completed"
    },
    "tags": []
   },
   "source": [
    "Setup the labels as 1 (when the digit is 3) and 0 (when the digit is 8)"
   ]
  },
  {
   "cell_type": "code",
   "execution_count": 11,
   "metadata": {
    "execution": {
     "iopub.execute_input": "2020-09-28T00:06:21.113018Z",
     "iopub.status.busy": "2020-09-28T00:06:21.112498Z",
     "iopub.status.idle": "2020-09-28T00:06:21.123834Z",
     "shell.execute_reply": "2020-09-28T00:06:21.123319Z"
    },
    "papermill": {
     "duration": 0.038671,
     "end_time": "2020-09-28T00:06:21.123947",
     "exception": false,
     "start_time": "2020-09-28T00:06:21.085276",
     "status": "completed"
    },
    "tags": []
   },
   "outputs": [],
   "source": [
    "y_train = 1*(y_train==3)\n",
    "y_test = 1*(y_test==3)"
   ]
  },
  {
   "cell_type": "code",
   "execution_count": 12,
   "metadata": {
    "execution": {
     "iopub.execute_input": "2020-09-28T00:06:21.174614Z",
     "iopub.status.busy": "2020-09-28T00:06:21.174085Z",
     "iopub.status.idle": "2020-09-28T00:06:21.185368Z",
     "shell.execute_reply": "2020-09-28T00:06:21.185863Z"
    },
    "papermill": {
     "duration": 0.039531,
     "end_time": "2020-09-28T00:06:21.185998",
     "exception": false,
     "start_time": "2020-09-28T00:06:21.146467",
     "status": "completed"
    },
    "tags": []
   },
   "outputs": [
    {
     "data": {
      "text/plain": [
       "((11982, 28, 28), (1984, 28, 28))"
      ]
     },
     "execution_count": 12,
     "metadata": {},
     "output_type": "execute_result"
    }
   ],
   "source": [
    "X_train.shape, X_test.shape"
   ]
  },
  {
   "cell_type": "markdown",
   "metadata": {
    "papermill": {
     "duration": 0.02482,
     "end_time": "2020-09-28T00:06:21.234699",
     "exception": false,
     "start_time": "2020-09-28T00:06:21.209879",
     "status": "completed"
    },
    "tags": []
   },
   "source": [
    "### Reshape the input data to create a linear array"
   ]
  },
  {
   "cell_type": "code",
   "execution_count": 13,
   "metadata": {
    "execution": {
     "iopub.execute_input": "2020-09-28T00:06:21.292500Z",
     "iopub.status.busy": "2020-09-28T00:06:21.291964Z",
     "iopub.status.idle": "2020-09-28T00:06:21.304332Z",
     "shell.execute_reply": "2020-09-28T00:06:21.303873Z"
    },
    "papermill": {
     "duration": 0.045416,
     "end_time": "2020-09-28T00:06:21.304441",
     "exception": false,
     "start_time": "2020-09-28T00:06:21.259025",
     "status": "completed"
    },
    "tags": []
   },
   "outputs": [
    {
     "data": {
      "text/plain": [
       "((11982, 784), (1984, 784))"
      ]
     },
     "execution_count": 13,
     "metadata": {},
     "output_type": "execute_result"
    }
   ],
   "source": [
    "X_train = X_train.reshape(X_train.shape[0], -1)\n",
    "X_test = X_test.reshape(X_test.shape[0], -1)\n",
    "X_train.shape, X_test.shape"
   ]
  },
  {
   "cell_type": "markdown",
   "metadata": {
    "papermill": {
     "duration": 0.02422,
     "end_time": "2020-09-28T00:06:21.352848",
     "exception": false,
     "start_time": "2020-09-28T00:06:21.328628",
     "status": "completed"
    },
    "tags": []
   },
   "source": [
    "### Importing appropriate functions from 'Kudzu'"
   ]
  },
  {
   "cell_type": "code",
   "execution_count": 14,
   "metadata": {
    "execution": {
     "iopub.execute_input": "2020-09-28T00:06:21.408873Z",
     "iopub.status.busy": "2020-09-28T00:06:21.408334Z",
     "iopub.status.idle": "2020-09-28T00:06:21.424393Z",
     "shell.execute_reply": "2020-09-28T00:06:21.423935Z"
    },
    "papermill": {
     "duration": 0.046778,
     "end_time": "2020-09-28T00:06:21.424502",
     "exception": false,
     "start_time": "2020-09-28T00:06:21.377724",
     "status": "completed"
    },
    "tags": []
   },
   "outputs": [],
   "source": [
    "from kudzu.layer import Sigmoid\n",
    "from kudzu.layer import Relu\n",
    "from kudzu.layer import Affine, Sigmoid\n",
    "\n",
    "from kudzu.model import Model\n",
    "from kudzu.train import Learner\n",
    "from kudzu.optim import GD\n",
    "from kudzu.data import Data, Dataloader, Sampler\n",
    "\n",
    "from kudzu.callbacks import AccCallback\n",
    "from kudzu.callbacks import ClfCallback\n",
    "\n",
    "from kudzu.loss import MSE"
   ]
  },
  {
   "cell_type": "markdown",
   "metadata": {
    "papermill": {
     "duration": 0.025092,
     "end_time": "2020-09-28T00:06:21.473580",
     "exception": false,
     "start_time": "2020-09-28T00:06:21.448488",
     "status": "completed"
    },
    "tags": []
   },
   "source": [
    "### Let us create a `Config` class, to store important parameters. \n",
    "This class essentially plays the role of a dictionary."
   ]
  },
  {
   "cell_type": "code",
   "execution_count": 15,
   "metadata": {
    "execution": {
     "iopub.execute_input": "2020-09-28T00:06:21.528233Z",
     "iopub.status.busy": "2020-09-28T00:06:21.527691Z",
     "iopub.status.idle": "2020-09-28T00:06:21.538804Z",
     "shell.execute_reply": "2020-09-28T00:06:21.539212Z"
    },
    "papermill": {
     "duration": 0.040378,
     "end_time": "2020-09-28T00:06:21.539363",
     "exception": false,
     "start_time": "2020-09-28T00:06:21.498985",
     "status": "completed"
    },
    "tags": []
   },
   "outputs": [],
   "source": [
    "class Config:\n",
    "    pass\n",
    "config = Config()\n",
    "config.lr = 0.001\n",
    "config.num_epochs = 251\n",
    "config.bs = 50"
   ]
  },
  {
   "cell_type": "markdown",
   "metadata": {
    "papermill": {
     "duration": 0.026425,
     "end_time": "2020-09-28T00:06:21.591175",
     "exception": false,
     "start_time": "2020-09-28T00:06:21.564750",
     "status": "completed"
    },
    "tags": []
   },
   "source": [
    "### Initializing data to the variables"
   ]
  },
  {
   "cell_type": "code",
   "execution_count": 16,
   "metadata": {
    "execution": {
     "iopub.execute_input": "2020-09-28T00:06:21.657499Z",
     "iopub.status.busy": "2020-09-28T00:06:21.656954Z",
     "iopub.status.idle": "2020-09-28T00:06:21.663825Z",
     "shell.execute_reply": "2020-09-28T00:06:21.664237Z"
    },
    "papermill": {
     "duration": 0.04865,
     "end_time": "2020-09-28T00:06:21.664367",
     "exception": false,
     "start_time": "2020-09-28T00:06:21.615717",
     "status": "completed"
    },
    "tags": []
   },
   "outputs": [],
   "source": [
    "data = Data(X_train, y_train.reshape(-1,1))\n",
    "sampler = Sampler(data, config.bs, shuffle=True)\n",
    "\n",
    "dl = Dataloader(data, sampler)\n",
    "\n",
    "opt = GD(config.lr)\n",
    "loss = MSE()"
   ]
  },
  {
   "cell_type": "code",
   "execution_count": 17,
   "metadata": {
    "execution": {
     "iopub.execute_input": "2020-09-28T00:06:21.718716Z",
     "iopub.status.busy": "2020-09-28T00:06:21.718175Z",
     "iopub.status.idle": "2020-09-28T00:06:21.730553Z",
     "shell.execute_reply": "2020-09-28T00:06:21.730149Z"
    },
    "papermill": {
     "duration": 0.041442,
     "end_time": "2020-09-28T00:06:21.730650",
     "exception": false,
     "start_time": "2020-09-28T00:06:21.689208",
     "status": "completed"
    },
    "tags": []
   },
   "outputs": [],
   "source": [
    "training_xdata = X_train\n",
    "testing_xdata = X_test\n",
    "training_ydata = y_train.reshape(-1,1)\n",
    "testing_ydata = y_test.reshape(-1,1)"
   ]
  },
  {
   "cell_type": "markdown",
   "metadata": {
    "papermill": {
     "duration": 0.023398,
     "end_time": "2020-09-28T00:06:21.777745",
     "exception": false,
     "start_time": "2020-09-28T00:06:21.754347",
     "status": "completed"
    },
    "tags": []
   },
   "source": [
    "### Running Models with the Training data\n",
    "Details about the network layers:\n",
    "- A first affine layer has 784 inputs and does 100 affine transforms. These are followed by a Relu\n",
    "- A second affine layer has 100 inputs from the 100 activations of the past layer, and does 100 affine transforms. These are followed by a Relu\n",
    "- A third affine layer has 100 activations and does 2 affine transformations to create an embedding for visualization. There is no non-linearity here.\n",
    "- A final \"logistic regression\" which has an affine transform from 2 inputs to 1 output, which is squeezed through a sigmoid.\n",
    "\n",
    "Help taken from Anshuman's Notebook."
   ]
  },
  {
   "cell_type": "code",
   "execution_count": 18,
   "metadata": {
    "execution": {
     "iopub.execute_input": "2020-09-28T00:06:21.831529Z",
     "iopub.status.busy": "2020-09-28T00:06:21.830929Z",
     "iopub.status.idle": "2020-09-28T00:06:21.851484Z",
     "shell.execute_reply": "2020-09-28T00:06:21.850967Z"
    },
    "papermill": {
     "duration": 0.048641,
     "end_time": "2020-09-28T00:06:21.851602",
     "exception": false,
     "start_time": "2020-09-28T00:06:21.802961",
     "status": "completed"
    },
    "tags": []
   },
   "outputs": [],
   "source": [
    "# layers for the Neural Network\n",
    "layers = [Affine(\"first\", 784, 100), Relu(\"first\"), Affine(\"second\", 100, 100), Relu(\"second\"), Affine(\"third\", 100, 2), Affine(\"final\", 2, 1), Sigmoid(\"final\")]\n",
    "model_nn = Model(layers)\n",
    "\n",
    "# layers for the Logistic Regression\n",
    "layers_lr = [Affine(\"logits\", 784, 1), Sigmoid(\"sigmoid\")]\n",
    "model_lr = Model(layers_lr)"
   ]
  },
  {
   "cell_type": "code",
   "execution_count": 19,
   "metadata": {
    "execution": {
     "iopub.execute_input": "2020-09-28T00:06:21.906700Z",
     "iopub.status.busy": "2020-09-28T00:06:21.906165Z",
     "iopub.status.idle": "2020-09-28T00:06:21.917882Z",
     "shell.execute_reply": "2020-09-28T00:06:21.918342Z"
    },
    "papermill": {
     "duration": 0.041979,
     "end_time": "2020-09-28T00:06:21.918461",
     "exception": false,
     "start_time": "2020-09-28T00:06:21.876482",
     "status": "completed"
    },
    "tags": []
   },
   "outputs": [],
   "source": [
    "# suffix _nn stands for Neural Network.\n",
    "learner_nn = Learner(loss, model_nn, opt, config.num_epochs)\n",
    "acc_nn = ClfCallback(learner_nn, config.bs, training_xdata , testing_xdata, training_ydata, testing_ydata)\n",
    "learner_nn.set_callbacks([acc_nn])"
   ]
  },
  {
   "cell_type": "code",
   "execution_count": 20,
   "metadata": {
    "execution": {
     "iopub.execute_input": "2020-09-28T00:06:21.972333Z",
     "iopub.status.busy": "2020-09-28T00:06:21.971791Z",
     "iopub.status.idle": "2020-09-28T00:07:40.191528Z",
     "shell.execute_reply": "2020-09-28T00:07:40.192087Z"
    },
    "papermill": {
     "duration": 78.249818,
     "end_time": "2020-09-28T00:07:40.192242",
     "exception": false,
     "start_time": "2020-09-28T00:06:21.942424",
     "status": "completed"
    },
    "tags": []
   },
   "outputs": [
    {
     "name": "stdout",
     "output_type": "stream",
     "text": [
      "====== Neural Network ======\n"
     ]
    },
    {
     "name": "stdout",
     "output_type": "stream",
     "text": [
      "Epoch 0, Loss 0.2516\n",
      "Training Accuracy: 0.4977, Testing Accuracy: 0.4945\n",
      "\n"
     ]
    },
    {
     "name": "stdout",
     "output_type": "stream",
     "text": [
      "Epoch 10, Loss 0.1943\n",
      "Training Accuracy: 0.8956, Testing Accuracy: 0.9108\n",
      "\n"
     ]
    },
    {
     "name": "stdout",
     "output_type": "stream",
     "text": [
      "Epoch 20, Loss 0.0969\n",
      "Training Accuracy: 0.9205, Testing Accuracy: 0.9340\n",
      "\n"
     ]
    },
    {
     "name": "stdout",
     "output_type": "stream",
     "text": [
      "Epoch 30, Loss 0.0605\n",
      "Training Accuracy: 0.9367, Testing Accuracy: 0.9471\n",
      "\n"
     ]
    },
    {
     "name": "stdout",
     "output_type": "stream",
     "text": [
      "Epoch 40, Loss 0.0474\n",
      "Training Accuracy: 0.9481, Testing Accuracy: 0.9592\n",
      "\n"
     ]
    },
    {
     "name": "stdout",
     "output_type": "stream",
     "text": [
      "Epoch 50, Loss 0.0409\n",
      "Training Accuracy: 0.9529, Testing Accuracy: 0.9642\n",
      "\n"
     ]
    },
    {
     "name": "stdout",
     "output_type": "stream",
     "text": [
      "Epoch 60, Loss 0.037\n",
      "Training Accuracy: 0.9565, Testing Accuracy: 0.9662\n",
      "\n"
     ]
    },
    {
     "name": "stdout",
     "output_type": "stream",
     "text": [
      "Epoch 70, Loss 0.0344\n",
      "Training Accuracy: 0.9589, Testing Accuracy: 0.9677\n",
      "\n"
     ]
    },
    {
     "name": "stdout",
     "output_type": "stream",
     "text": [
      "Epoch 80, Loss 0.0325\n",
      "Training Accuracy: 0.9609, Testing Accuracy: 0.9667\n",
      "\n"
     ]
    },
    {
     "name": "stdout",
     "output_type": "stream",
     "text": [
      "Epoch 90, Loss 0.0309\n",
      "Training Accuracy: 0.9630, Testing Accuracy: 0.9688\n",
      "\n"
     ]
    },
    {
     "name": "stdout",
     "output_type": "stream",
     "text": [
      "Epoch 100, Loss 0.0297\n",
      "Training Accuracy: 0.9644, Testing Accuracy: 0.9682\n",
      "\n"
     ]
    },
    {
     "name": "stdout",
     "output_type": "stream",
     "text": [
      "Epoch 110, Loss 0.0286\n",
      "Training Accuracy: 0.9650, Testing Accuracy: 0.9688\n",
      "\n"
     ]
    },
    {
     "name": "stdout",
     "output_type": "stream",
     "text": [
      "Epoch 120, Loss 0.0277\n",
      "Training Accuracy: 0.9663, Testing Accuracy: 0.9688\n",
      "\n"
     ]
    },
    {
     "name": "stdout",
     "output_type": "stream",
     "text": [
      "Epoch 130, Loss 0.0269\n",
      "Training Accuracy: 0.9674, Testing Accuracy: 0.9688\n",
      "\n"
     ]
    },
    {
     "name": "stdout",
     "output_type": "stream",
     "text": [
      "Epoch 140, Loss 0.0262\n",
      "Training Accuracy: 0.9685, Testing Accuracy: 0.9693\n",
      "\n"
     ]
    },
    {
     "name": "stdout",
     "output_type": "stream",
     "text": [
      "Epoch 150, Loss 0.0255\n",
      "Training Accuracy: 0.9691, Testing Accuracy: 0.9688\n",
      "\n"
     ]
    },
    {
     "name": "stdout",
     "output_type": "stream",
     "text": [
      "Epoch 160, Loss 0.0249\n",
      "Training Accuracy: 0.9697, Testing Accuracy: 0.9693\n",
      "\n"
     ]
    },
    {
     "name": "stdout",
     "output_type": "stream",
     "text": [
      "Epoch 170, Loss 0.0244\n",
      "Training Accuracy: 0.9705, Testing Accuracy: 0.9703\n",
      "\n"
     ]
    },
    {
     "name": "stdout",
     "output_type": "stream",
     "text": [
      "Epoch 180, Loss 0.0239\n",
      "Training Accuracy: 0.9710, Testing Accuracy: 0.9698\n",
      "\n"
     ]
    },
    {
     "name": "stdout",
     "output_type": "stream",
     "text": [
      "Epoch 190, Loss 0.0235\n",
      "Training Accuracy: 0.9715, Testing Accuracy: 0.9703\n",
      "\n"
     ]
    },
    {
     "name": "stdout",
     "output_type": "stream",
     "text": [
      "Epoch 200, Loss 0.023\n",
      "Training Accuracy: 0.9718, Testing Accuracy: 0.9708\n",
      "\n"
     ]
    },
    {
     "name": "stdout",
     "output_type": "stream",
     "text": [
      "Epoch 210, Loss 0.0226\n",
      "Training Accuracy: 0.9722, Testing Accuracy: 0.9718\n",
      "\n"
     ]
    },
    {
     "name": "stdout",
     "output_type": "stream",
     "text": [
      "Epoch 220, Loss 0.0223\n",
      "Training Accuracy: 0.9728, Testing Accuracy: 0.9718\n",
      "\n"
     ]
    },
    {
     "name": "stdout",
     "output_type": "stream",
     "text": [
      "Epoch 230, Loss 0.0219\n",
      "Training Accuracy: 0.9733, Testing Accuracy: 0.9713\n",
      "\n"
     ]
    },
    {
     "name": "stdout",
     "output_type": "stream",
     "text": [
      "Epoch 240, Loss 0.0215\n",
      "Training Accuracy: 0.9739, Testing Accuracy: 0.9718\n",
      "\n"
     ]
    },
    {
     "name": "stdout",
     "output_type": "stream",
     "text": [
      "Epoch 250, Loss 0.0212\n",
      "Training Accuracy: 0.9744, Testing Accuracy: 0.9718\n",
      "\n"
     ]
    },
    {
     "data": {
      "text/plain": [
       "0.004060111067781941"
      ]
     },
     "execution_count": 20,
     "metadata": {},
     "output_type": "execute_result"
    }
   ],
   "source": [
    "print(\"====== Neural Network ======\")\n",
    "learner_nn.train_loop(dl)"
   ]
  },
  {
   "cell_type": "markdown",
   "metadata": {
    "papermill": {
     "duration": 0.03211,
     "end_time": "2020-09-28T00:07:40.257407",
     "exception": false,
     "start_time": "2020-09-28T00:07:40.225297",
     "status": "completed"
    },
    "tags": []
   },
   "source": [
    "### Logistic Regression based Implementation."
   ]
  },
  {
   "cell_type": "code",
   "execution_count": 21,
   "metadata": {
    "execution": {
     "iopub.execute_input": "2020-09-28T00:07:40.328372Z",
     "iopub.status.busy": "2020-09-28T00:07:40.327863Z",
     "iopub.status.idle": "2020-09-28T00:07:40.336665Z",
     "shell.execute_reply": "2020-09-28T00:07:40.336229Z"
    },
    "papermill": {
     "duration": 0.047666,
     "end_time": "2020-09-28T00:07:40.336783",
     "exception": false,
     "start_time": "2020-09-28T00:07:40.289117",
     "status": "completed"
    },
    "tags": []
   },
   "outputs": [],
   "source": [
    "learner_lr = Learner(loss, model_lr, opt, config.num_epochs)\n",
    "acc_lr = ClfCallback(learner_lr, config.bs, training_xdata , testing_xdata, training_ydata, testing_ydata)\n",
    "learner_lr.set_callbacks([acc_lr])"
   ]
  },
  {
   "cell_type": "code",
   "execution_count": 22,
   "metadata": {
    "execution": {
     "iopub.execute_input": "2020-09-28T00:07:40.416546Z",
     "iopub.status.busy": "2020-09-28T00:07:40.415879Z",
     "iopub.status.idle": "2020-09-28T00:07:55.831507Z",
     "shell.execute_reply": "2020-09-28T00:07:55.831988Z"
    },
    "papermill": {
     "duration": 15.462839,
     "end_time": "2020-09-28T00:07:55.832135",
     "exception": false,
     "start_time": "2020-09-28T00:07:40.369296",
     "status": "completed"
    },
    "tags": []
   },
   "outputs": [
    {
     "name": "stdout",
     "output_type": "stream",
     "text": [
      "====== Logistic Regression ======\n",
      "Epoch 0, Loss 0.2239\n",
      "Training Accuracy: 0.7184, Testing Accuracy: 0.7107\n",
      "\n"
     ]
    },
    {
     "name": "stdout",
     "output_type": "stream",
     "text": [
      "Epoch 10, Loss 0.1072\n",
      "Training Accuracy: 0.8948, Testing Accuracy: 0.9022\n",
      "\n"
     ]
    },
    {
     "name": "stdout",
     "output_type": "stream",
     "text": [
      "Epoch 20, Loss 0.0818\n",
      "Training Accuracy: 0.9220, Testing Accuracy: 0.9315\n",
      "\n"
     ]
    },
    {
     "name": "stdout",
     "output_type": "stream",
     "text": [
      "Epoch 30, Loss 0.07\n",
      "Training Accuracy: 0.9328, Testing Accuracy: 0.9430\n",
      "\n"
     ]
    },
    {
     "name": "stdout",
     "output_type": "stream",
     "text": [
      "Epoch 40, Loss 0.0629\n",
      "Training Accuracy: 0.9390, Testing Accuracy: 0.9501\n",
      "\n"
     ]
    },
    {
     "name": "stdout",
     "output_type": "stream",
     "text": [
      "Epoch 50, Loss 0.0582\n",
      "Training Accuracy: 0.9432, Testing Accuracy: 0.9516\n",
      "\n"
     ]
    },
    {
     "name": "stdout",
     "output_type": "stream",
     "text": [
      "Epoch 60, Loss 0.0547\n",
      "Training Accuracy: 0.9461, Testing Accuracy: 0.9536\n",
      "\n"
     ]
    },
    {
     "name": "stdout",
     "output_type": "stream",
     "text": [
      "Epoch 70, Loss 0.052\n",
      "Training Accuracy: 0.9473, Testing Accuracy: 0.9551\n",
      "\n"
     ]
    },
    {
     "name": "stdout",
     "output_type": "stream",
     "text": [
      "Epoch 80, Loss 0.0499\n",
      "Training Accuracy: 0.9485, Testing Accuracy: 0.9572\n",
      "\n"
     ]
    },
    {
     "name": "stdout",
     "output_type": "stream",
     "text": [
      "Epoch 90, Loss 0.0481\n",
      "Training Accuracy: 0.9502, Testing Accuracy: 0.9587\n",
      "\n"
     ]
    },
    {
     "name": "stdout",
     "output_type": "stream",
     "text": [
      "Epoch 100, Loss 0.0467\n",
      "Training Accuracy: 0.9520, Testing Accuracy: 0.9592\n",
      "\n"
     ]
    },
    {
     "name": "stdout",
     "output_type": "stream",
     "text": [
      "Epoch 110, Loss 0.0454\n",
      "Training Accuracy: 0.9531, Testing Accuracy: 0.9612\n",
      "\n"
     ]
    },
    {
     "name": "stdout",
     "output_type": "stream",
     "text": [
      "Epoch 120, Loss 0.0443\n",
      "Training Accuracy: 0.9539, Testing Accuracy: 0.9607\n",
      "\n"
     ]
    },
    {
     "name": "stdout",
     "output_type": "stream",
     "text": [
      "Epoch 130, Loss 0.0433\n",
      "Training Accuracy: 0.9547, Testing Accuracy: 0.9622\n",
      "\n"
     ]
    },
    {
     "name": "stdout",
     "output_type": "stream",
     "text": [
      "Epoch 140, Loss 0.0425\n",
      "Training Accuracy: 0.9554, Testing Accuracy: 0.9622\n",
      "\n"
     ]
    },
    {
     "name": "stdout",
     "output_type": "stream",
     "text": [
      "Epoch 150, Loss 0.0417\n",
      "Training Accuracy: 0.9560, Testing Accuracy: 0.9627\n",
      "\n"
     ]
    },
    {
     "name": "stdout",
     "output_type": "stream",
     "text": [
      "Epoch 160, Loss 0.041\n",
      "Training Accuracy: 0.9565, Testing Accuracy: 0.9642\n",
      "\n"
     ]
    },
    {
     "name": "stdout",
     "output_type": "stream",
     "text": [
      "Epoch 170, Loss 0.0404\n",
      "Training Accuracy: 0.9575, Testing Accuracy: 0.9652\n",
      "\n"
     ]
    },
    {
     "name": "stdout",
     "output_type": "stream",
     "text": [
      "Epoch 180, Loss 0.0398\n",
      "Training Accuracy: 0.9579, Testing Accuracy: 0.9657\n",
      "\n"
     ]
    },
    {
     "name": "stdout",
     "output_type": "stream",
     "text": [
      "Epoch 190, Loss 0.0392\n",
      "Training Accuracy: 0.9581, Testing Accuracy: 0.9662\n",
      "\n"
     ]
    },
    {
     "name": "stdout",
     "output_type": "stream",
     "text": [
      "Epoch 200, Loss 0.0387\n",
      "Training Accuracy: 0.9584, Testing Accuracy: 0.9662\n",
      "\n"
     ]
    },
    {
     "name": "stdout",
     "output_type": "stream",
     "text": [
      "Epoch 210, Loss 0.0383\n",
      "Training Accuracy: 0.9588, Testing Accuracy: 0.9667\n",
      "\n"
     ]
    },
    {
     "name": "stdout",
     "output_type": "stream",
     "text": [
      "Epoch 220, Loss 0.0379\n",
      "Training Accuracy: 0.9593, Testing Accuracy: 0.9672\n",
      "\n"
     ]
    },
    {
     "name": "stdout",
     "output_type": "stream",
     "text": [
      "Epoch 230, Loss 0.0375\n",
      "Training Accuracy: 0.9599, Testing Accuracy: 0.9677\n",
      "\n"
     ]
    },
    {
     "name": "stdout",
     "output_type": "stream",
     "text": [
      "Epoch 240, Loss 0.0371\n",
      "Training Accuracy: 0.9600, Testing Accuracy: 0.9677\n",
      "\n"
     ]
    },
    {
     "name": "stdout",
     "output_type": "stream",
     "text": [
      "Epoch 250, Loss 0.0367\n",
      "Training Accuracy: 0.9604, Testing Accuracy: 0.9677\n",
      "\n"
     ]
    },
    {
     "data": {
      "text/plain": [
       "0.01261819386377607"
      ]
     },
     "execution_count": 22,
     "metadata": {},
     "output_type": "execute_result"
    }
   ],
   "source": [
    "print(\"====== Logistic Regression ======\")\n",
    "learner_lr.train_loop(dl)"
   ]
  },
  {
   "cell_type": "markdown",
   "metadata": {
    "papermill": {
     "duration": 0.037673,
     "end_time": "2020-09-28T00:07:55.910383",
     "exception": false,
     "start_time": "2020-09-28T00:07:55.872710",
     "status": "completed"
    },
    "tags": []
   },
   "source": [
    "### Comparing results of NN and LR"
   ]
  },
  {
   "cell_type": "code",
   "execution_count": 23,
   "metadata": {
    "execution": {
     "iopub.execute_input": "2020-09-28T00:07:55.998458Z",
     "iopub.status.busy": "2020-09-28T00:07:55.997299Z",
     "iopub.status.idle": "2020-09-28T00:07:56.210433Z",
     "shell.execute_reply": "2020-09-28T00:07:56.210028Z"
    },
    "papermill": {
     "duration": 0.260357,
     "end_time": "2020-09-28T00:07:56.210550",
     "exception": false,
     "start_time": "2020-09-28T00:07:55.950193",
     "status": "completed"
    },
    "tags": []
   },
   "outputs": [
    {
     "data": {
      "text/plain": [
       "<matplotlib.legend.Legend at 0x7f11f84cb2e8>"
      ]
     },
     "execution_count": 23,
     "metadata": {},
     "output_type": "execute_result"
    },
    {
     "data": {
      "image/png": "[encoded data removed]",
      "text/plain": [
       "<Figure size 1080x720 with 1 Axes>"
      ]
     },
     "metadata": {
      "needs_background": "light"
     },
     "output_type": "display_data"
    }
   ],
   "source": [
    "plt.figure(figsize=(15,10))\n",
    "\n",
    "# Neural Network plots\n",
    "plt.plot(acc_nn.accuracies, 'r-', label = \"Training Accuracies - NN\")\n",
    "plt.plot(acc_nn.test_accuracies, 'g-', label = \"Testing Accuracies - NN\")\n",
    "\n",
    "# Logistic Regression plots\n",
    "plt.plot(acc_lr.accuracies, 'k-', label = \"Training Accuracies - LR\")\n",
    "plt.plot(acc_lr.test_accuracies, 'b-', label = \"Testing Accuracies - LR\")\n",
    "\n",
    "plt.ylim(0.8, 1)\n",
    "\n",
    "plt.legend()\n",
    "\n"
   ]
  },
  {
   "cell_type": "markdown",
   "metadata": {
    "papermill": {
     "duration": 0.040475,
     "end_time": "2020-09-28T00:07:56.289324",
     "exception": false,
     "start_time": "2020-09-28T00:07:56.248849",
     "status": "completed"
    },
    "tags": []
   },
   "source": [
    "### From the plot, we can observe the following:\n",
    "- Neural Network achieves higher accuracy than the Logistic Regression model.\n",
    "- This apparently, is because of overfitting, i.e. NN captures more noise than data.\n",
    "- Testing accuracy of NN drops below the Training accuracy at higher epochs. This explains the over-fitting on training data.\n",
    "- Logistic Regression gives a reliable accuracy, without the above mentioned problem.\n"
   ]
  },
  {
   "cell_type": "markdown",
   "metadata": {
    "papermill": {
     "duration": 0.040714,
     "end_time": "2020-09-28T00:07:56.370068",
     "exception": false,
     "start_time": "2020-09-28T00:07:56.329354",
     "status": "completed"
    },
    "tags": []
   },
   "source": [
    "### Moving till the last but one layer (excluding it).\n",
    "#### Plotting the outputs of this layer of the NN."
   ]
  },
  {
   "cell_type": "code",
   "execution_count": 24,
   "metadata": {
    "execution": {
     "iopub.execute_input": "2020-09-28T00:07:56.465538Z",
     "iopub.status.busy": "2020-09-28T00:07:56.464533Z",
     "iopub.status.idle": "2020-09-28T00:07:56.472731Z",
     "shell.execute_reply": "2020-09-28T00:07:56.472287Z"
    },
    "papermill": {
     "duration": 0.056657,
     "end_time": "2020-09-28T00:07:56.472854",
     "exception": false,
     "start_time": "2020-09-28T00:07:56.416197",
     "status": "completed"
    },
    "tags": []
   },
   "outputs": [],
   "source": [
    "model_new = Model(layers[:-2])"
   ]
  },
  {
   "cell_type": "code",
   "execution_count": 25,
   "metadata": {
    "execution": {
     "iopub.execute_input": "2020-09-28T00:07:56.564566Z",
     "iopub.status.busy": "2020-09-28T00:07:56.563249Z",
     "iopub.status.idle": "2020-09-28T00:07:56.579642Z",
     "shell.execute_reply": "2020-09-28T00:07:56.579150Z"
    },
    "papermill": {
     "duration": 0.064723,
     "end_time": "2020-09-28T00:07:56.579760",
     "exception": false,
     "start_time": "2020-09-28T00:07:56.515037",
     "status": "completed"
    },
    "tags": []
   },
   "outputs": [],
   "source": [
    "plot_testing = model_new(testing_xdata)"
   ]
  },
  {
   "cell_type": "code",
   "execution_count": 26,
   "metadata": {
    "execution": {
     "iopub.execute_input": "2020-09-28T00:07:56.672648Z",
     "iopub.status.busy": "2020-09-28T00:07:56.672109Z",
     "iopub.status.idle": "2020-09-28T00:07:56.843093Z",
     "shell.execute_reply": "2020-09-28T00:07:56.842448Z"
    },
    "papermill": {
     "duration": 0.222025,
     "end_time": "2020-09-28T00:07:56.843207",
     "exception": false,
     "start_time": "2020-09-28T00:07:56.621182",
     "status": "completed"
    },
    "tags": []
   },
   "outputs": [
    {
     "data": {
      "text/plain": [
       "Text(0.5, 1.0, 'Outputs')"
      ]
     },
     "execution_count": 26,
     "metadata": {},
     "output_type": "execute_result"
    },
    {
     "data": {
      "image/png": "[encoded data removed]",
      "text/plain": [
       "<Figure size 576x504 with 1 Axes>"
      ]
     },
     "metadata": {
      "needs_background": "light"
     },
     "output_type": "display_data"
    }
   ],
   "source": [
    "plt.figure(figsize=(8,7))\n",
    "plt.scatter(plot_testing[:,0], plot_testing[:,1], alpha = 0.1, c = y_test.ravel());\n",
    "plt.title('Outputs')"
   ]
  },
  {
   "cell_type": "markdown",
   "metadata": {
    "papermill": {
     "duration": 0.04022,
     "end_time": "2020-09-28T00:07:56.928867",
     "exception": false,
     "start_time": "2020-09-28T00:07:56.888647",
     "status": "completed"
    },
    "tags": []
   },
   "source": [
    "### Plotting probability contours"
   ]
  },
  {
   "cell_type": "code",
   "execution_count": 27,
   "metadata": {
    "execution": {
     "iopub.execute_input": "2020-09-28T00:07:57.016094Z",
     "iopub.status.busy": "2020-09-28T00:07:57.015600Z",
     "iopub.status.idle": "2020-09-28T00:07:57.026930Z",
     "shell.execute_reply": "2020-09-28T00:07:57.026522Z"
    },
    "papermill": {
     "duration": 0.057739,
     "end_time": "2020-09-28T00:07:57.027033",
     "exception": false,
     "start_time": "2020-09-28T00:07:56.969294",
     "status": "completed"
    },
    "tags": []
   },
   "outputs": [],
   "source": [
    "model_prob = Model(layers[-2:]) "
   ]
  },
  {
   "cell_type": "code",
   "execution_count": 28,
   "metadata": {
    "execution": {
     "iopub.execute_input": "2020-09-28T00:07:57.113867Z",
     "iopub.status.busy": "2020-09-28T00:07:57.113290Z",
     "iopub.status.idle": "2020-09-28T00:07:57.126528Z",
     "shell.execute_reply": "2020-09-28T00:07:57.126961Z"
    },
    "papermill": {
     "duration": 0.059225,
     "end_time": "2020-09-28T00:07:57.127091",
     "exception": false,
     "start_time": "2020-09-28T00:07:57.067866",
     "status": "completed"
    },
    "tags": []
   },
   "outputs": [],
   "source": [
    "# Adjust the x and y ranges according to the above generated plot.\n",
    "x_range = np.linspace(-4, 1, 100) \n",
    "y_range = np.linspace(-6, 6, 100) \n",
    "x_grid, y_grid = np.meshgrid(x_range, y_range) # x_grid and y_grig are of size 100 X 100\n",
    "\n",
    "# converting x_grid and y_grid to continuous arrays\n",
    "x_grid_flat = np.ravel(x_grid)\n",
    "y_grid_flat = np.ravel(y_grid)\n",
    "\n",
    "# The last layer of the current model takes two columns as input. Hence transpose of np.vstack() is required.\n",
    "X = np.vstack((x_grid_flat, y_grid_flat)).T\n",
    "\n",
    "# x_grid and y_grid are of size 100 x 100\n",
    "probability_contour = model_prob(X).reshape(100,100) "
   ]
  },
  {
   "cell_type": "code",
   "execution_count": 29,
   "metadata": {
    "execution": {
     "iopub.execute_input": "2020-09-28T00:07:57.216399Z",
     "iopub.status.busy": "2020-09-28T00:07:57.215927Z",
     "iopub.status.idle": "2020-09-28T00:07:57.449667Z",
     "shell.execute_reply": "2020-09-28T00:07:57.450103Z"
    },
    "papermill": {
     "duration": 0.279364,
     "end_time": "2020-09-28T00:07:57.450257",
     "exception": false,
     "start_time": "2020-09-28T00:07:57.170893",
     "status": "completed"
    },
    "tags": []
   },
   "outputs": [
    {
     "data": {
      "image/png": "[encoded data removed]",
      "text/plain": [
       "<Figure size 720x648 with 1 Axes>"
      ]
     },
     "metadata": {
      "needs_background": "light"
     },
     "output_type": "display_data"
    }
   ],
   "source": [
    "plt.figure(figsize=(10,9))\n",
    "plt.scatter(plot_testing[:,0], plot_testing[:,1], alpha = 0.1, c = y_test.ravel())\n",
    "contours = plt.contour(x_grid,y_grid,probability_contour)\n",
    "plt.title('Probability Contours')\n",
    "plt.clabel(contours, inline = True );"
   ]
  }
 ],
 "metadata": {
  "kernelspec": {
   "display_name": "Python 3",
   "language": "python",
   "name": "python3"
  },
  "language_info": {
   "codemirror_mode": {
    "name": "ipython",
    "version": 3
   },
   "file_extension": ".py",
   "mimetype": "text/x-python",
   "name": "python",
   "nbconvert_exporter": "python",
   "pygments_lexer": "ipython3",
   "version": "3.6.12"
  },
  "papermill": {
   "duration": 103.726766,
   "end_time": "2020-09-28T00:07:57.801715",
   "environment_variables": {},
   "exception": null,
   "input_path": "2020-08-11-NeuralNetwork.ipynb",
   "output_path": "2020-08-11-NeuralNetwork.ipynb",
   "parameters": {},
   "start_time": "2020-09-28T00:06:14.074949",
   "version": "2.1.2"
  }
 },
 "nbformat": 4,
 "nbformat_minor": 4
}