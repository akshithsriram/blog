{
 "cells": [
  {
   "cell_type": "markdown",
   "metadata": {
    "papermill": {
     "duration": 0.030294,
     "end_time": "2020-11-10T00:06:02.999227",
     "exception": false,
     "start_time": "2020-11-10T00:06:02.968933",
     "status": "completed"
    },
    "tags": []
   },
   "source": [
    "# \"A Basic Neural Network: Differentiate Hand-Written Digits\"\n",
    "\n",
    "- badges: true\n",
    "- author: Akshith Sriram"
   ]
  },
  {
   "cell_type": "markdown",
   "metadata": {
    "papermill": {
     "duration": 0.025283,
     "end_time": "2020-11-10T00:06:03.051993",
     "exception": false,
     "start_time": "2020-11-10T00:06:03.026710",
     "status": "completed"
    },
    "tags": []
   },
   "source": [
    "### Key Objectives:\n",
    "- Building a neural network that differentiates two hand-written digits 3 and 8.\n",
    "- Comparing the results of this Neural Network (NN) to that of a Logistic Regression (LR) model.\n",
    "\n",
    "### Requirements:\n",
    "- 'Kudzu' : A neural network library that was designed during our course by [Univ.AI](www.univ.ai). \n",
    "- MNIST Database\n",
    "\n",
    "If MNIST is not installed, use the command `!pip install mnist` given below.\n",
    "It can be run both from the command line and Jupyter Notebook."
   ]
  },
  {
   "cell_type": "code",
   "execution_count": 1,
   "metadata": {
    "execution": {
     "iopub.execute_input": "2020-11-10T00:06:03.110654Z",
     "iopub.status.busy": "2020-11-10T00:06:03.107367Z",
     "iopub.status.idle": "2020-11-10T00:06:04.700776Z",
     "shell.execute_reply": "2020-11-10T00:06:04.700226Z"
    },
    "papermill": {
     "duration": 1.622835,
     "end_time": "2020-11-10T00:06:04.700948",
     "exception": false,
     "start_time": "2020-11-10T00:06:03.078113",
     "status": "completed"
    },
    "tags": []
   },
   "outputs": [
    {
     "name": "stdout",
     "output_type": "stream",
     "text": [
      "Collecting mnist\r\n"
     ]
    },
    {
     "name": "stdout",
     "output_type": "stream",
     "text": [
      "  Downloading mnist-0.2.2-py2.py3-none-any.whl (3.5 kB)\r\n",
      "Requirement already satisfied: numpy in /opt/hostedtoolcache/Python/3.6.12/x64/lib/python3.6/site-packages (from mnist) (1.19.4)\r\n"
     ]
    },
    {
     "name": "stdout",
     "output_type": "stream",
     "text": [
      "Installing collected packages: mnist\r\n",
      "Successfully installed mnist-0.2.2\r\n"
     ]
    }
   ],
   "source": [
    "!pip install mnist "
   ]
  },
  {
   "cell_type": "markdown",
   "metadata": {
    "papermill": {
     "duration": 0.027696,
     "end_time": "2020-11-10T00:06:04.757281",
     "exception": false,
     "start_time": "2020-11-10T00:06:04.729585",
     "status": "completed"
    },
    "tags": []
   },
   "source": [
    "#### Importing necessary libraries"
   ]
  },
  {
   "cell_type": "code",
   "execution_count": 2,
   "metadata": {
    "execution": {
     "iopub.execute_input": "2020-11-10T00:06:04.824437Z",
     "iopub.status.busy": "2020-11-10T00:06:04.823778Z",
     "iopub.status.idle": "2020-11-10T00:06:05.430231Z",
     "shell.execute_reply": "2020-11-10T00:06:05.430810Z"
    },
    "papermill": {
     "duration": 0.643873,
     "end_time": "2020-11-10T00:06:05.430989",
     "exception": false,
     "start_time": "2020-11-10T00:06:04.787116",
     "status": "completed"
    },
    "tags": []
   },
   "outputs": [],
   "source": [
    "%load_ext autoreload\n",
    "%autoreload 2\n",
    "\n",
    "%matplotlib inline\n",
    "import matplotlib.pyplot as plt\n",
    "\n",
    "import numpy as np\n",
    "import pandas as pd"
   ]
  },
  {
   "cell_type": "markdown",
   "metadata": {
    "papermill": {
     "duration": 0.028787,
     "end_time": "2020-11-10T00:06:05.487751",
     "exception": false,
     "start_time": "2020-11-10T00:06:05.458964",
     "status": "completed"
    },
    "tags": []
   },
   "source": [
    "### Preparing the Data"
   ]
  },
  {
   "cell_type": "code",
   "execution_count": 3,
   "metadata": {
    "execution": {
     "iopub.execute_input": "2020-11-10T00:06:05.547477Z",
     "iopub.status.busy": "2020-11-10T00:06:05.546896Z",
     "iopub.status.idle": "2020-11-10T00:06:05.560770Z",
     "shell.execute_reply": "2020-11-10T00:06:05.561466Z"
    },
    "papermill": {
     "duration": 0.046072,
     "end_time": "2020-11-10T00:06:05.561608",
     "exception": false,
     "start_time": "2020-11-10T00:06:05.515536",
     "status": "completed"
    },
    "tags": []
   },
   "outputs": [],
   "source": [
    "import mnist"
   ]
  },
  {
   "cell_type": "code",
   "execution_count": 4,
   "metadata": {
    "execution": {
     "iopub.execute_input": "2020-11-10T00:06:05.619368Z",
     "iopub.status.busy": "2020-11-10T00:06:05.618575Z",
     "iopub.status.idle": "2020-11-10T00:06:06.519978Z",
     "shell.execute_reply": "2020-11-10T00:06:06.519419Z"
    },
    "papermill": {
     "duration": 0.930959,
     "end_time": "2020-11-10T00:06:06.520130",
     "exception": false,
     "start_time": "2020-11-10T00:06:05.589171",
     "status": "completed"
    },
    "tags": []
   },
   "outputs": [],
   "source": [
    "train_images = mnist.train_images()\n",
    "train_labels = mnist.train_labels()"
   ]
  },
  {
   "cell_type": "code",
   "execution_count": 5,
   "metadata": {
    "execution": {
     "iopub.execute_input": "2020-11-10T00:06:06.581224Z",
     "iopub.status.busy": "2020-11-10T00:06:06.580539Z",
     "iopub.status.idle": "2020-11-10T00:06:06.595944Z",
     "shell.execute_reply": "2020-11-10T00:06:06.595412Z"
    },
    "papermill": {
     "duration": 0.048485,
     "end_time": "2020-11-10T00:06:06.596100",
     "exception": false,
     "start_time": "2020-11-10T00:06:06.547615",
     "status": "completed"
    },
    "tags": []
   },
   "outputs": [
    {
     "data": {
      "text/plain": [
       "((60000, 28, 28), (60000,))"
      ]
     },
     "execution_count": 5,
     "metadata": {},
     "output_type": "execute_result"
    }
   ],
   "source": [
    "train_images.shape, train_labels.shape"
   ]
  },
  {
   "cell_type": "code",
   "execution_count": 6,
   "metadata": {
    "execution": {
     "iopub.execute_input": "2020-11-10T00:06:06.655377Z",
     "iopub.status.busy": "2020-11-10T00:06:06.654720Z",
     "iopub.status.idle": "2020-11-10T00:06:06.917890Z",
     "shell.execute_reply": "2020-11-10T00:06:06.917139Z"
    },
    "papermill": {
     "duration": 0.294365,
     "end_time": "2020-11-10T00:06:06.918139",
     "exception": false,
     "start_time": "2020-11-10T00:06:06.623774",
     "status": "completed"
    },
    "tags": []
   },
   "outputs": [],
   "source": [
    "test_images = mnist.test_images()\n",
    "test_labels = mnist.test_labels()"
   ]
  },
  {
   "cell_type": "code",
   "execution_count": 7,
   "metadata": {
    "execution": {
     "iopub.execute_input": "2020-11-10T00:06:06.979215Z",
     "iopub.status.busy": "2020-11-10T00:06:06.978624Z",
     "iopub.status.idle": "2020-11-10T00:06:06.993122Z",
     "shell.execute_reply": "2020-11-10T00:06:06.993809Z"
    },
    "papermill": {
     "duration": 0.047755,
     "end_time": "2020-11-10T00:06:06.993954",
     "exception": false,
     "start_time": "2020-11-10T00:06:06.946199",
     "status": "completed"
    },
    "tags": []
   },
   "outputs": [
    {
     "data": {
      "text/plain": [
       "((10000, 28, 28), (10000,))"
      ]
     },
     "execution_count": 7,
     "metadata": {},
     "output_type": "execute_result"
    }
   ],
   "source": [
    "test_images.shape, test_labels.shape"
   ]
  },
  {
   "cell_type": "code",
   "execution_count": 8,
   "metadata": {
    "execution": {
     "iopub.execute_input": "2020-11-10T00:06:07.056766Z",
     "iopub.status.busy": "2020-11-10T00:06:07.056075Z",
     "iopub.status.idle": "2020-11-10T00:06:07.230763Z",
     "shell.execute_reply": "2020-11-10T00:06:07.231232Z"
    },
    "papermill": {
     "duration": 0.20862,
     "end_time": "2020-11-10T00:06:07.231426",
     "exception": false,
     "start_time": "2020-11-10T00:06:07.022806",
     "status": "completed"
    },
    "tags": []
   },
   "outputs": [
    {
     "name": "stdout",
     "output_type": "stream",
     "text": [
      "2\n"
     ]
    },
    {
     "data": {
      "text/plain": [
       "<matplotlib.image.AxesImage at 0x7fd67060b470>"
      ]
     },
     "execution_count": 8,
     "metadata": {},
     "output_type": "execute_result"
    },
    {
     "data": {
      "image/png": "[encoded data removed]",
      "text/plain": [
       "<Figure size 432x288 with 1 Axes>"
      ]
     },
     "metadata": {
      "needs_background": "light"
     },
     "output_type": "display_data"
    }
   ],
   "source": [
    "image_index = 7776 # You may select anything up to 60,000\n",
    "print(train_labels[image_index]) \n",
    "plt.imshow(train_images[image_index], cmap='Greys')"
   ]
  },
  {
   "cell_type": "markdown",
   "metadata": {
    "papermill": {
     "duration": 0.029401,
     "end_time": "2020-11-10T00:06:07.290297",
     "exception": false,
     "start_time": "2020-11-10T00:06:07.260896",
     "status": "completed"
    },
    "tags": []
   },
   "source": [
    "## Filter data to get 3 and 8 out"
   ]
  },
  {
   "cell_type": "code",
   "execution_count": 9,
   "metadata": {
    "execution": {
     "iopub.execute_input": "2020-11-10T00:06:07.356880Z",
     "iopub.status.busy": "2020-11-10T00:06:07.356128Z",
     "iopub.status.idle": "2020-11-10T00:06:07.373391Z",
     "shell.execute_reply": "2020-11-10T00:06:07.372896Z"
    },
    "papermill": {
     "duration": 0.05308,
     "end_time": "2020-11-10T00:06:07.373562",
     "exception": false,
     "start_time": "2020-11-10T00:06:07.320482",
     "status": "completed"
    },
    "tags": []
   },
   "outputs": [],
   "source": [
    "train_filter = np.where((train_labels == 3 ) | (train_labels == 8))\n",
    "test_filter = np.where((test_labels == 3) | (test_labels == 8))\n",
    "X_train, y_train = train_images[train_filter], train_labels[train_filter]\n",
    "X_test, y_test = test_images[test_filter], test_labels[test_filter]"
   ]
  },
  {
   "cell_type": "markdown",
   "metadata": {
    "papermill": {
     "duration": 0.029168,
     "end_time": "2020-11-10T00:06:07.433376",
     "exception": false,
     "start_time": "2020-11-10T00:06:07.404208",
     "status": "completed"
    },
    "tags": []
   },
   "source": [
    "We normalize the pixel values in the 0 to 1 range"
   ]
  },
  {
   "cell_type": "code",
   "execution_count": 10,
   "metadata": {
    "execution": {
     "iopub.execute_input": "2020-11-10T00:06:07.510795Z",
     "iopub.status.busy": "2020-11-10T00:06:07.502607Z",
     "iopub.status.idle": "2020-11-10T00:06:07.562707Z",
     "shell.execute_reply": "2020-11-10T00:06:07.562143Z"
    },
    "papermill": {
     "duration": 0.099605,
     "end_time": "2020-11-10T00:06:07.562857",
     "exception": false,
     "start_time": "2020-11-10T00:06:07.463252",
     "status": "completed"
    },
    "tags": []
   },
   "outputs": [],
   "source": [
    "X_train = X_train/255.\n",
    "X_test = X_test/255."
   ]
  },
  {
   "cell_type": "markdown",
   "metadata": {
    "papermill": {
     "duration": 0.029562,
     "end_time": "2020-11-10T00:06:07.621448",
     "exception": false,
     "start_time": "2020-11-10T00:06:07.591886",
     "status": "completed"
    },
    "tags": []
   },
   "source": [
    "Setup the labels as 1 (when the digit is 3) and 0 (when the digit is 8)"
   ]
  },
  {
   "cell_type": "code",
   "execution_count": 11,
   "metadata": {
    "execution": {
     "iopub.execute_input": "2020-11-10T00:06:07.685694Z",
     "iopub.status.busy": "2020-11-10T00:06:07.685059Z",
     "iopub.status.idle": "2020-11-10T00:06:07.697654Z",
     "shell.execute_reply": "2020-11-10T00:06:07.698242Z"
    },
    "papermill": {
     "duration": 0.047062,
     "end_time": "2020-11-10T00:06:07.698393",
     "exception": false,
     "start_time": "2020-11-10T00:06:07.651331",
     "status": "completed"
    },
    "tags": []
   },
   "outputs": [],
   "source": [
    "y_train = 1*(y_train==3)\n",
    "y_test = 1*(y_test==3)"
   ]
  },
  {
   "cell_type": "code",
   "execution_count": 12,
   "metadata": {
    "execution": {
     "iopub.execute_input": "2020-11-10T00:06:07.759705Z",
     "iopub.status.busy": "2020-11-10T00:06:07.759124Z",
     "iopub.status.idle": "2020-11-10T00:06:07.773956Z",
     "shell.execute_reply": "2020-11-10T00:06:07.773486Z"
    },
    "papermill": {
     "duration": 0.047207,
     "end_time": "2020-11-10T00:06:07.774099",
     "exception": false,
     "start_time": "2020-11-10T00:06:07.726892",
     "status": "completed"
    },
    "tags": []
   },
   "outputs": [
    {
     "data": {
      "text/plain": [
       "((11982, 28, 28), (1984, 28, 28))"
      ]
     },
     "execution_count": 12,
     "metadata": {},
     "output_type": "execute_result"
    }
   ],
   "source": [
    "X_train.shape, X_test.shape"
   ]
  },
  {
   "cell_type": "markdown",
   "metadata": {
    "papermill": {
     "duration": 0.029565,
     "end_time": "2020-11-10T00:06:07.833912",
     "exception": false,
     "start_time": "2020-11-10T00:06:07.804347",
     "status": "completed"
    },
    "tags": []
   },
   "source": [
    "### Reshape the input data to create a linear array"
   ]
  },
  {
   "cell_type": "code",
   "execution_count": 13,
   "metadata": {
    "execution": {
     "iopub.execute_input": "2020-11-10T00:06:07.900453Z",
     "iopub.status.busy": "2020-11-10T00:06:07.899863Z",
     "iopub.status.idle": "2020-11-10T00:06:07.915375Z",
     "shell.execute_reply": "2020-11-10T00:06:07.914689Z"
    },
    "papermill": {
     "duration": 0.051741,
     "end_time": "2020-11-10T00:06:07.915514",
     "exception": false,
     "start_time": "2020-11-10T00:06:07.863773",
     "status": "completed"
    },
    "tags": []
   },
   "outputs": [
    {
     "data": {
      "text/plain": [
       "((11982, 784), (1984, 784))"
      ]
     },
     "execution_count": 13,
     "metadata": {},
     "output_type": "execute_result"
    }
   ],
   "source": [
    "X_train = X_train.reshape(X_train.shape[0], -1)\n",
    "X_test = X_test.reshape(X_test.shape[0], -1)\n",
    "X_train.shape, X_test.shape"
   ]
  },
  {
   "cell_type": "markdown",
   "metadata": {
    "papermill": {
     "duration": 0.030846,
     "end_time": "2020-11-10T00:06:07.977348",
     "exception": false,
     "start_time": "2020-11-10T00:06:07.946502",
     "status": "completed"
    },
    "tags": []
   },
   "source": [
    "### Importing appropriate functions from 'Kudzu'"
   ]
  },
  {
   "cell_type": "code",
   "execution_count": 14,
   "metadata": {
    "execution": {
     "iopub.execute_input": "2020-11-10T00:06:08.046196Z",
     "iopub.status.busy": "2020-11-10T00:06:08.045528Z",
     "iopub.status.idle": "2020-11-10T00:06:08.067464Z",
     "shell.execute_reply": "2020-11-10T00:06:08.068053Z"
    },
    "papermill": {
     "duration": 0.057723,
     "end_time": "2020-11-10T00:06:08.068211",
     "exception": false,
     "start_time": "2020-11-10T00:06:08.010488",
     "status": "completed"
    },
    "tags": []
   },
   "outputs": [],
   "source": [
    "from kudzu.layer import Sigmoid\n",
    "from kudzu.layer import Relu\n",
    "from kudzu.layer import Affine, Sigmoid\n",
    "\n",
    "from kudzu.model import Model\n",
    "from kudzu.train import Learner\n",
    "from kudzu.optim import GD\n",
    "from kudzu.data import Data, Dataloader, Sampler\n",
    "\n",
    "from kudzu.callbacks import AccCallback\n",
    "from kudzu.callbacks import ClfCallback\n",
    "\n",
    "from kudzu.loss import MSE"
   ]
  },
  {
   "cell_type": "markdown",
   "metadata": {
    "papermill": {
     "duration": 0.030138,
     "end_time": "2020-11-10T00:06:08.129590",
     "exception": false,
     "start_time": "2020-11-10T00:06:08.099452",
     "status": "completed"
    },
    "tags": []
   },
   "source": [
    "### Let us create a `Config` class, to store important parameters. \n",
    "This class essentially plays the role of a dictionary."
   ]
  },
  {
   "cell_type": "code",
   "execution_count": 15,
   "metadata": {
    "execution": {
     "iopub.execute_input": "2020-11-10T00:06:08.203400Z",
     "iopub.status.busy": "2020-11-10T00:06:08.202755Z",
     "iopub.status.idle": "2020-11-10T00:06:08.212253Z",
     "shell.execute_reply": "2020-11-10T00:06:08.212752Z"
    },
    "papermill": {
     "duration": 0.052158,
     "end_time": "2020-11-10T00:06:08.212931",
     "exception": false,
     "start_time": "2020-11-10T00:06:08.160773",
     "status": "completed"
    },
    "tags": []
   },
   "outputs": [],
   "source": [
    "class Config:\n",
    "    pass\n",
    "config = Config()\n",
    "config.lr = 0.001\n",
    "config.num_epochs = 251\n",
    "config.bs = 50"
   ]
  },
  {
   "cell_type": "markdown",
   "metadata": {
    "papermill": {
     "duration": 0.02945,
     "end_time": "2020-11-10T00:06:08.272711",
     "exception": false,
     "start_time": "2020-11-10T00:06:08.243261",
     "status": "completed"
    },
    "tags": []
   },
   "source": [
    "### Initializing data to the variables"
   ]
  },
  {
   "cell_type": "code",
   "execution_count": 16,
   "metadata": {
    "execution": {
     "iopub.execute_input": "2020-11-10T00:06:08.339374Z",
     "iopub.status.busy": "2020-11-10T00:06:08.338681Z",
     "iopub.status.idle": "2020-11-10T00:06:08.353106Z",
     "shell.execute_reply": "2020-11-10T00:06:08.353699Z"
    },
    "papermill": {
     "duration": 0.051625,
     "end_time": "2020-11-10T00:06:08.353873",
     "exception": false,
     "start_time": "2020-11-10T00:06:08.302248",
     "status": "completed"
    },
    "tags": []
   },
   "outputs": [],
   "source": [
    "data = Data(X_train, y_train.reshape(-1,1))\n",
    "sampler = Sampler(data, config.bs, shuffle=True)\n",
    "\n",
    "dl = Dataloader(data, sampler)\n",
    "\n",
    "opt = GD(config.lr)\n",
    "loss = MSE()"
   ]
  },
  {
   "cell_type": "code",
   "execution_count": 17,
   "metadata": {
    "execution": {
     "iopub.execute_input": "2020-11-10T00:06:08.420589Z",
     "iopub.status.busy": "2020-11-10T00:06:08.419841Z",
     "iopub.status.idle": "2020-11-10T00:06:08.437396Z",
     "shell.execute_reply": "2020-11-10T00:06:08.436929Z"
    },
    "papermill": {
     "duration": 0.051631,
     "end_time": "2020-11-10T00:06:08.437534",
     "exception": false,
     "start_time": "2020-11-10T00:06:08.385903",
     "status": "completed"
    },
    "tags": []
   },
   "outputs": [],
   "source": [
    "training_xdata = X_train\n",
    "testing_xdata = X_test\n",
    "training_ydata = y_train.reshape(-1,1)\n",
    "testing_ydata = y_test.reshape(-1,1)"
   ]
  },
  {
   "cell_type": "markdown",
   "metadata": {
    "papermill": {
     "duration": 0.031057,
     "end_time": "2020-11-10T00:06:08.500354",
     "exception": false,
     "start_time": "2020-11-10T00:06:08.469297",
     "status": "completed"
    },
    "tags": []
   },
   "source": [
    "### Running Models with the Training data\n",
    "Details about the network layers:\n",
    "- A first affine layer has 784 inputs and does 100 affine transforms. These are followed by a Relu\n",
    "- A second affine layer has 100 inputs from the 100 activations of the past layer, and does 100 affine transforms. These are followed by a Relu\n",
    "- A third affine layer has 100 activations and does 2 affine transformations to create an embedding for visualization. There is no non-linearity here.\n",
    "- A final \"logistic regression\" which has an affine transform from 2 inputs to 1 output, which is squeezed through a sigmoid.\n",
    "\n",
    "Help taken from Anshuman's Notebook."
   ]
  },
  {
   "cell_type": "code",
   "execution_count": 18,
   "metadata": {
    "execution": {
     "iopub.execute_input": "2020-11-10T00:06:08.566250Z",
     "iopub.status.busy": "2020-11-10T00:06:08.565664Z",
     "iopub.status.idle": "2020-11-10T00:06:08.581026Z",
     "shell.execute_reply": "2020-11-10T00:06:08.581708Z"
    },
    "papermill": {
     "duration": 0.052334,
     "end_time": "2020-11-10T00:06:08.581857",
     "exception": false,
     "start_time": "2020-11-10T00:06:08.529523",
     "status": "completed"
    },
    "tags": []
   },
   "outputs": [],
   "source": [
    "# layers for the Neural Network\n",
    "layers = [Affine(\"first\", 784, 100), Relu(\"first\"), Affine(\"second\", 100, 100), Relu(\"second\"), Affine(\"third\", 100, 2), Affine(\"final\", 2, 1), Sigmoid(\"final\")]\n",
    "model_nn = Model(layers)\n",
    "\n",
    "# layers for the Logistic Regression\n",
    "layers_lr = [Affine(\"logits\", 784, 1), Sigmoid(\"sigmoid\")]\n",
    "model_lr = Model(layers_lr)"
   ]
  },
  {
   "cell_type": "code",
   "execution_count": 19,
   "metadata": {
    "execution": {
     "iopub.execute_input": "2020-11-10T00:06:08.646539Z",
     "iopub.status.busy": "2020-11-10T00:06:08.645918Z",
     "iopub.status.idle": "2020-11-10T00:06:08.659552Z",
     "shell.execute_reply": "2020-11-10T00:06:08.660100Z"
    },
    "papermill": {
     "duration": 0.047992,
     "end_time": "2020-11-10T00:06:08.660310",
     "exception": false,
     "start_time": "2020-11-10T00:06:08.612318",
     "status": "completed"
    },
    "tags": []
   },
   "outputs": [],
   "source": [
    "# suffix _nn stands for Neural Network.\n",
    "learner_nn = Learner(loss, model_nn, opt, config.num_epochs)\n",
    "acc_nn = ClfCallback(learner_nn, config.bs, training_xdata , testing_xdata, training_ydata, testing_ydata)\n",
    "learner_nn.set_callbacks([acc_nn])"
   ]
  },
  {
   "cell_type": "code",
   "execution_count": 20,
   "metadata": {
    "execution": {
     "iopub.execute_input": "2020-11-10T00:06:08.723780Z",
     "iopub.status.busy": "2020-11-10T00:06:08.723204Z",
     "iopub.status.idle": "2020-11-10T00:08:21.344924Z",
     "shell.execute_reply": "2020-11-10T00:08:21.345750Z"
    },
    "papermill": {
     "duration": 132.655769,
     "end_time": "2020-11-10T00:08:21.345988",
     "exception": false,
     "start_time": "2020-11-10T00:06:08.690219",
     "status": "completed"
    },
    "tags": []
   },
   "outputs": [
    {
     "name": "stdout",
     "output_type": "stream",
     "text": [
      "====== Neural Network ======\n"
     ]
    },
    {
     "name": "stdout",
     "output_type": "stream",
     "text": [
      "Epoch 0, Loss 0.2448\n",
      "Training Accuracy: 0.6415, Testing Accuracy: 0.6391\n",
      "\n"
     ]
    },
    {
     "name": "stdout",
     "output_type": "stream",
     "text": [
      "Epoch 10, Loss 0.0906\n",
      "Training Accuracy: 0.9086, Testing Accuracy: 0.9199\n",
      "\n"
     ]
    },
    {
     "name": "stdout",
     "output_type": "stream",
     "text": [
      "Epoch 20, Loss 0.0551\n",
      "Training Accuracy: 0.9412, Testing Accuracy: 0.9521\n",
      "\n"
     ]
    },
    {
     "name": "stdout",
     "output_type": "stream",
     "text": [
      "Epoch 30, Loss 0.0427\n",
      "Training Accuracy: 0.9526, Testing Accuracy: 0.9617\n",
      "\n"
     ]
    },
    {
     "name": "stdout",
     "output_type": "stream",
     "text": [
      "Epoch 40, Loss 0.0366\n",
      "Training Accuracy: 0.9595, Testing Accuracy: 0.9693\n",
      "\n"
     ]
    },
    {
     "name": "stdout",
     "output_type": "stream",
     "text": [
      "Epoch 50, Loss 0.0329\n",
      "Training Accuracy: 0.9626, Testing Accuracy: 0.9733\n",
      "\n"
     ]
    },
    {
     "name": "stdout",
     "output_type": "stream",
     "text": [
      "Epoch 60, Loss 0.0304\n",
      "Training Accuracy: 0.9651, Testing Accuracy: 0.9743\n",
      "\n"
     ]
    },
    {
     "name": "stdout",
     "output_type": "stream",
     "text": [
      "Epoch 70, Loss 0.0284\n",
      "Training Accuracy: 0.9669, Testing Accuracy: 0.9763\n",
      "\n"
     ]
    },
    {
     "name": "stdout",
     "output_type": "stream",
     "text": [
      "Epoch 80, Loss 0.0269\n",
      "Training Accuracy: 0.9685, Testing Accuracy: 0.9773\n",
      "\n"
     ]
    },
    {
     "name": "stdout",
     "output_type": "stream",
     "text": [
      "Epoch 90, Loss 0.0257\n",
      "Training Accuracy: 0.9700, Testing Accuracy: 0.9763\n",
      "\n"
     ]
    },
    {
     "name": "stdout",
     "output_type": "stream",
     "text": [
      "Epoch 100, Loss 0.0246\n",
      "Training Accuracy: 0.9711, Testing Accuracy: 0.9763\n",
      "\n"
     ]
    },
    {
     "name": "stdout",
     "output_type": "stream",
     "text": [
      "Epoch 110, Loss 0.0237\n",
      "Training Accuracy: 0.9721, Testing Accuracy: 0.9763\n",
      "\n"
     ]
    },
    {
     "name": "stdout",
     "output_type": "stream",
     "text": [
      "Epoch 120, Loss 0.0228\n",
      "Training Accuracy: 0.9733, Testing Accuracy: 0.9768\n",
      "\n"
     ]
    },
    {
     "name": "stdout",
     "output_type": "stream",
     "text": [
      "Epoch 130, Loss 0.0221\n",
      "Training Accuracy: 0.9744, Testing Accuracy: 0.9763\n",
      "\n"
     ]
    },
    {
     "name": "stdout",
     "output_type": "stream",
     "text": [
      "Epoch 140, Loss 0.0214\n",
      "Training Accuracy: 0.9753, Testing Accuracy: 0.9773\n",
      "\n"
     ]
    },
    {
     "name": "stdout",
     "output_type": "stream",
     "text": [
      "Epoch 150, Loss 0.0207\n",
      "Training Accuracy: 0.9760, Testing Accuracy: 0.9768\n",
      "\n"
     ]
    },
    {
     "name": "stdout",
     "output_type": "stream",
     "text": [
      "Epoch 160, Loss 0.0202\n",
      "Training Accuracy: 0.9775, Testing Accuracy: 0.9778\n",
      "\n"
     ]
    },
    {
     "name": "stdout",
     "output_type": "stream",
     "text": [
      "Epoch 170, Loss 0.0196\n",
      "Training Accuracy: 0.9782, Testing Accuracy: 0.9773\n",
      "\n"
     ]
    },
    {
     "name": "stdout",
     "output_type": "stream",
     "text": [
      "Epoch 180, Loss 0.0191\n",
      "Training Accuracy: 0.9787, Testing Accuracy: 0.9773\n",
      "\n"
     ]
    },
    {
     "name": "stdout",
     "output_type": "stream",
     "text": [
      "Epoch 190, Loss 0.0186\n",
      "Training Accuracy: 0.9795, Testing Accuracy: 0.9783\n",
      "\n"
     ]
    },
    {
     "name": "stdout",
     "output_type": "stream",
     "text": [
      "Epoch 200, Loss 0.0181\n",
      "Training Accuracy: 0.9801, Testing Accuracy: 0.9783\n",
      "\n"
     ]
    },
    {
     "name": "stdout",
     "output_type": "stream",
     "text": [
      "Epoch 210, Loss 0.0176\n",
      "Training Accuracy: 0.9807, Testing Accuracy: 0.9793\n",
      "\n"
     ]
    },
    {
     "name": "stdout",
     "output_type": "stream",
     "text": [
      "Epoch 220, Loss 0.0172\n",
      "Training Accuracy: 0.9813, Testing Accuracy: 0.9798\n",
      "\n"
     ]
    },
    {
     "name": "stdout",
     "output_type": "stream",
     "text": [
      "Epoch 230, Loss 0.0167\n",
      "Training Accuracy: 0.9817, Testing Accuracy: 0.9793\n",
      "\n"
     ]
    },
    {
     "name": "stdout",
     "output_type": "stream",
     "text": [
      "Epoch 240, Loss 0.0163\n",
      "Training Accuracy: 0.9821, Testing Accuracy: 0.9793\n",
      "\n"
     ]
    },
    {
     "name": "stdout",
     "output_type": "stream",
     "text": [
      "Epoch 250, Loss 0.0159\n",
      "Training Accuracy: 0.9830, Testing Accuracy: 0.9798\n",
      "\n"
     ]
    },
    {
     "data": {
      "text/plain": [
       "0.021175857384577463"
      ]
     },
     "execution_count": 20,
     "metadata": {},
     "output_type": "execute_result"
    }
   ],
   "source": [
    "print(\"====== Neural Network ======\")\n",
    "learner_nn.train_loop(dl)"
   ]
  },
  {
   "cell_type": "markdown",
   "metadata": {
    "papermill": {
     "duration": 0.036138,
     "end_time": "2020-11-10T00:08:21.420413",
     "exception": false,
     "start_time": "2020-11-10T00:08:21.384275",
     "status": "completed"
    },
    "tags": []
   },
   "source": [
    "### Logistic Regression based Implementation."
   ]
  },
  {
   "cell_type": "code",
   "execution_count": 21,
   "metadata": {
    "execution": {
     "iopub.execute_input": "2020-11-10T00:08:21.504078Z",
     "iopub.status.busy": "2020-11-10T00:08:21.503217Z",
     "iopub.status.idle": "2020-11-10T00:08:21.514619Z",
     "shell.execute_reply": "2020-11-10T00:08:21.515147Z"
    },
    "papermill": {
     "duration": 0.057801,
     "end_time": "2020-11-10T00:08:21.515362",
     "exception": false,
     "start_time": "2020-11-10T00:08:21.457561",
     "status": "completed"
    },
    "tags": []
   },
   "outputs": [],
   "source": [
    "learner_lr = Learner(loss, model_lr, opt, config.num_epochs)\n",
    "acc_lr = ClfCallback(learner_lr, config.bs, training_xdata , testing_xdata, training_ydata, testing_ydata)\n",
    "learner_lr.set_callbacks([acc_lr])"
   ]
  },
  {
   "cell_type": "code",
   "execution_count": 22,
   "metadata": {
    "execution": {
     "iopub.execute_input": "2020-11-10T00:08:21.597118Z",
     "iopub.status.busy": "2020-11-10T00:08:21.596240Z",
     "iopub.status.idle": "2020-11-10T00:08:40.627504Z",
     "shell.execute_reply": "2020-11-10T00:08:40.628159Z"
    },
    "papermill": {
     "duration": 19.076336,
     "end_time": "2020-11-10T00:08:40.628334",
     "exception": false,
     "start_time": "2020-11-10T00:08:21.551998",
     "status": "completed"
    },
    "tags": []
   },
   "outputs": [
    {
     "name": "stdout",
     "output_type": "stream",
     "text": [
      "====== Logistic Regression ======\n",
      "Epoch 0, Loss 0.2334\n",
      "Training Accuracy: 0.7113, Testing Accuracy: 0.7263\n",
      "\n"
     ]
    },
    {
     "name": "stdout",
     "output_type": "stream",
     "text": [
      "Epoch 10, Loss 0.1043\n",
      "Training Accuracy: 0.9033, Testing Accuracy: 0.9224\n",
      "\n"
     ]
    },
    {
     "name": "stdout",
     "output_type": "stream",
     "text": [
      "Epoch 20, Loss 0.0806\n",
      "Training Accuracy: 0.9231, Testing Accuracy: 0.9405\n",
      "\n"
     ]
    },
    {
     "name": "stdout",
     "output_type": "stream",
     "text": [
      "Epoch 30, Loss 0.0694\n",
      "Training Accuracy: 0.9340, Testing Accuracy: 0.9486\n",
      "\n"
     ]
    },
    {
     "name": "stdout",
     "output_type": "stream",
     "text": [
      "Epoch 40, Loss 0.0627\n",
      "Training Accuracy: 0.9390, Testing Accuracy: 0.9526\n",
      "\n"
     ]
    },
    {
     "name": "stdout",
     "output_type": "stream",
     "text": [
      "Epoch 50, Loss 0.058\n",
      "Training Accuracy: 0.9426, Testing Accuracy: 0.9536\n",
      "\n"
     ]
    },
    {
     "name": "stdout",
     "output_type": "stream",
     "text": [
      "Epoch 60, Loss 0.0546\n",
      "Training Accuracy: 0.9456, Testing Accuracy: 0.9567\n",
      "\n"
     ]
    },
    {
     "name": "stdout",
     "output_type": "stream",
     "text": [
      "Epoch 70, Loss 0.052\n",
      "Training Accuracy: 0.9484, Testing Accuracy: 0.9572\n",
      "\n"
     ]
    },
    {
     "name": "stdout",
     "output_type": "stream",
     "text": [
      "Epoch 80, Loss 0.0499\n",
      "Training Accuracy: 0.9499, Testing Accuracy: 0.9582\n",
      "\n"
     ]
    },
    {
     "name": "stdout",
     "output_type": "stream",
     "text": [
      "Epoch 90, Loss 0.0482\n",
      "Training Accuracy: 0.9519, Testing Accuracy: 0.9577\n",
      "\n"
     ]
    },
    {
     "name": "stdout",
     "output_type": "stream",
     "text": [
      "Epoch 100, Loss 0.0467\n",
      "Training Accuracy: 0.9530, Testing Accuracy: 0.9587\n",
      "\n"
     ]
    },
    {
     "name": "stdout",
     "output_type": "stream",
     "text": [
      "Epoch 110, Loss 0.0454\n",
      "Training Accuracy: 0.9538, Testing Accuracy: 0.9587\n",
      "\n"
     ]
    },
    {
     "name": "stdout",
     "output_type": "stream",
     "text": [
      "Epoch 120, Loss 0.0444\n",
      "Training Accuracy: 0.9549, Testing Accuracy: 0.9607\n",
      "\n"
     ]
    },
    {
     "name": "stdout",
     "output_type": "stream",
     "text": [
      "Epoch 130, Loss 0.0434\n",
      "Training Accuracy: 0.9551, Testing Accuracy: 0.9612\n",
      "\n"
     ]
    },
    {
     "name": "stdout",
     "output_type": "stream",
     "text": [
      "Epoch 140, Loss 0.0425\n",
      "Training Accuracy: 0.9559, Testing Accuracy: 0.9622\n",
      "\n"
     ]
    },
    {
     "name": "stdout",
     "output_type": "stream",
     "text": [
      "Epoch 150, Loss 0.0418\n",
      "Training Accuracy: 0.9559, Testing Accuracy: 0.9622\n",
      "\n"
     ]
    },
    {
     "name": "stdout",
     "output_type": "stream",
     "text": [
      "Epoch 160, Loss 0.0411\n",
      "Training Accuracy: 0.9566, Testing Accuracy: 0.9622\n",
      "\n"
     ]
    },
    {
     "name": "stdout",
     "output_type": "stream",
     "text": [
      "Epoch 170, Loss 0.0405\n",
      "Training Accuracy: 0.9571, Testing Accuracy: 0.9622\n",
      "\n"
     ]
    },
    {
     "name": "stdout",
     "output_type": "stream",
     "text": [
      "Epoch 180, Loss 0.0399\n",
      "Training Accuracy: 0.9575, Testing Accuracy: 0.9627\n",
      "\n"
     ]
    },
    {
     "name": "stdout",
     "output_type": "stream",
     "text": [
      "Epoch 190, Loss 0.0394\n",
      "Training Accuracy: 0.9580, Testing Accuracy: 0.9632\n",
      "\n"
     ]
    },
    {
     "name": "stdout",
     "output_type": "stream",
     "text": [
      "Epoch 200, Loss 0.0389\n",
      "Training Accuracy: 0.9584, Testing Accuracy: 0.9642\n",
      "\n"
     ]
    },
    {
     "name": "stdout",
     "output_type": "stream",
     "text": [
      "Epoch 210, Loss 0.0384\n",
      "Training Accuracy: 0.9590, Testing Accuracy: 0.9642\n",
      "\n"
     ]
    },
    {
     "name": "stdout",
     "output_type": "stream",
     "text": [
      "Epoch 220, Loss 0.038\n",
      "Training Accuracy: 0.9593, Testing Accuracy: 0.9647\n",
      "\n"
     ]
    },
    {
     "name": "stdout",
     "output_type": "stream",
     "text": [
      "Epoch 230, Loss 0.0376\n",
      "Training Accuracy: 0.9595, Testing Accuracy: 0.9647\n",
      "\n"
     ]
    },
    {
     "name": "stdout",
     "output_type": "stream",
     "text": [
      "Epoch 240, Loss 0.0372\n",
      "Training Accuracy: 0.9597, Testing Accuracy: 0.9657\n",
      "\n"
     ]
    },
    {
     "name": "stdout",
     "output_type": "stream",
     "text": [
      "Epoch 250, Loss 0.0369\n",
      "Training Accuracy: 0.9601, Testing Accuracy: 0.9662\n",
      "\n"
     ]
    },
    {
     "data": {
      "text/plain": [
       "0.011247609814229188"
      ]
     },
     "execution_count": 22,
     "metadata": {},
     "output_type": "execute_result"
    }
   ],
   "source": [
    "print(\"====== Logistic Regression ======\")\n",
    "learner_lr.train_loop(dl)"
   ]
  },
  {
   "cell_type": "markdown",
   "metadata": {
    "papermill": {
     "duration": 0.047993,
     "end_time": "2020-11-10T00:08:40.722502",
     "exception": false,
     "start_time": "2020-11-10T00:08:40.674509",
     "status": "completed"
    },
    "tags": []
   },
   "source": [
    "### Comparing results of NN and LR"
   ]
  },
  {
   "cell_type": "code",
   "execution_count": 23,
   "metadata": {
    "execution": {
     "iopub.execute_input": "2020-11-10T00:08:40.821527Z",
     "iopub.status.busy": "2020-11-10T00:08:40.820910Z",
     "iopub.status.idle": "2020-11-10T00:08:41.089162Z",
     "shell.execute_reply": "2020-11-10T00:08:41.089653Z"
    },
    "papermill": {
     "duration": 0.318733,
     "end_time": "2020-11-10T00:08:41.089812",
     "exception": false,
     "start_time": "2020-11-10T00:08:40.771079",
     "status": "completed"
    },
    "tags": []
   },
   "outputs": [
    {
     "data": {
      "text/plain": [
       "<matplotlib.legend.Legend at 0x7fd668dea160>"
      ]
     },
     "execution_count": 23,
     "metadata": {},
     "output_type": "execute_result"
    },
    {
     "data": {
      "image/png": "[encoded data removed]",
      "text/plain": [
       "<Figure size 1080x720 with 1 Axes>"
      ]
     },
     "metadata": {
      "needs_background": "light"
     },
     "output_type": "display_data"
    }
   ],
   "source": [
    "plt.figure(figsize=(15,10))\n",
    "\n",
    "# Neural Network plots\n",
    "plt.plot(acc_nn.accuracies, 'r-', label = \"Training Accuracies - NN\")\n",
    "plt.plot(acc_nn.test_accuracies, 'g-', label = \"Testing Accuracies - NN\")\n",
    "\n",
    "# Logistic Regression plots\n",
    "plt.plot(acc_lr.accuracies, 'k-', label = \"Training Accuracies - LR\")\n",
    "plt.plot(acc_lr.test_accuracies, 'b-', label = \"Testing Accuracies - LR\")\n",
    "\n",
    "plt.ylim(0.8, 1)\n",
    "\n",
    "plt.legend()\n",
    "\n"
   ]
  },
  {
   "cell_type": "markdown",
   "metadata": {
    "papermill": {
     "duration": 0.049066,
     "end_time": "2020-11-10T00:08:41.186742",
     "exception": false,
     "start_time": "2020-11-10T00:08:41.137676",
     "status": "completed"
    },
    "tags": []
   },
   "source": [
    "### From the plot, we can observe the following:\n",
    "- Neural Network achieves higher accuracy than the Logistic Regression model.\n",
    "- This apparently, is because of overfitting, i.e. NN captures more noise than data.\n",
    "- Testing accuracy of NN drops below the Training accuracy at higher epochs. This explains the over-fitting on training data.\n",
    "- Logistic Regression gives a reliable accuracy, without the above mentioned problem.\n"
   ]
  },
  {
   "cell_type": "markdown",
   "metadata": {
    "papermill": {
     "duration": 0.049267,
     "end_time": "2020-11-10T00:08:41.284348",
     "exception": false,
     "start_time": "2020-11-10T00:08:41.235081",
     "status": "completed"
    },
    "tags": []
   },
   "source": [
    "### Moving till the last but one layer (excluding it).\n",
    "#### Plotting the outputs of this layer of the NN."
   ]
  },
  {
   "cell_type": "code",
   "execution_count": 24,
   "metadata": {
    "execution": {
     "iopub.execute_input": "2020-11-10T00:08:41.385860Z",
     "iopub.status.busy": "2020-11-10T00:08:41.385252Z",
     "iopub.status.idle": "2020-11-10T00:08:41.398462Z",
     "shell.execute_reply": "2020-11-10T00:08:41.398926Z"
    },
    "papermill": {
     "duration": 0.066749,
     "end_time": "2020-11-10T00:08:41.399090",
     "exception": false,
     "start_time": "2020-11-10T00:08:41.332341",
     "status": "completed"
    },
    "tags": []
   },
   "outputs": [],
   "source": [
    "model_new = Model(layers[:-2])"
   ]
  },
  {
   "cell_type": "code",
   "execution_count": 25,
   "metadata": {
    "execution": {
     "iopub.execute_input": "2020-11-10T00:08:41.495032Z",
     "iopub.status.busy": "2020-11-10T00:08:41.494432Z",
     "iopub.status.idle": "2020-11-10T00:08:41.521133Z",
     "shell.execute_reply": "2020-11-10T00:08:41.521873Z"
    },
    "papermill": {
     "duration": 0.078248,
     "end_time": "2020-11-10T00:08:41.522132",
     "exception": false,
     "start_time": "2020-11-10T00:08:41.443884",
     "status": "completed"
    },
    "tags": []
   },
   "outputs": [],
   "source": [
    "plot_testing = model_new(testing_xdata)"
   ]
  },
  {
   "cell_type": "code",
   "execution_count": 26,
   "metadata": {
    "execution": {
     "iopub.execute_input": "2020-11-10T00:08:41.615704Z",
     "iopub.status.busy": "2020-11-10T00:08:41.615198Z",
     "iopub.status.idle": "2020-11-10T00:08:41.821621Z",
     "shell.execute_reply": "2020-11-10T00:08:41.822258Z"
    },
    "papermill": {
     "duration": 0.25507,
     "end_time": "2020-11-10T00:08:41.822446",
     "exception": false,
     "start_time": "2020-11-10T00:08:41.567376",
     "status": "completed"
    },
    "tags": []
   },
   "outputs": [
    {
     "data": {
      "text/plain": [
       "Text(0.5, 1.0, 'Outputs')"
      ]
     },
     "execution_count": 26,
     "metadata": {},
     "output_type": "execute_result"
    },
    {
     "data": {
      "image/png": "[encoded data removed]",
      "text/plain": [
       "<Figure size 576x504 with 1 Axes>"
      ]
     },
     "metadata": {
      "needs_background": "light"
     },
     "output_type": "display_data"
    }
   ],
   "source": [
    "plt.figure(figsize=(8,7))\n",
    "plt.scatter(plot_testing[:,0], plot_testing[:,1], alpha = 0.1, c = y_test.ravel());\n",
    "plt.title('Outputs')"
   ]
  },
  {
   "cell_type": "markdown",
   "metadata": {
    "papermill": {
     "duration": 0.046501,
     "end_time": "2020-11-10T00:08:41.916940",
     "exception": false,
     "start_time": "2020-11-10T00:08:41.870439",
     "status": "completed"
    },
    "tags": []
   },
   "source": [
    "### Plotting probability contours"
   ]
  },
  {
   "cell_type": "code",
   "execution_count": 27,
   "metadata": {
    "execution": {
     "iopub.execute_input": "2020-11-10T00:08:42.024154Z",
     "iopub.status.busy": "2020-11-10T00:08:42.023638Z",
     "iopub.status.idle": "2020-11-10T00:08:42.030801Z",
     "shell.execute_reply": "2020-11-10T00:08:42.030326Z"
    },
    "papermill": {
     "duration": 0.06776,
     "end_time": "2020-11-10T00:08:42.031005",
     "exception": false,
     "start_time": "2020-11-10T00:08:41.963245",
     "status": "completed"
    },
    "tags": []
   },
   "outputs": [],
   "source": [
    "model_prob = Model(layers[-2:]) "
   ]
  },
  {
   "cell_type": "code",
   "execution_count": 28,
   "metadata": {
    "execution": {
     "iopub.execute_input": "2020-11-10T00:08:42.134370Z",
     "iopub.status.busy": "2020-11-10T00:08:42.133820Z",
     "iopub.status.idle": "2020-11-10T00:08:42.149315Z",
     "shell.execute_reply": "2020-11-10T00:08:42.150044Z"
    },
    "papermill": {
     "duration": 0.068807,
     "end_time": "2020-11-10T00:08:42.150256",
     "exception": false,
     "start_time": "2020-11-10T00:08:42.081449",
     "status": "completed"
    },
    "tags": []
   },
   "outputs": [],
   "source": [
    "# Adjust the x and y ranges according to the above generated plot.\n",
    "x_range = np.linspace(-4, 1, 100) \n",
    "y_range = np.linspace(-6, 6, 100) \n",
    "x_grid, y_grid = np.meshgrid(x_range, y_range) # x_grid and y_grig are of size 100 X 100\n",
    "\n",
    "# converting x_grid and y_grid to continuous arrays\n",
    "x_grid_flat = np.ravel(x_grid)\n",
    "y_grid_flat = np.ravel(y_grid)\n",
    "\n",
    "# The last layer of the current model takes two columns as input. Hence transpose of np.vstack() is required.\n",
    "X = np.vstack((x_grid_flat, y_grid_flat)).T\n",
    "\n",
    "# x_grid and y_grid are of size 100 x 100\n",
    "probability_contour = model_prob(X).reshape(100,100) "
   ]
  },
  {
   "cell_type": "code",
   "execution_count": 29,
   "metadata": {
    "execution": {
     "iopub.execute_input": "2020-11-10T00:08:42.255265Z",
     "iopub.status.busy": "2020-11-10T00:08:42.254732Z",
     "iopub.status.idle": "2020-11-10T00:08:42.533754Z",
     "shell.execute_reply": "2020-11-10T00:08:42.534244Z"
    },
    "papermill": {
     "duration": 0.337365,
     "end_time": "2020-11-10T00:08:42.534416",
     "exception": false,
     "start_time": "2020-11-10T00:08:42.197051",
     "status": "completed"
    },
    "tags": []
   },
   "outputs": [
    {
     "data": {
      "image/png": "[encoded data removed]",
      "text/plain": [
       "<Figure size 720x648 with 1 Axes>"
      ]
     },
     "metadata": {
      "needs_background": "light"
     },
     "output_type": "display_data"
    }
   ],
   "source": [
    "plt.figure(figsize=(10,9))\n",
    "plt.scatter(plot_testing[:,0], plot_testing[:,1], alpha = 0.1, c = y_test.ravel())\n",
    "contours = plt.contour(x_grid,y_grid,probability_contour)\n",
    "plt.title('Probability Contours')\n",
    "plt.clabel(contours, inline = True );"
   ]
  }
 ],
 "metadata": {
  "kernelspec": {
   "display_name": "Python 3",
   "language": "python",
   "name": "python3"
  },
  "language_info": {
   "codemirror_mode": {
    "name": "ipython",
    "version": 3
   },
   "file_extension": ".py",
   "mimetype": "text/x-python",
   "name": "python",
   "nbconvert_exporter": "python",
   "pygments_lexer": "ipython3",
   "version": "3.6.12"
  },
  "papermill": {
   "duration": 161.039958,
   "end_time": "2020-11-10T00:08:42.917516",
   "environment_variables": {},
   "exception": null,
   "input_path": "2020-08-11-NeuralNetwork.ipynb",
   "output_path": "2020-08-11-NeuralNetwork.ipynb",
   "parameters": {},
   "start_time": "2020-11-10T00:06:01.877558",
   "version": "2.1.2"
  }
 },
 "nbformat": 4,
 "nbformat_minor": 4
}