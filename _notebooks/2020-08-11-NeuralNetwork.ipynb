{
 "cells": [
  {
   "cell_type": "markdown",
   "id": "fitted-suggestion",
   "metadata": {
    "papermill": {
     "duration": 0.031347,
     "end_time": "2021-02-08T00:06:26.365824",
     "exception": false,
     "start_time": "2021-02-08T00:06:26.334477",
     "status": "completed"
    },
    "tags": []
   },
   "source": [
    "# \"A Basic Neural Network: Differentiate Hand-Written Digits\"\n",
    "\n",
    "- badges: true\n",
    "- author: Akshith Sriram"
   ]
  },
  {
   "cell_type": "markdown",
   "id": "signal-flexibility",
   "metadata": {
    "papermill": {
     "duration": 0.028717,
     "end_time": "2021-02-08T00:06:26.422067",
     "exception": false,
     "start_time": "2021-02-08T00:06:26.393350",
     "status": "completed"
    },
    "tags": []
   },
   "source": [
    "### Key Objectives:\n",
    "- Building a neural network that differentiates two hand-written digits 3 and 8.\n",
    "- Comparing the results of this Neural Network (NN) to that of a Logistic Regression (LR) model.\n",
    "\n",
    "### Requirements:\n",
    "- 'Kudzu' : A neural network library that was designed during our course by [Univ.AI](www.univ.ai). \n",
    "- MNIST Database\n",
    "\n",
    "If MNIST is not installed, use the command `!pip install mnist` given below.\n",
    "It can be run both from the command line and Jupyter Notebook."
   ]
  },
  {
   "cell_type": "code",
   "execution_count": 1,
   "id": "british-texture",
   "metadata": {
    "execution": {
     "iopub.execute_input": "2021-02-08T00:06:26.488153Z",
     "iopub.status.busy": "2021-02-08T00:06:26.487580Z",
     "iopub.status.idle": "2021-02-08T00:06:28.213748Z",
     "shell.execute_reply": "2021-02-08T00:06:28.213095Z"
    },
    "papermill": {
     "duration": 1.763935,
     "end_time": "2021-02-08T00:06:28.213913",
     "exception": false,
     "start_time": "2021-02-08T00:06:26.449978",
     "status": "completed"
    },
    "tags": []
   },
   "outputs": [
    {
     "name": "stdout",
     "output_type": "stream",
     "text": [
      "Collecting mnist\r\n"
     ]
    },
    {
     "name": "stdout",
     "output_type": "stream",
     "text": [
      "  Downloading mnist-0.2.2-py2.py3-none-any.whl (3.5 kB)\r\n"
     ]
    },
    {
     "name": "stdout",
     "output_type": "stream",
     "text": [
      "Requirement already satisfied: numpy in /opt/hostedtoolcache/Python/3.6.12/x64/lib/python3.6/site-packages (from mnist) (1.19.5)\r\n"
     ]
    },
    {
     "name": "stdout",
     "output_type": "stream",
     "text": [
      "Installing collected packages: mnist\r\n"
     ]
    },
    {
     "name": "stdout",
     "output_type": "stream",
     "text": [
      "Successfully installed mnist-0.2.2\r\n"
     ]
    }
   ],
   "source": [
    "!pip install mnist "
   ]
  },
  {
   "cell_type": "markdown",
   "id": "stunning-extra",
   "metadata": {
    "papermill": {
     "duration": 0.029689,
     "end_time": "2021-02-08T00:06:28.274311",
     "exception": false,
     "start_time": "2021-02-08T00:06:28.244622",
     "status": "completed"
    },
    "tags": []
   },
   "source": [
    "#### Importing necessary libraries"
   ]
  },
  {
   "cell_type": "code",
   "execution_count": 2,
   "id": "wooden-france",
   "metadata": {
    "execution": {
     "iopub.execute_input": "2021-02-08T00:06:28.340162Z",
     "iopub.status.busy": "2021-02-08T00:06:28.339505Z",
     "iopub.status.idle": "2021-02-08T00:06:28.920828Z",
     "shell.execute_reply": "2021-02-08T00:06:28.920240Z"
    },
    "papermill": {
     "duration": 0.617842,
     "end_time": "2021-02-08T00:06:28.920992",
     "exception": false,
     "start_time": "2021-02-08T00:06:28.303150",
     "status": "completed"
    },
    "tags": []
   },
   "outputs": [],
   "source": [
    "%load_ext autoreload\n",
    "%autoreload 2\n",
    "\n",
    "%matplotlib inline\n",
    "import matplotlib.pyplot as plt\n",
    "\n",
    "import numpy as np\n",
    "import pandas as pd"
   ]
  },
  {
   "cell_type": "markdown",
   "id": "stunning-physics",
   "metadata": {
    "papermill": {
     "duration": 0.03083,
     "end_time": "2021-02-08T00:06:28.985495",
     "exception": false,
     "start_time": "2021-02-08T00:06:28.954665",
     "status": "completed"
    },
    "tags": []
   },
   "source": [
    "### Preparing the Data"
   ]
  },
  {
   "cell_type": "code",
   "execution_count": 3,
   "id": "unauthorized-remainder",
   "metadata": {
    "execution": {
     "iopub.execute_input": "2021-02-08T00:06:29.055865Z",
     "iopub.status.busy": "2021-02-08T00:06:29.053923Z",
     "iopub.status.idle": "2021-02-08T00:06:29.068365Z",
     "shell.execute_reply": "2021-02-08T00:06:29.067682Z"
    },
    "papermill": {
     "duration": 0.051284,
     "end_time": "2021-02-08T00:06:29.068501",
     "exception": false,
     "start_time": "2021-02-08T00:06:29.017217",
     "status": "completed"
    },
    "tags": []
   },
   "outputs": [],
   "source": [
    "import mnist"
   ]
  },
  {
   "cell_type": "code",
   "execution_count": 4,
   "id": "correct-antarctica",
   "metadata": {
    "execution": {
     "iopub.execute_input": "2021-02-08T00:06:29.133428Z",
     "iopub.status.busy": "2021-02-08T00:06:29.132797Z",
     "iopub.status.idle": "2021-02-08T00:06:29.893122Z",
     "shell.execute_reply": "2021-02-08T00:06:29.892156Z"
    },
    "papermill": {
     "duration": 0.792295,
     "end_time": "2021-02-08T00:06:29.893262",
     "exception": false,
     "start_time": "2021-02-08T00:06:29.100967",
     "status": "completed"
    },
    "tags": []
   },
   "outputs": [],
   "source": [
    "train_images = mnist.train_images()\n",
    "train_labels = mnist.train_labels()"
   ]
  },
  {
   "cell_type": "code",
   "execution_count": 5,
   "id": "musical-prospect",
   "metadata": {
    "execution": {
     "iopub.execute_input": "2021-02-08T00:06:29.958949Z",
     "iopub.status.busy": "2021-02-08T00:06:29.958333Z",
     "iopub.status.idle": "2021-02-08T00:06:29.971226Z",
     "shell.execute_reply": "2021-02-08T00:06:29.971841Z"
    },
    "papermill": {
     "duration": 0.046201,
     "end_time": "2021-02-08T00:06:29.971989",
     "exception": false,
     "start_time": "2021-02-08T00:06:29.925788",
     "status": "completed"
    },
    "tags": []
   },
   "outputs": [
    {
     "data": {
      "text/plain": [
       "((60000, 28, 28), (60000,))"
      ]
     },
     "execution_count": 5,
     "metadata": {},
     "output_type": "execute_result"
    }
   ],
   "source": [
    "train_images.shape, train_labels.shape"
   ]
  },
  {
   "cell_type": "code",
   "execution_count": 6,
   "id": "preliminary-elizabeth",
   "metadata": {
    "execution": {
     "iopub.execute_input": "2021-02-08T00:06:30.039767Z",
     "iopub.status.busy": "2021-02-08T00:06:30.039099Z",
     "iopub.status.idle": "2021-02-08T00:06:30.335300Z",
     "shell.execute_reply": "2021-02-08T00:06:30.334727Z"
    },
    "papermill": {
     "duration": 0.330778,
     "end_time": "2021-02-08T00:06:30.335451",
     "exception": false,
     "start_time": "2021-02-08T00:06:30.004673",
     "status": "completed"
    },
    "tags": []
   },
   "outputs": [],
   "source": [
    "test_images = mnist.test_images()\n",
    "test_labels = mnist.test_labels()"
   ]
  },
  {
   "cell_type": "code",
   "execution_count": 7,
   "id": "acknowledged-oxygen",
   "metadata": {
    "execution": {
     "iopub.execute_input": "2021-02-08T00:06:30.414490Z",
     "iopub.status.busy": "2021-02-08T00:06:30.413615Z",
     "iopub.status.idle": "2021-02-08T00:06:30.421022Z",
     "shell.execute_reply": "2021-02-08T00:06:30.421582Z"
    },
    "papermill": {
     "duration": 0.055311,
     "end_time": "2021-02-08T00:06:30.421710",
     "exception": false,
     "start_time": "2021-02-08T00:06:30.366399",
     "status": "completed"
    },
    "tags": []
   },
   "outputs": [
    {
     "data": {
      "text/plain": [
       "((10000, 28, 28), (10000,))"
      ]
     },
     "execution_count": 7,
     "metadata": {},
     "output_type": "execute_result"
    }
   ],
   "source": [
    "test_images.shape, test_labels.shape"
   ]
  },
  {
   "cell_type": "code",
   "execution_count": 8,
   "id": "innovative-organic",
   "metadata": {
    "execution": {
     "iopub.execute_input": "2021-02-08T00:06:30.493732Z",
     "iopub.status.busy": "2021-02-08T00:06:30.487050Z",
     "iopub.status.idle": "2021-02-08T00:06:30.648070Z",
     "shell.execute_reply": "2021-02-08T00:06:30.647397Z"
    },
    "papermill": {
     "duration": 0.1963,
     "end_time": "2021-02-08T00:06:30.648204",
     "exception": false,
     "start_time": "2021-02-08T00:06:30.451904",
     "status": "completed"
    },
    "tags": []
   },
   "outputs": [
    {
     "name": "stdout",
     "output_type": "stream",
     "text": [
      "2\n"
     ]
    },
    {
     "data": {
      "text/plain": [
       "<matplotlib.image.AxesImage at 0x7f4b6ccfbf60>"
      ]
     },
     "execution_count": 8,
     "metadata": {},
     "output_type": "execute_result"
    },
    {
     "data": {
      "image/png": "[encoded data removed]",
      "text/plain": [
       "<Figure size 432x288 with 1 Axes>"
      ]
     },
     "metadata": {
      "needs_background": "light"
     },
     "output_type": "display_data"
    }
   ],
   "source": [
    "image_index = 7776 # You may select anything up to 60,000\n",
    "print(train_labels[image_index]) \n",
    "plt.imshow(train_images[image_index], cmap='Greys')"
   ]
  },
  {
   "cell_type": "markdown",
   "id": "facial-modem",
   "metadata": {
    "papermill": {
     "duration": 0.031589,
     "end_time": "2021-02-08T00:06:30.712662",
     "exception": false,
     "start_time": "2021-02-08T00:06:30.681073",
     "status": "completed"
    },
    "tags": []
   },
   "source": [
    "## Filter data to get 3 and 8 out"
   ]
  },
  {
   "cell_type": "code",
   "execution_count": 9,
   "id": "thousand-acquisition",
   "metadata": {
    "execution": {
     "iopub.execute_input": "2021-02-08T00:06:30.783536Z",
     "iopub.status.busy": "2021-02-08T00:06:30.782900Z",
     "iopub.status.idle": "2021-02-08T00:06:30.801768Z",
     "shell.execute_reply": "2021-02-08T00:06:30.801148Z"
    },
    "papermill": {
     "duration": 0.056413,
     "end_time": "2021-02-08T00:06:30.802000",
     "exception": false,
     "start_time": "2021-02-08T00:06:30.745587",
     "status": "completed"
    },
    "tags": []
   },
   "outputs": [],
   "source": [
    "train_filter = np.where((train_labels == 3 ) | (train_labels == 8))\n",
    "test_filter = np.where((test_labels == 3) | (test_labels == 8))\n",
    "X_train, y_train = train_images[train_filter], train_labels[train_filter]\n",
    "X_test, y_test = test_images[test_filter], test_labels[test_filter]"
   ]
  },
  {
   "cell_type": "markdown",
   "id": "ruled-access",
   "metadata": {
    "papermill": {
     "duration": 0.032461,
     "end_time": "2021-02-08T00:06:30.865994",
     "exception": false,
     "start_time": "2021-02-08T00:06:30.833533",
     "status": "completed"
    },
    "tags": []
   },
   "source": [
    "We normalize the pixel values in the 0 to 1 range"
   ]
  },
  {
   "cell_type": "code",
   "execution_count": 10,
   "id": "isolated-denver",
   "metadata": {
    "execution": {
     "iopub.execute_input": "2021-02-08T00:06:30.929300Z",
     "iopub.status.busy": "2021-02-08T00:06:30.928671Z",
     "iopub.status.idle": "2021-02-08T00:06:30.985600Z",
     "shell.execute_reply": "2021-02-08T00:06:30.985095Z"
    },
    "papermill": {
     "duration": 0.089374,
     "end_time": "2021-02-08T00:06:30.985739",
     "exception": false,
     "start_time": "2021-02-08T00:06:30.896365",
     "status": "completed"
    },
    "tags": []
   },
   "outputs": [],
   "source": [
    "X_train = X_train/255.\n",
    "X_test = X_test/255."
   ]
  },
  {
   "cell_type": "markdown",
   "id": "perfect-summary",
   "metadata": {
    "papermill": {
     "duration": 0.036267,
     "end_time": "2021-02-08T00:06:31.055138",
     "exception": false,
     "start_time": "2021-02-08T00:06:31.018871",
     "status": "completed"
    },
    "tags": []
   },
   "source": [
    "Setup the labels as 1 (when the digit is 3) and 0 (when the digit is 8)"
   ]
  },
  {
   "cell_type": "code",
   "execution_count": 11,
   "id": "personalized-growing",
   "metadata": {
    "execution": {
     "iopub.execute_input": "2021-02-08T00:06:31.133219Z",
     "iopub.status.busy": "2021-02-08T00:06:31.132561Z",
     "iopub.status.idle": "2021-02-08T00:06:31.142084Z",
     "shell.execute_reply": "2021-02-08T00:06:31.141587Z"
    },
    "papermill": {
     "duration": 0.050693,
     "end_time": "2021-02-08T00:06:31.142204",
     "exception": false,
     "start_time": "2021-02-08T00:06:31.091511",
     "status": "completed"
    },
    "tags": []
   },
   "outputs": [],
   "source": [
    "y_train = 1*(y_train==3)\n",
    "y_test = 1*(y_test==3)"
   ]
  },
  {
   "cell_type": "code",
   "execution_count": 12,
   "id": "considered-virgin",
   "metadata": {
    "execution": {
     "iopub.execute_input": "2021-02-08T00:06:31.209951Z",
     "iopub.status.busy": "2021-02-08T00:06:31.209356Z",
     "iopub.status.idle": "2021-02-08T00:06:31.217995Z",
     "shell.execute_reply": "2021-02-08T00:06:31.218542Z"
    },
    "papermill": {
     "duration": 0.046185,
     "end_time": "2021-02-08T00:06:31.218666",
     "exception": false,
     "start_time": "2021-02-08T00:06:31.172481",
     "status": "completed"
    },
    "tags": []
   },
   "outputs": [
    {
     "data": {
      "text/plain": [
       "((11982, 28, 28), (1984, 28, 28))"
      ]
     },
     "execution_count": 12,
     "metadata": {},
     "output_type": "execute_result"
    }
   ],
   "source": [
    "X_train.shape, X_test.shape"
   ]
  },
  {
   "cell_type": "markdown",
   "id": "civilian-mobile",
   "metadata": {
    "papermill": {
     "duration": 0.031215,
     "end_time": "2021-02-08T00:06:31.280338",
     "exception": false,
     "start_time": "2021-02-08T00:06:31.249123",
     "status": "completed"
    },
    "tags": []
   },
   "source": [
    "### Reshape the input data to create a linear array"
   ]
  },
  {
   "cell_type": "code",
   "execution_count": 13,
   "id": "colonial-adams",
   "metadata": {
    "execution": {
     "iopub.execute_input": "2021-02-08T00:06:31.367074Z",
     "iopub.status.busy": "2021-02-08T00:06:31.360676Z",
     "iopub.status.idle": "2021-02-08T00:06:31.370183Z",
     "shell.execute_reply": "2021-02-08T00:06:31.370853Z"
    },
    "papermill": {
     "duration": 0.056129,
     "end_time": "2021-02-08T00:06:31.371014",
     "exception": false,
     "start_time": "2021-02-08T00:06:31.314885",
     "status": "completed"
    },
    "tags": []
   },
   "outputs": [
    {
     "data": {
      "text/plain": [
       "((11982, 784), (1984, 784))"
      ]
     },
     "execution_count": 13,
     "metadata": {},
     "output_type": "execute_result"
    }
   ],
   "source": [
    "X_train = X_train.reshape(X_train.shape[0], -1)\n",
    "X_test = X_test.reshape(X_test.shape[0], -1)\n",
    "X_train.shape, X_test.shape"
   ]
  },
  {
   "cell_type": "markdown",
   "id": "smart-details",
   "metadata": {
    "papermill": {
     "duration": 0.035451,
     "end_time": "2021-02-08T00:06:31.441881",
     "exception": false,
     "start_time": "2021-02-08T00:06:31.406430",
     "status": "completed"
    },
    "tags": []
   },
   "source": [
    "### Importing appropriate functions from 'Kudzu'"
   ]
  },
  {
   "cell_type": "code",
   "execution_count": 14,
   "id": "celtic-trial",
   "metadata": {
    "execution": {
     "iopub.execute_input": "2021-02-08T00:06:31.529080Z",
     "iopub.status.busy": "2021-02-08T00:06:31.522099Z",
     "iopub.status.idle": "2021-02-08T00:06:31.540716Z",
     "shell.execute_reply": "2021-02-08T00:06:31.539311Z"
    },
    "papermill": {
     "duration": 0.064405,
     "end_time": "2021-02-08T00:06:31.540860",
     "exception": false,
     "start_time": "2021-02-08T00:06:31.476455",
     "status": "completed"
    },
    "tags": []
   },
   "outputs": [],
   "source": [
    "from kudzu.layer import Sigmoid\n",
    "from kudzu.layer import Relu\n",
    "from kudzu.layer import Affine, Sigmoid\n",
    "\n",
    "from kudzu.model import Model\n",
    "from kudzu.train import Learner\n",
    "from kudzu.optim import GD\n",
    "from kudzu.data import Data, Dataloader, Sampler\n",
    "\n",
    "from kudzu.callbacks import AccCallback\n",
    "from kudzu.callbacks import ClfCallback\n",
    "\n",
    "from kudzu.loss import MSE"
   ]
  },
  {
   "cell_type": "markdown",
   "id": "coupled-customer",
   "metadata": {
    "papermill": {
     "duration": 0.039483,
     "end_time": "2021-02-08T00:06:31.617300",
     "exception": false,
     "start_time": "2021-02-08T00:06:31.577817",
     "status": "completed"
    },
    "tags": []
   },
   "source": [
    "### Let us create a `Config` class, to store important parameters. \n",
    "This class essentially plays the role of a dictionary."
   ]
  },
  {
   "cell_type": "code",
   "execution_count": 15,
   "id": "young-ceiling",
   "metadata": {
    "execution": {
     "iopub.execute_input": "2021-02-08T00:06:31.690562Z",
     "iopub.status.busy": "2021-02-08T00:06:31.689907Z",
     "iopub.status.idle": "2021-02-08T00:06:31.702449Z",
     "shell.execute_reply": "2021-02-08T00:06:31.703062Z"
    },
    "papermill": {
     "duration": 0.049451,
     "end_time": "2021-02-08T00:06:31.703218",
     "exception": false,
     "start_time": "2021-02-08T00:06:31.653767",
     "status": "completed"
    },
    "tags": []
   },
   "outputs": [],
   "source": [
    "class Config:\n",
    "    pass\n",
    "config = Config()\n",
    "config.lr = 0.001\n",
    "config.num_epochs = 251\n",
    "config.bs = 50"
   ]
  },
  {
   "cell_type": "markdown",
   "id": "according-mandate",
   "metadata": {
    "papermill": {
     "duration": 0.035731,
     "end_time": "2021-02-08T00:06:31.774380",
     "exception": false,
     "start_time": "2021-02-08T00:06:31.738649",
     "status": "completed"
    },
    "tags": []
   },
   "source": [
    "### Initializing data to the variables"
   ]
  },
  {
   "cell_type": "code",
   "execution_count": 16,
   "id": "academic-disposition",
   "metadata": {
    "execution": {
     "iopub.execute_input": "2021-02-08T00:06:31.850205Z",
     "iopub.status.busy": "2021-02-08T00:06:31.849617Z",
     "iopub.status.idle": "2021-02-08T00:06:31.859036Z",
     "shell.execute_reply": "2021-02-08T00:06:31.859483Z"
    },
    "papermill": {
     "duration": 0.049876,
     "end_time": "2021-02-08T00:06:31.859624",
     "exception": false,
     "start_time": "2021-02-08T00:06:31.809748",
     "status": "completed"
    },
    "tags": []
   },
   "outputs": [],
   "source": [
    "data = Data(X_train, y_train.reshape(-1,1))\n",
    "sampler = Sampler(data, config.bs, shuffle=True)\n",
    "\n",
    "dl = Dataloader(data, sampler)\n",
    "\n",
    "opt = GD(config.lr)\n",
    "loss = MSE()"
   ]
  },
  {
   "cell_type": "code",
   "execution_count": 17,
   "id": "featured-commission",
   "metadata": {
    "execution": {
     "iopub.execute_input": "2021-02-08T00:06:31.928878Z",
     "iopub.status.busy": "2021-02-08T00:06:31.928273Z",
     "iopub.status.idle": "2021-02-08T00:06:31.938483Z",
     "shell.execute_reply": "2021-02-08T00:06:31.939031Z"
    },
    "papermill": {
     "duration": 0.046981,
     "end_time": "2021-02-08T00:06:31.939158",
     "exception": false,
     "start_time": "2021-02-08T00:06:31.892177",
     "status": "completed"
    },
    "tags": []
   },
   "outputs": [],
   "source": [
    "training_xdata = X_train\n",
    "testing_xdata = X_test\n",
    "training_ydata = y_train.reshape(-1,1)\n",
    "testing_ydata = y_test.reshape(-1,1)"
   ]
  },
  {
   "cell_type": "markdown",
   "id": "played-safety",
   "metadata": {
    "papermill": {
     "duration": 0.031514,
     "end_time": "2021-02-08T00:06:32.001695",
     "exception": false,
     "start_time": "2021-02-08T00:06:31.970181",
     "status": "completed"
    },
    "tags": []
   },
   "source": [
    "### Running Models with the Training data\n",
    "Details about the network layers:\n",
    "- A first affine layer has 784 inputs and does 100 affine transforms. These are followed by a Relu\n",
    "- A second affine layer has 100 inputs from the 100 activations of the past layer, and does 100 affine transforms. These are followed by a Relu\n",
    "- A third affine layer has 100 activations and does 2 affine transformations to create an embedding for visualization. There is no non-linearity here.\n",
    "- A final \"logistic regression\" which has an affine transform from 2 inputs to 1 output, which is squeezed through a sigmoid.\n",
    "\n",
    "Help taken from Anshuman's Notebook."
   ]
  },
  {
   "cell_type": "code",
   "execution_count": 18,
   "id": "asian-bankruptcy",
   "metadata": {
    "execution": {
     "iopub.execute_input": "2021-02-08T00:06:32.076266Z",
     "iopub.status.busy": "2021-02-08T00:06:32.075678Z",
     "iopub.status.idle": "2021-02-08T00:06:32.094551Z",
     "shell.execute_reply": "2021-02-08T00:06:32.094065Z"
    },
    "papermill": {
     "duration": 0.056011,
     "end_time": "2021-02-08T00:06:32.094674",
     "exception": false,
     "start_time": "2021-02-08T00:06:32.038663",
     "status": "completed"
    },
    "tags": []
   },
   "outputs": [],
   "source": [
    "# layers for the Neural Network\n",
    "layers = [Affine(\"first\", 784, 100), Relu(\"first\"), Affine(\"second\", 100, 100), Relu(\"second\"), Affine(\"third\", 100, 2), Affine(\"final\", 2, 1), Sigmoid(\"final\")]\n",
    "model_nn = Model(layers)\n",
    "\n",
    "# layers for the Logistic Regression\n",
    "layers_lr = [Affine(\"logits\", 784, 1), Sigmoid(\"sigmoid\")]\n",
    "model_lr = Model(layers_lr)"
   ]
  },
  {
   "cell_type": "code",
   "execution_count": 19,
   "id": "removed-butler",
   "metadata": {
    "execution": {
     "iopub.execute_input": "2021-02-08T00:06:32.173853Z",
     "iopub.status.busy": "2021-02-08T00:06:32.164847Z",
     "iopub.status.idle": "2021-02-08T00:06:32.176257Z",
     "shell.execute_reply": "2021-02-08T00:06:32.175761Z"
    },
    "papermill": {
     "duration": 0.049242,
     "end_time": "2021-02-08T00:06:32.176409",
     "exception": false,
     "start_time": "2021-02-08T00:06:32.127167",
     "status": "completed"
    },
    "tags": []
   },
   "outputs": [],
   "source": [
    "# suffix _nn stands for Neural Network.\n",
    "learner_nn = Learner(loss, model_nn, opt, config.num_epochs)\n",
    "acc_nn = ClfCallback(learner_nn, config.bs, training_xdata , testing_xdata, training_ydata, testing_ydata)\n",
    "learner_nn.set_callbacks([acc_nn])"
   ]
  },
  {
   "cell_type": "code",
   "execution_count": 20,
   "id": "conceptual-throw",
   "metadata": {
    "execution": {
     "iopub.execute_input": "2021-02-08T00:06:32.291116Z",
     "iopub.status.busy": "2021-02-08T00:06:32.290500Z",
     "iopub.status.idle": "2021-02-08T00:08:34.485308Z",
     "shell.execute_reply": "2021-02-08T00:08:34.486287Z"
    },
    "papermill": {
     "duration": 122.275305,
     "end_time": "2021-02-08T00:08:34.486527",
     "exception": false,
     "start_time": "2021-02-08T00:06:32.211222",
     "status": "completed"
    },
    "tags": []
   },
   "outputs": [
    {
     "name": "stdout",
     "output_type": "stream",
     "text": [
      "====== Neural Network ======\n"
     ]
    },
    {
     "name": "stdout",
     "output_type": "stream",
     "text": [
      "Epoch 0, Loss 0.2414\n",
      "Training Accuracy: 0.7152, Testing Accuracy: 0.7228\n",
      "\n"
     ]
    },
    {
     "name": "stdout",
     "output_type": "stream",
     "text": [
      "Epoch 10, Loss 0.168\n",
      "Training Accuracy: 0.8604, Testing Accuracy: 0.8654\n",
      "\n"
     ]
    },
    {
     "name": "stdout",
     "output_type": "stream",
     "text": [
      "Epoch 20, Loss 0.0875\n",
      "Training Accuracy: 0.9108, Testing Accuracy: 0.9153\n",
      "\n"
     ]
    },
    {
     "name": "stdout",
     "output_type": "stream",
     "text": [
      "Epoch 30, Loss 0.0591\n",
      "Training Accuracy: 0.9349, Testing Accuracy: 0.9425\n",
      "\n"
     ]
    },
    {
     "name": "stdout",
     "output_type": "stream",
     "text": [
      "Epoch 40, Loss 0.047\n",
      "Training Accuracy: 0.9464, Testing Accuracy: 0.9536\n",
      "\n"
     ]
    },
    {
     "name": "stdout",
     "output_type": "stream",
     "text": [
      "Epoch 50, Loss 0.0407\n",
      "Training Accuracy: 0.9528, Testing Accuracy: 0.9602\n",
      "\n"
     ]
    },
    {
     "name": "stdout",
     "output_type": "stream",
     "text": [
      "Epoch 60, Loss 0.0368\n",
      "Training Accuracy: 0.9572, Testing Accuracy: 0.9642\n",
      "\n"
     ]
    },
    {
     "name": "stdout",
     "output_type": "stream",
     "text": [
      "Epoch 70, Loss 0.0342\n",
      "Training Accuracy: 0.9612, Testing Accuracy: 0.9662\n",
      "\n"
     ]
    },
    {
     "name": "stdout",
     "output_type": "stream",
     "text": [
      "Epoch 80, Loss 0.0322\n",
      "Training Accuracy: 0.9626, Testing Accuracy: 0.9667\n",
      "\n"
     ]
    },
    {
     "name": "stdout",
     "output_type": "stream",
     "text": [
      "Epoch 90, Loss 0.0306\n",
      "Training Accuracy: 0.9643, Testing Accuracy: 0.9677\n",
      "\n"
     ]
    },
    {
     "name": "stdout",
     "output_type": "stream",
     "text": [
      "Epoch 100, Loss 0.0293\n",
      "Training Accuracy: 0.9665, Testing Accuracy: 0.9682\n",
      "\n"
     ]
    },
    {
     "name": "stdout",
     "output_type": "stream",
     "text": [
      "Epoch 110, Loss 0.0282\n",
      "Training Accuracy: 0.9670, Testing Accuracy: 0.9688\n",
      "\n"
     ]
    },
    {
     "name": "stdout",
     "output_type": "stream",
     "text": [
      "Epoch 120, Loss 0.0273\n",
      "Training Accuracy: 0.9682, Testing Accuracy: 0.9698\n",
      "\n"
     ]
    },
    {
     "name": "stdout",
     "output_type": "stream",
     "text": [
      "Epoch 130, Loss 0.0265\n",
      "Training Accuracy: 0.9691, Testing Accuracy: 0.9708\n",
      "\n"
     ]
    },
    {
     "name": "stdout",
     "output_type": "stream",
     "text": [
      "Epoch 140, Loss 0.0258\n",
      "Training Accuracy: 0.9698, Testing Accuracy: 0.9703\n",
      "\n"
     ]
    },
    {
     "name": "stdout",
     "output_type": "stream",
     "text": [
      "Epoch 150, Loss 0.0251\n",
      "Training Accuracy: 0.9705, Testing Accuracy: 0.9723\n",
      "\n"
     ]
    },
    {
     "name": "stdout",
     "output_type": "stream",
     "text": [
      "Epoch 160, Loss 0.0246\n",
      "Training Accuracy: 0.9715, Testing Accuracy: 0.9723\n",
      "\n"
     ]
    },
    {
     "name": "stdout",
     "output_type": "stream",
     "text": [
      "Epoch 170, Loss 0.024\n",
      "Training Accuracy: 0.9723, Testing Accuracy: 0.9728\n",
      "\n"
     ]
    },
    {
     "name": "stdout",
     "output_type": "stream",
     "text": [
      "Epoch 180, Loss 0.0235\n",
      "Training Accuracy: 0.9727, Testing Accuracy: 0.9723\n",
      "\n"
     ]
    },
    {
     "name": "stdout",
     "output_type": "stream",
     "text": [
      "Epoch 190, Loss 0.023\n",
      "Training Accuracy: 0.9732, Testing Accuracy: 0.9723\n",
      "\n"
     ]
    },
    {
     "name": "stdout",
     "output_type": "stream",
     "text": [
      "Epoch 200, Loss 0.0226\n",
      "Training Accuracy: 0.9735, Testing Accuracy: 0.9713\n",
      "\n"
     ]
    },
    {
     "name": "stdout",
     "output_type": "stream",
     "text": [
      "Epoch 210, Loss 0.0222\n",
      "Training Accuracy: 0.9743, Testing Accuracy: 0.9723\n",
      "\n"
     ]
    },
    {
     "name": "stdout",
     "output_type": "stream",
     "text": [
      "Epoch 220, Loss 0.0218\n",
      "Training Accuracy: 0.9747, Testing Accuracy: 0.9723\n",
      "\n"
     ]
    },
    {
     "name": "stdout",
     "output_type": "stream",
     "text": [
      "Epoch 230, Loss 0.0215\n",
      "Training Accuracy: 0.9753, Testing Accuracy: 0.9718\n",
      "\n"
     ]
    },
    {
     "name": "stdout",
     "output_type": "stream",
     "text": [
      "Epoch 240, Loss 0.0211\n",
      "Training Accuracy: 0.9757, Testing Accuracy: 0.9723\n",
      "\n"
     ]
    },
    {
     "name": "stdout",
     "output_type": "stream",
     "text": [
      "Epoch 250, Loss 0.0208\n",
      "Training Accuracy: 0.9760, Testing Accuracy: 0.9718\n",
      "\n"
     ]
    },
    {
     "data": {
      "text/plain": [
       "0.010846505394436191"
      ]
     },
     "execution_count": 20,
     "metadata": {},
     "output_type": "execute_result"
    }
   ],
   "source": [
    "print(\"====== Neural Network ======\")\n",
    "learner_nn.train_loop(dl)"
   ]
  },
  {
   "cell_type": "markdown",
   "id": "competent-suffering",
   "metadata": {
    "papermill": {
     "duration": 0.041381,
     "end_time": "2021-02-08T00:08:34.576423",
     "exception": false,
     "start_time": "2021-02-08T00:08:34.535042",
     "status": "completed"
    },
    "tags": []
   },
   "source": [
    "### Logistic Regression based Implementation."
   ]
  },
  {
   "cell_type": "code",
   "execution_count": 21,
   "id": "qualified-psychiatry",
   "metadata": {
    "execution": {
     "iopub.execute_input": "2021-02-08T00:08:34.668241Z",
     "iopub.status.busy": "2021-02-08T00:08:34.667587Z",
     "iopub.status.idle": "2021-02-08T00:08:34.677703Z",
     "shell.execute_reply": "2021-02-08T00:08:34.678171Z"
    },
    "papermill": {
     "duration": 0.05971,
     "end_time": "2021-02-08T00:08:34.678495",
     "exception": false,
     "start_time": "2021-02-08T00:08:34.618785",
     "status": "completed"
    },
    "tags": []
   },
   "outputs": [],
   "source": [
    "learner_lr = Learner(loss, model_lr, opt, config.num_epochs)\n",
    "acc_lr = ClfCallback(learner_lr, config.bs, training_xdata , testing_xdata, training_ydata, testing_ydata)\n",
    "learner_lr.set_callbacks([acc_lr])"
   ]
  },
  {
   "cell_type": "code",
   "execution_count": 22,
   "id": "average-outside",
   "metadata": {
    "execution": {
     "iopub.execute_input": "2021-02-08T00:08:34.769070Z",
     "iopub.status.busy": "2021-02-08T00:08:34.762078Z",
     "iopub.status.idle": "2021-02-08T00:08:52.433077Z",
     "shell.execute_reply": "2021-02-08T00:08:52.433527Z"
    },
    "papermill": {
     "duration": 17.712549,
     "end_time": "2021-02-08T00:08:52.433688",
     "exception": false,
     "start_time": "2021-02-08T00:08:34.721139",
     "status": "completed"
    },
    "tags": []
   },
   "outputs": [
    {
     "name": "stdout",
     "output_type": "stream",
     "text": [
      "====== Logistic Regression ======\n",
      "Epoch 0, Loss 0.2301\n",
      "Training Accuracy: 0.7440, Testing Accuracy: 0.7424\n",
      "\n"
     ]
    },
    {
     "name": "stdout",
     "output_type": "stream",
     "text": [
      "Epoch 10, Loss 0.1\n",
      "Training Accuracy: 0.9152, Testing Accuracy: 0.9284\n",
      "\n"
     ]
    },
    {
     "name": "stdout",
     "output_type": "stream",
     "text": [
      "Epoch 20, Loss 0.0776\n",
      "Training Accuracy: 0.9297, Testing Accuracy: 0.9415\n",
      "\n"
     ]
    },
    {
     "name": "stdout",
     "output_type": "stream",
     "text": [
      "Epoch 30, Loss 0.0672\n",
      "Training Accuracy: 0.9375, Testing Accuracy: 0.9501\n",
      "\n"
     ]
    },
    {
     "name": "stdout",
     "output_type": "stream",
     "text": [
      "Epoch 40, Loss 0.0609\n",
      "Training Accuracy: 0.9422, Testing Accuracy: 0.9531\n",
      "\n"
     ]
    },
    {
     "name": "stdout",
     "output_type": "stream",
     "text": [
      "Epoch 50, Loss 0.0565\n",
      "Training Accuracy: 0.9447, Testing Accuracy: 0.9551\n",
      "\n"
     ]
    },
    {
     "name": "stdout",
     "output_type": "stream",
     "text": [
      "Epoch 60, Loss 0.0533\n",
      "Training Accuracy: 0.9460, Testing Accuracy: 0.9592\n",
      "\n"
     ]
    },
    {
     "name": "stdout",
     "output_type": "stream",
     "text": [
      "Epoch 70, Loss 0.0508\n",
      "Training Accuracy: 0.9480, Testing Accuracy: 0.9597\n",
      "\n"
     ]
    },
    {
     "name": "stdout",
     "output_type": "stream",
     "text": [
      "Epoch 80, Loss 0.0488\n",
      "Training Accuracy: 0.9502, Testing Accuracy: 0.9602\n",
      "\n"
     ]
    },
    {
     "name": "stdout",
     "output_type": "stream",
     "text": [
      "Epoch 90, Loss 0.0472\n",
      "Training Accuracy: 0.9516, Testing Accuracy: 0.9607\n",
      "\n"
     ]
    },
    {
     "name": "stdout",
     "output_type": "stream",
     "text": [
      "Epoch 100, Loss 0.0458\n",
      "Training Accuracy: 0.9524, Testing Accuracy: 0.9612\n",
      "\n"
     ]
    },
    {
     "name": "stdout",
     "output_type": "stream",
     "text": [
      "Epoch 110, Loss 0.0446\n",
      "Training Accuracy: 0.9535, Testing Accuracy: 0.9627\n",
      "\n"
     ]
    },
    {
     "name": "stdout",
     "output_type": "stream",
     "text": [
      "Epoch 120, Loss 0.0435\n",
      "Training Accuracy: 0.9543, Testing Accuracy: 0.9642\n",
      "\n"
     ]
    },
    {
     "name": "stdout",
     "output_type": "stream",
     "text": [
      "Epoch 130, Loss 0.0426\n",
      "Training Accuracy: 0.9550, Testing Accuracy: 0.9647\n",
      "\n"
     ]
    },
    {
     "name": "stdout",
     "output_type": "stream",
     "text": [
      "Epoch 140, Loss 0.0418\n",
      "Training Accuracy: 0.9555, Testing Accuracy: 0.9647\n",
      "\n"
     ]
    },
    {
     "name": "stdout",
     "output_type": "stream",
     "text": [
      "Epoch 150, Loss 0.0411\n",
      "Training Accuracy: 0.9560, Testing Accuracy: 0.9657\n",
      "\n"
     ]
    },
    {
     "name": "stdout",
     "output_type": "stream",
     "text": [
      "Epoch 160, Loss 0.0404\n",
      "Training Accuracy: 0.9563, Testing Accuracy: 0.9657\n",
      "\n"
     ]
    },
    {
     "name": "stdout",
     "output_type": "stream",
     "text": [
      "Epoch 170, Loss 0.0398\n",
      "Training Accuracy: 0.9565, Testing Accuracy: 0.9662\n",
      "\n"
     ]
    },
    {
     "name": "stdout",
     "output_type": "stream",
     "text": [
      "Epoch 180, Loss 0.0392\n",
      "Training Accuracy: 0.9570, Testing Accuracy: 0.9672\n",
      "\n"
     ]
    },
    {
     "name": "stdout",
     "output_type": "stream",
     "text": [
      "Epoch 190, Loss 0.0387\n",
      "Training Accuracy: 0.9576, Testing Accuracy: 0.9672\n",
      "\n"
     ]
    },
    {
     "name": "stdout",
     "output_type": "stream",
     "text": [
      "Epoch 200, Loss 0.0383\n",
      "Training Accuracy: 0.9585, Testing Accuracy: 0.9677\n",
      "\n"
     ]
    },
    {
     "name": "stdout",
     "output_type": "stream",
     "text": [
      "Epoch 210, Loss 0.0378\n",
      "Training Accuracy: 0.9590, Testing Accuracy: 0.9677\n",
      "\n"
     ]
    },
    {
     "name": "stdout",
     "output_type": "stream",
     "text": [
      "Epoch 220, Loss 0.0374\n",
      "Training Accuracy: 0.9596, Testing Accuracy: 0.9682\n",
      "\n"
     ]
    },
    {
     "name": "stdout",
     "output_type": "stream",
     "text": [
      "Epoch 230, Loss 0.037\n",
      "Training Accuracy: 0.9604, Testing Accuracy: 0.9682\n",
      "\n"
     ]
    },
    {
     "name": "stdout",
     "output_type": "stream",
     "text": [
      "Epoch 240, Loss 0.0367\n",
      "Training Accuracy: 0.9609, Testing Accuracy: 0.9682\n",
      "\n"
     ]
    },
    {
     "name": "stdout",
     "output_type": "stream",
     "text": [
      "Epoch 250, Loss 0.0363\n",
      "Training Accuracy: 0.9613, Testing Accuracy: 0.9688\n",
      "\n"
     ]
    },
    {
     "data": {
      "text/plain": [
       "0.06276499686988374"
      ]
     },
     "execution_count": 22,
     "metadata": {},
     "output_type": "execute_result"
    }
   ],
   "source": [
    "print(\"====== Logistic Regression ======\")\n",
    "learner_lr.train_loop(dl)"
   ]
  },
  {
   "cell_type": "markdown",
   "id": "adjusted-possible",
   "metadata": {
    "papermill": {
     "duration": 0.056243,
     "end_time": "2021-02-08T00:08:52.542543",
     "exception": false,
     "start_time": "2021-02-08T00:08:52.486300",
     "status": "completed"
    },
    "tags": []
   },
   "source": [
    "### Comparing results of NN and LR"
   ]
  },
  {
   "cell_type": "code",
   "execution_count": 23,
   "id": "mental-multimedia",
   "metadata": {
    "execution": {
     "iopub.execute_input": "2021-02-08T00:08:52.666426Z",
     "iopub.status.busy": "2021-02-08T00:08:52.662957Z",
     "iopub.status.idle": "2021-02-08T00:08:52.915213Z",
     "shell.execute_reply": "2021-02-08T00:08:52.915710Z"
    },
    "papermill": {
     "duration": 0.319759,
     "end_time": "2021-02-08T00:08:52.915870",
     "exception": false,
     "start_time": "2021-02-08T00:08:52.596111",
     "status": "completed"
    },
    "tags": []
   },
   "outputs": [
    {
     "data": {
      "text/plain": [
       "<matplotlib.legend.Legend at 0x7f4b648de940>"
      ]
     },
     "execution_count": 23,
     "metadata": {},
     "output_type": "execute_result"
    },
    {
     "data": {
      "image/png": "[encoded data removed]",
      "text/plain": [
       "<Figure size 1080x720 with 1 Axes>"
      ]
     },
     "metadata": {
      "needs_background": "light"
     },
     "output_type": "display_data"
    }
   ],
   "source": [
    "plt.figure(figsize=(15,10))\n",
    "\n",
    "# Neural Network plots\n",
    "plt.plot(acc_nn.accuracies, 'r-', label = \"Training Accuracies - NN\")\n",
    "plt.plot(acc_nn.test_accuracies, 'g-', label = \"Testing Accuracies - NN\")\n",
    "\n",
    "# Logistic Regression plots\n",
    "plt.plot(acc_lr.accuracies, 'k-', label = \"Training Accuracies - LR\")\n",
    "plt.plot(acc_lr.test_accuracies, 'b-', label = \"Testing Accuracies - LR\")\n",
    "\n",
    "plt.ylim(0.8, 1)\n",
    "\n",
    "plt.legend()\n",
    "\n"
   ]
  },
  {
   "cell_type": "markdown",
   "id": "sexual-flesh",
   "metadata": {
    "papermill": {
     "duration": 0.051375,
     "end_time": "2021-02-08T00:08:53.016121",
     "exception": false,
     "start_time": "2021-02-08T00:08:52.964746",
     "status": "completed"
    },
    "tags": []
   },
   "source": [
    "### From the plot, we can observe the following:\n",
    "- Neural Network achieves higher accuracy than the Logistic Regression model.\n",
    "- This apparently, is because of overfitting, i.e. NN captures more noise than data.\n",
    "- Testing accuracy of NN drops below the Training accuracy at higher epochs. This explains the over-fitting on training data.\n",
    "- Logistic Regression gives a reliable accuracy, without the above mentioned problem.\n"
   ]
  },
  {
   "cell_type": "markdown",
   "id": "institutional-pacific",
   "metadata": {
    "papermill": {
     "duration": 0.050302,
     "end_time": "2021-02-08T00:08:53.116701",
     "exception": false,
     "start_time": "2021-02-08T00:08:53.066399",
     "status": "completed"
    },
    "tags": []
   },
   "source": [
    "### Moving till the last but one layer (excluding it).\n",
    "#### Plotting the outputs of this layer of the NN."
   ]
  },
  {
   "cell_type": "code",
   "execution_count": 24,
   "id": "economic-server",
   "metadata": {
    "execution": {
     "iopub.execute_input": "2021-02-08T00:08:53.216606Z",
     "iopub.status.busy": "2021-02-08T00:08:53.215924Z",
     "iopub.status.idle": "2021-02-08T00:08:53.227460Z",
     "shell.execute_reply": "2021-02-08T00:08:53.227925Z"
    },
    "papermill": {
     "duration": 0.063026,
     "end_time": "2021-02-08T00:08:53.228057",
     "exception": false,
     "start_time": "2021-02-08T00:08:53.165031",
     "status": "completed"
    },
    "tags": []
   },
   "outputs": [],
   "source": [
    "model_new = Model(layers[:-2])"
   ]
  },
  {
   "cell_type": "code",
   "execution_count": 25,
   "id": "varied-upgrade",
   "metadata": {
    "execution": {
     "iopub.execute_input": "2021-02-08T00:08:53.336171Z",
     "iopub.status.busy": "2021-02-08T00:08:53.335397Z",
     "iopub.status.idle": "2021-02-08T00:08:53.354192Z",
     "shell.execute_reply": "2021-02-08T00:08:53.354728Z"
    },
    "papermill": {
     "duration": 0.078981,
     "end_time": "2021-02-08T00:08:53.354879",
     "exception": false,
     "start_time": "2021-02-08T00:08:53.275898",
     "status": "completed"
    },
    "tags": []
   },
   "outputs": [],
   "source": [
    "plot_testing = model_new(testing_xdata)"
   ]
  },
  {
   "cell_type": "code",
   "execution_count": 26,
   "id": "specific-handling",
   "metadata": {
    "execution": {
     "iopub.execute_input": "2021-02-08T00:08:53.458077Z",
     "iopub.status.busy": "2021-02-08T00:08:53.457511Z",
     "iopub.status.idle": "2021-02-08T00:08:53.698670Z",
     "shell.execute_reply": "2021-02-08T00:08:53.698112Z"
    },
    "papermill": {
     "duration": 0.293208,
     "end_time": "2021-02-08T00:08:53.698820",
     "exception": false,
     "start_time": "2021-02-08T00:08:53.405612",
     "status": "completed"
    },
    "tags": []
   },
   "outputs": [
    {
     "data": {
      "text/plain": [
       "Text(0.5, 1.0, 'Outputs')"
      ]
     },
     "execution_count": 26,
     "metadata": {},
     "output_type": "execute_result"
    },
    {
     "data": {
      "image/png": "[encoded data removed]",
      "text/plain": [
       "<Figure size 576x504 with 1 Axes>"
      ]
     },
     "metadata": {
      "needs_background": "light"
     },
     "output_type": "display_data"
    }
   ],
   "source": [
    "plt.figure(figsize=(8,7))\n",
    "plt.scatter(plot_testing[:,0], plot_testing[:,1], alpha = 0.1, c = y_test.ravel());\n",
    "plt.title('Outputs')"
   ]
  },
  {
   "cell_type": "markdown",
   "id": "described-knowing",
   "metadata": {
    "papermill": {
     "duration": 0.055314,
     "end_time": "2021-02-08T00:08:53.804460",
     "exception": false,
     "start_time": "2021-02-08T00:08:53.749146",
     "status": "completed"
    },
    "tags": []
   },
   "source": [
    "### Plotting probability contours"
   ]
  },
  {
   "cell_type": "code",
   "execution_count": 27,
   "id": "needed-growing",
   "metadata": {
    "execution": {
     "iopub.execute_input": "2021-02-08T00:08:53.910659Z",
     "iopub.status.busy": "2021-02-08T00:08:53.908901Z",
     "iopub.status.idle": "2021-02-08T00:08:53.921104Z",
     "shell.execute_reply": "2021-02-08T00:08:53.921569Z"
    },
    "papermill": {
     "duration": 0.066801,
     "end_time": "2021-02-08T00:08:53.921699",
     "exception": false,
     "start_time": "2021-02-08T00:08:53.854898",
     "status": "completed"
    },
    "tags": []
   },
   "outputs": [],
   "source": [
    "model_prob = Model(layers[-2:]) "
   ]
  },
  {
   "cell_type": "code",
   "execution_count": 28,
   "id": "introductory-enforcement",
   "metadata": {
    "execution": {
     "iopub.execute_input": "2021-02-08T00:08:54.065594Z",
     "iopub.status.busy": "2021-02-08T00:08:54.054801Z",
     "iopub.status.idle": "2021-02-08T00:08:54.066246Z",
     "shell.execute_reply": "2021-02-08T00:08:54.066712Z"
    },
    "papermill": {
     "duration": 0.095842,
     "end_time": "2021-02-08T00:08:54.066848",
     "exception": false,
     "start_time": "2021-02-08T00:08:53.971006",
     "status": "completed"
    },
    "tags": []
   },
   "outputs": [],
   "source": [
    "# Adjust the x and y ranges according to the above generated plot.\n",
    "x_range = np.linspace(-4, 1, 100) \n",
    "y_range = np.linspace(-6, 6, 100) \n",
    "x_grid, y_grid = np.meshgrid(x_range, y_range) # x_grid and y_grig are of size 100 X 100\n",
    "\n",
    "# converting x_grid and y_grid to continuous arrays\n",
    "x_grid_flat = np.ravel(x_grid)\n",
    "y_grid_flat = np.ravel(y_grid)\n",
    "\n",
    "# The last layer of the current model takes two columns as input. Hence transpose of np.vstack() is required.\n",
    "X = np.vstack((x_grid_flat, y_grid_flat)).T\n",
    "\n",
    "# x_grid and y_grid are of size 100 x 100\n",
    "probability_contour = model_prob(X).reshape(100,100) "
   ]
  },
  {
   "cell_type": "code",
   "execution_count": 29,
   "id": "understood-landing",
   "metadata": {
    "execution": {
     "iopub.execute_input": "2021-02-08T00:08:54.179526Z",
     "iopub.status.busy": "2021-02-08T00:08:54.178861Z",
     "iopub.status.idle": "2021-02-08T00:08:54.450928Z",
     "shell.execute_reply": "2021-02-08T00:08:54.450446Z"
    },
    "papermill": {
     "duration": 0.33119,
     "end_time": "2021-02-08T00:08:54.451060",
     "exception": false,
     "start_time": "2021-02-08T00:08:54.119870",
     "status": "completed"
    },
    "tags": []
   },
   "outputs": [
    {
     "data": {
      "image/png": "[encoded data removed]",
      "text/plain": [
       "<Figure size 720x648 with 1 Axes>"
      ]
     },
     "metadata": {
      "needs_background": "light"
     },
     "output_type": "display_data"
    }
   ],
   "source": [
    "plt.figure(figsize=(10,9))\n",
    "plt.scatter(plot_testing[:,0], plot_testing[:,1], alpha = 0.1, c = y_test.ravel())\n",
    "contours = plt.contour(x_grid,y_grid,probability_contour)\n",
    "plt.title('Probability Contours')\n",
    "plt.clabel(contours, inline = True );"
   ]
  }
 ],
 "metadata": {
  "kernelspec": {
   "display_name": "Python 3",
   "language": "python",
   "name": "python3"
  },
  "language_info": {
   "codemirror_mode": {
    "name": "ipython",
    "version": 3
   },
   "file_extension": ".py",
   "mimetype": "text/x-python",
   "name": "python",
   "nbconvert_exporter": "python",
   "pygments_lexer": "ipython3",
   "version": "3.6.12"
  },
  "papermill": {
   "duration": 149.559923,
   "end_time": "2021-02-08T00:08:54.812940",
   "environment_variables": {},
   "exception": null,
   "input_path": "2020-08-11-NeuralNetwork.ipynb",
   "output_path": "2020-08-11-NeuralNetwork.ipynb",
   "parameters": {},
   "start_time": "2021-02-08T00:06:25.253017",
   "version": "2.1.2"
  }
 },
 "nbformat": 4,
 "nbformat_minor": 5
}