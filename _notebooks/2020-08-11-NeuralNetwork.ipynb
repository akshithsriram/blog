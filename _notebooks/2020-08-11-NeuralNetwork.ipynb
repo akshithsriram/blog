{
 "cells": [
  {
   "cell_type": "markdown",
   "id": "fitted-suggestion",
   "metadata": {
    "papermill": {
     "duration": 0.034453,
     "end_time": "2021-06-13T00:17:12.676916",
     "exception": false,
     "start_time": "2021-06-13T00:17:12.642463",
     "status": "completed"
    },
    "tags": []
   },
   "source": [
    "# \"A Basic Neural Network: Differentiate Hand-Written Digits\"\n",
    "\n",
    "- badges: true\n",
    "- author: Akshith Sriram"
   ]
  },
  {
   "cell_type": "markdown",
   "id": "signal-flexibility",
   "metadata": {
    "papermill": {
     "duration": 0.032005,
     "end_time": "2021-06-13T00:17:12.737973",
     "exception": false,
     "start_time": "2021-06-13T00:17:12.705968",
     "status": "completed"
    },
    "tags": []
   },
   "source": [
    "### Key Objectives:\n",
    "- Building a neural network that differentiates two hand-written digits 3 and 8.\n",
    "- Comparing the results of this Neural Network (NN) to that of a Logistic Regression (LR) model.\n",
    "\n",
    "### Requirements:\n",
    "- 'Kudzu' : A neural network library that was designed during our course by [Univ.AI](www.univ.ai). \n",
    "- MNIST Database\n",
    "\n",
    "If MNIST is not installed, use the command `!pip install mnist` given below.\n",
    "It can be run both from the command line and Jupyter Notebook."
   ]
  },
  {
   "cell_type": "code",
   "execution_count": 1,
   "id": "british-texture",
   "metadata": {
    "execution": {
     "iopub.execute_input": "2021-06-13T00:17:12.811133Z",
     "iopub.status.busy": "2021-06-13T00:17:12.810576Z",
     "iopub.status.idle": "2021-06-13T00:17:14.331449Z",
     "shell.execute_reply": "2021-06-13T00:17:14.330524Z"
    },
    "papermill": {
     "duration": 1.562329,
     "end_time": "2021-06-13T00:17:14.331588",
     "exception": false,
     "start_time": "2021-06-13T00:17:12.769259",
     "status": "completed"
    },
    "tags": []
   },
   "outputs": [
    {
     "name": "stdout",
     "output_type": "stream",
     "text": [
      "Collecting mnist\r\n"
     ]
    },
    {
     "name": "stdout",
     "output_type": "stream",
     "text": [
      "  Downloading mnist-0.2.2-py2.py3-none-any.whl (3.5 kB)\r\n",
      "Requirement already satisfied: numpy in /opt/hostedtoolcache/Python/3.6.13/x64/lib/python3.6/site-packages (from mnist) (1.19.5)\r\n"
     ]
    },
    {
     "name": "stdout",
     "output_type": "stream",
     "text": [
      "Installing collected packages: mnist\r\n"
     ]
    },
    {
     "name": "stdout",
     "output_type": "stream",
     "text": [
      "Successfully installed mnist-0.2.2\r\n"
     ]
    }
   ],
   "source": [
    "!pip install mnist "
   ]
  },
  {
   "cell_type": "markdown",
   "id": "stunning-extra",
   "metadata": {
    "papermill": {
     "duration": 0.027607,
     "end_time": "2021-06-13T00:17:14.386927",
     "exception": false,
     "start_time": "2021-06-13T00:17:14.359320",
     "status": "completed"
    },
    "tags": []
   },
   "source": [
    "#### Importing necessary libraries"
   ]
  },
  {
   "cell_type": "code",
   "execution_count": 2,
   "id": "wooden-france",
   "metadata": {
    "execution": {
     "iopub.execute_input": "2021-06-13T00:17:14.450786Z",
     "iopub.status.busy": "2021-06-13T00:17:14.448572Z",
     "iopub.status.idle": "2021-06-13T00:17:14.972171Z",
     "shell.execute_reply": "2021-06-13T00:17:14.971699Z"
    },
    "papermill": {
     "duration": 0.557308,
     "end_time": "2021-06-13T00:17:14.972291",
     "exception": false,
     "start_time": "2021-06-13T00:17:14.414983",
     "status": "completed"
    },
    "tags": []
   },
   "outputs": [],
   "source": [
    "%load_ext autoreload\n",
    "%autoreload 2\n",
    "\n",
    "%matplotlib inline\n",
    "import matplotlib.pyplot as plt\n",
    "\n",
    "import numpy as np\n",
    "import pandas as pd"
   ]
  },
  {
   "cell_type": "markdown",
   "id": "stunning-physics",
   "metadata": {
    "papermill": {
     "duration": 0.029932,
     "end_time": "2021-06-13T00:17:15.031298",
     "exception": false,
     "start_time": "2021-06-13T00:17:15.001366",
     "status": "completed"
    },
    "tags": []
   },
   "source": [
    "### Preparing the Data"
   ]
  },
  {
   "cell_type": "code",
   "execution_count": 3,
   "id": "unauthorized-remainder",
   "metadata": {
    "execution": {
     "iopub.execute_input": "2021-06-13T00:17:15.098383Z",
     "iopub.status.busy": "2021-06-13T00:17:15.097841Z",
     "iopub.status.idle": "2021-06-13T00:17:15.110106Z",
     "shell.execute_reply": "2021-06-13T00:17:15.109578Z"
    },
    "papermill": {
     "duration": 0.049597,
     "end_time": "2021-06-13T00:17:15.110216",
     "exception": false,
     "start_time": "2021-06-13T00:17:15.060619",
     "status": "completed"
    },
    "tags": []
   },
   "outputs": [],
   "source": [
    "import mnist"
   ]
  },
  {
   "cell_type": "code",
   "execution_count": 4,
   "id": "correct-antarctica",
   "metadata": {
    "execution": {
     "iopub.execute_input": "2021-06-13T00:17:15.172036Z",
     "iopub.status.busy": "2021-06-13T00:17:15.171038Z",
     "iopub.status.idle": "2021-06-13T00:20:56.754951Z",
     "shell.execute_reply": "2021-06-13T00:20:56.754508Z"
    },
    "papermill": {
     "duration": 221.617024,
     "end_time": "2021-06-13T00:20:56.755068",
     "exception": false,
     "start_time": "2021-06-13T00:17:15.138044",
     "status": "completed"
    },
    "tags": []
   },
   "outputs": [],
   "source": [
    "train_images = mnist.train_images()\n",
    "train_labels = mnist.train_labels()"
   ]
  },
  {
   "cell_type": "code",
   "execution_count": 5,
   "id": "musical-prospect",
   "metadata": {
    "execution": {
     "iopub.execute_input": "2021-06-13T00:20:56.816351Z",
     "iopub.status.busy": "2021-06-13T00:20:56.815844Z",
     "iopub.status.idle": "2021-06-13T00:20:56.830695Z",
     "shell.execute_reply": "2021-06-13T00:20:56.831120Z"
    },
    "papermill": {
     "duration": 0.045577,
     "end_time": "2021-06-13T00:20:56.831231",
     "exception": false,
     "start_time": "2021-06-13T00:20:56.785654",
     "status": "completed"
    },
    "tags": []
   },
   "outputs": [
    {
     "data": {
      "text/plain": [
       "((60000, 28, 28), (60000,))"
      ]
     },
     "execution_count": 5,
     "metadata": {},
     "output_type": "execute_result"
    }
   ],
   "source": [
    "train_images.shape, train_labels.shape"
   ]
  },
  {
   "cell_type": "code",
   "execution_count": 6,
   "id": "preliminary-elizabeth",
   "metadata": {
    "execution": {
     "iopub.execute_input": "2021-06-13T00:20:56.890810Z",
     "iopub.status.busy": "2021-06-13T00:20:56.890266Z",
     "iopub.status.idle": "2021-06-13T00:21:23.283933Z",
     "shell.execute_reply": "2021-06-13T00:21:23.282988Z"
    },
    "papermill": {
     "duration": 26.425568,
     "end_time": "2021-06-13T00:21:23.284107",
     "exception": false,
     "start_time": "2021-06-13T00:20:56.858539",
     "status": "completed"
    },
    "tags": []
   },
   "outputs": [],
   "source": [
    "test_images = mnist.test_images()\n",
    "test_labels = mnist.test_labels()"
   ]
  },
  {
   "cell_type": "code",
   "execution_count": 7,
   "id": "acknowledged-oxygen",
   "metadata": {
    "execution": {
     "iopub.execute_input": "2021-06-13T00:21:23.350258Z",
     "iopub.status.busy": "2021-06-13T00:21:23.348278Z",
     "iopub.status.idle": "2021-06-13T00:21:23.362478Z",
     "shell.execute_reply": "2021-06-13T00:21:23.361902Z"
    },
    "papermill": {
     "duration": 0.049155,
     "end_time": "2021-06-13T00:21:23.362590",
     "exception": false,
     "start_time": "2021-06-13T00:21:23.313435",
     "status": "completed"
    },
    "tags": []
   },
   "outputs": [
    {
     "data": {
      "text/plain": [
       "((10000, 28, 28), (10000,))"
      ]
     },
     "execution_count": 7,
     "metadata": {},
     "output_type": "execute_result"
    }
   ],
   "source": [
    "test_images.shape, test_labels.shape"
   ]
  },
  {
   "cell_type": "code",
   "execution_count": 8,
   "id": "innovative-organic",
   "metadata": {
    "execution": {
     "iopub.execute_input": "2021-06-13T00:21:23.428497Z",
     "iopub.status.busy": "2021-06-13T00:21:23.427923Z",
     "iopub.status.idle": "2021-06-13T00:21:23.606317Z",
     "shell.execute_reply": "2021-06-13T00:21:23.605799Z"
    },
    "papermill": {
     "duration": 0.211312,
     "end_time": "2021-06-13T00:21:23.606440",
     "exception": false,
     "start_time": "2021-06-13T00:21:23.395128",
     "status": "completed"
    },
    "tags": []
   },
   "outputs": [
    {
     "name": "stdout",
     "output_type": "stream",
     "text": [
      "2\n"
     ]
    },
    {
     "data": {
      "text/plain": [
       "<matplotlib.image.AxesImage at 0x7f930deba668>"
      ]
     },
     "execution_count": 8,
     "metadata": {},
     "output_type": "execute_result"
    },
    {
     "data": {
      "image/png": "[encoded data removed]",
      "text/plain": [
       "<Figure size 432x288 with 1 Axes>"
      ]
     },
     "metadata": {
      "needs_background": "light"
     },
     "output_type": "display_data"
    }
   ],
   "source": [
    "image_index = 7776 # You may select anything up to 60,000\n",
    "print(train_labels[image_index]) \n",
    "plt.imshow(train_images[image_index], cmap='Greys')"
   ]
  },
  {
   "cell_type": "markdown",
   "id": "facial-modem",
   "metadata": {
    "papermill": {
     "duration": 0.038248,
     "end_time": "2021-06-13T00:21:23.687207",
     "exception": false,
     "start_time": "2021-06-13T00:21:23.648959",
     "status": "completed"
    },
    "tags": []
   },
   "source": [
    "## Filter data to get 3 and 8 out"
   ]
  },
  {
   "cell_type": "code",
   "execution_count": 9,
   "id": "thousand-acquisition",
   "metadata": {
    "execution": {
     "iopub.execute_input": "2021-06-13T00:21:23.762279Z",
     "iopub.status.busy": "2021-06-13T00:21:23.757865Z",
     "iopub.status.idle": "2021-06-13T00:21:23.778039Z",
     "shell.execute_reply": "2021-06-13T00:21:23.778610Z"
    },
    "papermill": {
     "duration": 0.059438,
     "end_time": "2021-06-13T00:21:23.778753",
     "exception": false,
     "start_time": "2021-06-13T00:21:23.719315",
     "status": "completed"
    },
    "tags": []
   },
   "outputs": [],
   "source": [
    "train_filter = np.where((train_labels == 3 ) | (train_labels == 8))\n",
    "test_filter = np.where((test_labels == 3) | (test_labels == 8))\n",
    "X_train, y_train = train_images[train_filter], train_labels[train_filter]\n",
    "X_test, y_test = test_images[test_filter], test_labels[test_filter]"
   ]
  },
  {
   "cell_type": "markdown",
   "id": "ruled-access",
   "metadata": {
    "papermill": {
     "duration": 0.037177,
     "end_time": "2021-06-13T00:21:23.849031",
     "exception": false,
     "start_time": "2021-06-13T00:21:23.811854",
     "status": "completed"
    },
    "tags": []
   },
   "source": [
    "We normalize the pixel values in the 0 to 1 range"
   ]
  },
  {
   "cell_type": "code",
   "execution_count": 10,
   "id": "isolated-denver",
   "metadata": {
    "execution": {
     "iopub.execute_input": "2021-06-13T00:21:23.923337Z",
     "iopub.status.busy": "2021-06-13T00:21:23.922750Z",
     "iopub.status.idle": "2021-06-13T00:21:23.981769Z",
     "shell.execute_reply": "2021-06-13T00:21:23.982326Z"
    },
    "papermill": {
     "duration": 0.09705,
     "end_time": "2021-06-13T00:21:23.982496",
     "exception": false,
     "start_time": "2021-06-13T00:21:23.885446",
     "status": "completed"
    },
    "tags": []
   },
   "outputs": [],
   "source": [
    "X_train = X_train/255.\n",
    "X_test = X_test/255."
   ]
  },
  {
   "cell_type": "markdown",
   "id": "perfect-summary",
   "metadata": {
    "papermill": {
     "duration": 0.030091,
     "end_time": "2021-06-13T00:21:24.042866",
     "exception": false,
     "start_time": "2021-06-13T00:21:24.012775",
     "status": "completed"
    },
    "tags": []
   },
   "source": [
    "Setup the labels as 1 (when the digit is 3) and 0 (when the digit is 8)"
   ]
  },
  {
   "cell_type": "code",
   "execution_count": 11,
   "id": "personalized-growing",
   "metadata": {
    "execution": {
     "iopub.execute_input": "2021-06-13T00:21:24.110361Z",
     "iopub.status.busy": "2021-06-13T00:21:24.109730Z",
     "iopub.status.idle": "2021-06-13T00:21:24.121211Z",
     "shell.execute_reply": "2021-06-13T00:21:24.121799Z"
    },
    "papermill": {
     "duration": 0.048092,
     "end_time": "2021-06-13T00:21:24.121962",
     "exception": false,
     "start_time": "2021-06-13T00:21:24.073870",
     "status": "completed"
    },
    "tags": []
   },
   "outputs": [],
   "source": [
    "y_train = 1*(y_train==3)\n",
    "y_test = 1*(y_test==3)"
   ]
  },
  {
   "cell_type": "code",
   "execution_count": 12,
   "id": "considered-virgin",
   "metadata": {
    "execution": {
     "iopub.execute_input": "2021-06-13T00:21:24.183867Z",
     "iopub.status.busy": "2021-06-13T00:21:24.183327Z",
     "iopub.status.idle": "2021-06-13T00:21:24.194241Z",
     "shell.execute_reply": "2021-06-13T00:21:24.194961Z"
    },
    "papermill": {
     "duration": 0.043122,
     "end_time": "2021-06-13T00:21:24.195074",
     "exception": false,
     "start_time": "2021-06-13T00:21:24.151952",
     "status": "completed"
    },
    "tags": []
   },
   "outputs": [
    {
     "data": {
      "text/plain": [
       "((11982, 28, 28), (1984, 28, 28))"
      ]
     },
     "execution_count": 12,
     "metadata": {},
     "output_type": "execute_result"
    }
   ],
   "source": [
    "X_train.shape, X_test.shape"
   ]
  },
  {
   "cell_type": "markdown",
   "id": "civilian-mobile",
   "metadata": {
    "papermill": {
     "duration": 0.033236,
     "end_time": "2021-06-13T00:21:24.260928",
     "exception": false,
     "start_time": "2021-06-13T00:21:24.227692",
     "status": "completed"
    },
    "tags": []
   },
   "source": [
    "### Reshape the input data to create a linear array"
   ]
  },
  {
   "cell_type": "code",
   "execution_count": 13,
   "id": "colonial-adams",
   "metadata": {
    "execution": {
     "iopub.execute_input": "2021-06-13T00:21:24.328563Z",
     "iopub.status.busy": "2021-06-13T00:21:24.328036Z",
     "iopub.status.idle": "2021-06-13T00:21:24.340935Z",
     "shell.execute_reply": "2021-06-13T00:21:24.340522Z"
    },
    "papermill": {
     "duration": 0.047854,
     "end_time": "2021-06-13T00:21:24.341039",
     "exception": false,
     "start_time": "2021-06-13T00:21:24.293185",
     "status": "completed"
    },
    "tags": []
   },
   "outputs": [
    {
     "data": {
      "text/plain": [
       "((11982, 784), (1984, 784))"
      ]
     },
     "execution_count": 13,
     "metadata": {},
     "output_type": "execute_result"
    }
   ],
   "source": [
    "X_train = X_train.reshape(X_train.shape[0], -1)\n",
    "X_test = X_test.reshape(X_test.shape[0], -1)\n",
    "X_train.shape, X_test.shape"
   ]
  },
  {
   "cell_type": "markdown",
   "id": "smart-details",
   "metadata": {
    "papermill": {
     "duration": 0.031779,
     "end_time": "2021-06-13T00:21:24.402954",
     "exception": false,
     "start_time": "2021-06-13T00:21:24.371175",
     "status": "completed"
    },
    "tags": []
   },
   "source": [
    "### Importing appropriate functions from 'Kudzu'"
   ]
  },
  {
   "cell_type": "code",
   "execution_count": 14,
   "id": "celtic-trial",
   "metadata": {
    "execution": {
     "iopub.execute_input": "2021-06-13T00:21:24.471963Z",
     "iopub.status.busy": "2021-06-13T00:21:24.471351Z",
     "iopub.status.idle": "2021-06-13T00:21:24.488171Z",
     "shell.execute_reply": "2021-06-13T00:21:24.488654Z"
    },
    "papermill": {
     "duration": 0.052507,
     "end_time": "2021-06-13T00:21:24.488763",
     "exception": false,
     "start_time": "2021-06-13T00:21:24.436256",
     "status": "completed"
    },
    "tags": []
   },
   "outputs": [],
   "source": [
    "from kudzu.layer import Sigmoid\n",
    "from kudzu.layer import Relu\n",
    "from kudzu.layer import Affine, Sigmoid\n",
    "\n",
    "from kudzu.model import Model\n",
    "from kudzu.train import Learner\n",
    "from kudzu.optim import GD\n",
    "from kudzu.data import Data, Dataloader, Sampler\n",
    "\n",
    "from kudzu.callbacks import AccCallback\n",
    "from kudzu.callbacks import ClfCallback\n",
    "\n",
    "from kudzu.loss import MSE"
   ]
  },
  {
   "cell_type": "markdown",
   "id": "coupled-customer",
   "metadata": {
    "papermill": {
     "duration": 0.030487,
     "end_time": "2021-06-13T00:21:24.549141",
     "exception": false,
     "start_time": "2021-06-13T00:21:24.518654",
     "status": "completed"
    },
    "tags": []
   },
   "source": [
    "### Let us create a `Config` class, to store important parameters. \n",
    "This class essentially plays the role of a dictionary."
   ]
  },
  {
   "cell_type": "code",
   "execution_count": 15,
   "id": "young-ceiling",
   "metadata": {
    "execution": {
     "iopub.execute_input": "2021-06-13T00:21:24.621036Z",
     "iopub.status.busy": "2021-06-13T00:21:24.620272Z",
     "iopub.status.idle": "2021-06-13T00:21:24.632038Z",
     "shell.execute_reply": "2021-06-13T00:21:24.631565Z"
    },
    "papermill": {
     "duration": 0.049307,
     "end_time": "2021-06-13T00:21:24.632139",
     "exception": false,
     "start_time": "2021-06-13T00:21:24.582832",
     "status": "completed"
    },
    "tags": []
   },
   "outputs": [],
   "source": [
    "class Config:\n",
    "    pass\n",
    "config = Config()\n",
    "config.lr = 0.001\n",
    "config.num_epochs = 251\n",
    "config.bs = 50"
   ]
  },
  {
   "cell_type": "markdown",
   "id": "according-mandate",
   "metadata": {
    "papermill": {
     "duration": 0.029496,
     "end_time": "2021-06-13T00:21:24.692180",
     "exception": false,
     "start_time": "2021-06-13T00:21:24.662684",
     "status": "completed"
    },
    "tags": []
   },
   "source": [
    "### Initializing data to the variables"
   ]
  },
  {
   "cell_type": "code",
   "execution_count": 16,
   "id": "academic-disposition",
   "metadata": {
    "execution": {
     "iopub.execute_input": "2021-06-13T00:21:24.755103Z",
     "iopub.status.busy": "2021-06-13T00:21:24.754550Z",
     "iopub.status.idle": "2021-06-13T00:21:24.765805Z",
     "shell.execute_reply": "2021-06-13T00:21:24.766242Z"
    },
    "papermill": {
     "duration": 0.044624,
     "end_time": "2021-06-13T00:21:24.766362",
     "exception": false,
     "start_time": "2021-06-13T00:21:24.721738",
     "status": "completed"
    },
    "tags": []
   },
   "outputs": [],
   "source": [
    "data = Data(X_train, y_train.reshape(-1,1))\n",
    "sampler = Sampler(data, config.bs, shuffle=True)\n",
    "\n",
    "dl = Dataloader(data, sampler)\n",
    "\n",
    "opt = GD(config.lr)\n",
    "loss = MSE()"
   ]
  },
  {
   "cell_type": "code",
   "execution_count": 17,
   "id": "featured-commission",
   "metadata": {
    "execution": {
     "iopub.execute_input": "2021-06-13T00:21:24.832239Z",
     "iopub.status.busy": "2021-06-13T00:21:24.831741Z",
     "iopub.status.idle": "2021-06-13T00:21:24.841026Z",
     "shell.execute_reply": "2021-06-13T00:21:24.842546Z"
    },
    "papermill": {
     "duration": 0.043851,
     "end_time": "2021-06-13T00:21:24.842701",
     "exception": false,
     "start_time": "2021-06-13T00:21:24.798850",
     "status": "completed"
    },
    "tags": []
   },
   "outputs": [],
   "source": [
    "training_xdata = X_train\n",
    "testing_xdata = X_test\n",
    "training_ydata = y_train.reshape(-1,1)\n",
    "testing_ydata = y_test.reshape(-1,1)"
   ]
  },
  {
   "cell_type": "markdown",
   "id": "played-safety",
   "metadata": {
    "papermill": {
     "duration": 0.029841,
     "end_time": "2021-06-13T00:21:24.902777",
     "exception": false,
     "start_time": "2021-06-13T00:21:24.872936",
     "status": "completed"
    },
    "tags": []
   },
   "source": [
    "### Running Models with the Training data\n",
    "Details about the network layers:\n",
    "- A first affine layer has 784 inputs and does 100 affine transforms. These are followed by a Relu\n",
    "- A second affine layer has 100 inputs from the 100 activations of the past layer, and does 100 affine transforms. These are followed by a Relu\n",
    "- A third affine layer has 100 activations and does 2 affine transformations to create an embedding for visualization. There is no non-linearity here.\n",
    "- A final \"logistic regression\" which has an affine transform from 2 inputs to 1 output, which is squeezed through a sigmoid.\n",
    "\n",
    "Help taken from Anshuman's Notebook."
   ]
  },
  {
   "cell_type": "code",
   "execution_count": 18,
   "id": "asian-bankruptcy",
   "metadata": {
    "execution": {
     "iopub.execute_input": "2021-06-13T00:21:24.971470Z",
     "iopub.status.busy": "2021-06-13T00:21:24.970936Z",
     "iopub.status.idle": "2021-06-13T00:21:24.985279Z",
     "shell.execute_reply": "2021-06-13T00:21:24.985920Z"
    },
    "papermill": {
     "duration": 0.051732,
     "end_time": "2021-06-13T00:21:24.986034",
     "exception": false,
     "start_time": "2021-06-13T00:21:24.934302",
     "status": "completed"
    },
    "tags": []
   },
   "outputs": [],
   "source": [
    "# layers for the Neural Network\n",
    "layers = [Affine(\"first\", 784, 100), Relu(\"first\"), Affine(\"second\", 100, 100), Relu(\"second\"), Affine(\"third\", 100, 2), Affine(\"final\", 2, 1), Sigmoid(\"final\")]\n",
    "model_nn = Model(layers)\n",
    "\n",
    "# layers for the Logistic Regression\n",
    "layers_lr = [Affine(\"logits\", 784, 1), Sigmoid(\"sigmoid\")]\n",
    "model_lr = Model(layers_lr)"
   ]
  },
  {
   "cell_type": "code",
   "execution_count": 19,
   "id": "removed-butler",
   "metadata": {
    "execution": {
     "iopub.execute_input": "2021-06-13T00:21:25.052057Z",
     "iopub.status.busy": "2021-06-13T00:21:25.051430Z",
     "iopub.status.idle": "2021-06-13T00:21:25.064026Z",
     "shell.execute_reply": "2021-06-13T00:21:25.064663Z"
    },
    "papermill": {
     "duration": 0.047747,
     "end_time": "2021-06-13T00:21:25.064812",
     "exception": false,
     "start_time": "2021-06-13T00:21:25.017065",
     "status": "completed"
    },
    "tags": []
   },
   "outputs": [],
   "source": [
    "# suffix _nn stands for Neural Network.\n",
    "learner_nn = Learner(loss, model_nn, opt, config.num_epochs)\n",
    "acc_nn = ClfCallback(learner_nn, config.bs, training_xdata , testing_xdata, training_ydata, testing_ydata)\n",
    "learner_nn.set_callbacks([acc_nn])"
   ]
  },
  {
   "cell_type": "code",
   "execution_count": 20,
   "id": "conceptual-throw",
   "metadata": {
    "execution": {
     "iopub.execute_input": "2021-06-13T00:21:25.132251Z",
     "iopub.status.busy": "2021-06-13T00:21:25.131748Z",
     "iopub.status.idle": "2021-06-13T00:23:41.049167Z",
     "shell.execute_reply": "2021-06-13T00:23:41.049906Z"
    },
    "papermill": {
     "duration": 135.953098,
     "end_time": "2021-06-13T00:23:41.050056",
     "exception": false,
     "start_time": "2021-06-13T00:21:25.096958",
     "status": "completed"
    },
    "tags": []
   },
   "outputs": [
    {
     "name": "stdout",
     "output_type": "stream",
     "text": [
      "====== Neural Network ======\n"
     ]
    },
    {
     "name": "stdout",
     "output_type": "stream",
     "text": [
      "Epoch 0, Loss 0.2292\n",
      "Training Accuracy: 0.8097, Testing Accuracy: 0.8140\n",
      "\n"
     ]
    },
    {
     "name": "stdout",
     "output_type": "stream",
     "text": [
      "Epoch 10, Loss 0.0552\n",
      "Training Accuracy: 0.9458, Testing Accuracy: 0.9572\n",
      "\n"
     ]
    },
    {
     "name": "stdout",
     "output_type": "stream",
     "text": [
      "Epoch 20, Loss 0.0396\n",
      "Training Accuracy: 0.9577, Testing Accuracy: 0.9672\n",
      "\n"
     ]
    },
    {
     "name": "stdout",
     "output_type": "stream",
     "text": [
      "Epoch 30, Loss 0.0335\n",
      "Training Accuracy: 0.9629, Testing Accuracy: 0.9667\n",
      "\n"
     ]
    },
    {
     "name": "stdout",
     "output_type": "stream",
     "text": [
      "Epoch 40, Loss 0.0301\n",
      "Training Accuracy: 0.9659, Testing Accuracy: 0.9677\n",
      "\n"
     ]
    },
    {
     "name": "stdout",
     "output_type": "stream",
     "text": [
      "Epoch 50, Loss 0.0278\n",
      "Training Accuracy: 0.9690, Testing Accuracy: 0.9688\n",
      "\n"
     ]
    },
    {
     "name": "stdout",
     "output_type": "stream",
     "text": [
      "Epoch 60, Loss 0.0261\n",
      "Training Accuracy: 0.9708, Testing Accuracy: 0.9708\n",
      "\n"
     ]
    },
    {
     "name": "stdout",
     "output_type": "stream",
     "text": [
      "Epoch 70, Loss 0.0247\n",
      "Training Accuracy: 0.9720, Testing Accuracy: 0.9713\n",
      "\n"
     ]
    },
    {
     "name": "stdout",
     "output_type": "stream",
     "text": [
      "Epoch 80, Loss 0.0236\n",
      "Training Accuracy: 0.9728, Testing Accuracy: 0.9733\n",
      "\n"
     ]
    },
    {
     "name": "stdout",
     "output_type": "stream",
     "text": [
      "Epoch 90, Loss 0.0226\n",
      "Training Accuracy: 0.9739, Testing Accuracy: 0.9728\n",
      "\n"
     ]
    },
    {
     "name": "stdout",
     "output_type": "stream",
     "text": [
      "Epoch 100, Loss 0.0217\n",
      "Training Accuracy: 0.9744, Testing Accuracy: 0.9743\n",
      "\n"
     ]
    },
    {
     "name": "stdout",
     "output_type": "stream",
     "text": [
      "Epoch 110, Loss 0.021\n",
      "Training Accuracy: 0.9755, Testing Accuracy: 0.9743\n",
      "\n"
     ]
    },
    {
     "name": "stdout",
     "output_type": "stream",
     "text": [
      "Epoch 120, Loss 0.0203\n",
      "Training Accuracy: 0.9762, Testing Accuracy: 0.9748\n",
      "\n"
     ]
    },
    {
     "name": "stdout",
     "output_type": "stream",
     "text": [
      "Epoch 130, Loss 0.0196\n",
      "Training Accuracy: 0.9770, Testing Accuracy: 0.9743\n",
      "\n"
     ]
    },
    {
     "name": "stdout",
     "output_type": "stream",
     "text": [
      "Epoch 140, Loss 0.019\n",
      "Training Accuracy: 0.9783, Testing Accuracy: 0.9743\n",
      "\n"
     ]
    },
    {
     "name": "stdout",
     "output_type": "stream",
     "text": [
      "Epoch 150, Loss 0.0184\n",
      "Training Accuracy: 0.9791, Testing Accuracy: 0.9743\n",
      "\n"
     ]
    },
    {
     "name": "stdout",
     "output_type": "stream",
     "text": [
      "Epoch 160, Loss 0.0179\n",
      "Training Accuracy: 0.9801, Testing Accuracy: 0.9748\n",
      "\n"
     ]
    },
    {
     "name": "stdout",
     "output_type": "stream",
     "text": [
      "Epoch 170, Loss 0.0174\n",
      "Training Accuracy: 0.9818, Testing Accuracy: 0.9753\n",
      "\n"
     ]
    },
    {
     "name": "stdout",
     "output_type": "stream",
     "text": [
      "Epoch 180, Loss 0.0169\n",
      "Training Accuracy: 0.9822, Testing Accuracy: 0.9763\n",
      "\n"
     ]
    },
    {
     "name": "stdout",
     "output_type": "stream",
     "text": [
      "Epoch 190, Loss 0.0164\n",
      "Training Accuracy: 0.9828, Testing Accuracy: 0.9758\n",
      "\n"
     ]
    },
    {
     "name": "stdout",
     "output_type": "stream",
     "text": [
      "Epoch 200, Loss 0.016\n",
      "Training Accuracy: 0.9830, Testing Accuracy: 0.9758\n",
      "\n"
     ]
    },
    {
     "name": "stdout",
     "output_type": "stream",
     "text": [
      "Epoch 210, Loss 0.0156\n",
      "Training Accuracy: 0.9836, Testing Accuracy: 0.9758\n",
      "\n"
     ]
    },
    {
     "name": "stdout",
     "output_type": "stream",
     "text": [
      "Epoch 220, Loss 0.0152\n",
      "Training Accuracy: 0.9840, Testing Accuracy: 0.9758\n",
      "\n"
     ]
    },
    {
     "name": "stdout",
     "output_type": "stream",
     "text": [
      "Epoch 230, Loss 0.0148\n",
      "Training Accuracy: 0.9845, Testing Accuracy: 0.9768\n",
      "\n"
     ]
    },
    {
     "name": "stdout",
     "output_type": "stream",
     "text": [
      "Epoch 240, Loss 0.0144\n",
      "Training Accuracy: 0.9850, Testing Accuracy: 0.9768\n",
      "\n"
     ]
    },
    {
     "name": "stdout",
     "output_type": "stream",
     "text": [
      "Epoch 250, Loss 0.0141\n",
      "Training Accuracy: 0.9856, Testing Accuracy: 0.9768\n",
      "\n"
     ]
    },
    {
     "data": {
      "text/plain": [
       "0.05166718466988127"
      ]
     },
     "execution_count": 20,
     "metadata": {},
     "output_type": "execute_result"
    }
   ],
   "source": [
    "print(\"====== Neural Network ======\")\n",
    "learner_nn.train_loop(dl)"
   ]
  },
  {
   "cell_type": "markdown",
   "id": "competent-suffering",
   "metadata": {
    "papermill": {
     "duration": 0.039392,
     "end_time": "2021-06-13T00:23:41.135728",
     "exception": false,
     "start_time": "2021-06-13T00:23:41.096336",
     "status": "completed"
    },
    "tags": []
   },
   "source": [
    "### Logistic Regression based Implementation."
   ]
  },
  {
   "cell_type": "code",
   "execution_count": 21,
   "id": "qualified-psychiatry",
   "metadata": {
    "execution": {
     "iopub.execute_input": "2021-06-13T00:23:41.218241Z",
     "iopub.status.busy": "2021-06-13T00:23:41.217735Z",
     "iopub.status.idle": "2021-06-13T00:23:41.229076Z",
     "shell.execute_reply": "2021-06-13T00:23:41.228569Z"
    },
    "papermill": {
     "duration": 0.055094,
     "end_time": "2021-06-13T00:23:41.229178",
     "exception": false,
     "start_time": "2021-06-13T00:23:41.174084",
     "status": "completed"
    },
    "tags": []
   },
   "outputs": [],
   "source": [
    "learner_lr = Learner(loss, model_lr, opt, config.num_epochs)\n",
    "acc_lr = ClfCallback(learner_lr, config.bs, training_xdata , testing_xdata, training_ydata, testing_ydata)\n",
    "learner_lr.set_callbacks([acc_lr])"
   ]
  },
  {
   "cell_type": "code",
   "execution_count": 22,
   "id": "average-outside",
   "metadata": {
    "execution": {
     "iopub.execute_input": "2021-06-13T00:23:41.311316Z",
     "iopub.status.busy": "2021-06-13T00:23:41.310797Z",
     "iopub.status.idle": "2021-06-13T00:23:59.889640Z",
     "shell.execute_reply": "2021-06-13T00:23:59.890268Z"
    },
    "papermill": {
     "duration": 18.622778,
     "end_time": "2021-06-13T00:23:59.890442",
     "exception": false,
     "start_time": "2021-06-13T00:23:41.267664",
     "status": "completed"
    },
    "tags": []
   },
   "outputs": [
    {
     "name": "stdout",
     "output_type": "stream",
     "text": [
      "====== Logistic Regression ======\n",
      "Epoch 0, Loss 0.2572\n",
      "Training Accuracy: 0.6246, Testing Accuracy: 0.6663\n",
      "\n"
     ]
    },
    {
     "name": "stdout",
     "output_type": "stream",
     "text": [
      "Epoch 10, Loss 0.1039\n",
      "Training Accuracy: 0.9092, Testing Accuracy: 0.9173\n",
      "\n"
     ]
    },
    {
     "name": "stdout",
     "output_type": "stream",
     "text": [
      "Epoch 20, Loss 0.0797\n",
      "Training Accuracy: 0.9253, Testing Accuracy: 0.9345\n",
      "\n"
     ]
    },
    {
     "name": "stdout",
     "output_type": "stream",
     "text": [
      "Epoch 30, Loss 0.0688\n",
      "Training Accuracy: 0.9333, Testing Accuracy: 0.9441\n",
      "\n"
     ]
    },
    {
     "name": "stdout",
     "output_type": "stream",
     "text": [
      "Epoch 40, Loss 0.0622\n",
      "Training Accuracy: 0.9386, Testing Accuracy: 0.9491\n",
      "\n"
     ]
    },
    {
     "name": "stdout",
     "output_type": "stream",
     "text": [
      "Epoch 50, Loss 0.0577\n",
      "Training Accuracy: 0.9429, Testing Accuracy: 0.9511\n",
      "\n"
     ]
    },
    {
     "name": "stdout",
     "output_type": "stream",
     "text": [
      "Epoch 60, Loss 0.0544\n",
      "Training Accuracy: 0.9457, Testing Accuracy: 0.9526\n",
      "\n"
     ]
    },
    {
     "name": "stdout",
     "output_type": "stream",
     "text": [
      "Epoch 70, Loss 0.0518\n",
      "Training Accuracy: 0.9489, Testing Accuracy: 0.9531\n",
      "\n"
     ]
    },
    {
     "name": "stdout",
     "output_type": "stream",
     "text": [
      "Epoch 80, Loss 0.0497\n",
      "Training Accuracy: 0.9503, Testing Accuracy: 0.9561\n",
      "\n"
     ]
    },
    {
     "name": "stdout",
     "output_type": "stream",
     "text": [
      "Epoch 90, Loss 0.048\n",
      "Training Accuracy: 0.9514, Testing Accuracy: 0.9587\n",
      "\n"
     ]
    },
    {
     "name": "stdout",
     "output_type": "stream",
     "text": [
      "Epoch 100, Loss 0.0465\n",
      "Training Accuracy: 0.9528, Testing Accuracy: 0.9597\n",
      "\n"
     ]
    },
    {
     "name": "stdout",
     "output_type": "stream",
     "text": [
      "Epoch 110, Loss 0.0453\n",
      "Training Accuracy: 0.9536, Testing Accuracy: 0.9607\n",
      "\n"
     ]
    },
    {
     "name": "stdout",
     "output_type": "stream",
     "text": [
      "Epoch 120, Loss 0.0442\n",
      "Training Accuracy: 0.9545, Testing Accuracy: 0.9612\n",
      "\n"
     ]
    },
    {
     "name": "stdout",
     "output_type": "stream",
     "text": [
      "Epoch 130, Loss 0.0432\n",
      "Training Accuracy: 0.9556, Testing Accuracy: 0.9612\n",
      "\n"
     ]
    },
    {
     "name": "stdout",
     "output_type": "stream",
     "text": [
      "Epoch 140, Loss 0.0424\n",
      "Training Accuracy: 0.9560, Testing Accuracy: 0.9617\n",
      "\n"
     ]
    },
    {
     "name": "stdout",
     "output_type": "stream",
     "text": [
      "Epoch 150, Loss 0.0416\n",
      "Training Accuracy: 0.9576, Testing Accuracy: 0.9627\n",
      "\n"
     ]
    },
    {
     "name": "stdout",
     "output_type": "stream",
     "text": [
      "Epoch 160, Loss 0.0409\n",
      "Training Accuracy: 0.9581, Testing Accuracy: 0.9632\n",
      "\n"
     ]
    },
    {
     "name": "stdout",
     "output_type": "stream",
     "text": [
      "Epoch 170, Loss 0.0403\n",
      "Training Accuracy: 0.9583, Testing Accuracy: 0.9637\n",
      "\n"
     ]
    },
    {
     "name": "stdout",
     "output_type": "stream",
     "text": [
      "Epoch 180, Loss 0.0397\n",
      "Training Accuracy: 0.9586, Testing Accuracy: 0.9642\n",
      "\n"
     ]
    },
    {
     "name": "stdout",
     "output_type": "stream",
     "text": [
      "Epoch 190, Loss 0.0392\n",
      "Training Accuracy: 0.9591, Testing Accuracy: 0.9657\n",
      "\n"
     ]
    },
    {
     "name": "stdout",
     "output_type": "stream",
     "text": [
      "Epoch 200, Loss 0.0387\n",
      "Training Accuracy: 0.9591, Testing Accuracy: 0.9657\n",
      "\n"
     ]
    },
    {
     "name": "stdout",
     "output_type": "stream",
     "text": [
      "Epoch 210, Loss 0.0382\n",
      "Training Accuracy: 0.9595, Testing Accuracy: 0.9657\n",
      "\n"
     ]
    },
    {
     "name": "stdout",
     "output_type": "stream",
     "text": [
      "Epoch 220, Loss 0.0378\n",
      "Training Accuracy: 0.9599, Testing Accuracy: 0.9657\n",
      "\n"
     ]
    },
    {
     "name": "stdout",
     "output_type": "stream",
     "text": [
      "Epoch 230, Loss 0.0374\n",
      "Training Accuracy: 0.9604, Testing Accuracy: 0.9657\n",
      "\n"
     ]
    },
    {
     "name": "stdout",
     "output_type": "stream",
     "text": [
      "Epoch 240, Loss 0.037\n",
      "Training Accuracy: 0.9610, Testing Accuracy: 0.9657\n",
      "\n"
     ]
    },
    {
     "name": "stdout",
     "output_type": "stream",
     "text": [
      "Epoch 250, Loss 0.0367\n",
      "Training Accuracy: 0.9611, Testing Accuracy: 0.9662\n",
      "\n"
     ]
    },
    {
     "data": {
      "text/plain": [
       "0.040408289279471016"
      ]
     },
     "execution_count": 22,
     "metadata": {},
     "output_type": "execute_result"
    }
   ],
   "source": [
    "print(\"====== Logistic Regression ======\")\n",
    "learner_lr.train_loop(dl)"
   ]
  },
  {
   "cell_type": "markdown",
   "id": "adjusted-possible",
   "metadata": {
    "papermill": {
     "duration": 0.046307,
     "end_time": "2021-06-13T00:23:59.986257",
     "exception": false,
     "start_time": "2021-06-13T00:23:59.939950",
     "status": "completed"
    },
    "tags": []
   },
   "source": [
    "### Comparing results of NN and LR"
   ]
  },
  {
   "cell_type": "code",
   "execution_count": 23,
   "id": "mental-multimedia",
   "metadata": {
    "execution": {
     "iopub.execute_input": "2021-06-13T00:24:00.106323Z",
     "iopub.status.busy": "2021-06-13T00:24:00.103305Z",
     "iopub.status.idle": "2021-06-13T00:24:00.369734Z",
     "shell.execute_reply": "2021-06-13T00:24:00.370352Z"
    },
    "papermill": {
     "duration": 0.328018,
     "end_time": "2021-06-13T00:24:00.370517",
     "exception": false,
     "start_time": "2021-06-13T00:24:00.042499",
     "status": "completed"
    },
    "tags": []
   },
   "outputs": [
    {
     "data": {
      "text/plain": [
       "<matplotlib.legend.Legend at 0x7f9305a1c0f0>"
      ]
     },
     "execution_count": 23,
     "metadata": {},
     "output_type": "execute_result"
    },
    {
     "data": {
      "image/png": "[encoded data removed]",
      "text/plain": [
       "<Figure size 1080x720 with 1 Axes>"
      ]
     },
     "metadata": {
      "needs_background": "light"
     },
     "output_type": "display_data"
    }
   ],
   "source": [
    "plt.figure(figsize=(15,10))\n",
    "\n",
    "# Neural Network plots\n",
    "plt.plot(acc_nn.accuracies, 'r-', label = \"Training Accuracies - NN\")\n",
    "plt.plot(acc_nn.test_accuracies, 'g-', label = \"Testing Accuracies - NN\")\n",
    "\n",
    "# Logistic Regression plots\n",
    "plt.plot(acc_lr.accuracies, 'k-', label = \"Training Accuracies - LR\")\n",
    "plt.plot(acc_lr.test_accuracies, 'b-', label = \"Testing Accuracies - LR\")\n",
    "\n",
    "plt.ylim(0.8, 1)\n",
    "\n",
    "plt.legend()\n",
    "\n"
   ]
  },
  {
   "cell_type": "markdown",
   "id": "sexual-flesh",
   "metadata": {
    "papermill": {
     "duration": 0.049088,
     "end_time": "2021-06-13T00:24:00.471030",
     "exception": false,
     "start_time": "2021-06-13T00:24:00.421942",
     "status": "completed"
    },
    "tags": []
   },
   "source": [
    "### From the plot, we can observe the following:\n",
    "- Neural Network achieves higher accuracy than the Logistic Regression model.\n",
    "- This apparently, is because of overfitting, i.e. NN captures more noise than data.\n",
    "- Testing accuracy of NN drops below the Training accuracy at higher epochs. This explains the over-fitting on training data.\n",
    "- Logistic Regression gives a reliable accuracy, without the above mentioned problem.\n"
   ]
  },
  {
   "cell_type": "markdown",
   "id": "institutional-pacific",
   "metadata": {
    "papermill": {
     "duration": 0.04885,
     "end_time": "2021-06-13T00:24:00.573652",
     "exception": false,
     "start_time": "2021-06-13T00:24:00.524802",
     "status": "completed"
    },
    "tags": []
   },
   "source": [
    "### Moving till the last but one layer (excluding it).\n",
    "#### Plotting the outputs of this layer of the NN."
   ]
  },
  {
   "cell_type": "code",
   "execution_count": 24,
   "id": "economic-server",
   "metadata": {
    "execution": {
     "iopub.execute_input": "2021-06-13T00:24:00.672597Z",
     "iopub.status.busy": "2021-06-13T00:24:00.672068Z",
     "iopub.status.idle": "2021-06-13T00:24:00.683207Z",
     "shell.execute_reply": "2021-06-13T00:24:00.683668Z"
    },
    "papermill": {
     "duration": 0.062266,
     "end_time": "2021-06-13T00:24:00.683793",
     "exception": false,
     "start_time": "2021-06-13T00:24:00.621527",
     "status": "completed"
    },
    "tags": []
   },
   "outputs": [],
   "source": [
    "model_new = Model(layers[:-2])"
   ]
  },
  {
   "cell_type": "code",
   "execution_count": 25,
   "id": "varied-upgrade",
   "metadata": {
    "execution": {
     "iopub.execute_input": "2021-06-13T00:24:00.803739Z",
     "iopub.status.busy": "2021-06-13T00:24:00.803195Z",
     "iopub.status.idle": "2021-06-13T00:24:00.827381Z",
     "shell.execute_reply": "2021-06-13T00:24:00.828005Z"
    },
    "papermill": {
     "duration": 0.095074,
     "end_time": "2021-06-13T00:24:00.828147",
     "exception": false,
     "start_time": "2021-06-13T00:24:00.733073",
     "status": "completed"
    },
    "tags": []
   },
   "outputs": [],
   "source": [
    "plot_testing = model_new(testing_xdata)"
   ]
  },
  {
   "cell_type": "code",
   "execution_count": 26,
   "id": "specific-handling",
   "metadata": {
    "execution": {
     "iopub.execute_input": "2021-06-13T00:24:00.938834Z",
     "iopub.status.busy": "2021-06-13T00:24:00.938225Z",
     "iopub.status.idle": "2021-06-13T00:24:01.155334Z",
     "shell.execute_reply": "2021-06-13T00:24:01.154626Z"
    },
    "papermill": {
     "duration": 0.277539,
     "end_time": "2021-06-13T00:24:01.155453",
     "exception": false,
     "start_time": "2021-06-13T00:24:00.877914",
     "status": "completed"
    },
    "tags": []
   },
   "outputs": [
    {
     "data": {
      "text/plain": [
       "Text(0.5, 1.0, 'Outputs')"
      ]
     },
     "execution_count": 26,
     "metadata": {},
     "output_type": "execute_result"
    },
    {
     "data": {
      "image/png": "[encoded data removed]",
      "text/plain": [
       "<Figure size 576x504 with 1 Axes>"
      ]
     },
     "metadata": {
      "needs_background": "light"
     },
     "output_type": "display_data"
    }
   ],
   "source": [
    "plt.figure(figsize=(8,7))\n",
    "plt.scatter(plot_testing[:,0], plot_testing[:,1], alpha = 0.1, c = y_test.ravel());\n",
    "plt.title('Outputs')"
   ]
  },
  {
   "cell_type": "markdown",
   "id": "described-knowing",
   "metadata": {
    "papermill": {
     "duration": 0.052072,
     "end_time": "2021-06-13T00:24:01.256480",
     "exception": false,
     "start_time": "2021-06-13T00:24:01.204408",
     "status": "completed"
    },
    "tags": []
   },
   "source": [
    "### Plotting probability contours"
   ]
  },
  {
   "cell_type": "code",
   "execution_count": 27,
   "id": "needed-growing",
   "metadata": {
    "execution": {
     "iopub.execute_input": "2021-06-13T00:24:01.357643Z",
     "iopub.status.busy": "2021-06-13T00:24:01.356948Z",
     "iopub.status.idle": "2021-06-13T00:24:01.368703Z",
     "shell.execute_reply": "2021-06-13T00:24:01.368275Z"
    },
    "papermill": {
     "duration": 0.063802,
     "end_time": "2021-06-13T00:24:01.368804",
     "exception": false,
     "start_time": "2021-06-13T00:24:01.305002",
     "status": "completed"
    },
    "tags": []
   },
   "outputs": [],
   "source": [
    "model_prob = Model(layers[-2:]) "
   ]
  },
  {
   "cell_type": "code",
   "execution_count": 28,
   "id": "introductory-enforcement",
   "metadata": {
    "execution": {
     "iopub.execute_input": "2021-06-13T00:24:01.468923Z",
     "iopub.status.busy": "2021-06-13T00:24:01.468417Z",
     "iopub.status.idle": "2021-06-13T00:24:01.481210Z",
     "shell.execute_reply": "2021-06-13T00:24:01.481783Z"
    },
    "papermill": {
     "duration": 0.064819,
     "end_time": "2021-06-13T00:24:01.481916",
     "exception": false,
     "start_time": "2021-06-13T00:24:01.417097",
     "status": "completed"
    },
    "tags": []
   },
   "outputs": [],
   "source": [
    "# Adjust the x and y ranges according to the above generated plot.\n",
    "x_range = np.linspace(-4, 1, 100) \n",
    "y_range = np.linspace(-6, 6, 100) \n",
    "x_grid, y_grid = np.meshgrid(x_range, y_range) # x_grid and y_grig are of size 100 X 100\n",
    "\n",
    "# converting x_grid and y_grid to continuous arrays\n",
    "x_grid_flat = np.ravel(x_grid)\n",
    "y_grid_flat = np.ravel(y_grid)\n",
    "\n",
    "# The last layer of the current model takes two columns as input. Hence transpose of np.vstack() is required.\n",
    "X = np.vstack((x_grid_flat, y_grid_flat)).T\n",
    "\n",
    "# x_grid and y_grid are of size 100 x 100\n",
    "probability_contour = model_prob(X).reshape(100,100) "
   ]
  },
  {
   "cell_type": "code",
   "execution_count": 29,
   "id": "understood-landing",
   "metadata": {
    "execution": {
     "iopub.execute_input": "2021-06-13T00:24:01.598673Z",
     "iopub.status.busy": "2021-06-13T00:24:01.598173Z",
     "iopub.status.idle": "2021-06-13T00:24:01.863390Z",
     "shell.execute_reply": "2021-06-13T00:24:01.862853Z"
    },
    "papermill": {
     "duration": 0.326466,
     "end_time": "2021-06-13T00:24:01.863513",
     "exception": false,
     "start_time": "2021-06-13T00:24:01.537047",
     "status": "completed"
    },
    "tags": []
   },
   "outputs": [
    {
     "data": {
      "image/png": "[encoded data removed]",
      "text/plain": [
       "<Figure size 720x648 with 1 Axes>"
      ]
     },
     "metadata": {
      "needs_background": "light"
     },
     "output_type": "display_data"
    }
   ],
   "source": [
    "plt.figure(figsize=(10,9))\n",
    "plt.scatter(plot_testing[:,0], plot_testing[:,1], alpha = 0.1, c = y_test.ravel())\n",
    "contours = plt.contour(x_grid,y_grid,probability_contour)\n",
    "plt.title('Probability Contours')\n",
    "plt.clabel(contours, inline = True );"
   ]
  }
 ],
 "metadata": {
  "kernelspec": {
   "display_name": "Python 3",
   "language": "python",
   "name": "python3"
  },
  "language_info": {
   "codemirror_mode": {
    "name": "ipython",
    "version": 3
   },
   "file_extension": ".py",
   "mimetype": "text/x-python",
   "name": "python",
   "nbconvert_exporter": "python",
   "pygments_lexer": "ipython3",
   "version": "3.6.13"
  },
  "papermill": {
   "duration": 410.652081,
   "end_time": "2021-06-13T00:24:02.225291",
   "environment_variables": {},
   "exception": null,
   "input_path": "2020-08-11-NeuralNetwork.ipynb",
   "output_path": "2020-08-11-NeuralNetwork.ipynb",
   "parameters": {},
   "start_time": "2021-06-13T00:17:11.573210",
   "version": "2.1.2"
  }
 },
 "nbformat": 4,
 "nbformat_minor": 5
}