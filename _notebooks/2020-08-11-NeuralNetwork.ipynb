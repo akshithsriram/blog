{
 "cells": [
  {
   "cell_type": "markdown",
   "id": "fitted-suggestion",
   "metadata": {
    "papermill": {
     "duration": 0.026351,
     "end_time": "2021-02-26T10:04:14.789949",
     "exception": false,
     "start_time": "2021-02-26T10:04:14.763598",
     "status": "completed"
    },
    "tags": []
   },
   "source": [
    "# \"A Basic Neural Network: Differentiate Hand-Written Digits\"\n",
    "\n",
    "- badges: true\n",
    "- author: Akshith Sriram"
   ]
  },
  {
   "cell_type": "markdown",
   "id": "signal-flexibility",
   "metadata": {
    "papermill": {
     "duration": 0.023291,
     "end_time": "2021-02-26T10:04:14.836650",
     "exception": false,
     "start_time": "2021-02-26T10:04:14.813359",
     "status": "completed"
    },
    "tags": []
   },
   "source": [
    "### Key Objectives:\n",
    "- Building a neural network that differentiates two hand-written digits 3 and 8.\n",
    "- Comparing the results of this Neural Network (NN) to that of a Logistic Regression (LR) model.\n",
    "\n",
    "### Requirements:\n",
    "- 'Kudzu' : A neural network library that was designed during our course by [Univ.AI](www.univ.ai). \n",
    "- MNIST Database\n",
    "\n",
    "If MNIST is not installed, use the command `!pip install mnist` given below.\n",
    "It can be run both from the command line and Jupyter Notebook."
   ]
  },
  {
   "cell_type": "code",
   "execution_count": 1,
   "id": "british-texture",
   "metadata": {
    "execution": {
     "iopub.execute_input": "2021-02-26T10:04:14.891919Z",
     "iopub.status.busy": "2021-02-26T10:04:14.891333Z",
     "iopub.status.idle": "2021-02-26T10:04:16.243269Z",
     "shell.execute_reply": "2021-02-26T10:04:16.243746Z"
    },
    "papermill": {
     "duration": 1.38563,
     "end_time": "2021-02-26T10:04:16.243927",
     "exception": false,
     "start_time": "2021-02-26T10:04:14.858297",
     "status": "completed"
    },
    "tags": []
   },
   "outputs": [
    {
     "name": "stdout",
     "output_type": "stream",
     "text": [
      "Collecting mnist\r\n"
     ]
    },
    {
     "name": "stdout",
     "output_type": "stream",
     "text": [
      "  Downloading mnist-0.2.2-py2.py3-none-any.whl (3.5 kB)\r\n",
      "Requirement already satisfied: numpy in /opt/hostedtoolcache/Python/3.6.13/x64/lib/python3.6/site-packages (from mnist) (1.19.5)\r\n"
     ]
    },
    {
     "name": "stdout",
     "output_type": "stream",
     "text": [
      "Installing collected packages: mnist\r\n"
     ]
    },
    {
     "name": "stdout",
     "output_type": "stream",
     "text": [
      "Successfully installed mnist-0.2.2\r\n"
     ]
    }
   ],
   "source": [
    "!pip install mnist "
   ]
  },
  {
   "cell_type": "markdown",
   "id": "stunning-extra",
   "metadata": {
    "papermill": {
     "duration": 0.026115,
     "end_time": "2021-02-26T10:04:16.296656",
     "exception": false,
     "start_time": "2021-02-26T10:04:16.270541",
     "status": "completed"
    },
    "tags": []
   },
   "source": [
    "#### Importing necessary libraries"
   ]
  },
  {
   "cell_type": "code",
   "execution_count": 2,
   "id": "wooden-france",
   "metadata": {
    "execution": {
     "iopub.execute_input": "2021-02-26T10:04:16.350475Z",
     "iopub.status.busy": "2021-02-26T10:04:16.349973Z",
     "iopub.status.idle": "2021-02-26T10:04:16.853651Z",
     "shell.execute_reply": "2021-02-26T10:04:16.853077Z"
    },
    "papermill": {
     "duration": 0.533972,
     "end_time": "2021-02-26T10:04:16.853790",
     "exception": false,
     "start_time": "2021-02-26T10:04:16.319818",
     "status": "completed"
    },
    "tags": []
   },
   "outputs": [],
   "source": [
    "%load_ext autoreload\n",
    "%autoreload 2\n",
    "\n",
    "%matplotlib inline\n",
    "import matplotlib.pyplot as plt\n",
    "\n",
    "import numpy as np\n",
    "import pandas as pd"
   ]
  },
  {
   "cell_type": "markdown",
   "id": "stunning-physics",
   "metadata": {
    "papermill": {
     "duration": 0.023175,
     "end_time": "2021-02-26T10:04:16.902856",
     "exception": false,
     "start_time": "2021-02-26T10:04:16.879681",
     "status": "completed"
    },
    "tags": []
   },
   "source": [
    "### Preparing the Data"
   ]
  },
  {
   "cell_type": "code",
   "execution_count": 3,
   "id": "unauthorized-remainder",
   "metadata": {
    "execution": {
     "iopub.execute_input": "2021-02-26T10:04:16.953710Z",
     "iopub.status.busy": "2021-02-26T10:04:16.953119Z",
     "iopub.status.idle": "2021-02-26T10:04:16.964490Z",
     "shell.execute_reply": "2021-02-26T10:04:16.964870Z"
    },
    "papermill": {
     "duration": 0.038283,
     "end_time": "2021-02-26T10:04:16.964983",
     "exception": false,
     "start_time": "2021-02-26T10:04:16.926700",
     "status": "completed"
    },
    "tags": []
   },
   "outputs": [],
   "source": [
    "import mnist"
   ]
  },
  {
   "cell_type": "code",
   "execution_count": 4,
   "id": "correct-antarctica",
   "metadata": {
    "execution": {
     "iopub.execute_input": "2021-02-26T10:04:17.014397Z",
     "iopub.status.busy": "2021-02-26T10:04:17.013981Z",
     "iopub.status.idle": "2021-02-26T10:04:17.748041Z",
     "shell.execute_reply": "2021-02-26T10:04:17.747065Z"
    },
    "papermill": {
     "duration": 0.760049,
     "end_time": "2021-02-26T10:04:17.748148",
     "exception": false,
     "start_time": "2021-02-26T10:04:16.988099",
     "status": "completed"
    },
    "tags": []
   },
   "outputs": [],
   "source": [
    "train_images = mnist.train_images()\n",
    "train_labels = mnist.train_labels()"
   ]
  },
  {
   "cell_type": "code",
   "execution_count": 5,
   "id": "musical-prospect",
   "metadata": {
    "execution": {
     "iopub.execute_input": "2021-02-26T10:04:17.814433Z",
     "iopub.status.busy": "2021-02-26T10:04:17.808278Z",
     "iopub.status.idle": "2021-02-26T10:04:17.823276Z",
     "shell.execute_reply": "2021-02-26T10:04:17.822780Z"
    },
    "papermill": {
     "duration": 0.047088,
     "end_time": "2021-02-26T10:04:17.823400",
     "exception": false,
     "start_time": "2021-02-26T10:04:17.776312",
     "status": "completed"
    },
    "tags": []
   },
   "outputs": [
    {
     "data": {
      "text/plain": [
       "((60000, 28, 28), (60000,))"
      ]
     },
     "execution_count": 5,
     "metadata": {},
     "output_type": "execute_result"
    }
   ],
   "source": [
    "train_images.shape, train_labels.shape"
   ]
  },
  {
   "cell_type": "code",
   "execution_count": 6,
   "id": "preliminary-elizabeth",
   "metadata": {
    "execution": {
     "iopub.execute_input": "2021-02-26T10:04:17.886513Z",
     "iopub.status.busy": "2021-02-26T10:04:17.885973Z",
     "iopub.status.idle": "2021-02-26T10:04:18.200927Z",
     "shell.execute_reply": "2021-02-26T10:04:18.200204Z"
    },
    "papermill": {
     "duration": 0.350035,
     "end_time": "2021-02-26T10:04:18.201065",
     "exception": false,
     "start_time": "2021-02-26T10:04:17.851030",
     "status": "completed"
    },
    "tags": []
   },
   "outputs": [],
   "source": [
    "test_images = mnist.test_images()\n",
    "test_labels = mnist.test_labels()"
   ]
  },
  {
   "cell_type": "code",
   "execution_count": 7,
   "id": "acknowledged-oxygen",
   "metadata": {
    "execution": {
     "iopub.execute_input": "2021-02-26T10:04:18.262659Z",
     "iopub.status.busy": "2021-02-26T10:04:18.262240Z",
     "iopub.status.idle": "2021-02-26T10:04:18.274633Z",
     "shell.execute_reply": "2021-02-26T10:04:18.274277Z"
    },
    "papermill": {
     "duration": 0.044658,
     "end_time": "2021-02-26T10:04:18.274722",
     "exception": false,
     "start_time": "2021-02-26T10:04:18.230064",
     "status": "completed"
    },
    "tags": []
   },
   "outputs": [
    {
     "data": {
      "text/plain": [
       "((10000, 28, 28), (10000,))"
      ]
     },
     "execution_count": 7,
     "metadata": {},
     "output_type": "execute_result"
    }
   ],
   "source": [
    "test_images.shape, test_labels.shape"
   ]
  },
  {
   "cell_type": "code",
   "execution_count": 8,
   "id": "innovative-organic",
   "metadata": {
    "execution": {
     "iopub.execute_input": "2021-02-26T10:04:18.327776Z",
     "iopub.status.busy": "2021-02-26T10:04:18.327315Z",
     "iopub.status.idle": "2021-02-26T10:04:18.451979Z",
     "shell.execute_reply": "2021-02-26T10:04:18.452590Z"
    },
    "papermill": {
     "duration": 0.154211,
     "end_time": "2021-02-26T10:04:18.452766",
     "exception": false,
     "start_time": "2021-02-26T10:04:18.298555",
     "status": "completed"
    },
    "tags": []
   },
   "outputs": [
    {
     "name": "stdout",
     "output_type": "stream",
     "text": [
      "2\n"
     ]
    },
    {
     "data": {
      "text/plain": [
       "<matplotlib.image.AxesImage at 0x7f0132b764a8>"
      ]
     },
     "execution_count": 8,
     "metadata": {},
     "output_type": "execute_result"
    },
    {
     "data": {
      "image/png": "[encoded data removed]",
      "text/plain": [
       "<Figure size 432x288 with 1 Axes>"
      ]
     },
     "metadata": {
      "needs_background": "light"
     },
     "output_type": "display_data"
    }
   ],
   "source": [
    "image_index = 7776 # You may select anything up to 60,000\n",
    "print(train_labels[image_index]) \n",
    "plt.imshow(train_images[image_index], cmap='Greys')"
   ]
  },
  {
   "cell_type": "markdown",
   "id": "facial-modem",
   "metadata": {
    "papermill": {
     "duration": 0.026018,
     "end_time": "2021-02-26T10:04:18.508424",
     "exception": false,
     "start_time": "2021-02-26T10:04:18.482406",
     "status": "completed"
    },
    "tags": []
   },
   "source": [
    "## Filter data to get 3 and 8 out"
   ]
  },
  {
   "cell_type": "code",
   "execution_count": 9,
   "id": "thousand-acquisition",
   "metadata": {
    "execution": {
     "iopub.execute_input": "2021-02-26T10:04:18.566627Z",
     "iopub.status.busy": "2021-02-26T10:04:18.566047Z",
     "iopub.status.idle": "2021-02-26T10:04:18.580001Z",
     "shell.execute_reply": "2021-02-26T10:04:18.579534Z"
    },
    "papermill": {
     "duration": 0.047674,
     "end_time": "2021-02-26T10:04:18.580127",
     "exception": false,
     "start_time": "2021-02-26T10:04:18.532453",
     "status": "completed"
    },
    "tags": []
   },
   "outputs": [],
   "source": [
    "train_filter = np.where((train_labels == 3 ) | (train_labels == 8))\n",
    "test_filter = np.where((test_labels == 3) | (test_labels == 8))\n",
    "X_train, y_train = train_images[train_filter], train_labels[train_filter]\n",
    "X_test, y_test = test_images[test_filter], test_labels[test_filter]"
   ]
  },
  {
   "cell_type": "markdown",
   "id": "ruled-access",
   "metadata": {
    "papermill": {
     "duration": 0.029321,
     "end_time": "2021-02-26T10:04:18.637659",
     "exception": false,
     "start_time": "2021-02-26T10:04:18.608338",
     "status": "completed"
    },
    "tags": []
   },
   "source": [
    "We normalize the pixel values in the 0 to 1 range"
   ]
  },
  {
   "cell_type": "code",
   "execution_count": 10,
   "id": "isolated-denver",
   "metadata": {
    "execution": {
     "iopub.execute_input": "2021-02-26T10:04:18.691084Z",
     "iopub.status.busy": "2021-02-26T10:04:18.690495Z",
     "iopub.status.idle": "2021-02-26T10:04:18.740342Z",
     "shell.execute_reply": "2021-02-26T10:04:18.739791Z"
    },
    "papermill": {
     "duration": 0.077821,
     "end_time": "2021-02-26T10:04:18.740483",
     "exception": false,
     "start_time": "2021-02-26T10:04:18.662662",
     "status": "completed"
    },
    "tags": []
   },
   "outputs": [],
   "source": [
    "X_train = X_train/255.\n",
    "X_test = X_test/255."
   ]
  },
  {
   "cell_type": "markdown",
   "id": "perfect-summary",
   "metadata": {
    "papermill": {
     "duration": 0.028824,
     "end_time": "2021-02-26T10:04:18.799839",
     "exception": false,
     "start_time": "2021-02-26T10:04:18.771015",
     "status": "completed"
    },
    "tags": []
   },
   "source": [
    "Setup the labels as 1 (when the digit is 3) and 0 (when the digit is 8)"
   ]
  },
  {
   "cell_type": "code",
   "execution_count": 11,
   "id": "personalized-growing",
   "metadata": {
    "execution": {
     "iopub.execute_input": "2021-02-26T10:04:18.853753Z",
     "iopub.status.busy": "2021-02-26T10:04:18.852768Z",
     "iopub.status.idle": "2021-02-26T10:04:18.869553Z",
     "shell.execute_reply": "2021-02-26T10:04:18.869091Z"
    },
    "papermill": {
     "duration": 0.045136,
     "end_time": "2021-02-26T10:04:18.869687",
     "exception": false,
     "start_time": "2021-02-26T10:04:18.824551",
     "status": "completed"
    },
    "tags": []
   },
   "outputs": [],
   "source": [
    "y_train = 1*(y_train==3)\n",
    "y_test = 1*(y_test==3)"
   ]
  },
  {
   "cell_type": "code",
   "execution_count": 12,
   "id": "considered-virgin",
   "metadata": {
    "execution": {
     "iopub.execute_input": "2021-02-26T10:04:18.924352Z",
     "iopub.status.busy": "2021-02-26T10:04:18.923902Z",
     "iopub.status.idle": "2021-02-26T10:04:18.939463Z",
     "shell.execute_reply": "2021-02-26T10:04:18.939109Z"
    },
    "papermill": {
     "duration": 0.044667,
     "end_time": "2021-02-26T10:04:18.939549",
     "exception": false,
     "start_time": "2021-02-26T10:04:18.894882",
     "status": "completed"
    },
    "tags": []
   },
   "outputs": [
    {
     "data": {
      "text/plain": [
       "((11982, 28, 28), (1984, 28, 28))"
      ]
     },
     "execution_count": 12,
     "metadata": {},
     "output_type": "execute_result"
    }
   ],
   "source": [
    "X_train.shape, X_test.shape"
   ]
  },
  {
   "cell_type": "markdown",
   "id": "civilian-mobile",
   "metadata": {
    "papermill": {
     "duration": 0.029414,
     "end_time": "2021-02-26T10:04:18.995817",
     "exception": false,
     "start_time": "2021-02-26T10:04:18.966403",
     "status": "completed"
    },
    "tags": []
   },
   "source": [
    "### Reshape the input data to create a linear array"
   ]
  },
  {
   "cell_type": "code",
   "execution_count": 13,
   "id": "colonial-adams",
   "metadata": {
    "execution": {
     "iopub.execute_input": "2021-02-26T10:04:19.058279Z",
     "iopub.status.busy": "2021-02-26T10:04:19.057838Z",
     "iopub.status.idle": "2021-02-26T10:04:19.069186Z",
     "shell.execute_reply": "2021-02-26T10:04:19.069650Z"
    },
    "papermill": {
     "duration": 0.044117,
     "end_time": "2021-02-26T10:04:19.069820",
     "exception": false,
     "start_time": "2021-02-26T10:04:19.025703",
     "status": "completed"
    },
    "tags": []
   },
   "outputs": [
    {
     "data": {
      "text/plain": [
       "((11982, 784), (1984, 784))"
      ]
     },
     "execution_count": 13,
     "metadata": {},
     "output_type": "execute_result"
    }
   ],
   "source": [
    "X_train = X_train.reshape(X_train.shape[0], -1)\n",
    "X_test = X_test.reshape(X_test.shape[0], -1)\n",
    "X_train.shape, X_test.shape"
   ]
  },
  {
   "cell_type": "markdown",
   "id": "smart-details",
   "metadata": {
    "papermill": {
     "duration": 0.027143,
     "end_time": "2021-02-26T10:04:19.127127",
     "exception": false,
     "start_time": "2021-02-26T10:04:19.099984",
     "status": "completed"
    },
    "tags": []
   },
   "source": [
    "### Importing appropriate functions from 'Kudzu'"
   ]
  },
  {
   "cell_type": "code",
   "execution_count": 14,
   "id": "celtic-trial",
   "metadata": {
    "execution": {
     "iopub.execute_input": "2021-02-26T10:04:19.189647Z",
     "iopub.status.busy": "2021-02-26T10:04:19.189031Z",
     "iopub.status.idle": "2021-02-26T10:04:19.212448Z",
     "shell.execute_reply": "2021-02-26T10:04:19.212005Z"
    },
    "papermill": {
     "duration": 0.058239,
     "end_time": "2021-02-26T10:04:19.212585",
     "exception": false,
     "start_time": "2021-02-26T10:04:19.154346",
     "status": "completed"
    },
    "tags": []
   },
   "outputs": [],
   "source": [
    "from kudzu.layer import Sigmoid\n",
    "from kudzu.layer import Relu\n",
    "from kudzu.layer import Affine, Sigmoid\n",
    "\n",
    "from kudzu.model import Model\n",
    "from kudzu.train import Learner\n",
    "from kudzu.optim import GD\n",
    "from kudzu.data import Data, Dataloader, Sampler\n",
    "\n",
    "from kudzu.callbacks import AccCallback\n",
    "from kudzu.callbacks import ClfCallback\n",
    "\n",
    "from kudzu.loss import MSE"
   ]
  },
  {
   "cell_type": "markdown",
   "id": "coupled-customer",
   "metadata": {
    "papermill": {
     "duration": 0.027007,
     "end_time": "2021-02-26T10:04:19.266781",
     "exception": false,
     "start_time": "2021-02-26T10:04:19.239774",
     "status": "completed"
    },
    "tags": []
   },
   "source": [
    "### Let us create a `Config` class, to store important parameters. \n",
    "This class essentially plays the role of a dictionary."
   ]
  },
  {
   "cell_type": "code",
   "execution_count": 15,
   "id": "young-ceiling",
   "metadata": {
    "execution": {
     "iopub.execute_input": "2021-02-26T10:04:19.327270Z",
     "iopub.status.busy": "2021-02-26T10:04:19.326796Z",
     "iopub.status.idle": "2021-02-26T10:04:19.337617Z",
     "shell.execute_reply": "2021-02-26T10:04:19.337244Z"
    },
    "papermill": {
     "duration": 0.04329,
     "end_time": "2021-02-26T10:04:19.337708",
     "exception": false,
     "start_time": "2021-02-26T10:04:19.294418",
     "status": "completed"
    },
    "tags": []
   },
   "outputs": [],
   "source": [
    "class Config:\n",
    "    pass\n",
    "config = Config()\n",
    "config.lr = 0.001\n",
    "config.num_epochs = 251\n",
    "config.bs = 50"
   ]
  },
  {
   "cell_type": "markdown",
   "id": "according-mandate",
   "metadata": {
    "papermill": {
     "duration": 0.024229,
     "end_time": "2021-02-26T10:04:19.389019",
     "exception": false,
     "start_time": "2021-02-26T10:04:19.364790",
     "status": "completed"
    },
    "tags": []
   },
   "source": [
    "### Initializing data to the variables"
   ]
  },
  {
   "cell_type": "code",
   "execution_count": 16,
   "id": "academic-disposition",
   "metadata": {
    "execution": {
     "iopub.execute_input": "2021-02-26T10:04:19.441922Z",
     "iopub.status.busy": "2021-02-26T10:04:19.441353Z",
     "iopub.status.idle": "2021-02-26T10:04:19.452788Z",
     "shell.execute_reply": "2021-02-26T10:04:19.452460Z"
    },
    "papermill": {
     "duration": 0.038787,
     "end_time": "2021-02-26T10:04:19.452871",
     "exception": false,
     "start_time": "2021-02-26T10:04:19.414084",
     "status": "completed"
    },
    "tags": []
   },
   "outputs": [],
   "source": [
    "data = Data(X_train, y_train.reshape(-1,1))\n",
    "sampler = Sampler(data, config.bs, shuffle=True)\n",
    "\n",
    "dl = Dataloader(data, sampler)\n",
    "\n",
    "opt = GD(config.lr)\n",
    "loss = MSE()"
   ]
  },
  {
   "cell_type": "code",
   "execution_count": 17,
   "id": "featured-commission",
   "metadata": {
    "execution": {
     "iopub.execute_input": "2021-02-26T10:04:19.506828Z",
     "iopub.status.busy": "2021-02-26T10:04:19.506423Z",
     "iopub.status.idle": "2021-02-26T10:04:19.517790Z",
     "shell.execute_reply": "2021-02-26T10:04:19.518133Z"
    },
    "papermill": {
     "duration": 0.04105,
     "end_time": "2021-02-26T10:04:19.518226",
     "exception": false,
     "start_time": "2021-02-26T10:04:19.477176",
     "status": "completed"
    },
    "tags": []
   },
   "outputs": [],
   "source": [
    "training_xdata = X_train\n",
    "testing_xdata = X_test\n",
    "training_ydata = y_train.reshape(-1,1)\n",
    "testing_ydata = y_test.reshape(-1,1)"
   ]
  },
  {
   "cell_type": "markdown",
   "id": "played-safety",
   "metadata": {
    "papermill": {
     "duration": 0.026619,
     "end_time": "2021-02-26T10:04:19.569984",
     "exception": false,
     "start_time": "2021-02-26T10:04:19.543365",
     "status": "completed"
    },
    "tags": []
   },
   "source": [
    "### Running Models with the Training data\n",
    "Details about the network layers:\n",
    "- A first affine layer has 784 inputs and does 100 affine transforms. These are followed by a Relu\n",
    "- A second affine layer has 100 inputs from the 100 activations of the past layer, and does 100 affine transforms. These are followed by a Relu\n",
    "- A third affine layer has 100 activations and does 2 affine transformations to create an embedding for visualization. There is no non-linearity here.\n",
    "- A final \"logistic regression\" which has an affine transform from 2 inputs to 1 output, which is squeezed through a sigmoid.\n",
    "\n",
    "Help taken from Anshuman's Notebook."
   ]
  },
  {
   "cell_type": "code",
   "execution_count": 18,
   "id": "asian-bankruptcy",
   "metadata": {
    "execution": {
     "iopub.execute_input": "2021-02-26T10:04:19.631496Z",
     "iopub.status.busy": "2021-02-26T10:04:19.630910Z",
     "iopub.status.idle": "2021-02-26T10:04:19.646944Z",
     "shell.execute_reply": "2021-02-26T10:04:19.647325Z"
    },
    "papermill": {
     "duration": 0.04834,
     "end_time": "2021-02-26T10:04:19.647435",
     "exception": false,
     "start_time": "2021-02-26T10:04:19.599095",
     "status": "completed"
    },
    "tags": []
   },
   "outputs": [],
   "source": [
    "# layers for the Neural Network\n",
    "layers = [Affine(\"first\", 784, 100), Relu(\"first\"), Affine(\"second\", 100, 100), Relu(\"second\"), Affine(\"third\", 100, 2), Affine(\"final\", 2, 1), Sigmoid(\"final\")]\n",
    "model_nn = Model(layers)\n",
    "\n",
    "# layers for the Logistic Regression\n",
    "layers_lr = [Affine(\"logits\", 784, 1), Sigmoid(\"sigmoid\")]\n",
    "model_lr = Model(layers_lr)"
   ]
  },
  {
   "cell_type": "code",
   "execution_count": 19,
   "id": "removed-butler",
   "metadata": {
    "execution": {
     "iopub.execute_input": "2021-02-26T10:04:19.700935Z",
     "iopub.status.busy": "2021-02-26T10:04:19.700471Z",
     "iopub.status.idle": "2021-02-26T10:04:19.711458Z",
     "shell.execute_reply": "2021-02-26T10:04:19.711876Z"
    },
    "papermill": {
     "duration": 0.039766,
     "end_time": "2021-02-26T10:04:19.711973",
     "exception": false,
     "start_time": "2021-02-26T10:04:19.672207",
     "status": "completed"
    },
    "tags": []
   },
   "outputs": [],
   "source": [
    "# suffix _nn stands for Neural Network.\n",
    "learner_nn = Learner(loss, model_nn, opt, config.num_epochs)\n",
    "acc_nn = ClfCallback(learner_nn, config.bs, training_xdata , testing_xdata, training_ydata, testing_ydata)\n",
    "learner_nn.set_callbacks([acc_nn])"
   ]
  },
  {
   "cell_type": "code",
   "execution_count": 20,
   "id": "conceptual-throw",
   "metadata": {
    "execution": {
     "iopub.execute_input": "2021-02-26T10:04:19.765029Z",
     "iopub.status.busy": "2021-02-26T10:04:19.764565Z",
     "iopub.status.idle": "2021-02-26T10:05:40.646803Z",
     "shell.execute_reply": "2021-02-26T10:05:40.647257Z"
    },
    "papermill": {
     "duration": 80.911728,
     "end_time": "2021-02-26T10:05:40.647382",
     "exception": false,
     "start_time": "2021-02-26T10:04:19.735654",
     "status": "completed"
    },
    "tags": []
   },
   "outputs": [
    {
     "name": "stdout",
     "output_type": "stream",
     "text": [
      "====== Neural Network ======\n"
     ]
    },
    {
     "name": "stdout",
     "output_type": "stream",
     "text": [
      "Epoch 0, Loss 0.2517\n",
      "Training Accuracy: 0.5169, Testing Accuracy: 0.5086\n",
      "\n"
     ]
    },
    {
     "name": "stdout",
     "output_type": "stream",
     "text": [
      "Epoch 10, Loss 0.1729\n",
      "Training Accuracy: 0.8960, Testing Accuracy: 0.8977\n",
      "\n"
     ]
    },
    {
     "name": "stdout",
     "output_type": "stream",
     "text": [
      "Epoch 20, Loss 0.0827\n",
      "Training Accuracy: 0.9230, Testing Accuracy: 0.9325\n",
      "\n"
     ]
    },
    {
     "name": "stdout",
     "output_type": "stream",
     "text": [
      "Epoch 30, Loss 0.0555\n",
      "Training Accuracy: 0.9416, Testing Accuracy: 0.9516\n",
      "\n"
     ]
    },
    {
     "name": "stdout",
     "output_type": "stream",
     "text": [
      "Epoch 40, Loss 0.0445\n",
      "Training Accuracy: 0.9512, Testing Accuracy: 0.9556\n",
      "\n"
     ]
    },
    {
     "name": "stdout",
     "output_type": "stream",
     "text": [
      "Epoch 50, Loss 0.0387\n",
      "Training Accuracy: 0.9574, Testing Accuracy: 0.9627\n",
      "\n"
     ]
    },
    {
     "name": "stdout",
     "output_type": "stream",
     "text": [
      "Epoch 60, Loss 0.0352\n",
      "Training Accuracy: 0.9594, Testing Accuracy: 0.9647\n",
      "\n"
     ]
    },
    {
     "name": "stdout",
     "output_type": "stream",
     "text": [
      "Epoch 70, Loss 0.0327\n",
      "Training Accuracy: 0.9624, Testing Accuracy: 0.9682\n",
      "\n"
     ]
    },
    {
     "name": "stdout",
     "output_type": "stream",
     "text": [
      "Epoch 80, Loss 0.0309\n",
      "Training Accuracy: 0.9646, Testing Accuracy: 0.9688\n",
      "\n"
     ]
    },
    {
     "name": "stdout",
     "output_type": "stream",
     "text": [
      "Epoch 90, Loss 0.0295\n",
      "Training Accuracy: 0.9658, Testing Accuracy: 0.9693\n",
      "\n"
     ]
    },
    {
     "name": "stdout",
     "output_type": "stream",
     "text": [
      "Epoch 100, Loss 0.0283\n",
      "Training Accuracy: 0.9669, Testing Accuracy: 0.9708\n",
      "\n"
     ]
    },
    {
     "name": "stdout",
     "output_type": "stream",
     "text": [
      "Epoch 110, Loss 0.0272\n",
      "Training Accuracy: 0.9681, Testing Accuracy: 0.9713\n",
      "\n"
     ]
    },
    {
     "name": "stdout",
     "output_type": "stream",
     "text": [
      "Epoch 120, Loss 0.0264\n",
      "Training Accuracy: 0.9696, Testing Accuracy: 0.9708\n",
      "\n"
     ]
    },
    {
     "name": "stdout",
     "output_type": "stream",
     "text": [
      "Epoch 130, Loss 0.0256\n",
      "Training Accuracy: 0.9705, Testing Accuracy: 0.9708\n",
      "\n"
     ]
    },
    {
     "name": "stdout",
     "output_type": "stream",
     "text": [
      "Epoch 140, Loss 0.0249\n",
      "Training Accuracy: 0.9711, Testing Accuracy: 0.9713\n",
      "\n"
     ]
    },
    {
     "name": "stdout",
     "output_type": "stream",
     "text": [
      "Epoch 150, Loss 0.0242\n",
      "Training Accuracy: 0.9715, Testing Accuracy: 0.9718\n",
      "\n"
     ]
    },
    {
     "name": "stdout",
     "output_type": "stream",
     "text": [
      "Epoch 160, Loss 0.0237\n",
      "Training Accuracy: 0.9720, Testing Accuracy: 0.9728\n",
      "\n"
     ]
    },
    {
     "name": "stdout",
     "output_type": "stream",
     "text": [
      "Epoch 170, Loss 0.0231\n",
      "Training Accuracy: 0.9727, Testing Accuracy: 0.9738\n",
      "\n"
     ]
    },
    {
     "name": "stdout",
     "output_type": "stream",
     "text": [
      "Epoch 180, Loss 0.0226\n",
      "Training Accuracy: 0.9731, Testing Accuracy: 0.9743\n",
      "\n"
     ]
    },
    {
     "name": "stdout",
     "output_type": "stream",
     "text": [
      "Epoch 190, Loss 0.0221\n",
      "Training Accuracy: 0.9738, Testing Accuracy: 0.9738\n",
      "\n"
     ]
    },
    {
     "name": "stdout",
     "output_type": "stream",
     "text": [
      "Epoch 200, Loss 0.0217\n",
      "Training Accuracy: 0.9746, Testing Accuracy: 0.9733\n",
      "\n"
     ]
    },
    {
     "name": "stdout",
     "output_type": "stream",
     "text": [
      "Epoch 210, Loss 0.0212\n",
      "Training Accuracy: 0.9752, Testing Accuracy: 0.9738\n",
      "\n"
     ]
    },
    {
     "name": "stdout",
     "output_type": "stream",
     "text": [
      "Epoch 220, Loss 0.0208\n",
      "Training Accuracy: 0.9757, Testing Accuracy: 0.9738\n",
      "\n"
     ]
    },
    {
     "name": "stdout",
     "output_type": "stream",
     "text": [
      "Epoch 230, Loss 0.0204\n",
      "Training Accuracy: 0.9765, Testing Accuracy: 0.9738\n",
      "\n"
     ]
    },
    {
     "name": "stdout",
     "output_type": "stream",
     "text": [
      "Epoch 240, Loss 0.02\n",
      "Training Accuracy: 0.9771, Testing Accuracy: 0.9743\n",
      "\n"
     ]
    },
    {
     "name": "stdout",
     "output_type": "stream",
     "text": [
      "Epoch 250, Loss 0.0197\n",
      "Training Accuracy: 0.9775, Testing Accuracy: 0.9748\n",
      "\n"
     ]
    },
    {
     "data": {
      "text/plain": [
       "0.021301973770061156"
      ]
     },
     "execution_count": 20,
     "metadata": {},
     "output_type": "execute_result"
    }
   ],
   "source": [
    "print(\"====== Neural Network ======\")\n",
    "learner_nn.train_loop(dl)"
   ]
  },
  {
   "cell_type": "markdown",
   "id": "competent-suffering",
   "metadata": {
    "papermill": {
     "duration": 0.031593,
     "end_time": "2021-02-26T10:05:40.712495",
     "exception": false,
     "start_time": "2021-02-26T10:05:40.680902",
     "status": "completed"
    },
    "tags": []
   },
   "source": [
    "### Logistic Regression based Implementation."
   ]
  },
  {
   "cell_type": "code",
   "execution_count": 21,
   "id": "qualified-psychiatry",
   "metadata": {
    "execution": {
     "iopub.execute_input": "2021-02-26T10:05:40.794338Z",
     "iopub.status.busy": "2021-02-26T10:05:40.791896Z",
     "iopub.status.idle": "2021-02-26T10:05:40.804418Z",
     "shell.execute_reply": "2021-02-26T10:05:40.804000Z"
    },
    "papermill": {
     "duration": 0.055898,
     "end_time": "2021-02-26T10:05:40.804535",
     "exception": false,
     "start_time": "2021-02-26T10:05:40.748637",
     "status": "completed"
    },
    "tags": []
   },
   "outputs": [],
   "source": [
    "learner_lr = Learner(loss, model_lr, opt, config.num_epochs)\n",
    "acc_lr = ClfCallback(learner_lr, config.bs, training_xdata , testing_xdata, training_ydata, testing_ydata)\n",
    "learner_lr.set_callbacks([acc_lr])"
   ]
  },
  {
   "cell_type": "code",
   "execution_count": 22,
   "id": "average-outside",
   "metadata": {
    "execution": {
     "iopub.execute_input": "2021-02-26T10:05:40.884259Z",
     "iopub.status.busy": "2021-02-26T10:05:40.880746Z",
     "iopub.status.idle": "2021-02-26T10:05:55.452740Z",
     "shell.execute_reply": "2021-02-26T10:05:55.453558Z"
    },
    "papermill": {
     "duration": 14.613941,
     "end_time": "2021-02-26T10:05:55.453740",
     "exception": false,
     "start_time": "2021-02-26T10:05:40.839799",
     "status": "completed"
    },
    "tags": []
   },
   "outputs": [
    {
     "name": "stdout",
     "output_type": "stream",
     "text": [
      "====== Logistic Regression ======\n",
      "Epoch 0, Loss 0.2564\n",
      "Training Accuracy: 0.6406, Testing Accuracy: 0.6880\n",
      "\n"
     ]
    },
    {
     "name": "stdout",
     "output_type": "stream",
     "text": [
      "Epoch 10, Loss 0.1053\n",
      "Training Accuracy: 0.9030, Testing Accuracy: 0.9123\n",
      "\n"
     ]
    },
    {
     "name": "stdout",
     "output_type": "stream",
     "text": [
      "Epoch 20, Loss 0.0807\n",
      "Training Accuracy: 0.9229, Testing Accuracy: 0.9330\n",
      "\n"
     ]
    },
    {
     "name": "stdout",
     "output_type": "stream",
     "text": [
      "Epoch 30, Loss 0.0694\n",
      "Training Accuracy: 0.9337, Testing Accuracy: 0.9430\n",
      "\n"
     ]
    },
    {
     "name": "stdout",
     "output_type": "stream",
     "text": [
      "Epoch 40, Loss 0.0626\n",
      "Training Accuracy: 0.9395, Testing Accuracy: 0.9501\n",
      "\n"
     ]
    },
    {
     "name": "stdout",
     "output_type": "stream",
     "text": [
      "Epoch 50, Loss 0.0579\n",
      "Training Accuracy: 0.9427, Testing Accuracy: 0.9556\n",
      "\n"
     ]
    },
    {
     "name": "stdout",
     "output_type": "stream",
     "text": [
      "Epoch 60, Loss 0.0546\n",
      "Training Accuracy: 0.9451, Testing Accuracy: 0.9592\n",
      "\n"
     ]
    },
    {
     "name": "stdout",
     "output_type": "stream",
     "text": [
      "Epoch 70, Loss 0.0519\n",
      "Training Accuracy: 0.9476, Testing Accuracy: 0.9617\n",
      "\n"
     ]
    },
    {
     "name": "stdout",
     "output_type": "stream",
     "text": [
      "Epoch 80, Loss 0.0499\n",
      "Training Accuracy: 0.9493, Testing Accuracy: 0.9627\n",
      "\n"
     ]
    },
    {
     "name": "stdout",
     "output_type": "stream",
     "text": [
      "Epoch 90, Loss 0.0481\n",
      "Training Accuracy: 0.9504, Testing Accuracy: 0.9627\n",
      "\n"
     ]
    },
    {
     "name": "stdout",
     "output_type": "stream",
     "text": [
      "Epoch 100, Loss 0.0467\n",
      "Training Accuracy: 0.9518, Testing Accuracy: 0.9632\n",
      "\n"
     ]
    },
    {
     "name": "stdout",
     "output_type": "stream",
     "text": [
      "Epoch 110, Loss 0.0454\n",
      "Training Accuracy: 0.9533, Testing Accuracy: 0.9632\n",
      "\n"
     ]
    },
    {
     "name": "stdout",
     "output_type": "stream",
     "text": [
      "Epoch 120, Loss 0.0444\n",
      "Training Accuracy: 0.9541, Testing Accuracy: 0.9632\n",
      "\n"
     ]
    },
    {
     "name": "stdout",
     "output_type": "stream",
     "text": [
      "Epoch 130, Loss 0.0434\n",
      "Training Accuracy: 0.9551, Testing Accuracy: 0.9627\n",
      "\n"
     ]
    },
    {
     "name": "stdout",
     "output_type": "stream",
     "text": [
      "Epoch 140, Loss 0.0426\n",
      "Training Accuracy: 0.9555, Testing Accuracy: 0.9632\n",
      "\n"
     ]
    },
    {
     "name": "stdout",
     "output_type": "stream",
     "text": [
      "Epoch 150, Loss 0.0418\n",
      "Training Accuracy: 0.9564, Testing Accuracy: 0.9642\n",
      "\n"
     ]
    },
    {
     "name": "stdout",
     "output_type": "stream",
     "text": [
      "Epoch 160, Loss 0.0411\n",
      "Training Accuracy: 0.9569, Testing Accuracy: 0.9647\n",
      "\n"
     ]
    },
    {
     "name": "stdout",
     "output_type": "stream",
     "text": [
      "Epoch 170, Loss 0.0405\n",
      "Training Accuracy: 0.9574, Testing Accuracy: 0.9652\n",
      "\n"
     ]
    },
    {
     "name": "stdout",
     "output_type": "stream",
     "text": [
      "Epoch 180, Loss 0.0399\n",
      "Training Accuracy: 0.9580, Testing Accuracy: 0.9652\n",
      "\n"
     ]
    },
    {
     "name": "stdout",
     "output_type": "stream",
     "text": [
      "Epoch 190, Loss 0.0394\n",
      "Training Accuracy: 0.9582, Testing Accuracy: 0.9652\n",
      "\n"
     ]
    },
    {
     "name": "stdout",
     "output_type": "stream",
     "text": [
      "Epoch 200, Loss 0.0389\n",
      "Training Accuracy: 0.9586, Testing Accuracy: 0.9652\n",
      "\n"
     ]
    },
    {
     "name": "stdout",
     "output_type": "stream",
     "text": [
      "Epoch 210, Loss 0.0384\n",
      "Training Accuracy: 0.9589, Testing Accuracy: 0.9652\n",
      "\n"
     ]
    },
    {
     "name": "stdout",
     "output_type": "stream",
     "text": [
      "Epoch 220, Loss 0.038\n",
      "Training Accuracy: 0.9593, Testing Accuracy: 0.9647\n",
      "\n"
     ]
    },
    {
     "name": "stdout",
     "output_type": "stream",
     "text": [
      "Epoch 230, Loss 0.0376\n",
      "Training Accuracy: 0.9598, Testing Accuracy: 0.9662\n",
      "\n"
     ]
    },
    {
     "name": "stdout",
     "output_type": "stream",
     "text": [
      "Epoch 240, Loss 0.0373\n",
      "Training Accuracy: 0.9601, Testing Accuracy: 0.9662\n",
      "\n"
     ]
    },
    {
     "name": "stdout",
     "output_type": "stream",
     "text": [
      "Epoch 250, Loss 0.0369\n",
      "Training Accuracy: 0.9605, Testing Accuracy: 0.9662\n",
      "\n"
     ]
    },
    {
     "data": {
      "text/plain": [
       "0.016794979925072562"
      ]
     },
     "execution_count": 22,
     "metadata": {},
     "output_type": "execute_result"
    }
   ],
   "source": [
    "print(\"====== Logistic Regression ======\")\n",
    "learner_lr.train_loop(dl)"
   ]
  },
  {
   "cell_type": "markdown",
   "id": "adjusted-possible",
   "metadata": {
    "papermill": {
     "duration": 0.043749,
     "end_time": "2021-02-26T10:05:55.544036",
     "exception": false,
     "start_time": "2021-02-26T10:05:55.500287",
     "status": "completed"
    },
    "tags": []
   },
   "source": [
    "### Comparing results of NN and LR"
   ]
  },
  {
   "cell_type": "code",
   "execution_count": 23,
   "id": "mental-multimedia",
   "metadata": {
    "execution": {
     "iopub.execute_input": "2021-02-26T10:05:55.637209Z",
     "iopub.status.busy": "2021-02-26T10:05:55.636622Z",
     "iopub.status.idle": "2021-02-26T10:05:55.866769Z",
     "shell.execute_reply": "2021-02-26T10:05:55.866298Z"
    },
    "papermill": {
     "duration": 0.279358,
     "end_time": "2021-02-26T10:05:55.866896",
     "exception": false,
     "start_time": "2021-02-26T10:05:55.587538",
     "status": "completed"
    },
    "tags": []
   },
   "outputs": [
    {
     "data": {
      "text/plain": [
       "<matplotlib.legend.Legend at 0x7f0125352160>"
      ]
     },
     "execution_count": 23,
     "metadata": {},
     "output_type": "execute_result"
    },
    {
     "data": {
      "image/png": "[encoded data removed]",
      "text/plain": [
       "<Figure size 1080x720 with 1 Axes>"
      ]
     },
     "metadata": {
      "needs_background": "light"
     },
     "output_type": "display_data"
    }
   ],
   "source": [
    "plt.figure(figsize=(15,10))\n",
    "\n",
    "# Neural Network plots\n",
    "plt.plot(acc_nn.accuracies, 'r-', label = \"Training Accuracies - NN\")\n",
    "plt.plot(acc_nn.test_accuracies, 'g-', label = \"Testing Accuracies - NN\")\n",
    "\n",
    "# Logistic Regression plots\n",
    "plt.plot(acc_lr.accuracies, 'k-', label = \"Training Accuracies - LR\")\n",
    "plt.plot(acc_lr.test_accuracies, 'b-', label = \"Testing Accuracies - LR\")\n",
    "\n",
    "plt.ylim(0.8, 1)\n",
    "\n",
    "plt.legend()\n",
    "\n"
   ]
  },
  {
   "cell_type": "markdown",
   "id": "sexual-flesh",
   "metadata": {
    "papermill": {
     "duration": 0.047615,
     "end_time": "2021-02-26T10:05:55.962520",
     "exception": false,
     "start_time": "2021-02-26T10:05:55.914905",
     "status": "completed"
    },
    "tags": []
   },
   "source": [
    "### From the plot, we can observe the following:\n",
    "- Neural Network achieves higher accuracy than the Logistic Regression model.\n",
    "- This apparently, is because of overfitting, i.e. NN captures more noise than data.\n",
    "- Testing accuracy of NN drops below the Training accuracy at higher epochs. This explains the over-fitting on training data.\n",
    "- Logistic Regression gives a reliable accuracy, without the above mentioned problem.\n"
   ]
  },
  {
   "cell_type": "markdown",
   "id": "institutional-pacific",
   "metadata": {
    "papermill": {
     "duration": 0.045035,
     "end_time": "2021-02-26T10:05:56.052560",
     "exception": false,
     "start_time": "2021-02-26T10:05:56.007525",
     "status": "completed"
    },
    "tags": []
   },
   "source": [
    "### Moving till the last but one layer (excluding it).\n",
    "#### Plotting the outputs of this layer of the NN."
   ]
  },
  {
   "cell_type": "code",
   "execution_count": 24,
   "id": "economic-server",
   "metadata": {
    "execution": {
     "iopub.execute_input": "2021-02-26T10:05:56.149441Z",
     "iopub.status.busy": "2021-02-26T10:05:56.148802Z",
     "iopub.status.idle": "2021-02-26T10:05:56.164057Z",
     "shell.execute_reply": "2021-02-26T10:05:56.163580Z"
    },
    "papermill": {
     "duration": 0.065435,
     "end_time": "2021-02-26T10:05:56.164174",
     "exception": false,
     "start_time": "2021-02-26T10:05:56.098739",
     "status": "completed"
    },
    "tags": []
   },
   "outputs": [],
   "source": [
    "model_new = Model(layers[:-2])"
   ]
  },
  {
   "cell_type": "code",
   "execution_count": 25,
   "id": "varied-upgrade",
   "metadata": {
    "execution": {
     "iopub.execute_input": "2021-02-26T10:05:56.267278Z",
     "iopub.status.busy": "2021-02-26T10:05:56.266348Z",
     "iopub.status.idle": "2021-02-26T10:05:56.287388Z",
     "shell.execute_reply": "2021-02-26T10:05:56.287818Z"
    },
    "papermill": {
     "duration": 0.076619,
     "end_time": "2021-02-26T10:05:56.287947",
     "exception": false,
     "start_time": "2021-02-26T10:05:56.211328",
     "status": "completed"
    },
    "tags": []
   },
   "outputs": [],
   "source": [
    "plot_testing = model_new(testing_xdata)"
   ]
  },
  {
   "cell_type": "code",
   "execution_count": 26,
   "id": "specific-handling",
   "metadata": {
    "execution": {
     "iopub.execute_input": "2021-02-26T10:05:56.391245Z",
     "iopub.status.busy": "2021-02-26T10:05:56.390664Z",
     "iopub.status.idle": "2021-02-26T10:05:56.598314Z",
     "shell.execute_reply": "2021-02-26T10:05:56.597708Z"
    },
    "papermill": {
     "duration": 0.257521,
     "end_time": "2021-02-26T10:05:56.598450",
     "exception": false,
     "start_time": "2021-02-26T10:05:56.340929",
     "status": "completed"
    },
    "tags": []
   },
   "outputs": [
    {
     "data": {
      "text/plain": [
       "Text(0.5, 1.0, 'Outputs')"
      ]
     },
     "execution_count": 26,
     "metadata": {},
     "output_type": "execute_result"
    },
    {
     "data": {
      "image/png": "[encoded data removed]",
      "text/plain": [
       "<Figure size 576x504 with 1 Axes>"
      ]
     },
     "metadata": {
      "needs_background": "light"
     },
     "output_type": "display_data"
    }
   ],
   "source": [
    "plt.figure(figsize=(8,7))\n",
    "plt.scatter(plot_testing[:,0], plot_testing[:,1], alpha = 0.1, c = y_test.ravel());\n",
    "plt.title('Outputs')"
   ]
  },
  {
   "cell_type": "markdown",
   "id": "described-knowing",
   "metadata": {
    "papermill": {
     "duration": 0.051079,
     "end_time": "2021-02-26T10:05:56.706107",
     "exception": false,
     "start_time": "2021-02-26T10:05:56.655028",
     "status": "completed"
    },
    "tags": []
   },
   "source": [
    "### Plotting probability contours"
   ]
  },
  {
   "cell_type": "code",
   "execution_count": 27,
   "id": "needed-growing",
   "metadata": {
    "execution": {
     "iopub.execute_input": "2021-02-26T10:05:56.831199Z",
     "iopub.status.busy": "2021-02-26T10:05:56.818434Z",
     "iopub.status.idle": "2021-02-26T10:05:56.834208Z",
     "shell.execute_reply": "2021-02-26T10:05:56.834648Z"
    },
    "papermill": {
     "duration": 0.074823,
     "end_time": "2021-02-26T10:05:56.834783",
     "exception": false,
     "start_time": "2021-02-26T10:05:56.759960",
     "status": "completed"
    },
    "tags": []
   },
   "outputs": [],
   "source": [
    "model_prob = Model(layers[-2:]) "
   ]
  },
  {
   "cell_type": "code",
   "execution_count": 28,
   "id": "introductory-enforcement",
   "metadata": {
    "execution": {
     "iopub.execute_input": "2021-02-26T10:05:56.949543Z",
     "iopub.status.busy": "2021-02-26T10:05:56.948979Z",
     "iopub.status.idle": "2021-02-26T10:05:56.965509Z",
     "shell.execute_reply": "2021-02-26T10:05:56.966053Z"
    },
    "papermill": {
     "duration": 0.074171,
     "end_time": "2021-02-26T10:05:56.966201",
     "exception": false,
     "start_time": "2021-02-26T10:05:56.892030",
     "status": "completed"
    },
    "tags": []
   },
   "outputs": [],
   "source": [
    "# Adjust the x and y ranges according to the above generated plot.\n",
    "x_range = np.linspace(-4, 1, 100) \n",
    "y_range = np.linspace(-6, 6, 100) \n",
    "x_grid, y_grid = np.meshgrid(x_range, y_range) # x_grid and y_grig are of size 100 X 100\n",
    "\n",
    "# converting x_grid and y_grid to continuous arrays\n",
    "x_grid_flat = np.ravel(x_grid)\n",
    "y_grid_flat = np.ravel(y_grid)\n",
    "\n",
    "# The last layer of the current model takes two columns as input. Hence transpose of np.vstack() is required.\n",
    "X = np.vstack((x_grid_flat, y_grid_flat)).T\n",
    "\n",
    "# x_grid and y_grid are of size 100 x 100\n",
    "probability_contour = model_prob(X).reshape(100,100) "
   ]
  },
  {
   "cell_type": "code",
   "execution_count": 29,
   "id": "understood-landing",
   "metadata": {
    "execution": {
     "iopub.execute_input": "2021-02-26T10:05:57.106445Z",
     "iopub.status.busy": "2021-02-26T10:05:57.102923Z",
     "iopub.status.idle": "2021-02-26T10:05:57.356265Z",
     "shell.execute_reply": "2021-02-26T10:05:57.356723Z"
    },
    "papermill": {
     "duration": 0.313172,
     "end_time": "2021-02-26T10:05:57.356877",
     "exception": false,
     "start_time": "2021-02-26T10:05:57.043705",
     "status": "completed"
    },
    "tags": []
   },
   "outputs": [
    {
     "data": {
      "image/png": "[encoded data removed]",
      "text/plain": [
       "<Figure size 720x648 with 1 Axes>"
      ]
     },
     "metadata": {
      "needs_background": "light"
     },
     "output_type": "display_data"
    }
   ],
   "source": [
    "plt.figure(figsize=(10,9))\n",
    "plt.scatter(plot_testing[:,0], plot_testing[:,1], alpha = 0.1, c = y_test.ravel())\n",
    "contours = plt.contour(x_grid,y_grid,probability_contour)\n",
    "plt.title('Probability Contours')\n",
    "plt.clabel(contours, inline = True );"
   ]
  }
 ],
 "metadata": {
  "kernelspec": {
   "display_name": "Python 3",
   "language": "python",
   "name": "python3"
  },
  "language_info": {
   "codemirror_mode": {
    "name": "ipython",
    "version": 3
   },
   "file_extension": ".py",
   "mimetype": "text/x-python",
   "name": "python",
   "nbconvert_exporter": "python",
   "pygments_lexer": "ipython3",
   "version": "3.6.13"
  },
  "papermill": {
   "duration": 104.230822,
   "end_time": "2021-02-26T10:05:57.719966",
   "environment_variables": {},
   "exception": null,
   "input_path": "2020-08-11-NeuralNetwork.ipynb",
   "output_path": "2020-08-11-NeuralNetwork.ipynb",
   "parameters": {},
   "start_time": "2021-02-26T10:04:13.489144",
   "version": "2.1.2"
  }
 },
 "nbformat": 4,
 "nbformat_minor": 5
}