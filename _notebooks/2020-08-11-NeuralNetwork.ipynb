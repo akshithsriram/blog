{
 "cells": [
  {
   "cell_type": "markdown",
   "metadata": {
    "papermill": {
     "duration": 0.026094,
     "end_time": "2021-01-04T20:10:49.671184",
     "exception": false,
     "start_time": "2021-01-04T20:10:49.645090",
     "status": "completed"
    },
    "tags": []
   },
   "source": [
    "# \"A Basic Neural Network: Differentiate Hand-Written Digits\"\n",
    "\n",
    "- badges: true\n",
    "- author: Akshith Sriram"
   ]
  },
  {
   "cell_type": "markdown",
   "metadata": {
    "papermill": {
     "duration": 0.023825,
     "end_time": "2021-01-04T20:10:49.718138",
     "exception": false,
     "start_time": "2021-01-04T20:10:49.694313",
     "status": "completed"
    },
    "tags": []
   },
   "source": [
    "### Key Objectives:\n",
    "- Building a neural network that differentiates two hand-written digits 3 and 8.\n",
    "- Comparing the results of this Neural Network (NN) to that of a Logistic Regression (LR) model.\n",
    "\n",
    "### Requirements:\n",
    "- 'Kudzu' : A neural network library that was designed during our course by [Univ.AI](www.univ.ai). \n",
    "- MNIST Database\n",
    "\n",
    "If MNIST is not installed, use the command `!pip install mnist` given below.\n",
    "It can be run both from the command line and Jupyter Notebook."
   ]
  },
  {
   "cell_type": "code",
   "execution_count": 1,
   "metadata": {
    "execution": {
     "iopub.execute_input": "2021-01-04T20:10:49.772669Z",
     "iopub.status.busy": "2021-01-04T20:10:49.772157Z",
     "iopub.status.idle": "2021-01-04T20:10:51.135834Z",
     "shell.execute_reply": "2021-01-04T20:10:51.136308Z"
    },
    "papermill": {
     "duration": 1.396095,
     "end_time": "2021-01-04T20:10:51.136504",
     "exception": false,
     "start_time": "2021-01-04T20:10:49.740409",
     "status": "completed"
    },
    "tags": []
   },
   "outputs": [
    {
     "name": "stdout",
     "output_type": "stream",
     "text": [
      "Collecting mnist\r\n"
     ]
    },
    {
     "name": "stdout",
     "output_type": "stream",
     "text": [
      "  Downloading mnist-0.2.2-py2.py3-none-any.whl (3.5 kB)\r\n",
      "Requirement already satisfied: numpy in /opt/hostedtoolcache/Python/3.6.12/x64/lib/python3.6/site-packages (from mnist) (1.19.4)\r\n"
     ]
    },
    {
     "name": "stdout",
     "output_type": "stream",
     "text": [
      "Installing collected packages: mnist\r\n"
     ]
    },
    {
     "name": "stdout",
     "output_type": "stream",
     "text": [
      "Successfully installed mnist-0.2.2\r\n"
     ]
    },
    {
     "name": "stdout",
     "output_type": "stream",
     "text": [
      "\u001b[33mWARNING: You are using pip version 20.3.1; however, version 20.3.3 is available.\r\n",
      "You should consider upgrading via the '/opt/hostedtoolcache/Python/3.6.12/x64/bin/python -m pip install --upgrade pip' command.\u001b[0m\r\n"
     ]
    }
   ],
   "source": [
    "!pip install mnist "
   ]
  },
  {
   "cell_type": "markdown",
   "metadata": {
    "papermill": {
     "duration": 0.023752,
     "end_time": "2021-01-04T20:10:51.185434",
     "exception": false,
     "start_time": "2021-01-04T20:10:51.161682",
     "status": "completed"
    },
    "tags": []
   },
   "source": [
    "#### Importing necessary libraries"
   ]
  },
  {
   "cell_type": "code",
   "execution_count": 2,
   "metadata": {
    "execution": {
     "iopub.execute_input": "2021-01-04T20:10:51.240035Z",
     "iopub.status.busy": "2021-01-04T20:10:51.239518Z",
     "iopub.status.idle": "2021-01-04T20:10:51.752557Z",
     "shell.execute_reply": "2021-01-04T20:10:51.752039Z"
    },
    "papermill": {
     "duration": 0.543594,
     "end_time": "2021-01-04T20:10:51.752708",
     "exception": false,
     "start_time": "2021-01-04T20:10:51.209114",
     "status": "completed"
    },
    "tags": []
   },
   "outputs": [],
   "source": [
    "%load_ext autoreload\n",
    "%autoreload 2\n",
    "\n",
    "%matplotlib inline\n",
    "import matplotlib.pyplot as plt\n",
    "\n",
    "import numpy as np\n",
    "import pandas as pd"
   ]
  },
  {
   "cell_type": "markdown",
   "metadata": {
    "papermill": {
     "duration": 0.023943,
     "end_time": "2021-01-04T20:10:51.800651",
     "exception": false,
     "start_time": "2021-01-04T20:10:51.776708",
     "status": "completed"
    },
    "tags": []
   },
   "source": [
    "### Preparing the Data"
   ]
  },
  {
   "cell_type": "code",
   "execution_count": 3,
   "metadata": {
    "execution": {
     "iopub.execute_input": "2021-01-04T20:10:51.864854Z",
     "iopub.status.busy": "2021-01-04T20:10:51.862192Z",
     "iopub.status.idle": "2021-01-04T20:10:51.866739Z",
     "shell.execute_reply": "2021-01-04T20:10:51.867118Z"
    },
    "papermill": {
     "duration": 0.043051,
     "end_time": "2021-01-04T20:10:51.867255",
     "exception": false,
     "start_time": "2021-01-04T20:10:51.824204",
     "status": "completed"
    },
    "tags": []
   },
   "outputs": [],
   "source": [
    "import mnist"
   ]
  },
  {
   "cell_type": "code",
   "execution_count": 4,
   "metadata": {
    "execution": {
     "iopub.execute_input": "2021-01-04T20:10:51.931079Z",
     "iopub.status.busy": "2021-01-04T20:10:51.930543Z",
     "iopub.status.idle": "2021-01-04T20:10:52.643290Z",
     "shell.execute_reply": "2021-01-04T20:10:52.643816Z"
    },
    "papermill": {
     "duration": 0.752487,
     "end_time": "2021-01-04T20:10:52.643981",
     "exception": false,
     "start_time": "2021-01-04T20:10:51.891494",
     "status": "completed"
    },
    "tags": []
   },
   "outputs": [],
   "source": [
    "train_images = mnist.train_images()\n",
    "train_labels = mnist.train_labels()"
   ]
  },
  {
   "cell_type": "code",
   "execution_count": 5,
   "metadata": {
    "execution": {
     "iopub.execute_input": "2021-01-04T20:10:52.696409Z",
     "iopub.status.busy": "2021-01-04T20:10:52.695892Z",
     "iopub.status.idle": "2021-01-04T20:10:52.708353Z",
     "shell.execute_reply": "2021-01-04T20:10:52.708780Z"
    },
    "papermill": {
     "duration": 0.040455,
     "end_time": "2021-01-04T20:10:52.708917",
     "exception": false,
     "start_time": "2021-01-04T20:10:52.668462",
     "status": "completed"
    },
    "tags": []
   },
   "outputs": [
    {
     "data": {
      "text/plain": [
       "((60000, 28, 28), (60000,))"
      ]
     },
     "execution_count": 5,
     "metadata": {},
     "output_type": "execute_result"
    }
   ],
   "source": [
    "train_images.shape, train_labels.shape"
   ]
  },
  {
   "cell_type": "code",
   "execution_count": 6,
   "metadata": {
    "execution": {
     "iopub.execute_input": "2021-01-04T20:10:52.762671Z",
     "iopub.status.busy": "2021-01-04T20:10:52.762151Z",
     "iopub.status.idle": "2021-01-04T20:10:56.290503Z",
     "shell.execute_reply": "2021-01-04T20:10:56.289967Z"
    },
    "papermill": {
     "duration": 3.557788,
     "end_time": "2021-01-04T20:10:56.290649",
     "exception": false,
     "start_time": "2021-01-04T20:10:52.732861",
     "status": "completed"
    },
    "tags": []
   },
   "outputs": [],
   "source": [
    "test_images = mnist.test_images()\n",
    "test_labels = mnist.test_labels()"
   ]
  },
  {
   "cell_type": "code",
   "execution_count": 7,
   "metadata": {
    "execution": {
     "iopub.execute_input": "2021-01-04T20:10:56.356162Z",
     "iopub.status.busy": "2021-01-04T20:10:56.354349Z",
     "iopub.status.idle": "2021-01-04T20:10:56.360867Z",
     "shell.execute_reply": "2021-01-04T20:10:56.360420Z"
    },
    "papermill": {
     "duration": 0.04599,
     "end_time": "2021-01-04T20:10:56.360992",
     "exception": false,
     "start_time": "2021-01-04T20:10:56.315002",
     "status": "completed"
    },
    "tags": []
   },
   "outputs": [
    {
     "data": {
      "text/plain": [
       "((10000, 28, 28), (10000,))"
      ]
     },
     "execution_count": 7,
     "metadata": {},
     "output_type": "execute_result"
    }
   ],
   "source": [
    "test_images.shape, test_labels.shape"
   ]
  },
  {
   "cell_type": "code",
   "execution_count": 8,
   "metadata": {
    "execution": {
     "iopub.execute_input": "2021-01-04T20:10:56.413888Z",
     "iopub.status.busy": "2021-01-04T20:10:56.413321Z",
     "iopub.status.idle": "2021-01-04T20:10:56.541871Z",
     "shell.execute_reply": "2021-01-04T20:10:56.541404Z"
    },
    "papermill": {
     "duration": 0.156729,
     "end_time": "2021-01-04T20:10:56.541993",
     "exception": false,
     "start_time": "2021-01-04T20:10:56.385264",
     "status": "completed"
    },
    "tags": []
   },
   "outputs": [
    {
     "name": "stdout",
     "output_type": "stream",
     "text": [
      "2\n"
     ]
    },
    {
     "data": {
      "text/plain": [
       "<matplotlib.image.AxesImage at 0x7f563cc272e8>"
      ]
     },
     "execution_count": 8,
     "metadata": {},
     "output_type": "execute_result"
    },
    {
     "data": {
      "image/png": "[encoded data removed]",
      "text/plain": [
       "<Figure size 432x288 with 1 Axes>"
      ]
     },
     "metadata": {
      "needs_background": "light"
     },
     "output_type": "display_data"
    }
   ],
   "source": [
    "image_index = 7776 # You may select anything up to 60,000\n",
    "print(train_labels[image_index]) \n",
    "plt.imshow(train_images[image_index], cmap='Greys')"
   ]
  },
  {
   "cell_type": "markdown",
   "metadata": {
    "papermill": {
     "duration": 0.025321,
     "end_time": "2021-01-04T20:10:56.593027",
     "exception": false,
     "start_time": "2021-01-04T20:10:56.567706",
     "status": "completed"
    },
    "tags": []
   },
   "source": [
    "## Filter data to get 3 and 8 out"
   ]
  },
  {
   "cell_type": "code",
   "execution_count": 9,
   "metadata": {
    "execution": {
     "iopub.execute_input": "2021-01-04T20:10:56.654696Z",
     "iopub.status.busy": "2021-01-04T20:10:56.654175Z",
     "iopub.status.idle": "2021-01-04T20:10:56.666204Z",
     "shell.execute_reply": "2021-01-04T20:10:56.666609Z"
    },
    "papermill": {
     "duration": 0.048564,
     "end_time": "2021-01-04T20:10:56.666743",
     "exception": false,
     "start_time": "2021-01-04T20:10:56.618179",
     "status": "completed"
    },
    "tags": []
   },
   "outputs": [],
   "source": [
    "train_filter = np.where((train_labels == 3 ) | (train_labels == 8))\n",
    "test_filter = np.where((test_labels == 3) | (test_labels == 8))\n",
    "X_train, y_train = train_images[train_filter], train_labels[train_filter]\n",
    "X_test, y_test = test_images[test_filter], test_labels[test_filter]"
   ]
  },
  {
   "cell_type": "markdown",
   "metadata": {
    "papermill": {
     "duration": 0.025211,
     "end_time": "2021-01-04T20:10:56.717279",
     "exception": false,
     "start_time": "2021-01-04T20:10:56.692068",
     "status": "completed"
    },
    "tags": []
   },
   "source": [
    "We normalize the pixel values in the 0 to 1 range"
   ]
  },
  {
   "cell_type": "code",
   "execution_count": 10,
   "metadata": {
    "execution": {
     "iopub.execute_input": "2021-01-04T20:10:56.780802Z",
     "iopub.status.busy": "2021-01-04T20:10:56.780287Z",
     "iopub.status.idle": "2021-01-04T20:10:56.821221Z",
     "shell.execute_reply": "2021-01-04T20:10:56.820716Z"
    },
    "papermill": {
     "duration": 0.078942,
     "end_time": "2021-01-04T20:10:56.821379",
     "exception": false,
     "start_time": "2021-01-04T20:10:56.742437",
     "status": "completed"
    },
    "tags": []
   },
   "outputs": [],
   "source": [
    "X_train = X_train/255.\n",
    "X_test = X_test/255."
   ]
  },
  {
   "cell_type": "markdown",
   "metadata": {
    "papermill": {
     "duration": 0.025248,
     "end_time": "2021-01-04T20:10:56.873193",
     "exception": false,
     "start_time": "2021-01-04T20:10:56.847945",
     "status": "completed"
    },
    "tags": []
   },
   "source": [
    "Setup the labels as 1 (when the digit is 3) and 0 (when the digit is 8)"
   ]
  },
  {
   "cell_type": "code",
   "execution_count": 11,
   "metadata": {
    "execution": {
     "iopub.execute_input": "2021-01-04T20:10:56.934752Z",
     "iopub.status.busy": "2021-01-04T20:10:56.934217Z",
     "iopub.status.idle": "2021-01-04T20:10:56.943793Z",
     "shell.execute_reply": "2021-01-04T20:10:56.943332Z"
    },
    "papermill": {
     "duration": 0.04514,
     "end_time": "2021-01-04T20:10:56.943910",
     "exception": false,
     "start_time": "2021-01-04T20:10:56.898770",
     "status": "completed"
    },
    "tags": []
   },
   "outputs": [],
   "source": [
    "y_train = 1*(y_train==3)\n",
    "y_test = 1*(y_test==3)"
   ]
  },
  {
   "cell_type": "code",
   "execution_count": 12,
   "metadata": {
    "execution": {
     "iopub.execute_input": "2021-01-04T20:10:57.006027Z",
     "iopub.status.busy": "2021-01-04T20:10:57.005271Z",
     "iopub.status.idle": "2021-01-04T20:10:57.012805Z",
     "shell.execute_reply": "2021-01-04T20:10:57.013209Z"
    },
    "papermill": {
     "duration": 0.044,
     "end_time": "2021-01-04T20:10:57.013341",
     "exception": false,
     "start_time": "2021-01-04T20:10:56.969341",
     "status": "completed"
    },
    "tags": []
   },
   "outputs": [
    {
     "data": {
      "text/plain": [
       "((11982, 28, 28), (1984, 28, 28))"
      ]
     },
     "execution_count": 12,
     "metadata": {},
     "output_type": "execute_result"
    }
   ],
   "source": [
    "X_train.shape, X_test.shape"
   ]
  },
  {
   "cell_type": "markdown",
   "metadata": {
    "papermill": {
     "duration": 0.025611,
     "end_time": "2021-01-04T20:10:57.064668",
     "exception": false,
     "start_time": "2021-01-04T20:10:57.039057",
     "status": "completed"
    },
    "tags": []
   },
   "source": [
    "### Reshape the input data to create a linear array"
   ]
  },
  {
   "cell_type": "code",
   "execution_count": 13,
   "metadata": {
    "execution": {
     "iopub.execute_input": "2021-01-04T20:10:57.126197Z",
     "iopub.status.busy": "2021-01-04T20:10:57.125645Z",
     "iopub.status.idle": "2021-01-04T20:10:57.135150Z",
     "shell.execute_reply": "2021-01-04T20:10:57.134705Z"
    },
    "papermill": {
     "duration": 0.044719,
     "end_time": "2021-01-04T20:10:57.135268",
     "exception": false,
     "start_time": "2021-01-04T20:10:57.090549",
     "status": "completed"
    },
    "tags": []
   },
   "outputs": [
    {
     "data": {
      "text/plain": [
       "((11982, 784), (1984, 784))"
      ]
     },
     "execution_count": 13,
     "metadata": {},
     "output_type": "execute_result"
    }
   ],
   "source": [
    "X_train = X_train.reshape(X_train.shape[0], -1)\n",
    "X_test = X_test.reshape(X_test.shape[0], -1)\n",
    "X_train.shape, X_test.shape"
   ]
  },
  {
   "cell_type": "markdown",
   "metadata": {
    "papermill": {
     "duration": 0.025642,
     "end_time": "2021-01-04T20:10:57.186569",
     "exception": false,
     "start_time": "2021-01-04T20:10:57.160927",
     "status": "completed"
    },
    "tags": []
   },
   "source": [
    "### Importing appropriate functions from 'Kudzu'"
   ]
  },
  {
   "cell_type": "code",
   "execution_count": 14,
   "metadata": {
    "execution": {
     "iopub.execute_input": "2021-01-04T20:10:57.250184Z",
     "iopub.status.busy": "2021-01-04T20:10:57.249651Z",
     "iopub.status.idle": "2021-01-04T20:10:57.262931Z",
     "shell.execute_reply": "2021-01-04T20:10:57.263334Z"
    },
    "papermill": {
     "duration": 0.05101,
     "end_time": "2021-01-04T20:10:57.263471",
     "exception": false,
     "start_time": "2021-01-04T20:10:57.212461",
     "status": "completed"
    },
    "tags": []
   },
   "outputs": [],
   "source": [
    "from kudzu.layer import Sigmoid\n",
    "from kudzu.layer import Relu\n",
    "from kudzu.layer import Affine, Sigmoid\n",
    "\n",
    "from kudzu.model import Model\n",
    "from kudzu.train import Learner\n",
    "from kudzu.optim import GD\n",
    "from kudzu.data import Data, Dataloader, Sampler\n",
    "\n",
    "from kudzu.callbacks import AccCallback\n",
    "from kudzu.callbacks import ClfCallback\n",
    "\n",
    "from kudzu.loss import MSE"
   ]
  },
  {
   "cell_type": "markdown",
   "metadata": {
    "papermill": {
     "duration": 0.025735,
     "end_time": "2021-01-04T20:10:57.314916",
     "exception": false,
     "start_time": "2021-01-04T20:10:57.289181",
     "status": "completed"
    },
    "tags": []
   },
   "source": [
    "### Let us create a `Config` class, to store important parameters. \n",
    "This class essentially plays the role of a dictionary."
   ]
  },
  {
   "cell_type": "code",
   "execution_count": 15,
   "metadata": {
    "execution": {
     "iopub.execute_input": "2021-01-04T20:10:57.383204Z",
     "iopub.status.busy": "2021-01-04T20:10:57.378204Z",
     "iopub.status.idle": "2021-01-04T20:10:57.385543Z",
     "shell.execute_reply": "2021-01-04T20:10:57.385095Z"
    },
    "papermill": {
     "duration": 0.044833,
     "end_time": "2021-01-04T20:10:57.385666",
     "exception": false,
     "start_time": "2021-01-04T20:10:57.340833",
     "status": "completed"
    },
    "tags": []
   },
   "outputs": [],
   "source": [
    "class Config:\n",
    "    pass\n",
    "config = Config()\n",
    "config.lr = 0.001\n",
    "config.num_epochs = 251\n",
    "config.bs = 50"
   ]
  },
  {
   "cell_type": "markdown",
   "metadata": {
    "papermill": {
     "duration": 0.025776,
     "end_time": "2021-01-04T20:10:57.437183",
     "exception": false,
     "start_time": "2021-01-04T20:10:57.411407",
     "status": "completed"
    },
    "tags": []
   },
   "source": [
    "### Initializing data to the variables"
   ]
  },
  {
   "cell_type": "code",
   "execution_count": 16,
   "metadata": {
    "execution": {
     "iopub.execute_input": "2021-01-04T20:10:57.493790Z",
     "iopub.status.busy": "2021-01-04T20:10:57.493247Z",
     "iopub.status.idle": "2021-01-04T20:10:57.505248Z",
     "shell.execute_reply": "2021-01-04T20:10:57.504830Z"
    },
    "papermill": {
     "duration": 0.042255,
     "end_time": "2021-01-04T20:10:57.505385",
     "exception": false,
     "start_time": "2021-01-04T20:10:57.463130",
     "status": "completed"
    },
    "tags": []
   },
   "outputs": [],
   "source": [
    "data = Data(X_train, y_train.reshape(-1,1))\n",
    "sampler = Sampler(data, config.bs, shuffle=True)\n",
    "\n",
    "dl = Dataloader(data, sampler)\n",
    "\n",
    "opt = GD(config.lr)\n",
    "loss = MSE()"
   ]
  },
  {
   "cell_type": "code",
   "execution_count": 17,
   "metadata": {
    "execution": {
     "iopub.execute_input": "2021-01-04T20:10:57.562696Z",
     "iopub.status.busy": "2021-01-04T20:10:57.562169Z",
     "iopub.status.idle": "2021-01-04T20:10:57.572913Z",
     "shell.execute_reply": "2021-01-04T20:10:57.572496Z"
    },
    "papermill": {
     "duration": 0.041694,
     "end_time": "2021-01-04T20:10:57.573036",
     "exception": false,
     "start_time": "2021-01-04T20:10:57.531342",
     "status": "completed"
    },
    "tags": []
   },
   "outputs": [],
   "source": [
    "training_xdata = X_train\n",
    "testing_xdata = X_test\n",
    "training_ydata = y_train.reshape(-1,1)\n",
    "testing_ydata = y_test.reshape(-1,1)"
   ]
  },
  {
   "cell_type": "markdown",
   "metadata": {
    "papermill": {
     "duration": 0.025813,
     "end_time": "2021-01-04T20:10:57.624857",
     "exception": false,
     "start_time": "2021-01-04T20:10:57.599044",
     "status": "completed"
    },
    "tags": []
   },
   "source": [
    "### Running Models with the Training data\n",
    "Details about the network layers:\n",
    "- A first affine layer has 784 inputs and does 100 affine transforms. These are followed by a Relu\n",
    "- A second affine layer has 100 inputs from the 100 activations of the past layer, and does 100 affine transforms. These are followed by a Relu\n",
    "- A third affine layer has 100 activations and does 2 affine transformations to create an embedding for visualization. There is no non-linearity here.\n",
    "- A final \"logistic regression\" which has an affine transform from 2 inputs to 1 output, which is squeezed through a sigmoid.\n",
    "\n",
    "Help taken from Anshuman's Notebook."
   ]
  },
  {
   "cell_type": "code",
   "execution_count": 18,
   "metadata": {
    "execution": {
     "iopub.execute_input": "2021-01-04T20:10:57.686562Z",
     "iopub.status.busy": "2021-01-04T20:10:57.685998Z",
     "iopub.status.idle": "2021-01-04T20:10:57.699279Z",
     "shell.execute_reply": "2021-01-04T20:10:57.698849Z"
    },
    "papermill": {
     "duration": 0.048704,
     "end_time": "2021-01-04T20:10:57.699399",
     "exception": false,
     "start_time": "2021-01-04T20:10:57.650695",
     "status": "completed"
    },
    "tags": []
   },
   "outputs": [],
   "source": [
    "# layers for the Neural Network\n",
    "layers = [Affine(\"first\", 784, 100), Relu(\"first\"), Affine(\"second\", 100, 100), Relu(\"second\"), Affine(\"third\", 100, 2), Affine(\"final\", 2, 1), Sigmoid(\"final\")]\n",
    "model_nn = Model(layers)\n",
    "\n",
    "# layers for the Logistic Regression\n",
    "layers_lr = [Affine(\"logits\", 784, 1), Sigmoid(\"sigmoid\")]\n",
    "model_lr = Model(layers_lr)"
   ]
  },
  {
   "cell_type": "code",
   "execution_count": 19,
   "metadata": {
    "execution": {
     "iopub.execute_input": "2021-01-04T20:10:57.755917Z",
     "iopub.status.busy": "2021-01-04T20:10:57.755399Z",
     "iopub.status.idle": "2021-01-04T20:10:57.766587Z",
     "shell.execute_reply": "2021-01-04T20:10:57.766163Z"
    },
    "papermill": {
     "duration": 0.041388,
     "end_time": "2021-01-04T20:10:57.766704",
     "exception": false,
     "start_time": "2021-01-04T20:10:57.725316",
     "status": "completed"
    },
    "tags": []
   },
   "outputs": [],
   "source": [
    "# suffix _nn stands for Neural Network.\n",
    "learner_nn = Learner(loss, model_nn, opt, config.num_epochs)\n",
    "acc_nn = ClfCallback(learner_nn, config.bs, training_xdata , testing_xdata, training_ydata, testing_ydata)\n",
    "learner_nn.set_callbacks([acc_nn])"
   ]
  },
  {
   "cell_type": "code",
   "execution_count": 20,
   "metadata": {
    "execution": {
     "iopub.execute_input": "2021-01-04T20:10:57.821816Z",
     "iopub.status.busy": "2021-01-04T20:10:57.821264Z",
     "iopub.status.idle": "2021-01-04T20:12:17.577150Z",
     "shell.execute_reply": "2021-01-04T20:12:17.577848Z"
    },
    "papermill": {
     "duration": 79.785571,
     "end_time": "2021-01-04T20:12:17.577996",
     "exception": false,
     "start_time": "2021-01-04T20:10:57.792425",
     "status": "completed"
    },
    "tags": []
   },
   "outputs": [
    {
     "name": "stdout",
     "output_type": "stream",
     "text": [
      "====== Neural Network ======\n"
     ]
    },
    {
     "name": "stdout",
     "output_type": "stream",
     "text": [
      "Epoch 0, Loss 0.2211\n",
      "Training Accuracy: 0.8179, Testing Accuracy: 0.8170\n",
      "\n"
     ]
    },
    {
     "name": "stdout",
     "output_type": "stream",
     "text": [
      "Epoch 10, Loss 0.0619\n",
      "Training Accuracy: 0.9388, Testing Accuracy: 0.9491\n",
      "\n"
     ]
    },
    {
     "name": "stdout",
     "output_type": "stream",
     "text": [
      "Epoch 20, Loss 0.0432\n",
      "Training Accuracy: 0.9540, Testing Accuracy: 0.9647\n",
      "\n"
     ]
    },
    {
     "name": "stdout",
     "output_type": "stream",
     "text": [
      "Epoch 30, Loss 0.0361\n",
      "Training Accuracy: 0.9604, Testing Accuracy: 0.9713\n",
      "\n"
     ]
    },
    {
     "name": "stdout",
     "output_type": "stream",
     "text": [
      "Epoch 40, Loss 0.0323\n",
      "Training Accuracy: 0.9639, Testing Accuracy: 0.9713\n",
      "\n"
     ]
    },
    {
     "name": "stdout",
     "output_type": "stream",
     "text": [
      "Epoch 50, Loss 0.0298\n",
      "Training Accuracy: 0.9662, Testing Accuracy: 0.9728\n",
      "\n"
     ]
    },
    {
     "name": "stdout",
     "output_type": "stream",
     "text": [
      "Epoch 60, Loss 0.028\n",
      "Training Accuracy: 0.9679, Testing Accuracy: 0.9728\n",
      "\n"
     ]
    },
    {
     "name": "stdout",
     "output_type": "stream",
     "text": [
      "Epoch 70, Loss 0.0266\n",
      "Training Accuracy: 0.9695, Testing Accuracy: 0.9718\n",
      "\n"
     ]
    },
    {
     "name": "stdout",
     "output_type": "stream",
     "text": [
      "Epoch 80, Loss 0.0255\n",
      "Training Accuracy: 0.9707, Testing Accuracy: 0.9733\n",
      "\n"
     ]
    },
    {
     "name": "stdout",
     "output_type": "stream",
     "text": [
      "Epoch 90, Loss 0.0245\n",
      "Training Accuracy: 0.9720, Testing Accuracy: 0.9728\n",
      "\n"
     ]
    },
    {
     "name": "stdout",
     "output_type": "stream",
     "text": [
      "Epoch 100, Loss 0.0237\n",
      "Training Accuracy: 0.9739, Testing Accuracy: 0.9733\n",
      "\n"
     ]
    },
    {
     "name": "stdout",
     "output_type": "stream",
     "text": [
      "Epoch 110, Loss 0.0229\n",
      "Training Accuracy: 0.9743, Testing Accuracy: 0.9743\n",
      "\n"
     ]
    },
    {
     "name": "stdout",
     "output_type": "stream",
     "text": [
      "Epoch 120, Loss 0.0223\n",
      "Training Accuracy: 0.9750, Testing Accuracy: 0.9743\n",
      "\n"
     ]
    },
    {
     "name": "stdout",
     "output_type": "stream",
     "text": [
      "Epoch 130, Loss 0.0216\n",
      "Training Accuracy: 0.9756, Testing Accuracy: 0.9748\n",
      "\n"
     ]
    },
    {
     "name": "stdout",
     "output_type": "stream",
     "text": [
      "Epoch 140, Loss 0.021\n",
      "Training Accuracy: 0.9762, Testing Accuracy: 0.9753\n",
      "\n"
     ]
    },
    {
     "name": "stdout",
     "output_type": "stream",
     "text": [
      "Epoch 150, Loss 0.0205\n",
      "Training Accuracy: 0.9765, Testing Accuracy: 0.9753\n",
      "\n"
     ]
    },
    {
     "name": "stdout",
     "output_type": "stream",
     "text": [
      "Epoch 160, Loss 0.02\n",
      "Training Accuracy: 0.9768, Testing Accuracy: 0.9753\n",
      "\n"
     ]
    },
    {
     "name": "stdout",
     "output_type": "stream",
     "text": [
      "Epoch 170, Loss 0.0195\n",
      "Training Accuracy: 0.9775, Testing Accuracy: 0.9758\n",
      "\n"
     ]
    },
    {
     "name": "stdout",
     "output_type": "stream",
     "text": [
      "Epoch 180, Loss 0.019\n",
      "Training Accuracy: 0.9784, Testing Accuracy: 0.9763\n",
      "\n"
     ]
    },
    {
     "name": "stdout",
     "output_type": "stream",
     "text": [
      "Epoch 190, Loss 0.0186\n",
      "Training Accuracy: 0.9794, Testing Accuracy: 0.9768\n",
      "\n"
     ]
    },
    {
     "name": "stdout",
     "output_type": "stream",
     "text": [
      "Epoch 200, Loss 0.0181\n",
      "Training Accuracy: 0.9799, Testing Accuracy: 0.9768\n",
      "\n"
     ]
    },
    {
     "name": "stdout",
     "output_type": "stream",
     "text": [
      "Epoch 210, Loss 0.0177\n",
      "Training Accuracy: 0.9809, Testing Accuracy: 0.9773\n",
      "\n"
     ]
    },
    {
     "name": "stdout",
     "output_type": "stream",
     "text": [
      "Epoch 220, Loss 0.0173\n",
      "Training Accuracy: 0.9816, Testing Accuracy: 0.9773\n",
      "\n"
     ]
    },
    {
     "name": "stdout",
     "output_type": "stream",
     "text": [
      "Epoch 230, Loss 0.0169\n",
      "Training Accuracy: 0.9824, Testing Accuracy: 0.9768\n",
      "\n"
     ]
    },
    {
     "name": "stdout",
     "output_type": "stream",
     "text": [
      "Epoch 240, Loss 0.0165\n",
      "Training Accuracy: 0.9829, Testing Accuracy: 0.9773\n",
      "\n"
     ]
    },
    {
     "name": "stdout",
     "output_type": "stream",
     "text": [
      "Epoch 250, Loss 0.0161\n",
      "Training Accuracy: 0.9833, Testing Accuracy: 0.9768\n",
      "\n"
     ]
    },
    {
     "data": {
      "text/plain": [
       "0.012882201813883422"
      ]
     },
     "execution_count": 20,
     "metadata": {},
     "output_type": "execute_result"
    }
   ],
   "source": [
    "print(\"====== Neural Network ======\")\n",
    "learner_nn.train_loop(dl)"
   ]
  },
  {
   "cell_type": "markdown",
   "metadata": {
    "papermill": {
     "duration": 0.032996,
     "end_time": "2021-01-04T20:12:17.644639",
     "exception": false,
     "start_time": "2021-01-04T20:12:17.611643",
     "status": "completed"
    },
    "tags": []
   },
   "source": [
    "### Logistic Regression based Implementation."
   ]
  },
  {
   "cell_type": "code",
   "execution_count": 21,
   "metadata": {
    "execution": {
     "iopub.execute_input": "2021-01-04T20:12:17.714748Z",
     "iopub.status.busy": "2021-01-04T20:12:17.714137Z",
     "iopub.status.idle": "2021-01-04T20:12:17.725377Z",
     "shell.execute_reply": "2021-01-04T20:12:17.724941Z"
    },
    "papermill": {
     "duration": 0.048079,
     "end_time": "2021-01-04T20:12:17.725504",
     "exception": false,
     "start_time": "2021-01-04T20:12:17.677425",
     "status": "completed"
    },
    "tags": []
   },
   "outputs": [],
   "source": [
    "learner_lr = Learner(loss, model_lr, opt, config.num_epochs)\n",
    "acc_lr = ClfCallback(learner_lr, config.bs, training_xdata , testing_xdata, training_ydata, testing_ydata)\n",
    "learner_lr.set_callbacks([acc_lr])"
   ]
  },
  {
   "cell_type": "code",
   "execution_count": 22,
   "metadata": {
    "execution": {
     "iopub.execute_input": "2021-01-04T20:12:17.807197Z",
     "iopub.status.busy": "2021-01-04T20:12:17.806427Z",
     "iopub.status.idle": "2021-01-04T20:12:31.999460Z",
     "shell.execute_reply": "2021-01-04T20:12:31.999864Z"
    },
    "papermill": {
     "duration": 14.241248,
     "end_time": "2021-01-04T20:12:32.000007",
     "exception": false,
     "start_time": "2021-01-04T20:12:17.758759",
     "status": "completed"
    },
    "tags": []
   },
   "outputs": [
    {
     "name": "stdout",
     "output_type": "stream",
     "text": [
      "====== Logistic Regression ======\n",
      "Epoch 0, Loss 0.2306\n",
      "Training Accuracy: 0.7288, Testing Accuracy: 0.7424\n",
      "\n"
     ]
    },
    {
     "name": "stdout",
     "output_type": "stream",
     "text": [
      "Epoch 10, Loss 0.1024\n",
      "Training Accuracy: 0.9107, Testing Accuracy: 0.9249\n",
      "\n"
     ]
    },
    {
     "name": "stdout",
     "output_type": "stream",
     "text": [
      "Epoch 20, Loss 0.0793\n",
      "Training Accuracy: 0.9267, Testing Accuracy: 0.9390\n",
      "\n"
     ]
    },
    {
     "name": "stdout",
     "output_type": "stream",
     "text": [
      "Epoch 30, Loss 0.0684\n",
      "Training Accuracy: 0.9371, Testing Accuracy: 0.9496\n",
      "\n"
     ]
    },
    {
     "name": "stdout",
     "output_type": "stream",
     "text": [
      "Epoch 40, Loss 0.0618\n",
      "Training Accuracy: 0.9415, Testing Accuracy: 0.9501\n",
      "\n"
     ]
    },
    {
     "name": "stdout",
     "output_type": "stream",
     "text": [
      "Epoch 50, Loss 0.0574\n",
      "Training Accuracy: 0.9448, Testing Accuracy: 0.9531\n",
      "\n"
     ]
    },
    {
     "name": "stdout",
     "output_type": "stream",
     "text": [
      "Epoch 60, Loss 0.054\n",
      "Training Accuracy: 0.9472, Testing Accuracy: 0.9556\n",
      "\n"
     ]
    },
    {
     "name": "stdout",
     "output_type": "stream",
     "text": [
      "Epoch 70, Loss 0.0515\n",
      "Training Accuracy: 0.9493, Testing Accuracy: 0.9582\n",
      "\n"
     ]
    },
    {
     "name": "stdout",
     "output_type": "stream",
     "text": [
      "Epoch 80, Loss 0.0494\n",
      "Training Accuracy: 0.9507, Testing Accuracy: 0.9582\n",
      "\n"
     ]
    },
    {
     "name": "stdout",
     "output_type": "stream",
     "text": [
      "Epoch 90, Loss 0.0477\n",
      "Training Accuracy: 0.9514, Testing Accuracy: 0.9587\n",
      "\n"
     ]
    },
    {
     "name": "stdout",
     "output_type": "stream",
     "text": [
      "Epoch 100, Loss 0.0463\n",
      "Training Accuracy: 0.9528, Testing Accuracy: 0.9587\n",
      "\n"
     ]
    },
    {
     "name": "stdout",
     "output_type": "stream",
     "text": [
      "Epoch 110, Loss 0.0451\n",
      "Training Accuracy: 0.9538, Testing Accuracy: 0.9602\n",
      "\n"
     ]
    },
    {
     "name": "stdout",
     "output_type": "stream",
     "text": [
      "Epoch 120, Loss 0.044\n",
      "Training Accuracy: 0.9542, Testing Accuracy: 0.9607\n",
      "\n"
     ]
    },
    {
     "name": "stdout",
     "output_type": "stream",
     "text": [
      "Epoch 130, Loss 0.0431\n",
      "Training Accuracy: 0.9545, Testing Accuracy: 0.9612\n",
      "\n"
     ]
    },
    {
     "name": "stdout",
     "output_type": "stream",
     "text": [
      "Epoch 140, Loss 0.0422\n",
      "Training Accuracy: 0.9551, Testing Accuracy: 0.9612\n",
      "\n"
     ]
    },
    {
     "name": "stdout",
     "output_type": "stream",
     "text": [
      "Epoch 150, Loss 0.0415\n",
      "Training Accuracy: 0.9555, Testing Accuracy: 0.9622\n",
      "\n"
     ]
    },
    {
     "name": "stdout",
     "output_type": "stream",
     "text": [
      "Epoch 160, Loss 0.0408\n",
      "Training Accuracy: 0.9564, Testing Accuracy: 0.9632\n",
      "\n"
     ]
    },
    {
     "name": "stdout",
     "output_type": "stream",
     "text": [
      "Epoch 170, Loss 0.0402\n",
      "Training Accuracy: 0.9570, Testing Accuracy: 0.9642\n",
      "\n"
     ]
    },
    {
     "name": "stdout",
     "output_type": "stream",
     "text": [
      "Epoch 180, Loss 0.0396\n",
      "Training Accuracy: 0.9580, Testing Accuracy: 0.9637\n",
      "\n"
     ]
    },
    {
     "name": "stdout",
     "output_type": "stream",
     "text": [
      "Epoch 190, Loss 0.0391\n",
      "Training Accuracy: 0.9585, Testing Accuracy: 0.9647\n",
      "\n"
     ]
    },
    {
     "name": "stdout",
     "output_type": "stream",
     "text": [
      "Epoch 200, Loss 0.0386\n",
      "Training Accuracy: 0.9589, Testing Accuracy: 0.9652\n",
      "\n"
     ]
    },
    {
     "name": "stdout",
     "output_type": "stream",
     "text": [
      "Epoch 210, Loss 0.0382\n",
      "Training Accuracy: 0.9592, Testing Accuracy: 0.9657\n",
      "\n"
     ]
    },
    {
     "name": "stdout",
     "output_type": "stream",
     "text": [
      "Epoch 220, Loss 0.0378\n",
      "Training Accuracy: 0.9593, Testing Accuracy: 0.9667\n",
      "\n"
     ]
    },
    {
     "name": "stdout",
     "output_type": "stream",
     "text": [
      "Epoch 230, Loss 0.0374\n",
      "Training Accuracy: 0.9596, Testing Accuracy: 0.9667\n",
      "\n"
     ]
    },
    {
     "name": "stdout",
     "output_type": "stream",
     "text": [
      "Epoch 240, Loss 0.037\n",
      "Training Accuracy: 0.9602, Testing Accuracy: 0.9667\n",
      "\n"
     ]
    },
    {
     "name": "stdout",
     "output_type": "stream",
     "text": [
      "Epoch 250, Loss 0.0367\n",
      "Training Accuracy: 0.9603, Testing Accuracy: 0.9677\n",
      "\n"
     ]
    },
    {
     "data": {
      "text/plain": [
       "0.07419107818464592"
      ]
     },
     "execution_count": 22,
     "metadata": {},
     "output_type": "execute_result"
    }
   ],
   "source": [
    "print(\"====== Logistic Regression ======\")\n",
    "learner_lr.train_loop(dl)"
   ]
  },
  {
   "cell_type": "markdown",
   "metadata": {
    "papermill": {
     "duration": 0.040204,
     "end_time": "2021-01-04T20:12:32.080613",
     "exception": false,
     "start_time": "2021-01-04T20:12:32.040409",
     "status": "completed"
    },
    "tags": []
   },
   "source": [
    "### Comparing results of NN and LR"
   ]
  },
  {
   "cell_type": "code",
   "execution_count": 23,
   "metadata": {
    "execution": {
     "iopub.execute_input": "2021-01-04T20:12:32.178673Z",
     "iopub.status.busy": "2021-01-04T20:12:32.178124Z",
     "iopub.status.idle": "2021-01-04T20:12:32.383957Z",
     "shell.execute_reply": "2021-01-04T20:12:32.384375Z"
    },
    "papermill": {
     "duration": 0.264162,
     "end_time": "2021-01-04T20:12:32.384520",
     "exception": false,
     "start_time": "2021-01-04T20:12:32.120358",
     "status": "completed"
    },
    "tags": []
   },
   "outputs": [
    {
     "data": {
      "text/plain": [
       "<matplotlib.legend.Legend at 0x7f563604eba8>"
      ]
     },
     "execution_count": 23,
     "metadata": {},
     "output_type": "execute_result"
    },
    {
     "data": {
      "image/png": "[encoded data removed]",
      "text/plain": [
       "<Figure size 1080x720 with 1 Axes>"
      ]
     },
     "metadata": {
      "needs_background": "light"
     },
     "output_type": "display_data"
    }
   ],
   "source": [
    "plt.figure(figsize=(15,10))\n",
    "\n",
    "# Neural Network plots\n",
    "plt.plot(acc_nn.accuracies, 'r-', label = \"Training Accuracies - NN\")\n",
    "plt.plot(acc_nn.test_accuracies, 'g-', label = \"Testing Accuracies - NN\")\n",
    "\n",
    "# Logistic Regression plots\n",
    "plt.plot(acc_lr.accuracies, 'k-', label = \"Training Accuracies - LR\")\n",
    "plt.plot(acc_lr.test_accuracies, 'b-', label = \"Testing Accuracies - LR\")\n",
    "\n",
    "plt.ylim(0.8, 1)\n",
    "\n",
    "plt.legend()\n",
    "\n"
   ]
  },
  {
   "cell_type": "markdown",
   "metadata": {
    "papermill": {
     "duration": 0.041427,
     "end_time": "2021-01-04T20:12:32.467609",
     "exception": false,
     "start_time": "2021-01-04T20:12:32.426182",
     "status": "completed"
    },
    "tags": []
   },
   "source": [
    "### From the plot, we can observe the following:\n",
    "- Neural Network achieves higher accuracy than the Logistic Regression model.\n",
    "- This apparently, is because of overfitting, i.e. NN captures more noise than data.\n",
    "- Testing accuracy of NN drops below the Training accuracy at higher epochs. This explains the over-fitting on training data.\n",
    "- Logistic Regression gives a reliable accuracy, without the above mentioned problem.\n"
   ]
  },
  {
   "cell_type": "markdown",
   "metadata": {
    "papermill": {
     "duration": 0.041331,
     "end_time": "2021-01-04T20:12:32.550208",
     "exception": false,
     "start_time": "2021-01-04T20:12:32.508877",
     "status": "completed"
    },
    "tags": []
   },
   "source": [
    "### Moving till the last but one layer (excluding it).\n",
    "#### Plotting the outputs of this layer of the NN."
   ]
  },
  {
   "cell_type": "code",
   "execution_count": 24,
   "metadata": {
    "execution": {
     "iopub.execute_input": "2021-01-04T20:12:32.637429Z",
     "iopub.status.busy": "2021-01-04T20:12:32.636891Z",
     "iopub.status.idle": "2021-01-04T20:12:32.648094Z",
     "shell.execute_reply": "2021-01-04T20:12:32.648502Z"
    },
    "papermill": {
     "duration": 0.056985,
     "end_time": "2021-01-04T20:12:32.648635",
     "exception": false,
     "start_time": "2021-01-04T20:12:32.591650",
     "status": "completed"
    },
    "tags": []
   },
   "outputs": [],
   "source": [
    "model_new = Model(layers[:-2])"
   ]
  },
  {
   "cell_type": "code",
   "execution_count": 25,
   "metadata": {
    "execution": {
     "iopub.execute_input": "2021-01-04T20:12:32.742699Z",
     "iopub.status.busy": "2021-01-04T20:12:32.742187Z",
     "iopub.status.idle": "2021-01-04T20:12:32.756801Z",
     "shell.execute_reply": "2021-01-04T20:12:32.756340Z"
    },
    "papermill": {
     "duration": 0.066553,
     "end_time": "2021-01-04T20:12:32.756921",
     "exception": false,
     "start_time": "2021-01-04T20:12:32.690368",
     "status": "completed"
    },
    "tags": []
   },
   "outputs": [],
   "source": [
    "plot_testing = model_new(testing_xdata)"
   ]
  },
  {
   "cell_type": "code",
   "execution_count": 26,
   "metadata": {
    "execution": {
     "iopub.execute_input": "2021-01-04T20:12:32.854941Z",
     "iopub.status.busy": "2021-01-04T20:12:32.854178Z",
     "iopub.status.idle": "2021-01-04T20:12:33.049000Z",
     "shell.execute_reply": "2021-01-04T20:12:33.048568Z"
    },
    "papermill": {
     "duration": 0.249686,
     "end_time": "2021-01-04T20:12:33.049121",
     "exception": false,
     "start_time": "2021-01-04T20:12:32.799435",
     "status": "completed"
    },
    "tags": []
   },
   "outputs": [
    {
     "data": {
      "text/plain": [
       "Text(0.5, 1.0, 'Outputs')"
      ]
     },
     "execution_count": 26,
     "metadata": {},
     "output_type": "execute_result"
    },
    {
     "data": {
      "image/png": "[encoded data removed]",
      "text/plain": [
       "<Figure size 576x504 with 1 Axes>"
      ]
     },
     "metadata": {
      "needs_background": "light"
     },
     "output_type": "display_data"
    }
   ],
   "source": [
    "plt.figure(figsize=(8,7))\n",
    "plt.scatter(plot_testing[:,0], plot_testing[:,1], alpha = 0.1, c = y_test.ravel());\n",
    "plt.title('Outputs')"
   ]
  },
  {
   "cell_type": "markdown",
   "metadata": {
    "papermill": {
     "duration": 0.044886,
     "end_time": "2021-01-04T20:12:33.138915",
     "exception": false,
     "start_time": "2021-01-04T20:12:33.094029",
     "status": "completed"
    },
    "tags": []
   },
   "source": [
    "### Plotting probability contours"
   ]
  },
  {
   "cell_type": "code",
   "execution_count": 27,
   "metadata": {
    "execution": {
     "iopub.execute_input": "2021-01-04T20:12:33.234853Z",
     "iopub.status.busy": "2021-01-04T20:12:33.234345Z",
     "iopub.status.idle": "2021-01-04T20:12:33.244385Z",
     "shell.execute_reply": "2021-01-04T20:12:33.243970Z"
    },
    "papermill": {
     "duration": 0.060253,
     "end_time": "2021-01-04T20:12:33.244504",
     "exception": false,
     "start_time": "2021-01-04T20:12:33.184251",
     "status": "completed"
    },
    "tags": []
   },
   "outputs": [],
   "source": [
    "model_prob = Model(layers[-2:]) "
   ]
  },
  {
   "cell_type": "code",
   "execution_count": 28,
   "metadata": {
    "execution": {
     "iopub.execute_input": "2021-01-04T20:12:33.342711Z",
     "iopub.status.busy": "2021-01-04T20:12:33.342176Z",
     "iopub.status.idle": "2021-01-04T20:12:33.354033Z",
     "shell.execute_reply": "2021-01-04T20:12:33.354421Z"
    },
    "papermill": {
     "duration": 0.064808,
     "end_time": "2021-01-04T20:12:33.354565",
     "exception": false,
     "start_time": "2021-01-04T20:12:33.289757",
     "status": "completed"
    },
    "tags": []
   },
   "outputs": [],
   "source": [
    "# Adjust the x and y ranges according to the above generated plot.\n",
    "x_range = np.linspace(-4, 1, 100) \n",
    "y_range = np.linspace(-6, 6, 100) \n",
    "x_grid, y_grid = np.meshgrid(x_range, y_range) # x_grid and y_grig are of size 100 X 100\n",
    "\n",
    "# converting x_grid and y_grid to continuous arrays\n",
    "x_grid_flat = np.ravel(x_grid)\n",
    "y_grid_flat = np.ravel(y_grid)\n",
    "\n",
    "# The last layer of the current model takes two columns as input. Hence transpose of np.vstack() is required.\n",
    "X = np.vstack((x_grid_flat, y_grid_flat)).T\n",
    "\n",
    "# x_grid and y_grid are of size 100 x 100\n",
    "probability_contour = model_prob(X).reshape(100,100) "
   ]
  },
  {
   "cell_type": "code",
   "execution_count": 29,
   "metadata": {
    "execution": {
     "iopub.execute_input": "2021-01-04T20:12:33.474511Z",
     "iopub.status.busy": "2021-01-04T20:12:33.473995Z",
     "iopub.status.idle": "2021-01-04T20:12:33.688630Z",
     "shell.execute_reply": "2021-01-04T20:12:33.687789Z"
    },
    "papermill": {
     "duration": 0.262937,
     "end_time": "2021-01-04T20:12:33.688778",
     "exception": false,
     "start_time": "2021-01-04T20:12:33.425841",
     "status": "completed"
    },
    "tags": []
   },
   "outputs": [
    {
     "data": {
      "image/png": "[encoded data removed]",
      "text/plain": [
       "<Figure size 720x648 with 1 Axes>"
      ]
     },
     "metadata": {
      "needs_background": "light"
     },
     "output_type": "display_data"
    }
   ],
   "source": [
    "plt.figure(figsize=(10,9))\n",
    "plt.scatter(plot_testing[:,0], plot_testing[:,1], alpha = 0.1, c = y_test.ravel())\n",
    "contours = plt.contour(x_grid,y_grid,probability_contour)\n",
    "plt.title('Probability Contours')\n",
    "plt.clabel(contours, inline = True );"
   ]
  }
 ],
 "metadata": {
  "kernelspec": {
   "display_name": "Python 3",
   "language": "python",
   "name": "python3"
  },
  "language_info": {
   "codemirror_mode": {
    "name": "ipython",
    "version": 3
   },
   "file_extension": ".py",
   "mimetype": "text/x-python",
   "name": "python",
   "nbconvert_exporter": "python",
   "pygments_lexer": "ipython3",
   "version": "3.6.12"
  },
  "papermill": {
   "duration": 106.328113,
   "end_time": "2021-01-04T20:12:34.920806",
   "environment_variables": {},
   "exception": null,
   "input_path": "2020-08-11-NeuralNetwork.ipynb",
   "output_path": "2020-08-11-NeuralNetwork.ipynb",
   "parameters": {},
   "start_time": "2021-01-04T20:10:48.592693",
   "version": "2.1.2"
  }
 },
 "nbformat": 4,
 "nbformat_minor": 4
}