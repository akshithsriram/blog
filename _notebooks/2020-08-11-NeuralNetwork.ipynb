{
 "cells": [
  {
   "cell_type": "markdown",
   "metadata": {
    "papermill": {
     "duration": 0.035988,
     "end_time": "2020-09-05T20:04:38.507407",
     "exception": false,
     "start_time": "2020-09-05T20:04:38.471419",
     "status": "completed"
    },
    "tags": []
   },
   "source": [
    "# \"A Basic Neural Network: Differentiate Hand-Written Digits\"\n",
    "\n",
    "- badges: true\n",
    "- author: Akshith Sriram"
   ]
  },
  {
   "cell_type": "markdown",
   "metadata": {
    "papermill": {
     "duration": 0.027197,
     "end_time": "2020-09-05T20:04:38.562556",
     "exception": false,
     "start_time": "2020-09-05T20:04:38.535359",
     "status": "completed"
    },
    "tags": []
   },
   "source": [
    "### Key Objectives:\n",
    "- Building a neural network that differentiates two hand-written digits 3 and 8.\n",
    "- Comparing the results of this Neural Network (NN) to that of a Logistic Regression (LR) model.\n",
    "\n",
    "### Requirements:\n",
    "- 'Kudzu' : A neural network library that was designed during our course by [Univ.AI](www.univ.ai). \n",
    "- MNIST Database\n",
    "\n",
    "If MNIST is not installed, use the command `!pip install mnist` given below.\n",
    "It can be run both from the command line and Jupyter Notebook."
   ]
  },
  {
   "cell_type": "code",
   "execution_count": 1,
   "metadata": {
    "execution": {
     "iopub.execute_input": "2020-09-05T20:04:38.624840Z",
     "iopub.status.busy": "2020-09-05T20:04:38.623809Z",
     "iopub.status.idle": "2020-09-05T20:04:41.232728Z",
     "shell.execute_reply": "2020-09-05T20:04:41.231806Z"
    },
    "papermill": {
     "duration": 2.643086,
     "end_time": "2020-09-05T20:04:41.232909",
     "exception": false,
     "start_time": "2020-09-05T20:04:38.589823",
     "status": "completed"
    },
    "tags": []
   },
   "outputs": [
    {
     "name": "stdout",
     "output_type": "stream",
     "text": [
      "Collecting mnist\r\n"
     ]
    },
    {
     "name": "stdout",
     "output_type": "stream",
     "text": [
      "  Downloading mnist-0.2.2-py2.py3-none-any.whl (3.5 kB)\r\n"
     ]
    },
    {
     "name": "stdout",
     "output_type": "stream",
     "text": [
      "Requirement already satisfied: numpy in /opt/hostedtoolcache/Python/3.6.12/x64/lib/python3.6/site-packages (from mnist) (1.19.1)\r\n"
     ]
    },
    {
     "name": "stdout",
     "output_type": "stream",
     "text": [
      "Installing collected packages: mnist\r\n"
     ]
    },
    {
     "name": "stdout",
     "output_type": "stream",
     "text": [
      "Successfully installed mnist-0.2.2\r\n"
     ]
    }
   ],
   "source": [
    "!pip install mnist "
   ]
  },
  {
   "cell_type": "markdown",
   "metadata": {
    "papermill": {
     "duration": 0.034469,
     "end_time": "2020-09-05T20:04:41.297803",
     "exception": false,
     "start_time": "2020-09-05T20:04:41.263334",
     "status": "completed"
    },
    "tags": []
   },
   "source": [
    "#### Importing necessary libraries"
   ]
  },
  {
   "cell_type": "code",
   "execution_count": 2,
   "metadata": {
    "execution": {
     "iopub.execute_input": "2020-09-05T20:04:41.372468Z",
     "iopub.status.busy": "2020-09-05T20:04:41.371725Z",
     "iopub.status.idle": "2020-09-05T20:04:42.064852Z",
     "shell.execute_reply": "2020-09-05T20:04:42.064279Z"
    },
    "papermill": {
     "duration": 0.732163,
     "end_time": "2020-09-05T20:04:42.065009",
     "exception": false,
     "start_time": "2020-09-05T20:04:41.332846",
     "status": "completed"
    },
    "tags": []
   },
   "outputs": [],
   "source": [
    "%load_ext autoreload\n",
    "%autoreload 2\n",
    "\n",
    "%matplotlib inline\n",
    "import matplotlib.pyplot as plt\n",
    "\n",
    "import numpy as np\n",
    "import pandas as pd"
   ]
  },
  {
   "cell_type": "markdown",
   "metadata": {
    "papermill": {
     "duration": 0.029436,
     "end_time": "2020-09-05T20:04:42.123644",
     "exception": false,
     "start_time": "2020-09-05T20:04:42.094208",
     "status": "completed"
    },
    "tags": []
   },
   "source": [
    "### Preparing the Data"
   ]
  },
  {
   "cell_type": "code",
   "execution_count": 3,
   "metadata": {
    "execution": {
     "iopub.execute_input": "2020-09-05T20:04:42.186843Z",
     "iopub.status.busy": "2020-09-05T20:04:42.186157Z",
     "iopub.status.idle": "2020-09-05T20:04:42.201746Z",
     "shell.execute_reply": "2020-09-05T20:04:42.201144Z"
    },
    "papermill": {
     "duration": 0.049238,
     "end_time": "2020-09-05T20:04:42.201893",
     "exception": false,
     "start_time": "2020-09-05T20:04:42.152655",
     "status": "completed"
    },
    "tags": []
   },
   "outputs": [],
   "source": [
    "import mnist"
   ]
  },
  {
   "cell_type": "code",
   "execution_count": 4,
   "metadata": {
    "execution": {
     "iopub.execute_input": "2020-09-05T20:04:42.267198Z",
     "iopub.status.busy": "2020-09-05T20:04:42.263446Z",
     "iopub.status.idle": "2020-09-05T20:04:43.078290Z",
     "shell.execute_reply": "2020-09-05T20:04:43.077717Z"
    },
    "papermill": {
     "duration": 0.847533,
     "end_time": "2020-09-05T20:04:43.078450",
     "exception": false,
     "start_time": "2020-09-05T20:04:42.230917",
     "status": "completed"
    },
    "tags": []
   },
   "outputs": [],
   "source": [
    "train_images = mnist.train_images()\n",
    "train_labels = mnist.train_labels()"
   ]
  },
  {
   "cell_type": "code",
   "execution_count": 5,
   "metadata": {
    "execution": {
     "iopub.execute_input": "2020-09-05T20:04:43.145670Z",
     "iopub.status.busy": "2020-09-05T20:04:43.144976Z",
     "iopub.status.idle": "2020-09-05T20:04:43.162583Z",
     "shell.execute_reply": "2020-09-05T20:04:43.163104Z"
    },
    "papermill": {
     "duration": 0.055937,
     "end_time": "2020-09-05T20:04:43.163323",
     "exception": false,
     "start_time": "2020-09-05T20:04:43.107386",
     "status": "completed"
    },
    "tags": []
   },
   "outputs": [
    {
     "data": {
      "text/plain": [
       "((60000, 28, 28), (60000,))"
      ]
     },
     "execution_count": 5,
     "metadata": {},
     "output_type": "execute_result"
    }
   ],
   "source": [
    "train_images.shape, train_labels.shape"
   ]
  },
  {
   "cell_type": "code",
   "execution_count": 6,
   "metadata": {
    "execution": {
     "iopub.execute_input": "2020-09-05T20:04:43.233725Z",
     "iopub.status.busy": "2020-09-05T20:04:43.232999Z",
     "iopub.status.idle": "2020-09-05T20:04:43.491562Z",
     "shell.execute_reply": "2020-09-05T20:04:43.490844Z"
    },
    "papermill": {
     "duration": 0.293161,
     "end_time": "2020-09-05T20:04:43.491834",
     "exception": false,
     "start_time": "2020-09-05T20:04:43.198673",
     "status": "completed"
    },
    "tags": []
   },
   "outputs": [],
   "source": [
    "test_images = mnist.test_images()\n",
    "test_labels = mnist.test_labels()"
   ]
  },
  {
   "cell_type": "code",
   "execution_count": 7,
   "metadata": {
    "execution": {
     "iopub.execute_input": "2020-09-05T20:04:43.559371Z",
     "iopub.status.busy": "2020-09-05T20:04:43.558613Z",
     "iopub.status.idle": "2020-09-05T20:04:43.575310Z",
     "shell.execute_reply": "2020-09-05T20:04:43.574680Z"
    },
    "papermill": {
     "duration": 0.053408,
     "end_time": "2020-09-05T20:04:43.575464",
     "exception": false,
     "start_time": "2020-09-05T20:04:43.522056",
     "status": "completed"
    },
    "tags": []
   },
   "outputs": [
    {
     "data": {
      "text/plain": [
       "((10000, 28, 28), (10000,))"
      ]
     },
     "execution_count": 7,
     "metadata": {},
     "output_type": "execute_result"
    }
   ],
   "source": [
    "test_images.shape, test_labels.shape"
   ]
  },
  {
   "cell_type": "code",
   "execution_count": 8,
   "metadata": {
    "execution": {
     "iopub.execute_input": "2020-09-05T20:04:43.640303Z",
     "iopub.status.busy": "2020-09-05T20:04:43.639342Z",
     "iopub.status.idle": "2020-09-05T20:04:43.807012Z",
     "shell.execute_reply": "2020-09-05T20:04:43.806431Z"
    },
    "papermill": {
     "duration": 0.202468,
     "end_time": "2020-09-05T20:04:43.807209",
     "exception": false,
     "start_time": "2020-09-05T20:04:43.604741",
     "status": "completed"
    },
    "tags": []
   },
   "outputs": [
    {
     "name": "stdout",
     "output_type": "stream",
     "text": [
      "2\n"
     ]
    },
    {
     "data": {
      "text/plain": [
       "<matplotlib.image.AxesImage at 0x7fb1cd5c7be0>"
      ]
     },
     "execution_count": 8,
     "metadata": {},
     "output_type": "execute_result"
    },
    {
     "data": {
      "image/png": "[encoded data removed]",
      "text/plain": [
       "<Figure size 432x288 with 1 Axes>"
      ]
     },
     "metadata": {
      "needs_background": "light"
     },
     "output_type": "display_data"
    }
   ],
   "source": [
    "image_index = 7776 # You may select anything up to 60,000\n",
    "print(train_labels[image_index]) \n",
    "plt.imshow(train_images[image_index], cmap='Greys')"
   ]
  },
  {
   "cell_type": "markdown",
   "metadata": {
    "papermill": {
     "duration": 0.031209,
     "end_time": "2020-09-05T20:04:43.869217",
     "exception": false,
     "start_time": "2020-09-05T20:04:43.838008",
     "status": "completed"
    },
    "tags": []
   },
   "source": [
    "## Filter data to get 3 and 8 out"
   ]
  },
  {
   "cell_type": "code",
   "execution_count": 9,
   "metadata": {
    "execution": {
     "iopub.execute_input": "2020-09-05T20:04:43.941373Z",
     "iopub.status.busy": "2020-09-05T20:04:43.940664Z",
     "iopub.status.idle": "2020-09-05T20:04:43.960713Z",
     "shell.execute_reply": "2020-09-05T20:04:43.960044Z"
    },
    "papermill": {
     "duration": 0.060551,
     "end_time": "2020-09-05T20:04:43.960880",
     "exception": false,
     "start_time": "2020-09-05T20:04:43.900329",
     "status": "completed"
    },
    "tags": []
   },
   "outputs": [],
   "source": [
    "train_filter = np.where((train_labels == 3 ) | (train_labels == 8))\n",
    "test_filter = np.where((test_labels == 3) | (test_labels == 8))\n",
    "X_train, y_train = train_images[train_filter], train_labels[train_filter]\n",
    "X_test, y_test = test_images[test_filter], test_labels[test_filter]"
   ]
  },
  {
   "cell_type": "markdown",
   "metadata": {
    "papermill": {
     "duration": 0.030857,
     "end_time": "2020-09-05T20:04:44.022481",
     "exception": false,
     "start_time": "2020-09-05T20:04:43.991624",
     "status": "completed"
    },
    "tags": []
   },
   "source": [
    "We normalize the pixel values in the 0 to 1 range"
   ]
  },
  {
   "cell_type": "code",
   "execution_count": 10,
   "metadata": {
    "execution": {
     "iopub.execute_input": "2020-09-05T20:04:44.090356Z",
     "iopub.status.busy": "2020-09-05T20:04:44.089672Z",
     "iopub.status.idle": "2020-09-05T20:04:44.163250Z",
     "shell.execute_reply": "2020-09-05T20:04:44.162651Z"
    },
    "papermill": {
     "duration": 0.110376,
     "end_time": "2020-09-05T20:04:44.163589",
     "exception": false,
     "start_time": "2020-09-05T20:04:44.053213",
     "status": "completed"
    },
    "tags": []
   },
   "outputs": [],
   "source": [
    "X_train = X_train/255.\n",
    "X_test = X_test/255."
   ]
  },
  {
   "cell_type": "markdown",
   "metadata": {
    "papermill": {
     "duration": 0.030857,
     "end_time": "2020-09-05T20:04:44.226729",
     "exception": false,
     "start_time": "2020-09-05T20:04:44.195872",
     "status": "completed"
    },
    "tags": []
   },
   "source": [
    "Setup the labels as 1 (when the digit is 3) and 0 (when the digit is 8)"
   ]
  },
  {
   "cell_type": "code",
   "execution_count": 11,
   "metadata": {
    "execution": {
     "iopub.execute_input": "2020-09-05T20:04:44.297037Z",
     "iopub.status.busy": "2020-09-05T20:04:44.296324Z",
     "iopub.status.idle": "2020-09-05T20:04:44.309461Z",
     "shell.execute_reply": "2020-09-05T20:04:44.308851Z"
    },
    "papermill": {
     "duration": 0.051883,
     "end_time": "2020-09-05T20:04:44.309614",
     "exception": false,
     "start_time": "2020-09-05T20:04:44.257731",
     "status": "completed"
    },
    "tags": []
   },
   "outputs": [],
   "source": [
    "y_train = 1*(y_train==3)\n",
    "y_test = 1*(y_test==3)"
   ]
  },
  {
   "cell_type": "code",
   "execution_count": 12,
   "metadata": {
    "execution": {
     "iopub.execute_input": "2020-09-05T20:04:44.377221Z",
     "iopub.status.busy": "2020-09-05T20:04:44.376510Z",
     "iopub.status.idle": "2020-09-05T20:04:44.393308Z",
     "shell.execute_reply": "2020-09-05T20:04:44.392698Z"
    },
    "papermill": {
     "duration": 0.053015,
     "end_time": "2020-09-05T20:04:44.393462",
     "exception": false,
     "start_time": "2020-09-05T20:04:44.340447",
     "status": "completed"
    },
    "tags": []
   },
   "outputs": [
    {
     "data": {
      "text/plain": [
       "((11982, 28, 28), (1984, 28, 28))"
      ]
     },
     "execution_count": 12,
     "metadata": {},
     "output_type": "execute_result"
    }
   ],
   "source": [
    "X_train.shape, X_test.shape"
   ]
  },
  {
   "cell_type": "markdown",
   "metadata": {
    "papermill": {
     "duration": 0.031175,
     "end_time": "2020-09-05T20:04:44.455653",
     "exception": false,
     "start_time": "2020-09-05T20:04:44.424478",
     "status": "completed"
    },
    "tags": []
   },
   "source": [
    "### Reshape the input data to create a linear array"
   ]
  },
  {
   "cell_type": "code",
   "execution_count": 13,
   "metadata": {
    "execution": {
     "iopub.execute_input": "2020-09-05T20:04:44.522952Z",
     "iopub.status.busy": "2020-09-05T20:04:44.522247Z",
     "iopub.status.idle": "2020-09-05T20:04:44.538597Z",
     "shell.execute_reply": "2020-09-05T20:04:44.538030Z"
    },
    "papermill": {
     "duration": 0.052228,
     "end_time": "2020-09-05T20:04:44.538825",
     "exception": false,
     "start_time": "2020-09-05T20:04:44.486597",
     "status": "completed"
    },
    "tags": []
   },
   "outputs": [
    {
     "data": {
      "text/plain": [
       "((11982, 784), (1984, 784))"
      ]
     },
     "execution_count": 13,
     "metadata": {},
     "output_type": "execute_result"
    }
   ],
   "source": [
    "X_train = X_train.reshape(X_train.shape[0], -1)\n",
    "X_test = X_test.reshape(X_test.shape[0], -1)\n",
    "X_train.shape, X_test.shape"
   ]
  },
  {
   "cell_type": "markdown",
   "metadata": {
    "papermill": {
     "duration": 0.031297,
     "end_time": "2020-09-05T20:04:44.601427",
     "exception": false,
     "start_time": "2020-09-05T20:04:44.570130",
     "status": "completed"
    },
    "tags": []
   },
   "source": [
    "### Importing appropriate functions from 'Kudzu'"
   ]
  },
  {
   "cell_type": "code",
   "execution_count": 14,
   "metadata": {
    "execution": {
     "iopub.execute_input": "2020-09-05T20:04:44.671659Z",
     "iopub.status.busy": "2020-09-05T20:04:44.670906Z",
     "iopub.status.idle": "2020-09-05T20:04:44.693379Z",
     "shell.execute_reply": "2020-09-05T20:04:44.692799Z"
    },
    "papermill": {
     "duration": 0.06047,
     "end_time": "2020-09-05T20:04:44.693539",
     "exception": false,
     "start_time": "2020-09-05T20:04:44.633069",
     "status": "completed"
    },
    "tags": []
   },
   "outputs": [],
   "source": [
    "from kudzu.layer import Sigmoid\n",
    "from kudzu.layer import Relu\n",
    "from kudzu.layer import Affine, Sigmoid\n",
    "\n",
    "from kudzu.model import Model\n",
    "from kudzu.train import Learner\n",
    "from kudzu.optim import GD\n",
    "from kudzu.data import Data, Dataloader, Sampler\n",
    "\n",
    "from kudzu.callbacks import AccCallback\n",
    "from kudzu.callbacks import ClfCallback\n",
    "\n",
    "from kudzu.loss import MSE"
   ]
  },
  {
   "cell_type": "markdown",
   "metadata": {
    "papermill": {
     "duration": 0.032003,
     "end_time": "2020-09-05T20:04:44.756951",
     "exception": false,
     "start_time": "2020-09-05T20:04:44.724948",
     "status": "completed"
    },
    "tags": []
   },
   "source": [
    "### Let us create a `Config` class, to store important parameters. \n",
    "This class essentially plays the role of a dictionary."
   ]
  },
  {
   "cell_type": "code",
   "execution_count": 15,
   "metadata": {
    "execution": {
     "iopub.execute_input": "2020-09-05T20:04:44.826286Z",
     "iopub.status.busy": "2020-09-05T20:04:44.825613Z",
     "iopub.status.idle": "2020-09-05T20:04:44.842389Z",
     "shell.execute_reply": "2020-09-05T20:04:44.841039Z"
    },
    "papermill": {
     "duration": 0.052949,
     "end_time": "2020-09-05T20:04:44.842551",
     "exception": false,
     "start_time": "2020-09-05T20:04:44.789602",
     "status": "completed"
    },
    "tags": []
   },
   "outputs": [],
   "source": [
    "class Config:\n",
    "    pass\n",
    "config = Config()\n",
    "config.lr = 0.001\n",
    "config.num_epochs = 251\n",
    "config.bs = 50"
   ]
  },
  {
   "cell_type": "markdown",
   "metadata": {
    "papermill": {
     "duration": 0.031739,
     "end_time": "2020-09-05T20:04:44.905825",
     "exception": false,
     "start_time": "2020-09-05T20:04:44.874086",
     "status": "completed"
    },
    "tags": []
   },
   "source": [
    "### Initializing data to the variables"
   ]
  },
  {
   "cell_type": "code",
   "execution_count": 16,
   "metadata": {
    "execution": {
     "iopub.execute_input": "2020-09-05T20:04:44.980365Z",
     "iopub.status.busy": "2020-09-05T20:04:44.974044Z",
     "iopub.status.idle": "2020-09-05T20:04:44.989692Z",
     "shell.execute_reply": "2020-09-05T20:04:44.988983Z"
    },
    "papermill": {
     "duration": 0.052216,
     "end_time": "2020-09-05T20:04:44.989850",
     "exception": false,
     "start_time": "2020-09-05T20:04:44.937634",
     "status": "completed"
    },
    "tags": []
   },
   "outputs": [],
   "source": [
    "data = Data(X_train, y_train.reshape(-1,1))\n",
    "sampler = Sampler(data, config.bs, shuffle=True)\n",
    "\n",
    "dl = Dataloader(data, sampler)\n",
    "\n",
    "opt = GD(config.lr)\n",
    "loss = MSE()"
   ]
  },
  {
   "cell_type": "code",
   "execution_count": 17,
   "metadata": {
    "execution": {
     "iopub.execute_input": "2020-09-05T20:04:45.060467Z",
     "iopub.status.busy": "2020-09-05T20:04:45.059084Z",
     "iopub.status.idle": "2020-09-05T20:04:45.073408Z",
     "shell.execute_reply": "2020-09-05T20:04:45.072827Z"
    },
    "papermill": {
     "duration": 0.0518,
     "end_time": "2020-09-05T20:04:45.073637",
     "exception": false,
     "start_time": "2020-09-05T20:04:45.021837",
     "status": "completed"
    },
    "tags": []
   },
   "outputs": [],
   "source": [
    "training_xdata = X_train\n",
    "testing_xdata = X_test\n",
    "training_ydata = y_train.reshape(-1,1)\n",
    "testing_ydata = y_test.reshape(-1,1)"
   ]
  },
  {
   "cell_type": "markdown",
   "metadata": {
    "papermill": {
     "duration": 0.154532,
     "end_time": "2020-09-05T20:04:45.259982",
     "exception": false,
     "start_time": "2020-09-05T20:04:45.105450",
     "status": "completed"
    },
    "tags": []
   },
   "source": [
    "### Running Models with the Training data\n",
    "Details about the network layers:\n",
    "- A first affine layer has 784 inputs and does 100 affine transforms. These are followed by a Relu\n",
    "- A second affine layer has 100 inputs from the 100 activations of the past layer, and does 100 affine transforms. These are followed by a Relu\n",
    "- A third affine layer has 100 activations and does 2 affine transformations to create an embedding for visualization. There is no non-linearity here.\n",
    "- A final \"logistic regression\" which has an affine transform from 2 inputs to 1 output, which is squeezed through a sigmoid.\n",
    "\n",
    "Help taken from Anshuman's Notebook."
   ]
  },
  {
   "cell_type": "code",
   "execution_count": 18,
   "metadata": {
    "execution": {
     "iopub.execute_input": "2020-09-05T20:04:45.332750Z",
     "iopub.status.busy": "2020-09-05T20:04:45.331743Z",
     "iopub.status.idle": "2020-09-05T20:04:45.351886Z",
     "shell.execute_reply": "2020-09-05T20:04:45.350840Z"
    },
    "papermill": {
     "duration": 0.057219,
     "end_time": "2020-09-05T20:04:45.352101",
     "exception": false,
     "start_time": "2020-09-05T20:04:45.294882",
     "status": "completed"
    },
    "tags": []
   },
   "outputs": [],
   "source": [
    "# layers for the Neural Network\n",
    "layers = [Affine(\"first\", 784, 100), Relu(\"first\"), Affine(\"second\", 100, 100), Relu(\"second\"), Affine(\"third\", 100, 2), Affine(\"final\", 2, 1), Sigmoid(\"final\")]\n",
    "model_nn = Model(layers)\n",
    "\n",
    "# layers for the Logistic Regression\n",
    "layers_lr = [Affine(\"logits\", 784, 1), Sigmoid(\"sigmoid\")]\n",
    "model_lr = Model(layers_lr)"
   ]
  },
  {
   "cell_type": "code",
   "execution_count": 19,
   "metadata": {
    "execution": {
     "iopub.execute_input": "2020-09-05T20:04:45.421831Z",
     "iopub.status.busy": "2020-09-05T20:04:45.421096Z",
     "iopub.status.idle": "2020-09-05T20:04:45.436288Z",
     "shell.execute_reply": "2020-09-05T20:04:45.436811Z"
    },
    "papermill": {
     "duration": 0.052208,
     "end_time": "2020-09-05T20:04:45.436996",
     "exception": false,
     "start_time": "2020-09-05T20:04:45.384788",
     "status": "completed"
    },
    "tags": []
   },
   "outputs": [],
   "source": [
    "# suffix _nn stands for Neural Network.\n",
    "learner_nn = Learner(loss, model_nn, opt, config.num_epochs)\n",
    "acc_nn = ClfCallback(learner_nn, config.bs, training_xdata , testing_xdata, training_ydata, testing_ydata)\n",
    "learner_nn.set_callbacks([acc_nn])"
   ]
  },
  {
   "cell_type": "code",
   "execution_count": 20,
   "metadata": {
    "execution": {
     "iopub.execute_input": "2020-09-05T20:04:45.524593Z",
     "iopub.status.busy": "2020-09-05T20:04:45.516386Z",
     "iopub.status.idle": "2020-09-05T20:06:41.132372Z",
     "shell.execute_reply": "2020-09-05T20:06:41.133285Z"
    },
    "papermill": {
     "duration": 115.664994,
     "end_time": "2020-09-05T20:06:41.133472",
     "exception": false,
     "start_time": "2020-09-05T20:04:45.468478",
     "status": "completed"
    },
    "tags": []
   },
   "outputs": [
    {
     "name": "stdout",
     "output_type": "stream",
     "text": [
      "====== Neural Network ======\n"
     ]
    },
    {
     "name": "stdout",
     "output_type": "stream",
     "text": [
      "Epoch 0, Loss 0.2525\n",
      "Training Accuracy: 0.6422, Testing Accuracy: 0.6346\n",
      "\n"
     ]
    },
    {
     "name": "stdout",
     "output_type": "stream",
     "text": [
      "Epoch 10, Loss 0.0772\n",
      "Training Accuracy: 0.9305, Testing Accuracy: 0.9400\n",
      "\n"
     ]
    },
    {
     "name": "stdout",
     "output_type": "stream",
     "text": [
      "Epoch 20, Loss 0.05\n",
      "Training Accuracy: 0.9473, Testing Accuracy: 0.9607\n",
      "\n"
     ]
    },
    {
     "name": "stdout",
     "output_type": "stream",
     "text": [
      "Epoch 30, Loss 0.0406\n",
      "Training Accuracy: 0.9555, Testing Accuracy: 0.9647\n",
      "\n"
     ]
    },
    {
     "name": "stdout",
     "output_type": "stream",
     "text": [
      "Epoch 40, Loss 0.0357\n",
      "Training Accuracy: 0.9599, Testing Accuracy: 0.9657\n",
      "\n"
     ]
    },
    {
     "name": "stdout",
     "output_type": "stream",
     "text": [
      "Epoch 50, Loss 0.0326\n",
      "Training Accuracy: 0.9624, Testing Accuracy: 0.9657\n",
      "\n"
     ]
    },
    {
     "name": "stdout",
     "output_type": "stream",
     "text": [
      "Epoch 60, Loss 0.0303\n",
      "Training Accuracy: 0.9642, Testing Accuracy: 0.9662\n",
      "\n"
     ]
    },
    {
     "name": "stdout",
     "output_type": "stream",
     "text": [
      "Epoch 70, Loss 0.0286\n",
      "Training Accuracy: 0.9666, Testing Accuracy: 0.9677\n",
      "\n"
     ]
    },
    {
     "name": "stdout",
     "output_type": "stream",
     "text": [
      "Epoch 80, Loss 0.0272\n",
      "Training Accuracy: 0.9675, Testing Accuracy: 0.9693\n",
      "\n"
     ]
    },
    {
     "name": "stdout",
     "output_type": "stream",
     "text": [
      "Epoch 90, Loss 0.026\n",
      "Training Accuracy: 0.9688, Testing Accuracy: 0.9703\n",
      "\n"
     ]
    },
    {
     "name": "stdout",
     "output_type": "stream",
     "text": [
      "Epoch 100, Loss 0.025\n",
      "Training Accuracy: 0.9705, Testing Accuracy: 0.9708\n",
      "\n"
     ]
    },
    {
     "name": "stdout",
     "output_type": "stream",
     "text": [
      "Epoch 110, Loss 0.0241\n",
      "Training Accuracy: 0.9713, Testing Accuracy: 0.9728\n",
      "\n"
     ]
    },
    {
     "name": "stdout",
     "output_type": "stream",
     "text": [
      "Epoch 120, Loss 0.0233\n",
      "Training Accuracy: 0.9718, Testing Accuracy: 0.9728\n",
      "\n"
     ]
    },
    {
     "name": "stdout",
     "output_type": "stream",
     "text": [
      "Epoch 130, Loss 0.0226\n",
      "Training Accuracy: 0.9731, Testing Accuracy: 0.9738\n",
      "\n"
     ]
    },
    {
     "name": "stdout",
     "output_type": "stream",
     "text": [
      "Epoch 140, Loss 0.0219\n",
      "Training Accuracy: 0.9739, Testing Accuracy: 0.9733\n",
      "\n"
     ]
    },
    {
     "name": "stdout",
     "output_type": "stream",
     "text": [
      "Epoch 150, Loss 0.0213\n",
      "Training Accuracy: 0.9749, Testing Accuracy: 0.9738\n",
      "\n"
     ]
    },
    {
     "name": "stdout",
     "output_type": "stream",
     "text": [
      "Epoch 160, Loss 0.0207\n",
      "Training Accuracy: 0.9757, Testing Accuracy: 0.9743\n",
      "\n"
     ]
    },
    {
     "name": "stdout",
     "output_type": "stream",
     "text": [
      "Epoch 170, Loss 0.0202\n",
      "Training Accuracy: 0.9770, Testing Accuracy: 0.9743\n",
      "\n"
     ]
    },
    {
     "name": "stdout",
     "output_type": "stream",
     "text": [
      "Epoch 180, Loss 0.0197\n",
      "Training Accuracy: 0.9775, Testing Accuracy: 0.9753\n",
      "\n"
     ]
    },
    {
     "name": "stdout",
     "output_type": "stream",
     "text": [
      "Epoch 190, Loss 0.0192\n",
      "Training Accuracy: 0.9783, Testing Accuracy: 0.9753\n",
      "\n"
     ]
    },
    {
     "name": "stdout",
     "output_type": "stream",
     "text": [
      "Epoch 200, Loss 0.0187\n",
      "Training Accuracy: 0.9786, Testing Accuracy: 0.9758\n",
      "\n"
     ]
    },
    {
     "name": "stdout",
     "output_type": "stream",
     "text": [
      "Epoch 210, Loss 0.0183\n",
      "Training Accuracy: 0.9793, Testing Accuracy: 0.9753\n",
      "\n"
     ]
    },
    {
     "name": "stdout",
     "output_type": "stream",
     "text": [
      "Epoch 220, Loss 0.0179\n",
      "Training Accuracy: 0.9801, Testing Accuracy: 0.9753\n",
      "\n"
     ]
    },
    {
     "name": "stdout",
     "output_type": "stream",
     "text": [
      "Epoch 230, Loss 0.0174\n",
      "Training Accuracy: 0.9804, Testing Accuracy: 0.9753\n",
      "\n"
     ]
    },
    {
     "name": "stdout",
     "output_type": "stream",
     "text": [
      "Epoch 240, Loss 0.017\n",
      "Training Accuracy: 0.9808, Testing Accuracy: 0.9753\n",
      "\n"
     ]
    },
    {
     "name": "stdout",
     "output_type": "stream",
     "text": [
      "Epoch 250, Loss 0.0167\n",
      "Training Accuracy: 0.9816, Testing Accuracy: 0.9753\n",
      "\n"
     ]
    },
    {
     "data": {
      "text/plain": [
       "0.0019451636364490408"
      ]
     },
     "execution_count": 20,
     "metadata": {},
     "output_type": "execute_result"
    }
   ],
   "source": [
    "print(\"====== Neural Network ======\")\n",
    "learner_nn.train_loop(dl)"
   ]
  },
  {
   "cell_type": "markdown",
   "metadata": {
    "papermill": {
     "duration": 0.040001,
     "end_time": "2020-09-05T20:06:41.214739",
     "exception": false,
     "start_time": "2020-09-05T20:06:41.174738",
     "status": "completed"
    },
    "tags": []
   },
   "source": [
    "### Logistic Regression based Implementation."
   ]
  },
  {
   "cell_type": "code",
   "execution_count": 21,
   "metadata": {
    "execution": {
     "iopub.execute_input": "2020-09-05T20:06:41.305817Z",
     "iopub.status.busy": "2020-09-05T20:06:41.305095Z",
     "iopub.status.idle": "2020-09-05T20:06:41.317842Z",
     "shell.execute_reply": "2020-09-05T20:06:41.318399Z"
    },
    "papermill": {
     "duration": 0.063478,
     "end_time": "2020-09-05T20:06:41.318578",
     "exception": false,
     "start_time": "2020-09-05T20:06:41.255100",
     "status": "completed"
    },
    "tags": []
   },
   "outputs": [],
   "source": [
    "learner_lr = Learner(loss, model_lr, opt, config.num_epochs)\n",
    "acc_lr = ClfCallback(learner_lr, config.bs, training_xdata , testing_xdata, training_ydata, testing_ydata)\n",
    "learner_lr.set_callbacks([acc_lr])"
   ]
  },
  {
   "cell_type": "code",
   "execution_count": 22,
   "metadata": {
    "execution": {
     "iopub.execute_input": "2020-09-05T20:06:41.404447Z",
     "iopub.status.busy": "2020-09-05T20:06:41.403734Z",
     "iopub.status.idle": "2020-09-05T20:07:00.744380Z",
     "shell.execute_reply": "2020-09-05T20:07:00.745647Z"
    },
    "papermill": {
     "duration": 19.386903,
     "end_time": "2020-09-05T20:07:00.745829",
     "exception": false,
     "start_time": "2020-09-05T20:06:41.358926",
     "status": "completed"
    },
    "tags": []
   },
   "outputs": [
    {
     "name": "stdout",
     "output_type": "stream",
     "text": [
      "====== Logistic Regression ======\n",
      "Epoch 0, Loss 0.2312\n",
      "Training Accuracy: 0.7117, Testing Accuracy: 0.7182\n",
      "\n"
     ]
    },
    {
     "name": "stdout",
     "output_type": "stream",
     "text": [
      "Epoch 10, Loss 0.1039\n",
      "Training Accuracy: 0.9064, Testing Accuracy: 0.9194\n",
      "\n"
     ]
    },
    {
     "name": "stdout",
     "output_type": "stream",
     "text": [
      "Epoch 20, Loss 0.0805\n",
      "Training Accuracy: 0.9234, Testing Accuracy: 0.9395\n",
      "\n"
     ]
    },
    {
     "name": "stdout",
     "output_type": "stream",
     "text": [
      "Epoch 30, Loss 0.0696\n",
      "Training Accuracy: 0.9323, Testing Accuracy: 0.9466\n",
      "\n"
     ]
    },
    {
     "name": "stdout",
     "output_type": "stream",
     "text": [
      "Epoch 40, Loss 0.0629\n",
      "Training Accuracy: 0.9373, Testing Accuracy: 0.9511\n",
      "\n"
     ]
    },
    {
     "name": "stdout",
     "output_type": "stream",
     "text": [
      "Epoch 50, Loss 0.0583\n",
      "Training Accuracy: 0.9414, Testing Accuracy: 0.9536\n",
      "\n"
     ]
    },
    {
     "name": "stdout",
     "output_type": "stream",
     "text": [
      "Epoch 60, Loss 0.055\n",
      "Training Accuracy: 0.9445, Testing Accuracy: 0.9546\n",
      "\n"
     ]
    },
    {
     "name": "stdout",
     "output_type": "stream",
     "text": [
      "Epoch 70, Loss 0.0523\n",
      "Training Accuracy: 0.9463, Testing Accuracy: 0.9572\n",
      "\n"
     ]
    },
    {
     "name": "stdout",
     "output_type": "stream",
     "text": [
      "Epoch 80, Loss 0.0502\n",
      "Training Accuracy: 0.9478, Testing Accuracy: 0.9577\n",
      "\n"
     ]
    },
    {
     "name": "stdout",
     "output_type": "stream",
     "text": [
      "Epoch 90, Loss 0.0485\n",
      "Training Accuracy: 0.9493, Testing Accuracy: 0.9607\n",
      "\n"
     ]
    },
    {
     "name": "stdout",
     "output_type": "stream",
     "text": [
      "Epoch 100, Loss 0.047\n",
      "Training Accuracy: 0.9500, Testing Accuracy: 0.9607\n",
      "\n"
     ]
    },
    {
     "name": "stdout",
     "output_type": "stream",
     "text": [
      "Epoch 110, Loss 0.0457\n",
      "Training Accuracy: 0.9507, Testing Accuracy: 0.9622\n",
      "\n"
     ]
    },
    {
     "name": "stdout",
     "output_type": "stream",
     "text": [
      "Epoch 120, Loss 0.0446\n",
      "Training Accuracy: 0.9517, Testing Accuracy: 0.9627\n",
      "\n"
     ]
    },
    {
     "name": "stdout",
     "output_type": "stream",
     "text": [
      "Epoch 130, Loss 0.0436\n",
      "Training Accuracy: 0.9523, Testing Accuracy: 0.9627\n",
      "\n"
     ]
    },
    {
     "name": "stdout",
     "output_type": "stream",
     "text": [
      "Epoch 140, Loss 0.0428\n",
      "Training Accuracy: 0.9537, Testing Accuracy: 0.9637\n",
      "\n"
     ]
    },
    {
     "name": "stdout",
     "output_type": "stream",
     "text": [
      "Epoch 150, Loss 0.042\n",
      "Training Accuracy: 0.9548, Testing Accuracy: 0.9647\n",
      "\n"
     ]
    },
    {
     "name": "stdout",
     "output_type": "stream",
     "text": [
      "Epoch 160, Loss 0.0413\n",
      "Training Accuracy: 0.9554, Testing Accuracy: 0.9647\n",
      "\n"
     ]
    },
    {
     "name": "stdout",
     "output_type": "stream",
     "text": [
      "Epoch 170, Loss 0.0406\n",
      "Training Accuracy: 0.9559, Testing Accuracy: 0.9652\n",
      "\n"
     ]
    },
    {
     "name": "stdout",
     "output_type": "stream",
     "text": [
      "Epoch 180, Loss 0.0401\n",
      "Training Accuracy: 0.9561, Testing Accuracy: 0.9657\n",
      "\n"
     ]
    },
    {
     "name": "stdout",
     "output_type": "stream",
     "text": [
      "Epoch 190, Loss 0.0395\n",
      "Training Accuracy: 0.9568, Testing Accuracy: 0.9662\n",
      "\n"
     ]
    },
    {
     "name": "stdout",
     "output_type": "stream",
     "text": [
      "Epoch 200, Loss 0.039\n",
      "Training Accuracy: 0.9575, Testing Accuracy: 0.9667\n",
      "\n"
     ]
    },
    {
     "name": "stdout",
     "output_type": "stream",
     "text": [
      "Epoch 210, Loss 0.0386\n",
      "Training Accuracy: 0.9578, Testing Accuracy: 0.9667\n",
      "\n"
     ]
    },
    {
     "name": "stdout",
     "output_type": "stream",
     "text": [
      "Epoch 220, Loss 0.0381\n",
      "Training Accuracy: 0.9584, Testing Accuracy: 0.9667\n",
      "\n"
     ]
    },
    {
     "name": "stdout",
     "output_type": "stream",
     "text": [
      "Epoch 230, Loss 0.0377\n",
      "Training Accuracy: 0.9588, Testing Accuracy: 0.9657\n",
      "\n"
     ]
    },
    {
     "name": "stdout",
     "output_type": "stream",
     "text": [
      "Epoch 240, Loss 0.0374\n",
      "Training Accuracy: 0.9591, Testing Accuracy: 0.9662\n",
      "\n"
     ]
    },
    {
     "name": "stdout",
     "output_type": "stream",
     "text": [
      "Epoch 250, Loss 0.037\n",
      "Training Accuracy: 0.9594, Testing Accuracy: 0.9672\n",
      "\n"
     ]
    },
    {
     "data": {
      "text/plain": [
       "0.043090410542883435"
      ]
     },
     "execution_count": 22,
     "metadata": {},
     "output_type": "execute_result"
    }
   ],
   "source": [
    "print(\"====== Logistic Regression ======\")\n",
    "learner_lr.train_loop(dl)"
   ]
  },
  {
   "cell_type": "markdown",
   "metadata": {
    "papermill": {
     "duration": 0.048307,
     "end_time": "2020-09-05T20:07:00.843638",
     "exception": false,
     "start_time": "2020-09-05T20:07:00.795331",
     "status": "completed"
    },
    "tags": []
   },
   "source": [
    "### Comparing results of NN and LR"
   ]
  },
  {
   "cell_type": "code",
   "execution_count": 23,
   "metadata": {
    "execution": {
     "iopub.execute_input": "2020-09-05T20:07:00.952606Z",
     "iopub.status.busy": "2020-09-05T20:07:00.950865Z",
     "iopub.status.idle": "2020-09-05T20:07:01.234515Z",
     "shell.execute_reply": "2020-09-05T20:07:01.235223Z"
    },
    "papermill": {
     "duration": 0.340932,
     "end_time": "2020-09-05T20:07:01.235413",
     "exception": false,
     "start_time": "2020-09-05T20:07:00.894481",
     "status": "completed"
    },
    "tags": []
   },
   "outputs": [
    {
     "data": {
      "text/plain": [
       "<matplotlib.legend.Legend at 0x7fb1cd1ad358>"
      ]
     },
     "execution_count": 23,
     "metadata": {},
     "output_type": "execute_result"
    },
    {
     "data": {
      "image/png": "[encoded data removed]",
      "text/plain": [
       "<Figure size 1080x720 with 1 Axes>"
      ]
     },
     "metadata": {
      "needs_background": "light"
     },
     "output_type": "display_data"
    }
   ],
   "source": [
    "plt.figure(figsize=(15,10))\n",
    "\n",
    "# Neural Network plots\n",
    "plt.plot(acc_nn.accuracies, 'r-', label = \"Training Accuracies - NN\")\n",
    "plt.plot(acc_nn.test_accuracies, 'g-', label = \"Testing Accuracies - NN\")\n",
    "\n",
    "# Logistic Regression plots\n",
    "plt.plot(acc_lr.accuracies, 'k-', label = \"Training Accuracies - LR\")\n",
    "plt.plot(acc_lr.test_accuracies, 'b-', label = \"Testing Accuracies - LR\")\n",
    "\n",
    "plt.ylim(0.8, 1)\n",
    "\n",
    "plt.legend()\n",
    "\n"
   ]
  },
  {
   "cell_type": "markdown",
   "metadata": {
    "papermill": {
     "duration": 0.054302,
     "end_time": "2020-09-05T20:07:01.350484",
     "exception": false,
     "start_time": "2020-09-05T20:07:01.296182",
     "status": "completed"
    },
    "tags": []
   },
   "source": [
    "### From the plot, we can observe the following:\n",
    "- Neural Network achieves higher accuracy than the Logistic Regression model.\n",
    "- This apparently, is because of overfitting, i.e. NN captures more noise than data.\n",
    "- Testing accuracy of NN drops below the Training accuracy at higher epochs. This explains the over-fitting on training data.\n",
    "- Logistic Regression gives a reliable accuracy, without the above mentioned problem.\n"
   ]
  },
  {
   "cell_type": "markdown",
   "metadata": {
    "papermill": {
     "duration": 0.050349,
     "end_time": "2020-09-05T20:07:01.451236",
     "exception": false,
     "start_time": "2020-09-05T20:07:01.400887",
     "status": "completed"
    },
    "tags": []
   },
   "source": [
    "### Moving till the last but one layer (excluding it).\n",
    "#### Plotting the outputs of this layer of the NN."
   ]
  },
  {
   "cell_type": "code",
   "execution_count": 24,
   "metadata": {
    "execution": {
     "iopub.execute_input": "2020-09-05T20:07:01.557515Z",
     "iopub.status.busy": "2020-09-05T20:07:01.556797Z",
     "iopub.status.idle": "2020-09-05T20:07:01.572496Z",
     "shell.execute_reply": "2020-09-05T20:07:01.571902Z"
    },
    "papermill": {
     "duration": 0.070673,
     "end_time": "2020-09-05T20:07:01.572648",
     "exception": false,
     "start_time": "2020-09-05T20:07:01.501975",
     "status": "completed"
    },
    "tags": []
   },
   "outputs": [],
   "source": [
    "model_new = Model(layers[:-2])"
   ]
  },
  {
   "cell_type": "code",
   "execution_count": 25,
   "metadata": {
    "execution": {
     "iopub.execute_input": "2020-09-05T20:07:01.693056Z",
     "iopub.status.busy": "2020-09-05T20:07:01.692346Z",
     "iopub.status.idle": "2020-09-05T20:07:01.713138Z",
     "shell.execute_reply": "2020-09-05T20:07:01.714022Z"
    },
    "papermill": {
     "duration": 0.082659,
     "end_time": "2020-09-05T20:07:01.714203",
     "exception": false,
     "start_time": "2020-09-05T20:07:01.631544",
     "status": "completed"
    },
    "tags": []
   },
   "outputs": [],
   "source": [
    "plot_testing = model_new(testing_xdata)"
   ]
  },
  {
   "cell_type": "code",
   "execution_count": 26,
   "metadata": {
    "execution": {
     "iopub.execute_input": "2020-09-05T20:07:01.837269Z",
     "iopub.status.busy": "2020-09-05T20:07:01.836528Z",
     "iopub.status.idle": "2020-09-05T20:07:02.058570Z",
     "shell.execute_reply": "2020-09-05T20:07:02.059104Z"
    },
    "papermill": {
     "duration": 0.283039,
     "end_time": "2020-09-05T20:07:02.059326",
     "exception": false,
     "start_time": "2020-09-05T20:07:01.776287",
     "status": "completed"
    },
    "tags": []
   },
   "outputs": [
    {
     "data": {
      "text/plain": [
       "Text(0.5, 1.0, 'Outputs')"
      ]
     },
     "execution_count": 26,
     "metadata": {},
     "output_type": "execute_result"
    },
    {
     "data": {
      "image/png": "[encoded data removed]",
      "text/plain": [
       "<Figure size 576x504 with 1 Axes>"
      ]
     },
     "metadata": {
      "needs_background": "light"
     },
     "output_type": "display_data"
    }
   ],
   "source": [
    "plt.figure(figsize=(8,7))\n",
    "plt.scatter(plot_testing[:,0], plot_testing[:,1], alpha = 0.1, c = y_test.ravel());\n",
    "plt.title('Outputs')"
   ]
  },
  {
   "cell_type": "markdown",
   "metadata": {
    "papermill": {
     "duration": 0.052812,
     "end_time": "2020-09-05T20:07:02.164921",
     "exception": false,
     "start_time": "2020-09-05T20:07:02.112109",
     "status": "completed"
    },
    "tags": []
   },
   "source": [
    "### Plotting probability contours"
   ]
  },
  {
   "cell_type": "code",
   "execution_count": 27,
   "metadata": {
    "execution": {
     "iopub.execute_input": "2020-09-05T20:07:02.275788Z",
     "iopub.status.busy": "2020-09-05T20:07:02.275036Z",
     "iopub.status.idle": "2020-09-05T20:07:02.291497Z",
     "shell.execute_reply": "2020-09-05T20:07:02.290880Z"
    },
    "papermill": {
     "duration": 0.074204,
     "end_time": "2020-09-05T20:07:02.291662",
     "exception": false,
     "start_time": "2020-09-05T20:07:02.217458",
     "status": "completed"
    },
    "tags": []
   },
   "outputs": [],
   "source": [
    "model_prob = Model(layers[-2:]) "
   ]
  },
  {
   "cell_type": "code",
   "execution_count": 28,
   "metadata": {
    "execution": {
     "iopub.execute_input": "2020-09-05T20:07:02.409926Z",
     "iopub.status.busy": "2020-09-05T20:07:02.409195Z",
     "iopub.status.idle": "2020-09-05T20:07:02.425304Z",
     "shell.execute_reply": "2020-09-05T20:07:02.425809Z"
    },
    "papermill": {
     "duration": 0.081666,
     "end_time": "2020-09-05T20:07:02.425985",
     "exception": false,
     "start_time": "2020-09-05T20:07:02.344319",
     "status": "completed"
    },
    "tags": []
   },
   "outputs": [],
   "source": [
    "# Adjust the x and y ranges according to the above generated plot.\n",
    "x_range = np.linspace(-4, 1, 100) \n",
    "y_range = np.linspace(-6, 6, 100) \n",
    "x_grid, y_grid = np.meshgrid(x_range, y_range) # x_grid and y_grig are of size 100 X 100\n",
    "\n",
    "# converting x_grid and y_grid to continuous arrays\n",
    "x_grid_flat = np.ravel(x_grid)\n",
    "y_grid_flat = np.ravel(y_grid)\n",
    "\n",
    "# The last layer of the current model takes two columns as input. Hence transpose of np.vstack() is required.\n",
    "X = np.vstack((x_grid_flat, y_grid_flat)).T\n",
    "\n",
    "# x_grid and y_grid are of size 100 x 100\n",
    "probability_contour = model_prob(X).reshape(100,100) "
   ]
  },
  {
   "cell_type": "code",
   "execution_count": 29,
   "metadata": {
    "execution": {
     "iopub.execute_input": "2020-09-05T20:07:02.548994Z",
     "iopub.status.busy": "2020-09-05T20:07:02.548331Z",
     "iopub.status.idle": "2020-09-05T20:07:02.818022Z",
     "shell.execute_reply": "2020-09-05T20:07:02.817438Z"
    },
    "papermill": {
     "duration": 0.334705,
     "end_time": "2020-09-05T20:07:02.818189",
     "exception": false,
     "start_time": "2020-09-05T20:07:02.483484",
     "status": "completed"
    },
    "tags": []
   },
   "outputs": [
    {
     "data": {
      "image/png": "[encoded data removed]",
      "text/plain": [
       "<Figure size 720x648 with 1 Axes>"
      ]
     },
     "metadata": {
      "needs_background": "light"
     },
     "output_type": "display_data"
    }
   ],
   "source": [
    "plt.figure(figsize=(10,9))\n",
    "plt.scatter(plot_testing[:,0], plot_testing[:,1], alpha = 0.1, c = y_test.ravel())\n",
    "contours = plt.contour(x_grid,y_grid,probability_contour)\n",
    "plt.title('Probability Contours')\n",
    "plt.clabel(contours, inline = True );"
   ]
  }
 ],
 "metadata": {
  "kernelspec": {
   "display_name": "Python 3",
   "language": "python",
   "name": "python3"
  },
  "language_info": {
   "codemirror_mode": {
    "name": "ipython",
    "version": 3
   },
   "file_extension": ".py",
   "mimetype": "text/x-python",
   "name": "python",
   "nbconvert_exporter": "python",
   "pygments_lexer": "ipython3",
   "version": "3.6.12"
  },
  "papermill": {
   "duration": 146.14256,
   "end_time": "2020-09-05T20:07:03.421576",
   "environment_variables": {},
   "exception": null,
   "input_path": "2020-08-11-NeuralNetwork.ipynb",
   "output_path": "2020-08-11-NeuralNetwork.ipynb",
   "parameters": {},
   "start_time": "2020-09-05T20:04:37.279016",
   "version": "2.1.2"
  }
 },
 "nbformat": 4,
 "nbformat_minor": 4
}