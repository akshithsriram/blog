{
 "cells": [
  {
   "cell_type": "markdown",
   "id": "fitted-suggestion",
   "metadata": {
    "papermill": {
     "duration": 0.029766,
     "end_time": "2021-07-25T10:04:41.116883",
     "exception": false,
     "start_time": "2021-07-25T10:04:41.087117",
     "status": "completed"
    },
    "tags": []
   },
   "source": [
    "# \"A Basic Neural Network: Differentiate Hand-Written Digits\"\n",
    "\n",
    "- badges: true\n",
    "- author: Akshith Sriram"
   ]
  },
  {
   "cell_type": "markdown",
   "id": "signal-flexibility",
   "metadata": {
    "papermill": {
     "duration": 0.035863,
     "end_time": "2021-07-25T10:04:41.179334",
     "exception": false,
     "start_time": "2021-07-25T10:04:41.143471",
     "status": "completed"
    },
    "tags": []
   },
   "source": [
    "### Key Objectives:\n",
    "- Building a neural network that differentiates two hand-written digits 3 and 8.\n",
    "- Comparing the results of this Neural Network (NN) to that of a Logistic Regression (LR) model.\n",
    "\n",
    "### Requirements:\n",
    "- 'Kudzu' : A neural network library that was designed during our course by [Univ.AI](www.univ.ai). \n",
    "- MNIST Database\n",
    "\n",
    "If MNIST is not installed, use the command `!pip install mnist` given below.\n",
    "It can be run both from the command line and Jupyter Notebook."
   ]
  },
  {
   "cell_type": "code",
   "execution_count": 1,
   "id": "british-texture",
   "metadata": {
    "execution": {
     "iopub.execute_input": "2021-07-25T10:04:41.251202Z",
     "iopub.status.busy": "2021-07-25T10:04:41.250647Z",
     "iopub.status.idle": "2021-07-25T10:04:42.749460Z",
     "shell.execute_reply": "2021-07-25T10:04:42.748687Z"
    },
    "papermill": {
     "duration": 1.541304,
     "end_time": "2021-07-25T10:04:42.749601",
     "exception": false,
     "start_time": "2021-07-25T10:04:41.208297",
     "status": "completed"
    },
    "tags": []
   },
   "outputs": [
    {
     "name": "stdout",
     "output_type": "stream",
     "text": [
      "Collecting mnist\r\n"
     ]
    },
    {
     "name": "stdout",
     "output_type": "stream",
     "text": [
      "  Downloading mnist-0.2.2-py2.py3-none-any.whl (3.5 kB)\r\n",
      "Requirement already satisfied: numpy in /opt/hostedtoolcache/Python/3.6.14/x64/lib/python3.6/site-packages (from mnist) (1.19.5)\r\n"
     ]
    },
    {
     "name": "stdout",
     "output_type": "stream",
     "text": [
      "Installing collected packages: mnist\r\n",
      "Successfully installed mnist-0.2.2\r\n",
      "\u001b[33mWARNING: You are using pip version 21.1.3; however, version 21.2.1 is available.\r\n",
      "You should consider upgrading via the '/opt/hostedtoolcache/Python/3.6.14/x64/bin/python -m pip install --upgrade pip' command.\u001b[0m\r\n"
     ]
    }
   ],
   "source": [
    "!pip install mnist "
   ]
  },
  {
   "cell_type": "markdown",
   "id": "stunning-extra",
   "metadata": {
    "papermill": {
     "duration": 0.027771,
     "end_time": "2021-07-25T10:04:42.806021",
     "exception": false,
     "start_time": "2021-07-25T10:04:42.778250",
     "status": "completed"
    },
    "tags": []
   },
   "source": [
    "#### Importing necessary libraries"
   ]
  },
  {
   "cell_type": "code",
   "execution_count": 2,
   "id": "wooden-france",
   "metadata": {
    "execution": {
     "iopub.execute_input": "2021-07-25T10:04:42.866179Z",
     "iopub.status.busy": "2021-07-25T10:04:42.865063Z",
     "iopub.status.idle": "2021-07-25T10:04:43.385282Z",
     "shell.execute_reply": "2021-07-25T10:04:43.385849Z"
    },
    "papermill": {
     "duration": 0.553611,
     "end_time": "2021-07-25T10:04:43.386010",
     "exception": false,
     "start_time": "2021-07-25T10:04:42.832399",
     "status": "completed"
    },
    "tags": []
   },
   "outputs": [],
   "source": [
    "%load_ext autoreload\n",
    "%autoreload 2\n",
    "\n",
    "%matplotlib inline\n",
    "import matplotlib.pyplot as plt\n",
    "\n",
    "import numpy as np\n",
    "import pandas as pd"
   ]
  },
  {
   "cell_type": "markdown",
   "id": "stunning-physics",
   "metadata": {
    "papermill": {
     "duration": 0.029061,
     "end_time": "2021-07-25T10:04:43.443790",
     "exception": false,
     "start_time": "2021-07-25T10:04:43.414729",
     "status": "completed"
    },
    "tags": []
   },
   "source": [
    "### Preparing the Data"
   ]
  },
  {
   "cell_type": "code",
   "execution_count": 3,
   "id": "unauthorized-remainder",
   "metadata": {
    "execution": {
     "iopub.execute_input": "2021-07-25T10:04:43.503413Z",
     "iopub.status.busy": "2021-07-25T10:04:43.502810Z",
     "iopub.status.idle": "2021-07-25T10:04:43.511953Z",
     "shell.execute_reply": "2021-07-25T10:04:43.512861Z"
    },
    "papermill": {
     "duration": 0.04288,
     "end_time": "2021-07-25T10:04:43.513019",
     "exception": false,
     "start_time": "2021-07-25T10:04:43.470139",
     "status": "completed"
    },
    "tags": []
   },
   "outputs": [],
   "source": [
    "import mnist"
   ]
  },
  {
   "cell_type": "code",
   "execution_count": 4,
   "id": "correct-antarctica",
   "metadata": {
    "execution": {
     "iopub.execute_input": "2021-07-25T10:04:43.569166Z",
     "iopub.status.busy": "2021-07-25T10:04:43.568579Z",
     "iopub.status.idle": "2021-07-25T10:08:21.648466Z",
     "shell.execute_reply": "2021-07-25T10:08:21.647997Z"
    },
    "papermill": {
     "duration": 218.108921,
     "end_time": "2021-07-25T10:08:21.648592",
     "exception": false,
     "start_time": "2021-07-25T10:04:43.539671",
     "status": "completed"
    },
    "tags": []
   },
   "outputs": [],
   "source": [
    "train_images = mnist.train_images()\n",
    "train_labels = mnist.train_labels()"
   ]
  },
  {
   "cell_type": "code",
   "execution_count": 5,
   "id": "musical-prospect",
   "metadata": {
    "execution": {
     "iopub.execute_input": "2021-07-25T10:08:21.707464Z",
     "iopub.status.busy": "2021-07-25T10:08:21.706928Z",
     "iopub.status.idle": "2021-07-25T10:08:21.719619Z",
     "shell.execute_reply": "2021-07-25T10:08:21.720108Z"
    },
    "papermill": {
     "duration": 0.042551,
     "end_time": "2021-07-25T10:08:21.720221",
     "exception": false,
     "start_time": "2021-07-25T10:08:21.677670",
     "status": "completed"
    },
    "tags": []
   },
   "outputs": [
    {
     "data": {
      "text/plain": [
       "((60000, 28, 28), (60000,))"
      ]
     },
     "execution_count": 5,
     "metadata": {},
     "output_type": "execute_result"
    }
   ],
   "source": [
    "train_images.shape, train_labels.shape"
   ]
  },
  {
   "cell_type": "code",
   "execution_count": 6,
   "id": "preliminary-elizabeth",
   "metadata": {
    "execution": {
     "iopub.execute_input": "2021-07-25T10:08:21.777045Z",
     "iopub.status.busy": "2021-07-25T10:08:21.776397Z",
     "iopub.status.idle": "2021-07-25T10:09:05.358334Z",
     "shell.execute_reply": "2021-07-25T10:09:05.358884Z"
    },
    "papermill": {
     "duration": 43.61229,
     "end_time": "2021-07-25T10:09:05.359083",
     "exception": false,
     "start_time": "2021-07-25T10:08:21.746793",
     "status": "completed"
    },
    "tags": []
   },
   "outputs": [],
   "source": [
    "test_images = mnist.test_images()\n",
    "test_labels = mnist.test_labels()"
   ]
  },
  {
   "cell_type": "code",
   "execution_count": 7,
   "id": "acknowledged-oxygen",
   "metadata": {
    "execution": {
     "iopub.execute_input": "2021-07-25T10:09:05.426269Z",
     "iopub.status.busy": "2021-07-25T10:09:05.425079Z",
     "iopub.status.idle": "2021-07-25T10:09:05.438585Z",
     "shell.execute_reply": "2021-07-25T10:09:05.439132Z"
    },
    "papermill": {
     "duration": 0.049525,
     "end_time": "2021-07-25T10:09:05.439263",
     "exception": false,
     "start_time": "2021-07-25T10:09:05.389738",
     "status": "completed"
    },
    "tags": []
   },
   "outputs": [
    {
     "data": {
      "text/plain": [
       "((10000, 28, 28), (10000,))"
      ]
     },
     "execution_count": 7,
     "metadata": {},
     "output_type": "execute_result"
    }
   ],
   "source": [
    "test_images.shape, test_labels.shape"
   ]
  },
  {
   "cell_type": "code",
   "execution_count": 8,
   "id": "innovative-organic",
   "metadata": {
    "execution": {
     "iopub.execute_input": "2021-07-25T10:09:05.505463Z",
     "iopub.status.busy": "2021-07-25T10:09:05.504936Z",
     "iopub.status.idle": "2021-07-25T10:09:05.664736Z",
     "shell.execute_reply": "2021-07-25T10:09:05.665218Z"
    },
    "papermill": {
     "duration": 0.193233,
     "end_time": "2021-07-25T10:09:05.665364",
     "exception": false,
     "start_time": "2021-07-25T10:09:05.472131",
     "status": "completed"
    },
    "tags": []
   },
   "outputs": [
    {
     "name": "stdout",
     "output_type": "stream",
     "text": [
      "2\n"
     ]
    },
    {
     "data": {
      "text/plain": [
       "<matplotlib.image.AxesImage at 0x7fb914c73518>"
      ]
     },
     "execution_count": 8,
     "metadata": {},
     "output_type": "execute_result"
    },
    {
     "data": {
      "image/png": "[encoded data removed]",
      "text/plain": [
       "<Figure size 432x288 with 1 Axes>"
      ]
     },
     "metadata": {
      "needs_background": "light"
     },
     "output_type": "display_data"
    }
   ],
   "source": [
    "image_index = 7776 # You may select anything up to 60,000\n",
    "print(train_labels[image_index]) \n",
    "plt.imshow(train_images[image_index], cmap='Greys')"
   ]
  },
  {
   "cell_type": "markdown",
   "id": "facial-modem",
   "metadata": {
    "papermill": {
     "duration": 0.028084,
     "end_time": "2021-07-25T10:09:05.724565",
     "exception": false,
     "start_time": "2021-07-25T10:09:05.696481",
     "status": "completed"
    },
    "tags": []
   },
   "source": [
    "## Filter data to get 3 and 8 out"
   ]
  },
  {
   "cell_type": "code",
   "execution_count": 9,
   "id": "thousand-acquisition",
   "metadata": {
    "execution": {
     "iopub.execute_input": "2021-07-25T10:09:05.790137Z",
     "iopub.status.busy": "2021-07-25T10:09:05.788384Z",
     "iopub.status.idle": "2021-07-25T10:09:05.805665Z",
     "shell.execute_reply": "2021-07-25T10:09:05.805080Z"
    },
    "papermill": {
     "duration": 0.050144,
     "end_time": "2021-07-25T10:09:05.805805",
     "exception": false,
     "start_time": "2021-07-25T10:09:05.755661",
     "status": "completed"
    },
    "tags": []
   },
   "outputs": [],
   "source": [
    "train_filter = np.where((train_labels == 3 ) | (train_labels == 8))\n",
    "test_filter = np.where((test_labels == 3) | (test_labels == 8))\n",
    "X_train, y_train = train_images[train_filter], train_labels[train_filter]\n",
    "X_test, y_test = test_images[test_filter], test_labels[test_filter]"
   ]
  },
  {
   "cell_type": "markdown",
   "id": "ruled-access",
   "metadata": {
    "papermill": {
     "duration": 0.038433,
     "end_time": "2021-07-25T10:09:05.883970",
     "exception": false,
     "start_time": "2021-07-25T10:09:05.845537",
     "status": "completed"
    },
    "tags": []
   },
   "source": [
    "We normalize the pixel values in the 0 to 1 range"
   ]
  },
  {
   "cell_type": "code",
   "execution_count": 10,
   "id": "isolated-denver",
   "metadata": {
    "execution": {
     "iopub.execute_input": "2021-07-25T10:09:05.956927Z",
     "iopub.status.busy": "2021-07-25T10:09:05.956304Z",
     "iopub.status.idle": "2021-07-25T10:09:06.016464Z",
     "shell.execute_reply": "2021-07-25T10:09:06.015791Z"
    },
    "papermill": {
     "duration": 0.095342,
     "end_time": "2021-07-25T10:09:06.016593",
     "exception": false,
     "start_time": "2021-07-25T10:09:05.921251",
     "status": "completed"
    },
    "tags": []
   },
   "outputs": [],
   "source": [
    "X_train = X_train/255.\n",
    "X_test = X_test/255."
   ]
  },
  {
   "cell_type": "markdown",
   "id": "perfect-summary",
   "metadata": {
    "papermill": {
     "duration": 0.029642,
     "end_time": "2021-07-25T10:09:06.079250",
     "exception": false,
     "start_time": "2021-07-25T10:09:06.049608",
     "status": "completed"
    },
    "tags": []
   },
   "source": [
    "Setup the labels as 1 (when the digit is 3) and 0 (when the digit is 8)"
   ]
  },
  {
   "cell_type": "code",
   "execution_count": 11,
   "id": "personalized-growing",
   "metadata": {
    "execution": {
     "iopub.execute_input": "2021-07-25T10:09:06.158229Z",
     "iopub.status.busy": "2021-07-25T10:09:06.157668Z",
     "iopub.status.idle": "2021-07-25T10:09:06.163091Z",
     "shell.execute_reply": "2021-07-25T10:09:06.162639Z"
    },
    "papermill": {
     "duration": 0.053263,
     "end_time": "2021-07-25T10:09:06.163194",
     "exception": false,
     "start_time": "2021-07-25T10:09:06.109931",
     "status": "completed"
    },
    "tags": []
   },
   "outputs": [],
   "source": [
    "y_train = 1*(y_train==3)\n",
    "y_test = 1*(y_test==3)"
   ]
  },
  {
   "cell_type": "code",
   "execution_count": 12,
   "id": "considered-virgin",
   "metadata": {
    "execution": {
     "iopub.execute_input": "2021-07-25T10:09:06.240675Z",
     "iopub.status.busy": "2021-07-25T10:09:06.240039Z",
     "iopub.status.idle": "2021-07-25T10:09:06.254172Z",
     "shell.execute_reply": "2021-07-25T10:09:06.254747Z"
    },
    "papermill": {
     "duration": 0.054949,
     "end_time": "2021-07-25T10:09:06.254877",
     "exception": false,
     "start_time": "2021-07-25T10:09:06.199928",
     "status": "completed"
    },
    "tags": []
   },
   "outputs": [
    {
     "data": {
      "text/plain": [
       "((11982, 28, 28), (1984, 28, 28))"
      ]
     },
     "execution_count": 12,
     "metadata": {},
     "output_type": "execute_result"
    }
   ],
   "source": [
    "X_train.shape, X_test.shape"
   ]
  },
  {
   "cell_type": "markdown",
   "id": "civilian-mobile",
   "metadata": {
    "papermill": {
     "duration": 0.028797,
     "end_time": "2021-07-25T10:09:06.318366",
     "exception": false,
     "start_time": "2021-07-25T10:09:06.289569",
     "status": "completed"
    },
    "tags": []
   },
   "source": [
    "### Reshape the input data to create a linear array"
   ]
  },
  {
   "cell_type": "code",
   "execution_count": 13,
   "id": "colonial-adams",
   "metadata": {
    "execution": {
     "iopub.execute_input": "2021-07-25T10:09:06.384923Z",
     "iopub.status.busy": "2021-07-25T10:09:06.384363Z",
     "iopub.status.idle": "2021-07-25T10:09:06.398511Z",
     "shell.execute_reply": "2021-07-25T10:09:06.398067Z"
    },
    "papermill": {
     "duration": 0.049402,
     "end_time": "2021-07-25T10:09:06.398614",
     "exception": false,
     "start_time": "2021-07-25T10:09:06.349212",
     "status": "completed"
    },
    "tags": []
   },
   "outputs": [
    {
     "data": {
      "text/plain": [
       "((11982, 784), (1984, 784))"
      ]
     },
     "execution_count": 13,
     "metadata": {},
     "output_type": "execute_result"
    }
   ],
   "source": [
    "X_train = X_train.reshape(X_train.shape[0], -1)\n",
    "X_test = X_test.reshape(X_test.shape[0], -1)\n",
    "X_train.shape, X_test.shape"
   ]
  },
  {
   "cell_type": "markdown",
   "id": "smart-details",
   "metadata": {
    "papermill": {
     "duration": 0.030775,
     "end_time": "2021-07-25T10:09:06.460475",
     "exception": false,
     "start_time": "2021-07-25T10:09:06.429700",
     "status": "completed"
    },
    "tags": []
   },
   "source": [
    "### Importing appropriate functions from 'Kudzu'"
   ]
  },
  {
   "cell_type": "code",
   "execution_count": 14,
   "id": "celtic-trial",
   "metadata": {
    "execution": {
     "iopub.execute_input": "2021-07-25T10:09:06.552357Z",
     "iopub.status.busy": "2021-07-25T10:09:06.551666Z",
     "iopub.status.idle": "2021-07-25T10:09:06.571874Z",
     "shell.execute_reply": "2021-07-25T10:09:06.572343Z"
    },
    "papermill": {
     "duration": 0.063133,
     "end_time": "2021-07-25T10:09:06.572473",
     "exception": false,
     "start_time": "2021-07-25T10:09:06.509340",
     "status": "completed"
    },
    "tags": []
   },
   "outputs": [],
   "source": [
    "from kudzu.layer import Sigmoid\n",
    "from kudzu.layer import Relu\n",
    "from kudzu.layer import Affine, Sigmoid\n",
    "\n",
    "from kudzu.model import Model\n",
    "from kudzu.train import Learner\n",
    "from kudzu.optim import GD\n",
    "from kudzu.data import Data, Dataloader, Sampler\n",
    "\n",
    "from kudzu.callbacks import AccCallback\n",
    "from kudzu.callbacks import ClfCallback\n",
    "\n",
    "from kudzu.loss import MSE"
   ]
  },
  {
   "cell_type": "markdown",
   "id": "coupled-customer",
   "metadata": {
    "papermill": {
     "duration": 0.031811,
     "end_time": "2021-07-25T10:09:06.637800",
     "exception": false,
     "start_time": "2021-07-25T10:09:06.605989",
     "status": "completed"
    },
    "tags": []
   },
   "source": [
    "### Let us create a `Config` class, to store important parameters. \n",
    "This class essentially plays the role of a dictionary."
   ]
  },
  {
   "cell_type": "code",
   "execution_count": 15,
   "id": "young-ceiling",
   "metadata": {
    "execution": {
     "iopub.execute_input": "2021-07-25T10:09:06.714362Z",
     "iopub.status.busy": "2021-07-25T10:09:06.713792Z",
     "iopub.status.idle": "2021-07-25T10:09:06.721588Z",
     "shell.execute_reply": "2021-07-25T10:09:06.721103Z"
    },
    "papermill": {
     "duration": 0.050986,
     "end_time": "2021-07-25T10:09:06.721768",
     "exception": false,
     "start_time": "2021-07-25T10:09:06.670782",
     "status": "completed"
    },
    "tags": []
   },
   "outputs": [],
   "source": [
    "class Config:\n",
    "    pass\n",
    "config = Config()\n",
    "config.lr = 0.001\n",
    "config.num_epochs = 251\n",
    "config.bs = 50"
   ]
  },
  {
   "cell_type": "markdown",
   "id": "according-mandate",
   "metadata": {
    "papermill": {
     "duration": 0.04116,
     "end_time": "2021-07-25T10:09:06.794620",
     "exception": false,
     "start_time": "2021-07-25T10:09:06.753460",
     "status": "completed"
    },
    "tags": []
   },
   "source": [
    "### Initializing data to the variables"
   ]
  },
  {
   "cell_type": "code",
   "execution_count": 16,
   "id": "academic-disposition",
   "metadata": {
    "execution": {
     "iopub.execute_input": "2021-07-25T10:09:06.880221Z",
     "iopub.status.busy": "2021-07-25T10:09:06.874800Z",
     "iopub.status.idle": "2021-07-25T10:09:06.892728Z",
     "shell.execute_reply": "2021-07-25T10:09:06.891740Z"
    },
    "papermill": {
     "duration": 0.060118,
     "end_time": "2021-07-25T10:09:06.892889",
     "exception": false,
     "start_time": "2021-07-25T10:09:06.832771",
     "status": "completed"
    },
    "tags": []
   },
   "outputs": [],
   "source": [
    "data = Data(X_train, y_train.reshape(-1,1))\n",
    "sampler = Sampler(data, config.bs, shuffle=True)\n",
    "\n",
    "dl = Dataloader(data, sampler)\n",
    "\n",
    "opt = GD(config.lr)\n",
    "loss = MSE()"
   ]
  },
  {
   "cell_type": "code",
   "execution_count": 17,
   "id": "featured-commission",
   "metadata": {
    "execution": {
     "iopub.execute_input": "2021-07-25T10:09:06.972045Z",
     "iopub.status.busy": "2021-07-25T10:09:06.965837Z",
     "iopub.status.idle": "2021-07-25T10:09:06.974771Z",
     "shell.execute_reply": "2021-07-25T10:09:06.974271Z"
    },
    "papermill": {
     "duration": 0.050071,
     "end_time": "2021-07-25T10:09:06.974877",
     "exception": false,
     "start_time": "2021-07-25T10:09:06.924806",
     "status": "completed"
    },
    "tags": []
   },
   "outputs": [],
   "source": [
    "training_xdata = X_train\n",
    "testing_xdata = X_test\n",
    "training_ydata = y_train.reshape(-1,1)\n",
    "testing_ydata = y_test.reshape(-1,1)"
   ]
  },
  {
   "cell_type": "markdown",
   "id": "played-safety",
   "metadata": {
    "papermill": {
     "duration": 0.029814,
     "end_time": "2021-07-25T10:09:07.038099",
     "exception": false,
     "start_time": "2021-07-25T10:09:07.008285",
     "status": "completed"
    },
    "tags": []
   },
   "source": [
    "### Running Models with the Training data\n",
    "Details about the network layers:\n",
    "- A first affine layer has 784 inputs and does 100 affine transforms. These are followed by a Relu\n",
    "- A second affine layer has 100 inputs from the 100 activations of the past layer, and does 100 affine transforms. These are followed by a Relu\n",
    "- A third affine layer has 100 activations and does 2 affine transformations to create an embedding for visualization. There is no non-linearity here.\n",
    "- A final \"logistic regression\" which has an affine transform from 2 inputs to 1 output, which is squeezed through a sigmoid.\n",
    "\n",
    "Help taken from Anshuman's Notebook."
   ]
  },
  {
   "cell_type": "code",
   "execution_count": 18,
   "id": "asian-bankruptcy",
   "metadata": {
    "execution": {
     "iopub.execute_input": "2021-07-25T10:09:07.119350Z",
     "iopub.status.busy": "2021-07-25T10:09:07.118668Z",
     "iopub.status.idle": "2021-07-25T10:09:07.138730Z",
     "shell.execute_reply": "2021-07-25T10:09:07.139279Z"
    },
    "papermill": {
     "duration": 0.06377,
     "end_time": "2021-07-25T10:09:07.139428",
     "exception": false,
     "start_time": "2021-07-25T10:09:07.075658",
     "status": "completed"
    },
    "tags": []
   },
   "outputs": [],
   "source": [
    "# layers for the Neural Network\n",
    "layers = [Affine(\"first\", 784, 100), Relu(\"first\"), Affine(\"second\", 100, 100), Relu(\"second\"), Affine(\"third\", 100, 2), Affine(\"final\", 2, 1), Sigmoid(\"final\")]\n",
    "model_nn = Model(layers)\n",
    "\n",
    "# layers for the Logistic Regression\n",
    "layers_lr = [Affine(\"logits\", 784, 1), Sigmoid(\"sigmoid\")]\n",
    "model_lr = Model(layers_lr)"
   ]
  },
  {
   "cell_type": "code",
   "execution_count": 19,
   "id": "removed-butler",
   "metadata": {
    "execution": {
     "iopub.execute_input": "2021-07-25T10:09:07.217949Z",
     "iopub.status.busy": "2021-07-25T10:09:07.217206Z",
     "iopub.status.idle": "2021-07-25T10:09:07.229841Z",
     "shell.execute_reply": "2021-07-25T10:09:07.230406Z"
    },
    "papermill": {
     "duration": 0.053286,
     "end_time": "2021-07-25T10:09:07.230642",
     "exception": false,
     "start_time": "2021-07-25T10:09:07.177356",
     "status": "completed"
    },
    "tags": []
   },
   "outputs": [],
   "source": [
    "# suffix _nn stands for Neural Network.\n",
    "learner_nn = Learner(loss, model_nn, opt, config.num_epochs)\n",
    "acc_nn = ClfCallback(learner_nn, config.bs, training_xdata , testing_xdata, training_ydata, testing_ydata)\n",
    "learner_nn.set_callbacks([acc_nn])"
   ]
  },
  {
   "cell_type": "code",
   "execution_count": 20,
   "id": "conceptual-throw",
   "metadata": {
    "execution": {
     "iopub.execute_input": "2021-07-25T10:09:07.297693Z",
     "iopub.status.busy": "2021-07-25T10:09:07.297100Z",
     "iopub.status.idle": "2021-07-25T10:11:29.953543Z",
     "shell.execute_reply": "2021-07-25T10:11:29.954076Z"
    },
    "papermill": {
     "duration": 142.69005,
     "end_time": "2021-07-25T10:11:29.954218",
     "exception": false,
     "start_time": "2021-07-25T10:09:07.264168",
     "status": "completed"
    },
    "tags": []
   },
   "outputs": [
    {
     "name": "stdout",
     "output_type": "stream",
     "text": [
      "====== Neural Network ======\n"
     ]
    },
    {
     "name": "stdout",
     "output_type": "stream",
     "text": [
      "Epoch 0, Loss 0.1704\n",
      "Training Accuracy: 0.8620, Testing Accuracy: 0.8785\n",
      "\n"
     ]
    },
    {
     "name": "stdout",
     "output_type": "stream",
     "text": [
      "Epoch 10, Loss 0.0486\n",
      "Training Accuracy: 0.9502, Testing Accuracy: 0.9536\n",
      "\n"
     ]
    },
    {
     "name": "stdout",
     "output_type": "stream",
     "text": [
      "Epoch 20, Loss 0.0359\n",
      "Training Accuracy: 0.9613, Testing Accuracy: 0.9657\n",
      "\n"
     ]
    },
    {
     "name": "stdout",
     "output_type": "stream",
     "text": [
      "Epoch 30, Loss 0.0306\n",
      "Training Accuracy: 0.9656, Testing Accuracy: 0.9698\n",
      "\n"
     ]
    },
    {
     "name": "stdout",
     "output_type": "stream",
     "text": [
      "Epoch 40, Loss 0.0274\n",
      "Training Accuracy: 0.9694, Testing Accuracy: 0.9713\n",
      "\n"
     ]
    },
    {
     "name": "stdout",
     "output_type": "stream",
     "text": [
      "Epoch 50, Loss 0.0252\n",
      "Training Accuracy: 0.9715, Testing Accuracy: 0.9728\n",
      "\n"
     ]
    },
    {
     "name": "stdout",
     "output_type": "stream",
     "text": [
      "Epoch 60, Loss 0.0235\n",
      "Training Accuracy: 0.9734, Testing Accuracy: 0.9758\n",
      "\n"
     ]
    },
    {
     "name": "stdout",
     "output_type": "stream",
     "text": [
      "Epoch 70, Loss 0.0221\n",
      "Training Accuracy: 0.9751, Testing Accuracy: 0.9768\n",
      "\n"
     ]
    },
    {
     "name": "stdout",
     "output_type": "stream",
     "text": [
      "Epoch 80, Loss 0.021\n",
      "Training Accuracy: 0.9767, Testing Accuracy: 0.9768\n",
      "\n"
     ]
    },
    {
     "name": "stdout",
     "output_type": "stream",
     "text": [
      "Epoch 90, Loss 0.02\n",
      "Training Accuracy: 0.9776, Testing Accuracy: 0.9773\n",
      "\n"
     ]
    },
    {
     "name": "stdout",
     "output_type": "stream",
     "text": [
      "Epoch 100, Loss 0.0191\n",
      "Training Accuracy: 0.9791, Testing Accuracy: 0.9773\n",
      "\n"
     ]
    },
    {
     "name": "stdout",
     "output_type": "stream",
     "text": [
      "Epoch 110, Loss 0.0183\n",
      "Training Accuracy: 0.9805, Testing Accuracy: 0.9773\n",
      "\n"
     ]
    },
    {
     "name": "stdout",
     "output_type": "stream",
     "text": [
      "Epoch 120, Loss 0.0177\n",
      "Training Accuracy: 0.9816, Testing Accuracy: 0.9783\n",
      "\n"
     ]
    },
    {
     "name": "stdout",
     "output_type": "stream",
     "text": [
      "Epoch 130, Loss 0.017\n",
      "Training Accuracy: 0.9823, Testing Accuracy: 0.9773\n",
      "\n"
     ]
    },
    {
     "name": "stdout",
     "output_type": "stream",
     "text": [
      "Epoch 140, Loss 0.0164\n",
      "Training Accuracy: 0.9831, Testing Accuracy: 0.9773\n",
      "\n"
     ]
    },
    {
     "name": "stdout",
     "output_type": "stream",
     "text": [
      "Epoch 150, Loss 0.0159\n",
      "Training Accuracy: 0.9834, Testing Accuracy: 0.9773\n",
      "\n"
     ]
    },
    {
     "name": "stdout",
     "output_type": "stream",
     "text": [
      "Epoch 160, Loss 0.0154\n",
      "Training Accuracy: 0.9837, Testing Accuracy: 0.9778\n",
      "\n"
     ]
    },
    {
     "name": "stdout",
     "output_type": "stream",
     "text": [
      "Epoch 170, Loss 0.0149\n",
      "Training Accuracy: 0.9847, Testing Accuracy: 0.9783\n",
      "\n"
     ]
    },
    {
     "name": "stdout",
     "output_type": "stream",
     "text": [
      "Epoch 180, Loss 0.0144\n",
      "Training Accuracy: 0.9852, Testing Accuracy: 0.9783\n",
      "\n"
     ]
    },
    {
     "name": "stdout",
     "output_type": "stream",
     "text": [
      "Epoch 190, Loss 0.0139\n",
      "Training Accuracy: 0.9856, Testing Accuracy: 0.9798\n",
      "\n"
     ]
    },
    {
     "name": "stdout",
     "output_type": "stream",
     "text": [
      "Epoch 200, Loss 0.0135\n",
      "Training Accuracy: 0.9862, Testing Accuracy: 0.9803\n",
      "\n"
     ]
    },
    {
     "name": "stdout",
     "output_type": "stream",
     "text": [
      "Epoch 210, Loss 0.0131\n",
      "Training Accuracy: 0.9867, Testing Accuracy: 0.9803\n",
      "\n"
     ]
    },
    {
     "name": "stdout",
     "output_type": "stream",
     "text": [
      "Epoch 220, Loss 0.0127\n",
      "Training Accuracy: 0.9873, Testing Accuracy: 0.9803\n",
      "\n"
     ]
    },
    {
     "name": "stdout",
     "output_type": "stream",
     "text": [
      "Epoch 230, Loss 0.0123\n",
      "Training Accuracy: 0.9879, Testing Accuracy: 0.9798\n",
      "\n"
     ]
    },
    {
     "name": "stdout",
     "output_type": "stream",
     "text": [
      "Epoch 240, Loss 0.012\n",
      "Training Accuracy: 0.9884, Testing Accuracy: 0.9803\n",
      "\n"
     ]
    },
    {
     "name": "stdout",
     "output_type": "stream",
     "text": [
      "Epoch 250, Loss 0.0116\n",
      "Training Accuracy: 0.9886, Testing Accuracy: 0.9803\n",
      "\n"
     ]
    },
    {
     "data": {
      "text/plain": [
       "0.03175771771226856"
      ]
     },
     "execution_count": 20,
     "metadata": {},
     "output_type": "execute_result"
    }
   ],
   "source": [
    "print(\"====== Neural Network ======\")\n",
    "learner_nn.train_loop(dl)"
   ]
  },
  {
   "cell_type": "markdown",
   "id": "competent-suffering",
   "metadata": {
    "papermill": {
     "duration": 0.042771,
     "end_time": "2021-07-25T10:11:30.042090",
     "exception": false,
     "start_time": "2021-07-25T10:11:29.999319",
     "status": "completed"
    },
    "tags": []
   },
   "source": [
    "### Logistic Regression based Implementation."
   ]
  },
  {
   "cell_type": "code",
   "execution_count": 21,
   "id": "qualified-psychiatry",
   "metadata": {
    "execution": {
     "iopub.execute_input": "2021-07-25T10:11:30.136029Z",
     "iopub.status.busy": "2021-07-25T10:11:30.135488Z",
     "iopub.status.idle": "2021-07-25T10:11:30.147243Z",
     "shell.execute_reply": "2021-07-25T10:11:30.146714Z"
    },
    "papermill": {
     "duration": 0.057769,
     "end_time": "2021-07-25T10:11:30.147372",
     "exception": false,
     "start_time": "2021-07-25T10:11:30.089603",
     "status": "completed"
    },
    "tags": []
   },
   "outputs": [],
   "source": [
    "learner_lr = Learner(loss, model_lr, opt, config.num_epochs)\n",
    "acc_lr = ClfCallback(learner_lr, config.bs, training_xdata , testing_xdata, training_ydata, testing_ydata)\n",
    "learner_lr.set_callbacks([acc_lr])"
   ]
  },
  {
   "cell_type": "code",
   "execution_count": 22,
   "id": "average-outside",
   "metadata": {
    "execution": {
     "iopub.execute_input": "2021-07-25T10:11:30.237276Z",
     "iopub.status.busy": "2021-07-25T10:11:30.236721Z",
     "iopub.status.idle": "2021-07-25T10:11:50.184020Z",
     "shell.execute_reply": "2021-07-25T10:11:50.184600Z"
    },
    "papermill": {
     "duration": 19.988712,
     "end_time": "2021-07-25T10:11:50.184783",
     "exception": false,
     "start_time": "2021-07-25T10:11:30.196071",
     "status": "completed"
    },
    "tags": []
   },
   "outputs": [
    {
     "name": "stdout",
     "output_type": "stream",
     "text": [
      "====== Logistic Regression ======\n",
      "Epoch 0, Loss 0.2028\n",
      "Training Accuracy: 0.7894, Testing Accuracy: 0.8004\n",
      "\n"
     ]
    },
    {
     "name": "stdout",
     "output_type": "stream",
     "text": [
      "Epoch 10, Loss 0.1007\n",
      "Training Accuracy: 0.9084, Testing Accuracy: 0.9229\n",
      "\n"
     ]
    },
    {
     "name": "stdout",
     "output_type": "stream",
     "text": [
      "Epoch 20, Loss 0.0791\n",
      "Training Accuracy: 0.9259, Testing Accuracy: 0.9405\n",
      "\n"
     ]
    },
    {
     "name": "stdout",
     "output_type": "stream",
     "text": [
      "Epoch 30, Loss 0.0687\n",
      "Training Accuracy: 0.9341, Testing Accuracy: 0.9476\n",
      "\n"
     ]
    },
    {
     "name": "stdout",
     "output_type": "stream",
     "text": [
      "Epoch 40, Loss 0.0622\n",
      "Training Accuracy: 0.9393, Testing Accuracy: 0.9536\n",
      "\n"
     ]
    },
    {
     "name": "stdout",
     "output_type": "stream",
     "text": [
      "Epoch 50, Loss 0.0578\n",
      "Training Accuracy: 0.9428, Testing Accuracy: 0.9572\n",
      "\n"
     ]
    },
    {
     "name": "stdout",
     "output_type": "stream",
     "text": [
      "Epoch 60, Loss 0.0545\n",
      "Training Accuracy: 0.9455, Testing Accuracy: 0.9582\n",
      "\n"
     ]
    },
    {
     "name": "stdout",
     "output_type": "stream",
     "text": [
      "Epoch 70, Loss 0.0519\n",
      "Training Accuracy: 0.9478, Testing Accuracy: 0.9602\n",
      "\n"
     ]
    },
    {
     "name": "stdout",
     "output_type": "stream",
     "text": [
      "Epoch 80, Loss 0.0498\n",
      "Training Accuracy: 0.9496, Testing Accuracy: 0.9632\n",
      "\n"
     ]
    },
    {
     "name": "stdout",
     "output_type": "stream",
     "text": [
      "Epoch 90, Loss 0.0481\n",
      "Training Accuracy: 0.9513, Testing Accuracy: 0.9637\n",
      "\n"
     ]
    },
    {
     "name": "stdout",
     "output_type": "stream",
     "text": [
      "Epoch 100, Loss 0.0466\n",
      "Training Accuracy: 0.9524, Testing Accuracy: 0.9652\n",
      "\n"
     ]
    },
    {
     "name": "stdout",
     "output_type": "stream",
     "text": [
      "Epoch 110, Loss 0.0454\n",
      "Training Accuracy: 0.9533, Testing Accuracy: 0.9652\n",
      "\n"
     ]
    },
    {
     "name": "stdout",
     "output_type": "stream",
     "text": [
      "Epoch 120, Loss 0.0443\n",
      "Training Accuracy: 0.9543, Testing Accuracy: 0.9652\n",
      "\n"
     ]
    },
    {
     "name": "stdout",
     "output_type": "stream",
     "text": [
      "Epoch 130, Loss 0.0434\n",
      "Training Accuracy: 0.9545, Testing Accuracy: 0.9662\n",
      "\n"
     ]
    },
    {
     "name": "stdout",
     "output_type": "stream",
     "text": [
      "Epoch 140, Loss 0.0425\n",
      "Training Accuracy: 0.9550, Testing Accuracy: 0.9662\n",
      "\n"
     ]
    },
    {
     "name": "stdout",
     "output_type": "stream",
     "text": [
      "Epoch 150, Loss 0.0417\n",
      "Training Accuracy: 0.9556, Testing Accuracy: 0.9672\n",
      "\n"
     ]
    },
    {
     "name": "stdout",
     "output_type": "stream",
     "text": [
      "Epoch 160, Loss 0.041\n",
      "Training Accuracy: 0.9559, Testing Accuracy: 0.9672\n",
      "\n"
     ]
    },
    {
     "name": "stdout",
     "output_type": "stream",
     "text": [
      "Epoch 170, Loss 0.0404\n",
      "Training Accuracy: 0.9569, Testing Accuracy: 0.9667\n",
      "\n"
     ]
    },
    {
     "name": "stdout",
     "output_type": "stream",
     "text": [
      "Epoch 180, Loss 0.0398\n",
      "Training Accuracy: 0.9576, Testing Accuracy: 0.9672\n",
      "\n"
     ]
    },
    {
     "name": "stdout",
     "output_type": "stream",
     "text": [
      "Epoch 190, Loss 0.0393\n",
      "Training Accuracy: 0.9582, Testing Accuracy: 0.9672\n",
      "\n"
     ]
    },
    {
     "name": "stdout",
     "output_type": "stream",
     "text": [
      "Epoch 200, Loss 0.0388\n",
      "Training Accuracy: 0.9588, Testing Accuracy: 0.9667\n",
      "\n"
     ]
    },
    {
     "name": "stdout",
     "output_type": "stream",
     "text": [
      "Epoch 210, Loss 0.0384\n",
      "Training Accuracy: 0.9594, Testing Accuracy: 0.9672\n",
      "\n"
     ]
    },
    {
     "name": "stdout",
     "output_type": "stream",
     "text": [
      "Epoch 220, Loss 0.0379\n",
      "Training Accuracy: 0.9596, Testing Accuracy: 0.9667\n",
      "\n"
     ]
    },
    {
     "name": "stdout",
     "output_type": "stream",
     "text": [
      "Epoch 230, Loss 0.0375\n",
      "Training Accuracy: 0.9601, Testing Accuracy: 0.9667\n",
      "\n"
     ]
    },
    {
     "name": "stdout",
     "output_type": "stream",
     "text": [
      "Epoch 240, Loss 0.0372\n",
      "Training Accuracy: 0.9607, Testing Accuracy: 0.9662\n",
      "\n"
     ]
    },
    {
     "name": "stdout",
     "output_type": "stream",
     "text": [
      "Epoch 250, Loss 0.0368\n",
      "Training Accuracy: 0.9611, Testing Accuracy: 0.9662\n",
      "\n"
     ]
    },
    {
     "data": {
      "text/plain": [
       "0.0561593727341975"
      ]
     },
     "execution_count": 22,
     "metadata": {},
     "output_type": "execute_result"
    }
   ],
   "source": [
    "print(\"====== Logistic Regression ======\")\n",
    "learner_lr.train_loop(dl)"
   ]
  },
  {
   "cell_type": "markdown",
   "id": "adjusted-possible",
   "metadata": {
    "papermill": {
     "duration": 0.063119,
     "end_time": "2021-07-25T10:11:50.304252",
     "exception": false,
     "start_time": "2021-07-25T10:11:50.241133",
     "status": "completed"
    },
    "tags": []
   },
   "source": [
    "### Comparing results of NN and LR"
   ]
  },
  {
   "cell_type": "code",
   "execution_count": 23,
   "id": "mental-multimedia",
   "metadata": {
    "execution": {
     "iopub.execute_input": "2021-07-25T10:11:50.421970Z",
     "iopub.status.busy": "2021-07-25T10:11:50.421398Z",
     "iopub.status.idle": "2021-07-25T10:11:50.741924Z",
     "shell.execute_reply": "2021-07-25T10:11:50.741421Z"
    },
    "papermill": {
     "duration": 0.381797,
     "end_time": "2021-07-25T10:11:50.742065",
     "exception": false,
     "start_time": "2021-07-25T10:11:50.360268",
     "status": "completed"
    },
    "tags": []
   },
   "outputs": [
    {
     "data": {
      "text/plain": [
       "<matplotlib.legend.Legend at 0x7fb90744c160>"
      ]
     },
     "execution_count": 23,
     "metadata": {},
     "output_type": "execute_result"
    },
    {
     "data": {
      "image/png": "[encoded data removed]",
      "text/plain": [
       "<Figure size 1080x720 with 1 Axes>"
      ]
     },
     "metadata": {
      "needs_background": "light"
     },
     "output_type": "display_data"
    }
   ],
   "source": [
    "plt.figure(figsize=(15,10))\n",
    "\n",
    "# Neural Network plots\n",
    "plt.plot(acc_nn.accuracies, 'r-', label = \"Training Accuracies - NN\")\n",
    "plt.plot(acc_nn.test_accuracies, 'g-', label = \"Testing Accuracies - NN\")\n",
    "\n",
    "# Logistic Regression plots\n",
    "plt.plot(acc_lr.accuracies, 'k-', label = \"Training Accuracies - LR\")\n",
    "plt.plot(acc_lr.test_accuracies, 'b-', label = \"Testing Accuracies - LR\")\n",
    "\n",
    "plt.ylim(0.8, 1)\n",
    "\n",
    "plt.legend()\n",
    "\n"
   ]
  },
  {
   "cell_type": "markdown",
   "id": "sexual-flesh",
   "metadata": {
    "papermill": {
     "duration": 0.050751,
     "end_time": "2021-07-25T10:11:50.849518",
     "exception": false,
     "start_time": "2021-07-25T10:11:50.798767",
     "status": "completed"
    },
    "tags": []
   },
   "source": [
    "### From the plot, we can observe the following:\n",
    "- Neural Network achieves higher accuracy than the Logistic Regression model.\n",
    "- This apparently, is because of overfitting, i.e. NN captures more noise than data.\n",
    "- Testing accuracy of NN drops below the Training accuracy at higher epochs. This explains the over-fitting on training data.\n",
    "- Logistic Regression gives a reliable accuracy, without the above mentioned problem.\n"
   ]
  },
  {
   "cell_type": "markdown",
   "id": "institutional-pacific",
   "metadata": {
    "papermill": {
     "duration": 0.0497,
     "end_time": "2021-07-25T10:11:50.945492",
     "exception": false,
     "start_time": "2021-07-25T10:11:50.895792",
     "status": "completed"
    },
    "tags": []
   },
   "source": [
    "### Moving till the last but one layer (excluding it).\n",
    "#### Plotting the outputs of this layer of the NN."
   ]
  },
  {
   "cell_type": "code",
   "execution_count": 24,
   "id": "economic-server",
   "metadata": {
    "execution": {
     "iopub.execute_input": "2021-07-25T10:11:51.041398Z",
     "iopub.status.busy": "2021-07-25T10:11:51.040443Z",
     "iopub.status.idle": "2021-07-25T10:11:51.053311Z",
     "shell.execute_reply": "2021-07-25T10:11:51.053740Z"
    },
    "papermill": {
     "duration": 0.062129,
     "end_time": "2021-07-25T10:11:51.053861",
     "exception": false,
     "start_time": "2021-07-25T10:11:50.991732",
     "status": "completed"
    },
    "tags": []
   },
   "outputs": [],
   "source": [
    "model_new = Model(layers[:-2])"
   ]
  },
  {
   "cell_type": "code",
   "execution_count": 25,
   "id": "varied-upgrade",
   "metadata": {
    "execution": {
     "iopub.execute_input": "2021-07-25T10:11:51.209950Z",
     "iopub.status.busy": "2021-07-25T10:11:51.208016Z",
     "iopub.status.idle": "2021-07-25T10:11:51.243057Z",
     "shell.execute_reply": "2021-07-25T10:11:51.243862Z"
    },
    "papermill": {
     "duration": 0.120757,
     "end_time": "2021-07-25T10:11:51.244009",
     "exception": false,
     "start_time": "2021-07-25T10:11:51.123252",
     "status": "completed"
    },
    "tags": []
   },
   "outputs": [],
   "source": [
    "plot_testing = model_new(testing_xdata)"
   ]
  },
  {
   "cell_type": "code",
   "execution_count": 26,
   "id": "specific-handling",
   "metadata": {
    "execution": {
     "iopub.execute_input": "2021-07-25T10:11:51.365947Z",
     "iopub.status.busy": "2021-07-25T10:11:51.365354Z",
     "iopub.status.idle": "2021-07-25T10:11:51.590709Z",
     "shell.execute_reply": "2021-07-25T10:11:51.590268Z"
    },
    "papermill": {
     "duration": 0.287457,
     "end_time": "2021-07-25T10:11:51.590848",
     "exception": false,
     "start_time": "2021-07-25T10:11:51.303391",
     "status": "completed"
    },
    "tags": []
   },
   "outputs": [
    {
     "data": {
      "text/plain": [
       "Text(0.5, 1.0, 'Outputs')"
      ]
     },
     "execution_count": 26,
     "metadata": {},
     "output_type": "execute_result"
    },
    {
     "data": {
      "image/png": "[encoded data removed]",
      "text/plain": [
       "<Figure size 576x504 with 1 Axes>"
      ]
     },
     "metadata": {
      "needs_background": "light"
     },
     "output_type": "display_data"
    }
   ],
   "source": [
    "plt.figure(figsize=(8,7))\n",
    "plt.scatter(plot_testing[:,0], plot_testing[:,1], alpha = 0.1, c = y_test.ravel());\n",
    "plt.title('Outputs')"
   ]
  },
  {
   "cell_type": "markdown",
   "id": "described-knowing",
   "metadata": {
    "papermill": {
     "duration": 0.051622,
     "end_time": "2021-07-25T10:11:51.691788",
     "exception": false,
     "start_time": "2021-07-25T10:11:51.640166",
     "status": "completed"
    },
    "tags": []
   },
   "source": [
    "### Plotting probability contours"
   ]
  },
  {
   "cell_type": "code",
   "execution_count": 27,
   "id": "needed-growing",
   "metadata": {
    "execution": {
     "iopub.execute_input": "2021-07-25T10:11:51.796225Z",
     "iopub.status.busy": "2021-07-25T10:11:51.795529Z",
     "iopub.status.idle": "2021-07-25T10:11:51.807487Z",
     "shell.execute_reply": "2021-07-25T10:11:51.808059Z"
    },
    "papermill": {
     "duration": 0.067264,
     "end_time": "2021-07-25T10:11:51.808180",
     "exception": false,
     "start_time": "2021-07-25T10:11:51.740916",
     "status": "completed"
    },
    "tags": []
   },
   "outputs": [],
   "source": [
    "model_prob = Model(layers[-2:]) "
   ]
  },
  {
   "cell_type": "code",
   "execution_count": 28,
   "id": "introductory-enforcement",
   "metadata": {
    "execution": {
     "iopub.execute_input": "2021-07-25T10:11:51.909316Z",
     "iopub.status.busy": "2021-07-25T10:11:51.908744Z",
     "iopub.status.idle": "2021-07-25T10:11:51.922913Z",
     "shell.execute_reply": "2021-07-25T10:11:51.923339Z"
    },
    "papermill": {
     "duration": 0.066848,
     "end_time": "2021-07-25T10:11:51.923465",
     "exception": false,
     "start_time": "2021-07-25T10:11:51.856617",
     "status": "completed"
    },
    "tags": []
   },
   "outputs": [],
   "source": [
    "# Adjust the x and y ranges according to the above generated plot.\n",
    "x_range = np.linspace(-4, 1, 100) \n",
    "y_range = np.linspace(-6, 6, 100) \n",
    "x_grid, y_grid = np.meshgrid(x_range, y_range) # x_grid and y_grig are of size 100 X 100\n",
    "\n",
    "# converting x_grid and y_grid to continuous arrays\n",
    "x_grid_flat = np.ravel(x_grid)\n",
    "y_grid_flat = np.ravel(y_grid)\n",
    "\n",
    "# The last layer of the current model takes two columns as input. Hence transpose of np.vstack() is required.\n",
    "X = np.vstack((x_grid_flat, y_grid_flat)).T\n",
    "\n",
    "# x_grid and y_grid are of size 100 x 100\n",
    "probability_contour = model_prob(X).reshape(100,100) "
   ]
  },
  {
   "cell_type": "code",
   "execution_count": 29,
   "id": "understood-landing",
   "metadata": {
    "execution": {
     "iopub.execute_input": "2021-07-25T10:11:52.037626Z",
     "iopub.status.busy": "2021-07-25T10:11:52.036983Z",
     "iopub.status.idle": "2021-07-25T10:11:52.366714Z",
     "shell.execute_reply": "2021-07-25T10:11:52.366272Z"
    },
    "papermill": {
     "duration": 0.38441,
     "end_time": "2021-07-25T10:11:52.366833",
     "exception": false,
     "start_time": "2021-07-25T10:11:51.982423",
     "status": "completed"
    },
    "tags": []
   },
   "outputs": [
    {
     "data": {
      "image/png": "[encoded data removed]",
      "text/plain": [
       "<Figure size 720x648 with 1 Axes>"
      ]
     },
     "metadata": {
      "needs_background": "light"
     },
     "output_type": "display_data"
    }
   ],
   "source": [
    "plt.figure(figsize=(10,9))\n",
    "plt.scatter(plot_testing[:,0], plot_testing[:,1], alpha = 0.1, c = y_test.ravel())\n",
    "contours = plt.contour(x_grid,y_grid,probability_contour)\n",
    "plt.title('Probability Contours')\n",
    "plt.clabel(contours, inline = True );"
   ]
  }
 ],
 "metadata": {
  "kernelspec": {
   "display_name": "Python 3",
   "language": "python",
   "name": "python3"
  },
  "language_info": {
   "codemirror_mode": {
    "name": "ipython",
    "version": 3
   },
   "file_extension": ".py",
   "mimetype": "text/x-python",
   "name": "python",
   "nbconvert_exporter": "python",
   "pygments_lexer": "ipython3",
   "version": "3.6.14"
  },
  "papermill": {
   "duration": 432.64042,
   "end_time": "2021-07-25T10:11:52.733412",
   "environment_variables": {},
   "exception": null,
   "input_path": "2020-08-11-NeuralNetwork.ipynb",
   "output_path": "2020-08-11-NeuralNetwork.ipynb",
   "parameters": {},
   "start_time": "2021-07-25T10:04:40.092992",
   "version": "2.1.2"
  }
 },
 "nbformat": 4,
 "nbformat_minor": 5
}