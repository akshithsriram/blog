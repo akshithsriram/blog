{
 "cells": [
  {
   "cell_type": "markdown",
   "metadata": {
    "papermill": {
     "duration": 0.0387,
     "end_time": "2020-09-20T20:04:56.574604",
     "exception": false,
     "start_time": "2020-09-20T20:04:56.535904",
     "status": "completed"
    },
    "tags": []
   },
   "source": [
    "# \"A Basic Neural Network: Differentiate Hand-Written Digits\"\n",
    "\n",
    "- badges: true\n",
    "- author: Akshith Sriram"
   ]
  },
  {
   "cell_type": "markdown",
   "metadata": {
    "papermill": {
     "duration": 0.024963,
     "end_time": "2020-09-20T20:04:56.625230",
     "exception": false,
     "start_time": "2020-09-20T20:04:56.600267",
     "status": "completed"
    },
    "tags": []
   },
   "source": [
    "### Key Objectives:\n",
    "- Building a neural network that differentiates two hand-written digits 3 and 8.\n",
    "- Comparing the results of this Neural Network (NN) to that of a Logistic Regression (LR) model.\n",
    "\n",
    "### Requirements:\n",
    "- 'Kudzu' : A neural network library that was designed during our course by [Univ.AI](www.univ.ai). \n",
    "- MNIST Database\n",
    "\n",
    "If MNIST is not installed, use the command `!pip install mnist` given below.\n",
    "It can be run both from the command line and Jupyter Notebook."
   ]
  },
  {
   "cell_type": "code",
   "execution_count": 1,
   "metadata": {
    "execution": {
     "iopub.execute_input": "2020-09-20T20:04:56.679500Z",
     "iopub.status.busy": "2020-09-20T20:04:56.678916Z",
     "iopub.status.idle": "2020-09-20T20:04:58.547218Z",
     "shell.execute_reply": "2020-09-20T20:04:58.548065Z"
    },
    "papermill": {
     "duration": 1.898497,
     "end_time": "2020-09-20T20:04:58.548367",
     "exception": false,
     "start_time": "2020-09-20T20:04:56.649870",
     "status": "completed"
    },
    "tags": []
   },
   "outputs": [
    {
     "name": "stdout",
     "output_type": "stream",
     "text": [
      "Collecting mnist\r\n"
     ]
    },
    {
     "name": "stdout",
     "output_type": "stream",
     "text": [
      "  Downloading mnist-0.2.2-py2.py3-none-any.whl (3.5 kB)\r\n"
     ]
    },
    {
     "name": "stdout",
     "output_type": "stream",
     "text": [
      "Requirement already satisfied: numpy in /opt/hostedtoolcache/Python/3.6.12/x64/lib/python3.6/site-packages (from mnist) (1.19.2)\r\n"
     ]
    },
    {
     "name": "stdout",
     "output_type": "stream",
     "text": [
      "Installing collected packages: mnist\r\n"
     ]
    },
    {
     "name": "stdout",
     "output_type": "stream",
     "text": [
      "Successfully installed mnist-0.2.2\r\n"
     ]
    }
   ],
   "source": [
    "!pip install mnist "
   ]
  },
  {
   "cell_type": "markdown",
   "metadata": {
    "papermill": {
     "duration": 0.026327,
     "end_time": "2020-09-20T20:04:58.601156",
     "exception": false,
     "start_time": "2020-09-20T20:04:58.574829",
     "status": "completed"
    },
    "tags": []
   },
   "source": [
    "#### Importing necessary libraries"
   ]
  },
  {
   "cell_type": "code",
   "execution_count": 2,
   "metadata": {
    "execution": {
     "iopub.execute_input": "2020-09-20T20:04:58.661280Z",
     "iopub.status.busy": "2020-09-20T20:04:58.660697Z",
     "iopub.status.idle": "2020-09-20T20:04:59.262174Z",
     "shell.execute_reply": "2020-09-20T20:04:59.261250Z"
    },
    "papermill": {
     "duration": 0.634828,
     "end_time": "2020-09-20T20:04:59.262393",
     "exception": false,
     "start_time": "2020-09-20T20:04:58.627565",
     "status": "completed"
    },
    "tags": []
   },
   "outputs": [],
   "source": [
    "%load_ext autoreload\n",
    "%autoreload 2\n",
    "\n",
    "%matplotlib inline\n",
    "import matplotlib.pyplot as plt\n",
    "\n",
    "import numpy as np\n",
    "import pandas as pd"
   ]
  },
  {
   "cell_type": "markdown",
   "metadata": {
    "papermill": {
     "duration": 0.026354,
     "end_time": "2020-09-20T20:04:59.318037",
     "exception": false,
     "start_time": "2020-09-20T20:04:59.291683",
     "status": "completed"
    },
    "tags": []
   },
   "source": [
    "### Preparing the Data"
   ]
  },
  {
   "cell_type": "code",
   "execution_count": 3,
   "metadata": {
    "execution": {
     "iopub.execute_input": "2020-09-20T20:04:59.377261Z",
     "iopub.status.busy": "2020-09-20T20:04:59.376682Z",
     "iopub.status.idle": "2020-09-20T20:04:59.387692Z",
     "shell.execute_reply": "2020-09-20T20:04:59.388230Z"
    },
    "papermill": {
     "duration": 0.043718,
     "end_time": "2020-09-20T20:04:59.388383",
     "exception": false,
     "start_time": "2020-09-20T20:04:59.344665",
     "status": "completed"
    },
    "tags": []
   },
   "outputs": [],
   "source": [
    "import mnist"
   ]
  },
  {
   "cell_type": "code",
   "execution_count": 4,
   "metadata": {
    "execution": {
     "iopub.execute_input": "2020-09-20T20:04:59.448949Z",
     "iopub.status.busy": "2020-09-20T20:04:59.448370Z",
     "iopub.status.idle": "2020-09-20T20:05:01.255749Z",
     "shell.execute_reply": "2020-09-20T20:05:01.255237Z"
    },
    "papermill": {
     "duration": 1.841376,
     "end_time": "2020-09-20T20:05:01.255917",
     "exception": false,
     "start_time": "2020-09-20T20:04:59.414541",
     "status": "completed"
    },
    "tags": []
   },
   "outputs": [],
   "source": [
    "train_images = mnist.train_images()\n",
    "train_labels = mnist.train_labels()"
   ]
  },
  {
   "cell_type": "code",
   "execution_count": 5,
   "metadata": {
    "execution": {
     "iopub.execute_input": "2020-09-20T20:05:01.315732Z",
     "iopub.status.busy": "2020-09-20T20:05:01.315142Z",
     "iopub.status.idle": "2020-09-20T20:05:01.333891Z",
     "shell.execute_reply": "2020-09-20T20:05:01.334313Z"
    },
    "papermill": {
     "duration": 0.050784,
     "end_time": "2020-09-20T20:05:01.334459",
     "exception": false,
     "start_time": "2020-09-20T20:05:01.283675",
     "status": "completed"
    },
    "tags": []
   },
   "outputs": [
    {
     "data": {
      "text/plain": [
       "((60000, 28, 28), (60000,))"
      ]
     },
     "execution_count": 5,
     "metadata": {},
     "output_type": "execute_result"
    }
   ],
   "source": [
    "train_images.shape, train_labels.shape"
   ]
  },
  {
   "cell_type": "code",
   "execution_count": 6,
   "metadata": {
    "execution": {
     "iopub.execute_input": "2020-09-20T20:05:01.394883Z",
     "iopub.status.busy": "2020-09-20T20:05:01.392826Z",
     "iopub.status.idle": "2020-09-20T20:05:02.281681Z",
     "shell.execute_reply": "2020-09-20T20:05:02.282156Z"
    },
    "papermill": {
     "duration": 0.920684,
     "end_time": "2020-09-20T20:05:02.282326",
     "exception": false,
     "start_time": "2020-09-20T20:05:01.361642",
     "status": "completed"
    },
    "tags": []
   },
   "outputs": [],
   "source": [
    "test_images = mnist.test_images()\n",
    "test_labels = mnist.test_labels()"
   ]
  },
  {
   "cell_type": "code",
   "execution_count": 7,
   "metadata": {
    "execution": {
     "iopub.execute_input": "2020-09-20T20:05:02.349512Z",
     "iopub.status.busy": "2020-09-20T20:05:02.348918Z",
     "iopub.status.idle": "2020-09-20T20:05:02.363655Z",
     "shell.execute_reply": "2020-09-20T20:05:02.363171Z"
    },
    "papermill": {
     "duration": 0.051533,
     "end_time": "2020-09-20T20:05:02.363793",
     "exception": false,
     "start_time": "2020-09-20T20:05:02.312260",
     "status": "completed"
    },
    "tags": []
   },
   "outputs": [
    {
     "data": {
      "text/plain": [
       "((10000, 28, 28), (10000,))"
      ]
     },
     "execution_count": 7,
     "metadata": {},
     "output_type": "execute_result"
    }
   ],
   "source": [
    "test_images.shape, test_labels.shape"
   ]
  },
  {
   "cell_type": "code",
   "execution_count": 8,
   "metadata": {
    "execution": {
     "iopub.execute_input": "2020-09-20T20:05:02.450359Z",
     "iopub.status.busy": "2020-09-20T20:05:02.430432Z",
     "iopub.status.idle": "2020-09-20T20:05:02.576992Z",
     "shell.execute_reply": "2020-09-20T20:05:02.577468Z"
    },
    "papermill": {
     "duration": 0.186206,
     "end_time": "2020-09-20T20:05:02.577632",
     "exception": false,
     "start_time": "2020-09-20T20:05:02.391426",
     "status": "completed"
    },
    "tags": []
   },
   "outputs": [
    {
     "name": "stdout",
     "output_type": "stream",
     "text": [
      "2\n"
     ]
    },
    {
     "data": {
      "text/plain": [
       "<matplotlib.image.AxesImage at 0x7fdd7b5a58d0>"
      ]
     },
     "execution_count": 8,
     "metadata": {},
     "output_type": "execute_result"
    },
    {
     "data": {
      "image/png": "[encoded data removed]",
      "text/plain": [
       "<Figure size 432x288 with 1 Axes>"
      ]
     },
     "metadata": {
      "needs_background": "light"
     },
     "output_type": "display_data"
    }
   ],
   "source": [
    "image_index = 7776 # You may select anything up to 60,000\n",
    "print(train_labels[image_index]) \n",
    "plt.imshow(train_images[image_index], cmap='Greys')"
   ]
  },
  {
   "cell_type": "markdown",
   "metadata": {
    "papermill": {
     "duration": 0.186129,
     "end_time": "2020-09-20T20:05:02.794575",
     "exception": false,
     "start_time": "2020-09-20T20:05:02.608446",
     "status": "completed"
    },
    "tags": []
   },
   "source": [
    "## Filter data to get 3 and 8 out"
   ]
  },
  {
   "cell_type": "code",
   "execution_count": 9,
   "metadata": {
    "execution": {
     "iopub.execute_input": "2020-09-20T20:05:02.862531Z",
     "iopub.status.busy": "2020-09-20T20:05:02.861928Z",
     "iopub.status.idle": "2020-09-20T20:05:02.882197Z",
     "shell.execute_reply": "2020-09-20T20:05:02.882876Z"
    },
    "papermill": {
     "duration": 0.058122,
     "end_time": "2020-09-20T20:05:02.883051",
     "exception": false,
     "start_time": "2020-09-20T20:05:02.824929",
     "status": "completed"
    },
    "tags": []
   },
   "outputs": [],
   "source": [
    "train_filter = np.where((train_labels == 3 ) | (train_labels == 8))\n",
    "test_filter = np.where((test_labels == 3) | (test_labels == 8))\n",
    "X_train, y_train = train_images[train_filter], train_labels[train_filter]\n",
    "X_test, y_test = test_images[test_filter], test_labels[test_filter]"
   ]
  },
  {
   "cell_type": "markdown",
   "metadata": {
    "papermill": {
     "duration": 0.028671,
     "end_time": "2020-09-20T20:05:02.940286",
     "exception": false,
     "start_time": "2020-09-20T20:05:02.911615",
     "status": "completed"
    },
    "tags": []
   },
   "source": [
    "We normalize the pixel values in the 0 to 1 range"
   ]
  },
  {
   "cell_type": "code",
   "execution_count": 10,
   "metadata": {
    "execution": {
     "iopub.execute_input": "2020-09-20T20:05:03.005175Z",
     "iopub.status.busy": "2020-09-20T20:05:03.004592Z",
     "iopub.status.idle": "2020-09-20T20:05:03.062068Z",
     "shell.execute_reply": "2020-09-20T20:05:03.061202Z"
    },
    "papermill": {
     "duration": 0.092839,
     "end_time": "2020-09-20T20:05:03.062264",
     "exception": false,
     "start_time": "2020-09-20T20:05:02.969425",
     "status": "completed"
    },
    "tags": []
   },
   "outputs": [],
   "source": [
    "X_train = X_train/255.\n",
    "X_test = X_test/255."
   ]
  },
  {
   "cell_type": "markdown",
   "metadata": {
    "papermill": {
     "duration": 0.028665,
     "end_time": "2020-09-20T20:05:03.126485",
     "exception": false,
     "start_time": "2020-09-20T20:05:03.097820",
     "status": "completed"
    },
    "tags": []
   },
   "source": [
    "Setup the labels as 1 (when the digit is 3) and 0 (when the digit is 8)"
   ]
  },
  {
   "cell_type": "code",
   "execution_count": 11,
   "metadata": {
    "execution": {
     "iopub.execute_input": "2020-09-20T20:05:03.189994Z",
     "iopub.status.busy": "2020-09-20T20:05:03.189398Z",
     "iopub.status.idle": "2020-09-20T20:05:03.206505Z",
     "shell.execute_reply": "2020-09-20T20:05:03.206972Z"
    },
    "papermill": {
     "duration": 0.052284,
     "end_time": "2020-09-20T20:05:03.207139",
     "exception": false,
     "start_time": "2020-09-20T20:05:03.154855",
     "status": "completed"
    },
    "tags": []
   },
   "outputs": [],
   "source": [
    "y_train = 1*(y_train==3)\n",
    "y_test = 1*(y_test==3)"
   ]
  },
  {
   "cell_type": "code",
   "execution_count": 12,
   "metadata": {
    "execution": {
     "iopub.execute_input": "2020-09-20T20:05:03.272990Z",
     "iopub.status.busy": "2020-09-20T20:05:03.272274Z",
     "iopub.status.idle": "2020-09-20T20:05:03.288090Z",
     "shell.execute_reply": "2020-09-20T20:05:03.286960Z"
    },
    "papermill": {
     "duration": 0.051458,
     "end_time": "2020-09-20T20:05:03.288353",
     "exception": false,
     "start_time": "2020-09-20T20:05:03.236895",
     "status": "completed"
    },
    "tags": []
   },
   "outputs": [
    {
     "data": {
      "text/plain": [
       "((11982, 28, 28), (1984, 28, 28))"
      ]
     },
     "execution_count": 12,
     "metadata": {},
     "output_type": "execute_result"
    }
   ],
   "source": [
    "X_train.shape, X_test.shape"
   ]
  },
  {
   "cell_type": "markdown",
   "metadata": {
    "papermill": {
     "duration": 0.030586,
     "end_time": "2020-09-20T20:05:03.351015",
     "exception": false,
     "start_time": "2020-09-20T20:05:03.320429",
     "status": "completed"
    },
    "tags": []
   },
   "source": [
    "### Reshape the input data to create a linear array"
   ]
  },
  {
   "cell_type": "code",
   "execution_count": 13,
   "metadata": {
    "execution": {
     "iopub.execute_input": "2020-09-20T20:05:03.435457Z",
     "iopub.status.busy": "2020-09-20T20:05:03.434872Z",
     "iopub.status.idle": "2020-09-20T20:05:03.448697Z",
     "shell.execute_reply": "2020-09-20T20:05:03.448219Z"
    },
    "papermill": {
     "duration": 0.057994,
     "end_time": "2020-09-20T20:05:03.448831",
     "exception": false,
     "start_time": "2020-09-20T20:05:03.390837",
     "status": "completed"
    },
    "tags": []
   },
   "outputs": [
    {
     "data": {
      "text/plain": [
       "((11982, 784), (1984, 784))"
      ]
     },
     "execution_count": 13,
     "metadata": {},
     "output_type": "execute_result"
    }
   ],
   "source": [
    "X_train = X_train.reshape(X_train.shape[0], -1)\n",
    "X_test = X_test.reshape(X_test.shape[0], -1)\n",
    "X_train.shape, X_test.shape"
   ]
  },
  {
   "cell_type": "markdown",
   "metadata": {
    "papermill": {
     "duration": 0.028694,
     "end_time": "2020-09-20T20:05:03.506422",
     "exception": false,
     "start_time": "2020-09-20T20:05:03.477728",
     "status": "completed"
    },
    "tags": []
   },
   "source": [
    "### Importing appropriate functions from 'Kudzu'"
   ]
  },
  {
   "cell_type": "code",
   "execution_count": 14,
   "metadata": {
    "execution": {
     "iopub.execute_input": "2020-09-20T20:05:03.574862Z",
     "iopub.status.busy": "2020-09-20T20:05:03.574252Z",
     "iopub.status.idle": "2020-09-20T20:05:03.592260Z",
     "shell.execute_reply": "2020-09-20T20:05:03.591728Z"
    },
    "papermill": {
     "duration": 0.057122,
     "end_time": "2020-09-20T20:05:03.592402",
     "exception": false,
     "start_time": "2020-09-20T20:05:03.535280",
     "status": "completed"
    },
    "tags": []
   },
   "outputs": [],
   "source": [
    "from kudzu.layer import Sigmoid\n",
    "from kudzu.layer import Relu\n",
    "from kudzu.layer import Affine, Sigmoid\n",
    "\n",
    "from kudzu.model import Model\n",
    "from kudzu.train import Learner\n",
    "from kudzu.optim import GD\n",
    "from kudzu.data import Data, Dataloader, Sampler\n",
    "\n",
    "from kudzu.callbacks import AccCallback\n",
    "from kudzu.callbacks import ClfCallback\n",
    "\n",
    "from kudzu.loss import MSE"
   ]
  },
  {
   "cell_type": "markdown",
   "metadata": {
    "papermill": {
     "duration": 0.028803,
     "end_time": "2020-09-20T20:05:03.649822",
     "exception": false,
     "start_time": "2020-09-20T20:05:03.621019",
     "status": "completed"
    },
    "tags": []
   },
   "source": [
    "### Let us create a `Config` class, to store important parameters. \n",
    "This class essentially plays the role of a dictionary."
   ]
  },
  {
   "cell_type": "code",
   "execution_count": 15,
   "metadata": {
    "execution": {
     "iopub.execute_input": "2020-09-20T20:05:03.714736Z",
     "iopub.status.busy": "2020-09-20T20:05:03.713713Z",
     "iopub.status.idle": "2020-09-20T20:05:03.724381Z",
     "shell.execute_reply": "2020-09-20T20:05:03.723865Z"
    },
    "papermill": {
     "duration": 0.045896,
     "end_time": "2020-09-20T20:05:03.724511",
     "exception": false,
     "start_time": "2020-09-20T20:05:03.678615",
     "status": "completed"
    },
    "tags": []
   },
   "outputs": [],
   "source": [
    "class Config:\n",
    "    pass\n",
    "config = Config()\n",
    "config.lr = 0.001\n",
    "config.num_epochs = 251\n",
    "config.bs = 50"
   ]
  },
  {
   "cell_type": "markdown",
   "metadata": {
    "papermill": {
     "duration": 0.02901,
     "end_time": "2020-09-20T20:05:03.782363",
     "exception": false,
     "start_time": "2020-09-20T20:05:03.753353",
     "status": "completed"
    },
    "tags": []
   },
   "source": [
    "### Initializing data to the variables"
   ]
  },
  {
   "cell_type": "code",
   "execution_count": 16,
   "metadata": {
    "execution": {
     "iopub.execute_input": "2020-09-20T20:05:03.845892Z",
     "iopub.status.busy": "2020-09-20T20:05:03.845205Z",
     "iopub.status.idle": "2020-09-20T20:05:03.859244Z",
     "shell.execute_reply": "2020-09-20T20:05:03.858753Z"
    },
    "papermill": {
     "duration": 0.047981,
     "end_time": "2020-09-20T20:05:03.859368",
     "exception": false,
     "start_time": "2020-09-20T20:05:03.811387",
     "status": "completed"
    },
    "tags": []
   },
   "outputs": [],
   "source": [
    "data = Data(X_train, y_train.reshape(-1,1))\n",
    "sampler = Sampler(data, config.bs, shuffle=True)\n",
    "\n",
    "dl = Dataloader(data, sampler)\n",
    "\n",
    "opt = GD(config.lr)\n",
    "loss = MSE()"
   ]
  },
  {
   "cell_type": "code",
   "execution_count": 17,
   "metadata": {
    "execution": {
     "iopub.execute_input": "2020-09-20T20:05:03.920793Z",
     "iopub.status.busy": "2020-09-20T20:05:03.920206Z",
     "iopub.status.idle": "2020-09-20T20:05:03.933795Z",
     "shell.execute_reply": "2020-09-20T20:05:03.933302Z"
    },
    "papermill": {
     "duration": 0.04626,
     "end_time": "2020-09-20T20:05:03.933920",
     "exception": false,
     "start_time": "2020-09-20T20:05:03.887660",
     "status": "completed"
    },
    "tags": []
   },
   "outputs": [],
   "source": [
    "training_xdata = X_train\n",
    "testing_xdata = X_test\n",
    "training_ydata = y_train.reshape(-1,1)\n",
    "testing_ydata = y_test.reshape(-1,1)"
   ]
  },
  {
   "cell_type": "markdown",
   "metadata": {
    "papermill": {
     "duration": 0.028533,
     "end_time": "2020-09-20T20:05:03.991238",
     "exception": false,
     "start_time": "2020-09-20T20:05:03.962705",
     "status": "completed"
    },
    "tags": []
   },
   "source": [
    "### Running Models with the Training data\n",
    "Details about the network layers:\n",
    "- A first affine layer has 784 inputs and does 100 affine transforms. These are followed by a Relu\n",
    "- A second affine layer has 100 inputs from the 100 activations of the past layer, and does 100 affine transforms. These are followed by a Relu\n",
    "- A third affine layer has 100 activations and does 2 affine transformations to create an embedding for visualization. There is no non-linearity here.\n",
    "- A final \"logistic regression\" which has an affine transform from 2 inputs to 1 output, which is squeezed through a sigmoid.\n",
    "\n",
    "Help taken from Anshuman's Notebook."
   ]
  },
  {
   "cell_type": "code",
   "execution_count": 18,
   "metadata": {
    "execution": {
     "iopub.execute_input": "2020-09-20T20:05:04.062539Z",
     "iopub.status.busy": "2020-09-20T20:05:04.061918Z",
     "iopub.status.idle": "2020-09-20T20:05:04.079362Z",
     "shell.execute_reply": "2020-09-20T20:05:04.078844Z"
    },
    "papermill": {
     "duration": 0.059504,
     "end_time": "2020-09-20T20:05:04.079497",
     "exception": false,
     "start_time": "2020-09-20T20:05:04.019993",
     "status": "completed"
    },
    "tags": []
   },
   "outputs": [],
   "source": [
    "# layers for the Neural Network\n",
    "layers = [Affine(\"first\", 784, 100), Relu(\"first\"), Affine(\"second\", 100, 100), Relu(\"second\"), Affine(\"third\", 100, 2), Affine(\"final\", 2, 1), Sigmoid(\"final\")]\n",
    "model_nn = Model(layers)\n",
    "\n",
    "# layers for the Logistic Regression\n",
    "layers_lr = [Affine(\"logits\", 784, 1), Sigmoid(\"sigmoid\")]\n",
    "model_lr = Model(layers_lr)"
   ]
  },
  {
   "cell_type": "code",
   "execution_count": 19,
   "metadata": {
    "execution": {
     "iopub.execute_input": "2020-09-20T20:05:04.143244Z",
     "iopub.status.busy": "2020-09-20T20:05:04.142655Z",
     "iopub.status.idle": "2020-09-20T20:05:04.157306Z",
     "shell.execute_reply": "2020-09-20T20:05:04.156800Z"
    },
    "papermill": {
     "duration": 0.048995,
     "end_time": "2020-09-20T20:05:04.157446",
     "exception": false,
     "start_time": "2020-09-20T20:05:04.108451",
     "status": "completed"
    },
    "tags": []
   },
   "outputs": [],
   "source": [
    "# suffix _nn stands for Neural Network.\n",
    "learner_nn = Learner(loss, model_nn, opt, config.num_epochs)\n",
    "acc_nn = ClfCallback(learner_nn, config.bs, training_xdata , testing_xdata, training_ydata, testing_ydata)\n",
    "learner_nn.set_callbacks([acc_nn])"
   ]
  },
  {
   "cell_type": "code",
   "execution_count": 20,
   "metadata": {
    "execution": {
     "iopub.execute_input": "2020-09-20T20:05:04.218990Z",
     "iopub.status.busy": "2020-09-20T20:05:04.218448Z",
     "iopub.status.idle": "2020-09-20T20:06:28.940670Z",
     "shell.execute_reply": "2020-09-20T20:06:28.941380Z"
    },
    "papermill": {
     "duration": 84.755303,
     "end_time": "2020-09-20T20:06:28.941554",
     "exception": false,
     "start_time": "2020-09-20T20:05:04.186251",
     "status": "completed"
    },
    "tags": []
   },
   "outputs": [
    {
     "name": "stdout",
     "output_type": "stream",
     "text": [
      "====== Neural Network ======\n"
     ]
    },
    {
     "name": "stdout",
     "output_type": "stream",
     "text": [
      "Epoch 0, Loss 0.2548\n",
      "Training Accuracy: 0.4861, Testing Accuracy: 0.4975\n",
      "\n"
     ]
    },
    {
     "name": "stdout",
     "output_type": "stream",
     "text": [
      "Epoch 10, Loss 0.1705\n",
      "Training Accuracy: 0.8615, Testing Accuracy: 0.8609\n",
      "\n"
     ]
    },
    {
     "name": "stdout",
     "output_type": "stream",
     "text": [
      "Epoch 20, Loss 0.0901\n",
      "Training Accuracy: 0.9086, Testing Accuracy: 0.9168\n",
      "\n"
     ]
    },
    {
     "name": "stdout",
     "output_type": "stream",
     "text": [
      "Epoch 30, Loss 0.0604\n",
      "Training Accuracy: 0.9356, Testing Accuracy: 0.9491\n",
      "\n"
     ]
    },
    {
     "name": "stdout",
     "output_type": "stream",
     "text": [
      "Epoch 40, Loss 0.0475\n",
      "Training Accuracy: 0.9476, Testing Accuracy: 0.9597\n",
      "\n"
     ]
    },
    {
     "name": "stdout",
     "output_type": "stream",
     "text": [
      "Epoch 50, Loss 0.041\n",
      "Training Accuracy: 0.9549, Testing Accuracy: 0.9637\n",
      "\n"
     ]
    },
    {
     "name": "stdout",
     "output_type": "stream",
     "text": [
      "Epoch 60, Loss 0.037\n",
      "Training Accuracy: 0.9583, Testing Accuracy: 0.9693\n",
      "\n"
     ]
    },
    {
     "name": "stdout",
     "output_type": "stream",
     "text": [
      "Epoch 70, Loss 0.0343\n",
      "Training Accuracy: 0.9612, Testing Accuracy: 0.9708\n",
      "\n"
     ]
    },
    {
     "name": "stdout",
     "output_type": "stream",
     "text": [
      "Epoch 80, Loss 0.0323\n",
      "Training Accuracy: 0.9631, Testing Accuracy: 0.9708\n",
      "\n"
     ]
    },
    {
     "name": "stdout",
     "output_type": "stream",
     "text": [
      "Epoch 90, Loss 0.0307\n",
      "Training Accuracy: 0.9649, Testing Accuracy: 0.9718\n",
      "\n"
     ]
    },
    {
     "name": "stdout",
     "output_type": "stream",
     "text": [
      "Epoch 100, Loss 0.0294\n",
      "Training Accuracy: 0.9665, Testing Accuracy: 0.9723\n",
      "\n"
     ]
    },
    {
     "name": "stdout",
     "output_type": "stream",
     "text": [
      "Epoch 110, Loss 0.0283\n",
      "Training Accuracy: 0.9672, Testing Accuracy: 0.9713\n",
      "\n"
     ]
    },
    {
     "name": "stdout",
     "output_type": "stream",
     "text": [
      "Epoch 120, Loss 0.0273\n",
      "Training Accuracy: 0.9683, Testing Accuracy: 0.9698\n",
      "\n"
     ]
    },
    {
     "name": "stdout",
     "output_type": "stream",
     "text": [
      "Epoch 130, Loss 0.0265\n",
      "Training Accuracy: 0.9696, Testing Accuracy: 0.9708\n",
      "\n"
     ]
    },
    {
     "name": "stdout",
     "output_type": "stream",
     "text": [
      "Epoch 140, Loss 0.0257\n",
      "Training Accuracy: 0.9703, Testing Accuracy: 0.9703\n",
      "\n"
     ]
    },
    {
     "name": "stdout",
     "output_type": "stream",
     "text": [
      "Epoch 150, Loss 0.0251\n",
      "Training Accuracy: 0.9710, Testing Accuracy: 0.9708\n",
      "\n"
     ]
    },
    {
     "name": "stdout",
     "output_type": "stream",
     "text": [
      "Epoch 160, Loss 0.0244\n",
      "Training Accuracy: 0.9715, Testing Accuracy: 0.9708\n",
      "\n"
     ]
    },
    {
     "name": "stdout",
     "output_type": "stream",
     "text": [
      "Epoch 170, Loss 0.0238\n",
      "Training Accuracy: 0.9732, Testing Accuracy: 0.9718\n",
      "\n"
     ]
    },
    {
     "name": "stdout",
     "output_type": "stream",
     "text": [
      "Epoch 180, Loss 0.0233\n",
      "Training Accuracy: 0.9736, Testing Accuracy: 0.9713\n",
      "\n"
     ]
    },
    {
     "name": "stdout",
     "output_type": "stream",
     "text": [
      "Epoch 190, Loss 0.0228\n",
      "Training Accuracy: 0.9746, Testing Accuracy: 0.9713\n",
      "\n"
     ]
    },
    {
     "name": "stdout",
     "output_type": "stream",
     "text": [
      "Epoch 200, Loss 0.0223\n",
      "Training Accuracy: 0.9749, Testing Accuracy: 0.9713\n",
      "\n"
     ]
    },
    {
     "name": "stdout",
     "output_type": "stream",
     "text": [
      "Epoch 210, Loss 0.0218\n",
      "Training Accuracy: 0.9752, Testing Accuracy: 0.9713\n",
      "\n"
     ]
    },
    {
     "name": "stdout",
     "output_type": "stream",
     "text": [
      "Epoch 220, Loss 0.0214\n",
      "Training Accuracy: 0.9762, Testing Accuracy: 0.9723\n",
      "\n"
     ]
    },
    {
     "name": "stdout",
     "output_type": "stream",
     "text": [
      "Epoch 230, Loss 0.0209\n",
      "Training Accuracy: 0.9762, Testing Accuracy: 0.9723\n",
      "\n"
     ]
    },
    {
     "name": "stdout",
     "output_type": "stream",
     "text": [
      "Epoch 240, Loss 0.0205\n",
      "Training Accuracy: 0.9767, Testing Accuracy: 0.9723\n",
      "\n"
     ]
    },
    {
     "name": "stdout",
     "output_type": "stream",
     "text": [
      "Epoch 250, Loss 0.0201\n",
      "Training Accuracy: 0.9775, Testing Accuracy: 0.9723\n",
      "\n"
     ]
    },
    {
     "data": {
      "text/plain": [
       "0.04076603753971741"
      ]
     },
     "execution_count": 20,
     "metadata": {},
     "output_type": "execute_result"
    }
   ],
   "source": [
    "print(\"====== Neural Network ======\")\n",
    "learner_nn.train_loop(dl)"
   ]
  },
  {
   "cell_type": "markdown",
   "metadata": {
    "papermill": {
     "duration": 0.036764,
     "end_time": "2020-09-20T20:06:29.016223",
     "exception": false,
     "start_time": "2020-09-20T20:06:28.979459",
     "status": "completed"
    },
    "tags": []
   },
   "source": [
    "### Logistic Regression based Implementation."
   ]
  },
  {
   "cell_type": "code",
   "execution_count": 21,
   "metadata": {
    "execution": {
     "iopub.execute_input": "2020-09-20T20:06:29.097436Z",
     "iopub.status.busy": "2020-09-20T20:06:29.096798Z",
     "iopub.status.idle": "2020-09-20T20:06:29.107943Z",
     "shell.execute_reply": "2020-09-20T20:06:29.107411Z"
    },
    "papermill": {
     "duration": 0.054982,
     "end_time": "2020-09-20T20:06:29.108075",
     "exception": false,
     "start_time": "2020-09-20T20:06:29.053093",
     "status": "completed"
    },
    "tags": []
   },
   "outputs": [],
   "source": [
    "learner_lr = Learner(loss, model_lr, opt, config.num_epochs)\n",
    "acc_lr = ClfCallback(learner_lr, config.bs, training_xdata , testing_xdata, training_ydata, testing_ydata)\n",
    "learner_lr.set_callbacks([acc_lr])"
   ]
  },
  {
   "cell_type": "code",
   "execution_count": 22,
   "metadata": {
    "execution": {
     "iopub.execute_input": "2020-09-20T20:06:29.200715Z",
     "iopub.status.busy": "2020-09-20T20:06:29.189944Z",
     "iopub.status.idle": "2020-09-20T20:06:46.514456Z",
     "shell.execute_reply": "2020-09-20T20:06:46.513972Z"
    },
    "papermill": {
     "duration": 17.36956,
     "end_time": "2020-09-20T20:06:46.514593",
     "exception": false,
     "start_time": "2020-09-20T20:06:29.145033",
     "status": "completed"
    },
    "tags": []
   },
   "outputs": [
    {
     "name": "stdout",
     "output_type": "stream",
     "text": [
      "====== Logistic Regression ======\n",
      "Epoch 0, Loss 0.2156\n",
      "Training Accuracy: 0.7581, Testing Accuracy: 0.7591\n",
      "\n"
     ]
    },
    {
     "name": "stdout",
     "output_type": "stream",
     "text": [
      "Epoch 10, Loss 0.1035\n",
      "Training Accuracy: 0.9049, Testing Accuracy: 0.9153\n",
      "\n"
     ]
    },
    {
     "name": "stdout",
     "output_type": "stream",
     "text": [
      "Epoch 20, Loss 0.0805\n",
      "Training Accuracy: 0.9223, Testing Accuracy: 0.9335\n",
      "\n"
     ]
    },
    {
     "name": "stdout",
     "output_type": "stream",
     "text": [
      "Epoch 30, Loss 0.0695\n",
      "Training Accuracy: 0.9326, Testing Accuracy: 0.9425\n",
      "\n"
     ]
    },
    {
     "name": "stdout",
     "output_type": "stream",
     "text": [
      "Epoch 40, Loss 0.0628\n",
      "Training Accuracy: 0.9385, Testing Accuracy: 0.9471\n",
      "\n"
     ]
    },
    {
     "name": "stdout",
     "output_type": "stream",
     "text": [
      "Epoch 50, Loss 0.0581\n",
      "Training Accuracy: 0.9427, Testing Accuracy: 0.9506\n",
      "\n"
     ]
    },
    {
     "name": "stdout",
     "output_type": "stream",
     "text": [
      "Epoch 60, Loss 0.0547\n",
      "Training Accuracy: 0.9450, Testing Accuracy: 0.9556\n",
      "\n"
     ]
    },
    {
     "name": "stdout",
     "output_type": "stream",
     "text": [
      "Epoch 70, Loss 0.0521\n",
      "Training Accuracy: 0.9476, Testing Accuracy: 0.9572\n",
      "\n"
     ]
    },
    {
     "name": "stdout",
     "output_type": "stream",
     "text": [
      "Epoch 80, Loss 0.0499\n",
      "Training Accuracy: 0.9492, Testing Accuracy: 0.9587\n",
      "\n"
     ]
    },
    {
     "name": "stdout",
     "output_type": "stream",
     "text": [
      "Epoch 90, Loss 0.0482\n",
      "Training Accuracy: 0.9503, Testing Accuracy: 0.9592\n",
      "\n"
     ]
    },
    {
     "name": "stdout",
     "output_type": "stream",
     "text": [
      "Epoch 100, Loss 0.0467\n",
      "Training Accuracy: 0.9514, Testing Accuracy: 0.9617\n",
      "\n"
     ]
    },
    {
     "name": "stdout",
     "output_type": "stream",
     "text": [
      "Epoch 110, Loss 0.0454\n",
      "Training Accuracy: 0.9524, Testing Accuracy: 0.9632\n",
      "\n"
     ]
    },
    {
     "name": "stdout",
     "output_type": "stream",
     "text": [
      "Epoch 120, Loss 0.0443\n",
      "Training Accuracy: 0.9528, Testing Accuracy: 0.9637\n",
      "\n"
     ]
    },
    {
     "name": "stdout",
     "output_type": "stream",
     "text": [
      "Epoch 130, Loss 0.0433\n",
      "Training Accuracy: 0.9535, Testing Accuracy: 0.9642\n",
      "\n"
     ]
    },
    {
     "name": "stdout",
     "output_type": "stream",
     "text": [
      "Epoch 140, Loss 0.0425\n",
      "Training Accuracy: 0.9541, Testing Accuracy: 0.9647\n",
      "\n"
     ]
    },
    {
     "name": "stdout",
     "output_type": "stream",
     "text": [
      "Epoch 150, Loss 0.0417\n",
      "Training Accuracy: 0.9550, Testing Accuracy: 0.9652\n",
      "\n"
     ]
    },
    {
     "name": "stdout",
     "output_type": "stream",
     "text": [
      "Epoch 160, Loss 0.041\n",
      "Training Accuracy: 0.9562, Testing Accuracy: 0.9642\n",
      "\n"
     ]
    },
    {
     "name": "stdout",
     "output_type": "stream",
     "text": [
      "Epoch 170, Loss 0.0404\n",
      "Training Accuracy: 0.9570, Testing Accuracy: 0.9647\n",
      "\n"
     ]
    },
    {
     "name": "stdout",
     "output_type": "stream",
     "text": [
      "Epoch 180, Loss 0.0398\n",
      "Training Accuracy: 0.9579, Testing Accuracy: 0.9647\n",
      "\n"
     ]
    },
    {
     "name": "stdout",
     "output_type": "stream",
     "text": [
      "Epoch 190, Loss 0.0393\n",
      "Training Accuracy: 0.9586, Testing Accuracy: 0.9652\n",
      "\n"
     ]
    },
    {
     "name": "stdout",
     "output_type": "stream",
     "text": [
      "Epoch 200, Loss 0.0388\n",
      "Training Accuracy: 0.9588, Testing Accuracy: 0.9647\n",
      "\n"
     ]
    },
    {
     "name": "stdout",
     "output_type": "stream",
     "text": [
      "Epoch 210, Loss 0.0383\n",
      "Training Accuracy: 0.9593, Testing Accuracy: 0.9647\n",
      "\n"
     ]
    },
    {
     "name": "stdout",
     "output_type": "stream",
     "text": [
      "Epoch 220, Loss 0.0379\n",
      "Training Accuracy: 0.9594, Testing Accuracy: 0.9647\n",
      "\n"
     ]
    },
    {
     "name": "stdout",
     "output_type": "stream",
     "text": [
      "Epoch 230, Loss 0.0375\n",
      "Training Accuracy: 0.9598, Testing Accuracy: 0.9652\n",
      "\n"
     ]
    },
    {
     "name": "stdout",
     "output_type": "stream",
     "text": [
      "Epoch 240, Loss 0.0371\n",
      "Training Accuracy: 0.9602, Testing Accuracy: 0.9652\n",
      "\n"
     ]
    },
    {
     "name": "stdout",
     "output_type": "stream",
     "text": [
      "Epoch 250, Loss 0.0368\n",
      "Training Accuracy: 0.9607, Testing Accuracy: 0.9652\n",
      "\n"
     ]
    },
    {
     "data": {
      "text/plain": [
       "0.02190344614080733"
      ]
     },
     "execution_count": 22,
     "metadata": {},
     "output_type": "execute_result"
    }
   ],
   "source": [
    "print(\"====== Logistic Regression ======\")\n",
    "learner_lr.train_loop(dl)"
   ]
  },
  {
   "cell_type": "markdown",
   "metadata": {
    "papermill": {
     "duration": 0.044466,
     "end_time": "2020-09-20T20:06:46.604646",
     "exception": false,
     "start_time": "2020-09-20T20:06:46.560180",
     "status": "completed"
    },
    "tags": []
   },
   "source": [
    "### Comparing results of NN and LR"
   ]
  },
  {
   "cell_type": "code",
   "execution_count": 23,
   "metadata": {
    "execution": {
     "iopub.execute_input": "2020-09-20T20:06:46.708640Z",
     "iopub.status.busy": "2020-09-20T20:06:46.707186Z",
     "iopub.status.idle": "2020-09-20T20:06:46.946289Z",
     "shell.execute_reply": "2020-09-20T20:06:46.945776Z"
    },
    "papermill": {
     "duration": 0.29744,
     "end_time": "2020-09-20T20:06:46.946424",
     "exception": false,
     "start_time": "2020-09-20T20:06:46.648984",
     "status": "completed"
    },
    "tags": []
   },
   "outputs": [
    {
     "data": {
      "text/plain": [
       "<matplotlib.legend.Legend at 0x7fdd7910a278>"
      ]
     },
     "execution_count": 23,
     "metadata": {},
     "output_type": "execute_result"
    },
    {
     "data": {
      "image/png": "[encoded data removed]",
      "text/plain": [
       "<Figure size 1080x720 with 1 Axes>"
      ]
     },
     "metadata": {
      "needs_background": "light"
     },
     "output_type": "display_data"
    }
   ],
   "source": [
    "plt.figure(figsize=(15,10))\n",
    "\n",
    "# Neural Network plots\n",
    "plt.plot(acc_nn.accuracies, 'r-', label = \"Training Accuracies - NN\")\n",
    "plt.plot(acc_nn.test_accuracies, 'g-', label = \"Testing Accuracies - NN\")\n",
    "\n",
    "# Logistic Regression plots\n",
    "plt.plot(acc_lr.accuracies, 'k-', label = \"Training Accuracies - LR\")\n",
    "plt.plot(acc_lr.test_accuracies, 'b-', label = \"Testing Accuracies - LR\")\n",
    "\n",
    "plt.ylim(0.8, 1)\n",
    "\n",
    "plt.legend()\n",
    "\n"
   ]
  },
  {
   "cell_type": "markdown",
   "metadata": {
    "papermill": {
     "duration": 0.046285,
     "end_time": "2020-09-20T20:06:47.039390",
     "exception": false,
     "start_time": "2020-09-20T20:06:46.993105",
     "status": "completed"
    },
    "tags": []
   },
   "source": [
    "### From the plot, we can observe the following:\n",
    "- Neural Network achieves higher accuracy than the Logistic Regression model.\n",
    "- This apparently, is because of overfitting, i.e. NN captures more noise than data.\n",
    "- Testing accuracy of NN drops below the Training accuracy at higher epochs. This explains the over-fitting on training data.\n",
    "- Logistic Regression gives a reliable accuracy, without the above mentioned problem.\n"
   ]
  },
  {
   "cell_type": "markdown",
   "metadata": {
    "papermill": {
     "duration": 0.046214,
     "end_time": "2020-09-20T20:06:47.131968",
     "exception": false,
     "start_time": "2020-09-20T20:06:47.085754",
     "status": "completed"
    },
    "tags": []
   },
   "source": [
    "### Moving till the last but one layer (excluding it).\n",
    "#### Plotting the outputs of this layer of the NN."
   ]
  },
  {
   "cell_type": "code",
   "execution_count": 24,
   "metadata": {
    "execution": {
     "iopub.execute_input": "2020-09-20T20:06:47.228905Z",
     "iopub.status.busy": "2020-09-20T20:06:47.228259Z",
     "iopub.status.idle": "2020-09-20T20:06:47.246036Z",
     "shell.execute_reply": "2020-09-20T20:06:47.244846Z"
    },
    "papermill": {
     "duration": 0.067774,
     "end_time": "2020-09-20T20:06:47.246245",
     "exception": false,
     "start_time": "2020-09-20T20:06:47.178471",
     "status": "completed"
    },
    "tags": []
   },
   "outputs": [],
   "source": [
    "model_new = Model(layers[:-2])"
   ]
  },
  {
   "cell_type": "code",
   "execution_count": 25,
   "metadata": {
    "execution": {
     "iopub.execute_input": "2020-09-20T20:06:47.351484Z",
     "iopub.status.busy": "2020-09-20T20:06:47.350650Z",
     "iopub.status.idle": "2020-09-20T20:06:47.374822Z",
     "shell.execute_reply": "2020-09-20T20:06:47.374297Z"
    },
    "papermill": {
     "duration": 0.07746,
     "end_time": "2020-09-20T20:06:47.374954",
     "exception": false,
     "start_time": "2020-09-20T20:06:47.297494",
     "status": "completed"
    },
    "tags": []
   },
   "outputs": [],
   "source": [
    "plot_testing = model_new(testing_xdata)"
   ]
  },
  {
   "cell_type": "code",
   "execution_count": 26,
   "metadata": {
    "execution": {
     "iopub.execute_input": "2020-09-20T20:06:47.517415Z",
     "iopub.status.busy": "2020-09-20T20:06:47.496020Z",
     "iopub.status.idle": "2020-09-20T20:06:47.694425Z",
     "shell.execute_reply": "2020-09-20T20:06:47.694904Z"
    },
    "papermill": {
     "duration": 0.263784,
     "end_time": "2020-09-20T20:06:47.695065",
     "exception": false,
     "start_time": "2020-09-20T20:06:47.431281",
     "status": "completed"
    },
    "tags": []
   },
   "outputs": [
    {
     "data": {
      "text/plain": [
       "Text(0.5, 1.0, 'Outputs')"
      ]
     },
     "execution_count": 26,
     "metadata": {},
     "output_type": "execute_result"
    },
    {
     "data": {
      "image/png": "[encoded data removed]",
      "text/plain": [
       "<Figure size 576x504 with 1 Axes>"
      ]
     },
     "metadata": {
      "needs_background": "light"
     },
     "output_type": "display_data"
    }
   ],
   "source": [
    "plt.figure(figsize=(8,7))\n",
    "plt.scatter(plot_testing[:,0], plot_testing[:,1], alpha = 0.1, c = y_test.ravel());\n",
    "plt.title('Outputs')"
   ]
  },
  {
   "cell_type": "markdown",
   "metadata": {
    "papermill": {
     "duration": 0.048873,
     "end_time": "2020-09-20T20:06:47.793024",
     "exception": false,
     "start_time": "2020-09-20T20:06:47.744151",
     "status": "completed"
    },
    "tags": []
   },
   "source": [
    "### Plotting probability contours"
   ]
  },
  {
   "cell_type": "code",
   "execution_count": 27,
   "metadata": {
    "execution": {
     "iopub.execute_input": "2020-09-20T20:06:47.897155Z",
     "iopub.status.busy": "2020-09-20T20:06:47.896577Z",
     "iopub.status.idle": "2020-09-20T20:06:47.908563Z",
     "shell.execute_reply": "2020-09-20T20:06:47.908056Z"
    },
    "papermill": {
     "duration": 0.066195,
     "end_time": "2020-09-20T20:06:47.908690",
     "exception": false,
     "start_time": "2020-09-20T20:06:47.842495",
     "status": "completed"
    },
    "tags": []
   },
   "outputs": [],
   "source": [
    "model_prob = Model(layers[-2:]) "
   ]
  },
  {
   "cell_type": "code",
   "execution_count": 28,
   "metadata": {
    "execution": {
     "iopub.execute_input": "2020-09-20T20:06:48.012126Z",
     "iopub.status.busy": "2020-09-20T20:06:48.011491Z",
     "iopub.status.idle": "2020-09-20T20:06:48.026869Z",
     "shell.execute_reply": "2020-09-20T20:06:48.027437Z"
    },
    "papermill": {
     "duration": 0.070056,
     "end_time": "2020-09-20T20:06:48.027591",
     "exception": false,
     "start_time": "2020-09-20T20:06:47.957535",
     "status": "completed"
    },
    "tags": []
   },
   "outputs": [],
   "source": [
    "# Adjust the x and y ranges according to the above generated plot.\n",
    "x_range = np.linspace(-4, 1, 100) \n",
    "y_range = np.linspace(-6, 6, 100) \n",
    "x_grid, y_grid = np.meshgrid(x_range, y_range) # x_grid and y_grig are of size 100 X 100\n",
    "\n",
    "# converting x_grid and y_grid to continuous arrays\n",
    "x_grid_flat = np.ravel(x_grid)\n",
    "y_grid_flat = np.ravel(y_grid)\n",
    "\n",
    "# The last layer of the current model takes two columns as input. Hence transpose of np.vstack() is required.\n",
    "X = np.vstack((x_grid_flat, y_grid_flat)).T\n",
    "\n",
    "# x_grid and y_grid are of size 100 x 100\n",
    "probability_contour = model_prob(X).reshape(100,100) "
   ]
  },
  {
   "cell_type": "code",
   "execution_count": 29,
   "metadata": {
    "execution": {
     "iopub.execute_input": "2020-09-20T20:06:48.129837Z",
     "iopub.status.busy": "2020-09-20T20:06:48.129256Z",
     "iopub.status.idle": "2020-09-20T20:06:48.406837Z",
     "shell.execute_reply": "2020-09-20T20:06:48.407586Z"
    },
    "papermill": {
     "duration": 0.331156,
     "end_time": "2020-09-20T20:06:48.407864",
     "exception": false,
     "start_time": "2020-09-20T20:06:48.076708",
     "status": "completed"
    },
    "tags": []
   },
   "outputs": [
    {
     "data": {
      "image/png": "[encoded data removed]",
      "text/plain": [
       "<Figure size 720x648 with 1 Axes>"
      ]
     },
     "metadata": {
      "needs_background": "light"
     },
     "output_type": "display_data"
    }
   ],
   "source": [
    "plt.figure(figsize=(10,9))\n",
    "plt.scatter(plot_testing[:,0], plot_testing[:,1], alpha = 0.1, c = y_test.ravel())\n",
    "contours = plt.contour(x_grid,y_grid,probability_contour)\n",
    "plt.title('Probability Contours')\n",
    "plt.clabel(contours, inline = True );"
   ]
  }
 ],
 "metadata": {
  "kernelspec": {
   "display_name": "Python 3",
   "language": "python",
   "name": "python3"
  },
  "language_info": {
   "codemirror_mode": {
    "name": "ipython",
    "version": 3
   },
   "file_extension": ".py",
   "mimetype": "text/x-python",
   "name": "python",
   "nbconvert_exporter": "python",
   "pygments_lexer": "ipython3",
   "version": "3.6.12"
  },
  "papermill": {
   "duration": 114.357186,
   "end_time": "2020-09-20T20:06:49.815625",
   "environment_variables": {},
   "exception": null,
   "input_path": "2020-08-11-NeuralNetwork.ipynb",
   "output_path": "2020-08-11-NeuralNetwork.ipynb",
   "parameters": {},
   "start_time": "2020-09-20T20:04:55.458439",
   "version": "2.1.2"
  }
 },
 "nbformat": 4,
 "nbformat_minor": 4
}