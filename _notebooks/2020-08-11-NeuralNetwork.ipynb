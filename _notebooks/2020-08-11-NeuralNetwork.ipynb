{
 "cells": [
  {
   "cell_type": "markdown",
   "metadata": {
    "papermill": {
     "duration": 0.036594,
     "end_time": "2020-12-07T10:05:28.532468",
     "exception": false,
     "start_time": "2020-12-07T10:05:28.495874",
     "status": "completed"
    },
    "tags": []
   },
   "source": [
    "# \"A Basic Neural Network: Differentiate Hand-Written Digits\"\n",
    "\n",
    "- badges: true\n",
    "- author: Akshith Sriram"
   ]
  },
  {
   "cell_type": "markdown",
   "metadata": {
    "papermill": {
     "duration": 0.028615,
     "end_time": "2020-12-07T10:05:28.592315",
     "exception": false,
     "start_time": "2020-12-07T10:05:28.563700",
     "status": "completed"
    },
    "tags": []
   },
   "source": [
    "### Key Objectives:\n",
    "- Building a neural network that differentiates two hand-written digits 3 and 8.\n",
    "- Comparing the results of this Neural Network (NN) to that of a Logistic Regression (LR) model.\n",
    "\n",
    "### Requirements:\n",
    "- 'Kudzu' : A neural network library that was designed during our course by [Univ.AI](www.univ.ai). \n",
    "- MNIST Database\n",
    "\n",
    "If MNIST is not installed, use the command `!pip install mnist` given below.\n",
    "It can be run both from the command line and Jupyter Notebook."
   ]
  },
  {
   "cell_type": "code",
   "execution_count": 1,
   "metadata": {
    "execution": {
     "iopub.execute_input": "2020-12-07T10:05:28.659989Z",
     "iopub.status.busy": "2020-12-07T10:05:28.659263Z",
     "iopub.status.idle": "2020-12-07T10:05:31.272934Z",
     "shell.execute_reply": "2020-12-07T10:05:31.272126Z"
    },
    "papermill": {
     "duration": 2.649802,
     "end_time": "2020-12-07T10:05:31.273169",
     "exception": false,
     "start_time": "2020-12-07T10:05:28.623367",
     "status": "completed"
    },
    "tags": []
   },
   "outputs": [
    {
     "name": "stdout",
     "output_type": "stream",
     "text": [
      "Collecting mnist\r\n"
     ]
    },
    {
     "name": "stdout",
     "output_type": "stream",
     "text": [
      "  Downloading mnist-0.2.2-py2.py3-none-any.whl (3.5 kB)\r\n",
      "Requirement already satisfied: numpy in /opt/hostedtoolcache/Python/3.6.12/x64/lib/python3.6/site-packages (from mnist) (1.19.4)\r\n"
     ]
    },
    {
     "name": "stdout",
     "output_type": "stream",
     "text": [
      "Installing collected packages: mnist\r\n"
     ]
    },
    {
     "name": "stdout",
     "output_type": "stream",
     "text": [
      "Successfully installed mnist-0.2.2\r\n"
     ]
    },
    {
     "name": "stdout",
     "output_type": "stream",
     "text": [
      "\u001b[33mWARNING: You are using pip version 20.2.4; however, version 20.3.1 is available.\r\n",
      "You should consider upgrading via the '/opt/hostedtoolcache/Python/3.6.12/x64/bin/python -m pip install --upgrade pip' command.\u001b[0m\r\n"
     ]
    }
   ],
   "source": [
    "!pip install mnist "
   ]
  },
  {
   "cell_type": "markdown",
   "metadata": {
    "papermill": {
     "duration": 0.030624,
     "end_time": "2020-12-07T10:05:31.340651",
     "exception": false,
     "start_time": "2020-12-07T10:05:31.310027",
     "status": "completed"
    },
    "tags": []
   },
   "source": [
    "#### Importing necessary libraries"
   ]
  },
  {
   "cell_type": "code",
   "execution_count": 2,
   "metadata": {
    "execution": {
     "iopub.execute_input": "2020-12-07T10:05:31.412300Z",
     "iopub.status.busy": "2020-12-07T10:05:31.411681Z",
     "iopub.status.idle": "2020-12-07T10:05:32.071312Z",
     "shell.execute_reply": "2020-12-07T10:05:32.070623Z"
    },
    "papermill": {
     "duration": 0.698565,
     "end_time": "2020-12-07T10:05:32.071482",
     "exception": false,
     "start_time": "2020-12-07T10:05:31.372917",
     "status": "completed"
    },
    "tags": []
   },
   "outputs": [],
   "source": [
    "%load_ext autoreload\n",
    "%autoreload 2\n",
    "\n",
    "%matplotlib inline\n",
    "import matplotlib.pyplot as plt\n",
    "\n",
    "import numpy as np\n",
    "import pandas as pd"
   ]
  },
  {
   "cell_type": "markdown",
   "metadata": {
    "papermill": {
     "duration": 0.031243,
     "end_time": "2020-12-07T10:05:32.144719",
     "exception": false,
     "start_time": "2020-12-07T10:05:32.113476",
     "status": "completed"
    },
    "tags": []
   },
   "source": [
    "### Preparing the Data"
   ]
  },
  {
   "cell_type": "code",
   "execution_count": 3,
   "metadata": {
    "execution": {
     "iopub.execute_input": "2020-12-07T10:05:32.222302Z",
     "iopub.status.busy": "2020-12-07T10:05:32.221599Z",
     "iopub.status.idle": "2020-12-07T10:05:32.232593Z",
     "shell.execute_reply": "2020-12-07T10:05:32.232003Z"
    },
    "papermill": {
     "duration": 0.054121,
     "end_time": "2020-12-07T10:05:32.232744",
     "exception": false,
     "start_time": "2020-12-07T10:05:32.178623",
     "status": "completed"
    },
    "tags": []
   },
   "outputs": [],
   "source": [
    "import mnist"
   ]
  },
  {
   "cell_type": "code",
   "execution_count": 4,
   "metadata": {
    "execution": {
     "iopub.execute_input": "2020-12-07T10:05:32.305440Z",
     "iopub.status.busy": "2020-12-07T10:05:32.300175Z",
     "iopub.status.idle": "2020-12-07T10:05:35.299044Z",
     "shell.execute_reply": "2020-12-07T10:05:35.299738Z"
    },
    "papermill": {
     "duration": 3.036051,
     "end_time": "2020-12-07T10:05:35.299933",
     "exception": false,
     "start_time": "2020-12-07T10:05:32.263882",
     "status": "completed"
    },
    "tags": []
   },
   "outputs": [],
   "source": [
    "train_images = mnist.train_images()\n",
    "train_labels = mnist.train_labels()"
   ]
  },
  {
   "cell_type": "code",
   "execution_count": 5,
   "metadata": {
    "execution": {
     "iopub.execute_input": "2020-12-07T10:05:35.375647Z",
     "iopub.status.busy": "2020-12-07T10:05:35.374941Z",
     "iopub.status.idle": "2020-12-07T10:05:35.388505Z",
     "shell.execute_reply": "2020-12-07T10:05:35.389049Z"
    },
    "papermill": {
     "duration": 0.05621,
     "end_time": "2020-12-07T10:05:35.389238",
     "exception": false,
     "start_time": "2020-12-07T10:05:35.333028",
     "status": "completed"
    },
    "tags": []
   },
   "outputs": [
    {
     "data": {
      "text/plain": [
       "((60000, 28, 28), (60000,))"
      ]
     },
     "execution_count": 5,
     "metadata": {},
     "output_type": "execute_result"
    }
   ],
   "source": [
    "train_images.shape, train_labels.shape"
   ]
  },
  {
   "cell_type": "code",
   "execution_count": 6,
   "metadata": {
    "execution": {
     "iopub.execute_input": "2020-12-07T10:05:35.464401Z",
     "iopub.status.busy": "2020-12-07T10:05:35.461582Z",
     "iopub.status.idle": "2020-12-07T10:05:36.328014Z",
     "shell.execute_reply": "2020-12-07T10:05:36.327408Z"
    },
    "papermill": {
     "duration": 0.90581,
     "end_time": "2020-12-07T10:05:36.328193",
     "exception": false,
     "start_time": "2020-12-07T10:05:35.422383",
     "status": "completed"
    },
    "tags": []
   },
   "outputs": [],
   "source": [
    "test_images = mnist.test_images()\n",
    "test_labels = mnist.test_labels()"
   ]
  },
  {
   "cell_type": "code",
   "execution_count": 7,
   "metadata": {
    "execution": {
     "iopub.execute_input": "2020-12-07T10:05:36.401232Z",
     "iopub.status.busy": "2020-12-07T10:05:36.400597Z",
     "iopub.status.idle": "2020-12-07T10:05:36.410961Z",
     "shell.execute_reply": "2020-12-07T10:05:36.411714Z"
    },
    "papermill": {
     "duration": 0.050757,
     "end_time": "2020-12-07T10:05:36.411916",
     "exception": false,
     "start_time": "2020-12-07T10:05:36.361159",
     "status": "completed"
    },
    "tags": []
   },
   "outputs": [
    {
     "data": {
      "text/plain": [
       "((10000, 28, 28), (10000,))"
      ]
     },
     "execution_count": 7,
     "metadata": {},
     "output_type": "execute_result"
    }
   ],
   "source": [
    "test_images.shape, test_labels.shape"
   ]
  },
  {
   "cell_type": "code",
   "execution_count": 8,
   "metadata": {
    "execution": {
     "iopub.execute_input": "2020-12-07T10:05:36.480594Z",
     "iopub.status.busy": "2020-12-07T10:05:36.479805Z",
     "iopub.status.idle": "2020-12-07T10:05:36.668058Z",
     "shell.execute_reply": "2020-12-07T10:05:36.667460Z"
    },
    "papermill": {
     "duration": 0.227308,
     "end_time": "2020-12-07T10:05:36.668229",
     "exception": false,
     "start_time": "2020-12-07T10:05:36.440921",
     "status": "completed"
    },
    "tags": []
   },
   "outputs": [
    {
     "name": "stdout",
     "output_type": "stream",
     "text": [
      "2\n"
     ]
    },
    {
     "data": {
      "text/plain": [
       "<matplotlib.image.AxesImage at 0x7f3b5716df98>"
      ]
     },
     "execution_count": 8,
     "metadata": {},
     "output_type": "execute_result"
    },
    {
     "data": {
      "image/png": "[encoded data removed]",
      "text/plain": [
       "<Figure size 432x288 with 1 Axes>"
      ]
     },
     "metadata": {
      "needs_background": "light"
     },
     "output_type": "display_data"
    }
   ],
   "source": [
    "image_index = 7776 # You may select anything up to 60,000\n",
    "print(train_labels[image_index]) \n",
    "plt.imshow(train_images[image_index], cmap='Greys')"
   ]
  },
  {
   "cell_type": "markdown",
   "metadata": {
    "papermill": {
     "duration": 0.034941,
     "end_time": "2020-12-07T10:05:36.742284",
     "exception": false,
     "start_time": "2020-12-07T10:05:36.707343",
     "status": "completed"
    },
    "tags": []
   },
   "source": [
    "## Filter data to get 3 and 8 out"
   ]
  },
  {
   "cell_type": "code",
   "execution_count": 9,
   "metadata": {
    "execution": {
     "iopub.execute_input": "2020-12-07T10:05:36.818091Z",
     "iopub.status.busy": "2020-12-07T10:05:36.817332Z",
     "iopub.status.idle": "2020-12-07T10:05:36.838355Z",
     "shell.execute_reply": "2020-12-07T10:05:36.837698Z"
    },
    "papermill": {
     "duration": 0.05914,
     "end_time": "2020-12-07T10:05:36.838521",
     "exception": false,
     "start_time": "2020-12-07T10:05:36.779381",
     "status": "completed"
    },
    "tags": []
   },
   "outputs": [],
   "source": [
    "train_filter = np.where((train_labels == 3 ) | (train_labels == 8))\n",
    "test_filter = np.where((test_labels == 3) | (test_labels == 8))\n",
    "X_train, y_train = train_images[train_filter], train_labels[train_filter]\n",
    "X_test, y_test = test_images[test_filter], test_labels[test_filter]"
   ]
  },
  {
   "cell_type": "markdown",
   "metadata": {
    "papermill": {
     "duration": 0.031105,
     "end_time": "2020-12-07T10:05:36.903880",
     "exception": false,
     "start_time": "2020-12-07T10:05:36.872775",
     "status": "completed"
    },
    "tags": []
   },
   "source": [
    "We normalize the pixel values in the 0 to 1 range"
   ]
  },
  {
   "cell_type": "code",
   "execution_count": 10,
   "metadata": {
    "execution": {
     "iopub.execute_input": "2020-12-07T10:05:36.985749Z",
     "iopub.status.busy": "2020-12-07T10:05:36.977223Z",
     "iopub.status.idle": "2020-12-07T10:05:37.037277Z",
     "shell.execute_reply": "2020-12-07T10:05:37.036734Z"
    },
    "papermill": {
     "duration": 0.099876,
     "end_time": "2020-12-07T10:05:37.037435",
     "exception": false,
     "start_time": "2020-12-07T10:05:36.937559",
     "status": "completed"
    },
    "tags": []
   },
   "outputs": [],
   "source": [
    "X_train = X_train/255.\n",
    "X_test = X_test/255."
   ]
  },
  {
   "cell_type": "markdown",
   "metadata": {
    "papermill": {
     "duration": 0.040388,
     "end_time": "2020-12-07T10:05:37.111418",
     "exception": false,
     "start_time": "2020-12-07T10:05:37.071030",
     "status": "completed"
    },
    "tags": []
   },
   "source": [
    "Setup the labels as 1 (when the digit is 3) and 0 (when the digit is 8)"
   ]
  },
  {
   "cell_type": "code",
   "execution_count": 11,
   "metadata": {
    "execution": {
     "iopub.execute_input": "2020-12-07T10:05:37.188666Z",
     "iopub.status.busy": "2020-12-07T10:05:37.187981Z",
     "iopub.status.idle": "2020-12-07T10:05:37.199722Z",
     "shell.execute_reply": "2020-12-07T10:05:37.200236Z"
    },
    "papermill": {
     "duration": 0.056363,
     "end_time": "2020-12-07T10:05:37.200382",
     "exception": false,
     "start_time": "2020-12-07T10:05:37.144019",
     "status": "completed"
    },
    "tags": []
   },
   "outputs": [],
   "source": [
    "y_train = 1*(y_train==3)\n",
    "y_test = 1*(y_test==3)"
   ]
  },
  {
   "cell_type": "code",
   "execution_count": 12,
   "metadata": {
    "execution": {
     "iopub.execute_input": "2020-12-07T10:05:37.275320Z",
     "iopub.status.busy": "2020-12-07T10:05:37.274614Z",
     "iopub.status.idle": "2020-12-07T10:05:37.287958Z",
     "shell.execute_reply": "2020-12-07T10:05:37.288482Z"
    },
    "papermill": {
     "duration": 0.054632,
     "end_time": "2020-12-07T10:05:37.288654",
     "exception": false,
     "start_time": "2020-12-07T10:05:37.234022",
     "status": "completed"
    },
    "tags": []
   },
   "outputs": [
    {
     "data": {
      "text/plain": [
       "((11982, 28, 28), (1984, 28, 28))"
      ]
     },
     "execution_count": 12,
     "metadata": {},
     "output_type": "execute_result"
    }
   ],
   "source": [
    "X_train.shape, X_test.shape"
   ]
  },
  {
   "cell_type": "markdown",
   "metadata": {
    "papermill": {
     "duration": 0.033942,
     "end_time": "2020-12-07T10:05:37.357311",
     "exception": false,
     "start_time": "2020-12-07T10:05:37.323369",
     "status": "completed"
    },
    "tags": []
   },
   "source": [
    "### Reshape the input data to create a linear array"
   ]
  },
  {
   "cell_type": "code",
   "execution_count": 13,
   "metadata": {
    "execution": {
     "iopub.execute_input": "2020-12-07T10:05:37.428542Z",
     "iopub.status.busy": "2020-12-07T10:05:37.427943Z",
     "iopub.status.idle": "2020-12-07T10:05:37.442768Z",
     "shell.execute_reply": "2020-12-07T10:05:37.443449Z"
    },
    "papermill": {
     "duration": 0.052317,
     "end_time": "2020-12-07T10:05:37.443604",
     "exception": false,
     "start_time": "2020-12-07T10:05:37.391287",
     "status": "completed"
    },
    "tags": []
   },
   "outputs": [
    {
     "data": {
      "text/plain": [
       "((11982, 784), (1984, 784))"
      ]
     },
     "execution_count": 13,
     "metadata": {},
     "output_type": "execute_result"
    }
   ],
   "source": [
    "X_train = X_train.reshape(X_train.shape[0], -1)\n",
    "X_test = X_test.reshape(X_test.shape[0], -1)\n",
    "X_train.shape, X_test.shape"
   ]
  },
  {
   "cell_type": "markdown",
   "metadata": {
    "papermill": {
     "duration": 0.036407,
     "end_time": "2020-12-07T10:05:37.517113",
     "exception": false,
     "start_time": "2020-12-07T10:05:37.480706",
     "status": "completed"
    },
    "tags": []
   },
   "source": [
    "### Importing appropriate functions from 'Kudzu'"
   ]
  },
  {
   "cell_type": "code",
   "execution_count": 14,
   "metadata": {
    "execution": {
     "iopub.execute_input": "2020-12-07T10:05:37.609181Z",
     "iopub.status.busy": "2020-12-07T10:05:37.598670Z",
     "iopub.status.idle": "2020-12-07T10:05:37.614146Z",
     "shell.execute_reply": "2020-12-07T10:05:37.614626Z"
    },
    "papermill": {
     "duration": 0.066803,
     "end_time": "2020-12-07T10:05:37.614792",
     "exception": false,
     "start_time": "2020-12-07T10:05:37.547989",
     "status": "completed"
    },
    "tags": []
   },
   "outputs": [],
   "source": [
    "from kudzu.layer import Sigmoid\n",
    "from kudzu.layer import Relu\n",
    "from kudzu.layer import Affine, Sigmoid\n",
    "\n",
    "from kudzu.model import Model\n",
    "from kudzu.train import Learner\n",
    "from kudzu.optim import GD\n",
    "from kudzu.data import Data, Dataloader, Sampler\n",
    "\n",
    "from kudzu.callbacks import AccCallback\n",
    "from kudzu.callbacks import ClfCallback\n",
    "\n",
    "from kudzu.loss import MSE"
   ]
  },
  {
   "cell_type": "markdown",
   "metadata": {
    "papermill": {
     "duration": 0.036049,
     "end_time": "2020-12-07T10:05:37.693179",
     "exception": false,
     "start_time": "2020-12-07T10:05:37.657130",
     "status": "completed"
    },
    "tags": []
   },
   "source": [
    "### Let us create a `Config` class, to store important parameters. \n",
    "This class essentially plays the role of a dictionary."
   ]
  },
  {
   "cell_type": "code",
   "execution_count": 15,
   "metadata": {
    "execution": {
     "iopub.execute_input": "2020-12-07T10:05:37.777560Z",
     "iopub.status.busy": "2020-12-07T10:05:37.776889Z",
     "iopub.status.idle": "2020-12-07T10:05:37.790808Z",
     "shell.execute_reply": "2020-12-07T10:05:37.790296Z"
    },
    "papermill": {
     "duration": 0.056081,
     "end_time": "2020-12-07T10:05:37.790951",
     "exception": false,
     "start_time": "2020-12-07T10:05:37.734870",
     "status": "completed"
    },
    "tags": []
   },
   "outputs": [],
   "source": [
    "class Config:\n",
    "    pass\n",
    "config = Config()\n",
    "config.lr = 0.001\n",
    "config.num_epochs = 251\n",
    "config.bs = 50"
   ]
  },
  {
   "cell_type": "markdown",
   "metadata": {
    "papermill": {
     "duration": 0.034663,
     "end_time": "2020-12-07T10:05:37.860847",
     "exception": false,
     "start_time": "2020-12-07T10:05:37.826184",
     "status": "completed"
    },
    "tags": []
   },
   "source": [
    "### Initializing data to the variables"
   ]
  },
  {
   "cell_type": "code",
   "execution_count": 16,
   "metadata": {
    "execution": {
     "iopub.execute_input": "2020-12-07T10:05:37.941101Z",
     "iopub.status.busy": "2020-12-07T10:05:37.940428Z",
     "iopub.status.idle": "2020-12-07T10:05:37.950167Z",
     "shell.execute_reply": "2020-12-07T10:05:37.950650Z"
    },
    "papermill": {
     "duration": 0.054949,
     "end_time": "2020-12-07T10:05:37.950819",
     "exception": false,
     "start_time": "2020-12-07T10:05:37.895870",
     "status": "completed"
    },
    "tags": []
   },
   "outputs": [],
   "source": [
    "data = Data(X_train, y_train.reshape(-1,1))\n",
    "sampler = Sampler(data, config.bs, shuffle=True)\n",
    "\n",
    "dl = Dataloader(data, sampler)\n",
    "\n",
    "opt = GD(config.lr)\n",
    "loss = MSE()"
   ]
  },
  {
   "cell_type": "code",
   "execution_count": 17,
   "metadata": {
    "execution": {
     "iopub.execute_input": "2020-12-07T10:05:38.032814Z",
     "iopub.status.busy": "2020-12-07T10:05:38.032169Z",
     "iopub.status.idle": "2020-12-07T10:05:38.041909Z",
     "shell.execute_reply": "2020-12-07T10:05:38.041385Z"
    },
    "papermill": {
     "duration": 0.055119,
     "end_time": "2020-12-07T10:05:38.042058",
     "exception": false,
     "start_time": "2020-12-07T10:05:37.986939",
     "status": "completed"
    },
    "tags": []
   },
   "outputs": [],
   "source": [
    "training_xdata = X_train\n",
    "testing_xdata = X_test\n",
    "training_ydata = y_train.reshape(-1,1)\n",
    "testing_ydata = y_test.reshape(-1,1)"
   ]
  },
  {
   "cell_type": "markdown",
   "metadata": {
    "papermill": {
     "duration": 0.03505,
     "end_time": "2020-12-07T10:05:38.111852",
     "exception": false,
     "start_time": "2020-12-07T10:05:38.076802",
     "status": "completed"
    },
    "tags": []
   },
   "source": [
    "### Running Models with the Training data\n",
    "Details about the network layers:\n",
    "- A first affine layer has 784 inputs and does 100 affine transforms. These are followed by a Relu\n",
    "- A second affine layer has 100 inputs from the 100 activations of the past layer, and does 100 affine transforms. These are followed by a Relu\n",
    "- A third affine layer has 100 activations and does 2 affine transformations to create an embedding for visualization. There is no non-linearity here.\n",
    "- A final \"logistic regression\" which has an affine transform from 2 inputs to 1 output, which is squeezed through a sigmoid.\n",
    "\n",
    "Help taken from Anshuman's Notebook."
   ]
  },
  {
   "cell_type": "code",
   "execution_count": 18,
   "metadata": {
    "execution": {
     "iopub.execute_input": "2020-12-07T10:05:38.185369Z",
     "iopub.status.busy": "2020-12-07T10:05:38.184669Z",
     "iopub.status.idle": "2020-12-07T10:05:38.208908Z",
     "shell.execute_reply": "2020-12-07T10:05:38.209459Z"
    },
    "papermill": {
     "duration": 0.064815,
     "end_time": "2020-12-07T10:05:38.209651",
     "exception": false,
     "start_time": "2020-12-07T10:05:38.144836",
     "status": "completed"
    },
    "tags": []
   },
   "outputs": [],
   "source": [
    "# layers for the Neural Network\n",
    "layers = [Affine(\"first\", 784, 100), Relu(\"first\"), Affine(\"second\", 100, 100), Relu(\"second\"), Affine(\"third\", 100, 2), Affine(\"final\", 2, 1), Sigmoid(\"final\")]\n",
    "model_nn = Model(layers)\n",
    "\n",
    "# layers for the Logistic Regression\n",
    "layers_lr = [Affine(\"logits\", 784, 1), Sigmoid(\"sigmoid\")]\n",
    "model_lr = Model(layers_lr)"
   ]
  },
  {
   "cell_type": "code",
   "execution_count": 19,
   "metadata": {
    "execution": {
     "iopub.execute_input": "2020-12-07T10:05:38.286319Z",
     "iopub.status.busy": "2020-12-07T10:05:38.285630Z",
     "iopub.status.idle": "2020-12-07T10:05:38.299822Z",
     "shell.execute_reply": "2020-12-07T10:05:38.300357Z"
    },
    "papermill": {
     "duration": 0.055266,
     "end_time": "2020-12-07T10:05:38.300546",
     "exception": false,
     "start_time": "2020-12-07T10:05:38.245280",
     "status": "completed"
    },
    "tags": []
   },
   "outputs": [],
   "source": [
    "# suffix _nn stands for Neural Network.\n",
    "learner_nn = Learner(loss, model_nn, opt, config.num_epochs)\n",
    "acc_nn = ClfCallback(learner_nn, config.bs, training_xdata , testing_xdata, training_ydata, testing_ydata)\n",
    "learner_nn.set_callbacks([acc_nn])"
   ]
  },
  {
   "cell_type": "code",
   "execution_count": 20,
   "metadata": {
    "execution": {
     "iopub.execute_input": "2020-12-07T10:05:38.388083Z",
     "iopub.status.busy": "2020-12-07T10:05:38.382347Z",
     "iopub.status.idle": "2020-12-07T10:08:03.082386Z",
     "shell.execute_reply": "2020-12-07T10:08:03.081877Z"
    },
    "papermill": {
     "duration": 144.740881,
     "end_time": "2020-12-07T10:08:03.082526",
     "exception": false,
     "start_time": "2020-12-07T10:05:38.341645",
     "status": "completed"
    },
    "tags": []
   },
   "outputs": [
    {
     "name": "stdout",
     "output_type": "stream",
     "text": [
      "====== Neural Network ======\n"
     ]
    },
    {
     "name": "stdout",
     "output_type": "stream",
     "text": [
      "Epoch 0, Loss 0.2583\n",
      "Training Accuracy: 0.4594, Testing Accuracy: 0.4783\n",
      "\n"
     ]
    },
    {
     "name": "stdout",
     "output_type": "stream",
     "text": [
      "Epoch 10, Loss 0.1826\n",
      "Training Accuracy: 0.8635, Testing Accuracy: 0.8740\n",
      "\n"
     ]
    },
    {
     "name": "stdout",
     "output_type": "stream",
     "text": [
      "Epoch 20, Loss 0.0889\n",
      "Training Accuracy: 0.9116, Testing Accuracy: 0.9219\n",
      "\n"
     ]
    },
    {
     "name": "stdout",
     "output_type": "stream",
     "text": [
      "Epoch 30, Loss 0.0593\n",
      "Training Accuracy: 0.9336, Testing Accuracy: 0.9441\n",
      "\n"
     ]
    },
    {
     "name": "stdout",
     "output_type": "stream",
     "text": [
      "Epoch 40, Loss 0.0472\n",
      "Training Accuracy: 0.9463, Testing Accuracy: 0.9546\n",
      "\n"
     ]
    },
    {
     "name": "stdout",
     "output_type": "stream",
     "text": [
      "Epoch 50, Loss 0.0408\n",
      "Training Accuracy: 0.9524, Testing Accuracy: 0.9597\n",
      "\n"
     ]
    },
    {
     "name": "stdout",
     "output_type": "stream",
     "text": [
      "Epoch 60, Loss 0.0368\n",
      "Training Accuracy: 0.9560, Testing Accuracy: 0.9652\n",
      "\n"
     ]
    },
    {
     "name": "stdout",
     "output_type": "stream",
     "text": [
      "Epoch 70, Loss 0.034\n",
      "Training Accuracy: 0.9595, Testing Accuracy: 0.9688\n",
      "\n"
     ]
    },
    {
     "name": "stdout",
     "output_type": "stream",
     "text": [
      "Epoch 80, Loss 0.032\n",
      "Training Accuracy: 0.9620, Testing Accuracy: 0.9703\n",
      "\n"
     ]
    },
    {
     "name": "stdout",
     "output_type": "stream",
     "text": [
      "Epoch 90, Loss 0.0304\n",
      "Training Accuracy: 0.9646, Testing Accuracy: 0.9708\n",
      "\n"
     ]
    },
    {
     "name": "stdout",
     "output_type": "stream",
     "text": [
      "Epoch 100, Loss 0.0292\n",
      "Training Accuracy: 0.9657, Testing Accuracy: 0.9688\n",
      "\n"
     ]
    },
    {
     "name": "stdout",
     "output_type": "stream",
     "text": [
      "Epoch 110, Loss 0.0281\n",
      "Training Accuracy: 0.9670, Testing Accuracy: 0.9688\n",
      "\n"
     ]
    },
    {
     "name": "stdout",
     "output_type": "stream",
     "text": [
      "Epoch 120, Loss 0.0272\n",
      "Training Accuracy: 0.9681, Testing Accuracy: 0.9688\n",
      "\n"
     ]
    },
    {
     "name": "stdout",
     "output_type": "stream",
     "text": [
      "Epoch 130, Loss 0.0264\n",
      "Training Accuracy: 0.9690, Testing Accuracy: 0.9682\n",
      "\n"
     ]
    },
    {
     "name": "stdout",
     "output_type": "stream",
     "text": [
      "Epoch 140, Loss 0.0256\n",
      "Training Accuracy: 0.9694, Testing Accuracy: 0.9677\n",
      "\n"
     ]
    },
    {
     "name": "stdout",
     "output_type": "stream",
     "text": [
      "Epoch 150, Loss 0.025\n",
      "Training Accuracy: 0.9700, Testing Accuracy: 0.9688\n",
      "\n"
     ]
    },
    {
     "name": "stdout",
     "output_type": "stream",
     "text": [
      "Epoch 160, Loss 0.0244\n",
      "Training Accuracy: 0.9712, Testing Accuracy: 0.9688\n",
      "\n"
     ]
    },
    {
     "name": "stdout",
     "output_type": "stream",
     "text": [
      "Epoch 170, Loss 0.0238\n",
      "Training Accuracy: 0.9715, Testing Accuracy: 0.9688\n",
      "\n"
     ]
    },
    {
     "name": "stdout",
     "output_type": "stream",
     "text": [
      "Epoch 180, Loss 0.0233\n",
      "Training Accuracy: 0.9724, Testing Accuracy: 0.9693\n",
      "\n"
     ]
    },
    {
     "name": "stdout",
     "output_type": "stream",
     "text": [
      "Epoch 190, Loss 0.0228\n",
      "Training Accuracy: 0.9732, Testing Accuracy: 0.9693\n",
      "\n"
     ]
    },
    {
     "name": "stdout",
     "output_type": "stream",
     "text": [
      "Epoch 200, Loss 0.0224\n",
      "Training Accuracy: 0.9737, Testing Accuracy: 0.9698\n",
      "\n"
     ]
    },
    {
     "name": "stdout",
     "output_type": "stream",
     "text": [
      "Epoch 210, Loss 0.0219\n",
      "Training Accuracy: 0.9743, Testing Accuracy: 0.9703\n",
      "\n"
     ]
    },
    {
     "name": "stdout",
     "output_type": "stream",
     "text": [
      "Epoch 220, Loss 0.0215\n",
      "Training Accuracy: 0.9751, Testing Accuracy: 0.9708\n",
      "\n"
     ]
    },
    {
     "name": "stdout",
     "output_type": "stream",
     "text": [
      "Epoch 230, Loss 0.0211\n",
      "Training Accuracy: 0.9756, Testing Accuracy: 0.9708\n",
      "\n"
     ]
    },
    {
     "name": "stdout",
     "output_type": "stream",
     "text": [
      "Epoch 240, Loss 0.0207\n",
      "Training Accuracy: 0.9763, Testing Accuracy: 0.9713\n",
      "\n"
     ]
    },
    {
     "name": "stdout",
     "output_type": "stream",
     "text": [
      "Epoch 250, Loss 0.0203\n",
      "Training Accuracy: 0.9768, Testing Accuracy: 0.9713\n",
      "\n"
     ]
    },
    {
     "data": {
      "text/plain": [
       "0.02440702121834379"
      ]
     },
     "execution_count": 20,
     "metadata": {},
     "output_type": "execute_result"
    }
   ],
   "source": [
    "print(\"====== Neural Network ======\")\n",
    "learner_nn.train_loop(dl)"
   ]
  },
  {
   "cell_type": "markdown",
   "metadata": {
    "papermill": {
     "duration": 0.042707,
     "end_time": "2020-12-07T10:08:03.166231",
     "exception": false,
     "start_time": "2020-12-07T10:08:03.123524",
     "status": "completed"
    },
    "tags": []
   },
   "source": [
    "### Logistic Regression based Implementation."
   ]
  },
  {
   "cell_type": "code",
   "execution_count": 21,
   "metadata": {
    "execution": {
     "iopub.execute_input": "2020-12-07T10:08:03.257178Z",
     "iopub.status.busy": "2020-12-07T10:08:03.256297Z",
     "iopub.status.idle": "2020-12-07T10:08:03.267897Z",
     "shell.execute_reply": "2020-12-07T10:08:03.266838Z"
    },
    "papermill": {
     "duration": 0.060169,
     "end_time": "2020-12-07T10:08:03.268042",
     "exception": false,
     "start_time": "2020-12-07T10:08:03.207873",
     "status": "completed"
    },
    "tags": []
   },
   "outputs": [],
   "source": [
    "learner_lr = Learner(loss, model_lr, opt, config.num_epochs)\n",
    "acc_lr = ClfCallback(learner_lr, config.bs, training_xdata , testing_xdata, training_ydata, testing_ydata)\n",
    "learner_lr.set_callbacks([acc_lr])"
   ]
  },
  {
   "cell_type": "code",
   "execution_count": 22,
   "metadata": {
    "execution": {
     "iopub.execute_input": "2020-12-07T10:08:03.360591Z",
     "iopub.status.busy": "2020-12-07T10:08:03.359948Z",
     "iopub.status.idle": "2020-12-07T10:08:24.750801Z",
     "shell.execute_reply": "2020-12-07T10:08:24.751671Z"
    },
    "papermill": {
     "duration": 21.443347,
     "end_time": "2020-12-07T10:08:24.751834",
     "exception": false,
     "start_time": "2020-12-07T10:08:03.308487",
     "status": "completed"
    },
    "tags": []
   },
   "outputs": [
    {
     "name": "stdout",
     "output_type": "stream",
     "text": [
      "====== Logistic Regression ======\n",
      "Epoch 0, Loss 0.212\n",
      "Training Accuracy: 0.7852, Testing Accuracy: 0.7913\n",
      "\n"
     ]
    },
    {
     "name": "stdout",
     "output_type": "stream",
     "text": [
      "Epoch 10, Loss 0.0992\n",
      "Training Accuracy: 0.9094, Testing Accuracy: 0.9178\n",
      "\n"
     ]
    },
    {
     "name": "stdout",
     "output_type": "stream",
     "text": [
      "Epoch 20, Loss 0.0778\n",
      "Training Accuracy: 0.9259, Testing Accuracy: 0.9385\n",
      "\n"
     ]
    },
    {
     "name": "stdout",
     "output_type": "stream",
     "text": [
      "Epoch 30, Loss 0.0676\n",
      "Training Accuracy: 0.9345, Testing Accuracy: 0.9461\n",
      "\n"
     ]
    },
    {
     "name": "stdout",
     "output_type": "stream",
     "text": [
      "Epoch 40, Loss 0.0613\n",
      "Training Accuracy: 0.9402, Testing Accuracy: 0.9486\n",
      "\n"
     ]
    },
    {
     "name": "stdout",
     "output_type": "stream",
     "text": [
      "Epoch 50, Loss 0.057\n",
      "Training Accuracy: 0.9441, Testing Accuracy: 0.9516\n",
      "\n"
     ]
    },
    {
     "name": "stdout",
     "output_type": "stream",
     "text": [
      "Epoch 60, Loss 0.0538\n",
      "Training Accuracy: 0.9458, Testing Accuracy: 0.9561\n",
      "\n"
     ]
    },
    {
     "name": "stdout",
     "output_type": "stream",
     "text": [
      "Epoch 70, Loss 0.0513\n",
      "Training Accuracy: 0.9485, Testing Accuracy: 0.9561\n",
      "\n"
     ]
    },
    {
     "name": "stdout",
     "output_type": "stream",
     "text": [
      "Epoch 80, Loss 0.0493\n",
      "Training Accuracy: 0.9507, Testing Accuracy: 0.9577\n",
      "\n"
     ]
    },
    {
     "name": "stdout",
     "output_type": "stream",
     "text": [
      "Epoch 90, Loss 0.0476\n",
      "Training Accuracy: 0.9518, Testing Accuracy: 0.9587\n",
      "\n"
     ]
    },
    {
     "name": "stdout",
     "output_type": "stream",
     "text": [
      "Epoch 100, Loss 0.0462\n",
      "Training Accuracy: 0.9528, Testing Accuracy: 0.9597\n",
      "\n"
     ]
    },
    {
     "name": "stdout",
     "output_type": "stream",
     "text": [
      "Epoch 110, Loss 0.045\n",
      "Training Accuracy: 0.9538, Testing Accuracy: 0.9597\n",
      "\n"
     ]
    },
    {
     "name": "stdout",
     "output_type": "stream",
     "text": [
      "Epoch 120, Loss 0.044\n",
      "Training Accuracy: 0.9553, Testing Accuracy: 0.9607\n",
      "\n"
     ]
    },
    {
     "name": "stdout",
     "output_type": "stream",
     "text": [
      "Epoch 130, Loss 0.043\n",
      "Training Accuracy: 0.9558, Testing Accuracy: 0.9612\n",
      "\n"
     ]
    },
    {
     "name": "stdout",
     "output_type": "stream",
     "text": [
      "Epoch 140, Loss 0.0422\n",
      "Training Accuracy: 0.9563, Testing Accuracy: 0.9617\n",
      "\n"
     ]
    },
    {
     "name": "stdout",
     "output_type": "stream",
     "text": [
      "Epoch 150, Loss 0.0415\n",
      "Training Accuracy: 0.9569, Testing Accuracy: 0.9622\n",
      "\n"
     ]
    },
    {
     "name": "stdout",
     "output_type": "stream",
     "text": [
      "Epoch 160, Loss 0.0408\n",
      "Training Accuracy: 0.9576, Testing Accuracy: 0.9627\n",
      "\n"
     ]
    },
    {
     "name": "stdout",
     "output_type": "stream",
     "text": [
      "Epoch 170, Loss 0.0402\n",
      "Training Accuracy: 0.9584, Testing Accuracy: 0.9632\n",
      "\n"
     ]
    },
    {
     "name": "stdout",
     "output_type": "stream",
     "text": [
      "Epoch 180, Loss 0.0396\n",
      "Training Accuracy: 0.9584, Testing Accuracy: 0.9642\n",
      "\n"
     ]
    },
    {
     "name": "stdout",
     "output_type": "stream",
     "text": [
      "Epoch 190, Loss 0.0391\n",
      "Training Accuracy: 0.9588, Testing Accuracy: 0.9642\n",
      "\n"
     ]
    },
    {
     "name": "stdout",
     "output_type": "stream",
     "text": [
      "Epoch 200, Loss 0.0386\n",
      "Training Accuracy: 0.9593, Testing Accuracy: 0.9642\n",
      "\n"
     ]
    },
    {
     "name": "stdout",
     "output_type": "stream",
     "text": [
      "Epoch 210, Loss 0.0382\n",
      "Training Accuracy: 0.9599, Testing Accuracy: 0.9652\n",
      "\n"
     ]
    },
    {
     "name": "stdout",
     "output_type": "stream",
     "text": [
      "Epoch 220, Loss 0.0377\n",
      "Training Accuracy: 0.9601, Testing Accuracy: 0.9647\n",
      "\n"
     ]
    },
    {
     "name": "stdout",
     "output_type": "stream",
     "text": [
      "Epoch 230, Loss 0.0373\n",
      "Training Accuracy: 0.9605, Testing Accuracy: 0.9652\n",
      "\n"
     ]
    },
    {
     "name": "stdout",
     "output_type": "stream",
     "text": [
      "Epoch 240, Loss 0.037\n",
      "Training Accuracy: 0.9605, Testing Accuracy: 0.9652\n",
      "\n"
     ]
    },
    {
     "name": "stdout",
     "output_type": "stream",
     "text": [
      "Epoch 250, Loss 0.0366\n",
      "Training Accuracy: 0.9609, Testing Accuracy: 0.9657\n",
      "\n"
     ]
    },
    {
     "data": {
      "text/plain": [
       "0.016721584028813425"
      ]
     },
     "execution_count": 22,
     "metadata": {},
     "output_type": "execute_result"
    }
   ],
   "source": [
    "print(\"====== Logistic Regression ======\")\n",
    "learner_lr.train_loop(dl)"
   ]
  },
  {
   "cell_type": "markdown",
   "metadata": {
    "papermill": {
     "duration": 0.048991,
     "end_time": "2020-12-07T10:08:24.850992",
     "exception": false,
     "start_time": "2020-12-07T10:08:24.802001",
     "status": "completed"
    },
    "tags": []
   },
   "source": [
    "### Comparing results of NN and LR"
   ]
  },
  {
   "cell_type": "code",
   "execution_count": 23,
   "metadata": {
    "execution": {
     "iopub.execute_input": "2020-12-07T10:08:24.958433Z",
     "iopub.status.busy": "2020-12-07T10:08:24.957803Z",
     "iopub.status.idle": "2020-12-07T10:08:25.242422Z",
     "shell.execute_reply": "2020-12-07T10:08:25.241923Z"
    },
    "papermill": {
     "duration": 0.342908,
     "end_time": "2020-12-07T10:08:25.242554",
     "exception": false,
     "start_time": "2020-12-07T10:08:24.899646",
     "status": "completed"
    },
    "tags": []
   },
   "outputs": [
    {
     "data": {
      "text/plain": [
       "<matplotlib.legend.Legend at 0x7f3b50593940>"
      ]
     },
     "execution_count": 23,
     "metadata": {},
     "output_type": "execute_result"
    },
    {
     "data": {
      "image/png": "[encoded data removed]",
      "text/plain": [
       "<Figure size 1080x720 with 1 Axes>"
      ]
     },
     "metadata": {
      "needs_background": "light"
     },
     "output_type": "display_data"
    }
   ],
   "source": [
    "plt.figure(figsize=(15,10))\n",
    "\n",
    "# Neural Network plots\n",
    "plt.plot(acc_nn.accuracies, 'r-', label = \"Training Accuracies - NN\")\n",
    "plt.plot(acc_nn.test_accuracies, 'g-', label = \"Testing Accuracies - NN\")\n",
    "\n",
    "# Logistic Regression plots\n",
    "plt.plot(acc_lr.accuracies, 'k-', label = \"Training Accuracies - LR\")\n",
    "plt.plot(acc_lr.test_accuracies, 'b-', label = \"Testing Accuracies - LR\")\n",
    "\n",
    "plt.ylim(0.8, 1)\n",
    "\n",
    "plt.legend()\n",
    "\n"
   ]
  },
  {
   "cell_type": "markdown",
   "metadata": {
    "papermill": {
     "duration": 0.050398,
     "end_time": "2020-12-07T10:08:25.345184",
     "exception": false,
     "start_time": "2020-12-07T10:08:25.294786",
     "status": "completed"
    },
    "tags": []
   },
   "source": [
    "### From the plot, we can observe the following:\n",
    "- Neural Network achieves higher accuracy than the Logistic Regression model.\n",
    "- This apparently, is because of overfitting, i.e. NN captures more noise than data.\n",
    "- Testing accuracy of NN drops below the Training accuracy at higher epochs. This explains the over-fitting on training data.\n",
    "- Logistic Regression gives a reliable accuracy, without the above mentioned problem.\n"
   ]
  },
  {
   "cell_type": "markdown",
   "metadata": {
    "papermill": {
     "duration": 0.051145,
     "end_time": "2020-12-07T10:08:25.448289",
     "exception": false,
     "start_time": "2020-12-07T10:08:25.397144",
     "status": "completed"
    },
    "tags": []
   },
   "source": [
    "### Moving till the last but one layer (excluding it).\n",
    "#### Plotting the outputs of this layer of the NN."
   ]
  },
  {
   "cell_type": "code",
   "execution_count": 24,
   "metadata": {
    "execution": {
     "iopub.execute_input": "2020-12-07T10:08:25.560969Z",
     "iopub.status.busy": "2020-12-07T10:08:25.560413Z",
     "iopub.status.idle": "2020-12-07T10:08:25.574860Z",
     "shell.execute_reply": "2020-12-07T10:08:25.574237Z"
    },
    "papermill": {
     "duration": 0.068135,
     "end_time": "2020-12-07T10:08:25.575035",
     "exception": false,
     "start_time": "2020-12-07T10:08:25.506900",
     "status": "completed"
    },
    "tags": []
   },
   "outputs": [],
   "source": [
    "model_new = Model(layers[:-2])"
   ]
  },
  {
   "cell_type": "code",
   "execution_count": 25,
   "metadata": {
    "execution": {
     "iopub.execute_input": "2020-12-07T10:08:25.686321Z",
     "iopub.status.busy": "2020-12-07T10:08:25.685631Z",
     "iopub.status.idle": "2020-12-07T10:08:25.713264Z",
     "shell.execute_reply": "2020-12-07T10:08:25.714056Z"
    },
    "papermill": {
     "duration": 0.089205,
     "end_time": "2020-12-07T10:08:25.714244",
     "exception": false,
     "start_time": "2020-12-07T10:08:25.625039",
     "status": "completed"
    },
    "tags": []
   },
   "outputs": [],
   "source": [
    "plot_testing = model_new(testing_xdata)"
   ]
  },
  {
   "cell_type": "code",
   "execution_count": 26,
   "metadata": {
    "execution": {
     "iopub.execute_input": "2020-12-07T10:08:25.849597Z",
     "iopub.status.busy": "2020-12-07T10:08:25.832812Z",
     "iopub.status.idle": "2020-12-07T10:08:26.074359Z",
     "shell.execute_reply": "2020-12-07T10:08:26.073511Z"
    },
    "papermill": {
     "duration": 0.307567,
     "end_time": "2020-12-07T10:08:26.074504",
     "exception": false,
     "start_time": "2020-12-07T10:08:25.766937",
     "status": "completed"
    },
    "tags": []
   },
   "outputs": [
    {
     "data": {
      "text/plain": [
       "Text(0.5, 1.0, 'Outputs')"
      ]
     },
     "execution_count": 26,
     "metadata": {},
     "output_type": "execute_result"
    },
    {
     "data": {
      "image/png": "[encoded data removed]",
      "text/plain": [
       "<Figure size 576x504 with 1 Axes>"
      ]
     },
     "metadata": {
      "needs_background": "light"
     },
     "output_type": "display_data"
    }
   ],
   "source": [
    "plt.figure(figsize=(8,7))\n",
    "plt.scatter(plot_testing[:,0], plot_testing[:,1], alpha = 0.1, c = y_test.ravel());\n",
    "plt.title('Outputs')"
   ]
  },
  {
   "cell_type": "markdown",
   "metadata": {
    "papermill": {
     "duration": 0.059763,
     "end_time": "2020-12-07T10:08:26.185139",
     "exception": false,
     "start_time": "2020-12-07T10:08:26.125376",
     "status": "completed"
    },
    "tags": []
   },
   "source": [
    "### Plotting probability contours"
   ]
  },
  {
   "cell_type": "code",
   "execution_count": 27,
   "metadata": {
    "execution": {
     "iopub.execute_input": "2020-12-07T10:08:26.301612Z",
     "iopub.status.busy": "2020-12-07T10:08:26.300954Z",
     "iopub.status.idle": "2020-12-07T10:08:26.313319Z",
     "shell.execute_reply": "2020-12-07T10:08:26.313880Z"
    },
    "papermill": {
     "duration": 0.075911,
     "end_time": "2020-12-07T10:08:26.314032",
     "exception": false,
     "start_time": "2020-12-07T10:08:26.238121",
     "status": "completed"
    },
    "tags": []
   },
   "outputs": [],
   "source": [
    "model_prob = Model(layers[-2:]) "
   ]
  },
  {
   "cell_type": "code",
   "execution_count": 28,
   "metadata": {
    "execution": {
     "iopub.execute_input": "2020-12-07T10:08:26.427177Z",
     "iopub.status.busy": "2020-12-07T10:08:26.426494Z",
     "iopub.status.idle": "2020-12-07T10:08:26.443919Z",
     "shell.execute_reply": "2020-12-07T10:08:26.445603Z"
    },
    "papermill": {
     "duration": 0.078507,
     "end_time": "2020-12-07T10:08:26.445802",
     "exception": false,
     "start_time": "2020-12-07T10:08:26.367295",
     "status": "completed"
    },
    "tags": []
   },
   "outputs": [],
   "source": [
    "# Adjust the x and y ranges according to the above generated plot.\n",
    "x_range = np.linspace(-4, 1, 100) \n",
    "y_range = np.linspace(-6, 6, 100) \n",
    "x_grid, y_grid = np.meshgrid(x_range, y_range) # x_grid and y_grig are of size 100 X 100\n",
    "\n",
    "# converting x_grid and y_grid to continuous arrays\n",
    "x_grid_flat = np.ravel(x_grid)\n",
    "y_grid_flat = np.ravel(y_grid)\n",
    "\n",
    "# The last layer of the current model takes two columns as input. Hence transpose of np.vstack() is required.\n",
    "X = np.vstack((x_grid_flat, y_grid_flat)).T\n",
    "\n",
    "# x_grid and y_grid are of size 100 x 100\n",
    "probability_contour = model_prob(X).reshape(100,100) "
   ]
  },
  {
   "cell_type": "code",
   "execution_count": 29,
   "metadata": {
    "execution": {
     "iopub.execute_input": "2020-12-07T10:08:26.565207Z",
     "iopub.status.busy": "2020-12-07T10:08:26.564371Z",
     "iopub.status.idle": "2020-12-07T10:08:26.854386Z",
     "shell.execute_reply": "2020-12-07T10:08:26.854888Z"
    },
    "papermill": {
     "duration": 0.352786,
     "end_time": "2020-12-07T10:08:26.855139",
     "exception": false,
     "start_time": "2020-12-07T10:08:26.502353",
     "status": "completed"
    },
    "tags": []
   },
   "outputs": [
    {
     "data": {
      "image/png": "[encoded data removed]",
      "text/plain": [
       "<Figure size 720x648 with 1 Axes>"
      ]
     },
     "metadata": {
      "needs_background": "light"
     },
     "output_type": "display_data"
    }
   ],
   "source": [
    "plt.figure(figsize=(10,9))\n",
    "plt.scatter(plot_testing[:,0], plot_testing[:,1], alpha = 0.1, c = y_test.ravel())\n",
    "contours = plt.contour(x_grid,y_grid,probability_contour)\n",
    "plt.title('Probability Contours')\n",
    "plt.clabel(contours, inline = True );"
   ]
  }
 ],
 "metadata": {
  "kernelspec": {
   "display_name": "Python 3",
   "language": "python",
   "name": "python3"
  },
  "language_info": {
   "codemirror_mode": {
    "name": "ipython",
    "version": 3
   },
   "file_extension": ".py",
   "mimetype": "text/x-python",
   "name": "python",
   "nbconvert_exporter": "python",
   "pygments_lexer": "ipython3",
   "version": "3.6.12"
  },
  "papermill": {
   "duration": 180.028916,
   "end_time": "2020-12-07T10:08:27.338732",
   "environment_variables": {},
   "exception": null,
   "input_path": "2020-08-11-NeuralNetwork.ipynb",
   "output_path": "2020-08-11-NeuralNetwork.ipynb",
   "parameters": {},
   "start_time": "2020-12-07T10:05:27.309816",
   "version": "2.1.2"
  }
 },
 "nbformat": 4,
 "nbformat_minor": 4
}