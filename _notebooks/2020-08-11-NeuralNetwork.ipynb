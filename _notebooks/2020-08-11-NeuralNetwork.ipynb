{
 "cells": [
  {
   "cell_type": "markdown",
   "metadata": {
    "papermill": {
     "duration": 0.070116,
     "end_time": "2020-09-05T10:06:40.200556",
     "exception": false,
     "start_time": "2020-09-05T10:06:40.130440",
     "status": "completed"
    },
    "tags": []
   },
   "source": [
    "# \"A Basic Neural Network: Differentiate Hand-Written Digits\"\n",
    "\n",
    "- badges: true\n",
    "- author: Akshith Sriram"
   ]
  },
  {
   "cell_type": "markdown",
   "metadata": {
    "papermill": {
     "duration": 0.129826,
     "end_time": "2020-09-05T10:06:40.357605",
     "exception": false,
     "start_time": "2020-09-05T10:06:40.227779",
     "status": "completed"
    },
    "tags": []
   },
   "source": [
    "### Key Objectives:\n",
    "- Building a neural network that differentiates two hand-written digits 3 and 8.\n",
    "- Comparing the results of this Neural Network (NN) to that of a Logistic Regression (LR) model.\n",
    "\n",
    "### Requirements:\n",
    "- 'Kudzu' : A neural network library that was designed during our course by [Univ.AI](www.univ.ai). \n",
    "- MNIST Database\n",
    "\n",
    "If MNIST is not installed, use the command `!pip install mnist` given below.\n",
    "It can be run both from the command line and Jupyter Notebook."
   ]
  },
  {
   "cell_type": "code",
   "execution_count": 1,
   "metadata": {
    "execution": {
     "iopub.execute_input": "2020-09-05T10:06:40.421609Z",
     "iopub.status.busy": "2020-09-05T10:06:40.420998Z",
     "iopub.status.idle": "2020-09-05T10:06:41.860793Z",
     "shell.execute_reply": "2020-09-05T10:06:41.861342Z"
    },
    "papermill": {
     "duration": 1.475074,
     "end_time": "2020-09-05T10:06:41.861553",
     "exception": false,
     "start_time": "2020-09-05T10:06:40.386479",
     "status": "completed"
    },
    "tags": []
   },
   "outputs": [
    {
     "name": "stdout",
     "output_type": "stream",
     "text": [
      "Collecting mnist\r\n"
     ]
    },
    {
     "name": "stdout",
     "output_type": "stream",
     "text": [
      "  Downloading mnist-0.2.2-py2.py3-none-any.whl (3.5 kB)\r\n",
      "Requirement already satisfied: numpy in /opt/hostedtoolcache/Python/3.6.12/x64/lib/python3.6/site-packages (from mnist) (1.19.1)\r\n"
     ]
    },
    {
     "name": "stdout",
     "output_type": "stream",
     "text": [
      "Installing collected packages: mnist\r\n",
      "Successfully installed mnist-0.2.2\r\n"
     ]
    }
   ],
   "source": [
    "!pip install mnist "
   ]
  },
  {
   "cell_type": "markdown",
   "metadata": {
    "papermill": {
     "duration": 0.026187,
     "end_time": "2020-09-05T10:06:41.915303",
     "exception": false,
     "start_time": "2020-09-05T10:06:41.889116",
     "status": "completed"
    },
    "tags": []
   },
   "source": [
    "#### Importing necessary libraries"
   ]
  },
  {
   "cell_type": "code",
   "execution_count": 2,
   "metadata": {
    "execution": {
     "iopub.execute_input": "2020-09-05T10:06:41.975221Z",
     "iopub.status.busy": "2020-09-05T10:06:41.974649Z",
     "iopub.status.idle": "2020-09-05T10:06:42.565096Z",
     "shell.execute_reply": "2020-09-05T10:06:42.564575Z"
    },
    "papermill": {
     "duration": 0.622977,
     "end_time": "2020-09-05T10:06:42.565240",
     "exception": false,
     "start_time": "2020-09-05T10:06:41.942263",
     "status": "completed"
    },
    "tags": []
   },
   "outputs": [],
   "source": [
    "%load_ext autoreload\n",
    "%autoreload 2\n",
    "\n",
    "%matplotlib inline\n",
    "import matplotlib.pyplot as plt\n",
    "\n",
    "import numpy as np\n",
    "import pandas as pd"
   ]
  },
  {
   "cell_type": "markdown",
   "metadata": {
    "papermill": {
     "duration": 0.027314,
     "end_time": "2020-09-05T10:06:42.618418",
     "exception": false,
     "start_time": "2020-09-05T10:06:42.591104",
     "status": "completed"
    },
    "tags": []
   },
   "source": [
    "### Preparing the Data"
   ]
  },
  {
   "cell_type": "code",
   "execution_count": 3,
   "metadata": {
    "execution": {
     "iopub.execute_input": "2020-09-05T10:06:42.674385Z",
     "iopub.status.busy": "2020-09-05T10:06:42.673735Z",
     "iopub.status.idle": "2020-09-05T10:06:42.687338Z",
     "shell.execute_reply": "2020-09-05T10:06:42.686670Z"
    },
    "papermill": {
     "duration": 0.04287,
     "end_time": "2020-09-05T10:06:42.687530",
     "exception": false,
     "start_time": "2020-09-05T10:06:42.644660",
     "status": "completed"
    },
    "tags": []
   },
   "outputs": [],
   "source": [
    "import mnist"
   ]
  },
  {
   "cell_type": "code",
   "execution_count": 4,
   "metadata": {
    "execution": {
     "iopub.execute_input": "2020-09-05T10:06:42.747402Z",
     "iopub.status.busy": "2020-09-05T10:06:42.746624Z",
     "iopub.status.idle": "2020-09-05T10:06:43.528026Z",
     "shell.execute_reply": "2020-09-05T10:06:43.527432Z"
    },
    "papermill": {
     "duration": 0.812969,
     "end_time": "2020-09-05T10:06:43.528181",
     "exception": false,
     "start_time": "2020-09-05T10:06:42.715212",
     "status": "completed"
    },
    "tags": []
   },
   "outputs": [],
   "source": [
    "train_images = mnist.train_images()\n",
    "train_labels = mnist.train_labels()"
   ]
  },
  {
   "cell_type": "code",
   "execution_count": 5,
   "metadata": {
    "execution": {
     "iopub.execute_input": "2020-09-05T10:06:43.587374Z",
     "iopub.status.busy": "2020-09-05T10:06:43.586836Z",
     "iopub.status.idle": "2020-09-05T10:06:43.603795Z",
     "shell.execute_reply": "2020-09-05T10:06:43.604258Z"
    },
    "papermill": {
     "duration": 0.047829,
     "end_time": "2020-09-05T10:06:43.604393",
     "exception": false,
     "start_time": "2020-09-05T10:06:43.556564",
     "status": "completed"
    },
    "tags": []
   },
   "outputs": [
    {
     "data": {
      "text/plain": [
       "((60000, 28, 28), (60000,))"
      ]
     },
     "execution_count": 5,
     "metadata": {},
     "output_type": "execute_result"
    }
   ],
   "source": [
    "train_images.shape, train_labels.shape"
   ]
  },
  {
   "cell_type": "code",
   "execution_count": 6,
   "metadata": {
    "execution": {
     "iopub.execute_input": "2020-09-05T10:06:43.664454Z",
     "iopub.status.busy": "2020-09-05T10:06:43.663877Z",
     "iopub.status.idle": "2020-09-05T10:06:43.926143Z",
     "shell.execute_reply": "2020-09-05T10:06:43.924969Z"
    },
    "papermill": {
     "duration": 0.294269,
     "end_time": "2020-09-05T10:06:43.926294",
     "exception": false,
     "start_time": "2020-09-05T10:06:43.632025",
     "status": "completed"
    },
    "tags": []
   },
   "outputs": [],
   "source": [
    "test_images = mnist.test_images()\n",
    "test_labels = mnist.test_labels()"
   ]
  },
  {
   "cell_type": "code",
   "execution_count": 7,
   "metadata": {
    "execution": {
     "iopub.execute_input": "2020-09-05T10:06:43.984724Z",
     "iopub.status.busy": "2020-09-05T10:06:43.982986Z",
     "iopub.status.idle": "2020-09-05T10:06:43.997189Z",
     "shell.execute_reply": "2020-09-05T10:06:43.996597Z"
    },
    "papermill": {
     "duration": 0.04475,
     "end_time": "2020-09-05T10:06:43.997377",
     "exception": false,
     "start_time": "2020-09-05T10:06:43.952627",
     "status": "completed"
    },
    "tags": []
   },
   "outputs": [
    {
     "data": {
      "text/plain": [
       "((10000, 28, 28), (10000,))"
      ]
     },
     "execution_count": 7,
     "metadata": {},
     "output_type": "execute_result"
    }
   ],
   "source": [
    "test_images.shape, test_labels.shape"
   ]
  },
  {
   "cell_type": "code",
   "execution_count": 8,
   "metadata": {
    "execution": {
     "iopub.execute_input": "2020-09-05T10:06:44.054855Z",
     "iopub.status.busy": "2020-09-05T10:06:44.054267Z",
     "iopub.status.idle": "2020-09-05T10:06:44.207656Z",
     "shell.execute_reply": "2020-09-05T10:06:44.207167Z"
    },
    "papermill": {
     "duration": 0.183706,
     "end_time": "2020-09-05T10:06:44.207795",
     "exception": false,
     "start_time": "2020-09-05T10:06:44.024089",
     "status": "completed"
    },
    "tags": []
   },
   "outputs": [
    {
     "name": "stdout",
     "output_type": "stream",
     "text": [
      "2\n"
     ]
    },
    {
     "data": {
      "text/plain": [
       "<matplotlib.image.AxesImage at 0x7fc6da72ab38>"
      ]
     },
     "execution_count": 8,
     "metadata": {},
     "output_type": "execute_result"
    },
    {
     "data": {
      "image/png": "[encoded data removed]",
      "text/plain": [
       "<Figure size 432x288 with 1 Axes>"
      ]
     },
     "metadata": {
      "needs_background": "light"
     },
     "output_type": "display_data"
    }
   ],
   "source": [
    "image_index = 7776 # You may select anything up to 60,000\n",
    "print(train_labels[image_index]) \n",
    "plt.imshow(train_images[image_index], cmap='Greys')"
   ]
  },
  {
   "cell_type": "markdown",
   "metadata": {
    "papermill": {
     "duration": 0.030476,
     "end_time": "2020-09-05T10:06:44.266353",
     "exception": false,
     "start_time": "2020-09-05T10:06:44.235877",
     "status": "completed"
    },
    "tags": []
   },
   "source": [
    "## Filter data to get 3 and 8 out"
   ]
  },
  {
   "cell_type": "code",
   "execution_count": 9,
   "metadata": {
    "execution": {
     "iopub.execute_input": "2020-09-05T10:06:44.331326Z",
     "iopub.status.busy": "2020-09-05T10:06:44.330182Z",
     "iopub.status.idle": "2020-09-05T10:06:44.349564Z",
     "shell.execute_reply": "2020-09-05T10:06:44.350048Z"
    },
    "papermill": {
     "duration": 0.05281,
     "end_time": "2020-09-05T10:06:44.350215",
     "exception": false,
     "start_time": "2020-09-05T10:06:44.297405",
     "status": "completed"
    },
    "tags": []
   },
   "outputs": [],
   "source": [
    "train_filter = np.where((train_labels == 3 ) | (train_labels == 8))\n",
    "test_filter = np.where((test_labels == 3) | (test_labels == 8))\n",
    "X_train, y_train = train_images[train_filter], train_labels[train_filter]\n",
    "X_test, y_test = test_images[test_filter], test_labels[test_filter]"
   ]
  },
  {
   "cell_type": "markdown",
   "metadata": {
    "papermill": {
     "duration": 0.028904,
     "end_time": "2020-09-05T10:06:44.407483",
     "exception": false,
     "start_time": "2020-09-05T10:06:44.378579",
     "status": "completed"
    },
    "tags": []
   },
   "source": [
    "We normalize the pixel values in the 0 to 1 range"
   ]
  },
  {
   "cell_type": "code",
   "execution_count": 10,
   "metadata": {
    "execution": {
     "iopub.execute_input": "2020-09-05T10:06:44.469260Z",
     "iopub.status.busy": "2020-09-05T10:06:44.468674Z",
     "iopub.status.idle": "2020-09-05T10:06:44.524822Z",
     "shell.execute_reply": "2020-09-05T10:06:44.524258Z"
    },
    "papermill": {
     "duration": 0.089435,
     "end_time": "2020-09-05T10:06:44.524977",
     "exception": false,
     "start_time": "2020-09-05T10:06:44.435542",
     "status": "completed"
    },
    "tags": []
   },
   "outputs": [],
   "source": [
    "X_train = X_train/255.\n",
    "X_test = X_test/255."
   ]
  },
  {
   "cell_type": "markdown",
   "metadata": {
    "papermill": {
     "duration": 0.028125,
     "end_time": "2020-09-05T10:06:44.581501",
     "exception": false,
     "start_time": "2020-09-05T10:06:44.553376",
     "status": "completed"
    },
    "tags": []
   },
   "source": [
    "Setup the labels as 1 (when the digit is 3) and 0 (when the digit is 8)"
   ]
  },
  {
   "cell_type": "code",
   "execution_count": 11,
   "metadata": {
    "execution": {
     "iopub.execute_input": "2020-09-05T10:06:44.639855Z",
     "iopub.status.busy": "2020-09-05T10:06:44.639259Z",
     "iopub.status.idle": "2020-09-05T10:06:44.651965Z",
     "shell.execute_reply": "2020-09-05T10:06:44.651463Z"
    },
    "papermill": {
     "duration": 0.043157,
     "end_time": "2020-09-05T10:06:44.652095",
     "exception": false,
     "start_time": "2020-09-05T10:06:44.608938",
     "status": "completed"
    },
    "tags": []
   },
   "outputs": [],
   "source": [
    "y_train = 1*(y_train==3)\n",
    "y_test = 1*(y_test==3)"
   ]
  },
  {
   "cell_type": "code",
   "execution_count": 12,
   "metadata": {
    "execution": {
     "iopub.execute_input": "2020-09-05T10:06:44.712945Z",
     "iopub.status.busy": "2020-09-05T10:06:44.712366Z",
     "iopub.status.idle": "2020-09-05T10:06:44.727047Z",
     "shell.execute_reply": "2020-09-05T10:06:44.726572Z"
    },
    "papermill": {
     "duration": 0.045836,
     "end_time": "2020-09-05T10:06:44.727178",
     "exception": false,
     "start_time": "2020-09-05T10:06:44.681342",
     "status": "completed"
    },
    "tags": []
   },
   "outputs": [
    {
     "data": {
      "text/plain": [
       "((11982, 28, 28), (1984, 28, 28))"
      ]
     },
     "execution_count": 12,
     "metadata": {},
     "output_type": "execute_result"
    }
   ],
   "source": [
    "X_train.shape, X_test.shape"
   ]
  },
  {
   "cell_type": "markdown",
   "metadata": {
    "papermill": {
     "duration": 0.027772,
     "end_time": "2020-09-05T10:06:44.782683",
     "exception": false,
     "start_time": "2020-09-05T10:06:44.754911",
     "status": "completed"
    },
    "tags": []
   },
   "source": [
    "### Reshape the input data to create a linear array"
   ]
  },
  {
   "cell_type": "code",
   "execution_count": 13,
   "metadata": {
    "execution": {
     "iopub.execute_input": "2020-09-05T10:06:44.840593Z",
     "iopub.status.busy": "2020-09-05T10:06:44.840012Z",
     "iopub.status.idle": "2020-09-05T10:06:44.854476Z",
     "shell.execute_reply": "2020-09-05T10:06:44.853981Z"
    },
    "papermill": {
     "duration": 0.044307,
     "end_time": "2020-09-05T10:06:44.854595",
     "exception": false,
     "start_time": "2020-09-05T10:06:44.810288",
     "status": "completed"
    },
    "tags": []
   },
   "outputs": [
    {
     "data": {
      "text/plain": [
       "((11982, 784), (1984, 784))"
      ]
     },
     "execution_count": 13,
     "metadata": {},
     "output_type": "execute_result"
    }
   ],
   "source": [
    "X_train = X_train.reshape(X_train.shape[0], -1)\n",
    "X_test = X_test.reshape(X_test.shape[0], -1)\n",
    "X_train.shape, X_test.shape"
   ]
  },
  {
   "cell_type": "markdown",
   "metadata": {
    "papermill": {
     "duration": 0.027443,
     "end_time": "2020-09-05T10:06:44.910243",
     "exception": false,
     "start_time": "2020-09-05T10:06:44.882800",
     "status": "completed"
    },
    "tags": []
   },
   "source": [
    "### Importing appropriate functions from 'Kudzu'"
   ]
  },
  {
   "cell_type": "code",
   "execution_count": 14,
   "metadata": {
    "execution": {
     "iopub.execute_input": "2020-09-05T10:06:44.969067Z",
     "iopub.status.busy": "2020-09-05T10:06:44.968479Z",
     "iopub.status.idle": "2020-09-05T10:06:44.988577Z",
     "shell.execute_reply": "2020-09-05T10:06:44.988068Z"
    },
    "papermill": {
     "duration": 0.051102,
     "end_time": "2020-09-05T10:06:44.988703",
     "exception": false,
     "start_time": "2020-09-05T10:06:44.937601",
     "status": "completed"
    },
    "tags": []
   },
   "outputs": [],
   "source": [
    "from kudzu.layer import Sigmoid\n",
    "from kudzu.layer import Relu\n",
    "from kudzu.layer import Affine, Sigmoid\n",
    "\n",
    "from kudzu.model import Model\n",
    "from kudzu.train import Learner\n",
    "from kudzu.optim import GD\n",
    "from kudzu.data import Data, Dataloader, Sampler\n",
    "\n",
    "from kudzu.callbacks import AccCallback\n",
    "from kudzu.callbacks import ClfCallback\n",
    "\n",
    "from kudzu.loss import MSE"
   ]
  },
  {
   "cell_type": "markdown",
   "metadata": {
    "papermill": {
     "duration": 0.027779,
     "end_time": "2020-09-05T10:06:45.044664",
     "exception": false,
     "start_time": "2020-09-05T10:06:45.016885",
     "status": "completed"
    },
    "tags": []
   },
   "source": [
    "### Let us create a `Config` class, to store important parameters. \n",
    "This class essentially plays the role of a dictionary."
   ]
  },
  {
   "cell_type": "code",
   "execution_count": 15,
   "metadata": {
    "execution": {
     "iopub.execute_input": "2020-09-05T10:06:45.105081Z",
     "iopub.status.busy": "2020-09-05T10:06:45.104518Z",
     "iopub.status.idle": "2020-09-05T10:06:45.117838Z",
     "shell.execute_reply": "2020-09-05T10:06:45.118353Z"
    },
    "papermill": {
     "duration": 0.045594,
     "end_time": "2020-09-05T10:06:45.118506",
     "exception": false,
     "start_time": "2020-09-05T10:06:45.072912",
     "status": "completed"
    },
    "tags": []
   },
   "outputs": [],
   "source": [
    "class Config:\n",
    "    pass\n",
    "config = Config()\n",
    "config.lr = 0.001\n",
    "config.num_epochs = 251\n",
    "config.bs = 50"
   ]
  },
  {
   "cell_type": "markdown",
   "metadata": {
    "papermill": {
     "duration": 0.02902,
     "end_time": "2020-09-05T10:06:45.175508",
     "exception": false,
     "start_time": "2020-09-05T10:06:45.146488",
     "status": "completed"
    },
    "tags": []
   },
   "source": [
    "### Initializing data to the variables"
   ]
  },
  {
   "cell_type": "code",
   "execution_count": 16,
   "metadata": {
    "execution": {
     "iopub.execute_input": "2020-09-05T10:06:45.236789Z",
     "iopub.status.busy": "2020-09-05T10:06:45.236206Z",
     "iopub.status.idle": "2020-09-05T10:06:45.250730Z",
     "shell.execute_reply": "2020-09-05T10:06:45.251190Z"
    },
    "papermill": {
     "duration": 0.046888,
     "end_time": "2020-09-05T10:06:45.251342",
     "exception": false,
     "start_time": "2020-09-05T10:06:45.204454",
     "status": "completed"
    },
    "tags": []
   },
   "outputs": [],
   "source": [
    "data = Data(X_train, y_train.reshape(-1,1))\n",
    "sampler = Sampler(data, config.bs, shuffle=True)\n",
    "\n",
    "dl = Dataloader(data, sampler)\n",
    "\n",
    "opt = GD(config.lr)\n",
    "loss = MSE()"
   ]
  },
  {
   "cell_type": "code",
   "execution_count": 17,
   "metadata": {
    "execution": {
     "iopub.execute_input": "2020-09-05T10:06:45.706749Z",
     "iopub.status.busy": "2020-09-05T10:06:45.706194Z",
     "iopub.status.idle": "2020-09-05T10:06:45.718940Z",
     "shell.execute_reply": "2020-09-05T10:06:45.718349Z"
    },
    "papermill": {
     "duration": 0.218726,
     "end_time": "2020-09-05T10:06:45.719068",
     "exception": false,
     "start_time": "2020-09-05T10:06:45.500342",
     "status": "completed"
    },
    "tags": []
   },
   "outputs": [],
   "source": [
    "training_xdata = X_train\n",
    "testing_xdata = X_test\n",
    "training_ydata = y_train.reshape(-1,1)\n",
    "testing_ydata = y_test.reshape(-1,1)"
   ]
  },
  {
   "cell_type": "markdown",
   "metadata": {
    "papermill": {
     "duration": 0.106833,
     "end_time": "2020-09-05T10:06:45.857256",
     "exception": false,
     "start_time": "2020-09-05T10:06:45.750423",
     "status": "completed"
    },
    "tags": []
   },
   "source": [
    "### Running Models with the Training data\n",
    "Details about the network layers:\n",
    "- A first affine layer has 784 inputs and does 100 affine transforms. These are followed by a Relu\n",
    "- A second affine layer has 100 inputs from the 100 activations of the past layer, and does 100 affine transforms. These are followed by a Relu\n",
    "- A third affine layer has 100 activations and does 2 affine transformations to create an embedding for visualization. There is no non-linearity here.\n",
    "- A final \"logistic regression\" which has an affine transform from 2 inputs to 1 output, which is squeezed through a sigmoid.\n",
    "\n",
    "Help taken from Anshuman's Notebook."
   ]
  },
  {
   "cell_type": "code",
   "execution_count": 18,
   "metadata": {
    "execution": {
     "iopub.execute_input": "2020-09-05T10:06:46.191856Z",
     "iopub.status.busy": "2020-09-05T10:06:46.191150Z",
     "iopub.status.idle": "2020-09-05T10:06:46.209065Z",
     "shell.execute_reply": "2020-09-05T10:06:46.209524Z"
    },
    "papermill": {
     "duration": 0.055592,
     "end_time": "2020-09-05T10:06:46.209678",
     "exception": false,
     "start_time": "2020-09-05T10:06:46.154086",
     "status": "completed"
    },
    "tags": []
   },
   "outputs": [],
   "source": [
    "# layers for the Neural Network\n",
    "layers = [Affine(\"first\", 784, 100), Relu(\"first\"), Affine(\"second\", 100, 100), Relu(\"second\"), Affine(\"third\", 100, 2), Affine(\"final\", 2, 1), Sigmoid(\"final\")]\n",
    "model_nn = Model(layers)\n",
    "\n",
    "# layers for the Logistic Regression\n",
    "layers_lr = [Affine(\"logits\", 784, 1), Sigmoid(\"sigmoid\")]\n",
    "model_lr = Model(layers_lr)"
   ]
  },
  {
   "cell_type": "code",
   "execution_count": 19,
   "metadata": {
    "execution": {
     "iopub.execute_input": "2020-09-05T10:06:46.274020Z",
     "iopub.status.busy": "2020-09-05T10:06:46.273399Z",
     "iopub.status.idle": "2020-09-05T10:06:46.286408Z",
     "shell.execute_reply": "2020-09-05T10:06:46.285942Z"
    },
    "papermill": {
     "duration": 0.046015,
     "end_time": "2020-09-05T10:06:46.286551",
     "exception": false,
     "start_time": "2020-09-05T10:06:46.240536",
     "status": "completed"
    },
    "tags": []
   },
   "outputs": [],
   "source": [
    "# suffix _nn stands for Neural Network.\n",
    "learner_nn = Learner(loss, model_nn, opt, config.num_epochs)\n",
    "acc_nn = ClfCallback(learner_nn, config.bs, training_xdata , testing_xdata, training_ydata, testing_ydata)\n",
    "learner_nn.set_callbacks([acc_nn])"
   ]
  },
  {
   "cell_type": "code",
   "execution_count": 20,
   "metadata": {
    "execution": {
     "iopub.execute_input": "2020-09-05T10:06:46.348370Z",
     "iopub.status.busy": "2020-09-05T10:06:46.347788Z",
     "iopub.status.idle": "2020-09-05T10:08:16.225796Z",
     "shell.execute_reply": "2020-09-05T10:08:16.224651Z"
    },
    "papermill": {
     "duration": 89.910417,
     "end_time": "2020-09-05T10:08:16.225940",
     "exception": false,
     "start_time": "2020-09-05T10:06:46.315523",
     "status": "completed"
    },
    "tags": []
   },
   "outputs": [
    {
     "name": "stdout",
     "output_type": "stream",
     "text": [
      "====== Neural Network ======\n"
     ]
    },
    {
     "name": "stdout",
     "output_type": "stream",
     "text": [
      "Epoch 0, Loss 0.2434\n",
      "Training Accuracy: 0.6738, Testing Accuracy: 0.6779\n",
      "\n"
     ]
    },
    {
     "name": "stdout",
     "output_type": "stream",
     "text": [
      "Epoch 10, Loss 0.11\n",
      "Training Accuracy: 0.9079, Testing Accuracy: 0.9234\n",
      "\n"
     ]
    },
    {
     "name": "stdout",
     "output_type": "stream",
     "text": [
      "Epoch 20, Loss 0.0638\n",
      "Training Accuracy: 0.9349, Testing Accuracy: 0.9486\n",
      "\n"
     ]
    },
    {
     "name": "stdout",
     "output_type": "stream",
     "text": [
      "Epoch 30, Loss 0.0484\n",
      "Training Accuracy: 0.9470, Testing Accuracy: 0.9607\n",
      "\n"
     ]
    },
    {
     "name": "stdout",
     "output_type": "stream",
     "text": [
      "Epoch 40, Loss 0.0409\n",
      "Training Accuracy: 0.9529, Testing Accuracy: 0.9657\n",
      "\n"
     ]
    },
    {
     "name": "stdout",
     "output_type": "stream",
     "text": [
      "Epoch 50, Loss 0.0365\n",
      "Training Accuracy: 0.9575, Testing Accuracy: 0.9677\n",
      "\n"
     ]
    },
    {
     "name": "stdout",
     "output_type": "stream",
     "text": [
      "Epoch 60, Loss 0.0335\n",
      "Training Accuracy: 0.9609, Testing Accuracy: 0.9698\n",
      "\n"
     ]
    },
    {
     "name": "stdout",
     "output_type": "stream",
     "text": [
      "Epoch 70, Loss 0.0314\n",
      "Training Accuracy: 0.9630, Testing Accuracy: 0.9713\n",
      "\n"
     ]
    },
    {
     "name": "stdout",
     "output_type": "stream",
     "text": [
      "Epoch 80, Loss 0.0297\n",
      "Training Accuracy: 0.9646, Testing Accuracy: 0.9713\n",
      "\n"
     ]
    },
    {
     "name": "stdout",
     "output_type": "stream",
     "text": [
      "Epoch 90, Loss 0.0284\n",
      "Training Accuracy: 0.9662, Testing Accuracy: 0.9728\n",
      "\n"
     ]
    },
    {
     "name": "stdout",
     "output_type": "stream",
     "text": [
      "Epoch 100, Loss 0.0273\n",
      "Training Accuracy: 0.9685, Testing Accuracy: 0.9723\n",
      "\n"
     ]
    },
    {
     "name": "stdout",
     "output_type": "stream",
     "text": [
      "Epoch 110, Loss 0.0263\n",
      "Training Accuracy: 0.9696, Testing Accuracy: 0.9723\n",
      "\n"
     ]
    },
    {
     "name": "stdout",
     "output_type": "stream",
     "text": [
      "Epoch 120, Loss 0.0254\n",
      "Training Accuracy: 0.9707, Testing Accuracy: 0.9733\n",
      "\n"
     ]
    },
    {
     "name": "stdout",
     "output_type": "stream",
     "text": [
      "Epoch 130, Loss 0.0247\n",
      "Training Accuracy: 0.9717, Testing Accuracy: 0.9728\n",
      "\n"
     ]
    },
    {
     "name": "stdout",
     "output_type": "stream",
     "text": [
      "Epoch 140, Loss 0.024\n",
      "Training Accuracy: 0.9725, Testing Accuracy: 0.9738\n",
      "\n"
     ]
    },
    {
     "name": "stdout",
     "output_type": "stream",
     "text": [
      "Epoch 150, Loss 0.0234\n",
      "Training Accuracy: 0.9730, Testing Accuracy: 0.9738\n",
      "\n"
     ]
    },
    {
     "name": "stdout",
     "output_type": "stream",
     "text": [
      "Epoch 160, Loss 0.0228\n",
      "Training Accuracy: 0.9738, Testing Accuracy: 0.9743\n",
      "\n"
     ]
    },
    {
     "name": "stdout",
     "output_type": "stream",
     "text": [
      "Epoch 170, Loss 0.0222\n",
      "Training Accuracy: 0.9746, Testing Accuracy: 0.9753\n",
      "\n"
     ]
    },
    {
     "name": "stdout",
     "output_type": "stream",
     "text": [
      "Epoch 180, Loss 0.0217\n",
      "Training Accuracy: 0.9757, Testing Accuracy: 0.9753\n",
      "\n"
     ]
    },
    {
     "name": "stdout",
     "output_type": "stream",
     "text": [
      "Epoch 190, Loss 0.0212\n",
      "Training Accuracy: 0.9761, Testing Accuracy: 0.9753\n",
      "\n"
     ]
    },
    {
     "name": "stdout",
     "output_type": "stream",
     "text": [
      "Epoch 200, Loss 0.0208\n",
      "Training Accuracy: 0.9769, Testing Accuracy: 0.9758\n",
      "\n"
     ]
    },
    {
     "name": "stdout",
     "output_type": "stream",
     "text": [
      "Epoch 210, Loss 0.0203\n",
      "Training Accuracy: 0.9774, Testing Accuracy: 0.9758\n",
      "\n"
     ]
    },
    {
     "name": "stdout",
     "output_type": "stream",
     "text": [
      "Epoch 220, Loss 0.0198\n",
      "Training Accuracy: 0.9781, Testing Accuracy: 0.9758\n",
      "\n"
     ]
    },
    {
     "name": "stdout",
     "output_type": "stream",
     "text": [
      "Epoch 230, Loss 0.0194\n",
      "Training Accuracy: 0.9782, Testing Accuracy: 0.9758\n",
      "\n"
     ]
    },
    {
     "name": "stdout",
     "output_type": "stream",
     "text": [
      "Epoch 240, Loss 0.019\n",
      "Training Accuracy: 0.9790, Testing Accuracy: 0.9768\n",
      "\n"
     ]
    },
    {
     "name": "stdout",
     "output_type": "stream",
     "text": [
      "Epoch 250, Loss 0.0186\n",
      "Training Accuracy: 0.9794, Testing Accuracy: 0.9773\n",
      "\n"
     ]
    },
    {
     "data": {
      "text/plain": [
       "0.0070943394852563905"
      ]
     },
     "execution_count": 20,
     "metadata": {},
     "output_type": "execute_result"
    }
   ],
   "source": [
    "print(\"====== Neural Network ======\")\n",
    "learner_nn.train_loop(dl)"
   ]
  },
  {
   "cell_type": "markdown",
   "metadata": {
    "papermill": {
     "duration": 0.037293,
     "end_time": "2020-09-05T10:08:16.301296",
     "exception": false,
     "start_time": "2020-09-05T10:08:16.264003",
     "status": "completed"
    },
    "tags": []
   },
   "source": [
    "### Logistic Regression based Implementation."
   ]
  },
  {
   "cell_type": "code",
   "execution_count": 21,
   "metadata": {
    "execution": {
     "iopub.execute_input": "2020-09-05T10:08:16.383371Z",
     "iopub.status.busy": "2020-09-05T10:08:16.382689Z",
     "iopub.status.idle": "2020-09-05T10:08:16.393727Z",
     "shell.execute_reply": "2020-09-05T10:08:16.393070Z"
    },
    "papermill": {
     "duration": 0.054993,
     "end_time": "2020-09-05T10:08:16.393863",
     "exception": false,
     "start_time": "2020-09-05T10:08:16.338870",
     "status": "completed"
    },
    "tags": []
   },
   "outputs": [],
   "source": [
    "learner_lr = Learner(loss, model_lr, opt, config.num_epochs)\n",
    "acc_lr = ClfCallback(learner_lr, config.bs, training_xdata , testing_xdata, training_ydata, testing_ydata)\n",
    "learner_lr.set_callbacks([acc_lr])"
   ]
  },
  {
   "cell_type": "code",
   "execution_count": 22,
   "metadata": {
    "execution": {
     "iopub.execute_input": "2020-09-05T10:08:16.479707Z",
     "iopub.status.busy": "2020-09-05T10:08:16.479119Z",
     "iopub.status.idle": "2020-09-05T10:08:32.860587Z",
     "shell.execute_reply": "2020-09-05T10:08:32.860042Z"
    },
    "papermill": {
     "duration": 16.426242,
     "end_time": "2020-09-05T10:08:32.860734",
     "exception": false,
     "start_time": "2020-09-05T10:08:16.434492",
     "status": "completed"
    },
    "tags": []
   },
   "outputs": [
    {
     "name": "stdout",
     "output_type": "stream",
     "text": [
      "====== Logistic Regression ======\n",
      "Epoch 0, Loss 0.2387\n",
      "Training Accuracy: 0.7212, Testing Accuracy: 0.7293\n",
      "\n"
     ]
    },
    {
     "name": "stdout",
     "output_type": "stream",
     "text": [
      "Epoch 10, Loss 0.0965\n",
      "Training Accuracy: 0.9256, Testing Accuracy: 0.9370\n",
      "\n"
     ]
    },
    {
     "name": "stdout",
     "output_type": "stream",
     "text": [
      "Epoch 20, Loss 0.0757\n",
      "Training Accuracy: 0.9346, Testing Accuracy: 0.9456\n",
      "\n"
     ]
    },
    {
     "name": "stdout",
     "output_type": "stream",
     "text": [
      "Epoch 30, Loss 0.0661\n",
      "Training Accuracy: 0.9389, Testing Accuracy: 0.9486\n",
      "\n"
     ]
    },
    {
     "name": "stdout",
     "output_type": "stream",
     "text": [
      "Epoch 40, Loss 0.0602\n",
      "Training Accuracy: 0.9440, Testing Accuracy: 0.9521\n",
      "\n"
     ]
    },
    {
     "name": "stdout",
     "output_type": "stream",
     "text": [
      "Epoch 50, Loss 0.0561\n",
      "Training Accuracy: 0.9463, Testing Accuracy: 0.9526\n",
      "\n"
     ]
    },
    {
     "name": "stdout",
     "output_type": "stream",
     "text": [
      "Epoch 60, Loss 0.0531\n",
      "Training Accuracy: 0.9487, Testing Accuracy: 0.9551\n",
      "\n"
     ]
    },
    {
     "name": "stdout",
     "output_type": "stream",
     "text": [
      "Epoch 70, Loss 0.0507\n",
      "Training Accuracy: 0.9494, Testing Accuracy: 0.9561\n",
      "\n"
     ]
    },
    {
     "name": "stdout",
     "output_type": "stream",
     "text": [
      "Epoch 80, Loss 0.0488\n",
      "Training Accuracy: 0.9508, Testing Accuracy: 0.9577\n",
      "\n"
     ]
    },
    {
     "name": "stdout",
     "output_type": "stream",
     "text": [
      "Epoch 90, Loss 0.0472\n",
      "Training Accuracy: 0.9523, Testing Accuracy: 0.9597\n",
      "\n"
     ]
    },
    {
     "name": "stdout",
     "output_type": "stream",
     "text": [
      "Epoch 100, Loss 0.0459\n",
      "Training Accuracy: 0.9534, Testing Accuracy: 0.9612\n",
      "\n"
     ]
    },
    {
     "name": "stdout",
     "output_type": "stream",
     "text": [
      "Epoch 110, Loss 0.0447\n",
      "Training Accuracy: 0.9542, Testing Accuracy: 0.9617\n",
      "\n"
     ]
    },
    {
     "name": "stdout",
     "output_type": "stream",
     "text": [
      "Epoch 120, Loss 0.0437\n",
      "Training Accuracy: 0.9547, Testing Accuracy: 0.9627\n",
      "\n"
     ]
    },
    {
     "name": "stdout",
     "output_type": "stream",
     "text": [
      "Epoch 130, Loss 0.0428\n",
      "Training Accuracy: 0.9553, Testing Accuracy: 0.9647\n",
      "\n"
     ]
    },
    {
     "name": "stdout",
     "output_type": "stream",
     "text": [
      "Epoch 140, Loss 0.042\n",
      "Training Accuracy: 0.9559, Testing Accuracy: 0.9642\n",
      "\n"
     ]
    },
    {
     "name": "stdout",
     "output_type": "stream",
     "text": [
      "Epoch 150, Loss 0.0413\n",
      "Training Accuracy: 0.9569, Testing Accuracy: 0.9637\n",
      "\n"
     ]
    },
    {
     "name": "stdout",
     "output_type": "stream",
     "text": [
      "Epoch 160, Loss 0.0406\n",
      "Training Accuracy: 0.9572, Testing Accuracy: 0.9642\n",
      "\n"
     ]
    },
    {
     "name": "stdout",
     "output_type": "stream",
     "text": [
      "Epoch 170, Loss 0.04\n",
      "Training Accuracy: 0.9574, Testing Accuracy: 0.9652\n",
      "\n"
     ]
    },
    {
     "name": "stdout",
     "output_type": "stream",
     "text": [
      "Epoch 180, Loss 0.0395\n",
      "Training Accuracy: 0.9582, Testing Accuracy: 0.9652\n",
      "\n"
     ]
    },
    {
     "name": "stdout",
     "output_type": "stream",
     "text": [
      "Epoch 190, Loss 0.039\n",
      "Training Accuracy: 0.9585, Testing Accuracy: 0.9652\n",
      "\n"
     ]
    },
    {
     "name": "stdout",
     "output_type": "stream",
     "text": [
      "Epoch 200, Loss 0.0385\n",
      "Training Accuracy: 0.9590, Testing Accuracy: 0.9652\n",
      "\n"
     ]
    },
    {
     "name": "stdout",
     "output_type": "stream",
     "text": [
      "Epoch 210, Loss 0.0381\n",
      "Training Accuracy: 0.9596, Testing Accuracy: 0.9652\n",
      "\n"
     ]
    },
    {
     "name": "stdout",
     "output_type": "stream",
     "text": [
      "Epoch 220, Loss 0.0377\n",
      "Training Accuracy: 0.9596, Testing Accuracy: 0.9652\n",
      "\n"
     ]
    },
    {
     "name": "stdout",
     "output_type": "stream",
     "text": [
      "Epoch 230, Loss 0.0373\n",
      "Training Accuracy: 0.9599, Testing Accuracy: 0.9662\n",
      "\n"
     ]
    },
    {
     "name": "stdout",
     "output_type": "stream",
     "text": [
      "Epoch 240, Loss 0.0369\n",
      "Training Accuracy: 0.9600, Testing Accuracy: 0.9657\n",
      "\n"
     ]
    },
    {
     "name": "stdout",
     "output_type": "stream",
     "text": [
      "Epoch 250, Loss 0.0366\n",
      "Training Accuracy: 0.9605, Testing Accuracy: 0.9657\n",
      "\n"
     ]
    },
    {
     "data": {
      "text/plain": [
       "0.00964511853450463"
      ]
     },
     "execution_count": 22,
     "metadata": {},
     "output_type": "execute_result"
    }
   ],
   "source": [
    "print(\"====== Logistic Regression ======\")\n",
    "learner_lr.train_loop(dl)"
   ]
  },
  {
   "cell_type": "markdown",
   "metadata": {
    "papermill": {
     "duration": 0.043873,
     "end_time": "2020-09-05T10:08:32.949389",
     "exception": false,
     "start_time": "2020-09-05T10:08:32.905516",
     "status": "completed"
    },
    "tags": []
   },
   "source": [
    "### Comparing results of NN and LR"
   ]
  },
  {
   "cell_type": "code",
   "execution_count": 23,
   "metadata": {
    "execution": {
     "iopub.execute_input": "2020-09-05T10:08:33.047645Z",
     "iopub.status.busy": "2020-09-05T10:08:33.046596Z",
     "iopub.status.idle": "2020-09-05T10:08:33.288130Z",
     "shell.execute_reply": "2020-09-05T10:08:33.288601Z"
    },
    "papermill": {
     "duration": 0.294141,
     "end_time": "2020-09-05T10:08:33.288756",
     "exception": false,
     "start_time": "2020-09-05T10:08:32.994615",
     "status": "completed"
    },
    "tags": []
   },
   "outputs": [
    {
     "data": {
      "text/plain": [
       "<matplotlib.legend.Legend at 0x7fc6d82aa358>"
      ]
     },
     "execution_count": 23,
     "metadata": {},
     "output_type": "execute_result"
    },
    {
     "data": {
      "image/png": "[encoded data removed]",
      "text/plain": [
       "<Figure size 1080x720 with 1 Axes>"
      ]
     },
     "metadata": {
      "needs_background": "light"
     },
     "output_type": "display_data"
    }
   ],
   "source": [
    "plt.figure(figsize=(15,10))\n",
    "\n",
    "# Neural Network plots\n",
    "plt.plot(acc_nn.accuracies, 'r-', label = \"Training Accuracies - NN\")\n",
    "plt.plot(acc_nn.test_accuracies, 'g-', label = \"Testing Accuracies - NN\")\n",
    "\n",
    "# Logistic Regression plots\n",
    "plt.plot(acc_lr.accuracies, 'k-', label = \"Training Accuracies - LR\")\n",
    "plt.plot(acc_lr.test_accuracies, 'b-', label = \"Testing Accuracies - LR\")\n",
    "\n",
    "plt.ylim(0.8, 1)\n",
    "\n",
    "plt.legend()\n",
    "\n"
   ]
  },
  {
   "cell_type": "markdown",
   "metadata": {
    "papermill": {
     "duration": 0.048443,
     "end_time": "2020-09-05T10:08:33.383811",
     "exception": false,
     "start_time": "2020-09-05T10:08:33.335368",
     "status": "completed"
    },
    "tags": []
   },
   "source": [
    "### From the plot, we can observe the following:\n",
    "- Neural Network achieves higher accuracy than the Logistic Regression model.\n",
    "- This apparently, is because of overfitting, i.e. NN captures more noise than data.\n",
    "- Testing accuracy of NN drops below the Training accuracy at higher epochs. This explains the over-fitting on training data.\n",
    "- Logistic Regression gives a reliable accuracy, without the above mentioned problem.\n"
   ]
  },
  {
   "cell_type": "markdown",
   "metadata": {
    "papermill": {
     "duration": 0.047592,
     "end_time": "2020-09-05T10:08:33.478449",
     "exception": false,
     "start_time": "2020-09-05T10:08:33.430857",
     "status": "completed"
    },
    "tags": []
   },
   "source": [
    "### Moving till the last but one layer (excluding it).\n",
    "#### Plotting the outputs of this layer of the NN."
   ]
  },
  {
   "cell_type": "code",
   "execution_count": 24,
   "metadata": {
    "execution": {
     "iopub.execute_input": "2020-09-05T10:08:33.578691Z",
     "iopub.status.busy": "2020-09-05T10:08:33.576506Z",
     "iopub.status.idle": "2020-09-05T10:08:33.593654Z",
     "shell.execute_reply": "2020-09-05T10:08:33.593171Z"
    },
    "papermill": {
     "duration": 0.067288,
     "end_time": "2020-09-05T10:08:33.593789",
     "exception": false,
     "start_time": "2020-09-05T10:08:33.526501",
     "status": "completed"
    },
    "tags": []
   },
   "outputs": [],
   "source": [
    "model_new = Model(layers[:-2])"
   ]
  },
  {
   "cell_type": "code",
   "execution_count": 25,
   "metadata": {
    "execution": {
     "iopub.execute_input": "2020-09-05T10:08:33.694662Z",
     "iopub.status.busy": "2020-09-05T10:08:33.694065Z",
     "iopub.status.idle": "2020-09-05T10:08:33.721474Z",
     "shell.execute_reply": "2020-09-05T10:08:33.722057Z"
    },
    "papermill": {
     "duration": 0.080207,
     "end_time": "2020-09-05T10:08:33.722225",
     "exception": false,
     "start_time": "2020-09-05T10:08:33.642018",
     "status": "completed"
    },
    "tags": []
   },
   "outputs": [],
   "source": [
    "plot_testing = model_new(testing_xdata)"
   ]
  },
  {
   "cell_type": "code",
   "execution_count": 26,
   "metadata": {
    "execution": {
     "iopub.execute_input": "2020-09-05T10:08:33.823479Z",
     "iopub.status.busy": "2020-09-05T10:08:33.822938Z",
     "iopub.status.idle": "2020-09-05T10:08:34.024504Z",
     "shell.execute_reply": "2020-09-05T10:08:34.024991Z"
    },
    "papermill": {
     "duration": 0.25362,
     "end_time": "2020-09-05T10:08:34.025154",
     "exception": false,
     "start_time": "2020-09-05T10:08:33.771534",
     "status": "completed"
    },
    "tags": []
   },
   "outputs": [
    {
     "data": {
      "text/plain": [
       "Text(0.5, 1.0, 'Outputs')"
      ]
     },
     "execution_count": 26,
     "metadata": {},
     "output_type": "execute_result"
    },
    {
     "data": {
      "image/png": "[encoded data removed]",
      "text/plain": [
       "<Figure size 576x504 with 1 Axes>"
      ]
     },
     "metadata": {
      "needs_background": "light"
     },
     "output_type": "display_data"
    }
   ],
   "source": [
    "plt.figure(figsize=(8,7))\n",
    "plt.scatter(plot_testing[:,0], plot_testing[:,1], alpha = 0.1, c = y_test.ravel());\n",
    "plt.title('Outputs')"
   ]
  },
  {
   "cell_type": "markdown",
   "metadata": {
    "papermill": {
     "duration": 0.048437,
     "end_time": "2020-09-05T10:08:34.122328",
     "exception": false,
     "start_time": "2020-09-05T10:08:34.073891",
     "status": "completed"
    },
    "tags": []
   },
   "source": [
    "### Plotting probability contours"
   ]
  },
  {
   "cell_type": "code",
   "execution_count": 27,
   "metadata": {
    "execution": {
     "iopub.execute_input": "2020-09-05T10:08:34.222325Z",
     "iopub.status.busy": "2020-09-05T10:08:34.221687Z",
     "iopub.status.idle": "2020-09-05T10:08:34.236083Z",
     "shell.execute_reply": "2020-09-05T10:08:34.235519Z"
    },
    "papermill": {
     "duration": 0.066456,
     "end_time": "2020-09-05T10:08:34.236218",
     "exception": false,
     "start_time": "2020-09-05T10:08:34.169762",
     "status": "completed"
    },
    "tags": []
   },
   "outputs": [],
   "source": [
    "model_prob = Model(layers[-2:]) "
   ]
  },
  {
   "cell_type": "code",
   "execution_count": 28,
   "metadata": {
    "execution": {
     "iopub.execute_input": "2020-09-05T10:08:34.342455Z",
     "iopub.status.busy": "2020-09-05T10:08:34.341840Z",
     "iopub.status.idle": "2020-09-05T10:08:34.356431Z",
     "shell.execute_reply": "2020-09-05T10:08:34.356878Z"
    },
    "papermill": {
     "duration": 0.069983,
     "end_time": "2020-09-05T10:08:34.357034",
     "exception": false,
     "start_time": "2020-09-05T10:08:34.287051",
     "status": "completed"
    },
    "tags": []
   },
   "outputs": [],
   "source": [
    "# Adjust the x and y ranges according to the above generated plot.\n",
    "x_range = np.linspace(-4, 1, 100) \n",
    "y_range = np.linspace(-6, 6, 100) \n",
    "x_grid, y_grid = np.meshgrid(x_range, y_range) # x_grid and y_grig are of size 100 X 100\n",
    "\n",
    "# converting x_grid and y_grid to continuous arrays\n",
    "x_grid_flat = np.ravel(x_grid)\n",
    "y_grid_flat = np.ravel(y_grid)\n",
    "\n",
    "# The last layer of the current model takes two columns as input. Hence transpose of np.vstack() is required.\n",
    "X = np.vstack((x_grid_flat, y_grid_flat)).T\n",
    "\n",
    "# x_grid and y_grid are of size 100 x 100\n",
    "probability_contour = model_prob(X).reshape(100,100) "
   ]
  },
  {
   "cell_type": "code",
   "execution_count": 29,
   "metadata": {
    "execution": {
     "iopub.execute_input": "2020-09-05T10:08:34.479386Z",
     "iopub.status.busy": "2020-09-05T10:08:34.478737Z",
     "iopub.status.idle": "2020-09-05T10:08:34.727344Z",
     "shell.execute_reply": "2020-09-05T10:08:34.727796Z"
    },
    "papermill": {
     "duration": 0.31908,
     "end_time": "2020-09-05T10:08:34.727956",
     "exception": false,
     "start_time": "2020-09-05T10:08:34.408876",
     "status": "completed"
    },
    "tags": []
   },
   "outputs": [
    {
     "data": {
      "image/png": "[encoded data removed]",
      "text/plain": [
       "<Figure size 720x648 with 1 Axes>"
      ]
     },
     "metadata": {
      "needs_background": "light"
     },
     "output_type": "display_data"
    }
   ],
   "source": [
    "plt.figure(figsize=(10,9))\n",
    "plt.scatter(plot_testing[:,0], plot_testing[:,1], alpha = 0.1, c = y_test.ravel())\n",
    "contours = plt.contour(x_grid,y_grid,probability_contour)\n",
    "plt.title('Probability Contours')\n",
    "plt.clabel(contours, inline = True );"
   ]
  }
 ],
 "metadata": {
  "kernelspec": {
   "display_name": "Python 3",
   "language": "python",
   "name": "python3"
  },
  "language_info": {
   "codemirror_mode": {
    "name": "ipython",
    "version": 3
   },
   "file_extension": ".py",
   "mimetype": "text/x-python",
   "name": "python",
   "nbconvert_exporter": "python",
   "pygments_lexer": "ipython3",
   "version": "3.6.12"
  },
  "papermill": {
   "duration": 116.143458,
   "end_time": "2020-09-05T10:08:35.189436",
   "environment_variables": {},
   "exception": null,
   "input_path": "2020-08-11-NeuralNetwork.ipynb",
   "output_path": "2020-08-11-NeuralNetwork.ipynb",
   "parameters": {},
   "start_time": "2020-09-05T10:06:39.045978",
   "version": "2.1.2"
  }
 },
 "nbformat": 4,
 "nbformat_minor": 4
}