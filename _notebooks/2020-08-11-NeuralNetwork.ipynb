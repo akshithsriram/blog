{
 "cells": [
  {
   "cell_type": "markdown",
   "id": "fitted-suggestion",
   "metadata": {
    "papermill": {
     "duration": 0.040305,
     "end_time": "2021-05-30T10:35:40.395766",
     "exception": false,
     "start_time": "2021-05-30T10:35:40.355461",
     "status": "completed"
    },
    "tags": []
   },
   "source": [
    "# \"A Basic Neural Network: Differentiate Hand-Written Digits\"\n",
    "\n",
    "- badges: true\n",
    "- author: Akshith Sriram"
   ]
  },
  {
   "cell_type": "markdown",
   "id": "signal-flexibility",
   "metadata": {
    "papermill": {
     "duration": 0.030992,
     "end_time": "2021-05-30T10:35:40.459968",
     "exception": false,
     "start_time": "2021-05-30T10:35:40.428976",
     "status": "completed"
    },
    "tags": []
   },
   "source": [
    "### Key Objectives:\n",
    "- Building a neural network that differentiates two hand-written digits 3 and 8.\n",
    "- Comparing the results of this Neural Network (NN) to that of a Logistic Regression (LR) model.\n",
    "\n",
    "### Requirements:\n",
    "- 'Kudzu' : A neural network library that was designed during our course by [Univ.AI](www.univ.ai). \n",
    "- MNIST Database\n",
    "\n",
    "If MNIST is not installed, use the command `!pip install mnist` given below.\n",
    "It can be run both from the command line and Jupyter Notebook."
   ]
  },
  {
   "cell_type": "code",
   "execution_count": 1,
   "id": "british-texture",
   "metadata": {
    "execution": {
     "iopub.execute_input": "2021-05-30T10:35:40.534210Z",
     "iopub.status.busy": "2021-05-30T10:35:40.533567Z",
     "iopub.status.idle": "2021-05-30T10:35:42.250879Z",
     "shell.execute_reply": "2021-05-30T10:35:42.249218Z"
    },
    "papermill": {
     "duration": 1.75969,
     "end_time": "2021-05-30T10:35:42.251192",
     "exception": false,
     "start_time": "2021-05-30T10:35:40.491502",
     "status": "completed"
    },
    "tags": []
   },
   "outputs": [
    {
     "name": "stdout",
     "output_type": "stream",
     "text": [
      "Collecting mnist\r\n"
     ]
    },
    {
     "name": "stdout",
     "output_type": "stream",
     "text": [
      "  Downloading mnist-0.2.2-py2.py3-none-any.whl (3.5 kB)\r\n",
      "Requirement already satisfied: numpy in /opt/hostedtoolcache/Python/3.6.13/x64/lib/python3.6/site-packages (from mnist) (1.19.5)\r\n"
     ]
    },
    {
     "name": "stdout",
     "output_type": "stream",
     "text": [
      "Installing collected packages: mnist\r\n"
     ]
    },
    {
     "name": "stdout",
     "output_type": "stream",
     "text": [
      "Successfully installed mnist-0.2.2\r\n"
     ]
    }
   ],
   "source": [
    "!pip install mnist "
   ]
  },
  {
   "cell_type": "markdown",
   "id": "stunning-extra",
   "metadata": {
    "papermill": {
     "duration": 0.035107,
     "end_time": "2021-05-30T10:35:42.340414",
     "exception": false,
     "start_time": "2021-05-30T10:35:42.305307",
     "status": "completed"
    },
    "tags": []
   },
   "source": [
    "#### Importing necessary libraries"
   ]
  },
  {
   "cell_type": "code",
   "execution_count": 2,
   "id": "wooden-france",
   "metadata": {
    "execution": {
     "iopub.execute_input": "2021-05-30T10:35:42.417019Z",
     "iopub.status.busy": "2021-05-30T10:35:42.416350Z",
     "iopub.status.idle": "2021-05-30T10:35:43.039541Z",
     "shell.execute_reply": "2021-05-30T10:35:43.040109Z"
    },
    "papermill": {
     "duration": 0.665768,
     "end_time": "2021-05-30T10:35:43.040285",
     "exception": false,
     "start_time": "2021-05-30T10:35:42.374517",
     "status": "completed"
    },
    "tags": []
   },
   "outputs": [],
   "source": [
    "%load_ext autoreload\n",
    "%autoreload 2\n",
    "\n",
    "%matplotlib inline\n",
    "import matplotlib.pyplot as plt\n",
    "\n",
    "import numpy as np\n",
    "import pandas as pd"
   ]
  },
  {
   "cell_type": "markdown",
   "id": "stunning-physics",
   "metadata": {
    "papermill": {
     "duration": 0.034959,
     "end_time": "2021-05-30T10:35:43.111153",
     "exception": false,
     "start_time": "2021-05-30T10:35:43.076194",
     "status": "completed"
    },
    "tags": []
   },
   "source": [
    "### Preparing the Data"
   ]
  },
  {
   "cell_type": "code",
   "execution_count": 3,
   "id": "unauthorized-remainder",
   "metadata": {
    "execution": {
     "iopub.execute_input": "2021-05-30T10:35:43.181501Z",
     "iopub.status.busy": "2021-05-30T10:35:43.180892Z",
     "iopub.status.idle": "2021-05-30T10:35:43.195180Z",
     "shell.execute_reply": "2021-05-30T10:35:43.194595Z"
    },
    "papermill": {
     "duration": 0.050525,
     "end_time": "2021-05-30T10:35:43.195312",
     "exception": false,
     "start_time": "2021-05-30T10:35:43.144787",
     "status": "completed"
    },
    "tags": []
   },
   "outputs": [],
   "source": [
    "import mnist"
   ]
  },
  {
   "cell_type": "code",
   "execution_count": 4,
   "id": "correct-antarctica",
   "metadata": {
    "execution": {
     "iopub.execute_input": "2021-05-30T10:35:43.267726Z",
     "iopub.status.busy": "2021-05-30T10:35:43.267050Z",
     "iopub.status.idle": "2021-05-30T10:40:20.957315Z",
     "shell.execute_reply": "2021-05-30T10:40:20.957847Z"
    },
    "papermill": {
     "duration": 277.726762,
     "end_time": "2021-05-30T10:40:20.958021",
     "exception": false,
     "start_time": "2021-05-30T10:35:43.231259",
     "status": "completed"
    },
    "tags": []
   },
   "outputs": [],
   "source": [
    "train_images = mnist.train_images()\n",
    "train_labels = mnist.train_labels()"
   ]
  },
  {
   "cell_type": "code",
   "execution_count": 5,
   "id": "musical-prospect",
   "metadata": {
    "execution": {
     "iopub.execute_input": "2021-05-30T10:40:21.023767Z",
     "iopub.status.busy": "2021-05-30T10:40:21.023116Z",
     "iopub.status.idle": "2021-05-30T10:40:21.038846Z",
     "shell.execute_reply": "2021-05-30T10:40:21.039436Z"
    },
    "papermill": {
     "duration": 0.050661,
     "end_time": "2021-05-30T10:40:21.039594",
     "exception": false,
     "start_time": "2021-05-30T10:40:20.988933",
     "status": "completed"
    },
    "tags": []
   },
   "outputs": [
    {
     "data": {
      "text/plain": [
       "((60000, 28, 28), (60000,))"
      ]
     },
     "execution_count": 5,
     "metadata": {},
     "output_type": "execute_result"
    }
   ],
   "source": [
    "train_images.shape, train_labels.shape"
   ]
  },
  {
   "cell_type": "code",
   "execution_count": 6,
   "id": "preliminary-elizabeth",
   "metadata": {
    "execution": {
     "iopub.execute_input": "2021-05-30T10:40:21.114489Z",
     "iopub.status.busy": "2021-05-30T10:40:21.113558Z",
     "iopub.status.idle": "2021-05-30T10:41:06.880122Z",
     "shell.execute_reply": "2021-05-30T10:41:06.879533Z"
    },
    "papermill": {
     "duration": 45.80439,
     "end_time": "2021-05-30T10:41:06.880266",
     "exception": false,
     "start_time": "2021-05-30T10:40:21.075876",
     "status": "completed"
    },
    "tags": []
   },
   "outputs": [],
   "source": [
    "test_images = mnist.test_images()\n",
    "test_labels = mnist.test_labels()"
   ]
  },
  {
   "cell_type": "code",
   "execution_count": 7,
   "id": "acknowledged-oxygen",
   "metadata": {
    "execution": {
     "iopub.execute_input": "2021-05-30T10:41:06.962521Z",
     "iopub.status.busy": "2021-05-30T10:41:06.961865Z",
     "iopub.status.idle": "2021-05-30T10:41:06.974947Z",
     "shell.execute_reply": "2021-05-30T10:41:06.975660Z"
    },
    "papermill": {
     "duration": 0.059971,
     "end_time": "2021-05-30T10:41:06.975825",
     "exception": false,
     "start_time": "2021-05-30T10:41:06.915854",
     "status": "completed"
    },
    "tags": []
   },
   "outputs": [
    {
     "data": {
      "text/plain": [
       "((10000, 28, 28), (10000,))"
      ]
     },
     "execution_count": 7,
     "metadata": {},
     "output_type": "execute_result"
    }
   ],
   "source": [
    "test_images.shape, test_labels.shape"
   ]
  },
  {
   "cell_type": "code",
   "execution_count": 8,
   "id": "innovative-organic",
   "metadata": {
    "execution": {
     "iopub.execute_input": "2021-05-30T10:41:07.050407Z",
     "iopub.status.busy": "2021-05-30T10:41:07.049766Z",
     "iopub.status.idle": "2021-05-30T10:41:07.228394Z",
     "shell.execute_reply": "2021-05-30T10:41:07.227791Z"
    },
    "papermill": {
     "duration": 0.217726,
     "end_time": "2021-05-30T10:41:07.228523",
     "exception": false,
     "start_time": "2021-05-30T10:41:07.010797",
     "status": "completed"
    },
    "tags": []
   },
   "outputs": [
    {
     "name": "stdout",
     "output_type": "stream",
     "text": [
      "2\n"
     ]
    },
    {
     "data": {
      "text/plain": [
       "<matplotlib.image.AxesImage at 0x7efd6ba105c0>"
      ]
     },
     "execution_count": 8,
     "metadata": {},
     "output_type": "execute_result"
    },
    {
     "data": {
      "image/png": "[encoded data removed]",
      "text/plain": [
       "<Figure size 432x288 with 1 Axes>"
      ]
     },
     "metadata": {
      "needs_background": "light"
     },
     "output_type": "display_data"
    }
   ],
   "source": [
    "image_index = 7776 # You may select anything up to 60,000\n",
    "print(train_labels[image_index]) \n",
    "plt.imshow(train_images[image_index], cmap='Greys')"
   ]
  },
  {
   "cell_type": "markdown",
   "id": "facial-modem",
   "metadata": {
    "papermill": {
     "duration": 0.035981,
     "end_time": "2021-05-30T10:41:07.301047",
     "exception": false,
     "start_time": "2021-05-30T10:41:07.265066",
     "status": "completed"
    },
    "tags": []
   },
   "source": [
    "## Filter data to get 3 and 8 out"
   ]
  },
  {
   "cell_type": "code",
   "execution_count": 9,
   "id": "thousand-acquisition",
   "metadata": {
    "execution": {
     "iopub.execute_input": "2021-05-30T10:41:07.385606Z",
     "iopub.status.busy": "2021-05-30T10:41:07.384939Z",
     "iopub.status.idle": "2021-05-30T10:41:07.403348Z",
     "shell.execute_reply": "2021-05-30T10:41:07.402730Z"
    },
    "papermill": {
     "duration": 0.065667,
     "end_time": "2021-05-30T10:41:07.403495",
     "exception": false,
     "start_time": "2021-05-30T10:41:07.337828",
     "status": "completed"
    },
    "tags": []
   },
   "outputs": [],
   "source": [
    "train_filter = np.where((train_labels == 3 ) | (train_labels == 8))\n",
    "test_filter = np.where((test_labels == 3) | (test_labels == 8))\n",
    "X_train, y_train = train_images[train_filter], train_labels[train_filter]\n",
    "X_test, y_test = test_images[test_filter], test_labels[test_filter]"
   ]
  },
  {
   "cell_type": "markdown",
   "id": "ruled-access",
   "metadata": {
    "papermill": {
     "duration": 0.038697,
     "end_time": "2021-05-30T10:41:07.481626",
     "exception": false,
     "start_time": "2021-05-30T10:41:07.442929",
     "status": "completed"
    },
    "tags": []
   },
   "source": [
    "We normalize the pixel values in the 0 to 1 range"
   ]
  },
  {
   "cell_type": "code",
   "execution_count": 10,
   "id": "isolated-denver",
   "metadata": {
    "execution": {
     "iopub.execute_input": "2021-05-30T10:41:07.564420Z",
     "iopub.status.busy": "2021-05-30T10:41:07.563751Z",
     "iopub.status.idle": "2021-05-30T10:41:07.626168Z",
     "shell.execute_reply": "2021-05-30T10:41:07.625605Z"
    },
    "papermill": {
     "duration": 0.107025,
     "end_time": "2021-05-30T10:41:07.626312",
     "exception": false,
     "start_time": "2021-05-30T10:41:07.519287",
     "status": "completed"
    },
    "tags": []
   },
   "outputs": [],
   "source": [
    "X_train = X_train/255.\n",
    "X_test = X_test/255."
   ]
  },
  {
   "cell_type": "markdown",
   "id": "perfect-summary",
   "metadata": {
    "papermill": {
     "duration": 0.035658,
     "end_time": "2021-05-30T10:41:07.698426",
     "exception": false,
     "start_time": "2021-05-30T10:41:07.662768",
     "status": "completed"
    },
    "tags": []
   },
   "source": [
    "Setup the labels as 1 (when the digit is 3) and 0 (when the digit is 8)"
   ]
  },
  {
   "cell_type": "code",
   "execution_count": 11,
   "id": "personalized-growing",
   "metadata": {
    "execution": {
     "iopub.execute_input": "2021-05-30T10:41:07.779201Z",
     "iopub.status.busy": "2021-05-30T10:41:07.778558Z",
     "iopub.status.idle": "2021-05-30T10:41:07.790404Z",
     "shell.execute_reply": "2021-05-30T10:41:07.790916Z"
    },
    "papermill": {
     "duration": 0.056413,
     "end_time": "2021-05-30T10:41:07.791074",
     "exception": false,
     "start_time": "2021-05-30T10:41:07.734661",
     "status": "completed"
    },
    "tags": []
   },
   "outputs": [],
   "source": [
    "y_train = 1*(y_train==3)\n",
    "y_test = 1*(y_test==3)"
   ]
  },
  {
   "cell_type": "code",
   "execution_count": 12,
   "id": "considered-virgin",
   "metadata": {
    "execution": {
     "iopub.execute_input": "2021-05-30T10:41:07.886651Z",
     "iopub.status.busy": "2021-05-30T10:41:07.886015Z",
     "iopub.status.idle": "2021-05-30T10:41:07.892225Z",
     "shell.execute_reply": "2021-05-30T10:41:07.891673Z"
    },
    "papermill": {
     "duration": 0.064038,
     "end_time": "2021-05-30T10:41:07.892353",
     "exception": false,
     "start_time": "2021-05-30T10:41:07.828315",
     "status": "completed"
    },
    "tags": []
   },
   "outputs": [
    {
     "data": {
      "text/plain": [
       "((11982, 28, 28), (1984, 28, 28))"
      ]
     },
     "execution_count": 12,
     "metadata": {},
     "output_type": "execute_result"
    }
   ],
   "source": [
    "X_train.shape, X_test.shape"
   ]
  },
  {
   "cell_type": "markdown",
   "id": "civilian-mobile",
   "metadata": {
    "papermill": {
     "duration": 0.036131,
     "end_time": "2021-05-30T10:41:07.965694",
     "exception": false,
     "start_time": "2021-05-30T10:41:07.929563",
     "status": "completed"
    },
    "tags": []
   },
   "source": [
    "### Reshape the input data to create a linear array"
   ]
  },
  {
   "cell_type": "code",
   "execution_count": 13,
   "id": "colonial-adams",
   "metadata": {
    "execution": {
     "iopub.execute_input": "2021-05-30T10:41:08.047087Z",
     "iopub.status.busy": "2021-05-30T10:41:08.046434Z",
     "iopub.status.idle": "2021-05-30T10:41:08.060249Z",
     "shell.execute_reply": "2021-05-30T10:41:08.059688Z"
    },
    "papermill": {
     "duration": 0.058686,
     "end_time": "2021-05-30T10:41:08.060386",
     "exception": false,
     "start_time": "2021-05-30T10:41:08.001700",
     "status": "completed"
    },
    "tags": []
   },
   "outputs": [
    {
     "data": {
      "text/plain": [
       "((11982, 784), (1984, 784))"
      ]
     },
     "execution_count": 13,
     "metadata": {},
     "output_type": "execute_result"
    }
   ],
   "source": [
    "X_train = X_train.reshape(X_train.shape[0], -1)\n",
    "X_test = X_test.reshape(X_test.shape[0], -1)\n",
    "X_train.shape, X_test.shape"
   ]
  },
  {
   "cell_type": "markdown",
   "id": "smart-details",
   "metadata": {
    "papermill": {
     "duration": 0.036272,
     "end_time": "2021-05-30T10:41:08.135310",
     "exception": false,
     "start_time": "2021-05-30T10:41:08.099038",
     "status": "completed"
    },
    "tags": []
   },
   "source": [
    "### Importing appropriate functions from 'Kudzu'"
   ]
  },
  {
   "cell_type": "code",
   "execution_count": 14,
   "id": "celtic-trial",
   "metadata": {
    "execution": {
     "iopub.execute_input": "2021-05-30T10:41:08.235262Z",
     "iopub.status.busy": "2021-05-30T10:41:08.227990Z",
     "iopub.status.idle": "2021-05-30T10:41:08.237534Z",
     "shell.execute_reply": "2021-05-30T10:41:08.238058Z"
    },
    "papermill": {
     "duration": 0.065829,
     "end_time": "2021-05-30T10:41:08.238216",
     "exception": false,
     "start_time": "2021-05-30T10:41:08.172387",
     "status": "completed"
    },
    "tags": []
   },
   "outputs": [],
   "source": [
    "from kudzu.layer import Sigmoid\n",
    "from kudzu.layer import Relu\n",
    "from kudzu.layer import Affine, Sigmoid\n",
    "\n",
    "from kudzu.model import Model\n",
    "from kudzu.train import Learner\n",
    "from kudzu.optim import GD\n",
    "from kudzu.data import Data, Dataloader, Sampler\n",
    "\n",
    "from kudzu.callbacks import AccCallback\n",
    "from kudzu.callbacks import ClfCallback\n",
    "\n",
    "from kudzu.loss import MSE"
   ]
  },
  {
   "cell_type": "markdown",
   "id": "coupled-customer",
   "metadata": {
    "papermill": {
     "duration": 0.036023,
     "end_time": "2021-05-30T10:41:08.312682",
     "exception": false,
     "start_time": "2021-05-30T10:41:08.276659",
     "status": "completed"
    },
    "tags": []
   },
   "source": [
    "### Let us create a `Config` class, to store important parameters. \n",
    "This class essentially plays the role of a dictionary."
   ]
  },
  {
   "cell_type": "code",
   "execution_count": 15,
   "id": "young-ceiling",
   "metadata": {
    "execution": {
     "iopub.execute_input": "2021-05-30T10:41:08.406218Z",
     "iopub.status.busy": "2021-05-30T10:41:08.402177Z",
     "iopub.status.idle": "2021-05-30T10:41:08.408226Z",
     "shell.execute_reply": "2021-05-30T10:41:08.408714Z"
    },
    "papermill": {
     "duration": 0.05646,
     "end_time": "2021-05-30T10:41:08.408862",
     "exception": false,
     "start_time": "2021-05-30T10:41:08.352402",
     "status": "completed"
    },
    "tags": []
   },
   "outputs": [],
   "source": [
    "class Config:\n",
    "    pass\n",
    "config = Config()\n",
    "config.lr = 0.001\n",
    "config.num_epochs = 251\n",
    "config.bs = 50"
   ]
  },
  {
   "cell_type": "markdown",
   "id": "according-mandate",
   "metadata": {
    "papermill": {
     "duration": 0.03503,
     "end_time": "2021-05-30T10:41:08.477486",
     "exception": false,
     "start_time": "2021-05-30T10:41:08.442456",
     "status": "completed"
    },
    "tags": []
   },
   "source": [
    "### Initializing data to the variables"
   ]
  },
  {
   "cell_type": "code",
   "execution_count": 16,
   "id": "academic-disposition",
   "metadata": {
    "execution": {
     "iopub.execute_input": "2021-05-30T10:41:08.560941Z",
     "iopub.status.busy": "2021-05-30T10:41:08.552570Z",
     "iopub.status.idle": "2021-05-30T10:41:08.563756Z",
     "shell.execute_reply": "2021-05-30T10:41:08.563213Z"
    },
    "papermill": {
     "duration": 0.053056,
     "end_time": "2021-05-30T10:41:08.563881",
     "exception": false,
     "start_time": "2021-05-30T10:41:08.510825",
     "status": "completed"
    },
    "tags": []
   },
   "outputs": [],
   "source": [
    "data = Data(X_train, y_train.reshape(-1,1))\n",
    "sampler = Sampler(data, config.bs, shuffle=True)\n",
    "\n",
    "dl = Dataloader(data, sampler)\n",
    "\n",
    "opt = GD(config.lr)\n",
    "loss = MSE()"
   ]
  },
  {
   "cell_type": "code",
   "execution_count": 17,
   "id": "featured-commission",
   "metadata": {
    "execution": {
     "iopub.execute_input": "2021-05-30T10:41:08.642682Z",
     "iopub.status.busy": "2021-05-30T10:41:08.641684Z",
     "iopub.status.idle": "2021-05-30T10:41:08.656587Z",
     "shell.execute_reply": "2021-05-30T10:41:08.656052Z"
    },
    "papermill": {
     "duration": 0.054024,
     "end_time": "2021-05-30T10:41:08.656704",
     "exception": false,
     "start_time": "2021-05-30T10:41:08.602680",
     "status": "completed"
    },
    "tags": []
   },
   "outputs": [],
   "source": [
    "training_xdata = X_train\n",
    "testing_xdata = X_test\n",
    "training_ydata = y_train.reshape(-1,1)\n",
    "testing_ydata = y_test.reshape(-1,1)"
   ]
  },
  {
   "cell_type": "markdown",
   "id": "played-safety",
   "metadata": {
    "papermill": {
     "duration": 0.036649,
     "end_time": "2021-05-30T10:41:08.730735",
     "exception": false,
     "start_time": "2021-05-30T10:41:08.694086",
     "status": "completed"
    },
    "tags": []
   },
   "source": [
    "### Running Models with the Training data\n",
    "Details about the network layers:\n",
    "- A first affine layer has 784 inputs and does 100 affine transforms. These are followed by a Relu\n",
    "- A second affine layer has 100 inputs from the 100 activations of the past layer, and does 100 affine transforms. These are followed by a Relu\n",
    "- A third affine layer has 100 activations and does 2 affine transformations to create an embedding for visualization. There is no non-linearity here.\n",
    "- A final \"logistic regression\" which has an affine transform from 2 inputs to 1 output, which is squeezed through a sigmoid.\n",
    "\n",
    "Help taken from Anshuman's Notebook."
   ]
  },
  {
   "cell_type": "code",
   "execution_count": 18,
   "id": "asian-bankruptcy",
   "metadata": {
    "execution": {
     "iopub.execute_input": "2021-05-30T10:41:08.825339Z",
     "iopub.status.busy": "2021-05-30T10:41:08.824641Z",
     "iopub.status.idle": "2021-05-30T10:41:08.839203Z",
     "shell.execute_reply": "2021-05-30T10:41:08.838646Z"
    },
    "papermill": {
     "duration": 0.0718,
     "end_time": "2021-05-30T10:41:08.839334",
     "exception": false,
     "start_time": "2021-05-30T10:41:08.767534",
     "status": "completed"
    },
    "tags": []
   },
   "outputs": [],
   "source": [
    "# layers for the Neural Network\n",
    "layers = [Affine(\"first\", 784, 100), Relu(\"first\"), Affine(\"second\", 100, 100), Relu(\"second\"), Affine(\"third\", 100, 2), Affine(\"final\", 2, 1), Sigmoid(\"final\")]\n",
    "model_nn = Model(layers)\n",
    "\n",
    "# layers for the Logistic Regression\n",
    "layers_lr = [Affine(\"logits\", 784, 1), Sigmoid(\"sigmoid\")]\n",
    "model_lr = Model(layers_lr)"
   ]
  },
  {
   "cell_type": "code",
   "execution_count": 19,
   "id": "removed-butler",
   "metadata": {
    "execution": {
     "iopub.execute_input": "2021-05-30T10:41:08.933381Z",
     "iopub.status.busy": "2021-05-30T10:41:08.931923Z",
     "iopub.status.idle": "2021-05-30T10:41:08.945593Z",
     "shell.execute_reply": "2021-05-30T10:41:08.946143Z"
    },
    "papermill": {
     "duration": 0.066323,
     "end_time": "2021-05-30T10:41:08.946293",
     "exception": false,
     "start_time": "2021-05-30T10:41:08.879970",
     "status": "completed"
    },
    "tags": []
   },
   "outputs": [],
   "source": [
    "# suffix _nn stands for Neural Network.\n",
    "learner_nn = Learner(loss, model_nn, opt, config.num_epochs)\n",
    "acc_nn = ClfCallback(learner_nn, config.bs, training_xdata , testing_xdata, training_ydata, testing_ydata)\n",
    "learner_nn.set_callbacks([acc_nn])"
   ]
  },
  {
   "cell_type": "code",
   "execution_count": 20,
   "id": "conceptual-throw",
   "metadata": {
    "execution": {
     "iopub.execute_input": "2021-05-30T10:41:09.034664Z",
     "iopub.status.busy": "2021-05-30T10:41:09.034080Z",
     "iopub.status.idle": "2021-05-30T10:43:15.246463Z",
     "shell.execute_reply": "2021-05-30T10:43:15.247242Z"
    },
    "papermill": {
     "duration": 126.266322,
     "end_time": "2021-05-30T10:43:15.247418",
     "exception": false,
     "start_time": "2021-05-30T10:41:08.981096",
     "status": "completed"
    },
    "tags": []
   },
   "outputs": [
    {
     "name": "stdout",
     "output_type": "stream",
     "text": [
      "====== Neural Network ======\n"
     ]
    },
    {
     "name": "stdout",
     "output_type": "stream",
     "text": [
      "Epoch 0, Loss 0.2423\n",
      "Training Accuracy: 0.6620, Testing Accuracy: 0.6794\n",
      "\n"
     ]
    },
    {
     "name": "stdout",
     "output_type": "stream",
     "text": [
      "Epoch 10, Loss 0.0926\n",
      "Training Accuracy: 0.9054, Testing Accuracy: 0.9163\n",
      "\n"
     ]
    },
    {
     "name": "stdout",
     "output_type": "stream",
     "text": [
      "Epoch 20, Loss 0.0576\n",
      "Training Accuracy: 0.9397, Testing Accuracy: 0.9481\n",
      "\n"
     ]
    },
    {
     "name": "stdout",
     "output_type": "stream",
     "text": [
      "Epoch 30, Loss 0.0451\n",
      "Training Accuracy: 0.9508, Testing Accuracy: 0.9597\n",
      "\n"
     ]
    },
    {
     "name": "stdout",
     "output_type": "stream",
     "text": [
      "Epoch 40, Loss 0.0389\n",
      "Training Accuracy: 0.9576, Testing Accuracy: 0.9637\n",
      "\n"
     ]
    },
    {
     "name": "stdout",
     "output_type": "stream",
     "text": [
      "Epoch 50, Loss 0.0351\n",
      "Training Accuracy: 0.9609, Testing Accuracy: 0.9657\n",
      "\n"
     ]
    },
    {
     "name": "stdout",
     "output_type": "stream",
     "text": [
      "Epoch 60, Loss 0.0324\n",
      "Training Accuracy: 0.9634, Testing Accuracy: 0.9672\n",
      "\n"
     ]
    },
    {
     "name": "stdout",
     "output_type": "stream",
     "text": [
      "Epoch 70, Loss 0.0304\n",
      "Training Accuracy: 0.9660, Testing Accuracy: 0.9682\n",
      "\n"
     ]
    },
    {
     "name": "stdout",
     "output_type": "stream",
     "text": [
      "Epoch 80, Loss 0.0288\n",
      "Training Accuracy: 0.9670, Testing Accuracy: 0.9703\n",
      "\n"
     ]
    },
    {
     "name": "stdout",
     "output_type": "stream",
     "text": [
      "Epoch 90, Loss 0.0274\n",
      "Training Accuracy: 0.9689, Testing Accuracy: 0.9703\n",
      "\n"
     ]
    },
    {
     "name": "stdout",
     "output_type": "stream",
     "text": [
      "Epoch 100, Loss 0.0263\n",
      "Training Accuracy: 0.9695, Testing Accuracy: 0.9713\n",
      "\n"
     ]
    },
    {
     "name": "stdout",
     "output_type": "stream",
     "text": [
      "Epoch 110, Loss 0.0253\n",
      "Training Accuracy: 0.9708, Testing Accuracy: 0.9718\n",
      "\n"
     ]
    },
    {
     "name": "stdout",
     "output_type": "stream",
     "text": [
      "Epoch 120, Loss 0.0244\n",
      "Training Accuracy: 0.9721, Testing Accuracy: 0.9723\n",
      "\n"
     ]
    },
    {
     "name": "stdout",
     "output_type": "stream",
     "text": [
      "Epoch 130, Loss 0.0235\n",
      "Training Accuracy: 0.9728, Testing Accuracy: 0.9723\n",
      "\n"
     ]
    },
    {
     "name": "stdout",
     "output_type": "stream",
     "text": [
      "Epoch 140, Loss 0.0228\n",
      "Training Accuracy: 0.9733, Testing Accuracy: 0.9713\n",
      "\n"
     ]
    },
    {
     "name": "stdout",
     "output_type": "stream",
     "text": [
      "Epoch 150, Loss 0.0221\n",
      "Training Accuracy: 0.9749, Testing Accuracy: 0.9728\n",
      "\n"
     ]
    },
    {
     "name": "stdout",
     "output_type": "stream",
     "text": [
      "Epoch 160, Loss 0.0215\n",
      "Training Accuracy: 0.9753, Testing Accuracy: 0.9733\n",
      "\n"
     ]
    },
    {
     "name": "stdout",
     "output_type": "stream",
     "text": [
      "Epoch 170, Loss 0.0209\n",
      "Training Accuracy: 0.9760, Testing Accuracy: 0.9733\n",
      "\n"
     ]
    },
    {
     "name": "stdout",
     "output_type": "stream",
     "text": [
      "Epoch 180, Loss 0.0203\n",
      "Training Accuracy: 0.9770, Testing Accuracy: 0.9733\n",
      "\n"
     ]
    },
    {
     "name": "stdout",
     "output_type": "stream",
     "text": [
      "Epoch 190, Loss 0.0198\n",
      "Training Accuracy: 0.9773, Testing Accuracy: 0.9738\n",
      "\n"
     ]
    },
    {
     "name": "stdout",
     "output_type": "stream",
     "text": [
      "Epoch 200, Loss 0.0192\n",
      "Training Accuracy: 0.9782, Testing Accuracy: 0.9743\n",
      "\n"
     ]
    },
    {
     "name": "stdout",
     "output_type": "stream",
     "text": [
      "Epoch 210, Loss 0.0188\n",
      "Training Accuracy: 0.9784, Testing Accuracy: 0.9743\n",
      "\n"
     ]
    },
    {
     "name": "stdout",
     "output_type": "stream",
     "text": [
      "Epoch 220, Loss 0.0183\n",
      "Training Accuracy: 0.9786, Testing Accuracy: 0.9743\n",
      "\n"
     ]
    },
    {
     "name": "stdout",
     "output_type": "stream",
     "text": [
      "Epoch 230, Loss 0.0179\n",
      "Training Accuracy: 0.9790, Testing Accuracy: 0.9743\n",
      "\n"
     ]
    },
    {
     "name": "stdout",
     "output_type": "stream",
     "text": [
      "Epoch 240, Loss 0.0174\n",
      "Training Accuracy: 0.9799, Testing Accuracy: 0.9748\n",
      "\n"
     ]
    },
    {
     "name": "stdout",
     "output_type": "stream",
     "text": [
      "Epoch 250, Loss 0.017\n",
      "Training Accuracy: 0.9805, Testing Accuracy: 0.9748\n",
      "\n"
     ]
    },
    {
     "data": {
      "text/plain": [
       "0.002060014872217514"
      ]
     },
     "execution_count": 20,
     "metadata": {},
     "output_type": "execute_result"
    }
   ],
   "source": [
    "print(\"====== Neural Network ======\")\n",
    "learner_nn.train_loop(dl)"
   ]
  },
  {
   "cell_type": "markdown",
   "id": "competent-suffering",
   "metadata": {
    "papermill": {
     "duration": 0.046338,
     "end_time": "2021-05-30T10:43:15.340745",
     "exception": false,
     "start_time": "2021-05-30T10:43:15.294407",
     "status": "completed"
    },
    "tags": []
   },
   "source": [
    "### Logistic Regression based Implementation."
   ]
  },
  {
   "cell_type": "code",
   "execution_count": 21,
   "id": "qualified-psychiatry",
   "metadata": {
    "execution": {
     "iopub.execute_input": "2021-05-30T10:43:15.435249Z",
     "iopub.status.busy": "2021-05-30T10:43:15.434571Z",
     "iopub.status.idle": "2021-05-30T10:43:15.446842Z",
     "shell.execute_reply": "2021-05-30T10:43:15.446244Z"
    },
    "papermill": {
     "duration": 0.061803,
     "end_time": "2021-05-30T10:43:15.446963",
     "exception": false,
     "start_time": "2021-05-30T10:43:15.385160",
     "status": "completed"
    },
    "tags": []
   },
   "outputs": [],
   "source": [
    "learner_lr = Learner(loss, model_lr, opt, config.num_epochs)\n",
    "acc_lr = ClfCallback(learner_lr, config.bs, training_xdata , testing_xdata, training_ydata, testing_ydata)\n",
    "learner_lr.set_callbacks([acc_lr])"
   ]
  },
  {
   "cell_type": "code",
   "execution_count": 22,
   "id": "average-outside",
   "metadata": {
    "execution": {
     "iopub.execute_input": "2021-05-30T10:43:15.553583Z",
     "iopub.status.busy": "2021-05-30T10:43:15.551901Z",
     "iopub.status.idle": "2021-05-30T10:43:33.776490Z",
     "shell.execute_reply": "2021-05-30T10:43:33.777163Z"
    },
    "papermill": {
     "duration": 18.286091,
     "end_time": "2021-05-30T10:43:33.777346",
     "exception": false,
     "start_time": "2021-05-30T10:43:15.491255",
     "status": "completed"
    },
    "tags": []
   },
   "outputs": [
    {
     "name": "stdout",
     "output_type": "stream",
     "text": [
      "====== Logistic Regression ======\n",
      "Epoch 0, Loss 0.2348\n",
      "Training Accuracy: 0.7237, Testing Accuracy: 0.7319\n",
      "\n"
     ]
    },
    {
     "name": "stdout",
     "output_type": "stream",
     "text": [
      "Epoch 10, Loss 0.0986\n",
      "Training Accuracy: 0.9180, Testing Accuracy: 0.9375\n",
      "\n"
     ]
    },
    {
     "name": "stdout",
     "output_type": "stream",
     "text": [
      "Epoch 20, Loss 0.0762\n",
      "Training Accuracy: 0.9326, Testing Accuracy: 0.9486\n",
      "\n"
     ]
    },
    {
     "name": "stdout",
     "output_type": "stream",
     "text": [
      "Epoch 30, Loss 0.0661\n",
      "Training Accuracy: 0.9392, Testing Accuracy: 0.9526\n",
      "\n"
     ]
    },
    {
     "name": "stdout",
     "output_type": "stream",
     "text": [
      "Epoch 40, Loss 0.06\n",
      "Training Accuracy: 0.9432, Testing Accuracy: 0.9556\n",
      "\n"
     ]
    },
    {
     "name": "stdout",
     "output_type": "stream",
     "text": [
      "Epoch 50, Loss 0.0558\n",
      "Training Accuracy: 0.9466, Testing Accuracy: 0.9592\n",
      "\n"
     ]
    },
    {
     "name": "stdout",
     "output_type": "stream",
     "text": [
      "Epoch 60, Loss 0.0527\n",
      "Training Accuracy: 0.9495, Testing Accuracy: 0.9592\n",
      "\n"
     ]
    },
    {
     "name": "stdout",
     "output_type": "stream",
     "text": [
      "Epoch 70, Loss 0.0504\n",
      "Training Accuracy: 0.9510, Testing Accuracy: 0.9602\n",
      "\n"
     ]
    },
    {
     "name": "stdout",
     "output_type": "stream",
     "text": [
      "Epoch 80, Loss 0.0484\n",
      "Training Accuracy: 0.9523, Testing Accuracy: 0.9622\n",
      "\n"
     ]
    },
    {
     "name": "stdout",
     "output_type": "stream",
     "text": [
      "Epoch 90, Loss 0.0469\n",
      "Training Accuracy: 0.9538, Testing Accuracy: 0.9627\n",
      "\n"
     ]
    },
    {
     "name": "stdout",
     "output_type": "stream",
     "text": [
      "Epoch 100, Loss 0.0455\n",
      "Training Accuracy: 0.9548, Testing Accuracy: 0.9627\n",
      "\n"
     ]
    },
    {
     "name": "stdout",
     "output_type": "stream",
     "text": [
      "Epoch 110, Loss 0.0444\n",
      "Training Accuracy: 0.9560, Testing Accuracy: 0.9622\n",
      "\n"
     ]
    },
    {
     "name": "stdout",
     "output_type": "stream",
     "text": [
      "Epoch 120, Loss 0.0434\n",
      "Training Accuracy: 0.9565, Testing Accuracy: 0.9622\n",
      "\n"
     ]
    },
    {
     "name": "stdout",
     "output_type": "stream",
     "text": [
      "Epoch 130, Loss 0.0425\n",
      "Training Accuracy: 0.9573, Testing Accuracy: 0.9627\n",
      "\n"
     ]
    },
    {
     "name": "stdout",
     "output_type": "stream",
     "text": [
      "Epoch 140, Loss 0.0417\n",
      "Training Accuracy: 0.9578, Testing Accuracy: 0.9632\n",
      "\n"
     ]
    },
    {
     "name": "stdout",
     "output_type": "stream",
     "text": [
      "Epoch 150, Loss 0.041\n",
      "Training Accuracy: 0.9582, Testing Accuracy: 0.9637\n",
      "\n"
     ]
    },
    {
     "name": "stdout",
     "output_type": "stream",
     "text": [
      "Epoch 160, Loss 0.0403\n",
      "Training Accuracy: 0.9587, Testing Accuracy: 0.9637\n",
      "\n"
     ]
    },
    {
     "name": "stdout",
     "output_type": "stream",
     "text": [
      "Epoch 170, Loss 0.0397\n",
      "Training Accuracy: 0.9591, Testing Accuracy: 0.9637\n",
      "\n"
     ]
    },
    {
     "name": "stdout",
     "output_type": "stream",
     "text": [
      "Epoch 180, Loss 0.0392\n",
      "Training Accuracy: 0.9594, Testing Accuracy: 0.9642\n",
      "\n"
     ]
    },
    {
     "name": "stdout",
     "output_type": "stream",
     "text": [
      "Epoch 190, Loss 0.0387\n",
      "Training Accuracy: 0.9594, Testing Accuracy: 0.9647\n",
      "\n"
     ]
    },
    {
     "name": "stdout",
     "output_type": "stream",
     "text": [
      "Epoch 200, Loss 0.0383\n",
      "Training Accuracy: 0.9594, Testing Accuracy: 0.9667\n",
      "\n"
     ]
    },
    {
     "name": "stdout",
     "output_type": "stream",
     "text": [
      "Epoch 210, Loss 0.0378\n",
      "Training Accuracy: 0.9598, Testing Accuracy: 0.9672\n",
      "\n"
     ]
    },
    {
     "name": "stdout",
     "output_type": "stream",
     "text": [
      "Epoch 220, Loss 0.0374\n",
      "Training Accuracy: 0.9607, Testing Accuracy: 0.9672\n",
      "\n"
     ]
    },
    {
     "name": "stdout",
     "output_type": "stream",
     "text": [
      "Epoch 230, Loss 0.0371\n",
      "Training Accuracy: 0.9608, Testing Accuracy: 0.9672\n",
      "\n"
     ]
    },
    {
     "name": "stdout",
     "output_type": "stream",
     "text": [
      "Epoch 240, Loss 0.0367\n",
      "Training Accuracy: 0.9609, Testing Accuracy: 0.9672\n",
      "\n"
     ]
    },
    {
     "name": "stdout",
     "output_type": "stream",
     "text": [
      "Epoch 250, Loss 0.0364\n",
      "Training Accuracy: 0.9613, Testing Accuracy: 0.9672\n",
      "\n"
     ]
    },
    {
     "data": {
      "text/plain": [
       "0.05564463377432634"
      ]
     },
     "execution_count": 22,
     "metadata": {},
     "output_type": "execute_result"
    }
   ],
   "source": [
    "print(\"====== Logistic Regression ======\")\n",
    "learner_lr.train_loop(dl)"
   ]
  },
  {
   "cell_type": "markdown",
   "id": "adjusted-possible",
   "metadata": {
    "papermill": {
     "duration": 0.052675,
     "end_time": "2021-05-30T10:43:33.884405",
     "exception": false,
     "start_time": "2021-05-30T10:43:33.831730",
     "status": "completed"
    },
    "tags": []
   },
   "source": [
    "### Comparing results of NN and LR"
   ]
  },
  {
   "cell_type": "code",
   "execution_count": 23,
   "id": "mental-multimedia",
   "metadata": {
    "execution": {
     "iopub.execute_input": "2021-05-30T10:43:34.003621Z",
     "iopub.status.busy": "2021-05-30T10:43:34.000210Z",
     "iopub.status.idle": "2021-05-30T10:43:34.262497Z",
     "shell.execute_reply": "2021-05-30T10:43:34.262978Z"
    },
    "papermill": {
     "duration": 0.324228,
     "end_time": "2021-05-30T10:43:34.263126",
     "exception": false,
     "start_time": "2021-05-30T10:43:33.938898",
     "status": "completed"
    },
    "tags": []
   },
   "outputs": [
    {
     "data": {
      "text/plain": [
       "<matplotlib.legend.Legend at 0x7efd63572080>"
      ]
     },
     "execution_count": 23,
     "metadata": {},
     "output_type": "execute_result"
    },
    {
     "data": {
      "image/png": "[encoded data removed]",
      "text/plain": [
       "<Figure size 1080x720 with 1 Axes>"
      ]
     },
     "metadata": {
      "needs_background": "light"
     },
     "output_type": "display_data"
    }
   ],
   "source": [
    "plt.figure(figsize=(15,10))\n",
    "\n",
    "# Neural Network plots\n",
    "plt.plot(acc_nn.accuracies, 'r-', label = \"Training Accuracies - NN\")\n",
    "plt.plot(acc_nn.test_accuracies, 'g-', label = \"Testing Accuracies - NN\")\n",
    "\n",
    "# Logistic Regression plots\n",
    "plt.plot(acc_lr.accuracies, 'k-', label = \"Training Accuracies - LR\")\n",
    "plt.plot(acc_lr.test_accuracies, 'b-', label = \"Testing Accuracies - LR\")\n",
    "\n",
    "plt.ylim(0.8, 1)\n",
    "\n",
    "plt.legend()\n",
    "\n"
   ]
  },
  {
   "cell_type": "markdown",
   "id": "sexual-flesh",
   "metadata": {
    "papermill": {
     "duration": 0.053681,
     "end_time": "2021-05-30T10:43:34.369515",
     "exception": false,
     "start_time": "2021-05-30T10:43:34.315834",
     "status": "completed"
    },
    "tags": []
   },
   "source": [
    "### From the plot, we can observe the following:\n",
    "- Neural Network achieves higher accuracy than the Logistic Regression model.\n",
    "- This apparently, is because of overfitting, i.e. NN captures more noise than data.\n",
    "- Testing accuracy of NN drops below the Training accuracy at higher epochs. This explains the over-fitting on training data.\n",
    "- Logistic Regression gives a reliable accuracy, without the above mentioned problem.\n"
   ]
  },
  {
   "cell_type": "markdown",
   "id": "institutional-pacific",
   "metadata": {
    "papermill": {
     "duration": 0.054057,
     "end_time": "2021-05-30T10:43:34.475126",
     "exception": false,
     "start_time": "2021-05-30T10:43:34.421069",
     "status": "completed"
    },
    "tags": []
   },
   "source": [
    "### Moving till the last but one layer (excluding it).\n",
    "#### Plotting the outputs of this layer of the NN."
   ]
  },
  {
   "cell_type": "code",
   "execution_count": 24,
   "id": "economic-server",
   "metadata": {
    "execution": {
     "iopub.execute_input": "2021-05-30T10:43:34.596638Z",
     "iopub.status.busy": "2021-05-30T10:43:34.595989Z",
     "iopub.status.idle": "2021-05-30T10:43:34.606972Z",
     "shell.execute_reply": "2021-05-30T10:43:34.607518Z"
    },
    "papermill": {
     "duration": 0.07556,
     "end_time": "2021-05-30T10:43:34.607658",
     "exception": false,
     "start_time": "2021-05-30T10:43:34.532098",
     "status": "completed"
    },
    "tags": []
   },
   "outputs": [],
   "source": [
    "model_new = Model(layers[:-2])"
   ]
  },
  {
   "cell_type": "code",
   "execution_count": 25,
   "id": "varied-upgrade",
   "metadata": {
    "execution": {
     "iopub.execute_input": "2021-05-30T10:43:34.743836Z",
     "iopub.status.busy": "2021-05-30T10:43:34.743214Z",
     "iopub.status.idle": "2021-05-30T10:43:34.765410Z",
     "shell.execute_reply": "2021-05-30T10:43:34.766060Z"
    },
    "papermill": {
     "duration": 0.084349,
     "end_time": "2021-05-30T10:43:34.766250",
     "exception": false,
     "start_time": "2021-05-30T10:43:34.681901",
     "status": "completed"
    },
    "tags": []
   },
   "outputs": [],
   "source": [
    "plot_testing = model_new(testing_xdata)"
   ]
  },
  {
   "cell_type": "code",
   "execution_count": 26,
   "id": "specific-handling",
   "metadata": {
    "execution": {
     "iopub.execute_input": "2021-05-30T10:43:34.908623Z",
     "iopub.status.busy": "2021-05-30T10:43:34.889612Z",
     "iopub.status.idle": "2021-05-30T10:43:35.087522Z",
     "shell.execute_reply": "2021-05-30T10:43:35.088301Z"
    },
    "papermill": {
     "duration": 0.267234,
     "end_time": "2021-05-30T10:43:35.088450",
     "exception": false,
     "start_time": "2021-05-30T10:43:34.821216",
     "status": "completed"
    },
    "tags": []
   },
   "outputs": [
    {
     "data": {
      "text/plain": [
       "Text(0.5, 1.0, 'Outputs')"
      ]
     },
     "execution_count": 26,
     "metadata": {},
     "output_type": "execute_result"
    },
    {
     "data": {
      "image/png": "[encoded data removed]",
      "text/plain": [
       "<Figure size 576x504 with 1 Axes>"
      ]
     },
     "metadata": {
      "needs_background": "light"
     },
     "output_type": "display_data"
    }
   ],
   "source": [
    "plt.figure(figsize=(8,7))\n",
    "plt.scatter(plot_testing[:,0], plot_testing[:,1], alpha = 0.1, c = y_test.ravel());\n",
    "plt.title('Outputs')"
   ]
  },
  {
   "cell_type": "markdown",
   "id": "described-knowing",
   "metadata": {
    "papermill": {
     "duration": 0.052681,
     "end_time": "2021-05-30T10:43:35.195788",
     "exception": false,
     "start_time": "2021-05-30T10:43:35.143107",
     "status": "completed"
    },
    "tags": []
   },
   "source": [
    "### Plotting probability contours"
   ]
  },
  {
   "cell_type": "code",
   "execution_count": 27,
   "id": "needed-growing",
   "metadata": {
    "execution": {
     "iopub.execute_input": "2021-05-30T10:43:35.308656Z",
     "iopub.status.busy": "2021-05-30T10:43:35.308075Z",
     "iopub.status.idle": "2021-05-30T10:43:35.321934Z",
     "shell.execute_reply": "2021-05-30T10:43:35.321348Z"
    },
    "papermill": {
     "duration": 0.07271,
     "end_time": "2021-05-30T10:43:35.322087",
     "exception": false,
     "start_time": "2021-05-30T10:43:35.249377",
     "status": "completed"
    },
    "tags": []
   },
   "outputs": [],
   "source": [
    "model_prob = Model(layers[-2:]) "
   ]
  },
  {
   "cell_type": "code",
   "execution_count": 28,
   "id": "introductory-enforcement",
   "metadata": {
    "execution": {
     "iopub.execute_input": "2021-05-30T10:43:35.443078Z",
     "iopub.status.busy": "2021-05-30T10:43:35.442438Z",
     "iopub.status.idle": "2021-05-30T10:43:35.461537Z",
     "shell.execute_reply": "2021-05-30T10:43:35.462368Z"
    },
    "papermill": {
     "duration": 0.082192,
     "end_time": "2021-05-30T10:43:35.462528",
     "exception": false,
     "start_time": "2021-05-30T10:43:35.380336",
     "status": "completed"
    },
    "tags": []
   },
   "outputs": [],
   "source": [
    "# Adjust the x and y ranges according to the above generated plot.\n",
    "x_range = np.linspace(-4, 1, 100) \n",
    "y_range = np.linspace(-6, 6, 100) \n",
    "x_grid, y_grid = np.meshgrid(x_range, y_range) # x_grid and y_grig are of size 100 X 100\n",
    "\n",
    "# converting x_grid and y_grid to continuous arrays\n",
    "x_grid_flat = np.ravel(x_grid)\n",
    "y_grid_flat = np.ravel(y_grid)\n",
    "\n",
    "# The last layer of the current model takes two columns as input. Hence transpose of np.vstack() is required.\n",
    "X = np.vstack((x_grid_flat, y_grid_flat)).T\n",
    "\n",
    "# x_grid and y_grid are of size 100 x 100\n",
    "probability_contour = model_prob(X).reshape(100,100) "
   ]
  },
  {
   "cell_type": "code",
   "execution_count": 29,
   "id": "understood-landing",
   "metadata": {
    "execution": {
     "iopub.execute_input": "2021-05-30T10:43:35.616454Z",
     "iopub.status.busy": "2021-05-30T10:43:35.608387Z",
     "iopub.status.idle": "2021-05-30T10:43:35.870857Z",
     "shell.execute_reply": "2021-05-30T10:43:35.870280Z"
    },
    "papermill": {
     "duration": 0.348173,
     "end_time": "2021-05-30T10:43:35.871005",
     "exception": false,
     "start_time": "2021-05-30T10:43:35.522832",
     "status": "completed"
    },
    "tags": []
   },
   "outputs": [
    {
     "data": {
      "image/png": "[encoded data removed]",
      "text/plain": [
       "<Figure size 720x648 with 1 Axes>"
      ]
     },
     "metadata": {
      "needs_background": "light"
     },
     "output_type": "display_data"
    }
   ],
   "source": [
    "plt.figure(figsize=(10,9))\n",
    "plt.scatter(plot_testing[:,0], plot_testing[:,1], alpha = 0.1, c = y_test.ravel())\n",
    "contours = plt.contour(x_grid,y_grid,probability_contour)\n",
    "plt.title('Probability Contours')\n",
    "plt.clabel(contours, inline = True );"
   ]
  }
 ],
 "metadata": {
  "kernelspec": {
   "display_name": "Python 3",
   "language": "python",
   "name": "python3"
  },
  "language_info": {
   "codemirror_mode": {
    "name": "ipython",
    "version": 3
   },
   "file_extension": ".py",
   "mimetype": "text/x-python",
   "name": "python",
   "nbconvert_exporter": "python",
   "pygments_lexer": "ipython3",
   "version": "3.6.13"
  },
  "papermill": {
   "duration": 477.09873,
   "end_time": "2021-05-30T10:43:36.339327",
   "environment_variables": {},
   "exception": null,
   "input_path": "2020-08-11-NeuralNetwork.ipynb",
   "output_path": "2020-08-11-NeuralNetwork.ipynb",
   "parameters": {},
   "start_time": "2021-05-30T10:35:39.240597",
   "version": "2.1.2"
  }
 },
 "nbformat": 4,
 "nbformat_minor": 5
}