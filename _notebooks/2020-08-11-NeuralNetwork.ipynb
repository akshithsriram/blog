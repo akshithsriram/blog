{
 "cells": [
  {
   "cell_type": "markdown",
   "id": "fitted-suggestion",
   "metadata": {
    "papermill": {
     "duration": 0.03002,
     "end_time": "2021-06-01T01:02:38.081702",
     "exception": false,
     "start_time": "2021-06-01T01:02:38.051682",
     "status": "completed"
    },
    "tags": []
   },
   "source": [
    "# \"A Basic Neural Network: Differentiate Hand-Written Digits\"\n",
    "\n",
    "- badges: true\n",
    "- author: Akshith Sriram"
   ]
  },
  {
   "cell_type": "markdown",
   "id": "signal-flexibility",
   "metadata": {
    "papermill": {
     "duration": 0.025437,
     "end_time": "2021-06-01T01:02:38.133287",
     "exception": false,
     "start_time": "2021-06-01T01:02:38.107850",
     "status": "completed"
    },
    "tags": []
   },
   "source": [
    "### Key Objectives:\n",
    "- Building a neural network that differentiates two hand-written digits 3 and 8.\n",
    "- Comparing the results of this Neural Network (NN) to that of a Logistic Regression (LR) model.\n",
    "\n",
    "### Requirements:\n",
    "- 'Kudzu' : A neural network library that was designed during our course by [Univ.AI](www.univ.ai). \n",
    "- MNIST Database\n",
    "\n",
    "If MNIST is not installed, use the command `!pip install mnist` given below.\n",
    "It can be run both from the command line and Jupyter Notebook."
   ]
  },
  {
   "cell_type": "code",
   "execution_count": 1,
   "id": "british-texture",
   "metadata": {
    "execution": {
     "iopub.execute_input": "2021-06-01T01:02:38.193115Z",
     "iopub.status.busy": "2021-06-01T01:02:38.192623Z",
     "iopub.status.idle": "2021-06-01T01:02:39.619425Z",
     "shell.execute_reply": "2021-06-01T01:02:39.619890Z"
    },
    "papermill": {
     "duration": 1.461554,
     "end_time": "2021-06-01T01:02:39.620072",
     "exception": false,
     "start_time": "2021-06-01T01:02:38.158518",
     "status": "completed"
    },
    "tags": []
   },
   "outputs": [
    {
     "name": "stdout",
     "output_type": "stream",
     "text": [
      "Collecting mnist\r\n"
     ]
    },
    {
     "name": "stdout",
     "output_type": "stream",
     "text": [
      "  Downloading mnist-0.2.2-py2.py3-none-any.whl (3.5 kB)\r\n",
      "Requirement already satisfied: numpy in /opt/hostedtoolcache/Python/3.6.13/x64/lib/python3.6/site-packages (from mnist) (1.19.5)\r\n"
     ]
    },
    {
     "name": "stdout",
     "output_type": "stream",
     "text": [
      "Installing collected packages: mnist\r\n"
     ]
    },
    {
     "name": "stdout",
     "output_type": "stream",
     "text": [
      "Successfully installed mnist-0.2.2\r\n"
     ]
    }
   ],
   "source": [
    "!pip install mnist "
   ]
  },
  {
   "cell_type": "markdown",
   "id": "stunning-extra",
   "metadata": {
    "papermill": {
     "duration": 0.02642,
     "end_time": "2021-06-01T01:02:39.674262",
     "exception": false,
     "start_time": "2021-06-01T01:02:39.647842",
     "status": "completed"
    },
    "tags": []
   },
   "source": [
    "#### Importing necessary libraries"
   ]
  },
  {
   "cell_type": "code",
   "execution_count": 2,
   "id": "wooden-france",
   "metadata": {
    "execution": {
     "iopub.execute_input": "2021-06-01T01:02:39.734947Z",
     "iopub.status.busy": "2021-06-01T01:02:39.734448Z",
     "iopub.status.idle": "2021-06-01T01:02:40.222356Z",
     "shell.execute_reply": "2021-06-01T01:02:40.222828Z"
    },
    "papermill": {
     "duration": 0.522391,
     "end_time": "2021-06-01T01:02:40.222990",
     "exception": false,
     "start_time": "2021-06-01T01:02:39.700599",
     "status": "completed"
    },
    "tags": []
   },
   "outputs": [],
   "source": [
    "%load_ext autoreload\n",
    "%autoreload 2\n",
    "\n",
    "%matplotlib inline\n",
    "import matplotlib.pyplot as plt\n",
    "\n",
    "import numpy as np\n",
    "import pandas as pd"
   ]
  },
  {
   "cell_type": "markdown",
   "id": "stunning-physics",
   "metadata": {
    "papermill": {
     "duration": 0.026896,
     "end_time": "2021-06-01T01:02:40.277190",
     "exception": false,
     "start_time": "2021-06-01T01:02:40.250294",
     "status": "completed"
    },
    "tags": []
   },
   "source": [
    "### Preparing the Data"
   ]
  },
  {
   "cell_type": "code",
   "execution_count": 3,
   "id": "unauthorized-remainder",
   "metadata": {
    "execution": {
     "iopub.execute_input": "2021-06-01T01:02:40.336208Z",
     "iopub.status.busy": "2021-06-01T01:02:40.335679Z",
     "iopub.status.idle": "2021-06-01T01:02:40.344524Z",
     "shell.execute_reply": "2021-06-01T01:02:40.344923Z"
    },
    "papermill": {
     "duration": 0.040997,
     "end_time": "2021-06-01T01:02:40.345041",
     "exception": false,
     "start_time": "2021-06-01T01:02:40.304044",
     "status": "completed"
    },
    "tags": []
   },
   "outputs": [],
   "source": [
    "import mnist"
   ]
  },
  {
   "cell_type": "code",
   "execution_count": 4,
   "id": "correct-antarctica",
   "metadata": {
    "execution": {
     "iopub.execute_input": "2021-06-01T01:02:40.404872Z",
     "iopub.status.busy": "2021-06-01T01:02:40.404375Z",
     "iopub.status.idle": "2021-06-01T01:05:43.252885Z",
     "shell.execute_reply": "2021-06-01T01:05:43.252389Z"
    },
    "papermill": {
     "duration": 182.881556,
     "end_time": "2021-06-01T01:05:43.253007",
     "exception": false,
     "start_time": "2021-06-01T01:02:40.371451",
     "status": "completed"
    },
    "tags": []
   },
   "outputs": [],
   "source": [
    "train_images = mnist.train_images()\n",
    "train_labels = mnist.train_labels()"
   ]
  },
  {
   "cell_type": "code",
   "execution_count": 5,
   "id": "musical-prospect",
   "metadata": {
    "execution": {
     "iopub.execute_input": "2021-06-01T01:05:43.314462Z",
     "iopub.status.busy": "2021-06-01T01:05:43.313962Z",
     "iopub.status.idle": "2021-06-01T01:05:43.325724Z",
     "shell.execute_reply": "2021-06-01T01:05:43.325306Z"
    },
    "papermill": {
     "duration": 0.044616,
     "end_time": "2021-06-01T01:05:43.325822",
     "exception": false,
     "start_time": "2021-06-01T01:05:43.281206",
     "status": "completed"
    },
    "tags": []
   },
   "outputs": [
    {
     "data": {
      "text/plain": [
       "((60000, 28, 28), (60000,))"
      ]
     },
     "execution_count": 5,
     "metadata": {},
     "output_type": "execute_result"
    }
   ],
   "source": [
    "train_images.shape, train_labels.shape"
   ]
  },
  {
   "cell_type": "code",
   "execution_count": 6,
   "id": "preliminary-elizabeth",
   "metadata": {
    "execution": {
     "iopub.execute_input": "2021-06-01T01:05:43.396006Z",
     "iopub.status.busy": "2021-06-01T01:05:43.395523Z",
     "iopub.status.idle": "2021-06-01T01:06:31.411992Z",
     "shell.execute_reply": "2021-06-01T01:06:31.412485Z"
    },
    "papermill": {
     "duration": 48.059942,
     "end_time": "2021-06-01T01:06:31.412627",
     "exception": false,
     "start_time": "2021-06-01T01:05:43.352685",
     "status": "completed"
    },
    "tags": []
   },
   "outputs": [],
   "source": [
    "test_images = mnist.test_images()\n",
    "test_labels = mnist.test_labels()"
   ]
  },
  {
   "cell_type": "code",
   "execution_count": 7,
   "id": "acknowledged-oxygen",
   "metadata": {
    "execution": {
     "iopub.execute_input": "2021-06-01T01:06:31.470341Z",
     "iopub.status.busy": "2021-06-01T01:06:31.469846Z",
     "iopub.status.idle": "2021-06-01T01:06:31.482287Z",
     "shell.execute_reply": "2021-06-01T01:06:31.481865Z"
    },
    "papermill": {
     "duration": 0.042518,
     "end_time": "2021-06-01T01:06:31.482390",
     "exception": false,
     "start_time": "2021-06-01T01:06:31.439872",
     "status": "completed"
    },
    "tags": []
   },
   "outputs": [
    {
     "data": {
      "text/plain": [
       "((10000, 28, 28), (10000,))"
      ]
     },
     "execution_count": 7,
     "metadata": {},
     "output_type": "execute_result"
    }
   ],
   "source": [
    "test_images.shape, test_labels.shape"
   ]
  },
  {
   "cell_type": "code",
   "execution_count": 8,
   "id": "innovative-organic",
   "metadata": {
    "execution": {
     "iopub.execute_input": "2021-06-01T01:06:31.565648Z",
     "iopub.status.busy": "2021-06-01T01:06:31.548779Z",
     "iopub.status.idle": "2021-06-01T01:06:31.674925Z",
     "shell.execute_reply": "2021-06-01T01:06:31.674443Z"
    },
    "papermill": {
     "duration": 0.165886,
     "end_time": "2021-06-01T01:06:31.675058",
     "exception": false,
     "start_time": "2021-06-01T01:06:31.509172",
     "status": "completed"
    },
    "tags": []
   },
   "outputs": [
    {
     "name": "stdout",
     "output_type": "stream",
     "text": [
      "2\n"
     ]
    },
    {
     "data": {
      "text/plain": [
       "<matplotlib.image.AxesImage at 0x7fe67d5ce780>"
      ]
     },
     "execution_count": 8,
     "metadata": {},
     "output_type": "execute_result"
    },
    {
     "data": {
      "image/png": "[encoded data removed]",
      "text/plain": [
       "<Figure size 432x288 with 1 Axes>"
      ]
     },
     "metadata": {
      "needs_background": "light"
     },
     "output_type": "display_data"
    }
   ],
   "source": [
    "image_index = 7776 # You may select anything up to 60,000\n",
    "print(train_labels[image_index]) \n",
    "plt.imshow(train_images[image_index], cmap='Greys')"
   ]
  },
  {
   "cell_type": "markdown",
   "id": "facial-modem",
   "metadata": {
    "papermill": {
     "duration": 0.028473,
     "end_time": "2021-06-01T01:06:31.732065",
     "exception": false,
     "start_time": "2021-06-01T01:06:31.703592",
     "status": "completed"
    },
    "tags": []
   },
   "source": [
    "## Filter data to get 3 and 8 out"
   ]
  },
  {
   "cell_type": "code",
   "execution_count": 9,
   "id": "thousand-acquisition",
   "metadata": {
    "execution": {
     "iopub.execute_input": "2021-06-01T01:06:31.808759Z",
     "iopub.status.busy": "2021-06-01T01:06:31.800768Z",
     "iopub.status.idle": "2021-06-01T01:06:31.813794Z",
     "shell.execute_reply": "2021-06-01T01:06:31.813374Z"
    },
    "papermill": {
     "duration": 0.053862,
     "end_time": "2021-06-01T01:06:31.813895",
     "exception": false,
     "start_time": "2021-06-01T01:06:31.760033",
     "status": "completed"
    },
    "tags": []
   },
   "outputs": [],
   "source": [
    "train_filter = np.where((train_labels == 3 ) | (train_labels == 8))\n",
    "test_filter = np.where((test_labels == 3) | (test_labels == 8))\n",
    "X_train, y_train = train_images[train_filter], train_labels[train_filter]\n",
    "X_test, y_test = test_images[test_filter], test_labels[test_filter]"
   ]
  },
  {
   "cell_type": "markdown",
   "id": "ruled-access",
   "metadata": {
    "papermill": {
     "duration": 0.027913,
     "end_time": "2021-06-01T01:06:31.869762",
     "exception": false,
     "start_time": "2021-06-01T01:06:31.841849",
     "status": "completed"
    },
    "tags": []
   },
   "source": [
    "We normalize the pixel values in the 0 to 1 range"
   ]
  },
  {
   "cell_type": "code",
   "execution_count": 10,
   "id": "isolated-denver",
   "metadata": {
    "execution": {
     "iopub.execute_input": "2021-06-01T01:06:31.929570Z",
     "iopub.status.busy": "2021-06-01T01:06:31.929087Z",
     "iopub.status.idle": "2021-06-01T01:06:31.976714Z",
     "shell.execute_reply": "2021-06-01T01:06:31.976221Z"
    },
    "papermill": {
     "duration": 0.079307,
     "end_time": "2021-06-01T01:06:31.976850",
     "exception": false,
     "start_time": "2021-06-01T01:06:31.897543",
     "status": "completed"
    },
    "tags": []
   },
   "outputs": [],
   "source": [
    "X_train = X_train/255.\n",
    "X_test = X_test/255."
   ]
  },
  {
   "cell_type": "markdown",
   "id": "perfect-summary",
   "metadata": {
    "papermill": {
     "duration": 0.028093,
     "end_time": "2021-06-01T01:06:32.033707",
     "exception": false,
     "start_time": "2021-06-01T01:06:32.005614",
     "status": "completed"
    },
    "tags": []
   },
   "source": [
    "Setup the labels as 1 (when the digit is 3) and 0 (when the digit is 8)"
   ]
  },
  {
   "cell_type": "code",
   "execution_count": 11,
   "id": "personalized-growing",
   "metadata": {
    "execution": {
     "iopub.execute_input": "2021-06-01T01:06:32.105179Z",
     "iopub.status.busy": "2021-06-01T01:06:32.099331Z",
     "iopub.status.idle": "2021-06-01T01:06:32.107295Z",
     "shell.execute_reply": "2021-06-01T01:06:32.106877Z"
    },
    "papermill": {
     "duration": 0.045775,
     "end_time": "2021-06-01T01:06:32.107393",
     "exception": false,
     "start_time": "2021-06-01T01:06:32.061618",
     "status": "completed"
    },
    "tags": []
   },
   "outputs": [],
   "source": [
    "y_train = 1*(y_train==3)\n",
    "y_test = 1*(y_test==3)"
   ]
  },
  {
   "cell_type": "code",
   "execution_count": 12,
   "id": "considered-virgin",
   "metadata": {
    "execution": {
     "iopub.execute_input": "2021-06-01T01:06:32.177277Z",
     "iopub.status.busy": "2021-06-01T01:06:32.176790Z",
     "iopub.status.idle": "2021-06-01T01:06:32.183140Z",
     "shell.execute_reply": "2021-06-01T01:06:32.182744Z"
    },
    "papermill": {
     "duration": 0.047826,
     "end_time": "2021-06-01T01:06:32.183244",
     "exception": false,
     "start_time": "2021-06-01T01:06:32.135418",
     "status": "completed"
    },
    "tags": []
   },
   "outputs": [
    {
     "data": {
      "text/plain": [
       "((11982, 28, 28), (1984, 28, 28))"
      ]
     },
     "execution_count": 12,
     "metadata": {},
     "output_type": "execute_result"
    }
   ],
   "source": [
    "X_train.shape, X_test.shape"
   ]
  },
  {
   "cell_type": "markdown",
   "id": "civilian-mobile",
   "metadata": {
    "papermill": {
     "duration": 0.028212,
     "end_time": "2021-06-01T01:06:32.239728",
     "exception": false,
     "start_time": "2021-06-01T01:06:32.211516",
     "status": "completed"
    },
    "tags": []
   },
   "source": [
    "### Reshape the input data to create a linear array"
   ]
  },
  {
   "cell_type": "code",
   "execution_count": 13,
   "id": "colonial-adams",
   "metadata": {
    "execution": {
     "iopub.execute_input": "2021-06-01T01:06:32.299617Z",
     "iopub.status.busy": "2021-06-01T01:06:32.299121Z",
     "iopub.status.idle": "2021-06-01T01:06:32.311455Z",
     "shell.execute_reply": "2021-06-01T01:06:32.311874Z"
    },
    "papermill": {
     "duration": 0.043802,
     "end_time": "2021-06-01T01:06:32.311987",
     "exception": false,
     "start_time": "2021-06-01T01:06:32.268185",
     "status": "completed"
    },
    "tags": []
   },
   "outputs": [
    {
     "data": {
      "text/plain": [
       "((11982, 784), (1984, 784))"
      ]
     },
     "execution_count": 13,
     "metadata": {},
     "output_type": "execute_result"
    }
   ],
   "source": [
    "X_train = X_train.reshape(X_train.shape[0], -1)\n",
    "X_test = X_test.reshape(X_test.shape[0], -1)\n",
    "X_train.shape, X_test.shape"
   ]
  },
  {
   "cell_type": "markdown",
   "id": "smart-details",
   "metadata": {
    "papermill": {
     "duration": 0.028315,
     "end_time": "2021-06-01T01:06:32.368736",
     "exception": false,
     "start_time": "2021-06-01T01:06:32.340421",
     "status": "completed"
    },
    "tags": []
   },
   "source": [
    "### Importing appropriate functions from 'Kudzu'"
   ]
  },
  {
   "cell_type": "code",
   "execution_count": 14,
   "id": "celtic-trial",
   "metadata": {
    "execution": {
     "iopub.execute_input": "2021-06-01T01:06:32.444957Z",
     "iopub.status.busy": "2021-06-01T01:06:32.440705Z",
     "iopub.status.idle": "2021-06-01T01:06:32.451588Z",
     "shell.execute_reply": "2021-06-01T01:06:32.451197Z"
    },
    "papermill": {
     "duration": 0.054149,
     "end_time": "2021-06-01T01:06:32.451687",
     "exception": false,
     "start_time": "2021-06-01T01:06:32.397538",
     "status": "completed"
    },
    "tags": []
   },
   "outputs": [],
   "source": [
    "from kudzu.layer import Sigmoid\n",
    "from kudzu.layer import Relu\n",
    "from kudzu.layer import Affine, Sigmoid\n",
    "\n",
    "from kudzu.model import Model\n",
    "from kudzu.train import Learner\n",
    "from kudzu.optim import GD\n",
    "from kudzu.data import Data, Dataloader, Sampler\n",
    "\n",
    "from kudzu.callbacks import AccCallback\n",
    "from kudzu.callbacks import ClfCallback\n",
    "\n",
    "from kudzu.loss import MSE"
   ]
  },
  {
   "cell_type": "markdown",
   "id": "coupled-customer",
   "metadata": {
    "papermill": {
     "duration": 0.028397,
     "end_time": "2021-06-01T01:06:32.508535",
     "exception": false,
     "start_time": "2021-06-01T01:06:32.480138",
     "status": "completed"
    },
    "tags": []
   },
   "source": [
    "### Let us create a `Config` class, to store important parameters. \n",
    "This class essentially plays the role of a dictionary."
   ]
  },
  {
   "cell_type": "code",
   "execution_count": 15,
   "id": "young-ceiling",
   "metadata": {
    "execution": {
     "iopub.execute_input": "2021-06-01T01:06:32.573210Z",
     "iopub.status.busy": "2021-06-01T01:06:32.572717Z",
     "iopub.status.idle": "2021-06-01T01:06:32.581843Z",
     "shell.execute_reply": "2021-06-01T01:06:32.581424Z"
    },
    "papermill": {
     "duration": 0.044943,
     "end_time": "2021-06-01T01:06:32.581938",
     "exception": false,
     "start_time": "2021-06-01T01:06:32.536995",
     "status": "completed"
    },
    "tags": []
   },
   "outputs": [],
   "source": [
    "class Config:\n",
    "    pass\n",
    "config = Config()\n",
    "config.lr = 0.001\n",
    "config.num_epochs = 251\n",
    "config.bs = 50"
   ]
  },
  {
   "cell_type": "markdown",
   "id": "according-mandate",
   "metadata": {
    "papermill": {
     "duration": 0.02835,
     "end_time": "2021-06-01T01:06:32.638581",
     "exception": false,
     "start_time": "2021-06-01T01:06:32.610231",
     "status": "completed"
    },
    "tags": []
   },
   "source": [
    "### Initializing data to the variables"
   ]
  },
  {
   "cell_type": "code",
   "execution_count": 16,
   "id": "academic-disposition",
   "metadata": {
    "execution": {
     "iopub.execute_input": "2021-06-01T01:06:32.712089Z",
     "iopub.status.busy": "2021-06-01T01:06:32.711597Z",
     "iopub.status.idle": "2021-06-01T01:06:32.714702Z",
     "shell.execute_reply": "2021-06-01T01:06:32.714308Z"
    },
    "papermill": {
     "duration": 0.04779,
     "end_time": "2021-06-01T01:06:32.714797",
     "exception": false,
     "start_time": "2021-06-01T01:06:32.667007",
     "status": "completed"
    },
    "tags": []
   },
   "outputs": [],
   "source": [
    "data = Data(X_train, y_train.reshape(-1,1))\n",
    "sampler = Sampler(data, config.bs, shuffle=True)\n",
    "\n",
    "dl = Dataloader(data, sampler)\n",
    "\n",
    "opt = GD(config.lr)\n",
    "loss = MSE()"
   ]
  },
  {
   "cell_type": "code",
   "execution_count": 17,
   "id": "featured-commission",
   "metadata": {
    "execution": {
     "iopub.execute_input": "2021-06-01T01:06:32.788042Z",
     "iopub.status.busy": "2021-06-01T01:06:32.787560Z",
     "iopub.status.idle": "2021-06-01T01:06:32.790981Z",
     "shell.execute_reply": "2021-06-01T01:06:32.790543Z"
    },
    "papermill": {
     "duration": 0.048043,
     "end_time": "2021-06-01T01:06:32.791074",
     "exception": false,
     "start_time": "2021-06-01T01:06:32.743031",
     "status": "completed"
    },
    "tags": []
   },
   "outputs": [],
   "source": [
    "training_xdata = X_train\n",
    "testing_xdata = X_test\n",
    "training_ydata = y_train.reshape(-1,1)\n",
    "testing_ydata = y_test.reshape(-1,1)"
   ]
  },
  {
   "cell_type": "markdown",
   "id": "played-safety",
   "metadata": {
    "papermill": {
     "duration": 0.02833,
     "end_time": "2021-06-01T01:06:32.847791",
     "exception": false,
     "start_time": "2021-06-01T01:06:32.819461",
     "status": "completed"
    },
    "tags": []
   },
   "source": [
    "### Running Models with the Training data\n",
    "Details about the network layers:\n",
    "- A first affine layer has 784 inputs and does 100 affine transforms. These are followed by a Relu\n",
    "- A second affine layer has 100 inputs from the 100 activations of the past layer, and does 100 affine transforms. These are followed by a Relu\n",
    "- A third affine layer has 100 activations and does 2 affine transformations to create an embedding for visualization. There is no non-linearity here.\n",
    "- A final \"logistic regression\" which has an affine transform from 2 inputs to 1 output, which is squeezed through a sigmoid.\n",
    "\n",
    "Help taken from Anshuman's Notebook."
   ]
  },
  {
   "cell_type": "code",
   "execution_count": 18,
   "id": "asian-bankruptcy",
   "metadata": {
    "execution": {
     "iopub.execute_input": "2021-06-01T01:06:32.916775Z",
     "iopub.status.busy": "2021-06-01T01:06:32.907658Z",
     "iopub.status.idle": "2021-06-01T01:06:32.921727Z",
     "shell.execute_reply": "2021-06-01T01:06:32.921335Z"
    },
    "papermill": {
     "duration": 0.045723,
     "end_time": "2021-06-01T01:06:32.921822",
     "exception": false,
     "start_time": "2021-06-01T01:06:32.876099",
     "status": "completed"
    },
    "tags": []
   },
   "outputs": [],
   "source": [
    "# layers for the Neural Network\n",
    "layers = [Affine(\"first\", 784, 100), Relu(\"first\"), Affine(\"second\", 100, 100), Relu(\"second\"), Affine(\"third\", 100, 2), Affine(\"final\", 2, 1), Sigmoid(\"final\")]\n",
    "model_nn = Model(layers)\n",
    "\n",
    "# layers for the Logistic Regression\n",
    "layers_lr = [Affine(\"logits\", 784, 1), Sigmoid(\"sigmoid\")]\n",
    "model_lr = Model(layers_lr)"
   ]
  },
  {
   "cell_type": "code",
   "execution_count": 19,
   "id": "removed-butler",
   "metadata": {
    "execution": {
     "iopub.execute_input": "2021-06-01T01:06:32.985177Z",
     "iopub.status.busy": "2021-06-01T01:06:32.984697Z",
     "iopub.status.idle": "2021-06-01T01:06:32.995693Z",
     "shell.execute_reply": "2021-06-01T01:06:32.995300Z"
    },
    "papermill": {
     "duration": 0.045436,
     "end_time": "2021-06-01T01:06:32.995790",
     "exception": false,
     "start_time": "2021-06-01T01:06:32.950354",
     "status": "completed"
    },
    "tags": []
   },
   "outputs": [],
   "source": [
    "# suffix _nn stands for Neural Network.\n",
    "learner_nn = Learner(loss, model_nn, opt, config.num_epochs)\n",
    "acc_nn = ClfCallback(learner_nn, config.bs, training_xdata , testing_xdata, training_ydata, testing_ydata)\n",
    "learner_nn.set_callbacks([acc_nn])"
   ]
  },
  {
   "cell_type": "code",
   "execution_count": 20,
   "id": "conceptual-throw",
   "metadata": {
    "execution": {
     "iopub.execute_input": "2021-06-01T01:06:33.068456Z",
     "iopub.status.busy": "2021-06-01T01:06:33.067918Z",
     "iopub.status.idle": "2021-06-01T01:07:51.390859Z",
     "shell.execute_reply": "2021-06-01T01:07:51.391332Z"
    },
    "papermill": {
     "duration": 78.367396,
     "end_time": "2021-06-01T01:07:51.391467",
     "exception": false,
     "start_time": "2021-06-01T01:06:33.024071",
     "status": "completed"
    },
    "tags": []
   },
   "outputs": [
    {
     "name": "stdout",
     "output_type": "stream",
     "text": [
      "====== Neural Network ======\n"
     ]
    },
    {
     "name": "stdout",
     "output_type": "stream",
     "text": [
      "Epoch 0, Loss 0.2183\n",
      "Training Accuracy: 0.8007, Testing Accuracy: 0.8019\n",
      "\n"
     ]
    },
    {
     "name": "stdout",
     "output_type": "stream",
     "text": [
      "Epoch 10, Loss 0.0674\n",
      "Training Accuracy: 0.9331, Testing Accuracy: 0.9446\n",
      "\n"
     ]
    },
    {
     "name": "stdout",
     "output_type": "stream",
     "text": [
      "Epoch 20, Loss 0.0469\n",
      "Training Accuracy: 0.9506, Testing Accuracy: 0.9602\n",
      "\n"
     ]
    },
    {
     "name": "stdout",
     "output_type": "stream",
     "text": [
      "Epoch 30, Loss 0.0388\n",
      "Training Accuracy: 0.9573, Testing Accuracy: 0.9672\n",
      "\n"
     ]
    },
    {
     "name": "stdout",
     "output_type": "stream",
     "text": [
      "Epoch 40, Loss 0.0344\n",
      "Training Accuracy: 0.9623, Testing Accuracy: 0.9682\n",
      "\n"
     ]
    },
    {
     "name": "stdout",
     "output_type": "stream",
     "text": [
      "Epoch 50, Loss 0.0315\n",
      "Training Accuracy: 0.9648, Testing Accuracy: 0.9698\n",
      "\n"
     ]
    },
    {
     "name": "stdout",
     "output_type": "stream",
     "text": [
      "Epoch 60, Loss 0.0294\n",
      "Training Accuracy: 0.9664, Testing Accuracy: 0.9708\n",
      "\n"
     ]
    },
    {
     "name": "stdout",
     "output_type": "stream",
     "text": [
      "Epoch 70, Loss 0.0279\n",
      "Training Accuracy: 0.9680, Testing Accuracy: 0.9713\n",
      "\n"
     ]
    },
    {
     "name": "stdout",
     "output_type": "stream",
     "text": [
      "Epoch 80, Loss 0.0266\n",
      "Training Accuracy: 0.9698, Testing Accuracy: 0.9713\n",
      "\n"
     ]
    },
    {
     "name": "stdout",
     "output_type": "stream",
     "text": [
      "Epoch 90, Loss 0.0256\n",
      "Training Accuracy: 0.9709, Testing Accuracy: 0.9713\n",
      "\n"
     ]
    },
    {
     "name": "stdout",
     "output_type": "stream",
     "text": [
      "Epoch 100, Loss 0.0247\n",
      "Training Accuracy: 0.9719, Testing Accuracy: 0.9718\n",
      "\n"
     ]
    },
    {
     "name": "stdout",
     "output_type": "stream",
     "text": [
      "Epoch 110, Loss 0.0239\n",
      "Training Accuracy: 0.9729, Testing Accuracy: 0.9718\n",
      "\n"
     ]
    },
    {
     "name": "stdout",
     "output_type": "stream",
     "text": [
      "Epoch 120, Loss 0.0232\n",
      "Training Accuracy: 0.9736, Testing Accuracy: 0.9723\n",
      "\n"
     ]
    },
    {
     "name": "stdout",
     "output_type": "stream",
     "text": [
      "Epoch 130, Loss 0.0225\n",
      "Training Accuracy: 0.9741, Testing Accuracy: 0.9728\n",
      "\n"
     ]
    },
    {
     "name": "stdout",
     "output_type": "stream",
     "text": [
      "Epoch 140, Loss 0.0219\n",
      "Training Accuracy: 0.9749, Testing Accuracy: 0.9733\n",
      "\n"
     ]
    },
    {
     "name": "stdout",
     "output_type": "stream",
     "text": [
      "Epoch 150, Loss 0.0213\n",
      "Training Accuracy: 0.9759, Testing Accuracy: 0.9738\n",
      "\n"
     ]
    },
    {
     "name": "stdout",
     "output_type": "stream",
     "text": [
      "Epoch 160, Loss 0.0208\n",
      "Training Accuracy: 0.9763, Testing Accuracy: 0.9743\n",
      "\n"
     ]
    },
    {
     "name": "stdout",
     "output_type": "stream",
     "text": [
      "Epoch 170, Loss 0.0203\n",
      "Training Accuracy: 0.9766, Testing Accuracy: 0.9743\n",
      "\n"
     ]
    },
    {
     "name": "stdout",
     "output_type": "stream",
     "text": [
      "Epoch 180, Loss 0.0198\n",
      "Training Accuracy: 0.9771, Testing Accuracy: 0.9743\n",
      "\n"
     ]
    },
    {
     "name": "stdout",
     "output_type": "stream",
     "text": [
      "Epoch 190, Loss 0.0194\n",
      "Training Accuracy: 0.9776, Testing Accuracy: 0.9743\n",
      "\n"
     ]
    },
    {
     "name": "stdout",
     "output_type": "stream",
     "text": [
      "Epoch 200, Loss 0.0189\n",
      "Training Accuracy: 0.9786, Testing Accuracy: 0.9743\n",
      "\n"
     ]
    },
    {
     "name": "stdout",
     "output_type": "stream",
     "text": [
      "Epoch 210, Loss 0.0185\n",
      "Training Accuracy: 0.9793, Testing Accuracy: 0.9748\n",
      "\n"
     ]
    },
    {
     "name": "stdout",
     "output_type": "stream",
     "text": [
      "Epoch 220, Loss 0.0181\n",
      "Training Accuracy: 0.9797, Testing Accuracy: 0.9743\n",
      "\n"
     ]
    },
    {
     "name": "stdout",
     "output_type": "stream",
     "text": [
      "Epoch 230, Loss 0.0177\n",
      "Training Accuracy: 0.9802, Testing Accuracy: 0.9743\n",
      "\n"
     ]
    },
    {
     "name": "stdout",
     "output_type": "stream",
     "text": [
      "Epoch 240, Loss 0.0173\n",
      "Training Accuracy: 0.9810, Testing Accuracy: 0.9743\n",
      "\n"
     ]
    },
    {
     "name": "stdout",
     "output_type": "stream",
     "text": [
      "Epoch 250, Loss 0.017\n",
      "Training Accuracy: 0.9814, Testing Accuracy: 0.9748\n",
      "\n"
     ]
    },
    {
     "data": {
      "text/plain": [
       "0.012619315652007837"
      ]
     },
     "execution_count": 20,
     "metadata": {},
     "output_type": "execute_result"
    }
   ],
   "source": [
    "print(\"====== Neural Network ======\")\n",
    "learner_nn.train_loop(dl)"
   ]
  },
  {
   "cell_type": "markdown",
   "id": "competent-suffering",
   "metadata": {
    "papermill": {
     "duration": 0.036111,
     "end_time": "2021-06-01T01:07:51.464293",
     "exception": false,
     "start_time": "2021-06-01T01:07:51.428182",
     "status": "completed"
    },
    "tags": []
   },
   "source": [
    "### Logistic Regression based Implementation."
   ]
  },
  {
   "cell_type": "code",
   "execution_count": 21,
   "id": "qualified-psychiatry",
   "metadata": {
    "execution": {
     "iopub.execute_input": "2021-06-01T01:07:51.553922Z",
     "iopub.status.busy": "2021-06-01T01:07:51.553430Z",
     "iopub.status.idle": "2021-06-01T01:07:51.556970Z",
     "shell.execute_reply": "2021-06-01T01:07:51.556554Z"
    },
    "papermill": {
     "duration": 0.057081,
     "end_time": "2021-06-01T01:07:51.557071",
     "exception": false,
     "start_time": "2021-06-01T01:07:51.499990",
     "status": "completed"
    },
    "tags": []
   },
   "outputs": [],
   "source": [
    "learner_lr = Learner(loss, model_lr, opt, config.num_epochs)\n",
    "acc_lr = ClfCallback(learner_lr, config.bs, training_xdata , testing_xdata, training_ydata, testing_ydata)\n",
    "learner_lr.set_callbacks([acc_lr])"
   ]
  },
  {
   "cell_type": "code",
   "execution_count": 22,
   "id": "average-outside",
   "metadata": {
    "execution": {
     "iopub.execute_input": "2021-06-01T01:07:51.631906Z",
     "iopub.status.busy": "2021-06-01T01:07:51.631423Z",
     "iopub.status.idle": "2021-06-01T01:08:05.344384Z",
     "shell.execute_reply": "2021-06-01T01:08:05.345026Z"
    },
    "papermill": {
     "duration": 13.752248,
     "end_time": "2021-06-01T01:08:05.345171",
     "exception": false,
     "start_time": "2021-06-01T01:07:51.592923",
     "status": "completed"
    },
    "tags": []
   },
   "outputs": [
    {
     "name": "stdout",
     "output_type": "stream",
     "text": [
      "====== Logistic Regression ======\n",
      "Epoch 0, Loss 0.2174\n",
      "Training Accuracy: 0.7858, Testing Accuracy: 0.7994\n",
      "\n"
     ]
    },
    {
     "name": "stdout",
     "output_type": "stream",
     "text": [
      "Epoch 10, Loss 0.1003\n",
      "Training Accuracy: 0.9117, Testing Accuracy: 0.9244\n",
      "\n"
     ]
    },
    {
     "name": "stdout",
     "output_type": "stream",
     "text": [
      "Epoch 20, Loss 0.0782\n",
      "Training Accuracy: 0.9288, Testing Accuracy: 0.9390\n",
      "\n"
     ]
    },
    {
     "name": "stdout",
     "output_type": "stream",
     "text": [
      "Epoch 30, Loss 0.0677\n",
      "Training Accuracy: 0.9358, Testing Accuracy: 0.9456\n",
      "\n"
     ]
    },
    {
     "name": "stdout",
     "output_type": "stream",
     "text": [
      "Epoch 40, Loss 0.0613\n",
      "Training Accuracy: 0.9417, Testing Accuracy: 0.9496\n",
      "\n"
     ]
    },
    {
     "name": "stdout",
     "output_type": "stream",
     "text": [
      "Epoch 50, Loss 0.0569\n",
      "Training Accuracy: 0.9461, Testing Accuracy: 0.9526\n",
      "\n"
     ]
    },
    {
     "name": "stdout",
     "output_type": "stream",
     "text": [
      "Epoch 60, Loss 0.0537\n",
      "Training Accuracy: 0.9476, Testing Accuracy: 0.9561\n",
      "\n"
     ]
    },
    {
     "name": "stdout",
     "output_type": "stream",
     "text": [
      "Epoch 70, Loss 0.0512\n",
      "Training Accuracy: 0.9493, Testing Accuracy: 0.9587\n",
      "\n"
     ]
    },
    {
     "name": "stdout",
     "output_type": "stream",
     "text": [
      "Epoch 80, Loss 0.0492\n",
      "Training Accuracy: 0.9509, Testing Accuracy: 0.9592\n",
      "\n"
     ]
    },
    {
     "name": "stdout",
     "output_type": "stream",
     "text": [
      "Epoch 90, Loss 0.0475\n",
      "Training Accuracy: 0.9525, Testing Accuracy: 0.9597\n",
      "\n"
     ]
    },
    {
     "name": "stdout",
     "output_type": "stream",
     "text": [
      "Epoch 100, Loss 0.0461\n",
      "Training Accuracy: 0.9538, Testing Accuracy: 0.9607\n",
      "\n"
     ]
    },
    {
     "name": "stdout",
     "output_type": "stream",
     "text": [
      "Epoch 110, Loss 0.0449\n",
      "Training Accuracy: 0.9556, Testing Accuracy: 0.9632\n",
      "\n"
     ]
    },
    {
     "name": "stdout",
     "output_type": "stream",
     "text": [
      "Epoch 120, Loss 0.0438\n",
      "Training Accuracy: 0.9564, Testing Accuracy: 0.9632\n",
      "\n"
     ]
    },
    {
     "name": "stdout",
     "output_type": "stream",
     "text": [
      "Epoch 130, Loss 0.0429\n",
      "Training Accuracy: 0.9568, Testing Accuracy: 0.9637\n",
      "\n"
     ]
    },
    {
     "name": "stdout",
     "output_type": "stream",
     "text": [
      "Epoch 140, Loss 0.042\n",
      "Training Accuracy: 0.9574, Testing Accuracy: 0.9647\n",
      "\n"
     ]
    },
    {
     "name": "stdout",
     "output_type": "stream",
     "text": [
      "Epoch 150, Loss 0.0413\n",
      "Training Accuracy: 0.9577, Testing Accuracy: 0.9647\n",
      "\n"
     ]
    },
    {
     "name": "stdout",
     "output_type": "stream",
     "text": [
      "Epoch 160, Loss 0.0406\n",
      "Training Accuracy: 0.9582, Testing Accuracy: 0.9652\n",
      "\n"
     ]
    },
    {
     "name": "stdout",
     "output_type": "stream",
     "text": [
      "Epoch 170, Loss 0.04\n",
      "Training Accuracy: 0.9585, Testing Accuracy: 0.9657\n",
      "\n"
     ]
    },
    {
     "name": "stdout",
     "output_type": "stream",
     "text": [
      "Epoch 180, Loss 0.0395\n",
      "Training Accuracy: 0.9585, Testing Accuracy: 0.9657\n",
      "\n"
     ]
    },
    {
     "name": "stdout",
     "output_type": "stream",
     "text": [
      "Epoch 190, Loss 0.0389\n",
      "Training Accuracy: 0.9585, Testing Accuracy: 0.9662\n",
      "\n"
     ]
    },
    {
     "name": "stdout",
     "output_type": "stream",
     "text": [
      "Epoch 200, Loss 0.0385\n",
      "Training Accuracy: 0.9590, Testing Accuracy: 0.9662\n",
      "\n"
     ]
    },
    {
     "name": "stdout",
     "output_type": "stream",
     "text": [
      "Epoch 210, Loss 0.038\n",
      "Training Accuracy: 0.9598, Testing Accuracy: 0.9667\n",
      "\n"
     ]
    },
    {
     "name": "stdout",
     "output_type": "stream",
     "text": [
      "Epoch 220, Loss 0.0376\n",
      "Training Accuracy: 0.9604, Testing Accuracy: 0.9662\n",
      "\n"
     ]
    },
    {
     "name": "stdout",
     "output_type": "stream",
     "text": [
      "Epoch 230, Loss 0.0372\n",
      "Training Accuracy: 0.9605, Testing Accuracy: 0.9662\n",
      "\n"
     ]
    },
    {
     "name": "stdout",
     "output_type": "stream",
     "text": [
      "Epoch 240, Loss 0.0369\n",
      "Training Accuracy: 0.9610, Testing Accuracy: 0.9662\n",
      "\n"
     ]
    },
    {
     "name": "stdout",
     "output_type": "stream",
     "text": [
      "Epoch 250, Loss 0.0365\n",
      "Training Accuracy: 0.9612, Testing Accuracy: 0.9662\n",
      "\n"
     ]
    },
    {
     "data": {
      "text/plain": [
       "0.06502408584302562"
      ]
     },
     "execution_count": 22,
     "metadata": {},
     "output_type": "execute_result"
    }
   ],
   "source": [
    "print(\"====== Logistic Regression ======\")\n",
    "learner_lr.train_loop(dl)"
   ]
  },
  {
   "cell_type": "markdown",
   "id": "adjusted-possible",
   "metadata": {
    "papermill": {
     "duration": 0.043362,
     "end_time": "2021-06-01T01:08:05.431988",
     "exception": false,
     "start_time": "2021-06-01T01:08:05.388626",
     "status": "completed"
    },
    "tags": []
   },
   "source": [
    "### Comparing results of NN and LR"
   ]
  },
  {
   "cell_type": "code",
   "execution_count": 23,
   "id": "mental-multimedia",
   "metadata": {
    "execution": {
     "iopub.execute_input": "2021-06-01T01:08:05.524082Z",
     "iopub.status.busy": "2021-06-01T01:08:05.523023Z",
     "iopub.status.idle": "2021-06-01T01:08:05.735280Z",
     "shell.execute_reply": "2021-06-01T01:08:05.734843Z"
    },
    "papermill": {
     "duration": 0.260553,
     "end_time": "2021-06-01T01:08:05.735387",
     "exception": false,
     "start_time": "2021-06-01T01:08:05.474834",
     "status": "completed"
    },
    "tags": []
   },
   "outputs": [
    {
     "data": {
      "text/plain": [
       "<matplotlib.legend.Legend at 0x7fe675130128>"
      ]
     },
     "execution_count": 23,
     "metadata": {},
     "output_type": "execute_result"
    },
    {
     "data": {
      "image/png": "[encoded data removed]",
      "text/plain": [
       "<Figure size 1080x720 with 1 Axes>"
      ]
     },
     "metadata": {
      "needs_background": "light"
     },
     "output_type": "display_data"
    }
   ],
   "source": [
    "plt.figure(figsize=(15,10))\n",
    "\n",
    "# Neural Network plots\n",
    "plt.plot(acc_nn.accuracies, 'r-', label = \"Training Accuracies - NN\")\n",
    "plt.plot(acc_nn.test_accuracies, 'g-', label = \"Testing Accuracies - NN\")\n",
    "\n",
    "# Logistic Regression plots\n",
    "plt.plot(acc_lr.accuracies, 'k-', label = \"Training Accuracies - LR\")\n",
    "plt.plot(acc_lr.test_accuracies, 'b-', label = \"Testing Accuracies - LR\")\n",
    "\n",
    "plt.ylim(0.8, 1)\n",
    "\n",
    "plt.legend()\n",
    "\n"
   ]
  },
  {
   "cell_type": "markdown",
   "id": "sexual-flesh",
   "metadata": {
    "papermill": {
     "duration": 0.044447,
     "end_time": "2021-06-01T01:08:05.824660",
     "exception": false,
     "start_time": "2021-06-01T01:08:05.780213",
     "status": "completed"
    },
    "tags": []
   },
   "source": [
    "### From the plot, we can observe the following:\n",
    "- Neural Network achieves higher accuracy than the Logistic Regression model.\n",
    "- This apparently, is because of overfitting, i.e. NN captures more noise than data.\n",
    "- Testing accuracy of NN drops below the Training accuracy at higher epochs. This explains the over-fitting on training data.\n",
    "- Logistic Regression gives a reliable accuracy, without the above mentioned problem.\n"
   ]
  },
  {
   "cell_type": "markdown",
   "id": "institutional-pacific",
   "metadata": {
    "papermill": {
     "duration": 0.044514,
     "end_time": "2021-06-01T01:08:05.913649",
     "exception": false,
     "start_time": "2021-06-01T01:08:05.869135",
     "status": "completed"
    },
    "tags": []
   },
   "source": [
    "### Moving till the last but one layer (excluding it).\n",
    "#### Plotting the outputs of this layer of the NN."
   ]
  },
  {
   "cell_type": "code",
   "execution_count": 24,
   "id": "economic-server",
   "metadata": {
    "execution": {
     "iopub.execute_input": "2021-06-01T01:08:06.021031Z",
     "iopub.status.busy": "2021-06-01T01:08:06.020321Z",
     "iopub.status.idle": "2021-06-01T01:08:06.023538Z",
     "shell.execute_reply": "2021-06-01T01:08:06.023913Z"
    },
    "papermill": {
     "duration": 0.065751,
     "end_time": "2021-06-01T01:08:06.024032",
     "exception": false,
     "start_time": "2021-06-01T01:08:05.958281",
     "status": "completed"
    },
    "tags": []
   },
   "outputs": [],
   "source": [
    "model_new = Model(layers[:-2])"
   ]
  },
  {
   "cell_type": "code",
   "execution_count": 25,
   "id": "varied-upgrade",
   "metadata": {
    "execution": {
     "iopub.execute_input": "2021-06-01T01:08:06.130610Z",
     "iopub.status.busy": "2021-06-01T01:08:06.122843Z",
     "iopub.status.idle": "2021-06-01T01:08:06.148278Z",
     "shell.execute_reply": "2021-06-01T01:08:06.148917Z"
    },
    "papermill": {
     "duration": 0.080611,
     "end_time": "2021-06-01T01:08:06.149042",
     "exception": false,
     "start_time": "2021-06-01T01:08:06.068431",
     "status": "completed"
    },
    "tags": []
   },
   "outputs": [],
   "source": [
    "plot_testing = model_new(testing_xdata)"
   ]
  },
  {
   "cell_type": "code",
   "execution_count": 26,
   "id": "specific-handling",
   "metadata": {
    "execution": {
     "iopub.execute_input": "2021-06-01T01:08:06.272282Z",
     "iopub.status.busy": "2021-06-01T01:08:06.271771Z",
     "iopub.status.idle": "2021-06-01T01:08:06.444971Z",
     "shell.execute_reply": "2021-06-01T01:08:06.444485Z"
    },
    "papermill": {
     "duration": 0.223914,
     "end_time": "2021-06-01T01:08:06.445088",
     "exception": false,
     "start_time": "2021-06-01T01:08:06.221174",
     "status": "completed"
    },
    "tags": []
   },
   "outputs": [
    {
     "data": {
      "text/plain": [
       "Text(0.5, 1.0, 'Outputs')"
      ]
     },
     "execution_count": 26,
     "metadata": {},
     "output_type": "execute_result"
    },
    {
     "data": {
      "image/png": "[encoded data removed]",
      "text/plain": [
       "<Figure size 576x504 with 1 Axes>"
      ]
     },
     "metadata": {
      "needs_background": "light"
     },
     "output_type": "display_data"
    }
   ],
   "source": [
    "plt.figure(figsize=(8,7))\n",
    "plt.scatter(plot_testing[:,0], plot_testing[:,1], alpha = 0.1, c = y_test.ravel());\n",
    "plt.title('Outputs')"
   ]
  },
  {
   "cell_type": "markdown",
   "id": "described-knowing",
   "metadata": {
    "papermill": {
     "duration": 0.046578,
     "end_time": "2021-06-01T01:08:06.545575",
     "exception": false,
     "start_time": "2021-06-01T01:08:06.498997",
     "status": "completed"
    },
    "tags": []
   },
   "source": [
    "### Plotting probability contours"
   ]
  },
  {
   "cell_type": "code",
   "execution_count": 27,
   "id": "needed-growing",
   "metadata": {
    "execution": {
     "iopub.execute_input": "2021-06-01T01:08:06.643793Z",
     "iopub.status.busy": "2021-06-01T01:08:06.643287Z",
     "iopub.status.idle": "2021-06-01T01:08:06.654160Z",
     "shell.execute_reply": "2021-06-01T01:08:06.653759Z"
    },
    "papermill": {
     "duration": 0.062192,
     "end_time": "2021-06-01T01:08:06.654263",
     "exception": false,
     "start_time": "2021-06-01T01:08:06.592071",
     "status": "completed"
    },
    "tags": []
   },
   "outputs": [],
   "source": [
    "model_prob = Model(layers[-2:]) "
   ]
  },
  {
   "cell_type": "code",
   "execution_count": 28,
   "id": "introductory-enforcement",
   "metadata": {
    "execution": {
     "iopub.execute_input": "2021-06-01T01:08:06.766249Z",
     "iopub.status.busy": "2021-06-01T01:08:06.765753Z",
     "iopub.status.idle": "2021-06-01T01:08:06.769560Z",
     "shell.execute_reply": "2021-06-01T01:08:06.769080Z"
    },
    "papermill": {
     "duration": 0.068663,
     "end_time": "2021-06-01T01:08:06.769657",
     "exception": false,
     "start_time": "2021-06-01T01:08:06.700994",
     "status": "completed"
    },
    "tags": []
   },
   "outputs": [],
   "source": [
    "# Adjust the x and y ranges according to the above generated plot.\n",
    "x_range = np.linspace(-4, 1, 100) \n",
    "y_range = np.linspace(-6, 6, 100) \n",
    "x_grid, y_grid = np.meshgrid(x_range, y_range) # x_grid and y_grig are of size 100 X 100\n",
    "\n",
    "# converting x_grid and y_grid to continuous arrays\n",
    "x_grid_flat = np.ravel(x_grid)\n",
    "y_grid_flat = np.ravel(y_grid)\n",
    "\n",
    "# The last layer of the current model takes two columns as input. Hence transpose of np.vstack() is required.\n",
    "X = np.vstack((x_grid_flat, y_grid_flat)).T\n",
    "\n",
    "# x_grid and y_grid are of size 100 x 100\n",
    "probability_contour = model_prob(X).reshape(100,100) "
   ]
  },
  {
   "cell_type": "code",
   "execution_count": 29,
   "id": "understood-landing",
   "metadata": {
    "execution": {
     "iopub.execute_input": "2021-06-01T01:08:06.872780Z",
     "iopub.status.busy": "2021-06-01T01:08:06.867287Z",
     "iopub.status.idle": "2021-06-01T01:08:07.084952Z",
     "shell.execute_reply": "2021-06-01T01:08:07.085357Z"
    },
    "papermill": {
     "duration": 0.269032,
     "end_time": "2021-06-01T01:08:07.085480",
     "exception": false,
     "start_time": "2021-06-01T01:08:06.816448",
     "status": "completed"
    },
    "tags": []
   },
   "outputs": [
    {
     "data": {
      "image/png": "[encoded data removed]",
      "text/plain": [
       "<Figure size 720x648 with 1 Axes>"
      ]
     },
     "metadata": {
      "needs_background": "light"
     },
     "output_type": "display_data"
    }
   ],
   "source": [
    "plt.figure(figsize=(10,9))\n",
    "plt.scatter(plot_testing[:,0], plot_testing[:,1], alpha = 0.1, c = y_test.ravel())\n",
    "contours = plt.contour(x_grid,y_grid,probability_contour)\n",
    "plt.title('Probability Contours')\n",
    "plt.clabel(contours, inline = True );"
   ]
  }
 ],
 "metadata": {
  "kernelspec": {
   "display_name": "Python 3",
   "language": "python",
   "name": "python3"
  },
  "language_info": {
   "codemirror_mode": {
    "name": "ipython",
    "version": 3
   },
   "file_extension": ".py",
   "mimetype": "text/x-python",
   "name": "python",
   "nbconvert_exporter": "python",
   "pygments_lexer": "ipython3",
   "version": "3.6.13"
  },
  "papermill": {
   "duration": 331.412555,
   "end_time": "2021-06-01T01:08:08.428556",
   "environment_variables": {},
   "exception": null,
   "input_path": "2020-08-11-NeuralNetwork.ipynb",
   "output_path": "2020-08-11-NeuralNetwork.ipynb",
   "parameters": {},
   "start_time": "2021-06-01T01:02:37.016001",
   "version": "2.1.2"
  }
 },
 "nbformat": 4,
 "nbformat_minor": 5
}