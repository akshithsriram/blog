{
 "cells": [
  {
   "cell_type": "markdown",
   "metadata": {
    "papermill": {
     "duration": 0.04344,
     "end_time": "2020-09-18T20:04:24.403134",
     "exception": false,
     "start_time": "2020-09-18T20:04:24.359694",
     "status": "completed"
    },
    "tags": []
   },
   "source": [
    "# \"A Basic Neural Network: Differentiate Hand-Written Digits\"\n",
    "\n",
    "- badges: true\n",
    "- author: Akshith Sriram"
   ]
  },
  {
   "cell_type": "markdown",
   "metadata": {
    "papermill": {
     "duration": 0.134443,
     "end_time": "2020-09-18T20:04:24.587091",
     "exception": false,
     "start_time": "2020-09-18T20:04:24.452648",
     "status": "completed"
    },
    "tags": []
   },
   "source": [
    "### Key Objectives:\n",
    "- Building a neural network that differentiates two hand-written digits 3 and 8.\n",
    "- Comparing the results of this Neural Network (NN) to that of a Logistic Regression (LR) model.\n",
    "\n",
    "### Requirements:\n",
    "- 'Kudzu' : A neural network library that was designed during our course by [Univ.AI](www.univ.ai). \n",
    "- MNIST Database\n",
    "\n",
    "If MNIST is not installed, use the command `!pip install mnist` given below.\n",
    "It can be run both from the command line and Jupyter Notebook."
   ]
  },
  {
   "cell_type": "code",
   "execution_count": 1,
   "metadata": {
    "execution": {
     "iopub.execute_input": "2020-09-18T20:04:24.644176Z",
     "iopub.status.busy": "2020-09-18T20:04:24.643552Z",
     "iopub.status.idle": "2020-09-18T20:04:26.118076Z",
     "shell.execute_reply": "2020-09-18T20:04:26.118571Z"
    },
    "papermill": {
     "duration": 1.504953,
     "end_time": "2020-09-18T20:04:26.118796",
     "exception": false,
     "start_time": "2020-09-18T20:04:24.613843",
     "status": "completed"
    },
    "tags": []
   },
   "outputs": [
    {
     "name": "stdout",
     "output_type": "stream",
     "text": [
      "Collecting mnist\r\n"
     ]
    },
    {
     "name": "stdout",
     "output_type": "stream",
     "text": [
      "  Downloading mnist-0.2.2-py2.py3-none-any.whl (3.5 kB)\r\n"
     ]
    },
    {
     "name": "stdout",
     "output_type": "stream",
     "text": [
      "Requirement already satisfied: numpy in /opt/hostedtoolcache/Python/3.6.12/x64/lib/python3.6/site-packages (from mnist) (1.19.2)\r\n"
     ]
    },
    {
     "name": "stdout",
     "output_type": "stream",
     "text": [
      "Installing collected packages: mnist\r\n"
     ]
    },
    {
     "name": "stdout",
     "output_type": "stream",
     "text": [
      "Successfully installed mnist-0.2.2\r\n"
     ]
    }
   ],
   "source": [
    "!pip install mnist "
   ]
  },
  {
   "cell_type": "markdown",
   "metadata": {
    "papermill": {
     "duration": 0.028017,
     "end_time": "2020-09-18T20:04:26.174394",
     "exception": false,
     "start_time": "2020-09-18T20:04:26.146377",
     "status": "completed"
    },
    "tags": []
   },
   "source": [
    "#### Importing necessary libraries"
   ]
  },
  {
   "cell_type": "code",
   "execution_count": 2,
   "metadata": {
    "execution": {
     "iopub.execute_input": "2020-09-18T20:04:26.240785Z",
     "iopub.status.busy": "2020-09-18T20:04:26.238236Z",
     "iopub.status.idle": "2020-09-18T20:04:26.840751Z",
     "shell.execute_reply": "2020-09-18T20:04:26.839941Z"
    },
    "papermill": {
     "duration": 0.638089,
     "end_time": "2020-09-18T20:04:26.840918",
     "exception": false,
     "start_time": "2020-09-18T20:04:26.202829",
     "status": "completed"
    },
    "tags": []
   },
   "outputs": [],
   "source": [
    "%load_ext autoreload\n",
    "%autoreload 2\n",
    "\n",
    "%matplotlib inline\n",
    "import matplotlib.pyplot as plt\n",
    "\n",
    "import numpy as np\n",
    "import pandas as pd"
   ]
  },
  {
   "cell_type": "markdown",
   "metadata": {
    "papermill": {
     "duration": 0.027607,
     "end_time": "2020-09-18T20:04:26.897583",
     "exception": false,
     "start_time": "2020-09-18T20:04:26.869976",
     "status": "completed"
    },
    "tags": []
   },
   "source": [
    "### Preparing the Data"
   ]
  },
  {
   "cell_type": "code",
   "execution_count": 3,
   "metadata": {
    "execution": {
     "iopub.execute_input": "2020-09-18T20:04:26.956132Z",
     "iopub.status.busy": "2020-09-18T20:04:26.955541Z",
     "iopub.status.idle": "2020-09-18T20:04:26.968584Z",
     "shell.execute_reply": "2020-09-18T20:04:26.968055Z"
    },
    "papermill": {
     "duration": 0.044364,
     "end_time": "2020-09-18T20:04:26.968719",
     "exception": false,
     "start_time": "2020-09-18T20:04:26.924355",
     "status": "completed"
    },
    "tags": []
   },
   "outputs": [],
   "source": [
    "import mnist"
   ]
  },
  {
   "cell_type": "code",
   "execution_count": 4,
   "metadata": {
    "execution": {
     "iopub.execute_input": "2020-09-18T20:04:27.027625Z",
     "iopub.status.busy": "2020-09-18T20:04:27.027030Z",
     "iopub.status.idle": "2020-09-18T20:04:27.792132Z",
     "shell.execute_reply": "2020-09-18T20:04:27.792996Z"
    },
    "papermill": {
     "duration": 0.796659,
     "end_time": "2020-09-18T20:04:27.793247",
     "exception": false,
     "start_time": "2020-09-18T20:04:26.996588",
     "status": "completed"
    },
    "tags": []
   },
   "outputs": [],
   "source": [
    "train_images = mnist.train_images()\n",
    "train_labels = mnist.train_labels()"
   ]
  },
  {
   "cell_type": "code",
   "execution_count": 5,
   "metadata": {
    "execution": {
     "iopub.execute_input": "2020-09-18T20:04:27.865686Z",
     "iopub.status.busy": "2020-09-18T20:04:27.855756Z",
     "iopub.status.idle": "2020-09-18T20:04:27.869096Z",
     "shell.execute_reply": "2020-09-18T20:04:27.868585Z"
    },
    "papermill": {
     "duration": 0.04909,
     "end_time": "2020-09-18T20:04:27.869235",
     "exception": false,
     "start_time": "2020-09-18T20:04:27.820145",
     "status": "completed"
    },
    "tags": []
   },
   "outputs": [
    {
     "data": {
      "text/plain": [
       "((60000, 28, 28), (60000,))"
      ]
     },
     "execution_count": 5,
     "metadata": {},
     "output_type": "execute_result"
    }
   ],
   "source": [
    "train_images.shape, train_labels.shape"
   ]
  },
  {
   "cell_type": "code",
   "execution_count": 6,
   "metadata": {
    "execution": {
     "iopub.execute_input": "2020-09-18T20:04:27.927801Z",
     "iopub.status.busy": "2020-09-18T20:04:27.927206Z",
     "iopub.status.idle": "2020-09-18T20:04:28.247987Z",
     "shell.execute_reply": "2020-09-18T20:04:28.248480Z"
    },
    "papermill": {
     "duration": 0.352451,
     "end_time": "2020-09-18T20:04:28.248651",
     "exception": false,
     "start_time": "2020-09-18T20:04:27.896200",
     "status": "completed"
    },
    "tags": []
   },
   "outputs": [],
   "source": [
    "test_images = mnist.test_images()\n",
    "test_labels = mnist.test_labels()"
   ]
  },
  {
   "cell_type": "code",
   "execution_count": 7,
   "metadata": {
    "execution": {
     "iopub.execute_input": "2020-09-18T20:04:28.309763Z",
     "iopub.status.busy": "2020-09-18T20:04:28.309179Z",
     "iopub.status.idle": "2020-09-18T20:04:28.325622Z",
     "shell.execute_reply": "2020-09-18T20:04:28.324944Z"
    },
    "papermill": {
     "duration": 0.048776,
     "end_time": "2020-09-18T20:04:28.325901",
     "exception": false,
     "start_time": "2020-09-18T20:04:28.277125",
     "status": "completed"
    },
    "tags": []
   },
   "outputs": [
    {
     "data": {
      "text/plain": [
       "((10000, 28, 28), (10000,))"
      ]
     },
     "execution_count": 7,
     "metadata": {},
     "output_type": "execute_result"
    }
   ],
   "source": [
    "test_images.shape, test_labels.shape"
   ]
  },
  {
   "cell_type": "code",
   "execution_count": 8,
   "metadata": {
    "execution": {
     "iopub.execute_input": "2020-09-18T20:04:28.389972Z",
     "iopub.status.busy": "2020-09-18T20:04:28.389220Z",
     "iopub.status.idle": "2020-09-18T20:04:28.540273Z",
     "shell.execute_reply": "2020-09-18T20:04:28.540753Z"
    },
    "papermill": {
     "duration": 0.185512,
     "end_time": "2020-09-18T20:04:28.540961",
     "exception": false,
     "start_time": "2020-09-18T20:04:28.355449",
     "status": "completed"
    },
    "tags": []
   },
   "outputs": [
    {
     "name": "stdout",
     "output_type": "stream",
     "text": [
      "2\n"
     ]
    },
    {
     "data": {
      "text/plain": [
       "<matplotlib.image.AxesImage at 0x7f00e840a7b8>"
      ]
     },
     "execution_count": 8,
     "metadata": {},
     "output_type": "execute_result"
    },
    {
     "data": {
      "image/png": "[encoded data removed]",
      "text/plain": [
       "<Figure size 432x288 with 1 Axes>"
      ]
     },
     "metadata": {
      "needs_background": "light"
     },
     "output_type": "display_data"
    }
   ],
   "source": [
    "image_index = 7776 # You may select anything up to 60,000\n",
    "print(train_labels[image_index]) \n",
    "plt.imshow(train_images[image_index], cmap='Greys')"
   ]
  },
  {
   "cell_type": "markdown",
   "metadata": {
    "papermill": {
     "duration": 0.033209,
     "end_time": "2020-09-18T20:04:28.605844",
     "exception": false,
     "start_time": "2020-09-18T20:04:28.572635",
     "status": "completed"
    },
    "tags": []
   },
   "source": [
    "## Filter data to get 3 and 8 out"
   ]
  },
  {
   "cell_type": "code",
   "execution_count": 9,
   "metadata": {
    "execution": {
     "iopub.execute_input": "2020-09-18T20:04:28.673994Z",
     "iopub.status.busy": "2020-09-18T20:04:28.673376Z",
     "iopub.status.idle": "2020-09-18T20:04:28.695861Z",
     "shell.execute_reply": "2020-09-18T20:04:28.695322Z"
    },
    "papermill": {
     "duration": 0.059337,
     "end_time": "2020-09-18T20:04:28.696005",
     "exception": false,
     "start_time": "2020-09-18T20:04:28.636668",
     "status": "completed"
    },
    "tags": []
   },
   "outputs": [],
   "source": [
    "train_filter = np.where((train_labels == 3 ) | (train_labels == 8))\n",
    "test_filter = np.where((test_labels == 3) | (test_labels == 8))\n",
    "X_train, y_train = train_images[train_filter], train_labels[train_filter]\n",
    "X_test, y_test = test_images[test_filter], test_labels[test_filter]"
   ]
  },
  {
   "cell_type": "markdown",
   "metadata": {
    "papermill": {
     "duration": 0.028992,
     "end_time": "2020-09-18T20:04:28.754346",
     "exception": false,
     "start_time": "2020-09-18T20:04:28.725354",
     "status": "completed"
    },
    "tags": []
   },
   "source": [
    "We normalize the pixel values in the 0 to 1 range"
   ]
  },
  {
   "cell_type": "code",
   "execution_count": 10,
   "metadata": {
    "execution": {
     "iopub.execute_input": "2020-09-18T20:04:28.827643Z",
     "iopub.status.busy": "2020-09-18T20:04:28.827046Z",
     "iopub.status.idle": "2020-09-18T20:04:28.879500Z",
     "shell.execute_reply": "2020-09-18T20:04:28.878571Z"
    },
    "papermill": {
     "duration": 0.08946,
     "end_time": "2020-09-18T20:04:28.879732",
     "exception": false,
     "start_time": "2020-09-18T20:04:28.790272",
     "status": "completed"
    },
    "tags": []
   },
   "outputs": [],
   "source": [
    "X_train = X_train/255.\n",
    "X_test = X_test/255."
   ]
  },
  {
   "cell_type": "markdown",
   "metadata": {
    "papermill": {
     "duration": 0.02929,
     "end_time": "2020-09-18T20:04:28.939584",
     "exception": false,
     "start_time": "2020-09-18T20:04:28.910294",
     "status": "completed"
    },
    "tags": []
   },
   "source": [
    "Setup the labels as 1 (when the digit is 3) and 0 (when the digit is 8)"
   ]
  },
  {
   "cell_type": "code",
   "execution_count": 11,
   "metadata": {
    "execution": {
     "iopub.execute_input": "2020-09-18T20:04:29.003538Z",
     "iopub.status.busy": "2020-09-18T20:04:29.002945Z",
     "iopub.status.idle": "2020-09-18T20:04:29.015451Z",
     "shell.execute_reply": "2020-09-18T20:04:29.014952Z"
    },
    "papermill": {
     "duration": 0.047461,
     "end_time": "2020-09-18T20:04:29.015587",
     "exception": false,
     "start_time": "2020-09-18T20:04:28.968126",
     "status": "completed"
    },
    "tags": []
   },
   "outputs": [],
   "source": [
    "y_train = 1*(y_train==3)\n",
    "y_test = 1*(y_test==3)"
   ]
  },
  {
   "cell_type": "code",
   "execution_count": 12,
   "metadata": {
    "execution": {
     "iopub.execute_input": "2020-09-18T20:04:29.078675Z",
     "iopub.status.busy": "2020-09-18T20:04:29.078094Z",
     "iopub.status.idle": "2020-09-18T20:04:29.092915Z",
     "shell.execute_reply": "2020-09-18T20:04:29.093453Z"
    },
    "papermill": {
     "duration": 0.048976,
     "end_time": "2020-09-18T20:04:29.093615",
     "exception": false,
     "start_time": "2020-09-18T20:04:29.044639",
     "status": "completed"
    },
    "tags": []
   },
   "outputs": [
    {
     "data": {
      "text/plain": [
       "((11982, 28, 28), (1984, 28, 28))"
      ]
     },
     "execution_count": 12,
     "metadata": {},
     "output_type": "execute_result"
    }
   ],
   "source": [
    "X_train.shape, X_test.shape"
   ]
  },
  {
   "cell_type": "markdown",
   "metadata": {
    "papermill": {
     "duration": 0.029556,
     "end_time": "2020-09-18T20:04:29.152183",
     "exception": false,
     "start_time": "2020-09-18T20:04:29.122627",
     "status": "completed"
    },
    "tags": []
   },
   "source": [
    "### Reshape the input data to create a linear array"
   ]
  },
  {
   "cell_type": "code",
   "execution_count": 13,
   "metadata": {
    "execution": {
     "iopub.execute_input": "2020-09-18T20:04:29.230474Z",
     "iopub.status.busy": "2020-09-18T20:04:29.220588Z",
     "iopub.status.idle": "2020-09-18T20:04:29.233911Z",
     "shell.execute_reply": "2020-09-18T20:04:29.233434Z"
    },
    "papermill": {
     "duration": 0.052044,
     "end_time": "2020-09-18T20:04:29.234056",
     "exception": false,
     "start_time": "2020-09-18T20:04:29.182012",
     "status": "completed"
    },
    "tags": []
   },
   "outputs": [
    {
     "data": {
      "text/plain": [
       "((11982, 784), (1984, 784))"
      ]
     },
     "execution_count": 13,
     "metadata": {},
     "output_type": "execute_result"
    }
   ],
   "source": [
    "X_train = X_train.reshape(X_train.shape[0], -1)\n",
    "X_test = X_test.reshape(X_test.shape[0], -1)\n",
    "X_train.shape, X_test.shape"
   ]
  },
  {
   "cell_type": "markdown",
   "metadata": {
    "papermill": {
     "duration": 0.030149,
     "end_time": "2020-09-18T20:04:29.293737",
     "exception": false,
     "start_time": "2020-09-18T20:04:29.263588",
     "status": "completed"
    },
    "tags": []
   },
   "source": [
    "### Importing appropriate functions from 'Kudzu'"
   ]
  },
  {
   "cell_type": "code",
   "execution_count": 14,
   "metadata": {
    "execution": {
     "iopub.execute_input": "2020-09-18T20:04:29.359260Z",
     "iopub.status.busy": "2020-09-18T20:04:29.358624Z",
     "iopub.status.idle": "2020-09-18T20:04:29.381675Z",
     "shell.execute_reply": "2020-09-18T20:04:29.381081Z"
    },
    "papermill": {
     "duration": 0.057182,
     "end_time": "2020-09-18T20:04:29.381828",
     "exception": false,
     "start_time": "2020-09-18T20:04:29.324646",
     "status": "completed"
    },
    "tags": []
   },
   "outputs": [],
   "source": [
    "from kudzu.layer import Sigmoid\n",
    "from kudzu.layer import Relu\n",
    "from kudzu.layer import Affine, Sigmoid\n",
    "\n",
    "from kudzu.model import Model\n",
    "from kudzu.train import Learner\n",
    "from kudzu.optim import GD\n",
    "from kudzu.data import Data, Dataloader, Sampler\n",
    "\n",
    "from kudzu.callbacks import AccCallback\n",
    "from kudzu.callbacks import ClfCallback\n",
    "\n",
    "from kudzu.loss import MSE"
   ]
  },
  {
   "cell_type": "markdown",
   "metadata": {
    "papermill": {
     "duration": 0.032295,
     "end_time": "2020-09-18T20:04:29.450425",
     "exception": false,
     "start_time": "2020-09-18T20:04:29.418130",
     "status": "completed"
    },
    "tags": []
   },
   "source": [
    "### Let us create a `Config` class, to store important parameters. \n",
    "This class essentially plays the role of a dictionary."
   ]
  },
  {
   "cell_type": "code",
   "execution_count": 15,
   "metadata": {
    "execution": {
     "iopub.execute_input": "2020-09-18T20:04:29.591299Z",
     "iopub.status.busy": "2020-09-18T20:04:29.590638Z",
     "iopub.status.idle": "2020-09-18T20:04:29.604518Z",
     "shell.execute_reply": "2020-09-18T20:04:29.604993Z"
    },
    "papermill": {
     "duration": 0.121865,
     "end_time": "2020-09-18T20:04:29.605160",
     "exception": false,
     "start_time": "2020-09-18T20:04:29.483295",
     "status": "completed"
    },
    "tags": []
   },
   "outputs": [],
   "source": [
    "class Config:\n",
    "    pass\n",
    "config = Config()\n",
    "config.lr = 0.001\n",
    "config.num_epochs = 251\n",
    "config.bs = 50"
   ]
  },
  {
   "cell_type": "markdown",
   "metadata": {
    "papermill": {
     "duration": 0.251595,
     "end_time": "2020-09-18T20:04:30.245342",
     "exception": false,
     "start_time": "2020-09-18T20:04:29.993747",
     "status": "completed"
    },
    "tags": []
   },
   "source": [
    "### Initializing data to the variables"
   ]
  },
  {
   "cell_type": "code",
   "execution_count": 16,
   "metadata": {
    "execution": {
     "iopub.execute_input": "2020-09-18T20:04:30.312887Z",
     "iopub.status.busy": "2020-09-18T20:04:30.312281Z",
     "iopub.status.idle": "2020-09-18T20:04:30.325900Z",
     "shell.execute_reply": "2020-09-18T20:04:30.326404Z"
    },
    "papermill": {
     "duration": 0.04961,
     "end_time": "2020-09-18T20:04:30.326558",
     "exception": false,
     "start_time": "2020-09-18T20:04:30.276948",
     "status": "completed"
    },
    "tags": []
   },
   "outputs": [],
   "source": [
    "data = Data(X_train, y_train.reshape(-1,1))\n",
    "sampler = Sampler(data, config.bs, shuffle=True)\n",
    "\n",
    "dl = Dataloader(data, sampler)\n",
    "\n",
    "opt = GD(config.lr)\n",
    "loss = MSE()"
   ]
  },
  {
   "cell_type": "code",
   "execution_count": 17,
   "metadata": {
    "execution": {
     "iopub.execute_input": "2020-09-18T20:04:30.401609Z",
     "iopub.status.busy": "2020-09-18T20:04:30.394209Z",
     "iopub.status.idle": "2020-09-18T20:04:30.404969Z",
     "shell.execute_reply": "2020-09-18T20:04:30.405520Z"
    },
    "papermill": {
     "duration": 0.050506,
     "end_time": "2020-09-18T20:04:30.405668",
     "exception": false,
     "start_time": "2020-09-18T20:04:30.355162",
     "status": "completed"
    },
    "tags": []
   },
   "outputs": [],
   "source": [
    "training_xdata = X_train\n",
    "testing_xdata = X_test\n",
    "training_ydata = y_train.reshape(-1,1)\n",
    "testing_ydata = y_test.reshape(-1,1)"
   ]
  },
  {
   "cell_type": "markdown",
   "metadata": {
    "papermill": {
     "duration": 0.028702,
     "end_time": "2020-09-18T20:04:30.463118",
     "exception": false,
     "start_time": "2020-09-18T20:04:30.434416",
     "status": "completed"
    },
    "tags": []
   },
   "source": [
    "### Running Models with the Training data\n",
    "Details about the network layers:\n",
    "- A first affine layer has 784 inputs and does 100 affine transforms. These are followed by a Relu\n",
    "- A second affine layer has 100 inputs from the 100 activations of the past layer, and does 100 affine transforms. These are followed by a Relu\n",
    "- A third affine layer has 100 activations and does 2 affine transformations to create an embedding for visualization. There is no non-linearity here.\n",
    "- A final \"logistic regression\" which has an affine transform from 2 inputs to 1 output, which is squeezed through a sigmoid.\n",
    "\n",
    "Help taken from Anshuman's Notebook."
   ]
  },
  {
   "cell_type": "code",
   "execution_count": 18,
   "metadata": {
    "execution": {
     "iopub.execute_input": "2020-09-18T20:04:30.527475Z",
     "iopub.status.busy": "2020-09-18T20:04:30.526863Z",
     "iopub.status.idle": "2020-09-18T20:04:30.544845Z",
     "shell.execute_reply": "2020-09-18T20:04:30.545324Z"
    },
    "papermill": {
     "duration": 0.053674,
     "end_time": "2020-09-18T20:04:30.545483",
     "exception": false,
     "start_time": "2020-09-18T20:04:30.491809",
     "status": "completed"
    },
    "tags": []
   },
   "outputs": [],
   "source": [
    "# layers for the Neural Network\n",
    "layers = [Affine(\"first\", 784, 100), Relu(\"first\"), Affine(\"second\", 100, 100), Relu(\"second\"), Affine(\"third\", 100, 2), Affine(\"final\", 2, 1), Sigmoid(\"final\")]\n",
    "model_nn = Model(layers)\n",
    "\n",
    "# layers for the Logistic Regression\n",
    "layers_lr = [Affine(\"logits\", 784, 1), Sigmoid(\"sigmoid\")]\n",
    "model_lr = Model(layers_lr)"
   ]
  },
  {
   "cell_type": "code",
   "execution_count": 19,
   "metadata": {
    "execution": {
     "iopub.execute_input": "2020-09-18T20:04:30.608484Z",
     "iopub.status.busy": "2020-09-18T20:04:30.607888Z",
     "iopub.status.idle": "2020-09-18T20:04:30.621251Z",
     "shell.execute_reply": "2020-09-18T20:04:30.620749Z"
    },
    "papermill": {
     "duration": 0.046906,
     "end_time": "2020-09-18T20:04:30.621381",
     "exception": false,
     "start_time": "2020-09-18T20:04:30.574475",
     "status": "completed"
    },
    "tags": []
   },
   "outputs": [],
   "source": [
    "# suffix _nn stands for Neural Network.\n",
    "learner_nn = Learner(loss, model_nn, opt, config.num_epochs)\n",
    "acc_nn = ClfCallback(learner_nn, config.bs, training_xdata , testing_xdata, training_ydata, testing_ydata)\n",
    "learner_nn.set_callbacks([acc_nn])"
   ]
  },
  {
   "cell_type": "code",
   "execution_count": 20,
   "metadata": {
    "execution": {
     "iopub.execute_input": "2020-09-18T20:04:30.697557Z",
     "iopub.status.busy": "2020-09-18T20:04:30.689091Z",
     "iopub.status.idle": "2020-09-18T20:06:02.594087Z",
     "shell.execute_reply": "2020-09-18T20:06:02.593605Z"
    },
    "papermill": {
     "duration": 91.943804,
     "end_time": "2020-09-18T20:06:02.594226",
     "exception": false,
     "start_time": "2020-09-18T20:04:30.650422",
     "status": "completed"
    },
    "tags": []
   },
   "outputs": [
    {
     "name": "stdout",
     "output_type": "stream",
     "text": [
      "====== Neural Network ======\n"
     ]
    },
    {
     "name": "stdout",
     "output_type": "stream",
     "text": [
      "Epoch 0, Loss 0.2226\n",
      "Training Accuracy: 0.7886, Testing Accuracy: 0.8085\n",
      "\n"
     ]
    },
    {
     "name": "stdout",
     "output_type": "stream",
     "text": [
      "Epoch 10, Loss 0.0919\n",
      "Training Accuracy: 0.9149, Testing Accuracy: 0.9204\n",
      "\n"
     ]
    },
    {
     "name": "stdout",
     "output_type": "stream",
     "text": [
      "Epoch 20, Loss 0.0565\n",
      "Training Accuracy: 0.9437, Testing Accuracy: 0.9466\n",
      "\n"
     ]
    },
    {
     "name": "stdout",
     "output_type": "stream",
     "text": [
      "Epoch 30, Loss 0.0436\n",
      "Training Accuracy: 0.9527, Testing Accuracy: 0.9551\n",
      "\n"
     ]
    },
    {
     "name": "stdout",
     "output_type": "stream",
     "text": [
      "Epoch 40, Loss 0.0374\n",
      "Training Accuracy: 0.9585, Testing Accuracy: 0.9612\n",
      "\n"
     ]
    },
    {
     "name": "stdout",
     "output_type": "stream",
     "text": [
      "Epoch 50, Loss 0.0337\n",
      "Training Accuracy: 0.9623, Testing Accuracy: 0.9632\n",
      "\n"
     ]
    },
    {
     "name": "stdout",
     "output_type": "stream",
     "text": [
      "Epoch 60, Loss 0.0313\n",
      "Training Accuracy: 0.9640, Testing Accuracy: 0.9657\n",
      "\n"
     ]
    },
    {
     "name": "stdout",
     "output_type": "stream",
     "text": [
      "Epoch 70, Loss 0.0294\n",
      "Training Accuracy: 0.9652, Testing Accuracy: 0.9662\n",
      "\n"
     ]
    },
    {
     "name": "stdout",
     "output_type": "stream",
     "text": [
      "Epoch 80, Loss 0.028\n",
      "Training Accuracy: 0.9674, Testing Accuracy: 0.9688\n",
      "\n"
     ]
    },
    {
     "name": "stdout",
     "output_type": "stream",
     "text": [
      "Epoch 90, Loss 0.0268\n",
      "Training Accuracy: 0.9687, Testing Accuracy: 0.9698\n",
      "\n"
     ]
    },
    {
     "name": "stdout",
     "output_type": "stream",
     "text": [
      "Epoch 100, Loss 0.0258\n",
      "Training Accuracy: 0.9704, Testing Accuracy: 0.9703\n",
      "\n"
     ]
    },
    {
     "name": "stdout",
     "output_type": "stream",
     "text": [
      "Epoch 110, Loss 0.025\n",
      "Training Accuracy: 0.9709, Testing Accuracy: 0.9708\n",
      "\n"
     ]
    },
    {
     "name": "stdout",
     "output_type": "stream",
     "text": [
      "Epoch 120, Loss 0.0242\n",
      "Training Accuracy: 0.9724, Testing Accuracy: 0.9713\n",
      "\n"
     ]
    },
    {
     "name": "stdout",
     "output_type": "stream",
     "text": [
      "Epoch 130, Loss 0.0235\n",
      "Training Accuracy: 0.9729, Testing Accuracy: 0.9718\n",
      "\n"
     ]
    },
    {
     "name": "stdout",
     "output_type": "stream",
     "text": [
      "Epoch 140, Loss 0.0229\n",
      "Training Accuracy: 0.9738, Testing Accuracy: 0.9733\n",
      "\n"
     ]
    },
    {
     "name": "stdout",
     "output_type": "stream",
     "text": [
      "Epoch 150, Loss 0.0223\n",
      "Training Accuracy: 0.9743, Testing Accuracy: 0.9733\n",
      "\n"
     ]
    },
    {
     "name": "stdout",
     "output_type": "stream",
     "text": [
      "Epoch 160, Loss 0.0217\n",
      "Training Accuracy: 0.9753, Testing Accuracy: 0.9743\n",
      "\n"
     ]
    },
    {
     "name": "stdout",
     "output_type": "stream",
     "text": [
      "Epoch 170, Loss 0.0212\n",
      "Training Accuracy: 0.9756, Testing Accuracy: 0.9748\n",
      "\n"
     ]
    },
    {
     "name": "stdout",
     "output_type": "stream",
     "text": [
      "Epoch 180, Loss 0.0208\n",
      "Training Accuracy: 0.9762, Testing Accuracy: 0.9743\n",
      "\n"
     ]
    },
    {
     "name": "stdout",
     "output_type": "stream",
     "text": [
      "Epoch 190, Loss 0.0203\n",
      "Training Accuracy: 0.9768, Testing Accuracy: 0.9748\n",
      "\n"
     ]
    },
    {
     "name": "stdout",
     "output_type": "stream",
     "text": [
      "Epoch 200, Loss 0.0199\n",
      "Training Accuracy: 0.9772, Testing Accuracy: 0.9753\n",
      "\n"
     ]
    },
    {
     "name": "stdout",
     "output_type": "stream",
     "text": [
      "Epoch 210, Loss 0.0195\n",
      "Training Accuracy: 0.9775, Testing Accuracy: 0.9753\n",
      "\n"
     ]
    },
    {
     "name": "stdout",
     "output_type": "stream",
     "text": [
      "Epoch 220, Loss 0.0191\n",
      "Training Accuracy: 0.9781, Testing Accuracy: 0.9753\n",
      "\n"
     ]
    },
    {
     "name": "stdout",
     "output_type": "stream",
     "text": [
      "Epoch 230, Loss 0.0188\n",
      "Training Accuracy: 0.9784, Testing Accuracy: 0.9748\n",
      "\n"
     ]
    },
    {
     "name": "stdout",
     "output_type": "stream",
     "text": [
      "Epoch 240, Loss 0.0184\n",
      "Training Accuracy: 0.9791, Testing Accuracy: 0.9748\n",
      "\n"
     ]
    },
    {
     "name": "stdout",
     "output_type": "stream",
     "text": [
      "Epoch 250, Loss 0.0181\n",
      "Training Accuracy: 0.9795, Testing Accuracy: 0.9748\n",
      "\n"
     ]
    },
    {
     "data": {
      "text/plain": [
       "0.01419965932860644"
      ]
     },
     "execution_count": 20,
     "metadata": {},
     "output_type": "execute_result"
    }
   ],
   "source": [
    "print(\"====== Neural Network ======\")\n",
    "learner_nn.train_loop(dl)"
   ]
  },
  {
   "cell_type": "markdown",
   "metadata": {
    "papermill": {
     "duration": 0.037037,
     "end_time": "2020-09-18T20:06:02.668655",
     "exception": false,
     "start_time": "2020-09-18T20:06:02.631618",
     "status": "completed"
    },
    "tags": []
   },
   "source": [
    "### Logistic Regression based Implementation."
   ]
  },
  {
   "cell_type": "code",
   "execution_count": 21,
   "metadata": {
    "execution": {
     "iopub.execute_input": "2020-09-18T20:06:02.758519Z",
     "iopub.status.busy": "2020-09-18T20:06:02.752850Z",
     "iopub.status.idle": "2020-09-18T20:06:02.765529Z",
     "shell.execute_reply": "2020-09-18T20:06:02.764763Z"
    },
    "papermill": {
     "duration": 0.060542,
     "end_time": "2020-09-18T20:06:02.765664",
     "exception": false,
     "start_time": "2020-09-18T20:06:02.705122",
     "status": "completed"
    },
    "tags": []
   },
   "outputs": [],
   "source": [
    "learner_lr = Learner(loss, model_lr, opt, config.num_epochs)\n",
    "acc_lr = ClfCallback(learner_lr, config.bs, training_xdata , testing_xdata, training_ydata, testing_ydata)\n",
    "learner_lr.set_callbacks([acc_lr])"
   ]
  },
  {
   "cell_type": "code",
   "execution_count": 22,
   "metadata": {
    "execution": {
     "iopub.execute_input": "2020-09-18T20:06:02.847653Z",
     "iopub.status.busy": "2020-09-18T20:06:02.847054Z",
     "iopub.status.idle": "2020-09-18T20:06:21.079114Z",
     "shell.execute_reply": "2020-09-18T20:06:21.079874Z"
    },
    "papermill": {
     "duration": 18.277758,
     "end_time": "2020-09-18T20:06:21.080036",
     "exception": false,
     "start_time": "2020-09-18T20:06:02.802278",
     "status": "completed"
    },
    "tags": []
   },
   "outputs": [
    {
     "name": "stdout",
     "output_type": "stream",
     "text": [
      "====== Logistic Regression ======\n",
      "Epoch 0, Loss 0.2454\n",
      "Training Accuracy: 0.6400, Testing Accuracy: 0.6542\n",
      "\n"
     ]
    },
    {
     "name": "stdout",
     "output_type": "stream",
     "text": [
      "Epoch 10, Loss 0.1046\n",
      "Training Accuracy: 0.9109, Testing Accuracy: 0.9138\n",
      "\n"
     ]
    },
    {
     "name": "stdout",
     "output_type": "stream",
     "text": [
      "Epoch 20, Loss 0.0801\n",
      "Training Accuracy: 0.9278, Testing Accuracy: 0.9370\n",
      "\n"
     ]
    },
    {
     "name": "stdout",
     "output_type": "stream",
     "text": [
      "Epoch 30, Loss 0.0688\n",
      "Training Accuracy: 0.9377, Testing Accuracy: 0.9471\n",
      "\n"
     ]
    },
    {
     "name": "stdout",
     "output_type": "stream",
     "text": [
      "Epoch 40, Loss 0.062\n",
      "Training Accuracy: 0.9425, Testing Accuracy: 0.9521\n",
      "\n"
     ]
    },
    {
     "name": "stdout",
     "output_type": "stream",
     "text": [
      "Epoch 50, Loss 0.0574\n",
      "Training Accuracy: 0.9454, Testing Accuracy: 0.9536\n",
      "\n"
     ]
    },
    {
     "name": "stdout",
     "output_type": "stream",
     "text": [
      "Epoch 60, Loss 0.0541\n",
      "Training Accuracy: 0.9481, Testing Accuracy: 0.9577\n",
      "\n"
     ]
    },
    {
     "name": "stdout",
     "output_type": "stream",
     "text": [
      "Epoch 70, Loss 0.0515\n",
      "Training Accuracy: 0.9509, Testing Accuracy: 0.9602\n",
      "\n"
     ]
    },
    {
     "name": "stdout",
     "output_type": "stream",
     "text": [
      "Epoch 80, Loss 0.0494\n",
      "Training Accuracy: 0.9521, Testing Accuracy: 0.9607\n",
      "\n"
     ]
    },
    {
     "name": "stdout",
     "output_type": "stream",
     "text": [
      "Epoch 90, Loss 0.0477\n",
      "Training Accuracy: 0.9534, Testing Accuracy: 0.9612\n",
      "\n"
     ]
    },
    {
     "name": "stdout",
     "output_type": "stream",
     "text": [
      "Epoch 100, Loss 0.0463\n",
      "Training Accuracy: 0.9538, Testing Accuracy: 0.9617\n",
      "\n"
     ]
    },
    {
     "name": "stdout",
     "output_type": "stream",
     "text": [
      "Epoch 110, Loss 0.0451\n",
      "Training Accuracy: 0.9543, Testing Accuracy: 0.9632\n",
      "\n"
     ]
    },
    {
     "name": "stdout",
     "output_type": "stream",
     "text": [
      "Epoch 120, Loss 0.044\n",
      "Training Accuracy: 0.9546, Testing Accuracy: 0.9637\n",
      "\n"
     ]
    },
    {
     "name": "stdout",
     "output_type": "stream",
     "text": [
      "Epoch 130, Loss 0.0431\n",
      "Training Accuracy: 0.9554, Testing Accuracy: 0.9637\n",
      "\n"
     ]
    },
    {
     "name": "stdout",
     "output_type": "stream",
     "text": [
      "Epoch 140, Loss 0.0422\n",
      "Training Accuracy: 0.9563, Testing Accuracy: 0.9642\n",
      "\n"
     ]
    },
    {
     "name": "stdout",
     "output_type": "stream",
     "text": [
      "Epoch 150, Loss 0.0415\n",
      "Training Accuracy: 0.9568, Testing Accuracy: 0.9647\n",
      "\n"
     ]
    },
    {
     "name": "stdout",
     "output_type": "stream",
     "text": [
      "Epoch 160, Loss 0.0408\n",
      "Training Accuracy: 0.9574, Testing Accuracy: 0.9657\n",
      "\n"
     ]
    },
    {
     "name": "stdout",
     "output_type": "stream",
     "text": [
      "Epoch 170, Loss 0.0402\n",
      "Training Accuracy: 0.9579, Testing Accuracy: 0.9662\n",
      "\n"
     ]
    },
    {
     "name": "stdout",
     "output_type": "stream",
     "text": [
      "Epoch 180, Loss 0.0396\n",
      "Training Accuracy: 0.9584, Testing Accuracy: 0.9662\n",
      "\n"
     ]
    },
    {
     "name": "stdout",
     "output_type": "stream",
     "text": [
      "Epoch 190, Loss 0.0391\n",
      "Training Accuracy: 0.9591, Testing Accuracy: 0.9662\n",
      "\n"
     ]
    },
    {
     "name": "stdout",
     "output_type": "stream",
     "text": [
      "Epoch 200, Loss 0.0386\n",
      "Training Accuracy: 0.9593, Testing Accuracy: 0.9657\n",
      "\n"
     ]
    },
    {
     "name": "stdout",
     "output_type": "stream",
     "text": [
      "Epoch 210, Loss 0.0382\n",
      "Training Accuracy: 0.9599, Testing Accuracy: 0.9657\n",
      "\n"
     ]
    },
    {
     "name": "stdout",
     "output_type": "stream",
     "text": [
      "Epoch 220, Loss 0.0378\n",
      "Training Accuracy: 0.9600, Testing Accuracy: 0.9667\n",
      "\n"
     ]
    },
    {
     "name": "stdout",
     "output_type": "stream",
     "text": [
      "Epoch 230, Loss 0.0374\n",
      "Training Accuracy: 0.9601, Testing Accuracy: 0.9667\n",
      "\n"
     ]
    },
    {
     "name": "stdout",
     "output_type": "stream",
     "text": [
      "Epoch 240, Loss 0.037\n",
      "Training Accuracy: 0.9605, Testing Accuracy: 0.9672\n",
      "\n"
     ]
    },
    {
     "name": "stdout",
     "output_type": "stream",
     "text": [
      "Epoch 250, Loss 0.0367\n",
      "Training Accuracy: 0.9607, Testing Accuracy: 0.9672\n",
      "\n"
     ]
    },
    {
     "data": {
      "text/plain": [
       "0.0280171198481916"
      ]
     },
     "execution_count": 22,
     "metadata": {},
     "output_type": "execute_result"
    }
   ],
   "source": [
    "print(\"====== Logistic Regression ======\")\n",
    "learner_lr.train_loop(dl)"
   ]
  },
  {
   "cell_type": "markdown",
   "metadata": {
    "papermill": {
     "duration": 0.044349,
     "end_time": "2020-09-18T20:06:21.169292",
     "exception": false,
     "start_time": "2020-09-18T20:06:21.124943",
     "status": "completed"
    },
    "tags": []
   },
   "source": [
    "### Comparing results of NN and LR"
   ]
  },
  {
   "cell_type": "code",
   "execution_count": 23,
   "metadata": {
    "execution": {
     "iopub.execute_input": "2020-09-18T20:06:21.266261Z",
     "iopub.status.busy": "2020-09-18T20:06:21.264078Z",
     "iopub.status.idle": "2020-09-18T20:06:21.506125Z",
     "shell.execute_reply": "2020-09-18T20:06:21.505606Z"
    },
    "papermill": {
     "duration": 0.292905,
     "end_time": "2020-09-18T20:06:21.506261",
     "exception": false,
     "start_time": "2020-09-18T20:06:21.213356",
     "status": "completed"
    },
    "tags": []
   },
   "outputs": [
    {
     "data": {
      "text/plain": [
       "<matplotlib.legend.Legend at 0x7f00e5f71278>"
      ]
     },
     "execution_count": 23,
     "metadata": {},
     "output_type": "execute_result"
    },
    {
     "data": {
      "image/png": "[encoded data removed]",
      "text/plain": [
       "<Figure size 1080x720 with 1 Axes>"
      ]
     },
     "metadata": {
      "needs_background": "light"
     },
     "output_type": "display_data"
    }
   ],
   "source": [
    "plt.figure(figsize=(15,10))\n",
    "\n",
    "# Neural Network plots\n",
    "plt.plot(acc_nn.accuracies, 'r-', label = \"Training Accuracies - NN\")\n",
    "plt.plot(acc_nn.test_accuracies, 'g-', label = \"Testing Accuracies - NN\")\n",
    "\n",
    "# Logistic Regression plots\n",
    "plt.plot(acc_lr.accuracies, 'k-', label = \"Training Accuracies - LR\")\n",
    "plt.plot(acc_lr.test_accuracies, 'b-', label = \"Testing Accuracies - LR\")\n",
    "\n",
    "plt.ylim(0.8, 1)\n",
    "\n",
    "plt.legend()\n",
    "\n"
   ]
  },
  {
   "cell_type": "markdown",
   "metadata": {
    "papermill": {
     "duration": 0.045844,
     "end_time": "2020-09-18T20:06:21.598477",
     "exception": false,
     "start_time": "2020-09-18T20:06:21.552633",
     "status": "completed"
    },
    "tags": []
   },
   "source": [
    "### From the plot, we can observe the following:\n",
    "- Neural Network achieves higher accuracy than the Logistic Regression model.\n",
    "- This apparently, is because of overfitting, i.e. NN captures more noise than data.\n",
    "- Testing accuracy of NN drops below the Training accuracy at higher epochs. This explains the over-fitting on training data.\n",
    "- Logistic Regression gives a reliable accuracy, without the above mentioned problem.\n"
   ]
  },
  {
   "cell_type": "markdown",
   "metadata": {
    "papermill": {
     "duration": 0.045978,
     "end_time": "2020-09-18T20:06:21.690454",
     "exception": false,
     "start_time": "2020-09-18T20:06:21.644476",
     "status": "completed"
    },
    "tags": []
   },
   "source": [
    "### Moving till the last but one layer (excluding it).\n",
    "#### Plotting the outputs of this layer of the NN."
   ]
  },
  {
   "cell_type": "code",
   "execution_count": 24,
   "metadata": {
    "execution": {
     "iopub.execute_input": "2020-09-18T20:06:21.790977Z",
     "iopub.status.busy": "2020-09-18T20:06:21.790340Z",
     "iopub.status.idle": "2020-09-18T20:06:21.806187Z",
     "shell.execute_reply": "2020-09-18T20:06:21.806664Z"
    },
    "papermill": {
     "duration": 0.070251,
     "end_time": "2020-09-18T20:06:21.806838",
     "exception": false,
     "start_time": "2020-09-18T20:06:21.736587",
     "status": "completed"
    },
    "tags": []
   },
   "outputs": [],
   "source": [
    "model_new = Model(layers[:-2])"
   ]
  },
  {
   "cell_type": "code",
   "execution_count": 25,
   "metadata": {
    "execution": {
     "iopub.execute_input": "2020-09-18T20:06:21.904467Z",
     "iopub.status.busy": "2020-09-18T20:06:21.903867Z",
     "iopub.status.idle": "2020-09-18T20:06:21.928431Z",
     "shell.execute_reply": "2020-09-18T20:06:21.928931Z"
    },
    "papermill": {
     "duration": 0.076273,
     "end_time": "2020-09-18T20:06:21.929093",
     "exception": false,
     "start_time": "2020-09-18T20:06:21.852820",
     "status": "completed"
    },
    "tags": []
   },
   "outputs": [],
   "source": [
    "plot_testing = model_new(testing_xdata)"
   ]
  },
  {
   "cell_type": "code",
   "execution_count": 26,
   "metadata": {
    "execution": {
     "iopub.execute_input": "2020-09-18T20:06:22.032415Z",
     "iopub.status.busy": "2020-09-18T20:06:22.031831Z",
     "iopub.status.idle": "2020-09-18T20:06:22.251102Z",
     "shell.execute_reply": "2020-09-18T20:06:22.251583Z"
    },
    "papermill": {
     "duration": 0.276251,
     "end_time": "2020-09-18T20:06:22.251742",
     "exception": false,
     "start_time": "2020-09-18T20:06:21.975491",
     "status": "completed"
    },
    "tags": []
   },
   "outputs": [
    {
     "data": {
      "text/plain": [
       "Text(0.5, 1.0, 'Outputs')"
      ]
     },
     "execution_count": 26,
     "metadata": {},
     "output_type": "execute_result"
    },
    {
     "data": {
      "image/png": "[encoded data removed]",
      "text/plain": [
       "<Figure size 576x504 with 1 Axes>"
      ]
     },
     "metadata": {
      "needs_background": "light"
     },
     "output_type": "display_data"
    }
   ],
   "source": [
    "plt.figure(figsize=(8,7))\n",
    "plt.scatter(plot_testing[:,0], plot_testing[:,1], alpha = 0.1, c = y_test.ravel());\n",
    "plt.title('Outputs')"
   ]
  },
  {
   "cell_type": "markdown",
   "metadata": {
    "papermill": {
     "duration": 0.048636,
     "end_time": "2020-09-18T20:06:22.349369",
     "exception": false,
     "start_time": "2020-09-18T20:06:22.300733",
     "status": "completed"
    },
    "tags": []
   },
   "source": [
    "### Plotting probability contours"
   ]
  },
  {
   "cell_type": "code",
   "execution_count": 27,
   "metadata": {
    "execution": {
     "iopub.execute_input": "2020-09-18T20:06:22.450222Z",
     "iopub.status.busy": "2020-09-18T20:06:22.449639Z",
     "iopub.status.idle": "2020-09-18T20:06:22.462892Z",
     "shell.execute_reply": "2020-09-18T20:06:22.463342Z"
    },
    "papermill": {
     "duration": 0.065874,
     "end_time": "2020-09-18T20:06:22.463498",
     "exception": false,
     "start_time": "2020-09-18T20:06:22.397624",
     "status": "completed"
    },
    "tags": []
   },
   "outputs": [],
   "source": [
    "model_prob = Model(layers[-2:]) "
   ]
  },
  {
   "cell_type": "code",
   "execution_count": 28,
   "metadata": {
    "execution": {
     "iopub.execute_input": "2020-09-18T20:06:22.565490Z",
     "iopub.status.busy": "2020-09-18T20:06:22.564897Z",
     "iopub.status.idle": "2020-09-18T20:06:22.581020Z",
     "shell.execute_reply": "2020-09-18T20:06:22.581476Z"
    },
    "papermill": {
     "duration": 0.06957,
     "end_time": "2020-09-18T20:06:22.581638",
     "exception": false,
     "start_time": "2020-09-18T20:06:22.512068",
     "status": "completed"
    },
    "tags": []
   },
   "outputs": [],
   "source": [
    "# Adjust the x and y ranges according to the above generated plot.\n",
    "x_range = np.linspace(-4, 1, 100) \n",
    "y_range = np.linspace(-6, 6, 100) \n",
    "x_grid, y_grid = np.meshgrid(x_range, y_range) # x_grid and y_grig are of size 100 X 100\n",
    "\n",
    "# converting x_grid and y_grid to continuous arrays\n",
    "x_grid_flat = np.ravel(x_grid)\n",
    "y_grid_flat = np.ravel(y_grid)\n",
    "\n",
    "# The last layer of the current model takes two columns as input. Hence transpose of np.vstack() is required.\n",
    "X = np.vstack((x_grid_flat, y_grid_flat)).T\n",
    "\n",
    "# x_grid and y_grid are of size 100 x 100\n",
    "probability_contour = model_prob(X).reshape(100,100) "
   ]
  },
  {
   "cell_type": "code",
   "execution_count": 29,
   "metadata": {
    "execution": {
     "iopub.execute_input": "2020-09-18T20:06:22.685058Z",
     "iopub.status.busy": "2020-09-18T20:06:22.684467Z",
     "iopub.status.idle": "2020-09-18T20:06:22.962251Z",
     "shell.execute_reply": "2020-09-18T20:06:22.963104Z"
    },
    "papermill": {
     "duration": 0.332951,
     "end_time": "2020-09-18T20:06:22.963354",
     "exception": false,
     "start_time": "2020-09-18T20:06:22.630403",
     "status": "completed"
    },
    "tags": []
   },
   "outputs": [
    {
     "data": {
      "image/png": "[encoded data removed]",
      "text/plain": [
       "<Figure size 720x648 with 1 Axes>"
      ]
     },
     "metadata": {
      "needs_background": "light"
     },
     "output_type": "display_data"
    }
   ],
   "source": [
    "plt.figure(figsize=(10,9))\n",
    "plt.scatter(plot_testing[:,0], plot_testing[:,1], alpha = 0.1, c = y_test.ravel())\n",
    "contours = plt.contour(x_grid,y_grid,probability_contour)\n",
    "plt.title('Probability Contours')\n",
    "plt.clabel(contours, inline = True );"
   ]
  }
 ],
 "metadata": {
  "kernelspec": {
   "display_name": "Python 3",
   "language": "python",
   "name": "python3"
  },
  "language_info": {
   "codemirror_mode": {
    "name": "ipython",
    "version": 3
   },
   "file_extension": ".py",
   "mimetype": "text/x-python",
   "name": "python",
   "nbconvert_exporter": "python",
   "pygments_lexer": "ipython3",
   "version": "3.6.12"
  },
  "papermill": {
   "duration": 120.17058,
   "end_time": "2020-09-18T20:06:23.422846",
   "environment_variables": {},
   "exception": null,
   "input_path": "2020-08-11-NeuralNetwork.ipynb",
   "output_path": "2020-08-11-NeuralNetwork.ipynb",
   "parameters": {},
   "start_time": "2020-09-18T20:04:23.252266",
   "version": "2.1.2"
  }
 },
 "nbformat": 4,
 "nbformat_minor": 4
}