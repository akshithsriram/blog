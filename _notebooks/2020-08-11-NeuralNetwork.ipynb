{
 "cells": [
  {
   "cell_type": "markdown",
   "metadata": {
    "papermill": {
     "duration": 0.028887,
     "end_time": "2020-08-20T00:05:31.313721",
     "exception": false,
     "start_time": "2020-08-20T00:05:31.284834",
     "status": "completed"
    },
    "tags": []
   },
   "source": [
    "# \"A Basic Neural Network: Differentiate Hand-Written Digits\"\n",
    "\n",
    "- badges: true\n",
    "- author: Akshith Sriram"
   ]
  },
  {
   "cell_type": "markdown",
   "metadata": {
    "papermill": {
     "duration": 0.043229,
     "end_time": "2020-08-20T00:05:31.456435",
     "exception": false,
     "start_time": "2020-08-20T00:05:31.413206",
     "status": "completed"
    },
    "tags": []
   },
   "source": [
    "### Key Objectives:\n",
    "- Building a neural network that differentiates two hand-written digits 3 and 8.\n",
    "- Comparing the results of this Neural Network (NN) to that of a Logistic Regression (LR) model.\n",
    "\n",
    "### Requirements:\n",
    "- 'Kudzu' : A neural network library that was designed during our course by [Univ.AI](www.univ.ai). \n",
    "- MNIST Database\n",
    "\n",
    "If MNIST is not installed, use the command `!pip install mnist` given below.\n",
    "It can be run both from the command line and Jupyter Notebook."
   ]
  },
  {
   "cell_type": "code",
   "execution_count": 1,
   "metadata": {
    "execution": {
     "iopub.execute_input": "2020-08-20T00:05:31.571152Z",
     "iopub.status.busy": "2020-08-20T00:05:31.570435Z",
     "iopub.status.idle": "2020-08-20T00:05:33.337565Z",
     "shell.execute_reply": "2020-08-20T00:05:33.336620Z"
    },
    "papermill": {
     "duration": 1.818556,
     "end_time": "2020-08-20T00:05:33.337742",
     "exception": false,
     "start_time": "2020-08-20T00:05:31.519186",
     "status": "completed"
    },
    "tags": []
   },
   "outputs": [
    {
     "name": "stdout",
     "output_type": "stream",
     "text": [
      "Collecting mnist\r\n"
     ]
    },
    {
     "name": "stdout",
     "output_type": "stream",
     "text": [
      "  Downloading mnist-0.2.2-py2.py3-none-any.whl (3.5 kB)\r\n"
     ]
    },
    {
     "name": "stdout",
     "output_type": "stream",
     "text": [
      "Requirement already satisfied: numpy in /opt/hostedtoolcache/Python/3.6.11/x64/lib/python3.6/site-packages (from mnist) (1.19.1)\r\n"
     ]
    },
    {
     "name": "stdout",
     "output_type": "stream",
     "text": [
      "Installing collected packages: mnist\r\n"
     ]
    },
    {
     "name": "stdout",
     "output_type": "stream",
     "text": [
      "Successfully installed mnist-0.2.2\r\n"
     ]
    },
    {
     "name": "stdout",
     "output_type": "stream",
     "text": [
      "\u001b[33mWARNING: You are using pip version 20.2.1; however, version 20.2.2 is available.\r\n",
      "You should consider upgrading via the '/opt/hostedtoolcache/Python/3.6.11/x64/bin/python -m pip install --upgrade pip' command.\u001b[0m\r\n"
     ]
    }
   ],
   "source": [
    "!pip install mnist "
   ]
  },
  {
   "cell_type": "markdown",
   "metadata": {
    "papermill": {
     "duration": 0.026742,
     "end_time": "2020-08-20T00:05:33.395662",
     "exception": false,
     "start_time": "2020-08-20T00:05:33.368920",
     "status": "completed"
    },
    "tags": []
   },
   "source": [
    "#### Importing necessary libraries"
   ]
  },
  {
   "cell_type": "code",
   "execution_count": 2,
   "metadata": {
    "execution": {
     "iopub.execute_input": "2020-08-20T00:05:33.457859Z",
     "iopub.status.busy": "2020-08-20T00:05:33.454824Z",
     "iopub.status.idle": "2020-08-20T00:05:34.028740Z",
     "shell.execute_reply": "2020-08-20T00:05:34.028199Z"
    },
    "papermill": {
     "duration": 0.607531,
     "end_time": "2020-08-20T00:05:34.028897",
     "exception": false,
     "start_time": "2020-08-20T00:05:33.421366",
     "status": "completed"
    },
    "tags": []
   },
   "outputs": [],
   "source": [
    "%load_ext autoreload\n",
    "%autoreload 2\n",
    "\n",
    "%matplotlib inline\n",
    "import matplotlib.pyplot as plt\n",
    "\n",
    "import numpy as np\n",
    "import pandas as pd"
   ]
  },
  {
   "cell_type": "markdown",
   "metadata": {
    "papermill": {
     "duration": 0.02932,
     "end_time": "2020-08-20T00:05:34.085800",
     "exception": false,
     "start_time": "2020-08-20T00:05:34.056480",
     "status": "completed"
    },
    "tags": []
   },
   "source": [
    "### Preparing the Data"
   ]
  },
  {
   "cell_type": "code",
   "execution_count": 3,
   "metadata": {
    "execution": {
     "iopub.execute_input": "2020-08-20T00:05:34.144905Z",
     "iopub.status.busy": "2020-08-20T00:05:34.144292Z",
     "iopub.status.idle": "2020-08-20T00:05:34.156372Z",
     "shell.execute_reply": "2020-08-20T00:05:34.156838Z"
    },
    "papermill": {
     "duration": 0.04412,
     "end_time": "2020-08-20T00:05:34.156989",
     "exception": false,
     "start_time": "2020-08-20T00:05:34.112869",
     "status": "completed"
    },
    "tags": []
   },
   "outputs": [],
   "source": [
    "import mnist"
   ]
  },
  {
   "cell_type": "code",
   "execution_count": 4,
   "metadata": {
    "execution": {
     "iopub.execute_input": "2020-08-20T00:05:34.218914Z",
     "iopub.status.busy": "2020-08-20T00:05:34.218149Z",
     "iopub.status.idle": "2020-08-20T00:05:36.089542Z",
     "shell.execute_reply": "2020-08-20T00:05:36.090076Z"
    },
    "papermill": {
     "duration": 1.904747,
     "end_time": "2020-08-20T00:05:36.090328",
     "exception": false,
     "start_time": "2020-08-20T00:05:34.185581",
     "status": "completed"
    },
    "tags": []
   },
   "outputs": [],
   "source": [
    "train_images = mnist.train_images()\n",
    "train_labels = mnist.train_labels()"
   ]
  },
  {
   "cell_type": "code",
   "execution_count": 5,
   "metadata": {
    "execution": {
     "iopub.execute_input": "2020-08-20T00:05:36.149350Z",
     "iopub.status.busy": "2020-08-20T00:05:36.148726Z",
     "iopub.status.idle": "2020-08-20T00:05:36.162901Z",
     "shell.execute_reply": "2020-08-20T00:05:36.163489Z"
    },
    "papermill": {
     "duration": 0.045764,
     "end_time": "2020-08-20T00:05:36.163634",
     "exception": false,
     "start_time": "2020-08-20T00:05:36.117870",
     "status": "completed"
    },
    "tags": []
   },
   "outputs": [
    {
     "data": {
      "text/plain": [
       "((60000, 28, 28), (60000,))"
      ]
     },
     "execution_count": 5,
     "metadata": {},
     "output_type": "execute_result"
    }
   ],
   "source": [
    "train_images.shape, train_labels.shape"
   ]
  },
  {
   "cell_type": "code",
   "execution_count": 6,
   "metadata": {
    "execution": {
     "iopub.execute_input": "2020-08-20T00:05:36.220905Z",
     "iopub.status.busy": "2020-08-20T00:05:36.220291Z",
     "iopub.status.idle": "2020-08-20T00:05:36.995325Z",
     "shell.execute_reply": "2020-08-20T00:05:36.994591Z"
    },
    "papermill": {
     "duration": 0.804283,
     "end_time": "2020-08-20T00:05:36.995539",
     "exception": false,
     "start_time": "2020-08-20T00:05:36.191256",
     "status": "completed"
    },
    "tags": []
   },
   "outputs": [],
   "source": [
    "test_images = mnist.test_images()\n",
    "test_labels = mnist.test_labels()"
   ]
  },
  {
   "cell_type": "code",
   "execution_count": 7,
   "metadata": {
    "execution": {
     "iopub.execute_input": "2020-08-20T00:05:37.057104Z",
     "iopub.status.busy": "2020-08-20T00:05:37.056395Z",
     "iopub.status.idle": "2020-08-20T00:05:37.079244Z",
     "shell.execute_reply": "2020-08-20T00:05:37.079790Z"
    },
    "papermill": {
     "duration": 0.054908,
     "end_time": "2020-08-20T00:05:37.079967",
     "exception": false,
     "start_time": "2020-08-20T00:05:37.025059",
     "status": "completed"
    },
    "tags": []
   },
   "outputs": [
    {
     "data": {
      "text/plain": [
       "((10000, 28, 28), (10000,))"
      ]
     },
     "execution_count": 7,
     "metadata": {},
     "output_type": "execute_result"
    }
   ],
   "source": [
    "test_images.shape, test_labels.shape"
   ]
  },
  {
   "cell_type": "code",
   "execution_count": 8,
   "metadata": {
    "execution": {
     "iopub.execute_input": "2020-08-20T00:05:37.828342Z",
     "iopub.status.busy": "2020-08-20T00:05:37.827658Z",
     "iopub.status.idle": "2020-08-20T00:05:37.994652Z",
     "shell.execute_reply": "2020-08-20T00:05:37.994138Z"
    },
    "papermill": {
     "duration": 0.886742,
     "end_time": "2020-08-20T00:05:37.994804",
     "exception": false,
     "start_time": "2020-08-20T00:05:37.108062",
     "status": "completed"
    },
    "tags": []
   },
   "outputs": [
    {
     "name": "stdout",
     "output_type": "stream",
     "text": [
      "2\n"
     ]
    },
    {
     "data": {
      "text/plain": [
       "<matplotlib.image.AxesImage at 0x7ff8dcc0a780>"
      ]
     },
     "execution_count": 8,
     "metadata": {},
     "output_type": "execute_result"
    },
    {
     "data": {
      "image/png": "[encoded data removed]",
      "text/plain": [
       "<Figure size 432x288 with 1 Axes>"
      ]
     },
     "metadata": {
      "needs_background": "light"
     },
     "output_type": "display_data"
    }
   ],
   "source": [
    "image_index = 7776 # You may select anything up to 60,000\n",
    "print(train_labels[image_index]) \n",
    "plt.imshow(train_images[image_index], cmap='Greys')"
   ]
  },
  {
   "cell_type": "markdown",
   "metadata": {
    "papermill": {
     "duration": 0.087681,
     "end_time": "2020-08-20T00:05:38.113733",
     "exception": false,
     "start_time": "2020-08-20T00:05:38.026052",
     "status": "completed"
    },
    "tags": []
   },
   "source": [
    "## Filter data to get 3 and 8 out"
   ]
  },
  {
   "cell_type": "code",
   "execution_count": 9,
   "metadata": {
    "execution": {
     "iopub.execute_input": "2020-08-20T00:05:38.174549Z",
     "iopub.status.busy": "2020-08-20T00:05:38.173839Z",
     "iopub.status.idle": "2020-08-20T00:05:38.192110Z",
     "shell.execute_reply": "2020-08-20T00:05:38.191557Z"
    },
    "papermill": {
     "duration": 0.050391,
     "end_time": "2020-08-20T00:05:38.192259",
     "exception": false,
     "start_time": "2020-08-20T00:05:38.141868",
     "status": "completed"
    },
    "tags": []
   },
   "outputs": [],
   "source": [
    "train_filter = np.where((train_labels == 3 ) | (train_labels == 8))\n",
    "test_filter = np.where((test_labels == 3) | (test_labels == 8))\n",
    "X_train, y_train = train_images[train_filter], train_labels[train_filter]\n",
    "X_test, y_test = test_images[test_filter], test_labels[test_filter]"
   ]
  },
  {
   "cell_type": "markdown",
   "metadata": {
    "papermill": {
     "duration": 0.02836,
     "end_time": "2020-08-20T00:05:38.250032",
     "exception": false,
     "start_time": "2020-08-20T00:05:38.221672",
     "status": "completed"
    },
    "tags": []
   },
   "source": [
    "We normalize the pixel values in the 0 to 1 range"
   ]
  },
  {
   "cell_type": "code",
   "execution_count": 10,
   "metadata": {
    "execution": {
     "iopub.execute_input": "2020-08-20T00:05:38.310398Z",
     "iopub.status.busy": "2020-08-20T00:05:38.309756Z",
     "iopub.status.idle": "2020-08-20T00:05:38.366520Z",
     "shell.execute_reply": "2020-08-20T00:05:38.365990Z"
    },
    "papermill": {
     "duration": 0.087486,
     "end_time": "2020-08-20T00:05:38.366671",
     "exception": false,
     "start_time": "2020-08-20T00:05:38.279185",
     "status": "completed"
    },
    "tags": []
   },
   "outputs": [],
   "source": [
    "X_train = X_train/255.\n",
    "X_test = X_test/255."
   ]
  },
  {
   "cell_type": "markdown",
   "metadata": {
    "papermill": {
     "duration": 0.029182,
     "end_time": "2020-08-20T00:05:38.426010",
     "exception": false,
     "start_time": "2020-08-20T00:05:38.396828",
     "status": "completed"
    },
    "tags": []
   },
   "source": [
    "Setup the labels as 1 (when the digit is 3) and 0 (when the digit is 8)"
   ]
  },
  {
   "cell_type": "code",
   "execution_count": 11,
   "metadata": {
    "execution": {
     "iopub.execute_input": "2020-08-20T00:05:38.488384Z",
     "iopub.status.busy": "2020-08-20T00:05:38.487765Z",
     "iopub.status.idle": "2020-08-20T00:05:38.499431Z",
     "shell.execute_reply": "2020-08-20T00:05:38.500020Z"
    },
    "papermill": {
     "duration": 0.045073,
     "end_time": "2020-08-20T00:05:38.500167",
     "exception": false,
     "start_time": "2020-08-20T00:05:38.455094",
     "status": "completed"
    },
    "tags": []
   },
   "outputs": [],
   "source": [
    "y_train = 1*(y_train==3)\n",
    "y_test = 1*(y_test==3)"
   ]
  },
  {
   "cell_type": "code",
   "execution_count": 12,
   "metadata": {
    "execution": {
     "iopub.execute_input": "2020-08-20T00:05:38.559738Z",
     "iopub.status.busy": "2020-08-20T00:05:38.559124Z",
     "iopub.status.idle": "2020-08-20T00:05:38.572090Z",
     "shell.execute_reply": "2020-08-20T00:05:38.572729Z"
    },
    "papermill": {
     "duration": 0.044843,
     "end_time": "2020-08-20T00:05:38.572869",
     "exception": false,
     "start_time": "2020-08-20T00:05:38.528026",
     "status": "completed"
    },
    "tags": []
   },
   "outputs": [
    {
     "data": {
      "text/plain": [
       "((11982, 28, 28), (1984, 28, 28))"
      ]
     },
     "execution_count": 12,
     "metadata": {},
     "output_type": "execute_result"
    }
   ],
   "source": [
    "X_train.shape, X_test.shape"
   ]
  },
  {
   "cell_type": "markdown",
   "metadata": {
    "papermill": {
     "duration": 0.029284,
     "end_time": "2020-08-20T00:05:38.632412",
     "exception": false,
     "start_time": "2020-08-20T00:05:38.603128",
     "status": "completed"
    },
    "tags": []
   },
   "source": [
    "### Reshape the input data to create a linear array"
   ]
  },
  {
   "cell_type": "code",
   "execution_count": 13,
   "metadata": {
    "execution": {
     "iopub.execute_input": "2020-08-20T00:05:38.695201Z",
     "iopub.status.busy": "2020-08-20T00:05:38.694555Z",
     "iopub.status.idle": "2020-08-20T00:05:38.709974Z",
     "shell.execute_reply": "2020-08-20T00:05:38.709493Z"
    },
    "papermill": {
     "duration": 0.048385,
     "end_time": "2020-08-20T00:05:38.710106",
     "exception": false,
     "start_time": "2020-08-20T00:05:38.661721",
     "status": "completed"
    },
    "tags": []
   },
   "outputs": [
    {
     "data": {
      "text/plain": [
       "((11982, 784), (1984, 784))"
      ]
     },
     "execution_count": 13,
     "metadata": {},
     "output_type": "execute_result"
    }
   ],
   "source": [
    "X_train = X_train.reshape(X_train.shape[0], -1)\n",
    "X_test = X_test.reshape(X_test.shape[0], -1)\n",
    "X_train.shape, X_test.shape"
   ]
  },
  {
   "cell_type": "markdown",
   "metadata": {
    "papermill": {
     "duration": 0.028095,
     "end_time": "2020-08-20T00:05:38.766305",
     "exception": false,
     "start_time": "2020-08-20T00:05:38.738210",
     "status": "completed"
    },
    "tags": []
   },
   "source": [
    "### Importing appropriate functions from 'Kudzu'"
   ]
  },
  {
   "cell_type": "code",
   "execution_count": 14,
   "metadata": {
    "execution": {
     "iopub.execute_input": "2020-08-20T00:05:38.828555Z",
     "iopub.status.busy": "2020-08-20T00:05:38.827916Z",
     "iopub.status.idle": "2020-08-20T00:05:38.847485Z",
     "shell.execute_reply": "2020-08-20T00:05:38.846978Z"
    },
    "papermill": {
     "duration": 0.052839,
     "end_time": "2020-08-20T00:05:38.847612",
     "exception": false,
     "start_time": "2020-08-20T00:05:38.794773",
     "status": "completed"
    },
    "tags": []
   },
   "outputs": [],
   "source": [
    "from kudzu.layer import Sigmoid\n",
    "from kudzu.layer import Relu\n",
    "from kudzu.layer import Affine, Sigmoid\n",
    "\n",
    "from kudzu.model import Model\n",
    "from kudzu.train import Learner\n",
    "from kudzu.optim import GD\n",
    "from kudzu.data import Data, Dataloader, Sampler\n",
    "\n",
    "from kudzu.callbacks import AccCallback\n",
    "from kudzu.callbacks import ClfCallback\n",
    "\n",
    "from kudzu.loss import MSE"
   ]
  },
  {
   "cell_type": "markdown",
   "metadata": {
    "papermill": {
     "duration": 0.031415,
     "end_time": "2020-08-20T00:05:38.906820",
     "exception": false,
     "start_time": "2020-08-20T00:05:38.875405",
     "status": "completed"
    },
    "tags": []
   },
   "source": [
    "### Let us create a `Config` class, to store important parameters. \n",
    "This class essentially plays the role of a dictionary."
   ]
  },
  {
   "cell_type": "code",
   "execution_count": 15,
   "metadata": {
    "execution": {
     "iopub.execute_input": "2020-08-20T00:05:38.977500Z",
     "iopub.status.busy": "2020-08-20T00:05:38.976818Z",
     "iopub.status.idle": "2020-08-20T00:05:38.991445Z",
     "shell.execute_reply": "2020-08-20T00:05:38.991968Z"
    },
    "papermill": {
     "duration": 0.052646,
     "end_time": "2020-08-20T00:05:38.992153",
     "exception": false,
     "start_time": "2020-08-20T00:05:38.939507",
     "status": "completed"
    },
    "tags": []
   },
   "outputs": [],
   "source": [
    "class Config:\n",
    "    pass\n",
    "config = Config()\n",
    "config.lr = 0.001\n",
    "config.num_epochs = 251\n",
    "config.bs = 50"
   ]
  },
  {
   "cell_type": "markdown",
   "metadata": {
    "papermill": {
     "duration": 0.029602,
     "end_time": "2020-08-20T00:05:39.052744",
     "exception": false,
     "start_time": "2020-08-20T00:05:39.023142",
     "status": "completed"
    },
    "tags": []
   },
   "source": [
    "### Initializing data to the variables"
   ]
  },
  {
   "cell_type": "code",
   "execution_count": 16,
   "metadata": {
    "execution": {
     "iopub.execute_input": "2020-08-20T00:05:39.117920Z",
     "iopub.status.busy": "2020-08-20T00:05:39.117283Z",
     "iopub.status.idle": "2020-08-20T00:05:39.131123Z",
     "shell.execute_reply": "2020-08-20T00:05:39.131706Z"
    },
    "papermill": {
     "duration": 0.047433,
     "end_time": "2020-08-20T00:05:39.131855",
     "exception": false,
     "start_time": "2020-08-20T00:05:39.084422",
     "status": "completed"
    },
    "tags": []
   },
   "outputs": [],
   "source": [
    "data = Data(X_train, y_train.reshape(-1,1))\n",
    "sampler = Sampler(data, config.bs, shuffle=True)\n",
    "\n",
    "dl = Dataloader(data, sampler)\n",
    "\n",
    "opt = GD(config.lr)\n",
    "loss = MSE()"
   ]
  },
  {
   "cell_type": "code",
   "execution_count": 17,
   "metadata": {
    "execution": {
     "iopub.execute_input": "2020-08-20T00:05:39.205752Z",
     "iopub.status.busy": "2020-08-20T00:05:39.200715Z",
     "iopub.status.idle": "2020-08-20T00:05:39.207969Z",
     "shell.execute_reply": "2020-08-20T00:05:39.208458Z"
    },
    "papermill": {
     "duration": 0.048729,
     "end_time": "2020-08-20T00:05:39.208629",
     "exception": false,
     "start_time": "2020-08-20T00:05:39.159900",
     "status": "completed"
    },
    "tags": []
   },
   "outputs": [],
   "source": [
    "training_xdata = X_train\n",
    "testing_xdata = X_test\n",
    "training_ydata = y_train.reshape(-1,1)\n",
    "testing_ydata = y_test.reshape(-1,1)"
   ]
  },
  {
   "cell_type": "markdown",
   "metadata": {
    "papermill": {
     "duration": 0.032146,
     "end_time": "2020-08-20T00:05:39.272440",
     "exception": false,
     "start_time": "2020-08-20T00:05:39.240294",
     "status": "completed"
    },
    "tags": []
   },
   "source": [
    "### Running Models with the Training data\n",
    "Details about the network layers:\n",
    "- A first affine layer has 784 inputs and does 100 affine transforms. These are followed by a Relu\n",
    "- A second affine layer has 100 inputs from the 100 activations of the past layer, and does 100 affine transforms. These are followed by a Relu\n",
    "- A third affine layer has 100 activations and does 2 affine transformations to create an embedding for visualization. There is no non-linearity here.\n",
    "- A final \"logistic regression\" which has an affine transform from 2 inputs to 1 output, which is squeezed through a sigmoid.\n",
    "\n",
    "Help taken from Anshuman's Notebook."
   ]
  },
  {
   "cell_type": "code",
   "execution_count": 18,
   "metadata": {
    "execution": {
     "iopub.execute_input": "2020-08-20T00:05:39.353849Z",
     "iopub.status.busy": "2020-08-20T00:05:39.348364Z",
     "iopub.status.idle": "2020-08-20T00:05:39.355906Z",
     "shell.execute_reply": "2020-08-20T00:05:39.356657Z"
    },
    "papermill": {
     "duration": 0.056156,
     "end_time": "2020-08-20T00:05:39.356805",
     "exception": false,
     "start_time": "2020-08-20T00:05:39.300649",
     "status": "completed"
    },
    "tags": []
   },
   "outputs": [],
   "source": [
    "# layers for the Neural Network\n",
    "layers = [Affine(\"first\", 784, 100), Relu(\"first\"), Affine(\"second\", 100, 100), Relu(\"second\"), Affine(\"third\", 100, 2), Affine(\"final\", 2, 1), Sigmoid(\"final\")]\n",
    "model_nn = Model(layers)\n",
    "\n",
    "# layers for the Logistic Regression\n",
    "layers_lr = [Affine(\"logits\", 784, 1), Sigmoid(\"sigmoid\")]\n",
    "model_lr = Model(layers_lr)"
   ]
  },
  {
   "cell_type": "code",
   "execution_count": 19,
   "metadata": {
    "execution": {
     "iopub.execute_input": "2020-08-20T00:05:39.420932Z",
     "iopub.status.busy": "2020-08-20T00:05:39.420304Z",
     "iopub.status.idle": "2020-08-20T00:05:39.432736Z",
     "shell.execute_reply": "2020-08-20T00:05:39.433313Z"
    },
    "papermill": {
     "duration": 0.048158,
     "end_time": "2020-08-20T00:05:39.433451",
     "exception": false,
     "start_time": "2020-08-20T00:05:39.385293",
     "status": "completed"
    },
    "tags": []
   },
   "outputs": [],
   "source": [
    "# suffix _nn stands for Neural Network.\n",
    "learner_nn = Learner(loss, model_nn, opt, config.num_epochs)\n",
    "acc_nn = ClfCallback(learner_nn, config.bs, training_xdata , testing_xdata, training_ydata, testing_ydata)\n",
    "learner_nn.set_callbacks([acc_nn])"
   ]
  },
  {
   "cell_type": "code",
   "execution_count": 20,
   "metadata": {
    "execution": {
     "iopub.execute_input": "2020-08-20T00:05:39.493984Z",
     "iopub.status.busy": "2020-08-20T00:05:39.493309Z",
     "iopub.status.idle": "2020-08-20T00:07:42.294648Z",
     "shell.execute_reply": "2020-08-20T00:07:42.295325Z"
    },
    "papermill": {
     "duration": 122.833432,
     "end_time": "2020-08-20T00:07:42.295506",
     "exception": false,
     "start_time": "2020-08-20T00:05:39.462074",
     "status": "completed"
    },
    "tags": []
   },
   "outputs": [
    {
     "name": "stdout",
     "output_type": "stream",
     "text": [
      "====== Neural Network ======\n"
     ]
    },
    {
     "name": "stdout",
     "output_type": "stream",
     "text": [
      "Epoch 0, Loss 0.2338\n",
      "Training Accuracy: 0.7561, Testing Accuracy: 0.7702\n",
      "\n"
     ]
    },
    {
     "name": "stdout",
     "output_type": "stream",
     "text": [
      "Epoch 10, Loss 0.0933\n",
      "Training Accuracy: 0.9185, Testing Accuracy: 0.9244\n",
      "\n"
     ]
    },
    {
     "name": "stdout",
     "output_type": "stream",
     "text": [
      "Epoch 20, Loss 0.0579\n",
      "Training Accuracy: 0.9397, Testing Accuracy: 0.9481\n",
      "\n"
     ]
    },
    {
     "name": "stdout",
     "output_type": "stream",
     "text": [
      "Epoch 30, Loss 0.0455\n",
      "Training Accuracy: 0.9502, Testing Accuracy: 0.9572\n",
      "\n"
     ]
    },
    {
     "name": "stdout",
     "output_type": "stream",
     "text": [
      "Epoch 40, Loss 0.0393\n",
      "Training Accuracy: 0.9549, Testing Accuracy: 0.9642\n",
      "\n"
     ]
    },
    {
     "name": "stdout",
     "output_type": "stream",
     "text": [
      "Epoch 50, Loss 0.0356\n",
      "Training Accuracy: 0.9589, Testing Accuracy: 0.9657\n",
      "\n"
     ]
    },
    {
     "name": "stdout",
     "output_type": "stream",
     "text": [
      "Epoch 60, Loss 0.033\n",
      "Training Accuracy: 0.9618, Testing Accuracy: 0.9672\n",
      "\n"
     ]
    },
    {
     "name": "stdout",
     "output_type": "stream",
     "text": [
      "Epoch 70, Loss 0.0311\n",
      "Training Accuracy: 0.9639, Testing Accuracy: 0.9677\n",
      "\n"
     ]
    },
    {
     "name": "stdout",
     "output_type": "stream",
     "text": [
      "Epoch 80, Loss 0.0296\n",
      "Training Accuracy: 0.9651, Testing Accuracy: 0.9688\n",
      "\n"
     ]
    },
    {
     "name": "stdout",
     "output_type": "stream",
     "text": [
      "Epoch 90, Loss 0.0283\n",
      "Training Accuracy: 0.9671, Testing Accuracy: 0.9693\n",
      "\n"
     ]
    },
    {
     "name": "stdout",
     "output_type": "stream",
     "text": [
      "Epoch 100, Loss 0.0273\n",
      "Training Accuracy: 0.9687, Testing Accuracy: 0.9698\n",
      "\n"
     ]
    },
    {
     "name": "stdout",
     "output_type": "stream",
     "text": [
      "Epoch 110, Loss 0.0264\n",
      "Training Accuracy: 0.9695, Testing Accuracy: 0.9698\n",
      "\n"
     ]
    },
    {
     "name": "stdout",
     "output_type": "stream",
     "text": [
      "Epoch 120, Loss 0.0255\n",
      "Training Accuracy: 0.9703, Testing Accuracy: 0.9693\n",
      "\n"
     ]
    },
    {
     "name": "stdout",
     "output_type": "stream",
     "text": [
      "Epoch 130, Loss 0.0248\n",
      "Training Accuracy: 0.9715, Testing Accuracy: 0.9698\n",
      "\n"
     ]
    },
    {
     "name": "stdout",
     "output_type": "stream",
     "text": [
      "Epoch 140, Loss 0.0242\n",
      "Training Accuracy: 0.9725, Testing Accuracy: 0.9703\n",
      "\n"
     ]
    },
    {
     "name": "stdout",
     "output_type": "stream",
     "text": [
      "Epoch 150, Loss 0.0236\n",
      "Training Accuracy: 0.9730, Testing Accuracy: 0.9718\n",
      "\n"
     ]
    },
    {
     "name": "stdout",
     "output_type": "stream",
     "text": [
      "Epoch 160, Loss 0.023\n",
      "Training Accuracy: 0.9737, Testing Accuracy: 0.9723\n",
      "\n"
     ]
    },
    {
     "name": "stdout",
     "output_type": "stream",
     "text": [
      "Epoch 170, Loss 0.0225\n",
      "Training Accuracy: 0.9741, Testing Accuracy: 0.9723\n",
      "\n"
     ]
    },
    {
     "name": "stdout",
     "output_type": "stream",
     "text": [
      "Epoch 180, Loss 0.022\n",
      "Training Accuracy: 0.9749, Testing Accuracy: 0.9728\n",
      "\n"
     ]
    },
    {
     "name": "stdout",
     "output_type": "stream",
     "text": [
      "Epoch 190, Loss 0.0215\n",
      "Training Accuracy: 0.9752, Testing Accuracy: 0.9728\n",
      "\n"
     ]
    },
    {
     "name": "stdout",
     "output_type": "stream",
     "text": [
      "Epoch 200, Loss 0.0211\n",
      "Training Accuracy: 0.9760, Testing Accuracy: 0.9728\n",
      "\n"
     ]
    },
    {
     "name": "stdout",
     "output_type": "stream",
     "text": [
      "Epoch 210, Loss 0.0206\n",
      "Training Accuracy: 0.9764, Testing Accuracy: 0.9728\n",
      "\n"
     ]
    },
    {
     "name": "stdout",
     "output_type": "stream",
     "text": [
      "Epoch 220, Loss 0.0202\n",
      "Training Accuracy: 0.9768, Testing Accuracy: 0.9728\n",
      "\n"
     ]
    },
    {
     "name": "stdout",
     "output_type": "stream",
     "text": [
      "Epoch 230, Loss 0.0199\n",
      "Training Accuracy: 0.9770, Testing Accuracy: 0.9728\n",
      "\n"
     ]
    },
    {
     "name": "stdout",
     "output_type": "stream",
     "text": [
      "Epoch 240, Loss 0.0195\n",
      "Training Accuracy: 0.9775, Testing Accuracy: 0.9738\n",
      "\n"
     ]
    },
    {
     "name": "stdout",
     "output_type": "stream",
     "text": [
      "Epoch 250, Loss 0.0191\n",
      "Training Accuracy: 0.9781, Testing Accuracy: 0.9733\n",
      "\n"
     ]
    },
    {
     "data": {
      "text/plain": [
       "0.008761158392516014"
      ]
     },
     "execution_count": 20,
     "metadata": {},
     "output_type": "execute_result"
    }
   ],
   "source": [
    "print(\"====== Neural Network ======\")\n",
    "learner_nn.train_loop(dl)"
   ]
  },
  {
   "cell_type": "markdown",
   "metadata": {
    "papermill": {
     "duration": 0.036629,
     "end_time": "2020-08-20T00:07:42.370467",
     "exception": false,
     "start_time": "2020-08-20T00:07:42.333838",
     "status": "completed"
    },
    "tags": []
   },
   "source": [
    "### Logistic Regression based Implementation."
   ]
  },
  {
   "cell_type": "code",
   "execution_count": 21,
   "metadata": {
    "execution": {
     "iopub.execute_input": "2020-08-20T00:07:42.449243Z",
     "iopub.status.busy": "2020-08-20T00:07:42.448622Z",
     "iopub.status.idle": "2020-08-20T00:07:42.462507Z",
     "shell.execute_reply": "2020-08-20T00:07:42.463001Z"
    },
    "papermill": {
     "duration": 0.055185,
     "end_time": "2020-08-20T00:07:42.463148",
     "exception": false,
     "start_time": "2020-08-20T00:07:42.407963",
     "status": "completed"
    },
    "tags": []
   },
   "outputs": [],
   "source": [
    "learner_lr = Learner(loss, model_lr, opt, config.num_epochs)\n",
    "acc_lr = ClfCallback(learner_lr, config.bs, training_xdata , testing_xdata, training_ydata, testing_ydata)\n",
    "learner_lr.set_callbacks([acc_lr])"
   ]
  },
  {
   "cell_type": "code",
   "execution_count": 22,
   "metadata": {
    "execution": {
     "iopub.execute_input": "2020-08-20T00:07:42.548300Z",
     "iopub.status.busy": "2020-08-20T00:07:42.544731Z",
     "iopub.status.idle": "2020-08-20T00:08:01.293149Z",
     "shell.execute_reply": "2020-08-20T00:08:01.293832Z"
    },
    "papermill": {
     "duration": 18.794595,
     "end_time": "2020-08-20T00:08:01.294016",
     "exception": false,
     "start_time": "2020-08-20T00:07:42.499421",
     "status": "completed"
    },
    "tags": []
   },
   "outputs": [
    {
     "name": "stdout",
     "output_type": "stream",
     "text": [
      "====== Logistic Regression ======\n",
      "Epoch 0, Loss 0.2454\n",
      "Training Accuracy: 0.6635, Testing Accuracy: 0.6941\n",
      "\n"
     ]
    },
    {
     "name": "stdout",
     "output_type": "stream",
     "text": [
      "Epoch 10, Loss 0.1071\n",
      "Training Accuracy: 0.8968, Testing Accuracy: 0.9113\n",
      "\n"
     ]
    },
    {
     "name": "stdout",
     "output_type": "stream",
     "text": [
      "Epoch 20, Loss 0.0824\n",
      "Training Accuracy: 0.9198, Testing Accuracy: 0.9325\n",
      "\n"
     ]
    },
    {
     "name": "stdout",
     "output_type": "stream",
     "text": [
      "Epoch 30, Loss 0.0707\n",
      "Training Accuracy: 0.9308, Testing Accuracy: 0.9425\n",
      "\n"
     ]
    },
    {
     "name": "stdout",
     "output_type": "stream",
     "text": [
      "Epoch 40, Loss 0.0637\n",
      "Training Accuracy: 0.9367, Testing Accuracy: 0.9461\n",
      "\n"
     ]
    },
    {
     "name": "stdout",
     "output_type": "stream",
     "text": [
      "Epoch 50, Loss 0.0589\n",
      "Training Accuracy: 0.9406, Testing Accuracy: 0.9516\n",
      "\n"
     ]
    },
    {
     "name": "stdout",
     "output_type": "stream",
     "text": [
      "Epoch 60, Loss 0.0553\n",
      "Training Accuracy: 0.9434, Testing Accuracy: 0.9546\n",
      "\n"
     ]
    },
    {
     "name": "stdout",
     "output_type": "stream",
     "text": [
      "Epoch 70, Loss 0.0526\n",
      "Training Accuracy: 0.9456, Testing Accuracy: 0.9572\n",
      "\n"
     ]
    },
    {
     "name": "stdout",
     "output_type": "stream",
     "text": [
      "Epoch 80, Loss 0.0504\n",
      "Training Accuracy: 0.9473, Testing Accuracy: 0.9607\n",
      "\n"
     ]
    },
    {
     "name": "stdout",
     "output_type": "stream",
     "text": [
      "Epoch 90, Loss 0.0485\n",
      "Training Accuracy: 0.9491, Testing Accuracy: 0.9617\n",
      "\n"
     ]
    },
    {
     "name": "stdout",
     "output_type": "stream",
     "text": [
      "Epoch 100, Loss 0.047\n",
      "Training Accuracy: 0.9505, Testing Accuracy: 0.9627\n",
      "\n"
     ]
    },
    {
     "name": "stdout",
     "output_type": "stream",
     "text": [
      "Epoch 110, Loss 0.0457\n",
      "Training Accuracy: 0.9518, Testing Accuracy: 0.9637\n",
      "\n"
     ]
    },
    {
     "name": "stdout",
     "output_type": "stream",
     "text": [
      "Epoch 120, Loss 0.0446\n",
      "Training Accuracy: 0.9533, Testing Accuracy: 0.9642\n",
      "\n"
     ]
    },
    {
     "name": "stdout",
     "output_type": "stream",
     "text": [
      "Epoch 130, Loss 0.0436\n",
      "Training Accuracy: 0.9539, Testing Accuracy: 0.9657\n",
      "\n"
     ]
    },
    {
     "name": "stdout",
     "output_type": "stream",
     "text": [
      "Epoch 140, Loss 0.0427\n",
      "Training Accuracy: 0.9549, Testing Accuracy: 0.9657\n",
      "\n"
     ]
    },
    {
     "name": "stdout",
     "output_type": "stream",
     "text": [
      "Epoch 150, Loss 0.0419\n",
      "Training Accuracy: 0.9557, Testing Accuracy: 0.9657\n",
      "\n"
     ]
    },
    {
     "name": "stdout",
     "output_type": "stream",
     "text": [
      "Epoch 160, Loss 0.0412\n",
      "Training Accuracy: 0.9559, Testing Accuracy: 0.9657\n",
      "\n"
     ]
    },
    {
     "name": "stdout",
     "output_type": "stream",
     "text": [
      "Epoch 170, Loss 0.0405\n",
      "Training Accuracy: 0.9569, Testing Accuracy: 0.9662\n",
      "\n"
     ]
    },
    {
     "name": "stdout",
     "output_type": "stream",
     "text": [
      "Epoch 180, Loss 0.0399\n",
      "Training Accuracy: 0.9580, Testing Accuracy: 0.9657\n",
      "\n"
     ]
    },
    {
     "name": "stdout",
     "output_type": "stream",
     "text": [
      "Epoch 190, Loss 0.0393\n",
      "Training Accuracy: 0.9585, Testing Accuracy: 0.9662\n",
      "\n"
     ]
    },
    {
     "name": "stdout",
     "output_type": "stream",
     "text": [
      "Epoch 200, Loss 0.0388\n",
      "Training Accuracy: 0.9589, Testing Accuracy: 0.9667\n",
      "\n"
     ]
    },
    {
     "name": "stdout",
     "output_type": "stream",
     "text": [
      "Epoch 210, Loss 0.0384\n",
      "Training Accuracy: 0.9593, Testing Accuracy: 0.9672\n",
      "\n"
     ]
    },
    {
     "name": "stdout",
     "output_type": "stream",
     "text": [
      "Epoch 220, Loss 0.0379\n",
      "Training Accuracy: 0.9597, Testing Accuracy: 0.9672\n",
      "\n"
     ]
    },
    {
     "name": "stdout",
     "output_type": "stream",
     "text": [
      "Epoch 230, Loss 0.0375\n",
      "Training Accuracy: 0.9600, Testing Accuracy: 0.9672\n",
      "\n"
     ]
    },
    {
     "name": "stdout",
     "output_type": "stream",
     "text": [
      "Epoch 240, Loss 0.0371\n",
      "Training Accuracy: 0.9604, Testing Accuracy: 0.9672\n",
      "\n"
     ]
    },
    {
     "name": "stdout",
     "output_type": "stream",
     "text": [
      "Epoch 250, Loss 0.0368\n",
      "Training Accuracy: 0.9607, Testing Accuracy: 0.9667\n",
      "\n"
     ]
    },
    {
     "data": {
      "text/plain": [
       "0.03833007220511771"
      ]
     },
     "execution_count": 22,
     "metadata": {},
     "output_type": "execute_result"
    }
   ],
   "source": [
    "print(\"====== Logistic Regression ======\")\n",
    "learner_lr.train_loop(dl)"
   ]
  },
  {
   "cell_type": "markdown",
   "metadata": {
    "papermill": {
     "duration": 0.050492,
     "end_time": "2020-08-20T00:08:01.394906",
     "exception": false,
     "start_time": "2020-08-20T00:08:01.344414",
     "status": "completed"
    },
    "tags": []
   },
   "source": [
    "### Comparing results of NN and LR"
   ]
  },
  {
   "cell_type": "code",
   "execution_count": 23,
   "metadata": {
    "execution": {
     "iopub.execute_input": "2020-08-20T00:08:01.499055Z",
     "iopub.status.busy": "2020-08-20T00:08:01.498350Z",
     "iopub.status.idle": "2020-08-20T00:08:01.763137Z",
     "shell.execute_reply": "2020-08-20T00:08:01.762067Z"
    },
    "papermill": {
     "duration": 0.318784,
     "end_time": "2020-08-20T00:08:01.763290",
     "exception": false,
     "start_time": "2020-08-20T00:08:01.444506",
     "status": "completed"
    },
    "tags": []
   },
   "outputs": [
    {
     "data": {
      "text/plain": [
       "<matplotlib.legend.Legend at 0x7ff8d80499e8>"
      ]
     },
     "execution_count": 23,
     "metadata": {},
     "output_type": "execute_result"
    },
    {
     "data": {
      "image/png": "[encoded data removed]",
      "text/plain": [
       "<Figure size 1080x720 with 1 Axes>"
      ]
     },
     "metadata": {
      "needs_background": "light"
     },
     "output_type": "display_data"
    }
   ],
   "source": [
    "plt.figure(figsize=(15,10))\n",
    "\n",
    "# Neural Network plots\n",
    "plt.plot(acc_nn.accuracies, 'r-', label = \"Training Accuracies - NN\")\n",
    "plt.plot(acc_nn.test_accuracies, 'g-', label = \"Testing Accuracies - NN\")\n",
    "\n",
    "# Logistic Regression plots\n",
    "plt.plot(acc_lr.accuracies, 'k-', label = \"Training Accuracies - LR\")\n",
    "plt.plot(acc_lr.test_accuracies, 'b-', label = \"Testing Accuracies - LR\")\n",
    "\n",
    "plt.ylim(0.8, 1)\n",
    "\n",
    "plt.legend()\n",
    "\n"
   ]
  },
  {
   "cell_type": "markdown",
   "metadata": {
    "papermill": {
     "duration": 0.046339,
     "end_time": "2020-08-20T00:08:01.855520",
     "exception": false,
     "start_time": "2020-08-20T00:08:01.809181",
     "status": "completed"
    },
    "tags": []
   },
   "source": [
    "### From the plot, we can observe the following:\n",
    "- Neural Network achieves higher accuracy than the Logistic Regression model.\n",
    "- This apparently, is because of overfitting, i.e. NN captures more noise than data.\n",
    "- Testing accuracy of NN drops below the Training accuracy at higher epochs. This explains the over-fitting on training data.\n",
    "- Logistic Regression gives a reliable accuracy, without the above mentioned problem.\n"
   ]
  },
  {
   "cell_type": "markdown",
   "metadata": {
    "papermill": {
     "duration": 0.04484,
     "end_time": "2020-08-20T00:08:01.947213",
     "exception": false,
     "start_time": "2020-08-20T00:08:01.902373",
     "status": "completed"
    },
    "tags": []
   },
   "source": [
    "### Moving till the last but one layer (excluding it).\n",
    "#### Plotting the outputs of this layer of the NN."
   ]
  },
  {
   "cell_type": "code",
   "execution_count": 24,
   "metadata": {
    "execution": {
     "iopub.execute_input": "2020-08-20T00:08:02.043261Z",
     "iopub.status.busy": "2020-08-20T00:08:02.042626Z",
     "iopub.status.idle": "2020-08-20T00:08:02.055770Z",
     "shell.execute_reply": "2020-08-20T00:08:02.056293Z"
    },
    "papermill": {
     "duration": 0.062423,
     "end_time": "2020-08-20T00:08:02.056437",
     "exception": false,
     "start_time": "2020-08-20T00:08:01.994014",
     "status": "completed"
    },
    "tags": []
   },
   "outputs": [],
   "source": [
    "model_new = Model(layers[:-2])"
   ]
  },
  {
   "cell_type": "code",
   "execution_count": 25,
   "metadata": {
    "execution": {
     "iopub.execute_input": "2020-08-20T00:08:02.158486Z",
     "iopub.status.busy": "2020-08-20T00:08:02.157892Z",
     "iopub.status.idle": "2020-08-20T00:08:02.180316Z",
     "shell.execute_reply": "2020-08-20T00:08:02.180921Z"
    },
    "papermill": {
     "duration": 0.075341,
     "end_time": "2020-08-20T00:08:02.181100",
     "exception": false,
     "start_time": "2020-08-20T00:08:02.105759",
     "status": "completed"
    },
    "tags": []
   },
   "outputs": [],
   "source": [
    "plot_testing = model_new(testing_xdata)"
   ]
  },
  {
   "cell_type": "code",
   "execution_count": 26,
   "metadata": {
    "execution": {
     "iopub.execute_input": "2020-08-20T00:08:02.278191Z",
     "iopub.status.busy": "2020-08-20T00:08:02.277600Z",
     "iopub.status.idle": "2020-08-20T00:08:02.500262Z",
     "shell.execute_reply": "2020-08-20T00:08:02.501112Z"
    },
    "papermill": {
     "duration": 0.272744,
     "end_time": "2020-08-20T00:08:02.501284",
     "exception": false,
     "start_time": "2020-08-20T00:08:02.228540",
     "status": "completed"
    },
    "tags": []
   },
   "outputs": [
    {
     "data": {
      "text/plain": [
       "Text(0.5, 1.0, 'Outputs')"
      ]
     },
     "execution_count": 26,
     "metadata": {},
     "output_type": "execute_result"
    },
    {
     "data": {
      "image/png": "[encoded data removed]",
      "text/plain": [
       "<Figure size 576x504 with 1 Axes>"
      ]
     },
     "metadata": {
      "needs_background": "light"
     },
     "output_type": "display_data"
    }
   ],
   "source": [
    "plt.figure(figsize=(8,7))\n",
    "plt.scatter(plot_testing[:,0], plot_testing[:,1], alpha = 0.1, c = y_test.ravel());\n",
    "plt.title('Outputs')"
   ]
  },
  {
   "cell_type": "markdown",
   "metadata": {
    "papermill": {
     "duration": 0.047674,
     "end_time": "2020-08-20T00:08:02.596238",
     "exception": false,
     "start_time": "2020-08-20T00:08:02.548564",
     "status": "completed"
    },
    "tags": []
   },
   "source": [
    "### Plotting probability contours"
   ]
  },
  {
   "cell_type": "code",
   "execution_count": 27,
   "metadata": {
    "execution": {
     "iopub.execute_input": "2020-08-20T00:08:02.698890Z",
     "iopub.status.busy": "2020-08-20T00:08:02.698295Z",
     "iopub.status.idle": "2020-08-20T00:08:02.710051Z",
     "shell.execute_reply": "2020-08-20T00:08:02.710504Z"
    },
    "papermill": {
     "duration": 0.063891,
     "end_time": "2020-08-20T00:08:02.710648",
     "exception": false,
     "start_time": "2020-08-20T00:08:02.646757",
     "status": "completed"
    },
    "tags": []
   },
   "outputs": [],
   "source": [
    "model_prob = Model(layers[-2:]) "
   ]
  },
  {
   "cell_type": "code",
   "execution_count": 28,
   "metadata": {
    "execution": {
     "iopub.execute_input": "2020-08-20T00:08:02.808257Z",
     "iopub.status.busy": "2020-08-20T00:08:02.807632Z",
     "iopub.status.idle": "2020-08-20T00:08:02.821306Z",
     "shell.execute_reply": "2020-08-20T00:08:02.821814Z"
    },
    "papermill": {
     "duration": 0.064603,
     "end_time": "2020-08-20T00:08:02.821966",
     "exception": false,
     "start_time": "2020-08-20T00:08:02.757363",
     "status": "completed"
    },
    "tags": []
   },
   "outputs": [],
   "source": [
    "# Adjust the x and y ranges according to the above generated plot.\n",
    "x_range = np.linspace(-4, 1, 100) \n",
    "y_range = np.linspace(-6, 6, 100) \n",
    "x_grid, y_grid = np.meshgrid(x_range, y_range) # x_grid and y_grig are of size 100 X 100\n",
    "\n",
    "# converting x_grid and y_grid to continuous arrays\n",
    "x_grid_flat = np.ravel(x_grid)\n",
    "y_grid_flat = np.ravel(y_grid)\n",
    "\n",
    "# The last layer of the current model takes two columns as input. Hence transpose of np.vstack() is required.\n",
    "X = np.vstack((x_grid_flat, y_grid_flat)).T\n",
    "\n",
    "# x_grid and y_grid are of size 100 x 100\n",
    "probability_contour = model_prob(X).reshape(100,100) "
   ]
  },
  {
   "cell_type": "code",
   "execution_count": 29,
   "metadata": {
    "execution": {
     "iopub.execute_input": "2020-08-20T00:08:02.931142Z",
     "iopub.status.busy": "2020-08-20T00:08:02.930547Z",
     "iopub.status.idle": "2020-08-20T00:08:03.203160Z",
     "shell.execute_reply": "2020-08-20T00:08:03.203626Z"
    },
    "papermill": {
     "duration": 0.334138,
     "end_time": "2020-08-20T00:08:03.203797",
     "exception": false,
     "start_time": "2020-08-20T00:08:02.869659",
     "status": "completed"
    },
    "tags": []
   },
   "outputs": [
    {
     "data": {
      "image/png": "[encoded data removed]",
      "text/plain": [
       "<Figure size 720x648 with 1 Axes>"
      ]
     },
     "metadata": {
      "needs_background": "light"
     },
     "output_type": "display_data"
    }
   ],
   "source": [
    "plt.figure(figsize=(10,9))\n",
    "plt.scatter(plot_testing[:,0], plot_testing[:,1], alpha = 0.1, c = y_test.ravel())\n",
    "contours = plt.contour(x_grid,y_grid,probability_contour)\n",
    "plt.title('Probability Contours')\n",
    "plt.clabel(contours, inline = True );"
   ]
  }
 ],
 "metadata": {
  "kernelspec": {
   "display_name": "Python 3",
   "language": "python",
   "name": "python3"
  },
  "language_info": {
   "codemirror_mode": {
    "name": "ipython",
    "version": 3
   },
   "file_extension": ".py",
   "mimetype": "text/x-python",
   "name": "python",
   "nbconvert_exporter": "python",
   "pygments_lexer": "ipython3",
   "version": "3.6.11"
  },
  "papermill": {
   "duration": 153.369161,
   "end_time": "2020-08-20T00:08:03.581450",
   "environment_variables": {},
   "exception": null,
   "input_path": "2020-08-11-NeuralNetwork.ipynb",
   "output_path": "2020-08-11-NeuralNetwork.ipynb",
   "parameters": {},
   "start_time": "2020-08-20T00:05:30.212289",
   "version": "2.1.2"
  }
 },
 "nbformat": 4,
 "nbformat_minor": 4
}