{
 "cells": [
  {
   "cell_type": "markdown",
   "metadata": {
    "papermill": {
     "duration": 0.030868,
     "end_time": "2020-12-07T20:04:13.034078",
     "exception": false,
     "start_time": "2020-12-07T20:04:13.003210",
     "status": "completed"
    },
    "tags": []
   },
   "source": [
    "# \"A Basic Neural Network: Differentiate Hand-Written Digits\"\n",
    "\n",
    "- badges: true\n",
    "- author: Akshith Sriram"
   ]
  },
  {
   "cell_type": "markdown",
   "metadata": {
    "papermill": {
     "duration": 0.026428,
     "end_time": "2020-12-07T20:04:13.087233",
     "exception": false,
     "start_time": "2020-12-07T20:04:13.060805",
     "status": "completed"
    },
    "tags": []
   },
   "source": [
    "### Key Objectives:\n",
    "- Building a neural network that differentiates two hand-written digits 3 and 8.\n",
    "- Comparing the results of this Neural Network (NN) to that of a Logistic Regression (LR) model.\n",
    "\n",
    "### Requirements:\n",
    "- 'Kudzu' : A neural network library that was designed during our course by [Univ.AI](www.univ.ai). \n",
    "- MNIST Database\n",
    "\n",
    "If MNIST is not installed, use the command `!pip install mnist` given below.\n",
    "It can be run both from the command line and Jupyter Notebook."
   ]
  },
  {
   "cell_type": "code",
   "execution_count": 1,
   "metadata": {
    "execution": {
     "iopub.execute_input": "2020-12-07T20:04:13.143394Z",
     "iopub.status.busy": "2020-12-07T20:04:13.142777Z",
     "iopub.status.idle": "2020-12-07T20:04:14.627230Z",
     "shell.execute_reply": "2020-12-07T20:04:14.627727Z"
    },
    "papermill": {
     "duration": 1.514581,
     "end_time": "2020-12-07T20:04:14.627913",
     "exception": false,
     "start_time": "2020-12-07T20:04:13.113332",
     "status": "completed"
    },
    "tags": []
   },
   "outputs": [
    {
     "name": "stdout",
     "output_type": "stream",
     "text": [
      "Collecting mnist\r\n"
     ]
    },
    {
     "name": "stdout",
     "output_type": "stream",
     "text": [
      "  Downloading mnist-0.2.2-py2.py3-none-any.whl (3.5 kB)\r\n",
      "Requirement already satisfied: numpy in /opt/hostedtoolcache/Python/3.6.12/x64/lib/python3.6/site-packages (from mnist) (1.19.4)\r\n"
     ]
    },
    {
     "name": "stdout",
     "output_type": "stream",
     "text": [
      "Installing collected packages: mnist\r\n"
     ]
    },
    {
     "name": "stdout",
     "output_type": "stream",
     "text": [
      "Successfully installed mnist-0.2.2\r\n"
     ]
    },
    {
     "name": "stdout",
     "output_type": "stream",
     "text": [
      "\u001b[33mWARNING: You are using pip version 20.2.4; however, version 20.3.1 is available.\r\n",
      "You should consider upgrading via the '/opt/hostedtoolcache/Python/3.6.12/x64/bin/python -m pip install --upgrade pip' command.\u001b[0m\r\n"
     ]
    }
   ],
   "source": [
    "!pip install mnist "
   ]
  },
  {
   "cell_type": "markdown",
   "metadata": {
    "papermill": {
     "duration": 0.026967,
     "end_time": "2020-12-07T20:04:14.682501",
     "exception": false,
     "start_time": "2020-12-07T20:04:14.655534",
     "status": "completed"
    },
    "tags": []
   },
   "source": [
    "#### Importing necessary libraries"
   ]
  },
  {
   "cell_type": "code",
   "execution_count": 2,
   "metadata": {
    "execution": {
     "iopub.execute_input": "2020-12-07T20:04:14.753320Z",
     "iopub.status.busy": "2020-12-07T20:04:14.752681Z",
     "iopub.status.idle": "2020-12-07T20:04:15.320014Z",
     "shell.execute_reply": "2020-12-07T20:04:15.318970Z"
    },
    "papermill": {
     "duration": 0.606828,
     "end_time": "2020-12-07T20:04:15.320163",
     "exception": false,
     "start_time": "2020-12-07T20:04:14.713335",
     "status": "completed"
    },
    "tags": []
   },
   "outputs": [],
   "source": [
    "%load_ext autoreload\n",
    "%autoreload 2\n",
    "\n",
    "%matplotlib inline\n",
    "import matplotlib.pyplot as plt\n",
    "\n",
    "import numpy as np\n",
    "import pandas as pd"
   ]
  },
  {
   "cell_type": "markdown",
   "metadata": {
    "papermill": {
     "duration": 0.025666,
     "end_time": "2020-12-07T20:04:15.371347",
     "exception": false,
     "start_time": "2020-12-07T20:04:15.345681",
     "status": "completed"
    },
    "tags": []
   },
   "source": [
    "### Preparing the Data"
   ]
  },
  {
   "cell_type": "code",
   "execution_count": 3,
   "metadata": {
    "execution": {
     "iopub.execute_input": "2020-12-07T20:04:15.434276Z",
     "iopub.status.busy": "2020-12-07T20:04:15.427540Z",
     "iopub.status.idle": "2020-12-07T20:04:15.439900Z",
     "shell.execute_reply": "2020-12-07T20:04:15.440406Z"
    },
    "papermill": {
     "duration": 0.043477,
     "end_time": "2020-12-07T20:04:15.440817",
     "exception": false,
     "start_time": "2020-12-07T20:04:15.397340",
     "status": "completed"
    },
    "tags": []
   },
   "outputs": [],
   "source": [
    "import mnist"
   ]
  },
  {
   "cell_type": "code",
   "execution_count": 4,
   "metadata": {
    "execution": {
     "iopub.execute_input": "2020-12-07T20:04:15.504817Z",
     "iopub.status.busy": "2020-12-07T20:04:15.504254Z",
     "iopub.status.idle": "2020-12-07T20:04:16.257582Z",
     "shell.execute_reply": "2020-12-07T20:04:16.257011Z"
    },
    "papermill": {
     "duration": 0.784386,
     "end_time": "2020-12-07T20:04:16.257724",
     "exception": false,
     "start_time": "2020-12-07T20:04:15.473338",
     "status": "completed"
    },
    "tags": []
   },
   "outputs": [],
   "source": [
    "train_images = mnist.train_images()\n",
    "train_labels = mnist.train_labels()"
   ]
  },
  {
   "cell_type": "code",
   "execution_count": 5,
   "metadata": {
    "execution": {
     "iopub.execute_input": "2020-12-07T20:04:16.316851Z",
     "iopub.status.busy": "2020-12-07T20:04:16.316300Z",
     "iopub.status.idle": "2020-12-07T20:04:16.332573Z",
     "shell.execute_reply": "2020-12-07T20:04:16.333022Z"
    },
    "papermill": {
     "duration": 0.048588,
     "end_time": "2020-12-07T20:04:16.333184",
     "exception": false,
     "start_time": "2020-12-07T20:04:16.284596",
     "status": "completed"
    },
    "tags": []
   },
   "outputs": [
    {
     "data": {
      "text/plain": [
       "((60000, 28, 28), (60000,))"
      ]
     },
     "execution_count": 5,
     "metadata": {},
     "output_type": "execute_result"
    }
   ],
   "source": [
    "train_images.shape, train_labels.shape"
   ]
  },
  {
   "cell_type": "code",
   "execution_count": 6,
   "metadata": {
    "execution": {
     "iopub.execute_input": "2020-12-07T20:04:16.390037Z",
     "iopub.status.busy": "2020-12-07T20:04:16.389262Z",
     "iopub.status.idle": "2020-12-07T20:04:16.666703Z",
     "shell.execute_reply": "2020-12-07T20:04:16.665839Z"
    },
    "papermill": {
     "duration": 0.307434,
     "end_time": "2020-12-07T20:04:16.666836",
     "exception": false,
     "start_time": "2020-12-07T20:04:16.359402",
     "status": "completed"
    },
    "tags": []
   },
   "outputs": [],
   "source": [
    "test_images = mnist.test_images()\n",
    "test_labels = mnist.test_labels()"
   ]
  },
  {
   "cell_type": "code",
   "execution_count": 7,
   "metadata": {
    "execution": {
     "iopub.execute_input": "2020-12-07T20:04:16.728362Z",
     "iopub.status.busy": "2020-12-07T20:04:16.727778Z",
     "iopub.status.idle": "2020-12-07T20:04:16.741323Z",
     "shell.execute_reply": "2020-12-07T20:04:16.740784Z"
    },
    "papermill": {
     "duration": 0.046071,
     "end_time": "2020-12-07T20:04:16.741444",
     "exception": false,
     "start_time": "2020-12-07T20:04:16.695373",
     "status": "completed"
    },
    "tags": []
   },
   "outputs": [
    {
     "data": {
      "text/plain": [
       "((10000, 28, 28), (10000,))"
      ]
     },
     "execution_count": 7,
     "metadata": {},
     "output_type": "execute_result"
    }
   ],
   "source": [
    "test_images.shape, test_labels.shape"
   ]
  },
  {
   "cell_type": "code",
   "execution_count": 8,
   "metadata": {
    "execution": {
     "iopub.execute_input": "2020-12-07T20:04:16.804709Z",
     "iopub.status.busy": "2020-12-07T20:04:16.804118Z",
     "iopub.status.idle": "2020-12-07T20:04:16.951501Z",
     "shell.execute_reply": "2020-12-07T20:04:16.950976Z"
    },
    "papermill": {
     "duration": 0.182901,
     "end_time": "2020-12-07T20:04:16.951634",
     "exception": false,
     "start_time": "2020-12-07T20:04:16.768733",
     "status": "completed"
    },
    "tags": []
   },
   "outputs": [
    {
     "name": "stdout",
     "output_type": "stream",
     "text": [
      "2\n"
     ]
    },
    {
     "data": {
      "text/plain": [
       "<matplotlib.image.AxesImage at 0x7f92645c4358>"
      ]
     },
     "execution_count": 8,
     "metadata": {},
     "output_type": "execute_result"
    },
    {
     "data": {
      "image/png": "[encoded data removed]",
      "text/plain": [
       "<Figure size 432x288 with 1 Axes>"
      ]
     },
     "metadata": {
      "needs_background": "light"
     },
     "output_type": "display_data"
    }
   ],
   "source": [
    "image_index = 7776 # You may select anything up to 60,000\n",
    "print(train_labels[image_index]) \n",
    "plt.imshow(train_images[image_index], cmap='Greys')"
   ]
  },
  {
   "cell_type": "markdown",
   "metadata": {
    "papermill": {
     "duration": 0.027561,
     "end_time": "2020-12-07T20:04:17.007734",
     "exception": false,
     "start_time": "2020-12-07T20:04:16.980173",
     "status": "completed"
    },
    "tags": []
   },
   "source": [
    "## Filter data to get 3 and 8 out"
   ]
  },
  {
   "cell_type": "code",
   "execution_count": 9,
   "metadata": {
    "execution": {
     "iopub.execute_input": "2020-12-07T20:04:17.074068Z",
     "iopub.status.busy": "2020-12-07T20:04:17.069037Z",
     "iopub.status.idle": "2020-12-07T20:04:17.087639Z",
     "shell.execute_reply": "2020-12-07T20:04:17.087091Z"
    },
    "papermill": {
     "duration": 0.051692,
     "end_time": "2020-12-07T20:04:17.087771",
     "exception": false,
     "start_time": "2020-12-07T20:04:17.036079",
     "status": "completed"
    },
    "tags": []
   },
   "outputs": [],
   "source": [
    "train_filter = np.where((train_labels == 3 ) | (train_labels == 8))\n",
    "test_filter = np.where((test_labels == 3) | (test_labels == 8))\n",
    "X_train, y_train = train_images[train_filter], train_labels[train_filter]\n",
    "X_test, y_test = test_images[test_filter], test_labels[test_filter]"
   ]
  },
  {
   "cell_type": "markdown",
   "metadata": {
    "papermill": {
     "duration": 0.039419,
     "end_time": "2020-12-07T20:04:17.157336",
     "exception": false,
     "start_time": "2020-12-07T20:04:17.117917",
     "status": "completed"
    },
    "tags": []
   },
   "source": [
    "We normalize the pixel values in the 0 to 1 range"
   ]
  },
  {
   "cell_type": "code",
   "execution_count": 10,
   "metadata": {
    "execution": {
     "iopub.execute_input": "2020-12-07T20:04:17.223755Z",
     "iopub.status.busy": "2020-12-07T20:04:17.223100Z",
     "iopub.status.idle": "2020-12-07T20:04:17.274602Z",
     "shell.execute_reply": "2020-12-07T20:04:17.273928Z"
    },
    "papermill": {
     "duration": 0.08822,
     "end_time": "2020-12-07T20:04:17.274731",
     "exception": false,
     "start_time": "2020-12-07T20:04:17.186511",
     "status": "completed"
    },
    "tags": []
   },
   "outputs": [],
   "source": [
    "X_train = X_train/255.\n",
    "X_test = X_test/255."
   ]
  },
  {
   "cell_type": "markdown",
   "metadata": {
    "papermill": {
     "duration": 0.029091,
     "end_time": "2020-12-07T20:04:17.333410",
     "exception": false,
     "start_time": "2020-12-07T20:04:17.304319",
     "status": "completed"
    },
    "tags": []
   },
   "source": [
    "Setup the labels as 1 (when the digit is 3) and 0 (when the digit is 8)"
   ]
  },
  {
   "cell_type": "code",
   "execution_count": 11,
   "metadata": {
    "execution": {
     "iopub.execute_input": "2020-12-07T20:04:17.397768Z",
     "iopub.status.busy": "2020-12-07T20:04:17.396737Z",
     "iopub.status.idle": "2020-12-07T20:04:17.410511Z",
     "shell.execute_reply": "2020-12-07T20:04:17.410008Z"
    },
    "papermill": {
     "duration": 0.04784,
     "end_time": "2020-12-07T20:04:17.410653",
     "exception": false,
     "start_time": "2020-12-07T20:04:17.362813",
     "status": "completed"
    },
    "tags": []
   },
   "outputs": [],
   "source": [
    "y_train = 1*(y_train==3)\n",
    "y_test = 1*(y_test==3)"
   ]
  },
  {
   "cell_type": "code",
   "execution_count": 12,
   "metadata": {
    "execution": {
     "iopub.execute_input": "2020-12-07T20:04:17.477849Z",
     "iopub.status.busy": "2020-12-07T20:04:17.476998Z",
     "iopub.status.idle": "2020-12-07T20:04:17.489006Z",
     "shell.execute_reply": "2020-12-07T20:04:17.488485Z"
    },
    "papermill": {
     "duration": 0.049433,
     "end_time": "2020-12-07T20:04:17.489136",
     "exception": false,
     "start_time": "2020-12-07T20:04:17.439703",
     "status": "completed"
    },
    "tags": []
   },
   "outputs": [
    {
     "data": {
      "text/plain": [
       "((11982, 28, 28), (1984, 28, 28))"
      ]
     },
     "execution_count": 12,
     "metadata": {},
     "output_type": "execute_result"
    }
   ],
   "source": [
    "X_train.shape, X_test.shape"
   ]
  },
  {
   "cell_type": "markdown",
   "metadata": {
    "papermill": {
     "duration": 0.03506,
     "end_time": "2020-12-07T20:04:17.554412",
     "exception": false,
     "start_time": "2020-12-07T20:04:17.519352",
     "status": "completed"
    },
    "tags": []
   },
   "source": [
    "### Reshape the input data to create a linear array"
   ]
  },
  {
   "cell_type": "code",
   "execution_count": 13,
   "metadata": {
    "execution": {
     "iopub.execute_input": "2020-12-07T20:04:17.617805Z",
     "iopub.status.busy": "2020-12-07T20:04:17.617185Z",
     "iopub.status.idle": "2020-12-07T20:04:17.632880Z",
     "shell.execute_reply": "2020-12-07T20:04:17.632381Z"
    },
    "papermill": {
     "duration": 0.04939,
     "end_time": "2020-12-07T20:04:17.633006",
     "exception": false,
     "start_time": "2020-12-07T20:04:17.583616",
     "status": "completed"
    },
    "tags": []
   },
   "outputs": [
    {
     "data": {
      "text/plain": [
       "((11982, 784), (1984, 784))"
      ]
     },
     "execution_count": 13,
     "metadata": {},
     "output_type": "execute_result"
    }
   ],
   "source": [
    "X_train = X_train.reshape(X_train.shape[0], -1)\n",
    "X_test = X_test.reshape(X_test.shape[0], -1)\n",
    "X_train.shape, X_test.shape"
   ]
  },
  {
   "cell_type": "markdown",
   "metadata": {
    "papermill": {
     "duration": 0.028176,
     "end_time": "2020-12-07T20:04:17.690078",
     "exception": false,
     "start_time": "2020-12-07T20:04:17.661902",
     "status": "completed"
    },
    "tags": []
   },
   "source": [
    "### Importing appropriate functions from 'Kudzu'"
   ]
  },
  {
   "cell_type": "code",
   "execution_count": 14,
   "metadata": {
    "execution": {
     "iopub.execute_input": "2020-12-07T20:04:17.754197Z",
     "iopub.status.busy": "2020-12-07T20:04:17.753608Z",
     "iopub.status.idle": "2020-12-07T20:04:17.773579Z",
     "shell.execute_reply": "2020-12-07T20:04:17.773019Z"
    },
    "papermill": {
     "duration": 0.055086,
     "end_time": "2020-12-07T20:04:17.773712",
     "exception": false,
     "start_time": "2020-12-07T20:04:17.718626",
     "status": "completed"
    },
    "tags": []
   },
   "outputs": [],
   "source": [
    "from kudzu.layer import Sigmoid\n",
    "from kudzu.layer import Relu\n",
    "from kudzu.layer import Affine, Sigmoid\n",
    "\n",
    "from kudzu.model import Model\n",
    "from kudzu.train import Learner\n",
    "from kudzu.optim import GD\n",
    "from kudzu.data import Data, Dataloader, Sampler\n",
    "\n",
    "from kudzu.callbacks import AccCallback\n",
    "from kudzu.callbacks import ClfCallback\n",
    "\n",
    "from kudzu.loss import MSE"
   ]
  },
  {
   "cell_type": "markdown",
   "metadata": {
    "papermill": {
     "duration": 0.029948,
     "end_time": "2020-12-07T20:04:17.833428",
     "exception": false,
     "start_time": "2020-12-07T20:04:17.803480",
     "status": "completed"
    },
    "tags": []
   },
   "source": [
    "### Let us create a `Config` class, to store important parameters. \n",
    "This class essentially plays the role of a dictionary."
   ]
  },
  {
   "cell_type": "code",
   "execution_count": 15,
   "metadata": {
    "execution": {
     "iopub.execute_input": "2020-12-07T20:04:17.903546Z",
     "iopub.status.busy": "2020-12-07T20:04:17.902995Z",
     "iopub.status.idle": "2020-12-07T20:04:17.918350Z",
     "shell.execute_reply": "2020-12-07T20:04:17.917826Z"
    },
    "papermill": {
     "duration": 0.050932,
     "end_time": "2020-12-07T20:04:17.918476",
     "exception": false,
     "start_time": "2020-12-07T20:04:17.867544",
     "status": "completed"
    },
    "tags": []
   },
   "outputs": [],
   "source": [
    "class Config:\n",
    "    pass\n",
    "config = Config()\n",
    "config.lr = 0.001\n",
    "config.num_epochs = 251\n",
    "config.bs = 50"
   ]
  },
  {
   "cell_type": "markdown",
   "metadata": {
    "papermill": {
     "duration": 0.029988,
     "end_time": "2020-12-07T20:04:17.978447",
     "exception": false,
     "start_time": "2020-12-07T20:04:17.948459",
     "status": "completed"
    },
    "tags": []
   },
   "source": [
    "### Initializing data to the variables"
   ]
  },
  {
   "cell_type": "code",
   "execution_count": 16,
   "metadata": {
    "execution": {
     "iopub.execute_input": "2020-12-07T20:04:18.043249Z",
     "iopub.status.busy": "2020-12-07T20:04:18.042619Z",
     "iopub.status.idle": "2020-12-07T20:04:18.056923Z",
     "shell.execute_reply": "2020-12-07T20:04:18.057466Z"
    },
    "papermill": {
     "duration": 0.048547,
     "end_time": "2020-12-07T20:04:18.057628",
     "exception": false,
     "start_time": "2020-12-07T20:04:18.009081",
     "status": "completed"
    },
    "tags": []
   },
   "outputs": [],
   "source": [
    "data = Data(X_train, y_train.reshape(-1,1))\n",
    "sampler = Sampler(data, config.bs, shuffle=True)\n",
    "\n",
    "dl = Dataloader(data, sampler)\n",
    "\n",
    "opt = GD(config.lr)\n",
    "loss = MSE()"
   ]
  },
  {
   "cell_type": "code",
   "execution_count": 17,
   "metadata": {
    "execution": {
     "iopub.execute_input": "2020-12-07T20:04:18.125739Z",
     "iopub.status.busy": "2020-12-07T20:04:18.125094Z",
     "iopub.status.idle": "2020-12-07T20:04:18.138869Z",
     "shell.execute_reply": "2020-12-07T20:04:18.138383Z"
    },
    "papermill": {
     "duration": 0.050574,
     "end_time": "2020-12-07T20:04:18.139002",
     "exception": false,
     "start_time": "2020-12-07T20:04:18.088428",
     "status": "completed"
    },
    "tags": []
   },
   "outputs": [],
   "source": [
    "training_xdata = X_train\n",
    "testing_xdata = X_test\n",
    "training_ydata = y_train.reshape(-1,1)\n",
    "testing_ydata = y_test.reshape(-1,1)"
   ]
  },
  {
   "cell_type": "markdown",
   "metadata": {
    "papermill": {
     "duration": 0.033888,
     "end_time": "2020-12-07T20:04:18.205828",
     "exception": false,
     "start_time": "2020-12-07T20:04:18.171940",
     "status": "completed"
    },
    "tags": []
   },
   "source": [
    "### Running Models with the Training data\n",
    "Details about the network layers:\n",
    "- A first affine layer has 784 inputs and does 100 affine transforms. These are followed by a Relu\n",
    "- A second affine layer has 100 inputs from the 100 activations of the past layer, and does 100 affine transforms. These are followed by a Relu\n",
    "- A third affine layer has 100 activations and does 2 affine transformations to create an embedding for visualization. There is no non-linearity here.\n",
    "- A final \"logistic regression\" which has an affine transform from 2 inputs to 1 output, which is squeezed through a sigmoid.\n",
    "\n",
    "Help taken from Anshuman's Notebook."
   ]
  },
  {
   "cell_type": "code",
   "execution_count": 18,
   "metadata": {
    "execution": {
     "iopub.execute_input": "2020-12-07T20:04:18.281935Z",
     "iopub.status.busy": "2020-12-07T20:04:18.281301Z",
     "iopub.status.idle": "2020-12-07T20:04:18.299899Z",
     "shell.execute_reply": "2020-12-07T20:04:18.299306Z"
    },
    "papermill": {
     "duration": 0.056091,
     "end_time": "2020-12-07T20:04:18.300048",
     "exception": false,
     "start_time": "2020-12-07T20:04:18.243957",
     "status": "completed"
    },
    "tags": []
   },
   "outputs": [],
   "source": [
    "# layers for the Neural Network\n",
    "layers = [Affine(\"first\", 784, 100), Relu(\"first\"), Affine(\"second\", 100, 100), Relu(\"second\"), Affine(\"third\", 100, 2), Affine(\"final\", 2, 1), Sigmoid(\"final\")]\n",
    "model_nn = Model(layers)\n",
    "\n",
    "# layers for the Logistic Regression\n",
    "layers_lr = [Affine(\"logits\", 784, 1), Sigmoid(\"sigmoid\")]\n",
    "model_lr = Model(layers_lr)"
   ]
  },
  {
   "cell_type": "code",
   "execution_count": 19,
   "metadata": {
    "execution": {
     "iopub.execute_input": "2020-12-07T20:04:18.373748Z",
     "iopub.status.busy": "2020-12-07T20:04:18.373058Z",
     "iopub.status.idle": "2020-12-07T20:04:18.384147Z",
     "shell.execute_reply": "2020-12-07T20:04:18.383653Z"
    },
    "papermill": {
     "duration": 0.05212,
     "end_time": "2020-12-07T20:04:18.384293",
     "exception": false,
     "start_time": "2020-12-07T20:04:18.332173",
     "status": "completed"
    },
    "tags": []
   },
   "outputs": [],
   "source": [
    "# suffix _nn stands for Neural Network.\n",
    "learner_nn = Learner(loss, model_nn, opt, config.num_epochs)\n",
    "acc_nn = ClfCallback(learner_nn, config.bs, training_xdata , testing_xdata, training_ydata, testing_ydata)\n",
    "learner_nn.set_callbacks([acc_nn])"
   ]
  },
  {
   "cell_type": "code",
   "execution_count": 20,
   "metadata": {
    "execution": {
     "iopub.execute_input": "2020-12-07T20:04:18.450578Z",
     "iopub.status.busy": "2020-12-07T20:04:18.449891Z",
     "iopub.status.idle": "2020-12-07T20:05:43.579579Z",
     "shell.execute_reply": "2020-12-07T20:05:43.579091Z"
    },
    "papermill": {
     "duration": 85.164309,
     "end_time": "2020-12-07T20:05:43.579712",
     "exception": false,
     "start_time": "2020-12-07T20:04:18.415403",
     "status": "completed"
    },
    "tags": []
   },
   "outputs": [
    {
     "name": "stdout",
     "output_type": "stream",
     "text": [
      "====== Neural Network ======\n"
     ]
    },
    {
     "name": "stdout",
     "output_type": "stream",
     "text": [
      "Epoch 0, Loss 0.2552\n",
      "Training Accuracy: 0.6027, Testing Accuracy: 0.5786\n",
      "\n"
     ]
    },
    {
     "name": "stdout",
     "output_type": "stream",
     "text": [
      "Epoch 10, Loss 0.0827\n",
      "Training Accuracy: 0.9190, Testing Accuracy: 0.9269\n",
      "\n"
     ]
    },
    {
     "name": "stdout",
     "output_type": "stream",
     "text": [
      "Epoch 20, Loss 0.0524\n",
      "Training Accuracy: 0.9411, Testing Accuracy: 0.9516\n",
      "\n"
     ]
    },
    {
     "name": "stdout",
     "output_type": "stream",
     "text": [
      "Epoch 30, Loss 0.0421\n",
      "Training Accuracy: 0.9515, Testing Accuracy: 0.9602\n",
      "\n"
     ]
    },
    {
     "name": "stdout",
     "output_type": "stream",
     "text": [
      "Epoch 40, Loss 0.0369\n",
      "Training Accuracy: 0.9579, Testing Accuracy: 0.9672\n",
      "\n"
     ]
    },
    {
     "name": "stdout",
     "output_type": "stream",
     "text": [
      "Epoch 50, Loss 0.0336\n",
      "Training Accuracy: 0.9602, Testing Accuracy: 0.9688\n",
      "\n"
     ]
    },
    {
     "name": "stdout",
     "output_type": "stream",
     "text": [
      "Epoch 60, Loss 0.0313\n",
      "Training Accuracy: 0.9633, Testing Accuracy: 0.9698\n",
      "\n"
     ]
    },
    {
     "name": "stdout",
     "output_type": "stream",
     "text": [
      "Epoch 70, Loss 0.0295\n",
      "Training Accuracy: 0.9652, Testing Accuracy: 0.9698\n",
      "\n"
     ]
    },
    {
     "name": "stdout",
     "output_type": "stream",
     "text": [
      "Epoch 80, Loss 0.028\n",
      "Training Accuracy: 0.9661, Testing Accuracy: 0.9703\n",
      "\n"
     ]
    },
    {
     "name": "stdout",
     "output_type": "stream",
     "text": [
      "Epoch 90, Loss 0.0268\n",
      "Training Accuracy: 0.9672, Testing Accuracy: 0.9708\n",
      "\n"
     ]
    },
    {
     "name": "stdout",
     "output_type": "stream",
     "text": [
      "Epoch 100, Loss 0.0258\n",
      "Training Accuracy: 0.9689, Testing Accuracy: 0.9698\n",
      "\n"
     ]
    },
    {
     "name": "stdout",
     "output_type": "stream",
     "text": [
      "Epoch 110, Loss 0.0249\n",
      "Training Accuracy: 0.9700, Testing Accuracy: 0.9703\n",
      "\n"
     ]
    },
    {
     "name": "stdout",
     "output_type": "stream",
     "text": [
      "Epoch 120, Loss 0.0241\n",
      "Training Accuracy: 0.9715, Testing Accuracy: 0.9708\n",
      "\n"
     ]
    },
    {
     "name": "stdout",
     "output_type": "stream",
     "text": [
      "Epoch 130, Loss 0.0233\n",
      "Training Accuracy: 0.9722, Testing Accuracy: 0.9713\n",
      "\n"
     ]
    },
    {
     "name": "stdout",
     "output_type": "stream",
     "text": [
      "Epoch 140, Loss 0.0227\n",
      "Training Accuracy: 0.9731, Testing Accuracy: 0.9713\n",
      "\n"
     ]
    },
    {
     "name": "stdout",
     "output_type": "stream",
     "text": [
      "Epoch 150, Loss 0.022\n",
      "Training Accuracy: 0.9745, Testing Accuracy: 0.9733\n",
      "\n"
     ]
    },
    {
     "name": "stdout",
     "output_type": "stream",
     "text": [
      "Epoch 160, Loss 0.0214\n",
      "Training Accuracy: 0.9755, Testing Accuracy: 0.9738\n",
      "\n"
     ]
    },
    {
     "name": "stdout",
     "output_type": "stream",
     "text": [
      "Epoch 170, Loss 0.0208\n",
      "Training Accuracy: 0.9760, Testing Accuracy: 0.9748\n",
      "\n"
     ]
    },
    {
     "name": "stdout",
     "output_type": "stream",
     "text": [
      "Epoch 180, Loss 0.0203\n",
      "Training Accuracy: 0.9767, Testing Accuracy: 0.9743\n",
      "\n"
     ]
    },
    {
     "name": "stdout",
     "output_type": "stream",
     "text": [
      "Epoch 190, Loss 0.0198\n",
      "Training Accuracy: 0.9775, Testing Accuracy: 0.9753\n",
      "\n"
     ]
    },
    {
     "name": "stdout",
     "output_type": "stream",
     "text": [
      "Epoch 200, Loss 0.0193\n",
      "Training Accuracy: 0.9782, Testing Accuracy: 0.9753\n",
      "\n"
     ]
    },
    {
     "name": "stdout",
     "output_type": "stream",
     "text": [
      "Epoch 210, Loss 0.0188\n",
      "Training Accuracy: 0.9791, Testing Accuracy: 0.9758\n",
      "\n"
     ]
    },
    {
     "name": "stdout",
     "output_type": "stream",
     "text": [
      "Epoch 220, Loss 0.0184\n",
      "Training Accuracy: 0.9795, Testing Accuracy: 0.9758\n",
      "\n"
     ]
    },
    {
     "name": "stdout",
     "output_type": "stream",
     "text": [
      "Epoch 230, Loss 0.018\n",
      "Training Accuracy: 0.9801, Testing Accuracy: 0.9763\n",
      "\n"
     ]
    },
    {
     "name": "stdout",
     "output_type": "stream",
     "text": [
      "Epoch 240, Loss 0.0176\n",
      "Training Accuracy: 0.9805, Testing Accuracy: 0.9768\n",
      "\n"
     ]
    },
    {
     "name": "stdout",
     "output_type": "stream",
     "text": [
      "Epoch 250, Loss 0.0172\n",
      "Training Accuracy: 0.9812, Testing Accuracy: 0.9768\n",
      "\n"
     ]
    },
    {
     "data": {
      "text/plain": [
       "0.004220701955311243"
      ]
     },
     "execution_count": 20,
     "metadata": {},
     "output_type": "execute_result"
    }
   ],
   "source": [
    "print(\"====== Neural Network ======\")\n",
    "learner_nn.train_loop(dl)"
   ]
  },
  {
   "cell_type": "markdown",
   "metadata": {
    "papermill": {
     "duration": 0.036088,
     "end_time": "2020-12-07T20:05:43.653683",
     "exception": false,
     "start_time": "2020-12-07T20:05:43.617595",
     "status": "completed"
    },
    "tags": []
   },
   "source": [
    "### Logistic Regression based Implementation."
   ]
  },
  {
   "cell_type": "code",
   "execution_count": 21,
   "metadata": {
    "execution": {
     "iopub.execute_input": "2020-12-07T20:05:43.730971Z",
     "iopub.status.busy": "2020-12-07T20:05:43.730423Z",
     "iopub.status.idle": "2020-12-07T20:05:43.742841Z",
     "shell.execute_reply": "2020-12-07T20:05:43.743279Z"
    },
    "papermill": {
     "duration": 0.053484,
     "end_time": "2020-12-07T20:05:43.743420",
     "exception": false,
     "start_time": "2020-12-07T20:05:43.689936",
     "status": "completed"
    },
    "tags": []
   },
   "outputs": [],
   "source": [
    "learner_lr = Learner(loss, model_lr, opt, config.num_epochs)\n",
    "acc_lr = ClfCallback(learner_lr, config.bs, training_xdata , testing_xdata, training_ydata, testing_ydata)\n",
    "learner_lr.set_callbacks([acc_lr])"
   ]
  },
  {
   "cell_type": "code",
   "execution_count": 22,
   "metadata": {
    "execution": {
     "iopub.execute_input": "2020-12-07T20:05:43.818815Z",
     "iopub.status.busy": "2020-12-07T20:05:43.817886Z",
     "iopub.status.idle": "2020-12-07T20:05:59.052877Z",
     "shell.execute_reply": "2020-12-07T20:05:59.053477Z"
    },
    "papermill": {
     "duration": 15.274199,
     "end_time": "2020-12-07T20:05:59.053634",
     "exception": false,
     "start_time": "2020-12-07T20:05:43.779435",
     "status": "completed"
    },
    "tags": []
   },
   "outputs": [
    {
     "name": "stdout",
     "output_type": "stream",
     "text": [
      "====== Logistic Regression ======\n",
      "Epoch 0, Loss 0.2134\n",
      "Training Accuracy: 0.7659, Testing Accuracy: 0.7898\n",
      "\n"
     ]
    },
    {
     "name": "stdout",
     "output_type": "stream",
     "text": [
      "Epoch 10, Loss 0.1009\n",
      "Training Accuracy: 0.9072, Testing Accuracy: 0.9204\n",
      "\n"
     ]
    },
    {
     "name": "stdout",
     "output_type": "stream",
     "text": [
      "Epoch 20, Loss 0.079\n",
      "Training Accuracy: 0.9241, Testing Accuracy: 0.9380\n",
      "\n"
     ]
    },
    {
     "name": "stdout",
     "output_type": "stream",
     "text": [
      "Epoch 30, Loss 0.0685\n",
      "Training Accuracy: 0.9337, Testing Accuracy: 0.9466\n",
      "\n"
     ]
    },
    {
     "name": "stdout",
     "output_type": "stream",
     "text": [
      "Epoch 40, Loss 0.062\n",
      "Training Accuracy: 0.9383, Testing Accuracy: 0.9496\n",
      "\n"
     ]
    },
    {
     "name": "stdout",
     "output_type": "stream",
     "text": [
      "Epoch 50, Loss 0.0576\n",
      "Training Accuracy: 0.9426, Testing Accuracy: 0.9536\n",
      "\n"
     ]
    },
    {
     "name": "stdout",
     "output_type": "stream",
     "text": [
      "Epoch 60, Loss 0.0543\n",
      "Training Accuracy: 0.9458, Testing Accuracy: 0.9561\n",
      "\n"
     ]
    },
    {
     "name": "stdout",
     "output_type": "stream",
     "text": [
      "Epoch 70, Loss 0.0517\n",
      "Training Accuracy: 0.9482, Testing Accuracy: 0.9567\n",
      "\n"
     ]
    },
    {
     "name": "stdout",
     "output_type": "stream",
     "text": [
      "Epoch 80, Loss 0.0496\n",
      "Training Accuracy: 0.9496, Testing Accuracy: 0.9592\n",
      "\n"
     ]
    },
    {
     "name": "stdout",
     "output_type": "stream",
     "text": [
      "Epoch 90, Loss 0.0479\n",
      "Training Accuracy: 0.9508, Testing Accuracy: 0.9597\n",
      "\n"
     ]
    },
    {
     "name": "stdout",
     "output_type": "stream",
     "text": [
      "Epoch 100, Loss 0.0465\n",
      "Training Accuracy: 0.9516, Testing Accuracy: 0.9607\n",
      "\n"
     ]
    },
    {
     "name": "stdout",
     "output_type": "stream",
     "text": [
      "Epoch 110, Loss 0.0452\n",
      "Training Accuracy: 0.9529, Testing Accuracy: 0.9612\n",
      "\n"
     ]
    },
    {
     "name": "stdout",
     "output_type": "stream",
     "text": [
      "Epoch 120, Loss 0.0441\n",
      "Training Accuracy: 0.9542, Testing Accuracy: 0.9637\n",
      "\n"
     ]
    },
    {
     "name": "stdout",
     "output_type": "stream",
     "text": [
      "Epoch 130, Loss 0.0432\n",
      "Training Accuracy: 0.9555, Testing Accuracy: 0.9632\n",
      "\n"
     ]
    },
    {
     "name": "stdout",
     "output_type": "stream",
     "text": [
      "Epoch 140, Loss 0.0423\n",
      "Training Accuracy: 0.9562, Testing Accuracy: 0.9642\n",
      "\n"
     ]
    },
    {
     "name": "stdout",
     "output_type": "stream",
     "text": [
      "Epoch 150, Loss 0.0415\n",
      "Training Accuracy: 0.9569, Testing Accuracy: 0.9642\n",
      "\n"
     ]
    },
    {
     "name": "stdout",
     "output_type": "stream",
     "text": [
      "Epoch 160, Loss 0.0408\n",
      "Training Accuracy: 0.9577, Testing Accuracy: 0.9647\n",
      "\n"
     ]
    },
    {
     "name": "stdout",
     "output_type": "stream",
     "text": [
      "Epoch 170, Loss 0.0402\n",
      "Training Accuracy: 0.9585, Testing Accuracy: 0.9647\n",
      "\n"
     ]
    },
    {
     "name": "stdout",
     "output_type": "stream",
     "text": [
      "Epoch 180, Loss 0.0396\n",
      "Training Accuracy: 0.9587, Testing Accuracy: 0.9652\n",
      "\n"
     ]
    },
    {
     "name": "stdout",
     "output_type": "stream",
     "text": [
      "Epoch 190, Loss 0.0391\n",
      "Training Accuracy: 0.9593, Testing Accuracy: 0.9657\n",
      "\n"
     ]
    },
    {
     "name": "stdout",
     "output_type": "stream",
     "text": [
      "Epoch 200, Loss 0.0386\n",
      "Training Accuracy: 0.9594, Testing Accuracy: 0.9677\n",
      "\n"
     ]
    },
    {
     "name": "stdout",
     "output_type": "stream",
     "text": [
      "Epoch 210, Loss 0.0382\n",
      "Training Accuracy: 0.9599, Testing Accuracy: 0.9677\n",
      "\n"
     ]
    },
    {
     "name": "stdout",
     "output_type": "stream",
     "text": [
      "Epoch 220, Loss 0.0377\n",
      "Training Accuracy: 0.9601, Testing Accuracy: 0.9672\n",
      "\n"
     ]
    },
    {
     "name": "stdout",
     "output_type": "stream",
     "text": [
      "Epoch 230, Loss 0.0373\n",
      "Training Accuracy: 0.9603, Testing Accuracy: 0.9672\n",
      "\n"
     ]
    },
    {
     "name": "stdout",
     "output_type": "stream",
     "text": [
      "Epoch 240, Loss 0.037\n",
      "Training Accuracy: 0.9604, Testing Accuracy: 0.9672\n",
      "\n"
     ]
    },
    {
     "name": "stdout",
     "output_type": "stream",
     "text": [
      "Epoch 250, Loss 0.0366\n",
      "Training Accuracy: 0.9610, Testing Accuracy: 0.9667\n",
      "\n"
     ]
    },
    {
     "data": {
      "text/plain": [
       "0.02987907260769071"
      ]
     },
     "execution_count": 22,
     "metadata": {},
     "output_type": "execute_result"
    }
   ],
   "source": [
    "print(\"====== Logistic Regression ======\")\n",
    "learner_lr.train_loop(dl)"
   ]
  },
  {
   "cell_type": "markdown",
   "metadata": {
    "papermill": {
     "duration": 0.044193,
     "end_time": "2020-12-07T20:05:59.142092",
     "exception": false,
     "start_time": "2020-12-07T20:05:59.097899",
     "status": "completed"
    },
    "tags": []
   },
   "source": [
    "### Comparing results of NN and LR"
   ]
  },
  {
   "cell_type": "code",
   "execution_count": 23,
   "metadata": {
    "execution": {
     "iopub.execute_input": "2020-12-07T20:05:59.234157Z",
     "iopub.status.busy": "2020-12-07T20:05:59.233538Z",
     "iopub.status.idle": "2020-12-07T20:05:59.475602Z",
     "shell.execute_reply": "2020-12-07T20:05:59.474851Z"
    },
    "papermill": {
     "duration": 0.290769,
     "end_time": "2020-12-07T20:05:59.475736",
     "exception": false,
     "start_time": "2020-12-07T20:05:59.184967",
     "status": "completed"
    },
    "tags": []
   },
   "outputs": [
    {
     "data": {
      "text/plain": [
       "<matplotlib.legend.Legend at 0x7f9262197c88>"
      ]
     },
     "execution_count": 23,
     "metadata": {},
     "output_type": "execute_result"
    },
    {
     "data": {
      "image/png": "[encoded data removed]",
      "text/plain": [
       "<Figure size 1080x720 with 1 Axes>"
      ]
     },
     "metadata": {
      "needs_background": "light"
     },
     "output_type": "display_data"
    }
   ],
   "source": [
    "plt.figure(figsize=(15,10))\n",
    "\n",
    "# Neural Network plots\n",
    "plt.plot(acc_nn.accuracies, 'r-', label = \"Training Accuracies - NN\")\n",
    "plt.plot(acc_nn.test_accuracies, 'g-', label = \"Testing Accuracies - NN\")\n",
    "\n",
    "# Logistic Regression plots\n",
    "plt.plot(acc_lr.accuracies, 'k-', label = \"Training Accuracies - LR\")\n",
    "plt.plot(acc_lr.test_accuracies, 'b-', label = \"Testing Accuracies - LR\")\n",
    "\n",
    "plt.ylim(0.8, 1)\n",
    "\n",
    "plt.legend()\n",
    "\n"
   ]
  },
  {
   "cell_type": "markdown",
   "metadata": {
    "papermill": {
     "duration": 0.045469,
     "end_time": "2020-12-07T20:05:59.568212",
     "exception": false,
     "start_time": "2020-12-07T20:05:59.522743",
     "status": "completed"
    },
    "tags": []
   },
   "source": [
    "### From the plot, we can observe the following:\n",
    "- Neural Network achieves higher accuracy than the Logistic Regression model.\n",
    "- This apparently, is because of overfitting, i.e. NN captures more noise than data.\n",
    "- Testing accuracy of NN drops below the Training accuracy at higher epochs. This explains the over-fitting on training data.\n",
    "- Logistic Regression gives a reliable accuracy, without the above mentioned problem.\n"
   ]
  },
  {
   "cell_type": "markdown",
   "metadata": {
    "papermill": {
     "duration": 0.043988,
     "end_time": "2020-12-07T20:05:59.658540",
     "exception": false,
     "start_time": "2020-12-07T20:05:59.614552",
     "status": "completed"
    },
    "tags": []
   },
   "source": [
    "### Moving till the last but one layer (excluding it).\n",
    "#### Plotting the outputs of this layer of the NN."
   ]
  },
  {
   "cell_type": "code",
   "execution_count": 24,
   "metadata": {
    "execution": {
     "iopub.execute_input": "2020-12-07T20:05:59.752235Z",
     "iopub.status.busy": "2020-12-07T20:05:59.751646Z",
     "iopub.status.idle": "2020-12-07T20:05:59.763411Z",
     "shell.execute_reply": "2020-12-07T20:05:59.763848Z"
    },
    "papermill": {
     "duration": 0.061429,
     "end_time": "2020-12-07T20:05:59.763983",
     "exception": false,
     "start_time": "2020-12-07T20:05:59.702554",
     "status": "completed"
    },
    "tags": []
   },
   "outputs": [],
   "source": [
    "model_new = Model(layers[:-2])"
   ]
  },
  {
   "cell_type": "code",
   "execution_count": 25,
   "metadata": {
    "execution": {
     "iopub.execute_input": "2020-12-07T20:05:59.862403Z",
     "iopub.status.busy": "2020-12-07T20:05:59.861488Z",
     "iopub.status.idle": "2020-12-07T20:05:59.881606Z",
     "shell.execute_reply": "2020-12-07T20:05:59.882068Z"
    },
    "papermill": {
     "duration": 0.074055,
     "end_time": "2020-12-07T20:05:59.882211",
     "exception": false,
     "start_time": "2020-12-07T20:05:59.808156",
     "status": "completed"
    },
    "tags": []
   },
   "outputs": [],
   "source": [
    "plot_testing = model_new(testing_xdata)"
   ]
  },
  {
   "cell_type": "code",
   "execution_count": 26,
   "metadata": {
    "execution": {
     "iopub.execute_input": "2020-12-07T20:05:59.978771Z",
     "iopub.status.busy": "2020-12-07T20:05:59.978190Z",
     "iopub.status.idle": "2020-12-07T20:06:00.196901Z",
     "shell.execute_reply": "2020-12-07T20:06:00.196381Z"
    },
    "papermill": {
     "duration": 0.268404,
     "end_time": "2020-12-07T20:06:00.197032",
     "exception": false,
     "start_time": "2020-12-07T20:05:59.928628",
     "status": "completed"
    },
    "tags": []
   },
   "outputs": [
    {
     "data": {
      "text/plain": [
       "Text(0.5, 1.0, 'Outputs')"
      ]
     },
     "execution_count": 26,
     "metadata": {},
     "output_type": "execute_result"
    },
    {
     "data": {
      "image/png": "[encoded data removed]",
      "text/plain": [
       "<Figure size 576x504 with 1 Axes>"
      ]
     },
     "metadata": {
      "needs_background": "light"
     },
     "output_type": "display_data"
    }
   ],
   "source": [
    "plt.figure(figsize=(8,7))\n",
    "plt.scatter(plot_testing[:,0], plot_testing[:,1], alpha = 0.1, c = y_test.ravel());\n",
    "plt.title('Outputs')"
   ]
  },
  {
   "cell_type": "markdown",
   "metadata": {
    "papermill": {
     "duration": 0.051454,
     "end_time": "2020-12-07T20:06:00.298873",
     "exception": false,
     "start_time": "2020-12-07T20:06:00.247419",
     "status": "completed"
    },
    "tags": []
   },
   "source": [
    "### Plotting probability contours"
   ]
  },
  {
   "cell_type": "code",
   "execution_count": 27,
   "metadata": {
    "execution": {
     "iopub.execute_input": "2020-12-07T20:06:00.413698Z",
     "iopub.status.busy": "2020-12-07T20:06:00.412981Z",
     "iopub.status.idle": "2020-12-07T20:06:00.428422Z",
     "shell.execute_reply": "2020-12-07T20:06:00.427950Z"
    },
    "papermill": {
     "duration": 0.077838,
     "end_time": "2020-12-07T20:06:00.428546",
     "exception": false,
     "start_time": "2020-12-07T20:06:00.350708",
     "status": "completed"
    },
    "tags": []
   },
   "outputs": [],
   "source": [
    "model_prob = Model(layers[-2:]) "
   ]
  },
  {
   "cell_type": "code",
   "execution_count": 28,
   "metadata": {
    "execution": {
     "iopub.execute_input": "2020-12-07T20:06:00.536074Z",
     "iopub.status.busy": "2020-12-07T20:06:00.535443Z",
     "iopub.status.idle": "2020-12-07T20:06:00.549564Z",
     "shell.execute_reply": "2020-12-07T20:06:00.550407Z"
    },
    "papermill": {
     "duration": 0.072383,
     "end_time": "2020-12-07T20:06:00.550570",
     "exception": false,
     "start_time": "2020-12-07T20:06:00.478187",
     "status": "completed"
    },
    "tags": []
   },
   "outputs": [],
   "source": [
    "# Adjust the x and y ranges according to the above generated plot.\n",
    "x_range = np.linspace(-4, 1, 100) \n",
    "y_range = np.linspace(-6, 6, 100) \n",
    "x_grid, y_grid = np.meshgrid(x_range, y_range) # x_grid and y_grig are of size 100 X 100\n",
    "\n",
    "# converting x_grid and y_grid to continuous arrays\n",
    "x_grid_flat = np.ravel(x_grid)\n",
    "y_grid_flat = np.ravel(y_grid)\n",
    "\n",
    "# The last layer of the current model takes two columns as input. Hence transpose of np.vstack() is required.\n",
    "X = np.vstack((x_grid_flat, y_grid_flat)).T\n",
    "\n",
    "# x_grid and y_grid are of size 100 x 100\n",
    "probability_contour = model_prob(X).reshape(100,100) "
   ]
  },
  {
   "cell_type": "code",
   "execution_count": 29,
   "metadata": {
    "execution": {
     "iopub.execute_input": "2020-12-07T20:06:00.663430Z",
     "iopub.status.busy": "2020-12-07T20:06:00.662333Z",
     "iopub.status.idle": "2020-12-07T20:06:00.929120Z",
     "shell.execute_reply": "2020-12-07T20:06:00.928602Z"
    },
    "papermill": {
     "duration": 0.326547,
     "end_time": "2020-12-07T20:06:00.929276",
     "exception": false,
     "start_time": "2020-12-07T20:06:00.602729",
     "status": "completed"
    },
    "tags": []
   },
   "outputs": [
    {
     "data": {
      "image/png": "[encoded data removed]",
      "text/plain": [
       "<Figure size 720x648 with 1 Axes>"
      ]
     },
     "metadata": {
      "needs_background": "light"
     },
     "output_type": "display_data"
    }
   ],
   "source": [
    "plt.figure(figsize=(10,9))\n",
    "plt.scatter(plot_testing[:,0], plot_testing[:,1], alpha = 0.1, c = y_test.ravel())\n",
    "contours = plt.contour(x_grid,y_grid,probability_contour)\n",
    "plt.title('Probability Contours')\n",
    "plt.clabel(contours, inline = True );"
   ]
  }
 ],
 "metadata": {
  "kernelspec": {
   "display_name": "Python 3",
   "language": "python",
   "name": "python3"
  },
  "language_info": {
   "codemirror_mode": {
    "name": "ipython",
    "version": 3
   },
   "file_extension": ".py",
   "mimetype": "text/x-python",
   "name": "python",
   "nbconvert_exporter": "python",
   "pygments_lexer": "ipython3",
   "version": "3.6.12"
  },
  "papermill": {
   "duration": 110.36199,
   "end_time": "2020-12-07T20:06:02.282492",
   "environment_variables": {},
   "exception": null,
   "input_path": "2020-08-11-NeuralNetwork.ipynb",
   "output_path": "2020-08-11-NeuralNetwork.ipynb",
   "parameters": {},
   "start_time": "2020-12-07T20:04:11.920502",
   "version": "2.1.2"
  }
 },
 "nbformat": 4,
 "nbformat_minor": 4
}