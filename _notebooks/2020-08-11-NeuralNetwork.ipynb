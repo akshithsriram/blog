{
 "cells": [
  {
   "cell_type": "markdown",
   "metadata": {
    "papermill": {
     "duration": 0.026422,
     "end_time": "2020-12-06T00:05:59.709850",
     "exception": false,
     "start_time": "2020-12-06T00:05:59.683428",
     "status": "completed"
    },
    "tags": []
   },
   "source": [
    "# \"A Basic Neural Network: Differentiate Hand-Written Digits\"\n",
    "\n",
    "- badges: true\n",
    "- author: Akshith Sriram"
   ]
  },
  {
   "cell_type": "markdown",
   "metadata": {
    "papermill": {
     "duration": 0.018979,
     "end_time": "2020-12-06T00:05:59.750483",
     "exception": false,
     "start_time": "2020-12-06T00:05:59.731504",
     "status": "completed"
    },
    "tags": []
   },
   "source": [
    "### Key Objectives:\n",
    "- Building a neural network that differentiates two hand-written digits 3 and 8.\n",
    "- Comparing the results of this Neural Network (NN) to that of a Logistic Regression (LR) model.\n",
    "\n",
    "### Requirements:\n",
    "- 'Kudzu' : A neural network library that was designed during our course by [Univ.AI](www.univ.ai). \n",
    "- MNIST Database\n",
    "\n",
    "If MNIST is not installed, use the command `!pip install mnist` given below.\n",
    "It can be run both from the command line and Jupyter Notebook."
   ]
  },
  {
   "cell_type": "code",
   "execution_count": 1,
   "metadata": {
    "execution": {
     "iopub.execute_input": "2020-12-06T00:05:59.793419Z",
     "iopub.status.busy": "2020-12-06T00:05:59.792879Z",
     "iopub.status.idle": "2020-12-06T00:06:01.064757Z",
     "shell.execute_reply": "2020-12-06T00:06:01.063752Z"
    },
    "papermill": {
     "duration": 1.29596,
     "end_time": "2020-12-06T00:06:01.065006",
     "exception": false,
     "start_time": "2020-12-06T00:05:59.769046",
     "status": "completed"
    },
    "tags": []
   },
   "outputs": [
    {
     "name": "stdout",
     "output_type": "stream",
     "text": [
      "Collecting mnist\r\n"
     ]
    },
    {
     "name": "stdout",
     "output_type": "stream",
     "text": [
      "  Downloading mnist-0.2.2-py2.py3-none-any.whl (3.5 kB)\r\n",
      "Requirement already satisfied: numpy in /opt/hostedtoolcache/Python/3.6.12/x64/lib/python3.6/site-packages (from mnist) (1.19.4)\r\n"
     ]
    },
    {
     "name": "stdout",
     "output_type": "stream",
     "text": [
      "Installing collected packages: mnist\r\n",
      "Successfully installed mnist-0.2.2\r\n"
     ]
    },
    {
     "name": "stdout",
     "output_type": "stream",
     "text": [
      "\u001b[33mWARNING: You are using pip version 20.2.4; however, version 20.3.1 is available.\r\n",
      "You should consider upgrading via the '/opt/hostedtoolcache/Python/3.6.12/x64/bin/python -m pip install --upgrade pip' command.\u001b[0m\r\n"
     ]
    }
   ],
   "source": [
    "!pip install mnist "
   ]
  },
  {
   "cell_type": "markdown",
   "metadata": {
    "papermill": {
     "duration": 0.019578,
     "end_time": "2020-12-06T00:06:01.106674",
     "exception": false,
     "start_time": "2020-12-06T00:06:01.087096",
     "status": "completed"
    },
    "tags": []
   },
   "source": [
    "#### Importing necessary libraries"
   ]
  },
  {
   "cell_type": "code",
   "execution_count": 2,
   "metadata": {
    "execution": {
     "iopub.execute_input": "2020-12-06T00:06:01.162189Z",
     "iopub.status.busy": "2020-12-06T00:06:01.160037Z",
     "iopub.status.idle": "2020-12-06T00:06:01.619103Z",
     "shell.execute_reply": "2020-12-06T00:06:01.618092Z"
    },
    "papermill": {
     "duration": 0.490707,
     "end_time": "2020-12-06T00:06:01.619235",
     "exception": false,
     "start_time": "2020-12-06T00:06:01.128528",
     "status": "completed"
    },
    "tags": []
   },
   "outputs": [],
   "source": [
    "%load_ext autoreload\n",
    "%autoreload 2\n",
    "\n",
    "%matplotlib inline\n",
    "import matplotlib.pyplot as plt\n",
    "\n",
    "import numpy as np\n",
    "import pandas as pd"
   ]
  },
  {
   "cell_type": "markdown",
   "metadata": {
    "papermill": {
     "duration": 0.021692,
     "end_time": "2020-12-06T00:06:01.665189",
     "exception": false,
     "start_time": "2020-12-06T00:06:01.643497",
     "status": "completed"
    },
    "tags": []
   },
   "source": [
    "### Preparing the Data"
   ]
  },
  {
   "cell_type": "code",
   "execution_count": 3,
   "metadata": {
    "execution": {
     "iopub.execute_input": "2020-12-06T00:06:01.709815Z",
     "iopub.status.busy": "2020-12-06T00:06:01.709325Z",
     "iopub.status.idle": "2020-12-06T00:06:01.721919Z",
     "shell.execute_reply": "2020-12-06T00:06:01.722319Z"
    },
    "papermill": {
     "duration": 0.035766,
     "end_time": "2020-12-06T00:06:01.722434",
     "exception": false,
     "start_time": "2020-12-06T00:06:01.686668",
     "status": "completed"
    },
    "tags": []
   },
   "outputs": [],
   "source": [
    "import mnist"
   ]
  },
  {
   "cell_type": "code",
   "execution_count": 4,
   "metadata": {
    "execution": {
     "iopub.execute_input": "2020-12-06T00:06:01.766418Z",
     "iopub.status.busy": "2020-12-06T00:06:01.766005Z",
     "iopub.status.idle": "2020-12-06T00:06:02.484553Z",
     "shell.execute_reply": "2020-12-06T00:06:02.483991Z"
    },
    "papermill": {
     "duration": 0.74348,
     "end_time": "2020-12-06T00:06:02.484675",
     "exception": false,
     "start_time": "2020-12-06T00:06:01.741195",
     "status": "completed"
    },
    "tags": []
   },
   "outputs": [],
   "source": [
    "train_images = mnist.train_images()\n",
    "train_labels = mnist.train_labels()"
   ]
  },
  {
   "cell_type": "code",
   "execution_count": 5,
   "metadata": {
    "execution": {
     "iopub.execute_input": "2020-12-06T00:06:02.796813Z",
     "iopub.status.busy": "2020-12-06T00:06:02.796193Z",
     "iopub.status.idle": "2020-12-06T00:06:02.813857Z",
     "shell.execute_reply": "2020-12-06T00:06:02.813219Z"
    },
    "papermill": {
     "duration": 0.061682,
     "end_time": "2020-12-06T00:06:02.813985",
     "exception": false,
     "start_time": "2020-12-06T00:06:02.752303",
     "status": "completed"
    },
    "tags": []
   },
   "outputs": [
    {
     "data": {
      "text/plain": [
       "((60000, 28, 28), (60000,))"
      ]
     },
     "execution_count": 5,
     "metadata": {},
     "output_type": "execute_result"
    }
   ],
   "source": [
    "train_images.shape, train_labels.shape"
   ]
  },
  {
   "cell_type": "code",
   "execution_count": 6,
   "metadata": {
    "execution": {
     "iopub.execute_input": "2020-12-06T00:06:02.907561Z",
     "iopub.status.busy": "2020-12-06T00:06:02.906547Z",
     "iopub.status.idle": "2020-12-06T00:06:03.192432Z",
     "shell.execute_reply": "2020-12-06T00:06:03.191967Z"
    },
    "papermill": {
     "duration": 0.352157,
     "end_time": "2020-12-06T00:06:03.192561",
     "exception": false,
     "start_time": "2020-12-06T00:06:02.840404",
     "status": "completed"
    },
    "tags": []
   },
   "outputs": [],
   "source": [
    "test_images = mnist.test_images()\n",
    "test_labels = mnist.test_labels()"
   ]
  },
  {
   "cell_type": "code",
   "execution_count": 7,
   "metadata": {
    "execution": {
     "iopub.execute_input": "2020-12-06T00:06:03.298951Z",
     "iopub.status.busy": "2020-12-06T00:06:03.297931Z",
     "iopub.status.idle": "2020-12-06T00:06:03.314144Z",
     "shell.execute_reply": "2020-12-06T00:06:03.313689Z"
    },
    "papermill": {
     "duration": 0.098811,
     "end_time": "2020-12-06T00:06:03.314266",
     "exception": false,
     "start_time": "2020-12-06T00:06:03.215455",
     "status": "completed"
    },
    "tags": []
   },
   "outputs": [
    {
     "data": {
      "text/plain": [
       "((10000, 28, 28), (10000,))"
      ]
     },
     "execution_count": 7,
     "metadata": {},
     "output_type": "execute_result"
    }
   ],
   "source": [
    "test_images.shape, test_labels.shape"
   ]
  },
  {
   "cell_type": "code",
   "execution_count": 8,
   "metadata": {
    "execution": {
     "iopub.execute_input": "2020-12-06T00:06:04.052835Z",
     "iopub.status.busy": "2020-12-06T00:06:04.051457Z",
     "iopub.status.idle": "2020-12-06T00:06:04.179494Z",
     "shell.execute_reply": "2020-12-06T00:06:04.179016Z"
    },
    "papermill": {
     "duration": 0.792068,
     "end_time": "2020-12-06T00:06:04.179626",
     "exception": false,
     "start_time": "2020-12-06T00:06:03.387558",
     "status": "completed"
    },
    "tags": []
   },
   "outputs": [
    {
     "name": "stdout",
     "output_type": "stream",
     "text": [
      "2\n"
     ]
    },
    {
     "data": {
      "text/plain": [
       "<matplotlib.image.AxesImage at 0x7fdef4cd0080>"
      ]
     },
     "execution_count": 8,
     "metadata": {},
     "output_type": "execute_result"
    },
    {
     "data": {
      "image/png": "[encoded data removed]",
      "text/plain": [
       "<Figure size 432x288 with 1 Axes>"
      ]
     },
     "metadata": {
      "needs_background": "light"
     },
     "output_type": "display_data"
    }
   ],
   "source": [
    "image_index = 7776 # You may select anything up to 60,000\n",
    "print(train_labels[image_index]) \n",
    "plt.imshow(train_images[image_index], cmap='Greys')"
   ]
  },
  {
   "cell_type": "markdown",
   "metadata": {
    "papermill": {
     "duration": 0.036318,
     "end_time": "2020-12-06T00:06:04.240566",
     "exception": false,
     "start_time": "2020-12-06T00:06:04.204248",
     "status": "completed"
    },
    "tags": []
   },
   "source": [
    "## Filter data to get 3 and 8 out"
   ]
  },
  {
   "cell_type": "code",
   "execution_count": 9,
   "metadata": {
    "execution": {
     "iopub.execute_input": "2020-12-06T00:06:04.350991Z",
     "iopub.status.busy": "2020-12-06T00:06:04.349300Z",
     "iopub.status.idle": "2020-12-06T00:06:04.360718Z",
     "shell.execute_reply": "2020-12-06T00:06:04.360360Z"
    },
    "papermill": {
     "duration": 0.068396,
     "end_time": "2020-12-06T00:06:04.360809",
     "exception": false,
     "start_time": "2020-12-06T00:06:04.292413",
     "status": "completed"
    },
    "tags": []
   },
   "outputs": [],
   "source": [
    "train_filter = np.where((train_labels == 3 ) | (train_labels == 8))\n",
    "test_filter = np.where((test_labels == 3) | (test_labels == 8))\n",
    "X_train, y_train = train_images[train_filter], train_labels[train_filter]\n",
    "X_test, y_test = test_images[test_filter], test_labels[test_filter]"
   ]
  },
  {
   "cell_type": "markdown",
   "metadata": {
    "papermill": {
     "duration": 0.033187,
     "end_time": "2020-12-06T00:06:04.420631",
     "exception": false,
     "start_time": "2020-12-06T00:06:04.387444",
     "status": "completed"
    },
    "tags": []
   },
   "source": [
    "We normalize the pixel values in the 0 to 1 range"
   ]
  },
  {
   "cell_type": "code",
   "execution_count": 10,
   "metadata": {
    "execution": {
     "iopub.execute_input": "2020-12-06T00:06:04.506271Z",
     "iopub.status.busy": "2020-12-06T00:06:04.505743Z",
     "iopub.status.idle": "2020-12-06T00:06:04.552385Z",
     "shell.execute_reply": "2020-12-06T00:06:04.551653Z"
    },
    "papermill": {
     "duration": 0.104039,
     "end_time": "2020-12-06T00:06:04.552507",
     "exception": false,
     "start_time": "2020-12-06T00:06:04.448468",
     "status": "completed"
    },
    "tags": []
   },
   "outputs": [],
   "source": [
    "X_train = X_train/255.\n",
    "X_test = X_test/255."
   ]
  },
  {
   "cell_type": "markdown",
   "metadata": {
    "papermill": {
     "duration": 0.311025,
     "end_time": "2020-12-06T00:06:04.901989",
     "exception": false,
     "start_time": "2020-12-06T00:06:04.590964",
     "status": "completed"
    },
    "tags": []
   },
   "source": [
    "Setup the labels as 1 (when the digit is 3) and 0 (when the digit is 8)"
   ]
  },
  {
   "cell_type": "code",
   "execution_count": 11,
   "metadata": {
    "execution": {
     "iopub.execute_input": "2020-12-06T00:06:05.229066Z",
     "iopub.status.busy": "2020-12-06T00:06:05.228631Z",
     "iopub.status.idle": "2020-12-06T00:06:05.240976Z",
     "shell.execute_reply": "2020-12-06T00:06:05.240015Z"
    },
    "papermill": {
     "duration": 0.038473,
     "end_time": "2020-12-06T00:06:05.241085",
     "exception": false,
     "start_time": "2020-12-06T00:06:05.202612",
     "status": "completed"
    },
    "tags": []
   },
   "outputs": [],
   "source": [
    "y_train = 1*(y_train==3)\n",
    "y_test = 1*(y_test==3)"
   ]
  },
  {
   "cell_type": "code",
   "execution_count": 12,
   "metadata": {
    "execution": {
     "iopub.execute_input": "2020-12-06T00:06:05.290384Z",
     "iopub.status.busy": "2020-12-06T00:06:05.289378Z",
     "iopub.status.idle": "2020-12-06T00:06:05.297529Z",
     "shell.execute_reply": "2020-12-06T00:06:05.297124Z"
    },
    "papermill": {
     "duration": 0.03494,
     "end_time": "2020-12-06T00:06:05.297625",
     "exception": false,
     "start_time": "2020-12-06T00:06:05.262685",
     "status": "completed"
    },
    "tags": []
   },
   "outputs": [
    {
     "data": {
      "text/plain": [
       "((11982, 28, 28), (1984, 28, 28))"
      ]
     },
     "execution_count": 12,
     "metadata": {},
     "output_type": "execute_result"
    }
   ],
   "source": [
    "X_train.shape, X_test.shape"
   ]
  },
  {
   "cell_type": "markdown",
   "metadata": {
    "papermill": {
     "duration": 0.024295,
     "end_time": "2020-12-06T00:06:05.343271",
     "exception": false,
     "start_time": "2020-12-06T00:06:05.318976",
     "status": "completed"
    },
    "tags": []
   },
   "source": [
    "### Reshape the input data to create a linear array"
   ]
  },
  {
   "cell_type": "code",
   "execution_count": 13,
   "metadata": {
    "execution": {
     "iopub.execute_input": "2020-12-06T00:06:05.397224Z",
     "iopub.status.busy": "2020-12-06T00:06:05.396811Z",
     "iopub.status.idle": "2020-12-06T00:06:05.407620Z",
     "shell.execute_reply": "2020-12-06T00:06:05.408002Z"
    },
    "papermill": {
     "duration": 0.042528,
     "end_time": "2020-12-06T00:06:05.408109",
     "exception": false,
     "start_time": "2020-12-06T00:06:05.365581",
     "status": "completed"
    },
    "tags": []
   },
   "outputs": [
    {
     "data": {
      "text/plain": [
       "((11982, 784), (1984, 784))"
      ]
     },
     "execution_count": 13,
     "metadata": {},
     "output_type": "execute_result"
    }
   ],
   "source": [
    "X_train = X_train.reshape(X_train.shape[0], -1)\n",
    "X_test = X_test.reshape(X_test.shape[0], -1)\n",
    "X_train.shape, X_test.shape"
   ]
  },
  {
   "cell_type": "markdown",
   "metadata": {
    "papermill": {
     "duration": 0.021475,
     "end_time": "2020-12-06T00:06:05.450689",
     "exception": false,
     "start_time": "2020-12-06T00:06:05.429214",
     "status": "completed"
    },
    "tags": []
   },
   "source": [
    "### Importing appropriate functions from 'Kudzu'"
   ]
  },
  {
   "cell_type": "code",
   "execution_count": 14,
   "metadata": {
    "execution": {
     "iopub.execute_input": "2020-12-06T00:06:05.499144Z",
     "iopub.status.busy": "2020-12-06T00:06:05.498732Z",
     "iopub.status.idle": "2020-12-06T00:06:05.514507Z",
     "shell.execute_reply": "2020-12-06T00:06:05.514042Z"
    },
    "papermill": {
     "duration": 0.042303,
     "end_time": "2020-12-06T00:06:05.514620",
     "exception": false,
     "start_time": "2020-12-06T00:06:05.472317",
     "status": "completed"
    },
    "tags": []
   },
   "outputs": [],
   "source": [
    "from kudzu.layer import Sigmoid\n",
    "from kudzu.layer import Relu\n",
    "from kudzu.layer import Affine, Sigmoid\n",
    "\n",
    "from kudzu.model import Model\n",
    "from kudzu.train import Learner\n",
    "from kudzu.optim import GD\n",
    "from kudzu.data import Data, Dataloader, Sampler\n",
    "\n",
    "from kudzu.callbacks import AccCallback\n",
    "from kudzu.callbacks import ClfCallback\n",
    "\n",
    "from kudzu.loss import MSE"
   ]
  },
  {
   "cell_type": "markdown",
   "metadata": {
    "papermill": {
     "duration": 0.021919,
     "end_time": "2020-12-06T00:06:05.558461",
     "exception": false,
     "start_time": "2020-12-06T00:06:05.536542",
     "status": "completed"
    },
    "tags": []
   },
   "source": [
    "### Let us create a `Config` class, to store important parameters. \n",
    "This class essentially plays the role of a dictionary."
   ]
  },
  {
   "cell_type": "code",
   "execution_count": 15,
   "metadata": {
    "execution": {
     "iopub.execute_input": "2020-12-06T00:06:05.604497Z",
     "iopub.status.busy": "2020-12-06T00:06:05.603901Z",
     "iopub.status.idle": "2020-12-06T00:06:05.617648Z",
     "shell.execute_reply": "2020-12-06T00:06:05.617251Z"
    },
    "papermill": {
     "duration": 0.03861,
     "end_time": "2020-12-06T00:06:05.617743",
     "exception": false,
     "start_time": "2020-12-06T00:06:05.579133",
     "status": "completed"
    },
    "tags": []
   },
   "outputs": [],
   "source": [
    "class Config:\n",
    "    pass\n",
    "config = Config()\n",
    "config.lr = 0.001\n",
    "config.num_epochs = 251\n",
    "config.bs = 50"
   ]
  },
  {
   "cell_type": "markdown",
   "metadata": {
    "papermill": {
     "duration": 0.021787,
     "end_time": "2020-12-06T00:06:05.660786",
     "exception": false,
     "start_time": "2020-12-06T00:06:05.638999",
     "status": "completed"
    },
    "tags": []
   },
   "source": [
    "### Initializing data to the variables"
   ]
  },
  {
   "cell_type": "code",
   "execution_count": 16,
   "metadata": {
    "execution": {
     "iopub.execute_input": "2020-12-06T00:06:05.708414Z",
     "iopub.status.busy": "2020-12-06T00:06:05.707804Z",
     "iopub.status.idle": "2020-12-06T00:06:05.719401Z",
     "shell.execute_reply": "2020-12-06T00:06:05.719807Z"
    },
    "papermill": {
     "duration": 0.038393,
     "end_time": "2020-12-06T00:06:05.719934",
     "exception": false,
     "start_time": "2020-12-06T00:06:05.681541",
     "status": "completed"
    },
    "tags": []
   },
   "outputs": [],
   "source": [
    "data = Data(X_train, y_train.reshape(-1,1))\n",
    "sampler = Sampler(data, config.bs, shuffle=True)\n",
    "\n",
    "dl = Dataloader(data, sampler)\n",
    "\n",
    "opt = GD(config.lr)\n",
    "loss = MSE()"
   ]
  },
  {
   "cell_type": "code",
   "execution_count": 17,
   "metadata": {
    "execution": {
     "iopub.execute_input": "2020-12-06T00:06:05.771687Z",
     "iopub.status.busy": "2020-12-06T00:06:05.771152Z",
     "iopub.status.idle": "2020-12-06T00:06:05.781119Z",
     "shell.execute_reply": "2020-12-06T00:06:05.781606Z"
    },
    "papermill": {
     "duration": 0.038343,
     "end_time": "2020-12-06T00:06:05.781727",
     "exception": false,
     "start_time": "2020-12-06T00:06:05.743384",
     "status": "completed"
    },
    "tags": []
   },
   "outputs": [],
   "source": [
    "training_xdata = X_train\n",
    "testing_xdata = X_test\n",
    "training_ydata = y_train.reshape(-1,1)\n",
    "testing_ydata = y_test.reshape(-1,1)"
   ]
  },
  {
   "cell_type": "markdown",
   "metadata": {
    "papermill": {
     "duration": 0.021569,
     "end_time": "2020-12-06T00:06:05.824643",
     "exception": false,
     "start_time": "2020-12-06T00:06:05.803074",
     "status": "completed"
    },
    "tags": []
   },
   "source": [
    "### Running Models with the Training data\n",
    "Details about the network layers:\n",
    "- A first affine layer has 784 inputs and does 100 affine transforms. These are followed by a Relu\n",
    "- A second affine layer has 100 inputs from the 100 activations of the past layer, and does 100 affine transforms. These are followed by a Relu\n",
    "- A third affine layer has 100 activations and does 2 affine transformations to create an embedding for visualization. There is no non-linearity here.\n",
    "- A final \"logistic regression\" which has an affine transform from 2 inputs to 1 output, which is squeezed through a sigmoid.\n",
    "\n",
    "Help taken from Anshuman's Notebook."
   ]
  },
  {
   "cell_type": "code",
   "execution_count": 18,
   "metadata": {
    "execution": {
     "iopub.execute_input": "2020-12-06T00:06:05.874014Z",
     "iopub.status.busy": "2020-12-06T00:06:05.873593Z",
     "iopub.status.idle": "2020-12-06T00:06:05.886011Z",
     "shell.execute_reply": "2020-12-06T00:06:05.886509Z"
    },
    "papermill": {
     "duration": 0.039932,
     "end_time": "2020-12-06T00:06:05.886692",
     "exception": false,
     "start_time": "2020-12-06T00:06:05.846760",
     "status": "completed"
    },
    "tags": []
   },
   "outputs": [],
   "source": [
    "# layers for the Neural Network\n",
    "layers = [Affine(\"first\", 784, 100), Relu(\"first\"), Affine(\"second\", 100, 100), Relu(\"second\"), Affine(\"third\", 100, 2), Affine(\"final\", 2, 1), Sigmoid(\"final\")]\n",
    "model_nn = Model(layers)\n",
    "\n",
    "# layers for the Logistic Regression\n",
    "layers_lr = [Affine(\"logits\", 784, 1), Sigmoid(\"sigmoid\")]\n",
    "model_lr = Model(layers_lr)"
   ]
  },
  {
   "cell_type": "code",
   "execution_count": 19,
   "metadata": {
    "execution": {
     "iopub.execute_input": "2020-12-06T00:06:05.932841Z",
     "iopub.status.busy": "2020-12-06T00:06:05.932239Z",
     "iopub.status.idle": "2020-12-06T00:06:05.942730Z",
     "shell.execute_reply": "2020-12-06T00:06:05.943091Z"
    },
    "papermill": {
     "duration": 0.036317,
     "end_time": "2020-12-06T00:06:05.943198",
     "exception": false,
     "start_time": "2020-12-06T00:06:05.906881",
     "status": "completed"
    },
    "tags": []
   },
   "outputs": [],
   "source": [
    "# suffix _nn stands for Neural Network.\n",
    "learner_nn = Learner(loss, model_nn, opt, config.num_epochs)\n",
    "acc_nn = ClfCallback(learner_nn, config.bs, training_xdata , testing_xdata, training_ydata, testing_ydata)\n",
    "learner_nn.set_callbacks([acc_nn])"
   ]
  },
  {
   "cell_type": "code",
   "execution_count": 20,
   "metadata": {
    "execution": {
     "iopub.execute_input": "2020-12-06T00:06:05.987822Z",
     "iopub.status.busy": "2020-12-06T00:06:05.987351Z",
     "iopub.status.idle": "2020-12-06T00:07:18.902932Z",
     "shell.execute_reply": "2020-12-06T00:07:18.902460Z"
    },
    "papermill": {
     "duration": 72.939487,
     "end_time": "2020-12-06T00:07:18.903058",
     "exception": false,
     "start_time": "2020-12-06T00:06:05.963571",
     "status": "completed"
    },
    "tags": []
   },
   "outputs": [
    {
     "name": "stdout",
     "output_type": "stream",
     "text": [
      "====== Neural Network ======\n"
     ]
    },
    {
     "name": "stdout",
     "output_type": "stream",
     "text": [
      "Epoch 0, Loss 0.2644\n",
      "Training Accuracy: 0.6876, Testing Accuracy: 0.7132\n",
      "\n"
     ]
    },
    {
     "name": "stdout",
     "output_type": "stream",
     "text": [
      "Epoch 10, Loss 0.0659\n",
      "Training Accuracy: 0.9337, Testing Accuracy: 0.9476\n",
      "\n"
     ]
    },
    {
     "name": "stdout",
     "output_type": "stream",
     "text": [
      "Epoch 20, Loss 0.0449\n",
      "Training Accuracy: 0.9532, Testing Accuracy: 0.9647\n",
      "\n"
     ]
    },
    {
     "name": "stdout",
     "output_type": "stream",
     "text": [
      "Epoch 30, Loss 0.0371\n",
      "Training Accuracy: 0.9595, Testing Accuracy: 0.9713\n",
      "\n"
     ]
    },
    {
     "name": "stdout",
     "output_type": "stream",
     "text": [
      "Epoch 40, Loss 0.0329\n",
      "Training Accuracy: 0.9640, Testing Accuracy: 0.9738\n",
      "\n"
     ]
    },
    {
     "name": "stdout",
     "output_type": "stream",
     "text": [
      "Epoch 50, Loss 0.0302\n",
      "Training Accuracy: 0.9663, Testing Accuracy: 0.9733\n",
      "\n"
     ]
    },
    {
     "name": "stdout",
     "output_type": "stream",
     "text": [
      "Epoch 60, Loss 0.0282\n",
      "Training Accuracy: 0.9679, Testing Accuracy: 0.9728\n",
      "\n"
     ]
    },
    {
     "name": "stdout",
     "output_type": "stream",
     "text": [
      "Epoch 70, Loss 0.0266\n",
      "Training Accuracy: 0.9695, Testing Accuracy: 0.9728\n",
      "\n"
     ]
    },
    {
     "name": "stdout",
     "output_type": "stream",
     "text": [
      "Epoch 80, Loss 0.0253\n",
      "Training Accuracy: 0.9705, Testing Accuracy: 0.9718\n",
      "\n"
     ]
    },
    {
     "name": "stdout",
     "output_type": "stream",
     "text": [
      "Epoch 90, Loss 0.0242\n",
      "Training Accuracy: 0.9720, Testing Accuracy: 0.9723\n",
      "\n"
     ]
    },
    {
     "name": "stdout",
     "output_type": "stream",
     "text": [
      "Epoch 100, Loss 0.0233\n",
      "Training Accuracy: 0.9732, Testing Accuracy: 0.9728\n",
      "\n"
     ]
    },
    {
     "name": "stdout",
     "output_type": "stream",
     "text": [
      "Epoch 110, Loss 0.0224\n",
      "Training Accuracy: 0.9740, Testing Accuracy: 0.9748\n",
      "\n"
     ]
    },
    {
     "name": "stdout",
     "output_type": "stream",
     "text": [
      "Epoch 120, Loss 0.0217\n",
      "Training Accuracy: 0.9746, Testing Accuracy: 0.9753\n",
      "\n"
     ]
    },
    {
     "name": "stdout",
     "output_type": "stream",
     "text": [
      "Epoch 130, Loss 0.021\n",
      "Training Accuracy: 0.9757, Testing Accuracy: 0.9768\n",
      "\n"
     ]
    },
    {
     "name": "stdout",
     "output_type": "stream",
     "text": [
      "Epoch 140, Loss 0.0203\n",
      "Training Accuracy: 0.9768, Testing Accuracy: 0.9763\n",
      "\n"
     ]
    },
    {
     "name": "stdout",
     "output_type": "stream",
     "text": [
      "Epoch 150, Loss 0.0197\n",
      "Training Accuracy: 0.9775, Testing Accuracy: 0.9773\n",
      "\n"
     ]
    },
    {
     "name": "stdout",
     "output_type": "stream",
     "text": [
      "Epoch 160, Loss 0.0192\n",
      "Training Accuracy: 0.9781, Testing Accuracy: 0.9773\n",
      "\n"
     ]
    },
    {
     "name": "stdout",
     "output_type": "stream",
     "text": [
      "Epoch 170, Loss 0.0186\n",
      "Training Accuracy: 0.9789, Testing Accuracy: 0.9778\n",
      "\n"
     ]
    },
    {
     "name": "stdout",
     "output_type": "stream",
     "text": [
      "Epoch 180, Loss 0.0181\n",
      "Training Accuracy: 0.9796, Testing Accuracy: 0.9783\n",
      "\n"
     ]
    },
    {
     "name": "stdout",
     "output_type": "stream",
     "text": [
      "Epoch 190, Loss 0.0176\n",
      "Training Accuracy: 0.9801, Testing Accuracy: 0.9783\n",
      "\n"
     ]
    },
    {
     "name": "stdout",
     "output_type": "stream",
     "text": [
      "Epoch 200, Loss 0.0172\n",
      "Training Accuracy: 0.9811, Testing Accuracy: 0.9783\n",
      "\n"
     ]
    },
    {
     "name": "stdout",
     "output_type": "stream",
     "text": [
      "Epoch 210, Loss 0.0168\n",
      "Training Accuracy: 0.9819, Testing Accuracy: 0.9783\n",
      "\n"
     ]
    },
    {
     "name": "stdout",
     "output_type": "stream",
     "text": [
      "Epoch 220, Loss 0.0163\n",
      "Training Accuracy: 0.9826, Testing Accuracy: 0.9788\n",
      "\n"
     ]
    },
    {
     "name": "stdout",
     "output_type": "stream",
     "text": [
      "Epoch 230, Loss 0.0159\n",
      "Training Accuracy: 0.9831, Testing Accuracy: 0.9783\n",
      "\n"
     ]
    },
    {
     "name": "stdout",
     "output_type": "stream",
     "text": [
      "Epoch 240, Loss 0.0156\n",
      "Training Accuracy: 0.9836, Testing Accuracy: 0.9788\n",
      "\n"
     ]
    },
    {
     "name": "stdout",
     "output_type": "stream",
     "text": [
      "Epoch 250, Loss 0.0152\n",
      "Training Accuracy: 0.9839, Testing Accuracy: 0.9788\n",
      "\n"
     ]
    },
    {
     "data": {
      "text/plain": [
       "0.031752573996523495"
      ]
     },
     "execution_count": 20,
     "metadata": {},
     "output_type": "execute_result"
    }
   ],
   "source": [
    "print(\"====== Neural Network ======\")\n",
    "learner_nn.train_loop(dl)"
   ]
  },
  {
   "cell_type": "markdown",
   "metadata": {
    "papermill": {
     "duration": 0.029247,
     "end_time": "2020-12-06T00:07:18.966029",
     "exception": false,
     "start_time": "2020-12-06T00:07:18.936782",
     "status": "completed"
    },
    "tags": []
   },
   "source": [
    "### Logistic Regression based Implementation."
   ]
  },
  {
   "cell_type": "code",
   "execution_count": 21,
   "metadata": {
    "execution": {
     "iopub.execute_input": "2020-12-06T00:07:19.036744Z",
     "iopub.status.busy": "2020-12-06T00:07:19.031813Z",
     "iopub.status.idle": "2020-12-06T00:07:19.044621Z",
     "shell.execute_reply": "2020-12-06T00:07:19.045105Z"
    },
    "papermill": {
     "duration": 0.04714,
     "end_time": "2020-12-06T00:07:19.045240",
     "exception": false,
     "start_time": "2020-12-06T00:07:18.998100",
     "status": "completed"
    },
    "tags": []
   },
   "outputs": [],
   "source": [
    "learner_lr = Learner(loss, model_lr, opt, config.num_epochs)\n",
    "acc_lr = ClfCallback(learner_lr, config.bs, training_xdata , testing_xdata, training_ydata, testing_ydata)\n",
    "learner_lr.set_callbacks([acc_lr])"
   ]
  },
  {
   "cell_type": "code",
   "execution_count": 22,
   "metadata": {
    "execution": {
     "iopub.execute_input": "2020-12-06T00:07:19.108662Z",
     "iopub.status.busy": "2020-12-06T00:07:19.108049Z",
     "iopub.status.idle": "2020-12-06T00:07:31.927980Z",
     "shell.execute_reply": "2020-12-06T00:07:31.928643Z"
    },
    "papermill": {
     "duration": 12.854685,
     "end_time": "2020-12-06T00:07:31.928810",
     "exception": false,
     "start_time": "2020-12-06T00:07:19.074125",
     "status": "completed"
    },
    "tags": []
   },
   "outputs": [
    {
     "name": "stdout",
     "output_type": "stream",
     "text": [
      "====== Logistic Regression ======\n",
      "Epoch 0, Loss 0.2335\n",
      "Training Accuracy: 0.7005, Testing Accuracy: 0.6840\n",
      "\n"
     ]
    },
    {
     "name": "stdout",
     "output_type": "stream",
     "text": [
      "Epoch 10, Loss 0.104\n",
      "Training Accuracy: 0.9054, Testing Accuracy: 0.9133\n",
      "\n"
     ]
    },
    {
     "name": "stdout",
     "output_type": "stream",
     "text": [
      "Epoch 20, Loss 0.0803\n",
      "Training Accuracy: 0.9255, Testing Accuracy: 0.9304\n",
      "\n"
     ]
    },
    {
     "name": "stdout",
     "output_type": "stream",
     "text": [
      "Epoch 30, Loss 0.0691\n",
      "Training Accuracy: 0.9357, Testing Accuracy: 0.9425\n",
      "\n"
     ]
    },
    {
     "name": "stdout",
     "output_type": "stream",
     "text": [
      "Epoch 40, Loss 0.0623\n",
      "Training Accuracy: 0.9410, Testing Accuracy: 0.9481\n",
      "\n"
     ]
    },
    {
     "name": "stdout",
     "output_type": "stream",
     "text": [
      "Epoch 50, Loss 0.0576\n",
      "Training Accuracy: 0.9447, Testing Accuracy: 0.9516\n",
      "\n"
     ]
    },
    {
     "name": "stdout",
     "output_type": "stream",
     "text": [
      "Epoch 60, Loss 0.0542\n",
      "Training Accuracy: 0.9475, Testing Accuracy: 0.9556\n",
      "\n"
     ]
    },
    {
     "name": "stdout",
     "output_type": "stream",
     "text": [
      "Epoch 70, Loss 0.0516\n",
      "Training Accuracy: 0.9496, Testing Accuracy: 0.9572\n",
      "\n"
     ]
    },
    {
     "name": "stdout",
     "output_type": "stream",
     "text": [
      "Epoch 80, Loss 0.0495\n",
      "Training Accuracy: 0.9508, Testing Accuracy: 0.9592\n",
      "\n"
     ]
    },
    {
     "name": "stdout",
     "output_type": "stream",
     "text": [
      "Epoch 90, Loss 0.0477\n",
      "Training Accuracy: 0.9528, Testing Accuracy: 0.9612\n",
      "\n"
     ]
    },
    {
     "name": "stdout",
     "output_type": "stream",
     "text": [
      "Epoch 100, Loss 0.0463\n",
      "Training Accuracy: 0.9538, Testing Accuracy: 0.9622\n",
      "\n"
     ]
    },
    {
     "name": "stdout",
     "output_type": "stream",
     "text": [
      "Epoch 110, Loss 0.045\n",
      "Training Accuracy: 0.9552, Testing Accuracy: 0.9637\n",
      "\n"
     ]
    },
    {
     "name": "stdout",
     "output_type": "stream",
     "text": [
      "Epoch 120, Loss 0.0439\n",
      "Training Accuracy: 0.9559, Testing Accuracy: 0.9647\n",
      "\n"
     ]
    },
    {
     "name": "stdout",
     "output_type": "stream",
     "text": [
      "Epoch 130, Loss 0.043\n",
      "Training Accuracy: 0.9563, Testing Accuracy: 0.9652\n",
      "\n"
     ]
    },
    {
     "name": "stdout",
     "output_type": "stream",
     "text": [
      "Epoch 140, Loss 0.0421\n",
      "Training Accuracy: 0.9573, Testing Accuracy: 0.9662\n",
      "\n"
     ]
    },
    {
     "name": "stdout",
     "output_type": "stream",
     "text": [
      "Epoch 150, Loss 0.0414\n",
      "Training Accuracy: 0.9580, Testing Accuracy: 0.9667\n",
      "\n"
     ]
    },
    {
     "name": "stdout",
     "output_type": "stream",
     "text": [
      "Epoch 160, Loss 0.0407\n",
      "Training Accuracy: 0.9583, Testing Accuracy: 0.9667\n",
      "\n"
     ]
    },
    {
     "name": "stdout",
     "output_type": "stream",
     "text": [
      "Epoch 170, Loss 0.0401\n",
      "Training Accuracy: 0.9589, Testing Accuracy: 0.9677\n",
      "\n"
     ]
    },
    {
     "name": "stdout",
     "output_type": "stream",
     "text": [
      "Epoch 180, Loss 0.0395\n",
      "Training Accuracy: 0.9594, Testing Accuracy: 0.9677\n",
      "\n"
     ]
    },
    {
     "name": "stdout",
     "output_type": "stream",
     "text": [
      "Epoch 190, Loss 0.039\n",
      "Training Accuracy: 0.9594, Testing Accuracy: 0.9677\n",
      "\n"
     ]
    },
    {
     "name": "stdout",
     "output_type": "stream",
     "text": [
      "Epoch 200, Loss 0.0385\n",
      "Training Accuracy: 0.9599, Testing Accuracy: 0.9677\n",
      "\n"
     ]
    },
    {
     "name": "stdout",
     "output_type": "stream",
     "text": [
      "Epoch 210, Loss 0.0381\n",
      "Training Accuracy: 0.9601, Testing Accuracy: 0.9682\n",
      "\n"
     ]
    },
    {
     "name": "stdout",
     "output_type": "stream",
     "text": [
      "Epoch 220, Loss 0.0376\n",
      "Training Accuracy: 0.9604, Testing Accuracy: 0.9677\n",
      "\n"
     ]
    },
    {
     "name": "stdout",
     "output_type": "stream",
     "text": [
      "Epoch 230, Loss 0.0373\n",
      "Training Accuracy: 0.9609, Testing Accuracy: 0.9682\n",
      "\n"
     ]
    },
    {
     "name": "stdout",
     "output_type": "stream",
     "text": [
      "Epoch 240, Loss 0.0369\n",
      "Training Accuracy: 0.9609, Testing Accuracy: 0.9682\n",
      "\n"
     ]
    },
    {
     "name": "stdout",
     "output_type": "stream",
     "text": [
      "Epoch 250, Loss 0.0366\n",
      "Training Accuracy: 0.9612, Testing Accuracy: 0.9688\n",
      "\n"
     ]
    },
    {
     "data": {
      "text/plain": [
       "0.02843302945840731"
      ]
     },
     "execution_count": 22,
     "metadata": {},
     "output_type": "execute_result"
    }
   ],
   "source": [
    "print(\"====== Logistic Regression ======\")\n",
    "learner_lr.train_loop(dl)"
   ]
  },
  {
   "cell_type": "markdown",
   "metadata": {
    "papermill": {
     "duration": 0.033719,
     "end_time": "2020-12-06T00:07:31.997469",
     "exception": false,
     "start_time": "2020-12-06T00:07:31.963750",
     "status": "completed"
    },
    "tags": []
   },
   "source": [
    "### Comparing results of NN and LR"
   ]
  },
  {
   "cell_type": "code",
   "execution_count": 23,
   "metadata": {
    "execution": {
     "iopub.execute_input": "2020-12-06T00:07:32.073469Z",
     "iopub.status.busy": "2020-12-06T00:07:32.072837Z",
     "iopub.status.idle": "2020-12-06T00:07:32.273809Z",
     "shell.execute_reply": "2020-12-06T00:07:32.273336Z"
    },
    "papermill": {
     "duration": 0.241783,
     "end_time": "2020-12-06T00:07:32.273927",
     "exception": false,
     "start_time": "2020-12-06T00:07:32.032144",
     "status": "completed"
    },
    "tags": []
   },
   "outputs": [
    {
     "data": {
      "text/plain": [
       "<matplotlib.legend.Legend at 0x7fdeed5149b0>"
      ]
     },
     "execution_count": 23,
     "metadata": {},
     "output_type": "execute_result"
    },
    {
     "data": {
      "image/png": "[encoded data removed]",
      "text/plain": [
       "<Figure size 1080x720 with 1 Axes>"
      ]
     },
     "metadata": {
      "needs_background": "light"
     },
     "output_type": "display_data"
    }
   ],
   "source": [
    "plt.figure(figsize=(15,10))\n",
    "\n",
    "# Neural Network plots\n",
    "plt.plot(acc_nn.accuracies, 'r-', label = \"Training Accuracies - NN\")\n",
    "plt.plot(acc_nn.test_accuracies, 'g-', label = \"Testing Accuracies - NN\")\n",
    "\n",
    "# Logistic Regression plots\n",
    "plt.plot(acc_lr.accuracies, 'k-', label = \"Training Accuracies - LR\")\n",
    "plt.plot(acc_lr.test_accuracies, 'b-', label = \"Testing Accuracies - LR\")\n",
    "\n",
    "plt.ylim(0.8, 1)\n",
    "\n",
    "plt.legend()\n",
    "\n"
   ]
  },
  {
   "cell_type": "markdown",
   "metadata": {
    "papermill": {
     "duration": 0.035878,
     "end_time": "2020-12-06T00:07:32.347612",
     "exception": false,
     "start_time": "2020-12-06T00:07:32.311734",
     "status": "completed"
    },
    "tags": []
   },
   "source": [
    "### From the plot, we can observe the following:\n",
    "- Neural Network achieves higher accuracy than the Logistic Regression model.\n",
    "- This apparently, is because of overfitting, i.e. NN captures more noise than data.\n",
    "- Testing accuracy of NN drops below the Training accuracy at higher epochs. This explains the over-fitting on training data.\n",
    "- Logistic Regression gives a reliable accuracy, without the above mentioned problem.\n"
   ]
  },
  {
   "cell_type": "markdown",
   "metadata": {
    "papermill": {
     "duration": 0.033967,
     "end_time": "2020-12-06T00:07:32.416456",
     "exception": false,
     "start_time": "2020-12-06T00:07:32.382489",
     "status": "completed"
    },
    "tags": []
   },
   "source": [
    "### Moving till the last but one layer (excluding it).\n",
    "#### Plotting the outputs of this layer of the NN."
   ]
  },
  {
   "cell_type": "code",
   "execution_count": 24,
   "metadata": {
    "execution": {
     "iopub.execute_input": "2020-12-06T00:07:32.489378Z",
     "iopub.status.busy": "2020-12-06T00:07:32.488887Z",
     "iopub.status.idle": "2020-12-06T00:07:32.503024Z",
     "shell.execute_reply": "2020-12-06T00:07:32.503359Z"
    },
    "papermill": {
     "duration": 0.052337,
     "end_time": "2020-12-06T00:07:32.503461",
     "exception": false,
     "start_time": "2020-12-06T00:07:32.451124",
     "status": "completed"
    },
    "tags": []
   },
   "outputs": [],
   "source": [
    "model_new = Model(layers[:-2])"
   ]
  },
  {
   "cell_type": "code",
   "execution_count": 25,
   "metadata": {
    "execution": {
     "iopub.execute_input": "2020-12-06T00:07:32.577811Z",
     "iopub.status.busy": "2020-12-06T00:07:32.577342Z",
     "iopub.status.idle": "2020-12-06T00:07:32.593546Z",
     "shell.execute_reply": "2020-12-06T00:07:32.593896Z"
    },
    "papermill": {
     "duration": 0.05648,
     "end_time": "2020-12-06T00:07:32.594024",
     "exception": false,
     "start_time": "2020-12-06T00:07:32.537544",
     "status": "completed"
    },
    "tags": []
   },
   "outputs": [],
   "source": [
    "plot_testing = model_new(testing_xdata)"
   ]
  },
  {
   "cell_type": "code",
   "execution_count": 26,
   "metadata": {
    "execution": {
     "iopub.execute_input": "2020-12-06T00:07:32.678140Z",
     "iopub.status.busy": "2020-12-06T00:07:32.677668Z",
     "iopub.status.idle": "2020-12-06T00:07:32.831856Z",
     "shell.execute_reply": "2020-12-06T00:07:32.832309Z"
    },
    "papermill": {
     "duration": 0.201765,
     "end_time": "2020-12-06T00:07:32.832456",
     "exception": false,
     "start_time": "2020-12-06T00:07:32.630691",
     "status": "completed"
    },
    "tags": []
   },
   "outputs": [
    {
     "data": {
      "text/plain": [
       "Text(0.5, 1.0, 'Outputs')"
      ]
     },
     "execution_count": 26,
     "metadata": {},
     "output_type": "execute_result"
    },
    {
     "data": {
      "image/png": "[encoded data removed]",
      "text/plain": [
       "<Figure size 576x504 with 1 Axes>"
      ]
     },
     "metadata": {
      "needs_background": "light"
     },
     "output_type": "display_data"
    }
   ],
   "source": [
    "plt.figure(figsize=(8,7))\n",
    "plt.scatter(plot_testing[:,0], plot_testing[:,1], alpha = 0.1, c = y_test.ravel());\n",
    "plt.title('Outputs')"
   ]
  },
  {
   "cell_type": "markdown",
   "metadata": {
    "papermill": {
     "duration": 0.037231,
     "end_time": "2020-12-06T00:07:32.908616",
     "exception": false,
     "start_time": "2020-12-06T00:07:32.871385",
     "status": "completed"
    },
    "tags": []
   },
   "source": [
    "### Plotting probability contours"
   ]
  },
  {
   "cell_type": "code",
   "execution_count": 27,
   "metadata": {
    "execution": {
     "iopub.execute_input": "2020-12-06T00:07:32.984995Z",
     "iopub.status.busy": "2020-12-06T00:07:32.984522Z",
     "iopub.status.idle": "2020-12-06T00:07:32.999189Z",
     "shell.execute_reply": "2020-12-06T00:07:32.999523Z"
    },
    "papermill": {
     "duration": 0.054261,
     "end_time": "2020-12-06T00:07:32.999624",
     "exception": false,
     "start_time": "2020-12-06T00:07:32.945363",
     "status": "completed"
    },
    "tags": []
   },
   "outputs": [],
   "source": [
    "model_prob = Model(layers[-2:]) "
   ]
  },
  {
   "cell_type": "code",
   "execution_count": 28,
   "metadata": {
    "execution": {
     "iopub.execute_input": "2020-12-06T00:07:33.082859Z",
     "iopub.status.busy": "2020-12-06T00:07:33.082321Z",
     "iopub.status.idle": "2020-12-06T00:07:33.093471Z",
     "shell.execute_reply": "2020-12-06T00:07:33.093792Z"
    },
    "papermill": {
     "duration": 0.058761,
     "end_time": "2020-12-06T00:07:33.093895",
     "exception": false,
     "start_time": "2020-12-06T00:07:33.035134",
     "status": "completed"
    },
    "tags": []
   },
   "outputs": [],
   "source": [
    "# Adjust the x and y ranges according to the above generated plot.\n",
    "x_range = np.linspace(-4, 1, 100) \n",
    "y_range = np.linspace(-6, 6, 100) \n",
    "x_grid, y_grid = np.meshgrid(x_range, y_range) # x_grid and y_grig are of size 100 X 100\n",
    "\n",
    "# converting x_grid and y_grid to continuous arrays\n",
    "x_grid_flat = np.ravel(x_grid)\n",
    "y_grid_flat = np.ravel(y_grid)\n",
    "\n",
    "# The last layer of the current model takes two columns as input. Hence transpose of np.vstack() is required.\n",
    "X = np.vstack((x_grid_flat, y_grid_flat)).T\n",
    "\n",
    "# x_grid and y_grid are of size 100 x 100\n",
    "probability_contour = model_prob(X).reshape(100,100) "
   ]
  },
  {
   "cell_type": "code",
   "execution_count": 29,
   "metadata": {
    "execution": {
     "iopub.execute_input": "2020-12-06T00:07:33.185318Z",
     "iopub.status.busy": "2020-12-06T00:07:33.184821Z",
     "iopub.status.idle": "2020-12-06T00:07:33.375082Z",
     "shell.execute_reply": "2020-12-06T00:07:33.375400Z"
    },
    "papermill": {
     "duration": 0.242556,
     "end_time": "2020-12-06T00:07:33.375506",
     "exception": false,
     "start_time": "2020-12-06T00:07:33.132950",
     "status": "completed"
    },
    "tags": []
   },
   "outputs": [
    {
     "data": {
      "image/png": "[encoded data removed]",
      "text/plain": [
       "<Figure size 720x648 with 1 Axes>"
      ]
     },
     "metadata": {
      "needs_background": "light"
     },
     "output_type": "display_data"
    }
   ],
   "source": [
    "plt.figure(figsize=(10,9))\n",
    "plt.scatter(plot_testing[:,0], plot_testing[:,1], alpha = 0.1, c = y_test.ravel())\n",
    "contours = plt.contour(x_grid,y_grid,probability_contour)\n",
    "plt.title('Probability Contours')\n",
    "plt.clabel(contours, inline = True );"
   ]
  }
 ],
 "metadata": {
  "kernelspec": {
   "display_name": "Python 3",
   "language": "python",
   "name": "python3"
  },
  "language_info": {
   "codemirror_mode": {
    "name": "ipython",
    "version": 3
   },
   "file_extension": ".py",
   "mimetype": "text/x-python",
   "name": "python",
   "nbconvert_exporter": "python",
   "pygments_lexer": "ipython3",
   "version": "3.6.12"
  },
  "papermill": {
   "duration": 94.912502,
   "end_time": "2020-12-06T00:07:33.722308",
   "environment_variables": {},
   "exception": null,
   "input_path": "2020-08-11-NeuralNetwork.ipynb",
   "output_path": "2020-08-11-NeuralNetwork.ipynb",
   "parameters": {},
   "start_time": "2020-12-06T00:05:58.809806",
   "version": "2.1.2"
  }
 },
 "nbformat": 4,
 "nbformat_minor": 4
}