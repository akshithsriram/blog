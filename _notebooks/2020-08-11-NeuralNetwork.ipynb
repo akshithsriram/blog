{
 "cells": [
  {
   "cell_type": "markdown",
   "metadata": {
    "papermill": {
     "duration": 0.025097,
     "end_time": "2020-12-15T10:14:27.375654",
     "exception": false,
     "start_time": "2020-12-15T10:14:27.350557",
     "status": "completed"
    },
    "tags": []
   },
   "source": [
    "# \"A Basic Neural Network: Differentiate Hand-Written Digits\"\n",
    "\n",
    "- badges: true\n",
    "- author: Akshith Sriram"
   ]
  },
  {
   "cell_type": "markdown",
   "metadata": {
    "papermill": {
     "duration": 0.024792,
     "end_time": "2020-12-15T10:14:27.422962",
     "exception": false,
     "start_time": "2020-12-15T10:14:27.398170",
     "status": "completed"
    },
    "tags": []
   },
   "source": [
    "### Key Objectives:\n",
    "- Building a neural network that differentiates two hand-written digits 3 and 8.\n",
    "- Comparing the results of this Neural Network (NN) to that of a Logistic Regression (LR) model.\n",
    "\n",
    "### Requirements:\n",
    "- 'Kudzu' : A neural network library that was designed during our course by [Univ.AI](www.univ.ai). \n",
    "- MNIST Database\n",
    "\n",
    "If MNIST is not installed, use the command `!pip install mnist` given below.\n",
    "It can be run both from the command line and Jupyter Notebook."
   ]
  },
  {
   "cell_type": "code",
   "execution_count": 1,
   "metadata": {
    "execution": {
     "iopub.execute_input": "2020-12-15T10:14:27.475077Z",
     "iopub.status.busy": "2020-12-15T10:14:27.474394Z",
     "iopub.status.idle": "2020-12-15T10:14:28.848969Z",
     "shell.execute_reply": "2020-12-15T10:14:28.848469Z"
    },
    "papermill": {
     "duration": 1.404448,
     "end_time": "2020-12-15T10:14:28.849116",
     "exception": false,
     "start_time": "2020-12-15T10:14:27.444668",
     "status": "completed"
    },
    "tags": []
   },
   "outputs": [
    {
     "name": "stdout",
     "output_type": "stream",
     "text": [
      "Collecting mnist\r\n"
     ]
    },
    {
     "name": "stdout",
     "output_type": "stream",
     "text": [
      "  Downloading mnist-0.2.2-py2.py3-none-any.whl (3.5 kB)\r\n",
      "Requirement already satisfied: numpy in /opt/hostedtoolcache/Python/3.6.12/x64/lib/python3.6/site-packages (from mnist) (1.19.4)\r\n"
     ]
    },
    {
     "name": "stdout",
     "output_type": "stream",
     "text": [
      "Installing collected packages: mnist\r\n"
     ]
    },
    {
     "name": "stdout",
     "output_type": "stream",
     "text": [
      "Successfully installed mnist-0.2.2\r\n",
      "\u001b[33mWARNING: You are using pip version 20.2.4; however, version 20.3.1 is available.\r\n",
      "You should consider upgrading via the '/opt/hostedtoolcache/Python/3.6.12/x64/bin/python -m pip install --upgrade pip' command.\u001b[0m\r\n"
     ]
    }
   ],
   "source": [
    "!pip install mnist "
   ]
  },
  {
   "cell_type": "markdown",
   "metadata": {
    "papermill": {
     "duration": 0.026843,
     "end_time": "2020-12-15T10:14:28.900510",
     "exception": false,
     "start_time": "2020-12-15T10:14:28.873667",
     "status": "completed"
    },
    "tags": []
   },
   "source": [
    "#### Importing necessary libraries"
   ]
  },
  {
   "cell_type": "code",
   "execution_count": 2,
   "metadata": {
    "execution": {
     "iopub.execute_input": "2020-12-15T10:14:28.962328Z",
     "iopub.status.busy": "2020-12-15T10:14:28.955361Z",
     "iopub.status.idle": "2020-12-15T10:14:29.437734Z",
     "shell.execute_reply": "2020-12-15T10:14:29.438199Z"
    },
    "papermill": {
     "duration": 0.515266,
     "end_time": "2020-12-15T10:14:29.438359",
     "exception": false,
     "start_time": "2020-12-15T10:14:28.923093",
     "status": "completed"
    },
    "tags": []
   },
   "outputs": [],
   "source": [
    "%load_ext autoreload\n",
    "%autoreload 2\n",
    "\n",
    "%matplotlib inline\n",
    "import matplotlib.pyplot as plt\n",
    "\n",
    "import numpy as np\n",
    "import pandas as pd"
   ]
  },
  {
   "cell_type": "markdown",
   "metadata": {
    "papermill": {
     "duration": 0.023518,
     "end_time": "2020-12-15T10:14:29.486727",
     "exception": false,
     "start_time": "2020-12-15T10:14:29.463209",
     "status": "completed"
    },
    "tags": []
   },
   "source": [
    "### Preparing the Data"
   ]
  },
  {
   "cell_type": "code",
   "execution_count": 3,
   "metadata": {
    "execution": {
     "iopub.execute_input": "2020-12-15T10:14:29.539177Z",
     "iopub.status.busy": "2020-12-15T10:14:29.538603Z",
     "iopub.status.idle": "2020-12-15T10:14:29.547016Z",
     "shell.execute_reply": "2020-12-15T10:14:29.547541Z"
    },
    "papermill": {
     "duration": 0.037622,
     "end_time": "2020-12-15T10:14:29.547662",
     "exception": false,
     "start_time": "2020-12-15T10:14:29.510040",
     "status": "completed"
    },
    "tags": []
   },
   "outputs": [],
   "source": [
    "import mnist"
   ]
  },
  {
   "cell_type": "code",
   "execution_count": 4,
   "metadata": {
    "execution": {
     "iopub.execute_input": "2020-12-15T10:14:29.595810Z",
     "iopub.status.busy": "2020-12-15T10:14:29.595251Z",
     "iopub.status.idle": "2020-12-15T10:14:31.236761Z",
     "shell.execute_reply": "2020-12-15T10:14:31.236206Z"
    },
    "papermill": {
     "duration": 1.666405,
     "end_time": "2020-12-15T10:14:31.236891",
     "exception": false,
     "start_time": "2020-12-15T10:14:29.570486",
     "status": "completed"
    },
    "tags": []
   },
   "outputs": [],
   "source": [
    "train_images = mnist.train_images()\n",
    "train_labels = mnist.train_labels()"
   ]
  },
  {
   "cell_type": "code",
   "execution_count": 5,
   "metadata": {
    "execution": {
     "iopub.execute_input": "2020-12-15T10:14:31.287275Z",
     "iopub.status.busy": "2020-12-15T10:14:31.286706Z",
     "iopub.status.idle": "2020-12-15T10:14:31.299158Z",
     "shell.execute_reply": "2020-12-15T10:14:31.299685Z"
    },
    "papermill": {
     "duration": 0.039289,
     "end_time": "2020-12-15T10:14:31.299806",
     "exception": false,
     "start_time": "2020-12-15T10:14:31.260517",
     "status": "completed"
    },
    "tags": []
   },
   "outputs": [
    {
     "data": {
      "text/plain": [
       "((60000, 28, 28), (60000,))"
      ]
     },
     "execution_count": 5,
     "metadata": {},
     "output_type": "execute_result"
    }
   ],
   "source": [
    "train_images.shape, train_labels.shape"
   ]
  },
  {
   "cell_type": "code",
   "execution_count": 6,
   "metadata": {
    "execution": {
     "iopub.execute_input": "2020-12-15T10:14:31.356109Z",
     "iopub.status.busy": "2020-12-15T10:14:31.350817Z",
     "iopub.status.idle": "2020-12-15T10:14:32.201723Z",
     "shell.execute_reply": "2020-12-15T10:14:32.201150Z"
    },
    "papermill": {
     "duration": 0.879551,
     "end_time": "2020-12-15T10:14:32.201860",
     "exception": false,
     "start_time": "2020-12-15T10:14:31.322309",
     "status": "completed"
    },
    "tags": []
   },
   "outputs": [],
   "source": [
    "test_images = mnist.test_images()\n",
    "test_labels = mnist.test_labels()"
   ]
  },
  {
   "cell_type": "code",
   "execution_count": 7,
   "metadata": {
    "execution": {
     "iopub.execute_input": "2020-12-15T10:14:32.481759Z",
     "iopub.status.busy": "2020-12-15T10:14:32.481008Z",
     "iopub.status.idle": "2020-12-15T10:14:32.495015Z",
     "shell.execute_reply": "2020-12-15T10:14:32.494598Z"
    },
    "papermill": {
     "duration": 0.062378,
     "end_time": "2020-12-15T10:14:32.495129",
     "exception": false,
     "start_time": "2020-12-15T10:14:32.432751",
     "status": "completed"
    },
    "tags": []
   },
   "outputs": [
    {
     "data": {
      "text/plain": [
       "((10000, 28, 28), (10000,))"
      ]
     },
     "execution_count": 7,
     "metadata": {},
     "output_type": "execute_result"
    }
   ],
   "source": [
    "test_images.shape, test_labels.shape"
   ]
  },
  {
   "cell_type": "code",
   "execution_count": 8,
   "metadata": {
    "execution": {
     "iopub.execute_input": "2020-12-15T10:14:32.592006Z",
     "iopub.status.busy": "2020-12-15T10:14:32.590651Z",
     "iopub.status.idle": "2020-12-15T10:14:32.750034Z",
     "shell.execute_reply": "2020-12-15T10:14:32.750449Z"
    },
    "papermill": {
     "duration": 0.227967,
     "end_time": "2020-12-15T10:14:32.750603",
     "exception": false,
     "start_time": "2020-12-15T10:14:32.522636",
     "status": "completed"
    },
    "tags": []
   },
   "outputs": [
    {
     "name": "stdout",
     "output_type": "stream",
     "text": [
      "2\n"
     ]
    },
    {
     "data": {
      "text/plain": [
       "<matplotlib.image.AxesImage at 0x7f4114a54278>"
      ]
     },
     "execution_count": 8,
     "metadata": {},
     "output_type": "execute_result"
    },
    {
     "data": {
      "image/png": "[encoded data removed]",
      "text/plain": [
       "<Figure size 432x288 with 1 Axes>"
      ]
     },
     "metadata": {
      "needs_background": "light"
     },
     "output_type": "display_data"
    }
   ],
   "source": [
    "image_index = 7776 # You may select anything up to 60,000\n",
    "print(train_labels[image_index]) \n",
    "plt.imshow(train_images[image_index], cmap='Greys')"
   ]
  },
  {
   "cell_type": "markdown",
   "metadata": {
    "papermill": {
     "duration": 0.024162,
     "end_time": "2020-12-15T10:14:32.799801",
     "exception": false,
     "start_time": "2020-12-15T10:14:32.775639",
     "status": "completed"
    },
    "tags": []
   },
   "source": [
    "## Filter data to get 3 and 8 out"
   ]
  },
  {
   "cell_type": "code",
   "execution_count": 9,
   "metadata": {
    "execution": {
     "iopub.execute_input": "2020-12-15T10:14:32.853488Z",
     "iopub.status.busy": "2020-12-15T10:14:32.852937Z",
     "iopub.status.idle": "2020-12-15T10:14:32.868854Z",
     "shell.execute_reply": "2020-12-15T10:14:32.868331Z"
    },
    "papermill": {
     "duration": 0.044806,
     "end_time": "2020-12-15T10:14:32.868968",
     "exception": false,
     "start_time": "2020-12-15T10:14:32.824162",
     "status": "completed"
    },
    "tags": []
   },
   "outputs": [],
   "source": [
    "train_filter = np.where((train_labels == 3 ) | (train_labels == 8))\n",
    "test_filter = np.where((test_labels == 3) | (test_labels == 8))\n",
    "X_train, y_train = train_images[train_filter], train_labels[train_filter]\n",
    "X_test, y_test = test_images[test_filter], test_labels[test_filter]"
   ]
  },
  {
   "cell_type": "markdown",
   "metadata": {
    "papermill": {
     "duration": 0.027554,
     "end_time": "2020-12-15T10:14:32.920141",
     "exception": false,
     "start_time": "2020-12-15T10:14:32.892587",
     "status": "completed"
    },
    "tags": []
   },
   "source": [
    "We normalize the pixel values in the 0 to 1 range"
   ]
  },
  {
   "cell_type": "code",
   "execution_count": 10,
   "metadata": {
    "execution": {
     "iopub.execute_input": "2020-12-15T10:14:32.972941Z",
     "iopub.status.busy": "2020-12-15T10:14:32.972284Z",
     "iopub.status.idle": "2020-12-15T10:14:33.034453Z",
     "shell.execute_reply": "2020-12-15T10:14:33.033979Z"
    },
    "papermill": {
     "duration": 0.089739,
     "end_time": "2020-12-15T10:14:33.034584",
     "exception": false,
     "start_time": "2020-12-15T10:14:32.944845",
     "status": "completed"
    },
    "tags": []
   },
   "outputs": [],
   "source": [
    "X_train = X_train/255.\n",
    "X_test = X_test/255."
   ]
  },
  {
   "cell_type": "markdown",
   "metadata": {
    "papermill": {
     "duration": 0.024479,
     "end_time": "2020-12-15T10:14:33.088761",
     "exception": false,
     "start_time": "2020-12-15T10:14:33.064282",
     "status": "completed"
    },
    "tags": []
   },
   "source": [
    "Setup the labels as 1 (when the digit is 3) and 0 (when the digit is 8)"
   ]
  },
  {
   "cell_type": "code",
   "execution_count": 11,
   "metadata": {
    "execution": {
     "iopub.execute_input": "2020-12-15T10:14:33.146247Z",
     "iopub.status.busy": "2020-12-15T10:14:33.145715Z",
     "iopub.status.idle": "2020-12-15T10:14:33.155855Z",
     "shell.execute_reply": "2020-12-15T10:14:33.156492Z"
    },
    "papermill": {
     "duration": 0.043933,
     "end_time": "2020-12-15T10:14:33.156620",
     "exception": false,
     "start_time": "2020-12-15T10:14:33.112687",
     "status": "completed"
    },
    "tags": []
   },
   "outputs": [],
   "source": [
    "y_train = 1*(y_train==3)\n",
    "y_test = 1*(y_test==3)"
   ]
  },
  {
   "cell_type": "code",
   "execution_count": 12,
   "metadata": {
    "execution": {
     "iopub.execute_input": "2020-12-15T10:14:33.216409Z",
     "iopub.status.busy": "2020-12-15T10:14:33.215767Z",
     "iopub.status.idle": "2020-12-15T10:14:33.226461Z",
     "shell.execute_reply": "2020-12-15T10:14:33.226899Z"
    },
    "papermill": {
     "duration": 0.040542,
     "end_time": "2020-12-15T10:14:33.227021",
     "exception": false,
     "start_time": "2020-12-15T10:14:33.186479",
     "status": "completed"
    },
    "tags": []
   },
   "outputs": [
    {
     "data": {
      "text/plain": [
       "((11982, 28, 28), (1984, 28, 28))"
      ]
     },
     "execution_count": 12,
     "metadata": {},
     "output_type": "execute_result"
    }
   ],
   "source": [
    "X_train.shape, X_test.shape"
   ]
  },
  {
   "cell_type": "markdown",
   "metadata": {
    "papermill": {
     "duration": 0.025423,
     "end_time": "2020-12-15T10:14:33.276899",
     "exception": false,
     "start_time": "2020-12-15T10:14:33.251476",
     "status": "completed"
    },
    "tags": []
   },
   "source": [
    "### Reshape the input data to create a linear array"
   ]
  },
  {
   "cell_type": "code",
   "execution_count": 13,
   "metadata": {
    "execution": {
     "iopub.execute_input": "2020-12-15T10:14:33.330206Z",
     "iopub.status.busy": "2020-12-15T10:14:33.329675Z",
     "iopub.status.idle": "2020-12-15T10:14:33.341059Z",
     "shell.execute_reply": "2020-12-15T10:14:33.341571Z"
    },
    "papermill": {
     "duration": 0.039154,
     "end_time": "2020-12-15T10:14:33.341690",
     "exception": false,
     "start_time": "2020-12-15T10:14:33.302536",
     "status": "completed"
    },
    "tags": []
   },
   "outputs": [
    {
     "data": {
      "text/plain": [
       "((11982, 784), (1984, 784))"
      ]
     },
     "execution_count": 13,
     "metadata": {},
     "output_type": "execute_result"
    }
   ],
   "source": [
    "X_train = X_train.reshape(X_train.shape[0], -1)\n",
    "X_test = X_test.reshape(X_test.shape[0], -1)\n",
    "X_train.shape, X_test.shape"
   ]
  },
  {
   "cell_type": "markdown",
   "metadata": {
    "papermill": {
     "duration": 0.02452,
     "end_time": "2020-12-15T10:14:33.389844",
     "exception": false,
     "start_time": "2020-12-15T10:14:33.365324",
     "status": "completed"
    },
    "tags": []
   },
   "source": [
    "### Importing appropriate functions from 'Kudzu'"
   ]
  },
  {
   "cell_type": "code",
   "execution_count": 14,
   "metadata": {
    "execution": {
     "iopub.execute_input": "2020-12-15T10:14:33.442274Z",
     "iopub.status.busy": "2020-12-15T10:14:33.441764Z",
     "iopub.status.idle": "2020-12-15T10:14:33.457541Z",
     "shell.execute_reply": "2020-12-15T10:14:33.457974Z"
    },
    "papermill": {
     "duration": 0.043694,
     "end_time": "2020-12-15T10:14:33.458093",
     "exception": false,
     "start_time": "2020-12-15T10:14:33.414399",
     "status": "completed"
    },
    "tags": []
   },
   "outputs": [],
   "source": [
    "from kudzu.layer import Sigmoid\n",
    "from kudzu.layer import Relu\n",
    "from kudzu.layer import Affine, Sigmoid\n",
    "\n",
    "from kudzu.model import Model\n",
    "from kudzu.train import Learner\n",
    "from kudzu.optim import GD\n",
    "from kudzu.data import Data, Dataloader, Sampler\n",
    "\n",
    "from kudzu.callbacks import AccCallback\n",
    "from kudzu.callbacks import ClfCallback\n",
    "\n",
    "from kudzu.loss import MSE"
   ]
  },
  {
   "cell_type": "markdown",
   "metadata": {
    "papermill": {
     "duration": 0.024963,
     "end_time": "2020-12-15T10:14:33.507835",
     "exception": false,
     "start_time": "2020-12-15T10:14:33.482872",
     "status": "completed"
    },
    "tags": []
   },
   "source": [
    "### Let us create a `Config` class, to store important parameters. \n",
    "This class essentially plays the role of a dictionary."
   ]
  },
  {
   "cell_type": "code",
   "execution_count": 15,
   "metadata": {
    "execution": {
     "iopub.execute_input": "2020-12-15T10:14:33.565198Z",
     "iopub.status.busy": "2020-12-15T10:14:33.564664Z",
     "iopub.status.idle": "2020-12-15T10:14:33.574717Z",
     "shell.execute_reply": "2020-12-15T10:14:33.574171Z"
    },
    "papermill": {
     "duration": 0.03966,
     "end_time": "2020-12-15T10:14:33.574842",
     "exception": false,
     "start_time": "2020-12-15T10:14:33.535182",
     "status": "completed"
    },
    "tags": []
   },
   "outputs": [],
   "source": [
    "class Config:\n",
    "    pass\n",
    "config = Config()\n",
    "config.lr = 0.001\n",
    "config.num_epochs = 251\n",
    "config.bs = 50"
   ]
  },
  {
   "cell_type": "markdown",
   "metadata": {
    "papermill": {
     "duration": 0.025408,
     "end_time": "2020-12-15T10:14:33.626813",
     "exception": false,
     "start_time": "2020-12-15T10:14:33.601405",
     "status": "completed"
    },
    "tags": []
   },
   "source": [
    "### Initializing data to the variables"
   ]
  },
  {
   "cell_type": "code",
   "execution_count": 16,
   "metadata": {
    "execution": {
     "iopub.execute_input": "2020-12-15T10:14:33.681933Z",
     "iopub.status.busy": "2020-12-15T10:14:33.681393Z",
     "iopub.status.idle": "2020-12-15T10:14:33.691443Z",
     "shell.execute_reply": "2020-12-15T10:14:33.691913Z"
    },
    "papermill": {
     "duration": 0.039394,
     "end_time": "2020-12-15T10:14:33.692036",
     "exception": false,
     "start_time": "2020-12-15T10:14:33.652642",
     "status": "completed"
    },
    "tags": []
   },
   "outputs": [],
   "source": [
    "data = Data(X_train, y_train.reshape(-1,1))\n",
    "sampler = Sampler(data, config.bs, shuffle=True)\n",
    "\n",
    "dl = Dataloader(data, sampler)\n",
    "\n",
    "opt = GD(config.lr)\n",
    "loss = MSE()"
   ]
  },
  {
   "cell_type": "code",
   "execution_count": 17,
   "metadata": {
    "execution": {
     "iopub.execute_input": "2020-12-15T10:14:33.754878Z",
     "iopub.status.busy": "2020-12-15T10:14:33.750515Z",
     "iopub.status.idle": "2020-12-15T10:14:33.757006Z",
     "shell.execute_reply": "2020-12-15T10:14:33.757470Z"
    },
    "papermill": {
     "duration": 0.039923,
     "end_time": "2020-12-15T10:14:33.757592",
     "exception": false,
     "start_time": "2020-12-15T10:14:33.717669",
     "status": "completed"
    },
    "tags": []
   },
   "outputs": [],
   "source": [
    "training_xdata = X_train\n",
    "testing_xdata = X_test\n",
    "training_ydata = y_train.reshape(-1,1)\n",
    "testing_ydata = y_test.reshape(-1,1)"
   ]
  },
  {
   "cell_type": "markdown",
   "metadata": {
    "papermill": {
     "duration": 0.025462,
     "end_time": "2020-12-15T10:14:33.807607",
     "exception": false,
     "start_time": "2020-12-15T10:14:33.782145",
     "status": "completed"
    },
    "tags": []
   },
   "source": [
    "### Running Models with the Training data\n",
    "Details about the network layers:\n",
    "- A first affine layer has 784 inputs and does 100 affine transforms. These are followed by a Relu\n",
    "- A second affine layer has 100 inputs from the 100 activations of the past layer, and does 100 affine transforms. These are followed by a Relu\n",
    "- A third affine layer has 100 activations and does 2 affine transformations to create an embedding for visualization. There is no non-linearity here.\n",
    "- A final \"logistic regression\" which has an affine transform from 2 inputs to 1 output, which is squeezed through a sigmoid.\n",
    "\n",
    "Help taken from Anshuman's Notebook."
   ]
  },
  {
   "cell_type": "code",
   "execution_count": 18,
   "metadata": {
    "execution": {
     "iopub.execute_input": "2020-12-15T10:14:33.859974Z",
     "iopub.status.busy": "2020-12-15T10:14:33.859317Z",
     "iopub.status.idle": "2020-12-15T10:14:33.872824Z",
     "shell.execute_reply": "2020-12-15T10:14:33.873323Z"
    },
    "papermill": {
     "duration": 0.04146,
     "end_time": "2020-12-15T10:14:33.873443",
     "exception": false,
     "start_time": "2020-12-15T10:14:33.831983",
     "status": "completed"
    },
    "tags": []
   },
   "outputs": [],
   "source": [
    "# layers for the Neural Network\n",
    "layers = [Affine(\"first\", 784, 100), Relu(\"first\"), Affine(\"second\", 100, 100), Relu(\"second\"), Affine(\"third\", 100, 2), Affine(\"final\", 2, 1), Sigmoid(\"final\")]\n",
    "model_nn = Model(layers)\n",
    "\n",
    "# layers for the Logistic Regression\n",
    "layers_lr = [Affine(\"logits\", 784, 1), Sigmoid(\"sigmoid\")]\n",
    "model_lr = Model(layers_lr)"
   ]
  },
  {
   "cell_type": "code",
   "execution_count": 19,
   "metadata": {
    "execution": {
     "iopub.execute_input": "2020-12-15T10:14:33.929607Z",
     "iopub.status.busy": "2020-12-15T10:14:33.928997Z",
     "iopub.status.idle": "2020-12-15T10:14:33.937418Z",
     "shell.execute_reply": "2020-12-15T10:14:33.937877Z"
    },
    "papermill": {
     "duration": 0.039949,
     "end_time": "2020-12-15T10:14:33.938046",
     "exception": false,
     "start_time": "2020-12-15T10:14:33.898097",
     "status": "completed"
    },
    "tags": []
   },
   "outputs": [],
   "source": [
    "# suffix _nn stands for Neural Network.\n",
    "learner_nn = Learner(loss, model_nn, opt, config.num_epochs)\n",
    "acc_nn = ClfCallback(learner_nn, config.bs, training_xdata , testing_xdata, training_ydata, testing_ydata)\n",
    "learner_nn.set_callbacks([acc_nn])"
   ]
  },
  {
   "cell_type": "code",
   "execution_count": 20,
   "metadata": {
    "execution": {
     "iopub.execute_input": "2020-12-15T10:14:33.992986Z",
     "iopub.status.busy": "2020-12-15T10:14:33.992455Z",
     "iopub.status.idle": "2020-12-15T10:16:41.422251Z",
     "shell.execute_reply": "2020-12-15T10:16:41.422954Z"
    },
    "papermill": {
     "duration": 127.459494,
     "end_time": "2020-12-15T10:16:41.423100",
     "exception": false,
     "start_time": "2020-12-15T10:14:33.963606",
     "status": "completed"
    },
    "tags": []
   },
   "outputs": [
    {
     "name": "stdout",
     "output_type": "stream",
     "text": [
      "====== Neural Network ======\n"
     ]
    },
    {
     "name": "stdout",
     "output_type": "stream",
     "text": [
      "Epoch 0, Loss 0.2312\n",
      "Training Accuracy: 0.7342, Testing Accuracy: 0.7520\n",
      "\n"
     ]
    },
    {
     "name": "stdout",
     "output_type": "stream",
     "text": [
      "Epoch 10, Loss 0.1157\n",
      "Training Accuracy: 0.8993, Testing Accuracy: 0.9073\n",
      "\n"
     ]
    },
    {
     "name": "stdout",
     "output_type": "stream",
     "text": [
      "Epoch 20, Loss 0.0656\n",
      "Training Accuracy: 0.9301, Testing Accuracy: 0.9425\n",
      "\n"
     ]
    },
    {
     "name": "stdout",
     "output_type": "stream",
     "text": [
      "Epoch 30, Loss 0.0488\n",
      "Training Accuracy: 0.9472, Testing Accuracy: 0.9536\n",
      "\n"
     ]
    },
    {
     "name": "stdout",
     "output_type": "stream",
     "text": [
      "Epoch 40, Loss 0.041\n",
      "Training Accuracy: 0.9540, Testing Accuracy: 0.9607\n",
      "\n"
     ]
    },
    {
     "name": "stdout",
     "output_type": "stream",
     "text": [
      "Epoch 50, Loss 0.0365\n",
      "Training Accuracy: 0.9583, Testing Accuracy: 0.9627\n",
      "\n"
     ]
    },
    {
     "name": "stdout",
     "output_type": "stream",
     "text": [
      "Epoch 60, Loss 0.0336\n",
      "Training Accuracy: 0.9613, Testing Accuracy: 0.9662\n",
      "\n"
     ]
    },
    {
     "name": "stdout",
     "output_type": "stream",
     "text": [
      "Epoch 70, Loss 0.0315\n",
      "Training Accuracy: 0.9635, Testing Accuracy: 0.9672\n",
      "\n"
     ]
    },
    {
     "name": "stdout",
     "output_type": "stream",
     "text": [
      "Epoch 80, Loss 0.0299\n",
      "Training Accuracy: 0.9649, Testing Accuracy: 0.9677\n",
      "\n"
     ]
    },
    {
     "name": "stdout",
     "output_type": "stream",
     "text": [
      "Epoch 90, Loss 0.0285\n",
      "Training Accuracy: 0.9670, Testing Accuracy: 0.9677\n",
      "\n"
     ]
    },
    {
     "name": "stdout",
     "output_type": "stream",
     "text": [
      "Epoch 100, Loss 0.0274\n",
      "Training Accuracy: 0.9677, Testing Accuracy: 0.9667\n",
      "\n"
     ]
    },
    {
     "name": "stdout",
     "output_type": "stream",
     "text": [
      "Epoch 110, Loss 0.0265\n",
      "Training Accuracy: 0.9689, Testing Accuracy: 0.9672\n",
      "\n"
     ]
    },
    {
     "name": "stdout",
     "output_type": "stream",
     "text": [
      "Epoch 120, Loss 0.0257\n",
      "Training Accuracy: 0.9702, Testing Accuracy: 0.9667\n",
      "\n"
     ]
    },
    {
     "name": "stdout",
     "output_type": "stream",
     "text": [
      "Epoch 130, Loss 0.0249\n",
      "Training Accuracy: 0.9705, Testing Accuracy: 0.9672\n",
      "\n"
     ]
    },
    {
     "name": "stdout",
     "output_type": "stream",
     "text": [
      "Epoch 140, Loss 0.0243\n",
      "Training Accuracy: 0.9717, Testing Accuracy: 0.9682\n",
      "\n"
     ]
    },
    {
     "name": "stdout",
     "output_type": "stream",
     "text": [
      "Epoch 150, Loss 0.0237\n",
      "Training Accuracy: 0.9725, Testing Accuracy: 0.9688\n",
      "\n"
     ]
    },
    {
     "name": "stdout",
     "output_type": "stream",
     "text": [
      "Epoch 160, Loss 0.0231\n",
      "Training Accuracy: 0.9735, Testing Accuracy: 0.9698\n",
      "\n"
     ]
    },
    {
     "name": "stdout",
     "output_type": "stream",
     "text": [
      "Epoch 170, Loss 0.0226\n",
      "Training Accuracy: 0.9734, Testing Accuracy: 0.9708\n",
      "\n"
     ]
    },
    {
     "name": "stdout",
     "output_type": "stream",
     "text": [
      "Epoch 180, Loss 0.0221\n",
      "Training Accuracy: 0.9742, Testing Accuracy: 0.9718\n",
      "\n"
     ]
    },
    {
     "name": "stdout",
     "output_type": "stream",
     "text": [
      "Epoch 190, Loss 0.0216\n",
      "Training Accuracy: 0.9749, Testing Accuracy: 0.9718\n",
      "\n"
     ]
    },
    {
     "name": "stdout",
     "output_type": "stream",
     "text": [
      "Epoch 200, Loss 0.0212\n",
      "Training Accuracy: 0.9755, Testing Accuracy: 0.9733\n",
      "\n"
     ]
    },
    {
     "name": "stdout",
     "output_type": "stream",
     "text": [
      "Epoch 210, Loss 0.0207\n",
      "Training Accuracy: 0.9764, Testing Accuracy: 0.9728\n",
      "\n"
     ]
    },
    {
     "name": "stdout",
     "output_type": "stream",
     "text": [
      "Epoch 220, Loss 0.0203\n",
      "Training Accuracy: 0.9769, Testing Accuracy: 0.9733\n",
      "\n"
     ]
    },
    {
     "name": "stdout",
     "output_type": "stream",
     "text": [
      "Epoch 230, Loss 0.0199\n",
      "Training Accuracy: 0.9775, Testing Accuracy: 0.9728\n",
      "\n"
     ]
    },
    {
     "name": "stdout",
     "output_type": "stream",
     "text": [
      "Epoch 240, Loss 0.0195\n",
      "Training Accuracy: 0.9785, Testing Accuracy: 0.9728\n",
      "\n"
     ]
    },
    {
     "name": "stdout",
     "output_type": "stream",
     "text": [
      "Epoch 250, Loss 0.0191\n",
      "Training Accuracy: 0.9791, Testing Accuracy: 0.9728\n",
      "\n"
     ]
    },
    {
     "data": {
      "text/plain": [
       "0.003130893285106885"
      ]
     },
     "execution_count": 20,
     "metadata": {},
     "output_type": "execute_result"
    }
   ],
   "source": [
    "print(\"====== Neural Network ======\")\n",
    "learner_nn.train_loop(dl)"
   ]
  },
  {
   "cell_type": "markdown",
   "metadata": {
    "papermill": {
     "duration": 0.034733,
     "end_time": "2020-12-15T10:16:41.496330",
     "exception": false,
     "start_time": "2020-12-15T10:16:41.461597",
     "status": "completed"
    },
    "tags": []
   },
   "source": [
    "### Logistic Regression based Implementation."
   ]
  },
  {
   "cell_type": "code",
   "execution_count": 21,
   "metadata": {
    "execution": {
     "iopub.execute_input": "2020-12-15T10:16:41.567596Z",
     "iopub.status.busy": "2020-12-15T10:16:41.567048Z",
     "iopub.status.idle": "2020-12-15T10:16:41.578002Z",
     "shell.execute_reply": "2020-12-15T10:16:41.578402Z"
    },
    "papermill": {
     "duration": 0.047709,
     "end_time": "2020-12-15T10:16:41.578531",
     "exception": false,
     "start_time": "2020-12-15T10:16:41.530822",
     "status": "completed"
    },
    "tags": []
   },
   "outputs": [],
   "source": [
    "learner_lr = Learner(loss, model_lr, opt, config.num_epochs)\n",
    "acc_lr = ClfCallback(learner_lr, config.bs, training_xdata , testing_xdata, training_ydata, testing_ydata)\n",
    "learner_lr.set_callbacks([acc_lr])"
   ]
  },
  {
   "cell_type": "code",
   "execution_count": 22,
   "metadata": {
    "execution": {
     "iopub.execute_input": "2020-12-15T10:16:41.665989Z",
     "iopub.status.busy": "2020-12-15T10:16:41.664987Z",
     "iopub.status.idle": "2020-12-15T10:17:00.623330Z",
     "shell.execute_reply": "2020-12-15T10:17:00.624038Z"
    },
    "papermill": {
     "duration": 19.011237,
     "end_time": "2020-12-15T10:17:00.624182",
     "exception": false,
     "start_time": "2020-12-15T10:16:41.612945",
     "status": "completed"
    },
    "tags": []
   },
   "outputs": [
    {
     "name": "stdout",
     "output_type": "stream",
     "text": [
      "====== Logistic Regression ======\n",
      "Epoch 0, Loss 0.2653\n",
      "Training Accuracy: 0.5792, Testing Accuracy: 0.5731\n",
      "\n"
     ]
    },
    {
     "name": "stdout",
     "output_type": "stream",
     "text": [
      "Epoch 10, Loss 0.1063\n",
      "Training Accuracy: 0.9028, Testing Accuracy: 0.9108\n",
      "\n"
     ]
    },
    {
     "name": "stdout",
     "output_type": "stream",
     "text": [
      "Epoch 20, Loss 0.0813\n",
      "Training Accuracy: 0.9251, Testing Accuracy: 0.9315\n",
      "\n"
     ]
    },
    {
     "name": "stdout",
     "output_type": "stream",
     "text": [
      "Epoch 30, Loss 0.0699\n",
      "Training Accuracy: 0.9347, Testing Accuracy: 0.9415\n",
      "\n"
     ]
    },
    {
     "name": "stdout",
     "output_type": "stream",
     "text": [
      "Epoch 40, Loss 0.0631\n",
      "Training Accuracy: 0.9387, Testing Accuracy: 0.9486\n",
      "\n"
     ]
    },
    {
     "name": "stdout",
     "output_type": "stream",
     "text": [
      "Epoch 50, Loss 0.0585\n",
      "Training Accuracy: 0.9424, Testing Accuracy: 0.9541\n",
      "\n"
     ]
    },
    {
     "name": "stdout",
     "output_type": "stream",
     "text": [
      "Epoch 60, Loss 0.055\n",
      "Training Accuracy: 0.9454, Testing Accuracy: 0.9561\n",
      "\n"
     ]
    },
    {
     "name": "stdout",
     "output_type": "stream",
     "text": [
      "Epoch 70, Loss 0.0524\n",
      "Training Accuracy: 0.9470, Testing Accuracy: 0.9597\n",
      "\n"
     ]
    },
    {
     "name": "stdout",
     "output_type": "stream",
     "text": [
      "Epoch 80, Loss 0.0503\n",
      "Training Accuracy: 0.9484, Testing Accuracy: 0.9612\n",
      "\n"
     ]
    },
    {
     "name": "stdout",
     "output_type": "stream",
     "text": [
      "Epoch 90, Loss 0.0485\n",
      "Training Accuracy: 0.9507, Testing Accuracy: 0.9637\n",
      "\n"
     ]
    },
    {
     "name": "stdout",
     "output_type": "stream",
     "text": [
      "Epoch 100, Loss 0.0471\n",
      "Training Accuracy: 0.9514, Testing Accuracy: 0.9647\n",
      "\n"
     ]
    },
    {
     "name": "stdout",
     "output_type": "stream",
     "text": [
      "Epoch 110, Loss 0.0458\n",
      "Training Accuracy: 0.9528, Testing Accuracy: 0.9647\n",
      "\n"
     ]
    },
    {
     "name": "stdout",
     "output_type": "stream",
     "text": [
      "Epoch 120, Loss 0.0447\n",
      "Training Accuracy: 0.9534, Testing Accuracy: 0.9652\n",
      "\n"
     ]
    },
    {
     "name": "stdout",
     "output_type": "stream",
     "text": [
      "Epoch 130, Loss 0.0437\n",
      "Training Accuracy: 0.9539, Testing Accuracy: 0.9657\n",
      "\n"
     ]
    },
    {
     "name": "stdout",
     "output_type": "stream",
     "text": [
      "Epoch 140, Loss 0.0429\n",
      "Training Accuracy: 0.9551, Testing Accuracy: 0.9657\n",
      "\n"
     ]
    },
    {
     "name": "stdout",
     "output_type": "stream",
     "text": [
      "Epoch 150, Loss 0.0421\n",
      "Training Accuracy: 0.9558, Testing Accuracy: 0.9652\n",
      "\n"
     ]
    },
    {
     "name": "stdout",
     "output_type": "stream",
     "text": [
      "Epoch 160, Loss 0.0414\n",
      "Training Accuracy: 0.9564, Testing Accuracy: 0.9652\n",
      "\n"
     ]
    },
    {
     "name": "stdout",
     "output_type": "stream",
     "text": [
      "Epoch 170, Loss 0.0408\n",
      "Training Accuracy: 0.9567, Testing Accuracy: 0.9657\n",
      "\n"
     ]
    },
    {
     "name": "stdout",
     "output_type": "stream",
     "text": [
      "Epoch 180, Loss 0.0402\n",
      "Training Accuracy: 0.9567, Testing Accuracy: 0.9652\n",
      "\n"
     ]
    },
    {
     "name": "stdout",
     "output_type": "stream",
     "text": [
      "Epoch 190, Loss 0.0396\n",
      "Training Accuracy: 0.9576, Testing Accuracy: 0.9657\n",
      "\n"
     ]
    },
    {
     "name": "stdout",
     "output_type": "stream",
     "text": [
      "Epoch 200, Loss 0.0391\n",
      "Training Accuracy: 0.9579, Testing Accuracy: 0.9652\n",
      "\n"
     ]
    },
    {
     "name": "stdout",
     "output_type": "stream",
     "text": [
      "Epoch 210, Loss 0.0387\n",
      "Training Accuracy: 0.9583, Testing Accuracy: 0.9647\n",
      "\n"
     ]
    },
    {
     "name": "stdout",
     "output_type": "stream",
     "text": [
      "Epoch 220, Loss 0.0382\n",
      "Training Accuracy: 0.9586, Testing Accuracy: 0.9647\n",
      "\n"
     ]
    },
    {
     "name": "stdout",
     "output_type": "stream",
     "text": [
      "Epoch 230, Loss 0.0378\n",
      "Training Accuracy: 0.9586, Testing Accuracy: 0.9647\n",
      "\n"
     ]
    },
    {
     "name": "stdout",
     "output_type": "stream",
     "text": [
      "Epoch 240, Loss 0.0375\n",
      "Training Accuracy: 0.9587, Testing Accuracy: 0.9652\n",
      "\n"
     ]
    },
    {
     "name": "stdout",
     "output_type": "stream",
     "text": [
      "Epoch 250, Loss 0.0371\n",
      "Training Accuracy: 0.9590, Testing Accuracy: 0.9652\n",
      "\n"
     ]
    },
    {
     "data": {
      "text/plain": [
       "0.023363406365188574"
      ]
     },
     "execution_count": 22,
     "metadata": {},
     "output_type": "execute_result"
    }
   ],
   "source": [
    "print(\"====== Logistic Regression ======\")\n",
    "learner_lr.train_loop(dl)"
   ]
  },
  {
   "cell_type": "markdown",
   "metadata": {
    "papermill": {
     "duration": 0.038854,
     "end_time": "2020-12-15T10:17:00.705976",
     "exception": false,
     "start_time": "2020-12-15T10:17:00.667122",
     "status": "completed"
    },
    "tags": []
   },
   "source": [
    "### Comparing results of NN and LR"
   ]
  },
  {
   "cell_type": "code",
   "execution_count": 23,
   "metadata": {
    "execution": {
     "iopub.execute_input": "2020-12-15T10:17:00.790730Z",
     "iopub.status.busy": "2020-12-15T10:17:00.790180Z",
     "iopub.status.idle": "2020-12-15T10:17:01.038580Z",
     "shell.execute_reply": "2020-12-15T10:17:01.037989Z"
    },
    "papermill": {
     "duration": 0.291261,
     "end_time": "2020-12-15T10:17:01.038709",
     "exception": false,
     "start_time": "2020-12-15T10:17:00.747448",
     "status": "completed"
    },
    "tags": []
   },
   "outputs": [
    {
     "data": {
      "text/plain": [
       "<matplotlib.legend.Legend at 0x7f4112625b70>"
      ]
     },
     "execution_count": 23,
     "metadata": {},
     "output_type": "execute_result"
    },
    {
     "data": {
      "image/png": "[encoded data removed]",
      "text/plain": [
       "<Figure size 1080x720 with 1 Axes>"
      ]
     },
     "metadata": {
      "needs_background": "light"
     },
     "output_type": "display_data"
    }
   ],
   "source": [
    "plt.figure(figsize=(15,10))\n",
    "\n",
    "# Neural Network plots\n",
    "plt.plot(acc_nn.accuracies, 'r-', label = \"Training Accuracies - NN\")\n",
    "plt.plot(acc_nn.test_accuracies, 'g-', label = \"Testing Accuracies - NN\")\n",
    "\n",
    "# Logistic Regression plots\n",
    "plt.plot(acc_lr.accuracies, 'k-', label = \"Training Accuracies - LR\")\n",
    "plt.plot(acc_lr.test_accuracies, 'b-', label = \"Testing Accuracies - LR\")\n",
    "\n",
    "plt.ylim(0.8, 1)\n",
    "\n",
    "plt.legend()\n",
    "\n"
   ]
  },
  {
   "cell_type": "markdown",
   "metadata": {
    "papermill": {
     "duration": 0.041523,
     "end_time": "2020-12-15T10:17:01.126506",
     "exception": false,
     "start_time": "2020-12-15T10:17:01.084983",
     "status": "completed"
    },
    "tags": []
   },
   "source": [
    "### From the plot, we can observe the following:\n",
    "- Neural Network achieves higher accuracy than the Logistic Regression model.\n",
    "- This apparently, is because of overfitting, i.e. NN captures more noise than data.\n",
    "- Testing accuracy of NN drops below the Training accuracy at higher epochs. This explains the over-fitting on training data.\n",
    "- Logistic Regression gives a reliable accuracy, without the above mentioned problem.\n"
   ]
  },
  {
   "cell_type": "markdown",
   "metadata": {
    "papermill": {
     "duration": 0.039374,
     "end_time": "2020-12-15T10:17:01.209533",
     "exception": false,
     "start_time": "2020-12-15T10:17:01.170159",
     "status": "completed"
    },
    "tags": []
   },
   "source": [
    "### Moving till the last but one layer (excluding it).\n",
    "#### Plotting the outputs of this layer of the NN."
   ]
  },
  {
   "cell_type": "code",
   "execution_count": 24,
   "metadata": {
    "execution": {
     "iopub.execute_input": "2020-12-15T10:17:01.305059Z",
     "iopub.status.busy": "2020-12-15T10:17:01.304352Z",
     "iopub.status.idle": "2020-12-15T10:17:01.310115Z",
     "shell.execute_reply": "2020-12-15T10:17:01.309265Z"
    },
    "papermill": {
     "duration": 0.062021,
     "end_time": "2020-12-15T10:17:01.310254",
     "exception": false,
     "start_time": "2020-12-15T10:17:01.248233",
     "status": "completed"
    },
    "tags": []
   },
   "outputs": [],
   "source": [
    "model_new = Model(layers[:-2])"
   ]
  },
  {
   "cell_type": "code",
   "execution_count": 25,
   "metadata": {
    "execution": {
     "iopub.execute_input": "2020-12-15T10:17:01.399009Z",
     "iopub.status.busy": "2020-12-15T10:17:01.398414Z",
     "iopub.status.idle": "2020-12-15T10:17:01.422811Z",
     "shell.execute_reply": "2020-12-15T10:17:01.423211Z"
    },
    "papermill": {
     "duration": 0.0703,
     "end_time": "2020-12-15T10:17:01.423342",
     "exception": false,
     "start_time": "2020-12-15T10:17:01.353042",
     "status": "completed"
    },
    "tags": []
   },
   "outputs": [],
   "source": [
    "plot_testing = model_new(testing_xdata)"
   ]
  },
  {
   "cell_type": "code",
   "execution_count": 26,
   "metadata": {
    "execution": {
     "iopub.execute_input": "2020-12-15T10:17:01.511394Z",
     "iopub.status.busy": "2020-12-15T10:17:01.510790Z",
     "iopub.status.idle": "2020-12-15T10:17:01.729800Z",
     "shell.execute_reply": "2020-12-15T10:17:01.730224Z"
    },
    "papermill": {
     "duration": 0.267354,
     "end_time": "2020-12-15T10:17:01.730365",
     "exception": false,
     "start_time": "2020-12-15T10:17:01.463011",
     "status": "completed"
    },
    "tags": []
   },
   "outputs": [
    {
     "data": {
      "text/plain": [
       "Text(0.5, 1.0, 'Outputs')"
      ]
     },
     "execution_count": 26,
     "metadata": {},
     "output_type": "execute_result"
    },
    {
     "data": {
      "image/png": "[encoded data removed]",
      "text/plain": [
       "<Figure size 576x504 with 1 Axes>"
      ]
     },
     "metadata": {
      "needs_background": "light"
     },
     "output_type": "display_data"
    }
   ],
   "source": [
    "plt.figure(figsize=(8,7))\n",
    "plt.scatter(plot_testing[:,0], plot_testing[:,1], alpha = 0.1, c = y_test.ravel());\n",
    "plt.title('Outputs')"
   ]
  },
  {
   "cell_type": "markdown",
   "metadata": {
    "papermill": {
     "duration": 0.046607,
     "end_time": "2020-12-15T10:17:01.818873",
     "exception": false,
     "start_time": "2020-12-15T10:17:01.772266",
     "status": "completed"
    },
    "tags": []
   },
   "source": [
    "### Plotting probability contours"
   ]
  },
  {
   "cell_type": "code",
   "execution_count": 27,
   "metadata": {
    "execution": {
     "iopub.execute_input": "2020-12-15T10:17:01.916702Z",
     "iopub.status.busy": "2020-12-15T10:17:01.914319Z",
     "iopub.status.idle": "2020-12-15T10:17:01.921626Z",
     "shell.execute_reply": "2020-12-15T10:17:01.922048Z"
    },
    "papermill": {
     "duration": 0.061193,
     "end_time": "2020-12-15T10:17:01.922172",
     "exception": false,
     "start_time": "2020-12-15T10:17:01.860979",
     "status": "completed"
    },
    "tags": []
   },
   "outputs": [],
   "source": [
    "model_prob = Model(layers[-2:]) "
   ]
  },
  {
   "cell_type": "code",
   "execution_count": 28,
   "metadata": {
    "execution": {
     "iopub.execute_input": "2020-12-15T10:17:02.021242Z",
     "iopub.status.busy": "2020-12-15T10:17:02.013429Z",
     "iopub.status.idle": "2020-12-15T10:17:02.024021Z",
     "shell.execute_reply": "2020-12-15T10:17:02.024451Z"
    },
    "papermill": {
     "duration": 0.06018,
     "end_time": "2020-12-15T10:17:02.024608",
     "exception": false,
     "start_time": "2020-12-15T10:17:01.964428",
     "status": "completed"
    },
    "tags": []
   },
   "outputs": [],
   "source": [
    "# Adjust the x and y ranges according to the above generated plot.\n",
    "x_range = np.linspace(-4, 1, 100) \n",
    "y_range = np.linspace(-6, 6, 100) \n",
    "x_grid, y_grid = np.meshgrid(x_range, y_range) # x_grid and y_grig are of size 100 X 100\n",
    "\n",
    "# converting x_grid and y_grid to continuous arrays\n",
    "x_grid_flat = np.ravel(x_grid)\n",
    "y_grid_flat = np.ravel(y_grid)\n",
    "\n",
    "# The last layer of the current model takes two columns as input. Hence transpose of np.vstack() is required.\n",
    "X = np.vstack((x_grid_flat, y_grid_flat)).T\n",
    "\n",
    "# x_grid and y_grid are of size 100 x 100\n",
    "probability_contour = model_prob(X).reshape(100,100) "
   ]
  },
  {
   "cell_type": "code",
   "execution_count": 29,
   "metadata": {
    "execution": {
     "iopub.execute_input": "2020-12-15T10:17:02.144738Z",
     "iopub.status.busy": "2020-12-15T10:17:02.144224Z",
     "iopub.status.idle": "2020-12-15T10:17:02.394706Z",
     "shell.execute_reply": "2020-12-15T10:17:02.393934Z"
    },
    "papermill": {
     "duration": 0.304154,
     "end_time": "2020-12-15T10:17:02.394833",
     "exception": false,
     "start_time": "2020-12-15T10:17:02.090679",
     "status": "completed"
    },
    "tags": []
   },
   "outputs": [
    {
     "data": {
      "image/png": "[encoded data removed]",
      "text/plain": [
       "<Figure size 720x648 with 1 Axes>"
      ]
     },
     "metadata": {
      "needs_background": "light"
     },
     "output_type": "display_data"
    }
   ],
   "source": [
    "plt.figure(figsize=(10,9))\n",
    "plt.scatter(plot_testing[:,0], plot_testing[:,1], alpha = 0.1, c = y_test.ravel())\n",
    "contours = plt.contour(x_grid,y_grid,probability_contour)\n",
    "plt.title('Probability Contours')\n",
    "plt.clabel(contours, inline = True );"
   ]
  }
 ],
 "metadata": {
  "kernelspec": {
   "display_name": "Python 3",
   "language": "python",
   "name": "python3"
  },
  "language_info": {
   "codemirror_mode": {
    "name": "ipython",
    "version": 3
   },
   "file_extension": ".py",
   "mimetype": "text/x-python",
   "name": "python",
   "nbconvert_exporter": "python",
   "pygments_lexer": "ipython3",
   "version": "3.6.12"
  },
  "papermill": {
   "duration": 157.317448,
   "end_time": "2020-12-15T10:17:03.642665",
   "environment_variables": {},
   "exception": null,
   "input_path": "2020-08-11-NeuralNetwork.ipynb",
   "output_path": "2020-08-11-NeuralNetwork.ipynb",
   "parameters": {},
   "start_time": "2020-12-15T10:14:26.325217",
   "version": "2.1.2"
  }
 },
 "nbformat": 4,
 "nbformat_minor": 4
}