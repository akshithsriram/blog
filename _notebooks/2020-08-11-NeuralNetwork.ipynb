{
 "cells": [
  {
   "cell_type": "markdown",
   "metadata": {
    "papermill": {
     "duration": 0.032005,
     "end_time": "2020-10-17T20:04:19.867632",
     "exception": false,
     "start_time": "2020-10-17T20:04:19.835627",
     "status": "completed"
    },
    "tags": []
   },
   "source": [
    "# \"A Basic Neural Network: Differentiate Hand-Written Digits\"\n",
    "\n",
    "- badges: true\n",
    "- author: Akshith Sriram"
   ]
  },
  {
   "cell_type": "markdown",
   "metadata": {
    "papermill": {
     "duration": 0.026861,
     "end_time": "2020-10-17T20:04:19.922832",
     "exception": false,
     "start_time": "2020-10-17T20:04:19.895971",
     "status": "completed"
    },
    "tags": []
   },
   "source": [
    "### Key Objectives:\n",
    "- Building a neural network that differentiates two hand-written digits 3 and 8.\n",
    "- Comparing the results of this Neural Network (NN) to that of a Logistic Regression (LR) model.\n",
    "\n",
    "### Requirements:\n",
    "- 'Kudzu' : A neural network library that was designed during our course by [Univ.AI](www.univ.ai). \n",
    "- MNIST Database\n",
    "\n",
    "If MNIST is not installed, use the command `!pip install mnist` given below.\n",
    "It can be run both from the command line and Jupyter Notebook."
   ]
  },
  {
   "cell_type": "code",
   "execution_count": 1,
   "metadata": {
    "execution": {
     "iopub.execute_input": "2020-10-17T20:04:19.981000Z",
     "iopub.status.busy": "2020-10-17T20:04:19.980293Z",
     "iopub.status.idle": "2020-10-17T20:04:21.528948Z",
     "shell.execute_reply": "2020-10-17T20:04:21.528220Z"
    },
    "papermill": {
     "duration": 1.580487,
     "end_time": "2020-10-17T20:04:21.529135",
     "exception": false,
     "start_time": "2020-10-17T20:04:19.948648",
     "status": "completed"
    },
    "tags": []
   },
   "outputs": [
    {
     "name": "stdout",
     "output_type": "stream",
     "text": [
      "Collecting mnist\r\n"
     ]
    },
    {
     "name": "stdout",
     "output_type": "stream",
     "text": [
      "  Downloading mnist-0.2.2-py2.py3-none-any.whl (3.5 kB)\r\n"
     ]
    },
    {
     "name": "stdout",
     "output_type": "stream",
     "text": [
      "Requirement already satisfied: numpy in /opt/hostedtoolcache/Python/3.6.12/x64/lib/python3.6/site-packages (from mnist) (1.19.2)\r\n"
     ]
    },
    {
     "name": "stdout",
     "output_type": "stream",
     "text": [
      "Installing collected packages: mnist\r\n"
     ]
    },
    {
     "name": "stdout",
     "output_type": "stream",
     "text": [
      "Successfully installed mnist-0.2.2\r\n"
     ]
    }
   ],
   "source": [
    "!pip install mnist "
   ]
  },
  {
   "cell_type": "markdown",
   "metadata": {
    "papermill": {
     "duration": 0.028174,
     "end_time": "2020-10-17T20:04:21.586553",
     "exception": false,
     "start_time": "2020-10-17T20:04:21.558379",
     "status": "completed"
    },
    "tags": []
   },
   "source": [
    "#### Importing necessary libraries"
   ]
  },
  {
   "cell_type": "code",
   "execution_count": 2,
   "metadata": {
    "execution": {
     "iopub.execute_input": "2020-10-17T20:04:21.661548Z",
     "iopub.status.busy": "2020-10-17T20:04:21.660767Z",
     "iopub.status.idle": "2020-10-17T20:04:22.253454Z",
     "shell.execute_reply": "2020-10-17T20:04:22.252244Z"
    },
    "papermill": {
     "duration": 0.637859,
     "end_time": "2020-10-17T20:04:22.253672",
     "exception": false,
     "start_time": "2020-10-17T20:04:21.615813",
     "status": "completed"
    },
    "tags": []
   },
   "outputs": [],
   "source": [
    "%load_ext autoreload\n",
    "%autoreload 2\n",
    "\n",
    "%matplotlib inline\n",
    "import matplotlib.pyplot as plt\n",
    "\n",
    "import numpy as np\n",
    "import pandas as pd"
   ]
  },
  {
   "cell_type": "markdown",
   "metadata": {
    "papermill": {
     "duration": 0.250556,
     "end_time": "2020-10-17T20:04:22.535191",
     "exception": false,
     "start_time": "2020-10-17T20:04:22.284635",
     "status": "completed"
    },
    "tags": []
   },
   "source": [
    "### Preparing the Data"
   ]
  },
  {
   "cell_type": "code",
   "execution_count": 3,
   "metadata": {
    "execution": {
     "iopub.execute_input": "2020-10-17T20:04:22.599753Z",
     "iopub.status.busy": "2020-10-17T20:04:22.598953Z",
     "iopub.status.idle": "2020-10-17T20:04:22.611946Z",
     "shell.execute_reply": "2020-10-17T20:04:22.611267Z"
    },
    "papermill": {
     "duration": 0.046888,
     "end_time": "2020-10-17T20:04:22.612100",
     "exception": false,
     "start_time": "2020-10-17T20:04:22.565212",
     "status": "completed"
    },
    "tags": []
   },
   "outputs": [],
   "source": [
    "import mnist"
   ]
  },
  {
   "cell_type": "code",
   "execution_count": 4,
   "metadata": {
    "execution": {
     "iopub.execute_input": "2020-10-17T20:04:22.672486Z",
     "iopub.status.busy": "2020-10-17T20:04:22.671878Z",
     "iopub.status.idle": "2020-10-17T20:04:24.445474Z",
     "shell.execute_reply": "2020-10-17T20:04:24.444920Z"
    },
    "papermill": {
     "duration": 1.805194,
     "end_time": "2020-10-17T20:04:24.445665",
     "exception": false,
     "start_time": "2020-10-17T20:04:22.640471",
     "status": "completed"
    },
    "tags": []
   },
   "outputs": [],
   "source": [
    "train_images = mnist.train_images()\n",
    "train_labels = mnist.train_labels()"
   ]
  },
  {
   "cell_type": "code",
   "execution_count": 5,
   "metadata": {
    "execution": {
     "iopub.execute_input": "2020-10-17T20:04:24.508479Z",
     "iopub.status.busy": "2020-10-17T20:04:24.507750Z",
     "iopub.status.idle": "2020-10-17T20:04:24.523113Z",
     "shell.execute_reply": "2020-10-17T20:04:24.523715Z"
    },
    "papermill": {
     "duration": 0.050005,
     "end_time": "2020-10-17T20:04:24.523927",
     "exception": false,
     "start_time": "2020-10-17T20:04:24.473922",
     "status": "completed"
    },
    "tags": []
   },
   "outputs": [
    {
     "data": {
      "text/plain": [
       "((60000, 28, 28), (60000,))"
      ]
     },
     "execution_count": 5,
     "metadata": {},
     "output_type": "execute_result"
    }
   ],
   "source": [
    "train_images.shape, train_labels.shape"
   ]
  },
  {
   "cell_type": "code",
   "execution_count": 6,
   "metadata": {
    "execution": {
     "iopub.execute_input": "2020-10-17T20:04:24.590419Z",
     "iopub.status.busy": "2020-10-17T20:04:24.589778Z",
     "iopub.status.idle": "2020-10-17T20:04:25.702928Z",
     "shell.execute_reply": "2020-10-17T20:04:25.701506Z"
    },
    "papermill": {
     "duration": 1.149419,
     "end_time": "2020-10-17T20:04:25.703156",
     "exception": false,
     "start_time": "2020-10-17T20:04:24.553737",
     "status": "completed"
    },
    "tags": []
   },
   "outputs": [],
   "source": [
    "test_images = mnist.test_images()\n",
    "test_labels = mnist.test_labels()"
   ]
  },
  {
   "cell_type": "code",
   "execution_count": 7,
   "metadata": {
    "execution": {
     "iopub.execute_input": "2020-10-17T20:04:25.766161Z",
     "iopub.status.busy": "2020-10-17T20:04:25.765474Z",
     "iopub.status.idle": "2020-10-17T20:04:25.780267Z",
     "shell.execute_reply": "2020-10-17T20:04:25.779703Z"
    },
    "papermill": {
     "duration": 0.048381,
     "end_time": "2020-10-17T20:04:25.780538",
     "exception": false,
     "start_time": "2020-10-17T20:04:25.732157",
     "status": "completed"
    },
    "tags": []
   },
   "outputs": [
    {
     "data": {
      "text/plain": [
       "((10000, 28, 28), (10000,))"
      ]
     },
     "execution_count": 7,
     "metadata": {},
     "output_type": "execute_result"
    }
   ],
   "source": [
    "test_images.shape, test_labels.shape"
   ]
  },
  {
   "cell_type": "code",
   "execution_count": 8,
   "metadata": {
    "execution": {
     "iopub.execute_input": "2020-10-17T20:04:25.850405Z",
     "iopub.status.busy": "2020-10-17T20:04:25.849716Z",
     "iopub.status.idle": "2020-10-17T20:04:26.032499Z",
     "shell.execute_reply": "2020-10-17T20:04:26.033062Z"
    },
    "papermill": {
     "duration": 0.221898,
     "end_time": "2020-10-17T20:04:26.033245",
     "exception": false,
     "start_time": "2020-10-17T20:04:25.811347",
     "status": "completed"
    },
    "tags": []
   },
   "outputs": [
    {
     "name": "stdout",
     "output_type": "stream",
     "text": [
      "2\n"
     ]
    },
    {
     "data": {
      "text/plain": [
       "<matplotlib.image.AxesImage at 0x7f0596e59978>"
      ]
     },
     "execution_count": 8,
     "metadata": {},
     "output_type": "execute_result"
    },
    {
     "data": {
      "image/png": "[encoded data removed]",
      "text/plain": [
       "<Figure size 432x288 with 1 Axes>"
      ]
     },
     "metadata": {
      "needs_background": "light"
     },
     "output_type": "display_data"
    }
   ],
   "source": [
    "image_index = 7776 # You may select anything up to 60,000\n",
    "print(train_labels[image_index]) \n",
    "plt.imshow(train_images[image_index], cmap='Greys')"
   ]
  },
  {
   "cell_type": "markdown",
   "metadata": {
    "papermill": {
     "duration": 0.031628,
     "end_time": "2020-10-17T20:04:26.096616",
     "exception": false,
     "start_time": "2020-10-17T20:04:26.064988",
     "status": "completed"
    },
    "tags": []
   },
   "source": [
    "## Filter data to get 3 and 8 out"
   ]
  },
  {
   "cell_type": "code",
   "execution_count": 9,
   "metadata": {
    "execution": {
     "iopub.execute_input": "2020-10-17T20:04:26.165267Z",
     "iopub.status.busy": "2020-10-17T20:04:26.164383Z",
     "iopub.status.idle": "2020-10-17T20:04:26.185763Z",
     "shell.execute_reply": "2020-10-17T20:04:26.185037Z"
    },
    "papermill": {
     "duration": 0.05849,
     "end_time": "2020-10-17T20:04:26.185927",
     "exception": false,
     "start_time": "2020-10-17T20:04:26.127437",
     "status": "completed"
    },
    "tags": []
   },
   "outputs": [],
   "source": [
    "train_filter = np.where((train_labels == 3 ) | (train_labels == 8))\n",
    "test_filter = np.where((test_labels == 3) | (test_labels == 8))\n",
    "X_train, y_train = train_images[train_filter], train_labels[train_filter]\n",
    "X_test, y_test = test_images[test_filter], test_labels[test_filter]"
   ]
  },
  {
   "cell_type": "markdown",
   "metadata": {
    "papermill": {
     "duration": 0.031254,
     "end_time": "2020-10-17T20:04:26.249362",
     "exception": false,
     "start_time": "2020-10-17T20:04:26.218108",
     "status": "completed"
    },
    "tags": []
   },
   "source": [
    "We normalize the pixel values in the 0 to 1 range"
   ]
  },
  {
   "cell_type": "code",
   "execution_count": 10,
   "metadata": {
    "execution": {
     "iopub.execute_input": "2020-10-17T20:04:26.328615Z",
     "iopub.status.busy": "2020-10-17T20:04:26.327900Z",
     "iopub.status.idle": "2020-10-17T20:04:26.395335Z",
     "shell.execute_reply": "2020-10-17T20:04:26.394591Z"
    },
    "papermill": {
     "duration": 0.10539,
     "end_time": "2020-10-17T20:04:26.395493",
     "exception": false,
     "start_time": "2020-10-17T20:04:26.290103",
     "status": "completed"
    },
    "tags": []
   },
   "outputs": [],
   "source": [
    "X_train = X_train/255.\n",
    "X_test = X_test/255."
   ]
  },
  {
   "cell_type": "markdown",
   "metadata": {
    "papermill": {
     "duration": 0.030882,
     "end_time": "2020-10-17T20:04:26.460422",
     "exception": false,
     "start_time": "2020-10-17T20:04:26.429540",
     "status": "completed"
    },
    "tags": []
   },
   "source": [
    "Setup the labels as 1 (when the digit is 3) and 0 (when the digit is 8)"
   ]
  },
  {
   "cell_type": "code",
   "execution_count": 11,
   "metadata": {
    "execution": {
     "iopub.execute_input": "2020-10-17T20:04:26.542150Z",
     "iopub.status.busy": "2020-10-17T20:04:26.541457Z",
     "iopub.status.idle": "2020-10-17T20:04:26.549325Z",
     "shell.execute_reply": "2020-10-17T20:04:26.548717Z"
    },
    "papermill": {
     "duration": 0.057033,
     "end_time": "2020-10-17T20:04:26.549462",
     "exception": false,
     "start_time": "2020-10-17T20:04:26.492429",
     "status": "completed"
    },
    "tags": []
   },
   "outputs": [],
   "source": [
    "y_train = 1*(y_train==3)\n",
    "y_test = 1*(y_test==3)"
   ]
  },
  {
   "cell_type": "code",
   "execution_count": 12,
   "metadata": {
    "execution": {
     "iopub.execute_input": "2020-10-17T20:04:26.623404Z",
     "iopub.status.busy": "2020-10-17T20:04:26.622300Z",
     "iopub.status.idle": "2020-10-17T20:04:26.634700Z",
     "shell.execute_reply": "2020-10-17T20:04:26.634133Z"
    },
    "papermill": {
     "duration": 0.054118,
     "end_time": "2020-10-17T20:04:26.634833",
     "exception": false,
     "start_time": "2020-10-17T20:04:26.580715",
     "status": "completed"
    },
    "tags": []
   },
   "outputs": [
    {
     "data": {
      "text/plain": [
       "((11982, 28, 28), (1984, 28, 28))"
      ]
     },
     "execution_count": 12,
     "metadata": {},
     "output_type": "execute_result"
    }
   ],
   "source": [
    "X_train.shape, X_test.shape"
   ]
  },
  {
   "cell_type": "markdown",
   "metadata": {
    "papermill": {
     "duration": 0.031448,
     "end_time": "2020-10-17T20:04:26.696594",
     "exception": false,
     "start_time": "2020-10-17T20:04:26.665146",
     "status": "completed"
    },
    "tags": []
   },
   "source": [
    "### Reshape the input data to create a linear array"
   ]
  },
  {
   "cell_type": "code",
   "execution_count": 13,
   "metadata": {
    "execution": {
     "iopub.execute_input": "2020-10-17T20:04:26.783424Z",
     "iopub.status.busy": "2020-10-17T20:04:26.782582Z",
     "iopub.status.idle": "2020-10-17T20:04:26.786580Z",
     "shell.execute_reply": "2020-10-17T20:04:26.787214Z"
    },
    "papermill": {
     "duration": 0.059542,
     "end_time": "2020-10-17T20:04:26.787371",
     "exception": false,
     "start_time": "2020-10-17T20:04:26.727829",
     "status": "completed"
    },
    "tags": []
   },
   "outputs": [
    {
     "data": {
      "text/plain": [
       "((11982, 784), (1984, 784))"
      ]
     },
     "execution_count": 13,
     "metadata": {},
     "output_type": "execute_result"
    }
   ],
   "source": [
    "X_train = X_train.reshape(X_train.shape[0], -1)\n",
    "X_test = X_test.reshape(X_test.shape[0], -1)\n",
    "X_train.shape, X_test.shape"
   ]
  },
  {
   "cell_type": "markdown",
   "metadata": {
    "papermill": {
     "duration": 0.031029,
     "end_time": "2020-10-17T20:04:26.849961",
     "exception": false,
     "start_time": "2020-10-17T20:04:26.818932",
     "status": "completed"
    },
    "tags": []
   },
   "source": [
    "### Importing appropriate functions from 'Kudzu'"
   ]
  },
  {
   "cell_type": "code",
   "execution_count": 14,
   "metadata": {
    "execution": {
     "iopub.execute_input": "2020-10-17T20:04:26.930237Z",
     "iopub.status.busy": "2020-10-17T20:04:26.921892Z",
     "iopub.status.idle": "2020-10-17T20:04:26.939537Z",
     "shell.execute_reply": "2020-10-17T20:04:26.938961Z"
    },
    "papermill": {
     "duration": 0.059285,
     "end_time": "2020-10-17T20:04:26.939677",
     "exception": false,
     "start_time": "2020-10-17T20:04:26.880392",
     "status": "completed"
    },
    "tags": []
   },
   "outputs": [],
   "source": [
    "from kudzu.layer import Sigmoid\n",
    "from kudzu.layer import Relu\n",
    "from kudzu.layer import Affine, Sigmoid\n",
    "\n",
    "from kudzu.model import Model\n",
    "from kudzu.train import Learner\n",
    "from kudzu.optim import GD\n",
    "from kudzu.data import Data, Dataloader, Sampler\n",
    "\n",
    "from kudzu.callbacks import AccCallback\n",
    "from kudzu.callbacks import ClfCallback\n",
    "\n",
    "from kudzu.loss import MSE"
   ]
  },
  {
   "cell_type": "markdown",
   "metadata": {
    "papermill": {
     "duration": 0.03086,
     "end_time": "2020-10-17T20:04:27.002299",
     "exception": false,
     "start_time": "2020-10-17T20:04:26.971439",
     "status": "completed"
    },
    "tags": []
   },
   "source": [
    "### Let us create a `Config` class, to store important parameters. \n",
    "This class essentially plays the role of a dictionary."
   ]
  },
  {
   "cell_type": "code",
   "execution_count": 15,
   "metadata": {
    "execution": {
     "iopub.execute_input": "2020-10-17T20:04:27.074836Z",
     "iopub.status.busy": "2020-10-17T20:04:27.073847Z",
     "iopub.status.idle": "2020-10-17T20:04:27.087188Z",
     "shell.execute_reply": "2020-10-17T20:04:27.087916Z"
    },
    "papermill": {
     "duration": 0.052971,
     "end_time": "2020-10-17T20:04:27.088117",
     "exception": false,
     "start_time": "2020-10-17T20:04:27.035146",
     "status": "completed"
    },
    "tags": []
   },
   "outputs": [],
   "source": [
    "class Config:\n",
    "    pass\n",
    "config = Config()\n",
    "config.lr = 0.001\n",
    "config.num_epochs = 251\n",
    "config.bs = 50"
   ]
  },
  {
   "cell_type": "markdown",
   "metadata": {
    "papermill": {
     "duration": 0.030458,
     "end_time": "2020-10-17T20:04:27.149526",
     "exception": false,
     "start_time": "2020-10-17T20:04:27.119068",
     "status": "completed"
    },
    "tags": []
   },
   "source": [
    "### Initializing data to the variables"
   ]
  },
  {
   "cell_type": "code",
   "execution_count": 16,
   "metadata": {
    "execution": {
     "iopub.execute_input": "2020-10-17T20:04:27.227550Z",
     "iopub.status.busy": "2020-10-17T20:04:27.221767Z",
     "iopub.status.idle": "2020-10-17T20:04:27.229839Z",
     "shell.execute_reply": "2020-10-17T20:04:27.230318Z"
    },
    "papermill": {
     "duration": 0.05119,
     "end_time": "2020-10-17T20:04:27.230518",
     "exception": false,
     "start_time": "2020-10-17T20:04:27.179328",
     "status": "completed"
    },
    "tags": []
   },
   "outputs": [],
   "source": [
    "data = Data(X_train, y_train.reshape(-1,1))\n",
    "sampler = Sampler(data, config.bs, shuffle=True)\n",
    "\n",
    "dl = Dataloader(data, sampler)\n",
    "\n",
    "opt = GD(config.lr)\n",
    "loss = MSE()"
   ]
  },
  {
   "cell_type": "code",
   "execution_count": 17,
   "metadata": {
    "execution": {
     "iopub.execute_input": "2020-10-17T20:04:27.309203Z",
     "iopub.status.busy": "2020-10-17T20:04:27.301880Z",
     "iopub.status.idle": "2020-10-17T20:04:27.312297Z",
     "shell.execute_reply": "2020-10-17T20:04:27.311480Z"
    },
    "papermill": {
     "duration": 0.052502,
     "end_time": "2020-10-17T20:04:27.312501",
     "exception": false,
     "start_time": "2020-10-17T20:04:27.259999",
     "status": "completed"
    },
    "tags": []
   },
   "outputs": [],
   "source": [
    "training_xdata = X_train\n",
    "testing_xdata = X_test\n",
    "training_ydata = y_train.reshape(-1,1)\n",
    "testing_ydata = y_test.reshape(-1,1)"
   ]
  },
  {
   "cell_type": "markdown",
   "metadata": {
    "papermill": {
     "duration": 0.031617,
     "end_time": "2020-10-17T20:04:27.612078",
     "exception": false,
     "start_time": "2020-10-17T20:04:27.580461",
     "status": "completed"
    },
    "tags": []
   },
   "source": [
    "### Running Models with the Training data\n",
    "Details about the network layers:\n",
    "- A first affine layer has 784 inputs and does 100 affine transforms. These are followed by a Relu\n",
    "- A second affine layer has 100 inputs from the 100 activations of the past layer, and does 100 affine transforms. These are followed by a Relu\n",
    "- A third affine layer has 100 activations and does 2 affine transformations to create an embedding for visualization. There is no non-linearity here.\n",
    "- A final \"logistic regression\" which has an affine transform from 2 inputs to 1 output, which is squeezed through a sigmoid.\n",
    "\n",
    "Help taken from Anshuman's Notebook."
   ]
  },
  {
   "cell_type": "code",
   "execution_count": 18,
   "metadata": {
    "execution": {
     "iopub.execute_input": "2020-10-17T20:04:27.680173Z",
     "iopub.status.busy": "2020-10-17T20:04:27.679558Z",
     "iopub.status.idle": "2020-10-17T20:04:27.695777Z",
     "shell.execute_reply": "2020-10-17T20:04:27.695221Z"
    },
    "papermill": {
     "duration": 0.05241,
     "end_time": "2020-10-17T20:04:27.695904",
     "exception": false,
     "start_time": "2020-10-17T20:04:27.643494",
     "status": "completed"
    },
    "tags": []
   },
   "outputs": [],
   "source": [
    "# layers for the Neural Network\n",
    "layers = [Affine(\"first\", 784, 100), Relu(\"first\"), Affine(\"second\", 100, 100), Relu(\"second\"), Affine(\"third\", 100, 2), Affine(\"final\", 2, 1), Sigmoid(\"final\")]\n",
    "model_nn = Model(layers)\n",
    "\n",
    "# layers for the Logistic Regression\n",
    "layers_lr = [Affine(\"logits\", 784, 1), Sigmoid(\"sigmoid\")]\n",
    "model_lr = Model(layers_lr)"
   ]
  },
  {
   "cell_type": "code",
   "execution_count": 19,
   "metadata": {
    "execution": {
     "iopub.execute_input": "2020-10-17T20:04:27.774191Z",
     "iopub.status.busy": "2020-10-17T20:04:27.763413Z",
     "iopub.status.idle": "2020-10-17T20:04:27.781282Z",
     "shell.execute_reply": "2020-10-17T20:04:27.780552Z"
    },
    "papermill": {
     "duration": 0.054151,
     "end_time": "2020-10-17T20:04:27.781408",
     "exception": false,
     "start_time": "2020-10-17T20:04:27.727257",
     "status": "completed"
    },
    "tags": []
   },
   "outputs": [],
   "source": [
    "# suffix _nn stands for Neural Network.\n",
    "learner_nn = Learner(loss, model_nn, opt, config.num_epochs)\n",
    "acc_nn = ClfCallback(learner_nn, config.bs, training_xdata , testing_xdata, training_ydata, testing_ydata)\n",
    "learner_nn.set_callbacks([acc_nn])"
   ]
  },
  {
   "cell_type": "code",
   "execution_count": 20,
   "metadata": {
    "execution": {
     "iopub.execute_input": "2020-10-17T20:04:27.853353Z",
     "iopub.status.busy": "2020-10-17T20:04:27.852465Z",
     "iopub.status.idle": "2020-10-17T20:06:45.564068Z",
     "shell.execute_reply": "2020-10-17T20:06:45.565787Z"
    },
    "papermill": {
     "duration": 137.754382,
     "end_time": "2020-10-17T20:06:45.566194",
     "exception": false,
     "start_time": "2020-10-17T20:04:27.811812",
     "status": "completed"
    },
    "tags": []
   },
   "outputs": [
    {
     "name": "stdout",
     "output_type": "stream",
     "text": [
      "====== Neural Network ======\n"
     ]
    },
    {
     "name": "stdout",
     "output_type": "stream",
     "text": [
      "Epoch 0, Loss 0.2426\n",
      "Training Accuracy: 0.6755, Testing Accuracy: 0.6951\n",
      "\n"
     ]
    },
    {
     "name": "stdout",
     "output_type": "stream",
     "text": [
      "Epoch 10, Loss 0.1843\n",
      "Training Accuracy: 0.8722, Testing Accuracy: 0.8780\n",
      "\n"
     ]
    },
    {
     "name": "stdout",
     "output_type": "stream",
     "text": [
      "Epoch 20, Loss 0.0937\n",
      "Training Accuracy: 0.9115, Testing Accuracy: 0.9204\n",
      "\n"
     ]
    },
    {
     "name": "stdout",
     "output_type": "stream",
     "text": [
      "Epoch 30, Loss 0.0609\n",
      "Training Accuracy: 0.9354, Testing Accuracy: 0.9471\n",
      "\n"
     ]
    },
    {
     "name": "stdout",
     "output_type": "stream",
     "text": [
      "Epoch 40, Loss 0.0478\n",
      "Training Accuracy: 0.9467, Testing Accuracy: 0.9582\n",
      "\n"
     ]
    },
    {
     "name": "stdout",
     "output_type": "stream",
     "text": [
      "Epoch 50, Loss 0.0411\n",
      "Training Accuracy: 0.9529, Testing Accuracy: 0.9627\n",
      "\n"
     ]
    },
    {
     "name": "stdout",
     "output_type": "stream",
     "text": [
      "Epoch 60, Loss 0.0371\n",
      "Training Accuracy: 0.9564, Testing Accuracy: 0.9662\n",
      "\n"
     ]
    },
    {
     "name": "stdout",
     "output_type": "stream",
     "text": [
      "Epoch 70, Loss 0.0343\n",
      "Training Accuracy: 0.9594, Testing Accuracy: 0.9667\n",
      "\n"
     ]
    },
    {
     "name": "stdout",
     "output_type": "stream",
     "text": [
      "Epoch 80, Loss 0.0323\n",
      "Training Accuracy: 0.9613, Testing Accuracy: 0.9682\n",
      "\n"
     ]
    },
    {
     "name": "stdout",
     "output_type": "stream",
     "text": [
      "Epoch 90, Loss 0.0307\n",
      "Training Accuracy: 0.9632, Testing Accuracy: 0.9688\n",
      "\n"
     ]
    },
    {
     "name": "stdout",
     "output_type": "stream",
     "text": [
      "Epoch 100, Loss 0.0294\n",
      "Training Accuracy: 0.9649, Testing Accuracy: 0.9698\n",
      "\n"
     ]
    },
    {
     "name": "stdout",
     "output_type": "stream",
     "text": [
      "Epoch 110, Loss 0.0283\n",
      "Training Accuracy: 0.9659, Testing Accuracy: 0.9708\n",
      "\n"
     ]
    },
    {
     "name": "stdout",
     "output_type": "stream",
     "text": [
      "Epoch 120, Loss 0.0274\n",
      "Training Accuracy: 0.9668, Testing Accuracy: 0.9723\n",
      "\n"
     ]
    },
    {
     "name": "stdout",
     "output_type": "stream",
     "text": [
      "Epoch 130, Loss 0.0266\n",
      "Training Accuracy: 0.9681, Testing Accuracy: 0.9718\n",
      "\n"
     ]
    },
    {
     "name": "stdout",
     "output_type": "stream",
     "text": [
      "Epoch 140, Loss 0.0259\n",
      "Training Accuracy: 0.9695, Testing Accuracy: 0.9723\n",
      "\n"
     ]
    },
    {
     "name": "stdout",
     "output_type": "stream",
     "text": [
      "Epoch 150, Loss 0.0252\n",
      "Training Accuracy: 0.9708, Testing Accuracy: 0.9728\n",
      "\n"
     ]
    },
    {
     "name": "stdout",
     "output_type": "stream",
     "text": [
      "Epoch 160, Loss 0.0246\n",
      "Training Accuracy: 0.9715, Testing Accuracy: 0.9728\n",
      "\n"
     ]
    },
    {
     "name": "stdout",
     "output_type": "stream",
     "text": [
      "Epoch 170, Loss 0.0241\n",
      "Training Accuracy: 0.9719, Testing Accuracy: 0.9728\n",
      "\n"
     ]
    },
    {
     "name": "stdout",
     "output_type": "stream",
     "text": [
      "Epoch 180, Loss 0.0236\n",
      "Training Accuracy: 0.9727, Testing Accuracy: 0.9733\n",
      "\n"
     ]
    },
    {
     "name": "stdout",
     "output_type": "stream",
     "text": [
      "Epoch 190, Loss 0.0231\n",
      "Training Accuracy: 0.9732, Testing Accuracy: 0.9738\n",
      "\n"
     ]
    },
    {
     "name": "stdout",
     "output_type": "stream",
     "text": [
      "Epoch 200, Loss 0.0227\n",
      "Training Accuracy: 0.9740, Testing Accuracy: 0.9738\n",
      "\n"
     ]
    },
    {
     "name": "stdout",
     "output_type": "stream",
     "text": [
      "Epoch 210, Loss 0.0223\n",
      "Training Accuracy: 0.9745, Testing Accuracy: 0.9743\n",
      "\n"
     ]
    },
    {
     "name": "stdout",
     "output_type": "stream",
     "text": [
      "Epoch 220, Loss 0.0219\n",
      "Training Accuracy: 0.9747, Testing Accuracy: 0.9748\n",
      "\n"
     ]
    },
    {
     "name": "stdout",
     "output_type": "stream",
     "text": [
      "Epoch 230, Loss 0.0215\n",
      "Training Accuracy: 0.9753, Testing Accuracy: 0.9748\n",
      "\n"
     ]
    },
    {
     "name": "stdout",
     "output_type": "stream",
     "text": [
      "Epoch 240, Loss 0.0211\n",
      "Training Accuracy: 0.9760, Testing Accuracy: 0.9743\n",
      "\n"
     ]
    },
    {
     "name": "stdout",
     "output_type": "stream",
     "text": [
      "Epoch 250, Loss 0.0208\n",
      "Training Accuracy: 0.9764, Testing Accuracy: 0.9748\n",
      "\n"
     ]
    },
    {
     "data": {
      "text/plain": [
       "0.05209484772435379"
      ]
     },
     "execution_count": 20,
     "metadata": {},
     "output_type": "execute_result"
    }
   ],
   "source": [
    "print(\"====== Neural Network ======\")\n",
    "learner_nn.train_loop(dl)"
   ]
  },
  {
   "cell_type": "markdown",
   "metadata": {
    "papermill": {
     "duration": 0.046515,
     "end_time": "2020-10-17T20:06:45.672863",
     "exception": false,
     "start_time": "2020-10-17T20:06:45.626348",
     "status": "completed"
    },
    "tags": []
   },
   "source": [
    "### Logistic Regression based Implementation."
   ]
  },
  {
   "cell_type": "code",
   "execution_count": 21,
   "metadata": {
    "execution": {
     "iopub.execute_input": "2020-10-17T20:06:45.765285Z",
     "iopub.status.busy": "2020-10-17T20:06:45.763961Z",
     "iopub.status.idle": "2020-10-17T20:06:45.777424Z",
     "shell.execute_reply": "2020-10-17T20:06:45.776686Z"
    },
    "papermill": {
     "duration": 0.061823,
     "end_time": "2020-10-17T20:06:45.777560",
     "exception": false,
     "start_time": "2020-10-17T20:06:45.715737",
     "status": "completed"
    },
    "tags": []
   },
   "outputs": [],
   "source": [
    "learner_lr = Learner(loss, model_lr, opt, config.num_epochs)\n",
    "acc_lr = ClfCallback(learner_lr, config.bs, training_xdata , testing_xdata, training_ydata, testing_ydata)\n",
    "learner_lr.set_callbacks([acc_lr])"
   ]
  },
  {
   "cell_type": "code",
   "execution_count": 22,
   "metadata": {
    "execution": {
     "iopub.execute_input": "2020-10-17T20:06:45.877370Z",
     "iopub.status.busy": "2020-10-17T20:06:45.876643Z",
     "iopub.status.idle": "2020-10-17T20:07:05.587405Z",
     "shell.execute_reply": "2020-10-17T20:07:05.586363Z"
    },
    "papermill": {
     "duration": 19.758577,
     "end_time": "2020-10-17T20:07:05.587568",
     "exception": false,
     "start_time": "2020-10-17T20:06:45.828991",
     "status": "completed"
    },
    "tags": []
   },
   "outputs": [
    {
     "name": "stdout",
     "output_type": "stream",
     "text": [
      "====== Logistic Regression ======\n",
      "Epoch 0, Loss 0.2326\n",
      "Training Accuracy: 0.6995, Testing Accuracy: 0.6860\n",
      "\n"
     ]
    },
    {
     "name": "stdout",
     "output_type": "stream",
     "text": [
      "Epoch 10, Loss 0.1019\n",
      "Training Accuracy: 0.9115, Testing Accuracy: 0.9209\n",
      "\n"
     ]
    },
    {
     "name": "stdout",
     "output_type": "stream",
     "text": [
      "Epoch 20, Loss 0.0779\n",
      "Training Accuracy: 0.9301, Testing Accuracy: 0.9395\n",
      "\n"
     ]
    },
    {
     "name": "stdout",
     "output_type": "stream",
     "text": [
      "Epoch 30, Loss 0.0671\n",
      "Training Accuracy: 0.9393, Testing Accuracy: 0.9511\n",
      "\n"
     ]
    },
    {
     "name": "stdout",
     "output_type": "stream",
     "text": [
      "Epoch 40, Loss 0.0607\n",
      "Training Accuracy: 0.9432, Testing Accuracy: 0.9546\n",
      "\n"
     ]
    },
    {
     "name": "stdout",
     "output_type": "stream",
     "text": [
      "Epoch 50, Loss 0.0564\n",
      "Training Accuracy: 0.9468, Testing Accuracy: 0.9587\n",
      "\n"
     ]
    },
    {
     "name": "stdout",
     "output_type": "stream",
     "text": [
      "Epoch 60, Loss 0.0532\n",
      "Training Accuracy: 0.9489, Testing Accuracy: 0.9587\n",
      "\n"
     ]
    },
    {
     "name": "stdout",
     "output_type": "stream",
     "text": [
      "Epoch 70, Loss 0.0508\n",
      "Training Accuracy: 0.9501, Testing Accuracy: 0.9597\n",
      "\n"
     ]
    },
    {
     "name": "stdout",
     "output_type": "stream",
     "text": [
      "Epoch 80, Loss 0.0488\n",
      "Training Accuracy: 0.9513, Testing Accuracy: 0.9597\n",
      "\n"
     ]
    },
    {
     "name": "stdout",
     "output_type": "stream",
     "text": [
      "Epoch 90, Loss 0.0472\n",
      "Training Accuracy: 0.9521, Testing Accuracy: 0.9607\n",
      "\n"
     ]
    },
    {
     "name": "stdout",
     "output_type": "stream",
     "text": [
      "Epoch 100, Loss 0.0459\n",
      "Training Accuracy: 0.9531, Testing Accuracy: 0.9632\n",
      "\n"
     ]
    },
    {
     "name": "stdout",
     "output_type": "stream",
     "text": [
      "Epoch 110, Loss 0.0447\n",
      "Training Accuracy: 0.9544, Testing Accuracy: 0.9637\n",
      "\n"
     ]
    },
    {
     "name": "stdout",
     "output_type": "stream",
     "text": [
      "Epoch 120, Loss 0.0437\n",
      "Training Accuracy: 0.9550, Testing Accuracy: 0.9642\n",
      "\n"
     ]
    },
    {
     "name": "stdout",
     "output_type": "stream",
     "text": [
      "Epoch 130, Loss 0.0428\n",
      "Training Accuracy: 0.9559, Testing Accuracy: 0.9657\n",
      "\n"
     ]
    },
    {
     "name": "stdout",
     "output_type": "stream",
     "text": [
      "Epoch 140, Loss 0.042\n",
      "Training Accuracy: 0.9560, Testing Accuracy: 0.9662\n",
      "\n"
     ]
    },
    {
     "name": "stdout",
     "output_type": "stream",
     "text": [
      "Epoch 150, Loss 0.0412\n",
      "Training Accuracy: 0.9565, Testing Accuracy: 0.9662\n",
      "\n"
     ]
    },
    {
     "name": "stdout",
     "output_type": "stream",
     "text": [
      "Epoch 160, Loss 0.0406\n",
      "Training Accuracy: 0.9568, Testing Accuracy: 0.9662\n",
      "\n"
     ]
    },
    {
     "name": "stdout",
     "output_type": "stream",
     "text": [
      "Epoch 170, Loss 0.04\n",
      "Training Accuracy: 0.9572, Testing Accuracy: 0.9667\n",
      "\n"
     ]
    },
    {
     "name": "stdout",
     "output_type": "stream",
     "text": [
      "Epoch 180, Loss 0.0395\n",
      "Training Accuracy: 0.9579, Testing Accuracy: 0.9662\n",
      "\n"
     ]
    },
    {
     "name": "stdout",
     "output_type": "stream",
     "text": [
      "Epoch 190, Loss 0.039\n",
      "Training Accuracy: 0.9586, Testing Accuracy: 0.9662\n",
      "\n"
     ]
    },
    {
     "name": "stdout",
     "output_type": "stream",
     "text": [
      "Epoch 200, Loss 0.0385\n",
      "Training Accuracy: 0.9590, Testing Accuracy: 0.9672\n",
      "\n"
     ]
    },
    {
     "name": "stdout",
     "output_type": "stream",
     "text": [
      "Epoch 210, Loss 0.0381\n",
      "Training Accuracy: 0.9594, Testing Accuracy: 0.9672\n",
      "\n"
     ]
    },
    {
     "name": "stdout",
     "output_type": "stream",
     "text": [
      "Epoch 220, Loss 0.0377\n",
      "Training Accuracy: 0.9595, Testing Accuracy: 0.9667\n",
      "\n"
     ]
    },
    {
     "name": "stdout",
     "output_type": "stream",
     "text": [
      "Epoch 230, Loss 0.0373\n",
      "Training Accuracy: 0.9599, Testing Accuracy: 0.9667\n",
      "\n"
     ]
    },
    {
     "name": "stdout",
     "output_type": "stream",
     "text": [
      "Epoch 240, Loss 0.0369\n",
      "Training Accuracy: 0.9600, Testing Accuracy: 0.9662\n",
      "\n"
     ]
    },
    {
     "name": "stdout",
     "output_type": "stream",
     "text": [
      "Epoch 250, Loss 0.0366\n",
      "Training Accuracy: 0.9601, Testing Accuracy: 0.9657\n",
      "\n"
     ]
    },
    {
     "data": {
      "text/plain": [
       "0.025993433689580524"
      ]
     },
     "execution_count": 22,
     "metadata": {},
     "output_type": "execute_result"
    }
   ],
   "source": [
    "print(\"====== Logistic Regression ======\")\n",
    "learner_lr.train_loop(dl)"
   ]
  },
  {
   "cell_type": "markdown",
   "metadata": {
    "papermill": {
     "duration": 0.049156,
     "end_time": "2020-10-17T20:07:05.687671",
     "exception": false,
     "start_time": "2020-10-17T20:07:05.638515",
     "status": "completed"
    },
    "tags": []
   },
   "source": [
    "### Comparing results of NN and LR"
   ]
  },
  {
   "cell_type": "code",
   "execution_count": 23,
   "metadata": {
    "execution": {
     "iopub.execute_input": "2020-10-17T20:07:05.794905Z",
     "iopub.status.busy": "2020-10-17T20:07:05.794220Z",
     "iopub.status.idle": "2020-10-17T20:07:06.078908Z",
     "shell.execute_reply": "2020-10-17T20:07:06.079407Z"
    },
    "papermill": {
     "duration": 0.342484,
     "end_time": "2020-10-17T20:07:06.079584",
     "exception": false,
     "start_time": "2020-10-17T20:07:05.737100",
     "status": "completed"
    },
    "tags": []
   },
   "outputs": [
    {
     "data": {
      "text/plain": [
       "<matplotlib.legend.Legend at 0x7f05949ba320>"
      ]
     },
     "execution_count": 23,
     "metadata": {},
     "output_type": "execute_result"
    },
    {
     "data": {
      "image/png": "[encoded data removed]",
      "text/plain": [
       "<Figure size 1080x720 with 1 Axes>"
      ]
     },
     "metadata": {
      "needs_background": "light"
     },
     "output_type": "display_data"
    }
   ],
   "source": [
    "plt.figure(figsize=(15,10))\n",
    "\n",
    "# Neural Network plots\n",
    "plt.plot(acc_nn.accuracies, 'r-', label = \"Training Accuracies - NN\")\n",
    "plt.plot(acc_nn.test_accuracies, 'g-', label = \"Testing Accuracies - NN\")\n",
    "\n",
    "# Logistic Regression plots\n",
    "plt.plot(acc_lr.accuracies, 'k-', label = \"Training Accuracies - LR\")\n",
    "plt.plot(acc_lr.test_accuracies, 'b-', label = \"Testing Accuracies - LR\")\n",
    "\n",
    "plt.ylim(0.8, 1)\n",
    "\n",
    "plt.legend()\n",
    "\n"
   ]
  },
  {
   "cell_type": "markdown",
   "metadata": {
    "papermill": {
     "duration": 0.048564,
     "end_time": "2020-10-17T20:07:06.177511",
     "exception": false,
     "start_time": "2020-10-17T20:07:06.128947",
     "status": "completed"
    },
    "tags": []
   },
   "source": [
    "### From the plot, we can observe the following:\n",
    "- Neural Network achieves higher accuracy than the Logistic Regression model.\n",
    "- This apparently, is because of overfitting, i.e. NN captures more noise than data.\n",
    "- Testing accuracy of NN drops below the Training accuracy at higher epochs. This explains the over-fitting on training data.\n",
    "- Logistic Regression gives a reliable accuracy, without the above mentioned problem.\n"
   ]
  },
  {
   "cell_type": "markdown",
   "metadata": {
    "papermill": {
     "duration": 0.045242,
     "end_time": "2020-10-17T20:07:06.269949",
     "exception": false,
     "start_time": "2020-10-17T20:07:06.224707",
     "status": "completed"
    },
    "tags": []
   },
   "source": [
    "### Moving till the last but one layer (excluding it).\n",
    "#### Plotting the outputs of this layer of the NN."
   ]
  },
  {
   "cell_type": "code",
   "execution_count": 24,
   "metadata": {
    "execution": {
     "iopub.execute_input": "2020-10-17T20:07:06.386398Z",
     "iopub.status.busy": "2020-10-17T20:07:06.385758Z",
     "iopub.status.idle": "2020-10-17T20:07:06.388487Z",
     "shell.execute_reply": "2020-10-17T20:07:06.387992Z"
    },
    "papermill": {
     "duration": 0.067217,
     "end_time": "2020-10-17T20:07:06.388610",
     "exception": false,
     "start_time": "2020-10-17T20:07:06.321393",
     "status": "completed"
    },
    "tags": []
   },
   "outputs": [],
   "source": [
    "model_new = Model(layers[:-2])"
   ]
  },
  {
   "cell_type": "code",
   "execution_count": 25,
   "metadata": {
    "execution": {
     "iopub.execute_input": "2020-10-17T20:07:06.490629Z",
     "iopub.status.busy": "2020-10-17T20:07:06.489983Z",
     "iopub.status.idle": "2020-10-17T20:07:06.516495Z",
     "shell.execute_reply": "2020-10-17T20:07:06.517469Z"
    },
    "papermill": {
     "duration": 0.080276,
     "end_time": "2020-10-17T20:07:06.517650",
     "exception": false,
     "start_time": "2020-10-17T20:07:06.437374",
     "status": "completed"
    },
    "tags": []
   },
   "outputs": [],
   "source": [
    "plot_testing = model_new(testing_xdata)"
   ]
  },
  {
   "cell_type": "code",
   "execution_count": 26,
   "metadata": {
    "execution": {
     "iopub.execute_input": "2020-10-17T20:07:06.626330Z",
     "iopub.status.busy": "2020-10-17T20:07:06.625669Z",
     "iopub.status.idle": "2020-10-17T20:07:06.832771Z",
     "shell.execute_reply": "2020-10-17T20:07:06.832215Z"
    },
    "papermill": {
     "duration": 0.263915,
     "end_time": "2020-10-17T20:07:06.832976",
     "exception": false,
     "start_time": "2020-10-17T20:07:06.569061",
     "status": "completed"
    },
    "tags": []
   },
   "outputs": [
    {
     "data": {
      "text/plain": [
       "Text(0.5, 1.0, 'Outputs')"
      ]
     },
     "execution_count": 26,
     "metadata": {},
     "output_type": "execute_result"
    },
    {
     "data": {
      "image/png": "[encoded data removed]",
      "text/plain": [
       "<Figure size 576x504 with 1 Axes>"
      ]
     },
     "metadata": {
      "needs_background": "light"
     },
     "output_type": "display_data"
    }
   ],
   "source": [
    "plt.figure(figsize=(8,7))\n",
    "plt.scatter(plot_testing[:,0], plot_testing[:,1], alpha = 0.1, c = y_test.ravel());\n",
    "plt.title('Outputs')"
   ]
  },
  {
   "cell_type": "markdown",
   "metadata": {
    "papermill": {
     "duration": 0.049642,
     "end_time": "2020-10-17T20:07:06.933463",
     "exception": false,
     "start_time": "2020-10-17T20:07:06.883821",
     "status": "completed"
    },
    "tags": []
   },
   "source": [
    "### Plotting probability contours"
   ]
  },
  {
   "cell_type": "code",
   "execution_count": 27,
   "metadata": {
    "execution": {
     "iopub.execute_input": "2020-10-17T20:07:07.049374Z",
     "iopub.status.busy": "2020-10-17T20:07:07.041187Z",
     "iopub.status.idle": "2020-10-17T20:07:07.051567Z",
     "shell.execute_reply": "2020-10-17T20:07:07.052135Z"
    },
    "papermill": {
     "duration": 0.070324,
     "end_time": "2020-10-17T20:07:07.052356",
     "exception": false,
     "start_time": "2020-10-17T20:07:06.982032",
     "status": "completed"
    },
    "tags": []
   },
   "outputs": [],
   "source": [
    "model_prob = Model(layers[-2:]) "
   ]
  },
  {
   "cell_type": "code",
   "execution_count": 28,
   "metadata": {
    "execution": {
     "iopub.execute_input": "2020-10-17T20:07:07.167175Z",
     "iopub.status.busy": "2020-10-17T20:07:07.166470Z",
     "iopub.status.idle": "2020-10-17T20:07:07.180131Z",
     "shell.execute_reply": "2020-10-17T20:07:07.180602Z"
    },
    "papermill": {
     "duration": 0.074377,
     "end_time": "2020-10-17T20:07:07.180745",
     "exception": false,
     "start_time": "2020-10-17T20:07:07.106368",
     "status": "completed"
    },
    "tags": []
   },
   "outputs": [],
   "source": [
    "# Adjust the x and y ranges according to the above generated plot.\n",
    "x_range = np.linspace(-4, 1, 100) \n",
    "y_range = np.linspace(-6, 6, 100) \n",
    "x_grid, y_grid = np.meshgrid(x_range, y_range) # x_grid and y_grig are of size 100 X 100\n",
    "\n",
    "# converting x_grid and y_grid to continuous arrays\n",
    "x_grid_flat = np.ravel(x_grid)\n",
    "y_grid_flat = np.ravel(y_grid)\n",
    "\n",
    "# The last layer of the current model takes two columns as input. Hence transpose of np.vstack() is required.\n",
    "X = np.vstack((x_grid_flat, y_grid_flat)).T\n",
    "\n",
    "# x_grid and y_grid are of size 100 x 100\n",
    "probability_contour = model_prob(X).reshape(100,100) "
   ]
  },
  {
   "cell_type": "code",
   "execution_count": 29,
   "metadata": {
    "execution": {
     "iopub.execute_input": "2020-10-17T20:07:07.290588Z",
     "iopub.status.busy": "2020-10-17T20:07:07.289976Z",
     "iopub.status.idle": "2020-10-17T20:07:07.576589Z",
     "shell.execute_reply": "2020-10-17T20:07:07.577358Z"
    },
    "papermill": {
     "duration": 0.345556,
     "end_time": "2020-10-17T20:07:07.577576",
     "exception": false,
     "start_time": "2020-10-17T20:07:07.232020",
     "status": "completed"
    },
    "tags": []
   },
   "outputs": [
    {
     "data": {
      "image/png": "[encoded data removed]",
      "text/plain": [
       "<Figure size 720x648 with 1 Axes>"
      ]
     },
     "metadata": {
      "needs_background": "light"
     },
     "output_type": "display_data"
    }
   ],
   "source": [
    "plt.figure(figsize=(10,9))\n",
    "plt.scatter(plot_testing[:,0], plot_testing[:,1], alpha = 0.1, c = y_test.ravel())\n",
    "contours = plt.contour(x_grid,y_grid,probability_contour)\n",
    "plt.title('Probability Contours')\n",
    "plt.clabel(contours, inline = True );"
   ]
  }
 ],
 "metadata": {
  "kernelspec": {
   "display_name": "Python 3",
   "language": "python",
   "name": "python3"
  },
  "language_info": {
   "codemirror_mode": {
    "name": "ipython",
    "version": 3
   },
   "file_extension": ".py",
   "mimetype": "text/x-python",
   "name": "python",
   "nbconvert_exporter": "python",
   "pygments_lexer": "ipython3",
   "version": "3.6.12"
  },
  "papermill": {
   "duration": 169.237766,
   "end_time": "2020-10-17T20:07:07.961174",
   "environment_variables": {},
   "exception": null,
   "input_path": "2020-08-11-NeuralNetwork.ipynb",
   "output_path": "2020-08-11-NeuralNetwork.ipynb",
   "parameters": {},
   "start_time": "2020-10-17T20:04:18.723408",
   "version": "2.1.2"
  }
 },
 "nbformat": 4,
 "nbformat_minor": 4
}