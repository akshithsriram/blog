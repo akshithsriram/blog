{
 "cells": [
  {
   "cell_type": "markdown",
   "metadata": {
    "papermill": {
     "duration": 0.028593,
     "end_time": "2020-09-28T10:04:17.215237",
     "exception": false,
     "start_time": "2020-09-28T10:04:17.186644",
     "status": "completed"
    },
    "tags": []
   },
   "source": [
    "# \"A Basic Neural Network: Differentiate Hand-Written Digits\"\n",
    "\n",
    "- badges: true\n",
    "- author: Akshith Sriram"
   ]
  },
  {
   "cell_type": "markdown",
   "metadata": {
    "papermill": {
     "duration": 0.024386,
     "end_time": "2020-09-28T10:04:17.265915",
     "exception": false,
     "start_time": "2020-09-28T10:04:17.241529",
     "status": "completed"
    },
    "tags": []
   },
   "source": [
    "### Key Objectives:\n",
    "- Building a neural network that differentiates two hand-written digits 3 and 8.\n",
    "- Comparing the results of this Neural Network (NN) to that of a Logistic Regression (LR) model.\n",
    "\n",
    "### Requirements:\n",
    "- 'Kudzu' : A neural network library that was designed during our course by [Univ.AI](www.univ.ai). \n",
    "- MNIST Database\n",
    "\n",
    "If MNIST is not installed, use the command `!pip install mnist` given below.\n",
    "It can be run both from the command line and Jupyter Notebook."
   ]
  },
  {
   "cell_type": "code",
   "execution_count": 1,
   "metadata": {
    "execution": {
     "iopub.execute_input": "2020-09-28T10:04:17.320241Z",
     "iopub.status.busy": "2020-09-28T10:04:17.319624Z",
     "iopub.status.idle": "2020-09-28T10:04:18.807573Z",
     "shell.execute_reply": "2020-09-28T10:04:18.806981Z"
    },
    "papermill": {
     "duration": 1.516794,
     "end_time": "2020-09-28T10:04:18.807748",
     "exception": false,
     "start_time": "2020-09-28T10:04:17.290954",
     "status": "completed"
    },
    "tags": []
   },
   "outputs": [
    {
     "name": "stdout",
     "output_type": "stream",
     "text": [
      "Collecting mnist\r\n"
     ]
    },
    {
     "name": "stdout",
     "output_type": "stream",
     "text": [
      "  Downloading mnist-0.2.2-py2.py3-none-any.whl (3.5 kB)\r\n"
     ]
    },
    {
     "name": "stdout",
     "output_type": "stream",
     "text": [
      "Requirement already satisfied: numpy in /opt/hostedtoolcache/Python/3.6.12/x64/lib/python3.6/site-packages (from mnist) (1.19.2)\r\n"
     ]
    },
    {
     "name": "stdout",
     "output_type": "stream",
     "text": [
      "Installing collected packages: mnist\r\n"
     ]
    },
    {
     "name": "stdout",
     "output_type": "stream",
     "text": [
      "Successfully installed mnist-0.2.2\r\n"
     ]
    }
   ],
   "source": [
    "!pip install mnist "
   ]
  },
  {
   "cell_type": "markdown",
   "metadata": {
    "papermill": {
     "duration": 0.026042,
     "end_time": "2020-09-28T10:04:18.861091",
     "exception": false,
     "start_time": "2020-09-28T10:04:18.835049",
     "status": "completed"
    },
    "tags": []
   },
   "source": [
    "#### Importing necessary libraries"
   ]
  },
  {
   "cell_type": "code",
   "execution_count": 2,
   "metadata": {
    "execution": {
     "iopub.execute_input": "2020-09-28T10:04:18.919714Z",
     "iopub.status.busy": "2020-09-28T10:04:18.919131Z",
     "iopub.status.idle": "2020-09-28T10:04:19.459187Z",
     "shell.execute_reply": "2020-09-28T10:04:19.458626Z"
    },
    "papermill": {
     "duration": 0.572365,
     "end_time": "2020-09-28T10:04:19.459329",
     "exception": false,
     "start_time": "2020-09-28T10:04:18.886964",
     "status": "completed"
    },
    "tags": []
   },
   "outputs": [],
   "source": [
    "%load_ext autoreload\n",
    "%autoreload 2\n",
    "\n",
    "%matplotlib inline\n",
    "import matplotlib.pyplot as plt\n",
    "\n",
    "import numpy as np\n",
    "import pandas as pd"
   ]
  },
  {
   "cell_type": "markdown",
   "metadata": {
    "papermill": {
     "duration": 0.025994,
     "end_time": "2020-09-28T10:04:19.518400",
     "exception": false,
     "start_time": "2020-09-28T10:04:19.492406",
     "status": "completed"
    },
    "tags": []
   },
   "source": [
    "### Preparing the Data"
   ]
  },
  {
   "cell_type": "code",
   "execution_count": 3,
   "metadata": {
    "execution": {
     "iopub.execute_input": "2020-09-28T10:04:19.573402Z",
     "iopub.status.busy": "2020-09-28T10:04:19.572815Z",
     "iopub.status.idle": "2020-09-28T10:04:19.584971Z",
     "shell.execute_reply": "2020-09-28T10:04:19.584452Z"
    },
    "papermill": {
     "duration": 0.040434,
     "end_time": "2020-09-28T10:04:19.585090",
     "exception": false,
     "start_time": "2020-09-28T10:04:19.544656",
     "status": "completed"
    },
    "tags": []
   },
   "outputs": [],
   "source": [
    "import mnist"
   ]
  },
  {
   "cell_type": "code",
   "execution_count": 4,
   "metadata": {
    "execution": {
     "iopub.execute_input": "2020-09-28T10:04:19.639376Z",
     "iopub.status.busy": "2020-09-28T10:04:19.638127Z",
     "iopub.status.idle": "2020-09-28T10:04:21.252696Z",
     "shell.execute_reply": "2020-09-28T10:04:21.251580Z"
    },
    "papermill": {
     "duration": 1.642156,
     "end_time": "2020-09-28T10:04:21.252869",
     "exception": false,
     "start_time": "2020-09-28T10:04:19.610713",
     "status": "completed"
    },
    "tags": []
   },
   "outputs": [],
   "source": [
    "train_images = mnist.train_images()\n",
    "train_labels = mnist.train_labels()"
   ]
  },
  {
   "cell_type": "code",
   "execution_count": 5,
   "metadata": {
    "execution": {
     "iopub.execute_input": "2020-09-28T10:04:21.324400Z",
     "iopub.status.busy": "2020-09-28T10:04:21.315680Z",
     "iopub.status.idle": "2020-09-28T10:04:21.329693Z",
     "shell.execute_reply": "2020-09-28T10:04:21.329043Z"
    },
    "papermill": {
     "duration": 0.048891,
     "end_time": "2020-09-28T10:04:21.329827",
     "exception": false,
     "start_time": "2020-09-28T10:04:21.280936",
     "status": "completed"
    },
    "tags": []
   },
   "outputs": [
    {
     "data": {
      "text/plain": [
       "((60000, 28, 28), (60000,))"
      ]
     },
     "execution_count": 5,
     "metadata": {},
     "output_type": "execute_result"
    }
   ],
   "source": [
    "train_images.shape, train_labels.shape"
   ]
  },
  {
   "cell_type": "code",
   "execution_count": 6,
   "metadata": {
    "execution": {
     "iopub.execute_input": "2020-09-28T10:04:21.395998Z",
     "iopub.status.busy": "2020-09-28T10:04:21.387520Z",
     "iopub.status.idle": "2020-09-28T10:04:22.594894Z",
     "shell.execute_reply": "2020-09-28T10:04:22.593639Z"
    },
    "papermill": {
     "duration": 1.236124,
     "end_time": "2020-09-28T10:04:22.595097",
     "exception": false,
     "start_time": "2020-09-28T10:04:21.358973",
     "status": "completed"
    },
    "tags": []
   },
   "outputs": [],
   "source": [
    "test_images = mnist.test_images()\n",
    "test_labels = mnist.test_labels()"
   ]
  },
  {
   "cell_type": "code",
   "execution_count": 7,
   "metadata": {
    "execution": {
     "iopub.execute_input": "2020-09-28T10:04:22.656112Z",
     "iopub.status.busy": "2020-09-28T10:04:22.655373Z",
     "iopub.status.idle": "2020-09-28T10:04:22.668567Z",
     "shell.execute_reply": "2020-09-28T10:04:22.669182Z"
    },
    "papermill": {
     "duration": 0.045094,
     "end_time": "2020-09-28T10:04:22.669325",
     "exception": false,
     "start_time": "2020-09-28T10:04:22.624231",
     "status": "completed"
    },
    "tags": []
   },
   "outputs": [
    {
     "data": {
      "text/plain": [
       "((10000, 28, 28), (10000,))"
      ]
     },
     "execution_count": 7,
     "metadata": {},
     "output_type": "execute_result"
    }
   ],
   "source": [
    "test_images.shape, test_labels.shape"
   ]
  },
  {
   "cell_type": "code",
   "execution_count": 8,
   "metadata": {
    "execution": {
     "iopub.execute_input": "2020-09-28T10:04:22.727486Z",
     "iopub.status.busy": "2020-09-28T10:04:22.726882Z",
     "iopub.status.idle": "2020-09-28T10:04:22.882963Z",
     "shell.execute_reply": "2020-09-28T10:04:22.883457Z"
    },
    "papermill": {
     "duration": 0.186386,
     "end_time": "2020-09-28T10:04:22.883624",
     "exception": false,
     "start_time": "2020-09-28T10:04:22.697238",
     "status": "completed"
    },
    "tags": []
   },
   "outputs": [
    {
     "name": "stdout",
     "output_type": "stream",
     "text": [
      "2\n"
     ]
    },
    {
     "data": {
      "text/plain": [
       "<matplotlib.image.AxesImage at 0x7f386bfa0828>"
      ]
     },
     "execution_count": 8,
     "metadata": {},
     "output_type": "execute_result"
    },
    {
     "data": {
      "image/png": "[encoded data removed]",
      "text/plain": [
       "<Figure size 432x288 with 1 Axes>"
      ]
     },
     "metadata": {
      "needs_background": "light"
     },
     "output_type": "display_data"
    }
   ],
   "source": [
    "image_index = 7776 # You may select anything up to 60,000\n",
    "print(train_labels[image_index]) \n",
    "plt.imshow(train_images[image_index], cmap='Greys')"
   ]
  },
  {
   "cell_type": "markdown",
   "metadata": {
    "papermill": {
     "duration": 0.028959,
     "end_time": "2020-09-28T10:04:22.940715",
     "exception": false,
     "start_time": "2020-09-28T10:04:22.911756",
     "status": "completed"
    },
    "tags": []
   },
   "source": [
    "## Filter data to get 3 and 8 out"
   ]
  },
  {
   "cell_type": "code",
   "execution_count": 9,
   "metadata": {
    "execution": {
     "iopub.execute_input": "2020-09-28T10:04:23.001608Z",
     "iopub.status.busy": "2020-09-28T10:04:23.001002Z",
     "iopub.status.idle": "2020-09-28T10:04:23.016874Z",
     "shell.execute_reply": "2020-09-28T10:04:23.016339Z"
    },
    "papermill": {
     "duration": 0.048619,
     "end_time": "2020-09-28T10:04:23.017012",
     "exception": false,
     "start_time": "2020-09-28T10:04:22.968393",
     "status": "completed"
    },
    "tags": []
   },
   "outputs": [],
   "source": [
    "train_filter = np.where((train_labels == 3 ) | (train_labels == 8))\n",
    "test_filter = np.where((test_labels == 3) | (test_labels == 8))\n",
    "X_train, y_train = train_images[train_filter], train_labels[train_filter]\n",
    "X_test, y_test = test_images[test_filter], test_labels[test_filter]"
   ]
  },
  {
   "cell_type": "markdown",
   "metadata": {
    "papermill": {
     "duration": 0.033264,
     "end_time": "2020-09-28T10:04:23.079225",
     "exception": false,
     "start_time": "2020-09-28T10:04:23.045961",
     "status": "completed"
    },
    "tags": []
   },
   "source": [
    "We normalize the pixel values in the 0 to 1 range"
   ]
  },
  {
   "cell_type": "code",
   "execution_count": 10,
   "metadata": {
    "execution": {
     "iopub.execute_input": "2020-09-28T10:04:23.148861Z",
     "iopub.status.busy": "2020-09-28T10:04:23.148272Z",
     "iopub.status.idle": "2020-09-28T10:04:23.200139Z",
     "shell.execute_reply": "2020-09-28T10:04:23.199612Z"
    },
    "papermill": {
     "duration": 0.093684,
     "end_time": "2020-09-28T10:04:23.200283",
     "exception": false,
     "start_time": "2020-09-28T10:04:23.106599",
     "status": "completed"
    },
    "tags": []
   },
   "outputs": [],
   "source": [
    "X_train = X_train/255.\n",
    "X_test = X_test/255."
   ]
  },
  {
   "cell_type": "markdown",
   "metadata": {
    "papermill": {
     "duration": 0.028121,
     "end_time": "2020-09-28T10:04:23.256830",
     "exception": false,
     "start_time": "2020-09-28T10:04:23.228709",
     "status": "completed"
    },
    "tags": []
   },
   "source": [
    "Setup the labels as 1 (when the digit is 3) and 0 (when the digit is 8)"
   ]
  },
  {
   "cell_type": "code",
   "execution_count": 11,
   "metadata": {
    "execution": {
     "iopub.execute_input": "2020-09-28T10:04:23.314214Z",
     "iopub.status.busy": "2020-09-28T10:04:23.313629Z",
     "iopub.status.idle": "2020-09-28T10:04:23.325142Z",
     "shell.execute_reply": "2020-09-28T10:04:23.325596Z"
    },
    "papermill": {
     "duration": 0.041451,
     "end_time": "2020-09-28T10:04:23.325726",
     "exception": false,
     "start_time": "2020-09-28T10:04:23.284275",
     "status": "completed"
    },
    "tags": []
   },
   "outputs": [],
   "source": [
    "y_train = 1*(y_train==3)\n",
    "y_test = 1*(y_test==3)"
   ]
  },
  {
   "cell_type": "code",
   "execution_count": 12,
   "metadata": {
    "execution": {
     "iopub.execute_input": "2020-09-28T10:04:23.397043Z",
     "iopub.status.busy": "2020-09-28T10:04:23.395510Z",
     "iopub.status.idle": "2020-09-28T10:04:23.400605Z",
     "shell.execute_reply": "2020-09-28T10:04:23.399765Z"
    },
    "papermill": {
     "duration": 0.046962,
     "end_time": "2020-09-28T10:04:23.400727",
     "exception": false,
     "start_time": "2020-09-28T10:04:23.353765",
     "status": "completed"
    },
    "tags": []
   },
   "outputs": [
    {
     "data": {
      "text/plain": [
       "((11982, 28, 28), (1984, 28, 28))"
      ]
     },
     "execution_count": 12,
     "metadata": {},
     "output_type": "execute_result"
    }
   ],
   "source": [
    "X_train.shape, X_test.shape"
   ]
  },
  {
   "cell_type": "markdown",
   "metadata": {
    "papermill": {
     "duration": 0.028371,
     "end_time": "2020-09-28T10:04:23.458111",
     "exception": false,
     "start_time": "2020-09-28T10:04:23.429740",
     "status": "completed"
    },
    "tags": []
   },
   "source": [
    "### Reshape the input data to create a linear array"
   ]
  },
  {
   "cell_type": "code",
   "execution_count": 13,
   "metadata": {
    "execution": {
     "iopub.execute_input": "2020-09-28T10:04:23.520989Z",
     "iopub.status.busy": "2020-09-28T10:04:23.519871Z",
     "iopub.status.idle": "2020-09-28T10:04:23.531835Z",
     "shell.execute_reply": "2020-09-28T10:04:23.531326Z"
    },
    "papermill": {
     "duration": 0.04475,
     "end_time": "2020-09-28T10:04:23.531954",
     "exception": false,
     "start_time": "2020-09-28T10:04:23.487204",
     "status": "completed"
    },
    "tags": []
   },
   "outputs": [
    {
     "data": {
      "text/plain": [
       "((11982, 784), (1984, 784))"
      ]
     },
     "execution_count": 13,
     "metadata": {},
     "output_type": "execute_result"
    }
   ],
   "source": [
    "X_train = X_train.reshape(X_train.shape[0], -1)\n",
    "X_test = X_test.reshape(X_test.shape[0], -1)\n",
    "X_train.shape, X_test.shape"
   ]
  },
  {
   "cell_type": "markdown",
   "metadata": {
    "papermill": {
     "duration": 0.032416,
     "end_time": "2020-09-28T10:04:23.592921",
     "exception": false,
     "start_time": "2020-09-28T10:04:23.560505",
     "status": "completed"
    },
    "tags": []
   },
   "source": [
    "### Importing appropriate functions from 'Kudzu'"
   ]
  },
  {
   "cell_type": "code",
   "execution_count": 14,
   "metadata": {
    "execution": {
     "iopub.execute_input": "2020-09-28T10:04:23.673149Z",
     "iopub.status.busy": "2020-09-28T10:04:23.666206Z",
     "iopub.status.idle": "2020-09-28T10:04:23.675211Z",
     "shell.execute_reply": "2020-09-28T10:04:23.675693Z"
    },
    "papermill": {
     "duration": 0.054485,
     "end_time": "2020-09-28T10:04:23.675820",
     "exception": false,
     "start_time": "2020-09-28T10:04:23.621335",
     "status": "completed"
    },
    "tags": []
   },
   "outputs": [],
   "source": [
    "from kudzu.layer import Sigmoid\n",
    "from kudzu.layer import Relu\n",
    "from kudzu.layer import Affine, Sigmoid\n",
    "\n",
    "from kudzu.model import Model\n",
    "from kudzu.train import Learner\n",
    "from kudzu.optim import GD\n",
    "from kudzu.data import Data, Dataloader, Sampler\n",
    "\n",
    "from kudzu.callbacks import AccCallback\n",
    "from kudzu.callbacks import ClfCallback\n",
    "\n",
    "from kudzu.loss import MSE"
   ]
  },
  {
   "cell_type": "markdown",
   "metadata": {
    "papermill": {
     "duration": 0.027885,
     "end_time": "2020-09-28T10:04:23.732063",
     "exception": false,
     "start_time": "2020-09-28T10:04:23.704178",
     "status": "completed"
    },
    "tags": []
   },
   "source": [
    "### Let us create a `Config` class, to store important parameters. \n",
    "This class essentially plays the role of a dictionary."
   ]
  },
  {
   "cell_type": "code",
   "execution_count": 15,
   "metadata": {
    "execution": {
     "iopub.execute_input": "2020-09-28T10:04:23.805186Z",
     "iopub.status.busy": "2020-09-28T10:04:23.804602Z",
     "iopub.status.idle": "2020-09-28T10:04:23.808517Z",
     "shell.execute_reply": "2020-09-28T10:04:23.808021Z"
    },
    "papermill": {
     "duration": 0.048725,
     "end_time": "2020-09-28T10:04:23.808632",
     "exception": false,
     "start_time": "2020-09-28T10:04:23.759907",
     "status": "completed"
    },
    "tags": []
   },
   "outputs": [],
   "source": [
    "class Config:\n",
    "    pass\n",
    "config = Config()\n",
    "config.lr = 0.001\n",
    "config.num_epochs = 251\n",
    "config.bs = 50"
   ]
  },
  {
   "cell_type": "markdown",
   "metadata": {
    "papermill": {
     "duration": 0.029324,
     "end_time": "2020-09-28T10:04:23.866074",
     "exception": false,
     "start_time": "2020-09-28T10:04:23.836750",
     "status": "completed"
    },
    "tags": []
   },
   "source": [
    "### Initializing data to the variables"
   ]
  },
  {
   "cell_type": "code",
   "execution_count": 16,
   "metadata": {
    "execution": {
     "iopub.execute_input": "2020-09-28T10:04:23.924390Z",
     "iopub.status.busy": "2020-09-28T10:04:23.923811Z",
     "iopub.status.idle": "2020-09-28T10:04:23.934213Z",
     "shell.execute_reply": "2020-09-28T10:04:23.934728Z"
    },
    "papermill": {
     "duration": 0.040916,
     "end_time": "2020-09-28T10:04:23.934879",
     "exception": false,
     "start_time": "2020-09-28T10:04:23.893963",
     "status": "completed"
    },
    "tags": []
   },
   "outputs": [],
   "source": [
    "data = Data(X_train, y_train.reshape(-1,1))\n",
    "sampler = Sampler(data, config.bs, shuffle=True)\n",
    "\n",
    "dl = Dataloader(data, sampler)\n",
    "\n",
    "opt = GD(config.lr)\n",
    "loss = MSE()"
   ]
  },
  {
   "cell_type": "code",
   "execution_count": 17,
   "metadata": {
    "execution": {
     "iopub.execute_input": "2020-09-28T10:04:24.008693Z",
     "iopub.status.busy": "2020-09-28T10:04:24.008105Z",
     "iopub.status.idle": "2020-09-28T10:04:24.010732Z",
     "shell.execute_reply": "2020-09-28T10:04:24.010230Z"
    },
    "papermill": {
     "duration": 0.0473,
     "end_time": "2020-09-28T10:04:24.010885",
     "exception": false,
     "start_time": "2020-09-28T10:04:23.963585",
     "status": "completed"
    },
    "tags": []
   },
   "outputs": [],
   "source": [
    "training_xdata = X_train\n",
    "testing_xdata = X_test\n",
    "training_ydata = y_train.reshape(-1,1)\n",
    "testing_ydata = y_test.reshape(-1,1)"
   ]
  },
  {
   "cell_type": "markdown",
   "metadata": {
    "papermill": {
     "duration": 0.027491,
     "end_time": "2020-09-28T10:04:24.066208",
     "exception": false,
     "start_time": "2020-09-28T10:04:24.038717",
     "status": "completed"
    },
    "tags": []
   },
   "source": [
    "### Running Models with the Training data\n",
    "Details about the network layers:\n",
    "- A first affine layer has 784 inputs and does 100 affine transforms. These are followed by a Relu\n",
    "- A second affine layer has 100 inputs from the 100 activations of the past layer, and does 100 affine transforms. These are followed by a Relu\n",
    "- A third affine layer has 100 activations and does 2 affine transformations to create an embedding for visualization. There is no non-linearity here.\n",
    "- A final \"logistic regression\" which has an affine transform from 2 inputs to 1 output, which is squeezed through a sigmoid.\n",
    "\n",
    "Help taken from Anshuman's Notebook."
   ]
  },
  {
   "cell_type": "code",
   "execution_count": 18,
   "metadata": {
    "execution": {
     "iopub.execute_input": "2020-09-28T10:04:24.130324Z",
     "iopub.status.busy": "2020-09-28T10:04:24.129689Z",
     "iopub.status.idle": "2020-09-28T10:04:24.145411Z",
     "shell.execute_reply": "2020-09-28T10:04:24.145965Z"
    },
    "papermill": {
     "duration": 0.047378,
     "end_time": "2020-09-28T10:04:24.146098",
     "exception": false,
     "start_time": "2020-09-28T10:04:24.098720",
     "status": "completed"
    },
    "tags": []
   },
   "outputs": [],
   "source": [
    "# layers for the Neural Network\n",
    "layers = [Affine(\"first\", 784, 100), Relu(\"first\"), Affine(\"second\", 100, 100), Relu(\"second\"), Affine(\"third\", 100, 2), Affine(\"final\", 2, 1), Sigmoid(\"final\")]\n",
    "model_nn = Model(layers)\n",
    "\n",
    "# layers for the Logistic Regression\n",
    "layers_lr = [Affine(\"logits\", 784, 1), Sigmoid(\"sigmoid\")]\n",
    "model_lr = Model(layers_lr)"
   ]
  },
  {
   "cell_type": "code",
   "execution_count": 19,
   "metadata": {
    "execution": {
     "iopub.execute_input": "2020-09-28T10:04:24.205865Z",
     "iopub.status.busy": "2020-09-28T10:04:24.205280Z",
     "iopub.status.idle": "2020-09-28T10:04:24.215716Z",
     "shell.execute_reply": "2020-09-28T10:04:24.216278Z"
    },
    "papermill": {
     "duration": 0.042088,
     "end_time": "2020-09-28T10:04:24.216405",
     "exception": false,
     "start_time": "2020-09-28T10:04:24.174317",
     "status": "completed"
    },
    "tags": []
   },
   "outputs": [],
   "source": [
    "# suffix _nn stands for Neural Network.\n",
    "learner_nn = Learner(loss, model_nn, opt, config.num_epochs)\n",
    "acc_nn = ClfCallback(learner_nn, config.bs, training_xdata , testing_xdata, training_ydata, testing_ydata)\n",
    "learner_nn.set_callbacks([acc_nn])"
   ]
  },
  {
   "cell_type": "code",
   "execution_count": 20,
   "metadata": {
    "execution": {
     "iopub.execute_input": "2020-09-28T10:04:24.277842Z",
     "iopub.status.busy": "2020-09-28T10:04:24.277262Z",
     "iopub.status.idle": "2020-09-28T10:06:21.685637Z",
     "shell.execute_reply": "2020-09-28T10:06:21.686399Z"
    },
    "papermill": {
     "duration": 117.44153,
     "end_time": "2020-09-28T10:06:21.686557",
     "exception": false,
     "start_time": "2020-09-28T10:04:24.245027",
     "status": "completed"
    },
    "tags": []
   },
   "outputs": [
    {
     "name": "stdout",
     "output_type": "stream",
     "text": [
      "====== Neural Network ======\n"
     ]
    },
    {
     "name": "stdout",
     "output_type": "stream",
     "text": [
      "Epoch 0, Loss 0.1884\n",
      "Training Accuracy: 0.8613, Testing Accuracy: 0.8755\n",
      "\n"
     ]
    },
    {
     "name": "stdout",
     "output_type": "stream",
     "text": [
      "Epoch 10, Loss 0.0519\n",
      "Training Accuracy: 0.9466, Testing Accuracy: 0.9546\n",
      "\n"
     ]
    },
    {
     "name": "stdout",
     "output_type": "stream",
     "text": [
      "Epoch 20, Loss 0.039\n",
      "Training Accuracy: 0.9561, Testing Accuracy: 0.9662\n",
      "\n"
     ]
    },
    {
     "name": "stdout",
     "output_type": "stream",
     "text": [
      "Epoch 30, Loss 0.0337\n",
      "Training Accuracy: 0.9623, Testing Accuracy: 0.9713\n",
      "\n"
     ]
    },
    {
     "name": "stdout",
     "output_type": "stream",
     "text": [
      "Epoch 40, Loss 0.0306\n",
      "Training Accuracy: 0.9654, Testing Accuracy: 0.9733\n",
      "\n"
     ]
    },
    {
     "name": "stdout",
     "output_type": "stream",
     "text": [
      "Epoch 50, Loss 0.0284\n",
      "Training Accuracy: 0.9669, Testing Accuracy: 0.9728\n",
      "\n"
     ]
    },
    {
     "name": "stdout",
     "output_type": "stream",
     "text": [
      "Epoch 60, Loss 0.0268\n",
      "Training Accuracy: 0.9685, Testing Accuracy: 0.9743\n",
      "\n"
     ]
    },
    {
     "name": "stdout",
     "output_type": "stream",
     "text": [
      "Epoch 70, Loss 0.0255\n",
      "Training Accuracy: 0.9702, Testing Accuracy: 0.9733\n",
      "\n"
     ]
    },
    {
     "name": "stdout",
     "output_type": "stream",
     "text": [
      "Epoch 80, Loss 0.0244\n",
      "Training Accuracy: 0.9714, Testing Accuracy: 0.9733\n",
      "\n"
     ]
    },
    {
     "name": "stdout",
     "output_type": "stream",
     "text": [
      "Epoch 90, Loss 0.0234\n",
      "Training Accuracy: 0.9728, Testing Accuracy: 0.9723\n",
      "\n"
     ]
    },
    {
     "name": "stdout",
     "output_type": "stream",
     "text": [
      "Epoch 100, Loss 0.0226\n",
      "Training Accuracy: 0.9746, Testing Accuracy: 0.9728\n",
      "\n"
     ]
    },
    {
     "name": "stdout",
     "output_type": "stream",
     "text": [
      "Epoch 110, Loss 0.0218\n",
      "Training Accuracy: 0.9757, Testing Accuracy: 0.9733\n",
      "\n"
     ]
    },
    {
     "name": "stdout",
     "output_type": "stream",
     "text": [
      "Epoch 120, Loss 0.0212\n",
      "Training Accuracy: 0.9768, Testing Accuracy: 0.9738\n",
      "\n"
     ]
    },
    {
     "name": "stdout",
     "output_type": "stream",
     "text": [
      "Epoch 130, Loss 0.0205\n",
      "Training Accuracy: 0.9778, Testing Accuracy: 0.9748\n",
      "\n"
     ]
    },
    {
     "name": "stdout",
     "output_type": "stream",
     "text": [
      "Epoch 140, Loss 0.0199\n",
      "Training Accuracy: 0.9785, Testing Accuracy: 0.9748\n",
      "\n"
     ]
    },
    {
     "name": "stdout",
     "output_type": "stream",
     "text": [
      "Epoch 150, Loss 0.0194\n",
      "Training Accuracy: 0.9789, Testing Accuracy: 0.9758\n",
      "\n"
     ]
    },
    {
     "name": "stdout",
     "output_type": "stream",
     "text": [
      "Epoch 160, Loss 0.0189\n",
      "Training Accuracy: 0.9794, Testing Accuracy: 0.9758\n",
      "\n"
     ]
    },
    {
     "name": "stdout",
     "output_type": "stream",
     "text": [
      "Epoch 170, Loss 0.0184\n",
      "Training Accuracy: 0.9800, Testing Accuracy: 0.9758\n",
      "\n"
     ]
    },
    {
     "name": "stdout",
     "output_type": "stream",
     "text": [
      "Epoch 180, Loss 0.018\n",
      "Training Accuracy: 0.9806, Testing Accuracy: 0.9763\n",
      "\n"
     ]
    },
    {
     "name": "stdout",
     "output_type": "stream",
     "text": [
      "Epoch 190, Loss 0.0175\n",
      "Training Accuracy: 0.9809, Testing Accuracy: 0.9768\n",
      "\n"
     ]
    },
    {
     "name": "stdout",
     "output_type": "stream",
     "text": [
      "Epoch 200, Loss 0.0171\n",
      "Training Accuracy: 0.9817, Testing Accuracy: 0.9758\n",
      "\n"
     ]
    },
    {
     "name": "stdout",
     "output_type": "stream",
     "text": [
      "Epoch 210, Loss 0.0167\n",
      "Training Accuracy: 0.9824, Testing Accuracy: 0.9763\n",
      "\n"
     ]
    },
    {
     "name": "stdout",
     "output_type": "stream",
     "text": [
      "Epoch 220, Loss 0.0163\n",
      "Training Accuracy: 0.9829, Testing Accuracy: 0.9763\n",
      "\n"
     ]
    },
    {
     "name": "stdout",
     "output_type": "stream",
     "text": [
      "Epoch 230, Loss 0.0159\n",
      "Training Accuracy: 0.9835, Testing Accuracy: 0.9763\n",
      "\n"
     ]
    },
    {
     "name": "stdout",
     "output_type": "stream",
     "text": [
      "Epoch 240, Loss 0.0156\n",
      "Training Accuracy: 0.9836, Testing Accuracy: 0.9763\n",
      "\n"
     ]
    },
    {
     "name": "stdout",
     "output_type": "stream",
     "text": [
      "Epoch 250, Loss 0.0152\n",
      "Training Accuracy: 0.9841, Testing Accuracy: 0.9763\n",
      "\n"
     ]
    },
    {
     "data": {
      "text/plain": [
       "0.032329855191020655"
      ]
     },
     "execution_count": 20,
     "metadata": {},
     "output_type": "execute_result"
    }
   ],
   "source": [
    "print(\"====== Neural Network ======\")\n",
    "learner_nn.train_loop(dl)"
   ]
  },
  {
   "cell_type": "markdown",
   "metadata": {
    "papermill": {
     "duration": 0.036228,
     "end_time": "2020-09-28T10:06:21.761053",
     "exception": false,
     "start_time": "2020-09-28T10:06:21.724825",
     "status": "completed"
    },
    "tags": []
   },
   "source": [
    "### Logistic Regression based Implementation."
   ]
  },
  {
   "cell_type": "code",
   "execution_count": 21,
   "metadata": {
    "execution": {
     "iopub.execute_input": "2020-09-28T10:06:21.839727Z",
     "iopub.status.busy": "2020-09-28T10:06:21.839134Z",
     "iopub.status.idle": "2020-09-28T10:06:21.851175Z",
     "shell.execute_reply": "2020-09-28T10:06:21.850666Z"
    },
    "papermill": {
     "duration": 0.054837,
     "end_time": "2020-09-28T10:06:21.851294",
     "exception": false,
     "start_time": "2020-09-28T10:06:21.796457",
     "status": "completed"
    },
    "tags": []
   },
   "outputs": [],
   "source": [
    "learner_lr = Learner(loss, model_lr, opt, config.num_epochs)\n",
    "acc_lr = ClfCallback(learner_lr, config.bs, training_xdata , testing_xdata, training_ydata, testing_ydata)\n",
    "learner_lr.set_callbacks([acc_lr])"
   ]
  },
  {
   "cell_type": "code",
   "execution_count": 22,
   "metadata": {
    "execution": {
     "iopub.execute_input": "2020-09-28T10:06:21.937368Z",
     "iopub.status.busy": "2020-09-28T10:06:21.934529Z",
     "iopub.status.idle": "2020-09-28T10:06:39.951190Z",
     "shell.execute_reply": "2020-09-28T10:06:39.951994Z"
    },
    "papermill": {
     "duration": 18.063678,
     "end_time": "2020-09-28T10:06:39.952161",
     "exception": false,
     "start_time": "2020-09-28T10:06:21.888483",
     "status": "completed"
    },
    "tags": []
   },
   "outputs": [
    {
     "name": "stdout",
     "output_type": "stream",
     "text": [
      "====== Logistic Regression ======\n",
      "Epoch 0, Loss 0.2056\n",
      "Training Accuracy: 0.8060, Testing Accuracy: 0.8130\n",
      "\n"
     ]
    },
    {
     "name": "stdout",
     "output_type": "stream",
     "text": [
      "Epoch 10, Loss 0.0989\n",
      "Training Accuracy: 0.9117, Testing Accuracy: 0.9264\n",
      "\n"
     ]
    },
    {
     "name": "stdout",
     "output_type": "stream",
     "text": [
      "Epoch 20, Loss 0.0777\n",
      "Training Accuracy: 0.9276, Testing Accuracy: 0.9400\n",
      "\n"
     ]
    },
    {
     "name": "stdout",
     "output_type": "stream",
     "text": [
      "Epoch 30, Loss 0.0675\n",
      "Training Accuracy: 0.9357, Testing Accuracy: 0.9501\n",
      "\n"
     ]
    },
    {
     "name": "stdout",
     "output_type": "stream",
     "text": [
      "Epoch 40, Loss 0.0612\n",
      "Training Accuracy: 0.9402, Testing Accuracy: 0.9536\n",
      "\n"
     ]
    },
    {
     "name": "stdout",
     "output_type": "stream",
     "text": [
      "Epoch 50, Loss 0.0569\n",
      "Training Accuracy: 0.9437, Testing Accuracy: 0.9567\n",
      "\n"
     ]
    },
    {
     "name": "stdout",
     "output_type": "stream",
     "text": [
      "Epoch 60, Loss 0.0537\n",
      "Training Accuracy: 0.9472, Testing Accuracy: 0.9567\n",
      "\n"
     ]
    },
    {
     "name": "stdout",
     "output_type": "stream",
     "text": [
      "Epoch 70, Loss 0.0512\n",
      "Training Accuracy: 0.9493, Testing Accuracy: 0.9592\n",
      "\n"
     ]
    },
    {
     "name": "stdout",
     "output_type": "stream",
     "text": [
      "Epoch 80, Loss 0.0491\n",
      "Training Accuracy: 0.9505, Testing Accuracy: 0.9597\n",
      "\n"
     ]
    },
    {
     "name": "stdout",
     "output_type": "stream",
     "text": [
      "Epoch 90, Loss 0.0475\n",
      "Training Accuracy: 0.9523, Testing Accuracy: 0.9607\n",
      "\n"
     ]
    },
    {
     "name": "stdout",
     "output_type": "stream",
     "text": [
      "Epoch 100, Loss 0.046\n",
      "Training Accuracy: 0.9536, Testing Accuracy: 0.9612\n",
      "\n"
     ]
    },
    {
     "name": "stdout",
     "output_type": "stream",
     "text": [
      "Epoch 110, Loss 0.0448\n",
      "Training Accuracy: 0.9546, Testing Accuracy: 0.9612\n",
      "\n"
     ]
    },
    {
     "name": "stdout",
     "output_type": "stream",
     "text": [
      "Epoch 120, Loss 0.0438\n",
      "Training Accuracy: 0.9552, Testing Accuracy: 0.9617\n",
      "\n"
     ]
    },
    {
     "name": "stdout",
     "output_type": "stream",
     "text": [
      "Epoch 130, Loss 0.0428\n",
      "Training Accuracy: 0.9563, Testing Accuracy: 0.9617\n",
      "\n"
     ]
    },
    {
     "name": "stdout",
     "output_type": "stream",
     "text": [
      "Epoch 140, Loss 0.042\n",
      "Training Accuracy: 0.9569, Testing Accuracy: 0.9632\n",
      "\n"
     ]
    },
    {
     "name": "stdout",
     "output_type": "stream",
     "text": [
      "Epoch 150, Loss 0.0413\n",
      "Training Accuracy: 0.9577, Testing Accuracy: 0.9637\n",
      "\n"
     ]
    },
    {
     "name": "stdout",
     "output_type": "stream",
     "text": [
      "Epoch 160, Loss 0.0406\n",
      "Training Accuracy: 0.9583, Testing Accuracy: 0.9642\n",
      "\n"
     ]
    },
    {
     "name": "stdout",
     "output_type": "stream",
     "text": [
      "Epoch 170, Loss 0.04\n",
      "Training Accuracy: 0.9593, Testing Accuracy: 0.9652\n",
      "\n"
     ]
    },
    {
     "name": "stdout",
     "output_type": "stream",
     "text": [
      "Epoch 180, Loss 0.0394\n",
      "Training Accuracy: 0.9597, Testing Accuracy: 0.9652\n",
      "\n"
     ]
    },
    {
     "name": "stdout",
     "output_type": "stream",
     "text": [
      "Epoch 190, Loss 0.0389\n",
      "Training Accuracy: 0.9604, Testing Accuracy: 0.9652\n",
      "\n"
     ]
    },
    {
     "name": "stdout",
     "output_type": "stream",
     "text": [
      "Epoch 200, Loss 0.0384\n",
      "Training Accuracy: 0.9608, Testing Accuracy: 0.9652\n",
      "\n"
     ]
    },
    {
     "name": "stdout",
     "output_type": "stream",
     "text": [
      "Epoch 210, Loss 0.038\n",
      "Training Accuracy: 0.9611, Testing Accuracy: 0.9662\n",
      "\n"
     ]
    },
    {
     "name": "stdout",
     "output_type": "stream",
     "text": [
      "Epoch 220, Loss 0.0376\n",
      "Training Accuracy: 0.9613, Testing Accuracy: 0.9667\n",
      "\n"
     ]
    },
    {
     "name": "stdout",
     "output_type": "stream",
     "text": [
      "Epoch 230, Loss 0.0372\n",
      "Training Accuracy: 0.9613, Testing Accuracy: 0.9667\n",
      "\n"
     ]
    },
    {
     "name": "stdout",
     "output_type": "stream",
     "text": [
      "Epoch 240, Loss 0.0368\n",
      "Training Accuracy: 0.9614, Testing Accuracy: 0.9667\n",
      "\n"
     ]
    },
    {
     "name": "stdout",
     "output_type": "stream",
     "text": [
      "Epoch 250, Loss 0.0365\n",
      "Training Accuracy: 0.9617, Testing Accuracy: 0.9672\n",
      "\n"
     ]
    },
    {
     "data": {
      "text/plain": [
       "0.03442579047210574"
      ]
     },
     "execution_count": 22,
     "metadata": {},
     "output_type": "execute_result"
    }
   ],
   "source": [
    "print(\"====== Logistic Regression ======\")\n",
    "learner_lr.train_loop(dl)"
   ]
  },
  {
   "cell_type": "markdown",
   "metadata": {
    "papermill": {
     "duration": 0.044765,
     "end_time": "2020-09-28T10:06:40.044823",
     "exception": false,
     "start_time": "2020-09-28T10:06:40.000058",
     "status": "completed"
    },
    "tags": []
   },
   "source": [
    "### Comparing results of NN and LR"
   ]
  },
  {
   "cell_type": "code",
   "execution_count": 23,
   "metadata": {
    "execution": {
     "iopub.execute_input": "2020-09-28T10:06:40.143081Z",
     "iopub.status.busy": "2020-09-28T10:06:40.140738Z",
     "iopub.status.idle": "2020-09-28T10:06:40.388872Z",
     "shell.execute_reply": "2020-09-28T10:06:40.388361Z"
    },
    "papermill": {
     "duration": 0.29835,
     "end_time": "2020-09-28T10:06:40.389005",
     "exception": false,
     "start_time": "2020-09-28T10:06:40.090655",
     "status": "completed"
    },
    "tags": []
   },
   "outputs": [
    {
     "data": {
      "text/plain": [
       "<matplotlib.legend.Legend at 0x7f386535b2e8>"
      ]
     },
     "execution_count": 23,
     "metadata": {},
     "output_type": "execute_result"
    },
    {
     "data": {
      "image/png": "[encoded data removed]",
      "text/plain": [
       "<Figure size 1080x720 with 1 Axes>"
      ]
     },
     "metadata": {
      "needs_background": "light"
     },
     "output_type": "display_data"
    }
   ],
   "source": [
    "plt.figure(figsize=(15,10))\n",
    "\n",
    "# Neural Network plots\n",
    "plt.plot(acc_nn.accuracies, 'r-', label = \"Training Accuracies - NN\")\n",
    "plt.plot(acc_nn.test_accuracies, 'g-', label = \"Testing Accuracies - NN\")\n",
    "\n",
    "# Logistic Regression plots\n",
    "plt.plot(acc_lr.accuracies, 'k-', label = \"Training Accuracies - LR\")\n",
    "plt.plot(acc_lr.test_accuracies, 'b-', label = \"Testing Accuracies - LR\")\n",
    "\n",
    "plt.ylim(0.8, 1)\n",
    "\n",
    "plt.legend()\n",
    "\n"
   ]
  },
  {
   "cell_type": "markdown",
   "metadata": {
    "papermill": {
     "duration": 0.046218,
     "end_time": "2020-09-28T10:06:40.480611",
     "exception": false,
     "start_time": "2020-09-28T10:06:40.434393",
     "status": "completed"
    },
    "tags": []
   },
   "source": [
    "### From the plot, we can observe the following:\n",
    "- Neural Network achieves higher accuracy than the Logistic Regression model.\n",
    "- This apparently, is because of overfitting, i.e. NN captures more noise than data.\n",
    "- Testing accuracy of NN drops below the Training accuracy at higher epochs. This explains the over-fitting on training data.\n",
    "- Logistic Regression gives a reliable accuracy, without the above mentioned problem.\n"
   ]
  },
  {
   "cell_type": "markdown",
   "metadata": {
    "papermill": {
     "duration": 0.04826,
     "end_time": "2020-09-28T10:06:40.586256",
     "exception": false,
     "start_time": "2020-09-28T10:06:40.537996",
     "status": "completed"
    },
    "tags": []
   },
   "source": [
    "### Moving till the last but one layer (excluding it).\n",
    "#### Plotting the outputs of this layer of the NN."
   ]
  },
  {
   "cell_type": "code",
   "execution_count": 24,
   "metadata": {
    "execution": {
     "iopub.execute_input": "2020-09-28T10:06:40.688079Z",
     "iopub.status.busy": "2020-09-28T10:06:40.687470Z",
     "iopub.status.idle": "2020-09-28T10:06:40.698570Z",
     "shell.execute_reply": "2020-09-28T10:06:40.699102Z"
    },
    "papermill": {
     "duration": 0.06644,
     "end_time": "2020-09-28T10:06:40.699250",
     "exception": false,
     "start_time": "2020-09-28T10:06:40.632810",
     "status": "completed"
    },
    "tags": []
   },
   "outputs": [],
   "source": [
    "model_new = Model(layers[:-2])"
   ]
  },
  {
   "cell_type": "code",
   "execution_count": 25,
   "metadata": {
    "execution": {
     "iopub.execute_input": "2020-09-28T10:06:40.795224Z",
     "iopub.status.busy": "2020-09-28T10:06:40.794607Z",
     "iopub.status.idle": "2020-09-28T10:06:40.815339Z",
     "shell.execute_reply": "2020-09-28T10:06:40.816046Z"
    },
    "papermill": {
     "duration": 0.072232,
     "end_time": "2020-09-28T10:06:40.816200",
     "exception": false,
     "start_time": "2020-09-28T10:06:40.743968",
     "status": "completed"
    },
    "tags": []
   },
   "outputs": [],
   "source": [
    "plot_testing = model_new(testing_xdata)"
   ]
  },
  {
   "cell_type": "code",
   "execution_count": 26,
   "metadata": {
    "execution": {
     "iopub.execute_input": "2020-09-28T10:06:40.920205Z",
     "iopub.status.busy": "2020-09-28T10:06:40.919630Z",
     "iopub.status.idle": "2020-09-28T10:06:41.135583Z",
     "shell.execute_reply": "2020-09-28T10:06:41.136066Z"
    },
    "papermill": {
     "duration": 0.272539,
     "end_time": "2020-09-28T10:06:41.136224",
     "exception": false,
     "start_time": "2020-09-28T10:06:40.863685",
     "status": "completed"
    },
    "tags": []
   },
   "outputs": [
    {
     "data": {
      "text/plain": [
       "Text(0.5, 1.0, 'Outputs')"
      ]
     },
     "execution_count": 26,
     "metadata": {},
     "output_type": "execute_result"
    },
    {
     "data": {
      "image/png": "[encoded data removed]",
      "text/plain": [
       "<Figure size 576x504 with 1 Axes>"
      ]
     },
     "metadata": {
      "needs_background": "light"
     },
     "output_type": "display_data"
    }
   ],
   "source": [
    "plt.figure(figsize=(8,7))\n",
    "plt.scatter(plot_testing[:,0], plot_testing[:,1], alpha = 0.1, c = y_test.ravel());\n",
    "plt.title('Outputs')"
   ]
  },
  {
   "cell_type": "markdown",
   "metadata": {
    "papermill": {
     "duration": 0.051989,
     "end_time": "2020-09-28T10:06:41.241361",
     "exception": false,
     "start_time": "2020-09-28T10:06:41.189372",
     "status": "completed"
    },
    "tags": []
   },
   "source": [
    "### Plotting probability contours"
   ]
  },
  {
   "cell_type": "code",
   "execution_count": 27,
   "metadata": {
    "execution": {
     "iopub.execute_input": "2020-09-28T10:06:41.340700Z",
     "iopub.status.busy": "2020-09-28T10:06:41.340128Z",
     "iopub.status.idle": "2020-09-28T10:06:41.353807Z",
     "shell.execute_reply": "2020-09-28T10:06:41.354394Z"
    },
    "papermill": {
     "duration": 0.06603,
     "end_time": "2020-09-28T10:06:41.354531",
     "exception": false,
     "start_time": "2020-09-28T10:06:41.288501",
     "status": "completed"
    },
    "tags": []
   },
   "outputs": [],
   "source": [
    "model_prob = Model(layers[-2:]) "
   ]
  },
  {
   "cell_type": "code",
   "execution_count": 28,
   "metadata": {
    "execution": {
     "iopub.execute_input": "2020-09-28T10:06:41.466873Z",
     "iopub.status.busy": "2020-09-28T10:06:41.466239Z",
     "iopub.status.idle": "2020-09-28T10:06:41.475547Z",
     "shell.execute_reply": "2020-09-28T10:06:41.476023Z"
    },
    "papermill": {
     "duration": 0.070121,
     "end_time": "2020-09-28T10:06:41.476169",
     "exception": false,
     "start_time": "2020-09-28T10:06:41.406048",
     "status": "completed"
    },
    "tags": []
   },
   "outputs": [],
   "source": [
    "# Adjust the x and y ranges according to the above generated plot.\n",
    "x_range = np.linspace(-4, 1, 100) \n",
    "y_range = np.linspace(-6, 6, 100) \n",
    "x_grid, y_grid = np.meshgrid(x_range, y_range) # x_grid and y_grig are of size 100 X 100\n",
    "\n",
    "# converting x_grid and y_grid to continuous arrays\n",
    "x_grid_flat = np.ravel(x_grid)\n",
    "y_grid_flat = np.ravel(y_grid)\n",
    "\n",
    "# The last layer of the current model takes two columns as input. Hence transpose of np.vstack() is required.\n",
    "X = np.vstack((x_grid_flat, y_grid_flat)).T\n",
    "\n",
    "# x_grid and y_grid are of size 100 x 100\n",
    "probability_contour = model_prob(X).reshape(100,100) "
   ]
  },
  {
   "cell_type": "code",
   "execution_count": 29,
   "metadata": {
    "execution": {
     "iopub.execute_input": "2020-09-28T10:06:41.585454Z",
     "iopub.status.busy": "2020-09-28T10:06:41.584871Z",
     "iopub.status.idle": "2020-09-28T10:06:41.841347Z",
     "shell.execute_reply": "2020-09-28T10:06:41.841810Z"
    },
    "papermill": {
     "duration": 0.31594,
     "end_time": "2020-09-28T10:06:41.842537",
     "exception": false,
     "start_time": "2020-09-28T10:06:41.526597",
     "status": "completed"
    },
    "tags": []
   },
   "outputs": [
    {
     "data": {
      "image/png": "[encoded data removed]",
      "text/plain": [
       "<Figure size 720x648 with 1 Axes>"
      ]
     },
     "metadata": {
      "needs_background": "light"
     },
     "output_type": "display_data"
    }
   ],
   "source": [
    "plt.figure(figsize=(10,9))\n",
    "plt.scatter(plot_testing[:,0], plot_testing[:,1], alpha = 0.1, c = y_test.ravel())\n",
    "contours = plt.contour(x_grid,y_grid,probability_contour)\n",
    "plt.title('Probability Contours')\n",
    "plt.clabel(contours, inline = True );"
   ]
  }
 ],
 "metadata": {
  "kernelspec": {
   "display_name": "Python 3",
   "language": "python",
   "name": "python3"
  },
  "language_info": {
   "codemirror_mode": {
    "name": "ipython",
    "version": 3
   },
   "file_extension": ".py",
   "mimetype": "text/x-python",
   "name": "python",
   "nbconvert_exporter": "python",
   "pygments_lexer": "ipython3",
   "version": "3.6.12"
  },
  "papermill": {
   "duration": 146.099066,
   "end_time": "2020-09-28T10:06:42.222167",
   "environment_variables": {},
   "exception": null,
   "input_path": "2020-08-11-NeuralNetwork.ipynb",
   "output_path": "2020-08-11-NeuralNetwork.ipynb",
   "parameters": {},
   "start_time": "2020-09-28T10:04:16.123101",
   "version": "2.1.2"
  }
 },
 "nbformat": 4,
 "nbformat_minor": 4
}