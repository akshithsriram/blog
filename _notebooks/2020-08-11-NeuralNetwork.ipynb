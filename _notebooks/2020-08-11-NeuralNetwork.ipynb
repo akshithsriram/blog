{
 "cells": [
  {
   "cell_type": "markdown",
   "id": "fitted-suggestion",
   "metadata": {
    "papermill": {
     "duration": 0.030193,
     "end_time": "2021-06-29T00:14:31.135046",
     "exception": false,
     "start_time": "2021-06-29T00:14:31.104853",
     "status": "completed"
    },
    "tags": []
   },
   "source": [
    "# \"A Basic Neural Network: Differentiate Hand-Written Digits\"\n",
    "\n",
    "- badges: true\n",
    "- author: Akshith Sriram"
   ]
  },
  {
   "cell_type": "markdown",
   "id": "signal-flexibility",
   "metadata": {
    "papermill": {
     "duration": 0.025048,
     "end_time": "2021-06-29T00:14:31.186141",
     "exception": false,
     "start_time": "2021-06-29T00:14:31.161093",
     "status": "completed"
    },
    "tags": []
   },
   "source": [
    "### Key Objectives:\n",
    "- Building a neural network that differentiates two hand-written digits 3 and 8.\n",
    "- Comparing the results of this Neural Network (NN) to that of a Logistic Regression (LR) model.\n",
    "\n",
    "### Requirements:\n",
    "- 'Kudzu' : A neural network library that was designed during our course by [Univ.AI](www.univ.ai). \n",
    "- MNIST Database\n",
    "\n",
    "If MNIST is not installed, use the command `!pip install mnist` given below.\n",
    "It can be run both from the command line and Jupyter Notebook."
   ]
  },
  {
   "cell_type": "code",
   "execution_count": 1,
   "id": "british-texture",
   "metadata": {
    "execution": {
     "iopub.execute_input": "2021-06-29T00:14:31.246393Z",
     "iopub.status.busy": "2021-06-29T00:14:31.245889Z",
     "iopub.status.idle": "2021-06-29T00:14:32.577146Z",
     "shell.execute_reply": "2021-06-29T00:14:32.576222Z"
    },
    "papermill": {
     "duration": 1.366104,
     "end_time": "2021-06-29T00:14:32.577305",
     "exception": false,
     "start_time": "2021-06-29T00:14:31.211201",
     "status": "completed"
    },
    "tags": []
   },
   "outputs": [
    {
     "name": "stdout",
     "output_type": "stream",
     "text": [
      "Collecting mnist\r\n"
     ]
    },
    {
     "name": "stdout",
     "output_type": "stream",
     "text": [
      "  Downloading mnist-0.2.2-py2.py3-none-any.whl (3.5 kB)\r\n",
      "Requirement already satisfied: numpy in /opt/hostedtoolcache/Python/3.6.13/x64/lib/python3.6/site-packages (from mnist) (1.19.5)\r\n"
     ]
    },
    {
     "name": "stdout",
     "output_type": "stream",
     "text": [
      "Installing collected packages: mnist\r\n"
     ]
    },
    {
     "name": "stdout",
     "output_type": "stream",
     "text": [
      "Successfully installed mnist-0.2.2\r\n",
      "\u001b[33mWARNING: You are using pip version 21.1.2; however, version 21.1.3 is available.\r\n",
      "You should consider upgrading via the '/opt/hostedtoolcache/Python/3.6.13/x64/bin/python -m pip install --upgrade pip' command.\u001b[0m\r\n"
     ]
    }
   ],
   "source": [
    "!pip install mnist "
   ]
  },
  {
   "cell_type": "markdown",
   "id": "stunning-extra",
   "metadata": {
    "papermill": {
     "duration": 0.026188,
     "end_time": "2021-06-29T00:14:32.630643",
     "exception": false,
     "start_time": "2021-06-29T00:14:32.604455",
     "status": "completed"
    },
    "tags": []
   },
   "source": [
    "#### Importing necessary libraries"
   ]
  },
  {
   "cell_type": "code",
   "execution_count": 2,
   "id": "wooden-france",
   "metadata": {
    "execution": {
     "iopub.execute_input": "2021-06-29T00:14:32.690079Z",
     "iopub.status.busy": "2021-06-29T00:14:32.689579Z",
     "iopub.status.idle": "2021-06-29T00:14:33.175761Z",
     "shell.execute_reply": "2021-06-29T00:14:33.175256Z"
    },
    "papermill": {
     "duration": 0.519136,
     "end_time": "2021-06-29T00:14:33.175892",
     "exception": false,
     "start_time": "2021-06-29T00:14:32.656756",
     "status": "completed"
    },
    "tags": []
   },
   "outputs": [],
   "source": [
    "%load_ext autoreload\n",
    "%autoreload 2\n",
    "\n",
    "%matplotlib inline\n",
    "import matplotlib.pyplot as plt\n",
    "\n",
    "import numpy as np\n",
    "import pandas as pd"
   ]
  },
  {
   "cell_type": "markdown",
   "id": "stunning-physics",
   "metadata": {
    "papermill": {
     "duration": 0.026563,
     "end_time": "2021-06-29T00:14:33.229587",
     "exception": false,
     "start_time": "2021-06-29T00:14:33.203024",
     "status": "completed"
    },
    "tags": []
   },
   "source": [
    "### Preparing the Data"
   ]
  },
  {
   "cell_type": "code",
   "execution_count": 3,
   "id": "unauthorized-remainder",
   "metadata": {
    "execution": {
     "iopub.execute_input": "2021-06-29T00:14:33.286128Z",
     "iopub.status.busy": "2021-06-29T00:14:33.285635Z",
     "iopub.status.idle": "2021-06-29T00:14:33.296359Z",
     "shell.execute_reply": "2021-06-29T00:14:33.295958Z"
    },
    "papermill": {
     "duration": 0.040695,
     "end_time": "2021-06-29T00:14:33.296462",
     "exception": false,
     "start_time": "2021-06-29T00:14:33.255767",
     "status": "completed"
    },
    "tags": []
   },
   "outputs": [],
   "source": [
    "import mnist"
   ]
  },
  {
   "cell_type": "code",
   "execution_count": 4,
   "id": "correct-antarctica",
   "metadata": {
    "execution": {
     "iopub.execute_input": "2021-06-29T00:14:33.353782Z",
     "iopub.status.busy": "2021-06-29T00:14:33.353293Z",
     "iopub.status.idle": "2021-06-29T00:19:14.153053Z",
     "shell.execute_reply": "2021-06-29T00:19:14.153578Z"
    },
    "papermill": {
     "duration": 280.831053,
     "end_time": "2021-06-29T00:19:14.153742",
     "exception": false,
     "start_time": "2021-06-29T00:14:33.322689",
     "status": "completed"
    },
    "tags": []
   },
   "outputs": [],
   "source": [
    "train_images = mnist.train_images()\n",
    "train_labels = mnist.train_labels()"
   ]
  },
  {
   "cell_type": "code",
   "execution_count": 5,
   "id": "musical-prospect",
   "metadata": {
    "execution": {
     "iopub.execute_input": "2021-06-29T00:19:14.226193Z",
     "iopub.status.busy": "2021-06-29T00:19:14.225702Z",
     "iopub.status.idle": "2021-06-29T00:19:14.230819Z",
     "shell.execute_reply": "2021-06-29T00:19:14.230199Z"
    },
    "papermill": {
     "duration": 0.050029,
     "end_time": "2021-06-29T00:19:14.230922",
     "exception": false,
     "start_time": "2021-06-29T00:19:14.180893",
     "status": "completed"
    },
    "tags": []
   },
   "outputs": [
    {
     "data": {
      "text/plain": [
       "((60000, 28, 28), (60000,))"
      ]
     },
     "execution_count": 5,
     "metadata": {},
     "output_type": "execute_result"
    }
   ],
   "source": [
    "train_images.shape, train_labels.shape"
   ]
  },
  {
   "cell_type": "code",
   "execution_count": 6,
   "id": "preliminary-elizabeth",
   "metadata": {
    "execution": {
     "iopub.execute_input": "2021-06-29T00:19:14.296595Z",
     "iopub.status.busy": "2021-06-29T00:19:14.291760Z",
     "iopub.status.idle": "2021-06-29T00:19:55.152922Z",
     "shell.execute_reply": "2021-06-29T00:19:55.152377Z"
    },
    "papermill": {
     "duration": 40.895769,
     "end_time": "2021-06-29T00:19:55.153083",
     "exception": false,
     "start_time": "2021-06-29T00:19:14.257314",
     "status": "completed"
    },
    "tags": []
   },
   "outputs": [],
   "source": [
    "test_images = mnist.test_images()\n",
    "test_labels = mnist.test_labels()"
   ]
  },
  {
   "cell_type": "code",
   "execution_count": 7,
   "id": "acknowledged-oxygen",
   "metadata": {
    "execution": {
     "iopub.execute_input": "2021-06-29T00:19:55.210431Z",
     "iopub.status.busy": "2021-06-29T00:19:55.209939Z",
     "iopub.status.idle": "2021-06-29T00:19:55.222880Z",
     "shell.execute_reply": "2021-06-29T00:19:55.222301Z"
    },
    "papermill": {
     "duration": 0.042596,
     "end_time": "2021-06-29T00:19:55.222989",
     "exception": false,
     "start_time": "2021-06-29T00:19:55.180393",
     "status": "completed"
    },
    "tags": []
   },
   "outputs": [
    {
     "data": {
      "text/plain": [
       "((10000, 28, 28), (10000,))"
      ]
     },
     "execution_count": 7,
     "metadata": {},
     "output_type": "execute_result"
    }
   ],
   "source": [
    "test_images.shape, test_labels.shape"
   ]
  },
  {
   "cell_type": "code",
   "execution_count": 8,
   "id": "innovative-organic",
   "metadata": {
    "execution": {
     "iopub.execute_input": "2021-06-29T00:19:55.279406Z",
     "iopub.status.busy": "2021-06-29T00:19:55.278921Z",
     "iopub.status.idle": "2021-06-29T00:19:55.404774Z",
     "shell.execute_reply": "2021-06-29T00:19:55.405262Z"
    },
    "papermill": {
     "duration": 0.155519,
     "end_time": "2021-06-29T00:19:55.405399",
     "exception": false,
     "start_time": "2021-06-29T00:19:55.249880",
     "status": "completed"
    },
    "tags": []
   },
   "outputs": [
    {
     "name": "stdout",
     "output_type": "stream",
     "text": [
      "2\n"
     ]
    },
    {
     "data": {
      "text/plain": [
       "<matplotlib.image.AxesImage at 0x7f0c4ee45da0>"
      ]
     },
     "execution_count": 8,
     "metadata": {},
     "output_type": "execute_result"
    },
    {
     "data": {
      "image/png": "[encoded data removed]",
      "text/plain": [
       "<Figure size 432x288 with 1 Axes>"
      ]
     },
     "metadata": {
      "needs_background": "light"
     },
     "output_type": "display_data"
    }
   ],
   "source": [
    "image_index = 7776 # You may select anything up to 60,000\n",
    "print(train_labels[image_index]) \n",
    "plt.imshow(train_images[image_index], cmap='Greys')"
   ]
  },
  {
   "cell_type": "markdown",
   "id": "facial-modem",
   "metadata": {
    "papermill": {
     "duration": 0.028264,
     "end_time": "2021-06-29T00:19:55.462166",
     "exception": false,
     "start_time": "2021-06-29T00:19:55.433902",
     "status": "completed"
    },
    "tags": []
   },
   "source": [
    "## Filter data to get 3 and 8 out"
   ]
  },
  {
   "cell_type": "code",
   "execution_count": 9,
   "id": "thousand-acquisition",
   "metadata": {
    "execution": {
     "iopub.execute_input": "2021-06-29T00:19:55.533611Z",
     "iopub.status.busy": "2021-06-29T00:19:55.528877Z",
     "iopub.status.idle": "2021-06-29T00:19:55.540475Z",
     "shell.execute_reply": "2021-06-29T00:19:55.540870Z"
    },
    "papermill": {
     "duration": 0.051038,
     "end_time": "2021-06-29T00:19:55.541008",
     "exception": false,
     "start_time": "2021-06-29T00:19:55.489970",
     "status": "completed"
    },
    "tags": []
   },
   "outputs": [],
   "source": [
    "train_filter = np.where((train_labels == 3 ) | (train_labels == 8))\n",
    "test_filter = np.where((test_labels == 3) | (test_labels == 8))\n",
    "X_train, y_train = train_images[train_filter], train_labels[train_filter]\n",
    "X_test, y_test = test_images[test_filter], test_labels[test_filter]"
   ]
  },
  {
   "cell_type": "markdown",
   "id": "ruled-access",
   "metadata": {
    "papermill": {
     "duration": 0.027661,
     "end_time": "2021-06-29T00:19:55.596590",
     "exception": false,
     "start_time": "2021-06-29T00:19:55.568929",
     "status": "completed"
    },
    "tags": []
   },
   "source": [
    "We normalize the pixel values in the 0 to 1 range"
   ]
  },
  {
   "cell_type": "code",
   "execution_count": 10,
   "id": "isolated-denver",
   "metadata": {
    "execution": {
     "iopub.execute_input": "2021-06-29T00:19:55.669604Z",
     "iopub.status.busy": "2021-06-29T00:19:55.669110Z",
     "iopub.status.idle": "2021-06-29T00:19:55.706556Z",
     "shell.execute_reply": "2021-06-29T00:19:55.706070Z"
    },
    "papermill": {
     "duration": 0.082271,
     "end_time": "2021-06-29T00:19:55.706686",
     "exception": false,
     "start_time": "2021-06-29T00:19:55.624415",
     "status": "completed"
    },
    "tags": []
   },
   "outputs": [],
   "source": [
    "X_train = X_train/255.\n",
    "X_test = X_test/255."
   ]
  },
  {
   "cell_type": "markdown",
   "id": "perfect-summary",
   "metadata": {
    "papermill": {
     "duration": 0.028169,
     "end_time": "2021-06-29T00:19:55.764174",
     "exception": false,
     "start_time": "2021-06-29T00:19:55.736005",
     "status": "completed"
    },
    "tags": []
   },
   "source": [
    "Setup the labels as 1 (when the digit is 3) and 0 (when the digit is 8)"
   ]
  },
  {
   "cell_type": "code",
   "execution_count": 11,
   "id": "personalized-growing",
   "metadata": {
    "execution": {
     "iopub.execute_input": "2021-06-29T00:19:55.837008Z",
     "iopub.status.busy": "2021-06-29T00:19:55.836490Z",
     "iopub.status.idle": "2021-06-29T00:19:55.838797Z",
     "shell.execute_reply": "2021-06-29T00:19:55.838376Z"
    },
    "papermill": {
     "duration": 0.046831,
     "end_time": "2021-06-29T00:19:55.838900",
     "exception": false,
     "start_time": "2021-06-29T00:19:55.792069",
     "status": "completed"
    },
    "tags": []
   },
   "outputs": [],
   "source": [
    "y_train = 1*(y_train==3)\n",
    "y_test = 1*(y_test==3)"
   ]
  },
  {
   "cell_type": "code",
   "execution_count": 12,
   "id": "considered-virgin",
   "metadata": {
    "execution": {
     "iopub.execute_input": "2021-06-29T00:19:55.902666Z",
     "iopub.status.busy": "2021-06-29T00:19:55.896899Z",
     "iopub.status.idle": "2021-06-29T00:19:55.909003Z",
     "shell.execute_reply": "2021-06-29T00:19:55.909409Z"
    },
    "papermill": {
     "duration": 0.042748,
     "end_time": "2021-06-29T00:19:55.909524",
     "exception": false,
     "start_time": "2021-06-29T00:19:55.866776",
     "status": "completed"
    },
    "tags": []
   },
   "outputs": [
    {
     "data": {
      "text/plain": [
       "((11982, 28, 28), (1984, 28, 28))"
      ]
     },
     "execution_count": 12,
     "metadata": {},
     "output_type": "execute_result"
    }
   ],
   "source": [
    "X_train.shape, X_test.shape"
   ]
  },
  {
   "cell_type": "markdown",
   "id": "civilian-mobile",
   "metadata": {
    "papermill": {
     "duration": 0.027891,
     "end_time": "2021-06-29T00:19:55.965453",
     "exception": false,
     "start_time": "2021-06-29T00:19:55.937562",
     "status": "completed"
    },
    "tags": []
   },
   "source": [
    "### Reshape the input data to create a linear array"
   ]
  },
  {
   "cell_type": "code",
   "execution_count": 13,
   "id": "colonial-adams",
   "metadata": {
    "execution": {
     "iopub.execute_input": "2021-06-29T00:19:56.039458Z",
     "iopub.status.busy": "2021-06-29T00:19:56.038964Z",
     "iopub.status.idle": "2021-06-29T00:19:56.044254Z",
     "shell.execute_reply": "2021-06-29T00:19:56.044649Z"
    },
    "papermill": {
     "duration": 0.051143,
     "end_time": "2021-06-29T00:19:56.044760",
     "exception": false,
     "start_time": "2021-06-29T00:19:55.993617",
     "status": "completed"
    },
    "tags": []
   },
   "outputs": [
    {
     "data": {
      "text/plain": [
       "((11982, 784), (1984, 784))"
      ]
     },
     "execution_count": 13,
     "metadata": {},
     "output_type": "execute_result"
    }
   ],
   "source": [
    "X_train = X_train.reshape(X_train.shape[0], -1)\n",
    "X_test = X_test.reshape(X_test.shape[0], -1)\n",
    "X_train.shape, X_test.shape"
   ]
  },
  {
   "cell_type": "markdown",
   "id": "smart-details",
   "metadata": {
    "papermill": {
     "duration": 0.028067,
     "end_time": "2021-06-29T00:19:56.100995",
     "exception": false,
     "start_time": "2021-06-29T00:19:56.072928",
     "status": "completed"
    },
    "tags": []
   },
   "source": [
    "### Importing appropriate functions from 'Kudzu'"
   ]
  },
  {
   "cell_type": "code",
   "execution_count": 14,
   "id": "celtic-trial",
   "metadata": {
    "execution": {
     "iopub.execute_input": "2021-06-29T00:19:56.162564Z",
     "iopub.status.busy": "2021-06-29T00:19:56.162070Z",
     "iopub.status.idle": "2021-06-29T00:19:56.177695Z",
     "shell.execute_reply": "2021-06-29T00:19:56.178068Z"
    },
    "papermill": {
     "duration": 0.048779,
     "end_time": "2021-06-29T00:19:56.178181",
     "exception": false,
     "start_time": "2021-06-29T00:19:56.129402",
     "status": "completed"
    },
    "tags": []
   },
   "outputs": [],
   "source": [
    "from kudzu.layer import Sigmoid\n",
    "from kudzu.layer import Relu\n",
    "from kudzu.layer import Affine, Sigmoid\n",
    "\n",
    "from kudzu.model import Model\n",
    "from kudzu.train import Learner\n",
    "from kudzu.optim import GD\n",
    "from kudzu.data import Data, Dataloader, Sampler\n",
    "\n",
    "from kudzu.callbacks import AccCallback\n",
    "from kudzu.callbacks import ClfCallback\n",
    "\n",
    "from kudzu.loss import MSE"
   ]
  },
  {
   "cell_type": "markdown",
   "id": "coupled-customer",
   "metadata": {
    "papermill": {
     "duration": 0.028074,
     "end_time": "2021-06-29T00:19:56.234495",
     "exception": false,
     "start_time": "2021-06-29T00:19:56.206421",
     "status": "completed"
    },
    "tags": []
   },
   "source": [
    "### Let us create a `Config` class, to store important parameters. \n",
    "This class essentially plays the role of a dictionary."
   ]
  },
  {
   "cell_type": "code",
   "execution_count": 15,
   "id": "young-ceiling",
   "metadata": {
    "execution": {
     "iopub.execute_input": "2021-06-29T00:19:56.302396Z",
     "iopub.status.busy": "2021-06-29T00:19:56.293794Z",
     "iopub.status.idle": "2021-06-29T00:19:56.308247Z",
     "shell.execute_reply": "2021-06-29T00:19:56.307831Z"
    },
    "papermill": {
     "duration": 0.045433,
     "end_time": "2021-06-29T00:19:56.308343",
     "exception": false,
     "start_time": "2021-06-29T00:19:56.262910",
     "status": "completed"
    },
    "tags": []
   },
   "outputs": [],
   "source": [
    "class Config:\n",
    "    pass\n",
    "config = Config()\n",
    "config.lr = 0.001\n",
    "config.num_epochs = 251\n",
    "config.bs = 50"
   ]
  },
  {
   "cell_type": "markdown",
   "id": "according-mandate",
   "metadata": {
    "papermill": {
     "duration": 0.02833,
     "end_time": "2021-06-29T00:19:56.364683",
     "exception": false,
     "start_time": "2021-06-29T00:19:56.336353",
     "status": "completed"
    },
    "tags": []
   },
   "source": [
    "### Initializing data to the variables"
   ]
  },
  {
   "cell_type": "code",
   "execution_count": 16,
   "id": "academic-disposition",
   "metadata": {
    "execution": {
     "iopub.execute_input": "2021-06-29T00:19:56.425499Z",
     "iopub.status.busy": "2021-06-29T00:19:56.425001Z",
     "iopub.status.idle": "2021-06-29T00:19:56.435976Z",
     "shell.execute_reply": "2021-06-29T00:19:56.436347Z"
    },
    "papermill": {
     "duration": 0.043399,
     "end_time": "2021-06-29T00:19:56.436459",
     "exception": false,
     "start_time": "2021-06-29T00:19:56.393060",
     "status": "completed"
    },
    "tags": []
   },
   "outputs": [],
   "source": [
    "data = Data(X_train, y_train.reshape(-1,1))\n",
    "sampler = Sampler(data, config.bs, shuffle=True)\n",
    "\n",
    "dl = Dataloader(data, sampler)\n",
    "\n",
    "opt = GD(config.lr)\n",
    "loss = MSE()"
   ]
  },
  {
   "cell_type": "code",
   "execution_count": 17,
   "id": "featured-commission",
   "metadata": {
    "execution": {
     "iopub.execute_input": "2021-06-29T00:19:56.496872Z",
     "iopub.status.busy": "2021-06-29T00:19:56.496388Z",
     "iopub.status.idle": "2021-06-29T00:19:56.506651Z",
     "shell.execute_reply": "2021-06-29T00:19:56.506255Z"
    },
    "papermill": {
     "duration": 0.04206,
     "end_time": "2021-06-29T00:19:56.506748",
     "exception": false,
     "start_time": "2021-06-29T00:19:56.464688",
     "status": "completed"
    },
    "tags": []
   },
   "outputs": [],
   "source": [
    "training_xdata = X_train\n",
    "testing_xdata = X_test\n",
    "training_ydata = y_train.reshape(-1,1)\n",
    "testing_ydata = y_test.reshape(-1,1)"
   ]
  },
  {
   "cell_type": "markdown",
   "id": "played-safety",
   "metadata": {
    "papermill": {
     "duration": 0.028337,
     "end_time": "2021-06-29T00:19:56.563415",
     "exception": false,
     "start_time": "2021-06-29T00:19:56.535078",
     "status": "completed"
    },
    "tags": []
   },
   "source": [
    "### Running Models with the Training data\n",
    "Details about the network layers:\n",
    "- A first affine layer has 784 inputs and does 100 affine transforms. These are followed by a Relu\n",
    "- A second affine layer has 100 inputs from the 100 activations of the past layer, and does 100 affine transforms. These are followed by a Relu\n",
    "- A third affine layer has 100 activations and does 2 affine transformations to create an embedding for visualization. There is no non-linearity here.\n",
    "- A final \"logistic regression\" which has an affine transform from 2 inputs to 1 output, which is squeezed through a sigmoid.\n",
    "\n",
    "Help taken from Anshuman's Notebook."
   ]
  },
  {
   "cell_type": "code",
   "execution_count": 18,
   "id": "asian-bankruptcy",
   "metadata": {
    "execution": {
     "iopub.execute_input": "2021-06-29T00:19:56.629465Z",
     "iopub.status.busy": "2021-06-29T00:19:56.628938Z",
     "iopub.status.idle": "2021-06-29T00:19:56.640634Z",
     "shell.execute_reply": "2021-06-29T00:19:56.640218Z"
    },
    "papermill": {
     "duration": 0.049004,
     "end_time": "2021-06-29T00:19:56.640729",
     "exception": false,
     "start_time": "2021-06-29T00:19:56.591725",
     "status": "completed"
    },
    "tags": []
   },
   "outputs": [],
   "source": [
    "# layers for the Neural Network\n",
    "layers = [Affine(\"first\", 784, 100), Relu(\"first\"), Affine(\"second\", 100, 100), Relu(\"second\"), Affine(\"third\", 100, 2), Affine(\"final\", 2, 1), Sigmoid(\"final\")]\n",
    "model_nn = Model(layers)\n",
    "\n",
    "# layers for the Logistic Regression\n",
    "layers_lr = [Affine(\"logits\", 784, 1), Sigmoid(\"sigmoid\")]\n",
    "model_lr = Model(layers_lr)"
   ]
  },
  {
   "cell_type": "code",
   "execution_count": 19,
   "id": "removed-butler",
   "metadata": {
    "execution": {
     "iopub.execute_input": "2021-06-29T00:19:56.701099Z",
     "iopub.status.busy": "2021-06-29T00:19:56.700582Z",
     "iopub.status.idle": "2021-06-29T00:19:56.711864Z",
     "shell.execute_reply": "2021-06-29T00:19:56.711442Z"
    },
    "papermill": {
     "duration": 0.042751,
     "end_time": "2021-06-29T00:19:56.711962",
     "exception": false,
     "start_time": "2021-06-29T00:19:56.669211",
     "status": "completed"
    },
    "tags": []
   },
   "outputs": [],
   "source": [
    "# suffix _nn stands for Neural Network.\n",
    "learner_nn = Learner(loss, model_nn, opt, config.num_epochs)\n",
    "acc_nn = ClfCallback(learner_nn, config.bs, training_xdata , testing_xdata, training_ydata, testing_ydata)\n",
    "learner_nn.set_callbacks([acc_nn])"
   ]
  },
  {
   "cell_type": "code",
   "execution_count": 20,
   "id": "conceptual-throw",
   "metadata": {
    "execution": {
     "iopub.execute_input": "2021-06-29T00:19:56.778044Z",
     "iopub.status.busy": "2021-06-29T00:19:56.777557Z",
     "iopub.status.idle": "2021-06-29T00:21:09.535396Z",
     "shell.execute_reply": "2021-06-29T00:21:09.536086Z"
    },
    "papermill": {
     "duration": 72.796042,
     "end_time": "2021-06-29T00:21:09.536229",
     "exception": false,
     "start_time": "2021-06-29T00:19:56.740187",
     "status": "completed"
    },
    "tags": []
   },
   "outputs": [
    {
     "name": "stdout",
     "output_type": "stream",
     "text": [
      "====== Neural Network ======\n"
     ]
    },
    {
     "name": "stdout",
     "output_type": "stream",
     "text": [
      "Epoch 0, Loss 0.2132\n",
      "Training Accuracy: 0.8170, Testing Accuracy: 0.8211\n",
      "\n"
     ]
    },
    {
     "name": "stdout",
     "output_type": "stream",
     "text": [
      "Epoch 10, Loss 0.0651\n",
      "Training Accuracy: 0.9352, Testing Accuracy: 0.9461\n",
      "\n"
     ]
    },
    {
     "name": "stdout",
     "output_type": "stream",
     "text": [
      "Epoch 20, Loss 0.0457\n",
      "Training Accuracy: 0.9503, Testing Accuracy: 0.9587\n",
      "\n"
     ]
    },
    {
     "name": "stdout",
     "output_type": "stream",
     "text": [
      "Epoch 30, Loss 0.0384\n",
      "Training Accuracy: 0.9561, Testing Accuracy: 0.9632\n",
      "\n"
     ]
    },
    {
     "name": "stdout",
     "output_type": "stream",
     "text": [
      "Epoch 40, Loss 0.0343\n",
      "Training Accuracy: 0.9598, Testing Accuracy: 0.9672\n",
      "\n"
     ]
    },
    {
     "name": "stdout",
     "output_type": "stream",
     "text": [
      "Epoch 50, Loss 0.0316\n",
      "Training Accuracy: 0.9624, Testing Accuracy: 0.9682\n",
      "\n"
     ]
    },
    {
     "name": "stdout",
     "output_type": "stream",
     "text": [
      "Epoch 60, Loss 0.0296\n",
      "Training Accuracy: 0.9646, Testing Accuracy: 0.9703\n",
      "\n"
     ]
    },
    {
     "name": "stdout",
     "output_type": "stream",
     "text": [
      "Epoch 70, Loss 0.028\n",
      "Training Accuracy: 0.9665, Testing Accuracy: 0.9708\n",
      "\n"
     ]
    },
    {
     "name": "stdout",
     "output_type": "stream",
     "text": [
      "Epoch 80, Loss 0.0268\n",
      "Training Accuracy: 0.9686, Testing Accuracy: 0.9723\n",
      "\n"
     ]
    },
    {
     "name": "stdout",
     "output_type": "stream",
     "text": [
      "Epoch 90, Loss 0.0257\n",
      "Training Accuracy: 0.9704, Testing Accuracy: 0.9723\n",
      "\n"
     ]
    },
    {
     "name": "stdout",
     "output_type": "stream",
     "text": [
      "Epoch 100, Loss 0.0248\n",
      "Training Accuracy: 0.9712, Testing Accuracy: 0.9728\n",
      "\n"
     ]
    },
    {
     "name": "stdout",
     "output_type": "stream",
     "text": [
      "Epoch 110, Loss 0.0239\n",
      "Training Accuracy: 0.9725, Testing Accuracy: 0.9733\n",
      "\n"
     ]
    },
    {
     "name": "stdout",
     "output_type": "stream",
     "text": [
      "Epoch 120, Loss 0.0232\n",
      "Training Accuracy: 0.9730, Testing Accuracy: 0.9738\n",
      "\n"
     ]
    },
    {
     "name": "stdout",
     "output_type": "stream",
     "text": [
      "Epoch 130, Loss 0.0225\n",
      "Training Accuracy: 0.9738, Testing Accuracy: 0.9743\n",
      "\n"
     ]
    },
    {
     "name": "stdout",
     "output_type": "stream",
     "text": [
      "Epoch 140, Loss 0.0219\n",
      "Training Accuracy: 0.9750, Testing Accuracy: 0.9743\n",
      "\n"
     ]
    },
    {
     "name": "stdout",
     "output_type": "stream",
     "text": [
      "Epoch 150, Loss 0.0213\n",
      "Training Accuracy: 0.9755, Testing Accuracy: 0.9743\n",
      "\n"
     ]
    },
    {
     "name": "stdout",
     "output_type": "stream",
     "text": [
      "Epoch 160, Loss 0.0208\n",
      "Training Accuracy: 0.9766, Testing Accuracy: 0.9743\n",
      "\n"
     ]
    },
    {
     "name": "stdout",
     "output_type": "stream",
     "text": [
      "Epoch 170, Loss 0.0203\n",
      "Training Accuracy: 0.9769, Testing Accuracy: 0.9753\n",
      "\n"
     ]
    },
    {
     "name": "stdout",
     "output_type": "stream",
     "text": [
      "Epoch 180, Loss 0.0198\n",
      "Training Accuracy: 0.9778, Testing Accuracy: 0.9753\n",
      "\n"
     ]
    },
    {
     "name": "stdout",
     "output_type": "stream",
     "text": [
      "Epoch 190, Loss 0.0193\n",
      "Training Accuracy: 0.9782, Testing Accuracy: 0.9758\n",
      "\n"
     ]
    },
    {
     "name": "stdout",
     "output_type": "stream",
     "text": [
      "Epoch 200, Loss 0.0189\n",
      "Training Accuracy: 0.9791, Testing Accuracy: 0.9758\n",
      "\n"
     ]
    },
    {
     "name": "stdout",
     "output_type": "stream",
     "text": [
      "Epoch 210, Loss 0.0184\n",
      "Training Accuracy: 0.9797, Testing Accuracy: 0.9763\n",
      "\n"
     ]
    },
    {
     "name": "stdout",
     "output_type": "stream",
     "text": [
      "Epoch 220, Loss 0.018\n",
      "Training Accuracy: 0.9805, Testing Accuracy: 0.9763\n",
      "\n"
     ]
    },
    {
     "name": "stdout",
     "output_type": "stream",
     "text": [
      "Epoch 230, Loss 0.0176\n",
      "Training Accuracy: 0.9809, Testing Accuracy: 0.9763\n",
      "\n"
     ]
    },
    {
     "name": "stdout",
     "output_type": "stream",
     "text": [
      "Epoch 240, Loss 0.0172\n",
      "Training Accuracy: 0.9814, Testing Accuracy: 0.9763\n",
      "\n"
     ]
    },
    {
     "name": "stdout",
     "output_type": "stream",
     "text": [
      "Epoch 250, Loss 0.0169\n",
      "Training Accuracy: 0.9816, Testing Accuracy: 0.9768\n",
      "\n"
     ]
    },
    {
     "data": {
      "text/plain": [
       "0.06233921358423678"
      ]
     },
     "execution_count": 20,
     "metadata": {},
     "output_type": "execute_result"
    }
   ],
   "source": [
    "print(\"====== Neural Network ======\")\n",
    "learner_nn.train_loop(dl)"
   ]
  },
  {
   "cell_type": "markdown",
   "id": "competent-suffering",
   "metadata": {
    "papermill": {
     "duration": 0.035301,
     "end_time": "2021-06-29T00:21:09.608039",
     "exception": false,
     "start_time": "2021-06-29T00:21:09.572738",
     "status": "completed"
    },
    "tags": []
   },
   "source": [
    "### Logistic Regression based Implementation."
   ]
  },
  {
   "cell_type": "code",
   "execution_count": 21,
   "id": "qualified-psychiatry",
   "metadata": {
    "execution": {
     "iopub.execute_input": "2021-06-29T00:21:09.682231Z",
     "iopub.status.busy": "2021-06-29T00:21:09.681734Z",
     "iopub.status.idle": "2021-06-29T00:21:09.694138Z",
     "shell.execute_reply": "2021-06-29T00:21:09.693739Z"
    },
    "papermill": {
     "duration": 0.05072,
     "end_time": "2021-06-29T00:21:09.694241",
     "exception": false,
     "start_time": "2021-06-29T00:21:09.643521",
     "status": "completed"
    },
    "tags": []
   },
   "outputs": [],
   "source": [
    "learner_lr = Learner(loss, model_lr, opt, config.num_epochs)\n",
    "acc_lr = ClfCallback(learner_lr, config.bs, training_xdata , testing_xdata, training_ydata, testing_ydata)\n",
    "learner_lr.set_callbacks([acc_lr])"
   ]
  },
  {
   "cell_type": "code",
   "execution_count": 22,
   "id": "average-outside",
   "metadata": {
    "execution": {
     "iopub.execute_input": "2021-06-29T00:21:09.781720Z",
     "iopub.status.busy": "2021-06-29T00:21:09.769436Z",
     "iopub.status.idle": "2021-06-29T00:21:22.637012Z",
     "shell.execute_reply": "2021-06-29T00:21:22.637494Z"
    },
    "papermill": {
     "duration": 12.906873,
     "end_time": "2021-06-29T00:21:22.637631",
     "exception": false,
     "start_time": "2021-06-29T00:21:09.730758",
     "status": "completed"
    },
    "tags": []
   },
   "outputs": [
    {
     "name": "stdout",
     "output_type": "stream",
     "text": [
      "====== Logistic Regression ======\n",
      "Epoch 0, Loss 0.198\n",
      "Training Accuracy: 0.8068, Testing Accuracy: 0.8221\n",
      "\n"
     ]
    },
    {
     "name": "stdout",
     "output_type": "stream",
     "text": [
      "Epoch 10, Loss 0.0992\n",
      "Training Accuracy: 0.9117, Testing Accuracy: 0.9214\n",
      "\n"
     ]
    },
    {
     "name": "stdout",
     "output_type": "stream",
     "text": [
      "Epoch 20, Loss 0.0777\n",
      "Training Accuracy: 0.9289, Testing Accuracy: 0.9400\n",
      "\n"
     ]
    },
    {
     "name": "stdout",
     "output_type": "stream",
     "text": [
      "Epoch 30, Loss 0.0673\n",
      "Training Accuracy: 0.9373, Testing Accuracy: 0.9481\n",
      "\n"
     ]
    },
    {
     "name": "stdout",
     "output_type": "stream",
     "text": [
      "Epoch 40, Loss 0.0609\n",
      "Training Accuracy: 0.9416, Testing Accuracy: 0.9541\n",
      "\n"
     ]
    },
    {
     "name": "stdout",
     "output_type": "stream",
     "text": [
      "Epoch 50, Loss 0.0565\n",
      "Training Accuracy: 0.9456, Testing Accuracy: 0.9567\n",
      "\n"
     ]
    },
    {
     "name": "stdout",
     "output_type": "stream",
     "text": [
      "Epoch 60, Loss 0.0533\n",
      "Training Accuracy: 0.9476, Testing Accuracy: 0.9582\n",
      "\n"
     ]
    },
    {
     "name": "stdout",
     "output_type": "stream",
     "text": [
      "Epoch 70, Loss 0.0509\n",
      "Training Accuracy: 0.9486, Testing Accuracy: 0.9577\n",
      "\n"
     ]
    },
    {
     "name": "stdout",
     "output_type": "stream",
     "text": [
      "Epoch 80, Loss 0.0489\n",
      "Training Accuracy: 0.9504, Testing Accuracy: 0.9587\n",
      "\n"
     ]
    },
    {
     "name": "stdout",
     "output_type": "stream",
     "text": [
      "Epoch 90, Loss 0.0472\n",
      "Training Accuracy: 0.9513, Testing Accuracy: 0.9597\n",
      "\n"
     ]
    },
    {
     "name": "stdout",
     "output_type": "stream",
     "text": [
      "Epoch 100, Loss 0.0459\n",
      "Training Accuracy: 0.9532, Testing Accuracy: 0.9612\n",
      "\n"
     ]
    },
    {
     "name": "stdout",
     "output_type": "stream",
     "text": [
      "Epoch 110, Loss 0.0447\n",
      "Training Accuracy: 0.9538, Testing Accuracy: 0.9617\n",
      "\n"
     ]
    },
    {
     "name": "stdout",
     "output_type": "stream",
     "text": [
      "Epoch 120, Loss 0.0437\n",
      "Training Accuracy: 0.9550, Testing Accuracy: 0.9622\n",
      "\n"
     ]
    },
    {
     "name": "stdout",
     "output_type": "stream",
     "text": [
      "Epoch 130, Loss 0.0428\n",
      "Training Accuracy: 0.9559, Testing Accuracy: 0.9627\n",
      "\n"
     ]
    },
    {
     "name": "stdout",
     "output_type": "stream",
     "text": [
      "Epoch 140, Loss 0.042\n",
      "Training Accuracy: 0.9564, Testing Accuracy: 0.9637\n",
      "\n"
     ]
    },
    {
     "name": "stdout",
     "output_type": "stream",
     "text": [
      "Epoch 150, Loss 0.0412\n",
      "Training Accuracy: 0.9571, Testing Accuracy: 0.9642\n",
      "\n"
     ]
    },
    {
     "name": "stdout",
     "output_type": "stream",
     "text": [
      "Epoch 160, Loss 0.0406\n",
      "Training Accuracy: 0.9578, Testing Accuracy: 0.9642\n",
      "\n"
     ]
    },
    {
     "name": "stdout",
     "output_type": "stream",
     "text": [
      "Epoch 170, Loss 0.04\n",
      "Training Accuracy: 0.9581, Testing Accuracy: 0.9647\n",
      "\n"
     ]
    },
    {
     "name": "stdout",
     "output_type": "stream",
     "text": [
      "Epoch 180, Loss 0.0394\n",
      "Training Accuracy: 0.9587, Testing Accuracy: 0.9657\n",
      "\n"
     ]
    },
    {
     "name": "stdout",
     "output_type": "stream",
     "text": [
      "Epoch 190, Loss 0.0389\n",
      "Training Accuracy: 0.9590, Testing Accuracy: 0.9657\n",
      "\n"
     ]
    },
    {
     "name": "stdout",
     "output_type": "stream",
     "text": [
      "Epoch 200, Loss 0.0385\n",
      "Training Accuracy: 0.9596, Testing Accuracy: 0.9657\n",
      "\n"
     ]
    },
    {
     "name": "stdout",
     "output_type": "stream",
     "text": [
      "Epoch 210, Loss 0.038\n",
      "Training Accuracy: 0.9596, Testing Accuracy: 0.9657\n",
      "\n"
     ]
    },
    {
     "name": "stdout",
     "output_type": "stream",
     "text": [
      "Epoch 220, Loss 0.0376\n",
      "Training Accuracy: 0.9594, Testing Accuracy: 0.9667\n",
      "\n"
     ]
    },
    {
     "name": "stdout",
     "output_type": "stream",
     "text": [
      "Epoch 230, Loss 0.0373\n",
      "Training Accuracy: 0.9598, Testing Accuracy: 0.9667\n",
      "\n"
     ]
    },
    {
     "name": "stdout",
     "output_type": "stream",
     "text": [
      "Epoch 240, Loss 0.0369\n",
      "Training Accuracy: 0.9600, Testing Accuracy: 0.9672\n",
      "\n"
     ]
    },
    {
     "name": "stdout",
     "output_type": "stream",
     "text": [
      "Epoch 250, Loss 0.0366\n",
      "Training Accuracy: 0.9606, Testing Accuracy: 0.9677\n",
      "\n"
     ]
    },
    {
     "data": {
      "text/plain": [
       "0.03714096059528763"
      ]
     },
     "execution_count": 22,
     "metadata": {},
     "output_type": "execute_result"
    }
   ],
   "source": [
    "print(\"====== Logistic Regression ======\")\n",
    "learner_lr.train_loop(dl)"
   ]
  },
  {
   "cell_type": "markdown",
   "id": "adjusted-possible",
   "metadata": {
    "papermill": {
     "duration": 0.042407,
     "end_time": "2021-06-29T00:21:22.723065",
     "exception": false,
     "start_time": "2021-06-29T00:21:22.680658",
     "status": "completed"
    },
    "tags": []
   },
   "source": [
    "### Comparing results of NN and LR"
   ]
  },
  {
   "cell_type": "code",
   "execution_count": 23,
   "id": "mental-multimedia",
   "metadata": {
    "execution": {
     "iopub.execute_input": "2021-06-29T00:21:22.811658Z",
     "iopub.status.busy": "2021-06-29T00:21:22.811150Z",
     "iopub.status.idle": "2021-06-29T00:21:23.021369Z",
     "shell.execute_reply": "2021-06-29T00:21:23.021833Z"
    },
    "papermill": {
     "duration": 0.2566,
     "end_time": "2021-06-29T00:21:23.021979",
     "exception": false,
     "start_time": "2021-06-29T00:21:22.765379",
     "status": "completed"
    },
    "tags": []
   },
   "outputs": [
    {
     "data": {
      "text/plain": [
       "<matplotlib.legend.Legend at 0x7f0c469b5278>"
      ]
     },
     "execution_count": 23,
     "metadata": {},
     "output_type": "execute_result"
    },
    {
     "data": {
      "image/png": "[encoded data removed]",
      "text/plain": [
       "<Figure size 1080x720 with 1 Axes>"
      ]
     },
     "metadata": {
      "needs_background": "light"
     },
     "output_type": "display_data"
    }
   ],
   "source": [
    "plt.figure(figsize=(15,10))\n",
    "\n",
    "# Neural Network plots\n",
    "plt.plot(acc_nn.accuracies, 'r-', label = \"Training Accuracies - NN\")\n",
    "plt.plot(acc_nn.test_accuracies, 'g-', label = \"Testing Accuracies - NN\")\n",
    "\n",
    "# Logistic Regression plots\n",
    "plt.plot(acc_lr.accuracies, 'k-', label = \"Training Accuracies - LR\")\n",
    "plt.plot(acc_lr.test_accuracies, 'b-', label = \"Testing Accuracies - LR\")\n",
    "\n",
    "plt.ylim(0.8, 1)\n",
    "\n",
    "plt.legend()\n",
    "\n"
   ]
  },
  {
   "cell_type": "markdown",
   "id": "sexual-flesh",
   "metadata": {
    "papermill": {
     "duration": 0.044112,
     "end_time": "2021-06-29T00:21:23.110391",
     "exception": false,
     "start_time": "2021-06-29T00:21:23.066279",
     "status": "completed"
    },
    "tags": []
   },
   "source": [
    "### From the plot, we can observe the following:\n",
    "- Neural Network achieves higher accuracy than the Logistic Regression model.\n",
    "- This apparently, is because of overfitting, i.e. NN captures more noise than data.\n",
    "- Testing accuracy of NN drops below the Training accuracy at higher epochs. This explains the over-fitting on training data.\n",
    "- Logistic Regression gives a reliable accuracy, without the above mentioned problem.\n"
   ]
  },
  {
   "cell_type": "markdown",
   "id": "institutional-pacific",
   "metadata": {
    "papermill": {
     "duration": 0.044016,
     "end_time": "2021-06-29T00:21:23.198435",
     "exception": false,
     "start_time": "2021-06-29T00:21:23.154419",
     "status": "completed"
    },
    "tags": []
   },
   "source": [
    "### Moving till the last but one layer (excluding it).\n",
    "#### Plotting the outputs of this layer of the NN."
   ]
  },
  {
   "cell_type": "code",
   "execution_count": 24,
   "id": "economic-server",
   "metadata": {
    "execution": {
     "iopub.execute_input": "2021-06-29T00:21:23.289952Z",
     "iopub.status.busy": "2021-06-29T00:21:23.289450Z",
     "iopub.status.idle": "2021-06-29T00:21:23.300149Z",
     "shell.execute_reply": "2021-06-29T00:21:23.300545Z"
    },
    "papermill": {
     "duration": 0.058136,
     "end_time": "2021-06-29T00:21:23.300666",
     "exception": false,
     "start_time": "2021-06-29T00:21:23.242530",
     "status": "completed"
    },
    "tags": []
   },
   "outputs": [],
   "source": [
    "model_new = Model(layers[:-2])"
   ]
  },
  {
   "cell_type": "code",
   "execution_count": 25,
   "id": "varied-upgrade",
   "metadata": {
    "execution": {
     "iopub.execute_input": "2021-06-29T00:21:23.393004Z",
     "iopub.status.busy": "2021-06-29T00:21:23.392494Z",
     "iopub.status.idle": "2021-06-29T00:21:23.410561Z",
     "shell.execute_reply": "2021-06-29T00:21:23.410985Z"
    },
    "papermill": {
     "duration": 0.066478,
     "end_time": "2021-06-29T00:21:23.411113",
     "exception": false,
     "start_time": "2021-06-29T00:21:23.344635",
     "status": "completed"
    },
    "tags": []
   },
   "outputs": [],
   "source": [
    "plot_testing = model_new(testing_xdata)"
   ]
  },
  {
   "cell_type": "code",
   "execution_count": 26,
   "id": "specific-handling",
   "metadata": {
    "execution": {
     "iopub.execute_input": "2021-06-29T00:21:23.538179Z",
     "iopub.status.busy": "2021-06-29T00:21:23.537683Z",
     "iopub.status.idle": "2021-06-29T00:21:23.700369Z",
     "shell.execute_reply": "2021-06-29T00:21:23.699907Z"
    },
    "papermill": {
     "duration": 0.211173,
     "end_time": "2021-06-29T00:21:23.700492",
     "exception": false,
     "start_time": "2021-06-29T00:21:23.489319",
     "status": "completed"
    },
    "tags": []
   },
   "outputs": [
    {
     "data": {
      "text/plain": [
       "Text(0.5, 1.0, 'Outputs')"
      ]
     },
     "execution_count": 26,
     "metadata": {},
     "output_type": "execute_result"
    },
    {
     "data": {
      "image/png": "[encoded data removed]",
      "text/plain": [
       "<Figure size 576x504 with 1 Axes>"
      ]
     },
     "metadata": {
      "needs_background": "light"
     },
     "output_type": "display_data"
    }
   ],
   "source": [
    "plt.figure(figsize=(8,7))\n",
    "plt.scatter(plot_testing[:,0], plot_testing[:,1], alpha = 0.1, c = y_test.ravel());\n",
    "plt.title('Outputs')"
   ]
  },
  {
   "cell_type": "markdown",
   "id": "described-knowing",
   "metadata": {
    "papermill": {
     "duration": 0.045866,
     "end_time": "2021-06-29T00:21:23.793154",
     "exception": false,
     "start_time": "2021-06-29T00:21:23.747288",
     "status": "completed"
    },
    "tags": []
   },
   "source": [
    "### Plotting probability contours"
   ]
  },
  {
   "cell_type": "code",
   "execution_count": 27,
   "id": "needed-growing",
   "metadata": {
    "execution": {
     "iopub.execute_input": "2021-06-29T00:21:23.896628Z",
     "iopub.status.busy": "2021-06-29T00:21:23.896139Z",
     "iopub.status.idle": "2021-06-29T00:21:23.902785Z",
     "shell.execute_reply": "2021-06-29T00:21:23.902366Z"
    },
    "papermill": {
     "duration": 0.063848,
     "end_time": "2021-06-29T00:21:23.902888",
     "exception": false,
     "start_time": "2021-06-29T00:21:23.839040",
     "status": "completed"
    },
    "tags": []
   },
   "outputs": [],
   "source": [
    "model_prob = Model(layers[-2:]) "
   ]
  },
  {
   "cell_type": "code",
   "execution_count": 28,
   "id": "introductory-enforcement",
   "metadata": {
    "execution": {
     "iopub.execute_input": "2021-06-29T00:21:24.001367Z",
     "iopub.status.busy": "2021-06-29T00:21:24.000845Z",
     "iopub.status.idle": "2021-06-29T00:21:24.013163Z",
     "shell.execute_reply": "2021-06-29T00:21:24.013544Z"
    },
    "papermill": {
     "duration": 0.064811,
     "end_time": "2021-06-29T00:21:24.013666",
     "exception": false,
     "start_time": "2021-06-29T00:21:23.948855",
     "status": "completed"
    },
    "tags": []
   },
   "outputs": [],
   "source": [
    "# Adjust the x and y ranges according to the above generated plot.\n",
    "x_range = np.linspace(-4, 1, 100) \n",
    "y_range = np.linspace(-6, 6, 100) \n",
    "x_grid, y_grid = np.meshgrid(x_range, y_range) # x_grid and y_grig are of size 100 X 100\n",
    "\n",
    "# converting x_grid and y_grid to continuous arrays\n",
    "x_grid_flat = np.ravel(x_grid)\n",
    "y_grid_flat = np.ravel(y_grid)\n",
    "\n",
    "# The last layer of the current model takes two columns as input. Hence transpose of np.vstack() is required.\n",
    "X = np.vstack((x_grid_flat, y_grid_flat)).T\n",
    "\n",
    "# x_grid and y_grid are of size 100 x 100\n",
    "probability_contour = model_prob(X).reshape(100,100) "
   ]
  },
  {
   "cell_type": "code",
   "execution_count": 29,
   "id": "understood-landing",
   "metadata": {
    "execution": {
     "iopub.execute_input": "2021-06-29T00:21:24.115835Z",
     "iopub.status.busy": "2021-06-29T00:21:24.115333Z",
     "iopub.status.idle": "2021-06-29T00:21:24.323079Z",
     "shell.execute_reply": "2021-06-29T00:21:24.323480Z"
    },
    "papermill": {
     "duration": 0.257891,
     "end_time": "2021-06-29T00:21:24.323609",
     "exception": false,
     "start_time": "2021-06-29T00:21:24.065718",
     "status": "completed"
    },
    "tags": []
   },
   "outputs": [
    {
     "data": {
      "image/png": "[encoded data removed]",
      "text/plain": [
       "<Figure size 720x648 with 1 Axes>"
      ]
     },
     "metadata": {
      "needs_background": "light"
     },
     "output_type": "display_data"
    }
   ],
   "source": [
    "plt.figure(figsize=(10,9))\n",
    "plt.scatter(plot_testing[:,0], plot_testing[:,1], alpha = 0.1, c = y_test.ravel())\n",
    "contours = plt.contour(x_grid,y_grid,probability_contour)\n",
    "plt.title('Probability Contours')\n",
    "plt.clabel(contours, inline = True );"
   ]
  }
 ],
 "metadata": {
  "kernelspec": {
   "display_name": "Python 3",
   "language": "python",
   "name": "python3"
  },
  "language_info": {
   "codemirror_mode": {
    "name": "ipython",
    "version": 3
   },
   "file_extension": ".py",
   "mimetype": "text/x-python",
   "name": "python",
   "nbconvert_exporter": "python",
   "pygments_lexer": "ipython3",
   "version": "3.6.13"
  },
  "papermill": {
   "duration": 414.705621,
   "end_time": "2021-06-29T00:21:24.680227",
   "environment_variables": {},
   "exception": null,
   "input_path": "2020-08-11-NeuralNetwork.ipynb",
   "output_path": "2020-08-11-NeuralNetwork.ipynb",
   "parameters": {},
   "start_time": "2021-06-29T00:14:29.974606",
   "version": "2.1.2"
  }
 },
 "nbformat": 4,
 "nbformat_minor": 5
}