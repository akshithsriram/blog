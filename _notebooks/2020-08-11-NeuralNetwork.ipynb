{
 "cells": [
  {
   "cell_type": "markdown",
   "metadata": {
    "papermill": {
     "duration": 0.03408,
     "end_time": "2020-08-28T20:04:29.857953",
     "exception": false,
     "start_time": "2020-08-28T20:04:29.823873",
     "status": "completed"
    },
    "tags": []
   },
   "source": [
    "# \"A Basic Neural Network: Differentiate Hand-Written Digits\"\n",
    "\n",
    "- badges: true\n",
    "- author: Akshith Sriram"
   ]
  },
  {
   "cell_type": "markdown",
   "metadata": {
    "papermill": {
     "duration": 0.02868,
     "end_time": "2020-08-28T20:04:29.915129",
     "exception": false,
     "start_time": "2020-08-28T20:04:29.886449",
     "status": "completed"
    },
    "tags": []
   },
   "source": [
    "### Key Objectives:\n",
    "- Building a neural network that differentiates two hand-written digits 3 and 8.\n",
    "- Comparing the results of this Neural Network (NN) to that of a Logistic Regression (LR) model.\n",
    "\n",
    "### Requirements:\n",
    "- 'Kudzu' : A neural network library that was designed during our course by [Univ.AI](www.univ.ai). \n",
    "- MNIST Database\n",
    "\n",
    "If MNIST is not installed, use the command `!pip install mnist` given below.\n",
    "It can be run both from the command line and Jupyter Notebook."
   ]
  },
  {
   "cell_type": "code",
   "execution_count": 1,
   "metadata": {
    "execution": {
     "iopub.execute_input": "2020-08-28T20:04:29.976310Z",
     "iopub.status.busy": "2020-08-28T20:04:29.975614Z",
     "iopub.status.idle": "2020-08-28T20:04:31.500904Z",
     "shell.execute_reply": "2020-08-28T20:04:31.500239Z"
    },
    "papermill": {
     "duration": 1.557877,
     "end_time": "2020-08-28T20:04:31.501082",
     "exception": false,
     "start_time": "2020-08-28T20:04:29.943205",
     "status": "completed"
    },
    "tags": []
   },
   "outputs": [
    {
     "name": "stdout",
     "output_type": "stream",
     "text": [
      "Collecting mnist\r\n"
     ]
    },
    {
     "name": "stdout",
     "output_type": "stream",
     "text": [
      "  Downloading mnist-0.2.2-py2.py3-none-any.whl (3.5 kB)\r\n",
      "Requirement already satisfied: numpy in /opt/hostedtoolcache/Python/3.6.11/x64/lib/python3.6/site-packages (from mnist) (1.19.1)\r\n"
     ]
    },
    {
     "name": "stdout",
     "output_type": "stream",
     "text": [
      "Installing collected packages: mnist\r\n"
     ]
    },
    {
     "name": "stdout",
     "output_type": "stream",
     "text": [
      "Successfully installed mnist-0.2.2\r\n"
     ]
    }
   ],
   "source": [
    "!pip install mnist "
   ]
  },
  {
   "cell_type": "markdown",
   "metadata": {
    "papermill": {
     "duration": 0.031716,
     "end_time": "2020-08-28T20:04:31.562924",
     "exception": false,
     "start_time": "2020-08-28T20:04:31.531208",
     "status": "completed"
    },
    "tags": []
   },
   "source": [
    "#### Importing necessary libraries"
   ]
  },
  {
   "cell_type": "code",
   "execution_count": 2,
   "metadata": {
    "execution": {
     "iopub.execute_input": "2020-08-28T20:04:31.630276Z",
     "iopub.status.busy": "2020-08-28T20:04:31.629598Z",
     "iopub.status.idle": "2020-08-28T20:04:32.253507Z",
     "shell.execute_reply": "2020-08-28T20:04:32.254041Z"
    },
    "papermill": {
     "duration": 0.661299,
     "end_time": "2020-08-28T20:04:32.254222",
     "exception": false,
     "start_time": "2020-08-28T20:04:31.592923",
     "status": "completed"
    },
    "tags": []
   },
   "outputs": [],
   "source": [
    "%load_ext autoreload\n",
    "%autoreload 2\n",
    "\n",
    "%matplotlib inline\n",
    "import matplotlib.pyplot as plt\n",
    "\n",
    "import numpy as np\n",
    "import pandas as pd"
   ]
  },
  {
   "cell_type": "markdown",
   "metadata": {
    "papermill": {
     "duration": 0.029371,
     "end_time": "2020-08-28T20:04:32.313368",
     "exception": false,
     "start_time": "2020-08-28T20:04:32.283997",
     "status": "completed"
    },
    "tags": []
   },
   "source": [
    "### Preparing the Data"
   ]
  },
  {
   "cell_type": "code",
   "execution_count": 3,
   "metadata": {
    "execution": {
     "iopub.execute_input": "2020-08-28T20:04:32.382847Z",
     "iopub.status.busy": "2020-08-28T20:04:32.382169Z",
     "iopub.status.idle": "2020-08-28T20:04:32.395466Z",
     "shell.execute_reply": "2020-08-28T20:04:32.394878Z"
    },
    "papermill": {
     "duration": 0.052927,
     "end_time": "2020-08-28T20:04:32.395614",
     "exception": false,
     "start_time": "2020-08-28T20:04:32.342687",
     "status": "completed"
    },
    "tags": []
   },
   "outputs": [],
   "source": [
    "import mnist"
   ]
  },
  {
   "cell_type": "code",
   "execution_count": 4,
   "metadata": {
    "execution": {
     "iopub.execute_input": "2020-08-28T20:04:32.466463Z",
     "iopub.status.busy": "2020-08-28T20:04:32.465779Z",
     "iopub.status.idle": "2020-08-28T20:04:33.293277Z",
     "shell.execute_reply": "2020-08-28T20:04:33.292132Z"
    },
    "papermill": {
     "duration": 0.868078,
     "end_time": "2020-08-28T20:04:33.293432",
     "exception": false,
     "start_time": "2020-08-28T20:04:32.425354",
     "status": "completed"
    },
    "tags": []
   },
   "outputs": [],
   "source": [
    "train_images = mnist.train_images()\n",
    "train_labels = mnist.train_labels()"
   ]
  },
  {
   "cell_type": "code",
   "execution_count": 5,
   "metadata": {
    "execution": {
     "iopub.execute_input": "2020-08-28T20:04:33.360464Z",
     "iopub.status.busy": "2020-08-28T20:04:33.354788Z",
     "iopub.status.idle": "2020-08-28T20:04:33.370604Z",
     "shell.execute_reply": "2020-08-28T20:04:33.370031Z"
    },
    "papermill": {
     "duration": 0.04847,
     "end_time": "2020-08-28T20:04:33.370748",
     "exception": false,
     "start_time": "2020-08-28T20:04:33.322278",
     "status": "completed"
    },
    "tags": []
   },
   "outputs": [
    {
     "data": {
      "text/plain": [
       "((60000, 28, 28), (60000,))"
      ]
     },
     "execution_count": 5,
     "metadata": {},
     "output_type": "execute_result"
    }
   ],
   "source": [
    "train_images.shape, train_labels.shape"
   ]
  },
  {
   "cell_type": "code",
   "execution_count": 6,
   "metadata": {
    "execution": {
     "iopub.execute_input": "2020-08-28T20:04:33.435963Z",
     "iopub.status.busy": "2020-08-28T20:04:33.435267Z",
     "iopub.status.idle": "2020-08-28T20:04:33.721931Z",
     "shell.execute_reply": "2020-08-28T20:04:33.722475Z"
    },
    "papermill": {
     "duration": 0.321168,
     "end_time": "2020-08-28T20:04:33.722660",
     "exception": false,
     "start_time": "2020-08-28T20:04:33.401492",
     "status": "completed"
    },
    "tags": []
   },
   "outputs": [],
   "source": [
    "test_images = mnist.test_images()\n",
    "test_labels = mnist.test_labels()"
   ]
  },
  {
   "cell_type": "code",
   "execution_count": 7,
   "metadata": {
    "execution": {
     "iopub.execute_input": "2020-08-28T20:04:33.899912Z",
     "iopub.status.busy": "2020-08-28T20:04:33.899009Z",
     "iopub.status.idle": "2020-08-28T20:04:33.916340Z",
     "shell.execute_reply": "2020-08-28T20:04:33.916897Z"
    },
    "papermill": {
     "duration": 0.160197,
     "end_time": "2020-08-28T20:04:33.917071",
     "exception": false,
     "start_time": "2020-08-28T20:04:33.756874",
     "status": "completed"
    },
    "tags": []
   },
   "outputs": [
    {
     "data": {
      "text/plain": [
       "((10000, 28, 28), (10000,))"
      ]
     },
     "execution_count": 7,
     "metadata": {},
     "output_type": "execute_result"
    }
   ],
   "source": [
    "test_images.shape, test_labels.shape"
   ]
  },
  {
   "cell_type": "code",
   "execution_count": 8,
   "metadata": {
    "execution": {
     "iopub.execute_input": "2020-08-28T20:04:34.055478Z",
     "iopub.status.busy": "2020-08-28T20:04:34.054775Z",
     "iopub.status.idle": "2020-08-28T20:04:34.242451Z",
     "shell.execute_reply": "2020-08-28T20:04:34.241812Z"
    },
    "papermill": {
     "duration": 0.282292,
     "end_time": "2020-08-28T20:04:34.242606",
     "exception": false,
     "start_time": "2020-08-28T20:04:33.960314",
     "status": "completed"
    },
    "tags": []
   },
   "outputs": [
    {
     "name": "stdout",
     "output_type": "stream",
     "text": [
      "2\n"
     ]
    },
    {
     "data": {
      "text/plain": [
       "<matplotlib.image.AxesImage at 0x7f867df58ac8>"
      ]
     },
     "execution_count": 8,
     "metadata": {},
     "output_type": "execute_result"
    },
    {
     "data": {
      "image/png": "[encoded data removed]",
      "text/plain": [
       "<Figure size 432x288 with 1 Axes>"
      ]
     },
     "metadata": {
      "needs_background": "light"
     },
     "output_type": "display_data"
    }
   ],
   "source": [
    "image_index = 7776 # You may select anything up to 60,000\n",
    "print(train_labels[image_index]) \n",
    "plt.imshow(train_images[image_index], cmap='Greys')"
   ]
  },
  {
   "cell_type": "markdown",
   "metadata": {
    "papermill": {
     "duration": 0.040419,
     "end_time": "2020-08-28T20:04:34.314638",
     "exception": false,
     "start_time": "2020-08-28T20:04:34.274219",
     "status": "completed"
    },
    "tags": []
   },
   "source": [
    "## Filter data to get 3 and 8 out"
   ]
  },
  {
   "cell_type": "code",
   "execution_count": 9,
   "metadata": {
    "execution": {
     "iopub.execute_input": "2020-08-28T20:04:34.391268Z",
     "iopub.status.busy": "2020-08-28T20:04:34.390406Z",
     "iopub.status.idle": "2020-08-28T20:04:34.410330Z",
     "shell.execute_reply": "2020-08-28T20:04:34.409685Z"
    },
    "papermill": {
     "duration": 0.063747,
     "end_time": "2020-08-28T20:04:34.410505",
     "exception": false,
     "start_time": "2020-08-28T20:04:34.346758",
     "status": "completed"
    },
    "tags": []
   },
   "outputs": [],
   "source": [
    "train_filter = np.where((train_labels == 3 ) | (train_labels == 8))\n",
    "test_filter = np.where((test_labels == 3) | (test_labels == 8))\n",
    "X_train, y_train = train_images[train_filter], train_labels[train_filter]\n",
    "X_test, y_test = test_images[test_filter], test_labels[test_filter]"
   ]
  },
  {
   "cell_type": "markdown",
   "metadata": {
    "papermill": {
     "duration": 0.030737,
     "end_time": "2020-08-28T20:04:34.474036",
     "exception": false,
     "start_time": "2020-08-28T20:04:34.443299",
     "status": "completed"
    },
    "tags": []
   },
   "source": [
    "We normalize the pixel values in the 0 to 1 range"
   ]
  },
  {
   "cell_type": "code",
   "execution_count": 10,
   "metadata": {
    "execution": {
     "iopub.execute_input": "2020-08-28T20:04:34.541228Z",
     "iopub.status.busy": "2020-08-28T20:04:34.540454Z",
     "iopub.status.idle": "2020-08-28T20:04:34.601447Z",
     "shell.execute_reply": "2020-08-28T20:04:34.600858Z"
    },
    "papermill": {
     "duration": 0.096322,
     "end_time": "2020-08-28T20:04:34.601605",
     "exception": false,
     "start_time": "2020-08-28T20:04:34.505283",
     "status": "completed"
    },
    "tags": []
   },
   "outputs": [],
   "source": [
    "X_train = X_train/255.\n",
    "X_test = X_test/255."
   ]
  },
  {
   "cell_type": "markdown",
   "metadata": {
    "papermill": {
     "duration": 0.031665,
     "end_time": "2020-08-28T20:04:34.665313",
     "exception": false,
     "start_time": "2020-08-28T20:04:34.633648",
     "status": "completed"
    },
    "tags": []
   },
   "source": [
    "Setup the labels as 1 (when the digit is 3) and 0 (when the digit is 8)"
   ]
  },
  {
   "cell_type": "code",
   "execution_count": 11,
   "metadata": {
    "execution": {
     "iopub.execute_input": "2020-08-28T20:04:34.734517Z",
     "iopub.status.busy": "2020-08-28T20:04:34.733763Z",
     "iopub.status.idle": "2020-08-28T20:04:34.747048Z",
     "shell.execute_reply": "2020-08-28T20:04:34.746494Z"
    },
    "papermill": {
     "duration": 0.048903,
     "end_time": "2020-08-28T20:04:34.747200",
     "exception": false,
     "start_time": "2020-08-28T20:04:34.698297",
     "status": "completed"
    },
    "tags": []
   },
   "outputs": [],
   "source": [
    "y_train = 1*(y_train==3)\n",
    "y_test = 1*(y_test==3)"
   ]
  },
  {
   "cell_type": "code",
   "execution_count": 12,
   "metadata": {
    "execution": {
     "iopub.execute_input": "2020-08-28T20:04:34.814878Z",
     "iopub.status.busy": "2020-08-28T20:04:34.814213Z",
     "iopub.status.idle": "2020-08-28T20:04:34.828374Z",
     "shell.execute_reply": "2020-08-28T20:04:34.828900Z"
    },
    "papermill": {
     "duration": 0.049488,
     "end_time": "2020-08-28T20:04:34.829080",
     "exception": false,
     "start_time": "2020-08-28T20:04:34.779592",
     "status": "completed"
    },
    "tags": []
   },
   "outputs": [
    {
     "data": {
      "text/plain": [
       "((11982, 28, 28), (1984, 28, 28))"
      ]
     },
     "execution_count": 12,
     "metadata": {},
     "output_type": "execute_result"
    }
   ],
   "source": [
    "X_train.shape, X_test.shape"
   ]
  },
  {
   "cell_type": "markdown",
   "metadata": {
    "papermill": {
     "duration": 0.033383,
     "end_time": "2020-08-28T20:04:34.896428",
     "exception": false,
     "start_time": "2020-08-28T20:04:34.863045",
     "status": "completed"
    },
    "tags": []
   },
   "source": [
    "### Reshape the input data to create a linear array"
   ]
  },
  {
   "cell_type": "code",
   "execution_count": 13,
   "metadata": {
    "execution": {
     "iopub.execute_input": "2020-08-28T20:04:34.964767Z",
     "iopub.status.busy": "2020-08-28T20:04:34.964067Z",
     "iopub.status.idle": "2020-08-28T20:04:34.980286Z",
     "shell.execute_reply": "2020-08-28T20:04:34.979677Z"
    },
    "papermill": {
     "duration": 0.052194,
     "end_time": "2020-08-28T20:04:34.980419",
     "exception": false,
     "start_time": "2020-08-28T20:04:34.928225",
     "status": "completed"
    },
    "tags": []
   },
   "outputs": [
    {
     "data": {
      "text/plain": [
       "((11982, 784), (1984, 784))"
      ]
     },
     "execution_count": 13,
     "metadata": {},
     "output_type": "execute_result"
    }
   ],
   "source": [
    "X_train = X_train.reshape(X_train.shape[0], -1)\n",
    "X_test = X_test.reshape(X_test.shape[0], -1)\n",
    "X_train.shape, X_test.shape"
   ]
  },
  {
   "cell_type": "markdown",
   "metadata": {
    "papermill": {
     "duration": 0.031642,
     "end_time": "2020-08-28T20:04:35.047299",
     "exception": false,
     "start_time": "2020-08-28T20:04:35.015657",
     "status": "completed"
    },
    "tags": []
   },
   "source": [
    "### Importing appropriate functions from 'Kudzu'"
   ]
  },
  {
   "cell_type": "code",
   "execution_count": 14,
   "metadata": {
    "execution": {
     "iopub.execute_input": "2020-08-28T20:04:35.121104Z",
     "iopub.status.busy": "2020-08-28T20:04:35.120424Z",
     "iopub.status.idle": "2020-08-28T20:04:35.143044Z",
     "shell.execute_reply": "2020-08-28T20:04:35.143641Z"
    },
    "papermill": {
     "duration": 0.060638,
     "end_time": "2020-08-28T20:04:35.143818",
     "exception": false,
     "start_time": "2020-08-28T20:04:35.083180",
     "status": "completed"
    },
    "tags": []
   },
   "outputs": [],
   "source": [
    "from kudzu.layer import Sigmoid\n",
    "from kudzu.layer import Relu\n",
    "from kudzu.layer import Affine, Sigmoid\n",
    "\n",
    "from kudzu.model import Model\n",
    "from kudzu.train import Learner\n",
    "from kudzu.optim import GD\n",
    "from kudzu.data import Data, Dataloader, Sampler\n",
    "\n",
    "from kudzu.callbacks import AccCallback\n",
    "from kudzu.callbacks import ClfCallback\n",
    "\n",
    "from kudzu.loss import MSE"
   ]
  },
  {
   "cell_type": "markdown",
   "metadata": {
    "papermill": {
     "duration": 0.032305,
     "end_time": "2020-08-28T20:04:35.209145",
     "exception": false,
     "start_time": "2020-08-28T20:04:35.176840",
     "status": "completed"
    },
    "tags": []
   },
   "source": [
    "### Let us create a `Config` class, to store important parameters. \n",
    "This class essentially plays the role of a dictionary."
   ]
  },
  {
   "cell_type": "code",
   "execution_count": 15,
   "metadata": {
    "execution": {
     "iopub.execute_input": "2020-08-28T20:04:35.282947Z",
     "iopub.status.busy": "2020-08-28T20:04:35.282278Z",
     "iopub.status.idle": "2020-08-28T20:04:35.295927Z",
     "shell.execute_reply": "2020-08-28T20:04:35.295353Z"
    },
    "papermill": {
     "duration": 0.049449,
     "end_time": "2020-08-28T20:04:35.296059",
     "exception": false,
     "start_time": "2020-08-28T20:04:35.246610",
     "status": "completed"
    },
    "tags": []
   },
   "outputs": [],
   "source": [
    "class Config:\n",
    "    pass\n",
    "config = Config()\n",
    "config.lr = 0.001\n",
    "config.num_epochs = 251\n",
    "config.bs = 50"
   ]
  },
  {
   "cell_type": "markdown",
   "metadata": {
    "papermill": {
     "duration": 0.031308,
     "end_time": "2020-08-28T20:04:35.359083",
     "exception": false,
     "start_time": "2020-08-28T20:04:35.327775",
     "status": "completed"
    },
    "tags": []
   },
   "source": [
    "### Initializing data to the variables"
   ]
  },
  {
   "cell_type": "code",
   "execution_count": 16,
   "metadata": {
    "execution": {
     "iopub.execute_input": "2020-08-28T20:04:35.427430Z",
     "iopub.status.busy": "2020-08-28T20:04:35.426735Z",
     "iopub.status.idle": "2020-08-28T20:04:35.440411Z",
     "shell.execute_reply": "2020-08-28T20:04:35.441335Z"
    },
    "papermill": {
     "duration": 0.051161,
     "end_time": "2020-08-28T20:04:35.441505",
     "exception": false,
     "start_time": "2020-08-28T20:04:35.390344",
     "status": "completed"
    },
    "tags": []
   },
   "outputs": [],
   "source": [
    "data = Data(X_train, y_train.reshape(-1,1))\n",
    "sampler = Sampler(data, config.bs, shuffle=True)\n",
    "\n",
    "dl = Dataloader(data, sampler)\n",
    "\n",
    "opt = GD(config.lr)\n",
    "loss = MSE()"
   ]
  },
  {
   "cell_type": "code",
   "execution_count": 17,
   "metadata": {
    "execution": {
     "iopub.execute_input": "2020-08-28T20:04:35.510246Z",
     "iopub.status.busy": "2020-08-28T20:04:35.509584Z",
     "iopub.status.idle": "2020-08-28T20:04:35.522431Z",
     "shell.execute_reply": "2020-08-28T20:04:35.523033Z"
    },
    "papermill": {
     "duration": 0.049068,
     "end_time": "2020-08-28T20:04:35.523196",
     "exception": false,
     "start_time": "2020-08-28T20:04:35.474128",
     "status": "completed"
    },
    "tags": []
   },
   "outputs": [],
   "source": [
    "training_xdata = X_train\n",
    "testing_xdata = X_test\n",
    "training_ydata = y_train.reshape(-1,1)\n",
    "testing_ydata = y_test.reshape(-1,1)"
   ]
  },
  {
   "cell_type": "markdown",
   "metadata": {
    "papermill": {
     "duration": 0.035825,
     "end_time": "2020-08-28T20:04:35.590611",
     "exception": false,
     "start_time": "2020-08-28T20:04:35.554786",
     "status": "completed"
    },
    "tags": []
   },
   "source": [
    "### Running Models with the Training data\n",
    "Details about the network layers:\n",
    "- A first affine layer has 784 inputs and does 100 affine transforms. These are followed by a Relu\n",
    "- A second affine layer has 100 inputs from the 100 activations of the past layer, and does 100 affine transforms. These are followed by a Relu\n",
    "- A third affine layer has 100 activations and does 2 affine transformations to create an embedding for visualization. There is no non-linearity here.\n",
    "- A final \"logistic regression\" which has an affine transform from 2 inputs to 1 output, which is squeezed through a sigmoid.\n",
    "\n",
    "Help taken from Anshuman's Notebook."
   ]
  },
  {
   "cell_type": "code",
   "execution_count": 18,
   "metadata": {
    "execution": {
     "iopub.execute_input": "2020-08-28T20:04:35.665983Z",
     "iopub.status.busy": "2020-08-28T20:04:35.665204Z",
     "iopub.status.idle": "2020-08-28T20:04:35.683384Z",
     "shell.execute_reply": "2020-08-28T20:04:35.682770Z"
    },
    "papermill": {
     "duration": 0.056423,
     "end_time": "2020-08-28T20:04:35.683541",
     "exception": false,
     "start_time": "2020-08-28T20:04:35.627118",
     "status": "completed"
    },
    "tags": []
   },
   "outputs": [],
   "source": [
    "# layers for the Neural Network\n",
    "layers = [Affine(\"first\", 784, 100), Relu(\"first\"), Affine(\"second\", 100, 100), Relu(\"second\"), Affine(\"third\", 100, 2), Affine(\"final\", 2, 1), Sigmoid(\"final\")]\n",
    "model_nn = Model(layers)\n",
    "\n",
    "# layers for the Logistic Regression\n",
    "layers_lr = [Affine(\"logits\", 784, 1), Sigmoid(\"sigmoid\")]\n",
    "model_lr = Model(layers_lr)"
   ]
  },
  {
   "cell_type": "code",
   "execution_count": 19,
   "metadata": {
    "execution": {
     "iopub.execute_input": "2020-08-28T20:04:35.751991Z",
     "iopub.status.busy": "2020-08-28T20:04:35.751315Z",
     "iopub.status.idle": "2020-08-28T20:04:35.764730Z",
     "shell.execute_reply": "2020-08-28T20:04:35.764130Z"
    },
    "papermill": {
     "duration": 0.049516,
     "end_time": "2020-08-28T20:04:35.764881",
     "exception": false,
     "start_time": "2020-08-28T20:04:35.715365",
     "status": "completed"
    },
    "tags": []
   },
   "outputs": [],
   "source": [
    "# suffix _nn stands for Neural Network.\n",
    "learner_nn = Learner(loss, model_nn, opt, config.num_epochs)\n",
    "acc_nn = ClfCallback(learner_nn, config.bs, training_xdata , testing_xdata, training_ydata, testing_ydata)\n",
    "learner_nn.set_callbacks([acc_nn])"
   ]
  },
  {
   "cell_type": "code",
   "execution_count": 20,
   "metadata": {
    "execution": {
     "iopub.execute_input": "2020-08-28T20:04:35.833921Z",
     "iopub.status.busy": "2020-08-28T20:04:35.833238Z",
     "iopub.status.idle": "2020-08-28T20:06:40.694947Z",
     "shell.execute_reply": "2020-08-28T20:06:40.695943Z"
    },
    "papermill": {
     "duration": 124.899591,
     "end_time": "2020-08-28T20:06:40.696123",
     "exception": false,
     "start_time": "2020-08-28T20:04:35.796532",
     "status": "completed"
    },
    "tags": []
   },
   "outputs": [
    {
     "name": "stdout",
     "output_type": "stream",
     "text": [
      "====== Neural Network ======\n"
     ]
    },
    {
     "name": "stdout",
     "output_type": "stream",
     "text": [
      "Epoch 0, Loss 0.2352\n",
      "Training Accuracy: 0.7145, Testing Accuracy: 0.7273\n",
      "\n"
     ]
    },
    {
     "name": "stdout",
     "output_type": "stream",
     "text": [
      "Epoch 10, Loss 0.0864\n",
      "Training Accuracy: 0.9188, Testing Accuracy: 0.9289\n",
      "\n"
     ]
    },
    {
     "name": "stdout",
     "output_type": "stream",
     "text": [
      "Epoch 20, Loss 0.054\n",
      "Training Accuracy: 0.9427, Testing Accuracy: 0.9506\n",
      "\n"
     ]
    },
    {
     "name": "stdout",
     "output_type": "stream",
     "text": [
      "Epoch 30, Loss 0.0428\n",
      "Training Accuracy: 0.9536, Testing Accuracy: 0.9587\n",
      "\n"
     ]
    },
    {
     "name": "stdout",
     "output_type": "stream",
     "text": [
      "Epoch 40, Loss 0.0371\n",
      "Training Accuracy: 0.9591, Testing Accuracy: 0.9637\n",
      "\n"
     ]
    },
    {
     "name": "stdout",
     "output_type": "stream",
     "text": [
      "Epoch 50, Loss 0.0336\n",
      "Training Accuracy: 0.9619, Testing Accuracy: 0.9657\n",
      "\n"
     ]
    },
    {
     "name": "stdout",
     "output_type": "stream",
     "text": [
      "Epoch 60, Loss 0.0312\n",
      "Training Accuracy: 0.9644, Testing Accuracy: 0.9657\n",
      "\n"
     ]
    },
    {
     "name": "stdout",
     "output_type": "stream",
     "text": [
      "Epoch 70, Loss 0.0293\n",
      "Training Accuracy: 0.9664, Testing Accuracy: 0.9667\n",
      "\n"
     ]
    },
    {
     "name": "stdout",
     "output_type": "stream",
     "text": [
      "Epoch 80, Loss 0.0278\n",
      "Training Accuracy: 0.9675, Testing Accuracy: 0.9672\n",
      "\n"
     ]
    },
    {
     "name": "stdout",
     "output_type": "stream",
     "text": [
      "Epoch 90, Loss 0.0266\n",
      "Training Accuracy: 0.9690, Testing Accuracy: 0.9713\n",
      "\n"
     ]
    },
    {
     "name": "stdout",
     "output_type": "stream",
     "text": [
      "Epoch 100, Loss 0.0256\n",
      "Training Accuracy: 0.9698, Testing Accuracy: 0.9723\n",
      "\n"
     ]
    },
    {
     "name": "stdout",
     "output_type": "stream",
     "text": [
      "Epoch 110, Loss 0.0246\n",
      "Training Accuracy: 0.9707, Testing Accuracy: 0.9733\n",
      "\n"
     ]
    },
    {
     "name": "stdout",
     "output_type": "stream",
     "text": [
      "Epoch 120, Loss 0.0238\n",
      "Training Accuracy: 0.9721, Testing Accuracy: 0.9738\n",
      "\n"
     ]
    },
    {
     "name": "stdout",
     "output_type": "stream",
     "text": [
      "Epoch 130, Loss 0.0231\n",
      "Training Accuracy: 0.9732, Testing Accuracy: 0.9743\n",
      "\n"
     ]
    },
    {
     "name": "stdout",
     "output_type": "stream",
     "text": [
      "Epoch 140, Loss 0.0224\n",
      "Training Accuracy: 0.9745, Testing Accuracy: 0.9738\n",
      "\n"
     ]
    },
    {
     "name": "stdout",
     "output_type": "stream",
     "text": [
      "Epoch 150, Loss 0.0218\n",
      "Training Accuracy: 0.9755, Testing Accuracy: 0.9743\n",
      "\n"
     ]
    },
    {
     "name": "stdout",
     "output_type": "stream",
     "text": [
      "Epoch 160, Loss 0.0213\n",
      "Training Accuracy: 0.9761, Testing Accuracy: 0.9748\n",
      "\n"
     ]
    },
    {
     "name": "stdout",
     "output_type": "stream",
     "text": [
      "Epoch 170, Loss 0.0208\n",
      "Training Accuracy: 0.9767, Testing Accuracy: 0.9748\n",
      "\n"
     ]
    },
    {
     "name": "stdout",
     "output_type": "stream",
     "text": [
      "Epoch 180, Loss 0.0203\n",
      "Training Accuracy: 0.9770, Testing Accuracy: 0.9748\n",
      "\n"
     ]
    },
    {
     "name": "stdout",
     "output_type": "stream",
     "text": [
      "Epoch 190, Loss 0.0198\n",
      "Training Accuracy: 0.9778, Testing Accuracy: 0.9753\n",
      "\n"
     ]
    },
    {
     "name": "stdout",
     "output_type": "stream",
     "text": [
      "Epoch 200, Loss 0.0194\n",
      "Training Accuracy: 0.9786, Testing Accuracy: 0.9753\n",
      "\n"
     ]
    },
    {
     "name": "stdout",
     "output_type": "stream",
     "text": [
      "Epoch 210, Loss 0.019\n",
      "Training Accuracy: 0.9792, Testing Accuracy: 0.9748\n",
      "\n"
     ]
    },
    {
     "name": "stdout",
     "output_type": "stream",
     "text": [
      "Epoch 220, Loss 0.0186\n",
      "Training Accuracy: 0.9799, Testing Accuracy: 0.9748\n",
      "\n"
     ]
    },
    {
     "name": "stdout",
     "output_type": "stream",
     "text": [
      "Epoch 230, Loss 0.0182\n",
      "Training Accuracy: 0.9804, Testing Accuracy: 0.9753\n",
      "\n"
     ]
    },
    {
     "name": "stdout",
     "output_type": "stream",
     "text": [
      "Epoch 240, Loss 0.0179\n",
      "Training Accuracy: 0.9807, Testing Accuracy: 0.9753\n",
      "\n"
     ]
    },
    {
     "name": "stdout",
     "output_type": "stream",
     "text": [
      "Epoch 250, Loss 0.0176\n",
      "Training Accuracy: 0.9813, Testing Accuracy: 0.9753\n",
      "\n"
     ]
    },
    {
     "data": {
      "text/plain": [
       "0.04415893348153099"
      ]
     },
     "execution_count": 20,
     "metadata": {},
     "output_type": "execute_result"
    }
   ],
   "source": [
    "print(\"====== Neural Network ======\")\n",
    "learner_nn.train_loop(dl)"
   ]
  },
  {
   "cell_type": "markdown",
   "metadata": {
    "papermill": {
     "duration": 0.040759,
     "end_time": "2020-08-28T20:06:40.780253",
     "exception": false,
     "start_time": "2020-08-28T20:06:40.739494",
     "status": "completed"
    },
    "tags": []
   },
   "source": [
    "### Logistic Regression based Implementation."
   ]
  },
  {
   "cell_type": "code",
   "execution_count": 21,
   "metadata": {
    "execution": {
     "iopub.execute_input": "2020-08-28T20:06:40.872842Z",
     "iopub.status.busy": "2020-08-28T20:06:40.872154Z",
     "iopub.status.idle": "2020-08-28T20:06:40.886432Z",
     "shell.execute_reply": "2020-08-28T20:06:40.885830Z"
    },
    "papermill": {
     "duration": 0.065506,
     "end_time": "2020-08-28T20:06:40.886589",
     "exception": false,
     "start_time": "2020-08-28T20:06:40.821083",
     "status": "completed"
    },
    "tags": []
   },
   "outputs": [],
   "source": [
    "learner_lr = Learner(loss, model_lr, opt, config.num_epochs)\n",
    "acc_lr = ClfCallback(learner_lr, config.bs, training_xdata , testing_xdata, training_ydata, testing_ydata)\n",
    "learner_lr.set_callbacks([acc_lr])"
   ]
  },
  {
   "cell_type": "code",
   "execution_count": 22,
   "metadata": {
    "execution": {
     "iopub.execute_input": "2020-08-28T20:06:40.975973Z",
     "iopub.status.busy": "2020-08-28T20:06:40.975253Z",
     "iopub.status.idle": "2020-08-28T20:06:59.863125Z",
     "shell.execute_reply": "2020-08-28T20:06:59.863997Z"
    },
    "papermill": {
     "duration": 18.936816,
     "end_time": "2020-08-28T20:06:59.864171",
     "exception": false,
     "start_time": "2020-08-28T20:06:40.927355",
     "status": "completed"
    },
    "tags": []
   },
   "outputs": [
    {
     "name": "stdout",
     "output_type": "stream",
     "text": [
      "====== Logistic Regression ======\n",
      "Epoch 0, Loss 0.2816\n",
      "Training Accuracy: 0.6090, Testing Accuracy: 0.5801\n",
      "\n"
     ]
    },
    {
     "name": "stdout",
     "output_type": "stream",
     "text": [
      "Epoch 10, Loss 0.1061\n",
      "Training Accuracy: 0.9003, Testing Accuracy: 0.9143\n",
      "\n"
     ]
    },
    {
     "name": "stdout",
     "output_type": "stream",
     "text": [
      "Epoch 20, Loss 0.081\n",
      "Training Accuracy: 0.9232, Testing Accuracy: 0.9380\n",
      "\n"
     ]
    },
    {
     "name": "stdout",
     "output_type": "stream",
     "text": [
      "Epoch 30, Loss 0.0696\n",
      "Training Accuracy: 0.9329, Testing Accuracy: 0.9456\n",
      "\n"
     ]
    },
    {
     "name": "stdout",
     "output_type": "stream",
     "text": [
      "Epoch 40, Loss 0.0628\n",
      "Training Accuracy: 0.9384, Testing Accuracy: 0.9521\n",
      "\n"
     ]
    },
    {
     "name": "stdout",
     "output_type": "stream",
     "text": [
      "Epoch 50, Loss 0.0582\n",
      "Training Accuracy: 0.9417, Testing Accuracy: 0.9546\n",
      "\n"
     ]
    },
    {
     "name": "stdout",
     "output_type": "stream",
     "text": [
      "Epoch 60, Loss 0.0548\n",
      "Training Accuracy: 0.9450, Testing Accuracy: 0.9572\n",
      "\n"
     ]
    },
    {
     "name": "stdout",
     "output_type": "stream",
     "text": [
      "Epoch 70, Loss 0.0522\n",
      "Training Accuracy: 0.9474, Testing Accuracy: 0.9577\n",
      "\n"
     ]
    },
    {
     "name": "stdout",
     "output_type": "stream",
     "text": [
      "Epoch 80, Loss 0.05\n",
      "Training Accuracy: 0.9492, Testing Accuracy: 0.9602\n",
      "\n"
     ]
    },
    {
     "name": "stdout",
     "output_type": "stream",
     "text": [
      "Epoch 90, Loss 0.0483\n",
      "Training Accuracy: 0.9508, Testing Accuracy: 0.9607\n",
      "\n"
     ]
    },
    {
     "name": "stdout",
     "output_type": "stream",
     "text": [
      "Epoch 100, Loss 0.0469\n",
      "Training Accuracy: 0.9517, Testing Accuracy: 0.9622\n",
      "\n"
     ]
    },
    {
     "name": "stdout",
     "output_type": "stream",
     "text": [
      "Epoch 110, Loss 0.0456\n",
      "Training Accuracy: 0.9524, Testing Accuracy: 0.9627\n",
      "\n"
     ]
    },
    {
     "name": "stdout",
     "output_type": "stream",
     "text": [
      "Epoch 120, Loss 0.0445\n",
      "Training Accuracy: 0.9533, Testing Accuracy: 0.9632\n",
      "\n"
     ]
    },
    {
     "name": "stdout",
     "output_type": "stream",
     "text": [
      "Epoch 130, Loss 0.0435\n",
      "Training Accuracy: 0.9541, Testing Accuracy: 0.9637\n",
      "\n"
     ]
    },
    {
     "name": "stdout",
     "output_type": "stream",
     "text": [
      "Epoch 140, Loss 0.0427\n",
      "Training Accuracy: 0.9556, Testing Accuracy: 0.9632\n",
      "\n"
     ]
    },
    {
     "name": "stdout",
     "output_type": "stream",
     "text": [
      "Epoch 150, Loss 0.0419\n",
      "Training Accuracy: 0.9558, Testing Accuracy: 0.9637\n",
      "\n"
     ]
    },
    {
     "name": "stdout",
     "output_type": "stream",
     "text": [
      "Epoch 160, Loss 0.0412\n",
      "Training Accuracy: 0.9564, Testing Accuracy: 0.9647\n",
      "\n"
     ]
    },
    {
     "name": "stdout",
     "output_type": "stream",
     "text": [
      "Epoch 170, Loss 0.0406\n",
      "Training Accuracy: 0.9571, Testing Accuracy: 0.9667\n",
      "\n"
     ]
    },
    {
     "name": "stdout",
     "output_type": "stream",
     "text": [
      "Epoch 180, Loss 0.04\n",
      "Training Accuracy: 0.9576, Testing Accuracy: 0.9672\n",
      "\n"
     ]
    },
    {
     "name": "stdout",
     "output_type": "stream",
     "text": [
      "Epoch 190, Loss 0.0395\n",
      "Training Accuracy: 0.9579, Testing Accuracy: 0.9677\n",
      "\n"
     ]
    },
    {
     "name": "stdout",
     "output_type": "stream",
     "text": [
      "Epoch 200, Loss 0.039\n",
      "Training Accuracy: 0.9578, Testing Accuracy: 0.9677\n",
      "\n"
     ]
    },
    {
     "name": "stdout",
     "output_type": "stream",
     "text": [
      "Epoch 210, Loss 0.0386\n",
      "Training Accuracy: 0.9584, Testing Accuracy: 0.9677\n",
      "\n"
     ]
    },
    {
     "name": "stdout",
     "output_type": "stream",
     "text": [
      "Epoch 220, Loss 0.0381\n",
      "Training Accuracy: 0.9589, Testing Accuracy: 0.9677\n",
      "\n"
     ]
    },
    {
     "name": "stdout",
     "output_type": "stream",
     "text": [
      "Epoch 230, Loss 0.0377\n",
      "Training Accuracy: 0.9594, Testing Accuracy: 0.9677\n",
      "\n"
     ]
    },
    {
     "name": "stdout",
     "output_type": "stream",
     "text": [
      "Epoch 240, Loss 0.0374\n",
      "Training Accuracy: 0.9598, Testing Accuracy: 0.9677\n",
      "\n"
     ]
    },
    {
     "name": "stdout",
     "output_type": "stream",
     "text": [
      "Epoch 250, Loss 0.037\n",
      "Training Accuracy: 0.9600, Testing Accuracy: 0.9677\n",
      "\n"
     ]
    },
    {
     "data": {
      "text/plain": [
       "0.018301251486335206"
      ]
     },
     "execution_count": 22,
     "metadata": {},
     "output_type": "execute_result"
    }
   ],
   "source": [
    "print(\"====== Logistic Regression ======\")\n",
    "learner_lr.train_loop(dl)"
   ]
  },
  {
   "cell_type": "markdown",
   "metadata": {
    "papermill": {
     "duration": 0.049165,
     "end_time": "2020-08-28T20:06:59.962724",
     "exception": false,
     "start_time": "2020-08-28T20:06:59.913559",
     "status": "completed"
    },
    "tags": []
   },
   "source": [
    "### Comparing results of NN and LR"
   ]
  },
  {
   "cell_type": "code",
   "execution_count": 23,
   "metadata": {
    "execution": {
     "iopub.execute_input": "2020-08-28T20:07:00.075541Z",
     "iopub.status.busy": "2020-08-28T20:07:00.072738Z",
     "iopub.status.idle": "2020-08-28T20:07:00.343050Z",
     "shell.execute_reply": "2020-08-28T20:07:00.342522Z"
    },
    "papermill": {
     "duration": 0.330115,
     "end_time": "2020-08-28T20:07:00.343215",
     "exception": false,
     "start_time": "2020-08-28T20:07:00.013100",
     "status": "completed"
    },
    "tags": []
   },
   "outputs": [
    {
     "data": {
      "text/plain": [
       "<matplotlib.legend.Legend at 0x7f867db43278>"
      ]
     },
     "execution_count": 23,
     "metadata": {},
     "output_type": "execute_result"
    },
    {
     "data": {
      "image/png": "[encoded data removed]",
      "text/plain": [
       "<Figure size 1080x720 with 1 Axes>"
      ]
     },
     "metadata": {
      "needs_background": "light"
     },
     "output_type": "display_data"
    }
   ],
   "source": [
    "plt.figure(figsize=(15,10))\n",
    "\n",
    "# Neural Network plots\n",
    "plt.plot(acc_nn.accuracies, 'r-', label = \"Training Accuracies - NN\")\n",
    "plt.plot(acc_nn.test_accuracies, 'g-', label = \"Testing Accuracies - NN\")\n",
    "\n",
    "# Logistic Regression plots\n",
    "plt.plot(acc_lr.accuracies, 'k-', label = \"Training Accuracies - LR\")\n",
    "plt.plot(acc_lr.test_accuracies, 'b-', label = \"Testing Accuracies - LR\")\n",
    "\n",
    "plt.ylim(0.8, 1)\n",
    "\n",
    "plt.legend()\n",
    "\n"
   ]
  },
  {
   "cell_type": "markdown",
   "metadata": {
    "papermill": {
     "duration": 0.052043,
     "end_time": "2020-08-28T20:07:00.447237",
     "exception": false,
     "start_time": "2020-08-28T20:07:00.395194",
     "status": "completed"
    },
    "tags": []
   },
   "source": [
    "### From the plot, we can observe the following:\n",
    "- Neural Network achieves higher accuracy than the Logistic Regression model.\n",
    "- This apparently, is because of overfitting, i.e. NN captures more noise than data.\n",
    "- Testing accuracy of NN drops below the Training accuracy at higher epochs. This explains the over-fitting on training data.\n",
    "- Logistic Regression gives a reliable accuracy, without the above mentioned problem.\n"
   ]
  },
  {
   "cell_type": "markdown",
   "metadata": {
    "papermill": {
     "duration": 0.052811,
     "end_time": "2020-08-28T20:07:00.550808",
     "exception": false,
     "start_time": "2020-08-28T20:07:00.497997",
     "status": "completed"
    },
    "tags": []
   },
   "source": [
    "### Moving till the last but one layer (excluding it).\n",
    "#### Plotting the outputs of this layer of the NN."
   ]
  },
  {
   "cell_type": "code",
   "execution_count": 24,
   "metadata": {
    "execution": {
     "iopub.execute_input": "2020-08-28T20:07:00.658974Z",
     "iopub.status.busy": "2020-08-28T20:07:00.657669Z",
     "iopub.status.idle": "2020-08-28T20:07:00.670717Z",
     "shell.execute_reply": "2020-08-28T20:07:00.671276Z"
    },
    "papermill": {
     "duration": 0.067559,
     "end_time": "2020-08-28T20:07:00.671499",
     "exception": false,
     "start_time": "2020-08-28T20:07:00.603940",
     "status": "completed"
    },
    "tags": []
   },
   "outputs": [],
   "source": [
    "model_new = Model(layers[:-2])"
   ]
  },
  {
   "cell_type": "code",
   "execution_count": 25,
   "metadata": {
    "execution": {
     "iopub.execute_input": "2020-08-28T20:07:00.784243Z",
     "iopub.status.busy": "2020-08-28T20:07:00.777320Z",
     "iopub.status.idle": "2020-08-28T20:07:00.802914Z",
     "shell.execute_reply": "2020-08-28T20:07:00.803812Z"
    },
    "papermill": {
     "duration": 0.081237,
     "end_time": "2020-08-28T20:07:00.803992",
     "exception": false,
     "start_time": "2020-08-28T20:07:00.722755",
     "status": "completed"
    },
    "tags": []
   },
   "outputs": [],
   "source": [
    "plot_testing = model_new(testing_xdata)"
   ]
  },
  {
   "cell_type": "code",
   "execution_count": 26,
   "metadata": {
    "execution": {
     "iopub.execute_input": "2020-08-28T20:07:00.916748Z",
     "iopub.status.busy": "2020-08-28T20:07:00.916080Z",
     "iopub.status.idle": "2020-08-28T20:07:01.130304Z",
     "shell.execute_reply": "2020-08-28T20:07:01.130831Z"
    },
    "papermill": {
     "duration": 0.275108,
     "end_time": "2020-08-28T20:07:01.131009",
     "exception": false,
     "start_time": "2020-08-28T20:07:00.855901",
     "status": "completed"
    },
    "tags": []
   },
   "outputs": [
    {
     "data": {
      "text/plain": [
       "Text(0.5, 1.0, 'Outputs')"
      ]
     },
     "execution_count": 26,
     "metadata": {},
     "output_type": "execute_result"
    },
    {
     "data": {
      "image/png": "[encoded data removed]",
      "text/plain": [
       "<Figure size 576x504 with 1 Axes>"
      ]
     },
     "metadata": {
      "needs_background": "light"
     },
     "output_type": "display_data"
    }
   ],
   "source": [
    "plt.figure(figsize=(8,7))\n",
    "plt.scatter(plot_testing[:,0], plot_testing[:,1], alpha = 0.1, c = y_test.ravel());\n",
    "plt.title('Outputs')"
   ]
  },
  {
   "cell_type": "markdown",
   "metadata": {
    "papermill": {
     "duration": 0.052052,
     "end_time": "2020-08-28T20:07:01.236376",
     "exception": false,
     "start_time": "2020-08-28T20:07:01.184324",
     "status": "completed"
    },
    "tags": []
   },
   "source": [
    "### Plotting probability contours"
   ]
  },
  {
   "cell_type": "code",
   "execution_count": 27,
   "metadata": {
    "execution": {
     "iopub.execute_input": "2020-08-28T20:07:01.345047Z",
     "iopub.status.busy": "2020-08-28T20:07:01.344343Z",
     "iopub.status.idle": "2020-08-28T20:07:01.357915Z",
     "shell.execute_reply": "2020-08-28T20:07:01.357399Z"
    },
    "papermill": {
     "duration": 0.069592,
     "end_time": "2020-08-28T20:07:01.358086",
     "exception": false,
     "start_time": "2020-08-28T20:07:01.288494",
     "status": "completed"
    },
    "tags": []
   },
   "outputs": [],
   "source": [
    "model_prob = Model(layers[-2:]) "
   ]
  },
  {
   "cell_type": "code",
   "execution_count": 28,
   "metadata": {
    "execution": {
     "iopub.execute_input": "2020-08-28T20:07:01.468975Z",
     "iopub.status.busy": "2020-08-28T20:07:01.468268Z",
     "iopub.status.idle": "2020-08-28T20:07:01.483021Z",
     "shell.execute_reply": "2020-08-28T20:07:01.483516Z"
    },
    "papermill": {
     "duration": 0.073227,
     "end_time": "2020-08-28T20:07:01.483673",
     "exception": false,
     "start_time": "2020-08-28T20:07:01.410446",
     "status": "completed"
    },
    "tags": []
   },
   "outputs": [],
   "source": [
    "# Adjust the x and y ranges according to the above generated plot.\n",
    "x_range = np.linspace(-4, 1, 100) \n",
    "y_range = np.linspace(-6, 6, 100) \n",
    "x_grid, y_grid = np.meshgrid(x_range, y_range) # x_grid and y_grig are of size 100 X 100\n",
    "\n",
    "# converting x_grid and y_grid to continuous arrays\n",
    "x_grid_flat = np.ravel(x_grid)\n",
    "y_grid_flat = np.ravel(y_grid)\n",
    "\n",
    "# The last layer of the current model takes two columns as input. Hence transpose of np.vstack() is required.\n",
    "X = np.vstack((x_grid_flat, y_grid_flat)).T\n",
    "\n",
    "# x_grid and y_grid are of size 100 x 100\n",
    "probability_contour = model_prob(X).reshape(100,100) "
   ]
  },
  {
   "cell_type": "code",
   "execution_count": 29,
   "metadata": {
    "execution": {
     "iopub.execute_input": "2020-08-28T20:07:01.603084Z",
     "iopub.status.busy": "2020-08-28T20:07:01.602354Z",
     "iopub.status.idle": "2020-08-28T20:07:01.873182Z",
     "shell.execute_reply": "2020-08-28T20:07:01.873683Z"
    },
    "papermill": {
     "duration": 0.337314,
     "end_time": "2020-08-28T20:07:01.873842",
     "exception": false,
     "start_time": "2020-08-28T20:07:01.536528",
     "status": "completed"
    },
    "tags": []
   },
   "outputs": [
    {
     "data": {
      "image/png": "[encoded data removed]",
      "text/plain": [
       "<Figure size 720x648 with 1 Axes>"
      ]
     },
     "metadata": {
      "needs_background": "light"
     },
     "output_type": "display_data"
    }
   ],
   "source": [
    "plt.figure(figsize=(10,9))\n",
    "plt.scatter(plot_testing[:,0], plot_testing[:,1], alpha = 0.1, c = y_test.ravel())\n",
    "contours = plt.contour(x_grid,y_grid,probability_contour)\n",
    "plt.title('Probability Contours')\n",
    "plt.clabel(contours, inline = True );"
   ]
  }
 ],
 "metadata": {
  "kernelspec": {
   "display_name": "Python 3",
   "language": "python",
   "name": "python3"
  },
  "language_info": {
   "codemirror_mode": {
    "name": "ipython",
    "version": 3
   },
   "file_extension": ".py",
   "mimetype": "text/x-python",
   "name": "python",
   "nbconvert_exporter": "python",
   "pygments_lexer": "ipython3",
   "version": "3.6.11"
  },
  "papermill": {
   "duration": 154.421145,
   "end_time": "2020-08-28T20:07:03.116850",
   "environment_variables": {},
   "exception": null,
   "input_path": "2020-08-11-NeuralNetwork.ipynb",
   "output_path": "2020-08-11-NeuralNetwork.ipynb",
   "parameters": {},
   "start_time": "2020-08-28T20:04:28.695705",
   "version": "2.1.2"
  }
 },
 "nbformat": 4,
 "nbformat_minor": 4
}