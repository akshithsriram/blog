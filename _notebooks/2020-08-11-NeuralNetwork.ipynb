{
 "cells": [
  {
   "cell_type": "markdown",
   "id": "fitted-suggestion",
   "metadata": {
    "papermill": {
     "duration": 0.037684,
     "end_time": "2021-04-20T20:11:24.263759",
     "exception": false,
     "start_time": "2021-04-20T20:11:24.226075",
     "status": "completed"
    },
    "tags": []
   },
   "source": [
    "# \"A Basic Neural Network: Differentiate Hand-Written Digits\"\n",
    "\n",
    "- badges: true\n",
    "- author: Akshith Sriram"
   ]
  },
  {
   "cell_type": "markdown",
   "id": "signal-flexibility",
   "metadata": {
    "papermill": {
     "duration": 0.030565,
     "end_time": "2021-04-20T20:11:24.327773",
     "exception": false,
     "start_time": "2021-04-20T20:11:24.297208",
     "status": "completed"
    },
    "tags": []
   },
   "source": [
    "### Key Objectives:\n",
    "- Building a neural network that differentiates two hand-written digits 3 and 8.\n",
    "- Comparing the results of this Neural Network (NN) to that of a Logistic Regression (LR) model.\n",
    "\n",
    "### Requirements:\n",
    "- 'Kudzu' : A neural network library that was designed during our course by [Univ.AI](www.univ.ai). \n",
    "- MNIST Database\n",
    "\n",
    "If MNIST is not installed, use the command `!pip install mnist` given below.\n",
    "It can be run both from the command line and Jupyter Notebook."
   ]
  },
  {
   "cell_type": "code",
   "execution_count": 1,
   "id": "british-texture",
   "metadata": {
    "execution": {
     "iopub.execute_input": "2021-04-20T20:11:24.399576Z",
     "iopub.status.busy": "2021-04-20T20:11:24.399000Z",
     "iopub.status.idle": "2021-04-20T20:11:25.979590Z",
     "shell.execute_reply": "2021-04-20T20:11:25.978647Z"
    },
    "papermill": {
     "duration": 1.621284,
     "end_time": "2021-04-20T20:11:25.979780",
     "exception": false,
     "start_time": "2021-04-20T20:11:24.358496",
     "status": "completed"
    },
    "tags": []
   },
   "outputs": [
    {
     "name": "stdout",
     "output_type": "stream",
     "text": [
      "Collecting mnist\r\n"
     ]
    },
    {
     "name": "stdout",
     "output_type": "stream",
     "text": [
      "  Downloading mnist-0.2.2-py2.py3-none-any.whl (3.5 kB)\r\n",
      "Requirement already satisfied: numpy in /opt/hostedtoolcache/Python/3.6.13/x64/lib/python3.6/site-packages (from mnist) (1.19.5)\r\n"
     ]
    },
    {
     "name": "stdout",
     "output_type": "stream",
     "text": [
      "Installing collected packages: mnist\r\n"
     ]
    },
    {
     "name": "stdout",
     "output_type": "stream",
     "text": [
      "Successfully installed mnist-0.2.2\r\n"
     ]
    }
   ],
   "source": [
    "!pip install mnist "
   ]
  },
  {
   "cell_type": "markdown",
   "id": "stunning-extra",
   "metadata": {
    "papermill": {
     "duration": 0.033348,
     "end_time": "2021-04-20T20:11:26.046527",
     "exception": false,
     "start_time": "2021-04-20T20:11:26.013179",
     "status": "completed"
    },
    "tags": []
   },
   "source": [
    "#### Importing necessary libraries"
   ]
  },
  {
   "cell_type": "code",
   "execution_count": 2,
   "id": "wooden-france",
   "metadata": {
    "execution": {
     "iopub.execute_input": "2021-04-20T20:11:26.118617Z",
     "iopub.status.busy": "2021-04-20T20:11:26.118039Z",
     "iopub.status.idle": "2021-04-20T20:11:26.705890Z",
     "shell.execute_reply": "2021-04-20T20:11:26.704972Z"
    },
    "papermill": {
     "duration": 0.626315,
     "end_time": "2021-04-20T20:11:26.706020",
     "exception": false,
     "start_time": "2021-04-20T20:11:26.079705",
     "status": "completed"
    },
    "tags": []
   },
   "outputs": [],
   "source": [
    "%load_ext autoreload\n",
    "%autoreload 2\n",
    "\n",
    "%matplotlib inline\n",
    "import matplotlib.pyplot as plt\n",
    "\n",
    "import numpy as np\n",
    "import pandas as pd"
   ]
  },
  {
   "cell_type": "markdown",
   "id": "stunning-physics",
   "metadata": {
    "papermill": {
     "duration": 0.031189,
     "end_time": "2021-04-20T20:11:26.770235",
     "exception": false,
     "start_time": "2021-04-20T20:11:26.739046",
     "status": "completed"
    },
    "tags": []
   },
   "source": [
    "### Preparing the Data"
   ]
  },
  {
   "cell_type": "code",
   "execution_count": 3,
   "id": "unauthorized-remainder",
   "metadata": {
    "execution": {
     "iopub.execute_input": "2021-04-20T20:11:26.846798Z",
     "iopub.status.busy": "2021-04-20T20:11:26.840492Z",
     "iopub.status.idle": "2021-04-20T20:11:26.854528Z",
     "shell.execute_reply": "2021-04-20T20:11:26.853789Z"
    },
    "papermill": {
     "duration": 0.050257,
     "end_time": "2021-04-20T20:11:26.854652",
     "exception": false,
     "start_time": "2021-04-20T20:11:26.804395",
     "status": "completed"
    },
    "tags": []
   },
   "outputs": [],
   "source": [
    "import mnist"
   ]
  },
  {
   "cell_type": "code",
   "execution_count": 4,
   "id": "correct-antarctica",
   "metadata": {
    "execution": {
     "iopub.execute_input": "2021-04-20T20:11:26.930130Z",
     "iopub.status.busy": "2021-04-20T20:11:26.929578Z",
     "iopub.status.idle": "2021-04-20T20:16:07.635863Z",
     "shell.execute_reply": "2021-04-20T20:16:07.635347Z"
    },
    "papermill": {
     "duration": 280.747201,
     "end_time": "2021-04-20T20:16:07.636003",
     "exception": false,
     "start_time": "2021-04-20T20:11:26.888802",
     "status": "completed"
    },
    "tags": []
   },
   "outputs": [],
   "source": [
    "train_images = mnist.train_images()\n",
    "train_labels = mnist.train_labels()"
   ]
  },
  {
   "cell_type": "code",
   "execution_count": 5,
   "id": "musical-prospect",
   "metadata": {
    "execution": {
     "iopub.execute_input": "2021-04-20T20:16:07.701301Z",
     "iopub.status.busy": "2021-04-20T20:16:07.700674Z",
     "iopub.status.idle": "2021-04-20T20:16:07.714324Z",
     "shell.execute_reply": "2021-04-20T20:16:07.714860Z"
    },
    "papermill": {
     "duration": 0.047529,
     "end_time": "2021-04-20T20:16:07.714976",
     "exception": false,
     "start_time": "2021-04-20T20:16:07.667447",
     "status": "completed"
    },
    "tags": []
   },
   "outputs": [
    {
     "data": {
      "text/plain": [
       "((60000, 28, 28), (60000,))"
      ]
     },
     "execution_count": 5,
     "metadata": {},
     "output_type": "execute_result"
    }
   ],
   "source": [
    "train_images.shape, train_labels.shape"
   ]
  },
  {
   "cell_type": "code",
   "execution_count": 6,
   "id": "preliminary-elizabeth",
   "metadata": {
    "execution": {
     "iopub.execute_input": "2021-04-20T20:16:07.782077Z",
     "iopub.status.busy": "2021-04-20T20:16:07.781508Z",
     "iopub.status.idle": "2021-04-20T20:16:57.830683Z",
     "shell.execute_reply": "2021-04-20T20:16:57.831175Z"
    },
    "papermill": {
     "duration": 50.083581,
     "end_time": "2021-04-20T20:16:57.831378",
     "exception": false,
     "start_time": "2021-04-20T20:16:07.747797",
     "status": "completed"
    },
    "tags": []
   },
   "outputs": [],
   "source": [
    "test_images = mnist.test_images()\n",
    "test_labels = mnist.test_labels()"
   ]
  },
  {
   "cell_type": "code",
   "execution_count": 7,
   "id": "acknowledged-oxygen",
   "metadata": {
    "execution": {
     "iopub.execute_input": "2021-04-20T20:16:57.897415Z",
     "iopub.status.busy": "2021-04-20T20:16:57.895957Z",
     "iopub.status.idle": "2021-04-20T20:16:57.910388Z",
     "shell.execute_reply": "2021-04-20T20:16:57.909874Z"
    },
    "papermill": {
     "duration": 0.04837,
     "end_time": "2021-04-20T20:16:57.910491",
     "exception": false,
     "start_time": "2021-04-20T20:16:57.862121",
     "status": "completed"
    },
    "tags": []
   },
   "outputs": [
    {
     "data": {
      "text/plain": [
       "((10000, 28, 28), (10000,))"
      ]
     },
     "execution_count": 7,
     "metadata": {},
     "output_type": "execute_result"
    }
   ],
   "source": [
    "test_images.shape, test_labels.shape"
   ]
  },
  {
   "cell_type": "code",
   "execution_count": 8,
   "id": "innovative-organic",
   "metadata": {
    "execution": {
     "iopub.execute_input": "2021-04-20T20:16:57.988804Z",
     "iopub.status.busy": "2021-04-20T20:16:57.987256Z",
     "iopub.status.idle": "2021-04-20T20:16:58.167624Z",
     "shell.execute_reply": "2021-04-20T20:16:58.168099Z"
    },
    "papermill": {
     "duration": 0.220909,
     "end_time": "2021-04-20T20:16:58.168258",
     "exception": false,
     "start_time": "2021-04-20T20:16:57.947349",
     "status": "completed"
    },
    "tags": []
   },
   "outputs": [
    {
     "name": "stdout",
     "output_type": "stream",
     "text": [
      "2\n"
     ]
    },
    {
     "data": {
      "text/plain": [
       "<matplotlib.image.AxesImage at 0x7f794d445a20>"
      ]
     },
     "execution_count": 8,
     "metadata": {},
     "output_type": "execute_result"
    },
    {
     "data": {
      "image/png": "[encoded data removed]",
      "text/plain": [
       "<Figure size 432x288 with 1 Axes>"
      ]
     },
     "metadata": {
      "needs_background": "light"
     },
     "output_type": "display_data"
    }
   ],
   "source": [
    "image_index = 7776 # You may select anything up to 60,000\n",
    "print(train_labels[image_index]) \n",
    "plt.imshow(train_images[image_index], cmap='Greys')"
   ]
  },
  {
   "cell_type": "markdown",
   "id": "facial-modem",
   "metadata": {
    "papermill": {
     "duration": 0.033691,
     "end_time": "2021-04-20T20:16:58.235469",
     "exception": false,
     "start_time": "2021-04-20T20:16:58.201778",
     "status": "completed"
    },
    "tags": []
   },
   "source": [
    "## Filter data to get 3 and 8 out"
   ]
  },
  {
   "cell_type": "code",
   "execution_count": 9,
   "id": "thousand-acquisition",
   "metadata": {
    "execution": {
     "iopub.execute_input": "2021-04-20T20:16:58.305998Z",
     "iopub.status.busy": "2021-04-20T20:16:58.304787Z",
     "iopub.status.idle": "2021-04-20T20:16:58.326882Z",
     "shell.execute_reply": "2021-04-20T20:16:58.327366Z"
    },
    "papermill": {
     "duration": 0.059461,
     "end_time": "2021-04-20T20:16:58.327500",
     "exception": false,
     "start_time": "2021-04-20T20:16:58.268039",
     "status": "completed"
    },
    "tags": []
   },
   "outputs": [],
   "source": [
    "train_filter = np.where((train_labels == 3 ) | (train_labels == 8))\n",
    "test_filter = np.where((test_labels == 3) | (test_labels == 8))\n",
    "X_train, y_train = train_images[train_filter], train_labels[train_filter]\n",
    "X_test, y_test = test_images[test_filter], test_labels[test_filter]"
   ]
  },
  {
   "cell_type": "markdown",
   "id": "ruled-access",
   "metadata": {
    "papermill": {
     "duration": 0.030618,
     "end_time": "2021-04-20T20:16:58.389757",
     "exception": false,
     "start_time": "2021-04-20T20:16:58.359139",
     "status": "completed"
    },
    "tags": []
   },
   "source": [
    "We normalize the pixel values in the 0 to 1 range"
   ]
  },
  {
   "cell_type": "code",
   "execution_count": 10,
   "id": "isolated-denver",
   "metadata": {
    "execution": {
     "iopub.execute_input": "2021-04-20T20:16:58.460168Z",
     "iopub.status.busy": "2021-04-20T20:16:58.459592Z",
     "iopub.status.idle": "2021-04-20T20:16:58.520471Z",
     "shell.execute_reply": "2021-04-20T20:16:58.520030Z"
    },
    "papermill": {
     "duration": 0.100263,
     "end_time": "2021-04-20T20:16:58.520605",
     "exception": false,
     "start_time": "2021-04-20T20:16:58.420342",
     "status": "completed"
    },
    "tags": []
   },
   "outputs": [],
   "source": [
    "X_train = X_train/255.\n",
    "X_test = X_test/255."
   ]
  },
  {
   "cell_type": "markdown",
   "id": "perfect-summary",
   "metadata": {
    "papermill": {
     "duration": 0.030959,
     "end_time": "2021-04-20T20:16:58.586420",
     "exception": false,
     "start_time": "2021-04-20T20:16:58.555461",
     "status": "completed"
    },
    "tags": []
   },
   "source": [
    "Setup the labels as 1 (when the digit is 3) and 0 (when the digit is 8)"
   ]
  },
  {
   "cell_type": "code",
   "execution_count": 11,
   "id": "personalized-growing",
   "metadata": {
    "execution": {
     "iopub.execute_input": "2021-04-20T20:16:58.654772Z",
     "iopub.status.busy": "2021-04-20T20:16:58.654158Z",
     "iopub.status.idle": "2021-04-20T20:16:58.667341Z",
     "shell.execute_reply": "2021-04-20T20:16:58.668067Z"
    },
    "papermill": {
     "duration": 0.052221,
     "end_time": "2021-04-20T20:16:58.668193",
     "exception": false,
     "start_time": "2021-04-20T20:16:58.615972",
     "status": "completed"
    },
    "tags": []
   },
   "outputs": [],
   "source": [
    "y_train = 1*(y_train==3)\n",
    "y_test = 1*(y_test==3)"
   ]
  },
  {
   "cell_type": "code",
   "execution_count": 12,
   "id": "considered-virgin",
   "metadata": {
    "execution": {
     "iopub.execute_input": "2021-04-20T20:16:58.742708Z",
     "iopub.status.busy": "2021-04-20T20:16:58.740737Z",
     "iopub.status.idle": "2021-04-20T20:16:58.754071Z",
     "shell.execute_reply": "2021-04-20T20:16:58.754517Z"
    },
    "papermill": {
     "duration": 0.052168,
     "end_time": "2021-04-20T20:16:58.754642",
     "exception": false,
     "start_time": "2021-04-20T20:16:58.702474",
     "status": "completed"
    },
    "tags": []
   },
   "outputs": [
    {
     "data": {
      "text/plain": [
       "((11982, 28, 28), (1984, 28, 28))"
      ]
     },
     "execution_count": 12,
     "metadata": {},
     "output_type": "execute_result"
    }
   ],
   "source": [
    "X_train.shape, X_test.shape"
   ]
  },
  {
   "cell_type": "markdown",
   "id": "civilian-mobile",
   "metadata": {
    "papermill": {
     "duration": 0.030344,
     "end_time": "2021-04-20T20:16:58.815797",
     "exception": false,
     "start_time": "2021-04-20T20:16:58.785453",
     "status": "completed"
    },
    "tags": []
   },
   "source": [
    "### Reshape the input data to create a linear array"
   ]
  },
  {
   "cell_type": "code",
   "execution_count": 13,
   "id": "colonial-adams",
   "metadata": {
    "execution": {
     "iopub.execute_input": "2021-04-20T20:16:58.889835Z",
     "iopub.status.busy": "2021-04-20T20:16:58.889321Z",
     "iopub.status.idle": "2021-04-20T20:16:58.899486Z",
     "shell.execute_reply": "2021-04-20T20:16:58.900009Z"
    },
    "papermill": {
     "duration": 0.051047,
     "end_time": "2021-04-20T20:16:58.900157",
     "exception": false,
     "start_time": "2021-04-20T20:16:58.849110",
     "status": "completed"
    },
    "tags": []
   },
   "outputs": [
    {
     "data": {
      "text/plain": [
       "((11982, 784), (1984, 784))"
      ]
     },
     "execution_count": 13,
     "metadata": {},
     "output_type": "execute_result"
    }
   ],
   "source": [
    "X_train = X_train.reshape(X_train.shape[0], -1)\n",
    "X_test = X_test.reshape(X_test.shape[0], -1)\n",
    "X_train.shape, X_test.shape"
   ]
  },
  {
   "cell_type": "markdown",
   "id": "smart-details",
   "metadata": {
    "papermill": {
     "duration": 0.031918,
     "end_time": "2021-04-20T20:16:58.964204",
     "exception": false,
     "start_time": "2021-04-20T20:16:58.932286",
     "status": "completed"
    },
    "tags": []
   },
   "source": [
    "### Importing appropriate functions from 'Kudzu'"
   ]
  },
  {
   "cell_type": "code",
   "execution_count": 14,
   "id": "celtic-trial",
   "metadata": {
    "execution": {
     "iopub.execute_input": "2021-04-20T20:16:59.035370Z",
     "iopub.status.busy": "2021-04-20T20:16:59.034764Z",
     "iopub.status.idle": "2021-04-20T20:16:59.052832Z",
     "shell.execute_reply": "2021-04-20T20:16:59.052311Z"
    },
    "papermill": {
     "duration": 0.057415,
     "end_time": "2021-04-20T20:16:59.052952",
     "exception": false,
     "start_time": "2021-04-20T20:16:58.995537",
     "status": "completed"
    },
    "tags": []
   },
   "outputs": [],
   "source": [
    "from kudzu.layer import Sigmoid\n",
    "from kudzu.layer import Relu\n",
    "from kudzu.layer import Affine, Sigmoid\n",
    "\n",
    "from kudzu.model import Model\n",
    "from kudzu.train import Learner\n",
    "from kudzu.optim import GD\n",
    "from kudzu.data import Data, Dataloader, Sampler\n",
    "\n",
    "from kudzu.callbacks import AccCallback\n",
    "from kudzu.callbacks import ClfCallback\n",
    "\n",
    "from kudzu.loss import MSE"
   ]
  },
  {
   "cell_type": "markdown",
   "id": "coupled-customer",
   "metadata": {
    "papermill": {
     "duration": 0.03323,
     "end_time": "2021-04-20T20:16:59.125539",
     "exception": false,
     "start_time": "2021-04-20T20:16:59.092309",
     "status": "completed"
    },
    "tags": []
   },
   "source": [
    "### Let us create a `Config` class, to store important parameters. \n",
    "This class essentially plays the role of a dictionary."
   ]
  },
  {
   "cell_type": "code",
   "execution_count": 15,
   "id": "young-ceiling",
   "metadata": {
    "execution": {
     "iopub.execute_input": "2021-04-20T20:16:59.204073Z",
     "iopub.status.busy": "2021-04-20T20:16:59.203491Z",
     "iopub.status.idle": "2021-04-20T20:16:59.219384Z",
     "shell.execute_reply": "2021-04-20T20:16:59.219895Z"
    },
    "papermill": {
     "duration": 0.056612,
     "end_time": "2021-04-20T20:16:59.220112",
     "exception": false,
     "start_time": "2021-04-20T20:16:59.163500",
     "status": "completed"
    },
    "tags": []
   },
   "outputs": [],
   "source": [
    "class Config:\n",
    "    pass\n",
    "config = Config()\n",
    "config.lr = 0.001\n",
    "config.num_epochs = 251\n",
    "config.bs = 50"
   ]
  },
  {
   "cell_type": "markdown",
   "id": "according-mandate",
   "metadata": {
    "papermill": {
     "duration": 0.032507,
     "end_time": "2021-04-20T20:16:59.288186",
     "exception": false,
     "start_time": "2021-04-20T20:16:59.255679",
     "status": "completed"
    },
    "tags": []
   },
   "source": [
    "### Initializing data to the variables"
   ]
  },
  {
   "cell_type": "code",
   "execution_count": 16,
   "id": "academic-disposition",
   "metadata": {
    "execution": {
     "iopub.execute_input": "2021-04-20T20:16:59.369203Z",
     "iopub.status.busy": "2021-04-20T20:16:59.368585Z",
     "iopub.status.idle": "2021-04-20T20:16:59.379677Z",
     "shell.execute_reply": "2021-04-20T20:16:59.380260Z"
    },
    "papermill": {
     "duration": 0.054461,
     "end_time": "2021-04-20T20:16:59.380437",
     "exception": false,
     "start_time": "2021-04-20T20:16:59.325976",
     "status": "completed"
    },
    "tags": []
   },
   "outputs": [],
   "source": [
    "data = Data(X_train, y_train.reshape(-1,1))\n",
    "sampler = Sampler(data, config.bs, shuffle=True)\n",
    "\n",
    "dl = Dataloader(data, sampler)\n",
    "\n",
    "opt = GD(config.lr)\n",
    "loss = MSE()"
   ]
  },
  {
   "cell_type": "code",
   "execution_count": 17,
   "id": "featured-commission",
   "metadata": {
    "execution": {
     "iopub.execute_input": "2021-04-20T20:16:59.455332Z",
     "iopub.status.busy": "2021-04-20T20:16:59.454750Z",
     "iopub.status.idle": "2021-04-20T20:16:59.469130Z",
     "shell.execute_reply": "2021-04-20T20:16:59.469718Z"
    },
    "papermill": {
     "duration": 0.053361,
     "end_time": "2021-04-20T20:16:59.469869",
     "exception": false,
     "start_time": "2021-04-20T20:16:59.416508",
     "status": "completed"
    },
    "tags": []
   },
   "outputs": [],
   "source": [
    "training_xdata = X_train\n",
    "testing_xdata = X_test\n",
    "training_ydata = y_train.reshape(-1,1)\n",
    "testing_ydata = y_test.reshape(-1,1)"
   ]
  },
  {
   "cell_type": "markdown",
   "id": "played-safety",
   "metadata": {
    "papermill": {
     "duration": 0.035968,
     "end_time": "2021-04-20T20:16:59.540494",
     "exception": false,
     "start_time": "2021-04-20T20:16:59.504526",
     "status": "completed"
    },
    "tags": []
   },
   "source": [
    "### Running Models with the Training data\n",
    "Details about the network layers:\n",
    "- A first affine layer has 784 inputs and does 100 affine transforms. These are followed by a Relu\n",
    "- A second affine layer has 100 inputs from the 100 activations of the past layer, and does 100 affine transforms. These are followed by a Relu\n",
    "- A third affine layer has 100 activations and does 2 affine transformations to create an embedding for visualization. There is no non-linearity here.\n",
    "- A final \"logistic regression\" which has an affine transform from 2 inputs to 1 output, which is squeezed through a sigmoid.\n",
    "\n",
    "Help taken from Anshuman's Notebook."
   ]
  },
  {
   "cell_type": "code",
   "execution_count": 18,
   "id": "asian-bankruptcy",
   "metadata": {
    "execution": {
     "iopub.execute_input": "2021-04-20T20:16:59.615594Z",
     "iopub.status.busy": "2021-04-20T20:16:59.614898Z",
     "iopub.status.idle": "2021-04-20T20:16:59.631636Z",
     "shell.execute_reply": "2021-04-20T20:16:59.631149Z"
    },
    "papermill": {
     "duration": 0.056936,
     "end_time": "2021-04-20T20:16:59.631751",
     "exception": false,
     "start_time": "2021-04-20T20:16:59.574815",
     "status": "completed"
    },
    "tags": []
   },
   "outputs": [],
   "source": [
    "# layers for the Neural Network\n",
    "layers = [Affine(\"first\", 784, 100), Relu(\"first\"), Affine(\"second\", 100, 100), Relu(\"second\"), Affine(\"third\", 100, 2), Affine(\"final\", 2, 1), Sigmoid(\"final\")]\n",
    "model_nn = Model(layers)\n",
    "\n",
    "# layers for the Logistic Regression\n",
    "layers_lr = [Affine(\"logits\", 784, 1), Sigmoid(\"sigmoid\")]\n",
    "model_lr = Model(layers_lr)"
   ]
  },
  {
   "cell_type": "code",
   "execution_count": 19,
   "id": "removed-butler",
   "metadata": {
    "execution": {
     "iopub.execute_input": "2021-04-20T20:16:59.724594Z",
     "iopub.status.busy": "2021-04-20T20:16:59.723240Z",
     "iopub.status.idle": "2021-04-20T20:16:59.735932Z",
     "shell.execute_reply": "2021-04-20T20:16:59.734923Z"
    },
    "papermill": {
     "duration": 0.054471,
     "end_time": "2021-04-20T20:16:59.736147",
     "exception": false,
     "start_time": "2021-04-20T20:16:59.681676",
     "status": "completed"
    },
    "tags": []
   },
   "outputs": [],
   "source": [
    "# suffix _nn stands for Neural Network.\n",
    "learner_nn = Learner(loss, model_nn, opt, config.num_epochs)\n",
    "acc_nn = ClfCallback(learner_nn, config.bs, training_xdata , testing_xdata, training_ydata, testing_ydata)\n",
    "learner_nn.set_callbacks([acc_nn])"
   ]
  },
  {
   "cell_type": "code",
   "execution_count": 20,
   "id": "conceptual-throw",
   "metadata": {
    "execution": {
     "iopub.execute_input": "2021-04-20T20:16:59.815848Z",
     "iopub.status.busy": "2021-04-20T20:16:59.815314Z",
     "iopub.status.idle": "2021-04-20T20:19:21.157492Z",
     "shell.execute_reply": "2021-04-20T20:19:21.158193Z"
    },
    "papermill": {
     "duration": 141.386767,
     "end_time": "2021-04-20T20:19:21.158362",
     "exception": false,
     "start_time": "2021-04-20T20:16:59.771595",
     "status": "completed"
    },
    "tags": []
   },
   "outputs": [
    {
     "name": "stdout",
     "output_type": "stream",
     "text": [
      "====== Neural Network ======\n"
     ]
    },
    {
     "name": "stdout",
     "output_type": "stream",
     "text": [
      "Epoch 0, Loss 0.2497\n",
      "Training Accuracy: 0.5699, Testing Accuracy: 0.5776\n",
      "\n"
     ]
    },
    {
     "name": "stdout",
     "output_type": "stream",
     "text": [
      "Epoch 10, Loss 0.1932\n",
      "Training Accuracy: 0.8712, Testing Accuracy: 0.8846\n",
      "\n"
     ]
    },
    {
     "name": "stdout",
     "output_type": "stream",
     "text": [
      "Epoch 20, Loss 0.0985\n",
      "Training Accuracy: 0.9084, Testing Accuracy: 0.9173\n",
      "\n"
     ]
    },
    {
     "name": "stdout",
     "output_type": "stream",
     "text": [
      "Epoch 30, Loss 0.0627\n",
      "Training Accuracy: 0.9337, Testing Accuracy: 0.9441\n",
      "\n"
     ]
    },
    {
     "name": "stdout",
     "output_type": "stream",
     "text": [
      "Epoch 40, Loss 0.0488\n",
      "Training Accuracy: 0.9458, Testing Accuracy: 0.9561\n",
      "\n"
     ]
    },
    {
     "name": "stdout",
     "output_type": "stream",
     "text": [
      "Epoch 50, Loss 0.0415\n",
      "Training Accuracy: 0.9526, Testing Accuracy: 0.9622\n",
      "\n"
     ]
    },
    {
     "name": "stdout",
     "output_type": "stream",
     "text": [
      "Epoch 60, Loss 0.037\n",
      "Training Accuracy: 0.9572, Testing Accuracy: 0.9652\n",
      "\n"
     ]
    },
    {
     "name": "stdout",
     "output_type": "stream",
     "text": [
      "Epoch 70, Loss 0.0339\n",
      "Training Accuracy: 0.9614, Testing Accuracy: 0.9677\n",
      "\n"
     ]
    },
    {
     "name": "stdout",
     "output_type": "stream",
     "text": [
      "Epoch 80, Loss 0.0315\n",
      "Training Accuracy: 0.9643, Testing Accuracy: 0.9682\n",
      "\n"
     ]
    },
    {
     "name": "stdout",
     "output_type": "stream",
     "text": [
      "Epoch 90, Loss 0.0297\n",
      "Training Accuracy: 0.9659, Testing Accuracy: 0.9703\n",
      "\n"
     ]
    },
    {
     "name": "stdout",
     "output_type": "stream",
     "text": [
      "Epoch 100, Loss 0.0282\n",
      "Training Accuracy: 0.9671, Testing Accuracy: 0.9718\n",
      "\n"
     ]
    },
    {
     "name": "stdout",
     "output_type": "stream",
     "text": [
      "Epoch 110, Loss 0.027\n",
      "Training Accuracy: 0.9688, Testing Accuracy: 0.9718\n",
      "\n"
     ]
    },
    {
     "name": "stdout",
     "output_type": "stream",
     "text": [
      "Epoch 120, Loss 0.0259\n",
      "Training Accuracy: 0.9697, Testing Accuracy: 0.9713\n",
      "\n"
     ]
    },
    {
     "name": "stdout",
     "output_type": "stream",
     "text": [
      "Epoch 130, Loss 0.025\n",
      "Training Accuracy: 0.9711, Testing Accuracy: 0.9713\n",
      "\n"
     ]
    },
    {
     "name": "stdout",
     "output_type": "stream",
     "text": [
      "Epoch 140, Loss 0.0242\n",
      "Training Accuracy: 0.9721, Testing Accuracy: 0.9718\n",
      "\n"
     ]
    },
    {
     "name": "stdout",
     "output_type": "stream",
     "text": [
      "Epoch 150, Loss 0.0234\n",
      "Training Accuracy: 0.9725, Testing Accuracy: 0.9718\n",
      "\n"
     ]
    },
    {
     "name": "stdout",
     "output_type": "stream",
     "text": [
      "Epoch 160, Loss 0.0228\n",
      "Training Accuracy: 0.9736, Testing Accuracy: 0.9718\n",
      "\n"
     ]
    },
    {
     "name": "stdout",
     "output_type": "stream",
     "text": [
      "Epoch 170, Loss 0.0221\n",
      "Training Accuracy: 0.9747, Testing Accuracy: 0.9728\n",
      "\n"
     ]
    },
    {
     "name": "stdout",
     "output_type": "stream",
     "text": [
      "Epoch 180, Loss 0.0216\n",
      "Training Accuracy: 0.9755, Testing Accuracy: 0.9723\n",
      "\n"
     ]
    },
    {
     "name": "stdout",
     "output_type": "stream",
     "text": [
      "Epoch 190, Loss 0.021\n",
      "Training Accuracy: 0.9762, Testing Accuracy: 0.9723\n",
      "\n"
     ]
    },
    {
     "name": "stdout",
     "output_type": "stream",
     "text": [
      "Epoch 200, Loss 0.0205\n",
      "Training Accuracy: 0.9765, Testing Accuracy: 0.9738\n",
      "\n"
     ]
    },
    {
     "name": "stdout",
     "output_type": "stream",
     "text": [
      "Epoch 210, Loss 0.0201\n",
      "Training Accuracy: 0.9770, Testing Accuracy: 0.9738\n",
      "\n"
     ]
    },
    {
     "name": "stdout",
     "output_type": "stream",
     "text": [
      "Epoch 220, Loss 0.0196\n",
      "Training Accuracy: 0.9773, Testing Accuracy: 0.9743\n",
      "\n"
     ]
    },
    {
     "name": "stdout",
     "output_type": "stream",
     "text": [
      "Epoch 230, Loss 0.0192\n",
      "Training Accuracy: 0.9781, Testing Accuracy: 0.9743\n",
      "\n"
     ]
    },
    {
     "name": "stdout",
     "output_type": "stream",
     "text": [
      "Epoch 240, Loss 0.0188\n",
      "Training Accuracy: 0.9784, Testing Accuracy: 0.9743\n",
      "\n"
     ]
    },
    {
     "name": "stdout",
     "output_type": "stream",
     "text": [
      "Epoch 250, Loss 0.0184\n",
      "Training Accuracy: 0.9796, Testing Accuracy: 0.9743\n",
      "\n"
     ]
    },
    {
     "data": {
      "text/plain": [
       "0.01495151852323779"
      ]
     },
     "execution_count": 20,
     "metadata": {},
     "output_type": "execute_result"
    }
   ],
   "source": [
    "print(\"====== Neural Network ======\")\n",
    "learner_nn.train_loop(dl)"
   ]
  },
  {
   "cell_type": "markdown",
   "id": "competent-suffering",
   "metadata": {
    "papermill": {
     "duration": 0.045191,
     "end_time": "2021-04-20T20:19:21.248377",
     "exception": false,
     "start_time": "2021-04-20T20:19:21.203186",
     "status": "completed"
    },
    "tags": []
   },
   "source": [
    "### Logistic Regression based Implementation."
   ]
  },
  {
   "cell_type": "code",
   "execution_count": 21,
   "id": "qualified-psychiatry",
   "metadata": {
    "execution": {
     "iopub.execute_input": "2021-04-20T20:19:21.349838Z",
     "iopub.status.busy": "2021-04-20T20:19:21.345960Z",
     "iopub.status.idle": "2021-04-20T20:19:21.359806Z",
     "shell.execute_reply": "2021-04-20T20:19:21.360302Z"
    },
    "papermill": {
     "duration": 0.068037,
     "end_time": "2021-04-20T20:19:21.360433",
     "exception": false,
     "start_time": "2021-04-20T20:19:21.292396",
     "status": "completed"
    },
    "tags": []
   },
   "outputs": [],
   "source": [
    "learner_lr = Learner(loss, model_lr, opt, config.num_epochs)\n",
    "acc_lr = ClfCallback(learner_lr, config.bs, training_xdata , testing_xdata, training_ydata, testing_ydata)\n",
    "learner_lr.set_callbacks([acc_lr])"
   ]
  },
  {
   "cell_type": "code",
   "execution_count": 22,
   "id": "average-outside",
   "metadata": {
    "execution": {
     "iopub.execute_input": "2021-04-20T20:19:21.447579Z",
     "iopub.status.busy": "2021-04-20T20:19:21.446431Z",
     "iopub.status.idle": "2021-04-20T20:19:41.378260Z",
     "shell.execute_reply": "2021-04-20T20:19:41.379036Z"
    },
    "papermill": {
     "duration": 19.978489,
     "end_time": "2021-04-20T20:19:41.379181",
     "exception": false,
     "start_time": "2021-04-20T20:19:21.400692",
     "status": "completed"
    },
    "tags": []
   },
   "outputs": [
    {
     "name": "stdout",
     "output_type": "stream",
     "text": [
      "====== Logistic Regression ======\n",
      "Epoch 0, Loss 0.2542\n",
      "Training Accuracy: 0.6461, Testing Accuracy: 0.6588\n",
      "\n"
     ]
    },
    {
     "name": "stdout",
     "output_type": "stream",
     "text": [
      "Epoch 10, Loss 0.1029\n",
      "Training Accuracy: 0.9091, Testing Accuracy: 0.9239\n",
      "\n"
     ]
    },
    {
     "name": "stdout",
     "output_type": "stream",
     "text": [
      "Epoch 20, Loss 0.0792\n",
      "Training Accuracy: 0.9256, Testing Accuracy: 0.9420\n",
      "\n"
     ]
    },
    {
     "name": "stdout",
     "output_type": "stream",
     "text": [
      "Epoch 30, Loss 0.0683\n",
      "Training Accuracy: 0.9352, Testing Accuracy: 0.9521\n",
      "\n"
     ]
    },
    {
     "name": "stdout",
     "output_type": "stream",
     "text": [
      "Epoch 40, Loss 0.0617\n",
      "Training Accuracy: 0.9405, Testing Accuracy: 0.9541\n",
      "\n"
     ]
    },
    {
     "name": "stdout",
     "output_type": "stream",
     "text": [
      "Epoch 50, Loss 0.0572\n",
      "Training Accuracy: 0.9431, Testing Accuracy: 0.9572\n",
      "\n"
     ]
    },
    {
     "name": "stdout",
     "output_type": "stream",
     "text": [
      "Epoch 60, Loss 0.0539\n",
      "Training Accuracy: 0.9459, Testing Accuracy: 0.9587\n",
      "\n"
     ]
    },
    {
     "name": "stdout",
     "output_type": "stream",
     "text": [
      "Epoch 70, Loss 0.0513\n",
      "Training Accuracy: 0.9492, Testing Accuracy: 0.9597\n",
      "\n"
     ]
    },
    {
     "name": "stdout",
     "output_type": "stream",
     "text": [
      "Epoch 80, Loss 0.0493\n",
      "Training Accuracy: 0.9507, Testing Accuracy: 0.9607\n",
      "\n"
     ]
    },
    {
     "name": "stdout",
     "output_type": "stream",
     "text": [
      "Epoch 90, Loss 0.0476\n",
      "Training Accuracy: 0.9520, Testing Accuracy: 0.9627\n",
      "\n"
     ]
    },
    {
     "name": "stdout",
     "output_type": "stream",
     "text": [
      "Epoch 100, Loss 0.0462\n",
      "Training Accuracy: 0.9528, Testing Accuracy: 0.9652\n",
      "\n"
     ]
    },
    {
     "name": "stdout",
     "output_type": "stream",
     "text": [
      "Epoch 110, Loss 0.0449\n",
      "Training Accuracy: 0.9536, Testing Accuracy: 0.9647\n",
      "\n"
     ]
    },
    {
     "name": "stdout",
     "output_type": "stream",
     "text": [
      "Epoch 120, Loss 0.0439\n",
      "Training Accuracy: 0.9552, Testing Accuracy: 0.9652\n",
      "\n"
     ]
    },
    {
     "name": "stdout",
     "output_type": "stream",
     "text": [
      "Epoch 130, Loss 0.0429\n",
      "Training Accuracy: 0.9563, Testing Accuracy: 0.9647\n",
      "\n"
     ]
    },
    {
     "name": "stdout",
     "output_type": "stream",
     "text": [
      "Epoch 140, Loss 0.0421\n",
      "Training Accuracy: 0.9572, Testing Accuracy: 0.9652\n",
      "\n"
     ]
    },
    {
     "name": "stdout",
     "output_type": "stream",
     "text": [
      "Epoch 150, Loss 0.0414\n",
      "Training Accuracy: 0.9576, Testing Accuracy: 0.9652\n",
      "\n"
     ]
    },
    {
     "name": "stdout",
     "output_type": "stream",
     "text": [
      "Epoch 160, Loss 0.0407\n",
      "Training Accuracy: 0.9584, Testing Accuracy: 0.9662\n",
      "\n"
     ]
    },
    {
     "name": "stdout",
     "output_type": "stream",
     "text": [
      "Epoch 170, Loss 0.0401\n",
      "Training Accuracy: 0.9586, Testing Accuracy: 0.9662\n",
      "\n"
     ]
    },
    {
     "name": "stdout",
     "output_type": "stream",
     "text": [
      "Epoch 180, Loss 0.0395\n",
      "Training Accuracy: 0.9592, Testing Accuracy: 0.9662\n",
      "\n"
     ]
    },
    {
     "name": "stdout",
     "output_type": "stream",
     "text": [
      "Epoch 190, Loss 0.039\n",
      "Training Accuracy: 0.9594, Testing Accuracy: 0.9662\n",
      "\n"
     ]
    },
    {
     "name": "stdout",
     "output_type": "stream",
     "text": [
      "Epoch 200, Loss 0.0385\n",
      "Training Accuracy: 0.9596, Testing Accuracy: 0.9657\n",
      "\n"
     ]
    },
    {
     "name": "stdout",
     "output_type": "stream",
     "text": [
      "Epoch 210, Loss 0.0381\n",
      "Training Accuracy: 0.9601, Testing Accuracy: 0.9662\n",
      "\n"
     ]
    },
    {
     "name": "stdout",
     "output_type": "stream",
     "text": [
      "Epoch 220, Loss 0.0377\n",
      "Training Accuracy: 0.9603, Testing Accuracy: 0.9667\n",
      "\n"
     ]
    },
    {
     "name": "stdout",
     "output_type": "stream",
     "text": [
      "Epoch 230, Loss 0.0373\n",
      "Training Accuracy: 0.9604, Testing Accuracy: 0.9667\n",
      "\n"
     ]
    },
    {
     "name": "stdout",
     "output_type": "stream",
     "text": [
      "Epoch 240, Loss 0.0369\n",
      "Training Accuracy: 0.9608, Testing Accuracy: 0.9672\n",
      "\n"
     ]
    },
    {
     "name": "stdout",
     "output_type": "stream",
     "text": [
      "Epoch 250, Loss 0.0366\n",
      "Training Accuracy: 0.9611, Testing Accuracy: 0.9677\n",
      "\n"
     ]
    },
    {
     "data": {
      "text/plain": [
       "0.07991728252648037"
      ]
     },
     "execution_count": 22,
     "metadata": {},
     "output_type": "execute_result"
    }
   ],
   "source": [
    "print(\"====== Logistic Regression ======\")\n",
    "learner_lr.train_loop(dl)"
   ]
  },
  {
   "cell_type": "markdown",
   "id": "adjusted-possible",
   "metadata": {
    "papermill": {
     "duration": 0.067626,
     "end_time": "2021-04-20T20:19:41.505134",
     "exception": false,
     "start_time": "2021-04-20T20:19:41.437508",
     "status": "completed"
    },
    "tags": []
   },
   "source": [
    "### Comparing results of NN and LR"
   ]
  },
  {
   "cell_type": "code",
   "execution_count": 23,
   "id": "mental-multimedia",
   "metadata": {
    "execution": {
     "iopub.execute_input": "2021-04-20T20:19:41.626340Z",
     "iopub.status.busy": "2021-04-20T20:19:41.625670Z",
     "iopub.status.idle": "2021-04-20T20:19:41.909040Z",
     "shell.execute_reply": "2021-04-20T20:19:41.908111Z"
    },
    "papermill": {
     "duration": 0.34768,
     "end_time": "2021-04-20T20:19:41.909174",
     "exception": false,
     "start_time": "2021-04-20T20:19:41.561494",
     "status": "completed"
    },
    "tags": []
   },
   "outputs": [
    {
     "data": {
      "text/plain": [
       "<matplotlib.legend.Legend at 0x7f7944fa64e0>"
      ]
     },
     "execution_count": 23,
     "metadata": {},
     "output_type": "execute_result"
    },
    {
     "data": {
      "image/png": "[encoded data removed]",
      "text/plain": [
       "<Figure size 1080x720 with 1 Axes>"
      ]
     },
     "metadata": {
      "needs_background": "light"
     },
     "output_type": "display_data"
    }
   ],
   "source": [
    "plt.figure(figsize=(15,10))\n",
    "\n",
    "# Neural Network plots\n",
    "plt.plot(acc_nn.accuracies, 'r-', label = \"Training Accuracies - NN\")\n",
    "plt.plot(acc_nn.test_accuracies, 'g-', label = \"Testing Accuracies - NN\")\n",
    "\n",
    "# Logistic Regression plots\n",
    "plt.plot(acc_lr.accuracies, 'k-', label = \"Training Accuracies - LR\")\n",
    "plt.plot(acc_lr.test_accuracies, 'b-', label = \"Testing Accuracies - LR\")\n",
    "\n",
    "plt.ylim(0.8, 1)\n",
    "\n",
    "plt.legend()\n",
    "\n"
   ]
  },
  {
   "cell_type": "markdown",
   "id": "sexual-flesh",
   "metadata": {
    "papermill": {
     "duration": 0.058198,
     "end_time": "2021-04-20T20:19:42.025331",
     "exception": false,
     "start_time": "2021-04-20T20:19:41.967133",
     "status": "completed"
    },
    "tags": []
   },
   "source": [
    "### From the plot, we can observe the following:\n",
    "- Neural Network achieves higher accuracy than the Logistic Regression model.\n",
    "- This apparently, is because of overfitting, i.e. NN captures more noise than data.\n",
    "- Testing accuracy of NN drops below the Training accuracy at higher epochs. This explains the over-fitting on training data.\n",
    "- Logistic Regression gives a reliable accuracy, without the above mentioned problem.\n"
   ]
  },
  {
   "cell_type": "markdown",
   "id": "institutional-pacific",
   "metadata": {
    "papermill": {
     "duration": 0.058297,
     "end_time": "2021-04-20T20:19:42.139541",
     "exception": false,
     "start_time": "2021-04-20T20:19:42.081244",
     "status": "completed"
    },
    "tags": []
   },
   "source": [
    "### Moving till the last but one layer (excluding it).\n",
    "#### Plotting the outputs of this layer of the NN."
   ]
  },
  {
   "cell_type": "code",
   "execution_count": 24,
   "id": "economic-server",
   "metadata": {
    "execution": {
     "iopub.execute_input": "2021-04-20T20:19:42.261769Z",
     "iopub.status.busy": "2021-04-20T20:19:42.259011Z",
     "iopub.status.idle": "2021-04-20T20:19:42.272165Z",
     "shell.execute_reply": "2021-04-20T20:19:42.272682Z"
    },
    "papermill": {
     "duration": 0.075952,
     "end_time": "2021-04-20T20:19:42.272814",
     "exception": false,
     "start_time": "2021-04-20T20:19:42.196862",
     "status": "completed"
    },
    "tags": []
   },
   "outputs": [],
   "source": [
    "model_new = Model(layers[:-2])"
   ]
  },
  {
   "cell_type": "code",
   "execution_count": 25,
   "id": "varied-upgrade",
   "metadata": {
    "execution": {
     "iopub.execute_input": "2021-04-20T20:19:42.395030Z",
     "iopub.status.busy": "2021-04-20T20:19:42.393964Z",
     "iopub.status.idle": "2021-04-20T20:19:42.422972Z",
     "shell.execute_reply": "2021-04-20T20:19:42.423526Z"
    },
    "papermill": {
     "duration": 0.093272,
     "end_time": "2021-04-20T20:19:42.423680",
     "exception": false,
     "start_time": "2021-04-20T20:19:42.330408",
     "status": "completed"
    },
    "tags": []
   },
   "outputs": [],
   "source": [
    "plot_testing = model_new(testing_xdata)"
   ]
  },
  {
   "cell_type": "code",
   "execution_count": 26,
   "id": "specific-handling",
   "metadata": {
    "execution": {
     "iopub.execute_input": "2021-04-20T20:19:42.548364Z",
     "iopub.status.busy": "2021-04-20T20:19:42.547654Z",
     "iopub.status.idle": "2021-04-20T20:19:42.805649Z",
     "shell.execute_reply": "2021-04-20T20:19:42.805048Z"
    },
    "papermill": {
     "duration": 0.323888,
     "end_time": "2021-04-20T20:19:42.805784",
     "exception": false,
     "start_time": "2021-04-20T20:19:42.481896",
     "status": "completed"
    },
    "tags": []
   },
   "outputs": [
    {
     "data": {
      "text/plain": [
       "Text(0.5, 1.0, 'Outputs')"
      ]
     },
     "execution_count": 26,
     "metadata": {},
     "output_type": "execute_result"
    },
    {
     "data": {
      "image/png": "[encoded data removed]",
      "text/plain": [
       "<Figure size 576x504 with 1 Axes>"
      ]
     },
     "metadata": {
      "needs_background": "light"
     },
     "output_type": "display_data"
    }
   ],
   "source": [
    "plt.figure(figsize=(8,7))\n",
    "plt.scatter(plot_testing[:,0], plot_testing[:,1], alpha = 0.1, c = y_test.ravel());\n",
    "plt.title('Outputs')"
   ]
  },
  {
   "cell_type": "markdown",
   "id": "described-knowing",
   "metadata": {
    "papermill": {
     "duration": 0.079792,
     "end_time": "2021-04-20T20:19:42.948005",
     "exception": false,
     "start_time": "2021-04-20T20:19:42.868213",
     "status": "completed"
    },
    "tags": []
   },
   "source": [
    "### Plotting probability contours"
   ]
  },
  {
   "cell_type": "code",
   "execution_count": 27,
   "id": "needed-growing",
   "metadata": {
    "execution": {
     "iopub.execute_input": "2021-04-20T20:19:43.073603Z",
     "iopub.status.busy": "2021-04-20T20:19:43.073014Z",
     "iopub.status.idle": "2021-04-20T20:19:43.084904Z",
     "shell.execute_reply": "2021-04-20T20:19:43.085412Z"
    },
    "papermill": {
     "duration": 0.079039,
     "end_time": "2021-04-20T20:19:43.085548",
     "exception": false,
     "start_time": "2021-04-20T20:19:43.006509",
     "status": "completed"
    },
    "tags": []
   },
   "outputs": [],
   "source": [
    "model_prob = Model(layers[-2:]) "
   ]
  },
  {
   "cell_type": "code",
   "execution_count": 28,
   "id": "introductory-enforcement",
   "metadata": {
    "execution": {
     "iopub.execute_input": "2021-04-20T20:19:43.213615Z",
     "iopub.status.busy": "2021-04-20T20:19:43.212973Z",
     "iopub.status.idle": "2021-04-20T20:19:43.227228Z",
     "shell.execute_reply": "2021-04-20T20:19:43.227689Z"
    },
    "papermill": {
     "duration": 0.080879,
     "end_time": "2021-04-20T20:19:43.227836",
     "exception": false,
     "start_time": "2021-04-20T20:19:43.146957",
     "status": "completed"
    },
    "tags": []
   },
   "outputs": [],
   "source": [
    "# Adjust the x and y ranges according to the above generated plot.\n",
    "x_range = np.linspace(-4, 1, 100) \n",
    "y_range = np.linspace(-6, 6, 100) \n",
    "x_grid, y_grid = np.meshgrid(x_range, y_range) # x_grid and y_grig are of size 100 X 100\n",
    "\n",
    "# converting x_grid and y_grid to continuous arrays\n",
    "x_grid_flat = np.ravel(x_grid)\n",
    "y_grid_flat = np.ravel(y_grid)\n",
    "\n",
    "# The last layer of the current model takes two columns as input. Hence transpose of np.vstack() is required.\n",
    "X = np.vstack((x_grid_flat, y_grid_flat)).T\n",
    "\n",
    "# x_grid and y_grid are of size 100 x 100\n",
    "probability_contour = model_prob(X).reshape(100,100) "
   ]
  },
  {
   "cell_type": "code",
   "execution_count": 29,
   "id": "understood-landing",
   "metadata": {
    "execution": {
     "iopub.execute_input": "2021-04-20T20:19:43.354082Z",
     "iopub.status.busy": "2021-04-20T20:19:43.353478Z",
     "iopub.status.idle": "2021-04-20T20:19:43.660092Z",
     "shell.execute_reply": "2021-04-20T20:19:43.659188Z"
    },
    "papermill": {
     "duration": 0.372287,
     "end_time": "2021-04-20T20:19:43.660251",
     "exception": false,
     "start_time": "2021-04-20T20:19:43.287964",
     "status": "completed"
    },
    "tags": []
   },
   "outputs": [
    {
     "data": {
      "image/png": "[encoded data removed]",
      "text/plain": [
       "<Figure size 720x648 with 1 Axes>"
      ]
     },
     "metadata": {
      "needs_background": "light"
     },
     "output_type": "display_data"
    }
   ],
   "source": [
    "plt.figure(figsize=(10,9))\n",
    "plt.scatter(plot_testing[:,0], plot_testing[:,1], alpha = 0.1, c = y_test.ravel())\n",
    "contours = plt.contour(x_grid,y_grid,probability_contour)\n",
    "plt.title('Probability Contours')\n",
    "plt.clabel(contours, inline = True );"
   ]
  }
 ],
 "metadata": {
  "kernelspec": {
   "display_name": "Python 3",
   "language": "python",
   "name": "python3"
  },
  "language_info": {
   "codemirror_mode": {
    "name": "ipython",
    "version": 3
   },
   "file_extension": ".py",
   "mimetype": "text/x-python",
   "name": "python",
   "nbconvert_exporter": "python",
   "pygments_lexer": "ipython3",
   "version": "3.6.13"
  },
  "papermill": {
   "duration": 501.203473,
   "end_time": "2021-04-20T20:19:44.146063",
   "environment_variables": {},
   "exception": null,
   "input_path": "2020-08-11-NeuralNetwork.ipynb",
   "output_path": "2020-08-11-NeuralNetwork.ipynb",
   "parameters": {},
   "start_time": "2021-04-20T20:11:22.942590",
   "version": "2.1.2"
  }
 },
 "nbformat": 4,
 "nbformat_minor": 5
}