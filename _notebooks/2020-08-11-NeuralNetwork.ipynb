{
 "cells": [
  {
   "cell_type": "markdown",
   "metadata": {
    "papermill": {
     "duration": 0.031236,
     "end_time": "2020-11-06T10:04:21.019657",
     "exception": false,
     "start_time": "2020-11-06T10:04:20.988421",
     "status": "completed"
    },
    "tags": []
   },
   "source": [
    "# \"A Basic Neural Network: Differentiate Hand-Written Digits\"\n",
    "\n",
    "- badges: true\n",
    "- author: Akshith Sriram"
   ]
  },
  {
   "cell_type": "markdown",
   "metadata": {
    "papermill": {
     "duration": 0.024802,
     "end_time": "2020-11-06T10:04:21.070272",
     "exception": false,
     "start_time": "2020-11-06T10:04:21.045470",
     "status": "completed"
    },
    "tags": []
   },
   "source": [
    "### Key Objectives:\n",
    "- Building a neural network that differentiates two hand-written digits 3 and 8.\n",
    "- Comparing the results of this Neural Network (NN) to that of a Logistic Regression (LR) model.\n",
    "\n",
    "### Requirements:\n",
    "- 'Kudzu' : A neural network library that was designed during our course by [Univ.AI](www.univ.ai). \n",
    "- MNIST Database\n",
    "\n",
    "If MNIST is not installed, use the command `!pip install mnist` given below.\n",
    "It can be run both from the command line and Jupyter Notebook."
   ]
  },
  {
   "cell_type": "code",
   "execution_count": 1,
   "metadata": {
    "execution": {
     "iopub.execute_input": "2020-11-06T10:04:21.124893Z",
     "iopub.status.busy": "2020-11-06T10:04:21.124264Z",
     "iopub.status.idle": "2020-11-06T10:04:23.145306Z",
     "shell.execute_reply": "2020-11-06T10:04:23.144284Z"
    },
    "papermill": {
     "duration": 2.050276,
     "end_time": "2020-11-06T10:04:23.145472",
     "exception": false,
     "start_time": "2020-11-06T10:04:21.095196",
     "status": "completed"
    },
    "tags": []
   },
   "outputs": [
    {
     "name": "stdout",
     "output_type": "stream",
     "text": [
      "Collecting mnist\r\n"
     ]
    },
    {
     "name": "stdout",
     "output_type": "stream",
     "text": [
      "  Downloading mnist-0.2.2-py2.py3-none-any.whl (3.5 kB)\r\n"
     ]
    },
    {
     "name": "stdout",
     "output_type": "stream",
     "text": [
      "Requirement already satisfied: numpy in /opt/hostedtoolcache/Python/3.6.12/x64/lib/python3.6/site-packages (from mnist) (1.19.4)\r\n"
     ]
    },
    {
     "name": "stdout",
     "output_type": "stream",
     "text": [
      "Installing collected packages: mnist\r\n"
     ]
    },
    {
     "name": "stdout",
     "output_type": "stream",
     "text": [
      "Successfully installed mnist-0.2.2\r\n"
     ]
    }
   ],
   "source": [
    "!pip install mnist "
   ]
  },
  {
   "cell_type": "markdown",
   "metadata": {
    "papermill": {
     "duration": 0.026289,
     "end_time": "2020-11-06T10:04:23.198594",
     "exception": false,
     "start_time": "2020-11-06T10:04:23.172305",
     "status": "completed"
    },
    "tags": []
   },
   "source": [
    "#### Importing necessary libraries"
   ]
  },
  {
   "cell_type": "code",
   "execution_count": 2,
   "metadata": {
    "execution": {
     "iopub.execute_input": "2020-11-06T10:04:23.261559Z",
     "iopub.status.busy": "2020-11-06T10:04:23.260967Z",
     "iopub.status.idle": "2020-11-06T10:04:23.843064Z",
     "shell.execute_reply": "2020-11-06T10:04:23.842191Z"
    },
    "papermill": {
     "duration": 0.617146,
     "end_time": "2020-11-06T10:04:23.843285",
     "exception": false,
     "start_time": "2020-11-06T10:04:23.226139",
     "status": "completed"
    },
    "tags": []
   },
   "outputs": [],
   "source": [
    "%load_ext autoreload\n",
    "%autoreload 2\n",
    "\n",
    "%matplotlib inline\n",
    "import matplotlib.pyplot as plt\n",
    "\n",
    "import numpy as np\n",
    "import pandas as pd"
   ]
  },
  {
   "cell_type": "markdown",
   "metadata": {
    "papermill": {
     "duration": 0.026163,
     "end_time": "2020-11-06T10:04:23.897669",
     "exception": false,
     "start_time": "2020-11-06T10:04:23.871506",
     "status": "completed"
    },
    "tags": []
   },
   "source": [
    "### Preparing the Data"
   ]
  },
  {
   "cell_type": "code",
   "execution_count": 3,
   "metadata": {
    "execution": {
     "iopub.execute_input": "2020-11-06T10:04:23.961855Z",
     "iopub.status.busy": "2020-11-06T10:04:23.958534Z",
     "iopub.status.idle": "2020-11-06T10:04:23.969415Z",
     "shell.execute_reply": "2020-11-06T10:04:23.968905Z"
    },
    "papermill": {
     "duration": 0.045653,
     "end_time": "2020-11-06T10:04:23.969547",
     "exception": false,
     "start_time": "2020-11-06T10:04:23.923894",
     "status": "completed"
    },
    "tags": []
   },
   "outputs": [],
   "source": [
    "import mnist"
   ]
  },
  {
   "cell_type": "code",
   "execution_count": 4,
   "metadata": {
    "execution": {
     "iopub.execute_input": "2020-11-06T10:04:24.037514Z",
     "iopub.status.busy": "2020-11-06T10:04:24.036606Z",
     "iopub.status.idle": "2020-11-06T10:04:24.768709Z",
     "shell.execute_reply": "2020-11-06T10:04:24.768134Z"
    },
    "papermill": {
     "duration": 0.772948,
     "end_time": "2020-11-06T10:04:24.768863",
     "exception": false,
     "start_time": "2020-11-06T10:04:23.995915",
     "status": "completed"
    },
    "tags": []
   },
   "outputs": [],
   "source": [
    "train_images = mnist.train_images()\n",
    "train_labels = mnist.train_labels()"
   ]
  },
  {
   "cell_type": "code",
   "execution_count": 5,
   "metadata": {
    "execution": {
     "iopub.execute_input": "2020-11-06T10:04:24.830348Z",
     "iopub.status.busy": "2020-11-06T10:04:24.829766Z",
     "iopub.status.idle": "2020-11-06T10:04:24.846228Z",
     "shell.execute_reply": "2020-11-06T10:04:24.847052Z"
    },
    "papermill": {
     "duration": 0.048751,
     "end_time": "2020-11-06T10:04:24.847286",
     "exception": false,
     "start_time": "2020-11-06T10:04:24.798535",
     "status": "completed"
    },
    "tags": []
   },
   "outputs": [
    {
     "data": {
      "text/plain": [
       "((60000, 28, 28), (60000,))"
      ]
     },
     "execution_count": 5,
     "metadata": {},
     "output_type": "execute_result"
    }
   ],
   "source": [
    "train_images.shape, train_labels.shape"
   ]
  },
  {
   "cell_type": "code",
   "execution_count": 6,
   "metadata": {
    "execution": {
     "iopub.execute_input": "2020-11-06T10:04:24.909374Z",
     "iopub.status.busy": "2020-11-06T10:04:24.908783Z",
     "iopub.status.idle": "2020-11-06T10:04:25.144445Z",
     "shell.execute_reply": "2020-11-06T10:04:25.143857Z"
    },
    "papermill": {
     "duration": 0.269951,
     "end_time": "2020-11-06T10:04:25.144589",
     "exception": false,
     "start_time": "2020-11-06T10:04:24.874638",
     "status": "completed"
    },
    "tags": []
   },
   "outputs": [],
   "source": [
    "test_images = mnist.test_images()\n",
    "test_labels = mnist.test_labels()"
   ]
  },
  {
   "cell_type": "code",
   "execution_count": 7,
   "metadata": {
    "execution": {
     "iopub.execute_input": "2020-11-06T10:04:25.202563Z",
     "iopub.status.busy": "2020-11-06T10:04:25.201969Z",
     "iopub.status.idle": "2020-11-06T10:04:25.216102Z",
     "shell.execute_reply": "2020-11-06T10:04:25.216699Z"
    },
    "papermill": {
     "duration": 0.045392,
     "end_time": "2020-11-06T10:04:25.216851",
     "exception": false,
     "start_time": "2020-11-06T10:04:25.171459",
     "status": "completed"
    },
    "tags": []
   },
   "outputs": [
    {
     "data": {
      "text/plain": [
       "((10000, 28, 28), (10000,))"
      ]
     },
     "execution_count": 7,
     "metadata": {},
     "output_type": "execute_result"
    }
   ],
   "source": [
    "test_images.shape, test_labels.shape"
   ]
  },
  {
   "cell_type": "code",
   "execution_count": 8,
   "metadata": {
    "execution": {
     "iopub.execute_input": "2020-11-06T10:04:25.274342Z",
     "iopub.status.busy": "2020-11-06T10:04:25.273761Z",
     "iopub.status.idle": "2020-11-06T10:04:25.422760Z",
     "shell.execute_reply": "2020-11-06T10:04:25.422229Z"
    },
    "papermill": {
     "duration": 0.178958,
     "end_time": "2020-11-06T10:04:25.422906",
     "exception": false,
     "start_time": "2020-11-06T10:04:25.243948",
     "status": "completed"
    },
    "tags": []
   },
   "outputs": [
    {
     "name": "stdout",
     "output_type": "stream",
     "text": [
      "2\n"
     ]
    },
    {
     "data": {
      "text/plain": [
       "<matplotlib.image.AxesImage at 0x7fc5582233c8>"
      ]
     },
     "execution_count": 8,
     "metadata": {},
     "output_type": "execute_result"
    },
    {
     "data": {
      "image/png": "[encoded data removed]",
      "text/plain": [
       "<Figure size 432x288 with 1 Axes>"
      ]
     },
     "metadata": {
      "needs_background": "light"
     },
     "output_type": "display_data"
    }
   ],
   "source": [
    "image_index = 7776 # You may select anything up to 60,000\n",
    "print(train_labels[image_index]) \n",
    "plt.imshow(train_images[image_index], cmap='Greys')"
   ]
  },
  {
   "cell_type": "markdown",
   "metadata": {
    "papermill": {
     "duration": 0.028082,
     "end_time": "2020-11-06T10:04:25.479758",
     "exception": false,
     "start_time": "2020-11-06T10:04:25.451676",
     "status": "completed"
    },
    "tags": []
   },
   "source": [
    "## Filter data to get 3 and 8 out"
   ]
  },
  {
   "cell_type": "code",
   "execution_count": 9,
   "metadata": {
    "execution": {
     "iopub.execute_input": "2020-11-06T10:04:25.541707Z",
     "iopub.status.busy": "2020-11-06T10:04:25.541110Z",
     "iopub.status.idle": "2020-11-06T10:04:25.559372Z",
     "shell.execute_reply": "2020-11-06T10:04:25.558877Z"
    },
    "papermill": {
     "duration": 0.051839,
     "end_time": "2020-11-06T10:04:25.559505",
     "exception": false,
     "start_time": "2020-11-06T10:04:25.507666",
     "status": "completed"
    },
    "tags": []
   },
   "outputs": [],
   "source": [
    "train_filter = np.where((train_labels == 3 ) | (train_labels == 8))\n",
    "test_filter = np.where((test_labels == 3) | (test_labels == 8))\n",
    "X_train, y_train = train_images[train_filter], train_labels[train_filter]\n",
    "X_test, y_test = test_images[test_filter], test_labels[test_filter]"
   ]
  },
  {
   "cell_type": "markdown",
   "metadata": {
    "papermill": {
     "duration": 0.027831,
     "end_time": "2020-11-06T10:04:25.615514",
     "exception": false,
     "start_time": "2020-11-06T10:04:25.587683",
     "status": "completed"
    },
    "tags": []
   },
   "source": [
    "We normalize the pixel values in the 0 to 1 range"
   ]
  },
  {
   "cell_type": "code",
   "execution_count": 10,
   "metadata": {
    "execution": {
     "iopub.execute_input": "2020-11-06T10:04:25.675276Z",
     "iopub.status.busy": "2020-11-06T10:04:25.674694Z",
     "iopub.status.idle": "2020-11-06T10:04:25.727625Z",
     "shell.execute_reply": "2020-11-06T10:04:25.726737Z"
    },
    "papermill": {
     "duration": 0.084238,
     "end_time": "2020-11-06T10:04:25.727838",
     "exception": false,
     "start_time": "2020-11-06T10:04:25.643600",
     "status": "completed"
    },
    "tags": []
   },
   "outputs": [],
   "source": [
    "X_train = X_train/255.\n",
    "X_test = X_test/255."
   ]
  },
  {
   "cell_type": "markdown",
   "metadata": {
    "papermill": {
     "duration": 0.02824,
     "end_time": "2020-11-06T10:04:25.785872",
     "exception": false,
     "start_time": "2020-11-06T10:04:25.757632",
     "status": "completed"
    },
    "tags": []
   },
   "source": [
    "Setup the labels as 1 (when the digit is 3) and 0 (when the digit is 8)"
   ]
  },
  {
   "cell_type": "code",
   "execution_count": 11,
   "metadata": {
    "execution": {
     "iopub.execute_input": "2020-11-06T10:04:25.846086Z",
     "iopub.status.busy": "2020-11-06T10:04:25.845469Z",
     "iopub.status.idle": "2020-11-06T10:04:25.858415Z",
     "shell.execute_reply": "2020-11-06T10:04:25.857914Z"
    },
    "papermill": {
     "duration": 0.044627,
     "end_time": "2020-11-06T10:04:25.858539",
     "exception": false,
     "start_time": "2020-11-06T10:04:25.813912",
     "status": "completed"
    },
    "tags": []
   },
   "outputs": [],
   "source": [
    "y_train = 1*(y_train==3)\n",
    "y_test = 1*(y_test==3)"
   ]
  },
  {
   "cell_type": "code",
   "execution_count": 12,
   "metadata": {
    "execution": {
     "iopub.execute_input": "2020-11-06T10:04:25.922915Z",
     "iopub.status.busy": "2020-11-06T10:04:25.922316Z",
     "iopub.status.idle": "2020-11-06T10:04:25.936400Z",
     "shell.execute_reply": "2020-11-06T10:04:25.935883Z"
    },
    "papermill": {
     "duration": 0.049565,
     "end_time": "2020-11-06T10:04:25.936526",
     "exception": false,
     "start_time": "2020-11-06T10:04:25.886961",
     "status": "completed"
    },
    "tags": []
   },
   "outputs": [
    {
     "data": {
      "text/plain": [
       "((11982, 28, 28), (1984, 28, 28))"
      ]
     },
     "execution_count": 12,
     "metadata": {},
     "output_type": "execute_result"
    }
   ],
   "source": [
    "X_train.shape, X_test.shape"
   ]
  },
  {
   "cell_type": "markdown",
   "metadata": {
    "papermill": {
     "duration": 0.028649,
     "end_time": "2020-11-06T10:04:25.993957",
     "exception": false,
     "start_time": "2020-11-06T10:04:25.965308",
     "status": "completed"
    },
    "tags": []
   },
   "source": [
    "### Reshape the input data to create a linear array"
   ]
  },
  {
   "cell_type": "code",
   "execution_count": 13,
   "metadata": {
    "execution": {
     "iopub.execute_input": "2020-11-06T10:04:26.056916Z",
     "iopub.status.busy": "2020-11-06T10:04:26.056293Z",
     "iopub.status.idle": "2020-11-06T10:04:26.070252Z",
     "shell.execute_reply": "2020-11-06T10:04:26.069775Z"
    },
    "papermill": {
     "duration": 0.047664,
     "end_time": "2020-11-06T10:04:26.070384",
     "exception": false,
     "start_time": "2020-11-06T10:04:26.022720",
     "status": "completed"
    },
    "tags": []
   },
   "outputs": [
    {
     "data": {
      "text/plain": [
       "((11982, 784), (1984, 784))"
      ]
     },
     "execution_count": 13,
     "metadata": {},
     "output_type": "execute_result"
    }
   ],
   "source": [
    "X_train = X_train.reshape(X_train.shape[0], -1)\n",
    "X_test = X_test.reshape(X_test.shape[0], -1)\n",
    "X_train.shape, X_test.shape"
   ]
  },
  {
   "cell_type": "markdown",
   "metadata": {
    "papermill": {
     "duration": 0.028682,
     "end_time": "2020-11-06T10:04:26.127690",
     "exception": false,
     "start_time": "2020-11-06T10:04:26.099008",
     "status": "completed"
    },
    "tags": []
   },
   "source": [
    "### Importing appropriate functions from 'Kudzu'"
   ]
  },
  {
   "cell_type": "code",
   "execution_count": 14,
   "metadata": {
    "execution": {
     "iopub.execute_input": "2020-11-06T10:04:26.191322Z",
     "iopub.status.busy": "2020-11-06T10:04:26.190741Z",
     "iopub.status.idle": "2020-11-06T10:04:26.210702Z",
     "shell.execute_reply": "2020-11-06T10:04:26.211147Z"
    },
    "papermill": {
     "duration": 0.054618,
     "end_time": "2020-11-06T10:04:26.211291",
     "exception": false,
     "start_time": "2020-11-06T10:04:26.156673",
     "status": "completed"
    },
    "tags": []
   },
   "outputs": [],
   "source": [
    "from kudzu.layer import Sigmoid\n",
    "from kudzu.layer import Relu\n",
    "from kudzu.layer import Affine, Sigmoid\n",
    "\n",
    "from kudzu.model import Model\n",
    "from kudzu.train import Learner\n",
    "from kudzu.optim import GD\n",
    "from kudzu.data import Data, Dataloader, Sampler\n",
    "\n",
    "from kudzu.callbacks import AccCallback\n",
    "from kudzu.callbacks import ClfCallback\n",
    "\n",
    "from kudzu.loss import MSE"
   ]
  },
  {
   "cell_type": "markdown",
   "metadata": {
    "papermill": {
     "duration": 0.02969,
     "end_time": "2020-11-06T10:04:26.269650",
     "exception": false,
     "start_time": "2020-11-06T10:04:26.239960",
     "status": "completed"
    },
    "tags": []
   },
   "source": [
    "### Let us create a `Config` class, to store important parameters. \n",
    "This class essentially plays the role of a dictionary."
   ]
  },
  {
   "cell_type": "code",
   "execution_count": 15,
   "metadata": {
    "execution": {
     "iopub.execute_input": "2020-11-06T10:04:26.333970Z",
     "iopub.status.busy": "2020-11-06T10:04:26.333390Z",
     "iopub.status.idle": "2020-11-06T10:04:26.346237Z",
     "shell.execute_reply": "2020-11-06T10:04:26.345741Z"
    },
    "papermill": {
     "duration": 0.04488,
     "end_time": "2020-11-06T10:04:26.346357",
     "exception": false,
     "start_time": "2020-11-06T10:04:26.301477",
     "status": "completed"
    },
    "tags": []
   },
   "outputs": [],
   "source": [
    "class Config:\n",
    "    pass\n",
    "config = Config()\n",
    "config.lr = 0.001\n",
    "config.num_epochs = 251\n",
    "config.bs = 50"
   ]
  },
  {
   "cell_type": "markdown",
   "metadata": {
    "papermill": {
     "duration": 0.028375,
     "end_time": "2020-11-06T10:04:26.403171",
     "exception": false,
     "start_time": "2020-11-06T10:04:26.374796",
     "status": "completed"
    },
    "tags": []
   },
   "source": [
    "### Initializing data to the variables"
   ]
  },
  {
   "cell_type": "code",
   "execution_count": 16,
   "metadata": {
    "execution": {
     "iopub.execute_input": "2020-11-06T10:04:26.465544Z",
     "iopub.status.busy": "2020-11-06T10:04:26.464963Z",
     "iopub.status.idle": "2020-11-06T10:04:26.479469Z",
     "shell.execute_reply": "2020-11-06T10:04:26.478998Z"
    },
    "papermill": {
     "duration": 0.047995,
     "end_time": "2020-11-06T10:04:26.479595",
     "exception": false,
     "start_time": "2020-11-06T10:04:26.431600",
     "status": "completed"
    },
    "tags": []
   },
   "outputs": [],
   "source": [
    "data = Data(X_train, y_train.reshape(-1,1))\n",
    "sampler = Sampler(data, config.bs, shuffle=True)\n",
    "\n",
    "dl = Dataloader(data, sampler)\n",
    "\n",
    "opt = GD(config.lr)\n",
    "loss = MSE()"
   ]
  },
  {
   "cell_type": "code",
   "execution_count": 17,
   "metadata": {
    "execution": {
     "iopub.execute_input": "2020-11-06T10:04:26.540225Z",
     "iopub.status.busy": "2020-11-06T10:04:26.539648Z",
     "iopub.status.idle": "2020-11-06T10:04:26.552965Z",
     "shell.execute_reply": "2020-11-06T10:04:26.553522Z"
    },
    "papermill": {
     "duration": 0.045648,
     "end_time": "2020-11-06T10:04:26.553661",
     "exception": false,
     "start_time": "2020-11-06T10:04:26.508013",
     "status": "completed"
    },
    "tags": []
   },
   "outputs": [],
   "source": [
    "training_xdata = X_train\n",
    "testing_xdata = X_test\n",
    "training_ydata = y_train.reshape(-1,1)\n",
    "testing_ydata = y_test.reshape(-1,1)"
   ]
  },
  {
   "cell_type": "markdown",
   "metadata": {
    "papermill": {
     "duration": 0.028594,
     "end_time": "2020-11-06T10:04:26.611013",
     "exception": false,
     "start_time": "2020-11-06T10:04:26.582419",
     "status": "completed"
    },
    "tags": []
   },
   "source": [
    "### Running Models with the Training data\n",
    "Details about the network layers:\n",
    "- A first affine layer has 784 inputs and does 100 affine transforms. These are followed by a Relu\n",
    "- A second affine layer has 100 inputs from the 100 activations of the past layer, and does 100 affine transforms. These are followed by a Relu\n",
    "- A third affine layer has 100 activations and does 2 affine transformations to create an embedding for visualization. There is no non-linearity here.\n",
    "- A final \"logistic regression\" which has an affine transform from 2 inputs to 1 output, which is squeezed through a sigmoid.\n",
    "\n",
    "Help taken from Anshuman's Notebook."
   ]
  },
  {
   "cell_type": "code",
   "execution_count": 18,
   "metadata": {
    "execution": {
     "iopub.execute_input": "2020-11-06T10:04:26.674482Z",
     "iopub.status.busy": "2020-11-06T10:04:26.673882Z",
     "iopub.status.idle": "2020-11-06T10:04:26.694027Z",
     "shell.execute_reply": "2020-11-06T10:04:26.693541Z"
    },
    "papermill": {
     "duration": 0.054456,
     "end_time": "2020-11-06T10:04:26.694158",
     "exception": false,
     "start_time": "2020-11-06T10:04:26.639702",
     "status": "completed"
    },
    "tags": []
   },
   "outputs": [],
   "source": [
    "# layers for the Neural Network\n",
    "layers = [Affine(\"first\", 784, 100), Relu(\"first\"), Affine(\"second\", 100, 100), Relu(\"second\"), Affine(\"third\", 100, 2), Affine(\"final\", 2, 1), Sigmoid(\"final\")]\n",
    "model_nn = Model(layers)\n",
    "\n",
    "# layers for the Logistic Regression\n",
    "layers_lr = [Affine(\"logits\", 784, 1), Sigmoid(\"sigmoid\")]\n",
    "model_lr = Model(layers_lr)"
   ]
  },
  {
   "cell_type": "code",
   "execution_count": 19,
   "metadata": {
    "execution": {
     "iopub.execute_input": "2020-11-06T10:04:26.806506Z",
     "iopub.status.busy": "2020-11-06T10:04:26.805912Z",
     "iopub.status.idle": "2020-11-06T10:04:26.819886Z",
     "shell.execute_reply": "2020-11-06T10:04:26.819404Z"
    },
    "papermill": {
     "duration": 0.096674,
     "end_time": "2020-11-06T10:04:26.820019",
     "exception": false,
     "start_time": "2020-11-06T10:04:26.723345",
     "status": "completed"
    },
    "tags": []
   },
   "outputs": [],
   "source": [
    "# suffix _nn stands for Neural Network.\n",
    "learner_nn = Learner(loss, model_nn, opt, config.num_epochs)\n",
    "acc_nn = ClfCallback(learner_nn, config.bs, training_xdata , testing_xdata, training_ydata, testing_ydata)\n",
    "learner_nn.set_callbacks([acc_nn])"
   ]
  },
  {
   "cell_type": "code",
   "execution_count": 20,
   "metadata": {
    "execution": {
     "iopub.execute_input": "2020-11-06T10:04:27.200278Z",
     "iopub.status.busy": "2020-11-06T10:04:27.199256Z",
     "iopub.status.idle": "2020-11-06T10:05:53.524886Z",
     "shell.execute_reply": "2020-11-06T10:05:53.524306Z"
    },
    "papermill": {
     "duration": 86.378706,
     "end_time": "2020-11-06T10:05:53.525025",
     "exception": false,
     "start_time": "2020-11-06T10:04:27.146319",
     "status": "completed"
    },
    "tags": []
   },
   "outputs": [
    {
     "name": "stdout",
     "output_type": "stream",
     "text": [
      "====== Neural Network ======\n"
     ]
    },
    {
     "name": "stdout",
     "output_type": "stream",
     "text": [
      "Epoch 0, Loss 0.2221\n",
      "Training Accuracy: 0.7473, Testing Accuracy: 0.7434\n",
      "\n"
     ]
    },
    {
     "name": "stdout",
     "output_type": "stream",
     "text": [
      "Epoch 10, Loss 0.0681\n",
      "Training Accuracy: 0.9297, Testing Accuracy: 0.9380\n",
      "\n"
     ]
    },
    {
     "name": "stdout",
     "output_type": "stream",
     "text": [
      "Epoch 20, Loss 0.045\n",
      "Training Accuracy: 0.9524, Testing Accuracy: 0.9592\n",
      "\n"
     ]
    },
    {
     "name": "stdout",
     "output_type": "stream",
     "text": [
      "Epoch 30, Loss 0.0368\n",
      "Training Accuracy: 0.9600, Testing Accuracy: 0.9662\n",
      "\n"
     ]
    },
    {
     "name": "stdout",
     "output_type": "stream",
     "text": [
      "Epoch 40, Loss 0.0326\n",
      "Training Accuracy: 0.9637, Testing Accuracy: 0.9657\n",
      "\n"
     ]
    },
    {
     "name": "stdout",
     "output_type": "stream",
     "text": [
      "Epoch 50, Loss 0.0298\n",
      "Training Accuracy: 0.9669, Testing Accuracy: 0.9672\n",
      "\n"
     ]
    },
    {
     "name": "stdout",
     "output_type": "stream",
     "text": [
      "Epoch 60, Loss 0.0278\n",
      "Training Accuracy: 0.9687, Testing Accuracy: 0.9677\n",
      "\n"
     ]
    },
    {
     "name": "stdout",
     "output_type": "stream",
     "text": [
      "Epoch 70, Loss 0.0263\n",
      "Training Accuracy: 0.9700, Testing Accuracy: 0.9682\n",
      "\n"
     ]
    },
    {
     "name": "stdout",
     "output_type": "stream",
     "text": [
      "Epoch 80, Loss 0.0251\n",
      "Training Accuracy: 0.9714, Testing Accuracy: 0.9688\n",
      "\n"
     ]
    },
    {
     "name": "stdout",
     "output_type": "stream",
     "text": [
      "Epoch 90, Loss 0.024\n",
      "Training Accuracy: 0.9727, Testing Accuracy: 0.9688\n",
      "\n"
     ]
    },
    {
     "name": "stdout",
     "output_type": "stream",
     "text": [
      "Epoch 100, Loss 0.0231\n",
      "Training Accuracy: 0.9735, Testing Accuracy: 0.9688\n",
      "\n"
     ]
    },
    {
     "name": "stdout",
     "output_type": "stream",
     "text": [
      "Epoch 110, Loss 0.0223\n",
      "Training Accuracy: 0.9745, Testing Accuracy: 0.9693\n",
      "\n"
     ]
    },
    {
     "name": "stdout",
     "output_type": "stream",
     "text": [
      "Epoch 120, Loss 0.0215\n",
      "Training Accuracy: 0.9752, Testing Accuracy: 0.9703\n",
      "\n"
     ]
    },
    {
     "name": "stdout",
     "output_type": "stream",
     "text": [
      "Epoch 130, Loss 0.0208\n",
      "Training Accuracy: 0.9765, Testing Accuracy: 0.9713\n",
      "\n"
     ]
    },
    {
     "name": "stdout",
     "output_type": "stream",
     "text": [
      "Epoch 140, Loss 0.0202\n",
      "Training Accuracy: 0.9775, Testing Accuracy: 0.9718\n",
      "\n"
     ]
    },
    {
     "name": "stdout",
     "output_type": "stream",
     "text": [
      "Epoch 150, Loss 0.0197\n",
      "Training Accuracy: 0.9779, Testing Accuracy: 0.9718\n",
      "\n"
     ]
    },
    {
     "name": "stdout",
     "output_type": "stream",
     "text": [
      "Epoch 160, Loss 0.0191\n",
      "Training Accuracy: 0.9788, Testing Accuracy: 0.9718\n",
      "\n"
     ]
    },
    {
     "name": "stdout",
     "output_type": "stream",
     "text": [
      "Epoch 170, Loss 0.0186\n",
      "Training Accuracy: 0.9797, Testing Accuracy: 0.9723\n",
      "\n"
     ]
    },
    {
     "name": "stdout",
     "output_type": "stream",
     "text": [
      "Epoch 180, Loss 0.0181\n",
      "Training Accuracy: 0.9803, Testing Accuracy: 0.9738\n",
      "\n"
     ]
    },
    {
     "name": "stdout",
     "output_type": "stream",
     "text": [
      "Epoch 190, Loss 0.0176\n",
      "Training Accuracy: 0.9810, Testing Accuracy: 0.9753\n",
      "\n"
     ]
    },
    {
     "name": "stdout",
     "output_type": "stream",
     "text": [
      "Epoch 200, Loss 0.0172\n",
      "Training Accuracy: 0.9811, Testing Accuracy: 0.9753\n",
      "\n"
     ]
    },
    {
     "name": "stdout",
     "output_type": "stream",
     "text": [
      "Epoch 210, Loss 0.0168\n",
      "Training Accuracy: 0.9814, Testing Accuracy: 0.9753\n",
      "\n"
     ]
    },
    {
     "name": "stdout",
     "output_type": "stream",
     "text": [
      "Epoch 220, Loss 0.0164\n",
      "Training Accuracy: 0.9821, Testing Accuracy: 0.9758\n",
      "\n"
     ]
    },
    {
     "name": "stdout",
     "output_type": "stream",
     "text": [
      "Epoch 230, Loss 0.016\n",
      "Training Accuracy: 0.9828, Testing Accuracy: 0.9758\n",
      "\n"
     ]
    },
    {
     "name": "stdout",
     "output_type": "stream",
     "text": [
      "Epoch 240, Loss 0.0156\n",
      "Training Accuracy: 0.9831, Testing Accuracy: 0.9763\n",
      "\n"
     ]
    },
    {
     "name": "stdout",
     "output_type": "stream",
     "text": [
      "Epoch 250, Loss 0.0153\n",
      "Training Accuracy: 0.9840, Testing Accuracy: 0.9773\n",
      "\n"
     ]
    },
    {
     "data": {
      "text/plain": [
       "0.01042712224873567"
      ]
     },
     "execution_count": 20,
     "metadata": {},
     "output_type": "execute_result"
    }
   ],
   "source": [
    "print(\"====== Neural Network ======\")\n",
    "learner_nn.train_loop(dl)"
   ]
  },
  {
   "cell_type": "markdown",
   "metadata": {
    "papermill": {
     "duration": 0.03645,
     "end_time": "2020-11-06T10:05:53.598362",
     "exception": false,
     "start_time": "2020-11-06T10:05:53.561912",
     "status": "completed"
    },
    "tags": []
   },
   "source": [
    "### Logistic Regression based Implementation."
   ]
  },
  {
   "cell_type": "code",
   "execution_count": 21,
   "metadata": {
    "execution": {
     "iopub.execute_input": "2020-11-06T10:05:53.677852Z",
     "iopub.status.busy": "2020-11-06T10:05:53.677236Z",
     "iopub.status.idle": "2020-11-06T10:05:53.690224Z",
     "shell.execute_reply": "2020-11-06T10:05:53.690980Z"
    },
    "papermill": {
     "duration": 0.056404,
     "end_time": "2020-11-06T10:05:53.691132",
     "exception": false,
     "start_time": "2020-11-06T10:05:53.634728",
     "status": "completed"
    },
    "tags": []
   },
   "outputs": [],
   "source": [
    "learner_lr = Learner(loss, model_lr, opt, config.num_epochs)\n",
    "acc_lr = ClfCallback(learner_lr, config.bs, training_xdata , testing_xdata, training_ydata, testing_ydata)\n",
    "learner_lr.set_callbacks([acc_lr])"
   ]
  },
  {
   "cell_type": "code",
   "execution_count": 22,
   "metadata": {
    "execution": {
     "iopub.execute_input": "2020-11-06T10:05:53.769422Z",
     "iopub.status.busy": "2020-11-06T10:05:53.768805Z",
     "iopub.status.idle": "2020-11-06T10:06:09.157761Z",
     "shell.execute_reply": "2020-11-06T10:06:09.158520Z"
    },
    "papermill": {
     "duration": 15.429508,
     "end_time": "2020-11-06T10:06:09.158682",
     "exception": false,
     "start_time": "2020-11-06T10:05:53.729174",
     "status": "completed"
    },
    "tags": []
   },
   "outputs": [
    {
     "name": "stdout",
     "output_type": "stream",
     "text": [
      "====== Logistic Regression ======\n",
      "Epoch 0, Loss 0.2662\n",
      "Training Accuracy: 0.5815, Testing Accuracy: 0.5756\n",
      "\n"
     ]
    },
    {
     "name": "stdout",
     "output_type": "stream",
     "text": [
      "Epoch 10, Loss 0.1058\n",
      "Training Accuracy: 0.9048, Testing Accuracy: 0.9057\n",
      "\n"
     ]
    },
    {
     "name": "stdout",
     "output_type": "stream",
     "text": [
      "Epoch 20, Loss 0.0804\n",
      "Training Accuracy: 0.9262, Testing Accuracy: 0.9289\n",
      "\n"
     ]
    },
    {
     "name": "stdout",
     "output_type": "stream",
     "text": [
      "Epoch 30, Loss 0.0689\n",
      "Training Accuracy: 0.9354, Testing Accuracy: 0.9370\n",
      "\n"
     ]
    },
    {
     "name": "stdout",
     "output_type": "stream",
     "text": [
      "Epoch 40, Loss 0.062\n",
      "Training Accuracy: 0.9406, Testing Accuracy: 0.9446\n",
      "\n"
     ]
    },
    {
     "name": "stdout",
     "output_type": "stream",
     "text": [
      "Epoch 50, Loss 0.0574\n",
      "Training Accuracy: 0.9442, Testing Accuracy: 0.9486\n",
      "\n"
     ]
    },
    {
     "name": "stdout",
     "output_type": "stream",
     "text": [
      "Epoch 60, Loss 0.054\n",
      "Training Accuracy: 0.9465, Testing Accuracy: 0.9526\n",
      "\n"
     ]
    },
    {
     "name": "stdout",
     "output_type": "stream",
     "text": [
      "Epoch 70, Loss 0.0514\n",
      "Training Accuracy: 0.9498, Testing Accuracy: 0.9531\n",
      "\n"
     ]
    },
    {
     "name": "stdout",
     "output_type": "stream",
     "text": [
      "Epoch 80, Loss 0.0493\n",
      "Training Accuracy: 0.9511, Testing Accuracy: 0.9551\n",
      "\n"
     ]
    },
    {
     "name": "stdout",
     "output_type": "stream",
     "text": [
      "Epoch 90, Loss 0.0476\n",
      "Training Accuracy: 0.9523, Testing Accuracy: 0.9582\n",
      "\n"
     ]
    },
    {
     "name": "stdout",
     "output_type": "stream",
     "text": [
      "Epoch 100, Loss 0.0462\n",
      "Training Accuracy: 0.9532, Testing Accuracy: 0.9612\n",
      "\n"
     ]
    },
    {
     "name": "stdout",
     "output_type": "stream",
     "text": [
      "Epoch 110, Loss 0.045\n",
      "Training Accuracy: 0.9547, Testing Accuracy: 0.9622\n",
      "\n"
     ]
    },
    {
     "name": "stdout",
     "output_type": "stream",
     "text": [
      "Epoch 120, Loss 0.0439\n",
      "Training Accuracy: 0.9559, Testing Accuracy: 0.9627\n",
      "\n"
     ]
    },
    {
     "name": "stdout",
     "output_type": "stream",
     "text": [
      "Epoch 130, Loss 0.043\n",
      "Training Accuracy: 0.9563, Testing Accuracy: 0.9632\n",
      "\n"
     ]
    },
    {
     "name": "stdout",
     "output_type": "stream",
     "text": [
      "Epoch 140, Loss 0.0422\n",
      "Training Accuracy: 0.9569, Testing Accuracy: 0.9637\n",
      "\n"
     ]
    },
    {
     "name": "stdout",
     "output_type": "stream",
     "text": [
      "Epoch 150, Loss 0.0414\n",
      "Training Accuracy: 0.9577, Testing Accuracy: 0.9632\n",
      "\n"
     ]
    },
    {
     "name": "stdout",
     "output_type": "stream",
     "text": [
      "Epoch 160, Loss 0.0407\n",
      "Training Accuracy: 0.9579, Testing Accuracy: 0.9632\n",
      "\n"
     ]
    },
    {
     "name": "stdout",
     "output_type": "stream",
     "text": [
      "Epoch 170, Loss 0.0401\n",
      "Training Accuracy: 0.9586, Testing Accuracy: 0.9632\n",
      "\n"
     ]
    },
    {
     "name": "stdout",
     "output_type": "stream",
     "text": [
      "Epoch 180, Loss 0.0396\n",
      "Training Accuracy: 0.9587, Testing Accuracy: 0.9652\n",
      "\n"
     ]
    },
    {
     "name": "stdout",
     "output_type": "stream",
     "text": [
      "Epoch 190, Loss 0.039\n",
      "Training Accuracy: 0.9589, Testing Accuracy: 0.9652\n",
      "\n"
     ]
    },
    {
     "name": "stdout",
     "output_type": "stream",
     "text": [
      "Epoch 200, Loss 0.0386\n",
      "Training Accuracy: 0.9594, Testing Accuracy: 0.9652\n",
      "\n"
     ]
    },
    {
     "name": "stdout",
     "output_type": "stream",
     "text": [
      "Epoch 210, Loss 0.0381\n",
      "Training Accuracy: 0.9597, Testing Accuracy: 0.9657\n",
      "\n"
     ]
    },
    {
     "name": "stdout",
     "output_type": "stream",
     "text": [
      "Epoch 220, Loss 0.0377\n",
      "Training Accuracy: 0.9599, Testing Accuracy: 0.9662\n",
      "\n"
     ]
    },
    {
     "name": "stdout",
     "output_type": "stream",
     "text": [
      "Epoch 230, Loss 0.0373\n",
      "Training Accuracy: 0.9604, Testing Accuracy: 0.9662\n",
      "\n"
     ]
    },
    {
     "name": "stdout",
     "output_type": "stream",
     "text": [
      "Epoch 240, Loss 0.037\n",
      "Training Accuracy: 0.9604, Testing Accuracy: 0.9662\n",
      "\n"
     ]
    },
    {
     "name": "stdout",
     "output_type": "stream",
     "text": [
      "Epoch 250, Loss 0.0366\n",
      "Training Accuracy: 0.9609, Testing Accuracy: 0.9662\n",
      "\n"
     ]
    },
    {
     "data": {
      "text/plain": [
       "0.078968381551787"
      ]
     },
     "execution_count": 22,
     "metadata": {},
     "output_type": "execute_result"
    }
   ],
   "source": [
    "print(\"====== Logistic Regression ======\")\n",
    "learner_lr.train_loop(dl)"
   ]
  },
  {
   "cell_type": "markdown",
   "metadata": {
    "papermill": {
     "duration": 0.045634,
     "end_time": "2020-11-06T10:06:09.249615",
     "exception": false,
     "start_time": "2020-11-06T10:06:09.203981",
     "status": "completed"
    },
    "tags": []
   },
   "source": [
    "### Comparing results of NN and LR"
   ]
  },
  {
   "cell_type": "code",
   "execution_count": 23,
   "metadata": {
    "execution": {
     "iopub.execute_input": "2020-11-06T10:06:09.345065Z",
     "iopub.status.busy": "2020-11-06T10:06:09.344270Z",
     "iopub.status.idle": "2020-11-06T10:06:09.586725Z",
     "shell.execute_reply": "2020-11-06T10:06:09.586235Z"
    },
    "papermill": {
     "duration": 0.291749,
     "end_time": "2020-11-06T10:06:09.586861",
     "exception": false,
     "start_time": "2020-11-06T10:06:09.295112",
     "status": "completed"
    },
    "tags": []
   },
   "outputs": [
    {
     "data": {
      "text/plain": [
       "<matplotlib.legend.Legend at 0x7fc555d8d0b8>"
      ]
     },
     "execution_count": 23,
     "metadata": {},
     "output_type": "execute_result"
    },
    {
     "data": {
      "image/png": "[encoded data removed]",
      "text/plain": [
       "<Figure size 1080x720 with 1 Axes>"
      ]
     },
     "metadata": {
      "needs_background": "light"
     },
     "output_type": "display_data"
    }
   ],
   "source": [
    "plt.figure(figsize=(15,10))\n",
    "\n",
    "# Neural Network plots\n",
    "plt.plot(acc_nn.accuracies, 'r-', label = \"Training Accuracies - NN\")\n",
    "plt.plot(acc_nn.test_accuracies, 'g-', label = \"Testing Accuracies - NN\")\n",
    "\n",
    "# Logistic Regression plots\n",
    "plt.plot(acc_lr.accuracies, 'k-', label = \"Training Accuracies - LR\")\n",
    "plt.plot(acc_lr.test_accuracies, 'b-', label = \"Testing Accuracies - LR\")\n",
    "\n",
    "plt.ylim(0.8, 1)\n",
    "\n",
    "plt.legend()\n",
    "\n"
   ]
  },
  {
   "cell_type": "markdown",
   "metadata": {
    "papermill": {
     "duration": 0.045737,
     "end_time": "2020-11-06T10:06:09.678797",
     "exception": false,
     "start_time": "2020-11-06T10:06:09.633060",
     "status": "completed"
    },
    "tags": []
   },
   "source": [
    "### From the plot, we can observe the following:\n",
    "- Neural Network achieves higher accuracy than the Logistic Regression model.\n",
    "- This apparently, is because of overfitting, i.e. NN captures more noise than data.\n",
    "- Testing accuracy of NN drops below the Training accuracy at higher epochs. This explains the over-fitting on training data.\n",
    "- Logistic Regression gives a reliable accuracy, without the above mentioned problem.\n"
   ]
  },
  {
   "cell_type": "markdown",
   "metadata": {
    "papermill": {
     "duration": 0.045758,
     "end_time": "2020-11-06T10:06:09.770346",
     "exception": false,
     "start_time": "2020-11-06T10:06:09.724588",
     "status": "completed"
    },
    "tags": []
   },
   "source": [
    "### Moving till the last but one layer (excluding it).\n",
    "#### Plotting the outputs of this layer of the NN."
   ]
  },
  {
   "cell_type": "code",
   "execution_count": 24,
   "metadata": {
    "execution": {
     "iopub.execute_input": "2020-11-06T10:06:09.872045Z",
     "iopub.status.busy": "2020-11-06T10:06:09.868942Z",
     "iopub.status.idle": "2020-11-06T10:06:09.881023Z",
     "shell.execute_reply": "2020-11-06T10:06:09.881499Z"
    },
    "papermill": {
     "duration": 0.065381,
     "end_time": "2020-11-06T10:06:09.881646",
     "exception": false,
     "start_time": "2020-11-06T10:06:09.816265",
     "status": "completed"
    },
    "tags": []
   },
   "outputs": [],
   "source": [
    "model_new = Model(layers[:-2])"
   ]
  },
  {
   "cell_type": "code",
   "execution_count": 25,
   "metadata": {
    "execution": {
     "iopub.execute_input": "2020-11-06T10:06:09.984067Z",
     "iopub.status.busy": "2020-11-06T10:06:09.983229Z",
     "iopub.status.idle": "2020-11-06T10:06:10.001533Z",
     "shell.execute_reply": "2020-11-06T10:06:10.002248Z"
    },
    "papermill": {
     "duration": 0.074618,
     "end_time": "2020-11-06T10:06:10.002405",
     "exception": false,
     "start_time": "2020-11-06T10:06:09.927787",
     "status": "completed"
    },
    "tags": []
   },
   "outputs": [],
   "source": [
    "plot_testing = model_new(testing_xdata)"
   ]
  },
  {
   "cell_type": "code",
   "execution_count": 26,
   "metadata": {
    "execution": {
     "iopub.execute_input": "2020-11-06T10:06:10.098807Z",
     "iopub.status.busy": "2020-11-06T10:06:10.098227Z",
     "iopub.status.idle": "2020-11-06T10:06:10.313986Z",
     "shell.execute_reply": "2020-11-06T10:06:10.315084Z"
    },
    "papermill": {
     "duration": 0.266555,
     "end_time": "2020-11-06T10:06:10.315377",
     "exception": false,
     "start_time": "2020-11-06T10:06:10.048822",
     "status": "completed"
    },
    "tags": []
   },
   "outputs": [
    {
     "data": {
      "text/plain": [
       "Text(0.5, 1.0, 'Outputs')"
      ]
     },
     "execution_count": 26,
     "metadata": {},
     "output_type": "execute_result"
    },
    {
     "data": {
      "image/png": "[encoded data removed]",
      "text/plain": [
       "<Figure size 576x504 with 1 Axes>"
      ]
     },
     "metadata": {
      "needs_background": "light"
     },
     "output_type": "display_data"
    }
   ],
   "source": [
    "plt.figure(figsize=(8,7))\n",
    "plt.scatter(plot_testing[:,0], plot_testing[:,1], alpha = 0.1, c = y_test.ravel());\n",
    "plt.title('Outputs')"
   ]
  },
  {
   "cell_type": "markdown",
   "metadata": {
    "papermill": {
     "duration": 0.048731,
     "end_time": "2020-11-06T10:06:10.414081",
     "exception": false,
     "start_time": "2020-11-06T10:06:10.365350",
     "status": "completed"
    },
    "tags": []
   },
   "source": [
    "### Plotting probability contours"
   ]
  },
  {
   "cell_type": "code",
   "execution_count": 27,
   "metadata": {
    "execution": {
     "iopub.execute_input": "2020-11-06T10:06:10.524118Z",
     "iopub.status.busy": "2020-11-06T10:06:10.523511Z",
     "iopub.status.idle": "2020-11-06T10:06:10.533543Z",
     "shell.execute_reply": "2020-11-06T10:06:10.533032Z"
    },
    "papermill": {
     "duration": 0.070683,
     "end_time": "2020-11-06T10:06:10.533670",
     "exception": false,
     "start_time": "2020-11-06T10:06:10.462987",
     "status": "completed"
    },
    "tags": []
   },
   "outputs": [],
   "source": [
    "model_prob = Model(layers[-2:]) "
   ]
  },
  {
   "cell_type": "code",
   "execution_count": 28,
   "metadata": {
    "execution": {
     "iopub.execute_input": "2020-11-06T10:06:10.683929Z",
     "iopub.status.busy": "2020-11-06T10:06:10.683336Z",
     "iopub.status.idle": "2020-11-06T10:06:10.702460Z",
     "shell.execute_reply": "2020-11-06T10:06:10.701960Z"
    },
    "papermill": {
     "duration": 0.072448,
     "end_time": "2020-11-06T10:06:10.702595",
     "exception": false,
     "start_time": "2020-11-06T10:06:10.630147",
     "status": "completed"
    },
    "tags": []
   },
   "outputs": [],
   "source": [
    "# Adjust the x and y ranges according to the above generated plot.\n",
    "x_range = np.linspace(-4, 1, 100) \n",
    "y_range = np.linspace(-6, 6, 100) \n",
    "x_grid, y_grid = np.meshgrid(x_range, y_range) # x_grid and y_grig are of size 100 X 100\n",
    "\n",
    "# converting x_grid and y_grid to continuous arrays\n",
    "x_grid_flat = np.ravel(x_grid)\n",
    "y_grid_flat = np.ravel(y_grid)\n",
    "\n",
    "# The last layer of the current model takes two columns as input. Hence transpose of np.vstack() is required.\n",
    "X = np.vstack((x_grid_flat, y_grid_flat)).T\n",
    "\n",
    "# x_grid and y_grid are of size 100 x 100\n",
    "probability_contour = model_prob(X).reshape(100,100) "
   ]
  },
  {
   "cell_type": "code",
   "execution_count": 29,
   "metadata": {
    "execution": {
     "iopub.execute_input": "2020-11-06T10:06:10.828241Z",
     "iopub.status.busy": "2020-11-06T10:06:10.827621Z",
     "iopub.status.idle": "2020-11-06T10:06:11.075719Z",
     "shell.execute_reply": "2020-11-06T10:06:11.076198Z"
    },
    "papermill": {
     "duration": 0.323422,
     "end_time": "2020-11-06T10:06:11.076354",
     "exception": false,
     "start_time": "2020-11-06T10:06:10.752932",
     "status": "completed"
    },
    "tags": []
   },
   "outputs": [
    {
     "data": {
      "image/png": "[encoded data removed]",
      "text/plain": [
       "<Figure size 720x648 with 1 Axes>"
      ]
     },
     "metadata": {
      "needs_background": "light"
     },
     "output_type": "display_data"
    }
   ],
   "source": [
    "plt.figure(figsize=(10,9))\n",
    "plt.scatter(plot_testing[:,0], plot_testing[:,1], alpha = 0.1, c = y_test.ravel())\n",
    "contours = plt.contour(x_grid,y_grid,probability_contour)\n",
    "plt.title('Probability Contours')\n",
    "plt.clabel(contours, inline = True );"
   ]
  }
 ],
 "metadata": {
  "kernelspec": {
   "display_name": "Python 3",
   "language": "python",
   "name": "python3"
  },
  "language_info": {
   "codemirror_mode": {
    "name": "ipython",
    "version": 3
   },
   "file_extension": ".py",
   "mimetype": "text/x-python",
   "name": "python",
   "nbconvert_exporter": "python",
   "pygments_lexer": "ipython3",
   "version": "3.6.12"
  },
  "papermill": {
   "duration": 112.390219,
   "end_time": "2020-11-06T10:06:12.290437",
   "environment_variables": {},
   "exception": null,
   "input_path": "2020-08-11-NeuralNetwork.ipynb",
   "output_path": "2020-08-11-NeuralNetwork.ipynb",
   "parameters": {},
   "start_time": "2020-11-06T10:04:19.900218",
   "version": "2.1.2"
  }
 },
 "nbformat": 4,
 "nbformat_minor": 4
}