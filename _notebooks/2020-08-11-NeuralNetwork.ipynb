{
 "cells": [
  {
   "cell_type": "markdown",
   "metadata": {
    "papermill": {
     "duration": 0.025619,
     "end_time": "2020-11-11T00:04:53.343411",
     "exception": false,
     "start_time": "2020-11-11T00:04:53.317792",
     "status": "completed"
    },
    "tags": []
   },
   "source": [
    "# \"A Basic Neural Network: Differentiate Hand-Written Digits\"\n",
    "\n",
    "- badges: true\n",
    "- author: Akshith Sriram"
   ]
  },
  {
   "cell_type": "markdown",
   "metadata": {
    "papermill": {
     "duration": 0.021699,
     "end_time": "2020-11-11T00:04:53.387662",
     "exception": false,
     "start_time": "2020-11-11T00:04:53.365963",
     "status": "completed"
    },
    "tags": []
   },
   "source": [
    "### Key Objectives:\n",
    "- Building a neural network that differentiates two hand-written digits 3 and 8.\n",
    "- Comparing the results of this Neural Network (NN) to that of a Logistic Regression (LR) model.\n",
    "\n",
    "### Requirements:\n",
    "- 'Kudzu' : A neural network library that was designed during our course by [Univ.AI](www.univ.ai). \n",
    "- MNIST Database\n",
    "\n",
    "If MNIST is not installed, use the command `!pip install mnist` given below.\n",
    "It can be run both from the command line and Jupyter Notebook."
   ]
  },
  {
   "cell_type": "code",
   "execution_count": 1,
   "metadata": {
    "execution": {
     "iopub.execute_input": "2020-11-11T00:04:53.436595Z",
     "iopub.status.busy": "2020-11-11T00:04:53.435985Z",
     "iopub.status.idle": "2020-11-11T00:04:54.780950Z",
     "shell.execute_reply": "2020-11-11T00:04:54.780074Z"
    },
    "papermill": {
     "duration": 1.371617,
     "end_time": "2020-11-11T00:04:54.781111",
     "exception": false,
     "start_time": "2020-11-11T00:04:53.409494",
     "status": "completed"
    },
    "tags": []
   },
   "outputs": [
    {
     "name": "stdout",
     "output_type": "stream",
     "text": [
      "Collecting mnist\r\n"
     ]
    },
    {
     "name": "stdout",
     "output_type": "stream",
     "text": [
      "  Downloading mnist-0.2.2-py2.py3-none-any.whl (3.5 kB)\r\n",
      "Requirement already satisfied: numpy in /opt/hostedtoolcache/Python/3.6.12/x64/lib/python3.6/site-packages (from mnist) (1.19.4)\r\n"
     ]
    },
    {
     "name": "stdout",
     "output_type": "stream",
     "text": [
      "Installing collected packages: mnist\r\n"
     ]
    },
    {
     "name": "stdout",
     "output_type": "stream",
     "text": [
      "Successfully installed mnist-0.2.2\r\n"
     ]
    }
   ],
   "source": [
    "!pip install mnist "
   ]
  },
  {
   "cell_type": "markdown",
   "metadata": {
    "papermill": {
     "duration": 0.022867,
     "end_time": "2020-11-11T00:04:54.827306",
     "exception": false,
     "start_time": "2020-11-11T00:04:54.804439",
     "status": "completed"
    },
    "tags": []
   },
   "source": [
    "#### Importing necessary libraries"
   ]
  },
  {
   "cell_type": "code",
   "execution_count": 2,
   "metadata": {
    "execution": {
     "iopub.execute_input": "2020-11-11T00:04:54.881301Z",
     "iopub.status.busy": "2020-11-11T00:04:54.880805Z",
     "iopub.status.idle": "2020-11-11T00:04:55.387072Z",
     "shell.execute_reply": "2020-11-11T00:04:55.386554Z"
    },
    "papermill": {
     "duration": 0.536077,
     "end_time": "2020-11-11T00:04:55.387212",
     "exception": false,
     "start_time": "2020-11-11T00:04:54.851135",
     "status": "completed"
    },
    "tags": []
   },
   "outputs": [],
   "source": [
    "%load_ext autoreload\n",
    "%autoreload 2\n",
    "\n",
    "%matplotlib inline\n",
    "import matplotlib.pyplot as plt\n",
    "\n",
    "import numpy as np\n",
    "import pandas as pd"
   ]
  },
  {
   "cell_type": "markdown",
   "metadata": {
    "papermill": {
     "duration": 0.314678,
     "end_time": "2020-11-11T00:04:55.726058",
     "exception": false,
     "start_time": "2020-11-11T00:04:55.411380",
     "status": "completed"
    },
    "tags": []
   },
   "source": [
    "### Preparing the Data"
   ]
  },
  {
   "cell_type": "code",
   "execution_count": 3,
   "metadata": {
    "execution": {
     "iopub.execute_input": "2020-11-11T00:04:56.370217Z",
     "iopub.status.busy": "2020-11-11T00:04:56.362492Z",
     "iopub.status.idle": "2020-11-11T00:04:56.373846Z",
     "shell.execute_reply": "2020-11-11T00:04:56.373433Z"
    },
    "papermill": {
     "duration": 0.038641,
     "end_time": "2020-11-11T00:04:56.373968",
     "exception": false,
     "start_time": "2020-11-11T00:04:56.335327",
     "status": "completed"
    },
    "tags": []
   },
   "outputs": [],
   "source": [
    "import mnist"
   ]
  },
  {
   "cell_type": "code",
   "execution_count": 4,
   "metadata": {
    "execution": {
     "iopub.execute_input": "2020-11-11T00:04:56.434760Z",
     "iopub.status.busy": "2020-11-11T00:04:56.434266Z",
     "iopub.status.idle": "2020-11-11T00:04:57.383112Z",
     "shell.execute_reply": "2020-11-11T00:04:57.382559Z"
    },
    "papermill": {
     "duration": 0.98632,
     "end_time": "2020-11-11T00:04:57.383251",
     "exception": false,
     "start_time": "2020-11-11T00:04:56.396931",
     "status": "completed"
    },
    "tags": []
   },
   "outputs": [],
   "source": [
    "train_images = mnist.train_images()\n",
    "train_labels = mnist.train_labels()"
   ]
  },
  {
   "cell_type": "code",
   "execution_count": 5,
   "metadata": {
    "execution": {
     "iopub.execute_input": "2020-11-11T00:04:57.442711Z",
     "iopub.status.busy": "2020-11-11T00:04:57.442191Z",
     "iopub.status.idle": "2020-11-11T00:04:57.450202Z",
     "shell.execute_reply": "2020-11-11T00:04:57.449793Z"
    },
    "papermill": {
     "duration": 0.043516,
     "end_time": "2020-11-11T00:04:57.450320",
     "exception": false,
     "start_time": "2020-11-11T00:04:57.406804",
     "status": "completed"
    },
    "tags": []
   },
   "outputs": [
    {
     "data": {
      "text/plain": [
       "((60000, 28, 28), (60000,))"
      ]
     },
     "execution_count": 5,
     "metadata": {},
     "output_type": "execute_result"
    }
   ],
   "source": [
    "train_images.shape, train_labels.shape"
   ]
  },
  {
   "cell_type": "code",
   "execution_count": 6,
   "metadata": {
    "execution": {
     "iopub.execute_input": "2020-11-11T00:04:57.514321Z",
     "iopub.status.busy": "2020-11-11T00:04:57.513771Z",
     "iopub.status.idle": "2020-11-11T00:04:58.016427Z",
     "shell.execute_reply": "2020-11-11T00:04:58.015907Z"
    },
    "papermill": {
     "duration": 0.543167,
     "end_time": "2020-11-11T00:04:58.016568",
     "exception": false,
     "start_time": "2020-11-11T00:04:57.473401",
     "status": "completed"
    },
    "tags": []
   },
   "outputs": [],
   "source": [
    "test_images = mnist.test_images()\n",
    "test_labels = mnist.test_labels()"
   ]
  },
  {
   "cell_type": "code",
   "execution_count": 7,
   "metadata": {
    "execution": {
     "iopub.execute_input": "2020-11-11T00:04:58.070736Z",
     "iopub.status.busy": "2020-11-11T00:04:58.070222Z",
     "iopub.status.idle": "2020-11-11T00:04:58.081548Z",
     "shell.execute_reply": "2020-11-11T00:04:58.081090Z"
    },
    "papermill": {
     "duration": 0.040555,
     "end_time": "2020-11-11T00:04:58.081668",
     "exception": false,
     "start_time": "2020-11-11T00:04:58.041113",
     "status": "completed"
    },
    "tags": []
   },
   "outputs": [
    {
     "data": {
      "text/plain": [
       "((10000, 28, 28), (10000,))"
      ]
     },
     "execution_count": 7,
     "metadata": {},
     "output_type": "execute_result"
    }
   ],
   "source": [
    "test_images.shape, test_labels.shape"
   ]
  },
  {
   "cell_type": "code",
   "execution_count": 8,
   "metadata": {
    "execution": {
     "iopub.execute_input": "2020-11-11T00:04:58.135332Z",
     "iopub.status.busy": "2020-11-11T00:04:58.134836Z",
     "iopub.status.idle": "2020-11-11T00:04:58.260812Z",
     "shell.execute_reply": "2020-11-11T00:04:58.261285Z"
    },
    "papermill": {
     "duration": 0.156296,
     "end_time": "2020-11-11T00:04:58.261456",
     "exception": false,
     "start_time": "2020-11-11T00:04:58.105160",
     "status": "completed"
    },
    "tags": []
   },
   "outputs": [
    {
     "name": "stdout",
     "output_type": "stream",
     "text": [
      "2\n"
     ]
    },
    {
     "data": {
      "text/plain": [
       "<matplotlib.image.AxesImage at 0x7f56a8e574a8>"
      ]
     },
     "execution_count": 8,
     "metadata": {},
     "output_type": "execute_result"
    },
    {
     "data": {
      "image/png": "[encoded data removed]",
      "text/plain": [
       "<Figure size 432x288 with 1 Axes>"
      ]
     },
     "metadata": {
      "needs_background": "light"
     },
     "output_type": "display_data"
    }
   ],
   "source": [
    "image_index = 7776 # You may select anything up to 60,000\n",
    "print(train_labels[image_index]) \n",
    "plt.imshow(train_images[image_index], cmap='Greys')"
   ]
  },
  {
   "cell_type": "markdown",
   "metadata": {
    "papermill": {
     "duration": 0.024709,
     "end_time": "2020-11-11T00:04:58.311643",
     "exception": false,
     "start_time": "2020-11-11T00:04:58.286934",
     "status": "completed"
    },
    "tags": []
   },
   "source": [
    "## Filter data to get 3 and 8 out"
   ]
  },
  {
   "cell_type": "code",
   "execution_count": 9,
   "metadata": {
    "execution": {
     "iopub.execute_input": "2020-11-11T00:04:58.382157Z",
     "iopub.status.busy": "2020-11-11T00:04:58.372361Z",
     "iopub.status.idle": "2020-11-11T00:04:58.384755Z",
     "shell.execute_reply": "2020-11-11T00:04:58.385152Z"
    },
    "papermill": {
     "duration": 0.049448,
     "end_time": "2020-11-11T00:04:58.385282",
     "exception": false,
     "start_time": "2020-11-11T00:04:58.335834",
     "status": "completed"
    },
    "tags": []
   },
   "outputs": [],
   "source": [
    "train_filter = np.where((train_labels == 3 ) | (train_labels == 8))\n",
    "test_filter = np.where((test_labels == 3) | (test_labels == 8))\n",
    "X_train, y_train = train_images[train_filter], train_labels[train_filter]\n",
    "X_test, y_test = test_images[test_filter], test_labels[test_filter]"
   ]
  },
  {
   "cell_type": "markdown",
   "metadata": {
    "papermill": {
     "duration": 0.024059,
     "end_time": "2020-11-11T00:04:58.433858",
     "exception": false,
     "start_time": "2020-11-11T00:04:58.409799",
     "status": "completed"
    },
    "tags": []
   },
   "source": [
    "We normalize the pixel values in the 0 to 1 range"
   ]
  },
  {
   "cell_type": "code",
   "execution_count": 10,
   "metadata": {
    "execution": {
     "iopub.execute_input": "2020-11-11T00:04:58.486432Z",
     "iopub.status.busy": "2020-11-11T00:04:58.485935Z",
     "iopub.status.idle": "2020-11-11T00:04:58.533526Z",
     "shell.execute_reply": "2020-11-11T00:04:58.533004Z"
    },
    "papermill": {
     "duration": 0.075542,
     "end_time": "2020-11-11T00:04:58.533667",
     "exception": false,
     "start_time": "2020-11-11T00:04:58.458125",
     "status": "completed"
    },
    "tags": []
   },
   "outputs": [],
   "source": [
    "X_train = X_train/255.\n",
    "X_test = X_test/255."
   ]
  },
  {
   "cell_type": "markdown",
   "metadata": {
    "papermill": {
     "duration": 0.024418,
     "end_time": "2020-11-11T00:04:58.584082",
     "exception": false,
     "start_time": "2020-11-11T00:04:58.559664",
     "status": "completed"
    },
    "tags": []
   },
   "source": [
    "Setup the labels as 1 (when the digit is 3) and 0 (when the digit is 8)"
   ]
  },
  {
   "cell_type": "code",
   "execution_count": 11,
   "metadata": {
    "execution": {
     "iopub.execute_input": "2020-11-11T00:04:58.638627Z",
     "iopub.status.busy": "2020-11-11T00:04:58.638122Z",
     "iopub.status.idle": "2020-11-11T00:04:58.648490Z",
     "shell.execute_reply": "2020-11-11T00:04:58.648919Z"
    },
    "papermill": {
     "duration": 0.040599,
     "end_time": "2020-11-11T00:04:58.649050",
     "exception": false,
     "start_time": "2020-11-11T00:04:58.608451",
     "status": "completed"
    },
    "tags": []
   },
   "outputs": [],
   "source": [
    "y_train = 1*(y_train==3)\n",
    "y_test = 1*(y_test==3)"
   ]
  },
  {
   "cell_type": "code",
   "execution_count": 12,
   "metadata": {
    "execution": {
     "iopub.execute_input": "2020-11-11T00:04:58.703334Z",
     "iopub.status.busy": "2020-11-11T00:04:58.702751Z",
     "iopub.status.idle": "2020-11-11T00:04:58.713695Z",
     "shell.execute_reply": "2020-11-11T00:04:58.714074Z"
    },
    "papermill": {
     "duration": 0.040687,
     "end_time": "2020-11-11T00:04:58.714208",
     "exception": false,
     "start_time": "2020-11-11T00:04:58.673521",
     "status": "completed"
    },
    "tags": []
   },
   "outputs": [
    {
     "data": {
      "text/plain": [
       "((11982, 28, 28), (1984, 28, 28))"
      ]
     },
     "execution_count": 12,
     "metadata": {},
     "output_type": "execute_result"
    }
   ],
   "source": [
    "X_train.shape, X_test.shape"
   ]
  },
  {
   "cell_type": "markdown",
   "metadata": {
    "papermill": {
     "duration": 0.024609,
     "end_time": "2020-11-11T00:04:58.763370",
     "exception": false,
     "start_time": "2020-11-11T00:04:58.738761",
     "status": "completed"
    },
    "tags": []
   },
   "source": [
    "### Reshape the input data to create a linear array"
   ]
  },
  {
   "cell_type": "code",
   "execution_count": 13,
   "metadata": {
    "execution": {
     "iopub.execute_input": "2020-11-11T00:04:58.826353Z",
     "iopub.status.busy": "2020-11-11T00:04:58.825857Z",
     "iopub.status.idle": "2020-11-11T00:04:58.832095Z",
     "shell.execute_reply": "2020-11-11T00:04:58.832472Z"
    },
    "papermill": {
     "duration": 0.044626,
     "end_time": "2020-11-11T00:04:58.832599",
     "exception": false,
     "start_time": "2020-11-11T00:04:58.787973",
     "status": "completed"
    },
    "tags": []
   },
   "outputs": [
    {
     "data": {
      "text/plain": [
       "((11982, 784), (1984, 784))"
      ]
     },
     "execution_count": 13,
     "metadata": {},
     "output_type": "execute_result"
    }
   ],
   "source": [
    "X_train = X_train.reshape(X_train.shape[0], -1)\n",
    "X_test = X_test.reshape(X_test.shape[0], -1)\n",
    "X_train.shape, X_test.shape"
   ]
  },
  {
   "cell_type": "markdown",
   "metadata": {
    "papermill": {
     "duration": 0.024595,
     "end_time": "2020-11-11T00:04:58.881917",
     "exception": false,
     "start_time": "2020-11-11T00:04:58.857322",
     "status": "completed"
    },
    "tags": []
   },
   "source": [
    "### Importing appropriate functions from 'Kudzu'"
   ]
  },
  {
   "cell_type": "code",
   "execution_count": 14,
   "metadata": {
    "execution": {
     "iopub.execute_input": "2020-11-11T00:04:58.946252Z",
     "iopub.status.busy": "2020-11-11T00:04:58.938128Z",
     "iopub.status.idle": "2020-11-11T00:04:58.955841Z",
     "shell.execute_reply": "2020-11-11T00:04:58.956240Z"
    },
    "papermill": {
     "duration": 0.049486,
     "end_time": "2020-11-11T00:04:58.956367",
     "exception": false,
     "start_time": "2020-11-11T00:04:58.906881",
     "status": "completed"
    },
    "tags": []
   },
   "outputs": [],
   "source": [
    "from kudzu.layer import Sigmoid\n",
    "from kudzu.layer import Relu\n",
    "from kudzu.layer import Affine, Sigmoid\n",
    "\n",
    "from kudzu.model import Model\n",
    "from kudzu.train import Learner\n",
    "from kudzu.optim import GD\n",
    "from kudzu.data import Data, Dataloader, Sampler\n",
    "\n",
    "from kudzu.callbacks import AccCallback\n",
    "from kudzu.callbacks import ClfCallback\n",
    "\n",
    "from kudzu.loss import MSE"
   ]
  },
  {
   "cell_type": "markdown",
   "metadata": {
    "papermill": {
     "duration": 0.024676,
     "end_time": "2020-11-11T00:04:59.005767",
     "exception": false,
     "start_time": "2020-11-11T00:04:58.981091",
     "status": "completed"
    },
    "tags": []
   },
   "source": [
    "### Let us create a `Config` class, to store important parameters. \n",
    "This class essentially plays the role of a dictionary."
   ]
  },
  {
   "cell_type": "code",
   "execution_count": 15,
   "metadata": {
    "execution": {
     "iopub.execute_input": "2020-11-11T00:04:59.075414Z",
     "iopub.status.busy": "2020-11-11T00:04:59.074904Z",
     "iopub.status.idle": "2020-11-11T00:04:59.077261Z",
     "shell.execute_reply": "2020-11-11T00:04:59.076860Z"
    },
    "papermill": {
     "duration": 0.046643,
     "end_time": "2020-11-11T00:04:59.077374",
     "exception": false,
     "start_time": "2020-11-11T00:04:59.030731",
     "status": "completed"
    },
    "tags": []
   },
   "outputs": [],
   "source": [
    "class Config:\n",
    "    pass\n",
    "config = Config()\n",
    "config.lr = 0.001\n",
    "config.num_epochs = 251\n",
    "config.bs = 50"
   ]
  },
  {
   "cell_type": "markdown",
   "metadata": {
    "papermill": {
     "duration": 0.024862,
     "end_time": "2020-11-11T00:04:59.127167",
     "exception": false,
     "start_time": "2020-11-11T00:04:59.102305",
     "status": "completed"
    },
    "tags": []
   },
   "source": [
    "### Initializing data to the variables"
   ]
  },
  {
   "cell_type": "code",
   "execution_count": 16,
   "metadata": {
    "execution": {
     "iopub.execute_input": "2020-11-11T00:04:59.193455Z",
     "iopub.status.busy": "2020-11-11T00:04:59.187730Z",
     "iopub.status.idle": "2020-11-11T00:04:59.195710Z",
     "shell.execute_reply": "2020-11-11T00:04:59.195288Z"
    },
    "papermill": {
     "duration": 0.043628,
     "end_time": "2020-11-11T00:04:59.195820",
     "exception": false,
     "start_time": "2020-11-11T00:04:59.152192",
     "status": "completed"
    },
    "tags": []
   },
   "outputs": [],
   "source": [
    "data = Data(X_train, y_train.reshape(-1,1))\n",
    "sampler = Sampler(data, config.bs, shuffle=True)\n",
    "\n",
    "dl = Dataloader(data, sampler)\n",
    "\n",
    "opt = GD(config.lr)\n",
    "loss = MSE()"
   ]
  },
  {
   "cell_type": "code",
   "execution_count": 17,
   "metadata": {
    "execution": {
     "iopub.execute_input": "2020-11-11T00:04:59.261639Z",
     "iopub.status.busy": "2020-11-11T00:04:59.258482Z",
     "iopub.status.idle": "2020-11-11T00:04:59.263900Z",
     "shell.execute_reply": "2020-11-11T00:04:59.263478Z"
    },
    "papermill": {
     "duration": 0.043485,
     "end_time": "2020-11-11T00:04:59.264011",
     "exception": false,
     "start_time": "2020-11-11T00:04:59.220526",
     "status": "completed"
    },
    "tags": []
   },
   "outputs": [],
   "source": [
    "training_xdata = X_train\n",
    "testing_xdata = X_test\n",
    "training_ydata = y_train.reshape(-1,1)\n",
    "testing_ydata = y_test.reshape(-1,1)"
   ]
  },
  {
   "cell_type": "markdown",
   "metadata": {
    "papermill": {
     "duration": 0.024911,
     "end_time": "2020-11-11T00:04:59.314015",
     "exception": false,
     "start_time": "2020-11-11T00:04:59.289104",
     "status": "completed"
    },
    "tags": []
   },
   "source": [
    "### Running Models with the Training data\n",
    "Details about the network layers:\n",
    "- A first affine layer has 784 inputs and does 100 affine transforms. These are followed by a Relu\n",
    "- A second affine layer has 100 inputs from the 100 activations of the past layer, and does 100 affine transforms. These are followed by a Relu\n",
    "- A third affine layer has 100 activations and does 2 affine transformations to create an embedding for visualization. There is no non-linearity here.\n",
    "- A final \"logistic regression\" which has an affine transform from 2 inputs to 1 output, which is squeezed through a sigmoid.\n",
    "\n",
    "Help taken from Anshuman's Notebook."
   ]
  },
  {
   "cell_type": "code",
   "execution_count": 18,
   "metadata": {
    "execution": {
     "iopub.execute_input": "2020-11-11T00:04:59.386659Z",
     "iopub.status.busy": "2020-11-11T00:04:59.379212Z",
     "iopub.status.idle": "2020-11-11T00:04:59.388889Z",
     "shell.execute_reply": "2020-11-11T00:04:59.388476Z"
    },
    "papermill": {
     "duration": 0.050122,
     "end_time": "2020-11-11T00:04:59.389012",
     "exception": false,
     "start_time": "2020-11-11T00:04:59.338890",
     "status": "completed"
    },
    "tags": []
   },
   "outputs": [],
   "source": [
    "# layers for the Neural Network\n",
    "layers = [Affine(\"first\", 784, 100), Relu(\"first\"), Affine(\"second\", 100, 100), Relu(\"second\"), Affine(\"third\", 100, 2), Affine(\"final\", 2, 1), Sigmoid(\"final\")]\n",
    "model_nn = Model(layers)\n",
    "\n",
    "# layers for the Logistic Regression\n",
    "layers_lr = [Affine(\"logits\", 784, 1), Sigmoid(\"sigmoid\")]\n",
    "model_lr = Model(layers_lr)"
   ]
  },
  {
   "cell_type": "code",
   "execution_count": 19,
   "metadata": {
    "execution": {
     "iopub.execute_input": "2020-11-11T00:04:59.450758Z",
     "iopub.status.busy": "2020-11-11T00:04:59.450234Z",
     "iopub.status.idle": "2020-11-11T00:04:59.457516Z",
     "shell.execute_reply": "2020-11-11T00:04:59.457092Z"
    },
    "papermill": {
     "duration": 0.043308,
     "end_time": "2020-11-11T00:04:59.457640",
     "exception": false,
     "start_time": "2020-11-11T00:04:59.414332",
     "status": "completed"
    },
    "tags": []
   },
   "outputs": [],
   "source": [
    "# suffix _nn stands for Neural Network.\n",
    "learner_nn = Learner(loss, model_nn, opt, config.num_epochs)\n",
    "acc_nn = ClfCallback(learner_nn, config.bs, training_xdata , testing_xdata, training_ydata, testing_ydata)\n",
    "learner_nn.set_callbacks([acc_nn])"
   ]
  },
  {
   "cell_type": "code",
   "execution_count": 20,
   "metadata": {
    "execution": {
     "iopub.execute_input": "2020-11-11T00:04:59.511127Z",
     "iopub.status.busy": "2020-11-11T00:04:59.510548Z",
     "iopub.status.idle": "2020-11-11T00:06:13.583981Z",
     "shell.execute_reply": "2020-11-11T00:06:13.583545Z"
    },
    "papermill": {
     "duration": 74.101521,
     "end_time": "2020-11-11T00:06:13.584101",
     "exception": false,
     "start_time": "2020-11-11T00:04:59.482580",
     "status": "completed"
    },
    "tags": []
   },
   "outputs": [
    {
     "name": "stdout",
     "output_type": "stream",
     "text": [
      "====== Neural Network ======\n"
     ]
    },
    {
     "name": "stdout",
     "output_type": "stream",
     "text": [
      "Epoch 0, Loss 0.2343\n",
      "Training Accuracy: 0.7290, Testing Accuracy: 0.7132\n",
      "\n"
     ]
    },
    {
     "name": "stdout",
     "output_type": "stream",
     "text": [
      "Epoch 10, Loss 0.0683\n",
      "Training Accuracy: 0.9348, Testing Accuracy: 0.9420\n",
      "\n"
     ]
    },
    {
     "name": "stdout",
     "output_type": "stream",
     "text": [
      "Epoch 20, Loss 0.0446\n",
      "Training Accuracy: 0.9541, Testing Accuracy: 0.9597\n",
      "\n"
     ]
    },
    {
     "name": "stdout",
     "output_type": "stream",
     "text": [
      "Epoch 30, Loss 0.0364\n",
      "Training Accuracy: 0.9607, Testing Accuracy: 0.9667\n",
      "\n"
     ]
    },
    {
     "name": "stdout",
     "output_type": "stream",
     "text": [
      "Epoch 40, Loss 0.0321\n",
      "Training Accuracy: 0.9648, Testing Accuracy: 0.9677\n",
      "\n"
     ]
    },
    {
     "name": "stdout",
     "output_type": "stream",
     "text": [
      "Epoch 50, Loss 0.0294\n",
      "Training Accuracy: 0.9673, Testing Accuracy: 0.9677\n",
      "\n"
     ]
    },
    {
     "name": "stdout",
     "output_type": "stream",
     "text": [
      "Epoch 60, Loss 0.0274\n",
      "Training Accuracy: 0.9690, Testing Accuracy: 0.9693\n",
      "\n"
     ]
    },
    {
     "name": "stdout",
     "output_type": "stream",
     "text": [
      "Epoch 70, Loss 0.0259\n",
      "Training Accuracy: 0.9700, Testing Accuracy: 0.9713\n",
      "\n"
     ]
    },
    {
     "name": "stdout",
     "output_type": "stream",
     "text": [
      "Epoch 80, Loss 0.0246\n",
      "Training Accuracy: 0.9721, Testing Accuracy: 0.9718\n",
      "\n"
     ]
    },
    {
     "name": "stdout",
     "output_type": "stream",
     "text": [
      "Epoch 90, Loss 0.0235\n",
      "Training Accuracy: 0.9732, Testing Accuracy: 0.9723\n",
      "\n"
     ]
    },
    {
     "name": "stdout",
     "output_type": "stream",
     "text": [
      "Epoch 100, Loss 0.0226\n",
      "Training Accuracy: 0.9745, Testing Accuracy: 0.9723\n",
      "\n"
     ]
    },
    {
     "name": "stdout",
     "output_type": "stream",
     "text": [
      "Epoch 110, Loss 0.0218\n",
      "Training Accuracy: 0.9757, Testing Accuracy: 0.9733\n",
      "\n"
     ]
    },
    {
     "name": "stdout",
     "output_type": "stream",
     "text": [
      "Epoch 120, Loss 0.0211\n",
      "Training Accuracy: 0.9760, Testing Accuracy: 0.9753\n",
      "\n"
     ]
    },
    {
     "name": "stdout",
     "output_type": "stream",
     "text": [
      "Epoch 130, Loss 0.0204\n",
      "Training Accuracy: 0.9769, Testing Accuracy: 0.9743\n",
      "\n"
     ]
    },
    {
     "name": "stdout",
     "output_type": "stream",
     "text": [
      "Epoch 140, Loss 0.0198\n",
      "Training Accuracy: 0.9780, Testing Accuracy: 0.9743\n",
      "\n"
     ]
    },
    {
     "name": "stdout",
     "output_type": "stream",
     "text": [
      "Epoch 150, Loss 0.0192\n",
      "Training Accuracy: 0.9789, Testing Accuracy: 0.9748\n",
      "\n"
     ]
    },
    {
     "name": "stdout",
     "output_type": "stream",
     "text": [
      "Epoch 160, Loss 0.0187\n",
      "Training Accuracy: 0.9793, Testing Accuracy: 0.9743\n",
      "\n"
     ]
    },
    {
     "name": "stdout",
     "output_type": "stream",
     "text": [
      "Epoch 170, Loss 0.0182\n",
      "Training Accuracy: 0.9801, Testing Accuracy: 0.9753\n",
      "\n"
     ]
    },
    {
     "name": "stdout",
     "output_type": "stream",
     "text": [
      "Epoch 180, Loss 0.0177\n",
      "Training Accuracy: 0.9804, Testing Accuracy: 0.9753\n",
      "\n"
     ]
    },
    {
     "name": "stdout",
     "output_type": "stream",
     "text": [
      "Epoch 190, Loss 0.0173\n",
      "Training Accuracy: 0.9810, Testing Accuracy: 0.9753\n",
      "\n"
     ]
    },
    {
     "name": "stdout",
     "output_type": "stream",
     "text": [
      "Epoch 200, Loss 0.0168\n",
      "Training Accuracy: 0.9816, Testing Accuracy: 0.9763\n",
      "\n"
     ]
    },
    {
     "name": "stdout",
     "output_type": "stream",
     "text": [
      "Epoch 210, Loss 0.0164\n",
      "Training Accuracy: 0.9818, Testing Accuracy: 0.9768\n",
      "\n"
     ]
    },
    {
     "name": "stdout",
     "output_type": "stream",
     "text": [
      "Epoch 220, Loss 0.016\n",
      "Training Accuracy: 0.9823, Testing Accuracy: 0.9768\n",
      "\n"
     ]
    },
    {
     "name": "stdout",
     "output_type": "stream",
     "text": [
      "Epoch 230, Loss 0.0156\n",
      "Training Accuracy: 0.9828, Testing Accuracy: 0.9773\n",
      "\n"
     ]
    },
    {
     "name": "stdout",
     "output_type": "stream",
     "text": [
      "Epoch 240, Loss 0.0152\n",
      "Training Accuracy: 0.9834, Testing Accuracy: 0.9773\n",
      "\n"
     ]
    },
    {
     "name": "stdout",
     "output_type": "stream",
     "text": [
      "Epoch 250, Loss 0.0148\n",
      "Training Accuracy: 0.9842, Testing Accuracy: 0.9773\n",
      "\n"
     ]
    },
    {
     "data": {
      "text/plain": [
       "0.004484699903938802"
      ]
     },
     "execution_count": 20,
     "metadata": {},
     "output_type": "execute_result"
    }
   ],
   "source": [
    "print(\"====== Neural Network ======\")\n",
    "learner_nn.train_loop(dl)"
   ]
  },
  {
   "cell_type": "markdown",
   "metadata": {
    "papermill": {
     "duration": 0.03178,
     "end_time": "2020-11-11T00:06:13.648477",
     "exception": false,
     "start_time": "2020-11-11T00:06:13.616697",
     "status": "completed"
    },
    "tags": []
   },
   "source": [
    "### Logistic Regression based Implementation."
   ]
  },
  {
   "cell_type": "code",
   "execution_count": 21,
   "metadata": {
    "execution": {
     "iopub.execute_input": "2020-11-11T00:06:13.720748Z",
     "iopub.status.busy": "2020-11-11T00:06:13.720157Z",
     "iopub.status.idle": "2020-11-11T00:06:13.730691Z",
     "shell.execute_reply": "2020-11-11T00:06:13.730256Z"
    },
    "papermill": {
     "duration": 0.050527,
     "end_time": "2020-11-11T00:06:13.730803",
     "exception": false,
     "start_time": "2020-11-11T00:06:13.680276",
     "status": "completed"
    },
    "tags": []
   },
   "outputs": [],
   "source": [
    "learner_lr = Learner(loss, model_lr, opt, config.num_epochs)\n",
    "acc_lr = ClfCallback(learner_lr, config.bs, training_xdata , testing_xdata, training_ydata, testing_ydata)\n",
    "learner_lr.set_callbacks([acc_lr])"
   ]
  },
  {
   "cell_type": "code",
   "execution_count": 22,
   "metadata": {
    "execution": {
     "iopub.execute_input": "2020-11-11T00:06:13.810182Z",
     "iopub.status.busy": "2020-11-11T00:06:13.803968Z",
     "iopub.status.idle": "2020-11-11T00:06:27.365687Z",
     "shell.execute_reply": "2020-11-11T00:06:27.366378Z"
    },
    "papermill": {
     "duration": 13.604073,
     "end_time": "2020-11-11T00:06:27.366522",
     "exception": false,
     "start_time": "2020-11-11T00:06:13.762449",
     "status": "completed"
    },
    "tags": []
   },
   "outputs": [
    {
     "name": "stdout",
     "output_type": "stream",
     "text": [
      "====== Logistic Regression ======\n",
      "Epoch 0, Loss 0.2663\n",
      "Training Accuracy: 0.6051, Testing Accuracy: 0.5953\n",
      "\n"
     ]
    },
    {
     "name": "stdout",
     "output_type": "stream",
     "text": [
      "Epoch 10, Loss 0.1126\n",
      "Training Accuracy: 0.8877, Testing Accuracy: 0.8921\n",
      "\n"
     ]
    },
    {
     "name": "stdout",
     "output_type": "stream",
     "text": [
      "Epoch 20, Loss 0.0849\n",
      "Training Accuracy: 0.9168, Testing Accuracy: 0.9209\n",
      "\n"
     ]
    },
    {
     "name": "stdout",
     "output_type": "stream",
     "text": [
      "Epoch 30, Loss 0.0722\n",
      "Training Accuracy: 0.9287, Testing Accuracy: 0.9390\n",
      "\n"
     ]
    },
    {
     "name": "stdout",
     "output_type": "stream",
     "text": [
      "Epoch 40, Loss 0.0647\n",
      "Training Accuracy: 0.9367, Testing Accuracy: 0.9451\n",
      "\n"
     ]
    },
    {
     "name": "stdout",
     "output_type": "stream",
     "text": [
      "Epoch 50, Loss 0.0596\n",
      "Training Accuracy: 0.9404, Testing Accuracy: 0.9491\n",
      "\n"
     ]
    },
    {
     "name": "stdout",
     "output_type": "stream",
     "text": [
      "Epoch 60, Loss 0.0559\n",
      "Training Accuracy: 0.9438, Testing Accuracy: 0.9541\n",
      "\n"
     ]
    },
    {
     "name": "stdout",
     "output_type": "stream",
     "text": [
      "Epoch 70, Loss 0.0531\n",
      "Training Accuracy: 0.9465, Testing Accuracy: 0.9577\n",
      "\n"
     ]
    },
    {
     "name": "stdout",
     "output_type": "stream",
     "text": [
      "Epoch 80, Loss 0.0508\n",
      "Training Accuracy: 0.9483, Testing Accuracy: 0.9572\n",
      "\n"
     ]
    },
    {
     "name": "stdout",
     "output_type": "stream",
     "text": [
      "Epoch 90, Loss 0.049\n",
      "Training Accuracy: 0.9498, Testing Accuracy: 0.9587\n",
      "\n"
     ]
    },
    {
     "name": "stdout",
     "output_type": "stream",
     "text": [
      "Epoch 100, Loss 0.0474\n",
      "Training Accuracy: 0.9510, Testing Accuracy: 0.9592\n",
      "\n"
     ]
    },
    {
     "name": "stdout",
     "output_type": "stream",
     "text": [
      "Epoch 110, Loss 0.0461\n",
      "Training Accuracy: 0.9519, Testing Accuracy: 0.9612\n",
      "\n"
     ]
    },
    {
     "name": "stdout",
     "output_type": "stream",
     "text": [
      "Epoch 120, Loss 0.0449\n",
      "Training Accuracy: 0.9532, Testing Accuracy: 0.9622\n",
      "\n"
     ]
    },
    {
     "name": "stdout",
     "output_type": "stream",
     "text": [
      "Epoch 130, Loss 0.0439\n",
      "Training Accuracy: 0.9540, Testing Accuracy: 0.9622\n",
      "\n"
     ]
    },
    {
     "name": "stdout",
     "output_type": "stream",
     "text": [
      "Epoch 140, Loss 0.043\n",
      "Training Accuracy: 0.9548, Testing Accuracy: 0.9627\n",
      "\n"
     ]
    },
    {
     "name": "stdout",
     "output_type": "stream",
     "text": [
      "Epoch 150, Loss 0.0422\n",
      "Training Accuracy: 0.9558, Testing Accuracy: 0.9637\n",
      "\n"
     ]
    },
    {
     "name": "stdout",
     "output_type": "stream",
     "text": [
      "Epoch 160, Loss 0.0415\n",
      "Training Accuracy: 0.9568, Testing Accuracy: 0.9637\n",
      "\n"
     ]
    },
    {
     "name": "stdout",
     "output_type": "stream",
     "text": [
      "Epoch 170, Loss 0.0409\n",
      "Training Accuracy: 0.9571, Testing Accuracy: 0.9637\n",
      "\n"
     ]
    },
    {
     "name": "stdout",
     "output_type": "stream",
     "text": [
      "Epoch 180, Loss 0.0402\n",
      "Training Accuracy: 0.9570, Testing Accuracy: 0.9642\n",
      "\n"
     ]
    },
    {
     "name": "stdout",
     "output_type": "stream",
     "text": [
      "Epoch 190, Loss 0.0397\n",
      "Training Accuracy: 0.9580, Testing Accuracy: 0.9642\n",
      "\n"
     ]
    },
    {
     "name": "stdout",
     "output_type": "stream",
     "text": [
      "Epoch 200, Loss 0.0392\n",
      "Training Accuracy: 0.9584, Testing Accuracy: 0.9647\n",
      "\n"
     ]
    },
    {
     "name": "stdout",
     "output_type": "stream",
     "text": [
      "Epoch 210, Loss 0.0387\n",
      "Training Accuracy: 0.9587, Testing Accuracy: 0.9647\n",
      "\n"
     ]
    },
    {
     "name": "stdout",
     "output_type": "stream",
     "text": [
      "Epoch 220, Loss 0.0383\n",
      "Training Accuracy: 0.9588, Testing Accuracy: 0.9647\n",
      "\n"
     ]
    },
    {
     "name": "stdout",
     "output_type": "stream",
     "text": [
      "Epoch 230, Loss 0.0379\n",
      "Training Accuracy: 0.9588, Testing Accuracy: 0.9657\n",
      "\n"
     ]
    },
    {
     "name": "stdout",
     "output_type": "stream",
     "text": [
      "Epoch 240, Loss 0.0375\n",
      "Training Accuracy: 0.9592, Testing Accuracy: 0.9657\n",
      "\n"
     ]
    },
    {
     "name": "stdout",
     "output_type": "stream",
     "text": [
      "Epoch 250, Loss 0.0371\n",
      "Training Accuracy: 0.9593, Testing Accuracy: 0.9662\n",
      "\n"
     ]
    },
    {
     "data": {
      "text/plain": [
       "0.045550398271285424"
      ]
     },
     "execution_count": 22,
     "metadata": {},
     "output_type": "execute_result"
    }
   ],
   "source": [
    "print(\"====== Logistic Regression ======\")\n",
    "learner_lr.train_loop(dl)"
   ]
  },
  {
   "cell_type": "markdown",
   "metadata": {
    "papermill": {
     "duration": 0.039536,
     "end_time": "2020-11-11T00:06:27.445857",
     "exception": false,
     "start_time": "2020-11-11T00:06:27.406321",
     "status": "completed"
    },
    "tags": []
   },
   "source": [
    "### Comparing results of NN and LR"
   ]
  },
  {
   "cell_type": "code",
   "execution_count": 23,
   "metadata": {
    "execution": {
     "iopub.execute_input": "2020-11-11T00:06:27.528248Z",
     "iopub.status.busy": "2020-11-11T00:06:27.527638Z",
     "iopub.status.idle": "2020-11-11T00:06:27.739981Z",
     "shell.execute_reply": "2020-11-11T00:06:27.740398Z"
    },
    "papermill": {
     "duration": 0.256103,
     "end_time": "2020-11-11T00:06:27.740542",
     "exception": false,
     "start_time": "2020-11-11T00:06:27.484439",
     "status": "completed"
    },
    "tags": []
   },
   "outputs": [
    {
     "data": {
      "text/plain": [
       "<matplotlib.legend.Legend at 0x7f56a69be198>"
      ]
     },
     "execution_count": 23,
     "metadata": {},
     "output_type": "execute_result"
    },
    {
     "data": {
      "image/png": "[encoded data removed]",
      "text/plain": [
       "<Figure size 1080x720 with 1 Axes>"
      ]
     },
     "metadata": {
      "needs_background": "light"
     },
     "output_type": "display_data"
    }
   ],
   "source": [
    "plt.figure(figsize=(15,10))\n",
    "\n",
    "# Neural Network plots\n",
    "plt.plot(acc_nn.accuracies, 'r-', label = \"Training Accuracies - NN\")\n",
    "plt.plot(acc_nn.test_accuracies, 'g-', label = \"Testing Accuracies - NN\")\n",
    "\n",
    "# Logistic Regression plots\n",
    "plt.plot(acc_lr.accuracies, 'k-', label = \"Training Accuracies - LR\")\n",
    "plt.plot(acc_lr.test_accuracies, 'b-', label = \"Testing Accuracies - LR\")\n",
    "\n",
    "plt.ylim(0.8, 1)\n",
    "\n",
    "plt.legend()\n",
    "\n"
   ]
  },
  {
   "cell_type": "markdown",
   "metadata": {
    "papermill": {
     "duration": 0.040088,
     "end_time": "2020-11-11T00:06:27.821187",
     "exception": false,
     "start_time": "2020-11-11T00:06:27.781099",
     "status": "completed"
    },
    "tags": []
   },
   "source": [
    "### From the plot, we can observe the following:\n",
    "- Neural Network achieves higher accuracy than the Logistic Regression model.\n",
    "- This apparently, is because of overfitting, i.e. NN captures more noise than data.\n",
    "- Testing accuracy of NN drops below the Training accuracy at higher epochs. This explains the over-fitting on training data.\n",
    "- Logistic Regression gives a reliable accuracy, without the above mentioned problem.\n"
   ]
  },
  {
   "cell_type": "markdown",
   "metadata": {
    "papermill": {
     "duration": 0.040074,
     "end_time": "2020-11-11T00:06:27.901456",
     "exception": false,
     "start_time": "2020-11-11T00:06:27.861382",
     "status": "completed"
    },
    "tags": []
   },
   "source": [
    "### Moving till the last but one layer (excluding it).\n",
    "#### Plotting the outputs of this layer of the NN."
   ]
  },
  {
   "cell_type": "code",
   "execution_count": 24,
   "metadata": {
    "execution": {
     "iopub.execute_input": "2020-11-11T00:06:27.986006Z",
     "iopub.status.busy": "2020-11-11T00:06:27.985493Z",
     "iopub.status.idle": "2020-11-11T00:06:27.996200Z",
     "shell.execute_reply": "2020-11-11T00:06:27.996601Z"
    },
    "papermill": {
     "duration": 0.055161,
     "end_time": "2020-11-11T00:06:27.996736",
     "exception": false,
     "start_time": "2020-11-11T00:06:27.941575",
     "status": "completed"
    },
    "tags": []
   },
   "outputs": [],
   "source": [
    "model_new = Model(layers[:-2])"
   ]
  },
  {
   "cell_type": "code",
   "execution_count": 25,
   "metadata": {
    "execution": {
     "iopub.execute_input": "2020-11-11T00:06:28.095708Z",
     "iopub.status.busy": "2020-11-11T00:06:28.086155Z",
     "iopub.status.idle": "2020-11-11T00:06:28.102288Z",
     "shell.execute_reply": "2020-11-11T00:06:28.102697Z"
    },
    "papermill": {
     "duration": 0.065933,
     "end_time": "2020-11-11T00:06:28.102836",
     "exception": false,
     "start_time": "2020-11-11T00:06:28.036903",
     "status": "completed"
    },
    "tags": []
   },
   "outputs": [],
   "source": [
    "plot_testing = model_new(testing_xdata)"
   ]
  },
  {
   "cell_type": "code",
   "execution_count": 26,
   "metadata": {
    "execution": {
     "iopub.execute_input": "2020-11-11T00:06:28.194799Z",
     "iopub.status.busy": "2020-11-11T00:06:28.194298Z",
     "iopub.status.idle": "2020-11-11T00:06:28.357129Z",
     "shell.execute_reply": "2020-11-11T00:06:28.357623Z"
    },
    "papermill": {
     "duration": 0.214125,
     "end_time": "2020-11-11T00:06:28.357781",
     "exception": false,
     "start_time": "2020-11-11T00:06:28.143656",
     "status": "completed"
    },
    "tags": []
   },
   "outputs": [
    {
     "data": {
      "text/plain": [
       "Text(0.5, 1.0, 'Outputs')"
      ]
     },
     "execution_count": 26,
     "metadata": {},
     "output_type": "execute_result"
    },
    {
     "data": {
      "image/png": "[encoded data removed]",
      "text/plain": [
       "<Figure size 576x504 with 1 Axes>"
      ]
     },
     "metadata": {
      "needs_background": "light"
     },
     "output_type": "display_data"
    }
   ],
   "source": [
    "plt.figure(figsize=(8,7))\n",
    "plt.scatter(plot_testing[:,0], plot_testing[:,1], alpha = 0.1, c = y_test.ravel());\n",
    "plt.title('Outputs')"
   ]
  },
  {
   "cell_type": "markdown",
   "metadata": {
    "papermill": {
     "duration": 0.041965,
     "end_time": "2020-11-11T00:06:28.442759",
     "exception": false,
     "start_time": "2020-11-11T00:06:28.400794",
     "status": "completed"
    },
    "tags": []
   },
   "source": [
    "### Plotting probability contours"
   ]
  },
  {
   "cell_type": "code",
   "execution_count": 27,
   "metadata": {
    "execution": {
     "iopub.execute_input": "2020-11-11T00:06:28.530573Z",
     "iopub.status.busy": "2020-11-11T00:06:28.530070Z",
     "iopub.status.idle": "2020-11-11T00:06:28.541753Z",
     "shell.execute_reply": "2020-11-11T00:06:28.541312Z"
    },
    "papermill": {
     "duration": 0.057154,
     "end_time": "2020-11-11T00:06:28.541873",
     "exception": false,
     "start_time": "2020-11-11T00:06:28.484719",
     "status": "completed"
    },
    "tags": []
   },
   "outputs": [],
   "source": [
    "model_prob = Model(layers[-2:]) "
   ]
  },
  {
   "cell_type": "code",
   "execution_count": 28,
   "metadata": {
    "execution": {
     "iopub.execute_input": "2020-11-11T00:06:28.634926Z",
     "iopub.status.busy": "2020-11-11T00:06:28.634324Z",
     "iopub.status.idle": "2020-11-11T00:06:28.646212Z",
     "shell.execute_reply": "2020-11-11T00:06:28.646618Z"
    },
    "papermill": {
     "duration": 0.062137,
     "end_time": "2020-11-11T00:06:28.646756",
     "exception": false,
     "start_time": "2020-11-11T00:06:28.584619",
     "status": "completed"
    },
    "tags": []
   },
   "outputs": [],
   "source": [
    "# Adjust the x and y ranges according to the above generated plot.\n",
    "x_range = np.linspace(-4, 1, 100) \n",
    "y_range = np.linspace(-6, 6, 100) \n",
    "x_grid, y_grid = np.meshgrid(x_range, y_range) # x_grid and y_grig are of size 100 X 100\n",
    "\n",
    "# converting x_grid and y_grid to continuous arrays\n",
    "x_grid_flat = np.ravel(x_grid)\n",
    "y_grid_flat = np.ravel(y_grid)\n",
    "\n",
    "# The last layer of the current model takes two columns as input. Hence transpose of np.vstack() is required.\n",
    "X = np.vstack((x_grid_flat, y_grid_flat)).T\n",
    "\n",
    "# x_grid and y_grid are of size 100 x 100\n",
    "probability_contour = model_prob(X).reshape(100,100) "
   ]
  },
  {
   "cell_type": "code",
   "execution_count": 29,
   "metadata": {
    "execution": {
     "iopub.execute_input": "2020-11-11T00:06:28.742547Z",
     "iopub.status.busy": "2020-11-11T00:06:28.742039Z",
     "iopub.status.idle": "2020-11-11T00:06:28.955881Z",
     "shell.execute_reply": "2020-11-11T00:06:28.956266Z"
    },
    "papermill": {
     "duration": 0.266585,
     "end_time": "2020-11-11T00:06:28.956411",
     "exception": false,
     "start_time": "2020-11-11T00:06:28.689826",
     "status": "completed"
    },
    "tags": []
   },
   "outputs": [
    {
     "data": {
      "image/png": "[encoded data removed]",
      "text/plain": [
       "<Figure size 720x648 with 1 Axes>"
      ]
     },
     "metadata": {
      "needs_background": "light"
     },
     "output_type": "display_data"
    }
   ],
   "source": [
    "plt.figure(figsize=(10,9))\n",
    "plt.scatter(plot_testing[:,0], plot_testing[:,1], alpha = 0.1, c = y_test.ravel())\n",
    "contours = plt.contour(x_grid,y_grid,probability_contour)\n",
    "plt.title('Probability Contours')\n",
    "plt.clabel(contours, inline = True );"
   ]
  }
 ],
 "metadata": {
  "kernelspec": {
   "display_name": "Python 3",
   "language": "python",
   "name": "python3"
  },
  "language_info": {
   "codemirror_mode": {
    "name": "ipython",
    "version": 3
   },
   "file_extension": ".py",
   "mimetype": "text/x-python",
   "name": "python",
   "nbconvert_exporter": "python",
   "pygments_lexer": "ipython3",
   "version": "3.6.12"
  },
  "papermill": {
   "duration": 97.130026,
   "end_time": "2020-11-11T00:06:29.409215",
   "environment_variables": {},
   "exception": null,
   "input_path": "2020-08-11-NeuralNetwork.ipynb",
   "output_path": "2020-08-11-NeuralNetwork.ipynb",
   "parameters": {},
   "start_time": "2020-11-11T00:04:52.279189",
   "version": "2.1.2"
  }
 },
 "nbformat": 4,
 "nbformat_minor": 4
}