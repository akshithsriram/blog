{
 "cells": [
  {
   "cell_type": "markdown",
   "metadata": {
    "papermill": {
     "duration": 0.032662,
     "end_time": "2020-09-11T20:04:10.493627",
     "exception": false,
     "start_time": "2020-09-11T20:04:10.460965",
     "status": "completed"
    },
    "tags": []
   },
   "source": [
    "# \"A Basic Neural Network: Differentiate Hand-Written Digits\"\n",
    "\n",
    "- badges: true\n",
    "- author: Akshith Sriram"
   ]
  },
  {
   "cell_type": "markdown",
   "metadata": {
    "papermill": {
     "duration": 0.023071,
     "end_time": "2020-09-11T20:04:10.542342",
     "exception": false,
     "start_time": "2020-09-11T20:04:10.519271",
     "status": "completed"
    },
    "tags": []
   },
   "source": [
    "### Key Objectives:\n",
    "- Building a neural network that differentiates two hand-written digits 3 and 8.\n",
    "- Comparing the results of this Neural Network (NN) to that of a Logistic Regression (LR) model.\n",
    "\n",
    "### Requirements:\n",
    "- 'Kudzu' : A neural network library that was designed during our course by [Univ.AI](www.univ.ai). \n",
    "- MNIST Database\n",
    "\n",
    "If MNIST is not installed, use the command `!pip install mnist` given below.\n",
    "It can be run both from the command line and Jupyter Notebook."
   ]
  },
  {
   "cell_type": "code",
   "execution_count": 1,
   "metadata": {
    "execution": {
     "iopub.execute_input": "2020-09-11T20:04:10.594945Z",
     "iopub.status.busy": "2020-09-11T20:04:10.594322Z",
     "iopub.status.idle": "2020-09-11T20:04:11.979938Z",
     "shell.execute_reply": "2020-09-11T20:04:11.978950Z"
    },
    "papermill": {
     "duration": 1.414856,
     "end_time": "2020-09-11T20:04:11.980190",
     "exception": false,
     "start_time": "2020-09-11T20:04:10.565334",
     "status": "completed"
    },
    "tags": []
   },
   "outputs": [
    {
     "name": "stdout",
     "output_type": "stream",
     "text": [
      "Collecting mnist\r\n"
     ]
    },
    {
     "name": "stdout",
     "output_type": "stream",
     "text": [
      "  Downloading mnist-0.2.2-py2.py3-none-any.whl (3.5 kB)\r\n",
      "Requirement already satisfied: numpy in /opt/hostedtoolcache/Python/3.6.12/x64/lib/python3.6/site-packages (from mnist) (1.19.2)\r\n"
     ]
    },
    {
     "name": "stdout",
     "output_type": "stream",
     "text": [
      "Installing collected packages: mnist\r\n"
     ]
    },
    {
     "name": "stdout",
     "output_type": "stream",
     "text": [
      "Successfully installed mnist-0.2.2\r\n"
     ]
    },
    {
     "name": "stdout",
     "output_type": "stream",
     "text": [
      "\u001b[33mWARNING: You are using pip version 20.2.2; however, version 20.2.3 is available.\r\n",
      "You should consider upgrading via the '/opt/hostedtoolcache/Python/3.6.12/x64/bin/python -m pip install --upgrade pip' command.\u001b[0m\r\n"
     ]
    }
   ],
   "source": [
    "!pip install mnist "
   ]
  },
  {
   "cell_type": "markdown",
   "metadata": {
    "papermill": {
     "duration": 0.02501,
     "end_time": "2020-09-11T20:04:12.030410",
     "exception": false,
     "start_time": "2020-09-11T20:04:12.005400",
     "status": "completed"
    },
    "tags": []
   },
   "source": [
    "#### Importing necessary libraries"
   ]
  },
  {
   "cell_type": "code",
   "execution_count": 2,
   "metadata": {
    "execution": {
     "iopub.execute_input": "2020-09-11T20:04:12.095249Z",
     "iopub.status.busy": "2020-09-11T20:04:12.094655Z",
     "iopub.status.idle": "2020-09-11T20:04:12.636669Z",
     "shell.execute_reply": "2020-09-11T20:04:12.635186Z"
    },
    "papermill": {
     "duration": 0.579509,
     "end_time": "2020-09-11T20:04:12.636898",
     "exception": false,
     "start_time": "2020-09-11T20:04:12.057389",
     "status": "completed"
    },
    "tags": []
   },
   "outputs": [],
   "source": [
    "%load_ext autoreload\n",
    "%autoreload 2\n",
    "\n",
    "%matplotlib inline\n",
    "import matplotlib.pyplot as plt\n",
    "\n",
    "import numpy as np\n",
    "import pandas as pd"
   ]
  },
  {
   "cell_type": "markdown",
   "metadata": {
    "papermill": {
     "duration": 0.025353,
     "end_time": "2020-09-11T20:04:12.689287",
     "exception": false,
     "start_time": "2020-09-11T20:04:12.663934",
     "status": "completed"
    },
    "tags": []
   },
   "source": [
    "### Preparing the Data"
   ]
  },
  {
   "cell_type": "code",
   "execution_count": 3,
   "metadata": {
    "execution": {
     "iopub.execute_input": "2020-09-11T20:04:12.743737Z",
     "iopub.status.busy": "2020-09-11T20:04:12.743165Z",
     "iopub.status.idle": "2020-09-11T20:04:12.755676Z",
     "shell.execute_reply": "2020-09-11T20:04:12.755204Z"
    },
    "papermill": {
     "duration": 0.041373,
     "end_time": "2020-09-11T20:04:12.755799",
     "exception": false,
     "start_time": "2020-09-11T20:04:12.714426",
     "status": "completed"
    },
    "tags": []
   },
   "outputs": [],
   "source": [
    "import mnist"
   ]
  },
  {
   "cell_type": "code",
   "execution_count": 4,
   "metadata": {
    "execution": {
     "iopub.execute_input": "2020-09-11T20:04:12.812460Z",
     "iopub.status.busy": "2020-09-11T20:04:12.811883Z",
     "iopub.status.idle": "2020-09-11T20:04:13.477833Z",
     "shell.execute_reply": "2020-09-11T20:04:13.477281Z"
    },
    "papermill": {
     "duration": 0.696894,
     "end_time": "2020-09-11T20:04:13.477962",
     "exception": false,
     "start_time": "2020-09-11T20:04:12.781068",
     "status": "completed"
    },
    "tags": []
   },
   "outputs": [],
   "source": [
    "train_images = mnist.train_images()\n",
    "train_labels = mnist.train_labels()"
   ]
  },
  {
   "cell_type": "code",
   "execution_count": 5,
   "metadata": {
    "execution": {
     "iopub.execute_input": "2020-09-11T20:04:13.535395Z",
     "iopub.status.busy": "2020-09-11T20:04:13.534837Z",
     "iopub.status.idle": "2020-09-11T20:04:13.547253Z",
     "shell.execute_reply": "2020-09-11T20:04:13.546740Z"
    },
    "papermill": {
     "duration": 0.044143,
     "end_time": "2020-09-11T20:04:13.547370",
     "exception": false,
     "start_time": "2020-09-11T20:04:13.503227",
     "status": "completed"
    },
    "tags": []
   },
   "outputs": [
    {
     "data": {
      "text/plain": [
       "((60000, 28, 28), (60000,))"
      ]
     },
     "execution_count": 5,
     "metadata": {},
     "output_type": "execute_result"
    }
   ],
   "source": [
    "train_images.shape, train_labels.shape"
   ]
  },
  {
   "cell_type": "code",
   "execution_count": 6,
   "metadata": {
    "execution": {
     "iopub.execute_input": "2020-09-11T20:04:13.605260Z",
     "iopub.status.busy": "2020-09-11T20:04:13.604649Z",
     "iopub.status.idle": "2020-09-11T20:04:13.900107Z",
     "shell.execute_reply": "2020-09-11T20:04:13.899570Z"
    },
    "papermill": {
     "duration": 0.326575,
     "end_time": "2020-09-11T20:04:13.900237",
     "exception": false,
     "start_time": "2020-09-11T20:04:13.573662",
     "status": "completed"
    },
    "tags": []
   },
   "outputs": [],
   "source": [
    "test_images = mnist.test_images()\n",
    "test_labels = mnist.test_labels()"
   ]
  },
  {
   "cell_type": "code",
   "execution_count": 7,
   "metadata": {
    "execution": {
     "iopub.execute_input": "2020-09-11T20:04:13.953400Z",
     "iopub.status.busy": "2020-09-11T20:04:13.952816Z",
     "iopub.status.idle": "2020-09-11T20:04:13.965684Z",
     "shell.execute_reply": "2020-09-11T20:04:13.966137Z"
    },
    "papermill": {
     "duration": 0.040054,
     "end_time": "2020-09-11T20:04:13.966276",
     "exception": false,
     "start_time": "2020-09-11T20:04:13.926222",
     "status": "completed"
    },
    "tags": []
   },
   "outputs": [
    {
     "data": {
      "text/plain": [
       "((10000, 28, 28), (10000,))"
      ]
     },
     "execution_count": 7,
     "metadata": {},
     "output_type": "execute_result"
    }
   ],
   "source": [
    "test_images.shape, test_labels.shape"
   ]
  },
  {
   "cell_type": "code",
   "execution_count": 8,
   "metadata": {
    "execution": {
     "iopub.execute_input": "2020-09-11T20:04:14.020661Z",
     "iopub.status.busy": "2020-09-11T20:04:14.020144Z",
     "iopub.status.idle": "2020-09-11T20:04:14.158123Z",
     "shell.execute_reply": "2020-09-11T20:04:14.157616Z"
    },
    "papermill": {
     "duration": 0.167138,
     "end_time": "2020-09-11T20:04:14.158267",
     "exception": false,
     "start_time": "2020-09-11T20:04:13.991129",
     "status": "completed"
    },
    "tags": []
   },
   "outputs": [
    {
     "name": "stdout",
     "output_type": "stream",
     "text": [
      "2\n"
     ]
    },
    {
     "data": {
      "text/plain": [
       "<matplotlib.image.AxesImage at 0x7f03c5652780>"
      ]
     },
     "execution_count": 8,
     "metadata": {},
     "output_type": "execute_result"
    },
    {
     "data": {
      "image/png": "[encoded data removed]",
      "text/plain": [
       "<Figure size 432x288 with 1 Axes>"
      ]
     },
     "metadata": {
      "needs_background": "light"
     },
     "output_type": "display_data"
    }
   ],
   "source": [
    "image_index = 7776 # You may select anything up to 60,000\n",
    "print(train_labels[image_index]) \n",
    "plt.imshow(train_images[image_index], cmap='Greys')"
   ]
  },
  {
   "cell_type": "markdown",
   "metadata": {
    "papermill": {
     "duration": 0.025368,
     "end_time": "2020-09-11T20:04:14.208423",
     "exception": false,
     "start_time": "2020-09-11T20:04:14.183055",
     "status": "completed"
    },
    "tags": []
   },
   "source": [
    "## Filter data to get 3 and 8 out"
   ]
  },
  {
   "cell_type": "code",
   "execution_count": 9,
   "metadata": {
    "execution": {
     "iopub.execute_input": "2020-09-11T20:04:14.266499Z",
     "iopub.status.busy": "2020-09-11T20:04:14.265417Z",
     "iopub.status.idle": "2020-09-11T20:04:14.285112Z",
     "shell.execute_reply": "2020-09-11T20:04:14.284110Z"
    },
    "papermill": {
     "duration": 0.050271,
     "end_time": "2020-09-11T20:04:14.285232",
     "exception": false,
     "start_time": "2020-09-11T20:04:14.234961",
     "status": "completed"
    },
    "tags": []
   },
   "outputs": [],
   "source": [
    "train_filter = np.where((train_labels == 3 ) | (train_labels == 8))\n",
    "test_filter = np.where((test_labels == 3) | (test_labels == 8))\n",
    "X_train, y_train = train_images[train_filter], train_labels[train_filter]\n",
    "X_test, y_test = test_images[test_filter], test_labels[test_filter]"
   ]
  },
  {
   "cell_type": "markdown",
   "metadata": {
    "papermill": {
     "duration": 0.11151,
     "end_time": "2020-09-11T20:04:14.421100",
     "exception": false,
     "start_time": "2020-09-11T20:04:14.309590",
     "status": "completed"
    },
    "tags": []
   },
   "source": [
    "We normalize the pixel values in the 0 to 1 range"
   ]
  },
  {
   "cell_type": "code",
   "execution_count": 10,
   "metadata": {
    "execution": {
     "iopub.execute_input": "2020-09-11T20:04:14.664812Z",
     "iopub.status.busy": "2020-09-11T20:04:14.655583Z",
     "iopub.status.idle": "2020-09-11T20:04:14.703689Z",
     "shell.execute_reply": "2020-09-11T20:04:14.702776Z"
    },
    "papermill": {
     "duration": 0.077135,
     "end_time": "2020-09-11T20:04:14.703927",
     "exception": false,
     "start_time": "2020-09-11T20:04:14.626792",
     "status": "completed"
    },
    "tags": []
   },
   "outputs": [],
   "source": [
    "X_train = X_train/255.\n",
    "X_test = X_test/255."
   ]
  },
  {
   "cell_type": "markdown",
   "metadata": {
    "papermill": {
     "duration": 0.043039,
     "end_time": "2020-09-11T20:04:15.123807",
     "exception": false,
     "start_time": "2020-09-11T20:04:15.080768",
     "status": "completed"
    },
    "tags": []
   },
   "source": [
    "Setup the labels as 1 (when the digit is 3) and 0 (when the digit is 8)"
   ]
  },
  {
   "cell_type": "code",
   "execution_count": 11,
   "metadata": {
    "execution": {
     "iopub.execute_input": "2020-09-11T20:04:15.184035Z",
     "iopub.status.busy": "2020-09-11T20:04:15.183481Z",
     "iopub.status.idle": "2020-09-11T20:04:15.196511Z",
     "shell.execute_reply": "2020-09-11T20:04:15.196957Z"
    },
    "papermill": {
     "duration": 0.045235,
     "end_time": "2020-09-11T20:04:15.197106",
     "exception": false,
     "start_time": "2020-09-11T20:04:15.151871",
     "status": "completed"
    },
    "tags": []
   },
   "outputs": [],
   "source": [
    "y_train = 1*(y_train==3)\n",
    "y_test = 1*(y_test==3)"
   ]
  },
  {
   "cell_type": "code",
   "execution_count": 12,
   "metadata": {
    "execution": {
     "iopub.execute_input": "2020-09-11T20:04:15.259405Z",
     "iopub.status.busy": "2020-09-11T20:04:15.258840Z",
     "iopub.status.idle": "2020-09-11T20:04:15.270652Z",
     "shell.execute_reply": "2020-09-11T20:04:15.270156Z"
    },
    "papermill": {
     "duration": 0.046223,
     "end_time": "2020-09-11T20:04:15.270774",
     "exception": false,
     "start_time": "2020-09-11T20:04:15.224551",
     "status": "completed"
    },
    "tags": []
   },
   "outputs": [
    {
     "data": {
      "text/plain": [
       "((11982, 28, 28), (1984, 28, 28))"
      ]
     },
     "execution_count": 12,
     "metadata": {},
     "output_type": "execute_result"
    }
   ],
   "source": [
    "X_train.shape, X_test.shape"
   ]
  },
  {
   "cell_type": "markdown",
   "metadata": {
    "papermill": {
     "duration": 0.026846,
     "end_time": "2020-09-11T20:04:15.323746",
     "exception": false,
     "start_time": "2020-09-11T20:04:15.296900",
     "status": "completed"
    },
    "tags": []
   },
   "source": [
    "### Reshape the input data to create a linear array"
   ]
  },
  {
   "cell_type": "code",
   "execution_count": 13,
   "metadata": {
    "execution": {
     "iopub.execute_input": "2020-09-11T20:04:15.378761Z",
     "iopub.status.busy": "2020-09-11T20:04:15.378218Z",
     "iopub.status.idle": "2020-09-11T20:04:15.393320Z",
     "shell.execute_reply": "2020-09-11T20:04:15.392825Z"
    },
    "papermill": {
     "duration": 0.043238,
     "end_time": "2020-09-11T20:04:15.393434",
     "exception": false,
     "start_time": "2020-09-11T20:04:15.350196",
     "status": "completed"
    },
    "tags": []
   },
   "outputs": [
    {
     "data": {
      "text/plain": [
       "((11982, 784), (1984, 784))"
      ]
     },
     "execution_count": 13,
     "metadata": {},
     "output_type": "execute_result"
    }
   ],
   "source": [
    "X_train = X_train.reshape(X_train.shape[0], -1)\n",
    "X_test = X_test.reshape(X_test.shape[0], -1)\n",
    "X_train.shape, X_test.shape"
   ]
  },
  {
   "cell_type": "markdown",
   "metadata": {
    "papermill": {
     "duration": 0.026624,
     "end_time": "2020-09-11T20:04:15.445826",
     "exception": false,
     "start_time": "2020-09-11T20:04:15.419202",
     "status": "completed"
    },
    "tags": []
   },
   "source": [
    "### Importing appropriate functions from 'Kudzu'"
   ]
  },
  {
   "cell_type": "code",
   "execution_count": 14,
   "metadata": {
    "execution": {
     "iopub.execute_input": "2020-09-11T20:04:15.506379Z",
     "iopub.status.busy": "2020-09-11T20:04:15.505791Z",
     "iopub.status.idle": "2020-09-11T20:04:15.524770Z",
     "shell.execute_reply": "2020-09-11T20:04:15.525213Z"
    },
    "papermill": {
     "duration": 0.051299,
     "end_time": "2020-09-11T20:04:15.525348",
     "exception": false,
     "start_time": "2020-09-11T20:04:15.474049",
     "status": "completed"
    },
    "tags": []
   },
   "outputs": [],
   "source": [
    "from kudzu.layer import Sigmoid\n",
    "from kudzu.layer import Relu\n",
    "from kudzu.layer import Affine, Sigmoid\n",
    "\n",
    "from kudzu.model import Model\n",
    "from kudzu.train import Learner\n",
    "from kudzu.optim import GD\n",
    "from kudzu.data import Data, Dataloader, Sampler\n",
    "\n",
    "from kudzu.callbacks import AccCallback\n",
    "from kudzu.callbacks import ClfCallback\n",
    "\n",
    "from kudzu.loss import MSE"
   ]
  },
  {
   "cell_type": "markdown",
   "metadata": {
    "papermill": {
     "duration": 0.027977,
     "end_time": "2020-09-11T20:04:15.579309",
     "exception": false,
     "start_time": "2020-09-11T20:04:15.551332",
     "status": "completed"
    },
    "tags": []
   },
   "source": [
    "### Let us create a `Config` class, to store important parameters. \n",
    "This class essentially plays the role of a dictionary."
   ]
  },
  {
   "cell_type": "code",
   "execution_count": 15,
   "metadata": {
    "execution": {
     "iopub.execute_input": "2020-09-11T20:04:15.640536Z",
     "iopub.status.busy": "2020-09-11T20:04:15.639973Z",
     "iopub.status.idle": "2020-09-11T20:04:15.653527Z",
     "shell.execute_reply": "2020-09-11T20:04:15.653981Z"
    },
    "papermill": {
     "duration": 0.046277,
     "end_time": "2020-09-11T20:04:15.654128",
     "exception": false,
     "start_time": "2020-09-11T20:04:15.607851",
     "status": "completed"
    },
    "tags": []
   },
   "outputs": [],
   "source": [
    "class Config:\n",
    "    pass\n",
    "config = Config()\n",
    "config.lr = 0.001\n",
    "config.num_epochs = 251\n",
    "config.bs = 50"
   ]
  },
  {
   "cell_type": "markdown",
   "metadata": {
    "papermill": {
     "duration": 0.026296,
     "end_time": "2020-09-11T20:04:15.706451",
     "exception": false,
     "start_time": "2020-09-11T20:04:15.680155",
     "status": "completed"
    },
    "tags": []
   },
   "source": [
    "### Initializing data to the variables"
   ]
  },
  {
   "cell_type": "code",
   "execution_count": 16,
   "metadata": {
    "execution": {
     "iopub.execute_input": "2020-09-11T20:04:15.766483Z",
     "iopub.status.busy": "2020-09-11T20:04:15.765895Z",
     "iopub.status.idle": "2020-09-11T20:04:15.778374Z",
     "shell.execute_reply": "2020-09-11T20:04:15.777931Z"
    },
    "papermill": {
     "duration": 0.046104,
     "end_time": "2020-09-11T20:04:15.778492",
     "exception": false,
     "start_time": "2020-09-11T20:04:15.732388",
     "status": "completed"
    },
    "tags": []
   },
   "outputs": [],
   "source": [
    "data = Data(X_train, y_train.reshape(-1,1))\n",
    "sampler = Sampler(data, config.bs, shuffle=True)\n",
    "\n",
    "dl = Dataloader(data, sampler)\n",
    "\n",
    "opt = GD(config.lr)\n",
    "loss = MSE()"
   ]
  },
  {
   "cell_type": "code",
   "execution_count": 17,
   "metadata": {
    "execution": {
     "iopub.execute_input": "2020-09-11T20:04:15.836016Z",
     "iopub.status.busy": "2020-09-11T20:04:15.835551Z",
     "iopub.status.idle": "2020-09-11T20:04:15.847816Z",
     "shell.execute_reply": "2020-09-11T20:04:15.847336Z"
    },
    "papermill": {
     "duration": 0.042031,
     "end_time": "2020-09-11T20:04:15.847940",
     "exception": false,
     "start_time": "2020-09-11T20:04:15.805909",
     "status": "completed"
    },
    "tags": []
   },
   "outputs": [],
   "source": [
    "training_xdata = X_train\n",
    "testing_xdata = X_test\n",
    "training_ydata = y_train.reshape(-1,1)\n",
    "testing_ydata = y_test.reshape(-1,1)"
   ]
  },
  {
   "cell_type": "markdown",
   "metadata": {
    "papermill": {
     "duration": 0.028212,
     "end_time": "2020-09-11T20:04:15.902650",
     "exception": false,
     "start_time": "2020-09-11T20:04:15.874438",
     "status": "completed"
    },
    "tags": []
   },
   "source": [
    "### Running Models with the Training data\n",
    "Details about the network layers:\n",
    "- A first affine layer has 784 inputs and does 100 affine transforms. These are followed by a Relu\n",
    "- A second affine layer has 100 inputs from the 100 activations of the past layer, and does 100 affine transforms. These are followed by a Relu\n",
    "- A third affine layer has 100 activations and does 2 affine transformations to create an embedding for visualization. There is no non-linearity here.\n",
    "- A final \"logistic regression\" which has an affine transform from 2 inputs to 1 output, which is squeezed through a sigmoid.\n",
    "\n",
    "Help taken from Anshuman's Notebook."
   ]
  },
  {
   "cell_type": "code",
   "execution_count": 18,
   "metadata": {
    "execution": {
     "iopub.execute_input": "2020-09-11T20:04:15.964682Z",
     "iopub.status.busy": "2020-09-11T20:04:15.964089Z",
     "iopub.status.idle": "2020-09-11T20:04:15.979849Z",
     "shell.execute_reply": "2020-09-11T20:04:15.979371Z"
    },
    "papermill": {
     "duration": 0.050261,
     "end_time": "2020-09-11T20:04:15.979971",
     "exception": false,
     "start_time": "2020-09-11T20:04:15.929710",
     "status": "completed"
    },
    "tags": []
   },
   "outputs": [],
   "source": [
    "# layers for the Neural Network\n",
    "layers = [Affine(\"first\", 784, 100), Relu(\"first\"), Affine(\"second\", 100, 100), Relu(\"second\"), Affine(\"third\", 100, 2), Affine(\"final\", 2, 1), Sigmoid(\"final\")]\n",
    "model_nn = Model(layers)\n",
    "\n",
    "# layers for the Logistic Regression\n",
    "layers_lr = [Affine(\"logits\", 784, 1), Sigmoid(\"sigmoid\")]\n",
    "model_lr = Model(layers_lr)"
   ]
  },
  {
   "cell_type": "code",
   "execution_count": 19,
   "metadata": {
    "execution": {
     "iopub.execute_input": "2020-09-11T20:04:16.044920Z",
     "iopub.status.busy": "2020-09-11T20:04:16.044335Z",
     "iopub.status.idle": "2020-09-11T20:04:16.058490Z",
     "shell.execute_reply": "2020-09-11T20:04:16.058941Z"
    },
    "papermill": {
     "duration": 0.046987,
     "end_time": "2020-09-11T20:04:16.059085",
     "exception": false,
     "start_time": "2020-09-11T20:04:16.012098",
     "status": "completed"
    },
    "tags": []
   },
   "outputs": [],
   "source": [
    "# suffix _nn stands for Neural Network.\n",
    "learner_nn = Learner(loss, model_nn, opt, config.num_epochs)\n",
    "acc_nn = ClfCallback(learner_nn, config.bs, training_xdata , testing_xdata, training_ydata, testing_ydata)\n",
    "learner_nn.set_callbacks([acc_nn])"
   ]
  },
  {
   "cell_type": "code",
   "execution_count": 20,
   "metadata": {
    "execution": {
     "iopub.execute_input": "2020-09-11T20:04:16.117906Z",
     "iopub.status.busy": "2020-09-11T20:04:16.117418Z",
     "iopub.status.idle": "2020-09-11T20:05:39.340731Z",
     "shell.execute_reply": "2020-09-11T20:05:39.340270Z"
    },
    "papermill": {
     "duration": 83.253973,
     "end_time": "2020-09-11T20:05:39.340860",
     "exception": false,
     "start_time": "2020-09-11T20:04:16.086887",
     "status": "completed"
    },
    "tags": []
   },
   "outputs": [
    {
     "name": "stdout",
     "output_type": "stream",
     "text": [
      "====== Neural Network ======\n"
     ]
    },
    {
     "name": "stdout",
     "output_type": "stream",
     "text": [
      "Epoch 0, Loss 0.2467\n",
      "Training Accuracy: 0.5908, Testing Accuracy: 0.6129\n",
      "\n"
     ]
    },
    {
     "name": "stdout",
     "output_type": "stream",
     "text": [
      "Epoch 10, Loss 0.1488\n",
      "Training Accuracy: 0.9042, Testing Accuracy: 0.9138\n",
      "\n"
     ]
    },
    {
     "name": "stdout",
     "output_type": "stream",
     "text": [
      "Epoch 20, Loss 0.0729\n",
      "Training Accuracy: 0.9252, Testing Accuracy: 0.9355\n",
      "\n"
     ]
    },
    {
     "name": "stdout",
     "output_type": "stream",
     "text": [
      "Epoch 30, Loss 0.0531\n",
      "Training Accuracy: 0.9413, Testing Accuracy: 0.9526\n",
      "\n"
     ]
    },
    {
     "name": "stdout",
     "output_type": "stream",
     "text": [
      "Epoch 40, Loss 0.0443\n",
      "Training Accuracy: 0.9503, Testing Accuracy: 0.9577\n",
      "\n"
     ]
    },
    {
     "name": "stdout",
     "output_type": "stream",
     "text": [
      "Epoch 50, Loss 0.0392\n",
      "Training Accuracy: 0.9548, Testing Accuracy: 0.9622\n",
      "\n"
     ]
    },
    {
     "name": "stdout",
     "output_type": "stream",
     "text": [
      "Epoch 60, Loss 0.0358\n",
      "Training Accuracy: 0.9583, Testing Accuracy: 0.9652\n",
      "\n"
     ]
    },
    {
     "name": "stdout",
     "output_type": "stream",
     "text": [
      "Epoch 70, Loss 0.0333\n",
      "Training Accuracy: 0.9612, Testing Accuracy: 0.9682\n",
      "\n"
     ]
    },
    {
     "name": "stdout",
     "output_type": "stream",
     "text": [
      "Epoch 80, Loss 0.0314\n",
      "Training Accuracy: 0.9630, Testing Accuracy: 0.9693\n",
      "\n"
     ]
    },
    {
     "name": "stdout",
     "output_type": "stream",
     "text": [
      "Epoch 90, Loss 0.0298\n",
      "Training Accuracy: 0.9648, Testing Accuracy: 0.9688\n",
      "\n"
     ]
    },
    {
     "name": "stdout",
     "output_type": "stream",
     "text": [
      "Epoch 100, Loss 0.0286\n",
      "Training Accuracy: 0.9665, Testing Accuracy: 0.9693\n",
      "\n"
     ]
    },
    {
     "name": "stdout",
     "output_type": "stream",
     "text": [
      "Epoch 110, Loss 0.0275\n",
      "Training Accuracy: 0.9676, Testing Accuracy: 0.9723\n",
      "\n"
     ]
    },
    {
     "name": "stdout",
     "output_type": "stream",
     "text": [
      "Epoch 120, Loss 0.0265\n",
      "Training Accuracy: 0.9691, Testing Accuracy: 0.9728\n",
      "\n"
     ]
    },
    {
     "name": "stdout",
     "output_type": "stream",
     "text": [
      "Epoch 130, Loss 0.0257\n",
      "Training Accuracy: 0.9701, Testing Accuracy: 0.9723\n",
      "\n"
     ]
    },
    {
     "name": "stdout",
     "output_type": "stream",
     "text": [
      "Epoch 140, Loss 0.025\n",
      "Training Accuracy: 0.9711, Testing Accuracy: 0.9723\n",
      "\n"
     ]
    },
    {
     "name": "stdout",
     "output_type": "stream",
     "text": [
      "Epoch 150, Loss 0.0243\n",
      "Training Accuracy: 0.9719, Testing Accuracy: 0.9723\n",
      "\n"
     ]
    },
    {
     "name": "stdout",
     "output_type": "stream",
     "text": [
      "Epoch 160, Loss 0.0237\n",
      "Training Accuracy: 0.9729, Testing Accuracy: 0.9738\n",
      "\n"
     ]
    },
    {
     "name": "stdout",
     "output_type": "stream",
     "text": [
      "Epoch 170, Loss 0.0231\n",
      "Training Accuracy: 0.9742, Testing Accuracy: 0.9743\n",
      "\n"
     ]
    },
    {
     "name": "stdout",
     "output_type": "stream",
     "text": [
      "Epoch 180, Loss 0.0225\n",
      "Training Accuracy: 0.9750, Testing Accuracy: 0.9743\n",
      "\n"
     ]
    },
    {
     "name": "stdout",
     "output_type": "stream",
     "text": [
      "Epoch 190, Loss 0.022\n",
      "Training Accuracy: 0.9753, Testing Accuracy: 0.9743\n",
      "\n"
     ]
    },
    {
     "name": "stdout",
     "output_type": "stream",
     "text": [
      "Epoch 200, Loss 0.0216\n",
      "Training Accuracy: 0.9760, Testing Accuracy: 0.9743\n",
      "\n"
     ]
    },
    {
     "name": "stdout",
     "output_type": "stream",
     "text": [
      "Epoch 210, Loss 0.0211\n",
      "Training Accuracy: 0.9765, Testing Accuracy: 0.9738\n",
      "\n"
     ]
    },
    {
     "name": "stdout",
     "output_type": "stream",
     "text": [
      "Epoch 220, Loss 0.0207\n",
      "Training Accuracy: 0.9771, Testing Accuracy: 0.9733\n",
      "\n"
     ]
    },
    {
     "name": "stdout",
     "output_type": "stream",
     "text": [
      "Epoch 230, Loss 0.0203\n",
      "Training Accuracy: 0.9778, Testing Accuracy: 0.9728\n",
      "\n"
     ]
    },
    {
     "name": "stdout",
     "output_type": "stream",
     "text": [
      "Epoch 240, Loss 0.0199\n",
      "Training Accuracy: 0.9784, Testing Accuracy: 0.9728\n",
      "\n"
     ]
    },
    {
     "name": "stdout",
     "output_type": "stream",
     "text": [
      "Epoch 250, Loss 0.0195\n",
      "Training Accuracy: 0.9788, Testing Accuracy: 0.9723\n",
      "\n"
     ]
    },
    {
     "data": {
      "text/plain": [
       "0.008103766106593222"
      ]
     },
     "execution_count": 20,
     "metadata": {},
     "output_type": "execute_result"
    }
   ],
   "source": [
    "print(\"====== Neural Network ======\")\n",
    "learner_nn.train_loop(dl)"
   ]
  },
  {
   "cell_type": "markdown",
   "metadata": {
    "papermill": {
     "duration": 0.036545,
     "end_time": "2020-09-11T20:05:39.414728",
     "exception": false,
     "start_time": "2020-09-11T20:05:39.378183",
     "status": "completed"
    },
    "tags": []
   },
   "source": [
    "### Logistic Regression based Implementation."
   ]
  },
  {
   "cell_type": "code",
   "execution_count": 21,
   "metadata": {
    "execution": {
     "iopub.execute_input": "2020-09-11T20:05:39.496750Z",
     "iopub.status.busy": "2020-09-11T20:05:39.496135Z",
     "iopub.status.idle": "2020-09-11T20:05:39.508542Z",
     "shell.execute_reply": "2020-09-11T20:05:39.508070Z"
    },
    "papermill": {
     "duration": 0.057707,
     "end_time": "2020-09-11T20:05:39.508690",
     "exception": false,
     "start_time": "2020-09-11T20:05:39.450983",
     "status": "completed"
    },
    "tags": []
   },
   "outputs": [],
   "source": [
    "learner_lr = Learner(loss, model_lr, opt, config.num_epochs)\n",
    "acc_lr = ClfCallback(learner_lr, config.bs, training_xdata , testing_xdata, training_ydata, testing_ydata)\n",
    "learner_lr.set_callbacks([acc_lr])"
   ]
  },
  {
   "cell_type": "code",
   "execution_count": 22,
   "metadata": {
    "execution": {
     "iopub.execute_input": "2020-09-11T20:05:39.592704Z",
     "iopub.status.busy": "2020-09-11T20:05:39.585206Z",
     "iopub.status.idle": "2020-09-11T20:05:56.640758Z",
     "shell.execute_reply": "2020-09-11T20:05:56.641574Z"
    },
    "papermill": {
     "duration": 17.097419,
     "end_time": "2020-09-11T20:05:56.641734",
     "exception": false,
     "start_time": "2020-09-11T20:05:39.544315",
     "status": "completed"
    },
    "tags": []
   },
   "outputs": [
    {
     "name": "stdout",
     "output_type": "stream",
     "text": [
      "====== Logistic Regression ======\n",
      "Epoch 0, Loss 0.2548\n",
      "Training Accuracy: 0.6209, Testing Accuracy: 0.6396\n",
      "\n"
     ]
    },
    {
     "name": "stdout",
     "output_type": "stream",
     "text": [
      "Epoch 10, Loss 0.1064\n",
      "Training Accuracy: 0.8998, Testing Accuracy: 0.9163\n",
      "\n"
     ]
    },
    {
     "name": "stdout",
     "output_type": "stream",
     "text": [
      "Epoch 20, Loss 0.0808\n",
      "Training Accuracy: 0.9223, Testing Accuracy: 0.9380\n",
      "\n"
     ]
    },
    {
     "name": "stdout",
     "output_type": "stream",
     "text": [
      "Epoch 30, Loss 0.0692\n",
      "Training Accuracy: 0.9331, Testing Accuracy: 0.9456\n",
      "\n"
     ]
    },
    {
     "name": "stdout",
     "output_type": "stream",
     "text": [
      "Epoch 40, Loss 0.0623\n",
      "Training Accuracy: 0.9385, Testing Accuracy: 0.9491\n",
      "\n"
     ]
    },
    {
     "name": "stdout",
     "output_type": "stream",
     "text": [
      "Epoch 50, Loss 0.0576\n",
      "Training Accuracy: 0.9424, Testing Accuracy: 0.9526\n",
      "\n"
     ]
    },
    {
     "name": "stdout",
     "output_type": "stream",
     "text": [
      "Epoch 60, Loss 0.0542\n",
      "Training Accuracy: 0.9463, Testing Accuracy: 0.9556\n",
      "\n"
     ]
    },
    {
     "name": "stdout",
     "output_type": "stream",
     "text": [
      "Epoch 70, Loss 0.0515\n",
      "Training Accuracy: 0.9478, Testing Accuracy: 0.9592\n",
      "\n"
     ]
    },
    {
     "name": "stdout",
     "output_type": "stream",
     "text": [
      "Epoch 80, Loss 0.0494\n",
      "Training Accuracy: 0.9503, Testing Accuracy: 0.9612\n",
      "\n"
     ]
    },
    {
     "name": "stdout",
     "output_type": "stream",
     "text": [
      "Epoch 90, Loss 0.0477\n",
      "Training Accuracy: 0.9520, Testing Accuracy: 0.9627\n",
      "\n"
     ]
    },
    {
     "name": "stdout",
     "output_type": "stream",
     "text": [
      "Epoch 100, Loss 0.0462\n",
      "Training Accuracy: 0.9531, Testing Accuracy: 0.9637\n",
      "\n"
     ]
    },
    {
     "name": "stdout",
     "output_type": "stream",
     "text": [
      "Epoch 110, Loss 0.045\n",
      "Training Accuracy: 0.9543, Testing Accuracy: 0.9642\n",
      "\n"
     ]
    },
    {
     "name": "stdout",
     "output_type": "stream",
     "text": [
      "Epoch 120, Loss 0.0439\n",
      "Training Accuracy: 0.9551, Testing Accuracy: 0.9647\n",
      "\n"
     ]
    },
    {
     "name": "stdout",
     "output_type": "stream",
     "text": [
      "Epoch 130, Loss 0.043\n",
      "Training Accuracy: 0.9559, Testing Accuracy: 0.9657\n",
      "\n"
     ]
    },
    {
     "name": "stdout",
     "output_type": "stream",
     "text": [
      "Epoch 140, Loss 0.0421\n",
      "Training Accuracy: 0.9560, Testing Accuracy: 0.9662\n",
      "\n"
     ]
    },
    {
     "name": "stdout",
     "output_type": "stream",
     "text": [
      "Epoch 150, Loss 0.0414\n",
      "Training Accuracy: 0.9565, Testing Accuracy: 0.9662\n",
      "\n"
     ]
    },
    {
     "name": "stdout",
     "output_type": "stream",
     "text": [
      "Epoch 160, Loss 0.0407\n",
      "Training Accuracy: 0.9569, Testing Accuracy: 0.9662\n",
      "\n"
     ]
    },
    {
     "name": "stdout",
     "output_type": "stream",
     "text": [
      "Epoch 170, Loss 0.0401\n",
      "Training Accuracy: 0.9581, Testing Accuracy: 0.9662\n",
      "\n"
     ]
    },
    {
     "name": "stdout",
     "output_type": "stream",
     "text": [
      "Epoch 180, Loss 0.0395\n",
      "Training Accuracy: 0.9587, Testing Accuracy: 0.9657\n",
      "\n"
     ]
    },
    {
     "name": "stdout",
     "output_type": "stream",
     "text": [
      "Epoch 190, Loss 0.039\n",
      "Training Accuracy: 0.9592, Testing Accuracy: 0.9657\n",
      "\n"
     ]
    },
    {
     "name": "stdout",
     "output_type": "stream",
     "text": [
      "Epoch 200, Loss 0.0385\n",
      "Training Accuracy: 0.9599, Testing Accuracy: 0.9667\n",
      "\n"
     ]
    },
    {
     "name": "stdout",
     "output_type": "stream",
     "text": [
      "Epoch 210, Loss 0.038\n",
      "Training Accuracy: 0.9601, Testing Accuracy: 0.9667\n",
      "\n"
     ]
    },
    {
     "name": "stdout",
     "output_type": "stream",
     "text": [
      "Epoch 220, Loss 0.0376\n",
      "Training Accuracy: 0.9607, Testing Accuracy: 0.9672\n",
      "\n"
     ]
    },
    {
     "name": "stdout",
     "output_type": "stream",
     "text": [
      "Epoch 230, Loss 0.0372\n",
      "Training Accuracy: 0.9608, Testing Accuracy: 0.9672\n",
      "\n"
     ]
    },
    {
     "name": "stdout",
     "output_type": "stream",
     "text": [
      "Epoch 240, Loss 0.0369\n",
      "Training Accuracy: 0.9609, Testing Accuracy: 0.9672\n",
      "\n"
     ]
    },
    {
     "name": "stdout",
     "output_type": "stream",
     "text": [
      "Epoch 250, Loss 0.0365\n",
      "Training Accuracy: 0.9609, Testing Accuracy: 0.9672\n",
      "\n"
     ]
    },
    {
     "data": {
      "text/plain": [
       "0.04144918788247769"
      ]
     },
     "execution_count": 22,
     "metadata": {},
     "output_type": "execute_result"
    }
   ],
   "source": [
    "print(\"====== Logistic Regression ======\")\n",
    "learner_lr.train_loop(dl)"
   ]
  },
  {
   "cell_type": "markdown",
   "metadata": {
    "papermill": {
     "duration": 0.044743,
     "end_time": "2020-09-11T20:05:56.731743",
     "exception": false,
     "start_time": "2020-09-11T20:05:56.687000",
     "status": "completed"
    },
    "tags": []
   },
   "source": [
    "### Comparing results of NN and LR"
   ]
  },
  {
   "cell_type": "code",
   "execution_count": 23,
   "metadata": {
    "execution": {
     "iopub.execute_input": "2020-09-11T20:05:56.829523Z",
     "iopub.status.busy": "2020-09-11T20:05:56.828427Z",
     "iopub.status.idle": "2020-09-11T20:05:57.065296Z",
     "shell.execute_reply": "2020-09-11T20:05:57.065770Z"
    },
    "papermill": {
     "duration": 0.29016,
     "end_time": "2020-09-11T20:05:57.065932",
     "exception": false,
     "start_time": "2020-09-11T20:05:56.775772",
     "status": "completed"
    },
    "tags": []
   },
   "outputs": [
    {
     "data": {
      "text/plain": [
       "<matplotlib.legend.Legend at 0x7f03c0a8c278>"
      ]
     },
     "execution_count": 23,
     "metadata": {},
     "output_type": "execute_result"
    },
    {
     "data": {
      "image/png": "[encoded data removed]",
      "text/plain": [
       "<Figure size 1080x720 with 1 Axes>"
      ]
     },
     "metadata": {
      "needs_background": "light"
     },
     "output_type": "display_data"
    }
   ],
   "source": [
    "plt.figure(figsize=(15,10))\n",
    "\n",
    "# Neural Network plots\n",
    "plt.plot(acc_nn.accuracies, 'r-', label = \"Training Accuracies - NN\")\n",
    "plt.plot(acc_nn.test_accuracies, 'g-', label = \"Testing Accuracies - NN\")\n",
    "\n",
    "# Logistic Regression plots\n",
    "plt.plot(acc_lr.accuracies, 'k-', label = \"Training Accuracies - LR\")\n",
    "plt.plot(acc_lr.test_accuracies, 'b-', label = \"Testing Accuracies - LR\")\n",
    "\n",
    "plt.ylim(0.8, 1)\n",
    "\n",
    "plt.legend()\n",
    "\n"
   ]
  },
  {
   "cell_type": "markdown",
   "metadata": {
    "papermill": {
     "duration": 0.046222,
     "end_time": "2020-09-11T20:05:57.159041",
     "exception": false,
     "start_time": "2020-09-11T20:05:57.112819",
     "status": "completed"
    },
    "tags": []
   },
   "source": [
    "### From the plot, we can observe the following:\n",
    "- Neural Network achieves higher accuracy than the Logistic Regression model.\n",
    "- This apparently, is because of overfitting, i.e. NN captures more noise than data.\n",
    "- Testing accuracy of NN drops below the Training accuracy at higher epochs. This explains the over-fitting on training data.\n",
    "- Logistic Regression gives a reliable accuracy, without the above mentioned problem.\n"
   ]
  },
  {
   "cell_type": "markdown",
   "metadata": {
    "papermill": {
     "duration": 0.045292,
     "end_time": "2020-09-11T20:05:57.250285",
     "exception": false,
     "start_time": "2020-09-11T20:05:57.204993",
     "status": "completed"
    },
    "tags": []
   },
   "source": [
    "### Moving till the last but one layer (excluding it).\n",
    "#### Plotting the outputs of this layer of the NN."
   ]
  },
  {
   "cell_type": "code",
   "execution_count": 24,
   "metadata": {
    "execution": {
     "iopub.execute_input": "2020-09-11T20:05:57.344279Z",
     "iopub.status.busy": "2020-09-11T20:05:57.343701Z",
     "iopub.status.idle": "2020-09-11T20:05:57.358021Z",
     "shell.execute_reply": "2020-09-11T20:05:57.357009Z"
    },
    "papermill": {
     "duration": 0.06252,
     "end_time": "2020-09-11T20:05:57.358153",
     "exception": false,
     "start_time": "2020-09-11T20:05:57.295633",
     "status": "completed"
    },
    "tags": []
   },
   "outputs": [],
   "source": [
    "model_new = Model(layers[:-2])"
   ]
  },
  {
   "cell_type": "code",
   "execution_count": 25,
   "metadata": {
    "execution": {
     "iopub.execute_input": "2020-09-11T20:05:57.456937Z",
     "iopub.status.busy": "2020-09-11T20:05:57.456245Z",
     "iopub.status.idle": "2020-09-11T20:05:57.475970Z",
     "shell.execute_reply": "2020-09-11T20:05:57.476407Z"
    },
    "papermill": {
     "duration": 0.072375,
     "end_time": "2020-09-11T20:05:57.476561",
     "exception": false,
     "start_time": "2020-09-11T20:05:57.404186",
     "status": "completed"
    },
    "tags": []
   },
   "outputs": [],
   "source": [
    "plot_testing = model_new(testing_xdata)"
   ]
  },
  {
   "cell_type": "code",
   "execution_count": 26,
   "metadata": {
    "execution": {
     "iopub.execute_input": "2020-09-11T20:05:57.573269Z",
     "iopub.status.busy": "2020-09-11T20:05:57.572675Z",
     "iopub.status.idle": "2020-09-11T20:05:57.781289Z",
     "shell.execute_reply": "2020-09-11T20:05:57.781773Z"
    },
    "papermill": {
     "duration": 0.258969,
     "end_time": "2020-09-11T20:05:57.781931",
     "exception": false,
     "start_time": "2020-09-11T20:05:57.522962",
     "status": "completed"
    },
    "tags": []
   },
   "outputs": [
    {
     "data": {
      "text/plain": [
       "Text(0.5, 1.0, 'Outputs')"
      ]
     },
     "execution_count": 26,
     "metadata": {},
     "output_type": "execute_result"
    },
    {
     "data": {
      "image/png": "[encoded data removed]",
      "text/plain": [
       "<Figure size 576x504 with 1 Axes>"
      ]
     },
     "metadata": {
      "needs_background": "light"
     },
     "output_type": "display_data"
    }
   ],
   "source": [
    "plt.figure(figsize=(8,7))\n",
    "plt.scatter(plot_testing[:,0], plot_testing[:,1], alpha = 0.1, c = y_test.ravel());\n",
    "plt.title('Outputs')"
   ]
  },
  {
   "cell_type": "markdown",
   "metadata": {
    "papermill": {
     "duration": 0.047656,
     "end_time": "2020-09-11T20:05:57.878874",
     "exception": false,
     "start_time": "2020-09-11T20:05:57.831218",
     "status": "completed"
    },
    "tags": []
   },
   "source": [
    "### Plotting probability contours"
   ]
  },
  {
   "cell_type": "code",
   "execution_count": 27,
   "metadata": {
    "execution": {
     "iopub.execute_input": "2020-09-11T20:05:57.981555Z",
     "iopub.status.busy": "2020-09-11T20:05:57.980960Z",
     "iopub.status.idle": "2020-09-11T20:05:57.993173Z",
     "shell.execute_reply": "2020-09-11T20:05:57.993625Z"
    },
    "papermill": {
     "duration": 0.066024,
     "end_time": "2020-09-11T20:05:57.993788",
     "exception": false,
     "start_time": "2020-09-11T20:05:57.927764",
     "status": "completed"
    },
    "tags": []
   },
   "outputs": [],
   "source": [
    "model_prob = Model(layers[-2:]) "
   ]
  },
  {
   "cell_type": "code",
   "execution_count": 28,
   "metadata": {
    "execution": {
     "iopub.execute_input": "2020-09-11T20:05:58.096110Z",
     "iopub.status.busy": "2020-09-11T20:05:58.095501Z",
     "iopub.status.idle": "2020-09-11T20:05:58.110151Z",
     "shell.execute_reply": "2020-09-11T20:05:58.110610Z"
    },
    "papermill": {
     "duration": 0.068663,
     "end_time": "2020-09-11T20:05:58.110763",
     "exception": false,
     "start_time": "2020-09-11T20:05:58.042100",
     "status": "completed"
    },
    "tags": []
   },
   "outputs": [],
   "source": [
    "# Adjust the x and y ranges according to the above generated plot.\n",
    "x_range = np.linspace(-4, 1, 100) \n",
    "y_range = np.linspace(-6, 6, 100) \n",
    "x_grid, y_grid = np.meshgrid(x_range, y_range) # x_grid and y_grig are of size 100 X 100\n",
    "\n",
    "# converting x_grid and y_grid to continuous arrays\n",
    "x_grid_flat = np.ravel(x_grid)\n",
    "y_grid_flat = np.ravel(y_grid)\n",
    "\n",
    "# The last layer of the current model takes two columns as input. Hence transpose of np.vstack() is required.\n",
    "X = np.vstack((x_grid_flat, y_grid_flat)).T\n",
    "\n",
    "# x_grid and y_grid are of size 100 x 100\n",
    "probability_contour = model_prob(X).reshape(100,100) "
   ]
  },
  {
   "cell_type": "code",
   "execution_count": 29,
   "metadata": {
    "execution": {
     "iopub.execute_input": "2020-09-11T20:05:58.217350Z",
     "iopub.status.busy": "2020-09-11T20:05:58.216744Z",
     "iopub.status.idle": "2020-09-11T20:05:58.466007Z",
     "shell.execute_reply": "2020-09-11T20:05:58.466462Z"
    },
    "papermill": {
     "duration": 0.306642,
     "end_time": "2020-09-11T20:05:58.466634",
     "exception": false,
     "start_time": "2020-09-11T20:05:58.159992",
     "status": "completed"
    },
    "tags": []
   },
   "outputs": [
    {
     "data": {
      "image/png": "[encoded data removed]",
      "text/plain": [
       "<Figure size 720x648 with 1 Axes>"
      ]
     },
     "metadata": {
      "needs_background": "light"
     },
     "output_type": "display_data"
    }
   ],
   "source": [
    "plt.figure(figsize=(10,9))\n",
    "plt.scatter(plot_testing[:,0], plot_testing[:,1], alpha = 0.1, c = y_test.ravel())\n",
    "contours = plt.contour(x_grid,y_grid,probability_contour)\n",
    "plt.title('Probability Contours')\n",
    "plt.clabel(contours, inline = True );"
   ]
  }
 ],
 "metadata": {
  "kernelspec": {
   "display_name": "Python 3",
   "language": "python",
   "name": "python3"
  },
  "language_info": {
   "codemirror_mode": {
    "name": "ipython",
    "version": 3
   },
   "file_extension": ".py",
   "mimetype": "text/x-python",
   "name": "python",
   "nbconvert_exporter": "python",
   "pygments_lexer": "ipython3",
   "version": "3.6.12"
  },
  "papermill": {
   "duration": 110.352521,
   "end_time": "2020-09-11T20:05:59.763601",
   "environment_variables": {},
   "exception": null,
   "input_path": "2020-08-11-NeuralNetwork.ipynb",
   "output_path": "2020-08-11-NeuralNetwork.ipynb",
   "parameters": {},
   "start_time": "2020-09-11T20:04:09.411080",
   "version": "2.1.2"
  }
 },
 "nbformat": 4,
 "nbformat_minor": 4
}