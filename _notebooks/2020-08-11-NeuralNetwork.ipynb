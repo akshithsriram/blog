{
 "cells": [
  {
   "cell_type": "markdown",
   "metadata": {
    "papermill": {
     "duration": 0.031963,
     "end_time": "2021-01-17T00:32:56.251977",
     "exception": false,
     "start_time": "2021-01-17T00:32:56.220014",
     "status": "completed"
    },
    "tags": []
   },
   "source": [
    "# \"A Basic Neural Network: Differentiate Hand-Written Digits\"\n",
    "\n",
    "- badges: true\n",
    "- author: Akshith Sriram"
   ]
  },
  {
   "cell_type": "markdown",
   "metadata": {
    "papermill": {
     "duration": 0.028776,
     "end_time": "2021-01-17T00:32:56.310927",
     "exception": false,
     "start_time": "2021-01-17T00:32:56.282151",
     "status": "completed"
    },
    "tags": []
   },
   "source": [
    "### Key Objectives:\n",
    "- Building a neural network that differentiates two hand-written digits 3 and 8.\n",
    "- Comparing the results of this Neural Network (NN) to that of a Logistic Regression (LR) model.\n",
    "\n",
    "### Requirements:\n",
    "- 'Kudzu' : A neural network library that was designed during our course by [Univ.AI](www.univ.ai). \n",
    "- MNIST Database\n",
    "\n",
    "If MNIST is not installed, use the command `!pip install mnist` given below.\n",
    "It can be run both from the command line and Jupyter Notebook."
   ]
  },
  {
   "cell_type": "code",
   "execution_count": 1,
   "metadata": {
    "execution": {
     "iopub.execute_input": "2021-01-17T00:32:56.380577Z",
     "iopub.status.busy": "2021-01-17T00:32:56.376141Z",
     "iopub.status.idle": "2021-01-17T00:32:58.125857Z",
     "shell.execute_reply": "2021-01-17T00:32:58.124182Z"
    },
    "papermill": {
     "duration": 1.786514,
     "end_time": "2021-01-17T00:32:58.126075",
     "exception": false,
     "start_time": "2021-01-17T00:32:56.339561",
     "status": "completed"
    },
    "tags": []
   },
   "outputs": [
    {
     "name": "stdout",
     "output_type": "stream",
     "text": [
      "Collecting mnist\r\n"
     ]
    },
    {
     "name": "stdout",
     "output_type": "stream",
     "text": [
      "  Downloading mnist-0.2.2-py2.py3-none-any.whl (3.5 kB)\r\n",
      "Requirement already satisfied: numpy in /opt/hostedtoolcache/Python/3.6.12/x64/lib/python3.6/site-packages (from mnist) (1.19.5)\r\n"
     ]
    },
    {
     "name": "stdout",
     "output_type": "stream",
     "text": [
      "Installing collected packages: mnist\r\n"
     ]
    },
    {
     "name": "stdout",
     "output_type": "stream",
     "text": [
      "Successfully installed mnist-0.2.2\r\n"
     ]
    }
   ],
   "source": [
    "!pip install mnist "
   ]
  },
  {
   "cell_type": "markdown",
   "metadata": {
    "papermill": {
     "duration": 0.03024,
     "end_time": "2021-01-17T00:32:58.186793",
     "exception": false,
     "start_time": "2021-01-17T00:32:58.156553",
     "status": "completed"
    },
    "tags": []
   },
   "source": [
    "#### Importing necessary libraries"
   ]
  },
  {
   "cell_type": "code",
   "execution_count": 2,
   "metadata": {
    "execution": {
     "iopub.execute_input": "2021-01-17T00:32:58.257012Z",
     "iopub.status.busy": "2021-01-17T00:32:58.256332Z",
     "iopub.status.idle": "2021-01-17T00:32:58.903437Z",
     "shell.execute_reply": "2021-01-17T00:32:58.903987Z"
    },
    "papermill": {
     "duration": 0.686887,
     "end_time": "2021-01-17T00:32:58.904277",
     "exception": false,
     "start_time": "2021-01-17T00:32:58.217390",
     "status": "completed"
    },
    "tags": []
   },
   "outputs": [],
   "source": [
    "%load_ext autoreload\n",
    "%autoreload 2\n",
    "\n",
    "%matplotlib inline\n",
    "import matplotlib.pyplot as plt\n",
    "\n",
    "import numpy as np\n",
    "import pandas as pd"
   ]
  },
  {
   "cell_type": "markdown",
   "metadata": {
    "papermill": {
     "duration": 0.473039,
     "end_time": "2021-01-17T00:32:59.411329",
     "exception": false,
     "start_time": "2021-01-17T00:32:58.938290",
     "status": "completed"
    },
    "tags": []
   },
   "source": [
    "### Preparing the Data"
   ]
  },
  {
   "cell_type": "code",
   "execution_count": 3,
   "metadata": {
    "execution": {
     "iopub.execute_input": "2021-01-17T00:32:59.751147Z",
     "iopub.status.busy": "2021-01-17T00:32:59.750448Z",
     "iopub.status.idle": "2021-01-17T00:32:59.756261Z",
     "shell.execute_reply": "2021-01-17T00:32:59.756915Z"
    },
    "papermill": {
     "duration": 0.051022,
     "end_time": "2021-01-17T00:32:59.757114",
     "exception": false,
     "start_time": "2021-01-17T00:32:59.706092",
     "status": "completed"
    },
    "tags": []
   },
   "outputs": [],
   "source": [
    "import mnist"
   ]
  },
  {
   "cell_type": "code",
   "execution_count": 4,
   "metadata": {
    "execution": {
     "iopub.execute_input": "2021-01-17T00:32:59.851755Z",
     "iopub.status.busy": "2021-01-17T00:32:59.851067Z",
     "iopub.status.idle": "2021-01-17T00:33:00.614057Z",
     "shell.execute_reply": "2021-01-17T00:33:00.614609Z"
    },
    "papermill": {
     "duration": 0.79682,
     "end_time": "2021-01-17T00:33:00.614818",
     "exception": false,
     "start_time": "2021-01-17T00:32:59.817998",
     "status": "completed"
    },
    "tags": []
   },
   "outputs": [],
   "source": [
    "train_images = mnist.train_images()\n",
    "train_labels = mnist.train_labels()"
   ]
  },
  {
   "cell_type": "code",
   "execution_count": 5,
   "metadata": {
    "execution": {
     "iopub.execute_input": "2021-01-17T00:33:00.679461Z",
     "iopub.status.busy": "2021-01-17T00:33:00.678803Z",
     "iopub.status.idle": "2021-01-17T00:33:00.695250Z",
     "shell.execute_reply": "2021-01-17T00:33:00.695863Z"
    },
    "papermill": {
     "duration": 0.051446,
     "end_time": "2021-01-17T00:33:00.696029",
     "exception": false,
     "start_time": "2021-01-17T00:33:00.644583",
     "status": "completed"
    },
    "tags": []
   },
   "outputs": [
    {
     "data": {
      "text/plain": [
       "((60000, 28, 28), (60000,))"
      ]
     },
     "execution_count": 5,
     "metadata": {},
     "output_type": "execute_result"
    }
   ],
   "source": [
    "train_images.shape, train_labels.shape"
   ]
  },
  {
   "cell_type": "code",
   "execution_count": 6,
   "metadata": {
    "execution": {
     "iopub.execute_input": "2021-01-17T00:33:00.773626Z",
     "iopub.status.busy": "2021-01-17T00:33:00.767224Z",
     "iopub.status.idle": "2021-01-17T00:33:01.044226Z",
     "shell.execute_reply": "2021-01-17T00:33:01.043516Z"
    },
    "papermill": {
     "duration": 0.318959,
     "end_time": "2021-01-17T00:33:01.044437",
     "exception": false,
     "start_time": "2021-01-17T00:33:00.725478",
     "status": "completed"
    },
    "tags": []
   },
   "outputs": [],
   "source": [
    "test_images = mnist.test_images()\n",
    "test_labels = mnist.test_labels()"
   ]
  },
  {
   "cell_type": "code",
   "execution_count": 7,
   "metadata": {
    "execution": {
     "iopub.execute_input": "2021-01-17T00:33:01.123506Z",
     "iopub.status.busy": "2021-01-17T00:33:01.113920Z",
     "iopub.status.idle": "2021-01-17T00:33:01.136443Z",
     "shell.execute_reply": "2021-01-17T00:33:01.135823Z"
    },
    "papermill": {
     "duration": 0.059317,
     "end_time": "2021-01-17T00:33:01.136612",
     "exception": false,
     "start_time": "2021-01-17T00:33:01.077295",
     "status": "completed"
    },
    "tags": []
   },
   "outputs": [
    {
     "data": {
      "text/plain": [
       "((10000, 28, 28), (10000,))"
      ]
     },
     "execution_count": 7,
     "metadata": {},
     "output_type": "execute_result"
    }
   ],
   "source": [
    "test_images.shape, test_labels.shape"
   ]
  },
  {
   "cell_type": "code",
   "execution_count": 8,
   "metadata": {
    "execution": {
     "iopub.execute_input": "2021-01-17T00:33:01.204045Z",
     "iopub.status.busy": "2021-01-17T00:33:01.203277Z",
     "iopub.status.idle": "2021-01-17T00:33:01.373491Z",
     "shell.execute_reply": "2021-01-17T00:33:01.374508Z"
    },
    "papermill": {
     "duration": 0.207263,
     "end_time": "2021-01-17T00:33:01.375468",
     "exception": false,
     "start_time": "2021-01-17T00:33:01.168205",
     "status": "completed"
    },
    "tags": []
   },
   "outputs": [
    {
     "name": "stdout",
     "output_type": "stream",
     "text": [
      "2\n"
     ]
    },
    {
     "data": {
      "text/plain": [
       "<matplotlib.image.AxesImage at 0x7f76c1ef75f8>"
      ]
     },
     "execution_count": 8,
     "metadata": {},
     "output_type": "execute_result"
    },
    {
     "data": {
      "image/png": "[encoded data removed]",
      "text/plain": [
       "<Figure size 432x288 with 1 Axes>"
      ]
     },
     "metadata": {
      "needs_background": "light"
     },
     "output_type": "display_data"
    }
   ],
   "source": [
    "image_index = 7776 # You may select anything up to 60,000\n",
    "print(train_labels[image_index]) \n",
    "plt.imshow(train_images[image_index], cmap='Greys')"
   ]
  },
  {
   "cell_type": "markdown",
   "metadata": {
    "papermill": {
     "duration": 0.032238,
     "end_time": "2021-01-17T00:33:01.453058",
     "exception": false,
     "start_time": "2021-01-17T00:33:01.420820",
     "status": "completed"
    },
    "tags": []
   },
   "source": [
    "## Filter data to get 3 and 8 out"
   ]
  },
  {
   "cell_type": "code",
   "execution_count": 9,
   "metadata": {
    "execution": {
     "iopub.execute_input": "2021-01-17T00:33:01.523618Z",
     "iopub.status.busy": "2021-01-17T00:33:01.522903Z",
     "iopub.status.idle": "2021-01-17T00:33:01.541957Z",
     "shell.execute_reply": "2021-01-17T00:33:01.542514Z"
    },
    "papermill": {
     "duration": 0.058164,
     "end_time": "2021-01-17T00:33:01.542726",
     "exception": false,
     "start_time": "2021-01-17T00:33:01.484562",
     "status": "completed"
    },
    "tags": []
   },
   "outputs": [],
   "source": [
    "train_filter = np.where((train_labels == 3 ) | (train_labels == 8))\n",
    "test_filter = np.where((test_labels == 3) | (test_labels == 8))\n",
    "X_train, y_train = train_images[train_filter], train_labels[train_filter]\n",
    "X_test, y_test = test_images[test_filter], test_labels[test_filter]"
   ]
  },
  {
   "cell_type": "markdown",
   "metadata": {
    "papermill": {
     "duration": 0.030389,
     "end_time": "2021-01-17T00:33:01.605039",
     "exception": false,
     "start_time": "2021-01-17T00:33:01.574650",
     "status": "completed"
    },
    "tags": []
   },
   "source": [
    "We normalize the pixel values in the 0 to 1 range"
   ]
  },
  {
   "cell_type": "code",
   "execution_count": 10,
   "metadata": {
    "execution": {
     "iopub.execute_input": "2021-01-17T00:33:01.682292Z",
     "iopub.status.busy": "2021-01-17T00:33:01.676451Z",
     "iopub.status.idle": "2021-01-17T00:33:01.747494Z",
     "shell.execute_reply": "2021-01-17T00:33:01.746867Z"
    },
    "papermill": {
     "duration": 0.111082,
     "end_time": "2021-01-17T00:33:01.747677",
     "exception": false,
     "start_time": "2021-01-17T00:33:01.636595",
     "status": "completed"
    },
    "tags": []
   },
   "outputs": [],
   "source": [
    "X_train = X_train/255.\n",
    "X_test = X_test/255."
   ]
  },
  {
   "cell_type": "markdown",
   "metadata": {
    "papermill": {
     "duration": 0.033356,
     "end_time": "2021-01-17T00:33:01.817659",
     "exception": false,
     "start_time": "2021-01-17T00:33:01.784303",
     "status": "completed"
    },
    "tags": []
   },
   "source": [
    "Setup the labels as 1 (when the digit is 3) and 0 (when the digit is 8)"
   ]
  },
  {
   "cell_type": "code",
   "execution_count": 11,
   "metadata": {
    "execution": {
     "iopub.execute_input": "2021-01-17T00:33:01.886691Z",
     "iopub.status.busy": "2021-01-17T00:33:01.886025Z",
     "iopub.status.idle": "2021-01-17T00:33:01.900094Z",
     "shell.execute_reply": "2021-01-17T00:33:01.900619Z"
    },
    "papermill": {
     "duration": 0.052552,
     "end_time": "2021-01-17T00:33:01.900814",
     "exception": false,
     "start_time": "2021-01-17T00:33:01.848262",
     "status": "completed"
    },
    "tags": []
   },
   "outputs": [],
   "source": [
    "y_train = 1*(y_train==3)\n",
    "y_test = 1*(y_test==3)"
   ]
  },
  {
   "cell_type": "code",
   "execution_count": 12,
   "metadata": {
    "execution": {
     "iopub.execute_input": "2021-01-17T00:33:01.967911Z",
     "iopub.status.busy": "2021-01-17T00:33:01.967260Z",
     "iopub.status.idle": "2021-01-17T00:33:01.984062Z",
     "shell.execute_reply": "2021-01-17T00:33:01.983435Z"
    },
    "papermill": {
     "duration": 0.050885,
     "end_time": "2021-01-17T00:33:01.984222",
     "exception": false,
     "start_time": "2021-01-17T00:33:01.933337",
     "status": "completed"
    },
    "tags": []
   },
   "outputs": [
    {
     "data": {
      "text/plain": [
       "((11982, 28, 28), (1984, 28, 28))"
      ]
     },
     "execution_count": 12,
     "metadata": {},
     "output_type": "execute_result"
    }
   ],
   "source": [
    "X_train.shape, X_test.shape"
   ]
  },
  {
   "cell_type": "markdown",
   "metadata": {
    "papermill": {
     "duration": 0.034098,
     "end_time": "2021-01-17T00:33:02.048712",
     "exception": false,
     "start_time": "2021-01-17T00:33:02.014614",
     "status": "completed"
    },
    "tags": []
   },
   "source": [
    "### Reshape the input data to create a linear array"
   ]
  },
  {
   "cell_type": "code",
   "execution_count": 13,
   "metadata": {
    "execution": {
     "iopub.execute_input": "2021-01-17T00:33:02.119898Z",
     "iopub.status.busy": "2021-01-17T00:33:02.119242Z",
     "iopub.status.idle": "2021-01-17T00:33:02.136208Z",
     "shell.execute_reply": "2021-01-17T00:33:02.135629Z"
    },
    "papermill": {
     "duration": 0.05483,
     "end_time": "2021-01-17T00:33:02.136366",
     "exception": false,
     "start_time": "2021-01-17T00:33:02.081536",
     "status": "completed"
    },
    "tags": []
   },
   "outputs": [
    {
     "data": {
      "text/plain": [
       "((11982, 784), (1984, 784))"
      ]
     },
     "execution_count": 13,
     "metadata": {},
     "output_type": "execute_result"
    }
   ],
   "source": [
    "X_train = X_train.reshape(X_train.shape[0], -1)\n",
    "X_test = X_test.reshape(X_test.shape[0], -1)\n",
    "X_train.shape, X_test.shape"
   ]
  },
  {
   "cell_type": "markdown",
   "metadata": {
    "papermill": {
     "duration": 0.031713,
     "end_time": "2021-01-17T00:33:02.200249",
     "exception": false,
     "start_time": "2021-01-17T00:33:02.168536",
     "status": "completed"
    },
    "tags": []
   },
   "source": [
    "### Importing appropriate functions from 'Kudzu'"
   ]
  },
  {
   "cell_type": "code",
   "execution_count": 14,
   "metadata": {
    "execution": {
     "iopub.execute_input": "2021-01-17T00:33:02.269042Z",
     "iopub.status.busy": "2021-01-17T00:33:02.268386Z",
     "iopub.status.idle": "2021-01-17T00:33:02.291697Z",
     "shell.execute_reply": "2021-01-17T00:33:02.291157Z"
    },
    "papermill": {
     "duration": 0.060127,
     "end_time": "2021-01-17T00:33:02.291850",
     "exception": false,
     "start_time": "2021-01-17T00:33:02.231723",
     "status": "completed"
    },
    "tags": []
   },
   "outputs": [],
   "source": [
    "from kudzu.layer import Sigmoid\n",
    "from kudzu.layer import Relu\n",
    "from kudzu.layer import Affine, Sigmoid\n",
    "\n",
    "from kudzu.model import Model\n",
    "from kudzu.train import Learner\n",
    "from kudzu.optim import GD\n",
    "from kudzu.data import Data, Dataloader, Sampler\n",
    "\n",
    "from kudzu.callbacks import AccCallback\n",
    "from kudzu.callbacks import ClfCallback\n",
    "\n",
    "from kudzu.loss import MSE"
   ]
  },
  {
   "cell_type": "markdown",
   "metadata": {
    "papermill": {
     "duration": 0.03061,
     "end_time": "2021-01-17T00:33:02.353924",
     "exception": false,
     "start_time": "2021-01-17T00:33:02.323314",
     "status": "completed"
    },
    "tags": []
   },
   "source": [
    "### Let us create a `Config` class, to store important parameters. \n",
    "This class essentially plays the role of a dictionary."
   ]
  },
  {
   "cell_type": "code",
   "execution_count": 15,
   "metadata": {
    "execution": {
     "iopub.execute_input": "2021-01-17T00:33:02.423066Z",
     "iopub.status.busy": "2021-01-17T00:33:02.422392Z",
     "iopub.status.idle": "2021-01-17T00:33:02.436499Z",
     "shell.execute_reply": "2021-01-17T00:33:02.437015Z"
    },
    "papermill": {
     "duration": 0.051448,
     "end_time": "2021-01-17T00:33:02.437346",
     "exception": false,
     "start_time": "2021-01-17T00:33:02.385898",
     "status": "completed"
    },
    "tags": []
   },
   "outputs": [],
   "source": [
    "class Config:\n",
    "    pass\n",
    "config = Config()\n",
    "config.lr = 0.001\n",
    "config.num_epochs = 251\n",
    "config.bs = 50"
   ]
  },
  {
   "cell_type": "markdown",
   "metadata": {
    "papermill": {
     "duration": 0.030481,
     "end_time": "2021-01-17T00:33:02.501534",
     "exception": false,
     "start_time": "2021-01-17T00:33:02.471053",
     "status": "completed"
    },
    "tags": []
   },
   "source": [
    "### Initializing data to the variables"
   ]
  },
  {
   "cell_type": "code",
   "execution_count": 16,
   "metadata": {
    "execution": {
     "iopub.execute_input": "2021-01-17T00:33:02.586417Z",
     "iopub.status.busy": "2021-01-17T00:33:02.578237Z",
     "iopub.status.idle": "2021-01-17T00:33:02.588593Z",
     "shell.execute_reply": "2021-01-17T00:33:02.589125Z"
    },
    "papermill": {
     "duration": 0.054293,
     "end_time": "2021-01-17T00:33:02.589332",
     "exception": false,
     "start_time": "2021-01-17T00:33:02.535039",
     "status": "completed"
    },
    "tags": []
   },
   "outputs": [],
   "source": [
    "data = Data(X_train, y_train.reshape(-1,1))\n",
    "sampler = Sampler(data, config.bs, shuffle=True)\n",
    "\n",
    "dl = Dataloader(data, sampler)\n",
    "\n",
    "opt = GD(config.lr)\n",
    "loss = MSE()"
   ]
  },
  {
   "cell_type": "code",
   "execution_count": 17,
   "metadata": {
    "execution": {
     "iopub.execute_input": "2021-01-17T00:33:02.669956Z",
     "iopub.status.busy": "2021-01-17T00:33:02.661964Z",
     "iopub.status.idle": "2021-01-17T00:33:02.673547Z",
     "shell.execute_reply": "2021-01-17T00:33:02.672957Z"
    },
    "papermill": {
     "duration": 0.053072,
     "end_time": "2021-01-17T00:33:02.673696",
     "exception": false,
     "start_time": "2021-01-17T00:33:02.620624",
     "status": "completed"
    },
    "tags": []
   },
   "outputs": [],
   "source": [
    "training_xdata = X_train\n",
    "testing_xdata = X_test\n",
    "training_ydata = y_train.reshape(-1,1)\n",
    "testing_ydata = y_test.reshape(-1,1)"
   ]
  },
  {
   "cell_type": "markdown",
   "metadata": {
    "papermill": {
     "duration": 0.032626,
     "end_time": "2021-01-17T00:33:02.739494",
     "exception": false,
     "start_time": "2021-01-17T00:33:02.706868",
     "status": "completed"
    },
    "tags": []
   },
   "source": [
    "### Running Models with the Training data\n",
    "Details about the network layers:\n",
    "- A first affine layer has 784 inputs and does 100 affine transforms. These are followed by a Relu\n",
    "- A second affine layer has 100 inputs from the 100 activations of the past layer, and does 100 affine transforms. These are followed by a Relu\n",
    "- A third affine layer has 100 activations and does 2 affine transformations to create an embedding for visualization. There is no non-linearity here.\n",
    "- A final \"logistic regression\" which has an affine transform from 2 inputs to 1 output, which is squeezed through a sigmoid.\n",
    "\n",
    "Help taken from Anshuman's Notebook."
   ]
  },
  {
   "cell_type": "code",
   "execution_count": 18,
   "metadata": {
    "execution": {
     "iopub.execute_input": "2021-01-17T00:33:02.822871Z",
     "iopub.status.busy": "2021-01-17T00:33:02.822172Z",
     "iopub.status.idle": "2021-01-17T00:33:02.836250Z",
     "shell.execute_reply": "2021-01-17T00:33:02.836784Z"
    },
    "papermill": {
     "duration": 0.065514,
     "end_time": "2021-01-17T00:33:02.836969",
     "exception": false,
     "start_time": "2021-01-17T00:33:02.771455",
     "status": "completed"
    },
    "tags": []
   },
   "outputs": [],
   "source": [
    "# layers for the Neural Network\n",
    "layers = [Affine(\"first\", 784, 100), Relu(\"first\"), Affine(\"second\", 100, 100), Relu(\"second\"), Affine(\"third\", 100, 2), Affine(\"final\", 2, 1), Sigmoid(\"final\")]\n",
    "model_nn = Model(layers)\n",
    "\n",
    "# layers for the Logistic Regression\n",
    "layers_lr = [Affine(\"logits\", 784, 1), Sigmoid(\"sigmoid\")]\n",
    "model_lr = Model(layers_lr)"
   ]
  },
  {
   "cell_type": "code",
   "execution_count": 19,
   "metadata": {
    "execution": {
     "iopub.execute_input": "2021-01-17T00:33:02.924515Z",
     "iopub.status.busy": "2021-01-17T00:33:02.918030Z",
     "iopub.status.idle": "2021-01-17T00:33:02.928396Z",
     "shell.execute_reply": "2021-01-17T00:33:02.927692Z"
    },
    "papermill": {
     "duration": 0.056379,
     "end_time": "2021-01-17T00:33:02.928603",
     "exception": false,
     "start_time": "2021-01-17T00:33:02.872224",
     "status": "completed"
    },
    "tags": []
   },
   "outputs": [],
   "source": [
    "# suffix _nn stands for Neural Network.\n",
    "learner_nn = Learner(loss, model_nn, opt, config.num_epochs)\n",
    "acc_nn = ClfCallback(learner_nn, config.bs, training_xdata , testing_xdata, training_ydata, testing_ydata)\n",
    "learner_nn.set_callbacks([acc_nn])"
   ]
  },
  {
   "cell_type": "code",
   "execution_count": 20,
   "metadata": {
    "execution": {
     "iopub.execute_input": "2021-01-17T00:33:03.010935Z",
     "iopub.status.busy": "2021-01-17T00:33:03.010253Z",
     "iopub.status.idle": "2021-01-17T00:35:12.064847Z",
     "shell.execute_reply": "2021-01-17T00:35:12.065516Z"
    },
    "papermill": {
     "duration": 129.102881,
     "end_time": "2021-01-17T00:35:12.065710",
     "exception": false,
     "start_time": "2021-01-17T00:33:02.962829",
     "status": "completed"
    },
    "tags": []
   },
   "outputs": [
    {
     "name": "stdout",
     "output_type": "stream",
     "text": [
      "====== Neural Network ======\n"
     ]
    },
    {
     "name": "stdout",
     "output_type": "stream",
     "text": [
      "Epoch 0, Loss 0.2471\n",
      "Training Accuracy: 0.5464, Testing Accuracy: 0.5323\n",
      "\n"
     ]
    },
    {
     "name": "stdout",
     "output_type": "stream",
     "text": [
      "Epoch 10, Loss 0.1513\n",
      "Training Accuracy: 0.9061, Testing Accuracy: 0.9113\n",
      "\n"
     ]
    },
    {
     "name": "stdout",
     "output_type": "stream",
     "text": [
      "Epoch 20, Loss 0.0743\n",
      "Training Accuracy: 0.9321, Testing Accuracy: 0.9405\n",
      "\n"
     ]
    },
    {
     "name": "stdout",
     "output_type": "stream",
     "text": [
      "Epoch 30, Loss 0.0517\n",
      "Training Accuracy: 0.9465, Testing Accuracy: 0.9526\n",
      "\n"
     ]
    },
    {
     "name": "stdout",
     "output_type": "stream",
     "text": [
      "Epoch 40, Loss 0.0424\n",
      "Training Accuracy: 0.9533, Testing Accuracy: 0.9592\n",
      "\n"
     ]
    },
    {
     "name": "stdout",
     "output_type": "stream",
     "text": [
      "Epoch 50, Loss 0.0375\n",
      "Training Accuracy: 0.9576, Testing Accuracy: 0.9642\n",
      "\n"
     ]
    },
    {
     "name": "stdout",
     "output_type": "stream",
     "text": [
      "Epoch 60, Loss 0.0344\n",
      "Training Accuracy: 0.9597, Testing Accuracy: 0.9672\n",
      "\n"
     ]
    },
    {
     "name": "stdout",
     "output_type": "stream",
     "text": [
      "Epoch 70, Loss 0.0323\n",
      "Training Accuracy: 0.9614, Testing Accuracy: 0.9677\n",
      "\n"
     ]
    },
    {
     "name": "stdout",
     "output_type": "stream",
     "text": [
      "Epoch 80, Loss 0.0307\n",
      "Training Accuracy: 0.9626, Testing Accuracy: 0.9682\n",
      "\n"
     ]
    },
    {
     "name": "stdout",
     "output_type": "stream",
     "text": [
      "Epoch 90, Loss 0.0293\n",
      "Training Accuracy: 0.9639, Testing Accuracy: 0.9682\n",
      "\n"
     ]
    },
    {
     "name": "stdout",
     "output_type": "stream",
     "text": [
      "Epoch 100, Loss 0.0283\n",
      "Training Accuracy: 0.9651, Testing Accuracy: 0.9677\n",
      "\n"
     ]
    },
    {
     "name": "stdout",
     "output_type": "stream",
     "text": [
      "Epoch 110, Loss 0.0273\n",
      "Training Accuracy: 0.9654, Testing Accuracy: 0.9688\n",
      "\n"
     ]
    },
    {
     "name": "stdout",
     "output_type": "stream",
     "text": [
      "Epoch 120, Loss 0.0265\n",
      "Training Accuracy: 0.9664, Testing Accuracy: 0.9688\n",
      "\n"
     ]
    },
    {
     "name": "stdout",
     "output_type": "stream",
     "text": [
      "Epoch 130, Loss 0.0258\n",
      "Training Accuracy: 0.9675, Testing Accuracy: 0.9698\n",
      "\n"
     ]
    },
    {
     "name": "stdout",
     "output_type": "stream",
     "text": [
      "Epoch 140, Loss 0.0251\n",
      "Training Accuracy: 0.9681, Testing Accuracy: 0.9698\n",
      "\n"
     ]
    },
    {
     "name": "stdout",
     "output_type": "stream",
     "text": [
      "Epoch 150, Loss 0.0245\n",
      "Training Accuracy: 0.9693, Testing Accuracy: 0.9703\n",
      "\n"
     ]
    },
    {
     "name": "stdout",
     "output_type": "stream",
     "text": [
      "Epoch 160, Loss 0.024\n",
      "Training Accuracy: 0.9708, Testing Accuracy: 0.9703\n",
      "\n"
     ]
    },
    {
     "name": "stdout",
     "output_type": "stream",
     "text": [
      "Epoch 170, Loss 0.0235\n",
      "Training Accuracy: 0.9716, Testing Accuracy: 0.9708\n",
      "\n"
     ]
    },
    {
     "name": "stdout",
     "output_type": "stream",
     "text": [
      "Epoch 180, Loss 0.023\n",
      "Training Accuracy: 0.9723, Testing Accuracy: 0.9703\n",
      "\n"
     ]
    },
    {
     "name": "stdout",
     "output_type": "stream",
     "text": [
      "Epoch 190, Loss 0.0226\n",
      "Training Accuracy: 0.9727, Testing Accuracy: 0.9703\n",
      "\n"
     ]
    },
    {
     "name": "stdout",
     "output_type": "stream",
     "text": [
      "Epoch 200, Loss 0.0221\n",
      "Training Accuracy: 0.9730, Testing Accuracy: 0.9708\n",
      "\n"
     ]
    },
    {
     "name": "stdout",
     "output_type": "stream",
     "text": [
      "Epoch 210, Loss 0.0217\n",
      "Training Accuracy: 0.9737, Testing Accuracy: 0.9713\n",
      "\n"
     ]
    },
    {
     "name": "stdout",
     "output_type": "stream",
     "text": [
      "Epoch 220, Loss 0.0213\n",
      "Training Accuracy: 0.9745, Testing Accuracy: 0.9713\n",
      "\n"
     ]
    },
    {
     "name": "stdout",
     "output_type": "stream",
     "text": [
      "Epoch 230, Loss 0.021\n",
      "Training Accuracy: 0.9755, Testing Accuracy: 0.9713\n",
      "\n"
     ]
    },
    {
     "name": "stdout",
     "output_type": "stream",
     "text": [
      "Epoch 240, Loss 0.0206\n",
      "Training Accuracy: 0.9760, Testing Accuracy: 0.9713\n",
      "\n"
     ]
    },
    {
     "name": "stdout",
     "output_type": "stream",
     "text": [
      "Epoch 250, Loss 0.0203\n",
      "Training Accuracy: 0.9770, Testing Accuracy: 0.9723\n",
      "\n"
     ]
    },
    {
     "data": {
      "text/plain": [
       "0.018547527815211764"
      ]
     },
     "execution_count": 20,
     "metadata": {},
     "output_type": "execute_result"
    }
   ],
   "source": [
    "print(\"====== Neural Network ======\")\n",
    "learner_nn.train_loop(dl)"
   ]
  },
  {
   "cell_type": "markdown",
   "metadata": {
    "papermill": {
     "duration": 0.043504,
     "end_time": "2021-01-17T00:35:12.152187",
     "exception": false,
     "start_time": "2021-01-17T00:35:12.108683",
     "status": "completed"
    },
    "tags": []
   },
   "source": [
    "### Logistic Regression based Implementation."
   ]
  },
  {
   "cell_type": "code",
   "execution_count": 21,
   "metadata": {
    "execution": {
     "iopub.execute_input": "2021-01-17T00:35:12.244023Z",
     "iopub.status.busy": "2021-01-17T00:35:12.243362Z",
     "iopub.status.idle": "2021-01-17T00:35:12.258616Z",
     "shell.execute_reply": "2021-01-17T00:35:12.258060Z"
    },
    "papermill": {
     "duration": 0.063077,
     "end_time": "2021-01-17T00:35:12.258776",
     "exception": false,
     "start_time": "2021-01-17T00:35:12.195699",
     "status": "completed"
    },
    "tags": []
   },
   "outputs": [],
   "source": [
    "learner_lr = Learner(loss, model_lr, opt, config.num_epochs)\n",
    "acc_lr = ClfCallback(learner_lr, config.bs, training_xdata , testing_xdata, training_ydata, testing_ydata)\n",
    "learner_lr.set_callbacks([acc_lr])"
   ]
  },
  {
   "cell_type": "code",
   "execution_count": 22,
   "metadata": {
    "execution": {
     "iopub.execute_input": "2021-01-17T00:35:12.362168Z",
     "iopub.status.busy": "2021-01-17T00:35:12.361098Z",
     "iopub.status.idle": "2021-01-17T00:35:32.322338Z",
     "shell.execute_reply": "2021-01-17T00:35:32.323179Z"
    },
    "papermill": {
     "duration": 20.020042,
     "end_time": "2021-01-17T00:35:32.323378",
     "exception": false,
     "start_time": "2021-01-17T00:35:12.303336",
     "status": "completed"
    },
    "tags": []
   },
   "outputs": [
    {
     "name": "stdout",
     "output_type": "stream",
     "text": [
      "====== Logistic Regression ======\n",
      "Epoch 0, Loss 0.223\n",
      "Training Accuracy: 0.7579, Testing Accuracy: 0.7707\n",
      "\n"
     ]
    },
    {
     "name": "stdout",
     "output_type": "stream",
     "text": [
      "Epoch 10, Loss 0.1019\n",
      "Training Accuracy: 0.9098, Testing Accuracy: 0.9209\n",
      "\n"
     ]
    },
    {
     "name": "stdout",
     "output_type": "stream",
     "text": [
      "Epoch 20, Loss 0.0791\n",
      "Training Accuracy: 0.9266, Testing Accuracy: 0.9410\n",
      "\n"
     ]
    },
    {
     "name": "stdout",
     "output_type": "stream",
     "text": [
      "Epoch 30, Loss 0.0684\n",
      "Training Accuracy: 0.9342, Testing Accuracy: 0.9476\n",
      "\n"
     ]
    },
    {
     "name": "stdout",
     "output_type": "stream",
     "text": [
      "Epoch 40, Loss 0.0619\n",
      "Training Accuracy: 0.9394, Testing Accuracy: 0.9501\n",
      "\n"
     ]
    },
    {
     "name": "stdout",
     "output_type": "stream",
     "text": [
      "Epoch 50, Loss 0.0574\n",
      "Training Accuracy: 0.9433, Testing Accuracy: 0.9541\n",
      "\n"
     ]
    },
    {
     "name": "stdout",
     "output_type": "stream",
     "text": [
      "Epoch 60, Loss 0.0541\n",
      "Training Accuracy: 0.9457, Testing Accuracy: 0.9572\n",
      "\n"
     ]
    },
    {
     "name": "stdout",
     "output_type": "stream",
     "text": [
      "Epoch 70, Loss 0.0516\n",
      "Training Accuracy: 0.9486, Testing Accuracy: 0.9577\n",
      "\n"
     ]
    },
    {
     "name": "stdout",
     "output_type": "stream",
     "text": [
      "Epoch 80, Loss 0.0495\n",
      "Training Accuracy: 0.9500, Testing Accuracy: 0.9587\n",
      "\n"
     ]
    },
    {
     "name": "stdout",
     "output_type": "stream",
     "text": [
      "Epoch 90, Loss 0.0478\n",
      "Training Accuracy: 0.9514, Testing Accuracy: 0.9617\n",
      "\n"
     ]
    },
    {
     "name": "stdout",
     "output_type": "stream",
     "text": [
      "Epoch 100, Loss 0.0464\n",
      "Training Accuracy: 0.9519, Testing Accuracy: 0.9637\n",
      "\n"
     ]
    },
    {
     "name": "stdout",
     "output_type": "stream",
     "text": [
      "Epoch 110, Loss 0.0452\n",
      "Training Accuracy: 0.9533, Testing Accuracy: 0.9652\n",
      "\n"
     ]
    },
    {
     "name": "stdout",
     "output_type": "stream",
     "text": [
      "Epoch 120, Loss 0.0441\n",
      "Training Accuracy: 0.9541, Testing Accuracy: 0.9657\n",
      "\n"
     ]
    },
    {
     "name": "stdout",
     "output_type": "stream",
     "text": [
      "Epoch 130, Loss 0.0432\n",
      "Training Accuracy: 0.9547, Testing Accuracy: 0.9657\n",
      "\n"
     ]
    },
    {
     "name": "stdout",
     "output_type": "stream",
     "text": [
      "Epoch 140, Loss 0.0423\n",
      "Training Accuracy: 0.9555, Testing Accuracy: 0.9662\n",
      "\n"
     ]
    },
    {
     "name": "stdout",
     "output_type": "stream",
     "text": [
      "Epoch 150, Loss 0.0416\n",
      "Training Accuracy: 0.9562, Testing Accuracy: 0.9662\n",
      "\n"
     ]
    },
    {
     "name": "stdout",
     "output_type": "stream",
     "text": [
      "Epoch 160, Loss 0.0409\n",
      "Training Accuracy: 0.9568, Testing Accuracy: 0.9662\n",
      "\n"
     ]
    },
    {
     "name": "stdout",
     "output_type": "stream",
     "text": [
      "Epoch 170, Loss 0.0403\n",
      "Training Accuracy: 0.9575, Testing Accuracy: 0.9662\n",
      "\n"
     ]
    },
    {
     "name": "stdout",
     "output_type": "stream",
     "text": [
      "Epoch 180, Loss 0.0397\n",
      "Training Accuracy: 0.9581, Testing Accuracy: 0.9667\n",
      "\n"
     ]
    },
    {
     "name": "stdout",
     "output_type": "stream",
     "text": [
      "Epoch 190, Loss 0.0392\n",
      "Training Accuracy: 0.9585, Testing Accuracy: 0.9662\n",
      "\n"
     ]
    },
    {
     "name": "stdout",
     "output_type": "stream",
     "text": [
      "Epoch 200, Loss 0.0387\n",
      "Training Accuracy: 0.9593, Testing Accuracy: 0.9667\n",
      "\n"
     ]
    },
    {
     "name": "stdout",
     "output_type": "stream",
     "text": [
      "Epoch 210, Loss 0.0382\n",
      "Training Accuracy: 0.9595, Testing Accuracy: 0.9672\n",
      "\n"
     ]
    },
    {
     "name": "stdout",
     "output_type": "stream",
     "text": [
      "Epoch 220, Loss 0.0378\n",
      "Training Accuracy: 0.9601, Testing Accuracy: 0.9672\n",
      "\n"
     ]
    },
    {
     "name": "stdout",
     "output_type": "stream",
     "text": [
      "Epoch 230, Loss 0.0374\n",
      "Training Accuracy: 0.9606, Testing Accuracy: 0.9667\n",
      "\n"
     ]
    },
    {
     "name": "stdout",
     "output_type": "stream",
     "text": [
      "Epoch 240, Loss 0.0371\n",
      "Training Accuracy: 0.9609, Testing Accuracy: 0.9672\n",
      "\n"
     ]
    },
    {
     "name": "stdout",
     "output_type": "stream",
     "text": [
      "Epoch 250, Loss 0.0367\n",
      "Training Accuracy: 0.9612, Testing Accuracy: 0.9672\n",
      "\n"
     ]
    },
    {
     "data": {
      "text/plain": [
       "0.008150979421045817"
      ]
     },
     "execution_count": 22,
     "metadata": {},
     "output_type": "execute_result"
    }
   ],
   "source": [
    "print(\"====== Logistic Regression ======\")\n",
    "learner_lr.train_loop(dl)"
   ]
  },
  {
   "cell_type": "markdown",
   "metadata": {
    "papermill": {
     "duration": 0.054113,
     "end_time": "2021-01-17T00:35:32.431129",
     "exception": false,
     "start_time": "2021-01-17T00:35:32.377016",
     "status": "completed"
    },
    "tags": []
   },
   "source": [
    "### Comparing results of NN and LR"
   ]
  },
  {
   "cell_type": "code",
   "execution_count": 23,
   "metadata": {
    "execution": {
     "iopub.execute_input": "2021-01-17T00:35:32.545113Z",
     "iopub.status.busy": "2021-01-17T00:35:32.541966Z",
     "iopub.status.idle": "2021-01-17T00:35:32.844884Z",
     "shell.execute_reply": "2021-01-17T00:35:32.844165Z"
    },
    "papermill": {
     "duration": 0.363005,
     "end_time": "2021-01-17T00:35:32.845059",
     "exception": false,
     "start_time": "2021-01-17T00:35:32.482054",
     "status": "completed"
    },
    "tags": []
   },
   "outputs": [
    {
     "data": {
      "text/plain": [
       "<matplotlib.legend.Legend at 0x7f76b47512b0>"
      ]
     },
     "execution_count": 23,
     "metadata": {},
     "output_type": "execute_result"
    },
    {
     "data": {
      "image/png": "[encoded data removed]",
      "text/plain": [
       "<Figure size 1080x720 with 1 Axes>"
      ]
     },
     "metadata": {
      "needs_background": "light"
     },
     "output_type": "display_data"
    }
   ],
   "source": [
    "plt.figure(figsize=(15,10))\n",
    "\n",
    "# Neural Network plots\n",
    "plt.plot(acc_nn.accuracies, 'r-', label = \"Training Accuracies - NN\")\n",
    "plt.plot(acc_nn.test_accuracies, 'g-', label = \"Testing Accuracies - NN\")\n",
    "\n",
    "# Logistic Regression plots\n",
    "plt.plot(acc_lr.accuracies, 'k-', label = \"Training Accuracies - LR\")\n",
    "plt.plot(acc_lr.test_accuracies, 'b-', label = \"Testing Accuracies - LR\")\n",
    "\n",
    "plt.ylim(0.8, 1)\n",
    "\n",
    "plt.legend()\n",
    "\n"
   ]
  },
  {
   "cell_type": "markdown",
   "metadata": {
    "papermill": {
     "duration": 0.05403,
     "end_time": "2021-01-17T00:35:32.952346",
     "exception": false,
     "start_time": "2021-01-17T00:35:32.898316",
     "status": "completed"
    },
    "tags": []
   },
   "source": [
    "### From the plot, we can observe the following:\n",
    "- Neural Network achieves higher accuracy than the Logistic Regression model.\n",
    "- This apparently, is because of overfitting, i.e. NN captures more noise than data.\n",
    "- Testing accuracy of NN drops below the Training accuracy at higher epochs. This explains the over-fitting on training data.\n",
    "- Logistic Regression gives a reliable accuracy, without the above mentioned problem.\n"
   ]
  },
  {
   "cell_type": "markdown",
   "metadata": {
    "papermill": {
     "duration": 0.053354,
     "end_time": "2021-01-17T00:35:33.058970",
     "exception": false,
     "start_time": "2021-01-17T00:35:33.005616",
     "status": "completed"
    },
    "tags": []
   },
   "source": [
    "### Moving till the last but one layer (excluding it).\n",
    "#### Plotting the outputs of this layer of the NN."
   ]
  },
  {
   "cell_type": "code",
   "execution_count": 24,
   "metadata": {
    "execution": {
     "iopub.execute_input": "2021-01-17T00:35:33.193987Z",
     "iopub.status.busy": "2021-01-17T00:35:33.187244Z",
     "iopub.status.idle": "2021-01-17T00:35:33.198305Z",
     "shell.execute_reply": "2021-01-17T00:35:33.197735Z"
    },
    "papermill": {
     "duration": 0.083909,
     "end_time": "2021-01-17T00:35:33.198481",
     "exception": false,
     "start_time": "2021-01-17T00:35:33.114572",
     "status": "completed"
    },
    "tags": []
   },
   "outputs": [],
   "source": [
    "model_new = Model(layers[:-2])"
   ]
  },
  {
   "cell_type": "code",
   "execution_count": 25,
   "metadata": {
    "execution": {
     "iopub.execute_input": "2021-01-17T00:35:33.313196Z",
     "iopub.status.busy": "2021-01-17T00:35:33.311721Z",
     "iopub.status.idle": "2021-01-17T00:35:33.338982Z",
     "shell.execute_reply": "2021-01-17T00:35:33.339888Z"
    },
    "papermill": {
     "duration": 0.087211,
     "end_time": "2021-01-17T00:35:33.340101",
     "exception": false,
     "start_time": "2021-01-17T00:35:33.252890",
     "status": "completed"
    },
    "tags": []
   },
   "outputs": [],
   "source": [
    "plot_testing = model_new(testing_xdata)"
   ]
  },
  {
   "cell_type": "code",
   "execution_count": 26,
   "metadata": {
    "execution": {
     "iopub.execute_input": "2021-01-17T00:35:33.453291Z",
     "iopub.status.busy": "2021-01-17T00:35:33.452571Z",
     "iopub.status.idle": "2021-01-17T00:35:33.697077Z",
     "shell.execute_reply": "2021-01-17T00:35:33.696482Z"
    },
    "papermill": {
     "duration": 0.303833,
     "end_time": "2021-01-17T00:35:33.697276",
     "exception": false,
     "start_time": "2021-01-17T00:35:33.393443",
     "status": "completed"
    },
    "tags": []
   },
   "outputs": [
    {
     "data": {
      "text/plain": [
       "Text(0.5, 1.0, 'Outputs')"
      ]
     },
     "execution_count": 26,
     "metadata": {},
     "output_type": "execute_result"
    },
    {
     "data": {
      "image/png": "[encoded data removed]",
      "text/plain": [
       "<Figure size 576x504 with 1 Axes>"
      ]
     },
     "metadata": {
      "needs_background": "light"
     },
     "output_type": "display_data"
    }
   ],
   "source": [
    "plt.figure(figsize=(8,7))\n",
    "plt.scatter(plot_testing[:,0], plot_testing[:,1], alpha = 0.1, c = y_test.ravel());\n",
    "plt.title('Outputs')"
   ]
  },
  {
   "cell_type": "markdown",
   "metadata": {
    "papermill": {
     "duration": 0.055206,
     "end_time": "2021-01-17T00:35:33.805637",
     "exception": false,
     "start_time": "2021-01-17T00:35:33.750431",
     "status": "completed"
    },
    "tags": []
   },
   "source": [
    "### Plotting probability contours"
   ]
  },
  {
   "cell_type": "code",
   "execution_count": 27,
   "metadata": {
    "execution": {
     "iopub.execute_input": "2021-01-17T00:35:33.922788Z",
     "iopub.status.busy": "2021-01-17T00:35:33.922131Z",
     "iopub.status.idle": "2021-01-17T00:35:33.935210Z",
     "shell.execute_reply": "2021-01-17T00:35:33.934614Z"
    },
    "papermill": {
     "duration": 0.075568,
     "end_time": "2021-01-17T00:35:33.935373",
     "exception": false,
     "start_time": "2021-01-17T00:35:33.859805",
     "status": "completed"
    },
    "tags": []
   },
   "outputs": [],
   "source": [
    "model_prob = Model(layers[-2:]) "
   ]
  },
  {
   "cell_type": "code",
   "execution_count": 28,
   "metadata": {
    "execution": {
     "iopub.execute_input": "2021-01-17T00:35:34.090014Z",
     "iopub.status.busy": "2021-01-17T00:35:34.089347Z",
     "iopub.status.idle": "2021-01-17T00:35:34.106037Z",
     "shell.execute_reply": "2021-01-17T00:35:34.106565Z"
    },
    "papermill": {
     "duration": 0.117045,
     "end_time": "2021-01-17T00:35:34.106749",
     "exception": false,
     "start_time": "2021-01-17T00:35:33.989704",
     "status": "completed"
    },
    "tags": []
   },
   "outputs": [],
   "source": [
    "# Adjust the x and y ranges according to the above generated plot.\n",
    "x_range = np.linspace(-4, 1, 100) \n",
    "y_range = np.linspace(-6, 6, 100) \n",
    "x_grid, y_grid = np.meshgrid(x_range, y_range) # x_grid and y_grig are of size 100 X 100\n",
    "\n",
    "# converting x_grid and y_grid to continuous arrays\n",
    "x_grid_flat = np.ravel(x_grid)\n",
    "y_grid_flat = np.ravel(y_grid)\n",
    "\n",
    "# The last layer of the current model takes two columns as input. Hence transpose of np.vstack() is required.\n",
    "X = np.vstack((x_grid_flat, y_grid_flat)).T\n",
    "\n",
    "# x_grid and y_grid are of size 100 x 100\n",
    "probability_contour = model_prob(X).reshape(100,100) "
   ]
  },
  {
   "cell_type": "code",
   "execution_count": 29,
   "metadata": {
    "execution": {
     "iopub.execute_input": "2021-01-17T00:35:34.259347Z",
     "iopub.status.busy": "2021-01-17T00:35:34.249818Z",
     "iopub.status.idle": "2021-01-17T00:35:34.550167Z",
     "shell.execute_reply": "2021-01-17T00:35:34.550827Z"
    },
    "papermill": {
     "duration": 0.384851,
     "end_time": "2021-01-17T00:35:34.551037",
     "exception": false,
     "start_time": "2021-01-17T00:35:34.166186",
     "status": "completed"
    },
    "tags": []
   },
   "outputs": [
    {
     "data": {
      "image/png": "[encoded data removed]",
      "text/plain": [
       "<Figure size 720x648 with 1 Axes>"
      ]
     },
     "metadata": {
      "needs_background": "light"
     },
     "output_type": "display_data"
    }
   ],
   "source": [
    "plt.figure(figsize=(10,9))\n",
    "plt.scatter(plot_testing[:,0], plot_testing[:,1], alpha = 0.1, c = y_test.ravel())\n",
    "contours = plt.contour(x_grid,y_grid,probability_contour)\n",
    "plt.title('Probability Contours')\n",
    "plt.clabel(contours, inline = True );"
   ]
  }
 ],
 "metadata": {
  "kernelspec": {
   "display_name": "Python 3",
   "language": "python",
   "name": "python3"
  },
  "language_info": {
   "codemirror_mode": {
    "name": "ipython",
    "version": 3
   },
   "file_extension": ".py",
   "mimetype": "text/x-python",
   "name": "python",
   "nbconvert_exporter": "python",
   "pygments_lexer": "ipython3",
   "version": "3.6.12"
  },
  "papermill": {
   "duration": 160.064245,
   "end_time": "2021-01-17T00:35:35.117792",
   "environment_variables": {},
   "exception": null,
   "input_path": "2020-08-11-NeuralNetwork.ipynb",
   "output_path": "2020-08-11-NeuralNetwork.ipynb",
   "parameters": {},
   "start_time": "2021-01-17T00:32:55.053547",
   "version": "2.1.2"
  }
 },
 "nbformat": 4,
 "nbformat_minor": 4
}