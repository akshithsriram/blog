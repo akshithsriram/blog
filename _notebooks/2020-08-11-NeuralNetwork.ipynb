{
 "cells": [
  {
   "cell_type": "markdown",
   "id": "fitted-suggestion",
   "metadata": {
    "papermill": {
     "duration": 0.029868,
     "end_time": "2021-07-10T10:03:40.788633",
     "exception": false,
     "start_time": "2021-07-10T10:03:40.758765",
     "status": "completed"
    },
    "tags": []
   },
   "source": [
    "# \"A Basic Neural Network: Differentiate Hand-Written Digits\"\n",
    "\n",
    "- badges: true\n",
    "- author: Akshith Sriram"
   ]
  },
  {
   "cell_type": "markdown",
   "id": "signal-flexibility",
   "metadata": {
    "papermill": {
     "duration": 0.025116,
     "end_time": "2021-07-10T10:03:40.839547",
     "exception": false,
     "start_time": "2021-07-10T10:03:40.814431",
     "status": "completed"
    },
    "tags": []
   },
   "source": [
    "### Key Objectives:\n",
    "- Building a neural network that differentiates two hand-written digits 3 and 8.\n",
    "- Comparing the results of this Neural Network (NN) to that of a Logistic Regression (LR) model.\n",
    "\n",
    "### Requirements:\n",
    "- 'Kudzu' : A neural network library that was designed during our course by [Univ.AI](www.univ.ai). \n",
    "- MNIST Database\n",
    "\n",
    "If MNIST is not installed, use the command `!pip install mnist` given below.\n",
    "It can be run both from the command line and Jupyter Notebook."
   ]
  },
  {
   "cell_type": "code",
   "execution_count": 1,
   "id": "british-texture",
   "metadata": {
    "execution": {
     "iopub.execute_input": "2021-07-10T10:03:40.899208Z",
     "iopub.status.busy": "2021-07-10T10:03:40.898706Z",
     "iopub.status.idle": "2021-07-10T10:03:42.237235Z",
     "shell.execute_reply": "2021-07-10T10:03:42.236713Z"
    },
    "papermill": {
     "duration": 1.372716,
     "end_time": "2021-07-10T10:03:42.237385",
     "exception": false,
     "start_time": "2021-07-10T10:03:40.864669",
     "status": "completed"
    },
    "tags": []
   },
   "outputs": [
    {
     "name": "stdout",
     "output_type": "stream",
     "text": [
      "Collecting mnist\r\n"
     ]
    },
    {
     "name": "stdout",
     "output_type": "stream",
     "text": [
      "  Downloading mnist-0.2.2-py2.py3-none-any.whl (3.5 kB)\r\n",
      "Requirement already satisfied: numpy in /opt/hostedtoolcache/Python/3.6.13/x64/lib/python3.6/site-packages (from mnist) (1.19.5)\r\n"
     ]
    },
    {
     "name": "stdout",
     "output_type": "stream",
     "text": [
      "Installing collected packages: mnist\r\n"
     ]
    },
    {
     "name": "stdout",
     "output_type": "stream",
     "text": [
      "Successfully installed mnist-0.2.2\r\n"
     ]
    }
   ],
   "source": [
    "!pip install mnist "
   ]
  },
  {
   "cell_type": "markdown",
   "id": "stunning-extra",
   "metadata": {
    "papermill": {
     "duration": 0.026077,
     "end_time": "2021-07-10T10:03:42.290827",
     "exception": false,
     "start_time": "2021-07-10T10:03:42.264750",
     "status": "completed"
    },
    "tags": []
   },
   "source": [
    "#### Importing necessary libraries"
   ]
  },
  {
   "cell_type": "code",
   "execution_count": 2,
   "id": "wooden-france",
   "metadata": {
    "execution": {
     "iopub.execute_input": "2021-07-10T10:03:42.349905Z",
     "iopub.status.busy": "2021-07-10T10:03:42.349411Z",
     "iopub.status.idle": "2021-07-10T10:03:42.848669Z",
     "shell.execute_reply": "2021-07-10T10:03:42.848145Z"
    },
    "papermill": {
     "duration": 0.53194,
     "end_time": "2021-07-10T10:03:42.848809",
     "exception": false,
     "start_time": "2021-07-10T10:03:42.316869",
     "status": "completed"
    },
    "tags": []
   },
   "outputs": [],
   "source": [
    "%load_ext autoreload\n",
    "%autoreload 2\n",
    "\n",
    "%matplotlib inline\n",
    "import matplotlib.pyplot as plt\n",
    "\n",
    "import numpy as np\n",
    "import pandas as pd"
   ]
  },
  {
   "cell_type": "markdown",
   "id": "stunning-physics",
   "metadata": {
    "papermill": {
     "duration": 0.026505,
     "end_time": "2021-07-10T10:03:42.902663",
     "exception": false,
     "start_time": "2021-07-10T10:03:42.876158",
     "status": "completed"
    },
    "tags": []
   },
   "source": [
    "### Preparing the Data"
   ]
  },
  {
   "cell_type": "code",
   "execution_count": 3,
   "id": "unauthorized-remainder",
   "metadata": {
    "execution": {
     "iopub.execute_input": "2021-07-10T10:03:42.965114Z",
     "iopub.status.busy": "2021-07-10T10:03:42.964612Z",
     "iopub.status.idle": "2021-07-10T10:03:42.971425Z",
     "shell.execute_reply": "2021-07-10T10:03:42.971820Z"
    },
    "papermill": {
     "duration": 0.043188,
     "end_time": "2021-07-10T10:03:42.971941",
     "exception": false,
     "start_time": "2021-07-10T10:03:42.928753",
     "status": "completed"
    },
    "tags": []
   },
   "outputs": [],
   "source": [
    "import mnist"
   ]
  },
  {
   "cell_type": "code",
   "execution_count": 4,
   "id": "correct-antarctica",
   "metadata": {
    "execution": {
     "iopub.execute_input": "2021-07-10T10:03:43.028322Z",
     "iopub.status.busy": "2021-07-10T10:03:43.026907Z",
     "iopub.status.idle": "2021-07-10T10:06:31.478714Z",
     "shell.execute_reply": "2021-07-10T10:06:31.478191Z"
    },
    "papermill": {
     "duration": 168.480764,
     "end_time": "2021-07-10T10:06:31.478854",
     "exception": false,
     "start_time": "2021-07-10T10:03:42.998090",
     "status": "completed"
    },
    "tags": []
   },
   "outputs": [],
   "source": [
    "train_images = mnist.train_images()\n",
    "train_labels = mnist.train_labels()"
   ]
  },
  {
   "cell_type": "code",
   "execution_count": 5,
   "id": "musical-prospect",
   "metadata": {
    "execution": {
     "iopub.execute_input": "2021-07-10T10:06:31.550381Z",
     "iopub.status.busy": "2021-07-10T10:06:31.545819Z",
     "iopub.status.idle": "2021-07-10T10:06:31.553051Z",
     "shell.execute_reply": "2021-07-10T10:06:31.553449Z"
    },
    "papermill": {
     "duration": 0.047198,
     "end_time": "2021-07-10T10:06:31.553569",
     "exception": false,
     "start_time": "2021-07-10T10:06:31.506371",
     "status": "completed"
    },
    "tags": []
   },
   "outputs": [
    {
     "data": {
      "text/plain": [
       "((60000, 28, 28), (60000,))"
      ]
     },
     "execution_count": 5,
     "metadata": {},
     "output_type": "execute_result"
    }
   ],
   "source": [
    "train_images.shape, train_labels.shape"
   ]
  },
  {
   "cell_type": "code",
   "execution_count": 6,
   "id": "preliminary-elizabeth",
   "metadata": {
    "execution": {
     "iopub.execute_input": "2021-07-10T10:06:31.614851Z",
     "iopub.status.busy": "2021-07-10T10:06:31.608925Z",
     "iopub.status.idle": "2021-07-10T10:07:01.302359Z",
     "shell.execute_reply": "2021-07-10T10:07:01.301808Z"
    },
    "papermill": {
     "duration": 29.72238,
     "end_time": "2021-07-10T10:07:01.302496",
     "exception": false,
     "start_time": "2021-07-10T10:06:31.580116",
     "status": "completed"
    },
    "tags": []
   },
   "outputs": [],
   "source": [
    "test_images = mnist.test_images()\n",
    "test_labels = mnist.test_labels()"
   ]
  },
  {
   "cell_type": "code",
   "execution_count": 7,
   "id": "acknowledged-oxygen",
   "metadata": {
    "execution": {
     "iopub.execute_input": "2021-07-10T10:07:01.360148Z",
     "iopub.status.busy": "2021-07-10T10:07:01.359605Z",
     "iopub.status.idle": "2021-07-10T10:07:01.373116Z",
     "shell.execute_reply": "2021-07-10T10:07:01.372699Z"
    },
    "papermill": {
     "duration": 0.0428,
     "end_time": "2021-07-10T10:07:01.373217",
     "exception": false,
     "start_time": "2021-07-10T10:07:01.330417",
     "status": "completed"
    },
    "tags": []
   },
   "outputs": [
    {
     "data": {
      "text/plain": [
       "((10000, 28, 28), (10000,))"
      ]
     },
     "execution_count": 7,
     "metadata": {},
     "output_type": "execute_result"
    }
   ],
   "source": [
    "test_images.shape, test_labels.shape"
   ]
  },
  {
   "cell_type": "code",
   "execution_count": 8,
   "id": "innovative-organic",
   "metadata": {
    "execution": {
     "iopub.execute_input": "2021-07-10T10:07:01.430270Z",
     "iopub.status.busy": "2021-07-10T10:07:01.429785Z",
     "iopub.status.idle": "2021-07-10T10:07:01.561642Z",
     "shell.execute_reply": "2021-07-10T10:07:01.562042Z"
    },
    "papermill": {
     "duration": 0.162374,
     "end_time": "2021-07-10T10:07:01.562164",
     "exception": false,
     "start_time": "2021-07-10T10:07:01.399790",
     "status": "completed"
    },
    "tags": []
   },
   "outputs": [
    {
     "name": "stdout",
     "output_type": "stream",
     "text": [
      "2\n"
     ]
    },
    {
     "data": {
      "text/plain": [
       "<matplotlib.image.AxesImage at 0x7f010179e630>"
      ]
     },
     "execution_count": 8,
     "metadata": {},
     "output_type": "execute_result"
    },
    {
     "data": {
      "image/png": "[encoded data removed]",
      "text/plain": [
       "<Figure size 432x288 with 1 Axes>"
      ]
     },
     "metadata": {
      "needs_background": "light"
     },
     "output_type": "display_data"
    }
   ],
   "source": [
    "image_index = 7776 # You may select anything up to 60,000\n",
    "print(train_labels[image_index]) \n",
    "plt.imshow(train_images[image_index], cmap='Greys')"
   ]
  },
  {
   "cell_type": "markdown",
   "id": "facial-modem",
   "metadata": {
    "papermill": {
     "duration": 0.027743,
     "end_time": "2021-07-10T10:07:01.617877",
     "exception": false,
     "start_time": "2021-07-10T10:07:01.590134",
     "status": "completed"
    },
    "tags": []
   },
   "source": [
    "## Filter data to get 3 and 8 out"
   ]
  },
  {
   "cell_type": "code",
   "execution_count": 9,
   "id": "thousand-acquisition",
   "metadata": {
    "execution": {
     "iopub.execute_input": "2021-07-10T10:07:01.688972Z",
     "iopub.status.busy": "2021-07-10T10:07:01.684328Z",
     "iopub.status.idle": "2021-07-10T10:07:01.698001Z",
     "shell.execute_reply": "2021-07-10T10:07:01.697582Z"
    },
    "papermill": {
     "duration": 0.052453,
     "end_time": "2021-07-10T10:07:01.698100",
     "exception": false,
     "start_time": "2021-07-10T10:07:01.645647",
     "status": "completed"
    },
    "tags": []
   },
   "outputs": [],
   "source": [
    "train_filter = np.where((train_labels == 3 ) | (train_labels == 8))\n",
    "test_filter = np.where((test_labels == 3) | (test_labels == 8))\n",
    "X_train, y_train = train_images[train_filter], train_labels[train_filter]\n",
    "X_test, y_test = test_images[test_filter], test_labels[test_filter]"
   ]
  },
  {
   "cell_type": "markdown",
   "id": "ruled-access",
   "metadata": {
    "papermill": {
     "duration": 0.031835,
     "end_time": "2021-07-10T10:07:01.758014",
     "exception": false,
     "start_time": "2021-07-10T10:07:01.726179",
     "status": "completed"
    },
    "tags": []
   },
   "source": [
    "We normalize the pixel values in the 0 to 1 range"
   ]
  },
  {
   "cell_type": "code",
   "execution_count": 10,
   "id": "isolated-denver",
   "metadata": {
    "execution": {
     "iopub.execute_input": "2021-07-10T10:07:01.816399Z",
     "iopub.status.busy": "2021-07-10T10:07:01.815906Z",
     "iopub.status.idle": "2021-07-10T10:07:01.865560Z",
     "shell.execute_reply": "2021-07-10T10:07:01.866012Z"
    },
    "papermill": {
     "duration": 0.080492,
     "end_time": "2021-07-10T10:07:01.866173",
     "exception": false,
     "start_time": "2021-07-10T10:07:01.785681",
     "status": "completed"
    },
    "tags": []
   },
   "outputs": [],
   "source": [
    "X_train = X_train/255.\n",
    "X_test = X_test/255."
   ]
  },
  {
   "cell_type": "markdown",
   "id": "perfect-summary",
   "metadata": {
    "papermill": {
     "duration": 0.027931,
     "end_time": "2021-07-10T10:07:01.923516",
     "exception": false,
     "start_time": "2021-07-10T10:07:01.895585",
     "status": "completed"
    },
    "tags": []
   },
   "source": [
    "Setup the labels as 1 (when the digit is 3) and 0 (when the digit is 8)"
   ]
  },
  {
   "cell_type": "code",
   "execution_count": 11,
   "id": "personalized-growing",
   "metadata": {
    "execution": {
     "iopub.execute_input": "2021-07-10T10:07:01.988839Z",
     "iopub.status.busy": "2021-07-10T10:07:01.988351Z",
     "iopub.status.idle": "2021-07-10T10:07:01.995617Z",
     "shell.execute_reply": "2021-07-10T10:07:01.996022Z"
    },
    "papermill": {
     "duration": 0.044939,
     "end_time": "2021-07-10T10:07:01.996142",
     "exception": false,
     "start_time": "2021-07-10T10:07:01.951203",
     "status": "completed"
    },
    "tags": []
   },
   "outputs": [],
   "source": [
    "y_train = 1*(y_train==3)\n",
    "y_test = 1*(y_test==3)"
   ]
  },
  {
   "cell_type": "code",
   "execution_count": 12,
   "id": "considered-virgin",
   "metadata": {
    "execution": {
     "iopub.execute_input": "2021-07-10T10:07:02.053985Z",
     "iopub.status.busy": "2021-07-10T10:07:02.053488Z",
     "iopub.status.idle": "2021-07-10T10:07:02.066285Z",
     "shell.execute_reply": "2021-07-10T10:07:02.065887Z"
    },
    "papermill": {
     "duration": 0.042504,
     "end_time": "2021-07-10T10:07:02.066385",
     "exception": false,
     "start_time": "2021-07-10T10:07:02.023881",
     "status": "completed"
    },
    "tags": []
   },
   "outputs": [
    {
     "data": {
      "text/plain": [
       "((11982, 28, 28), (1984, 28, 28))"
      ]
     },
     "execution_count": 12,
     "metadata": {},
     "output_type": "execute_result"
    }
   ],
   "source": [
    "X_train.shape, X_test.shape"
   ]
  },
  {
   "cell_type": "markdown",
   "id": "civilian-mobile",
   "metadata": {
    "papermill": {
     "duration": 0.027961,
     "end_time": "2021-07-10T10:07:02.122728",
     "exception": false,
     "start_time": "2021-07-10T10:07:02.094767",
     "status": "completed"
    },
    "tags": []
   },
   "source": [
    "### Reshape the input data to create a linear array"
   ]
  },
  {
   "cell_type": "code",
   "execution_count": 13,
   "id": "colonial-adams",
   "metadata": {
    "execution": {
     "iopub.execute_input": "2021-07-10T10:07:02.193986Z",
     "iopub.status.busy": "2021-07-10T10:07:02.189012Z",
     "iopub.status.idle": "2021-07-10T10:07:02.196800Z",
     "shell.execute_reply": "2021-07-10T10:07:02.196385Z"
    },
    "papermill": {
     "duration": 0.045938,
     "end_time": "2021-07-10T10:07:02.196895",
     "exception": false,
     "start_time": "2021-07-10T10:07:02.150957",
     "status": "completed"
    },
    "tags": []
   },
   "outputs": [
    {
     "data": {
      "text/plain": [
       "((11982, 784), (1984, 784))"
      ]
     },
     "execution_count": 13,
     "metadata": {},
     "output_type": "execute_result"
    }
   ],
   "source": [
    "X_train = X_train.reshape(X_train.shape[0], -1)\n",
    "X_test = X_test.reshape(X_test.shape[0], -1)\n",
    "X_train.shape, X_test.shape"
   ]
  },
  {
   "cell_type": "markdown",
   "id": "smart-details",
   "metadata": {
    "papermill": {
     "duration": 0.028128,
     "end_time": "2021-07-10T10:07:02.253380",
     "exception": false,
     "start_time": "2021-07-10T10:07:02.225252",
     "status": "completed"
    },
    "tags": []
   },
   "source": [
    "### Importing appropriate functions from 'Kudzu'"
   ]
  },
  {
   "cell_type": "code",
   "execution_count": 14,
   "id": "celtic-trial",
   "metadata": {
    "execution": {
     "iopub.execute_input": "2021-07-10T10:07:02.315315Z",
     "iopub.status.busy": "2021-07-10T10:07:02.314811Z",
     "iopub.status.idle": "2021-07-10T10:07:02.331289Z",
     "shell.execute_reply": "2021-07-10T10:07:02.331738Z"
    },
    "papermill": {
     "duration": 0.050094,
     "end_time": "2021-07-10T10:07:02.331866",
     "exception": false,
     "start_time": "2021-07-10T10:07:02.281772",
     "status": "completed"
    },
    "tags": []
   },
   "outputs": [],
   "source": [
    "from kudzu.layer import Sigmoid\n",
    "from kudzu.layer import Relu\n",
    "from kudzu.layer import Affine, Sigmoid\n",
    "\n",
    "from kudzu.model import Model\n",
    "from kudzu.train import Learner\n",
    "from kudzu.optim import GD\n",
    "from kudzu.data import Data, Dataloader, Sampler\n",
    "\n",
    "from kudzu.callbacks import AccCallback\n",
    "from kudzu.callbacks import ClfCallback\n",
    "\n",
    "from kudzu.loss import MSE"
   ]
  },
  {
   "cell_type": "markdown",
   "id": "coupled-customer",
   "metadata": {
    "papermill": {
     "duration": 0.028017,
     "end_time": "2021-07-10T10:07:02.389247",
     "exception": false,
     "start_time": "2021-07-10T10:07:02.361230",
     "status": "completed"
    },
    "tags": []
   },
   "source": [
    "### Let us create a `Config` class, to store important parameters. \n",
    "This class essentially plays the role of a dictionary."
   ]
  },
  {
   "cell_type": "code",
   "execution_count": 15,
   "id": "young-ceiling",
   "metadata": {
    "execution": {
     "iopub.execute_input": "2021-07-10T10:07:02.448708Z",
     "iopub.status.busy": "2021-07-10T10:07:02.448218Z",
     "iopub.status.idle": "2021-07-10T10:07:02.459242Z",
     "shell.execute_reply": "2021-07-10T10:07:02.458851Z"
    },
    "papermill": {
     "duration": 0.041728,
     "end_time": "2021-07-10T10:07:02.459337",
     "exception": false,
     "start_time": "2021-07-10T10:07:02.417609",
     "status": "completed"
    },
    "tags": []
   },
   "outputs": [],
   "source": [
    "class Config:\n",
    "    pass\n",
    "config = Config()\n",
    "config.lr = 0.001\n",
    "config.num_epochs = 251\n",
    "config.bs = 50"
   ]
  },
  {
   "cell_type": "markdown",
   "id": "according-mandate",
   "metadata": {
    "papermill": {
     "duration": 0.028064,
     "end_time": "2021-07-10T10:07:02.515441",
     "exception": false,
     "start_time": "2021-07-10T10:07:02.487377",
     "status": "completed"
    },
    "tags": []
   },
   "source": [
    "### Initializing data to the variables"
   ]
  },
  {
   "cell_type": "code",
   "execution_count": 16,
   "id": "academic-disposition",
   "metadata": {
    "execution": {
     "iopub.execute_input": "2021-07-10T10:07:02.575138Z",
     "iopub.status.busy": "2021-07-10T10:07:02.574654Z",
     "iopub.status.idle": "2021-07-10T10:07:02.585690Z",
     "shell.execute_reply": "2021-07-10T10:07:02.586062Z"
    },
    "papermill": {
     "duration": 0.042509,
     "end_time": "2021-07-10T10:07:02.586170",
     "exception": false,
     "start_time": "2021-07-10T10:07:02.543661",
     "status": "completed"
    },
    "tags": []
   },
   "outputs": [],
   "source": [
    "data = Data(X_train, y_train.reshape(-1,1))\n",
    "sampler = Sampler(data, config.bs, shuffle=True)\n",
    "\n",
    "dl = Dataloader(data, sampler)\n",
    "\n",
    "opt = GD(config.lr)\n",
    "loss = MSE()"
   ]
  },
  {
   "cell_type": "code",
   "execution_count": 17,
   "id": "featured-commission",
   "metadata": {
    "execution": {
     "iopub.execute_input": "2021-07-10T10:07:02.658776Z",
     "iopub.status.busy": "2021-07-10T10:07:02.658290Z",
     "iopub.status.idle": "2021-07-10T10:07:02.661928Z",
     "shell.execute_reply": "2021-07-10T10:07:02.662325Z"
    },
    "papermill": {
     "duration": 0.048224,
     "end_time": "2021-07-10T10:07:02.662432",
     "exception": false,
     "start_time": "2021-07-10T10:07:02.614208",
     "status": "completed"
    },
    "tags": []
   },
   "outputs": [],
   "source": [
    "training_xdata = X_train\n",
    "testing_xdata = X_test\n",
    "training_ydata = y_train.reshape(-1,1)\n",
    "testing_ydata = y_test.reshape(-1,1)"
   ]
  },
  {
   "cell_type": "markdown",
   "id": "played-safety",
   "metadata": {
    "papermill": {
     "duration": 0.028119,
     "end_time": "2021-07-10T10:07:02.718859",
     "exception": false,
     "start_time": "2021-07-10T10:07:02.690740",
     "status": "completed"
    },
    "tags": []
   },
   "source": [
    "### Running Models with the Training data\n",
    "Details about the network layers:\n",
    "- A first affine layer has 784 inputs and does 100 affine transforms. These are followed by a Relu\n",
    "- A second affine layer has 100 inputs from the 100 activations of the past layer, and does 100 affine transforms. These are followed by a Relu\n",
    "- A third affine layer has 100 activations and does 2 affine transformations to create an embedding for visualization. There is no non-linearity here.\n",
    "- A final \"logistic regression\" which has an affine transform from 2 inputs to 1 output, which is squeezed through a sigmoid.\n",
    "\n",
    "Help taken from Anshuman's Notebook."
   ]
  },
  {
   "cell_type": "code",
   "execution_count": 18,
   "id": "asian-bankruptcy",
   "metadata": {
    "execution": {
     "iopub.execute_input": "2021-07-10T10:07:02.784815Z",
     "iopub.status.busy": "2021-07-10T10:07:02.784307Z",
     "iopub.status.idle": "2021-07-10T10:07:02.794485Z",
     "shell.execute_reply": "2021-07-10T10:07:02.794070Z"
    },
    "papermill": {
     "duration": 0.047572,
     "end_time": "2021-07-10T10:07:02.794579",
     "exception": false,
     "start_time": "2021-07-10T10:07:02.747007",
     "status": "completed"
    },
    "tags": []
   },
   "outputs": [],
   "source": [
    "# layers for the Neural Network\n",
    "layers = [Affine(\"first\", 784, 100), Relu(\"first\"), Affine(\"second\", 100, 100), Relu(\"second\"), Affine(\"third\", 100, 2), Affine(\"final\", 2, 1), Sigmoid(\"final\")]\n",
    "model_nn = Model(layers)\n",
    "\n",
    "# layers for the Logistic Regression\n",
    "layers_lr = [Affine(\"logits\", 784, 1), Sigmoid(\"sigmoid\")]\n",
    "model_lr = Model(layers_lr)"
   ]
  },
  {
   "cell_type": "code",
   "execution_count": 19,
   "id": "removed-butler",
   "metadata": {
    "execution": {
     "iopub.execute_input": "2021-07-10T10:07:02.857081Z",
     "iopub.status.busy": "2021-07-10T10:07:02.856589Z",
     "iopub.status.idle": "2021-07-10T10:07:02.865118Z",
     "shell.execute_reply": "2021-07-10T10:07:02.864725Z"
    },
    "papermill": {
     "duration": 0.042422,
     "end_time": "2021-07-10T10:07:02.865218",
     "exception": false,
     "start_time": "2021-07-10T10:07:02.822796",
     "status": "completed"
    },
    "tags": []
   },
   "outputs": [],
   "source": [
    "# suffix _nn stands for Neural Network.\n",
    "learner_nn = Learner(loss, model_nn, opt, config.num_epochs)\n",
    "acc_nn = ClfCallback(learner_nn, config.bs, training_xdata , testing_xdata, training_ydata, testing_ydata)\n",
    "learner_nn.set_callbacks([acc_nn])"
   ]
  },
  {
   "cell_type": "code",
   "execution_count": 20,
   "id": "conceptual-throw",
   "metadata": {
    "execution": {
     "iopub.execute_input": "2021-07-10T10:07:02.930046Z",
     "iopub.status.busy": "2021-07-10T10:07:02.928547Z",
     "iopub.status.idle": "2021-07-10T10:08:17.801385Z",
     "shell.execute_reply": "2021-07-10T10:08:17.801820Z"
    },
    "papermill": {
     "duration": 74.908665,
     "end_time": "2021-07-10T10:08:17.801956",
     "exception": false,
     "start_time": "2021-07-10T10:07:02.893291",
     "status": "completed"
    },
    "tags": []
   },
   "outputs": [
    {
     "name": "stdout",
     "output_type": "stream",
     "text": [
      "====== Neural Network ======\n"
     ]
    },
    {
     "name": "stdout",
     "output_type": "stream",
     "text": [
      "Epoch 0, Loss 0.229\n",
      "Training Accuracy: 0.7555, Testing Accuracy: 0.7666\n",
      "\n"
     ]
    },
    {
     "name": "stdout",
     "output_type": "stream",
     "text": [
      "Epoch 10, Loss 0.0669\n",
      "Training Accuracy: 0.9333, Testing Accuracy: 0.9446\n",
      "\n"
     ]
    },
    {
     "name": "stdout",
     "output_type": "stream",
     "text": [
      "Epoch 20, Loss 0.0461\n",
      "Training Accuracy: 0.9497, Testing Accuracy: 0.9592\n",
      "\n"
     ]
    },
    {
     "name": "stdout",
     "output_type": "stream",
     "text": [
      "Epoch 30, Loss 0.0381\n",
      "Training Accuracy: 0.9569, Testing Accuracy: 0.9642\n",
      "\n"
     ]
    },
    {
     "name": "stdout",
     "output_type": "stream",
     "text": [
      "Epoch 40, Loss 0.034\n",
      "Training Accuracy: 0.9612, Testing Accuracy: 0.9688\n",
      "\n"
     ]
    },
    {
     "name": "stdout",
     "output_type": "stream",
     "text": [
      "Epoch 50, Loss 0.0313\n",
      "Training Accuracy: 0.9642, Testing Accuracy: 0.9698\n",
      "\n"
     ]
    },
    {
     "name": "stdout",
     "output_type": "stream",
     "text": [
      "Epoch 60, Loss 0.0293\n",
      "Training Accuracy: 0.9657, Testing Accuracy: 0.9698\n",
      "\n"
     ]
    },
    {
     "name": "stdout",
     "output_type": "stream",
     "text": [
      "Epoch 70, Loss 0.0278\n",
      "Training Accuracy: 0.9672, Testing Accuracy: 0.9718\n",
      "\n"
     ]
    },
    {
     "name": "stdout",
     "output_type": "stream",
     "text": [
      "Epoch 80, Loss 0.0266\n",
      "Training Accuracy: 0.9687, Testing Accuracy: 0.9728\n",
      "\n"
     ]
    },
    {
     "name": "stdout",
     "output_type": "stream",
     "text": [
      "Epoch 90, Loss 0.0256\n",
      "Training Accuracy: 0.9701, Testing Accuracy: 0.9723\n",
      "\n"
     ]
    },
    {
     "name": "stdout",
     "output_type": "stream",
     "text": [
      "Epoch 100, Loss 0.0247\n",
      "Training Accuracy: 0.9715, Testing Accuracy: 0.9718\n",
      "\n"
     ]
    },
    {
     "name": "stdout",
     "output_type": "stream",
     "text": [
      "Epoch 110, Loss 0.0238\n",
      "Training Accuracy: 0.9725, Testing Accuracy: 0.9723\n",
      "\n"
     ]
    },
    {
     "name": "stdout",
     "output_type": "stream",
     "text": [
      "Epoch 120, Loss 0.0231\n",
      "Training Accuracy: 0.9739, Testing Accuracy: 0.9728\n",
      "\n"
     ]
    },
    {
     "name": "stdout",
     "output_type": "stream",
     "text": [
      "Epoch 130, Loss 0.0225\n",
      "Training Accuracy: 0.9750, Testing Accuracy: 0.9723\n",
      "\n"
     ]
    },
    {
     "name": "stdout",
     "output_type": "stream",
     "text": [
      "Epoch 140, Loss 0.0218\n",
      "Training Accuracy: 0.9755, Testing Accuracy: 0.9718\n",
      "\n"
     ]
    },
    {
     "name": "stdout",
     "output_type": "stream",
     "text": [
      "Epoch 150, Loss 0.0213\n",
      "Training Accuracy: 0.9765, Testing Accuracy: 0.9723\n",
      "\n"
     ]
    },
    {
     "name": "stdout",
     "output_type": "stream",
     "text": [
      "Epoch 160, Loss 0.0207\n",
      "Training Accuracy: 0.9775, Testing Accuracy: 0.9743\n",
      "\n"
     ]
    },
    {
     "name": "stdout",
     "output_type": "stream",
     "text": [
      "Epoch 170, Loss 0.0202\n",
      "Training Accuracy: 0.9779, Testing Accuracy: 0.9738\n",
      "\n"
     ]
    },
    {
     "name": "stdout",
     "output_type": "stream",
     "text": [
      "Epoch 180, Loss 0.0197\n",
      "Training Accuracy: 0.9785, Testing Accuracy: 0.9738\n",
      "\n"
     ]
    },
    {
     "name": "stdout",
     "output_type": "stream",
     "text": [
      "Epoch 190, Loss 0.0193\n",
      "Training Accuracy: 0.9790, Testing Accuracy: 0.9738\n",
      "\n"
     ]
    },
    {
     "name": "stdout",
     "output_type": "stream",
     "text": [
      "Epoch 200, Loss 0.0188\n",
      "Training Accuracy: 0.9795, Testing Accuracy: 0.9733\n",
      "\n"
     ]
    },
    {
     "name": "stdout",
     "output_type": "stream",
     "text": [
      "Epoch 210, Loss 0.0184\n",
      "Training Accuracy: 0.9796, Testing Accuracy: 0.9743\n",
      "\n"
     ]
    },
    {
     "name": "stdout",
     "output_type": "stream",
     "text": [
      "Epoch 220, Loss 0.018\n",
      "Training Accuracy: 0.9797, Testing Accuracy: 0.9743\n",
      "\n"
     ]
    },
    {
     "name": "stdout",
     "output_type": "stream",
     "text": [
      "Epoch 230, Loss 0.0176\n",
      "Training Accuracy: 0.9803, Testing Accuracy: 0.9738\n",
      "\n"
     ]
    },
    {
     "name": "stdout",
     "output_type": "stream",
     "text": [
      "Epoch 240, Loss 0.0172\n",
      "Training Accuracy: 0.9810, Testing Accuracy: 0.9738\n",
      "\n"
     ]
    },
    {
     "name": "stdout",
     "output_type": "stream",
     "text": [
      "Epoch 250, Loss 0.0168\n",
      "Training Accuracy: 0.9816, Testing Accuracy: 0.9738\n",
      "\n"
     ]
    },
    {
     "data": {
      "text/plain": [
       "0.0039861896985581"
      ]
     },
     "execution_count": 20,
     "metadata": {},
     "output_type": "execute_result"
    }
   ],
   "source": [
    "print(\"====== Neural Network ======\")\n",
    "learner_nn.train_loop(dl)"
   ]
  },
  {
   "cell_type": "markdown",
   "id": "competent-suffering",
   "metadata": {
    "papermill": {
     "duration": 0.035529,
     "end_time": "2021-07-10T10:08:17.878972",
     "exception": false,
     "start_time": "2021-07-10T10:08:17.843443",
     "status": "completed"
    },
    "tags": []
   },
   "source": [
    "### Logistic Regression based Implementation."
   ]
  },
  {
   "cell_type": "code",
   "execution_count": 21,
   "id": "qualified-psychiatry",
   "metadata": {
    "execution": {
     "iopub.execute_input": "2021-07-10T10:08:17.960684Z",
     "iopub.status.busy": "2021-07-10T10:08:17.960195Z",
     "iopub.status.idle": "2021-07-10T10:08:17.964760Z",
     "shell.execute_reply": "2021-07-10T10:08:17.964345Z"
    },
    "papermill": {
     "duration": 0.050339,
     "end_time": "2021-07-10T10:08:17.964867",
     "exception": false,
     "start_time": "2021-07-10T10:08:17.914528",
     "status": "completed"
    },
    "tags": []
   },
   "outputs": [],
   "source": [
    "learner_lr = Learner(loss, model_lr, opt, config.num_epochs)\n",
    "acc_lr = ClfCallback(learner_lr, config.bs, training_xdata , testing_xdata, training_ydata, testing_ydata)\n",
    "learner_lr.set_callbacks([acc_lr])"
   ]
  },
  {
   "cell_type": "code",
   "execution_count": 22,
   "id": "average-outside",
   "metadata": {
    "execution": {
     "iopub.execute_input": "2021-07-10T10:08:18.044846Z",
     "iopub.status.busy": "2021-07-10T10:08:18.043342Z",
     "iopub.status.idle": "2021-07-10T10:08:31.505060Z",
     "shell.execute_reply": "2021-07-10T10:08:31.505769Z"
    },
    "papermill": {
     "duration": 13.505411,
     "end_time": "2021-07-10T10:08:31.505914",
     "exception": false,
     "start_time": "2021-07-10T10:08:18.000503",
     "status": "completed"
    },
    "tags": []
   },
   "outputs": [
    {
     "name": "stdout",
     "output_type": "stream",
     "text": [
      "====== Logistic Regression ======\n",
      "Epoch 0, Loss 0.2423\n",
      "Training Accuracy: 0.6852, Testing Accuracy: 0.7051\n",
      "\n"
     ]
    },
    {
     "name": "stdout",
     "output_type": "stream",
     "text": [
      "Epoch 10, Loss 0.1018\n",
      "Training Accuracy: 0.9109, Testing Accuracy: 0.9239\n",
      "\n"
     ]
    },
    {
     "name": "stdout",
     "output_type": "stream",
     "text": [
      "Epoch 20, Loss 0.0786\n",
      "Training Accuracy: 0.9278, Testing Accuracy: 0.9360\n",
      "\n"
     ]
    },
    {
     "name": "stdout",
     "output_type": "stream",
     "text": [
      "Epoch 30, Loss 0.0679\n",
      "Training Accuracy: 0.9357, Testing Accuracy: 0.9461\n",
      "\n"
     ]
    },
    {
     "name": "stdout",
     "output_type": "stream",
     "text": [
      "Epoch 40, Loss 0.0615\n",
      "Training Accuracy: 0.9404, Testing Accuracy: 0.9466\n",
      "\n"
     ]
    },
    {
     "name": "stdout",
     "output_type": "stream",
     "text": [
      "Epoch 50, Loss 0.0571\n",
      "Training Accuracy: 0.9444, Testing Accuracy: 0.9501\n",
      "\n"
     ]
    },
    {
     "name": "stdout",
     "output_type": "stream",
     "text": [
      "Epoch 60, Loss 0.0538\n",
      "Training Accuracy: 0.9465, Testing Accuracy: 0.9536\n",
      "\n"
     ]
    },
    {
     "name": "stdout",
     "output_type": "stream",
     "text": [
      "Epoch 70, Loss 0.0513\n",
      "Training Accuracy: 0.9474, Testing Accuracy: 0.9551\n",
      "\n"
     ]
    },
    {
     "name": "stdout",
     "output_type": "stream",
     "text": [
      "Epoch 80, Loss 0.0493\n",
      "Training Accuracy: 0.9495, Testing Accuracy: 0.9577\n",
      "\n"
     ]
    },
    {
     "name": "stdout",
     "output_type": "stream",
     "text": [
      "Epoch 90, Loss 0.0476\n",
      "Training Accuracy: 0.9512, Testing Accuracy: 0.9602\n",
      "\n"
     ]
    },
    {
     "name": "stdout",
     "output_type": "stream",
     "text": [
      "Epoch 100, Loss 0.0462\n",
      "Training Accuracy: 0.9526, Testing Accuracy: 0.9622\n",
      "\n"
     ]
    },
    {
     "name": "stdout",
     "output_type": "stream",
     "text": [
      "Epoch 110, Loss 0.045\n",
      "Training Accuracy: 0.9540, Testing Accuracy: 0.9622\n",
      "\n"
     ]
    },
    {
     "name": "stdout",
     "output_type": "stream",
     "text": [
      "Epoch 120, Loss 0.0439\n",
      "Training Accuracy: 0.9548, Testing Accuracy: 0.9622\n",
      "\n"
     ]
    },
    {
     "name": "stdout",
     "output_type": "stream",
     "text": [
      "Epoch 130, Loss 0.043\n",
      "Training Accuracy: 0.9559, Testing Accuracy: 0.9627\n",
      "\n"
     ]
    },
    {
     "name": "stdout",
     "output_type": "stream",
     "text": [
      "Epoch 140, Loss 0.0421\n",
      "Training Accuracy: 0.9570, Testing Accuracy: 0.9637\n",
      "\n"
     ]
    },
    {
     "name": "stdout",
     "output_type": "stream",
     "text": [
      "Epoch 150, Loss 0.0414\n",
      "Training Accuracy: 0.9576, Testing Accuracy: 0.9642\n",
      "\n"
     ]
    },
    {
     "name": "stdout",
     "output_type": "stream",
     "text": [
      "Epoch 160, Loss 0.0407\n",
      "Training Accuracy: 0.9580, Testing Accuracy: 0.9647\n",
      "\n"
     ]
    },
    {
     "name": "stdout",
     "output_type": "stream",
     "text": [
      "Epoch 170, Loss 0.0401\n",
      "Training Accuracy: 0.9584, Testing Accuracy: 0.9642\n",
      "\n"
     ]
    },
    {
     "name": "stdout",
     "output_type": "stream",
     "text": [
      "Epoch 180, Loss 0.0395\n",
      "Training Accuracy: 0.9585, Testing Accuracy: 0.9637\n",
      "\n"
     ]
    },
    {
     "name": "stdout",
     "output_type": "stream",
     "text": [
      "Epoch 190, Loss 0.039\n",
      "Training Accuracy: 0.9589, Testing Accuracy: 0.9642\n",
      "\n"
     ]
    },
    {
     "name": "stdout",
     "output_type": "stream",
     "text": [
      "Epoch 200, Loss 0.0385\n",
      "Training Accuracy: 0.9592, Testing Accuracy: 0.9647\n",
      "\n"
     ]
    },
    {
     "name": "stdout",
     "output_type": "stream",
     "text": [
      "Epoch 210, Loss 0.0381\n",
      "Training Accuracy: 0.9595, Testing Accuracy: 0.9642\n",
      "\n"
     ]
    },
    {
     "name": "stdout",
     "output_type": "stream",
     "text": [
      "Epoch 220, Loss 0.0377\n",
      "Training Accuracy: 0.9600, Testing Accuracy: 0.9642\n",
      "\n"
     ]
    },
    {
     "name": "stdout",
     "output_type": "stream",
     "text": [
      "Epoch 230, Loss 0.0373\n",
      "Training Accuracy: 0.9603, Testing Accuracy: 0.9647\n",
      "\n"
     ]
    },
    {
     "name": "stdout",
     "output_type": "stream",
     "text": [
      "Epoch 240, Loss 0.0369\n",
      "Training Accuracy: 0.9601, Testing Accuracy: 0.9647\n",
      "\n"
     ]
    },
    {
     "name": "stdout",
     "output_type": "stream",
     "text": [
      "Epoch 250, Loss 0.0366\n",
      "Training Accuracy: 0.9605, Testing Accuracy: 0.9652\n",
      "\n"
     ]
    },
    {
     "data": {
      "text/plain": [
       "0.021085304990167898"
      ]
     },
     "execution_count": 22,
     "metadata": {},
     "output_type": "execute_result"
    }
   ],
   "source": [
    "print(\"====== Logistic Regression ======\")\n",
    "learner_lr.train_loop(dl)"
   ]
  },
  {
   "cell_type": "markdown",
   "id": "adjusted-possible",
   "metadata": {
    "papermill": {
     "duration": 0.042351,
     "end_time": "2021-07-10T10:08:31.591622",
     "exception": false,
     "start_time": "2021-07-10T10:08:31.549271",
     "status": "completed"
    },
    "tags": []
   },
   "source": [
    "### Comparing results of NN and LR"
   ]
  },
  {
   "cell_type": "code",
   "execution_count": 23,
   "id": "mental-multimedia",
   "metadata": {
    "execution": {
     "iopub.execute_input": "2021-07-10T10:08:31.680491Z",
     "iopub.status.busy": "2021-07-10T10:08:31.679984Z",
     "iopub.status.idle": "2021-07-10T10:08:31.920184Z",
     "shell.execute_reply": "2021-07-10T10:08:31.920638Z"
    },
    "papermill": {
     "duration": 0.286937,
     "end_time": "2021-07-10T10:08:31.920782",
     "exception": false,
     "start_time": "2021-07-10T10:08:31.633845",
     "status": "completed"
    },
    "tags": []
   },
   "outputs": [
    {
     "data": {
      "text/plain": [
       "<matplotlib.legend.Legend at 0x7f00f9301208>"
      ]
     },
     "execution_count": 23,
     "metadata": {},
     "output_type": "execute_result"
    },
    {
     "data": {
      "image/png": "[encoded data removed]",
      "text/plain": [
       "<Figure size 1080x720 with 1 Axes>"
      ]
     },
     "metadata": {
      "needs_background": "light"
     },
     "output_type": "display_data"
    }
   ],
   "source": [
    "plt.figure(figsize=(15,10))\n",
    "\n",
    "# Neural Network plots\n",
    "plt.plot(acc_nn.accuracies, 'r-', label = \"Training Accuracies - NN\")\n",
    "plt.plot(acc_nn.test_accuracies, 'g-', label = \"Testing Accuracies - NN\")\n",
    "\n",
    "# Logistic Regression plots\n",
    "plt.plot(acc_lr.accuracies, 'k-', label = \"Training Accuracies - LR\")\n",
    "plt.plot(acc_lr.test_accuracies, 'b-', label = \"Testing Accuracies - LR\")\n",
    "\n",
    "plt.ylim(0.8, 1)\n",
    "\n",
    "plt.legend()\n",
    "\n"
   ]
  },
  {
   "cell_type": "markdown",
   "id": "sexual-flesh",
   "metadata": {
    "papermill": {
     "duration": 0.044198,
     "end_time": "2021-07-10T10:08:32.009694",
     "exception": false,
     "start_time": "2021-07-10T10:08:31.965496",
     "status": "completed"
    },
    "tags": []
   },
   "source": [
    "### From the plot, we can observe the following:\n",
    "- Neural Network achieves higher accuracy than the Logistic Regression model.\n",
    "- This apparently, is because of overfitting, i.e. NN captures more noise than data.\n",
    "- Testing accuracy of NN drops below the Training accuracy at higher epochs. This explains the over-fitting on training data.\n",
    "- Logistic Regression gives a reliable accuracy, without the above mentioned problem.\n"
   ]
  },
  {
   "cell_type": "markdown",
   "id": "institutional-pacific",
   "metadata": {
    "papermill": {
     "duration": 0.044203,
     "end_time": "2021-07-10T10:08:32.098057",
     "exception": false,
     "start_time": "2021-07-10T10:08:32.053854",
     "status": "completed"
    },
    "tags": []
   },
   "source": [
    "### Moving till the last but one layer (excluding it).\n",
    "#### Plotting the outputs of this layer of the NN."
   ]
  },
  {
   "cell_type": "code",
   "execution_count": 24,
   "id": "economic-server",
   "metadata": {
    "execution": {
     "iopub.execute_input": "2021-07-10T10:08:32.190274Z",
     "iopub.status.busy": "2021-07-10T10:08:32.189777Z",
     "iopub.status.idle": "2021-07-10T10:08:32.201628Z",
     "shell.execute_reply": "2021-07-10T10:08:32.202024Z"
    },
    "papermill": {
     "duration": 0.059465,
     "end_time": "2021-07-10T10:08:32.202141",
     "exception": false,
     "start_time": "2021-07-10T10:08:32.142676",
     "status": "completed"
    },
    "tags": []
   },
   "outputs": [],
   "source": [
    "model_new = Model(layers[:-2])"
   ]
  },
  {
   "cell_type": "code",
   "execution_count": 25,
   "id": "varied-upgrade",
   "metadata": {
    "execution": {
     "iopub.execute_input": "2021-07-10T10:08:32.295696Z",
     "iopub.status.busy": "2021-07-10T10:08:32.295164Z",
     "iopub.status.idle": "2021-07-10T10:08:32.313769Z",
     "shell.execute_reply": "2021-07-10T10:08:32.314168Z"
    },
    "papermill": {
     "duration": 0.068022,
     "end_time": "2021-07-10T10:08:32.314292",
     "exception": false,
     "start_time": "2021-07-10T10:08:32.246270",
     "status": "completed"
    },
    "tags": []
   },
   "outputs": [],
   "source": [
    "plot_testing = model_new(testing_xdata)"
   ]
  },
  {
   "cell_type": "code",
   "execution_count": 26,
   "id": "specific-handling",
   "metadata": {
    "execution": {
     "iopub.execute_input": "2021-07-10T10:08:32.448712Z",
     "iopub.status.busy": "2021-07-10T10:08:32.448219Z",
     "iopub.status.idle": "2021-07-10T10:08:32.651349Z",
     "shell.execute_reply": "2021-07-10T10:08:32.650927Z"
    },
    "papermill": {
     "duration": 0.28711,
     "end_time": "2021-07-10T10:08:32.651450",
     "exception": false,
     "start_time": "2021-07-10T10:08:32.364340",
     "status": "completed"
    },
    "tags": []
   },
   "outputs": [
    {
     "data": {
      "text/plain": [
       "Text(0.5, 1.0, 'Outputs')"
      ]
     },
     "execution_count": 26,
     "metadata": {},
     "output_type": "execute_result"
    },
    {
     "data": {
      "image/png": "[encoded data removed]",
      "text/plain": [
       "<Figure size 576x504 with 1 Axes>"
      ]
     },
     "metadata": {
      "needs_background": "light"
     },
     "output_type": "display_data"
    }
   ],
   "source": [
    "plt.figure(figsize=(8,7))\n",
    "plt.scatter(plot_testing[:,0], plot_testing[:,1], alpha = 0.1, c = y_test.ravel());\n",
    "plt.title('Outputs')"
   ]
  },
  {
   "cell_type": "markdown",
   "id": "described-knowing",
   "metadata": {
    "papermill": {
     "duration": 0.047102,
     "end_time": "2021-07-10T10:08:32.745758",
     "exception": false,
     "start_time": "2021-07-10T10:08:32.698656",
     "status": "completed"
    },
    "tags": []
   },
   "source": [
    "### Plotting probability contours"
   ]
  },
  {
   "cell_type": "code",
   "execution_count": 27,
   "id": "needed-growing",
   "metadata": {
    "execution": {
     "iopub.execute_input": "2021-07-10T10:08:32.844001Z",
     "iopub.status.busy": "2021-07-10T10:08:32.843465Z",
     "iopub.status.idle": "2021-07-10T10:08:32.855315Z",
     "shell.execute_reply": "2021-07-10T10:08:32.854914Z"
    },
    "papermill": {
     "duration": 0.062045,
     "end_time": "2021-07-10T10:08:32.855415",
     "exception": false,
     "start_time": "2021-07-10T10:08:32.793370",
     "status": "completed"
    },
    "tags": []
   },
   "outputs": [],
   "source": [
    "model_prob = Model(layers[-2:]) "
   ]
  },
  {
   "cell_type": "code",
   "execution_count": 28,
   "id": "introductory-enforcement",
   "metadata": {
    "execution": {
     "iopub.execute_input": "2021-07-10T10:08:32.965203Z",
     "iopub.status.busy": "2021-07-10T10:08:32.959853Z",
     "iopub.status.idle": "2021-07-10T10:08:32.972309Z",
     "shell.execute_reply": "2021-07-10T10:08:32.971887Z"
    },
    "papermill": {
     "duration": 0.070056,
     "end_time": "2021-07-10T10:08:32.972405",
     "exception": false,
     "start_time": "2021-07-10T10:08:32.902349",
     "status": "completed"
    },
    "tags": []
   },
   "outputs": [],
   "source": [
    "# Adjust the x and y ranges according to the above generated plot.\n",
    "x_range = np.linspace(-4, 1, 100) \n",
    "y_range = np.linspace(-6, 6, 100) \n",
    "x_grid, y_grid = np.meshgrid(x_range, y_range) # x_grid and y_grig are of size 100 X 100\n",
    "\n",
    "# converting x_grid and y_grid to continuous arrays\n",
    "x_grid_flat = np.ravel(x_grid)\n",
    "y_grid_flat = np.ravel(y_grid)\n",
    "\n",
    "# The last layer of the current model takes two columns as input. Hence transpose of np.vstack() is required.\n",
    "X = np.vstack((x_grid_flat, y_grid_flat)).T\n",
    "\n",
    "# x_grid and y_grid are of size 100 x 100\n",
    "probability_contour = model_prob(X).reshape(100,100) "
   ]
  },
  {
   "cell_type": "code",
   "execution_count": 29,
   "id": "understood-landing",
   "metadata": {
    "execution": {
     "iopub.execute_input": "2021-07-10T10:08:33.076821Z",
     "iopub.status.busy": "2021-07-10T10:08:33.076323Z",
     "iopub.status.idle": "2021-07-10T10:08:33.317277Z",
     "shell.execute_reply": "2021-07-10T10:08:33.316358Z"
    },
    "papermill": {
     "duration": 0.297995,
     "end_time": "2021-07-10T10:08:33.317391",
     "exception": false,
     "start_time": "2021-07-10T10:08:33.019396",
     "status": "completed"
    },
    "tags": []
   },
   "outputs": [
    {
     "data": {
      "image/png": "[encoded data removed]",
      "text/plain": [
       "<Figure size 720x648 with 1 Axes>"
      ]
     },
     "metadata": {
      "needs_background": "light"
     },
     "output_type": "display_data"
    }
   ],
   "source": [
    "plt.figure(figsize=(10,9))\n",
    "plt.scatter(plot_testing[:,0], plot_testing[:,1], alpha = 0.1, c = y_test.ravel())\n",
    "contours = plt.contour(x_grid,y_grid,probability_contour)\n",
    "plt.title('Probability Contours')\n",
    "plt.clabel(contours, inline = True );"
   ]
  }
 ],
 "metadata": {
  "kernelspec": {
   "display_name": "Python 3",
   "language": "python",
   "name": "python3"
  },
  "language_info": {
   "codemirror_mode": {
    "name": "ipython",
    "version": 3
   },
   "file_extension": ".py",
   "mimetype": "text/x-python",
   "name": "python",
   "nbconvert_exporter": "python",
   "pygments_lexer": "ipython3",
   "version": "3.6.13"
  },
  "papermill": {
   "duration": 293.951146,
   "end_time": "2021-07-10T10:08:33.675071",
   "environment_variables": {},
   "exception": null,
   "input_path": "2020-08-11-NeuralNetwork.ipynb",
   "output_path": "2020-08-11-NeuralNetwork.ipynb",
   "parameters": {},
   "start_time": "2021-07-10T10:03:39.723925",
   "version": "2.1.2"
  }
 },
 "nbformat": 4,
 "nbformat_minor": 5
}