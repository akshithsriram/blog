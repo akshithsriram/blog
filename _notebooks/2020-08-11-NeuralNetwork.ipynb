{
 "cells": [
  {
   "cell_type": "markdown",
   "metadata": {
    "papermill": {
     "duration": 0.031538,
     "end_time": "2020-08-30T00:05:54.661963",
     "exception": false,
     "start_time": "2020-08-30T00:05:54.630425",
     "status": "completed"
    },
    "tags": []
   },
   "source": [
    "# \"A Basic Neural Network: Differentiate Hand-Written Digits\"\n",
    "\n",
    "- badges: true\n",
    "- author: Akshith Sriram"
   ]
  },
  {
   "cell_type": "markdown",
   "metadata": {
    "papermill": {
     "duration": 0.028216,
     "end_time": "2020-08-30T00:05:54.719056",
     "exception": false,
     "start_time": "2020-08-30T00:05:54.690840",
     "status": "completed"
    },
    "tags": []
   },
   "source": [
    "### Key Objectives:\n",
    "- Building a neural network that differentiates two hand-written digits 3 and 8.\n",
    "- Comparing the results of this Neural Network (NN) to that of a Logistic Regression (LR) model.\n",
    "\n",
    "### Requirements:\n",
    "- 'Kudzu' : A neural network library that was designed during our course by [Univ.AI](www.univ.ai). \n",
    "- MNIST Database\n",
    "\n",
    "If MNIST is not installed, use the command `!pip install mnist` given below.\n",
    "It can be run both from the command line and Jupyter Notebook."
   ]
  },
  {
   "cell_type": "code",
   "execution_count": 1,
   "metadata": {
    "execution": {
     "iopub.execute_input": "2020-08-30T00:05:54.781348Z",
     "iopub.status.busy": "2020-08-30T00:05:54.780690Z",
     "iopub.status.idle": "2020-08-30T00:05:56.475127Z",
     "shell.execute_reply": "2020-08-30T00:05:56.474549Z"
    },
    "papermill": {
     "duration": 1.727632,
     "end_time": "2020-08-30T00:05:56.475299",
     "exception": false,
     "start_time": "2020-08-30T00:05:54.747667",
     "status": "completed"
    },
    "tags": []
   },
   "outputs": [
    {
     "name": "stdout",
     "output_type": "stream",
     "text": [
      "Collecting mnist\r\n",
      "  Downloading mnist-0.2.2-py2.py3-none-any.whl (3.5 kB)\r\n"
     ]
    },
    {
     "name": "stdout",
     "output_type": "stream",
     "text": [
      "Requirement already satisfied: numpy in /opt/hostedtoolcache/Python/3.6.11/x64/lib/python3.6/site-packages (from mnist) (1.19.1)\r\n"
     ]
    },
    {
     "name": "stdout",
     "output_type": "stream",
     "text": [
      "Installing collected packages: mnist\r\n"
     ]
    },
    {
     "name": "stdout",
     "output_type": "stream",
     "text": [
      "Successfully installed mnist-0.2.2\r\n"
     ]
    }
   ],
   "source": [
    "!pip install mnist "
   ]
  },
  {
   "cell_type": "markdown",
   "metadata": {
    "papermill": {
     "duration": 0.029151,
     "end_time": "2020-08-30T00:05:56.535208",
     "exception": false,
     "start_time": "2020-08-30T00:05:56.506057",
     "status": "completed"
    },
    "tags": []
   },
   "source": [
    "#### Importing necessary libraries"
   ]
  },
  {
   "cell_type": "code",
   "execution_count": 2,
   "metadata": {
    "execution": {
     "iopub.execute_input": "2020-08-30T00:05:56.608899Z",
     "iopub.status.busy": "2020-08-30T00:05:56.608246Z",
     "iopub.status.idle": "2020-08-30T00:05:57.220330Z",
     "shell.execute_reply": "2020-08-30T00:05:57.221105Z"
    },
    "papermill": {
     "duration": 0.654699,
     "end_time": "2020-08-30T00:05:57.221277",
     "exception": false,
     "start_time": "2020-08-30T00:05:56.566578",
     "status": "completed"
    },
    "tags": []
   },
   "outputs": [],
   "source": [
    "%load_ext autoreload\n",
    "%autoreload 2\n",
    "\n",
    "%matplotlib inline\n",
    "import matplotlib.pyplot as plt\n",
    "\n",
    "import numpy as np\n",
    "import pandas as pd"
   ]
  },
  {
   "cell_type": "markdown",
   "metadata": {
    "papermill": {
     "duration": 0.031215,
     "end_time": "2020-08-30T00:05:57.281850",
     "exception": false,
     "start_time": "2020-08-30T00:05:57.250635",
     "status": "completed"
    },
    "tags": []
   },
   "source": [
    "### Preparing the Data"
   ]
  },
  {
   "cell_type": "code",
   "execution_count": 3,
   "metadata": {
    "execution": {
     "iopub.execute_input": "2020-08-30T00:05:57.351222Z",
     "iopub.status.busy": "2020-08-30T00:05:57.344776Z",
     "iopub.status.idle": "2020-08-30T00:05:57.357056Z",
     "shell.execute_reply": "2020-08-30T00:05:57.356459Z"
    },
    "papermill": {
     "duration": 0.045986,
     "end_time": "2020-08-30T00:05:57.357205",
     "exception": false,
     "start_time": "2020-08-30T00:05:57.311219",
     "status": "completed"
    },
    "tags": []
   },
   "outputs": [],
   "source": [
    "import mnist"
   ]
  },
  {
   "cell_type": "code",
   "execution_count": 4,
   "metadata": {
    "execution": {
     "iopub.execute_input": "2020-08-30T00:05:57.436947Z",
     "iopub.status.busy": "2020-08-30T00:05:57.429619Z",
     "iopub.status.idle": "2020-08-30T00:05:59.212074Z",
     "shell.execute_reply": "2020-08-30T00:05:59.211109Z"
    },
    "papermill": {
     "duration": 1.824431,
     "end_time": "2020-08-30T00:05:59.212275",
     "exception": false,
     "start_time": "2020-08-30T00:05:57.387844",
     "status": "completed"
    },
    "tags": []
   },
   "outputs": [],
   "source": [
    "train_images = mnist.train_images()\n",
    "train_labels = mnist.train_labels()"
   ]
  },
  {
   "cell_type": "code",
   "execution_count": 5,
   "metadata": {
    "execution": {
     "iopub.execute_input": "2020-08-30T00:05:59.276179Z",
     "iopub.status.busy": "2020-08-30T00:05:59.275516Z",
     "iopub.status.idle": "2020-08-30T00:05:59.289597Z",
     "shell.execute_reply": "2020-08-30T00:05:59.290176Z"
    },
    "papermill": {
     "duration": 0.048711,
     "end_time": "2020-08-30T00:05:59.290889",
     "exception": false,
     "start_time": "2020-08-30T00:05:59.242178",
     "status": "completed"
    },
    "tags": []
   },
   "outputs": [
    {
     "data": {
      "text/plain": [
       "((60000, 28, 28), (60000,))"
      ]
     },
     "execution_count": 5,
     "metadata": {},
     "output_type": "execute_result"
    }
   ],
   "source": [
    "train_images.shape, train_labels.shape"
   ]
  },
  {
   "cell_type": "code",
   "execution_count": 6,
   "metadata": {
    "execution": {
     "iopub.execute_input": "2020-08-30T00:05:59.355962Z",
     "iopub.status.busy": "2020-08-30T00:05:59.355308Z",
     "iopub.status.idle": "2020-08-30T00:06:00.206999Z",
     "shell.execute_reply": "2020-08-30T00:06:00.207566Z"
    },
    "papermill": {
     "duration": 0.886886,
     "end_time": "2020-08-30T00:06:00.207746",
     "exception": false,
     "start_time": "2020-08-30T00:05:59.320860",
     "status": "completed"
    },
    "tags": []
   },
   "outputs": [],
   "source": [
    "test_images = mnist.test_images()\n",
    "test_labels = mnist.test_labels()"
   ]
  },
  {
   "cell_type": "code",
   "execution_count": 7,
   "metadata": {
    "execution": {
     "iopub.execute_input": "2020-08-30T00:06:00.362190Z",
     "iopub.status.busy": "2020-08-30T00:06:00.358027Z",
     "iopub.status.idle": "2020-08-30T00:06:00.374088Z",
     "shell.execute_reply": "2020-08-30T00:06:00.373517Z"
    },
    "papermill": {
     "duration": 0.136091,
     "end_time": "2020-08-30T00:06:00.374234",
     "exception": false,
     "start_time": "2020-08-30T00:06:00.238143",
     "status": "completed"
    },
    "tags": []
   },
   "outputs": [
    {
     "data": {
      "text/plain": [
       "((10000, 28, 28), (10000,))"
      ]
     },
     "execution_count": 7,
     "metadata": {},
     "output_type": "execute_result"
    }
   ],
   "source": [
    "test_images.shape, test_labels.shape"
   ]
  },
  {
   "cell_type": "code",
   "execution_count": 8,
   "metadata": {
    "execution": {
     "iopub.execute_input": "2020-08-30T00:06:00.724382Z",
     "iopub.status.busy": "2020-08-30T00:06:00.723620Z",
     "iopub.status.idle": "2020-08-30T00:06:00.891179Z",
     "shell.execute_reply": "2020-08-30T00:06:00.890645Z"
    },
    "papermill": {
     "duration": 0.486891,
     "end_time": "2020-08-30T00:06:00.891325",
     "exception": false,
     "start_time": "2020-08-30T00:06:00.404434",
     "status": "completed"
    },
    "tags": []
   },
   "outputs": [
    {
     "name": "stdout",
     "output_type": "stream",
     "text": [
      "2\n"
     ]
    },
    {
     "data": {
      "text/plain": [
       "<matplotlib.image.AxesImage at 0x7fd055439be0>"
      ]
     },
     "execution_count": 8,
     "metadata": {},
     "output_type": "execute_result"
    },
    {
     "data": {
      "image/png": "[encoded data removed]",
      "text/plain": [
       "<Figure size 432x288 with 1 Axes>"
      ]
     },
     "metadata": {
      "needs_background": "light"
     },
     "output_type": "display_data"
    }
   ],
   "source": [
    "image_index = 7776 # You may select anything up to 60,000\n",
    "print(train_labels[image_index]) \n",
    "plt.imshow(train_images[image_index], cmap='Greys')"
   ]
  },
  {
   "cell_type": "markdown",
   "metadata": {
    "papermill": {
     "duration": 0.032218,
     "end_time": "2020-08-30T00:06:00.955065",
     "exception": false,
     "start_time": "2020-08-30T00:06:00.922847",
     "status": "completed"
    },
    "tags": []
   },
   "source": [
    "## Filter data to get 3 and 8 out"
   ]
  },
  {
   "cell_type": "code",
   "execution_count": 9,
   "metadata": {
    "execution": {
     "iopub.execute_input": "2020-08-30T00:06:01.027961Z",
     "iopub.status.busy": "2020-08-30T00:06:01.027300Z",
     "iopub.status.idle": "2020-08-30T00:06:01.044771Z",
     "shell.execute_reply": "2020-08-30T00:06:01.045321Z"
    },
    "papermill": {
     "duration": 0.058937,
     "end_time": "2020-08-30T00:06:01.045494",
     "exception": false,
     "start_time": "2020-08-30T00:06:00.986557",
     "status": "completed"
    },
    "tags": []
   },
   "outputs": [],
   "source": [
    "train_filter = np.where((train_labels == 3 ) | (train_labels == 8))\n",
    "test_filter = np.where((test_labels == 3) | (test_labels == 8))\n",
    "X_train, y_train = train_images[train_filter], train_labels[train_filter]\n",
    "X_test, y_test = test_images[test_filter], test_labels[test_filter]"
   ]
  },
  {
   "cell_type": "markdown",
   "metadata": {
    "papermill": {
     "duration": 0.032629,
     "end_time": "2020-08-30T00:06:01.109296",
     "exception": false,
     "start_time": "2020-08-30T00:06:01.076667",
     "status": "completed"
    },
    "tags": []
   },
   "source": [
    "We normalize the pixel values in the 0 to 1 range"
   ]
  },
  {
   "cell_type": "code",
   "execution_count": 10,
   "metadata": {
    "execution": {
     "iopub.execute_input": "2020-08-30T00:06:01.183158Z",
     "iopub.status.busy": "2020-08-30T00:06:01.182481Z",
     "iopub.status.idle": "2020-08-30T00:06:01.241823Z",
     "shell.execute_reply": "2020-08-30T00:06:01.241258Z"
    },
    "papermill": {
     "duration": 0.1004,
     "end_time": "2020-08-30T00:06:01.241978",
     "exception": false,
     "start_time": "2020-08-30T00:06:01.141578",
     "status": "completed"
    },
    "tags": []
   },
   "outputs": [],
   "source": [
    "X_train = X_train/255.\n",
    "X_test = X_test/255."
   ]
  },
  {
   "cell_type": "markdown",
   "metadata": {
    "papermill": {
     "duration": 0.031427,
     "end_time": "2020-08-30T00:06:01.304734",
     "exception": false,
     "start_time": "2020-08-30T00:06:01.273307",
     "status": "completed"
    },
    "tags": []
   },
   "source": [
    "Setup the labels as 1 (when the digit is 3) and 0 (when the digit is 8)"
   ]
  },
  {
   "cell_type": "code",
   "execution_count": 11,
   "metadata": {
    "execution": {
     "iopub.execute_input": "2020-08-30T00:06:01.373493Z",
     "iopub.status.busy": "2020-08-30T00:06:01.372831Z",
     "iopub.status.idle": "2020-08-30T00:06:01.384025Z",
     "shell.execute_reply": "2020-08-30T00:06:01.384767Z"
    },
    "papermill": {
     "duration": 0.048365,
     "end_time": "2020-08-30T00:06:01.384935",
     "exception": false,
     "start_time": "2020-08-30T00:06:01.336570",
     "status": "completed"
    },
    "tags": []
   },
   "outputs": [],
   "source": [
    "y_train = 1*(y_train==3)\n",
    "y_test = 1*(y_test==3)"
   ]
  },
  {
   "cell_type": "code",
   "execution_count": 12,
   "metadata": {
    "execution": {
     "iopub.execute_input": "2020-08-30T00:06:01.452102Z",
     "iopub.status.busy": "2020-08-30T00:06:01.451451Z",
     "iopub.status.idle": "2020-08-30T00:06:01.466098Z",
     "shell.execute_reply": "2020-08-30T00:06:01.466758Z"
    },
    "papermill": {
     "duration": 0.049213,
     "end_time": "2020-08-30T00:06:01.466929",
     "exception": false,
     "start_time": "2020-08-30T00:06:01.417716",
     "status": "completed"
    },
    "tags": []
   },
   "outputs": [
    {
     "data": {
      "text/plain": [
       "((11982, 28, 28), (1984, 28, 28))"
      ]
     },
     "execution_count": 12,
     "metadata": {},
     "output_type": "execute_result"
    }
   ],
   "source": [
    "X_train.shape, X_test.shape"
   ]
  },
  {
   "cell_type": "markdown",
   "metadata": {
    "papermill": {
     "duration": 0.031302,
     "end_time": "2020-08-30T00:06:01.532531",
     "exception": false,
     "start_time": "2020-08-30T00:06:01.501229",
     "status": "completed"
    },
    "tags": []
   },
   "source": [
    "### Reshape the input data to create a linear array"
   ]
  },
  {
   "cell_type": "code",
   "execution_count": 13,
   "metadata": {
    "execution": {
     "iopub.execute_input": "2020-08-30T00:06:01.600163Z",
     "iopub.status.busy": "2020-08-30T00:06:01.599449Z",
     "iopub.status.idle": "2020-08-30T00:06:01.614005Z",
     "shell.execute_reply": "2020-08-30T00:06:01.613433Z"
    },
    "papermill": {
     "duration": 0.049594,
     "end_time": "2020-08-30T00:06:01.614152",
     "exception": false,
     "start_time": "2020-08-30T00:06:01.564558",
     "status": "completed"
    },
    "tags": []
   },
   "outputs": [
    {
     "data": {
      "text/plain": [
       "((11982, 784), (1984, 784))"
      ]
     },
     "execution_count": 13,
     "metadata": {},
     "output_type": "execute_result"
    }
   ],
   "source": [
    "X_train = X_train.reshape(X_train.shape[0], -1)\n",
    "X_test = X_test.reshape(X_test.shape[0], -1)\n",
    "X_train.shape, X_test.shape"
   ]
  },
  {
   "cell_type": "markdown",
   "metadata": {
    "papermill": {
     "duration": 0.037573,
     "end_time": "2020-08-30T00:06:01.684332",
     "exception": false,
     "start_time": "2020-08-30T00:06:01.646759",
     "status": "completed"
    },
    "tags": []
   },
   "source": [
    "### Importing appropriate functions from 'Kudzu'"
   ]
  },
  {
   "cell_type": "code",
   "execution_count": 14,
   "metadata": {
    "execution": {
     "iopub.execute_input": "2020-08-30T00:06:01.771245Z",
     "iopub.status.busy": "2020-08-30T00:06:01.762497Z",
     "iopub.status.idle": "2020-08-30T00:06:01.778757Z",
     "shell.execute_reply": "2020-08-30T00:06:01.778175Z"
    },
    "papermill": {
     "duration": 0.060969,
     "end_time": "2020-08-30T00:06:01.778910",
     "exception": false,
     "start_time": "2020-08-30T00:06:01.717941",
     "status": "completed"
    },
    "tags": []
   },
   "outputs": [],
   "source": [
    "from kudzu.layer import Sigmoid\n",
    "from kudzu.layer import Relu\n",
    "from kudzu.layer import Affine, Sigmoid\n",
    "\n",
    "from kudzu.model import Model\n",
    "from kudzu.train import Learner\n",
    "from kudzu.optim import GD\n",
    "from kudzu.data import Data, Dataloader, Sampler\n",
    "\n",
    "from kudzu.callbacks import AccCallback\n",
    "from kudzu.callbacks import ClfCallback\n",
    "\n",
    "from kudzu.loss import MSE"
   ]
  },
  {
   "cell_type": "markdown",
   "metadata": {
    "papermill": {
     "duration": 0.03192,
     "end_time": "2020-08-30T00:06:01.842838",
     "exception": false,
     "start_time": "2020-08-30T00:06:01.810918",
     "status": "completed"
    },
    "tags": []
   },
   "source": [
    "### Let us create a `Config` class, to store important parameters. \n",
    "This class essentially plays the role of a dictionary."
   ]
  },
  {
   "cell_type": "code",
   "execution_count": 15,
   "metadata": {
    "execution": {
     "iopub.execute_input": "2020-08-30T00:06:01.915345Z",
     "iopub.status.busy": "2020-08-30T00:06:01.914675Z",
     "iopub.status.idle": "2020-08-30T00:06:01.926502Z",
     "shell.execute_reply": "2020-08-30T00:06:01.925891Z"
    },
    "papermill": {
     "duration": 0.051646,
     "end_time": "2020-08-30T00:06:01.926651",
     "exception": false,
     "start_time": "2020-08-30T00:06:01.875005",
     "status": "completed"
    },
    "tags": []
   },
   "outputs": [],
   "source": [
    "class Config:\n",
    "    pass\n",
    "config = Config()\n",
    "config.lr = 0.001\n",
    "config.num_epochs = 251\n",
    "config.bs = 50"
   ]
  },
  {
   "cell_type": "markdown",
   "metadata": {
    "papermill": {
     "duration": 0.032022,
     "end_time": "2020-08-30T00:06:01.992511",
     "exception": false,
     "start_time": "2020-08-30T00:06:01.960489",
     "status": "completed"
    },
    "tags": []
   },
   "source": [
    "### Initializing data to the variables"
   ]
  },
  {
   "cell_type": "code",
   "execution_count": 16,
   "metadata": {
    "execution": {
     "iopub.execute_input": "2020-08-30T00:06:02.077098Z",
     "iopub.status.busy": "2020-08-30T00:06:02.076357Z",
     "iopub.status.idle": "2020-08-30T00:06:02.084997Z",
     "shell.execute_reply": "2020-08-30T00:06:02.085554Z"
    },
    "papermill": {
     "duration": 0.061232,
     "end_time": "2020-08-30T00:06:02.085735",
     "exception": false,
     "start_time": "2020-08-30T00:06:02.024503",
     "status": "completed"
    },
    "tags": []
   },
   "outputs": [],
   "source": [
    "data = Data(X_train, y_train.reshape(-1,1))\n",
    "sampler = Sampler(data, config.bs, shuffle=True)\n",
    "\n",
    "dl = Dataloader(data, sampler)\n",
    "\n",
    "opt = GD(config.lr)\n",
    "loss = MSE()"
   ]
  },
  {
   "cell_type": "code",
   "execution_count": 17,
   "metadata": {
    "execution": {
     "iopub.execute_input": "2020-08-30T00:06:02.167755Z",
     "iopub.status.busy": "2020-08-30T00:06:02.161983Z",
     "iopub.status.idle": "2020-08-30T00:06:02.171554Z",
     "shell.execute_reply": "2020-08-30T00:06:02.170690Z"
    },
    "papermill": {
     "duration": 0.053036,
     "end_time": "2020-08-30T00:06:02.171694",
     "exception": false,
     "start_time": "2020-08-30T00:06:02.118658",
     "status": "completed"
    },
    "tags": []
   },
   "outputs": [],
   "source": [
    "training_xdata = X_train\n",
    "testing_xdata = X_test\n",
    "training_ydata = y_train.reshape(-1,1)\n",
    "testing_ydata = y_test.reshape(-1,1)"
   ]
  },
  {
   "cell_type": "markdown",
   "metadata": {
    "papermill": {
     "duration": 0.031649,
     "end_time": "2020-08-30T00:06:02.239468",
     "exception": false,
     "start_time": "2020-08-30T00:06:02.207819",
     "status": "completed"
    },
    "tags": []
   },
   "source": [
    "### Running Models with the Training data\n",
    "Details about the network layers:\n",
    "- A first affine layer has 784 inputs and does 100 affine transforms. These are followed by a Relu\n",
    "- A second affine layer has 100 inputs from the 100 activations of the past layer, and does 100 affine transforms. These are followed by a Relu\n",
    "- A third affine layer has 100 activations and does 2 affine transformations to create an embedding for visualization. There is no non-linearity here.\n",
    "- A final \"logistic regression\" which has an affine transform from 2 inputs to 1 output, which is squeezed through a sigmoid.\n",
    "\n",
    "Help taken from Anshuman's Notebook."
   ]
  },
  {
   "cell_type": "code",
   "execution_count": 18,
   "metadata": {
    "execution": {
     "iopub.execute_input": "2020-08-30T00:06:02.313527Z",
     "iopub.status.busy": "2020-08-30T00:06:02.312850Z",
     "iopub.status.idle": "2020-08-30T00:06:02.329249Z",
     "shell.execute_reply": "2020-08-30T00:06:02.329975Z"
    },
    "papermill": {
     "duration": 0.058287,
     "end_time": "2020-08-30T00:06:02.330155",
     "exception": false,
     "start_time": "2020-08-30T00:06:02.271868",
     "status": "completed"
    },
    "tags": []
   },
   "outputs": [],
   "source": [
    "# layers for the Neural Network\n",
    "layers = [Affine(\"first\", 784, 100), Relu(\"first\"), Affine(\"second\", 100, 100), Relu(\"second\"), Affine(\"third\", 100, 2), Affine(\"final\", 2, 1), Sigmoid(\"final\")]\n",
    "model_nn = Model(layers)\n",
    "\n",
    "# layers for the Logistic Regression\n",
    "layers_lr = [Affine(\"logits\", 784, 1), Sigmoid(\"sigmoid\")]\n",
    "model_lr = Model(layers_lr)"
   ]
  },
  {
   "cell_type": "code",
   "execution_count": 19,
   "metadata": {
    "execution": {
     "iopub.execute_input": "2020-08-30T00:06:02.411684Z",
     "iopub.status.busy": "2020-08-30T00:06:02.402053Z",
     "iopub.status.idle": "2020-08-30T00:06:02.413873Z",
     "shell.execute_reply": "2020-08-30T00:06:02.414520Z"
    },
    "papermill": {
     "duration": 0.05262,
     "end_time": "2020-08-30T00:06:02.414692",
     "exception": false,
     "start_time": "2020-08-30T00:06:02.362072",
     "status": "completed"
    },
    "tags": []
   },
   "outputs": [],
   "source": [
    "# suffix _nn stands for Neural Network.\n",
    "learner_nn = Learner(loss, model_nn, opt, config.num_epochs)\n",
    "acc_nn = ClfCallback(learner_nn, config.bs, training_xdata , testing_xdata, training_ydata, testing_ydata)\n",
    "learner_nn.set_callbacks([acc_nn])"
   ]
  },
  {
   "cell_type": "code",
   "execution_count": 20,
   "metadata": {
    "execution": {
     "iopub.execute_input": "2020-08-30T00:06:02.482619Z",
     "iopub.status.busy": "2020-08-30T00:06:02.481905Z",
     "iopub.status.idle": "2020-08-30T00:08:06.693939Z",
     "shell.execute_reply": "2020-08-30T00:08:06.693371Z"
    },
    "papermill": {
     "duration": 124.247939,
     "end_time": "2020-08-30T00:08:06.694087",
     "exception": false,
     "start_time": "2020-08-30T00:06:02.446148",
     "status": "completed"
    },
    "tags": []
   },
   "outputs": [
    {
     "name": "stdout",
     "output_type": "stream",
     "text": [
      "====== Neural Network ======\n"
     ]
    },
    {
     "name": "stdout",
     "output_type": "stream",
     "text": [
      "Epoch 0, Loss 0.2531\n",
      "Training Accuracy: 0.6390, Testing Accuracy: 0.6331\n",
      "\n"
     ]
    },
    {
     "name": "stdout",
     "output_type": "stream",
     "text": [
      "Epoch 10, Loss 0.0801\n",
      "Training Accuracy: 0.9246, Testing Accuracy: 0.9340\n",
      "\n"
     ]
    },
    {
     "name": "stdout",
     "output_type": "stream",
     "text": [
      "Epoch 20, Loss 0.0512\n",
      "Training Accuracy: 0.9454, Testing Accuracy: 0.9526\n",
      "\n"
     ]
    },
    {
     "name": "stdout",
     "output_type": "stream",
     "text": [
      "Epoch 30, Loss 0.0411\n",
      "Training Accuracy: 0.9549, Testing Accuracy: 0.9602\n",
      "\n"
     ]
    },
    {
     "name": "stdout",
     "output_type": "stream",
     "text": [
      "Epoch 40, Loss 0.0359\n",
      "Training Accuracy: 0.9595, Testing Accuracy: 0.9657\n",
      "\n"
     ]
    },
    {
     "name": "stdout",
     "output_type": "stream",
     "text": [
      "Epoch 50, Loss 0.0327\n",
      "Training Accuracy: 0.9632, Testing Accuracy: 0.9677\n",
      "\n"
     ]
    },
    {
     "name": "stdout",
     "output_type": "stream",
     "text": [
      "Epoch 60, Loss 0.0304\n",
      "Training Accuracy: 0.9658, Testing Accuracy: 0.9698\n",
      "\n"
     ]
    },
    {
     "name": "stdout",
     "output_type": "stream",
     "text": [
      "Epoch 70, Loss 0.0286\n",
      "Training Accuracy: 0.9675, Testing Accuracy: 0.9693\n",
      "\n"
     ]
    },
    {
     "name": "stdout",
     "output_type": "stream",
     "text": [
      "Epoch 80, Loss 0.0271\n",
      "Training Accuracy: 0.9695, Testing Accuracy: 0.9703\n",
      "\n"
     ]
    },
    {
     "name": "stdout",
     "output_type": "stream",
     "text": [
      "Epoch 90, Loss 0.0259\n",
      "Training Accuracy: 0.9707, Testing Accuracy: 0.9688\n",
      "\n"
     ]
    },
    {
     "name": "stdout",
     "output_type": "stream",
     "text": [
      "Epoch 100, Loss 0.0249\n",
      "Training Accuracy: 0.9711, Testing Accuracy: 0.9688\n",
      "\n"
     ]
    },
    {
     "name": "stdout",
     "output_type": "stream",
     "text": [
      "Epoch 110, Loss 0.024\n",
      "Training Accuracy: 0.9728, Testing Accuracy: 0.9688\n",
      "\n"
     ]
    },
    {
     "name": "stdout",
     "output_type": "stream",
     "text": [
      "Epoch 120, Loss 0.0232\n",
      "Training Accuracy: 0.9735, Testing Accuracy: 0.9693\n",
      "\n"
     ]
    },
    {
     "name": "stdout",
     "output_type": "stream",
     "text": [
      "Epoch 130, Loss 0.0225\n",
      "Training Accuracy: 0.9741, Testing Accuracy: 0.9698\n",
      "\n"
     ]
    },
    {
     "name": "stdout",
     "output_type": "stream",
     "text": [
      "Epoch 140, Loss 0.0219\n",
      "Training Accuracy: 0.9746, Testing Accuracy: 0.9723\n",
      "\n"
     ]
    },
    {
     "name": "stdout",
     "output_type": "stream",
     "text": [
      "Epoch 150, Loss 0.0213\n",
      "Training Accuracy: 0.9754, Testing Accuracy: 0.9738\n",
      "\n"
     ]
    },
    {
     "name": "stdout",
     "output_type": "stream",
     "text": [
      "Epoch 160, Loss 0.0207\n",
      "Training Accuracy: 0.9766, Testing Accuracy: 0.9723\n",
      "\n"
     ]
    },
    {
     "name": "stdout",
     "output_type": "stream",
     "text": [
      "Epoch 170, Loss 0.0202\n",
      "Training Accuracy: 0.9773, Testing Accuracy: 0.9743\n",
      "\n"
     ]
    },
    {
     "name": "stdout",
     "output_type": "stream",
     "text": [
      "Epoch 180, Loss 0.0197\n",
      "Training Accuracy: 0.9777, Testing Accuracy: 0.9748\n",
      "\n"
     ]
    },
    {
     "name": "stdout",
     "output_type": "stream",
     "text": [
      "Epoch 190, Loss 0.0192\n",
      "Training Accuracy: 0.9786, Testing Accuracy: 0.9753\n",
      "\n"
     ]
    },
    {
     "name": "stdout",
     "output_type": "stream",
     "text": [
      "Epoch 200, Loss 0.0188\n",
      "Training Accuracy: 0.9792, Testing Accuracy: 0.9758\n",
      "\n"
     ]
    },
    {
     "name": "stdout",
     "output_type": "stream",
     "text": [
      "Epoch 210, Loss 0.0183\n",
      "Training Accuracy: 0.9798, Testing Accuracy: 0.9758\n",
      "\n"
     ]
    },
    {
     "name": "stdout",
     "output_type": "stream",
     "text": [
      "Epoch 220, Loss 0.0179\n",
      "Training Accuracy: 0.9803, Testing Accuracy: 0.9763\n",
      "\n"
     ]
    },
    {
     "name": "stdout",
     "output_type": "stream",
     "text": [
      "Epoch 230, Loss 0.0175\n",
      "Training Accuracy: 0.9805, Testing Accuracy: 0.9763\n",
      "\n"
     ]
    },
    {
     "name": "stdout",
     "output_type": "stream",
     "text": [
      "Epoch 240, Loss 0.0172\n",
      "Training Accuracy: 0.9811, Testing Accuracy: 0.9763\n",
      "\n"
     ]
    },
    {
     "name": "stdout",
     "output_type": "stream",
     "text": [
      "Epoch 250, Loss 0.0168\n",
      "Training Accuracy: 0.9819, Testing Accuracy: 0.9763\n",
      "\n"
     ]
    },
    {
     "data": {
      "text/plain": [
       "0.0400962563621787"
      ]
     },
     "execution_count": 20,
     "metadata": {},
     "output_type": "execute_result"
    }
   ],
   "source": [
    "print(\"====== Neural Network ======\")\n",
    "learner_nn.train_loop(dl)"
   ]
  },
  {
   "cell_type": "markdown",
   "metadata": {
    "papermill": {
     "duration": 0.040578,
     "end_time": "2020-08-30T00:08:06.776610",
     "exception": false,
     "start_time": "2020-08-30T00:08:06.736032",
     "status": "completed"
    },
    "tags": []
   },
   "source": [
    "### Logistic Regression based Implementation."
   ]
  },
  {
   "cell_type": "code",
   "execution_count": 21,
   "metadata": {
    "execution": {
     "iopub.execute_input": "2020-08-30T00:08:06.864763Z",
     "iopub.status.busy": "2020-08-30T00:08:06.864115Z",
     "iopub.status.idle": "2020-08-30T00:08:06.878506Z",
     "shell.execute_reply": "2020-08-30T00:08:06.879083Z"
    },
    "papermill": {
     "duration": 0.061917,
     "end_time": "2020-08-30T00:08:06.879246",
     "exception": false,
     "start_time": "2020-08-30T00:08:06.817329",
     "status": "completed"
    },
    "tags": []
   },
   "outputs": [],
   "source": [
    "learner_lr = Learner(loss, model_lr, opt, config.num_epochs)\n",
    "acc_lr = ClfCallback(learner_lr, config.bs, training_xdata , testing_xdata, training_ydata, testing_ydata)\n",
    "learner_lr.set_callbacks([acc_lr])"
   ]
  },
  {
   "cell_type": "code",
   "execution_count": 22,
   "metadata": {
    "execution": {
     "iopub.execute_input": "2020-08-30T00:08:06.969712Z",
     "iopub.status.busy": "2020-08-30T00:08:06.969040Z",
     "iopub.status.idle": "2020-08-30T00:08:25.678353Z",
     "shell.execute_reply": "2020-08-30T00:08:25.677515Z"
    },
    "papermill": {
     "duration": 18.757195,
     "end_time": "2020-08-30T00:08:25.678522",
     "exception": false,
     "start_time": "2020-08-30T00:08:06.921327",
     "status": "completed"
    },
    "tags": []
   },
   "outputs": [
    {
     "name": "stdout",
     "output_type": "stream",
     "text": [
      "====== Logistic Regression ======\n",
      "Epoch 0, Loss 0.2294\n",
      "Training Accuracy: 0.7039, Testing Accuracy: 0.7298\n",
      "\n"
     ]
    },
    {
     "name": "stdout",
     "output_type": "stream",
     "text": [
      "Epoch 10, Loss 0.1058\n",
      "Training Accuracy: 0.9013, Testing Accuracy: 0.9153\n",
      "\n"
     ]
    },
    {
     "name": "stdout",
     "output_type": "stream",
     "text": [
      "Epoch 20, Loss 0.081\n",
      "Training Accuracy: 0.9239, Testing Accuracy: 0.9390\n",
      "\n"
     ]
    },
    {
     "name": "stdout",
     "output_type": "stream",
     "text": [
      "Epoch 30, Loss 0.0693\n",
      "Training Accuracy: 0.9360, Testing Accuracy: 0.9476\n",
      "\n"
     ]
    },
    {
     "name": "stdout",
     "output_type": "stream",
     "text": [
      "Epoch 40, Loss 0.0623\n",
      "Training Accuracy: 0.9407, Testing Accuracy: 0.9526\n",
      "\n"
     ]
    },
    {
     "name": "stdout",
     "output_type": "stream",
     "text": [
      "Epoch 50, Loss 0.0575\n",
      "Training Accuracy: 0.9458, Testing Accuracy: 0.9567\n",
      "\n"
     ]
    },
    {
     "name": "stdout",
     "output_type": "stream",
     "text": [
      "Epoch 60, Loss 0.0541\n",
      "Training Accuracy: 0.9478, Testing Accuracy: 0.9592\n",
      "\n"
     ]
    },
    {
     "name": "stdout",
     "output_type": "stream",
     "text": [
      "Epoch 70, Loss 0.0515\n",
      "Training Accuracy: 0.9493, Testing Accuracy: 0.9607\n",
      "\n"
     ]
    },
    {
     "name": "stdout",
     "output_type": "stream",
     "text": [
      "Epoch 80, Loss 0.0494\n",
      "Training Accuracy: 0.9515, Testing Accuracy: 0.9637\n",
      "\n"
     ]
    },
    {
     "name": "stdout",
     "output_type": "stream",
     "text": [
      "Epoch 90, Loss 0.0477\n",
      "Training Accuracy: 0.9526, Testing Accuracy: 0.9642\n",
      "\n"
     ]
    },
    {
     "name": "stdout",
     "output_type": "stream",
     "text": [
      "Epoch 100, Loss 0.0462\n",
      "Training Accuracy: 0.9537, Testing Accuracy: 0.9647\n",
      "\n"
     ]
    },
    {
     "name": "stdout",
     "output_type": "stream",
     "text": [
      "Epoch 110, Loss 0.045\n",
      "Training Accuracy: 0.9553, Testing Accuracy: 0.9667\n",
      "\n"
     ]
    },
    {
     "name": "stdout",
     "output_type": "stream",
     "text": [
      "Epoch 120, Loss 0.0439\n",
      "Training Accuracy: 0.9560, Testing Accuracy: 0.9677\n",
      "\n"
     ]
    },
    {
     "name": "stdout",
     "output_type": "stream",
     "text": [
      "Epoch 130, Loss 0.043\n",
      "Training Accuracy: 0.9563, Testing Accuracy: 0.9677\n",
      "\n"
     ]
    },
    {
     "name": "stdout",
     "output_type": "stream",
     "text": [
      "Epoch 140, Loss 0.0421\n",
      "Training Accuracy: 0.9572, Testing Accuracy: 0.9667\n",
      "\n"
     ]
    },
    {
     "name": "stdout",
     "output_type": "stream",
     "text": [
      "Epoch 150, Loss 0.0414\n",
      "Training Accuracy: 0.9575, Testing Accuracy: 0.9662\n",
      "\n"
     ]
    },
    {
     "name": "stdout",
     "output_type": "stream",
     "text": [
      "Epoch 160, Loss 0.0407\n",
      "Training Accuracy: 0.9582, Testing Accuracy: 0.9662\n",
      "\n"
     ]
    },
    {
     "name": "stdout",
     "output_type": "stream",
     "text": [
      "Epoch 170, Loss 0.0401\n",
      "Training Accuracy: 0.9586, Testing Accuracy: 0.9667\n",
      "\n"
     ]
    },
    {
     "name": "stdout",
     "output_type": "stream",
     "text": [
      "Epoch 180, Loss 0.0395\n",
      "Training Accuracy: 0.9592, Testing Accuracy: 0.9662\n",
      "\n"
     ]
    },
    {
     "name": "stdout",
     "output_type": "stream",
     "text": [
      "Epoch 190, Loss 0.039\n",
      "Training Accuracy: 0.9597, Testing Accuracy: 0.9662\n",
      "\n"
     ]
    },
    {
     "name": "stdout",
     "output_type": "stream",
     "text": [
      "Epoch 200, Loss 0.0385\n",
      "Training Accuracy: 0.9599, Testing Accuracy: 0.9662\n",
      "\n"
     ]
    },
    {
     "name": "stdout",
     "output_type": "stream",
     "text": [
      "Epoch 210, Loss 0.0381\n",
      "Training Accuracy: 0.9604, Testing Accuracy: 0.9662\n",
      "\n"
     ]
    },
    {
     "name": "stdout",
     "output_type": "stream",
     "text": [
      "Epoch 220, Loss 0.0377\n",
      "Training Accuracy: 0.9607, Testing Accuracy: 0.9667\n",
      "\n"
     ]
    },
    {
     "name": "stdout",
     "output_type": "stream",
     "text": [
      "Epoch 230, Loss 0.0373\n",
      "Training Accuracy: 0.9609, Testing Accuracy: 0.9667\n",
      "\n"
     ]
    },
    {
     "name": "stdout",
     "output_type": "stream",
     "text": [
      "Epoch 240, Loss 0.0369\n",
      "Training Accuracy: 0.9614, Testing Accuracy: 0.9672\n",
      "\n"
     ]
    },
    {
     "name": "stdout",
     "output_type": "stream",
     "text": [
      "Epoch 250, Loss 0.0366\n",
      "Training Accuracy: 0.9614, Testing Accuracy: 0.9677\n",
      "\n"
     ]
    },
    {
     "data": {
      "text/plain": [
       "0.021459835047022847"
      ]
     },
     "execution_count": 22,
     "metadata": {},
     "output_type": "execute_result"
    }
   ],
   "source": [
    "print(\"====== Logistic Regression ======\")\n",
    "learner_lr.train_loop(dl)"
   ]
  },
  {
   "cell_type": "markdown",
   "metadata": {
    "papermill": {
     "duration": 0.048734,
     "end_time": "2020-08-30T00:08:25.776732",
     "exception": false,
     "start_time": "2020-08-30T00:08:25.727998",
     "status": "completed"
    },
    "tags": []
   },
   "source": [
    "### Comparing results of NN and LR"
   ]
  },
  {
   "cell_type": "code",
   "execution_count": 23,
   "metadata": {
    "execution": {
     "iopub.execute_input": "2020-08-30T00:08:25.891975Z",
     "iopub.status.busy": "2020-08-30T00:08:25.891310Z",
     "iopub.status.idle": "2020-08-30T00:08:26.164680Z",
     "shell.execute_reply": "2020-08-30T00:08:26.163857Z"
    },
    "papermill": {
     "duration": 0.339255,
     "end_time": "2020-08-30T00:08:26.164837",
     "exception": false,
     "start_time": "2020-08-30T00:08:25.825582",
     "status": "completed"
    },
    "tags": []
   },
   "outputs": [
    {
     "data": {
      "text/plain": [
       "<matplotlib.legend.Legend at 0x7fd055021358>"
      ]
     },
     "execution_count": 23,
     "metadata": {},
     "output_type": "execute_result"
    },
    {
     "data": {
      "image/png": "[encoded data removed]",
      "text/plain": [
       "<Figure size 1080x720 with 1 Axes>"
      ]
     },
     "metadata": {
      "needs_background": "light"
     },
     "output_type": "display_data"
    }
   ],
   "source": [
    "plt.figure(figsize=(15,10))\n",
    "\n",
    "# Neural Network plots\n",
    "plt.plot(acc_nn.accuracies, 'r-', label = \"Training Accuracies - NN\")\n",
    "plt.plot(acc_nn.test_accuracies, 'g-', label = \"Testing Accuracies - NN\")\n",
    "\n",
    "# Logistic Regression plots\n",
    "plt.plot(acc_lr.accuracies, 'k-', label = \"Training Accuracies - LR\")\n",
    "plt.plot(acc_lr.test_accuracies, 'b-', label = \"Testing Accuracies - LR\")\n",
    "\n",
    "plt.ylim(0.8, 1)\n",
    "\n",
    "plt.legend()\n",
    "\n"
   ]
  },
  {
   "cell_type": "markdown",
   "metadata": {
    "papermill": {
     "duration": 0.051271,
     "end_time": "2020-08-30T00:08:26.268494",
     "exception": false,
     "start_time": "2020-08-30T00:08:26.217223",
     "status": "completed"
    },
    "tags": []
   },
   "source": [
    "### From the plot, we can observe the following:\n",
    "- Neural Network achieves higher accuracy than the Logistic Regression model.\n",
    "- This apparently, is because of overfitting, i.e. NN captures more noise than data.\n",
    "- Testing accuracy of NN drops below the Training accuracy at higher epochs. This explains the over-fitting on training data.\n",
    "- Logistic Regression gives a reliable accuracy, without the above mentioned problem.\n"
   ]
  },
  {
   "cell_type": "markdown",
   "metadata": {
    "papermill": {
     "duration": 0.050734,
     "end_time": "2020-08-30T00:08:26.373968",
     "exception": false,
     "start_time": "2020-08-30T00:08:26.323234",
     "status": "completed"
    },
    "tags": []
   },
   "source": [
    "### Moving till the last but one layer (excluding it).\n",
    "#### Plotting the outputs of this layer of the NN."
   ]
  },
  {
   "cell_type": "code",
   "execution_count": 24,
   "metadata": {
    "execution": {
     "iopub.execute_input": "2020-08-30T00:08:26.495492Z",
     "iopub.status.busy": "2020-08-30T00:08:26.486908Z",
     "iopub.status.idle": "2020-08-30T00:08:26.497696Z",
     "shell.execute_reply": "2020-08-30T00:08:26.498235Z"
    },
    "papermill": {
     "duration": 0.070454,
     "end_time": "2020-08-30T00:08:26.498431",
     "exception": false,
     "start_time": "2020-08-30T00:08:26.427977",
     "status": "completed"
    },
    "tags": []
   },
   "outputs": [],
   "source": [
    "model_new = Model(layers[:-2])"
   ]
  },
  {
   "cell_type": "code",
   "execution_count": 25,
   "metadata": {
    "execution": {
     "iopub.execute_input": "2020-08-30T00:08:26.623104Z",
     "iopub.status.busy": "2020-08-30T00:08:26.622392Z",
     "iopub.status.idle": "2020-08-30T00:08:26.635405Z",
     "shell.execute_reply": "2020-08-30T00:08:26.636210Z"
    },
    "papermill": {
     "duration": 0.085739,
     "end_time": "2020-08-30T00:08:26.636386",
     "exception": false,
     "start_time": "2020-08-30T00:08:26.550647",
     "status": "completed"
    },
    "tags": []
   },
   "outputs": [],
   "source": [
    "plot_testing = model_new(testing_xdata)"
   ]
  },
  {
   "cell_type": "code",
   "execution_count": 26,
   "metadata": {
    "execution": {
     "iopub.execute_input": "2020-08-30T00:08:26.747813Z",
     "iopub.status.busy": "2020-08-30T00:08:26.747147Z",
     "iopub.status.idle": "2020-08-30T00:08:26.985567Z",
     "shell.execute_reply": "2020-08-30T00:08:26.986082Z"
    },
    "papermill": {
     "duration": 0.297638,
     "end_time": "2020-08-30T00:08:26.986257",
     "exception": false,
     "start_time": "2020-08-30T00:08:26.688619",
     "status": "completed"
    },
    "tags": []
   },
   "outputs": [
    {
     "data": {
      "text/plain": [
       "Text(0.5, 1.0, 'Outputs')"
      ]
     },
     "execution_count": 26,
     "metadata": {},
     "output_type": "execute_result"
    },
    {
     "data": {
      "image/png": "[encoded data removed]",
      "text/plain": [
       "<Figure size 576x504 with 1 Axes>"
      ]
     },
     "metadata": {
      "needs_background": "light"
     },
     "output_type": "display_data"
    }
   ],
   "source": [
    "plt.figure(figsize=(8,7))\n",
    "plt.scatter(plot_testing[:,0], plot_testing[:,1], alpha = 0.1, c = y_test.ravel());\n",
    "plt.title('Outputs')"
   ]
  },
  {
   "cell_type": "markdown",
   "metadata": {
    "papermill": {
     "duration": 0.056361,
     "end_time": "2020-08-30T00:08:27.097077",
     "exception": false,
     "start_time": "2020-08-30T00:08:27.040716",
     "status": "completed"
    },
    "tags": []
   },
   "source": [
    "### Plotting probability contours"
   ]
  },
  {
   "cell_type": "code",
   "execution_count": 27,
   "metadata": {
    "execution": {
     "iopub.execute_input": "2020-08-30T00:08:27.207540Z",
     "iopub.status.busy": "2020-08-30T00:08:27.206860Z",
     "iopub.status.idle": "2020-08-30T00:08:27.219242Z",
     "shell.execute_reply": "2020-08-30T00:08:27.219931Z"
    },
    "papermill": {
     "duration": 0.070595,
     "end_time": "2020-08-30T00:08:27.220125",
     "exception": false,
     "start_time": "2020-08-30T00:08:27.149530",
     "status": "completed"
    },
    "tags": []
   },
   "outputs": [],
   "source": [
    "model_prob = Model(layers[-2:]) "
   ]
  },
  {
   "cell_type": "code",
   "execution_count": 28,
   "metadata": {
    "execution": {
     "iopub.execute_input": "2020-08-30T00:08:27.333444Z",
     "iopub.status.busy": "2020-08-30T00:08:27.332778Z",
     "iopub.status.idle": "2020-08-30T00:08:27.347411Z",
     "shell.execute_reply": "2020-08-30T00:08:27.347929Z"
    },
    "papermill": {
     "duration": 0.073833,
     "end_time": "2020-08-30T00:08:27.348105",
     "exception": false,
     "start_time": "2020-08-30T00:08:27.274272",
     "status": "completed"
    },
    "tags": []
   },
   "outputs": [],
   "source": [
    "# Adjust the x and y ranges according to the above generated plot.\n",
    "x_range = np.linspace(-4, 1, 100) \n",
    "y_range = np.linspace(-6, 6, 100) \n",
    "x_grid, y_grid = np.meshgrid(x_range, y_range) # x_grid and y_grig are of size 100 X 100\n",
    "\n",
    "# converting x_grid and y_grid to continuous arrays\n",
    "x_grid_flat = np.ravel(x_grid)\n",
    "y_grid_flat = np.ravel(y_grid)\n",
    "\n",
    "# The last layer of the current model takes two columns as input. Hence transpose of np.vstack() is required.\n",
    "X = np.vstack((x_grid_flat, y_grid_flat)).T\n",
    "\n",
    "# x_grid and y_grid are of size 100 x 100\n",
    "probability_contour = model_prob(X).reshape(100,100) "
   ]
  },
  {
   "cell_type": "code",
   "execution_count": 29,
   "metadata": {
    "execution": {
     "iopub.execute_input": "2020-08-30T00:08:27.467889Z",
     "iopub.status.busy": "2020-08-30T00:08:27.467229Z",
     "iopub.status.idle": "2020-08-30T00:08:27.752597Z",
     "shell.execute_reply": "2020-08-30T00:08:27.752087Z"
    },
    "papermill": {
     "duration": 0.351287,
     "end_time": "2020-08-30T00:08:27.752730",
     "exception": false,
     "start_time": "2020-08-30T00:08:27.401443",
     "status": "completed"
    },
    "tags": []
   },
   "outputs": [
    {
     "data": {
      "image/png": "[encoded data removed]",
      "text/plain": [
       "<Figure size 720x648 with 1 Axes>"
      ]
     },
     "metadata": {
      "needs_background": "light"
     },
     "output_type": "display_data"
    }
   ],
   "source": [
    "plt.figure(figsize=(10,9))\n",
    "plt.scatter(plot_testing[:,0], plot_testing[:,1], alpha = 0.1, c = y_test.ravel())\n",
    "contours = plt.contour(x_grid,y_grid,probability_contour)\n",
    "plt.title('Probability Contours')\n",
    "plt.clabel(contours, inline = True );"
   ]
  }
 ],
 "metadata": {
  "kernelspec": {
   "display_name": "Python 3",
   "language": "python",
   "name": "python3"
  },
  "language_info": {
   "codemirror_mode": {
    "name": "ipython",
    "version": 3
   },
   "file_extension": ".py",
   "mimetype": "text/x-python",
   "name": "python",
   "nbconvert_exporter": "python",
   "pygments_lexer": "ipython3",
   "version": "3.6.11"
  },
  "papermill": {
   "duration": 154.71726,
   "end_time": "2020-08-30T00:08:28.238475",
   "environment_variables": {},
   "exception": null,
   "input_path": "2020-08-11-NeuralNetwork.ipynb",
   "output_path": "2020-08-11-NeuralNetwork.ipynb",
   "parameters": {},
   "start_time": "2020-08-30T00:05:53.521215",
   "version": "2.1.2"
  }
 },
 "nbformat": 4,
 "nbformat_minor": 4
}