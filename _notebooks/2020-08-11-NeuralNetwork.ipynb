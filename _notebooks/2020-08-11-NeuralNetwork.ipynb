{
 "cells": [
  {
   "cell_type": "markdown",
   "id": "fitted-suggestion",
   "metadata": {
    "papermill": {
     "duration": 0.037311,
     "end_time": "2021-07-19T00:15:39.957503",
     "exception": false,
     "start_time": "2021-07-19T00:15:39.920192",
     "status": "completed"
    },
    "tags": []
   },
   "source": [
    "# \"A Basic Neural Network: Differentiate Hand-Written Digits\"\n",
    "\n",
    "- badges: true\n",
    "- author: Akshith Sriram"
   ]
  },
  {
   "cell_type": "markdown",
   "id": "signal-flexibility",
   "metadata": {
    "papermill": {
     "duration": 0.030801,
     "end_time": "2021-07-19T00:15:40.020337",
     "exception": false,
     "start_time": "2021-07-19T00:15:39.989536",
     "status": "completed"
    },
    "tags": []
   },
   "source": [
    "### Key Objectives:\n",
    "- Building a neural network that differentiates two hand-written digits 3 and 8.\n",
    "- Comparing the results of this Neural Network (NN) to that of a Logistic Regression (LR) model.\n",
    "\n",
    "### Requirements:\n",
    "- 'Kudzu' : A neural network library that was designed during our course by [Univ.AI](www.univ.ai). \n",
    "- MNIST Database\n",
    "\n",
    "If MNIST is not installed, use the command `!pip install mnist` given below.\n",
    "It can be run both from the command line and Jupyter Notebook."
   ]
  },
  {
   "cell_type": "code",
   "execution_count": 1,
   "id": "british-texture",
   "metadata": {
    "execution": {
     "iopub.execute_input": "2021-07-19T00:15:40.094770Z",
     "iopub.status.busy": "2021-07-19T00:15:40.094146Z",
     "iopub.status.idle": "2021-07-19T00:15:41.780653Z",
     "shell.execute_reply": "2021-07-19T00:15:41.778100Z"
    },
    "papermill": {
     "duration": 1.729189,
     "end_time": "2021-07-19T00:15:41.780838",
     "exception": false,
     "start_time": "2021-07-19T00:15:40.051649",
     "status": "completed"
    },
    "tags": []
   },
   "outputs": [
    {
     "name": "stdout",
     "output_type": "stream",
     "text": [
      "Collecting mnist\r\n"
     ]
    },
    {
     "name": "stdout",
     "output_type": "stream",
     "text": [
      "  Downloading mnist-0.2.2-py2.py3-none-any.whl (3.5 kB)\r\n"
     ]
    },
    {
     "name": "stdout",
     "output_type": "stream",
     "text": [
      "Requirement already satisfied: numpy in /opt/hostedtoolcache/Python/3.6.14/x64/lib/python3.6/site-packages (from mnist) (1.19.5)\r\n"
     ]
    },
    {
     "name": "stdout",
     "output_type": "stream",
     "text": [
      "Installing collected packages: mnist\r\n",
      "Successfully installed mnist-0.2.2\r\n"
     ]
    }
   ],
   "source": [
    "!pip install mnist "
   ]
  },
  {
   "cell_type": "markdown",
   "id": "stunning-extra",
   "metadata": {
    "papermill": {
     "duration": 0.033127,
     "end_time": "2021-07-19T00:15:41.848295",
     "exception": false,
     "start_time": "2021-07-19T00:15:41.815168",
     "status": "completed"
    },
    "tags": []
   },
   "source": [
    "#### Importing necessary libraries"
   ]
  },
  {
   "cell_type": "code",
   "execution_count": 2,
   "id": "wooden-france",
   "metadata": {
    "execution": {
     "iopub.execute_input": "2021-07-19T00:15:41.917699Z",
     "iopub.status.busy": "2021-07-19T00:15:41.917074Z",
     "iopub.status.idle": "2021-07-19T00:15:42.519876Z",
     "shell.execute_reply": "2021-07-19T00:15:42.518866Z"
    },
    "papermill": {
     "duration": 0.641954,
     "end_time": "2021-07-19T00:15:42.520027",
     "exception": false,
     "start_time": "2021-07-19T00:15:41.878073",
     "status": "completed"
    },
    "tags": []
   },
   "outputs": [],
   "source": [
    "%load_ext autoreload\n",
    "%autoreload 2\n",
    "\n",
    "%matplotlib inline\n",
    "import matplotlib.pyplot as plt\n",
    "\n",
    "import numpy as np\n",
    "import pandas as pd"
   ]
  },
  {
   "cell_type": "markdown",
   "id": "stunning-physics",
   "metadata": {
    "papermill": {
     "duration": 0.029983,
     "end_time": "2021-07-19T00:15:42.580416",
     "exception": false,
     "start_time": "2021-07-19T00:15:42.550433",
     "status": "completed"
    },
    "tags": []
   },
   "source": [
    "### Preparing the Data"
   ]
  },
  {
   "cell_type": "code",
   "execution_count": 3,
   "id": "unauthorized-remainder",
   "metadata": {
    "execution": {
     "iopub.execute_input": "2021-07-19T00:15:42.646823Z",
     "iopub.status.busy": "2021-07-19T00:15:42.645678Z",
     "iopub.status.idle": "2021-07-19T00:15:42.657061Z",
     "shell.execute_reply": "2021-07-19T00:15:42.656511Z"
    },
    "papermill": {
     "duration": 0.046778,
     "end_time": "2021-07-19T00:15:42.657197",
     "exception": false,
     "start_time": "2021-07-19T00:15:42.610419",
     "status": "completed"
    },
    "tags": []
   },
   "outputs": [],
   "source": [
    "import mnist"
   ]
  },
  {
   "cell_type": "code",
   "execution_count": 4,
   "id": "correct-antarctica",
   "metadata": {
    "execution": {
     "iopub.execute_input": "2021-07-19T00:15:42.724070Z",
     "iopub.status.busy": "2021-07-19T00:15:42.723479Z",
     "iopub.status.idle": "2021-07-19T00:20:08.223481Z",
     "shell.execute_reply": "2021-07-19T00:20:08.222271Z"
    },
    "papermill": {
     "duration": 265.535884,
     "end_time": "2021-07-19T00:20:08.223641",
     "exception": false,
     "start_time": "2021-07-19T00:15:42.687757",
     "status": "completed"
    },
    "tags": []
   },
   "outputs": [],
   "source": [
    "train_images = mnist.train_images()\n",
    "train_labels = mnist.train_labels()"
   ]
  },
  {
   "cell_type": "code",
   "execution_count": 5,
   "id": "musical-prospect",
   "metadata": {
    "execution": {
     "iopub.execute_input": "2021-07-19T00:20:08.301684Z",
     "iopub.status.busy": "2021-07-19T00:20:08.297525Z",
     "iopub.status.idle": "2021-07-19T00:20:08.313560Z",
     "shell.execute_reply": "2021-07-19T00:20:08.313084Z"
    },
    "papermill": {
     "duration": 0.054244,
     "end_time": "2021-07-19T00:20:08.313691",
     "exception": false,
     "start_time": "2021-07-19T00:20:08.259447",
     "status": "completed"
    },
    "tags": []
   },
   "outputs": [
    {
     "data": {
      "text/plain": [
       "((60000, 28, 28), (60000,))"
      ]
     },
     "execution_count": 5,
     "metadata": {},
     "output_type": "execute_result"
    }
   ],
   "source": [
    "train_images.shape, train_labels.shape"
   ]
  },
  {
   "cell_type": "code",
   "execution_count": 6,
   "id": "preliminary-elizabeth",
   "metadata": {
    "execution": {
     "iopub.execute_input": "2021-07-19T00:20:08.382401Z",
     "iopub.status.busy": "2021-07-19T00:20:08.380259Z",
     "iopub.status.idle": "2021-07-19T00:20:41.277943Z",
     "shell.execute_reply": "2021-07-19T00:20:41.277060Z"
    },
    "papermill": {
     "duration": 32.933519,
     "end_time": "2021-07-19T00:20:41.278162",
     "exception": false,
     "start_time": "2021-07-19T00:20:08.344643",
     "status": "completed"
    },
    "tags": []
   },
   "outputs": [],
   "source": [
    "test_images = mnist.test_images()\n",
    "test_labels = mnist.test_labels()"
   ]
  },
  {
   "cell_type": "code",
   "execution_count": 7,
   "id": "acknowledged-oxygen",
   "metadata": {
    "execution": {
     "iopub.execute_input": "2021-07-19T00:20:41.348390Z",
     "iopub.status.busy": "2021-07-19T00:20:41.347804Z",
     "iopub.status.idle": "2021-07-19T00:20:41.361780Z",
     "shell.execute_reply": "2021-07-19T00:20:41.361305Z"
    },
    "papermill": {
     "duration": 0.05003,
     "end_time": "2021-07-19T00:20:41.361911",
     "exception": false,
     "start_time": "2021-07-19T00:20:41.311881",
     "status": "completed"
    },
    "tags": []
   },
   "outputs": [
    {
     "data": {
      "text/plain": [
       "((10000, 28, 28), (10000,))"
      ]
     },
     "execution_count": 7,
     "metadata": {},
     "output_type": "execute_result"
    }
   ],
   "source": [
    "test_images.shape, test_labels.shape"
   ]
  },
  {
   "cell_type": "code",
   "execution_count": 8,
   "id": "innovative-organic",
   "metadata": {
    "execution": {
     "iopub.execute_input": "2021-07-19T00:20:41.429710Z",
     "iopub.status.busy": "2021-07-19T00:20:41.429111Z",
     "iopub.status.idle": "2021-07-19T00:20:41.589171Z",
     "shell.execute_reply": "2021-07-19T00:20:41.589731Z"
    },
    "papermill": {
     "duration": 0.19698,
     "end_time": "2021-07-19T00:20:41.589901",
     "exception": false,
     "start_time": "2021-07-19T00:20:41.392921",
     "status": "completed"
    },
    "tags": []
   },
   "outputs": [
    {
     "name": "stdout",
     "output_type": "stream",
     "text": [
      "2\n"
     ]
    },
    {
     "data": {
      "text/plain": [
       "<matplotlib.image.AxesImage at 0x7f5768362588>"
      ]
     },
     "execution_count": 8,
     "metadata": {},
     "output_type": "execute_result"
    },
    {
     "data": {
      "image/png": "[encoded data removed]",
      "text/plain": [
       "<Figure size 432x288 with 1 Axes>"
      ]
     },
     "metadata": {
      "needs_background": "light"
     },
     "output_type": "display_data"
    }
   ],
   "source": [
    "image_index = 7776 # You may select anything up to 60,000\n",
    "print(train_labels[image_index]) \n",
    "plt.imshow(train_images[image_index], cmap='Greys')"
   ]
  },
  {
   "cell_type": "markdown",
   "id": "facial-modem",
   "metadata": {
    "papermill": {
     "duration": 0.033209,
     "end_time": "2021-07-19T00:20:41.657804",
     "exception": false,
     "start_time": "2021-07-19T00:20:41.624595",
     "status": "completed"
    },
    "tags": []
   },
   "source": [
    "## Filter data to get 3 and 8 out"
   ]
  },
  {
   "cell_type": "code",
   "execution_count": 9,
   "id": "thousand-acquisition",
   "metadata": {
    "execution": {
     "iopub.execute_input": "2021-07-19T00:20:41.734114Z",
     "iopub.status.busy": "2021-07-19T00:20:41.733502Z",
     "iopub.status.idle": "2021-07-19T00:20:41.754960Z",
     "shell.execute_reply": "2021-07-19T00:20:41.755460Z"
    },
    "papermill": {
     "duration": 0.060806,
     "end_time": "2021-07-19T00:20:41.755615",
     "exception": false,
     "start_time": "2021-07-19T00:20:41.694809",
     "status": "completed"
    },
    "tags": []
   },
   "outputs": [],
   "source": [
    "train_filter = np.where((train_labels == 3 ) | (train_labels == 8))\n",
    "test_filter = np.where((test_labels == 3) | (test_labels == 8))\n",
    "X_train, y_train = train_images[train_filter], train_labels[train_filter]\n",
    "X_test, y_test = test_images[test_filter], test_labels[test_filter]"
   ]
  },
  {
   "cell_type": "markdown",
   "id": "ruled-access",
   "metadata": {
    "papermill": {
     "duration": 0.032506,
     "end_time": "2021-07-19T00:20:41.823682",
     "exception": false,
     "start_time": "2021-07-19T00:20:41.791176",
     "status": "completed"
    },
    "tags": []
   },
   "source": [
    "We normalize the pixel values in the 0 to 1 range"
   ]
  },
  {
   "cell_type": "code",
   "execution_count": 10,
   "id": "isolated-denver",
   "metadata": {
    "execution": {
     "iopub.execute_input": "2021-07-19T00:20:41.895954Z",
     "iopub.status.busy": "2021-07-19T00:20:41.895362Z",
     "iopub.status.idle": "2021-07-19T00:20:41.950414Z",
     "shell.execute_reply": "2021-07-19T00:20:41.949816Z"
    },
    "papermill": {
     "duration": 0.094796,
     "end_time": "2021-07-19T00:20:41.950554",
     "exception": false,
     "start_time": "2021-07-19T00:20:41.855758",
     "status": "completed"
    },
    "tags": []
   },
   "outputs": [],
   "source": [
    "X_train = X_train/255.\n",
    "X_test = X_test/255."
   ]
  },
  {
   "cell_type": "markdown",
   "id": "perfect-summary",
   "metadata": {
    "papermill": {
     "duration": 0.032346,
     "end_time": "2021-07-19T00:20:42.018653",
     "exception": false,
     "start_time": "2021-07-19T00:20:41.986307",
     "status": "completed"
    },
    "tags": []
   },
   "source": [
    "Setup the labels as 1 (when the digit is 3) and 0 (when the digit is 8)"
   ]
  },
  {
   "cell_type": "code",
   "execution_count": 11,
   "id": "personalized-growing",
   "metadata": {
    "execution": {
     "iopub.execute_input": "2021-07-19T00:20:42.091803Z",
     "iopub.status.busy": "2021-07-19T00:20:42.091051Z",
     "iopub.status.idle": "2021-07-19T00:20:42.106284Z",
     "shell.execute_reply": "2021-07-19T00:20:42.105398Z"
    },
    "papermill": {
     "duration": 0.055451,
     "end_time": "2021-07-19T00:20:42.106463",
     "exception": false,
     "start_time": "2021-07-19T00:20:42.051012",
     "status": "completed"
    },
    "tags": []
   },
   "outputs": [],
   "source": [
    "y_train = 1*(y_train==3)\n",
    "y_test = 1*(y_test==3)"
   ]
  },
  {
   "cell_type": "code",
   "execution_count": 12,
   "id": "considered-virgin",
   "metadata": {
    "execution": {
     "iopub.execute_input": "2021-07-19T00:20:42.187403Z",
     "iopub.status.busy": "2021-07-19T00:20:42.186795Z",
     "iopub.status.idle": "2021-07-19T00:20:42.204304Z",
     "shell.execute_reply": "2021-07-19T00:20:42.203801Z"
    },
    "papermill": {
     "duration": 0.058766,
     "end_time": "2021-07-19T00:20:42.204430",
     "exception": false,
     "start_time": "2021-07-19T00:20:42.145664",
     "status": "completed"
    },
    "tags": []
   },
   "outputs": [
    {
     "data": {
      "text/plain": [
       "((11982, 28, 28), (1984, 28, 28))"
      ]
     },
     "execution_count": 12,
     "metadata": {},
     "output_type": "execute_result"
    }
   ],
   "source": [
    "X_train.shape, X_test.shape"
   ]
  },
  {
   "cell_type": "markdown",
   "id": "civilian-mobile",
   "metadata": {
    "papermill": {
     "duration": 0.031762,
     "end_time": "2021-07-19T00:20:42.268693",
     "exception": false,
     "start_time": "2021-07-19T00:20:42.236931",
     "status": "completed"
    },
    "tags": []
   },
   "source": [
    "### Reshape the input data to create a linear array"
   ]
  },
  {
   "cell_type": "code",
   "execution_count": 13,
   "id": "colonial-adams",
   "metadata": {
    "execution": {
     "iopub.execute_input": "2021-07-19T00:20:42.337507Z",
     "iopub.status.busy": "2021-07-19T00:20:42.336906Z",
     "iopub.status.idle": "2021-07-19T00:20:42.353132Z",
     "shell.execute_reply": "2021-07-19T00:20:42.353996Z"
    },
    "papermill": {
     "duration": 0.053222,
     "end_time": "2021-07-19T00:20:42.354229",
     "exception": false,
     "start_time": "2021-07-19T00:20:42.301007",
     "status": "completed"
    },
    "tags": []
   },
   "outputs": [
    {
     "data": {
      "text/plain": [
       "((11982, 784), (1984, 784))"
      ]
     },
     "execution_count": 13,
     "metadata": {},
     "output_type": "execute_result"
    }
   ],
   "source": [
    "X_train = X_train.reshape(X_train.shape[0], -1)\n",
    "X_test = X_test.reshape(X_test.shape[0], -1)\n",
    "X_train.shape, X_test.shape"
   ]
  },
  {
   "cell_type": "markdown",
   "id": "smart-details",
   "metadata": {
    "papermill": {
     "duration": 0.032933,
     "end_time": "2021-07-19T00:20:42.420663",
     "exception": false,
     "start_time": "2021-07-19T00:20:42.387730",
     "status": "completed"
    },
    "tags": []
   },
   "source": [
    "### Importing appropriate functions from 'Kudzu'"
   ]
  },
  {
   "cell_type": "code",
   "execution_count": 14,
   "id": "celtic-trial",
   "metadata": {
    "execution": {
     "iopub.execute_input": "2021-07-19T00:20:42.514074Z",
     "iopub.status.busy": "2021-07-19T00:20:42.513426Z",
     "iopub.status.idle": "2021-07-19T00:20:42.528686Z",
     "shell.execute_reply": "2021-07-19T00:20:42.528159Z"
    },
    "papermill": {
     "duration": 0.063814,
     "end_time": "2021-07-19T00:20:42.528832",
     "exception": false,
     "start_time": "2021-07-19T00:20:42.465018",
     "status": "completed"
    },
    "tags": []
   },
   "outputs": [],
   "source": [
    "from kudzu.layer import Sigmoid\n",
    "from kudzu.layer import Relu\n",
    "from kudzu.layer import Affine, Sigmoid\n",
    "\n",
    "from kudzu.model import Model\n",
    "from kudzu.train import Learner\n",
    "from kudzu.optim import GD\n",
    "from kudzu.data import Data, Dataloader, Sampler\n",
    "\n",
    "from kudzu.callbacks import AccCallback\n",
    "from kudzu.callbacks import ClfCallback\n",
    "\n",
    "from kudzu.loss import MSE"
   ]
  },
  {
   "cell_type": "markdown",
   "id": "coupled-customer",
   "metadata": {
    "papermill": {
     "duration": 0.043481,
     "end_time": "2021-07-19T00:20:42.605642",
     "exception": false,
     "start_time": "2021-07-19T00:20:42.562161",
     "status": "completed"
    },
    "tags": []
   },
   "source": [
    "### Let us create a `Config` class, to store important parameters. \n",
    "This class essentially plays the role of a dictionary."
   ]
  },
  {
   "cell_type": "code",
   "execution_count": 15,
   "id": "young-ceiling",
   "metadata": {
    "execution": {
     "iopub.execute_input": "2021-07-19T00:20:42.677052Z",
     "iopub.status.busy": "2021-07-19T00:20:42.676410Z",
     "iopub.status.idle": "2021-07-19T00:20:42.694234Z",
     "shell.execute_reply": "2021-07-19T00:20:42.693044Z"
    },
    "papermill": {
     "duration": 0.055779,
     "end_time": "2021-07-19T00:20:42.694386",
     "exception": false,
     "start_time": "2021-07-19T00:20:42.638607",
     "status": "completed"
    },
    "tags": []
   },
   "outputs": [],
   "source": [
    "class Config:\n",
    "    pass\n",
    "config = Config()\n",
    "config.lr = 0.001\n",
    "config.num_epochs = 251\n",
    "config.bs = 50"
   ]
  },
  {
   "cell_type": "markdown",
   "id": "according-mandate",
   "metadata": {
    "papermill": {
     "duration": 0.034418,
     "end_time": "2021-07-19T00:20:42.769382",
     "exception": false,
     "start_time": "2021-07-19T00:20:42.734964",
     "status": "completed"
    },
    "tags": []
   },
   "source": [
    "### Initializing data to the variables"
   ]
  },
  {
   "cell_type": "code",
   "execution_count": 16,
   "id": "academic-disposition",
   "metadata": {
    "execution": {
     "iopub.execute_input": "2021-07-19T00:20:42.845670Z",
     "iopub.status.busy": "2021-07-19T00:20:42.843121Z",
     "iopub.status.idle": "2021-07-19T00:20:42.856802Z",
     "shell.execute_reply": "2021-07-19T00:20:42.856283Z"
    },
    "papermill": {
     "duration": 0.050707,
     "end_time": "2021-07-19T00:20:42.856936",
     "exception": false,
     "start_time": "2021-07-19T00:20:42.806229",
     "status": "completed"
    },
    "tags": []
   },
   "outputs": [],
   "source": [
    "data = Data(X_train, y_train.reshape(-1,1))\n",
    "sampler = Sampler(data, config.bs, shuffle=True)\n",
    "\n",
    "dl = Dataloader(data, sampler)\n",
    "\n",
    "opt = GD(config.lr)\n",
    "loss = MSE()"
   ]
  },
  {
   "cell_type": "code",
   "execution_count": 17,
   "id": "featured-commission",
   "metadata": {
    "execution": {
     "iopub.execute_input": "2021-07-19T00:20:42.928087Z",
     "iopub.status.busy": "2021-07-19T00:20:42.927466Z",
     "iopub.status.idle": "2021-07-19T00:20:42.941311Z",
     "shell.execute_reply": "2021-07-19T00:20:42.940808Z"
    },
    "papermill": {
     "duration": 0.051904,
     "end_time": "2021-07-19T00:20:42.941443",
     "exception": false,
     "start_time": "2021-07-19T00:20:42.889539",
     "status": "completed"
    },
    "tags": []
   },
   "outputs": [],
   "source": [
    "training_xdata = X_train\n",
    "testing_xdata = X_test\n",
    "training_ydata = y_train.reshape(-1,1)\n",
    "testing_ydata = y_test.reshape(-1,1)"
   ]
  },
  {
   "cell_type": "markdown",
   "id": "played-safety",
   "metadata": {
    "papermill": {
     "duration": 0.032697,
     "end_time": "2021-07-19T00:20:43.007907",
     "exception": false,
     "start_time": "2021-07-19T00:20:42.975210",
     "status": "completed"
    },
    "tags": []
   },
   "source": [
    "### Running Models with the Training data\n",
    "Details about the network layers:\n",
    "- A first affine layer has 784 inputs and does 100 affine transforms. These are followed by a Relu\n",
    "- A second affine layer has 100 inputs from the 100 activations of the past layer, and does 100 affine transforms. These are followed by a Relu\n",
    "- A third affine layer has 100 activations and does 2 affine transformations to create an embedding for visualization. There is no non-linearity here.\n",
    "- A final \"logistic regression\" which has an affine transform from 2 inputs to 1 output, which is squeezed through a sigmoid.\n",
    "\n",
    "Help taken from Anshuman's Notebook."
   ]
  },
  {
   "cell_type": "code",
   "execution_count": 18,
   "id": "asian-bankruptcy",
   "metadata": {
    "execution": {
     "iopub.execute_input": "2021-07-19T00:20:43.079291Z",
     "iopub.status.busy": "2021-07-19T00:20:43.078663Z",
     "iopub.status.idle": "2021-07-19T00:20:43.100453Z",
     "shell.execute_reply": "2021-07-19T00:20:43.099845Z"
    },
    "papermill": {
     "duration": 0.058721,
     "end_time": "2021-07-19T00:20:43.100640",
     "exception": false,
     "start_time": "2021-07-19T00:20:43.041919",
     "status": "completed"
    },
    "tags": []
   },
   "outputs": [],
   "source": [
    "# layers for the Neural Network\n",
    "layers = [Affine(\"first\", 784, 100), Relu(\"first\"), Affine(\"second\", 100, 100), Relu(\"second\"), Affine(\"third\", 100, 2), Affine(\"final\", 2, 1), Sigmoid(\"final\")]\n",
    "model_nn = Model(layers)\n",
    "\n",
    "# layers for the Logistic Regression\n",
    "layers_lr = [Affine(\"logits\", 784, 1), Sigmoid(\"sigmoid\")]\n",
    "model_lr = Model(layers_lr)"
   ]
  },
  {
   "cell_type": "code",
   "execution_count": 19,
   "id": "removed-butler",
   "metadata": {
    "execution": {
     "iopub.execute_input": "2021-07-19T00:20:43.173608Z",
     "iopub.status.busy": "2021-07-19T00:20:43.173007Z",
     "iopub.status.idle": "2021-07-19T00:20:43.186015Z",
     "shell.execute_reply": "2021-07-19T00:20:43.186467Z"
    },
    "papermill": {
     "duration": 0.051415,
     "end_time": "2021-07-19T00:20:43.186624",
     "exception": false,
     "start_time": "2021-07-19T00:20:43.135209",
     "status": "completed"
    },
    "tags": []
   },
   "outputs": [],
   "source": [
    "# suffix _nn stands for Neural Network.\n",
    "learner_nn = Learner(loss, model_nn, opt, config.num_epochs)\n",
    "acc_nn = ClfCallback(learner_nn, config.bs, training_xdata , testing_xdata, training_ydata, testing_ydata)\n",
    "learner_nn.set_callbacks([acc_nn])"
   ]
  },
  {
   "cell_type": "code",
   "execution_count": 20,
   "id": "conceptual-throw",
   "metadata": {
    "execution": {
     "iopub.execute_input": "2021-07-19T00:20:43.268080Z",
     "iopub.status.busy": "2021-07-19T00:20:43.267471Z",
     "iopub.status.idle": "2021-07-19T00:22:15.767605Z",
     "shell.execute_reply": "2021-07-19T00:22:15.768161Z"
    },
    "papermill": {
     "duration": 92.5475,
     "end_time": "2021-07-19T00:22:15.768313",
     "exception": false,
     "start_time": "2021-07-19T00:20:43.220813",
     "status": "completed"
    },
    "tags": []
   },
   "outputs": [
    {
     "name": "stdout",
     "output_type": "stream",
     "text": [
      "====== Neural Network ======\n"
     ]
    },
    {
     "name": "stdout",
     "output_type": "stream",
     "text": [
      "Epoch 0, Loss 0.2461\n",
      "Training Accuracy: 0.7042, Testing Accuracy: 0.7349\n",
      "\n"
     ]
    },
    {
     "name": "stdout",
     "output_type": "stream",
     "text": [
      "Epoch 10, Loss 0.0698\n",
      "Training Accuracy: 0.9327, Testing Accuracy: 0.9446\n",
      "\n"
     ]
    },
    {
     "name": "stdout",
     "output_type": "stream",
     "text": [
      "Epoch 20, Loss 0.0454\n",
      "Training Accuracy: 0.9521, Testing Accuracy: 0.9637\n",
      "\n"
     ]
    },
    {
     "name": "stdout",
     "output_type": "stream",
     "text": [
      "Epoch 30, Loss 0.0369\n",
      "Training Accuracy: 0.9609, Testing Accuracy: 0.9667\n",
      "\n"
     ]
    },
    {
     "name": "stdout",
     "output_type": "stream",
     "text": [
      "Epoch 40, Loss 0.0325\n",
      "Training Accuracy: 0.9646, Testing Accuracy: 0.9677\n",
      "\n"
     ]
    },
    {
     "name": "stdout",
     "output_type": "stream",
     "text": [
      "Epoch 50, Loss 0.0297\n",
      "Training Accuracy: 0.9674, Testing Accuracy: 0.9688\n",
      "\n"
     ]
    },
    {
     "name": "stdout",
     "output_type": "stream",
     "text": [
      "Epoch 60, Loss 0.0278\n",
      "Training Accuracy: 0.9695, Testing Accuracy: 0.9693\n",
      "\n"
     ]
    },
    {
     "name": "stdout",
     "output_type": "stream",
     "text": [
      "Epoch 70, Loss 0.0262\n",
      "Training Accuracy: 0.9710, Testing Accuracy: 0.9708\n",
      "\n"
     ]
    },
    {
     "name": "stdout",
     "output_type": "stream",
     "text": [
      "Epoch 80, Loss 0.025\n",
      "Training Accuracy: 0.9725, Testing Accuracy: 0.9718\n",
      "\n"
     ]
    },
    {
     "name": "stdout",
     "output_type": "stream",
     "text": [
      "Epoch 90, Loss 0.0239\n",
      "Training Accuracy: 0.9735, Testing Accuracy: 0.9733\n",
      "\n"
     ]
    },
    {
     "name": "stdout",
     "output_type": "stream",
     "text": [
      "Epoch 100, Loss 0.023\n",
      "Training Accuracy: 0.9746, Testing Accuracy: 0.9748\n",
      "\n"
     ]
    },
    {
     "name": "stdout",
     "output_type": "stream",
     "text": [
      "Epoch 110, Loss 0.0222\n",
      "Training Accuracy: 0.9758, Testing Accuracy: 0.9758\n",
      "\n"
     ]
    },
    {
     "name": "stdout",
     "output_type": "stream",
     "text": [
      "Epoch 120, Loss 0.0214\n",
      "Training Accuracy: 0.9766, Testing Accuracy: 0.9758\n",
      "\n"
     ]
    },
    {
     "name": "stdout",
     "output_type": "stream",
     "text": [
      "Epoch 130, Loss 0.0208\n",
      "Training Accuracy: 0.9769, Testing Accuracy: 0.9763\n",
      "\n"
     ]
    },
    {
     "name": "stdout",
     "output_type": "stream",
     "text": [
      "Epoch 140, Loss 0.0201\n",
      "Training Accuracy: 0.9781, Testing Accuracy: 0.9763\n",
      "\n"
     ]
    },
    {
     "name": "stdout",
     "output_type": "stream",
     "text": [
      "Epoch 150, Loss 0.0196\n",
      "Training Accuracy: 0.9789, Testing Accuracy: 0.9763\n",
      "\n"
     ]
    },
    {
     "name": "stdout",
     "output_type": "stream",
     "text": [
      "Epoch 160, Loss 0.019\n",
      "Training Accuracy: 0.9793, Testing Accuracy: 0.9763\n",
      "\n"
     ]
    },
    {
     "name": "stdout",
     "output_type": "stream",
     "text": [
      "Epoch 170, Loss 0.0185\n",
      "Training Accuracy: 0.9796, Testing Accuracy: 0.9763\n",
      "\n"
     ]
    },
    {
     "name": "stdout",
     "output_type": "stream",
     "text": [
      "Epoch 180, Loss 0.0181\n",
      "Training Accuracy: 0.9802, Testing Accuracy: 0.9763\n",
      "\n"
     ]
    },
    {
     "name": "stdout",
     "output_type": "stream",
     "text": [
      "Epoch 190, Loss 0.0176\n",
      "Training Accuracy: 0.9808, Testing Accuracy: 0.9763\n",
      "\n"
     ]
    },
    {
     "name": "stdout",
     "output_type": "stream",
     "text": [
      "Epoch 200, Loss 0.0172\n",
      "Training Accuracy: 0.9813, Testing Accuracy: 0.9768\n",
      "\n"
     ]
    },
    {
     "name": "stdout",
     "output_type": "stream",
     "text": [
      "Epoch 210, Loss 0.0168\n",
      "Training Accuracy: 0.9818, Testing Accuracy: 0.9768\n",
      "\n"
     ]
    },
    {
     "name": "stdout",
     "output_type": "stream",
     "text": [
      "Epoch 220, Loss 0.0164\n",
      "Training Accuracy: 0.9821, Testing Accuracy: 0.9768\n",
      "\n"
     ]
    },
    {
     "name": "stdout",
     "output_type": "stream",
     "text": [
      "Epoch 230, Loss 0.016\n",
      "Training Accuracy: 0.9824, Testing Accuracy: 0.9773\n",
      "\n"
     ]
    },
    {
     "name": "stdout",
     "output_type": "stream",
     "text": [
      "Epoch 240, Loss 0.0157\n",
      "Training Accuracy: 0.9828, Testing Accuracy: 0.9788\n",
      "\n"
     ]
    },
    {
     "name": "stdout",
     "output_type": "stream",
     "text": [
      "Epoch 250, Loss 0.0153\n",
      "Training Accuracy: 0.9831, Testing Accuracy: 0.9793\n",
      "\n"
     ]
    },
    {
     "data": {
      "text/plain": [
       "0.03970778593296814"
      ]
     },
     "execution_count": 20,
     "metadata": {},
     "output_type": "execute_result"
    }
   ],
   "source": [
    "print(\"====== Neural Network ======\")\n",
    "learner_nn.train_loop(dl)"
   ]
  },
  {
   "cell_type": "markdown",
   "id": "competent-suffering",
   "metadata": {
    "papermill": {
     "duration": 0.041108,
     "end_time": "2021-07-19T00:22:15.853129",
     "exception": false,
     "start_time": "2021-07-19T00:22:15.812021",
     "status": "completed"
    },
    "tags": []
   },
   "source": [
    "### Logistic Regression based Implementation."
   ]
  },
  {
   "cell_type": "code",
   "execution_count": 21,
   "id": "qualified-psychiatry",
   "metadata": {
    "execution": {
     "iopub.execute_input": "2021-07-19T00:22:15.943942Z",
     "iopub.status.busy": "2021-07-19T00:22:15.943306Z",
     "iopub.status.idle": "2021-07-19T00:22:15.955477Z",
     "shell.execute_reply": "2021-07-19T00:22:15.954957Z"
    },
    "papermill": {
     "duration": 0.062273,
     "end_time": "2021-07-19T00:22:15.955606",
     "exception": false,
     "start_time": "2021-07-19T00:22:15.893333",
     "status": "completed"
    },
    "tags": []
   },
   "outputs": [],
   "source": [
    "learner_lr = Learner(loss, model_lr, opt, config.num_epochs)\n",
    "acc_lr = ClfCallback(learner_lr, config.bs, training_xdata , testing_xdata, training_ydata, testing_ydata)\n",
    "learner_lr.set_callbacks([acc_lr])"
   ]
  },
  {
   "cell_type": "code",
   "execution_count": 22,
   "id": "average-outside",
   "metadata": {
    "execution": {
     "iopub.execute_input": "2021-07-19T00:22:16.045313Z",
     "iopub.status.busy": "2021-07-19T00:22:16.044680Z",
     "iopub.status.idle": "2021-07-19T00:22:32.664784Z",
     "shell.execute_reply": "2021-07-19T00:22:32.665353Z"
    },
    "papermill": {
     "duration": 16.668296,
     "end_time": "2021-07-19T00:22:32.665506",
     "exception": false,
     "start_time": "2021-07-19T00:22:15.997210",
     "status": "completed"
    },
    "tags": []
   },
   "outputs": [
    {
     "name": "stdout",
     "output_type": "stream",
     "text": [
      "====== Logistic Regression ======\n",
      "Epoch 0, Loss 0.2292\n",
      "Training Accuracy: 0.7375, Testing Accuracy: 0.7414\n",
      "\n"
     ]
    },
    {
     "name": "stdout",
     "output_type": "stream",
     "text": [
      "Epoch 10, Loss 0.101\n",
      "Training Accuracy: 0.9161, Testing Accuracy: 0.9259\n",
      "\n"
     ]
    },
    {
     "name": "stdout",
     "output_type": "stream",
     "text": [
      "Epoch 20, Loss 0.0779\n",
      "Training Accuracy: 0.9304, Testing Accuracy: 0.9420\n",
      "\n"
     ]
    },
    {
     "name": "stdout",
     "output_type": "stream",
     "text": [
      "Epoch 30, Loss 0.0673\n",
      "Training Accuracy: 0.9381, Testing Accuracy: 0.9471\n",
      "\n"
     ]
    },
    {
     "name": "stdout",
     "output_type": "stream",
     "text": [
      "Epoch 40, Loss 0.0609\n",
      "Training Accuracy: 0.9423, Testing Accuracy: 0.9501\n",
      "\n"
     ]
    },
    {
     "name": "stdout",
     "output_type": "stream",
     "text": [
      "Epoch 50, Loss 0.0565\n",
      "Training Accuracy: 0.9454, Testing Accuracy: 0.9556\n",
      "\n"
     ]
    },
    {
     "name": "stdout",
     "output_type": "stream",
     "text": [
      "Epoch 60, Loss 0.0533\n",
      "Training Accuracy: 0.9476, Testing Accuracy: 0.9582\n",
      "\n"
     ]
    },
    {
     "name": "stdout",
     "output_type": "stream",
     "text": [
      "Epoch 70, Loss 0.0508\n",
      "Training Accuracy: 0.9499, Testing Accuracy: 0.9597\n",
      "\n"
     ]
    },
    {
     "name": "stdout",
     "output_type": "stream",
     "text": [
      "Epoch 80, Loss 0.0488\n",
      "Training Accuracy: 0.9509, Testing Accuracy: 0.9607\n",
      "\n"
     ]
    },
    {
     "name": "stdout",
     "output_type": "stream",
     "text": [
      "Epoch 90, Loss 0.0472\n",
      "Training Accuracy: 0.9527, Testing Accuracy: 0.9617\n",
      "\n"
     ]
    },
    {
     "name": "stdout",
     "output_type": "stream",
     "text": [
      "Epoch 100, Loss 0.0458\n",
      "Training Accuracy: 0.9537, Testing Accuracy: 0.9627\n",
      "\n"
     ]
    },
    {
     "name": "stdout",
     "output_type": "stream",
     "text": [
      "Epoch 110, Loss 0.0446\n",
      "Training Accuracy: 0.9551, Testing Accuracy: 0.9637\n",
      "\n"
     ]
    },
    {
     "name": "stdout",
     "output_type": "stream",
     "text": [
      "Epoch 120, Loss 0.0436\n",
      "Training Accuracy: 0.9560, Testing Accuracy: 0.9637\n",
      "\n"
     ]
    },
    {
     "name": "stdout",
     "output_type": "stream",
     "text": [
      "Epoch 130, Loss 0.0427\n",
      "Training Accuracy: 0.9568, Testing Accuracy: 0.9632\n",
      "\n"
     ]
    },
    {
     "name": "stdout",
     "output_type": "stream",
     "text": [
      "Epoch 140, Loss 0.0418\n",
      "Training Accuracy: 0.9568, Testing Accuracy: 0.9637\n",
      "\n"
     ]
    },
    {
     "name": "stdout",
     "output_type": "stream",
     "text": [
      "Epoch 150, Loss 0.0411\n",
      "Training Accuracy: 0.9574, Testing Accuracy: 0.9647\n",
      "\n"
     ]
    },
    {
     "name": "stdout",
     "output_type": "stream",
     "text": [
      "Epoch 160, Loss 0.0405\n",
      "Training Accuracy: 0.9582, Testing Accuracy: 0.9647\n",
      "\n"
     ]
    },
    {
     "name": "stdout",
     "output_type": "stream",
     "text": [
      "Epoch 170, Loss 0.0399\n",
      "Training Accuracy: 0.9590, Testing Accuracy: 0.9647\n",
      "\n"
     ]
    },
    {
     "name": "stdout",
     "output_type": "stream",
     "text": [
      "Epoch 180, Loss 0.0393\n",
      "Training Accuracy: 0.9594, Testing Accuracy: 0.9647\n",
      "\n"
     ]
    },
    {
     "name": "stdout",
     "output_type": "stream",
     "text": [
      "Epoch 190, Loss 0.0388\n",
      "Training Accuracy: 0.9599, Testing Accuracy: 0.9647\n",
      "\n"
     ]
    },
    {
     "name": "stdout",
     "output_type": "stream",
     "text": [
      "Epoch 200, Loss 0.0383\n",
      "Training Accuracy: 0.9602, Testing Accuracy: 0.9647\n",
      "\n"
     ]
    },
    {
     "name": "stdout",
     "output_type": "stream",
     "text": [
      "Epoch 210, Loss 0.0379\n",
      "Training Accuracy: 0.9609, Testing Accuracy: 0.9642\n",
      "\n"
     ]
    },
    {
     "name": "stdout",
     "output_type": "stream",
     "text": [
      "Epoch 220, Loss 0.0375\n",
      "Training Accuracy: 0.9610, Testing Accuracy: 0.9647\n",
      "\n"
     ]
    },
    {
     "name": "stdout",
     "output_type": "stream",
     "text": [
      "Epoch 230, Loss 0.0371\n",
      "Training Accuracy: 0.9611, Testing Accuracy: 0.9647\n",
      "\n"
     ]
    },
    {
     "name": "stdout",
     "output_type": "stream",
     "text": [
      "Epoch 240, Loss 0.0368\n",
      "Training Accuracy: 0.9613, Testing Accuracy: 0.9657\n",
      "\n"
     ]
    },
    {
     "name": "stdout",
     "output_type": "stream",
     "text": [
      "Epoch 250, Loss 0.0364\n",
      "Training Accuracy: 0.9617, Testing Accuracy: 0.9662\n",
      "\n"
     ]
    },
    {
     "data": {
      "text/plain": [
       "0.039220766662902085"
      ]
     },
     "execution_count": 22,
     "metadata": {},
     "output_type": "execute_result"
    }
   ],
   "source": [
    "print(\"====== Logistic Regression ======\")\n",
    "learner_lr.train_loop(dl)"
   ]
  },
  {
   "cell_type": "markdown",
   "id": "adjusted-possible",
   "metadata": {
    "papermill": {
     "duration": 0.048261,
     "end_time": "2021-07-19T00:22:32.764381",
     "exception": false,
     "start_time": "2021-07-19T00:22:32.716120",
     "status": "completed"
    },
    "tags": []
   },
   "source": [
    "### Comparing results of NN and LR"
   ]
  },
  {
   "cell_type": "code",
   "execution_count": 23,
   "id": "mental-multimedia",
   "metadata": {
    "execution": {
     "iopub.execute_input": "2021-07-19T00:22:32.866653Z",
     "iopub.status.busy": "2021-07-19T00:22:32.865988Z",
     "iopub.status.idle": "2021-07-19T00:22:33.171433Z",
     "shell.execute_reply": "2021-07-19T00:22:33.170906Z"
    },
    "papermill": {
     "duration": 0.358784,
     "end_time": "2021-07-19T00:22:33.171564",
     "exception": false,
     "start_time": "2021-07-19T00:22:32.812780",
     "status": "completed"
    },
    "tags": []
   },
   "outputs": [
    {
     "data": {
      "text/plain": [
       "<matplotlib.legend.Legend at 0x7f575fec6198>"
      ]
     },
     "execution_count": 23,
     "metadata": {},
     "output_type": "execute_result"
    },
    {
     "data": {
      "image/png": "[encoded data removed]",
      "text/plain": [
       "<Figure size 1080x720 with 1 Axes>"
      ]
     },
     "metadata": {
      "needs_background": "light"
     },
     "output_type": "display_data"
    }
   ],
   "source": [
    "plt.figure(figsize=(15,10))\n",
    "\n",
    "# Neural Network plots\n",
    "plt.plot(acc_nn.accuracies, 'r-', label = \"Training Accuracies - NN\")\n",
    "plt.plot(acc_nn.test_accuracies, 'g-', label = \"Testing Accuracies - NN\")\n",
    "\n",
    "# Logistic Regression plots\n",
    "plt.plot(acc_lr.accuracies, 'k-', label = \"Training Accuracies - LR\")\n",
    "plt.plot(acc_lr.test_accuracies, 'b-', label = \"Testing Accuracies - LR\")\n",
    "\n",
    "plt.ylim(0.8, 1)\n",
    "\n",
    "plt.legend()\n",
    "\n"
   ]
  },
  {
   "cell_type": "markdown",
   "id": "sexual-flesh",
   "metadata": {
    "papermill": {
     "duration": 0.053111,
     "end_time": "2021-07-19T00:22:33.277485",
     "exception": false,
     "start_time": "2021-07-19T00:22:33.224374",
     "status": "completed"
    },
    "tags": []
   },
   "source": [
    "### From the plot, we can observe the following:\n",
    "- Neural Network achieves higher accuracy than the Logistic Regression model.\n",
    "- This apparently, is because of overfitting, i.e. NN captures more noise than data.\n",
    "- Testing accuracy of NN drops below the Training accuracy at higher epochs. This explains the over-fitting on training data.\n",
    "- Logistic Regression gives a reliable accuracy, without the above mentioned problem.\n"
   ]
  },
  {
   "cell_type": "markdown",
   "id": "institutional-pacific",
   "metadata": {
    "papermill": {
     "duration": 0.051858,
     "end_time": "2021-07-19T00:22:33.388253",
     "exception": false,
     "start_time": "2021-07-19T00:22:33.336395",
     "status": "completed"
    },
    "tags": []
   },
   "source": [
    "### Moving till the last but one layer (excluding it).\n",
    "#### Plotting the outputs of this layer of the NN."
   ]
  },
  {
   "cell_type": "code",
   "execution_count": 24,
   "id": "economic-server",
   "metadata": {
    "execution": {
     "iopub.execute_input": "2021-07-19T00:22:33.498899Z",
     "iopub.status.busy": "2021-07-19T00:22:33.498287Z",
     "iopub.status.idle": "2021-07-19T00:22:33.515412Z",
     "shell.execute_reply": "2021-07-19T00:22:33.514830Z"
    },
    "papermill": {
     "duration": 0.07347,
     "end_time": "2021-07-19T00:22:33.515538",
     "exception": false,
     "start_time": "2021-07-19T00:22:33.442068",
     "status": "completed"
    },
    "tags": []
   },
   "outputs": [],
   "source": [
    "model_new = Model(layers[:-2])"
   ]
  },
  {
   "cell_type": "code",
   "execution_count": 25,
   "id": "varied-upgrade",
   "metadata": {
    "execution": {
     "iopub.execute_input": "2021-07-19T00:22:33.661291Z",
     "iopub.status.busy": "2021-07-19T00:22:33.660591Z",
     "iopub.status.idle": "2021-07-19T00:22:33.689193Z",
     "shell.execute_reply": "2021-07-19T00:22:33.688496Z"
    },
    "papermill": {
     "duration": 0.121543,
     "end_time": "2021-07-19T00:22:33.689334",
     "exception": false,
     "start_time": "2021-07-19T00:22:33.567791",
     "status": "completed"
    },
    "tags": []
   },
   "outputs": [],
   "source": [
    "plot_testing = model_new(testing_xdata)"
   ]
  },
  {
   "cell_type": "code",
   "execution_count": 26,
   "id": "specific-handling",
   "metadata": {
    "execution": {
     "iopub.execute_input": "2021-07-19T00:22:33.816621Z",
     "iopub.status.busy": "2021-07-19T00:22:33.813434Z",
     "iopub.status.idle": "2021-07-19T00:22:34.073144Z",
     "shell.execute_reply": "2021-07-19T00:22:34.073599Z"
    },
    "papermill": {
     "duration": 0.31835,
     "end_time": "2021-07-19T00:22:34.073759",
     "exception": false,
     "start_time": "2021-07-19T00:22:33.755409",
     "status": "completed"
    },
    "tags": []
   },
   "outputs": [
    {
     "data": {
      "text/plain": [
       "Text(0.5, 1.0, 'Outputs')"
      ]
     },
     "execution_count": 26,
     "metadata": {},
     "output_type": "execute_result"
    },
    {
     "data": {
      "image/png": "[encoded data removed]",
      "text/plain": [
       "<Figure size 576x504 with 1 Axes>"
      ]
     },
     "metadata": {
      "needs_background": "light"
     },
     "output_type": "display_data"
    }
   ],
   "source": [
    "plt.figure(figsize=(8,7))\n",
    "plt.scatter(plot_testing[:,0], plot_testing[:,1], alpha = 0.1, c = y_test.ravel());\n",
    "plt.title('Outputs')"
   ]
  },
  {
   "cell_type": "markdown",
   "id": "described-knowing",
   "metadata": {
    "papermill": {
     "duration": 0.057181,
     "end_time": "2021-07-19T00:22:34.187276",
     "exception": false,
     "start_time": "2021-07-19T00:22:34.130095",
     "status": "completed"
    },
    "tags": []
   },
   "source": [
    "### Plotting probability contours"
   ]
  },
  {
   "cell_type": "code",
   "execution_count": 27,
   "id": "needed-growing",
   "metadata": {
    "execution": {
     "iopub.execute_input": "2021-07-19T00:22:34.309461Z",
     "iopub.status.busy": "2021-07-19T00:22:34.308624Z",
     "iopub.status.idle": "2021-07-19T00:22:34.321771Z",
     "shell.execute_reply": "2021-07-19T00:22:34.322330Z"
    },
    "papermill": {
     "duration": 0.080712,
     "end_time": "2021-07-19T00:22:34.322483",
     "exception": false,
     "start_time": "2021-07-19T00:22:34.241771",
     "status": "completed"
    },
    "tags": []
   },
   "outputs": [],
   "source": [
    "model_prob = Model(layers[-2:]) "
   ]
  },
  {
   "cell_type": "code",
   "execution_count": 28,
   "id": "introductory-enforcement",
   "metadata": {
    "execution": {
     "iopub.execute_input": "2021-07-19T00:22:34.443628Z",
     "iopub.status.busy": "2021-07-19T00:22:34.442997Z",
     "iopub.status.idle": "2021-07-19T00:22:34.458531Z",
     "shell.execute_reply": "2021-07-19T00:22:34.459057Z"
    },
    "papermill": {
     "duration": 0.082088,
     "end_time": "2021-07-19T00:22:34.459236",
     "exception": false,
     "start_time": "2021-07-19T00:22:34.377148",
     "status": "completed"
    },
    "tags": []
   },
   "outputs": [],
   "source": [
    "# Adjust the x and y ranges according to the above generated plot.\n",
    "x_range = np.linspace(-4, 1, 100) \n",
    "y_range = np.linspace(-6, 6, 100) \n",
    "x_grid, y_grid = np.meshgrid(x_range, y_range) # x_grid and y_grig are of size 100 X 100\n",
    "\n",
    "# converting x_grid and y_grid to continuous arrays\n",
    "x_grid_flat = np.ravel(x_grid)\n",
    "y_grid_flat = np.ravel(y_grid)\n",
    "\n",
    "# The last layer of the current model takes two columns as input. Hence transpose of np.vstack() is required.\n",
    "X = np.vstack((x_grid_flat, y_grid_flat)).T\n",
    "\n",
    "# x_grid and y_grid are of size 100 x 100\n",
    "probability_contour = model_prob(X).reshape(100,100) "
   ]
  },
  {
   "cell_type": "code",
   "execution_count": 29,
   "id": "understood-landing",
   "metadata": {
    "execution": {
     "iopub.execute_input": "2021-07-19T00:22:34.590210Z",
     "iopub.status.busy": "2021-07-19T00:22:34.589599Z",
     "iopub.status.idle": "2021-07-19T00:22:34.883534Z",
     "shell.execute_reply": "2021-07-19T00:22:34.882670Z"
    },
    "papermill": {
     "duration": 0.364183,
     "end_time": "2021-07-19T00:22:34.883751",
     "exception": false,
     "start_time": "2021-07-19T00:22:34.519568",
     "status": "completed"
    },
    "tags": []
   },
   "outputs": [
    {
     "data": {
      "image/png": "[encoded data removed]",
      "text/plain": [
       "<Figure size 720x648 with 1 Axes>"
      ]
     },
     "metadata": {
      "needs_background": "light"
     },
     "output_type": "display_data"
    }
   ],
   "source": [
    "plt.figure(figsize=(10,9))\n",
    "plt.scatter(plot_testing[:,0], plot_testing[:,1], alpha = 0.1, c = y_test.ravel())\n",
    "contours = plt.contour(x_grid,y_grid,probability_contour)\n",
    "plt.title('Probability Contours')\n",
    "plt.clabel(contours, inline = True );"
   ]
  }
 ],
 "metadata": {
  "kernelspec": {
   "display_name": "Python 3",
   "language": "python",
   "name": "python3"
  },
  "language_info": {
   "codemirror_mode": {
    "name": "ipython",
    "version": 3
   },
   "file_extension": ".py",
   "mimetype": "text/x-python",
   "name": "python",
   "nbconvert_exporter": "python",
   "pygments_lexer": "ipython3",
   "version": "3.6.14"
  },
  "papermill": {
   "duration": 417.497958,
   "end_time": "2021-07-19T00:22:36.267776",
   "environment_variables": {},
   "exception": null,
   "input_path": "2020-08-11-NeuralNetwork.ipynb",
   "output_path": "2020-08-11-NeuralNetwork.ipynb",
   "parameters": {},
   "start_time": "2021-07-19T00:15:38.769818",
   "version": "2.1.2"
  }
 },
 "nbformat": 4,
 "nbformat_minor": 5
}