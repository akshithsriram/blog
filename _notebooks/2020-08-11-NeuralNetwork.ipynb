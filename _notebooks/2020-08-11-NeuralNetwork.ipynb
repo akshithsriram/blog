{
 "cells": [
  {
   "cell_type": "markdown",
   "metadata": {
    "papermill": {
     "duration": 0.031694,
     "end_time": "2020-10-01T10:07:45.853351",
     "exception": false,
     "start_time": "2020-10-01T10:07:45.821657",
     "status": "completed"
    },
    "tags": []
   },
   "source": [
    "# \"A Basic Neural Network: Differentiate Hand-Written Digits\"\n",
    "\n",
    "- badges: true\n",
    "- author: Akshith Sriram"
   ]
  },
  {
   "cell_type": "markdown",
   "metadata": {
    "papermill": {
     "duration": 0.026536,
     "end_time": "2020-10-01T10:07:45.907203",
     "exception": false,
     "start_time": "2020-10-01T10:07:45.880667",
     "status": "completed"
    },
    "tags": []
   },
   "source": [
    "### Key Objectives:\n",
    "- Building a neural network that differentiates two hand-written digits 3 and 8.\n",
    "- Comparing the results of this Neural Network (NN) to that of a Logistic Regression (LR) model.\n",
    "\n",
    "### Requirements:\n",
    "- 'Kudzu' : A neural network library that was designed during our course by [Univ.AI](www.univ.ai). \n",
    "- MNIST Database\n",
    "\n",
    "If MNIST is not installed, use the command `!pip install mnist` given below.\n",
    "It can be run both from the command line and Jupyter Notebook."
   ]
  },
  {
   "cell_type": "code",
   "execution_count": 1,
   "metadata": {
    "execution": {
     "iopub.execute_input": "2020-10-01T10:07:45.967163Z",
     "iopub.status.busy": "2020-10-01T10:07:45.966472Z",
     "iopub.status.idle": "2020-10-01T10:07:47.498453Z",
     "shell.execute_reply": "2020-10-01T10:07:47.497848Z"
    },
    "papermill": {
     "duration": 1.564039,
     "end_time": "2020-10-01T10:07:47.498648",
     "exception": false,
     "start_time": "2020-10-01T10:07:45.934609",
     "status": "completed"
    },
    "tags": []
   },
   "outputs": [
    {
     "name": "stdout",
     "output_type": "stream",
     "text": [
      "Collecting mnist\r\n",
      "  Downloading mnist-0.2.2-py2.py3-none-any.whl (3.5 kB)\r\n"
     ]
    },
    {
     "name": "stdout",
     "output_type": "stream",
     "text": [
      "Requirement already satisfied: numpy in /opt/hostedtoolcache/Python/3.6.12/x64/lib/python3.6/site-packages (from mnist) (1.19.2)\r\n"
     ]
    },
    {
     "name": "stdout",
     "output_type": "stream",
     "text": [
      "Installing collected packages: mnist\r\n"
     ]
    },
    {
     "name": "stdout",
     "output_type": "stream",
     "text": [
      "Successfully installed mnist-0.2.2\r\n"
     ]
    }
   ],
   "source": [
    "!pip install mnist "
   ]
  },
  {
   "cell_type": "markdown",
   "metadata": {
    "papermill": {
     "duration": 0.029587,
     "end_time": "2020-10-01T10:07:47.556781",
     "exception": false,
     "start_time": "2020-10-01T10:07:47.527194",
     "status": "completed"
    },
    "tags": []
   },
   "source": [
    "#### Importing necessary libraries"
   ]
  },
  {
   "cell_type": "code",
   "execution_count": 2,
   "metadata": {
    "execution": {
     "iopub.execute_input": "2020-10-01T10:07:47.623613Z",
     "iopub.status.busy": "2020-10-01T10:07:47.622926Z",
     "iopub.status.idle": "2020-10-01T10:07:48.227752Z",
     "shell.execute_reply": "2020-10-01T10:07:48.227162Z"
    },
    "papermill": {
     "duration": 0.640059,
     "end_time": "2020-10-01T10:07:48.227906",
     "exception": false,
     "start_time": "2020-10-01T10:07:47.587847",
     "status": "completed"
    },
    "tags": []
   },
   "outputs": [],
   "source": [
    "%load_ext autoreload\n",
    "%autoreload 2\n",
    "\n",
    "%matplotlib inline\n",
    "import matplotlib.pyplot as plt\n",
    "\n",
    "import numpy as np\n",
    "import pandas as pd"
   ]
  },
  {
   "cell_type": "markdown",
   "metadata": {
    "papermill": {
     "duration": 0.028659,
     "end_time": "2020-10-01T10:07:48.285426",
     "exception": false,
     "start_time": "2020-10-01T10:07:48.256767",
     "status": "completed"
    },
    "tags": []
   },
   "source": [
    "### Preparing the Data"
   ]
  },
  {
   "cell_type": "code",
   "execution_count": 3,
   "metadata": {
    "execution": {
     "iopub.execute_input": "2020-10-01T10:07:48.358271Z",
     "iopub.status.busy": "2020-10-01T10:07:48.357373Z",
     "iopub.status.idle": "2020-10-01T10:07:48.362934Z",
     "shell.execute_reply": "2020-10-01T10:07:48.363462Z"
    },
    "papermill": {
     "duration": 0.049747,
     "end_time": "2020-10-01T10:07:48.363609",
     "exception": false,
     "start_time": "2020-10-01T10:07:48.313862",
     "status": "completed"
    },
    "tags": []
   },
   "outputs": [],
   "source": [
    "import mnist"
   ]
  },
  {
   "cell_type": "code",
   "execution_count": 4,
   "metadata": {
    "execution": {
     "iopub.execute_input": "2020-10-01T10:07:48.424571Z",
     "iopub.status.busy": "2020-10-01T10:07:48.423888Z",
     "iopub.status.idle": "2020-10-01T10:07:49.173326Z",
     "shell.execute_reply": "2020-10-01T10:07:49.172698Z"
    },
    "papermill": {
     "duration": 0.781432,
     "end_time": "2020-10-01T10:07:49.173476",
     "exception": false,
     "start_time": "2020-10-01T10:07:48.392044",
     "status": "completed"
    },
    "tags": []
   },
   "outputs": [],
   "source": [
    "train_images = mnist.train_images()\n",
    "train_labels = mnist.train_labels()"
   ]
  },
  {
   "cell_type": "code",
   "execution_count": 5,
   "metadata": {
    "execution": {
     "iopub.execute_input": "2020-10-01T10:07:49.243069Z",
     "iopub.status.busy": "2020-10-01T10:07:49.235790Z",
     "iopub.status.idle": "2020-10-01T10:07:49.253383Z",
     "shell.execute_reply": "2020-10-01T10:07:49.253921Z"
    },
    "papermill": {
     "duration": 0.051763,
     "end_time": "2020-10-01T10:07:49.254069",
     "exception": false,
     "start_time": "2020-10-01T10:07:49.202306",
     "status": "completed"
    },
    "tags": []
   },
   "outputs": [
    {
     "data": {
      "text/plain": [
       "((60000, 28, 28), (60000,))"
      ]
     },
     "execution_count": 5,
     "metadata": {},
     "output_type": "execute_result"
    }
   ],
   "source": [
    "train_images.shape, train_labels.shape"
   ]
  },
  {
   "cell_type": "code",
   "execution_count": 6,
   "metadata": {
    "execution": {
     "iopub.execute_input": "2020-10-01T10:07:49.317899Z",
     "iopub.status.busy": "2020-10-01T10:07:49.317264Z",
     "iopub.status.idle": "2020-10-01T10:07:49.592646Z",
     "shell.execute_reply": "2020-10-01T10:07:49.592023Z"
    },
    "papermill": {
     "duration": 0.308968,
     "end_time": "2020-10-01T10:07:49.592811",
     "exception": false,
     "start_time": "2020-10-01T10:07:49.283843",
     "status": "completed"
    },
    "tags": []
   },
   "outputs": [],
   "source": [
    "test_images = mnist.test_images()\n",
    "test_labels = mnist.test_labels()"
   ]
  },
  {
   "cell_type": "code",
   "execution_count": 7,
   "metadata": {
    "execution": {
     "iopub.execute_input": "2020-10-01T10:07:49.657839Z",
     "iopub.status.busy": "2020-10-01T10:07:49.655409Z",
     "iopub.status.idle": "2020-10-01T10:07:49.669661Z",
     "shell.execute_reply": "2020-10-01T10:07:49.669090Z"
    },
    "papermill": {
     "duration": 0.047727,
     "end_time": "2020-10-01T10:07:49.669808",
     "exception": false,
     "start_time": "2020-10-01T10:07:49.622081",
     "status": "completed"
    },
    "tags": []
   },
   "outputs": [
    {
     "data": {
      "text/plain": [
       "((10000, 28, 28), (10000,))"
      ]
     },
     "execution_count": 7,
     "metadata": {},
     "output_type": "execute_result"
    }
   ],
   "source": [
    "test_images.shape, test_labels.shape"
   ]
  },
  {
   "cell_type": "code",
   "execution_count": 8,
   "metadata": {
    "execution": {
     "iopub.execute_input": "2020-10-01T10:07:49.741118Z",
     "iopub.status.busy": "2020-10-01T10:07:49.740435Z",
     "iopub.status.idle": "2020-10-01T10:07:49.912040Z",
     "shell.execute_reply": "2020-10-01T10:07:49.911295Z"
    },
    "papermill": {
     "duration": 0.213333,
     "end_time": "2020-10-01T10:07:49.912189",
     "exception": false,
     "start_time": "2020-10-01T10:07:49.698856",
     "status": "completed"
    },
    "tags": []
   },
   "outputs": [
    {
     "name": "stdout",
     "output_type": "stream",
     "text": [
      "2\n"
     ]
    },
    {
     "data": {
      "text/plain": [
       "<matplotlib.image.AxesImage at 0x7f57de1757f0>"
      ]
     },
     "execution_count": 8,
     "metadata": {},
     "output_type": "execute_result"
    },
    {
     "data": {
      "image/png": "[encoded data removed]",
      "text/plain": [
       "<Figure size 432x288 with 1 Axes>"
      ]
     },
     "metadata": {
      "needs_background": "light"
     },
     "output_type": "display_data"
    }
   ],
   "source": [
    "image_index = 7776 # You may select anything up to 60,000\n",
    "print(train_labels[image_index]) \n",
    "plt.imshow(train_images[image_index], cmap='Greys')"
   ]
  },
  {
   "cell_type": "markdown",
   "metadata": {
    "papermill": {
     "duration": 0.155873,
     "end_time": "2020-10-01T10:07:50.409795",
     "exception": false,
     "start_time": "2020-10-01T10:07:50.253922",
     "status": "completed"
    },
    "tags": []
   },
   "source": [
    "## Filter data to get 3 and 8 out"
   ]
  },
  {
   "cell_type": "code",
   "execution_count": 9,
   "metadata": {
    "execution": {
     "iopub.execute_input": "2020-10-01T10:07:50.493508Z",
     "iopub.status.busy": "2020-10-01T10:07:50.485842Z",
     "iopub.status.idle": "2020-10-01T10:07:50.499166Z",
     "shell.execute_reply": "2020-10-01T10:07:50.498595Z"
    },
    "papermill": {
     "duration": 0.058408,
     "end_time": "2020-10-01T10:07:50.499322",
     "exception": false,
     "start_time": "2020-10-01T10:07:50.440914",
     "status": "completed"
    },
    "tags": []
   },
   "outputs": [],
   "source": [
    "train_filter = np.where((train_labels == 3 ) | (train_labels == 8))\n",
    "test_filter = np.where((test_labels == 3) | (test_labels == 8))\n",
    "X_train, y_train = train_images[train_filter], train_labels[train_filter]\n",
    "X_test, y_test = test_images[test_filter], test_labels[test_filter]"
   ]
  },
  {
   "cell_type": "markdown",
   "metadata": {
    "papermill": {
     "duration": 0.030164,
     "end_time": "2020-10-01T10:07:50.559874",
     "exception": false,
     "start_time": "2020-10-01T10:07:50.529710",
     "status": "completed"
    },
    "tags": []
   },
   "source": [
    "We normalize the pixel values in the 0 to 1 range"
   ]
  },
  {
   "cell_type": "code",
   "execution_count": 10,
   "metadata": {
    "execution": {
     "iopub.execute_input": "2020-10-01T10:07:50.653371Z",
     "iopub.status.busy": "2020-10-01T10:07:50.646462Z",
     "iopub.status.idle": "2020-10-01T10:07:50.700238Z",
     "shell.execute_reply": "2020-10-01T10:07:50.700788Z"
    },
    "papermill": {
     "duration": 0.110353,
     "end_time": "2020-10-01T10:07:50.700987",
     "exception": false,
     "start_time": "2020-10-01T10:07:50.590634",
     "status": "completed"
    },
    "tags": []
   },
   "outputs": [],
   "source": [
    "X_train = X_train/255.\n",
    "X_test = X_test/255."
   ]
  },
  {
   "cell_type": "markdown",
   "metadata": {
    "papermill": {
     "duration": 0.029707,
     "end_time": "2020-10-01T10:07:50.762182",
     "exception": false,
     "start_time": "2020-10-01T10:07:50.732475",
     "status": "completed"
    },
    "tags": []
   },
   "source": [
    "Setup the labels as 1 (when the digit is 3) and 0 (when the digit is 8)"
   ]
  },
  {
   "cell_type": "code",
   "execution_count": 11,
   "metadata": {
    "execution": {
     "iopub.execute_input": "2020-10-01T10:07:50.826707Z",
     "iopub.status.busy": "2020-10-01T10:07:50.826030Z",
     "iopub.status.idle": "2020-10-01T10:07:50.839148Z",
     "shell.execute_reply": "2020-10-01T10:07:50.838586Z"
    },
    "papermill": {
     "duration": 0.046616,
     "end_time": "2020-10-01T10:07:50.839283",
     "exception": false,
     "start_time": "2020-10-01T10:07:50.792667",
     "status": "completed"
    },
    "tags": []
   },
   "outputs": [],
   "source": [
    "y_train = 1*(y_train==3)\n",
    "y_test = 1*(y_test==3)"
   ]
  },
  {
   "cell_type": "code",
   "execution_count": 12,
   "metadata": {
    "execution": {
     "iopub.execute_input": "2020-10-01T10:07:50.906253Z",
     "iopub.status.busy": "2020-10-01T10:07:50.905593Z",
     "iopub.status.idle": "2020-10-01T10:07:50.917180Z",
     "shell.execute_reply": "2020-10-01T10:07:50.917713Z"
    },
    "papermill": {
     "duration": 0.048122,
     "end_time": "2020-10-01T10:07:50.917862",
     "exception": false,
     "start_time": "2020-10-01T10:07:50.869740",
     "status": "completed"
    },
    "tags": []
   },
   "outputs": [
    {
     "data": {
      "text/plain": [
       "((11982, 28, 28), (1984, 28, 28))"
      ]
     },
     "execution_count": 12,
     "metadata": {},
     "output_type": "execute_result"
    }
   ],
   "source": [
    "X_train.shape, X_test.shape"
   ]
  },
  {
   "cell_type": "markdown",
   "metadata": {
    "papermill": {
     "duration": 0.033327,
     "end_time": "2020-10-01T10:07:50.982491",
     "exception": false,
     "start_time": "2020-10-01T10:07:50.949164",
     "status": "completed"
    },
    "tags": []
   },
   "source": [
    "### Reshape the input data to create a linear array"
   ]
  },
  {
   "cell_type": "code",
   "execution_count": 13,
   "metadata": {
    "execution": {
     "iopub.execute_input": "2020-10-01T10:07:51.060807Z",
     "iopub.status.busy": "2020-10-01T10:07:51.060125Z",
     "iopub.status.idle": "2020-10-01T10:07:51.068010Z",
     "shell.execute_reply": "2020-10-01T10:07:51.068572Z"
    },
    "papermill": {
     "duration": 0.054554,
     "end_time": "2020-10-01T10:07:51.068722",
     "exception": false,
     "start_time": "2020-10-01T10:07:51.014168",
     "status": "completed"
    },
    "tags": []
   },
   "outputs": [
    {
     "data": {
      "text/plain": [
       "((11982, 784), (1984, 784))"
      ]
     },
     "execution_count": 13,
     "metadata": {},
     "output_type": "execute_result"
    }
   ],
   "source": [
    "X_train = X_train.reshape(X_train.shape[0], -1)\n",
    "X_test = X_test.reshape(X_test.shape[0], -1)\n",
    "X_train.shape, X_test.shape"
   ]
  },
  {
   "cell_type": "markdown",
   "metadata": {
    "papermill": {
     "duration": 0.031086,
     "end_time": "2020-10-01T10:07:51.129743",
     "exception": false,
     "start_time": "2020-10-01T10:07:51.098657",
     "status": "completed"
    },
    "tags": []
   },
   "source": [
    "### Importing appropriate functions from 'Kudzu'"
   ]
  },
  {
   "cell_type": "code",
   "execution_count": 14,
   "metadata": {
    "execution": {
     "iopub.execute_input": "2020-10-01T10:07:51.199411Z",
     "iopub.status.busy": "2020-10-01T10:07:51.198761Z",
     "iopub.status.idle": "2020-10-01T10:07:51.218275Z",
     "shell.execute_reply": "2020-10-01T10:07:51.218928Z"
    },
    "papermill": {
     "duration": 0.057266,
     "end_time": "2020-10-01T10:07:51.219090",
     "exception": false,
     "start_time": "2020-10-01T10:07:51.161824",
     "status": "completed"
    },
    "tags": []
   },
   "outputs": [],
   "source": [
    "from kudzu.layer import Sigmoid\n",
    "from kudzu.layer import Relu\n",
    "from kudzu.layer import Affine, Sigmoid\n",
    "\n",
    "from kudzu.model import Model\n",
    "from kudzu.train import Learner\n",
    "from kudzu.optim import GD\n",
    "from kudzu.data import Data, Dataloader, Sampler\n",
    "\n",
    "from kudzu.callbacks import AccCallback\n",
    "from kudzu.callbacks import ClfCallback\n",
    "\n",
    "from kudzu.loss import MSE"
   ]
  },
  {
   "cell_type": "markdown",
   "metadata": {
    "papermill": {
     "duration": 0.032878,
     "end_time": "2020-10-01T10:07:51.282304",
     "exception": false,
     "start_time": "2020-10-01T10:07:51.249426",
     "status": "completed"
    },
    "tags": []
   },
   "source": [
    "### Let us create a `Config` class, to store important parameters. \n",
    "This class essentially plays the role of a dictionary."
   ]
  },
  {
   "cell_type": "code",
   "execution_count": 15,
   "metadata": {
    "execution": {
     "iopub.execute_input": "2020-10-01T10:07:51.350920Z",
     "iopub.status.busy": "2020-10-01T10:07:51.350291Z",
     "iopub.status.idle": "2020-10-01T10:07:51.363200Z",
     "shell.execute_reply": "2020-10-01T10:07:51.362660Z"
    },
    "papermill": {
     "duration": 0.049283,
     "end_time": "2020-10-01T10:07:51.363333",
     "exception": false,
     "start_time": "2020-10-01T10:07:51.314050",
     "status": "completed"
    },
    "tags": []
   },
   "outputs": [],
   "source": [
    "class Config:\n",
    "    pass\n",
    "config = Config()\n",
    "config.lr = 0.001\n",
    "config.num_epochs = 251\n",
    "config.bs = 50"
   ]
  },
  {
   "cell_type": "markdown",
   "metadata": {
    "papermill": {
     "duration": 0.031068,
     "end_time": "2020-10-01T10:07:51.424600",
     "exception": false,
     "start_time": "2020-10-01T10:07:51.393532",
     "status": "completed"
    },
    "tags": []
   },
   "source": [
    "### Initializing data to the variables"
   ]
  },
  {
   "cell_type": "code",
   "execution_count": 16,
   "metadata": {
    "execution": {
     "iopub.execute_input": "2020-10-01T10:07:51.507241Z",
     "iopub.status.busy": "2020-10-01T10:07:51.506574Z",
     "iopub.status.idle": "2020-10-01T10:07:51.508808Z",
     "shell.execute_reply": "2020-10-01T10:07:51.509347Z"
    },
    "papermill": {
     "duration": 0.053073,
     "end_time": "2020-10-01T10:07:51.509508",
     "exception": false,
     "start_time": "2020-10-01T10:07:51.456435",
     "status": "completed"
    },
    "tags": []
   },
   "outputs": [],
   "source": [
    "data = Data(X_train, y_train.reshape(-1,1))\n",
    "sampler = Sampler(data, config.bs, shuffle=True)\n",
    "\n",
    "dl = Dataloader(data, sampler)\n",
    "\n",
    "opt = GD(config.lr)\n",
    "loss = MSE()"
   ]
  },
  {
   "cell_type": "code",
   "execution_count": 17,
   "metadata": {
    "execution": {
     "iopub.execute_input": "2020-10-01T10:07:51.575108Z",
     "iopub.status.busy": "2020-10-01T10:07:51.574480Z",
     "iopub.status.idle": "2020-10-01T10:07:51.586562Z",
     "shell.execute_reply": "2020-10-01T10:07:51.587209Z"
    },
    "papermill": {
     "duration": 0.04712,
     "end_time": "2020-10-01T10:07:51.587350",
     "exception": false,
     "start_time": "2020-10-01T10:07:51.540230",
     "status": "completed"
    },
    "tags": []
   },
   "outputs": [],
   "source": [
    "training_xdata = X_train\n",
    "testing_xdata = X_test\n",
    "training_ydata = y_train.reshape(-1,1)\n",
    "testing_ydata = y_test.reshape(-1,1)"
   ]
  },
  {
   "cell_type": "markdown",
   "metadata": {
    "papermill": {
     "duration": 0.030945,
     "end_time": "2020-10-01T10:07:51.649832",
     "exception": false,
     "start_time": "2020-10-01T10:07:51.618887",
     "status": "completed"
    },
    "tags": []
   },
   "source": [
    "### Running Models with the Training data\n",
    "Details about the network layers:\n",
    "- A first affine layer has 784 inputs and does 100 affine transforms. These are followed by a Relu\n",
    "- A second affine layer has 100 inputs from the 100 activations of the past layer, and does 100 affine transforms. These are followed by a Relu\n",
    "- A third affine layer has 100 activations and does 2 affine transformations to create an embedding for visualization. There is no non-linearity here.\n",
    "- A final \"logistic regression\" which has an affine transform from 2 inputs to 1 output, which is squeezed through a sigmoid.\n",
    "\n",
    "Help taken from Anshuman's Notebook."
   ]
  },
  {
   "cell_type": "code",
   "execution_count": 18,
   "metadata": {
    "execution": {
     "iopub.execute_input": "2020-10-01T10:07:51.720052Z",
     "iopub.status.busy": "2020-10-01T10:07:51.719390Z",
     "iopub.status.idle": "2020-10-01T10:07:51.737320Z",
     "shell.execute_reply": "2020-10-01T10:07:51.737873Z"
    },
    "papermill": {
     "duration": 0.058271,
     "end_time": "2020-10-01T10:07:51.738030",
     "exception": false,
     "start_time": "2020-10-01T10:07:51.679759",
     "status": "completed"
    },
    "tags": []
   },
   "outputs": [],
   "source": [
    "# layers for the Neural Network\n",
    "layers = [Affine(\"first\", 784, 100), Relu(\"first\"), Affine(\"second\", 100, 100), Relu(\"second\"), Affine(\"third\", 100, 2), Affine(\"final\", 2, 1), Sigmoid(\"final\")]\n",
    "model_nn = Model(layers)\n",
    "\n",
    "# layers for the Logistic Regression\n",
    "layers_lr = [Affine(\"logits\", 784, 1), Sigmoid(\"sigmoid\")]\n",
    "model_lr = Model(layers_lr)"
   ]
  },
  {
   "cell_type": "code",
   "execution_count": 19,
   "metadata": {
    "execution": {
     "iopub.execute_input": "2020-10-01T10:07:51.804046Z",
     "iopub.status.busy": "2020-10-01T10:07:51.803385Z",
     "iopub.status.idle": "2020-10-01T10:07:51.819484Z",
     "shell.execute_reply": "2020-10-01T10:07:51.818916Z"
    },
    "papermill": {
     "duration": 0.050783,
     "end_time": "2020-10-01T10:07:51.819632",
     "exception": false,
     "start_time": "2020-10-01T10:07:51.768849",
     "status": "completed"
    },
    "tags": []
   },
   "outputs": [],
   "source": [
    "# suffix _nn stands for Neural Network.\n",
    "learner_nn = Learner(loss, model_nn, opt, config.num_epochs)\n",
    "acc_nn = ClfCallback(learner_nn, config.bs, training_xdata , testing_xdata, training_ydata, testing_ydata)\n",
    "learner_nn.set_callbacks([acc_nn])"
   ]
  },
  {
   "cell_type": "code",
   "execution_count": 20,
   "metadata": {
    "execution": {
     "iopub.execute_input": "2020-10-01T10:07:51.894471Z",
     "iopub.status.busy": "2020-10-01T10:07:51.893828Z",
     "iopub.status.idle": "2020-10-01T10:09:52.296802Z",
     "shell.execute_reply": "2020-10-01T10:09:52.297519Z"
    },
    "papermill": {
     "duration": 120.446989,
     "end_time": "2020-10-01T10:09:52.297687",
     "exception": false,
     "start_time": "2020-10-01T10:07:51.850698",
     "status": "completed"
    },
    "tags": []
   },
   "outputs": [
    {
     "name": "stdout",
     "output_type": "stream",
     "text": [
      "====== Neural Network ======\n"
     ]
    },
    {
     "name": "stdout",
     "output_type": "stream",
     "text": [
      "Epoch 0, Loss 0.2508\n",
      "Training Accuracy: 0.5353, Testing Accuracy: 0.5338\n",
      "\n"
     ]
    },
    {
     "name": "stdout",
     "output_type": "stream",
     "text": [
      "Epoch 10, Loss 0.1014\n",
      "Training Accuracy: 0.9200, Testing Accuracy: 0.9355\n",
      "\n"
     ]
    },
    {
     "name": "stdout",
     "output_type": "stream",
     "text": [
      "Epoch 20, Loss 0.0592\n",
      "Training Accuracy: 0.9393, Testing Accuracy: 0.9471\n",
      "\n"
     ]
    },
    {
     "name": "stdout",
     "output_type": "stream",
     "text": [
      "Epoch 30, Loss 0.0461\n",
      "Training Accuracy: 0.9503, Testing Accuracy: 0.9577\n",
      "\n"
     ]
    },
    {
     "name": "stdout",
     "output_type": "stream",
     "text": [
      "Epoch 40, Loss 0.0397\n",
      "Training Accuracy: 0.9556, Testing Accuracy: 0.9617\n",
      "\n"
     ]
    },
    {
     "name": "stdout",
     "output_type": "stream",
     "text": [
      "Epoch 50, Loss 0.0358\n",
      "Training Accuracy: 0.9587, Testing Accuracy: 0.9637\n",
      "\n"
     ]
    },
    {
     "name": "stdout",
     "output_type": "stream",
     "text": [
      "Epoch 60, Loss 0.0332\n",
      "Training Accuracy: 0.9615, Testing Accuracy: 0.9672\n",
      "\n"
     ]
    },
    {
     "name": "stdout",
     "output_type": "stream",
     "text": [
      "Epoch 70, Loss 0.0312\n",
      "Training Accuracy: 0.9631, Testing Accuracy: 0.9688\n",
      "\n"
     ]
    },
    {
     "name": "stdout",
     "output_type": "stream",
     "text": [
      "Epoch 80, Loss 0.0297\n",
      "Training Accuracy: 0.9649, Testing Accuracy: 0.9698\n",
      "\n"
     ]
    },
    {
     "name": "stdout",
     "output_type": "stream",
     "text": [
      "Epoch 90, Loss 0.0284\n",
      "Training Accuracy: 0.9669, Testing Accuracy: 0.9708\n",
      "\n"
     ]
    },
    {
     "name": "stdout",
     "output_type": "stream",
     "text": [
      "Epoch 100, Loss 0.0274\n",
      "Training Accuracy: 0.9680, Testing Accuracy: 0.9713\n",
      "\n"
     ]
    },
    {
     "name": "stdout",
     "output_type": "stream",
     "text": [
      "Epoch 110, Loss 0.0264\n",
      "Training Accuracy: 0.9690, Testing Accuracy: 0.9718\n",
      "\n"
     ]
    },
    {
     "name": "stdout",
     "output_type": "stream",
     "text": [
      "Epoch 120, Loss 0.0256\n",
      "Training Accuracy: 0.9700, Testing Accuracy: 0.9723\n",
      "\n"
     ]
    },
    {
     "name": "stdout",
     "output_type": "stream",
     "text": [
      "Epoch 130, Loss 0.0248\n",
      "Training Accuracy: 0.9710, Testing Accuracy: 0.9728\n",
      "\n"
     ]
    },
    {
     "name": "stdout",
     "output_type": "stream",
     "text": [
      "Epoch 140, Loss 0.0241\n",
      "Training Accuracy: 0.9717, Testing Accuracy: 0.9723\n",
      "\n"
     ]
    },
    {
     "name": "stdout",
     "output_type": "stream",
     "text": [
      "Epoch 150, Loss 0.0235\n",
      "Training Accuracy: 0.9725, Testing Accuracy: 0.9728\n",
      "\n"
     ]
    },
    {
     "name": "stdout",
     "output_type": "stream",
     "text": [
      "Epoch 160, Loss 0.0229\n",
      "Training Accuracy: 0.9739, Testing Accuracy: 0.9733\n",
      "\n"
     ]
    },
    {
     "name": "stdout",
     "output_type": "stream",
     "text": [
      "Epoch 170, Loss 0.0224\n",
      "Training Accuracy: 0.9743, Testing Accuracy: 0.9738\n",
      "\n"
     ]
    },
    {
     "name": "stdout",
     "output_type": "stream",
     "text": [
      "Epoch 180, Loss 0.0218\n",
      "Training Accuracy: 0.9753, Testing Accuracy: 0.9738\n",
      "\n"
     ]
    },
    {
     "name": "stdout",
     "output_type": "stream",
     "text": [
      "Epoch 190, Loss 0.0213\n",
      "Training Accuracy: 0.9756, Testing Accuracy: 0.9738\n",
      "\n"
     ]
    },
    {
     "name": "stdout",
     "output_type": "stream",
     "text": [
      "Epoch 200, Loss 0.0208\n",
      "Training Accuracy: 0.9761, Testing Accuracy: 0.9748\n",
      "\n"
     ]
    },
    {
     "name": "stdout",
     "output_type": "stream",
     "text": [
      "Epoch 210, Loss 0.0204\n",
      "Training Accuracy: 0.9766, Testing Accuracy: 0.9748\n",
      "\n"
     ]
    },
    {
     "name": "stdout",
     "output_type": "stream",
     "text": [
      "Epoch 220, Loss 0.02\n",
      "Training Accuracy: 0.9770, Testing Accuracy: 0.9748\n",
      "\n"
     ]
    },
    {
     "name": "stdout",
     "output_type": "stream",
     "text": [
      "Epoch 230, Loss 0.0196\n",
      "Training Accuracy: 0.9779, Testing Accuracy: 0.9753\n",
      "\n"
     ]
    },
    {
     "name": "stdout",
     "output_type": "stream",
     "text": [
      "Epoch 240, Loss 0.0192\n",
      "Training Accuracy: 0.9783, Testing Accuracy: 0.9758\n",
      "\n"
     ]
    },
    {
     "name": "stdout",
     "output_type": "stream",
     "text": [
      "Epoch 250, Loss 0.0188\n",
      "Training Accuracy: 0.9787, Testing Accuracy: 0.9758\n",
      "\n"
     ]
    },
    {
     "data": {
      "text/plain": [
       "0.00756172655550473"
      ]
     },
     "execution_count": 20,
     "metadata": {},
     "output_type": "execute_result"
    }
   ],
   "source": [
    "print(\"====== Neural Network ======\")\n",
    "learner_nn.train_loop(dl)"
   ]
  },
  {
   "cell_type": "markdown",
   "metadata": {
    "papermill": {
     "duration": 0.039946,
     "end_time": "2020-10-01T10:09:52.377435",
     "exception": false,
     "start_time": "2020-10-01T10:09:52.337489",
     "status": "completed"
    },
    "tags": []
   },
   "source": [
    "### Logistic Regression based Implementation."
   ]
  },
  {
   "cell_type": "code",
   "execution_count": 21,
   "metadata": {
    "execution": {
     "iopub.execute_input": "2020-10-01T10:09:52.465039Z",
     "iopub.status.busy": "2020-10-01T10:09:52.463759Z",
     "iopub.status.idle": "2020-10-01T10:09:52.476674Z",
     "shell.execute_reply": "2020-10-01T10:09:52.476129Z"
    },
    "papermill": {
     "duration": 0.059086,
     "end_time": "2020-10-01T10:09:52.476814",
     "exception": false,
     "start_time": "2020-10-01T10:09:52.417728",
     "status": "completed"
    },
    "tags": []
   },
   "outputs": [],
   "source": [
    "learner_lr = Learner(loss, model_lr, opt, config.num_epochs)\n",
    "acc_lr = ClfCallback(learner_lr, config.bs, training_xdata , testing_xdata, training_ydata, testing_ydata)\n",
    "learner_lr.set_callbacks([acc_lr])"
   ]
  },
  {
   "cell_type": "code",
   "execution_count": 22,
   "metadata": {
    "execution": {
     "iopub.execute_input": "2020-10-01T10:09:52.567747Z",
     "iopub.status.busy": "2020-10-01T10:09:52.565190Z",
     "iopub.status.idle": "2020-10-01T10:10:10.235133Z",
     "shell.execute_reply": "2020-10-01T10:10:10.235980Z"
    },
    "papermill": {
     "duration": 17.719266,
     "end_time": "2020-10-01T10:10:10.236145",
     "exception": false,
     "start_time": "2020-10-01T10:09:52.516879",
     "status": "completed"
    },
    "tags": []
   },
   "outputs": [
    {
     "name": "stdout",
     "output_type": "stream",
     "text": [
      "====== Logistic Regression ======\n",
      "Epoch 0, Loss 0.2603\n",
      "Training Accuracy: 0.6203, Testing Accuracy: 0.6195\n",
      "\n"
     ]
    },
    {
     "name": "stdout",
     "output_type": "stream",
     "text": [
      "Epoch 10, Loss 0.1061\n",
      "Training Accuracy: 0.8957, Testing Accuracy: 0.9078\n",
      "\n"
     ]
    },
    {
     "name": "stdout",
     "output_type": "stream",
     "text": [
      "Epoch 20, Loss 0.0803\n",
      "Training Accuracy: 0.9234, Testing Accuracy: 0.9375\n",
      "\n"
     ]
    },
    {
     "name": "stdout",
     "output_type": "stream",
     "text": [
      "Epoch 30, Loss 0.0686\n",
      "Training Accuracy: 0.9344, Testing Accuracy: 0.9516\n",
      "\n"
     ]
    },
    {
     "name": "stdout",
     "output_type": "stream",
     "text": [
      "Epoch 40, Loss 0.0616\n",
      "Training Accuracy: 0.9400, Testing Accuracy: 0.9546\n",
      "\n"
     ]
    },
    {
     "name": "stdout",
     "output_type": "stream",
     "text": [
      "Epoch 50, Loss 0.0569\n",
      "Training Accuracy: 0.9451, Testing Accuracy: 0.9587\n",
      "\n"
     ]
    },
    {
     "name": "stdout",
     "output_type": "stream",
     "text": [
      "Epoch 60, Loss 0.0535\n",
      "Training Accuracy: 0.9479, Testing Accuracy: 0.9582\n",
      "\n"
     ]
    },
    {
     "name": "stdout",
     "output_type": "stream",
     "text": [
      "Epoch 70, Loss 0.0508\n",
      "Training Accuracy: 0.9501, Testing Accuracy: 0.9597\n",
      "\n"
     ]
    },
    {
     "name": "stdout",
     "output_type": "stream",
     "text": [
      "Epoch 80, Loss 0.0488\n",
      "Training Accuracy: 0.9521, Testing Accuracy: 0.9612\n",
      "\n"
     ]
    },
    {
     "name": "stdout",
     "output_type": "stream",
     "text": [
      "Epoch 90, Loss 0.0471\n",
      "Training Accuracy: 0.9534, Testing Accuracy: 0.9622\n",
      "\n"
     ]
    },
    {
     "name": "stdout",
     "output_type": "stream",
     "text": [
      "Epoch 100, Loss 0.0456\n",
      "Training Accuracy: 0.9548, Testing Accuracy: 0.9637\n",
      "\n"
     ]
    },
    {
     "name": "stdout",
     "output_type": "stream",
     "text": [
      "Epoch 110, Loss 0.0444\n",
      "Training Accuracy: 0.9558, Testing Accuracy: 0.9647\n",
      "\n"
     ]
    },
    {
     "name": "stdout",
     "output_type": "stream",
     "text": [
      "Epoch 120, Loss 0.0433\n",
      "Training Accuracy: 0.9565, Testing Accuracy: 0.9657\n",
      "\n"
     ]
    },
    {
     "name": "stdout",
     "output_type": "stream",
     "text": [
      "Epoch 130, Loss 0.0424\n",
      "Training Accuracy: 0.9572, Testing Accuracy: 0.9657\n",
      "\n"
     ]
    },
    {
     "name": "stdout",
     "output_type": "stream",
     "text": [
      "Epoch 140, Loss 0.0416\n",
      "Training Accuracy: 0.9578, Testing Accuracy: 0.9662\n",
      "\n"
     ]
    },
    {
     "name": "stdout",
     "output_type": "stream",
     "text": [
      "Epoch 150, Loss 0.0408\n",
      "Training Accuracy: 0.9581, Testing Accuracy: 0.9667\n",
      "\n"
     ]
    },
    {
     "name": "stdout",
     "output_type": "stream",
     "text": [
      "Epoch 160, Loss 0.0402\n",
      "Training Accuracy: 0.9585, Testing Accuracy: 0.9667\n",
      "\n"
     ]
    },
    {
     "name": "stdout",
     "output_type": "stream",
     "text": [
      "Epoch 170, Loss 0.0396\n",
      "Training Accuracy: 0.9594, Testing Accuracy: 0.9672\n",
      "\n"
     ]
    },
    {
     "name": "stdout",
     "output_type": "stream",
     "text": [
      "Epoch 180, Loss 0.039\n",
      "Training Accuracy: 0.9598, Testing Accuracy: 0.9677\n",
      "\n"
     ]
    },
    {
     "name": "stdout",
     "output_type": "stream",
     "text": [
      "Epoch 190, Loss 0.0385\n",
      "Training Accuracy: 0.9601, Testing Accuracy: 0.9677\n",
      "\n"
     ]
    },
    {
     "name": "stdout",
     "output_type": "stream",
     "text": [
      "Epoch 200, Loss 0.038\n",
      "Training Accuracy: 0.9603, Testing Accuracy: 0.9682\n",
      "\n"
     ]
    },
    {
     "name": "stdout",
     "output_type": "stream",
     "text": [
      "Epoch 210, Loss 0.0376\n",
      "Training Accuracy: 0.9605, Testing Accuracy: 0.9688\n",
      "\n"
     ]
    },
    {
     "name": "stdout",
     "output_type": "stream",
     "text": [
      "Epoch 220, Loss 0.0372\n",
      "Training Accuracy: 0.9609, Testing Accuracy: 0.9693\n",
      "\n"
     ]
    },
    {
     "name": "stdout",
     "output_type": "stream",
     "text": [
      "Epoch 230, Loss 0.0368\n",
      "Training Accuracy: 0.9613, Testing Accuracy: 0.9693\n",
      "\n"
     ]
    },
    {
     "name": "stdout",
     "output_type": "stream",
     "text": [
      "Epoch 240, Loss 0.0365\n",
      "Training Accuracy: 0.9611, Testing Accuracy: 0.9693\n",
      "\n"
     ]
    },
    {
     "name": "stdout",
     "output_type": "stream",
     "text": [
      "Epoch 250, Loss 0.0361\n",
      "Training Accuracy: 0.9612, Testing Accuracy: 0.9693\n",
      "\n"
     ]
    },
    {
     "data": {
      "text/plain": [
       "0.027153358816962726"
      ]
     },
     "execution_count": 22,
     "metadata": {},
     "output_type": "execute_result"
    }
   ],
   "source": [
    "print(\"====== Logistic Regression ======\")\n",
    "learner_lr.train_loop(dl)"
   ]
  },
  {
   "cell_type": "markdown",
   "metadata": {
    "papermill": {
     "duration": 0.048096,
     "end_time": "2020-10-01T10:10:10.336997",
     "exception": false,
     "start_time": "2020-10-01T10:10:10.288901",
     "status": "completed"
    },
    "tags": []
   },
   "source": [
    "### Comparing results of NN and LR"
   ]
  },
  {
   "cell_type": "code",
   "execution_count": 23,
   "metadata": {
    "execution": {
     "iopub.execute_input": "2020-10-01T10:10:10.441394Z",
     "iopub.status.busy": "2020-10-01T10:10:10.440744Z",
     "iopub.status.idle": "2020-10-01T10:10:10.706777Z",
     "shell.execute_reply": "2020-10-01T10:10:10.706218Z"
    },
    "papermill": {
     "duration": 0.320718,
     "end_time": "2020-10-01T10:10:10.706923",
     "exception": false,
     "start_time": "2020-10-01T10:10:10.386205",
     "status": "completed"
    },
    "tags": []
   },
   "outputs": [
    {
     "data": {
      "text/plain": [
       "<matplotlib.legend.Legend at 0x7f57dbcdb2e8>"
      ]
     },
     "execution_count": 23,
     "metadata": {},
     "output_type": "execute_result"
    },
    {
     "data": {
      "image/png": "[encoded data removed]",
      "text/plain": [
       "<Figure size 1080x720 with 1 Axes>"
      ]
     },
     "metadata": {
      "needs_background": "light"
     },
     "output_type": "display_data"
    }
   ],
   "source": [
    "plt.figure(figsize=(15,10))\n",
    "\n",
    "# Neural Network plots\n",
    "plt.plot(acc_nn.accuracies, 'r-', label = \"Training Accuracies - NN\")\n",
    "plt.plot(acc_nn.test_accuracies, 'g-', label = \"Testing Accuracies - NN\")\n",
    "\n",
    "# Logistic Regression plots\n",
    "plt.plot(acc_lr.accuracies, 'k-', label = \"Training Accuracies - LR\")\n",
    "plt.plot(acc_lr.test_accuracies, 'b-', label = \"Testing Accuracies - LR\")\n",
    "\n",
    "plt.ylim(0.8, 1)\n",
    "\n",
    "plt.legend()\n",
    "\n"
   ]
  },
  {
   "cell_type": "markdown",
   "metadata": {
    "papermill": {
     "duration": 0.051313,
     "end_time": "2020-10-01T10:10:10.808526",
     "exception": false,
     "start_time": "2020-10-01T10:10:10.757213",
     "status": "completed"
    },
    "tags": []
   },
   "source": [
    "### From the plot, we can observe the following:\n",
    "- Neural Network achieves higher accuracy than the Logistic Regression model.\n",
    "- This apparently, is because of overfitting, i.e. NN captures more noise than data.\n",
    "- Testing accuracy of NN drops below the Training accuracy at higher epochs. This explains the over-fitting on training data.\n",
    "- Logistic Regression gives a reliable accuracy, without the above mentioned problem.\n"
   ]
  },
  {
   "cell_type": "markdown",
   "metadata": {
    "papermill": {
     "duration": 0.04922,
     "end_time": "2020-10-01T10:10:10.907921",
     "exception": false,
     "start_time": "2020-10-01T10:10:10.858701",
     "status": "completed"
    },
    "tags": []
   },
   "source": [
    "### Moving till the last but one layer (excluding it).\n",
    "#### Plotting the outputs of this layer of the NN."
   ]
  },
  {
   "cell_type": "code",
   "execution_count": 24,
   "metadata": {
    "execution": {
     "iopub.execute_input": "2020-10-01T10:10:11.020132Z",
     "iopub.status.busy": "2020-10-01T10:10:11.019267Z",
     "iopub.status.idle": "2020-10-01T10:10:11.027522Z",
     "shell.execute_reply": "2020-10-01T10:10:11.026743Z"
    },
    "papermill": {
     "duration": 0.070696,
     "end_time": "2020-10-01T10:10:11.027662",
     "exception": false,
     "start_time": "2020-10-01T10:10:10.956966",
     "status": "completed"
    },
    "tags": []
   },
   "outputs": [],
   "source": [
    "model_new = Model(layers[:-2])"
   ]
  },
  {
   "cell_type": "code",
   "execution_count": 25,
   "metadata": {
    "execution": {
     "iopub.execute_input": "2020-10-01T10:10:11.149534Z",
     "iopub.status.busy": "2020-10-01T10:10:11.142356Z",
     "iopub.status.idle": "2020-10-01T10:10:11.160639Z",
     "shell.execute_reply": "2020-10-01T10:10:11.161264Z"
    },
    "papermill": {
     "duration": 0.084295,
     "end_time": "2020-10-01T10:10:11.161434",
     "exception": false,
     "start_time": "2020-10-01T10:10:11.077139",
     "status": "completed"
    },
    "tags": []
   },
   "outputs": [],
   "source": [
    "plot_testing = model_new(testing_xdata)"
   ]
  },
  {
   "cell_type": "code",
   "execution_count": 26,
   "metadata": {
    "execution": {
     "iopub.execute_input": "2020-10-01T10:10:11.269907Z",
     "iopub.status.busy": "2020-10-01T10:10:11.269271Z",
     "iopub.status.idle": "2020-10-01T10:10:11.472114Z",
     "shell.execute_reply": "2020-10-01T10:10:11.471314Z"
    },
    "papermill": {
     "duration": 0.261057,
     "end_time": "2020-10-01T10:10:11.472256",
     "exception": false,
     "start_time": "2020-10-01T10:10:11.211199",
     "status": "completed"
    },
    "tags": []
   },
   "outputs": [
    {
     "data": {
      "text/plain": [
       "Text(0.5, 1.0, 'Outputs')"
      ]
     },
     "execution_count": 26,
     "metadata": {},
     "output_type": "execute_result"
    },
    {
     "data": {
      "image/png": "[encoded data removed]",
      "text/plain": [
       "<Figure size 576x504 with 1 Axes>"
      ]
     },
     "metadata": {
      "needs_background": "light"
     },
     "output_type": "display_data"
    }
   ],
   "source": [
    "plt.figure(figsize=(8,7))\n",
    "plt.scatter(plot_testing[:,0], plot_testing[:,1], alpha = 0.1, c = y_test.ravel());\n",
    "plt.title('Outputs')"
   ]
  },
  {
   "cell_type": "markdown",
   "metadata": {
    "papermill": {
     "duration": 0.050902,
     "end_time": "2020-10-01T10:10:11.573987",
     "exception": false,
     "start_time": "2020-10-01T10:10:11.523085",
     "status": "completed"
    },
    "tags": []
   },
   "source": [
    "### Plotting probability contours"
   ]
  },
  {
   "cell_type": "code",
   "execution_count": 27,
   "metadata": {
    "execution": {
     "iopub.execute_input": "2020-10-01T10:10:11.679576Z",
     "iopub.status.busy": "2020-10-01T10:10:11.678953Z",
     "iopub.status.idle": "2020-10-01T10:10:11.691208Z",
     "shell.execute_reply": "2020-10-01T10:10:11.691765Z"
    },
    "papermill": {
     "duration": 0.067032,
     "end_time": "2020-10-01T10:10:11.691977",
     "exception": false,
     "start_time": "2020-10-01T10:10:11.624945",
     "status": "completed"
    },
    "tags": []
   },
   "outputs": [],
   "source": [
    "model_prob = Model(layers[-2:]) "
   ]
  },
  {
   "cell_type": "code",
   "execution_count": 28,
   "metadata": {
    "execution": {
     "iopub.execute_input": "2020-10-01T10:10:11.798282Z",
     "iopub.status.busy": "2020-10-01T10:10:11.797629Z",
     "iopub.status.idle": "2020-10-01T10:10:11.810813Z",
     "shell.execute_reply": "2020-10-01T10:10:11.811304Z"
    },
    "papermill": {
     "duration": 0.068886,
     "end_time": "2020-10-01T10:10:11.811458",
     "exception": false,
     "start_time": "2020-10-01T10:10:11.742572",
     "status": "completed"
    },
    "tags": []
   },
   "outputs": [],
   "source": [
    "# Adjust the x and y ranges according to the above generated plot.\n",
    "x_range = np.linspace(-4, 1, 100) \n",
    "y_range = np.linspace(-6, 6, 100) \n",
    "x_grid, y_grid = np.meshgrid(x_range, y_range) # x_grid and y_grig are of size 100 X 100\n",
    "\n",
    "# converting x_grid and y_grid to continuous arrays\n",
    "x_grid_flat = np.ravel(x_grid)\n",
    "y_grid_flat = np.ravel(y_grid)\n",
    "\n",
    "# The last layer of the current model takes two columns as input. Hence transpose of np.vstack() is required.\n",
    "X = np.vstack((x_grid_flat, y_grid_flat)).T\n",
    "\n",
    "# x_grid and y_grid are of size 100 x 100\n",
    "probability_contour = model_prob(X).reshape(100,100) "
   ]
  },
  {
   "cell_type": "code",
   "execution_count": 29,
   "metadata": {
    "execution": {
     "iopub.execute_input": "2020-10-01T10:10:11.922136Z",
     "iopub.status.busy": "2020-10-01T10:10:11.921495Z",
     "iopub.status.idle": "2020-10-01T10:10:12.183486Z",
     "shell.execute_reply": "2020-10-01T10:10:12.184015Z"
    },
    "papermill": {
     "duration": 0.322075,
     "end_time": "2020-10-01T10:10:12.184183",
     "exception": false,
     "start_time": "2020-10-01T10:10:11.862108",
     "status": "completed"
    },
    "tags": []
   },
   "outputs": [
    {
     "data": {
      "image/png": "[encoded data removed]",
      "text/plain": [
       "<Figure size 720x648 with 1 Axes>"
      ]
     },
     "metadata": {
      "needs_background": "light"
     },
     "output_type": "display_data"
    }
   ],
   "source": [
    "plt.figure(figsize=(10,9))\n",
    "plt.scatter(plot_testing[:,0], plot_testing[:,1], alpha = 0.1, c = y_test.ravel())\n",
    "contours = plt.contour(x_grid,y_grid,probability_contour)\n",
    "plt.title('Probability Contours')\n",
    "plt.clabel(contours, inline = True );"
   ]
  }
 ],
 "metadata": {
  "kernelspec": {
   "display_name": "Python 3",
   "language": "python",
   "name": "python3"
  },
  "language_info": {
   "codemirror_mode": {
    "name": "ipython",
    "version": 3
   },
   "file_extension": ".py",
   "mimetype": "text/x-python",
   "name": "python",
   "nbconvert_exporter": "python",
   "pygments_lexer": "ipython3",
   "version": "3.6.12"
  },
  "papermill": {
   "duration": 147.950769,
   "end_time": "2020-10-01T10:10:12.667090",
   "environment_variables": {},
   "exception": null,
   "input_path": "2020-08-11-NeuralNetwork.ipynb",
   "output_path": "2020-08-11-NeuralNetwork.ipynb",
   "parameters": {},
   "start_time": "2020-10-01T10:07:44.716321",
   "version": "2.1.2"
  }
 },
 "nbformat": 4,
 "nbformat_minor": 4
}