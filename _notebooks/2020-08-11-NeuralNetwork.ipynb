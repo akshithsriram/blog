{
 "cells": [
  {
   "cell_type": "markdown",
   "metadata": {
    "papermill": {
     "duration": 0.03212,
     "end_time": "2020-09-30T20:04:58.649260",
     "exception": false,
     "start_time": "2020-09-30T20:04:58.617140",
     "status": "completed"
    },
    "tags": []
   },
   "source": [
    "# \"A Basic Neural Network: Differentiate Hand-Written Digits\"\n",
    "\n",
    "- badges: true\n",
    "- author: Akshith Sriram"
   ]
  },
  {
   "cell_type": "markdown",
   "metadata": {
    "papermill": {
     "duration": 0.026858,
     "end_time": "2020-09-30T20:04:58.703350",
     "exception": false,
     "start_time": "2020-09-30T20:04:58.676492",
     "status": "completed"
    },
    "tags": []
   },
   "source": [
    "### Key Objectives:\n",
    "- Building a neural network that differentiates two hand-written digits 3 and 8.\n",
    "- Comparing the results of this Neural Network (NN) to that of a Logistic Regression (LR) model.\n",
    "\n",
    "### Requirements:\n",
    "- 'Kudzu' : A neural network library that was designed during our course by [Univ.AI](www.univ.ai). \n",
    "- MNIST Database\n",
    "\n",
    "If MNIST is not installed, use the command `!pip install mnist` given below.\n",
    "It can be run both from the command line and Jupyter Notebook."
   ]
  },
  {
   "cell_type": "code",
   "execution_count": 1,
   "metadata": {
    "execution": {
     "iopub.execute_input": "2020-09-30T20:04:58.763549Z",
     "iopub.status.busy": "2020-09-30T20:04:58.762898Z",
     "iopub.status.idle": "2020-09-30T20:05:00.249056Z",
     "shell.execute_reply": "2020-09-30T20:05:00.248434Z"
    },
    "papermill": {
     "duration": 1.517932,
     "end_time": "2020-09-30T20:05:00.249229",
     "exception": false,
     "start_time": "2020-09-30T20:04:58.731297",
     "status": "completed"
    },
    "tags": []
   },
   "outputs": [
    {
     "name": "stdout",
     "output_type": "stream",
     "text": [
      "Collecting mnist\r\n"
     ]
    },
    {
     "name": "stdout",
     "output_type": "stream",
     "text": [
      "  Downloading mnist-0.2.2-py2.py3-none-any.whl (3.5 kB)\r\n",
      "Requirement already satisfied: numpy in /opt/hostedtoolcache/Python/3.6.12/x64/lib/python3.6/site-packages (from mnist) (1.19.2)\r\n"
     ]
    },
    {
     "name": "stdout",
     "output_type": "stream",
     "text": [
      "Installing collected packages: mnist\r\n"
     ]
    },
    {
     "name": "stdout",
     "output_type": "stream",
     "text": [
      "Successfully installed mnist-0.2.2\r\n"
     ]
    }
   ],
   "source": [
    "!pip install mnist "
   ]
  },
  {
   "cell_type": "markdown",
   "metadata": {
    "papermill": {
     "duration": 0.027956,
     "end_time": "2020-09-30T20:05:00.305760",
     "exception": false,
     "start_time": "2020-09-30T20:05:00.277804",
     "status": "completed"
    },
    "tags": []
   },
   "source": [
    "#### Importing necessary libraries"
   ]
  },
  {
   "cell_type": "code",
   "execution_count": 2,
   "metadata": {
    "execution": {
     "iopub.execute_input": "2020-09-30T20:05:00.370634Z",
     "iopub.status.busy": "2020-09-30T20:05:00.369980Z",
     "iopub.status.idle": "2020-09-30T20:05:00.965187Z",
     "shell.execute_reply": "2020-09-30T20:05:00.964622Z"
    },
    "papermill": {
     "duration": 0.630904,
     "end_time": "2020-09-30T20:05:00.965342",
     "exception": false,
     "start_time": "2020-09-30T20:05:00.334438",
     "status": "completed"
    },
    "tags": []
   },
   "outputs": [],
   "source": [
    "%load_ext autoreload\n",
    "%autoreload 2\n",
    "\n",
    "%matplotlib inline\n",
    "import matplotlib.pyplot as plt\n",
    "\n",
    "import numpy as np\n",
    "import pandas as pd"
   ]
  },
  {
   "cell_type": "markdown",
   "metadata": {
    "papermill": {
     "duration": 0.027809,
     "end_time": "2020-09-30T20:05:01.021786",
     "exception": false,
     "start_time": "2020-09-30T20:05:00.993977",
     "status": "completed"
    },
    "tags": []
   },
   "source": [
    "### Preparing the Data"
   ]
  },
  {
   "cell_type": "code",
   "execution_count": 3,
   "metadata": {
    "execution": {
     "iopub.execute_input": "2020-09-30T20:05:01.098561Z",
     "iopub.status.busy": "2020-09-30T20:05:01.097608Z",
     "iopub.status.idle": "2020-09-30T20:05:01.102776Z",
     "shell.execute_reply": "2020-09-30T20:05:01.102180Z"
    },
    "papermill": {
     "duration": 0.053238,
     "end_time": "2020-09-30T20:05:01.102920",
     "exception": false,
     "start_time": "2020-09-30T20:05:01.049682",
     "status": "completed"
    },
    "tags": []
   },
   "outputs": [],
   "source": [
    "import mnist"
   ]
  },
  {
   "cell_type": "code",
   "execution_count": 4,
   "metadata": {
    "execution": {
     "iopub.execute_input": "2020-09-30T20:05:01.162596Z",
     "iopub.status.busy": "2020-09-30T20:05:01.161956Z",
     "iopub.status.idle": "2020-09-30T20:05:01.981368Z",
     "shell.execute_reply": "2020-09-30T20:05:01.980772Z"
    },
    "papermill": {
     "duration": 0.850196,
     "end_time": "2020-09-30T20:05:01.981519",
     "exception": false,
     "start_time": "2020-09-30T20:05:01.131323",
     "status": "completed"
    },
    "tags": []
   },
   "outputs": [],
   "source": [
    "train_images = mnist.train_images()\n",
    "train_labels = mnist.train_labels()"
   ]
  },
  {
   "cell_type": "code",
   "execution_count": 5,
   "metadata": {
    "execution": {
     "iopub.execute_input": "2020-09-30T20:05:02.058163Z",
     "iopub.status.busy": "2020-09-30T20:05:02.044932Z",
     "iopub.status.idle": "2020-09-30T20:05:02.063860Z",
     "shell.execute_reply": "2020-09-30T20:05:02.063068Z"
    },
    "papermill": {
     "duration": 0.054262,
     "end_time": "2020-09-30T20:05:02.063997",
     "exception": false,
     "start_time": "2020-09-30T20:05:02.009735",
     "status": "completed"
    },
    "tags": []
   },
   "outputs": [
    {
     "data": {
      "text/plain": [
       "((60000, 28, 28), (60000,))"
      ]
     },
     "execution_count": 5,
     "metadata": {},
     "output_type": "execute_result"
    }
   ],
   "source": [
    "train_images.shape, train_labels.shape"
   ]
  },
  {
   "cell_type": "code",
   "execution_count": 6,
   "metadata": {
    "execution": {
     "iopub.execute_input": "2020-09-30T20:05:02.142208Z",
     "iopub.status.busy": "2020-09-30T20:05:02.141563Z",
     "iopub.status.idle": "2020-09-30T20:05:02.431721Z",
     "shell.execute_reply": "2020-09-30T20:05:02.430984Z"
    },
    "papermill": {
     "duration": 0.338458,
     "end_time": "2020-09-30T20:05:02.431871",
     "exception": false,
     "start_time": "2020-09-30T20:05:02.093413",
     "status": "completed"
    },
    "tags": []
   },
   "outputs": [],
   "source": [
    "test_images = mnist.test_images()\n",
    "test_labels = mnist.test_labels()"
   ]
  },
  {
   "cell_type": "code",
   "execution_count": 7,
   "metadata": {
    "execution": {
     "iopub.execute_input": "2020-09-30T20:05:02.509487Z",
     "iopub.status.busy": "2020-09-30T20:05:02.501075Z",
     "iopub.status.idle": "2020-09-30T20:05:02.521466Z",
     "shell.execute_reply": "2020-09-30T20:05:02.520909Z"
    },
    "papermill": {
     "duration": 0.053818,
     "end_time": "2020-09-30T20:05:02.521603",
     "exception": false,
     "start_time": "2020-09-30T20:05:02.467785",
     "status": "completed"
    },
    "tags": []
   },
   "outputs": [
    {
     "data": {
      "text/plain": [
       "((10000, 28, 28), (10000,))"
      ]
     },
     "execution_count": 7,
     "metadata": {},
     "output_type": "execute_result"
    }
   ],
   "source": [
    "test_images.shape, test_labels.shape"
   ]
  },
  {
   "cell_type": "code",
   "execution_count": 8,
   "metadata": {
    "execution": {
     "iopub.execute_input": "2020-09-30T20:05:02.586336Z",
     "iopub.status.busy": "2020-09-30T20:05:02.585689Z",
     "iopub.status.idle": "2020-09-30T20:05:02.753538Z",
     "shell.execute_reply": "2020-09-30T20:05:02.754066Z"
    },
    "papermill": {
     "duration": 0.202856,
     "end_time": "2020-09-30T20:05:02.754239",
     "exception": false,
     "start_time": "2020-09-30T20:05:02.551383",
     "status": "completed"
    },
    "tags": []
   },
   "outputs": [
    {
     "name": "stdout",
     "output_type": "stream",
     "text": [
      "2\n"
     ]
    },
    {
     "data": {
      "text/plain": [
       "<matplotlib.image.AxesImage at 0x7f8eaf6a8828>"
      ]
     },
     "execution_count": 8,
     "metadata": {},
     "output_type": "execute_result"
    },
    {
     "data": {
      "image/png": "[encoded data removed]",
      "text/plain": [
       "<Figure size 432x288 with 1 Axes>"
      ]
     },
     "metadata": {
      "needs_background": "light"
     },
     "output_type": "display_data"
    }
   ],
   "source": [
    "image_index = 7776 # You may select anything up to 60,000\n",
    "print(train_labels[image_index]) \n",
    "plt.imshow(train_images[image_index], cmap='Greys')"
   ]
  },
  {
   "cell_type": "markdown",
   "metadata": {
    "papermill": {
     "duration": 0.031492,
     "end_time": "2020-09-30T20:05:02.817620",
     "exception": false,
     "start_time": "2020-09-30T20:05:02.786128",
     "status": "completed"
    },
    "tags": []
   },
   "source": [
    "## Filter data to get 3 and 8 out"
   ]
  },
  {
   "cell_type": "code",
   "execution_count": 9,
   "metadata": {
    "execution": {
     "iopub.execute_input": "2020-09-30T20:05:02.883199Z",
     "iopub.status.busy": "2020-09-30T20:05:02.882526Z",
     "iopub.status.idle": "2020-09-30T20:05:02.902551Z",
     "shell.execute_reply": "2020-09-30T20:05:02.901997Z"
    },
    "papermill": {
     "duration": 0.054808,
     "end_time": "2020-09-30T20:05:02.902724",
     "exception": false,
     "start_time": "2020-09-30T20:05:02.847916",
     "status": "completed"
    },
    "tags": []
   },
   "outputs": [],
   "source": [
    "train_filter = np.where((train_labels == 3 ) | (train_labels == 8))\n",
    "test_filter = np.where((test_labels == 3) | (test_labels == 8))\n",
    "X_train, y_train = train_images[train_filter], train_labels[train_filter]\n",
    "X_test, y_test = test_images[test_filter], test_labels[test_filter]"
   ]
  },
  {
   "cell_type": "markdown",
   "metadata": {
    "papermill": {
     "duration": 0.02966,
     "end_time": "2020-09-30T20:05:02.963265",
     "exception": false,
     "start_time": "2020-09-30T20:05:02.933605",
     "status": "completed"
    },
    "tags": []
   },
   "source": [
    "We normalize the pixel values in the 0 to 1 range"
   ]
  },
  {
   "cell_type": "code",
   "execution_count": 10,
   "metadata": {
    "execution": {
     "iopub.execute_input": "2020-09-30T20:05:03.039513Z",
     "iopub.status.busy": "2020-09-30T20:05:03.035022Z",
     "iopub.status.idle": "2020-09-30T20:05:03.091181Z",
     "shell.execute_reply": "2020-09-30T20:05:03.090603Z"
    },
    "papermill": {
     "duration": 0.098407,
     "end_time": "2020-09-30T20:05:03.091335",
     "exception": false,
     "start_time": "2020-09-30T20:05:02.992928",
     "status": "completed"
    },
    "tags": []
   },
   "outputs": [],
   "source": [
    "X_train = X_train/255.\n",
    "X_test = X_test/255."
   ]
  },
  {
   "cell_type": "markdown",
   "metadata": {
    "papermill": {
     "duration": 0.029502,
     "end_time": "2020-09-30T20:05:03.151146",
     "exception": false,
     "start_time": "2020-09-30T20:05:03.121644",
     "status": "completed"
    },
    "tags": []
   },
   "source": [
    "Setup the labels as 1 (when the digit is 3) and 0 (when the digit is 8)"
   ]
  },
  {
   "cell_type": "code",
   "execution_count": 11,
   "metadata": {
    "execution": {
     "iopub.execute_input": "2020-09-30T20:05:03.227568Z",
     "iopub.status.busy": "2020-09-30T20:05:03.226448Z",
     "iopub.status.idle": "2020-09-30T20:05:03.233960Z",
     "shell.execute_reply": "2020-09-30T20:05:03.234513Z"
    },
    "papermill": {
     "duration": 0.053257,
     "end_time": "2020-09-30T20:05:03.234660",
     "exception": false,
     "start_time": "2020-09-30T20:05:03.181403",
     "status": "completed"
    },
    "tags": []
   },
   "outputs": [],
   "source": [
    "y_train = 1*(y_train==3)\n",
    "y_test = 1*(y_test==3)"
   ]
  },
  {
   "cell_type": "code",
   "execution_count": 12,
   "metadata": {
    "execution": {
     "iopub.execute_input": "2020-09-30T20:05:03.313327Z",
     "iopub.status.busy": "2020-09-30T20:05:03.303471Z",
     "iopub.status.idle": "2020-09-30T20:05:03.316242Z",
     "shell.execute_reply": "2020-09-30T20:05:03.316851Z"
    },
    "papermill": {
     "duration": 0.048804,
     "end_time": "2020-09-30T20:05:03.316992",
     "exception": false,
     "start_time": "2020-09-30T20:05:03.268188",
     "status": "completed"
    },
    "tags": []
   },
   "outputs": [
    {
     "data": {
      "text/plain": [
       "((11982, 28, 28), (1984, 28, 28))"
      ]
     },
     "execution_count": 12,
     "metadata": {},
     "output_type": "execute_result"
    }
   ],
   "source": [
    "X_train.shape, X_test.shape"
   ]
  },
  {
   "cell_type": "markdown",
   "metadata": {
    "papermill": {
     "duration": 0.034823,
     "end_time": "2020-09-30T20:05:03.383471",
     "exception": false,
     "start_time": "2020-09-30T20:05:03.348648",
     "status": "completed"
    },
    "tags": []
   },
   "source": [
    "### Reshape the input data to create a linear array"
   ]
  },
  {
   "cell_type": "code",
   "execution_count": 13,
   "metadata": {
    "execution": {
     "iopub.execute_input": "2020-09-30T20:05:03.465639Z",
     "iopub.status.busy": "2020-09-30T20:05:03.460636Z",
     "iopub.status.idle": "2020-09-30T20:05:03.469161Z",
     "shell.execute_reply": "2020-09-30T20:05:03.468605Z"
    },
    "papermill": {
     "duration": 0.052468,
     "end_time": "2020-09-30T20:05:03.469294",
     "exception": false,
     "start_time": "2020-09-30T20:05:03.416826",
     "status": "completed"
    },
    "tags": []
   },
   "outputs": [
    {
     "data": {
      "text/plain": [
       "((11982, 784), (1984, 784))"
      ]
     },
     "execution_count": 13,
     "metadata": {},
     "output_type": "execute_result"
    }
   ],
   "source": [
    "X_train = X_train.reshape(X_train.shape[0], -1)\n",
    "X_test = X_test.reshape(X_test.shape[0], -1)\n",
    "X_train.shape, X_test.shape"
   ]
  },
  {
   "cell_type": "markdown",
   "metadata": {
    "papermill": {
     "duration": 0.031394,
     "end_time": "2020-09-30T20:05:03.531887",
     "exception": false,
     "start_time": "2020-09-30T20:05:03.500493",
     "status": "completed"
    },
    "tags": []
   },
   "source": [
    "### Importing appropriate functions from 'Kudzu'"
   ]
  },
  {
   "cell_type": "code",
   "execution_count": 14,
   "metadata": {
    "execution": {
     "iopub.execute_input": "2020-09-30T20:05:03.616299Z",
     "iopub.status.busy": "2020-09-30T20:05:03.615400Z",
     "iopub.status.idle": "2020-09-30T20:05:03.627445Z",
     "shell.execute_reply": "2020-09-30T20:05:03.626886Z"
    },
    "papermill": {
     "duration": 0.064219,
     "end_time": "2020-09-30T20:05:03.627581",
     "exception": false,
     "start_time": "2020-09-30T20:05:03.563362",
     "status": "completed"
    },
    "tags": []
   },
   "outputs": [],
   "source": [
    "from kudzu.layer import Sigmoid\n",
    "from kudzu.layer import Relu\n",
    "from kudzu.layer import Affine, Sigmoid\n",
    "\n",
    "from kudzu.model import Model\n",
    "from kudzu.train import Learner\n",
    "from kudzu.optim import GD\n",
    "from kudzu.data import Data, Dataloader, Sampler\n",
    "\n",
    "from kudzu.callbacks import AccCallback\n",
    "from kudzu.callbacks import ClfCallback\n",
    "\n",
    "from kudzu.loss import MSE"
   ]
  },
  {
   "cell_type": "markdown",
   "metadata": {
    "papermill": {
     "duration": 0.031099,
     "end_time": "2020-09-30T20:05:03.689725",
     "exception": false,
     "start_time": "2020-09-30T20:05:03.658626",
     "status": "completed"
    },
    "tags": []
   },
   "source": [
    "### Let us create a `Config` class, to store important parameters. \n",
    "This class essentially plays the role of a dictionary."
   ]
  },
  {
   "cell_type": "code",
   "execution_count": 15,
   "metadata": {
    "execution": {
     "iopub.execute_input": "2020-09-30T20:05:03.760775Z",
     "iopub.status.busy": "2020-09-30T20:05:03.760124Z",
     "iopub.status.idle": "2020-09-30T20:05:03.772090Z",
     "shell.execute_reply": "2020-09-30T20:05:03.771533Z"
    },
    "papermill": {
     "duration": 0.049062,
     "end_time": "2020-09-30T20:05:03.772283",
     "exception": false,
     "start_time": "2020-09-30T20:05:03.723221",
     "status": "completed"
    },
    "tags": []
   },
   "outputs": [],
   "source": [
    "class Config:\n",
    "    pass\n",
    "config = Config()\n",
    "config.lr = 0.001\n",
    "config.num_epochs = 251\n",
    "config.bs = 50"
   ]
  },
  {
   "cell_type": "markdown",
   "metadata": {
    "papermill": {
     "duration": 0.030972,
     "end_time": "2020-09-30T20:05:03.833670",
     "exception": false,
     "start_time": "2020-09-30T20:05:03.802698",
     "status": "completed"
    },
    "tags": []
   },
   "source": [
    "### Initializing data to the variables"
   ]
  },
  {
   "cell_type": "code",
   "execution_count": 16,
   "metadata": {
    "execution": {
     "iopub.execute_input": "2020-09-30T20:05:03.919087Z",
     "iopub.status.busy": "2020-09-30T20:05:03.918414Z",
     "iopub.status.idle": "2020-09-30T20:05:03.921884Z",
     "shell.execute_reply": "2020-09-30T20:05:03.921072Z"
    },
    "papermill": {
     "duration": 0.055116,
     "end_time": "2020-09-30T20:05:03.922020",
     "exception": false,
     "start_time": "2020-09-30T20:05:03.866904",
     "status": "completed"
    },
    "tags": []
   },
   "outputs": [],
   "source": [
    "data = Data(X_train, y_train.reshape(-1,1))\n",
    "sampler = Sampler(data, config.bs, shuffle=True)\n",
    "\n",
    "dl = Dataloader(data, sampler)\n",
    "\n",
    "opt = GD(config.lr)\n",
    "loss = MSE()"
   ]
  },
  {
   "cell_type": "code",
   "execution_count": 17,
   "metadata": {
    "execution": {
     "iopub.execute_input": "2020-09-30T20:05:04.000699Z",
     "iopub.status.busy": "2020-09-30T20:05:03.989448Z",
     "iopub.status.idle": "2020-09-30T20:05:04.004609Z",
     "shell.execute_reply": "2020-09-30T20:05:04.003818Z"
    },
    "papermill": {
     "duration": 0.050772,
     "end_time": "2020-09-30T20:05:04.004741",
     "exception": false,
     "start_time": "2020-09-30T20:05:03.953969",
     "status": "completed"
    },
    "tags": []
   },
   "outputs": [],
   "source": [
    "training_xdata = X_train\n",
    "testing_xdata = X_test\n",
    "training_ydata = y_train.reshape(-1,1)\n",
    "testing_ydata = y_test.reshape(-1,1)"
   ]
  },
  {
   "cell_type": "markdown",
   "metadata": {
    "papermill": {
     "duration": 0.033922,
     "end_time": "2020-09-30T20:05:04.069592",
     "exception": false,
     "start_time": "2020-09-30T20:05:04.035670",
     "status": "completed"
    },
    "tags": []
   },
   "source": [
    "### Running Models with the Training data\n",
    "Details about the network layers:\n",
    "- A first affine layer has 784 inputs and does 100 affine transforms. These are followed by a Relu\n",
    "- A second affine layer has 100 inputs from the 100 activations of the past layer, and does 100 affine transforms. These are followed by a Relu\n",
    "- A third affine layer has 100 activations and does 2 affine transformations to create an embedding for visualization. There is no non-linearity here.\n",
    "- A final \"logistic regression\" which has an affine transform from 2 inputs to 1 output, which is squeezed through a sigmoid.\n",
    "\n",
    "Help taken from Anshuman's Notebook."
   ]
  },
  {
   "cell_type": "code",
   "execution_count": 18,
   "metadata": {
    "execution": {
     "iopub.execute_input": "2020-09-30T20:05:04.152337Z",
     "iopub.status.busy": "2020-09-30T20:05:04.151660Z",
     "iopub.status.idle": "2020-09-30T20:05:04.158439Z",
     "shell.execute_reply": "2020-09-30T20:05:04.159030Z"
    },
    "papermill": {
     "duration": 0.059,
     "end_time": "2020-09-30T20:05:04.159186",
     "exception": false,
     "start_time": "2020-09-30T20:05:04.100186",
     "status": "completed"
    },
    "tags": []
   },
   "outputs": [],
   "source": [
    "# layers for the Neural Network\n",
    "layers = [Affine(\"first\", 784, 100), Relu(\"first\"), Affine(\"second\", 100, 100), Relu(\"second\"), Affine(\"third\", 100, 2), Affine(\"final\", 2, 1), Sigmoid(\"final\")]\n",
    "model_nn = Model(layers)\n",
    "\n",
    "# layers for the Logistic Regression\n",
    "layers_lr = [Affine(\"logits\", 784, 1), Sigmoid(\"sigmoid\")]\n",
    "model_lr = Model(layers_lr)"
   ]
  },
  {
   "cell_type": "code",
   "execution_count": 19,
   "metadata": {
    "execution": {
     "iopub.execute_input": "2020-09-30T20:05:04.228859Z",
     "iopub.status.busy": "2020-09-30T20:05:04.228023Z",
     "iopub.status.idle": "2020-09-30T20:05:04.241497Z",
     "shell.execute_reply": "2020-09-30T20:05:04.242043Z"
    },
    "papermill": {
     "duration": 0.048756,
     "end_time": "2020-09-30T20:05:04.242196",
     "exception": false,
     "start_time": "2020-09-30T20:05:04.193440",
     "status": "completed"
    },
    "tags": []
   },
   "outputs": [],
   "source": [
    "# suffix _nn stands for Neural Network.\n",
    "learner_nn = Learner(loss, model_nn, opt, config.num_epochs)\n",
    "acc_nn = ClfCallback(learner_nn, config.bs, training_xdata , testing_xdata, training_ydata, testing_ydata)\n",
    "learner_nn.set_callbacks([acc_nn])"
   ]
  },
  {
   "cell_type": "code",
   "execution_count": 20,
   "metadata": {
    "execution": {
     "iopub.execute_input": "2020-09-30T20:05:04.327175Z",
     "iopub.status.busy": "2020-09-30T20:05:04.325516Z",
     "iopub.status.idle": "2020-09-30T20:07:05.670937Z",
     "shell.execute_reply": "2020-09-30T20:07:05.670351Z"
    },
    "papermill": {
     "duration": 121.394703,
     "end_time": "2020-09-30T20:07:05.671089",
     "exception": false,
     "start_time": "2020-09-30T20:05:04.276386",
     "status": "completed"
    },
    "tags": []
   },
   "outputs": [
    {
     "name": "stdout",
     "output_type": "stream",
     "text": [
      "====== Neural Network ======\n"
     ]
    },
    {
     "name": "stdout",
     "output_type": "stream",
     "text": [
      "Epoch 0, Loss 0.2694\n",
      "Training Accuracy: 0.4949, Testing Accuracy: 0.4985\n",
      "\n"
     ]
    },
    {
     "name": "stdout",
     "output_type": "stream",
     "text": [
      "Epoch 10, Loss 0.1077\n",
      "Training Accuracy: 0.9004, Testing Accuracy: 0.9128\n",
      "\n"
     ]
    },
    {
     "name": "stdout",
     "output_type": "stream",
     "text": [
      "Epoch 20, Loss 0.0617\n",
      "Training Accuracy: 0.9352, Testing Accuracy: 0.9456\n",
      "\n"
     ]
    },
    {
     "name": "stdout",
     "output_type": "stream",
     "text": [
      "Epoch 30, Loss 0.0462\n",
      "Training Accuracy: 0.9498, Testing Accuracy: 0.9582\n",
      "\n"
     ]
    },
    {
     "name": "stdout",
     "output_type": "stream",
     "text": [
      "Epoch 40, Loss 0.0391\n",
      "Training Accuracy: 0.9554, Testing Accuracy: 0.9632\n",
      "\n"
     ]
    },
    {
     "name": "stdout",
     "output_type": "stream",
     "text": [
      "Epoch 50, Loss 0.035\n",
      "Training Accuracy: 0.9594, Testing Accuracy: 0.9657\n",
      "\n"
     ]
    },
    {
     "name": "stdout",
     "output_type": "stream",
     "text": [
      "Epoch 60, Loss 0.0323\n",
      "Training Accuracy: 0.9619, Testing Accuracy: 0.9682\n",
      "\n"
     ]
    },
    {
     "name": "stdout",
     "output_type": "stream",
     "text": [
      "Epoch 70, Loss 0.0303\n",
      "Training Accuracy: 0.9635, Testing Accuracy: 0.9672\n",
      "\n"
     ]
    },
    {
     "name": "stdout",
     "output_type": "stream",
     "text": [
      "Epoch 80, Loss 0.0287\n",
      "Training Accuracy: 0.9654, Testing Accuracy: 0.9688\n",
      "\n"
     ]
    },
    {
     "name": "stdout",
     "output_type": "stream",
     "text": [
      "Epoch 90, Loss 0.0275\n",
      "Training Accuracy: 0.9674, Testing Accuracy: 0.9682\n",
      "\n"
     ]
    },
    {
     "name": "stdout",
     "output_type": "stream",
     "text": [
      "Epoch 100, Loss 0.0264\n",
      "Training Accuracy: 0.9691, Testing Accuracy: 0.9693\n",
      "\n"
     ]
    },
    {
     "name": "stdout",
     "output_type": "stream",
     "text": [
      "Epoch 110, Loss 0.0254\n",
      "Training Accuracy: 0.9700, Testing Accuracy: 0.9693\n",
      "\n"
     ]
    },
    {
     "name": "stdout",
     "output_type": "stream",
     "text": [
      "Epoch 120, Loss 0.0246\n",
      "Training Accuracy: 0.9710, Testing Accuracy: 0.9708\n",
      "\n"
     ]
    },
    {
     "name": "stdout",
     "output_type": "stream",
     "text": [
      "Epoch 130, Loss 0.0238\n",
      "Training Accuracy: 0.9720, Testing Accuracy: 0.9713\n",
      "\n"
     ]
    },
    {
     "name": "stdout",
     "output_type": "stream",
     "text": [
      "Epoch 140, Loss 0.0232\n",
      "Training Accuracy: 0.9735, Testing Accuracy: 0.9713\n",
      "\n"
     ]
    },
    {
     "name": "stdout",
     "output_type": "stream",
     "text": [
      "Epoch 150, Loss 0.0225\n",
      "Training Accuracy: 0.9746, Testing Accuracy: 0.9703\n",
      "\n"
     ]
    },
    {
     "name": "stdout",
     "output_type": "stream",
     "text": [
      "Epoch 160, Loss 0.022\n",
      "Training Accuracy: 0.9749, Testing Accuracy: 0.9718\n",
      "\n"
     ]
    },
    {
     "name": "stdout",
     "output_type": "stream",
     "text": [
      "Epoch 170, Loss 0.0214\n",
      "Training Accuracy: 0.9755, Testing Accuracy: 0.9723\n",
      "\n"
     ]
    },
    {
     "name": "stdout",
     "output_type": "stream",
     "text": [
      "Epoch 180, Loss 0.0209\n",
      "Training Accuracy: 0.9766, Testing Accuracy: 0.9723\n",
      "\n"
     ]
    },
    {
     "name": "stdout",
     "output_type": "stream",
     "text": [
      "Epoch 190, Loss 0.0204\n",
      "Training Accuracy: 0.9773, Testing Accuracy: 0.9728\n",
      "\n"
     ]
    },
    {
     "name": "stdout",
     "output_type": "stream",
     "text": [
      "Epoch 200, Loss 0.0199\n",
      "Training Accuracy: 0.9779, Testing Accuracy: 0.9748\n",
      "\n"
     ]
    },
    {
     "name": "stdout",
     "output_type": "stream",
     "text": [
      "Epoch 210, Loss 0.0195\n",
      "Training Accuracy: 0.9781, Testing Accuracy: 0.9743\n",
      "\n"
     ]
    },
    {
     "name": "stdout",
     "output_type": "stream",
     "text": [
      "Epoch 220, Loss 0.0191\n",
      "Training Accuracy: 0.9791, Testing Accuracy: 0.9753\n",
      "\n"
     ]
    },
    {
     "name": "stdout",
     "output_type": "stream",
     "text": [
      "Epoch 230, Loss 0.0187\n",
      "Training Accuracy: 0.9796, Testing Accuracy: 0.9758\n",
      "\n"
     ]
    },
    {
     "name": "stdout",
     "output_type": "stream",
     "text": [
      "Epoch 240, Loss 0.0183\n",
      "Training Accuracy: 0.9799, Testing Accuracy: 0.9758\n",
      "\n"
     ]
    },
    {
     "name": "stdout",
     "output_type": "stream",
     "text": [
      "Epoch 250, Loss 0.0179\n",
      "Training Accuracy: 0.9809, Testing Accuracy: 0.9768\n",
      "\n"
     ]
    },
    {
     "data": {
      "text/plain": [
       "0.008553989305714941"
      ]
     },
     "execution_count": 20,
     "metadata": {},
     "output_type": "execute_result"
    }
   ],
   "source": [
    "print(\"====== Neural Network ======\")\n",
    "learner_nn.train_loop(dl)"
   ]
  },
  {
   "cell_type": "markdown",
   "metadata": {
    "papermill": {
     "duration": 0.039057,
     "end_time": "2020-09-30T20:07:05.751127",
     "exception": false,
     "start_time": "2020-09-30T20:07:05.712070",
     "status": "completed"
    },
    "tags": []
   },
   "source": [
    "### Logistic Regression based Implementation."
   ]
  },
  {
   "cell_type": "code",
   "execution_count": 21,
   "metadata": {
    "execution": {
     "iopub.execute_input": "2020-09-30T20:07:05.837710Z",
     "iopub.status.busy": "2020-09-30T20:07:05.836710Z",
     "iopub.status.idle": "2020-09-30T20:07:05.848678Z",
     "shell.execute_reply": "2020-09-30T20:07:05.849218Z"
    },
    "papermill": {
     "duration": 0.058953,
     "end_time": "2020-09-30T20:07:05.849368",
     "exception": false,
     "start_time": "2020-09-30T20:07:05.790415",
     "status": "completed"
    },
    "tags": []
   },
   "outputs": [],
   "source": [
    "learner_lr = Learner(loss, model_lr, opt, config.num_epochs)\n",
    "acc_lr = ClfCallback(learner_lr, config.bs, training_xdata , testing_xdata, training_ydata, testing_ydata)\n",
    "learner_lr.set_callbacks([acc_lr])"
   ]
  },
  {
   "cell_type": "code",
   "execution_count": 22,
   "metadata": {
    "execution": {
     "iopub.execute_input": "2020-09-30T20:07:05.948536Z",
     "iopub.status.busy": "2020-09-30T20:07:05.947580Z",
     "iopub.status.idle": "2020-09-30T20:07:23.442732Z",
     "shell.execute_reply": "2020-09-30T20:07:23.442169Z"
    },
    "papermill": {
     "duration": 17.551439,
     "end_time": "2020-09-30T20:07:23.442884",
     "exception": false,
     "start_time": "2020-09-30T20:07:05.891445",
     "status": "completed"
    },
    "tags": []
   },
   "outputs": [
    {
     "name": "stdout",
     "output_type": "stream",
     "text": [
      "====== Logistic Regression ======\n",
      "Epoch 0, Loss 0.2264\n",
      "Training Accuracy: 0.7368, Testing Accuracy: 0.7218\n",
      "\n"
     ]
    },
    {
     "name": "stdout",
     "output_type": "stream",
     "text": [
      "Epoch 10, Loss 0.0995\n",
      "Training Accuracy: 0.9179, Testing Accuracy: 0.9239\n",
      "\n"
     ]
    },
    {
     "name": "stdout",
     "output_type": "stream",
     "text": [
      "Epoch 20, Loss 0.0767\n",
      "Training Accuracy: 0.9326, Testing Accuracy: 0.9400\n",
      "\n"
     ]
    },
    {
     "name": "stdout",
     "output_type": "stream",
     "text": [
      "Epoch 30, Loss 0.0661\n",
      "Training Accuracy: 0.9412, Testing Accuracy: 0.9466\n",
      "\n"
     ]
    },
    {
     "name": "stdout",
     "output_type": "stream",
     "text": [
      "Epoch 40, Loss 0.0597\n",
      "Training Accuracy: 0.9460, Testing Accuracy: 0.9536\n",
      "\n"
     ]
    },
    {
     "name": "stdout",
     "output_type": "stream",
     "text": [
      "Epoch 50, Loss 0.0554\n",
      "Training Accuracy: 0.9498, Testing Accuracy: 0.9541\n",
      "\n"
     ]
    },
    {
     "name": "stdout",
     "output_type": "stream",
     "text": [
      "Epoch 60, Loss 0.0522\n",
      "Training Accuracy: 0.9518, Testing Accuracy: 0.9561\n",
      "\n"
     ]
    },
    {
     "name": "stdout",
     "output_type": "stream",
     "text": [
      "Epoch 70, Loss 0.0498\n",
      "Training Accuracy: 0.9532, Testing Accuracy: 0.9572\n",
      "\n"
     ]
    },
    {
     "name": "stdout",
     "output_type": "stream",
     "text": [
      "Epoch 80, Loss 0.0479\n",
      "Training Accuracy: 0.9543, Testing Accuracy: 0.9587\n",
      "\n"
     ]
    },
    {
     "name": "stdout",
     "output_type": "stream",
     "text": [
      "Epoch 90, Loss 0.0463\n",
      "Training Accuracy: 0.9553, Testing Accuracy: 0.9612\n",
      "\n"
     ]
    },
    {
     "name": "stdout",
     "output_type": "stream",
     "text": [
      "Epoch 100, Loss 0.0449\n",
      "Training Accuracy: 0.9559, Testing Accuracy: 0.9617\n",
      "\n"
     ]
    },
    {
     "name": "stdout",
     "output_type": "stream",
     "text": [
      "Epoch 110, Loss 0.0438\n",
      "Training Accuracy: 0.9564, Testing Accuracy: 0.9617\n",
      "\n"
     ]
    },
    {
     "name": "stdout",
     "output_type": "stream",
     "text": [
      "Epoch 120, Loss 0.0428\n",
      "Training Accuracy: 0.9571, Testing Accuracy: 0.9622\n",
      "\n"
     ]
    },
    {
     "name": "stdout",
     "output_type": "stream",
     "text": [
      "Epoch 130, Loss 0.0419\n",
      "Training Accuracy: 0.9578, Testing Accuracy: 0.9622\n",
      "\n"
     ]
    },
    {
     "name": "stdout",
     "output_type": "stream",
     "text": [
      "Epoch 140, Loss 0.0412\n",
      "Training Accuracy: 0.9585, Testing Accuracy: 0.9622\n",
      "\n"
     ]
    },
    {
     "name": "stdout",
     "output_type": "stream",
     "text": [
      "Epoch 150, Loss 0.0405\n",
      "Training Accuracy: 0.9585, Testing Accuracy: 0.9622\n",
      "\n"
     ]
    },
    {
     "name": "stdout",
     "output_type": "stream",
     "text": [
      "Epoch 160, Loss 0.0398\n",
      "Training Accuracy: 0.9590, Testing Accuracy: 0.9627\n",
      "\n"
     ]
    },
    {
     "name": "stdout",
     "output_type": "stream",
     "text": [
      "Epoch 170, Loss 0.0393\n",
      "Training Accuracy: 0.9592, Testing Accuracy: 0.9622\n",
      "\n"
     ]
    },
    {
     "name": "stdout",
     "output_type": "stream",
     "text": [
      "Epoch 180, Loss 0.0387\n",
      "Training Accuracy: 0.9594, Testing Accuracy: 0.9627\n",
      "\n"
     ]
    },
    {
     "name": "stdout",
     "output_type": "stream",
     "text": [
      "Epoch 190, Loss 0.0382\n",
      "Training Accuracy: 0.9598, Testing Accuracy: 0.9627\n",
      "\n"
     ]
    },
    {
     "name": "stdout",
     "output_type": "stream",
     "text": [
      "Epoch 200, Loss 0.0378\n",
      "Training Accuracy: 0.9606, Testing Accuracy: 0.9627\n",
      "\n"
     ]
    },
    {
     "name": "stdout",
     "output_type": "stream",
     "text": [
      "Epoch 210, Loss 0.0374\n",
      "Training Accuracy: 0.9609, Testing Accuracy: 0.9632\n",
      "\n"
     ]
    },
    {
     "name": "stdout",
     "output_type": "stream",
     "text": [
      "Epoch 220, Loss 0.037\n",
      "Training Accuracy: 0.9613, Testing Accuracy: 0.9637\n",
      "\n"
     ]
    },
    {
     "name": "stdout",
     "output_type": "stream",
     "text": [
      "Epoch 230, Loss 0.0366\n",
      "Training Accuracy: 0.9616, Testing Accuracy: 0.9642\n",
      "\n"
     ]
    },
    {
     "name": "stdout",
     "output_type": "stream",
     "text": [
      "Epoch 240, Loss 0.0363\n",
      "Training Accuracy: 0.9622, Testing Accuracy: 0.9637\n",
      "\n"
     ]
    },
    {
     "name": "stdout",
     "output_type": "stream",
     "text": [
      "Epoch 250, Loss 0.036\n",
      "Training Accuracy: 0.9621, Testing Accuracy: 0.9637\n",
      "\n"
     ]
    },
    {
     "data": {
      "text/plain": [
       "0.07847393183485292"
      ]
     },
     "execution_count": 22,
     "metadata": {},
     "output_type": "execute_result"
    }
   ],
   "source": [
    "print(\"====== Logistic Regression ======\")\n",
    "learner_lr.train_loop(dl)"
   ]
  },
  {
   "cell_type": "markdown",
   "metadata": {
    "papermill": {
     "duration": 0.050249,
     "end_time": "2020-09-30T20:07:23.543570",
     "exception": false,
     "start_time": "2020-09-30T20:07:23.493321",
     "status": "completed"
    },
    "tags": []
   },
   "source": [
    "### Comparing results of NN and LR"
   ]
  },
  {
   "cell_type": "code",
   "execution_count": 23,
   "metadata": {
    "execution": {
     "iopub.execute_input": "2020-09-30T20:07:23.651882Z",
     "iopub.status.busy": "2020-09-30T20:07:23.651236Z",
     "iopub.status.idle": "2020-09-30T20:07:23.929388Z",
     "shell.execute_reply": "2020-09-30T20:07:23.930249Z"
    },
    "papermill": {
     "duration": 0.338768,
     "end_time": "2020-09-30T20:07:23.930422",
     "exception": false,
     "start_time": "2020-09-30T20:07:23.591654",
     "status": "completed"
    },
    "tags": []
   },
   "outputs": [
    {
     "data": {
      "text/plain": [
       "<matplotlib.legend.Legend at 0x7f8ead20d2e8>"
      ]
     },
     "execution_count": 23,
     "metadata": {},
     "output_type": "execute_result"
    },
    {
     "data": {
      "image/png": "[encoded data removed]",
      "text/plain": [
       "<Figure size 1080x720 with 1 Axes>"
      ]
     },
     "metadata": {
      "needs_background": "light"
     },
     "output_type": "display_data"
    }
   ],
   "source": [
    "plt.figure(figsize=(15,10))\n",
    "\n",
    "# Neural Network plots\n",
    "plt.plot(acc_nn.accuracies, 'r-', label = \"Training Accuracies - NN\")\n",
    "plt.plot(acc_nn.test_accuracies, 'g-', label = \"Testing Accuracies - NN\")\n",
    "\n",
    "# Logistic Regression plots\n",
    "plt.plot(acc_lr.accuracies, 'k-', label = \"Training Accuracies - LR\")\n",
    "plt.plot(acc_lr.test_accuracies, 'b-', label = \"Testing Accuracies - LR\")\n",
    "\n",
    "plt.ylim(0.8, 1)\n",
    "\n",
    "plt.legend()\n",
    "\n"
   ]
  },
  {
   "cell_type": "markdown",
   "metadata": {
    "papermill": {
     "duration": 0.051325,
     "end_time": "2020-09-30T20:07:24.032393",
     "exception": false,
     "start_time": "2020-09-30T20:07:23.981068",
     "status": "completed"
    },
    "tags": []
   },
   "source": [
    "### From the plot, we can observe the following:\n",
    "- Neural Network achieves higher accuracy than the Logistic Regression model.\n",
    "- This apparently, is because of overfitting, i.e. NN captures more noise than data.\n",
    "- Testing accuracy of NN drops below the Training accuracy at higher epochs. This explains the over-fitting on training data.\n",
    "- Logistic Regression gives a reliable accuracy, without the above mentioned problem.\n"
   ]
  },
  {
   "cell_type": "markdown",
   "metadata": {
    "papermill": {
     "duration": 0.049844,
     "end_time": "2020-09-30T20:07:24.138838",
     "exception": false,
     "start_time": "2020-09-30T20:07:24.088994",
     "status": "completed"
    },
    "tags": []
   },
   "source": [
    "### Moving till the last but one layer (excluding it).\n",
    "#### Plotting the outputs of this layer of the NN."
   ]
  },
  {
   "cell_type": "code",
   "execution_count": 24,
   "metadata": {
    "execution": {
     "iopub.execute_input": "2020-09-30T20:07:24.248179Z",
     "iopub.status.busy": "2020-09-30T20:07:24.247538Z",
     "iopub.status.idle": "2020-09-30T20:07:24.257256Z",
     "shell.execute_reply": "2020-09-30T20:07:24.257859Z"
    },
    "papermill": {
     "duration": 0.06714,
     "end_time": "2020-09-30T20:07:24.258012",
     "exception": false,
     "start_time": "2020-09-30T20:07:24.190872",
     "status": "completed"
    },
    "tags": []
   },
   "outputs": [],
   "source": [
    "model_new = Model(layers[:-2])"
   ]
  },
  {
   "cell_type": "code",
   "execution_count": 25,
   "metadata": {
    "execution": {
     "iopub.execute_input": "2020-09-30T20:07:24.359820Z",
     "iopub.status.busy": "2020-09-30T20:07:24.359188Z",
     "iopub.status.idle": "2020-09-30T20:07:24.383085Z",
     "shell.execute_reply": "2020-09-30T20:07:24.383831Z"
    },
    "papermill": {
     "duration": 0.077273,
     "end_time": "2020-09-30T20:07:24.384004",
     "exception": false,
     "start_time": "2020-09-30T20:07:24.306731",
     "status": "completed"
    },
    "tags": []
   },
   "outputs": [],
   "source": [
    "plot_testing = model_new(testing_xdata)"
   ]
  },
  {
   "cell_type": "code",
   "execution_count": 26,
   "metadata": {
    "execution": {
     "iopub.execute_input": "2020-09-30T20:07:24.492351Z",
     "iopub.status.busy": "2020-09-30T20:07:24.491626Z",
     "iopub.status.idle": "2020-09-30T20:07:24.708013Z",
     "shell.execute_reply": "2020-09-30T20:07:24.707445Z"
    },
    "papermill": {
     "duration": 0.275283,
     "end_time": "2020-09-30T20:07:24.708162",
     "exception": false,
     "start_time": "2020-09-30T20:07:24.432879",
     "status": "completed"
    },
    "tags": []
   },
   "outputs": [
    {
     "data": {
      "text/plain": [
       "Text(0.5, 1.0, 'Outputs')"
      ]
     },
     "execution_count": 26,
     "metadata": {},
     "output_type": "execute_result"
    },
    {
     "data": {
      "image/png": "[encoded data removed]",
      "text/plain": [
       "<Figure size 576x504 with 1 Axes>"
      ]
     },
     "metadata": {
      "needs_background": "light"
     },
     "output_type": "display_data"
    }
   ],
   "source": [
    "plt.figure(figsize=(8,7))\n",
    "plt.scatter(plot_testing[:,0], plot_testing[:,1], alpha = 0.1, c = y_test.ravel());\n",
    "plt.title('Outputs')"
   ]
  },
  {
   "cell_type": "markdown",
   "metadata": {
    "papermill": {
     "duration": 0.050897,
     "end_time": "2020-09-30T20:07:24.815339",
     "exception": false,
     "start_time": "2020-09-30T20:07:24.764442",
     "status": "completed"
    },
    "tags": []
   },
   "source": [
    "### Plotting probability contours"
   ]
  },
  {
   "cell_type": "code",
   "execution_count": 27,
   "metadata": {
    "execution": {
     "iopub.execute_input": "2020-09-30T20:07:24.933067Z",
     "iopub.status.busy": "2020-09-30T20:07:24.926578Z",
     "iopub.status.idle": "2020-09-30T20:07:24.941303Z",
     "shell.execute_reply": "2020-09-30T20:07:24.941839Z"
    },
    "papermill": {
     "duration": 0.073388,
     "end_time": "2020-09-30T20:07:24.941999",
     "exception": false,
     "start_time": "2020-09-30T20:07:24.868611",
     "status": "completed"
    },
    "tags": []
   },
   "outputs": [],
   "source": [
    "model_prob = Model(layers[-2:]) "
   ]
  },
  {
   "cell_type": "code",
   "execution_count": 28,
   "metadata": {
    "execution": {
     "iopub.execute_input": "2020-09-30T20:07:25.056579Z",
     "iopub.status.busy": "2020-09-30T20:07:25.055826Z",
     "iopub.status.idle": "2020-09-30T20:07:25.074921Z",
     "shell.execute_reply": "2020-09-30T20:07:25.075434Z"
    },
    "papermill": {
     "duration": 0.080762,
     "end_time": "2020-09-30T20:07:25.075610",
     "exception": false,
     "start_time": "2020-09-30T20:07:24.994848",
     "status": "completed"
    },
    "tags": []
   },
   "outputs": [],
   "source": [
    "# Adjust the x and y ranges according to the above generated plot.\n",
    "x_range = np.linspace(-4, 1, 100) \n",
    "y_range = np.linspace(-6, 6, 100) \n",
    "x_grid, y_grid = np.meshgrid(x_range, y_range) # x_grid and y_grig are of size 100 X 100\n",
    "\n",
    "# converting x_grid and y_grid to continuous arrays\n",
    "x_grid_flat = np.ravel(x_grid)\n",
    "y_grid_flat = np.ravel(y_grid)\n",
    "\n",
    "# The last layer of the current model takes two columns as input. Hence transpose of np.vstack() is required.\n",
    "X = np.vstack((x_grid_flat, y_grid_flat)).T\n",
    "\n",
    "# x_grid and y_grid are of size 100 x 100\n",
    "probability_contour = model_prob(X).reshape(100,100) "
   ]
  },
  {
   "cell_type": "code",
   "execution_count": 29,
   "metadata": {
    "execution": {
     "iopub.execute_input": "2020-09-30T20:07:25.185838Z",
     "iopub.status.busy": "2020-09-30T20:07:25.184940Z",
     "iopub.status.idle": "2020-09-30T20:07:25.447324Z",
     "shell.execute_reply": "2020-09-30T20:07:25.447836Z"
    },
    "papermill": {
     "duration": 0.320555,
     "end_time": "2020-09-30T20:07:25.448010",
     "exception": false,
     "start_time": "2020-09-30T20:07:25.127455",
     "status": "completed"
    },
    "tags": []
   },
   "outputs": [
    {
     "data": {
      "image/png": "[encoded data removed]",
      "text/plain": [
       "<Figure size 720x648 with 1 Axes>"
      ]
     },
     "metadata": {
      "needs_background": "light"
     },
     "output_type": "display_data"
    }
   ],
   "source": [
    "plt.figure(figsize=(10,9))\n",
    "plt.scatter(plot_testing[:,0], plot_testing[:,1], alpha = 0.1, c = y_test.ravel())\n",
    "contours = plt.contour(x_grid,y_grid,probability_contour)\n",
    "plt.title('Probability Contours')\n",
    "plt.clabel(contours, inline = True );"
   ]
  }
 ],
 "metadata": {
  "kernelspec": {
   "display_name": "Python 3",
   "language": "python",
   "name": "python3"
  },
  "language_info": {
   "codemirror_mode": {
    "name": "ipython",
    "version": 3
   },
   "file_extension": ".py",
   "mimetype": "text/x-python",
   "name": "python",
   "nbconvert_exporter": "python",
   "pygments_lexer": "ipython3",
   "version": "3.6.12"
  },
  "papermill": {
   "duration": 148.300893,
   "end_time": "2020-09-30T20:07:25.829417",
   "environment_variables": {},
   "exception": null,
   "input_path": "2020-08-11-NeuralNetwork.ipynb",
   "output_path": "2020-08-11-NeuralNetwork.ipynb",
   "parameters": {},
   "start_time": "2020-09-30T20:04:57.528524",
   "version": "2.1.2"
  }
 },
 "nbformat": 4,
 "nbformat_minor": 4
}