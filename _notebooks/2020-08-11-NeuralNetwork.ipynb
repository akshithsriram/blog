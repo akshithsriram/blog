{
 "cells": [
  {
   "cell_type": "markdown",
   "metadata": {
    "papermill": {
     "duration": 0.028616,
     "end_time": "2020-12-13T10:04:13.619801",
     "exception": false,
     "start_time": "2020-12-13T10:04:13.591185",
     "status": "completed"
    },
    "tags": []
   },
   "source": [
    "# \"A Basic Neural Network: Differentiate Hand-Written Digits\"\n",
    "\n",
    "- badges: true\n",
    "- author: Akshith Sriram"
   ]
  },
  {
   "cell_type": "markdown",
   "metadata": {
    "papermill": {
     "duration": 0.022051,
     "end_time": "2020-12-13T10:04:13.664645",
     "exception": false,
     "start_time": "2020-12-13T10:04:13.642594",
     "status": "completed"
    },
    "tags": []
   },
   "source": [
    "### Key Objectives:\n",
    "- Building a neural network that differentiates two hand-written digits 3 and 8.\n",
    "- Comparing the results of this Neural Network (NN) to that of a Logistic Regression (LR) model.\n",
    "\n",
    "### Requirements:\n",
    "- 'Kudzu' : A neural network library that was designed during our course by [Univ.AI](www.univ.ai). \n",
    "- MNIST Database\n",
    "\n",
    "If MNIST is not installed, use the command `!pip install mnist` given below.\n",
    "It can be run both from the command line and Jupyter Notebook."
   ]
  },
  {
   "cell_type": "code",
   "execution_count": 1,
   "metadata": {
    "execution": {
     "iopub.execute_input": "2020-12-13T10:04:13.718876Z",
     "iopub.status.busy": "2020-12-13T10:04:13.718358Z",
     "iopub.status.idle": "2020-12-13T10:04:15.012798Z",
     "shell.execute_reply": "2020-12-13T10:04:15.013314Z"
    },
    "papermill": {
     "duration": 1.326723,
     "end_time": "2020-12-13T10:04:15.013514",
     "exception": false,
     "start_time": "2020-12-13T10:04:13.686791",
     "status": "completed"
    },
    "tags": []
   },
   "outputs": [
    {
     "name": "stdout",
     "output_type": "stream",
     "text": [
      "Collecting mnist\r\n"
     ]
    },
    {
     "name": "stdout",
     "output_type": "stream",
     "text": [
      "  Downloading mnist-0.2.2-py2.py3-none-any.whl (3.5 kB)\r\n"
     ]
    },
    {
     "name": "stdout",
     "output_type": "stream",
     "text": [
      "Requirement already satisfied: numpy in /opt/hostedtoolcache/Python/3.6.12/x64/lib/python3.6/site-packages (from mnist) (1.19.4)\r\n"
     ]
    },
    {
     "name": "stdout",
     "output_type": "stream",
     "text": [
      "Installing collected packages: mnist\r\n"
     ]
    },
    {
     "name": "stdout",
     "output_type": "stream",
     "text": [
      "Successfully installed mnist-0.2.2\r\n",
      "\u001b[33mWARNING: You are using pip version 20.2.4; however, version 20.3.1 is available.\r\n",
      "You should consider upgrading via the '/opt/hostedtoolcache/Python/3.6.12/x64/bin/python -m pip install --upgrade pip' command.\u001b[0m\r\n"
     ]
    }
   ],
   "source": [
    "!pip install mnist "
   ]
  },
  {
   "cell_type": "markdown",
   "metadata": {
    "papermill": {
     "duration": 0.020949,
     "end_time": "2020-12-13T10:04:15.056765",
     "exception": false,
     "start_time": "2020-12-13T10:04:15.035816",
     "status": "completed"
    },
    "tags": []
   },
   "source": [
    "#### Importing necessary libraries"
   ]
  },
  {
   "cell_type": "code",
   "execution_count": 2,
   "metadata": {
    "execution": {
     "iopub.execute_input": "2020-12-13T10:04:15.107139Z",
     "iopub.status.busy": "2020-12-13T10:04:15.106692Z",
     "iopub.status.idle": "2020-12-13T10:04:15.630052Z",
     "shell.execute_reply": "2020-12-13T10:04:15.630561Z"
    },
    "papermill": {
     "duration": 0.551957,
     "end_time": "2020-12-13T10:04:15.630726",
     "exception": false,
     "start_time": "2020-12-13T10:04:15.078769",
     "status": "completed"
    },
    "tags": []
   },
   "outputs": [],
   "source": [
    "%load_ext autoreload\n",
    "%autoreload 2\n",
    "\n",
    "%matplotlib inline\n",
    "import matplotlib.pyplot as plt\n",
    "\n",
    "import numpy as np\n",
    "import pandas as pd"
   ]
  },
  {
   "cell_type": "markdown",
   "metadata": {
    "papermill": {
     "duration": 0.021256,
     "end_time": "2020-12-13T10:04:15.674830",
     "exception": false,
     "start_time": "2020-12-13T10:04:15.653574",
     "status": "completed"
    },
    "tags": []
   },
   "source": [
    "### Preparing the Data"
   ]
  },
  {
   "cell_type": "code",
   "execution_count": 3,
   "metadata": {
    "execution": {
     "iopub.execute_input": "2020-12-13T10:04:15.731247Z",
     "iopub.status.busy": "2020-12-13T10:04:15.725669Z",
     "iopub.status.idle": "2020-12-13T10:04:15.733127Z",
     "shell.execute_reply": "2020-12-13T10:04:15.733488Z"
    },
    "papermill": {
     "duration": 0.038101,
     "end_time": "2020-12-13T10:04:15.733608",
     "exception": false,
     "start_time": "2020-12-13T10:04:15.695507",
     "status": "completed"
    },
    "tags": []
   },
   "outputs": [],
   "source": [
    "import mnist"
   ]
  },
  {
   "cell_type": "code",
   "execution_count": 4,
   "metadata": {
    "execution": {
     "iopub.execute_input": "2020-12-13T10:04:15.779745Z",
     "iopub.status.busy": "2020-12-13T10:04:15.779300Z",
     "iopub.status.idle": "2020-12-13T10:04:16.418268Z",
     "shell.execute_reply": "2020-12-13T10:04:16.417831Z"
    },
    "papermill": {
     "duration": 0.663835,
     "end_time": "2020-12-13T10:04:16.418384",
     "exception": false,
     "start_time": "2020-12-13T10:04:15.754549",
     "status": "completed"
    },
    "tags": []
   },
   "outputs": [],
   "source": [
    "train_images = mnist.train_images()\n",
    "train_labels = mnist.train_labels()"
   ]
  },
  {
   "cell_type": "code",
   "execution_count": 5,
   "metadata": {
    "execution": {
     "iopub.execute_input": "2020-12-13T10:04:16.478432Z",
     "iopub.status.busy": "2020-12-13T10:04:16.473723Z",
     "iopub.status.idle": "2020-12-13T10:04:16.480953Z",
     "shell.execute_reply": "2020-12-13T10:04:16.481342Z"
    },
    "papermill": {
     "duration": 0.041972,
     "end_time": "2020-12-13T10:04:16.481470",
     "exception": false,
     "start_time": "2020-12-13T10:04:16.439498",
     "status": "completed"
    },
    "tags": []
   },
   "outputs": [
    {
     "data": {
      "text/plain": [
       "((60000, 28, 28), (60000,))"
      ]
     },
     "execution_count": 5,
     "metadata": {},
     "output_type": "execute_result"
    }
   ],
   "source": [
    "train_images.shape, train_labels.shape"
   ]
  },
  {
   "cell_type": "code",
   "execution_count": 6,
   "metadata": {
    "execution": {
     "iopub.execute_input": "2020-12-13T10:04:16.546525Z",
     "iopub.status.busy": "2020-12-13T10:04:16.543034Z",
     "iopub.status.idle": "2020-12-13T10:04:16.789014Z",
     "shell.execute_reply": "2020-12-13T10:04:16.789495Z"
    },
    "papermill": {
     "duration": 0.287066,
     "end_time": "2020-12-13T10:04:16.789669",
     "exception": false,
     "start_time": "2020-12-13T10:04:16.502603",
     "status": "completed"
    },
    "tags": []
   },
   "outputs": [],
   "source": [
    "test_images = mnist.test_images()\n",
    "test_labels = mnist.test_labels()"
   ]
  },
  {
   "cell_type": "code",
   "execution_count": 7,
   "metadata": {
    "execution": {
     "iopub.execute_input": "2020-12-13T10:04:16.839128Z",
     "iopub.status.busy": "2020-12-13T10:04:16.838676Z",
     "iopub.status.idle": "2020-12-13T10:04:16.851006Z",
     "shell.execute_reply": "2020-12-13T10:04:16.850640Z"
    },
    "papermill": {
     "duration": 0.039867,
     "end_time": "2020-12-13T10:04:16.851114",
     "exception": false,
     "start_time": "2020-12-13T10:04:16.811247",
     "status": "completed"
    },
    "tags": []
   },
   "outputs": [
    {
     "data": {
      "text/plain": [
       "((10000, 28, 28), (10000,))"
      ]
     },
     "execution_count": 7,
     "metadata": {},
     "output_type": "execute_result"
    }
   ],
   "source": [
    "test_images.shape, test_labels.shape"
   ]
  },
  {
   "cell_type": "code",
   "execution_count": 8,
   "metadata": {
    "execution": {
     "iopub.execute_input": "2020-12-13T10:04:16.899087Z",
     "iopub.status.busy": "2020-12-13T10:04:16.898640Z",
     "iopub.status.idle": "2020-12-13T10:04:17.029338Z",
     "shell.execute_reply": "2020-12-13T10:04:17.028809Z"
    },
    "papermill": {
     "duration": 0.157074,
     "end_time": "2020-12-13T10:04:17.029483",
     "exception": false,
     "start_time": "2020-12-13T10:04:16.872409",
     "status": "completed"
    },
    "tags": []
   },
   "outputs": [
    {
     "name": "stdout",
     "output_type": "stream",
     "text": [
      "2\n"
     ]
    },
    {
     "data": {
      "text/plain": [
       "<matplotlib.image.AxesImage at 0x7ffa1a2aa2b0>"
      ]
     },
     "execution_count": 8,
     "metadata": {},
     "output_type": "execute_result"
    },
    {
     "data": {
      "image/png": "[encoded data removed]",
      "text/plain": [
       "<Figure size 432x288 with 1 Axes>"
      ]
     },
     "metadata": {
      "needs_background": "light"
     },
     "output_type": "display_data"
    }
   ],
   "source": [
    "image_index = 7776 # You may select anything up to 60,000\n",
    "print(train_labels[image_index]) \n",
    "plt.imshow(train_images[image_index], cmap='Greys')"
   ]
  },
  {
   "cell_type": "markdown",
   "metadata": {
    "papermill": {
     "duration": 0.022586,
     "end_time": "2020-12-13T10:04:17.075457",
     "exception": false,
     "start_time": "2020-12-13T10:04:17.052871",
     "status": "completed"
    },
    "tags": []
   },
   "source": [
    "## Filter data to get 3 and 8 out"
   ]
  },
  {
   "cell_type": "code",
   "execution_count": 9,
   "metadata": {
    "execution": {
     "iopub.execute_input": "2020-12-13T10:04:17.138417Z",
     "iopub.status.busy": "2020-12-13T10:04:17.137950Z",
     "iopub.status.idle": "2020-12-13T10:04:17.147124Z",
     "shell.execute_reply": "2020-12-13T10:04:17.146760Z"
    },
    "papermill": {
     "duration": 0.049759,
     "end_time": "2020-12-13T10:04:17.147233",
     "exception": false,
     "start_time": "2020-12-13T10:04:17.097474",
     "status": "completed"
    },
    "tags": []
   },
   "outputs": [],
   "source": [
    "train_filter = np.where((train_labels == 3 ) | (train_labels == 8))\n",
    "test_filter = np.where((test_labels == 3) | (test_labels == 8))\n",
    "X_train, y_train = train_images[train_filter], train_labels[train_filter]\n",
    "X_test, y_test = test_images[test_filter], test_labels[test_filter]"
   ]
  },
  {
   "cell_type": "markdown",
   "metadata": {
    "papermill": {
     "duration": 0.022279,
     "end_time": "2020-12-13T10:04:17.191828",
     "exception": false,
     "start_time": "2020-12-13T10:04:17.169549",
     "status": "completed"
    },
    "tags": []
   },
   "source": [
    "We normalize the pixel values in the 0 to 1 range"
   ]
  },
  {
   "cell_type": "code",
   "execution_count": 10,
   "metadata": {
    "execution": {
     "iopub.execute_input": "2020-12-13T10:04:17.242914Z",
     "iopub.status.busy": "2020-12-13T10:04:17.242463Z",
     "iopub.status.idle": "2020-12-13T10:04:17.290703Z",
     "shell.execute_reply": "2020-12-13T10:04:17.290218Z"
    },
    "papermill": {
     "duration": 0.076919,
     "end_time": "2020-12-13T10:04:17.290845",
     "exception": false,
     "start_time": "2020-12-13T10:04:17.213926",
     "status": "completed"
    },
    "tags": []
   },
   "outputs": [],
   "source": [
    "X_train = X_train/255.\n",
    "X_test = X_test/255."
   ]
  },
  {
   "cell_type": "markdown",
   "metadata": {
    "papermill": {
     "duration": 0.022196,
     "end_time": "2020-12-13T10:04:17.337243",
     "exception": false,
     "start_time": "2020-12-13T10:04:17.315047",
     "status": "completed"
    },
    "tags": []
   },
   "source": [
    "Setup the labels as 1 (when the digit is 3) and 0 (when the digit is 8)"
   ]
  },
  {
   "cell_type": "code",
   "execution_count": 11,
   "metadata": {
    "execution": {
     "iopub.execute_input": "2020-12-13T10:04:17.388767Z",
     "iopub.status.busy": "2020-12-13T10:04:17.388319Z",
     "iopub.status.idle": "2020-12-13T10:04:17.398783Z",
     "shell.execute_reply": "2020-12-13T10:04:17.399209Z"
    },
    "papermill": {
     "duration": 0.039958,
     "end_time": "2020-12-13T10:04:17.399336",
     "exception": false,
     "start_time": "2020-12-13T10:04:17.359378",
     "status": "completed"
    },
    "tags": []
   },
   "outputs": [],
   "source": [
    "y_train = 1*(y_train==3)\n",
    "y_test = 1*(y_test==3)"
   ]
  },
  {
   "cell_type": "code",
   "execution_count": 12,
   "metadata": {
    "execution": {
     "iopub.execute_input": "2020-12-13T10:04:17.461310Z",
     "iopub.status.busy": "2020-12-13T10:04:17.453669Z",
     "iopub.status.idle": "2020-12-13T10:04:17.464223Z",
     "shell.execute_reply": "2020-12-13T10:04:17.463840Z"
    },
    "papermill": {
     "duration": 0.042495,
     "end_time": "2020-12-13T10:04:17.464326",
     "exception": false,
     "start_time": "2020-12-13T10:04:17.421831",
     "status": "completed"
    },
    "tags": []
   },
   "outputs": [
    {
     "data": {
      "text/plain": [
       "((11982, 28, 28), (1984, 28, 28))"
      ]
     },
     "execution_count": 12,
     "metadata": {},
     "output_type": "execute_result"
    }
   ],
   "source": [
    "X_train.shape, X_test.shape"
   ]
  },
  {
   "cell_type": "markdown",
   "metadata": {
    "papermill": {
     "duration": 0.022535,
     "end_time": "2020-12-13T10:04:17.509237",
     "exception": false,
     "start_time": "2020-12-13T10:04:17.486702",
     "status": "completed"
    },
    "tags": []
   },
   "source": [
    "### Reshape the input data to create a linear array"
   ]
  },
  {
   "cell_type": "code",
   "execution_count": 13,
   "metadata": {
    "execution": {
     "iopub.execute_input": "2020-12-13T10:04:17.560472Z",
     "iopub.status.busy": "2020-12-13T10:04:17.560016Z",
     "iopub.status.idle": "2020-12-13T10:04:17.571103Z",
     "shell.execute_reply": "2020-12-13T10:04:17.571492Z"
    },
    "papermill": {
     "duration": 0.039941,
     "end_time": "2020-12-13T10:04:17.571621",
     "exception": false,
     "start_time": "2020-12-13T10:04:17.531680",
     "status": "completed"
    },
    "tags": []
   },
   "outputs": [
    {
     "data": {
      "text/plain": [
       "((11982, 784), (1984, 784))"
      ]
     },
     "execution_count": 13,
     "metadata": {},
     "output_type": "execute_result"
    }
   ],
   "source": [
    "X_train = X_train.reshape(X_train.shape[0], -1)\n",
    "X_test = X_test.reshape(X_test.shape[0], -1)\n",
    "X_train.shape, X_test.shape"
   ]
  },
  {
   "cell_type": "markdown",
   "metadata": {
    "papermill": {
     "duration": 0.022629,
     "end_time": "2020-12-13T10:04:17.616946",
     "exception": false,
     "start_time": "2020-12-13T10:04:17.594317",
     "status": "completed"
    },
    "tags": []
   },
   "source": [
    "### Importing appropriate functions from 'Kudzu'"
   ]
  },
  {
   "cell_type": "code",
   "execution_count": 14,
   "metadata": {
    "execution": {
     "iopub.execute_input": "2020-12-13T10:04:17.672045Z",
     "iopub.status.busy": "2020-12-13T10:04:17.671598Z",
     "iopub.status.idle": "2020-12-13T10:04:17.687920Z",
     "shell.execute_reply": "2020-12-13T10:04:17.688303Z"
    },
    "papermill": {
     "duration": 0.048835,
     "end_time": "2020-12-13T10:04:17.688420",
     "exception": false,
     "start_time": "2020-12-13T10:04:17.639585",
     "status": "completed"
    },
    "tags": []
   },
   "outputs": [],
   "source": [
    "from kudzu.layer import Sigmoid\n",
    "from kudzu.layer import Relu\n",
    "from kudzu.layer import Affine, Sigmoid\n",
    "\n",
    "from kudzu.model import Model\n",
    "from kudzu.train import Learner\n",
    "from kudzu.optim import GD\n",
    "from kudzu.data import Data, Dataloader, Sampler\n",
    "\n",
    "from kudzu.callbacks import AccCallback\n",
    "from kudzu.callbacks import ClfCallback\n",
    "\n",
    "from kudzu.loss import MSE"
   ]
  },
  {
   "cell_type": "markdown",
   "metadata": {
    "papermill": {
     "duration": 0.022719,
     "end_time": "2020-12-13T10:04:17.733581",
     "exception": false,
     "start_time": "2020-12-13T10:04:17.710862",
     "status": "completed"
    },
    "tags": []
   },
   "source": [
    "### Let us create a `Config` class, to store important parameters. \n",
    "This class essentially plays the role of a dictionary."
   ]
  },
  {
   "cell_type": "code",
   "execution_count": 15,
   "metadata": {
    "execution": {
     "iopub.execute_input": "2020-12-13T10:04:17.783162Z",
     "iopub.status.busy": "2020-12-13T10:04:17.782703Z",
     "iopub.status.idle": "2020-12-13T10:04:17.794018Z",
     "shell.execute_reply": "2020-12-13T10:04:17.794398Z"
    },
    "papermill": {
     "duration": 0.038264,
     "end_time": "2020-12-13T10:04:17.794523",
     "exception": false,
     "start_time": "2020-12-13T10:04:17.756259",
     "status": "completed"
    },
    "tags": []
   },
   "outputs": [],
   "source": [
    "class Config:\n",
    "    pass\n",
    "config = Config()\n",
    "config.lr = 0.001\n",
    "config.num_epochs = 251\n",
    "config.bs = 50"
   ]
  },
  {
   "cell_type": "markdown",
   "metadata": {
    "papermill": {
     "duration": 0.022616,
     "end_time": "2020-12-13T10:04:17.839904",
     "exception": false,
     "start_time": "2020-12-13T10:04:17.817288",
     "status": "completed"
    },
    "tags": []
   },
   "source": [
    "### Initializing data to the variables"
   ]
  },
  {
   "cell_type": "code",
   "execution_count": 16,
   "metadata": {
    "execution": {
     "iopub.execute_input": "2020-12-13T10:04:17.889589Z",
     "iopub.status.busy": "2020-12-13T10:04:17.889125Z",
     "iopub.status.idle": "2020-12-13T10:04:17.901238Z",
     "shell.execute_reply": "2020-12-13T10:04:17.901627Z"
    },
    "papermill": {
     "duration": 0.039197,
     "end_time": "2020-12-13T10:04:17.901748",
     "exception": false,
     "start_time": "2020-12-13T10:04:17.862551",
     "status": "completed"
    },
    "tags": []
   },
   "outputs": [],
   "source": [
    "data = Data(X_train, y_train.reshape(-1,1))\n",
    "sampler = Sampler(data, config.bs, shuffle=True)\n",
    "\n",
    "dl = Dataloader(data, sampler)\n",
    "\n",
    "opt = GD(config.lr)\n",
    "loss = MSE()"
   ]
  },
  {
   "cell_type": "code",
   "execution_count": 17,
   "metadata": {
    "execution": {
     "iopub.execute_input": "2020-12-13T10:04:17.962529Z",
     "iopub.status.busy": "2020-12-13T10:04:17.956265Z",
     "iopub.status.idle": "2020-12-13T10:04:17.964272Z",
     "shell.execute_reply": "2020-12-13T10:04:17.964649Z"
    },
    "papermill": {
     "duration": 0.040597,
     "end_time": "2020-12-13T10:04:17.964768",
     "exception": false,
     "start_time": "2020-12-13T10:04:17.924171",
     "status": "completed"
    },
    "tags": []
   },
   "outputs": [],
   "source": [
    "training_xdata = X_train\n",
    "testing_xdata = X_test\n",
    "training_ydata = y_train.reshape(-1,1)\n",
    "testing_ydata = y_test.reshape(-1,1)"
   ]
  },
  {
   "cell_type": "markdown",
   "metadata": {
    "papermill": {
     "duration": 0.022466,
     "end_time": "2020-12-13T10:04:18.010205",
     "exception": false,
     "start_time": "2020-12-13T10:04:17.987739",
     "status": "completed"
    },
    "tags": []
   },
   "source": [
    "### Running Models with the Training data\n",
    "Details about the network layers:\n",
    "- A first affine layer has 784 inputs and does 100 affine transforms. These are followed by a Relu\n",
    "- A second affine layer has 100 inputs from the 100 activations of the past layer, and does 100 affine transforms. These are followed by a Relu\n",
    "- A third affine layer has 100 activations and does 2 affine transformations to create an embedding for visualization. There is no non-linearity here.\n",
    "- A final \"logistic regression\" which has an affine transform from 2 inputs to 1 output, which is squeezed through a sigmoid.\n",
    "\n",
    "Help taken from Anshuman's Notebook."
   ]
  },
  {
   "cell_type": "code",
   "execution_count": 18,
   "metadata": {
    "execution": {
     "iopub.execute_input": "2020-12-13T10:04:18.073668Z",
     "iopub.status.busy": "2020-12-13T10:04:18.067968Z",
     "iopub.status.idle": "2020-12-13T10:04:18.078168Z",
     "shell.execute_reply": "2020-12-13T10:04:18.078506Z"
    },
    "papermill": {
     "duration": 0.045734,
     "end_time": "2020-12-13T10:04:18.078631",
     "exception": false,
     "start_time": "2020-12-13T10:04:18.032897",
     "status": "completed"
    },
    "tags": []
   },
   "outputs": [],
   "source": [
    "# layers for the Neural Network\n",
    "layers = [Affine(\"first\", 784, 100), Relu(\"first\"), Affine(\"second\", 100, 100), Relu(\"second\"), Affine(\"third\", 100, 2), Affine(\"final\", 2, 1), Sigmoid(\"final\")]\n",
    "model_nn = Model(layers)\n",
    "\n",
    "# layers for the Logistic Regression\n",
    "layers_lr = [Affine(\"logits\", 784, 1), Sigmoid(\"sigmoid\")]\n",
    "model_lr = Model(layers_lr)"
   ]
  },
  {
   "cell_type": "code",
   "execution_count": 19,
   "metadata": {
    "execution": {
     "iopub.execute_input": "2020-12-13T10:04:18.129033Z",
     "iopub.status.busy": "2020-12-13T10:04:18.128561Z",
     "iopub.status.idle": "2020-12-13T10:04:18.139405Z",
     "shell.execute_reply": "2020-12-13T10:04:18.139760Z"
    },
    "papermill": {
     "duration": 0.037984,
     "end_time": "2020-12-13T10:04:18.139882",
     "exception": false,
     "start_time": "2020-12-13T10:04:18.101898",
     "status": "completed"
    },
    "tags": []
   },
   "outputs": [],
   "source": [
    "# suffix _nn stands for Neural Network.\n",
    "learner_nn = Learner(loss, model_nn, opt, config.num_epochs)\n",
    "acc_nn = ClfCallback(learner_nn, config.bs, training_xdata , testing_xdata, training_ydata, testing_ydata)\n",
    "learner_nn.set_callbacks([acc_nn])"
   ]
  },
  {
   "cell_type": "code",
   "execution_count": 20,
   "metadata": {
    "execution": {
     "iopub.execute_input": "2020-12-13T10:04:18.190155Z",
     "iopub.status.busy": "2020-12-13T10:04:18.189705Z",
     "iopub.status.idle": "2020-12-13T10:05:37.878249Z",
     "shell.execute_reply": "2020-12-13T10:05:37.878941Z"
    },
    "papermill": {
     "duration": 79.716741,
     "end_time": "2020-12-13T10:05:37.879091",
     "exception": false,
     "start_time": "2020-12-13T10:04:18.162350",
     "status": "completed"
    },
    "tags": []
   },
   "outputs": [
    {
     "name": "stdout",
     "output_type": "stream",
     "text": [
      "====== Neural Network ======\n"
     ]
    },
    {
     "name": "stdout",
     "output_type": "stream",
     "text": [
      "Epoch 0, Loss 0.2499\n",
      "Training Accuracy: 0.6279, Testing Accuracy: 0.5993\n",
      "\n"
     ]
    },
    {
     "name": "stdout",
     "output_type": "stream",
     "text": [
      "Epoch 10, Loss 0.0897\n",
      "Training Accuracy: 0.9209, Testing Accuracy: 0.9309\n",
      "\n"
     ]
    },
    {
     "name": "stdout",
     "output_type": "stream",
     "text": [
      "Epoch 20, Loss 0.0566\n",
      "Training Accuracy: 0.9410, Testing Accuracy: 0.9536\n",
      "\n"
     ]
    },
    {
     "name": "stdout",
     "output_type": "stream",
     "text": [
      "Epoch 30, Loss 0.0453\n",
      "Training Accuracy: 0.9491, Testing Accuracy: 0.9587\n",
      "\n"
     ]
    },
    {
     "name": "stdout",
     "output_type": "stream",
     "text": [
      "Epoch 40, Loss 0.0395\n",
      "Training Accuracy: 0.9538, Testing Accuracy: 0.9637\n",
      "\n"
     ]
    },
    {
     "name": "stdout",
     "output_type": "stream",
     "text": [
      "Epoch 50, Loss 0.036\n",
      "Training Accuracy: 0.9590, Testing Accuracy: 0.9657\n",
      "\n"
     ]
    },
    {
     "name": "stdout",
     "output_type": "stream",
     "text": [
      "Epoch 60, Loss 0.0334\n",
      "Training Accuracy: 0.9614, Testing Accuracy: 0.9652\n",
      "\n"
     ]
    },
    {
     "name": "stdout",
     "output_type": "stream",
     "text": [
      "Epoch 70, Loss 0.0315\n",
      "Training Accuracy: 0.9632, Testing Accuracy: 0.9652\n",
      "\n"
     ]
    },
    {
     "name": "stdout",
     "output_type": "stream",
     "text": [
      "Epoch 80, Loss 0.03\n",
      "Training Accuracy: 0.9647, Testing Accuracy: 0.9677\n",
      "\n"
     ]
    },
    {
     "name": "stdout",
     "output_type": "stream",
     "text": [
      "Epoch 90, Loss 0.0287\n",
      "Training Accuracy: 0.9660, Testing Accuracy: 0.9688\n",
      "\n"
     ]
    },
    {
     "name": "stdout",
     "output_type": "stream",
     "text": [
      "Epoch 100, Loss 0.0276\n",
      "Training Accuracy: 0.9678, Testing Accuracy: 0.9688\n",
      "\n"
     ]
    },
    {
     "name": "stdout",
     "output_type": "stream",
     "text": [
      "Epoch 110, Loss 0.0267\n",
      "Training Accuracy: 0.9688, Testing Accuracy: 0.9682\n",
      "\n"
     ]
    },
    {
     "name": "stdout",
     "output_type": "stream",
     "text": [
      "Epoch 120, Loss 0.0258\n",
      "Training Accuracy: 0.9700, Testing Accuracy: 0.9682\n",
      "\n"
     ]
    },
    {
     "name": "stdout",
     "output_type": "stream",
     "text": [
      "Epoch 130, Loss 0.0251\n",
      "Training Accuracy: 0.9707, Testing Accuracy: 0.9677\n",
      "\n"
     ]
    },
    {
     "name": "stdout",
     "output_type": "stream",
     "text": [
      "Epoch 140, Loss 0.0244\n",
      "Training Accuracy: 0.9720, Testing Accuracy: 0.9693\n",
      "\n"
     ]
    },
    {
     "name": "stdout",
     "output_type": "stream",
     "text": [
      "Epoch 150, Loss 0.0237\n",
      "Training Accuracy: 0.9728, Testing Accuracy: 0.9698\n",
      "\n"
     ]
    },
    {
     "name": "stdout",
     "output_type": "stream",
     "text": [
      "Epoch 160, Loss 0.0231\n",
      "Training Accuracy: 0.9735, Testing Accuracy: 0.9698\n",
      "\n"
     ]
    },
    {
     "name": "stdout",
     "output_type": "stream",
     "text": [
      "Epoch 170, Loss 0.0226\n",
      "Training Accuracy: 0.9740, Testing Accuracy: 0.9698\n",
      "\n"
     ]
    },
    {
     "name": "stdout",
     "output_type": "stream",
     "text": [
      "Epoch 180, Loss 0.0221\n",
      "Training Accuracy: 0.9749, Testing Accuracy: 0.9698\n",
      "\n"
     ]
    },
    {
     "name": "stdout",
     "output_type": "stream",
     "text": [
      "Epoch 190, Loss 0.0216\n",
      "Training Accuracy: 0.9760, Testing Accuracy: 0.9713\n",
      "\n"
     ]
    },
    {
     "name": "stdout",
     "output_type": "stream",
     "text": [
      "Epoch 200, Loss 0.0211\n",
      "Training Accuracy: 0.9767, Testing Accuracy: 0.9718\n",
      "\n"
     ]
    },
    {
     "name": "stdout",
     "output_type": "stream",
     "text": [
      "Epoch 210, Loss 0.0207\n",
      "Training Accuracy: 0.9773, Testing Accuracy: 0.9718\n",
      "\n"
     ]
    },
    {
     "name": "stdout",
     "output_type": "stream",
     "text": [
      "Epoch 220, Loss 0.0202\n",
      "Training Accuracy: 0.9778, Testing Accuracy: 0.9708\n",
      "\n"
     ]
    },
    {
     "name": "stdout",
     "output_type": "stream",
     "text": [
      "Epoch 230, Loss 0.0198\n",
      "Training Accuracy: 0.9785, Testing Accuracy: 0.9708\n",
      "\n"
     ]
    },
    {
     "name": "stdout",
     "output_type": "stream",
     "text": [
      "Epoch 240, Loss 0.0194\n",
      "Training Accuracy: 0.9789, Testing Accuracy: 0.9708\n",
      "\n"
     ]
    },
    {
     "name": "stdout",
     "output_type": "stream",
     "text": [
      "Epoch 250, Loss 0.019\n",
      "Training Accuracy: 0.9792, Testing Accuracy: 0.9708\n",
      "\n"
     ]
    },
    {
     "data": {
      "text/plain": [
       "0.010512843111904346"
      ]
     },
     "execution_count": 20,
     "metadata": {},
     "output_type": "execute_result"
    }
   ],
   "source": [
    "print(\"====== Neural Network ======\")\n",
    "learner_nn.train_loop(dl)"
   ]
  },
  {
   "cell_type": "markdown",
   "metadata": {
    "papermill": {
     "duration": 0.032356,
     "end_time": "2020-12-13T10:05:37.949337",
     "exception": false,
     "start_time": "2020-12-13T10:05:37.916981",
     "status": "completed"
    },
    "tags": []
   },
   "source": [
    "### Logistic Regression based Implementation."
   ]
  },
  {
   "cell_type": "code",
   "execution_count": 21,
   "metadata": {
    "execution": {
     "iopub.execute_input": "2020-12-13T10:05:38.029723Z",
     "iopub.status.busy": "2020-12-13T10:05:38.016270Z",
     "iopub.status.idle": "2020-12-13T10:05:38.032027Z",
     "shell.execute_reply": "2020-12-13T10:05:38.032378Z"
    },
    "papermill": {
     "duration": 0.050946,
     "end_time": "2020-12-13T10:05:38.032502",
     "exception": false,
     "start_time": "2020-12-13T10:05:37.981556",
     "status": "completed"
    },
    "tags": []
   },
   "outputs": [],
   "source": [
    "learner_lr = Learner(loss, model_lr, opt, config.num_epochs)\n",
    "acc_lr = ClfCallback(learner_lr, config.bs, training_xdata , testing_xdata, training_ydata, testing_ydata)\n",
    "learner_lr.set_callbacks([acc_lr])"
   ]
  },
  {
   "cell_type": "code",
   "execution_count": 22,
   "metadata": {
    "execution": {
     "iopub.execute_input": "2020-12-13T10:05:38.098233Z",
     "iopub.status.busy": "2020-12-13T10:05:38.095700Z",
     "iopub.status.idle": "2020-12-13T10:05:52.273852Z",
     "shell.execute_reply": "2020-12-13T10:05:52.274230Z"
    },
    "papermill": {
     "duration": 14.213218,
     "end_time": "2020-12-13T10:05:52.274358",
     "exception": false,
     "start_time": "2020-12-13T10:05:38.061140",
     "status": "completed"
    },
    "tags": []
   },
   "outputs": [
    {
     "name": "stdout",
     "output_type": "stream",
     "text": [
      "====== Logistic Regression ======\n",
      "Epoch 0, Loss 0.2288\n",
      "Training Accuracy: 0.7601, Testing Accuracy: 0.7722\n",
      "\n"
     ]
    },
    {
     "name": "stdout",
     "output_type": "stream",
     "text": [
      "Epoch 10, Loss 0.1009\n",
      "Training Accuracy: 0.9120, Testing Accuracy: 0.9219\n",
      "\n"
     ]
    },
    {
     "name": "stdout",
     "output_type": "stream",
     "text": [
      "Epoch 20, Loss 0.0782\n",
      "Training Accuracy: 0.9280, Testing Accuracy: 0.9420\n",
      "\n"
     ]
    },
    {
     "name": "stdout",
     "output_type": "stream",
     "text": [
      "Epoch 30, Loss 0.0676\n",
      "Training Accuracy: 0.9372, Testing Accuracy: 0.9491\n",
      "\n"
     ]
    },
    {
     "name": "stdout",
     "output_type": "stream",
     "text": [
      "Epoch 40, Loss 0.0612\n",
      "Training Accuracy: 0.9430, Testing Accuracy: 0.9546\n",
      "\n"
     ]
    },
    {
     "name": "stdout",
     "output_type": "stream",
     "text": [
      "Epoch 50, Loss 0.0568\n",
      "Training Accuracy: 0.9457, Testing Accuracy: 0.9556\n",
      "\n"
     ]
    },
    {
     "name": "stdout",
     "output_type": "stream",
     "text": [
      "Epoch 60, Loss 0.0536\n",
      "Training Accuracy: 0.9468, Testing Accuracy: 0.9577\n",
      "\n"
     ]
    },
    {
     "name": "stdout",
     "output_type": "stream",
     "text": [
      "Epoch 70, Loss 0.0511\n",
      "Training Accuracy: 0.9489, Testing Accuracy: 0.9587\n",
      "\n"
     ]
    },
    {
     "name": "stdout",
     "output_type": "stream",
     "text": [
      "Epoch 80, Loss 0.0491\n",
      "Training Accuracy: 0.9513, Testing Accuracy: 0.9617\n",
      "\n"
     ]
    },
    {
     "name": "stdout",
     "output_type": "stream",
     "text": [
      "Epoch 90, Loss 0.0474\n",
      "Training Accuracy: 0.9514, Testing Accuracy: 0.9632\n",
      "\n"
     ]
    },
    {
     "name": "stdout",
     "output_type": "stream",
     "text": [
      "Epoch 100, Loss 0.046\n",
      "Training Accuracy: 0.9523, Testing Accuracy: 0.9647\n",
      "\n"
     ]
    },
    {
     "name": "stdout",
     "output_type": "stream",
     "text": [
      "Epoch 110, Loss 0.0448\n",
      "Training Accuracy: 0.9533, Testing Accuracy: 0.9657\n",
      "\n"
     ]
    },
    {
     "name": "stdout",
     "output_type": "stream",
     "text": [
      "Epoch 120, Loss 0.0437\n",
      "Training Accuracy: 0.9540, Testing Accuracy: 0.9657\n",
      "\n"
     ]
    },
    {
     "name": "stdout",
     "output_type": "stream",
     "text": [
      "Epoch 130, Loss 0.0428\n",
      "Training Accuracy: 0.9546, Testing Accuracy: 0.9657\n",
      "\n"
     ]
    },
    {
     "name": "stdout",
     "output_type": "stream",
     "text": [
      "Epoch 140, Loss 0.042\n",
      "Training Accuracy: 0.9555, Testing Accuracy: 0.9657\n",
      "\n"
     ]
    },
    {
     "name": "stdout",
     "output_type": "stream",
     "text": [
      "Epoch 150, Loss 0.0412\n",
      "Training Accuracy: 0.9564, Testing Accuracy: 0.9662\n",
      "\n"
     ]
    },
    {
     "name": "stdout",
     "output_type": "stream",
     "text": [
      "Epoch 160, Loss 0.0406\n",
      "Training Accuracy: 0.9567, Testing Accuracy: 0.9667\n",
      "\n"
     ]
    },
    {
     "name": "stdout",
     "output_type": "stream",
     "text": [
      "Epoch 170, Loss 0.04\n",
      "Training Accuracy: 0.9574, Testing Accuracy: 0.9667\n",
      "\n"
     ]
    },
    {
     "name": "stdout",
     "output_type": "stream",
     "text": [
      "Epoch 180, Loss 0.0394\n",
      "Training Accuracy: 0.9580, Testing Accuracy: 0.9677\n",
      "\n"
     ]
    },
    {
     "name": "stdout",
     "output_type": "stream",
     "text": [
      "Epoch 190, Loss 0.0389\n",
      "Training Accuracy: 0.9588, Testing Accuracy: 0.9682\n",
      "\n"
     ]
    },
    {
     "name": "stdout",
     "output_type": "stream",
     "text": [
      "Epoch 200, Loss 0.0384\n",
      "Training Accuracy: 0.9590, Testing Accuracy: 0.9682\n",
      "\n"
     ]
    },
    {
     "name": "stdout",
     "output_type": "stream",
     "text": [
      "Epoch 210, Loss 0.038\n",
      "Training Accuracy: 0.9600, Testing Accuracy: 0.9688\n",
      "\n"
     ]
    },
    {
     "name": "stdout",
     "output_type": "stream",
     "text": [
      "Epoch 220, Loss 0.0376\n",
      "Training Accuracy: 0.9605, Testing Accuracy: 0.9688\n",
      "\n"
     ]
    },
    {
     "name": "stdout",
     "output_type": "stream",
     "text": [
      "Epoch 230, Loss 0.0372\n",
      "Training Accuracy: 0.9609, Testing Accuracy: 0.9688\n",
      "\n"
     ]
    },
    {
     "name": "stdout",
     "output_type": "stream",
     "text": [
      "Epoch 240, Loss 0.0368\n",
      "Training Accuracy: 0.9614, Testing Accuracy: 0.9682\n",
      "\n"
     ]
    },
    {
     "name": "stdout",
     "output_type": "stream",
     "text": [
      "Epoch 250, Loss 0.0365\n",
      "Training Accuracy: 0.9616, Testing Accuracy: 0.9682\n",
      "\n"
     ]
    },
    {
     "data": {
      "text/plain": [
       "0.02331024423623644"
      ]
     },
     "execution_count": 22,
     "metadata": {},
     "output_type": "execute_result"
    }
   ],
   "source": [
    "print(\"====== Logistic Regression ======\")\n",
    "learner_lr.train_loop(dl)"
   ]
  },
  {
   "cell_type": "markdown",
   "metadata": {
    "papermill": {
     "duration": 0.034546,
     "end_time": "2020-12-13T10:05:52.344038",
     "exception": false,
     "start_time": "2020-12-13T10:05:52.309492",
     "status": "completed"
    },
    "tags": []
   },
   "source": [
    "### Comparing results of NN and LR"
   ]
  },
  {
   "cell_type": "code",
   "execution_count": 23,
   "metadata": {
    "execution": {
     "iopub.execute_input": "2020-12-13T10:05:52.417584Z",
     "iopub.status.busy": "2020-12-13T10:05:52.417121Z",
     "iopub.status.idle": "2020-12-13T10:05:52.627455Z",
     "shell.execute_reply": "2020-12-13T10:05:52.627862Z"
    },
    "papermill": {
     "duration": 0.249775,
     "end_time": "2020-12-13T10:05:52.628006",
     "exception": false,
     "start_time": "2020-12-13T10:05:52.378231",
     "status": "completed"
    },
    "tags": []
   },
   "outputs": [
    {
     "data": {
      "text/plain": [
       "<matplotlib.legend.Legend at 0x7ffa17e78f28>"
      ]
     },
     "execution_count": 23,
     "metadata": {},
     "output_type": "execute_result"
    },
    {
     "data": {
      "image/png": "[encoded data removed]",
      "text/plain": [
       "<Figure size 1080x720 with 1 Axes>"
      ]
     },
     "metadata": {
      "needs_background": "light"
     },
     "output_type": "display_data"
    }
   ],
   "source": [
    "plt.figure(figsize=(15,10))\n",
    "\n",
    "# Neural Network plots\n",
    "plt.plot(acc_nn.accuracies, 'r-', label = \"Training Accuracies - NN\")\n",
    "plt.plot(acc_nn.test_accuracies, 'g-', label = \"Testing Accuracies - NN\")\n",
    "\n",
    "# Logistic Regression plots\n",
    "plt.plot(acc_lr.accuracies, 'k-', label = \"Training Accuracies - LR\")\n",
    "plt.plot(acc_lr.test_accuracies, 'b-', label = \"Testing Accuracies - LR\")\n",
    "\n",
    "plt.ylim(0.8, 1)\n",
    "\n",
    "plt.legend()\n",
    "\n"
   ]
  },
  {
   "cell_type": "markdown",
   "metadata": {
    "papermill": {
     "duration": 0.040996,
     "end_time": "2020-12-13T10:05:52.710129",
     "exception": false,
     "start_time": "2020-12-13T10:05:52.669133",
     "status": "completed"
    },
    "tags": []
   },
   "source": [
    "### From the plot, we can observe the following:\n",
    "- Neural Network achieves higher accuracy than the Logistic Regression model.\n",
    "- This apparently, is because of overfitting, i.e. NN captures more noise than data.\n",
    "- Testing accuracy of NN drops below the Training accuracy at higher epochs. This explains the over-fitting on training data.\n",
    "- Logistic Regression gives a reliable accuracy, without the above mentioned problem.\n"
   ]
  },
  {
   "cell_type": "markdown",
   "metadata": {
    "papermill": {
     "duration": 0.040725,
     "end_time": "2020-12-13T10:05:52.791446",
     "exception": false,
     "start_time": "2020-12-13T10:05:52.750721",
     "status": "completed"
    },
    "tags": []
   },
   "source": [
    "### Moving till the last but one layer (excluding it).\n",
    "#### Plotting the outputs of this layer of the NN."
   ]
  },
  {
   "cell_type": "code",
   "execution_count": 24,
   "metadata": {
    "execution": {
     "iopub.execute_input": "2020-12-13T10:05:52.885779Z",
     "iopub.status.busy": "2020-12-13T10:05:52.882442Z",
     "iopub.status.idle": "2020-12-13T10:05:52.890576Z",
     "shell.execute_reply": "2020-12-13T10:05:52.890951Z"
    },
    "papermill": {
     "duration": 0.059051,
     "end_time": "2020-12-13T10:05:52.891092",
     "exception": false,
     "start_time": "2020-12-13T10:05:52.832041",
     "status": "completed"
    },
    "tags": []
   },
   "outputs": [],
   "source": [
    "model_new = Model(layers[:-2])"
   ]
  },
  {
   "cell_type": "code",
   "execution_count": 25,
   "metadata": {
    "execution": {
     "iopub.execute_input": "2020-12-13T10:05:52.985786Z",
     "iopub.status.busy": "2020-12-13T10:05:52.979206Z",
     "iopub.status.idle": "2020-12-13T10:05:52.999236Z",
     "shell.execute_reply": "2020-12-13T10:05:52.999658Z"
    },
    "papermill": {
     "duration": 0.067638,
     "end_time": "2020-12-13T10:05:52.999805",
     "exception": false,
     "start_time": "2020-12-13T10:05:52.932167",
     "status": "completed"
    },
    "tags": []
   },
   "outputs": [],
   "source": [
    "plot_testing = model_new(testing_xdata)"
   ]
  },
  {
   "cell_type": "code",
   "execution_count": 26,
   "metadata": {
    "execution": {
     "iopub.execute_input": "2020-12-13T10:05:53.088700Z",
     "iopub.status.busy": "2020-12-13T10:05:53.088199Z",
     "iopub.status.idle": "2020-12-13T10:05:53.262297Z",
     "shell.execute_reply": "2020-12-13T10:05:53.262656Z"
    },
    "papermill": {
     "duration": 0.221004,
     "end_time": "2020-12-13T10:05:53.262786",
     "exception": false,
     "start_time": "2020-12-13T10:05:53.041782",
     "status": "completed"
    },
    "tags": []
   },
   "outputs": [
    {
     "data": {
      "text/plain": [
       "Text(0.5, 1.0, 'Outputs')"
      ]
     },
     "execution_count": 26,
     "metadata": {},
     "output_type": "execute_result"
    },
    {
     "data": {
      "image/png": "[encoded data removed]",
      "text/plain": [
       "<Figure size 576x504 with 1 Axes>"
      ]
     },
     "metadata": {
      "needs_background": "light"
     },
     "output_type": "display_data"
    }
   ],
   "source": [
    "plt.figure(figsize=(8,7))\n",
    "plt.scatter(plot_testing[:,0], plot_testing[:,1], alpha = 0.1, c = y_test.ravel());\n",
    "plt.title('Outputs')"
   ]
  },
  {
   "cell_type": "markdown",
   "metadata": {
    "papermill": {
     "duration": 0.038637,
     "end_time": "2020-12-13T10:05:53.339822",
     "exception": false,
     "start_time": "2020-12-13T10:05:53.301185",
     "status": "completed"
    },
    "tags": []
   },
   "source": [
    "### Plotting probability contours"
   ]
  },
  {
   "cell_type": "code",
   "execution_count": 27,
   "metadata": {
    "execution": {
     "iopub.execute_input": "2020-12-13T10:05:53.419467Z",
     "iopub.status.busy": "2020-12-13T10:05:53.419014Z",
     "iopub.status.idle": "2020-12-13T10:05:53.430366Z",
     "shell.execute_reply": "2020-12-13T10:05:53.430788Z"
    },
    "papermill": {
     "duration": 0.053051,
     "end_time": "2020-12-13T10:05:53.430913",
     "exception": false,
     "start_time": "2020-12-13T10:05:53.377862",
     "status": "completed"
    },
    "tags": []
   },
   "outputs": [],
   "source": [
    "model_prob = Model(layers[-2:]) "
   ]
  },
  {
   "cell_type": "code",
   "execution_count": 28,
   "metadata": {
    "execution": {
     "iopub.execute_input": "2020-12-13T10:05:53.511966Z",
     "iopub.status.busy": "2020-12-13T10:05:53.511234Z",
     "iopub.status.idle": "2020-12-13T10:05:53.523660Z",
     "shell.execute_reply": "2020-12-13T10:05:53.524017Z"
    },
    "papermill": {
     "duration": 0.05501,
     "end_time": "2020-12-13T10:05:53.524141",
     "exception": false,
     "start_time": "2020-12-13T10:05:53.469131",
     "status": "completed"
    },
    "tags": []
   },
   "outputs": [],
   "source": [
    "# Adjust the x and y ranges according to the above generated plot.\n",
    "x_range = np.linspace(-4, 1, 100) \n",
    "y_range = np.linspace(-6, 6, 100) \n",
    "x_grid, y_grid = np.meshgrid(x_range, y_range) # x_grid and y_grig are of size 100 X 100\n",
    "\n",
    "# converting x_grid and y_grid to continuous arrays\n",
    "x_grid_flat = np.ravel(x_grid)\n",
    "y_grid_flat = np.ravel(y_grid)\n",
    "\n",
    "# The last layer of the current model takes two columns as input. Hence transpose of np.vstack() is required.\n",
    "X = np.vstack((x_grid_flat, y_grid_flat)).T\n",
    "\n",
    "# x_grid and y_grid are of size 100 x 100\n",
    "probability_contour = model_prob(X).reshape(100,100) "
   ]
  },
  {
   "cell_type": "code",
   "execution_count": 29,
   "metadata": {
    "execution": {
     "iopub.execute_input": "2020-12-13T10:05:53.618486Z",
     "iopub.status.busy": "2020-12-13T10:05:53.618030Z",
     "iopub.status.idle": "2020-12-13T10:05:53.834572Z",
     "shell.execute_reply": "2020-12-13T10:05:53.834092Z"
    },
    "papermill": {
     "duration": 0.272138,
     "end_time": "2020-12-13T10:05:53.834706",
     "exception": false,
     "start_time": "2020-12-13T10:05:53.562568",
     "status": "completed"
    },
    "tags": []
   },
   "outputs": [
    {
     "data": {
      "image/png": "[encoded data removed]",
      "text/plain": [
       "<Figure size 720x648 with 1 Axes>"
      ]
     },
     "metadata": {
      "needs_background": "light"
     },
     "output_type": "display_data"
    }
   ],
   "source": [
    "plt.figure(figsize=(10,9))\n",
    "plt.scatter(plot_testing[:,0], plot_testing[:,1], alpha = 0.1, c = y_test.ravel())\n",
    "contours = plt.contour(x_grid,y_grid,probability_contour)\n",
    "plt.title('Probability Contours')\n",
    "plt.clabel(contours, inline = True );"
   ]
  }
 ],
 "metadata": {
  "kernelspec": {
   "display_name": "Python 3",
   "language": "python",
   "name": "python3"
  },
  "language_info": {
   "codemirror_mode": {
    "name": "ipython",
    "version": 3
   },
   "file_extension": ".py",
   "mimetype": "text/x-python",
   "name": "python",
   "nbconvert_exporter": "python",
   "pygments_lexer": "ipython3",
   "version": "3.6.12"
  },
  "papermill": {
   "duration": 101.579537,
   "end_time": "2020-12-13T10:05:54.282771",
   "environment_variables": {},
   "exception": null,
   "input_path": "2020-08-11-NeuralNetwork.ipynb",
   "output_path": "2020-08-11-NeuralNetwork.ipynb",
   "parameters": {},
   "start_time": "2020-12-13T10:04:12.703234",
   "version": "2.1.2"
  }
 },
 "nbformat": 4,
 "nbformat_minor": 4
}