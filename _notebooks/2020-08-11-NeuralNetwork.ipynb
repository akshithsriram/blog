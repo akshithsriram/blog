{
 "cells": [
  {
   "cell_type": "markdown",
   "metadata": {
    "papermill": {
     "duration": 0.032847,
     "end_time": "2020-10-10T00:06:48.093335",
     "exception": false,
     "start_time": "2020-10-10T00:06:48.060488",
     "status": "completed"
    },
    "tags": []
   },
   "source": [
    "# \"A Basic Neural Network: Differentiate Hand-Written Digits\"\n",
    "\n",
    "- badges: true\n",
    "- author: Akshith Sriram"
   ]
  },
  {
   "cell_type": "markdown",
   "metadata": {
    "papermill": {
     "duration": 0.028785,
     "end_time": "2020-10-10T00:06:48.150362",
     "exception": false,
     "start_time": "2020-10-10T00:06:48.121577",
     "status": "completed"
    },
    "tags": []
   },
   "source": [
    "### Key Objectives:\n",
    "- Building a neural network that differentiates two hand-written digits 3 and 8.\n",
    "- Comparing the results of this Neural Network (NN) to that of a Logistic Regression (LR) model.\n",
    "\n",
    "### Requirements:\n",
    "- 'Kudzu' : A neural network library that was designed during our course by [Univ.AI](www.univ.ai). \n",
    "- MNIST Database\n",
    "\n",
    "If MNIST is not installed, use the command `!pip install mnist` given below.\n",
    "It can be run both from the command line and Jupyter Notebook."
   ]
  },
  {
   "cell_type": "code",
   "execution_count": 1,
   "metadata": {
    "execution": {
     "iopub.execute_input": "2020-10-10T00:06:48.213833Z",
     "iopub.status.busy": "2020-10-10T00:06:48.213196Z",
     "iopub.status.idle": "2020-10-10T00:06:49.842830Z",
     "shell.execute_reply": "2020-10-10T00:06:49.842218Z"
    },
    "papermill": {
     "duration": 1.664046,
     "end_time": "2020-10-10T00:06:49.842996",
     "exception": false,
     "start_time": "2020-10-10T00:06:48.178950",
     "status": "completed"
    },
    "tags": []
   },
   "outputs": [
    {
     "name": "stdout",
     "output_type": "stream",
     "text": [
      "Collecting mnist\r\n"
     ]
    },
    {
     "name": "stdout",
     "output_type": "stream",
     "text": [
      "  Downloading mnist-0.2.2-py2.py3-none-any.whl (3.5 kB)\r\n"
     ]
    },
    {
     "name": "stdout",
     "output_type": "stream",
     "text": [
      "Requirement already satisfied: numpy in /opt/hostedtoolcache/Python/3.6.12/x64/lib/python3.6/site-packages (from mnist) (1.19.2)\r\n"
     ]
    },
    {
     "name": "stdout",
     "output_type": "stream",
     "text": [
      "Installing collected packages: mnist\r\n"
     ]
    },
    {
     "name": "stdout",
     "output_type": "stream",
     "text": [
      "Successfully installed mnist-0.2.2\r\n"
     ]
    }
   ],
   "source": [
    "!pip install mnist "
   ]
  },
  {
   "cell_type": "markdown",
   "metadata": {
    "papermill": {
     "duration": 0.029764,
     "end_time": "2020-10-10T00:06:49.903332",
     "exception": false,
     "start_time": "2020-10-10T00:06:49.873568",
     "status": "completed"
    },
    "tags": []
   },
   "source": [
    "#### Importing necessary libraries"
   ]
  },
  {
   "cell_type": "code",
   "execution_count": 2,
   "metadata": {
    "execution": {
     "iopub.execute_input": "2020-10-10T00:06:49.972181Z",
     "iopub.status.busy": "2020-10-10T00:06:49.971515Z",
     "iopub.status.idle": "2020-10-10T00:06:50.595050Z",
     "shell.execute_reply": "2020-10-10T00:06:50.594152Z"
    },
    "papermill": {
     "duration": 0.661154,
     "end_time": "2020-10-10T00:06:50.595201",
     "exception": false,
     "start_time": "2020-10-10T00:06:49.934047",
     "status": "completed"
    },
    "tags": []
   },
   "outputs": [],
   "source": [
    "%load_ext autoreload\n",
    "%autoreload 2\n",
    "\n",
    "%matplotlib inline\n",
    "import matplotlib.pyplot as plt\n",
    "\n",
    "import numpy as np\n",
    "import pandas as pd"
   ]
  },
  {
   "cell_type": "markdown",
   "metadata": {
    "papermill": {
     "duration": 0.029628,
     "end_time": "2020-10-10T00:06:50.654124",
     "exception": false,
     "start_time": "2020-10-10T00:06:50.624496",
     "status": "completed"
    },
    "tags": []
   },
   "source": [
    "### Preparing the Data"
   ]
  },
  {
   "cell_type": "code",
   "execution_count": 3,
   "metadata": {
    "execution": {
     "iopub.execute_input": "2020-10-10T00:06:51.279860Z",
     "iopub.status.busy": "2020-10-10T00:06:51.279189Z",
     "iopub.status.idle": "2020-10-10T00:06:51.292671Z",
     "shell.execute_reply": "2020-10-10T00:06:51.292082Z"
    },
    "papermill": {
     "duration": 0.455818,
     "end_time": "2020-10-10T00:06:51.292816",
     "exception": false,
     "start_time": "2020-10-10T00:06:50.836998",
     "status": "completed"
    },
    "tags": []
   },
   "outputs": [],
   "source": [
    "import mnist"
   ]
  },
  {
   "cell_type": "code",
   "execution_count": 4,
   "metadata": {
    "execution": {
     "iopub.execute_input": "2020-10-10T00:06:51.358462Z",
     "iopub.status.busy": "2020-10-10T00:06:51.357826Z",
     "iopub.status.idle": "2020-10-10T00:06:53.374796Z",
     "shell.execute_reply": "2020-10-10T00:06:53.374242Z"
    },
    "papermill": {
     "duration": 2.05099,
     "end_time": "2020-10-10T00:06:53.374945",
     "exception": false,
     "start_time": "2020-10-10T00:06:51.323955",
     "status": "completed"
    },
    "tags": []
   },
   "outputs": [],
   "source": [
    "train_images = mnist.train_images()\n",
    "train_labels = mnist.train_labels()"
   ]
  },
  {
   "cell_type": "code",
   "execution_count": 5,
   "metadata": {
    "execution": {
     "iopub.execute_input": "2020-10-10T00:06:53.443002Z",
     "iopub.status.busy": "2020-10-10T00:06:53.440735Z",
     "iopub.status.idle": "2020-10-10T00:06:53.455114Z",
     "shell.execute_reply": "2020-10-10T00:06:53.455642Z"
    },
    "papermill": {
     "duration": 0.051812,
     "end_time": "2020-10-10T00:06:53.455807",
     "exception": false,
     "start_time": "2020-10-10T00:06:53.403995",
     "status": "completed"
    },
    "tags": []
   },
   "outputs": [
    {
     "data": {
      "text/plain": [
       "((60000, 28, 28), (60000,))"
      ]
     },
     "execution_count": 5,
     "metadata": {},
     "output_type": "execute_result"
    }
   ],
   "source": [
    "train_images.shape, train_labels.shape"
   ]
  },
  {
   "cell_type": "code",
   "execution_count": 6,
   "metadata": {
    "execution": {
     "iopub.execute_input": "2020-10-10T00:06:53.525697Z",
     "iopub.status.busy": "2020-10-10T00:06:53.525053Z",
     "iopub.status.idle": "2020-10-10T00:06:54.416499Z",
     "shell.execute_reply": "2020-10-10T00:06:54.415415Z"
    },
    "papermill": {
     "duration": 0.92833,
     "end_time": "2020-10-10T00:06:54.416652",
     "exception": false,
     "start_time": "2020-10-10T00:06:53.488322",
     "status": "completed"
    },
    "tags": []
   },
   "outputs": [],
   "source": [
    "test_images = mnist.test_images()\n",
    "test_labels = mnist.test_labels()"
   ]
  },
  {
   "cell_type": "code",
   "execution_count": 7,
   "metadata": {
    "execution": {
     "iopub.execute_input": "2020-10-10T00:06:54.526089Z",
     "iopub.status.busy": "2020-10-10T00:06:54.525445Z",
     "iopub.status.idle": "2020-10-10T00:06:54.540139Z",
     "shell.execute_reply": "2020-10-10T00:06:54.539431Z"
    },
    "papermill": {
     "duration": 0.079864,
     "end_time": "2020-10-10T00:06:54.540289",
     "exception": false,
     "start_time": "2020-10-10T00:06:54.460425",
     "status": "completed"
    },
    "tags": []
   },
   "outputs": [
    {
     "data": {
      "text/plain": [
       "((10000, 28, 28), (10000,))"
      ]
     },
     "execution_count": 7,
     "metadata": {},
     "output_type": "execute_result"
    }
   ],
   "source": [
    "test_images.shape, test_labels.shape"
   ]
  },
  {
   "cell_type": "code",
   "execution_count": 8,
   "metadata": {
    "execution": {
     "iopub.execute_input": "2020-10-10T00:06:54.612532Z",
     "iopub.status.busy": "2020-10-10T00:06:54.611873Z",
     "iopub.status.idle": "2020-10-10T00:06:54.786499Z",
     "shell.execute_reply": "2020-10-10T00:06:54.787044Z"
    },
    "papermill": {
     "duration": 0.214505,
     "end_time": "2020-10-10T00:06:54.787216",
     "exception": false,
     "start_time": "2020-10-10T00:06:54.572711",
     "status": "completed"
    },
    "tags": []
   },
   "outputs": [
    {
     "name": "stdout",
     "output_type": "stream",
     "text": [
      "2\n"
     ]
    },
    {
     "data": {
      "text/plain": [
       "<matplotlib.image.AxesImage at 0x7fd223c7de48>"
      ]
     },
     "execution_count": 8,
     "metadata": {},
     "output_type": "execute_result"
    },
    {
     "data": {
      "image/png": "[encoded data removed]",
      "text/plain": [
       "<Figure size 432x288 with 1 Axes>"
      ]
     },
     "metadata": {
      "needs_background": "light"
     },
     "output_type": "display_data"
    }
   ],
   "source": [
    "image_index = 7776 # You may select anything up to 60,000\n",
    "print(train_labels[image_index]) \n",
    "plt.imshow(train_images[image_index], cmap='Greys')"
   ]
  },
  {
   "cell_type": "markdown",
   "metadata": {
    "papermill": {
     "duration": 0.033152,
     "end_time": "2020-10-10T00:06:54.854533",
     "exception": false,
     "start_time": "2020-10-10T00:06:54.821381",
     "status": "completed"
    },
    "tags": []
   },
   "source": [
    "## Filter data to get 3 and 8 out"
   ]
  },
  {
   "cell_type": "code",
   "execution_count": 9,
   "metadata": {
    "execution": {
     "iopub.execute_input": "2020-10-10T00:06:54.924973Z",
     "iopub.status.busy": "2020-10-10T00:06:54.924319Z",
     "iopub.status.idle": "2020-10-10T00:06:54.946728Z",
     "shell.execute_reply": "2020-10-10T00:06:54.945699Z"
    },
    "papermill": {
     "duration": 0.060963,
     "end_time": "2020-10-10T00:06:54.947058",
     "exception": false,
     "start_time": "2020-10-10T00:06:54.886095",
     "status": "completed"
    },
    "tags": []
   },
   "outputs": [],
   "source": [
    "train_filter = np.where((train_labels == 3 ) | (train_labels == 8))\n",
    "test_filter = np.where((test_labels == 3) | (test_labels == 8))\n",
    "X_train, y_train = train_images[train_filter], train_labels[train_filter]\n",
    "X_test, y_test = test_images[test_filter], test_labels[test_filter]"
   ]
  },
  {
   "cell_type": "markdown",
   "metadata": {
    "papermill": {
     "duration": 0.0319,
     "end_time": "2020-10-10T00:06:55.012168",
     "exception": false,
     "start_time": "2020-10-10T00:06:54.980268",
     "status": "completed"
    },
    "tags": []
   },
   "source": [
    "We normalize the pixel values in the 0 to 1 range"
   ]
  },
  {
   "cell_type": "code",
   "execution_count": 10,
   "metadata": {
    "execution": {
     "iopub.execute_input": "2020-10-10T00:06:55.081254Z",
     "iopub.status.busy": "2020-10-10T00:06:55.080636Z",
     "iopub.status.idle": "2020-10-10T00:06:55.147527Z",
     "shell.execute_reply": "2020-10-10T00:06:55.146948Z"
    },
    "papermill": {
     "duration": 0.10409,
     "end_time": "2020-10-10T00:06:55.147679",
     "exception": false,
     "start_time": "2020-10-10T00:06:55.043589",
     "status": "completed"
    },
    "tags": []
   },
   "outputs": [],
   "source": [
    "X_train = X_train/255.\n",
    "X_test = X_test/255."
   ]
  },
  {
   "cell_type": "markdown",
   "metadata": {
    "papermill": {
     "duration": 0.031603,
     "end_time": "2020-10-10T00:06:55.211710",
     "exception": false,
     "start_time": "2020-10-10T00:06:55.180107",
     "status": "completed"
    },
    "tags": []
   },
   "source": [
    "Setup the labels as 1 (when the digit is 3) and 0 (when the digit is 8)"
   ]
  },
  {
   "cell_type": "code",
   "execution_count": 11,
   "metadata": {
    "execution": {
     "iopub.execute_input": "2020-10-10T00:06:55.290045Z",
     "iopub.status.busy": "2020-10-10T00:06:55.284349Z",
     "iopub.status.idle": "2020-10-10T00:06:55.292870Z",
     "shell.execute_reply": "2020-10-10T00:06:55.292173Z"
    },
    "papermill": {
     "duration": 0.050722,
     "end_time": "2020-10-10T00:06:55.293020",
     "exception": false,
     "start_time": "2020-10-10T00:06:55.242298",
     "status": "completed"
    },
    "tags": []
   },
   "outputs": [],
   "source": [
    "y_train = 1*(y_train==3)\n",
    "y_test = 1*(y_test==3)"
   ]
  },
  {
   "cell_type": "code",
   "execution_count": 12,
   "metadata": {
    "execution": {
     "iopub.execute_input": "2020-10-10T00:06:55.369452Z",
     "iopub.status.busy": "2020-10-10T00:06:55.368799Z",
     "iopub.status.idle": "2020-10-10T00:06:55.383051Z",
     "shell.execute_reply": "2020-10-10T00:06:55.382281Z"
    },
    "papermill": {
     "duration": 0.054259,
     "end_time": "2020-10-10T00:06:55.383202",
     "exception": false,
     "start_time": "2020-10-10T00:06:55.328943",
     "status": "completed"
    },
    "tags": []
   },
   "outputs": [
    {
     "data": {
      "text/plain": [
       "((11982, 28, 28), (1984, 28, 28))"
      ]
     },
     "execution_count": 12,
     "metadata": {},
     "output_type": "execute_result"
    }
   ],
   "source": [
    "X_train.shape, X_test.shape"
   ]
  },
  {
   "cell_type": "markdown",
   "metadata": {
    "papermill": {
     "duration": 0.032463,
     "end_time": "2020-10-10T00:06:55.447235",
     "exception": false,
     "start_time": "2020-10-10T00:06:55.414772",
     "status": "completed"
    },
    "tags": []
   },
   "source": [
    "### Reshape the input data to create a linear array"
   ]
  },
  {
   "cell_type": "code",
   "execution_count": 13,
   "metadata": {
    "execution": {
     "iopub.execute_input": "2020-10-10T00:06:55.521162Z",
     "iopub.status.busy": "2020-10-10T00:06:55.519730Z",
     "iopub.status.idle": "2020-10-10T00:06:55.534271Z",
     "shell.execute_reply": "2020-10-10T00:06:55.533714Z"
    },
    "papermill": {
     "duration": 0.053851,
     "end_time": "2020-10-10T00:06:55.534415",
     "exception": false,
     "start_time": "2020-10-10T00:06:55.480564",
     "status": "completed"
    },
    "tags": []
   },
   "outputs": [
    {
     "data": {
      "text/plain": [
       "((11982, 784), (1984, 784))"
      ]
     },
     "execution_count": 13,
     "metadata": {},
     "output_type": "execute_result"
    }
   ],
   "source": [
    "X_train = X_train.reshape(X_train.shape[0], -1)\n",
    "X_test = X_test.reshape(X_test.shape[0], -1)\n",
    "X_train.shape, X_test.shape"
   ]
  },
  {
   "cell_type": "markdown",
   "metadata": {
    "papermill": {
     "duration": 0.033152,
     "end_time": "2020-10-10T00:06:55.602377",
     "exception": false,
     "start_time": "2020-10-10T00:06:55.569225",
     "status": "completed"
    },
    "tags": []
   },
   "source": [
    "### Importing appropriate functions from 'Kudzu'"
   ]
  },
  {
   "cell_type": "code",
   "execution_count": 14,
   "metadata": {
    "execution": {
     "iopub.execute_input": "2020-10-10T00:06:55.673199Z",
     "iopub.status.busy": "2020-10-10T00:06:55.672551Z",
     "iopub.status.idle": "2020-10-10T00:06:55.693963Z",
     "shell.execute_reply": "2020-10-10T00:06:55.693379Z"
    },
    "papermill": {
     "duration": 0.058698,
     "end_time": "2020-10-10T00:06:55.694111",
     "exception": false,
     "start_time": "2020-10-10T00:06:55.635413",
     "status": "completed"
    },
    "tags": []
   },
   "outputs": [],
   "source": [
    "from kudzu.layer import Sigmoid\n",
    "from kudzu.layer import Relu\n",
    "from kudzu.layer import Affine, Sigmoid\n",
    "\n",
    "from kudzu.model import Model\n",
    "from kudzu.train import Learner\n",
    "from kudzu.optim import GD\n",
    "from kudzu.data import Data, Dataloader, Sampler\n",
    "\n",
    "from kudzu.callbacks import AccCallback\n",
    "from kudzu.callbacks import ClfCallback\n",
    "\n",
    "from kudzu.loss import MSE"
   ]
  },
  {
   "cell_type": "markdown",
   "metadata": {
    "papermill": {
     "duration": 0.032307,
     "end_time": "2020-10-10T00:06:55.760361",
     "exception": false,
     "start_time": "2020-10-10T00:06:55.728054",
     "status": "completed"
    },
    "tags": []
   },
   "source": [
    "### Let us create a `Config` class, to store important parameters. \n",
    "This class essentially plays the role of a dictionary."
   ]
  },
  {
   "cell_type": "code",
   "execution_count": 15,
   "metadata": {
    "execution": {
     "iopub.execute_input": "2020-10-10T00:06:55.833769Z",
     "iopub.status.busy": "2020-10-10T00:06:55.832999Z",
     "iopub.status.idle": "2020-10-10T00:06:55.850626Z",
     "shell.execute_reply": "2020-10-10T00:06:55.850063Z"
    },
    "papermill": {
     "duration": 0.057749,
     "end_time": "2020-10-10T00:06:55.850779",
     "exception": false,
     "start_time": "2020-10-10T00:06:55.793030",
     "status": "completed"
    },
    "tags": []
   },
   "outputs": [],
   "source": [
    "class Config:\n",
    "    pass\n",
    "config = Config()\n",
    "config.lr = 0.001\n",
    "config.num_epochs = 251\n",
    "config.bs = 50"
   ]
  },
  {
   "cell_type": "markdown",
   "metadata": {
    "papermill": {
     "duration": 0.031693,
     "end_time": "2020-10-10T00:06:55.916772",
     "exception": false,
     "start_time": "2020-10-10T00:06:55.885079",
     "status": "completed"
    },
    "tags": []
   },
   "source": [
    "### Initializing data to the variables"
   ]
  },
  {
   "cell_type": "code",
   "execution_count": 16,
   "metadata": {
    "execution": {
     "iopub.execute_input": "2020-10-10T00:06:55.999859Z",
     "iopub.status.busy": "2020-10-10T00:06:55.999185Z",
     "iopub.status.idle": "2020-10-10T00:06:56.011448Z",
     "shell.execute_reply": "2020-10-10T00:06:56.010898Z"
    },
    "papermill": {
     "duration": 0.062338,
     "end_time": "2020-10-10T00:06:56.011632",
     "exception": false,
     "start_time": "2020-10-10T00:06:55.949294",
     "status": "completed"
    },
    "tags": []
   },
   "outputs": [],
   "source": [
    "data = Data(X_train, y_train.reshape(-1,1))\n",
    "sampler = Sampler(data, config.bs, shuffle=True)\n",
    "\n",
    "dl = Dataloader(data, sampler)\n",
    "\n",
    "opt = GD(config.lr)\n",
    "loss = MSE()"
   ]
  },
  {
   "cell_type": "code",
   "execution_count": 17,
   "metadata": {
    "execution": {
     "iopub.execute_input": "2020-10-10T00:06:56.080212Z",
     "iopub.status.busy": "2020-10-10T00:06:56.079577Z",
     "iopub.status.idle": "2020-10-10T00:06:56.092348Z",
     "shell.execute_reply": "2020-10-10T00:06:56.091784Z"
    },
    "papermill": {
     "duration": 0.049291,
     "end_time": "2020-10-10T00:06:56.092492",
     "exception": false,
     "start_time": "2020-10-10T00:06:56.043201",
     "status": "completed"
    },
    "tags": []
   },
   "outputs": [],
   "source": [
    "training_xdata = X_train\n",
    "testing_xdata = X_test\n",
    "training_ydata = y_train.reshape(-1,1)\n",
    "testing_ydata = y_test.reshape(-1,1)"
   ]
  },
  {
   "cell_type": "markdown",
   "metadata": {
    "papermill": {
     "duration": 0.032198,
     "end_time": "2020-10-10T00:06:56.157465",
     "exception": false,
     "start_time": "2020-10-10T00:06:56.125267",
     "status": "completed"
    },
    "tags": []
   },
   "source": [
    "### Running Models with the Training data\n",
    "Details about the network layers:\n",
    "- A first affine layer has 784 inputs and does 100 affine transforms. These are followed by a Relu\n",
    "- A second affine layer has 100 inputs from the 100 activations of the past layer, and does 100 affine transforms. These are followed by a Relu\n",
    "- A third affine layer has 100 activations and does 2 affine transformations to create an embedding for visualization. There is no non-linearity here.\n",
    "- A final \"logistic regression\" which has an affine transform from 2 inputs to 1 output, which is squeezed through a sigmoid.\n",
    "\n",
    "Help taken from Anshuman's Notebook."
   ]
  },
  {
   "cell_type": "code",
   "execution_count": 18,
   "metadata": {
    "execution": {
     "iopub.execute_input": "2020-10-10T00:06:56.228174Z",
     "iopub.status.busy": "2020-10-10T00:06:56.227524Z",
     "iopub.status.idle": "2020-10-10T00:06:56.244518Z",
     "shell.execute_reply": "2020-10-10T00:06:56.245055Z"
    },
    "papermill": {
     "duration": 0.055813,
     "end_time": "2020-10-10T00:06:56.245220",
     "exception": false,
     "start_time": "2020-10-10T00:06:56.189407",
     "status": "completed"
    },
    "tags": []
   },
   "outputs": [],
   "source": [
    "# layers for the Neural Network\n",
    "layers = [Affine(\"first\", 784, 100), Relu(\"first\"), Affine(\"second\", 100, 100), Relu(\"second\"), Affine(\"third\", 100, 2), Affine(\"final\", 2, 1), Sigmoid(\"final\")]\n",
    "model_nn = Model(layers)\n",
    "\n",
    "# layers for the Logistic Regression\n",
    "layers_lr = [Affine(\"logits\", 784, 1), Sigmoid(\"sigmoid\")]\n",
    "model_lr = Model(layers_lr)"
   ]
  },
  {
   "cell_type": "code",
   "execution_count": 19,
   "metadata": {
    "execution": {
     "iopub.execute_input": "2020-10-10T00:06:56.326791Z",
     "iopub.status.busy": "2020-10-10T00:06:56.317958Z",
     "iopub.status.idle": "2020-10-10T00:06:56.331367Z",
     "shell.execute_reply": "2020-10-10T00:06:56.330841Z"
    },
    "papermill": {
     "duration": 0.054612,
     "end_time": "2020-10-10T00:06:56.331531",
     "exception": false,
     "start_time": "2020-10-10T00:06:56.276919",
     "status": "completed"
    },
    "tags": []
   },
   "outputs": [],
   "source": [
    "# suffix _nn stands for Neural Network.\n",
    "learner_nn = Learner(loss, model_nn, opt, config.num_epochs)\n",
    "acc_nn = ClfCallback(learner_nn, config.bs, training_xdata , testing_xdata, training_ydata, testing_ydata)\n",
    "learner_nn.set_callbacks([acc_nn])"
   ]
  },
  {
   "cell_type": "code",
   "execution_count": 20,
   "metadata": {
    "execution": {
     "iopub.execute_input": "2020-10-10T00:06:56.401073Z",
     "iopub.status.busy": "2020-10-10T00:06:56.400439Z",
     "iopub.status.idle": "2020-10-10T00:09:00.791893Z",
     "shell.execute_reply": "2020-10-10T00:09:00.792670Z"
    },
    "papermill": {
     "duration": 124.427123,
     "end_time": "2020-10-10T00:09:00.792833",
     "exception": false,
     "start_time": "2020-10-10T00:06:56.365710",
     "status": "completed"
    },
    "tags": []
   },
   "outputs": [
    {
     "name": "stdout",
     "output_type": "stream",
     "text": [
      "====== Neural Network ======\n"
     ]
    },
    {
     "name": "stdout",
     "output_type": "stream",
     "text": [
      "Epoch 0, Loss 0.2371\n",
      "Training Accuracy: 0.7177, Testing Accuracy: 0.6905\n",
      "\n"
     ]
    },
    {
     "name": "stdout",
     "output_type": "stream",
     "text": [
      "Epoch 10, Loss 0.0796\n",
      "Training Accuracy: 0.9241, Testing Accuracy: 0.9309\n",
      "\n"
     ]
    },
    {
     "name": "stdout",
     "output_type": "stream",
     "text": [
      "Epoch 20, Loss 0.0511\n",
      "Training Accuracy: 0.9460, Testing Accuracy: 0.9536\n",
      "\n"
     ]
    },
    {
     "name": "stdout",
     "output_type": "stream",
     "text": [
      "Epoch 30, Loss 0.0408\n",
      "Training Accuracy: 0.9552, Testing Accuracy: 0.9637\n",
      "\n"
     ]
    },
    {
     "name": "stdout",
     "output_type": "stream",
     "text": [
      "Epoch 40, Loss 0.0353\n",
      "Training Accuracy: 0.9597, Testing Accuracy: 0.9667\n",
      "\n"
     ]
    },
    {
     "name": "stdout",
     "output_type": "stream",
     "text": [
      "Epoch 50, Loss 0.0319\n",
      "Training Accuracy: 0.9633, Testing Accuracy: 0.9682\n",
      "\n"
     ]
    },
    {
     "name": "stdout",
     "output_type": "stream",
     "text": [
      "Epoch 60, Loss 0.0295\n",
      "Training Accuracy: 0.9660, Testing Accuracy: 0.9698\n",
      "\n"
     ]
    },
    {
     "name": "stdout",
     "output_type": "stream",
     "text": [
      "Epoch 70, Loss 0.0278\n",
      "Training Accuracy: 0.9679, Testing Accuracy: 0.9708\n",
      "\n"
     ]
    },
    {
     "name": "stdout",
     "output_type": "stream",
     "text": [
      "Epoch 80, Loss 0.0264\n",
      "Training Accuracy: 0.9691, Testing Accuracy: 0.9713\n",
      "\n"
     ]
    },
    {
     "name": "stdout",
     "output_type": "stream",
     "text": [
      "Epoch 90, Loss 0.0253\n",
      "Training Accuracy: 0.9703, Testing Accuracy: 0.9718\n",
      "\n"
     ]
    },
    {
     "name": "stdout",
     "output_type": "stream",
     "text": [
      "Epoch 100, Loss 0.0243\n",
      "Training Accuracy: 0.9721, Testing Accuracy: 0.9713\n",
      "\n"
     ]
    },
    {
     "name": "stdout",
     "output_type": "stream",
     "text": [
      "Epoch 110, Loss 0.0235\n",
      "Training Accuracy: 0.9738, Testing Accuracy: 0.9723\n",
      "\n"
     ]
    },
    {
     "name": "stdout",
     "output_type": "stream",
     "text": [
      "Epoch 120, Loss 0.0228\n",
      "Training Accuracy: 0.9743, Testing Accuracy: 0.9733\n",
      "\n"
     ]
    },
    {
     "name": "stdout",
     "output_type": "stream",
     "text": [
      "Epoch 130, Loss 0.0221\n",
      "Training Accuracy: 0.9750, Testing Accuracy: 0.9748\n",
      "\n"
     ]
    },
    {
     "name": "stdout",
     "output_type": "stream",
     "text": [
      "Epoch 140, Loss 0.0215\n",
      "Training Accuracy: 0.9758, Testing Accuracy: 0.9748\n",
      "\n"
     ]
    },
    {
     "name": "stdout",
     "output_type": "stream",
     "text": [
      "Epoch 150, Loss 0.021\n",
      "Training Accuracy: 0.9765, Testing Accuracy: 0.9748\n",
      "\n"
     ]
    },
    {
     "name": "stdout",
     "output_type": "stream",
     "text": [
      "Epoch 160, Loss 0.0205\n",
      "Training Accuracy: 0.9773, Testing Accuracy: 0.9753\n",
      "\n"
     ]
    },
    {
     "name": "stdout",
     "output_type": "stream",
     "text": [
      "Epoch 170, Loss 0.02\n",
      "Training Accuracy: 0.9777, Testing Accuracy: 0.9758\n",
      "\n"
     ]
    },
    {
     "name": "stdout",
     "output_type": "stream",
     "text": [
      "Epoch 180, Loss 0.0196\n",
      "Training Accuracy: 0.9784, Testing Accuracy: 0.9758\n",
      "\n"
     ]
    },
    {
     "name": "stdout",
     "output_type": "stream",
     "text": [
      "Epoch 190, Loss 0.0191\n",
      "Training Accuracy: 0.9791, Testing Accuracy: 0.9763\n",
      "\n"
     ]
    },
    {
     "name": "stdout",
     "output_type": "stream",
     "text": [
      "Epoch 200, Loss 0.0187\n",
      "Training Accuracy: 0.9799, Testing Accuracy: 0.9768\n",
      "\n"
     ]
    },
    {
     "name": "stdout",
     "output_type": "stream",
     "text": [
      "Epoch 210, Loss 0.0183\n",
      "Training Accuracy: 0.9804, Testing Accuracy: 0.9768\n",
      "\n"
     ]
    },
    {
     "name": "stdout",
     "output_type": "stream",
     "text": [
      "Epoch 220, Loss 0.018\n",
      "Training Accuracy: 0.9808, Testing Accuracy: 0.9768\n",
      "\n"
     ]
    },
    {
     "name": "stdout",
     "output_type": "stream",
     "text": [
      "Epoch 230, Loss 0.0176\n",
      "Training Accuracy: 0.9813, Testing Accuracy: 0.9768\n",
      "\n"
     ]
    },
    {
     "name": "stdout",
     "output_type": "stream",
     "text": [
      "Epoch 240, Loss 0.0173\n",
      "Training Accuracy: 0.9816, Testing Accuracy: 0.9768\n",
      "\n"
     ]
    },
    {
     "name": "stdout",
     "output_type": "stream",
     "text": [
      "Epoch 250, Loss 0.017\n",
      "Training Accuracy: 0.9820, Testing Accuracy: 0.9778\n",
      "\n"
     ]
    },
    {
     "data": {
      "text/plain": [
       "0.01228839212983605"
      ]
     },
     "execution_count": 20,
     "metadata": {},
     "output_type": "execute_result"
    }
   ],
   "source": [
    "print(\"====== Neural Network ======\")\n",
    "learner_nn.train_loop(dl)"
   ]
  },
  {
   "cell_type": "markdown",
   "metadata": {
    "papermill": {
     "duration": 0.04536,
     "end_time": "2020-10-10T00:09:00.881097",
     "exception": false,
     "start_time": "2020-10-10T00:09:00.835737",
     "status": "completed"
    },
    "tags": []
   },
   "source": [
    "### Logistic Regression based Implementation."
   ]
  },
  {
   "cell_type": "code",
   "execution_count": 21,
   "metadata": {
    "execution": {
     "iopub.execute_input": "2020-10-10T00:09:01.000394Z",
     "iopub.status.busy": "2020-10-10T00:09:00.992227Z",
     "iopub.status.idle": "2020-10-10T00:09:01.003597Z",
     "shell.execute_reply": "2020-10-10T00:09:01.003032Z"
    },
    "papermill": {
     "duration": 0.063237,
     "end_time": "2020-10-10T00:09:01.003756",
     "exception": false,
     "start_time": "2020-10-10T00:09:00.940519",
     "status": "completed"
    },
    "tags": []
   },
   "outputs": [],
   "source": [
    "learner_lr = Learner(loss, model_lr, opt, config.num_epochs)\n",
    "acc_lr = ClfCallback(learner_lr, config.bs, training_xdata , testing_xdata, training_ydata, testing_ydata)\n",
    "learner_lr.set_callbacks([acc_lr])"
   ]
  },
  {
   "cell_type": "code",
   "execution_count": 22,
   "metadata": {
    "execution": {
     "iopub.execute_input": "2020-10-10T00:09:01.093371Z",
     "iopub.status.busy": "2020-10-10T00:09:01.092710Z",
     "iopub.status.idle": "2020-10-10T00:09:19.455941Z",
     "shell.execute_reply": "2020-10-10T00:09:19.456767Z"
    },
    "papermill": {
     "duration": 18.413757,
     "end_time": "2020-10-10T00:09:19.456950",
     "exception": false,
     "start_time": "2020-10-10T00:09:01.043193",
     "status": "completed"
    },
    "tags": []
   },
   "outputs": [
    {
     "name": "stdout",
     "output_type": "stream",
     "text": [
      "====== Logistic Regression ======\n",
      "Epoch 0, Loss 0.2728\n",
      "Training Accuracy: 0.5657, Testing Accuracy: 0.5635\n",
      "\n"
     ]
    },
    {
     "name": "stdout",
     "output_type": "stream",
     "text": [
      "Epoch 10, Loss 0.1076\n",
      "Training Accuracy: 0.9055, Testing Accuracy: 0.9178\n",
      "\n"
     ]
    },
    {
     "name": "stdout",
     "output_type": "stream",
     "text": [
      "Epoch 20, Loss 0.0809\n",
      "Training Accuracy: 0.9276, Testing Accuracy: 0.9425\n",
      "\n"
     ]
    },
    {
     "name": "stdout",
     "output_type": "stream",
     "text": [
      "Epoch 30, Loss 0.069\n",
      "Training Accuracy: 0.9357, Testing Accuracy: 0.9506\n",
      "\n"
     ]
    },
    {
     "name": "stdout",
     "output_type": "stream",
     "text": [
      "Epoch 40, Loss 0.062\n",
      "Training Accuracy: 0.9409, Testing Accuracy: 0.9556\n",
      "\n"
     ]
    },
    {
     "name": "stdout",
     "output_type": "stream",
     "text": [
      "Epoch 50, Loss 0.0573\n",
      "Training Accuracy: 0.9443, Testing Accuracy: 0.9592\n",
      "\n"
     ]
    },
    {
     "name": "stdout",
     "output_type": "stream",
     "text": [
      "Epoch 60, Loss 0.054\n",
      "Training Accuracy: 0.9471, Testing Accuracy: 0.9602\n",
      "\n"
     ]
    },
    {
     "name": "stdout",
     "output_type": "stream",
     "text": [
      "Epoch 70, Loss 0.0514\n",
      "Training Accuracy: 0.9488, Testing Accuracy: 0.9612\n",
      "\n"
     ]
    },
    {
     "name": "stdout",
     "output_type": "stream",
     "text": [
      "Epoch 80, Loss 0.0493\n",
      "Training Accuracy: 0.9502, Testing Accuracy: 0.9617\n",
      "\n"
     ]
    },
    {
     "name": "stdout",
     "output_type": "stream",
     "text": [
      "Epoch 90, Loss 0.0476\n",
      "Training Accuracy: 0.9517, Testing Accuracy: 0.9632\n",
      "\n"
     ]
    },
    {
     "name": "stdout",
     "output_type": "stream",
     "text": [
      "Epoch 100, Loss 0.0462\n",
      "Training Accuracy: 0.9529, Testing Accuracy: 0.9642\n",
      "\n"
     ]
    },
    {
     "name": "stdout",
     "output_type": "stream",
     "text": [
      "Epoch 110, Loss 0.045\n",
      "Training Accuracy: 0.9537, Testing Accuracy: 0.9657\n",
      "\n"
     ]
    },
    {
     "name": "stdout",
     "output_type": "stream",
     "text": [
      "Epoch 120, Loss 0.0439\n",
      "Training Accuracy: 0.9545, Testing Accuracy: 0.9657\n",
      "\n"
     ]
    },
    {
     "name": "stdout",
     "output_type": "stream",
     "text": [
      "Epoch 130, Loss 0.043\n",
      "Training Accuracy: 0.9553, Testing Accuracy: 0.9662\n",
      "\n"
     ]
    },
    {
     "name": "stdout",
     "output_type": "stream",
     "text": [
      "Epoch 140, Loss 0.0421\n",
      "Training Accuracy: 0.9560, Testing Accuracy: 0.9667\n",
      "\n"
     ]
    },
    {
     "name": "stdout",
     "output_type": "stream",
     "text": [
      "Epoch 150, Loss 0.0414\n",
      "Training Accuracy: 0.9572, Testing Accuracy: 0.9667\n",
      "\n"
     ]
    },
    {
     "name": "stdout",
     "output_type": "stream",
     "text": [
      "Epoch 160, Loss 0.0407\n",
      "Training Accuracy: 0.9579, Testing Accuracy: 0.9667\n",
      "\n"
     ]
    },
    {
     "name": "stdout",
     "output_type": "stream",
     "text": [
      "Epoch 170, Loss 0.0401\n",
      "Training Accuracy: 0.9584, Testing Accuracy: 0.9667\n",
      "\n"
     ]
    },
    {
     "name": "stdout",
     "output_type": "stream",
     "text": [
      "Epoch 180, Loss 0.0396\n",
      "Training Accuracy: 0.9588, Testing Accuracy: 0.9677\n",
      "\n"
     ]
    },
    {
     "name": "stdout",
     "output_type": "stream",
     "text": [
      "Epoch 190, Loss 0.039\n",
      "Training Accuracy: 0.9590, Testing Accuracy: 0.9677\n",
      "\n"
     ]
    },
    {
     "name": "stdout",
     "output_type": "stream",
     "text": [
      "Epoch 200, Loss 0.0386\n",
      "Training Accuracy: 0.9592, Testing Accuracy: 0.9688\n",
      "\n"
     ]
    },
    {
     "name": "stdout",
     "output_type": "stream",
     "text": [
      "Epoch 210, Loss 0.0381\n",
      "Training Accuracy: 0.9594, Testing Accuracy: 0.9682\n",
      "\n"
     ]
    },
    {
     "name": "stdout",
     "output_type": "stream",
     "text": [
      "Epoch 220, Loss 0.0377\n",
      "Training Accuracy: 0.9592, Testing Accuracy: 0.9682\n",
      "\n"
     ]
    },
    {
     "name": "stdout",
     "output_type": "stream",
     "text": [
      "Epoch 230, Loss 0.0373\n",
      "Training Accuracy: 0.9594, Testing Accuracy: 0.9682\n",
      "\n"
     ]
    },
    {
     "name": "stdout",
     "output_type": "stream",
     "text": [
      "Epoch 240, Loss 0.037\n",
      "Training Accuracy: 0.9598, Testing Accuracy: 0.9682\n",
      "\n"
     ]
    },
    {
     "name": "stdout",
     "output_type": "stream",
     "text": [
      "Epoch 250, Loss 0.0366\n",
      "Training Accuracy: 0.9601, Testing Accuracy: 0.9688\n",
      "\n"
     ]
    },
    {
     "data": {
      "text/plain": [
       "0.021691429056044785"
      ]
     },
     "execution_count": 22,
     "metadata": {},
     "output_type": "execute_result"
    }
   ],
   "source": [
    "print(\"====== Logistic Regression ======\")\n",
    "learner_lr.train_loop(dl)"
   ]
  },
  {
   "cell_type": "markdown",
   "metadata": {
    "papermill": {
     "duration": 0.050138,
     "end_time": "2020-10-10T00:09:19.558111",
     "exception": false,
     "start_time": "2020-10-10T00:09:19.507973",
     "status": "completed"
    },
    "tags": []
   },
   "source": [
    "### Comparing results of NN and LR"
   ]
  },
  {
   "cell_type": "code",
   "execution_count": 23,
   "metadata": {
    "execution": {
     "iopub.execute_input": "2020-10-10T00:09:19.667424Z",
     "iopub.status.busy": "2020-10-10T00:09:19.666174Z",
     "iopub.status.idle": "2020-10-10T00:09:19.933274Z",
     "shell.execute_reply": "2020-10-10T00:09:19.933801Z"
    },
    "papermill": {
     "duration": 0.322145,
     "end_time": "2020-10-10T00:09:19.933972",
     "exception": false,
     "start_time": "2020-10-10T00:09:19.611827",
     "status": "completed"
    },
    "tags": []
   },
   "outputs": [
    {
     "data": {
      "text/plain": [
       "<matplotlib.legend.Legend at 0x7fd2217ef048>"
      ]
     },
     "execution_count": 23,
     "metadata": {},
     "output_type": "execute_result"
    },
    {
     "data": {
      "image/png": "[encoded data removed]",
      "text/plain": [
       "<Figure size 1080x720 with 1 Axes>"
      ]
     },
     "metadata": {
      "needs_background": "light"
     },
     "output_type": "display_data"
    }
   ],
   "source": [
    "plt.figure(figsize=(15,10))\n",
    "\n",
    "# Neural Network plots\n",
    "plt.plot(acc_nn.accuracies, 'r-', label = \"Training Accuracies - NN\")\n",
    "plt.plot(acc_nn.test_accuracies, 'g-', label = \"Testing Accuracies - NN\")\n",
    "\n",
    "# Logistic Regression plots\n",
    "plt.plot(acc_lr.accuracies, 'k-', label = \"Training Accuracies - LR\")\n",
    "plt.plot(acc_lr.test_accuracies, 'b-', label = \"Testing Accuracies - LR\")\n",
    "\n",
    "plt.ylim(0.8, 1)\n",
    "\n",
    "plt.legend()\n",
    "\n"
   ]
  },
  {
   "cell_type": "markdown",
   "metadata": {
    "papermill": {
     "duration": 0.050502,
     "end_time": "2020-10-10T00:09:20.036328",
     "exception": false,
     "start_time": "2020-10-10T00:09:19.985826",
     "status": "completed"
    },
    "tags": []
   },
   "source": [
    "### From the plot, we can observe the following:\n",
    "- Neural Network achieves higher accuracy than the Logistic Regression model.\n",
    "- This apparently, is because of overfitting, i.e. NN captures more noise than data.\n",
    "- Testing accuracy of NN drops below the Training accuracy at higher epochs. This explains the over-fitting on training data.\n",
    "- Logistic Regression gives a reliable accuracy, without the above mentioned problem.\n"
   ]
  },
  {
   "cell_type": "markdown",
   "metadata": {
    "papermill": {
     "duration": 0.061409,
     "end_time": "2020-10-10T00:09:20.148365",
     "exception": false,
     "start_time": "2020-10-10T00:09:20.086956",
     "status": "completed"
    },
    "tags": []
   },
   "source": [
    "### Moving till the last but one layer (excluding it).\n",
    "#### Plotting the outputs of this layer of the NN."
   ]
  },
  {
   "cell_type": "code",
   "execution_count": 24,
   "metadata": {
    "execution": {
     "iopub.execute_input": "2020-10-10T00:09:20.258680Z",
     "iopub.status.busy": "2020-10-10T00:09:20.258047Z",
     "iopub.status.idle": "2020-10-10T00:09:20.270253Z",
     "shell.execute_reply": "2020-10-10T00:09:20.269723Z"
    },
    "papermill": {
     "duration": 0.070388,
     "end_time": "2020-10-10T00:09:20.270400",
     "exception": false,
     "start_time": "2020-10-10T00:09:20.200012",
     "status": "completed"
    },
    "tags": []
   },
   "outputs": [],
   "source": [
    "model_new = Model(layers[:-2])"
   ]
  },
  {
   "cell_type": "code",
   "execution_count": 25,
   "metadata": {
    "execution": {
     "iopub.execute_input": "2020-10-10T00:09:20.379869Z",
     "iopub.status.busy": "2020-10-10T00:09:20.378618Z",
     "iopub.status.idle": "2020-10-10T00:09:20.401973Z",
     "shell.execute_reply": "2020-10-10T00:09:20.402515Z"
    },
    "papermill": {
     "duration": 0.081719,
     "end_time": "2020-10-10T00:09:20.402699",
     "exception": false,
     "start_time": "2020-10-10T00:09:20.320980",
     "status": "completed"
    },
    "tags": []
   },
   "outputs": [],
   "source": [
    "plot_testing = model_new(testing_xdata)"
   ]
  },
  {
   "cell_type": "code",
   "execution_count": 26,
   "metadata": {
    "execution": {
     "iopub.execute_input": "2020-10-10T00:09:20.513065Z",
     "iopub.status.busy": "2020-10-10T00:09:20.512429Z",
     "iopub.status.idle": "2020-10-10T00:09:20.743954Z",
     "shell.execute_reply": "2020-10-10T00:09:20.744469Z"
    },
    "papermill": {
     "duration": 0.290547,
     "end_time": "2020-10-10T00:09:20.744644",
     "exception": false,
     "start_time": "2020-10-10T00:09:20.454097",
     "status": "completed"
    },
    "tags": []
   },
   "outputs": [
    {
     "data": {
      "text/plain": [
       "Text(0.5, 1.0, 'Outputs')"
      ]
     },
     "execution_count": 26,
     "metadata": {},
     "output_type": "execute_result"
    },
    {
     "data": {
      "image/png": "[encoded data removed]",
      "text/plain": [
       "<Figure size 576x504 with 1 Axes>"
      ]
     },
     "metadata": {
      "needs_background": "light"
     },
     "output_type": "display_data"
    }
   ],
   "source": [
    "plt.figure(figsize=(8,7))\n",
    "plt.scatter(plot_testing[:,0], plot_testing[:,1], alpha = 0.1, c = y_test.ravel());\n",
    "plt.title('Outputs')"
   ]
  },
  {
   "cell_type": "markdown",
   "metadata": {
    "papermill": {
     "duration": 0.054844,
     "end_time": "2020-10-10T00:09:20.853633",
     "exception": false,
     "start_time": "2020-10-10T00:09:20.798789",
     "status": "completed"
    },
    "tags": []
   },
   "source": [
    "### Plotting probability contours"
   ]
  },
  {
   "cell_type": "code",
   "execution_count": 27,
   "metadata": {
    "execution": {
     "iopub.execute_input": "2020-10-10T00:09:20.984367Z",
     "iopub.status.busy": "2020-10-10T00:09:20.972338Z",
     "iopub.status.idle": "2020-10-10T00:09:20.986616Z",
     "shell.execute_reply": "2020-10-10T00:09:20.987144Z"
    },
    "papermill": {
     "duration": 0.080548,
     "end_time": "2020-10-10T00:09:20.987323",
     "exception": false,
     "start_time": "2020-10-10T00:09:20.906775",
     "status": "completed"
    },
    "tags": []
   },
   "outputs": [],
   "source": [
    "model_prob = Model(layers[-2:]) "
   ]
  },
  {
   "cell_type": "code",
   "execution_count": 28,
   "metadata": {
    "execution": {
     "iopub.execute_input": "2020-10-10T00:09:21.111171Z",
     "iopub.status.busy": "2020-10-10T00:09:21.106791Z",
     "iopub.status.idle": "2020-10-10T00:09:21.117728Z",
     "shell.execute_reply": "2020-10-10T00:09:21.118222Z"
    },
    "papermill": {
     "duration": 0.078224,
     "end_time": "2020-10-10T00:09:21.118393",
     "exception": false,
     "start_time": "2020-10-10T00:09:21.040169",
     "status": "completed"
    },
    "tags": []
   },
   "outputs": [],
   "source": [
    "# Adjust the x and y ranges according to the above generated plot.\n",
    "x_range = np.linspace(-4, 1, 100) \n",
    "y_range = np.linspace(-6, 6, 100) \n",
    "x_grid, y_grid = np.meshgrid(x_range, y_range) # x_grid and y_grig are of size 100 X 100\n",
    "\n",
    "# converting x_grid and y_grid to continuous arrays\n",
    "x_grid_flat = np.ravel(x_grid)\n",
    "y_grid_flat = np.ravel(y_grid)\n",
    "\n",
    "# The last layer of the current model takes two columns as input. Hence transpose of np.vstack() is required.\n",
    "X = np.vstack((x_grid_flat, y_grid_flat)).T\n",
    "\n",
    "# x_grid and y_grid are of size 100 x 100\n",
    "probability_contour = model_prob(X).reshape(100,100) "
   ]
  },
  {
   "cell_type": "code",
   "execution_count": 29,
   "metadata": {
    "execution": {
     "iopub.execute_input": "2020-10-10T00:09:21.240310Z",
     "iopub.status.busy": "2020-10-10T00:09:21.239668Z",
     "iopub.status.idle": "2020-10-10T00:09:21.517190Z",
     "shell.execute_reply": "2020-10-10T00:09:21.516108Z"
    },
    "papermill": {
     "duration": 0.345036,
     "end_time": "2020-10-10T00:09:21.517336",
     "exception": false,
     "start_time": "2020-10-10T00:09:21.172300",
     "status": "completed"
    },
    "tags": []
   },
   "outputs": [
    {
     "data": {
      "image/png": "[encoded data removed]",
      "text/plain": [
       "<Figure size 720x648 with 1 Axes>"
      ]
     },
     "metadata": {
      "needs_background": "light"
     },
     "output_type": "display_data"
    }
   ],
   "source": [
    "plt.figure(figsize=(10,9))\n",
    "plt.scatter(plot_testing[:,0], plot_testing[:,1], alpha = 0.1, c = y_test.ravel())\n",
    "contours = plt.contour(x_grid,y_grid,probability_contour)\n",
    "plt.title('Probability Contours')\n",
    "plt.clabel(contours, inline = True );"
   ]
  }
 ],
 "metadata": {
  "kernelspec": {
   "display_name": "Python 3",
   "language": "python",
   "name": "python3"
  },
  "language_info": {
   "codemirror_mode": {
    "name": "ipython",
    "version": 3
   },
   "file_extension": ".py",
   "mimetype": "text/x-python",
   "name": "python",
   "nbconvert_exporter": "python",
   "pygments_lexer": "ipython3",
   "version": "3.6.12"
  },
  "papermill": {
   "duration": 155.052292,
   "end_time": "2020-10-10T00:09:22.003734",
   "environment_variables": {},
   "exception": null,
   "input_path": "2020-08-11-NeuralNetwork.ipynb",
   "output_path": "2020-08-11-NeuralNetwork.ipynb",
   "parameters": {},
   "start_time": "2020-10-10T00:06:46.951442",
   "version": "2.1.2"
  }
 },
 "nbformat": 4,
 "nbformat_minor": 4
}