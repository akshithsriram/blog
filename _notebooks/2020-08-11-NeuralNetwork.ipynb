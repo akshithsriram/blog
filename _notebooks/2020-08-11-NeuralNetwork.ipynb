{
 "cells": [
  {
   "cell_type": "markdown",
   "metadata": {
    "papermill": {
     "duration": 0.035326,
     "end_time": "2020-12-11T10:04:52.597916",
     "exception": false,
     "start_time": "2020-12-11T10:04:52.562590",
     "status": "completed"
    },
    "tags": []
   },
   "source": [
    "# \"A Basic Neural Network: Differentiate Hand-Written Digits\"\n",
    "\n",
    "- badges: true\n",
    "- author: Akshith Sriram"
   ]
  },
  {
   "cell_type": "markdown",
   "metadata": {
    "papermill": {
     "duration": 0.031933,
     "end_time": "2020-12-11T10:04:52.664057",
     "exception": false,
     "start_time": "2020-12-11T10:04:52.632124",
     "status": "completed"
    },
    "tags": []
   },
   "source": [
    "### Key Objectives:\n",
    "- Building a neural network that differentiates two hand-written digits 3 and 8.\n",
    "- Comparing the results of this Neural Network (NN) to that of a Logistic Regression (LR) model.\n",
    "\n",
    "### Requirements:\n",
    "- 'Kudzu' : A neural network library that was designed during our course by [Univ.AI](www.univ.ai). \n",
    "- MNIST Database\n",
    "\n",
    "If MNIST is not installed, use the command `!pip install mnist` given below.\n",
    "It can be run both from the command line and Jupyter Notebook."
   ]
  },
  {
   "cell_type": "code",
   "execution_count": 1,
   "metadata": {
    "execution": {
     "iopub.execute_input": "2020-12-11T10:04:52.739237Z",
     "iopub.status.busy": "2020-12-11T10:04:52.738332Z",
     "iopub.status.idle": "2020-12-11T10:04:54.851252Z",
     "shell.execute_reply": "2020-12-11T10:04:54.850656Z"
    },
    "papermill": {
     "duration": 2.156963,
     "end_time": "2020-12-11T10:04:54.851430",
     "exception": false,
     "start_time": "2020-12-11T10:04:52.694467",
     "status": "completed"
    },
    "tags": []
   },
   "outputs": [
    {
     "name": "stdout",
     "output_type": "stream",
     "text": [
      "Collecting mnist\r\n"
     ]
    },
    {
     "name": "stdout",
     "output_type": "stream",
     "text": [
      "  Downloading mnist-0.2.2-py2.py3-none-any.whl (3.5 kB)\r\n"
     ]
    },
    {
     "name": "stdout",
     "output_type": "stream",
     "text": [
      "Requirement already satisfied: numpy in /opt/hostedtoolcache/Python/3.6.12/x64/lib/python3.6/site-packages (from mnist) (1.19.4)\r\n"
     ]
    },
    {
     "name": "stdout",
     "output_type": "stream",
     "text": [
      "Installing collected packages: mnist\r\n"
     ]
    },
    {
     "name": "stdout",
     "output_type": "stream",
     "text": [
      "Successfully installed mnist-0.2.2\r\n"
     ]
    },
    {
     "name": "stdout",
     "output_type": "stream",
     "text": [
      "\u001b[33mWARNING: You are using pip version 20.2.4; however, version 20.3.1 is available.\r\n",
      "You should consider upgrading via the '/opt/hostedtoolcache/Python/3.6.12/x64/bin/python -m pip install --upgrade pip' command.\u001b[0m\r\n"
     ]
    }
   ],
   "source": [
    "!pip install mnist "
   ]
  },
  {
   "cell_type": "markdown",
   "metadata": {
    "papermill": {
     "duration": 0.036334,
     "end_time": "2020-12-11T10:04:54.922906",
     "exception": false,
     "start_time": "2020-12-11T10:04:54.886572",
     "status": "completed"
    },
    "tags": []
   },
   "source": [
    "#### Importing necessary libraries"
   ]
  },
  {
   "cell_type": "code",
   "execution_count": 2,
   "metadata": {
    "execution": {
     "iopub.execute_input": "2020-12-11T10:04:55.001521Z",
     "iopub.status.busy": "2020-12-11T10:04:55.000764Z",
     "iopub.status.idle": "2020-12-11T10:04:55.684805Z",
     "shell.execute_reply": "2020-12-11T10:04:55.684045Z"
    },
    "papermill": {
     "duration": 0.727305,
     "end_time": "2020-12-11T10:04:55.684949",
     "exception": false,
     "start_time": "2020-12-11T10:04:54.957644",
     "status": "completed"
    },
    "tags": []
   },
   "outputs": [],
   "source": [
    "%load_ext autoreload\n",
    "%autoreload 2\n",
    "\n",
    "%matplotlib inline\n",
    "import matplotlib.pyplot as plt\n",
    "\n",
    "import numpy as np\n",
    "import pandas as pd"
   ]
  },
  {
   "cell_type": "markdown",
   "metadata": {
    "papermill": {
     "duration": 0.033958,
     "end_time": "2020-12-11T10:04:55.752730",
     "exception": false,
     "start_time": "2020-12-11T10:04:55.718772",
     "status": "completed"
    },
    "tags": []
   },
   "source": [
    "### Preparing the Data"
   ]
  },
  {
   "cell_type": "code",
   "execution_count": 3,
   "metadata": {
    "execution": {
     "iopub.execute_input": "2020-12-11T10:04:55.826942Z",
     "iopub.status.busy": "2020-12-11T10:04:55.826265Z",
     "iopub.status.idle": "2020-12-11T10:04:55.838920Z",
     "shell.execute_reply": "2020-12-11T10:04:55.838294Z"
    },
    "papermill": {
     "duration": 0.05326,
     "end_time": "2020-12-11T10:04:55.839191",
     "exception": false,
     "start_time": "2020-12-11T10:04:55.785931",
     "status": "completed"
    },
    "tags": []
   },
   "outputs": [],
   "source": [
    "import mnist"
   ]
  },
  {
   "cell_type": "code",
   "execution_count": 4,
   "metadata": {
    "execution": {
     "iopub.execute_input": "2020-12-11T10:04:55.915610Z",
     "iopub.status.busy": "2020-12-11T10:04:55.914070Z",
     "iopub.status.idle": "2020-12-11T10:04:56.955239Z",
     "shell.execute_reply": "2020-12-11T10:04:56.954020Z"
    },
    "papermill": {
     "duration": 1.083171,
     "end_time": "2020-12-11T10:04:56.955389",
     "exception": false,
     "start_time": "2020-12-11T10:04:55.872218",
     "status": "completed"
    },
    "tags": []
   },
   "outputs": [],
   "source": [
    "train_images = mnist.train_images()\n",
    "train_labels = mnist.train_labels()"
   ]
  },
  {
   "cell_type": "code",
   "execution_count": 5,
   "metadata": {
    "execution": {
     "iopub.execute_input": "2020-12-11T10:04:57.032314Z",
     "iopub.status.busy": "2020-12-11T10:04:57.031583Z",
     "iopub.status.idle": "2020-12-11T10:04:57.049335Z",
     "shell.execute_reply": "2020-12-11T10:04:57.048618Z"
    },
    "papermill": {
     "duration": 0.058418,
     "end_time": "2020-12-11T10:04:57.049491",
     "exception": false,
     "start_time": "2020-12-11T10:04:56.991073",
     "status": "completed"
    },
    "tags": []
   },
   "outputs": [
    {
     "data": {
      "text/plain": [
       "((60000, 28, 28), (60000,))"
      ]
     },
     "execution_count": 5,
     "metadata": {},
     "output_type": "execute_result"
    }
   ],
   "source": [
    "train_images.shape, train_labels.shape"
   ]
  },
  {
   "cell_type": "code",
   "execution_count": 6,
   "metadata": {
    "execution": {
     "iopub.execute_input": "2020-12-11T10:04:57.124453Z",
     "iopub.status.busy": "2020-12-11T10:04:57.123743Z",
     "iopub.status.idle": "2020-12-11T10:04:57.556142Z",
     "shell.execute_reply": "2020-12-11T10:04:57.554976Z"
    },
    "papermill": {
     "duration": 0.473279,
     "end_time": "2020-12-11T10:04:57.556305",
     "exception": false,
     "start_time": "2020-12-11T10:04:57.083026",
     "status": "completed"
    },
    "tags": []
   },
   "outputs": [],
   "source": [
    "test_images = mnist.test_images()\n",
    "test_labels = mnist.test_labels()"
   ]
  },
  {
   "cell_type": "code",
   "execution_count": 7,
   "metadata": {
    "execution": {
     "iopub.execute_input": "2020-12-11T10:04:57.630211Z",
     "iopub.status.busy": "2020-12-11T10:04:57.625403Z",
     "iopub.status.idle": "2020-12-11T10:04:57.641273Z",
     "shell.execute_reply": "2020-12-11T10:04:57.640604Z"
    },
    "papermill": {
     "duration": 0.052531,
     "end_time": "2020-12-11T10:04:57.641455",
     "exception": false,
     "start_time": "2020-12-11T10:04:57.588924",
     "status": "completed"
    },
    "tags": []
   },
   "outputs": [
    {
     "data": {
      "text/plain": [
       "((10000, 28, 28), (10000,))"
      ]
     },
     "execution_count": 7,
     "metadata": {},
     "output_type": "execute_result"
    }
   ],
   "source": [
    "test_images.shape, test_labels.shape"
   ]
  },
  {
   "cell_type": "code",
   "execution_count": 8,
   "metadata": {
    "execution": {
     "iopub.execute_input": "2020-12-11T10:04:57.723639Z",
     "iopub.status.busy": "2020-12-11T10:04:57.722891Z",
     "iopub.status.idle": "2020-12-11T10:04:57.906563Z",
     "shell.execute_reply": "2020-12-11T10:04:57.907126Z"
    },
    "papermill": {
     "duration": 0.230974,
     "end_time": "2020-12-11T10:04:57.907304",
     "exception": false,
     "start_time": "2020-12-11T10:04:57.676330",
     "status": "completed"
    },
    "tags": []
   },
   "outputs": [
    {
     "name": "stdout",
     "output_type": "stream",
     "text": [
      "2\n"
     ]
    },
    {
     "data": {
      "text/plain": [
       "<matplotlib.image.AxesImage at 0x7f1cc38992e8>"
      ]
     },
     "execution_count": 8,
     "metadata": {},
     "output_type": "execute_result"
    },
    {
     "data": {
      "image/png": "[encoded data removed]",
      "text/plain": [
       "<Figure size 432x288 with 1 Axes>"
      ]
     },
     "metadata": {
      "needs_background": "light"
     },
     "output_type": "display_data"
    }
   ],
   "source": [
    "image_index = 7776 # You may select anything up to 60,000\n",
    "print(train_labels[image_index]) \n",
    "plt.imshow(train_images[image_index], cmap='Greys')"
   ]
  },
  {
   "cell_type": "markdown",
   "metadata": {
    "papermill": {
     "duration": 0.034828,
     "end_time": "2020-12-11T10:04:57.976117",
     "exception": false,
     "start_time": "2020-12-11T10:04:57.941289",
     "status": "completed"
    },
    "tags": []
   },
   "source": [
    "## Filter data to get 3 and 8 out"
   ]
  },
  {
   "cell_type": "code",
   "execution_count": 9,
   "metadata": {
    "execution": {
     "iopub.execute_input": "2020-12-11T10:04:58.052809Z",
     "iopub.status.busy": "2020-12-11T10:04:58.052096Z",
     "iopub.status.idle": "2020-12-11T10:04:58.070938Z",
     "shell.execute_reply": "2020-12-11T10:04:58.071473Z"
    },
    "papermill": {
     "duration": 0.060361,
     "end_time": "2020-12-11T10:04:58.071650",
     "exception": false,
     "start_time": "2020-12-11T10:04:58.011289",
     "status": "completed"
    },
    "tags": []
   },
   "outputs": [],
   "source": [
    "train_filter = np.where((train_labels == 3 ) | (train_labels == 8))\n",
    "test_filter = np.where((test_labels == 3) | (test_labels == 8))\n",
    "X_train, y_train = train_images[train_filter], train_labels[train_filter]\n",
    "X_test, y_test = test_images[test_filter], test_labels[test_filter]"
   ]
  },
  {
   "cell_type": "markdown",
   "metadata": {
    "papermill": {
     "duration": 0.036336,
     "end_time": "2020-12-11T10:04:58.153263",
     "exception": false,
     "start_time": "2020-12-11T10:04:58.116927",
     "status": "completed"
    },
    "tags": []
   },
   "source": [
    "We normalize the pixel values in the 0 to 1 range"
   ]
  },
  {
   "cell_type": "code",
   "execution_count": 10,
   "metadata": {
    "execution": {
     "iopub.execute_input": "2020-12-11T10:04:58.228892Z",
     "iopub.status.busy": "2020-12-11T10:04:58.228165Z",
     "iopub.status.idle": "2020-12-11T10:04:58.296432Z",
     "shell.execute_reply": "2020-12-11T10:04:58.295839Z"
    },
    "papermill": {
     "duration": 0.108331,
     "end_time": "2020-12-11T10:04:58.296589",
     "exception": false,
     "start_time": "2020-12-11T10:04:58.188258",
     "status": "completed"
    },
    "tags": []
   },
   "outputs": [],
   "source": [
    "X_train = X_train/255.\n",
    "X_test = X_test/255."
   ]
  },
  {
   "cell_type": "markdown",
   "metadata": {
    "papermill": {
     "duration": 0.036453,
     "end_time": "2020-12-11T10:04:58.369900",
     "exception": false,
     "start_time": "2020-12-11T10:04:58.333447",
     "status": "completed"
    },
    "tags": []
   },
   "source": [
    "Setup the labels as 1 (when the digit is 3) and 0 (when the digit is 8)"
   ]
  },
  {
   "cell_type": "code",
   "execution_count": 11,
   "metadata": {
    "execution": {
     "iopub.execute_input": "2020-12-11T10:04:58.448649Z",
     "iopub.status.busy": "2020-12-11T10:04:58.447757Z",
     "iopub.status.idle": "2020-12-11T10:04:58.461963Z",
     "shell.execute_reply": "2020-12-11T10:04:58.461326Z"
    },
    "papermill": {
     "duration": 0.055339,
     "end_time": "2020-12-11T10:04:58.462137",
     "exception": false,
     "start_time": "2020-12-11T10:04:58.406798",
     "status": "completed"
    },
    "tags": []
   },
   "outputs": [],
   "source": [
    "y_train = 1*(y_train==3)\n",
    "y_test = 1*(y_test==3)"
   ]
  },
  {
   "cell_type": "code",
   "execution_count": 12,
   "metadata": {
    "execution": {
     "iopub.execute_input": "2020-12-11T10:04:58.547587Z",
     "iopub.status.busy": "2020-12-11T10:04:58.546852Z",
     "iopub.status.idle": "2020-12-11T10:04:58.567986Z",
     "shell.execute_reply": "2020-12-11T10:04:58.568508Z"
    },
    "papermill": {
     "duration": 0.07014,
     "end_time": "2020-12-11T10:04:58.568696",
     "exception": false,
     "start_time": "2020-12-11T10:04:58.498556",
     "status": "completed"
    },
    "tags": []
   },
   "outputs": [
    {
     "data": {
      "text/plain": [
       "((11982, 28, 28), (1984, 28, 28))"
      ]
     },
     "execution_count": 12,
     "metadata": {},
     "output_type": "execute_result"
    }
   ],
   "source": [
    "X_train.shape, X_test.shape"
   ]
  },
  {
   "cell_type": "markdown",
   "metadata": {
    "papermill": {
     "duration": 0.037368,
     "end_time": "2020-12-11T10:04:58.643003",
     "exception": false,
     "start_time": "2020-12-11T10:04:58.605635",
     "status": "completed"
    },
    "tags": []
   },
   "source": [
    "### Reshape the input data to create a linear array"
   ]
  },
  {
   "cell_type": "code",
   "execution_count": 13,
   "metadata": {
    "execution": {
     "iopub.execute_input": "2020-12-11T10:04:58.720648Z",
     "iopub.status.busy": "2020-12-11T10:04:58.719950Z",
     "iopub.status.idle": "2020-12-11T10:04:58.737201Z",
     "shell.execute_reply": "2020-12-11T10:04:58.737806Z"
    },
    "papermill": {
     "duration": 0.059223,
     "end_time": "2020-12-11T10:04:58.737989",
     "exception": false,
     "start_time": "2020-12-11T10:04:58.678766",
     "status": "completed"
    },
    "tags": []
   },
   "outputs": [
    {
     "data": {
      "text/plain": [
       "((11982, 784), (1984, 784))"
      ]
     },
     "execution_count": 13,
     "metadata": {},
     "output_type": "execute_result"
    }
   ],
   "source": [
    "X_train = X_train.reshape(X_train.shape[0], -1)\n",
    "X_test = X_test.reshape(X_test.shape[0], -1)\n",
    "X_train.shape, X_test.shape"
   ]
  },
  {
   "cell_type": "markdown",
   "metadata": {
    "papermill": {
     "duration": 0.034437,
     "end_time": "2020-12-11T10:04:58.806868",
     "exception": false,
     "start_time": "2020-12-11T10:04:58.772431",
     "status": "completed"
    },
    "tags": []
   },
   "source": [
    "### Importing appropriate functions from 'Kudzu'"
   ]
  },
  {
   "cell_type": "code",
   "execution_count": 14,
   "metadata": {
    "execution": {
     "iopub.execute_input": "2020-12-11T10:04:58.884093Z",
     "iopub.status.busy": "2020-12-11T10:04:58.883376Z",
     "iopub.status.idle": "2020-12-11T10:04:58.907297Z",
     "shell.execute_reply": "2020-12-11T10:04:58.906657Z"
    },
    "papermill": {
     "duration": 0.064307,
     "end_time": "2020-12-11T10:04:58.907465",
     "exception": false,
     "start_time": "2020-12-11T10:04:58.843158",
     "status": "completed"
    },
    "tags": []
   },
   "outputs": [],
   "source": [
    "from kudzu.layer import Sigmoid\n",
    "from kudzu.layer import Relu\n",
    "from kudzu.layer import Affine, Sigmoid\n",
    "\n",
    "from kudzu.model import Model\n",
    "from kudzu.train import Learner\n",
    "from kudzu.optim import GD\n",
    "from kudzu.data import Data, Dataloader, Sampler\n",
    "\n",
    "from kudzu.callbacks import AccCallback\n",
    "from kudzu.callbacks import ClfCallback\n",
    "\n",
    "from kudzu.loss import MSE"
   ]
  },
  {
   "cell_type": "markdown",
   "metadata": {
    "papermill": {
     "duration": 0.035374,
     "end_time": "2020-12-11T10:04:58.978681",
     "exception": false,
     "start_time": "2020-12-11T10:04:58.943307",
     "status": "completed"
    },
    "tags": []
   },
   "source": [
    "### Let us create a `Config` class, to store important parameters. \n",
    "This class essentially plays the role of a dictionary."
   ]
  },
  {
   "cell_type": "code",
   "execution_count": 15,
   "metadata": {
    "execution": {
     "iopub.execute_input": "2020-12-11T10:04:59.055542Z",
     "iopub.status.busy": "2020-12-11T10:04:59.054855Z",
     "iopub.status.idle": "2020-12-11T10:04:59.070555Z",
     "shell.execute_reply": "2020-12-11T10:04:59.069970Z"
    },
    "papermill": {
     "duration": 0.055638,
     "end_time": "2020-12-11T10:04:59.070714",
     "exception": false,
     "start_time": "2020-12-11T10:04:59.015076",
     "status": "completed"
    },
    "tags": []
   },
   "outputs": [],
   "source": [
    "class Config:\n",
    "    pass\n",
    "config = Config()\n",
    "config.lr = 0.001\n",
    "config.num_epochs = 251\n",
    "config.bs = 50"
   ]
  },
  {
   "cell_type": "markdown",
   "metadata": {
    "papermill": {
     "duration": 0.035479,
     "end_time": "2020-12-11T10:04:59.141645",
     "exception": false,
     "start_time": "2020-12-11T10:04:59.106166",
     "status": "completed"
    },
    "tags": []
   },
   "source": [
    "### Initializing data to the variables"
   ]
  },
  {
   "cell_type": "code",
   "execution_count": 16,
   "metadata": {
    "execution": {
     "iopub.execute_input": "2020-12-11T10:04:59.836565Z",
     "iopub.status.busy": "2020-12-11T10:04:59.835893Z",
     "iopub.status.idle": "2020-12-11T10:04:59.857605Z",
     "shell.execute_reply": "2020-12-11T10:04:59.856898Z"
    },
    "papermill": {
     "duration": 0.064046,
     "end_time": "2020-12-11T10:04:59.857766",
     "exception": false,
     "start_time": "2020-12-11T10:04:59.793720",
     "status": "completed"
    },
    "tags": []
   },
   "outputs": [],
   "source": [
    "data = Data(X_train, y_train.reshape(-1,1))\n",
    "sampler = Sampler(data, config.bs, shuffle=True)\n",
    "\n",
    "dl = Dataloader(data, sampler)\n",
    "\n",
    "opt = GD(config.lr)\n",
    "loss = MSE()"
   ]
  },
  {
   "cell_type": "code",
   "execution_count": 17,
   "metadata": {
    "execution": {
     "iopub.execute_input": "2020-12-11T10:04:59.935094Z",
     "iopub.status.busy": "2020-12-11T10:04:59.934086Z",
     "iopub.status.idle": "2020-12-11T10:04:59.951709Z",
     "shell.execute_reply": "2020-12-11T10:04:59.951082Z"
    },
    "papermill": {
     "duration": 0.059239,
     "end_time": "2020-12-11T10:04:59.951908",
     "exception": false,
     "start_time": "2020-12-11T10:04:59.892669",
     "status": "completed"
    },
    "tags": []
   },
   "outputs": [],
   "source": [
    "training_xdata = X_train\n",
    "testing_xdata = X_test\n",
    "training_ydata = y_train.reshape(-1,1)\n",
    "testing_ydata = y_test.reshape(-1,1)"
   ]
  },
  {
   "cell_type": "markdown",
   "metadata": {
    "papermill": {
     "duration": 0.034815,
     "end_time": "2020-12-11T10:05:00.022129",
     "exception": false,
     "start_time": "2020-12-11T10:04:59.987314",
     "status": "completed"
    },
    "tags": []
   },
   "source": [
    "### Running Models with the Training data\n",
    "Details about the network layers:\n",
    "- A first affine layer has 784 inputs and does 100 affine transforms. These are followed by a Relu\n",
    "- A second affine layer has 100 inputs from the 100 activations of the past layer, and does 100 affine transforms. These are followed by a Relu\n",
    "- A third affine layer has 100 activations and does 2 affine transformations to create an embedding for visualization. There is no non-linearity here.\n",
    "- A final \"logistic regression\" which has an affine transform from 2 inputs to 1 output, which is squeezed through a sigmoid.\n",
    "\n",
    "Help taken from Anshuman's Notebook."
   ]
  },
  {
   "cell_type": "code",
   "execution_count": 18,
   "metadata": {
    "execution": {
     "iopub.execute_input": "2020-12-11T10:05:00.099529Z",
     "iopub.status.busy": "2020-12-11T10:05:00.098834Z",
     "iopub.status.idle": "2020-12-11T10:05:00.120745Z",
     "shell.execute_reply": "2020-12-11T10:05:00.119934Z"
    },
    "papermill": {
     "duration": 0.062759,
     "end_time": "2020-12-11T10:05:00.120906",
     "exception": false,
     "start_time": "2020-12-11T10:05:00.058147",
     "status": "completed"
    },
    "tags": []
   },
   "outputs": [],
   "source": [
    "# layers for the Neural Network\n",
    "layers = [Affine(\"first\", 784, 100), Relu(\"first\"), Affine(\"second\", 100, 100), Relu(\"second\"), Affine(\"third\", 100, 2), Affine(\"final\", 2, 1), Sigmoid(\"final\")]\n",
    "model_nn = Model(layers)\n",
    "\n",
    "# layers for the Logistic Regression\n",
    "layers_lr = [Affine(\"logits\", 784, 1), Sigmoid(\"sigmoid\")]\n",
    "model_lr = Model(layers_lr)"
   ]
  },
  {
   "cell_type": "code",
   "execution_count": 19,
   "metadata": {
    "execution": {
     "iopub.execute_input": "2020-12-11T10:05:00.195633Z",
     "iopub.status.busy": "2020-12-11T10:05:00.194939Z",
     "iopub.status.idle": "2020-12-11T10:05:00.210587Z",
     "shell.execute_reply": "2020-12-11T10:05:00.211252Z"
    },
    "papermill": {
     "duration": 0.055962,
     "end_time": "2020-12-11T10:05:00.211428",
     "exception": false,
     "start_time": "2020-12-11T10:05:00.155466",
     "status": "completed"
    },
    "tags": []
   },
   "outputs": [],
   "source": [
    "# suffix _nn stands for Neural Network.\n",
    "learner_nn = Learner(loss, model_nn, opt, config.num_epochs)\n",
    "acc_nn = ClfCallback(learner_nn, config.bs, training_xdata , testing_xdata, training_ydata, testing_ydata)\n",
    "learner_nn.set_callbacks([acc_nn])"
   ]
  },
  {
   "cell_type": "code",
   "execution_count": 20,
   "metadata": {
    "execution": {
     "iopub.execute_input": "2020-12-11T10:05:00.289613Z",
     "iopub.status.busy": "2020-12-11T10:05:00.288902Z",
     "iopub.status.idle": "2020-12-11T10:07:28.233300Z",
     "shell.execute_reply": "2020-12-11T10:07:28.234093Z"
    },
    "papermill": {
     "duration": 147.987565,
     "end_time": "2020-12-11T10:07:28.234265",
     "exception": false,
     "start_time": "2020-12-11T10:05:00.246700",
     "status": "completed"
    },
    "tags": []
   },
   "outputs": [
    {
     "name": "stdout",
     "output_type": "stream",
     "text": [
      "====== Neural Network ======\n"
     ]
    },
    {
     "name": "stdout",
     "output_type": "stream",
     "text": [
      "Epoch 0, Loss 0.2522\n",
      "Training Accuracy: 0.6363, Testing Accuracy: 0.6215\n",
      "\n"
     ]
    },
    {
     "name": "stdout",
     "output_type": "stream",
     "text": [
      "Epoch 10, Loss 0.0842\n",
      "Training Accuracy: 0.9156, Testing Accuracy: 0.9229\n",
      "\n"
     ]
    },
    {
     "name": "stdout",
     "output_type": "stream",
     "text": [
      "Epoch 20, Loss 0.0534\n",
      "Training Accuracy: 0.9419, Testing Accuracy: 0.9481\n",
      "\n"
     ]
    },
    {
     "name": "stdout",
     "output_type": "stream",
     "text": [
      "Epoch 30, Loss 0.0424\n",
      "Training Accuracy: 0.9523, Testing Accuracy: 0.9587\n",
      "\n"
     ]
    },
    {
     "name": "stdout",
     "output_type": "stream",
     "text": [
      "Epoch 40, Loss 0.0369\n",
      "Training Accuracy: 0.9581, Testing Accuracy: 0.9642\n",
      "\n"
     ]
    },
    {
     "name": "stdout",
     "output_type": "stream",
     "text": [
      "Epoch 50, Loss 0.0335\n",
      "Training Accuracy: 0.9615, Testing Accuracy: 0.9672\n",
      "\n"
     ]
    },
    {
     "name": "stdout",
     "output_type": "stream",
     "text": [
      "Epoch 60, Loss 0.0312\n",
      "Training Accuracy: 0.9629, Testing Accuracy: 0.9688\n",
      "\n"
     ]
    },
    {
     "name": "stdout",
     "output_type": "stream",
     "text": [
      "Epoch 70, Loss 0.0294\n",
      "Training Accuracy: 0.9652, Testing Accuracy: 0.9693\n",
      "\n"
     ]
    },
    {
     "name": "stdout",
     "output_type": "stream",
     "text": [
      "Epoch 80, Loss 0.028\n",
      "Training Accuracy: 0.9667, Testing Accuracy: 0.9703\n",
      "\n"
     ]
    },
    {
     "name": "stdout",
     "output_type": "stream",
     "text": [
      "Epoch 90, Loss 0.0268\n",
      "Training Accuracy: 0.9680, Testing Accuracy: 0.9708\n",
      "\n"
     ]
    },
    {
     "name": "stdout",
     "output_type": "stream",
     "text": [
      "Epoch 100, Loss 0.0257\n",
      "Training Accuracy: 0.9696, Testing Accuracy: 0.9718\n",
      "\n"
     ]
    },
    {
     "name": "stdout",
     "output_type": "stream",
     "text": [
      "Epoch 110, Loss 0.0249\n",
      "Training Accuracy: 0.9709, Testing Accuracy: 0.9718\n",
      "\n"
     ]
    },
    {
     "name": "stdout",
     "output_type": "stream",
     "text": [
      "Epoch 120, Loss 0.0241\n",
      "Training Accuracy: 0.9719, Testing Accuracy: 0.9723\n",
      "\n"
     ]
    },
    {
     "name": "stdout",
     "output_type": "stream",
     "text": [
      "Epoch 130, Loss 0.0234\n",
      "Training Accuracy: 0.9725, Testing Accuracy: 0.9743\n",
      "\n"
     ]
    },
    {
     "name": "stdout",
     "output_type": "stream",
     "text": [
      "Epoch 140, Loss 0.0227\n",
      "Training Accuracy: 0.9735, Testing Accuracy: 0.9753\n",
      "\n"
     ]
    },
    {
     "name": "stdout",
     "output_type": "stream",
     "text": [
      "Epoch 150, Loss 0.0221\n",
      "Training Accuracy: 0.9742, Testing Accuracy: 0.9758\n",
      "\n"
     ]
    },
    {
     "name": "stdout",
     "output_type": "stream",
     "text": [
      "Epoch 160, Loss 0.0216\n",
      "Training Accuracy: 0.9752, Testing Accuracy: 0.9753\n",
      "\n"
     ]
    },
    {
     "name": "stdout",
     "output_type": "stream",
     "text": [
      "Epoch 170, Loss 0.021\n",
      "Training Accuracy: 0.9760, Testing Accuracy: 0.9753\n",
      "\n"
     ]
    },
    {
     "name": "stdout",
     "output_type": "stream",
     "text": [
      "Epoch 180, Loss 0.0205\n",
      "Training Accuracy: 0.9763, Testing Accuracy: 0.9758\n",
      "\n"
     ]
    },
    {
     "name": "stdout",
     "output_type": "stream",
     "text": [
      "Epoch 190, Loss 0.0201\n",
      "Training Accuracy: 0.9765, Testing Accuracy: 0.9768\n",
      "\n"
     ]
    },
    {
     "name": "stdout",
     "output_type": "stream",
     "text": [
      "Epoch 200, Loss 0.0196\n",
      "Training Accuracy: 0.9773, Testing Accuracy: 0.9768\n",
      "\n"
     ]
    },
    {
     "name": "stdout",
     "output_type": "stream",
     "text": [
      "Epoch 210, Loss 0.0192\n",
      "Training Accuracy: 0.9780, Testing Accuracy: 0.9768\n",
      "\n"
     ]
    },
    {
     "name": "stdout",
     "output_type": "stream",
     "text": [
      "Epoch 220, Loss 0.0188\n",
      "Training Accuracy: 0.9781, Testing Accuracy: 0.9763\n",
      "\n"
     ]
    },
    {
     "name": "stdout",
     "output_type": "stream",
     "text": [
      "Epoch 230, Loss 0.0184\n",
      "Training Accuracy: 0.9789, Testing Accuracy: 0.9768\n",
      "\n"
     ]
    },
    {
     "name": "stdout",
     "output_type": "stream",
     "text": [
      "Epoch 240, Loss 0.018\n",
      "Training Accuracy: 0.9791, Testing Accuracy: 0.9763\n",
      "\n"
     ]
    },
    {
     "name": "stdout",
     "output_type": "stream",
     "text": [
      "Epoch 250, Loss 0.0176\n",
      "Training Accuracy: 0.9796, Testing Accuracy: 0.9773\n",
      "\n"
     ]
    },
    {
     "data": {
      "text/plain": [
       "0.005210608167943104"
      ]
     },
     "execution_count": 20,
     "metadata": {},
     "output_type": "execute_result"
    }
   ],
   "source": [
    "print(\"====== Neural Network ======\")\n",
    "learner_nn.train_loop(dl)"
   ]
  },
  {
   "cell_type": "markdown",
   "metadata": {
    "papermill": {
     "duration": 0.046704,
     "end_time": "2020-12-11T10:07:28.327573",
     "exception": false,
     "start_time": "2020-12-11T10:07:28.280869",
     "status": "completed"
    },
    "tags": []
   },
   "source": [
    "### Logistic Regression based Implementation."
   ]
  },
  {
   "cell_type": "code",
   "execution_count": 21,
   "metadata": {
    "execution": {
     "iopub.execute_input": "2020-12-11T10:07:28.439909Z",
     "iopub.status.busy": "2020-12-11T10:07:28.439199Z",
     "iopub.status.idle": "2020-12-11T10:07:28.453531Z",
     "shell.execute_reply": "2020-12-11T10:07:28.454088Z"
    },
    "papermill": {
     "duration": 0.083142,
     "end_time": "2020-12-11T10:07:28.454289",
     "exception": false,
     "start_time": "2020-12-11T10:07:28.371147",
     "status": "completed"
    },
    "tags": []
   },
   "outputs": [],
   "source": [
    "learner_lr = Learner(loss, model_lr, opt, config.num_epochs)\n",
    "acc_lr = ClfCallback(learner_lr, config.bs, training_xdata , testing_xdata, training_ydata, testing_ydata)\n",
    "learner_lr.set_callbacks([acc_lr])"
   ]
  },
  {
   "cell_type": "code",
   "execution_count": 22,
   "metadata": {
    "execution": {
     "iopub.execute_input": "2020-12-11T10:07:28.545313Z",
     "iopub.status.busy": "2020-12-11T10:07:28.544530Z",
     "iopub.status.idle": "2020-12-11T10:07:49.823738Z",
     "shell.execute_reply": "2020-12-11T10:07:49.822695Z"
    },
    "papermill": {
     "duration": 21.326686,
     "end_time": "2020-12-11T10:07:49.823901",
     "exception": false,
     "start_time": "2020-12-11T10:07:28.497215",
     "status": "completed"
    },
    "tags": []
   },
   "outputs": [
    {
     "name": "stdout",
     "output_type": "stream",
     "text": [
      "====== Logistic Regression ======\n",
      "Epoch 0, Loss 0.2455\n",
      "Training Accuracy: 0.6653, Testing Accuracy: 0.6724\n",
      "\n"
     ]
    },
    {
     "name": "stdout",
     "output_type": "stream",
     "text": [
      "Epoch 10, Loss 0.104\n",
      "Training Accuracy: 0.9074, Testing Accuracy: 0.9209\n",
      "\n"
     ]
    },
    {
     "name": "stdout",
     "output_type": "stream",
     "text": [
      "Epoch 20, Loss 0.0794\n",
      "Training Accuracy: 0.9254, Testing Accuracy: 0.9415\n",
      "\n"
     ]
    },
    {
     "name": "stdout",
     "output_type": "stream",
     "text": [
      "Epoch 30, Loss 0.0682\n",
      "Training Accuracy: 0.9354, Testing Accuracy: 0.9476\n",
      "\n"
     ]
    },
    {
     "name": "stdout",
     "output_type": "stream",
     "text": [
      "Epoch 40, Loss 0.0614\n",
      "Training Accuracy: 0.9414, Testing Accuracy: 0.9511\n",
      "\n"
     ]
    },
    {
     "name": "stdout",
     "output_type": "stream",
     "text": [
      "Epoch 50, Loss 0.0569\n",
      "Training Accuracy: 0.9458, Testing Accuracy: 0.9556\n",
      "\n"
     ]
    },
    {
     "name": "stdout",
     "output_type": "stream",
     "text": [
      "Epoch 60, Loss 0.0536\n",
      "Training Accuracy: 0.9477, Testing Accuracy: 0.9572\n",
      "\n"
     ]
    },
    {
     "name": "stdout",
     "output_type": "stream",
     "text": [
      "Epoch 70, Loss 0.051\n",
      "Training Accuracy: 0.9502, Testing Accuracy: 0.9587\n",
      "\n"
     ]
    },
    {
     "name": "stdout",
     "output_type": "stream",
     "text": [
      "Epoch 80, Loss 0.0489\n",
      "Training Accuracy: 0.9512, Testing Accuracy: 0.9607\n",
      "\n"
     ]
    },
    {
     "name": "stdout",
     "output_type": "stream",
     "text": [
      "Epoch 90, Loss 0.0472\n",
      "Training Accuracy: 0.9529, Testing Accuracy: 0.9607\n",
      "\n"
     ]
    },
    {
     "name": "stdout",
     "output_type": "stream",
     "text": [
      "Epoch 100, Loss 0.0458\n",
      "Training Accuracy: 0.9538, Testing Accuracy: 0.9612\n",
      "\n"
     ]
    },
    {
     "name": "stdout",
     "output_type": "stream",
     "text": [
      "Epoch 110, Loss 0.0446\n",
      "Training Accuracy: 0.9553, Testing Accuracy: 0.9652\n",
      "\n"
     ]
    },
    {
     "name": "stdout",
     "output_type": "stream",
     "text": [
      "Epoch 120, Loss 0.0435\n",
      "Training Accuracy: 0.9559, Testing Accuracy: 0.9662\n",
      "\n"
     ]
    },
    {
     "name": "stdout",
     "output_type": "stream",
     "text": [
      "Epoch 130, Loss 0.0426\n",
      "Training Accuracy: 0.9564, Testing Accuracy: 0.9657\n",
      "\n"
     ]
    },
    {
     "name": "stdout",
     "output_type": "stream",
     "text": [
      "Epoch 140, Loss 0.0417\n",
      "Training Accuracy: 0.9571, Testing Accuracy: 0.9657\n",
      "\n"
     ]
    },
    {
     "name": "stdout",
     "output_type": "stream",
     "text": [
      "Epoch 150, Loss 0.041\n",
      "Training Accuracy: 0.9579, Testing Accuracy: 0.9667\n",
      "\n"
     ]
    },
    {
     "name": "stdout",
     "output_type": "stream",
     "text": [
      "Epoch 160, Loss 0.0403\n",
      "Training Accuracy: 0.9584, Testing Accuracy: 0.9667\n",
      "\n"
     ]
    },
    {
     "name": "stdout",
     "output_type": "stream",
     "text": [
      "Epoch 170, Loss 0.0397\n",
      "Training Accuracy: 0.9588, Testing Accuracy: 0.9672\n",
      "\n"
     ]
    },
    {
     "name": "stdout",
     "output_type": "stream",
     "text": [
      "Epoch 180, Loss 0.0391\n",
      "Training Accuracy: 0.9593, Testing Accuracy: 0.9677\n",
      "\n"
     ]
    },
    {
     "name": "stdout",
     "output_type": "stream",
     "text": [
      "Epoch 190, Loss 0.0386\n",
      "Training Accuracy: 0.9594, Testing Accuracy: 0.9682\n",
      "\n"
     ]
    },
    {
     "name": "stdout",
     "output_type": "stream",
     "text": [
      "Epoch 200, Loss 0.0381\n",
      "Training Accuracy: 0.9595, Testing Accuracy: 0.9688\n",
      "\n"
     ]
    },
    {
     "name": "stdout",
     "output_type": "stream",
     "text": [
      "Epoch 210, Loss 0.0377\n",
      "Training Accuracy: 0.9603, Testing Accuracy: 0.9688\n",
      "\n"
     ]
    },
    {
     "name": "stdout",
     "output_type": "stream",
     "text": [
      "Epoch 220, Loss 0.0373\n",
      "Training Accuracy: 0.9608, Testing Accuracy: 0.9688\n",
      "\n"
     ]
    },
    {
     "name": "stdout",
     "output_type": "stream",
     "text": [
      "Epoch 230, Loss 0.0369\n",
      "Training Accuracy: 0.9609, Testing Accuracy: 0.9693\n",
      "\n"
     ]
    },
    {
     "name": "stdout",
     "output_type": "stream",
     "text": [
      "Epoch 240, Loss 0.0366\n",
      "Training Accuracy: 0.9614, Testing Accuracy: 0.9688\n",
      "\n"
     ]
    },
    {
     "name": "stdout",
     "output_type": "stream",
     "text": [
      "Epoch 250, Loss 0.0362\n",
      "Training Accuracy: 0.9617, Testing Accuracy: 0.9688\n",
      "\n"
     ]
    },
    {
     "data": {
      "text/plain": [
       "0.07322626099787719"
      ]
     },
     "execution_count": 22,
     "metadata": {},
     "output_type": "execute_result"
    }
   ],
   "source": [
    "print(\"====== Logistic Regression ======\")\n",
    "learner_lr.train_loop(dl)"
   ]
  },
  {
   "cell_type": "markdown",
   "metadata": {
    "papermill": {
     "duration": 0.056568,
     "end_time": "2020-12-11T10:07:49.934738",
     "exception": false,
     "start_time": "2020-12-11T10:07:49.878170",
     "status": "completed"
    },
    "tags": []
   },
   "source": [
    "### Comparing results of NN and LR"
   ]
  },
  {
   "cell_type": "code",
   "execution_count": 23,
   "metadata": {
    "execution": {
     "iopub.execute_input": "2020-12-11T10:07:50.055783Z",
     "iopub.status.busy": "2020-12-11T10:07:50.055083Z",
     "iopub.status.idle": "2020-12-11T10:07:50.363486Z",
     "shell.execute_reply": "2020-12-11T10:07:50.362870Z"
    },
    "papermill": {
     "duration": 0.373992,
     "end_time": "2020-12-11T10:07:50.363654",
     "exception": false,
     "start_time": "2020-12-11T10:07:49.989662",
     "status": "completed"
    },
    "tags": []
   },
   "outputs": [
    {
     "data": {
      "text/plain": [
       "<matplotlib.legend.Legend at 0x7f1cbc0dec50>"
      ]
     },
     "execution_count": 23,
     "metadata": {},
     "output_type": "execute_result"
    },
    {
     "data": {
      "image/png": "[encoded data removed]",
      "text/plain": [
       "<Figure size 1080x720 with 1 Axes>"
      ]
     },
     "metadata": {
      "needs_background": "light"
     },
     "output_type": "display_data"
    }
   ],
   "source": [
    "plt.figure(figsize=(15,10))\n",
    "\n",
    "# Neural Network plots\n",
    "plt.plot(acc_nn.accuracies, 'r-', label = \"Training Accuracies - NN\")\n",
    "plt.plot(acc_nn.test_accuracies, 'g-', label = \"Testing Accuracies - NN\")\n",
    "\n",
    "# Logistic Regression plots\n",
    "plt.plot(acc_lr.accuracies, 'k-', label = \"Training Accuracies - LR\")\n",
    "plt.plot(acc_lr.test_accuracies, 'b-', label = \"Testing Accuracies - LR\")\n",
    "\n",
    "plt.ylim(0.8, 1)\n",
    "\n",
    "plt.legend()\n",
    "\n"
   ]
  },
  {
   "cell_type": "markdown",
   "metadata": {
    "papermill": {
     "duration": 0.058354,
     "end_time": "2020-12-11T10:07:50.476882",
     "exception": false,
     "start_time": "2020-12-11T10:07:50.418528",
     "status": "completed"
    },
    "tags": []
   },
   "source": [
    "### From the plot, we can observe the following:\n",
    "- Neural Network achieves higher accuracy than the Logistic Regression model.\n",
    "- This apparently, is because of overfitting, i.e. NN captures more noise than data.\n",
    "- Testing accuracy of NN drops below the Training accuracy at higher epochs. This explains the over-fitting on training data.\n",
    "- Logistic Regression gives a reliable accuracy, without the above mentioned problem.\n"
   ]
  },
  {
   "cell_type": "markdown",
   "metadata": {
    "papermill": {
     "duration": 0.057538,
     "end_time": "2020-12-11T10:07:50.591829",
     "exception": false,
     "start_time": "2020-12-11T10:07:50.534291",
     "status": "completed"
    },
    "tags": []
   },
   "source": [
    "### Moving till the last but one layer (excluding it).\n",
    "#### Plotting the outputs of this layer of the NN."
   ]
  },
  {
   "cell_type": "code",
   "execution_count": 24,
   "metadata": {
    "execution": {
     "iopub.execute_input": "2020-12-11T10:07:50.710048Z",
     "iopub.status.busy": "2020-12-11T10:07:50.709368Z",
     "iopub.status.idle": "2020-12-11T10:07:50.725078Z",
     "shell.execute_reply": "2020-12-11T10:07:50.724458Z"
    },
    "papermill": {
     "duration": 0.076374,
     "end_time": "2020-12-11T10:07:50.725270",
     "exception": false,
     "start_time": "2020-12-11T10:07:50.648896",
     "status": "completed"
    },
    "tags": []
   },
   "outputs": [],
   "source": [
    "model_new = Model(layers[:-2])"
   ]
  },
  {
   "cell_type": "code",
   "execution_count": 25,
   "metadata": {
    "execution": {
     "iopub.execute_input": "2020-12-11T10:07:50.839872Z",
     "iopub.status.busy": "2020-12-11T10:07:50.839180Z",
     "iopub.status.idle": "2020-12-11T10:07:50.870995Z",
     "shell.execute_reply": "2020-12-11T10:07:50.871673Z"
    },
    "papermill": {
     "duration": 0.091169,
     "end_time": "2020-12-11T10:07:50.871858",
     "exception": false,
     "start_time": "2020-12-11T10:07:50.780689",
     "status": "completed"
    },
    "tags": []
   },
   "outputs": [],
   "source": [
    "plot_testing = model_new(testing_xdata)"
   ]
  },
  {
   "cell_type": "code",
   "execution_count": 26,
   "metadata": {
    "execution": {
     "iopub.execute_input": "2020-12-11T10:07:50.988010Z",
     "iopub.status.busy": "2020-12-11T10:07:50.987231Z",
     "iopub.status.idle": "2020-12-11T10:07:51.240146Z",
     "shell.execute_reply": "2020-12-11T10:07:51.240665Z"
    },
    "papermill": {
     "duration": 0.314955,
     "end_time": "2020-12-11T10:07:51.240838",
     "exception": false,
     "start_time": "2020-12-11T10:07:50.925883",
     "status": "completed"
    },
    "tags": []
   },
   "outputs": [
    {
     "data": {
      "text/plain": [
       "Text(0.5, 1.0, 'Outputs')"
      ]
     },
     "execution_count": 26,
     "metadata": {},
     "output_type": "execute_result"
    },
    {
     "data": {
      "image/png": "[encoded data removed]",
      "text/plain": [
       "<Figure size 576x504 with 1 Axes>"
      ]
     },
     "metadata": {
      "needs_background": "light"
     },
     "output_type": "display_data"
    }
   ],
   "source": [
    "plt.figure(figsize=(8,7))\n",
    "plt.scatter(plot_testing[:,0], plot_testing[:,1], alpha = 0.1, c = y_test.ravel());\n",
    "plt.title('Outputs')"
   ]
  },
  {
   "cell_type": "markdown",
   "metadata": {
    "papermill": {
     "duration": 0.060559,
     "end_time": "2020-12-11T10:07:51.362482",
     "exception": false,
     "start_time": "2020-12-11T10:07:51.301923",
     "status": "completed"
    },
    "tags": []
   },
   "source": [
    "### Plotting probability contours"
   ]
  },
  {
   "cell_type": "code",
   "execution_count": 27,
   "metadata": {
    "execution": {
     "iopub.execute_input": "2020-12-11T10:07:51.497961Z",
     "iopub.status.busy": "2020-12-11T10:07:51.497232Z",
     "iopub.status.idle": "2020-12-11T10:07:51.510046Z",
     "shell.execute_reply": "2020-12-11T10:07:51.510801Z"
    },
    "papermill": {
     "duration": 0.086631,
     "end_time": "2020-12-11T10:07:51.510977",
     "exception": false,
     "start_time": "2020-12-11T10:07:51.424346",
     "status": "completed"
    },
    "tags": []
   },
   "outputs": [],
   "source": [
    "model_prob = Model(layers[-2:]) "
   ]
  },
  {
   "cell_type": "code",
   "execution_count": 28,
   "metadata": {
    "execution": {
     "iopub.execute_input": "2020-12-11T10:07:51.638349Z",
     "iopub.status.busy": "2020-12-11T10:07:51.637603Z",
     "iopub.status.idle": "2020-12-11T10:07:51.659017Z",
     "shell.execute_reply": "2020-12-11T10:07:51.659580Z"
    },
    "papermill": {
     "duration": 0.087581,
     "end_time": "2020-12-11T10:07:51.659759",
     "exception": false,
     "start_time": "2020-12-11T10:07:51.572178",
     "status": "completed"
    },
    "tags": []
   },
   "outputs": [],
   "source": [
    "# Adjust the x and y ranges according to the above generated plot.\n",
    "x_range = np.linspace(-4, 1, 100) \n",
    "y_range = np.linspace(-6, 6, 100) \n",
    "x_grid, y_grid = np.meshgrid(x_range, y_range) # x_grid and y_grig are of size 100 X 100\n",
    "\n",
    "# converting x_grid and y_grid to continuous arrays\n",
    "x_grid_flat = np.ravel(x_grid)\n",
    "y_grid_flat = np.ravel(y_grid)\n",
    "\n",
    "# The last layer of the current model takes two columns as input. Hence transpose of np.vstack() is required.\n",
    "X = np.vstack((x_grid_flat, y_grid_flat)).T\n",
    "\n",
    "# x_grid and y_grid are of size 100 x 100\n",
    "probability_contour = model_prob(X).reshape(100,100) "
   ]
  },
  {
   "cell_type": "code",
   "execution_count": 29,
   "metadata": {
    "execution": {
     "iopub.execute_input": "2020-12-11T10:07:51.817277Z",
     "iopub.status.busy": "2020-12-11T10:07:51.816389Z",
     "iopub.status.idle": "2020-12-11T10:07:52.120774Z",
     "shell.execute_reply": "2020-12-11T10:07:52.119975Z"
    },
    "papermill": {
     "duration": 0.371725,
     "end_time": "2020-12-11T10:07:52.120936",
     "exception": false,
     "start_time": "2020-12-11T10:07:51.749211",
     "status": "completed"
    },
    "tags": []
   },
   "outputs": [
    {
     "data": {
      "image/png": "[encoded data removed]",
      "text/plain": [
       "<Figure size 720x648 with 1 Axes>"
      ]
     },
     "metadata": {
      "needs_background": "light"
     },
     "output_type": "display_data"
    }
   ],
   "source": [
    "plt.figure(figsize=(10,9))\n",
    "plt.scatter(plot_testing[:,0], plot_testing[:,1], alpha = 0.1, c = y_test.ravel())\n",
    "contours = plt.contour(x_grid,y_grid,probability_contour)\n",
    "plt.title('Probability Contours')\n",
    "plt.clabel(contours, inline = True );"
   ]
  }
 ],
 "metadata": {
  "kernelspec": {
   "display_name": "Python 3",
   "language": "python",
   "name": "python3"
  },
  "language_info": {
   "codemirror_mode": {
    "name": "ipython",
    "version": 3
   },
   "file_extension": ".py",
   "mimetype": "text/x-python",
   "name": "python",
   "nbconvert_exporter": "python",
   "pygments_lexer": "ipython3",
   "version": "3.6.12"
  },
  "papermill": {
   "duration": 181.300164,
   "end_time": "2020-12-11T10:07:52.594185",
   "environment_variables": {},
   "exception": null,
   "input_path": "2020-08-11-NeuralNetwork.ipynb",
   "output_path": "2020-08-11-NeuralNetwork.ipynb",
   "parameters": {},
   "start_time": "2020-12-11T10:04:51.294021",
   "version": "2.1.2"
  }
 },
 "nbformat": 4,
 "nbformat_minor": 4
}