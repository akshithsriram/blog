{
 "cells": [
  {
   "cell_type": "markdown",
   "metadata": {
    "papermill": {
     "duration": 0.031762,
     "end_time": "2020-08-24T00:06:04.170070",
     "exception": false,
     "start_time": "2020-08-24T00:06:04.138308",
     "status": "completed"
    },
    "tags": []
   },
   "source": [
    "# \"A Basic Neural Network: Differentiate Hand-Written Digits\"\n",
    "\n",
    "- badges: true\n",
    "- author: Akshith Sriram"
   ]
  },
  {
   "cell_type": "markdown",
   "metadata": {
    "papermill": {
     "duration": 0.024837,
     "end_time": "2020-08-24T00:06:04.220433",
     "exception": false,
     "start_time": "2020-08-24T00:06:04.195596",
     "status": "completed"
    },
    "tags": []
   },
   "source": [
    "### Key Objectives:\n",
    "- Building a neural network that differentiates two hand-written digits 3 and 8.\n",
    "- Comparing the results of this Neural Network (NN) to that of a Logistic Regression (LR) model.\n",
    "\n",
    "### Requirements:\n",
    "- 'Kudzu' : A neural network library that was designed during our course by [Univ.AI](www.univ.ai). \n",
    "- MNIST Database\n",
    "\n",
    "If MNIST is not installed, use the command `!pip install mnist` given below.\n",
    "It can be run both from the command line and Jupyter Notebook."
   ]
  },
  {
   "cell_type": "code",
   "execution_count": 1,
   "metadata": {
    "execution": {
     "iopub.execute_input": "2020-08-24T00:06:04.277713Z",
     "iopub.status.busy": "2020-08-24T00:06:04.277088Z",
     "iopub.status.idle": "2020-08-24T00:06:06.350858Z",
     "shell.execute_reply": "2020-08-24T00:06:06.349538Z"
    },
    "papermill": {
     "duration": 2.105436,
     "end_time": "2020-08-24T00:06:06.351024",
     "exception": false,
     "start_time": "2020-08-24T00:06:04.245588",
     "status": "completed"
    },
    "tags": []
   },
   "outputs": [
    {
     "name": "stdout",
     "output_type": "stream",
     "text": [
      "Collecting mnist\r\n"
     ]
    },
    {
     "name": "stdout",
     "output_type": "stream",
     "text": [
      "  Downloading mnist-0.2.2-py2.py3-none-any.whl (3.5 kB)\r\n"
     ]
    },
    {
     "name": "stdout",
     "output_type": "stream",
     "text": [
      "Requirement already satisfied: numpy in /opt/hostedtoolcache/Python/3.6.11/x64/lib/python3.6/site-packages (from mnist) (1.19.1)\r\n"
     ]
    },
    {
     "name": "stdout",
     "output_type": "stream",
     "text": [
      "Installing collected packages: mnist\r\n"
     ]
    },
    {
     "name": "stdout",
     "output_type": "stream",
     "text": [
      "Successfully installed mnist-0.2.2\r\n"
     ]
    }
   ],
   "source": [
    "!pip install mnist "
   ]
  },
  {
   "cell_type": "markdown",
   "metadata": {
    "papermill": {
     "duration": 0.026194,
     "end_time": "2020-08-24T00:06:06.405293",
     "exception": false,
     "start_time": "2020-08-24T00:06:06.379099",
     "status": "completed"
    },
    "tags": []
   },
   "source": [
    "#### Importing necessary libraries"
   ]
  },
  {
   "cell_type": "code",
   "execution_count": 2,
   "metadata": {
    "execution": {
     "iopub.execute_input": "2020-08-24T00:06:06.467747Z",
     "iopub.status.busy": "2020-08-24T00:06:06.465314Z",
     "iopub.status.idle": "2020-08-24T00:06:07.019220Z",
     "shell.execute_reply": "2020-08-24T00:06:07.018189Z"
    },
    "papermill": {
     "duration": 0.587829,
     "end_time": "2020-08-24T00:06:07.019371",
     "exception": false,
     "start_time": "2020-08-24T00:06:06.431542",
     "status": "completed"
    },
    "tags": []
   },
   "outputs": [],
   "source": [
    "%load_ext autoreload\n",
    "%autoreload 2\n",
    "\n",
    "%matplotlib inline\n",
    "import matplotlib.pyplot as plt\n",
    "\n",
    "import numpy as np\n",
    "import pandas as pd"
   ]
  },
  {
   "cell_type": "markdown",
   "metadata": {
    "papermill": {
     "duration": 0.025758,
     "end_time": "2020-08-24T00:06:07.070881",
     "exception": false,
     "start_time": "2020-08-24T00:06:07.045123",
     "status": "completed"
    },
    "tags": []
   },
   "source": [
    "### Preparing the Data"
   ]
  },
  {
   "cell_type": "code",
   "execution_count": 3,
   "metadata": {
    "execution": {
     "iopub.execute_input": "2020-08-24T00:06:07.129704Z",
     "iopub.status.busy": "2020-08-24T00:06:07.125991Z",
     "iopub.status.idle": "2020-08-24T00:06:07.137488Z",
     "shell.execute_reply": "2020-08-24T00:06:07.137026Z"
    },
    "papermill": {
     "duration": 0.04109,
     "end_time": "2020-08-24T00:06:07.137600",
     "exception": false,
     "start_time": "2020-08-24T00:06:07.096510",
     "status": "completed"
    },
    "tags": []
   },
   "outputs": [],
   "source": [
    "import mnist"
   ]
  },
  {
   "cell_type": "code",
   "execution_count": 4,
   "metadata": {
    "execution": {
     "iopub.execute_input": "2020-08-24T00:06:07.194251Z",
     "iopub.status.busy": "2020-08-24T00:06:07.193720Z",
     "iopub.status.idle": "2020-08-24T00:06:07.907467Z",
     "shell.execute_reply": "2020-08-24T00:06:07.905988Z"
    },
    "papermill": {
     "duration": 0.743411,
     "end_time": "2020-08-24T00:06:07.907712",
     "exception": false,
     "start_time": "2020-08-24T00:06:07.164301",
     "status": "completed"
    },
    "tags": []
   },
   "outputs": [],
   "source": [
    "train_images = mnist.train_images()\n",
    "train_labels = mnist.train_labels()"
   ]
  },
  {
   "cell_type": "code",
   "execution_count": 5,
   "metadata": {
    "execution": {
     "iopub.execute_input": "2020-08-24T00:06:07.971301Z",
     "iopub.status.busy": "2020-08-24T00:06:07.963833Z",
     "iopub.status.idle": "2020-08-24T00:06:07.980463Z",
     "shell.execute_reply": "2020-08-24T00:06:07.980003Z"
    },
    "papermill": {
     "duration": 0.046542,
     "end_time": "2020-08-24T00:06:07.980586",
     "exception": false,
     "start_time": "2020-08-24T00:06:07.934044",
     "status": "completed"
    },
    "tags": []
   },
   "outputs": [
    {
     "data": {
      "text/plain": [
       "((60000, 28, 28), (60000,))"
      ]
     },
     "execution_count": 5,
     "metadata": {},
     "output_type": "execute_result"
    }
   ],
   "source": [
    "train_images.shape, train_labels.shape"
   ]
  },
  {
   "cell_type": "code",
   "execution_count": 6,
   "metadata": {
    "execution": {
     "iopub.execute_input": "2020-08-24T00:06:08.038325Z",
     "iopub.status.busy": "2020-08-24T00:06:08.037760Z",
     "iopub.status.idle": "2020-08-24T00:06:08.305321Z",
     "shell.execute_reply": "2020-08-24T00:06:08.304444Z"
    },
    "papermill": {
     "duration": 0.29935,
     "end_time": "2020-08-24T00:06:08.305525",
     "exception": false,
     "start_time": "2020-08-24T00:06:08.006175",
     "status": "completed"
    },
    "tags": []
   },
   "outputs": [],
   "source": [
    "test_images = mnist.test_images()\n",
    "test_labels = mnist.test_labels()"
   ]
  },
  {
   "cell_type": "code",
   "execution_count": 7,
   "metadata": {
    "execution": {
     "iopub.execute_input": "2020-08-24T00:06:08.364042Z",
     "iopub.status.busy": "2020-08-24T00:06:08.363509Z",
     "iopub.status.idle": "2020-08-24T00:06:08.376160Z",
     "shell.execute_reply": "2020-08-24T00:06:08.376626Z"
    },
    "papermill": {
     "duration": 0.042274,
     "end_time": "2020-08-24T00:06:08.376768",
     "exception": false,
     "start_time": "2020-08-24T00:06:08.334494",
     "status": "completed"
    },
    "tags": []
   },
   "outputs": [
    {
     "data": {
      "text/plain": [
       "((10000, 28, 28), (10000,))"
      ]
     },
     "execution_count": 7,
     "metadata": {},
     "output_type": "execute_result"
    }
   ],
   "source": [
    "test_images.shape, test_labels.shape"
   ]
  },
  {
   "cell_type": "code",
   "execution_count": 8,
   "metadata": {
    "execution": {
     "iopub.execute_input": "2020-08-24T00:06:08.436977Z",
     "iopub.status.busy": "2020-08-24T00:06:08.436419Z",
     "iopub.status.idle": "2020-08-24T00:06:08.581803Z",
     "shell.execute_reply": "2020-08-24T00:06:08.582257Z"
    },
    "papermill": {
     "duration": 0.177731,
     "end_time": "2020-08-24T00:06:08.582409",
     "exception": false,
     "start_time": "2020-08-24T00:06:08.404678",
     "status": "completed"
    },
    "tags": []
   },
   "outputs": [
    {
     "name": "stdout",
     "output_type": "stream",
     "text": [
      "2\n"
     ]
    },
    {
     "data": {
      "text/plain": [
       "<matplotlib.image.AxesImage at 0x7f8daadbe0b8>"
      ]
     },
     "execution_count": 8,
     "metadata": {},
     "output_type": "execute_result"
    },
    {
     "data": {
      "image/png": "[encoded data removed]",
      "text/plain": [
       "<Figure size 432x288 with 1 Axes>"
      ]
     },
     "metadata": {
      "needs_background": "light"
     },
     "output_type": "display_data"
    }
   ],
   "source": [
    "image_index = 7776 # You may select anything up to 60,000\n",
    "print(train_labels[image_index]) \n",
    "plt.imshow(train_images[image_index], cmap='Greys')"
   ]
  },
  {
   "cell_type": "markdown",
   "metadata": {
    "papermill": {
     "duration": 0.028825,
     "end_time": "2020-08-24T00:06:08.640335",
     "exception": false,
     "start_time": "2020-08-24T00:06:08.611510",
     "status": "completed"
    },
    "tags": []
   },
   "source": [
    "## Filter data to get 3 and 8 out"
   ]
  },
  {
   "cell_type": "code",
   "execution_count": 9,
   "metadata": {
    "execution": {
     "iopub.execute_input": "2020-08-24T00:06:08.706763Z",
     "iopub.status.busy": "2020-08-24T00:06:08.706115Z",
     "iopub.status.idle": "2020-08-24T00:06:08.724084Z",
     "shell.execute_reply": "2020-08-24T00:06:08.724497Z"
    },
    "papermill": {
     "duration": 0.056755,
     "end_time": "2020-08-24T00:06:08.724636",
     "exception": false,
     "start_time": "2020-08-24T00:06:08.667881",
     "status": "completed"
    },
    "tags": []
   },
   "outputs": [],
   "source": [
    "train_filter = np.where((train_labels == 3 ) | (train_labels == 8))\n",
    "test_filter = np.where((test_labels == 3) | (test_labels == 8))\n",
    "X_train, y_train = train_images[train_filter], train_labels[train_filter]\n",
    "X_test, y_test = test_images[test_filter], test_labels[test_filter]"
   ]
  },
  {
   "cell_type": "markdown",
   "metadata": {
    "papermill": {
     "duration": 0.027821,
     "end_time": "2020-08-24T00:06:08.780078",
     "exception": false,
     "start_time": "2020-08-24T00:06:08.752257",
     "status": "completed"
    },
    "tags": []
   },
   "source": [
    "We normalize the pixel values in the 0 to 1 range"
   ]
  },
  {
   "cell_type": "code",
   "execution_count": 10,
   "metadata": {
    "execution": {
     "iopub.execute_input": "2020-08-24T00:06:08.839949Z",
     "iopub.status.busy": "2020-08-24T00:06:08.839369Z",
     "iopub.status.idle": "2020-08-24T00:06:08.892447Z",
     "shell.execute_reply": "2020-08-24T00:06:08.891667Z"
    },
    "papermill": {
     "duration": 0.084875,
     "end_time": "2020-08-24T00:06:08.892648",
     "exception": false,
     "start_time": "2020-08-24T00:06:08.807773",
     "status": "completed"
    },
    "tags": []
   },
   "outputs": [],
   "source": [
    "X_train = X_train/255.\n",
    "X_test = X_test/255."
   ]
  },
  {
   "cell_type": "markdown",
   "metadata": {
    "papermill": {
     "duration": 0.028121,
     "end_time": "2020-08-24T00:06:08.954606",
     "exception": false,
     "start_time": "2020-08-24T00:06:08.926485",
     "status": "completed"
    },
    "tags": []
   },
   "source": [
    "Setup the labels as 1 (when the digit is 3) and 0 (when the digit is 8)"
   ]
  },
  {
   "cell_type": "code",
   "execution_count": 11,
   "metadata": {
    "execution": {
     "iopub.execute_input": "2020-08-24T00:06:09.015038Z",
     "iopub.status.busy": "2020-08-24T00:06:09.014423Z",
     "iopub.status.idle": "2020-08-24T00:06:09.030081Z",
     "shell.execute_reply": "2020-08-24T00:06:09.029620Z"
    },
    "papermill": {
     "duration": 0.047507,
     "end_time": "2020-08-24T00:06:09.030197",
     "exception": false,
     "start_time": "2020-08-24T00:06:08.982690",
     "status": "completed"
    },
    "tags": []
   },
   "outputs": [],
   "source": [
    "y_train = 1*(y_train==3)\n",
    "y_test = 1*(y_test==3)"
   ]
  },
  {
   "cell_type": "code",
   "execution_count": 12,
   "metadata": {
    "execution": {
     "iopub.execute_input": "2020-08-24T00:06:09.090970Z",
     "iopub.status.busy": "2020-08-24T00:06:09.090362Z",
     "iopub.status.idle": "2020-08-24T00:06:09.103325Z",
     "shell.execute_reply": "2020-08-24T00:06:09.102885Z"
    },
    "papermill": {
     "duration": 0.045843,
     "end_time": "2020-08-24T00:06:09.103438",
     "exception": false,
     "start_time": "2020-08-24T00:06:09.057595",
     "status": "completed"
    },
    "tags": []
   },
   "outputs": [
    {
     "data": {
      "text/plain": [
       "((11982, 28, 28), (1984, 28, 28))"
      ]
     },
     "execution_count": 12,
     "metadata": {},
     "output_type": "execute_result"
    }
   ],
   "source": [
    "X_train.shape, X_test.shape"
   ]
  },
  {
   "cell_type": "markdown",
   "metadata": {
    "papermill": {
     "duration": 0.028342,
     "end_time": "2020-08-24T00:06:09.158766",
     "exception": false,
     "start_time": "2020-08-24T00:06:09.130424",
     "status": "completed"
    },
    "tags": []
   },
   "source": [
    "### Reshape the input data to create a linear array"
   ]
  },
  {
   "cell_type": "code",
   "execution_count": 13,
   "metadata": {
    "execution": {
     "iopub.execute_input": "2020-08-24T00:06:09.221902Z",
     "iopub.status.busy": "2020-08-24T00:06:09.221204Z",
     "iopub.status.idle": "2020-08-24T00:06:09.235199Z",
     "shell.execute_reply": "2020-08-24T00:06:09.235748Z"
    },
    "papermill": {
     "duration": 0.048123,
     "end_time": "2020-08-24T00:06:09.235881",
     "exception": false,
     "start_time": "2020-08-24T00:06:09.187758",
     "status": "completed"
    },
    "tags": []
   },
   "outputs": [
    {
     "data": {
      "text/plain": [
       "((11982, 784), (1984, 784))"
      ]
     },
     "execution_count": 13,
     "metadata": {},
     "output_type": "execute_result"
    }
   ],
   "source": [
    "X_train = X_train.reshape(X_train.shape[0], -1)\n",
    "X_test = X_test.reshape(X_test.shape[0], -1)\n",
    "X_train.shape, X_test.shape"
   ]
  },
  {
   "cell_type": "markdown",
   "metadata": {
    "papermill": {
     "duration": 0.028292,
     "end_time": "2020-08-24T00:06:09.297469",
     "exception": false,
     "start_time": "2020-08-24T00:06:09.269177",
     "status": "completed"
    },
    "tags": []
   },
   "source": [
    "### Importing appropriate functions from 'Kudzu'"
   ]
  },
  {
   "cell_type": "code",
   "execution_count": 14,
   "metadata": {
    "execution": {
     "iopub.execute_input": "2020-08-24T00:06:09.360469Z",
     "iopub.status.busy": "2020-08-24T00:06:09.359895Z",
     "iopub.status.idle": "2020-08-24T00:06:09.381784Z",
     "shell.execute_reply": "2020-08-24T00:06:09.382425Z"
    },
    "papermill": {
     "duration": 0.056723,
     "end_time": "2020-08-24T00:06:09.382632",
     "exception": false,
     "start_time": "2020-08-24T00:06:09.325909",
     "status": "completed"
    },
    "tags": []
   },
   "outputs": [],
   "source": [
    "from kudzu.layer import Sigmoid\n",
    "from kudzu.layer import Relu\n",
    "from kudzu.layer import Affine, Sigmoid\n",
    "\n",
    "from kudzu.model import Model\n",
    "from kudzu.train import Learner\n",
    "from kudzu.optim import GD\n",
    "from kudzu.data import Data, Dataloader, Sampler\n",
    "\n",
    "from kudzu.callbacks import AccCallback\n",
    "from kudzu.callbacks import ClfCallback\n",
    "\n",
    "from kudzu.loss import MSE"
   ]
  },
  {
   "cell_type": "markdown",
   "metadata": {
    "papermill": {
     "duration": 0.028519,
     "end_time": "2020-08-24T00:06:09.441988",
     "exception": false,
     "start_time": "2020-08-24T00:06:09.413469",
     "status": "completed"
    },
    "tags": []
   },
   "source": [
    "### Let us create a `Config` class, to store important parameters. \n",
    "This class essentially plays the role of a dictionary."
   ]
  },
  {
   "cell_type": "code",
   "execution_count": 15,
   "metadata": {
    "execution": {
     "iopub.execute_input": "2020-08-24T00:06:09.503685Z",
     "iopub.status.busy": "2020-08-24T00:06:09.503109Z",
     "iopub.status.idle": "2020-08-24T00:06:09.516293Z",
     "shell.execute_reply": "2020-08-24T00:06:09.516721Z"
    },
    "papermill": {
     "duration": 0.047009,
     "end_time": "2020-08-24T00:06:09.516852",
     "exception": false,
     "start_time": "2020-08-24T00:06:09.469843",
     "status": "completed"
    },
    "tags": []
   },
   "outputs": [],
   "source": [
    "class Config:\n",
    "    pass\n",
    "config = Config()\n",
    "config.lr = 0.001\n",
    "config.num_epochs = 251\n",
    "config.bs = 50"
   ]
  },
  {
   "cell_type": "markdown",
   "metadata": {
    "papermill": {
     "duration": 0.028402,
     "end_time": "2020-08-24T00:06:09.573710",
     "exception": false,
     "start_time": "2020-08-24T00:06:09.545308",
     "status": "completed"
    },
    "tags": []
   },
   "source": [
    "### Initializing data to the variables"
   ]
  },
  {
   "cell_type": "code",
   "execution_count": 16,
   "metadata": {
    "execution": {
     "iopub.execute_input": "2020-08-24T00:06:09.636919Z",
     "iopub.status.busy": "2020-08-24T00:06:09.636347Z",
     "iopub.status.idle": "2020-08-24T00:06:09.648740Z",
     "shell.execute_reply": "2020-08-24T00:06:09.648244Z"
    },
    "papermill": {
     "duration": 0.044986,
     "end_time": "2020-08-24T00:06:09.648860",
     "exception": false,
     "start_time": "2020-08-24T00:06:09.603874",
     "status": "completed"
    },
    "tags": []
   },
   "outputs": [],
   "source": [
    "data = Data(X_train, y_train.reshape(-1,1))\n",
    "sampler = Sampler(data, config.bs, shuffle=True)\n",
    "\n",
    "dl = Dataloader(data, sampler)\n",
    "\n",
    "opt = GD(config.lr)\n",
    "loss = MSE()"
   ]
  },
  {
   "cell_type": "code",
   "execution_count": 17,
   "metadata": {
    "execution": {
     "iopub.execute_input": "2020-08-24T00:06:09.709889Z",
     "iopub.status.busy": "2020-08-24T00:06:09.709360Z",
     "iopub.status.idle": "2020-08-24T00:06:09.720347Z",
     "shell.execute_reply": "2020-08-24T00:06:09.720779Z"
    },
    "papermill": {
     "duration": 0.044152,
     "end_time": "2020-08-24T00:06:09.720900",
     "exception": false,
     "start_time": "2020-08-24T00:06:09.676748",
     "status": "completed"
    },
    "tags": []
   },
   "outputs": [],
   "source": [
    "training_xdata = X_train\n",
    "testing_xdata = X_test\n",
    "training_ydata = y_train.reshape(-1,1)\n",
    "testing_ydata = y_test.reshape(-1,1)"
   ]
  },
  {
   "cell_type": "markdown",
   "metadata": {
    "papermill": {
     "duration": 0.028351,
     "end_time": "2020-08-24T00:06:09.776861",
     "exception": false,
     "start_time": "2020-08-24T00:06:09.748510",
     "status": "completed"
    },
    "tags": []
   },
   "source": [
    "### Running Models with the Training data\n",
    "Details about the network layers:\n",
    "- A first affine layer has 784 inputs and does 100 affine transforms. These are followed by a Relu\n",
    "- A second affine layer has 100 inputs from the 100 activations of the past layer, and does 100 affine transforms. These are followed by a Relu\n",
    "- A third affine layer has 100 activations and does 2 affine transformations to create an embedding for visualization. There is no non-linearity here.\n",
    "- A final \"logistic regression\" which has an affine transform from 2 inputs to 1 output, which is squeezed through a sigmoid.\n",
    "\n",
    "Help taken from Anshuman's Notebook."
   ]
  },
  {
   "cell_type": "code",
   "execution_count": 18,
   "metadata": {
    "execution": {
     "iopub.execute_input": "2020-08-24T00:06:09.839900Z",
     "iopub.status.busy": "2020-08-24T00:06:09.839318Z",
     "iopub.status.idle": "2020-08-24T00:06:09.856131Z",
     "shell.execute_reply": "2020-08-24T00:06:09.856596Z"
    },
    "papermill": {
     "duration": 0.050891,
     "end_time": "2020-08-24T00:06:09.856730",
     "exception": false,
     "start_time": "2020-08-24T00:06:09.805839",
     "status": "completed"
    },
    "tags": []
   },
   "outputs": [],
   "source": [
    "# layers for the Neural Network\n",
    "layers = [Affine(\"first\", 784, 100), Relu(\"first\"), Affine(\"second\", 100, 100), Relu(\"second\"), Affine(\"third\", 100, 2), Affine(\"final\", 2, 1), Sigmoid(\"final\")]\n",
    "model_nn = Model(layers)\n",
    "\n",
    "# layers for the Logistic Regression\n",
    "layers_lr = [Affine(\"logits\", 784, 1), Sigmoid(\"sigmoid\")]\n",
    "model_lr = Model(layers_lr)"
   ]
  },
  {
   "cell_type": "code",
   "execution_count": 19,
   "metadata": {
    "execution": {
     "iopub.execute_input": "2020-08-24T00:06:09.920100Z",
     "iopub.status.busy": "2020-08-24T00:06:09.919531Z",
     "iopub.status.idle": "2020-08-24T00:06:09.932400Z",
     "shell.execute_reply": "2020-08-24T00:06:09.931909Z"
    },
    "papermill": {
     "duration": 0.047079,
     "end_time": "2020-08-24T00:06:09.932517",
     "exception": false,
     "start_time": "2020-08-24T00:06:09.885438",
     "status": "completed"
    },
    "tags": []
   },
   "outputs": [],
   "source": [
    "# suffix _nn stands for Neural Network.\n",
    "learner_nn = Learner(loss, model_nn, opt, config.num_epochs)\n",
    "acc_nn = ClfCallback(learner_nn, config.bs, training_xdata , testing_xdata, training_ydata, testing_ydata)\n",
    "learner_nn.set_callbacks([acc_nn])"
   ]
  },
  {
   "cell_type": "code",
   "execution_count": 20,
   "metadata": {
    "execution": {
     "iopub.execute_input": "2020-08-24T00:06:09.993366Z",
     "iopub.status.busy": "2020-08-24T00:06:09.992842Z",
     "iopub.status.idle": "2020-08-24T00:07:34.480076Z",
     "shell.execute_reply": "2020-08-24T00:07:34.479616Z"
    },
    "papermill": {
     "duration": 84.51909,
     "end_time": "2020-08-24T00:07:34.480206",
     "exception": false,
     "start_time": "2020-08-24T00:06:09.961116",
     "status": "completed"
    },
    "tags": []
   },
   "outputs": [
    {
     "name": "stdout",
     "output_type": "stream",
     "text": [
      "====== Neural Network ======\n"
     ]
    },
    {
     "name": "stdout",
     "output_type": "stream",
     "text": [
      "Epoch 0, Loss 0.248\n",
      "Training Accuracy: 0.5421, Testing Accuracy: 0.5398\n",
      "\n"
     ]
    },
    {
     "name": "stdout",
     "output_type": "stream",
     "text": [
      "Epoch 10, Loss 0.1968\n",
      "Training Accuracy: 0.8653, Testing Accuracy: 0.8790\n",
      "\n"
     ]
    },
    {
     "name": "stdout",
     "output_type": "stream",
     "text": [
      "Epoch 20, Loss 0.102\n",
      "Training Accuracy: 0.9054, Testing Accuracy: 0.9118\n",
      "\n"
     ]
    },
    {
     "name": "stdout",
     "output_type": "stream",
     "text": [
      "Epoch 30, Loss 0.0655\n",
      "Training Accuracy: 0.9282, Testing Accuracy: 0.9400\n",
      "\n"
     ]
    },
    {
     "name": "stdout",
     "output_type": "stream",
     "text": [
      "Epoch 40, Loss 0.0508\n",
      "Training Accuracy: 0.9403, Testing Accuracy: 0.9556\n",
      "\n"
     ]
    },
    {
     "name": "stdout",
     "output_type": "stream",
     "text": [
      "Epoch 50, Loss 0.0431\n",
      "Training Accuracy: 0.9505, Testing Accuracy: 0.9587\n",
      "\n"
     ]
    },
    {
     "name": "stdout",
     "output_type": "stream",
     "text": [
      "Epoch 60, Loss 0.0384\n",
      "Training Accuracy: 0.9541, Testing Accuracy: 0.9647\n",
      "\n"
     ]
    },
    {
     "name": "stdout",
     "output_type": "stream",
     "text": [
      "Epoch 70, Loss 0.0352\n",
      "Training Accuracy: 0.9573, Testing Accuracy: 0.9667\n",
      "\n"
     ]
    },
    {
     "name": "stdout",
     "output_type": "stream",
     "text": [
      "Epoch 80, Loss 0.0329\n",
      "Training Accuracy: 0.9600, Testing Accuracy: 0.9677\n",
      "\n"
     ]
    },
    {
     "name": "stdout",
     "output_type": "stream",
     "text": [
      "Epoch 90, Loss 0.0311\n",
      "Training Accuracy: 0.9628, Testing Accuracy: 0.9698\n",
      "\n"
     ]
    },
    {
     "name": "stdout",
     "output_type": "stream",
     "text": [
      "Epoch 100, Loss 0.0297\n",
      "Training Accuracy: 0.9642, Testing Accuracy: 0.9693\n",
      "\n"
     ]
    },
    {
     "name": "stdout",
     "output_type": "stream",
     "text": [
      "Epoch 110, Loss 0.0285\n",
      "Training Accuracy: 0.9655, Testing Accuracy: 0.9682\n",
      "\n"
     ]
    },
    {
     "name": "stdout",
     "output_type": "stream",
     "text": [
      "Epoch 120, Loss 0.0275\n",
      "Training Accuracy: 0.9668, Testing Accuracy: 0.9703\n",
      "\n"
     ]
    },
    {
     "name": "stdout",
     "output_type": "stream",
     "text": [
      "Epoch 130, Loss 0.0266\n",
      "Training Accuracy: 0.9685, Testing Accuracy: 0.9703\n",
      "\n"
     ]
    },
    {
     "name": "stdout",
     "output_type": "stream",
     "text": [
      "Epoch 140, Loss 0.0258\n",
      "Training Accuracy: 0.9695, Testing Accuracy: 0.9718\n",
      "\n"
     ]
    },
    {
     "name": "stdout",
     "output_type": "stream",
     "text": [
      "Epoch 150, Loss 0.0251\n",
      "Training Accuracy: 0.9706, Testing Accuracy: 0.9728\n",
      "\n"
     ]
    },
    {
     "name": "stdout",
     "output_type": "stream",
     "text": [
      "Epoch 160, Loss 0.0245\n",
      "Training Accuracy: 0.9712, Testing Accuracy: 0.9728\n",
      "\n"
     ]
    },
    {
     "name": "stdout",
     "output_type": "stream",
     "text": [
      "Epoch 170, Loss 0.024\n",
      "Training Accuracy: 0.9725, Testing Accuracy: 0.9728\n",
      "\n"
     ]
    },
    {
     "name": "stdout",
     "output_type": "stream",
     "text": [
      "Epoch 180, Loss 0.0234\n",
      "Training Accuracy: 0.9730, Testing Accuracy: 0.9733\n",
      "\n"
     ]
    },
    {
     "name": "stdout",
     "output_type": "stream",
     "text": [
      "Epoch 190, Loss 0.023\n",
      "Training Accuracy: 0.9737, Testing Accuracy: 0.9733\n",
      "\n"
     ]
    },
    {
     "name": "stdout",
     "output_type": "stream",
     "text": [
      "Epoch 200, Loss 0.0225\n",
      "Training Accuracy: 0.9744, Testing Accuracy: 0.9733\n",
      "\n"
     ]
    },
    {
     "name": "stdout",
     "output_type": "stream",
     "text": [
      "Epoch 210, Loss 0.0221\n",
      "Training Accuracy: 0.9750, Testing Accuracy: 0.9733\n",
      "\n"
     ]
    },
    {
     "name": "stdout",
     "output_type": "stream",
     "text": [
      "Epoch 220, Loss 0.0216\n",
      "Training Accuracy: 0.9755, Testing Accuracy: 0.9738\n",
      "\n"
     ]
    },
    {
     "name": "stdout",
     "output_type": "stream",
     "text": [
      "Epoch 230, Loss 0.0213\n",
      "Training Accuracy: 0.9761, Testing Accuracy: 0.9743\n",
      "\n"
     ]
    },
    {
     "name": "stdout",
     "output_type": "stream",
     "text": [
      "Epoch 240, Loss 0.0209\n",
      "Training Accuracy: 0.9765, Testing Accuracy: 0.9743\n",
      "\n"
     ]
    },
    {
     "name": "stdout",
     "output_type": "stream",
     "text": [
      "Epoch 250, Loss 0.0205\n",
      "Training Accuracy: 0.9768, Testing Accuracy: 0.9743\n",
      "\n"
     ]
    },
    {
     "data": {
      "text/plain": [
       "0.014112114292271976"
      ]
     },
     "execution_count": 20,
     "metadata": {},
     "output_type": "execute_result"
    }
   ],
   "source": [
    "print(\"====== Neural Network ======\")\n",
    "learner_nn.train_loop(dl)"
   ]
  },
  {
   "cell_type": "markdown",
   "metadata": {
    "papermill": {
     "duration": 0.036554,
     "end_time": "2020-08-24T00:07:34.553379",
     "exception": false,
     "start_time": "2020-08-24T00:07:34.516825",
     "status": "completed"
    },
    "tags": []
   },
   "source": [
    "### Logistic Regression based Implementation."
   ]
  },
  {
   "cell_type": "code",
   "execution_count": 21,
   "metadata": {
    "execution": {
     "iopub.execute_input": "2020-08-24T00:07:34.632431Z",
     "iopub.status.busy": "2020-08-24T00:07:34.630976Z",
     "iopub.status.idle": "2020-08-24T00:07:34.643332Z",
     "shell.execute_reply": "2020-08-24T00:07:34.642894Z"
    },
    "papermill": {
     "duration": 0.053447,
     "end_time": "2020-08-24T00:07:34.643449",
     "exception": false,
     "start_time": "2020-08-24T00:07:34.590002",
     "status": "completed"
    },
    "tags": []
   },
   "outputs": [],
   "source": [
    "learner_lr = Learner(loss, model_lr, opt, config.num_epochs)\n",
    "acc_lr = ClfCallback(learner_lr, config.bs, training_xdata , testing_xdata, training_ydata, testing_ydata)\n",
    "learner_lr.set_callbacks([acc_lr])"
   ]
  },
  {
   "cell_type": "code",
   "execution_count": 22,
   "metadata": {
    "execution": {
     "iopub.execute_input": "2020-08-24T00:07:34.719791Z",
     "iopub.status.busy": "2020-08-24T00:07:34.719225Z",
     "iopub.status.idle": "2020-08-24T00:07:49.897915Z",
     "shell.execute_reply": "2020-08-24T00:07:49.898703Z"
    },
    "papermill": {
     "duration": 15.218911,
     "end_time": "2020-08-24T00:07:49.898866",
     "exception": false,
     "start_time": "2020-08-24T00:07:34.679955",
     "status": "completed"
    },
    "tags": []
   },
   "outputs": [
    {
     "name": "stdout",
     "output_type": "stream",
     "text": [
      "====== Logistic Regression ======\n",
      "Epoch 0, Loss 0.2113\n",
      "Training Accuracy: 0.7628, Testing Accuracy: 0.7767\n",
      "\n"
     ]
    },
    {
     "name": "stdout",
     "output_type": "stream",
     "text": [
      "Epoch 10, Loss 0.1025\n",
      "Training Accuracy: 0.9065, Testing Accuracy: 0.9178\n",
      "\n"
     ]
    },
    {
     "name": "stdout",
     "output_type": "stream",
     "text": [
      "Epoch 20, Loss 0.079\n",
      "Training Accuracy: 0.9276, Testing Accuracy: 0.9405\n",
      "\n"
     ]
    },
    {
     "name": "stdout",
     "output_type": "stream",
     "text": [
      "Epoch 30, Loss 0.0679\n",
      "Training Accuracy: 0.9370, Testing Accuracy: 0.9471\n",
      "\n"
     ]
    },
    {
     "name": "stdout",
     "output_type": "stream",
     "text": [
      "Epoch 40, Loss 0.0613\n",
      "Training Accuracy: 0.9429, Testing Accuracy: 0.9526\n",
      "\n"
     ]
    },
    {
     "name": "stdout",
     "output_type": "stream",
     "text": [
      "Epoch 50, Loss 0.0568\n",
      "Training Accuracy: 0.9463, Testing Accuracy: 0.9521\n",
      "\n"
     ]
    },
    {
     "name": "stdout",
     "output_type": "stream",
     "text": [
      "Epoch 60, Loss 0.0535\n",
      "Training Accuracy: 0.9488, Testing Accuracy: 0.9546\n",
      "\n"
     ]
    },
    {
     "name": "stdout",
     "output_type": "stream",
     "text": [
      "Epoch 70, Loss 0.0509\n",
      "Training Accuracy: 0.9507, Testing Accuracy: 0.9572\n",
      "\n"
     ]
    },
    {
     "name": "stdout",
     "output_type": "stream",
     "text": [
      "Epoch 80, Loss 0.0489\n",
      "Training Accuracy: 0.9519, Testing Accuracy: 0.9582\n",
      "\n"
     ]
    },
    {
     "name": "stdout",
     "output_type": "stream",
     "text": [
      "Epoch 90, Loss 0.0472\n",
      "Training Accuracy: 0.9536, Testing Accuracy: 0.9612\n",
      "\n"
     ]
    },
    {
     "name": "stdout",
     "output_type": "stream",
     "text": [
      "Epoch 100, Loss 0.0458\n",
      "Training Accuracy: 0.9546, Testing Accuracy: 0.9622\n",
      "\n"
     ]
    },
    {
     "name": "stdout",
     "output_type": "stream",
     "text": [
      "Epoch 110, Loss 0.0446\n",
      "Training Accuracy: 0.9555, Testing Accuracy: 0.9622\n",
      "\n"
     ]
    },
    {
     "name": "stdout",
     "output_type": "stream",
     "text": [
      "Epoch 120, Loss 0.0436\n",
      "Training Accuracy: 0.9554, Testing Accuracy: 0.9642\n",
      "\n"
     ]
    },
    {
     "name": "stdout",
     "output_type": "stream",
     "text": [
      "Epoch 130, Loss 0.0427\n",
      "Training Accuracy: 0.9564, Testing Accuracy: 0.9652\n",
      "\n"
     ]
    },
    {
     "name": "stdout",
     "output_type": "stream",
     "text": [
      "Epoch 140, Loss 0.0419\n",
      "Training Accuracy: 0.9572, Testing Accuracy: 0.9657\n",
      "\n"
     ]
    },
    {
     "name": "stdout",
     "output_type": "stream",
     "text": [
      "Epoch 150, Loss 0.0411\n",
      "Training Accuracy: 0.9580, Testing Accuracy: 0.9662\n",
      "\n"
     ]
    },
    {
     "name": "stdout",
     "output_type": "stream",
     "text": [
      "Epoch 160, Loss 0.0405\n",
      "Training Accuracy: 0.9585, Testing Accuracy: 0.9662\n",
      "\n"
     ]
    },
    {
     "name": "stdout",
     "output_type": "stream",
     "text": [
      "Epoch 170, Loss 0.0399\n",
      "Training Accuracy: 0.9590, Testing Accuracy: 0.9657\n",
      "\n"
     ]
    },
    {
     "name": "stdout",
     "output_type": "stream",
     "text": [
      "Epoch 180, Loss 0.0393\n",
      "Training Accuracy: 0.9590, Testing Accuracy: 0.9657\n",
      "\n"
     ]
    },
    {
     "name": "stdout",
     "output_type": "stream",
     "text": [
      "Epoch 190, Loss 0.0388\n",
      "Training Accuracy: 0.9592, Testing Accuracy: 0.9652\n",
      "\n"
     ]
    },
    {
     "name": "stdout",
     "output_type": "stream",
     "text": [
      "Epoch 200, Loss 0.0383\n",
      "Training Accuracy: 0.9596, Testing Accuracy: 0.9657\n",
      "\n"
     ]
    },
    {
     "name": "stdout",
     "output_type": "stream",
     "text": [
      "Epoch 210, Loss 0.0379\n",
      "Training Accuracy: 0.9604, Testing Accuracy: 0.9667\n",
      "\n"
     ]
    },
    {
     "name": "stdout",
     "output_type": "stream",
     "text": [
      "Epoch 220, Loss 0.0375\n",
      "Training Accuracy: 0.9604, Testing Accuracy: 0.9667\n",
      "\n"
     ]
    },
    {
     "name": "stdout",
     "output_type": "stream",
     "text": [
      "Epoch 230, Loss 0.0371\n",
      "Training Accuracy: 0.9605, Testing Accuracy: 0.9667\n",
      "\n"
     ]
    },
    {
     "name": "stdout",
     "output_type": "stream",
     "text": [
      "Epoch 240, Loss 0.0367\n",
      "Training Accuracy: 0.9607, Testing Accuracy: 0.9667\n",
      "\n"
     ]
    },
    {
     "name": "stdout",
     "output_type": "stream",
     "text": [
      "Epoch 250, Loss 0.0364\n",
      "Training Accuracy: 0.9609, Testing Accuracy: 0.9672\n",
      "\n"
     ]
    },
    {
     "data": {
      "text/plain": [
       "0.025593306296275972"
      ]
     },
     "execution_count": 22,
     "metadata": {},
     "output_type": "execute_result"
    }
   ],
   "source": [
    "print(\"====== Logistic Regression ======\")\n",
    "learner_lr.train_loop(dl)"
   ]
  },
  {
   "cell_type": "markdown",
   "metadata": {
    "papermill": {
     "duration": 0.043458,
     "end_time": "2020-08-24T00:07:49.987530",
     "exception": false,
     "start_time": "2020-08-24T00:07:49.944072",
     "status": "completed"
    },
    "tags": []
   },
   "source": [
    "### Comparing results of NN and LR"
   ]
  },
  {
   "cell_type": "code",
   "execution_count": 23,
   "metadata": {
    "execution": {
     "iopub.execute_input": "2020-08-24T00:07:50.088643Z",
     "iopub.status.busy": "2020-08-24T00:07:50.087948Z",
     "iopub.status.idle": "2020-08-24T00:07:50.319968Z",
     "shell.execute_reply": "2020-08-24T00:07:50.319441Z"
    },
    "papermill": {
     "duration": 0.287618,
     "end_time": "2020-08-24T00:07:50.320095",
     "exception": false,
     "start_time": "2020-08-24T00:07:50.032477",
     "status": "completed"
    },
    "tags": []
   },
   "outputs": [
    {
     "data": {
      "text/plain": [
       "<matplotlib.legend.Legend at 0x7f8daa998828>"
      ]
     },
     "execution_count": 23,
     "metadata": {},
     "output_type": "execute_result"
    },
    {
     "data": {
      "image/png": "[encoded data removed]",
      "text/plain": [
       "<Figure size 1080x720 with 1 Axes>"
      ]
     },
     "metadata": {
      "needs_background": "light"
     },
     "output_type": "display_data"
    }
   ],
   "source": [
    "plt.figure(figsize=(15,10))\n",
    "\n",
    "# Neural Network plots\n",
    "plt.plot(acc_nn.accuracies, 'r-', label = \"Training Accuracies - NN\")\n",
    "plt.plot(acc_nn.test_accuracies, 'g-', label = \"Testing Accuracies - NN\")\n",
    "\n",
    "# Logistic Regression plots\n",
    "plt.plot(acc_lr.accuracies, 'k-', label = \"Training Accuracies - LR\")\n",
    "plt.plot(acc_lr.test_accuracies, 'b-', label = \"Testing Accuracies - LR\")\n",
    "\n",
    "plt.ylim(0.8, 1)\n",
    "\n",
    "plt.legend()\n",
    "\n"
   ]
  },
  {
   "cell_type": "markdown",
   "metadata": {
    "papermill": {
     "duration": 0.045802,
     "end_time": "2020-08-24T00:07:50.412163",
     "exception": false,
     "start_time": "2020-08-24T00:07:50.366361",
     "status": "completed"
    },
    "tags": []
   },
   "source": [
    "### From the plot, we can observe the following:\n",
    "- Neural Network achieves higher accuracy than the Logistic Regression model.\n",
    "- This apparently, is because of overfitting, i.e. NN captures more noise than data.\n",
    "- Testing accuracy of NN drops below the Training accuracy at higher epochs. This explains the over-fitting on training data.\n",
    "- Logistic Regression gives a reliable accuracy, without the above mentioned problem.\n"
   ]
  },
  {
   "cell_type": "markdown",
   "metadata": {
    "papermill": {
     "duration": 0.045507,
     "end_time": "2020-08-24T00:07:50.504758",
     "exception": false,
     "start_time": "2020-08-24T00:07:50.459251",
     "status": "completed"
    },
    "tags": []
   },
   "source": [
    "### Moving till the last but one layer (excluding it).\n",
    "#### Plotting the outputs of this layer of the NN."
   ]
  },
  {
   "cell_type": "code",
   "execution_count": 24,
   "metadata": {
    "execution": {
     "iopub.execute_input": "2020-08-24T00:07:50.603303Z",
     "iopub.status.busy": "2020-08-24T00:07:50.602045Z",
     "iopub.status.idle": "2020-08-24T00:07:50.613746Z",
     "shell.execute_reply": "2020-08-24T00:07:50.614212Z"
    },
    "papermill": {
     "duration": 0.063315,
     "end_time": "2020-08-24T00:07:50.614356",
     "exception": false,
     "start_time": "2020-08-24T00:07:50.551041",
     "status": "completed"
    },
    "tags": []
   },
   "outputs": [],
   "source": [
    "model_new = Model(layers[:-2])"
   ]
  },
  {
   "cell_type": "code",
   "execution_count": 25,
   "metadata": {
    "execution": {
     "iopub.execute_input": "2020-08-24T00:07:50.711853Z",
     "iopub.status.busy": "2020-08-24T00:07:50.711282Z",
     "iopub.status.idle": "2020-08-24T00:07:50.731900Z",
     "shell.execute_reply": "2020-08-24T00:07:50.732611Z"
    },
    "papermill": {
     "duration": 0.071489,
     "end_time": "2020-08-24T00:07:50.732764",
     "exception": false,
     "start_time": "2020-08-24T00:07:50.661275",
     "status": "completed"
    },
    "tags": []
   },
   "outputs": [],
   "source": [
    "plot_testing = model_new(testing_xdata)"
   ]
  },
  {
   "cell_type": "code",
   "execution_count": 26,
   "metadata": {
    "execution": {
     "iopub.execute_input": "2020-08-24T00:07:50.854340Z",
     "iopub.status.busy": "2020-08-24T00:07:50.853769Z",
     "iopub.status.idle": "2020-08-24T00:07:51.077009Z",
     "shell.execute_reply": "2020-08-24T00:07:51.077450Z"
    },
    "papermill": {
     "duration": 0.293748,
     "end_time": "2020-08-24T00:07:51.077606",
     "exception": false,
     "start_time": "2020-08-24T00:07:50.783858",
     "status": "completed"
    },
    "tags": []
   },
   "outputs": [
    {
     "data": {
      "text/plain": [
       "Text(0.5, 1.0, 'Outputs')"
      ]
     },
     "execution_count": 26,
     "metadata": {},
     "output_type": "execute_result"
    },
    {
     "data": {
      "image/png": "[encoded data removed]",
      "text/plain": [
       "<Figure size 576x504 with 1 Axes>"
      ]
     },
     "metadata": {
      "needs_background": "light"
     },
     "output_type": "display_data"
    }
   ],
   "source": [
    "plt.figure(figsize=(8,7))\n",
    "plt.scatter(plot_testing[:,0], plot_testing[:,1], alpha = 0.1, c = y_test.ravel());\n",
    "plt.title('Outputs')"
   ]
  },
  {
   "cell_type": "markdown",
   "metadata": {
    "papermill": {
     "duration": 0.049082,
     "end_time": "2020-08-24T00:07:51.176254",
     "exception": false,
     "start_time": "2020-08-24T00:07:51.127172",
     "status": "completed"
    },
    "tags": []
   },
   "source": [
    "### Plotting probability contours"
   ]
  },
  {
   "cell_type": "code",
   "execution_count": 27,
   "metadata": {
    "execution": {
     "iopub.execute_input": "2020-08-24T00:07:51.279423Z",
     "iopub.status.busy": "2020-08-24T00:07:51.278839Z",
     "iopub.status.idle": "2020-08-24T00:07:51.291110Z",
     "shell.execute_reply": "2020-08-24T00:07:51.291584Z"
    },
    "papermill": {
     "duration": 0.065986,
     "end_time": "2020-08-24T00:07:51.291719",
     "exception": false,
     "start_time": "2020-08-24T00:07:51.225733",
     "status": "completed"
    },
    "tags": []
   },
   "outputs": [],
   "source": [
    "model_prob = Model(layers[-2:]) "
   ]
  },
  {
   "cell_type": "code",
   "execution_count": 28,
   "metadata": {
    "execution": {
     "iopub.execute_input": "2020-08-24T00:07:51.392933Z",
     "iopub.status.busy": "2020-08-24T00:07:51.392359Z",
     "iopub.status.idle": "2020-08-24T00:07:51.407753Z",
     "shell.execute_reply": "2020-08-24T00:07:51.408483Z"
    },
    "papermill": {
     "duration": 0.06938,
     "end_time": "2020-08-24T00:07:51.408706",
     "exception": false,
     "start_time": "2020-08-24T00:07:51.339326",
     "status": "completed"
    },
    "tags": []
   },
   "outputs": [],
   "source": [
    "# Adjust the x and y ranges according to the above generated plot.\n",
    "x_range = np.linspace(-4, 1, 100) \n",
    "y_range = np.linspace(-6, 6, 100) \n",
    "x_grid, y_grid = np.meshgrid(x_range, y_range) # x_grid and y_grig are of size 100 X 100\n",
    "\n",
    "# converting x_grid and y_grid to continuous arrays\n",
    "x_grid_flat = np.ravel(x_grid)\n",
    "y_grid_flat = np.ravel(y_grid)\n",
    "\n",
    "# The last layer of the current model takes two columns as input. Hence transpose of np.vstack() is required.\n",
    "X = np.vstack((x_grid_flat, y_grid_flat)).T\n",
    "\n",
    "# x_grid and y_grid are of size 100 x 100\n",
    "probability_contour = model_prob(X).reshape(100,100) "
   ]
  },
  {
   "cell_type": "code",
   "execution_count": 29,
   "metadata": {
    "execution": {
     "iopub.execute_input": "2020-08-24T00:07:51.519970Z",
     "iopub.status.busy": "2020-08-24T00:07:51.519196Z",
     "iopub.status.idle": "2020-08-24T00:07:51.778050Z",
     "shell.execute_reply": "2020-08-24T00:07:51.777181Z"
    },
    "papermill": {
     "duration": 0.319468,
     "end_time": "2020-08-24T00:07:51.778193",
     "exception": false,
     "start_time": "2020-08-24T00:07:51.458725",
     "status": "completed"
    },
    "tags": []
   },
   "outputs": [
    {
     "data": {
      "image/png": "[encoded data removed]",
      "text/plain": [
       "<Figure size 720x648 with 1 Axes>"
      ]
     },
     "metadata": {
      "needs_background": "light"
     },
     "output_type": "display_data"
    }
   ],
   "source": [
    "plt.figure(figsize=(10,9))\n",
    "plt.scatter(plot_testing[:,0], plot_testing[:,1], alpha = 0.1, c = y_test.ravel())\n",
    "contours = plt.contour(x_grid,y_grid,probability_contour)\n",
    "plt.title('Probability Contours')\n",
    "plt.clabel(contours, inline = True );"
   ]
  }
 ],
 "metadata": {
  "kernelspec": {
   "display_name": "Python 3",
   "language": "python",
   "name": "python3"
  },
  "language_info": {
   "codemirror_mode": {
    "name": "ipython",
    "version": 3
   },
   "file_extension": ".py",
   "mimetype": "text/x-python",
   "name": "python",
   "nbconvert_exporter": "python",
   "pygments_lexer": "ipython3",
   "version": "3.6.11"
  },
  "papermill": {
   "duration": 109.071745,
   "end_time": "2020-08-24T00:07:52.143717",
   "environment_variables": {},
   "exception": null,
   "input_path": "2020-08-11-NeuralNetwork.ipynb",
   "output_path": "2020-08-11-NeuralNetwork.ipynb",
   "parameters": {},
   "start_time": "2020-08-24T00:06:03.071972",
   "version": "2.1.2"
  }
 },
 "nbformat": 4,
 "nbformat_minor": 4
}