{
 "cells": [
  {
   "cell_type": "markdown",
   "metadata": {
    "papermill": {
     "duration": 0.029278,
     "end_time": "2020-10-10T20:04:20.766398",
     "exception": false,
     "start_time": "2020-10-10T20:04:20.737120",
     "status": "completed"
    },
    "tags": []
   },
   "source": [
    "# \"A Basic Neural Network: Differentiate Hand-Written Digits\"\n",
    "\n",
    "- badges: true\n",
    "- author: Akshith Sriram"
   ]
  },
  {
   "cell_type": "markdown",
   "metadata": {
    "papermill": {
     "duration": 0.02913,
     "end_time": "2020-10-10T20:04:20.821667",
     "exception": false,
     "start_time": "2020-10-10T20:04:20.792537",
     "status": "completed"
    },
    "tags": []
   },
   "source": [
    "### Key Objectives:\n",
    "- Building a neural network that differentiates two hand-written digits 3 and 8.\n",
    "- Comparing the results of this Neural Network (NN) to that of a Logistic Regression (LR) model.\n",
    "\n",
    "### Requirements:\n",
    "- 'Kudzu' : A neural network library that was designed during our course by [Univ.AI](www.univ.ai). \n",
    "- MNIST Database\n",
    "\n",
    "If MNIST is not installed, use the command `!pip install mnist` given below.\n",
    "It can be run both from the command line and Jupyter Notebook."
   ]
  },
  {
   "cell_type": "code",
   "execution_count": 1,
   "metadata": {
    "execution": {
     "iopub.execute_input": "2020-10-10T20:04:20.874371Z",
     "iopub.status.busy": "2020-10-10T20:04:20.873658Z",
     "iopub.status.idle": "2020-10-10T20:04:22.347743Z",
     "shell.execute_reply": "2020-10-10T20:04:22.348176Z"
    },
    "papermill": {
     "duration": 1.501999,
     "end_time": "2020-10-10T20:04:22.348352",
     "exception": false,
     "start_time": "2020-10-10T20:04:20.846353",
     "status": "completed"
    },
    "tags": []
   },
   "outputs": [
    {
     "name": "stdout",
     "output_type": "stream",
     "text": [
      "Collecting mnist\r\n"
     ]
    },
    {
     "name": "stdout",
     "output_type": "stream",
     "text": [
      "  Downloading mnist-0.2.2-py2.py3-none-any.whl (3.5 kB)\r\n",
      "Requirement already satisfied: numpy in /opt/hostedtoolcache/Python/3.6.12/x64/lib/python3.6/site-packages (from mnist) (1.19.2)\r\n"
     ]
    },
    {
     "name": "stdout",
     "output_type": "stream",
     "text": [
      "Installing collected packages: mnist\r\n",
      "Successfully installed mnist-0.2.2\r\n"
     ]
    }
   ],
   "source": [
    "!pip install mnist "
   ]
  },
  {
   "cell_type": "markdown",
   "metadata": {
    "papermill": {
     "duration": 0.40069,
     "end_time": "2020-10-10T20:04:22.776113",
     "exception": false,
     "start_time": "2020-10-10T20:04:22.375423",
     "status": "completed"
    },
    "tags": []
   },
   "source": [
    "#### Importing necessary libraries"
   ]
  },
  {
   "cell_type": "code",
   "execution_count": 2,
   "metadata": {
    "execution": {
     "iopub.execute_input": "2020-10-10T20:04:22.841962Z",
     "iopub.status.busy": "2020-10-10T20:04:22.841336Z",
     "iopub.status.idle": "2020-10-10T20:04:23.391730Z",
     "shell.execute_reply": "2020-10-10T20:04:23.392179Z"
    },
    "papermill": {
     "duration": 0.586757,
     "end_time": "2020-10-10T20:04:23.392333",
     "exception": false,
     "start_time": "2020-10-10T20:04:22.805576",
     "status": "completed"
    },
    "tags": []
   },
   "outputs": [],
   "source": [
    "%load_ext autoreload\n",
    "%autoreload 2\n",
    "\n",
    "%matplotlib inline\n",
    "import matplotlib.pyplot as plt\n",
    "\n",
    "import numpy as np\n",
    "import pandas as pd"
   ]
  },
  {
   "cell_type": "markdown",
   "metadata": {
    "papermill": {
     "duration": 0.02521,
     "end_time": "2020-10-10T20:04:23.444309",
     "exception": false,
     "start_time": "2020-10-10T20:04:23.419099",
     "status": "completed"
    },
    "tags": []
   },
   "source": [
    "### Preparing the Data"
   ]
  },
  {
   "cell_type": "code",
   "execution_count": 3,
   "metadata": {
    "execution": {
     "iopub.execute_input": "2020-10-10T20:04:23.506711Z",
     "iopub.status.busy": "2020-10-10T20:04:23.505954Z",
     "iopub.status.idle": "2020-10-10T20:04:23.513376Z",
     "shell.execute_reply": "2020-10-10T20:04:23.512880Z"
    },
    "papermill": {
     "duration": 0.042796,
     "end_time": "2020-10-10T20:04:23.513498",
     "exception": false,
     "start_time": "2020-10-10T20:04:23.470702",
     "status": "completed"
    },
    "tags": []
   },
   "outputs": [],
   "source": [
    "import mnist"
   ]
  },
  {
   "cell_type": "code",
   "execution_count": 4,
   "metadata": {
    "execution": {
     "iopub.execute_input": "2020-10-10T20:04:23.568031Z",
     "iopub.status.busy": "2020-10-10T20:04:23.567461Z",
     "iopub.status.idle": "2020-10-10T20:04:25.229023Z",
     "shell.execute_reply": "2020-10-10T20:04:25.229458Z"
    },
    "papermill": {
     "duration": 1.691008,
     "end_time": "2020-10-10T20:04:25.229607",
     "exception": false,
     "start_time": "2020-10-10T20:04:23.538599",
     "status": "completed"
    },
    "tags": []
   },
   "outputs": [],
   "source": [
    "train_images = mnist.train_images()\n",
    "train_labels = mnist.train_labels()"
   ]
  },
  {
   "cell_type": "code",
   "execution_count": 5,
   "metadata": {
    "execution": {
     "iopub.execute_input": "2020-10-10T20:04:25.285162Z",
     "iopub.status.busy": "2020-10-10T20:04:25.284573Z",
     "iopub.status.idle": "2020-10-10T20:04:25.297112Z",
     "shell.execute_reply": "2020-10-10T20:04:25.296545Z"
    },
    "papermill": {
     "duration": 0.04418,
     "end_time": "2020-10-10T20:04:25.297225",
     "exception": false,
     "start_time": "2020-10-10T20:04:25.253045",
     "status": "completed"
    },
    "tags": []
   },
   "outputs": [
    {
     "data": {
      "text/plain": [
       "((60000, 28, 28), (60000,))"
      ]
     },
     "execution_count": 5,
     "metadata": {},
     "output_type": "execute_result"
    }
   ],
   "source": [
    "train_images.shape, train_labels.shape"
   ]
  },
  {
   "cell_type": "code",
   "execution_count": 6,
   "metadata": {
    "execution": {
     "iopub.execute_input": "2020-10-10T20:04:25.365459Z",
     "iopub.status.busy": "2020-10-10T20:04:25.360270Z",
     "iopub.status.idle": "2020-10-10T20:04:26.529868Z",
     "shell.execute_reply": "2020-10-10T20:04:26.530559Z"
    },
    "papermill": {
     "duration": 1.203768,
     "end_time": "2020-10-10T20:04:26.530724",
     "exception": false,
     "start_time": "2020-10-10T20:04:25.326956",
     "status": "completed"
    },
    "tags": []
   },
   "outputs": [],
   "source": [
    "test_images = mnist.test_images()\n",
    "test_labels = mnist.test_labels()"
   ]
  },
  {
   "cell_type": "code",
   "execution_count": 7,
   "metadata": {
    "execution": {
     "iopub.execute_input": "2020-10-10T20:04:26.584963Z",
     "iopub.status.busy": "2020-10-10T20:04:26.584359Z",
     "iopub.status.idle": "2020-10-10T20:04:26.597083Z",
     "shell.execute_reply": "2020-10-10T20:04:26.596563Z"
    },
    "papermill": {
     "duration": 0.040837,
     "end_time": "2020-10-10T20:04:26.597192",
     "exception": false,
     "start_time": "2020-10-10T20:04:26.556355",
     "status": "completed"
    },
    "tags": []
   },
   "outputs": [
    {
     "data": {
      "text/plain": [
       "((10000, 28, 28), (10000,))"
      ]
     },
     "execution_count": 7,
     "metadata": {},
     "output_type": "execute_result"
    }
   ],
   "source": [
    "test_images.shape, test_labels.shape"
   ]
  },
  {
   "cell_type": "code",
   "execution_count": 8,
   "metadata": {
    "execution": {
     "iopub.execute_input": "2020-10-10T20:04:26.651994Z",
     "iopub.status.busy": "2020-10-10T20:04:26.651405Z",
     "iopub.status.idle": "2020-10-10T20:04:26.820359Z",
     "shell.execute_reply": "2020-10-10T20:04:26.819481Z"
    },
    "papermill": {
     "duration": 0.197649,
     "end_time": "2020-10-10T20:04:26.820689",
     "exception": false,
     "start_time": "2020-10-10T20:04:26.623040",
     "status": "completed"
    },
    "tags": []
   },
   "outputs": [
    {
     "name": "stdout",
     "output_type": "stream",
     "text": [
      "2\n"
     ]
    },
    {
     "data": {
      "text/plain": [
       "<matplotlib.image.AxesImage at 0x7fb57e895940>"
      ]
     },
     "execution_count": 8,
     "metadata": {},
     "output_type": "execute_result"
    },
    {
     "data": {
      "image/png": "[encoded data removed]",
      "text/plain": [
       "<Figure size 432x288 with 1 Axes>"
      ]
     },
     "metadata": {
      "needs_background": "light"
     },
     "output_type": "display_data"
    }
   ],
   "source": [
    "image_index = 7776 # You may select anything up to 60,000\n",
    "print(train_labels[image_index]) \n",
    "plt.imshow(train_images[image_index], cmap='Greys')"
   ]
  },
  {
   "cell_type": "markdown",
   "metadata": {
    "papermill": {
     "duration": 0.026174,
     "end_time": "2020-10-10T20:04:26.872915",
     "exception": false,
     "start_time": "2020-10-10T20:04:26.846741",
     "status": "completed"
    },
    "tags": []
   },
   "source": [
    "## Filter data to get 3 and 8 out"
   ]
  },
  {
   "cell_type": "code",
   "execution_count": 9,
   "metadata": {
    "execution": {
     "iopub.execute_input": "2020-10-10T20:04:26.945755Z",
     "iopub.status.busy": "2020-10-10T20:04:26.939512Z",
     "iopub.status.idle": "2020-10-10T20:04:26.955245Z",
     "shell.execute_reply": "2020-10-10T20:04:26.954761Z"
    },
    "papermill": {
     "duration": 0.048359,
     "end_time": "2020-10-10T20:04:26.955401",
     "exception": false,
     "start_time": "2020-10-10T20:04:26.907042",
     "status": "completed"
    },
    "tags": []
   },
   "outputs": [],
   "source": [
    "train_filter = np.where((train_labels == 3 ) | (train_labels == 8))\n",
    "test_filter = np.where((test_labels == 3) | (test_labels == 8))\n",
    "X_train, y_train = train_images[train_filter], train_labels[train_filter]\n",
    "X_test, y_test = test_images[test_filter], test_labels[test_filter]"
   ]
  },
  {
   "cell_type": "markdown",
   "metadata": {
    "papermill": {
     "duration": 0.028598,
     "end_time": "2020-10-10T20:04:27.012378",
     "exception": false,
     "start_time": "2020-10-10T20:04:26.983780",
     "status": "completed"
    },
    "tags": []
   },
   "source": [
    "We normalize the pixel values in the 0 to 1 range"
   ]
  },
  {
   "cell_type": "code",
   "execution_count": 10,
   "metadata": {
    "execution": {
     "iopub.execute_input": "2020-10-10T20:04:27.094150Z",
     "iopub.status.busy": "2020-10-10T20:04:27.093594Z",
     "iopub.status.idle": "2020-10-10T20:04:27.136931Z",
     "shell.execute_reply": "2020-10-10T20:04:27.136372Z"
    },
    "papermill": {
     "duration": 0.095775,
     "end_time": "2020-10-10T20:04:27.137087",
     "exception": false,
     "start_time": "2020-10-10T20:04:27.041312",
     "status": "completed"
    },
    "tags": []
   },
   "outputs": [],
   "source": [
    "X_train = X_train/255.\n",
    "X_test = X_test/255."
   ]
  },
  {
   "cell_type": "markdown",
   "metadata": {
    "papermill": {
     "duration": 0.026856,
     "end_time": "2020-10-10T20:04:27.192118",
     "exception": false,
     "start_time": "2020-10-10T20:04:27.165262",
     "status": "completed"
    },
    "tags": []
   },
   "source": [
    "Setup the labels as 1 (when the digit is 3) and 0 (when the digit is 8)"
   ]
  },
  {
   "cell_type": "code",
   "execution_count": 11,
   "metadata": {
    "execution": {
     "iopub.execute_input": "2020-10-10T20:04:27.257533Z",
     "iopub.status.busy": "2020-10-10T20:04:27.256942Z",
     "iopub.status.idle": "2020-10-10T20:04:27.266874Z",
     "shell.execute_reply": "2020-10-10T20:04:27.266425Z"
    },
    "papermill": {
     "duration": 0.045121,
     "end_time": "2020-10-10T20:04:27.266987",
     "exception": false,
     "start_time": "2020-10-10T20:04:27.221866",
     "status": "completed"
    },
    "tags": []
   },
   "outputs": [],
   "source": [
    "y_train = 1*(y_train==3)\n",
    "y_test = 1*(y_test==3)"
   ]
  },
  {
   "cell_type": "code",
   "execution_count": 12,
   "metadata": {
    "execution": {
     "iopub.execute_input": "2020-10-10T20:04:27.323904Z",
     "iopub.status.busy": "2020-10-10T20:04:27.323315Z",
     "iopub.status.idle": "2020-10-10T20:04:27.334936Z",
     "shell.execute_reply": "2020-10-10T20:04:27.335441Z"
    },
    "papermill": {
     "duration": 0.042024,
     "end_time": "2020-10-10T20:04:27.335571",
     "exception": false,
     "start_time": "2020-10-10T20:04:27.293547",
     "status": "completed"
    },
    "tags": []
   },
   "outputs": [
    {
     "data": {
      "text/plain": [
       "((11982, 28, 28), (1984, 28, 28))"
      ]
     },
     "execution_count": 12,
     "metadata": {},
     "output_type": "execute_result"
    }
   ],
   "source": [
    "X_train.shape, X_test.shape"
   ]
  },
  {
   "cell_type": "markdown",
   "metadata": {
    "papermill": {
     "duration": 0.033716,
     "end_time": "2020-10-10T20:04:27.395472",
     "exception": false,
     "start_time": "2020-10-10T20:04:27.361756",
     "status": "completed"
    },
    "tags": []
   },
   "source": [
    "### Reshape the input data to create a linear array"
   ]
  },
  {
   "cell_type": "code",
   "execution_count": 13,
   "metadata": {
    "execution": {
     "iopub.execute_input": "2020-10-10T20:04:27.605303Z",
     "iopub.status.busy": "2020-10-10T20:04:27.604632Z",
     "iopub.status.idle": "2020-10-10T20:04:27.619909Z",
     "shell.execute_reply": "2020-10-10T20:04:27.619444Z"
    },
    "papermill": {
     "duration": 0.046719,
     "end_time": "2020-10-10T20:04:27.620044",
     "exception": false,
     "start_time": "2020-10-10T20:04:27.573325",
     "status": "completed"
    },
    "tags": []
   },
   "outputs": [
    {
     "data": {
      "text/plain": [
       "((11982, 784), (1984, 784))"
      ]
     },
     "execution_count": 13,
     "metadata": {},
     "output_type": "execute_result"
    }
   ],
   "source": [
    "X_train = X_train.reshape(X_train.shape[0], -1)\n",
    "X_test = X_test.reshape(X_test.shape[0], -1)\n",
    "X_train.shape, X_test.shape"
   ]
  },
  {
   "cell_type": "markdown",
   "metadata": {
    "papermill": {
     "duration": 0.027509,
     "end_time": "2020-10-10T20:04:27.675205",
     "exception": false,
     "start_time": "2020-10-10T20:04:27.647696",
     "status": "completed"
    },
    "tags": []
   },
   "source": [
    "### Importing appropriate functions from 'Kudzu'"
   ]
  },
  {
   "cell_type": "code",
   "execution_count": 14,
   "metadata": {
    "execution": {
     "iopub.execute_input": "2020-10-10T20:04:27.731089Z",
     "iopub.status.busy": "2020-10-10T20:04:27.730539Z",
     "iopub.status.idle": "2020-10-10T20:04:27.754635Z",
     "shell.execute_reply": "2020-10-10T20:04:27.755276Z"
    },
    "papermill": {
     "duration": 0.054603,
     "end_time": "2020-10-10T20:04:27.755520",
     "exception": false,
     "start_time": "2020-10-10T20:04:27.700917",
     "status": "completed"
    },
    "tags": []
   },
   "outputs": [],
   "source": [
    "from kudzu.layer import Sigmoid\n",
    "from kudzu.layer import Relu\n",
    "from kudzu.layer import Affine, Sigmoid\n",
    "\n",
    "from kudzu.model import Model\n",
    "from kudzu.train import Learner\n",
    "from kudzu.optim import GD\n",
    "from kudzu.data import Data, Dataloader, Sampler\n",
    "\n",
    "from kudzu.callbacks import AccCallback\n",
    "from kudzu.callbacks import ClfCallback\n",
    "\n",
    "from kudzu.loss import MSE"
   ]
  },
  {
   "cell_type": "markdown",
   "metadata": {
    "papermill": {
     "duration": 0.027306,
     "end_time": "2020-10-10T20:04:27.810710",
     "exception": false,
     "start_time": "2020-10-10T20:04:27.783404",
     "status": "completed"
    },
    "tags": []
   },
   "source": [
    "### Let us create a `Config` class, to store important parameters. \n",
    "This class essentially plays the role of a dictionary."
   ]
  },
  {
   "cell_type": "code",
   "execution_count": 15,
   "metadata": {
    "execution": {
     "iopub.execute_input": "2020-10-10T20:04:27.872782Z",
     "iopub.status.busy": "2020-10-10T20:04:27.872175Z",
     "iopub.status.idle": "2020-10-10T20:04:27.884638Z",
     "shell.execute_reply": "2020-10-10T20:04:27.885350Z"
    },
    "papermill": {
     "duration": 0.047147,
     "end_time": "2020-10-10T20:04:27.885508",
     "exception": false,
     "start_time": "2020-10-10T20:04:27.838361",
     "status": "completed"
    },
    "tags": []
   },
   "outputs": [],
   "source": [
    "class Config:\n",
    "    pass\n",
    "config = Config()\n",
    "config.lr = 0.001\n",
    "config.num_epochs = 251\n",
    "config.bs = 50"
   ]
  },
  {
   "cell_type": "markdown",
   "metadata": {
    "papermill": {
     "duration": 0.030551,
     "end_time": "2020-10-10T20:04:27.947115",
     "exception": false,
     "start_time": "2020-10-10T20:04:27.916564",
     "status": "completed"
    },
    "tags": []
   },
   "source": [
    "### Initializing data to the variables"
   ]
  },
  {
   "cell_type": "code",
   "execution_count": 16,
   "metadata": {
    "execution": {
     "iopub.execute_input": "2020-10-10T20:04:28.006892Z",
     "iopub.status.busy": "2020-10-10T20:04:28.006285Z",
     "iopub.status.idle": "2020-10-10T20:04:28.018884Z",
     "shell.execute_reply": "2020-10-10T20:04:28.018406Z"
    },
    "papermill": {
     "duration": 0.043551,
     "end_time": "2020-10-10T20:04:28.019013",
     "exception": false,
     "start_time": "2020-10-10T20:04:27.975462",
     "status": "completed"
    },
    "tags": []
   },
   "outputs": [],
   "source": [
    "data = Data(X_train, y_train.reshape(-1,1))\n",
    "sampler = Sampler(data, config.bs, shuffle=True)\n",
    "\n",
    "dl = Dataloader(data, sampler)\n",
    "\n",
    "opt = GD(config.lr)\n",
    "loss = MSE()"
   ]
  },
  {
   "cell_type": "code",
   "execution_count": 17,
   "metadata": {
    "execution": {
     "iopub.execute_input": "2020-10-10T20:04:28.087447Z",
     "iopub.status.busy": "2020-10-10T20:04:28.086899Z",
     "iopub.status.idle": "2020-10-10T20:04:28.097521Z",
     "shell.execute_reply": "2020-10-10T20:04:28.096975Z"
    },
    "papermill": {
     "duration": 0.051599,
     "end_time": "2020-10-10T20:04:28.097635",
     "exception": false,
     "start_time": "2020-10-10T20:04:28.046036",
     "status": "completed"
    },
    "tags": []
   },
   "outputs": [],
   "source": [
    "training_xdata = X_train\n",
    "testing_xdata = X_test\n",
    "training_ydata = y_train.reshape(-1,1)\n",
    "testing_ydata = y_test.reshape(-1,1)"
   ]
  },
  {
   "cell_type": "markdown",
   "metadata": {
    "papermill": {
     "duration": 0.033092,
     "end_time": "2020-10-10T20:04:28.161259",
     "exception": false,
     "start_time": "2020-10-10T20:04:28.128167",
     "status": "completed"
    },
    "tags": []
   },
   "source": [
    "### Running Models with the Training data\n",
    "Details about the network layers:\n",
    "- A first affine layer has 784 inputs and does 100 affine transforms. These are followed by a Relu\n",
    "- A second affine layer has 100 inputs from the 100 activations of the past layer, and does 100 affine transforms. These are followed by a Relu\n",
    "- A third affine layer has 100 activations and does 2 affine transformations to create an embedding for visualization. There is no non-linearity here.\n",
    "- A final \"logistic regression\" which has an affine transform from 2 inputs to 1 output, which is squeezed through a sigmoid.\n",
    "\n",
    "Help taken from Anshuman's Notebook."
   ]
  },
  {
   "cell_type": "code",
   "execution_count": 18,
   "metadata": {
    "execution": {
     "iopub.execute_input": "2020-10-10T20:04:28.221413Z",
     "iopub.status.busy": "2020-10-10T20:04:28.220764Z",
     "iopub.status.idle": "2020-10-10T20:04:28.236566Z",
     "shell.execute_reply": "2020-10-10T20:04:28.236078Z"
    },
    "papermill": {
     "duration": 0.047525,
     "end_time": "2020-10-10T20:04:28.236674",
     "exception": false,
     "start_time": "2020-10-10T20:04:28.189149",
     "status": "completed"
    },
    "tags": []
   },
   "outputs": [],
   "source": [
    "# layers for the Neural Network\n",
    "layers = [Affine(\"first\", 784, 100), Relu(\"first\"), Affine(\"second\", 100, 100), Relu(\"second\"), Affine(\"third\", 100, 2), Affine(\"final\", 2, 1), Sigmoid(\"final\")]\n",
    "model_nn = Model(layers)\n",
    "\n",
    "# layers for the Logistic Regression\n",
    "layers_lr = [Affine(\"logits\", 784, 1), Sigmoid(\"sigmoid\")]\n",
    "model_lr = Model(layers_lr)"
   ]
  },
  {
   "cell_type": "code",
   "execution_count": 19,
   "metadata": {
    "execution": {
     "iopub.execute_input": "2020-10-10T20:04:28.294490Z",
     "iopub.status.busy": "2020-10-10T20:04:28.293927Z",
     "iopub.status.idle": "2020-10-10T20:04:28.305419Z",
     "shell.execute_reply": "2020-10-10T20:04:28.304750Z"
    },
    "papermill": {
     "duration": 0.041521,
     "end_time": "2020-10-10T20:04:28.305534",
     "exception": false,
     "start_time": "2020-10-10T20:04:28.264013",
     "status": "completed"
    },
    "tags": []
   },
   "outputs": [],
   "source": [
    "# suffix _nn stands for Neural Network.\n",
    "learner_nn = Learner(loss, model_nn, opt, config.num_epochs)\n",
    "acc_nn = ClfCallback(learner_nn, config.bs, training_xdata , testing_xdata, training_ydata, testing_ydata)\n",
    "learner_nn.set_callbacks([acc_nn])"
   ]
  },
  {
   "cell_type": "code",
   "execution_count": 20,
   "metadata": {
    "execution": {
     "iopub.execute_input": "2020-10-10T20:04:28.361194Z",
     "iopub.status.busy": "2020-10-10T20:04:28.360608Z",
     "iopub.status.idle": "2020-10-10T20:06:42.120506Z",
     "shell.execute_reply": "2020-10-10T20:06:42.121491Z"
    },
    "papermill": {
     "duration": 133.790582,
     "end_time": "2020-10-10T20:06:42.121667",
     "exception": false,
     "start_time": "2020-10-10T20:04:28.331085",
     "status": "completed"
    },
    "tags": []
   },
   "outputs": [
    {
     "name": "stdout",
     "output_type": "stream",
     "text": [
      "====== Neural Network ======\n"
     ]
    },
    {
     "name": "stdout",
     "output_type": "stream",
     "text": [
      "Epoch 0, Loss 0.2441\n",
      "Training Accuracy: 0.6407, Testing Accuracy: 0.6164\n",
      "\n"
     ]
    },
    {
     "name": "stdout",
     "output_type": "stream",
     "text": [
      "Epoch 10, Loss 0.1659\n",
      "Training Accuracy: 0.8676, Testing Accuracy: 0.8826\n",
      "\n"
     ]
    },
    {
     "name": "stdout",
     "output_type": "stream",
     "text": [
      "Epoch 20, Loss 0.0867\n",
      "Training Accuracy: 0.9112, Testing Accuracy: 0.9209\n",
      "\n"
     ]
    },
    {
     "name": "stdout",
     "output_type": "stream",
     "text": [
      "Epoch 30, Loss 0.0591\n",
      "Training Accuracy: 0.9358, Testing Accuracy: 0.9435\n",
      "\n"
     ]
    },
    {
     "name": "stdout",
     "output_type": "stream",
     "text": [
      "Epoch 40, Loss 0.047\n",
      "Training Accuracy: 0.9478, Testing Accuracy: 0.9561\n",
      "\n"
     ]
    },
    {
     "name": "stdout",
     "output_type": "stream",
     "text": [
      "Epoch 50, Loss 0.0406\n",
      "Training Accuracy: 0.9535, Testing Accuracy: 0.9632\n",
      "\n"
     ]
    },
    {
     "name": "stdout",
     "output_type": "stream",
     "text": [
      "Epoch 60, Loss 0.0366\n",
      "Training Accuracy: 0.9571, Testing Accuracy: 0.9662\n",
      "\n"
     ]
    },
    {
     "name": "stdout",
     "output_type": "stream",
     "text": [
      "Epoch 70, Loss 0.0338\n",
      "Training Accuracy: 0.9599, Testing Accuracy: 0.9677\n",
      "\n"
     ]
    },
    {
     "name": "stdout",
     "output_type": "stream",
     "text": [
      "Epoch 80, Loss 0.0318\n",
      "Training Accuracy: 0.9629, Testing Accuracy: 0.9677\n",
      "\n"
     ]
    },
    {
     "name": "stdout",
     "output_type": "stream",
     "text": [
      "Epoch 90, Loss 0.0301\n",
      "Training Accuracy: 0.9650, Testing Accuracy: 0.9682\n",
      "\n"
     ]
    },
    {
     "name": "stdout",
     "output_type": "stream",
     "text": [
      "Epoch 100, Loss 0.0288\n",
      "Training Accuracy: 0.9664, Testing Accuracy: 0.9688\n",
      "\n"
     ]
    },
    {
     "name": "stdout",
     "output_type": "stream",
     "text": [
      "Epoch 110, Loss 0.0276\n",
      "Training Accuracy: 0.9675, Testing Accuracy: 0.9688\n",
      "\n"
     ]
    },
    {
     "name": "stdout",
     "output_type": "stream",
     "text": [
      "Epoch 120, Loss 0.0266\n",
      "Training Accuracy: 0.9687, Testing Accuracy: 0.9688\n",
      "\n"
     ]
    },
    {
     "name": "stdout",
     "output_type": "stream",
     "text": [
      "Epoch 130, Loss 0.0257\n",
      "Training Accuracy: 0.9700, Testing Accuracy: 0.9693\n",
      "\n"
     ]
    },
    {
     "name": "stdout",
     "output_type": "stream",
     "text": [
      "Epoch 140, Loss 0.0249\n",
      "Training Accuracy: 0.9712, Testing Accuracy: 0.9708\n",
      "\n"
     ]
    },
    {
     "name": "stdout",
     "output_type": "stream",
     "text": [
      "Epoch 150, Loss 0.0242\n",
      "Training Accuracy: 0.9720, Testing Accuracy: 0.9718\n",
      "\n"
     ]
    },
    {
     "name": "stdout",
     "output_type": "stream",
     "text": [
      "Epoch 160, Loss 0.0235\n",
      "Training Accuracy: 0.9730, Testing Accuracy: 0.9718\n",
      "\n"
     ]
    },
    {
     "name": "stdout",
     "output_type": "stream",
     "text": [
      "Epoch 170, Loss 0.0229\n",
      "Training Accuracy: 0.9732, Testing Accuracy: 0.9723\n",
      "\n"
     ]
    },
    {
     "name": "stdout",
     "output_type": "stream",
     "text": [
      "Epoch 180, Loss 0.0223\n",
      "Training Accuracy: 0.9738, Testing Accuracy: 0.9738\n",
      "\n"
     ]
    },
    {
     "name": "stdout",
     "output_type": "stream",
     "text": [
      "Epoch 190, Loss 0.0218\n",
      "Training Accuracy: 0.9745, Testing Accuracy: 0.9748\n",
      "\n"
     ]
    },
    {
     "name": "stdout",
     "output_type": "stream",
     "text": [
      "Epoch 200, Loss 0.0212\n",
      "Training Accuracy: 0.9753, Testing Accuracy: 0.9748\n",
      "\n"
     ]
    },
    {
     "name": "stdout",
     "output_type": "stream",
     "text": [
      "Epoch 210, Loss 0.0208\n",
      "Training Accuracy: 0.9761, Testing Accuracy: 0.9743\n",
      "\n"
     ]
    },
    {
     "name": "stdout",
     "output_type": "stream",
     "text": [
      "Epoch 220, Loss 0.0203\n",
      "Training Accuracy: 0.9766, Testing Accuracy: 0.9743\n",
      "\n"
     ]
    },
    {
     "name": "stdout",
     "output_type": "stream",
     "text": [
      "Epoch 230, Loss 0.0198\n",
      "Training Accuracy: 0.9771, Testing Accuracy: 0.9748\n",
      "\n"
     ]
    },
    {
     "name": "stdout",
     "output_type": "stream",
     "text": [
      "Epoch 240, Loss 0.0194\n",
      "Training Accuracy: 0.9779, Testing Accuracy: 0.9748\n",
      "\n"
     ]
    },
    {
     "name": "stdout",
     "output_type": "stream",
     "text": [
      "Epoch 250, Loss 0.019\n",
      "Training Accuracy: 0.9785, Testing Accuracy: 0.9748\n",
      "\n"
     ]
    },
    {
     "data": {
      "text/plain": [
       "0.037815226505076814"
      ]
     },
     "execution_count": 20,
     "metadata": {},
     "output_type": "execute_result"
    }
   ],
   "source": [
    "print(\"====== Neural Network ======\")\n",
    "learner_nn.train_loop(dl)"
   ]
  },
  {
   "cell_type": "markdown",
   "metadata": {
    "papermill": {
     "duration": 0.039106,
     "end_time": "2020-10-10T20:06:42.199098",
     "exception": false,
     "start_time": "2020-10-10T20:06:42.159992",
     "status": "completed"
    },
    "tags": []
   },
   "source": [
    "### Logistic Regression based Implementation."
   ]
  },
  {
   "cell_type": "code",
   "execution_count": 21,
   "metadata": {
    "execution": {
     "iopub.execute_input": "2020-10-10T20:06:42.280547Z",
     "iopub.status.busy": "2020-10-10T20:06:42.279901Z",
     "iopub.status.idle": "2020-10-10T20:06:42.292125Z",
     "shell.execute_reply": "2020-10-10T20:06:42.291587Z"
    },
    "papermill": {
     "duration": 0.055378,
     "end_time": "2020-10-10T20:06:42.292273",
     "exception": false,
     "start_time": "2020-10-10T20:06:42.236895",
     "status": "completed"
    },
    "tags": []
   },
   "outputs": [],
   "source": [
    "learner_lr = Learner(loss, model_lr, opt, config.num_epochs)\n",
    "acc_lr = ClfCallback(learner_lr, config.bs, training_xdata , testing_xdata, training_ydata, testing_ydata)\n",
    "learner_lr.set_callbacks([acc_lr])"
   ]
  },
  {
   "cell_type": "code",
   "execution_count": 22,
   "metadata": {
    "execution": {
     "iopub.execute_input": "2020-10-10T20:06:42.380318Z",
     "iopub.status.busy": "2020-10-10T20:06:42.379691Z",
     "iopub.status.idle": "2020-10-10T20:07:01.843033Z",
     "shell.execute_reply": "2020-10-10T20:07:01.843479Z"
    },
    "papermill": {
     "duration": 19.505937,
     "end_time": "2020-10-10T20:07:01.843637",
     "exception": false,
     "start_time": "2020-10-10T20:06:42.337700",
     "status": "completed"
    },
    "tags": []
   },
   "outputs": [
    {
     "name": "stdout",
     "output_type": "stream",
     "text": [
      "====== Logistic Regression ======\n",
      "Epoch 0, Loss 0.2574\n",
      "Training Accuracy: 0.6177, Testing Accuracy: 0.6421\n",
      "\n"
     ]
    },
    {
     "name": "stdout",
     "output_type": "stream",
     "text": [
      "Epoch 10, Loss 0.104\n",
      "Training Accuracy: 0.9094, Testing Accuracy: 0.9224\n",
      "\n"
     ]
    },
    {
     "name": "stdout",
     "output_type": "stream",
     "text": [
      "Epoch 20, Loss 0.0797\n",
      "Training Accuracy: 0.9272, Testing Accuracy: 0.9425\n",
      "\n"
     ]
    },
    {
     "name": "stdout",
     "output_type": "stream",
     "text": [
      "Epoch 30, Loss 0.0686\n",
      "Training Accuracy: 0.9359, Testing Accuracy: 0.9491\n",
      "\n"
     ]
    },
    {
     "name": "stdout",
     "output_type": "stream",
     "text": [
      "Epoch 40, Loss 0.0619\n",
      "Training Accuracy: 0.9407, Testing Accuracy: 0.9526\n",
      "\n"
     ]
    },
    {
     "name": "stdout",
     "output_type": "stream",
     "text": [
      "Epoch 50, Loss 0.0573\n",
      "Training Accuracy: 0.9443, Testing Accuracy: 0.9541\n",
      "\n"
     ]
    },
    {
     "name": "stdout",
     "output_type": "stream",
     "text": [
      "Epoch 60, Loss 0.054\n",
      "Training Accuracy: 0.9455, Testing Accuracy: 0.9567\n",
      "\n"
     ]
    },
    {
     "name": "stdout",
     "output_type": "stream",
     "text": [
      "Epoch 70, Loss 0.0514\n",
      "Training Accuracy: 0.9480, Testing Accuracy: 0.9587\n",
      "\n"
     ]
    },
    {
     "name": "stdout",
     "output_type": "stream",
     "text": [
      "Epoch 80, Loss 0.0493\n",
      "Training Accuracy: 0.9498, Testing Accuracy: 0.9602\n",
      "\n"
     ]
    },
    {
     "name": "stdout",
     "output_type": "stream",
     "text": [
      "Epoch 90, Loss 0.0476\n",
      "Training Accuracy: 0.9511, Testing Accuracy: 0.9612\n",
      "\n"
     ]
    },
    {
     "name": "stdout",
     "output_type": "stream",
     "text": [
      "Epoch 100, Loss 0.0462\n",
      "Training Accuracy: 0.9522, Testing Accuracy: 0.9617\n",
      "\n"
     ]
    },
    {
     "name": "stdout",
     "output_type": "stream",
     "text": [
      "Epoch 110, Loss 0.0449\n",
      "Training Accuracy: 0.9535, Testing Accuracy: 0.9622\n",
      "\n"
     ]
    },
    {
     "name": "stdout",
     "output_type": "stream",
     "text": [
      "Epoch 120, Loss 0.0439\n",
      "Training Accuracy: 0.9542, Testing Accuracy: 0.9637\n",
      "\n"
     ]
    },
    {
     "name": "stdout",
     "output_type": "stream",
     "text": [
      "Epoch 130, Loss 0.0429\n",
      "Training Accuracy: 0.9548, Testing Accuracy: 0.9642\n",
      "\n"
     ]
    },
    {
     "name": "stdout",
     "output_type": "stream",
     "text": [
      "Epoch 140, Loss 0.0421\n",
      "Training Accuracy: 0.9558, Testing Accuracy: 0.9647\n",
      "\n"
     ]
    },
    {
     "name": "stdout",
     "output_type": "stream",
     "text": [
      "Epoch 150, Loss 0.0413\n",
      "Training Accuracy: 0.9564, Testing Accuracy: 0.9652\n",
      "\n"
     ]
    },
    {
     "name": "stdout",
     "output_type": "stream",
     "text": [
      "Epoch 160, Loss 0.0406\n",
      "Training Accuracy: 0.9569, Testing Accuracy: 0.9657\n",
      "\n"
     ]
    },
    {
     "name": "stdout",
     "output_type": "stream",
     "text": [
      "Epoch 170, Loss 0.04\n",
      "Training Accuracy: 0.9570, Testing Accuracy: 0.9662\n",
      "\n"
     ]
    },
    {
     "name": "stdout",
     "output_type": "stream",
     "text": [
      "Epoch 180, Loss 0.0395\n",
      "Training Accuracy: 0.9579, Testing Accuracy: 0.9662\n",
      "\n"
     ]
    },
    {
     "name": "stdout",
     "output_type": "stream",
     "text": [
      "Epoch 190, Loss 0.039\n",
      "Training Accuracy: 0.9581, Testing Accuracy: 0.9677\n",
      "\n"
     ]
    },
    {
     "name": "stdout",
     "output_type": "stream",
     "text": [
      "Epoch 200, Loss 0.0385\n",
      "Training Accuracy: 0.9584, Testing Accuracy: 0.9677\n",
      "\n"
     ]
    },
    {
     "name": "stdout",
     "output_type": "stream",
     "text": [
      "Epoch 210, Loss 0.038\n",
      "Training Accuracy: 0.9587, Testing Accuracy: 0.9677\n",
      "\n"
     ]
    },
    {
     "name": "stdout",
     "output_type": "stream",
     "text": [
      "Epoch 220, Loss 0.0376\n",
      "Training Accuracy: 0.9591, Testing Accuracy: 0.9682\n",
      "\n"
     ]
    },
    {
     "name": "stdout",
     "output_type": "stream",
     "text": [
      "Epoch 230, Loss 0.0372\n",
      "Training Accuracy: 0.9594, Testing Accuracy: 0.9682\n",
      "\n"
     ]
    },
    {
     "name": "stdout",
     "output_type": "stream",
     "text": [
      "Epoch 240, Loss 0.0369\n",
      "Training Accuracy: 0.9597, Testing Accuracy: 0.9682\n",
      "\n"
     ]
    },
    {
     "name": "stdout",
     "output_type": "stream",
     "text": [
      "Epoch 250, Loss 0.0365\n",
      "Training Accuracy: 0.9600, Testing Accuracy: 0.9682\n",
      "\n"
     ]
    },
    {
     "data": {
      "text/plain": [
       "0.016574159177115685"
      ]
     },
     "execution_count": 22,
     "metadata": {},
     "output_type": "execute_result"
    }
   ],
   "source": [
    "print(\"====== Logistic Regression ======\")\n",
    "learner_lr.train_loop(dl)"
   ]
  },
  {
   "cell_type": "markdown",
   "metadata": {
    "papermill": {
     "duration": 0.040357,
     "end_time": "2020-10-10T20:07:01.926879",
     "exception": false,
     "start_time": "2020-10-10T20:07:01.886522",
     "status": "completed"
    },
    "tags": []
   },
   "source": [
    "### Comparing results of NN and LR"
   ]
  },
  {
   "cell_type": "code",
   "execution_count": 23,
   "metadata": {
    "execution": {
     "iopub.execute_input": "2020-10-10T20:07:02.024856Z",
     "iopub.status.busy": "2020-10-10T20:07:02.023986Z",
     "iopub.status.idle": "2020-10-10T20:07:02.279770Z",
     "shell.execute_reply": "2020-10-10T20:07:02.279279Z"
    },
    "papermill": {
     "duration": 0.310665,
     "end_time": "2020-10-10T20:07:02.279901",
     "exception": false,
     "start_time": "2020-10-10T20:07:01.969236",
     "status": "completed"
    },
    "tags": []
   },
   "outputs": [
    {
     "data": {
      "text/plain": [
       "<matplotlib.legend.Legend at 0x7fb577c4b0f0>"
      ]
     },
     "execution_count": 23,
     "metadata": {},
     "output_type": "execute_result"
    },
    {
     "data": {
      "image/png": "[encoded data removed]",
      "text/plain": [
       "<Figure size 1080x720 with 1 Axes>"
      ]
     },
     "metadata": {
      "needs_background": "light"
     },
     "output_type": "display_data"
    }
   ],
   "source": [
    "plt.figure(figsize=(15,10))\n",
    "\n",
    "# Neural Network plots\n",
    "plt.plot(acc_nn.accuracies, 'r-', label = \"Training Accuracies - NN\")\n",
    "plt.plot(acc_nn.test_accuracies, 'g-', label = \"Testing Accuracies - NN\")\n",
    "\n",
    "# Logistic Regression plots\n",
    "plt.plot(acc_lr.accuracies, 'k-', label = \"Training Accuracies - LR\")\n",
    "plt.plot(acc_lr.test_accuracies, 'b-', label = \"Testing Accuracies - LR\")\n",
    "\n",
    "plt.ylim(0.8, 1)\n",
    "\n",
    "plt.legend()\n",
    "\n"
   ]
  },
  {
   "cell_type": "markdown",
   "metadata": {
    "papermill": {
     "duration": 0.042336,
     "end_time": "2020-10-10T20:07:02.365495",
     "exception": false,
     "start_time": "2020-10-10T20:07:02.323159",
     "status": "completed"
    },
    "tags": []
   },
   "source": [
    "### From the plot, we can observe the following:\n",
    "- Neural Network achieves higher accuracy than the Logistic Regression model.\n",
    "- This apparently, is because of overfitting, i.e. NN captures more noise than data.\n",
    "- Testing accuracy of NN drops below the Training accuracy at higher epochs. This explains the over-fitting on training data.\n",
    "- Logistic Regression gives a reliable accuracy, without the above mentioned problem.\n"
   ]
  },
  {
   "cell_type": "markdown",
   "metadata": {
    "papermill": {
     "duration": 0.041517,
     "end_time": "2020-10-10T20:07:02.448570",
     "exception": false,
     "start_time": "2020-10-10T20:07:02.407053",
     "status": "completed"
    },
    "tags": []
   },
   "source": [
    "### Moving till the last but one layer (excluding it).\n",
    "#### Plotting the outputs of this layer of the NN."
   ]
  },
  {
   "cell_type": "code",
   "execution_count": 24,
   "metadata": {
    "execution": {
     "iopub.execute_input": "2020-10-10T20:07:02.536913Z",
     "iopub.status.busy": "2020-10-10T20:07:02.536109Z",
     "iopub.status.idle": "2020-10-10T20:07:02.547222Z",
     "shell.execute_reply": "2020-10-10T20:07:02.547670Z"
    },
    "papermill": {
     "duration": 0.056574,
     "end_time": "2020-10-10T20:07:02.547798",
     "exception": false,
     "start_time": "2020-10-10T20:07:02.491224",
     "status": "completed"
    },
    "tags": []
   },
   "outputs": [],
   "source": [
    "model_new = Model(layers[:-2])"
   ]
  },
  {
   "cell_type": "code",
   "execution_count": 25,
   "metadata": {
    "execution": {
     "iopub.execute_input": "2020-10-10T20:07:02.641101Z",
     "iopub.status.busy": "2020-10-10T20:07:02.640518Z",
     "iopub.status.idle": "2020-10-10T20:07:02.669594Z",
     "shell.execute_reply": "2020-10-10T20:07:02.670370Z"
    },
    "papermill": {
     "duration": 0.078949,
     "end_time": "2020-10-10T20:07:02.670516",
     "exception": false,
     "start_time": "2020-10-10T20:07:02.591567",
     "status": "completed"
    },
    "tags": []
   },
   "outputs": [],
   "source": [
    "plot_testing = model_new(testing_xdata)"
   ]
  },
  {
   "cell_type": "code",
   "execution_count": 26,
   "metadata": {
    "execution": {
     "iopub.execute_input": "2020-10-10T20:07:02.764714Z",
     "iopub.status.busy": "2020-10-10T20:07:02.764100Z",
     "iopub.status.idle": "2020-10-10T20:07:02.970511Z",
     "shell.execute_reply": "2020-10-10T20:07:02.970961Z"
    },
    "papermill": {
     "duration": 0.254835,
     "end_time": "2020-10-10T20:07:02.971114",
     "exception": false,
     "start_time": "2020-10-10T20:07:02.716279",
     "status": "completed"
    },
    "tags": []
   },
   "outputs": [
    {
     "data": {
      "text/plain": [
       "Text(0.5, 1.0, 'Outputs')"
      ]
     },
     "execution_count": 26,
     "metadata": {},
     "output_type": "execute_result"
    },
    {
     "data": {
      "image/png": "[encoded data removed]",
      "text/plain": [
       "<Figure size 576x504 with 1 Axes>"
      ]
     },
     "metadata": {
      "needs_background": "light"
     },
     "output_type": "display_data"
    }
   ],
   "source": [
    "plt.figure(figsize=(8,7))\n",
    "plt.scatter(plot_testing[:,0], plot_testing[:,1], alpha = 0.1, c = y_test.ravel());\n",
    "plt.title('Outputs')"
   ]
  },
  {
   "cell_type": "markdown",
   "metadata": {
    "papermill": {
     "duration": 0.050348,
     "end_time": "2020-10-10T20:07:03.066577",
     "exception": false,
     "start_time": "2020-10-10T20:07:03.016229",
     "status": "completed"
    },
    "tags": []
   },
   "source": [
    "### Plotting probability contours"
   ]
  },
  {
   "cell_type": "code",
   "execution_count": 27,
   "metadata": {
    "execution": {
     "iopub.execute_input": "2020-10-10T20:07:03.167386Z",
     "iopub.status.busy": "2020-10-10T20:07:03.166560Z",
     "iopub.status.idle": "2020-10-10T20:07:03.182264Z",
     "shell.execute_reply": "2020-10-10T20:07:03.183172Z"
    },
    "papermill": {
     "duration": 0.069423,
     "end_time": "2020-10-10T20:07:03.183316",
     "exception": false,
     "start_time": "2020-10-10T20:07:03.113893",
     "status": "completed"
    },
    "tags": []
   },
   "outputs": [],
   "source": [
    "model_prob = Model(layers[-2:]) "
   ]
  },
  {
   "cell_type": "code",
   "execution_count": 28,
   "metadata": {
    "execution": {
     "iopub.execute_input": "2020-10-10T20:07:03.291451Z",
     "iopub.status.busy": "2020-10-10T20:07:03.281526Z",
     "iopub.status.idle": "2020-10-10T20:07:03.299774Z",
     "shell.execute_reply": "2020-10-10T20:07:03.299212Z"
    },
    "papermill": {
     "duration": 0.068914,
     "end_time": "2020-10-10T20:07:03.299901",
     "exception": false,
     "start_time": "2020-10-10T20:07:03.230987",
     "status": "completed"
    },
    "tags": []
   },
   "outputs": [],
   "source": [
    "# Adjust the x and y ranges according to the above generated plot.\n",
    "x_range = np.linspace(-4, 1, 100) \n",
    "y_range = np.linspace(-6, 6, 100) \n",
    "x_grid, y_grid = np.meshgrid(x_range, y_range) # x_grid and y_grig are of size 100 X 100\n",
    "\n",
    "# converting x_grid and y_grid to continuous arrays\n",
    "x_grid_flat = np.ravel(x_grid)\n",
    "y_grid_flat = np.ravel(y_grid)\n",
    "\n",
    "# The last layer of the current model takes two columns as input. Hence transpose of np.vstack() is required.\n",
    "X = np.vstack((x_grid_flat, y_grid_flat)).T\n",
    "\n",
    "# x_grid and y_grid are of size 100 x 100\n",
    "probability_contour = model_prob(X).reshape(100,100) "
   ]
  },
  {
   "cell_type": "code",
   "execution_count": 29,
   "metadata": {
    "execution": {
     "iopub.execute_input": "2020-10-10T20:07:03.400680Z",
     "iopub.status.busy": "2020-10-10T20:07:03.399862Z",
     "iopub.status.idle": "2020-10-10T20:07:03.675830Z",
     "shell.execute_reply": "2020-10-10T20:07:03.675338Z"
    },
    "papermill": {
     "duration": 0.326969,
     "end_time": "2020-10-10T20:07:03.675955",
     "exception": false,
     "start_time": "2020-10-10T20:07:03.348986",
     "status": "completed"
    },
    "tags": []
   },
   "outputs": [
    {
     "data": {
      "image/png": "[encoded data removed]",
      "text/plain": [
       "<Figure size 720x648 with 1 Axes>"
      ]
     },
     "metadata": {
      "needs_background": "light"
     },
     "output_type": "display_data"
    }
   ],
   "source": [
    "plt.figure(figsize=(10,9))\n",
    "plt.scatter(plot_testing[:,0], plot_testing[:,1], alpha = 0.1, c = y_test.ravel())\n",
    "contours = plt.contour(x_grid,y_grid,probability_contour)\n",
    "plt.title('Probability Contours')\n",
    "plt.clabel(contours, inline = True );"
   ]
  }
 ],
 "metadata": {
  "kernelspec": {
   "display_name": "Python 3",
   "language": "python",
   "name": "python3"
  },
  "language_info": {
   "codemirror_mode": {
    "name": "ipython",
    "version": 3
   },
   "file_extension": ".py",
   "mimetype": "text/x-python",
   "name": "python",
   "nbconvert_exporter": "python",
   "pygments_lexer": "ipython3",
   "version": "3.6.12"
  },
  "papermill": {
   "duration": 165.380852,
   "end_time": "2020-10-10T20:07:05.040169",
   "environment_variables": {},
   "exception": null,
   "input_path": "2020-08-11-NeuralNetwork.ipynb",
   "output_path": "2020-08-11-NeuralNetwork.ipynb",
   "parameters": {},
   "start_time": "2020-10-10T20:04:19.659317",
   "version": "2.1.2"
  }
 },
 "nbformat": 4,
 "nbformat_minor": 4
}