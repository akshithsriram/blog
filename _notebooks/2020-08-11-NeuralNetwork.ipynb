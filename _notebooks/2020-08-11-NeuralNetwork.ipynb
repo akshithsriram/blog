{
 "cells": [
  {
   "cell_type": "markdown",
   "metadata": {
    "papermill": {
     "duration": 0.02883,
     "end_time": "2020-08-28T00:05:58.683234",
     "exception": false,
     "start_time": "2020-08-28T00:05:58.654404",
     "status": "completed"
    },
    "tags": []
   },
   "source": [
    "# \"A Basic Neural Network: Differentiate Hand-Written Digits\"\n",
    "\n",
    "- badges: true\n",
    "- author: Akshith Sriram"
   ]
  },
  {
   "cell_type": "markdown",
   "metadata": {
    "papermill": {
     "duration": 0.084004,
     "end_time": "2020-08-28T00:05:58.795645",
     "exception": false,
     "start_time": "2020-08-28T00:05:58.711641",
     "status": "completed"
    },
    "tags": []
   },
   "source": [
    "### Key Objectives:\n",
    "- Building a neural network that differentiates two hand-written digits 3 and 8.\n",
    "- Comparing the results of this Neural Network (NN) to that of a Logistic Regression (LR) model.\n",
    "\n",
    "### Requirements:\n",
    "- 'Kudzu' : A neural network library that was designed during our course by [Univ.AI](www.univ.ai). \n",
    "- MNIST Database\n",
    "\n",
    "If MNIST is not installed, use the command `!pip install mnist` given below.\n",
    "It can be run both from the command line and Jupyter Notebook."
   ]
  },
  {
   "cell_type": "code",
   "execution_count": 1,
   "metadata": {
    "execution": {
     "iopub.execute_input": "2020-08-28T00:05:59.002982Z",
     "iopub.status.busy": "2020-08-28T00:05:59.002433Z",
     "iopub.status.idle": "2020-08-28T00:06:00.618306Z",
     "shell.execute_reply": "2020-08-28T00:06:00.616904Z"
    },
    "papermill": {
     "duration": 1.668675,
     "end_time": "2020-08-28T00:06:00.618561",
     "exception": false,
     "start_time": "2020-08-28T00:05:58.949886",
     "status": "completed"
    },
    "tags": []
   },
   "outputs": [
    {
     "name": "stdout",
     "output_type": "stream",
     "text": [
      "Collecting mnist\r\n"
     ]
    },
    {
     "name": "stdout",
     "output_type": "stream",
     "text": [
      "  Downloading mnist-0.2.2-py2.py3-none-any.whl (3.5 kB)\r\n"
     ]
    },
    {
     "name": "stdout",
     "output_type": "stream",
     "text": [
      "Requirement already satisfied: numpy in /opt/hostedtoolcache/Python/3.6.11/x64/lib/python3.6/site-packages (from mnist) (1.19.1)\r\n"
     ]
    },
    {
     "name": "stdout",
     "output_type": "stream",
     "text": [
      "Installing collected packages: mnist\r\n"
     ]
    },
    {
     "name": "stdout",
     "output_type": "stream",
     "text": [
      "Successfully installed mnist-0.2.2\r\n"
     ]
    }
   ],
   "source": [
    "!pip install mnist "
   ]
  },
  {
   "cell_type": "markdown",
   "metadata": {
    "papermill": {
     "duration": 0.02448,
     "end_time": "2020-08-28T00:06:00.671576",
     "exception": false,
     "start_time": "2020-08-28T00:06:00.647096",
     "status": "completed"
    },
    "tags": []
   },
   "source": [
    "#### Importing necessary libraries"
   ]
  },
  {
   "cell_type": "code",
   "execution_count": 2,
   "metadata": {
    "execution": {
     "iopub.execute_input": "2020-08-28T00:06:00.729664Z",
     "iopub.status.busy": "2020-08-28T00:06:00.728920Z",
     "iopub.status.idle": "2020-08-28T00:06:01.267279Z",
     "shell.execute_reply": "2020-08-28T00:06:01.266410Z"
    },
    "papermill": {
     "duration": 0.571023,
     "end_time": "2020-08-28T00:06:01.267508",
     "exception": false,
     "start_time": "2020-08-28T00:06:00.696485",
     "status": "completed"
    },
    "tags": []
   },
   "outputs": [],
   "source": [
    "%load_ext autoreload\n",
    "%autoreload 2\n",
    "\n",
    "%matplotlib inline\n",
    "import matplotlib.pyplot as plt\n",
    "\n",
    "import numpy as np\n",
    "import pandas as pd"
   ]
  },
  {
   "cell_type": "markdown",
   "metadata": {
    "papermill": {
     "duration": 0.025725,
     "end_time": "2020-08-28T00:06:01.321094",
     "exception": false,
     "start_time": "2020-08-28T00:06:01.295369",
     "status": "completed"
    },
    "tags": []
   },
   "source": [
    "### Preparing the Data"
   ]
  },
  {
   "cell_type": "code",
   "execution_count": 3,
   "metadata": {
    "execution": {
     "iopub.execute_input": "2020-08-28T00:06:01.379942Z",
     "iopub.status.busy": "2020-08-28T00:06:01.379399Z",
     "iopub.status.idle": "2020-08-28T00:06:01.389406Z",
     "shell.execute_reply": "2020-08-28T00:06:01.389871Z"
    },
    "papermill": {
     "duration": 0.044101,
     "end_time": "2020-08-28T00:06:01.390011",
     "exception": false,
     "start_time": "2020-08-28T00:06:01.345910",
     "status": "completed"
    },
    "tags": []
   },
   "outputs": [],
   "source": [
    "import mnist"
   ]
  },
  {
   "cell_type": "code",
   "execution_count": 4,
   "metadata": {
    "execution": {
     "iopub.execute_input": "2020-08-28T00:06:01.448163Z",
     "iopub.status.busy": "2020-08-28T00:06:01.447441Z",
     "iopub.status.idle": "2020-08-28T00:06:03.101920Z",
     "shell.execute_reply": "2020-08-28T00:06:03.101038Z"
    },
    "papermill": {
     "duration": 1.687273,
     "end_time": "2020-08-28T00:06:03.102160",
     "exception": false,
     "start_time": "2020-08-28T00:06:01.414887",
     "status": "completed"
    },
    "tags": []
   },
   "outputs": [],
   "source": [
    "train_images = mnist.train_images()\n",
    "train_labels = mnist.train_labels()"
   ]
  },
  {
   "cell_type": "code",
   "execution_count": 5,
   "metadata": {
    "execution": {
     "iopub.execute_input": "2020-08-28T00:06:03.163268Z",
     "iopub.status.busy": "2020-08-28T00:06:03.162714Z",
     "iopub.status.idle": "2020-08-28T00:06:03.179390Z",
     "shell.execute_reply": "2020-08-28T00:06:03.180212Z"
    },
    "papermill": {
     "duration": 0.046965,
     "end_time": "2020-08-28T00:06:03.180482",
     "exception": false,
     "start_time": "2020-08-28T00:06:03.133517",
     "status": "completed"
    },
    "tags": []
   },
   "outputs": [
    {
     "data": {
      "text/plain": [
       "((60000, 28, 28), (60000,))"
      ]
     },
     "execution_count": 5,
     "metadata": {},
     "output_type": "execute_result"
    }
   ],
   "source": [
    "train_images.shape, train_labels.shape"
   ]
  },
  {
   "cell_type": "code",
   "execution_count": 6,
   "metadata": {
    "execution": {
     "iopub.execute_input": "2020-08-28T00:06:03.236519Z",
     "iopub.status.busy": "2020-08-28T00:06:03.236027Z",
     "iopub.status.idle": "2020-08-28T00:06:04.109684Z",
     "shell.execute_reply": "2020-08-28T00:06:04.110125Z"
    },
    "papermill": {
     "duration": 0.903005,
     "end_time": "2020-08-28T00:06:04.110286",
     "exception": false,
     "start_time": "2020-08-28T00:06:03.207281",
     "status": "completed"
    },
    "tags": []
   },
   "outputs": [],
   "source": [
    "test_images = mnist.test_images()\n",
    "test_labels = mnist.test_labels()"
   ]
  },
  {
   "cell_type": "code",
   "execution_count": 7,
   "metadata": {
    "execution": {
     "iopub.execute_input": "2020-08-28T00:06:04.613984Z",
     "iopub.status.busy": "2020-08-28T00:06:04.613392Z",
     "iopub.status.idle": "2020-08-28T00:06:04.628354Z",
     "shell.execute_reply": "2020-08-28T00:06:04.627915Z"
    },
    "papermill": {
     "duration": 0.175931,
     "end_time": "2020-08-28T00:06:04.628503",
     "exception": false,
     "start_time": "2020-08-28T00:06:04.452572",
     "status": "completed"
    },
    "tags": []
   },
   "outputs": [
    {
     "data": {
      "text/plain": [
       "((10000, 28, 28), (10000,))"
      ]
     },
     "execution_count": 7,
     "metadata": {},
     "output_type": "execute_result"
    }
   ],
   "source": [
    "test_images.shape, test_labels.shape"
   ]
  },
  {
   "cell_type": "code",
   "execution_count": 8,
   "metadata": {
    "execution": {
     "iopub.execute_input": "2020-08-28T00:06:05.001015Z",
     "iopub.status.busy": "2020-08-28T00:06:05.000400Z",
     "iopub.status.idle": "2020-08-28T00:06:05.139232Z",
     "shell.execute_reply": "2020-08-28T00:06:05.138800Z"
    },
    "papermill": {
     "duration": 0.343575,
     "end_time": "2020-08-28T00:06:05.139355",
     "exception": false,
     "start_time": "2020-08-28T00:06:04.795780",
     "status": "completed"
    },
    "tags": []
   },
   "outputs": [
    {
     "name": "stdout",
     "output_type": "stream",
     "text": [
      "2\n"
     ]
    },
    {
     "data": {
      "text/plain": [
       "<matplotlib.image.AxesImage at 0x7f56d1971b00>"
      ]
     },
     "execution_count": 8,
     "metadata": {},
     "output_type": "execute_result"
    },
    {
     "data": {
      "image/png": "[encoded data removed]",
      "text/plain": [
       "<Figure size 432x288 with 1 Axes>"
      ]
     },
     "metadata": {
      "needs_background": "light"
     },
     "output_type": "display_data"
    }
   ],
   "source": [
    "image_index = 7776 # You may select anything up to 60,000\n",
    "print(train_labels[image_index]) \n",
    "plt.imshow(train_images[image_index], cmap='Greys')"
   ]
  },
  {
   "cell_type": "markdown",
   "metadata": {
    "papermill": {
     "duration": 0.025764,
     "end_time": "2020-08-28T00:06:05.191109",
     "exception": false,
     "start_time": "2020-08-28T00:06:05.165345",
     "status": "completed"
    },
    "tags": []
   },
   "source": [
    "## Filter data to get 3 and 8 out"
   ]
  },
  {
   "cell_type": "code",
   "execution_count": 9,
   "metadata": {
    "execution": {
     "iopub.execute_input": "2020-08-28T00:06:05.249308Z",
     "iopub.status.busy": "2020-08-28T00:06:05.247710Z",
     "iopub.status.idle": "2020-08-28T00:06:05.265801Z",
     "shell.execute_reply": "2020-08-28T00:06:05.265246Z"
    },
    "papermill": {
     "duration": 0.048914,
     "end_time": "2020-08-28T00:06:05.265933",
     "exception": false,
     "start_time": "2020-08-28T00:06:05.217019",
     "status": "completed"
    },
    "tags": []
   },
   "outputs": [],
   "source": [
    "train_filter = np.where((train_labels == 3 ) | (train_labels == 8))\n",
    "test_filter = np.where((test_labels == 3) | (test_labels == 8))\n",
    "X_train, y_train = train_images[train_filter], train_labels[train_filter]\n",
    "X_test, y_test = test_images[test_filter], test_labels[test_filter]"
   ]
  },
  {
   "cell_type": "markdown",
   "metadata": {
    "papermill": {
     "duration": 0.026296,
     "end_time": "2020-08-28T00:06:05.319750",
     "exception": false,
     "start_time": "2020-08-28T00:06:05.293454",
     "status": "completed"
    },
    "tags": []
   },
   "source": [
    "We normalize the pixel values in the 0 to 1 range"
   ]
  },
  {
   "cell_type": "code",
   "execution_count": 10,
   "metadata": {
    "execution": {
     "iopub.execute_input": "2020-08-28T00:06:05.376327Z",
     "iopub.status.busy": "2020-08-28T00:06:05.375768Z",
     "iopub.status.idle": "2020-08-28T00:06:05.427058Z",
     "shell.execute_reply": "2020-08-28T00:06:05.426376Z"
    },
    "papermill": {
     "duration": 0.081083,
     "end_time": "2020-08-28T00:06:05.427227",
     "exception": false,
     "start_time": "2020-08-28T00:06:05.346144",
     "status": "completed"
    },
    "tags": []
   },
   "outputs": [],
   "source": [
    "X_train = X_train/255.\n",
    "X_test = X_test/255."
   ]
  },
  {
   "cell_type": "markdown",
   "metadata": {
    "papermill": {
     "duration": 0.025982,
     "end_time": "2020-08-28T00:06:05.482637",
     "exception": false,
     "start_time": "2020-08-28T00:06:05.456655",
     "status": "completed"
    },
    "tags": []
   },
   "source": [
    "Setup the labels as 1 (when the digit is 3) and 0 (when the digit is 8)"
   ]
  },
  {
   "cell_type": "code",
   "execution_count": 11,
   "metadata": {
    "execution": {
     "iopub.execute_input": "2020-08-28T00:06:05.542587Z",
     "iopub.status.busy": "2020-08-28T00:06:05.541478Z",
     "iopub.status.idle": "2020-08-28T00:06:05.555823Z",
     "shell.execute_reply": "2020-08-28T00:06:05.554983Z"
    },
    "papermill": {
     "duration": 0.047226,
     "end_time": "2020-08-28T00:06:05.555990",
     "exception": false,
     "start_time": "2020-08-28T00:06:05.508764",
     "status": "completed"
    },
    "tags": []
   },
   "outputs": [],
   "source": [
    "y_train = 1*(y_train==3)\n",
    "y_test = 1*(y_test==3)"
   ]
  },
  {
   "cell_type": "code",
   "execution_count": 12,
   "metadata": {
    "execution": {
     "iopub.execute_input": "2020-08-28T00:06:05.613501Z",
     "iopub.status.busy": "2020-08-28T00:06:05.612952Z",
     "iopub.status.idle": "2020-08-28T00:06:05.626743Z",
     "shell.execute_reply": "2020-08-28T00:06:05.627442Z"
    },
    "papermill": {
     "duration": 0.044541,
     "end_time": "2020-08-28T00:06:05.627595",
     "exception": false,
     "start_time": "2020-08-28T00:06:05.583054",
     "status": "completed"
    },
    "tags": []
   },
   "outputs": [
    {
     "data": {
      "text/plain": [
       "((11982, 28, 28), (1984, 28, 28))"
      ]
     },
     "execution_count": 12,
     "metadata": {},
     "output_type": "execute_result"
    }
   ],
   "source": [
    "X_train.shape, X_test.shape"
   ]
  },
  {
   "cell_type": "markdown",
   "metadata": {
    "papermill": {
     "duration": 0.027091,
     "end_time": "2020-08-28T00:06:05.681913",
     "exception": false,
     "start_time": "2020-08-28T00:06:05.654822",
     "status": "completed"
    },
    "tags": []
   },
   "source": [
    "### Reshape the input data to create a linear array"
   ]
  },
  {
   "cell_type": "code",
   "execution_count": 13,
   "metadata": {
    "execution": {
     "iopub.execute_input": "2020-08-28T00:06:05.740637Z",
     "iopub.status.busy": "2020-08-28T00:06:05.740075Z",
     "iopub.status.idle": "2020-08-28T00:06:05.753761Z",
     "shell.execute_reply": "2020-08-28T00:06:05.753321Z"
    },
    "papermill": {
     "duration": 0.044957,
     "end_time": "2020-08-28T00:06:05.753885",
     "exception": false,
     "start_time": "2020-08-28T00:06:05.708928",
     "status": "completed"
    },
    "tags": []
   },
   "outputs": [
    {
     "data": {
      "text/plain": [
       "((11982, 784), (1984, 784))"
      ]
     },
     "execution_count": 13,
     "metadata": {},
     "output_type": "execute_result"
    }
   ],
   "source": [
    "X_train = X_train.reshape(X_train.shape[0], -1)\n",
    "X_test = X_test.reshape(X_test.shape[0], -1)\n",
    "X_train.shape, X_test.shape"
   ]
  },
  {
   "cell_type": "markdown",
   "metadata": {
    "papermill": {
     "duration": 0.026261,
     "end_time": "2020-08-28T00:06:05.807351",
     "exception": false,
     "start_time": "2020-08-28T00:06:05.781090",
     "status": "completed"
    },
    "tags": []
   },
   "source": [
    "### Importing appropriate functions from 'Kudzu'"
   ]
  },
  {
   "cell_type": "code",
   "execution_count": 14,
   "metadata": {
    "execution": {
     "iopub.execute_input": "2020-08-28T00:06:05.867884Z",
     "iopub.status.busy": "2020-08-28T00:06:05.867339Z",
     "iopub.status.idle": "2020-08-28T00:06:05.888831Z",
     "shell.execute_reply": "2020-08-28T00:06:05.888275Z"
    },
    "papermill": {
     "duration": 0.054538,
     "end_time": "2020-08-28T00:06:05.888967",
     "exception": false,
     "start_time": "2020-08-28T00:06:05.834429",
     "status": "completed"
    },
    "tags": []
   },
   "outputs": [],
   "source": [
    "from kudzu.layer import Sigmoid\n",
    "from kudzu.layer import Relu\n",
    "from kudzu.layer import Affine, Sigmoid\n",
    "\n",
    "from kudzu.model import Model\n",
    "from kudzu.train import Learner\n",
    "from kudzu.optim import GD\n",
    "from kudzu.data import Data, Dataloader, Sampler\n",
    "\n",
    "from kudzu.callbacks import AccCallback\n",
    "from kudzu.callbacks import ClfCallback\n",
    "\n",
    "from kudzu.loss import MSE"
   ]
  },
  {
   "cell_type": "markdown",
   "metadata": {
    "papermill": {
     "duration": 0.028934,
     "end_time": "2020-08-28T00:06:05.946955",
     "exception": false,
     "start_time": "2020-08-28T00:06:05.918021",
     "status": "completed"
    },
    "tags": []
   },
   "source": [
    "### Let us create a `Config` class, to store important parameters. \n",
    "This class essentially plays the role of a dictionary."
   ]
  },
  {
   "cell_type": "code",
   "execution_count": 15,
   "metadata": {
    "execution": {
     "iopub.execute_input": "2020-08-28T00:06:06.008600Z",
     "iopub.status.busy": "2020-08-28T00:06:06.007981Z",
     "iopub.status.idle": "2020-08-28T00:06:06.025023Z",
     "shell.execute_reply": "2020-08-28T00:06:06.025544Z"
    },
    "papermill": {
     "duration": 0.050191,
     "end_time": "2020-08-28T00:06:06.025720",
     "exception": false,
     "start_time": "2020-08-28T00:06:05.975529",
     "status": "completed"
    },
    "tags": []
   },
   "outputs": [],
   "source": [
    "class Config:\n",
    "    pass\n",
    "config = Config()\n",
    "config.lr = 0.001\n",
    "config.num_epochs = 251\n",
    "config.bs = 50"
   ]
  },
  {
   "cell_type": "markdown",
   "metadata": {
    "papermill": {
     "duration": 0.027269,
     "end_time": "2020-08-28T00:06:06.082939",
     "exception": false,
     "start_time": "2020-08-28T00:06:06.055670",
     "status": "completed"
    },
    "tags": []
   },
   "source": [
    "### Initializing data to the variables"
   ]
  },
  {
   "cell_type": "code",
   "execution_count": 16,
   "metadata": {
    "execution": {
     "iopub.execute_input": "2020-08-28T00:06:06.141146Z",
     "iopub.status.busy": "2020-08-28T00:06:06.140581Z",
     "iopub.status.idle": "2020-08-28T00:06:06.154877Z",
     "shell.execute_reply": "2020-08-28T00:06:06.154458Z"
    },
    "papermill": {
     "duration": 0.045632,
     "end_time": "2020-08-28T00:06:06.155006",
     "exception": false,
     "start_time": "2020-08-28T00:06:06.109374",
     "status": "completed"
    },
    "tags": []
   },
   "outputs": [],
   "source": [
    "data = Data(X_train, y_train.reshape(-1,1))\n",
    "sampler = Sampler(data, config.bs, shuffle=True)\n",
    "\n",
    "dl = Dataloader(data, sampler)\n",
    "\n",
    "opt = GD(config.lr)\n",
    "loss = MSE()"
   ]
  },
  {
   "cell_type": "code",
   "execution_count": 17,
   "metadata": {
    "execution": {
     "iopub.execute_input": "2020-08-28T00:06:06.215169Z",
     "iopub.status.busy": "2020-08-28T00:06:06.214596Z",
     "iopub.status.idle": "2020-08-28T00:06:06.225160Z",
     "shell.execute_reply": "2020-08-28T00:06:06.225624Z"
    },
    "papermill": {
     "duration": 0.044316,
     "end_time": "2020-08-28T00:06:06.225758",
     "exception": false,
     "start_time": "2020-08-28T00:06:06.181442",
     "status": "completed"
    },
    "tags": []
   },
   "outputs": [],
   "source": [
    "training_xdata = X_train\n",
    "testing_xdata = X_test\n",
    "training_ydata = y_train.reshape(-1,1)\n",
    "testing_ydata = y_test.reshape(-1,1)"
   ]
  },
  {
   "cell_type": "markdown",
   "metadata": {
    "papermill": {
     "duration": 0.027344,
     "end_time": "2020-08-28T00:06:06.280034",
     "exception": false,
     "start_time": "2020-08-28T00:06:06.252690",
     "status": "completed"
    },
    "tags": []
   },
   "source": [
    "### Running Models with the Training data\n",
    "Details about the network layers:\n",
    "- A first affine layer has 784 inputs and does 100 affine transforms. These are followed by a Relu\n",
    "- A second affine layer has 100 inputs from the 100 activations of the past layer, and does 100 affine transforms. These are followed by a Relu\n",
    "- A third affine layer has 100 activations and does 2 affine transformations to create an embedding for visualization. There is no non-linearity here.\n",
    "- A final \"logistic regression\" which has an affine transform from 2 inputs to 1 output, which is squeezed through a sigmoid.\n",
    "\n",
    "Help taken from Anshuman's Notebook."
   ]
  },
  {
   "cell_type": "code",
   "execution_count": 18,
   "metadata": {
    "execution": {
     "iopub.execute_input": "2020-08-28T00:06:06.339940Z",
     "iopub.status.busy": "2020-08-28T00:06:06.339317Z",
     "iopub.status.idle": "2020-08-28T00:06:06.355959Z",
     "shell.execute_reply": "2020-08-28T00:06:06.355488Z"
    },
    "papermill": {
     "duration": 0.048545,
     "end_time": "2020-08-28T00:06:06.356065",
     "exception": false,
     "start_time": "2020-08-28T00:06:06.307520",
     "status": "completed"
    },
    "tags": []
   },
   "outputs": [],
   "source": [
    "# layers for the Neural Network\n",
    "layers = [Affine(\"first\", 784, 100), Relu(\"first\"), Affine(\"second\", 100, 100), Relu(\"second\"), Affine(\"third\", 100, 2), Affine(\"final\", 2, 1), Sigmoid(\"final\")]\n",
    "model_nn = Model(layers)\n",
    "\n",
    "# layers for the Logistic Regression\n",
    "layers_lr = [Affine(\"logits\", 784, 1), Sigmoid(\"sigmoid\")]\n",
    "model_lr = Model(layers_lr)"
   ]
  },
  {
   "cell_type": "code",
   "execution_count": 19,
   "metadata": {
    "execution": {
     "iopub.execute_input": "2020-08-28T00:06:06.413762Z",
     "iopub.status.busy": "2020-08-28T00:06:06.413213Z",
     "iopub.status.idle": "2020-08-28T00:06:06.427160Z",
     "shell.execute_reply": "2020-08-28T00:06:06.426699Z"
    },
    "papermill": {
     "duration": 0.045097,
     "end_time": "2020-08-28T00:06:06.427276",
     "exception": false,
     "start_time": "2020-08-28T00:06:06.382179",
     "status": "completed"
    },
    "tags": []
   },
   "outputs": [],
   "source": [
    "# suffix _nn stands for Neural Network.\n",
    "learner_nn = Learner(loss, model_nn, opt, config.num_epochs)\n",
    "acc_nn = ClfCallback(learner_nn, config.bs, training_xdata , testing_xdata, training_ydata, testing_ydata)\n",
    "learner_nn.set_callbacks([acc_nn])"
   ]
  },
  {
   "cell_type": "code",
   "execution_count": 20,
   "metadata": {
    "execution": {
     "iopub.execute_input": "2020-08-28T00:06:06.502651Z",
     "iopub.status.busy": "2020-08-28T00:06:06.493162Z",
     "iopub.status.idle": "2020-08-28T00:07:28.980652Z",
     "shell.execute_reply": "2020-08-28T00:07:28.980147Z"
    },
    "papermill": {
     "duration": 82.526383,
     "end_time": "2020-08-28T00:07:28.980770",
     "exception": false,
     "start_time": "2020-08-28T00:06:06.454387",
     "status": "completed"
    },
    "tags": []
   },
   "outputs": [
    {
     "name": "stdout",
     "output_type": "stream",
     "text": [
      "====== Neural Network ======\n"
     ]
    },
    {
     "name": "stdout",
     "output_type": "stream",
     "text": [
      "Epoch 0, Loss 0.256\n",
      "Training Accuracy: 0.4897, Testing Accuracy: 0.4909\n",
      "\n"
     ]
    },
    {
     "name": "stdout",
     "output_type": "stream",
     "text": [
      "Epoch 10, Loss 0.1763\n",
      "Training Accuracy: 0.8874, Testing Accuracy: 0.9002\n",
      "\n"
     ]
    },
    {
     "name": "stdout",
     "output_type": "stream",
     "text": [
      "Epoch 20, Loss 0.0861\n",
      "Training Accuracy: 0.9236, Testing Accuracy: 0.9330\n",
      "\n"
     ]
    },
    {
     "name": "stdout",
     "output_type": "stream",
     "text": [
      "Epoch 30, Loss 0.0575\n",
      "Training Accuracy: 0.9398, Testing Accuracy: 0.9531\n",
      "\n"
     ]
    },
    {
     "name": "stdout",
     "output_type": "stream",
     "text": [
      "Epoch 40, Loss 0.046\n",
      "Training Accuracy: 0.9496, Testing Accuracy: 0.9612\n",
      "\n"
     ]
    },
    {
     "name": "stdout",
     "output_type": "stream",
     "text": [
      "Epoch 50, Loss 0.04\n",
      "Training Accuracy: 0.9553, Testing Accuracy: 0.9677\n",
      "\n"
     ]
    },
    {
     "name": "stdout",
     "output_type": "stream",
     "text": [
      "Epoch 60, Loss 0.0363\n",
      "Training Accuracy: 0.9588, Testing Accuracy: 0.9688\n",
      "\n"
     ]
    },
    {
     "name": "stdout",
     "output_type": "stream",
     "text": [
      "Epoch 70, Loss 0.0338\n",
      "Training Accuracy: 0.9625, Testing Accuracy: 0.9708\n",
      "\n"
     ]
    },
    {
     "name": "stdout",
     "output_type": "stream",
     "text": [
      "Epoch 80, Loss 0.032\n",
      "Training Accuracy: 0.9644, Testing Accuracy: 0.9713\n",
      "\n"
     ]
    },
    {
     "name": "stdout",
     "output_type": "stream",
     "text": [
      "Epoch 90, Loss 0.0306\n",
      "Training Accuracy: 0.9657, Testing Accuracy: 0.9708\n",
      "\n"
     ]
    },
    {
     "name": "stdout",
     "output_type": "stream",
     "text": [
      "Epoch 100, Loss 0.0294\n",
      "Training Accuracy: 0.9670, Testing Accuracy: 0.9713\n",
      "\n"
     ]
    },
    {
     "name": "stdout",
     "output_type": "stream",
     "text": [
      "Epoch 110, Loss 0.0285\n",
      "Training Accuracy: 0.9680, Testing Accuracy: 0.9718\n",
      "\n"
     ]
    },
    {
     "name": "stdout",
     "output_type": "stream",
     "text": [
      "Epoch 120, Loss 0.0277\n",
      "Training Accuracy: 0.9688, Testing Accuracy: 0.9728\n",
      "\n"
     ]
    },
    {
     "name": "stdout",
     "output_type": "stream",
     "text": [
      "Epoch 130, Loss 0.027\n",
      "Training Accuracy: 0.9696, Testing Accuracy: 0.9718\n",
      "\n"
     ]
    },
    {
     "name": "stdout",
     "output_type": "stream",
     "text": [
      "Epoch 140, Loss 0.0263\n",
      "Training Accuracy: 0.9710, Testing Accuracy: 0.9733\n",
      "\n"
     ]
    },
    {
     "name": "stdout",
     "output_type": "stream",
     "text": [
      "Epoch 150, Loss 0.0258\n",
      "Training Accuracy: 0.9715, Testing Accuracy: 0.9723\n",
      "\n"
     ]
    },
    {
     "name": "stdout",
     "output_type": "stream",
     "text": [
      "Epoch 160, Loss 0.0252\n",
      "Training Accuracy: 0.9724, Testing Accuracy: 0.9723\n",
      "\n"
     ]
    },
    {
     "name": "stdout",
     "output_type": "stream",
     "text": [
      "Epoch 170, Loss 0.0248\n",
      "Training Accuracy: 0.9726, Testing Accuracy: 0.9723\n",
      "\n"
     ]
    },
    {
     "name": "stdout",
     "output_type": "stream",
     "text": [
      "Epoch 180, Loss 0.0243\n",
      "Training Accuracy: 0.9729, Testing Accuracy: 0.9718\n",
      "\n"
     ]
    },
    {
     "name": "stdout",
     "output_type": "stream",
     "text": [
      "Epoch 190, Loss 0.0239\n",
      "Training Accuracy: 0.9734, Testing Accuracy: 0.9718\n",
      "\n"
     ]
    },
    {
     "name": "stdout",
     "output_type": "stream",
     "text": [
      "Epoch 200, Loss 0.0235\n",
      "Training Accuracy: 0.9740, Testing Accuracy: 0.9718\n",
      "\n"
     ]
    },
    {
     "name": "stdout",
     "output_type": "stream",
     "text": [
      "Epoch 210, Loss 0.0231\n",
      "Training Accuracy: 0.9742, Testing Accuracy: 0.9713\n",
      "\n"
     ]
    },
    {
     "name": "stdout",
     "output_type": "stream",
     "text": [
      "Epoch 220, Loss 0.0227\n",
      "Training Accuracy: 0.9745, Testing Accuracy: 0.9708\n",
      "\n"
     ]
    },
    {
     "name": "stdout",
     "output_type": "stream",
     "text": [
      "Epoch 230, Loss 0.0224\n",
      "Training Accuracy: 0.9750, Testing Accuracy: 0.9713\n",
      "\n"
     ]
    },
    {
     "name": "stdout",
     "output_type": "stream",
     "text": [
      "Epoch 240, Loss 0.0221\n",
      "Training Accuracy: 0.9754, Testing Accuracy: 0.9718\n",
      "\n"
     ]
    },
    {
     "name": "stdout",
     "output_type": "stream",
     "text": [
      "Epoch 250, Loss 0.0217\n",
      "Training Accuracy: 0.9757, Testing Accuracy: 0.9723\n",
      "\n"
     ]
    },
    {
     "data": {
      "text/plain": [
       "0.024653456860463007"
      ]
     },
     "execution_count": 20,
     "metadata": {},
     "output_type": "execute_result"
    }
   ],
   "source": [
    "print(\"====== Neural Network ======\")\n",
    "learner_nn.train_loop(dl)"
   ]
  },
  {
   "cell_type": "markdown",
   "metadata": {
    "papermill": {
     "duration": 0.035488,
     "end_time": "2020-08-28T00:07:29.052040",
     "exception": false,
     "start_time": "2020-08-28T00:07:29.016552",
     "status": "completed"
    },
    "tags": []
   },
   "source": [
    "### Logistic Regression based Implementation."
   ]
  },
  {
   "cell_type": "code",
   "execution_count": 21,
   "metadata": {
    "execution": {
     "iopub.execute_input": "2020-08-28T00:07:29.141231Z",
     "iopub.status.busy": "2020-08-28T00:07:29.140617Z",
     "iopub.status.idle": "2020-08-28T00:07:29.151333Z",
     "shell.execute_reply": "2020-08-28T00:07:29.151746Z"
    },
    "papermill": {
     "duration": 0.054223,
     "end_time": "2020-08-28T00:07:29.151898",
     "exception": false,
     "start_time": "2020-08-28T00:07:29.097675",
     "status": "completed"
    },
    "tags": []
   },
   "outputs": [],
   "source": [
    "learner_lr = Learner(loss, model_lr, opt, config.num_epochs)\n",
    "acc_lr = ClfCallback(learner_lr, config.bs, training_xdata , testing_xdata, training_ydata, testing_ydata)\n",
    "learner_lr.set_callbacks([acc_lr])"
   ]
  },
  {
   "cell_type": "code",
   "execution_count": 22,
   "metadata": {
    "execution": {
     "iopub.execute_input": "2020-08-28T00:07:29.234755Z",
     "iopub.status.busy": "2020-08-28T00:07:29.233210Z",
     "iopub.status.idle": "2020-08-28T00:07:44.268521Z",
     "shell.execute_reply": "2020-08-28T00:07:44.269321Z"
    },
    "papermill": {
     "duration": 15.083338,
     "end_time": "2020-08-28T00:07:44.269477",
     "exception": false,
     "start_time": "2020-08-28T00:07:29.186139",
     "status": "completed"
    },
    "tags": []
   },
   "outputs": [
    {
     "name": "stdout",
     "output_type": "stream",
     "text": [
      "====== Logistic Regression ======\n",
      "Epoch 0, Loss 0.2638\n",
      "Training Accuracy: 0.6063, Testing Accuracy: 0.6028\n",
      "\n"
     ]
    },
    {
     "name": "stdout",
     "output_type": "stream",
     "text": [
      "Epoch 10, Loss 0.1057\n",
      "Training Accuracy: 0.9069, Testing Accuracy: 0.9163\n",
      "\n"
     ]
    },
    {
     "name": "stdout",
     "output_type": "stream",
     "text": [
      "Epoch 20, Loss 0.0803\n",
      "Training Accuracy: 0.9278, Testing Accuracy: 0.9380\n",
      "\n"
     ]
    },
    {
     "name": "stdout",
     "output_type": "stream",
     "text": [
      "Epoch 30, Loss 0.0688\n",
      "Training Accuracy: 0.9345, Testing Accuracy: 0.9451\n",
      "\n"
     ]
    },
    {
     "name": "stdout",
     "output_type": "stream",
     "text": [
      "Epoch 40, Loss 0.062\n",
      "Training Accuracy: 0.9394, Testing Accuracy: 0.9511\n",
      "\n"
     ]
    },
    {
     "name": "stdout",
     "output_type": "stream",
     "text": [
      "Epoch 50, Loss 0.0574\n",
      "Training Accuracy: 0.9432, Testing Accuracy: 0.9572\n",
      "\n"
     ]
    },
    {
     "name": "stdout",
     "output_type": "stream",
     "text": [
      "Epoch 60, Loss 0.054\n",
      "Training Accuracy: 0.9468, Testing Accuracy: 0.9587\n",
      "\n"
     ]
    },
    {
     "name": "stdout",
     "output_type": "stream",
     "text": [
      "Epoch 70, Loss 0.0514\n",
      "Training Accuracy: 0.9485, Testing Accuracy: 0.9597\n",
      "\n"
     ]
    },
    {
     "name": "stdout",
     "output_type": "stream",
     "text": [
      "Epoch 80, Loss 0.0494\n",
      "Training Accuracy: 0.9499, Testing Accuracy: 0.9612\n",
      "\n"
     ]
    },
    {
     "name": "stdout",
     "output_type": "stream",
     "text": [
      "Epoch 90, Loss 0.0476\n",
      "Training Accuracy: 0.9512, Testing Accuracy: 0.9627\n",
      "\n"
     ]
    },
    {
     "name": "stdout",
     "output_type": "stream",
     "text": [
      "Epoch 100, Loss 0.0462\n",
      "Training Accuracy: 0.9530, Testing Accuracy: 0.9627\n",
      "\n"
     ]
    },
    {
     "name": "stdout",
     "output_type": "stream",
     "text": [
      "Epoch 110, Loss 0.045\n",
      "Training Accuracy: 0.9538, Testing Accuracy: 0.9637\n",
      "\n"
     ]
    },
    {
     "name": "stdout",
     "output_type": "stream",
     "text": [
      "Epoch 120, Loss 0.0439\n",
      "Training Accuracy: 0.9551, Testing Accuracy: 0.9637\n",
      "\n"
     ]
    },
    {
     "name": "stdout",
     "output_type": "stream",
     "text": [
      "Epoch 130, Loss 0.043\n",
      "Training Accuracy: 0.9559, Testing Accuracy: 0.9637\n",
      "\n"
     ]
    },
    {
     "name": "stdout",
     "output_type": "stream",
     "text": [
      "Epoch 140, Loss 0.0421\n",
      "Training Accuracy: 0.9572, Testing Accuracy: 0.9637\n",
      "\n"
     ]
    },
    {
     "name": "stdout",
     "output_type": "stream",
     "text": [
      "Epoch 150, Loss 0.0414\n",
      "Training Accuracy: 0.9575, Testing Accuracy: 0.9637\n",
      "\n"
     ]
    },
    {
     "name": "stdout",
     "output_type": "stream",
     "text": [
      "Epoch 160, Loss 0.0407\n",
      "Training Accuracy: 0.9578, Testing Accuracy: 0.9637\n",
      "\n"
     ]
    },
    {
     "name": "stdout",
     "output_type": "stream",
     "text": [
      "Epoch 170, Loss 0.0401\n",
      "Training Accuracy: 0.9579, Testing Accuracy: 0.9637\n",
      "\n"
     ]
    },
    {
     "name": "stdout",
     "output_type": "stream",
     "text": [
      "Epoch 180, Loss 0.0395\n",
      "Training Accuracy: 0.9584, Testing Accuracy: 0.9637\n",
      "\n"
     ]
    },
    {
     "name": "stdout",
     "output_type": "stream",
     "text": [
      "Epoch 190, Loss 0.039\n",
      "Training Accuracy: 0.9588, Testing Accuracy: 0.9637\n",
      "\n"
     ]
    },
    {
     "name": "stdout",
     "output_type": "stream",
     "text": [
      "Epoch 200, Loss 0.0385\n",
      "Training Accuracy: 0.9594, Testing Accuracy: 0.9637\n",
      "\n"
     ]
    },
    {
     "name": "stdout",
     "output_type": "stream",
     "text": [
      "Epoch 210, Loss 0.0381\n",
      "Training Accuracy: 0.9599, Testing Accuracy: 0.9642\n",
      "\n"
     ]
    },
    {
     "name": "stdout",
     "output_type": "stream",
     "text": [
      "Epoch 220, Loss 0.0377\n",
      "Training Accuracy: 0.9602, Testing Accuracy: 0.9642\n",
      "\n"
     ]
    },
    {
     "name": "stdout",
     "output_type": "stream",
     "text": [
      "Epoch 230, Loss 0.0373\n",
      "Training Accuracy: 0.9607, Testing Accuracy: 0.9642\n",
      "\n"
     ]
    },
    {
     "name": "stdout",
     "output_type": "stream",
     "text": [
      "Epoch 240, Loss 0.0369\n",
      "Training Accuracy: 0.9607, Testing Accuracy: 0.9647\n",
      "\n"
     ]
    },
    {
     "name": "stdout",
     "output_type": "stream",
     "text": [
      "Epoch 250, Loss 0.0366\n",
      "Training Accuracy: 0.9609, Testing Accuracy: 0.9647\n",
      "\n"
     ]
    },
    {
     "data": {
      "text/plain": [
       "0.026549306125636305"
      ]
     },
     "execution_count": 22,
     "metadata": {},
     "output_type": "execute_result"
    }
   ],
   "source": [
    "print(\"====== Logistic Regression ======\")\n",
    "learner_lr.train_loop(dl)"
   ]
  },
  {
   "cell_type": "markdown",
   "metadata": {
    "papermill": {
     "duration": 0.04404,
     "end_time": "2020-08-28T00:07:44.358259",
     "exception": false,
     "start_time": "2020-08-28T00:07:44.314219",
     "status": "completed"
    },
    "tags": []
   },
   "source": [
    "### Comparing results of NN and LR"
   ]
  },
  {
   "cell_type": "code",
   "execution_count": 23,
   "metadata": {
    "execution": {
     "iopub.execute_input": "2020-08-28T00:07:44.454664Z",
     "iopub.status.busy": "2020-08-28T00:07:44.453613Z",
     "iopub.status.idle": "2020-08-28T00:07:44.687615Z",
     "shell.execute_reply": "2020-08-28T00:07:44.688069Z"
    },
    "papermill": {
     "duration": 0.28476,
     "end_time": "2020-08-28T00:07:44.688221",
     "exception": false,
     "start_time": "2020-08-28T00:07:44.403461",
     "status": "completed"
    },
    "tags": []
   },
   "outputs": [
    {
     "data": {
      "text/plain": [
       "<matplotlib.legend.Legend at 0x7f56d155b2b0>"
      ]
     },
     "execution_count": 23,
     "metadata": {},
     "output_type": "execute_result"
    },
    {
     "data": {
      "image/png": "[encoded data removed]",
      "text/plain": [
       "<Figure size 1080x720 with 1 Axes>"
      ]
     },
     "metadata": {
      "needs_background": "light"
     },
     "output_type": "display_data"
    }
   ],
   "source": [
    "plt.figure(figsize=(15,10))\n",
    "\n",
    "# Neural Network plots\n",
    "plt.plot(acc_nn.accuracies, 'r-', label = \"Training Accuracies - NN\")\n",
    "plt.plot(acc_nn.test_accuracies, 'g-', label = \"Testing Accuracies - NN\")\n",
    "\n",
    "# Logistic Regression plots\n",
    "plt.plot(acc_lr.accuracies, 'k-', label = \"Training Accuracies - LR\")\n",
    "plt.plot(acc_lr.test_accuracies, 'b-', label = \"Testing Accuracies - LR\")\n",
    "\n",
    "plt.ylim(0.8, 1)\n",
    "\n",
    "plt.legend()\n",
    "\n"
   ]
  },
  {
   "cell_type": "markdown",
   "metadata": {
    "papermill": {
     "duration": 0.044358,
     "end_time": "2020-08-28T00:07:44.777820",
     "exception": false,
     "start_time": "2020-08-28T00:07:44.733462",
     "status": "completed"
    },
    "tags": []
   },
   "source": [
    "### From the plot, we can observe the following:\n",
    "- Neural Network achieves higher accuracy than the Logistic Regression model.\n",
    "- This apparently, is because of overfitting, i.e. NN captures more noise than data.\n",
    "- Testing accuracy of NN drops below the Training accuracy at higher epochs. This explains the over-fitting on training data.\n",
    "- Logistic Regression gives a reliable accuracy, without the above mentioned problem.\n"
   ]
  },
  {
   "cell_type": "markdown",
   "metadata": {
    "papermill": {
     "duration": 0.04537,
     "end_time": "2020-08-28T00:07:44.868033",
     "exception": false,
     "start_time": "2020-08-28T00:07:44.822663",
     "status": "completed"
    },
    "tags": []
   },
   "source": [
    "### Moving till the last but one layer (excluding it).\n",
    "#### Plotting the outputs of this layer of the NN."
   ]
  },
  {
   "cell_type": "code",
   "execution_count": 24,
   "metadata": {
    "execution": {
     "iopub.execute_input": "2020-08-28T00:07:44.969621Z",
     "iopub.status.busy": "2020-08-28T00:07:44.969031Z",
     "iopub.status.idle": "2020-08-28T00:07:44.987195Z",
     "shell.execute_reply": "2020-08-28T00:07:44.987673Z"
    },
    "papermill": {
     "duration": 0.072741,
     "end_time": "2020-08-28T00:07:44.987830",
     "exception": false,
     "start_time": "2020-08-28T00:07:44.915089",
     "status": "completed"
    },
    "tags": []
   },
   "outputs": [],
   "source": [
    "model_new = Model(layers[:-2])"
   ]
  },
  {
   "cell_type": "code",
   "execution_count": 25,
   "metadata": {
    "execution": {
     "iopub.execute_input": "2020-08-28T00:07:45.091441Z",
     "iopub.status.busy": "2020-08-28T00:07:45.089971Z",
     "iopub.status.idle": "2020-08-28T00:07:45.109082Z",
     "shell.execute_reply": "2020-08-28T00:07:45.109597Z"
    },
    "papermill": {
     "duration": 0.074684,
     "end_time": "2020-08-28T00:07:45.109759",
     "exception": false,
     "start_time": "2020-08-28T00:07:45.035075",
     "status": "completed"
    },
    "tags": []
   },
   "outputs": [],
   "source": [
    "plot_testing = model_new(testing_xdata)"
   ]
  },
  {
   "cell_type": "code",
   "execution_count": 26,
   "metadata": {
    "execution": {
     "iopub.execute_input": "2020-08-28T00:07:45.208848Z",
     "iopub.status.busy": "2020-08-28T00:07:45.206637Z",
     "iopub.status.idle": "2020-08-28T00:07:45.404876Z",
     "shell.execute_reply": "2020-08-28T00:07:45.405330Z"
    },
    "papermill": {
     "duration": 0.249355,
     "end_time": "2020-08-28T00:07:45.405492",
     "exception": false,
     "start_time": "2020-08-28T00:07:45.156137",
     "status": "completed"
    },
    "tags": []
   },
   "outputs": [
    {
     "data": {
      "text/plain": [
       "Text(0.5, 1.0, 'Outputs')"
      ]
     },
     "execution_count": 26,
     "metadata": {},
     "output_type": "execute_result"
    },
    {
     "data": {
      "image/png": "[encoded data removed]",
      "text/plain": [
       "<Figure size 576x504 with 1 Axes>"
      ]
     },
     "metadata": {
      "needs_background": "light"
     },
     "output_type": "display_data"
    }
   ],
   "source": [
    "plt.figure(figsize=(8,7))\n",
    "plt.scatter(plot_testing[:,0], plot_testing[:,1], alpha = 0.1, c = y_test.ravel());\n",
    "plt.title('Outputs')"
   ]
  },
  {
   "cell_type": "markdown",
   "metadata": {
    "papermill": {
     "duration": 0.045511,
     "end_time": "2020-08-28T00:07:45.499479",
     "exception": false,
     "start_time": "2020-08-28T00:07:45.453968",
     "status": "completed"
    },
    "tags": []
   },
   "source": [
    "### Plotting probability contours"
   ]
  },
  {
   "cell_type": "code",
   "execution_count": 27,
   "metadata": {
    "execution": {
     "iopub.execute_input": "2020-08-28T00:07:45.599041Z",
     "iopub.status.busy": "2020-08-28T00:07:45.598454Z",
     "iopub.status.idle": "2020-08-28T00:07:45.611102Z",
     "shell.execute_reply": "2020-08-28T00:07:45.611592Z"
    },
    "papermill": {
     "duration": 0.06594,
     "end_time": "2020-08-28T00:07:45.611743",
     "exception": false,
     "start_time": "2020-08-28T00:07:45.545803",
     "status": "completed"
    },
    "tags": []
   },
   "outputs": [],
   "source": [
    "model_prob = Model(layers[-2:]) "
   ]
  },
  {
   "cell_type": "code",
   "execution_count": 28,
   "metadata": {
    "execution": {
     "iopub.execute_input": "2020-08-28T00:07:45.711864Z",
     "iopub.status.busy": "2020-08-28T00:07:45.711322Z",
     "iopub.status.idle": "2020-08-28T00:07:45.724697Z",
     "shell.execute_reply": "2020-08-28T00:07:45.725195Z"
    },
    "papermill": {
     "duration": 0.065557,
     "end_time": "2020-08-28T00:07:45.725352",
     "exception": false,
     "start_time": "2020-08-28T00:07:45.659795",
     "status": "completed"
    },
    "tags": []
   },
   "outputs": [],
   "source": [
    "# Adjust the x and y ranges according to the above generated plot.\n",
    "x_range = np.linspace(-4, 1, 100) \n",
    "y_range = np.linspace(-6, 6, 100) \n",
    "x_grid, y_grid = np.meshgrid(x_range, y_range) # x_grid and y_grig are of size 100 X 100\n",
    "\n",
    "# converting x_grid and y_grid to continuous arrays\n",
    "x_grid_flat = np.ravel(x_grid)\n",
    "y_grid_flat = np.ravel(y_grid)\n",
    "\n",
    "# The last layer of the current model takes two columns as input. Hence transpose of np.vstack() is required.\n",
    "X = np.vstack((x_grid_flat, y_grid_flat)).T\n",
    "\n",
    "# x_grid and y_grid are of size 100 x 100\n",
    "probability_contour = model_prob(X).reshape(100,100) "
   ]
  },
  {
   "cell_type": "code",
   "execution_count": 29,
   "metadata": {
    "execution": {
     "iopub.execute_input": "2020-08-28T00:07:45.828389Z",
     "iopub.status.busy": "2020-08-28T00:07:45.827799Z",
     "iopub.status.idle": "2020-08-28T00:07:46.066807Z",
     "shell.execute_reply": "2020-08-28T00:07:46.067255Z"
    },
    "papermill": {
     "duration": 0.292354,
     "end_time": "2020-08-28T00:07:46.067407",
     "exception": false,
     "start_time": "2020-08-28T00:07:45.775053",
     "status": "completed"
    },
    "tags": []
   },
   "outputs": [
    {
     "data": {
      "image/png": "[encoded data removed]",
      "text/plain": [
       "<Figure size 720x648 with 1 Axes>"
      ]
     },
     "metadata": {
      "needs_background": "light"
     },
     "output_type": "display_data"
    }
   ],
   "source": [
    "plt.figure(figsize=(10,9))\n",
    "plt.scatter(plot_testing[:,0], plot_testing[:,1], alpha = 0.1, c = y_test.ravel())\n",
    "contours = plt.contour(x_grid,y_grid,probability_contour)\n",
    "plt.title('Probability Contours')\n",
    "plt.clabel(contours, inline = True );"
   ]
  }
 ],
 "metadata": {
  "kernelspec": {
   "display_name": "Python 3",
   "language": "python",
   "name": "python3"
  },
  "language_info": {
   "codemirror_mode": {
    "name": "ipython",
    "version": 3
   },
   "file_extension": ".py",
   "mimetype": "text/x-python",
   "name": "python",
   "nbconvert_exporter": "python",
   "pygments_lexer": "ipython3",
   "version": "3.6.11"
  },
  "papermill": {
   "duration": 108.930534,
   "end_time": "2020-08-28T00:07:46.523365",
   "environment_variables": {},
   "exception": null,
   "input_path": "2020-08-11-NeuralNetwork.ipynb",
   "output_path": "2020-08-11-NeuralNetwork.ipynb",
   "parameters": {},
   "start_time": "2020-08-28T00:05:57.592831",
   "version": "2.1.2"
  }
 },
 "nbformat": 4,
 "nbformat_minor": 4
}