{
 "cells": [
  {
   "cell_type": "markdown",
   "metadata": {
    "papermill": {
     "duration": 0.029914,
     "end_time": "2020-10-28T20:04:33.574652",
     "exception": false,
     "start_time": "2020-10-28T20:04:33.544738",
     "status": "completed"
    },
    "tags": []
   },
   "source": [
    "# \"A Basic Neural Network: Differentiate Hand-Written Digits\"\n",
    "\n",
    "- badges: true\n",
    "- author: Akshith Sriram"
   ]
  },
  {
   "cell_type": "markdown",
   "metadata": {
    "papermill": {
     "duration": 0.024309,
     "end_time": "2020-10-28T20:04:33.623999",
     "exception": false,
     "start_time": "2020-10-28T20:04:33.599690",
     "status": "completed"
    },
    "tags": []
   },
   "source": [
    "### Key Objectives:\n",
    "- Building a neural network that differentiates two hand-written digits 3 and 8.\n",
    "- Comparing the results of this Neural Network (NN) to that of a Logistic Regression (LR) model.\n",
    "\n",
    "### Requirements:\n",
    "- 'Kudzu' : A neural network library that was designed during our course by [Univ.AI](www.univ.ai). \n",
    "- MNIST Database\n",
    "\n",
    "If MNIST is not installed, use the command `!pip install mnist` given below.\n",
    "It can be run both from the command line and Jupyter Notebook."
   ]
  },
  {
   "cell_type": "code",
   "execution_count": 1,
   "metadata": {
    "execution": {
     "iopub.execute_input": "2020-10-28T20:04:33.680620Z",
     "iopub.status.busy": "2020-10-28T20:04:33.680032Z",
     "iopub.status.idle": "2020-10-28T20:04:35.044122Z",
     "shell.execute_reply": "2020-10-28T20:04:35.042997Z"
    },
    "papermill": {
     "duration": 1.396561,
     "end_time": "2020-10-28T20:04:35.044336",
     "exception": false,
     "start_time": "2020-10-28T20:04:33.647775",
     "status": "completed"
    },
    "tags": []
   },
   "outputs": [
    {
     "name": "stdout",
     "output_type": "stream",
     "text": [
      "Collecting mnist\r\n"
     ]
    },
    {
     "name": "stdout",
     "output_type": "stream",
     "text": [
      "  Downloading mnist-0.2.2-py2.py3-none-any.whl (3.5 kB)\r\n",
      "Requirement already satisfied: numpy in /opt/hostedtoolcache/Python/3.6.12/x64/lib/python3.6/site-packages (from mnist) (1.19.2)\r\n"
     ]
    },
    {
     "name": "stdout",
     "output_type": "stream",
     "text": [
      "Installing collected packages: mnist\r\n"
     ]
    },
    {
     "name": "stdout",
     "output_type": "stream",
     "text": [
      "Successfully installed mnist-0.2.2\r\n"
     ]
    },
    {
     "name": "stdout",
     "output_type": "stream",
     "text": [
      "\u001b[33mWARNING: You are using pip version 20.2.3; however, version 20.2.4 is available.\r\n",
      "You should consider upgrading via the '/opt/hostedtoolcache/Python/3.6.12/x64/bin/python -m pip install --upgrade pip' command.\u001b[0m\r\n"
     ]
    }
   ],
   "source": [
    "!pip install mnist "
   ]
  },
  {
   "cell_type": "markdown",
   "metadata": {
    "papermill": {
     "duration": 0.025906,
     "end_time": "2020-10-28T20:04:35.099152",
     "exception": false,
     "start_time": "2020-10-28T20:04:35.073246",
     "status": "completed"
    },
    "tags": []
   },
   "source": [
    "#### Importing necessary libraries"
   ]
  },
  {
   "cell_type": "code",
   "execution_count": 2,
   "metadata": {
    "execution": {
     "iopub.execute_input": "2020-10-28T20:04:35.159453Z",
     "iopub.status.busy": "2020-10-28T20:04:35.158869Z",
     "iopub.status.idle": "2020-10-28T20:04:35.722624Z",
     "shell.execute_reply": "2020-10-28T20:04:35.721750Z"
    },
    "papermill": {
     "duration": 0.597269,
     "end_time": "2020-10-28T20:04:35.722871",
     "exception": false,
     "start_time": "2020-10-28T20:04:35.125602",
     "status": "completed"
    },
    "tags": []
   },
   "outputs": [],
   "source": [
    "%load_ext autoreload\n",
    "%autoreload 2\n",
    "\n",
    "%matplotlib inline\n",
    "import matplotlib.pyplot as plt\n",
    "\n",
    "import numpy as np\n",
    "import pandas as pd"
   ]
  },
  {
   "cell_type": "markdown",
   "metadata": {
    "papermill": {
     "duration": 0.026639,
     "end_time": "2020-10-28T20:04:35.779026",
     "exception": false,
     "start_time": "2020-10-28T20:04:35.752387",
     "status": "completed"
    },
    "tags": []
   },
   "source": [
    "### Preparing the Data"
   ]
  },
  {
   "cell_type": "code",
   "execution_count": 3,
   "metadata": {
    "execution": {
     "iopub.execute_input": "2020-10-28T20:04:35.836067Z",
     "iopub.status.busy": "2020-10-28T20:04:35.835492Z",
     "iopub.status.idle": "2020-10-28T20:04:35.849029Z",
     "shell.execute_reply": "2020-10-28T20:04:35.848528Z"
    },
    "papermill": {
     "duration": 0.043345,
     "end_time": "2020-10-28T20:04:35.849150",
     "exception": false,
     "start_time": "2020-10-28T20:04:35.805805",
     "status": "completed"
    },
    "tags": []
   },
   "outputs": [],
   "source": [
    "import mnist"
   ]
  },
  {
   "cell_type": "code",
   "execution_count": 4,
   "metadata": {
    "execution": {
     "iopub.execute_input": "2020-10-28T20:04:35.905774Z",
     "iopub.status.busy": "2020-10-28T20:04:35.905203Z",
     "iopub.status.idle": "2020-10-28T20:04:36.663751Z",
     "shell.execute_reply": "2020-10-28T20:04:36.664290Z"
    },
    "papermill": {
     "duration": 0.789428,
     "end_time": "2020-10-28T20:04:36.664446",
     "exception": false,
     "start_time": "2020-10-28T20:04:35.875018",
     "status": "completed"
    },
    "tags": []
   },
   "outputs": [],
   "source": [
    "train_images = mnist.train_images()\n",
    "train_labels = mnist.train_labels()"
   ]
  },
  {
   "cell_type": "code",
   "execution_count": 5,
   "metadata": {
    "execution": {
     "iopub.execute_input": "2020-10-28T20:04:37.664289Z",
     "iopub.status.busy": "2020-10-28T20:04:37.663267Z",
     "iopub.status.idle": "2020-10-28T20:04:37.677882Z",
     "shell.execute_reply": "2020-10-28T20:04:37.678329Z"
    },
    "papermill": {
     "duration": 0.957135,
     "end_time": "2020-10-28T20:04:37.678477",
     "exception": false,
     "start_time": "2020-10-28T20:04:36.721342",
     "status": "completed"
    },
    "tags": []
   },
   "outputs": [
    {
     "data": {
      "text/plain": [
       "((60000, 28, 28), (60000,))"
      ]
     },
     "execution_count": 5,
     "metadata": {},
     "output_type": "execute_result"
    }
   ],
   "source": [
    "train_images.shape, train_labels.shape"
   ]
  },
  {
   "cell_type": "code",
   "execution_count": 6,
   "metadata": {
    "execution": {
     "iopub.execute_input": "2020-10-28T20:04:37.735237Z",
     "iopub.status.busy": "2020-10-28T20:04:37.734643Z",
     "iopub.status.idle": "2020-10-28T20:04:38.009084Z",
     "shell.execute_reply": "2020-10-28T20:04:38.008225Z"
    },
    "papermill": {
     "duration": 0.304617,
     "end_time": "2020-10-28T20:04:38.009302",
     "exception": false,
     "start_time": "2020-10-28T20:04:37.704685",
     "status": "completed"
    },
    "tags": []
   },
   "outputs": [],
   "source": [
    "test_images = mnist.test_images()\n",
    "test_labels = mnist.test_labels()"
   ]
  },
  {
   "cell_type": "code",
   "execution_count": 7,
   "metadata": {
    "execution": {
     "iopub.execute_input": "2020-10-28T20:04:38.067321Z",
     "iopub.status.busy": "2020-10-28T20:04:38.066711Z",
     "iopub.status.idle": "2020-10-28T20:04:38.082050Z",
     "shell.execute_reply": "2020-10-28T20:04:38.081580Z"
    },
    "papermill": {
     "duration": 0.046168,
     "end_time": "2020-10-28T20:04:38.082177",
     "exception": false,
     "start_time": "2020-10-28T20:04:38.036009",
     "status": "completed"
    },
    "tags": []
   },
   "outputs": [
    {
     "data": {
      "text/plain": [
       "((10000, 28, 28), (10000,))"
      ]
     },
     "execution_count": 7,
     "metadata": {},
     "output_type": "execute_result"
    }
   ],
   "source": [
    "test_images.shape, test_labels.shape"
   ]
  },
  {
   "cell_type": "code",
   "execution_count": 8,
   "metadata": {
    "execution": {
     "iopub.execute_input": "2020-10-28T20:04:38.143861Z",
     "iopub.status.busy": "2020-10-28T20:04:38.143287Z",
     "iopub.status.idle": "2020-10-28T20:04:38.283675Z",
     "shell.execute_reply": "2020-10-28T20:04:38.283162Z"
    },
    "papermill": {
     "duration": 0.174922,
     "end_time": "2020-10-28T20:04:38.283805",
     "exception": false,
     "start_time": "2020-10-28T20:04:38.108883",
     "status": "completed"
    },
    "tags": []
   },
   "outputs": [
    {
     "name": "stdout",
     "output_type": "stream",
     "text": [
      "2\n"
     ]
    },
    {
     "data": {
      "text/plain": [
       "<matplotlib.image.AxesImage at 0x7f6e44d899e8>"
      ]
     },
     "execution_count": 8,
     "metadata": {},
     "output_type": "execute_result"
    },
    {
     "data": {
      "image/png": "[encoded data removed]",
      "text/plain": [
       "<Figure size 432x288 with 1 Axes>"
      ]
     },
     "metadata": {
      "needs_background": "light"
     },
     "output_type": "display_data"
    }
   ],
   "source": [
    "image_index = 7776 # You may select anything up to 60,000\n",
    "print(train_labels[image_index]) \n",
    "plt.imshow(train_images[image_index], cmap='Greys')"
   ]
  },
  {
   "cell_type": "markdown",
   "metadata": {
    "papermill": {
     "duration": 0.027279,
     "end_time": "2020-10-28T20:04:38.338773",
     "exception": false,
     "start_time": "2020-10-28T20:04:38.311494",
     "status": "completed"
    },
    "tags": []
   },
   "source": [
    "## Filter data to get 3 and 8 out"
   ]
  },
  {
   "cell_type": "code",
   "execution_count": 9,
   "metadata": {
    "execution": {
     "iopub.execute_input": "2020-10-28T20:04:38.398929Z",
     "iopub.status.busy": "2020-10-28T20:04:38.398329Z",
     "iopub.status.idle": "2020-10-28T20:04:38.416414Z",
     "shell.execute_reply": "2020-10-28T20:04:38.415948Z"
    },
    "papermill": {
     "duration": 0.050574,
     "end_time": "2020-10-28T20:04:38.416529",
     "exception": false,
     "start_time": "2020-10-28T20:04:38.365955",
     "status": "completed"
    },
    "tags": []
   },
   "outputs": [],
   "source": [
    "train_filter = np.where((train_labels == 3 ) | (train_labels == 8))\n",
    "test_filter = np.where((test_labels == 3) | (test_labels == 8))\n",
    "X_train, y_train = train_images[train_filter], train_labels[train_filter]\n",
    "X_test, y_test = test_images[test_filter], test_labels[test_filter]"
   ]
  },
  {
   "cell_type": "markdown",
   "metadata": {
    "papermill": {
     "duration": 0.027475,
     "end_time": "2020-10-28T20:04:38.470905",
     "exception": false,
     "start_time": "2020-10-28T20:04:38.443430",
     "status": "completed"
    },
    "tags": []
   },
   "source": [
    "We normalize the pixel values in the 0 to 1 range"
   ]
  },
  {
   "cell_type": "code",
   "execution_count": 10,
   "metadata": {
    "execution": {
     "iopub.execute_input": "2020-10-28T20:04:38.529843Z",
     "iopub.status.busy": "2020-10-28T20:04:38.529311Z",
     "iopub.status.idle": "2020-10-28T20:04:38.580564Z",
     "shell.execute_reply": "2020-10-28T20:04:38.580051Z"
    },
    "papermill": {
     "duration": 0.082834,
     "end_time": "2020-10-28T20:04:38.580701",
     "exception": false,
     "start_time": "2020-10-28T20:04:38.497867",
     "status": "completed"
    },
    "tags": []
   },
   "outputs": [],
   "source": [
    "X_train = X_train/255.\n",
    "X_test = X_test/255."
   ]
  },
  {
   "cell_type": "markdown",
   "metadata": {
    "papermill": {
     "duration": 0.0277,
     "end_time": "2020-10-28T20:04:38.637341",
     "exception": false,
     "start_time": "2020-10-28T20:04:38.609641",
     "status": "completed"
    },
    "tags": []
   },
   "source": [
    "Setup the labels as 1 (when the digit is 3) and 0 (when the digit is 8)"
   ]
  },
  {
   "cell_type": "code",
   "execution_count": 11,
   "metadata": {
    "execution": {
     "iopub.execute_input": "2020-10-28T20:04:38.696769Z",
     "iopub.status.busy": "2020-10-28T20:04:38.696235Z",
     "iopub.status.idle": "2020-10-28T20:04:38.710672Z",
     "shell.execute_reply": "2020-10-28T20:04:38.710173Z"
    },
    "papermill": {
     "duration": 0.046173,
     "end_time": "2020-10-28T20:04:38.710794",
     "exception": false,
     "start_time": "2020-10-28T20:04:38.664621",
     "status": "completed"
    },
    "tags": []
   },
   "outputs": [],
   "source": [
    "y_train = 1*(y_train==3)\n",
    "y_test = 1*(y_test==3)"
   ]
  },
  {
   "cell_type": "code",
   "execution_count": 12,
   "metadata": {
    "execution": {
     "iopub.execute_input": "2020-10-28T20:04:38.768018Z",
     "iopub.status.busy": "2020-10-28T20:04:38.767453Z",
     "iopub.status.idle": "2020-10-28T20:04:38.781371Z",
     "shell.execute_reply": "2020-10-28T20:04:38.780807Z"
    },
    "papermill": {
     "duration": 0.044246,
     "end_time": "2020-10-28T20:04:38.781489",
     "exception": false,
     "start_time": "2020-10-28T20:04:38.737243",
     "status": "completed"
    },
    "tags": []
   },
   "outputs": [
    {
     "data": {
      "text/plain": [
       "((11982, 28, 28), (1984, 28, 28))"
      ]
     },
     "execution_count": 12,
     "metadata": {},
     "output_type": "execute_result"
    }
   ],
   "source": [
    "X_train.shape, X_test.shape"
   ]
  },
  {
   "cell_type": "markdown",
   "metadata": {
    "papermill": {
     "duration": 0.0278,
     "end_time": "2020-10-28T20:04:38.837455",
     "exception": false,
     "start_time": "2020-10-28T20:04:38.809655",
     "status": "completed"
    },
    "tags": []
   },
   "source": [
    "### Reshape the input data to create a linear array"
   ]
  },
  {
   "cell_type": "code",
   "execution_count": 13,
   "metadata": {
    "execution": {
     "iopub.execute_input": "2020-10-28T20:04:38.898226Z",
     "iopub.status.busy": "2020-10-28T20:04:38.896671Z",
     "iopub.status.idle": "2020-10-28T20:04:38.912301Z",
     "shell.execute_reply": "2020-10-28T20:04:38.911568Z"
    },
    "papermill": {
     "duration": 0.047099,
     "end_time": "2020-10-28T20:04:38.912430",
     "exception": false,
     "start_time": "2020-10-28T20:04:38.865331",
     "status": "completed"
    },
    "tags": []
   },
   "outputs": [
    {
     "data": {
      "text/plain": [
       "((11982, 784), (1984, 784))"
      ]
     },
     "execution_count": 13,
     "metadata": {},
     "output_type": "execute_result"
    }
   ],
   "source": [
    "X_train = X_train.reshape(X_train.shape[0], -1)\n",
    "X_test = X_test.reshape(X_test.shape[0], -1)\n",
    "X_train.shape, X_test.shape"
   ]
  },
  {
   "cell_type": "markdown",
   "metadata": {
    "papermill": {
     "duration": 0.027119,
     "end_time": "2020-10-28T20:04:38.966779",
     "exception": false,
     "start_time": "2020-10-28T20:04:38.939660",
     "status": "completed"
    },
    "tags": []
   },
   "source": [
    "### Importing appropriate functions from 'Kudzu'"
   ]
  },
  {
   "cell_type": "code",
   "execution_count": 14,
   "metadata": {
    "execution": {
     "iopub.execute_input": "2020-10-28T20:04:39.026796Z",
     "iopub.status.busy": "2020-10-28T20:04:39.026203Z",
     "iopub.status.idle": "2020-10-28T20:04:39.045054Z",
     "shell.execute_reply": "2020-10-28T20:04:39.045520Z"
    },
    "papermill": {
     "duration": 0.051333,
     "end_time": "2020-10-28T20:04:39.045656",
     "exception": false,
     "start_time": "2020-10-28T20:04:38.994323",
     "status": "completed"
    },
    "tags": []
   },
   "outputs": [],
   "source": [
    "from kudzu.layer import Sigmoid\n",
    "from kudzu.layer import Relu\n",
    "from kudzu.layer import Affine, Sigmoid\n",
    "\n",
    "from kudzu.model import Model\n",
    "from kudzu.train import Learner\n",
    "from kudzu.optim import GD\n",
    "from kudzu.data import Data, Dataloader, Sampler\n",
    "\n",
    "from kudzu.callbacks import AccCallback\n",
    "from kudzu.callbacks import ClfCallback\n",
    "\n",
    "from kudzu.loss import MSE"
   ]
  },
  {
   "cell_type": "markdown",
   "metadata": {
    "papermill": {
     "duration": 0.028426,
     "end_time": "2020-10-28T20:04:39.101949",
     "exception": false,
     "start_time": "2020-10-28T20:04:39.073523",
     "status": "completed"
    },
    "tags": []
   },
   "source": [
    "### Let us create a `Config` class, to store important parameters. \n",
    "This class essentially plays the role of a dictionary."
   ]
  },
  {
   "cell_type": "code",
   "execution_count": 15,
   "metadata": {
    "execution": {
     "iopub.execute_input": "2020-10-28T20:04:39.164179Z",
     "iopub.status.busy": "2020-10-28T20:04:39.163595Z",
     "iopub.status.idle": "2020-10-28T20:04:39.176581Z",
     "shell.execute_reply": "2020-10-28T20:04:39.176080Z"
    },
    "papermill": {
     "duration": 0.047046,
     "end_time": "2020-10-28T20:04:39.176701",
     "exception": false,
     "start_time": "2020-10-28T20:04:39.129655",
     "status": "completed"
    },
    "tags": []
   },
   "outputs": [],
   "source": [
    "class Config:\n",
    "    pass\n",
    "config = Config()\n",
    "config.lr = 0.001\n",
    "config.num_epochs = 251\n",
    "config.bs = 50"
   ]
  },
  {
   "cell_type": "markdown",
   "metadata": {
    "papermill": {
     "duration": 0.027744,
     "end_time": "2020-10-28T20:04:39.232333",
     "exception": false,
     "start_time": "2020-10-28T20:04:39.204589",
     "status": "completed"
    },
    "tags": []
   },
   "source": [
    "### Initializing data to the variables"
   ]
  },
  {
   "cell_type": "code",
   "execution_count": 16,
   "metadata": {
    "execution": {
     "iopub.execute_input": "2020-10-28T20:04:39.297157Z",
     "iopub.status.busy": "2020-10-28T20:04:39.296131Z",
     "iopub.status.idle": "2020-10-28T20:04:39.310377Z",
     "shell.execute_reply": "2020-10-28T20:04:39.309879Z"
    },
    "papermill": {
     "duration": 0.04998,
     "end_time": "2020-10-28T20:04:39.310496",
     "exception": false,
     "start_time": "2020-10-28T20:04:39.260516",
     "status": "completed"
    },
    "tags": []
   },
   "outputs": [],
   "source": [
    "data = Data(X_train, y_train.reshape(-1,1))\n",
    "sampler = Sampler(data, config.bs, shuffle=True)\n",
    "\n",
    "dl = Dataloader(data, sampler)\n",
    "\n",
    "opt = GD(config.lr)\n",
    "loss = MSE()"
   ]
  },
  {
   "cell_type": "code",
   "execution_count": 17,
   "metadata": {
    "execution": {
     "iopub.execute_input": "2020-10-28T20:04:39.374532Z",
     "iopub.status.busy": "2020-10-28T20:04:39.372236Z",
     "iopub.status.idle": "2020-10-28T20:04:39.386118Z",
     "shell.execute_reply": "2020-10-28T20:04:39.385651Z"
    },
    "papermill": {
     "duration": 0.047207,
     "end_time": "2020-10-28T20:04:39.386239",
     "exception": false,
     "start_time": "2020-10-28T20:04:39.339032",
     "status": "completed"
    },
    "tags": []
   },
   "outputs": [],
   "source": [
    "training_xdata = X_train\n",
    "testing_xdata = X_test\n",
    "training_ydata = y_train.reshape(-1,1)\n",
    "testing_ydata = y_test.reshape(-1,1)"
   ]
  },
  {
   "cell_type": "markdown",
   "metadata": {
    "papermill": {
     "duration": 0.028679,
     "end_time": "2020-10-28T20:04:39.443643",
     "exception": false,
     "start_time": "2020-10-28T20:04:39.414964",
     "status": "completed"
    },
    "tags": []
   },
   "source": [
    "### Running Models with the Training data\n",
    "Details about the network layers:\n",
    "- A first affine layer has 784 inputs and does 100 affine transforms. These are followed by a Relu\n",
    "- A second affine layer has 100 inputs from the 100 activations of the past layer, and does 100 affine transforms. These are followed by a Relu\n",
    "- A third affine layer has 100 activations and does 2 affine transformations to create an embedding for visualization. There is no non-linearity here.\n",
    "- A final \"logistic regression\" which has an affine transform from 2 inputs to 1 output, which is squeezed through a sigmoid.\n",
    "\n",
    "Help taken from Anshuman's Notebook."
   ]
  },
  {
   "cell_type": "code",
   "execution_count": 18,
   "metadata": {
    "execution": {
     "iopub.execute_input": "2020-10-28T20:04:39.507156Z",
     "iopub.status.busy": "2020-10-28T20:04:39.506531Z",
     "iopub.status.idle": "2020-10-28T20:04:39.526530Z",
     "shell.execute_reply": "2020-10-28T20:04:39.525884Z"
    },
    "papermill": {
     "duration": 0.054513,
     "end_time": "2020-10-28T20:04:39.526697",
     "exception": false,
     "start_time": "2020-10-28T20:04:39.472184",
     "status": "completed"
    },
    "tags": []
   },
   "outputs": [],
   "source": [
    "# layers for the Neural Network\n",
    "layers = [Affine(\"first\", 784, 100), Relu(\"first\"), Affine(\"second\", 100, 100), Relu(\"second\"), Affine(\"third\", 100, 2), Affine(\"final\", 2, 1), Sigmoid(\"final\")]\n",
    "model_nn = Model(layers)\n",
    "\n",
    "# layers for the Logistic Regression\n",
    "layers_lr = [Affine(\"logits\", 784, 1), Sigmoid(\"sigmoid\")]\n",
    "model_lr = Model(layers_lr)"
   ]
  },
  {
   "cell_type": "code",
   "execution_count": 19,
   "metadata": {
    "execution": {
     "iopub.execute_input": "2020-10-28T20:04:39.590499Z",
     "iopub.status.busy": "2020-10-28T20:04:39.589960Z",
     "iopub.status.idle": "2020-10-28T20:04:39.603940Z",
     "shell.execute_reply": "2020-10-28T20:04:39.604348Z"
    },
    "papermill": {
     "duration": 0.047919,
     "end_time": "2020-10-28T20:04:39.604482",
     "exception": false,
     "start_time": "2020-10-28T20:04:39.556563",
     "status": "completed"
    },
    "tags": []
   },
   "outputs": [],
   "source": [
    "# suffix _nn stands for Neural Network.\n",
    "learner_nn = Learner(loss, model_nn, opt, config.num_epochs)\n",
    "acc_nn = ClfCallback(learner_nn, config.bs, training_xdata , testing_xdata, training_ydata, testing_ydata)\n",
    "learner_nn.set_callbacks([acc_nn])"
   ]
  },
  {
   "cell_type": "code",
   "execution_count": 20,
   "metadata": {
    "execution": {
     "iopub.execute_input": "2020-10-28T20:04:39.664113Z",
     "iopub.status.busy": "2020-10-28T20:04:39.663561Z",
     "iopub.status.idle": "2020-10-28T20:06:02.549630Z",
     "shell.execute_reply": "2020-10-28T20:06:02.549101Z"
    },
    "papermill": {
     "duration": 82.917467,
     "end_time": "2020-10-28T20:06:02.549761",
     "exception": false,
     "start_time": "2020-10-28T20:04:39.632294",
     "status": "completed"
    },
    "tags": []
   },
   "outputs": [
    {
     "name": "stdout",
     "output_type": "stream",
     "text": [
      "====== Neural Network ======\n"
     ]
    },
    {
     "name": "stdout",
     "output_type": "stream",
     "text": [
      "Epoch 0, Loss 0.25\n",
      "Training Accuracy: 0.5304, Testing Accuracy: 0.5549\n",
      "\n"
     ]
    },
    {
     "name": "stdout",
     "output_type": "stream",
     "text": [
      "Epoch 10, Loss 0.1664\n",
      "Training Accuracy: 0.8931, Testing Accuracy: 0.9148\n",
      "\n"
     ]
    },
    {
     "name": "stdout",
     "output_type": "stream",
     "text": [
      "Epoch 20, Loss 0.0792\n",
      "Training Accuracy: 0.9255, Testing Accuracy: 0.9350\n",
      "\n"
     ]
    },
    {
     "name": "stdout",
     "output_type": "stream",
     "text": [
      "Epoch 30, Loss 0.0535\n",
      "Training Accuracy: 0.9439, Testing Accuracy: 0.9531\n",
      "\n"
     ]
    },
    {
     "name": "stdout",
     "output_type": "stream",
     "text": [
      "Epoch 40, Loss 0.0431\n",
      "Training Accuracy: 0.9528, Testing Accuracy: 0.9587\n",
      "\n"
     ]
    },
    {
     "name": "stdout",
     "output_type": "stream",
     "text": [
      "Epoch 50, Loss 0.0377\n",
      "Training Accuracy: 0.9574, Testing Accuracy: 0.9657\n",
      "\n"
     ]
    },
    {
     "name": "stdout",
     "output_type": "stream",
     "text": [
      "Epoch 60, Loss 0.0343\n",
      "Training Accuracy: 0.9610, Testing Accuracy: 0.9662\n",
      "\n"
     ]
    },
    {
     "name": "stdout",
     "output_type": "stream",
     "text": [
      "Epoch 70, Loss 0.0319\n",
      "Training Accuracy: 0.9632, Testing Accuracy: 0.9662\n",
      "\n"
     ]
    },
    {
     "name": "stdout",
     "output_type": "stream",
     "text": [
      "Epoch 80, Loss 0.0302\n",
      "Training Accuracy: 0.9653, Testing Accuracy: 0.9667\n",
      "\n"
     ]
    },
    {
     "name": "stdout",
     "output_type": "stream",
     "text": [
      "Epoch 90, Loss 0.0288\n",
      "Training Accuracy: 0.9668, Testing Accuracy: 0.9667\n",
      "\n"
     ]
    },
    {
     "name": "stdout",
     "output_type": "stream",
     "text": [
      "Epoch 100, Loss 0.0276\n",
      "Training Accuracy: 0.9680, Testing Accuracy: 0.9667\n",
      "\n"
     ]
    },
    {
     "name": "stdout",
     "output_type": "stream",
     "text": [
      "Epoch 110, Loss 0.0266\n",
      "Training Accuracy: 0.9687, Testing Accuracy: 0.9667\n",
      "\n"
     ]
    },
    {
     "name": "stdout",
     "output_type": "stream",
     "text": [
      "Epoch 120, Loss 0.0258\n",
      "Training Accuracy: 0.9699, Testing Accuracy: 0.9682\n",
      "\n"
     ]
    },
    {
     "name": "stdout",
     "output_type": "stream",
     "text": [
      "Epoch 130, Loss 0.025\n",
      "Training Accuracy: 0.9706, Testing Accuracy: 0.9682\n",
      "\n"
     ]
    },
    {
     "name": "stdout",
     "output_type": "stream",
     "text": [
      "Epoch 140, Loss 0.0243\n",
      "Training Accuracy: 0.9712, Testing Accuracy: 0.9693\n",
      "\n"
     ]
    },
    {
     "name": "stdout",
     "output_type": "stream",
     "text": [
      "Epoch 150, Loss 0.0237\n",
      "Training Accuracy: 0.9720, Testing Accuracy: 0.9698\n",
      "\n"
     ]
    },
    {
     "name": "stdout",
     "output_type": "stream",
     "text": [
      "Epoch 160, Loss 0.0231\n",
      "Training Accuracy: 0.9729, Testing Accuracy: 0.9698\n",
      "\n"
     ]
    },
    {
     "name": "stdout",
     "output_type": "stream",
     "text": [
      "Epoch 170, Loss 0.0225\n",
      "Training Accuracy: 0.9735, Testing Accuracy: 0.9703\n",
      "\n"
     ]
    },
    {
     "name": "stdout",
     "output_type": "stream",
     "text": [
      "Epoch 180, Loss 0.0221\n",
      "Training Accuracy: 0.9741, Testing Accuracy: 0.9703\n",
      "\n"
     ]
    },
    {
     "name": "stdout",
     "output_type": "stream",
     "text": [
      "Epoch 190, Loss 0.0216\n",
      "Training Accuracy: 0.9743, Testing Accuracy: 0.9713\n",
      "\n"
     ]
    },
    {
     "name": "stdout",
     "output_type": "stream",
     "text": [
      "Epoch 200, Loss 0.0211\n",
      "Training Accuracy: 0.9749, Testing Accuracy: 0.9718\n",
      "\n"
     ]
    },
    {
     "name": "stdout",
     "output_type": "stream",
     "text": [
      "Epoch 210, Loss 0.0207\n",
      "Training Accuracy: 0.9749, Testing Accuracy: 0.9723\n",
      "\n"
     ]
    },
    {
     "name": "stdout",
     "output_type": "stream",
     "text": [
      "Epoch 220, Loss 0.0203\n",
      "Training Accuracy: 0.9757, Testing Accuracy: 0.9733\n",
      "\n"
     ]
    },
    {
     "name": "stdout",
     "output_type": "stream",
     "text": [
      "Epoch 230, Loss 0.0199\n",
      "Training Accuracy: 0.9765, Testing Accuracy: 0.9728\n",
      "\n"
     ]
    },
    {
     "name": "stdout",
     "output_type": "stream",
     "text": [
      "Epoch 240, Loss 0.0195\n",
      "Training Accuracy: 0.9769, Testing Accuracy: 0.9728\n",
      "\n"
     ]
    },
    {
     "name": "stdout",
     "output_type": "stream",
     "text": [
      "Epoch 250, Loss 0.0191\n",
      "Training Accuracy: 0.9775, Testing Accuracy: 0.9733\n",
      "\n"
     ]
    },
    {
     "data": {
      "text/plain": [
       "0.0400428115564205"
      ]
     },
     "execution_count": 20,
     "metadata": {},
     "output_type": "execute_result"
    }
   ],
   "source": [
    "print(\"====== Neural Network ======\")\n",
    "learner_nn.train_loop(dl)"
   ]
  },
  {
   "cell_type": "markdown",
   "metadata": {
    "papermill": {
     "duration": 0.035678,
     "end_time": "2020-10-28T20:06:02.621779",
     "exception": false,
     "start_time": "2020-10-28T20:06:02.586101",
     "status": "completed"
    },
    "tags": []
   },
   "source": [
    "### Logistic Regression based Implementation."
   ]
  },
  {
   "cell_type": "code",
   "execution_count": 21,
   "metadata": {
    "execution": {
     "iopub.execute_input": "2020-10-28T20:06:02.698082Z",
     "iopub.status.busy": "2020-10-28T20:06:02.697489Z",
     "iopub.status.idle": "2020-10-28T20:06:02.710126Z",
     "shell.execute_reply": "2020-10-28T20:06:02.709620Z"
    },
    "papermill": {
     "duration": 0.053311,
     "end_time": "2020-10-28T20:06:02.710241",
     "exception": false,
     "start_time": "2020-10-28T20:06:02.656930",
     "status": "completed"
    },
    "tags": []
   },
   "outputs": [],
   "source": [
    "learner_lr = Learner(loss, model_lr, opt, config.num_epochs)\n",
    "acc_lr = ClfCallback(learner_lr, config.bs, training_xdata , testing_xdata, training_ydata, testing_ydata)\n",
    "learner_lr.set_callbacks([acc_lr])"
   ]
  },
  {
   "cell_type": "code",
   "execution_count": 22,
   "metadata": {
    "execution": {
     "iopub.execute_input": "2020-10-28T20:06:02.783837Z",
     "iopub.status.busy": "2020-10-28T20:06:02.783253Z",
     "iopub.status.idle": "2020-10-28T20:06:18.881235Z",
     "shell.execute_reply": "2020-10-28T20:06:18.881981Z"
    },
    "papermill": {
     "duration": 16.137134,
     "end_time": "2020-10-28T20:06:18.882140",
     "exception": false,
     "start_time": "2020-10-28T20:06:02.745006",
     "status": "completed"
    },
    "tags": []
   },
   "outputs": [
    {
     "name": "stdout",
     "output_type": "stream",
     "text": [
      "====== Logistic Regression ======\n",
      "Epoch 0, Loss 0.2265\n",
      "Training Accuracy: 0.7224, Testing Accuracy: 0.7354\n",
      "\n"
     ]
    },
    {
     "name": "stdout",
     "output_type": "stream",
     "text": [
      "Epoch 10, Loss 0.1046\n",
      "Training Accuracy: 0.9030, Testing Accuracy: 0.9163\n",
      "\n"
     ]
    },
    {
     "name": "stdout",
     "output_type": "stream",
     "text": [
      "Epoch 20, Loss 0.0805\n",
      "Training Accuracy: 0.9246, Testing Accuracy: 0.9355\n",
      "\n"
     ]
    },
    {
     "name": "stdout",
     "output_type": "stream",
     "text": [
      "Epoch 30, Loss 0.0692\n",
      "Training Accuracy: 0.9343, Testing Accuracy: 0.9451\n",
      "\n"
     ]
    },
    {
     "name": "stdout",
     "output_type": "stream",
     "text": [
      "Epoch 40, Loss 0.0624\n",
      "Training Accuracy: 0.9398, Testing Accuracy: 0.9496\n",
      "\n"
     ]
    },
    {
     "name": "stdout",
     "output_type": "stream",
     "text": [
      "Epoch 50, Loss 0.0577\n",
      "Training Accuracy: 0.9434, Testing Accuracy: 0.9541\n",
      "\n"
     ]
    },
    {
     "name": "stdout",
     "output_type": "stream",
     "text": [
      "Epoch 60, Loss 0.0543\n",
      "Training Accuracy: 0.9463, Testing Accuracy: 0.9556\n",
      "\n"
     ]
    },
    {
     "name": "stdout",
     "output_type": "stream",
     "text": [
      "Epoch 70, Loss 0.0517\n",
      "Training Accuracy: 0.9476, Testing Accuracy: 0.9577\n",
      "\n"
     ]
    },
    {
     "name": "stdout",
     "output_type": "stream",
     "text": [
      "Epoch 80, Loss 0.0496\n",
      "Training Accuracy: 0.9498, Testing Accuracy: 0.9587\n",
      "\n"
     ]
    },
    {
     "name": "stdout",
     "output_type": "stream",
     "text": [
      "Epoch 90, Loss 0.0479\n",
      "Training Accuracy: 0.9514, Testing Accuracy: 0.9592\n",
      "\n"
     ]
    },
    {
     "name": "stdout",
     "output_type": "stream",
     "text": [
      "Epoch 100, Loss 0.0464\n",
      "Training Accuracy: 0.9524, Testing Accuracy: 0.9607\n",
      "\n"
     ]
    },
    {
     "name": "stdout",
     "output_type": "stream",
     "text": [
      "Epoch 110, Loss 0.0452\n",
      "Training Accuracy: 0.9530, Testing Accuracy: 0.9612\n",
      "\n"
     ]
    },
    {
     "name": "stdout",
     "output_type": "stream",
     "text": [
      "Epoch 120, Loss 0.0441\n",
      "Training Accuracy: 0.9545, Testing Accuracy: 0.9622\n",
      "\n"
     ]
    },
    {
     "name": "stdout",
     "output_type": "stream",
     "text": [
      "Epoch 130, Loss 0.0431\n",
      "Training Accuracy: 0.9558, Testing Accuracy: 0.9627\n",
      "\n"
     ]
    },
    {
     "name": "stdout",
     "output_type": "stream",
     "text": [
      "Epoch 140, Loss 0.0423\n",
      "Training Accuracy: 0.9564, Testing Accuracy: 0.9637\n",
      "\n"
     ]
    },
    {
     "name": "stdout",
     "output_type": "stream",
     "text": [
      "Epoch 150, Loss 0.0415\n",
      "Training Accuracy: 0.9565, Testing Accuracy: 0.9642\n",
      "\n"
     ]
    },
    {
     "name": "stdout",
     "output_type": "stream",
     "text": [
      "Epoch 160, Loss 0.0408\n",
      "Training Accuracy: 0.9572, Testing Accuracy: 0.9642\n",
      "\n"
     ]
    },
    {
     "name": "stdout",
     "output_type": "stream",
     "text": [
      "Epoch 170, Loss 0.0402\n",
      "Training Accuracy: 0.9577, Testing Accuracy: 0.9647\n",
      "\n"
     ]
    },
    {
     "name": "stdout",
     "output_type": "stream",
     "text": [
      "Epoch 180, Loss 0.0396\n",
      "Training Accuracy: 0.9583, Testing Accuracy: 0.9647\n",
      "\n"
     ]
    },
    {
     "name": "stdout",
     "output_type": "stream",
     "text": [
      "Epoch 190, Loss 0.0391\n",
      "Training Accuracy: 0.9586, Testing Accuracy: 0.9652\n",
      "\n"
     ]
    },
    {
     "name": "stdout",
     "output_type": "stream",
     "text": [
      "Epoch 200, Loss 0.0386\n",
      "Training Accuracy: 0.9589, Testing Accuracy: 0.9662\n",
      "\n"
     ]
    },
    {
     "name": "stdout",
     "output_type": "stream",
     "text": [
      "Epoch 210, Loss 0.0382\n",
      "Training Accuracy: 0.9591, Testing Accuracy: 0.9662\n",
      "\n"
     ]
    },
    {
     "name": "stdout",
     "output_type": "stream",
     "text": [
      "Epoch 220, Loss 0.0378\n",
      "Training Accuracy: 0.9594, Testing Accuracy: 0.9657\n",
      "\n"
     ]
    },
    {
     "name": "stdout",
     "output_type": "stream",
     "text": [
      "Epoch 230, Loss 0.0374\n",
      "Training Accuracy: 0.9599, Testing Accuracy: 0.9657\n",
      "\n"
     ]
    },
    {
     "name": "stdout",
     "output_type": "stream",
     "text": [
      "Epoch 240, Loss 0.037\n",
      "Training Accuracy: 0.9602, Testing Accuracy: 0.9667\n",
      "\n"
     ]
    },
    {
     "name": "stdout",
     "output_type": "stream",
     "text": [
      "Epoch 250, Loss 0.0367\n",
      "Training Accuracy: 0.9601, Testing Accuracy: 0.9667\n",
      "\n"
     ]
    },
    {
     "data": {
      "text/plain": [
       "0.012243075218890282"
      ]
     },
     "execution_count": 22,
     "metadata": {},
     "output_type": "execute_result"
    }
   ],
   "source": [
    "print(\"====== Logistic Regression ======\")\n",
    "learner_lr.train_loop(dl)"
   ]
  },
  {
   "cell_type": "markdown",
   "metadata": {
    "papermill": {
     "duration": 0.042432,
     "end_time": "2020-10-28T20:06:18.969669",
     "exception": false,
     "start_time": "2020-10-28T20:06:18.927237",
     "status": "completed"
    },
    "tags": []
   },
   "source": [
    "### Comparing results of NN and LR"
   ]
  },
  {
   "cell_type": "code",
   "execution_count": 23,
   "metadata": {
    "execution": {
     "iopub.execute_input": "2020-10-28T20:06:19.058368Z",
     "iopub.status.busy": "2020-10-28T20:06:19.057737Z",
     "iopub.status.idle": "2020-10-28T20:06:19.288001Z",
     "shell.execute_reply": "2020-10-28T20:06:19.287510Z"
    },
    "papermill": {
     "duration": 0.278162,
     "end_time": "2020-10-28T20:06:19.288123",
     "exception": false,
     "start_time": "2020-10-28T20:06:19.009961",
     "status": "completed"
    },
    "tags": []
   },
   "outputs": [
    {
     "data": {
      "text/plain": [
       "<matplotlib.legend.Legend at 0x7f6e428e9320>"
      ]
     },
     "execution_count": 23,
     "metadata": {},
     "output_type": "execute_result"
    },
    {
     "data": {
      "image/png": "[encoded data removed]",
      "text/plain": [
       "<Figure size 1080x720 with 1 Axes>"
      ]
     },
     "metadata": {
      "needs_background": "light"
     },
     "output_type": "display_data"
    }
   ],
   "source": [
    "plt.figure(figsize=(15,10))\n",
    "\n",
    "# Neural Network plots\n",
    "plt.plot(acc_nn.accuracies, 'r-', label = \"Training Accuracies - NN\")\n",
    "plt.plot(acc_nn.test_accuracies, 'g-', label = \"Testing Accuracies - NN\")\n",
    "\n",
    "# Logistic Regression plots\n",
    "plt.plot(acc_lr.accuracies, 'k-', label = \"Training Accuracies - LR\")\n",
    "plt.plot(acc_lr.test_accuracies, 'b-', label = \"Testing Accuracies - LR\")\n",
    "\n",
    "plt.ylim(0.8, 1)\n",
    "\n",
    "plt.legend()\n",
    "\n"
   ]
  },
  {
   "cell_type": "markdown",
   "metadata": {
    "papermill": {
     "duration": 0.044073,
     "end_time": "2020-10-28T20:06:19.376978",
     "exception": false,
     "start_time": "2020-10-28T20:06:19.332905",
     "status": "completed"
    },
    "tags": []
   },
   "source": [
    "### From the plot, we can observe the following:\n",
    "- Neural Network achieves higher accuracy than the Logistic Regression model.\n",
    "- This apparently, is because of overfitting, i.e. NN captures more noise than data.\n",
    "- Testing accuracy of NN drops below the Training accuracy at higher epochs. This explains the over-fitting on training data.\n",
    "- Logistic Regression gives a reliable accuracy, without the above mentioned problem.\n"
   ]
  },
  {
   "cell_type": "markdown",
   "metadata": {
    "papermill": {
     "duration": 0.043052,
     "end_time": "2020-10-28T20:06:19.462053",
     "exception": false,
     "start_time": "2020-10-28T20:06:19.419001",
     "status": "completed"
    },
    "tags": []
   },
   "source": [
    "### Moving till the last but one layer (excluding it).\n",
    "#### Plotting the outputs of this layer of the NN."
   ]
  },
  {
   "cell_type": "code",
   "execution_count": 24,
   "metadata": {
    "execution": {
     "iopub.execute_input": "2020-10-28T20:06:19.556478Z",
     "iopub.status.busy": "2020-10-28T20:06:19.552337Z",
     "iopub.status.idle": "2020-10-28T20:06:19.565665Z",
     "shell.execute_reply": "2020-10-28T20:06:19.565195Z"
    },
    "papermill": {
     "duration": 0.060364,
     "end_time": "2020-10-28T20:06:19.565775",
     "exception": false,
     "start_time": "2020-10-28T20:06:19.505411",
     "status": "completed"
    },
    "tags": []
   },
   "outputs": [],
   "source": [
    "model_new = Model(layers[:-2])"
   ]
  },
  {
   "cell_type": "code",
   "execution_count": 25,
   "metadata": {
    "execution": {
     "iopub.execute_input": "2020-10-28T20:06:19.660246Z",
     "iopub.status.busy": "2020-10-28T20:06:19.659661Z",
     "iopub.status.idle": "2020-10-28T20:06:19.679167Z",
     "shell.execute_reply": "2020-10-28T20:06:19.679608Z"
    },
    "papermill": {
     "duration": 0.07011,
     "end_time": "2020-10-28T20:06:19.679736",
     "exception": false,
     "start_time": "2020-10-28T20:06:19.609626",
     "status": "completed"
    },
    "tags": []
   },
   "outputs": [],
   "source": [
    "plot_testing = model_new(testing_xdata)"
   ]
  },
  {
   "cell_type": "code",
   "execution_count": 26,
   "metadata": {
    "execution": {
     "iopub.execute_input": "2020-10-28T20:06:19.776141Z",
     "iopub.status.busy": "2020-10-28T20:06:19.775611Z",
     "iopub.status.idle": "2020-10-28T20:06:19.977460Z",
     "shell.execute_reply": "2020-10-28T20:06:19.977909Z"
    },
    "papermill": {
     "duration": 0.254396,
     "end_time": "2020-10-28T20:06:19.978065",
     "exception": false,
     "start_time": "2020-10-28T20:06:19.723669",
     "status": "completed"
    },
    "tags": []
   },
   "outputs": [
    {
     "data": {
      "text/plain": [
       "Text(0.5, 1.0, 'Outputs')"
      ]
     },
     "execution_count": 26,
     "metadata": {},
     "output_type": "execute_result"
    },
    {
     "data": {
      "image/png": "[encoded data removed]",
      "text/plain": [
       "<Figure size 576x504 with 1 Axes>"
      ]
     },
     "metadata": {
      "needs_background": "light"
     },
     "output_type": "display_data"
    }
   ],
   "source": [
    "plt.figure(figsize=(8,7))\n",
    "plt.scatter(plot_testing[:,0], plot_testing[:,1], alpha = 0.1, c = y_test.ravel());\n",
    "plt.title('Outputs')"
   ]
  },
  {
   "cell_type": "markdown",
   "metadata": {
    "papermill": {
     "duration": 0.048664,
     "end_time": "2020-10-28T20:06:20.075348",
     "exception": false,
     "start_time": "2020-10-28T20:06:20.026684",
     "status": "completed"
    },
    "tags": []
   },
   "source": [
    "### Plotting probability contours"
   ]
  },
  {
   "cell_type": "code",
   "execution_count": 27,
   "metadata": {
    "execution": {
     "iopub.execute_input": "2020-10-28T20:06:20.174558Z",
     "iopub.status.busy": "2020-10-28T20:06:20.173976Z",
     "iopub.status.idle": "2020-10-28T20:06:20.188149Z",
     "shell.execute_reply": "2020-10-28T20:06:20.188622Z"
    },
    "papermill": {
     "duration": 0.06627,
     "end_time": "2020-10-28T20:06:20.188764",
     "exception": false,
     "start_time": "2020-10-28T20:06:20.122494",
     "status": "completed"
    },
    "tags": []
   },
   "outputs": [],
   "source": [
    "model_prob = Model(layers[-2:]) "
   ]
  },
  {
   "cell_type": "code",
   "execution_count": 28,
   "metadata": {
    "execution": {
     "iopub.execute_input": "2020-10-28T20:06:20.286460Z",
     "iopub.status.busy": "2020-10-28T20:06:20.285873Z",
     "iopub.status.idle": "2020-10-28T20:06:20.300182Z",
     "shell.execute_reply": "2020-10-28T20:06:20.300649Z"
    },
    "papermill": {
     "duration": 0.065374,
     "end_time": "2020-10-28T20:06:20.300787",
     "exception": false,
     "start_time": "2020-10-28T20:06:20.235413",
     "status": "completed"
    },
    "tags": []
   },
   "outputs": [],
   "source": [
    "# Adjust the x and y ranges according to the above generated plot.\n",
    "x_range = np.linspace(-4, 1, 100) \n",
    "y_range = np.linspace(-6, 6, 100) \n",
    "x_grid, y_grid = np.meshgrid(x_range, y_range) # x_grid and y_grig are of size 100 X 100\n",
    "\n",
    "# converting x_grid and y_grid to continuous arrays\n",
    "x_grid_flat = np.ravel(x_grid)\n",
    "y_grid_flat = np.ravel(y_grid)\n",
    "\n",
    "# The last layer of the current model takes two columns as input. Hence transpose of np.vstack() is required.\n",
    "X = np.vstack((x_grid_flat, y_grid_flat)).T\n",
    "\n",
    "# x_grid and y_grid are of size 100 x 100\n",
    "probability_contour = model_prob(X).reshape(100,100) "
   ]
  },
  {
   "cell_type": "code",
   "execution_count": 29,
   "metadata": {
    "execution": {
     "iopub.execute_input": "2020-10-28T20:06:20.407980Z",
     "iopub.status.busy": "2020-10-28T20:06:20.407423Z",
     "iopub.status.idle": "2020-10-28T20:06:20.646236Z",
     "shell.execute_reply": "2020-10-28T20:06:20.645727Z"
    },
    "papermill": {
     "duration": 0.298511,
     "end_time": "2020-10-28T20:06:20.646366",
     "exception": false,
     "start_time": "2020-10-28T20:06:20.347855",
     "status": "completed"
    },
    "tags": []
   },
   "outputs": [
    {
     "data": {
      "image/png": "[encoded data removed]",
      "text/plain": [
       "<Figure size 720x648 with 1 Axes>"
      ]
     },
     "metadata": {
      "needs_background": "light"
     },
     "output_type": "display_data"
    }
   ],
   "source": [
    "plt.figure(figsize=(10,9))\n",
    "plt.scatter(plot_testing[:,0], plot_testing[:,1], alpha = 0.1, c = y_test.ravel())\n",
    "contours = plt.contour(x_grid,y_grid,probability_contour)\n",
    "plt.title('Probability Contours')\n",
    "plt.clabel(contours, inline = True );"
   ]
  }
 ],
 "metadata": {
  "kernelspec": {
   "display_name": "Python 3",
   "language": "python",
   "name": "python3"
  },
  "language_info": {
   "codemirror_mode": {
    "name": "ipython",
    "version": 3
   },
   "file_extension": ".py",
   "mimetype": "text/x-python",
   "name": "python",
   "nbconvert_exporter": "python",
   "pygments_lexer": "ipython3",
   "version": "3.6.12"
  },
  "papermill": {
   "duration": 108.532507,
   "end_time": "2020-10-28T20:06:21.001051",
   "environment_variables": {},
   "exception": null,
   "input_path": "2020-08-11-NeuralNetwork.ipynb",
   "output_path": "2020-08-11-NeuralNetwork.ipynb",
   "parameters": {},
   "start_time": "2020-10-28T20:04:32.468544",
   "version": "2.1.2"
  }
 },
 "nbformat": 4,
 "nbformat_minor": 4
}