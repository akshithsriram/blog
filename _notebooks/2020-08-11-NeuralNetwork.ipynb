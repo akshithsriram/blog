{
 "cells": [
  {
   "cell_type": "markdown",
   "id": "fitted-suggestion",
   "metadata": {
    "papermill": {
     "duration": 0.033153,
     "end_time": "2021-01-26T00:10:38.927056",
     "exception": false,
     "start_time": "2021-01-26T00:10:38.893903",
     "status": "completed"
    },
    "tags": []
   },
   "source": [
    "# \"A Basic Neural Network: Differentiate Hand-Written Digits\"\n",
    "\n",
    "- badges: true\n",
    "- author: Akshith Sriram"
   ]
  },
  {
   "cell_type": "markdown",
   "id": "signal-flexibility",
   "metadata": {
    "papermill": {
     "duration": 0.029643,
     "end_time": "2021-01-26T00:10:38.986096",
     "exception": false,
     "start_time": "2021-01-26T00:10:38.956453",
     "status": "completed"
    },
    "tags": []
   },
   "source": [
    "### Key Objectives:\n",
    "- Building a neural network that differentiates two hand-written digits 3 and 8.\n",
    "- Comparing the results of this Neural Network (NN) to that of a Logistic Regression (LR) model.\n",
    "\n",
    "### Requirements:\n",
    "- 'Kudzu' : A neural network library that was designed during our course by [Univ.AI](www.univ.ai). \n",
    "- MNIST Database\n",
    "\n",
    "If MNIST is not installed, use the command `!pip install mnist` given below.\n",
    "It can be run both from the command line and Jupyter Notebook."
   ]
  },
  {
   "cell_type": "code",
   "execution_count": 1,
   "id": "british-texture",
   "metadata": {
    "execution": {
     "iopub.execute_input": "2021-01-26T00:10:39.052909Z",
     "iopub.status.busy": "2021-01-26T00:10:39.052268Z",
     "iopub.status.idle": "2021-01-26T00:10:40.674880Z",
     "shell.execute_reply": "2021-01-26T00:10:40.673474Z"
    },
    "papermill": {
     "duration": 1.660756,
     "end_time": "2021-01-26T00:10:40.675054",
     "exception": false,
     "start_time": "2021-01-26T00:10:39.014298",
     "status": "completed"
    },
    "tags": []
   },
   "outputs": [
    {
     "name": "stdout",
     "output_type": "stream",
     "text": [
      "Collecting mnist\r\n"
     ]
    },
    {
     "name": "stdout",
     "output_type": "stream",
     "text": [
      "  Downloading mnist-0.2.2-py2.py3-none-any.whl (3.5 kB)\r\n",
      "Requirement already satisfied: numpy in /opt/hostedtoolcache/Python/3.6.12/x64/lib/python3.6/site-packages (from mnist) (1.19.5)\r\n"
     ]
    },
    {
     "name": "stdout",
     "output_type": "stream",
     "text": [
      "Installing collected packages: mnist\r\n"
     ]
    },
    {
     "name": "stdout",
     "output_type": "stream",
     "text": [
      "Successfully installed mnist-0.2.2\r\n"
     ]
    },
    {
     "name": "stdout",
     "output_type": "stream",
     "text": [
      "\u001b[33mWARNING: You are using pip version 20.3.1; however, version 21.0 is available.\r\n",
      "You should consider upgrading via the '/opt/hostedtoolcache/Python/3.6.12/x64/bin/python -m pip install --upgrade pip' command.\u001b[0m\r\n"
     ]
    }
   ],
   "source": [
    "!pip install mnist "
   ]
  },
  {
   "cell_type": "markdown",
   "id": "stunning-extra",
   "metadata": {
    "papermill": {
     "duration": 0.031093,
     "end_time": "2021-01-26T00:10:40.738217",
     "exception": false,
     "start_time": "2021-01-26T00:10:40.707124",
     "status": "completed"
    },
    "tags": []
   },
   "source": [
    "#### Importing necessary libraries"
   ]
  },
  {
   "cell_type": "code",
   "execution_count": 2,
   "id": "wooden-france",
   "metadata": {
    "execution": {
     "iopub.execute_input": "2021-01-26T00:10:40.808041Z",
     "iopub.status.busy": "2021-01-26T00:10:40.807197Z",
     "iopub.status.idle": "2021-01-26T00:10:41.426816Z",
     "shell.execute_reply": "2021-01-26T00:10:41.427295Z"
    },
    "papermill": {
     "duration": 0.658404,
     "end_time": "2021-01-26T00:10:41.427464",
     "exception": false,
     "start_time": "2021-01-26T00:10:40.769060",
     "status": "completed"
    },
    "tags": []
   },
   "outputs": [],
   "source": [
    "%load_ext autoreload\n",
    "%autoreload 2\n",
    "\n",
    "%matplotlib inline\n",
    "import matplotlib.pyplot as plt\n",
    "\n",
    "import numpy as np\n",
    "import pandas as pd"
   ]
  },
  {
   "cell_type": "markdown",
   "id": "stunning-physics",
   "metadata": {
    "papermill": {
     "duration": 0.030195,
     "end_time": "2021-01-26T00:10:41.488177",
     "exception": false,
     "start_time": "2021-01-26T00:10:41.457982",
     "status": "completed"
    },
    "tags": []
   },
   "source": [
    "### Preparing the Data"
   ]
  },
  {
   "cell_type": "code",
   "execution_count": 3,
   "id": "unauthorized-remainder",
   "metadata": {
    "execution": {
     "iopub.execute_input": "2021-01-26T00:10:41.551452Z",
     "iopub.status.busy": "2021-01-26T00:10:41.550875Z",
     "iopub.status.idle": "2021-01-26T00:10:41.564081Z",
     "shell.execute_reply": "2021-01-26T00:10:41.563583Z"
    },
    "papermill": {
     "duration": 0.046379,
     "end_time": "2021-01-26T00:10:41.564207",
     "exception": false,
     "start_time": "2021-01-26T00:10:41.517828",
     "status": "completed"
    },
    "tags": []
   },
   "outputs": [],
   "source": [
    "import mnist"
   ]
  },
  {
   "cell_type": "code",
   "execution_count": 4,
   "id": "correct-antarctica",
   "metadata": {
    "execution": {
     "iopub.execute_input": "2021-01-26T00:10:41.627650Z",
     "iopub.status.busy": "2021-01-26T00:10:41.627072Z",
     "iopub.status.idle": "2021-01-26T00:10:42.481926Z",
     "shell.execute_reply": "2021-01-26T00:10:42.481331Z"
    },
    "papermill": {
     "duration": 0.888228,
     "end_time": "2021-01-26T00:10:42.482076",
     "exception": false,
     "start_time": "2021-01-26T00:10:41.593848",
     "status": "completed"
    },
    "tags": []
   },
   "outputs": [],
   "source": [
    "train_images = mnist.train_images()\n",
    "train_labels = mnist.train_labels()"
   ]
  },
  {
   "cell_type": "code",
   "execution_count": 5,
   "id": "musical-prospect",
   "metadata": {
    "execution": {
     "iopub.execute_input": "2021-01-26T00:10:42.546034Z",
     "iopub.status.busy": "2021-01-26T00:10:42.545417Z",
     "iopub.status.idle": "2021-01-26T00:10:42.561321Z",
     "shell.execute_reply": "2021-01-26T00:10:42.560360Z"
    },
    "papermill": {
     "duration": 0.049359,
     "end_time": "2021-01-26T00:10:42.561485",
     "exception": false,
     "start_time": "2021-01-26T00:10:42.512126",
     "status": "completed"
    },
    "tags": []
   },
   "outputs": [
    {
     "data": {
      "text/plain": [
       "((60000, 28, 28), (60000,))"
      ]
     },
     "execution_count": 5,
     "metadata": {},
     "output_type": "execute_result"
    }
   ],
   "source": [
    "train_images.shape, train_labels.shape"
   ]
  },
  {
   "cell_type": "code",
   "execution_count": 6,
   "id": "preliminary-elizabeth",
   "metadata": {
    "execution": {
     "iopub.execute_input": "2021-01-26T00:10:42.630461Z",
     "iopub.status.busy": "2021-01-26T00:10:42.629863Z",
     "iopub.status.idle": "2021-01-26T00:10:42.937770Z",
     "shell.execute_reply": "2021-01-26T00:10:42.936606Z"
    },
    "papermill": {
     "duration": 0.345754,
     "end_time": "2021-01-26T00:10:42.937914",
     "exception": false,
     "start_time": "2021-01-26T00:10:42.592160",
     "status": "completed"
    },
    "tags": []
   },
   "outputs": [],
   "source": [
    "test_images = mnist.test_images()\n",
    "test_labels = mnist.test_labels()"
   ]
  },
  {
   "cell_type": "code",
   "execution_count": 7,
   "id": "acknowledged-oxygen",
   "metadata": {
    "execution": {
     "iopub.execute_input": "2021-01-26T00:10:43.311551Z",
     "iopub.status.busy": "2021-01-26T00:10:43.310770Z",
     "iopub.status.idle": "2021-01-26T00:10:43.326284Z",
     "shell.execute_reply": "2021-01-26T00:10:43.326925Z"
    },
    "papermill": {
     "duration": 0.352078,
     "end_time": "2021-01-26T00:10:43.327127",
     "exception": false,
     "start_time": "2021-01-26T00:10:42.975049",
     "status": "completed"
    },
    "tags": []
   },
   "outputs": [
    {
     "data": {
      "text/plain": [
       "((10000, 28, 28), (10000,))"
      ]
     },
     "execution_count": 7,
     "metadata": {},
     "output_type": "execute_result"
    }
   ],
   "source": [
    "test_images.shape, test_labels.shape"
   ]
  },
  {
   "cell_type": "code",
   "execution_count": 8,
   "id": "innovative-organic",
   "metadata": {
    "execution": {
     "iopub.execute_input": "2021-01-26T00:10:43.407953Z",
     "iopub.status.busy": "2021-01-26T00:10:43.407317Z",
     "iopub.status.idle": "2021-01-26T00:10:43.557954Z",
     "shell.execute_reply": "2021-01-26T00:10:43.557358Z"
    },
    "papermill": {
     "duration": 0.197245,
     "end_time": "2021-01-26T00:10:43.558088",
     "exception": false,
     "start_time": "2021-01-26T00:10:43.360843",
     "status": "completed"
    },
    "tags": []
   },
   "outputs": [
    {
     "name": "stdout",
     "output_type": "stream",
     "text": [
      "2\n"
     ]
    },
    {
     "data": {
      "text/plain": [
       "<matplotlib.image.AxesImage at 0x7f8fd97259e8>"
      ]
     },
     "execution_count": 8,
     "metadata": {},
     "output_type": "execute_result"
    },
    {
     "data": {
      "image/png": "[encoded data removed]",
      "text/plain": [
       "<Figure size 432x288 with 1 Axes>"
      ]
     },
     "metadata": {
      "needs_background": "light"
     },
     "output_type": "display_data"
    }
   ],
   "source": [
    "image_index = 7776 # You may select anything up to 60,000\n",
    "print(train_labels[image_index]) \n",
    "plt.imshow(train_images[image_index], cmap='Greys')"
   ]
  },
  {
   "cell_type": "markdown",
   "id": "facial-modem",
   "metadata": {
    "papermill": {
     "duration": 0.031786,
     "end_time": "2021-01-26T00:10:43.621434",
     "exception": false,
     "start_time": "2021-01-26T00:10:43.589648",
     "status": "completed"
    },
    "tags": []
   },
   "source": [
    "## Filter data to get 3 and 8 out"
   ]
  },
  {
   "cell_type": "code",
   "execution_count": 9,
   "id": "thousand-acquisition",
   "metadata": {
    "execution": {
     "iopub.execute_input": "2021-01-26T00:10:43.689635Z",
     "iopub.status.busy": "2021-01-26T00:10:43.689003Z",
     "iopub.status.idle": "2021-01-26T00:10:43.705912Z",
     "shell.execute_reply": "2021-01-26T00:10:43.705380Z"
    },
    "papermill": {
     "duration": 0.053353,
     "end_time": "2021-01-26T00:10:43.706042",
     "exception": false,
     "start_time": "2021-01-26T00:10:43.652689",
     "status": "completed"
    },
    "tags": []
   },
   "outputs": [],
   "source": [
    "train_filter = np.where((train_labels == 3 ) | (train_labels == 8))\n",
    "test_filter = np.where((test_labels == 3) | (test_labels == 8))\n",
    "X_train, y_train = train_images[train_filter], train_labels[train_filter]\n",
    "X_test, y_test = test_images[test_filter], test_labels[test_filter]"
   ]
  },
  {
   "cell_type": "markdown",
   "id": "ruled-access",
   "metadata": {
    "papermill": {
     "duration": 0.031507,
     "end_time": "2021-01-26T00:10:43.769294",
     "exception": false,
     "start_time": "2021-01-26T00:10:43.737787",
     "status": "completed"
    },
    "tags": []
   },
   "source": [
    "We normalize the pixel values in the 0 to 1 range"
   ]
  },
  {
   "cell_type": "code",
   "execution_count": 10,
   "id": "isolated-denver",
   "metadata": {
    "execution": {
     "iopub.execute_input": "2021-01-26T00:10:43.838028Z",
     "iopub.status.busy": "2021-01-26T00:10:43.837098Z",
     "iopub.status.idle": "2021-01-26T00:10:43.885914Z",
     "shell.execute_reply": "2021-01-26T00:10:43.885254Z"
    },
    "papermill": {
     "duration": 0.085519,
     "end_time": "2021-01-26T00:10:43.886063",
     "exception": false,
     "start_time": "2021-01-26T00:10:43.800544",
     "status": "completed"
    },
    "tags": []
   },
   "outputs": [],
   "source": [
    "X_train = X_train/255.\n",
    "X_test = X_test/255."
   ]
  },
  {
   "cell_type": "markdown",
   "id": "perfect-summary",
   "metadata": {
    "papermill": {
     "duration": 0.036707,
     "end_time": "2021-01-26T00:10:43.960489",
     "exception": false,
     "start_time": "2021-01-26T00:10:43.923782",
     "status": "completed"
    },
    "tags": []
   },
   "source": [
    "Setup the labels as 1 (when the digit is 3) and 0 (when the digit is 8)"
   ]
  },
  {
   "cell_type": "code",
   "execution_count": 11,
   "id": "personalized-growing",
   "metadata": {
    "execution": {
     "iopub.execute_input": "2021-01-26T00:10:44.031638Z",
     "iopub.status.busy": "2021-01-26T00:10:44.031025Z",
     "iopub.status.idle": "2021-01-26T00:10:44.045162Z",
     "shell.execute_reply": "2021-01-26T00:10:44.044597Z"
    },
    "papermill": {
     "duration": 0.051187,
     "end_time": "2021-01-26T00:10:44.045297",
     "exception": false,
     "start_time": "2021-01-26T00:10:43.994110",
     "status": "completed"
    },
    "tags": []
   },
   "outputs": [],
   "source": [
    "y_train = 1*(y_train==3)\n",
    "y_test = 1*(y_test==3)"
   ]
  },
  {
   "cell_type": "code",
   "execution_count": 12,
   "id": "considered-virgin",
   "metadata": {
    "execution": {
     "iopub.execute_input": "2021-01-26T00:10:44.115769Z",
     "iopub.status.busy": "2021-01-26T00:10:44.113678Z",
     "iopub.status.idle": "2021-01-26T00:10:44.127114Z",
     "shell.execute_reply": "2021-01-26T00:10:44.127558Z"
    },
    "papermill": {
     "duration": 0.050895,
     "end_time": "2021-01-26T00:10:44.127716",
     "exception": false,
     "start_time": "2021-01-26T00:10:44.076821",
     "status": "completed"
    },
    "tags": []
   },
   "outputs": [
    {
     "data": {
      "text/plain": [
       "((11982, 28, 28), (1984, 28, 28))"
      ]
     },
     "execution_count": 12,
     "metadata": {},
     "output_type": "execute_result"
    }
   ],
   "source": [
    "X_train.shape, X_test.shape"
   ]
  },
  {
   "cell_type": "markdown",
   "id": "civilian-mobile",
   "metadata": {
    "papermill": {
     "duration": 0.034291,
     "end_time": "2021-01-26T00:10:44.198045",
     "exception": false,
     "start_time": "2021-01-26T00:10:44.163754",
     "status": "completed"
    },
    "tags": []
   },
   "source": [
    "### Reshape the input data to create a linear array"
   ]
  },
  {
   "cell_type": "code",
   "execution_count": 13,
   "id": "colonial-adams",
   "metadata": {
    "execution": {
     "iopub.execute_input": "2021-01-26T00:10:44.270212Z",
     "iopub.status.busy": "2021-01-26T00:10:44.269603Z",
     "iopub.status.idle": "2021-01-26T00:10:44.285735Z",
     "shell.execute_reply": "2021-01-26T00:10:44.286464Z"
    },
    "papermill": {
     "duration": 0.054486,
     "end_time": "2021-01-26T00:10:44.286622",
     "exception": false,
     "start_time": "2021-01-26T00:10:44.232136",
     "status": "completed"
    },
    "tags": []
   },
   "outputs": [
    {
     "data": {
      "text/plain": [
       "((11982, 784), (1984, 784))"
      ]
     },
     "execution_count": 13,
     "metadata": {},
     "output_type": "execute_result"
    }
   ],
   "source": [
    "X_train = X_train.reshape(X_train.shape[0], -1)\n",
    "X_test = X_test.reshape(X_test.shape[0], -1)\n",
    "X_train.shape, X_test.shape"
   ]
  },
  {
   "cell_type": "markdown",
   "id": "smart-details",
   "metadata": {
    "papermill": {
     "duration": 0.031795,
     "end_time": "2021-01-26T00:10:44.350489",
     "exception": false,
     "start_time": "2021-01-26T00:10:44.318694",
     "status": "completed"
    },
    "tags": []
   },
   "source": [
    "### Importing appropriate functions from 'Kudzu'"
   ]
  },
  {
   "cell_type": "code",
   "execution_count": 14,
   "id": "celtic-trial",
   "metadata": {
    "execution": {
     "iopub.execute_input": "2021-01-26T00:10:44.419766Z",
     "iopub.status.busy": "2021-01-26T00:10:44.419175Z",
     "iopub.status.idle": "2021-01-26T00:10:44.440766Z",
     "shell.execute_reply": "2021-01-26T00:10:44.440121Z"
    },
    "papermill": {
     "duration": 0.058377,
     "end_time": "2021-01-26T00:10:44.440971",
     "exception": false,
     "start_time": "2021-01-26T00:10:44.382594",
     "status": "completed"
    },
    "tags": []
   },
   "outputs": [],
   "source": [
    "from kudzu.layer import Sigmoid\n",
    "from kudzu.layer import Relu\n",
    "from kudzu.layer import Affine, Sigmoid\n",
    "\n",
    "from kudzu.model import Model\n",
    "from kudzu.train import Learner\n",
    "from kudzu.optim import GD\n",
    "from kudzu.data import Data, Dataloader, Sampler\n",
    "\n",
    "from kudzu.callbacks import AccCallback\n",
    "from kudzu.callbacks import ClfCallback\n",
    "\n",
    "from kudzu.loss import MSE"
   ]
  },
  {
   "cell_type": "markdown",
   "id": "coupled-customer",
   "metadata": {
    "papermill": {
     "duration": 0.031993,
     "end_time": "2021-01-26T00:10:44.506884",
     "exception": false,
     "start_time": "2021-01-26T00:10:44.474891",
     "status": "completed"
    },
    "tags": []
   },
   "source": [
    "### Let us create a `Config` class, to store important parameters. \n",
    "This class essentially plays the role of a dictionary."
   ]
  },
  {
   "cell_type": "code",
   "execution_count": 15,
   "id": "young-ceiling",
   "metadata": {
    "execution": {
     "iopub.execute_input": "2021-01-26T00:10:44.575776Z",
     "iopub.status.busy": "2021-01-26T00:10:44.575172Z",
     "iopub.status.idle": "2021-01-26T00:10:44.590752Z",
     "shell.execute_reply": "2021-01-26T00:10:44.591240Z"
    },
    "papermill": {
     "duration": 0.052481,
     "end_time": "2021-01-26T00:10:44.591398",
     "exception": false,
     "start_time": "2021-01-26T00:10:44.538917",
     "status": "completed"
    },
    "tags": []
   },
   "outputs": [],
   "source": [
    "class Config:\n",
    "    pass\n",
    "config = Config()\n",
    "config.lr = 0.001\n",
    "config.num_epochs = 251\n",
    "config.bs = 50"
   ]
  },
  {
   "cell_type": "markdown",
   "id": "according-mandate",
   "metadata": {
    "papermill": {
     "duration": 0.033098,
     "end_time": "2021-01-26T00:10:44.658188",
     "exception": false,
     "start_time": "2021-01-26T00:10:44.625090",
     "status": "completed"
    },
    "tags": []
   },
   "source": [
    "### Initializing data to the variables"
   ]
  },
  {
   "cell_type": "code",
   "execution_count": 16,
   "id": "academic-disposition",
   "metadata": {
    "execution": {
     "iopub.execute_input": "2021-01-26T00:10:44.732412Z",
     "iopub.status.busy": "2021-01-26T00:10:44.730160Z",
     "iopub.status.idle": "2021-01-26T00:10:44.743632Z",
     "shell.execute_reply": "2021-01-26T00:10:44.743128Z"
    },
    "papermill": {
     "duration": 0.053118,
     "end_time": "2021-01-26T00:10:44.743765",
     "exception": false,
     "start_time": "2021-01-26T00:10:44.690647",
     "status": "completed"
    },
    "tags": []
   },
   "outputs": [],
   "source": [
    "data = Data(X_train, y_train.reshape(-1,1))\n",
    "sampler = Sampler(data, config.bs, shuffle=True)\n",
    "\n",
    "dl = Dataloader(data, sampler)\n",
    "\n",
    "opt = GD(config.lr)\n",
    "loss = MSE()"
   ]
  },
  {
   "cell_type": "code",
   "execution_count": 17,
   "id": "featured-commission",
   "metadata": {
    "execution": {
     "iopub.execute_input": "2021-01-26T00:10:44.818296Z",
     "iopub.status.busy": "2021-01-26T00:10:44.817712Z",
     "iopub.status.idle": "2021-01-26T00:10:44.832957Z",
     "shell.execute_reply": "2021-01-26T00:10:44.833435Z"
    },
    "papermill": {
     "duration": 0.057023,
     "end_time": "2021-01-26T00:10:44.833605",
     "exception": false,
     "start_time": "2021-01-26T00:10:44.776582",
     "status": "completed"
    },
    "tags": []
   },
   "outputs": [],
   "source": [
    "training_xdata = X_train\n",
    "testing_xdata = X_test\n",
    "training_ydata = y_train.reshape(-1,1)\n",
    "testing_ydata = y_test.reshape(-1,1)"
   ]
  },
  {
   "cell_type": "markdown",
   "id": "played-safety",
   "metadata": {
    "papermill": {
     "duration": 0.032164,
     "end_time": "2021-01-26T00:10:44.898051",
     "exception": false,
     "start_time": "2021-01-26T00:10:44.865887",
     "status": "completed"
    },
    "tags": []
   },
   "source": [
    "### Running Models with the Training data\n",
    "Details about the network layers:\n",
    "- A first affine layer has 784 inputs and does 100 affine transforms. These are followed by a Relu\n",
    "- A second affine layer has 100 inputs from the 100 activations of the past layer, and does 100 affine transforms. These are followed by a Relu\n",
    "- A third affine layer has 100 activations and does 2 affine transformations to create an embedding for visualization. There is no non-linearity here.\n",
    "- A final \"logistic regression\" which has an affine transform from 2 inputs to 1 output, which is squeezed through a sigmoid.\n",
    "\n",
    "Help taken from Anshuman's Notebook."
   ]
  },
  {
   "cell_type": "code",
   "execution_count": 18,
   "id": "asian-bankruptcy",
   "metadata": {
    "execution": {
     "iopub.execute_input": "2021-01-26T00:10:44.969688Z",
     "iopub.status.busy": "2021-01-26T00:10:44.968307Z",
     "iopub.status.idle": "2021-01-26T00:10:44.987382Z",
     "shell.execute_reply": "2021-01-26T00:10:44.988356Z"
    },
    "papermill": {
     "duration": 0.058622,
     "end_time": "2021-01-26T00:10:44.988751",
     "exception": false,
     "start_time": "2021-01-26T00:10:44.930129",
     "status": "completed"
    },
    "tags": []
   },
   "outputs": [],
   "source": [
    "# layers for the Neural Network\n",
    "layers = [Affine(\"first\", 784, 100), Relu(\"first\"), Affine(\"second\", 100, 100), Relu(\"second\"), Affine(\"third\", 100, 2), Affine(\"final\", 2, 1), Sigmoid(\"final\")]\n",
    "model_nn = Model(layers)\n",
    "\n",
    "# layers for the Logistic Regression\n",
    "layers_lr = [Affine(\"logits\", 784, 1), Sigmoid(\"sigmoid\")]\n",
    "model_lr = Model(layers_lr)"
   ]
  },
  {
   "cell_type": "code",
   "execution_count": 19,
   "id": "removed-butler",
   "metadata": {
    "execution": {
     "iopub.execute_input": "2021-01-26T00:10:45.071435Z",
     "iopub.status.busy": "2021-01-26T00:10:45.069783Z",
     "iopub.status.idle": "2021-01-26T00:10:45.082475Z",
     "shell.execute_reply": "2021-01-26T00:10:45.083017Z"
    },
    "papermill": {
     "duration": 0.053746,
     "end_time": "2021-01-26T00:10:45.083183",
     "exception": false,
     "start_time": "2021-01-26T00:10:45.029437",
     "status": "completed"
    },
    "tags": []
   },
   "outputs": [],
   "source": [
    "# suffix _nn stands for Neural Network.\n",
    "learner_nn = Learner(loss, model_nn, opt, config.num_epochs)\n",
    "acc_nn = ClfCallback(learner_nn, config.bs, training_xdata , testing_xdata, training_ydata, testing_ydata)\n",
    "learner_nn.set_callbacks([acc_nn])"
   ]
  },
  {
   "cell_type": "code",
   "execution_count": 20,
   "id": "conceptual-throw",
   "metadata": {
    "execution": {
     "iopub.execute_input": "2021-01-26T00:10:45.159628Z",
     "iopub.status.busy": "2021-01-26T00:10:45.158920Z",
     "iopub.status.idle": "2021-01-26T00:12:16.986483Z",
     "shell.execute_reply": "2021-01-26T00:12:16.987031Z"
    },
    "papermill": {
     "duration": 91.870633,
     "end_time": "2021-01-26T00:12:16.987189",
     "exception": false,
     "start_time": "2021-01-26T00:10:45.116556",
     "status": "completed"
    },
    "tags": []
   },
   "outputs": [
    {
     "name": "stdout",
     "output_type": "stream",
     "text": [
      "====== Neural Network ======\n"
     ]
    },
    {
     "name": "stdout",
     "output_type": "stream",
     "text": [
      "Epoch 0, Loss 0.251\n",
      "Training Accuracy: 0.5305, Testing Accuracy: 0.5287\n",
      "\n"
     ]
    },
    {
     "name": "stdout",
     "output_type": "stream",
     "text": [
      "Epoch 10, Loss 0.2197\n",
      "Training Accuracy: 0.8447, Testing Accuracy: 0.8493\n",
      "\n"
     ]
    },
    {
     "name": "stdout",
     "output_type": "stream",
     "text": [
      "Epoch 20, Loss 0.1302\n",
      "Training Accuracy: 0.8959, Testing Accuracy: 0.9118\n",
      "\n"
     ]
    },
    {
     "name": "stdout",
     "output_type": "stream",
     "text": [
      "Epoch 30, Loss 0.0723\n",
      "Training Accuracy: 0.9273, Testing Accuracy: 0.9385\n",
      "\n"
     ]
    },
    {
     "name": "stdout",
     "output_type": "stream",
     "text": [
      "Epoch 40, Loss 0.053\n",
      "Training Accuracy: 0.9430, Testing Accuracy: 0.9541\n",
      "\n"
     ]
    },
    {
     "name": "stdout",
     "output_type": "stream",
     "text": [
      "Epoch 50, Loss 0.0442\n",
      "Training Accuracy: 0.9498, Testing Accuracy: 0.9587\n",
      "\n"
     ]
    },
    {
     "name": "stdout",
     "output_type": "stream",
     "text": [
      "Epoch 60, Loss 0.0392\n",
      "Training Accuracy: 0.9543, Testing Accuracy: 0.9632\n",
      "\n"
     ]
    },
    {
     "name": "stdout",
     "output_type": "stream",
     "text": [
      "Epoch 70, Loss 0.036\n",
      "Training Accuracy: 0.9574, Testing Accuracy: 0.9652\n",
      "\n"
     ]
    },
    {
     "name": "stdout",
     "output_type": "stream",
     "text": [
      "Epoch 80, Loss 0.0337\n",
      "Training Accuracy: 0.9607, Testing Accuracy: 0.9677\n",
      "\n"
     ]
    },
    {
     "name": "stdout",
     "output_type": "stream",
     "text": [
      "Epoch 90, Loss 0.0319\n",
      "Training Accuracy: 0.9637, Testing Accuracy: 0.9682\n",
      "\n"
     ]
    },
    {
     "name": "stdout",
     "output_type": "stream",
     "text": [
      "Epoch 100, Loss 0.0304\n",
      "Training Accuracy: 0.9649, Testing Accuracy: 0.9693\n",
      "\n"
     ]
    },
    {
     "name": "stdout",
     "output_type": "stream",
     "text": [
      "Epoch 110, Loss 0.0292\n",
      "Training Accuracy: 0.9665, Testing Accuracy: 0.9703\n",
      "\n"
     ]
    },
    {
     "name": "stdout",
     "output_type": "stream",
     "text": [
      "Epoch 120, Loss 0.0282\n",
      "Training Accuracy: 0.9680, Testing Accuracy: 0.9693\n",
      "\n"
     ]
    },
    {
     "name": "stdout",
     "output_type": "stream",
     "text": [
      "Epoch 130, Loss 0.0273\n",
      "Training Accuracy: 0.9688, Testing Accuracy: 0.9698\n",
      "\n"
     ]
    },
    {
     "name": "stdout",
     "output_type": "stream",
     "text": [
      "Epoch 140, Loss 0.0265\n",
      "Training Accuracy: 0.9693, Testing Accuracy: 0.9703\n",
      "\n"
     ]
    },
    {
     "name": "stdout",
     "output_type": "stream",
     "text": [
      "Epoch 150, Loss 0.0258\n",
      "Training Accuracy: 0.9700, Testing Accuracy: 0.9718\n",
      "\n"
     ]
    },
    {
     "name": "stdout",
     "output_type": "stream",
     "text": [
      "Epoch 160, Loss 0.0252\n",
      "Training Accuracy: 0.9710, Testing Accuracy: 0.9718\n",
      "\n"
     ]
    },
    {
     "name": "stdout",
     "output_type": "stream",
     "text": [
      "Epoch 170, Loss 0.0246\n",
      "Training Accuracy: 0.9712, Testing Accuracy: 0.9708\n",
      "\n"
     ]
    },
    {
     "name": "stdout",
     "output_type": "stream",
     "text": [
      "Epoch 180, Loss 0.0241\n",
      "Training Accuracy: 0.9720, Testing Accuracy: 0.9713\n",
      "\n"
     ]
    },
    {
     "name": "stdout",
     "output_type": "stream",
     "text": [
      "Epoch 190, Loss 0.0236\n",
      "Training Accuracy: 0.9721, Testing Accuracy: 0.9713\n",
      "\n"
     ]
    },
    {
     "name": "stdout",
     "output_type": "stream",
     "text": [
      "Epoch 200, Loss 0.0231\n",
      "Training Accuracy: 0.9727, Testing Accuracy: 0.9728\n",
      "\n"
     ]
    },
    {
     "name": "stdout",
     "output_type": "stream",
     "text": [
      "Epoch 210, Loss 0.0226\n",
      "Training Accuracy: 0.9730, Testing Accuracy: 0.9728\n",
      "\n"
     ]
    },
    {
     "name": "stdout",
     "output_type": "stream",
     "text": [
      "Epoch 220, Loss 0.0222\n",
      "Training Accuracy: 0.9740, Testing Accuracy: 0.9728\n",
      "\n"
     ]
    },
    {
     "name": "stdout",
     "output_type": "stream",
     "text": [
      "Epoch 230, Loss 0.0218\n",
      "Training Accuracy: 0.9748, Testing Accuracy: 0.9728\n",
      "\n"
     ]
    },
    {
     "name": "stdout",
     "output_type": "stream",
     "text": [
      "Epoch 240, Loss 0.0214\n",
      "Training Accuracy: 0.9751, Testing Accuracy: 0.9728\n",
      "\n"
     ]
    },
    {
     "name": "stdout",
     "output_type": "stream",
     "text": [
      "Epoch 250, Loss 0.0211\n",
      "Training Accuracy: 0.9756, Testing Accuracy: 0.9728\n",
      "\n"
     ]
    },
    {
     "data": {
      "text/plain": [
       "0.05410099074276566"
      ]
     },
     "execution_count": 20,
     "metadata": {},
     "output_type": "execute_result"
    }
   ],
   "source": [
    "print(\"====== Neural Network ======\")\n",
    "learner_nn.train_loop(dl)"
   ]
  },
  {
   "cell_type": "markdown",
   "id": "competent-suffering",
   "metadata": {
    "papermill": {
     "duration": 0.03997,
     "end_time": "2021-01-26T00:12:17.067907",
     "exception": false,
     "start_time": "2021-01-26T00:12:17.027937",
     "status": "completed"
    },
    "tags": []
   },
   "source": [
    "### Logistic Regression based Implementation."
   ]
  },
  {
   "cell_type": "code",
   "execution_count": 21,
   "id": "qualified-psychiatry",
   "metadata": {
    "execution": {
     "iopub.execute_input": "2021-01-26T00:12:17.153273Z",
     "iopub.status.busy": "2021-01-26T00:12:17.152643Z",
     "iopub.status.idle": "2021-01-26T00:12:17.165204Z",
     "shell.execute_reply": "2021-01-26T00:12:17.165663Z"
    },
    "papermill": {
     "duration": 0.058259,
     "end_time": "2021-01-26T00:12:17.165821",
     "exception": false,
     "start_time": "2021-01-26T00:12:17.107562",
     "status": "completed"
    },
    "tags": []
   },
   "outputs": [],
   "source": [
    "learner_lr = Learner(loss, model_lr, opt, config.num_epochs)\n",
    "acc_lr = ClfCallback(learner_lr, config.bs, training_xdata , testing_xdata, training_ydata, testing_ydata)\n",
    "learner_lr.set_callbacks([acc_lr])"
   ]
  },
  {
   "cell_type": "code",
   "execution_count": 22,
   "id": "average-outside",
   "metadata": {
    "execution": {
     "iopub.execute_input": "2021-01-26T00:12:17.250135Z",
     "iopub.status.busy": "2021-01-26T00:12:17.249543Z",
     "iopub.status.idle": "2021-01-26T00:12:33.311244Z",
     "shell.execute_reply": "2021-01-26T00:12:33.311968Z"
    },
    "papermill": {
     "duration": 16.106366,
     "end_time": "2021-01-26T00:12:33.312135",
     "exception": false,
     "start_time": "2021-01-26T00:12:17.205769",
     "status": "completed"
    },
    "tags": []
   },
   "outputs": [
    {
     "name": "stdout",
     "output_type": "stream",
     "text": [
      "====== Logistic Regression ======\n",
      "Epoch 0, Loss 0.2315\n",
      "Training Accuracy: 0.7389, Testing Accuracy: 0.7576\n",
      "\n"
     ]
    },
    {
     "name": "stdout",
     "output_type": "stream",
     "text": [
      "Epoch 10, Loss 0.0974\n",
      "Training Accuracy: 0.9192, Testing Accuracy: 0.9304\n",
      "\n"
     ]
    },
    {
     "name": "stdout",
     "output_type": "stream",
     "text": [
      "Epoch 20, Loss 0.0764\n",
      "Training Accuracy: 0.9312, Testing Accuracy: 0.9390\n",
      "\n"
     ]
    },
    {
     "name": "stdout",
     "output_type": "stream",
     "text": [
      "Epoch 30, Loss 0.0665\n",
      "Training Accuracy: 0.9389, Testing Accuracy: 0.9456\n",
      "\n"
     ]
    },
    {
     "name": "stdout",
     "output_type": "stream",
     "text": [
      "Epoch 40, Loss 0.0604\n",
      "Training Accuracy: 0.9420, Testing Accuracy: 0.9491\n",
      "\n"
     ]
    },
    {
     "name": "stdout",
     "output_type": "stream",
     "text": [
      "Epoch 50, Loss 0.0562\n",
      "Training Accuracy: 0.9459, Testing Accuracy: 0.9516\n",
      "\n"
     ]
    },
    {
     "name": "stdout",
     "output_type": "stream",
     "text": [
      "Epoch 60, Loss 0.0531\n",
      "Training Accuracy: 0.9479, Testing Accuracy: 0.9546\n",
      "\n"
     ]
    },
    {
     "name": "stdout",
     "output_type": "stream",
     "text": [
      "Epoch 70, Loss 0.0507\n",
      "Training Accuracy: 0.9491, Testing Accuracy: 0.9561\n",
      "\n"
     ]
    },
    {
     "name": "stdout",
     "output_type": "stream",
     "text": [
      "Epoch 80, Loss 0.0487\n",
      "Training Accuracy: 0.9500, Testing Accuracy: 0.9582\n",
      "\n"
     ]
    },
    {
     "name": "stdout",
     "output_type": "stream",
     "text": [
      "Epoch 90, Loss 0.0471\n",
      "Training Accuracy: 0.9524, Testing Accuracy: 0.9592\n",
      "\n"
     ]
    },
    {
     "name": "stdout",
     "output_type": "stream",
     "text": [
      "Epoch 100, Loss 0.0457\n",
      "Training Accuracy: 0.9530, Testing Accuracy: 0.9602\n",
      "\n"
     ]
    },
    {
     "name": "stdout",
     "output_type": "stream",
     "text": [
      "Epoch 110, Loss 0.0445\n",
      "Training Accuracy: 0.9536, Testing Accuracy: 0.9612\n",
      "\n"
     ]
    },
    {
     "name": "stdout",
     "output_type": "stream",
     "text": [
      "Epoch 120, Loss 0.0435\n",
      "Training Accuracy: 0.9543, Testing Accuracy: 0.9617\n",
      "\n"
     ]
    },
    {
     "name": "stdout",
     "output_type": "stream",
     "text": [
      "Epoch 130, Loss 0.0426\n",
      "Training Accuracy: 0.9555, Testing Accuracy: 0.9632\n",
      "\n"
     ]
    },
    {
     "name": "stdout",
     "output_type": "stream",
     "text": [
      "Epoch 140, Loss 0.0418\n",
      "Training Accuracy: 0.9557, Testing Accuracy: 0.9637\n",
      "\n"
     ]
    },
    {
     "name": "stdout",
     "output_type": "stream",
     "text": [
      "Epoch 150, Loss 0.0411\n",
      "Training Accuracy: 0.9565, Testing Accuracy: 0.9637\n",
      "\n"
     ]
    },
    {
     "name": "stdout",
     "output_type": "stream",
     "text": [
      "Epoch 160, Loss 0.0404\n",
      "Training Accuracy: 0.9570, Testing Accuracy: 0.9637\n",
      "\n"
     ]
    },
    {
     "name": "stdout",
     "output_type": "stream",
     "text": [
      "Epoch 170, Loss 0.0398\n",
      "Training Accuracy: 0.9576, Testing Accuracy: 0.9637\n",
      "\n"
     ]
    },
    {
     "name": "stdout",
     "output_type": "stream",
     "text": [
      "Epoch 180, Loss 0.0393\n",
      "Training Accuracy: 0.9587, Testing Accuracy: 0.9642\n",
      "\n"
     ]
    },
    {
     "name": "stdout",
     "output_type": "stream",
     "text": [
      "Epoch 190, Loss 0.0388\n",
      "Training Accuracy: 0.9591, Testing Accuracy: 0.9642\n",
      "\n"
     ]
    },
    {
     "name": "stdout",
     "output_type": "stream",
     "text": [
      "Epoch 200, Loss 0.0383\n",
      "Training Accuracy: 0.9594, Testing Accuracy: 0.9642\n",
      "\n"
     ]
    },
    {
     "name": "stdout",
     "output_type": "stream",
     "text": [
      "Epoch 210, Loss 0.0379\n",
      "Training Accuracy: 0.9604, Testing Accuracy: 0.9642\n",
      "\n"
     ]
    },
    {
     "name": "stdout",
     "output_type": "stream",
     "text": [
      "Epoch 220, Loss 0.0374\n",
      "Training Accuracy: 0.9607, Testing Accuracy: 0.9647\n",
      "\n"
     ]
    },
    {
     "name": "stdout",
     "output_type": "stream",
     "text": [
      "Epoch 230, Loss 0.0371\n",
      "Training Accuracy: 0.9609, Testing Accuracy: 0.9647\n",
      "\n"
     ]
    },
    {
     "name": "stdout",
     "output_type": "stream",
     "text": [
      "Epoch 240, Loss 0.0367\n",
      "Training Accuracy: 0.9610, Testing Accuracy: 0.9657\n",
      "\n"
     ]
    },
    {
     "name": "stdout",
     "output_type": "stream",
     "text": [
      "Epoch 250, Loss 0.0364\n",
      "Training Accuracy: 0.9614, Testing Accuracy: 0.9652\n",
      "\n"
     ]
    },
    {
     "data": {
      "text/plain": [
       "0.03790483184337051"
      ]
     },
     "execution_count": 22,
     "metadata": {},
     "output_type": "execute_result"
    }
   ],
   "source": [
    "print(\"====== Logistic Regression ======\")\n",
    "learner_lr.train_loop(dl)"
   ]
  },
  {
   "cell_type": "markdown",
   "id": "adjusted-possible",
   "metadata": {
    "papermill": {
     "duration": 0.04759,
     "end_time": "2021-01-26T00:12:33.408747",
     "exception": false,
     "start_time": "2021-01-26T00:12:33.361157",
     "status": "completed"
    },
    "tags": []
   },
   "source": [
    "### Comparing results of NN and LR"
   ]
  },
  {
   "cell_type": "code",
   "execution_count": 23,
   "id": "mental-multimedia",
   "metadata": {
    "execution": {
     "iopub.execute_input": "2021-01-26T00:12:33.515243Z",
     "iopub.status.busy": "2021-01-26T00:12:33.514139Z",
     "iopub.status.idle": "2021-01-26T00:12:33.751790Z",
     "shell.execute_reply": "2021-01-26T00:12:33.752294Z"
    },
    "papermill": {
     "duration": 0.295946,
     "end_time": "2021-01-26T00:12:33.752453",
     "exception": false,
     "start_time": "2021-01-26T00:12:33.456507",
     "status": "completed"
    },
    "tags": []
   },
   "outputs": [
    {
     "data": {
      "text/plain": [
       "<matplotlib.legend.Legend at 0x7f8fccb5d390>"
      ]
     },
     "execution_count": 23,
     "metadata": {},
     "output_type": "execute_result"
    },
    {
     "data": {
      "image/png": "[encoded data removed]",
      "text/plain": [
       "<Figure size 1080x720 with 1 Axes>"
      ]
     },
     "metadata": {
      "needs_background": "light"
     },
     "output_type": "display_data"
    }
   ],
   "source": [
    "plt.figure(figsize=(15,10))\n",
    "\n",
    "# Neural Network plots\n",
    "plt.plot(acc_nn.accuracies, 'r-', label = \"Training Accuracies - NN\")\n",
    "plt.plot(acc_nn.test_accuracies, 'g-', label = \"Testing Accuracies - NN\")\n",
    "\n",
    "# Logistic Regression plots\n",
    "plt.plot(acc_lr.accuracies, 'k-', label = \"Training Accuracies - LR\")\n",
    "plt.plot(acc_lr.test_accuracies, 'b-', label = \"Testing Accuracies - LR\")\n",
    "\n",
    "plt.ylim(0.8, 1)\n",
    "\n",
    "plt.legend()\n",
    "\n"
   ]
  },
  {
   "cell_type": "markdown",
   "id": "sexual-flesh",
   "metadata": {
    "papermill": {
     "duration": 0.049319,
     "end_time": "2021-01-26T00:12:33.851159",
     "exception": false,
     "start_time": "2021-01-26T00:12:33.801840",
     "status": "completed"
    },
    "tags": []
   },
   "source": [
    "### From the plot, we can observe the following:\n",
    "- Neural Network achieves higher accuracy than the Logistic Regression model.\n",
    "- This apparently, is because of overfitting, i.e. NN captures more noise than data.\n",
    "- Testing accuracy of NN drops below the Training accuracy at higher epochs. This explains the over-fitting on training data.\n",
    "- Logistic Regression gives a reliable accuracy, without the above mentioned problem.\n"
   ]
  },
  {
   "cell_type": "markdown",
   "id": "institutional-pacific",
   "metadata": {
    "papermill": {
     "duration": 0.049441,
     "end_time": "2021-01-26T00:12:33.949891",
     "exception": false,
     "start_time": "2021-01-26T00:12:33.900450",
     "status": "completed"
    },
    "tags": []
   },
   "source": [
    "### Moving till the last but one layer (excluding it).\n",
    "#### Plotting the outputs of this layer of the NN."
   ]
  },
  {
   "cell_type": "code",
   "execution_count": 24,
   "id": "economic-server",
   "metadata": {
    "execution": {
     "iopub.execute_input": "2021-01-26T00:12:34.058095Z",
     "iopub.status.busy": "2021-01-26T00:12:34.057493Z",
     "iopub.status.idle": "2021-01-26T00:12:34.070049Z",
     "shell.execute_reply": "2021-01-26T00:12:34.069370Z"
    },
    "papermill": {
     "duration": 0.070273,
     "end_time": "2021-01-26T00:12:34.070185",
     "exception": false,
     "start_time": "2021-01-26T00:12:33.999912",
     "status": "completed"
    },
    "tags": []
   },
   "outputs": [],
   "source": [
    "model_new = Model(layers[:-2])"
   ]
  },
  {
   "cell_type": "code",
   "execution_count": 25,
   "id": "varied-upgrade",
   "metadata": {
    "execution": {
     "iopub.execute_input": "2021-01-26T00:12:34.185511Z",
     "iopub.status.busy": "2021-01-26T00:12:34.184768Z",
     "iopub.status.idle": "2021-01-26T00:12:34.202210Z",
     "shell.execute_reply": "2021-01-26T00:12:34.202990Z"
    },
    "papermill": {
     "duration": 0.082966,
     "end_time": "2021-01-26T00:12:34.203151",
     "exception": false,
     "start_time": "2021-01-26T00:12:34.120185",
     "status": "completed"
    },
    "tags": []
   },
   "outputs": [],
   "source": [
    "plot_testing = model_new(testing_xdata)"
   ]
  },
  {
   "cell_type": "code",
   "execution_count": 26,
   "id": "specific-handling",
   "metadata": {
    "execution": {
     "iopub.execute_input": "2021-01-26T00:12:34.318377Z",
     "iopub.status.busy": "2021-01-26T00:12:34.317772Z",
     "iopub.status.idle": "2021-01-26T00:12:34.521880Z",
     "shell.execute_reply": "2021-01-26T00:12:34.521333Z"
    },
    "papermill": {
     "duration": 0.268854,
     "end_time": "2021-01-26T00:12:34.522179",
     "exception": false,
     "start_time": "2021-01-26T00:12:34.253325",
     "status": "completed"
    },
    "tags": []
   },
   "outputs": [
    {
     "data": {
      "text/plain": [
       "Text(0.5, 1.0, 'Outputs')"
      ]
     },
     "execution_count": 26,
     "metadata": {},
     "output_type": "execute_result"
    },
    {
     "data": {
      "image/png": "[encoded data removed]",
      "text/plain": [
       "<Figure size 576x504 with 1 Axes>"
      ]
     },
     "metadata": {
      "needs_background": "light"
     },
     "output_type": "display_data"
    }
   ],
   "source": [
    "plt.figure(figsize=(8,7))\n",
    "plt.scatter(plot_testing[:,0], plot_testing[:,1], alpha = 0.1, c = y_test.ravel());\n",
    "plt.title('Outputs')"
   ]
  },
  {
   "cell_type": "markdown",
   "id": "described-knowing",
   "metadata": {
    "papermill": {
     "duration": 0.051142,
     "end_time": "2021-01-26T00:12:34.624885",
     "exception": false,
     "start_time": "2021-01-26T00:12:34.573743",
     "status": "completed"
    },
    "tags": []
   },
   "source": [
    "### Plotting probability contours"
   ]
  },
  {
   "cell_type": "code",
   "execution_count": 27,
   "id": "needed-growing",
   "metadata": {
    "execution": {
     "iopub.execute_input": "2021-01-26T00:12:34.732270Z",
     "iopub.status.busy": "2021-01-26T00:12:34.731187Z",
     "iopub.status.idle": "2021-01-26T00:12:34.746858Z",
     "shell.execute_reply": "2021-01-26T00:12:34.745610Z"
    },
    "papermill": {
     "duration": 0.070826,
     "end_time": "2021-01-26T00:12:34.747004",
     "exception": false,
     "start_time": "2021-01-26T00:12:34.676178",
     "status": "completed"
    },
    "tags": []
   },
   "outputs": [],
   "source": [
    "model_prob = Model(layers[-2:]) "
   ]
  },
  {
   "cell_type": "code",
   "execution_count": 28,
   "id": "introductory-enforcement",
   "metadata": {
    "execution": {
     "iopub.execute_input": "2021-01-26T00:12:34.856681Z",
     "iopub.status.busy": "2021-01-26T00:12:34.855648Z",
     "iopub.status.idle": "2021-01-26T00:12:34.870565Z",
     "shell.execute_reply": "2021-01-26T00:12:34.871031Z"
    },
    "papermill": {
     "duration": 0.072649,
     "end_time": "2021-01-26T00:12:34.871196",
     "exception": false,
     "start_time": "2021-01-26T00:12:34.798547",
     "status": "completed"
    },
    "tags": []
   },
   "outputs": [],
   "source": [
    "# Adjust the x and y ranges according to the above generated plot.\n",
    "x_range = np.linspace(-4, 1, 100) \n",
    "y_range = np.linspace(-6, 6, 100) \n",
    "x_grid, y_grid = np.meshgrid(x_range, y_range) # x_grid and y_grig are of size 100 X 100\n",
    "\n",
    "# converting x_grid and y_grid to continuous arrays\n",
    "x_grid_flat = np.ravel(x_grid)\n",
    "y_grid_flat = np.ravel(y_grid)\n",
    "\n",
    "# The last layer of the current model takes two columns as input. Hence transpose of np.vstack() is required.\n",
    "X = np.vstack((x_grid_flat, y_grid_flat)).T\n",
    "\n",
    "# x_grid and y_grid are of size 100 x 100\n",
    "probability_contour = model_prob(X).reshape(100,100) "
   ]
  },
  {
   "cell_type": "code",
   "execution_count": 29,
   "id": "understood-landing",
   "metadata": {
    "execution": {
     "iopub.execute_input": "2021-01-26T00:12:35.014104Z",
     "iopub.status.busy": "2021-01-26T00:12:35.013157Z",
     "iopub.status.idle": "2021-01-26T00:12:35.280563Z",
     "shell.execute_reply": "2021-01-26T00:12:35.280014Z"
    },
    "papermill": {
     "duration": 0.324311,
     "end_time": "2021-01-26T00:12:35.280700",
     "exception": false,
     "start_time": "2021-01-26T00:12:34.956389",
     "status": "completed"
    },
    "tags": []
   },
   "outputs": [
    {
     "data": {
      "image/png": "[encoded data removed]",
      "text/plain": [
       "<Figure size 720x648 with 1 Axes>"
      ]
     },
     "metadata": {
      "needs_background": "light"
     },
     "output_type": "display_data"
    }
   ],
   "source": [
    "plt.figure(figsize=(10,9))\n",
    "plt.scatter(plot_testing[:,0], plot_testing[:,1], alpha = 0.1, c = y_test.ravel())\n",
    "contours = plt.contour(x_grid,y_grid,probability_contour)\n",
    "plt.title('Probability Contours')\n",
    "plt.clabel(contours, inline = True );"
   ]
  }
 ],
 "metadata": {
  "kernelspec": {
   "display_name": "Python 3",
   "language": "python",
   "name": "python3"
  },
  "language_info": {
   "codemirror_mode": {
    "name": "ipython",
    "version": 3
   },
   "file_extension": ".py",
   "mimetype": "text/x-python",
   "name": "python",
   "nbconvert_exporter": "python",
   "pygments_lexer": "ipython3",
   "version": "3.6.12"
  },
  "papermill": {
   "duration": 118.151972,
   "end_time": "2021-01-26T00:12:35.745251",
   "environment_variables": {},
   "exception": null,
   "input_path": "2020-08-11-NeuralNetwork.ipynb",
   "output_path": "2020-08-11-NeuralNetwork.ipynb",
   "parameters": {},
   "start_time": "2021-01-26T00:10:37.593279",
   "version": "2.1.2"
  }
 },
 "nbformat": 4,
 "nbformat_minor": 5
}