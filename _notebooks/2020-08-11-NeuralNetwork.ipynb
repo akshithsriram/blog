{
 "cells": [
  {
   "cell_type": "markdown",
   "metadata": {
    "papermill": {
     "duration": 0.031447,
     "end_time": "2020-12-16T20:04:34.991646",
     "exception": false,
     "start_time": "2020-12-16T20:04:34.960199",
     "status": "completed"
    },
    "tags": []
   },
   "source": [
    "# \"A Basic Neural Network: Differentiate Hand-Written Digits\"\n",
    "\n",
    "- badges: true\n",
    "- author: Akshith Sriram"
   ]
  },
  {
   "cell_type": "markdown",
   "metadata": {
    "papermill": {
     "duration": 0.025808,
     "end_time": "2020-12-16T20:04:35.045572",
     "exception": false,
     "start_time": "2020-12-16T20:04:35.019764",
     "status": "completed"
    },
    "tags": []
   },
   "source": [
    "### Key Objectives:\n",
    "- Building a neural network that differentiates two hand-written digits 3 and 8.\n",
    "- Comparing the results of this Neural Network (NN) to that of a Logistic Regression (LR) model.\n",
    "\n",
    "### Requirements:\n",
    "- 'Kudzu' : A neural network library that was designed during our course by [Univ.AI](www.univ.ai). \n",
    "- MNIST Database\n",
    "\n",
    "If MNIST is not installed, use the command `!pip install mnist` given below.\n",
    "It can be run both from the command line and Jupyter Notebook."
   ]
  },
  {
   "cell_type": "code",
   "execution_count": 1,
   "metadata": {
    "execution": {
     "iopub.execute_input": "2020-12-16T20:04:35.111568Z",
     "iopub.status.busy": "2020-12-16T20:04:35.110945Z",
     "iopub.status.idle": "2020-12-16T20:04:36.689395Z",
     "shell.execute_reply": "2020-12-16T20:04:36.688488Z"
    },
    "papermill": {
     "duration": 1.617088,
     "end_time": "2020-12-16T20:04:36.689568",
     "exception": false,
     "start_time": "2020-12-16T20:04:35.072480",
     "status": "completed"
    },
    "tags": []
   },
   "outputs": [
    {
     "name": "stdout",
     "output_type": "stream",
     "text": [
      "Collecting mnist\r\n"
     ]
    },
    {
     "name": "stdout",
     "output_type": "stream",
     "text": [
      "  Downloading mnist-0.2.2-py2.py3-none-any.whl (3.5 kB)\r\n",
      "Requirement already satisfied: numpy in /opt/hostedtoolcache/Python/3.6.12/x64/lib/python3.6/site-packages (from mnist) (1.19.4)\r\n"
     ]
    },
    {
     "name": "stdout",
     "output_type": "stream",
     "text": [
      "Installing collected packages: mnist\r\n"
     ]
    },
    {
     "name": "stdout",
     "output_type": "stream",
     "text": [
      "Successfully installed mnist-0.2.2\r\n"
     ]
    },
    {
     "name": "stdout",
     "output_type": "stream",
     "text": [
      "\u001b[33mWARNING: You are using pip version 20.3.1; however, version 20.3.3 is available.\r\n",
      "You should consider upgrading via the '/opt/hostedtoolcache/Python/3.6.12/x64/bin/python -m pip install --upgrade pip' command.\u001b[0m\r\n"
     ]
    }
   ],
   "source": [
    "!pip install mnist "
   ]
  },
  {
   "cell_type": "markdown",
   "metadata": {
    "papermill": {
     "duration": 0.027297,
     "end_time": "2020-12-16T20:04:36.744603",
     "exception": false,
     "start_time": "2020-12-16T20:04:36.717306",
     "status": "completed"
    },
    "tags": []
   },
   "source": [
    "#### Importing necessary libraries"
   ]
  },
  {
   "cell_type": "code",
   "execution_count": 2,
   "metadata": {
    "execution": {
     "iopub.execute_input": "2020-12-16T20:04:36.807977Z",
     "iopub.status.busy": "2020-12-16T20:04:36.806917Z",
     "iopub.status.idle": "2020-12-16T20:04:37.405807Z",
     "shell.execute_reply": "2020-12-16T20:04:37.404741Z"
    },
    "papermill": {
     "duration": 0.634416,
     "end_time": "2020-12-16T20:04:37.405965",
     "exception": false,
     "start_time": "2020-12-16T20:04:36.771549",
     "status": "completed"
    },
    "tags": []
   },
   "outputs": [],
   "source": [
    "%load_ext autoreload\n",
    "%autoreload 2\n",
    "\n",
    "%matplotlib inline\n",
    "import matplotlib.pyplot as plt\n",
    "\n",
    "import numpy as np\n",
    "import pandas as pd"
   ]
  },
  {
   "cell_type": "markdown",
   "metadata": {
    "papermill": {
     "duration": 0.027181,
     "end_time": "2020-12-16T20:04:37.460459",
     "exception": false,
     "start_time": "2020-12-16T20:04:37.433278",
     "status": "completed"
    },
    "tags": []
   },
   "source": [
    "### Preparing the Data"
   ]
  },
  {
   "cell_type": "code",
   "execution_count": 3,
   "metadata": {
    "execution": {
     "iopub.execute_input": "2020-12-16T20:04:37.519002Z",
     "iopub.status.busy": "2020-12-16T20:04:37.517719Z",
     "iopub.status.idle": "2020-12-16T20:04:37.530260Z",
     "shell.execute_reply": "2020-12-16T20:04:37.530742Z"
    },
    "papermill": {
     "duration": 0.043486,
     "end_time": "2020-12-16T20:04:37.530900",
     "exception": false,
     "start_time": "2020-12-16T20:04:37.487414",
     "status": "completed"
    },
    "tags": []
   },
   "outputs": [],
   "source": [
    "import mnist"
   ]
  },
  {
   "cell_type": "code",
   "execution_count": 4,
   "metadata": {
    "execution": {
     "iopub.execute_input": "2020-12-16T20:04:37.592201Z",
     "iopub.status.busy": "2020-12-16T20:04:37.591510Z",
     "iopub.status.idle": "2020-12-16T20:04:39.238878Z",
     "shell.execute_reply": "2020-12-16T20:04:39.237909Z"
    },
    "papermill": {
     "duration": 1.679024,
     "end_time": "2020-12-16T20:04:39.239031",
     "exception": false,
     "start_time": "2020-12-16T20:04:37.560007",
     "status": "completed"
    },
    "tags": []
   },
   "outputs": [],
   "source": [
    "train_images = mnist.train_images()\n",
    "train_labels = mnist.train_labels()"
   ]
  },
  {
   "cell_type": "code",
   "execution_count": 5,
   "metadata": {
    "execution": {
     "iopub.execute_input": "2020-12-16T20:04:39.307240Z",
     "iopub.status.busy": "2020-12-16T20:04:39.306606Z",
     "iopub.status.idle": "2020-12-16T20:04:39.319890Z",
     "shell.execute_reply": "2020-12-16T20:04:39.320369Z"
    },
    "papermill": {
     "duration": 0.053813,
     "end_time": "2020-12-16T20:04:39.320514",
     "exception": false,
     "start_time": "2020-12-16T20:04:39.266701",
     "status": "completed"
    },
    "tags": []
   },
   "outputs": [
    {
     "data": {
      "text/plain": [
       "((60000, 28, 28), (60000,))"
      ]
     },
     "execution_count": 5,
     "metadata": {},
     "output_type": "execute_result"
    }
   ],
   "source": [
    "train_images.shape, train_labels.shape"
   ]
  },
  {
   "cell_type": "code",
   "execution_count": 6,
   "metadata": {
    "execution": {
     "iopub.execute_input": "2020-12-16T20:04:39.381870Z",
     "iopub.status.busy": "2020-12-16T20:04:39.380961Z",
     "iopub.status.idle": "2020-12-16T20:04:40.263376Z",
     "shell.execute_reply": "2020-12-16T20:04:40.262284Z"
    },
    "papermill": {
     "duration": 0.914607,
     "end_time": "2020-12-16T20:04:40.263542",
     "exception": false,
     "start_time": "2020-12-16T20:04:39.348935",
     "status": "completed"
    },
    "tags": []
   },
   "outputs": [],
   "source": [
    "test_images = mnist.test_images()\n",
    "test_labels = mnist.test_labels()"
   ]
  },
  {
   "cell_type": "code",
   "execution_count": 7,
   "metadata": {
    "execution": {
     "iopub.execute_input": "2020-12-16T20:04:40.324491Z",
     "iopub.status.busy": "2020-12-16T20:04:40.323900Z",
     "iopub.status.idle": "2020-12-16T20:04:40.340535Z",
     "shell.execute_reply": "2020-12-16T20:04:40.341033Z"
    },
    "papermill": {
     "duration": 0.049657,
     "end_time": "2020-12-16T20:04:40.341192",
     "exception": false,
     "start_time": "2020-12-16T20:04:40.291535",
     "status": "completed"
    },
    "tags": []
   },
   "outputs": [
    {
     "data": {
      "text/plain": [
       "((10000, 28, 28), (10000,))"
      ]
     },
     "execution_count": 7,
     "metadata": {},
     "output_type": "execute_result"
    }
   ],
   "source": [
    "test_images.shape, test_labels.shape"
   ]
  },
  {
   "cell_type": "code",
   "execution_count": 8,
   "metadata": {
    "execution": {
     "iopub.execute_input": "2020-12-16T20:04:40.401898Z",
     "iopub.status.busy": "2020-12-16T20:04:40.401281Z",
     "iopub.status.idle": "2020-12-16T20:04:40.560257Z",
     "shell.execute_reply": "2020-12-16T20:04:40.559488Z"
    },
    "papermill": {
     "duration": 0.191,
     "end_time": "2020-12-16T20:04:40.560399",
     "exception": false,
     "start_time": "2020-12-16T20:04:40.369399",
     "status": "completed"
    },
    "tags": []
   },
   "outputs": [
    {
     "name": "stdout",
     "output_type": "stream",
     "text": [
      "2\n"
     ]
    },
    {
     "data": {
      "text/plain": [
       "<matplotlib.image.AxesImage at 0x7f8ea7bc5278>"
      ]
     },
     "execution_count": 8,
     "metadata": {},
     "output_type": "execute_result"
    },
    {
     "data": {
      "image/png": "[encoded data removed]",
      "text/plain": [
       "<Figure size 432x288 with 1 Axes>"
      ]
     },
     "metadata": {
      "needs_background": "light"
     },
     "output_type": "display_data"
    }
   ],
   "source": [
    "image_index = 7776 # You may select anything up to 60,000\n",
    "print(train_labels[image_index]) \n",
    "plt.imshow(train_images[image_index], cmap='Greys')"
   ]
  },
  {
   "cell_type": "markdown",
   "metadata": {
    "papermill": {
     "duration": 0.029574,
     "end_time": "2020-12-16T20:04:40.618865",
     "exception": false,
     "start_time": "2020-12-16T20:04:40.589291",
     "status": "completed"
    },
    "tags": []
   },
   "source": [
    "## Filter data to get 3 and 8 out"
   ]
  },
  {
   "cell_type": "code",
   "execution_count": 9,
   "metadata": {
    "execution": {
     "iopub.execute_input": "2020-12-16T20:04:40.682886Z",
     "iopub.status.busy": "2020-12-16T20:04:40.681817Z",
     "iopub.status.idle": "2020-12-16T20:04:40.700470Z",
     "shell.execute_reply": "2020-12-16T20:04:40.699859Z"
    },
    "papermill": {
     "duration": 0.052844,
     "end_time": "2020-12-16T20:04:40.700621",
     "exception": false,
     "start_time": "2020-12-16T20:04:40.647777",
     "status": "completed"
    },
    "tags": []
   },
   "outputs": [],
   "source": [
    "train_filter = np.where((train_labels == 3 ) | (train_labels == 8))\n",
    "test_filter = np.where((test_labels == 3) | (test_labels == 8))\n",
    "X_train, y_train = train_images[train_filter], train_labels[train_filter]\n",
    "X_test, y_test = test_images[test_filter], test_labels[test_filter]"
   ]
  },
  {
   "cell_type": "markdown",
   "metadata": {
    "papermill": {
     "duration": 0.028669,
     "end_time": "2020-12-16T20:04:40.762619",
     "exception": false,
     "start_time": "2020-12-16T20:04:40.733950",
     "status": "completed"
    },
    "tags": []
   },
   "source": [
    "We normalize the pixel values in the 0 to 1 range"
   ]
  },
  {
   "cell_type": "code",
   "execution_count": 10,
   "metadata": {
    "execution": {
     "iopub.execute_input": "2020-12-16T20:04:40.833979Z",
     "iopub.status.busy": "2020-12-16T20:04:40.822995Z",
     "iopub.status.idle": "2020-12-16T20:04:40.882241Z",
     "shell.execute_reply": "2020-12-16T20:04:40.881355Z"
    },
    "papermill": {
     "duration": 0.091376,
     "end_time": "2020-12-16T20:04:40.882470",
     "exception": false,
     "start_time": "2020-12-16T20:04:40.791094",
     "status": "completed"
    },
    "tags": []
   },
   "outputs": [],
   "source": [
    "X_train = X_train/255.\n",
    "X_test = X_test/255."
   ]
  },
  {
   "cell_type": "markdown",
   "metadata": {
    "papermill": {
     "duration": 0.028486,
     "end_time": "2020-12-16T20:04:40.942282",
     "exception": false,
     "start_time": "2020-12-16T20:04:40.913796",
     "status": "completed"
    },
    "tags": []
   },
   "source": [
    "Setup the labels as 1 (when the digit is 3) and 0 (when the digit is 8)"
   ]
  },
  {
   "cell_type": "code",
   "execution_count": 11,
   "metadata": {
    "execution": {
     "iopub.execute_input": "2020-12-16T20:04:41.004274Z",
     "iopub.status.busy": "2020-12-16T20:04:41.003668Z",
     "iopub.status.idle": "2020-12-16T20:04:41.016778Z",
     "shell.execute_reply": "2020-12-16T20:04:41.016239Z"
    },
    "papermill": {
     "duration": 0.046043,
     "end_time": "2020-12-16T20:04:41.016952",
     "exception": false,
     "start_time": "2020-12-16T20:04:40.970909",
     "status": "completed"
    },
    "tags": []
   },
   "outputs": [],
   "source": [
    "y_train = 1*(y_train==3)\n",
    "y_test = 1*(y_test==3)"
   ]
  },
  {
   "cell_type": "code",
   "execution_count": 12,
   "metadata": {
    "execution": {
     "iopub.execute_input": "2020-12-16T20:04:41.083580Z",
     "iopub.status.busy": "2020-12-16T20:04:41.082947Z",
     "iopub.status.idle": "2020-12-16T20:04:41.096797Z",
     "shell.execute_reply": "2020-12-16T20:04:41.096294Z"
    },
    "papermill": {
     "duration": 0.049188,
     "end_time": "2020-12-16T20:04:41.096966",
     "exception": false,
     "start_time": "2020-12-16T20:04:41.047778",
     "status": "completed"
    },
    "tags": []
   },
   "outputs": [
    {
     "data": {
      "text/plain": [
       "((11982, 28, 28), (1984, 28, 28))"
      ]
     },
     "execution_count": 12,
     "metadata": {},
     "output_type": "execute_result"
    }
   ],
   "source": [
    "X_train.shape, X_test.shape"
   ]
  },
  {
   "cell_type": "markdown",
   "metadata": {
    "papermill": {
     "duration": 0.029812,
     "end_time": "2020-12-16T20:04:41.156778",
     "exception": false,
     "start_time": "2020-12-16T20:04:41.126966",
     "status": "completed"
    },
    "tags": []
   },
   "source": [
    "### Reshape the input data to create a linear array"
   ]
  },
  {
   "cell_type": "code",
   "execution_count": 13,
   "metadata": {
    "execution": {
     "iopub.execute_input": "2020-12-16T20:04:41.222135Z",
     "iopub.status.busy": "2020-12-16T20:04:41.221539Z",
     "iopub.status.idle": "2020-12-16T20:04:41.235827Z",
     "shell.execute_reply": "2020-12-16T20:04:41.235341Z"
    },
    "papermill": {
     "duration": 0.05021,
     "end_time": "2020-12-16T20:04:41.235965",
     "exception": false,
     "start_time": "2020-12-16T20:04:41.185755",
     "status": "completed"
    },
    "tags": []
   },
   "outputs": [
    {
     "data": {
      "text/plain": [
       "((11982, 784), (1984, 784))"
      ]
     },
     "execution_count": 13,
     "metadata": {},
     "output_type": "execute_result"
    }
   ],
   "source": [
    "X_train = X_train.reshape(X_train.shape[0], -1)\n",
    "X_test = X_test.reshape(X_test.shape[0], -1)\n",
    "X_train.shape, X_test.shape"
   ]
  },
  {
   "cell_type": "markdown",
   "metadata": {
    "papermill": {
     "duration": 0.029268,
     "end_time": "2020-12-16T20:04:41.295602",
     "exception": false,
     "start_time": "2020-12-16T20:04:41.266334",
     "status": "completed"
    },
    "tags": []
   },
   "source": [
    "### Importing appropriate functions from 'Kudzu'"
   ]
  },
  {
   "cell_type": "code",
   "execution_count": 14,
   "metadata": {
    "execution": {
     "iopub.execute_input": "2020-12-16T20:04:41.362013Z",
     "iopub.status.busy": "2020-12-16T20:04:41.361339Z",
     "iopub.status.idle": "2020-12-16T20:04:41.384402Z",
     "shell.execute_reply": "2020-12-16T20:04:41.383867Z"
    },
    "papermill": {
     "duration": 0.059254,
     "end_time": "2020-12-16T20:04:41.384553",
     "exception": false,
     "start_time": "2020-12-16T20:04:41.325299",
     "status": "completed"
    },
    "tags": []
   },
   "outputs": [],
   "source": [
    "from kudzu.layer import Sigmoid\n",
    "from kudzu.layer import Relu\n",
    "from kudzu.layer import Affine, Sigmoid\n",
    "\n",
    "from kudzu.model import Model\n",
    "from kudzu.train import Learner\n",
    "from kudzu.optim import GD\n",
    "from kudzu.data import Data, Dataloader, Sampler\n",
    "\n",
    "from kudzu.callbacks import AccCallback\n",
    "from kudzu.callbacks import ClfCallback\n",
    "\n",
    "from kudzu.loss import MSE"
   ]
  },
  {
   "cell_type": "markdown",
   "metadata": {
    "papermill": {
     "duration": 0.029496,
     "end_time": "2020-12-16T20:04:41.444020",
     "exception": false,
     "start_time": "2020-12-16T20:04:41.414524",
     "status": "completed"
    },
    "tags": []
   },
   "source": [
    "### Let us create a `Config` class, to store important parameters. \n",
    "This class essentially plays the role of a dictionary."
   ]
  },
  {
   "cell_type": "code",
   "execution_count": 15,
   "metadata": {
    "execution": {
     "iopub.execute_input": "2020-12-16T20:04:41.514188Z",
     "iopub.status.busy": "2020-12-16T20:04:41.513518Z",
     "iopub.status.idle": "2020-12-16T20:04:41.526102Z",
     "shell.execute_reply": "2020-12-16T20:04:41.525232Z"
    },
    "papermill": {
     "duration": 0.051711,
     "end_time": "2020-12-16T20:04:41.526325",
     "exception": false,
     "start_time": "2020-12-16T20:04:41.474614",
     "status": "completed"
    },
    "tags": []
   },
   "outputs": [],
   "source": [
    "class Config:\n",
    "    pass\n",
    "config = Config()\n",
    "config.lr = 0.001\n",
    "config.num_epochs = 251\n",
    "config.bs = 50"
   ]
  },
  {
   "cell_type": "markdown",
   "metadata": {
    "papermill": {
     "duration": 0.030497,
     "end_time": "2020-12-16T20:04:41.587652",
     "exception": false,
     "start_time": "2020-12-16T20:04:41.557155",
     "status": "completed"
    },
    "tags": []
   },
   "source": [
    "### Initializing data to the variables"
   ]
  },
  {
   "cell_type": "code",
   "execution_count": 16,
   "metadata": {
    "execution": {
     "iopub.execute_input": "2020-12-16T20:04:41.661319Z",
     "iopub.status.busy": "2020-12-16T20:04:41.660630Z",
     "iopub.status.idle": "2020-12-16T20:04:41.672594Z",
     "shell.execute_reply": "2020-12-16T20:04:41.672098Z"
    },
    "papermill": {
     "duration": 0.05471,
     "end_time": "2020-12-16T20:04:41.672732",
     "exception": false,
     "start_time": "2020-12-16T20:04:41.618022",
     "status": "completed"
    },
    "tags": []
   },
   "outputs": [],
   "source": [
    "data = Data(X_train, y_train.reshape(-1,1))\n",
    "sampler = Sampler(data, config.bs, shuffle=True)\n",
    "\n",
    "dl = Dataloader(data, sampler)\n",
    "\n",
    "opt = GD(config.lr)\n",
    "loss = MSE()"
   ]
  },
  {
   "cell_type": "code",
   "execution_count": 17,
   "metadata": {
    "execution": {
     "iopub.execute_input": "2020-12-16T20:04:41.736498Z",
     "iopub.status.busy": "2020-12-16T20:04:41.735903Z",
     "iopub.status.idle": "2020-12-16T20:04:41.751579Z",
     "shell.execute_reply": "2020-12-16T20:04:41.751091Z"
    },
    "papermill": {
     "duration": 0.049758,
     "end_time": "2020-12-16T20:04:41.751712",
     "exception": false,
     "start_time": "2020-12-16T20:04:41.701954",
     "status": "completed"
    },
    "tags": []
   },
   "outputs": [],
   "source": [
    "training_xdata = X_train\n",
    "testing_xdata = X_test\n",
    "training_ydata = y_train.reshape(-1,1)\n",
    "testing_ydata = y_test.reshape(-1,1)"
   ]
  },
  {
   "cell_type": "markdown",
   "metadata": {
    "papermill": {
     "duration": 0.029232,
     "end_time": "2020-12-16T20:04:41.810353",
     "exception": false,
     "start_time": "2020-12-16T20:04:41.781121",
     "status": "completed"
    },
    "tags": []
   },
   "source": [
    "### Running Models with the Training data\n",
    "Details about the network layers:\n",
    "- A first affine layer has 784 inputs and does 100 affine transforms. These are followed by a Relu\n",
    "- A second affine layer has 100 inputs from the 100 activations of the past layer, and does 100 affine transforms. These are followed by a Relu\n",
    "- A third affine layer has 100 activations and does 2 affine transformations to create an embedding for visualization. There is no non-linearity here.\n",
    "- A final \"logistic regression\" which has an affine transform from 2 inputs to 1 output, which is squeezed through a sigmoid.\n",
    "\n",
    "Help taken from Anshuman's Notebook."
   ]
  },
  {
   "cell_type": "code",
   "execution_count": 18,
   "metadata": {
    "execution": {
     "iopub.execute_input": "2020-12-16T20:04:41.875696Z",
     "iopub.status.busy": "2020-12-16T20:04:41.875087Z",
     "iopub.status.idle": "2020-12-16T20:04:41.892651Z",
     "shell.execute_reply": "2020-12-16T20:04:41.892168Z"
    },
    "papermill": {
     "duration": 0.053236,
     "end_time": "2020-12-16T20:04:41.892786",
     "exception": false,
     "start_time": "2020-12-16T20:04:41.839550",
     "status": "completed"
    },
    "tags": []
   },
   "outputs": [],
   "source": [
    "# layers for the Neural Network\n",
    "layers = [Affine(\"first\", 784, 100), Relu(\"first\"), Affine(\"second\", 100, 100), Relu(\"second\"), Affine(\"third\", 100, 2), Affine(\"final\", 2, 1), Sigmoid(\"final\")]\n",
    "model_nn = Model(layers)\n",
    "\n",
    "# layers for the Logistic Regression\n",
    "layers_lr = [Affine(\"logits\", 784, 1), Sigmoid(\"sigmoid\")]\n",
    "model_lr = Model(layers_lr)"
   ]
  },
  {
   "cell_type": "code",
   "execution_count": 19,
   "metadata": {
    "execution": {
     "iopub.execute_input": "2020-12-16T20:04:41.956816Z",
     "iopub.status.busy": "2020-12-16T20:04:41.956208Z",
     "iopub.status.idle": "2020-12-16T20:04:41.969345Z",
     "shell.execute_reply": "2020-12-16T20:04:41.968798Z"
    },
    "papermill": {
     "duration": 0.047126,
     "end_time": "2020-12-16T20:04:41.969491",
     "exception": false,
     "start_time": "2020-12-16T20:04:41.922365",
     "status": "completed"
    },
    "tags": []
   },
   "outputs": [],
   "source": [
    "# suffix _nn stands for Neural Network.\n",
    "learner_nn = Learner(loss, model_nn, opt, config.num_epochs)\n",
    "acc_nn = ClfCallback(learner_nn, config.bs, training_xdata , testing_xdata, training_ydata, testing_ydata)\n",
    "learner_nn.set_callbacks([acc_nn])"
   ]
  },
  {
   "cell_type": "code",
   "execution_count": 20,
   "metadata": {
    "execution": {
     "iopub.execute_input": "2020-12-16T20:04:42.034588Z",
     "iopub.status.busy": "2020-12-16T20:04:42.033535Z",
     "iopub.status.idle": "2020-12-16T20:06:08.016881Z",
     "shell.execute_reply": "2020-12-16T20:06:08.016367Z"
    },
    "papermill": {
     "duration": 86.017325,
     "end_time": "2020-12-16T20:06:08.017027",
     "exception": false,
     "start_time": "2020-12-16T20:04:41.999702",
     "status": "completed"
    },
    "tags": []
   },
   "outputs": [
    {
     "name": "stdout",
     "output_type": "stream",
     "text": [
      "====== Neural Network ======\n"
     ]
    },
    {
     "name": "stdout",
     "output_type": "stream",
     "text": [
      "Epoch 0, Loss 0.2294\n",
      "Training Accuracy: 0.7771, Testing Accuracy: 0.7727\n",
      "\n"
     ]
    },
    {
     "name": "stdout",
     "output_type": "stream",
     "text": [
      "Epoch 10, Loss 0.0663\n",
      "Training Accuracy: 0.9346, Testing Accuracy: 0.9425\n",
      "\n"
     ]
    },
    {
     "name": "stdout",
     "output_type": "stream",
     "text": [
      "Epoch 20, Loss 0.0451\n",
      "Training Accuracy: 0.9533, Testing Accuracy: 0.9556\n",
      "\n"
     ]
    },
    {
     "name": "stdout",
     "output_type": "stream",
     "text": [
      "Epoch 30, Loss 0.0372\n",
      "Training Accuracy: 0.9592, Testing Accuracy: 0.9632\n",
      "\n"
     ]
    },
    {
     "name": "stdout",
     "output_type": "stream",
     "text": [
      "Epoch 40, Loss 0.033\n",
      "Training Accuracy: 0.9634, Testing Accuracy: 0.9667\n",
      "\n"
     ]
    },
    {
     "name": "stdout",
     "output_type": "stream",
     "text": [
      "Epoch 50, Loss 0.0302\n",
      "Training Accuracy: 0.9662, Testing Accuracy: 0.9677\n",
      "\n"
     ]
    },
    {
     "name": "stdout",
     "output_type": "stream",
     "text": [
      "Epoch 60, Loss 0.0281\n",
      "Training Accuracy: 0.9689, Testing Accuracy: 0.9688\n",
      "\n"
     ]
    },
    {
     "name": "stdout",
     "output_type": "stream",
     "text": [
      "Epoch 70, Loss 0.0265\n",
      "Training Accuracy: 0.9699, Testing Accuracy: 0.9708\n",
      "\n"
     ]
    },
    {
     "name": "stdout",
     "output_type": "stream",
     "text": [
      "Epoch 80, Loss 0.0252\n",
      "Training Accuracy: 0.9715, Testing Accuracy: 0.9718\n",
      "\n"
     ]
    },
    {
     "name": "stdout",
     "output_type": "stream",
     "text": [
      "Epoch 90, Loss 0.0241\n",
      "Training Accuracy: 0.9733, Testing Accuracy: 0.9723\n",
      "\n"
     ]
    },
    {
     "name": "stdout",
     "output_type": "stream",
     "text": [
      "Epoch 100, Loss 0.0231\n",
      "Training Accuracy: 0.9743, Testing Accuracy: 0.9713\n",
      "\n"
     ]
    },
    {
     "name": "stdout",
     "output_type": "stream",
     "text": [
      "Epoch 110, Loss 0.0222\n",
      "Training Accuracy: 0.9754, Testing Accuracy: 0.9718\n",
      "\n"
     ]
    },
    {
     "name": "stdout",
     "output_type": "stream",
     "text": [
      "Epoch 120, Loss 0.0215\n",
      "Training Accuracy: 0.9761, Testing Accuracy: 0.9723\n",
      "\n"
     ]
    },
    {
     "name": "stdout",
     "output_type": "stream",
     "text": [
      "Epoch 130, Loss 0.0208\n",
      "Training Accuracy: 0.9766, Testing Accuracy: 0.9738\n",
      "\n"
     ]
    },
    {
     "name": "stdout",
     "output_type": "stream",
     "text": [
      "Epoch 140, Loss 0.0201\n",
      "Training Accuracy: 0.9778, Testing Accuracy: 0.9743\n",
      "\n"
     ]
    },
    {
     "name": "stdout",
     "output_type": "stream",
     "text": [
      "Epoch 150, Loss 0.0195\n",
      "Training Accuracy: 0.9787, Testing Accuracy: 0.9758\n",
      "\n"
     ]
    },
    {
     "name": "stdout",
     "output_type": "stream",
     "text": [
      "Epoch 160, Loss 0.0189\n",
      "Training Accuracy: 0.9796, Testing Accuracy: 0.9758\n",
      "\n"
     ]
    },
    {
     "name": "stdout",
     "output_type": "stream",
     "text": [
      "Epoch 170, Loss 0.0184\n",
      "Training Accuracy: 0.9802, Testing Accuracy: 0.9773\n",
      "\n"
     ]
    },
    {
     "name": "stdout",
     "output_type": "stream",
     "text": [
      "Epoch 180, Loss 0.0179\n",
      "Training Accuracy: 0.9815, Testing Accuracy: 0.9758\n",
      "\n"
     ]
    },
    {
     "name": "stdout",
     "output_type": "stream",
     "text": [
      "Epoch 190, Loss 0.0175\n",
      "Training Accuracy: 0.9819, Testing Accuracy: 0.9758\n",
      "\n"
     ]
    },
    {
     "name": "stdout",
     "output_type": "stream",
     "text": [
      "Epoch 200, Loss 0.017\n",
      "Training Accuracy: 0.9822, Testing Accuracy: 0.9758\n",
      "\n"
     ]
    },
    {
     "name": "stdout",
     "output_type": "stream",
     "text": [
      "Epoch 210, Loss 0.0166\n",
      "Training Accuracy: 0.9826, Testing Accuracy: 0.9758\n",
      "\n"
     ]
    },
    {
     "name": "stdout",
     "output_type": "stream",
     "text": [
      "Epoch 220, Loss 0.0162\n",
      "Training Accuracy: 0.9831, Testing Accuracy: 0.9758\n",
      "\n"
     ]
    },
    {
     "name": "stdout",
     "output_type": "stream",
     "text": [
      "Epoch 230, Loss 0.0158\n",
      "Training Accuracy: 0.9838, Testing Accuracy: 0.9758\n",
      "\n"
     ]
    },
    {
     "name": "stdout",
     "output_type": "stream",
     "text": [
      "Epoch 240, Loss 0.0155\n",
      "Training Accuracy: 0.9846, Testing Accuracy: 0.9768\n",
      "\n"
     ]
    },
    {
     "name": "stdout",
     "output_type": "stream",
     "text": [
      "Epoch 250, Loss 0.0151\n",
      "Training Accuracy: 0.9850, Testing Accuracy: 0.9773\n",
      "\n"
     ]
    },
    {
     "data": {
      "text/plain": [
       "0.03484660662058805"
      ]
     },
     "execution_count": 20,
     "metadata": {},
     "output_type": "execute_result"
    }
   ],
   "source": [
    "print(\"====== Neural Network ======\")\n",
    "learner_nn.train_loop(dl)"
   ]
  },
  {
   "cell_type": "markdown",
   "metadata": {
    "papermill": {
     "duration": 0.03735,
     "end_time": "2020-12-16T20:06:08.092727",
     "exception": false,
     "start_time": "2020-12-16T20:06:08.055377",
     "status": "completed"
    },
    "tags": []
   },
   "source": [
    "### Logistic Regression based Implementation."
   ]
  },
  {
   "cell_type": "code",
   "execution_count": 21,
   "metadata": {
    "execution": {
     "iopub.execute_input": "2020-12-16T20:06:08.178125Z",
     "iopub.status.busy": "2020-12-16T20:06:08.176351Z",
     "iopub.status.idle": "2020-12-16T20:06:08.192950Z",
     "shell.execute_reply": "2020-12-16T20:06:08.188936Z"
    },
    "papermill": {
     "duration": 0.060584,
     "end_time": "2020-12-16T20:06:08.193141",
     "exception": false,
     "start_time": "2020-12-16T20:06:08.132557",
     "status": "completed"
    },
    "tags": []
   },
   "outputs": [],
   "source": [
    "learner_lr = Learner(loss, model_lr, opt, config.num_epochs)\n",
    "acc_lr = ClfCallback(learner_lr, config.bs, training_xdata , testing_xdata, training_ydata, testing_ydata)\n",
    "learner_lr.set_callbacks([acc_lr])"
   ]
  },
  {
   "cell_type": "code",
   "execution_count": 22,
   "metadata": {
    "execution": {
     "iopub.execute_input": "2020-12-16T20:06:08.276516Z",
     "iopub.status.busy": "2020-12-16T20:06:08.275217Z",
     "iopub.status.idle": "2020-12-16T20:06:24.469012Z",
     "shell.execute_reply": "2020-12-16T20:06:24.469509Z"
    },
    "papermill": {
     "duration": 16.238347,
     "end_time": "2020-12-16T20:06:24.469679",
     "exception": false,
     "start_time": "2020-12-16T20:06:08.231332",
     "status": "completed"
    },
    "tags": []
   },
   "outputs": [
    {
     "name": "stdout",
     "output_type": "stream",
     "text": [
      "====== Logistic Regression ======\n",
      "Epoch 0, Loss 0.2326\n",
      "Training Accuracy: 0.6975, Testing Accuracy: 0.7223\n",
      "\n"
     ]
    },
    {
     "name": "stdout",
     "output_type": "stream",
     "text": [
      "Epoch 10, Loss 0.1018\n",
      "Training Accuracy: 0.9132, Testing Accuracy: 0.9234\n",
      "\n"
     ]
    },
    {
     "name": "stdout",
     "output_type": "stream",
     "text": [
      "Epoch 20, Loss 0.0782\n",
      "Training Accuracy: 0.9303, Testing Accuracy: 0.9395\n",
      "\n"
     ]
    },
    {
     "name": "stdout",
     "output_type": "stream",
     "text": [
      "Epoch 30, Loss 0.0673\n",
      "Training Accuracy: 0.9387, Testing Accuracy: 0.9491\n",
      "\n"
     ]
    },
    {
     "name": "stdout",
     "output_type": "stream",
     "text": [
      "Epoch 40, Loss 0.0609\n",
      "Training Accuracy: 0.9442, Testing Accuracy: 0.9546\n",
      "\n"
     ]
    },
    {
     "name": "stdout",
     "output_type": "stream",
     "text": [
      "Epoch 50, Loss 0.0565\n",
      "Training Accuracy: 0.9476, Testing Accuracy: 0.9582\n",
      "\n"
     ]
    },
    {
     "name": "stdout",
     "output_type": "stream",
     "text": [
      "Epoch 60, Loss 0.0532\n",
      "Training Accuracy: 0.9493, Testing Accuracy: 0.9587\n",
      "\n"
     ]
    },
    {
     "name": "stdout",
     "output_type": "stream",
     "text": [
      "Epoch 70, Loss 0.0507\n",
      "Training Accuracy: 0.9506, Testing Accuracy: 0.9602\n",
      "\n"
     ]
    },
    {
     "name": "stdout",
     "output_type": "stream",
     "text": [
      "Epoch 80, Loss 0.0488\n",
      "Training Accuracy: 0.9523, Testing Accuracy: 0.9597\n",
      "\n"
     ]
    },
    {
     "name": "stdout",
     "output_type": "stream",
     "text": [
      "Epoch 90, Loss 0.0471\n",
      "Training Accuracy: 0.9530, Testing Accuracy: 0.9597\n",
      "\n"
     ]
    },
    {
     "name": "stdout",
     "output_type": "stream",
     "text": [
      "Epoch 100, Loss 0.0457\n",
      "Training Accuracy: 0.9541, Testing Accuracy: 0.9617\n",
      "\n"
     ]
    },
    {
     "name": "stdout",
     "output_type": "stream",
     "text": [
      "Epoch 110, Loss 0.0445\n",
      "Training Accuracy: 0.9551, Testing Accuracy: 0.9632\n",
      "\n"
     ]
    },
    {
     "name": "stdout",
     "output_type": "stream",
     "text": [
      "Epoch 120, Loss 0.0435\n",
      "Training Accuracy: 0.9553, Testing Accuracy: 0.9627\n",
      "\n"
     ]
    },
    {
     "name": "stdout",
     "output_type": "stream",
     "text": [
      "Epoch 130, Loss 0.0426\n",
      "Training Accuracy: 0.9564, Testing Accuracy: 0.9632\n",
      "\n"
     ]
    },
    {
     "name": "stdout",
     "output_type": "stream",
     "text": [
      "Epoch 140, Loss 0.0418\n",
      "Training Accuracy: 0.9574, Testing Accuracy: 0.9637\n",
      "\n"
     ]
    },
    {
     "name": "stdout",
     "output_type": "stream",
     "text": [
      "Epoch 150, Loss 0.041\n",
      "Training Accuracy: 0.9581, Testing Accuracy: 0.9647\n",
      "\n"
     ]
    },
    {
     "name": "stdout",
     "output_type": "stream",
     "text": [
      "Epoch 160, Loss 0.0404\n",
      "Training Accuracy: 0.9590, Testing Accuracy: 0.9647\n",
      "\n"
     ]
    },
    {
     "name": "stdout",
     "output_type": "stream",
     "text": [
      "Epoch 170, Loss 0.0398\n",
      "Training Accuracy: 0.9594, Testing Accuracy: 0.9647\n",
      "\n"
     ]
    },
    {
     "name": "stdout",
     "output_type": "stream",
     "text": [
      "Epoch 180, Loss 0.0392\n",
      "Training Accuracy: 0.9599, Testing Accuracy: 0.9652\n",
      "\n"
     ]
    },
    {
     "name": "stdout",
     "output_type": "stream",
     "text": [
      "Epoch 190, Loss 0.0387\n",
      "Training Accuracy: 0.9603, Testing Accuracy: 0.9657\n",
      "\n"
     ]
    },
    {
     "name": "stdout",
     "output_type": "stream",
     "text": [
      "Epoch 200, Loss 0.0383\n",
      "Training Accuracy: 0.9609, Testing Accuracy: 0.9662\n",
      "\n"
     ]
    },
    {
     "name": "stdout",
     "output_type": "stream",
     "text": [
      "Epoch 210, Loss 0.0378\n",
      "Training Accuracy: 0.9614, Testing Accuracy: 0.9662\n",
      "\n"
     ]
    },
    {
     "name": "stdout",
     "output_type": "stream",
     "text": [
      "Epoch 220, Loss 0.0374\n",
      "Training Accuracy: 0.9619, Testing Accuracy: 0.9667\n",
      "\n"
     ]
    },
    {
     "name": "stdout",
     "output_type": "stream",
     "text": [
      "Epoch 230, Loss 0.037\n",
      "Training Accuracy: 0.9617, Testing Accuracy: 0.9682\n",
      "\n"
     ]
    },
    {
     "name": "stdout",
     "output_type": "stream",
     "text": [
      "Epoch 240, Loss 0.0367\n",
      "Training Accuracy: 0.9620, Testing Accuracy: 0.9682\n",
      "\n"
     ]
    },
    {
     "name": "stdout",
     "output_type": "stream",
     "text": [
      "Epoch 250, Loss 0.0364\n",
      "Training Accuracy: 0.9624, Testing Accuracy: 0.9677\n",
      "\n"
     ]
    },
    {
     "data": {
      "text/plain": [
       "0.05389863079618105"
      ]
     },
     "execution_count": 22,
     "metadata": {},
     "output_type": "execute_result"
    }
   ],
   "source": [
    "print(\"====== Logistic Regression ======\")\n",
    "learner_lr.train_loop(dl)"
   ]
  },
  {
   "cell_type": "markdown",
   "metadata": {
    "papermill": {
     "duration": 0.045124,
     "end_time": "2020-12-16T20:06:24.559836",
     "exception": false,
     "start_time": "2020-12-16T20:06:24.514712",
     "status": "completed"
    },
    "tags": []
   },
   "source": [
    "### Comparing results of NN and LR"
   ]
  },
  {
   "cell_type": "code",
   "execution_count": 23,
   "metadata": {
    "execution": {
     "iopub.execute_input": "2020-12-16T20:06:24.657896Z",
     "iopub.status.busy": "2020-12-16T20:06:24.657273Z",
     "iopub.status.idle": "2020-12-16T20:06:24.924388Z",
     "shell.execute_reply": "2020-12-16T20:06:24.924925Z"
    },
    "papermill": {
     "duration": 0.319115,
     "end_time": "2020-12-16T20:06:24.925093",
     "exception": false,
     "start_time": "2020-12-16T20:06:24.605978",
     "status": "completed"
    },
    "tags": []
   },
   "outputs": [
    {
     "data": {
      "text/plain": [
       "<matplotlib.legend.Legend at 0x7f8ea5793be0>"
      ]
     },
     "execution_count": 23,
     "metadata": {},
     "output_type": "execute_result"
    },
    {
     "data": {
      "image/png": "[encoded data removed]",
      "text/plain": [
       "<Figure size 1080x720 with 1 Axes>"
      ]
     },
     "metadata": {
      "needs_background": "light"
     },
     "output_type": "display_data"
    }
   ],
   "source": [
    "plt.figure(figsize=(15,10))\n",
    "\n",
    "# Neural Network plots\n",
    "plt.plot(acc_nn.accuracies, 'r-', label = \"Training Accuracies - NN\")\n",
    "plt.plot(acc_nn.test_accuracies, 'g-', label = \"Testing Accuracies - NN\")\n",
    "\n",
    "# Logistic Regression plots\n",
    "plt.plot(acc_lr.accuracies, 'k-', label = \"Training Accuracies - LR\")\n",
    "plt.plot(acc_lr.test_accuracies, 'b-', label = \"Testing Accuracies - LR\")\n",
    "\n",
    "plt.ylim(0.8, 1)\n",
    "\n",
    "plt.legend()\n",
    "\n"
   ]
  },
  {
   "cell_type": "markdown",
   "metadata": {
    "papermill": {
     "duration": 0.047021,
     "end_time": "2020-12-16T20:06:25.020181",
     "exception": false,
     "start_time": "2020-12-16T20:06:24.973160",
     "status": "completed"
    },
    "tags": []
   },
   "source": [
    "### From the plot, we can observe the following:\n",
    "- Neural Network achieves higher accuracy than the Logistic Regression model.\n",
    "- This apparently, is because of overfitting, i.e. NN captures more noise than data.\n",
    "- Testing accuracy of NN drops below the Training accuracy at higher epochs. This explains the over-fitting on training data.\n",
    "- Logistic Regression gives a reliable accuracy, without the above mentioned problem.\n"
   ]
  },
  {
   "cell_type": "markdown",
   "metadata": {
    "papermill": {
     "duration": 0.047169,
     "end_time": "2020-12-16T20:06:25.115098",
     "exception": false,
     "start_time": "2020-12-16T20:06:25.067929",
     "status": "completed"
    },
    "tags": []
   },
   "source": [
    "### Moving till the last but one layer (excluding it).\n",
    "#### Plotting the outputs of this layer of the NN."
   ]
  },
  {
   "cell_type": "code",
   "execution_count": 24,
   "metadata": {
    "execution": {
     "iopub.execute_input": "2020-12-16T20:06:25.220688Z",
     "iopub.status.busy": "2020-12-16T20:06:25.220086Z",
     "iopub.status.idle": "2020-12-16T20:06:25.231071Z",
     "shell.execute_reply": "2020-12-16T20:06:25.230554Z"
    },
    "papermill": {
     "duration": 0.068873,
     "end_time": "2020-12-16T20:06:25.231203",
     "exception": false,
     "start_time": "2020-12-16T20:06:25.162330",
     "status": "completed"
    },
    "tags": []
   },
   "outputs": [],
   "source": [
    "model_new = Model(layers[:-2])"
   ]
  },
  {
   "cell_type": "code",
   "execution_count": 25,
   "metadata": {
    "execution": {
     "iopub.execute_input": "2020-12-16T20:06:25.332209Z",
     "iopub.status.busy": "2020-12-16T20:06:25.331620Z",
     "iopub.status.idle": "2020-12-16T20:06:25.353781Z",
     "shell.execute_reply": "2020-12-16T20:06:25.354428Z"
    },
    "papermill": {
     "duration": 0.075375,
     "end_time": "2020-12-16T20:06:25.354604",
     "exception": false,
     "start_time": "2020-12-16T20:06:25.279229",
     "status": "completed"
    },
    "tags": []
   },
   "outputs": [],
   "source": [
    "plot_testing = model_new(testing_xdata)"
   ]
  },
  {
   "cell_type": "code",
   "execution_count": 26,
   "metadata": {
    "execution": {
     "iopub.execute_input": "2020-12-16T20:06:25.458539Z",
     "iopub.status.busy": "2020-12-16T20:06:25.457932Z",
     "iopub.status.idle": "2020-12-16T20:06:25.648933Z",
     "shell.execute_reply": "2020-12-16T20:06:25.649423Z"
    },
    "papermill": {
     "duration": 0.243409,
     "end_time": "2020-12-16T20:06:25.649590",
     "exception": false,
     "start_time": "2020-12-16T20:06:25.406181",
     "status": "completed"
    },
    "tags": []
   },
   "outputs": [
    {
     "data": {
      "text/plain": [
       "Text(0.5, 1.0, 'Outputs')"
      ]
     },
     "execution_count": 26,
     "metadata": {},
     "output_type": "execute_result"
    },
    {
     "data": {
      "image/png": "[encoded data removed]",
      "text/plain": [
       "<Figure size 576x504 with 1 Axes>"
      ]
     },
     "metadata": {
      "needs_background": "light"
     },
     "output_type": "display_data"
    }
   ],
   "source": [
    "plt.figure(figsize=(8,7))\n",
    "plt.scatter(plot_testing[:,0], plot_testing[:,1], alpha = 0.1, c = y_test.ravel());\n",
    "plt.title('Outputs')"
   ]
  },
  {
   "cell_type": "markdown",
   "metadata": {
    "papermill": {
     "duration": 0.064691,
     "end_time": "2020-12-16T20:06:25.765412",
     "exception": false,
     "start_time": "2020-12-16T20:06:25.700721",
     "status": "completed"
    },
    "tags": []
   },
   "source": [
    "### Plotting probability contours"
   ]
  },
  {
   "cell_type": "code",
   "execution_count": 27,
   "metadata": {
    "execution": {
     "iopub.execute_input": "2020-12-16T20:06:25.871749Z",
     "iopub.status.busy": "2020-12-16T20:06:25.871145Z",
     "iopub.status.idle": "2020-12-16T20:06:25.882399Z",
     "shell.execute_reply": "2020-12-16T20:06:25.881947Z"
    },
    "papermill": {
     "duration": 0.066391,
     "end_time": "2020-12-16T20:06:25.882522",
     "exception": false,
     "start_time": "2020-12-16T20:06:25.816131",
     "status": "completed"
    },
    "tags": []
   },
   "outputs": [],
   "source": [
    "model_prob = Model(layers[-2:]) "
   ]
  },
  {
   "cell_type": "code",
   "execution_count": 28,
   "metadata": {
    "execution": {
     "iopub.execute_input": "2020-12-16T20:06:25.991091Z",
     "iopub.status.busy": "2020-12-16T20:06:25.990480Z",
     "iopub.status.idle": "2020-12-16T20:06:26.003804Z",
     "shell.execute_reply": "2020-12-16T20:06:26.004265Z"
    },
    "papermill": {
     "duration": 0.070305,
     "end_time": "2020-12-16T20:06:26.004424",
     "exception": false,
     "start_time": "2020-12-16T20:06:25.934119",
     "status": "completed"
    },
    "tags": []
   },
   "outputs": [],
   "source": [
    "# Adjust the x and y ranges according to the above generated plot.\n",
    "x_range = np.linspace(-4, 1, 100) \n",
    "y_range = np.linspace(-6, 6, 100) \n",
    "x_grid, y_grid = np.meshgrid(x_range, y_range) # x_grid and y_grig are of size 100 X 100\n",
    "\n",
    "# converting x_grid and y_grid to continuous arrays\n",
    "x_grid_flat = np.ravel(x_grid)\n",
    "y_grid_flat = np.ravel(y_grid)\n",
    "\n",
    "# The last layer of the current model takes two columns as input. Hence transpose of np.vstack() is required.\n",
    "X = np.vstack((x_grid_flat, y_grid_flat)).T\n",
    "\n",
    "# x_grid and y_grid are of size 100 x 100\n",
    "probability_contour = model_prob(X).reshape(100,100) "
   ]
  },
  {
   "cell_type": "code",
   "execution_count": 29,
   "metadata": {
    "execution": {
     "iopub.execute_input": "2020-12-16T20:06:26.136070Z",
     "iopub.status.busy": "2020-12-16T20:06:26.135439Z",
     "iopub.status.idle": "2020-12-16T20:06:26.387158Z",
     "shell.execute_reply": "2020-12-16T20:06:26.386666Z"
    },
    "papermill": {
     "duration": 0.333084,
     "end_time": "2020-12-16T20:06:26.387298",
     "exception": false,
     "start_time": "2020-12-16T20:06:26.054214",
     "status": "completed"
    },
    "tags": []
   },
   "outputs": [
    {
     "data": {
      "image/png": "[encoded data removed]",
      "text/plain": [
       "<Figure size 720x648 with 1 Axes>"
      ]
     },
     "metadata": {
      "needs_background": "light"
     },
     "output_type": "display_data"
    }
   ],
   "source": [
    "plt.figure(figsize=(10,9))\n",
    "plt.scatter(plot_testing[:,0], plot_testing[:,1], alpha = 0.1, c = y_test.ravel())\n",
    "contours = plt.contour(x_grid,y_grid,probability_contour)\n",
    "plt.title('Probability Contours')\n",
    "plt.clabel(contours, inline = True );"
   ]
  }
 ],
 "metadata": {
  "kernelspec": {
   "display_name": "Python 3",
   "language": "python",
   "name": "python3"
  },
  "language_info": {
   "codemirror_mode": {
    "name": "ipython",
    "version": 3
   },
   "file_extension": ".py",
   "mimetype": "text/x-python",
   "name": "python",
   "nbconvert_exporter": "python",
   "pygments_lexer": "ipython3",
   "version": "3.6.12"
  },
  "papermill": {
   "duration": 112.984322,
   "end_time": "2020-12-16T20:06:26.849572",
   "environment_variables": {},
   "exception": null,
   "input_path": "2020-08-11-NeuralNetwork.ipynb",
   "output_path": "2020-08-11-NeuralNetwork.ipynb",
   "parameters": {},
   "start_time": "2020-12-16T20:04:33.865250",
   "version": "2.1.2"
  }
 },
 "nbformat": 4,
 "nbformat_minor": 4
}