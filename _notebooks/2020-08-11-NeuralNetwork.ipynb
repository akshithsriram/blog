{
 "cells": [
  {
   "cell_type": "markdown",
   "metadata": {
    "papermill": {
     "duration": 0.0318,
     "end_time": "2020-09-08T20:04:24.285451",
     "exception": false,
     "start_time": "2020-09-08T20:04:24.253651",
     "status": "completed"
    },
    "tags": []
   },
   "source": [
    "# \"A Basic Neural Network: Differentiate Hand-Written Digits\"\n",
    "\n",
    "- badges: true\n",
    "- author: Akshith Sriram"
   ]
  },
  {
   "cell_type": "markdown",
   "metadata": {
    "papermill": {
     "duration": 0.042625,
     "end_time": "2020-09-08T20:04:24.418011",
     "exception": false,
     "start_time": "2020-09-08T20:04:24.375386",
     "status": "completed"
    },
    "tags": []
   },
   "source": [
    "### Key Objectives:\n",
    "- Building a neural network that differentiates two hand-written digits 3 and 8.\n",
    "- Comparing the results of this Neural Network (NN) to that of a Logistic Regression (LR) model.\n",
    "\n",
    "### Requirements:\n",
    "- 'Kudzu' : A neural network library that was designed during our course by [Univ.AI](www.univ.ai). \n",
    "- MNIST Database\n",
    "\n",
    "If MNIST is not installed, use the command `!pip install mnist` given below.\n",
    "It can be run both from the command line and Jupyter Notebook."
   ]
  },
  {
   "cell_type": "code",
   "execution_count": 1,
   "metadata": {
    "execution": {
     "iopub.execute_input": "2020-09-08T20:04:24.533437Z",
     "iopub.status.busy": "2020-09-08T20:04:24.532586Z",
     "iopub.status.idle": "2020-09-08T20:04:26.247355Z",
     "shell.execute_reply": "2020-09-08T20:04:26.247883Z"
    },
    "papermill": {
     "duration": 1.769652,
     "end_time": "2020-09-08T20:04:26.248093",
     "exception": false,
     "start_time": "2020-09-08T20:04:24.478441",
     "status": "completed"
    },
    "tags": []
   },
   "outputs": [
    {
     "name": "stdout",
     "output_type": "stream",
     "text": [
      "Collecting mnist\r\n"
     ]
    },
    {
     "name": "stdout",
     "output_type": "stream",
     "text": [
      "  Downloading mnist-0.2.2-py2.py3-none-any.whl (3.5 kB)\r\n"
     ]
    },
    {
     "name": "stdout",
     "output_type": "stream",
     "text": [
      "Requirement already satisfied: numpy in /opt/hostedtoolcache/Python/3.6.12/x64/lib/python3.6/site-packages (from mnist) (1.19.1)\r\n"
     ]
    },
    {
     "name": "stdout",
     "output_type": "stream",
     "text": [
      "Installing collected packages: mnist\r\n"
     ]
    },
    {
     "name": "stdout",
     "output_type": "stream",
     "text": [
      "Successfully installed mnist-0.2.2\r\n",
      "\u001b[33mWARNING: You are using pip version 20.2.2; however, version 20.2.3 is available.\r\n",
      "You should consider upgrading via the '/opt/hostedtoolcache/Python/3.6.12/x64/bin/python -m pip install --upgrade pip' command.\u001b[0m\r\n"
     ]
    }
   ],
   "source": [
    "!pip install mnist "
   ]
  },
  {
   "cell_type": "markdown",
   "metadata": {
    "papermill": {
     "duration": 0.027117,
     "end_time": "2020-09-08T20:04:26.305469",
     "exception": false,
     "start_time": "2020-09-08T20:04:26.278352",
     "status": "completed"
    },
    "tags": []
   },
   "source": [
    "#### Importing necessary libraries"
   ]
  },
  {
   "cell_type": "code",
   "execution_count": 2,
   "metadata": {
    "execution": {
     "iopub.execute_input": "2020-09-08T20:04:26.370771Z",
     "iopub.status.busy": "2020-09-08T20:04:26.369693Z",
     "iopub.status.idle": "2020-09-08T20:04:26.977249Z",
     "shell.execute_reply": "2020-09-08T20:04:26.976658Z"
    },
    "papermill": {
     "duration": 0.642984,
     "end_time": "2020-09-08T20:04:26.977406",
     "exception": false,
     "start_time": "2020-09-08T20:04:26.334422",
     "status": "completed"
    },
    "tags": []
   },
   "outputs": [],
   "source": [
    "%load_ext autoreload\n",
    "%autoreload 2\n",
    "\n",
    "%matplotlib inline\n",
    "import matplotlib.pyplot as plt\n",
    "\n",
    "import numpy as np\n",
    "import pandas as pd"
   ]
  },
  {
   "cell_type": "markdown",
   "metadata": {
    "papermill": {
     "duration": 0.029082,
     "end_time": "2020-09-08T20:04:27.037256",
     "exception": false,
     "start_time": "2020-09-08T20:04:27.008174",
     "status": "completed"
    },
    "tags": []
   },
   "source": [
    "### Preparing the Data"
   ]
  },
  {
   "cell_type": "code",
   "execution_count": 3,
   "metadata": {
    "execution": {
     "iopub.execute_input": "2020-09-08T20:04:27.118160Z",
     "iopub.status.busy": "2020-09-08T20:04:27.116658Z",
     "iopub.status.idle": "2020-09-08T20:04:27.120755Z",
     "shell.execute_reply": "2020-09-08T20:04:27.121396Z"
    },
    "papermill": {
     "duration": 0.052295,
     "end_time": "2020-09-08T20:04:27.121541",
     "exception": false,
     "start_time": "2020-09-08T20:04:27.069246",
     "status": "completed"
    },
    "tags": []
   },
   "outputs": [],
   "source": [
    "import mnist"
   ]
  },
  {
   "cell_type": "code",
   "execution_count": 4,
   "metadata": {
    "execution": {
     "iopub.execute_input": "2020-09-08T20:04:27.184436Z",
     "iopub.status.busy": "2020-09-08T20:04:27.183787Z",
     "iopub.status.idle": "2020-09-08T20:04:28.818347Z",
     "shell.execute_reply": "2020-09-08T20:04:28.817713Z"
    },
    "papermill": {
     "duration": 1.669155,
     "end_time": "2020-09-08T20:04:28.818511",
     "exception": false,
     "start_time": "2020-09-08T20:04:27.149356",
     "status": "completed"
    },
    "tags": []
   },
   "outputs": [],
   "source": [
    "train_images = mnist.train_images()\n",
    "train_labels = mnist.train_labels()"
   ]
  },
  {
   "cell_type": "code",
   "execution_count": 5,
   "metadata": {
    "execution": {
     "iopub.execute_input": "2020-09-08T20:04:28.883770Z",
     "iopub.status.busy": "2020-09-08T20:04:28.883161Z",
     "iopub.status.idle": "2020-09-08T20:04:28.899743Z",
     "shell.execute_reply": "2020-09-08T20:04:28.900286Z"
    },
    "papermill": {
     "duration": 0.051956,
     "end_time": "2020-09-08T20:04:28.900442",
     "exception": false,
     "start_time": "2020-09-08T20:04:28.848486",
     "status": "completed"
    },
    "tags": []
   },
   "outputs": [
    {
     "data": {
      "text/plain": [
       "((60000, 28, 28), (60000,))"
      ]
     },
     "execution_count": 5,
     "metadata": {},
     "output_type": "execute_result"
    }
   ],
   "source": [
    "train_images.shape, train_labels.shape"
   ]
  },
  {
   "cell_type": "code",
   "execution_count": 6,
   "metadata": {
    "execution": {
     "iopub.execute_input": "2020-09-08T20:04:28.972287Z",
     "iopub.status.busy": "2020-09-08T20:04:28.971628Z",
     "iopub.status.idle": "2020-09-08T20:04:29.843890Z",
     "shell.execute_reply": "2020-09-08T20:04:29.843284Z"
    },
    "papermill": {
     "duration": 0.912835,
     "end_time": "2020-09-08T20:04:29.844048",
     "exception": false,
     "start_time": "2020-09-08T20:04:28.931213",
     "status": "completed"
    },
    "tags": []
   },
   "outputs": [],
   "source": [
    "test_images = mnist.test_images()\n",
    "test_labels = mnist.test_labels()"
   ]
  },
  {
   "cell_type": "code",
   "execution_count": 7,
   "metadata": {
    "execution": {
     "iopub.execute_input": "2020-09-08T20:04:29.903848Z",
     "iopub.status.busy": "2020-09-08T20:04:29.903198Z",
     "iopub.status.idle": "2020-09-08T20:04:29.920056Z",
     "shell.execute_reply": "2020-09-08T20:04:29.920700Z"
    },
    "papermill": {
     "duration": 0.048285,
     "end_time": "2020-09-08T20:04:29.920841",
     "exception": false,
     "start_time": "2020-09-08T20:04:29.872556",
     "status": "completed"
    },
    "tags": []
   },
   "outputs": [
    {
     "data": {
      "text/plain": [
       "((10000, 28, 28), (10000,))"
      ]
     },
     "execution_count": 7,
     "metadata": {},
     "output_type": "execute_result"
    }
   ],
   "source": [
    "test_images.shape, test_labels.shape"
   ]
  },
  {
   "cell_type": "code",
   "execution_count": 8,
   "metadata": {
    "execution": {
     "iopub.execute_input": "2020-09-08T20:04:30.003069Z",
     "iopub.status.busy": "2020-09-08T20:04:29.986881Z",
     "iopub.status.idle": "2020-09-08T20:04:30.155202Z",
     "shell.execute_reply": "2020-09-08T20:04:30.155739Z"
    },
    "papermill": {
     "duration": 0.206207,
     "end_time": "2020-09-08T20:04:30.155929",
     "exception": false,
     "start_time": "2020-09-08T20:04:29.949722",
     "status": "completed"
    },
    "tags": []
   },
   "outputs": [
    {
     "name": "stdout",
     "output_type": "stream",
     "text": [
      "2\n"
     ]
    },
    {
     "data": {
      "text/plain": [
       "<matplotlib.image.AxesImage at 0x7fbd454d3e10>"
      ]
     },
     "execution_count": 8,
     "metadata": {},
     "output_type": "execute_result"
    },
    {
     "data": {
      "image/png": "[encoded data removed]",
      "text/plain": [
       "<Figure size 432x288 with 1 Axes>"
      ]
     },
     "metadata": {
      "needs_background": "light"
     },
     "output_type": "display_data"
    }
   ],
   "source": [
    "image_index = 7776 # You may select anything up to 60,000\n",
    "print(train_labels[image_index]) \n",
    "plt.imshow(train_images[image_index], cmap='Greys')"
   ]
  },
  {
   "cell_type": "markdown",
   "metadata": {
    "papermill": {
     "duration": 0.042674,
     "end_time": "2020-09-08T20:04:30.325286",
     "exception": false,
     "start_time": "2020-09-08T20:04:30.282612",
     "status": "completed"
    },
    "tags": []
   },
   "source": [
    "## Filter data to get 3 and 8 out"
   ]
  },
  {
   "cell_type": "code",
   "execution_count": 9,
   "metadata": {
    "execution": {
     "iopub.execute_input": "2020-09-08T20:04:30.424098Z",
     "iopub.status.busy": "2020-09-08T20:04:30.423427Z",
     "iopub.status.idle": "2020-09-08T20:04:30.442690Z",
     "shell.execute_reply": "2020-09-08T20:04:30.442110Z"
    },
    "papermill": {
     "duration": 0.071818,
     "end_time": "2020-09-08T20:04:30.442852",
     "exception": false,
     "start_time": "2020-09-08T20:04:30.371034",
     "status": "completed"
    },
    "tags": []
   },
   "outputs": [],
   "source": [
    "train_filter = np.where((train_labels == 3 ) | (train_labels == 8))\n",
    "test_filter = np.where((test_labels == 3) | (test_labels == 8))\n",
    "X_train, y_train = train_images[train_filter], train_labels[train_filter]\n",
    "X_test, y_test = test_images[test_filter], test_labels[test_filter]"
   ]
  },
  {
   "cell_type": "markdown",
   "metadata": {
    "papermill": {
     "duration": 0.056322,
     "end_time": "2020-09-08T20:04:30.574655",
     "exception": false,
     "start_time": "2020-09-08T20:04:30.518333",
     "status": "completed"
    },
    "tags": []
   },
   "source": [
    "We normalize the pixel values in the 0 to 1 range"
   ]
  },
  {
   "cell_type": "code",
   "execution_count": 10,
   "metadata": {
    "execution": {
     "iopub.execute_input": "2020-09-08T20:04:30.726789Z",
     "iopub.status.busy": "2020-09-08T20:04:30.722873Z",
     "iopub.status.idle": "2020-09-08T20:04:30.789681Z",
     "shell.execute_reply": "2020-09-08T20:04:30.789061Z"
    },
    "papermill": {
     "duration": 0.167509,
     "end_time": "2020-09-08T20:04:30.789840",
     "exception": false,
     "start_time": "2020-09-08T20:04:30.622331",
     "status": "completed"
    },
    "tags": []
   },
   "outputs": [],
   "source": [
    "X_train = X_train/255.\n",
    "X_test = X_test/255."
   ]
  },
  {
   "cell_type": "markdown",
   "metadata": {
    "papermill": {
     "duration": 0.088962,
     "end_time": "2020-09-08T20:04:30.919669",
     "exception": false,
     "start_time": "2020-09-08T20:04:30.830707",
     "status": "completed"
    },
    "tags": []
   },
   "source": [
    "Setup the labels as 1 (when the digit is 3) and 0 (when the digit is 8)"
   ]
  },
  {
   "cell_type": "code",
   "execution_count": 11,
   "metadata": {
    "execution": {
     "iopub.execute_input": "2020-09-08T20:04:31.004849Z",
     "iopub.status.busy": "2020-09-08T20:04:31.003750Z",
     "iopub.status.idle": "2020-09-08T20:04:31.008218Z",
     "shell.execute_reply": "2020-09-08T20:04:31.006967Z"
    },
    "papermill": {
     "duration": 0.055794,
     "end_time": "2020-09-08T20:04:31.008362",
     "exception": false,
     "start_time": "2020-09-08T20:04:30.952568",
     "status": "completed"
    },
    "tags": []
   },
   "outputs": [],
   "source": [
    "y_train = 1*(y_train==3)\n",
    "y_test = 1*(y_test==3)"
   ]
  },
  {
   "cell_type": "code",
   "execution_count": 12,
   "metadata": {
    "execution": {
     "iopub.execute_input": "2020-09-08T20:04:31.087723Z",
     "iopub.status.busy": "2020-09-08T20:04:31.087053Z",
     "iopub.status.idle": "2020-09-08T20:04:31.096012Z",
     "shell.execute_reply": "2020-09-08T20:04:31.095439Z"
    },
    "papermill": {
     "duration": 0.056147,
     "end_time": "2020-09-08T20:04:31.096164",
     "exception": false,
     "start_time": "2020-09-08T20:04:31.040017",
     "status": "completed"
    },
    "tags": []
   },
   "outputs": [
    {
     "data": {
      "text/plain": [
       "((11982, 28, 28), (1984, 28, 28))"
      ]
     },
     "execution_count": 12,
     "metadata": {},
     "output_type": "execute_result"
    }
   ],
   "source": [
    "X_train.shape, X_test.shape"
   ]
  },
  {
   "cell_type": "markdown",
   "metadata": {
    "papermill": {
     "duration": 0.031265,
     "end_time": "2020-09-08T20:04:31.159419",
     "exception": false,
     "start_time": "2020-09-08T20:04:31.128154",
     "status": "completed"
    },
    "tags": []
   },
   "source": [
    "### Reshape the input data to create a linear array"
   ]
  },
  {
   "cell_type": "code",
   "execution_count": 13,
   "metadata": {
    "execution": {
     "iopub.execute_input": "2020-09-08T20:04:31.233543Z",
     "iopub.status.busy": "2020-09-08T20:04:31.232881Z",
     "iopub.status.idle": "2020-09-08T20:04:31.246924Z",
     "shell.execute_reply": "2020-09-08T20:04:31.246184Z"
    },
    "papermill": {
     "duration": 0.054123,
     "end_time": "2020-09-08T20:04:31.247080",
     "exception": false,
     "start_time": "2020-09-08T20:04:31.192957",
     "status": "completed"
    },
    "tags": []
   },
   "outputs": [
    {
     "data": {
      "text/plain": [
       "((11982, 784), (1984, 784))"
      ]
     },
     "execution_count": 13,
     "metadata": {},
     "output_type": "execute_result"
    }
   ],
   "source": [
    "X_train = X_train.reshape(X_train.shape[0], -1)\n",
    "X_test = X_test.reshape(X_test.shape[0], -1)\n",
    "X_train.shape, X_test.shape"
   ]
  },
  {
   "cell_type": "markdown",
   "metadata": {
    "papermill": {
     "duration": 0.030703,
     "end_time": "2020-09-08T20:04:31.311627",
     "exception": false,
     "start_time": "2020-09-08T20:04:31.280924",
     "status": "completed"
    },
    "tags": []
   },
   "source": [
    "### Importing appropriate functions from 'Kudzu'"
   ]
  },
  {
   "cell_type": "code",
   "execution_count": 14,
   "metadata": {
    "execution": {
     "iopub.execute_input": "2020-09-08T20:04:31.390767Z",
     "iopub.status.busy": "2020-09-08T20:04:31.383759Z",
     "iopub.status.idle": "2020-09-08T20:04:31.400330Z",
     "shell.execute_reply": "2020-09-08T20:04:31.399842Z"
    },
    "papermill": {
     "duration": 0.057501,
     "end_time": "2020-09-08T20:04:31.400455",
     "exception": false,
     "start_time": "2020-09-08T20:04:31.342954",
     "status": "completed"
    },
    "tags": []
   },
   "outputs": [],
   "source": [
    "from kudzu.layer import Sigmoid\n",
    "from kudzu.layer import Relu\n",
    "from kudzu.layer import Affine, Sigmoid\n",
    "\n",
    "from kudzu.model import Model\n",
    "from kudzu.train import Learner\n",
    "from kudzu.optim import GD\n",
    "from kudzu.data import Data, Dataloader, Sampler\n",
    "\n",
    "from kudzu.callbacks import AccCallback\n",
    "from kudzu.callbacks import ClfCallback\n",
    "\n",
    "from kudzu.loss import MSE"
   ]
  },
  {
   "cell_type": "markdown",
   "metadata": {
    "papermill": {
     "duration": 0.029175,
     "end_time": "2020-09-08T20:04:31.460660",
     "exception": false,
     "start_time": "2020-09-08T20:04:31.431485",
     "status": "completed"
    },
    "tags": []
   },
   "source": [
    "### Let us create a `Config` class, to store important parameters. \n",
    "This class essentially plays the role of a dictionary."
   ]
  },
  {
   "cell_type": "code",
   "execution_count": 15,
   "metadata": {
    "execution": {
     "iopub.execute_input": "2020-09-08T20:04:31.523993Z",
     "iopub.status.busy": "2020-09-08T20:04:31.523300Z",
     "iopub.status.idle": "2020-09-08T20:04:31.537001Z",
     "shell.execute_reply": "2020-09-08T20:04:31.537675Z"
    },
    "papermill": {
     "duration": 0.047574,
     "end_time": "2020-09-08T20:04:31.537837",
     "exception": false,
     "start_time": "2020-09-08T20:04:31.490263",
     "status": "completed"
    },
    "tags": []
   },
   "outputs": [],
   "source": [
    "class Config:\n",
    "    pass\n",
    "config = Config()\n",
    "config.lr = 0.001\n",
    "config.num_epochs = 251\n",
    "config.bs = 50"
   ]
  },
  {
   "cell_type": "markdown",
   "metadata": {
    "papermill": {
     "duration": 0.03106,
     "end_time": "2020-09-08T20:04:31.600256",
     "exception": false,
     "start_time": "2020-09-08T20:04:31.569196",
     "status": "completed"
    },
    "tags": []
   },
   "source": [
    "### Initializing data to the variables"
   ]
  },
  {
   "cell_type": "code",
   "execution_count": 16,
   "metadata": {
    "execution": {
     "iopub.execute_input": "2020-09-08T20:04:31.669113Z",
     "iopub.status.busy": "2020-09-08T20:04:31.668427Z",
     "iopub.status.idle": "2020-09-08T20:04:31.679491Z",
     "shell.execute_reply": "2020-09-08T20:04:31.680056Z"
    },
    "papermill": {
     "duration": 0.049463,
     "end_time": "2020-09-08T20:04:31.680215",
     "exception": false,
     "start_time": "2020-09-08T20:04:31.630752",
     "status": "completed"
    },
    "tags": []
   },
   "outputs": [],
   "source": [
    "data = Data(X_train, y_train.reshape(-1,1))\n",
    "sampler = Sampler(data, config.bs, shuffle=True)\n",
    "\n",
    "dl = Dataloader(data, sampler)\n",
    "\n",
    "opt = GD(config.lr)\n",
    "loss = MSE()"
   ]
  },
  {
   "cell_type": "code",
   "execution_count": 17,
   "metadata": {
    "execution": {
     "iopub.execute_input": "2020-09-08T20:04:31.750375Z",
     "iopub.status.busy": "2020-09-08T20:04:31.749686Z",
     "iopub.status.idle": "2020-09-08T20:04:31.761888Z",
     "shell.execute_reply": "2020-09-08T20:04:31.761351Z"
    },
    "papermill": {
     "duration": 0.050591,
     "end_time": "2020-09-08T20:04:31.762091",
     "exception": false,
     "start_time": "2020-09-08T20:04:31.711500",
     "status": "completed"
    },
    "tags": []
   },
   "outputs": [],
   "source": [
    "training_xdata = X_train\n",
    "testing_xdata = X_test\n",
    "training_ydata = y_train.reshape(-1,1)\n",
    "testing_ydata = y_test.reshape(-1,1)"
   ]
  },
  {
   "cell_type": "markdown",
   "metadata": {
    "papermill": {
     "duration": 0.031276,
     "end_time": "2020-09-08T20:04:31.824124",
     "exception": false,
     "start_time": "2020-09-08T20:04:31.792848",
     "status": "completed"
    },
    "tags": []
   },
   "source": [
    "### Running Models with the Training data\n",
    "Details about the network layers:\n",
    "- A first affine layer has 784 inputs and does 100 affine transforms. These are followed by a Relu\n",
    "- A second affine layer has 100 inputs from the 100 activations of the past layer, and does 100 affine transforms. These are followed by a Relu\n",
    "- A third affine layer has 100 activations and does 2 affine transformations to create an embedding for visualization. There is no non-linearity here.\n",
    "- A final \"logistic regression\" which has an affine transform from 2 inputs to 1 output, which is squeezed through a sigmoid.\n",
    "\n",
    "Help taken from Anshuman's Notebook."
   ]
  },
  {
   "cell_type": "code",
   "execution_count": 18,
   "metadata": {
    "execution": {
     "iopub.execute_input": "2020-09-08T20:04:31.901786Z",
     "iopub.status.busy": "2020-09-08T20:04:31.900569Z",
     "iopub.status.idle": "2020-09-08T20:04:31.914416Z",
     "shell.execute_reply": "2020-09-08T20:04:31.913805Z"
    },
    "papermill": {
     "duration": 0.061142,
     "end_time": "2020-09-08T20:04:31.914652",
     "exception": false,
     "start_time": "2020-09-08T20:04:31.853510",
     "status": "completed"
    },
    "tags": []
   },
   "outputs": [],
   "source": [
    "# layers for the Neural Network\n",
    "layers = [Affine(\"first\", 784, 100), Relu(\"first\"), Affine(\"second\", 100, 100), Relu(\"second\"), Affine(\"third\", 100, 2), Affine(\"final\", 2, 1), Sigmoid(\"final\")]\n",
    "model_nn = Model(layers)\n",
    "\n",
    "# layers for the Logistic Regression\n",
    "layers_lr = [Affine(\"logits\", 784, 1), Sigmoid(\"sigmoid\")]\n",
    "model_lr = Model(layers_lr)"
   ]
  },
  {
   "cell_type": "code",
   "execution_count": 19,
   "metadata": {
    "execution": {
     "iopub.execute_input": "2020-09-08T20:04:31.989175Z",
     "iopub.status.busy": "2020-09-08T20:04:31.988458Z",
     "iopub.status.idle": "2020-09-08T20:04:32.000999Z",
     "shell.execute_reply": "2020-09-08T20:04:32.001628Z"
    },
    "papermill": {
     "duration": 0.050011,
     "end_time": "2020-09-08T20:04:32.001793",
     "exception": false,
     "start_time": "2020-09-08T20:04:31.951782",
     "status": "completed"
    },
    "tags": []
   },
   "outputs": [],
   "source": [
    "# suffix _nn stands for Neural Network.\n",
    "learner_nn = Learner(loss, model_nn, opt, config.num_epochs)\n",
    "acc_nn = ClfCallback(learner_nn, config.bs, training_xdata , testing_xdata, training_ydata, testing_ydata)\n",
    "learner_nn.set_callbacks([acc_nn])"
   ]
  },
  {
   "cell_type": "code",
   "execution_count": 20,
   "metadata": {
    "execution": {
     "iopub.execute_input": "2020-09-08T20:04:32.072759Z",
     "iopub.status.busy": "2020-09-08T20:04:32.072107Z",
     "iopub.status.idle": "2020-09-08T20:06:36.623014Z",
     "shell.execute_reply": "2020-09-08T20:06:36.622462Z"
    },
    "papermill": {
     "duration": 124.58951,
     "end_time": "2020-09-08T20:06:36.623166",
     "exception": false,
     "start_time": "2020-09-08T20:04:32.033656",
     "status": "completed"
    },
    "tags": []
   },
   "outputs": [
    {
     "name": "stdout",
     "output_type": "stream",
     "text": [
      "====== Neural Network ======\n"
     ]
    },
    {
     "name": "stdout",
     "output_type": "stream",
     "text": [
      "Epoch 0, Loss 0.2406\n",
      "Training Accuracy: 0.7051, Testing Accuracy: 0.6966\n",
      "\n"
     ]
    },
    {
     "name": "stdout",
     "output_type": "stream",
     "text": [
      "Epoch 10, Loss 0.0849\n",
      "Training Accuracy: 0.9227, Testing Accuracy: 0.9299\n",
      "\n"
     ]
    },
    {
     "name": "stdout",
     "output_type": "stream",
     "text": [
      "Epoch 20, Loss 0.0532\n",
      "Training Accuracy: 0.9443, Testing Accuracy: 0.9526\n",
      "\n"
     ]
    },
    {
     "name": "stdout",
     "output_type": "stream",
     "text": [
      "Epoch 30, Loss 0.042\n",
      "Training Accuracy: 0.9559, Testing Accuracy: 0.9597\n",
      "\n"
     ]
    },
    {
     "name": "stdout",
     "output_type": "stream",
     "text": [
      "Epoch 40, Loss 0.0362\n",
      "Training Accuracy: 0.9596, Testing Accuracy: 0.9627\n",
      "\n"
     ]
    },
    {
     "name": "stdout",
     "output_type": "stream",
     "text": [
      "Epoch 50, Loss 0.0325\n",
      "Training Accuracy: 0.9628, Testing Accuracy: 0.9642\n",
      "\n"
     ]
    },
    {
     "name": "stdout",
     "output_type": "stream",
     "text": [
      "Epoch 60, Loss 0.03\n",
      "Training Accuracy: 0.9652, Testing Accuracy: 0.9667\n",
      "\n"
     ]
    },
    {
     "name": "stdout",
     "output_type": "stream",
     "text": [
      "Epoch 70, Loss 0.0281\n",
      "Training Accuracy: 0.9677, Testing Accuracy: 0.9672\n",
      "\n"
     ]
    },
    {
     "name": "stdout",
     "output_type": "stream",
     "text": [
      "Epoch 80, Loss 0.0265\n",
      "Training Accuracy: 0.9691, Testing Accuracy: 0.9677\n",
      "\n"
     ]
    },
    {
     "name": "stdout",
     "output_type": "stream",
     "text": [
      "Epoch 90, Loss 0.0253\n",
      "Training Accuracy: 0.9711, Testing Accuracy: 0.9688\n",
      "\n"
     ]
    },
    {
     "name": "stdout",
     "output_type": "stream",
     "text": [
      "Epoch 100, Loss 0.0242\n",
      "Training Accuracy: 0.9725, Testing Accuracy: 0.9708\n",
      "\n"
     ]
    },
    {
     "name": "stdout",
     "output_type": "stream",
     "text": [
      "Epoch 110, Loss 0.0233\n",
      "Training Accuracy: 0.9736, Testing Accuracy: 0.9728\n",
      "\n"
     ]
    },
    {
     "name": "stdout",
     "output_type": "stream",
     "text": [
      "Epoch 120, Loss 0.0224\n",
      "Training Accuracy: 0.9747, Testing Accuracy: 0.9728\n",
      "\n"
     ]
    },
    {
     "name": "stdout",
     "output_type": "stream",
     "text": [
      "Epoch 130, Loss 0.0217\n",
      "Training Accuracy: 0.9755, Testing Accuracy: 0.9733\n",
      "\n"
     ]
    },
    {
     "name": "stdout",
     "output_type": "stream",
     "text": [
      "Epoch 140, Loss 0.021\n",
      "Training Accuracy: 0.9764, Testing Accuracy: 0.9728\n",
      "\n"
     ]
    },
    {
     "name": "stdout",
     "output_type": "stream",
     "text": [
      "Epoch 150, Loss 0.0203\n",
      "Training Accuracy: 0.9771, Testing Accuracy: 0.9738\n",
      "\n"
     ]
    },
    {
     "name": "stdout",
     "output_type": "stream",
     "text": [
      "Epoch 160, Loss 0.0198\n",
      "Training Accuracy: 0.9775, Testing Accuracy: 0.9738\n",
      "\n"
     ]
    },
    {
     "name": "stdout",
     "output_type": "stream",
     "text": [
      "Epoch 170, Loss 0.0192\n",
      "Training Accuracy: 0.9790, Testing Accuracy: 0.9748\n",
      "\n"
     ]
    },
    {
     "name": "stdout",
     "output_type": "stream",
     "text": [
      "Epoch 180, Loss 0.0187\n",
      "Training Accuracy: 0.9792, Testing Accuracy: 0.9748\n",
      "\n"
     ]
    },
    {
     "name": "stdout",
     "output_type": "stream",
     "text": [
      "Epoch 190, Loss 0.0182\n",
      "Training Accuracy: 0.9800, Testing Accuracy: 0.9743\n",
      "\n"
     ]
    },
    {
     "name": "stdout",
     "output_type": "stream",
     "text": [
      "Epoch 200, Loss 0.0178\n",
      "Training Accuracy: 0.9806, Testing Accuracy: 0.9743\n",
      "\n"
     ]
    },
    {
     "name": "stdout",
     "output_type": "stream",
     "text": [
      "Epoch 210, Loss 0.0173\n",
      "Training Accuracy: 0.9811, Testing Accuracy: 0.9743\n",
      "\n"
     ]
    },
    {
     "name": "stdout",
     "output_type": "stream",
     "text": [
      "Epoch 220, Loss 0.0169\n",
      "Training Accuracy: 0.9815, Testing Accuracy: 0.9743\n",
      "\n"
     ]
    },
    {
     "name": "stdout",
     "output_type": "stream",
     "text": [
      "Epoch 230, Loss 0.0165\n",
      "Training Accuracy: 0.9817, Testing Accuracy: 0.9748\n",
      "\n"
     ]
    },
    {
     "name": "stdout",
     "output_type": "stream",
     "text": [
      "Epoch 240, Loss 0.0162\n",
      "Training Accuracy: 0.9821, Testing Accuracy: 0.9748\n",
      "\n"
     ]
    },
    {
     "name": "stdout",
     "output_type": "stream",
     "text": [
      "Epoch 250, Loss 0.0158\n",
      "Training Accuracy: 0.9826, Testing Accuracy: 0.9753\n",
      "\n"
     ]
    },
    {
     "data": {
      "text/plain": [
       "0.01690448653523074"
      ]
     },
     "execution_count": 20,
     "metadata": {},
     "output_type": "execute_result"
    }
   ],
   "source": [
    "print(\"====== Neural Network ======\")\n",
    "learner_nn.train_loop(dl)"
   ]
  },
  {
   "cell_type": "markdown",
   "metadata": {
    "papermill": {
     "duration": 0.04236,
     "end_time": "2020-09-08T20:06:36.707361",
     "exception": false,
     "start_time": "2020-09-08T20:06:36.665001",
     "status": "completed"
    },
    "tags": []
   },
   "source": [
    "### Logistic Regression based Implementation."
   ]
  },
  {
   "cell_type": "code",
   "execution_count": 21,
   "metadata": {
    "execution": {
     "iopub.execute_input": "2020-09-08T20:06:36.807277Z",
     "iopub.status.busy": "2020-09-08T20:06:36.806605Z",
     "iopub.status.idle": "2020-09-08T20:06:36.821726Z",
     "shell.execute_reply": "2020-09-08T20:06:36.821118Z"
    },
    "papermill": {
     "duration": 0.07041,
     "end_time": "2020-09-08T20:06:36.821863",
     "exception": false,
     "start_time": "2020-09-08T20:06:36.751453",
     "status": "completed"
    },
    "tags": []
   },
   "outputs": [],
   "source": [
    "learner_lr = Learner(loss, model_lr, opt, config.num_epochs)\n",
    "acc_lr = ClfCallback(learner_lr, config.bs, training_xdata , testing_xdata, training_ydata, testing_ydata)\n",
    "learner_lr.set_callbacks([acc_lr])"
   ]
  },
  {
   "cell_type": "code",
   "execution_count": 22,
   "metadata": {
    "execution": {
     "iopub.execute_input": "2020-09-08T20:06:36.924622Z",
     "iopub.status.busy": "2020-09-08T20:06:36.919586Z",
     "iopub.status.idle": "2020-09-08T20:06:55.457795Z",
     "shell.execute_reply": "2020-09-08T20:06:55.458431Z"
    },
    "papermill": {
     "duration": 18.593308,
     "end_time": "2020-09-08T20:06:55.458632",
     "exception": false,
     "start_time": "2020-09-08T20:06:36.865324",
     "status": "completed"
    },
    "tags": []
   },
   "outputs": [
    {
     "name": "stdout",
     "output_type": "stream",
     "text": [
      "====== Logistic Regression ======\n",
      "Epoch 0, Loss 0.2529\n",
      "Training Accuracy: 0.6515, Testing Accuracy: 0.6280\n",
      "\n"
     ]
    },
    {
     "name": "stdout",
     "output_type": "stream",
     "text": [
      "Epoch 10, Loss 0.1079\n",
      "Training Accuracy: 0.8963, Testing Accuracy: 0.9047\n",
      "\n"
     ]
    },
    {
     "name": "stdout",
     "output_type": "stream",
     "text": [
      "Epoch 20, Loss 0.0821\n",
      "Training Accuracy: 0.9209, Testing Accuracy: 0.9284\n",
      "\n"
     ]
    },
    {
     "name": "stdout",
     "output_type": "stream",
     "text": [
      "Epoch 30, Loss 0.0701\n",
      "Training Accuracy: 0.9327, Testing Accuracy: 0.9410\n",
      "\n"
     ]
    },
    {
     "name": "stdout",
     "output_type": "stream",
     "text": [
      "Epoch 40, Loss 0.063\n",
      "Training Accuracy: 0.9384, Testing Accuracy: 0.9456\n",
      "\n"
     ]
    },
    {
     "name": "stdout",
     "output_type": "stream",
     "text": [
      "Epoch 50, Loss 0.0581\n",
      "Training Accuracy: 0.9431, Testing Accuracy: 0.9516\n",
      "\n"
     ]
    },
    {
     "name": "stdout",
     "output_type": "stream",
     "text": [
      "Epoch 60, Loss 0.0545\n",
      "Training Accuracy: 0.9475, Testing Accuracy: 0.9561\n",
      "\n"
     ]
    },
    {
     "name": "stdout",
     "output_type": "stream",
     "text": [
      "Epoch 70, Loss 0.0518\n",
      "Training Accuracy: 0.9488, Testing Accuracy: 0.9572\n",
      "\n"
     ]
    },
    {
     "name": "stdout",
     "output_type": "stream",
     "text": [
      "Epoch 80, Loss 0.0497\n",
      "Training Accuracy: 0.9493, Testing Accuracy: 0.9572\n",
      "\n"
     ]
    },
    {
     "name": "stdout",
     "output_type": "stream",
     "text": [
      "Epoch 90, Loss 0.0479\n",
      "Training Accuracy: 0.9508, Testing Accuracy: 0.9572\n",
      "\n"
     ]
    },
    {
     "name": "stdout",
     "output_type": "stream",
     "text": [
      "Epoch 100, Loss 0.0464\n",
      "Training Accuracy: 0.9523, Testing Accuracy: 0.9597\n",
      "\n"
     ]
    },
    {
     "name": "stdout",
     "output_type": "stream",
     "text": [
      "Epoch 110, Loss 0.0451\n",
      "Training Accuracy: 0.9533, Testing Accuracy: 0.9617\n",
      "\n"
     ]
    },
    {
     "name": "stdout",
     "output_type": "stream",
     "text": [
      "Epoch 120, Loss 0.044\n",
      "Training Accuracy: 0.9543, Testing Accuracy: 0.9632\n",
      "\n"
     ]
    },
    {
     "name": "stdout",
     "output_type": "stream",
     "text": [
      "Epoch 130, Loss 0.0431\n",
      "Training Accuracy: 0.9548, Testing Accuracy: 0.9627\n",
      "\n"
     ]
    },
    {
     "name": "stdout",
     "output_type": "stream",
     "text": [
      "Epoch 140, Loss 0.0422\n",
      "Training Accuracy: 0.9559, Testing Accuracy: 0.9637\n",
      "\n"
     ]
    },
    {
     "name": "stdout",
     "output_type": "stream",
     "text": [
      "Epoch 150, Loss 0.0415\n",
      "Training Accuracy: 0.9561, Testing Accuracy: 0.9642\n",
      "\n"
     ]
    },
    {
     "name": "stdout",
     "output_type": "stream",
     "text": [
      "Epoch 160, Loss 0.0408\n",
      "Training Accuracy: 0.9573, Testing Accuracy: 0.9647\n",
      "\n"
     ]
    },
    {
     "name": "stdout",
     "output_type": "stream",
     "text": [
      "Epoch 170, Loss 0.0401\n",
      "Training Accuracy: 0.9580, Testing Accuracy: 0.9642\n",
      "\n"
     ]
    },
    {
     "name": "stdout",
     "output_type": "stream",
     "text": [
      "Epoch 180, Loss 0.0396\n",
      "Training Accuracy: 0.9585, Testing Accuracy: 0.9652\n",
      "\n"
     ]
    },
    {
     "name": "stdout",
     "output_type": "stream",
     "text": [
      "Epoch 190, Loss 0.039\n",
      "Training Accuracy: 0.9588, Testing Accuracy: 0.9652\n",
      "\n"
     ]
    },
    {
     "name": "stdout",
     "output_type": "stream",
     "text": [
      "Epoch 200, Loss 0.0386\n",
      "Training Accuracy: 0.9592, Testing Accuracy: 0.9657\n",
      "\n"
     ]
    },
    {
     "name": "stdout",
     "output_type": "stream",
     "text": [
      "Epoch 210, Loss 0.0381\n",
      "Training Accuracy: 0.9595, Testing Accuracy: 0.9662\n",
      "\n"
     ]
    },
    {
     "name": "stdout",
     "output_type": "stream",
     "text": [
      "Epoch 220, Loss 0.0377\n",
      "Training Accuracy: 0.9599, Testing Accuracy: 0.9657\n",
      "\n"
     ]
    },
    {
     "name": "stdout",
     "output_type": "stream",
     "text": [
      "Epoch 230, Loss 0.0373\n",
      "Training Accuracy: 0.9603, Testing Accuracy: 0.9657\n",
      "\n"
     ]
    },
    {
     "name": "stdout",
     "output_type": "stream",
     "text": [
      "Epoch 240, Loss 0.0369\n",
      "Training Accuracy: 0.9604, Testing Accuracy: 0.9662\n",
      "\n"
     ]
    },
    {
     "name": "stdout",
     "output_type": "stream",
     "text": [
      "Epoch 250, Loss 0.0366\n",
      "Training Accuracy: 0.9605, Testing Accuracy: 0.9662\n",
      "\n"
     ]
    },
    {
     "data": {
      "text/plain": [
       "0.01748758380662937"
      ]
     },
     "execution_count": 22,
     "metadata": {},
     "output_type": "execute_result"
    }
   ],
   "source": [
    "print(\"====== Logistic Regression ======\")\n",
    "learner_lr.train_loop(dl)"
   ]
  },
  {
   "cell_type": "markdown",
   "metadata": {
    "papermill": {
     "duration": 0.0523,
     "end_time": "2020-09-08T20:06:55.560968",
     "exception": false,
     "start_time": "2020-09-08T20:06:55.508668",
     "status": "completed"
    },
    "tags": []
   },
   "source": [
    "### Comparing results of NN and LR"
   ]
  },
  {
   "cell_type": "code",
   "execution_count": 23,
   "metadata": {
    "execution": {
     "iopub.execute_input": "2020-09-08T20:06:55.672689Z",
     "iopub.status.busy": "2020-09-08T20:06:55.670739Z",
     "iopub.status.idle": "2020-09-08T20:06:55.927813Z",
     "shell.execute_reply": "2020-09-08T20:06:55.928694Z"
    },
    "papermill": {
     "duration": 0.318597,
     "end_time": "2020-09-08T20:06:55.928888",
     "exception": false,
     "start_time": "2020-09-08T20:06:55.610291",
     "status": "completed"
    },
    "tags": []
   },
   "outputs": [
    {
     "data": {
      "text/plain": [
       "<matplotlib.legend.Legend at 0x7fbd450b74e0>"
      ]
     },
     "execution_count": 23,
     "metadata": {},
     "output_type": "execute_result"
    },
    {
     "data": {
      "image/png": "[encoded data removed]",
      "text/plain": [
       "<Figure size 1080x720 with 1 Axes>"
      ]
     },
     "metadata": {
      "needs_background": "light"
     },
     "output_type": "display_data"
    }
   ],
   "source": [
    "plt.figure(figsize=(15,10))\n",
    "\n",
    "# Neural Network plots\n",
    "plt.plot(acc_nn.accuracies, 'r-', label = \"Training Accuracies - NN\")\n",
    "plt.plot(acc_nn.test_accuracies, 'g-', label = \"Testing Accuracies - NN\")\n",
    "\n",
    "# Logistic Regression plots\n",
    "plt.plot(acc_lr.accuracies, 'k-', label = \"Training Accuracies - LR\")\n",
    "plt.plot(acc_lr.test_accuracies, 'b-', label = \"Testing Accuracies - LR\")\n",
    "\n",
    "plt.ylim(0.8, 1)\n",
    "\n",
    "plt.legend()\n",
    "\n"
   ]
  },
  {
   "cell_type": "markdown",
   "metadata": {
    "papermill": {
     "duration": 0.04935,
     "end_time": "2020-09-08T20:06:56.026393",
     "exception": false,
     "start_time": "2020-09-08T20:06:55.977043",
     "status": "completed"
    },
    "tags": []
   },
   "source": [
    "### From the plot, we can observe the following:\n",
    "- Neural Network achieves higher accuracy than the Logistic Regression model.\n",
    "- This apparently, is because of overfitting, i.e. NN captures more noise than data.\n",
    "- Testing accuracy of NN drops below the Training accuracy at higher epochs. This explains the over-fitting on training data.\n",
    "- Logistic Regression gives a reliable accuracy, without the above mentioned problem.\n"
   ]
  },
  {
   "cell_type": "markdown",
   "metadata": {
    "papermill": {
     "duration": 0.052742,
     "end_time": "2020-09-08T20:06:56.130893",
     "exception": false,
     "start_time": "2020-09-08T20:06:56.078151",
     "status": "completed"
    },
    "tags": []
   },
   "source": [
    "### Moving till the last but one layer (excluding it).\n",
    "#### Plotting the outputs of this layer of the NN."
   ]
  },
  {
   "cell_type": "code",
   "execution_count": 24,
   "metadata": {
    "execution": {
     "iopub.execute_input": "2020-09-08T20:06:56.246738Z",
     "iopub.status.busy": "2020-09-08T20:06:56.240304Z",
     "iopub.status.idle": "2020-09-08T20:06:56.249932Z",
     "shell.execute_reply": "2020-09-08T20:06:56.250395Z"
    },
    "papermill": {
     "duration": 0.070719,
     "end_time": "2020-09-08T20:06:56.250532",
     "exception": false,
     "start_time": "2020-09-08T20:06:56.179813",
     "status": "completed"
    },
    "tags": []
   },
   "outputs": [],
   "source": [
    "model_new = Model(layers[:-2])"
   ]
  },
  {
   "cell_type": "code",
   "execution_count": 25,
   "metadata": {
    "execution": {
     "iopub.execute_input": "2020-09-08T20:06:56.349381Z",
     "iopub.status.busy": "2020-09-08T20:06:56.348809Z",
     "iopub.status.idle": "2020-09-08T20:06:56.374403Z",
     "shell.execute_reply": "2020-09-08T20:06:56.375017Z"
    },
    "papermill": {
     "duration": 0.077133,
     "end_time": "2020-09-08T20:06:56.375183",
     "exception": false,
     "start_time": "2020-09-08T20:06:56.298050",
     "status": "completed"
    },
    "tags": []
   },
   "outputs": [],
   "source": [
    "plot_testing = model_new(testing_xdata)"
   ]
  },
  {
   "cell_type": "code",
   "execution_count": 26,
   "metadata": {
    "execution": {
     "iopub.execute_input": "2020-09-08T20:06:56.495055Z",
     "iopub.status.busy": "2020-09-08T20:06:56.491359Z",
     "iopub.status.idle": "2020-09-08T20:06:56.737845Z",
     "shell.execute_reply": "2020-09-08T20:06:56.738325Z"
    },
    "papermill": {
     "duration": 0.308185,
     "end_time": "2020-09-08T20:06:56.738488",
     "exception": false,
     "start_time": "2020-09-08T20:06:56.430303",
     "status": "completed"
    },
    "tags": []
   },
   "outputs": [
    {
     "data": {
      "text/plain": [
       "Text(0.5, 1.0, 'Outputs')"
      ]
     },
     "execution_count": 26,
     "metadata": {},
     "output_type": "execute_result"
    },
    {
     "data": {
      "image/png": "[encoded data removed]",
      "text/plain": [
       "<Figure size 576x504 with 1 Axes>"
      ]
     },
     "metadata": {
      "needs_background": "light"
     },
     "output_type": "display_data"
    }
   ],
   "source": [
    "plt.figure(figsize=(8,7))\n",
    "plt.scatter(plot_testing[:,0], plot_testing[:,1], alpha = 0.1, c = y_test.ravel());\n",
    "plt.title('Outputs')"
   ]
  },
  {
   "cell_type": "markdown",
   "metadata": {
    "papermill": {
     "duration": 0.051147,
     "end_time": "2020-09-08T20:06:56.841062",
     "exception": false,
     "start_time": "2020-09-08T20:06:56.789915",
     "status": "completed"
    },
    "tags": []
   },
   "source": [
    "### Plotting probability contours"
   ]
  },
  {
   "cell_type": "code",
   "execution_count": 27,
   "metadata": {
    "execution": {
     "iopub.execute_input": "2020-09-08T20:06:56.958765Z",
     "iopub.status.busy": "2020-09-08T20:06:56.958128Z",
     "iopub.status.idle": "2020-09-08T20:06:56.965632Z",
     "shell.execute_reply": "2020-09-08T20:06:56.964986Z"
    },
    "papermill": {
     "duration": 0.072569,
     "end_time": "2020-09-08T20:06:56.965775",
     "exception": false,
     "start_time": "2020-09-08T20:06:56.893206",
     "status": "completed"
    },
    "tags": []
   },
   "outputs": [],
   "source": [
    "model_prob = Model(layers[-2:]) "
   ]
  },
  {
   "cell_type": "code",
   "execution_count": 28,
   "metadata": {
    "execution": {
     "iopub.execute_input": "2020-09-08T20:06:57.081549Z",
     "iopub.status.busy": "2020-09-08T20:06:57.080955Z",
     "iopub.status.idle": "2020-09-08T20:06:57.096921Z",
     "shell.execute_reply": "2020-09-08T20:06:57.097405Z"
    },
    "papermill": {
     "duration": 0.080948,
     "end_time": "2020-09-08T20:06:57.097576",
     "exception": false,
     "start_time": "2020-09-08T20:06:57.016628",
     "status": "completed"
    },
    "tags": []
   },
   "outputs": [],
   "source": [
    "# Adjust the x and y ranges according to the above generated plot.\n",
    "x_range = np.linspace(-4, 1, 100) \n",
    "y_range = np.linspace(-6, 6, 100) \n",
    "x_grid, y_grid = np.meshgrid(x_range, y_range) # x_grid and y_grig are of size 100 X 100\n",
    "\n",
    "# converting x_grid and y_grid to continuous arrays\n",
    "x_grid_flat = np.ravel(x_grid)\n",
    "y_grid_flat = np.ravel(y_grid)\n",
    "\n",
    "# The last layer of the current model takes two columns as input. Hence transpose of np.vstack() is required.\n",
    "X = np.vstack((x_grid_flat, y_grid_flat)).T\n",
    "\n",
    "# x_grid and y_grid are of size 100 x 100\n",
    "probability_contour = model_prob(X).reshape(100,100) "
   ]
  },
  {
   "cell_type": "code",
   "execution_count": 29,
   "metadata": {
    "execution": {
     "iopub.execute_input": "2020-09-08T20:06:57.216857Z",
     "iopub.status.busy": "2020-09-08T20:06:57.216188Z",
     "iopub.status.idle": "2020-09-08T20:06:57.503796Z",
     "shell.execute_reply": "2020-09-08T20:06:57.503308Z"
    },
    "papermill": {
     "duration": 0.352003,
     "end_time": "2020-09-08T20:06:57.503932",
     "exception": false,
     "start_time": "2020-09-08T20:06:57.151929",
     "status": "completed"
    },
    "tags": []
   },
   "outputs": [
    {
     "data": {
      "image/png": "[encoded data removed]",
      "text/plain": [
       "<Figure size 720x648 with 1 Axes>"
      ]
     },
     "metadata": {
      "needs_background": "light"
     },
     "output_type": "display_data"
    }
   ],
   "source": [
    "plt.figure(figsize=(10,9))\n",
    "plt.scatter(plot_testing[:,0], plot_testing[:,1], alpha = 0.1, c = y_test.ravel())\n",
    "contours = plt.contour(x_grid,y_grid,probability_contour)\n",
    "plt.title('Probability Contours')\n",
    "plt.clabel(contours, inline = True );"
   ]
  }
 ],
 "metadata": {
  "kernelspec": {
   "display_name": "Python 3",
   "language": "python",
   "name": "python3"
  },
  "language_info": {
   "codemirror_mode": {
    "name": "ipython",
    "version": 3
   },
   "file_extension": ".py",
   "mimetype": "text/x-python",
   "name": "python",
   "nbconvert_exporter": "python",
   "pygments_lexer": "ipython3",
   "version": "3.6.12"
  },
  "papermill": {
   "duration": 154.808065,
   "end_time": "2020-09-08T20:06:57.965857",
   "environment_variables": {},
   "exception": null,
   "input_path": "2020-08-11-NeuralNetwork.ipynb",
   "output_path": "2020-08-11-NeuralNetwork.ipynb",
   "parameters": {},
   "start_time": "2020-09-08T20:04:23.157792",
   "version": "2.1.2"
  }
 },
 "nbformat": 4,
 "nbformat_minor": 4
}