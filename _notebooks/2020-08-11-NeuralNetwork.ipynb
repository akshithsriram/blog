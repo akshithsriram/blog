{
 "cells": [
  {
   "cell_type": "markdown",
   "metadata": {
    "papermill": {
     "duration": 0.032062,
     "end_time": "2020-08-29T20:06:08.595884",
     "exception": false,
     "start_time": "2020-08-29T20:06:08.563822",
     "status": "completed"
    },
    "tags": []
   },
   "source": [
    "# \"A Basic Neural Network: Differentiate Hand-Written Digits\"\n",
    "\n",
    "- badges: true\n",
    "- author: Akshith Sriram"
   ]
  },
  {
   "cell_type": "markdown",
   "metadata": {
    "papermill": {
     "duration": 0.027549,
     "end_time": "2020-08-29T20:06:08.651537",
     "exception": false,
     "start_time": "2020-08-29T20:06:08.623988",
     "status": "completed"
    },
    "tags": []
   },
   "source": [
    "### Key Objectives:\n",
    "- Building a neural network that differentiates two hand-written digits 3 and 8.\n",
    "- Comparing the results of this Neural Network (NN) to that of a Logistic Regression (LR) model.\n",
    "\n",
    "### Requirements:\n",
    "- 'Kudzu' : A neural network library that was designed during our course by [Univ.AI](www.univ.ai). \n",
    "- MNIST Database\n",
    "\n",
    "If MNIST is not installed, use the command `!pip install mnist` given below.\n",
    "It can be run both from the command line and Jupyter Notebook."
   ]
  },
  {
   "cell_type": "code",
   "execution_count": 1,
   "metadata": {
    "execution": {
     "iopub.execute_input": "2020-08-29T20:06:08.711225Z",
     "iopub.status.busy": "2020-08-29T20:06:08.710555Z",
     "iopub.status.idle": "2020-08-29T20:06:10.850365Z",
     "shell.execute_reply": "2020-08-29T20:06:10.849767Z"
    },
    "papermill": {
     "duration": 2.171709,
     "end_time": "2020-08-29T20:06:10.850550",
     "exception": false,
     "start_time": "2020-08-29T20:06:08.678841",
     "status": "completed"
    },
    "tags": []
   },
   "outputs": [
    {
     "name": "stdout",
     "output_type": "stream",
     "text": [
      "Collecting mnist\r\n"
     ]
    },
    {
     "name": "stdout",
     "output_type": "stream",
     "text": [
      "  Downloading mnist-0.2.2-py2.py3-none-any.whl (3.5 kB)\r\n"
     ]
    },
    {
     "name": "stdout",
     "output_type": "stream",
     "text": [
      "Requirement already satisfied: numpy in /opt/hostedtoolcache/Python/3.6.11/x64/lib/python3.6/site-packages (from mnist) (1.19.1)\r\n"
     ]
    },
    {
     "name": "stdout",
     "output_type": "stream",
     "text": [
      "Installing collected packages: mnist\r\n"
     ]
    },
    {
     "name": "stdout",
     "output_type": "stream",
     "text": [
      "Successfully installed mnist-0.2.2\r\n"
     ]
    }
   ],
   "source": [
    "!pip install mnist "
   ]
  },
  {
   "cell_type": "markdown",
   "metadata": {
    "papermill": {
     "duration": 0.029548,
     "end_time": "2020-08-29T20:06:10.910535",
     "exception": false,
     "start_time": "2020-08-29T20:06:10.880987",
     "status": "completed"
    },
    "tags": []
   },
   "source": [
    "#### Importing necessary libraries"
   ]
  },
  {
   "cell_type": "code",
   "execution_count": 2,
   "metadata": {
    "execution": {
     "iopub.execute_input": "2020-08-29T20:06:10.981149Z",
     "iopub.status.busy": "2020-08-29T20:06:10.980435Z",
     "iopub.status.idle": "2020-08-29T20:06:11.578023Z",
     "shell.execute_reply": "2020-08-29T20:06:11.577390Z"
    },
    "papermill": {
     "duration": 0.636298,
     "end_time": "2020-08-29T20:06:11.578182",
     "exception": false,
     "start_time": "2020-08-29T20:06:10.941884",
     "status": "completed"
    },
    "tags": []
   },
   "outputs": [],
   "source": [
    "%load_ext autoreload\n",
    "%autoreload 2\n",
    "\n",
    "%matplotlib inline\n",
    "import matplotlib.pyplot as plt\n",
    "\n",
    "import numpy as np\n",
    "import pandas as pd"
   ]
  },
  {
   "cell_type": "markdown",
   "metadata": {
    "papermill": {
     "duration": 0.031134,
     "end_time": "2020-08-29T20:06:11.640834",
     "exception": false,
     "start_time": "2020-08-29T20:06:11.609700",
     "status": "completed"
    },
    "tags": []
   },
   "source": [
    "### Preparing the Data"
   ]
  },
  {
   "cell_type": "code",
   "execution_count": 3,
   "metadata": {
    "execution": {
     "iopub.execute_input": "2020-08-29T20:06:11.712855Z",
     "iopub.status.busy": "2020-08-29T20:06:11.710993Z",
     "iopub.status.idle": "2020-08-29T20:06:11.721903Z",
     "shell.execute_reply": "2020-08-29T20:06:11.721311Z"
    },
    "papermill": {
     "duration": 0.050785,
     "end_time": "2020-08-29T20:06:11.722050",
     "exception": false,
     "start_time": "2020-08-29T20:06:11.671265",
     "status": "completed"
    },
    "tags": []
   },
   "outputs": [],
   "source": [
    "import mnist"
   ]
  },
  {
   "cell_type": "code",
   "execution_count": 4,
   "metadata": {
    "execution": {
     "iopub.execute_input": "2020-08-29T20:06:11.793613Z",
     "iopub.status.busy": "2020-08-29T20:06:11.786423Z",
     "iopub.status.idle": "2020-08-29T20:06:13.522699Z",
     "shell.execute_reply": "2020-08-29T20:06:13.523671Z"
    },
    "papermill": {
     "duration": 1.770907,
     "end_time": "2020-08-29T20:06:13.523839",
     "exception": false,
     "start_time": "2020-08-29T20:06:11.752932",
     "status": "completed"
    },
    "tags": []
   },
   "outputs": [],
   "source": [
    "train_images = mnist.train_images()\n",
    "train_labels = mnist.train_labels()"
   ]
  },
  {
   "cell_type": "code",
   "execution_count": 5,
   "metadata": {
    "execution": {
     "iopub.execute_input": "2020-08-29T20:06:13.587580Z",
     "iopub.status.busy": "2020-08-29T20:06:13.586885Z",
     "iopub.status.idle": "2020-08-29T20:06:13.602623Z",
     "shell.execute_reply": "2020-08-29T20:06:13.601968Z"
    },
    "papermill": {
     "duration": 0.04859,
     "end_time": "2020-08-29T20:06:13.602763",
     "exception": false,
     "start_time": "2020-08-29T20:06:13.554173",
     "status": "completed"
    },
    "tags": []
   },
   "outputs": [
    {
     "data": {
      "text/plain": [
       "((60000, 28, 28), (60000,))"
      ]
     },
     "execution_count": 5,
     "metadata": {},
     "output_type": "execute_result"
    }
   ],
   "source": [
    "train_images.shape, train_labels.shape"
   ]
  },
  {
   "cell_type": "code",
   "execution_count": 6,
   "metadata": {
    "execution": {
     "iopub.execute_input": "2020-08-29T20:06:13.667439Z",
     "iopub.status.busy": "2020-08-29T20:06:13.666760Z",
     "iopub.status.idle": "2020-08-29T20:06:14.519443Z",
     "shell.execute_reply": "2020-08-29T20:06:14.518815Z"
    },
    "papermill": {
     "duration": 0.886206,
     "end_time": "2020-08-29T20:06:14.519611",
     "exception": false,
     "start_time": "2020-08-29T20:06:13.633405",
     "status": "completed"
    },
    "tags": []
   },
   "outputs": [],
   "source": [
    "test_images = mnist.test_images()\n",
    "test_labels = mnist.test_labels()"
   ]
  },
  {
   "cell_type": "code",
   "execution_count": 7,
   "metadata": {
    "execution": {
     "iopub.execute_input": "2020-08-29T20:06:14.582699Z",
     "iopub.status.busy": "2020-08-29T20:06:14.582038Z",
     "iopub.status.idle": "2020-08-29T20:06:14.596042Z",
     "shell.execute_reply": "2020-08-29T20:06:14.595467Z"
    },
    "papermill": {
     "duration": 0.046458,
     "end_time": "2020-08-29T20:06:14.596166",
     "exception": false,
     "start_time": "2020-08-29T20:06:14.549708",
     "status": "completed"
    },
    "tags": []
   },
   "outputs": [
    {
     "data": {
      "text/plain": [
       "((10000, 28, 28), (10000,))"
      ]
     },
     "execution_count": 7,
     "metadata": {},
     "output_type": "execute_result"
    }
   ],
   "source": [
    "test_images.shape, test_labels.shape"
   ]
  },
  {
   "cell_type": "code",
   "execution_count": 8,
   "metadata": {
    "execution": {
     "iopub.execute_input": "2020-08-29T20:06:14.659542Z",
     "iopub.status.busy": "2020-08-29T20:06:14.658884Z",
     "iopub.status.idle": "2020-08-29T20:06:14.829521Z",
     "shell.execute_reply": "2020-08-29T20:06:14.830060Z"
    },
    "papermill": {
     "duration": 0.20432,
     "end_time": "2020-08-29T20:06:14.830236",
     "exception": false,
     "start_time": "2020-08-29T20:06:14.625916",
     "status": "completed"
    },
    "tags": []
   },
   "outputs": [
    {
     "name": "stdout",
     "output_type": "stream",
     "text": [
      "2\n"
     ]
    },
    {
     "data": {
      "text/plain": [
       "<matplotlib.image.AxesImage at 0x7f1275bc9ac8>"
      ]
     },
     "execution_count": 8,
     "metadata": {},
     "output_type": "execute_result"
    },
    {
     "data": {
      "image/png": "[encoded data removed]",
      "text/plain": [
       "<Figure size 432x288 with 1 Axes>"
      ]
     },
     "metadata": {
      "needs_background": "light"
     },
     "output_type": "display_data"
    }
   ],
   "source": [
    "image_index = 7776 # You may select anything up to 60,000\n",
    "print(train_labels[image_index]) \n",
    "plt.imshow(train_images[image_index], cmap='Greys')"
   ]
  },
  {
   "cell_type": "markdown",
   "metadata": {
    "papermill": {
     "duration": 0.033096,
     "end_time": "2020-08-29T20:06:14.895985",
     "exception": false,
     "start_time": "2020-08-29T20:06:14.862889",
     "status": "completed"
    },
    "tags": []
   },
   "source": [
    "## Filter data to get 3 and 8 out"
   ]
  },
  {
   "cell_type": "code",
   "execution_count": 9,
   "metadata": {
    "execution": {
     "iopub.execute_input": "2020-08-29T20:06:15.061700Z",
     "iopub.status.busy": "2020-08-29T20:06:15.061002Z",
     "iopub.status.idle": "2020-08-29T20:06:15.081435Z",
     "shell.execute_reply": "2020-08-29T20:06:15.080876Z"
    },
    "papermill": {
     "duration": 0.151735,
     "end_time": "2020-08-29T20:06:15.081583",
     "exception": false,
     "start_time": "2020-08-29T20:06:14.929848",
     "status": "completed"
    },
    "tags": []
   },
   "outputs": [],
   "source": [
    "train_filter = np.where((train_labels == 3 ) | (train_labels == 8))\n",
    "test_filter = np.where((test_labels == 3) | (test_labels == 8))\n",
    "X_train, y_train = train_images[train_filter], train_labels[train_filter]\n",
    "X_test, y_test = test_images[test_filter], test_labels[test_filter]"
   ]
  },
  {
   "cell_type": "markdown",
   "metadata": {
    "papermill": {
     "duration": 0.031433,
     "end_time": "2020-08-29T20:06:15.145049",
     "exception": false,
     "start_time": "2020-08-29T20:06:15.113616",
     "status": "completed"
    },
    "tags": []
   },
   "source": [
    "We normalize the pixel values in the 0 to 1 range"
   ]
  },
  {
   "cell_type": "code",
   "execution_count": 10,
   "metadata": {
    "execution": {
     "iopub.execute_input": "2020-08-29T20:06:15.213457Z",
     "iopub.status.busy": "2020-08-29T20:06:15.212792Z",
     "iopub.status.idle": "2020-08-29T20:06:15.271351Z",
     "shell.execute_reply": "2020-08-29T20:06:15.270712Z"
    },
    "papermill": {
     "duration": 0.094837,
     "end_time": "2020-08-29T20:06:15.271502",
     "exception": false,
     "start_time": "2020-08-29T20:06:15.176665",
     "status": "completed"
    },
    "tags": []
   },
   "outputs": [],
   "source": [
    "X_train = X_train/255.\n",
    "X_test = X_test/255."
   ]
  },
  {
   "cell_type": "markdown",
   "metadata": {
    "papermill": {
     "duration": 0.031317,
     "end_time": "2020-08-29T20:06:15.334978",
     "exception": false,
     "start_time": "2020-08-29T20:06:15.303661",
     "status": "completed"
    },
    "tags": []
   },
   "source": [
    "Setup the labels as 1 (when the digit is 3) and 0 (when the digit is 8)"
   ]
  },
  {
   "cell_type": "code",
   "execution_count": 11,
   "metadata": {
    "execution": {
     "iopub.execute_input": "2020-08-29T20:06:15.402721Z",
     "iopub.status.busy": "2020-08-29T20:06:15.402038Z",
     "iopub.status.idle": "2020-08-29T20:06:15.414490Z",
     "shell.execute_reply": "2020-08-29T20:06:15.415210Z"
    },
    "papermill": {
     "duration": 0.048996,
     "end_time": "2020-08-29T20:06:15.415362",
     "exception": false,
     "start_time": "2020-08-29T20:06:15.366366",
     "status": "completed"
    },
    "tags": []
   },
   "outputs": [],
   "source": [
    "y_train = 1*(y_train==3)\n",
    "y_test = 1*(y_test==3)"
   ]
  },
  {
   "cell_type": "code",
   "execution_count": 12,
   "metadata": {
    "execution": {
     "iopub.execute_input": "2020-08-29T20:06:15.483706Z",
     "iopub.status.busy": "2020-08-29T20:06:15.483043Z",
     "iopub.status.idle": "2020-08-29T20:06:15.495568Z",
     "shell.execute_reply": "2020-08-29T20:06:15.495015Z"
    },
    "papermill": {
     "duration": 0.047814,
     "end_time": "2020-08-29T20:06:15.495693",
     "exception": false,
     "start_time": "2020-08-29T20:06:15.447879",
     "status": "completed"
    },
    "tags": []
   },
   "outputs": [
    {
     "data": {
      "text/plain": [
       "((11982, 28, 28), (1984, 28, 28))"
      ]
     },
     "execution_count": 12,
     "metadata": {},
     "output_type": "execute_result"
    }
   ],
   "source": [
    "X_train.shape, X_test.shape"
   ]
  },
  {
   "cell_type": "markdown",
   "metadata": {
    "papermill": {
     "duration": 0.032002,
     "end_time": "2020-08-29T20:06:15.560058",
     "exception": false,
     "start_time": "2020-08-29T20:06:15.528056",
     "status": "completed"
    },
    "tags": []
   },
   "source": [
    "### Reshape the input data to create a linear array"
   ]
  },
  {
   "cell_type": "code",
   "execution_count": 13,
   "metadata": {
    "execution": {
     "iopub.execute_input": "2020-08-29T20:06:15.642055Z",
     "iopub.status.busy": "2020-08-29T20:06:15.635852Z",
     "iopub.status.idle": "2020-08-29T20:06:15.645133Z",
     "shell.execute_reply": "2020-08-29T20:06:15.645713Z"
    },
    "papermill": {
     "duration": 0.053815,
     "end_time": "2020-08-29T20:06:15.645861",
     "exception": false,
     "start_time": "2020-08-29T20:06:15.592046",
     "status": "completed"
    },
    "tags": []
   },
   "outputs": [
    {
     "data": {
      "text/plain": [
       "((11982, 784), (1984, 784))"
      ]
     },
     "execution_count": 13,
     "metadata": {},
     "output_type": "execute_result"
    }
   ],
   "source": [
    "X_train = X_train.reshape(X_train.shape[0], -1)\n",
    "X_test = X_test.reshape(X_test.shape[0], -1)\n",
    "X_train.shape, X_test.shape"
   ]
  },
  {
   "cell_type": "markdown",
   "metadata": {
    "papermill": {
     "duration": 0.032803,
     "end_time": "2020-08-29T20:06:15.711296",
     "exception": false,
     "start_time": "2020-08-29T20:06:15.678493",
     "status": "completed"
    },
    "tags": []
   },
   "source": [
    "### Importing appropriate functions from 'Kudzu'"
   ]
  },
  {
   "cell_type": "code",
   "execution_count": 14,
   "metadata": {
    "execution": {
     "iopub.execute_input": "2020-08-29T20:06:15.779378Z",
     "iopub.status.busy": "2020-08-29T20:06:15.778691Z",
     "iopub.status.idle": "2020-08-29T20:06:15.800059Z",
     "shell.execute_reply": "2020-08-29T20:06:15.800603Z"
    },
    "papermill": {
     "duration": 0.056919,
     "end_time": "2020-08-29T20:06:15.800895",
     "exception": false,
     "start_time": "2020-08-29T20:06:15.743976",
     "status": "completed"
    },
    "tags": []
   },
   "outputs": [],
   "source": [
    "from kudzu.layer import Sigmoid\n",
    "from kudzu.layer import Relu\n",
    "from kudzu.layer import Affine, Sigmoid\n",
    "\n",
    "from kudzu.model import Model\n",
    "from kudzu.train import Learner\n",
    "from kudzu.optim import GD\n",
    "from kudzu.data import Data, Dataloader, Sampler\n",
    "\n",
    "from kudzu.callbacks import AccCallback\n",
    "from kudzu.callbacks import ClfCallback\n",
    "\n",
    "from kudzu.loss import MSE"
   ]
  },
  {
   "cell_type": "markdown",
   "metadata": {
    "papermill": {
     "duration": 0.031765,
     "end_time": "2020-08-29T20:06:15.866002",
     "exception": false,
     "start_time": "2020-08-29T20:06:15.834237",
     "status": "completed"
    },
    "tags": []
   },
   "source": [
    "### Let us create a `Config` class, to store important parameters. \n",
    "This class essentially plays the role of a dictionary."
   ]
  },
  {
   "cell_type": "code",
   "execution_count": 15,
   "metadata": {
    "execution": {
     "iopub.execute_input": "2020-08-29T20:06:15.952757Z",
     "iopub.status.busy": "2020-08-29T20:06:15.947558Z",
     "iopub.status.idle": "2020-08-29T20:06:15.954945Z",
     "shell.execute_reply": "2020-08-29T20:06:15.955488Z"
    },
    "papermill": {
     "duration": 0.054493,
     "end_time": "2020-08-29T20:06:15.955652",
     "exception": false,
     "start_time": "2020-08-29T20:06:15.901159",
     "status": "completed"
    },
    "tags": []
   },
   "outputs": [],
   "source": [
    "class Config:\n",
    "    pass\n",
    "config = Config()\n",
    "config.lr = 0.001\n",
    "config.num_epochs = 251\n",
    "config.bs = 50"
   ]
  },
  {
   "cell_type": "markdown",
   "metadata": {
    "papermill": {
     "duration": 0.032387,
     "end_time": "2020-08-29T20:06:16.021289",
     "exception": false,
     "start_time": "2020-08-29T20:06:15.988902",
     "status": "completed"
    },
    "tags": []
   },
   "source": [
    "### Initializing data to the variables"
   ]
  },
  {
   "cell_type": "code",
   "execution_count": 16,
   "metadata": {
    "execution": {
     "iopub.execute_input": "2020-08-29T20:06:16.092994Z",
     "iopub.status.busy": "2020-08-29T20:06:16.092293Z",
     "iopub.status.idle": "2020-08-29T20:06:16.104646Z",
     "shell.execute_reply": "2020-08-29T20:06:16.105310Z"
    },
    "papermill": {
     "duration": 0.051116,
     "end_time": "2020-08-29T20:06:16.105453",
     "exception": false,
     "start_time": "2020-08-29T20:06:16.054337",
     "status": "completed"
    },
    "tags": []
   },
   "outputs": [],
   "source": [
    "data = Data(X_train, y_train.reshape(-1,1))\n",
    "sampler = Sampler(data, config.bs, shuffle=True)\n",
    "\n",
    "dl = Dataloader(data, sampler)\n",
    "\n",
    "opt = GD(config.lr)\n",
    "loss = MSE()"
   ]
  },
  {
   "cell_type": "code",
   "execution_count": 17,
   "metadata": {
    "execution": {
     "iopub.execute_input": "2020-08-29T20:06:16.182367Z",
     "iopub.status.busy": "2020-08-29T20:06:16.181668Z",
     "iopub.status.idle": "2020-08-29T20:06:16.190946Z",
     "shell.execute_reply": "2020-08-29T20:06:16.191483Z"
    },
    "papermill": {
     "duration": 0.052746,
     "end_time": "2020-08-29T20:06:16.191649",
     "exception": false,
     "start_time": "2020-08-29T20:06:16.138903",
     "status": "completed"
    },
    "tags": []
   },
   "outputs": [],
   "source": [
    "training_xdata = X_train\n",
    "testing_xdata = X_test\n",
    "training_ydata = y_train.reshape(-1,1)\n",
    "testing_ydata = y_test.reshape(-1,1)"
   ]
  },
  {
   "cell_type": "markdown",
   "metadata": {
    "papermill": {
     "duration": 0.032998,
     "end_time": "2020-08-29T20:06:16.257985",
     "exception": false,
     "start_time": "2020-08-29T20:06:16.224987",
     "status": "completed"
    },
    "tags": []
   },
   "source": [
    "### Running Models with the Training data\n",
    "Details about the network layers:\n",
    "- A first affine layer has 784 inputs and does 100 affine transforms. These are followed by a Relu\n",
    "- A second affine layer has 100 inputs from the 100 activations of the past layer, and does 100 affine transforms. These are followed by a Relu\n",
    "- A third affine layer has 100 activations and does 2 affine transformations to create an embedding for visualization. There is no non-linearity here.\n",
    "- A final \"logistic regression\" which has an affine transform from 2 inputs to 1 output, which is squeezed through a sigmoid.\n",
    "\n",
    "Help taken from Anshuman's Notebook."
   ]
  },
  {
   "cell_type": "code",
   "execution_count": 18,
   "metadata": {
    "execution": {
     "iopub.execute_input": "2020-08-29T20:06:16.345607Z",
     "iopub.status.busy": "2020-08-29T20:06:16.337579Z",
     "iopub.status.idle": "2020-08-29T20:06:16.350684Z",
     "shell.execute_reply": "2020-08-29T20:06:16.351232Z"
    },
    "papermill": {
     "duration": 0.060168,
     "end_time": "2020-08-29T20:06:16.351396",
     "exception": false,
     "start_time": "2020-08-29T20:06:16.291228",
     "status": "completed"
    },
    "tags": []
   },
   "outputs": [],
   "source": [
    "# layers for the Neural Network\n",
    "layers = [Affine(\"first\", 784, 100), Relu(\"first\"), Affine(\"second\", 100, 100), Relu(\"second\"), Affine(\"third\", 100, 2), Affine(\"final\", 2, 1), Sigmoid(\"final\")]\n",
    "model_nn = Model(layers)\n",
    "\n",
    "# layers for the Logistic Regression\n",
    "layers_lr = [Affine(\"logits\", 784, 1), Sigmoid(\"sigmoid\")]\n",
    "model_lr = Model(layers_lr)"
   ]
  },
  {
   "cell_type": "code",
   "execution_count": 19,
   "metadata": {
    "execution": {
     "iopub.execute_input": "2020-08-29T20:06:16.424926Z",
     "iopub.status.busy": "2020-08-29T20:06:16.424206Z",
     "iopub.status.idle": "2020-08-29T20:06:16.438001Z",
     "shell.execute_reply": "2020-08-29T20:06:16.437428Z"
    },
    "papermill": {
     "duration": 0.053148,
     "end_time": "2020-08-29T20:06:16.438154",
     "exception": false,
     "start_time": "2020-08-29T20:06:16.385006",
     "status": "completed"
    },
    "tags": []
   },
   "outputs": [],
   "source": [
    "# suffix _nn stands for Neural Network.\n",
    "learner_nn = Learner(loss, model_nn, opt, config.num_epochs)\n",
    "acc_nn = ClfCallback(learner_nn, config.bs, training_xdata , testing_xdata, training_ydata, testing_ydata)\n",
    "learner_nn.set_callbacks([acc_nn])"
   ]
  },
  {
   "cell_type": "code",
   "execution_count": 20,
   "metadata": {
    "execution": {
     "iopub.execute_input": "2020-08-29T20:06:16.510312Z",
     "iopub.status.busy": "2020-08-29T20:06:16.509619Z",
     "iopub.status.idle": "2020-08-29T20:08:30.131781Z",
     "shell.execute_reply": "2020-08-29T20:08:30.131214Z"
    },
    "papermill": {
     "duration": 133.660488,
     "end_time": "2020-08-29T20:08:30.131935",
     "exception": false,
     "start_time": "2020-08-29T20:06:16.471447",
     "status": "completed"
    },
    "tags": []
   },
   "outputs": [
    {
     "name": "stdout",
     "output_type": "stream",
     "text": [
      "====== Neural Network ======\n"
     ]
    },
    {
     "name": "stdout",
     "output_type": "stream",
     "text": [
      "Epoch 0, Loss 0.2507\n",
      "Training Accuracy: 0.5921, Testing Accuracy: 0.5958\n",
      "\n"
     ]
    },
    {
     "name": "stdout",
     "output_type": "stream",
     "text": [
      "Epoch 10, Loss 0.0955\n",
      "Training Accuracy: 0.9077, Testing Accuracy: 0.9163\n",
      "\n"
     ]
    },
    {
     "name": "stdout",
     "output_type": "stream",
     "text": [
      "Epoch 20, Loss 0.0596\n",
      "Training Accuracy: 0.9347, Testing Accuracy: 0.9476\n",
      "\n"
     ]
    },
    {
     "name": "stdout",
     "output_type": "stream",
     "text": [
      "Epoch 30, Loss 0.0468\n",
      "Training Accuracy: 0.9464, Testing Accuracy: 0.9577\n",
      "\n"
     ]
    },
    {
     "name": "stdout",
     "output_type": "stream",
     "text": [
      "Epoch 40, Loss 0.0404\n",
      "Training Accuracy: 0.9523, Testing Accuracy: 0.9642\n",
      "\n"
     ]
    },
    {
     "name": "stdout",
     "output_type": "stream",
     "text": [
      "Epoch 50, Loss 0.0365\n",
      "Training Accuracy: 0.9571, Testing Accuracy: 0.9647\n",
      "\n"
     ]
    },
    {
     "name": "stdout",
     "output_type": "stream",
     "text": [
      "Epoch 60, Loss 0.0338\n",
      "Training Accuracy: 0.9599, Testing Accuracy: 0.9667\n",
      "\n"
     ]
    },
    {
     "name": "stdout",
     "output_type": "stream",
     "text": [
      "Epoch 70, Loss 0.0318\n",
      "Training Accuracy: 0.9626, Testing Accuracy: 0.9662\n",
      "\n"
     ]
    },
    {
     "name": "stdout",
     "output_type": "stream",
     "text": [
      "Epoch 80, Loss 0.0302\n",
      "Training Accuracy: 0.9641, Testing Accuracy: 0.9672\n",
      "\n"
     ]
    },
    {
     "name": "stdout",
     "output_type": "stream",
     "text": [
      "Epoch 90, Loss 0.029\n",
      "Training Accuracy: 0.9660, Testing Accuracy: 0.9672\n",
      "\n"
     ]
    },
    {
     "name": "stdout",
     "output_type": "stream",
     "text": [
      "Epoch 100, Loss 0.0279\n",
      "Training Accuracy: 0.9677, Testing Accuracy: 0.9677\n",
      "\n"
     ]
    },
    {
     "name": "stdout",
     "output_type": "stream",
     "text": [
      "Epoch 110, Loss 0.027\n",
      "Training Accuracy: 0.9684, Testing Accuracy: 0.9682\n",
      "\n"
     ]
    },
    {
     "name": "stdout",
     "output_type": "stream",
     "text": [
      "Epoch 120, Loss 0.0261\n",
      "Training Accuracy: 0.9694, Testing Accuracy: 0.9682\n",
      "\n"
     ]
    },
    {
     "name": "stdout",
     "output_type": "stream",
     "text": [
      "Epoch 130, Loss 0.0254\n",
      "Training Accuracy: 0.9701, Testing Accuracy: 0.9688\n",
      "\n"
     ]
    },
    {
     "name": "stdout",
     "output_type": "stream",
     "text": [
      "Epoch 140, Loss 0.0247\n",
      "Training Accuracy: 0.9709, Testing Accuracy: 0.9682\n",
      "\n"
     ]
    },
    {
     "name": "stdout",
     "output_type": "stream",
     "text": [
      "Epoch 150, Loss 0.0241\n",
      "Training Accuracy: 0.9717, Testing Accuracy: 0.9688\n",
      "\n"
     ]
    },
    {
     "name": "stdout",
     "output_type": "stream",
     "text": [
      "Epoch 160, Loss 0.0235\n",
      "Training Accuracy: 0.9725, Testing Accuracy: 0.9693\n",
      "\n"
     ]
    },
    {
     "name": "stdout",
     "output_type": "stream",
     "text": [
      "Epoch 170, Loss 0.023\n",
      "Training Accuracy: 0.9730, Testing Accuracy: 0.9688\n",
      "\n"
     ]
    },
    {
     "name": "stdout",
     "output_type": "stream",
     "text": [
      "Epoch 180, Loss 0.0225\n",
      "Training Accuracy: 0.9738, Testing Accuracy: 0.9698\n",
      "\n"
     ]
    },
    {
     "name": "stdout",
     "output_type": "stream",
     "text": [
      "Epoch 190, Loss 0.022\n",
      "Training Accuracy: 0.9745, Testing Accuracy: 0.9703\n",
      "\n"
     ]
    },
    {
     "name": "stdout",
     "output_type": "stream",
     "text": [
      "Epoch 200, Loss 0.0216\n",
      "Training Accuracy: 0.9753, Testing Accuracy: 0.9708\n",
      "\n"
     ]
    },
    {
     "name": "stdout",
     "output_type": "stream",
     "text": [
      "Epoch 210, Loss 0.0212\n",
      "Training Accuracy: 0.9760, Testing Accuracy: 0.9708\n",
      "\n"
     ]
    },
    {
     "name": "stdout",
     "output_type": "stream",
     "text": [
      "Epoch 220, Loss 0.0207\n",
      "Training Accuracy: 0.9765, Testing Accuracy: 0.9708\n",
      "\n"
     ]
    },
    {
     "name": "stdout",
     "output_type": "stream",
     "text": [
      "Epoch 230, Loss 0.0203\n",
      "Training Accuracy: 0.9770, Testing Accuracy: 0.9713\n",
      "\n"
     ]
    },
    {
     "name": "stdout",
     "output_type": "stream",
     "text": [
      "Epoch 240, Loss 0.0199\n",
      "Training Accuracy: 0.9775, Testing Accuracy: 0.9713\n",
      "\n"
     ]
    },
    {
     "name": "stdout",
     "output_type": "stream",
     "text": [
      "Epoch 250, Loss 0.0196\n",
      "Training Accuracy: 0.9780, Testing Accuracy: 0.9718\n",
      "\n"
     ]
    },
    {
     "data": {
      "text/plain": [
       "0.0010613667670224208"
      ]
     },
     "execution_count": 20,
     "metadata": {},
     "output_type": "execute_result"
    }
   ],
   "source": [
    "print(\"====== Neural Network ======\")\n",
    "learner_nn.train_loop(dl)"
   ]
  },
  {
   "cell_type": "markdown",
   "metadata": {
    "papermill": {
     "duration": 0.042637,
     "end_time": "2020-08-29T20:08:30.218347",
     "exception": false,
     "start_time": "2020-08-29T20:08:30.175710",
     "status": "completed"
    },
    "tags": []
   },
   "source": [
    "### Logistic Regression based Implementation."
   ]
  },
  {
   "cell_type": "code",
   "execution_count": 21,
   "metadata": {
    "execution": {
     "iopub.execute_input": "2020-08-29T20:08:30.306464Z",
     "iopub.status.busy": "2020-08-29T20:08:30.305136Z",
     "iopub.status.idle": "2020-08-29T20:08:30.318021Z",
     "shell.execute_reply": "2020-08-29T20:08:30.317510Z"
    },
    "papermill": {
     "duration": 0.058942,
     "end_time": "2020-08-29T20:08:30.318153",
     "exception": false,
     "start_time": "2020-08-29T20:08:30.259211",
     "status": "completed"
    },
    "tags": []
   },
   "outputs": [],
   "source": [
    "learner_lr = Learner(loss, model_lr, opt, config.num_epochs)\n",
    "acc_lr = ClfCallback(learner_lr, config.bs, training_xdata , testing_xdata, training_ydata, testing_ydata)\n",
    "learner_lr.set_callbacks([acc_lr])"
   ]
  },
  {
   "cell_type": "code",
   "execution_count": 22,
   "metadata": {
    "execution": {
     "iopub.execute_input": "2020-08-29T20:08:30.404776Z",
     "iopub.status.busy": "2020-08-29T20:08:30.404050Z",
     "iopub.status.idle": "2020-08-29T20:08:49.866348Z",
     "shell.execute_reply": "2020-08-29T20:08:49.867215Z"
    },
    "papermill": {
     "duration": 19.507789,
     "end_time": "2020-08-29T20:08:49.867389",
     "exception": false,
     "start_time": "2020-08-29T20:08:30.359600",
     "status": "completed"
    },
    "tags": []
   },
   "outputs": [
    {
     "name": "stdout",
     "output_type": "stream",
     "text": [
      "====== Logistic Regression ======\n",
      "Epoch 0, Loss 0.2407\n",
      "Training Accuracy: 0.7048, Testing Accuracy: 0.7223\n",
      "\n"
     ]
    },
    {
     "name": "stdout",
     "output_type": "stream",
     "text": [
      "Epoch 10, Loss 0.1034\n",
      "Training Accuracy: 0.9091, Testing Accuracy: 0.9234\n",
      "\n"
     ]
    },
    {
     "name": "stdout",
     "output_type": "stream",
     "text": [
      "Epoch 20, Loss 0.0795\n",
      "Training Accuracy: 0.9282, Testing Accuracy: 0.9390\n",
      "\n"
     ]
    },
    {
     "name": "stdout",
     "output_type": "stream",
     "text": [
      "Epoch 30, Loss 0.0685\n",
      "Training Accuracy: 0.9369, Testing Accuracy: 0.9466\n",
      "\n"
     ]
    },
    {
     "name": "stdout",
     "output_type": "stream",
     "text": [
      "Epoch 40, Loss 0.0619\n",
      "Training Accuracy: 0.9418, Testing Accuracy: 0.9511\n",
      "\n"
     ]
    },
    {
     "name": "stdout",
     "output_type": "stream",
     "text": [
      "Epoch 50, Loss 0.0573\n",
      "Training Accuracy: 0.9451, Testing Accuracy: 0.9531\n",
      "\n"
     ]
    },
    {
     "name": "stdout",
     "output_type": "stream",
     "text": [
      "Epoch 60, Loss 0.054\n",
      "Training Accuracy: 0.9475, Testing Accuracy: 0.9567\n",
      "\n"
     ]
    },
    {
     "name": "stdout",
     "output_type": "stream",
     "text": [
      "Epoch 70, Loss 0.0515\n",
      "Training Accuracy: 0.9493, Testing Accuracy: 0.9582\n",
      "\n"
     ]
    },
    {
     "name": "stdout",
     "output_type": "stream",
     "text": [
      "Epoch 80, Loss 0.0494\n",
      "Training Accuracy: 0.9507, Testing Accuracy: 0.9597\n",
      "\n"
     ]
    },
    {
     "name": "stdout",
     "output_type": "stream",
     "text": [
      "Epoch 90, Loss 0.0477\n",
      "Training Accuracy: 0.9519, Testing Accuracy: 0.9612\n",
      "\n"
     ]
    },
    {
     "name": "stdout",
     "output_type": "stream",
     "text": [
      "Epoch 100, Loss 0.0463\n",
      "Training Accuracy: 0.9528, Testing Accuracy: 0.9612\n",
      "\n"
     ]
    },
    {
     "name": "stdout",
     "output_type": "stream",
     "text": [
      "Epoch 110, Loss 0.0451\n",
      "Training Accuracy: 0.9538, Testing Accuracy: 0.9627\n",
      "\n"
     ]
    },
    {
     "name": "stdout",
     "output_type": "stream",
     "text": [
      "Epoch 120, Loss 0.044\n",
      "Training Accuracy: 0.9547, Testing Accuracy: 0.9632\n",
      "\n"
     ]
    },
    {
     "name": "stdout",
     "output_type": "stream",
     "text": [
      "Epoch 130, Loss 0.043\n",
      "Training Accuracy: 0.9555, Testing Accuracy: 0.9647\n",
      "\n"
     ]
    },
    {
     "name": "stdout",
     "output_type": "stream",
     "text": [
      "Epoch 140, Loss 0.0422\n",
      "Training Accuracy: 0.9568, Testing Accuracy: 0.9652\n",
      "\n"
     ]
    },
    {
     "name": "stdout",
     "output_type": "stream",
     "text": [
      "Epoch 150, Loss 0.0415\n",
      "Training Accuracy: 0.9573, Testing Accuracy: 0.9652\n",
      "\n"
     ]
    },
    {
     "name": "stdout",
     "output_type": "stream",
     "text": [
      "Epoch 160, Loss 0.0408\n",
      "Training Accuracy: 0.9578, Testing Accuracy: 0.9652\n",
      "\n"
     ]
    },
    {
     "name": "stdout",
     "output_type": "stream",
     "text": [
      "Epoch 170, Loss 0.0402\n",
      "Training Accuracy: 0.9584, Testing Accuracy: 0.9652\n",
      "\n"
     ]
    },
    {
     "name": "stdout",
     "output_type": "stream",
     "text": [
      "Epoch 180, Loss 0.0396\n",
      "Training Accuracy: 0.9592, Testing Accuracy: 0.9652\n",
      "\n"
     ]
    },
    {
     "name": "stdout",
     "output_type": "stream",
     "text": [
      "Epoch 190, Loss 0.0391\n",
      "Training Accuracy: 0.9599, Testing Accuracy: 0.9647\n",
      "\n"
     ]
    },
    {
     "name": "stdout",
     "output_type": "stream",
     "text": [
      "Epoch 200, Loss 0.0386\n",
      "Training Accuracy: 0.9604, Testing Accuracy: 0.9652\n",
      "\n"
     ]
    },
    {
     "name": "stdout",
     "output_type": "stream",
     "text": [
      "Epoch 210, Loss 0.0382\n",
      "Training Accuracy: 0.9609, Testing Accuracy: 0.9652\n",
      "\n"
     ]
    },
    {
     "name": "stdout",
     "output_type": "stream",
     "text": [
      "Epoch 220, Loss 0.0377\n",
      "Training Accuracy: 0.9611, Testing Accuracy: 0.9657\n",
      "\n"
     ]
    },
    {
     "name": "stdout",
     "output_type": "stream",
     "text": [
      "Epoch 230, Loss 0.0374\n",
      "Training Accuracy: 0.9614, Testing Accuracy: 0.9657\n",
      "\n"
     ]
    },
    {
     "name": "stdout",
     "output_type": "stream",
     "text": [
      "Epoch 240, Loss 0.037\n",
      "Training Accuracy: 0.9614, Testing Accuracy: 0.9662\n",
      "\n"
     ]
    },
    {
     "name": "stdout",
     "output_type": "stream",
     "text": [
      "Epoch 250, Loss 0.0367\n",
      "Training Accuracy: 0.9617, Testing Accuracy: 0.9662\n",
      "\n"
     ]
    },
    {
     "data": {
      "text/plain": [
       "0.031503032245207"
      ]
     },
     "execution_count": 22,
     "metadata": {},
     "output_type": "execute_result"
    }
   ],
   "source": [
    "print(\"====== Logistic Regression ======\")\n",
    "learner_lr.train_loop(dl)"
   ]
  },
  {
   "cell_type": "markdown",
   "metadata": {
    "papermill": {
     "duration": 0.049481,
     "end_time": "2020-08-29T20:08:49.967503",
     "exception": false,
     "start_time": "2020-08-29T20:08:49.918022",
     "status": "completed"
    },
    "tags": []
   },
   "source": [
    "### Comparing results of NN and LR"
   ]
  },
  {
   "cell_type": "code",
   "execution_count": 23,
   "metadata": {
    "execution": {
     "iopub.execute_input": "2020-08-29T20:08:50.076252Z",
     "iopub.status.busy": "2020-08-29T20:08:50.075531Z",
     "iopub.status.idle": "2020-08-29T20:08:50.346069Z",
     "shell.execute_reply": "2020-08-29T20:08:50.345514Z"
    },
    "papermill": {
     "duration": 0.328003,
     "end_time": "2020-08-29T20:08:50.346211",
     "exception": false,
     "start_time": "2020-08-29T20:08:50.018208",
     "status": "completed"
    },
    "tags": []
   },
   "outputs": [
    {
     "data": {
      "text/plain": [
       "<matplotlib.legend.Legend at 0x7f12757b2748>"
      ]
     },
     "execution_count": 23,
     "metadata": {},
     "output_type": "execute_result"
    },
    {
     "data": {
      "image/png": "[encoded data removed]",
      "text/plain": [
       "<Figure size 1080x720 with 1 Axes>"
      ]
     },
     "metadata": {
      "needs_background": "light"
     },
     "output_type": "display_data"
    }
   ],
   "source": [
    "plt.figure(figsize=(15,10))\n",
    "\n",
    "# Neural Network plots\n",
    "plt.plot(acc_nn.accuracies, 'r-', label = \"Training Accuracies - NN\")\n",
    "plt.plot(acc_nn.test_accuracies, 'g-', label = \"Testing Accuracies - NN\")\n",
    "\n",
    "# Logistic Regression plots\n",
    "plt.plot(acc_lr.accuracies, 'k-', label = \"Training Accuracies - LR\")\n",
    "plt.plot(acc_lr.test_accuracies, 'b-', label = \"Testing Accuracies - LR\")\n",
    "\n",
    "plt.ylim(0.8, 1)\n",
    "\n",
    "plt.legend()\n",
    "\n"
   ]
  },
  {
   "cell_type": "markdown",
   "metadata": {
    "papermill": {
     "duration": 0.05037,
     "end_time": "2020-08-29T20:08:50.447419",
     "exception": false,
     "start_time": "2020-08-29T20:08:50.397049",
     "status": "completed"
    },
    "tags": []
   },
   "source": [
    "### From the plot, we can observe the following:\n",
    "- Neural Network achieves higher accuracy than the Logistic Regression model.\n",
    "- This apparently, is because of overfitting, i.e. NN captures more noise than data.\n",
    "- Testing accuracy of NN drops below the Training accuracy at higher epochs. This explains the over-fitting on training data.\n",
    "- Logistic Regression gives a reliable accuracy, without the above mentioned problem.\n"
   ]
  },
  {
   "cell_type": "markdown",
   "metadata": {
    "papermill": {
     "duration": 0.05114,
     "end_time": "2020-08-29T20:08:50.549587",
     "exception": false,
     "start_time": "2020-08-29T20:08:50.498447",
     "status": "completed"
    },
    "tags": []
   },
   "source": [
    "### Moving till the last but one layer (excluding it).\n",
    "#### Plotting the outputs of this layer of the NN."
   ]
  },
  {
   "cell_type": "code",
   "execution_count": 24,
   "metadata": {
    "execution": {
     "iopub.execute_input": "2020-08-29T20:08:50.659136Z",
     "iopub.status.busy": "2020-08-29T20:08:50.658495Z",
     "iopub.status.idle": "2020-08-29T20:08:50.670736Z",
     "shell.execute_reply": "2020-08-29T20:08:50.671268Z"
    },
    "papermill": {
     "duration": 0.069574,
     "end_time": "2020-08-29T20:08:50.671415",
     "exception": false,
     "start_time": "2020-08-29T20:08:50.601841",
     "status": "completed"
    },
    "tags": []
   },
   "outputs": [],
   "source": [
    "model_new = Model(layers[:-2])"
   ]
  },
  {
   "cell_type": "code",
   "execution_count": 25,
   "metadata": {
    "execution": {
     "iopub.execute_input": "2020-08-29T20:08:50.780976Z",
     "iopub.status.busy": "2020-08-29T20:08:50.780279Z",
     "iopub.status.idle": "2020-08-29T20:08:50.807440Z",
     "shell.execute_reply": "2020-08-29T20:08:50.808711Z"
    },
    "papermill": {
     "duration": 0.086175,
     "end_time": "2020-08-29T20:08:50.809031",
     "exception": false,
     "start_time": "2020-08-29T20:08:50.722856",
     "status": "completed"
    },
    "tags": []
   },
   "outputs": [],
   "source": [
    "plot_testing = model_new(testing_xdata)"
   ]
  },
  {
   "cell_type": "code",
   "execution_count": 26,
   "metadata": {
    "execution": {
     "iopub.execute_input": "2020-08-29T20:08:50.933813Z",
     "iopub.status.busy": "2020-08-29T20:08:50.932846Z",
     "iopub.status.idle": "2020-08-29T20:08:51.178033Z",
     "shell.execute_reply": "2020-08-29T20:08:51.177108Z"
    },
    "papermill": {
     "duration": 0.312358,
     "end_time": "2020-08-29T20:08:51.178189",
     "exception": false,
     "start_time": "2020-08-29T20:08:50.865831",
     "status": "completed"
    },
    "tags": []
   },
   "outputs": [
    {
     "data": {
      "text/plain": [
       "Text(0.5, 1.0, 'Outputs')"
      ]
     },
     "execution_count": 26,
     "metadata": {},
     "output_type": "execute_result"
    },
    {
     "data": {
      "image/png": "[encoded data removed]",
      "text/plain": [
       "<Figure size 576x504 with 1 Axes>"
      ]
     },
     "metadata": {
      "needs_background": "light"
     },
     "output_type": "display_data"
    }
   ],
   "source": [
    "plt.figure(figsize=(8,7))\n",
    "plt.scatter(plot_testing[:,0], plot_testing[:,1], alpha = 0.1, c = y_test.ravel());\n",
    "plt.title('Outputs')"
   ]
  },
  {
   "cell_type": "markdown",
   "metadata": {
    "papermill": {
     "duration": 0.053137,
     "end_time": "2020-08-29T20:08:51.285608",
     "exception": false,
     "start_time": "2020-08-29T20:08:51.232471",
     "status": "completed"
    },
    "tags": []
   },
   "source": [
    "### Plotting probability contours"
   ]
  },
  {
   "cell_type": "code",
   "execution_count": 27,
   "metadata": {
    "execution": {
     "iopub.execute_input": "2020-08-29T20:08:51.402078Z",
     "iopub.status.busy": "2020-08-29T20:08:51.401418Z",
     "iopub.status.idle": "2020-08-29T20:08:51.412486Z",
     "shell.execute_reply": "2020-08-29T20:08:51.413176Z"
    },
    "papermill": {
     "duration": 0.072246,
     "end_time": "2020-08-29T20:08:51.413328",
     "exception": false,
     "start_time": "2020-08-29T20:08:51.341082",
     "status": "completed"
    },
    "tags": []
   },
   "outputs": [],
   "source": [
    "model_prob = Model(layers[-2:]) "
   ]
  },
  {
   "cell_type": "code",
   "execution_count": 28,
   "metadata": {
    "execution": {
     "iopub.execute_input": "2020-08-29T20:08:51.545928Z",
     "iopub.status.busy": "2020-08-29T20:08:51.534621Z",
     "iopub.status.idle": "2020-08-29T20:08:51.546656Z",
     "shell.execute_reply": "2020-08-29T20:08:51.547211Z"
    },
    "papermill": {
     "duration": 0.077955,
     "end_time": "2020-08-29T20:08:51.547368",
     "exception": false,
     "start_time": "2020-08-29T20:08:51.469413",
     "status": "completed"
    },
    "tags": []
   },
   "outputs": [],
   "source": [
    "# Adjust the x and y ranges according to the above generated plot.\n",
    "x_range = np.linspace(-4, 1, 100) \n",
    "y_range = np.linspace(-6, 6, 100) \n",
    "x_grid, y_grid = np.meshgrid(x_range, y_range) # x_grid and y_grig are of size 100 X 100\n",
    "\n",
    "# converting x_grid and y_grid to continuous arrays\n",
    "x_grid_flat = np.ravel(x_grid)\n",
    "y_grid_flat = np.ravel(y_grid)\n",
    "\n",
    "# The last layer of the current model takes two columns as input. Hence transpose of np.vstack() is required.\n",
    "X = np.vstack((x_grid_flat, y_grid_flat)).T\n",
    "\n",
    "# x_grid and y_grid are of size 100 x 100\n",
    "probability_contour = model_prob(X).reshape(100,100) "
   ]
  },
  {
   "cell_type": "code",
   "execution_count": 29,
   "metadata": {
    "execution": {
     "iopub.execute_input": "2020-08-29T20:08:51.666695Z",
     "iopub.status.busy": "2020-08-29T20:08:51.666010Z",
     "iopub.status.idle": "2020-08-29T20:08:51.956514Z",
     "shell.execute_reply": "2020-08-29T20:08:51.957066Z"
    },
    "papermill": {
     "duration": 0.354685,
     "end_time": "2020-08-29T20:08:51.957240",
     "exception": false,
     "start_time": "2020-08-29T20:08:51.602555",
     "status": "completed"
    },
    "tags": []
   },
   "outputs": [
    {
     "data": {
      "image/png": "[encoded data removed]",
      "text/plain": [
       "<Figure size 720x648 with 1 Axes>"
      ]
     },
     "metadata": {
      "needs_background": "light"
     },
     "output_type": "display_data"
    }
   ],
   "source": [
    "plt.figure(figsize=(10,9))\n",
    "plt.scatter(plot_testing[:,0], plot_testing[:,1], alpha = 0.1, c = y_test.ravel())\n",
    "contours = plt.contour(x_grid,y_grid,probability_contour)\n",
    "plt.title('Probability Contours')\n",
    "plt.clabel(contours, inline = True );"
   ]
  }
 ],
 "metadata": {
  "kernelspec": {
   "display_name": "Python 3",
   "language": "python",
   "name": "python3"
  },
  "language_info": {
   "codemirror_mode": {
    "name": "ipython",
    "version": 3
   },
   "file_extension": ".py",
   "mimetype": "text/x-python",
   "name": "python",
   "nbconvert_exporter": "python",
   "pygments_lexer": "ipython3",
   "version": "3.6.11"
  },
  "papermill": {
   "duration": 164.866735,
   "end_time": "2020-08-29T20:08:52.339806",
   "environment_variables": {},
   "exception": null,
   "input_path": "2020-08-11-NeuralNetwork.ipynb",
   "output_path": "2020-08-11-NeuralNetwork.ipynb",
   "parameters": {},
   "start_time": "2020-08-29T20:06:07.473071",
   "version": "2.1.2"
  }
 },
 "nbformat": 4,
 "nbformat_minor": 4
}