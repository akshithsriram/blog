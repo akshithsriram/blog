{
 "cells": [
  {
   "cell_type": "markdown",
   "id": "fitted-suggestion",
   "metadata": {
    "papermill": {
     "duration": 0.032844,
     "end_time": "2021-03-01T20:04:20.951712",
     "exception": false,
     "start_time": "2021-03-01T20:04:20.918868",
     "status": "completed"
    },
    "tags": []
   },
   "source": [
    "# \"A Basic Neural Network: Differentiate Hand-Written Digits\"\n",
    "\n",
    "- badges: true\n",
    "- author: Akshith Sriram"
   ]
  },
  {
   "cell_type": "markdown",
   "id": "signal-flexibility",
   "metadata": {
    "papermill": {
     "duration": 0.028033,
     "end_time": "2021-03-01T20:04:21.010366",
     "exception": false,
     "start_time": "2021-03-01T20:04:20.982333",
     "status": "completed"
    },
    "tags": []
   },
   "source": [
    "### Key Objectives:\n",
    "- Building a neural network that differentiates two hand-written digits 3 and 8.\n",
    "- Comparing the results of this Neural Network (NN) to that of a Logistic Regression (LR) model.\n",
    "\n",
    "### Requirements:\n",
    "- 'Kudzu' : A neural network library that was designed during our course by [Univ.AI](www.univ.ai). \n",
    "- MNIST Database\n",
    "\n",
    "If MNIST is not installed, use the command `!pip install mnist` given below.\n",
    "It can be run both from the command line and Jupyter Notebook."
   ]
  },
  {
   "cell_type": "code",
   "execution_count": 1,
   "id": "british-texture",
   "metadata": {
    "execution": {
     "iopub.execute_input": "2021-03-01T20:04:21.079180Z",
     "iopub.status.busy": "2021-03-01T20:04:21.078556Z",
     "iopub.status.idle": "2021-03-01T20:04:22.564576Z",
     "shell.execute_reply": "2021-03-01T20:04:22.563730Z"
    },
    "papermill": {
     "duration": 1.525927,
     "end_time": "2021-03-01T20:04:22.564731",
     "exception": false,
     "start_time": "2021-03-01T20:04:21.038804",
     "status": "completed"
    },
    "tags": []
   },
   "outputs": [
    {
     "name": "stdout",
     "output_type": "stream",
     "text": [
      "Collecting mnist\r\n"
     ]
    },
    {
     "name": "stdout",
     "output_type": "stream",
     "text": [
      "  Downloading mnist-0.2.2-py2.py3-none-any.whl (3.5 kB)\r\n",
      "Requirement already satisfied: numpy in /opt/hostedtoolcache/Python/3.6.13/x64/lib/python3.6/site-packages (from mnist) (1.19.5)\r\n"
     ]
    },
    {
     "name": "stdout",
     "output_type": "stream",
     "text": [
      "Installing collected packages: mnist\r\n"
     ]
    },
    {
     "name": "stdout",
     "output_type": "stream",
     "text": [
      "Successfully installed mnist-0.2.2\r\n"
     ]
    }
   ],
   "source": [
    "!pip install mnist "
   ]
  },
  {
   "cell_type": "markdown",
   "id": "stunning-extra",
   "metadata": {
    "papermill": {
     "duration": 0.029925,
     "end_time": "2021-03-01T20:04:22.626653",
     "exception": false,
     "start_time": "2021-03-01T20:04:22.596728",
     "status": "completed"
    },
    "tags": []
   },
   "source": [
    "#### Importing necessary libraries"
   ]
  },
  {
   "cell_type": "code",
   "execution_count": 2,
   "id": "wooden-france",
   "metadata": {
    "execution": {
     "iopub.execute_input": "2021-03-01T20:04:22.697431Z",
     "iopub.status.busy": "2021-03-01T20:04:22.696867Z",
     "iopub.status.idle": "2021-03-01T20:04:23.286255Z",
     "shell.execute_reply": "2021-03-01T20:04:23.285382Z"
    },
    "papermill": {
     "duration": 0.629005,
     "end_time": "2021-03-01T20:04:23.286471",
     "exception": false,
     "start_time": "2021-03-01T20:04:22.657466",
     "status": "completed"
    },
    "tags": []
   },
   "outputs": [],
   "source": [
    "%load_ext autoreload\n",
    "%autoreload 2\n",
    "\n",
    "%matplotlib inline\n",
    "import matplotlib.pyplot as plt\n",
    "\n",
    "import numpy as np\n",
    "import pandas as pd"
   ]
  },
  {
   "cell_type": "markdown",
   "id": "stunning-physics",
   "metadata": {
    "papermill": {
     "duration": 0.030306,
     "end_time": "2021-03-01T20:04:23.350041",
     "exception": false,
     "start_time": "2021-03-01T20:04:23.319735",
     "status": "completed"
    },
    "tags": []
   },
   "source": [
    "### Preparing the Data"
   ]
  },
  {
   "cell_type": "code",
   "execution_count": 3,
   "id": "unauthorized-remainder",
   "metadata": {
    "execution": {
     "iopub.execute_input": "2021-03-01T20:04:23.414472Z",
     "iopub.status.busy": "2021-03-01T20:04:23.413869Z",
     "iopub.status.idle": "2021-03-01T20:04:23.431062Z",
     "shell.execute_reply": "2021-03-01T20:04:23.429697Z"
    },
    "papermill": {
     "duration": 0.051112,
     "end_time": "2021-03-01T20:04:23.431197",
     "exception": false,
     "start_time": "2021-03-01T20:04:23.380085",
     "status": "completed"
    },
    "tags": []
   },
   "outputs": [],
   "source": [
    "import mnist"
   ]
  },
  {
   "cell_type": "code",
   "execution_count": 4,
   "id": "correct-antarctica",
   "metadata": {
    "execution": {
     "iopub.execute_input": "2021-03-01T20:04:23.499848Z",
     "iopub.status.busy": "2021-03-01T20:04:23.498373Z",
     "iopub.status.idle": "2021-03-01T20:04:24.890841Z",
     "shell.execute_reply": "2021-03-01T20:04:24.889460Z"
    },
    "papermill": {
     "duration": 1.426217,
     "end_time": "2021-03-01T20:04:24.891060",
     "exception": false,
     "start_time": "2021-03-01T20:04:23.464843",
     "status": "completed"
    },
    "tags": []
   },
   "outputs": [],
   "source": [
    "train_images = mnist.train_images()\n",
    "train_labels = mnist.train_labels()"
   ]
  },
  {
   "cell_type": "code",
   "execution_count": 5,
   "id": "musical-prospect",
   "metadata": {
    "execution": {
     "iopub.execute_input": "2021-03-01T20:04:24.957430Z",
     "iopub.status.busy": "2021-03-01T20:04:24.956838Z",
     "iopub.status.idle": "2021-03-01T20:04:24.971672Z",
     "shell.execute_reply": "2021-03-01T20:04:24.971197Z"
    },
    "papermill": {
     "duration": 0.049391,
     "end_time": "2021-03-01T20:04:24.971799",
     "exception": false,
     "start_time": "2021-03-01T20:04:24.922408",
     "status": "completed"
    },
    "tags": []
   },
   "outputs": [
    {
     "data": {
      "text/plain": [
       "((60000, 28, 28), (60000,))"
      ]
     },
     "execution_count": 5,
     "metadata": {},
     "output_type": "execute_result"
    }
   ],
   "source": [
    "train_images.shape, train_labels.shape"
   ]
  },
  {
   "cell_type": "code",
   "execution_count": 6,
   "id": "preliminary-elizabeth",
   "metadata": {
    "execution": {
     "iopub.execute_input": "2021-03-01T20:04:25.036046Z",
     "iopub.status.busy": "2021-03-01T20:04:25.035461Z",
     "iopub.status.idle": "2021-03-01T20:04:25.369263Z",
     "shell.execute_reply": "2021-03-01T20:04:25.369907Z"
    },
    "papermill": {
     "duration": 0.368849,
     "end_time": "2021-03-01T20:04:25.370113",
     "exception": false,
     "start_time": "2021-03-01T20:04:25.001264",
     "status": "completed"
    },
    "tags": []
   },
   "outputs": [],
   "source": [
    "test_images = mnist.test_images()\n",
    "test_labels = mnist.test_labels()"
   ]
  },
  {
   "cell_type": "code",
   "execution_count": 7,
   "id": "acknowledged-oxygen",
   "metadata": {
    "execution": {
     "iopub.execute_input": "2021-03-01T20:04:25.435149Z",
     "iopub.status.busy": "2021-03-01T20:04:25.434553Z",
     "iopub.status.idle": "2021-03-01T20:04:25.447837Z",
     "shell.execute_reply": "2021-03-01T20:04:25.448346Z"
    },
    "papermill": {
     "duration": 0.048196,
     "end_time": "2021-03-01T20:04:25.448498",
     "exception": false,
     "start_time": "2021-03-01T20:04:25.400302",
     "status": "completed"
    },
    "tags": []
   },
   "outputs": [
    {
     "data": {
      "text/plain": [
       "((10000, 28, 28), (10000,))"
      ]
     },
     "execution_count": 7,
     "metadata": {},
     "output_type": "execute_result"
    }
   ],
   "source": [
    "test_images.shape, test_labels.shape"
   ]
  },
  {
   "cell_type": "code",
   "execution_count": 8,
   "id": "innovative-organic",
   "metadata": {
    "execution": {
     "iopub.execute_input": "2021-03-01T20:04:25.514247Z",
     "iopub.status.busy": "2021-03-01T20:04:25.513656Z",
     "iopub.status.idle": "2021-03-01T20:04:25.669151Z",
     "shell.execute_reply": "2021-03-01T20:04:25.669635Z"
    },
    "papermill": {
     "duration": 0.190205,
     "end_time": "2021-03-01T20:04:25.669788",
     "exception": false,
     "start_time": "2021-03-01T20:04:25.479583",
     "status": "completed"
    },
    "tags": []
   },
   "outputs": [
    {
     "name": "stdout",
     "output_type": "stream",
     "text": [
      "2\n"
     ]
    },
    {
     "data": {
      "text/plain": [
       "<matplotlib.image.AxesImage at 0x7fdf3a1f14a8>"
      ]
     },
     "execution_count": 8,
     "metadata": {},
     "output_type": "execute_result"
    },
    {
     "data": {
      "image/png": "[encoded data removed]",
      "text/plain": [
       "<Figure size 432x288 with 1 Axes>"
      ]
     },
     "metadata": {
      "needs_background": "light"
     },
     "output_type": "display_data"
    }
   ],
   "source": [
    "image_index = 7776 # You may select anything up to 60,000\n",
    "print(train_labels[image_index]) \n",
    "plt.imshow(train_images[image_index], cmap='Greys')"
   ]
  },
  {
   "cell_type": "markdown",
   "id": "facial-modem",
   "metadata": {
    "papermill": {
     "duration": 0.690096,
     "end_time": "2021-03-01T20:04:26.394123",
     "exception": false,
     "start_time": "2021-03-01T20:04:25.704027",
     "status": "completed"
    },
    "tags": []
   },
   "source": [
    "## Filter data to get 3 and 8 out"
   ]
  },
  {
   "cell_type": "code",
   "execution_count": 9,
   "id": "thousand-acquisition",
   "metadata": {
    "execution": {
     "iopub.execute_input": "2021-03-01T20:04:26.466502Z",
     "iopub.status.busy": "2021-03-01T20:04:26.465896Z",
     "iopub.status.idle": "2021-03-01T20:04:26.486330Z",
     "shell.execute_reply": "2021-03-01T20:04:26.487011Z"
    },
    "papermill": {
     "duration": 0.060419,
     "end_time": "2021-03-01T20:04:26.487192",
     "exception": false,
     "start_time": "2021-03-01T20:04:26.426773",
     "status": "completed"
    },
    "tags": []
   },
   "outputs": [],
   "source": [
    "train_filter = np.where((train_labels == 3 ) | (train_labels == 8))\n",
    "test_filter = np.where((test_labels == 3) | (test_labels == 8))\n",
    "X_train, y_train = train_images[train_filter], train_labels[train_filter]\n",
    "X_test, y_test = test_images[test_filter], test_labels[test_filter]"
   ]
  },
  {
   "cell_type": "markdown",
   "id": "ruled-access",
   "metadata": {
    "papermill": {
     "duration": 0.030237,
     "end_time": "2021-03-01T20:04:26.548430",
     "exception": false,
     "start_time": "2021-03-01T20:04:26.518193",
     "status": "completed"
    },
    "tags": []
   },
   "source": [
    "We normalize the pixel values in the 0 to 1 range"
   ]
  },
  {
   "cell_type": "code",
   "execution_count": 10,
   "id": "isolated-denver",
   "metadata": {
    "execution": {
     "iopub.execute_input": "2021-03-01T20:04:26.615523Z",
     "iopub.status.busy": "2021-03-01T20:04:26.614926Z",
     "iopub.status.idle": "2021-03-01T20:04:26.670966Z",
     "shell.execute_reply": "2021-03-01T20:04:26.670273Z"
    },
    "papermill": {
     "duration": 0.091318,
     "end_time": "2021-03-01T20:04:26.671098",
     "exception": false,
     "start_time": "2021-03-01T20:04:26.579780",
     "status": "completed"
    },
    "tags": []
   },
   "outputs": [],
   "source": [
    "X_train = X_train/255.\n",
    "X_test = X_test/255."
   ]
  },
  {
   "cell_type": "markdown",
   "id": "perfect-summary",
   "metadata": {
    "papermill": {
     "duration": 0.031291,
     "end_time": "2021-03-01T20:04:26.733874",
     "exception": false,
     "start_time": "2021-03-01T20:04:26.702583",
     "status": "completed"
    },
    "tags": []
   },
   "source": [
    "Setup the labels as 1 (when the digit is 3) and 0 (when the digit is 8)"
   ]
  },
  {
   "cell_type": "code",
   "execution_count": 11,
   "id": "personalized-growing",
   "metadata": {
    "execution": {
     "iopub.execute_input": "2021-03-01T20:04:26.800283Z",
     "iopub.status.busy": "2021-03-01T20:04:26.799611Z",
     "iopub.status.idle": "2021-03-01T20:04:26.815870Z",
     "shell.execute_reply": "2021-03-01T20:04:26.814949Z"
    },
    "papermill": {
     "duration": 0.051122,
     "end_time": "2021-03-01T20:04:26.816077",
     "exception": false,
     "start_time": "2021-03-01T20:04:26.764955",
     "status": "completed"
    },
    "tags": []
   },
   "outputs": [],
   "source": [
    "y_train = 1*(y_train==3)\n",
    "y_test = 1*(y_test==3)"
   ]
  },
  {
   "cell_type": "code",
   "execution_count": 12,
   "id": "considered-virgin",
   "metadata": {
    "execution": {
     "iopub.execute_input": "2021-03-01T20:04:26.885912Z",
     "iopub.status.busy": "2021-03-01T20:04:26.885318Z",
     "iopub.status.idle": "2021-03-01T20:04:26.899390Z",
     "shell.execute_reply": "2021-03-01T20:04:26.898904Z"
    },
    "papermill": {
     "duration": 0.049345,
     "end_time": "2021-03-01T20:04:26.899519",
     "exception": false,
     "start_time": "2021-03-01T20:04:26.850174",
     "status": "completed"
    },
    "tags": []
   },
   "outputs": [
    {
     "data": {
      "text/plain": [
       "((11982, 28, 28), (1984, 28, 28))"
      ]
     },
     "execution_count": 12,
     "metadata": {},
     "output_type": "execute_result"
    }
   ],
   "source": [
    "X_train.shape, X_test.shape"
   ]
  },
  {
   "cell_type": "markdown",
   "id": "civilian-mobile",
   "metadata": {
    "papermill": {
     "duration": 0.031723,
     "end_time": "2021-03-01T20:04:26.963631",
     "exception": false,
     "start_time": "2021-03-01T20:04:26.931908",
     "status": "completed"
    },
    "tags": []
   },
   "source": [
    "### Reshape the input data to create a linear array"
   ]
  },
  {
   "cell_type": "code",
   "execution_count": 13,
   "id": "colonial-adams",
   "metadata": {
    "execution": {
     "iopub.execute_input": "2021-03-01T20:04:27.035057Z",
     "iopub.status.busy": "2021-03-01T20:04:27.034440Z",
     "iopub.status.idle": "2021-03-01T20:04:27.048248Z",
     "shell.execute_reply": "2021-03-01T20:04:27.047714Z"
    },
    "papermill": {
     "duration": 0.051626,
     "end_time": "2021-03-01T20:04:27.048393",
     "exception": false,
     "start_time": "2021-03-01T20:04:26.996767",
     "status": "completed"
    },
    "tags": []
   },
   "outputs": [
    {
     "data": {
      "text/plain": [
       "((11982, 784), (1984, 784))"
      ]
     },
     "execution_count": 13,
     "metadata": {},
     "output_type": "execute_result"
    }
   ],
   "source": [
    "X_train = X_train.reshape(X_train.shape[0], -1)\n",
    "X_test = X_test.reshape(X_test.shape[0], -1)\n",
    "X_train.shape, X_test.shape"
   ]
  },
  {
   "cell_type": "markdown",
   "id": "smart-details",
   "metadata": {
    "papermill": {
     "duration": 0.032196,
     "end_time": "2021-03-01T20:04:27.112544",
     "exception": false,
     "start_time": "2021-03-01T20:04:27.080348",
     "status": "completed"
    },
    "tags": []
   },
   "source": [
    "### Importing appropriate functions from 'Kudzu'"
   ]
  },
  {
   "cell_type": "code",
   "execution_count": 14,
   "id": "celtic-trial",
   "metadata": {
    "execution": {
     "iopub.execute_input": "2021-03-01T20:04:27.187071Z",
     "iopub.status.busy": "2021-03-01T20:04:27.186449Z",
     "iopub.status.idle": "2021-03-01T20:04:27.206979Z",
     "shell.execute_reply": "2021-03-01T20:04:27.206365Z"
    },
    "papermill": {
     "duration": 0.061578,
     "end_time": "2021-03-01T20:04:27.207111",
     "exception": false,
     "start_time": "2021-03-01T20:04:27.145533",
     "status": "completed"
    },
    "tags": []
   },
   "outputs": [],
   "source": [
    "from kudzu.layer import Sigmoid\n",
    "from kudzu.layer import Relu\n",
    "from kudzu.layer import Affine, Sigmoid\n",
    "\n",
    "from kudzu.model import Model\n",
    "from kudzu.train import Learner\n",
    "from kudzu.optim import GD\n",
    "from kudzu.data import Data, Dataloader, Sampler\n",
    "\n",
    "from kudzu.callbacks import AccCallback\n",
    "from kudzu.callbacks import ClfCallback\n",
    "\n",
    "from kudzu.loss import MSE"
   ]
  },
  {
   "cell_type": "markdown",
   "id": "coupled-customer",
   "metadata": {
    "papermill": {
     "duration": 0.031963,
     "end_time": "2021-03-01T20:04:27.271671",
     "exception": false,
     "start_time": "2021-03-01T20:04:27.239708",
     "status": "completed"
    },
    "tags": []
   },
   "source": [
    "### Let us create a `Config` class, to store important parameters. \n",
    "This class essentially plays the role of a dictionary."
   ]
  },
  {
   "cell_type": "code",
   "execution_count": 15,
   "id": "young-ceiling",
   "metadata": {
    "execution": {
     "iopub.execute_input": "2021-03-01T20:04:27.341779Z",
     "iopub.status.busy": "2021-03-01T20:04:27.341171Z",
     "iopub.status.idle": "2021-03-01T20:04:27.354258Z",
     "shell.execute_reply": "2021-03-01T20:04:27.353751Z"
    },
    "papermill": {
     "duration": 0.050124,
     "end_time": "2021-03-01T20:04:27.354392",
     "exception": false,
     "start_time": "2021-03-01T20:04:27.304268",
     "status": "completed"
    },
    "tags": []
   },
   "outputs": [],
   "source": [
    "class Config:\n",
    "    pass\n",
    "config = Config()\n",
    "config.lr = 0.001\n",
    "config.num_epochs = 251\n",
    "config.bs = 50"
   ]
  },
  {
   "cell_type": "markdown",
   "id": "according-mandate",
   "metadata": {
    "papermill": {
     "duration": 0.031954,
     "end_time": "2021-03-01T20:04:27.418316",
     "exception": false,
     "start_time": "2021-03-01T20:04:27.386362",
     "status": "completed"
    },
    "tags": []
   },
   "source": [
    "### Initializing data to the variables"
   ]
  },
  {
   "cell_type": "code",
   "execution_count": 16,
   "id": "academic-disposition",
   "metadata": {
    "execution": {
     "iopub.execute_input": "2021-03-01T20:04:27.488465Z",
     "iopub.status.busy": "2021-03-01T20:04:27.487824Z",
     "iopub.status.idle": "2021-03-01T20:04:27.500559Z",
     "shell.execute_reply": "2021-03-01T20:04:27.500013Z"
    },
    "papermill": {
     "duration": 0.050799,
     "end_time": "2021-03-01T20:04:27.500698",
     "exception": false,
     "start_time": "2021-03-01T20:04:27.449899",
     "status": "completed"
    },
    "tags": []
   },
   "outputs": [],
   "source": [
    "data = Data(X_train, y_train.reshape(-1,1))\n",
    "sampler = Sampler(data, config.bs, shuffle=True)\n",
    "\n",
    "dl = Dataloader(data, sampler)\n",
    "\n",
    "opt = GD(config.lr)\n",
    "loss = MSE()"
   ]
  },
  {
   "cell_type": "code",
   "execution_count": 17,
   "id": "featured-commission",
   "metadata": {
    "execution": {
     "iopub.execute_input": "2021-03-01T20:04:27.572817Z",
     "iopub.status.busy": "2021-03-01T20:04:27.572218Z",
     "iopub.status.idle": "2021-03-01T20:04:27.583916Z",
     "shell.execute_reply": "2021-03-01T20:04:27.584453Z"
    },
    "papermill": {
     "duration": 0.051994,
     "end_time": "2021-03-01T20:04:27.584603",
     "exception": false,
     "start_time": "2021-03-01T20:04:27.532609",
     "status": "completed"
    },
    "tags": []
   },
   "outputs": [],
   "source": [
    "training_xdata = X_train\n",
    "testing_xdata = X_test\n",
    "training_ydata = y_train.reshape(-1,1)\n",
    "testing_ydata = y_test.reshape(-1,1)"
   ]
  },
  {
   "cell_type": "markdown",
   "id": "played-safety",
   "metadata": {
    "papermill": {
     "duration": 0.031911,
     "end_time": "2021-03-01T20:04:27.648250",
     "exception": false,
     "start_time": "2021-03-01T20:04:27.616339",
     "status": "completed"
    },
    "tags": []
   },
   "source": [
    "### Running Models with the Training data\n",
    "Details about the network layers:\n",
    "- A first affine layer has 784 inputs and does 100 affine transforms. These are followed by a Relu\n",
    "- A second affine layer has 100 inputs from the 100 activations of the past layer, and does 100 affine transforms. These are followed by a Relu\n",
    "- A third affine layer has 100 activations and does 2 affine transformations to create an embedding for visualization. There is no non-linearity here.\n",
    "- A final \"logistic regression\" which has an affine transform from 2 inputs to 1 output, which is squeezed through a sigmoid.\n",
    "\n",
    "Help taken from Anshuman's Notebook."
   ]
  },
  {
   "cell_type": "code",
   "execution_count": 18,
   "id": "asian-bankruptcy",
   "metadata": {
    "execution": {
     "iopub.execute_input": "2021-03-01T20:04:27.717112Z",
     "iopub.status.busy": "2021-03-01T20:04:27.716496Z",
     "iopub.status.idle": "2021-03-01T20:04:27.734427Z",
     "shell.execute_reply": "2021-03-01T20:04:27.733937Z"
    },
    "papermill": {
     "duration": 0.054776,
     "end_time": "2021-03-01T20:04:27.734550",
     "exception": false,
     "start_time": "2021-03-01T20:04:27.679774",
     "status": "completed"
    },
    "tags": []
   },
   "outputs": [],
   "source": [
    "# layers for the Neural Network\n",
    "layers = [Affine(\"first\", 784, 100), Relu(\"first\"), Affine(\"second\", 100, 100), Relu(\"second\"), Affine(\"third\", 100, 2), Affine(\"final\", 2, 1), Sigmoid(\"final\")]\n",
    "model_nn = Model(layers)\n",
    "\n",
    "# layers for the Logistic Regression\n",
    "layers_lr = [Affine(\"logits\", 784, 1), Sigmoid(\"sigmoid\")]\n",
    "model_lr = Model(layers_lr)"
   ]
  },
  {
   "cell_type": "code",
   "execution_count": 19,
   "id": "removed-butler",
   "metadata": {
    "execution": {
     "iopub.execute_input": "2021-03-01T20:04:27.805773Z",
     "iopub.status.busy": "2021-03-01T20:04:27.805184Z",
     "iopub.status.idle": "2021-03-01T20:04:27.817446Z",
     "shell.execute_reply": "2021-03-01T20:04:27.817951Z"
    },
    "papermill": {
     "duration": 0.051424,
     "end_time": "2021-03-01T20:04:27.818106",
     "exception": false,
     "start_time": "2021-03-01T20:04:27.766682",
     "status": "completed"
    },
    "tags": []
   },
   "outputs": [],
   "source": [
    "# suffix _nn stands for Neural Network.\n",
    "learner_nn = Learner(loss, model_nn, opt, config.num_epochs)\n",
    "acc_nn = ClfCallback(learner_nn, config.bs, training_xdata , testing_xdata, training_ydata, testing_ydata)\n",
    "learner_nn.set_callbacks([acc_nn])"
   ]
  },
  {
   "cell_type": "code",
   "execution_count": 20,
   "id": "conceptual-throw",
   "metadata": {
    "execution": {
     "iopub.execute_input": "2021-03-01T20:04:27.885783Z",
     "iopub.status.busy": "2021-03-01T20:04:27.885191Z",
     "iopub.status.idle": "2021-03-01T20:05:57.050957Z",
     "shell.execute_reply": "2021-03-01T20:05:57.051841Z"
    },
    "papermill": {
     "duration": 89.202996,
     "end_time": "2021-03-01T20:05:57.051999",
     "exception": false,
     "start_time": "2021-03-01T20:04:27.849003",
     "status": "completed"
    },
    "tags": []
   },
   "outputs": [
    {
     "name": "stdout",
     "output_type": "stream",
     "text": [
      "====== Neural Network ======\n"
     ]
    },
    {
     "name": "stdout",
     "output_type": "stream",
     "text": [
      "Epoch 0, Loss 0.2491\n",
      "Training Accuracy: 0.5752, Testing Accuracy: 0.5872\n",
      "\n"
     ]
    },
    {
     "name": "stdout",
     "output_type": "stream",
     "text": [
      "Epoch 10, Loss 0.2041\n",
      "Training Accuracy: 0.8726, Testing Accuracy: 0.8876\n",
      "\n"
     ]
    },
    {
     "name": "stdout",
     "output_type": "stream",
     "text": [
      "Epoch 20, Loss 0.103\n",
      "Training Accuracy: 0.9114, Testing Accuracy: 0.9224\n",
      "\n"
     ]
    },
    {
     "name": "stdout",
     "output_type": "stream",
     "text": [
      "Epoch 30, Loss 0.064\n",
      "Training Accuracy: 0.9311, Testing Accuracy: 0.9415\n",
      "\n"
     ]
    },
    {
     "name": "stdout",
     "output_type": "stream",
     "text": [
      "Epoch 40, Loss 0.0498\n",
      "Training Accuracy: 0.9432, Testing Accuracy: 0.9516\n",
      "\n"
     ]
    },
    {
     "name": "stdout",
     "output_type": "stream",
     "text": [
      "Epoch 50, Loss 0.0426\n",
      "Training Accuracy: 0.9516, Testing Accuracy: 0.9572\n",
      "\n"
     ]
    },
    {
     "name": "stdout",
     "output_type": "stream",
     "text": [
      "Epoch 60, Loss 0.0382\n",
      "Training Accuracy: 0.9565, Testing Accuracy: 0.9617\n",
      "\n"
     ]
    },
    {
     "name": "stdout",
     "output_type": "stream",
     "text": [
      "Epoch 70, Loss 0.0352\n",
      "Training Accuracy: 0.9594, Testing Accuracy: 0.9652\n",
      "\n"
     ]
    },
    {
     "name": "stdout",
     "output_type": "stream",
     "text": [
      "Epoch 80, Loss 0.033\n",
      "Training Accuracy: 0.9619, Testing Accuracy: 0.9682\n",
      "\n"
     ]
    },
    {
     "name": "stdout",
     "output_type": "stream",
     "text": [
      "Epoch 90, Loss 0.0312\n",
      "Training Accuracy: 0.9640, Testing Accuracy: 0.9693\n",
      "\n"
     ]
    },
    {
     "name": "stdout",
     "output_type": "stream",
     "text": [
      "Epoch 100, Loss 0.0298\n",
      "Training Accuracy: 0.9657, Testing Accuracy: 0.9688\n",
      "\n"
     ]
    },
    {
     "name": "stdout",
     "output_type": "stream",
     "text": [
      "Epoch 110, Loss 0.0286\n",
      "Training Accuracy: 0.9670, Testing Accuracy: 0.9698\n",
      "\n"
     ]
    },
    {
     "name": "stdout",
     "output_type": "stream",
     "text": [
      "Epoch 120, Loss 0.0275\n",
      "Training Accuracy: 0.9683, Testing Accuracy: 0.9713\n",
      "\n"
     ]
    },
    {
     "name": "stdout",
     "output_type": "stream",
     "text": [
      "Epoch 130, Loss 0.0266\n",
      "Training Accuracy: 0.9695, Testing Accuracy: 0.9708\n",
      "\n"
     ]
    },
    {
     "name": "stdout",
     "output_type": "stream",
     "text": [
      "Epoch 140, Loss 0.0258\n",
      "Training Accuracy: 0.9704, Testing Accuracy: 0.9708\n",
      "\n"
     ]
    },
    {
     "name": "stdout",
     "output_type": "stream",
     "text": [
      "Epoch 150, Loss 0.025\n",
      "Training Accuracy: 0.9720, Testing Accuracy: 0.9718\n",
      "\n"
     ]
    },
    {
     "name": "stdout",
     "output_type": "stream",
     "text": [
      "Epoch 160, Loss 0.0244\n",
      "Training Accuracy: 0.9725, Testing Accuracy: 0.9718\n",
      "\n"
     ]
    },
    {
     "name": "stdout",
     "output_type": "stream",
     "text": [
      "Epoch 170, Loss 0.0237\n",
      "Training Accuracy: 0.9732, Testing Accuracy: 0.9713\n",
      "\n"
     ]
    },
    {
     "name": "stdout",
     "output_type": "stream",
     "text": [
      "Epoch 180, Loss 0.0232\n",
      "Training Accuracy: 0.9738, Testing Accuracy: 0.9718\n",
      "\n"
     ]
    },
    {
     "name": "stdout",
     "output_type": "stream",
     "text": [
      "Epoch 190, Loss 0.0226\n",
      "Training Accuracy: 0.9743, Testing Accuracy: 0.9713\n",
      "\n"
     ]
    },
    {
     "name": "stdout",
     "output_type": "stream",
     "text": [
      "Epoch 200, Loss 0.0221\n",
      "Training Accuracy: 0.9749, Testing Accuracy: 0.9713\n",
      "\n"
     ]
    },
    {
     "name": "stdout",
     "output_type": "stream",
     "text": [
      "Epoch 210, Loss 0.0216\n",
      "Training Accuracy: 0.9754, Testing Accuracy: 0.9718\n",
      "\n"
     ]
    },
    {
     "name": "stdout",
     "output_type": "stream",
     "text": [
      "Epoch 220, Loss 0.0212\n",
      "Training Accuracy: 0.9760, Testing Accuracy: 0.9728\n",
      "\n"
     ]
    },
    {
     "name": "stdout",
     "output_type": "stream",
     "text": [
      "Epoch 230, Loss 0.0208\n",
      "Training Accuracy: 0.9767, Testing Accuracy: 0.9733\n",
      "\n"
     ]
    },
    {
     "name": "stdout",
     "output_type": "stream",
     "text": [
      "Epoch 240, Loss 0.0203\n",
      "Training Accuracy: 0.9770, Testing Accuracy: 0.9743\n",
      "\n"
     ]
    },
    {
     "name": "stdout",
     "output_type": "stream",
     "text": [
      "Epoch 250, Loss 0.0199\n",
      "Training Accuracy: 0.9776, Testing Accuracy: 0.9743\n",
      "\n"
     ]
    },
    {
     "data": {
      "text/plain": [
       "0.0060725199028137805"
      ]
     },
     "execution_count": 20,
     "metadata": {},
     "output_type": "execute_result"
    }
   ],
   "source": [
    "print(\"====== Neural Network ======\")\n",
    "learner_nn.train_loop(dl)"
   ]
  },
  {
   "cell_type": "markdown",
   "id": "competent-suffering",
   "metadata": {
    "papermill": {
     "duration": 0.041332,
     "end_time": "2021-03-01T20:05:57.134925",
     "exception": false,
     "start_time": "2021-03-01T20:05:57.093593",
     "status": "completed"
    },
    "tags": []
   },
   "source": [
    "### Logistic Regression based Implementation."
   ]
  },
  {
   "cell_type": "code",
   "execution_count": 21,
   "id": "qualified-psychiatry",
   "metadata": {
    "execution": {
     "iopub.execute_input": "2021-03-01T20:05:57.225833Z",
     "iopub.status.busy": "2021-03-01T20:05:57.225225Z",
     "iopub.status.idle": "2021-03-01T20:05:57.237497Z",
     "shell.execute_reply": "2021-03-01T20:05:57.238232Z"
    },
    "papermill": {
     "duration": 0.062692,
     "end_time": "2021-03-01T20:05:57.238386",
     "exception": false,
     "start_time": "2021-03-01T20:05:57.175694",
     "status": "completed"
    },
    "tags": []
   },
   "outputs": [],
   "source": [
    "learner_lr = Learner(loss, model_lr, opt, config.num_epochs)\n",
    "acc_lr = ClfCallback(learner_lr, config.bs, training_xdata , testing_xdata, training_ydata, testing_ydata)\n",
    "learner_lr.set_callbacks([acc_lr])"
   ]
  },
  {
   "cell_type": "code",
   "execution_count": 22,
   "id": "average-outside",
   "metadata": {
    "execution": {
     "iopub.execute_input": "2021-03-01T20:05:57.327707Z",
     "iopub.status.busy": "2021-03-01T20:05:57.326884Z",
     "iopub.status.idle": "2021-03-01T20:06:13.114497Z",
     "shell.execute_reply": "2021-03-01T20:06:13.115247Z"
    },
    "papermill": {
     "duration": 15.836381,
     "end_time": "2021-03-01T20:06:13.115397",
     "exception": false,
     "start_time": "2021-03-01T20:05:57.279016",
     "status": "completed"
    },
    "tags": []
   },
   "outputs": [
    {
     "name": "stdout",
     "output_type": "stream",
     "text": [
      "====== Logistic Regression ======\n",
      "Epoch 0, Loss 0.2562\n",
      "Training Accuracy: 0.6241, Testing Accuracy: 0.6532\n",
      "\n"
     ]
    },
    {
     "name": "stdout",
     "output_type": "stream",
     "text": [
      "Epoch 10, Loss 0.1059\n",
      "Training Accuracy: 0.9062, Testing Accuracy: 0.9209\n",
      "\n"
     ]
    },
    {
     "name": "stdout",
     "output_type": "stream",
     "text": [
      "Epoch 20, Loss 0.0805\n",
      "Training Accuracy: 0.9278, Testing Accuracy: 0.9410\n",
      "\n"
     ]
    },
    {
     "name": "stdout",
     "output_type": "stream",
     "text": [
      "Epoch 30, Loss 0.069\n",
      "Training Accuracy: 0.9349, Testing Accuracy: 0.9476\n",
      "\n"
     ]
    },
    {
     "name": "stdout",
     "output_type": "stream",
     "text": [
      "Epoch 40, Loss 0.0621\n",
      "Training Accuracy: 0.9397, Testing Accuracy: 0.9531\n",
      "\n"
     ]
    },
    {
     "name": "stdout",
     "output_type": "stream",
     "text": [
      "Epoch 50, Loss 0.0575\n",
      "Training Accuracy: 0.9433, Testing Accuracy: 0.9531\n",
      "\n"
     ]
    },
    {
     "name": "stdout",
     "output_type": "stream",
     "text": [
      "Epoch 60, Loss 0.0541\n",
      "Training Accuracy: 0.9466, Testing Accuracy: 0.9561\n",
      "\n"
     ]
    },
    {
     "name": "stdout",
     "output_type": "stream",
     "text": [
      "Epoch 70, Loss 0.0515\n",
      "Training Accuracy: 0.9484, Testing Accuracy: 0.9597\n",
      "\n"
     ]
    },
    {
     "name": "stdout",
     "output_type": "stream",
     "text": [
      "Epoch 80, Loss 0.0494\n",
      "Training Accuracy: 0.9506, Testing Accuracy: 0.9612\n",
      "\n"
     ]
    },
    {
     "name": "stdout",
     "output_type": "stream",
     "text": [
      "Epoch 90, Loss 0.0477\n",
      "Training Accuracy: 0.9521, Testing Accuracy: 0.9622\n",
      "\n"
     ]
    },
    {
     "name": "stdout",
     "output_type": "stream",
     "text": [
      "Epoch 100, Loss 0.0462\n",
      "Training Accuracy: 0.9530, Testing Accuracy: 0.9637\n",
      "\n"
     ]
    },
    {
     "name": "stdout",
     "output_type": "stream",
     "text": [
      "Epoch 110, Loss 0.045\n",
      "Training Accuracy: 0.9540, Testing Accuracy: 0.9632\n",
      "\n"
     ]
    },
    {
     "name": "stdout",
     "output_type": "stream",
     "text": [
      "Epoch 120, Loss 0.0439\n",
      "Training Accuracy: 0.9546, Testing Accuracy: 0.9632\n",
      "\n"
     ]
    },
    {
     "name": "stdout",
     "output_type": "stream",
     "text": [
      "Epoch 130, Loss 0.043\n",
      "Training Accuracy: 0.9551, Testing Accuracy: 0.9637\n",
      "\n"
     ]
    },
    {
     "name": "stdout",
     "output_type": "stream",
     "text": [
      "Epoch 140, Loss 0.0421\n",
      "Training Accuracy: 0.9559, Testing Accuracy: 0.9632\n",
      "\n"
     ]
    },
    {
     "name": "stdout",
     "output_type": "stream",
     "text": [
      "Epoch 150, Loss 0.0414\n",
      "Training Accuracy: 0.9564, Testing Accuracy: 0.9637\n",
      "\n"
     ]
    },
    {
     "name": "stdout",
     "output_type": "stream",
     "text": [
      "Epoch 160, Loss 0.0407\n",
      "Training Accuracy: 0.9571, Testing Accuracy: 0.9642\n",
      "\n"
     ]
    },
    {
     "name": "stdout",
     "output_type": "stream",
     "text": [
      "Epoch 170, Loss 0.0401\n",
      "Training Accuracy: 0.9573, Testing Accuracy: 0.9652\n",
      "\n"
     ]
    },
    {
     "name": "stdout",
     "output_type": "stream",
     "text": [
      "Epoch 180, Loss 0.0395\n",
      "Training Accuracy: 0.9579, Testing Accuracy: 0.9657\n",
      "\n"
     ]
    },
    {
     "name": "stdout",
     "output_type": "stream",
     "text": [
      "Epoch 190, Loss 0.039\n",
      "Training Accuracy: 0.9583, Testing Accuracy: 0.9667\n",
      "\n"
     ]
    },
    {
     "name": "stdout",
     "output_type": "stream",
     "text": [
      "Epoch 200, Loss 0.0385\n",
      "Training Accuracy: 0.9584, Testing Accuracy: 0.9672\n",
      "\n"
     ]
    },
    {
     "name": "stdout",
     "output_type": "stream",
     "text": [
      "Epoch 210, Loss 0.038\n",
      "Training Accuracy: 0.9587, Testing Accuracy: 0.9672\n",
      "\n"
     ]
    },
    {
     "name": "stdout",
     "output_type": "stream",
     "text": [
      "Epoch 220, Loss 0.0376\n",
      "Training Accuracy: 0.9593, Testing Accuracy: 0.9677\n",
      "\n"
     ]
    },
    {
     "name": "stdout",
     "output_type": "stream",
     "text": [
      "Epoch 230, Loss 0.0372\n",
      "Training Accuracy: 0.9601, Testing Accuracy: 0.9693\n",
      "\n"
     ]
    },
    {
     "name": "stdout",
     "output_type": "stream",
     "text": [
      "Epoch 240, Loss 0.0369\n",
      "Training Accuracy: 0.9606, Testing Accuracy: 0.9698\n",
      "\n"
     ]
    },
    {
     "name": "stdout",
     "output_type": "stream",
     "text": [
      "Epoch 250, Loss 0.0365\n",
      "Training Accuracy: 0.9609, Testing Accuracy: 0.9703\n",
      "\n"
     ]
    },
    {
     "data": {
      "text/plain": [
       "0.07697716180299127"
      ]
     },
     "execution_count": 22,
     "metadata": {},
     "output_type": "execute_result"
    }
   ],
   "source": [
    "print(\"====== Logistic Regression ======\")\n",
    "learner_lr.train_loop(dl)"
   ]
  },
  {
   "cell_type": "markdown",
   "id": "adjusted-possible",
   "metadata": {
    "papermill": {
     "duration": 0.049947,
     "end_time": "2021-03-01T20:06:13.214307",
     "exception": false,
     "start_time": "2021-03-01T20:06:13.164360",
     "status": "completed"
    },
    "tags": []
   },
   "source": [
    "### Comparing results of NN and LR"
   ]
  },
  {
   "cell_type": "code",
   "execution_count": 23,
   "id": "mental-multimedia",
   "metadata": {
    "execution": {
     "iopub.execute_input": "2021-03-01T20:06:13.318142Z",
     "iopub.status.busy": "2021-03-01T20:06:13.317091Z",
     "iopub.status.idle": "2021-03-01T20:06:13.559929Z",
     "shell.execute_reply": "2021-03-01T20:06:13.559389Z"
    },
    "papermill": {
     "duration": 0.29756,
     "end_time": "2021-03-01T20:06:13.560061",
     "exception": false,
     "start_time": "2021-03-01T20:06:13.262501",
     "status": "completed"
    },
    "tags": []
   },
   "outputs": [
    {
     "data": {
      "text/plain": [
       "<matplotlib.legend.Legend at 0x7fdf31d59198>"
      ]
     },
     "execution_count": 23,
     "metadata": {},
     "output_type": "execute_result"
    },
    {
     "data": {
      "image/png": "[encoded data removed]",
      "text/plain": [
       "<Figure size 1080x720 with 1 Axes>"
      ]
     },
     "metadata": {
      "needs_background": "light"
     },
     "output_type": "display_data"
    }
   ],
   "source": [
    "plt.figure(figsize=(15,10))\n",
    "\n",
    "# Neural Network plots\n",
    "plt.plot(acc_nn.accuracies, 'r-', label = \"Training Accuracies - NN\")\n",
    "plt.plot(acc_nn.test_accuracies, 'g-', label = \"Testing Accuracies - NN\")\n",
    "\n",
    "# Logistic Regression plots\n",
    "plt.plot(acc_lr.accuracies, 'k-', label = \"Training Accuracies - LR\")\n",
    "plt.plot(acc_lr.test_accuracies, 'b-', label = \"Testing Accuracies - LR\")\n",
    "\n",
    "plt.ylim(0.8, 1)\n",
    "\n",
    "plt.legend()\n",
    "\n"
   ]
  },
  {
   "cell_type": "markdown",
   "id": "sexual-flesh",
   "metadata": {
    "papermill": {
     "duration": 0.050875,
     "end_time": "2021-03-01T20:06:13.661861",
     "exception": false,
     "start_time": "2021-03-01T20:06:13.610986",
     "status": "completed"
    },
    "tags": []
   },
   "source": [
    "### From the plot, we can observe the following:\n",
    "- Neural Network achieves higher accuracy than the Logistic Regression model.\n",
    "- This apparently, is because of overfitting, i.e. NN captures more noise than data.\n",
    "- Testing accuracy of NN drops below the Training accuracy at higher epochs. This explains the over-fitting on training data.\n",
    "- Logistic Regression gives a reliable accuracy, without the above mentioned problem.\n"
   ]
  },
  {
   "cell_type": "markdown",
   "id": "institutional-pacific",
   "metadata": {
    "papermill": {
     "duration": 0.051637,
     "end_time": "2021-03-01T20:06:13.764690",
     "exception": false,
     "start_time": "2021-03-01T20:06:13.713053",
     "status": "completed"
    },
    "tags": []
   },
   "source": [
    "### Moving till the last but one layer (excluding it).\n",
    "#### Plotting the outputs of this layer of the NN."
   ]
  },
  {
   "cell_type": "code",
   "execution_count": 24,
   "id": "economic-server",
   "metadata": {
    "execution": {
     "iopub.execute_input": "2021-03-01T20:06:13.879698Z",
     "iopub.status.busy": "2021-03-01T20:06:13.879097Z",
     "iopub.status.idle": "2021-03-01T20:06:13.891511Z",
     "shell.execute_reply": "2021-03-01T20:06:13.890990Z"
    },
    "papermill": {
     "duration": 0.0727,
     "end_time": "2021-03-01T20:06:13.891642",
     "exception": false,
     "start_time": "2021-03-01T20:06:13.818942",
     "status": "completed"
    },
    "tags": []
   },
   "outputs": [],
   "source": [
    "model_new = Model(layers[:-2])"
   ]
  },
  {
   "cell_type": "code",
   "execution_count": 25,
   "id": "varied-upgrade",
   "metadata": {
    "execution": {
     "iopub.execute_input": "2021-03-01T20:06:13.998745Z",
     "iopub.status.busy": "2021-03-01T20:06:13.998151Z",
     "iopub.status.idle": "2021-03-01T20:06:14.019136Z",
     "shell.execute_reply": "2021-03-01T20:06:14.019917Z"
    },
    "papermill": {
     "duration": 0.077044,
     "end_time": "2021-03-01T20:06:14.020078",
     "exception": false,
     "start_time": "2021-03-01T20:06:13.943034",
     "status": "completed"
    },
    "tags": []
   },
   "outputs": [],
   "source": [
    "plot_testing = model_new(testing_xdata)"
   ]
  },
  {
   "cell_type": "code",
   "execution_count": 26,
   "id": "specific-handling",
   "metadata": {
    "execution": {
     "iopub.execute_input": "2021-03-01T20:06:14.134069Z",
     "iopub.status.busy": "2021-03-01T20:06:14.133430Z",
     "iopub.status.idle": "2021-03-01T20:06:14.346997Z",
     "shell.execute_reply": "2021-03-01T20:06:14.346479Z"
    },
    "papermill": {
     "duration": 0.275334,
     "end_time": "2021-03-01T20:06:14.347126",
     "exception": false,
     "start_time": "2021-03-01T20:06:14.071792",
     "status": "completed"
    },
    "tags": []
   },
   "outputs": [
    {
     "data": {
      "text/plain": [
       "Text(0.5, 1.0, 'Outputs')"
      ]
     },
     "execution_count": 26,
     "metadata": {},
     "output_type": "execute_result"
    },
    {
     "data": {
      "image/png": "[encoded data removed]",
      "text/plain": [
       "<Figure size 576x504 with 1 Axes>"
      ]
     },
     "metadata": {
      "needs_background": "light"
     },
     "output_type": "display_data"
    }
   ],
   "source": [
    "plt.figure(figsize=(8,7))\n",
    "plt.scatter(plot_testing[:,0], plot_testing[:,1], alpha = 0.1, c = y_test.ravel());\n",
    "plt.title('Outputs')"
   ]
  },
  {
   "cell_type": "markdown",
   "id": "described-knowing",
   "metadata": {
    "papermill": {
     "duration": 0.05474,
     "end_time": "2021-03-01T20:06:14.456726",
     "exception": false,
     "start_time": "2021-03-01T20:06:14.401986",
     "status": "completed"
    },
    "tags": []
   },
   "source": [
    "### Plotting probability contours"
   ]
  },
  {
   "cell_type": "code",
   "execution_count": 27,
   "id": "needed-growing",
   "metadata": {
    "execution": {
     "iopub.execute_input": "2021-03-01T20:06:14.573367Z",
     "iopub.status.busy": "2021-03-01T20:06:14.572774Z",
     "iopub.status.idle": "2021-03-01T20:06:14.588005Z",
     "shell.execute_reply": "2021-03-01T20:06:14.587515Z"
    },
    "papermill": {
     "duration": 0.074571,
     "end_time": "2021-03-01T20:06:14.588159",
     "exception": false,
     "start_time": "2021-03-01T20:06:14.513588",
     "status": "completed"
    },
    "tags": []
   },
   "outputs": [],
   "source": [
    "model_prob = Model(layers[-2:]) "
   ]
  },
  {
   "cell_type": "code",
   "execution_count": 28,
   "id": "introductory-enforcement",
   "metadata": {
    "execution": {
     "iopub.execute_input": "2021-03-01T20:06:14.701009Z",
     "iopub.status.busy": "2021-03-01T20:06:14.700080Z",
     "iopub.status.idle": "2021-03-01T20:06:14.714714Z",
     "shell.execute_reply": "2021-03-01T20:06:14.715229Z"
    },
    "papermill": {
     "duration": 0.073916,
     "end_time": "2021-03-01T20:06:14.715382",
     "exception": false,
     "start_time": "2021-03-01T20:06:14.641466",
     "status": "completed"
    },
    "tags": []
   },
   "outputs": [],
   "source": [
    "# Adjust the x and y ranges according to the above generated plot.\n",
    "x_range = np.linspace(-4, 1, 100) \n",
    "y_range = np.linspace(-6, 6, 100) \n",
    "x_grid, y_grid = np.meshgrid(x_range, y_range) # x_grid and y_grig are of size 100 X 100\n",
    "\n",
    "# converting x_grid and y_grid to continuous arrays\n",
    "x_grid_flat = np.ravel(x_grid)\n",
    "y_grid_flat = np.ravel(y_grid)\n",
    "\n",
    "# The last layer of the current model takes two columns as input. Hence transpose of np.vstack() is required.\n",
    "X = np.vstack((x_grid_flat, y_grid_flat)).T\n",
    "\n",
    "# x_grid and y_grid are of size 100 x 100\n",
    "probability_contour = model_prob(X).reshape(100,100) "
   ]
  },
  {
   "cell_type": "code",
   "execution_count": 29,
   "id": "understood-landing",
   "metadata": {
    "execution": {
     "iopub.execute_input": "2021-03-01T20:06:14.862762Z",
     "iopub.status.busy": "2021-03-01T20:06:14.862153Z",
     "iopub.status.idle": "2021-03-01T20:06:15.134675Z",
     "shell.execute_reply": "2021-03-01T20:06:15.134146Z"
    },
    "papermill": {
     "duration": 0.331495,
     "end_time": "2021-03-01T20:06:15.134807",
     "exception": false,
     "start_time": "2021-03-01T20:06:14.803312",
     "status": "completed"
    },
    "tags": []
   },
   "outputs": [
    {
     "data": {
      "image/png": "[encoded data removed]",
      "text/plain": [
       "<Figure size 720x648 with 1 Axes>"
      ]
     },
     "metadata": {
      "needs_background": "light"
     },
     "output_type": "display_data"
    }
   ],
   "source": [
    "plt.figure(figsize=(10,9))\n",
    "plt.scatter(plot_testing[:,0], plot_testing[:,1], alpha = 0.1, c = y_test.ravel())\n",
    "contours = plt.contour(x_grid,y_grid,probability_contour)\n",
    "plt.title('Probability Contours')\n",
    "plt.clabel(contours, inline = True );"
   ]
  }
 ],
 "metadata": {
  "kernelspec": {
   "display_name": "Python 3",
   "language": "python",
   "name": "python3"
  },
  "language_info": {
   "codemirror_mode": {
    "name": "ipython",
    "version": 3
   },
   "file_extension": ".py",
   "mimetype": "text/x-python",
   "name": "python",
   "nbconvert_exporter": "python",
   "pygments_lexer": "ipython3",
   "version": "3.6.13"
  },
  "papermill": {
   "duration": 115.843314,
   "end_time": "2021-03-01T20:06:15.600371",
   "environment_variables": {},
   "exception": null,
   "input_path": "2020-08-11-NeuralNetwork.ipynb",
   "output_path": "2020-08-11-NeuralNetwork.ipynb",
   "parameters": {},
   "start_time": "2021-03-01T20:04:19.757057",
   "version": "2.1.2"
  }
 },
 "nbformat": 4,
 "nbformat_minor": 5
}