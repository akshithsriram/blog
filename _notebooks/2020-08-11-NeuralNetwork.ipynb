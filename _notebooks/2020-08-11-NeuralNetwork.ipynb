{
 "cells": [
  {
   "cell_type": "markdown",
   "metadata": {
    "papermill": {
     "duration": 0.034154,
     "end_time": "2021-01-16T10:33:06.142487",
     "exception": false,
     "start_time": "2021-01-16T10:33:06.108333",
     "status": "completed"
    },
    "tags": []
   },
   "source": [
    "# \"A Basic Neural Network: Differentiate Hand-Written Digits\"\n",
    "\n",
    "- badges: true\n",
    "- author: Akshith Sriram"
   ]
  },
  {
   "cell_type": "markdown",
   "metadata": {
    "papermill": {
     "duration": 0.027082,
     "end_time": "2021-01-16T10:33:06.196491",
     "exception": false,
     "start_time": "2021-01-16T10:33:06.169409",
     "status": "completed"
    },
    "tags": []
   },
   "source": [
    "### Key Objectives:\n",
    "- Building a neural network that differentiates two hand-written digits 3 and 8.\n",
    "- Comparing the results of this Neural Network (NN) to that of a Logistic Regression (LR) model.\n",
    "\n",
    "### Requirements:\n",
    "- 'Kudzu' : A neural network library that was designed during our course by [Univ.AI](www.univ.ai). \n",
    "- MNIST Database\n",
    "\n",
    "If MNIST is not installed, use the command `!pip install mnist` given below.\n",
    "It can be run both from the command line and Jupyter Notebook."
   ]
  },
  {
   "cell_type": "code",
   "execution_count": 1,
   "metadata": {
    "execution": {
     "iopub.execute_input": "2021-01-16T10:33:06.259164Z",
     "iopub.status.busy": "2021-01-16T10:33:06.258541Z",
     "iopub.status.idle": "2021-01-16T10:33:07.849003Z",
     "shell.execute_reply": "2021-01-16T10:33:07.849480Z"
    },
    "papermill": {
     "duration": 1.628519,
     "end_time": "2021-01-16T10:33:07.849672",
     "exception": false,
     "start_time": "2021-01-16T10:33:06.221153",
     "status": "completed"
    },
    "tags": []
   },
   "outputs": [
    {
     "name": "stdout",
     "output_type": "stream",
     "text": [
      "Collecting mnist\r\n"
     ]
    },
    {
     "name": "stdout",
     "output_type": "stream",
     "text": [
      "  Downloading mnist-0.2.2-py2.py3-none-any.whl (3.5 kB)\r\n",
      "Requirement already satisfied: numpy in /opt/hostedtoolcache/Python/3.6.12/x64/lib/python3.6/site-packages (from mnist) (1.19.5)\r\n"
     ]
    },
    {
     "name": "stdout",
     "output_type": "stream",
     "text": [
      "Installing collected packages: mnist\r\n"
     ]
    },
    {
     "name": "stdout",
     "output_type": "stream",
     "text": [
      "Successfully installed mnist-0.2.2\r\n"
     ]
    }
   ],
   "source": [
    "!pip install mnist "
   ]
  },
  {
   "cell_type": "markdown",
   "metadata": {
    "papermill": {
     "duration": 0.029135,
     "end_time": "2021-01-16T10:33:07.909013",
     "exception": false,
     "start_time": "2021-01-16T10:33:07.879878",
     "status": "completed"
    },
    "tags": []
   },
   "source": [
    "#### Importing necessary libraries"
   ]
  },
  {
   "cell_type": "code",
   "execution_count": 2,
   "metadata": {
    "execution": {
     "iopub.execute_input": "2021-01-16T10:33:07.971559Z",
     "iopub.status.busy": "2021-01-16T10:33:07.970980Z",
     "iopub.status.idle": "2021-01-16T10:33:08.545420Z",
     "shell.execute_reply": "2021-01-16T10:33:08.544503Z"
    },
    "papermill": {
     "duration": 0.609572,
     "end_time": "2021-01-16T10:33:08.545572",
     "exception": false,
     "start_time": "2021-01-16T10:33:07.936000",
     "status": "completed"
    },
    "tags": []
   },
   "outputs": [],
   "source": [
    "%load_ext autoreload\n",
    "%autoreload 2\n",
    "\n",
    "%matplotlib inline\n",
    "import matplotlib.pyplot as plt\n",
    "\n",
    "import numpy as np\n",
    "import pandas as pd"
   ]
  },
  {
   "cell_type": "markdown",
   "metadata": {
    "papermill": {
     "duration": 0.027859,
     "end_time": "2021-01-16T10:33:08.602687",
     "exception": false,
     "start_time": "2021-01-16T10:33:08.574828",
     "status": "completed"
    },
    "tags": []
   },
   "source": [
    "### Preparing the Data"
   ]
  },
  {
   "cell_type": "code",
   "execution_count": 3,
   "metadata": {
    "execution": {
     "iopub.execute_input": "2021-01-16T10:33:08.668422Z",
     "iopub.status.busy": "2021-01-16T10:33:08.661753Z",
     "iopub.status.idle": "2021-01-16T10:33:08.673633Z",
     "shell.execute_reply": "2021-01-16T10:33:08.673142Z"
    },
    "papermill": {
     "duration": 0.044674,
     "end_time": "2021-01-16T10:33:08.673800",
     "exception": false,
     "start_time": "2021-01-16T10:33:08.629126",
     "status": "completed"
    },
    "tags": []
   },
   "outputs": [],
   "source": [
    "import mnist"
   ]
  },
  {
   "cell_type": "code",
   "execution_count": 4,
   "metadata": {
    "execution": {
     "iopub.execute_input": "2021-01-16T10:33:08.732499Z",
     "iopub.status.busy": "2021-01-16T10:33:08.731847Z",
     "iopub.status.idle": "2021-01-16T10:33:10.342822Z",
     "shell.execute_reply": "2021-01-16T10:33:10.342125Z"
    },
    "papermill": {
     "duration": 1.642096,
     "end_time": "2021-01-16T10:33:10.342977",
     "exception": false,
     "start_time": "2021-01-16T10:33:08.700881",
     "status": "completed"
    },
    "tags": []
   },
   "outputs": [],
   "source": [
    "train_images = mnist.train_images()\n",
    "train_labels = mnist.train_labels()"
   ]
  },
  {
   "cell_type": "code",
   "execution_count": 5,
   "metadata": {
    "execution": {
     "iopub.execute_input": "2021-01-16T10:33:10.402711Z",
     "iopub.status.busy": "2021-01-16T10:33:10.402105Z",
     "iopub.status.idle": "2021-01-16T10:33:10.417074Z",
     "shell.execute_reply": "2021-01-16T10:33:10.416505Z"
    },
    "papermill": {
     "duration": 0.047754,
     "end_time": "2021-01-16T10:33:10.417198",
     "exception": false,
     "start_time": "2021-01-16T10:33:10.369444",
     "status": "completed"
    },
    "tags": []
   },
   "outputs": [
    {
     "data": {
      "text/plain": [
       "((60000, 28, 28), (60000,))"
      ]
     },
     "execution_count": 5,
     "metadata": {},
     "output_type": "execute_result"
    }
   ],
   "source": [
    "train_images.shape, train_labels.shape"
   ]
  },
  {
   "cell_type": "code",
   "execution_count": 6,
   "metadata": {
    "execution": {
     "iopub.execute_input": "2021-01-16T10:33:10.475117Z",
     "iopub.status.busy": "2021-01-16T10:33:10.474472Z",
     "iopub.status.idle": "2021-01-16T10:33:11.325164Z",
     "shell.execute_reply": "2021-01-16T10:33:11.324577Z"
    },
    "papermill": {
     "duration": 0.880477,
     "end_time": "2021-01-16T10:33:11.325305",
     "exception": false,
     "start_time": "2021-01-16T10:33:10.444828",
     "status": "completed"
    },
    "tags": []
   },
   "outputs": [],
   "source": [
    "test_images = mnist.test_images()\n",
    "test_labels = mnist.test_labels()"
   ]
  },
  {
   "cell_type": "code",
   "execution_count": 7,
   "metadata": {
    "execution": {
     "iopub.execute_input": "2021-01-16T10:33:11.653290Z",
     "iopub.status.busy": "2021-01-16T10:33:11.652701Z",
     "iopub.status.idle": "2021-01-16T10:33:11.668970Z",
     "shell.execute_reply": "2021-01-16T10:33:11.668493Z"
    },
    "papermill": {
     "duration": 0.314446,
     "end_time": "2021-01-16T10:33:11.669098",
     "exception": false,
     "start_time": "2021-01-16T10:33:11.354652",
     "status": "completed"
    },
    "tags": []
   },
   "outputs": [
    {
     "data": {
      "text/plain": [
       "((10000, 28, 28), (10000,))"
      ]
     },
     "execution_count": 7,
     "metadata": {},
     "output_type": "execute_result"
    }
   ],
   "source": [
    "test_images.shape, test_labels.shape"
   ]
  },
  {
   "cell_type": "code",
   "execution_count": 8,
   "metadata": {
    "execution": {
     "iopub.execute_input": "2021-01-16T10:33:11.733920Z",
     "iopub.status.busy": "2021-01-16T10:33:11.733345Z",
     "iopub.status.idle": "2021-01-16T10:33:11.904555Z",
     "shell.execute_reply": "2021-01-16T10:33:11.904045Z"
    },
    "papermill": {
     "duration": 0.204432,
     "end_time": "2021-01-16T10:33:11.904692",
     "exception": false,
     "start_time": "2021-01-16T10:33:11.700260",
     "status": "completed"
    },
    "tags": []
   },
   "outputs": [
    {
     "name": "stdout",
     "output_type": "stream",
     "text": [
      "2\n"
     ]
    },
    {
     "data": {
      "text/plain": [
       "<matplotlib.image.AxesImage at 0x7f98d8d015f8>"
      ]
     },
     "execution_count": 8,
     "metadata": {},
     "output_type": "execute_result"
    },
    {
     "data": {
      "image/png": "[encoded data removed]",
      "text/plain": [
       "<Figure size 432x288 with 1 Axes>"
      ]
     },
     "metadata": {
      "needs_background": "light"
     },
     "output_type": "display_data"
    }
   ],
   "source": [
    "image_index = 7776 # You may select anything up to 60,000\n",
    "print(train_labels[image_index]) \n",
    "plt.imshow(train_images[image_index], cmap='Greys')"
   ]
  },
  {
   "cell_type": "markdown",
   "metadata": {
    "papermill": {
     "duration": 0.030046,
     "end_time": "2021-01-16T10:33:11.968592",
     "exception": false,
     "start_time": "2021-01-16T10:33:11.938546",
     "status": "completed"
    },
    "tags": []
   },
   "source": [
    "## Filter data to get 3 and 8 out"
   ]
  },
  {
   "cell_type": "code",
   "execution_count": 9,
   "metadata": {
    "execution": {
     "iopub.execute_input": "2021-01-16T10:33:12.039893Z",
     "iopub.status.busy": "2021-01-16T10:33:12.039224Z",
     "iopub.status.idle": "2021-01-16T10:33:12.058843Z",
     "shell.execute_reply": "2021-01-16T10:33:12.057306Z"
    },
    "papermill": {
     "duration": 0.060862,
     "end_time": "2021-01-16T10:33:12.059010",
     "exception": false,
     "start_time": "2021-01-16T10:33:11.998148",
     "status": "completed"
    },
    "tags": []
   },
   "outputs": [],
   "source": [
    "train_filter = np.where((train_labels == 3 ) | (train_labels == 8))\n",
    "test_filter = np.where((test_labels == 3) | (test_labels == 8))\n",
    "X_train, y_train = train_images[train_filter], train_labels[train_filter]\n",
    "X_test, y_test = test_images[test_filter], test_labels[test_filter]"
   ]
  },
  {
   "cell_type": "markdown",
   "metadata": {
    "papermill": {
     "duration": 0.028293,
     "end_time": "2021-01-16T10:33:12.116755",
     "exception": false,
     "start_time": "2021-01-16T10:33:12.088462",
     "status": "completed"
    },
    "tags": []
   },
   "source": [
    "We normalize the pixel values in the 0 to 1 range"
   ]
  },
  {
   "cell_type": "code",
   "execution_count": 10,
   "metadata": {
    "execution": {
     "iopub.execute_input": "2021-01-16T10:33:12.180327Z",
     "iopub.status.busy": "2021-01-16T10:33:12.179497Z",
     "iopub.status.idle": "2021-01-16T10:33:12.236151Z",
     "shell.execute_reply": "2021-01-16T10:33:12.235618Z"
    },
    "papermill": {
     "duration": 0.090518,
     "end_time": "2021-01-16T10:33:12.236289",
     "exception": false,
     "start_time": "2021-01-16T10:33:12.145771",
     "status": "completed"
    },
    "tags": []
   },
   "outputs": [],
   "source": [
    "X_train = X_train/255.\n",
    "X_test = X_test/255."
   ]
  },
  {
   "cell_type": "markdown",
   "metadata": {
    "papermill": {
     "duration": 0.031621,
     "end_time": "2021-01-16T10:33:12.298301",
     "exception": false,
     "start_time": "2021-01-16T10:33:12.266680",
     "status": "completed"
    },
    "tags": []
   },
   "source": [
    "Setup the labels as 1 (when the digit is 3) and 0 (when the digit is 8)"
   ]
  },
  {
   "cell_type": "code",
   "execution_count": 11,
   "metadata": {
    "execution": {
     "iopub.execute_input": "2021-01-16T10:33:12.361795Z",
     "iopub.status.busy": "2021-01-16T10:33:12.361217Z",
     "iopub.status.idle": "2021-01-16T10:33:12.373511Z",
     "shell.execute_reply": "2021-01-16T10:33:12.372989Z"
    },
    "papermill": {
     "duration": 0.046099,
     "end_time": "2021-01-16T10:33:12.373634",
     "exception": false,
     "start_time": "2021-01-16T10:33:12.327535",
     "status": "completed"
    },
    "tags": []
   },
   "outputs": [],
   "source": [
    "y_train = 1*(y_train==3)\n",
    "y_test = 1*(y_test==3)"
   ]
  },
  {
   "cell_type": "code",
   "execution_count": 12,
   "metadata": {
    "execution": {
     "iopub.execute_input": "2021-01-16T10:33:12.433265Z",
     "iopub.status.busy": "2021-01-16T10:33:12.432232Z",
     "iopub.status.idle": "2021-01-16T10:33:12.445837Z",
     "shell.execute_reply": "2021-01-16T10:33:12.445303Z"
    },
    "papermill": {
     "duration": 0.04346,
     "end_time": "2021-01-16T10:33:12.445953",
     "exception": false,
     "start_time": "2021-01-16T10:33:12.402493",
     "status": "completed"
    },
    "tags": []
   },
   "outputs": [
    {
     "data": {
      "text/plain": [
       "((11982, 28, 28), (1984, 28, 28))"
      ]
     },
     "execution_count": 12,
     "metadata": {},
     "output_type": "execute_result"
    }
   ],
   "source": [
    "X_train.shape, X_test.shape"
   ]
  },
  {
   "cell_type": "markdown",
   "metadata": {
    "papermill": {
     "duration": 0.028832,
     "end_time": "2021-01-16T10:33:12.503316",
     "exception": false,
     "start_time": "2021-01-16T10:33:12.474484",
     "status": "completed"
    },
    "tags": []
   },
   "source": [
    "### Reshape the input data to create a linear array"
   ]
  },
  {
   "cell_type": "code",
   "execution_count": 13,
   "metadata": {
    "execution": {
     "iopub.execute_input": "2021-01-16T10:33:12.578623Z",
     "iopub.status.busy": "2021-01-16T10:33:12.571781Z",
     "iopub.status.idle": "2021-01-16T10:33:12.581489Z",
     "shell.execute_reply": "2021-01-16T10:33:12.581942Z"
    },
    "papermill": {
     "duration": 0.050351,
     "end_time": "2021-01-16T10:33:12.582094",
     "exception": false,
     "start_time": "2021-01-16T10:33:12.531743",
     "status": "completed"
    },
    "tags": []
   },
   "outputs": [
    {
     "data": {
      "text/plain": [
       "((11982, 784), (1984, 784))"
      ]
     },
     "execution_count": 13,
     "metadata": {},
     "output_type": "execute_result"
    }
   ],
   "source": [
    "X_train = X_train.reshape(X_train.shape[0], -1)\n",
    "X_test = X_test.reshape(X_test.shape[0], -1)\n",
    "X_train.shape, X_test.shape"
   ]
  },
  {
   "cell_type": "markdown",
   "metadata": {
    "papermill": {
     "duration": 0.033099,
     "end_time": "2021-01-16T10:33:12.644154",
     "exception": false,
     "start_time": "2021-01-16T10:33:12.611055",
     "status": "completed"
    },
    "tags": []
   },
   "source": [
    "### Importing appropriate functions from 'Kudzu'"
   ]
  },
  {
   "cell_type": "code",
   "execution_count": 14,
   "metadata": {
    "execution": {
     "iopub.execute_input": "2021-01-16T10:33:12.712439Z",
     "iopub.status.busy": "2021-01-16T10:33:12.711804Z",
     "iopub.status.idle": "2021-01-16T10:33:12.730548Z",
     "shell.execute_reply": "2021-01-16T10:33:12.731120Z"
    },
    "papermill": {
     "duration": 0.05701,
     "end_time": "2021-01-16T10:33:12.731259",
     "exception": false,
     "start_time": "2021-01-16T10:33:12.674249",
     "status": "completed"
    },
    "tags": []
   },
   "outputs": [],
   "source": [
    "from kudzu.layer import Sigmoid\n",
    "from kudzu.layer import Relu\n",
    "from kudzu.layer import Affine, Sigmoid\n",
    "\n",
    "from kudzu.model import Model\n",
    "from kudzu.train import Learner\n",
    "from kudzu.optim import GD\n",
    "from kudzu.data import Data, Dataloader, Sampler\n",
    "\n",
    "from kudzu.callbacks import AccCallback\n",
    "from kudzu.callbacks import ClfCallback\n",
    "\n",
    "from kudzu.loss import MSE"
   ]
  },
  {
   "cell_type": "markdown",
   "metadata": {
    "papermill": {
     "duration": 0.031214,
     "end_time": "2021-01-16T10:33:12.793212",
     "exception": false,
     "start_time": "2021-01-16T10:33:12.761998",
     "status": "completed"
    },
    "tags": []
   },
   "source": [
    "### Let us create a `Config` class, to store important parameters. \n",
    "This class essentially plays the role of a dictionary."
   ]
  },
  {
   "cell_type": "code",
   "execution_count": 15,
   "metadata": {
    "execution": {
     "iopub.execute_input": "2021-01-16T10:33:12.857612Z",
     "iopub.status.busy": "2021-01-16T10:33:12.856968Z",
     "iopub.status.idle": "2021-01-16T10:33:12.867602Z",
     "shell.execute_reply": "2021-01-16T10:33:12.867086Z"
    },
    "papermill": {
     "duration": 0.046119,
     "end_time": "2021-01-16T10:33:12.867723",
     "exception": false,
     "start_time": "2021-01-16T10:33:12.821604",
     "status": "completed"
    },
    "tags": []
   },
   "outputs": [],
   "source": [
    "class Config:\n",
    "    pass\n",
    "config = Config()\n",
    "config.lr = 0.001\n",
    "config.num_epochs = 251\n",
    "config.bs = 50"
   ]
  },
  {
   "cell_type": "markdown",
   "metadata": {
    "papermill": {
     "duration": 0.028269,
     "end_time": "2021-01-16T10:33:12.927361",
     "exception": false,
     "start_time": "2021-01-16T10:33:12.899092",
     "status": "completed"
    },
    "tags": []
   },
   "source": [
    "### Initializing data to the variables"
   ]
  },
  {
   "cell_type": "code",
   "execution_count": 16,
   "metadata": {
    "execution": {
     "iopub.execute_input": "2021-01-16T10:33:13.001800Z",
     "iopub.status.busy": "2021-01-16T10:33:12.995787Z",
     "iopub.status.idle": "2021-01-16T10:33:13.004297Z",
     "shell.execute_reply": "2021-01-16T10:33:13.003826Z"
    },
    "papermill": {
     "duration": 0.047248,
     "end_time": "2021-01-16T10:33:13.004420",
     "exception": false,
     "start_time": "2021-01-16T10:33:12.957172",
     "status": "completed"
    },
    "tags": []
   },
   "outputs": [],
   "source": [
    "data = Data(X_train, y_train.reshape(-1,1))\n",
    "sampler = Sampler(data, config.bs, shuffle=True)\n",
    "\n",
    "dl = Dataloader(data, sampler)\n",
    "\n",
    "opt = GD(config.lr)\n",
    "loss = MSE()"
   ]
  },
  {
   "cell_type": "code",
   "execution_count": 17,
   "metadata": {
    "execution": {
     "iopub.execute_input": "2021-01-16T10:33:13.083335Z",
     "iopub.status.busy": "2021-01-16T10:33:13.082735Z",
     "iopub.status.idle": "2021-01-16T10:33:13.092991Z",
     "shell.execute_reply": "2021-01-16T10:33:13.093442Z"
    },
    "papermill": {
     "duration": 0.05297,
     "end_time": "2021-01-16T10:33:13.093582",
     "exception": false,
     "start_time": "2021-01-16T10:33:13.040612",
     "status": "completed"
    },
    "tags": []
   },
   "outputs": [],
   "source": [
    "training_xdata = X_train\n",
    "testing_xdata = X_test\n",
    "training_ydata = y_train.reshape(-1,1)\n",
    "testing_ydata = y_test.reshape(-1,1)"
   ]
  },
  {
   "cell_type": "markdown",
   "metadata": {
    "papermill": {
     "duration": 0.031066,
     "end_time": "2021-01-16T10:33:13.156397",
     "exception": false,
     "start_time": "2021-01-16T10:33:13.125331",
     "status": "completed"
    },
    "tags": []
   },
   "source": [
    "### Running Models with the Training data\n",
    "Details about the network layers:\n",
    "- A first affine layer has 784 inputs and does 100 affine transforms. These are followed by a Relu\n",
    "- A second affine layer has 100 inputs from the 100 activations of the past layer, and does 100 affine transforms. These are followed by a Relu\n",
    "- A third affine layer has 100 activations and does 2 affine transformations to create an embedding for visualization. There is no non-linearity here.\n",
    "- A final \"logistic regression\" which has an affine transform from 2 inputs to 1 output, which is squeezed through a sigmoid.\n",
    "\n",
    "Help taken from Anshuman's Notebook."
   ]
  },
  {
   "cell_type": "code",
   "execution_count": 18,
   "metadata": {
    "execution": {
     "iopub.execute_input": "2021-01-16T10:33:13.228035Z",
     "iopub.status.busy": "2021-01-16T10:33:13.227301Z",
     "iopub.status.idle": "2021-01-16T10:33:13.240145Z",
     "shell.execute_reply": "2021-01-16T10:33:13.240650Z"
    },
    "papermill": {
     "duration": 0.053328,
     "end_time": "2021-01-16T10:33:13.240804",
     "exception": false,
     "start_time": "2021-01-16T10:33:13.187476",
     "status": "completed"
    },
    "tags": []
   },
   "outputs": [],
   "source": [
    "# layers for the Neural Network\n",
    "layers = [Affine(\"first\", 784, 100), Relu(\"first\"), Affine(\"second\", 100, 100), Relu(\"second\"), Affine(\"third\", 100, 2), Affine(\"final\", 2, 1), Sigmoid(\"final\")]\n",
    "model_nn = Model(layers)\n",
    "\n",
    "# layers for the Logistic Regression\n",
    "layers_lr = [Affine(\"logits\", 784, 1), Sigmoid(\"sigmoid\")]\n",
    "model_lr = Model(layers_lr)"
   ]
  },
  {
   "cell_type": "code",
   "execution_count": 19,
   "metadata": {
    "execution": {
     "iopub.execute_input": "2021-01-16T10:33:13.321044Z",
     "iopub.status.busy": "2021-01-16T10:33:13.315805Z",
     "iopub.status.idle": "2021-01-16T10:33:13.323193Z",
     "shell.execute_reply": "2021-01-16T10:33:13.323674Z"
    },
    "papermill": {
     "duration": 0.051438,
     "end_time": "2021-01-16T10:33:13.323827",
     "exception": false,
     "start_time": "2021-01-16T10:33:13.272389",
     "status": "completed"
    },
    "tags": []
   },
   "outputs": [],
   "source": [
    "# suffix _nn stands for Neural Network.\n",
    "learner_nn = Learner(loss, model_nn, opt, config.num_epochs)\n",
    "acc_nn = ClfCallback(learner_nn, config.bs, training_xdata , testing_xdata, training_ydata, testing_ydata)\n",
    "learner_nn.set_callbacks([acc_nn])"
   ]
  },
  {
   "cell_type": "code",
   "execution_count": 20,
   "metadata": {
    "execution": {
     "iopub.execute_input": "2021-01-16T10:33:13.391078Z",
     "iopub.status.busy": "2021-01-16T10:33:13.390452Z",
     "iopub.status.idle": "2021-01-16T10:35:19.504319Z",
     "shell.execute_reply": "2021-01-16T10:35:19.503785Z"
    },
    "papermill": {
     "duration": 126.150466,
     "end_time": "2021-01-16T10:35:19.504453",
     "exception": false,
     "start_time": "2021-01-16T10:33:13.353987",
     "status": "completed"
    },
    "tags": []
   },
   "outputs": [
    {
     "name": "stdout",
     "output_type": "stream",
     "text": [
      "====== Neural Network ======\n"
     ]
    },
    {
     "name": "stdout",
     "output_type": "stream",
     "text": [
      "Epoch 0, Loss 0.2352\n",
      "Training Accuracy: 0.6951, Testing Accuracy: 0.6815\n",
      "\n"
     ]
    },
    {
     "name": "stdout",
     "output_type": "stream",
     "text": [
      "Epoch 10, Loss 0.1102\n",
      "Training Accuracy: 0.9045, Testing Accuracy: 0.9143\n",
      "\n"
     ]
    },
    {
     "name": "stdout",
     "output_type": "stream",
     "text": [
      "Epoch 20, Loss 0.0635\n",
      "Training Accuracy: 0.9341, Testing Accuracy: 0.9496\n",
      "\n"
     ]
    },
    {
     "name": "stdout",
     "output_type": "stream",
     "text": [
      "Epoch 30, Loss 0.0482\n",
      "Training Accuracy: 0.9468, Testing Accuracy: 0.9597\n",
      "\n"
     ]
    },
    {
     "name": "stdout",
     "output_type": "stream",
     "text": [
      "Epoch 40, Loss 0.041\n",
      "Training Accuracy: 0.9538, Testing Accuracy: 0.9617\n",
      "\n"
     ]
    },
    {
     "name": "stdout",
     "output_type": "stream",
     "text": [
      "Epoch 50, Loss 0.0368\n",
      "Training Accuracy: 0.9580, Testing Accuracy: 0.9632\n",
      "\n"
     ]
    },
    {
     "name": "stdout",
     "output_type": "stream",
     "text": [
      "Epoch 60, Loss 0.034\n",
      "Training Accuracy: 0.9604, Testing Accuracy: 0.9657\n",
      "\n"
     ]
    },
    {
     "name": "stdout",
     "output_type": "stream",
     "text": [
      "Epoch 70, Loss 0.032\n",
      "Training Accuracy: 0.9624, Testing Accuracy: 0.9667\n",
      "\n"
     ]
    },
    {
     "name": "stdout",
     "output_type": "stream",
     "text": [
      "Epoch 80, Loss 0.0304\n",
      "Training Accuracy: 0.9640, Testing Accuracy: 0.9682\n",
      "\n"
     ]
    },
    {
     "name": "stdout",
     "output_type": "stream",
     "text": [
      "Epoch 90, Loss 0.0291\n",
      "Training Accuracy: 0.9653, Testing Accuracy: 0.9688\n",
      "\n"
     ]
    },
    {
     "name": "stdout",
     "output_type": "stream",
     "text": [
      "Epoch 100, Loss 0.0281\n",
      "Training Accuracy: 0.9670, Testing Accuracy: 0.9703\n",
      "\n"
     ]
    },
    {
     "name": "stdout",
     "output_type": "stream",
     "text": [
      "Epoch 110, Loss 0.0271\n",
      "Training Accuracy: 0.9680, Testing Accuracy: 0.9708\n",
      "\n"
     ]
    },
    {
     "name": "stdout",
     "output_type": "stream",
     "text": [
      "Epoch 120, Loss 0.0263\n",
      "Training Accuracy: 0.9690, Testing Accuracy: 0.9698\n",
      "\n"
     ]
    },
    {
     "name": "stdout",
     "output_type": "stream",
     "text": [
      "Epoch 130, Loss 0.0256\n",
      "Training Accuracy: 0.9700, Testing Accuracy: 0.9703\n",
      "\n"
     ]
    },
    {
     "name": "stdout",
     "output_type": "stream",
     "text": [
      "Epoch 140, Loss 0.0249\n",
      "Training Accuracy: 0.9713, Testing Accuracy: 0.9708\n",
      "\n"
     ]
    },
    {
     "name": "stdout",
     "output_type": "stream",
     "text": [
      "Epoch 150, Loss 0.0243\n",
      "Training Accuracy: 0.9723, Testing Accuracy: 0.9708\n",
      "\n"
     ]
    },
    {
     "name": "stdout",
     "output_type": "stream",
     "text": [
      "Epoch 160, Loss 0.0237\n",
      "Training Accuracy: 0.9728, Testing Accuracy: 0.9718\n",
      "\n"
     ]
    },
    {
     "name": "stdout",
     "output_type": "stream",
     "text": [
      "Epoch 170, Loss 0.0231\n",
      "Training Accuracy: 0.9737, Testing Accuracy: 0.9728\n",
      "\n"
     ]
    },
    {
     "name": "stdout",
     "output_type": "stream",
     "text": [
      "Epoch 180, Loss 0.0226\n",
      "Training Accuracy: 0.9741, Testing Accuracy: 0.9718\n",
      "\n"
     ]
    },
    {
     "name": "stdout",
     "output_type": "stream",
     "text": [
      "Epoch 190, Loss 0.0222\n",
      "Training Accuracy: 0.9747, Testing Accuracy: 0.9713\n",
      "\n"
     ]
    },
    {
     "name": "stdout",
     "output_type": "stream",
     "text": [
      "Epoch 200, Loss 0.0217\n",
      "Training Accuracy: 0.9756, Testing Accuracy: 0.9728\n",
      "\n"
     ]
    },
    {
     "name": "stdout",
     "output_type": "stream",
     "text": [
      "Epoch 210, Loss 0.0213\n",
      "Training Accuracy: 0.9762, Testing Accuracy: 0.9718\n",
      "\n"
     ]
    },
    {
     "name": "stdout",
     "output_type": "stream",
     "text": [
      "Epoch 220, Loss 0.0209\n",
      "Training Accuracy: 0.9763, Testing Accuracy: 0.9718\n",
      "\n"
     ]
    },
    {
     "name": "stdout",
     "output_type": "stream",
     "text": [
      "Epoch 230, Loss 0.0205\n",
      "Training Accuracy: 0.9769, Testing Accuracy: 0.9723\n",
      "\n"
     ]
    },
    {
     "name": "stdout",
     "output_type": "stream",
     "text": [
      "Epoch 240, Loss 0.0201\n",
      "Training Accuracy: 0.9774, Testing Accuracy: 0.9723\n",
      "\n"
     ]
    },
    {
     "name": "stdout",
     "output_type": "stream",
     "text": [
      "Epoch 250, Loss 0.0197\n",
      "Training Accuracy: 0.9778, Testing Accuracy: 0.9728\n",
      "\n"
     ]
    },
    {
     "data": {
      "text/plain": [
       "0.02231951826201419"
      ]
     },
     "execution_count": 20,
     "metadata": {},
     "output_type": "execute_result"
    }
   ],
   "source": [
    "print(\"====== Neural Network ======\")\n",
    "learner_nn.train_loop(dl)"
   ]
  },
  {
   "cell_type": "markdown",
   "metadata": {
    "papermill": {
     "duration": 0.040227,
     "end_time": "2021-01-16T10:35:19.588361",
     "exception": false,
     "start_time": "2021-01-16T10:35:19.548134",
     "status": "completed"
    },
    "tags": []
   },
   "source": [
    "### Logistic Regression based Implementation."
   ]
  },
  {
   "cell_type": "code",
   "execution_count": 21,
   "metadata": {
    "execution": {
     "iopub.execute_input": "2021-01-16T10:35:19.675072Z",
     "iopub.status.busy": "2021-01-16T10:35:19.674438Z",
     "iopub.status.idle": "2021-01-16T10:35:19.686042Z",
     "shell.execute_reply": "2021-01-16T10:35:19.686483Z"
    },
    "papermill": {
     "duration": 0.059916,
     "end_time": "2021-01-16T10:35:19.686627",
     "exception": false,
     "start_time": "2021-01-16T10:35:19.626711",
     "status": "completed"
    },
    "tags": []
   },
   "outputs": [],
   "source": [
    "learner_lr = Learner(loss, model_lr, opt, config.num_epochs)\n",
    "acc_lr = ClfCallback(learner_lr, config.bs, training_xdata , testing_xdata, training_ydata, testing_ydata)\n",
    "learner_lr.set_callbacks([acc_lr])"
   ]
  },
  {
   "cell_type": "code",
   "execution_count": 22,
   "metadata": {
    "execution": {
     "iopub.execute_input": "2021-01-16T10:35:19.771184Z",
     "iopub.status.busy": "2021-01-16T10:35:19.770493Z",
     "iopub.status.idle": "2021-01-16T10:35:38.461337Z",
     "shell.execute_reply": "2021-01-16T10:35:38.462056Z"
    },
    "papermill": {
     "duration": 18.738458,
     "end_time": "2021-01-16T10:35:38.462223",
     "exception": false,
     "start_time": "2021-01-16T10:35:19.723765",
     "status": "completed"
    },
    "tags": []
   },
   "outputs": [
    {
     "name": "stdout",
     "output_type": "stream",
     "text": [
      "====== Logistic Regression ======\n",
      "Epoch 0, Loss 0.2237\n",
      "Training Accuracy: 0.7485, Testing Accuracy: 0.7833\n",
      "\n"
     ]
    },
    {
     "name": "stdout",
     "output_type": "stream",
     "text": [
      "Epoch 10, Loss 0.1017\n",
      "Training Accuracy: 0.9106, Testing Accuracy: 0.9178\n",
      "\n"
     ]
    },
    {
     "name": "stdout",
     "output_type": "stream",
     "text": [
      "Epoch 20, Loss 0.0788\n",
      "Training Accuracy: 0.9286, Testing Accuracy: 0.9360\n",
      "\n"
     ]
    },
    {
     "name": "stdout",
     "output_type": "stream",
     "text": [
      "Epoch 30, Loss 0.0681\n",
      "Training Accuracy: 0.9367, Testing Accuracy: 0.9471\n",
      "\n"
     ]
    },
    {
     "name": "stdout",
     "output_type": "stream",
     "text": [
      "Epoch 40, Loss 0.0615\n",
      "Training Accuracy: 0.9419, Testing Accuracy: 0.9516\n",
      "\n"
     ]
    },
    {
     "name": "stdout",
     "output_type": "stream",
     "text": [
      "Epoch 50, Loss 0.0571\n",
      "Training Accuracy: 0.9448, Testing Accuracy: 0.9551\n",
      "\n"
     ]
    },
    {
     "name": "stdout",
     "output_type": "stream",
     "text": [
      "Epoch 60, Loss 0.0538\n",
      "Training Accuracy: 0.9468, Testing Accuracy: 0.9577\n",
      "\n"
     ]
    },
    {
     "name": "stdout",
     "output_type": "stream",
     "text": [
      "Epoch 70, Loss 0.0512\n",
      "Training Accuracy: 0.9492, Testing Accuracy: 0.9612\n",
      "\n"
     ]
    },
    {
     "name": "stdout",
     "output_type": "stream",
     "text": [
      "Epoch 80, Loss 0.0492\n",
      "Training Accuracy: 0.9512, Testing Accuracy: 0.9617\n",
      "\n"
     ]
    },
    {
     "name": "stdout",
     "output_type": "stream",
     "text": [
      "Epoch 90, Loss 0.0475\n",
      "Training Accuracy: 0.9525, Testing Accuracy: 0.9627\n",
      "\n"
     ]
    },
    {
     "name": "stdout",
     "output_type": "stream",
     "text": [
      "Epoch 100, Loss 0.0461\n",
      "Training Accuracy: 0.9534, Testing Accuracy: 0.9632\n",
      "\n"
     ]
    },
    {
     "name": "stdout",
     "output_type": "stream",
     "text": [
      "Epoch 110, Loss 0.0449\n",
      "Training Accuracy: 0.9548, Testing Accuracy: 0.9642\n",
      "\n"
     ]
    },
    {
     "name": "stdout",
     "output_type": "stream",
     "text": [
      "Epoch 120, Loss 0.0438\n",
      "Training Accuracy: 0.9553, Testing Accuracy: 0.9647\n",
      "\n"
     ]
    },
    {
     "name": "stdout",
     "output_type": "stream",
     "text": [
      "Epoch 130, Loss 0.0429\n",
      "Training Accuracy: 0.9558, Testing Accuracy: 0.9647\n",
      "\n"
     ]
    },
    {
     "name": "stdout",
     "output_type": "stream",
     "text": [
      "Epoch 140, Loss 0.0421\n",
      "Training Accuracy: 0.9561, Testing Accuracy: 0.9657\n",
      "\n"
     ]
    },
    {
     "name": "stdout",
     "output_type": "stream",
     "text": [
      "Epoch 150, Loss 0.0413\n",
      "Training Accuracy: 0.9569, Testing Accuracy: 0.9657\n",
      "\n"
     ]
    },
    {
     "name": "stdout",
     "output_type": "stream",
     "text": [
      "Epoch 160, Loss 0.0407\n",
      "Training Accuracy: 0.9574, Testing Accuracy: 0.9662\n",
      "\n"
     ]
    },
    {
     "name": "stdout",
     "output_type": "stream",
     "text": [
      "Epoch 170, Loss 0.04\n",
      "Training Accuracy: 0.9580, Testing Accuracy: 0.9662\n",
      "\n"
     ]
    },
    {
     "name": "stdout",
     "output_type": "stream",
     "text": [
      "Epoch 180, Loss 0.0395\n",
      "Training Accuracy: 0.9585, Testing Accuracy: 0.9667\n",
      "\n"
     ]
    },
    {
     "name": "stdout",
     "output_type": "stream",
     "text": [
      "Epoch 190, Loss 0.039\n",
      "Training Accuracy: 0.9590, Testing Accuracy: 0.9667\n",
      "\n"
     ]
    },
    {
     "name": "stdout",
     "output_type": "stream",
     "text": [
      "Epoch 200, Loss 0.0385\n",
      "Training Accuracy: 0.9594, Testing Accuracy: 0.9672\n",
      "\n"
     ]
    },
    {
     "name": "stdout",
     "output_type": "stream",
     "text": [
      "Epoch 210, Loss 0.0381\n",
      "Training Accuracy: 0.9596, Testing Accuracy: 0.9672\n",
      "\n"
     ]
    },
    {
     "name": "stdout",
     "output_type": "stream",
     "text": [
      "Epoch 220, Loss 0.0376\n",
      "Training Accuracy: 0.9599, Testing Accuracy: 0.9667\n",
      "\n"
     ]
    },
    {
     "name": "stdout",
     "output_type": "stream",
     "text": [
      "Epoch 230, Loss 0.0373\n",
      "Training Accuracy: 0.9604, Testing Accuracy: 0.9672\n",
      "\n"
     ]
    },
    {
     "name": "stdout",
     "output_type": "stream",
     "text": [
      "Epoch 240, Loss 0.0369\n",
      "Training Accuracy: 0.9606, Testing Accuracy: 0.9672\n",
      "\n"
     ]
    },
    {
     "name": "stdout",
     "output_type": "stream",
     "text": [
      "Epoch 250, Loss 0.0366\n",
      "Training Accuracy: 0.9609, Testing Accuracy: 0.9677\n",
      "\n"
     ]
    },
    {
     "data": {
      "text/plain": [
       "0.027604724632848104"
      ]
     },
     "execution_count": 22,
     "metadata": {},
     "output_type": "execute_result"
    }
   ],
   "source": [
    "print(\"====== Logistic Regression ======\")\n",
    "learner_lr.train_loop(dl)"
   ]
  },
  {
   "cell_type": "markdown",
   "metadata": {
    "papermill": {
     "duration": 0.048272,
     "end_time": "2021-01-16T10:35:38.557636",
     "exception": false,
     "start_time": "2021-01-16T10:35:38.509364",
     "status": "completed"
    },
    "tags": []
   },
   "source": [
    "### Comparing results of NN and LR"
   ]
  },
  {
   "cell_type": "code",
   "execution_count": 23,
   "metadata": {
    "execution": {
     "iopub.execute_input": "2021-01-16T10:35:38.660091Z",
     "iopub.status.busy": "2021-01-16T10:35:38.659510Z",
     "iopub.status.idle": "2021-01-16T10:35:38.916906Z",
     "shell.execute_reply": "2021-01-16T10:35:38.916406Z"
    },
    "papermill": {
     "duration": 0.310396,
     "end_time": "2021-01-16T10:35:38.917037",
     "exception": false,
     "start_time": "2021-01-16T10:35:38.606641",
     "status": "completed"
    },
    "tags": []
   },
   "outputs": [
    {
     "data": {
      "text/plain": [
       "<matplotlib.legend.Legend at 0x7f98cc13c278>"
      ]
     },
     "execution_count": 23,
     "metadata": {},
     "output_type": "execute_result"
    },
    {
     "data": {
      "image/png": "[encoded data removed]",
      "text/plain": [
       "<Figure size 1080x720 with 1 Axes>"
      ]
     },
     "metadata": {
      "needs_background": "light"
     },
     "output_type": "display_data"
    }
   ],
   "source": [
    "plt.figure(figsize=(15,10))\n",
    "\n",
    "# Neural Network plots\n",
    "plt.plot(acc_nn.accuracies, 'r-', label = \"Training Accuracies - NN\")\n",
    "plt.plot(acc_nn.test_accuracies, 'g-', label = \"Testing Accuracies - NN\")\n",
    "\n",
    "# Logistic Regression plots\n",
    "plt.plot(acc_lr.accuracies, 'k-', label = \"Training Accuracies - LR\")\n",
    "plt.plot(acc_lr.test_accuracies, 'b-', label = \"Testing Accuracies - LR\")\n",
    "\n",
    "plt.ylim(0.8, 1)\n",
    "\n",
    "plt.legend()\n",
    "\n"
   ]
  },
  {
   "cell_type": "markdown",
   "metadata": {
    "papermill": {
     "duration": 0.047289,
     "end_time": "2021-01-16T10:35:39.011775",
     "exception": false,
     "start_time": "2021-01-16T10:35:38.964486",
     "status": "completed"
    },
    "tags": []
   },
   "source": [
    "### From the plot, we can observe the following:\n",
    "- Neural Network achieves higher accuracy than the Logistic Regression model.\n",
    "- This apparently, is because of overfitting, i.e. NN captures more noise than data.\n",
    "- Testing accuracy of NN drops below the Training accuracy at higher epochs. This explains the over-fitting on training data.\n",
    "- Logistic Regression gives a reliable accuracy, without the above mentioned problem.\n"
   ]
  },
  {
   "cell_type": "markdown",
   "metadata": {
    "papermill": {
     "duration": 0.046149,
     "end_time": "2021-01-16T10:35:39.105222",
     "exception": false,
     "start_time": "2021-01-16T10:35:39.059073",
     "status": "completed"
    },
    "tags": []
   },
   "source": [
    "### Moving till the last but one layer (excluding it).\n",
    "#### Plotting the outputs of this layer of the NN."
   ]
  },
  {
   "cell_type": "code",
   "execution_count": 24,
   "metadata": {
    "execution": {
     "iopub.execute_input": "2021-01-16T10:35:39.210590Z",
     "iopub.status.busy": "2021-01-16T10:35:39.210007Z",
     "iopub.status.idle": "2021-01-16T10:35:39.215990Z",
     "shell.execute_reply": "2021-01-16T10:35:39.216458Z"
    },
    "papermill": {
     "duration": 0.06598,
     "end_time": "2021-01-16T10:35:39.216590",
     "exception": false,
     "start_time": "2021-01-16T10:35:39.150610",
     "status": "completed"
    },
    "tags": []
   },
   "outputs": [],
   "source": [
    "model_new = Model(layers[:-2])"
   ]
  },
  {
   "cell_type": "code",
   "execution_count": 25,
   "metadata": {
    "execution": {
     "iopub.execute_input": "2021-01-16T10:35:39.314691Z",
     "iopub.status.busy": "2021-01-16T10:35:39.314131Z",
     "iopub.status.idle": "2021-01-16T10:35:39.335679Z",
     "shell.execute_reply": "2021-01-16T10:35:39.336411Z"
    },
    "papermill": {
     "duration": 0.074396,
     "end_time": "2021-01-16T10:35:39.336562",
     "exception": false,
     "start_time": "2021-01-16T10:35:39.262166",
     "status": "completed"
    },
    "tags": []
   },
   "outputs": [],
   "source": [
    "plot_testing = model_new(testing_xdata)"
   ]
  },
  {
   "cell_type": "code",
   "execution_count": 26,
   "metadata": {
    "execution": {
     "iopub.execute_input": "2021-01-16T10:35:39.440193Z",
     "iopub.status.busy": "2021-01-16T10:35:39.439631Z",
     "iopub.status.idle": "2021-01-16T10:35:39.657070Z",
     "shell.execute_reply": "2021-01-16T10:35:39.656580Z"
    },
    "papermill": {
     "duration": 0.272477,
     "end_time": "2021-01-16T10:35:39.657198",
     "exception": false,
     "start_time": "2021-01-16T10:35:39.384721",
     "status": "completed"
    },
    "tags": []
   },
   "outputs": [
    {
     "data": {
      "text/plain": [
       "Text(0.5, 1.0, 'Outputs')"
      ]
     },
     "execution_count": 26,
     "metadata": {},
     "output_type": "execute_result"
    },
    {
     "data": {
      "image/png": "[encoded data removed]",
      "text/plain": [
       "<Figure size 576x504 with 1 Axes>"
      ]
     },
     "metadata": {
      "needs_background": "light"
     },
     "output_type": "display_data"
    }
   ],
   "source": [
    "plt.figure(figsize=(8,7))\n",
    "plt.scatter(plot_testing[:,0], plot_testing[:,1], alpha = 0.1, c = y_test.ravel());\n",
    "plt.title('Outputs')"
   ]
  },
  {
   "cell_type": "markdown",
   "metadata": {
    "papermill": {
     "duration": 0.050025,
     "end_time": "2021-01-16T10:35:39.754921",
     "exception": false,
     "start_time": "2021-01-16T10:35:39.704896",
     "status": "completed"
    },
    "tags": []
   },
   "source": [
    "### Plotting probability contours"
   ]
  },
  {
   "cell_type": "code",
   "execution_count": 27,
   "metadata": {
    "execution": {
     "iopub.execute_input": "2021-01-16T10:35:39.867016Z",
     "iopub.status.busy": "2021-01-16T10:35:39.866386Z",
     "iopub.status.idle": "2021-01-16T10:35:39.875192Z",
     "shell.execute_reply": "2021-01-16T10:35:39.875628Z"
    },
    "papermill": {
     "duration": 0.069488,
     "end_time": "2021-01-16T10:35:39.875765",
     "exception": false,
     "start_time": "2021-01-16T10:35:39.806277",
     "status": "completed"
    },
    "tags": []
   },
   "outputs": [],
   "source": [
    "model_prob = Model(layers[-2:]) "
   ]
  },
  {
   "cell_type": "code",
   "execution_count": 28,
   "metadata": {
    "execution": {
     "iopub.execute_input": "2021-01-16T10:35:39.994413Z",
     "iopub.status.busy": "2021-01-16T10:35:39.993704Z",
     "iopub.status.idle": "2021-01-16T10:35:40.007115Z",
     "shell.execute_reply": "2021-01-16T10:35:40.007544Z"
    },
    "papermill": {
     "duration": 0.08407,
     "end_time": "2021-01-16T10:35:40.007677",
     "exception": false,
     "start_time": "2021-01-16T10:35:39.923607",
     "status": "completed"
    },
    "tags": []
   },
   "outputs": [],
   "source": [
    "# Adjust the x and y ranges according to the above generated plot.\n",
    "x_range = np.linspace(-4, 1, 100) \n",
    "y_range = np.linspace(-6, 6, 100) \n",
    "x_grid, y_grid = np.meshgrid(x_range, y_range) # x_grid and y_grig are of size 100 X 100\n",
    "\n",
    "# converting x_grid and y_grid to continuous arrays\n",
    "x_grid_flat = np.ravel(x_grid)\n",
    "y_grid_flat = np.ravel(y_grid)\n",
    "\n",
    "# The last layer of the current model takes two columns as input. Hence transpose of np.vstack() is required.\n",
    "X = np.vstack((x_grid_flat, y_grid_flat)).T\n",
    "\n",
    "# x_grid and y_grid are of size 100 x 100\n",
    "probability_contour = model_prob(X).reshape(100,100) "
   ]
  },
  {
   "cell_type": "code",
   "execution_count": 29,
   "metadata": {
    "execution": {
     "iopub.execute_input": "2021-01-16T10:35:40.129578Z",
     "iopub.status.busy": "2021-01-16T10:35:40.128930Z",
     "iopub.status.idle": "2021-01-16T10:35:40.404237Z",
     "shell.execute_reply": "2021-01-16T10:35:40.403413Z"
    },
    "papermill": {
     "duration": 0.342367,
     "end_time": "2021-01-16T10:35:40.404378",
     "exception": false,
     "start_time": "2021-01-16T10:35:40.062011",
     "status": "completed"
    },
    "tags": []
   },
   "outputs": [
    {
     "data": {
      "image/png": "[encoded data removed]",
      "text/plain": [
       "<Figure size 720x648 with 1 Axes>"
      ]
     },
     "metadata": {
      "needs_background": "light"
     },
     "output_type": "display_data"
    }
   ],
   "source": [
    "plt.figure(figsize=(10,9))\n",
    "plt.scatter(plot_testing[:,0], plot_testing[:,1], alpha = 0.1, c = y_test.ravel())\n",
    "contours = plt.contour(x_grid,y_grid,probability_contour)\n",
    "plt.title('Probability Contours')\n",
    "plt.clabel(contours, inline = True );"
   ]
  }
 ],
 "metadata": {
  "kernelspec": {
   "display_name": "Python 3",
   "language": "python",
   "name": "python3"
  },
  "language_info": {
   "codemirror_mode": {
    "name": "ipython",
    "version": 3
   },
   "file_extension": ".py",
   "mimetype": "text/x-python",
   "name": "python",
   "nbconvert_exporter": "python",
   "pygments_lexer": "ipython3",
   "version": "3.6.12"
  },
  "papermill": {
   "duration": 155.96658,
   "end_time": "2021-01-16T10:35:40.765053",
   "environment_variables": {},
   "exception": null,
   "input_path": "2020-08-11-NeuralNetwork.ipynb",
   "output_path": "2020-08-11-NeuralNetwork.ipynb",
   "parameters": {},
   "start_time": "2021-01-16T10:33:04.798473",
   "version": "2.1.2"
  }
 },
 "nbformat": 4,
 "nbformat_minor": 4
}