{
 "cells": [
  {
   "cell_type": "markdown",
   "metadata": {
    "papermill": {
     "duration": 0.029891,
     "end_time": "2020-09-04T00:06:25.190823",
     "exception": false,
     "start_time": "2020-09-04T00:06:25.160932",
     "status": "completed"
    },
    "tags": []
   },
   "source": [
    "# \"A Basic Neural Network: Differentiate Hand-Written Digits\"\n",
    "\n",
    "- badges: true\n",
    "- author: Akshith Sriram"
   ]
  },
  {
   "cell_type": "markdown",
   "metadata": {
    "papermill": {
     "duration": 0.022818,
     "end_time": "2020-09-04T00:06:25.236989",
     "exception": false,
     "start_time": "2020-09-04T00:06:25.214171",
     "status": "completed"
    },
    "tags": []
   },
   "source": [
    "### Key Objectives:\n",
    "- Building a neural network that differentiates two hand-written digits 3 and 8.\n",
    "- Comparing the results of this Neural Network (NN) to that of a Logistic Regression (LR) model.\n",
    "\n",
    "### Requirements:\n",
    "- 'Kudzu' : A neural network library that was designed during our course by [Univ.AI](www.univ.ai). \n",
    "- MNIST Database\n",
    "\n",
    "If MNIST is not installed, use the command `!pip install mnist` given below.\n",
    "It can be run both from the command line and Jupyter Notebook."
   ]
  },
  {
   "cell_type": "code",
   "execution_count": 1,
   "metadata": {
    "execution": {
     "iopub.execute_input": "2020-09-04T00:06:25.287883Z",
     "iopub.status.busy": "2020-09-04T00:06:25.287272Z",
     "iopub.status.idle": "2020-09-04T00:06:26.722495Z",
     "shell.execute_reply": "2020-09-04T00:06:26.721234Z"
    },
    "papermill": {
     "duration": 1.46381,
     "end_time": "2020-09-04T00:06:26.722724",
     "exception": false,
     "start_time": "2020-09-04T00:06:25.258914",
     "status": "completed"
    },
    "tags": []
   },
   "outputs": [
    {
     "name": "stdout",
     "output_type": "stream",
     "text": [
      "Collecting mnist\r\n"
     ]
    },
    {
     "name": "stdout",
     "output_type": "stream",
     "text": [
      "  Downloading mnist-0.2.2-py2.py3-none-any.whl (3.5 kB)\r\n"
     ]
    },
    {
     "name": "stdout",
     "output_type": "stream",
     "text": [
      "Requirement already satisfied: numpy in /opt/hostedtoolcache/Python/3.6.12/x64/lib/python3.6/site-packages (from mnist) (1.19.1)\r\n"
     ]
    },
    {
     "name": "stdout",
     "output_type": "stream",
     "text": [
      "Installing collected packages: mnist\r\n",
      "Successfully installed mnist-0.2.2\r\n"
     ]
    }
   ],
   "source": [
    "!pip install mnist "
   ]
  },
  {
   "cell_type": "markdown",
   "metadata": {
    "papermill": {
     "duration": 0.023668,
     "end_time": "2020-09-04T00:06:26.773371",
     "exception": false,
     "start_time": "2020-09-04T00:06:26.749703",
     "status": "completed"
    },
    "tags": []
   },
   "source": [
    "#### Importing necessary libraries"
   ]
  },
  {
   "cell_type": "code",
   "execution_count": 2,
   "metadata": {
    "execution": {
     "iopub.execute_input": "2020-09-04T00:06:26.833217Z",
     "iopub.status.busy": "2020-09-04T00:06:26.832074Z",
     "iopub.status.idle": "2020-09-04T00:06:27.397586Z",
     "shell.execute_reply": "2020-09-04T00:06:27.396662Z"
    },
    "papermill": {
     "duration": 0.599787,
     "end_time": "2020-09-04T00:06:27.397726",
     "exception": false,
     "start_time": "2020-09-04T00:06:26.797939",
     "status": "completed"
    },
    "tags": []
   },
   "outputs": [],
   "source": [
    "%load_ext autoreload\n",
    "%autoreload 2\n",
    "\n",
    "%matplotlib inline\n",
    "import matplotlib.pyplot as plt\n",
    "\n",
    "import numpy as np\n",
    "import pandas as pd"
   ]
  },
  {
   "cell_type": "markdown",
   "metadata": {
    "papermill": {
     "duration": 0.024362,
     "end_time": "2020-09-04T00:06:27.447876",
     "exception": false,
     "start_time": "2020-09-04T00:06:27.423514",
     "status": "completed"
    },
    "tags": []
   },
   "source": [
    "### Preparing the Data"
   ]
  },
  {
   "cell_type": "code",
   "execution_count": 3,
   "metadata": {
    "execution": {
     "iopub.execute_input": "2020-09-04T00:06:27.504205Z",
     "iopub.status.busy": "2020-09-04T00:06:27.503772Z",
     "iopub.status.idle": "2020-09-04T00:06:27.513868Z",
     "shell.execute_reply": "2020-09-04T00:06:27.514543Z"
    },
    "papermill": {
     "duration": 0.043862,
     "end_time": "2020-09-04T00:06:27.514824",
     "exception": false,
     "start_time": "2020-09-04T00:06:27.470962",
     "status": "completed"
    },
    "tags": []
   },
   "outputs": [],
   "source": [
    "import mnist"
   ]
  },
  {
   "cell_type": "code",
   "execution_count": 4,
   "metadata": {
    "execution": {
     "iopub.execute_input": "2020-09-04T00:06:28.368970Z",
     "iopub.status.busy": "2020-09-04T00:06:28.367905Z",
     "iopub.status.idle": "2020-09-04T00:06:29.316559Z",
     "shell.execute_reply": "2020-09-04T00:06:29.315409Z"
    },
    "papermill": {
     "duration": 1.778635,
     "end_time": "2020-09-04T00:06:29.316691",
     "exception": false,
     "start_time": "2020-09-04T00:06:27.538056",
     "status": "completed"
    },
    "tags": []
   },
   "outputs": [],
   "source": [
    "train_images = mnist.train_images()\n",
    "train_labels = mnist.train_labels()"
   ]
  },
  {
   "cell_type": "code",
   "execution_count": 5,
   "metadata": {
    "execution": {
     "iopub.execute_input": "2020-09-04T00:06:29.371409Z",
     "iopub.status.busy": "2020-09-04T00:06:29.370307Z",
     "iopub.status.idle": "2020-09-04T00:06:29.383958Z",
     "shell.execute_reply": "2020-09-04T00:06:29.383486Z"
    },
    "papermill": {
     "duration": 0.041492,
     "end_time": "2020-09-04T00:06:29.384074",
     "exception": false,
     "start_time": "2020-09-04T00:06:29.342582",
     "status": "completed"
    },
    "tags": []
   },
   "outputs": [
    {
     "data": {
      "text/plain": [
       "((60000, 28, 28), (60000,))"
      ]
     },
     "execution_count": 5,
     "metadata": {},
     "output_type": "execute_result"
    }
   ],
   "source": [
    "train_images.shape, train_labels.shape"
   ]
  },
  {
   "cell_type": "code",
   "execution_count": 6,
   "metadata": {
    "execution": {
     "iopub.execute_input": "2020-09-04T00:06:29.436475Z",
     "iopub.status.busy": "2020-09-04T00:06:29.435935Z",
     "iopub.status.idle": "2020-09-04T00:06:29.706235Z",
     "shell.execute_reply": "2020-09-04T00:06:29.706825Z"
    },
    "papermill": {
     "duration": 0.298934,
     "end_time": "2020-09-04T00:06:29.706992",
     "exception": false,
     "start_time": "2020-09-04T00:06:29.408058",
     "status": "completed"
    },
    "tags": []
   },
   "outputs": [],
   "source": [
    "test_images = mnist.test_images()\n",
    "test_labels = mnist.test_labels()"
   ]
  },
  {
   "cell_type": "code",
   "execution_count": 7,
   "metadata": {
    "execution": {
     "iopub.execute_input": "2020-09-04T00:06:29.762353Z",
     "iopub.status.busy": "2020-09-04T00:06:29.761667Z",
     "iopub.status.idle": "2020-09-04T00:06:29.775829Z",
     "shell.execute_reply": "2020-09-04T00:06:29.775292Z"
    },
    "papermill": {
     "duration": 0.04359,
     "end_time": "2020-09-04T00:06:29.775957",
     "exception": false,
     "start_time": "2020-09-04T00:06:29.732367",
     "status": "completed"
    },
    "tags": []
   },
   "outputs": [
    {
     "data": {
      "text/plain": [
       "((10000, 28, 28), (10000,))"
      ]
     },
     "execution_count": 7,
     "metadata": {},
     "output_type": "execute_result"
    }
   ],
   "source": [
    "test_images.shape, test_labels.shape"
   ]
  },
  {
   "cell_type": "code",
   "execution_count": 8,
   "metadata": {
    "execution": {
     "iopub.execute_input": "2020-09-04T00:06:29.827898Z",
     "iopub.status.busy": "2020-09-04T00:06:29.827008Z",
     "iopub.status.idle": "2020-09-04T00:06:29.963782Z",
     "shell.execute_reply": "2020-09-04T00:06:29.963291Z"
    },
    "papermill": {
     "duration": 0.163394,
     "end_time": "2020-09-04T00:06:29.963916",
     "exception": false,
     "start_time": "2020-09-04T00:06:29.800522",
     "status": "completed"
    },
    "tags": []
   },
   "outputs": [
    {
     "name": "stdout",
     "output_type": "stream",
     "text": [
      "2\n"
     ]
    },
    {
     "data": {
      "text/plain": [
       "<matplotlib.image.AxesImage at 0x7f321e72cb38>"
      ]
     },
     "execution_count": 8,
     "metadata": {},
     "output_type": "execute_result"
    },
    {
     "data": {
      "image/png": "[encoded data removed]",
      "text/plain": [
       "<Figure size 432x288 with 1 Axes>"
      ]
     },
     "metadata": {
      "needs_background": "light"
     },
     "output_type": "display_data"
    }
   ],
   "source": [
    "image_index = 7776 # You may select anything up to 60,000\n",
    "print(train_labels[image_index]) \n",
    "plt.imshow(train_images[image_index], cmap='Greys')"
   ]
  },
  {
   "cell_type": "markdown",
   "metadata": {
    "papermill": {
     "duration": 0.024726,
     "end_time": "2020-09-04T00:06:30.013440",
     "exception": false,
     "start_time": "2020-09-04T00:06:29.988714",
     "status": "completed"
    },
    "tags": []
   },
   "source": [
    "## Filter data to get 3 and 8 out"
   ]
  },
  {
   "cell_type": "code",
   "execution_count": 9,
   "metadata": {
    "execution": {
     "iopub.execute_input": "2020-09-04T00:06:30.069265Z",
     "iopub.status.busy": "2020-09-04T00:06:30.068224Z",
     "iopub.status.idle": "2020-09-04T00:06:30.085936Z",
     "shell.execute_reply": "2020-09-04T00:06:30.085231Z"
    },
    "papermill": {
     "duration": 0.047404,
     "end_time": "2020-09-04T00:06:30.086098",
     "exception": false,
     "start_time": "2020-09-04T00:06:30.038694",
     "status": "completed"
    },
    "tags": []
   },
   "outputs": [],
   "source": [
    "train_filter = np.where((train_labels == 3 ) | (train_labels == 8))\n",
    "test_filter = np.where((test_labels == 3) | (test_labels == 8))\n",
    "X_train, y_train = train_images[train_filter], train_labels[train_filter]\n",
    "X_test, y_test = test_images[test_filter], test_labels[test_filter]"
   ]
  },
  {
   "cell_type": "markdown",
   "metadata": {
    "papermill": {
     "duration": 0.023621,
     "end_time": "2020-09-04T00:06:30.139466",
     "exception": false,
     "start_time": "2020-09-04T00:06:30.115845",
     "status": "completed"
    },
    "tags": []
   },
   "source": [
    "We normalize the pixel values in the 0 to 1 range"
   ]
  },
  {
   "cell_type": "code",
   "execution_count": 10,
   "metadata": {
    "execution": {
     "iopub.execute_input": "2020-09-04T00:06:30.195899Z",
     "iopub.status.busy": "2020-09-04T00:06:30.194812Z",
     "iopub.status.idle": "2020-09-04T00:06:30.248183Z",
     "shell.execute_reply": "2020-09-04T00:06:30.247311Z"
    },
    "papermill": {
     "duration": 0.083518,
     "end_time": "2020-09-04T00:06:30.248408",
     "exception": false,
     "start_time": "2020-09-04T00:06:30.164890",
     "status": "completed"
    },
    "tags": []
   },
   "outputs": [],
   "source": [
    "X_train = X_train/255.\n",
    "X_test = X_test/255."
   ]
  },
  {
   "cell_type": "markdown",
   "metadata": {
    "papermill": {
     "duration": 0.025391,
     "end_time": "2020-09-04T00:06:30.303362",
     "exception": false,
     "start_time": "2020-09-04T00:06:30.277971",
     "status": "completed"
    },
    "tags": []
   },
   "source": [
    "Setup the labels as 1 (when the digit is 3) and 0 (when the digit is 8)"
   ]
  },
  {
   "cell_type": "code",
   "execution_count": 11,
   "metadata": {
    "execution": {
     "iopub.execute_input": "2020-09-04T00:06:30.357746Z",
     "iopub.status.busy": "2020-09-04T00:06:30.357206Z",
     "iopub.status.idle": "2020-09-04T00:06:30.372899Z",
     "shell.execute_reply": "2020-09-04T00:06:30.373292Z"
    },
    "papermill": {
     "duration": 0.044764,
     "end_time": "2020-09-04T00:06:30.373412",
     "exception": false,
     "start_time": "2020-09-04T00:06:30.328648",
     "status": "completed"
    },
    "tags": []
   },
   "outputs": [],
   "source": [
    "y_train = 1*(y_train==3)\n",
    "y_test = 1*(y_test==3)"
   ]
  },
  {
   "cell_type": "code",
   "execution_count": 12,
   "metadata": {
    "execution": {
     "iopub.execute_input": "2020-09-04T00:06:30.429772Z",
     "iopub.status.busy": "2020-09-04T00:06:30.429296Z",
     "iopub.status.idle": "2020-09-04T00:06:30.441951Z",
     "shell.execute_reply": "2020-09-04T00:06:30.442266Z"
    },
    "papermill": {
     "duration": 0.042777,
     "end_time": "2020-09-04T00:06:30.442371",
     "exception": false,
     "start_time": "2020-09-04T00:06:30.399594",
     "status": "completed"
    },
    "tags": []
   },
   "outputs": [
    {
     "data": {
      "text/plain": [
       "((11982, 28, 28), (1984, 28, 28))"
      ]
     },
     "execution_count": 12,
     "metadata": {},
     "output_type": "execute_result"
    }
   ],
   "source": [
    "X_train.shape, X_test.shape"
   ]
  },
  {
   "cell_type": "markdown",
   "metadata": {
    "papermill": {
     "duration": 0.024773,
     "end_time": "2020-09-04T00:06:30.490524",
     "exception": false,
     "start_time": "2020-09-04T00:06:30.465751",
     "status": "completed"
    },
    "tags": []
   },
   "source": [
    "### Reshape the input data to create a linear array"
   ]
  },
  {
   "cell_type": "code",
   "execution_count": 13,
   "metadata": {
    "execution": {
     "iopub.execute_input": "2020-09-04T00:06:30.545098Z",
     "iopub.status.busy": "2020-09-04T00:06:30.544620Z",
     "iopub.status.idle": "2020-09-04T00:06:30.559195Z",
     "shell.execute_reply": "2020-09-04T00:06:30.559650Z"
    },
    "papermill": {
     "duration": 0.044361,
     "end_time": "2020-09-04T00:06:30.559791",
     "exception": false,
     "start_time": "2020-09-04T00:06:30.515430",
     "status": "completed"
    },
    "tags": []
   },
   "outputs": [
    {
     "data": {
      "text/plain": [
       "((11982, 784), (1984, 784))"
      ]
     },
     "execution_count": 13,
     "metadata": {},
     "output_type": "execute_result"
    }
   ],
   "source": [
    "X_train = X_train.reshape(X_train.shape[0], -1)\n",
    "X_test = X_test.reshape(X_test.shape[0], -1)\n",
    "X_train.shape, X_test.shape"
   ]
  },
  {
   "cell_type": "markdown",
   "metadata": {
    "papermill": {
     "duration": 0.025204,
     "end_time": "2020-09-04T00:06:30.609374",
     "exception": false,
     "start_time": "2020-09-04T00:06:30.584170",
     "status": "completed"
    },
    "tags": []
   },
   "source": [
    "### Importing appropriate functions from 'Kudzu'"
   ]
  },
  {
   "cell_type": "code",
   "execution_count": 14,
   "metadata": {
    "execution": {
     "iopub.execute_input": "2020-09-04T00:06:30.670576Z",
     "iopub.status.busy": "2020-09-04T00:06:30.670084Z",
     "iopub.status.idle": "2020-09-04T00:06:30.689759Z",
     "shell.execute_reply": "2020-09-04T00:06:30.690212Z"
    },
    "papermill": {
     "duration": 0.056319,
     "end_time": "2020-09-04T00:06:30.690343",
     "exception": false,
     "start_time": "2020-09-04T00:06:30.634024",
     "status": "completed"
    },
    "tags": []
   },
   "outputs": [],
   "source": [
    "from kudzu.layer import Sigmoid\n",
    "from kudzu.layer import Relu\n",
    "from kudzu.layer import Affine, Sigmoid\n",
    "\n",
    "from kudzu.model import Model\n",
    "from kudzu.train import Learner\n",
    "from kudzu.optim import GD\n",
    "from kudzu.data import Data, Dataloader, Sampler\n",
    "\n",
    "from kudzu.callbacks import AccCallback\n",
    "from kudzu.callbacks import ClfCallback\n",
    "\n",
    "from kudzu.loss import MSE"
   ]
  },
  {
   "cell_type": "markdown",
   "metadata": {
    "papermill": {
     "duration": 0.025808,
     "end_time": "2020-09-04T00:06:30.739711",
     "exception": false,
     "start_time": "2020-09-04T00:06:30.713903",
     "status": "completed"
    },
    "tags": []
   },
   "source": [
    "### Let us create a `Config` class, to store important parameters. \n",
    "This class essentially plays the role of a dictionary."
   ]
  },
  {
   "cell_type": "code",
   "execution_count": 15,
   "metadata": {
    "execution": {
     "iopub.execute_input": "2020-09-04T00:06:30.794052Z",
     "iopub.status.busy": "2020-09-04T00:06:30.793536Z",
     "iopub.status.idle": "2020-09-04T00:06:30.804917Z",
     "shell.execute_reply": "2020-09-04T00:06:30.804458Z"
    },
    "papermill": {
     "duration": 0.040884,
     "end_time": "2020-09-04T00:06:30.805034",
     "exception": false,
     "start_time": "2020-09-04T00:06:30.764150",
     "status": "completed"
    },
    "tags": []
   },
   "outputs": [],
   "source": [
    "class Config:\n",
    "    pass\n",
    "config = Config()\n",
    "config.lr = 0.001\n",
    "config.num_epochs = 251\n",
    "config.bs = 50"
   ]
  },
  {
   "cell_type": "markdown",
   "metadata": {
    "papermill": {
     "duration": 0.026125,
     "end_time": "2020-09-04T00:06:30.856376",
     "exception": false,
     "start_time": "2020-09-04T00:06:30.830251",
     "status": "completed"
    },
    "tags": []
   },
   "source": [
    "### Initializing data to the variables"
   ]
  },
  {
   "cell_type": "code",
   "execution_count": 16,
   "metadata": {
    "execution": {
     "iopub.execute_input": "2020-09-04T00:06:30.920463Z",
     "iopub.status.busy": "2020-09-04T00:06:30.919913Z",
     "iopub.status.idle": "2020-09-04T00:06:30.933105Z",
     "shell.execute_reply": "2020-09-04T00:06:30.932608Z"
    },
    "papermill": {
     "duration": 0.051181,
     "end_time": "2020-09-04T00:06:30.933224",
     "exception": false,
     "start_time": "2020-09-04T00:06:30.882043",
     "status": "completed"
    },
    "tags": []
   },
   "outputs": [],
   "source": [
    "data = Data(X_train, y_train.reshape(-1,1))\n",
    "sampler = Sampler(data, config.bs, shuffle=True)\n",
    "\n",
    "dl = Dataloader(data, sampler)\n",
    "\n",
    "opt = GD(config.lr)\n",
    "loss = MSE()"
   ]
  },
  {
   "cell_type": "code",
   "execution_count": 17,
   "metadata": {
    "execution": {
     "iopub.execute_input": "2020-09-04T00:06:30.990395Z",
     "iopub.status.busy": "2020-09-04T00:06:30.989857Z",
     "iopub.status.idle": "2020-09-04T00:06:31.003305Z",
     "shell.execute_reply": "2020-09-04T00:06:31.003778Z"
    },
    "papermill": {
     "duration": 0.044631,
     "end_time": "2020-09-04T00:06:31.003889",
     "exception": false,
     "start_time": "2020-09-04T00:06:30.959258",
     "status": "completed"
    },
    "tags": []
   },
   "outputs": [],
   "source": [
    "training_xdata = X_train\n",
    "testing_xdata = X_test\n",
    "training_ydata = y_train.reshape(-1,1)\n",
    "testing_ydata = y_test.reshape(-1,1)"
   ]
  },
  {
   "cell_type": "markdown",
   "metadata": {
    "papermill": {
     "duration": 0.02432,
     "end_time": "2020-09-04T00:06:31.053260",
     "exception": false,
     "start_time": "2020-09-04T00:06:31.028940",
     "status": "completed"
    },
    "tags": []
   },
   "source": [
    "### Running Models with the Training data\n",
    "Details about the network layers:\n",
    "- A first affine layer has 784 inputs and does 100 affine transforms. These are followed by a Relu\n",
    "- A second affine layer has 100 inputs from the 100 activations of the past layer, and does 100 affine transforms. These are followed by a Relu\n",
    "- A third affine layer has 100 activations and does 2 affine transformations to create an embedding for visualization. There is no non-linearity here.\n",
    "- A final \"logistic regression\" which has an affine transform from 2 inputs to 1 output, which is squeezed through a sigmoid.\n",
    "\n",
    "Help taken from Anshuman's Notebook."
   ]
  },
  {
   "cell_type": "code",
   "execution_count": 18,
   "metadata": {
    "execution": {
     "iopub.execute_input": "2020-09-04T00:06:31.107207Z",
     "iopub.status.busy": "2020-09-04T00:06:31.106698Z",
     "iopub.status.idle": "2020-09-04T00:06:31.122142Z",
     "shell.execute_reply": "2020-09-04T00:06:31.121691Z"
    },
    "papermill": {
     "duration": 0.04443,
     "end_time": "2020-09-04T00:06:31.122239",
     "exception": false,
     "start_time": "2020-09-04T00:06:31.077809",
     "status": "completed"
    },
    "tags": []
   },
   "outputs": [],
   "source": [
    "# layers for the Neural Network\n",
    "layers = [Affine(\"first\", 784, 100), Relu(\"first\"), Affine(\"second\", 100, 100), Relu(\"second\"), Affine(\"third\", 100, 2), Affine(\"final\", 2, 1), Sigmoid(\"final\")]\n",
    "model_nn = Model(layers)\n",
    "\n",
    "# layers for the Logistic Regression\n",
    "layers_lr = [Affine(\"logits\", 784, 1), Sigmoid(\"sigmoid\")]\n",
    "model_lr = Model(layers_lr)"
   ]
  },
  {
   "cell_type": "code",
   "execution_count": 19,
   "metadata": {
    "execution": {
     "iopub.execute_input": "2020-09-04T00:06:31.183735Z",
     "iopub.status.busy": "2020-09-04T00:06:31.175526Z",
     "iopub.status.idle": "2020-09-04T00:06:31.185674Z",
     "shell.execute_reply": "2020-09-04T00:06:31.185293Z"
    },
    "papermill": {
     "duration": 0.039078,
     "end_time": "2020-09-04T00:06:31.185799",
     "exception": false,
     "start_time": "2020-09-04T00:06:31.146721",
     "status": "completed"
    },
    "tags": []
   },
   "outputs": [],
   "source": [
    "# suffix _nn stands for Neural Network.\n",
    "learner_nn = Learner(loss, model_nn, opt, config.num_epochs)\n",
    "acc_nn = ClfCallback(learner_nn, config.bs, training_xdata , testing_xdata, training_ydata, testing_ydata)\n",
    "learner_nn.set_callbacks([acc_nn])"
   ]
  },
  {
   "cell_type": "code",
   "execution_count": 20,
   "metadata": {
    "execution": {
     "iopub.execute_input": "2020-09-04T00:06:31.239898Z",
     "iopub.status.busy": "2020-09-04T00:06:31.239476Z",
     "iopub.status.idle": "2020-09-04T00:07:53.594266Z",
     "shell.execute_reply": "2020-09-04T00:07:53.595041Z"
    },
    "papermill": {
     "duration": 82.383696,
     "end_time": "2020-09-04T00:07:53.595216",
     "exception": false,
     "start_time": "2020-09-04T00:06:31.211520",
     "status": "completed"
    },
    "tags": []
   },
   "outputs": [
    {
     "name": "stdout",
     "output_type": "stream",
     "text": [
      "====== Neural Network ======\n"
     ]
    },
    {
     "name": "stdout",
     "output_type": "stream",
     "text": [
      "Epoch 0, Loss 0.2541\n",
      "Training Accuracy: 0.5896, Testing Accuracy: 0.5776\n",
      "\n"
     ]
    },
    {
     "name": "stdout",
     "output_type": "stream",
     "text": [
      "Epoch 10, Loss 0.1109\n",
      "Training Accuracy: 0.8997, Testing Accuracy: 0.9113\n",
      "\n"
     ]
    },
    {
     "name": "stdout",
     "output_type": "stream",
     "text": [
      "Epoch 20, Loss 0.0629\n",
      "Training Accuracy: 0.9342, Testing Accuracy: 0.9400\n",
      "\n"
     ]
    },
    {
     "name": "stdout",
     "output_type": "stream",
     "text": [
      "Epoch 30, Loss 0.0473\n",
      "Training Accuracy: 0.9482, Testing Accuracy: 0.9572\n",
      "\n"
     ]
    },
    {
     "name": "stdout",
     "output_type": "stream",
     "text": [
      "Epoch 40, Loss 0.04\n",
      "Training Accuracy: 0.9561, Testing Accuracy: 0.9612\n",
      "\n"
     ]
    },
    {
     "name": "stdout",
     "output_type": "stream",
     "text": [
      "Epoch 50, Loss 0.0358\n",
      "Training Accuracy: 0.9604, Testing Accuracy: 0.9622\n",
      "\n"
     ]
    },
    {
     "name": "stdout",
     "output_type": "stream",
     "text": [
      "Epoch 60, Loss 0.0328\n",
      "Training Accuracy: 0.9624, Testing Accuracy: 0.9627\n",
      "\n"
     ]
    },
    {
     "name": "stdout",
     "output_type": "stream",
     "text": [
      "Epoch 70, Loss 0.0307\n",
      "Training Accuracy: 0.9642, Testing Accuracy: 0.9627\n",
      "\n"
     ]
    },
    {
     "name": "stdout",
     "output_type": "stream",
     "text": [
      "Epoch 80, Loss 0.029\n",
      "Training Accuracy: 0.9663, Testing Accuracy: 0.9647\n",
      "\n"
     ]
    },
    {
     "name": "stdout",
     "output_type": "stream",
     "text": [
      "Epoch 90, Loss 0.0276\n",
      "Training Accuracy: 0.9678, Testing Accuracy: 0.9667\n",
      "\n"
     ]
    },
    {
     "name": "stdout",
     "output_type": "stream",
     "text": [
      "Epoch 100, Loss 0.0264\n",
      "Training Accuracy: 0.9690, Testing Accuracy: 0.9677\n",
      "\n"
     ]
    },
    {
     "name": "stdout",
     "output_type": "stream",
     "text": [
      "Epoch 110, Loss 0.0254\n",
      "Training Accuracy: 0.9707, Testing Accuracy: 0.9672\n",
      "\n"
     ]
    },
    {
     "name": "stdout",
     "output_type": "stream",
     "text": [
      "Epoch 120, Loss 0.0245\n",
      "Training Accuracy: 0.9720, Testing Accuracy: 0.9688\n",
      "\n"
     ]
    },
    {
     "name": "stdout",
     "output_type": "stream",
     "text": [
      "Epoch 130, Loss 0.0237\n",
      "Training Accuracy: 0.9728, Testing Accuracy: 0.9688\n",
      "\n"
     ]
    },
    {
     "name": "stdout",
     "output_type": "stream",
     "text": [
      "Epoch 140, Loss 0.023\n",
      "Training Accuracy: 0.9735, Testing Accuracy: 0.9698\n",
      "\n"
     ]
    },
    {
     "name": "stdout",
     "output_type": "stream",
     "text": [
      "Epoch 150, Loss 0.0223\n",
      "Training Accuracy: 0.9745, Testing Accuracy: 0.9713\n",
      "\n"
     ]
    },
    {
     "name": "stdout",
     "output_type": "stream",
     "text": [
      "Epoch 160, Loss 0.0217\n",
      "Training Accuracy: 0.9755, Testing Accuracy: 0.9718\n",
      "\n"
     ]
    },
    {
     "name": "stdout",
     "output_type": "stream",
     "text": [
      "Epoch 170, Loss 0.0211\n",
      "Training Accuracy: 0.9760, Testing Accuracy: 0.9728\n",
      "\n"
     ]
    },
    {
     "name": "stdout",
     "output_type": "stream",
     "text": [
      "Epoch 180, Loss 0.0205\n",
      "Training Accuracy: 0.9765, Testing Accuracy: 0.9718\n",
      "\n"
     ]
    },
    {
     "name": "stdout",
     "output_type": "stream",
     "text": [
      "Epoch 190, Loss 0.02\n",
      "Training Accuracy: 0.9770, Testing Accuracy: 0.9718\n",
      "\n"
     ]
    },
    {
     "name": "stdout",
     "output_type": "stream",
     "text": [
      "Epoch 200, Loss 0.0195\n",
      "Training Accuracy: 0.9773, Testing Accuracy: 0.9723\n",
      "\n"
     ]
    },
    {
     "name": "stdout",
     "output_type": "stream",
     "text": [
      "Epoch 210, Loss 0.019\n",
      "Training Accuracy: 0.9775, Testing Accuracy: 0.9723\n",
      "\n"
     ]
    },
    {
     "name": "stdout",
     "output_type": "stream",
     "text": [
      "Epoch 220, Loss 0.0186\n",
      "Training Accuracy: 0.9786, Testing Accuracy: 0.9728\n",
      "\n"
     ]
    },
    {
     "name": "stdout",
     "output_type": "stream",
     "text": [
      "Epoch 230, Loss 0.0182\n",
      "Training Accuracy: 0.9794, Testing Accuracy: 0.9728\n",
      "\n"
     ]
    },
    {
     "name": "stdout",
     "output_type": "stream",
     "text": [
      "Epoch 240, Loss 0.0178\n",
      "Training Accuracy: 0.9797, Testing Accuracy: 0.9728\n",
      "\n"
     ]
    },
    {
     "name": "stdout",
     "output_type": "stream",
     "text": [
      "Epoch 250, Loss 0.0174\n",
      "Training Accuracy: 0.9801, Testing Accuracy: 0.9738\n",
      "\n"
     ]
    },
    {
     "data": {
      "text/plain": [
       "0.02114825910110418"
      ]
     },
     "execution_count": 20,
     "metadata": {},
     "output_type": "execute_result"
    }
   ],
   "source": [
    "print(\"====== Neural Network ======\")\n",
    "learner_nn.train_loop(dl)"
   ]
  },
  {
   "cell_type": "markdown",
   "metadata": {
    "papermill": {
     "duration": 0.034394,
     "end_time": "2020-09-04T00:07:53.666245",
     "exception": false,
     "start_time": "2020-09-04T00:07:53.631851",
     "status": "completed"
    },
    "tags": []
   },
   "source": [
    "### Logistic Regression based Implementation."
   ]
  },
  {
   "cell_type": "code",
   "execution_count": 21,
   "metadata": {
    "execution": {
     "iopub.execute_input": "2020-09-04T00:07:53.740467Z",
     "iopub.status.busy": "2020-09-04T00:07:53.739862Z",
     "iopub.status.idle": "2020-09-04T00:07:53.749558Z",
     "shell.execute_reply": "2020-09-04T00:07:53.749087Z"
    },
    "papermill": {
     "duration": 0.051153,
     "end_time": "2020-09-04T00:07:53.749686",
     "exception": false,
     "start_time": "2020-09-04T00:07:53.698533",
     "status": "completed"
    },
    "tags": []
   },
   "outputs": [],
   "source": [
    "learner_lr = Learner(loss, model_lr, opt, config.num_epochs)\n",
    "acc_lr = ClfCallback(learner_lr, config.bs, training_xdata , testing_xdata, training_ydata, testing_ydata)\n",
    "learner_lr.set_callbacks([acc_lr])"
   ]
  },
  {
   "cell_type": "code",
   "execution_count": 22,
   "metadata": {
    "execution": {
     "iopub.execute_input": "2020-09-04T00:07:53.821701Z",
     "iopub.status.busy": "2020-09-04T00:07:53.821149Z",
     "iopub.status.idle": "2020-09-04T00:08:08.837239Z",
     "shell.execute_reply": "2020-09-04T00:08:08.837950Z"
    },
    "papermill": {
     "duration": 15.05374,
     "end_time": "2020-09-04T00:08:08.838093",
     "exception": false,
     "start_time": "2020-09-04T00:07:53.784353",
     "status": "completed"
    },
    "tags": []
   },
   "outputs": [
    {
     "name": "stdout",
     "output_type": "stream",
     "text": [
      "====== Logistic Regression ======\n",
      "Epoch 0, Loss 0.2603\n",
      "Training Accuracy: 0.6073, Testing Accuracy: 0.6099\n",
      "\n"
     ]
    },
    {
     "name": "stdout",
     "output_type": "stream",
     "text": [
      "Epoch 10, Loss 0.1012\n",
      "Training Accuracy: 0.9165, Testing Accuracy: 0.9294\n",
      "\n"
     ]
    },
    {
     "name": "stdout",
     "output_type": "stream",
     "text": [
      "Epoch 20, Loss 0.0778\n",
      "Training Accuracy: 0.9303, Testing Accuracy: 0.9410\n",
      "\n"
     ]
    },
    {
     "name": "stdout",
     "output_type": "stream",
     "text": [
      "Epoch 30, Loss 0.0672\n",
      "Training Accuracy: 0.9367, Testing Accuracy: 0.9496\n",
      "\n"
     ]
    },
    {
     "name": "stdout",
     "output_type": "stream",
     "text": [
      "Epoch 40, Loss 0.0608\n",
      "Training Accuracy: 0.9425, Testing Accuracy: 0.9516\n",
      "\n"
     ]
    },
    {
     "name": "stdout",
     "output_type": "stream",
     "text": [
      "Epoch 50, Loss 0.0564\n",
      "Training Accuracy: 0.9449, Testing Accuracy: 0.9551\n",
      "\n"
     ]
    },
    {
     "name": "stdout",
     "output_type": "stream",
     "text": [
      "Epoch 60, Loss 0.0532\n",
      "Training Accuracy: 0.9470, Testing Accuracy: 0.9577\n",
      "\n"
     ]
    },
    {
     "name": "stdout",
     "output_type": "stream",
     "text": [
      "Epoch 70, Loss 0.0507\n",
      "Training Accuracy: 0.9481, Testing Accuracy: 0.9602\n",
      "\n"
     ]
    },
    {
     "name": "stdout",
     "output_type": "stream",
     "text": [
      "Epoch 80, Loss 0.0487\n",
      "Training Accuracy: 0.9501, Testing Accuracy: 0.9607\n",
      "\n"
     ]
    },
    {
     "name": "stdout",
     "output_type": "stream",
     "text": [
      "Epoch 90, Loss 0.0471\n",
      "Training Accuracy: 0.9523, Testing Accuracy: 0.9617\n",
      "\n"
     ]
    },
    {
     "name": "stdout",
     "output_type": "stream",
     "text": [
      "Epoch 100, Loss 0.0457\n",
      "Training Accuracy: 0.9529, Testing Accuracy: 0.9637\n",
      "\n"
     ]
    },
    {
     "name": "stdout",
     "output_type": "stream",
     "text": [
      "Epoch 110, Loss 0.0445\n",
      "Training Accuracy: 0.9544, Testing Accuracy: 0.9647\n",
      "\n"
     ]
    },
    {
     "name": "stdout",
     "output_type": "stream",
     "text": [
      "Epoch 120, Loss 0.0435\n",
      "Training Accuracy: 0.9550, Testing Accuracy: 0.9652\n",
      "\n"
     ]
    },
    {
     "name": "stdout",
     "output_type": "stream",
     "text": [
      "Epoch 130, Loss 0.0426\n",
      "Training Accuracy: 0.9562, Testing Accuracy: 0.9657\n",
      "\n"
     ]
    },
    {
     "name": "stdout",
     "output_type": "stream",
     "text": [
      "Epoch 140, Loss 0.0418\n",
      "Training Accuracy: 0.9569, Testing Accuracy: 0.9662\n",
      "\n"
     ]
    },
    {
     "name": "stdout",
     "output_type": "stream",
     "text": [
      "Epoch 150, Loss 0.041\n",
      "Training Accuracy: 0.9573, Testing Accuracy: 0.9667\n",
      "\n"
     ]
    },
    {
     "name": "stdout",
     "output_type": "stream",
     "text": [
      "Epoch 160, Loss 0.0404\n",
      "Training Accuracy: 0.9575, Testing Accuracy: 0.9662\n",
      "\n"
     ]
    },
    {
     "name": "stdout",
     "output_type": "stream",
     "text": [
      "Epoch 170, Loss 0.0398\n",
      "Training Accuracy: 0.9582, Testing Accuracy: 0.9667\n",
      "\n"
     ]
    },
    {
     "name": "stdout",
     "output_type": "stream",
     "text": [
      "Epoch 180, Loss 0.0392\n",
      "Training Accuracy: 0.9586, Testing Accuracy: 0.9662\n",
      "\n"
     ]
    },
    {
     "name": "stdout",
     "output_type": "stream",
     "text": [
      "Epoch 190, Loss 0.0387\n",
      "Training Accuracy: 0.9589, Testing Accuracy: 0.9662\n",
      "\n"
     ]
    },
    {
     "name": "stdout",
     "output_type": "stream",
     "text": [
      "Epoch 200, Loss 0.0383\n",
      "Training Accuracy: 0.9593, Testing Accuracy: 0.9672\n",
      "\n"
     ]
    },
    {
     "name": "stdout",
     "output_type": "stream",
     "text": [
      "Epoch 210, Loss 0.0378\n",
      "Training Accuracy: 0.9597, Testing Accuracy: 0.9672\n",
      "\n"
     ]
    },
    {
     "name": "stdout",
     "output_type": "stream",
     "text": [
      "Epoch 220, Loss 0.0374\n",
      "Training Accuracy: 0.9599, Testing Accuracy: 0.9677\n",
      "\n"
     ]
    },
    {
     "name": "stdout",
     "output_type": "stream",
     "text": [
      "Epoch 230, Loss 0.037\n",
      "Training Accuracy: 0.9604, Testing Accuracy: 0.9677\n",
      "\n"
     ]
    },
    {
     "name": "stdout",
     "output_type": "stream",
     "text": [
      "Epoch 240, Loss 0.0367\n",
      "Training Accuracy: 0.9607, Testing Accuracy: 0.9677\n",
      "\n"
     ]
    },
    {
     "name": "stdout",
     "output_type": "stream",
     "text": [
      "Epoch 250, Loss 0.0364\n",
      "Training Accuracy: 0.9609, Testing Accuracy: 0.9677\n",
      "\n"
     ]
    },
    {
     "data": {
      "text/plain": [
       "0.014064550584466982"
      ]
     },
     "execution_count": 22,
     "metadata": {},
     "output_type": "execute_result"
    }
   ],
   "source": [
    "print(\"====== Logistic Regression ======\")\n",
    "learner_lr.train_loop(dl)"
   ]
  },
  {
   "cell_type": "markdown",
   "metadata": {
    "papermill": {
     "duration": 0.040897,
     "end_time": "2020-09-04T00:08:08.922952",
     "exception": false,
     "start_time": "2020-09-04T00:08:08.882055",
     "status": "completed"
    },
    "tags": []
   },
   "source": [
    "### Comparing results of NN and LR"
   ]
  },
  {
   "cell_type": "code",
   "execution_count": 23,
   "metadata": {
    "execution": {
     "iopub.execute_input": "2020-09-04T00:08:09.008677Z",
     "iopub.status.busy": "2020-09-04T00:08:09.007913Z",
     "iopub.status.idle": "2020-09-04T00:08:09.246398Z",
     "shell.execute_reply": "2020-09-04T00:08:09.245827Z"
    },
    "papermill": {
     "duration": 0.284591,
     "end_time": "2020-09-04T00:08:09.246528",
     "exception": false,
     "start_time": "2020-09-04T00:08:08.961937",
     "status": "completed"
    },
    "tags": []
   },
   "outputs": [
    {
     "data": {
      "text/plain": [
       "<matplotlib.legend.Legend at 0x7f321e3122e8>"
      ]
     },
     "execution_count": 23,
     "metadata": {},
     "output_type": "execute_result"
    },
    {
     "data": {
      "image/png": "[encoded data removed]",
      "text/plain": [
       "<Figure size 1080x720 with 1 Axes>"
      ]
     },
     "metadata": {
      "needs_background": "light"
     },
     "output_type": "display_data"
    }
   ],
   "source": [
    "plt.figure(figsize=(15,10))\n",
    "\n",
    "# Neural Network plots\n",
    "plt.plot(acc_nn.accuracies, 'r-', label = \"Training Accuracies - NN\")\n",
    "plt.plot(acc_nn.test_accuracies, 'g-', label = \"Testing Accuracies - NN\")\n",
    "\n",
    "# Logistic Regression plots\n",
    "plt.plot(acc_lr.accuracies, 'k-', label = \"Training Accuracies - LR\")\n",
    "plt.plot(acc_lr.test_accuracies, 'b-', label = \"Testing Accuracies - LR\")\n",
    "\n",
    "plt.ylim(0.8, 1)\n",
    "\n",
    "plt.legend()\n",
    "\n"
   ]
  },
  {
   "cell_type": "markdown",
   "metadata": {
    "papermill": {
     "duration": 0.045704,
     "end_time": "2020-09-04T00:08:09.336632",
     "exception": false,
     "start_time": "2020-09-04T00:08:09.290928",
     "status": "completed"
    },
    "tags": []
   },
   "source": [
    "### From the plot, we can observe the following:\n",
    "- Neural Network achieves higher accuracy than the Logistic Regression model.\n",
    "- This apparently, is because of overfitting, i.e. NN captures more noise than data.\n",
    "- Testing accuracy of NN drops below the Training accuracy at higher epochs. This explains the over-fitting on training data.\n",
    "- Logistic Regression gives a reliable accuracy, without the above mentioned problem.\n"
   ]
  },
  {
   "cell_type": "markdown",
   "metadata": {
    "papermill": {
     "duration": 0.048014,
     "end_time": "2020-09-04T00:08:09.430127",
     "exception": false,
     "start_time": "2020-09-04T00:08:09.382113",
     "status": "completed"
    },
    "tags": []
   },
   "source": [
    "### Moving till the last but one layer (excluding it).\n",
    "#### Plotting the outputs of this layer of the NN."
   ]
  },
  {
   "cell_type": "code",
   "execution_count": 24,
   "metadata": {
    "execution": {
     "iopub.execute_input": "2020-09-04T00:08:09.523795Z",
     "iopub.status.busy": "2020-09-04T00:08:09.522706Z",
     "iopub.status.idle": "2020-09-04T00:08:09.533361Z",
     "shell.execute_reply": "2020-09-04T00:08:09.532969Z"
    },
    "papermill": {
     "duration": 0.057816,
     "end_time": "2020-09-04T00:08:09.533472",
     "exception": false,
     "start_time": "2020-09-04T00:08:09.475656",
     "status": "completed"
    },
    "tags": []
   },
   "outputs": [],
   "source": [
    "model_new = Model(layers[:-2])"
   ]
  },
  {
   "cell_type": "code",
   "execution_count": 25,
   "metadata": {
    "execution": {
     "iopub.execute_input": "2020-09-04T00:08:09.617005Z",
     "iopub.status.busy": "2020-09-04T00:08:09.616585Z",
     "iopub.status.idle": "2020-09-04T00:08:09.635248Z",
     "shell.execute_reply": "2020-09-04T00:08:09.635671Z"
    },
    "papermill": {
     "duration": 0.062442,
     "end_time": "2020-09-04T00:08:09.635797",
     "exception": false,
     "start_time": "2020-09-04T00:08:09.573355",
     "status": "completed"
    },
    "tags": []
   },
   "outputs": [],
   "source": [
    "plot_testing = model_new(testing_xdata)"
   ]
  },
  {
   "cell_type": "code",
   "execution_count": 26,
   "metadata": {
    "execution": {
     "iopub.execute_input": "2020-09-04T00:08:09.721281Z",
     "iopub.status.busy": "2020-09-04T00:08:09.720789Z",
     "iopub.status.idle": "2020-09-04T00:08:09.907068Z",
     "shell.execute_reply": "2020-09-04T00:08:09.906556Z"
    },
    "papermill": {
     "duration": 0.229769,
     "end_time": "2020-09-04T00:08:09.907212",
     "exception": false,
     "start_time": "2020-09-04T00:08:09.677443",
     "status": "completed"
    },
    "tags": []
   },
   "outputs": [
    {
     "data": {
      "text/plain": [
       "Text(0.5, 1.0, 'Outputs')"
      ]
     },
     "execution_count": 26,
     "metadata": {},
     "output_type": "execute_result"
    },
    {
     "data": {
      "image/png": "[encoded data removed]",
      "text/plain": [
       "<Figure size 576x504 with 1 Axes>"
      ]
     },
     "metadata": {
      "needs_background": "light"
     },
     "output_type": "display_data"
    }
   ],
   "source": [
    "plt.figure(figsize=(8,7))\n",
    "plt.scatter(plot_testing[:,0], plot_testing[:,1], alpha = 0.1, c = y_test.ravel());\n",
    "plt.title('Outputs')"
   ]
  },
  {
   "cell_type": "markdown",
   "metadata": {
    "papermill": {
     "duration": 0.041004,
     "end_time": "2020-09-04T00:08:09.992505",
     "exception": false,
     "start_time": "2020-09-04T00:08:09.951501",
     "status": "completed"
    },
    "tags": []
   },
   "source": [
    "### Plotting probability contours"
   ]
  },
  {
   "cell_type": "code",
   "execution_count": 27,
   "metadata": {
    "execution": {
     "iopub.execute_input": "2020-09-04T00:08:10.083525Z",
     "iopub.status.busy": "2020-09-04T00:08:10.082995Z",
     "iopub.status.idle": "2020-09-04T00:08:10.094321Z",
     "shell.execute_reply": "2020-09-04T00:08:10.093885Z"
    },
    "papermill": {
     "duration": 0.060647,
     "end_time": "2020-09-04T00:08:10.094437",
     "exception": false,
     "start_time": "2020-09-04T00:08:10.033790",
     "status": "completed"
    },
    "tags": []
   },
   "outputs": [],
   "source": [
    "model_prob = Model(layers[-2:]) "
   ]
  },
  {
   "cell_type": "code",
   "execution_count": 28,
   "metadata": {
    "execution": {
     "iopub.execute_input": "2020-09-04T00:08:10.181938Z",
     "iopub.status.busy": "2020-09-04T00:08:10.181466Z",
     "iopub.status.idle": "2020-09-04T00:08:10.194709Z",
     "shell.execute_reply": "2020-09-04T00:08:10.195173Z"
    },
    "papermill": {
     "duration": 0.060709,
     "end_time": "2020-09-04T00:08:10.195315",
     "exception": false,
     "start_time": "2020-09-04T00:08:10.134606",
     "status": "completed"
    },
    "tags": []
   },
   "outputs": [],
   "source": [
    "# Adjust the x and y ranges according to the above generated plot.\n",
    "x_range = np.linspace(-4, 1, 100) \n",
    "y_range = np.linspace(-6, 6, 100) \n",
    "x_grid, y_grid = np.meshgrid(x_range, y_range) # x_grid and y_grig are of size 100 X 100\n",
    "\n",
    "# converting x_grid and y_grid to continuous arrays\n",
    "x_grid_flat = np.ravel(x_grid)\n",
    "y_grid_flat = np.ravel(y_grid)\n",
    "\n",
    "# The last layer of the current model takes two columns as input. Hence transpose of np.vstack() is required.\n",
    "X = np.vstack((x_grid_flat, y_grid_flat)).T\n",
    "\n",
    "# x_grid and y_grid are of size 100 x 100\n",
    "probability_contour = model_prob(X).reshape(100,100) "
   ]
  },
  {
   "cell_type": "code",
   "execution_count": 29,
   "metadata": {
    "execution": {
     "iopub.execute_input": "2020-09-04T00:08:10.296406Z",
     "iopub.status.busy": "2020-09-04T00:08:10.295820Z",
     "iopub.status.idle": "2020-09-04T00:08:10.516929Z",
     "shell.execute_reply": "2020-09-04T00:08:10.517352Z"
    },
    "papermill": {
     "duration": 0.279358,
     "end_time": "2020-09-04T00:08:10.517505",
     "exception": false,
     "start_time": "2020-09-04T00:08:10.238147",
     "status": "completed"
    },
    "tags": []
   },
   "outputs": [
    {
     "data": {
      "image/png": "[encoded data removed]",
      "text/plain": [
       "<Figure size 720x648 with 1 Axes>"
      ]
     },
     "metadata": {
      "needs_background": "light"
     },
     "output_type": "display_data"
    }
   ],
   "source": [
    "plt.figure(figsize=(10,9))\n",
    "plt.scatter(plot_testing[:,0], plot_testing[:,1], alpha = 0.1, c = y_test.ravel())\n",
    "contours = plt.contour(x_grid,y_grid,probability_contour)\n",
    "plt.title('Probability Contours')\n",
    "plt.clabel(contours, inline = True );"
   ]
  }
 ],
 "metadata": {
  "kernelspec": {
   "display_name": "Python 3",
   "language": "python",
   "name": "python3"
  },
  "language_info": {
   "codemirror_mode": {
    "name": "ipython",
    "version": 3
   },
   "file_extension": ".py",
   "mimetype": "text/x-python",
   "name": "python",
   "nbconvert_exporter": "python",
   "pygments_lexer": "ipython3",
   "version": "3.6.12"
  },
  "papermill": {
   "duration": 106.763111,
   "end_time": "2020-09-04T00:08:10.876810",
   "environment_variables": {},
   "exception": null,
   "input_path": "2020-08-11-NeuralNetwork.ipynb",
   "output_path": "2020-08-11-NeuralNetwork.ipynb",
   "parameters": {},
   "start_time": "2020-09-04T00:06:24.113699",
   "version": "2.1.2"
  }
 },
 "nbformat": 4,
 "nbformat_minor": 4
}