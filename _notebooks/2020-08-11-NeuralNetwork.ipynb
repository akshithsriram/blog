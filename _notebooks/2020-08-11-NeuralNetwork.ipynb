{
 "cells": [
  {
   "cell_type": "markdown",
   "metadata": {
    "papermill": {
     "duration": 0.029758,
     "end_time": "2020-10-16T20:05:05.052898",
     "exception": false,
     "start_time": "2020-10-16T20:05:05.023140",
     "status": "completed"
    },
    "tags": []
   },
   "source": [
    "# \"A Basic Neural Network: Differentiate Hand-Written Digits\"\n",
    "\n",
    "- badges: true\n",
    "- author: Akshith Sriram"
   ]
  },
  {
   "cell_type": "markdown",
   "metadata": {
    "papermill": {
     "duration": 0.030802,
     "end_time": "2020-10-16T20:05:05.114120",
     "exception": false,
     "start_time": "2020-10-16T20:05:05.083318",
     "status": "completed"
    },
    "tags": []
   },
   "source": [
    "### Key Objectives:\n",
    "- Building a neural network that differentiates two hand-written digits 3 and 8.\n",
    "- Comparing the results of this Neural Network (NN) to that of a Logistic Regression (LR) model.\n",
    "\n",
    "### Requirements:\n",
    "- 'Kudzu' : A neural network library that was designed during our course by [Univ.AI](www.univ.ai). \n",
    "- MNIST Database\n",
    "\n",
    "If MNIST is not installed, use the command `!pip install mnist` given below.\n",
    "It can be run both from the command line and Jupyter Notebook."
   ]
  },
  {
   "cell_type": "code",
   "execution_count": 1,
   "metadata": {
    "execution": {
     "iopub.execute_input": "2020-10-16T20:05:05.176480Z",
     "iopub.status.busy": "2020-10-16T20:05:05.175891Z",
     "iopub.status.idle": "2020-10-16T20:05:06.618922Z",
     "shell.execute_reply": "2020-10-16T20:05:06.618353Z"
    },
    "papermill": {
     "duration": 1.476806,
     "end_time": "2020-10-16T20:05:06.619077",
     "exception": false,
     "start_time": "2020-10-16T20:05:05.142271",
     "status": "completed"
    },
    "tags": []
   },
   "outputs": [
    {
     "name": "stdout",
     "output_type": "stream",
     "text": [
      "Collecting mnist\r\n"
     ]
    },
    {
     "name": "stdout",
     "output_type": "stream",
     "text": [
      "  Downloading mnist-0.2.2-py2.py3-none-any.whl (3.5 kB)\r\n",
      "Requirement already satisfied: numpy in /opt/hostedtoolcache/Python/3.6.12/x64/lib/python3.6/site-packages (from mnist) (1.19.2)\r\n"
     ]
    },
    {
     "name": "stdout",
     "output_type": "stream",
     "text": [
      "Installing collected packages: mnist\r\n",
      "Successfully installed mnist-0.2.2\r\n"
     ]
    }
   ],
   "source": [
    "!pip install mnist "
   ]
  },
  {
   "cell_type": "markdown",
   "metadata": {
    "papermill": {
     "duration": 0.026991,
     "end_time": "2020-10-16T20:05:06.673966",
     "exception": false,
     "start_time": "2020-10-16T20:05:06.646975",
     "status": "completed"
    },
    "tags": []
   },
   "source": [
    "#### Importing necessary libraries"
   ]
  },
  {
   "cell_type": "code",
   "execution_count": 2,
   "metadata": {
    "execution": {
     "iopub.execute_input": "2020-10-16T20:05:06.737391Z",
     "iopub.status.busy": "2020-10-16T20:05:06.736785Z",
     "iopub.status.idle": "2020-10-16T20:05:07.327153Z",
     "shell.execute_reply": "2020-10-16T20:05:07.326280Z"
    },
    "papermill": {
     "duration": 0.625778,
     "end_time": "2020-10-16T20:05:07.327380",
     "exception": false,
     "start_time": "2020-10-16T20:05:06.701602",
     "status": "completed"
    },
    "tags": []
   },
   "outputs": [],
   "source": [
    "%load_ext autoreload\n",
    "%autoreload 2\n",
    "\n",
    "%matplotlib inline\n",
    "import matplotlib.pyplot as plt\n",
    "\n",
    "import numpy as np\n",
    "import pandas as pd"
   ]
  },
  {
   "cell_type": "markdown",
   "metadata": {
    "papermill": {
     "duration": 0.404339,
     "end_time": "2020-10-16T20:05:07.758607",
     "exception": false,
     "start_time": "2020-10-16T20:05:07.354268",
     "status": "completed"
    },
    "tags": []
   },
   "source": [
    "### Preparing the Data"
   ]
  },
  {
   "cell_type": "code",
   "execution_count": 3,
   "metadata": {
    "execution": {
     "iopub.execute_input": "2020-10-16T20:05:07.822125Z",
     "iopub.status.busy": "2020-10-16T20:05:07.821200Z",
     "iopub.status.idle": "2020-10-16T20:05:07.840129Z",
     "shell.execute_reply": "2020-10-16T20:05:07.840741Z"
    },
    "papermill": {
     "duration": 0.053866,
     "end_time": "2020-10-16T20:05:07.840919",
     "exception": false,
     "start_time": "2020-10-16T20:05:07.787053",
     "status": "completed"
    },
    "tags": []
   },
   "outputs": [],
   "source": [
    "import mnist"
   ]
  },
  {
   "cell_type": "code",
   "execution_count": 4,
   "metadata": {
    "execution": {
     "iopub.execute_input": "2020-10-16T20:05:07.902439Z",
     "iopub.status.busy": "2020-10-16T20:05:07.901862Z",
     "iopub.status.idle": "2020-10-16T20:05:08.678031Z",
     "shell.execute_reply": "2020-10-16T20:05:08.677283Z"
    },
    "papermill": {
     "duration": 0.808365,
     "end_time": "2020-10-16T20:05:08.678211",
     "exception": false,
     "start_time": "2020-10-16T20:05:07.869846",
     "status": "completed"
    },
    "tags": []
   },
   "outputs": [],
   "source": [
    "train_images = mnist.train_images()\n",
    "train_labels = mnist.train_labels()"
   ]
  },
  {
   "cell_type": "code",
   "execution_count": 5,
   "metadata": {
    "execution": {
     "iopub.execute_input": "2020-10-16T20:05:08.745643Z",
     "iopub.status.busy": "2020-10-16T20:05:08.744991Z",
     "iopub.status.idle": "2020-10-16T20:05:08.760305Z",
     "shell.execute_reply": "2020-10-16T20:05:08.761456Z"
    },
    "papermill": {
     "duration": 0.054571,
     "end_time": "2020-10-16T20:05:08.761698",
     "exception": false,
     "start_time": "2020-10-16T20:05:08.707127",
     "status": "completed"
    },
    "tags": []
   },
   "outputs": [
    {
     "data": {
      "text/plain": [
       "((60000, 28, 28), (60000,))"
      ]
     },
     "execution_count": 5,
     "metadata": {},
     "output_type": "execute_result"
    }
   ],
   "source": [
    "train_images.shape, train_labels.shape"
   ]
  },
  {
   "cell_type": "code",
   "execution_count": 6,
   "metadata": {
    "execution": {
     "iopub.execute_input": "2020-10-16T20:05:08.831317Z",
     "iopub.status.busy": "2020-10-16T20:05:08.826248Z",
     "iopub.status.idle": "2020-10-16T20:05:09.097779Z",
     "shell.execute_reply": "2020-10-16T20:05:09.098307Z"
    },
    "papermill": {
     "duration": 0.309295,
     "end_time": "2020-10-16T20:05:09.098482",
     "exception": false,
     "start_time": "2020-10-16T20:05:08.789187",
     "status": "completed"
    },
    "tags": []
   },
   "outputs": [],
   "source": [
    "test_images = mnist.test_images()\n",
    "test_labels = mnist.test_labels()"
   ]
  },
  {
   "cell_type": "code",
   "execution_count": 7,
   "metadata": {
    "execution": {
     "iopub.execute_input": "2020-10-16T20:05:09.159518Z",
     "iopub.status.busy": "2020-10-16T20:05:09.157973Z",
     "iopub.status.idle": "2020-10-16T20:05:09.171822Z",
     "shell.execute_reply": "2020-10-16T20:05:09.172261Z"
    },
    "papermill": {
     "duration": 0.045684,
     "end_time": "2020-10-16T20:05:09.172477",
     "exception": false,
     "start_time": "2020-10-16T20:05:09.126793",
     "status": "completed"
    },
    "tags": []
   },
   "outputs": [
    {
     "data": {
      "text/plain": [
       "((10000, 28, 28), (10000,))"
      ]
     },
     "execution_count": 7,
     "metadata": {},
     "output_type": "execute_result"
    }
   ],
   "source": [
    "test_images.shape, test_labels.shape"
   ]
  },
  {
   "cell_type": "code",
   "execution_count": 8,
   "metadata": {
    "execution": {
     "iopub.execute_input": "2020-10-16T20:05:09.242421Z",
     "iopub.status.busy": "2020-10-16T20:05:09.236143Z",
     "iopub.status.idle": "2020-10-16T20:05:09.387848Z",
     "shell.execute_reply": "2020-10-16T20:05:09.388301Z"
    },
    "papermill": {
     "duration": 0.185294,
     "end_time": "2020-10-16T20:05:09.388464",
     "exception": false,
     "start_time": "2020-10-16T20:05:09.203170",
     "status": "completed"
    },
    "tags": []
   },
   "outputs": [
    {
     "name": "stdout",
     "output_type": "stream",
     "text": [
      "2\n"
     ]
    },
    {
     "data": {
      "text/plain": [
       "<matplotlib.image.AxesImage at 0x7f6fabbbea58>"
      ]
     },
     "execution_count": 8,
     "metadata": {},
     "output_type": "execute_result"
    },
    {
     "data": {
      "image/png": "[encoded data removed]",
      "text/plain": [
       "<Figure size 432x288 with 1 Axes>"
      ]
     },
     "metadata": {
      "needs_background": "light"
     },
     "output_type": "display_data"
    }
   ],
   "source": [
    "image_index = 7776 # You may select anything up to 60,000\n",
    "print(train_labels[image_index]) \n",
    "plt.imshow(train_images[image_index], cmap='Greys')"
   ]
  },
  {
   "cell_type": "markdown",
   "metadata": {
    "papermill": {
     "duration": 0.027413,
     "end_time": "2020-10-16T20:05:09.443669",
     "exception": false,
     "start_time": "2020-10-16T20:05:09.416256",
     "status": "completed"
    },
    "tags": []
   },
   "source": [
    "## Filter data to get 3 and 8 out"
   ]
  },
  {
   "cell_type": "code",
   "execution_count": 9,
   "metadata": {
    "execution": {
     "iopub.execute_input": "2020-10-16T20:05:09.504538Z",
     "iopub.status.busy": "2020-10-16T20:05:09.503946Z",
     "iopub.status.idle": "2020-10-16T20:05:09.522270Z",
     "shell.execute_reply": "2020-10-16T20:05:09.522717Z"
    },
    "papermill": {
     "duration": 0.051699,
     "end_time": "2020-10-16T20:05:09.522883",
     "exception": false,
     "start_time": "2020-10-16T20:05:09.471184",
     "status": "completed"
    },
    "tags": []
   },
   "outputs": [],
   "source": [
    "train_filter = np.where((train_labels == 3 ) | (train_labels == 8))\n",
    "test_filter = np.where((test_labels == 3) | (test_labels == 8))\n",
    "X_train, y_train = train_images[train_filter], train_labels[train_filter]\n",
    "X_test, y_test = test_images[test_filter], test_labels[test_filter]"
   ]
  },
  {
   "cell_type": "markdown",
   "metadata": {
    "papermill": {
     "duration": 0.027643,
     "end_time": "2020-10-16T20:05:09.578402",
     "exception": false,
     "start_time": "2020-10-16T20:05:09.550759",
     "status": "completed"
    },
    "tags": []
   },
   "source": [
    "We normalize the pixel values in the 0 to 1 range"
   ]
  },
  {
   "cell_type": "code",
   "execution_count": 10,
   "metadata": {
    "execution": {
     "iopub.execute_input": "2020-10-16T20:05:09.640045Z",
     "iopub.status.busy": "2020-10-16T20:05:09.639470Z",
     "iopub.status.idle": "2020-10-16T20:05:09.694191Z",
     "shell.execute_reply": "2020-10-16T20:05:09.693669Z"
    },
    "papermill": {
     "duration": 0.088436,
     "end_time": "2020-10-16T20:05:09.694334",
     "exception": false,
     "start_time": "2020-10-16T20:05:09.605898",
     "status": "completed"
    },
    "tags": []
   },
   "outputs": [],
   "source": [
    "X_train = X_train/255.\n",
    "X_test = X_test/255."
   ]
  },
  {
   "cell_type": "markdown",
   "metadata": {
    "papermill": {
     "duration": 0.027637,
     "end_time": "2020-10-16T20:05:09.749952",
     "exception": false,
     "start_time": "2020-10-16T20:05:09.722315",
     "status": "completed"
    },
    "tags": []
   },
   "source": [
    "Setup the labels as 1 (when the digit is 3) and 0 (when the digit is 8)"
   ]
  },
  {
   "cell_type": "code",
   "execution_count": 11,
   "metadata": {
    "execution": {
     "iopub.execute_input": "2020-10-16T20:05:09.810291Z",
     "iopub.status.busy": "2020-10-16T20:05:09.809697Z",
     "iopub.status.idle": "2020-10-16T20:05:09.823924Z",
     "shell.execute_reply": "2020-10-16T20:05:09.824365Z"
    },
    "papermill": {
     "duration": 0.047116,
     "end_time": "2020-10-16T20:05:09.824523",
     "exception": false,
     "start_time": "2020-10-16T20:05:09.777407",
     "status": "completed"
    },
    "tags": []
   },
   "outputs": [],
   "source": [
    "y_train = 1*(y_train==3)\n",
    "y_test = 1*(y_test==3)"
   ]
  },
  {
   "cell_type": "code",
   "execution_count": 12,
   "metadata": {
    "execution": {
     "iopub.execute_input": "2020-10-16T20:05:09.884244Z",
     "iopub.status.busy": "2020-10-16T20:05:09.883473Z",
     "iopub.status.idle": "2020-10-16T20:05:09.896503Z",
     "shell.execute_reply": "2020-10-16T20:05:09.896943Z"
    },
    "papermill": {
     "duration": 0.04502,
     "end_time": "2020-10-16T20:05:09.897100",
     "exception": false,
     "start_time": "2020-10-16T20:05:09.852080",
     "status": "completed"
    },
    "tags": []
   },
   "outputs": [
    {
     "data": {
      "text/plain": [
       "((11982, 28, 28), (1984, 28, 28))"
      ]
     },
     "execution_count": 12,
     "metadata": {},
     "output_type": "execute_result"
    }
   ],
   "source": [
    "X_train.shape, X_test.shape"
   ]
  },
  {
   "cell_type": "markdown",
   "metadata": {
    "papermill": {
     "duration": 0.027964,
     "end_time": "2020-10-16T20:05:09.952742",
     "exception": false,
     "start_time": "2020-10-16T20:05:09.924778",
     "status": "completed"
    },
    "tags": []
   },
   "source": [
    "### Reshape the input data to create a linear array"
   ]
  },
  {
   "cell_type": "code",
   "execution_count": 13,
   "metadata": {
    "execution": {
     "iopub.execute_input": "2020-10-16T20:05:10.013541Z",
     "iopub.status.busy": "2020-10-16T20:05:10.012850Z",
     "iopub.status.idle": "2020-10-16T20:05:10.028833Z",
     "shell.execute_reply": "2020-10-16T20:05:10.029350Z"
    },
    "papermill": {
     "duration": 0.04862,
     "end_time": "2020-10-16T20:05:10.029505",
     "exception": false,
     "start_time": "2020-10-16T20:05:09.980885",
     "status": "completed"
    },
    "tags": []
   },
   "outputs": [
    {
     "data": {
      "text/plain": [
       "((11982, 784), (1984, 784))"
      ]
     },
     "execution_count": 13,
     "metadata": {},
     "output_type": "execute_result"
    }
   ],
   "source": [
    "X_train = X_train.reshape(X_train.shape[0], -1)\n",
    "X_test = X_test.reshape(X_test.shape[0], -1)\n",
    "X_train.shape, X_test.shape"
   ]
  },
  {
   "cell_type": "markdown",
   "metadata": {
    "papermill": {
     "duration": 0.029494,
     "end_time": "2020-10-16T20:05:10.087511",
     "exception": false,
     "start_time": "2020-10-16T20:05:10.058017",
     "status": "completed"
    },
    "tags": []
   },
   "source": [
    "### Importing appropriate functions from 'Kudzu'"
   ]
  },
  {
   "cell_type": "code",
   "execution_count": 14,
   "metadata": {
    "execution": {
     "iopub.execute_input": "2020-10-16T20:05:10.155114Z",
     "iopub.status.busy": "2020-10-16T20:05:10.154524Z",
     "iopub.status.idle": "2020-10-16T20:05:10.175426Z",
     "shell.execute_reply": "2020-10-16T20:05:10.174917Z"
    },
    "papermill": {
     "duration": 0.059469,
     "end_time": "2020-10-16T20:05:10.175569",
     "exception": false,
     "start_time": "2020-10-16T20:05:10.116100",
     "status": "completed"
    },
    "tags": []
   },
   "outputs": [],
   "source": [
    "from kudzu.layer import Sigmoid\n",
    "from kudzu.layer import Relu\n",
    "from kudzu.layer import Affine, Sigmoid\n",
    "\n",
    "from kudzu.model import Model\n",
    "from kudzu.train import Learner\n",
    "from kudzu.optim import GD\n",
    "from kudzu.data import Data, Dataloader, Sampler\n",
    "\n",
    "from kudzu.callbacks import AccCallback\n",
    "from kudzu.callbacks import ClfCallback\n",
    "\n",
    "from kudzu.loss import MSE"
   ]
  },
  {
   "cell_type": "markdown",
   "metadata": {
    "papermill": {
     "duration": 0.031928,
     "end_time": "2020-10-16T20:05:10.236350",
     "exception": false,
     "start_time": "2020-10-16T20:05:10.204422",
     "status": "completed"
    },
    "tags": []
   },
   "source": [
    "### Let us create a `Config` class, to store important parameters. \n",
    "This class essentially plays the role of a dictionary."
   ]
  },
  {
   "cell_type": "code",
   "execution_count": 15,
   "metadata": {
    "execution": {
     "iopub.execute_input": "2020-10-16T20:05:10.304300Z",
     "iopub.status.busy": "2020-10-16T20:05:10.303696Z",
     "iopub.status.idle": "2020-10-16T20:05:10.317402Z",
     "shell.execute_reply": "2020-10-16T20:05:10.316840Z"
    },
    "papermill": {
     "duration": 0.047919,
     "end_time": "2020-10-16T20:05:10.317542",
     "exception": false,
     "start_time": "2020-10-16T20:05:10.269623",
     "status": "completed"
    },
    "tags": []
   },
   "outputs": [],
   "source": [
    "class Config:\n",
    "    pass\n",
    "config = Config()\n",
    "config.lr = 0.001\n",
    "config.num_epochs = 251\n",
    "config.bs = 50"
   ]
  },
  {
   "cell_type": "markdown",
   "metadata": {
    "papermill": {
     "duration": 0.028176,
     "end_time": "2020-10-16T20:05:10.374291",
     "exception": false,
     "start_time": "2020-10-16T20:05:10.346115",
     "status": "completed"
    },
    "tags": []
   },
   "source": [
    "### Initializing data to the variables"
   ]
  },
  {
   "cell_type": "code",
   "execution_count": 16,
   "metadata": {
    "execution": {
     "iopub.execute_input": "2020-10-16T20:05:10.440327Z",
     "iopub.status.busy": "2020-10-16T20:05:10.439732Z",
     "iopub.status.idle": "2020-10-16T20:05:10.452660Z",
     "shell.execute_reply": "2020-10-16T20:05:10.453108Z"
    },
    "papermill": {
     "duration": 0.050587,
     "end_time": "2020-10-16T20:05:10.453284",
     "exception": false,
     "start_time": "2020-10-16T20:05:10.402697",
     "status": "completed"
    },
    "tags": []
   },
   "outputs": [],
   "source": [
    "data = Data(X_train, y_train.reshape(-1,1))\n",
    "sampler = Sampler(data, config.bs, shuffle=True)\n",
    "\n",
    "dl = Dataloader(data, sampler)\n",
    "\n",
    "opt = GD(config.lr)\n",
    "loss = MSE()"
   ]
  },
  {
   "cell_type": "code",
   "execution_count": 17,
   "metadata": {
    "execution": {
     "iopub.execute_input": "2020-10-16T20:05:10.517580Z",
     "iopub.status.busy": "2020-10-16T20:05:10.516968Z",
     "iopub.status.idle": "2020-10-16T20:05:10.529751Z",
     "shell.execute_reply": "2020-10-16T20:05:10.530249Z"
    },
    "papermill": {
     "duration": 0.048974,
     "end_time": "2020-10-16T20:05:10.530408",
     "exception": false,
     "start_time": "2020-10-16T20:05:10.481434",
     "status": "completed"
    },
    "tags": []
   },
   "outputs": [],
   "source": [
    "training_xdata = X_train\n",
    "testing_xdata = X_test\n",
    "training_ydata = y_train.reshape(-1,1)\n",
    "testing_ydata = y_test.reshape(-1,1)"
   ]
  },
  {
   "cell_type": "markdown",
   "metadata": {
    "papermill": {
     "duration": 0.028291,
     "end_time": "2020-10-16T20:05:10.589304",
     "exception": false,
     "start_time": "2020-10-16T20:05:10.561013",
     "status": "completed"
    },
    "tags": []
   },
   "source": [
    "### Running Models with the Training data\n",
    "Details about the network layers:\n",
    "- A first affine layer has 784 inputs and does 100 affine transforms. These are followed by a Relu\n",
    "- A second affine layer has 100 inputs from the 100 activations of the past layer, and does 100 affine transforms. These are followed by a Relu\n",
    "- A third affine layer has 100 activations and does 2 affine transformations to create an embedding for visualization. There is no non-linearity here.\n",
    "- A final \"logistic regression\" which has an affine transform from 2 inputs to 1 output, which is squeezed through a sigmoid.\n",
    "\n",
    "Help taken from Anshuman's Notebook."
   ]
  },
  {
   "cell_type": "code",
   "execution_count": 18,
   "metadata": {
    "execution": {
     "iopub.execute_input": "2020-10-16T20:05:10.650771Z",
     "iopub.status.busy": "2020-10-16T20:05:10.650143Z",
     "iopub.status.idle": "2020-10-16T20:05:10.667990Z",
     "shell.execute_reply": "2020-10-16T20:05:10.668466Z"
    },
    "papermill": {
     "duration": 0.051176,
     "end_time": "2020-10-16T20:05:10.668635",
     "exception": false,
     "start_time": "2020-10-16T20:05:10.617459",
     "status": "completed"
    },
    "tags": []
   },
   "outputs": [],
   "source": [
    "# layers for the Neural Network\n",
    "layers = [Affine(\"first\", 784, 100), Relu(\"first\"), Affine(\"second\", 100, 100), Relu(\"second\"), Affine(\"third\", 100, 2), Affine(\"final\", 2, 1), Sigmoid(\"final\")]\n",
    "model_nn = Model(layers)\n",
    "\n",
    "# layers for the Logistic Regression\n",
    "layers_lr = [Affine(\"logits\", 784, 1), Sigmoid(\"sigmoid\")]\n",
    "model_lr = Model(layers_lr)"
   ]
  },
  {
   "cell_type": "code",
   "execution_count": 19,
   "metadata": {
    "execution": {
     "iopub.execute_input": "2020-10-16T20:05:10.740960Z",
     "iopub.status.busy": "2020-10-16T20:05:10.740315Z",
     "iopub.status.idle": "2020-10-16T20:05:10.752866Z",
     "shell.execute_reply": "2020-10-16T20:05:10.753565Z"
    },
    "papermill": {
     "duration": 0.051,
     "end_time": "2020-10-16T20:05:10.753902",
     "exception": false,
     "start_time": "2020-10-16T20:05:10.702902",
     "status": "completed"
    },
    "tags": []
   },
   "outputs": [],
   "source": [
    "# suffix _nn stands for Neural Network.\n",
    "learner_nn = Learner(loss, model_nn, opt, config.num_epochs)\n",
    "acc_nn = ClfCallback(learner_nn, config.bs, training_xdata , testing_xdata, training_ydata, testing_ydata)\n",
    "learner_nn.set_callbacks([acc_nn])"
   ]
  },
  {
   "cell_type": "code",
   "execution_count": 20,
   "metadata": {
    "execution": {
     "iopub.execute_input": "2020-10-16T20:05:10.826353Z",
     "iopub.status.busy": "2020-10-16T20:05:10.825669Z",
     "iopub.status.idle": "2020-10-16T20:06:41.041488Z",
     "shell.execute_reply": "2020-10-16T20:06:41.042290Z"
    },
    "papermill": {
     "duration": 90.254488,
     "end_time": "2020-10-16T20:06:41.042455",
     "exception": false,
     "start_time": "2020-10-16T20:05:10.787967",
     "status": "completed"
    },
    "tags": []
   },
   "outputs": [
    {
     "name": "stdout",
     "output_type": "stream",
     "text": [
      "====== Neural Network ======\n"
     ]
    },
    {
     "name": "stdout",
     "output_type": "stream",
     "text": [
      "Epoch 0, Loss 0.2487\n",
      "Training Accuracy: 0.5021, Testing Accuracy: 0.4990\n",
      "\n"
     ]
    },
    {
     "name": "stdout",
     "output_type": "stream",
     "text": [
      "Epoch 10, Loss 0.1316\n",
      "Training Accuracy: 0.9059, Testing Accuracy: 0.9173\n",
      "\n"
     ]
    },
    {
     "name": "stdout",
     "output_type": "stream",
     "text": [
      "Epoch 20, Loss 0.0702\n",
      "Training Accuracy: 0.9298, Testing Accuracy: 0.9430\n",
      "\n"
     ]
    },
    {
     "name": "stdout",
     "output_type": "stream",
     "text": [
      "Epoch 30, Loss 0.0515\n",
      "Training Accuracy: 0.9452, Testing Accuracy: 0.9561\n",
      "\n"
     ]
    },
    {
     "name": "stdout",
     "output_type": "stream",
     "text": [
      "Epoch 40, Loss 0.0429\n",
      "Training Accuracy: 0.9514, Testing Accuracy: 0.9632\n",
      "\n"
     ]
    },
    {
     "name": "stdout",
     "output_type": "stream",
     "text": [
      "Epoch 50, Loss 0.0381\n",
      "Training Accuracy: 0.9559, Testing Accuracy: 0.9667\n",
      "\n"
     ]
    },
    {
     "name": "stdout",
     "output_type": "stream",
     "text": [
      "Epoch 60, Loss 0.0349\n",
      "Training Accuracy: 0.9594, Testing Accuracy: 0.9667\n",
      "\n"
     ]
    },
    {
     "name": "stdout",
     "output_type": "stream",
     "text": [
      "Epoch 70, Loss 0.0326\n",
      "Training Accuracy: 0.9622, Testing Accuracy: 0.9682\n",
      "\n"
     ]
    },
    {
     "name": "stdout",
     "output_type": "stream",
     "text": [
      "Epoch 80, Loss 0.0308\n",
      "Training Accuracy: 0.9639, Testing Accuracy: 0.9698\n",
      "\n"
     ]
    },
    {
     "name": "stdout",
     "output_type": "stream",
     "text": [
      "Epoch 90, Loss 0.0294\n",
      "Training Accuracy: 0.9654, Testing Accuracy: 0.9698\n",
      "\n"
     ]
    },
    {
     "name": "stdout",
     "output_type": "stream",
     "text": [
      "Epoch 100, Loss 0.0282\n",
      "Training Accuracy: 0.9661, Testing Accuracy: 0.9713\n",
      "\n"
     ]
    },
    {
     "name": "stdout",
     "output_type": "stream",
     "text": [
      "Epoch 110, Loss 0.0272\n",
      "Training Accuracy: 0.9674, Testing Accuracy: 0.9723\n",
      "\n"
     ]
    },
    {
     "name": "stdout",
     "output_type": "stream",
     "text": [
      "Epoch 120, Loss 0.0263\n",
      "Training Accuracy: 0.9682, Testing Accuracy: 0.9733\n",
      "\n"
     ]
    },
    {
     "name": "stdout",
     "output_type": "stream",
     "text": [
      "Epoch 130, Loss 0.0255\n",
      "Training Accuracy: 0.9694, Testing Accuracy: 0.9743\n",
      "\n"
     ]
    },
    {
     "name": "stdout",
     "output_type": "stream",
     "text": [
      "Epoch 140, Loss 0.0248\n",
      "Training Accuracy: 0.9707, Testing Accuracy: 0.9738\n",
      "\n"
     ]
    },
    {
     "name": "stdout",
     "output_type": "stream",
     "text": [
      "Epoch 150, Loss 0.0242\n",
      "Training Accuracy: 0.9719, Testing Accuracy: 0.9748\n",
      "\n"
     ]
    },
    {
     "name": "stdout",
     "output_type": "stream",
     "text": [
      "Epoch 160, Loss 0.0236\n",
      "Training Accuracy: 0.9726, Testing Accuracy: 0.9743\n",
      "\n"
     ]
    },
    {
     "name": "stdout",
     "output_type": "stream",
     "text": [
      "Epoch 170, Loss 0.0231\n",
      "Training Accuracy: 0.9735, Testing Accuracy: 0.9743\n",
      "\n"
     ]
    },
    {
     "name": "stdout",
     "output_type": "stream",
     "text": [
      "Epoch 180, Loss 0.0226\n",
      "Training Accuracy: 0.9740, Testing Accuracy: 0.9743\n",
      "\n"
     ]
    },
    {
     "name": "stdout",
     "output_type": "stream",
     "text": [
      "Epoch 190, Loss 0.0221\n",
      "Training Accuracy: 0.9746, Testing Accuracy: 0.9743\n",
      "\n"
     ]
    },
    {
     "name": "stdout",
     "output_type": "stream",
     "text": [
      "Epoch 200, Loss 0.0217\n",
      "Training Accuracy: 0.9750, Testing Accuracy: 0.9738\n",
      "\n"
     ]
    },
    {
     "name": "stdout",
     "output_type": "stream",
     "text": [
      "Epoch 210, Loss 0.0213\n",
      "Training Accuracy: 0.9758, Testing Accuracy: 0.9743\n",
      "\n"
     ]
    },
    {
     "name": "stdout",
     "output_type": "stream",
     "text": [
      "Epoch 220, Loss 0.0209\n",
      "Training Accuracy: 0.9762, Testing Accuracy: 0.9743\n",
      "\n"
     ]
    },
    {
     "name": "stdout",
     "output_type": "stream",
     "text": [
      "Epoch 230, Loss 0.0206\n",
      "Training Accuracy: 0.9765, Testing Accuracy: 0.9733\n",
      "\n"
     ]
    },
    {
     "name": "stdout",
     "output_type": "stream",
     "text": [
      "Epoch 240, Loss 0.0202\n",
      "Training Accuracy: 0.9772, Testing Accuracy: 0.9733\n",
      "\n"
     ]
    },
    {
     "name": "stdout",
     "output_type": "stream",
     "text": [
      "Epoch 250, Loss 0.0199\n",
      "Training Accuracy: 0.9776, Testing Accuracy: 0.9733\n",
      "\n"
     ]
    },
    {
     "data": {
      "text/plain": [
       "0.005443432554700912"
      ]
     },
     "execution_count": 20,
     "metadata": {},
     "output_type": "execute_result"
    }
   ],
   "source": [
    "print(\"====== Neural Network ======\")\n",
    "learner_nn.train_loop(dl)"
   ]
  },
  {
   "cell_type": "markdown",
   "metadata": {
    "papermill": {
     "duration": 0.036287,
     "end_time": "2020-10-16T20:06:41.116059",
     "exception": false,
     "start_time": "2020-10-16T20:06:41.079772",
     "status": "completed"
    },
    "tags": []
   },
   "source": [
    "### Logistic Regression based Implementation."
   ]
  },
  {
   "cell_type": "code",
   "execution_count": 21,
   "metadata": {
    "execution": {
     "iopub.execute_input": "2020-10-16T20:06:41.195227Z",
     "iopub.status.busy": "2020-10-16T20:06:41.193496Z",
     "iopub.status.idle": "2020-10-16T20:06:41.214676Z",
     "shell.execute_reply": "2020-10-16T20:06:41.208280Z"
    },
    "papermill": {
     "duration": 0.062919,
     "end_time": "2020-10-16T20:06:41.214847",
     "exception": false,
     "start_time": "2020-10-16T20:06:41.151928",
     "status": "completed"
    },
    "tags": []
   },
   "outputs": [],
   "source": [
    "learner_lr = Learner(loss, model_lr, opt, config.num_epochs)\n",
    "acc_lr = ClfCallback(learner_lr, config.bs, training_xdata , testing_xdata, training_ydata, testing_ydata)\n",
    "learner_lr.set_callbacks([acc_lr])"
   ]
  },
  {
   "cell_type": "code",
   "execution_count": 22,
   "metadata": {
    "execution": {
     "iopub.execute_input": "2020-10-16T20:06:41.300604Z",
     "iopub.status.busy": "2020-10-16T20:06:41.300005Z",
     "iopub.status.idle": "2020-10-16T20:06:59.317644Z",
     "shell.execute_reply": "2020-10-16T20:06:59.318387Z"
    },
    "papermill": {
     "duration": 18.06045,
     "end_time": "2020-10-16T20:06:59.318541",
     "exception": false,
     "start_time": "2020-10-16T20:06:41.258091",
     "status": "completed"
    },
    "tags": []
   },
   "outputs": [
    {
     "name": "stdout",
     "output_type": "stream",
     "text": [
      "====== Logistic Regression ======\n",
      "Epoch 0, Loss 0.2505\n",
      "Training Accuracy: 0.6486, Testing Accuracy: 0.6734\n",
      "\n"
     ]
    },
    {
     "name": "stdout",
     "output_type": "stream",
     "text": [
      "Epoch 10, Loss 0.1042\n",
      "Training Accuracy: 0.9075, Testing Accuracy: 0.9234\n",
      "\n"
     ]
    },
    {
     "name": "stdout",
     "output_type": "stream",
     "text": [
      "Epoch 20, Loss 0.08\n",
      "Training Accuracy: 0.9257, Testing Accuracy: 0.9380\n",
      "\n"
     ]
    },
    {
     "name": "stdout",
     "output_type": "stream",
     "text": [
      "Epoch 30, Loss 0.069\n",
      "Training Accuracy: 0.9356, Testing Accuracy: 0.9486\n",
      "\n"
     ]
    },
    {
     "name": "stdout",
     "output_type": "stream",
     "text": [
      "Epoch 40, Loss 0.0624\n",
      "Training Accuracy: 0.9396, Testing Accuracy: 0.9511\n",
      "\n"
     ]
    },
    {
     "name": "stdout",
     "output_type": "stream",
     "text": [
      "Epoch 50, Loss 0.0578\n",
      "Training Accuracy: 0.9435, Testing Accuracy: 0.9541\n",
      "\n"
     ]
    },
    {
     "name": "stdout",
     "output_type": "stream",
     "text": [
      "Epoch 60, Loss 0.0545\n",
      "Training Accuracy: 0.9461, Testing Accuracy: 0.9572\n",
      "\n"
     ]
    },
    {
     "name": "stdout",
     "output_type": "stream",
     "text": [
      "Epoch 70, Loss 0.0519\n",
      "Training Accuracy: 0.9478, Testing Accuracy: 0.9592\n",
      "\n"
     ]
    },
    {
     "name": "stdout",
     "output_type": "stream",
     "text": [
      "Epoch 80, Loss 0.0498\n",
      "Training Accuracy: 0.9492, Testing Accuracy: 0.9607\n",
      "\n"
     ]
    },
    {
     "name": "stdout",
     "output_type": "stream",
     "text": [
      "Epoch 90, Loss 0.0481\n",
      "Training Accuracy: 0.9508, Testing Accuracy: 0.9602\n",
      "\n"
     ]
    },
    {
     "name": "stdout",
     "output_type": "stream",
     "text": [
      "Epoch 100, Loss 0.0466\n",
      "Training Accuracy: 0.9524, Testing Accuracy: 0.9627\n",
      "\n"
     ]
    },
    {
     "name": "stdout",
     "output_type": "stream",
     "text": [
      "Epoch 110, Loss 0.0454\n",
      "Training Accuracy: 0.9539, Testing Accuracy: 0.9627\n",
      "\n"
     ]
    },
    {
     "name": "stdout",
     "output_type": "stream",
     "text": [
      "Epoch 120, Loss 0.0443\n",
      "Training Accuracy: 0.9544, Testing Accuracy: 0.9637\n",
      "\n"
     ]
    },
    {
     "name": "stdout",
     "output_type": "stream",
     "text": [
      "Epoch 130, Loss 0.0433\n",
      "Training Accuracy: 0.9553, Testing Accuracy: 0.9637\n",
      "\n"
     ]
    },
    {
     "name": "stdout",
     "output_type": "stream",
     "text": [
      "Epoch 140, Loss 0.0425\n",
      "Training Accuracy: 0.9559, Testing Accuracy: 0.9637\n",
      "\n"
     ]
    },
    {
     "name": "stdout",
     "output_type": "stream",
     "text": [
      "Epoch 150, Loss 0.0417\n",
      "Training Accuracy: 0.9562, Testing Accuracy: 0.9637\n",
      "\n"
     ]
    },
    {
     "name": "stdout",
     "output_type": "stream",
     "text": [
      "Epoch 160, Loss 0.041\n",
      "Training Accuracy: 0.9564, Testing Accuracy: 0.9647\n",
      "\n"
     ]
    },
    {
     "name": "stdout",
     "output_type": "stream",
     "text": [
      "Epoch 170, Loss 0.0404\n",
      "Training Accuracy: 0.9572, Testing Accuracy: 0.9652\n",
      "\n"
     ]
    },
    {
     "name": "stdout",
     "output_type": "stream",
     "text": [
      "Epoch 180, Loss 0.0398\n",
      "Training Accuracy: 0.9576, Testing Accuracy: 0.9662\n",
      "\n"
     ]
    },
    {
     "name": "stdout",
     "output_type": "stream",
     "text": [
      "Epoch 190, Loss 0.0393\n",
      "Training Accuracy: 0.9579, Testing Accuracy: 0.9662\n",
      "\n"
     ]
    },
    {
     "name": "stdout",
     "output_type": "stream",
     "text": [
      "Epoch 200, Loss 0.0388\n",
      "Training Accuracy: 0.9584, Testing Accuracy: 0.9672\n",
      "\n"
     ]
    },
    {
     "name": "stdout",
     "output_type": "stream",
     "text": [
      "Epoch 210, Loss 0.0383\n",
      "Training Accuracy: 0.9584, Testing Accuracy: 0.9672\n",
      "\n"
     ]
    },
    {
     "name": "stdout",
     "output_type": "stream",
     "text": [
      "Epoch 220, Loss 0.0379\n",
      "Training Accuracy: 0.9593, Testing Accuracy: 0.9677\n",
      "\n"
     ]
    },
    {
     "name": "stdout",
     "output_type": "stream",
     "text": [
      "Epoch 230, Loss 0.0375\n",
      "Training Accuracy: 0.9594, Testing Accuracy: 0.9682\n",
      "\n"
     ]
    },
    {
     "name": "stdout",
     "output_type": "stream",
     "text": [
      "Epoch 240, Loss 0.0371\n",
      "Training Accuracy: 0.9598, Testing Accuracy: 0.9682\n",
      "\n"
     ]
    },
    {
     "name": "stdout",
     "output_type": "stream",
     "text": [
      "Epoch 250, Loss 0.0368\n",
      "Training Accuracy: 0.9600, Testing Accuracy: 0.9682\n",
      "\n"
     ]
    },
    {
     "data": {
      "text/plain": [
       "0.0688695579885513"
      ]
     },
     "execution_count": 22,
     "metadata": {},
     "output_type": "execute_result"
    }
   ],
   "source": [
    "print(\"====== Logistic Regression ======\")\n",
    "learner_lr.train_loop(dl)"
   ]
  },
  {
   "cell_type": "markdown",
   "metadata": {
    "papermill": {
     "duration": 0.042974,
     "end_time": "2020-10-16T20:06:59.406041",
     "exception": false,
     "start_time": "2020-10-16T20:06:59.363067",
     "status": "completed"
    },
    "tags": []
   },
   "source": [
    "### Comparing results of NN and LR"
   ]
  },
  {
   "cell_type": "code",
   "execution_count": 23,
   "metadata": {
    "execution": {
     "iopub.execute_input": "2020-10-16T20:06:59.497852Z",
     "iopub.status.busy": "2020-10-16T20:06:59.497194Z",
     "iopub.status.idle": "2020-10-16T20:06:59.740050Z",
     "shell.execute_reply": "2020-10-16T20:06:59.740536Z"
    },
    "papermill": {
     "duration": 0.291238,
     "end_time": "2020-10-16T20:06:59.740692",
     "exception": false,
     "start_time": "2020-10-16T20:06:59.449454",
     "status": "completed"
    },
    "tags": []
   },
   "outputs": [
    {
     "data": {
      "text/plain": [
       "<matplotlib.legend.Legend at 0x7f6fa9721320>"
      ]
     },
     "execution_count": 23,
     "metadata": {},
     "output_type": "execute_result"
    },
    {
     "data": {
      "image/png": "[encoded data removed]",
      "text/plain": [
       "<Figure size 1080x720 with 1 Axes>"
      ]
     },
     "metadata": {
      "needs_background": "light"
     },
     "output_type": "display_data"
    }
   ],
   "source": [
    "plt.figure(figsize=(15,10))\n",
    "\n",
    "# Neural Network plots\n",
    "plt.plot(acc_nn.accuracies, 'r-', label = \"Training Accuracies - NN\")\n",
    "plt.plot(acc_nn.test_accuracies, 'g-', label = \"Testing Accuracies - NN\")\n",
    "\n",
    "# Logistic Regression plots\n",
    "plt.plot(acc_lr.accuracies, 'k-', label = \"Training Accuracies - LR\")\n",
    "plt.plot(acc_lr.test_accuracies, 'b-', label = \"Testing Accuracies - LR\")\n",
    "\n",
    "plt.ylim(0.8, 1)\n",
    "\n",
    "plt.legend()\n",
    "\n"
   ]
  },
  {
   "cell_type": "markdown",
   "metadata": {
    "papermill": {
     "duration": 0.04521,
     "end_time": "2020-10-16T20:06:59.831600",
     "exception": false,
     "start_time": "2020-10-16T20:06:59.786390",
     "status": "completed"
    },
    "tags": []
   },
   "source": [
    "### From the plot, we can observe the following:\n",
    "- Neural Network achieves higher accuracy than the Logistic Regression model.\n",
    "- This apparently, is because of overfitting, i.e. NN captures more noise than data.\n",
    "- Testing accuracy of NN drops below the Training accuracy at higher epochs. This explains the over-fitting on training data.\n",
    "- Logistic Regression gives a reliable accuracy, without the above mentioned problem.\n"
   ]
  },
  {
   "cell_type": "markdown",
   "metadata": {
    "papermill": {
     "duration": 0.045435,
     "end_time": "2020-10-16T20:06:59.922304",
     "exception": false,
     "start_time": "2020-10-16T20:06:59.876869",
     "status": "completed"
    },
    "tags": []
   },
   "source": [
    "### Moving till the last but one layer (excluding it).\n",
    "#### Plotting the outputs of this layer of the NN."
   ]
  },
  {
   "cell_type": "code",
   "execution_count": 24,
   "metadata": {
    "execution": {
     "iopub.execute_input": "2020-10-16T20:07:00.018332Z",
     "iopub.status.busy": "2020-10-16T20:07:00.017736Z",
     "iopub.status.idle": "2020-10-16T20:07:00.029865Z",
     "shell.execute_reply": "2020-10-16T20:07:00.029363Z"
    },
    "papermill": {
     "duration": 0.062298,
     "end_time": "2020-10-16T20:07:00.029993",
     "exception": false,
     "start_time": "2020-10-16T20:06:59.967695",
     "status": "completed"
    },
    "tags": []
   },
   "outputs": [],
   "source": [
    "model_new = Model(layers[:-2])"
   ]
  },
  {
   "cell_type": "code",
   "execution_count": 25,
   "metadata": {
    "execution": {
     "iopub.execute_input": "2020-10-16T20:07:00.126478Z",
     "iopub.status.busy": "2020-10-16T20:07:00.125871Z",
     "iopub.status.idle": "2020-10-16T20:07:00.146482Z",
     "shell.execute_reply": "2020-10-16T20:07:00.146993Z"
    },
    "papermill": {
     "duration": 0.07154,
     "end_time": "2020-10-16T20:07:00.147157",
     "exception": false,
     "start_time": "2020-10-16T20:07:00.075617",
     "status": "completed"
    },
    "tags": []
   },
   "outputs": [],
   "source": [
    "plot_testing = model_new(testing_xdata)"
   ]
  },
  {
   "cell_type": "code",
   "execution_count": 26,
   "metadata": {
    "execution": {
     "iopub.execute_input": "2020-10-16T20:07:00.242838Z",
     "iopub.status.busy": "2020-10-16T20:07:00.242247Z",
     "iopub.status.idle": "2020-10-16T20:07:00.464778Z",
     "shell.execute_reply": "2020-10-16T20:07:00.465272Z"
    },
    "papermill": {
     "duration": 0.272491,
     "end_time": "2020-10-16T20:07:00.465431",
     "exception": false,
     "start_time": "2020-10-16T20:07:00.192940",
     "status": "completed"
    },
    "tags": []
   },
   "outputs": [
    {
     "data": {
      "text/plain": [
       "Text(0.5, 1.0, 'Outputs')"
      ]
     },
     "execution_count": 26,
     "metadata": {},
     "output_type": "execute_result"
    },
    {
     "data": {
      "image/png": "[encoded data removed]",
      "text/plain": [
       "<Figure size 576x504 with 1 Axes>"
      ]
     },
     "metadata": {
      "needs_background": "light"
     },
     "output_type": "display_data"
    }
   ],
   "source": [
    "plt.figure(figsize=(8,7))\n",
    "plt.scatter(plot_testing[:,0], plot_testing[:,1], alpha = 0.1, c = y_test.ravel());\n",
    "plt.title('Outputs')"
   ]
  },
  {
   "cell_type": "markdown",
   "metadata": {
    "papermill": {
     "duration": 0.047459,
     "end_time": "2020-10-16T20:07:00.560941",
     "exception": false,
     "start_time": "2020-10-16T20:07:00.513482",
     "status": "completed"
    },
    "tags": []
   },
   "source": [
    "### Plotting probability contours"
   ]
  },
  {
   "cell_type": "code",
   "execution_count": 27,
   "metadata": {
    "execution": {
     "iopub.execute_input": "2020-10-16T20:07:00.675269Z",
     "iopub.status.busy": "2020-10-16T20:07:00.668870Z",
     "iopub.status.idle": "2020-10-16T20:07:00.677473Z",
     "shell.execute_reply": "2020-10-16T20:07:00.677947Z"
    },
    "papermill": {
     "duration": 0.069377,
     "end_time": "2020-10-16T20:07:00.678104",
     "exception": false,
     "start_time": "2020-10-16T20:07:00.608727",
     "status": "completed"
    },
    "tags": []
   },
   "outputs": [],
   "source": [
    "model_prob = Model(layers[-2:]) "
   ]
  },
  {
   "cell_type": "code",
   "execution_count": 28,
   "metadata": {
    "execution": {
     "iopub.execute_input": "2020-10-16T20:07:00.783401Z",
     "iopub.status.busy": "2020-10-16T20:07:00.782781Z",
     "iopub.status.idle": "2020-10-16T20:07:00.796753Z",
     "shell.execute_reply": "2020-10-16T20:07:00.797201Z"
    },
    "papermill": {
     "duration": 0.071363,
     "end_time": "2020-10-16T20:07:00.797384",
     "exception": false,
     "start_time": "2020-10-16T20:07:00.726021",
     "status": "completed"
    },
    "tags": []
   },
   "outputs": [],
   "source": [
    "# Adjust the x and y ranges according to the above generated plot.\n",
    "x_range = np.linspace(-4, 1, 100) \n",
    "y_range = np.linspace(-6, 6, 100) \n",
    "x_grid, y_grid = np.meshgrid(x_range, y_range) # x_grid and y_grig are of size 100 X 100\n",
    "\n",
    "# converting x_grid and y_grid to continuous arrays\n",
    "x_grid_flat = np.ravel(x_grid)\n",
    "y_grid_flat = np.ravel(y_grid)\n",
    "\n",
    "# The last layer of the current model takes two columns as input. Hence transpose of np.vstack() is required.\n",
    "X = np.vstack((x_grid_flat, y_grid_flat)).T\n",
    "\n",
    "# x_grid and y_grid are of size 100 x 100\n",
    "probability_contour = model_prob(X).reshape(100,100) "
   ]
  },
  {
   "cell_type": "code",
   "execution_count": 29,
   "metadata": {
    "execution": {
     "iopub.execute_input": "2020-10-16T20:07:00.911276Z",
     "iopub.status.busy": "2020-10-16T20:07:00.910673Z",
     "iopub.status.idle": "2020-10-16T20:07:01.173292Z",
     "shell.execute_reply": "2020-10-16T20:07:01.172770Z"
    },
    "papermill": {
     "duration": 0.328036,
     "end_time": "2020-10-16T20:07:01.173439",
     "exception": false,
     "start_time": "2020-10-16T20:07:00.845403",
     "status": "completed"
    },
    "tags": []
   },
   "outputs": [
    {
     "data": {
      "image/png": "[encoded data removed]",
      "text/plain": [
       "<Figure size 720x648 with 1 Axes>"
      ]
     },
     "metadata": {
      "needs_background": "light"
     },
     "output_type": "display_data"
    }
   ],
   "source": [
    "plt.figure(figsize=(10,9))\n",
    "plt.scatter(plot_testing[:,0], plot_testing[:,1], alpha = 0.1, c = y_test.ravel())\n",
    "contours = plt.contour(x_grid,y_grid,probability_contour)\n",
    "plt.title('Probability Contours')\n",
    "plt.clabel(contours, inline = True );"
   ]
  }
 ],
 "metadata": {
  "kernelspec": {
   "display_name": "Python 3",
   "language": "python",
   "name": "python3"
  },
  "language_info": {
   "codemirror_mode": {
    "name": "ipython",
    "version": 3
   },
   "file_extension": ".py",
   "mimetype": "text/x-python",
   "name": "python",
   "nbconvert_exporter": "python",
   "pygments_lexer": "ipython3",
   "version": "3.6.12"
  },
  "papermill": {
   "duration": 117.71323,
   "end_time": "2020-10-16T20:07:01.639187",
   "environment_variables": {},
   "exception": null,
   "input_path": "2020-08-11-NeuralNetwork.ipynb",
   "output_path": "2020-08-11-NeuralNetwork.ipynb",
   "parameters": {},
   "start_time": "2020-10-16T20:05:03.925957",
   "version": "2.1.2"
  }
 },
 "nbformat": 4,
 "nbformat_minor": 4
}