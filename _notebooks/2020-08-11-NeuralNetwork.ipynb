{
 "cells": [
  {
   "cell_type": "markdown",
   "id": "fitted-suggestion",
   "metadata": {
    "papermill": {
     "duration": 0.028993,
     "end_time": "2021-01-22T10:36:51.076848",
     "exception": false,
     "start_time": "2021-01-22T10:36:51.047855",
     "status": "completed"
    },
    "tags": []
   },
   "source": [
    "# \"A Basic Neural Network: Differentiate Hand-Written Digits\"\n",
    "\n",
    "- badges: true\n",
    "- author: Akshith Sriram"
   ]
  },
  {
   "cell_type": "markdown",
   "id": "signal-flexibility",
   "metadata": {
    "papermill": {
     "duration": 0.026349,
     "end_time": "2021-01-22T10:36:51.128775",
     "exception": false,
     "start_time": "2021-01-22T10:36:51.102426",
     "status": "completed"
    },
    "tags": []
   },
   "source": [
    "### Key Objectives:\n",
    "- Building a neural network that differentiates two hand-written digits 3 and 8.\n",
    "- Comparing the results of this Neural Network (NN) to that of a Logistic Regression (LR) model.\n",
    "\n",
    "### Requirements:\n",
    "- 'Kudzu' : A neural network library that was designed during our course by [Univ.AI](www.univ.ai). \n",
    "- MNIST Database\n",
    "\n",
    "If MNIST is not installed, use the command `!pip install mnist` given below.\n",
    "It can be run both from the command line and Jupyter Notebook."
   ]
  },
  {
   "cell_type": "code",
   "execution_count": 1,
   "id": "british-texture",
   "metadata": {
    "execution": {
     "iopub.execute_input": "2021-01-22T10:36:51.188151Z",
     "iopub.status.busy": "2021-01-22T10:36:51.187607Z",
     "iopub.status.idle": "2021-01-22T10:36:52.545187Z",
     "shell.execute_reply": "2021-01-22T10:36:52.545633Z"
    },
    "papermill": {
     "duration": 1.392111,
     "end_time": "2021-01-22T10:36:52.545807",
     "exception": false,
     "start_time": "2021-01-22T10:36:51.153696",
     "status": "completed"
    },
    "tags": []
   },
   "outputs": [
    {
     "name": "stdout",
     "output_type": "stream",
     "text": [
      "Collecting mnist\r\n",
      "  Downloading mnist-0.2.2-py2.py3-none-any.whl (3.5 kB)\r\n"
     ]
    },
    {
     "name": "stdout",
     "output_type": "stream",
     "text": [
      "Requirement already satisfied: numpy in /opt/hostedtoolcache/Python/3.6.12/x64/lib/python3.6/site-packages (from mnist) (1.19.5)\r\n"
     ]
    },
    {
     "name": "stdout",
     "output_type": "stream",
     "text": [
      "Installing collected packages: mnist\r\n"
     ]
    },
    {
     "name": "stdout",
     "output_type": "stream",
     "text": [
      "Successfully installed mnist-0.2.2\r\n"
     ]
    },
    {
     "name": "stdout",
     "output_type": "stream",
     "text": [
      "\u001b[33mWARNING: You are using pip version 20.3.1; however, version 20.3.3 is available.\r\n",
      "You should consider upgrading via the '/opt/hostedtoolcache/Python/3.6.12/x64/bin/python -m pip install --upgrade pip' command.\u001b[0m\r\n"
     ]
    }
   ],
   "source": [
    "!pip install mnist "
   ]
  },
  {
   "cell_type": "markdown",
   "id": "stunning-extra",
   "metadata": {
    "papermill": {
     "duration": 0.026493,
     "end_time": "2021-01-22T10:36:52.598996",
     "exception": false,
     "start_time": "2021-01-22T10:36:52.572503",
     "status": "completed"
    },
    "tags": []
   },
   "source": [
    "#### Importing necessary libraries"
   ]
  },
  {
   "cell_type": "code",
   "execution_count": 2,
   "id": "wooden-france",
   "metadata": {
    "execution": {
     "iopub.execute_input": "2021-01-22T10:36:52.667381Z",
     "iopub.status.busy": "2021-01-22T10:36:52.658528Z",
     "iopub.status.idle": "2021-01-22T10:36:53.187878Z",
     "shell.execute_reply": "2021-01-22T10:36:53.187411Z"
    },
    "papermill": {
     "duration": 0.562552,
     "end_time": "2021-01-22T10:36:53.188015",
     "exception": false,
     "start_time": "2021-01-22T10:36:52.625463",
     "status": "completed"
    },
    "tags": []
   },
   "outputs": [],
   "source": [
    "%load_ext autoreload\n",
    "%autoreload 2\n",
    "\n",
    "%matplotlib inline\n",
    "import matplotlib.pyplot as plt\n",
    "\n",
    "import numpy as np\n",
    "import pandas as pd"
   ]
  },
  {
   "cell_type": "markdown",
   "id": "stunning-physics",
   "metadata": {
    "papermill": {
     "duration": 0.026888,
     "end_time": "2021-01-22T10:36:53.241933",
     "exception": false,
     "start_time": "2021-01-22T10:36:53.215045",
     "status": "completed"
    },
    "tags": []
   },
   "source": [
    "### Preparing the Data"
   ]
  },
  {
   "cell_type": "code",
   "execution_count": 3,
   "id": "unauthorized-remainder",
   "metadata": {
    "execution": {
     "iopub.execute_input": "2021-01-22T10:36:53.299234Z",
     "iopub.status.busy": "2021-01-22T10:36:53.298731Z",
     "iopub.status.idle": "2021-01-22T10:36:53.310134Z",
     "shell.execute_reply": "2021-01-22T10:36:53.309703Z"
    },
    "papermill": {
     "duration": 0.041827,
     "end_time": "2021-01-22T10:36:53.310256",
     "exception": false,
     "start_time": "2021-01-22T10:36:53.268429",
     "status": "completed"
    },
    "tags": []
   },
   "outputs": [],
   "source": [
    "import mnist"
   ]
  },
  {
   "cell_type": "code",
   "execution_count": 4,
   "id": "correct-antarctica",
   "metadata": {
    "execution": {
     "iopub.execute_input": "2021-01-22T10:36:53.369496Z",
     "iopub.status.busy": "2021-01-22T10:36:53.368993Z",
     "iopub.status.idle": "2021-01-22T10:36:54.215915Z",
     "shell.execute_reply": "2021-01-22T10:36:54.216413Z"
    },
    "papermill": {
     "duration": 0.879734,
     "end_time": "2021-01-22T10:36:54.216579",
     "exception": false,
     "start_time": "2021-01-22T10:36:53.336845",
     "status": "completed"
    },
    "tags": []
   },
   "outputs": [],
   "source": [
    "train_images = mnist.train_images()\n",
    "train_labels = mnist.train_labels()"
   ]
  },
  {
   "cell_type": "code",
   "execution_count": 5,
   "id": "musical-prospect",
   "metadata": {
    "execution": {
     "iopub.execute_input": "2021-01-22T10:36:54.275200Z",
     "iopub.status.busy": "2021-01-22T10:36:54.274689Z",
     "iopub.status.idle": "2021-01-22T10:36:54.288039Z",
     "shell.execute_reply": "2021-01-22T10:36:54.287628Z"
    },
    "papermill": {
     "duration": 0.04357,
     "end_time": "2021-01-22T10:36:54.288159",
     "exception": false,
     "start_time": "2021-01-22T10:36:54.244589",
     "status": "completed"
    },
    "tags": []
   },
   "outputs": [
    {
     "data": {
      "text/plain": [
       "((60000, 28, 28), (60000,))"
      ]
     },
     "execution_count": 5,
     "metadata": {},
     "output_type": "execute_result"
    }
   ],
   "source": [
    "train_images.shape, train_labels.shape"
   ]
  },
  {
   "cell_type": "code",
   "execution_count": 6,
   "id": "preliminary-elizabeth",
   "metadata": {
    "execution": {
     "iopub.execute_input": "2021-01-22T10:36:54.353906Z",
     "iopub.status.busy": "2021-01-22T10:36:54.353368Z",
     "iopub.status.idle": "2021-01-22T10:36:54.613195Z",
     "shell.execute_reply": "2021-01-22T10:36:54.612708Z"
    },
    "papermill": {
     "duration": 0.298092,
     "end_time": "2021-01-22T10:36:54.613333",
     "exception": false,
     "start_time": "2021-01-22T10:36:54.315241",
     "status": "completed"
    },
    "tags": []
   },
   "outputs": [],
   "source": [
    "test_images = mnist.test_images()\n",
    "test_labels = mnist.test_labels()"
   ]
  },
  {
   "cell_type": "code",
   "execution_count": 7,
   "id": "acknowledged-oxygen",
   "metadata": {
    "execution": {
     "iopub.execute_input": "2021-01-22T10:36:54.685938Z",
     "iopub.status.busy": "2021-01-22T10:36:54.685357Z",
     "iopub.status.idle": "2021-01-22T10:36:54.688405Z",
     "shell.execute_reply": "2021-01-22T10:36:54.687972Z"
    },
    "papermill": {
     "duration": 0.047602,
     "end_time": "2021-01-22T10:36:54.688524",
     "exception": false,
     "start_time": "2021-01-22T10:36:54.640922",
     "status": "completed"
    },
    "tags": []
   },
   "outputs": [
    {
     "data": {
      "text/plain": [
       "((10000, 28, 28), (10000,))"
      ]
     },
     "execution_count": 7,
     "metadata": {},
     "output_type": "execute_result"
    }
   ],
   "source": [
    "test_images.shape, test_labels.shape"
   ]
  },
  {
   "cell_type": "code",
   "execution_count": 8,
   "id": "innovative-organic",
   "metadata": {
    "execution": {
     "iopub.execute_input": "2021-01-22T10:36:54.746699Z",
     "iopub.status.busy": "2021-01-22T10:36:54.746195Z",
     "iopub.status.idle": "2021-01-22T10:36:54.889234Z",
     "shell.execute_reply": "2021-01-22T10:36:54.889704Z"
    },
    "papermill": {
     "duration": 0.174515,
     "end_time": "2021-01-22T10:36:54.889904",
     "exception": false,
     "start_time": "2021-01-22T10:36:54.715389",
     "status": "completed"
    },
    "tags": []
   },
   "outputs": [
    {
     "name": "stdout",
     "output_type": "stream",
     "text": [
      "2\n"
     ]
    },
    {
     "data": {
      "text/plain": [
       "<matplotlib.image.AxesImage at 0x7fef43a33940>"
      ]
     },
     "execution_count": 8,
     "metadata": {},
     "output_type": "execute_result"
    },
    {
     "data": {
      "image/png": "[encoded data removed]",
      "text/plain": [
       "<Figure size 432x288 with 1 Axes>"
      ]
     },
     "metadata": {
      "needs_background": "light"
     },
     "output_type": "display_data"
    }
   ],
   "source": [
    "image_index = 7776 # You may select anything up to 60,000\n",
    "print(train_labels[image_index]) \n",
    "plt.imshow(train_images[image_index], cmap='Greys')"
   ]
  },
  {
   "cell_type": "markdown",
   "id": "facial-modem",
   "metadata": {
    "papermill": {
     "duration": 0.028476,
     "end_time": "2021-01-22T10:36:54.947427",
     "exception": false,
     "start_time": "2021-01-22T10:36:54.918951",
     "status": "completed"
    },
    "tags": []
   },
   "source": [
    "## Filter data to get 3 and 8 out"
   ]
  },
  {
   "cell_type": "code",
   "execution_count": 9,
   "id": "thousand-acquisition",
   "metadata": {
    "execution": {
     "iopub.execute_input": "2021-01-22T10:36:55.010720Z",
     "iopub.status.busy": "2021-01-22T10:36:55.010201Z",
     "iopub.status.idle": "2021-01-22T10:36:55.025793Z",
     "shell.execute_reply": "2021-01-22T10:36:55.025373Z"
    },
    "papermill": {
     "duration": 0.049174,
     "end_time": "2021-01-22T10:36:55.025937",
     "exception": false,
     "start_time": "2021-01-22T10:36:54.976763",
     "status": "completed"
    },
    "tags": []
   },
   "outputs": [],
   "source": [
    "train_filter = np.where((train_labels == 3 ) | (train_labels == 8))\n",
    "test_filter = np.where((test_labels == 3) | (test_labels == 8))\n",
    "X_train, y_train = train_images[train_filter], train_labels[train_filter]\n",
    "X_test, y_test = test_images[test_filter], test_labels[test_filter]"
   ]
  },
  {
   "cell_type": "markdown",
   "id": "ruled-access",
   "metadata": {
    "papermill": {
     "duration": 0.02813,
     "end_time": "2021-01-22T10:36:55.082361",
     "exception": false,
     "start_time": "2021-01-22T10:36:55.054231",
     "status": "completed"
    },
    "tags": []
   },
   "source": [
    "We normalize the pixel values in the 0 to 1 range"
   ]
  },
  {
   "cell_type": "code",
   "execution_count": 10,
   "id": "isolated-denver",
   "metadata": {
    "execution": {
     "iopub.execute_input": "2021-01-22T10:36:55.141994Z",
     "iopub.status.busy": "2021-01-22T10:36:55.141456Z",
     "iopub.status.idle": "2021-01-22T10:36:55.201948Z",
     "shell.execute_reply": "2021-01-22T10:36:55.201371Z"
    },
    "papermill": {
     "duration": 0.091708,
     "end_time": "2021-01-22T10:36:55.202087",
     "exception": false,
     "start_time": "2021-01-22T10:36:55.110379",
     "status": "completed"
    },
    "tags": []
   },
   "outputs": [],
   "source": [
    "X_train = X_train/255.\n",
    "X_test = X_test/255."
   ]
  },
  {
   "cell_type": "markdown",
   "id": "perfect-summary",
   "metadata": {
    "papermill": {
     "duration": 0.081179,
     "end_time": "2021-01-22T10:36:55.313377",
     "exception": false,
     "start_time": "2021-01-22T10:36:55.232198",
     "status": "completed"
    },
    "tags": []
   },
   "source": [
    "Setup the labels as 1 (when the digit is 3) and 0 (when the digit is 8)"
   ]
  },
  {
   "cell_type": "code",
   "execution_count": 11,
   "id": "personalized-growing",
   "metadata": {
    "execution": {
     "iopub.execute_input": "2021-01-22T10:36:55.374238Z",
     "iopub.status.busy": "2021-01-22T10:36:55.373679Z",
     "iopub.status.idle": "2021-01-22T10:36:55.384927Z",
     "shell.execute_reply": "2021-01-22T10:36:55.385388Z"
    },
    "papermill": {
     "duration": 0.0429,
     "end_time": "2021-01-22T10:36:55.385531",
     "exception": false,
     "start_time": "2021-01-22T10:36:55.342631",
     "status": "completed"
    },
    "tags": []
   },
   "outputs": [],
   "source": [
    "y_train = 1*(y_train==3)\n",
    "y_test = 1*(y_test==3)"
   ]
  },
  {
   "cell_type": "code",
   "execution_count": 12,
   "id": "considered-virgin",
   "metadata": {
    "execution": {
     "iopub.execute_input": "2021-01-22T10:36:55.445376Z",
     "iopub.status.busy": "2021-01-22T10:36:55.444870Z",
     "iopub.status.idle": "2021-01-22T10:36:55.456735Z",
     "shell.execute_reply": "2021-01-22T10:36:55.457195Z"
    },
    "papermill": {
     "duration": 0.043679,
     "end_time": "2021-01-22T10:36:55.457333",
     "exception": false,
     "start_time": "2021-01-22T10:36:55.413654",
     "status": "completed"
    },
    "tags": []
   },
   "outputs": [
    {
     "data": {
      "text/plain": [
       "((11982, 28, 28), (1984, 28, 28))"
      ]
     },
     "execution_count": 12,
     "metadata": {},
     "output_type": "execute_result"
    }
   ],
   "source": [
    "X_train.shape, X_test.shape"
   ]
  },
  {
   "cell_type": "markdown",
   "id": "civilian-mobile",
   "metadata": {
    "papermill": {
     "duration": 0.028108,
     "end_time": "2021-01-22T10:36:55.513927",
     "exception": false,
     "start_time": "2021-01-22T10:36:55.485819",
     "status": "completed"
    },
    "tags": []
   },
   "source": [
    "### Reshape the input data to create a linear array"
   ]
  },
  {
   "cell_type": "code",
   "execution_count": 13,
   "id": "colonial-adams",
   "metadata": {
    "execution": {
     "iopub.execute_input": "2021-01-22T10:36:55.578624Z",
     "iopub.status.busy": "2021-01-22T10:36:55.578102Z",
     "iopub.status.idle": "2021-01-22T10:36:55.588677Z",
     "shell.execute_reply": "2021-01-22T10:36:55.588269Z"
    },
    "papermill": {
     "duration": 0.046658,
     "end_time": "2021-01-22T10:36:55.588796",
     "exception": false,
     "start_time": "2021-01-22T10:36:55.542138",
     "status": "completed"
    },
    "tags": []
   },
   "outputs": [
    {
     "data": {
      "text/plain": [
       "((11982, 784), (1984, 784))"
      ]
     },
     "execution_count": 13,
     "metadata": {},
     "output_type": "execute_result"
    }
   ],
   "source": [
    "X_train = X_train.reshape(X_train.shape[0], -1)\n",
    "X_test = X_test.reshape(X_test.shape[0], -1)\n",
    "X_train.shape, X_test.shape"
   ]
  },
  {
   "cell_type": "markdown",
   "id": "smart-details",
   "metadata": {
    "papermill": {
     "duration": 0.028525,
     "end_time": "2021-01-22T10:36:55.645895",
     "exception": false,
     "start_time": "2021-01-22T10:36:55.617370",
     "status": "completed"
    },
    "tags": []
   },
   "source": [
    "### Importing appropriate functions from 'Kudzu'"
   ]
  },
  {
   "cell_type": "code",
   "execution_count": 14,
   "id": "celtic-trial",
   "metadata": {
    "execution": {
     "iopub.execute_input": "2021-01-22T10:36:55.714031Z",
     "iopub.status.busy": "2021-01-22T10:36:55.713482Z",
     "iopub.status.idle": "2021-01-22T10:36:55.727986Z",
     "shell.execute_reply": "2021-01-22T10:36:55.727565Z"
    },
    "papermill": {
     "duration": 0.053625,
     "end_time": "2021-01-22T10:36:55.728113",
     "exception": false,
     "start_time": "2021-01-22T10:36:55.674488",
     "status": "completed"
    },
    "tags": []
   },
   "outputs": [],
   "source": [
    "from kudzu.layer import Sigmoid\n",
    "from kudzu.layer import Relu\n",
    "from kudzu.layer import Affine, Sigmoid\n",
    "\n",
    "from kudzu.model import Model\n",
    "from kudzu.train import Learner\n",
    "from kudzu.optim import GD\n",
    "from kudzu.data import Data, Dataloader, Sampler\n",
    "\n",
    "from kudzu.callbacks import AccCallback\n",
    "from kudzu.callbacks import ClfCallback\n",
    "\n",
    "from kudzu.loss import MSE"
   ]
  },
  {
   "cell_type": "markdown",
   "id": "coupled-customer",
   "metadata": {
    "papermill": {
     "duration": 0.028452,
     "end_time": "2021-01-22T10:36:55.785276",
     "exception": false,
     "start_time": "2021-01-22T10:36:55.756824",
     "status": "completed"
    },
    "tags": []
   },
   "source": [
    "### Let us create a `Config` class, to store important parameters. \n",
    "This class essentially plays the role of a dictionary."
   ]
  },
  {
   "cell_type": "code",
   "execution_count": 15,
   "id": "young-ceiling",
   "metadata": {
    "execution": {
     "iopub.execute_input": "2021-01-22T10:36:55.851146Z",
     "iopub.status.busy": "2021-01-22T10:36:55.850637Z",
     "iopub.status.idle": "2021-01-22T10:36:55.859512Z",
     "shell.execute_reply": "2021-01-22T10:36:55.859898Z"
    },
    "papermill": {
     "duration": 0.046096,
     "end_time": "2021-01-22T10:36:55.860040",
     "exception": false,
     "start_time": "2021-01-22T10:36:55.813944",
     "status": "completed"
    },
    "tags": []
   },
   "outputs": [],
   "source": [
    "class Config:\n",
    "    pass\n",
    "config = Config()\n",
    "config.lr = 0.001\n",
    "config.num_epochs = 251\n",
    "config.bs = 50"
   ]
  },
  {
   "cell_type": "markdown",
   "id": "according-mandate",
   "metadata": {
    "papermill": {
     "duration": 0.028496,
     "end_time": "2021-01-22T10:36:55.917114",
     "exception": false,
     "start_time": "2021-01-22T10:36:55.888618",
     "status": "completed"
    },
    "tags": []
   },
   "source": [
    "### Initializing data to the variables"
   ]
  },
  {
   "cell_type": "code",
   "execution_count": 16,
   "id": "academic-disposition",
   "metadata": {
    "execution": {
     "iopub.execute_input": "2021-01-22T10:36:55.980103Z",
     "iopub.status.busy": "2021-01-22T10:36:55.979593Z",
     "iopub.status.idle": "2021-01-22T10:36:55.990778Z",
     "shell.execute_reply": "2021-01-22T10:36:55.990345Z"
    },
    "papermill": {
     "duration": 0.045319,
     "end_time": "2021-01-22T10:36:55.990895",
     "exception": false,
     "start_time": "2021-01-22T10:36:55.945576",
     "status": "completed"
    },
    "tags": []
   },
   "outputs": [],
   "source": [
    "data = Data(X_train, y_train.reshape(-1,1))\n",
    "sampler = Sampler(data, config.bs, shuffle=True)\n",
    "\n",
    "dl = Dataloader(data, sampler)\n",
    "\n",
    "opt = GD(config.lr)\n",
    "loss = MSE()"
   ]
  },
  {
   "cell_type": "code",
   "execution_count": 17,
   "id": "featured-commission",
   "metadata": {
    "execution": {
     "iopub.execute_input": "2021-01-22T10:36:56.052816Z",
     "iopub.status.busy": "2021-01-22T10:36:56.052317Z",
     "iopub.status.idle": "2021-01-22T10:36:56.064582Z",
     "shell.execute_reply": "2021-01-22T10:36:56.064157Z"
    },
    "papermill": {
     "duration": 0.044977,
     "end_time": "2021-01-22T10:36:56.064709",
     "exception": false,
     "start_time": "2021-01-22T10:36:56.019732",
     "status": "completed"
    },
    "tags": []
   },
   "outputs": [],
   "source": [
    "training_xdata = X_train\n",
    "testing_xdata = X_test\n",
    "training_ydata = y_train.reshape(-1,1)\n",
    "testing_ydata = y_test.reshape(-1,1)"
   ]
  },
  {
   "cell_type": "markdown",
   "id": "played-safety",
   "metadata": {
    "papermill": {
     "duration": 0.028671,
     "end_time": "2021-01-22T10:36:56.121982",
     "exception": false,
     "start_time": "2021-01-22T10:36:56.093311",
     "status": "completed"
    },
    "tags": []
   },
   "source": [
    "### Running Models with the Training data\n",
    "Details about the network layers:\n",
    "- A first affine layer has 784 inputs and does 100 affine transforms. These are followed by a Relu\n",
    "- A second affine layer has 100 inputs from the 100 activations of the past layer, and does 100 affine transforms. These are followed by a Relu\n",
    "- A third affine layer has 100 activations and does 2 affine transformations to create an embedding for visualization. There is no non-linearity here.\n",
    "- A final \"logistic regression\" which has an affine transform from 2 inputs to 1 output, which is squeezed through a sigmoid.\n",
    "\n",
    "Help taken from Anshuman's Notebook."
   ]
  },
  {
   "cell_type": "code",
   "execution_count": 18,
   "id": "asian-bankruptcy",
   "metadata": {
    "execution": {
     "iopub.execute_input": "2021-01-22T10:36:56.185880Z",
     "iopub.status.busy": "2021-01-22T10:36:56.185247Z",
     "iopub.status.idle": "2021-01-22T10:36:56.209006Z",
     "shell.execute_reply": "2021-01-22T10:36:56.209399Z"
    },
    "papermill": {
     "duration": 0.058722,
     "end_time": "2021-01-22T10:36:56.209548",
     "exception": false,
     "start_time": "2021-01-22T10:36:56.150826",
     "status": "completed"
    },
    "tags": []
   },
   "outputs": [],
   "source": [
    "# layers for the Neural Network\n",
    "layers = [Affine(\"first\", 784, 100), Relu(\"first\"), Affine(\"second\", 100, 100), Relu(\"second\"), Affine(\"third\", 100, 2), Affine(\"final\", 2, 1), Sigmoid(\"final\")]\n",
    "model_nn = Model(layers)\n",
    "\n",
    "# layers for the Logistic Regression\n",
    "layers_lr = [Affine(\"logits\", 784, 1), Sigmoid(\"sigmoid\")]\n",
    "model_lr = Model(layers_lr)"
   ]
  },
  {
   "cell_type": "code",
   "execution_count": 19,
   "id": "removed-butler",
   "metadata": {
    "execution": {
     "iopub.execute_input": "2021-01-22T10:36:56.275167Z",
     "iopub.status.busy": "2021-01-22T10:36:56.274647Z",
     "iopub.status.idle": "2021-01-22T10:36:56.284659Z",
     "shell.execute_reply": "2021-01-22T10:36:56.284249Z"
    },
    "papermill": {
     "duration": 0.046507,
     "end_time": "2021-01-22T10:36:56.284779",
     "exception": false,
     "start_time": "2021-01-22T10:36:56.238272",
     "status": "completed"
    },
    "tags": []
   },
   "outputs": [],
   "source": [
    "# suffix _nn stands for Neural Network.\n",
    "learner_nn = Learner(loss, model_nn, opt, config.num_epochs)\n",
    "acc_nn = ClfCallback(learner_nn, config.bs, training_xdata , testing_xdata, training_ydata, testing_ydata)\n",
    "learner_nn.set_callbacks([acc_nn])"
   ]
  },
  {
   "cell_type": "code",
   "execution_count": 20,
   "id": "conceptual-throw",
   "metadata": {
    "execution": {
     "iopub.execute_input": "2021-01-22T10:36:56.347355Z",
     "iopub.status.busy": "2021-01-22T10:36:56.346850Z",
     "iopub.status.idle": "2021-01-22T10:38:16.862430Z",
     "shell.execute_reply": "2021-01-22T10:38:16.863109Z"
    },
    "papermill": {
     "duration": 80.549236,
     "end_time": "2021-01-22T10:38:16.863260",
     "exception": false,
     "start_time": "2021-01-22T10:36:56.314024",
     "status": "completed"
    },
    "tags": []
   },
   "outputs": [
    {
     "name": "stdout",
     "output_type": "stream",
     "text": [
      "====== Neural Network ======\n"
     ]
    },
    {
     "name": "stdout",
     "output_type": "stream",
     "text": [
      "Epoch 0, Loss 0.2521\n",
      "Training Accuracy: 0.4809, Testing Accuracy: 0.4879\n",
      "\n"
     ]
    },
    {
     "name": "stdout",
     "output_type": "stream",
     "text": [
      "Epoch 10, Loss 0.2142\n",
      "Training Accuracy: 0.8499, Testing Accuracy: 0.8564\n",
      "\n"
     ]
    },
    {
     "name": "stdout",
     "output_type": "stream",
     "text": [
      "Epoch 20, Loss 0.1194\n",
      "Training Accuracy: 0.8994, Testing Accuracy: 0.9113\n",
      "\n"
     ]
    },
    {
     "name": "stdout",
     "output_type": "stream",
     "text": [
      "Epoch 30, Loss 0.0673\n",
      "Training Accuracy: 0.9315, Testing Accuracy: 0.9385\n",
      "\n"
     ]
    },
    {
     "name": "stdout",
     "output_type": "stream",
     "text": [
      "Epoch 40, Loss 0.0493\n",
      "Training Accuracy: 0.9479, Testing Accuracy: 0.9551\n",
      "\n"
     ]
    },
    {
     "name": "stdout",
     "output_type": "stream",
     "text": [
      "Epoch 50, Loss 0.0411\n",
      "Training Accuracy: 0.9560, Testing Accuracy: 0.9617\n",
      "\n"
     ]
    },
    {
     "name": "stdout",
     "output_type": "stream",
     "text": [
      "Epoch 60, Loss 0.0366\n",
      "Training Accuracy: 0.9595, Testing Accuracy: 0.9647\n",
      "\n"
     ]
    },
    {
     "name": "stdout",
     "output_type": "stream",
     "text": [
      "Epoch 70, Loss 0.0337\n",
      "Training Accuracy: 0.9619, Testing Accuracy: 0.9682\n",
      "\n"
     ]
    },
    {
     "name": "stdout",
     "output_type": "stream",
     "text": [
      "Epoch 80, Loss 0.0316\n",
      "Training Accuracy: 0.9636, Testing Accuracy: 0.9688\n",
      "\n"
     ]
    },
    {
     "name": "stdout",
     "output_type": "stream",
     "text": [
      "Epoch 90, Loss 0.03\n",
      "Training Accuracy: 0.9647, Testing Accuracy: 0.9693\n",
      "\n"
     ]
    },
    {
     "name": "stdout",
     "output_type": "stream",
     "text": [
      "Epoch 100, Loss 0.0287\n",
      "Training Accuracy: 0.9661, Testing Accuracy: 0.9693\n",
      "\n"
     ]
    },
    {
     "name": "stdout",
     "output_type": "stream",
     "text": [
      "Epoch 110, Loss 0.0276\n",
      "Training Accuracy: 0.9678, Testing Accuracy: 0.9703\n",
      "\n"
     ]
    },
    {
     "name": "stdout",
     "output_type": "stream",
     "text": [
      "Epoch 120, Loss 0.0267\n",
      "Training Accuracy: 0.9695, Testing Accuracy: 0.9708\n",
      "\n"
     ]
    },
    {
     "name": "stdout",
     "output_type": "stream",
     "text": [
      "Epoch 130, Loss 0.0259\n",
      "Training Accuracy: 0.9698, Testing Accuracy: 0.9708\n",
      "\n"
     ]
    },
    {
     "name": "stdout",
     "output_type": "stream",
     "text": [
      "Epoch 140, Loss 0.0251\n",
      "Training Accuracy: 0.9710, Testing Accuracy: 0.9698\n",
      "\n"
     ]
    },
    {
     "name": "stdout",
     "output_type": "stream",
     "text": [
      "Epoch 150, Loss 0.0244\n",
      "Training Accuracy: 0.9718, Testing Accuracy: 0.9693\n",
      "\n"
     ]
    },
    {
     "name": "stdout",
     "output_type": "stream",
     "text": [
      "Epoch 160, Loss 0.0238\n",
      "Training Accuracy: 0.9723, Testing Accuracy: 0.9698\n",
      "\n"
     ]
    },
    {
     "name": "stdout",
     "output_type": "stream",
     "text": [
      "Epoch 170, Loss 0.0233\n",
      "Training Accuracy: 0.9729, Testing Accuracy: 0.9698\n",
      "\n"
     ]
    },
    {
     "name": "stdout",
     "output_type": "stream",
     "text": [
      "Epoch 180, Loss 0.0227\n",
      "Training Accuracy: 0.9736, Testing Accuracy: 0.9708\n",
      "\n"
     ]
    },
    {
     "name": "stdout",
     "output_type": "stream",
     "text": [
      "Epoch 190, Loss 0.0223\n",
      "Training Accuracy: 0.9745, Testing Accuracy: 0.9713\n",
      "\n"
     ]
    },
    {
     "name": "stdout",
     "output_type": "stream",
     "text": [
      "Epoch 200, Loss 0.0218\n",
      "Training Accuracy: 0.9748, Testing Accuracy: 0.9713\n",
      "\n"
     ]
    },
    {
     "name": "stdout",
     "output_type": "stream",
     "text": [
      "Epoch 210, Loss 0.0214\n",
      "Training Accuracy: 0.9750, Testing Accuracy: 0.9723\n",
      "\n"
     ]
    },
    {
     "name": "stdout",
     "output_type": "stream",
     "text": [
      "Epoch 220, Loss 0.0209\n",
      "Training Accuracy: 0.9755, Testing Accuracy: 0.9723\n",
      "\n"
     ]
    },
    {
     "name": "stdout",
     "output_type": "stream",
     "text": [
      "Epoch 230, Loss 0.0205\n",
      "Training Accuracy: 0.9764, Testing Accuracy: 0.9723\n",
      "\n"
     ]
    },
    {
     "name": "stdout",
     "output_type": "stream",
     "text": [
      "Epoch 240, Loss 0.0202\n",
      "Training Accuracy: 0.9773, Testing Accuracy: 0.9728\n",
      "\n"
     ]
    },
    {
     "name": "stdout",
     "output_type": "stream",
     "text": [
      "Epoch 250, Loss 0.0198\n",
      "Training Accuracy: 0.9779, Testing Accuracy: 0.9738\n",
      "\n"
     ]
    },
    {
     "data": {
      "text/plain": [
       "0.013078775012589831"
      ]
     },
     "execution_count": 20,
     "metadata": {},
     "output_type": "execute_result"
    }
   ],
   "source": [
    "print(\"====== Neural Network ======\")\n",
    "learner_nn.train_loop(dl)"
   ]
  },
  {
   "cell_type": "markdown",
   "id": "competent-suffering",
   "metadata": {
    "papermill": {
     "duration": 0.035366,
     "end_time": "2021-01-22T10:38:16.935336",
     "exception": false,
     "start_time": "2021-01-22T10:38:16.899970",
     "status": "completed"
    },
    "tags": []
   },
   "source": [
    "### Logistic Regression based Implementation."
   ]
  },
  {
   "cell_type": "code",
   "execution_count": 21,
   "id": "qualified-psychiatry",
   "metadata": {
    "execution": {
     "iopub.execute_input": "2021-01-22T10:38:17.015134Z",
     "iopub.status.busy": "2021-01-22T10:38:17.014600Z",
     "iopub.status.idle": "2021-01-22T10:38:17.021466Z",
     "shell.execute_reply": "2021-01-22T10:38:17.021049Z"
    },
    "papermill": {
     "duration": 0.050724,
     "end_time": "2021-01-22T10:38:17.021593",
     "exception": false,
     "start_time": "2021-01-22T10:38:16.970869",
     "status": "completed"
    },
    "tags": []
   },
   "outputs": [],
   "source": [
    "learner_lr = Learner(loss, model_lr, opt, config.num_epochs)\n",
    "acc_lr = ClfCallback(learner_lr, config.bs, training_xdata , testing_xdata, training_ydata, testing_ydata)\n",
    "learner_lr.set_callbacks([acc_lr])"
   ]
  },
  {
   "cell_type": "code",
   "execution_count": 22,
   "id": "average-outside",
   "metadata": {
    "execution": {
     "iopub.execute_input": "2021-01-22T10:38:17.099792Z",
     "iopub.status.busy": "2021-01-22T10:38:17.099259Z",
     "iopub.status.idle": "2021-01-22T10:38:31.445021Z",
     "shell.execute_reply": "2021-01-22T10:38:31.445733Z"
    },
    "papermill": {
     "duration": 14.3884,
     "end_time": "2021-01-22T10:38:31.445906",
     "exception": false,
     "start_time": "2021-01-22T10:38:17.057506",
     "status": "completed"
    },
    "tags": []
   },
   "outputs": [
    {
     "name": "stdout",
     "output_type": "stream",
     "text": [
      "====== Logistic Regression ======\n",
      "Epoch 0, Loss 0.2649\n",
      "Training Accuracy: 0.5831, Testing Accuracy: 0.5917\n",
      "\n"
     ]
    },
    {
     "name": "stdout",
     "output_type": "stream",
     "text": [
      "Epoch 10, Loss 0.1025\n",
      "Training Accuracy: 0.9140, Testing Accuracy: 0.9229\n",
      "\n"
     ]
    },
    {
     "name": "stdout",
     "output_type": "stream",
     "text": [
      "Epoch 20, Loss 0.0785\n",
      "Training Accuracy: 0.9296, Testing Accuracy: 0.9390\n",
      "\n"
     ]
    },
    {
     "name": "stdout",
     "output_type": "stream",
     "text": [
      "Epoch 30, Loss 0.0675\n",
      "Training Accuracy: 0.9385, Testing Accuracy: 0.9471\n",
      "\n"
     ]
    },
    {
     "name": "stdout",
     "output_type": "stream",
     "text": [
      "Epoch 40, Loss 0.0609\n",
      "Training Accuracy: 0.9436, Testing Accuracy: 0.9521\n",
      "\n"
     ]
    },
    {
     "name": "stdout",
     "output_type": "stream",
     "text": [
      "Epoch 50, Loss 0.0564\n",
      "Training Accuracy: 0.9466, Testing Accuracy: 0.9551\n",
      "\n"
     ]
    },
    {
     "name": "stdout",
     "output_type": "stream",
     "text": [
      "Epoch 60, Loss 0.0532\n",
      "Training Accuracy: 0.9485, Testing Accuracy: 0.9567\n",
      "\n"
     ]
    },
    {
     "name": "stdout",
     "output_type": "stream",
     "text": [
      "Epoch 70, Loss 0.0506\n",
      "Training Accuracy: 0.9499, Testing Accuracy: 0.9577\n",
      "\n"
     ]
    },
    {
     "name": "stdout",
     "output_type": "stream",
     "text": [
      "Epoch 80, Loss 0.0486\n",
      "Training Accuracy: 0.9515, Testing Accuracy: 0.9592\n",
      "\n"
     ]
    },
    {
     "name": "stdout",
     "output_type": "stream",
     "text": [
      "Epoch 90, Loss 0.047\n",
      "Training Accuracy: 0.9530, Testing Accuracy: 0.9612\n",
      "\n"
     ]
    },
    {
     "name": "stdout",
     "output_type": "stream",
     "text": [
      "Epoch 100, Loss 0.0456\n",
      "Training Accuracy: 0.9537, Testing Accuracy: 0.9617\n",
      "\n"
     ]
    },
    {
     "name": "stdout",
     "output_type": "stream",
     "text": [
      "Epoch 110, Loss 0.0444\n",
      "Training Accuracy: 0.9547, Testing Accuracy: 0.9627\n",
      "\n"
     ]
    },
    {
     "name": "stdout",
     "output_type": "stream",
     "text": [
      "Epoch 120, Loss 0.0434\n",
      "Training Accuracy: 0.9560, Testing Accuracy: 0.9627\n",
      "\n"
     ]
    },
    {
     "name": "stdout",
     "output_type": "stream",
     "text": [
      "Epoch 130, Loss 0.0424\n",
      "Training Accuracy: 0.9566, Testing Accuracy: 0.9632\n",
      "\n"
     ]
    },
    {
     "name": "stdout",
     "output_type": "stream",
     "text": [
      "Epoch 140, Loss 0.0416\n",
      "Training Accuracy: 0.9569, Testing Accuracy: 0.9647\n",
      "\n"
     ]
    },
    {
     "name": "stdout",
     "output_type": "stream",
     "text": [
      "Epoch 150, Loss 0.0409\n",
      "Training Accuracy: 0.9574, Testing Accuracy: 0.9657\n",
      "\n"
     ]
    },
    {
     "name": "stdout",
     "output_type": "stream",
     "text": [
      "Epoch 160, Loss 0.0403\n",
      "Training Accuracy: 0.9580, Testing Accuracy: 0.9652\n",
      "\n"
     ]
    },
    {
     "name": "stdout",
     "output_type": "stream",
     "text": [
      "Epoch 170, Loss 0.0397\n",
      "Training Accuracy: 0.9589, Testing Accuracy: 0.9662\n",
      "\n"
     ]
    },
    {
     "name": "stdout",
     "output_type": "stream",
     "text": [
      "Epoch 180, Loss 0.0391\n",
      "Training Accuracy: 0.9593, Testing Accuracy: 0.9672\n",
      "\n"
     ]
    },
    {
     "name": "stdout",
     "output_type": "stream",
     "text": [
      "Epoch 190, Loss 0.0386\n",
      "Training Accuracy: 0.9595, Testing Accuracy: 0.9672\n",
      "\n"
     ]
    },
    {
     "name": "stdout",
     "output_type": "stream",
     "text": [
      "Epoch 200, Loss 0.0381\n",
      "Training Accuracy: 0.9604, Testing Accuracy: 0.9677\n",
      "\n"
     ]
    },
    {
     "name": "stdout",
     "output_type": "stream",
     "text": [
      "Epoch 210, Loss 0.0377\n",
      "Training Accuracy: 0.9609, Testing Accuracy: 0.9672\n",
      "\n"
     ]
    },
    {
     "name": "stdout",
     "output_type": "stream",
     "text": [
      "Epoch 220, Loss 0.0373\n",
      "Training Accuracy: 0.9612, Testing Accuracy: 0.9672\n",
      "\n"
     ]
    },
    {
     "name": "stdout",
     "output_type": "stream",
     "text": [
      "Epoch 230, Loss 0.0369\n",
      "Training Accuracy: 0.9612, Testing Accuracy: 0.9672\n",
      "\n"
     ]
    },
    {
     "name": "stdout",
     "output_type": "stream",
     "text": [
      "Epoch 240, Loss 0.0366\n",
      "Training Accuracy: 0.9614, Testing Accuracy: 0.9667\n",
      "\n"
     ]
    },
    {
     "name": "stdout",
     "output_type": "stream",
     "text": [
      "Epoch 250, Loss 0.0363\n",
      "Training Accuracy: 0.9615, Testing Accuracy: 0.9667\n",
      "\n"
     ]
    },
    {
     "data": {
      "text/plain": [
       "0.0479104209032144"
      ]
     },
     "execution_count": 22,
     "metadata": {},
     "output_type": "execute_result"
    }
   ],
   "source": [
    "print(\"====== Logistic Regression ======\")\n",
    "learner_lr.train_loop(dl)"
   ]
  },
  {
   "cell_type": "markdown",
   "id": "adjusted-possible",
   "metadata": {
    "papermill": {
     "duration": 0.042419,
     "end_time": "2021-01-22T10:38:31.531384",
     "exception": false,
     "start_time": "2021-01-22T10:38:31.488965",
     "status": "completed"
    },
    "tags": []
   },
   "source": [
    "### Comparing results of NN and LR"
   ]
  },
  {
   "cell_type": "code",
   "execution_count": 23,
   "id": "mental-multimedia",
   "metadata": {
    "execution": {
     "iopub.execute_input": "2021-01-22T10:38:31.621147Z",
     "iopub.status.busy": "2021-01-22T10:38:31.620597Z",
     "iopub.status.idle": "2021-01-22T10:38:31.864444Z",
     "shell.execute_reply": "2021-01-22T10:38:31.864855Z"
    },
    "papermill": {
     "duration": 0.291085,
     "end_time": "2021-01-22T10:38:31.865007",
     "exception": false,
     "start_time": "2021-01-22T10:38:31.573922",
     "status": "completed"
    },
    "tags": []
   },
   "outputs": [
    {
     "data": {
      "text/plain": [
       "<matplotlib.legend.Legend at 0x7fef36212278>"
      ]
     },
     "execution_count": 23,
     "metadata": {},
     "output_type": "execute_result"
    },
    {
     "data": {
      "image/png": "[encoded data removed]",
      "text/plain": [
       "<Figure size 1080x720 with 1 Axes>"
      ]
     },
     "metadata": {
      "needs_background": "light"
     },
     "output_type": "display_data"
    }
   ],
   "source": [
    "plt.figure(figsize=(15,10))\n",
    "\n",
    "# Neural Network plots\n",
    "plt.plot(acc_nn.accuracies, 'r-', label = \"Training Accuracies - NN\")\n",
    "plt.plot(acc_nn.test_accuracies, 'g-', label = \"Testing Accuracies - NN\")\n",
    "\n",
    "# Logistic Regression plots\n",
    "plt.plot(acc_lr.accuracies, 'k-', label = \"Training Accuracies - LR\")\n",
    "plt.plot(acc_lr.test_accuracies, 'b-', label = \"Testing Accuracies - LR\")\n",
    "\n",
    "plt.ylim(0.8, 1)\n",
    "\n",
    "plt.legend()\n",
    "\n"
   ]
  },
  {
   "cell_type": "markdown",
   "id": "sexual-flesh",
   "metadata": {
    "papermill": {
     "duration": 0.044573,
     "end_time": "2021-01-22T10:38:31.954324",
     "exception": false,
     "start_time": "2021-01-22T10:38:31.909751",
     "status": "completed"
    },
    "tags": []
   },
   "source": [
    "### From the plot, we can observe the following:\n",
    "- Neural Network achieves higher accuracy than the Logistic Regression model.\n",
    "- This apparently, is because of overfitting, i.e. NN captures more noise than data.\n",
    "- Testing accuracy of NN drops below the Training accuracy at higher epochs. This explains the over-fitting on training data.\n",
    "- Logistic Regression gives a reliable accuracy, without the above mentioned problem.\n"
   ]
  },
  {
   "cell_type": "markdown",
   "id": "institutional-pacific",
   "metadata": {
    "papermill": {
     "duration": 0.044106,
     "end_time": "2021-01-22T10:38:32.042609",
     "exception": false,
     "start_time": "2021-01-22T10:38:31.998503",
     "status": "completed"
    },
    "tags": []
   },
   "source": [
    "### Moving till the last but one layer (excluding it).\n",
    "#### Plotting the outputs of this layer of the NN."
   ]
  },
  {
   "cell_type": "code",
   "execution_count": 24,
   "id": "economic-server",
   "metadata": {
    "execution": {
     "iopub.execute_input": "2021-01-22T10:38:32.137360Z",
     "iopub.status.busy": "2021-01-22T10:38:32.136838Z",
     "iopub.status.idle": "2021-01-22T10:38:32.147495Z",
     "shell.execute_reply": "2021-01-22T10:38:32.147071Z"
    },
    "papermill": {
     "duration": 0.060707,
     "end_time": "2021-01-22T10:38:32.147621",
     "exception": false,
     "start_time": "2021-01-22T10:38:32.086914",
     "status": "completed"
    },
    "tags": []
   },
   "outputs": [],
   "source": [
    "model_new = Model(layers[:-2])"
   ]
  },
  {
   "cell_type": "code",
   "execution_count": 25,
   "id": "varied-upgrade",
   "metadata": {
    "execution": {
     "iopub.execute_input": "2021-01-22T10:38:32.241182Z",
     "iopub.status.busy": "2021-01-22T10:38:32.240665Z",
     "iopub.status.idle": "2021-01-22T10:38:32.260142Z",
     "shell.execute_reply": "2021-01-22T10:38:32.260591Z"
    },
    "papermill": {
     "duration": 0.068592,
     "end_time": "2021-01-22T10:38:32.260742",
     "exception": false,
     "start_time": "2021-01-22T10:38:32.192150",
     "status": "completed"
    },
    "tags": []
   },
   "outputs": [],
   "source": [
    "plot_testing = model_new(testing_xdata)"
   ]
  },
  {
   "cell_type": "code",
   "execution_count": 26,
   "id": "specific-handling",
   "metadata": {
    "execution": {
     "iopub.execute_input": "2021-01-22T10:38:32.359217Z",
     "iopub.status.busy": "2021-01-22T10:38:32.358706Z",
     "iopub.status.idle": "2021-01-22T10:38:32.536334Z",
     "shell.execute_reply": "2021-01-22T10:38:32.536724Z"
    },
    "papermill": {
     "duration": 0.231431,
     "end_time": "2021-01-22T10:38:32.536879",
     "exception": false,
     "start_time": "2021-01-22T10:38:32.305448",
     "status": "completed"
    },
    "tags": []
   },
   "outputs": [
    {
     "data": {
      "text/plain": [
       "Text(0.5, 1.0, 'Outputs')"
      ]
     },
     "execution_count": 26,
     "metadata": {},
     "output_type": "execute_result"
    },
    {
     "data": {
      "image/png": "[encoded data removed]",
      "text/plain": [
       "<Figure size 576x504 with 1 Axes>"
      ]
     },
     "metadata": {
      "needs_background": "light"
     },
     "output_type": "display_data"
    }
   ],
   "source": [
    "plt.figure(figsize=(8,7))\n",
    "plt.scatter(plot_testing[:,0], plot_testing[:,1], alpha = 0.1, c = y_test.ravel());\n",
    "plt.title('Outputs')"
   ]
  },
  {
   "cell_type": "markdown",
   "id": "described-knowing",
   "metadata": {
    "papermill": {
     "duration": 0.045864,
     "end_time": "2021-01-22T10:38:32.628798",
     "exception": false,
     "start_time": "2021-01-22T10:38:32.582934",
     "status": "completed"
    },
    "tags": []
   },
   "source": [
    "### Plotting probability contours"
   ]
  },
  {
   "cell_type": "code",
   "execution_count": 27,
   "id": "needed-growing",
   "metadata": {
    "execution": {
     "iopub.execute_input": "2021-01-22T10:38:32.725059Z",
     "iopub.status.busy": "2021-01-22T10:38:32.724551Z",
     "iopub.status.idle": "2021-01-22T10:38:32.735621Z",
     "shell.execute_reply": "2021-01-22T10:38:32.735216Z"
    },
    "papermill": {
     "duration": 0.060997,
     "end_time": "2021-01-22T10:38:32.735745",
     "exception": false,
     "start_time": "2021-01-22T10:38:32.674748",
     "status": "completed"
    },
    "tags": []
   },
   "outputs": [],
   "source": [
    "model_prob = Model(layers[-2:]) "
   ]
  },
  {
   "cell_type": "code",
   "execution_count": 28,
   "id": "introductory-enforcement",
   "metadata": {
    "execution": {
     "iopub.execute_input": "2021-01-22T10:38:32.832381Z",
     "iopub.status.busy": "2021-01-22T10:38:32.831822Z",
     "iopub.status.idle": "2021-01-22T10:38:32.846532Z",
     "shell.execute_reply": "2021-01-22T10:38:32.846918Z"
    },
    "papermill": {
     "duration": 0.065256,
     "end_time": "2021-01-22T10:38:32.847069",
     "exception": false,
     "start_time": "2021-01-22T10:38:32.781813",
     "status": "completed"
    },
    "tags": []
   },
   "outputs": [],
   "source": [
    "# Adjust the x and y ranges according to the above generated plot.\n",
    "x_range = np.linspace(-4, 1, 100) \n",
    "y_range = np.linspace(-6, 6, 100) \n",
    "x_grid, y_grid = np.meshgrid(x_range, y_range) # x_grid and y_grig are of size 100 X 100\n",
    "\n",
    "# converting x_grid and y_grid to continuous arrays\n",
    "x_grid_flat = np.ravel(x_grid)\n",
    "y_grid_flat = np.ravel(y_grid)\n",
    "\n",
    "# The last layer of the current model takes two columns as input. Hence transpose of np.vstack() is required.\n",
    "X = np.vstack((x_grid_flat, y_grid_flat)).T\n",
    "\n",
    "# x_grid and y_grid are of size 100 x 100\n",
    "probability_contour = model_prob(X).reshape(100,100) "
   ]
  },
  {
   "cell_type": "code",
   "execution_count": 29,
   "id": "understood-landing",
   "metadata": {
    "execution": {
     "iopub.execute_input": "2021-01-22T10:38:32.977088Z",
     "iopub.status.busy": "2021-01-22T10:38:32.976425Z",
     "iopub.status.idle": "2021-01-22T10:38:33.207264Z",
     "shell.execute_reply": "2021-01-22T10:38:33.206640Z"
    },
    "papermill": {
     "duration": 0.281093,
     "end_time": "2021-01-22T10:38:33.207407",
     "exception": false,
     "start_time": "2021-01-22T10:38:32.926314",
     "status": "completed"
    },
    "tags": []
   },
   "outputs": [
    {
     "data": {
      "image/png": "[encoded data removed]",
      "text/plain": [
       "<Figure size 720x648 with 1 Axes>"
      ]
     },
     "metadata": {
      "needs_background": "light"
     },
     "output_type": "display_data"
    }
   ],
   "source": [
    "plt.figure(figsize=(10,9))\n",
    "plt.scatter(plot_testing[:,0], plot_testing[:,1], alpha = 0.1, c = y_test.ravel())\n",
    "contours = plt.contour(x_grid,y_grid,probability_contour)\n",
    "plt.title('Probability Contours')\n",
    "plt.clabel(contours, inline = True );"
   ]
  }
 ],
 "metadata": {
  "kernelspec": {
   "display_name": "Python 3",
   "language": "python",
   "name": "python3"
  },
  "language_info": {
   "codemirror_mode": {
    "name": "ipython",
    "version": 3
   },
   "file_extension": ".py",
   "mimetype": "text/x-python",
   "name": "python",
   "nbconvert_exporter": "python",
   "pygments_lexer": "ipython3",
   "version": "3.6.12"
  },
  "papermill": {
   "duration": 103.671625,
   "end_time": "2021-01-22T10:38:33.667028",
   "environment_variables": {},
   "exception": null,
   "input_path": "2020-08-11-NeuralNetwork.ipynb",
   "output_path": "2020-08-11-NeuralNetwork.ipynb",
   "parameters": {},
   "start_time": "2021-01-22T10:36:49.995403",
   "version": "2.1.2"
  }
 },
 "nbformat": 4,
 "nbformat_minor": 5
}