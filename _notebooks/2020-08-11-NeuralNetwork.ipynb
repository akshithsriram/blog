{
 "cells": [
  {
   "cell_type": "markdown",
   "metadata": {
    "papermill": {
     "duration": 0.030874,
     "end_time": "2021-01-12T00:24:48.548386",
     "exception": false,
     "start_time": "2021-01-12T00:24:48.517512",
     "status": "completed"
    },
    "tags": []
   },
   "source": [
    "# \"A Basic Neural Network: Differentiate Hand-Written Digits\"\n",
    "\n",
    "- badges: true\n",
    "- author: Akshith Sriram"
   ]
  },
  {
   "cell_type": "markdown",
   "metadata": {
    "papermill": {
     "duration": 0.028492,
     "end_time": "2021-01-12T00:24:48.603135",
     "exception": false,
     "start_time": "2021-01-12T00:24:48.574643",
     "status": "completed"
    },
    "tags": []
   },
   "source": [
    "### Key Objectives:\n",
    "- Building a neural network that differentiates two hand-written digits 3 and 8.\n",
    "- Comparing the results of this Neural Network (NN) to that of a Logistic Regression (LR) model.\n",
    "\n",
    "### Requirements:\n",
    "- 'Kudzu' : A neural network library that was designed during our course by [Univ.AI](www.univ.ai). \n",
    "- MNIST Database\n",
    "\n",
    "If MNIST is not installed, use the command `!pip install mnist` given below.\n",
    "It can be run both from the command line and Jupyter Notebook."
   ]
  },
  {
   "cell_type": "code",
   "execution_count": 1,
   "metadata": {
    "execution": {
     "iopub.execute_input": "2021-01-12T00:24:48.671191Z",
     "iopub.status.busy": "2021-01-12T00:24:48.668932Z",
     "iopub.status.idle": "2021-01-12T00:24:50.293637Z",
     "shell.execute_reply": "2021-01-12T00:24:50.293026Z"
    },
    "papermill": {
     "duration": 1.664528,
     "end_time": "2021-01-12T00:24:50.293813",
     "exception": false,
     "start_time": "2021-01-12T00:24:48.629285",
     "status": "completed"
    },
    "tags": []
   },
   "outputs": [
    {
     "name": "stdout",
     "output_type": "stream",
     "text": [
      "Collecting mnist\r\n"
     ]
    },
    {
     "name": "stdout",
     "output_type": "stream",
     "text": [
      "  Downloading mnist-0.2.2-py2.py3-none-any.whl (3.5 kB)\r\n",
      "Requirement already satisfied: numpy in /opt/hostedtoolcache/Python/3.6.12/x64/lib/python3.6/site-packages (from mnist) (1.19.5)\r\n"
     ]
    },
    {
     "name": "stdout",
     "output_type": "stream",
     "text": [
      "Installing collected packages: mnist\r\n"
     ]
    },
    {
     "name": "stdout",
     "output_type": "stream",
     "text": [
      "Successfully installed mnist-0.2.2\r\n",
      "\u001b[33mWARNING: You are using pip version 20.3.1; however, version 20.3.3 is available.\r\n",
      "You should consider upgrading via the '/opt/hostedtoolcache/Python/3.6.12/x64/bin/python -m pip install --upgrade pip' command.\u001b[0m\r\n"
     ]
    }
   ],
   "source": [
    "!pip install mnist "
   ]
  },
  {
   "cell_type": "markdown",
   "metadata": {
    "papermill": {
     "duration": 0.026745,
     "end_time": "2021-01-12T00:24:50.347410",
     "exception": false,
     "start_time": "2021-01-12T00:24:50.320665",
     "status": "completed"
    },
    "tags": []
   },
   "source": [
    "#### Importing necessary libraries"
   ]
  },
  {
   "cell_type": "code",
   "execution_count": 2,
   "metadata": {
    "execution": {
     "iopub.execute_input": "2021-01-12T00:24:50.408570Z",
     "iopub.status.busy": "2021-01-12T00:24:50.407924Z",
     "iopub.status.idle": "2021-01-12T00:24:50.996494Z",
     "shell.execute_reply": "2021-01-12T00:24:50.995917Z"
    },
    "papermill": {
     "duration": 0.62242,
     "end_time": "2021-01-12T00:24:50.996637",
     "exception": false,
     "start_time": "2021-01-12T00:24:50.374217",
     "status": "completed"
    },
    "tags": []
   },
   "outputs": [],
   "source": [
    "%load_ext autoreload\n",
    "%autoreload 2\n",
    "\n",
    "%matplotlib inline\n",
    "import matplotlib.pyplot as plt\n",
    "\n",
    "import numpy as np\n",
    "import pandas as pd"
   ]
  },
  {
   "cell_type": "markdown",
   "metadata": {
    "papermill": {
     "duration": 0.197456,
     "end_time": "2021-01-12T00:24:51.221012",
     "exception": false,
     "start_time": "2021-01-12T00:24:51.023556",
     "status": "completed"
    },
    "tags": []
   },
   "source": [
    "### Preparing the Data"
   ]
  },
  {
   "cell_type": "code",
   "execution_count": 3,
   "metadata": {
    "execution": {
     "iopub.execute_input": "2021-01-12T00:24:51.283174Z",
     "iopub.status.busy": "2021-01-12T00:24:51.282211Z",
     "iopub.status.idle": "2021-01-12T00:24:51.295221Z",
     "shell.execute_reply": "2021-01-12T00:24:51.294658Z"
    },
    "papermill": {
     "duration": 0.043838,
     "end_time": "2021-01-12T00:24:51.295357",
     "exception": false,
     "start_time": "2021-01-12T00:24:51.251519",
     "status": "completed"
    },
    "tags": []
   },
   "outputs": [],
   "source": [
    "import mnist"
   ]
  },
  {
   "cell_type": "code",
   "execution_count": 4,
   "metadata": {
    "execution": {
     "iopub.execute_input": "2021-01-12T00:24:51.355601Z",
     "iopub.status.busy": "2021-01-12T00:24:51.355006Z",
     "iopub.status.idle": "2021-01-12T00:24:52.151028Z",
     "shell.execute_reply": "2021-01-12T00:24:52.151563Z"
    },
    "papermill": {
     "duration": 0.828714,
     "end_time": "2021-01-12T00:24:52.151776",
     "exception": false,
     "start_time": "2021-01-12T00:24:51.323062",
     "status": "completed"
    },
    "tags": []
   },
   "outputs": [],
   "source": [
    "train_images = mnist.train_images()\n",
    "train_labels = mnist.train_labels()"
   ]
  },
  {
   "cell_type": "code",
   "execution_count": 5,
   "metadata": {
    "execution": {
     "iopub.execute_input": "2021-01-12T00:24:52.209926Z",
     "iopub.status.busy": "2021-01-12T00:24:52.209327Z",
     "iopub.status.idle": "2021-01-12T00:24:52.224516Z",
     "shell.execute_reply": "2021-01-12T00:24:52.224014Z"
    },
    "papermill": {
     "duration": 0.045812,
     "end_time": "2021-01-12T00:24:52.224654",
     "exception": false,
     "start_time": "2021-01-12T00:24:52.178842",
     "status": "completed"
    },
    "tags": []
   },
   "outputs": [
    {
     "data": {
      "text/plain": [
       "((60000, 28, 28), (60000,))"
      ]
     },
     "execution_count": 5,
     "metadata": {},
     "output_type": "execute_result"
    }
   ],
   "source": [
    "train_images.shape, train_labels.shape"
   ]
  },
  {
   "cell_type": "code",
   "execution_count": 6,
   "metadata": {
    "execution": {
     "iopub.execute_input": "2021-01-12T00:24:52.287852Z",
     "iopub.status.busy": "2021-01-12T00:24:52.287130Z",
     "iopub.status.idle": "2021-01-12T00:24:52.574133Z",
     "shell.execute_reply": "2021-01-12T00:24:52.573537Z"
    },
    "papermill": {
     "duration": 0.320361,
     "end_time": "2021-01-12T00:24:52.574302",
     "exception": false,
     "start_time": "2021-01-12T00:24:52.253941",
     "status": "completed"
    },
    "tags": []
   },
   "outputs": [],
   "source": [
    "test_images = mnist.test_images()\n",
    "test_labels = mnist.test_labels()"
   ]
  },
  {
   "cell_type": "code",
   "execution_count": 7,
   "metadata": {
    "execution": {
     "iopub.execute_input": "2021-01-12T00:24:52.649229Z",
     "iopub.status.busy": "2021-01-12T00:24:52.648598Z",
     "iopub.status.idle": "2021-01-12T00:24:52.657212Z",
     "shell.execute_reply": "2021-01-12T00:24:52.656699Z"
    },
    "papermill": {
     "duration": 0.052604,
     "end_time": "2021-01-12T00:24:52.657346",
     "exception": false,
     "start_time": "2021-01-12T00:24:52.604742",
     "status": "completed"
    },
    "tags": []
   },
   "outputs": [
    {
     "data": {
      "text/plain": [
       "((10000, 28, 28), (10000,))"
      ]
     },
     "execution_count": 7,
     "metadata": {},
     "output_type": "execute_result"
    }
   ],
   "source": [
    "test_images.shape, test_labels.shape"
   ]
  },
  {
   "cell_type": "code",
   "execution_count": 8,
   "metadata": {
    "execution": {
     "iopub.execute_input": "2021-01-12T00:24:52.721031Z",
     "iopub.status.busy": "2021-01-12T00:24:52.720405Z",
     "iopub.status.idle": "2021-01-12T00:24:52.863113Z",
     "shell.execute_reply": "2021-01-12T00:24:52.863757Z"
    },
    "papermill": {
     "duration": 0.179073,
     "end_time": "2021-01-12T00:24:52.863925",
     "exception": false,
     "start_time": "2021-01-12T00:24:52.684852",
     "status": "completed"
    },
    "tags": []
   },
   "outputs": [
    {
     "name": "stdout",
     "output_type": "stream",
     "text": [
      "2\n"
     ]
    },
    {
     "data": {
      "text/plain": [
       "<matplotlib.image.AxesImage at 0x7f1df2788390>"
      ]
     },
     "execution_count": 8,
     "metadata": {},
     "output_type": "execute_result"
    },
    {
     "data": {
      "image/png": "[encoded data removed]",
      "text/plain": [
       "<Figure size 432x288 with 1 Axes>"
      ]
     },
     "metadata": {
      "needs_background": "light"
     },
     "output_type": "display_data"
    }
   ],
   "source": [
    "image_index = 7776 # You may select anything up to 60,000\n",
    "print(train_labels[image_index]) \n",
    "plt.imshow(train_images[image_index], cmap='Greys')"
   ]
  },
  {
   "cell_type": "markdown",
   "metadata": {
    "papermill": {
     "duration": 0.028663,
     "end_time": "2021-01-12T00:24:52.922032",
     "exception": false,
     "start_time": "2021-01-12T00:24:52.893369",
     "status": "completed"
    },
    "tags": []
   },
   "source": [
    "## Filter data to get 3 and 8 out"
   ]
  },
  {
   "cell_type": "code",
   "execution_count": 9,
   "metadata": {
    "execution": {
     "iopub.execute_input": "2021-01-12T00:24:52.998253Z",
     "iopub.status.busy": "2021-01-12T00:24:52.997508Z",
     "iopub.status.idle": "2021-01-12T00:24:53.014955Z",
     "shell.execute_reply": "2021-01-12T00:24:53.014475Z"
    },
    "papermill": {
     "duration": 0.062575,
     "end_time": "2021-01-12T00:24:53.015088",
     "exception": false,
     "start_time": "2021-01-12T00:24:52.952513",
     "status": "completed"
    },
    "tags": []
   },
   "outputs": [],
   "source": [
    "train_filter = np.where((train_labels == 3 ) | (train_labels == 8))\n",
    "test_filter = np.where((test_labels == 3) | (test_labels == 8))\n",
    "X_train, y_train = train_images[train_filter], train_labels[train_filter]\n",
    "X_test, y_test = test_images[test_filter], test_labels[test_filter]"
   ]
  },
  {
   "cell_type": "markdown",
   "metadata": {
    "papermill": {
     "duration": 0.032125,
     "end_time": "2021-01-12T00:24:53.076604",
     "exception": false,
     "start_time": "2021-01-12T00:24:53.044479",
     "status": "completed"
    },
    "tags": []
   },
   "source": [
    "We normalize the pixel values in the 0 to 1 range"
   ]
  },
  {
   "cell_type": "code",
   "execution_count": 10,
   "metadata": {
    "execution": {
     "iopub.execute_input": "2021-01-12T00:24:53.140276Z",
     "iopub.status.busy": "2021-01-12T00:24:53.139656Z",
     "iopub.status.idle": "2021-01-12T00:24:53.195259Z",
     "shell.execute_reply": "2021-01-12T00:24:53.195781Z"
    },
    "papermill": {
     "duration": 0.089817,
     "end_time": "2021-01-12T00:24:53.195958",
     "exception": false,
     "start_time": "2021-01-12T00:24:53.106141",
     "status": "completed"
    },
    "tags": []
   },
   "outputs": [],
   "source": [
    "X_train = X_train/255.\n",
    "X_test = X_test/255."
   ]
  },
  {
   "cell_type": "markdown",
   "metadata": {
    "papermill": {
     "duration": 0.028461,
     "end_time": "2021-01-12T00:24:53.253303",
     "exception": false,
     "start_time": "2021-01-12T00:24:53.224842",
     "status": "completed"
    },
    "tags": []
   },
   "source": [
    "Setup the labels as 1 (when the digit is 3) and 0 (when the digit is 8)"
   ]
  },
  {
   "cell_type": "code",
   "execution_count": 11,
   "metadata": {
    "execution": {
     "iopub.execute_input": "2021-01-12T00:24:53.314255Z",
     "iopub.status.busy": "2021-01-12T00:24:53.313636Z",
     "iopub.status.idle": "2021-01-12T00:24:53.326325Z",
     "shell.execute_reply": "2021-01-12T00:24:53.325796Z"
    },
    "papermill": {
     "duration": 0.044685,
     "end_time": "2021-01-12T00:24:53.326465",
     "exception": false,
     "start_time": "2021-01-12T00:24:53.281780",
     "status": "completed"
    },
    "tags": []
   },
   "outputs": [],
   "source": [
    "y_train = 1*(y_train==3)\n",
    "y_test = 1*(y_test==3)"
   ]
  },
  {
   "cell_type": "code",
   "execution_count": 12,
   "metadata": {
    "execution": {
     "iopub.execute_input": "2021-01-12T00:24:53.388755Z",
     "iopub.status.busy": "2021-01-12T00:24:53.388095Z",
     "iopub.status.idle": "2021-01-12T00:24:53.404989Z",
     "shell.execute_reply": "2021-01-12T00:24:53.405450Z"
    },
    "papermill": {
     "duration": 0.050345,
     "end_time": "2021-01-12T00:24:53.405614",
     "exception": false,
     "start_time": "2021-01-12T00:24:53.355269",
     "status": "completed"
    },
    "tags": []
   },
   "outputs": [
    {
     "data": {
      "text/plain": [
       "((11982, 28, 28), (1984, 28, 28))"
      ]
     },
     "execution_count": 12,
     "metadata": {},
     "output_type": "execute_result"
    }
   ],
   "source": [
    "X_train.shape, X_test.shape"
   ]
  },
  {
   "cell_type": "markdown",
   "metadata": {
    "papermill": {
     "duration": 0.028682,
     "end_time": "2021-01-12T00:24:53.462775",
     "exception": false,
     "start_time": "2021-01-12T00:24:53.434093",
     "status": "completed"
    },
    "tags": []
   },
   "source": [
    "### Reshape the input data to create a linear array"
   ]
  },
  {
   "cell_type": "code",
   "execution_count": 13,
   "metadata": {
    "execution": {
     "iopub.execute_input": "2021-01-12T00:24:53.526265Z",
     "iopub.status.busy": "2021-01-12T00:24:53.525688Z",
     "iopub.status.idle": "2021-01-12T00:24:53.541553Z",
     "shell.execute_reply": "2021-01-12T00:24:53.541028Z"
    },
    "papermill": {
     "duration": 0.050161,
     "end_time": "2021-01-12T00:24:53.541685",
     "exception": false,
     "start_time": "2021-01-12T00:24:53.491524",
     "status": "completed"
    },
    "tags": []
   },
   "outputs": [
    {
     "data": {
      "text/plain": [
       "((11982, 784), (1984, 784))"
      ]
     },
     "execution_count": 13,
     "metadata": {},
     "output_type": "execute_result"
    }
   ],
   "source": [
    "X_train = X_train.reshape(X_train.shape[0], -1)\n",
    "X_test = X_test.reshape(X_test.shape[0], -1)\n",
    "X_train.shape, X_test.shape"
   ]
  },
  {
   "cell_type": "markdown",
   "metadata": {
    "papermill": {
     "duration": 0.028842,
     "end_time": "2021-01-12T00:24:53.599483",
     "exception": false,
     "start_time": "2021-01-12T00:24:53.570641",
     "status": "completed"
    },
    "tags": []
   },
   "source": [
    "### Importing appropriate functions from 'Kudzu'"
   ]
  },
  {
   "cell_type": "code",
   "execution_count": 14,
   "metadata": {
    "execution": {
     "iopub.execute_input": "2021-01-12T00:24:53.677186Z",
     "iopub.status.busy": "2021-01-12T00:24:53.667985Z",
     "iopub.status.idle": "2021-01-12T00:24:53.686905Z",
     "shell.execute_reply": "2021-01-12T00:24:53.687390Z"
    },
    "papermill": {
     "duration": 0.058823,
     "end_time": "2021-01-12T00:24:53.687560",
     "exception": false,
     "start_time": "2021-01-12T00:24:53.628737",
     "status": "completed"
    },
    "tags": []
   },
   "outputs": [],
   "source": [
    "from kudzu.layer import Sigmoid\n",
    "from kudzu.layer import Relu\n",
    "from kudzu.layer import Affine, Sigmoid\n",
    "\n",
    "from kudzu.model import Model\n",
    "from kudzu.train import Learner\n",
    "from kudzu.optim import GD\n",
    "from kudzu.data import Data, Dataloader, Sampler\n",
    "\n",
    "from kudzu.callbacks import AccCallback\n",
    "from kudzu.callbacks import ClfCallback\n",
    "\n",
    "from kudzu.loss import MSE"
   ]
  },
  {
   "cell_type": "markdown",
   "metadata": {
    "papermill": {
     "duration": 0.028934,
     "end_time": "2021-01-12T00:24:53.745814",
     "exception": false,
     "start_time": "2021-01-12T00:24:53.716880",
     "status": "completed"
    },
    "tags": []
   },
   "source": [
    "### Let us create a `Config` class, to store important parameters. \n",
    "This class essentially plays the role of a dictionary."
   ]
  },
  {
   "cell_type": "code",
   "execution_count": 15,
   "metadata": {
    "execution": {
     "iopub.execute_input": "2021-01-12T00:24:53.811121Z",
     "iopub.status.busy": "2021-01-12T00:24:53.810475Z",
     "iopub.status.idle": "2021-01-12T00:24:53.821973Z",
     "shell.execute_reply": "2021-01-12T00:24:53.822434Z"
    },
    "papermill": {
     "duration": 0.046748,
     "end_time": "2021-01-12T00:24:53.822592",
     "exception": false,
     "start_time": "2021-01-12T00:24:53.775844",
     "status": "completed"
    },
    "tags": []
   },
   "outputs": [],
   "source": [
    "class Config:\n",
    "    pass\n",
    "config = Config()\n",
    "config.lr = 0.001\n",
    "config.num_epochs = 251\n",
    "config.bs = 50"
   ]
  },
  {
   "cell_type": "markdown",
   "metadata": {
    "papermill": {
     "duration": 0.029163,
     "end_time": "2021-01-12T00:24:53.880597",
     "exception": false,
     "start_time": "2021-01-12T00:24:53.851434",
     "status": "completed"
    },
    "tags": []
   },
   "source": [
    "### Initializing data to the variables"
   ]
  },
  {
   "cell_type": "code",
   "execution_count": 16,
   "metadata": {
    "execution": {
     "iopub.execute_input": "2021-01-12T00:24:53.946296Z",
     "iopub.status.busy": "2021-01-12T00:24:53.945665Z",
     "iopub.status.idle": "2021-01-12T00:24:53.959723Z",
     "shell.execute_reply": "2021-01-12T00:24:53.960253Z"
    },
    "papermill": {
     "duration": 0.050724,
     "end_time": "2021-01-12T00:24:53.960411",
     "exception": false,
     "start_time": "2021-01-12T00:24:53.909687",
     "status": "completed"
    },
    "tags": []
   },
   "outputs": [],
   "source": [
    "data = Data(X_train, y_train.reshape(-1,1))\n",
    "sampler = Sampler(data, config.bs, shuffle=True)\n",
    "\n",
    "dl = Dataloader(data, sampler)\n",
    "\n",
    "opt = GD(config.lr)\n",
    "loss = MSE()"
   ]
  },
  {
   "cell_type": "code",
   "execution_count": 17,
   "metadata": {
    "execution": {
     "iopub.execute_input": "2021-01-12T00:24:54.022714Z",
     "iopub.status.busy": "2021-01-12T00:24:54.022109Z",
     "iopub.status.idle": "2021-01-12T00:24:54.034450Z",
     "shell.execute_reply": "2021-01-12T00:24:54.035019Z"
    },
    "papermill": {
     "duration": 0.045819,
     "end_time": "2021-01-12T00:24:54.035175",
     "exception": false,
     "start_time": "2021-01-12T00:24:53.989356",
     "status": "completed"
    },
    "tags": []
   },
   "outputs": [],
   "source": [
    "training_xdata = X_train\n",
    "testing_xdata = X_test\n",
    "training_ydata = y_train.reshape(-1,1)\n",
    "testing_ydata = y_test.reshape(-1,1)"
   ]
  },
  {
   "cell_type": "markdown",
   "metadata": {
    "papermill": {
     "duration": 0.029102,
     "end_time": "2021-01-12T00:24:54.093563",
     "exception": false,
     "start_time": "2021-01-12T00:24:54.064461",
     "status": "completed"
    },
    "tags": []
   },
   "source": [
    "### Running Models with the Training data\n",
    "Details about the network layers:\n",
    "- A first affine layer has 784 inputs and does 100 affine transforms. These are followed by a Relu\n",
    "- A second affine layer has 100 inputs from the 100 activations of the past layer, and does 100 affine transforms. These are followed by a Relu\n",
    "- A third affine layer has 100 activations and does 2 affine transformations to create an embedding for visualization. There is no non-linearity here.\n",
    "- A final \"logistic regression\" which has an affine transform from 2 inputs to 1 output, which is squeezed through a sigmoid.\n",
    "\n",
    "Help taken from Anshuman's Notebook."
   ]
  },
  {
   "cell_type": "code",
   "execution_count": 18,
   "metadata": {
    "execution": {
     "iopub.execute_input": "2021-01-12T00:24:54.162102Z",
     "iopub.status.busy": "2021-01-12T00:24:54.161259Z",
     "iopub.status.idle": "2021-01-12T00:24:54.177886Z",
     "shell.execute_reply": "2021-01-12T00:24:54.178396Z"
    },
    "papermill": {
     "duration": 0.056173,
     "end_time": "2021-01-12T00:24:54.178559",
     "exception": false,
     "start_time": "2021-01-12T00:24:54.122386",
     "status": "completed"
    },
    "tags": []
   },
   "outputs": [],
   "source": [
    "# layers for the Neural Network\n",
    "layers = [Affine(\"first\", 784, 100), Relu(\"first\"), Affine(\"second\", 100, 100), Relu(\"second\"), Affine(\"third\", 100, 2), Affine(\"final\", 2, 1), Sigmoid(\"final\")]\n",
    "model_nn = Model(layers)\n",
    "\n",
    "# layers for the Logistic Regression\n",
    "layers_lr = [Affine(\"logits\", 784, 1), Sigmoid(\"sigmoid\")]\n",
    "model_lr = Model(layers_lr)"
   ]
  },
  {
   "cell_type": "code",
   "execution_count": 19,
   "metadata": {
    "execution": {
     "iopub.execute_input": "2021-01-12T00:24:54.243012Z",
     "iopub.status.busy": "2021-01-12T00:24:54.242401Z",
     "iopub.status.idle": "2021-01-12T00:24:54.257872Z",
     "shell.execute_reply": "2021-01-12T00:24:54.257377Z"
    },
    "papermill": {
     "duration": 0.049895,
     "end_time": "2021-01-12T00:24:54.258010",
     "exception": false,
     "start_time": "2021-01-12T00:24:54.208115",
     "status": "completed"
    },
    "tags": []
   },
   "outputs": [],
   "source": [
    "# suffix _nn stands for Neural Network.\n",
    "learner_nn = Learner(loss, model_nn, opt, config.num_epochs)\n",
    "acc_nn = ClfCallback(learner_nn, config.bs, training_xdata , testing_xdata, training_ydata, testing_ydata)\n",
    "learner_nn.set_callbacks([acc_nn])"
   ]
  },
  {
   "cell_type": "code",
   "execution_count": 20,
   "metadata": {
    "execution": {
     "iopub.execute_input": "2021-01-12T00:24:54.320907Z",
     "iopub.status.busy": "2021-01-12T00:24:54.320298Z",
     "iopub.status.idle": "2021-01-12T00:26:21.695504Z",
     "shell.execute_reply": "2021-01-12T00:26:21.696113Z"
    },
    "papermill": {
     "duration": 87.409239,
     "end_time": "2021-01-12T00:26:21.696276",
     "exception": false,
     "start_time": "2021-01-12T00:24:54.287037",
     "status": "completed"
    },
    "tags": []
   },
   "outputs": [
    {
     "name": "stdout",
     "output_type": "stream",
     "text": [
      "====== Neural Network ======\n"
     ]
    },
    {
     "name": "stdout",
     "output_type": "stream",
     "text": [
      "Epoch 0, Loss 0.2471\n",
      "Training Accuracy: 0.7061, Testing Accuracy: 0.7384\n",
      "\n"
     ]
    },
    {
     "name": "stdout",
     "output_type": "stream",
     "text": [
      "Epoch 10, Loss 0.0655\n",
      "Training Accuracy: 0.9361, Testing Accuracy: 0.9441\n",
      "\n"
     ]
    },
    {
     "name": "stdout",
     "output_type": "stream",
     "text": [
      "Epoch 20, Loss 0.0448\n",
      "Training Accuracy: 0.9532, Testing Accuracy: 0.9577\n",
      "\n"
     ]
    },
    {
     "name": "stdout",
     "output_type": "stream",
     "text": [
      "Epoch 30, Loss 0.0374\n",
      "Training Accuracy: 0.9599, Testing Accuracy: 0.9607\n",
      "\n"
     ]
    },
    {
     "name": "stdout",
     "output_type": "stream",
     "text": [
      "Epoch 40, Loss 0.0336\n",
      "Training Accuracy: 0.9636, Testing Accuracy: 0.9632\n",
      "\n"
     ]
    },
    {
     "name": "stdout",
     "output_type": "stream",
     "text": [
      "Epoch 50, Loss 0.0311\n",
      "Training Accuracy: 0.9666, Testing Accuracy: 0.9647\n",
      "\n"
     ]
    },
    {
     "name": "stdout",
     "output_type": "stream",
     "text": [
      "Epoch 60, Loss 0.0292\n",
      "Training Accuracy: 0.9682, Testing Accuracy: 0.9672\n",
      "\n"
     ]
    },
    {
     "name": "stdout",
     "output_type": "stream",
     "text": [
      "Epoch 70, Loss 0.0278\n",
      "Training Accuracy: 0.9690, Testing Accuracy: 0.9672\n",
      "\n"
     ]
    },
    {
     "name": "stdout",
     "output_type": "stream",
     "text": [
      "Epoch 80, Loss 0.0266\n",
      "Training Accuracy: 0.9695, Testing Accuracy: 0.9677\n",
      "\n"
     ]
    },
    {
     "name": "stdout",
     "output_type": "stream",
     "text": [
      "Epoch 90, Loss 0.0256\n",
      "Training Accuracy: 0.9710, Testing Accuracy: 0.9682\n",
      "\n"
     ]
    },
    {
     "name": "stdout",
     "output_type": "stream",
     "text": [
      "Epoch 100, Loss 0.0247\n",
      "Training Accuracy: 0.9721, Testing Accuracy: 0.9693\n",
      "\n"
     ]
    },
    {
     "name": "stdout",
     "output_type": "stream",
     "text": [
      "Epoch 110, Loss 0.024\n",
      "Training Accuracy: 0.9729, Testing Accuracy: 0.9703\n",
      "\n"
     ]
    },
    {
     "name": "stdout",
     "output_type": "stream",
     "text": [
      "Epoch 120, Loss 0.0233\n",
      "Training Accuracy: 0.9741, Testing Accuracy: 0.9713\n",
      "\n"
     ]
    },
    {
     "name": "stdout",
     "output_type": "stream",
     "text": [
      "Epoch 130, Loss 0.0226\n",
      "Training Accuracy: 0.9750, Testing Accuracy: 0.9713\n",
      "\n"
     ]
    },
    {
     "name": "stdout",
     "output_type": "stream",
     "text": [
      "Epoch 140, Loss 0.022\n",
      "Training Accuracy: 0.9756, Testing Accuracy: 0.9723\n",
      "\n"
     ]
    },
    {
     "name": "stdout",
     "output_type": "stream",
     "text": [
      "Epoch 150, Loss 0.0215\n",
      "Training Accuracy: 0.9764, Testing Accuracy: 0.9728\n",
      "\n"
     ]
    },
    {
     "name": "stdout",
     "output_type": "stream",
     "text": [
      "Epoch 160, Loss 0.021\n",
      "Training Accuracy: 0.9771, Testing Accuracy: 0.9733\n",
      "\n"
     ]
    },
    {
     "name": "stdout",
     "output_type": "stream",
     "text": [
      "Epoch 170, Loss 0.0205\n",
      "Training Accuracy: 0.9775, Testing Accuracy: 0.9733\n",
      "\n"
     ]
    },
    {
     "name": "stdout",
     "output_type": "stream",
     "text": [
      "Epoch 180, Loss 0.02\n",
      "Training Accuracy: 0.9782, Testing Accuracy: 0.9738\n",
      "\n"
     ]
    },
    {
     "name": "stdout",
     "output_type": "stream",
     "text": [
      "Epoch 190, Loss 0.0195\n",
      "Training Accuracy: 0.9786, Testing Accuracy: 0.9743\n",
      "\n"
     ]
    },
    {
     "name": "stdout",
     "output_type": "stream",
     "text": [
      "Epoch 200, Loss 0.0191\n",
      "Training Accuracy: 0.9790, Testing Accuracy: 0.9743\n",
      "\n"
     ]
    },
    {
     "name": "stdout",
     "output_type": "stream",
     "text": [
      "Epoch 210, Loss 0.0187\n",
      "Training Accuracy: 0.9793, Testing Accuracy: 0.9743\n",
      "\n"
     ]
    },
    {
     "name": "stdout",
     "output_type": "stream",
     "text": [
      "Epoch 220, Loss 0.0183\n",
      "Training Accuracy: 0.9799, Testing Accuracy: 0.9748\n",
      "\n"
     ]
    },
    {
     "name": "stdout",
     "output_type": "stream",
     "text": [
      "Epoch 230, Loss 0.0179\n",
      "Training Accuracy: 0.9806, Testing Accuracy: 0.9753\n",
      "\n"
     ]
    },
    {
     "name": "stdout",
     "output_type": "stream",
     "text": [
      "Epoch 240, Loss 0.0175\n",
      "Training Accuracy: 0.9810, Testing Accuracy: 0.9748\n",
      "\n"
     ]
    },
    {
     "name": "stdout",
     "output_type": "stream",
     "text": [
      "Epoch 250, Loss 0.0171\n",
      "Training Accuracy: 0.9815, Testing Accuracy: 0.9753\n",
      "\n"
     ]
    },
    {
     "data": {
      "text/plain": [
       "0.031386281491432806"
      ]
     },
     "execution_count": 20,
     "metadata": {},
     "output_type": "execute_result"
    }
   ],
   "source": [
    "print(\"====== Neural Network ======\")\n",
    "learner_nn.train_loop(dl)"
   ]
  },
  {
   "cell_type": "markdown",
   "metadata": {
    "papermill": {
     "duration": 0.036384,
     "end_time": "2021-01-12T00:26:21.770396",
     "exception": false,
     "start_time": "2021-01-12T00:26:21.734012",
     "status": "completed"
    },
    "tags": []
   },
   "source": [
    "### Logistic Regression based Implementation."
   ]
  },
  {
   "cell_type": "code",
   "execution_count": 21,
   "metadata": {
    "execution": {
     "iopub.execute_input": "2021-01-12T00:26:21.871488Z",
     "iopub.status.busy": "2021-01-12T00:26:21.867721Z",
     "iopub.status.idle": "2021-01-12T00:26:21.880528Z",
     "shell.execute_reply": "2021-01-12T00:26:21.879838Z"
    },
    "papermill": {
     "duration": 0.058318,
     "end_time": "2021-01-12T00:26:21.880653",
     "exception": false,
     "start_time": "2021-01-12T00:26:21.822335",
     "status": "completed"
    },
    "tags": []
   },
   "outputs": [],
   "source": [
    "learner_lr = Learner(loss, model_lr, opt, config.num_epochs)\n",
    "acc_lr = ClfCallback(learner_lr, config.bs, training_xdata , testing_xdata, training_ydata, testing_ydata)\n",
    "learner_lr.set_callbacks([acc_lr])"
   ]
  },
  {
   "cell_type": "code",
   "execution_count": 22,
   "metadata": {
    "execution": {
     "iopub.execute_input": "2021-01-12T00:26:21.959854Z",
     "iopub.status.busy": "2021-01-12T00:26:21.958866Z",
     "iopub.status.idle": "2021-01-12T00:26:37.266355Z",
     "shell.execute_reply": "2021-01-12T00:26:37.267173Z"
    },
    "papermill": {
     "duration": 15.350124,
     "end_time": "2021-01-12T00:26:37.267330",
     "exception": false,
     "start_time": "2021-01-12T00:26:21.917206",
     "status": "completed"
    },
    "tags": []
   },
   "outputs": [
    {
     "name": "stdout",
     "output_type": "stream",
     "text": [
      "====== Logistic Regression ======\n",
      "Epoch 0, Loss 0.2272\n",
      "Training Accuracy: 0.7279, Testing Accuracy: 0.7324\n",
      "\n"
     ]
    },
    {
     "name": "stdout",
     "output_type": "stream",
     "text": [
      "Epoch 10, Loss 0.1016\n",
      "Training Accuracy: 0.9142, Testing Accuracy: 0.9194\n",
      "\n"
     ]
    },
    {
     "name": "stdout",
     "output_type": "stream",
     "text": [
      "Epoch 20, Loss 0.0784\n",
      "Training Accuracy: 0.9312, Testing Accuracy: 0.9435\n",
      "\n"
     ]
    },
    {
     "name": "stdout",
     "output_type": "stream",
     "text": [
      "Epoch 30, Loss 0.0676\n",
      "Training Accuracy: 0.9387, Testing Accuracy: 0.9496\n",
      "\n"
     ]
    },
    {
     "name": "stdout",
     "output_type": "stream",
     "text": [
      "Epoch 40, Loss 0.0611\n",
      "Training Accuracy: 0.9430, Testing Accuracy: 0.9556\n",
      "\n"
     ]
    },
    {
     "name": "stdout",
     "output_type": "stream",
     "text": [
      "Epoch 50, Loss 0.0567\n",
      "Training Accuracy: 0.9464, Testing Accuracy: 0.9587\n",
      "\n"
     ]
    },
    {
     "name": "stdout",
     "output_type": "stream",
     "text": [
      "Epoch 60, Loss 0.0535\n",
      "Training Accuracy: 0.9482, Testing Accuracy: 0.9612\n",
      "\n"
     ]
    },
    {
     "name": "stdout",
     "output_type": "stream",
     "text": [
      "Epoch 70, Loss 0.051\n",
      "Training Accuracy: 0.9489, Testing Accuracy: 0.9617\n",
      "\n"
     ]
    },
    {
     "name": "stdout",
     "output_type": "stream",
     "text": [
      "Epoch 80, Loss 0.049\n",
      "Training Accuracy: 0.9509, Testing Accuracy: 0.9627\n",
      "\n"
     ]
    },
    {
     "name": "stdout",
     "output_type": "stream",
     "text": [
      "Epoch 90, Loss 0.0473\n",
      "Training Accuracy: 0.9526, Testing Accuracy: 0.9627\n",
      "\n"
     ]
    },
    {
     "name": "stdout",
     "output_type": "stream",
     "text": [
      "Epoch 100, Loss 0.0459\n",
      "Training Accuracy: 0.9532, Testing Accuracy: 0.9637\n",
      "\n"
     ]
    },
    {
     "name": "stdout",
     "output_type": "stream",
     "text": [
      "Epoch 110, Loss 0.0447\n",
      "Training Accuracy: 0.9543, Testing Accuracy: 0.9642\n",
      "\n"
     ]
    },
    {
     "name": "stdout",
     "output_type": "stream",
     "text": [
      "Epoch 120, Loss 0.0436\n",
      "Training Accuracy: 0.9552, Testing Accuracy: 0.9652\n",
      "\n"
     ]
    },
    {
     "name": "stdout",
     "output_type": "stream",
     "text": [
      "Epoch 130, Loss 0.0427\n",
      "Training Accuracy: 0.9559, Testing Accuracy: 0.9652\n",
      "\n"
     ]
    },
    {
     "name": "stdout",
     "output_type": "stream",
     "text": [
      "Epoch 140, Loss 0.0419\n",
      "Training Accuracy: 0.9563, Testing Accuracy: 0.9652\n",
      "\n"
     ]
    },
    {
     "name": "stdout",
     "output_type": "stream",
     "text": [
      "Epoch 150, Loss 0.0411\n",
      "Training Accuracy: 0.9565, Testing Accuracy: 0.9652\n",
      "\n"
     ]
    },
    {
     "name": "stdout",
     "output_type": "stream",
     "text": [
      "Epoch 160, Loss 0.0405\n",
      "Training Accuracy: 0.9570, Testing Accuracy: 0.9657\n",
      "\n"
     ]
    },
    {
     "name": "stdout",
     "output_type": "stream",
     "text": [
      "Epoch 170, Loss 0.0399\n",
      "Training Accuracy: 0.9578, Testing Accuracy: 0.9667\n",
      "\n"
     ]
    },
    {
     "name": "stdout",
     "output_type": "stream",
     "text": [
      "Epoch 180, Loss 0.0393\n",
      "Training Accuracy: 0.9586, Testing Accuracy: 0.9672\n",
      "\n"
     ]
    },
    {
     "name": "stdout",
     "output_type": "stream",
     "text": [
      "Epoch 190, Loss 0.0388\n",
      "Training Accuracy: 0.9589, Testing Accuracy: 0.9667\n",
      "\n"
     ]
    },
    {
     "name": "stdout",
     "output_type": "stream",
     "text": [
      "Epoch 200, Loss 0.0383\n",
      "Training Accuracy: 0.9591, Testing Accuracy: 0.9662\n",
      "\n"
     ]
    },
    {
     "name": "stdout",
     "output_type": "stream",
     "text": [
      "Epoch 210, Loss 0.0379\n",
      "Training Accuracy: 0.9595, Testing Accuracy: 0.9662\n",
      "\n"
     ]
    },
    {
     "name": "stdout",
     "output_type": "stream",
     "text": [
      "Epoch 220, Loss 0.0375\n",
      "Training Accuracy: 0.9600, Testing Accuracy: 0.9672\n",
      "\n"
     ]
    },
    {
     "name": "stdout",
     "output_type": "stream",
     "text": [
      "Epoch 230, Loss 0.0371\n",
      "Training Accuracy: 0.9604, Testing Accuracy: 0.9672\n",
      "\n"
     ]
    },
    {
     "name": "stdout",
     "output_type": "stream",
     "text": [
      "Epoch 240, Loss 0.0367\n",
      "Training Accuracy: 0.9603, Testing Accuracy: 0.9677\n",
      "\n"
     ]
    },
    {
     "name": "stdout",
     "output_type": "stream",
     "text": [
      "Epoch 250, Loss 0.0364\n",
      "Training Accuracy: 0.9607, Testing Accuracy: 0.9677\n",
      "\n"
     ]
    },
    {
     "data": {
      "text/plain": [
       "0.030312035684592523"
      ]
     },
     "execution_count": 22,
     "metadata": {},
     "output_type": "execute_result"
    }
   ],
   "source": [
    "print(\"====== Logistic Regression ======\")\n",
    "learner_lr.train_loop(dl)"
   ]
  },
  {
   "cell_type": "markdown",
   "metadata": {
    "papermill": {
     "duration": 0.0443,
     "end_time": "2021-01-12T00:26:37.354771",
     "exception": false,
     "start_time": "2021-01-12T00:26:37.310471",
     "status": "completed"
    },
    "tags": []
   },
   "source": [
    "### Comparing results of NN and LR"
   ]
  },
  {
   "cell_type": "code",
   "execution_count": 23,
   "metadata": {
    "execution": {
     "iopub.execute_input": "2021-01-12T00:26:37.451303Z",
     "iopub.status.busy": "2021-01-12T00:26:37.449940Z",
     "iopub.status.idle": "2021-01-12T00:26:37.682200Z",
     "shell.execute_reply": "2021-01-12T00:26:37.682683Z"
    },
    "papermill": {
     "duration": 0.283137,
     "end_time": "2021-01-12T00:26:37.682844",
     "exception": false,
     "start_time": "2021-01-12T00:26:37.399707",
     "status": "completed"
    },
    "tags": []
   },
   "outputs": [
    {
     "data": {
      "text/plain": [
       "<matplotlib.legend.Legend at 0x7f1de5baec50>"
      ]
     },
     "execution_count": 23,
     "metadata": {},
     "output_type": "execute_result"
    },
    {
     "data": {
      "image/png": "[encoded data removed]",
      "text/plain": [
       "<Figure size 1080x720 with 1 Axes>"
      ]
     },
     "metadata": {
      "needs_background": "light"
     },
     "output_type": "display_data"
    }
   ],
   "source": [
    "plt.figure(figsize=(15,10))\n",
    "\n",
    "# Neural Network plots\n",
    "plt.plot(acc_nn.accuracies, 'r-', label = \"Training Accuracies - NN\")\n",
    "plt.plot(acc_nn.test_accuracies, 'g-', label = \"Testing Accuracies - NN\")\n",
    "\n",
    "# Logistic Regression plots\n",
    "plt.plot(acc_lr.accuracies, 'k-', label = \"Training Accuracies - LR\")\n",
    "plt.plot(acc_lr.test_accuracies, 'b-', label = \"Testing Accuracies - LR\")\n",
    "\n",
    "plt.ylim(0.8, 1)\n",
    "\n",
    "plt.legend()\n",
    "\n"
   ]
  },
  {
   "cell_type": "markdown",
   "metadata": {
    "papermill": {
     "duration": 0.047965,
     "end_time": "2021-01-12T00:26:37.779470",
     "exception": false,
     "start_time": "2021-01-12T00:26:37.731505",
     "status": "completed"
    },
    "tags": []
   },
   "source": [
    "### From the plot, we can observe the following:\n",
    "- Neural Network achieves higher accuracy than the Logistic Regression model.\n",
    "- This apparently, is because of overfitting, i.e. NN captures more noise than data.\n",
    "- Testing accuracy of NN drops below the Training accuracy at higher epochs. This explains the over-fitting on training data.\n",
    "- Logistic Regression gives a reliable accuracy, without the above mentioned problem.\n"
   ]
  },
  {
   "cell_type": "markdown",
   "metadata": {
    "papermill": {
     "duration": 0.045172,
     "end_time": "2021-01-12T00:26:37.870755",
     "exception": false,
     "start_time": "2021-01-12T00:26:37.825583",
     "status": "completed"
    },
    "tags": []
   },
   "source": [
    "### Moving till the last but one layer (excluding it).\n",
    "#### Plotting the outputs of this layer of the NN."
   ]
  },
  {
   "cell_type": "code",
   "execution_count": 24,
   "metadata": {
    "execution": {
     "iopub.execute_input": "2021-01-12T00:26:37.966307Z",
     "iopub.status.busy": "2021-01-12T00:26:37.965705Z",
     "iopub.status.idle": "2021-01-12T00:26:37.978222Z",
     "shell.execute_reply": "2021-01-12T00:26:37.978706Z"
    },
    "papermill": {
     "duration": 0.063653,
     "end_time": "2021-01-12T00:26:37.978888",
     "exception": false,
     "start_time": "2021-01-12T00:26:37.915235",
     "status": "completed"
    },
    "tags": []
   },
   "outputs": [],
   "source": [
    "model_new = Model(layers[:-2])"
   ]
  },
  {
   "cell_type": "code",
   "execution_count": 25,
   "metadata": {
    "execution": {
     "iopub.execute_input": "2021-01-12T00:26:38.081469Z",
     "iopub.status.busy": "2021-01-12T00:26:38.080870Z",
     "iopub.status.idle": "2021-01-12T00:26:38.102791Z",
     "shell.execute_reply": "2021-01-12T00:26:38.103269Z"
    },
    "papermill": {
     "duration": 0.072705,
     "end_time": "2021-01-12T00:26:38.103436",
     "exception": false,
     "start_time": "2021-01-12T00:26:38.030731",
     "status": "completed"
    },
    "tags": []
   },
   "outputs": [],
   "source": [
    "plot_testing = model_new(testing_xdata)"
   ]
  },
  {
   "cell_type": "code",
   "execution_count": 26,
   "metadata": {
    "execution": {
     "iopub.execute_input": "2021-01-12T00:26:38.197995Z",
     "iopub.status.busy": "2021-01-12T00:26:38.197388Z",
     "iopub.status.idle": "2021-01-12T00:26:38.389683Z",
     "shell.execute_reply": "2021-01-12T00:26:38.389161Z"
    },
    "papermill": {
     "duration": 0.242079,
     "end_time": "2021-01-12T00:26:38.389819",
     "exception": false,
     "start_time": "2021-01-12T00:26:38.147740",
     "status": "completed"
    },
    "tags": []
   },
   "outputs": [
    {
     "data": {
      "text/plain": [
       "Text(0.5, 1.0, 'Outputs')"
      ]
     },
     "execution_count": 26,
     "metadata": {},
     "output_type": "execute_result"
    },
    {
     "data": {
      "image/png": "[encoded data removed]",
      "text/plain": [
       "<Figure size 576x504 with 1 Axes>"
      ]
     },
     "metadata": {
      "needs_background": "light"
     },
     "output_type": "display_data"
    }
   ],
   "source": [
    "plt.figure(figsize=(8,7))\n",
    "plt.scatter(plot_testing[:,0], plot_testing[:,1], alpha = 0.1, c = y_test.ravel());\n",
    "plt.title('Outputs')"
   ]
  },
  {
   "cell_type": "markdown",
   "metadata": {
    "papermill": {
     "duration": 0.046466,
     "end_time": "2021-01-12T00:26:38.484172",
     "exception": false,
     "start_time": "2021-01-12T00:26:38.437706",
     "status": "completed"
    },
    "tags": []
   },
   "source": [
    "### Plotting probability contours"
   ]
  },
  {
   "cell_type": "code",
   "execution_count": 27,
   "metadata": {
    "execution": {
     "iopub.execute_input": "2021-01-12T00:26:38.584065Z",
     "iopub.status.busy": "2021-01-12T00:26:38.583446Z",
     "iopub.status.idle": "2021-01-12T00:26:38.596628Z",
     "shell.execute_reply": "2021-01-12T00:26:38.597129Z"
    },
    "papermill": {
     "duration": 0.066262,
     "end_time": "2021-01-12T00:26:38.597283",
     "exception": false,
     "start_time": "2021-01-12T00:26:38.531021",
     "status": "completed"
    },
    "tags": []
   },
   "outputs": [],
   "source": [
    "model_prob = Model(layers[-2:]) "
   ]
  },
  {
   "cell_type": "code",
   "execution_count": 28,
   "metadata": {
    "execution": {
     "iopub.execute_input": "2021-01-12T00:26:38.701007Z",
     "iopub.status.busy": "2021-01-12T00:26:38.700361Z",
     "iopub.status.idle": "2021-01-12T00:26:38.715000Z",
     "shell.execute_reply": "2021-01-12T00:26:38.715451Z"
    },
    "papermill": {
     "duration": 0.069748,
     "end_time": "2021-01-12T00:26:38.715615",
     "exception": false,
     "start_time": "2021-01-12T00:26:38.645867",
     "status": "completed"
    },
    "tags": []
   },
   "outputs": [],
   "source": [
    "# Adjust the x and y ranges according to the above generated plot.\n",
    "x_range = np.linspace(-4, 1, 100) \n",
    "y_range = np.linspace(-6, 6, 100) \n",
    "x_grid, y_grid = np.meshgrid(x_range, y_range) # x_grid and y_grig are of size 100 X 100\n",
    "\n",
    "# converting x_grid and y_grid to continuous arrays\n",
    "x_grid_flat = np.ravel(x_grid)\n",
    "y_grid_flat = np.ravel(y_grid)\n",
    "\n",
    "# The last layer of the current model takes two columns as input. Hence transpose of np.vstack() is required.\n",
    "X = np.vstack((x_grid_flat, y_grid_flat)).T\n",
    "\n",
    "# x_grid and y_grid are of size 100 x 100\n",
    "probability_contour = model_prob(X).reshape(100,100) "
   ]
  },
  {
   "cell_type": "code",
   "execution_count": 29,
   "metadata": {
    "execution": {
     "iopub.execute_input": "2021-01-12T00:26:38.851792Z",
     "iopub.status.busy": "2021-01-12T00:26:38.851134Z",
     "iopub.status.idle": "2021-01-12T00:26:39.099245Z",
     "shell.execute_reply": "2021-01-12T00:26:39.098728Z"
    },
    "papermill": {
     "duration": 0.309012,
     "end_time": "2021-01-12T00:26:39.099378",
     "exception": false,
     "start_time": "2021-01-12T00:26:38.790366",
     "status": "completed"
    },
    "tags": []
   },
   "outputs": [
    {
     "data": {
      "image/png": "[encoded data removed]",
      "text/plain": [
       "<Figure size 720x648 with 1 Axes>"
      ]
     },
     "metadata": {
      "needs_background": "light"
     },
     "output_type": "display_data"
    }
   ],
   "source": [
    "plt.figure(figsize=(10,9))\n",
    "plt.scatter(plot_testing[:,0], plot_testing[:,1], alpha = 0.1, c = y_test.ravel())\n",
    "contours = plt.contour(x_grid,y_grid,probability_contour)\n",
    "plt.title('Probability Contours')\n",
    "plt.clabel(contours, inline = True );"
   ]
  }
 ],
 "metadata": {
  "kernelspec": {
   "display_name": "Python 3",
   "language": "python",
   "name": "python3"
  },
  "language_info": {
   "codemirror_mode": {
    "name": "ipython",
    "version": 3
   },
   "file_extension": ".py",
   "mimetype": "text/x-python",
   "name": "python",
   "nbconvert_exporter": "python",
   "pygments_lexer": "ipython3",
   "version": "3.6.12"
  },
  "papermill": {
   "duration": 112.139847,
   "end_time": "2021-01-12T00:26:39.560273",
   "environment_variables": {},
   "exception": null,
   "input_path": "2020-08-11-NeuralNetwork.ipynb",
   "output_path": "2020-08-11-NeuralNetwork.ipynb",
   "parameters": {},
   "start_time": "2021-01-12T00:24:47.420426",
   "version": "2.1.2"
  }
 },
 "nbformat": 4,
 "nbformat_minor": 4
}