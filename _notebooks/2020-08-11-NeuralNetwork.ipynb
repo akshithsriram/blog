{
 "cells": [
  {
   "cell_type": "markdown",
   "metadata": {
    "papermill": {
     "duration": 0.097752,
     "end_time": "2020-11-16T20:04:35.801169",
     "exception": false,
     "start_time": "2020-11-16T20:04:35.703417",
     "status": "completed"
    },
    "tags": []
   },
   "source": [
    "# \"A Basic Neural Network: Differentiate Hand-Written Digits\"\n",
    "\n",
    "- badges: true\n",
    "- author: Akshith Sriram"
   ]
  },
  {
   "cell_type": "markdown",
   "metadata": {
    "papermill": {
     "duration": 0.044609,
     "end_time": "2020-11-16T20:04:35.893070",
     "exception": false,
     "start_time": "2020-11-16T20:04:35.848461",
     "status": "completed"
    },
    "tags": []
   },
   "source": [
    "### Key Objectives:\n",
    "- Building a neural network that differentiates two hand-written digits 3 and 8.\n",
    "- Comparing the results of this Neural Network (NN) to that of a Logistic Regression (LR) model.\n",
    "\n",
    "### Requirements:\n",
    "- 'Kudzu' : A neural network library that was designed during our course by [Univ.AI](www.univ.ai). \n",
    "- MNIST Database\n",
    "\n",
    "If MNIST is not installed, use the command `!pip install mnist` given below.\n",
    "It can be run both from the command line and Jupyter Notebook."
   ]
  },
  {
   "cell_type": "code",
   "execution_count": 1,
   "metadata": {
    "execution": {
     "iopub.execute_input": "2020-11-16T20:04:36.010344Z",
     "iopub.status.busy": "2020-11-16T20:04:36.009309Z",
     "iopub.status.idle": "2020-11-16T20:04:37.657472Z",
     "shell.execute_reply": "2020-11-16T20:04:37.658101Z"
    },
    "papermill": {
     "duration": 1.719023,
     "end_time": "2020-11-16T20:04:37.658464",
     "exception": false,
     "start_time": "2020-11-16T20:04:35.939441",
     "status": "completed"
    },
    "tags": []
   },
   "outputs": [
    {
     "name": "stdout",
     "output_type": "stream",
     "text": [
      "Collecting mnist\r\n"
     ]
    },
    {
     "name": "stdout",
     "output_type": "stream",
     "text": [
      "  Downloading mnist-0.2.2-py2.py3-none-any.whl (3.5 kB)\r\n",
      "Requirement already satisfied: numpy in /opt/hostedtoolcache/Python/3.6.12/x64/lib/python3.6/site-packages (from mnist) (1.19.4)\r\n"
     ]
    },
    {
     "name": "stdout",
     "output_type": "stream",
     "text": [
      "Installing collected packages: mnist\r\n"
     ]
    },
    {
     "name": "stdout",
     "output_type": "stream",
     "text": [
      "Successfully installed mnist-0.2.2\r\n"
     ]
    }
   ],
   "source": [
    "!pip install mnist "
   ]
  },
  {
   "cell_type": "markdown",
   "metadata": {
    "papermill": {
     "duration": 0.032184,
     "end_time": "2020-11-16T20:04:37.721489",
     "exception": false,
     "start_time": "2020-11-16T20:04:37.689305",
     "status": "completed"
    },
    "tags": []
   },
   "source": [
    "#### Importing necessary libraries"
   ]
  },
  {
   "cell_type": "code",
   "execution_count": 2,
   "metadata": {
    "execution": {
     "iopub.execute_input": "2020-11-16T20:04:37.798858Z",
     "iopub.status.busy": "2020-11-16T20:04:37.793004Z",
     "iopub.status.idle": "2020-11-16T20:04:38.432366Z",
     "shell.execute_reply": "2020-11-16T20:04:38.432871Z"
    },
    "papermill": {
     "duration": 0.679251,
     "end_time": "2020-11-16T20:04:38.433159",
     "exception": false,
     "start_time": "2020-11-16T20:04:37.753908",
     "status": "completed"
    },
    "tags": []
   },
   "outputs": [],
   "source": [
    "%load_ext autoreload\n",
    "%autoreload 2\n",
    "\n",
    "%matplotlib inline\n",
    "import matplotlib.pyplot as plt\n",
    "\n",
    "import numpy as np\n",
    "import pandas as pd"
   ]
  },
  {
   "cell_type": "markdown",
   "metadata": {
    "papermill": {
     "duration": 0.030244,
     "end_time": "2020-11-16T20:04:38.494915",
     "exception": false,
     "start_time": "2020-11-16T20:04:38.464671",
     "status": "completed"
    },
    "tags": []
   },
   "source": [
    "### Preparing the Data"
   ]
  },
  {
   "cell_type": "code",
   "execution_count": 3,
   "metadata": {
    "execution": {
     "iopub.execute_input": "2020-11-16T20:04:38.563876Z",
     "iopub.status.busy": "2020-11-16T20:04:38.563052Z",
     "iopub.status.idle": "2020-11-16T20:04:38.580640Z",
     "shell.execute_reply": "2020-11-16T20:04:38.580048Z"
    },
    "papermill": {
     "duration": 0.053896,
     "end_time": "2020-11-16T20:04:38.580788",
     "exception": false,
     "start_time": "2020-11-16T20:04:38.526892",
     "status": "completed"
    },
    "tags": []
   },
   "outputs": [],
   "source": [
    "import mnist"
   ]
  },
  {
   "cell_type": "code",
   "execution_count": 4,
   "metadata": {
    "execution": {
     "iopub.execute_input": "2020-11-16T20:04:38.646449Z",
     "iopub.status.busy": "2020-11-16T20:04:38.645707Z",
     "iopub.status.idle": "2020-11-16T20:04:39.417319Z",
     "shell.execute_reply": "2020-11-16T20:04:39.416035Z"
    },
    "papermill": {
     "duration": 0.805969,
     "end_time": "2020-11-16T20:04:39.417497",
     "exception": false,
     "start_time": "2020-11-16T20:04:38.611528",
     "status": "completed"
    },
    "tags": []
   },
   "outputs": [],
   "source": [
    "train_images = mnist.train_images()\n",
    "train_labels = mnist.train_labels()"
   ]
  },
  {
   "cell_type": "code",
   "execution_count": 5,
   "metadata": {
    "execution": {
     "iopub.execute_input": "2020-11-16T20:04:39.487201Z",
     "iopub.status.busy": "2020-11-16T20:04:39.486385Z",
     "iopub.status.idle": "2020-11-16T20:04:39.500972Z",
     "shell.execute_reply": "2020-11-16T20:04:39.501807Z"
    },
    "papermill": {
     "duration": 0.050635,
     "end_time": "2020-11-16T20:04:39.501970",
     "exception": false,
     "start_time": "2020-11-16T20:04:39.451335",
     "status": "completed"
    },
    "tags": []
   },
   "outputs": [
    {
     "data": {
      "text/plain": [
       "((60000, 28, 28), (60000,))"
      ]
     },
     "execution_count": 5,
     "metadata": {},
     "output_type": "execute_result"
    }
   ],
   "source": [
    "train_images.shape, train_labels.shape"
   ]
  },
  {
   "cell_type": "code",
   "execution_count": 6,
   "metadata": {
    "execution": {
     "iopub.execute_input": "2020-11-16T20:04:39.573509Z",
     "iopub.status.busy": "2020-11-16T20:04:39.572741Z",
     "iopub.status.idle": "2020-11-16T20:04:39.873506Z",
     "shell.execute_reply": "2020-11-16T20:04:39.872271Z"
    },
    "papermill": {
     "duration": 0.339733,
     "end_time": "2020-11-16T20:04:39.873712",
     "exception": false,
     "start_time": "2020-11-16T20:04:39.533979",
     "status": "completed"
    },
    "tags": []
   },
   "outputs": [],
   "source": [
    "test_images = mnist.test_images()\n",
    "test_labels = mnist.test_labels()"
   ]
  },
  {
   "cell_type": "code",
   "execution_count": 7,
   "metadata": {
    "execution": {
     "iopub.execute_input": "2020-11-16T20:04:39.940643Z",
     "iopub.status.busy": "2020-11-16T20:04:39.939919Z",
     "iopub.status.idle": "2020-11-16T20:04:39.954013Z",
     "shell.execute_reply": "2020-11-16T20:04:39.954724Z"
    },
    "papermill": {
     "duration": 0.051169,
     "end_time": "2020-11-16T20:04:39.954924",
     "exception": false,
     "start_time": "2020-11-16T20:04:39.903755",
     "status": "completed"
    },
    "tags": []
   },
   "outputs": [
    {
     "data": {
      "text/plain": [
       "((10000, 28, 28), (10000,))"
      ]
     },
     "execution_count": 7,
     "metadata": {},
     "output_type": "execute_result"
    }
   ],
   "source": [
    "test_images.shape, test_labels.shape"
   ]
  },
  {
   "cell_type": "code",
   "execution_count": 8,
   "metadata": {
    "execution": {
     "iopub.execute_input": "2020-11-16T20:04:40.021065Z",
     "iopub.status.busy": "2020-11-16T20:04:40.020349Z",
     "iopub.status.idle": "2020-11-16T20:04:40.205852Z",
     "shell.execute_reply": "2020-11-16T20:04:40.205164Z"
    },
    "papermill": {
     "duration": 0.220554,
     "end_time": "2020-11-16T20:04:40.205998",
     "exception": false,
     "start_time": "2020-11-16T20:04:39.985444",
     "status": "completed"
    },
    "tags": []
   },
   "outputs": [
    {
     "name": "stdout",
     "output_type": "stream",
     "text": [
      "2\n"
     ]
    },
    {
     "data": {
      "text/plain": [
       "<matplotlib.image.AxesImage at 0x7ff58a36bbe0>"
      ]
     },
     "execution_count": 8,
     "metadata": {},
     "output_type": "execute_result"
    },
    {
     "data": {
      "image/png": "[encoded data removed]",
      "text/plain": [
       "<Figure size 432x288 with 1 Axes>"
      ]
     },
     "metadata": {
      "needs_background": "light"
     },
     "output_type": "display_data"
    }
   ],
   "source": [
    "image_index = 7776 # You may select anything up to 60,000\n",
    "print(train_labels[image_index]) \n",
    "plt.imshow(train_images[image_index], cmap='Greys')"
   ]
  },
  {
   "cell_type": "markdown",
   "metadata": {
    "papermill": {
     "duration": 0.033249,
     "end_time": "2020-11-16T20:04:40.271855",
     "exception": false,
     "start_time": "2020-11-16T20:04:40.238606",
     "status": "completed"
    },
    "tags": []
   },
   "source": [
    "## Filter data to get 3 and 8 out"
   ]
  },
  {
   "cell_type": "code",
   "execution_count": 9,
   "metadata": {
    "execution": {
     "iopub.execute_input": "2020-11-16T20:04:40.350963Z",
     "iopub.status.busy": "2020-11-16T20:04:40.343726Z",
     "iopub.status.idle": "2020-11-16T20:04:40.371818Z",
     "shell.execute_reply": "2020-11-16T20:04:40.371205Z"
    },
    "papermill": {
     "duration": 0.067179,
     "end_time": "2020-11-16T20:04:40.371965",
     "exception": false,
     "start_time": "2020-11-16T20:04:40.304786",
     "status": "completed"
    },
    "tags": []
   },
   "outputs": [],
   "source": [
    "train_filter = np.where((train_labels == 3 ) | (train_labels == 8))\n",
    "test_filter = np.where((test_labels == 3) | (test_labels == 8))\n",
    "X_train, y_train = train_images[train_filter], train_labels[train_filter]\n",
    "X_test, y_test = test_images[test_filter], test_labels[test_filter]"
   ]
  },
  {
   "cell_type": "markdown",
   "metadata": {
    "papermill": {
     "duration": 0.034356,
     "end_time": "2020-11-16T20:04:40.439684",
     "exception": false,
     "start_time": "2020-11-16T20:04:40.405328",
     "status": "completed"
    },
    "tags": []
   },
   "source": [
    "We normalize the pixel values in the 0 to 1 range"
   ]
  },
  {
   "cell_type": "code",
   "execution_count": 10,
   "metadata": {
    "execution": {
     "iopub.execute_input": "2020-11-16T20:04:40.516219Z",
     "iopub.status.busy": "2020-11-16T20:04:40.515514Z",
     "iopub.status.idle": "2020-11-16T20:04:40.581398Z",
     "shell.execute_reply": "2020-11-16T20:04:40.580821Z"
    },
    "papermill": {
     "duration": 0.104451,
     "end_time": "2020-11-16T20:04:40.581561",
     "exception": false,
     "start_time": "2020-11-16T20:04:40.477110",
     "status": "completed"
    },
    "tags": []
   },
   "outputs": [],
   "source": [
    "X_train = X_train/255.\n",
    "X_test = X_test/255."
   ]
  },
  {
   "cell_type": "markdown",
   "metadata": {
    "papermill": {
     "duration": 0.033354,
     "end_time": "2020-11-16T20:04:40.648155",
     "exception": false,
     "start_time": "2020-11-16T20:04:40.614801",
     "status": "completed"
    },
    "tags": []
   },
   "source": [
    "Setup the labels as 1 (when the digit is 3) and 0 (when the digit is 8)"
   ]
  },
  {
   "cell_type": "code",
   "execution_count": 11,
   "metadata": {
    "execution": {
     "iopub.execute_input": "2020-11-16T20:04:40.723150Z",
     "iopub.status.busy": "2020-11-16T20:04:40.722465Z",
     "iopub.status.idle": "2020-11-16T20:04:40.733974Z",
     "shell.execute_reply": "2020-11-16T20:04:40.733369Z"
    },
    "papermill": {
     "duration": 0.053306,
     "end_time": "2020-11-16T20:04:40.734136",
     "exception": false,
     "start_time": "2020-11-16T20:04:40.680830",
     "status": "completed"
    },
    "tags": []
   },
   "outputs": [],
   "source": [
    "y_train = 1*(y_train==3)\n",
    "y_test = 1*(y_test==3)"
   ]
  },
  {
   "cell_type": "code",
   "execution_count": 12,
   "metadata": {
    "execution": {
     "iopub.execute_input": "2020-11-16T20:04:40.805900Z",
     "iopub.status.busy": "2020-11-16T20:04:40.805143Z",
     "iopub.status.idle": "2020-11-16T20:04:40.819287Z",
     "shell.execute_reply": "2020-11-16T20:04:40.820050Z"
    },
    "papermill": {
     "duration": 0.052113,
     "end_time": "2020-11-16T20:04:40.820282",
     "exception": false,
     "start_time": "2020-11-16T20:04:40.768169",
     "status": "completed"
    },
    "tags": []
   },
   "outputs": [
    {
     "data": {
      "text/plain": [
       "((11982, 28, 28), (1984, 28, 28))"
      ]
     },
     "execution_count": 12,
     "metadata": {},
     "output_type": "execute_result"
    }
   ],
   "source": [
    "X_train.shape, X_test.shape"
   ]
  },
  {
   "cell_type": "markdown",
   "metadata": {
    "papermill": {
     "duration": 0.034554,
     "end_time": "2020-11-16T20:04:40.888491",
     "exception": false,
     "start_time": "2020-11-16T20:04:40.853937",
     "status": "completed"
    },
    "tags": []
   },
   "source": [
    "### Reshape the input data to create a linear array"
   ]
  },
  {
   "cell_type": "code",
   "execution_count": 13,
   "metadata": {
    "execution": {
     "iopub.execute_input": "2020-11-16T20:04:40.962745Z",
     "iopub.status.busy": "2020-11-16T20:04:40.962116Z",
     "iopub.status.idle": "2020-11-16T20:04:40.975313Z",
     "shell.execute_reply": "2020-11-16T20:04:40.974749Z"
    },
    "papermill": {
     "duration": 0.053662,
     "end_time": "2020-11-16T20:04:40.975533",
     "exception": false,
     "start_time": "2020-11-16T20:04:40.921871",
     "status": "completed"
    },
    "tags": []
   },
   "outputs": [
    {
     "data": {
      "text/plain": [
       "((11982, 784), (1984, 784))"
      ]
     },
     "execution_count": 13,
     "metadata": {},
     "output_type": "execute_result"
    }
   ],
   "source": [
    "X_train = X_train.reshape(X_train.shape[0], -1)\n",
    "X_test = X_test.reshape(X_test.shape[0], -1)\n",
    "X_train.shape, X_test.shape"
   ]
  },
  {
   "cell_type": "markdown",
   "metadata": {
    "papermill": {
     "duration": 0.033489,
     "end_time": "2020-11-16T20:04:41.042325",
     "exception": false,
     "start_time": "2020-11-16T20:04:41.008836",
     "status": "completed"
    },
    "tags": []
   },
   "source": [
    "### Importing appropriate functions from 'Kudzu'"
   ]
  },
  {
   "cell_type": "code",
   "execution_count": 14,
   "metadata": {
    "execution": {
     "iopub.execute_input": "2020-11-16T20:04:41.114770Z",
     "iopub.status.busy": "2020-11-16T20:04:41.113969Z",
     "iopub.status.idle": "2020-11-16T20:04:41.137890Z",
     "shell.execute_reply": "2020-11-16T20:04:41.137322Z"
    },
    "papermill": {
     "duration": 0.063043,
     "end_time": "2020-11-16T20:04:41.138066",
     "exception": false,
     "start_time": "2020-11-16T20:04:41.075023",
     "status": "completed"
    },
    "tags": []
   },
   "outputs": [],
   "source": [
    "from kudzu.layer import Sigmoid\n",
    "from kudzu.layer import Relu\n",
    "from kudzu.layer import Affine, Sigmoid\n",
    "\n",
    "from kudzu.model import Model\n",
    "from kudzu.train import Learner\n",
    "from kudzu.optim import GD\n",
    "from kudzu.data import Data, Dataloader, Sampler\n",
    "\n",
    "from kudzu.callbacks import AccCallback\n",
    "from kudzu.callbacks import ClfCallback\n",
    "\n",
    "from kudzu.loss import MSE"
   ]
  },
  {
   "cell_type": "markdown",
   "metadata": {
    "papermill": {
     "duration": 0.033771,
     "end_time": "2020-11-16T20:04:41.205817",
     "exception": false,
     "start_time": "2020-11-16T20:04:41.172046",
     "status": "completed"
    },
    "tags": []
   },
   "source": [
    "### Let us create a `Config` class, to store important parameters. \n",
    "This class essentially plays the role of a dictionary."
   ]
  },
  {
   "cell_type": "code",
   "execution_count": 15,
   "metadata": {
    "execution": {
     "iopub.execute_input": "2020-11-16T20:04:41.278325Z",
     "iopub.status.busy": "2020-11-16T20:04:41.277686Z",
     "iopub.status.idle": "2020-11-16T20:04:41.291885Z",
     "shell.execute_reply": "2020-11-16T20:04:41.291307Z"
    },
    "papermill": {
     "duration": 0.051827,
     "end_time": "2020-11-16T20:04:41.292054",
     "exception": false,
     "start_time": "2020-11-16T20:04:41.240227",
     "status": "completed"
    },
    "tags": []
   },
   "outputs": [],
   "source": [
    "class Config:\n",
    "    pass\n",
    "config = Config()\n",
    "config.lr = 0.001\n",
    "config.num_epochs = 251\n",
    "config.bs = 50"
   ]
  },
  {
   "cell_type": "markdown",
   "metadata": {
    "papermill": {
     "duration": 0.033592,
     "end_time": "2020-11-16T20:04:41.358922",
     "exception": false,
     "start_time": "2020-11-16T20:04:41.325330",
     "status": "completed"
    },
    "tags": []
   },
   "source": [
    "### Initializing data to the variables"
   ]
  },
  {
   "cell_type": "code",
   "execution_count": 16,
   "metadata": {
    "execution": {
     "iopub.execute_input": "2020-11-16T20:04:41.443600Z",
     "iopub.status.busy": "2020-11-16T20:04:41.442919Z",
     "iopub.status.idle": "2020-11-16T20:04:41.458240Z",
     "shell.execute_reply": "2020-11-16T20:04:41.457564Z"
    },
    "papermill": {
     "duration": 0.061202,
     "end_time": "2020-11-16T20:04:41.458420",
     "exception": false,
     "start_time": "2020-11-16T20:04:41.397218",
     "status": "completed"
    },
    "tags": []
   },
   "outputs": [],
   "source": [
    "data = Data(X_train, y_train.reshape(-1,1))\n",
    "sampler = Sampler(data, config.bs, shuffle=True)\n",
    "\n",
    "dl = Dataloader(data, sampler)\n",
    "\n",
    "opt = GD(config.lr)\n",
    "loss = MSE()"
   ]
  },
  {
   "cell_type": "code",
   "execution_count": 17,
   "metadata": {
    "execution": {
     "iopub.execute_input": "2020-11-16T20:04:41.527462Z",
     "iopub.status.busy": "2020-11-16T20:04:41.526415Z",
     "iopub.status.idle": "2020-11-16T20:04:41.540975Z",
     "shell.execute_reply": "2020-11-16T20:04:41.540436Z"
    },
    "papermill": {
     "duration": 0.050493,
     "end_time": "2020-11-16T20:04:41.541118",
     "exception": false,
     "start_time": "2020-11-16T20:04:41.490625",
     "status": "completed"
    },
    "tags": []
   },
   "outputs": [],
   "source": [
    "training_xdata = X_train\n",
    "testing_xdata = X_test\n",
    "training_ydata = y_train.reshape(-1,1)\n",
    "testing_ydata = y_test.reshape(-1,1)"
   ]
  },
  {
   "cell_type": "markdown",
   "metadata": {
    "papermill": {
     "duration": 0.032359,
     "end_time": "2020-11-16T20:04:41.605632",
     "exception": false,
     "start_time": "2020-11-16T20:04:41.573273",
     "status": "completed"
    },
    "tags": []
   },
   "source": [
    "### Running Models with the Training data\n",
    "Details about the network layers:\n",
    "- A first affine layer has 784 inputs and does 100 affine transforms. These are followed by a Relu\n",
    "- A second affine layer has 100 inputs from the 100 activations of the past layer, and does 100 affine transforms. These are followed by a Relu\n",
    "- A third affine layer has 100 activations and does 2 affine transformations to create an embedding for visualization. There is no non-linearity here.\n",
    "- A final \"logistic regression\" which has an affine transform from 2 inputs to 1 output, which is squeezed through a sigmoid.\n",
    "\n",
    "Help taken from Anshuman's Notebook."
   ]
  },
  {
   "cell_type": "code",
   "execution_count": 18,
   "metadata": {
    "execution": {
     "iopub.execute_input": "2020-11-16T20:04:41.678894Z",
     "iopub.status.busy": "2020-11-16T20:04:41.678189Z",
     "iopub.status.idle": "2020-11-16T20:04:41.695039Z",
     "shell.execute_reply": "2020-11-16T20:04:41.694497Z"
    },
    "papermill": {
     "duration": 0.055979,
     "end_time": "2020-11-16T20:04:41.695181",
     "exception": false,
     "start_time": "2020-11-16T20:04:41.639202",
     "status": "completed"
    },
    "tags": []
   },
   "outputs": [],
   "source": [
    "# layers for the Neural Network\n",
    "layers = [Affine(\"first\", 784, 100), Relu(\"first\"), Affine(\"second\", 100, 100), Relu(\"second\"), Affine(\"third\", 100, 2), Affine(\"final\", 2, 1), Sigmoid(\"final\")]\n",
    "model_nn = Model(layers)\n",
    "\n",
    "# layers for the Logistic Regression\n",
    "layers_lr = [Affine(\"logits\", 784, 1), Sigmoid(\"sigmoid\")]\n",
    "model_lr = Model(layers_lr)"
   ]
  },
  {
   "cell_type": "code",
   "execution_count": 19,
   "metadata": {
    "execution": {
     "iopub.execute_input": "2020-11-16T20:04:41.768731Z",
     "iopub.status.busy": "2020-11-16T20:04:41.767889Z",
     "iopub.status.idle": "2020-11-16T20:04:41.781044Z",
     "shell.execute_reply": "2020-11-16T20:04:41.780474Z"
    },
    "papermill": {
     "duration": 0.054005,
     "end_time": "2020-11-16T20:04:41.781184",
     "exception": false,
     "start_time": "2020-11-16T20:04:41.727179",
     "status": "completed"
    },
    "tags": []
   },
   "outputs": [],
   "source": [
    "# suffix _nn stands for Neural Network.\n",
    "learner_nn = Learner(loss, model_nn, opt, config.num_epochs)\n",
    "acc_nn = ClfCallback(learner_nn, config.bs, training_xdata , testing_xdata, training_ydata, testing_ydata)\n",
    "learner_nn.set_callbacks([acc_nn])"
   ]
  },
  {
   "cell_type": "code",
   "execution_count": 20,
   "metadata": {
    "execution": {
     "iopub.execute_input": "2020-11-16T20:04:41.849619Z",
     "iopub.status.busy": "2020-11-16T20:04:41.848826Z",
     "iopub.status.idle": "2020-11-16T20:07:02.429572Z",
     "shell.execute_reply": "2020-11-16T20:07:02.430405Z"
    },
    "papermill": {
     "duration": 140.618269,
     "end_time": "2020-11-16T20:07:02.430572",
     "exception": false,
     "start_time": "2020-11-16T20:04:41.812303",
     "status": "completed"
    },
    "tags": []
   },
   "outputs": [
    {
     "name": "stdout",
     "output_type": "stream",
     "text": [
      "====== Neural Network ======\n"
     ]
    },
    {
     "name": "stdout",
     "output_type": "stream",
     "text": [
      "Epoch 0, Loss 0.2527\n",
      "Training Accuracy: 0.5120, Testing Accuracy: 0.5096\n",
      "\n"
     ]
    },
    {
     "name": "stdout",
     "output_type": "stream",
     "text": [
      "Epoch 10, Loss 0.2172\n",
      "Training Accuracy: 0.8222, Testing Accuracy: 0.8191\n",
      "\n"
     ]
    },
    {
     "name": "stdout",
     "output_type": "stream",
     "text": [
      "Epoch 20, Loss 0.1204\n",
      "Training Accuracy: 0.8984, Testing Accuracy: 0.9083\n",
      "\n"
     ]
    },
    {
     "name": "stdout",
     "output_type": "stream",
     "text": [
      "Epoch 30, Loss 0.0675\n",
      "Training Accuracy: 0.9331, Testing Accuracy: 0.9435\n",
      "\n"
     ]
    },
    {
     "name": "stdout",
     "output_type": "stream",
     "text": [
      "Epoch 40, Loss 0.0495\n",
      "Training Accuracy: 0.9483, Testing Accuracy: 0.9567\n",
      "\n"
     ]
    },
    {
     "name": "stdout",
     "output_type": "stream",
     "text": [
      "Epoch 50, Loss 0.0413\n",
      "Training Accuracy: 0.9539, Testing Accuracy: 0.9612\n",
      "\n"
     ]
    },
    {
     "name": "stdout",
     "output_type": "stream",
     "text": [
      "Epoch 60, Loss 0.0367\n",
      "Training Accuracy: 0.9584, Testing Accuracy: 0.9642\n",
      "\n"
     ]
    },
    {
     "name": "stdout",
     "output_type": "stream",
     "text": [
      "Epoch 70, Loss 0.0338\n",
      "Training Accuracy: 0.9612, Testing Accuracy: 0.9682\n",
      "\n"
     ]
    },
    {
     "name": "stdout",
     "output_type": "stream",
     "text": [
      "Epoch 80, Loss 0.0317\n",
      "Training Accuracy: 0.9632, Testing Accuracy: 0.9703\n",
      "\n"
     ]
    },
    {
     "name": "stdout",
     "output_type": "stream",
     "text": [
      "Epoch 90, Loss 0.0301\n",
      "Training Accuracy: 0.9644, Testing Accuracy: 0.9708\n",
      "\n"
     ]
    },
    {
     "name": "stdout",
     "output_type": "stream",
     "text": [
      "Epoch 100, Loss 0.0287\n",
      "Training Accuracy: 0.9662, Testing Accuracy: 0.9708\n",
      "\n"
     ]
    },
    {
     "name": "stdout",
     "output_type": "stream",
     "text": [
      "Epoch 110, Loss 0.0276\n",
      "Training Accuracy: 0.9679, Testing Accuracy: 0.9708\n",
      "\n"
     ]
    },
    {
     "name": "stdout",
     "output_type": "stream",
     "text": [
      "Epoch 120, Loss 0.0267\n",
      "Training Accuracy: 0.9694, Testing Accuracy: 0.9718\n",
      "\n"
     ]
    },
    {
     "name": "stdout",
     "output_type": "stream",
     "text": [
      "Epoch 130, Loss 0.0259\n",
      "Training Accuracy: 0.9703, Testing Accuracy: 0.9728\n",
      "\n"
     ]
    },
    {
     "name": "stdout",
     "output_type": "stream",
     "text": [
      "Epoch 140, Loss 0.0251\n",
      "Training Accuracy: 0.9713, Testing Accuracy: 0.9728\n",
      "\n"
     ]
    },
    {
     "name": "stdout",
     "output_type": "stream",
     "text": [
      "Epoch 150, Loss 0.0245\n",
      "Training Accuracy: 0.9718, Testing Accuracy: 0.9728\n",
      "\n"
     ]
    },
    {
     "name": "stdout",
     "output_type": "stream",
     "text": [
      "Epoch 160, Loss 0.0239\n",
      "Training Accuracy: 0.9730, Testing Accuracy: 0.9728\n",
      "\n"
     ]
    },
    {
     "name": "stdout",
     "output_type": "stream",
     "text": [
      "Epoch 170, Loss 0.0233\n",
      "Training Accuracy: 0.9740, Testing Accuracy: 0.9723\n",
      "\n"
     ]
    },
    {
     "name": "stdout",
     "output_type": "stream",
     "text": [
      "Epoch 180, Loss 0.0228\n",
      "Training Accuracy: 0.9745, Testing Accuracy: 0.9718\n",
      "\n"
     ]
    },
    {
     "name": "stdout",
     "output_type": "stream",
     "text": [
      "Epoch 190, Loss 0.0223\n",
      "Training Accuracy: 0.9751, Testing Accuracy: 0.9723\n",
      "\n"
     ]
    },
    {
     "name": "stdout",
     "output_type": "stream",
     "text": [
      "Epoch 200, Loss 0.0218\n",
      "Training Accuracy: 0.9758, Testing Accuracy: 0.9723\n",
      "\n"
     ]
    },
    {
     "name": "stdout",
     "output_type": "stream",
     "text": [
      "Epoch 210, Loss 0.0214\n",
      "Training Accuracy: 0.9759, Testing Accuracy: 0.9723\n",
      "\n"
     ]
    },
    {
     "name": "stdout",
     "output_type": "stream",
     "text": [
      "Epoch 220, Loss 0.021\n",
      "Training Accuracy: 0.9770, Testing Accuracy: 0.9723\n",
      "\n"
     ]
    },
    {
     "name": "stdout",
     "output_type": "stream",
     "text": [
      "Epoch 230, Loss 0.0206\n",
      "Training Accuracy: 0.9776, Testing Accuracy: 0.9723\n",
      "\n"
     ]
    },
    {
     "name": "stdout",
     "output_type": "stream",
     "text": [
      "Epoch 240, Loss 0.0203\n",
      "Training Accuracy: 0.9781, Testing Accuracy: 0.9723\n",
      "\n"
     ]
    },
    {
     "name": "stdout",
     "output_type": "stream",
     "text": [
      "Epoch 250, Loss 0.0199\n",
      "Training Accuracy: 0.9789, Testing Accuracy: 0.9728\n",
      "\n"
     ]
    },
    {
     "data": {
      "text/plain": [
       "0.0164691183020923"
      ]
     },
     "execution_count": 20,
     "metadata": {},
     "output_type": "execute_result"
    }
   ],
   "source": [
    "print(\"====== Neural Network ======\")\n",
    "learner_nn.train_loop(dl)"
   ]
  },
  {
   "cell_type": "markdown",
   "metadata": {
    "papermill": {
     "duration": 0.045126,
     "end_time": "2020-11-16T20:07:02.521718",
     "exception": false,
     "start_time": "2020-11-16T20:07:02.476592",
     "status": "completed"
    },
    "tags": []
   },
   "source": [
    "### Logistic Regression based Implementation."
   ]
  },
  {
   "cell_type": "code",
   "execution_count": 21,
   "metadata": {
    "execution": {
     "iopub.execute_input": "2020-11-16T20:07:02.620351Z",
     "iopub.status.busy": "2020-11-16T20:07:02.619631Z",
     "iopub.status.idle": "2020-11-16T20:07:02.635249Z",
     "shell.execute_reply": "2020-11-16T20:07:02.634573Z"
    },
    "papermill": {
     "duration": 0.069711,
     "end_time": "2020-11-16T20:07:02.635457",
     "exception": false,
     "start_time": "2020-11-16T20:07:02.565746",
     "status": "completed"
    },
    "tags": []
   },
   "outputs": [],
   "source": [
    "learner_lr = Learner(loss, model_lr, opt, config.num_epochs)\n",
    "acc_lr = ClfCallback(learner_lr, config.bs, training_xdata , testing_xdata, training_ydata, testing_ydata)\n",
    "learner_lr.set_callbacks([acc_lr])"
   ]
  },
  {
   "cell_type": "code",
   "execution_count": 22,
   "metadata": {
    "execution": {
     "iopub.execute_input": "2020-11-16T20:07:02.726099Z",
     "iopub.status.busy": "2020-11-16T20:07:02.725430Z",
     "iopub.status.idle": "2020-11-16T20:07:23.968087Z",
     "shell.execute_reply": "2020-11-16T20:07:23.969074Z"
    },
    "papermill": {
     "duration": 21.291816,
     "end_time": "2020-11-16T20:07:23.969464",
     "exception": false,
     "start_time": "2020-11-16T20:07:02.677648",
     "status": "completed"
    },
    "tags": []
   },
   "outputs": [
    {
     "name": "stdout",
     "output_type": "stream",
     "text": [
      "====== Logistic Regression ======\n",
      "Epoch 0, Loss 0.1997\n",
      "Training Accuracy: 0.8389, Testing Accuracy: 0.8407\n",
      "\n"
     ]
    },
    {
     "name": "stdout",
     "output_type": "stream",
     "text": [
      "Epoch 10, Loss 0.0971\n",
      "Training Accuracy: 0.9202, Testing Accuracy: 0.9294\n",
      "\n"
     ]
    },
    {
     "name": "stdout",
     "output_type": "stream",
     "text": [
      "Epoch 20, Loss 0.0763\n",
      "Training Accuracy: 0.9331, Testing Accuracy: 0.9471\n",
      "\n"
     ]
    },
    {
     "name": "stdout",
     "output_type": "stream",
     "text": [
      "Epoch 30, Loss 0.0663\n",
      "Training Accuracy: 0.9406, Testing Accuracy: 0.9521\n",
      "\n"
     ]
    },
    {
     "name": "stdout",
     "output_type": "stream",
     "text": [
      "Epoch 40, Loss 0.0602\n",
      "Training Accuracy: 0.9453, Testing Accuracy: 0.9567\n",
      "\n"
     ]
    },
    {
     "name": "stdout",
     "output_type": "stream",
     "text": [
      "Epoch 50, Loss 0.0559\n",
      "Training Accuracy: 0.9465, Testing Accuracy: 0.9582\n",
      "\n"
     ]
    },
    {
     "name": "stdout",
     "output_type": "stream",
     "text": [
      "Epoch 60, Loss 0.0528\n",
      "Training Accuracy: 0.9493, Testing Accuracy: 0.9587\n",
      "\n"
     ]
    },
    {
     "name": "stdout",
     "output_type": "stream",
     "text": [
      "Epoch 70, Loss 0.0504\n",
      "Training Accuracy: 0.9518, Testing Accuracy: 0.9597\n",
      "\n"
     ]
    },
    {
     "name": "stdout",
     "output_type": "stream",
     "text": [
      "Epoch 80, Loss 0.0484\n",
      "Training Accuracy: 0.9527, Testing Accuracy: 0.9612\n",
      "\n"
     ]
    },
    {
     "name": "stdout",
     "output_type": "stream",
     "text": [
      "Epoch 90, Loss 0.0468\n",
      "Training Accuracy: 0.9542, Testing Accuracy: 0.9617\n",
      "\n"
     ]
    },
    {
     "name": "stdout",
     "output_type": "stream",
     "text": [
      "Epoch 100, Loss 0.0455\n",
      "Training Accuracy: 0.9551, Testing Accuracy: 0.9647\n",
      "\n"
     ]
    },
    {
     "name": "stdout",
     "output_type": "stream",
     "text": [
      "Epoch 110, Loss 0.0443\n",
      "Training Accuracy: 0.9562, Testing Accuracy: 0.9647\n",
      "\n"
     ]
    },
    {
     "name": "stdout",
     "output_type": "stream",
     "text": [
      "Epoch 120, Loss 0.0433\n",
      "Training Accuracy: 0.9567, Testing Accuracy: 0.9647\n",
      "\n"
     ]
    },
    {
     "name": "stdout",
     "output_type": "stream",
     "text": [
      "Epoch 130, Loss 0.0424\n",
      "Training Accuracy: 0.9571, Testing Accuracy: 0.9647\n",
      "\n"
     ]
    },
    {
     "name": "stdout",
     "output_type": "stream",
     "text": [
      "Epoch 140, Loss 0.0416\n",
      "Training Accuracy: 0.9571, Testing Accuracy: 0.9647\n",
      "\n"
     ]
    },
    {
     "name": "stdout",
     "output_type": "stream",
     "text": [
      "Epoch 150, Loss 0.0409\n",
      "Training Accuracy: 0.9574, Testing Accuracy: 0.9652\n",
      "\n"
     ]
    },
    {
     "name": "stdout",
     "output_type": "stream",
     "text": [
      "Epoch 160, Loss 0.0402\n",
      "Training Accuracy: 0.9579, Testing Accuracy: 0.9657\n",
      "\n"
     ]
    },
    {
     "name": "stdout",
     "output_type": "stream",
     "text": [
      "Epoch 170, Loss 0.0396\n",
      "Training Accuracy: 0.9583, Testing Accuracy: 0.9657\n",
      "\n"
     ]
    },
    {
     "name": "stdout",
     "output_type": "stream",
     "text": [
      "Epoch 180, Loss 0.0391\n",
      "Training Accuracy: 0.9584, Testing Accuracy: 0.9662\n",
      "\n"
     ]
    },
    {
     "name": "stdout",
     "output_type": "stream",
     "text": [
      "Epoch 190, Loss 0.0386\n",
      "Training Accuracy: 0.9590, Testing Accuracy: 0.9672\n",
      "\n"
     ]
    },
    {
     "name": "stdout",
     "output_type": "stream",
     "text": [
      "Epoch 200, Loss 0.0381\n",
      "Training Accuracy: 0.9592, Testing Accuracy: 0.9672\n",
      "\n"
     ]
    },
    {
     "name": "stdout",
     "output_type": "stream",
     "text": [
      "Epoch 210, Loss 0.0377\n",
      "Training Accuracy: 0.9599, Testing Accuracy: 0.9672\n",
      "\n"
     ]
    },
    {
     "name": "stdout",
     "output_type": "stream",
     "text": [
      "Epoch 220, Loss 0.0373\n",
      "Training Accuracy: 0.9601, Testing Accuracy: 0.9677\n",
      "\n"
     ]
    },
    {
     "name": "stdout",
     "output_type": "stream",
     "text": [
      "Epoch 230, Loss 0.0369\n",
      "Training Accuracy: 0.9609, Testing Accuracy: 0.9682\n",
      "\n"
     ]
    },
    {
     "name": "stdout",
     "output_type": "stream",
     "text": [
      "Epoch 240, Loss 0.0366\n",
      "Training Accuracy: 0.9611, Testing Accuracy: 0.9693\n",
      "\n"
     ]
    },
    {
     "name": "stdout",
     "output_type": "stream",
     "text": [
      "Epoch 250, Loss 0.0362\n",
      "Training Accuracy: 0.9617, Testing Accuracy: 0.9693\n",
      "\n"
     ]
    },
    {
     "data": {
      "text/plain": [
       "0.031183395798254906"
      ]
     },
     "execution_count": 22,
     "metadata": {},
     "output_type": "execute_result"
    }
   ],
   "source": [
    "print(\"====== Logistic Regression ======\")\n",
    "learner_lr.train_loop(dl)"
   ]
  },
  {
   "cell_type": "markdown",
   "metadata": {
    "papermill": {
     "duration": 0.05089,
     "end_time": "2020-11-16T20:07:24.074202",
     "exception": false,
     "start_time": "2020-11-16T20:07:24.023312",
     "status": "completed"
    },
    "tags": []
   },
   "source": [
    "### Comparing results of NN and LR"
   ]
  },
  {
   "cell_type": "code",
   "execution_count": 23,
   "metadata": {
    "execution": {
     "iopub.execute_input": "2020-11-16T20:07:24.188992Z",
     "iopub.status.busy": "2020-11-16T20:07:24.188281Z",
     "iopub.status.idle": "2020-11-16T20:07:24.474649Z",
     "shell.execute_reply": "2020-11-16T20:07:24.475436Z"
    },
    "papermill": {
     "duration": 0.348015,
     "end_time": "2020-11-16T20:07:24.475694",
     "exception": false,
     "start_time": "2020-11-16T20:07:24.127679",
     "status": "completed"
    },
    "tags": []
   },
   "outputs": [
    {
     "data": {
      "text/plain": [
       "<matplotlib.legend.Legend at 0x7ff587ee42e8>"
      ]
     },
     "execution_count": 23,
     "metadata": {},
     "output_type": "execute_result"
    },
    {
     "data": {
      "image/png": "[encoded data removed]",
      "text/plain": [
       "<Figure size 1080x720 with 1 Axes>"
      ]
     },
     "metadata": {
      "needs_background": "light"
     },
     "output_type": "display_data"
    }
   ],
   "source": [
    "plt.figure(figsize=(15,10))\n",
    "\n",
    "# Neural Network plots\n",
    "plt.plot(acc_nn.accuracies, 'r-', label = \"Training Accuracies - NN\")\n",
    "plt.plot(acc_nn.test_accuracies, 'g-', label = \"Testing Accuracies - NN\")\n",
    "\n",
    "# Logistic Regression plots\n",
    "plt.plot(acc_lr.accuracies, 'k-', label = \"Training Accuracies - LR\")\n",
    "plt.plot(acc_lr.test_accuracies, 'b-', label = \"Testing Accuracies - LR\")\n",
    "\n",
    "plt.ylim(0.8, 1)\n",
    "\n",
    "plt.legend()\n",
    "\n"
   ]
  },
  {
   "cell_type": "markdown",
   "metadata": {
    "papermill": {
     "duration": 0.054614,
     "end_time": "2020-11-16T20:07:24.584874",
     "exception": false,
     "start_time": "2020-11-16T20:07:24.530260",
     "status": "completed"
    },
    "tags": []
   },
   "source": [
    "### From the plot, we can observe the following:\n",
    "- Neural Network achieves higher accuracy than the Logistic Regression model.\n",
    "- This apparently, is because of overfitting, i.e. NN captures more noise than data.\n",
    "- Testing accuracy of NN drops below the Training accuracy at higher epochs. This explains the over-fitting on training data.\n",
    "- Logistic Regression gives a reliable accuracy, without the above mentioned problem.\n"
   ]
  },
  {
   "cell_type": "markdown",
   "metadata": {
    "papermill": {
     "duration": 0.053956,
     "end_time": "2020-11-16T20:07:24.704262",
     "exception": false,
     "start_time": "2020-11-16T20:07:24.650306",
     "status": "completed"
    },
    "tags": []
   },
   "source": [
    "### Moving till the last but one layer (excluding it).\n",
    "#### Plotting the outputs of this layer of the NN."
   ]
  },
  {
   "cell_type": "code",
   "execution_count": 24,
   "metadata": {
    "execution": {
     "iopub.execute_input": "2020-11-16T20:07:24.816427Z",
     "iopub.status.busy": "2020-11-16T20:07:24.815598Z",
     "iopub.status.idle": "2020-11-16T20:07:24.828468Z",
     "shell.execute_reply": "2020-11-16T20:07:24.827868Z"
    },
    "papermill": {
     "duration": 0.071583,
     "end_time": "2020-11-16T20:07:24.828768",
     "exception": false,
     "start_time": "2020-11-16T20:07:24.757185",
     "status": "completed"
    },
    "tags": []
   },
   "outputs": [],
   "source": [
    "model_new = Model(layers[:-2])"
   ]
  },
  {
   "cell_type": "code",
   "execution_count": 25,
   "metadata": {
    "execution": {
     "iopub.execute_input": "2020-11-16T20:07:24.943566Z",
     "iopub.status.busy": "2020-11-16T20:07:24.942762Z",
     "iopub.status.idle": "2020-11-16T20:07:24.971726Z",
     "shell.execute_reply": "2020-11-16T20:07:24.972333Z"
    },
    "papermill": {
     "duration": 0.088339,
     "end_time": "2020-11-16T20:07:24.972513",
     "exception": false,
     "start_time": "2020-11-16T20:07:24.884174",
     "status": "completed"
    },
    "tags": []
   },
   "outputs": [],
   "source": [
    "plot_testing = model_new(testing_xdata)"
   ]
  },
  {
   "cell_type": "code",
   "execution_count": 26,
   "metadata": {
    "execution": {
     "iopub.execute_input": "2020-11-16T20:07:25.092206Z",
     "iopub.status.busy": "2020-11-16T20:07:25.091464Z",
     "iopub.status.idle": "2020-11-16T20:07:25.338651Z",
     "shell.execute_reply": "2020-11-16T20:07:25.339283Z"
    },
    "papermill": {
     "duration": 0.309564,
     "end_time": "2020-11-16T20:07:25.339488",
     "exception": false,
     "start_time": "2020-11-16T20:07:25.029924",
     "status": "completed"
    },
    "tags": []
   },
   "outputs": [
    {
     "data": {
      "text/plain": [
       "Text(0.5, 1.0, 'Outputs')"
      ]
     },
     "execution_count": 26,
     "metadata": {},
     "output_type": "execute_result"
    },
    {
     "data": {
      "image/png": "[encoded data removed]",
      "text/plain": [
       "<Figure size 576x504 with 1 Axes>"
      ]
     },
     "metadata": {
      "needs_background": "light"
     },
     "output_type": "display_data"
    }
   ],
   "source": [
    "plt.figure(figsize=(8,7))\n",
    "plt.scatter(plot_testing[:,0], plot_testing[:,1], alpha = 0.1, c = y_test.ravel());\n",
    "plt.title('Outputs')"
   ]
  },
  {
   "cell_type": "markdown",
   "metadata": {
    "papermill": {
     "duration": 0.055796,
     "end_time": "2020-11-16T20:07:25.453195",
     "exception": false,
     "start_time": "2020-11-16T20:07:25.397399",
     "status": "completed"
    },
    "tags": []
   },
   "source": [
    "### Plotting probability contours"
   ]
  },
  {
   "cell_type": "code",
   "execution_count": 27,
   "metadata": {
    "execution": {
     "iopub.execute_input": "2020-11-16T20:07:25.573861Z",
     "iopub.status.busy": "2020-11-16T20:07:25.572976Z",
     "iopub.status.idle": "2020-11-16T20:07:25.587149Z",
     "shell.execute_reply": "2020-11-16T20:07:25.587752Z"
    },
    "papermill": {
     "duration": 0.078452,
     "end_time": "2020-11-16T20:07:25.587945",
     "exception": false,
     "start_time": "2020-11-16T20:07:25.509493",
     "status": "completed"
    },
    "tags": []
   },
   "outputs": [],
   "source": [
    "model_prob = Model(layers[-2:]) "
   ]
  },
  {
   "cell_type": "code",
   "execution_count": 28,
   "metadata": {
    "execution": {
     "iopub.execute_input": "2020-11-16T20:07:25.709312Z",
     "iopub.status.busy": "2020-11-16T20:07:25.708556Z",
     "iopub.status.idle": "2020-11-16T20:07:25.725973Z",
     "shell.execute_reply": "2020-11-16T20:07:25.726635Z"
    },
    "papermill": {
     "duration": 0.080842,
     "end_time": "2020-11-16T20:07:25.726830",
     "exception": false,
     "start_time": "2020-11-16T20:07:25.645988",
     "status": "completed"
    },
    "tags": []
   },
   "outputs": [],
   "source": [
    "# Adjust the x and y ranges according to the above generated plot.\n",
    "x_range = np.linspace(-4, 1, 100) \n",
    "y_range = np.linspace(-6, 6, 100) \n",
    "x_grid, y_grid = np.meshgrid(x_range, y_range) # x_grid and y_grig are of size 100 X 100\n",
    "\n",
    "# converting x_grid and y_grid to continuous arrays\n",
    "x_grid_flat = np.ravel(x_grid)\n",
    "y_grid_flat = np.ravel(y_grid)\n",
    "\n",
    "# The last layer of the current model takes two columns as input. Hence transpose of np.vstack() is required.\n",
    "X = np.vstack((x_grid_flat, y_grid_flat)).T\n",
    "\n",
    "# x_grid and y_grid are of size 100 x 100\n",
    "probability_contour = model_prob(X).reshape(100,100) "
   ]
  },
  {
   "cell_type": "code",
   "execution_count": 29,
   "metadata": {
    "execution": {
     "iopub.execute_input": "2020-11-16T20:07:25.845648Z",
     "iopub.status.busy": "2020-11-16T20:07:25.844961Z",
     "iopub.status.idle": "2020-11-16T20:07:26.163077Z",
     "shell.execute_reply": "2020-11-16T20:07:26.162160Z"
    },
    "papermill": {
     "duration": 0.378388,
     "end_time": "2020-11-16T20:07:26.163220",
     "exception": false,
     "start_time": "2020-11-16T20:07:25.784832",
     "status": "completed"
    },
    "tags": []
   },
   "outputs": [
    {
     "data": {
      "image/png": "[encoded data removed]",
      "text/plain": [
       "<Figure size 720x648 with 1 Axes>"
      ]
     },
     "metadata": {
      "needs_background": "light"
     },
     "output_type": "display_data"
    }
   ],
   "source": [
    "plt.figure(figsize=(10,9))\n",
    "plt.scatter(plot_testing[:,0], plot_testing[:,1], alpha = 0.1, c = y_test.ravel())\n",
    "contours = plt.contour(x_grid,y_grid,probability_contour)\n",
    "plt.title('Probability Contours')\n",
    "plt.clabel(contours, inline = True );"
   ]
  }
 ],
 "metadata": {
  "kernelspec": {
   "display_name": "Python 3",
   "language": "python",
   "name": "python3"
  },
  "language_info": {
   "codemirror_mode": {
    "name": "ipython",
    "version": 3
   },
   "file_extension": ".py",
   "mimetype": "text/x-python",
   "name": "python",
   "nbconvert_exporter": "python",
   "pygments_lexer": "ipython3",
   "version": "3.6.12"
  },
  "papermill": {
   "duration": 172.118539,
   "end_time": "2020-11-16T20:07:26.653158",
   "environment_variables": {},
   "exception": null,
   "input_path": "2020-08-11-NeuralNetwork.ipynb",
   "output_path": "2020-08-11-NeuralNetwork.ipynb",
   "parameters": {},
   "start_time": "2020-11-16T20:04:34.534619",
   "version": "2.1.2"
  }
 },
 "nbformat": 4,
 "nbformat_minor": 4
}