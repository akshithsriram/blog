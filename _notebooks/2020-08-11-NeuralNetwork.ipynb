{
 "cells": [
  {
   "cell_type": "markdown",
   "metadata": {
    "papermill": {
     "duration": 0.029082,
     "end_time": "2020-10-29T10:04:44.106862",
     "exception": false,
     "start_time": "2020-10-29T10:04:44.077780",
     "status": "completed"
    },
    "tags": []
   },
   "source": [
    "# \"A Basic Neural Network: Differentiate Hand-Written Digits\"\n",
    "\n",
    "- badges: true\n",
    "- author: Akshith Sriram"
   ]
  },
  {
   "cell_type": "markdown",
   "metadata": {
    "papermill": {
     "duration": 0.023997,
     "end_time": "2020-10-29T10:04:44.156261",
     "exception": false,
     "start_time": "2020-10-29T10:04:44.132264",
     "status": "completed"
    },
    "tags": []
   },
   "source": [
    "### Key Objectives:\n",
    "- Building a neural network that differentiates two hand-written digits 3 and 8.\n",
    "- Comparing the results of this Neural Network (NN) to that of a Logistic Regression (LR) model.\n",
    "\n",
    "### Requirements:\n",
    "- 'Kudzu' : A neural network library that was designed during our course by [Univ.AI](www.univ.ai). \n",
    "- MNIST Database\n",
    "\n",
    "If MNIST is not installed, use the command `!pip install mnist` given below.\n",
    "It can be run both from the command line and Jupyter Notebook."
   ]
  },
  {
   "cell_type": "code",
   "execution_count": 1,
   "metadata": {
    "execution": {
     "iopub.execute_input": "2020-10-29T10:04:44.207548Z",
     "iopub.status.busy": "2020-10-29T10:04:44.206944Z",
     "iopub.status.idle": "2020-10-29T10:04:45.588302Z",
     "shell.execute_reply": "2020-10-29T10:04:45.588779Z"
    },
    "papermill": {
     "duration": 1.409445,
     "end_time": "2020-10-29T10:04:45.588966",
     "exception": false,
     "start_time": "2020-10-29T10:04:44.179521",
     "status": "completed"
    },
    "tags": []
   },
   "outputs": [
    {
     "name": "stdout",
     "output_type": "stream",
     "text": [
      "Collecting mnist\r\n"
     ]
    },
    {
     "name": "stdout",
     "output_type": "stream",
     "text": [
      "  Downloading mnist-0.2.2-py2.py3-none-any.whl (3.5 kB)\r\n",
      "Requirement already satisfied: numpy in /opt/hostedtoolcache/Python/3.6.12/x64/lib/python3.6/site-packages (from mnist) (1.19.3)\r\n"
     ]
    },
    {
     "name": "stdout",
     "output_type": "stream",
     "text": [
      "Installing collected packages: mnist\r\n"
     ]
    },
    {
     "name": "stdout",
     "output_type": "stream",
     "text": [
      "Successfully installed mnist-0.2.2\r\n"
     ]
    },
    {
     "name": "stdout",
     "output_type": "stream",
     "text": [
      "\u001b[33mWARNING: You are using pip version 20.2.3; however, version 20.2.4 is available.\r\n",
      "You should consider upgrading via the '/opt/hostedtoolcache/Python/3.6.12/x64/bin/python -m pip install --upgrade pip' command.\u001b[0m\r\n"
     ]
    }
   ],
   "source": [
    "!pip install mnist "
   ]
  },
  {
   "cell_type": "markdown",
   "metadata": {
    "papermill": {
     "duration": 0.027815,
     "end_time": "2020-10-29T10:04:45.643209",
     "exception": false,
     "start_time": "2020-10-29T10:04:45.615394",
     "status": "completed"
    },
    "tags": []
   },
   "source": [
    "#### Importing necessary libraries"
   ]
  },
  {
   "cell_type": "code",
   "execution_count": 2,
   "metadata": {
    "execution": {
     "iopub.execute_input": "2020-10-29T10:04:45.708914Z",
     "iopub.status.busy": "2020-10-29T10:04:45.703484Z",
     "iopub.status.idle": "2020-10-29T10:04:46.299515Z",
     "shell.execute_reply": "2020-10-29T10:04:46.298984Z"
    },
    "papermill": {
     "duration": 0.62854,
     "end_time": "2020-10-29T10:04:46.299648",
     "exception": false,
     "start_time": "2020-10-29T10:04:45.671108",
     "status": "completed"
    },
    "tags": []
   },
   "outputs": [],
   "source": [
    "%load_ext autoreload\n",
    "%autoreload 2\n",
    "\n",
    "%matplotlib inline\n",
    "import matplotlib.pyplot as plt\n",
    "\n",
    "import numpy as np\n",
    "import pandas as pd"
   ]
  },
  {
   "cell_type": "markdown",
   "metadata": {
    "papermill": {
     "duration": 0.028084,
     "end_time": "2020-10-29T10:04:46.357242",
     "exception": false,
     "start_time": "2020-10-29T10:04:46.329158",
     "status": "completed"
    },
    "tags": []
   },
   "source": [
    "### Preparing the Data"
   ]
  },
  {
   "cell_type": "code",
   "execution_count": 3,
   "metadata": {
    "execution": {
     "iopub.execute_input": "2020-10-29T10:04:46.415315Z",
     "iopub.status.busy": "2020-10-29T10:04:46.414731Z",
     "iopub.status.idle": "2020-10-29T10:04:46.428957Z",
     "shell.execute_reply": "2020-10-29T10:04:46.429435Z"
    },
    "papermill": {
     "duration": 0.045736,
     "end_time": "2020-10-29T10:04:46.429596",
     "exception": false,
     "start_time": "2020-10-29T10:04:46.383860",
     "status": "completed"
    },
    "tags": []
   },
   "outputs": [],
   "source": [
    "import mnist"
   ]
  },
  {
   "cell_type": "code",
   "execution_count": 4,
   "metadata": {
    "execution": {
     "iopub.execute_input": "2020-10-29T10:04:46.499714Z",
     "iopub.status.busy": "2020-10-29T10:04:46.499090Z",
     "iopub.status.idle": "2020-10-29T10:04:47.223421Z",
     "shell.execute_reply": "2020-10-29T10:04:47.222137Z"
    },
    "papermill": {
     "duration": 0.763661,
     "end_time": "2020-10-29T10:04:47.223593",
     "exception": false,
     "start_time": "2020-10-29T10:04:46.459932",
     "status": "completed"
    },
    "tags": []
   },
   "outputs": [],
   "source": [
    "train_images = mnist.train_images()\n",
    "train_labels = mnist.train_labels()"
   ]
  },
  {
   "cell_type": "code",
   "execution_count": 5,
   "metadata": {
    "execution": {
     "iopub.execute_input": "2020-10-29T10:04:47.288390Z",
     "iopub.status.busy": "2020-10-29T10:04:47.285534Z",
     "iopub.status.idle": "2020-10-29T10:04:47.299208Z",
     "shell.execute_reply": "2020-10-29T10:04:47.299682Z"
    },
    "papermill": {
     "duration": 0.04767,
     "end_time": "2020-10-29T10:04:47.299841",
     "exception": false,
     "start_time": "2020-10-29T10:04:47.252171",
     "status": "completed"
    },
    "tags": []
   },
   "outputs": [
    {
     "data": {
      "text/plain": [
       "((60000, 28, 28), (60000,))"
      ]
     },
     "execution_count": 5,
     "metadata": {},
     "output_type": "execute_result"
    }
   ],
   "source": [
    "train_images.shape, train_labels.shape"
   ]
  },
  {
   "cell_type": "code",
   "execution_count": 6,
   "metadata": {
    "execution": {
     "iopub.execute_input": "2020-10-29T10:04:47.361674Z",
     "iopub.status.busy": "2020-10-29T10:04:47.361059Z",
     "iopub.status.idle": "2020-10-29T10:04:47.607719Z",
     "shell.execute_reply": "2020-10-29T10:04:47.606847Z"
    },
    "papermill": {
     "duration": 0.280742,
     "end_time": "2020-10-29T10:04:47.607960",
     "exception": false,
     "start_time": "2020-10-29T10:04:47.327218",
     "status": "completed"
    },
    "tags": []
   },
   "outputs": [],
   "source": [
    "test_images = mnist.test_images()\n",
    "test_labels = mnist.test_labels()"
   ]
  },
  {
   "cell_type": "code",
   "execution_count": 7,
   "metadata": {
    "execution": {
     "iopub.execute_input": "2020-10-29T10:04:47.671490Z",
     "iopub.status.busy": "2020-10-29T10:04:47.670647Z",
     "iopub.status.idle": "2020-10-29T10:04:47.683322Z",
     "shell.execute_reply": "2020-10-29T10:04:47.683758Z"
    },
    "papermill": {
     "duration": 0.045533,
     "end_time": "2020-10-29T10:04:47.683904",
     "exception": false,
     "start_time": "2020-10-29T10:04:47.638371",
     "status": "completed"
    },
    "tags": []
   },
   "outputs": [
    {
     "data": {
      "text/plain": [
       "((10000, 28, 28), (10000,))"
      ]
     },
     "execution_count": 7,
     "metadata": {},
     "output_type": "execute_result"
    }
   ],
   "source": [
    "test_images.shape, test_labels.shape"
   ]
  },
  {
   "cell_type": "code",
   "execution_count": 8,
   "metadata": {
    "execution": {
     "iopub.execute_input": "2020-10-29T10:04:47.744269Z",
     "iopub.status.busy": "2020-10-29T10:04:47.743468Z",
     "iopub.status.idle": "2020-10-29T10:04:47.888390Z",
     "shell.execute_reply": "2020-10-29T10:04:47.888883Z"
    },
    "papermill": {
     "duration": 0.178515,
     "end_time": "2020-10-29T10:04:47.889046",
     "exception": false,
     "start_time": "2020-10-29T10:04:47.710531",
     "status": "completed"
    },
    "tags": []
   },
   "outputs": [
    {
     "name": "stdout",
     "output_type": "stream",
     "text": [
      "2\n"
     ]
    },
    {
     "data": {
      "text/plain": [
       "<matplotlib.image.AxesImage at 0x7fe60c21b9b0>"
      ]
     },
     "execution_count": 8,
     "metadata": {},
     "output_type": "execute_result"
    },
    {
     "data": {
      "image/png": "[encoded data removed]",
      "text/plain": [
       "<Figure size 432x288 with 1 Axes>"
      ]
     },
     "metadata": {
      "needs_background": "light"
     },
     "output_type": "display_data"
    }
   ],
   "source": [
    "image_index = 7776 # You may select anything up to 60,000\n",
    "print(train_labels[image_index]) \n",
    "plt.imshow(train_images[image_index], cmap='Greys')"
   ]
  },
  {
   "cell_type": "markdown",
   "metadata": {
    "papermill": {
     "duration": 0.028566,
     "end_time": "2020-10-29T10:04:47.946076",
     "exception": false,
     "start_time": "2020-10-29T10:04:47.917510",
     "status": "completed"
    },
    "tags": []
   },
   "source": [
    "## Filter data to get 3 and 8 out"
   ]
  },
  {
   "cell_type": "code",
   "execution_count": 9,
   "metadata": {
    "execution": {
     "iopub.execute_input": "2020-10-29T10:04:48.008962Z",
     "iopub.status.busy": "2020-10-29T10:04:48.008303Z",
     "iopub.status.idle": "2020-10-29T10:04:48.028572Z",
     "shell.execute_reply": "2020-10-29T10:04:48.028063Z"
    },
    "papermill": {
     "duration": 0.054052,
     "end_time": "2020-10-29T10:04:48.028712",
     "exception": false,
     "start_time": "2020-10-29T10:04:47.974660",
     "status": "completed"
    },
    "tags": []
   },
   "outputs": [],
   "source": [
    "train_filter = np.where((train_labels == 3 ) | (train_labels == 8))\n",
    "test_filter = np.where((test_labels == 3) | (test_labels == 8))\n",
    "X_train, y_train = train_images[train_filter], train_labels[train_filter]\n",
    "X_test, y_test = test_images[test_filter], test_labels[test_filter]"
   ]
  },
  {
   "cell_type": "markdown",
   "metadata": {
    "papermill": {
     "duration": 0.028134,
     "end_time": "2020-10-29T10:04:48.086058",
     "exception": false,
     "start_time": "2020-10-29T10:04:48.057924",
     "status": "completed"
    },
    "tags": []
   },
   "source": [
    "We normalize the pixel values in the 0 to 1 range"
   ]
  },
  {
   "cell_type": "code",
   "execution_count": 10,
   "metadata": {
    "execution": {
     "iopub.execute_input": "2020-10-29T10:04:48.149557Z",
     "iopub.status.busy": "2020-10-29T10:04:48.148967Z",
     "iopub.status.idle": "2020-10-29T10:04:48.200237Z",
     "shell.execute_reply": "2020-10-29T10:04:48.199287Z"
    },
    "papermill": {
     "duration": 0.086244,
     "end_time": "2020-10-29T10:04:48.200471",
     "exception": false,
     "start_time": "2020-10-29T10:04:48.114227",
     "status": "completed"
    },
    "tags": []
   },
   "outputs": [],
   "source": [
    "X_train = X_train/255.\n",
    "X_test = X_test/255."
   ]
  },
  {
   "cell_type": "markdown",
   "metadata": {
    "papermill": {
     "duration": 0.027415,
     "end_time": "2020-10-29T10:04:48.261948",
     "exception": false,
     "start_time": "2020-10-29T10:04:48.234533",
     "status": "completed"
    },
    "tags": []
   },
   "source": [
    "Setup the labels as 1 (when the digit is 3) and 0 (when the digit is 8)"
   ]
  },
  {
   "cell_type": "code",
   "execution_count": 11,
   "metadata": {
    "execution": {
     "iopub.execute_input": "2020-10-29T10:04:48.323542Z",
     "iopub.status.busy": "2020-10-29T10:04:48.322953Z",
     "iopub.status.idle": "2020-10-29T10:04:48.337273Z",
     "shell.execute_reply": "2020-10-29T10:04:48.336721Z"
    },
    "papermill": {
     "duration": 0.046457,
     "end_time": "2020-10-29T10:04:48.337832",
     "exception": false,
     "start_time": "2020-10-29T10:04:48.291375",
     "status": "completed"
    },
    "tags": []
   },
   "outputs": [],
   "source": [
    "y_train = 1*(y_train==3)\n",
    "y_test = 1*(y_test==3)"
   ]
  },
  {
   "cell_type": "code",
   "execution_count": 12,
   "metadata": {
    "execution": {
     "iopub.execute_input": "2020-10-29T10:04:48.420875Z",
     "iopub.status.busy": "2020-10-29T10:04:48.420264Z",
     "iopub.status.idle": "2020-10-29T10:04:48.435927Z",
     "shell.execute_reply": "2020-10-29T10:04:48.435422Z"
    },
    "papermill": {
     "duration": 0.05525,
     "end_time": "2020-10-29T10:04:48.436062",
     "exception": false,
     "start_time": "2020-10-29T10:04:48.380812",
     "status": "completed"
    },
    "tags": []
   },
   "outputs": [
    {
     "data": {
      "text/plain": [
       "((11982, 28, 28), (1984, 28, 28))"
      ]
     },
     "execution_count": 12,
     "metadata": {},
     "output_type": "execute_result"
    }
   ],
   "source": [
    "X_train.shape, X_test.shape"
   ]
  },
  {
   "cell_type": "markdown",
   "metadata": {
    "papermill": {
     "duration": 0.031515,
     "end_time": "2020-10-29T10:04:48.500818",
     "exception": false,
     "start_time": "2020-10-29T10:04:48.469303",
     "status": "completed"
    },
    "tags": []
   },
   "source": [
    "### Reshape the input data to create a linear array"
   ]
  },
  {
   "cell_type": "code",
   "execution_count": 13,
   "metadata": {
    "execution": {
     "iopub.execute_input": "2020-10-29T10:04:48.569277Z",
     "iopub.status.busy": "2020-10-29T10:04:48.568683Z",
     "iopub.status.idle": "2020-10-29T10:04:48.583406Z",
     "shell.execute_reply": "2020-10-29T10:04:48.583958Z"
    },
    "papermill": {
     "duration": 0.050082,
     "end_time": "2020-10-29T10:04:48.584133",
     "exception": false,
     "start_time": "2020-10-29T10:04:48.534051",
     "status": "completed"
    },
    "tags": []
   },
   "outputs": [
    {
     "data": {
      "text/plain": [
       "((11982, 784), (1984, 784))"
      ]
     },
     "execution_count": 13,
     "metadata": {},
     "output_type": "execute_result"
    }
   ],
   "source": [
    "X_train = X_train.reshape(X_train.shape[0], -1)\n",
    "X_test = X_test.reshape(X_test.shape[0], -1)\n",
    "X_train.shape, X_test.shape"
   ]
  },
  {
   "cell_type": "markdown",
   "metadata": {
    "papermill": {
     "duration": 0.028741,
     "end_time": "2020-10-29T10:04:48.644043",
     "exception": false,
     "start_time": "2020-10-29T10:04:48.615302",
     "status": "completed"
    },
    "tags": []
   },
   "source": [
    "### Importing appropriate functions from 'Kudzu'"
   ]
  },
  {
   "cell_type": "code",
   "execution_count": 14,
   "metadata": {
    "execution": {
     "iopub.execute_input": "2020-10-29T10:04:48.708126Z",
     "iopub.status.busy": "2020-10-29T10:04:48.707524Z",
     "iopub.status.idle": "2020-10-29T10:04:48.729341Z",
     "shell.execute_reply": "2020-10-29T10:04:48.728827Z"
    },
    "papermill": {
     "duration": 0.055735,
     "end_time": "2020-10-29T10:04:48.729490",
     "exception": false,
     "start_time": "2020-10-29T10:04:48.673755",
     "status": "completed"
    },
    "tags": []
   },
   "outputs": [],
   "source": [
    "from kudzu.layer import Sigmoid\n",
    "from kudzu.layer import Relu\n",
    "from kudzu.layer import Affine, Sigmoid\n",
    "\n",
    "from kudzu.model import Model\n",
    "from kudzu.train import Learner\n",
    "from kudzu.optim import GD\n",
    "from kudzu.data import Data, Dataloader, Sampler\n",
    "\n",
    "from kudzu.callbacks import AccCallback\n",
    "from kudzu.callbacks import ClfCallback\n",
    "\n",
    "from kudzu.loss import MSE"
   ]
  },
  {
   "cell_type": "markdown",
   "metadata": {
    "papermill": {
     "duration": 0.030847,
     "end_time": "2020-10-29T10:04:48.789856",
     "exception": false,
     "start_time": "2020-10-29T10:04:48.759009",
     "status": "completed"
    },
    "tags": []
   },
   "source": [
    "### Let us create a `Config` class, to store important parameters. \n",
    "This class essentially plays the role of a dictionary."
   ]
  },
  {
   "cell_type": "code",
   "execution_count": 15,
   "metadata": {
    "execution": {
     "iopub.execute_input": "2020-10-29T10:04:48.853214Z",
     "iopub.status.busy": "2020-10-29T10:04:48.852544Z",
     "iopub.status.idle": "2020-10-29T10:04:48.865174Z",
     "shell.execute_reply": "2020-10-29T10:04:48.864689Z"
    },
    "papermill": {
     "duration": 0.046437,
     "end_time": "2020-10-29T10:04:48.865306",
     "exception": false,
     "start_time": "2020-10-29T10:04:48.818869",
     "status": "completed"
    },
    "tags": []
   },
   "outputs": [],
   "source": [
    "class Config:\n",
    "    pass\n",
    "config = Config()\n",
    "config.lr = 0.001\n",
    "config.num_epochs = 251\n",
    "config.bs = 50"
   ]
  },
  {
   "cell_type": "markdown",
   "metadata": {
    "papermill": {
     "duration": 0.032899,
     "end_time": "2020-10-29T10:04:48.927300",
     "exception": false,
     "start_time": "2020-10-29T10:04:48.894401",
     "status": "completed"
    },
    "tags": []
   },
   "source": [
    "### Initializing data to the variables"
   ]
  },
  {
   "cell_type": "code",
   "execution_count": 16,
   "metadata": {
    "execution": {
     "iopub.execute_input": "2020-10-29T10:04:48.993010Z",
     "iopub.status.busy": "2020-10-29T10:04:48.992411Z",
     "iopub.status.idle": "2020-10-29T10:04:49.006355Z",
     "shell.execute_reply": "2020-10-29T10:04:49.006809Z"
    },
    "papermill": {
     "duration": 0.048569,
     "end_time": "2020-10-29T10:04:49.006974",
     "exception": false,
     "start_time": "2020-10-29T10:04:48.958405",
     "status": "completed"
    },
    "tags": []
   },
   "outputs": [],
   "source": [
    "data = Data(X_train, y_train.reshape(-1,1))\n",
    "sampler = Sampler(data, config.bs, shuffle=True)\n",
    "\n",
    "dl = Dataloader(data, sampler)\n",
    "\n",
    "opt = GD(config.lr)\n",
    "loss = MSE()"
   ]
  },
  {
   "cell_type": "code",
   "execution_count": 17,
   "metadata": {
    "execution": {
     "iopub.execute_input": "2020-10-29T10:04:49.074103Z",
     "iopub.status.busy": "2020-10-29T10:04:49.073510Z",
     "iopub.status.idle": "2020-10-29T10:04:49.086867Z",
     "shell.execute_reply": "2020-10-29T10:04:49.087339Z"
    },
    "papermill": {
     "duration": 0.051329,
     "end_time": "2020-10-29T10:04:49.087645",
     "exception": false,
     "start_time": "2020-10-29T10:04:49.036316",
     "status": "completed"
    },
    "tags": []
   },
   "outputs": [],
   "source": [
    "training_xdata = X_train\n",
    "testing_xdata = X_test\n",
    "training_ydata = y_train.reshape(-1,1)\n",
    "testing_ydata = y_test.reshape(-1,1)"
   ]
  },
  {
   "cell_type": "markdown",
   "metadata": {
    "papermill": {
     "duration": 0.028578,
     "end_time": "2020-10-29T10:04:49.146955",
     "exception": false,
     "start_time": "2020-10-29T10:04:49.118377",
     "status": "completed"
    },
    "tags": []
   },
   "source": [
    "### Running Models with the Training data\n",
    "Details about the network layers:\n",
    "- A first affine layer has 784 inputs and does 100 affine transforms. These are followed by a Relu\n",
    "- A second affine layer has 100 inputs from the 100 activations of the past layer, and does 100 affine transforms. These are followed by a Relu\n",
    "- A third affine layer has 100 activations and does 2 affine transformations to create an embedding for visualization. There is no non-linearity here.\n",
    "- A final \"logistic regression\" which has an affine transform from 2 inputs to 1 output, which is squeezed through a sigmoid.\n",
    "\n",
    "Help taken from Anshuman's Notebook."
   ]
  },
  {
   "cell_type": "code",
   "execution_count": 18,
   "metadata": {
    "execution": {
     "iopub.execute_input": "2020-10-29T10:04:49.211991Z",
     "iopub.status.busy": "2020-10-29T10:04:49.211392Z",
     "iopub.status.idle": "2020-10-29T10:04:49.231199Z",
     "shell.execute_reply": "2020-10-29T10:04:49.231818Z"
    },
    "papermill": {
     "duration": 0.055418,
     "end_time": "2020-10-29T10:04:49.232007",
     "exception": false,
     "start_time": "2020-10-29T10:04:49.176589",
     "status": "completed"
    },
    "tags": []
   },
   "outputs": [],
   "source": [
    "# layers for the Neural Network\n",
    "layers = [Affine(\"first\", 784, 100), Relu(\"first\"), Affine(\"second\", 100, 100), Relu(\"second\"), Affine(\"third\", 100, 2), Affine(\"final\", 2, 1), Sigmoid(\"final\")]\n",
    "model_nn = Model(layers)\n",
    "\n",
    "# layers for the Logistic Regression\n",
    "layers_lr = [Affine(\"logits\", 784, 1), Sigmoid(\"sigmoid\")]\n",
    "model_lr = Model(layers_lr)"
   ]
  },
  {
   "cell_type": "code",
   "execution_count": 19,
   "metadata": {
    "execution": {
     "iopub.execute_input": "2020-10-29T10:04:49.305758Z",
     "iopub.status.busy": "2020-10-29T10:04:49.305158Z",
     "iopub.status.idle": "2020-10-29T10:04:49.319260Z",
     "shell.execute_reply": "2020-10-29T10:04:49.318766Z"
    },
    "papermill": {
     "duration": 0.051008,
     "end_time": "2020-10-29T10:04:49.319402",
     "exception": false,
     "start_time": "2020-10-29T10:04:49.268394",
     "status": "completed"
    },
    "tags": []
   },
   "outputs": [],
   "source": [
    "# suffix _nn stands for Neural Network.\n",
    "learner_nn = Learner(loss, model_nn, opt, config.num_epochs)\n",
    "acc_nn = ClfCallback(learner_nn, config.bs, training_xdata , testing_xdata, training_ydata, testing_ydata)\n",
    "learner_nn.set_callbacks([acc_nn])"
   ]
  },
  {
   "cell_type": "code",
   "execution_count": 20,
   "metadata": {
    "execution": {
     "iopub.execute_input": "2020-10-29T10:04:49.384103Z",
     "iopub.status.busy": "2020-10-29T10:04:49.383521Z",
     "iopub.status.idle": "2020-10-29T10:06:18.323399Z",
     "shell.execute_reply": "2020-10-29T10:06:18.323963Z"
    },
    "papermill": {
     "duration": 88.975547,
     "end_time": "2020-10-29T10:06:18.324128",
     "exception": false,
     "start_time": "2020-10-29T10:04:49.348581",
     "status": "completed"
    },
    "tags": []
   },
   "outputs": [
    {
     "name": "stdout",
     "output_type": "stream",
     "text": [
      "====== Neural Network ======\n"
     ]
    },
    {
     "name": "stdout",
     "output_type": "stream",
     "text": [
      "Epoch 0, Loss 0.2412\n",
      "Training Accuracy: 0.6766, Testing Accuracy: 0.6986\n",
      "\n"
     ]
    },
    {
     "name": "stdout",
     "output_type": "stream",
     "text": [
      "Epoch 10, Loss 0.1046\n",
      "Training Accuracy: 0.9008, Testing Accuracy: 0.9148\n",
      "\n"
     ]
    },
    {
     "name": "stdout",
     "output_type": "stream",
     "text": [
      "Epoch 20, Loss 0.0607\n",
      "Training Accuracy: 0.9347, Testing Accuracy: 0.9451\n",
      "\n"
     ]
    },
    {
     "name": "stdout",
     "output_type": "stream",
     "text": [
      "Epoch 30, Loss 0.0463\n",
      "Training Accuracy: 0.9481, Testing Accuracy: 0.9582\n",
      "\n"
     ]
    },
    {
     "name": "stdout",
     "output_type": "stream",
     "text": [
      "Epoch 40, Loss 0.0397\n",
      "Training Accuracy: 0.9543, Testing Accuracy: 0.9607\n",
      "\n"
     ]
    },
    {
     "name": "stdout",
     "output_type": "stream",
     "text": [
      "Epoch 50, Loss 0.0358\n",
      "Training Accuracy: 0.9582, Testing Accuracy: 0.9642\n",
      "\n"
     ]
    },
    {
     "name": "stdout",
     "output_type": "stream",
     "text": [
      "Epoch 60, Loss 0.0332\n",
      "Training Accuracy: 0.9613, Testing Accuracy: 0.9647\n",
      "\n"
     ]
    },
    {
     "name": "stdout",
     "output_type": "stream",
     "text": [
      "Epoch 70, Loss 0.0313\n",
      "Training Accuracy: 0.9631, Testing Accuracy: 0.9652\n",
      "\n"
     ]
    },
    {
     "name": "stdout",
     "output_type": "stream",
     "text": [
      "Epoch 80, Loss 0.0297\n",
      "Training Accuracy: 0.9654, Testing Accuracy: 0.9662\n",
      "\n"
     ]
    },
    {
     "name": "stdout",
     "output_type": "stream",
     "text": [
      "Epoch 90, Loss 0.0285\n",
      "Training Accuracy: 0.9674, Testing Accuracy: 0.9662\n",
      "\n"
     ]
    },
    {
     "name": "stdout",
     "output_type": "stream",
     "text": [
      "Epoch 100, Loss 0.0275\n",
      "Training Accuracy: 0.9689, Testing Accuracy: 0.9677\n",
      "\n"
     ]
    },
    {
     "name": "stdout",
     "output_type": "stream",
     "text": [
      "Epoch 110, Loss 0.0265\n",
      "Training Accuracy: 0.9695, Testing Accuracy: 0.9682\n",
      "\n"
     ]
    },
    {
     "name": "stdout",
     "output_type": "stream",
     "text": [
      "Epoch 120, Loss 0.0258\n",
      "Training Accuracy: 0.9703, Testing Accuracy: 0.9688\n",
      "\n"
     ]
    },
    {
     "name": "stdout",
     "output_type": "stream",
     "text": [
      "Epoch 130, Loss 0.0251\n",
      "Training Accuracy: 0.9712, Testing Accuracy: 0.9693\n",
      "\n"
     ]
    },
    {
     "name": "stdout",
     "output_type": "stream",
     "text": [
      "Epoch 140, Loss 0.0244\n",
      "Training Accuracy: 0.9720, Testing Accuracy: 0.9693\n",
      "\n"
     ]
    },
    {
     "name": "stdout",
     "output_type": "stream",
     "text": [
      "Epoch 150, Loss 0.0239\n",
      "Training Accuracy: 0.9725, Testing Accuracy: 0.9703\n",
      "\n"
     ]
    },
    {
     "name": "stdout",
     "output_type": "stream",
     "text": [
      "Epoch 160, Loss 0.0233\n",
      "Training Accuracy: 0.9731, Testing Accuracy: 0.9703\n",
      "\n"
     ]
    },
    {
     "name": "stdout",
     "output_type": "stream",
     "text": [
      "Epoch 170, Loss 0.0228\n",
      "Training Accuracy: 0.9735, Testing Accuracy: 0.9703\n",
      "\n"
     ]
    },
    {
     "name": "stdout",
     "output_type": "stream",
     "text": [
      "Epoch 180, Loss 0.0224\n",
      "Training Accuracy: 0.9740, Testing Accuracy: 0.9703\n",
      "\n"
     ]
    },
    {
     "name": "stdout",
     "output_type": "stream",
     "text": [
      "Epoch 190, Loss 0.022\n",
      "Training Accuracy: 0.9745, Testing Accuracy: 0.9698\n",
      "\n"
     ]
    },
    {
     "name": "stdout",
     "output_type": "stream",
     "text": [
      "Epoch 200, Loss 0.0215\n",
      "Training Accuracy: 0.9754, Testing Accuracy: 0.9708\n",
      "\n"
     ]
    },
    {
     "name": "stdout",
     "output_type": "stream",
     "text": [
      "Epoch 210, Loss 0.0212\n",
      "Training Accuracy: 0.9760, Testing Accuracy: 0.9708\n",
      "\n"
     ]
    },
    {
     "name": "stdout",
     "output_type": "stream",
     "text": [
      "Epoch 220, Loss 0.0208\n",
      "Training Accuracy: 0.9765, Testing Accuracy: 0.9718\n",
      "\n"
     ]
    },
    {
     "name": "stdout",
     "output_type": "stream",
     "text": [
      "Epoch 230, Loss 0.0204\n",
      "Training Accuracy: 0.9772, Testing Accuracy: 0.9718\n",
      "\n"
     ]
    },
    {
     "name": "stdout",
     "output_type": "stream",
     "text": [
      "Epoch 240, Loss 0.0201\n",
      "Training Accuracy: 0.9780, Testing Accuracy: 0.9718\n",
      "\n"
     ]
    },
    {
     "name": "stdout",
     "output_type": "stream",
     "text": [
      "Epoch 250, Loss 0.0197\n",
      "Training Accuracy: 0.9784, Testing Accuracy: 0.9723\n",
      "\n"
     ]
    },
    {
     "data": {
      "text/plain": [
       "0.002372484106119077"
      ]
     },
     "execution_count": 20,
     "metadata": {},
     "output_type": "execute_result"
    }
   ],
   "source": [
    "print(\"====== Neural Network ======\")\n",
    "learner_nn.train_loop(dl)"
   ]
  },
  {
   "cell_type": "markdown",
   "metadata": {
    "papermill": {
     "duration": 0.036747,
     "end_time": "2020-10-29T10:06:18.398233",
     "exception": false,
     "start_time": "2020-10-29T10:06:18.361486",
     "status": "completed"
    },
    "tags": []
   },
   "source": [
    "### Logistic Regression based Implementation."
   ]
  },
  {
   "cell_type": "code",
   "execution_count": 21,
   "metadata": {
    "execution": {
     "iopub.execute_input": "2020-10-29T10:06:18.482336Z",
     "iopub.status.busy": "2020-10-29T10:06:18.481737Z",
     "iopub.status.idle": "2020-10-29T10:06:18.490191Z",
     "shell.execute_reply": "2020-10-29T10:06:18.490629Z"
    },
    "papermill": {
     "duration": 0.056245,
     "end_time": "2020-10-29T10:06:18.490781",
     "exception": false,
     "start_time": "2020-10-29T10:06:18.434536",
     "status": "completed"
    },
    "tags": []
   },
   "outputs": [],
   "source": [
    "learner_lr = Learner(loss, model_lr, opt, config.num_epochs)\n",
    "acc_lr = ClfCallback(learner_lr, config.bs, training_xdata , testing_xdata, training_ydata, testing_ydata)\n",
    "learner_lr.set_callbacks([acc_lr])"
   ]
  },
  {
   "cell_type": "code",
   "execution_count": 22,
   "metadata": {
    "execution": {
     "iopub.execute_input": "2020-10-29T10:06:18.569609Z",
     "iopub.status.busy": "2020-10-29T10:06:18.569016Z",
     "iopub.status.idle": "2020-10-29T10:06:35.524668Z",
     "shell.execute_reply": "2020-10-29T10:06:35.525147Z"
    },
    "papermill": {
     "duration": 16.997495,
     "end_time": "2020-10-29T10:06:35.525333",
     "exception": false,
     "start_time": "2020-10-29T10:06:18.527838",
     "status": "completed"
    },
    "tags": []
   },
   "outputs": [
    {
     "name": "stdout",
     "output_type": "stream",
     "text": [
      "====== Logistic Regression ======\n",
      "Epoch 0, Loss 0.2487\n",
      "Training Accuracy: 0.6725, Testing Accuracy: 0.6628\n",
      "\n"
     ]
    },
    {
     "name": "stdout",
     "output_type": "stream",
     "text": [
      "Epoch 10, Loss 0.1009\n",
      "Training Accuracy: 0.9165, Testing Accuracy: 0.9239\n",
      "\n"
     ]
    },
    {
     "name": "stdout",
     "output_type": "stream",
     "text": [
      "Epoch 20, Loss 0.0779\n",
      "Training Accuracy: 0.9314, Testing Accuracy: 0.9410\n",
      "\n"
     ]
    },
    {
     "name": "stdout",
     "output_type": "stream",
     "text": [
      "Epoch 30, Loss 0.0674\n",
      "Training Accuracy: 0.9377, Testing Accuracy: 0.9476\n",
      "\n"
     ]
    },
    {
     "name": "stdout",
     "output_type": "stream",
     "text": [
      "Epoch 40, Loss 0.0611\n",
      "Training Accuracy: 0.9412, Testing Accuracy: 0.9516\n",
      "\n"
     ]
    },
    {
     "name": "stdout",
     "output_type": "stream",
     "text": [
      "Epoch 50, Loss 0.0567\n",
      "Training Accuracy: 0.9442, Testing Accuracy: 0.9567\n",
      "\n"
     ]
    },
    {
     "name": "stdout",
     "output_type": "stream",
     "text": [
      "Epoch 60, Loss 0.0535\n",
      "Training Accuracy: 0.9467, Testing Accuracy: 0.9567\n",
      "\n"
     ]
    },
    {
     "name": "stdout",
     "output_type": "stream",
     "text": [
      "Epoch 70, Loss 0.051\n",
      "Training Accuracy: 0.9484, Testing Accuracy: 0.9572\n",
      "\n"
     ]
    },
    {
     "name": "stdout",
     "output_type": "stream",
     "text": [
      "Epoch 80, Loss 0.049\n",
      "Training Accuracy: 0.9498, Testing Accuracy: 0.9587\n",
      "\n"
     ]
    },
    {
     "name": "stdout",
     "output_type": "stream",
     "text": [
      "Epoch 90, Loss 0.0474\n",
      "Training Accuracy: 0.9518, Testing Accuracy: 0.9597\n",
      "\n"
     ]
    },
    {
     "name": "stdout",
     "output_type": "stream",
     "text": [
      "Epoch 100, Loss 0.0459\n",
      "Training Accuracy: 0.9528, Testing Accuracy: 0.9612\n",
      "\n"
     ]
    },
    {
     "name": "stdout",
     "output_type": "stream",
     "text": [
      "Epoch 110, Loss 0.0447\n",
      "Training Accuracy: 0.9539, Testing Accuracy: 0.9622\n",
      "\n"
     ]
    },
    {
     "name": "stdout",
     "output_type": "stream",
     "text": [
      "Epoch 120, Loss 0.0437\n",
      "Training Accuracy: 0.9545, Testing Accuracy: 0.9632\n",
      "\n"
     ]
    },
    {
     "name": "stdout",
     "output_type": "stream",
     "text": [
      "Epoch 130, Loss 0.0428\n",
      "Training Accuracy: 0.9548, Testing Accuracy: 0.9642\n",
      "\n"
     ]
    },
    {
     "name": "stdout",
     "output_type": "stream",
     "text": [
      "Epoch 140, Loss 0.0419\n",
      "Training Accuracy: 0.9557, Testing Accuracy: 0.9647\n",
      "\n"
     ]
    },
    {
     "name": "stdout",
     "output_type": "stream",
     "text": [
      "Epoch 150, Loss 0.0412\n",
      "Training Accuracy: 0.9566, Testing Accuracy: 0.9652\n",
      "\n"
     ]
    },
    {
     "name": "stdout",
     "output_type": "stream",
     "text": [
      "Epoch 160, Loss 0.0405\n",
      "Training Accuracy: 0.9572, Testing Accuracy: 0.9652\n",
      "\n"
     ]
    },
    {
     "name": "stdout",
     "output_type": "stream",
     "text": [
      "Epoch 170, Loss 0.0399\n",
      "Training Accuracy: 0.9576, Testing Accuracy: 0.9652\n",
      "\n"
     ]
    },
    {
     "name": "stdout",
     "output_type": "stream",
     "text": [
      "Epoch 180, Loss 0.0394\n",
      "Training Accuracy: 0.9584, Testing Accuracy: 0.9652\n",
      "\n"
     ]
    },
    {
     "name": "stdout",
     "output_type": "stream",
     "text": [
      "Epoch 190, Loss 0.0388\n",
      "Training Accuracy: 0.9584, Testing Accuracy: 0.9652\n",
      "\n"
     ]
    },
    {
     "name": "stdout",
     "output_type": "stream",
     "text": [
      "Epoch 200, Loss 0.0384\n",
      "Training Accuracy: 0.9589, Testing Accuracy: 0.9652\n",
      "\n"
     ]
    },
    {
     "name": "stdout",
     "output_type": "stream",
     "text": [
      "Epoch 210, Loss 0.0379\n",
      "Training Accuracy: 0.9594, Testing Accuracy: 0.9652\n",
      "\n"
     ]
    },
    {
     "name": "stdout",
     "output_type": "stream",
     "text": [
      "Epoch 220, Loss 0.0375\n",
      "Training Accuracy: 0.9596, Testing Accuracy: 0.9652\n",
      "\n"
     ]
    },
    {
     "name": "stdout",
     "output_type": "stream",
     "text": [
      "Epoch 230, Loss 0.0371\n",
      "Training Accuracy: 0.9601, Testing Accuracy: 0.9652\n",
      "\n"
     ]
    },
    {
     "name": "stdout",
     "output_type": "stream",
     "text": [
      "Epoch 240, Loss 0.0368\n",
      "Training Accuracy: 0.9607, Testing Accuracy: 0.9657\n",
      "\n"
     ]
    },
    {
     "name": "stdout",
     "output_type": "stream",
     "text": [
      "Epoch 250, Loss 0.0364\n",
      "Training Accuracy: 0.9610, Testing Accuracy: 0.9657\n",
      "\n"
     ]
    },
    {
     "data": {
      "text/plain": [
       "0.04299091556803819"
      ]
     },
     "execution_count": 22,
     "metadata": {},
     "output_type": "execute_result"
    }
   ],
   "source": [
    "print(\"====== Logistic Regression ======\")\n",
    "learner_lr.train_loop(dl)"
   ]
  },
  {
   "cell_type": "markdown",
   "metadata": {
    "papermill": {
     "duration": 0.045384,
     "end_time": "2020-10-29T10:06:35.615883",
     "exception": false,
     "start_time": "2020-10-29T10:06:35.570499",
     "status": "completed"
    },
    "tags": []
   },
   "source": [
    "### Comparing results of NN and LR"
   ]
  },
  {
   "cell_type": "code",
   "execution_count": 23,
   "metadata": {
    "execution": {
     "iopub.execute_input": "2020-10-29T10:06:35.716377Z",
     "iopub.status.busy": "2020-10-29T10:06:35.715696Z",
     "iopub.status.idle": "2020-10-29T10:06:35.958637Z",
     "shell.execute_reply": "2020-10-29T10:06:35.959120Z"
    },
    "papermill": {
     "duration": 0.29849,
     "end_time": "2020-10-29T10:06:35.959282",
     "exception": false,
     "start_time": "2020-10-29T10:06:35.660792",
     "status": "completed"
    },
    "tags": []
   },
   "outputs": [
    {
     "data": {
      "text/plain": [
       "<matplotlib.legend.Legend at 0x7fe5ff5ce320>"
      ]
     },
     "execution_count": 23,
     "metadata": {},
     "output_type": "execute_result"
    },
    {
     "data": {
      "image/png": "[encoded data removed]",
      "text/plain": [
       "<Figure size 1080x720 with 1 Axes>"
      ]
     },
     "metadata": {
      "needs_background": "light"
     },
     "output_type": "display_data"
    }
   ],
   "source": [
    "plt.figure(figsize=(15,10))\n",
    "\n",
    "# Neural Network plots\n",
    "plt.plot(acc_nn.accuracies, 'r-', label = \"Training Accuracies - NN\")\n",
    "plt.plot(acc_nn.test_accuracies, 'g-', label = \"Testing Accuracies - NN\")\n",
    "\n",
    "# Logistic Regression plots\n",
    "plt.plot(acc_lr.accuracies, 'k-', label = \"Training Accuracies - LR\")\n",
    "plt.plot(acc_lr.test_accuracies, 'b-', label = \"Testing Accuracies - LR\")\n",
    "\n",
    "plt.ylim(0.8, 1)\n",
    "\n",
    "plt.legend()\n",
    "\n"
   ]
  },
  {
   "cell_type": "markdown",
   "metadata": {
    "papermill": {
     "duration": 0.046185,
     "end_time": "2020-10-29T10:06:36.052062",
     "exception": false,
     "start_time": "2020-10-29T10:06:36.005877",
     "status": "completed"
    },
    "tags": []
   },
   "source": [
    "### From the plot, we can observe the following:\n",
    "- Neural Network achieves higher accuracy than the Logistic Regression model.\n",
    "- This apparently, is because of overfitting, i.e. NN captures more noise than data.\n",
    "- Testing accuracy of NN drops below the Training accuracy at higher epochs. This explains the over-fitting on training data.\n",
    "- Logistic Regression gives a reliable accuracy, without the above mentioned problem.\n"
   ]
  },
  {
   "cell_type": "markdown",
   "metadata": {
    "papermill": {
     "duration": 0.046136,
     "end_time": "2020-10-29T10:06:36.144255",
     "exception": false,
     "start_time": "2020-10-29T10:06:36.098119",
     "status": "completed"
    },
    "tags": []
   },
   "source": [
    "### Moving till the last but one layer (excluding it).\n",
    "#### Plotting the outputs of this layer of the NN."
   ]
  },
  {
   "cell_type": "code",
   "execution_count": 24,
   "metadata": {
    "execution": {
     "iopub.execute_input": "2020-10-29T10:06:36.241953Z",
     "iopub.status.busy": "2020-10-29T10:06:36.241355Z",
     "iopub.status.idle": "2020-10-29T10:06:36.255644Z",
     "shell.execute_reply": "2020-10-29T10:06:36.255054Z"
    },
    "papermill": {
     "duration": 0.065176,
     "end_time": "2020-10-29T10:06:36.255779",
     "exception": false,
     "start_time": "2020-10-29T10:06:36.190603",
     "status": "completed"
    },
    "tags": []
   },
   "outputs": [],
   "source": [
    "model_new = Model(layers[:-2])"
   ]
  },
  {
   "cell_type": "code",
   "execution_count": 25,
   "metadata": {
    "execution": {
     "iopub.execute_input": "2020-10-29T10:06:36.354785Z",
     "iopub.status.busy": "2020-10-29T10:06:36.354191Z",
     "iopub.status.idle": "2020-10-29T10:06:36.380396Z",
     "shell.execute_reply": "2020-10-29T10:06:36.381030Z"
    },
    "papermill": {
     "duration": 0.079615,
     "end_time": "2020-10-29T10:06:36.381198",
     "exception": false,
     "start_time": "2020-10-29T10:06:36.301583",
     "status": "completed"
    },
    "tags": []
   },
   "outputs": [],
   "source": [
    "plot_testing = model_new(testing_xdata)"
   ]
  },
  {
   "cell_type": "code",
   "execution_count": 26,
   "metadata": {
    "execution": {
     "iopub.execute_input": "2020-10-29T10:06:36.478141Z",
     "iopub.status.busy": "2020-10-29T10:06:36.477552Z",
     "iopub.status.idle": "2020-10-29T10:06:36.716969Z",
     "shell.execute_reply": "2020-10-29T10:06:36.717548Z"
    },
    "papermill": {
     "duration": 0.290214,
     "end_time": "2020-10-29T10:06:36.717711",
     "exception": false,
     "start_time": "2020-10-29T10:06:36.427497",
     "status": "completed"
    },
    "tags": []
   },
   "outputs": [
    {
     "data": {
      "text/plain": [
       "Text(0.5, 1.0, 'Outputs')"
      ]
     },
     "execution_count": 26,
     "metadata": {},
     "output_type": "execute_result"
    },
    {
     "data": {
      "image/png": "[encoded data removed]",
      "text/plain": [
       "<Figure size 576x504 with 1 Axes>"
      ]
     },
     "metadata": {
      "needs_background": "light"
     },
     "output_type": "display_data"
    }
   ],
   "source": [
    "plt.figure(figsize=(8,7))\n",
    "plt.scatter(plot_testing[:,0], plot_testing[:,1], alpha = 0.1, c = y_test.ravel());\n",
    "plt.title('Outputs')"
   ]
  },
  {
   "cell_type": "markdown",
   "metadata": {
    "papermill": {
     "duration": 0.053078,
     "end_time": "2020-10-29T10:06:36.821370",
     "exception": false,
     "start_time": "2020-10-29T10:06:36.768292",
     "status": "completed"
    },
    "tags": []
   },
   "source": [
    "### Plotting probability contours"
   ]
  },
  {
   "cell_type": "code",
   "execution_count": 27,
   "metadata": {
    "execution": {
     "iopub.execute_input": "2020-10-29T10:06:36.931989Z",
     "iopub.status.busy": "2020-10-29T10:06:36.931360Z",
     "iopub.status.idle": "2020-10-29T10:06:36.944435Z",
     "shell.execute_reply": "2020-10-29T10:06:36.943902Z"
    },
    "papermill": {
     "duration": 0.072531,
     "end_time": "2020-10-29T10:06:36.944581",
     "exception": false,
     "start_time": "2020-10-29T10:06:36.872050",
     "status": "completed"
    },
    "tags": []
   },
   "outputs": [],
   "source": [
    "model_prob = Model(layers[-2:]) "
   ]
  },
  {
   "cell_type": "code",
   "execution_count": 28,
   "metadata": {
    "execution": {
     "iopub.execute_input": "2020-10-29T10:06:37.051634Z",
     "iopub.status.busy": "2020-10-29T10:06:37.051023Z",
     "iopub.status.idle": "2020-10-29T10:06:37.069329Z",
     "shell.execute_reply": "2020-10-29T10:06:37.070155Z"
    },
    "papermill": {
     "duration": 0.076662,
     "end_time": "2020-10-29T10:06:37.070322",
     "exception": false,
     "start_time": "2020-10-29T10:06:36.993660",
     "status": "completed"
    },
    "tags": []
   },
   "outputs": [],
   "source": [
    "# Adjust the x and y ranges according to the above generated plot.\n",
    "x_range = np.linspace(-4, 1, 100) \n",
    "y_range = np.linspace(-6, 6, 100) \n",
    "x_grid, y_grid = np.meshgrid(x_range, y_range) # x_grid and y_grig are of size 100 X 100\n",
    "\n",
    "# converting x_grid and y_grid to continuous arrays\n",
    "x_grid_flat = np.ravel(x_grid)\n",
    "y_grid_flat = np.ravel(y_grid)\n",
    "\n",
    "# The last layer of the current model takes two columns as input. Hence transpose of np.vstack() is required.\n",
    "X = np.vstack((x_grid_flat, y_grid_flat)).T\n",
    "\n",
    "# x_grid and y_grid are of size 100 x 100\n",
    "probability_contour = model_prob(X).reshape(100,100) "
   ]
  },
  {
   "cell_type": "code",
   "execution_count": 29,
   "metadata": {
    "execution": {
     "iopub.execute_input": "2020-10-29T10:06:37.185379Z",
     "iopub.status.busy": "2020-10-29T10:06:37.184794Z",
     "iopub.status.idle": "2020-10-29T10:06:37.467557Z",
     "shell.execute_reply": "2020-10-29T10:06:37.467059Z"
    },
    "papermill": {
     "duration": 0.342593,
     "end_time": "2020-10-29T10:06:37.467699",
     "exception": false,
     "start_time": "2020-10-29T10:06:37.125106",
     "status": "completed"
    },
    "tags": []
   },
   "outputs": [
    {
     "data": {
      "image/png": "[encoded data removed]",
      "text/plain": [
       "<Figure size 720x648 with 1 Axes>"
      ]
     },
     "metadata": {
      "needs_background": "light"
     },
     "output_type": "display_data"
    }
   ],
   "source": [
    "plt.figure(figsize=(10,9))\n",
    "plt.scatter(plot_testing[:,0], plot_testing[:,1], alpha = 0.1, c = y_test.ravel())\n",
    "contours = plt.contour(x_grid,y_grid,probability_contour)\n",
    "plt.title('Probability Contours')\n",
    "plt.clabel(contours, inline = True );"
   ]
  }
 ],
 "metadata": {
  "kernelspec": {
   "display_name": "Python 3",
   "language": "python",
   "name": "python3"
  },
  "language_info": {
   "codemirror_mode": {
    "name": "ipython",
    "version": 3
   },
   "file_extension": ".py",
   "mimetype": "text/x-python",
   "name": "python",
   "nbconvert_exporter": "python",
   "pygments_lexer": "ipython3",
   "version": "3.6.12"
  },
  "papermill": {
   "duration": 115.005574,
   "end_time": "2020-10-29T10:06:37.938295",
   "environment_variables": {},
   "exception": null,
   "input_path": "2020-08-11-NeuralNetwork.ipynb",
   "output_path": "2020-08-11-NeuralNetwork.ipynb",
   "parameters": {},
   "start_time": "2020-10-29T10:04:42.932721",
   "version": "2.1.2"
  }
 },
 "nbformat": 4,
 "nbformat_minor": 4
}