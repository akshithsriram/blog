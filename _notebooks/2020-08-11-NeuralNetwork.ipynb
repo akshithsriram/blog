{
 "cells": [
  {
   "cell_type": "markdown",
   "metadata": {
    "papermill": {
     "duration": 0.032737,
     "end_time": "2020-11-04T00:11:22.729031",
     "exception": false,
     "start_time": "2020-11-04T00:11:22.696294",
     "status": "completed"
    },
    "tags": []
   },
   "source": [
    "# \"A Basic Neural Network: Differentiate Hand-Written Digits\"\n",
    "\n",
    "- badges: true\n",
    "- author: Akshith Sriram"
   ]
  },
  {
   "cell_type": "markdown",
   "metadata": {
    "papermill": {
     "duration": 0.028734,
     "end_time": "2020-11-04T00:11:22.787290",
     "exception": false,
     "start_time": "2020-11-04T00:11:22.758556",
     "status": "completed"
    },
    "tags": []
   },
   "source": [
    "### Key Objectives:\n",
    "- Building a neural network that differentiates two hand-written digits 3 and 8.\n",
    "- Comparing the results of this Neural Network (NN) to that of a Logistic Regression (LR) model.\n",
    "\n",
    "### Requirements:\n",
    "- 'Kudzu' : A neural network library that was designed during our course by [Univ.AI](www.univ.ai). \n",
    "- MNIST Database\n",
    "\n",
    "If MNIST is not installed, use the command `!pip install mnist` given below.\n",
    "It can be run both from the command line and Jupyter Notebook."
   ]
  },
  {
   "cell_type": "code",
   "execution_count": 1,
   "metadata": {
    "execution": {
     "iopub.execute_input": "2020-11-04T00:11:22.849142Z",
     "iopub.status.busy": "2020-11-04T00:11:22.848498Z",
     "iopub.status.idle": "2020-11-04T00:11:24.932742Z",
     "shell.execute_reply": "2020-11-04T00:11:24.931768Z"
    },
    "papermill": {
     "duration": 2.117188,
     "end_time": "2020-11-04T00:11:24.932902",
     "exception": false,
     "start_time": "2020-11-04T00:11:22.815714",
     "status": "completed"
    },
    "tags": []
   },
   "outputs": [
    {
     "name": "stdout",
     "output_type": "stream",
     "text": [
      "Collecting mnist\r\n"
     ]
    },
    {
     "name": "stdout",
     "output_type": "stream",
     "text": [
      "  Downloading mnist-0.2.2-py2.py3-none-any.whl (3.5 kB)\r\n"
     ]
    },
    {
     "name": "stdout",
     "output_type": "stream",
     "text": [
      "Requirement already satisfied: numpy in /opt/hostedtoolcache/Python/3.6.12/x64/lib/python3.6/site-packages (from mnist) (1.19.4)\r\n"
     ]
    },
    {
     "name": "stdout",
     "output_type": "stream",
     "text": [
      "Installing collected packages: mnist\r\n"
     ]
    },
    {
     "name": "stdout",
     "output_type": "stream",
     "text": [
      "Successfully installed mnist-0.2.2\r\n"
     ]
    }
   ],
   "source": [
    "!pip install mnist "
   ]
  },
  {
   "cell_type": "markdown",
   "metadata": {
    "papermill": {
     "duration": 0.028819,
     "end_time": "2020-11-04T00:11:24.993862",
     "exception": false,
     "start_time": "2020-11-04T00:11:24.965043",
     "status": "completed"
    },
    "tags": []
   },
   "source": [
    "#### Importing necessary libraries"
   ]
  },
  {
   "cell_type": "code",
   "execution_count": 2,
   "metadata": {
    "execution": {
     "iopub.execute_input": "2020-11-04T00:11:25.061727Z",
     "iopub.status.busy": "2020-11-04T00:11:25.061042Z",
     "iopub.status.idle": "2020-11-04T00:11:25.693415Z",
     "shell.execute_reply": "2020-11-04T00:11:25.692452Z"
    },
    "papermill": {
     "duration": 0.670569,
     "end_time": "2020-11-04T00:11:25.693571",
     "exception": false,
     "start_time": "2020-11-04T00:11:25.023002",
     "status": "completed"
    },
    "tags": []
   },
   "outputs": [],
   "source": [
    "%load_ext autoreload\n",
    "%autoreload 2\n",
    "\n",
    "%matplotlib inline\n",
    "import matplotlib.pyplot as plt\n",
    "\n",
    "import numpy as np\n",
    "import pandas as pd"
   ]
  },
  {
   "cell_type": "markdown",
   "metadata": {
    "papermill": {
     "duration": 0.0323,
     "end_time": "2020-11-04T00:11:25.756240",
     "exception": false,
     "start_time": "2020-11-04T00:11:25.723940",
     "status": "completed"
    },
    "tags": []
   },
   "source": [
    "### Preparing the Data"
   ]
  },
  {
   "cell_type": "code",
   "execution_count": 3,
   "metadata": {
    "execution": {
     "iopub.execute_input": "2020-11-04T00:11:25.831417Z",
     "iopub.status.busy": "2020-11-04T00:11:25.824846Z",
     "iopub.status.idle": "2020-11-04T00:11:25.838673Z",
     "shell.execute_reply": "2020-11-04T00:11:25.838081Z"
    },
    "papermill": {
     "duration": 0.05214,
     "end_time": "2020-11-04T00:11:25.838830",
     "exception": false,
     "start_time": "2020-11-04T00:11:25.786690",
     "status": "completed"
    },
    "tags": []
   },
   "outputs": [],
   "source": [
    "import mnist"
   ]
  },
  {
   "cell_type": "code",
   "execution_count": 4,
   "metadata": {
    "execution": {
     "iopub.execute_input": "2020-11-04T00:11:25.909657Z",
     "iopub.status.busy": "2020-11-04T00:11:25.909038Z",
     "iopub.status.idle": "2020-11-04T00:11:26.716819Z",
     "shell.execute_reply": "2020-11-04T00:11:26.716254Z"
    },
    "papermill": {
     "duration": 0.844461,
     "end_time": "2020-11-04T00:11:26.717028",
     "exception": false,
     "start_time": "2020-11-04T00:11:25.872567",
     "status": "completed"
    },
    "tags": []
   },
   "outputs": [],
   "source": [
    "train_images = mnist.train_images()\n",
    "train_labels = mnist.train_labels()"
   ]
  },
  {
   "cell_type": "code",
   "execution_count": 5,
   "metadata": {
    "execution": {
     "iopub.execute_input": "2020-11-04T00:11:26.781269Z",
     "iopub.status.busy": "2020-11-04T00:11:26.780622Z",
     "iopub.status.idle": "2020-11-04T00:11:26.793871Z",
     "shell.execute_reply": "2020-11-04T00:11:26.794420Z"
    },
    "papermill": {
     "duration": 0.04839,
     "end_time": "2020-11-04T00:11:26.794576",
     "exception": false,
     "start_time": "2020-11-04T00:11:26.746186",
     "status": "completed"
    },
    "tags": []
   },
   "outputs": [
    {
     "data": {
      "text/plain": [
       "((60000, 28, 28), (60000,))"
      ]
     },
     "execution_count": 5,
     "metadata": {},
     "output_type": "execute_result"
    }
   ],
   "source": [
    "train_images.shape, train_labels.shape"
   ]
  },
  {
   "cell_type": "code",
   "execution_count": 6,
   "metadata": {
    "execution": {
     "iopub.execute_input": "2020-11-04T00:11:26.863759Z",
     "iopub.status.busy": "2020-11-04T00:11:26.863027Z",
     "iopub.status.idle": "2020-11-04T00:11:27.152151Z",
     "shell.execute_reply": "2020-11-04T00:11:27.151538Z"
    },
    "papermill": {
     "duration": 0.325962,
     "end_time": "2020-11-04T00:11:27.152337",
     "exception": false,
     "start_time": "2020-11-04T00:11:26.826375",
     "status": "completed"
    },
    "tags": []
   },
   "outputs": [],
   "source": [
    "test_images = mnist.test_images()\n",
    "test_labels = mnist.test_labels()"
   ]
  },
  {
   "cell_type": "code",
   "execution_count": 7,
   "metadata": {
    "execution": {
     "iopub.execute_input": "2020-11-04T00:11:27.220378Z",
     "iopub.status.busy": "2020-11-04T00:11:27.219730Z",
     "iopub.status.idle": "2020-11-04T00:11:27.231973Z",
     "shell.execute_reply": "2020-11-04T00:11:27.231450Z"
    },
    "papermill": {
     "duration": 0.049558,
     "end_time": "2020-11-04T00:11:27.232094",
     "exception": false,
     "start_time": "2020-11-04T00:11:27.182536",
     "status": "completed"
    },
    "tags": []
   },
   "outputs": [
    {
     "data": {
      "text/plain": [
       "((10000, 28, 28), (10000,))"
      ]
     },
     "execution_count": 7,
     "metadata": {},
     "output_type": "execute_result"
    }
   ],
   "source": [
    "test_images.shape, test_labels.shape"
   ]
  },
  {
   "cell_type": "code",
   "execution_count": 8,
   "metadata": {
    "execution": {
     "iopub.execute_input": "2020-11-04T00:11:27.301532Z",
     "iopub.status.busy": "2020-11-04T00:11:27.300675Z",
     "iopub.status.idle": "2020-11-04T00:11:27.485539Z",
     "shell.execute_reply": "2020-11-04T00:11:27.486354Z"
    },
    "papermill": {
     "duration": 0.219897,
     "end_time": "2020-11-04T00:11:27.486553",
     "exception": false,
     "start_time": "2020-11-04T00:11:27.266656",
     "status": "completed"
    },
    "tags": []
   },
   "outputs": [
    {
     "name": "stdout",
     "output_type": "stream",
     "text": [
      "2\n"
     ]
    },
    {
     "data": {
      "text/plain": [
       "<matplotlib.image.AxesImage at 0x7fbb1884b438>"
      ]
     },
     "execution_count": 8,
     "metadata": {},
     "output_type": "execute_result"
    },
    {
     "data": {
      "image/png": "[encoded data removed]",
      "text/plain": [
       "<Figure size 432x288 with 1 Axes>"
      ]
     },
     "metadata": {
      "needs_background": "light"
     },
     "output_type": "display_data"
    }
   ],
   "source": [
    "image_index = 7776 # You may select anything up to 60,000\n",
    "print(train_labels[image_index]) \n",
    "plt.imshow(train_images[image_index], cmap='Greys')"
   ]
  },
  {
   "cell_type": "markdown",
   "metadata": {
    "papermill": {
     "duration": 0.031114,
     "end_time": "2020-11-04T00:11:27.558845",
     "exception": false,
     "start_time": "2020-11-04T00:11:27.527731",
     "status": "completed"
    },
    "tags": []
   },
   "source": [
    "## Filter data to get 3 and 8 out"
   ]
  },
  {
   "cell_type": "code",
   "execution_count": 9,
   "metadata": {
    "execution": {
     "iopub.execute_input": "2020-11-04T00:11:27.639655Z",
     "iopub.status.busy": "2020-11-04T00:11:27.638669Z",
     "iopub.status.idle": "2020-11-04T00:11:27.657990Z",
     "shell.execute_reply": "2020-11-04T00:11:27.657357Z"
    },
    "papermill": {
     "duration": 0.06178,
     "end_time": "2020-11-04T00:11:27.658378",
     "exception": false,
     "start_time": "2020-11-04T00:11:27.596598",
     "status": "completed"
    },
    "tags": []
   },
   "outputs": [],
   "source": [
    "train_filter = np.where((train_labels == 3 ) | (train_labels == 8))\n",
    "test_filter = np.where((test_labels == 3) | (test_labels == 8))\n",
    "X_train, y_train = train_images[train_filter], train_labels[train_filter]\n",
    "X_test, y_test = test_images[test_filter], test_labels[test_filter]"
   ]
  },
  {
   "cell_type": "markdown",
   "metadata": {
    "papermill": {
     "duration": 0.031725,
     "end_time": "2020-11-04T00:11:27.723771",
     "exception": false,
     "start_time": "2020-11-04T00:11:27.692046",
     "status": "completed"
    },
    "tags": []
   },
   "source": [
    "We normalize the pixel values in the 0 to 1 range"
   ]
  },
  {
   "cell_type": "code",
   "execution_count": 10,
   "metadata": {
    "execution": {
     "iopub.execute_input": "2020-11-04T00:11:27.792047Z",
     "iopub.status.busy": "2020-11-04T00:11:27.791454Z",
     "iopub.status.idle": "2020-11-04T00:11:27.855304Z",
     "shell.execute_reply": "2020-11-04T00:11:27.854761Z"
    },
    "papermill": {
     "duration": 0.099289,
     "end_time": "2020-11-04T00:11:27.855451",
     "exception": false,
     "start_time": "2020-11-04T00:11:27.756162",
     "status": "completed"
    },
    "tags": []
   },
   "outputs": [],
   "source": [
    "X_train = X_train/255.\n",
    "X_test = X_test/255."
   ]
  },
  {
   "cell_type": "markdown",
   "metadata": {
    "papermill": {
     "duration": 0.035598,
     "end_time": "2020-11-04T00:11:27.924800",
     "exception": false,
     "start_time": "2020-11-04T00:11:27.889202",
     "status": "completed"
    },
    "tags": []
   },
   "source": [
    "Setup the labels as 1 (when the digit is 3) and 0 (when the digit is 8)"
   ]
  },
  {
   "cell_type": "code",
   "execution_count": 11,
   "metadata": {
    "execution": {
     "iopub.execute_input": "2020-11-04T00:11:27.999409Z",
     "iopub.status.busy": "2020-11-04T00:11:27.998745Z",
     "iopub.status.idle": "2020-11-04T00:11:28.010603Z",
     "shell.execute_reply": "2020-11-04T00:11:28.011299Z"
    },
    "papermill": {
     "duration": 0.053343,
     "end_time": "2020-11-04T00:11:28.011528",
     "exception": false,
     "start_time": "2020-11-04T00:11:27.958185",
     "status": "completed"
    },
    "tags": []
   },
   "outputs": [],
   "source": [
    "y_train = 1*(y_train==3)\n",
    "y_test = 1*(y_test==3)"
   ]
  },
  {
   "cell_type": "code",
   "execution_count": 12,
   "metadata": {
    "execution": {
     "iopub.execute_input": "2020-11-04T00:11:28.082293Z",
     "iopub.status.busy": "2020-11-04T00:11:28.081506Z",
     "iopub.status.idle": "2020-11-04T00:11:28.097547Z",
     "shell.execute_reply": "2020-11-04T00:11:28.097001Z"
    },
    "papermill": {
     "duration": 0.052276,
     "end_time": "2020-11-04T00:11:28.097680",
     "exception": false,
     "start_time": "2020-11-04T00:11:28.045404",
     "status": "completed"
    },
    "tags": []
   },
   "outputs": [
    {
     "data": {
      "text/plain": [
       "((11982, 28, 28), (1984, 28, 28))"
      ]
     },
     "execution_count": 12,
     "metadata": {},
     "output_type": "execute_result"
    }
   ],
   "source": [
    "X_train.shape, X_test.shape"
   ]
  },
  {
   "cell_type": "markdown",
   "metadata": {
    "papermill": {
     "duration": 0.033143,
     "end_time": "2020-11-04T00:11:28.163556",
     "exception": false,
     "start_time": "2020-11-04T00:11:28.130413",
     "status": "completed"
    },
    "tags": []
   },
   "source": [
    "### Reshape the input data to create a linear array"
   ]
  },
  {
   "cell_type": "code",
   "execution_count": 13,
   "metadata": {
    "execution": {
     "iopub.execute_input": "2020-11-04T00:11:28.234610Z",
     "iopub.status.busy": "2020-11-04T00:11:28.233947Z",
     "iopub.status.idle": "2020-11-04T00:11:28.247794Z",
     "shell.execute_reply": "2020-11-04T00:11:28.247293Z"
    },
    "papermill": {
     "duration": 0.051644,
     "end_time": "2020-11-04T00:11:28.247924",
     "exception": false,
     "start_time": "2020-11-04T00:11:28.196280",
     "status": "completed"
    },
    "tags": []
   },
   "outputs": [
    {
     "data": {
      "text/plain": [
       "((11982, 784), (1984, 784))"
      ]
     },
     "execution_count": 13,
     "metadata": {},
     "output_type": "execute_result"
    }
   ],
   "source": [
    "X_train = X_train.reshape(X_train.shape[0], -1)\n",
    "X_test = X_test.reshape(X_test.shape[0], -1)\n",
    "X_train.shape, X_test.shape"
   ]
  },
  {
   "cell_type": "markdown",
   "metadata": {
    "papermill": {
     "duration": 0.0316,
     "end_time": "2020-11-04T00:11:28.312643",
     "exception": false,
     "start_time": "2020-11-04T00:11:28.281043",
     "status": "completed"
    },
    "tags": []
   },
   "source": [
    "### Importing appropriate functions from 'Kudzu'"
   ]
  },
  {
   "cell_type": "code",
   "execution_count": 14,
   "metadata": {
    "execution": {
     "iopub.execute_input": "2020-11-04T00:11:28.385810Z",
     "iopub.status.busy": "2020-11-04T00:11:28.385117Z",
     "iopub.status.idle": "2020-11-04T00:11:28.407634Z",
     "shell.execute_reply": "2020-11-04T00:11:28.407045Z"
    },
    "papermill": {
     "duration": 0.061826,
     "end_time": "2020-11-04T00:11:28.407802",
     "exception": false,
     "start_time": "2020-11-04T00:11:28.345976",
     "status": "completed"
    },
    "tags": []
   },
   "outputs": [],
   "source": [
    "from kudzu.layer import Sigmoid\n",
    "from kudzu.layer import Relu\n",
    "from kudzu.layer import Affine, Sigmoid\n",
    "\n",
    "from kudzu.model import Model\n",
    "from kudzu.train import Learner\n",
    "from kudzu.optim import GD\n",
    "from kudzu.data import Data, Dataloader, Sampler\n",
    "\n",
    "from kudzu.callbacks import AccCallback\n",
    "from kudzu.callbacks import ClfCallback\n",
    "\n",
    "from kudzu.loss import MSE"
   ]
  },
  {
   "cell_type": "markdown",
   "metadata": {
    "papermill": {
     "duration": 0.03533,
     "end_time": "2020-11-04T00:11:28.476849",
     "exception": false,
     "start_time": "2020-11-04T00:11:28.441519",
     "status": "completed"
    },
    "tags": []
   },
   "source": [
    "### Let us create a `Config` class, to store important parameters. \n",
    "This class essentially plays the role of a dictionary."
   ]
  },
  {
   "cell_type": "code",
   "execution_count": 15,
   "metadata": {
    "execution": {
     "iopub.execute_input": "2020-11-04T00:11:28.555387Z",
     "iopub.status.busy": "2020-11-04T00:11:28.554655Z",
     "iopub.status.idle": "2020-11-04T00:11:28.565752Z",
     "shell.execute_reply": "2020-11-04T00:11:28.565230Z"
    },
    "papermill": {
     "duration": 0.052976,
     "end_time": "2020-11-04T00:11:28.565890",
     "exception": false,
     "start_time": "2020-11-04T00:11:28.512914",
     "status": "completed"
    },
    "tags": []
   },
   "outputs": [],
   "source": [
    "class Config:\n",
    "    pass\n",
    "config = Config()\n",
    "config.lr = 0.001\n",
    "config.num_epochs = 251\n",
    "config.bs = 50"
   ]
  },
  {
   "cell_type": "markdown",
   "metadata": {
    "papermill": {
     "duration": 0.033745,
     "end_time": "2020-11-04T00:11:28.632115",
     "exception": false,
     "start_time": "2020-11-04T00:11:28.598370",
     "status": "completed"
    },
    "tags": []
   },
   "source": [
    "### Initializing data to the variables"
   ]
  },
  {
   "cell_type": "code",
   "execution_count": 16,
   "metadata": {
    "execution": {
     "iopub.execute_input": "2020-11-04T00:11:28.699697Z",
     "iopub.status.busy": "2020-11-04T00:11:28.699106Z",
     "iopub.status.idle": "2020-11-04T00:11:28.714282Z",
     "shell.execute_reply": "2020-11-04T00:11:28.713677Z"
    },
    "papermill": {
     "duration": 0.050825,
     "end_time": "2020-11-04T00:11:28.714525",
     "exception": false,
     "start_time": "2020-11-04T00:11:28.663700",
     "status": "completed"
    },
    "tags": []
   },
   "outputs": [],
   "source": [
    "data = Data(X_train, y_train.reshape(-1,1))\n",
    "sampler = Sampler(data, config.bs, shuffle=True)\n",
    "\n",
    "dl = Dataloader(data, sampler)\n",
    "\n",
    "opt = GD(config.lr)\n",
    "loss = MSE()"
   ]
  },
  {
   "cell_type": "code",
   "execution_count": 17,
   "metadata": {
    "execution": {
     "iopub.execute_input": "2020-11-04T00:11:28.789729Z",
     "iopub.status.busy": "2020-11-04T00:11:28.789108Z",
     "iopub.status.idle": "2020-11-04T00:11:28.801755Z",
     "shell.execute_reply": "2020-11-04T00:11:28.802442Z"
    },
    "papermill": {
     "duration": 0.054356,
     "end_time": "2020-11-04T00:11:28.802585",
     "exception": false,
     "start_time": "2020-11-04T00:11:28.748229",
     "status": "completed"
    },
    "tags": []
   },
   "outputs": [],
   "source": [
    "training_xdata = X_train\n",
    "testing_xdata = X_test\n",
    "training_ydata = y_train.reshape(-1,1)\n",
    "testing_ydata = y_test.reshape(-1,1)"
   ]
  },
  {
   "cell_type": "markdown",
   "metadata": {
    "papermill": {
     "duration": 0.033168,
     "end_time": "2020-11-04T00:11:28.869038",
     "exception": false,
     "start_time": "2020-11-04T00:11:28.835870",
     "status": "completed"
    },
    "tags": []
   },
   "source": [
    "### Running Models with the Training data\n",
    "Details about the network layers:\n",
    "- A first affine layer has 784 inputs and does 100 affine transforms. These are followed by a Relu\n",
    "- A second affine layer has 100 inputs from the 100 activations of the past layer, and does 100 affine transforms. These are followed by a Relu\n",
    "- A third affine layer has 100 activations and does 2 affine transformations to create an embedding for visualization. There is no non-linearity here.\n",
    "- A final \"logistic regression\" which has an affine transform from 2 inputs to 1 output, which is squeezed through a sigmoid.\n",
    "\n",
    "Help taken from Anshuman's Notebook."
   ]
  },
  {
   "cell_type": "code",
   "execution_count": 18,
   "metadata": {
    "execution": {
     "iopub.execute_input": "2020-11-04T00:11:28.945702Z",
     "iopub.status.busy": "2020-11-04T00:11:28.945058Z",
     "iopub.status.idle": "2020-11-04T00:11:28.969034Z",
     "shell.execute_reply": "2020-11-04T00:11:28.968391Z"
    },
    "papermill": {
     "duration": 0.063905,
     "end_time": "2020-11-04T00:11:28.969185",
     "exception": false,
     "start_time": "2020-11-04T00:11:28.905280",
     "status": "completed"
    },
    "tags": []
   },
   "outputs": [],
   "source": [
    "# layers for the Neural Network\n",
    "layers = [Affine(\"first\", 784, 100), Relu(\"first\"), Affine(\"second\", 100, 100), Relu(\"second\"), Affine(\"third\", 100, 2), Affine(\"final\", 2, 1), Sigmoid(\"final\")]\n",
    "model_nn = Model(layers)\n",
    "\n",
    "# layers for the Logistic Regression\n",
    "layers_lr = [Affine(\"logits\", 784, 1), Sigmoid(\"sigmoid\")]\n",
    "model_lr = Model(layers_lr)"
   ]
  },
  {
   "cell_type": "code",
   "execution_count": 19,
   "metadata": {
    "execution": {
     "iopub.execute_input": "2020-11-04T00:11:29.042775Z",
     "iopub.status.busy": "2020-11-04T00:11:29.042017Z",
     "iopub.status.idle": "2020-11-04T00:11:29.056106Z",
     "shell.execute_reply": "2020-11-04T00:11:29.056781Z"
    },
    "papermill": {
     "duration": 0.052067,
     "end_time": "2020-11-04T00:11:29.056988",
     "exception": false,
     "start_time": "2020-11-04T00:11:29.004921",
     "status": "completed"
    },
    "tags": []
   },
   "outputs": [],
   "source": [
    "# suffix _nn stands for Neural Network.\n",
    "learner_nn = Learner(loss, model_nn, opt, config.num_epochs)\n",
    "acc_nn = ClfCallback(learner_nn, config.bs, training_xdata , testing_xdata, training_ydata, testing_ydata)\n",
    "learner_nn.set_callbacks([acc_nn])"
   ]
  },
  {
   "cell_type": "code",
   "execution_count": 20,
   "metadata": {
    "execution": {
     "iopub.execute_input": "2020-11-04T00:11:29.131456Z",
     "iopub.status.busy": "2020-11-04T00:11:29.130684Z",
     "iopub.status.idle": "2020-11-04T00:13:52.371239Z",
     "shell.execute_reply": "2020-11-04T00:13:52.371946Z"
    },
    "papermill": {
     "duration": 143.282702,
     "end_time": "2020-11-04T00:13:52.372118",
     "exception": false,
     "start_time": "2020-11-04T00:11:29.089416",
     "status": "completed"
    },
    "tags": []
   },
   "outputs": [
    {
     "name": "stdout",
     "output_type": "stream",
     "text": [
      "====== Neural Network ======\n"
     ]
    },
    {
     "name": "stdout",
     "output_type": "stream",
     "text": [
      "Epoch 0, Loss 0.1832\n",
      "Training Accuracy: 0.8497, Testing Accuracy: 0.8624\n",
      "\n"
     ]
    },
    {
     "name": "stdout",
     "output_type": "stream",
     "text": [
      "Epoch 10, Loss 0.0488\n",
      "Training Accuracy: 0.9481, Testing Accuracy: 0.9556\n",
      "\n"
     ]
    },
    {
     "name": "stdout",
     "output_type": "stream",
     "text": [
      "Epoch 20, Loss 0.0364\n",
      "Training Accuracy: 0.9597, Testing Accuracy: 0.9647\n",
      "\n"
     ]
    },
    {
     "name": "stdout",
     "output_type": "stream",
     "text": [
      "Epoch 30, Loss 0.0312\n",
      "Training Accuracy: 0.9656, Testing Accuracy: 0.9667\n",
      "\n"
     ]
    },
    {
     "name": "stdout",
     "output_type": "stream",
     "text": [
      "Epoch 40, Loss 0.0282\n",
      "Training Accuracy: 0.9685, Testing Accuracy: 0.9703\n",
      "\n"
     ]
    },
    {
     "name": "stdout",
     "output_type": "stream",
     "text": [
      "Epoch 50, Loss 0.0261\n",
      "Training Accuracy: 0.9705, Testing Accuracy: 0.9708\n",
      "\n"
     ]
    },
    {
     "name": "stdout",
     "output_type": "stream",
     "text": [
      "Epoch 60, Loss 0.0245\n",
      "Training Accuracy: 0.9720, Testing Accuracy: 0.9728\n",
      "\n"
     ]
    },
    {
     "name": "stdout",
     "output_type": "stream",
     "text": [
      "Epoch 70, Loss 0.0232\n",
      "Training Accuracy: 0.9735, Testing Accuracy: 0.9723\n",
      "\n"
     ]
    },
    {
     "name": "stdout",
     "output_type": "stream",
     "text": [
      "Epoch 80, Loss 0.0221\n",
      "Training Accuracy: 0.9750, Testing Accuracy: 0.9733\n",
      "\n"
     ]
    },
    {
     "name": "stdout",
     "output_type": "stream",
     "text": [
      "Epoch 90, Loss 0.0212\n",
      "Training Accuracy: 0.9756, Testing Accuracy: 0.9748\n",
      "\n"
     ]
    },
    {
     "name": "stdout",
     "output_type": "stream",
     "text": [
      "Epoch 100, Loss 0.0204\n",
      "Training Accuracy: 0.9766, Testing Accuracy: 0.9753\n",
      "\n"
     ]
    },
    {
     "name": "stdout",
     "output_type": "stream",
     "text": [
      "Epoch 110, Loss 0.0196\n",
      "Training Accuracy: 0.9775, Testing Accuracy: 0.9763\n",
      "\n"
     ]
    },
    {
     "name": "stdout",
     "output_type": "stream",
     "text": [
      "Epoch 120, Loss 0.0189\n",
      "Training Accuracy: 0.9791, Testing Accuracy: 0.9768\n",
      "\n"
     ]
    },
    {
     "name": "stdout",
     "output_type": "stream",
     "text": [
      "Epoch 130, Loss 0.0183\n",
      "Training Accuracy: 0.9799, Testing Accuracy: 0.9773\n",
      "\n"
     ]
    },
    {
     "name": "stdout",
     "output_type": "stream",
     "text": [
      "Epoch 140, Loss 0.0177\n",
      "Training Accuracy: 0.9810, Testing Accuracy: 0.9773\n",
      "\n"
     ]
    },
    {
     "name": "stdout",
     "output_type": "stream",
     "text": [
      "Epoch 150, Loss 0.0171\n",
      "Training Accuracy: 0.9820, Testing Accuracy: 0.9778\n",
      "\n"
     ]
    },
    {
     "name": "stdout",
     "output_type": "stream",
     "text": [
      "Epoch 160, Loss 0.0166\n",
      "Training Accuracy: 0.9828, Testing Accuracy: 0.9783\n",
      "\n"
     ]
    },
    {
     "name": "stdout",
     "output_type": "stream",
     "text": [
      "Epoch 170, Loss 0.0161\n",
      "Training Accuracy: 0.9836, Testing Accuracy: 0.9783\n",
      "\n"
     ]
    },
    {
     "name": "stdout",
     "output_type": "stream",
     "text": [
      "Epoch 180, Loss 0.0156\n",
      "Training Accuracy: 0.9839, Testing Accuracy: 0.9788\n",
      "\n"
     ]
    },
    {
     "name": "stdout",
     "output_type": "stream",
     "text": [
      "Epoch 190, Loss 0.0151\n",
      "Training Accuracy: 0.9841, Testing Accuracy: 0.9793\n",
      "\n"
     ]
    },
    {
     "name": "stdout",
     "output_type": "stream",
     "text": [
      "Epoch 200, Loss 0.0147\n",
      "Training Accuracy: 0.9846, Testing Accuracy: 0.9798\n",
      "\n"
     ]
    },
    {
     "name": "stdout",
     "output_type": "stream",
     "text": [
      "Epoch 210, Loss 0.0143\n",
      "Training Accuracy: 0.9851, Testing Accuracy: 0.9788\n",
      "\n"
     ]
    },
    {
     "name": "stdout",
     "output_type": "stream",
     "text": [
      "Epoch 220, Loss 0.0139\n",
      "Training Accuracy: 0.9862, Testing Accuracy: 0.9793\n",
      "\n"
     ]
    },
    {
     "name": "stdout",
     "output_type": "stream",
     "text": [
      "Epoch 230, Loss 0.0135\n",
      "Training Accuracy: 0.9866, Testing Accuracy: 0.9798\n",
      "\n"
     ]
    },
    {
     "name": "stdout",
     "output_type": "stream",
     "text": [
      "Epoch 240, Loss 0.0132\n",
      "Training Accuracy: 0.9870, Testing Accuracy: 0.9803\n",
      "\n"
     ]
    },
    {
     "name": "stdout",
     "output_type": "stream",
     "text": [
      "Epoch 250, Loss 0.0128\n",
      "Training Accuracy: 0.9871, Testing Accuracy: 0.9803\n",
      "\n"
     ]
    },
    {
     "data": {
      "text/plain": [
       "0.015427660564622109"
      ]
     },
     "execution_count": 20,
     "metadata": {},
     "output_type": "execute_result"
    }
   ],
   "source": [
    "print(\"====== Neural Network ======\")\n",
    "learner_nn.train_loop(dl)"
   ]
  },
  {
   "cell_type": "markdown",
   "metadata": {
    "papermill": {
     "duration": 0.043831,
     "end_time": "2020-11-04T00:13:52.461082",
     "exception": false,
     "start_time": "2020-11-04T00:13:52.417251",
     "status": "completed"
    },
    "tags": []
   },
   "source": [
    "### Logistic Regression based Implementation."
   ]
  },
  {
   "cell_type": "code",
   "execution_count": 21,
   "metadata": {
    "execution": {
     "iopub.execute_input": "2020-11-04T00:13:52.557811Z",
     "iopub.status.busy": "2020-11-04T00:13:52.556620Z",
     "iopub.status.idle": "2020-11-04T00:13:52.570034Z",
     "shell.execute_reply": "2020-11-04T00:13:52.570812Z"
    },
    "papermill": {
     "duration": 0.065039,
     "end_time": "2020-11-04T00:13:52.570965",
     "exception": false,
     "start_time": "2020-11-04T00:13:52.505926",
     "status": "completed"
    },
    "tags": []
   },
   "outputs": [],
   "source": [
    "learner_lr = Learner(loss, model_lr, opt, config.num_epochs)\n",
    "acc_lr = ClfCallback(learner_lr, config.bs, training_xdata , testing_xdata, training_ydata, testing_ydata)\n",
    "learner_lr.set_callbacks([acc_lr])"
   ]
  },
  {
   "cell_type": "code",
   "execution_count": 22,
   "metadata": {
    "execution": {
     "iopub.execute_input": "2020-11-04T00:13:52.665418Z",
     "iopub.status.busy": "2020-11-04T00:13:52.664618Z",
     "iopub.status.idle": "2020-11-04T00:14:13.651573Z",
     "shell.execute_reply": "2020-11-04T00:14:13.652439Z"
    },
    "papermill": {
     "duration": 21.03626,
     "end_time": "2020-11-04T00:14:13.652705",
     "exception": false,
     "start_time": "2020-11-04T00:13:52.616445",
     "status": "completed"
    },
    "tags": []
   },
   "outputs": [
    {
     "name": "stdout",
     "output_type": "stream",
     "text": [
      "====== Logistic Regression ======\n",
      "Epoch 0, Loss 0.2271\n",
      "Training Accuracy: 0.7250, Testing Accuracy: 0.7308\n",
      "\n"
     ]
    },
    {
     "name": "stdout",
     "output_type": "stream",
     "text": [
      "Epoch 10, Loss 0.1046\n",
      "Training Accuracy: 0.9025, Testing Accuracy: 0.9143\n",
      "\n"
     ]
    },
    {
     "name": "stdout",
     "output_type": "stream",
     "text": [
      "Epoch 20, Loss 0.0804\n",
      "Training Accuracy: 0.9232, Testing Accuracy: 0.9400\n",
      "\n"
     ]
    },
    {
     "name": "stdout",
     "output_type": "stream",
     "text": [
      "Epoch 30, Loss 0.0691\n",
      "Training Accuracy: 0.9335, Testing Accuracy: 0.9471\n",
      "\n"
     ]
    },
    {
     "name": "stdout",
     "output_type": "stream",
     "text": [
      "Epoch 40, Loss 0.0623\n",
      "Training Accuracy: 0.9393, Testing Accuracy: 0.9506\n",
      "\n"
     ]
    },
    {
     "name": "stdout",
     "output_type": "stream",
     "text": [
      "Epoch 50, Loss 0.0576\n",
      "Training Accuracy: 0.9437, Testing Accuracy: 0.9541\n",
      "\n"
     ]
    },
    {
     "name": "stdout",
     "output_type": "stream",
     "text": [
      "Epoch 60, Loss 0.0542\n",
      "Training Accuracy: 0.9460, Testing Accuracy: 0.9551\n",
      "\n"
     ]
    },
    {
     "name": "stdout",
     "output_type": "stream",
     "text": [
      "Epoch 70, Loss 0.0516\n",
      "Training Accuracy: 0.9476, Testing Accuracy: 0.9561\n",
      "\n"
     ]
    },
    {
     "name": "stdout",
     "output_type": "stream",
     "text": [
      "Epoch 80, Loss 0.0495\n",
      "Training Accuracy: 0.9500, Testing Accuracy: 0.9572\n",
      "\n"
     ]
    },
    {
     "name": "stdout",
     "output_type": "stream",
     "text": [
      "Epoch 90, Loss 0.0478\n",
      "Training Accuracy: 0.9516, Testing Accuracy: 0.9582\n",
      "\n"
     ]
    },
    {
     "name": "stdout",
     "output_type": "stream",
     "text": [
      "Epoch 100, Loss 0.0463\n",
      "Training Accuracy: 0.9537, Testing Accuracy: 0.9597\n",
      "\n"
     ]
    },
    {
     "name": "stdout",
     "output_type": "stream",
     "text": [
      "Epoch 110, Loss 0.0451\n",
      "Training Accuracy: 0.9545, Testing Accuracy: 0.9607\n",
      "\n"
     ]
    },
    {
     "name": "stdout",
     "output_type": "stream",
     "text": [
      "Epoch 120, Loss 0.044\n",
      "Training Accuracy: 0.9554, Testing Accuracy: 0.9612\n",
      "\n"
     ]
    },
    {
     "name": "stdout",
     "output_type": "stream",
     "text": [
      "Epoch 130, Loss 0.043\n",
      "Training Accuracy: 0.9561, Testing Accuracy: 0.9627\n",
      "\n"
     ]
    },
    {
     "name": "stdout",
     "output_type": "stream",
     "text": [
      "Epoch 140, Loss 0.0422\n",
      "Training Accuracy: 0.9568, Testing Accuracy: 0.9632\n",
      "\n"
     ]
    },
    {
     "name": "stdout",
     "output_type": "stream",
     "text": [
      "Epoch 150, Loss 0.0414\n",
      "Training Accuracy: 0.9573, Testing Accuracy: 0.9632\n",
      "\n"
     ]
    },
    {
     "name": "stdout",
     "output_type": "stream",
     "text": [
      "Epoch 160, Loss 0.0407\n",
      "Training Accuracy: 0.9577, Testing Accuracy: 0.9657\n",
      "\n"
     ]
    },
    {
     "name": "stdout",
     "output_type": "stream",
     "text": [
      "Epoch 170, Loss 0.0401\n",
      "Training Accuracy: 0.9581, Testing Accuracy: 0.9662\n",
      "\n"
     ]
    },
    {
     "name": "stdout",
     "output_type": "stream",
     "text": [
      "Epoch 180, Loss 0.0395\n",
      "Training Accuracy: 0.9584, Testing Accuracy: 0.9662\n",
      "\n"
     ]
    },
    {
     "name": "stdout",
     "output_type": "stream",
     "text": [
      "Epoch 190, Loss 0.039\n",
      "Training Accuracy: 0.9589, Testing Accuracy: 0.9672\n",
      "\n"
     ]
    },
    {
     "name": "stdout",
     "output_type": "stream",
     "text": [
      "Epoch 200, Loss 0.0385\n",
      "Training Accuracy: 0.9592, Testing Accuracy: 0.9672\n",
      "\n"
     ]
    },
    {
     "name": "stdout",
     "output_type": "stream",
     "text": [
      "Epoch 210, Loss 0.0381\n",
      "Training Accuracy: 0.9594, Testing Accuracy: 0.9677\n",
      "\n"
     ]
    },
    {
     "name": "stdout",
     "output_type": "stream",
     "text": [
      "Epoch 220, Loss 0.0376\n",
      "Training Accuracy: 0.9599, Testing Accuracy: 0.9677\n",
      "\n"
     ]
    },
    {
     "name": "stdout",
     "output_type": "stream",
     "text": [
      "Epoch 230, Loss 0.0373\n",
      "Training Accuracy: 0.9604, Testing Accuracy: 0.9677\n",
      "\n"
     ]
    },
    {
     "name": "stdout",
     "output_type": "stream",
     "text": [
      "Epoch 240, Loss 0.0369\n",
      "Training Accuracy: 0.9609, Testing Accuracy: 0.9677\n",
      "\n"
     ]
    },
    {
     "name": "stdout",
     "output_type": "stream",
     "text": [
      "Epoch 250, Loss 0.0365\n",
      "Training Accuracy: 0.9611, Testing Accuracy: 0.9677\n",
      "\n"
     ]
    },
    {
     "data": {
      "text/plain": [
       "0.022972530904488715"
      ]
     },
     "execution_count": 22,
     "metadata": {},
     "output_type": "execute_result"
    }
   ],
   "source": [
    "print(\"====== Logistic Regression ======\")\n",
    "learner_lr.train_loop(dl)"
   ]
  },
  {
   "cell_type": "markdown",
   "metadata": {
    "papermill": {
     "duration": 0.049868,
     "end_time": "2020-11-04T00:14:13.752467",
     "exception": false,
     "start_time": "2020-11-04T00:14:13.702599",
     "status": "completed"
    },
    "tags": []
   },
   "source": [
    "### Comparing results of NN and LR"
   ]
  },
  {
   "cell_type": "code",
   "execution_count": 23,
   "metadata": {
    "execution": {
     "iopub.execute_input": "2020-11-04T00:14:13.859021Z",
     "iopub.status.busy": "2020-11-04T00:14:13.858394Z",
     "iopub.status.idle": "2020-11-04T00:14:14.141338Z",
     "shell.execute_reply": "2020-11-04T00:14:14.141958Z"
    },
    "papermill": {
     "duration": 0.3381,
     "end_time": "2020-11-04T00:14:14.142140",
     "exception": false,
     "start_time": "2020-11-04T00:14:13.804040",
     "status": "completed"
    },
    "tags": []
   },
   "outputs": [
    {
     "data": {
      "text/plain": [
       "<matplotlib.legend.Legend at 0x7fbb163b6128>"
      ]
     },
     "execution_count": 23,
     "metadata": {},
     "output_type": "execute_result"
    },
    {
     "data": {
      "image/png": "[encoded data removed]",
      "text/plain": [
       "<Figure size 1080x720 with 1 Axes>"
      ]
     },
     "metadata": {
      "needs_background": "light"
     },
     "output_type": "display_data"
    }
   ],
   "source": [
    "plt.figure(figsize=(15,10))\n",
    "\n",
    "# Neural Network plots\n",
    "plt.plot(acc_nn.accuracies, 'r-', label = \"Training Accuracies - NN\")\n",
    "plt.plot(acc_nn.test_accuracies, 'g-', label = \"Testing Accuracies - NN\")\n",
    "\n",
    "# Logistic Regression plots\n",
    "plt.plot(acc_lr.accuracies, 'k-', label = \"Training Accuracies - LR\")\n",
    "plt.plot(acc_lr.test_accuracies, 'b-', label = \"Testing Accuracies - LR\")\n",
    "\n",
    "plt.ylim(0.8, 1)\n",
    "\n",
    "plt.legend()\n",
    "\n"
   ]
  },
  {
   "cell_type": "markdown",
   "metadata": {
    "papermill": {
     "duration": 0.051309,
     "end_time": "2020-11-04T00:14:14.251907",
     "exception": false,
     "start_time": "2020-11-04T00:14:14.200598",
     "status": "completed"
    },
    "tags": []
   },
   "source": [
    "### From the plot, we can observe the following:\n",
    "- Neural Network achieves higher accuracy than the Logistic Regression model.\n",
    "- This apparently, is because of overfitting, i.e. NN captures more noise than data.\n",
    "- Testing accuracy of NN drops below the Training accuracy at higher epochs. This explains the over-fitting on training data.\n",
    "- Logistic Regression gives a reliable accuracy, without the above mentioned problem.\n"
   ]
  },
  {
   "cell_type": "markdown",
   "metadata": {
    "papermill": {
     "duration": 0.053492,
     "end_time": "2020-11-04T00:14:14.359205",
     "exception": false,
     "start_time": "2020-11-04T00:14:14.305713",
     "status": "completed"
    },
    "tags": []
   },
   "source": [
    "### Moving till the last but one layer (excluding it).\n",
    "#### Plotting the outputs of this layer of the NN."
   ]
  },
  {
   "cell_type": "code",
   "execution_count": 24,
   "metadata": {
    "execution": {
     "iopub.execute_input": "2020-11-04T00:14:14.468872Z",
     "iopub.status.busy": "2020-11-04T00:14:14.468025Z",
     "iopub.status.idle": "2020-11-04T00:14:14.483118Z",
     "shell.execute_reply": "2020-11-04T00:14:14.482524Z"
    },
    "papermill": {
     "duration": 0.072728,
     "end_time": "2020-11-04T00:14:14.483266",
     "exception": false,
     "start_time": "2020-11-04T00:14:14.410538",
     "status": "completed"
    },
    "tags": []
   },
   "outputs": [],
   "source": [
    "model_new = Model(layers[:-2])"
   ]
  },
  {
   "cell_type": "code",
   "execution_count": 25,
   "metadata": {
    "execution": {
     "iopub.execute_input": "2020-11-04T00:14:14.598216Z",
     "iopub.status.busy": "2020-11-04T00:14:14.597530Z",
     "iopub.status.idle": "2020-11-04T00:14:14.626481Z",
     "shell.execute_reply": "2020-11-04T00:14:14.627207Z"
    },
    "papermill": {
     "duration": 0.08988,
     "end_time": "2020-11-04T00:14:14.627402",
     "exception": false,
     "start_time": "2020-11-04T00:14:14.537522",
     "status": "completed"
    },
    "tags": []
   },
   "outputs": [],
   "source": [
    "plot_testing = model_new(testing_xdata)"
   ]
  },
  {
   "cell_type": "code",
   "execution_count": 26,
   "metadata": {
    "execution": {
     "iopub.execute_input": "2020-11-04T00:14:14.744712Z",
     "iopub.status.busy": "2020-11-04T00:14:14.743988Z",
     "iopub.status.idle": "2020-11-04T00:14:14.994590Z",
     "shell.execute_reply": "2020-11-04T00:14:14.995043Z"
    },
    "papermill": {
     "duration": 0.313264,
     "end_time": "2020-11-04T00:14:14.995200",
     "exception": false,
     "start_time": "2020-11-04T00:14:14.681936",
     "status": "completed"
    },
    "tags": []
   },
   "outputs": [
    {
     "data": {
      "text/plain": [
       "Text(0.5, 1.0, 'Outputs')"
      ]
     },
     "execution_count": 26,
     "metadata": {},
     "output_type": "execute_result"
    },
    {
     "data": {
      "image/png": "[encoded data removed]",
      "text/plain": [
       "<Figure size 576x504 with 1 Axes>"
      ]
     },
     "metadata": {
      "needs_background": "light"
     },
     "output_type": "display_data"
    }
   ],
   "source": [
    "plt.figure(figsize=(8,7))\n",
    "plt.scatter(plot_testing[:,0], plot_testing[:,1], alpha = 0.1, c = y_test.ravel());\n",
    "plt.title('Outputs')"
   ]
  },
  {
   "cell_type": "markdown",
   "metadata": {
    "papermill": {
     "duration": 0.05729,
     "end_time": "2020-11-04T00:14:15.111181",
     "exception": false,
     "start_time": "2020-11-04T00:14:15.053891",
     "status": "completed"
    },
    "tags": []
   },
   "source": [
    "### Plotting probability contours"
   ]
  },
  {
   "cell_type": "code",
   "execution_count": 27,
   "metadata": {
    "execution": {
     "iopub.execute_input": "2020-11-04T00:14:15.227733Z",
     "iopub.status.busy": "2020-11-04T00:14:15.226892Z",
     "iopub.status.idle": "2020-11-04T00:14:15.239850Z",
     "shell.execute_reply": "2020-11-04T00:14:15.239285Z"
    },
    "papermill": {
     "duration": 0.071065,
     "end_time": "2020-11-04T00:14:15.240052",
     "exception": false,
     "start_time": "2020-11-04T00:14:15.168987",
     "status": "completed"
    },
    "tags": []
   },
   "outputs": [],
   "source": [
    "model_prob = Model(layers[-2:]) "
   ]
  },
  {
   "cell_type": "code",
   "execution_count": 28,
   "metadata": {
    "execution": {
     "iopub.execute_input": "2020-11-04T00:14:15.360114Z",
     "iopub.status.busy": "2020-11-04T00:14:15.359482Z",
     "iopub.status.idle": "2020-11-04T00:14:15.371164Z",
     "shell.execute_reply": "2020-11-04T00:14:15.371701Z"
    },
    "papermill": {
     "duration": 0.077329,
     "end_time": "2020-11-04T00:14:15.371846",
     "exception": false,
     "start_time": "2020-11-04T00:14:15.294517",
     "status": "completed"
    },
    "tags": []
   },
   "outputs": [],
   "source": [
    "# Adjust the x and y ranges according to the above generated plot.\n",
    "x_range = np.linspace(-4, 1, 100) \n",
    "y_range = np.linspace(-6, 6, 100) \n",
    "x_grid, y_grid = np.meshgrid(x_range, y_range) # x_grid and y_grig are of size 100 X 100\n",
    "\n",
    "# converting x_grid and y_grid to continuous arrays\n",
    "x_grid_flat = np.ravel(x_grid)\n",
    "y_grid_flat = np.ravel(y_grid)\n",
    "\n",
    "# The last layer of the current model takes two columns as input. Hence transpose of np.vstack() is required.\n",
    "X = np.vstack((x_grid_flat, y_grid_flat)).T\n",
    "\n",
    "# x_grid and y_grid are of size 100 x 100\n",
    "probability_contour = model_prob(X).reshape(100,100) "
   ]
  },
  {
   "cell_type": "code",
   "execution_count": 29,
   "metadata": {
    "execution": {
     "iopub.execute_input": "2020-11-04T00:14:15.487646Z",
     "iopub.status.busy": "2020-11-04T00:14:15.486961Z",
     "iopub.status.idle": "2020-11-04T00:14:15.784890Z",
     "shell.execute_reply": "2020-11-04T00:14:15.784203Z"
    },
    "papermill": {
     "duration": 0.36036,
     "end_time": "2020-11-04T00:14:15.785082",
     "exception": false,
     "start_time": "2020-11-04T00:14:15.424722",
     "status": "completed"
    },
    "tags": []
   },
   "outputs": [
    {
     "data": {
      "image/png": "[encoded data removed]",
      "text/plain": [
       "<Figure size 720x648 with 1 Axes>"
      ]
     },
     "metadata": {
      "needs_background": "light"
     },
     "output_type": "display_data"
    }
   ],
   "source": [
    "plt.figure(figsize=(10,9))\n",
    "plt.scatter(plot_testing[:,0], plot_testing[:,1], alpha = 0.1, c = y_test.ravel())\n",
    "contours = plt.contour(x_grid,y_grid,probability_contour)\n",
    "plt.title('Probability Contours')\n",
    "plt.clabel(contours, inline = True );"
   ]
  }
 ],
 "metadata": {
  "kernelspec": {
   "display_name": "Python 3",
   "language": "python",
   "name": "python3"
  },
  "language_info": {
   "codemirror_mode": {
    "name": "ipython",
    "version": 3
   },
   "file_extension": ".py",
   "mimetype": "text/x-python",
   "name": "python",
   "nbconvert_exporter": "python",
   "pygments_lexer": "ipython3",
   "version": "3.6.12"
  },
  "papermill": {
   "duration": 174.711574,
   "end_time": "2020-11-04T00:14:16.274427",
   "environment_variables": {},
   "exception": null,
   "input_path": "2020-08-11-NeuralNetwork.ipynb",
   "output_path": "2020-08-11-NeuralNetwork.ipynb",
   "parameters": {},
   "start_time": "2020-11-04T00:11:21.562853",
   "version": "2.1.2"
  }
 },
 "nbformat": 4,
 "nbformat_minor": 4
}