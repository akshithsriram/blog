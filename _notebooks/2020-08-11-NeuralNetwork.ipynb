{
 "cells": [
  {
   "cell_type": "markdown",
   "metadata": {
    "papermill": {
     "duration": 0.033144,
     "end_time": "2020-12-27T00:14:19.191097",
     "exception": false,
     "start_time": "2020-12-27T00:14:19.157953",
     "status": "completed"
    },
    "tags": []
   },
   "source": [
    "# \"A Basic Neural Network: Differentiate Hand-Written Digits\"\n",
    "\n",
    "- badges: true\n",
    "- author: Akshith Sriram"
   ]
  },
  {
   "cell_type": "markdown",
   "metadata": {
    "papermill": {
     "duration": 0.029229,
     "end_time": "2020-12-27T00:14:19.249470",
     "exception": false,
     "start_time": "2020-12-27T00:14:19.220241",
     "status": "completed"
    },
    "tags": []
   },
   "source": [
    "### Key Objectives:\n",
    "- Building a neural network that differentiates two hand-written digits 3 and 8.\n",
    "- Comparing the results of this Neural Network (NN) to that of a Logistic Regression (LR) model.\n",
    "\n",
    "### Requirements:\n",
    "- 'Kudzu' : A neural network library that was designed during our course by [Univ.AI](www.univ.ai). \n",
    "- MNIST Database\n",
    "\n",
    "If MNIST is not installed, use the command `!pip install mnist` given below.\n",
    "It can be run both from the command line and Jupyter Notebook."
   ]
  },
  {
   "cell_type": "code",
   "execution_count": 1,
   "metadata": {
    "execution": {
     "iopub.execute_input": "2020-12-27T00:14:19.317662Z",
     "iopub.status.busy": "2020-12-27T00:14:19.316767Z",
     "iopub.status.idle": "2020-12-27T00:14:20.996257Z",
     "shell.execute_reply": "2020-12-27T00:14:20.995296Z"
    },
    "papermill": {
     "duration": 1.718495,
     "end_time": "2020-12-27T00:14:20.996484",
     "exception": false,
     "start_time": "2020-12-27T00:14:19.277989",
     "status": "completed"
    },
    "tags": []
   },
   "outputs": [
    {
     "name": "stdout",
     "output_type": "stream",
     "text": [
      "Collecting mnist\r\n"
     ]
    },
    {
     "name": "stdout",
     "output_type": "stream",
     "text": [
      "  Downloading mnist-0.2.2-py2.py3-none-any.whl (3.5 kB)\r\n",
      "Requirement already satisfied: numpy in /opt/hostedtoolcache/Python/3.6.12/x64/lib/python3.6/site-packages (from mnist) (1.19.4)\r\n"
     ]
    },
    {
     "name": "stdout",
     "output_type": "stream",
     "text": [
      "Installing collected packages: mnist\r\n"
     ]
    },
    {
     "name": "stdout",
     "output_type": "stream",
     "text": [
      "Successfully installed mnist-0.2.2\r\n"
     ]
    },
    {
     "name": "stdout",
     "output_type": "stream",
     "text": [
      "\u001b[33mWARNING: You are using pip version 20.3.1; however, version 20.3.3 is available.\r\n",
      "You should consider upgrading via the '/opt/hostedtoolcache/Python/3.6.12/x64/bin/python -m pip install --upgrade pip' command.\u001b[0m\r\n"
     ]
    }
   ],
   "source": [
    "!pip install mnist "
   ]
  },
  {
   "cell_type": "markdown",
   "metadata": {
    "papermill": {
     "duration": 0.03067,
     "end_time": "2020-12-27T00:14:21.058206",
     "exception": false,
     "start_time": "2020-12-27T00:14:21.027536",
     "status": "completed"
    },
    "tags": []
   },
   "source": [
    "#### Importing necessary libraries"
   ]
  },
  {
   "cell_type": "code",
   "execution_count": 2,
   "metadata": {
    "execution": {
     "iopub.execute_input": "2020-12-27T00:14:21.127319Z",
     "iopub.status.busy": "2020-12-27T00:14:21.126653Z",
     "iopub.status.idle": "2020-12-27T00:14:21.765422Z",
     "shell.execute_reply": "2020-12-27T00:14:21.764850Z"
    },
    "papermill": {
     "duration": 0.677419,
     "end_time": "2020-12-27T00:14:21.765594",
     "exception": false,
     "start_time": "2020-12-27T00:14:21.088175",
     "status": "completed"
    },
    "tags": []
   },
   "outputs": [],
   "source": [
    "%load_ext autoreload\n",
    "%autoreload 2\n",
    "\n",
    "%matplotlib inline\n",
    "import matplotlib.pyplot as plt\n",
    "\n",
    "import numpy as np\n",
    "import pandas as pd"
   ]
  },
  {
   "cell_type": "markdown",
   "metadata": {
    "papermill": {
     "duration": 0.030882,
     "end_time": "2020-12-27T00:14:21.831079",
     "exception": false,
     "start_time": "2020-12-27T00:14:21.800197",
     "status": "completed"
    },
    "tags": []
   },
   "source": [
    "### Preparing the Data"
   ]
  },
  {
   "cell_type": "code",
   "execution_count": 3,
   "metadata": {
    "execution": {
     "iopub.execute_input": "2020-12-27T00:14:21.909778Z",
     "iopub.status.busy": "2020-12-27T00:14:21.908639Z",
     "iopub.status.idle": "2020-12-27T00:14:21.921206Z",
     "shell.execute_reply": "2020-12-27T00:14:21.921761Z"
    },
    "papermill": {
     "duration": 0.060632,
     "end_time": "2020-12-27T00:14:21.921947",
     "exception": false,
     "start_time": "2020-12-27T00:14:21.861315",
     "status": "completed"
    },
    "tags": []
   },
   "outputs": [],
   "source": [
    "import mnist"
   ]
  },
  {
   "cell_type": "code",
   "execution_count": 4,
   "metadata": {
    "execution": {
     "iopub.execute_input": "2020-12-27T00:14:21.990328Z",
     "iopub.status.busy": "2020-12-27T00:14:21.989615Z",
     "iopub.status.idle": "2020-12-27T00:14:22.797495Z",
     "shell.execute_reply": "2020-12-27T00:14:22.796758Z"
    },
    "papermill": {
     "duration": 0.844517,
     "end_time": "2020-12-27T00:14:22.797667",
     "exception": false,
     "start_time": "2020-12-27T00:14:21.953150",
     "status": "completed"
    },
    "tags": []
   },
   "outputs": [],
   "source": [
    "train_images = mnist.train_images()\n",
    "train_labels = mnist.train_labels()"
   ]
  },
  {
   "cell_type": "code",
   "execution_count": 5,
   "metadata": {
    "execution": {
     "iopub.execute_input": "2020-12-27T00:14:23.152309Z",
     "iopub.status.busy": "2020-12-27T00:14:23.151561Z",
     "iopub.status.idle": "2020-12-27T00:14:23.167191Z",
     "shell.execute_reply": "2020-12-27T00:14:23.167797Z"
    },
    "papermill": {
     "duration": 0.337443,
     "end_time": "2020-12-27T00:14:23.167983",
     "exception": false,
     "start_time": "2020-12-27T00:14:22.830540",
     "status": "completed"
    },
    "tags": []
   },
   "outputs": [
    {
     "data": {
      "text/plain": [
       "((60000, 28, 28), (60000,))"
      ]
     },
     "execution_count": 5,
     "metadata": {},
     "output_type": "execute_result"
    }
   ],
   "source": [
    "train_images.shape, train_labels.shape"
   ]
  },
  {
   "cell_type": "code",
   "execution_count": 6,
   "metadata": {
    "execution": {
     "iopub.execute_input": "2020-12-27T00:14:23.247475Z",
     "iopub.status.busy": "2020-12-27T00:14:23.246131Z",
     "iopub.status.idle": "2020-12-27T00:14:23.513788Z",
     "shell.execute_reply": "2020-12-27T00:14:23.512972Z"
    },
    "papermill": {
     "duration": 0.31283,
     "end_time": "2020-12-27T00:14:23.513954",
     "exception": false,
     "start_time": "2020-12-27T00:14:23.201124",
     "status": "completed"
    },
    "tags": []
   },
   "outputs": [],
   "source": [
    "test_images = mnist.test_images()\n",
    "test_labels = mnist.test_labels()"
   ]
  },
  {
   "cell_type": "code",
   "execution_count": 7,
   "metadata": {
    "execution": {
     "iopub.execute_input": "2020-12-27T00:14:23.582122Z",
     "iopub.status.busy": "2020-12-27T00:14:23.581389Z",
     "iopub.status.idle": "2020-12-27T00:14:23.596607Z",
     "shell.execute_reply": "2020-12-27T00:14:23.596021Z"
    },
    "papermill": {
     "duration": 0.050265,
     "end_time": "2020-12-27T00:14:23.596747",
     "exception": false,
     "start_time": "2020-12-27T00:14:23.546482",
     "status": "completed"
    },
    "tags": []
   },
   "outputs": [
    {
     "data": {
      "text/plain": [
       "((10000, 28, 28), (10000,))"
      ]
     },
     "execution_count": 7,
     "metadata": {},
     "output_type": "execute_result"
    }
   ],
   "source": [
    "test_images.shape, test_labels.shape"
   ]
  },
  {
   "cell_type": "code",
   "execution_count": 8,
   "metadata": {
    "execution": {
     "iopub.execute_input": "2020-12-27T00:14:23.666687Z",
     "iopub.status.busy": "2020-12-27T00:14:23.665851Z",
     "iopub.status.idle": "2020-12-27T00:14:23.855668Z",
     "shell.execute_reply": "2020-12-27T00:14:23.854999Z"
    },
    "papermill": {
     "duration": 0.228886,
     "end_time": "2020-12-27T00:14:23.855824",
     "exception": false,
     "start_time": "2020-12-27T00:14:23.626938",
     "status": "completed"
    },
    "tags": []
   },
   "outputs": [
    {
     "name": "stdout",
     "output_type": "stream",
     "text": [
      "2\n"
     ]
    },
    {
     "data": {
      "text/plain": [
       "<matplotlib.image.AxesImage at 0x7fe33dab12b0>"
      ]
     },
     "execution_count": 8,
     "metadata": {},
     "output_type": "execute_result"
    },
    {
     "data": {
      "image/png": "[encoded data removed]",
      "text/plain": [
       "<Figure size 432x288 with 1 Axes>"
      ]
     },
     "metadata": {
      "needs_background": "light"
     },
     "output_type": "display_data"
    }
   ],
   "source": [
    "image_index = 7776 # You may select anything up to 60,000\n",
    "print(train_labels[image_index]) \n",
    "plt.imshow(train_images[image_index], cmap='Greys')"
   ]
  },
  {
   "cell_type": "markdown",
   "metadata": {
    "papermill": {
     "duration": 0.032123,
     "end_time": "2020-12-27T00:14:23.920670",
     "exception": false,
     "start_time": "2020-12-27T00:14:23.888547",
     "status": "completed"
    },
    "tags": []
   },
   "source": [
    "## Filter data to get 3 and 8 out"
   ]
  },
  {
   "cell_type": "code",
   "execution_count": 9,
   "metadata": {
    "execution": {
     "iopub.execute_input": "2020-12-27T00:14:23.991573Z",
     "iopub.status.busy": "2020-12-27T00:14:23.990860Z",
     "iopub.status.idle": "2020-12-27T00:14:24.009711Z",
     "shell.execute_reply": "2020-12-27T00:14:24.009029Z"
    },
    "papermill": {
     "duration": 0.056326,
     "end_time": "2020-12-27T00:14:24.009899",
     "exception": false,
     "start_time": "2020-12-27T00:14:23.953573",
     "status": "completed"
    },
    "tags": []
   },
   "outputs": [],
   "source": [
    "train_filter = np.where((train_labels == 3 ) | (train_labels == 8))\n",
    "test_filter = np.where((test_labels == 3) | (test_labels == 8))\n",
    "X_train, y_train = train_images[train_filter], train_labels[train_filter]\n",
    "X_test, y_test = test_images[test_filter], test_labels[test_filter]"
   ]
  },
  {
   "cell_type": "markdown",
   "metadata": {
    "papermill": {
     "duration": 0.032241,
     "end_time": "2020-12-27T00:14:24.075289",
     "exception": false,
     "start_time": "2020-12-27T00:14:24.043048",
     "status": "completed"
    },
    "tags": []
   },
   "source": [
    "We normalize the pixel values in the 0 to 1 range"
   ]
  },
  {
   "cell_type": "code",
   "execution_count": 10,
   "metadata": {
    "execution": {
     "iopub.execute_input": "2020-12-27T00:14:24.153529Z",
     "iopub.status.busy": "2020-12-27T00:14:24.144827Z",
     "iopub.status.idle": "2020-12-27T00:14:24.218715Z",
     "shell.execute_reply": "2020-12-27T00:14:24.217486Z"
    },
    "papermill": {
     "duration": 0.110864,
     "end_time": "2020-12-27T00:14:24.218870",
     "exception": false,
     "start_time": "2020-12-27T00:14:24.108006",
     "status": "completed"
    },
    "tags": []
   },
   "outputs": [],
   "source": [
    "X_train = X_train/255.\n",
    "X_test = X_test/255."
   ]
  },
  {
   "cell_type": "markdown",
   "metadata": {
    "papermill": {
     "duration": 0.034186,
     "end_time": "2020-12-27T00:14:24.294091",
     "exception": false,
     "start_time": "2020-12-27T00:14:24.259905",
     "status": "completed"
    },
    "tags": []
   },
   "source": [
    "Setup the labels as 1 (when the digit is 3) and 0 (when the digit is 8)"
   ]
  },
  {
   "cell_type": "code",
   "execution_count": 11,
   "metadata": {
    "execution": {
     "iopub.execute_input": "2020-12-27T00:14:24.365704Z",
     "iopub.status.busy": "2020-12-27T00:14:24.364747Z",
     "iopub.status.idle": "2020-12-27T00:14:24.378495Z",
     "shell.execute_reply": "2020-12-27T00:14:24.377863Z"
    },
    "papermill": {
     "duration": 0.051343,
     "end_time": "2020-12-27T00:14:24.378654",
     "exception": false,
     "start_time": "2020-12-27T00:14:24.327311",
     "status": "completed"
    },
    "tags": []
   },
   "outputs": [],
   "source": [
    "y_train = 1*(y_train==3)\n",
    "y_test = 1*(y_test==3)"
   ]
  },
  {
   "cell_type": "code",
   "execution_count": 12,
   "metadata": {
    "execution": {
     "iopub.execute_input": "2020-12-27T00:14:24.449097Z",
     "iopub.status.busy": "2020-12-27T00:14:24.448389Z",
     "iopub.status.idle": "2020-12-27T00:14:24.462983Z",
     "shell.execute_reply": "2020-12-27T00:14:24.462378Z"
    },
    "papermill": {
     "duration": 0.051422,
     "end_time": "2020-12-27T00:14:24.463147",
     "exception": false,
     "start_time": "2020-12-27T00:14:24.411725",
     "status": "completed"
    },
    "tags": []
   },
   "outputs": [
    {
     "data": {
      "text/plain": [
       "((11982, 28, 28), (1984, 28, 28))"
      ]
     },
     "execution_count": 12,
     "metadata": {},
     "output_type": "execute_result"
    }
   ],
   "source": [
    "X_train.shape, X_test.shape"
   ]
  },
  {
   "cell_type": "markdown",
   "metadata": {
    "papermill": {
     "duration": 0.033496,
     "end_time": "2020-12-27T00:14:24.530665",
     "exception": false,
     "start_time": "2020-12-27T00:14:24.497169",
     "status": "completed"
    },
    "tags": []
   },
   "source": [
    "### Reshape the input data to create a linear array"
   ]
  },
  {
   "cell_type": "code",
   "execution_count": 13,
   "metadata": {
    "execution": {
     "iopub.execute_input": "2020-12-27T00:14:24.620620Z",
     "iopub.status.busy": "2020-12-27T00:14:24.615227Z",
     "iopub.status.idle": "2020-12-27T00:14:24.623864Z",
     "shell.execute_reply": "2020-12-27T00:14:24.624510Z"
    },
    "papermill": {
     "duration": 0.058623,
     "end_time": "2020-12-27T00:14:24.624679",
     "exception": false,
     "start_time": "2020-12-27T00:14:24.566056",
     "status": "completed"
    },
    "tags": []
   },
   "outputs": [
    {
     "data": {
      "text/plain": [
       "((11982, 784), (1984, 784))"
      ]
     },
     "execution_count": 13,
     "metadata": {},
     "output_type": "execute_result"
    }
   ],
   "source": [
    "X_train = X_train.reshape(X_train.shape[0], -1)\n",
    "X_test = X_test.reshape(X_test.shape[0], -1)\n",
    "X_train.shape, X_test.shape"
   ]
  },
  {
   "cell_type": "markdown",
   "metadata": {
    "papermill": {
     "duration": 0.035532,
     "end_time": "2020-12-27T00:14:24.694766",
     "exception": false,
     "start_time": "2020-12-27T00:14:24.659234",
     "status": "completed"
    },
    "tags": []
   },
   "source": [
    "### Importing appropriate functions from 'Kudzu'"
   ]
  },
  {
   "cell_type": "code",
   "execution_count": 14,
   "metadata": {
    "execution": {
     "iopub.execute_input": "2020-12-27T00:14:24.781934Z",
     "iopub.status.busy": "2020-12-27T00:14:24.781182Z",
     "iopub.status.idle": "2020-12-27T00:14:24.804266Z",
     "shell.execute_reply": "2020-12-27T00:14:24.804898Z"
    },
    "papermill": {
     "duration": 0.076014,
     "end_time": "2020-12-27T00:14:24.805114",
     "exception": false,
     "start_time": "2020-12-27T00:14:24.729100",
     "status": "completed"
    },
    "tags": []
   },
   "outputs": [],
   "source": [
    "from kudzu.layer import Sigmoid\n",
    "from kudzu.layer import Relu\n",
    "from kudzu.layer import Affine, Sigmoid\n",
    "\n",
    "from kudzu.model import Model\n",
    "from kudzu.train import Learner\n",
    "from kudzu.optim import GD\n",
    "from kudzu.data import Data, Dataloader, Sampler\n",
    "\n",
    "from kudzu.callbacks import AccCallback\n",
    "from kudzu.callbacks import ClfCallback\n",
    "\n",
    "from kudzu.loss import MSE"
   ]
  },
  {
   "cell_type": "markdown",
   "metadata": {
    "papermill": {
     "duration": 0.033562,
     "end_time": "2020-12-27T00:14:24.871771",
     "exception": false,
     "start_time": "2020-12-27T00:14:24.838209",
     "status": "completed"
    },
    "tags": []
   },
   "source": [
    "### Let us create a `Config` class, to store important parameters. \n",
    "This class essentially plays the role of a dictionary."
   ]
  },
  {
   "cell_type": "code",
   "execution_count": 15,
   "metadata": {
    "execution": {
     "iopub.execute_input": "2020-12-27T00:14:24.951566Z",
     "iopub.status.busy": "2020-12-27T00:14:24.950799Z",
     "iopub.status.idle": "2020-12-27T00:14:24.962781Z",
     "shell.execute_reply": "2020-12-27T00:14:24.963461Z"
    },
    "papermill": {
     "duration": 0.054662,
     "end_time": "2020-12-27T00:14:24.963621",
     "exception": false,
     "start_time": "2020-12-27T00:14:24.908959",
     "status": "completed"
    },
    "tags": []
   },
   "outputs": [],
   "source": [
    "class Config:\n",
    "    pass\n",
    "config = Config()\n",
    "config.lr = 0.001\n",
    "config.num_epochs = 251\n",
    "config.bs = 50"
   ]
  },
  {
   "cell_type": "markdown",
   "metadata": {
    "papermill": {
     "duration": 0.04366,
     "end_time": "2020-12-27T00:14:25.043795",
     "exception": false,
     "start_time": "2020-12-27T00:14:25.000135",
     "status": "completed"
    },
    "tags": []
   },
   "source": [
    "### Initializing data to the variables"
   ]
  },
  {
   "cell_type": "code",
   "execution_count": 16,
   "metadata": {
    "execution": {
     "iopub.execute_input": "2020-12-27T00:14:25.120037Z",
     "iopub.status.busy": "2020-12-27T00:14:25.119332Z",
     "iopub.status.idle": "2020-12-27T00:14:25.140502Z",
     "shell.execute_reply": "2020-12-27T00:14:25.139845Z"
    },
    "papermill": {
     "duration": 0.062526,
     "end_time": "2020-12-27T00:14:25.140669",
     "exception": false,
     "start_time": "2020-12-27T00:14:25.078143",
     "status": "completed"
    },
    "tags": []
   },
   "outputs": [],
   "source": [
    "data = Data(X_train, y_train.reshape(-1,1))\n",
    "sampler = Sampler(data, config.bs, shuffle=True)\n",
    "\n",
    "dl = Dataloader(data, sampler)\n",
    "\n",
    "opt = GD(config.lr)\n",
    "loss = MSE()"
   ]
  },
  {
   "cell_type": "code",
   "execution_count": 17,
   "metadata": {
    "execution": {
     "iopub.execute_input": "2020-12-27T00:14:25.215011Z",
     "iopub.status.busy": "2020-12-27T00:14:25.214300Z",
     "iopub.status.idle": "2020-12-27T00:14:25.230006Z",
     "shell.execute_reply": "2020-12-27T00:14:25.230600Z"
    },
    "papermill": {
     "duration": 0.056685,
     "end_time": "2020-12-27T00:14:25.230768",
     "exception": false,
     "start_time": "2020-12-27T00:14:25.174083",
     "status": "completed"
    },
    "tags": []
   },
   "outputs": [],
   "source": [
    "training_xdata = X_train\n",
    "testing_xdata = X_test\n",
    "training_ydata = y_train.reshape(-1,1)\n",
    "testing_ydata = y_test.reshape(-1,1)"
   ]
  },
  {
   "cell_type": "markdown",
   "metadata": {
    "papermill": {
     "duration": 0.033195,
     "end_time": "2020-12-27T00:14:25.302340",
     "exception": false,
     "start_time": "2020-12-27T00:14:25.269145",
     "status": "completed"
    },
    "tags": []
   },
   "source": [
    "### Running Models with the Training data\n",
    "Details about the network layers:\n",
    "- A first affine layer has 784 inputs and does 100 affine transforms. These are followed by a Relu\n",
    "- A second affine layer has 100 inputs from the 100 activations of the past layer, and does 100 affine transforms. These are followed by a Relu\n",
    "- A third affine layer has 100 activations and does 2 affine transformations to create an embedding for visualization. There is no non-linearity here.\n",
    "- A final \"logistic regression\" which has an affine transform from 2 inputs to 1 output, which is squeezed through a sigmoid.\n",
    "\n",
    "Help taken from Anshuman's Notebook."
   ]
  },
  {
   "cell_type": "code",
   "execution_count": 18,
   "metadata": {
    "execution": {
     "iopub.execute_input": "2020-12-27T00:14:25.379587Z",
     "iopub.status.busy": "2020-12-27T00:14:25.378823Z",
     "iopub.status.idle": "2020-12-27T00:14:25.394974Z",
     "shell.execute_reply": "2020-12-27T00:14:25.395586Z"
    },
    "papermill": {
     "duration": 0.059445,
     "end_time": "2020-12-27T00:14:25.395763",
     "exception": false,
     "start_time": "2020-12-27T00:14:25.336318",
     "status": "completed"
    },
    "tags": []
   },
   "outputs": [],
   "source": [
    "# layers for the Neural Network\n",
    "layers = [Affine(\"first\", 784, 100), Relu(\"first\"), Affine(\"second\", 100, 100), Relu(\"second\"), Affine(\"third\", 100, 2), Affine(\"final\", 2, 1), Sigmoid(\"final\")]\n",
    "model_nn = Model(layers)\n",
    "\n",
    "# layers for the Logistic Regression\n",
    "layers_lr = [Affine(\"logits\", 784, 1), Sigmoid(\"sigmoid\")]\n",
    "model_lr = Model(layers_lr)"
   ]
  },
  {
   "cell_type": "code",
   "execution_count": 19,
   "metadata": {
    "execution": {
     "iopub.execute_input": "2020-12-27T00:14:25.470064Z",
     "iopub.status.busy": "2020-12-27T00:14:25.469236Z",
     "iopub.status.idle": "2020-12-27T00:14:25.485900Z",
     "shell.execute_reply": "2020-12-27T00:14:25.484795Z"
    },
    "papermill": {
     "duration": 0.055896,
     "end_time": "2020-12-27T00:14:25.486081",
     "exception": false,
     "start_time": "2020-12-27T00:14:25.430185",
     "status": "completed"
    },
    "tags": []
   },
   "outputs": [],
   "source": [
    "# suffix _nn stands for Neural Network.\n",
    "learner_nn = Learner(loss, model_nn, opt, config.num_epochs)\n",
    "acc_nn = ClfCallback(learner_nn, config.bs, training_xdata , testing_xdata, training_ydata, testing_ydata)\n",
    "learner_nn.set_callbacks([acc_nn])"
   ]
  },
  {
   "cell_type": "code",
   "execution_count": 20,
   "metadata": {
    "execution": {
     "iopub.execute_input": "2020-12-27T00:14:25.575637Z",
     "iopub.status.busy": "2020-12-27T00:14:25.574823Z",
     "iopub.status.idle": "2020-12-27T00:16:43.561531Z",
     "shell.execute_reply": "2020-12-27T00:16:43.560977Z"
    },
    "papermill": {
     "duration": 138.02615,
     "end_time": "2020-12-27T00:16:43.561701",
     "exception": false,
     "start_time": "2020-12-27T00:14:25.535551",
     "status": "completed"
    },
    "tags": []
   },
   "outputs": [
    {
     "name": "stdout",
     "output_type": "stream",
     "text": [
      "====== Neural Network ======\n"
     ]
    },
    {
     "name": "stdout",
     "output_type": "stream",
     "text": [
      "Epoch 0, Loss 0.2522\n",
      "Training Accuracy: 0.6214, Testing Accuracy: 0.6190\n",
      "\n"
     ]
    },
    {
     "name": "stdout",
     "output_type": "stream",
     "text": [
      "Epoch 10, Loss 0.0754\n",
      "Training Accuracy: 0.9318, Testing Accuracy: 0.9425\n",
      "\n"
     ]
    },
    {
     "name": "stdout",
     "output_type": "stream",
     "text": [
      "Epoch 20, Loss 0.0489\n",
      "Training Accuracy: 0.9485, Testing Accuracy: 0.9561\n",
      "\n"
     ]
    },
    {
     "name": "stdout",
     "output_type": "stream",
     "text": [
      "Epoch 30, Loss 0.0397\n",
      "Training Accuracy: 0.9569, Testing Accuracy: 0.9622\n",
      "\n"
     ]
    },
    {
     "name": "stdout",
     "output_type": "stream",
     "text": [
      "Epoch 40, Loss 0.035\n",
      "Training Accuracy: 0.9608, Testing Accuracy: 0.9657\n",
      "\n"
     ]
    },
    {
     "name": "stdout",
     "output_type": "stream",
     "text": [
      "Epoch 50, Loss 0.032\n",
      "Training Accuracy: 0.9637, Testing Accuracy: 0.9647\n",
      "\n"
     ]
    },
    {
     "name": "stdout",
     "output_type": "stream",
     "text": [
      "Epoch 60, Loss 0.0299\n",
      "Training Accuracy: 0.9652, Testing Accuracy: 0.9682\n",
      "\n"
     ]
    },
    {
     "name": "stdout",
     "output_type": "stream",
     "text": [
      "Epoch 70, Loss 0.0284\n",
      "Training Accuracy: 0.9664, Testing Accuracy: 0.9693\n",
      "\n"
     ]
    },
    {
     "name": "stdout",
     "output_type": "stream",
     "text": [
      "Epoch 80, Loss 0.0271\n",
      "Training Accuracy: 0.9683, Testing Accuracy: 0.9698\n",
      "\n"
     ]
    },
    {
     "name": "stdout",
     "output_type": "stream",
     "text": [
      "Epoch 90, Loss 0.0261\n",
      "Training Accuracy: 0.9696, Testing Accuracy: 0.9713\n",
      "\n"
     ]
    },
    {
     "name": "stdout",
     "output_type": "stream",
     "text": [
      "Epoch 100, Loss 0.0252\n",
      "Training Accuracy: 0.9708, Testing Accuracy: 0.9723\n",
      "\n"
     ]
    },
    {
     "name": "stdout",
     "output_type": "stream",
     "text": [
      "Epoch 110, Loss 0.0244\n",
      "Training Accuracy: 0.9720, Testing Accuracy: 0.9733\n",
      "\n"
     ]
    },
    {
     "name": "stdout",
     "output_type": "stream",
     "text": [
      "Epoch 120, Loss 0.0237\n",
      "Training Accuracy: 0.9727, Testing Accuracy: 0.9733\n",
      "\n"
     ]
    },
    {
     "name": "stdout",
     "output_type": "stream",
     "text": [
      "Epoch 130, Loss 0.0231\n",
      "Training Accuracy: 0.9735, Testing Accuracy: 0.9733\n",
      "\n"
     ]
    },
    {
     "name": "stdout",
     "output_type": "stream",
     "text": [
      "Epoch 140, Loss 0.0225\n",
      "Training Accuracy: 0.9747, Testing Accuracy: 0.9743\n",
      "\n"
     ]
    },
    {
     "name": "stdout",
     "output_type": "stream",
     "text": [
      "Epoch 150, Loss 0.022\n",
      "Training Accuracy: 0.9752, Testing Accuracy: 0.9748\n",
      "\n"
     ]
    },
    {
     "name": "stdout",
     "output_type": "stream",
     "text": [
      "Epoch 160, Loss 0.0215\n",
      "Training Accuracy: 0.9759, Testing Accuracy: 0.9748\n",
      "\n"
     ]
    },
    {
     "name": "stdout",
     "output_type": "stream",
     "text": [
      "Epoch 170, Loss 0.021\n",
      "Training Accuracy: 0.9761, Testing Accuracy: 0.9743\n",
      "\n"
     ]
    },
    {
     "name": "stdout",
     "output_type": "stream",
     "text": [
      "Epoch 180, Loss 0.0206\n",
      "Training Accuracy: 0.9770, Testing Accuracy: 0.9743\n",
      "\n"
     ]
    },
    {
     "name": "stdout",
     "output_type": "stream",
     "text": [
      "Epoch 190, Loss 0.0201\n",
      "Training Accuracy: 0.9775, Testing Accuracy: 0.9738\n",
      "\n"
     ]
    },
    {
     "name": "stdout",
     "output_type": "stream",
     "text": [
      "Epoch 200, Loss 0.0197\n",
      "Training Accuracy: 0.9775, Testing Accuracy: 0.9738\n",
      "\n"
     ]
    },
    {
     "name": "stdout",
     "output_type": "stream",
     "text": [
      "Epoch 210, Loss 0.0193\n",
      "Training Accuracy: 0.9781, Testing Accuracy: 0.9738\n",
      "\n"
     ]
    },
    {
     "name": "stdout",
     "output_type": "stream",
     "text": [
      "Epoch 220, Loss 0.0189\n",
      "Training Accuracy: 0.9786, Testing Accuracy: 0.9743\n",
      "\n"
     ]
    },
    {
     "name": "stdout",
     "output_type": "stream",
     "text": [
      "Epoch 230, Loss 0.0185\n",
      "Training Accuracy: 0.9792, Testing Accuracy: 0.9753\n",
      "\n"
     ]
    },
    {
     "name": "stdout",
     "output_type": "stream",
     "text": [
      "Epoch 240, Loss 0.0181\n",
      "Training Accuracy: 0.9800, Testing Accuracy: 0.9758\n",
      "\n"
     ]
    },
    {
     "name": "stdout",
     "output_type": "stream",
     "text": [
      "Epoch 250, Loss 0.0178\n",
      "Training Accuracy: 0.9802, Testing Accuracy: 0.9758\n",
      "\n"
     ]
    },
    {
     "data": {
      "text/plain": [
       "0.002386131521922736"
      ]
     },
     "execution_count": 20,
     "metadata": {},
     "output_type": "execute_result"
    }
   ],
   "source": [
    "print(\"====== Neural Network ======\")\n",
    "learner_nn.train_loop(dl)"
   ]
  },
  {
   "cell_type": "markdown",
   "metadata": {
    "papermill": {
     "duration": 0.044095,
     "end_time": "2020-12-27T00:16:43.648768",
     "exception": false,
     "start_time": "2020-12-27T00:16:43.604673",
     "status": "completed"
    },
    "tags": []
   },
   "source": [
    "### Logistic Regression based Implementation."
   ]
  },
  {
   "cell_type": "code",
   "execution_count": 21,
   "metadata": {
    "execution": {
     "iopub.execute_input": "2020-12-27T00:16:43.745049Z",
     "iopub.status.busy": "2020-12-27T00:16:43.744361Z",
     "iopub.status.idle": "2020-12-27T00:16:43.757532Z",
     "shell.execute_reply": "2020-12-27T00:16:43.756962Z"
    },
    "papermill": {
     "duration": 0.062767,
     "end_time": "2020-12-27T00:16:43.757701",
     "exception": false,
     "start_time": "2020-12-27T00:16:43.694934",
     "status": "completed"
    },
    "tags": []
   },
   "outputs": [],
   "source": [
    "learner_lr = Learner(loss, model_lr, opt, config.num_epochs)\n",
    "acc_lr = ClfCallback(learner_lr, config.bs, training_xdata , testing_xdata, training_ydata, testing_ydata)\n",
    "learner_lr.set_callbacks([acc_lr])"
   ]
  },
  {
   "cell_type": "code",
   "execution_count": 22,
   "metadata": {
    "execution": {
     "iopub.execute_input": "2020-12-27T00:16:43.849170Z",
     "iopub.status.busy": "2020-12-27T00:16:43.847462Z",
     "iopub.status.idle": "2020-12-27T00:17:03.892098Z",
     "shell.execute_reply": "2020-12-27T00:17:03.892870Z"
    },
    "papermill": {
     "duration": 20.093008,
     "end_time": "2020-12-27T00:17:03.893038",
     "exception": false,
     "start_time": "2020-12-27T00:16:43.800030",
     "status": "completed"
    },
    "tags": []
   },
   "outputs": [
    {
     "name": "stdout",
     "output_type": "stream",
     "text": [
      "====== Logistic Regression ======\n",
      "Epoch 0, Loss 0.2821\n",
      "Training Accuracy: 0.5303, Testing Accuracy: 0.5227\n",
      "\n"
     ]
    },
    {
     "name": "stdout",
     "output_type": "stream",
     "text": [
      "Epoch 10, Loss 0.1085\n",
      "Training Accuracy: 0.9026, Testing Accuracy: 0.9133\n",
      "\n"
     ]
    },
    {
     "name": "stdout",
     "output_type": "stream",
     "text": [
      "Epoch 20, Loss 0.0817\n",
      "Training Accuracy: 0.9246, Testing Accuracy: 0.9375\n",
      "\n"
     ]
    },
    {
     "name": "stdout",
     "output_type": "stream",
     "text": [
      "Epoch 30, Loss 0.0698\n",
      "Training Accuracy: 0.9334, Testing Accuracy: 0.9441\n",
      "\n"
     ]
    },
    {
     "name": "stdout",
     "output_type": "stream",
     "text": [
      "Epoch 40, Loss 0.0628\n",
      "Training Accuracy: 0.9396, Testing Accuracy: 0.9486\n",
      "\n"
     ]
    },
    {
     "name": "stdout",
     "output_type": "stream",
     "text": [
      "Epoch 50, Loss 0.0581\n",
      "Training Accuracy: 0.9427, Testing Accuracy: 0.9531\n",
      "\n"
     ]
    },
    {
     "name": "stdout",
     "output_type": "stream",
     "text": [
      "Epoch 60, Loss 0.0547\n",
      "Training Accuracy: 0.9455, Testing Accuracy: 0.9556\n",
      "\n"
     ]
    },
    {
     "name": "stdout",
     "output_type": "stream",
     "text": [
      "Epoch 70, Loss 0.052\n",
      "Training Accuracy: 0.9474, Testing Accuracy: 0.9556\n",
      "\n"
     ]
    },
    {
     "name": "stdout",
     "output_type": "stream",
     "text": [
      "Epoch 80, Loss 0.0499\n",
      "Training Accuracy: 0.9490, Testing Accuracy: 0.9577\n",
      "\n"
     ]
    },
    {
     "name": "stdout",
     "output_type": "stream",
     "text": [
      "Epoch 90, Loss 0.0481\n",
      "Training Accuracy: 0.9502, Testing Accuracy: 0.9612\n",
      "\n"
     ]
    },
    {
     "name": "stdout",
     "output_type": "stream",
     "text": [
      "Epoch 100, Loss 0.0467\n",
      "Training Accuracy: 0.9520, Testing Accuracy: 0.9617\n",
      "\n"
     ]
    },
    {
     "name": "stdout",
     "output_type": "stream",
     "text": [
      "Epoch 110, Loss 0.0454\n",
      "Training Accuracy: 0.9535, Testing Accuracy: 0.9622\n",
      "\n"
     ]
    },
    {
     "name": "stdout",
     "output_type": "stream",
     "text": [
      "Epoch 120, Loss 0.0443\n",
      "Training Accuracy: 0.9540, Testing Accuracy: 0.9632\n",
      "\n"
     ]
    },
    {
     "name": "stdout",
     "output_type": "stream",
     "text": [
      "Epoch 130, Loss 0.0434\n",
      "Training Accuracy: 0.9548, Testing Accuracy: 0.9642\n",
      "\n"
     ]
    },
    {
     "name": "stdout",
     "output_type": "stream",
     "text": [
      "Epoch 140, Loss 0.0425\n",
      "Training Accuracy: 0.9555, Testing Accuracy: 0.9652\n",
      "\n"
     ]
    },
    {
     "name": "stdout",
     "output_type": "stream",
     "text": [
      "Epoch 150, Loss 0.0417\n",
      "Training Accuracy: 0.9564, Testing Accuracy: 0.9657\n",
      "\n"
     ]
    },
    {
     "name": "stdout",
     "output_type": "stream",
     "text": [
      "Epoch 160, Loss 0.041\n",
      "Training Accuracy: 0.9567, Testing Accuracy: 0.9657\n",
      "\n"
     ]
    },
    {
     "name": "stdout",
     "output_type": "stream",
     "text": [
      "Epoch 170, Loss 0.0404\n",
      "Training Accuracy: 0.9574, Testing Accuracy: 0.9657\n",
      "\n"
     ]
    },
    {
     "name": "stdout",
     "output_type": "stream",
     "text": [
      "Epoch 180, Loss 0.0398\n",
      "Training Accuracy: 0.9581, Testing Accuracy: 0.9657\n",
      "\n"
     ]
    },
    {
     "name": "stdout",
     "output_type": "stream",
     "text": [
      "Epoch 190, Loss 0.0393\n",
      "Training Accuracy: 0.9584, Testing Accuracy: 0.9657\n",
      "\n"
     ]
    },
    {
     "name": "stdout",
     "output_type": "stream",
     "text": [
      "Epoch 200, Loss 0.0388\n",
      "Training Accuracy: 0.9584, Testing Accuracy: 0.9662\n",
      "\n"
     ]
    },
    {
     "name": "stdout",
     "output_type": "stream",
     "text": [
      "Epoch 210, Loss 0.0384\n",
      "Training Accuracy: 0.9589, Testing Accuracy: 0.9662\n",
      "\n"
     ]
    },
    {
     "name": "stdout",
     "output_type": "stream",
     "text": [
      "Epoch 220, Loss 0.0379\n",
      "Training Accuracy: 0.9594, Testing Accuracy: 0.9657\n",
      "\n"
     ]
    },
    {
     "name": "stdout",
     "output_type": "stream",
     "text": [
      "Epoch 230, Loss 0.0375\n",
      "Training Accuracy: 0.9598, Testing Accuracy: 0.9652\n",
      "\n"
     ]
    },
    {
     "name": "stdout",
     "output_type": "stream",
     "text": [
      "Epoch 240, Loss 0.0372\n",
      "Training Accuracy: 0.9603, Testing Accuracy: 0.9652\n",
      "\n"
     ]
    },
    {
     "name": "stdout",
     "output_type": "stream",
     "text": [
      "Epoch 250, Loss 0.0368\n",
      "Training Accuracy: 0.9604, Testing Accuracy: 0.9652\n",
      "\n"
     ]
    },
    {
     "data": {
      "text/plain": [
       "0.03793182254251662"
      ]
     },
     "execution_count": 22,
     "metadata": {},
     "output_type": "execute_result"
    }
   ],
   "source": [
    "print(\"====== Logistic Regression ======\")\n",
    "learner_lr.train_loop(dl)"
   ]
  },
  {
   "cell_type": "markdown",
   "metadata": {
    "papermill": {
     "duration": 0.052501,
     "end_time": "2020-12-27T00:17:03.997968",
     "exception": false,
     "start_time": "2020-12-27T00:17:03.945467",
     "status": "completed"
    },
    "tags": []
   },
   "source": [
    "### Comparing results of NN and LR"
   ]
  },
  {
   "cell_type": "code",
   "execution_count": 23,
   "metadata": {
    "execution": {
     "iopub.execute_input": "2020-12-27T00:17:04.112269Z",
     "iopub.status.busy": "2020-12-27T00:17:04.110331Z",
     "iopub.status.idle": "2020-12-27T00:17:04.392430Z",
     "shell.execute_reply": "2020-12-27T00:17:04.391831Z"
    },
    "papermill": {
     "duration": 0.341966,
     "end_time": "2020-12-27T00:17:04.392575",
     "exception": false,
     "start_time": "2020-12-27T00:17:04.050609",
     "status": "completed"
    },
    "tags": []
   },
   "outputs": [
    {
     "data": {
      "text/plain": [
       "<matplotlib.legend.Legend at 0x7fe3382f8c18>"
      ]
     },
     "execution_count": 23,
     "metadata": {},
     "output_type": "execute_result"
    },
    {
     "data": {
      "image/png": "[encoded data removed]",
      "text/plain": [
       "<Figure size 1080x720 with 1 Axes>"
      ]
     },
     "metadata": {
      "needs_background": "light"
     },
     "output_type": "display_data"
    }
   ],
   "source": [
    "plt.figure(figsize=(15,10))\n",
    "\n",
    "# Neural Network plots\n",
    "plt.plot(acc_nn.accuracies, 'r-', label = \"Training Accuracies - NN\")\n",
    "plt.plot(acc_nn.test_accuracies, 'g-', label = \"Testing Accuracies - NN\")\n",
    "\n",
    "# Logistic Regression plots\n",
    "plt.plot(acc_lr.accuracies, 'k-', label = \"Training Accuracies - LR\")\n",
    "plt.plot(acc_lr.test_accuracies, 'b-', label = \"Testing Accuracies - LR\")\n",
    "\n",
    "plt.ylim(0.8, 1)\n",
    "\n",
    "plt.legend()\n",
    "\n"
   ]
  },
  {
   "cell_type": "markdown",
   "metadata": {
    "papermill": {
     "duration": 0.051976,
     "end_time": "2020-12-27T00:17:04.497371",
     "exception": false,
     "start_time": "2020-12-27T00:17:04.445395",
     "status": "completed"
    },
    "tags": []
   },
   "source": [
    "### From the plot, we can observe the following:\n",
    "- Neural Network achieves higher accuracy than the Logistic Regression model.\n",
    "- This apparently, is because of overfitting, i.e. NN captures more noise than data.\n",
    "- Testing accuracy of NN drops below the Training accuracy at higher epochs. This explains the over-fitting on training data.\n",
    "- Logistic Regression gives a reliable accuracy, without the above mentioned problem.\n"
   ]
  },
  {
   "cell_type": "markdown",
   "metadata": {
    "papermill": {
     "duration": 0.052578,
     "end_time": "2020-12-27T00:17:04.600503",
     "exception": false,
     "start_time": "2020-12-27T00:17:04.547925",
     "status": "completed"
    },
    "tags": []
   },
   "source": [
    "### Moving till the last but one layer (excluding it).\n",
    "#### Plotting the outputs of this layer of the NN."
   ]
  },
  {
   "cell_type": "code",
   "execution_count": 24,
   "metadata": {
    "execution": {
     "iopub.execute_input": "2020-12-27T00:17:04.711196Z",
     "iopub.status.busy": "2020-12-27T00:17:04.707757Z",
     "iopub.status.idle": "2020-12-27T00:17:04.722238Z",
     "shell.execute_reply": "2020-12-27T00:17:04.721603Z"
    },
    "papermill": {
     "duration": 0.07133,
     "end_time": "2020-12-27T00:17:04.722380",
     "exception": false,
     "start_time": "2020-12-27T00:17:04.651050",
     "status": "completed"
    },
    "tags": []
   },
   "outputs": [],
   "source": [
    "model_new = Model(layers[:-2])"
   ]
  },
  {
   "cell_type": "code",
   "execution_count": 25,
   "metadata": {
    "execution": {
     "iopub.execute_input": "2020-12-27T00:17:04.838533Z",
     "iopub.status.busy": "2020-12-27T00:17:04.837793Z",
     "iopub.status.idle": "2020-12-27T00:17:04.864806Z",
     "shell.execute_reply": "2020-12-27T00:17:04.865617Z"
    },
    "papermill": {
     "duration": 0.090519,
     "end_time": "2020-12-27T00:17:04.865769",
     "exception": false,
     "start_time": "2020-12-27T00:17:04.775250",
     "status": "completed"
    },
    "tags": []
   },
   "outputs": [],
   "source": [
    "plot_testing = model_new(testing_xdata)"
   ]
  },
  {
   "cell_type": "code",
   "execution_count": 26,
   "metadata": {
    "execution": {
     "iopub.execute_input": "2020-12-27T00:17:04.975797Z",
     "iopub.status.busy": "2020-12-27T00:17:04.975115Z",
     "iopub.status.idle": "2020-12-27T00:17:05.192615Z",
     "shell.execute_reply": "2020-12-27T00:17:05.191819Z"
    },
    "papermill": {
     "duration": 0.274506,
     "end_time": "2020-12-27T00:17:05.192767",
     "exception": false,
     "start_time": "2020-12-27T00:17:04.918261",
     "status": "completed"
    },
    "tags": []
   },
   "outputs": [
    {
     "data": {
      "text/plain": [
       "Text(0.5, 1.0, 'Outputs')"
      ]
     },
     "execution_count": 26,
     "metadata": {},
     "output_type": "execute_result"
    },
    {
     "data": {
      "image/png": "[encoded data removed]",
      "text/plain": [
       "<Figure size 576x504 with 1 Axes>"
      ]
     },
     "metadata": {
      "needs_background": "light"
     },
     "output_type": "display_data"
    }
   ],
   "source": [
    "plt.figure(figsize=(8,7))\n",
    "plt.scatter(plot_testing[:,0], plot_testing[:,1], alpha = 0.1, c = y_test.ravel());\n",
    "plt.title('Outputs')"
   ]
  },
  {
   "cell_type": "markdown",
   "metadata": {
    "papermill": {
     "duration": 0.052636,
     "end_time": "2020-12-27T00:17:05.299892",
     "exception": false,
     "start_time": "2020-12-27T00:17:05.247256",
     "status": "completed"
    },
    "tags": []
   },
   "source": [
    "### Plotting probability contours"
   ]
  },
  {
   "cell_type": "code",
   "execution_count": 27,
   "metadata": {
    "execution": {
     "iopub.execute_input": "2020-12-27T00:17:05.412994Z",
     "iopub.status.busy": "2020-12-27T00:17:05.412320Z",
     "iopub.status.idle": "2020-12-27T00:17:05.425030Z",
     "shell.execute_reply": "2020-12-27T00:17:05.425594Z"
    },
    "papermill": {
     "duration": 0.072197,
     "end_time": "2020-12-27T00:17:05.425737",
     "exception": false,
     "start_time": "2020-12-27T00:17:05.353540",
     "status": "completed"
    },
    "tags": []
   },
   "outputs": [],
   "source": [
    "model_prob = Model(layers[-2:]) "
   ]
  },
  {
   "cell_type": "code",
   "execution_count": 28,
   "metadata": {
    "execution": {
     "iopub.execute_input": "2020-12-27T00:17:05.557833Z",
     "iopub.status.busy": "2020-12-27T00:17:05.557144Z",
     "iopub.status.idle": "2020-12-27T00:17:05.571746Z",
     "shell.execute_reply": "2020-12-27T00:17:05.573047Z"
    },
    "papermill": {
     "duration": 0.094575,
     "end_time": "2020-12-27T00:17:05.573219",
     "exception": false,
     "start_time": "2020-12-27T00:17:05.478644",
     "status": "completed"
    },
    "tags": []
   },
   "outputs": [],
   "source": [
    "# Adjust the x and y ranges according to the above generated plot.\n",
    "x_range = np.linspace(-4, 1, 100) \n",
    "y_range = np.linspace(-6, 6, 100) \n",
    "x_grid, y_grid = np.meshgrid(x_range, y_range) # x_grid and y_grig are of size 100 X 100\n",
    "\n",
    "# converting x_grid and y_grid to continuous arrays\n",
    "x_grid_flat = np.ravel(x_grid)\n",
    "y_grid_flat = np.ravel(y_grid)\n",
    "\n",
    "# The last layer of the current model takes two columns as input. Hence transpose of np.vstack() is required.\n",
    "X = np.vstack((x_grid_flat, y_grid_flat)).T\n",
    "\n",
    "# x_grid and y_grid are of size 100 x 100\n",
    "probability_contour = model_prob(X).reshape(100,100) "
   ]
  },
  {
   "cell_type": "code",
   "execution_count": 29,
   "metadata": {
    "execution": {
     "iopub.execute_input": "2020-12-27T00:17:05.687402Z",
     "iopub.status.busy": "2020-12-27T00:17:05.686740Z",
     "iopub.status.idle": "2020-12-27T00:17:05.963926Z",
     "shell.execute_reply": "2020-12-27T00:17:05.963352Z"
    },
    "papermill": {
     "duration": 0.336232,
     "end_time": "2020-12-27T00:17:05.964072",
     "exception": false,
     "start_time": "2020-12-27T00:17:05.627840",
     "status": "completed"
    },
    "tags": []
   },
   "outputs": [
    {
     "data": {
      "image/png": "[encoded data removed]",
      "text/plain": [
       "<Figure size 720x648 with 1 Axes>"
      ]
     },
     "metadata": {
      "needs_background": "light"
     },
     "output_type": "display_data"
    }
   ],
   "source": [
    "plt.figure(figsize=(10,9))\n",
    "plt.scatter(plot_testing[:,0], plot_testing[:,1], alpha = 0.1, c = y_test.ravel())\n",
    "contours = plt.contour(x_grid,y_grid,probability_contour)\n",
    "plt.title('Probability Contours')\n",
    "plt.clabel(contours, inline = True );"
   ]
  }
 ],
 "metadata": {
  "kernelspec": {
   "display_name": "Python 3",
   "language": "python",
   "name": "python3"
  },
  "language_info": {
   "codemirror_mode": {
    "name": "ipython",
    "version": 3
   },
   "file_extension": ".py",
   "mimetype": "text/x-python",
   "name": "python",
   "nbconvert_exporter": "python",
   "pygments_lexer": "ipython3",
   "version": "3.6.12"
  },
  "papermill": {
   "duration": 168.304794,
   "end_time": "2020-12-27T00:17:06.326827",
   "environment_variables": {},
   "exception": null,
   "input_path": "2020-08-11-NeuralNetwork.ipynb",
   "output_path": "2020-08-11-NeuralNetwork.ipynb",
   "parameters": {},
   "start_time": "2020-12-27T00:14:18.022033",
   "version": "2.1.2"
  }
 },
 "nbformat": 4,
 "nbformat_minor": 4
}