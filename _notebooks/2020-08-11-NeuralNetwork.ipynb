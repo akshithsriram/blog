{
 "cells": [
  {
   "cell_type": "markdown",
   "metadata": {
    "papermill": {
     "duration": 0.030567,
     "end_time": "2020-09-07T20:04:01.706968",
     "exception": false,
     "start_time": "2020-09-07T20:04:01.676401",
     "status": "completed"
    },
    "tags": []
   },
   "source": [
    "# \"A Basic Neural Network: Differentiate Hand-Written Digits\"\n",
    "\n",
    "- badges: true\n",
    "- author: Akshith Sriram"
   ]
  },
  {
   "cell_type": "markdown",
   "metadata": {
    "papermill": {
     "duration": 0.023408,
     "end_time": "2020-09-07T20:04:01.754604",
     "exception": false,
     "start_time": "2020-09-07T20:04:01.731196",
     "status": "completed"
    },
    "tags": []
   },
   "source": [
    "### Key Objectives:\n",
    "- Building a neural network that differentiates two hand-written digits 3 and 8.\n",
    "- Comparing the results of this Neural Network (NN) to that of a Logistic Regression (LR) model.\n",
    "\n",
    "### Requirements:\n",
    "- 'Kudzu' : A neural network library that was designed during our course by [Univ.AI](www.univ.ai). \n",
    "- MNIST Database\n",
    "\n",
    "If MNIST is not installed, use the command `!pip install mnist` given below.\n",
    "It can be run both from the command line and Jupyter Notebook."
   ]
  },
  {
   "cell_type": "code",
   "execution_count": 1,
   "metadata": {
    "execution": {
     "iopub.execute_input": "2020-09-07T20:04:01.808579Z",
     "iopub.status.busy": "2020-09-07T20:04:01.807981Z",
     "iopub.status.idle": "2020-09-07T20:04:03.223236Z",
     "shell.execute_reply": "2020-09-07T20:04:03.222300Z"
    },
    "papermill": {
     "duration": 1.445509,
     "end_time": "2020-09-07T20:04:03.223490",
     "exception": false,
     "start_time": "2020-09-07T20:04:01.777981",
     "status": "completed"
    },
    "tags": []
   },
   "outputs": [
    {
     "name": "stdout",
     "output_type": "stream",
     "text": [
      "Collecting mnist\r\n"
     ]
    },
    {
     "name": "stdout",
     "output_type": "stream",
     "text": [
      "  Downloading mnist-0.2.2-py2.py3-none-any.whl (3.5 kB)\r\n"
     ]
    },
    {
     "name": "stdout",
     "output_type": "stream",
     "text": [
      "Requirement already satisfied: numpy in /opt/hostedtoolcache/Python/3.6.12/x64/lib/python3.6/site-packages (from mnist) (1.19.1)\r\n"
     ]
    },
    {
     "name": "stdout",
     "output_type": "stream",
     "text": [
      "Installing collected packages: mnist\r\n"
     ]
    },
    {
     "name": "stdout",
     "output_type": "stream",
     "text": [
      "Successfully installed mnist-0.2.2\r\n"
     ]
    }
   ],
   "source": [
    "!pip install mnist "
   ]
  },
  {
   "cell_type": "markdown",
   "metadata": {
    "papermill": {
     "duration": 0.026166,
     "end_time": "2020-09-07T20:04:03.275343",
     "exception": false,
     "start_time": "2020-09-07T20:04:03.249177",
     "status": "completed"
    },
    "tags": []
   },
   "source": [
    "#### Importing necessary libraries"
   ]
  },
  {
   "cell_type": "code",
   "execution_count": 2,
   "metadata": {
    "execution": {
     "iopub.execute_input": "2020-09-07T20:04:03.334529Z",
     "iopub.status.busy": "2020-09-07T20:04:03.333936Z",
     "iopub.status.idle": "2020-09-07T20:04:03.878112Z",
     "shell.execute_reply": "2020-09-07T20:04:03.877197Z"
    },
    "papermill": {
     "duration": 0.576571,
     "end_time": "2020-09-07T20:04:03.878329",
     "exception": false,
     "start_time": "2020-09-07T20:04:03.301758",
     "status": "completed"
    },
    "tags": []
   },
   "outputs": [],
   "source": [
    "%load_ext autoreload\n",
    "%autoreload 2\n",
    "\n",
    "%matplotlib inline\n",
    "import matplotlib.pyplot as plt\n",
    "\n",
    "import numpy as np\n",
    "import pandas as pd"
   ]
  },
  {
   "cell_type": "markdown",
   "metadata": {
    "papermill": {
     "duration": 0.026069,
     "end_time": "2020-09-07T20:04:03.931999",
     "exception": false,
     "start_time": "2020-09-07T20:04:03.905930",
     "status": "completed"
    },
    "tags": []
   },
   "source": [
    "### Preparing the Data"
   ]
  },
  {
   "cell_type": "code",
   "execution_count": 3,
   "metadata": {
    "execution": {
     "iopub.execute_input": "2020-09-07T20:04:03.987755Z",
     "iopub.status.busy": "2020-09-07T20:04:03.987145Z",
     "iopub.status.idle": "2020-09-07T20:04:04.002875Z",
     "shell.execute_reply": "2020-09-07T20:04:04.002371Z"
    },
    "papermill": {
     "duration": 0.045288,
     "end_time": "2020-09-07T20:04:04.003002",
     "exception": false,
     "start_time": "2020-09-07T20:04:03.957714",
     "status": "completed"
    },
    "tags": []
   },
   "outputs": [],
   "source": [
    "import mnist"
   ]
  },
  {
   "cell_type": "code",
   "execution_count": 4,
   "metadata": {
    "execution": {
     "iopub.execute_input": "2020-09-07T20:04:04.058401Z",
     "iopub.status.busy": "2020-09-07T20:04:04.057817Z",
     "iopub.status.idle": "2020-09-07T20:04:05.730348Z",
     "shell.execute_reply": "2020-09-07T20:04:05.729825Z"
    },
    "papermill": {
     "duration": 1.701973,
     "end_time": "2020-09-07T20:04:05.730477",
     "exception": false,
     "start_time": "2020-09-07T20:04:04.028504",
     "status": "completed"
    },
    "tags": []
   },
   "outputs": [],
   "source": [
    "train_images = mnist.train_images()\n",
    "train_labels = mnist.train_labels()"
   ]
  },
  {
   "cell_type": "code",
   "execution_count": 5,
   "metadata": {
    "execution": {
     "iopub.execute_input": "2020-09-07T20:04:05.787637Z",
     "iopub.status.busy": "2020-09-07T20:04:05.787074Z",
     "iopub.status.idle": "2020-09-07T20:04:05.802664Z",
     "shell.execute_reply": "2020-09-07T20:04:05.802182Z"
    },
    "papermill": {
     "duration": 0.04613,
     "end_time": "2020-09-07T20:04:05.802784",
     "exception": false,
     "start_time": "2020-09-07T20:04:05.756654",
     "status": "completed"
    },
    "tags": []
   },
   "outputs": [
    {
     "data": {
      "text/plain": [
       "((60000, 28, 28), (60000,))"
      ]
     },
     "execution_count": 5,
     "metadata": {},
     "output_type": "execute_result"
    }
   ],
   "source": [
    "train_images.shape, train_labels.shape"
   ]
  },
  {
   "cell_type": "code",
   "execution_count": 6,
   "metadata": {
    "execution": {
     "iopub.execute_input": "2020-09-07T20:04:05.861755Z",
     "iopub.status.busy": "2020-09-07T20:04:05.861178Z",
     "iopub.status.idle": "2020-09-07T20:04:06.720659Z",
     "shell.execute_reply": "2020-09-07T20:04:06.719352Z"
    },
    "papermill": {
     "duration": 0.892654,
     "end_time": "2020-09-07T20:04:06.720879",
     "exception": false,
     "start_time": "2020-09-07T20:04:05.828225",
     "status": "completed"
    },
    "tags": []
   },
   "outputs": [],
   "source": [
    "test_images = mnist.test_images()\n",
    "test_labels = mnist.test_labels()"
   ]
  },
  {
   "cell_type": "code",
   "execution_count": 7,
   "metadata": {
    "execution": {
     "iopub.execute_input": "2020-09-07T20:04:06.780056Z",
     "iopub.status.busy": "2020-09-07T20:04:06.779573Z",
     "iopub.status.idle": "2020-09-07T20:04:06.792828Z",
     "shell.execute_reply": "2020-09-07T20:04:06.793266Z"
    },
    "papermill": {
     "duration": 0.045805,
     "end_time": "2020-09-07T20:04:06.793400",
     "exception": false,
     "start_time": "2020-09-07T20:04:06.747595",
     "status": "completed"
    },
    "tags": []
   },
   "outputs": [
    {
     "data": {
      "text/plain": [
       "((10000, 28, 28), (10000,))"
      ]
     },
     "execution_count": 7,
     "metadata": {},
     "output_type": "execute_result"
    }
   ],
   "source": [
    "test_images.shape, test_labels.shape"
   ]
  },
  {
   "cell_type": "code",
   "execution_count": 8,
   "metadata": {
    "execution": {
     "iopub.execute_input": "2020-09-07T20:04:06.849134Z",
     "iopub.status.busy": "2020-09-07T20:04:06.848557Z",
     "iopub.status.idle": "2020-09-07T20:04:06.996076Z",
     "shell.execute_reply": "2020-09-07T20:04:06.995557Z"
    },
    "papermill": {
     "duration": 0.176958,
     "end_time": "2020-09-07T20:04:06.996211",
     "exception": false,
     "start_time": "2020-09-07T20:04:06.819253",
     "status": "completed"
    },
    "tags": []
   },
   "outputs": [
    {
     "name": "stdout",
     "output_type": "stream",
     "text": [
      "2\n"
     ]
    },
    {
     "data": {
      "text/plain": [
       "<matplotlib.image.AxesImage at 0x7faa1b6eeba8>"
      ]
     },
     "execution_count": 8,
     "metadata": {},
     "output_type": "execute_result"
    },
    {
     "data": {
      "image/png": "[encoded data removed]",
      "text/plain": [
       "<Figure size 432x288 with 1 Axes>"
      ]
     },
     "metadata": {
      "needs_background": "light"
     },
     "output_type": "display_data"
    }
   ],
   "source": [
    "image_index = 7776 # You may select anything up to 60,000\n",
    "print(train_labels[image_index]) \n",
    "plt.imshow(train_images[image_index], cmap='Greys')"
   ]
  },
  {
   "cell_type": "markdown",
   "metadata": {
    "papermill": {
     "duration": 0.02775,
     "end_time": "2020-09-07T20:04:07.051886",
     "exception": false,
     "start_time": "2020-09-07T20:04:07.024136",
     "status": "completed"
    },
    "tags": []
   },
   "source": [
    "## Filter data to get 3 and 8 out"
   ]
  },
  {
   "cell_type": "code",
   "execution_count": 9,
   "metadata": {
    "execution": {
     "iopub.execute_input": "2020-09-07T20:04:07.120460Z",
     "iopub.status.busy": "2020-09-07T20:04:07.119864Z",
     "iopub.status.idle": "2020-09-07T20:04:07.136748Z",
     "shell.execute_reply": "2020-09-07T20:04:07.136270Z"
    },
    "papermill": {
     "duration": 0.057447,
     "end_time": "2020-09-07T20:04:07.136870",
     "exception": false,
     "start_time": "2020-09-07T20:04:07.079423",
     "status": "completed"
    },
    "tags": []
   },
   "outputs": [],
   "source": [
    "train_filter = np.where((train_labels == 3 ) | (train_labels == 8))\n",
    "test_filter = np.where((test_labels == 3) | (test_labels == 8))\n",
    "X_train, y_train = train_images[train_filter], train_labels[train_filter]\n",
    "X_test, y_test = test_images[test_filter], test_labels[test_filter]"
   ]
  },
  {
   "cell_type": "markdown",
   "metadata": {
    "papermill": {
     "duration": 0.027434,
     "end_time": "2020-09-07T20:04:07.190997",
     "exception": false,
     "start_time": "2020-09-07T20:04:07.163563",
     "status": "completed"
    },
    "tags": []
   },
   "source": [
    "We normalize the pixel values in the 0 to 1 range"
   ]
  },
  {
   "cell_type": "code",
   "execution_count": 10,
   "metadata": {
    "execution": {
     "iopub.execute_input": "2020-09-07T20:04:07.250498Z",
     "iopub.status.busy": "2020-09-07T20:04:07.249911Z",
     "iopub.status.idle": "2020-09-07T20:04:07.301357Z",
     "shell.execute_reply": "2020-09-07T20:04:07.300771Z"
    },
    "papermill": {
     "duration": 0.083488,
     "end_time": "2020-09-07T20:04:07.301507",
     "exception": false,
     "start_time": "2020-09-07T20:04:07.218019",
     "status": "completed"
    },
    "tags": []
   },
   "outputs": [],
   "source": [
    "X_train = X_train/255.\n",
    "X_test = X_test/255."
   ]
  },
  {
   "cell_type": "markdown",
   "metadata": {
    "papermill": {
     "duration": 0.026466,
     "end_time": "2020-09-07T20:04:07.356324",
     "exception": false,
     "start_time": "2020-09-07T20:04:07.329858",
     "status": "completed"
    },
    "tags": []
   },
   "source": [
    "Setup the labels as 1 (when the digit is 3) and 0 (when the digit is 8)"
   ]
  },
  {
   "cell_type": "code",
   "execution_count": 11,
   "metadata": {
    "execution": {
     "iopub.execute_input": "2020-09-07T20:04:07.412138Z",
     "iopub.status.busy": "2020-09-07T20:04:07.411556Z",
     "iopub.status.idle": "2020-09-07T20:04:07.425263Z",
     "shell.execute_reply": "2020-09-07T20:04:07.424265Z"
    },
    "papermill": {
     "duration": 0.042848,
     "end_time": "2020-09-07T20:04:07.425392",
     "exception": false,
     "start_time": "2020-09-07T20:04:07.382544",
     "status": "completed"
    },
    "tags": []
   },
   "outputs": [],
   "source": [
    "y_train = 1*(y_train==3)\n",
    "y_test = 1*(y_test==3)"
   ]
  },
  {
   "cell_type": "code",
   "execution_count": 12,
   "metadata": {
    "execution": {
     "iopub.execute_input": "2020-09-07T20:04:07.486696Z",
     "iopub.status.busy": "2020-09-07T20:04:07.481644Z",
     "iopub.status.idle": "2020-09-07T20:04:07.493938Z",
     "shell.execute_reply": "2020-09-07T20:04:07.493474Z"
    },
    "papermill": {
     "duration": 0.042612,
     "end_time": "2020-09-07T20:04:07.494051",
     "exception": false,
     "start_time": "2020-09-07T20:04:07.451439",
     "status": "completed"
    },
    "tags": []
   },
   "outputs": [
    {
     "data": {
      "text/plain": [
       "((11982, 28, 28), (1984, 28, 28))"
      ]
     },
     "execution_count": 12,
     "metadata": {},
     "output_type": "execute_result"
    }
   ],
   "source": [
    "X_train.shape, X_test.shape"
   ]
  },
  {
   "cell_type": "markdown",
   "metadata": {
    "papermill": {
     "duration": 0.026705,
     "end_time": "2020-09-07T20:04:07.547601",
     "exception": false,
     "start_time": "2020-09-07T20:04:07.520896",
     "status": "completed"
    },
    "tags": []
   },
   "source": [
    "### Reshape the input data to create a linear array"
   ]
  },
  {
   "cell_type": "code",
   "execution_count": 13,
   "metadata": {
    "execution": {
     "iopub.execute_input": "2020-09-07T20:04:07.608258Z",
     "iopub.status.busy": "2020-09-07T20:04:07.607716Z",
     "iopub.status.idle": "2020-09-07T20:04:07.621434Z",
     "shell.execute_reply": "2020-09-07T20:04:07.621843Z"
    },
    "papermill": {
     "duration": 0.047711,
     "end_time": "2020-09-07T20:04:07.621970",
     "exception": false,
     "start_time": "2020-09-07T20:04:07.574259",
     "status": "completed"
    },
    "tags": []
   },
   "outputs": [
    {
     "data": {
      "text/plain": [
       "((11982, 784), (1984, 784))"
      ]
     },
     "execution_count": 13,
     "metadata": {},
     "output_type": "execute_result"
    }
   ],
   "source": [
    "X_train = X_train.reshape(X_train.shape[0], -1)\n",
    "X_test = X_test.reshape(X_test.shape[0], -1)\n",
    "X_train.shape, X_test.shape"
   ]
  },
  {
   "cell_type": "markdown",
   "metadata": {
    "papermill": {
     "duration": 0.02675,
     "end_time": "2020-09-07T20:04:07.674979",
     "exception": false,
     "start_time": "2020-09-07T20:04:07.648229",
     "status": "completed"
    },
    "tags": []
   },
   "source": [
    "### Importing appropriate functions from 'Kudzu'"
   ]
  },
  {
   "cell_type": "code",
   "execution_count": 14,
   "metadata": {
    "execution": {
     "iopub.execute_input": "2020-09-07T20:04:07.733105Z",
     "iopub.status.busy": "2020-09-07T20:04:07.732545Z",
     "iopub.status.idle": "2020-09-07T20:04:07.752704Z",
     "shell.execute_reply": "2020-09-07T20:04:07.752245Z"
    },
    "papermill": {
     "duration": 0.050792,
     "end_time": "2020-09-07T20:04:07.752814",
     "exception": false,
     "start_time": "2020-09-07T20:04:07.702022",
     "status": "completed"
    },
    "tags": []
   },
   "outputs": [],
   "source": [
    "from kudzu.layer import Sigmoid\n",
    "from kudzu.layer import Relu\n",
    "from kudzu.layer import Affine, Sigmoid\n",
    "\n",
    "from kudzu.model import Model\n",
    "from kudzu.train import Learner\n",
    "from kudzu.optim import GD\n",
    "from kudzu.data import Data, Dataloader, Sampler\n",
    "\n",
    "from kudzu.callbacks import AccCallback\n",
    "from kudzu.callbacks import ClfCallback\n",
    "\n",
    "from kudzu.loss import MSE"
   ]
  },
  {
   "cell_type": "markdown",
   "metadata": {
    "papermill": {
     "duration": 0.027471,
     "end_time": "2020-09-07T20:04:07.806678",
     "exception": false,
     "start_time": "2020-09-07T20:04:07.779207",
     "status": "completed"
    },
    "tags": []
   },
   "source": [
    "### Let us create a `Config` class, to store important parameters. \n",
    "This class essentially plays the role of a dictionary."
   ]
  },
  {
   "cell_type": "code",
   "execution_count": 15,
   "metadata": {
    "execution": {
     "iopub.execute_input": "2020-09-07T20:04:07.868295Z",
     "iopub.status.busy": "2020-09-07T20:04:07.867700Z",
     "iopub.status.idle": "2020-09-07T20:04:07.877284Z",
     "shell.execute_reply": "2020-09-07T20:04:07.876820Z"
    },
    "papermill": {
     "duration": 0.044096,
     "end_time": "2020-09-07T20:04:07.877406",
     "exception": false,
     "start_time": "2020-09-07T20:04:07.833310",
     "status": "completed"
    },
    "tags": []
   },
   "outputs": [],
   "source": [
    "class Config:\n",
    "    pass\n",
    "config = Config()\n",
    "config.lr = 0.001\n",
    "config.num_epochs = 251\n",
    "config.bs = 50"
   ]
  },
  {
   "cell_type": "markdown",
   "metadata": {
    "papermill": {
     "duration": 0.026983,
     "end_time": "2020-09-07T20:04:07.931185",
     "exception": false,
     "start_time": "2020-09-07T20:04:07.904202",
     "status": "completed"
    },
    "tags": []
   },
   "source": [
    "### Initializing data to the variables"
   ]
  },
  {
   "cell_type": "code",
   "execution_count": 16,
   "metadata": {
    "execution": {
     "iopub.execute_input": "2020-09-07T20:04:07.989862Z",
     "iopub.status.busy": "2020-09-07T20:04:07.989286Z",
     "iopub.status.idle": "2020-09-07T20:04:08.001975Z",
     "shell.execute_reply": "2020-09-07T20:04:08.001512Z"
    },
    "papermill": {
     "duration": 0.043901,
     "end_time": "2020-09-07T20:04:08.002105",
     "exception": false,
     "start_time": "2020-09-07T20:04:07.958204",
     "status": "completed"
    },
    "tags": []
   },
   "outputs": [],
   "source": [
    "data = Data(X_train, y_train.reshape(-1,1))\n",
    "sampler = Sampler(data, config.bs, shuffle=True)\n",
    "\n",
    "dl = Dataloader(data, sampler)\n",
    "\n",
    "opt = GD(config.lr)\n",
    "loss = MSE()"
   ]
  },
  {
   "cell_type": "code",
   "execution_count": 17,
   "metadata": {
    "execution": {
     "iopub.execute_input": "2020-09-07T20:04:08.059286Z",
     "iopub.status.busy": "2020-09-07T20:04:08.058716Z",
     "iopub.status.idle": "2020-09-07T20:04:08.074722Z",
     "shell.execute_reply": "2020-09-07T20:04:08.075220Z"
    },
    "papermill": {
     "duration": 0.046592,
     "end_time": "2020-09-07T20:04:08.075350",
     "exception": false,
     "start_time": "2020-09-07T20:04:08.028758",
     "status": "completed"
    },
    "tags": []
   },
   "outputs": [],
   "source": [
    "training_xdata = X_train\n",
    "testing_xdata = X_test\n",
    "training_ydata = y_train.reshape(-1,1)\n",
    "testing_ydata = y_test.reshape(-1,1)"
   ]
  },
  {
   "cell_type": "markdown",
   "metadata": {
    "papermill": {
     "duration": 0.028401,
     "end_time": "2020-09-07T20:04:08.130403",
     "exception": false,
     "start_time": "2020-09-07T20:04:08.102002",
     "status": "completed"
    },
    "tags": []
   },
   "source": [
    "### Running Models with the Training data\n",
    "Details about the network layers:\n",
    "- A first affine layer has 784 inputs and does 100 affine transforms. These are followed by a Relu\n",
    "- A second affine layer has 100 inputs from the 100 activations of the past layer, and does 100 affine transforms. These are followed by a Relu\n",
    "- A third affine layer has 100 activations and does 2 affine transformations to create an embedding for visualization. There is no non-linearity here.\n",
    "- A final \"logistic regression\" which has an affine transform from 2 inputs to 1 output, which is squeezed through a sigmoid.\n",
    "\n",
    "Help taken from Anshuman's Notebook."
   ]
  },
  {
   "cell_type": "code",
   "execution_count": 18,
   "metadata": {
    "execution": {
     "iopub.execute_input": "2020-09-07T20:04:08.192608Z",
     "iopub.status.busy": "2020-09-07T20:04:08.192048Z",
     "iopub.status.idle": "2020-09-07T20:04:08.206978Z",
     "shell.execute_reply": "2020-09-07T20:04:08.207424Z"
    },
    "papermill": {
     "duration": 0.049741,
     "end_time": "2020-09-07T20:04:08.207555",
     "exception": false,
     "start_time": "2020-09-07T20:04:08.157814",
     "status": "completed"
    },
    "tags": []
   },
   "outputs": [],
   "source": [
    "# layers for the Neural Network\n",
    "layers = [Affine(\"first\", 784, 100), Relu(\"first\"), Affine(\"second\", 100, 100), Relu(\"second\"), Affine(\"third\", 100, 2), Affine(\"final\", 2, 1), Sigmoid(\"final\")]\n",
    "model_nn = Model(layers)\n",
    "\n",
    "# layers for the Logistic Regression\n",
    "layers_lr = [Affine(\"logits\", 784, 1), Sigmoid(\"sigmoid\")]\n",
    "model_lr = Model(layers_lr)"
   ]
  },
  {
   "cell_type": "code",
   "execution_count": 19,
   "metadata": {
    "execution": {
     "iopub.execute_input": "2020-09-07T20:04:08.267359Z",
     "iopub.status.busy": "2020-09-07T20:04:08.266755Z",
     "iopub.status.idle": "2020-09-07T20:04:08.280683Z",
     "shell.execute_reply": "2020-09-07T20:04:08.280202Z"
    },
    "papermill": {
     "duration": 0.046013,
     "end_time": "2020-09-07T20:04:08.280809",
     "exception": false,
     "start_time": "2020-09-07T20:04:08.234796",
     "status": "completed"
    },
    "tags": []
   },
   "outputs": [],
   "source": [
    "# suffix _nn stands for Neural Network.\n",
    "learner_nn = Learner(loss, model_nn, opt, config.num_epochs)\n",
    "acc_nn = ClfCallback(learner_nn, config.bs, training_xdata , testing_xdata, training_ydata, testing_ydata)\n",
    "learner_nn.set_callbacks([acc_nn])"
   ]
  },
  {
   "cell_type": "code",
   "execution_count": 20,
   "metadata": {
    "execution": {
     "iopub.execute_input": "2020-09-07T20:04:08.343045Z",
     "iopub.status.busy": "2020-09-07T20:04:08.342453Z",
     "iopub.status.idle": "2020-09-07T20:05:31.217055Z",
     "shell.execute_reply": "2020-09-07T20:05:31.216564Z"
    },
    "papermill": {
     "duration": 82.908911,
     "end_time": "2020-09-07T20:05:31.217193",
     "exception": false,
     "start_time": "2020-09-07T20:04:08.308282",
     "status": "completed"
    },
    "tags": []
   },
   "outputs": [
    {
     "name": "stdout",
     "output_type": "stream",
     "text": [
      "====== Neural Network ======\n"
     ]
    },
    {
     "name": "stdout",
     "output_type": "stream",
     "text": [
      "Epoch 0, Loss 0.2445\n",
      "Training Accuracy: 0.7132, Testing Accuracy: 0.7409\n",
      "\n"
     ]
    },
    {
     "name": "stdout",
     "output_type": "stream",
     "text": [
      "Epoch 10, Loss 0.0651\n",
      "Training Accuracy: 0.9355, Testing Accuracy: 0.9486\n",
      "\n"
     ]
    },
    {
     "name": "stdout",
     "output_type": "stream",
     "text": [
      "Epoch 20, Loss 0.0439\n",
      "Training Accuracy: 0.9530, Testing Accuracy: 0.9622\n",
      "\n"
     ]
    },
    {
     "name": "stdout",
     "output_type": "stream",
     "text": [
      "Epoch 30, Loss 0.0365\n",
      "Training Accuracy: 0.9582, Testing Accuracy: 0.9682\n",
      "\n"
     ]
    },
    {
     "name": "stdout",
     "output_type": "stream",
     "text": [
      "Epoch 40, Loss 0.0325\n",
      "Training Accuracy: 0.9623, Testing Accuracy: 0.9698\n",
      "\n"
     ]
    },
    {
     "name": "stdout",
     "output_type": "stream",
     "text": [
      "Epoch 50, Loss 0.0299\n",
      "Training Accuracy: 0.9654, Testing Accuracy: 0.9698\n",
      "\n"
     ]
    },
    {
     "name": "stdout",
     "output_type": "stream",
     "text": [
      "Epoch 60, Loss 0.028\n",
      "Training Accuracy: 0.9675, Testing Accuracy: 0.9718\n",
      "\n"
     ]
    },
    {
     "name": "stdout",
     "output_type": "stream",
     "text": [
      "Epoch 70, Loss 0.0265\n",
      "Training Accuracy: 0.9700, Testing Accuracy: 0.9738\n",
      "\n"
     ]
    },
    {
     "name": "stdout",
     "output_type": "stream",
     "text": [
      "Epoch 80, Loss 0.0253\n",
      "Training Accuracy: 0.9709, Testing Accuracy: 0.9738\n",
      "\n"
     ]
    },
    {
     "name": "stdout",
     "output_type": "stream",
     "text": [
      "Epoch 90, Loss 0.0243\n",
      "Training Accuracy: 0.9722, Testing Accuracy: 0.9738\n",
      "\n"
     ]
    },
    {
     "name": "stdout",
     "output_type": "stream",
     "text": [
      "Epoch 100, Loss 0.0233\n",
      "Training Accuracy: 0.9730, Testing Accuracy: 0.9743\n",
      "\n"
     ]
    },
    {
     "name": "stdout",
     "output_type": "stream",
     "text": [
      "Epoch 110, Loss 0.0225\n",
      "Training Accuracy: 0.9736, Testing Accuracy: 0.9748\n",
      "\n"
     ]
    },
    {
     "name": "stdout",
     "output_type": "stream",
     "text": [
      "Epoch 120, Loss 0.0218\n",
      "Training Accuracy: 0.9750, Testing Accuracy: 0.9753\n",
      "\n"
     ]
    },
    {
     "name": "stdout",
     "output_type": "stream",
     "text": [
      "Epoch 130, Loss 0.0211\n",
      "Training Accuracy: 0.9757, Testing Accuracy: 0.9758\n",
      "\n"
     ]
    },
    {
     "name": "stdout",
     "output_type": "stream",
     "text": [
      "Epoch 140, Loss 0.0205\n",
      "Training Accuracy: 0.9765, Testing Accuracy: 0.9763\n",
      "\n"
     ]
    },
    {
     "name": "stdout",
     "output_type": "stream",
     "text": [
      "Epoch 150, Loss 0.0199\n",
      "Training Accuracy: 0.9772, Testing Accuracy: 0.9763\n",
      "\n"
     ]
    },
    {
     "name": "stdout",
     "output_type": "stream",
     "text": [
      "Epoch 160, Loss 0.0194\n",
      "Training Accuracy: 0.9781, Testing Accuracy: 0.9753\n",
      "\n"
     ]
    },
    {
     "name": "stdout",
     "output_type": "stream",
     "text": [
      "Epoch 170, Loss 0.0189\n",
      "Training Accuracy: 0.9787, Testing Accuracy: 0.9763\n",
      "\n"
     ]
    },
    {
     "name": "stdout",
     "output_type": "stream",
     "text": [
      "Epoch 180, Loss 0.0184\n",
      "Training Accuracy: 0.9793, Testing Accuracy: 0.9768\n",
      "\n"
     ]
    },
    {
     "name": "stdout",
     "output_type": "stream",
     "text": [
      "Epoch 190, Loss 0.0179\n",
      "Training Accuracy: 0.9800, Testing Accuracy: 0.9768\n",
      "\n"
     ]
    },
    {
     "name": "stdout",
     "output_type": "stream",
     "text": [
      "Epoch 200, Loss 0.0175\n",
      "Training Accuracy: 0.9807, Testing Accuracy: 0.9768\n",
      "\n"
     ]
    },
    {
     "name": "stdout",
     "output_type": "stream",
     "text": [
      "Epoch 210, Loss 0.0171\n",
      "Training Accuracy: 0.9810, Testing Accuracy: 0.9778\n",
      "\n"
     ]
    },
    {
     "name": "stdout",
     "output_type": "stream",
     "text": [
      "Epoch 220, Loss 0.0167\n",
      "Training Accuracy: 0.9816, Testing Accuracy: 0.9788\n",
      "\n"
     ]
    },
    {
     "name": "stdout",
     "output_type": "stream",
     "text": [
      "Epoch 230, Loss 0.0164\n",
      "Training Accuracy: 0.9820, Testing Accuracy: 0.9798\n",
      "\n"
     ]
    },
    {
     "name": "stdout",
     "output_type": "stream",
     "text": [
      "Epoch 240, Loss 0.016\n",
      "Training Accuracy: 0.9827, Testing Accuracy: 0.9798\n",
      "\n"
     ]
    },
    {
     "name": "stdout",
     "output_type": "stream",
     "text": [
      "Epoch 250, Loss 0.0156\n",
      "Training Accuracy: 0.9834, Testing Accuracy: 0.9798\n",
      "\n"
     ]
    },
    {
     "data": {
      "text/plain": [
       "0.019839133052362023"
      ]
     },
     "execution_count": 20,
     "metadata": {},
     "output_type": "execute_result"
    }
   ],
   "source": [
    "print(\"====== Neural Network ======\")\n",
    "learner_nn.train_loop(dl)"
   ]
  },
  {
   "cell_type": "markdown",
   "metadata": {
    "papermill": {
     "duration": 0.035194,
     "end_time": "2020-09-07T20:05:31.288517",
     "exception": false,
     "start_time": "2020-09-07T20:05:31.253323",
     "status": "completed"
    },
    "tags": []
   },
   "source": [
    "### Logistic Regression based Implementation."
   ]
  },
  {
   "cell_type": "code",
   "execution_count": 21,
   "metadata": {
    "execution": {
     "iopub.execute_input": "2020-09-07T20:05:31.364260Z",
     "iopub.status.busy": "2020-09-07T20:05:31.362707Z",
     "iopub.status.idle": "2020-09-07T20:05:31.374542Z",
     "shell.execute_reply": "2020-09-07T20:05:31.374955Z"
    },
    "papermill": {
     "duration": 0.052228,
     "end_time": "2020-09-07T20:05:31.375122",
     "exception": false,
     "start_time": "2020-09-07T20:05:31.322894",
     "status": "completed"
    },
    "tags": []
   },
   "outputs": [],
   "source": [
    "learner_lr = Learner(loss, model_lr, opt, config.num_epochs)\n",
    "acc_lr = ClfCallback(learner_lr, config.bs, training_xdata , testing_xdata, training_ydata, testing_ydata)\n",
    "learner_lr.set_callbacks([acc_lr])"
   ]
  },
  {
   "cell_type": "code",
   "execution_count": 22,
   "metadata": {
    "execution": {
     "iopub.execute_input": "2020-09-07T20:05:31.448901Z",
     "iopub.status.busy": "2020-09-07T20:05:31.448333Z",
     "iopub.status.idle": "2020-09-07T20:05:46.539664Z",
     "shell.execute_reply": "2020-09-07T20:05:46.540437Z"
    },
    "papermill": {
     "duration": 15.130277,
     "end_time": "2020-09-07T20:05:46.540592",
     "exception": false,
     "start_time": "2020-09-07T20:05:31.410315",
     "status": "completed"
    },
    "tags": []
   },
   "outputs": [
    {
     "name": "stdout",
     "output_type": "stream",
     "text": [
      "====== Logistic Regression ======\n",
      "Epoch 0, Loss 0.2077\n",
      "Training Accuracy: 0.7753, Testing Accuracy: 0.7939\n",
      "\n"
     ]
    },
    {
     "name": "stdout",
     "output_type": "stream",
     "text": [
      "Epoch 10, Loss 0.1029\n",
      "Training Accuracy: 0.9028, Testing Accuracy: 0.9118\n",
      "\n"
     ]
    },
    {
     "name": "stdout",
     "output_type": "stream",
     "text": [
      "Epoch 20, Loss 0.0799\n",
      "Training Accuracy: 0.9232, Testing Accuracy: 0.9340\n",
      "\n"
     ]
    },
    {
     "name": "stdout",
     "output_type": "stream",
     "text": [
      "Epoch 30, Loss 0.0688\n",
      "Training Accuracy: 0.9333, Testing Accuracy: 0.9451\n",
      "\n"
     ]
    },
    {
     "name": "stdout",
     "output_type": "stream",
     "text": [
      "Epoch 40, Loss 0.0621\n",
      "Training Accuracy: 0.9402, Testing Accuracy: 0.9511\n",
      "\n"
     ]
    },
    {
     "name": "stdout",
     "output_type": "stream",
     "text": [
      "Epoch 50, Loss 0.0574\n",
      "Training Accuracy: 0.9438, Testing Accuracy: 0.9541\n",
      "\n"
     ]
    },
    {
     "name": "stdout",
     "output_type": "stream",
     "text": [
      "Epoch 60, Loss 0.054\n",
      "Training Accuracy: 0.9476, Testing Accuracy: 0.9567\n",
      "\n"
     ]
    },
    {
     "name": "stdout",
     "output_type": "stream",
     "text": [
      "Epoch 70, Loss 0.0514\n",
      "Training Accuracy: 0.9510, Testing Accuracy: 0.9582\n",
      "\n"
     ]
    },
    {
     "name": "stdout",
     "output_type": "stream",
     "text": [
      "Epoch 80, Loss 0.0493\n",
      "Training Accuracy: 0.9523, Testing Accuracy: 0.9597\n",
      "\n"
     ]
    },
    {
     "name": "stdout",
     "output_type": "stream",
     "text": [
      "Epoch 90, Loss 0.0476\n",
      "Training Accuracy: 0.9532, Testing Accuracy: 0.9602\n",
      "\n"
     ]
    },
    {
     "name": "stdout",
     "output_type": "stream",
     "text": [
      "Epoch 100, Loss 0.0461\n",
      "Training Accuracy: 0.9550, Testing Accuracy: 0.9617\n",
      "\n"
     ]
    },
    {
     "name": "stdout",
     "output_type": "stream",
     "text": [
      "Epoch 110, Loss 0.0449\n",
      "Training Accuracy: 0.9554, Testing Accuracy: 0.9627\n",
      "\n"
     ]
    },
    {
     "name": "stdout",
     "output_type": "stream",
     "text": [
      "Epoch 120, Loss 0.0438\n",
      "Training Accuracy: 0.9563, Testing Accuracy: 0.9627\n",
      "\n"
     ]
    },
    {
     "name": "stdout",
     "output_type": "stream",
     "text": [
      "Epoch 130, Loss 0.0429\n",
      "Training Accuracy: 0.9569, Testing Accuracy: 0.9632\n",
      "\n"
     ]
    },
    {
     "name": "stdout",
     "output_type": "stream",
     "text": [
      "Epoch 140, Loss 0.042\n",
      "Training Accuracy: 0.9574, Testing Accuracy: 0.9637\n",
      "\n"
     ]
    },
    {
     "name": "stdout",
     "output_type": "stream",
     "text": [
      "Epoch 150, Loss 0.0413\n",
      "Training Accuracy: 0.9580, Testing Accuracy: 0.9642\n",
      "\n"
     ]
    },
    {
     "name": "stdout",
     "output_type": "stream",
     "text": [
      "Epoch 160, Loss 0.0406\n",
      "Training Accuracy: 0.9584, Testing Accuracy: 0.9652\n",
      "\n"
     ]
    },
    {
     "name": "stdout",
     "output_type": "stream",
     "text": [
      "Epoch 170, Loss 0.04\n",
      "Training Accuracy: 0.9589, Testing Accuracy: 0.9662\n",
      "\n"
     ]
    },
    {
     "name": "stdout",
     "output_type": "stream",
     "text": [
      "Epoch 180, Loss 0.0394\n",
      "Training Accuracy: 0.9590, Testing Accuracy: 0.9657\n",
      "\n"
     ]
    },
    {
     "name": "stdout",
     "output_type": "stream",
     "text": [
      "Epoch 190, Loss 0.0389\n",
      "Training Accuracy: 0.9595, Testing Accuracy: 0.9662\n",
      "\n"
     ]
    },
    {
     "name": "stdout",
     "output_type": "stream",
     "text": [
      "Epoch 200, Loss 0.0384\n",
      "Training Accuracy: 0.9602, Testing Accuracy: 0.9662\n",
      "\n"
     ]
    },
    {
     "name": "stdout",
     "output_type": "stream",
     "text": [
      "Epoch 210, Loss 0.038\n",
      "Training Accuracy: 0.9607, Testing Accuracy: 0.9662\n",
      "\n"
     ]
    },
    {
     "name": "stdout",
     "output_type": "stream",
     "text": [
      "Epoch 220, Loss 0.0375\n",
      "Training Accuracy: 0.9610, Testing Accuracy: 0.9662\n",
      "\n"
     ]
    },
    {
     "name": "stdout",
     "output_type": "stream",
     "text": [
      "Epoch 230, Loss 0.0372\n",
      "Training Accuracy: 0.9613, Testing Accuracy: 0.9667\n",
      "\n"
     ]
    },
    {
     "name": "stdout",
     "output_type": "stream",
     "text": [
      "Epoch 240, Loss 0.0368\n",
      "Training Accuracy: 0.9619, Testing Accuracy: 0.9662\n",
      "\n"
     ]
    },
    {
     "name": "stdout",
     "output_type": "stream",
     "text": [
      "Epoch 250, Loss 0.0365\n",
      "Training Accuracy: 0.9622, Testing Accuracy: 0.9662\n",
      "\n"
     ]
    },
    {
     "data": {
      "text/plain": [
       "0.027438435293553894"
      ]
     },
     "execution_count": 22,
     "metadata": {},
     "output_type": "execute_result"
    }
   ],
   "source": [
    "print(\"====== Logistic Regression ======\")\n",
    "learner_lr.train_loop(dl)"
   ]
  },
  {
   "cell_type": "markdown",
   "metadata": {
    "papermill": {
     "duration": 0.043165,
     "end_time": "2020-09-07T20:05:46.627315",
     "exception": false,
     "start_time": "2020-09-07T20:05:46.584150",
     "status": "completed"
    },
    "tags": []
   },
   "source": [
    "### Comparing results of NN and LR"
   ]
  },
  {
   "cell_type": "code",
   "execution_count": 23,
   "metadata": {
    "execution": {
     "iopub.execute_input": "2020-09-07T20:05:46.720296Z",
     "iopub.status.busy": "2020-09-07T20:05:46.719254Z",
     "iopub.status.idle": "2020-09-07T20:05:46.954142Z",
     "shell.execute_reply": "2020-09-07T20:05:46.953658Z"
    },
    "papermill": {
     "duration": 0.283902,
     "end_time": "2020-09-07T20:05:46.954293",
     "exception": false,
     "start_time": "2020-09-07T20:05:46.670391",
     "status": "completed"
    },
    "tags": []
   },
   "outputs": [
    {
     "data": {
      "text/plain": [
       "<matplotlib.legend.Legend at 0x7faa1b2d5320>"
      ]
     },
     "execution_count": 23,
     "metadata": {},
     "output_type": "execute_result"
    },
    {
     "data": {
      "image/png": "[encoded data removed]",
      "text/plain": [
       "<Figure size 1080x720 with 1 Axes>"
      ]
     },
     "metadata": {
      "needs_background": "light"
     },
     "output_type": "display_data"
    }
   ],
   "source": [
    "plt.figure(figsize=(15,10))\n",
    "\n",
    "# Neural Network plots\n",
    "plt.plot(acc_nn.accuracies, 'r-', label = \"Training Accuracies - NN\")\n",
    "plt.plot(acc_nn.test_accuracies, 'g-', label = \"Testing Accuracies - NN\")\n",
    "\n",
    "# Logistic Regression plots\n",
    "plt.plot(acc_lr.accuracies, 'k-', label = \"Training Accuracies - LR\")\n",
    "plt.plot(acc_lr.test_accuracies, 'b-', label = \"Testing Accuracies - LR\")\n",
    "\n",
    "plt.ylim(0.8, 1)\n",
    "\n",
    "plt.legend()\n",
    "\n"
   ]
  },
  {
   "cell_type": "markdown",
   "metadata": {
    "papermill": {
     "duration": 0.043451,
     "end_time": "2020-09-07T20:05:47.041219",
     "exception": false,
     "start_time": "2020-09-07T20:05:46.997768",
     "status": "completed"
    },
    "tags": []
   },
   "source": [
    "### From the plot, we can observe the following:\n",
    "- Neural Network achieves higher accuracy than the Logistic Regression model.\n",
    "- This apparently, is because of overfitting, i.e. NN captures more noise than data.\n",
    "- Testing accuracy of NN drops below the Training accuracy at higher epochs. This explains the over-fitting on training data.\n",
    "- Logistic Regression gives a reliable accuracy, without the above mentioned problem.\n"
   ]
  },
  {
   "cell_type": "markdown",
   "metadata": {
    "papermill": {
     "duration": 0.044835,
     "end_time": "2020-09-07T20:05:47.129968",
     "exception": false,
     "start_time": "2020-09-07T20:05:47.085133",
     "status": "completed"
    },
    "tags": []
   },
   "source": [
    "### Moving till the last but one layer (excluding it).\n",
    "#### Plotting the outputs of this layer of the NN."
   ]
  },
  {
   "cell_type": "code",
   "execution_count": 24,
   "metadata": {
    "execution": {
     "iopub.execute_input": "2020-09-07T20:05:47.223245Z",
     "iopub.status.busy": "2020-09-07T20:05:47.222641Z",
     "iopub.status.idle": "2020-09-07T20:05:47.235283Z",
     "shell.execute_reply": "2020-09-07T20:05:47.234695Z"
    },
    "papermill": {
     "duration": 0.061395,
     "end_time": "2020-09-07T20:05:47.235413",
     "exception": false,
     "start_time": "2020-09-07T20:05:47.174018",
     "status": "completed"
    },
    "tags": []
   },
   "outputs": [],
   "source": [
    "model_new = Model(layers[:-2])"
   ]
  },
  {
   "cell_type": "code",
   "execution_count": 25,
   "metadata": {
    "execution": {
     "iopub.execute_input": "2020-09-07T20:05:47.334829Z",
     "iopub.status.busy": "2020-09-07T20:05:47.334242Z",
     "iopub.status.idle": "2020-09-07T20:05:47.351069Z",
     "shell.execute_reply": "2020-09-07T20:05:47.351546Z"
    },
    "papermill": {
     "duration": 0.071434,
     "end_time": "2020-09-07T20:05:47.351703",
     "exception": false,
     "start_time": "2020-09-07T20:05:47.280269",
     "status": "completed"
    },
    "tags": []
   },
   "outputs": [],
   "source": [
    "plot_testing = model_new(testing_xdata)"
   ]
  },
  {
   "cell_type": "code",
   "execution_count": 26,
   "metadata": {
    "execution": {
     "iopub.execute_input": "2020-09-07T20:05:47.448410Z",
     "iopub.status.busy": "2020-09-07T20:05:47.447871Z",
     "iopub.status.idle": "2020-09-07T20:05:47.641472Z",
     "shell.execute_reply": "2020-09-07T20:05:47.641948Z"
    },
    "papermill": {
     "duration": 0.245397,
     "end_time": "2020-09-07T20:05:47.642107",
     "exception": false,
     "start_time": "2020-09-07T20:05:47.396710",
     "status": "completed"
    },
    "tags": []
   },
   "outputs": [
    {
     "data": {
      "text/plain": [
       "Text(0.5, 1.0, 'Outputs')"
      ]
     },
     "execution_count": 26,
     "metadata": {},
     "output_type": "execute_result"
    },
    {
     "data": {
      "image/png": "[encoded data removed]",
      "text/plain": [
       "<Figure size 576x504 with 1 Axes>"
      ]
     },
     "metadata": {
      "needs_background": "light"
     },
     "output_type": "display_data"
    }
   ],
   "source": [
    "plt.figure(figsize=(8,7))\n",
    "plt.scatter(plot_testing[:,0], plot_testing[:,1], alpha = 0.1, c = y_test.ravel());\n",
    "plt.title('Outputs')"
   ]
  },
  {
   "cell_type": "markdown",
   "metadata": {
    "papermill": {
     "duration": 0.045179,
     "end_time": "2020-09-07T20:05:47.735172",
     "exception": false,
     "start_time": "2020-09-07T20:05:47.689993",
     "status": "completed"
    },
    "tags": []
   },
   "source": [
    "### Plotting probability contours"
   ]
  },
  {
   "cell_type": "code",
   "execution_count": 27,
   "metadata": {
    "execution": {
     "iopub.execute_input": "2020-09-07T20:05:47.830530Z",
     "iopub.status.busy": "2020-09-07T20:05:47.829944Z",
     "iopub.status.idle": "2020-09-07T20:05:47.843442Z",
     "shell.execute_reply": "2020-09-07T20:05:47.842467Z"
    },
    "papermill": {
     "duration": 0.063614,
     "end_time": "2020-09-07T20:05:47.843566",
     "exception": false,
     "start_time": "2020-09-07T20:05:47.779952",
     "status": "completed"
    },
    "tags": []
   },
   "outputs": [],
   "source": [
    "model_prob = Model(layers[-2:]) "
   ]
  },
  {
   "cell_type": "code",
   "execution_count": 28,
   "metadata": {
    "execution": {
     "iopub.execute_input": "2020-09-07T20:05:47.939478Z",
     "iopub.status.busy": "2020-09-07T20:05:47.937774Z",
     "iopub.status.idle": "2020-09-07T20:05:47.951711Z",
     "shell.execute_reply": "2020-09-07T20:05:47.952437Z"
    },
    "papermill": {
     "duration": 0.064254,
     "end_time": "2020-09-07T20:05:47.952613",
     "exception": false,
     "start_time": "2020-09-07T20:05:47.888359",
     "status": "completed"
    },
    "tags": []
   },
   "outputs": [],
   "source": [
    "# Adjust the x and y ranges according to the above generated plot.\n",
    "x_range = np.linspace(-4, 1, 100) \n",
    "y_range = np.linspace(-6, 6, 100) \n",
    "x_grid, y_grid = np.meshgrid(x_range, y_range) # x_grid and y_grig are of size 100 X 100\n",
    "\n",
    "# converting x_grid and y_grid to continuous arrays\n",
    "x_grid_flat = np.ravel(x_grid)\n",
    "y_grid_flat = np.ravel(y_grid)\n",
    "\n",
    "# The last layer of the current model takes two columns as input. Hence transpose of np.vstack() is required.\n",
    "X = np.vstack((x_grid_flat, y_grid_flat)).T\n",
    "\n",
    "# x_grid and y_grid are of size 100 x 100\n",
    "probability_contour = model_prob(X).reshape(100,100) "
   ]
  },
  {
   "cell_type": "code",
   "execution_count": 29,
   "metadata": {
    "execution": {
     "iopub.execute_input": "2020-09-07T20:05:48.060204Z",
     "iopub.status.busy": "2020-09-07T20:05:48.059659Z",
     "iopub.status.idle": "2020-09-07T20:05:48.294095Z",
     "shell.execute_reply": "2020-09-07T20:05:48.293106Z"
    },
    "papermill": {
     "duration": 0.295278,
     "end_time": "2020-09-07T20:05:48.294227",
     "exception": false,
     "start_time": "2020-09-07T20:05:47.998949",
     "status": "completed"
    },
    "tags": []
   },
   "outputs": [
    {
     "data": {
      "image/png": "[encoded data removed]",
      "text/plain": [
       "<Figure size 720x648 with 1 Axes>"
      ]
     },
     "metadata": {
      "needs_background": "light"
     },
     "output_type": "display_data"
    }
   ],
   "source": [
    "plt.figure(figsize=(10,9))\n",
    "plt.scatter(plot_testing[:,0], plot_testing[:,1], alpha = 0.1, c = y_test.ravel())\n",
    "contours = plt.contour(x_grid,y_grid,probability_contour)\n",
    "plt.title('Probability Contours')\n",
    "plt.clabel(contours, inline = True );"
   ]
  }
 ],
 "metadata": {
  "kernelspec": {
   "display_name": "Python 3",
   "language": "python",
   "name": "python3"
  },
  "language_info": {
   "codemirror_mode": {
    "name": "ipython",
    "version": 3
   },
   "file_extension": ".py",
   "mimetype": "text/x-python",
   "name": "python",
   "nbconvert_exporter": "python",
   "pygments_lexer": "ipython3",
   "version": "3.6.12"
  },
  "papermill": {
   "duration": 108.030728,
   "end_time": "2020-09-07T20:05:48.648406",
   "environment_variables": {},
   "exception": null,
   "input_path": "2020-08-11-NeuralNetwork.ipynb",
   "output_path": "2020-08-11-NeuralNetwork.ipynb",
   "parameters": {},
   "start_time": "2020-09-07T20:04:00.617678",
   "version": "2.1.2"
  }
 },
 "nbformat": 4,
 "nbformat_minor": 4
}