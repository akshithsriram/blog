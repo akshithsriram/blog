{
 "cells": [
  {
   "cell_type": "markdown",
   "id": "fitted-suggestion",
   "metadata": {
    "papermill": {
     "duration": 0.037185,
     "end_time": "2021-05-26T10:19:54.786678",
     "exception": false,
     "start_time": "2021-05-26T10:19:54.749493",
     "status": "completed"
    },
    "tags": []
   },
   "source": [
    "# \"A Basic Neural Network: Differentiate Hand-Written Digits\"\n",
    "\n",
    "- badges: true\n",
    "- author: Akshith Sriram"
   ]
  },
  {
   "cell_type": "markdown",
   "id": "signal-flexibility",
   "metadata": {
    "papermill": {
     "duration": 0.031371,
     "end_time": "2021-05-26T10:19:54.850876",
     "exception": false,
     "start_time": "2021-05-26T10:19:54.819505",
     "status": "completed"
    },
    "tags": []
   },
   "source": [
    "### Key Objectives:\n",
    "- Building a neural network that differentiates two hand-written digits 3 and 8.\n",
    "- Comparing the results of this Neural Network (NN) to that of a Logistic Regression (LR) model.\n",
    "\n",
    "### Requirements:\n",
    "- 'Kudzu' : A neural network library that was designed during our course by [Univ.AI](www.univ.ai). \n",
    "- MNIST Database\n",
    "\n",
    "If MNIST is not installed, use the command `!pip install mnist` given below.\n",
    "It can be run both from the command line and Jupyter Notebook."
   ]
  },
  {
   "cell_type": "code",
   "execution_count": 1,
   "id": "british-texture",
   "metadata": {
    "execution": {
     "iopub.execute_input": "2021-05-26T10:19:54.925909Z",
     "iopub.status.busy": "2021-05-26T10:19:54.925094Z",
     "iopub.status.idle": "2021-05-26T10:19:56.593576Z",
     "shell.execute_reply": "2021-05-26T10:19:56.592666Z"
    },
    "papermill": {
     "duration": 1.709392,
     "end_time": "2021-05-26T10:19:56.593738",
     "exception": false,
     "start_time": "2021-05-26T10:19:54.884346",
     "status": "completed"
    },
    "tags": []
   },
   "outputs": [
    {
     "name": "stdout",
     "output_type": "stream",
     "text": [
      "Collecting mnist\r\n"
     ]
    },
    {
     "name": "stdout",
     "output_type": "stream",
     "text": [
      "  Downloading mnist-0.2.2-py2.py3-none-any.whl (3.5 kB)\r\n",
      "Requirement already satisfied: numpy in /opt/hostedtoolcache/Python/3.6.13/x64/lib/python3.6/site-packages (from mnist) (1.19.5)\r\n"
     ]
    },
    {
     "name": "stdout",
     "output_type": "stream",
     "text": [
      "Installing collected packages: mnist\r\n"
     ]
    },
    {
     "name": "stdout",
     "output_type": "stream",
     "text": [
      "Successfully installed mnist-0.2.2\r\n",
      "\u001b[33mWARNING: You are using pip version 21.1.1; however, version 21.1.2 is available.\r\n",
      "You should consider upgrading via the '/opt/hostedtoolcache/Python/3.6.13/x64/bin/python -m pip install --upgrade pip' command.\u001b[0m\r\n"
     ]
    }
   ],
   "source": [
    "!pip install mnist "
   ]
  },
  {
   "cell_type": "markdown",
   "id": "stunning-extra",
   "metadata": {
    "papermill": {
     "duration": 0.034355,
     "end_time": "2021-05-26T10:19:56.658378",
     "exception": false,
     "start_time": "2021-05-26T10:19:56.624023",
     "status": "completed"
    },
    "tags": []
   },
   "source": [
    "#### Importing necessary libraries"
   ]
  },
  {
   "cell_type": "code",
   "execution_count": 2,
   "id": "wooden-france",
   "metadata": {
    "execution": {
     "iopub.execute_input": "2021-05-26T10:19:56.728750Z",
     "iopub.status.busy": "2021-05-26T10:19:56.728153Z",
     "iopub.status.idle": "2021-05-26T10:19:57.324506Z",
     "shell.execute_reply": "2021-05-26T10:19:57.323673Z"
    },
    "papermill": {
     "duration": 0.636476,
     "end_time": "2021-05-26T10:19:57.324694",
     "exception": false,
     "start_time": "2021-05-26T10:19:56.688218",
     "status": "completed"
    },
    "tags": []
   },
   "outputs": [],
   "source": [
    "%load_ext autoreload\n",
    "%autoreload 2\n",
    "\n",
    "%matplotlib inline\n",
    "import matplotlib.pyplot as plt\n",
    "\n",
    "import numpy as np\n",
    "import pandas as pd"
   ]
  },
  {
   "cell_type": "markdown",
   "id": "stunning-physics",
   "metadata": {
    "papermill": {
     "duration": 0.03148,
     "end_time": "2021-05-26T10:19:57.389601",
     "exception": false,
     "start_time": "2021-05-26T10:19:57.358121",
     "status": "completed"
    },
    "tags": []
   },
   "source": [
    "### Preparing the Data"
   ]
  },
  {
   "cell_type": "code",
   "execution_count": 3,
   "id": "unauthorized-remainder",
   "metadata": {
    "execution": {
     "iopub.execute_input": "2021-05-26T10:19:57.459513Z",
     "iopub.status.busy": "2021-05-26T10:19:57.458907Z",
     "iopub.status.idle": "2021-05-26T10:19:57.470244Z",
     "shell.execute_reply": "2021-05-26T10:19:57.469689Z"
    },
    "papermill": {
     "duration": 0.048492,
     "end_time": "2021-05-26T10:19:57.470359",
     "exception": false,
     "start_time": "2021-05-26T10:19:57.421867",
     "status": "completed"
    },
    "tags": []
   },
   "outputs": [],
   "source": [
    "import mnist"
   ]
  },
  {
   "cell_type": "code",
   "execution_count": 4,
   "id": "correct-antarctica",
   "metadata": {
    "execution": {
     "iopub.execute_input": "2021-05-26T10:19:57.537924Z",
     "iopub.status.busy": "2021-05-26T10:19:57.537164Z",
     "iopub.status.idle": "2021-05-26T10:24:37.089441Z",
     "shell.execute_reply": "2021-05-26T10:24:37.089988Z"
    },
    "papermill": {
     "duration": 279.588219,
     "end_time": "2021-05-26T10:24:37.090157",
     "exception": false,
     "start_time": "2021-05-26T10:19:57.501938",
     "status": "completed"
    },
    "tags": []
   },
   "outputs": [],
   "source": [
    "train_images = mnist.train_images()\n",
    "train_labels = mnist.train_labels()"
   ]
  },
  {
   "cell_type": "code",
   "execution_count": 5,
   "id": "musical-prospect",
   "metadata": {
    "execution": {
     "iopub.execute_input": "2021-05-26T10:24:37.171492Z",
     "iopub.status.busy": "2021-05-26T10:24:37.170881Z",
     "iopub.status.idle": "2021-05-26T10:24:37.180749Z",
     "shell.execute_reply": "2021-05-26T10:24:37.181211Z"
    },
    "papermill": {
     "duration": 0.058797,
     "end_time": "2021-05-26T10:24:37.181342",
     "exception": false,
     "start_time": "2021-05-26T10:24:37.122545",
     "status": "completed"
    },
    "tags": []
   },
   "outputs": [
    {
     "data": {
      "text/plain": [
       "((60000, 28, 28), (60000,))"
      ]
     },
     "execution_count": 5,
     "metadata": {},
     "output_type": "execute_result"
    }
   ],
   "source": [
    "train_images.shape, train_labels.shape"
   ]
  },
  {
   "cell_type": "code",
   "execution_count": 6,
   "id": "preliminary-elizabeth",
   "metadata": {
    "execution": {
     "iopub.execute_input": "2021-05-26T10:24:37.247857Z",
     "iopub.status.busy": "2021-05-26T10:24:37.247208Z",
     "iopub.status.idle": "2021-05-26T10:25:28.174054Z",
     "shell.execute_reply": "2021-05-26T10:25:28.172990Z"
    },
    "papermill": {
     "duration": 50.963148,
     "end_time": "2021-05-26T10:25:28.174188",
     "exception": false,
     "start_time": "2021-05-26T10:24:37.211040",
     "status": "completed"
    },
    "tags": []
   },
   "outputs": [],
   "source": [
    "test_images = mnist.test_images()\n",
    "test_labels = mnist.test_labels()"
   ]
  },
  {
   "cell_type": "code",
   "execution_count": 7,
   "id": "acknowledged-oxygen",
   "metadata": {
    "execution": {
     "iopub.execute_input": "2021-05-26T10:25:28.245182Z",
     "iopub.status.busy": "2021-05-26T10:25:28.240803Z",
     "iopub.status.idle": "2021-05-26T10:25:28.255513Z",
     "shell.execute_reply": "2021-05-26T10:25:28.256029Z"
    },
    "papermill": {
     "duration": 0.049066,
     "end_time": "2021-05-26T10:25:28.256168",
     "exception": false,
     "start_time": "2021-05-26T10:25:28.207102",
     "status": "completed"
    },
    "tags": []
   },
   "outputs": [
    {
     "data": {
      "text/plain": [
       "((10000, 28, 28), (10000,))"
      ]
     },
     "execution_count": 7,
     "metadata": {},
     "output_type": "execute_result"
    }
   ],
   "source": [
    "test_images.shape, test_labels.shape"
   ]
  },
  {
   "cell_type": "code",
   "execution_count": 8,
   "id": "innovative-organic",
   "metadata": {
    "execution": {
     "iopub.execute_input": "2021-05-26T10:25:28.351383Z",
     "iopub.status.busy": "2021-05-26T10:25:28.329375Z",
     "iopub.status.idle": "2021-05-26T10:25:28.514279Z",
     "shell.execute_reply": "2021-05-26T10:25:28.513670Z"
    },
    "papermill": {
     "duration": 0.226243,
     "end_time": "2021-05-26T10:25:28.514414",
     "exception": false,
     "start_time": "2021-05-26T10:25:28.288171",
     "status": "completed"
    },
    "tags": []
   },
   "outputs": [
    {
     "name": "stdout",
     "output_type": "stream",
     "text": [
      "2\n"
     ]
    },
    {
     "data": {
      "text/plain": [
       "<matplotlib.image.AxesImage at 0x7fae0e11d4a8>"
      ]
     },
     "execution_count": 8,
     "metadata": {},
     "output_type": "execute_result"
    },
    {
     "data": {
      "image/png": "[encoded data removed]",
      "text/plain": [
       "<Figure size 432x288 with 1 Axes>"
      ]
     },
     "metadata": {
      "needs_background": "light"
     },
     "output_type": "display_data"
    }
   ],
   "source": [
    "image_index = 7776 # You may select anything up to 60,000\n",
    "print(train_labels[image_index]) \n",
    "plt.imshow(train_images[image_index], cmap='Greys')"
   ]
  },
  {
   "cell_type": "markdown",
   "id": "facial-modem",
   "metadata": {
    "papermill": {
     "duration": 0.034686,
     "end_time": "2021-05-26T10:25:28.584329",
     "exception": false,
     "start_time": "2021-05-26T10:25:28.549643",
     "status": "completed"
    },
    "tags": []
   },
   "source": [
    "## Filter data to get 3 and 8 out"
   ]
  },
  {
   "cell_type": "code",
   "execution_count": 9,
   "id": "thousand-acquisition",
   "metadata": {
    "execution": {
     "iopub.execute_input": "2021-05-26T10:25:28.673705Z",
     "iopub.status.busy": "2021-05-26T10:25:28.666584Z",
     "iopub.status.idle": "2021-05-26T10:25:28.687710Z",
     "shell.execute_reply": "2021-05-26T10:25:28.687148Z"
    },
    "papermill": {
     "duration": 0.068631,
     "end_time": "2021-05-26T10:25:28.687858",
     "exception": false,
     "start_time": "2021-05-26T10:25:28.619227",
     "status": "completed"
    },
    "tags": []
   },
   "outputs": [],
   "source": [
    "train_filter = np.where((train_labels == 3 ) | (train_labels == 8))\n",
    "test_filter = np.where((test_labels == 3) | (test_labels == 8))\n",
    "X_train, y_train = train_images[train_filter], train_labels[train_filter]\n",
    "X_test, y_test = test_images[test_filter], test_labels[test_filter]"
   ]
  },
  {
   "cell_type": "markdown",
   "id": "ruled-access",
   "metadata": {
    "papermill": {
     "duration": 0.042312,
     "end_time": "2021-05-26T10:25:28.772210",
     "exception": false,
     "start_time": "2021-05-26T10:25:28.729898",
     "status": "completed"
    },
    "tags": []
   },
   "source": [
    "We normalize the pixel values in the 0 to 1 range"
   ]
  },
  {
   "cell_type": "code",
   "execution_count": 10,
   "id": "isolated-denver",
   "metadata": {
    "execution": {
     "iopub.execute_input": "2021-05-26T10:25:28.845962Z",
     "iopub.status.busy": "2021-05-26T10:25:28.845163Z",
     "iopub.status.idle": "2021-05-26T10:25:28.911875Z",
     "shell.execute_reply": "2021-05-26T10:25:28.912356Z"
    },
    "papermill": {
     "duration": 0.107295,
     "end_time": "2021-05-26T10:25:28.912511",
     "exception": false,
     "start_time": "2021-05-26T10:25:28.805216",
     "status": "completed"
    },
    "tags": []
   },
   "outputs": [],
   "source": [
    "X_train = X_train/255.\n",
    "X_test = X_test/255."
   ]
  },
  {
   "cell_type": "markdown",
   "id": "perfect-summary",
   "metadata": {
    "papermill": {
     "duration": 0.035298,
     "end_time": "2021-05-26T10:25:28.982077",
     "exception": false,
     "start_time": "2021-05-26T10:25:28.946779",
     "status": "completed"
    },
    "tags": []
   },
   "source": [
    "Setup the labels as 1 (when the digit is 3) and 0 (when the digit is 8)"
   ]
  },
  {
   "cell_type": "code",
   "execution_count": 11,
   "id": "personalized-growing",
   "metadata": {
    "execution": {
     "iopub.execute_input": "2021-05-26T10:25:29.060008Z",
     "iopub.status.busy": "2021-05-26T10:25:29.059427Z",
     "iopub.status.idle": "2021-05-26T10:25:29.073711Z",
     "shell.execute_reply": "2021-05-26T10:25:29.073114Z"
    },
    "papermill": {
     "duration": 0.05508,
     "end_time": "2021-05-26T10:25:29.073867",
     "exception": false,
     "start_time": "2021-05-26T10:25:29.018787",
     "status": "completed"
    },
    "tags": []
   },
   "outputs": [],
   "source": [
    "y_train = 1*(y_train==3)\n",
    "y_test = 1*(y_test==3)"
   ]
  },
  {
   "cell_type": "code",
   "execution_count": 12,
   "id": "considered-virgin",
   "metadata": {
    "execution": {
     "iopub.execute_input": "2021-05-26T10:25:29.151124Z",
     "iopub.status.busy": "2021-05-26T10:25:29.150410Z",
     "iopub.status.idle": "2021-05-26T10:25:29.164703Z",
     "shell.execute_reply": "2021-05-26T10:25:29.165239Z"
    },
    "papermill": {
     "duration": 0.056633,
     "end_time": "2021-05-26T10:25:29.165404",
     "exception": false,
     "start_time": "2021-05-26T10:25:29.108771",
     "status": "completed"
    },
    "tags": []
   },
   "outputs": [
    {
     "data": {
      "text/plain": [
       "((11982, 28, 28), (1984, 28, 28))"
      ]
     },
     "execution_count": 12,
     "metadata": {},
     "output_type": "execute_result"
    }
   ],
   "source": [
    "X_train.shape, X_test.shape"
   ]
  },
  {
   "cell_type": "markdown",
   "id": "civilian-mobile",
   "metadata": {
    "papermill": {
     "duration": 0.036849,
     "end_time": "2021-05-26T10:25:29.236929",
     "exception": false,
     "start_time": "2021-05-26T10:25:29.200080",
     "status": "completed"
    },
    "tags": []
   },
   "source": [
    "### Reshape the input data to create a linear array"
   ]
  },
  {
   "cell_type": "code",
   "execution_count": 13,
   "id": "colonial-adams",
   "metadata": {
    "execution": {
     "iopub.execute_input": "2021-05-26T10:25:29.315963Z",
     "iopub.status.busy": "2021-05-26T10:25:29.315288Z",
     "iopub.status.idle": "2021-05-26T10:25:29.328584Z",
     "shell.execute_reply": "2021-05-26T10:25:29.328104Z"
    },
    "papermill": {
     "duration": 0.054623,
     "end_time": "2021-05-26T10:25:29.328703",
     "exception": false,
     "start_time": "2021-05-26T10:25:29.274080",
     "status": "completed"
    },
    "tags": []
   },
   "outputs": [
    {
     "data": {
      "text/plain": [
       "((11982, 784), (1984, 784))"
      ]
     },
     "execution_count": 13,
     "metadata": {},
     "output_type": "execute_result"
    }
   ],
   "source": [
    "X_train = X_train.reshape(X_train.shape[0], -1)\n",
    "X_test = X_test.reshape(X_test.shape[0], -1)\n",
    "X_train.shape, X_test.shape"
   ]
  },
  {
   "cell_type": "markdown",
   "id": "smart-details",
   "metadata": {
    "papermill": {
     "duration": 0.035203,
     "end_time": "2021-05-26T10:25:29.399099",
     "exception": false,
     "start_time": "2021-05-26T10:25:29.363896",
     "status": "completed"
    },
    "tags": []
   },
   "source": [
    "### Importing appropriate functions from 'Kudzu'"
   ]
  },
  {
   "cell_type": "code",
   "execution_count": 14,
   "id": "celtic-trial",
   "metadata": {
    "execution": {
     "iopub.execute_input": "2021-05-26T10:25:29.480310Z",
     "iopub.status.busy": "2021-05-26T10:25:29.479668Z",
     "iopub.status.idle": "2021-05-26T10:25:29.498564Z",
     "shell.execute_reply": "2021-05-26T10:25:29.499043Z"
    },
    "papermill": {
     "duration": 0.061176,
     "end_time": "2021-05-26T10:25:29.499180",
     "exception": false,
     "start_time": "2021-05-26T10:25:29.438004",
     "status": "completed"
    },
    "tags": []
   },
   "outputs": [],
   "source": [
    "from kudzu.layer import Sigmoid\n",
    "from kudzu.layer import Relu\n",
    "from kudzu.layer import Affine, Sigmoid\n",
    "\n",
    "from kudzu.model import Model\n",
    "from kudzu.train import Learner\n",
    "from kudzu.optim import GD\n",
    "from kudzu.data import Data, Dataloader, Sampler\n",
    "\n",
    "from kudzu.callbacks import AccCallback\n",
    "from kudzu.callbacks import ClfCallback\n",
    "\n",
    "from kudzu.loss import MSE"
   ]
  },
  {
   "cell_type": "markdown",
   "id": "coupled-customer",
   "metadata": {
    "papermill": {
     "duration": 0.03624,
     "end_time": "2021-05-26T10:25:29.568916",
     "exception": false,
     "start_time": "2021-05-26T10:25:29.532676",
     "status": "completed"
    },
    "tags": []
   },
   "source": [
    "### Let us create a `Config` class, to store important parameters. \n",
    "This class essentially plays the role of a dictionary."
   ]
  },
  {
   "cell_type": "code",
   "execution_count": 15,
   "id": "young-ceiling",
   "metadata": {
    "execution": {
     "iopub.execute_input": "2021-05-26T10:25:29.641789Z",
     "iopub.status.busy": "2021-05-26T10:25:29.641259Z",
     "iopub.status.idle": "2021-05-26T10:25:29.654381Z",
     "shell.execute_reply": "2021-05-26T10:25:29.653939Z"
    },
    "papermill": {
     "duration": 0.053015,
     "end_time": "2021-05-26T10:25:29.654487",
     "exception": false,
     "start_time": "2021-05-26T10:25:29.601472",
     "status": "completed"
    },
    "tags": []
   },
   "outputs": [],
   "source": [
    "class Config:\n",
    "    pass\n",
    "config = Config()\n",
    "config.lr = 0.001\n",
    "config.num_epochs = 251\n",
    "config.bs = 50"
   ]
  },
  {
   "cell_type": "markdown",
   "id": "according-mandate",
   "metadata": {
    "papermill": {
     "duration": 0.033675,
     "end_time": "2021-05-26T10:25:29.723758",
     "exception": false,
     "start_time": "2021-05-26T10:25:29.690083",
     "status": "completed"
    },
    "tags": []
   },
   "source": [
    "### Initializing data to the variables"
   ]
  },
  {
   "cell_type": "code",
   "execution_count": 16,
   "id": "academic-disposition",
   "metadata": {
    "execution": {
     "iopub.execute_input": "2021-05-26T10:25:29.800682Z",
     "iopub.status.busy": "2021-05-26T10:25:29.799963Z",
     "iopub.status.idle": "2021-05-26T10:25:29.813847Z",
     "shell.execute_reply": "2021-05-26T10:25:29.813264Z"
    },
    "papermill": {
     "duration": 0.054282,
     "end_time": "2021-05-26T10:25:29.813972",
     "exception": false,
     "start_time": "2021-05-26T10:25:29.759690",
     "status": "completed"
    },
    "tags": []
   },
   "outputs": [],
   "source": [
    "data = Data(X_train, y_train.reshape(-1,1))\n",
    "sampler = Sampler(data, config.bs, shuffle=True)\n",
    "\n",
    "dl = Dataloader(data, sampler)\n",
    "\n",
    "opt = GD(config.lr)\n",
    "loss = MSE()"
   ]
  },
  {
   "cell_type": "code",
   "execution_count": 17,
   "id": "featured-commission",
   "metadata": {
    "execution": {
     "iopub.execute_input": "2021-05-26T10:25:29.889245Z",
     "iopub.status.busy": "2021-05-26T10:25:29.888613Z",
     "iopub.status.idle": "2021-05-26T10:25:29.903029Z",
     "shell.execute_reply": "2021-05-26T10:25:29.902416Z"
    },
    "papermill": {
     "duration": 0.053508,
     "end_time": "2021-05-26T10:25:29.903152",
     "exception": false,
     "start_time": "2021-05-26T10:25:29.849644",
     "status": "completed"
    },
    "tags": []
   },
   "outputs": [],
   "source": [
    "training_xdata = X_train\n",
    "testing_xdata = X_test\n",
    "training_ydata = y_train.reshape(-1,1)\n",
    "testing_ydata = y_test.reshape(-1,1)"
   ]
  },
  {
   "cell_type": "markdown",
   "id": "played-safety",
   "metadata": {
    "papermill": {
     "duration": 0.036379,
     "end_time": "2021-05-26T10:25:29.973602",
     "exception": false,
     "start_time": "2021-05-26T10:25:29.937223",
     "status": "completed"
    },
    "tags": []
   },
   "source": [
    "### Running Models with the Training data\n",
    "Details about the network layers:\n",
    "- A first affine layer has 784 inputs and does 100 affine transforms. These are followed by a Relu\n",
    "- A second affine layer has 100 inputs from the 100 activations of the past layer, and does 100 affine transforms. These are followed by a Relu\n",
    "- A third affine layer has 100 activations and does 2 affine transformations to create an embedding for visualization. There is no non-linearity here.\n",
    "- A final \"logistic regression\" which has an affine transform from 2 inputs to 1 output, which is squeezed through a sigmoid.\n",
    "\n",
    "Help taken from Anshuman's Notebook."
   ]
  },
  {
   "cell_type": "code",
   "execution_count": 18,
   "id": "asian-bankruptcy",
   "metadata": {
    "execution": {
     "iopub.execute_input": "2021-05-26T10:25:30.050896Z",
     "iopub.status.busy": "2021-05-26T10:25:30.050206Z",
     "iopub.status.idle": "2021-05-26T10:25:30.068371Z",
     "shell.execute_reply": "2021-05-26T10:25:30.068868Z"
    },
    "papermill": {
     "duration": 0.060291,
     "end_time": "2021-05-26T10:25:30.069047",
     "exception": false,
     "start_time": "2021-05-26T10:25:30.008756",
     "status": "completed"
    },
    "tags": []
   },
   "outputs": [],
   "source": [
    "# layers for the Neural Network\n",
    "layers = [Affine(\"first\", 784, 100), Relu(\"first\"), Affine(\"second\", 100, 100), Relu(\"second\"), Affine(\"third\", 100, 2), Affine(\"final\", 2, 1), Sigmoid(\"final\")]\n",
    "model_nn = Model(layers)\n",
    "\n",
    "# layers for the Logistic Regression\n",
    "layers_lr = [Affine(\"logits\", 784, 1), Sigmoid(\"sigmoid\")]\n",
    "model_lr = Model(layers_lr)"
   ]
  },
  {
   "cell_type": "code",
   "execution_count": 19,
   "id": "removed-butler",
   "metadata": {
    "execution": {
     "iopub.execute_input": "2021-05-26T10:25:30.151273Z",
     "iopub.status.busy": "2021-05-26T10:25:30.150577Z",
     "iopub.status.idle": "2021-05-26T10:25:30.162613Z",
     "shell.execute_reply": "2021-05-26T10:25:30.163068Z"
    },
    "papermill": {
     "duration": 0.055944,
     "end_time": "2021-05-26T10:25:30.163208",
     "exception": false,
     "start_time": "2021-05-26T10:25:30.107264",
     "status": "completed"
    },
    "tags": []
   },
   "outputs": [],
   "source": [
    "# suffix _nn stands for Neural Network.\n",
    "learner_nn = Learner(loss, model_nn, opt, config.num_epochs)\n",
    "acc_nn = ClfCallback(learner_nn, config.bs, training_xdata , testing_xdata, training_ydata, testing_ydata)\n",
    "learner_nn.set_callbacks([acc_nn])"
   ]
  },
  {
   "cell_type": "code",
   "execution_count": 20,
   "id": "conceptual-throw",
   "metadata": {
    "execution": {
     "iopub.execute_input": "2021-05-26T10:25:30.244684Z",
     "iopub.status.busy": "2021-05-26T10:25:30.244067Z",
     "iopub.status.idle": "2021-05-26T10:27:53.329202Z",
     "shell.execute_reply": "2021-05-26T10:27:53.329891Z"
    },
    "papermill": {
     "duration": 143.128783,
     "end_time": "2021-05-26T10:27:53.330074",
     "exception": false,
     "start_time": "2021-05-26T10:25:30.201291",
     "status": "completed"
    },
    "tags": []
   },
   "outputs": [
    {
     "name": "stdout",
     "output_type": "stream",
     "text": [
      "====== Neural Network ======\n"
     ]
    },
    {
     "name": "stdout",
     "output_type": "stream",
     "text": [
      "Epoch 0, Loss 0.2375\n",
      "Training Accuracy: 0.7427, Testing Accuracy: 0.7480\n",
      "\n"
     ]
    },
    {
     "name": "stdout",
     "output_type": "stream",
     "text": [
      "Epoch 10, Loss 0.0698\n",
      "Training Accuracy: 0.9256, Testing Accuracy: 0.9370\n",
      "\n"
     ]
    },
    {
     "name": "stdout",
     "output_type": "stream",
     "text": [
      "Epoch 20, Loss 0.0471\n",
      "Training Accuracy: 0.9495, Testing Accuracy: 0.9577\n",
      "\n"
     ]
    },
    {
     "name": "stdout",
     "output_type": "stream",
     "text": [
      "Epoch 30, Loss 0.0381\n",
      "Training Accuracy: 0.9574, Testing Accuracy: 0.9632\n",
      "\n"
     ]
    },
    {
     "name": "stdout",
     "output_type": "stream",
     "text": [
      "Epoch 40, Loss 0.0333\n",
      "Training Accuracy: 0.9625, Testing Accuracy: 0.9632\n",
      "\n"
     ]
    },
    {
     "name": "stdout",
     "output_type": "stream",
     "text": [
      "Epoch 50, Loss 0.0302\n",
      "Training Accuracy: 0.9654, Testing Accuracy: 0.9652\n",
      "\n"
     ]
    },
    {
     "name": "stdout",
     "output_type": "stream",
     "text": [
      "Epoch 60, Loss 0.0281\n",
      "Training Accuracy: 0.9681, Testing Accuracy: 0.9688\n",
      "\n"
     ]
    },
    {
     "name": "stdout",
     "output_type": "stream",
     "text": [
      "Epoch 70, Loss 0.0265\n",
      "Training Accuracy: 0.9702, Testing Accuracy: 0.9708\n",
      "\n"
     ]
    },
    {
     "name": "stdout",
     "output_type": "stream",
     "text": [
      "Epoch 80, Loss 0.0252\n",
      "Training Accuracy: 0.9715, Testing Accuracy: 0.9723\n",
      "\n"
     ]
    },
    {
     "name": "stdout",
     "output_type": "stream",
     "text": [
      "Epoch 90, Loss 0.0241\n",
      "Training Accuracy: 0.9730, Testing Accuracy: 0.9728\n",
      "\n"
     ]
    },
    {
     "name": "stdout",
     "output_type": "stream",
     "text": [
      "Epoch 100, Loss 0.0231\n",
      "Training Accuracy: 0.9739, Testing Accuracy: 0.9733\n",
      "\n"
     ]
    },
    {
     "name": "stdout",
     "output_type": "stream",
     "text": [
      "Epoch 110, Loss 0.0223\n",
      "Training Accuracy: 0.9748, Testing Accuracy: 0.9733\n",
      "\n"
     ]
    },
    {
     "name": "stdout",
     "output_type": "stream",
     "text": [
      "Epoch 120, Loss 0.0216\n",
      "Training Accuracy: 0.9760, Testing Accuracy: 0.9733\n",
      "\n"
     ]
    },
    {
     "name": "stdout",
     "output_type": "stream",
     "text": [
      "Epoch 130, Loss 0.0209\n",
      "Training Accuracy: 0.9765, Testing Accuracy: 0.9738\n",
      "\n"
     ]
    },
    {
     "name": "stdout",
     "output_type": "stream",
     "text": [
      "Epoch 140, Loss 0.0203\n",
      "Training Accuracy: 0.9771, Testing Accuracy: 0.9743\n",
      "\n"
     ]
    },
    {
     "name": "stdout",
     "output_type": "stream",
     "text": [
      "Epoch 150, Loss 0.0198\n",
      "Training Accuracy: 0.9778, Testing Accuracy: 0.9753\n",
      "\n"
     ]
    },
    {
     "name": "stdout",
     "output_type": "stream",
     "text": [
      "Epoch 160, Loss 0.0193\n",
      "Training Accuracy: 0.9785, Testing Accuracy: 0.9758\n",
      "\n"
     ]
    },
    {
     "name": "stdout",
     "output_type": "stream",
     "text": [
      "Epoch 170, Loss 0.0188\n",
      "Training Accuracy: 0.9786, Testing Accuracy: 0.9763\n",
      "\n"
     ]
    },
    {
     "name": "stdout",
     "output_type": "stream",
     "text": [
      "Epoch 180, Loss 0.0183\n",
      "Training Accuracy: 0.9795, Testing Accuracy: 0.9758\n",
      "\n"
     ]
    },
    {
     "name": "stdout",
     "output_type": "stream",
     "text": [
      "Epoch 190, Loss 0.0179\n",
      "Training Accuracy: 0.9801, Testing Accuracy: 0.9758\n",
      "\n"
     ]
    },
    {
     "name": "stdout",
     "output_type": "stream",
     "text": [
      "Epoch 200, Loss 0.0175\n",
      "Training Accuracy: 0.9805, Testing Accuracy: 0.9758\n",
      "\n"
     ]
    },
    {
     "name": "stdout",
     "output_type": "stream",
     "text": [
      "Epoch 210, Loss 0.0171\n",
      "Training Accuracy: 0.9813, Testing Accuracy: 0.9763\n",
      "\n"
     ]
    },
    {
     "name": "stdout",
     "output_type": "stream",
     "text": [
      "Epoch 220, Loss 0.0167\n",
      "Training Accuracy: 0.9815, Testing Accuracy: 0.9763\n",
      "\n"
     ]
    },
    {
     "name": "stdout",
     "output_type": "stream",
     "text": [
      "Epoch 230, Loss 0.0164\n",
      "Training Accuracy: 0.9820, Testing Accuracy: 0.9773\n",
      "\n"
     ]
    },
    {
     "name": "stdout",
     "output_type": "stream",
     "text": [
      "Epoch 240, Loss 0.016\n",
      "Training Accuracy: 0.9824, Testing Accuracy: 0.9773\n",
      "\n"
     ]
    },
    {
     "name": "stdout",
     "output_type": "stream",
     "text": [
      "Epoch 250, Loss 0.0157\n",
      "Training Accuracy: 0.9827, Testing Accuracy: 0.9783\n",
      "\n"
     ]
    },
    {
     "data": {
      "text/plain": [
       "0.0026238757153722687"
      ]
     },
     "execution_count": 20,
     "metadata": {},
     "output_type": "execute_result"
    }
   ],
   "source": [
    "print(\"====== Neural Network ======\")\n",
    "learner_nn.train_loop(dl)"
   ]
  },
  {
   "cell_type": "markdown",
   "id": "competent-suffering",
   "metadata": {
    "papermill": {
     "duration": 0.044031,
     "end_time": "2021-05-26T10:27:53.423968",
     "exception": false,
     "start_time": "2021-05-26T10:27:53.379937",
     "status": "completed"
    },
    "tags": []
   },
   "source": [
    "### Logistic Regression based Implementation."
   ]
  },
  {
   "cell_type": "code",
   "execution_count": 21,
   "id": "qualified-psychiatry",
   "metadata": {
    "execution": {
     "iopub.execute_input": "2021-05-26T10:27:53.517599Z",
     "iopub.status.busy": "2021-05-26T10:27:53.516833Z",
     "iopub.status.idle": "2021-05-26T10:27:53.528524Z",
     "shell.execute_reply": "2021-05-26T10:27:53.528990Z"
    },
    "papermill": {
     "duration": 0.062161,
     "end_time": "2021-05-26T10:27:53.529245",
     "exception": false,
     "start_time": "2021-05-26T10:27:53.467084",
     "status": "completed"
    },
    "tags": []
   },
   "outputs": [],
   "source": [
    "learner_lr = Learner(loss, model_lr, opt, config.num_epochs)\n",
    "acc_lr = ClfCallback(learner_lr, config.bs, training_xdata , testing_xdata, training_ydata, testing_ydata)\n",
    "learner_lr.set_callbacks([acc_lr])"
   ]
  },
  {
   "cell_type": "code",
   "execution_count": 22,
   "id": "average-outside",
   "metadata": {
    "execution": {
     "iopub.execute_input": "2021-05-26T10:27:53.625769Z",
     "iopub.status.busy": "2021-05-26T10:27:53.623818Z",
     "iopub.status.idle": "2021-05-26T10:28:14.209139Z",
     "shell.execute_reply": "2021-05-26T10:28:14.209977Z"
    },
    "papermill": {
     "duration": 20.638177,
     "end_time": "2021-05-26T10:28:14.210146",
     "exception": false,
     "start_time": "2021-05-26T10:27:53.571969",
     "status": "completed"
    },
    "tags": []
   },
   "outputs": [
    {
     "name": "stdout",
     "output_type": "stream",
     "text": [
      "====== Logistic Regression ======\n",
      "Epoch 0, Loss 0.1891\n",
      "Training Accuracy: 0.8428, Testing Accuracy: 0.8483\n",
      "\n"
     ]
    },
    {
     "name": "stdout",
     "output_type": "stream",
     "text": [
      "Epoch 10, Loss 0.0968\n",
      "Training Accuracy: 0.9170, Testing Accuracy: 0.9309\n",
      "\n"
     ]
    },
    {
     "name": "stdout",
     "output_type": "stream",
     "text": [
      "Epoch 20, Loss 0.0762\n",
      "Training Accuracy: 0.9324, Testing Accuracy: 0.9451\n",
      "\n"
     ]
    },
    {
     "name": "stdout",
     "output_type": "stream",
     "text": [
      "Epoch 30, Loss 0.0662\n",
      "Training Accuracy: 0.9393, Testing Accuracy: 0.9521\n",
      "\n"
     ]
    },
    {
     "name": "stdout",
     "output_type": "stream",
     "text": [
      "Epoch 40, Loss 0.0601\n",
      "Training Accuracy: 0.9442, Testing Accuracy: 0.9577\n",
      "\n"
     ]
    },
    {
     "name": "stdout",
     "output_type": "stream",
     "text": [
      "Epoch 50, Loss 0.0559\n",
      "Training Accuracy: 0.9469, Testing Accuracy: 0.9597\n",
      "\n"
     ]
    },
    {
     "name": "stdout",
     "output_type": "stream",
     "text": [
      "Epoch 60, Loss 0.0528\n",
      "Training Accuracy: 0.9493, Testing Accuracy: 0.9597\n",
      "\n"
     ]
    },
    {
     "name": "stdout",
     "output_type": "stream",
     "text": [
      "Epoch 70, Loss 0.0504\n",
      "Training Accuracy: 0.9507, Testing Accuracy: 0.9602\n",
      "\n"
     ]
    },
    {
     "name": "stdout",
     "output_type": "stream",
     "text": [
      "Epoch 80, Loss 0.0485\n",
      "Training Accuracy: 0.9530, Testing Accuracy: 0.9612\n",
      "\n"
     ]
    },
    {
     "name": "stdout",
     "output_type": "stream",
     "text": [
      "Epoch 90, Loss 0.0469\n",
      "Training Accuracy: 0.9538, Testing Accuracy: 0.9627\n",
      "\n"
     ]
    },
    {
     "name": "stdout",
     "output_type": "stream",
     "text": [
      "Epoch 100, Loss 0.0455\n",
      "Training Accuracy: 0.9543, Testing Accuracy: 0.9637\n",
      "\n"
     ]
    },
    {
     "name": "stdout",
     "output_type": "stream",
     "text": [
      "Epoch 110, Loss 0.0443\n",
      "Training Accuracy: 0.9558, Testing Accuracy: 0.9632\n",
      "\n"
     ]
    },
    {
     "name": "stdout",
     "output_type": "stream",
     "text": [
      "Epoch 120, Loss 0.0433\n",
      "Training Accuracy: 0.9564, Testing Accuracy: 0.9647\n",
      "\n"
     ]
    },
    {
     "name": "stdout",
     "output_type": "stream",
     "text": [
      "Epoch 130, Loss 0.0424\n",
      "Training Accuracy: 0.9571, Testing Accuracy: 0.9652\n",
      "\n"
     ]
    },
    {
     "name": "stdout",
     "output_type": "stream",
     "text": [
      "Epoch 140, Loss 0.0417\n",
      "Training Accuracy: 0.9578, Testing Accuracy: 0.9647\n",
      "\n"
     ]
    },
    {
     "name": "stdout",
     "output_type": "stream",
     "text": [
      "Epoch 150, Loss 0.0409\n",
      "Training Accuracy: 0.9585, Testing Accuracy: 0.9662\n",
      "\n"
     ]
    },
    {
     "name": "stdout",
     "output_type": "stream",
     "text": [
      "Epoch 160, Loss 0.0403\n",
      "Training Accuracy: 0.9586, Testing Accuracy: 0.9672\n",
      "\n"
     ]
    },
    {
     "name": "stdout",
     "output_type": "stream",
     "text": [
      "Epoch 170, Loss 0.0397\n",
      "Training Accuracy: 0.9589, Testing Accuracy: 0.9677\n",
      "\n"
     ]
    },
    {
     "name": "stdout",
     "output_type": "stream",
     "text": [
      "Epoch 180, Loss 0.0392\n",
      "Training Accuracy: 0.9593, Testing Accuracy: 0.9677\n",
      "\n"
     ]
    },
    {
     "name": "stdout",
     "output_type": "stream",
     "text": [
      "Epoch 190, Loss 0.0387\n",
      "Training Accuracy: 0.9594, Testing Accuracy: 0.9682\n",
      "\n"
     ]
    },
    {
     "name": "stdout",
     "output_type": "stream",
     "text": [
      "Epoch 200, Loss 0.0382\n",
      "Training Accuracy: 0.9599, Testing Accuracy: 0.9682\n",
      "\n"
     ]
    },
    {
     "name": "stdout",
     "output_type": "stream",
     "text": [
      "Epoch 210, Loss 0.0378\n",
      "Training Accuracy: 0.9604, Testing Accuracy: 0.9682\n",
      "\n"
     ]
    },
    {
     "name": "stdout",
     "output_type": "stream",
     "text": [
      "Epoch 220, Loss 0.0374\n",
      "Training Accuracy: 0.9606, Testing Accuracy: 0.9682\n",
      "\n"
     ]
    },
    {
     "name": "stdout",
     "output_type": "stream",
     "text": [
      "Epoch 230, Loss 0.037\n",
      "Training Accuracy: 0.9608, Testing Accuracy: 0.9688\n",
      "\n"
     ]
    },
    {
     "name": "stdout",
     "output_type": "stream",
     "text": [
      "Epoch 240, Loss 0.0367\n",
      "Training Accuracy: 0.9610, Testing Accuracy: 0.9682\n",
      "\n"
     ]
    },
    {
     "name": "stdout",
     "output_type": "stream",
     "text": [
      "Epoch 250, Loss 0.0363\n",
      "Training Accuracy: 0.9614, Testing Accuracy: 0.9682\n",
      "\n"
     ]
    },
    {
     "data": {
      "text/plain": [
       "0.008210753484392295"
      ]
     },
     "execution_count": 22,
     "metadata": {},
     "output_type": "execute_result"
    }
   ],
   "source": [
    "print(\"====== Logistic Regression ======\")\n",
    "learner_lr.train_loop(dl)"
   ]
  },
  {
   "cell_type": "markdown",
   "id": "adjusted-possible",
   "metadata": {
    "papermill": {
     "duration": 0.058512,
     "end_time": "2021-05-26T10:28:14.333429",
     "exception": false,
     "start_time": "2021-05-26T10:28:14.274917",
     "status": "completed"
    },
    "tags": []
   },
   "source": [
    "### Comparing results of NN and LR"
   ]
  },
  {
   "cell_type": "code",
   "execution_count": 23,
   "id": "mental-multimedia",
   "metadata": {
    "execution": {
     "iopub.execute_input": "2021-05-26T10:28:14.449103Z",
     "iopub.status.busy": "2021-05-26T10:28:14.448524Z",
     "iopub.status.idle": "2021-05-26T10:28:14.733287Z",
     "shell.execute_reply": "2021-05-26T10:28:14.733879Z"
    },
    "papermill": {
     "duration": 0.344797,
     "end_time": "2021-05-26T10:28:14.734039",
     "exception": false,
     "start_time": "2021-05-26T10:28:14.389242",
     "status": "completed"
    },
    "tags": []
   },
   "outputs": [
    {
     "data": {
      "text/plain": [
       "<matplotlib.legend.Legend at 0x7fae008f7198>"
      ]
     },
     "execution_count": 23,
     "metadata": {},
     "output_type": "execute_result"
    },
    {
     "data": {
      "image/png": "[encoded data removed]",
      "text/plain": [
       "<Figure size 1080x720 with 1 Axes>"
      ]
     },
     "metadata": {
      "needs_background": "light"
     },
     "output_type": "display_data"
    }
   ],
   "source": [
    "plt.figure(figsize=(15,10))\n",
    "\n",
    "# Neural Network plots\n",
    "plt.plot(acc_nn.accuracies, 'r-', label = \"Training Accuracies - NN\")\n",
    "plt.plot(acc_nn.test_accuracies, 'g-', label = \"Testing Accuracies - NN\")\n",
    "\n",
    "# Logistic Regression plots\n",
    "plt.plot(acc_lr.accuracies, 'k-', label = \"Training Accuracies - LR\")\n",
    "plt.plot(acc_lr.test_accuracies, 'b-', label = \"Testing Accuracies - LR\")\n",
    "\n",
    "plt.ylim(0.8, 1)\n",
    "\n",
    "plt.legend()\n",
    "\n"
   ]
  },
  {
   "cell_type": "markdown",
   "id": "sexual-flesh",
   "metadata": {
    "papermill": {
     "duration": 0.057594,
     "end_time": "2021-05-26T10:28:14.845587",
     "exception": false,
     "start_time": "2021-05-26T10:28:14.787993",
     "status": "completed"
    },
    "tags": []
   },
   "source": [
    "### From the plot, we can observe the following:\n",
    "- Neural Network achieves higher accuracy than the Logistic Regression model.\n",
    "- This apparently, is because of overfitting, i.e. NN captures more noise than data.\n",
    "- Testing accuracy of NN drops below the Training accuracy at higher epochs. This explains the over-fitting on training data.\n",
    "- Logistic Regression gives a reliable accuracy, without the above mentioned problem.\n"
   ]
  },
  {
   "cell_type": "markdown",
   "id": "institutional-pacific",
   "metadata": {
    "papermill": {
     "duration": 0.055138,
     "end_time": "2021-05-26T10:28:14.960658",
     "exception": false,
     "start_time": "2021-05-26T10:28:14.905520",
     "status": "completed"
    },
    "tags": []
   },
   "source": [
    "### Moving till the last but one layer (excluding it).\n",
    "#### Plotting the outputs of this layer of the NN."
   ]
  },
  {
   "cell_type": "code",
   "execution_count": 24,
   "id": "economic-server",
   "metadata": {
    "execution": {
     "iopub.execute_input": "2021-05-26T10:28:15.085823Z",
     "iopub.status.busy": "2021-05-26T10:28:15.080664Z",
     "iopub.status.idle": "2021-05-26T10:28:15.091243Z",
     "shell.execute_reply": "2021-05-26T10:28:15.090733Z"
    },
    "papermill": {
     "duration": 0.077384,
     "end_time": "2021-05-26T10:28:15.091351",
     "exception": false,
     "start_time": "2021-05-26T10:28:15.013967",
     "status": "completed"
    },
    "tags": []
   },
   "outputs": [],
   "source": [
    "model_new = Model(layers[:-2])"
   ]
  },
  {
   "cell_type": "code",
   "execution_count": 25,
   "id": "varied-upgrade",
   "metadata": {
    "execution": {
     "iopub.execute_input": "2021-05-26T10:28:15.226031Z",
     "iopub.status.busy": "2021-05-26T10:28:15.225410Z",
     "iopub.status.idle": "2021-05-26T10:28:15.254321Z",
     "shell.execute_reply": "2021-05-26T10:28:15.255358Z"
    },
    "papermill": {
     "duration": 0.109692,
     "end_time": "2021-05-26T10:28:15.255573",
     "exception": false,
     "start_time": "2021-05-26T10:28:15.145881",
     "status": "completed"
    },
    "tags": []
   },
   "outputs": [],
   "source": [
    "plot_testing = model_new(testing_xdata)"
   ]
  },
  {
   "cell_type": "code",
   "execution_count": 26,
   "id": "specific-handling",
   "metadata": {
    "execution": {
     "iopub.execute_input": "2021-05-26T10:28:15.375367Z",
     "iopub.status.busy": "2021-05-26T10:28:15.374737Z",
     "iopub.status.idle": "2021-05-26T10:28:15.602329Z",
     "shell.execute_reply": "2021-05-26T10:28:15.601734Z"
    },
    "papermill": {
     "duration": 0.28843,
     "end_time": "2021-05-26T10:28:15.602492",
     "exception": false,
     "start_time": "2021-05-26T10:28:15.314062",
     "status": "completed"
    },
    "tags": []
   },
   "outputs": [
    {
     "data": {
      "text/plain": [
       "Text(0.5, 1.0, 'Outputs')"
      ]
     },
     "execution_count": 26,
     "metadata": {},
     "output_type": "execute_result"
    },
    {
     "data": {
      "image/png": "[encoded data removed]",
      "text/plain": [
       "<Figure size 576x504 with 1 Axes>"
      ]
     },
     "metadata": {
      "needs_background": "light"
     },
     "output_type": "display_data"
    }
   ],
   "source": [
    "plt.figure(figsize=(8,7))\n",
    "plt.scatter(plot_testing[:,0], plot_testing[:,1], alpha = 0.1, c = y_test.ravel());\n",
    "plt.title('Outputs')"
   ]
  },
  {
   "cell_type": "markdown",
   "id": "described-knowing",
   "metadata": {
    "papermill": {
     "duration": 0.061202,
     "end_time": "2021-05-26T10:28:15.725690",
     "exception": false,
     "start_time": "2021-05-26T10:28:15.664488",
     "status": "completed"
    },
    "tags": []
   },
   "source": [
    "### Plotting probability contours"
   ]
  },
  {
   "cell_type": "code",
   "execution_count": 27,
   "id": "needed-growing",
   "metadata": {
    "execution": {
     "iopub.execute_input": "2021-05-26T10:28:15.853703Z",
     "iopub.status.busy": "2021-05-26T10:28:15.853075Z",
     "iopub.status.idle": "2021-05-26T10:28:15.866666Z",
     "shell.execute_reply": "2021-05-26T10:28:15.867174Z"
    },
    "papermill": {
     "duration": 0.083072,
     "end_time": "2021-05-26T10:28:15.867335",
     "exception": false,
     "start_time": "2021-05-26T10:28:15.784263",
     "status": "completed"
    },
    "tags": []
   },
   "outputs": [],
   "source": [
    "model_prob = Model(layers[-2:]) "
   ]
  },
  {
   "cell_type": "code",
   "execution_count": 28,
   "id": "introductory-enforcement",
   "metadata": {
    "execution": {
     "iopub.execute_input": "2021-05-26T10:28:15.991573Z",
     "iopub.status.busy": "2021-05-26T10:28:15.990969Z",
     "iopub.status.idle": "2021-05-26T10:28:16.005260Z",
     "shell.execute_reply": "2021-05-26T10:28:16.005790Z"
    },
    "papermill": {
     "duration": 0.079256,
     "end_time": "2021-05-26T10:28:16.005941",
     "exception": false,
     "start_time": "2021-05-26T10:28:15.926685",
     "status": "completed"
    },
    "tags": []
   },
   "outputs": [],
   "source": [
    "# Adjust the x and y ranges according to the above generated plot.\n",
    "x_range = np.linspace(-4, 1, 100) \n",
    "y_range = np.linspace(-6, 6, 100) \n",
    "x_grid, y_grid = np.meshgrid(x_range, y_range) # x_grid and y_grig are of size 100 X 100\n",
    "\n",
    "# converting x_grid and y_grid to continuous arrays\n",
    "x_grid_flat = np.ravel(x_grid)\n",
    "y_grid_flat = np.ravel(y_grid)\n",
    "\n",
    "# The last layer of the current model takes two columns as input. Hence transpose of np.vstack() is required.\n",
    "X = np.vstack((x_grid_flat, y_grid_flat)).T\n",
    "\n",
    "# x_grid and y_grid are of size 100 x 100\n",
    "probability_contour = model_prob(X).reshape(100,100) "
   ]
  },
  {
   "cell_type": "code",
   "execution_count": 29,
   "id": "understood-landing",
   "metadata": {
    "execution": {
     "iopub.execute_input": "2021-05-26T10:28:16.132944Z",
     "iopub.status.busy": "2021-05-26T10:28:16.132331Z",
     "iopub.status.idle": "2021-05-26T10:28:16.427752Z",
     "shell.execute_reply": "2021-05-26T10:28:16.427232Z"
    },
    "papermill": {
     "duration": 0.360906,
     "end_time": "2021-05-26T10:28:16.427884",
     "exception": false,
     "start_time": "2021-05-26T10:28:16.066978",
     "status": "completed"
    },
    "tags": []
   },
   "outputs": [
    {
     "data": {
      "image/png": "[encoded data removed]",
      "text/plain": [
       "<Figure size 720x648 with 1 Axes>"
      ]
     },
     "metadata": {
      "needs_background": "light"
     },
     "output_type": "display_data"
    }
   ],
   "source": [
    "plt.figure(figsize=(10,9))\n",
    "plt.scatter(plot_testing[:,0], plot_testing[:,1], alpha = 0.1, c = y_test.ravel())\n",
    "contours = plt.contour(x_grid,y_grid,probability_contour)\n",
    "plt.title('Probability Contours')\n",
    "plt.clabel(contours, inline = True );"
   ]
  }
 ],
 "metadata": {
  "kernelspec": {
   "display_name": "Python 3",
   "language": "python",
   "name": "python3"
  },
  "language_info": {
   "codemirror_mode": {
    "name": "ipython",
    "version": 3
   },
   "file_extension": ".py",
   "mimetype": "text/x-python",
   "name": "python",
   "nbconvert_exporter": "python",
   "pygments_lexer": "ipython3",
   "version": "3.6.13"
  },
  "papermill": {
   "duration": 503.427311,
   "end_time": "2021-05-26T10:28:16.892792",
   "environment_variables": {},
   "exception": null,
   "input_path": "2020-08-11-NeuralNetwork.ipynb",
   "output_path": "2020-08-11-NeuralNetwork.ipynb",
   "parameters": {},
   "start_time": "2021-05-26T10:19:53.465481",
   "version": "2.1.2"
  }
 },
 "nbformat": 4,
 "nbformat_minor": 5
}