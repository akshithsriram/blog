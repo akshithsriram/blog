{
 "cells": [
  {
   "cell_type": "markdown",
   "id": "fitted-suggestion",
   "metadata": {
    "papermill": {
     "duration": 0.034417,
     "end_time": "2021-02-14T20:04:38.361862",
     "exception": false,
     "start_time": "2021-02-14T20:04:38.327445",
     "status": "completed"
    },
    "tags": []
   },
   "source": [
    "# \"A Basic Neural Network: Differentiate Hand-Written Digits\"\n",
    "\n",
    "- badges: true\n",
    "- author: Akshith Sriram"
   ]
  },
  {
   "cell_type": "markdown",
   "id": "signal-flexibility",
   "metadata": {
    "papermill": {
     "duration": 0.034664,
     "end_time": "2021-02-14T20:04:38.431313",
     "exception": false,
     "start_time": "2021-02-14T20:04:38.396649",
     "status": "completed"
    },
    "tags": []
   },
   "source": [
    "### Key Objectives:\n",
    "- Building a neural network that differentiates two hand-written digits 3 and 8.\n",
    "- Comparing the results of this Neural Network (NN) to that of a Logistic Regression (LR) model.\n",
    "\n",
    "### Requirements:\n",
    "- 'Kudzu' : A neural network library that was designed during our course by [Univ.AI](www.univ.ai). \n",
    "- MNIST Database\n",
    "\n",
    "If MNIST is not installed, use the command `!pip install mnist` given below.\n",
    "It can be run both from the command line and Jupyter Notebook."
   ]
  },
  {
   "cell_type": "code",
   "execution_count": 1,
   "id": "british-texture",
   "metadata": {
    "execution": {
     "iopub.execute_input": "2021-02-14T20:04:38.505061Z",
     "iopub.status.busy": "2021-02-14T20:04:38.504398Z",
     "iopub.status.idle": "2021-02-14T20:04:40.141559Z",
     "shell.execute_reply": "2021-02-14T20:04:40.139952Z"
    },
    "papermill": {
     "duration": 1.678228,
     "end_time": "2021-02-14T20:04:40.141769",
     "exception": false,
     "start_time": "2021-02-14T20:04:38.463541",
     "status": "completed"
    },
    "tags": []
   },
   "outputs": [
    {
     "name": "stdout",
     "output_type": "stream",
     "text": [
      "Collecting mnist\r\n",
      "  Downloading mnist-0.2.2-py2.py3-none-any.whl (3.5 kB)\r\n",
      "Requirement already satisfied: numpy in /opt/hostedtoolcache/Python/3.6.12/x64/lib/python3.6/site-packages (from mnist) (1.19.5)\r\n"
     ]
    },
    {
     "name": "stdout",
     "output_type": "stream",
     "text": [
      "Installing collected packages: mnist\r\n",
      "Successfully installed mnist-0.2.2\r\n"
     ]
    }
   ],
   "source": [
    "!pip install mnist "
   ]
  },
  {
   "cell_type": "markdown",
   "id": "stunning-extra",
   "metadata": {
    "papermill": {
     "duration": 0.032054,
     "end_time": "2021-02-14T20:04:40.206957",
     "exception": false,
     "start_time": "2021-02-14T20:04:40.174903",
     "status": "completed"
    },
    "tags": []
   },
   "source": [
    "#### Importing necessary libraries"
   ]
  },
  {
   "cell_type": "code",
   "execution_count": 2,
   "id": "wooden-france",
   "metadata": {
    "execution": {
     "iopub.execute_input": "2021-02-14T20:04:40.279592Z",
     "iopub.status.busy": "2021-02-14T20:04:40.278868Z",
     "iopub.status.idle": "2021-02-14T20:04:40.890946Z",
     "shell.execute_reply": "2021-02-14T20:04:40.890412Z"
    },
    "papermill": {
     "duration": 0.650964,
     "end_time": "2021-02-14T20:04:40.891118",
     "exception": false,
     "start_time": "2021-02-14T20:04:40.240154",
     "status": "completed"
    },
    "tags": []
   },
   "outputs": [],
   "source": [
    "%load_ext autoreload\n",
    "%autoreload 2\n",
    "\n",
    "%matplotlib inline\n",
    "import matplotlib.pyplot as plt\n",
    "\n",
    "import numpy as np\n",
    "import pandas as pd"
   ]
  },
  {
   "cell_type": "markdown",
   "id": "stunning-physics",
   "metadata": {
    "papermill": {
     "duration": 0.037285,
     "end_time": "2021-02-14T20:04:40.964196",
     "exception": false,
     "start_time": "2021-02-14T20:04:40.926911",
     "status": "completed"
    },
    "tags": []
   },
   "source": [
    "### Preparing the Data"
   ]
  },
  {
   "cell_type": "code",
   "execution_count": 3,
   "id": "unauthorized-remainder",
   "metadata": {
    "execution": {
     "iopub.execute_input": "2021-02-14T20:04:41.036736Z",
     "iopub.status.busy": "2021-02-14T20:04:41.036041Z",
     "iopub.status.idle": "2021-02-14T20:04:41.047748Z",
     "shell.execute_reply": "2021-02-14T20:04:41.048465Z"
    },
    "papermill": {
     "duration": 0.052235,
     "end_time": "2021-02-14T20:04:41.048694",
     "exception": false,
     "start_time": "2021-02-14T20:04:40.996459",
     "status": "completed"
    },
    "tags": []
   },
   "outputs": [],
   "source": [
    "import mnist"
   ]
  },
  {
   "cell_type": "code",
   "execution_count": 4,
   "id": "correct-antarctica",
   "metadata": {
    "execution": {
     "iopub.execute_input": "2021-02-14T20:04:41.122493Z",
     "iopub.status.busy": "2021-02-14T20:04:41.121377Z",
     "iopub.status.idle": "2021-02-14T20:04:41.868981Z",
     "shell.execute_reply": "2021-02-14T20:04:41.867734Z"
    },
    "papermill": {
     "duration": 0.788658,
     "end_time": "2021-02-14T20:04:41.869171",
     "exception": false,
     "start_time": "2021-02-14T20:04:41.080513",
     "status": "completed"
    },
    "tags": []
   },
   "outputs": [],
   "source": [
    "train_images = mnist.train_images()\n",
    "train_labels = mnist.train_labels()"
   ]
  },
  {
   "cell_type": "code",
   "execution_count": 5,
   "id": "musical-prospect",
   "metadata": {
    "execution": {
     "iopub.execute_input": "2021-02-14T20:04:41.945663Z",
     "iopub.status.busy": "2021-02-14T20:04:41.938569Z",
     "iopub.status.idle": "2021-02-14T20:04:41.954514Z",
     "shell.execute_reply": "2021-02-14T20:04:41.953851Z"
    },
    "papermill": {
     "duration": 0.053058,
     "end_time": "2021-02-14T20:04:41.954661",
     "exception": false,
     "start_time": "2021-02-14T20:04:41.901603",
     "status": "completed"
    },
    "tags": []
   },
   "outputs": [
    {
     "data": {
      "text/plain": [
       "((60000, 28, 28), (60000,))"
      ]
     },
     "execution_count": 5,
     "metadata": {},
     "output_type": "execute_result"
    }
   ],
   "source": [
    "train_images.shape, train_labels.shape"
   ]
  },
  {
   "cell_type": "code",
   "execution_count": 6,
   "id": "preliminary-elizabeth",
   "metadata": {
    "execution": {
     "iopub.execute_input": "2021-02-14T20:04:42.026544Z",
     "iopub.status.busy": "2021-02-14T20:04:42.025875Z",
     "iopub.status.idle": "2021-02-14T20:04:42.300381Z",
     "shell.execute_reply": "2021-02-14T20:04:42.299802Z"
    },
    "papermill": {
     "duration": 0.312454,
     "end_time": "2021-02-14T20:04:42.300512",
     "exception": false,
     "start_time": "2021-02-14T20:04:41.988058",
     "status": "completed"
    },
    "tags": []
   },
   "outputs": [],
   "source": [
    "test_images = mnist.test_images()\n",
    "test_labels = mnist.test_labels()"
   ]
  },
  {
   "cell_type": "code",
   "execution_count": 7,
   "id": "acknowledged-oxygen",
   "metadata": {
    "execution": {
     "iopub.execute_input": "2021-02-14T20:04:42.368668Z",
     "iopub.status.busy": "2021-02-14T20:04:42.368043Z",
     "iopub.status.idle": "2021-02-14T20:04:42.381621Z",
     "shell.execute_reply": "2021-02-14T20:04:42.380885Z"
    },
    "papermill": {
     "duration": 0.049245,
     "end_time": "2021-02-14T20:04:42.381814",
     "exception": false,
     "start_time": "2021-02-14T20:04:42.332569",
     "status": "completed"
    },
    "tags": []
   },
   "outputs": [
    {
     "data": {
      "text/plain": [
       "((10000, 28, 28), (10000,))"
      ]
     },
     "execution_count": 7,
     "metadata": {},
     "output_type": "execute_result"
    }
   ],
   "source": [
    "test_images.shape, test_labels.shape"
   ]
  },
  {
   "cell_type": "code",
   "execution_count": 8,
   "id": "innovative-organic",
   "metadata": {
    "execution": {
     "iopub.execute_input": "2021-02-14T20:04:42.454175Z",
     "iopub.status.busy": "2021-02-14T20:04:42.453564Z",
     "iopub.status.idle": "2021-02-14T20:04:42.639092Z",
     "shell.execute_reply": "2021-02-14T20:04:42.639584Z"
    },
    "papermill": {
     "duration": 0.226042,
     "end_time": "2021-02-14T20:04:42.639741",
     "exception": false,
     "start_time": "2021-02-14T20:04:42.413699",
     "status": "completed"
    },
    "tags": []
   },
   "outputs": [
    {
     "name": "stdout",
     "output_type": "stream",
     "text": [
      "2\n"
     ]
    },
    {
     "data": {
      "text/plain": [
       "<matplotlib.image.AxesImage at 0x7f9349133320>"
      ]
     },
     "execution_count": 8,
     "metadata": {},
     "output_type": "execute_result"
    },
    {
     "data": {
      "image/png": "[encoded data removed]",
      "text/plain": [
       "<Figure size 432x288 with 1 Axes>"
      ]
     },
     "metadata": {
      "needs_background": "light"
     },
     "output_type": "display_data"
    }
   ],
   "source": [
    "image_index = 7776 # You may select anything up to 60,000\n",
    "print(train_labels[image_index]) \n",
    "plt.imshow(train_images[image_index], cmap='Greys')"
   ]
  },
  {
   "cell_type": "markdown",
   "id": "facial-modem",
   "metadata": {
    "papermill": {
     "duration": 0.034984,
     "end_time": "2021-02-14T20:04:42.711193",
     "exception": false,
     "start_time": "2021-02-14T20:04:42.676209",
     "status": "completed"
    },
    "tags": []
   },
   "source": [
    "## Filter data to get 3 and 8 out"
   ]
  },
  {
   "cell_type": "code",
   "execution_count": 9,
   "id": "thousand-acquisition",
   "metadata": {
    "execution": {
     "iopub.execute_input": "2021-02-14T20:04:42.794369Z",
     "iopub.status.busy": "2021-02-14T20:04:42.793702Z",
     "iopub.status.idle": "2021-02-14T20:04:42.805942Z",
     "shell.execute_reply": "2021-02-14T20:04:42.805216Z"
    },
    "papermill": {
     "duration": 0.059252,
     "end_time": "2021-02-14T20:04:42.806106",
     "exception": false,
     "start_time": "2021-02-14T20:04:42.746854",
     "status": "completed"
    },
    "tags": []
   },
   "outputs": [],
   "source": [
    "train_filter = np.where((train_labels == 3 ) | (train_labels == 8))\n",
    "test_filter = np.where((test_labels == 3) | (test_labels == 8))\n",
    "X_train, y_train = train_images[train_filter], train_labels[train_filter]\n",
    "X_test, y_test = test_images[test_filter], test_labels[test_filter]"
   ]
  },
  {
   "cell_type": "markdown",
   "id": "ruled-access",
   "metadata": {
    "papermill": {
     "duration": 0.043578,
     "end_time": "2021-02-14T20:04:42.884681",
     "exception": false,
     "start_time": "2021-02-14T20:04:42.841103",
     "status": "completed"
    },
    "tags": []
   },
   "source": [
    "We normalize the pixel values in the 0 to 1 range"
   ]
  },
  {
   "cell_type": "code",
   "execution_count": 10,
   "id": "isolated-denver",
   "metadata": {
    "execution": {
     "iopub.execute_input": "2021-02-14T20:04:42.970243Z",
     "iopub.status.busy": "2021-02-14T20:04:42.969549Z",
     "iopub.status.idle": "2021-02-14T20:04:43.030357Z",
     "shell.execute_reply": "2021-02-14T20:04:43.029720Z"
    },
    "papermill": {
     "duration": 0.105568,
     "end_time": "2021-02-14T20:04:43.030522",
     "exception": false,
     "start_time": "2021-02-14T20:04:42.924954",
     "status": "completed"
    },
    "tags": []
   },
   "outputs": [],
   "source": [
    "X_train = X_train/255.\n",
    "X_test = X_test/255."
   ]
  },
  {
   "cell_type": "markdown",
   "id": "perfect-summary",
   "metadata": {
    "papermill": {
     "duration": 0.198602,
     "end_time": "2021-02-14T20:04:43.273380",
     "exception": false,
     "start_time": "2021-02-14T20:04:43.074778",
     "status": "completed"
    },
    "tags": []
   },
   "source": [
    "Setup the labels as 1 (when the digit is 3) and 0 (when the digit is 8)"
   ]
  },
  {
   "cell_type": "code",
   "execution_count": 11,
   "id": "personalized-growing",
   "metadata": {
    "execution": {
     "iopub.execute_input": "2021-02-14T20:04:43.351779Z",
     "iopub.status.busy": "2021-02-14T20:04:43.350937Z",
     "iopub.status.idle": "2021-02-14T20:04:43.363594Z",
     "shell.execute_reply": "2021-02-14T20:04:43.362994Z"
    },
    "papermill": {
     "duration": 0.053442,
     "end_time": "2021-02-14T20:04:43.363744",
     "exception": false,
     "start_time": "2021-02-14T20:04:43.310302",
     "status": "completed"
    },
    "tags": []
   },
   "outputs": [],
   "source": [
    "y_train = 1*(y_train==3)\n",
    "y_test = 1*(y_test==3)"
   ]
  },
  {
   "cell_type": "code",
   "execution_count": 12,
   "id": "considered-virgin",
   "metadata": {
    "execution": {
     "iopub.execute_input": "2021-02-14T20:04:43.435070Z",
     "iopub.status.busy": "2021-02-14T20:04:43.434444Z",
     "iopub.status.idle": "2021-02-14T20:04:43.448909Z",
     "shell.execute_reply": "2021-02-14T20:04:43.448285Z"
    },
    "papermill": {
     "duration": 0.051782,
     "end_time": "2021-02-14T20:04:43.449047",
     "exception": false,
     "start_time": "2021-02-14T20:04:43.397265",
     "status": "completed"
    },
    "tags": []
   },
   "outputs": [
    {
     "data": {
      "text/plain": [
       "((11982, 28, 28), (1984, 28, 28))"
      ]
     },
     "execution_count": 12,
     "metadata": {},
     "output_type": "execute_result"
    }
   ],
   "source": [
    "X_train.shape, X_test.shape"
   ]
  },
  {
   "cell_type": "markdown",
   "id": "civilian-mobile",
   "metadata": {
    "papermill": {
     "duration": 0.034745,
     "end_time": "2021-02-14T20:04:43.518595",
     "exception": false,
     "start_time": "2021-02-14T20:04:43.483850",
     "status": "completed"
    },
    "tags": []
   },
   "source": [
    "### Reshape the input data to create a linear array"
   ]
  },
  {
   "cell_type": "code",
   "execution_count": 13,
   "id": "colonial-adams",
   "metadata": {
    "execution": {
     "iopub.execute_input": "2021-02-14T20:04:43.596833Z",
     "iopub.status.busy": "2021-02-14T20:04:43.596125Z",
     "iopub.status.idle": "2021-02-14T20:04:43.611690Z",
     "shell.execute_reply": "2021-02-14T20:04:43.611027Z"
    },
    "papermill": {
     "duration": 0.056343,
     "end_time": "2021-02-14T20:04:43.611831",
     "exception": false,
     "start_time": "2021-02-14T20:04:43.555488",
     "status": "completed"
    },
    "tags": []
   },
   "outputs": [
    {
     "data": {
      "text/plain": [
       "((11982, 784), (1984, 784))"
      ]
     },
     "execution_count": 13,
     "metadata": {},
     "output_type": "execute_result"
    }
   ],
   "source": [
    "X_train = X_train.reshape(X_train.shape[0], -1)\n",
    "X_test = X_test.reshape(X_test.shape[0], -1)\n",
    "X_train.shape, X_test.shape"
   ]
  },
  {
   "cell_type": "markdown",
   "id": "smart-details",
   "metadata": {
    "papermill": {
     "duration": 0.034962,
     "end_time": "2021-02-14T20:04:43.686443",
     "exception": false,
     "start_time": "2021-02-14T20:04:43.651481",
     "status": "completed"
    },
    "tags": []
   },
   "source": [
    "### Importing appropriate functions from 'Kudzu'"
   ]
  },
  {
   "cell_type": "code",
   "execution_count": 14,
   "id": "celtic-trial",
   "metadata": {
    "execution": {
     "iopub.execute_input": "2021-02-14T20:04:43.766270Z",
     "iopub.status.busy": "2021-02-14T20:04:43.765631Z",
     "iopub.status.idle": "2021-02-14T20:04:43.784279Z",
     "shell.execute_reply": "2021-02-14T20:04:43.783680Z"
    },
    "papermill": {
     "duration": 0.06291,
     "end_time": "2021-02-14T20:04:43.784451",
     "exception": false,
     "start_time": "2021-02-14T20:04:43.721541",
     "status": "completed"
    },
    "tags": []
   },
   "outputs": [],
   "source": [
    "from kudzu.layer import Sigmoid\n",
    "from kudzu.layer import Relu\n",
    "from kudzu.layer import Affine, Sigmoid\n",
    "\n",
    "from kudzu.model import Model\n",
    "from kudzu.train import Learner\n",
    "from kudzu.optim import GD\n",
    "from kudzu.data import Data, Dataloader, Sampler\n",
    "\n",
    "from kudzu.callbacks import AccCallback\n",
    "from kudzu.callbacks import ClfCallback\n",
    "\n",
    "from kudzu.loss import MSE"
   ]
  },
  {
   "cell_type": "markdown",
   "id": "coupled-customer",
   "metadata": {
    "papermill": {
     "duration": 0.035948,
     "end_time": "2021-02-14T20:04:43.855598",
     "exception": false,
     "start_time": "2021-02-14T20:04:43.819650",
     "status": "completed"
    },
    "tags": []
   },
   "source": [
    "### Let us create a `Config` class, to store important parameters. \n",
    "This class essentially plays the role of a dictionary."
   ]
  },
  {
   "cell_type": "code",
   "execution_count": 15,
   "id": "young-ceiling",
   "metadata": {
    "execution": {
     "iopub.execute_input": "2021-02-14T20:04:43.931742Z",
     "iopub.status.busy": "2021-02-14T20:04:43.931123Z",
     "iopub.status.idle": "2021-02-14T20:04:43.941029Z",
     "shell.execute_reply": "2021-02-14T20:04:43.940448Z"
    },
    "papermill": {
     "duration": 0.051972,
     "end_time": "2021-02-14T20:04:43.941158",
     "exception": false,
     "start_time": "2021-02-14T20:04:43.889186",
     "status": "completed"
    },
    "tags": []
   },
   "outputs": [],
   "source": [
    "class Config:\n",
    "    pass\n",
    "config = Config()\n",
    "config.lr = 0.001\n",
    "config.num_epochs = 251\n",
    "config.bs = 50"
   ]
  },
  {
   "cell_type": "markdown",
   "id": "according-mandate",
   "metadata": {
    "papermill": {
     "duration": 0.038324,
     "end_time": "2021-02-14T20:04:44.014451",
     "exception": false,
     "start_time": "2021-02-14T20:04:43.976127",
     "status": "completed"
    },
    "tags": []
   },
   "source": [
    "### Initializing data to the variables"
   ]
  },
  {
   "cell_type": "code",
   "execution_count": 16,
   "id": "academic-disposition",
   "metadata": {
    "execution": {
     "iopub.execute_input": "2021-02-14T20:04:44.099539Z",
     "iopub.status.busy": "2021-02-14T20:04:44.098837Z",
     "iopub.status.idle": "2021-02-14T20:04:44.113427Z",
     "shell.execute_reply": "2021-02-14T20:04:44.112806Z"
    },
    "papermill": {
     "duration": 0.058514,
     "end_time": "2021-02-14T20:04:44.113591",
     "exception": false,
     "start_time": "2021-02-14T20:04:44.055077",
     "status": "completed"
    },
    "tags": []
   },
   "outputs": [],
   "source": [
    "data = Data(X_train, y_train.reshape(-1,1))\n",
    "sampler = Sampler(data, config.bs, shuffle=True)\n",
    "\n",
    "dl = Dataloader(data, sampler)\n",
    "\n",
    "opt = GD(config.lr)\n",
    "loss = MSE()"
   ]
  },
  {
   "cell_type": "code",
   "execution_count": 17,
   "id": "featured-commission",
   "metadata": {
    "execution": {
     "iopub.execute_input": "2021-02-14T20:04:44.192271Z",
     "iopub.status.busy": "2021-02-14T20:04:44.191554Z",
     "iopub.status.idle": "2021-02-14T20:04:44.205030Z",
     "shell.execute_reply": "2021-02-14T20:04:44.204407Z"
    },
    "papermill": {
     "duration": 0.054935,
     "end_time": "2021-02-14T20:04:44.205208",
     "exception": false,
     "start_time": "2021-02-14T20:04:44.150273",
     "status": "completed"
    },
    "tags": []
   },
   "outputs": [],
   "source": [
    "training_xdata = X_train\n",
    "testing_xdata = X_test\n",
    "training_ydata = y_train.reshape(-1,1)\n",
    "testing_ydata = y_test.reshape(-1,1)"
   ]
  },
  {
   "cell_type": "markdown",
   "id": "played-safety",
   "metadata": {
    "papermill": {
     "duration": 0.035525,
     "end_time": "2021-02-14T20:04:44.276971",
     "exception": false,
     "start_time": "2021-02-14T20:04:44.241446",
     "status": "completed"
    },
    "tags": []
   },
   "source": [
    "### Running Models with the Training data\n",
    "Details about the network layers:\n",
    "- A first affine layer has 784 inputs and does 100 affine transforms. These are followed by a Relu\n",
    "- A second affine layer has 100 inputs from the 100 activations of the past layer, and does 100 affine transforms. These are followed by a Relu\n",
    "- A third affine layer has 100 activations and does 2 affine transformations to create an embedding for visualization. There is no non-linearity here.\n",
    "- A final \"logistic regression\" which has an affine transform from 2 inputs to 1 output, which is squeezed through a sigmoid.\n",
    "\n",
    "Help taken from Anshuman's Notebook."
   ]
  },
  {
   "cell_type": "code",
   "execution_count": 18,
   "id": "asian-bankruptcy",
   "metadata": {
    "execution": {
     "iopub.execute_input": "2021-02-14T20:04:44.358558Z",
     "iopub.status.busy": "2021-02-14T20:04:44.357852Z",
     "iopub.status.idle": "2021-02-14T20:04:44.376577Z",
     "shell.execute_reply": "2021-02-14T20:04:44.375953Z"
    },
    "papermill": {
     "duration": 0.062556,
     "end_time": "2021-02-14T20:04:44.376744",
     "exception": false,
     "start_time": "2021-02-14T20:04:44.314188",
     "status": "completed"
    },
    "tags": []
   },
   "outputs": [],
   "source": [
    "# layers for the Neural Network\n",
    "layers = [Affine(\"first\", 784, 100), Relu(\"first\"), Affine(\"second\", 100, 100), Relu(\"second\"), Affine(\"third\", 100, 2), Affine(\"final\", 2, 1), Sigmoid(\"final\")]\n",
    "model_nn = Model(layers)\n",
    "\n",
    "# layers for the Logistic Regression\n",
    "layers_lr = [Affine(\"logits\", 784, 1), Sigmoid(\"sigmoid\")]\n",
    "model_lr = Model(layers_lr)"
   ]
  },
  {
   "cell_type": "code",
   "execution_count": 19,
   "id": "removed-butler",
   "metadata": {
    "execution": {
     "iopub.execute_input": "2021-02-14T20:04:44.453366Z",
     "iopub.status.busy": "2021-02-14T20:04:44.452555Z",
     "iopub.status.idle": "2021-02-14T20:04:44.467025Z",
     "shell.execute_reply": "2021-02-14T20:04:44.466435Z"
    },
    "papermill": {
     "duration": 0.054885,
     "end_time": "2021-02-14T20:04:44.467164",
     "exception": false,
     "start_time": "2021-02-14T20:04:44.412279",
     "status": "completed"
    },
    "tags": []
   },
   "outputs": [],
   "source": [
    "# suffix _nn stands for Neural Network.\n",
    "learner_nn = Learner(loss, model_nn, opt, config.num_epochs)\n",
    "acc_nn = ClfCallback(learner_nn, config.bs, training_xdata , testing_xdata, training_ydata, testing_ydata)\n",
    "learner_nn.set_callbacks([acc_nn])"
   ]
  },
  {
   "cell_type": "code",
   "execution_count": 20,
   "id": "conceptual-throw",
   "metadata": {
    "execution": {
     "iopub.execute_input": "2021-02-14T20:04:44.544624Z",
     "iopub.status.busy": "2021-02-14T20:04:44.543874Z",
     "iopub.status.idle": "2021-02-14T20:07:06.677783Z",
     "shell.execute_reply": "2021-02-14T20:07:06.677280Z"
    },
    "papermill": {
     "duration": 142.174009,
     "end_time": "2021-02-14T20:07:06.677931",
     "exception": false,
     "start_time": "2021-02-14T20:04:44.503922",
     "status": "completed"
    },
    "tags": []
   },
   "outputs": [
    {
     "name": "stdout",
     "output_type": "stream",
     "text": [
      "====== Neural Network ======\n"
     ]
    },
    {
     "name": "stdout",
     "output_type": "stream",
     "text": [
      "Epoch 0, Loss 0.256\n",
      "Training Accuracy: 0.5117, Testing Accuracy: 0.5091\n",
      "\n"
     ]
    },
    {
     "name": "stdout",
     "output_type": "stream",
     "text": [
      "Epoch 10, Loss 0.1818\n",
      "Training Accuracy: 0.8837, Testing Accuracy: 0.8936\n",
      "\n"
     ]
    },
    {
     "name": "stdout",
     "output_type": "stream",
     "text": [
      "Epoch 20, Loss 0.0858\n",
      "Training Accuracy: 0.9275, Testing Accuracy: 0.9350\n",
      "\n"
     ]
    },
    {
     "name": "stdout",
     "output_type": "stream",
     "text": [
      "Epoch 30, Loss 0.0554\n",
      "Training Accuracy: 0.9444, Testing Accuracy: 0.9546\n",
      "\n"
     ]
    },
    {
     "name": "stdout",
     "output_type": "stream",
     "text": [
      "Epoch 40, Loss 0.0445\n",
      "Training Accuracy: 0.9525, Testing Accuracy: 0.9612\n",
      "\n"
     ]
    },
    {
     "name": "stdout",
     "output_type": "stream",
     "text": [
      "Epoch 50, Loss 0.039\n",
      "Training Accuracy: 0.9566, Testing Accuracy: 0.9647\n",
      "\n"
     ]
    },
    {
     "name": "stdout",
     "output_type": "stream",
     "text": [
      "Epoch 60, Loss 0.0356\n",
      "Training Accuracy: 0.9598, Testing Accuracy: 0.9667\n",
      "\n"
     ]
    },
    {
     "name": "stdout",
     "output_type": "stream",
     "text": [
      "Epoch 70, Loss 0.0333\n",
      "Training Accuracy: 0.9624, Testing Accuracy: 0.9667\n",
      "\n"
     ]
    },
    {
     "name": "stdout",
     "output_type": "stream",
     "text": [
      "Epoch 80, Loss 0.0315\n",
      "Training Accuracy: 0.9639, Testing Accuracy: 0.9693\n",
      "\n"
     ]
    },
    {
     "name": "stdout",
     "output_type": "stream",
     "text": [
      "Epoch 90, Loss 0.0301\n",
      "Training Accuracy: 0.9644, Testing Accuracy: 0.9698\n",
      "\n"
     ]
    },
    {
     "name": "stdout",
     "output_type": "stream",
     "text": [
      "Epoch 100, Loss 0.0289\n",
      "Training Accuracy: 0.9659, Testing Accuracy: 0.9713\n",
      "\n"
     ]
    },
    {
     "name": "stdout",
     "output_type": "stream",
     "text": [
      "Epoch 110, Loss 0.028\n",
      "Training Accuracy: 0.9668, Testing Accuracy: 0.9723\n",
      "\n"
     ]
    },
    {
     "name": "stdout",
     "output_type": "stream",
     "text": [
      "Epoch 120, Loss 0.0271\n",
      "Training Accuracy: 0.9678, Testing Accuracy: 0.9723\n",
      "\n"
     ]
    },
    {
     "name": "stdout",
     "output_type": "stream",
     "text": [
      "Epoch 130, Loss 0.0263\n",
      "Training Accuracy: 0.9690, Testing Accuracy: 0.9718\n",
      "\n"
     ]
    },
    {
     "name": "stdout",
     "output_type": "stream",
     "text": [
      "Epoch 140, Loss 0.0257\n",
      "Training Accuracy: 0.9701, Testing Accuracy: 0.9723\n",
      "\n"
     ]
    },
    {
     "name": "stdout",
     "output_type": "stream",
     "text": [
      "Epoch 150, Loss 0.025\n",
      "Training Accuracy: 0.9704, Testing Accuracy: 0.9718\n",
      "\n"
     ]
    },
    {
     "name": "stdout",
     "output_type": "stream",
     "text": [
      "Epoch 160, Loss 0.0245\n",
      "Training Accuracy: 0.9709, Testing Accuracy: 0.9728\n",
      "\n"
     ]
    },
    {
     "name": "stdout",
     "output_type": "stream",
     "text": [
      "Epoch 170, Loss 0.0239\n",
      "Training Accuracy: 0.9713, Testing Accuracy: 0.9723\n",
      "\n"
     ]
    },
    {
     "name": "stdout",
     "output_type": "stream",
     "text": [
      "Epoch 180, Loss 0.0234\n",
      "Training Accuracy: 0.9720, Testing Accuracy: 0.9723\n",
      "\n"
     ]
    },
    {
     "name": "stdout",
     "output_type": "stream",
     "text": [
      "Epoch 190, Loss 0.023\n",
      "Training Accuracy: 0.9730, Testing Accuracy: 0.9723\n",
      "\n"
     ]
    },
    {
     "name": "stdout",
     "output_type": "stream",
     "text": [
      "Epoch 200, Loss 0.0225\n",
      "Training Accuracy: 0.9731, Testing Accuracy: 0.9723\n",
      "\n"
     ]
    },
    {
     "name": "stdout",
     "output_type": "stream",
     "text": [
      "Epoch 210, Loss 0.0221\n",
      "Training Accuracy: 0.9740, Testing Accuracy: 0.9718\n",
      "\n"
     ]
    },
    {
     "name": "stdout",
     "output_type": "stream",
     "text": [
      "Epoch 220, Loss 0.0217\n",
      "Training Accuracy: 0.9746, Testing Accuracy: 0.9718\n",
      "\n"
     ]
    },
    {
     "name": "stdout",
     "output_type": "stream",
     "text": [
      "Epoch 230, Loss 0.0213\n",
      "Training Accuracy: 0.9751, Testing Accuracy: 0.9713\n",
      "\n"
     ]
    },
    {
     "name": "stdout",
     "output_type": "stream",
     "text": [
      "Epoch 240, Loss 0.021\n",
      "Training Accuracy: 0.9752, Testing Accuracy: 0.9723\n",
      "\n"
     ]
    },
    {
     "name": "stdout",
     "output_type": "stream",
     "text": [
      "Epoch 250, Loss 0.0206\n",
      "Training Accuracy: 0.9759, Testing Accuracy: 0.9733\n",
      "\n"
     ]
    },
    {
     "data": {
      "text/plain": [
       "0.06439359064400361"
      ]
     },
     "execution_count": 20,
     "metadata": {},
     "output_type": "execute_result"
    }
   ],
   "source": [
    "print(\"====== Neural Network ======\")\n",
    "learner_nn.train_loop(dl)"
   ]
  },
  {
   "cell_type": "markdown",
   "id": "competent-suffering",
   "metadata": {
    "papermill": {
     "duration": 0.045052,
     "end_time": "2021-02-14T20:07:06.767519",
     "exception": false,
     "start_time": "2021-02-14T20:07:06.722467",
     "status": "completed"
    },
    "tags": []
   },
   "source": [
    "### Logistic Regression based Implementation."
   ]
  },
  {
   "cell_type": "code",
   "execution_count": 21,
   "id": "qualified-psychiatry",
   "metadata": {
    "execution": {
     "iopub.execute_input": "2021-02-14T20:07:06.859241Z",
     "iopub.status.busy": "2021-02-14T20:07:06.858640Z",
     "iopub.status.idle": "2021-02-14T20:07:06.870977Z",
     "shell.execute_reply": "2021-02-14T20:07:06.871457Z"
    },
    "papermill": {
     "duration": 0.061651,
     "end_time": "2021-02-14T20:07:06.871596",
     "exception": false,
     "start_time": "2021-02-14T20:07:06.809945",
     "status": "completed"
    },
    "tags": []
   },
   "outputs": [],
   "source": [
    "learner_lr = Learner(loss, model_lr, opt, config.num_epochs)\n",
    "acc_lr = ClfCallback(learner_lr, config.bs, training_xdata , testing_xdata, training_ydata, testing_ydata)\n",
    "learner_lr.set_callbacks([acc_lr])"
   ]
  },
  {
   "cell_type": "code",
   "execution_count": 22,
   "id": "average-outside",
   "metadata": {
    "execution": {
     "iopub.execute_input": "2021-02-14T20:07:06.970965Z",
     "iopub.status.busy": "2021-02-14T20:07:06.970220Z",
     "iopub.status.idle": "2021-02-14T20:07:27.080346Z",
     "shell.execute_reply": "2021-02-14T20:07:27.081263Z"
    },
    "papermill": {
     "duration": 20.168096,
     "end_time": "2021-02-14T20:07:27.081427",
     "exception": false,
     "start_time": "2021-02-14T20:07:06.913331",
     "status": "completed"
    },
    "tags": []
   },
   "outputs": [
    {
     "name": "stdout",
     "output_type": "stream",
     "text": [
      "====== Logistic Regression ======\n",
      "Epoch 0, Loss 0.242\n",
      "Training Accuracy: 0.7003, Testing Accuracy: 0.6789\n",
      "\n"
     ]
    },
    {
     "name": "stdout",
     "output_type": "stream",
     "text": [
      "Epoch 10, Loss 0.1016\n",
      "Training Accuracy: 0.9117, Testing Accuracy: 0.9229\n",
      "\n"
     ]
    },
    {
     "name": "stdout",
     "output_type": "stream",
     "text": [
      "Epoch 20, Loss 0.0784\n",
      "Training Accuracy: 0.9275, Testing Accuracy: 0.9390\n",
      "\n"
     ]
    },
    {
     "name": "stdout",
     "output_type": "stream",
     "text": [
      "Epoch 30, Loss 0.0678\n",
      "Training Accuracy: 0.9353, Testing Accuracy: 0.9476\n",
      "\n"
     ]
    },
    {
     "name": "stdout",
     "output_type": "stream",
     "text": [
      "Epoch 40, Loss 0.0614\n",
      "Training Accuracy: 0.9411, Testing Accuracy: 0.9501\n",
      "\n"
     ]
    },
    {
     "name": "stdout",
     "output_type": "stream",
     "text": [
      "Epoch 50, Loss 0.0571\n",
      "Training Accuracy: 0.9440, Testing Accuracy: 0.9526\n",
      "\n"
     ]
    },
    {
     "name": "stdout",
     "output_type": "stream",
     "text": [
      "Epoch 60, Loss 0.0538\n",
      "Training Accuracy: 0.9468, Testing Accuracy: 0.9567\n",
      "\n"
     ]
    },
    {
     "name": "stdout",
     "output_type": "stream",
     "text": [
      "Epoch 70, Loss 0.0513\n",
      "Training Accuracy: 0.9488, Testing Accuracy: 0.9587\n",
      "\n"
     ]
    },
    {
     "name": "stdout",
     "output_type": "stream",
     "text": [
      "Epoch 80, Loss 0.0493\n",
      "Training Accuracy: 0.9505, Testing Accuracy: 0.9597\n",
      "\n"
     ]
    },
    {
     "name": "stdout",
     "output_type": "stream",
     "text": [
      "Epoch 90, Loss 0.0477\n",
      "Training Accuracy: 0.9517, Testing Accuracy: 0.9602\n",
      "\n"
     ]
    },
    {
     "name": "stdout",
     "output_type": "stream",
     "text": [
      "Epoch 100, Loss 0.0463\n",
      "Training Accuracy: 0.9523, Testing Accuracy: 0.9622\n",
      "\n"
     ]
    },
    {
     "name": "stdout",
     "output_type": "stream",
     "text": [
      "Epoch 110, Loss 0.0451\n",
      "Training Accuracy: 0.9537, Testing Accuracy: 0.9622\n",
      "\n"
     ]
    },
    {
     "name": "stdout",
     "output_type": "stream",
     "text": [
      "Epoch 120, Loss 0.044\n",
      "Training Accuracy: 0.9543, Testing Accuracy: 0.9627\n",
      "\n"
     ]
    },
    {
     "name": "stdout",
     "output_type": "stream",
     "text": [
      "Epoch 130, Loss 0.0431\n",
      "Training Accuracy: 0.9552, Testing Accuracy: 0.9642\n",
      "\n"
     ]
    },
    {
     "name": "stdout",
     "output_type": "stream",
     "text": [
      "Epoch 140, Loss 0.0423\n",
      "Training Accuracy: 0.9559, Testing Accuracy: 0.9647\n",
      "\n"
     ]
    },
    {
     "name": "stdout",
     "output_type": "stream",
     "text": [
      "Epoch 150, Loss 0.0415\n",
      "Training Accuracy: 0.9564, Testing Accuracy: 0.9652\n",
      "\n"
     ]
    },
    {
     "name": "stdout",
     "output_type": "stream",
     "text": [
      "Epoch 160, Loss 0.0409\n",
      "Training Accuracy: 0.9567, Testing Accuracy: 0.9657\n",
      "\n"
     ]
    },
    {
     "name": "stdout",
     "output_type": "stream",
     "text": [
      "Epoch 170, Loss 0.0402\n",
      "Training Accuracy: 0.9572, Testing Accuracy: 0.9657\n",
      "\n"
     ]
    },
    {
     "name": "stdout",
     "output_type": "stream",
     "text": [
      "Epoch 180, Loss 0.0397\n",
      "Training Accuracy: 0.9577, Testing Accuracy: 0.9657\n",
      "\n"
     ]
    },
    {
     "name": "stdout",
     "output_type": "stream",
     "text": [
      "Epoch 190, Loss 0.0392\n",
      "Training Accuracy: 0.9579, Testing Accuracy: 0.9662\n",
      "\n"
     ]
    },
    {
     "name": "stdout",
     "output_type": "stream",
     "text": [
      "Epoch 200, Loss 0.0387\n",
      "Training Accuracy: 0.9585, Testing Accuracy: 0.9672\n",
      "\n"
     ]
    },
    {
     "name": "stdout",
     "output_type": "stream",
     "text": [
      "Epoch 210, Loss 0.0382\n",
      "Training Accuracy: 0.9590, Testing Accuracy: 0.9672\n",
      "\n"
     ]
    },
    {
     "name": "stdout",
     "output_type": "stream",
     "text": [
      "Epoch 220, Loss 0.0378\n",
      "Training Accuracy: 0.9591, Testing Accuracy: 0.9677\n",
      "\n"
     ]
    },
    {
     "name": "stdout",
     "output_type": "stream",
     "text": [
      "Epoch 230, Loss 0.0374\n",
      "Training Accuracy: 0.9598, Testing Accuracy: 0.9677\n",
      "\n"
     ]
    },
    {
     "name": "stdout",
     "output_type": "stream",
     "text": [
      "Epoch 240, Loss 0.0371\n",
      "Training Accuracy: 0.9599, Testing Accuracy: 0.9677\n",
      "\n"
     ]
    },
    {
     "name": "stdout",
     "output_type": "stream",
     "text": [
      "Epoch 250, Loss 0.0367\n",
      "Training Accuracy: 0.9603, Testing Accuracy: 0.9677\n",
      "\n"
     ]
    },
    {
     "data": {
      "text/plain": [
       "0.029648427814841335"
      ]
     },
     "execution_count": 22,
     "metadata": {},
     "output_type": "execute_result"
    }
   ],
   "source": [
    "print(\"====== Logistic Regression ======\")\n",
    "learner_lr.train_loop(dl)"
   ]
  },
  {
   "cell_type": "markdown",
   "id": "adjusted-possible",
   "metadata": {
    "papermill": {
     "duration": 0.057562,
     "end_time": "2021-02-14T20:07:27.196309",
     "exception": false,
     "start_time": "2021-02-14T20:07:27.138747",
     "status": "completed"
    },
    "tags": []
   },
   "source": [
    "### Comparing results of NN and LR"
   ]
  },
  {
   "cell_type": "code",
   "execution_count": 23,
   "id": "mental-multimedia",
   "metadata": {
    "execution": {
     "iopub.execute_input": "2021-02-14T20:07:27.318796Z",
     "iopub.status.busy": "2021-02-14T20:07:27.318053Z",
     "iopub.status.idle": "2021-02-14T20:07:27.607300Z",
     "shell.execute_reply": "2021-02-14T20:07:27.606712Z"
    },
    "papermill": {
     "duration": 0.355095,
     "end_time": "2021-02-14T20:07:27.607492",
     "exception": false,
     "start_time": "2021-02-14T20:07:27.252397",
     "status": "completed"
    },
    "tags": []
   },
   "outputs": [
    {
     "data": {
      "text/plain": [
       "<matplotlib.legend.Legend at 0x7f933b8fcc50>"
      ]
     },
     "execution_count": 23,
     "metadata": {},
     "output_type": "execute_result"
    },
    {
     "data": {
      "image/png": "[encoded data removed]",
      "text/plain": [
       "<Figure size 1080x720 with 1 Axes>"
      ]
     },
     "metadata": {
      "needs_background": "light"
     },
     "output_type": "display_data"
    }
   ],
   "source": [
    "plt.figure(figsize=(15,10))\n",
    "\n",
    "# Neural Network plots\n",
    "plt.plot(acc_nn.accuracies, 'r-', label = \"Training Accuracies - NN\")\n",
    "plt.plot(acc_nn.test_accuracies, 'g-', label = \"Testing Accuracies - NN\")\n",
    "\n",
    "# Logistic Regression plots\n",
    "plt.plot(acc_lr.accuracies, 'k-', label = \"Training Accuracies - LR\")\n",
    "plt.plot(acc_lr.test_accuracies, 'b-', label = \"Testing Accuracies - LR\")\n",
    "\n",
    "plt.ylim(0.8, 1)\n",
    "\n",
    "plt.legend()\n",
    "\n"
   ]
  },
  {
   "cell_type": "markdown",
   "id": "sexual-flesh",
   "metadata": {
    "papermill": {
     "duration": 0.053121,
     "end_time": "2021-02-14T20:07:27.713176",
     "exception": false,
     "start_time": "2021-02-14T20:07:27.660055",
     "status": "completed"
    },
    "tags": []
   },
   "source": [
    "### From the plot, we can observe the following:\n",
    "- Neural Network achieves higher accuracy than the Logistic Regression model.\n",
    "- This apparently, is because of overfitting, i.e. NN captures more noise than data.\n",
    "- Testing accuracy of NN drops below the Training accuracy at higher epochs. This explains the over-fitting on training data.\n",
    "- Logistic Regression gives a reliable accuracy, without the above mentioned problem.\n"
   ]
  },
  {
   "cell_type": "markdown",
   "id": "institutional-pacific",
   "metadata": {
    "papermill": {
     "duration": 0.057193,
     "end_time": "2021-02-14T20:07:27.824511",
     "exception": false,
     "start_time": "2021-02-14T20:07:27.767318",
     "status": "completed"
    },
    "tags": []
   },
   "source": [
    "### Moving till the last but one layer (excluding it).\n",
    "#### Plotting the outputs of this layer of the NN."
   ]
  },
  {
   "cell_type": "code",
   "execution_count": 24,
   "id": "economic-server",
   "metadata": {
    "execution": {
     "iopub.execute_input": "2021-02-14T20:07:27.945854Z",
     "iopub.status.busy": "2021-02-14T20:07:27.938216Z",
     "iopub.status.idle": "2021-02-14T20:07:27.948333Z",
     "shell.execute_reply": "2021-02-14T20:07:27.948901Z"
    },
    "papermill": {
     "duration": 0.070953,
     "end_time": "2021-02-14T20:07:27.949072",
     "exception": false,
     "start_time": "2021-02-14T20:07:27.878119",
     "status": "completed"
    },
    "tags": []
   },
   "outputs": [],
   "source": [
    "model_new = Model(layers[:-2])"
   ]
  },
  {
   "cell_type": "code",
   "execution_count": 25,
   "id": "varied-upgrade",
   "metadata": {
    "execution": {
     "iopub.execute_input": "2021-02-14T20:07:28.063016Z",
     "iopub.status.busy": "2021-02-14T20:07:28.062321Z",
     "iopub.status.idle": "2021-02-14T20:07:28.092004Z",
     "shell.execute_reply": "2021-02-14T20:07:28.092799Z"
    },
    "papermill": {
     "duration": 0.090204,
     "end_time": "2021-02-14T20:07:28.092981",
     "exception": false,
     "start_time": "2021-02-14T20:07:28.002777",
     "status": "completed"
    },
    "tags": []
   },
   "outputs": [],
   "source": [
    "plot_testing = model_new(testing_xdata)"
   ]
  },
  {
   "cell_type": "code",
   "execution_count": 26,
   "id": "specific-handling",
   "metadata": {
    "execution": {
     "iopub.execute_input": "2021-02-14T20:07:28.217769Z",
     "iopub.status.busy": "2021-02-14T20:07:28.214305Z",
     "iopub.status.idle": "2021-02-14T20:07:28.463020Z",
     "shell.execute_reply": "2021-02-14T20:07:28.462440Z"
    },
    "papermill": {
     "duration": 0.315234,
     "end_time": "2021-02-14T20:07:28.463152",
     "exception": false,
     "start_time": "2021-02-14T20:07:28.147918",
     "status": "completed"
    },
    "tags": []
   },
   "outputs": [
    {
     "data": {
      "text/plain": [
       "Text(0.5, 1.0, 'Outputs')"
      ]
     },
     "execution_count": 26,
     "metadata": {},
     "output_type": "execute_result"
    },
    {
     "data": {
      "image/png": "[encoded data removed]",
      "text/plain": [
       "<Figure size 576x504 with 1 Axes>"
      ]
     },
     "metadata": {
      "needs_background": "light"
     },
     "output_type": "display_data"
    }
   ],
   "source": [
    "plt.figure(figsize=(8,7))\n",
    "plt.scatter(plot_testing[:,0], plot_testing[:,1], alpha = 0.1, c = y_test.ravel());\n",
    "plt.title('Outputs')"
   ]
  },
  {
   "cell_type": "markdown",
   "id": "described-knowing",
   "metadata": {
    "papermill": {
     "duration": 0.05774,
     "end_time": "2021-02-14T20:07:28.579490",
     "exception": false,
     "start_time": "2021-02-14T20:07:28.521750",
     "status": "completed"
    },
    "tags": []
   },
   "source": [
    "### Plotting probability contours"
   ]
  },
  {
   "cell_type": "code",
   "execution_count": 27,
   "id": "needed-growing",
   "metadata": {
    "execution": {
     "iopub.execute_input": "2021-02-14T20:07:28.701469Z",
     "iopub.status.busy": "2021-02-14T20:07:28.696352Z",
     "iopub.status.idle": "2021-02-14T20:07:28.706143Z",
     "shell.execute_reply": "2021-02-14T20:07:28.705602Z"
    },
    "papermill": {
     "duration": 0.071389,
     "end_time": "2021-02-14T20:07:28.706344",
     "exception": false,
     "start_time": "2021-02-14T20:07:28.634955",
     "status": "completed"
    },
    "tags": []
   },
   "outputs": [],
   "source": [
    "model_prob = Model(layers[-2:]) "
   ]
  },
  {
   "cell_type": "code",
   "execution_count": 28,
   "id": "introductory-enforcement",
   "metadata": {
    "execution": {
     "iopub.execute_input": "2021-02-14T20:07:28.845970Z",
     "iopub.status.busy": "2021-02-14T20:07:28.845210Z",
     "iopub.status.idle": "2021-02-14T20:07:28.860577Z",
     "shell.execute_reply": "2021-02-14T20:07:28.861128Z"
    },
    "papermill": {
     "duration": 0.0988,
     "end_time": "2021-02-14T20:07:28.861292",
     "exception": false,
     "start_time": "2021-02-14T20:07:28.762492",
     "status": "completed"
    },
    "tags": []
   },
   "outputs": [],
   "source": [
    "# Adjust the x and y ranges according to the above generated plot.\n",
    "x_range = np.linspace(-4, 1, 100) \n",
    "y_range = np.linspace(-6, 6, 100) \n",
    "x_grid, y_grid = np.meshgrid(x_range, y_range) # x_grid and y_grig are of size 100 X 100\n",
    "\n",
    "# converting x_grid and y_grid to continuous arrays\n",
    "x_grid_flat = np.ravel(x_grid)\n",
    "y_grid_flat = np.ravel(y_grid)\n",
    "\n",
    "# The last layer of the current model takes two columns as input. Hence transpose of np.vstack() is required.\n",
    "X = np.vstack((x_grid_flat, y_grid_flat)).T\n",
    "\n",
    "# x_grid and y_grid are of size 100 x 100\n",
    "probability_contour = model_prob(X).reshape(100,100) "
   ]
  },
  {
   "cell_type": "code",
   "execution_count": 29,
   "id": "understood-landing",
   "metadata": {
    "execution": {
     "iopub.execute_input": "2021-02-14T20:07:28.998953Z",
     "iopub.status.busy": "2021-02-14T20:07:28.998296Z",
     "iopub.status.idle": "2021-02-14T20:07:29.306901Z",
     "shell.execute_reply": "2021-02-14T20:07:29.306075Z"
    },
    "papermill": {
     "duration": 0.378501,
     "end_time": "2021-02-14T20:07:29.307033",
     "exception": false,
     "start_time": "2021-02-14T20:07:28.928532",
     "status": "completed"
    },
    "tags": []
   },
   "outputs": [
    {
     "data": {
      "image/png": "[encoded data removed]",
      "text/plain": [
       "<Figure size 720x648 with 1 Axes>"
      ]
     },
     "metadata": {
      "needs_background": "light"
     },
     "output_type": "display_data"
    }
   ],
   "source": [
    "plt.figure(figsize=(10,9))\n",
    "plt.scatter(plot_testing[:,0], plot_testing[:,1], alpha = 0.1, c = y_test.ravel())\n",
    "contours = plt.contour(x_grid,y_grid,probability_contour)\n",
    "plt.title('Probability Contours')\n",
    "plt.clabel(contours, inline = True );"
   ]
  }
 ],
 "metadata": {
  "kernelspec": {
   "display_name": "Python 3",
   "language": "python",
   "name": "python3"
  },
  "language_info": {
   "codemirror_mode": {
    "name": "ipython",
    "version": 3
   },
   "file_extension": ".py",
   "mimetype": "text/x-python",
   "name": "python",
   "nbconvert_exporter": "python",
   "pygments_lexer": "ipython3",
   "version": "3.6.12"
  },
  "papermill": {
   "duration": 173.434151,
   "end_time": "2021-02-14T20:07:30.630182",
   "environment_variables": {},
   "exception": null,
   "input_path": "2020-08-11-NeuralNetwork.ipynb",
   "output_path": "2020-08-11-NeuralNetwork.ipynb",
   "parameters": {},
   "start_time": "2021-02-14T20:04:37.196031",
   "version": "2.1.2"
  }
 },
 "nbformat": 4,
 "nbformat_minor": 5
}