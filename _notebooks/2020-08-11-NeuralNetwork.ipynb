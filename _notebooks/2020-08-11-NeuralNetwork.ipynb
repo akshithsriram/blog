{
 "cells": [
  {
   "cell_type": "markdown",
   "metadata": {
    "papermill": {
     "duration": 0.032734,
     "end_time": "2021-01-01T00:15:40.031063",
     "exception": false,
     "start_time": "2021-01-01T00:15:39.998329",
     "status": "completed"
    },
    "tags": []
   },
   "source": [
    "# \"A Basic Neural Network: Differentiate Hand-Written Digits\"\n",
    "\n",
    "- badges: true\n",
    "- author: Akshith Sriram"
   ]
  },
  {
   "cell_type": "markdown",
   "metadata": {
    "papermill": {
     "duration": 0.026729,
     "end_time": "2021-01-01T00:15:40.082631",
     "exception": false,
     "start_time": "2021-01-01T00:15:40.055902",
     "status": "completed"
    },
    "tags": []
   },
   "source": [
    "### Key Objectives:\n",
    "- Building a neural network that differentiates two hand-written digits 3 and 8.\n",
    "- Comparing the results of this Neural Network (NN) to that of a Logistic Regression (LR) model.\n",
    "\n",
    "### Requirements:\n",
    "- 'Kudzu' : A neural network library that was designed during our course by [Univ.AI](www.univ.ai). \n",
    "- MNIST Database\n",
    "\n",
    "If MNIST is not installed, use the command `!pip install mnist` given below.\n",
    "It can be run both from the command line and Jupyter Notebook."
   ]
  },
  {
   "cell_type": "code",
   "execution_count": 1,
   "metadata": {
    "execution": {
     "iopub.execute_input": "2021-01-01T00:15:40.144900Z",
     "iopub.status.busy": "2021-01-01T00:15:40.144263Z",
     "iopub.status.idle": "2021-01-01T00:15:41.654043Z",
     "shell.execute_reply": "2021-01-01T00:15:41.652647Z"
    },
    "papermill": {
     "duration": 1.547159,
     "end_time": "2021-01-01T00:15:41.654202",
     "exception": false,
     "start_time": "2021-01-01T00:15:40.107043",
     "status": "completed"
    },
    "tags": []
   },
   "outputs": [
    {
     "name": "stdout",
     "output_type": "stream",
     "text": [
      "Collecting mnist\r\n",
      "  Downloading mnist-0.2.2-py2.py3-none-any.whl (3.5 kB)\r\n",
      "Requirement already satisfied: numpy in /opt/hostedtoolcache/Python/3.6.12/x64/lib/python3.6/site-packages (from mnist) (1.19.4)\r\n"
     ]
    },
    {
     "name": "stdout",
     "output_type": "stream",
     "text": [
      "Installing collected packages: mnist\r\n"
     ]
    },
    {
     "name": "stdout",
     "output_type": "stream",
     "text": [
      "Successfully installed mnist-0.2.2\r\n",
      "\u001b[33mWARNING: You are using pip version 20.3.1; however, version 20.3.3 is available.\r\n",
      "You should consider upgrading via the '/opt/hostedtoolcache/Python/3.6.12/x64/bin/python -m pip install --upgrade pip' command.\u001b[0m\r\n"
     ]
    }
   ],
   "source": [
    "!pip install mnist "
   ]
  },
  {
   "cell_type": "markdown",
   "metadata": {
    "papermill": {
     "duration": 0.025564,
     "end_time": "2021-01-01T00:15:41.708094",
     "exception": false,
     "start_time": "2021-01-01T00:15:41.682530",
     "status": "completed"
    },
    "tags": []
   },
   "source": [
    "#### Importing necessary libraries"
   ]
  },
  {
   "cell_type": "code",
   "execution_count": 2,
   "metadata": {
    "execution": {
     "iopub.execute_input": "2021-01-01T00:15:41.768972Z",
     "iopub.status.busy": "2021-01-01T00:15:41.768388Z",
     "iopub.status.idle": "2021-01-01T00:15:42.335372Z",
     "shell.execute_reply": "2021-01-01T00:15:42.334825Z"
    },
    "papermill": {
     "duration": 0.600234,
     "end_time": "2021-01-01T00:15:42.335516",
     "exception": false,
     "start_time": "2021-01-01T00:15:41.735282",
     "status": "completed"
    },
    "tags": []
   },
   "outputs": [],
   "source": [
    "%load_ext autoreload\n",
    "%autoreload 2\n",
    "\n",
    "%matplotlib inline\n",
    "import matplotlib.pyplot as plt\n",
    "\n",
    "import numpy as np\n",
    "import pandas as pd"
   ]
  },
  {
   "cell_type": "markdown",
   "metadata": {
    "papermill": {
     "duration": 0.026654,
     "end_time": "2021-01-01T00:15:42.389992",
     "exception": false,
     "start_time": "2021-01-01T00:15:42.363338",
     "status": "completed"
    },
    "tags": []
   },
   "source": [
    "### Preparing the Data"
   ]
  },
  {
   "cell_type": "code",
   "execution_count": 3,
   "metadata": {
    "execution": {
     "iopub.execute_input": "2021-01-01T00:15:42.444074Z",
     "iopub.status.busy": "2021-01-01T00:15:42.443482Z",
     "iopub.status.idle": "2021-01-01T00:15:42.456140Z",
     "shell.execute_reply": "2021-01-01T00:15:42.456681Z"
    },
    "papermill": {
     "duration": 0.043135,
     "end_time": "2021-01-01T00:15:42.456868",
     "exception": false,
     "start_time": "2021-01-01T00:15:42.413733",
     "status": "completed"
    },
    "tags": []
   },
   "outputs": [],
   "source": [
    "import mnist"
   ]
  },
  {
   "cell_type": "code",
   "execution_count": 4,
   "metadata": {
    "execution": {
     "iopub.execute_input": "2021-01-01T00:15:42.512251Z",
     "iopub.status.busy": "2021-01-01T00:15:42.511656Z",
     "iopub.status.idle": "2021-01-01T00:15:43.271219Z",
     "shell.execute_reply": "2021-01-01T00:15:43.270060Z"
    },
    "papermill": {
     "duration": 0.789258,
     "end_time": "2021-01-01T00:15:43.271363",
     "exception": false,
     "start_time": "2021-01-01T00:15:42.482105",
     "status": "completed"
    },
    "tags": []
   },
   "outputs": [],
   "source": [
    "train_images = mnist.train_images()\n",
    "train_labels = mnist.train_labels()"
   ]
  },
  {
   "cell_type": "code",
   "execution_count": 5,
   "metadata": {
    "execution": {
     "iopub.execute_input": "2021-01-01T00:15:43.330730Z",
     "iopub.status.busy": "2021-01-01T00:15:43.330097Z",
     "iopub.status.idle": "2021-01-01T00:15:43.344409Z",
     "shell.execute_reply": "2021-01-01T00:15:43.343816Z"
    },
    "papermill": {
     "duration": 0.046323,
     "end_time": "2021-01-01T00:15:43.344537",
     "exception": false,
     "start_time": "2021-01-01T00:15:43.298214",
     "status": "completed"
    },
    "tags": []
   },
   "outputs": [
    {
     "data": {
      "text/plain": [
       "((60000, 28, 28), (60000,))"
      ]
     },
     "execution_count": 5,
     "metadata": {},
     "output_type": "execute_result"
    }
   ],
   "source": [
    "train_images.shape, train_labels.shape"
   ]
  },
  {
   "cell_type": "code",
   "execution_count": 6,
   "metadata": {
    "execution": {
     "iopub.execute_input": "2021-01-01T00:15:43.401560Z",
     "iopub.status.busy": "2021-01-01T00:15:43.400960Z",
     "iopub.status.idle": "2021-01-01T00:15:43.653995Z",
     "shell.execute_reply": "2021-01-01T00:15:43.652187Z"
    },
    "papermill": {
     "duration": 0.283311,
     "end_time": "2021-01-01T00:15:43.654222",
     "exception": false,
     "start_time": "2021-01-01T00:15:43.370911",
     "status": "completed"
    },
    "tags": []
   },
   "outputs": [],
   "source": [
    "test_images = mnist.test_images()\n",
    "test_labels = mnist.test_labels()"
   ]
  },
  {
   "cell_type": "code",
   "execution_count": 7,
   "metadata": {
    "execution": {
     "iopub.execute_input": "2021-01-01T00:15:43.714447Z",
     "iopub.status.busy": "2021-01-01T00:15:43.713367Z",
     "iopub.status.idle": "2021-01-01T00:15:43.725655Z",
     "shell.execute_reply": "2021-01-01T00:15:43.725168Z"
    },
    "papermill": {
     "duration": 0.043734,
     "end_time": "2021-01-01T00:15:43.725775",
     "exception": false,
     "start_time": "2021-01-01T00:15:43.682041",
     "status": "completed"
    },
    "tags": []
   },
   "outputs": [
    {
     "data": {
      "text/plain": [
       "((10000, 28, 28), (10000,))"
      ]
     },
     "execution_count": 7,
     "metadata": {},
     "output_type": "execute_result"
    }
   ],
   "source": [
    "test_images.shape, test_labels.shape"
   ]
  },
  {
   "cell_type": "code",
   "execution_count": 8,
   "metadata": {
    "execution": {
     "iopub.execute_input": "2021-01-01T00:15:43.786001Z",
     "iopub.status.busy": "2021-01-01T00:15:43.785405Z",
     "iopub.status.idle": "2021-01-01T00:15:43.942692Z",
     "shell.execute_reply": "2021-01-01T00:15:43.942169Z"
    },
    "papermill": {
     "duration": 0.188525,
     "end_time": "2021-01-01T00:15:43.942829",
     "exception": false,
     "start_time": "2021-01-01T00:15:43.754304",
     "status": "completed"
    },
    "tags": []
   },
   "outputs": [
    {
     "name": "stdout",
     "output_type": "stream",
     "text": [
      "2\n"
     ]
    },
    {
     "data": {
      "text/plain": [
       "<matplotlib.image.AxesImage at 0x7f593e5132b0>"
      ]
     },
     "execution_count": 8,
     "metadata": {},
     "output_type": "execute_result"
    },
    {
     "data": {
      "image/png": "[encoded data removed]",
      "text/plain": [
       "<Figure size 432x288 with 1 Axes>"
      ]
     },
     "metadata": {
      "needs_background": "light"
     },
     "output_type": "display_data"
    }
   ],
   "source": [
    "image_index = 7776 # You may select anything up to 60,000\n",
    "print(train_labels[image_index]) \n",
    "plt.imshow(train_images[image_index], cmap='Greys')"
   ]
  },
  {
   "cell_type": "markdown",
   "metadata": {
    "papermill": {
     "duration": 0.031136,
     "end_time": "2021-01-01T00:15:44.002413",
     "exception": false,
     "start_time": "2021-01-01T00:15:43.971277",
     "status": "completed"
    },
    "tags": []
   },
   "source": [
    "## Filter data to get 3 and 8 out"
   ]
  },
  {
   "cell_type": "code",
   "execution_count": 9,
   "metadata": {
    "execution": {
     "iopub.execute_input": "2021-01-01T00:15:44.073572Z",
     "iopub.status.busy": "2021-01-01T00:15:44.066532Z",
     "iopub.status.idle": "2021-01-01T00:15:44.082757Z",
     "shell.execute_reply": "2021-01-01T00:15:44.082217Z"
    },
    "papermill": {
     "duration": 0.050731,
     "end_time": "2021-01-01T00:15:44.082881",
     "exception": false,
     "start_time": "2021-01-01T00:15:44.032150",
     "status": "completed"
    },
    "tags": []
   },
   "outputs": [],
   "source": [
    "train_filter = np.where((train_labels == 3 ) | (train_labels == 8))\n",
    "test_filter = np.where((test_labels == 3) | (test_labels == 8))\n",
    "X_train, y_train = train_images[train_filter], train_labels[train_filter]\n",
    "X_test, y_test = test_images[test_filter], test_labels[test_filter]"
   ]
  },
  {
   "cell_type": "markdown",
   "metadata": {
    "papermill": {
     "duration": 0.028396,
     "end_time": "2021-01-01T00:15:44.140630",
     "exception": false,
     "start_time": "2021-01-01T00:15:44.112234",
     "status": "completed"
    },
    "tags": []
   },
   "source": [
    "We normalize the pixel values in the 0 to 1 range"
   ]
  },
  {
   "cell_type": "code",
   "execution_count": 10,
   "metadata": {
    "execution": {
     "iopub.execute_input": "2021-01-01T00:15:44.202555Z",
     "iopub.status.busy": "2021-01-01T00:15:44.202009Z",
     "iopub.status.idle": "2021-01-01T00:15:44.253062Z",
     "shell.execute_reply": "2021-01-01T00:15:44.252382Z"
    },
    "papermill": {
     "duration": 0.08378,
     "end_time": "2021-01-01T00:15:44.253240",
     "exception": false,
     "start_time": "2021-01-01T00:15:44.169460",
     "status": "completed"
    },
    "tags": []
   },
   "outputs": [],
   "source": [
    "X_train = X_train/255.\n",
    "X_test = X_test/255."
   ]
  },
  {
   "cell_type": "markdown",
   "metadata": {
    "papermill": {
     "duration": 0.028261,
     "end_time": "2021-01-01T00:15:44.311109",
     "exception": false,
     "start_time": "2021-01-01T00:15:44.282848",
     "status": "completed"
    },
    "tags": []
   },
   "source": [
    "Setup the labels as 1 (when the digit is 3) and 0 (when the digit is 8)"
   ]
  },
  {
   "cell_type": "code",
   "execution_count": 11,
   "metadata": {
    "execution": {
     "iopub.execute_input": "2021-01-01T00:15:44.378816Z",
     "iopub.status.busy": "2021-01-01T00:15:44.376622Z",
     "iopub.status.idle": "2021-01-01T00:15:44.387253Z",
     "shell.execute_reply": "2021-01-01T00:15:44.386747Z"
    },
    "papermill": {
     "duration": 0.048397,
     "end_time": "2021-01-01T00:15:44.387382",
     "exception": false,
     "start_time": "2021-01-01T00:15:44.338985",
     "status": "completed"
    },
    "tags": []
   },
   "outputs": [],
   "source": [
    "y_train = 1*(y_train==3)\n",
    "y_test = 1*(y_test==3)"
   ]
  },
  {
   "cell_type": "code",
   "execution_count": 12,
   "metadata": {
    "execution": {
     "iopub.execute_input": "2021-01-01T00:15:44.448354Z",
     "iopub.status.busy": "2021-01-01T00:15:44.447765Z",
     "iopub.status.idle": "2021-01-01T00:15:44.463506Z",
     "shell.execute_reply": "2021-01-01T00:15:44.463000Z"
    },
    "papermill": {
     "duration": 0.048019,
     "end_time": "2021-01-01T00:15:44.463632",
     "exception": false,
     "start_time": "2021-01-01T00:15:44.415613",
     "status": "completed"
    },
    "tags": []
   },
   "outputs": [
    {
     "data": {
      "text/plain": [
       "((11982, 28, 28), (1984, 28, 28))"
      ]
     },
     "execution_count": 12,
     "metadata": {},
     "output_type": "execute_result"
    }
   ],
   "source": [
    "X_train.shape, X_test.shape"
   ]
  },
  {
   "cell_type": "markdown",
   "metadata": {
    "papermill": {
     "duration": 0.02838,
     "end_time": "2021-01-01T00:15:44.520386",
     "exception": false,
     "start_time": "2021-01-01T00:15:44.492006",
     "status": "completed"
    },
    "tags": []
   },
   "source": [
    "### Reshape the input data to create a linear array"
   ]
  },
  {
   "cell_type": "code",
   "execution_count": 13,
   "metadata": {
    "execution": {
     "iopub.execute_input": "2021-01-01T00:15:44.583059Z",
     "iopub.status.busy": "2021-01-01T00:15:44.582466Z",
     "iopub.status.idle": "2021-01-01T00:15:44.596861Z",
     "shell.execute_reply": "2021-01-01T00:15:44.597380Z"
    },
    "papermill": {
     "duration": 0.048634,
     "end_time": "2021-01-01T00:15:44.597532",
     "exception": false,
     "start_time": "2021-01-01T00:15:44.548898",
     "status": "completed"
    },
    "tags": []
   },
   "outputs": [
    {
     "data": {
      "text/plain": [
       "((11982, 784), (1984, 784))"
      ]
     },
     "execution_count": 13,
     "metadata": {},
     "output_type": "execute_result"
    }
   ],
   "source": [
    "X_train = X_train.reshape(X_train.shape[0], -1)\n",
    "X_test = X_test.reshape(X_test.shape[0], -1)\n",
    "X_train.shape, X_test.shape"
   ]
  },
  {
   "cell_type": "markdown",
   "metadata": {
    "papermill": {
     "duration": 0.029296,
     "end_time": "2021-01-01T00:15:44.655492",
     "exception": false,
     "start_time": "2021-01-01T00:15:44.626196",
     "status": "completed"
    },
    "tags": []
   },
   "source": [
    "### Importing appropriate functions from 'Kudzu'"
   ]
  },
  {
   "cell_type": "code",
   "execution_count": 14,
   "metadata": {
    "execution": {
     "iopub.execute_input": "2021-01-01T00:15:44.718722Z",
     "iopub.status.busy": "2021-01-01T00:15:44.718164Z",
     "iopub.status.idle": "2021-01-01T00:15:44.737583Z",
     "shell.execute_reply": "2021-01-01T00:15:44.737098Z"
    },
    "papermill": {
     "duration": 0.05244,
     "end_time": "2021-01-01T00:15:44.737710",
     "exception": false,
     "start_time": "2021-01-01T00:15:44.685270",
     "status": "completed"
    },
    "tags": []
   },
   "outputs": [],
   "source": [
    "from kudzu.layer import Sigmoid\n",
    "from kudzu.layer import Relu\n",
    "from kudzu.layer import Affine, Sigmoid\n",
    "\n",
    "from kudzu.model import Model\n",
    "from kudzu.train import Learner\n",
    "from kudzu.optim import GD\n",
    "from kudzu.data import Data, Dataloader, Sampler\n",
    "\n",
    "from kudzu.callbacks import AccCallback\n",
    "from kudzu.callbacks import ClfCallback\n",
    "\n",
    "from kudzu.loss import MSE"
   ]
  },
  {
   "cell_type": "markdown",
   "metadata": {
    "papermill": {
     "duration": 0.028082,
     "end_time": "2021-01-01T00:15:44.794587",
     "exception": false,
     "start_time": "2021-01-01T00:15:44.766505",
     "status": "completed"
    },
    "tags": []
   },
   "source": [
    "### Let us create a `Config` class, to store important parameters. \n",
    "This class essentially plays the role of a dictionary."
   ]
  },
  {
   "cell_type": "code",
   "execution_count": 15,
   "metadata": {
    "execution": {
     "iopub.execute_input": "2021-01-01T00:15:44.856317Z",
     "iopub.status.busy": "2021-01-01T00:15:44.855722Z",
     "iopub.status.idle": "2021-01-01T00:15:44.869530Z",
     "shell.execute_reply": "2021-01-01T00:15:44.870182Z"
    },
    "papermill": {
     "duration": 0.047948,
     "end_time": "2021-01-01T00:15:44.870343",
     "exception": false,
     "start_time": "2021-01-01T00:15:44.822395",
     "status": "completed"
    },
    "tags": []
   },
   "outputs": [],
   "source": [
    "class Config:\n",
    "    pass\n",
    "config = Config()\n",
    "config.lr = 0.001\n",
    "config.num_epochs = 251\n",
    "config.bs = 50"
   ]
  },
  {
   "cell_type": "markdown",
   "metadata": {
    "papermill": {
     "duration": 0.027595,
     "end_time": "2021-01-01T00:15:44.927211",
     "exception": false,
     "start_time": "2021-01-01T00:15:44.899616",
     "status": "completed"
    },
    "tags": []
   },
   "source": [
    "### Initializing data to the variables"
   ]
  },
  {
   "cell_type": "code",
   "execution_count": 16,
   "metadata": {
    "execution": {
     "iopub.execute_input": "2021-01-01T00:15:44.991411Z",
     "iopub.status.busy": "2021-01-01T00:15:44.990820Z",
     "iopub.status.idle": "2021-01-01T00:15:45.003269Z",
     "shell.execute_reply": "2021-01-01T00:15:45.003723Z"
    },
    "papermill": {
     "duration": 0.047673,
     "end_time": "2021-01-01T00:15:45.003880",
     "exception": false,
     "start_time": "2021-01-01T00:15:44.956207",
     "status": "completed"
    },
    "tags": []
   },
   "outputs": [],
   "source": [
    "data = Data(X_train, y_train.reshape(-1,1))\n",
    "sampler = Sampler(data, config.bs, shuffle=True)\n",
    "\n",
    "dl = Dataloader(data, sampler)\n",
    "\n",
    "opt = GD(config.lr)\n",
    "loss = MSE()"
   ]
  },
  {
   "cell_type": "code",
   "execution_count": 17,
   "metadata": {
    "execution": {
     "iopub.execute_input": "2021-01-01T00:15:45.067854Z",
     "iopub.status.busy": "2021-01-01T00:15:45.067252Z",
     "iopub.status.idle": "2021-01-01T00:15:45.080112Z",
     "shell.execute_reply": "2021-01-01T00:15:45.079623Z"
    },
    "papermill": {
     "duration": 0.047581,
     "end_time": "2021-01-01T00:15:45.080246",
     "exception": false,
     "start_time": "2021-01-01T00:15:45.032665",
     "status": "completed"
    },
    "tags": []
   },
   "outputs": [],
   "source": [
    "training_xdata = X_train\n",
    "testing_xdata = X_test\n",
    "training_ydata = y_train.reshape(-1,1)\n",
    "testing_ydata = y_test.reshape(-1,1)"
   ]
  },
  {
   "cell_type": "markdown",
   "metadata": {
    "papermill": {
     "duration": 0.028507,
     "end_time": "2021-01-01T00:15:45.137393",
     "exception": false,
     "start_time": "2021-01-01T00:15:45.108886",
     "status": "completed"
    },
    "tags": []
   },
   "source": [
    "### Running Models with the Training data\n",
    "Details about the network layers:\n",
    "- A first affine layer has 784 inputs and does 100 affine transforms. These are followed by a Relu\n",
    "- A second affine layer has 100 inputs from the 100 activations of the past layer, and does 100 affine transforms. These are followed by a Relu\n",
    "- A third affine layer has 100 activations and does 2 affine transformations to create an embedding for visualization. There is no non-linearity here.\n",
    "- A final \"logistic regression\" which has an affine transform from 2 inputs to 1 output, which is squeezed through a sigmoid.\n",
    "\n",
    "Help taken from Anshuman's Notebook."
   ]
  },
  {
   "cell_type": "code",
   "execution_count": 18,
   "metadata": {
    "execution": {
     "iopub.execute_input": "2021-01-01T00:15:45.199426Z",
     "iopub.status.busy": "2021-01-01T00:15:45.198373Z",
     "iopub.status.idle": "2021-01-01T00:15:45.217673Z",
     "shell.execute_reply": "2021-01-01T00:15:45.217154Z"
    },
    "papermill": {
     "duration": 0.052135,
     "end_time": "2021-01-01T00:15:45.217813",
     "exception": false,
     "start_time": "2021-01-01T00:15:45.165678",
     "status": "completed"
    },
    "tags": []
   },
   "outputs": [],
   "source": [
    "# layers for the Neural Network\n",
    "layers = [Affine(\"first\", 784, 100), Relu(\"first\"), Affine(\"second\", 100, 100), Relu(\"second\"), Affine(\"third\", 100, 2), Affine(\"final\", 2, 1), Sigmoid(\"final\")]\n",
    "model_nn = Model(layers)\n",
    "\n",
    "# layers for the Logistic Regression\n",
    "layers_lr = [Affine(\"logits\", 784, 1), Sigmoid(\"sigmoid\")]\n",
    "model_lr = Model(layers_lr)"
   ]
  },
  {
   "cell_type": "code",
   "execution_count": 19,
   "metadata": {
    "execution": {
     "iopub.execute_input": "2021-01-01T00:15:45.280451Z",
     "iopub.status.busy": "2021-01-01T00:15:45.279836Z",
     "iopub.status.idle": "2021-01-01T00:15:45.293130Z",
     "shell.execute_reply": "2021-01-01T00:15:45.292364Z"
    },
    "papermill": {
     "duration": 0.046028,
     "end_time": "2021-01-01T00:15:45.293273",
     "exception": false,
     "start_time": "2021-01-01T00:15:45.247245",
     "status": "completed"
    },
    "tags": []
   },
   "outputs": [],
   "source": [
    "# suffix _nn stands for Neural Network.\n",
    "learner_nn = Learner(loss, model_nn, opt, config.num_epochs)\n",
    "acc_nn = ClfCallback(learner_nn, config.bs, training_xdata , testing_xdata, training_ydata, testing_ydata)\n",
    "learner_nn.set_callbacks([acc_nn])"
   ]
  },
  {
   "cell_type": "code",
   "execution_count": 20,
   "metadata": {
    "execution": {
     "iopub.execute_input": "2021-01-01T00:15:45.365004Z",
     "iopub.status.busy": "2021-01-01T00:15:45.364385Z",
     "iopub.status.idle": "2021-01-01T00:17:08.547423Z",
     "shell.execute_reply": "2021-01-01T00:17:08.548158Z"
    },
    "papermill": {
     "duration": 83.217264,
     "end_time": "2021-01-01T00:17:08.548308",
     "exception": false,
     "start_time": "2021-01-01T00:15:45.331044",
     "status": "completed"
    },
    "tags": []
   },
   "outputs": [
    {
     "name": "stdout",
     "output_type": "stream",
     "text": [
      "====== Neural Network ======\n"
     ]
    },
    {
     "name": "stdout",
     "output_type": "stream",
     "text": [
      "Epoch 0, Loss 0.2488\n",
      "Training Accuracy: 0.5043, Testing Accuracy: 0.5151\n",
      "\n"
     ]
    },
    {
     "name": "stdout",
     "output_type": "stream",
     "text": [
      "Epoch 10, Loss 0.2452\n",
      "Training Accuracy: 0.6804, Testing Accuracy: 0.7011\n",
      "\n"
     ]
    },
    {
     "name": "stdout",
     "output_type": "stream",
     "text": [
      "Epoch 20, Loss 0.2309\n",
      "Training Accuracy: 0.8116, Testing Accuracy: 0.8337\n",
      "\n"
     ]
    },
    {
     "name": "stdout",
     "output_type": "stream",
     "text": [
      "Epoch 30, Loss 0.1699\n",
      "Training Accuracy: 0.8812, Testing Accuracy: 0.8952\n",
      "\n"
     ]
    },
    {
     "name": "stdout",
     "output_type": "stream",
     "text": [
      "Epoch 40, Loss 0.0891\n",
      "Training Accuracy: 0.9144, Testing Accuracy: 0.9199\n",
      "\n"
     ]
    },
    {
     "name": "stdout",
     "output_type": "stream",
     "text": [
      "Epoch 50, Loss 0.0598\n",
      "Training Accuracy: 0.9357, Testing Accuracy: 0.9461\n",
      "\n"
     ]
    },
    {
     "name": "stdout",
     "output_type": "stream",
     "text": [
      "Epoch 60, Loss 0.0475\n",
      "Training Accuracy: 0.9467, Testing Accuracy: 0.9526\n",
      "\n"
     ]
    },
    {
     "name": "stdout",
     "output_type": "stream",
     "text": [
      "Epoch 70, Loss 0.0412\n",
      "Training Accuracy: 0.9533, Testing Accuracy: 0.9602\n",
      "\n"
     ]
    },
    {
     "name": "stdout",
     "output_type": "stream",
     "text": [
      "Epoch 80, Loss 0.0375\n",
      "Training Accuracy: 0.9571, Testing Accuracy: 0.9632\n",
      "\n"
     ]
    },
    {
     "name": "stdout",
     "output_type": "stream",
     "text": [
      "Epoch 90, Loss 0.0349\n",
      "Training Accuracy: 0.9594, Testing Accuracy: 0.9667\n",
      "\n"
     ]
    },
    {
     "name": "stdout",
     "output_type": "stream",
     "text": [
      "Epoch 100, Loss 0.033\n",
      "Training Accuracy: 0.9607, Testing Accuracy: 0.9677\n",
      "\n"
     ]
    },
    {
     "name": "stdout",
     "output_type": "stream",
     "text": [
      "Epoch 110, Loss 0.0315\n",
      "Training Accuracy: 0.9624, Testing Accuracy: 0.9688\n",
      "\n"
     ]
    },
    {
     "name": "stdout",
     "output_type": "stream",
     "text": [
      "Epoch 120, Loss 0.0303\n",
      "Training Accuracy: 0.9637, Testing Accuracy: 0.9693\n",
      "\n"
     ]
    },
    {
     "name": "stdout",
     "output_type": "stream",
     "text": [
      "Epoch 130, Loss 0.0292\n",
      "Training Accuracy: 0.9648, Testing Accuracy: 0.9703\n",
      "\n"
     ]
    },
    {
     "name": "stdout",
     "output_type": "stream",
     "text": [
      "Epoch 140, Loss 0.0283\n",
      "Training Accuracy: 0.9659, Testing Accuracy: 0.9708\n",
      "\n"
     ]
    },
    {
     "name": "stdout",
     "output_type": "stream",
     "text": [
      "Epoch 150, Loss 0.0276\n",
      "Training Accuracy: 0.9670, Testing Accuracy: 0.9708\n",
      "\n"
     ]
    },
    {
     "name": "stdout",
     "output_type": "stream",
     "text": [
      "Epoch 160, Loss 0.0269\n",
      "Training Accuracy: 0.9679, Testing Accuracy: 0.9703\n",
      "\n"
     ]
    },
    {
     "name": "stdout",
     "output_type": "stream",
     "text": [
      "Epoch 170, Loss 0.0262\n",
      "Training Accuracy: 0.9690, Testing Accuracy: 0.9713\n",
      "\n"
     ]
    },
    {
     "name": "stdout",
     "output_type": "stream",
     "text": [
      "Epoch 180, Loss 0.0256\n",
      "Training Accuracy: 0.9703, Testing Accuracy: 0.9708\n",
      "\n"
     ]
    },
    {
     "name": "stdout",
     "output_type": "stream",
     "text": [
      "Epoch 190, Loss 0.0251\n",
      "Training Accuracy: 0.9707, Testing Accuracy: 0.9713\n",
      "\n"
     ]
    },
    {
     "name": "stdout",
     "output_type": "stream",
     "text": [
      "Epoch 200, Loss 0.0246\n",
      "Training Accuracy: 0.9715, Testing Accuracy: 0.9713\n",
      "\n"
     ]
    },
    {
     "name": "stdout",
     "output_type": "stream",
     "text": [
      "Epoch 210, Loss 0.0241\n",
      "Training Accuracy: 0.9721, Testing Accuracy: 0.9718\n",
      "\n"
     ]
    },
    {
     "name": "stdout",
     "output_type": "stream",
     "text": [
      "Epoch 220, Loss 0.0237\n",
      "Training Accuracy: 0.9723, Testing Accuracy: 0.9718\n",
      "\n"
     ]
    },
    {
     "name": "stdout",
     "output_type": "stream",
     "text": [
      "Epoch 230, Loss 0.0233\n",
      "Training Accuracy: 0.9732, Testing Accuracy: 0.9723\n",
      "\n"
     ]
    },
    {
     "name": "stdout",
     "output_type": "stream",
     "text": [
      "Epoch 240, Loss 0.0229\n",
      "Training Accuracy: 0.9737, Testing Accuracy: 0.9723\n",
      "\n"
     ]
    },
    {
     "name": "stdout",
     "output_type": "stream",
     "text": [
      "Epoch 250, Loss 0.0225\n",
      "Training Accuracy: 0.9741, Testing Accuracy: 0.9728\n",
      "\n"
     ]
    },
    {
     "data": {
      "text/plain": [
       "0.036724800530049694"
      ]
     },
     "execution_count": 20,
     "metadata": {},
     "output_type": "execute_result"
    }
   ],
   "source": [
    "print(\"====== Neural Network ======\")\n",
    "learner_nn.train_loop(dl)"
   ]
  },
  {
   "cell_type": "markdown",
   "metadata": {
    "papermill": {
     "duration": 0.036019,
     "end_time": "2021-01-01T00:17:08.621280",
     "exception": false,
     "start_time": "2021-01-01T00:17:08.585261",
     "status": "completed"
    },
    "tags": []
   },
   "source": [
    "### Logistic Regression based Implementation."
   ]
  },
  {
   "cell_type": "code",
   "execution_count": 21,
   "metadata": {
    "execution": {
     "iopub.execute_input": "2021-01-01T00:17:08.696842Z",
     "iopub.status.busy": "2021-01-01T00:17:08.695834Z",
     "iopub.status.idle": "2021-01-01T00:17:08.707863Z",
     "shell.execute_reply": "2021-01-01T00:17:08.707278Z"
    },
    "papermill": {
     "duration": 0.05138,
     "end_time": "2021-01-01T00:17:08.707988",
     "exception": false,
     "start_time": "2021-01-01T00:17:08.656608",
     "status": "completed"
    },
    "tags": []
   },
   "outputs": [],
   "source": [
    "learner_lr = Learner(loss, model_lr, opt, config.num_epochs)\n",
    "acc_lr = ClfCallback(learner_lr, config.bs, training_xdata , testing_xdata, training_ydata, testing_ydata)\n",
    "learner_lr.set_callbacks([acc_lr])"
   ]
  },
  {
   "cell_type": "code",
   "execution_count": 22,
   "metadata": {
    "execution": {
     "iopub.execute_input": "2021-01-01T00:17:08.781524Z",
     "iopub.status.busy": "2021-01-01T00:17:08.780978Z",
     "iopub.status.idle": "2021-01-01T00:17:23.878342Z",
     "shell.execute_reply": "2021-01-01T00:17:23.879199Z"
    },
    "papermill": {
     "duration": 15.136438,
     "end_time": "2021-01-01T00:17:23.879371",
     "exception": false,
     "start_time": "2021-01-01T00:17:08.742933",
     "status": "completed"
    },
    "tags": []
   },
   "outputs": [
    {
     "name": "stdout",
     "output_type": "stream",
     "text": [
      "====== Logistic Regression ======\n",
      "Epoch 0, Loss 0.2407\n",
      "Training Accuracy: 0.6501, Testing Accuracy: 0.6527\n",
      "\n"
     ]
    },
    {
     "name": "stdout",
     "output_type": "stream",
     "text": [
      "Epoch 10, Loss 0.11\n",
      "Training Accuracy: 0.8906, Testing Accuracy: 0.9068\n",
      "\n"
     ]
    },
    {
     "name": "stdout",
     "output_type": "stream",
     "text": [
      "Epoch 20, Loss 0.0827\n",
      "Training Accuracy: 0.9209, Testing Accuracy: 0.9360\n",
      "\n"
     ]
    },
    {
     "name": "stdout",
     "output_type": "stream",
     "text": [
      "Epoch 30, Loss 0.0704\n",
      "Training Accuracy: 0.9327, Testing Accuracy: 0.9435\n",
      "\n"
     ]
    },
    {
     "name": "stdout",
     "output_type": "stream",
     "text": [
      "Epoch 40, Loss 0.0632\n",
      "Training Accuracy: 0.9388, Testing Accuracy: 0.9496\n",
      "\n"
     ]
    },
    {
     "name": "stdout",
     "output_type": "stream",
     "text": [
      "Epoch 50, Loss 0.0583\n",
      "Training Accuracy: 0.9432, Testing Accuracy: 0.9516\n",
      "\n"
     ]
    },
    {
     "name": "stdout",
     "output_type": "stream",
     "text": [
      "Epoch 60, Loss 0.0548\n",
      "Training Accuracy: 0.9468, Testing Accuracy: 0.9556\n",
      "\n"
     ]
    },
    {
     "name": "stdout",
     "output_type": "stream",
     "text": [
      "Epoch 70, Loss 0.0521\n",
      "Training Accuracy: 0.9493, Testing Accuracy: 0.9592\n",
      "\n"
     ]
    },
    {
     "name": "stdout",
     "output_type": "stream",
     "text": [
      "Epoch 80, Loss 0.0499\n",
      "Training Accuracy: 0.9503, Testing Accuracy: 0.9597\n",
      "\n"
     ]
    },
    {
     "name": "stdout",
     "output_type": "stream",
     "text": [
      "Epoch 90, Loss 0.0482\n",
      "Training Accuracy: 0.9508, Testing Accuracy: 0.9602\n",
      "\n"
     ]
    },
    {
     "name": "stdout",
     "output_type": "stream",
     "text": [
      "Epoch 100, Loss 0.0467\n",
      "Training Accuracy: 0.9524, Testing Accuracy: 0.9617\n",
      "\n"
     ]
    },
    {
     "name": "stdout",
     "output_type": "stream",
     "text": [
      "Epoch 110, Loss 0.0454\n",
      "Training Accuracy: 0.9541, Testing Accuracy: 0.9637\n",
      "\n"
     ]
    },
    {
     "name": "stdout",
     "output_type": "stream",
     "text": [
      "Epoch 120, Loss 0.0443\n",
      "Training Accuracy: 0.9546, Testing Accuracy: 0.9637\n",
      "\n"
     ]
    },
    {
     "name": "stdout",
     "output_type": "stream",
     "text": [
      "Epoch 130, Loss 0.0434\n",
      "Training Accuracy: 0.9549, Testing Accuracy: 0.9637\n",
      "\n"
     ]
    },
    {
     "name": "stdout",
     "output_type": "stream",
     "text": [
      "Epoch 140, Loss 0.0425\n",
      "Training Accuracy: 0.9558, Testing Accuracy: 0.9642\n",
      "\n"
     ]
    },
    {
     "name": "stdout",
     "output_type": "stream",
     "text": [
      "Epoch 150, Loss 0.0418\n",
      "Training Accuracy: 0.9565, Testing Accuracy: 0.9647\n",
      "\n"
     ]
    },
    {
     "name": "stdout",
     "output_type": "stream",
     "text": [
      "Epoch 160, Loss 0.0411\n",
      "Training Accuracy: 0.9570, Testing Accuracy: 0.9652\n",
      "\n"
     ]
    },
    {
     "name": "stdout",
     "output_type": "stream",
     "text": [
      "Epoch 170, Loss 0.0404\n",
      "Training Accuracy: 0.9569, Testing Accuracy: 0.9652\n",
      "\n"
     ]
    },
    {
     "name": "stdout",
     "output_type": "stream",
     "text": [
      "Epoch 180, Loss 0.0399\n",
      "Training Accuracy: 0.9575, Testing Accuracy: 0.9662\n",
      "\n"
     ]
    },
    {
     "name": "stdout",
     "output_type": "stream",
     "text": [
      "Epoch 190, Loss 0.0393\n",
      "Training Accuracy: 0.9575, Testing Accuracy: 0.9667\n",
      "\n"
     ]
    },
    {
     "name": "stdout",
     "output_type": "stream",
     "text": [
      "Epoch 200, Loss 0.0388\n",
      "Training Accuracy: 0.9578, Testing Accuracy: 0.9667\n",
      "\n"
     ]
    },
    {
     "name": "stdout",
     "output_type": "stream",
     "text": [
      "Epoch 210, Loss 0.0384\n",
      "Training Accuracy: 0.9579, Testing Accuracy: 0.9667\n",
      "\n"
     ]
    },
    {
     "name": "stdout",
     "output_type": "stream",
     "text": [
      "Epoch 220, Loss 0.038\n",
      "Training Accuracy: 0.9582, Testing Accuracy: 0.9667\n",
      "\n"
     ]
    },
    {
     "name": "stdout",
     "output_type": "stream",
     "text": [
      "Epoch 230, Loss 0.0376\n",
      "Training Accuracy: 0.9590, Testing Accuracy: 0.9667\n",
      "\n"
     ]
    },
    {
     "name": "stdout",
     "output_type": "stream",
     "text": [
      "Epoch 240, Loss 0.0372\n",
      "Training Accuracy: 0.9594, Testing Accuracy: 0.9662\n",
      "\n"
     ]
    },
    {
     "name": "stdout",
     "output_type": "stream",
     "text": [
      "Epoch 250, Loss 0.0368\n",
      "Training Accuracy: 0.9599, Testing Accuracy: 0.9662\n",
      "\n"
     ]
    },
    {
     "data": {
      "text/plain": [
       "0.005115418885015735"
      ]
     },
     "execution_count": 22,
     "metadata": {},
     "output_type": "execute_result"
    }
   ],
   "source": [
    "print(\"====== Logistic Regression ======\")\n",
    "learner_lr.train_loop(dl)"
   ]
  },
  {
   "cell_type": "markdown",
   "metadata": {
    "papermill": {
     "duration": 0.04412,
     "end_time": "2021-01-01T00:17:23.968500",
     "exception": false,
     "start_time": "2021-01-01T00:17:23.924380",
     "status": "completed"
    },
    "tags": []
   },
   "source": [
    "### Comparing results of NN and LR"
   ]
  },
  {
   "cell_type": "code",
   "execution_count": 23,
   "metadata": {
    "execution": {
     "iopub.execute_input": "2021-01-01T00:17:24.062236Z",
     "iopub.status.busy": "2021-01-01T00:17:24.061455Z",
     "iopub.status.idle": "2021-01-01T00:17:24.292150Z",
     "shell.execute_reply": "2021-01-01T00:17:24.291654Z"
    },
    "papermill": {
     "duration": 0.279941,
     "end_time": "2021-01-01T00:17:24.292286",
     "exception": false,
     "start_time": "2021-01-01T00:17:24.012345",
     "status": "completed"
    },
    "tags": []
   },
   "outputs": [
    {
     "data": {
      "text/plain": [
       "<matplotlib.legend.Legend at 0x7f593993dbe0>"
      ]
     },
     "execution_count": 23,
     "metadata": {},
     "output_type": "execute_result"
    },
    {
     "data": {
      "image/png": "[encoded data removed]",
      "text/plain": [
       "<Figure size 1080x720 with 1 Axes>"
      ]
     },
     "metadata": {
      "needs_background": "light"
     },
     "output_type": "display_data"
    }
   ],
   "source": [
    "plt.figure(figsize=(15,10))\n",
    "\n",
    "# Neural Network plots\n",
    "plt.plot(acc_nn.accuracies, 'r-', label = \"Training Accuracies - NN\")\n",
    "plt.plot(acc_nn.test_accuracies, 'g-', label = \"Testing Accuracies - NN\")\n",
    "\n",
    "# Logistic Regression plots\n",
    "plt.plot(acc_lr.accuracies, 'k-', label = \"Training Accuracies - LR\")\n",
    "plt.plot(acc_lr.test_accuracies, 'b-', label = \"Testing Accuracies - LR\")\n",
    "\n",
    "plt.ylim(0.8, 1)\n",
    "\n",
    "plt.legend()\n",
    "\n"
   ]
  },
  {
   "cell_type": "markdown",
   "metadata": {
    "papermill": {
     "duration": 0.046546,
     "end_time": "2021-01-01T00:17:24.384892",
     "exception": false,
     "start_time": "2021-01-01T00:17:24.338346",
     "status": "completed"
    },
    "tags": []
   },
   "source": [
    "### From the plot, we can observe the following:\n",
    "- Neural Network achieves higher accuracy than the Logistic Regression model.\n",
    "- This apparently, is because of overfitting, i.e. NN captures more noise than data.\n",
    "- Testing accuracy of NN drops below the Training accuracy at higher epochs. This explains the over-fitting on training data.\n",
    "- Logistic Regression gives a reliable accuracy, without the above mentioned problem.\n"
   ]
  },
  {
   "cell_type": "markdown",
   "metadata": {
    "papermill": {
     "duration": 0.045205,
     "end_time": "2021-01-01T00:17:24.476283",
     "exception": false,
     "start_time": "2021-01-01T00:17:24.431078",
     "status": "completed"
    },
    "tags": []
   },
   "source": [
    "### Moving till the last but one layer (excluding it).\n",
    "#### Plotting the outputs of this layer of the NN."
   ]
  },
  {
   "cell_type": "code",
   "execution_count": 24,
   "metadata": {
    "execution": {
     "iopub.execute_input": "2021-01-01T00:17:24.568978Z",
     "iopub.status.busy": "2021-01-01T00:17:24.568405Z",
     "iopub.status.idle": "2021-01-01T00:17:24.580965Z",
     "shell.execute_reply": "2021-01-01T00:17:24.580524Z"
    },
    "papermill": {
     "duration": 0.060707,
     "end_time": "2021-01-01T00:17:24.581073",
     "exception": false,
     "start_time": "2021-01-01T00:17:24.520366",
     "status": "completed"
    },
    "tags": []
   },
   "outputs": [],
   "source": [
    "model_new = Model(layers[:-2])"
   ]
  },
  {
   "cell_type": "code",
   "execution_count": 25,
   "metadata": {
    "execution": {
     "iopub.execute_input": "2021-01-01T00:17:24.670610Z",
     "iopub.status.busy": "2021-01-01T00:17:24.670031Z",
     "iopub.status.idle": "2021-01-01T00:17:24.690724Z",
     "shell.execute_reply": "2021-01-01T00:17:24.691450Z"
    },
    "papermill": {
     "duration": 0.067395,
     "end_time": "2021-01-01T00:17:24.691605",
     "exception": false,
     "start_time": "2021-01-01T00:17:24.624210",
     "status": "completed"
    },
    "tags": []
   },
   "outputs": [],
   "source": [
    "plot_testing = model_new(testing_xdata)"
   ]
  },
  {
   "cell_type": "code",
   "execution_count": 26,
   "metadata": {
    "execution": {
     "iopub.execute_input": "2021-01-01T00:17:24.794216Z",
     "iopub.status.busy": "2021-01-01T00:17:24.793632Z",
     "iopub.status.idle": "2021-01-01T00:17:25.031326Z",
     "shell.execute_reply": "2021-01-01T00:17:25.031899Z"
    },
    "papermill": {
     "duration": 0.294177,
     "end_time": "2021-01-01T00:17:25.032056",
     "exception": false,
     "start_time": "2021-01-01T00:17:24.737879",
     "status": "completed"
    },
    "tags": []
   },
   "outputs": [
    {
     "data": {
      "text/plain": [
       "Text(0.5, 1.0, 'Outputs')"
      ]
     },
     "execution_count": 26,
     "metadata": {},
     "output_type": "execute_result"
    },
    {
     "data": {
      "image/png": "[encoded data removed]",
      "text/plain": [
       "<Figure size 576x504 with 1 Axes>"
      ]
     },
     "metadata": {
      "needs_background": "light"
     },
     "output_type": "display_data"
    }
   ],
   "source": [
    "plt.figure(figsize=(8,7))\n",
    "plt.scatter(plot_testing[:,0], plot_testing[:,1], alpha = 0.1, c = y_test.ravel());\n",
    "plt.title('Outputs')"
   ]
  },
  {
   "cell_type": "markdown",
   "metadata": {
    "papermill": {
     "duration": 0.049023,
     "end_time": "2021-01-01T00:17:25.130760",
     "exception": false,
     "start_time": "2021-01-01T00:17:25.081737",
     "status": "completed"
    },
    "tags": []
   },
   "source": [
    "### Plotting probability contours"
   ]
  },
  {
   "cell_type": "code",
   "execution_count": 27,
   "metadata": {
    "execution": {
     "iopub.execute_input": "2021-01-01T00:17:25.234004Z",
     "iopub.status.busy": "2021-01-01T00:17:25.233418Z",
     "iopub.status.idle": "2021-01-01T00:17:25.243428Z",
     "shell.execute_reply": "2021-01-01T00:17:25.243901Z"
    },
    "papermill": {
     "duration": 0.065493,
     "end_time": "2021-01-01T00:17:25.244047",
     "exception": false,
     "start_time": "2021-01-01T00:17:25.178554",
     "status": "completed"
    },
    "tags": []
   },
   "outputs": [],
   "source": [
    "model_prob = Model(layers[-2:]) "
   ]
  },
  {
   "cell_type": "code",
   "execution_count": 28,
   "metadata": {
    "execution": {
     "iopub.execute_input": "2021-01-01T00:17:25.351158Z",
     "iopub.status.busy": "2021-01-01T00:17:25.350541Z",
     "iopub.status.idle": "2021-01-01T00:17:25.365127Z",
     "shell.execute_reply": "2021-01-01T00:17:25.365923Z"
    },
    "papermill": {
     "duration": 0.071717,
     "end_time": "2021-01-01T00:17:25.366080",
     "exception": false,
     "start_time": "2021-01-01T00:17:25.294363",
     "status": "completed"
    },
    "tags": []
   },
   "outputs": [],
   "source": [
    "# Adjust the x and y ranges according to the above generated plot.\n",
    "x_range = np.linspace(-4, 1, 100) \n",
    "y_range = np.linspace(-6, 6, 100) \n",
    "x_grid, y_grid = np.meshgrid(x_range, y_range) # x_grid and y_grig are of size 100 X 100\n",
    "\n",
    "# converting x_grid and y_grid to continuous arrays\n",
    "x_grid_flat = np.ravel(x_grid)\n",
    "y_grid_flat = np.ravel(y_grid)\n",
    "\n",
    "# The last layer of the current model takes two columns as input. Hence transpose of np.vstack() is required.\n",
    "X = np.vstack((x_grid_flat, y_grid_flat)).T\n",
    "\n",
    "# x_grid and y_grid are of size 100 x 100\n",
    "probability_contour = model_prob(X).reshape(100,100) "
   ]
  },
  {
   "cell_type": "code",
   "execution_count": 29,
   "metadata": {
    "execution": {
     "iopub.execute_input": "2021-01-01T00:17:25.517720Z",
     "iopub.status.busy": "2021-01-01T00:17:25.516975Z",
     "iopub.status.idle": "2021-01-01T00:17:25.784083Z",
     "shell.execute_reply": "2021-01-01T00:17:25.783549Z"
    },
    "papermill": {
     "duration": 0.333567,
     "end_time": "2021-01-01T00:17:25.784252",
     "exception": false,
     "start_time": "2021-01-01T00:17:25.450685",
     "status": "completed"
    },
    "tags": []
   },
   "outputs": [
    {
     "data": {
      "image/png": "[encoded data removed]",
      "text/plain": [
       "<Figure size 720x648 with 1 Axes>"
      ]
     },
     "metadata": {
      "needs_background": "light"
     },
     "output_type": "display_data"
    }
   ],
   "source": [
    "plt.figure(figsize=(10,9))\n",
    "plt.scatter(plot_testing[:,0], plot_testing[:,1], alpha = 0.1, c = y_test.ravel())\n",
    "contours = plt.contour(x_grid,y_grid,probability_contour)\n",
    "plt.title('Probability Contours')\n",
    "plt.clabel(contours, inline = True );"
   ]
  }
 ],
 "metadata": {
  "kernelspec": {
   "display_name": "Python 3",
   "language": "python",
   "name": "python3"
  },
  "language_info": {
   "codemirror_mode": {
    "name": "ipython",
    "version": 3
   },
   "file_extension": ".py",
   "mimetype": "text/x-python",
   "name": "python",
   "nbconvert_exporter": "python",
   "pygments_lexer": "ipython3",
   "version": "3.6.12"
  },
  "papermill": {
   "duration": 107.339468,
   "end_time": "2021-01-01T00:17:26.247824",
   "environment_variables": {},
   "exception": null,
   "input_path": "2020-08-11-NeuralNetwork.ipynb",
   "output_path": "2020-08-11-NeuralNetwork.ipynb",
   "parameters": {},
   "start_time": "2021-01-01T00:15:38.908356",
   "version": "2.1.2"
  }
 },
 "nbformat": 4,
 "nbformat_minor": 4
}