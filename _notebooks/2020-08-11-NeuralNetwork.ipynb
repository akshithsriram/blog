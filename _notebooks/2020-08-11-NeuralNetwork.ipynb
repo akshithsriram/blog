{
 "cells": [
  {
   "cell_type": "markdown",
   "id": "fitted-suggestion",
   "metadata": {
    "papermill": {
     "duration": 0.039036,
     "end_time": "2021-03-28T00:29:57.492239",
     "exception": false,
     "start_time": "2021-03-28T00:29:57.453203",
     "status": "completed"
    },
    "tags": []
   },
   "source": [
    "# \"A Basic Neural Network: Differentiate Hand-Written Digits\"\n",
    "\n",
    "- badges: true\n",
    "- author: Akshith Sriram"
   ]
  },
  {
   "cell_type": "markdown",
   "id": "signal-flexibility",
   "metadata": {
    "papermill": {
     "duration": 0.029917,
     "end_time": "2021-03-28T00:29:57.554878",
     "exception": false,
     "start_time": "2021-03-28T00:29:57.524961",
     "status": "completed"
    },
    "tags": []
   },
   "source": [
    "### Key Objectives:\n",
    "- Building a neural network that differentiates two hand-written digits 3 and 8.\n",
    "- Comparing the results of this Neural Network (NN) to that of a Logistic Regression (LR) model.\n",
    "\n",
    "### Requirements:\n",
    "- 'Kudzu' : A neural network library that was designed during our course by [Univ.AI](www.univ.ai). \n",
    "- MNIST Database\n",
    "\n",
    "If MNIST is not installed, use the command `!pip install mnist` given below.\n",
    "It can be run both from the command line and Jupyter Notebook."
   ]
  },
  {
   "cell_type": "code",
   "execution_count": 1,
   "id": "british-texture",
   "metadata": {
    "execution": {
     "iopub.execute_input": "2021-03-28T00:29:57.622724Z",
     "iopub.status.busy": "2021-03-28T00:29:57.622113Z",
     "iopub.status.idle": "2021-03-28T00:29:59.370988Z",
     "shell.execute_reply": "2021-03-28T00:29:59.371467Z"
    },
    "papermill": {
     "duration": 1.787787,
     "end_time": "2021-03-28T00:29:59.371653",
     "exception": false,
     "start_time": "2021-03-28T00:29:57.583866",
     "status": "completed"
    },
    "tags": []
   },
   "outputs": [
    {
     "name": "stdout",
     "output_type": "stream",
     "text": [
      "Collecting mnist\r\n"
     ]
    },
    {
     "name": "stdout",
     "output_type": "stream",
     "text": [
      "  Downloading mnist-0.2.2-py2.py3-none-any.whl (3.5 kB)\r\n",
      "Requirement already satisfied: numpy in /opt/hostedtoolcache/Python/3.6.13/x64/lib/python3.6/site-packages (from mnist) (1.19.5)\r\n"
     ]
    },
    {
     "name": "stdout",
     "output_type": "stream",
     "text": [
      "Installing collected packages: mnist\r\n"
     ]
    },
    {
     "name": "stdout",
     "output_type": "stream",
     "text": [
      "Successfully installed mnist-0.2.2\r\n"
     ]
    }
   ],
   "source": [
    "!pip install mnist "
   ]
  },
  {
   "cell_type": "markdown",
   "id": "stunning-extra",
   "metadata": {
    "papermill": {
     "duration": 0.030552,
     "end_time": "2021-03-28T00:29:59.432662",
     "exception": false,
     "start_time": "2021-03-28T00:29:59.402110",
     "status": "completed"
    },
    "tags": []
   },
   "source": [
    "#### Importing necessary libraries"
   ]
  },
  {
   "cell_type": "code",
   "execution_count": 2,
   "id": "wooden-france",
   "metadata": {
    "execution": {
     "iopub.execute_input": "2021-03-28T00:29:59.506544Z",
     "iopub.status.busy": "2021-03-28T00:29:59.505793Z",
     "iopub.status.idle": "2021-03-28T00:30:00.077003Z",
     "shell.execute_reply": "2021-03-28T00:30:00.076409Z"
    },
    "papermill": {
     "duration": 0.615741,
     "end_time": "2021-03-28T00:30:00.077176",
     "exception": false,
     "start_time": "2021-03-28T00:29:59.461435",
     "status": "completed"
    },
    "tags": []
   },
   "outputs": [],
   "source": [
    "%load_ext autoreload\n",
    "%autoreload 2\n",
    "\n",
    "%matplotlib inline\n",
    "import matplotlib.pyplot as plt\n",
    "\n",
    "import numpy as np\n",
    "import pandas as pd"
   ]
  },
  {
   "cell_type": "markdown",
   "id": "stunning-physics",
   "metadata": {
    "papermill": {
     "duration": 0.031189,
     "end_time": "2021-03-28T00:30:00.141343",
     "exception": false,
     "start_time": "2021-03-28T00:30:00.110154",
     "status": "completed"
    },
    "tags": []
   },
   "source": [
    "### Preparing the Data"
   ]
  },
  {
   "cell_type": "code",
   "execution_count": 3,
   "id": "unauthorized-remainder",
   "metadata": {
    "execution": {
     "iopub.execute_input": "2021-03-28T00:30:00.216485Z",
     "iopub.status.busy": "2021-03-28T00:30:00.215867Z",
     "iopub.status.idle": "2021-03-28T00:30:00.233147Z",
     "shell.execute_reply": "2021-03-28T00:30:00.232502Z"
    },
    "papermill": {
     "duration": 0.062164,
     "end_time": "2021-03-28T00:30:00.233282",
     "exception": false,
     "start_time": "2021-03-28T00:30:00.171118",
     "status": "completed"
    },
    "tags": []
   },
   "outputs": [],
   "source": [
    "import mnist"
   ]
  },
  {
   "cell_type": "code",
   "execution_count": 4,
   "id": "correct-antarctica",
   "metadata": {
    "execution": {
     "iopub.execute_input": "2021-03-28T00:30:00.818923Z",
     "iopub.status.busy": "2021-03-28T00:30:00.818074Z",
     "iopub.status.idle": "2021-03-28T00:32:34.070908Z",
     "shell.execute_reply": "2021-03-28T00:32:34.069683Z"
    },
    "papermill": {
     "duration": 153.803851,
     "end_time": "2021-03-28T00:32:34.071066",
     "exception": false,
     "start_time": "2021-03-28T00:30:00.267215",
     "status": "completed"
    },
    "tags": []
   },
   "outputs": [],
   "source": [
    "train_images = mnist.train_images()\n",
    "train_labels = mnist.train_labels()"
   ]
  },
  {
   "cell_type": "code",
   "execution_count": 5,
   "id": "musical-prospect",
   "metadata": {
    "execution": {
     "iopub.execute_input": "2021-03-28T00:32:34.146344Z",
     "iopub.status.busy": "2021-03-28T00:32:34.141078Z",
     "iopub.status.idle": "2021-03-28T00:32:34.161922Z",
     "shell.execute_reply": "2021-03-28T00:32:34.162428Z"
    },
    "papermill": {
     "duration": 0.057318,
     "end_time": "2021-03-28T00:32:34.162596",
     "exception": false,
     "start_time": "2021-03-28T00:32:34.105278",
     "status": "completed"
    },
    "tags": []
   },
   "outputs": [
    {
     "data": {
      "text/plain": [
       "((60000, 28, 28), (60000,))"
      ]
     },
     "execution_count": 5,
     "metadata": {},
     "output_type": "execute_result"
    }
   ],
   "source": [
    "train_images.shape, train_labels.shape"
   ]
  },
  {
   "cell_type": "code",
   "execution_count": 6,
   "id": "preliminary-elizabeth",
   "metadata": {
    "execution": {
     "iopub.execute_input": "2021-03-28T00:32:34.232981Z",
     "iopub.status.busy": "2021-03-28T00:32:34.232353Z",
     "iopub.status.idle": "2021-03-28T00:33:07.166812Z",
     "shell.execute_reply": "2021-03-28T00:33:07.165888Z"
    },
    "papermill": {
     "duration": 32.971592,
     "end_time": "2021-03-28T00:33:07.166958",
     "exception": false,
     "start_time": "2021-03-28T00:32:34.195366",
     "status": "completed"
    },
    "tags": []
   },
   "outputs": [],
   "source": [
    "test_images = mnist.test_images()\n",
    "test_labels = mnist.test_labels()"
   ]
  },
  {
   "cell_type": "code",
   "execution_count": 7,
   "id": "acknowledged-oxygen",
   "metadata": {
    "execution": {
     "iopub.execute_input": "2021-03-28T00:33:07.270491Z",
     "iopub.status.busy": "2021-03-28T00:33:07.267989Z",
     "iopub.status.idle": "2021-03-28T00:33:07.276316Z",
     "shell.execute_reply": "2021-03-28T00:33:07.275788Z"
    },
    "papermill": {
     "duration": 0.062076,
     "end_time": "2021-03-28T00:33:07.276457",
     "exception": false,
     "start_time": "2021-03-28T00:33:07.214381",
     "status": "completed"
    },
    "tags": []
   },
   "outputs": [
    {
     "data": {
      "text/plain": [
       "((10000, 28, 28), (10000,))"
      ]
     },
     "execution_count": 7,
     "metadata": {},
     "output_type": "execute_result"
    }
   ],
   "source": [
    "test_images.shape, test_labels.shape"
   ]
  },
  {
   "cell_type": "code",
   "execution_count": 8,
   "id": "innovative-organic",
   "metadata": {
    "execution": {
     "iopub.execute_input": "2021-03-28T00:33:07.348183Z",
     "iopub.status.busy": "2021-03-28T00:33:07.347542Z",
     "iopub.status.idle": "2021-03-28T00:33:07.513066Z",
     "shell.execute_reply": "2021-03-28T00:33:07.512559Z"
    },
    "papermill": {
     "duration": 0.202509,
     "end_time": "2021-03-28T00:33:07.513225",
     "exception": false,
     "start_time": "2021-03-28T00:33:07.310716",
     "status": "completed"
    },
    "tags": []
   },
   "outputs": [
    {
     "name": "stdout",
     "output_type": "stream",
     "text": [
      "2\n"
     ]
    },
    {
     "data": {
      "text/plain": [
       "<matplotlib.image.AxesImage at 0x7f1bf6484a90>"
      ]
     },
     "execution_count": 8,
     "metadata": {},
     "output_type": "execute_result"
    },
    {
     "data": {
      "image/png": "[encoded data removed]",
      "text/plain": [
       "<Figure size 432x288 with 1 Axes>"
      ]
     },
     "metadata": {
      "needs_background": "light"
     },
     "output_type": "display_data"
    }
   ],
   "source": [
    "image_index = 7776 # You may select anything up to 60,000\n",
    "print(train_labels[image_index]) \n",
    "plt.imshow(train_images[image_index], cmap='Greys')"
   ]
  },
  {
   "cell_type": "markdown",
   "id": "facial-modem",
   "metadata": {
    "papermill": {
     "duration": 0.034139,
     "end_time": "2021-03-28T00:33:07.580976",
     "exception": false,
     "start_time": "2021-03-28T00:33:07.546837",
     "status": "completed"
    },
    "tags": []
   },
   "source": [
    "## Filter data to get 3 and 8 out"
   ]
  },
  {
   "cell_type": "code",
   "execution_count": 9,
   "id": "thousand-acquisition",
   "metadata": {
    "execution": {
     "iopub.execute_input": "2021-03-28T00:33:07.657869Z",
     "iopub.status.busy": "2021-03-28T00:33:07.657177Z",
     "iopub.status.idle": "2021-03-28T00:33:07.683904Z",
     "shell.execute_reply": "2021-03-28T00:33:07.683282Z"
    },
    "papermill": {
     "duration": 0.069379,
     "end_time": "2021-03-28T00:33:07.684047",
     "exception": false,
     "start_time": "2021-03-28T00:33:07.614668",
     "status": "completed"
    },
    "tags": []
   },
   "outputs": [],
   "source": [
    "train_filter = np.where((train_labels == 3 ) | (train_labels == 8))\n",
    "test_filter = np.where((test_labels == 3) | (test_labels == 8))\n",
    "X_train, y_train = train_images[train_filter], train_labels[train_filter]\n",
    "X_test, y_test = test_images[test_filter], test_labels[test_filter]"
   ]
  },
  {
   "cell_type": "markdown",
   "id": "ruled-access",
   "metadata": {
    "papermill": {
     "duration": 0.036252,
     "end_time": "2021-03-28T00:33:07.755916",
     "exception": false,
     "start_time": "2021-03-28T00:33:07.719664",
     "status": "completed"
    },
    "tags": []
   },
   "source": [
    "We normalize the pixel values in the 0 to 1 range"
   ]
  },
  {
   "cell_type": "code",
   "execution_count": 10,
   "id": "isolated-denver",
   "metadata": {
    "execution": {
     "iopub.execute_input": "2021-03-28T00:33:07.855217Z",
     "iopub.status.busy": "2021-03-28T00:33:07.854563Z",
     "iopub.status.idle": "2021-03-28T00:33:07.904792Z",
     "shell.execute_reply": "2021-03-28T00:33:07.904196Z"
    },
    "papermill": {
     "duration": 0.109015,
     "end_time": "2021-03-28T00:33:07.904932",
     "exception": false,
     "start_time": "2021-03-28T00:33:07.795917",
     "status": "completed"
    },
    "tags": []
   },
   "outputs": [],
   "source": [
    "X_train = X_train/255.\n",
    "X_test = X_test/255."
   ]
  },
  {
   "cell_type": "markdown",
   "id": "perfect-summary",
   "metadata": {
    "papermill": {
     "duration": 0.034423,
     "end_time": "2021-03-28T00:33:07.973387",
     "exception": false,
     "start_time": "2021-03-28T00:33:07.938964",
     "status": "completed"
    },
    "tags": []
   },
   "source": [
    "Setup the labels as 1 (when the digit is 3) and 0 (when the digit is 8)"
   ]
  },
  {
   "cell_type": "code",
   "execution_count": 11,
   "id": "personalized-growing",
   "metadata": {
    "execution": {
     "iopub.execute_input": "2021-03-28T00:33:08.053529Z",
     "iopub.status.busy": "2021-03-28T00:33:08.042905Z",
     "iopub.status.idle": "2021-03-28T00:33:08.058819Z",
     "shell.execute_reply": "2021-03-28T00:33:08.058272Z"
    },
    "papermill": {
     "duration": 0.052714,
     "end_time": "2021-03-28T00:33:08.058947",
     "exception": false,
     "start_time": "2021-03-28T00:33:08.006233",
     "status": "completed"
    },
    "tags": []
   },
   "outputs": [],
   "source": [
    "y_train = 1*(y_train==3)\n",
    "y_test = 1*(y_test==3)"
   ]
  },
  {
   "cell_type": "code",
   "execution_count": 12,
   "id": "considered-virgin",
   "metadata": {
    "execution": {
     "iopub.execute_input": "2021-03-28T00:33:08.131198Z",
     "iopub.status.busy": "2021-03-28T00:33:08.130634Z",
     "iopub.status.idle": "2021-03-28T00:33:08.141188Z",
     "shell.execute_reply": "2021-03-28T00:33:08.141632Z"
    },
    "papermill": {
     "duration": 0.048964,
     "end_time": "2021-03-28T00:33:08.141764",
     "exception": false,
     "start_time": "2021-03-28T00:33:08.092800",
     "status": "completed"
    },
    "tags": []
   },
   "outputs": [
    {
     "data": {
      "text/plain": [
       "((11982, 28, 28), (1984, 28, 28))"
      ]
     },
     "execution_count": 12,
     "metadata": {},
     "output_type": "execute_result"
    }
   ],
   "source": [
    "X_train.shape, X_test.shape"
   ]
  },
  {
   "cell_type": "markdown",
   "id": "civilian-mobile",
   "metadata": {
    "papermill": {
     "duration": 0.031462,
     "end_time": "2021-03-28T00:33:08.204757",
     "exception": false,
     "start_time": "2021-03-28T00:33:08.173295",
     "status": "completed"
    },
    "tags": []
   },
   "source": [
    "### Reshape the input data to create a linear array"
   ]
  },
  {
   "cell_type": "code",
   "execution_count": 13,
   "id": "colonial-adams",
   "metadata": {
    "execution": {
     "iopub.execute_input": "2021-03-28T00:33:08.294502Z",
     "iopub.status.busy": "2021-03-28T00:33:08.293697Z",
     "iopub.status.idle": "2021-03-28T00:33:08.315895Z",
     "shell.execute_reply": "2021-03-28T00:33:08.315320Z"
    },
    "papermill": {
     "duration": 0.074791,
     "end_time": "2021-03-28T00:33:08.316038",
     "exception": false,
     "start_time": "2021-03-28T00:33:08.241247",
     "status": "completed"
    },
    "tags": []
   },
   "outputs": [
    {
     "data": {
      "text/plain": [
       "((11982, 784), (1984, 784))"
      ]
     },
     "execution_count": 13,
     "metadata": {},
     "output_type": "execute_result"
    }
   ],
   "source": [
    "X_train = X_train.reshape(X_train.shape[0], -1)\n",
    "X_test = X_test.reshape(X_test.shape[0], -1)\n",
    "X_train.shape, X_test.shape"
   ]
  },
  {
   "cell_type": "markdown",
   "id": "smart-details",
   "metadata": {
    "papermill": {
     "duration": 0.037024,
     "end_time": "2021-03-28T00:33:08.392944",
     "exception": false,
     "start_time": "2021-03-28T00:33:08.355920",
     "status": "completed"
    },
    "tags": []
   },
   "source": [
    "### Importing appropriate functions from 'Kudzu'"
   ]
  },
  {
   "cell_type": "code",
   "execution_count": 14,
   "id": "celtic-trial",
   "metadata": {
    "execution": {
     "iopub.execute_input": "2021-03-28T00:33:08.494741Z",
     "iopub.status.busy": "2021-03-28T00:33:08.485693Z",
     "iopub.status.idle": "2021-03-28T00:33:08.503407Z",
     "shell.execute_reply": "2021-03-28T00:33:08.502826Z"
    },
    "papermill": {
     "duration": 0.073076,
     "end_time": "2021-03-28T00:33:08.503554",
     "exception": false,
     "start_time": "2021-03-28T00:33:08.430478",
     "status": "completed"
    },
    "tags": []
   },
   "outputs": [],
   "source": [
    "from kudzu.layer import Sigmoid\n",
    "from kudzu.layer import Relu\n",
    "from kudzu.layer import Affine, Sigmoid\n",
    "\n",
    "from kudzu.model import Model\n",
    "from kudzu.train import Learner\n",
    "from kudzu.optim import GD\n",
    "from kudzu.data import Data, Dataloader, Sampler\n",
    "\n",
    "from kudzu.callbacks import AccCallback\n",
    "from kudzu.callbacks import ClfCallback\n",
    "\n",
    "from kudzu.loss import MSE"
   ]
  },
  {
   "cell_type": "markdown",
   "id": "coupled-customer",
   "metadata": {
    "papermill": {
     "duration": 0.037921,
     "end_time": "2021-03-28T00:33:08.580483",
     "exception": false,
     "start_time": "2021-03-28T00:33:08.542562",
     "status": "completed"
    },
    "tags": []
   },
   "source": [
    "### Let us create a `Config` class, to store important parameters. \n",
    "This class essentially plays the role of a dictionary."
   ]
  },
  {
   "cell_type": "code",
   "execution_count": 15,
   "id": "young-ceiling",
   "metadata": {
    "execution": {
     "iopub.execute_input": "2021-03-28T00:33:08.661772Z",
     "iopub.status.busy": "2021-03-28T00:33:08.660878Z",
     "iopub.status.idle": "2021-03-28T00:33:08.676349Z",
     "shell.execute_reply": "2021-03-28T00:33:08.675729Z"
    },
    "papermill": {
     "duration": 0.057179,
     "end_time": "2021-03-28T00:33:08.676495",
     "exception": false,
     "start_time": "2021-03-28T00:33:08.619316",
     "status": "completed"
    },
    "tags": []
   },
   "outputs": [],
   "source": [
    "class Config:\n",
    "    pass\n",
    "config = Config()\n",
    "config.lr = 0.001\n",
    "config.num_epochs = 251\n",
    "config.bs = 50"
   ]
  },
  {
   "cell_type": "markdown",
   "id": "according-mandate",
   "metadata": {
    "papermill": {
     "duration": 0.036258,
     "end_time": "2021-03-28T00:33:08.754969",
     "exception": false,
     "start_time": "2021-03-28T00:33:08.718711",
     "status": "completed"
    },
    "tags": []
   },
   "source": [
    "### Initializing data to the variables"
   ]
  },
  {
   "cell_type": "code",
   "execution_count": 16,
   "id": "academic-disposition",
   "metadata": {
    "execution": {
     "iopub.execute_input": "2021-03-28T00:33:08.839430Z",
     "iopub.status.busy": "2021-03-28T00:33:08.838750Z",
     "iopub.status.idle": "2021-03-28T00:33:08.852898Z",
     "shell.execute_reply": "2021-03-28T00:33:08.852328Z"
    },
    "papermill": {
     "duration": 0.059809,
     "end_time": "2021-03-28T00:33:08.853051",
     "exception": false,
     "start_time": "2021-03-28T00:33:08.793242",
     "status": "completed"
    },
    "tags": []
   },
   "outputs": [],
   "source": [
    "data = Data(X_train, y_train.reshape(-1,1))\n",
    "sampler = Sampler(data, config.bs, shuffle=True)\n",
    "\n",
    "dl = Dataloader(data, sampler)\n",
    "\n",
    "opt = GD(config.lr)\n",
    "loss = MSE()"
   ]
  },
  {
   "cell_type": "code",
   "execution_count": 17,
   "id": "featured-commission",
   "metadata": {
    "execution": {
     "iopub.execute_input": "2021-03-28T00:33:08.948685Z",
     "iopub.status.busy": "2021-03-28T00:33:08.947842Z",
     "iopub.status.idle": "2021-03-28T00:33:08.957824Z",
     "shell.execute_reply": "2021-03-28T00:33:08.958388Z"
    },
    "papermill": {
     "duration": 0.065113,
     "end_time": "2021-03-28T00:33:08.958577",
     "exception": false,
     "start_time": "2021-03-28T00:33:08.893464",
     "status": "completed"
    },
    "tags": []
   },
   "outputs": [],
   "source": [
    "training_xdata = X_train\n",
    "testing_xdata = X_test\n",
    "training_ydata = y_train.reshape(-1,1)\n",
    "testing_ydata = y_test.reshape(-1,1)"
   ]
  },
  {
   "cell_type": "markdown",
   "id": "played-safety",
   "metadata": {
    "papermill": {
     "duration": 0.037801,
     "end_time": "2021-03-28T00:33:09.037086",
     "exception": false,
     "start_time": "2021-03-28T00:33:08.999285",
     "status": "completed"
    },
    "tags": []
   },
   "source": [
    "### Running Models with the Training data\n",
    "Details about the network layers:\n",
    "- A first affine layer has 784 inputs and does 100 affine transforms. These are followed by a Relu\n",
    "- A second affine layer has 100 inputs from the 100 activations of the past layer, and does 100 affine transforms. These are followed by a Relu\n",
    "- A third affine layer has 100 activations and does 2 affine transformations to create an embedding for visualization. There is no non-linearity here.\n",
    "- A final \"logistic regression\" which has an affine transform from 2 inputs to 1 output, which is squeezed through a sigmoid.\n",
    "\n",
    "Help taken from Anshuman's Notebook."
   ]
  },
  {
   "cell_type": "code",
   "execution_count": 18,
   "id": "asian-bankruptcy",
   "metadata": {
    "execution": {
     "iopub.execute_input": "2021-03-28T00:33:09.131833Z",
     "iopub.status.busy": "2021-03-28T00:33:09.121623Z",
     "iopub.status.idle": "2021-03-28T00:33:09.141659Z",
     "shell.execute_reply": "2021-03-28T00:33:09.141023Z"
    },
    "papermill": {
     "duration": 0.066419,
     "end_time": "2021-03-28T00:33:09.141837",
     "exception": false,
     "start_time": "2021-03-28T00:33:09.075418",
     "status": "completed"
    },
    "tags": []
   },
   "outputs": [],
   "source": [
    "# layers for the Neural Network\n",
    "layers = [Affine(\"first\", 784, 100), Relu(\"first\"), Affine(\"second\", 100, 100), Relu(\"second\"), Affine(\"third\", 100, 2), Affine(\"final\", 2, 1), Sigmoid(\"final\")]\n",
    "model_nn = Model(layers)\n",
    "\n",
    "# layers for the Logistic Regression\n",
    "layers_lr = [Affine(\"logits\", 784, 1), Sigmoid(\"sigmoid\")]\n",
    "model_lr = Model(layers_lr)"
   ]
  },
  {
   "cell_type": "code",
   "execution_count": 19,
   "id": "removed-butler",
   "metadata": {
    "execution": {
     "iopub.execute_input": "2021-03-28T00:33:09.226284Z",
     "iopub.status.busy": "2021-03-28T00:33:09.225470Z",
     "iopub.status.idle": "2021-03-28T00:33:09.246740Z",
     "shell.execute_reply": "2021-03-28T00:33:09.246164Z"
    },
    "papermill": {
     "duration": 0.066617,
     "end_time": "2021-03-28T00:33:09.246898",
     "exception": false,
     "start_time": "2021-03-28T00:33:09.180281",
     "status": "completed"
    },
    "tags": []
   },
   "outputs": [],
   "source": [
    "# suffix _nn stands for Neural Network.\n",
    "learner_nn = Learner(loss, model_nn, opt, config.num_epochs)\n",
    "acc_nn = ClfCallback(learner_nn, config.bs, training_xdata , testing_xdata, training_ydata, testing_ydata)\n",
    "learner_nn.set_callbacks([acc_nn])"
   ]
  },
  {
   "cell_type": "code",
   "execution_count": 20,
   "id": "conceptual-throw",
   "metadata": {
    "execution": {
     "iopub.execute_input": "2021-03-28T00:33:09.334112Z",
     "iopub.status.busy": "2021-03-28T00:33:09.333447Z",
     "iopub.status.idle": "2021-03-28T00:35:15.769322Z",
     "shell.execute_reply": "2021-03-28T00:35:15.768673Z"
    },
    "papermill": {
     "duration": 126.486022,
     "end_time": "2021-03-28T00:35:15.769460",
     "exception": false,
     "start_time": "2021-03-28T00:33:09.283438",
     "status": "completed"
    },
    "tags": []
   },
   "outputs": [
    {
     "name": "stdout",
     "output_type": "stream",
     "text": [
      "====== Neural Network ======\n"
     ]
    },
    {
     "name": "stdout",
     "output_type": "stream",
     "text": [
      "Epoch 0, Loss 0.2438\n",
      "Training Accuracy: 0.6688, Testing Accuracy: 0.6875\n",
      "\n"
     ]
    },
    {
     "name": "stdout",
     "output_type": "stream",
     "text": [
      "Epoch 10, Loss 0.0953\n",
      "Training Accuracy: 0.9084, Testing Accuracy: 0.9239\n",
      "\n"
     ]
    },
    {
     "name": "stdout",
     "output_type": "stream",
     "text": [
      "Epoch 20, Loss 0.0582\n",
      "Training Accuracy: 0.9389, Testing Accuracy: 0.9481\n",
      "\n"
     ]
    },
    {
     "name": "stdout",
     "output_type": "stream",
     "text": [
      "Epoch 30, Loss 0.045\n",
      "Training Accuracy: 0.9521, Testing Accuracy: 0.9556\n",
      "\n"
     ]
    },
    {
     "name": "stdout",
     "output_type": "stream",
     "text": [
      "Epoch 40, Loss 0.0387\n",
      "Training Accuracy: 0.9593, Testing Accuracy: 0.9622\n",
      "\n"
     ]
    },
    {
     "name": "stdout",
     "output_type": "stream",
     "text": [
      "Epoch 50, Loss 0.0349\n",
      "Training Accuracy: 0.9617, Testing Accuracy: 0.9652\n",
      "\n"
     ]
    },
    {
     "name": "stdout",
     "output_type": "stream",
     "text": [
      "Epoch 60, Loss 0.0324\n",
      "Training Accuracy: 0.9637, Testing Accuracy: 0.9672\n",
      "\n"
     ]
    },
    {
     "name": "stdout",
     "output_type": "stream",
     "text": [
      "Epoch 70, Loss 0.0305\n",
      "Training Accuracy: 0.9656, Testing Accuracy: 0.9672\n",
      "\n"
     ]
    },
    {
     "name": "stdout",
     "output_type": "stream",
     "text": [
      "Epoch 80, Loss 0.0291\n",
      "Training Accuracy: 0.9671, Testing Accuracy: 0.9698\n",
      "\n"
     ]
    },
    {
     "name": "stdout",
     "output_type": "stream",
     "text": [
      "Epoch 90, Loss 0.0279\n",
      "Training Accuracy: 0.9680, Testing Accuracy: 0.9708\n",
      "\n"
     ]
    },
    {
     "name": "stdout",
     "output_type": "stream",
     "text": [
      "Epoch 100, Loss 0.0269\n",
      "Training Accuracy: 0.9693, Testing Accuracy: 0.9713\n",
      "\n"
     ]
    },
    {
     "name": "stdout",
     "output_type": "stream",
     "text": [
      "Epoch 110, Loss 0.026\n",
      "Training Accuracy: 0.9699, Testing Accuracy: 0.9713\n",
      "\n"
     ]
    },
    {
     "name": "stdout",
     "output_type": "stream",
     "text": [
      "Epoch 120, Loss 0.0253\n",
      "Training Accuracy: 0.9710, Testing Accuracy: 0.9718\n",
      "\n"
     ]
    },
    {
     "name": "stdout",
     "output_type": "stream",
     "text": [
      "Epoch 130, Loss 0.0246\n",
      "Training Accuracy: 0.9717, Testing Accuracy: 0.9728\n",
      "\n"
     ]
    },
    {
     "name": "stdout",
     "output_type": "stream",
     "text": [
      "Epoch 140, Loss 0.024\n",
      "Training Accuracy: 0.9725, Testing Accuracy: 0.9723\n",
      "\n"
     ]
    },
    {
     "name": "stdout",
     "output_type": "stream",
     "text": [
      "Epoch 150, Loss 0.0234\n",
      "Training Accuracy: 0.9731, Testing Accuracy: 0.9728\n",
      "\n"
     ]
    },
    {
     "name": "stdout",
     "output_type": "stream",
     "text": [
      "Epoch 160, Loss 0.0229\n",
      "Training Accuracy: 0.9739, Testing Accuracy: 0.9718\n",
      "\n"
     ]
    },
    {
     "name": "stdout",
     "output_type": "stream",
     "text": [
      "Epoch 170, Loss 0.0224\n",
      "Training Accuracy: 0.9745, Testing Accuracy: 0.9718\n",
      "\n"
     ]
    },
    {
     "name": "stdout",
     "output_type": "stream",
     "text": [
      "Epoch 180, Loss 0.0219\n",
      "Training Accuracy: 0.9748, Testing Accuracy: 0.9723\n",
      "\n"
     ]
    },
    {
     "name": "stdout",
     "output_type": "stream",
     "text": [
      "Epoch 190, Loss 0.0215\n",
      "Training Accuracy: 0.9759, Testing Accuracy: 0.9723\n",
      "\n"
     ]
    },
    {
     "name": "stdout",
     "output_type": "stream",
     "text": [
      "Epoch 200, Loss 0.0211\n",
      "Training Accuracy: 0.9763, Testing Accuracy: 0.9718\n",
      "\n"
     ]
    },
    {
     "name": "stdout",
     "output_type": "stream",
     "text": [
      "Epoch 210, Loss 0.0207\n",
      "Training Accuracy: 0.9765, Testing Accuracy: 0.9718\n",
      "\n"
     ]
    },
    {
     "name": "stdout",
     "output_type": "stream",
     "text": [
      "Epoch 220, Loss 0.0203\n",
      "Training Accuracy: 0.9772, Testing Accuracy: 0.9723\n",
      "\n"
     ]
    },
    {
     "name": "stdout",
     "output_type": "stream",
     "text": [
      "Epoch 230, Loss 0.02\n",
      "Training Accuracy: 0.9778, Testing Accuracy: 0.9728\n",
      "\n"
     ]
    },
    {
     "name": "stdout",
     "output_type": "stream",
     "text": [
      "Epoch 240, Loss 0.0196\n",
      "Training Accuracy: 0.9784, Testing Accuracy: 0.9728\n",
      "\n"
     ]
    },
    {
     "name": "stdout",
     "output_type": "stream",
     "text": [
      "Epoch 250, Loss 0.0193\n",
      "Training Accuracy: 0.9788, Testing Accuracy: 0.9723\n",
      "\n"
     ]
    },
    {
     "data": {
      "text/plain": [
       "0.018494875114835187"
      ]
     },
     "execution_count": 20,
     "metadata": {},
     "output_type": "execute_result"
    }
   ],
   "source": [
    "print(\"====== Neural Network ======\")\n",
    "learner_nn.train_loop(dl)"
   ]
  },
  {
   "cell_type": "markdown",
   "id": "competent-suffering",
   "metadata": {
    "papermill": {
     "duration": 0.040992,
     "end_time": "2021-03-28T00:35:15.852147",
     "exception": false,
     "start_time": "2021-03-28T00:35:15.811155",
     "status": "completed"
    },
    "tags": []
   },
   "source": [
    "### Logistic Regression based Implementation."
   ]
  },
  {
   "cell_type": "code",
   "execution_count": 21,
   "id": "qualified-psychiatry",
   "metadata": {
    "execution": {
     "iopub.execute_input": "2021-03-28T00:35:15.940129Z",
     "iopub.status.busy": "2021-03-28T00:35:15.939558Z",
     "iopub.status.idle": "2021-03-28T00:35:15.950288Z",
     "shell.execute_reply": "2021-03-28T00:35:15.950781Z"
    },
    "papermill": {
     "duration": 0.057169,
     "end_time": "2021-03-28T00:35:15.950909",
     "exception": false,
     "start_time": "2021-03-28T00:35:15.893740",
     "status": "completed"
    },
    "tags": []
   },
   "outputs": [],
   "source": [
    "learner_lr = Learner(loss, model_lr, opt, config.num_epochs)\n",
    "acc_lr = ClfCallback(learner_lr, config.bs, training_xdata , testing_xdata, training_ydata, testing_ydata)\n",
    "learner_lr.set_callbacks([acc_lr])"
   ]
  },
  {
   "cell_type": "code",
   "execution_count": 22,
   "id": "average-outside",
   "metadata": {
    "execution": {
     "iopub.execute_input": "2021-03-28T00:35:16.050007Z",
     "iopub.status.busy": "2021-03-28T00:35:16.048215Z",
     "iopub.status.idle": "2021-03-28T00:35:34.931083Z",
     "shell.execute_reply": "2021-03-28T00:35:34.931845Z"
    },
    "papermill": {
     "duration": 18.940583,
     "end_time": "2021-03-28T00:35:34.932011",
     "exception": false,
     "start_time": "2021-03-28T00:35:15.991428",
     "status": "completed"
    },
    "tags": []
   },
   "outputs": [
    {
     "name": "stdout",
     "output_type": "stream",
     "text": [
      "====== Logistic Regression ======\n",
      "Epoch 0, Loss 0.2465\n",
      "Training Accuracy: 0.6446, Testing Accuracy: 0.6729\n",
      "\n"
     ]
    },
    {
     "name": "stdout",
     "output_type": "stream",
     "text": [
      "Epoch 10, Loss 0.1056\n",
      "Training Accuracy: 0.9064, Testing Accuracy: 0.9209\n",
      "\n"
     ]
    },
    {
     "name": "stdout",
     "output_type": "stream",
     "text": [
      "Epoch 20, Loss 0.0803\n",
      "Training Accuracy: 0.9268, Testing Accuracy: 0.9405\n",
      "\n"
     ]
    },
    {
     "name": "stdout",
     "output_type": "stream",
     "text": [
      "Epoch 30, Loss 0.0688\n",
      "Training Accuracy: 0.9359, Testing Accuracy: 0.9491\n",
      "\n"
     ]
    },
    {
     "name": "stdout",
     "output_type": "stream",
     "text": [
      "Epoch 40, Loss 0.0619\n",
      "Training Accuracy: 0.9407, Testing Accuracy: 0.9536\n",
      "\n"
     ]
    },
    {
     "name": "stdout",
     "output_type": "stream",
     "text": [
      "Epoch 50, Loss 0.0573\n",
      "Training Accuracy: 0.9435, Testing Accuracy: 0.9582\n",
      "\n"
     ]
    },
    {
     "name": "stdout",
     "output_type": "stream",
     "text": [
      "Epoch 60, Loss 0.0539\n",
      "Training Accuracy: 0.9455, Testing Accuracy: 0.9592\n",
      "\n"
     ]
    },
    {
     "name": "stdout",
     "output_type": "stream",
     "text": [
      "Epoch 70, Loss 0.0513\n",
      "Training Accuracy: 0.9476, Testing Accuracy: 0.9592\n",
      "\n"
     ]
    },
    {
     "name": "stdout",
     "output_type": "stream",
     "text": [
      "Epoch 80, Loss 0.0492\n",
      "Training Accuracy: 0.9493, Testing Accuracy: 0.9592\n",
      "\n"
     ]
    },
    {
     "name": "stdout",
     "output_type": "stream",
     "text": [
      "Epoch 90, Loss 0.0475\n",
      "Training Accuracy: 0.9508, Testing Accuracy: 0.9607\n",
      "\n"
     ]
    },
    {
     "name": "stdout",
     "output_type": "stream",
     "text": [
      "Epoch 100, Loss 0.0461\n",
      "Training Accuracy: 0.9519, Testing Accuracy: 0.9627\n",
      "\n"
     ]
    },
    {
     "name": "stdout",
     "output_type": "stream",
     "text": [
      "Epoch 110, Loss 0.0448\n",
      "Training Accuracy: 0.9529, Testing Accuracy: 0.9642\n",
      "\n"
     ]
    },
    {
     "name": "stdout",
     "output_type": "stream",
     "text": [
      "Epoch 120, Loss 0.0438\n",
      "Training Accuracy: 0.9541, Testing Accuracy: 0.9652\n",
      "\n"
     ]
    },
    {
     "name": "stdout",
     "output_type": "stream",
     "text": [
      "Epoch 130, Loss 0.0428\n",
      "Training Accuracy: 0.9544, Testing Accuracy: 0.9657\n",
      "\n"
     ]
    },
    {
     "name": "stdout",
     "output_type": "stream",
     "text": [
      "Epoch 140, Loss 0.042\n",
      "Training Accuracy: 0.9551, Testing Accuracy: 0.9657\n",
      "\n"
     ]
    },
    {
     "name": "stdout",
     "output_type": "stream",
     "text": [
      "Epoch 150, Loss 0.0412\n",
      "Training Accuracy: 0.9560, Testing Accuracy: 0.9662\n",
      "\n"
     ]
    },
    {
     "name": "stdout",
     "output_type": "stream",
     "text": [
      "Epoch 160, Loss 0.0406\n",
      "Training Accuracy: 0.9567, Testing Accuracy: 0.9667\n",
      "\n"
     ]
    },
    {
     "name": "stdout",
     "output_type": "stream",
     "text": [
      "Epoch 170, Loss 0.04\n",
      "Training Accuracy: 0.9569, Testing Accuracy: 0.9667\n",
      "\n"
     ]
    },
    {
     "name": "stdout",
     "output_type": "stream",
     "text": [
      "Epoch 180, Loss 0.0394\n",
      "Training Accuracy: 0.9575, Testing Accuracy: 0.9672\n",
      "\n"
     ]
    },
    {
     "name": "stdout",
     "output_type": "stream",
     "text": [
      "Epoch 190, Loss 0.0389\n",
      "Training Accuracy: 0.9581, Testing Accuracy: 0.9672\n",
      "\n"
     ]
    },
    {
     "name": "stdout",
     "output_type": "stream",
     "text": [
      "Epoch 200, Loss 0.0384\n",
      "Training Accuracy: 0.9584, Testing Accuracy: 0.9677\n",
      "\n"
     ]
    },
    {
     "name": "stdout",
     "output_type": "stream",
     "text": [
      "Epoch 210, Loss 0.0379\n",
      "Training Accuracy: 0.9587, Testing Accuracy: 0.9677\n",
      "\n"
     ]
    },
    {
     "name": "stdout",
     "output_type": "stream",
     "text": [
      "Epoch 220, Loss 0.0375\n",
      "Training Accuracy: 0.9591, Testing Accuracy: 0.9677\n",
      "\n"
     ]
    },
    {
     "name": "stdout",
     "output_type": "stream",
     "text": [
      "Epoch 230, Loss 0.0371\n",
      "Training Accuracy: 0.9595, Testing Accuracy: 0.9677\n",
      "\n"
     ]
    },
    {
     "name": "stdout",
     "output_type": "stream",
     "text": [
      "Epoch 240, Loss 0.0368\n",
      "Training Accuracy: 0.9601, Testing Accuracy: 0.9677\n",
      "\n"
     ]
    },
    {
     "name": "stdout",
     "output_type": "stream",
     "text": [
      "Epoch 250, Loss 0.0364\n",
      "Training Accuracy: 0.9604, Testing Accuracy: 0.9677\n",
      "\n"
     ]
    },
    {
     "data": {
      "text/plain": [
       "0.03146947834603754"
      ]
     },
     "execution_count": 22,
     "metadata": {},
     "output_type": "execute_result"
    }
   ],
   "source": [
    "print(\"====== Logistic Regression ======\")\n",
    "learner_lr.train_loop(dl)"
   ]
  },
  {
   "cell_type": "markdown",
   "id": "adjusted-possible",
   "metadata": {
    "papermill": {
     "duration": 0.053082,
     "end_time": "2021-03-28T00:35:35.038361",
     "exception": false,
     "start_time": "2021-03-28T00:35:34.985279",
     "status": "completed"
    },
    "tags": []
   },
   "source": [
    "### Comparing results of NN and LR"
   ]
  },
  {
   "cell_type": "code",
   "execution_count": 23,
   "id": "mental-multimedia",
   "metadata": {
    "execution": {
     "iopub.execute_input": "2021-03-28T00:35:35.181528Z",
     "iopub.status.busy": "2021-03-28T00:35:35.179684Z",
     "iopub.status.idle": "2021-03-28T00:35:35.424709Z",
     "shell.execute_reply": "2021-03-28T00:35:35.425417Z"
    },
    "papermill": {
     "duration": 0.334587,
     "end_time": "2021-03-28T00:35:35.425575",
     "exception": false,
     "start_time": "2021-03-28T00:35:35.090988",
     "status": "completed"
    },
    "tags": []
   },
   "outputs": [
    {
     "data": {
      "text/plain": [
       "<matplotlib.legend.Legend at 0x7f1bedfe6400>"
      ]
     },
     "execution_count": 23,
     "metadata": {},
     "output_type": "execute_result"
    },
    {
     "data": {
      "image/png": "[encoded data removed]",
      "text/plain": [
       "<Figure size 1080x720 with 1 Axes>"
      ]
     },
     "metadata": {
      "needs_background": "light"
     },
     "output_type": "display_data"
    }
   ],
   "source": [
    "plt.figure(figsize=(15,10))\n",
    "\n",
    "# Neural Network plots\n",
    "plt.plot(acc_nn.accuracies, 'r-', label = \"Training Accuracies - NN\")\n",
    "plt.plot(acc_nn.test_accuracies, 'g-', label = \"Testing Accuracies - NN\")\n",
    "\n",
    "# Logistic Regression plots\n",
    "plt.plot(acc_lr.accuracies, 'k-', label = \"Training Accuracies - LR\")\n",
    "plt.plot(acc_lr.test_accuracies, 'b-', label = \"Testing Accuracies - LR\")\n",
    "\n",
    "plt.ylim(0.8, 1)\n",
    "\n",
    "plt.legend()\n",
    "\n"
   ]
  },
  {
   "cell_type": "markdown",
   "id": "sexual-flesh",
   "metadata": {
    "papermill": {
     "duration": 0.053305,
     "end_time": "2021-03-28T00:35:35.528796",
     "exception": false,
     "start_time": "2021-03-28T00:35:35.475491",
     "status": "completed"
    },
    "tags": []
   },
   "source": [
    "### From the plot, we can observe the following:\n",
    "- Neural Network achieves higher accuracy than the Logistic Regression model.\n",
    "- This apparently, is because of overfitting, i.e. NN captures more noise than data.\n",
    "- Testing accuracy of NN drops below the Training accuracy at higher epochs. This explains the over-fitting on training data.\n",
    "- Logistic Regression gives a reliable accuracy, without the above mentioned problem.\n"
   ]
  },
  {
   "cell_type": "markdown",
   "id": "institutional-pacific",
   "metadata": {
    "papermill": {
     "duration": 0.053222,
     "end_time": "2021-03-28T00:35:35.635206",
     "exception": false,
     "start_time": "2021-03-28T00:35:35.581984",
     "status": "completed"
    },
    "tags": []
   },
   "source": [
    "### Moving till the last but one layer (excluding it).\n",
    "#### Plotting the outputs of this layer of the NN."
   ]
  },
  {
   "cell_type": "code",
   "execution_count": 24,
   "id": "economic-server",
   "metadata": {
    "execution": {
     "iopub.execute_input": "2021-03-28T00:35:35.764066Z",
     "iopub.status.busy": "2021-03-28T00:35:35.760396Z",
     "iopub.status.idle": "2021-03-28T00:35:35.767723Z",
     "shell.execute_reply": "2021-03-28T00:35:35.767145Z"
    },
    "papermill": {
     "duration": 0.076751,
     "end_time": "2021-03-28T00:35:35.767865",
     "exception": false,
     "start_time": "2021-03-28T00:35:35.691114",
     "status": "completed"
    },
    "tags": []
   },
   "outputs": [],
   "source": [
    "model_new = Model(layers[:-2])"
   ]
  },
  {
   "cell_type": "code",
   "execution_count": 25,
   "id": "varied-upgrade",
   "metadata": {
    "execution": {
     "iopub.execute_input": "2021-03-28T00:35:35.887553Z",
     "iopub.status.busy": "2021-03-28T00:35:35.881375Z",
     "iopub.status.idle": "2021-03-28T00:35:35.909466Z",
     "shell.execute_reply": "2021-03-28T00:35:35.909999Z"
    },
    "papermill": {
     "duration": 0.088529,
     "end_time": "2021-03-28T00:35:35.910173",
     "exception": false,
     "start_time": "2021-03-28T00:35:35.821644",
     "status": "completed"
    },
    "tags": []
   },
   "outputs": [],
   "source": [
    "plot_testing = model_new(testing_xdata)"
   ]
  },
  {
   "cell_type": "code",
   "execution_count": 26,
   "id": "specific-handling",
   "metadata": {
    "execution": {
     "iopub.execute_input": "2021-03-28T00:35:36.027568Z",
     "iopub.status.busy": "2021-03-28T00:35:36.026994Z",
     "iopub.status.idle": "2021-03-28T00:35:36.261560Z",
     "shell.execute_reply": "2021-03-28T00:35:36.261029Z"
    },
    "papermill": {
     "duration": 0.298643,
     "end_time": "2021-03-28T00:35:36.261686",
     "exception": false,
     "start_time": "2021-03-28T00:35:35.963043",
     "status": "completed"
    },
    "tags": []
   },
   "outputs": [
    {
     "data": {
      "text/plain": [
       "Text(0.5, 1.0, 'Outputs')"
      ]
     },
     "execution_count": 26,
     "metadata": {},
     "output_type": "execute_result"
    },
    {
     "data": {
      "image/png": "[encoded data removed]",
      "text/plain": [
       "<Figure size 576x504 with 1 Axes>"
      ]
     },
     "metadata": {
      "needs_background": "light"
     },
     "output_type": "display_data"
    }
   ],
   "source": [
    "plt.figure(figsize=(8,7))\n",
    "plt.scatter(plot_testing[:,0], plot_testing[:,1], alpha = 0.1, c = y_test.ravel());\n",
    "plt.title('Outputs')"
   ]
  },
  {
   "cell_type": "markdown",
   "id": "described-knowing",
   "metadata": {
    "papermill": {
     "duration": 0.051013,
     "end_time": "2021-03-28T00:35:36.367940",
     "exception": false,
     "start_time": "2021-03-28T00:35:36.316927",
     "status": "completed"
    },
    "tags": []
   },
   "source": [
    "### Plotting probability contours"
   ]
  },
  {
   "cell_type": "code",
   "execution_count": 27,
   "id": "needed-growing",
   "metadata": {
    "execution": {
     "iopub.execute_input": "2021-03-28T00:35:36.511634Z",
     "iopub.status.busy": "2021-03-28T00:35:36.509398Z",
     "iopub.status.idle": "2021-03-28T00:35:36.513662Z",
     "shell.execute_reply": "2021-03-28T00:35:36.514099Z"
    },
    "papermill": {
     "duration": 0.071614,
     "end_time": "2021-03-28T00:35:36.514229",
     "exception": false,
     "start_time": "2021-03-28T00:35:36.442615",
     "status": "completed"
    },
    "tags": []
   },
   "outputs": [],
   "source": [
    "model_prob = Model(layers[-2:]) "
   ]
  },
  {
   "cell_type": "code",
   "execution_count": 28,
   "id": "introductory-enforcement",
   "metadata": {
    "execution": {
     "iopub.execute_input": "2021-03-28T00:35:36.622526Z",
     "iopub.status.busy": "2021-03-28T00:35:36.621961Z",
     "iopub.status.idle": "2021-03-28T00:35:36.635948Z",
     "shell.execute_reply": "2021-03-28T00:35:36.636389Z"
    },
    "papermill": {
     "duration": 0.069708,
     "end_time": "2021-03-28T00:35:36.636525",
     "exception": false,
     "start_time": "2021-03-28T00:35:36.566817",
     "status": "completed"
    },
    "tags": []
   },
   "outputs": [],
   "source": [
    "# Adjust the x and y ranges according to the above generated plot.\n",
    "x_range = np.linspace(-4, 1, 100) \n",
    "y_range = np.linspace(-6, 6, 100) \n",
    "x_grid, y_grid = np.meshgrid(x_range, y_range) # x_grid and y_grig are of size 100 X 100\n",
    "\n",
    "# converting x_grid and y_grid to continuous arrays\n",
    "x_grid_flat = np.ravel(x_grid)\n",
    "y_grid_flat = np.ravel(y_grid)\n",
    "\n",
    "# The last layer of the current model takes two columns as input. Hence transpose of np.vstack() is required.\n",
    "X = np.vstack((x_grid_flat, y_grid_flat)).T\n",
    "\n",
    "# x_grid and y_grid are of size 100 x 100\n",
    "probability_contour = model_prob(X).reshape(100,100) "
   ]
  },
  {
   "cell_type": "code",
   "execution_count": 29,
   "id": "understood-landing",
   "metadata": {
    "execution": {
     "iopub.execute_input": "2021-03-28T00:35:36.752384Z",
     "iopub.status.busy": "2021-03-28T00:35:36.751737Z",
     "iopub.status.idle": "2021-03-28T00:35:37.043583Z",
     "shell.execute_reply": "2021-03-28T00:35:37.043102Z"
    },
    "papermill": {
     "duration": 0.352074,
     "end_time": "2021-03-28T00:35:37.043714",
     "exception": false,
     "start_time": "2021-03-28T00:35:36.691640",
     "status": "completed"
    },
    "tags": []
   },
   "outputs": [
    {
     "data": {
      "image/png": "[encoded data removed]",
      "text/plain": [
       "<Figure size 720x648 with 1 Axes>"
      ]
     },
     "metadata": {
      "needs_background": "light"
     },
     "output_type": "display_data"
    }
   ],
   "source": [
    "plt.figure(figsize=(10,9))\n",
    "plt.scatter(plot_testing[:,0], plot_testing[:,1], alpha = 0.1, c = y_test.ravel())\n",
    "contours = plt.contour(x_grid,y_grid,probability_contour)\n",
    "plt.title('Probability Contours')\n",
    "plt.clabel(contours, inline = True );"
   ]
  }
 ],
 "metadata": {
  "kernelspec": {
   "display_name": "Python 3",
   "language": "python",
   "name": "python3"
  },
  "language_info": {
   "codemirror_mode": {
    "name": "ipython",
    "version": 3
   },
   "file_extension": ".py",
   "mimetype": "text/x-python",
   "name": "python",
   "nbconvert_exporter": "python",
   "pygments_lexer": "ipython3",
   "version": "3.6.13"
  },
  "papermill": {
   "duration": 341.235717,
   "end_time": "2021-03-28T00:35:37.412222",
   "environment_variables": {},
   "exception": null,
   "input_path": "2020-08-11-NeuralNetwork.ipynb",
   "output_path": "2020-08-11-NeuralNetwork.ipynb",
   "parameters": {},
   "start_time": "2021-03-28T00:29:56.176505",
   "version": "2.1.2"
  }
 },
 "nbformat": 4,
 "nbformat_minor": 5
}