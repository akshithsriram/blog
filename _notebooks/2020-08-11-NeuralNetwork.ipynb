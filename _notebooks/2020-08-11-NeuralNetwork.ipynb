{
 "cells": [
  {
   "cell_type": "markdown",
   "id": "fitted-suggestion",
   "metadata": {
    "papermill": {
     "duration": 0.039811,
     "end_time": "2021-08-09T10:05:13.170733",
     "exception": false,
     "start_time": "2021-08-09T10:05:13.130922",
     "status": "completed"
    },
    "tags": []
   },
   "source": [
    "# \"A Basic Neural Network: Differentiate Hand-Written Digits\"\n",
    "\n",
    "- badges: true\n",
    "- author: Akshith Sriram"
   ]
  },
  {
   "cell_type": "markdown",
   "id": "signal-flexibility",
   "metadata": {
    "papermill": {
     "duration": 0.03421,
     "end_time": "2021-08-09T10:05:13.241426",
     "exception": false,
     "start_time": "2021-08-09T10:05:13.207216",
     "status": "completed"
    },
    "tags": []
   },
   "source": [
    "### Key Objectives:\n",
    "- Building a neural network that differentiates two hand-written digits 3 and 8.\n",
    "- Comparing the results of this Neural Network (NN) to that of a Logistic Regression (LR) model.\n",
    "\n",
    "### Requirements:\n",
    "- 'Kudzu' : A neural network library that was designed during our course by [Univ.AI](www.univ.ai). \n",
    "- MNIST Database\n",
    "\n",
    "If MNIST is not installed, use the command `!pip install mnist` given below.\n",
    "It can be run both from the command line and Jupyter Notebook."
   ]
  },
  {
   "cell_type": "code",
   "execution_count": 1,
   "id": "british-texture",
   "metadata": {
    "execution": {
     "iopub.execute_input": "2021-08-09T10:05:13.322907Z",
     "iopub.status.busy": "2021-08-09T10:05:13.322247Z",
     "iopub.status.idle": "2021-08-09T10:05:15.281254Z",
     "shell.execute_reply": "2021-08-09T10:05:15.280529Z"
    },
    "papermill": {
     "duration": 2.005936,
     "end_time": "2021-08-09T10:05:15.281508",
     "exception": false,
     "start_time": "2021-08-09T10:05:13.275572",
     "status": "completed"
    },
    "tags": []
   },
   "outputs": [
    {
     "name": "stdout",
     "output_type": "stream",
     "text": [
      "Collecting mnist\r\n",
      "  Downloading mnist-0.2.2-py2.py3-none-any.whl (3.5 kB)\r\n"
     ]
    },
    {
     "name": "stdout",
     "output_type": "stream",
     "text": [
      "Requirement already satisfied: numpy in /opt/hostedtoolcache/Python/3.6.14/x64/lib/python3.6/site-packages (from mnist) (1.19.5)\r\n"
     ]
    },
    {
     "name": "stdout",
     "output_type": "stream",
     "text": [
      "Installing collected packages: mnist\r\n"
     ]
    },
    {
     "name": "stdout",
     "output_type": "stream",
     "text": [
      "Successfully installed mnist-0.2.2\r\n"
     ]
    },
    {
     "name": "stdout",
     "output_type": "stream",
     "text": [
      "\u001b[33mWARNING: You are using pip version 21.2.2; however, version 21.2.3 is available.\r\n",
      "You should consider upgrading via the '/opt/hostedtoolcache/Python/3.6.14/x64/bin/python -m pip install --upgrade pip' command.\u001b[0m\r\n"
     ]
    }
   ],
   "source": [
    "!pip install mnist "
   ]
  },
  {
   "cell_type": "markdown",
   "id": "stunning-extra",
   "metadata": {
    "papermill": {
     "duration": 0.031067,
     "end_time": "2021-08-09T10:05:15.344069",
     "exception": false,
     "start_time": "2021-08-09T10:05:15.313002",
     "status": "completed"
    },
    "tags": []
   },
   "source": [
    "#### Importing necessary libraries"
   ]
  },
  {
   "cell_type": "code",
   "execution_count": 2,
   "id": "wooden-france",
   "metadata": {
    "execution": {
     "iopub.execute_input": "2021-08-09T10:05:15.414515Z",
     "iopub.status.busy": "2021-08-09T10:05:15.413780Z",
     "iopub.status.idle": "2021-08-09T10:05:16.060258Z",
     "shell.execute_reply": "2021-08-09T10:05:16.059651Z"
    },
    "papermill": {
     "duration": 0.684904,
     "end_time": "2021-08-09T10:05:16.060405",
     "exception": false,
     "start_time": "2021-08-09T10:05:15.375501",
     "status": "completed"
    },
    "tags": []
   },
   "outputs": [],
   "source": [
    "%load_ext autoreload\n",
    "%autoreload 2\n",
    "\n",
    "%matplotlib inline\n",
    "import matplotlib.pyplot as plt\n",
    "\n",
    "import numpy as np\n",
    "import pandas as pd"
   ]
  },
  {
   "cell_type": "markdown",
   "id": "stunning-physics",
   "metadata": {
    "papermill": {
     "duration": 0.03661,
     "end_time": "2021-08-09T10:05:16.133091",
     "exception": false,
     "start_time": "2021-08-09T10:05:16.096481",
     "status": "completed"
    },
    "tags": []
   },
   "source": [
    "### Preparing the Data"
   ]
  },
  {
   "cell_type": "code",
   "execution_count": 3,
   "id": "unauthorized-remainder",
   "metadata": {
    "execution": {
     "iopub.execute_input": "2021-08-09T10:05:16.204157Z",
     "iopub.status.busy": "2021-08-09T10:05:16.203559Z",
     "iopub.status.idle": "2021-08-09T10:05:16.215931Z",
     "shell.execute_reply": "2021-08-09T10:05:16.215459Z"
    },
    "papermill": {
     "duration": 0.049856,
     "end_time": "2021-08-09T10:05:16.216042",
     "exception": false,
     "start_time": "2021-08-09T10:05:16.166186",
     "status": "completed"
    },
    "tags": []
   },
   "outputs": [],
   "source": [
    "import mnist"
   ]
  },
  {
   "cell_type": "code",
   "execution_count": 4,
   "id": "correct-antarctica",
   "metadata": {
    "execution": {
     "iopub.execute_input": "2021-08-09T10:05:16.283497Z",
     "iopub.status.busy": "2021-08-09T10:05:16.282695Z",
     "iopub.status.idle": "2021-08-09T10:10:09.375062Z",
     "shell.execute_reply": "2021-08-09T10:10:09.375779Z"
    },
    "papermill": {
     "duration": 293.128466,
     "end_time": "2021-08-09T10:10:09.375964",
     "exception": false,
     "start_time": "2021-08-09T10:05:16.247498",
     "status": "completed"
    },
    "tags": []
   },
   "outputs": [],
   "source": [
    "train_images = mnist.train_images()\n",
    "train_labels = mnist.train_labels()"
   ]
  },
  {
   "cell_type": "code",
   "execution_count": 5,
   "id": "musical-prospect",
   "metadata": {
    "execution": {
     "iopub.execute_input": "2021-08-09T10:10:09.446933Z",
     "iopub.status.busy": "2021-08-09T10:10:09.446245Z",
     "iopub.status.idle": "2021-08-09T10:10:09.461889Z",
     "shell.execute_reply": "2021-08-09T10:10:09.462379Z"
    },
    "papermill": {
     "duration": 0.054217,
     "end_time": "2021-08-09T10:10:09.462522",
     "exception": false,
     "start_time": "2021-08-09T10:10:09.408305",
     "status": "completed"
    },
    "tags": []
   },
   "outputs": [
    {
     "data": {
      "text/plain": [
       "((60000, 28, 28), (60000,))"
      ]
     },
     "execution_count": 5,
     "metadata": {},
     "output_type": "execute_result"
    }
   ],
   "source": [
    "train_images.shape, train_labels.shape"
   ]
  },
  {
   "cell_type": "code",
   "execution_count": 6,
   "id": "preliminary-elizabeth",
   "metadata": {
    "execution": {
     "iopub.execute_input": "2021-08-09T10:10:09.530246Z",
     "iopub.status.busy": "2021-08-09T10:10:09.529484Z",
     "iopub.status.idle": "2021-08-09T10:10:58.660391Z",
     "shell.execute_reply": "2021-08-09T10:10:58.660896Z"
    },
    "papermill": {
     "duration": 49.166233,
     "end_time": "2021-08-09T10:10:58.661051",
     "exception": false,
     "start_time": "2021-08-09T10:10:09.494818",
     "status": "completed"
    },
    "tags": []
   },
   "outputs": [],
   "source": [
    "test_images = mnist.test_images()\n",
    "test_labels = mnist.test_labels()"
   ]
  },
  {
   "cell_type": "code",
   "execution_count": 7,
   "id": "acknowledged-oxygen",
   "metadata": {
    "execution": {
     "iopub.execute_input": "2021-08-09T10:10:58.733699Z",
     "iopub.status.busy": "2021-08-09T10:10:58.733041Z",
     "iopub.status.idle": "2021-08-09T10:10:58.746313Z",
     "shell.execute_reply": "2021-08-09T10:10:58.745819Z"
    },
    "papermill": {
     "duration": 0.051394,
     "end_time": "2021-08-09T10:10:58.746429",
     "exception": false,
     "start_time": "2021-08-09T10:10:58.695035",
     "status": "completed"
    },
    "tags": []
   },
   "outputs": [
    {
     "data": {
      "text/plain": [
       "((10000, 28, 28), (10000,))"
      ]
     },
     "execution_count": 7,
     "metadata": {},
     "output_type": "execute_result"
    }
   ],
   "source": [
    "test_images.shape, test_labels.shape"
   ]
  },
  {
   "cell_type": "code",
   "execution_count": 8,
   "id": "innovative-organic",
   "metadata": {
    "execution": {
     "iopub.execute_input": "2021-08-09T10:10:58.817397Z",
     "iopub.status.busy": "2021-08-09T10:10:58.816372Z",
     "iopub.status.idle": "2021-08-09T10:10:59.001070Z",
     "shell.execute_reply": "2021-08-09T10:10:59.000403Z"
    },
    "papermill": {
     "duration": 0.222139,
     "end_time": "2021-08-09T10:10:59.001217",
     "exception": false,
     "start_time": "2021-08-09T10:10:58.779078",
     "status": "completed"
    },
    "tags": []
   },
   "outputs": [
    {
     "name": "stdout",
     "output_type": "stream",
     "text": [
      "2\n"
     ]
    },
    {
     "data": {
      "text/plain": [
       "<matplotlib.image.AxesImage at 0x7f9e974c4828>"
      ]
     },
     "execution_count": 8,
     "metadata": {},
     "output_type": "execute_result"
    },
    {
     "data": {
      "image/png": "[encoded data removed]",
      "text/plain": [
       "<Figure size 432x288 with 1 Axes>"
      ]
     },
     "metadata": {
      "needs_background": "light"
     },
     "output_type": "display_data"
    }
   ],
   "source": [
    "image_index = 7776 # You may select anything up to 60,000\n",
    "print(train_labels[image_index]) \n",
    "plt.imshow(train_images[image_index], cmap='Greys')"
   ]
  },
  {
   "cell_type": "markdown",
   "id": "facial-modem",
   "metadata": {
    "papermill": {
     "duration": 0.034067,
     "end_time": "2021-08-09T10:10:59.069513",
     "exception": false,
     "start_time": "2021-08-09T10:10:59.035446",
     "status": "completed"
    },
    "tags": []
   },
   "source": [
    "## Filter data to get 3 and 8 out"
   ]
  },
  {
   "cell_type": "code",
   "execution_count": 9,
   "id": "thousand-acquisition",
   "metadata": {
    "execution": {
     "iopub.execute_input": "2021-08-09T10:10:59.146437Z",
     "iopub.status.busy": "2021-08-09T10:10:59.145839Z",
     "iopub.status.idle": "2021-08-09T10:10:59.168998Z",
     "shell.execute_reply": "2021-08-09T10:10:59.168396Z"
    },
    "papermill": {
     "duration": 0.065064,
     "end_time": "2021-08-09T10:10:59.169139",
     "exception": false,
     "start_time": "2021-08-09T10:10:59.104075",
     "status": "completed"
    },
    "tags": []
   },
   "outputs": [],
   "source": [
    "train_filter = np.where((train_labels == 3 ) | (train_labels == 8))\n",
    "test_filter = np.where((test_labels == 3) | (test_labels == 8))\n",
    "X_train, y_train = train_images[train_filter], train_labels[train_filter]\n",
    "X_test, y_test = test_images[test_filter], test_labels[test_filter]"
   ]
  },
  {
   "cell_type": "markdown",
   "id": "ruled-access",
   "metadata": {
    "papermill": {
     "duration": 0.034786,
     "end_time": "2021-08-09T10:10:59.239240",
     "exception": false,
     "start_time": "2021-08-09T10:10:59.204454",
     "status": "completed"
    },
    "tags": []
   },
   "source": [
    "We normalize the pixel values in the 0 to 1 range"
   ]
  },
  {
   "cell_type": "code",
   "execution_count": 10,
   "id": "isolated-denver",
   "metadata": {
    "execution": {
     "iopub.execute_input": "2021-08-09T10:10:59.309350Z",
     "iopub.status.busy": "2021-08-09T10:10:59.308786Z",
     "iopub.status.idle": "2021-08-09T10:10:59.369924Z",
     "shell.execute_reply": "2021-08-09T10:10:59.369304Z"
    },
    "papermill": {
     "duration": 0.098288,
     "end_time": "2021-08-09T10:10:59.370081",
     "exception": false,
     "start_time": "2021-08-09T10:10:59.271793",
     "status": "completed"
    },
    "tags": []
   },
   "outputs": [],
   "source": [
    "X_train = X_train/255.\n",
    "X_test = X_test/255."
   ]
  },
  {
   "cell_type": "markdown",
   "id": "perfect-summary",
   "metadata": {
    "papermill": {
     "duration": 0.032546,
     "end_time": "2021-08-09T10:10:59.435005",
     "exception": false,
     "start_time": "2021-08-09T10:10:59.402459",
     "status": "completed"
    },
    "tags": []
   },
   "source": [
    "Setup the labels as 1 (when the digit is 3) and 0 (when the digit is 8)"
   ]
  },
  {
   "cell_type": "code",
   "execution_count": 11,
   "id": "personalized-growing",
   "metadata": {
    "execution": {
     "iopub.execute_input": "2021-08-09T10:10:59.503691Z",
     "iopub.status.busy": "2021-08-09T10:10:59.501759Z",
     "iopub.status.idle": "2021-08-09T10:10:59.515304Z",
     "shell.execute_reply": "2021-08-09T10:10:59.514707Z"
    },
    "papermill": {
     "duration": 0.049148,
     "end_time": "2021-08-09T10:10:59.515419",
     "exception": false,
     "start_time": "2021-08-09T10:10:59.466271",
     "status": "completed"
    },
    "tags": []
   },
   "outputs": [],
   "source": [
    "y_train = 1*(y_train==3)\n",
    "y_test = 1*(y_test==3)"
   ]
  },
  {
   "cell_type": "code",
   "execution_count": 12,
   "id": "considered-virgin",
   "metadata": {
    "execution": {
     "iopub.execute_input": "2021-08-09T10:10:59.586096Z",
     "iopub.status.busy": "2021-08-09T10:10:59.585501Z",
     "iopub.status.idle": "2021-08-09T10:10:59.599631Z",
     "shell.execute_reply": "2021-08-09T10:10:59.599180Z"
    },
    "papermill": {
     "duration": 0.050964,
     "end_time": "2021-08-09T10:10:59.599739",
     "exception": false,
     "start_time": "2021-08-09T10:10:59.548775",
     "status": "completed"
    },
    "tags": []
   },
   "outputs": [
    {
     "data": {
      "text/plain": [
       "((11982, 28, 28), (1984, 28, 28))"
      ]
     },
     "execution_count": 12,
     "metadata": {},
     "output_type": "execute_result"
    }
   ],
   "source": [
    "X_train.shape, X_test.shape"
   ]
  },
  {
   "cell_type": "markdown",
   "id": "civilian-mobile",
   "metadata": {
    "papermill": {
     "duration": 0.03492,
     "end_time": "2021-08-09T10:10:59.667848",
     "exception": false,
     "start_time": "2021-08-09T10:10:59.632928",
     "status": "completed"
    },
    "tags": []
   },
   "source": [
    "### Reshape the input data to create a linear array"
   ]
  },
  {
   "cell_type": "code",
   "execution_count": 13,
   "id": "colonial-adams",
   "metadata": {
    "execution": {
     "iopub.execute_input": "2021-08-09T10:10:59.741201Z",
     "iopub.status.busy": "2021-08-09T10:10:59.740429Z",
     "iopub.status.idle": "2021-08-09T10:10:59.755501Z",
     "shell.execute_reply": "2021-08-09T10:10:59.755040Z"
    },
    "papermill": {
     "duration": 0.055001,
     "end_time": "2021-08-09T10:10:59.755610",
     "exception": false,
     "start_time": "2021-08-09T10:10:59.700609",
     "status": "completed"
    },
    "tags": []
   },
   "outputs": [
    {
     "data": {
      "text/plain": [
       "((11982, 784), (1984, 784))"
      ]
     },
     "execution_count": 13,
     "metadata": {},
     "output_type": "execute_result"
    }
   ],
   "source": [
    "X_train = X_train.reshape(X_train.shape[0], -1)\n",
    "X_test = X_test.reshape(X_test.shape[0], -1)\n",
    "X_train.shape, X_test.shape"
   ]
  },
  {
   "cell_type": "markdown",
   "id": "smart-details",
   "metadata": {
    "papermill": {
     "duration": 0.032665,
     "end_time": "2021-08-09T10:10:59.822605",
     "exception": false,
     "start_time": "2021-08-09T10:10:59.789940",
     "status": "completed"
    },
    "tags": []
   },
   "source": [
    "### Importing appropriate functions from 'Kudzu'"
   ]
  },
  {
   "cell_type": "code",
   "execution_count": 14,
   "id": "celtic-trial",
   "metadata": {
    "execution": {
     "iopub.execute_input": "2021-08-09T10:10:59.896004Z",
     "iopub.status.busy": "2021-08-09T10:10:59.895326Z",
     "iopub.status.idle": "2021-08-09T10:10:59.915454Z",
     "shell.execute_reply": "2021-08-09T10:10:59.915937Z"
    },
    "papermill": {
     "duration": 0.059711,
     "end_time": "2021-08-09T10:10:59.916058",
     "exception": false,
     "start_time": "2021-08-09T10:10:59.856347",
     "status": "completed"
    },
    "tags": []
   },
   "outputs": [],
   "source": [
    "from kudzu.layer import Sigmoid\n",
    "from kudzu.layer import Relu\n",
    "from kudzu.layer import Affine, Sigmoid\n",
    "\n",
    "from kudzu.model import Model\n",
    "from kudzu.train import Learner\n",
    "from kudzu.optim import GD\n",
    "from kudzu.data import Data, Dataloader, Sampler\n",
    "\n",
    "from kudzu.callbacks import AccCallback\n",
    "from kudzu.callbacks import ClfCallback\n",
    "\n",
    "from kudzu.loss import MSE"
   ]
  },
  {
   "cell_type": "markdown",
   "id": "coupled-customer",
   "metadata": {
    "papermill": {
     "duration": 0.034791,
     "end_time": "2021-08-09T10:10:59.984158",
     "exception": false,
     "start_time": "2021-08-09T10:10:59.949367",
     "status": "completed"
    },
    "tags": []
   },
   "source": [
    "### Let us create a `Config` class, to store important parameters. \n",
    "This class essentially plays the role of a dictionary."
   ]
  },
  {
   "cell_type": "code",
   "execution_count": 15,
   "id": "young-ceiling",
   "metadata": {
    "execution": {
     "iopub.execute_input": "2021-08-09T10:11:00.058676Z",
     "iopub.status.busy": "2021-08-09T10:11:00.057991Z",
     "iopub.status.idle": "2021-08-09T10:11:00.071980Z",
     "shell.execute_reply": "2021-08-09T10:11:00.072444Z"
    },
    "papermill": {
     "duration": 0.053402,
     "end_time": "2021-08-09T10:11:00.072573",
     "exception": false,
     "start_time": "2021-08-09T10:11:00.019171",
     "status": "completed"
    },
    "tags": []
   },
   "outputs": [],
   "source": [
    "class Config:\n",
    "    pass\n",
    "config = Config()\n",
    "config.lr = 0.001\n",
    "config.num_epochs = 251\n",
    "config.bs = 50"
   ]
  },
  {
   "cell_type": "markdown",
   "id": "according-mandate",
   "metadata": {
    "papermill": {
     "duration": 0.034351,
     "end_time": "2021-08-09T10:11:00.140806",
     "exception": false,
     "start_time": "2021-08-09T10:11:00.106455",
     "status": "completed"
    },
    "tags": []
   },
   "source": [
    "### Initializing data to the variables"
   ]
  },
  {
   "cell_type": "code",
   "execution_count": 16,
   "id": "academic-disposition",
   "metadata": {
    "execution": {
     "iopub.execute_input": "2021-08-09T10:11:00.213009Z",
     "iopub.status.busy": "2021-08-09T10:11:00.212483Z",
     "iopub.status.idle": "2021-08-09T10:11:00.225679Z",
     "shell.execute_reply": "2021-08-09T10:11:00.226227Z"
    },
    "papermill": {
     "duration": 0.051675,
     "end_time": "2021-08-09T10:11:00.226360",
     "exception": false,
     "start_time": "2021-08-09T10:11:00.174685",
     "status": "completed"
    },
    "tags": []
   },
   "outputs": [],
   "source": [
    "data = Data(X_train, y_train.reshape(-1,1))\n",
    "sampler = Sampler(data, config.bs, shuffle=True)\n",
    "\n",
    "dl = Dataloader(data, sampler)\n",
    "\n",
    "opt = GD(config.lr)\n",
    "loss = MSE()"
   ]
  },
  {
   "cell_type": "code",
   "execution_count": 17,
   "id": "featured-commission",
   "metadata": {
    "execution": {
     "iopub.execute_input": "2021-08-09T10:11:00.295801Z",
     "iopub.status.busy": "2021-08-09T10:11:00.295162Z",
     "iopub.status.idle": "2021-08-09T10:11:00.306540Z",
     "shell.execute_reply": "2021-08-09T10:11:00.307029Z"
    },
    "papermill": {
     "duration": 0.047035,
     "end_time": "2021-08-09T10:11:00.307149",
     "exception": false,
     "start_time": "2021-08-09T10:11:00.260114",
     "status": "completed"
    },
    "tags": []
   },
   "outputs": [],
   "source": [
    "training_xdata = X_train\n",
    "testing_xdata = X_test\n",
    "training_ydata = y_train.reshape(-1,1)\n",
    "testing_ydata = y_test.reshape(-1,1)"
   ]
  },
  {
   "cell_type": "markdown",
   "id": "played-safety",
   "metadata": {
    "papermill": {
     "duration": 0.032164,
     "end_time": "2021-08-09T10:11:00.372302",
     "exception": false,
     "start_time": "2021-08-09T10:11:00.340138",
     "status": "completed"
    },
    "tags": []
   },
   "source": [
    "### Running Models with the Training data\n",
    "Details about the network layers:\n",
    "- A first affine layer has 784 inputs and does 100 affine transforms. These are followed by a Relu\n",
    "- A second affine layer has 100 inputs from the 100 activations of the past layer, and does 100 affine transforms. These are followed by a Relu\n",
    "- A third affine layer has 100 activations and does 2 affine transformations to create an embedding for visualization. There is no non-linearity here.\n",
    "- A final \"logistic regression\" which has an affine transform from 2 inputs to 1 output, which is squeezed through a sigmoid.\n",
    "\n",
    "Help taken from Anshuman's Notebook."
   ]
  },
  {
   "cell_type": "code",
   "execution_count": 18,
   "id": "asian-bankruptcy",
   "metadata": {
    "execution": {
     "iopub.execute_input": "2021-08-09T10:11:00.442480Z",
     "iopub.status.busy": "2021-08-09T10:11:00.441793Z",
     "iopub.status.idle": "2021-08-09T10:11:00.458269Z",
     "shell.execute_reply": "2021-08-09T10:11:00.457796Z"
    },
    "papermill": {
     "duration": 0.054671,
     "end_time": "2021-08-09T10:11:00.458370",
     "exception": false,
     "start_time": "2021-08-09T10:11:00.403699",
     "status": "completed"
    },
    "tags": []
   },
   "outputs": [],
   "source": [
    "# layers for the Neural Network\n",
    "layers = [Affine(\"first\", 784, 100), Relu(\"first\"), Affine(\"second\", 100, 100), Relu(\"second\"), Affine(\"third\", 100, 2), Affine(\"final\", 2, 1), Sigmoid(\"final\")]\n",
    "model_nn = Model(layers)\n",
    "\n",
    "# layers for the Logistic Regression\n",
    "layers_lr = [Affine(\"logits\", 784, 1), Sigmoid(\"sigmoid\")]\n",
    "model_lr = Model(layers_lr)"
   ]
  },
  {
   "cell_type": "code",
   "execution_count": 19,
   "id": "removed-butler",
   "metadata": {
    "execution": {
     "iopub.execute_input": "2021-08-09T10:11:00.527506Z",
     "iopub.status.busy": "2021-08-09T10:11:00.526980Z",
     "iopub.status.idle": "2021-08-09T10:11:00.539031Z",
     "shell.execute_reply": "2021-08-09T10:11:00.538444Z"
    },
    "papermill": {
     "duration": 0.048568,
     "end_time": "2021-08-09T10:11:00.539200",
     "exception": false,
     "start_time": "2021-08-09T10:11:00.490632",
     "status": "completed"
    },
    "tags": []
   },
   "outputs": [],
   "source": [
    "# suffix _nn stands for Neural Network.\n",
    "learner_nn = Learner(loss, model_nn, opt, config.num_epochs)\n",
    "acc_nn = ClfCallback(learner_nn, config.bs, training_xdata , testing_xdata, training_ydata, testing_ydata)\n",
    "learner_nn.set_callbacks([acc_nn])"
   ]
  },
  {
   "cell_type": "code",
   "execution_count": 20,
   "id": "conceptual-throw",
   "metadata": {
    "execution": {
     "iopub.execute_input": "2021-08-09T10:11:00.609213Z",
     "iopub.status.busy": "2021-08-09T10:11:00.608574Z",
     "iopub.status.idle": "2021-08-09T10:13:20.601276Z",
     "shell.execute_reply": "2021-08-09T10:13:20.601956Z"
    },
    "papermill": {
     "duration": 140.028735,
     "end_time": "2021-08-09T10:13:20.602133",
     "exception": false,
     "start_time": "2021-08-09T10:11:00.573398",
     "status": "completed"
    },
    "tags": []
   },
   "outputs": [
    {
     "name": "stdout",
     "output_type": "stream",
     "text": [
      "====== Neural Network ======\n"
     ]
    },
    {
     "name": "stdout",
     "output_type": "stream",
     "text": [
      "Epoch 0, Loss 0.2416\n",
      "Training Accuracy: 0.6522, Testing Accuracy: 0.6174\n",
      "\n"
     ]
    },
    {
     "name": "stdout",
     "output_type": "stream",
     "text": [
      "Epoch 10, Loss 0.1322\n",
      "Training Accuracy: 0.8921, Testing Accuracy: 0.8977\n",
      "\n"
     ]
    },
    {
     "name": "stdout",
     "output_type": "stream",
     "text": [
      "Epoch 20, Loss 0.0725\n",
      "Training Accuracy: 0.9261, Testing Accuracy: 0.9370\n",
      "\n"
     ]
    },
    {
     "name": "stdout",
     "output_type": "stream",
     "text": [
      "Epoch 30, Loss 0.0528\n",
      "Training Accuracy: 0.9436, Testing Accuracy: 0.9521\n",
      "\n"
     ]
    },
    {
     "name": "stdout",
     "output_type": "stream",
     "text": [
      "Epoch 40, Loss 0.0437\n",
      "Training Accuracy: 0.9503, Testing Accuracy: 0.9592\n",
      "\n"
     ]
    },
    {
     "name": "stdout",
     "output_type": "stream",
     "text": [
      "Epoch 50, Loss 0.0386\n",
      "Training Accuracy: 0.9559, Testing Accuracy: 0.9647\n",
      "\n"
     ]
    },
    {
     "name": "stdout",
     "output_type": "stream",
     "text": [
      "Epoch 60, Loss 0.0353\n",
      "Training Accuracy: 0.9599, Testing Accuracy: 0.9667\n",
      "\n"
     ]
    },
    {
     "name": "stdout",
     "output_type": "stream",
     "text": [
      "Epoch 70, Loss 0.033\n",
      "Training Accuracy: 0.9617, Testing Accuracy: 0.9672\n",
      "\n"
     ]
    },
    {
     "name": "stdout",
     "output_type": "stream",
     "text": [
      "Epoch 80, Loss 0.0312\n",
      "Training Accuracy: 0.9639, Testing Accuracy: 0.9672\n",
      "\n"
     ]
    },
    {
     "name": "stdout",
     "output_type": "stream",
     "text": [
      "Epoch 90, Loss 0.0298\n",
      "Training Accuracy: 0.9652, Testing Accuracy: 0.9677\n",
      "\n"
     ]
    },
    {
     "name": "stdout",
     "output_type": "stream",
     "text": [
      "Epoch 100, Loss 0.0287\n",
      "Training Accuracy: 0.9666, Testing Accuracy: 0.9682\n",
      "\n"
     ]
    },
    {
     "name": "stdout",
     "output_type": "stream",
     "text": [
      "Epoch 110, Loss 0.0277\n",
      "Training Accuracy: 0.9675, Testing Accuracy: 0.9688\n",
      "\n"
     ]
    },
    {
     "name": "stdout",
     "output_type": "stream",
     "text": [
      "Epoch 120, Loss 0.0268\n",
      "Training Accuracy: 0.9687, Testing Accuracy: 0.9693\n",
      "\n"
     ]
    },
    {
     "name": "stdout",
     "output_type": "stream",
     "text": [
      "Epoch 130, Loss 0.0261\n",
      "Training Accuracy: 0.9697, Testing Accuracy: 0.9698\n",
      "\n"
     ]
    },
    {
     "name": "stdout",
     "output_type": "stream",
     "text": [
      "Epoch 140, Loss 0.0254\n",
      "Training Accuracy: 0.9708, Testing Accuracy: 0.9713\n",
      "\n"
     ]
    },
    {
     "name": "stdout",
     "output_type": "stream",
     "text": [
      "Epoch 150, Loss 0.0247\n",
      "Training Accuracy: 0.9713, Testing Accuracy: 0.9708\n",
      "\n"
     ]
    },
    {
     "name": "stdout",
     "output_type": "stream",
     "text": [
      "Epoch 160, Loss 0.0241\n",
      "Training Accuracy: 0.9720, Testing Accuracy: 0.9713\n",
      "\n"
     ]
    },
    {
     "name": "stdout",
     "output_type": "stream",
     "text": [
      "Epoch 170, Loss 0.0236\n",
      "Training Accuracy: 0.9722, Testing Accuracy: 0.9723\n",
      "\n"
     ]
    },
    {
     "name": "stdout",
     "output_type": "stream",
     "text": [
      "Epoch 180, Loss 0.0231\n",
      "Training Accuracy: 0.9730, Testing Accuracy: 0.9723\n",
      "\n"
     ]
    },
    {
     "name": "stdout",
     "output_type": "stream",
     "text": [
      "Epoch 190, Loss 0.0226\n",
      "Training Accuracy: 0.9740, Testing Accuracy: 0.9718\n",
      "\n"
     ]
    },
    {
     "name": "stdout",
     "output_type": "stream",
     "text": [
      "Epoch 200, Loss 0.0221\n",
      "Training Accuracy: 0.9745, Testing Accuracy: 0.9723\n",
      "\n"
     ]
    },
    {
     "name": "stdout",
     "output_type": "stream",
     "text": [
      "Epoch 210, Loss 0.0217\n",
      "Training Accuracy: 0.9748, Testing Accuracy: 0.9723\n",
      "\n"
     ]
    },
    {
     "name": "stdout",
     "output_type": "stream",
     "text": [
      "Epoch 220, Loss 0.0213\n",
      "Training Accuracy: 0.9757, Testing Accuracy: 0.9723\n",
      "\n"
     ]
    },
    {
     "name": "stdout",
     "output_type": "stream",
     "text": [
      "Epoch 230, Loss 0.0209\n",
      "Training Accuracy: 0.9763, Testing Accuracy: 0.9723\n",
      "\n"
     ]
    },
    {
     "name": "stdout",
     "output_type": "stream",
     "text": [
      "Epoch 240, Loss 0.0205\n",
      "Training Accuracy: 0.9769, Testing Accuracy: 0.9738\n",
      "\n"
     ]
    },
    {
     "name": "stdout",
     "output_type": "stream",
     "text": [
      "Epoch 250, Loss 0.0201\n",
      "Training Accuracy: 0.9776, Testing Accuracy: 0.9728\n",
      "\n"
     ]
    },
    {
     "data": {
      "text/plain": [
       "0.028568138556421104"
      ]
     },
     "execution_count": 20,
     "metadata": {},
     "output_type": "execute_result"
    }
   ],
   "source": [
    "print(\"====== Neural Network ======\")\n",
    "learner_nn.train_loop(dl)"
   ]
  },
  {
   "cell_type": "markdown",
   "id": "competent-suffering",
   "metadata": {
    "papermill": {
     "duration": 0.040357,
     "end_time": "2021-08-09T10:13:20.686711",
     "exception": false,
     "start_time": "2021-08-09T10:13:20.646354",
     "status": "completed"
    },
    "tags": []
   },
   "source": [
    "### Logistic Regression based Implementation."
   ]
  },
  {
   "cell_type": "code",
   "execution_count": 21,
   "id": "qualified-psychiatry",
   "metadata": {
    "execution": {
     "iopub.execute_input": "2021-08-09T10:13:20.767786Z",
     "iopub.status.busy": "2021-08-09T10:13:20.767280Z",
     "iopub.status.idle": "2021-08-09T10:13:20.778100Z",
     "shell.execute_reply": "2021-08-09T10:13:20.778484Z"
    },
    "papermill": {
     "duration": 0.051838,
     "end_time": "2021-08-09T10:13:20.778601",
     "exception": false,
     "start_time": "2021-08-09T10:13:20.726763",
     "status": "completed"
    },
    "tags": []
   },
   "outputs": [],
   "source": [
    "learner_lr = Learner(loss, model_lr, opt, config.num_epochs)\n",
    "acc_lr = ClfCallback(learner_lr, config.bs, training_xdata , testing_xdata, training_ydata, testing_ydata)\n",
    "learner_lr.set_callbacks([acc_lr])"
   ]
  },
  {
   "cell_type": "code",
   "execution_count": 22,
   "id": "average-outside",
   "metadata": {
    "execution": {
     "iopub.execute_input": "2021-08-09T10:13:20.860385Z",
     "iopub.status.busy": "2021-08-09T10:13:20.859730Z",
     "iopub.status.idle": "2021-08-09T10:13:39.535741Z",
     "shell.execute_reply": "2021-08-09T10:13:39.536308Z"
    },
    "papermill": {
     "duration": 18.719976,
     "end_time": "2021-08-09T10:13:39.536485",
     "exception": false,
     "start_time": "2021-08-09T10:13:20.816509",
     "status": "completed"
    },
    "tags": []
   },
   "outputs": [
    {
     "name": "stdout",
     "output_type": "stream",
     "text": [
      "====== Logistic Regression ======\n",
      "Epoch 0, Loss 0.208\n",
      "Training Accuracy: 0.8232, Testing Accuracy: 0.8458\n",
      "\n"
     ]
    },
    {
     "name": "stdout",
     "output_type": "stream",
     "text": [
      "Epoch 10, Loss 0.0968\n",
      "Training Accuracy: 0.9209, Testing Accuracy: 0.9315\n",
      "\n"
     ]
    },
    {
     "name": "stdout",
     "output_type": "stream",
     "text": [
      "Epoch 20, Loss 0.076\n",
      "Training Accuracy: 0.9323, Testing Accuracy: 0.9400\n",
      "\n"
     ]
    },
    {
     "name": "stdout",
     "output_type": "stream",
     "text": [
      "Epoch 30, Loss 0.0662\n",
      "Training Accuracy: 0.9394, Testing Accuracy: 0.9456\n",
      "\n"
     ]
    },
    {
     "name": "stdout",
     "output_type": "stream",
     "text": [
      "Epoch 40, Loss 0.0602\n",
      "Training Accuracy: 0.9436, Testing Accuracy: 0.9496\n",
      "\n"
     ]
    },
    {
     "name": "stdout",
     "output_type": "stream",
     "text": [
      "Epoch 50, Loss 0.056\n",
      "Training Accuracy: 0.9466, Testing Accuracy: 0.9516\n",
      "\n"
     ]
    },
    {
     "name": "stdout",
     "output_type": "stream",
     "text": [
      "Epoch 60, Loss 0.053\n",
      "Training Accuracy: 0.9489, Testing Accuracy: 0.9551\n",
      "\n"
     ]
    },
    {
     "name": "stdout",
     "output_type": "stream",
     "text": [
      "Epoch 70, Loss 0.0506\n",
      "Training Accuracy: 0.9500, Testing Accuracy: 0.9572\n",
      "\n"
     ]
    },
    {
     "name": "stdout",
     "output_type": "stream",
     "text": [
      "Epoch 80, Loss 0.0486\n",
      "Training Accuracy: 0.9509, Testing Accuracy: 0.9597\n",
      "\n"
     ]
    },
    {
     "name": "stdout",
     "output_type": "stream",
     "text": [
      "Epoch 90, Loss 0.047\n",
      "Training Accuracy: 0.9523, Testing Accuracy: 0.9607\n",
      "\n"
     ]
    },
    {
     "name": "stdout",
     "output_type": "stream",
     "text": [
      "Epoch 100, Loss 0.0457\n",
      "Training Accuracy: 0.9533, Testing Accuracy: 0.9612\n",
      "\n"
     ]
    },
    {
     "name": "stdout",
     "output_type": "stream",
     "text": [
      "Epoch 110, Loss 0.0445\n",
      "Training Accuracy: 0.9539, Testing Accuracy: 0.9617\n",
      "\n"
     ]
    },
    {
     "name": "stdout",
     "output_type": "stream",
     "text": [
      "Epoch 120, Loss 0.0435\n",
      "Training Accuracy: 0.9550, Testing Accuracy: 0.9617\n",
      "\n"
     ]
    },
    {
     "name": "stdout",
     "output_type": "stream",
     "text": [
      "Epoch 130, Loss 0.0426\n",
      "Training Accuracy: 0.9561, Testing Accuracy: 0.9622\n",
      "\n"
     ]
    },
    {
     "name": "stdout",
     "output_type": "stream",
     "text": [
      "Epoch 140, Loss 0.0418\n",
      "Training Accuracy: 0.9566, Testing Accuracy: 0.9632\n",
      "\n"
     ]
    },
    {
     "name": "stdout",
     "output_type": "stream",
     "text": [
      "Epoch 150, Loss 0.0411\n",
      "Training Accuracy: 0.9569, Testing Accuracy: 0.9622\n",
      "\n"
     ]
    },
    {
     "name": "stdout",
     "output_type": "stream",
     "text": [
      "Epoch 160, Loss 0.0404\n",
      "Training Accuracy: 0.9579, Testing Accuracy: 0.9627\n",
      "\n"
     ]
    },
    {
     "name": "stdout",
     "output_type": "stream",
     "text": [
      "Epoch 170, Loss 0.0398\n",
      "Training Accuracy: 0.9586, Testing Accuracy: 0.9627\n",
      "\n"
     ]
    },
    {
     "name": "stdout",
     "output_type": "stream",
     "text": [
      "Epoch 180, Loss 0.0393\n",
      "Training Accuracy: 0.9592, Testing Accuracy: 0.9627\n",
      "\n"
     ]
    },
    {
     "name": "stdout",
     "output_type": "stream",
     "text": [
      "Epoch 190, Loss 0.0388\n",
      "Training Accuracy: 0.9596, Testing Accuracy: 0.9632\n",
      "\n"
     ]
    },
    {
     "name": "stdout",
     "output_type": "stream",
     "text": [
      "Epoch 200, Loss 0.0383\n",
      "Training Accuracy: 0.9600, Testing Accuracy: 0.9642\n",
      "\n"
     ]
    },
    {
     "name": "stdout",
     "output_type": "stream",
     "text": [
      "Epoch 210, Loss 0.0379\n",
      "Training Accuracy: 0.9604, Testing Accuracy: 0.9652\n",
      "\n"
     ]
    },
    {
     "name": "stdout",
     "output_type": "stream",
     "text": [
      "Epoch 220, Loss 0.0375\n",
      "Training Accuracy: 0.9605, Testing Accuracy: 0.9652\n",
      "\n"
     ]
    },
    {
     "name": "stdout",
     "output_type": "stream",
     "text": [
      "Epoch 230, Loss 0.0371\n",
      "Training Accuracy: 0.9610, Testing Accuracy: 0.9652\n",
      "\n"
     ]
    },
    {
     "name": "stdout",
     "output_type": "stream",
     "text": [
      "Epoch 240, Loss 0.0368\n",
      "Training Accuracy: 0.9612, Testing Accuracy: 0.9652\n",
      "\n"
     ]
    },
    {
     "name": "stdout",
     "output_type": "stream",
     "text": [
      "Epoch 250, Loss 0.0364\n",
      "Training Accuracy: 0.9617, Testing Accuracy: 0.9652\n",
      "\n"
     ]
    },
    {
     "data": {
      "text/plain": [
       "0.03944262783708466"
      ]
     },
     "execution_count": 22,
     "metadata": {},
     "output_type": "execute_result"
    }
   ],
   "source": [
    "print(\"====== Logistic Regression ======\")\n",
    "learner_lr.train_loop(dl)"
   ]
  },
  {
   "cell_type": "markdown",
   "id": "adjusted-possible",
   "metadata": {
    "papermill": {
     "duration": 0.054415,
     "end_time": "2021-08-09T10:13:39.648696",
     "exception": false,
     "start_time": "2021-08-09T10:13:39.594281",
     "status": "completed"
    },
    "tags": []
   },
   "source": [
    "### Comparing results of NN and LR"
   ]
  },
  {
   "cell_type": "code",
   "execution_count": 23,
   "id": "mental-multimedia",
   "metadata": {
    "execution": {
     "iopub.execute_input": "2021-08-09T10:13:39.767955Z",
     "iopub.status.busy": "2021-08-09T10:13:39.767311Z",
     "iopub.status.idle": "2021-08-09T10:13:40.085980Z",
     "shell.execute_reply": "2021-08-09T10:13:40.085466Z"
    },
    "papermill": {
     "duration": 0.377531,
     "end_time": "2021-08-09T10:13:40.086112",
     "exception": false,
     "start_time": "2021-08-09T10:13:39.708581",
     "status": "completed"
    },
    "tags": []
   },
   "outputs": [
    {
     "data": {
      "text/plain": [
       "<matplotlib.legend.Legend at 0x7f9e8f0a4438>"
      ]
     },
     "execution_count": 23,
     "metadata": {},
     "output_type": "execute_result"
    },
    {
     "data": {
      "image/png": "[encoded data removed]",
      "text/plain": [
       "<Figure size 1080x720 with 1 Axes>"
      ]
     },
     "metadata": {
      "needs_background": "light"
     },
     "output_type": "display_data"
    }
   ],
   "source": [
    "plt.figure(figsize=(15,10))\n",
    "\n",
    "# Neural Network plots\n",
    "plt.plot(acc_nn.accuracies, 'r-', label = \"Training Accuracies - NN\")\n",
    "plt.plot(acc_nn.test_accuracies, 'g-', label = \"Testing Accuracies - NN\")\n",
    "\n",
    "# Logistic Regression plots\n",
    "plt.plot(acc_lr.accuracies, 'k-', label = \"Training Accuracies - LR\")\n",
    "plt.plot(acc_lr.test_accuracies, 'b-', label = \"Testing Accuracies - LR\")\n",
    "\n",
    "plt.ylim(0.8, 1)\n",
    "\n",
    "plt.legend()\n",
    "\n"
   ]
  },
  {
   "cell_type": "markdown",
   "id": "sexual-flesh",
   "metadata": {
    "papermill": {
     "duration": 0.053123,
     "end_time": "2021-08-09T10:13:40.191830",
     "exception": false,
     "start_time": "2021-08-09T10:13:40.138707",
     "status": "completed"
    },
    "tags": []
   },
   "source": [
    "### From the plot, we can observe the following:\n",
    "- Neural Network achieves higher accuracy than the Logistic Regression model.\n",
    "- This apparently, is because of overfitting, i.e. NN captures more noise than data.\n",
    "- Testing accuracy of NN drops below the Training accuracy at higher epochs. This explains the over-fitting on training data.\n",
    "- Logistic Regression gives a reliable accuracy, without the above mentioned problem.\n"
   ]
  },
  {
   "cell_type": "markdown",
   "id": "institutional-pacific",
   "metadata": {
    "papermill": {
     "duration": 0.053575,
     "end_time": "2021-08-09T10:13:40.300848",
     "exception": false,
     "start_time": "2021-08-09T10:13:40.247273",
     "status": "completed"
    },
    "tags": []
   },
   "source": [
    "### Moving till the last but one layer (excluding it).\n",
    "#### Plotting the outputs of this layer of the NN."
   ]
  },
  {
   "cell_type": "code",
   "execution_count": 24,
   "id": "economic-server",
   "metadata": {
    "execution": {
     "iopub.execute_input": "2021-08-09T10:13:40.413772Z",
     "iopub.status.busy": "2021-08-09T10:13:40.413131Z",
     "iopub.status.idle": "2021-08-09T10:13:40.425962Z",
     "shell.execute_reply": "2021-08-09T10:13:40.425482Z"
    },
    "papermill": {
     "duration": 0.06986,
     "end_time": "2021-08-09T10:13:40.426080",
     "exception": false,
     "start_time": "2021-08-09T10:13:40.356220",
     "status": "completed"
    },
    "tags": []
   },
   "outputs": [],
   "source": [
    "model_new = Model(layers[:-2])"
   ]
  },
  {
   "cell_type": "code",
   "execution_count": 25,
   "id": "varied-upgrade",
   "metadata": {
    "execution": {
     "iopub.execute_input": "2021-08-09T10:13:40.561709Z",
     "iopub.status.busy": "2021-08-09T10:13:40.561009Z",
     "iopub.status.idle": "2021-08-09T10:13:40.585894Z",
     "shell.execute_reply": "2021-08-09T10:13:40.586599Z"
    },
    "papermill": {
     "duration": 0.084994,
     "end_time": "2021-08-09T10:13:40.586779",
     "exception": false,
     "start_time": "2021-08-09T10:13:40.501785",
     "status": "completed"
    },
    "tags": []
   },
   "outputs": [],
   "source": [
    "plot_testing = model_new(testing_xdata)"
   ]
  },
  {
   "cell_type": "code",
   "execution_count": 26,
   "id": "specific-handling",
   "metadata": {
    "execution": {
     "iopub.execute_input": "2021-08-09T10:13:40.708414Z",
     "iopub.status.busy": "2021-08-09T10:13:40.707754Z",
     "iopub.status.idle": "2021-08-09T10:13:40.949426Z",
     "shell.execute_reply": "2021-08-09T10:13:40.949881Z"
    },
    "papermill": {
     "duration": 0.305878,
     "end_time": "2021-08-09T10:13:40.950025",
     "exception": false,
     "start_time": "2021-08-09T10:13:40.644147",
     "status": "completed"
    },
    "tags": []
   },
   "outputs": [
    {
     "data": {
      "text/plain": [
       "Text(0.5, 1.0, 'Outputs')"
      ]
     },
     "execution_count": 26,
     "metadata": {},
     "output_type": "execute_result"
    },
    {
     "data": {
      "image/png": "[encoded data removed]",
      "text/plain": [
       "<Figure size 576x504 with 1 Axes>"
      ]
     },
     "metadata": {
      "needs_background": "light"
     },
     "output_type": "display_data"
    }
   ],
   "source": [
    "plt.figure(figsize=(8,7))\n",
    "plt.scatter(plot_testing[:,0], plot_testing[:,1], alpha = 0.1, c = y_test.ravel());\n",
    "plt.title('Outputs')"
   ]
  },
  {
   "cell_type": "markdown",
   "id": "described-knowing",
   "metadata": {
    "papermill": {
     "duration": 0.05832,
     "end_time": "2021-08-09T10:13:41.059197",
     "exception": false,
     "start_time": "2021-08-09T10:13:41.000877",
     "status": "completed"
    },
    "tags": []
   },
   "source": [
    "### Plotting probability contours"
   ]
  },
  {
   "cell_type": "code",
   "execution_count": 27,
   "id": "needed-growing",
   "metadata": {
    "execution": {
     "iopub.execute_input": "2021-08-09T10:13:41.175842Z",
     "iopub.status.busy": "2021-08-09T10:13:41.175252Z",
     "iopub.status.idle": "2021-08-09T10:13:41.187997Z",
     "shell.execute_reply": "2021-08-09T10:13:41.187514Z"
    },
    "papermill": {
     "duration": 0.071819,
     "end_time": "2021-08-09T10:13:41.188115",
     "exception": false,
     "start_time": "2021-08-09T10:13:41.116296",
     "status": "completed"
    },
    "tags": []
   },
   "outputs": [],
   "source": [
    "model_prob = Model(layers[-2:]) "
   ]
  },
  {
   "cell_type": "code",
   "execution_count": 28,
   "id": "introductory-enforcement",
   "metadata": {
    "execution": {
     "iopub.execute_input": "2021-08-09T10:13:41.295854Z",
     "iopub.status.busy": "2021-08-09T10:13:41.295257Z",
     "iopub.status.idle": "2021-08-09T10:13:41.309343Z",
     "shell.execute_reply": "2021-08-09T10:13:41.309813Z"
    },
    "papermill": {
     "duration": 0.069793,
     "end_time": "2021-08-09T10:13:41.309956",
     "exception": false,
     "start_time": "2021-08-09T10:13:41.240163",
     "status": "completed"
    },
    "tags": []
   },
   "outputs": [],
   "source": [
    "# Adjust the x and y ranges according to the above generated plot.\n",
    "x_range = np.linspace(-4, 1, 100) \n",
    "y_range = np.linspace(-6, 6, 100) \n",
    "x_grid, y_grid = np.meshgrid(x_range, y_range) # x_grid and y_grig are of size 100 X 100\n",
    "\n",
    "# converting x_grid and y_grid to continuous arrays\n",
    "x_grid_flat = np.ravel(x_grid)\n",
    "y_grid_flat = np.ravel(y_grid)\n",
    "\n",
    "# The last layer of the current model takes two columns as input. Hence transpose of np.vstack() is required.\n",
    "X = np.vstack((x_grid_flat, y_grid_flat)).T\n",
    "\n",
    "# x_grid and y_grid are of size 100 x 100\n",
    "probability_contour = model_prob(X).reshape(100,100) "
   ]
  },
  {
   "cell_type": "code",
   "execution_count": 29,
   "id": "understood-landing",
   "metadata": {
    "execution": {
     "iopub.execute_input": "2021-08-09T10:13:41.426311Z",
     "iopub.status.busy": "2021-08-09T10:13:41.424569Z",
     "iopub.status.idle": "2021-08-09T10:13:41.745975Z",
     "shell.execute_reply": "2021-08-09T10:13:41.745473Z"
    },
    "papermill": {
     "duration": 0.377821,
     "end_time": "2021-08-09T10:13:41.746111",
     "exception": false,
     "start_time": "2021-08-09T10:13:41.368290",
     "status": "completed"
    },
    "tags": []
   },
   "outputs": [
    {
     "data": {
      "image/png": "[encoded data removed]",
      "text/plain": [
       "<Figure size 720x648 with 1 Axes>"
      ]
     },
     "metadata": {
      "needs_background": "light"
     },
     "output_type": "display_data"
    }
   ],
   "source": [
    "plt.figure(figsize=(10,9))\n",
    "plt.scatter(plot_testing[:,0], plot_testing[:,1], alpha = 0.1, c = y_test.ravel())\n",
    "contours = plt.contour(x_grid,y_grid,probability_contour)\n",
    "plt.title('Probability Contours')\n",
    "plt.clabel(contours, inline = True );"
   ]
  }
 ],
 "metadata": {
  "kernelspec": {
   "display_name": "Python 3",
   "language": "python",
   "name": "python3"
  },
  "language_info": {
   "codemirror_mode": {
    "name": "ipython",
    "version": 3
   },
   "file_extension": ".py",
   "mimetype": "text/x-python",
   "name": "python",
   "nbconvert_exporter": "python",
   "pygments_lexer": "ipython3",
   "version": "3.6.14"
  },
  "papermill": {
   "duration": 510.224042,
   "end_time": "2021-08-09T10:13:42.213075",
   "environment_variables": {},
   "exception": null,
   "input_path": "2020-08-11-NeuralNetwork.ipynb",
   "output_path": "2020-08-11-NeuralNetwork.ipynb",
   "parameters": {},
   "start_time": "2021-08-09T10:05:11.989033",
   "version": "2.1.2"
  }
 },
 "nbformat": 4,
 "nbformat_minor": 5
}