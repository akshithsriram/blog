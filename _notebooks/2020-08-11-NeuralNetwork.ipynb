{
 "cells": [
  {
   "cell_type": "markdown",
   "id": "fitted-suggestion",
   "metadata": {
    "papermill": {
     "duration": 0.033509,
     "end_time": "2021-07-03T20:04:56.929822",
     "exception": false,
     "start_time": "2021-07-03T20:04:56.896313",
     "status": "completed"
    },
    "tags": []
   },
   "source": [
    "# \"A Basic Neural Network: Differentiate Hand-Written Digits\"\n",
    "\n",
    "- badges: true\n",
    "- author: Akshith Sriram"
   ]
  },
  {
   "cell_type": "markdown",
   "id": "signal-flexibility",
   "metadata": {
    "papermill": {
     "duration": 0.032286,
     "end_time": "2021-07-03T20:04:56.993398",
     "exception": false,
     "start_time": "2021-07-03T20:04:56.961112",
     "status": "completed"
    },
    "tags": []
   },
   "source": [
    "### Key Objectives:\n",
    "- Building a neural network that differentiates two hand-written digits 3 and 8.\n",
    "- Comparing the results of this Neural Network (NN) to that of a Logistic Regression (LR) model.\n",
    "\n",
    "### Requirements:\n",
    "- 'Kudzu' : A neural network library that was designed during our course by [Univ.AI](www.univ.ai). \n",
    "- MNIST Database\n",
    "\n",
    "If MNIST is not installed, use the command `!pip install mnist` given below.\n",
    "It can be run both from the command line and Jupyter Notebook."
   ]
  },
  {
   "cell_type": "code",
   "execution_count": 1,
   "id": "british-texture",
   "metadata": {
    "execution": {
     "iopub.execute_input": "2021-07-03T20:04:57.066494Z",
     "iopub.status.busy": "2021-07-03T20:04:57.065932Z",
     "iopub.status.idle": "2021-07-03T20:04:58.720780Z",
     "shell.execute_reply": "2021-07-03T20:04:58.720291Z"
    },
    "papermill": {
     "duration": 1.696404,
     "end_time": "2021-07-03T20:04:58.720917",
     "exception": false,
     "start_time": "2021-07-03T20:04:57.024513",
     "status": "completed"
    },
    "tags": []
   },
   "outputs": [
    {
     "name": "stdout",
     "output_type": "stream",
     "text": [
      "Collecting mnist\r\n"
     ]
    },
    {
     "name": "stdout",
     "output_type": "stream",
     "text": [
      "  Downloading mnist-0.2.2-py2.py3-none-any.whl (3.5 kB)\r\n",
      "Requirement already satisfied: numpy in /opt/hostedtoolcache/Python/3.6.13/x64/lib/python3.6/site-packages (from mnist) (1.19.5)\r\n"
     ]
    },
    {
     "name": "stdout",
     "output_type": "stream",
     "text": [
      "Installing collected packages: mnist\r\n"
     ]
    },
    {
     "name": "stdout",
     "output_type": "stream",
     "text": [
      "Successfully installed mnist-0.2.2\r\n"
     ]
    }
   ],
   "source": [
    "!pip install mnist "
   ]
  },
  {
   "cell_type": "markdown",
   "id": "stunning-extra",
   "metadata": {
    "papermill": {
     "duration": 0.029644,
     "end_time": "2021-07-03T20:04:58.780797",
     "exception": false,
     "start_time": "2021-07-03T20:04:58.751153",
     "status": "completed"
    },
    "tags": []
   },
   "source": [
    "#### Importing necessary libraries"
   ]
  },
  {
   "cell_type": "code",
   "execution_count": 2,
   "id": "wooden-france",
   "metadata": {
    "execution": {
     "iopub.execute_input": "2021-07-03T20:04:58.852524Z",
     "iopub.status.busy": "2021-07-03T20:04:58.850806Z",
     "iopub.status.idle": "2021-07-03T20:04:59.420052Z",
     "shell.execute_reply": "2021-07-03T20:04:59.419427Z"
    },
    "papermill": {
     "duration": 0.609766,
     "end_time": "2021-07-03T20:04:59.420263",
     "exception": false,
     "start_time": "2021-07-03T20:04:58.810497",
     "status": "completed"
    },
    "tags": []
   },
   "outputs": [],
   "source": [
    "%load_ext autoreload\n",
    "%autoreload 2\n",
    "\n",
    "%matplotlib inline\n",
    "import matplotlib.pyplot as plt\n",
    "\n",
    "import numpy as np\n",
    "import pandas as pd"
   ]
  },
  {
   "cell_type": "markdown",
   "id": "stunning-physics",
   "metadata": {
    "papermill": {
     "duration": 0.030896,
     "end_time": "2021-07-03T20:04:59.484982",
     "exception": false,
     "start_time": "2021-07-03T20:04:59.454086",
     "status": "completed"
    },
    "tags": []
   },
   "source": [
    "### Preparing the Data"
   ]
  },
  {
   "cell_type": "code",
   "execution_count": 3,
   "id": "unauthorized-remainder",
   "metadata": {
    "execution": {
     "iopub.execute_input": "2021-07-03T20:04:59.548014Z",
     "iopub.status.busy": "2021-07-03T20:04:59.547297Z",
     "iopub.status.idle": "2021-07-03T20:04:59.560815Z",
     "shell.execute_reply": "2021-07-03T20:04:59.560254Z"
    },
    "papermill": {
     "duration": 0.046824,
     "end_time": "2021-07-03T20:04:59.560938",
     "exception": false,
     "start_time": "2021-07-03T20:04:59.514114",
     "status": "completed"
    },
    "tags": []
   },
   "outputs": [],
   "source": [
    "import mnist"
   ]
  },
  {
   "cell_type": "code",
   "execution_count": 4,
   "id": "correct-antarctica",
   "metadata": {
    "execution": {
     "iopub.execute_input": "2021-07-03T20:04:59.628602Z",
     "iopub.status.busy": "2021-07-03T20:04:59.627959Z",
     "iopub.status.idle": "2021-07-03T20:05:25.755648Z",
     "shell.execute_reply": "2021-07-03T20:05:25.754543Z"
    },
    "papermill": {
     "duration": 26.163433,
     "end_time": "2021-07-03T20:05:25.755770",
     "exception": false,
     "start_time": "2021-07-03T20:04:59.592337",
     "status": "completed"
    },
    "tags": []
   },
   "outputs": [],
   "source": [
    "train_images = mnist.train_images()\n",
    "train_labels = mnist.train_labels()"
   ]
  },
  {
   "cell_type": "code",
   "execution_count": 5,
   "id": "musical-prospect",
   "metadata": {
    "execution": {
     "iopub.execute_input": "2021-07-03T20:05:25.835599Z",
     "iopub.status.busy": "2021-07-03T20:05:25.827713Z",
     "iopub.status.idle": "2021-07-03T20:05:25.846298Z",
     "shell.execute_reply": "2021-07-03T20:05:25.846860Z"
    },
    "papermill": {
     "duration": 0.059553,
     "end_time": "2021-07-03T20:05:25.846980",
     "exception": false,
     "start_time": "2021-07-03T20:05:25.787427",
     "status": "completed"
    },
    "tags": []
   },
   "outputs": [
    {
     "data": {
      "text/plain": [
       "((60000, 28, 28), (60000,))"
      ]
     },
     "execution_count": 5,
     "metadata": {},
     "output_type": "execute_result"
    }
   ],
   "source": [
    "train_images.shape, train_labels.shape"
   ]
  },
  {
   "cell_type": "code",
   "execution_count": 6,
   "id": "preliminary-elizabeth",
   "metadata": {
    "execution": {
     "iopub.execute_input": "2021-07-03T20:05:25.921456Z",
     "iopub.status.busy": "2021-07-03T20:05:25.917051Z",
     "iopub.status.idle": "2021-07-03T20:05:34.233904Z",
     "shell.execute_reply": "2021-07-03T20:05:34.233301Z"
    },
    "papermill": {
     "duration": 8.353818,
     "end_time": "2021-07-03T20:05:34.234050",
     "exception": false,
     "start_time": "2021-07-03T20:05:25.880232",
     "status": "completed"
    },
    "tags": []
   },
   "outputs": [],
   "source": [
    "test_images = mnist.test_images()\n",
    "test_labels = mnist.test_labels()"
   ]
  },
  {
   "cell_type": "code",
   "execution_count": 7,
   "id": "acknowledged-oxygen",
   "metadata": {
    "execution": {
     "iopub.execute_input": "2021-07-03T20:05:34.314942Z",
     "iopub.status.busy": "2021-07-03T20:05:34.314183Z",
     "iopub.status.idle": "2021-07-03T20:05:34.328475Z",
     "shell.execute_reply": "2021-07-03T20:05:34.328985Z"
    },
    "papermill": {
     "duration": 0.059558,
     "end_time": "2021-07-03T20:05:34.329122",
     "exception": false,
     "start_time": "2021-07-03T20:05:34.269564",
     "status": "completed"
    },
    "tags": []
   },
   "outputs": [
    {
     "data": {
      "text/plain": [
       "((10000, 28, 28), (10000,))"
      ]
     },
     "execution_count": 7,
     "metadata": {},
     "output_type": "execute_result"
    }
   ],
   "source": [
    "test_images.shape, test_labels.shape"
   ]
  },
  {
   "cell_type": "code",
   "execution_count": 8,
   "id": "innovative-organic",
   "metadata": {
    "execution": {
     "iopub.execute_input": "2021-07-03T20:05:34.403777Z",
     "iopub.status.busy": "2021-07-03T20:05:34.403234Z",
     "iopub.status.idle": "2021-07-03T20:05:34.594615Z",
     "shell.execute_reply": "2021-07-03T20:05:34.594087Z"
    },
    "papermill": {
     "duration": 0.228359,
     "end_time": "2021-07-03T20:05:34.594749",
     "exception": false,
     "start_time": "2021-07-03T20:05:34.366390",
     "status": "completed"
    },
    "tags": []
   },
   "outputs": [
    {
     "name": "stdout",
     "output_type": "stream",
     "text": [
      "2\n"
     ]
    },
    {
     "data": {
      "text/plain": [
       "<matplotlib.image.AxesImage at 0x7fe26991e5c0>"
      ]
     },
     "execution_count": 8,
     "metadata": {},
     "output_type": "execute_result"
    },
    {
     "data": {
      "image/png": "[encoded data removed]",
      "text/plain": [
       "<Figure size 432x288 with 1 Axes>"
      ]
     },
     "metadata": {
      "needs_background": "light"
     },
     "output_type": "display_data"
    }
   ],
   "source": [
    "image_index = 7776 # You may select anything up to 60,000\n",
    "print(train_labels[image_index]) \n",
    "plt.imshow(train_images[image_index], cmap='Greys')"
   ]
  },
  {
   "cell_type": "markdown",
   "id": "facial-modem",
   "metadata": {
    "papermill": {
     "duration": 0.034143,
     "end_time": "2021-07-03T20:05:34.664534",
     "exception": false,
     "start_time": "2021-07-03T20:05:34.630391",
     "status": "completed"
    },
    "tags": []
   },
   "source": [
    "## Filter data to get 3 and 8 out"
   ]
  },
  {
   "cell_type": "code",
   "execution_count": 9,
   "id": "thousand-acquisition",
   "metadata": {
    "execution": {
     "iopub.execute_input": "2021-07-03T20:05:34.741132Z",
     "iopub.status.busy": "2021-07-03T20:05:34.738759Z",
     "iopub.status.idle": "2021-07-03T20:05:34.757381Z",
     "shell.execute_reply": "2021-07-03T20:05:34.758213Z"
    },
    "papermill": {
     "duration": 0.058806,
     "end_time": "2021-07-03T20:05:34.758415",
     "exception": false,
     "start_time": "2021-07-03T20:05:34.699609",
     "status": "completed"
    },
    "tags": []
   },
   "outputs": [],
   "source": [
    "train_filter = np.where((train_labels == 3 ) | (train_labels == 8))\n",
    "test_filter = np.where((test_labels == 3) | (test_labels == 8))\n",
    "X_train, y_train = train_images[train_filter], train_labels[train_filter]\n",
    "X_test, y_test = test_images[test_filter], test_labels[test_filter]"
   ]
  },
  {
   "cell_type": "markdown",
   "id": "ruled-access",
   "metadata": {
    "papermill": {
     "duration": 0.035238,
     "end_time": "2021-07-03T20:05:34.828458",
     "exception": false,
     "start_time": "2021-07-03T20:05:34.793220",
     "status": "completed"
    },
    "tags": []
   },
   "source": [
    "We normalize the pixel values in the 0 to 1 range"
   ]
  },
  {
   "cell_type": "code",
   "execution_count": 10,
   "id": "isolated-denver",
   "metadata": {
    "execution": {
     "iopub.execute_input": "2021-07-03T20:05:34.909074Z",
     "iopub.status.busy": "2021-07-03T20:05:34.904955Z",
     "iopub.status.idle": "2021-07-03T20:05:34.974058Z",
     "shell.execute_reply": "2021-07-03T20:05:34.973533Z"
    },
    "papermill": {
     "duration": 0.108207,
     "end_time": "2021-07-03T20:05:34.974197",
     "exception": false,
     "start_time": "2021-07-03T20:05:34.865990",
     "status": "completed"
    },
    "tags": []
   },
   "outputs": [],
   "source": [
    "X_train = X_train/255.\n",
    "X_test = X_test/255."
   ]
  },
  {
   "cell_type": "markdown",
   "id": "perfect-summary",
   "metadata": {
    "papermill": {
     "duration": 0.03531,
     "end_time": "2021-07-03T20:05:35.043997",
     "exception": false,
     "start_time": "2021-07-03T20:05:35.008687",
     "status": "completed"
    },
    "tags": []
   },
   "source": [
    "Setup the labels as 1 (when the digit is 3) and 0 (when the digit is 8)"
   ]
  },
  {
   "cell_type": "code",
   "execution_count": 11,
   "id": "personalized-growing",
   "metadata": {
    "execution": {
     "iopub.execute_input": "2021-07-03T20:05:35.123665Z",
     "iopub.status.busy": "2021-07-03T20:05:35.122671Z",
     "iopub.status.idle": "2021-07-03T20:05:35.133257Z",
     "shell.execute_reply": "2021-07-03T20:05:35.133682Z"
    },
    "papermill": {
     "duration": 0.054048,
     "end_time": "2021-07-03T20:05:35.133811",
     "exception": false,
     "start_time": "2021-07-03T20:05:35.079763",
     "status": "completed"
    },
    "tags": []
   },
   "outputs": [],
   "source": [
    "y_train = 1*(y_train==3)\n",
    "y_test = 1*(y_test==3)"
   ]
  },
  {
   "cell_type": "code",
   "execution_count": 12,
   "id": "considered-virgin",
   "metadata": {
    "execution": {
     "iopub.execute_input": "2021-07-03T20:05:35.210511Z",
     "iopub.status.busy": "2021-07-03T20:05:35.209898Z",
     "iopub.status.idle": "2021-07-03T20:05:35.224177Z",
     "shell.execute_reply": "2021-07-03T20:05:35.223666Z"
    },
    "papermill": {
     "duration": 0.054691,
     "end_time": "2021-07-03T20:05:35.224317",
     "exception": false,
     "start_time": "2021-07-03T20:05:35.169626",
     "status": "completed"
    },
    "tags": []
   },
   "outputs": [
    {
     "data": {
      "text/plain": [
       "((11982, 28, 28), (1984, 28, 28))"
      ]
     },
     "execution_count": 12,
     "metadata": {},
     "output_type": "execute_result"
    }
   ],
   "source": [
    "X_train.shape, X_test.shape"
   ]
  },
  {
   "cell_type": "markdown",
   "id": "civilian-mobile",
   "metadata": {
    "papermill": {
     "duration": 0.033314,
     "end_time": "2021-07-03T20:05:35.291150",
     "exception": false,
     "start_time": "2021-07-03T20:05:35.257836",
     "status": "completed"
    },
    "tags": []
   },
   "source": [
    "### Reshape the input data to create a linear array"
   ]
  },
  {
   "cell_type": "code",
   "execution_count": 13,
   "id": "colonial-adams",
   "metadata": {
    "execution": {
     "iopub.execute_input": "2021-07-03T20:05:35.361651Z",
     "iopub.status.busy": "2021-07-03T20:05:35.361107Z",
     "iopub.status.idle": "2021-07-03T20:05:35.373421Z",
     "shell.execute_reply": "2021-07-03T20:05:35.373889Z"
    },
    "papermill": {
     "duration": 0.049972,
     "end_time": "2021-07-03T20:05:35.374005",
     "exception": false,
     "start_time": "2021-07-03T20:05:35.324033",
     "status": "completed"
    },
    "tags": []
   },
   "outputs": [
    {
     "data": {
      "text/plain": [
       "((11982, 784), (1984, 784))"
      ]
     },
     "execution_count": 13,
     "metadata": {},
     "output_type": "execute_result"
    }
   ],
   "source": [
    "X_train = X_train.reshape(X_train.shape[0], -1)\n",
    "X_test = X_test.reshape(X_test.shape[0], -1)\n",
    "X_train.shape, X_test.shape"
   ]
  },
  {
   "cell_type": "markdown",
   "id": "smart-details",
   "metadata": {
    "papermill": {
     "duration": 0.032637,
     "end_time": "2021-07-03T20:05:35.440044",
     "exception": false,
     "start_time": "2021-07-03T20:05:35.407407",
     "status": "completed"
    },
    "tags": []
   },
   "source": [
    "### Importing appropriate functions from 'Kudzu'"
   ]
  },
  {
   "cell_type": "code",
   "execution_count": 14,
   "id": "celtic-trial",
   "metadata": {
    "execution": {
     "iopub.execute_input": "2021-07-03T20:05:35.512239Z",
     "iopub.status.busy": "2021-07-03T20:05:35.511649Z",
     "iopub.status.idle": "2021-07-03T20:05:35.532600Z",
     "shell.execute_reply": "2021-07-03T20:05:35.533104Z"
    },
    "papermill": {
     "duration": 0.058538,
     "end_time": "2021-07-03T20:05:35.533222",
     "exception": false,
     "start_time": "2021-07-03T20:05:35.474684",
     "status": "completed"
    },
    "tags": []
   },
   "outputs": [],
   "source": [
    "from kudzu.layer import Sigmoid\n",
    "from kudzu.layer import Relu\n",
    "from kudzu.layer import Affine, Sigmoid\n",
    "\n",
    "from kudzu.model import Model\n",
    "from kudzu.train import Learner\n",
    "from kudzu.optim import GD\n",
    "from kudzu.data import Data, Dataloader, Sampler\n",
    "\n",
    "from kudzu.callbacks import AccCallback\n",
    "from kudzu.callbacks import ClfCallback\n",
    "\n",
    "from kudzu.loss import MSE"
   ]
  },
  {
   "cell_type": "markdown",
   "id": "coupled-customer",
   "metadata": {
    "papermill": {
     "duration": 0.032339,
     "end_time": "2021-07-03T20:05:35.597971",
     "exception": false,
     "start_time": "2021-07-03T20:05:35.565632",
     "status": "completed"
    },
    "tags": []
   },
   "source": [
    "### Let us create a `Config` class, to store important parameters. \n",
    "This class essentially plays the role of a dictionary."
   ]
  },
  {
   "cell_type": "code",
   "execution_count": 15,
   "id": "young-ceiling",
   "metadata": {
    "execution": {
     "iopub.execute_input": "2021-07-03T20:05:35.668751Z",
     "iopub.status.busy": "2021-07-03T20:05:35.668207Z",
     "iopub.status.idle": "2021-07-03T20:05:35.681743Z",
     "shell.execute_reply": "2021-07-03T20:05:35.681219Z"
    },
    "papermill": {
     "duration": 0.051868,
     "end_time": "2021-07-03T20:05:35.681850",
     "exception": false,
     "start_time": "2021-07-03T20:05:35.629982",
     "status": "completed"
    },
    "tags": []
   },
   "outputs": [],
   "source": [
    "class Config:\n",
    "    pass\n",
    "config = Config()\n",
    "config.lr = 0.001\n",
    "config.num_epochs = 251\n",
    "config.bs = 50"
   ]
  },
  {
   "cell_type": "markdown",
   "id": "according-mandate",
   "metadata": {
    "papermill": {
     "duration": 0.034008,
     "end_time": "2021-07-03T20:05:35.750526",
     "exception": false,
     "start_time": "2021-07-03T20:05:35.716518",
     "status": "completed"
    },
    "tags": []
   },
   "source": [
    "### Initializing data to the variables"
   ]
  },
  {
   "cell_type": "code",
   "execution_count": 16,
   "id": "academic-disposition",
   "metadata": {
    "execution": {
     "iopub.execute_input": "2021-07-03T20:05:35.821598Z",
     "iopub.status.busy": "2021-07-03T20:05:35.820769Z",
     "iopub.status.idle": "2021-07-03T20:05:35.832553Z",
     "shell.execute_reply": "2021-07-03T20:05:35.832988Z"
    },
    "papermill": {
     "duration": 0.048786,
     "end_time": "2021-07-03T20:05:35.833116",
     "exception": false,
     "start_time": "2021-07-03T20:05:35.784330",
     "status": "completed"
    },
    "tags": []
   },
   "outputs": [],
   "source": [
    "data = Data(X_train, y_train.reshape(-1,1))\n",
    "sampler = Sampler(data, config.bs, shuffle=True)\n",
    "\n",
    "dl = Dataloader(data, sampler)\n",
    "\n",
    "opt = GD(config.lr)\n",
    "loss = MSE()"
   ]
  },
  {
   "cell_type": "code",
   "execution_count": 17,
   "id": "featured-commission",
   "metadata": {
    "execution": {
     "iopub.execute_input": "2021-07-03T20:05:35.901477Z",
     "iopub.status.busy": "2021-07-03T20:05:35.900706Z",
     "iopub.status.idle": "2021-07-03T20:05:35.914650Z",
     "shell.execute_reply": "2021-07-03T20:05:35.914150Z"
    },
    "papermill": {
     "duration": 0.04981,
     "end_time": "2021-07-03T20:05:35.914757",
     "exception": false,
     "start_time": "2021-07-03T20:05:35.864947",
     "status": "completed"
    },
    "tags": []
   },
   "outputs": [],
   "source": [
    "training_xdata = X_train\n",
    "testing_xdata = X_test\n",
    "training_ydata = y_train.reshape(-1,1)\n",
    "testing_ydata = y_test.reshape(-1,1)"
   ]
  },
  {
   "cell_type": "markdown",
   "id": "played-safety",
   "metadata": {
    "papermill": {
     "duration": 0.035758,
     "end_time": "2021-07-03T20:05:35.986060",
     "exception": false,
     "start_time": "2021-07-03T20:05:35.950302",
     "status": "completed"
    },
    "tags": []
   },
   "source": [
    "### Running Models with the Training data\n",
    "Details about the network layers:\n",
    "- A first affine layer has 784 inputs and does 100 affine transforms. These are followed by a Relu\n",
    "- A second affine layer has 100 inputs from the 100 activations of the past layer, and does 100 affine transforms. These are followed by a Relu\n",
    "- A third affine layer has 100 activations and does 2 affine transformations to create an embedding for visualization. There is no non-linearity here.\n",
    "- A final \"logistic regression\" which has an affine transform from 2 inputs to 1 output, which is squeezed through a sigmoid.\n",
    "\n",
    "Help taken from Anshuman's Notebook."
   ]
  },
  {
   "cell_type": "code",
   "execution_count": 18,
   "id": "asian-bankruptcy",
   "metadata": {
    "execution": {
     "iopub.execute_input": "2021-07-03T20:05:36.067473Z",
     "iopub.status.busy": "2021-07-03T20:05:36.066845Z",
     "iopub.status.idle": "2021-07-03T20:05:36.083122Z",
     "shell.execute_reply": "2021-07-03T20:05:36.083603Z"
    },
    "papermill": {
     "duration": 0.05906,
     "end_time": "2021-07-03T20:05:36.083733",
     "exception": false,
     "start_time": "2021-07-03T20:05:36.024673",
     "status": "completed"
    },
    "tags": []
   },
   "outputs": [],
   "source": [
    "# layers for the Neural Network\n",
    "layers = [Affine(\"first\", 784, 100), Relu(\"first\"), Affine(\"second\", 100, 100), Relu(\"second\"), Affine(\"third\", 100, 2), Affine(\"final\", 2, 1), Sigmoid(\"final\")]\n",
    "model_nn = Model(layers)\n",
    "\n",
    "# layers for the Logistic Regression\n",
    "layers_lr = [Affine(\"logits\", 784, 1), Sigmoid(\"sigmoid\")]\n",
    "model_lr = Model(layers_lr)"
   ]
  },
  {
   "cell_type": "code",
   "execution_count": 19,
   "id": "removed-butler",
   "metadata": {
    "execution": {
     "iopub.execute_input": "2021-07-03T20:05:36.170147Z",
     "iopub.status.busy": "2021-07-03T20:05:36.168353Z",
     "iopub.status.idle": "2021-07-03T20:05:36.181378Z",
     "shell.execute_reply": "2021-07-03T20:05:36.181882Z"
    },
    "papermill": {
     "duration": 0.05613,
     "end_time": "2021-07-03T20:05:36.182000",
     "exception": false,
     "start_time": "2021-07-03T20:05:36.125870",
     "status": "completed"
    },
    "tags": []
   },
   "outputs": [],
   "source": [
    "# suffix _nn stands for Neural Network.\n",
    "learner_nn = Learner(loss, model_nn, opt, config.num_epochs)\n",
    "acc_nn = ClfCallback(learner_nn, config.bs, training_xdata , testing_xdata, training_ydata, testing_ydata)\n",
    "learner_nn.set_callbacks([acc_nn])"
   ]
  },
  {
   "cell_type": "code",
   "execution_count": 20,
   "id": "conceptual-throw",
   "metadata": {
    "execution": {
     "iopub.execute_input": "2021-07-03T20:05:36.258527Z",
     "iopub.status.busy": "2021-07-03T20:05:36.257863Z",
     "iopub.status.idle": "2021-07-03T20:08:01.402447Z",
     "shell.execute_reply": "2021-07-03T20:08:01.403299Z"
    },
    "papermill": {
     "duration": 145.184096,
     "end_time": "2021-07-03T20:08:01.403465",
     "exception": false,
     "start_time": "2021-07-03T20:05:36.219369",
     "status": "completed"
    },
    "tags": []
   },
   "outputs": [
    {
     "name": "stdout",
     "output_type": "stream",
     "text": [
      "====== Neural Network ======\n"
     ]
    },
    {
     "name": "stdout",
     "output_type": "stream",
     "text": [
      "Epoch 0, Loss 0.2551\n",
      "Training Accuracy: 0.5465, Testing Accuracy: 0.5554\n",
      "\n"
     ]
    },
    {
     "name": "stdout",
     "output_type": "stream",
     "text": [
      "Epoch 10, Loss 0.1214\n",
      "Training Accuracy: 0.9050, Testing Accuracy: 0.9189\n",
      "\n"
     ]
    },
    {
     "name": "stdout",
     "output_type": "stream",
     "text": [
      "Epoch 20, Loss 0.0664\n",
      "Training Accuracy: 0.9344, Testing Accuracy: 0.9446\n",
      "\n"
     ]
    },
    {
     "name": "stdout",
     "output_type": "stream",
     "text": [
      "Epoch 30, Loss 0.0486\n",
      "Training Accuracy: 0.9484, Testing Accuracy: 0.9556\n",
      "\n"
     ]
    },
    {
     "name": "stdout",
     "output_type": "stream",
     "text": [
      "Epoch 40, Loss 0.0405\n",
      "Training Accuracy: 0.9560, Testing Accuracy: 0.9597\n",
      "\n"
     ]
    },
    {
     "name": "stdout",
     "output_type": "stream",
     "text": [
      "Epoch 50, Loss 0.036\n",
      "Training Accuracy: 0.9605, Testing Accuracy: 0.9642\n",
      "\n"
     ]
    },
    {
     "name": "stdout",
     "output_type": "stream",
     "text": [
      "Epoch 60, Loss 0.033\n",
      "Training Accuracy: 0.9627, Testing Accuracy: 0.9682\n",
      "\n"
     ]
    },
    {
     "name": "stdout",
     "output_type": "stream",
     "text": [
      "Epoch 70, Loss 0.0308\n",
      "Training Accuracy: 0.9651, Testing Accuracy: 0.9698\n",
      "\n"
     ]
    },
    {
     "name": "stdout",
     "output_type": "stream",
     "text": [
      "Epoch 80, Loss 0.0291\n",
      "Training Accuracy: 0.9663, Testing Accuracy: 0.9688\n",
      "\n"
     ]
    },
    {
     "name": "stdout",
     "output_type": "stream",
     "text": [
      "Epoch 90, Loss 0.0278\n",
      "Training Accuracy: 0.9685, Testing Accuracy: 0.9698\n",
      "\n"
     ]
    },
    {
     "name": "stdout",
     "output_type": "stream",
     "text": [
      "Epoch 100, Loss 0.0266\n",
      "Training Accuracy: 0.9695, Testing Accuracy: 0.9708\n",
      "\n"
     ]
    },
    {
     "name": "stdout",
     "output_type": "stream",
     "text": [
      "Epoch 110, Loss 0.0256\n",
      "Training Accuracy: 0.9705, Testing Accuracy: 0.9718\n",
      "\n"
     ]
    },
    {
     "name": "stdout",
     "output_type": "stream",
     "text": [
      "Epoch 120, Loss 0.0246\n",
      "Training Accuracy: 0.9717, Testing Accuracy: 0.9728\n",
      "\n"
     ]
    },
    {
     "name": "stdout",
     "output_type": "stream",
     "text": [
      "Epoch 130, Loss 0.0238\n",
      "Training Accuracy: 0.9729, Testing Accuracy: 0.9748\n",
      "\n"
     ]
    },
    {
     "name": "stdout",
     "output_type": "stream",
     "text": [
      "Epoch 140, Loss 0.0231\n",
      "Training Accuracy: 0.9745, Testing Accuracy: 0.9748\n",
      "\n"
     ]
    },
    {
     "name": "stdout",
     "output_type": "stream",
     "text": [
      "Epoch 150, Loss 0.0224\n",
      "Training Accuracy: 0.9753, Testing Accuracy: 0.9753\n",
      "\n"
     ]
    },
    {
     "name": "stdout",
     "output_type": "stream",
     "text": [
      "Epoch 160, Loss 0.0218\n",
      "Training Accuracy: 0.9760, Testing Accuracy: 0.9748\n",
      "\n"
     ]
    },
    {
     "name": "stdout",
     "output_type": "stream",
     "text": [
      "Epoch 170, Loss 0.0212\n",
      "Training Accuracy: 0.9766, Testing Accuracy: 0.9743\n",
      "\n"
     ]
    },
    {
     "name": "stdout",
     "output_type": "stream",
     "text": [
      "Epoch 180, Loss 0.0206\n",
      "Training Accuracy: 0.9772, Testing Accuracy: 0.9743\n",
      "\n"
     ]
    },
    {
     "name": "stdout",
     "output_type": "stream",
     "text": [
      "Epoch 190, Loss 0.0201\n",
      "Training Accuracy: 0.9781, Testing Accuracy: 0.9743\n",
      "\n"
     ]
    },
    {
     "name": "stdout",
     "output_type": "stream",
     "text": [
      "Epoch 200, Loss 0.0196\n",
      "Training Accuracy: 0.9783, Testing Accuracy: 0.9743\n",
      "\n"
     ]
    },
    {
     "name": "stdout",
     "output_type": "stream",
     "text": [
      "Epoch 210, Loss 0.0192\n",
      "Training Accuracy: 0.9789, Testing Accuracy: 0.9743\n",
      "\n"
     ]
    },
    {
     "name": "stdout",
     "output_type": "stream",
     "text": [
      "Epoch 220, Loss 0.0188\n",
      "Training Accuracy: 0.9799, Testing Accuracy: 0.9748\n",
      "\n"
     ]
    },
    {
     "name": "stdout",
     "output_type": "stream",
     "text": [
      "Epoch 230, Loss 0.0184\n",
      "Training Accuracy: 0.9805, Testing Accuracy: 0.9753\n",
      "\n"
     ]
    },
    {
     "name": "stdout",
     "output_type": "stream",
     "text": [
      "Epoch 240, Loss 0.018\n",
      "Training Accuracy: 0.9807, Testing Accuracy: 0.9753\n",
      "\n"
     ]
    },
    {
     "name": "stdout",
     "output_type": "stream",
     "text": [
      "Epoch 250, Loss 0.0176\n",
      "Training Accuracy: 0.9812, Testing Accuracy: 0.9758\n",
      "\n"
     ]
    },
    {
     "data": {
      "text/plain": [
       "0.003201612554495357"
      ]
     },
     "execution_count": 20,
     "metadata": {},
     "output_type": "execute_result"
    }
   ],
   "source": [
    "print(\"====== Neural Network ======\")\n",
    "learner_nn.train_loop(dl)"
   ]
  },
  {
   "cell_type": "markdown",
   "id": "competent-suffering",
   "metadata": {
    "papermill": {
     "duration": 0.045973,
     "end_time": "2021-07-03T20:08:01.497891",
     "exception": false,
     "start_time": "2021-07-03T20:08:01.451918",
     "status": "completed"
    },
    "tags": []
   },
   "source": [
    "### Logistic Regression based Implementation."
   ]
  },
  {
   "cell_type": "code",
   "execution_count": 21,
   "id": "qualified-psychiatry",
   "metadata": {
    "execution": {
     "iopub.execute_input": "2021-07-03T20:08:01.597883Z",
     "iopub.status.busy": "2021-07-03T20:08:01.597357Z",
     "iopub.status.idle": "2021-07-03T20:08:01.605667Z",
     "shell.execute_reply": "2021-07-03T20:08:01.605202Z"
    },
    "papermill": {
     "duration": 0.059537,
     "end_time": "2021-07-03T20:08:01.605776",
     "exception": false,
     "start_time": "2021-07-03T20:08:01.546239",
     "status": "completed"
    },
    "tags": []
   },
   "outputs": [],
   "source": [
    "learner_lr = Learner(loss, model_lr, opt, config.num_epochs)\n",
    "acc_lr = ClfCallback(learner_lr, config.bs, training_xdata , testing_xdata, training_ydata, testing_ydata)\n",
    "learner_lr.set_callbacks([acc_lr])"
   ]
  },
  {
   "cell_type": "code",
   "execution_count": 22,
   "id": "average-outside",
   "metadata": {
    "execution": {
     "iopub.execute_input": "2021-07-03T20:08:01.699700Z",
     "iopub.status.busy": "2021-07-03T20:08:01.698976Z",
     "iopub.status.idle": "2021-07-03T20:08:22.300845Z",
     "shell.execute_reply": "2021-07-03T20:08:22.301467Z"
    },
    "papermill": {
     "duration": 20.651455,
     "end_time": "2021-07-03T20:08:22.301657",
     "exception": false,
     "start_time": "2021-07-03T20:08:01.650202",
     "status": "completed"
    },
    "tags": []
   },
   "outputs": [
    {
     "name": "stdout",
     "output_type": "stream",
     "text": [
      "====== Logistic Regression ======\n",
      "Epoch 0, Loss 0.2158\n",
      "Training Accuracy: 0.8098, Testing Accuracy: 0.8231\n",
      "\n"
     ]
    },
    {
     "name": "stdout",
     "output_type": "stream",
     "text": [
      "Epoch 10, Loss 0.0973\n",
      "Training Accuracy: 0.9194, Testing Accuracy: 0.9274\n",
      "\n"
     ]
    },
    {
     "name": "stdout",
     "output_type": "stream",
     "text": [
      "Epoch 20, Loss 0.0761\n",
      "Training Accuracy: 0.9323, Testing Accuracy: 0.9420\n",
      "\n"
     ]
    },
    {
     "name": "stdout",
     "output_type": "stream",
     "text": [
      "Epoch 30, Loss 0.0661\n",
      "Training Accuracy: 0.9403, Testing Accuracy: 0.9486\n",
      "\n"
     ]
    },
    {
     "name": "stdout",
     "output_type": "stream",
     "text": [
      "Epoch 40, Loss 0.06\n",
      "Training Accuracy: 0.9449, Testing Accuracy: 0.9546\n",
      "\n"
     ]
    },
    {
     "name": "stdout",
     "output_type": "stream",
     "text": [
      "Epoch 50, Loss 0.0558\n",
      "Training Accuracy: 0.9475, Testing Accuracy: 0.9556\n",
      "\n"
     ]
    },
    {
     "name": "stdout",
     "output_type": "stream",
     "text": [
      "Epoch 60, Loss 0.0527\n",
      "Training Accuracy: 0.9500, Testing Accuracy: 0.9577\n",
      "\n"
     ]
    },
    {
     "name": "stdout",
     "output_type": "stream",
     "text": [
      "Epoch 70, Loss 0.0503\n",
      "Training Accuracy: 0.9515, Testing Accuracy: 0.9587\n",
      "\n"
     ]
    },
    {
     "name": "stdout",
     "output_type": "stream",
     "text": [
      "Epoch 80, Loss 0.0483\n",
      "Training Accuracy: 0.9534, Testing Accuracy: 0.9617\n",
      "\n"
     ]
    },
    {
     "name": "stdout",
     "output_type": "stream",
     "text": [
      "Epoch 90, Loss 0.0467\n",
      "Training Accuracy: 0.9544, Testing Accuracy: 0.9612\n",
      "\n"
     ]
    },
    {
     "name": "stdout",
     "output_type": "stream",
     "text": [
      "Epoch 100, Loss 0.0454\n",
      "Training Accuracy: 0.9559, Testing Accuracy: 0.9632\n",
      "\n"
     ]
    },
    {
     "name": "stdout",
     "output_type": "stream",
     "text": [
      "Epoch 110, Loss 0.0442\n",
      "Training Accuracy: 0.9565, Testing Accuracy: 0.9657\n",
      "\n"
     ]
    },
    {
     "name": "stdout",
     "output_type": "stream",
     "text": [
      "Epoch 120, Loss 0.0432\n",
      "Training Accuracy: 0.9571, Testing Accuracy: 0.9657\n",
      "\n"
     ]
    },
    {
     "name": "stdout",
     "output_type": "stream",
     "text": [
      "Epoch 130, Loss 0.0423\n",
      "Training Accuracy: 0.9577, Testing Accuracy: 0.9657\n",
      "\n"
     ]
    },
    {
     "name": "stdout",
     "output_type": "stream",
     "text": [
      "Epoch 140, Loss 0.0415\n",
      "Training Accuracy: 0.9581, Testing Accuracy: 0.9672\n",
      "\n"
     ]
    },
    {
     "name": "stdout",
     "output_type": "stream",
     "text": [
      "Epoch 150, Loss 0.0408\n",
      "Training Accuracy: 0.9585, Testing Accuracy: 0.9667\n",
      "\n"
     ]
    },
    {
     "name": "stdout",
     "output_type": "stream",
     "text": [
      "Epoch 160, Loss 0.0401\n",
      "Training Accuracy: 0.9592, Testing Accuracy: 0.9672\n",
      "\n"
     ]
    },
    {
     "name": "stdout",
     "output_type": "stream",
     "text": [
      "Epoch 170, Loss 0.0395\n",
      "Training Accuracy: 0.9597, Testing Accuracy: 0.9682\n",
      "\n"
     ]
    },
    {
     "name": "stdout",
     "output_type": "stream",
     "text": [
      "Epoch 180, Loss 0.039\n",
      "Training Accuracy: 0.9603, Testing Accuracy: 0.9677\n",
      "\n"
     ]
    },
    {
     "name": "stdout",
     "output_type": "stream",
     "text": [
      "Epoch 190, Loss 0.0385\n",
      "Training Accuracy: 0.9604, Testing Accuracy: 0.9672\n",
      "\n"
     ]
    },
    {
     "name": "stdout",
     "output_type": "stream",
     "text": [
      "Epoch 200, Loss 0.038\n",
      "Training Accuracy: 0.9606, Testing Accuracy: 0.9677\n",
      "\n"
     ]
    },
    {
     "name": "stdout",
     "output_type": "stream",
     "text": [
      "Epoch 210, Loss 0.0376\n",
      "Training Accuracy: 0.9609, Testing Accuracy: 0.9677\n",
      "\n"
     ]
    },
    {
     "name": "stdout",
     "output_type": "stream",
     "text": [
      "Epoch 220, Loss 0.0372\n",
      "Training Accuracy: 0.9610, Testing Accuracy: 0.9672\n",
      "\n"
     ]
    },
    {
     "name": "stdout",
     "output_type": "stream",
     "text": [
      "Epoch 230, Loss 0.0368\n",
      "Training Accuracy: 0.9613, Testing Accuracy: 0.9667\n",
      "\n"
     ]
    },
    {
     "name": "stdout",
     "output_type": "stream",
     "text": [
      "Epoch 240, Loss 0.0365\n",
      "Training Accuracy: 0.9612, Testing Accuracy: 0.9667\n",
      "\n"
     ]
    },
    {
     "name": "stdout",
     "output_type": "stream",
     "text": [
      "Epoch 250, Loss 0.0362\n",
      "Training Accuracy: 0.9616, Testing Accuracy: 0.9667\n",
      "\n"
     ]
    },
    {
     "data": {
      "text/plain": [
       "0.058475831129140315"
      ]
     },
     "execution_count": 22,
     "metadata": {},
     "output_type": "execute_result"
    }
   ],
   "source": [
    "print(\"====== Logistic Regression ======\")\n",
    "learner_lr.train_loop(dl)"
   ]
  },
  {
   "cell_type": "markdown",
   "id": "adjusted-possible",
   "metadata": {
    "papermill": {
     "duration": 0.054625,
     "end_time": "2021-07-03T20:08:22.415907",
     "exception": false,
     "start_time": "2021-07-03T20:08:22.361282",
     "status": "completed"
    },
    "tags": []
   },
   "source": [
    "### Comparing results of NN and LR"
   ]
  },
  {
   "cell_type": "code",
   "execution_count": 23,
   "id": "mental-multimedia",
   "metadata": {
    "execution": {
     "iopub.execute_input": "2021-07-03T20:08:22.533525Z",
     "iopub.status.busy": "2021-07-03T20:08:22.532924Z",
     "iopub.status.idle": "2021-07-03T20:08:22.842953Z",
     "shell.execute_reply": "2021-07-03T20:08:22.842400Z"
    },
    "papermill": {
     "duration": 0.374314,
     "end_time": "2021-07-03T20:08:22.843112",
     "exception": false,
     "start_time": "2021-07-03T20:08:22.468798",
     "status": "completed"
    },
    "tags": []
   },
   "outputs": [
    {
     "data": {
      "text/plain": [
       "<matplotlib.legend.Legend at 0x7fe2614821d0>"
      ]
     },
     "execution_count": 23,
     "metadata": {},
     "output_type": "execute_result"
    },
    {
     "data": {
      "image/png": "[encoded data removed]",
      "text/plain": [
       "<Figure size 1080x720 with 1 Axes>"
      ]
     },
     "metadata": {
      "needs_background": "light"
     },
     "output_type": "display_data"
    }
   ],
   "source": [
    "plt.figure(figsize=(15,10))\n",
    "\n",
    "# Neural Network plots\n",
    "plt.plot(acc_nn.accuracies, 'r-', label = \"Training Accuracies - NN\")\n",
    "plt.plot(acc_nn.test_accuracies, 'g-', label = \"Testing Accuracies - NN\")\n",
    "\n",
    "# Logistic Regression plots\n",
    "plt.plot(acc_lr.accuracies, 'k-', label = \"Training Accuracies - LR\")\n",
    "plt.plot(acc_lr.test_accuracies, 'b-', label = \"Testing Accuracies - LR\")\n",
    "\n",
    "plt.ylim(0.8, 1)\n",
    "\n",
    "plt.legend()\n",
    "\n"
   ]
  },
  {
   "cell_type": "markdown",
   "id": "sexual-flesh",
   "metadata": {
    "papermill": {
     "duration": 0.052184,
     "end_time": "2021-07-03T20:08:22.948836",
     "exception": false,
     "start_time": "2021-07-03T20:08:22.896652",
     "status": "completed"
    },
    "tags": []
   },
   "source": [
    "### From the plot, we can observe the following:\n",
    "- Neural Network achieves higher accuracy than the Logistic Regression model.\n",
    "- This apparently, is because of overfitting, i.e. NN captures more noise than data.\n",
    "- Testing accuracy of NN drops below the Training accuracy at higher epochs. This explains the over-fitting on training data.\n",
    "- Logistic Regression gives a reliable accuracy, without the above mentioned problem.\n"
   ]
  },
  {
   "cell_type": "markdown",
   "id": "institutional-pacific",
   "metadata": {
    "papermill": {
     "duration": 0.060678,
     "end_time": "2021-07-03T20:08:23.065203",
     "exception": false,
     "start_time": "2021-07-03T20:08:23.004525",
     "status": "completed"
    },
    "tags": []
   },
   "source": [
    "### Moving till the last but one layer (excluding it).\n",
    "#### Plotting the outputs of this layer of the NN."
   ]
  },
  {
   "cell_type": "code",
   "execution_count": 24,
   "id": "economic-server",
   "metadata": {
    "execution": {
     "iopub.execute_input": "2021-07-03T20:08:23.188827Z",
     "iopub.status.busy": "2021-07-03T20:08:23.180806Z",
     "iopub.status.idle": "2021-07-03T20:08:23.192189Z",
     "shell.execute_reply": "2021-07-03T20:08:23.192638Z"
    },
    "papermill": {
     "duration": 0.073189,
     "end_time": "2021-07-03T20:08:23.192768",
     "exception": false,
     "start_time": "2021-07-03T20:08:23.119579",
     "status": "completed"
    },
    "tags": []
   },
   "outputs": [],
   "source": [
    "model_new = Model(layers[:-2])"
   ]
  },
  {
   "cell_type": "code",
   "execution_count": 25,
   "id": "varied-upgrade",
   "metadata": {
    "execution": {
     "iopub.execute_input": "2021-07-03T20:08:23.306601Z",
     "iopub.status.busy": "2021-07-03T20:08:23.305844Z",
     "iopub.status.idle": "2021-07-03T20:08:23.331947Z",
     "shell.execute_reply": "2021-07-03T20:08:23.332759Z"
    },
    "papermill": {
     "duration": 0.083959,
     "end_time": "2021-07-03T20:08:23.332887",
     "exception": false,
     "start_time": "2021-07-03T20:08:23.248928",
     "status": "completed"
    },
    "tags": []
   },
   "outputs": [],
   "source": [
    "plot_testing = model_new(testing_xdata)"
   ]
  },
  {
   "cell_type": "code",
   "execution_count": 26,
   "id": "specific-handling",
   "metadata": {
    "execution": {
     "iopub.execute_input": "2021-07-03T20:08:23.473309Z",
     "iopub.status.busy": "2021-07-03T20:08:23.472695Z",
     "iopub.status.idle": "2021-07-03T20:08:23.727823Z",
     "shell.execute_reply": "2021-07-03T20:08:23.727153Z"
    },
    "papermill": {
     "duration": 0.338948,
     "end_time": "2021-07-03T20:08:23.727970",
     "exception": false,
     "start_time": "2021-07-03T20:08:23.389022",
     "status": "completed"
    },
    "tags": []
   },
   "outputs": [
    {
     "data": {
      "text/plain": [
       "Text(0.5, 1.0, 'Outputs')"
      ]
     },
     "execution_count": 26,
     "metadata": {},
     "output_type": "execute_result"
    },
    {
     "data": {
      "image/png": "[encoded data removed]",
      "text/plain": [
       "<Figure size 576x504 with 1 Axes>"
      ]
     },
     "metadata": {
      "needs_background": "light"
     },
     "output_type": "display_data"
    }
   ],
   "source": [
    "plt.figure(figsize=(8,7))\n",
    "plt.scatter(plot_testing[:,0], plot_testing[:,1], alpha = 0.1, c = y_test.ravel());\n",
    "plt.title('Outputs')"
   ]
  },
  {
   "cell_type": "markdown",
   "id": "described-knowing",
   "metadata": {
    "papermill": {
     "duration": 0.06464,
     "end_time": "2021-07-03T20:08:23.855644",
     "exception": false,
     "start_time": "2021-07-03T20:08:23.791004",
     "status": "completed"
    },
    "tags": []
   },
   "source": [
    "### Plotting probability contours"
   ]
  },
  {
   "cell_type": "code",
   "execution_count": 27,
   "id": "needed-growing",
   "metadata": {
    "execution": {
     "iopub.execute_input": "2021-07-03T20:08:23.983585Z",
     "iopub.status.busy": "2021-07-03T20:08:23.983031Z",
     "iopub.status.idle": "2021-07-03T20:08:23.997571Z",
     "shell.execute_reply": "2021-07-03T20:08:23.998126Z"
    },
    "papermill": {
     "duration": 0.077218,
     "end_time": "2021-07-03T20:08:23.998259",
     "exception": false,
     "start_time": "2021-07-03T20:08:23.921041",
     "status": "completed"
    },
    "tags": []
   },
   "outputs": [],
   "source": [
    "model_prob = Model(layers[-2:]) "
   ]
  },
  {
   "cell_type": "code",
   "execution_count": 28,
   "id": "introductory-enforcement",
   "metadata": {
    "execution": {
     "iopub.execute_input": "2021-07-03T20:08:24.130595Z",
     "iopub.status.busy": "2021-07-03T20:08:24.120535Z",
     "iopub.status.idle": "2021-07-03T20:08:24.132957Z",
     "shell.execute_reply": "2021-07-03T20:08:24.132422Z"
    },
    "papermill": {
     "duration": 0.079941,
     "end_time": "2021-07-03T20:08:24.133068",
     "exception": false,
     "start_time": "2021-07-03T20:08:24.053127",
     "status": "completed"
    },
    "tags": []
   },
   "outputs": [],
   "source": [
    "# Adjust the x and y ranges according to the above generated plot.\n",
    "x_range = np.linspace(-4, 1, 100) \n",
    "y_range = np.linspace(-6, 6, 100) \n",
    "x_grid, y_grid = np.meshgrid(x_range, y_range) # x_grid and y_grig are of size 100 X 100\n",
    "\n",
    "# converting x_grid and y_grid to continuous arrays\n",
    "x_grid_flat = np.ravel(x_grid)\n",
    "y_grid_flat = np.ravel(y_grid)\n",
    "\n",
    "# The last layer of the current model takes two columns as input. Hence transpose of np.vstack() is required.\n",
    "X = np.vstack((x_grid_flat, y_grid_flat)).T\n",
    "\n",
    "# x_grid and y_grid are of size 100 x 100\n",
    "probability_contour = model_prob(X).reshape(100,100) "
   ]
  },
  {
   "cell_type": "code",
   "execution_count": 29,
   "id": "understood-landing",
   "metadata": {
    "execution": {
     "iopub.execute_input": "2021-07-03T20:08:24.277467Z",
     "iopub.status.busy": "2021-07-03T20:08:24.276905Z",
     "iopub.status.idle": "2021-07-03T20:08:24.585355Z",
     "shell.execute_reply": "2021-07-03T20:08:24.585814Z"
    },
    "papermill": {
     "duration": 0.384011,
     "end_time": "2021-07-03T20:08:24.585958",
     "exception": false,
     "start_time": "2021-07-03T20:08:24.201947",
     "status": "completed"
    },
    "tags": []
   },
   "outputs": [
    {
     "data": {
      "image/png": "[encoded data removed]",
      "text/plain": [
       "<Figure size 720x648 with 1 Axes>"
      ]
     },
     "metadata": {
      "needs_background": "light"
     },
     "output_type": "display_data"
    }
   ],
   "source": [
    "plt.figure(figsize=(10,9))\n",
    "plt.scatter(plot_testing[:,0], plot_testing[:,1], alpha = 0.1, c = y_test.ravel())\n",
    "contours = plt.contour(x_grid,y_grid,probability_contour)\n",
    "plt.title('Probability Contours')\n",
    "plt.clabel(contours, inline = True );"
   ]
  }
 ],
 "metadata": {
  "kernelspec": {
   "display_name": "Python 3",
   "language": "python",
   "name": "python3"
  },
  "language_info": {
   "codemirror_mode": {
    "name": "ipython",
    "version": 3
   },
   "file_extension": ".py",
   "mimetype": "text/x-python",
   "name": "python",
   "nbconvert_exporter": "python",
   "pygments_lexer": "ipython3",
   "version": "3.6.13"
  },
  "papermill": {
   "duration": 209.137952,
   "end_time": "2021-07-03T20:08:24.951037",
   "environment_variables": {},
   "exception": null,
   "input_path": "2020-08-11-NeuralNetwork.ipynb",
   "output_path": "2020-08-11-NeuralNetwork.ipynb",
   "parameters": {},
   "start_time": "2021-07-03T20:04:55.813085",
   "version": "2.1.2"
  }
 },
 "nbformat": 4,
 "nbformat_minor": 5
}