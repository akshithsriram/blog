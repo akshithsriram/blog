{
 "cells": [
  {
   "cell_type": "markdown",
   "id": "fitted-suggestion",
   "metadata": {
    "papermill": {
     "duration": 0.027314,
     "end_time": "2021-08-02T20:04:50.664826",
     "exception": false,
     "start_time": "2021-08-02T20:04:50.637512",
     "status": "completed"
    },
    "tags": []
   },
   "source": [
    "# \"A Basic Neural Network: Differentiate Hand-Written Digits\"\n",
    "\n",
    "- badges: true\n",
    "- author: Akshith Sriram"
   ]
  },
  {
   "cell_type": "markdown",
   "id": "signal-flexibility",
   "metadata": {
    "papermill": {
     "duration": 0.022034,
     "end_time": "2021-08-02T20:04:50.709597",
     "exception": false,
     "start_time": "2021-08-02T20:04:50.687563",
     "status": "completed"
    },
    "tags": []
   },
   "source": [
    "### Key Objectives:\n",
    "- Building a neural network that differentiates two hand-written digits 3 and 8.\n",
    "- Comparing the results of this Neural Network (NN) to that of a Logistic Regression (LR) model.\n",
    "\n",
    "### Requirements:\n",
    "- 'Kudzu' : A neural network library that was designed during our course by [Univ.AI](www.univ.ai). \n",
    "- MNIST Database\n",
    "\n",
    "If MNIST is not installed, use the command `!pip install mnist` given below.\n",
    "It can be run both from the command line and Jupyter Notebook."
   ]
  },
  {
   "cell_type": "code",
   "execution_count": 1,
   "id": "british-texture",
   "metadata": {
    "execution": {
     "iopub.execute_input": "2021-08-02T20:04:50.763989Z",
     "iopub.status.busy": "2021-08-02T20:04:50.763528Z",
     "iopub.status.idle": "2021-08-02T20:04:52.509678Z",
     "shell.execute_reply": "2021-08-02T20:04:52.508796Z"
    },
    "papermill": {
     "duration": 1.778121,
     "end_time": "2021-08-02T20:04:52.509825",
     "exception": false,
     "start_time": "2021-08-02T20:04:50.731704",
     "status": "completed"
    },
    "tags": []
   },
   "outputs": [
    {
     "name": "stdout",
     "output_type": "stream",
     "text": [
      "Collecting mnist\r\n"
     ]
    },
    {
     "name": "stdout",
     "output_type": "stream",
     "text": [
      "  Downloading mnist-0.2.2-py2.py3-none-any.whl (3.5 kB)\r\n",
      "Requirement already satisfied: numpy in /opt/hostedtoolcache/Python/3.6.14/x64/lib/python3.6/site-packages (from mnist) (1.19.5)\r\n"
     ]
    },
    {
     "name": "stdout",
     "output_type": "stream",
     "text": [
      "Installing collected packages: mnist\r\n"
     ]
    },
    {
     "name": "stdout",
     "output_type": "stream",
     "text": [
      "Successfully installed mnist-0.2.2\r\n"
     ]
    },
    {
     "name": "stdout",
     "output_type": "stream",
     "text": [
      "\u001b[33mWARNING: You are using pip version 21.2.1; however, version 21.2.2 is available.\r\n",
      "You should consider upgrading via the '/opt/hostedtoolcache/Python/3.6.14/x64/bin/python -m pip install --upgrade pip' command.\u001b[0m\r\n"
     ]
    }
   ],
   "source": [
    "!pip install mnist "
   ]
  },
  {
   "cell_type": "markdown",
   "id": "stunning-extra",
   "metadata": {
    "papermill": {
     "duration": 0.023092,
     "end_time": "2021-08-02T20:04:52.558534",
     "exception": false,
     "start_time": "2021-08-02T20:04:52.535442",
     "status": "completed"
    },
    "tags": []
   },
   "source": [
    "#### Importing necessary libraries"
   ]
  },
  {
   "cell_type": "code",
   "execution_count": 2,
   "id": "wooden-france",
   "metadata": {
    "execution": {
     "iopub.execute_input": "2021-08-02T20:04:52.612061Z",
     "iopub.status.busy": "2021-08-02T20:04:52.611607Z",
     "iopub.status.idle": "2021-08-02T20:04:53.110387Z",
     "shell.execute_reply": "2021-08-02T20:04:53.109888Z"
    },
    "papermill": {
     "duration": 0.528547,
     "end_time": "2021-08-02T20:04:53.110518",
     "exception": false,
     "start_time": "2021-08-02T20:04:52.581971",
     "status": "completed"
    },
    "tags": []
   },
   "outputs": [],
   "source": [
    "%load_ext autoreload\n",
    "%autoreload 2\n",
    "\n",
    "%matplotlib inline\n",
    "import matplotlib.pyplot as plt\n",
    "\n",
    "import numpy as np\n",
    "import pandas as pd"
   ]
  },
  {
   "cell_type": "markdown",
   "id": "stunning-physics",
   "metadata": {
    "papermill": {
     "duration": 0.023978,
     "end_time": "2021-08-02T20:04:53.160396",
     "exception": false,
     "start_time": "2021-08-02T20:04:53.136418",
     "status": "completed"
    },
    "tags": []
   },
   "source": [
    "### Preparing the Data"
   ]
  },
  {
   "cell_type": "code",
   "execution_count": 3,
   "id": "unauthorized-remainder",
   "metadata": {
    "execution": {
     "iopub.execute_input": "2021-08-02T20:04:53.214125Z",
     "iopub.status.busy": "2021-08-02T20:04:53.213650Z",
     "iopub.status.idle": "2021-08-02T20:04:53.223495Z",
     "shell.execute_reply": "2021-08-02T20:04:53.223087Z"
    },
    "papermill": {
     "duration": 0.039685,
     "end_time": "2021-08-02T20:04:53.223606",
     "exception": false,
     "start_time": "2021-08-02T20:04:53.183921",
     "status": "completed"
    },
    "tags": []
   },
   "outputs": [],
   "source": [
    "import mnist"
   ]
  },
  {
   "cell_type": "code",
   "execution_count": 4,
   "id": "correct-antarctica",
   "metadata": {
    "execution": {
     "iopub.execute_input": "2021-08-02T20:04:53.288158Z",
     "iopub.status.busy": "2021-08-02T20:04:53.282877Z",
     "iopub.status.idle": "2021-08-02T20:09:54.025589Z",
     "shell.execute_reply": "2021-08-02T20:09:54.025075Z"
    },
    "papermill": {
     "duration": 300.778284,
     "end_time": "2021-08-02T20:09:54.025757",
     "exception": false,
     "start_time": "2021-08-02T20:04:53.247473",
     "status": "completed"
    },
    "tags": []
   },
   "outputs": [],
   "source": [
    "train_images = mnist.train_images()\n",
    "train_labels = mnist.train_labels()"
   ]
  },
  {
   "cell_type": "code",
   "execution_count": 5,
   "id": "musical-prospect",
   "metadata": {
    "execution": {
     "iopub.execute_input": "2021-08-02T20:09:54.090935Z",
     "iopub.status.busy": "2021-08-02T20:09:54.090408Z",
     "iopub.status.idle": "2021-08-02T20:09:54.100195Z",
     "shell.execute_reply": "2021-08-02T20:09:54.100577Z"
    },
    "papermill": {
     "duration": 0.047998,
     "end_time": "2021-08-02T20:09:54.100709",
     "exception": false,
     "start_time": "2021-08-02T20:09:54.052711",
     "status": "completed"
    },
    "tags": []
   },
   "outputs": [
    {
     "data": {
      "text/plain": [
       "((60000, 28, 28), (60000,))"
      ]
     },
     "execution_count": 5,
     "metadata": {},
     "output_type": "execute_result"
    }
   ],
   "source": [
    "train_images.shape, train_labels.shape"
   ]
  },
  {
   "cell_type": "code",
   "execution_count": 6,
   "id": "preliminary-elizabeth",
   "metadata": {
    "execution": {
     "iopub.execute_input": "2021-08-02T20:09:54.171632Z",
     "iopub.status.busy": "2021-08-02T20:09:54.171094Z",
     "iopub.status.idle": "2021-08-02T20:10:43.312864Z",
     "shell.execute_reply": "2021-08-02T20:10:43.312359Z"
    },
    "papermill": {
     "duration": 49.185346,
     "end_time": "2021-08-02T20:10:43.312998",
     "exception": false,
     "start_time": "2021-08-02T20:09:54.127652",
     "status": "completed"
    },
    "tags": []
   },
   "outputs": [],
   "source": [
    "test_images = mnist.test_images()\n",
    "test_labels = mnist.test_labels()"
   ]
  },
  {
   "cell_type": "code",
   "execution_count": 7,
   "id": "acknowledged-oxygen",
   "metadata": {
    "execution": {
     "iopub.execute_input": "2021-08-02T20:10:43.371371Z",
     "iopub.status.busy": "2021-08-02T20:10:43.370848Z",
     "iopub.status.idle": "2021-08-02T20:10:43.382588Z",
     "shell.execute_reply": "2021-08-02T20:10:43.383050Z"
    },
    "papermill": {
     "duration": 0.042041,
     "end_time": "2021-08-02T20:10:43.383178",
     "exception": false,
     "start_time": "2021-08-02T20:10:43.341137",
     "status": "completed"
    },
    "tags": []
   },
   "outputs": [
    {
     "data": {
      "text/plain": [
       "((10000, 28, 28), (10000,))"
      ]
     },
     "execution_count": 7,
     "metadata": {},
     "output_type": "execute_result"
    }
   ],
   "source": [
    "test_images.shape, test_labels.shape"
   ]
  },
  {
   "cell_type": "code",
   "execution_count": 8,
   "id": "innovative-organic",
   "metadata": {
    "execution": {
     "iopub.execute_input": "2021-08-02T20:10:43.443279Z",
     "iopub.status.busy": "2021-08-02T20:10:43.442789Z",
     "iopub.status.idle": "2021-08-02T20:10:43.573540Z",
     "shell.execute_reply": "2021-08-02T20:10:43.573944Z"
    },
    "papermill": {
     "duration": 0.164128,
     "end_time": "2021-08-02T20:10:43.574077",
     "exception": false,
     "start_time": "2021-08-02T20:10:43.409949",
     "status": "completed"
    },
    "tags": []
   },
   "outputs": [
    {
     "name": "stdout",
     "output_type": "stream",
     "text": [
      "2\n"
     ]
    },
    {
     "data": {
      "text/plain": [
       "<matplotlib.image.AxesImage at 0x7f074b6f5b00>"
      ]
     },
     "execution_count": 8,
     "metadata": {},
     "output_type": "execute_result"
    },
    {
     "data": {
      "image/png": "[encoded data removed]",
      "text/plain": [
       "<Figure size 432x288 with 1 Axes>"
      ]
     },
     "metadata": {
      "needs_background": "light"
     },
     "output_type": "display_data"
    }
   ],
   "source": [
    "image_index = 7776 # You may select anything up to 60,000\n",
    "print(train_labels[image_index]) \n",
    "plt.imshow(train_images[image_index], cmap='Greys')"
   ]
  },
  {
   "cell_type": "markdown",
   "id": "facial-modem",
   "metadata": {
    "papermill": {
     "duration": 0.027945,
     "end_time": "2021-08-02T20:10:43.630171",
     "exception": false,
     "start_time": "2021-08-02T20:10:43.602226",
     "status": "completed"
    },
    "tags": []
   },
   "source": [
    "## Filter data to get 3 and 8 out"
   ]
  },
  {
   "cell_type": "code",
   "execution_count": 9,
   "id": "thousand-acquisition",
   "metadata": {
    "execution": {
     "iopub.execute_input": "2021-08-02T20:10:43.692509Z",
     "iopub.status.busy": "2021-08-02T20:10:43.692010Z",
     "iopub.status.idle": "2021-08-02T20:10:43.705736Z",
     "shell.execute_reply": "2021-08-02T20:10:43.705314Z"
    },
    "papermill": {
     "duration": 0.047732,
     "end_time": "2021-08-02T20:10:43.705842",
     "exception": false,
     "start_time": "2021-08-02T20:10:43.658110",
     "status": "completed"
    },
    "tags": []
   },
   "outputs": [],
   "source": [
    "train_filter = np.where((train_labels == 3 ) | (train_labels == 8))\n",
    "test_filter = np.where((test_labels == 3) | (test_labels == 8))\n",
    "X_train, y_train = train_images[train_filter], train_labels[train_filter]\n",
    "X_test, y_test = test_images[test_filter], test_labels[test_filter]"
   ]
  },
  {
   "cell_type": "markdown",
   "id": "ruled-access",
   "metadata": {
    "papermill": {
     "duration": 0.027873,
     "end_time": "2021-08-02T20:10:43.761664",
     "exception": false,
     "start_time": "2021-08-02T20:10:43.733791",
     "status": "completed"
    },
    "tags": []
   },
   "source": [
    "We normalize the pixel values in the 0 to 1 range"
   ]
  },
  {
   "cell_type": "code",
   "execution_count": 10,
   "id": "isolated-denver",
   "metadata": {
    "execution": {
     "iopub.execute_input": "2021-08-02T20:10:43.821262Z",
     "iopub.status.busy": "2021-08-02T20:10:43.820759Z",
     "iopub.status.idle": "2021-08-02T20:10:43.868406Z",
     "shell.execute_reply": "2021-08-02T20:10:43.867942Z"
    },
    "papermill": {
     "duration": 0.078895,
     "end_time": "2021-08-02T20:10:43.868517",
     "exception": false,
     "start_time": "2021-08-02T20:10:43.789622",
     "status": "completed"
    },
    "tags": []
   },
   "outputs": [],
   "source": [
    "X_train = X_train/255.\n",
    "X_test = X_test/255."
   ]
  },
  {
   "cell_type": "markdown",
   "id": "perfect-summary",
   "metadata": {
    "papermill": {
     "duration": 0.02813,
     "end_time": "2021-08-02T20:10:43.925054",
     "exception": false,
     "start_time": "2021-08-02T20:10:43.896924",
     "status": "completed"
    },
    "tags": []
   },
   "source": [
    "Setup the labels as 1 (when the digit is 3) and 0 (when the digit is 8)"
   ]
  },
  {
   "cell_type": "code",
   "execution_count": 11,
   "id": "personalized-growing",
   "metadata": {
    "execution": {
     "iopub.execute_input": "2021-08-02T20:10:43.984835Z",
     "iopub.status.busy": "2021-08-02T20:10:43.984337Z",
     "iopub.status.idle": "2021-08-02T20:10:43.996460Z",
     "shell.execute_reply": "2021-08-02T20:10:43.996052Z"
    },
    "papermill": {
     "duration": 0.043251,
     "end_time": "2021-08-02T20:10:43.996572",
     "exception": false,
     "start_time": "2021-08-02T20:10:43.953321",
     "status": "completed"
    },
    "tags": []
   },
   "outputs": [],
   "source": [
    "y_train = 1*(y_train==3)\n",
    "y_test = 1*(y_test==3)"
   ]
  },
  {
   "cell_type": "code",
   "execution_count": 12,
   "id": "considered-virgin",
   "metadata": {
    "execution": {
     "iopub.execute_input": "2021-08-02T20:10:44.056059Z",
     "iopub.status.busy": "2021-08-02T20:10:44.055557Z",
     "iopub.status.idle": "2021-08-02T20:10:44.068114Z",
     "shell.execute_reply": "2021-08-02T20:10:44.068541Z"
    },
    "papermill": {
     "duration": 0.043994,
     "end_time": "2021-08-02T20:10:44.068669",
     "exception": false,
     "start_time": "2021-08-02T20:10:44.024675",
     "status": "completed"
    },
    "tags": []
   },
   "outputs": [
    {
     "data": {
      "text/plain": [
       "((11982, 28, 28), (1984, 28, 28))"
      ]
     },
     "execution_count": 12,
     "metadata": {},
     "output_type": "execute_result"
    }
   ],
   "source": [
    "X_train.shape, X_test.shape"
   ]
  },
  {
   "cell_type": "markdown",
   "id": "civilian-mobile",
   "metadata": {
    "papermill": {
     "duration": 0.028311,
     "end_time": "2021-08-02T20:10:44.125264",
     "exception": false,
     "start_time": "2021-08-02T20:10:44.096953",
     "status": "completed"
    },
    "tags": []
   },
   "source": [
    "### Reshape the input data to create a linear array"
   ]
  },
  {
   "cell_type": "code",
   "execution_count": 13,
   "id": "colonial-adams",
   "metadata": {
    "execution": {
     "iopub.execute_input": "2021-08-02T20:10:44.185684Z",
     "iopub.status.busy": "2021-08-02T20:10:44.185167Z",
     "iopub.status.idle": "2021-08-02T20:10:44.198813Z",
     "shell.execute_reply": "2021-08-02T20:10:44.199222Z"
    },
    "papermill": {
     "duration": 0.04582,
     "end_time": "2021-08-02T20:10:44.199375",
     "exception": false,
     "start_time": "2021-08-02T20:10:44.153555",
     "status": "completed"
    },
    "tags": []
   },
   "outputs": [
    {
     "data": {
      "text/plain": [
       "((11982, 784), (1984, 784))"
      ]
     },
     "execution_count": 13,
     "metadata": {},
     "output_type": "execute_result"
    }
   ],
   "source": [
    "X_train = X_train.reshape(X_train.shape[0], -1)\n",
    "X_test = X_test.reshape(X_test.shape[0], -1)\n",
    "X_train.shape, X_test.shape"
   ]
  },
  {
   "cell_type": "markdown",
   "id": "smart-details",
   "metadata": {
    "papermill": {
     "duration": 0.028396,
     "end_time": "2021-08-02T20:10:44.256253",
     "exception": false,
     "start_time": "2021-08-02T20:10:44.227857",
     "status": "completed"
    },
    "tags": []
   },
   "source": [
    "### Importing appropriate functions from 'Kudzu'"
   ]
  },
  {
   "cell_type": "code",
   "execution_count": 14,
   "id": "celtic-trial",
   "metadata": {
    "execution": {
     "iopub.execute_input": "2021-08-02T20:10:44.320563Z",
     "iopub.status.busy": "2021-08-02T20:10:44.320055Z",
     "iopub.status.idle": "2021-08-02T20:10:44.336003Z",
     "shell.execute_reply": "2021-08-02T20:10:44.336379Z"
    },
    "papermill": {
     "duration": 0.051649,
     "end_time": "2021-08-02T20:10:44.336514",
     "exception": false,
     "start_time": "2021-08-02T20:10:44.284865",
     "status": "completed"
    },
    "tags": []
   },
   "outputs": [],
   "source": [
    "from kudzu.layer import Sigmoid\n",
    "from kudzu.layer import Relu\n",
    "from kudzu.layer import Affine, Sigmoid\n",
    "\n",
    "from kudzu.model import Model\n",
    "from kudzu.train import Learner\n",
    "from kudzu.optim import GD\n",
    "from kudzu.data import Data, Dataloader, Sampler\n",
    "\n",
    "from kudzu.callbacks import AccCallback\n",
    "from kudzu.callbacks import ClfCallback\n",
    "\n",
    "from kudzu.loss import MSE"
   ]
  },
  {
   "cell_type": "markdown",
   "id": "coupled-customer",
   "metadata": {
    "papermill": {
     "duration": 0.02842,
     "end_time": "2021-08-02T20:10:44.393248",
     "exception": false,
     "start_time": "2021-08-02T20:10:44.364828",
     "status": "completed"
    },
    "tags": []
   },
   "source": [
    "### Let us create a `Config` class, to store important parameters. \n",
    "This class essentially plays the role of a dictionary."
   ]
  },
  {
   "cell_type": "code",
   "execution_count": 15,
   "id": "young-ceiling",
   "metadata": {
    "execution": {
     "iopub.execute_input": "2021-08-02T20:10:44.454419Z",
     "iopub.status.busy": "2021-08-02T20:10:44.453529Z",
     "iopub.status.idle": "2021-08-02T20:10:44.465985Z",
     "shell.execute_reply": "2021-08-02T20:10:44.465579Z"
    },
    "papermill": {
     "duration": 0.044257,
     "end_time": "2021-08-02T20:10:44.466096",
     "exception": false,
     "start_time": "2021-08-02T20:10:44.421839",
     "status": "completed"
    },
    "tags": []
   },
   "outputs": [],
   "source": [
    "class Config:\n",
    "    pass\n",
    "config = Config()\n",
    "config.lr = 0.001\n",
    "config.num_epochs = 251\n",
    "config.bs = 50"
   ]
  },
  {
   "cell_type": "markdown",
   "id": "according-mandate",
   "metadata": {
    "papermill": {
     "duration": 0.028652,
     "end_time": "2021-08-02T20:10:44.523249",
     "exception": false,
     "start_time": "2021-08-02T20:10:44.494597",
     "status": "completed"
    },
    "tags": []
   },
   "source": [
    "### Initializing data to the variables"
   ]
  },
  {
   "cell_type": "code",
   "execution_count": 16,
   "id": "academic-disposition",
   "metadata": {
    "execution": {
     "iopub.execute_input": "2021-08-02T20:10:44.596641Z",
     "iopub.status.busy": "2021-08-02T20:10:44.596118Z",
     "iopub.status.idle": "2021-08-02T20:10:44.602035Z",
     "shell.execute_reply": "2021-08-02T20:10:44.602416Z"
    },
    "papermill": {
     "duration": 0.05071,
     "end_time": "2021-08-02T20:10:44.602550",
     "exception": false,
     "start_time": "2021-08-02T20:10:44.551840",
     "status": "completed"
    },
    "tags": []
   },
   "outputs": [],
   "source": [
    "data = Data(X_train, y_train.reshape(-1,1))\n",
    "sampler = Sampler(data, config.bs, shuffle=True)\n",
    "\n",
    "dl = Dataloader(data, sampler)\n",
    "\n",
    "opt = GD(config.lr)\n",
    "loss = MSE()"
   ]
  },
  {
   "cell_type": "code",
   "execution_count": 17,
   "id": "featured-commission",
   "metadata": {
    "execution": {
     "iopub.execute_input": "2021-08-02T20:10:44.663657Z",
     "iopub.status.busy": "2021-08-02T20:10:44.662760Z",
     "iopub.status.idle": "2021-08-02T20:10:44.675749Z",
     "shell.execute_reply": "2021-08-02T20:10:44.675334Z"
    },
    "papermill": {
     "duration": 0.04476,
     "end_time": "2021-08-02T20:10:44.675863",
     "exception": false,
     "start_time": "2021-08-02T20:10:44.631103",
     "status": "completed"
    },
    "tags": []
   },
   "outputs": [],
   "source": [
    "training_xdata = X_train\n",
    "testing_xdata = X_test\n",
    "training_ydata = y_train.reshape(-1,1)\n",
    "testing_ydata = y_test.reshape(-1,1)"
   ]
  },
  {
   "cell_type": "markdown",
   "id": "played-safety",
   "metadata": {
    "papermill": {
     "duration": 0.028603,
     "end_time": "2021-08-02T20:10:44.733131",
     "exception": false,
     "start_time": "2021-08-02T20:10:44.704528",
     "status": "completed"
    },
    "tags": []
   },
   "source": [
    "### Running Models with the Training data\n",
    "Details about the network layers:\n",
    "- A first affine layer has 784 inputs and does 100 affine transforms. These are followed by a Relu\n",
    "- A second affine layer has 100 inputs from the 100 activations of the past layer, and does 100 affine transforms. These are followed by a Relu\n",
    "- A third affine layer has 100 activations and does 2 affine transformations to create an embedding for visualization. There is no non-linearity here.\n",
    "- A final \"logistic regression\" which has an affine transform from 2 inputs to 1 output, which is squeezed through a sigmoid.\n",
    "\n",
    "Help taken from Anshuman's Notebook."
   ]
  },
  {
   "cell_type": "code",
   "execution_count": 18,
   "id": "asian-bankruptcy",
   "metadata": {
    "execution": {
     "iopub.execute_input": "2021-08-02T20:10:44.794626Z",
     "iopub.status.busy": "2021-08-02T20:10:44.794122Z",
     "iopub.status.idle": "2021-08-02T20:10:44.808384Z",
     "shell.execute_reply": "2021-08-02T20:10:44.808783Z"
    },
    "papermill": {
     "duration": 0.047243,
     "end_time": "2021-08-02T20:10:44.808913",
     "exception": false,
     "start_time": "2021-08-02T20:10:44.761670",
     "status": "completed"
    },
    "tags": []
   },
   "outputs": [],
   "source": [
    "# layers for the Neural Network\n",
    "layers = [Affine(\"first\", 784, 100), Relu(\"first\"), Affine(\"second\", 100, 100), Relu(\"second\"), Affine(\"third\", 100, 2), Affine(\"final\", 2, 1), Sigmoid(\"final\")]\n",
    "model_nn = Model(layers)\n",
    "\n",
    "# layers for the Logistic Regression\n",
    "layers_lr = [Affine(\"logits\", 784, 1), Sigmoid(\"sigmoid\")]\n",
    "model_lr = Model(layers_lr)"
   ]
  },
  {
   "cell_type": "code",
   "execution_count": 19,
   "id": "removed-butler",
   "metadata": {
    "execution": {
     "iopub.execute_input": "2021-08-02T20:10:44.869566Z",
     "iopub.status.busy": "2021-08-02T20:10:44.869078Z",
     "iopub.status.idle": "2021-08-02T20:10:44.881049Z",
     "shell.execute_reply": "2021-08-02T20:10:44.880624Z"
    },
    "papermill": {
     "duration": 0.043592,
     "end_time": "2021-08-02T20:10:44.881155",
     "exception": false,
     "start_time": "2021-08-02T20:10:44.837563",
     "status": "completed"
    },
    "tags": []
   },
   "outputs": [],
   "source": [
    "# suffix _nn stands for Neural Network.\n",
    "learner_nn = Learner(loss, model_nn, opt, config.num_epochs)\n",
    "acc_nn = ClfCallback(learner_nn, config.bs, training_xdata , testing_xdata, training_ydata, testing_ydata)\n",
    "learner_nn.set_callbacks([acc_nn])"
   ]
  },
  {
   "cell_type": "code",
   "execution_count": 20,
   "id": "conceptual-throw",
   "metadata": {
    "execution": {
     "iopub.execute_input": "2021-08-02T20:10:44.941683Z",
     "iopub.status.busy": "2021-08-02T20:10:44.941197Z",
     "iopub.status.idle": "2021-08-02T20:12:00.622090Z",
     "shell.execute_reply": "2021-08-02T20:12:00.622564Z"
    },
    "papermill": {
     "duration": 75.712915,
     "end_time": "2021-08-02T20:12:00.622696",
     "exception": false,
     "start_time": "2021-08-02T20:10:44.909781",
     "status": "completed"
    },
    "tags": []
   },
   "outputs": [
    {
     "name": "stdout",
     "output_type": "stream",
     "text": [
      "====== Neural Network ======\n"
     ]
    },
    {
     "name": "stdout",
     "output_type": "stream",
     "text": [
      "Epoch 0, Loss 0.208\n",
      "Training Accuracy: 0.8263, Testing Accuracy: 0.8362\n",
      "\n"
     ]
    },
    {
     "name": "stdout",
     "output_type": "stream",
     "text": [
      "Epoch 10, Loss 0.0672\n",
      "Training Accuracy: 0.9339, Testing Accuracy: 0.9486\n",
      "\n"
     ]
    },
    {
     "name": "stdout",
     "output_type": "stream",
     "text": [
      "Epoch 20, Loss 0.0473\n",
      "Training Accuracy: 0.9481, Testing Accuracy: 0.9587\n",
      "\n"
     ]
    },
    {
     "name": "stdout",
     "output_type": "stream",
     "text": [
      "Epoch 30, Loss 0.0395\n",
      "Training Accuracy: 0.9562, Testing Accuracy: 0.9647\n",
      "\n"
     ]
    },
    {
     "name": "stdout",
     "output_type": "stream",
     "text": [
      "Epoch 40, Loss 0.0351\n",
      "Training Accuracy: 0.9619, Testing Accuracy: 0.9677\n",
      "\n"
     ]
    },
    {
     "name": "stdout",
     "output_type": "stream",
     "text": [
      "Epoch 50, Loss 0.0322\n",
      "Training Accuracy: 0.9645, Testing Accuracy: 0.9698\n",
      "\n"
     ]
    },
    {
     "name": "stdout",
     "output_type": "stream",
     "text": [
      "Epoch 60, Loss 0.0301\n",
      "Training Accuracy: 0.9670, Testing Accuracy: 0.9708\n",
      "\n"
     ]
    },
    {
     "name": "stdout",
     "output_type": "stream",
     "text": [
      "Epoch 70, Loss 0.0285\n",
      "Training Accuracy: 0.9680, Testing Accuracy: 0.9713\n",
      "\n"
     ]
    },
    {
     "name": "stdout",
     "output_type": "stream",
     "text": [
      "Epoch 80, Loss 0.0272\n",
      "Training Accuracy: 0.9695, Testing Accuracy: 0.9723\n",
      "\n"
     ]
    },
    {
     "name": "stdout",
     "output_type": "stream",
     "text": [
      "Epoch 90, Loss 0.0261\n",
      "Training Accuracy: 0.9705, Testing Accuracy: 0.9738\n",
      "\n"
     ]
    },
    {
     "name": "stdout",
     "output_type": "stream",
     "text": [
      "Epoch 100, Loss 0.0252\n",
      "Training Accuracy: 0.9715, Testing Accuracy: 0.9748\n",
      "\n"
     ]
    },
    {
     "name": "stdout",
     "output_type": "stream",
     "text": [
      "Epoch 110, Loss 0.0244\n",
      "Training Accuracy: 0.9729, Testing Accuracy: 0.9753\n",
      "\n"
     ]
    },
    {
     "name": "stdout",
     "output_type": "stream",
     "text": [
      "Epoch 120, Loss 0.0236\n",
      "Training Accuracy: 0.9736, Testing Accuracy: 0.9753\n",
      "\n"
     ]
    },
    {
     "name": "stdout",
     "output_type": "stream",
     "text": [
      "Epoch 130, Loss 0.0229\n",
      "Training Accuracy: 0.9744, Testing Accuracy: 0.9753\n",
      "\n"
     ]
    },
    {
     "name": "stdout",
     "output_type": "stream",
     "text": [
      "Epoch 140, Loss 0.0223\n",
      "Training Accuracy: 0.9750, Testing Accuracy: 0.9748\n",
      "\n"
     ]
    },
    {
     "name": "stdout",
     "output_type": "stream",
     "text": [
      "Epoch 150, Loss 0.0218\n",
      "Training Accuracy: 0.9754, Testing Accuracy: 0.9743\n",
      "\n"
     ]
    },
    {
     "name": "stdout",
     "output_type": "stream",
     "text": [
      "Epoch 160, Loss 0.0212\n",
      "Training Accuracy: 0.9761, Testing Accuracy: 0.9748\n",
      "\n"
     ]
    },
    {
     "name": "stdout",
     "output_type": "stream",
     "text": [
      "Epoch 170, Loss 0.0207\n",
      "Training Accuracy: 0.9766, Testing Accuracy: 0.9748\n",
      "\n"
     ]
    },
    {
     "name": "stdout",
     "output_type": "stream",
     "text": [
      "Epoch 180, Loss 0.0202\n",
      "Training Accuracy: 0.9770, Testing Accuracy: 0.9758\n",
      "\n"
     ]
    },
    {
     "name": "stdout",
     "output_type": "stream",
     "text": [
      "Epoch 190, Loss 0.0198\n",
      "Training Accuracy: 0.9780, Testing Accuracy: 0.9753\n",
      "\n"
     ]
    },
    {
     "name": "stdout",
     "output_type": "stream",
     "text": [
      "Epoch 200, Loss 0.0194\n",
      "Training Accuracy: 0.9786, Testing Accuracy: 0.9758\n",
      "\n"
     ]
    },
    {
     "name": "stdout",
     "output_type": "stream",
     "text": [
      "Epoch 210, Loss 0.0189\n",
      "Training Accuracy: 0.9791, Testing Accuracy: 0.9758\n",
      "\n"
     ]
    },
    {
     "name": "stdout",
     "output_type": "stream",
     "text": [
      "Epoch 220, Loss 0.0185\n",
      "Training Accuracy: 0.9794, Testing Accuracy: 0.9758\n",
      "\n"
     ]
    },
    {
     "name": "stdout",
     "output_type": "stream",
     "text": [
      "Epoch 230, Loss 0.0181\n",
      "Training Accuracy: 0.9799, Testing Accuracy: 0.9758\n",
      "\n"
     ]
    },
    {
     "name": "stdout",
     "output_type": "stream",
     "text": [
      "Epoch 240, Loss 0.0178\n",
      "Training Accuracy: 0.9805, Testing Accuracy: 0.9763\n",
      "\n"
     ]
    },
    {
     "name": "stdout",
     "output_type": "stream",
     "text": [
      "Epoch 250, Loss 0.0174\n",
      "Training Accuracy: 0.9807, Testing Accuracy: 0.9768\n",
      "\n"
     ]
    },
    {
     "data": {
      "text/plain": [
       "0.025484203966829714"
      ]
     },
     "execution_count": 20,
     "metadata": {},
     "output_type": "execute_result"
    }
   ],
   "source": [
    "print(\"====== Neural Network ======\")\n",
    "learner_nn.train_loop(dl)"
   ]
  },
  {
   "cell_type": "markdown",
   "id": "competent-suffering",
   "metadata": {
    "papermill": {
     "duration": 0.035931,
     "end_time": "2021-08-02T20:12:00.699073",
     "exception": false,
     "start_time": "2021-08-02T20:12:00.663142",
     "status": "completed"
    },
    "tags": []
   },
   "source": [
    "### Logistic Regression based Implementation."
   ]
  },
  {
   "cell_type": "code",
   "execution_count": 21,
   "id": "qualified-psychiatry",
   "metadata": {
    "execution": {
     "iopub.execute_input": "2021-08-02T20:12:00.784548Z",
     "iopub.status.busy": "2021-08-02T20:12:00.784009Z",
     "iopub.status.idle": "2021-08-02T20:12:00.787838Z",
     "shell.execute_reply": "2021-08-02T20:12:00.787403Z"
    },
    "papermill": {
     "duration": 0.051759,
     "end_time": "2021-08-02T20:12:00.787950",
     "exception": false,
     "start_time": "2021-08-02T20:12:00.736191",
     "status": "completed"
    },
    "tags": []
   },
   "outputs": [],
   "source": [
    "learner_lr = Learner(loss, model_lr, opt, config.num_epochs)\n",
    "acc_lr = ClfCallback(learner_lr, config.bs, training_xdata , testing_xdata, training_ydata, testing_ydata)\n",
    "learner_lr.set_callbacks([acc_lr])"
   ]
  },
  {
   "cell_type": "code",
   "execution_count": 22,
   "id": "average-outside",
   "metadata": {
    "execution": {
     "iopub.execute_input": "2021-08-02T20:12:00.876920Z",
     "iopub.status.busy": "2021-08-02T20:12:00.876113Z",
     "iopub.status.idle": "2021-08-02T20:12:14.517122Z",
     "shell.execute_reply": "2021-08-02T20:12:14.517851Z"
    },
    "papermill": {
     "duration": 13.694188,
     "end_time": "2021-08-02T20:12:14.517988",
     "exception": false,
     "start_time": "2021-08-02T20:12:00.823800",
     "status": "completed"
    },
    "tags": []
   },
   "outputs": [
    {
     "name": "stdout",
     "output_type": "stream",
     "text": [
      "====== Logistic Regression ======\n",
      "Epoch 0, Loss 0.2317\n",
      "Training Accuracy: 0.7040, Testing Accuracy: 0.7273\n",
      "\n"
     ]
    },
    {
     "name": "stdout",
     "output_type": "stream",
     "text": [
      "Epoch 10, Loss 0.1061\n",
      "Training Accuracy: 0.9002, Testing Accuracy: 0.9204\n",
      "\n"
     ]
    },
    {
     "name": "stdout",
     "output_type": "stream",
     "text": [
      "Epoch 20, Loss 0.0814\n",
      "Training Accuracy: 0.9254, Testing Accuracy: 0.9390\n",
      "\n"
     ]
    },
    {
     "name": "stdout",
     "output_type": "stream",
     "text": [
      "Epoch 30, Loss 0.0699\n",
      "Training Accuracy: 0.9335, Testing Accuracy: 0.9461\n",
      "\n"
     ]
    },
    {
     "name": "stdout",
     "output_type": "stream",
     "text": [
      "Epoch 40, Loss 0.063\n",
      "Training Accuracy: 0.9387, Testing Accuracy: 0.9501\n",
      "\n"
     ]
    },
    {
     "name": "stdout",
     "output_type": "stream",
     "text": [
      "Epoch 50, Loss 0.0583\n",
      "Training Accuracy: 0.9430, Testing Accuracy: 0.9551\n",
      "\n"
     ]
    },
    {
     "name": "stdout",
     "output_type": "stream",
     "text": [
      "Epoch 60, Loss 0.0548\n",
      "Training Accuracy: 0.9459, Testing Accuracy: 0.9572\n",
      "\n"
     ]
    },
    {
     "name": "stdout",
     "output_type": "stream",
     "text": [
      "Epoch 70, Loss 0.0521\n",
      "Training Accuracy: 0.9473, Testing Accuracy: 0.9582\n",
      "\n"
     ]
    },
    {
     "name": "stdout",
     "output_type": "stream",
     "text": [
      "Epoch 80, Loss 0.05\n",
      "Training Accuracy: 0.9491, Testing Accuracy: 0.9602\n",
      "\n"
     ]
    },
    {
     "name": "stdout",
     "output_type": "stream",
     "text": [
      "Epoch 90, Loss 0.0482\n",
      "Training Accuracy: 0.9505, Testing Accuracy: 0.9617\n",
      "\n"
     ]
    },
    {
     "name": "stdout",
     "output_type": "stream",
     "text": [
      "Epoch 100, Loss 0.0467\n",
      "Training Accuracy: 0.9522, Testing Accuracy: 0.9632\n",
      "\n"
     ]
    },
    {
     "name": "stdout",
     "output_type": "stream",
     "text": [
      "Epoch 110, Loss 0.0455\n",
      "Training Accuracy: 0.9535, Testing Accuracy: 0.9642\n",
      "\n"
     ]
    },
    {
     "name": "stdout",
     "output_type": "stream",
     "text": [
      "Epoch 120, Loss 0.0443\n",
      "Training Accuracy: 0.9548, Testing Accuracy: 0.9652\n",
      "\n"
     ]
    },
    {
     "name": "stdout",
     "output_type": "stream",
     "text": [
      "Epoch 130, Loss 0.0434\n",
      "Training Accuracy: 0.9559, Testing Accuracy: 0.9672\n",
      "\n"
     ]
    },
    {
     "name": "stdout",
     "output_type": "stream",
     "text": [
      "Epoch 140, Loss 0.0425\n",
      "Training Accuracy: 0.9569, Testing Accuracy: 0.9677\n",
      "\n"
     ]
    },
    {
     "name": "stdout",
     "output_type": "stream",
     "text": [
      "Epoch 150, Loss 0.0417\n",
      "Training Accuracy: 0.9578, Testing Accuracy: 0.9677\n",
      "\n"
     ]
    },
    {
     "name": "stdout",
     "output_type": "stream",
     "text": [
      "Epoch 160, Loss 0.041\n",
      "Training Accuracy: 0.9579, Testing Accuracy: 0.9677\n",
      "\n"
     ]
    },
    {
     "name": "stdout",
     "output_type": "stream",
     "text": [
      "Epoch 170, Loss 0.0404\n",
      "Training Accuracy: 0.9579, Testing Accuracy: 0.9682\n",
      "\n"
     ]
    },
    {
     "name": "stdout",
     "output_type": "stream",
     "text": [
      "Epoch 180, Loss 0.0398\n",
      "Training Accuracy: 0.9585, Testing Accuracy: 0.9682\n",
      "\n"
     ]
    },
    {
     "name": "stdout",
     "output_type": "stream",
     "text": [
      "Epoch 190, Loss 0.0393\n",
      "Training Accuracy: 0.9589, Testing Accuracy: 0.9688\n",
      "\n"
     ]
    },
    {
     "name": "stdout",
     "output_type": "stream",
     "text": [
      "Epoch 200, Loss 0.0388\n",
      "Training Accuracy: 0.9591, Testing Accuracy: 0.9682\n",
      "\n"
     ]
    },
    {
     "name": "stdout",
     "output_type": "stream",
     "text": [
      "Epoch 210, Loss 0.0383\n",
      "Training Accuracy: 0.9594, Testing Accuracy: 0.9682\n",
      "\n"
     ]
    },
    {
     "name": "stdout",
     "output_type": "stream",
     "text": [
      "Epoch 220, Loss 0.0379\n",
      "Training Accuracy: 0.9601, Testing Accuracy: 0.9677\n",
      "\n"
     ]
    },
    {
     "name": "stdout",
     "output_type": "stream",
     "text": [
      "Epoch 230, Loss 0.0375\n",
      "Training Accuracy: 0.9604, Testing Accuracy: 0.9677\n",
      "\n"
     ]
    },
    {
     "name": "stdout",
     "output_type": "stream",
     "text": [
      "Epoch 240, Loss 0.0371\n",
      "Training Accuracy: 0.9609, Testing Accuracy: 0.9672\n",
      "\n"
     ]
    },
    {
     "name": "stdout",
     "output_type": "stream",
     "text": [
      "Epoch 250, Loss 0.0367\n",
      "Training Accuracy: 0.9611, Testing Accuracy: 0.9677\n",
      "\n"
     ]
    },
    {
     "data": {
      "text/plain": [
       "0.036313657578447685"
      ]
     },
     "execution_count": 22,
     "metadata": {},
     "output_type": "execute_result"
    }
   ],
   "source": [
    "print(\"====== Logistic Regression ======\")\n",
    "learner_lr.train_loop(dl)"
   ]
  },
  {
   "cell_type": "markdown",
   "id": "adjusted-possible",
   "metadata": {
    "papermill": {
     "duration": 0.042739,
     "end_time": "2021-08-02T20:12:14.603826",
     "exception": false,
     "start_time": "2021-08-02T20:12:14.561087",
     "status": "completed"
    },
    "tags": []
   },
   "source": [
    "### Comparing results of NN and LR"
   ]
  },
  {
   "cell_type": "code",
   "execution_count": 23,
   "id": "mental-multimedia",
   "metadata": {
    "execution": {
     "iopub.execute_input": "2021-08-02T20:12:14.700420Z",
     "iopub.status.busy": "2021-08-02T20:12:14.699882Z",
     "iopub.status.idle": "2021-08-02T20:12:14.935307Z",
     "shell.execute_reply": "2021-08-02T20:12:14.934845Z"
    },
    "papermill": {
     "duration": 0.288821,
     "end_time": "2021-08-02T20:12:14.935425",
     "exception": false,
     "start_time": "2021-08-02T20:12:14.646604",
     "status": "completed"
    },
    "tags": []
   },
   "outputs": [
    {
     "data": {
      "text/plain": [
       "<matplotlib.legend.Legend at 0x7f073dedd160>"
      ]
     },
     "execution_count": 23,
     "metadata": {},
     "output_type": "execute_result"
    },
    {
     "data": {
      "image/png": "[encoded data removed]",
      "text/plain": [
       "<Figure size 1080x720 with 1 Axes>"
      ]
     },
     "metadata": {
      "needs_background": "light"
     },
     "output_type": "display_data"
    }
   ],
   "source": [
    "plt.figure(figsize=(15,10))\n",
    "\n",
    "# Neural Network plots\n",
    "plt.plot(acc_nn.accuracies, 'r-', label = \"Training Accuracies - NN\")\n",
    "plt.plot(acc_nn.test_accuracies, 'g-', label = \"Testing Accuracies - NN\")\n",
    "\n",
    "# Logistic Regression plots\n",
    "plt.plot(acc_lr.accuracies, 'k-', label = \"Training Accuracies - LR\")\n",
    "plt.plot(acc_lr.test_accuracies, 'b-', label = \"Testing Accuracies - LR\")\n",
    "\n",
    "plt.ylim(0.8, 1)\n",
    "\n",
    "plt.legend()\n",
    "\n"
   ]
  },
  {
   "cell_type": "markdown",
   "id": "sexual-flesh",
   "metadata": {
    "papermill": {
     "duration": 0.044495,
     "end_time": "2021-08-02T20:12:15.024935",
     "exception": false,
     "start_time": "2021-08-02T20:12:14.980440",
     "status": "completed"
    },
    "tags": []
   },
   "source": [
    "### From the plot, we can observe the following:\n",
    "- Neural Network achieves higher accuracy than the Logistic Regression model.\n",
    "- This apparently, is because of overfitting, i.e. NN captures more noise than data.\n",
    "- Testing accuracy of NN drops below the Training accuracy at higher epochs. This explains the over-fitting on training data.\n",
    "- Logistic Regression gives a reliable accuracy, without the above mentioned problem.\n"
   ]
  },
  {
   "cell_type": "markdown",
   "id": "institutional-pacific",
   "metadata": {
    "papermill": {
     "duration": 0.044368,
     "end_time": "2021-08-02T20:12:15.113670",
     "exception": false,
     "start_time": "2021-08-02T20:12:15.069302",
     "status": "completed"
    },
    "tags": []
   },
   "source": [
    "### Moving till the last but one layer (excluding it).\n",
    "#### Plotting the outputs of this layer of the NN."
   ]
  },
  {
   "cell_type": "code",
   "execution_count": 24,
   "id": "economic-server",
   "metadata": {
    "execution": {
     "iopub.execute_input": "2021-08-02T20:12:15.212285Z",
     "iopub.status.busy": "2021-08-02T20:12:15.208061Z",
     "iopub.status.idle": "2021-08-02T20:12:15.217645Z",
     "shell.execute_reply": "2021-08-02T20:12:15.218025Z"
    },
    "papermill": {
     "duration": 0.059997,
     "end_time": "2021-08-02T20:12:15.218160",
     "exception": false,
     "start_time": "2021-08-02T20:12:15.158163",
     "status": "completed"
    },
    "tags": []
   },
   "outputs": [],
   "source": [
    "model_new = Model(layers[:-2])"
   ]
  },
  {
   "cell_type": "code",
   "execution_count": 25,
   "id": "varied-upgrade",
   "metadata": {
    "execution": {
     "iopub.execute_input": "2021-08-02T20:12:15.340496Z",
     "iopub.status.busy": "2021-08-02T20:12:15.339995Z",
     "iopub.status.idle": "2021-08-02T20:12:15.358683Z",
     "shell.execute_reply": "2021-08-02T20:12:15.359099Z"
    },
    "papermill": {
     "duration": 0.096522,
     "end_time": "2021-08-02T20:12:15.359231",
     "exception": false,
     "start_time": "2021-08-02T20:12:15.262709",
     "status": "completed"
    },
    "tags": []
   },
   "outputs": [],
   "source": [
    "plot_testing = model_new(testing_xdata)"
   ]
  },
  {
   "cell_type": "code",
   "execution_count": 26,
   "id": "specific-handling",
   "metadata": {
    "execution": {
     "iopub.execute_input": "2021-08-02T20:12:15.468509Z",
     "iopub.status.busy": "2021-08-02T20:12:15.467992Z",
     "iopub.status.idle": "2021-08-02T20:12:15.658042Z",
     "shell.execute_reply": "2021-08-02T20:12:15.658443Z"
    },
    "papermill": {
     "duration": 0.24669,
     "end_time": "2021-08-02T20:12:15.658582",
     "exception": false,
     "start_time": "2021-08-02T20:12:15.411892",
     "status": "completed"
    },
    "tags": []
   },
   "outputs": [
    {
     "data": {
      "text/plain": [
       "Text(0.5, 1.0, 'Outputs')"
      ]
     },
     "execution_count": 26,
     "metadata": {},
     "output_type": "execute_result"
    },
    {
     "data": {
      "image/png": "[encoded data removed]",
      "text/plain": [
       "<Figure size 576x504 with 1 Axes>"
      ]
     },
     "metadata": {
      "needs_background": "light"
     },
     "output_type": "display_data"
    }
   ],
   "source": [
    "plt.figure(figsize=(8,7))\n",
    "plt.scatter(plot_testing[:,0], plot_testing[:,1], alpha = 0.1, c = y_test.ravel());\n",
    "plt.title('Outputs')"
   ]
  },
  {
   "cell_type": "markdown",
   "id": "described-knowing",
   "metadata": {
    "papermill": {
     "duration": 0.047003,
     "end_time": "2021-08-02T20:12:15.753091",
     "exception": false,
     "start_time": "2021-08-02T20:12:15.706088",
     "status": "completed"
    },
    "tags": []
   },
   "source": [
    "### Plotting probability contours"
   ]
  },
  {
   "cell_type": "code",
   "execution_count": 27,
   "id": "needed-growing",
   "metadata": {
    "execution": {
     "iopub.execute_input": "2021-08-02T20:12:15.852626Z",
     "iopub.status.busy": "2021-08-02T20:12:15.852025Z",
     "iopub.status.idle": "2021-08-02T20:12:15.861966Z",
     "shell.execute_reply": "2021-08-02T20:12:15.861529Z"
    },
    "papermill": {
     "duration": 0.061978,
     "end_time": "2021-08-02T20:12:15.862084",
     "exception": false,
     "start_time": "2021-08-02T20:12:15.800106",
     "status": "completed"
    },
    "tags": []
   },
   "outputs": [],
   "source": [
    "model_prob = Model(layers[-2:]) "
   ]
  },
  {
   "cell_type": "code",
   "execution_count": 28,
   "id": "introductory-enforcement",
   "metadata": {
    "execution": {
     "iopub.execute_input": "2021-08-02T20:12:15.975803Z",
     "iopub.status.busy": "2021-08-02T20:12:15.969121Z",
     "iopub.status.idle": "2021-08-02T20:12:15.983280Z",
     "shell.execute_reply": "2021-08-02T20:12:15.982577Z"
    },
    "papermill": {
     "duration": 0.074012,
     "end_time": "2021-08-02T20:12:15.983418",
     "exception": false,
     "start_time": "2021-08-02T20:12:15.909406",
     "status": "completed"
    },
    "tags": []
   },
   "outputs": [],
   "source": [
    "# Adjust the x and y ranges according to the above generated plot.\n",
    "x_range = np.linspace(-4, 1, 100) \n",
    "y_range = np.linspace(-6, 6, 100) \n",
    "x_grid, y_grid = np.meshgrid(x_range, y_range) # x_grid and y_grig are of size 100 X 100\n",
    "\n",
    "# converting x_grid and y_grid to continuous arrays\n",
    "x_grid_flat = np.ravel(x_grid)\n",
    "y_grid_flat = np.ravel(y_grid)\n",
    "\n",
    "# The last layer of the current model takes two columns as input. Hence transpose of np.vstack() is required.\n",
    "X = np.vstack((x_grid_flat, y_grid_flat)).T\n",
    "\n",
    "# x_grid and y_grid are of size 100 x 100\n",
    "probability_contour = model_prob(X).reshape(100,100) "
   ]
  },
  {
   "cell_type": "code",
   "execution_count": 29,
   "id": "understood-landing",
   "metadata": {
    "execution": {
     "iopub.execute_input": "2021-08-02T20:12:16.082518Z",
     "iopub.status.busy": "2021-08-02T20:12:16.082014Z",
     "iopub.status.idle": "2021-08-02T20:12:16.325932Z",
     "shell.execute_reply": "2021-08-02T20:12:16.326341Z"
    },
    "papermill": {
     "duration": 0.294856,
     "end_time": "2021-08-02T20:12:16.326474",
     "exception": false,
     "start_time": "2021-08-02T20:12:16.031618",
     "status": "completed"
    },
    "tags": []
   },
   "outputs": [
    {
     "data": {
      "image/png": "[encoded data removed]",
      "text/plain": [
       "<Figure size 720x648 with 1 Axes>"
      ]
     },
     "metadata": {
      "needs_background": "light"
     },
     "output_type": "display_data"
    }
   ],
   "source": [
    "plt.figure(figsize=(10,9))\n",
    "plt.scatter(plot_testing[:,0], plot_testing[:,1], alpha = 0.1, c = y_test.ravel())\n",
    "contours = plt.contour(x_grid,y_grid,probability_contour)\n",
    "plt.title('Probability Contours')\n",
    "plt.clabel(contours, inline = True );"
   ]
  }
 ],
 "metadata": {
  "kernelspec": {
   "display_name": "Python 3",
   "language": "python",
   "name": "python3"
  },
  "language_info": {
   "codemirror_mode": {
    "name": "ipython",
    "version": 3
   },
   "file_extension": ".py",
   "mimetype": "text/x-python",
   "name": "python",
   "nbconvert_exporter": "python",
   "pygments_lexer": "ipython3",
   "version": "3.6.14"
  },
  "papermill": {
   "duration": 447.220745,
   "end_time": "2021-08-02T20:12:16.783997",
   "environment_variables": {},
   "exception": null,
   "input_path": "2020-08-11-NeuralNetwork.ipynb",
   "output_path": "2020-08-11-NeuralNetwork.ipynb",
   "parameters": {},
   "start_time": "2021-08-02T20:04:49.563252",
   "version": "2.1.2"
  }
 },
 "nbformat": 4,
 "nbformat_minor": 5
}