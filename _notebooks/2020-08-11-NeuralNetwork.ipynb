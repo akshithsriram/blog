{
 "cells": [
  {
   "cell_type": "markdown",
   "metadata": {
    "papermill": {
     "duration": 0.08642,
     "end_time": "2020-11-05T20:03:59.902057",
     "exception": false,
     "start_time": "2020-11-05T20:03:59.815637",
     "status": "completed"
    },
    "tags": []
   },
   "source": [
    "# \"A Basic Neural Network: Differentiate Hand-Written Digits\"\n",
    "\n",
    "- badges: true\n",
    "- author: Akshith Sriram"
   ]
  },
  {
   "cell_type": "markdown",
   "metadata": {
    "papermill": {
     "duration": 0.027705,
     "end_time": "2020-11-05T20:04:00.072076",
     "exception": false,
     "start_time": "2020-11-05T20:04:00.044371",
     "status": "completed"
    },
    "tags": []
   },
   "source": [
    "### Key Objectives:\n",
    "- Building a neural network that differentiates two hand-written digits 3 and 8.\n",
    "- Comparing the results of this Neural Network (NN) to that of a Logistic Regression (LR) model.\n",
    "\n",
    "### Requirements:\n",
    "- 'Kudzu' : A neural network library that was designed during our course by [Univ.AI](www.univ.ai). \n",
    "- MNIST Database\n",
    "\n",
    "If MNIST is not installed, use the command `!pip install mnist` given below.\n",
    "It can be run both from the command line and Jupyter Notebook."
   ]
  },
  {
   "cell_type": "code",
   "execution_count": 1,
   "metadata": {
    "execution": {
     "iopub.execute_input": "2020-11-05T20:04:00.325630Z",
     "iopub.status.busy": "2020-11-05T20:04:00.324929Z",
     "iopub.status.idle": "2020-11-05T20:04:01.775069Z",
     "shell.execute_reply": "2020-11-05T20:04:01.773923Z"
    },
    "papermill": {
     "duration": 1.481811,
     "end_time": "2020-11-05T20:04:01.775228",
     "exception": false,
     "start_time": "2020-11-05T20:04:00.293417",
     "status": "completed"
    },
    "tags": []
   },
   "outputs": [
    {
     "name": "stdout",
     "output_type": "stream",
     "text": [
      "Collecting mnist\r\n",
      "  Downloading mnist-0.2.2-py2.py3-none-any.whl (3.5 kB)\r\n"
     ]
    },
    {
     "name": "stdout",
     "output_type": "stream",
     "text": [
      "Requirement already satisfied: numpy in /opt/hostedtoolcache/Python/3.6.12/x64/lib/python3.6/site-packages (from mnist) (1.19.4)\r\n"
     ]
    },
    {
     "name": "stdout",
     "output_type": "stream",
     "text": [
      "Installing collected packages: mnist\r\n"
     ]
    },
    {
     "name": "stdout",
     "output_type": "stream",
     "text": [
      "Successfully installed mnist-0.2.2\r\n"
     ]
    }
   ],
   "source": [
    "!pip install mnist "
   ]
  },
  {
   "cell_type": "markdown",
   "metadata": {
    "papermill": {
     "duration": 0.027945,
     "end_time": "2020-11-05T20:04:01.832748",
     "exception": false,
     "start_time": "2020-11-05T20:04:01.804803",
     "status": "completed"
    },
    "tags": []
   },
   "source": [
    "#### Importing necessary libraries"
   ]
  },
  {
   "cell_type": "code",
   "execution_count": 2,
   "metadata": {
    "execution": {
     "iopub.execute_input": "2020-11-05T20:04:01.893220Z",
     "iopub.status.busy": "2020-11-05T20:04:01.892398Z",
     "iopub.status.idle": "2020-11-05T20:04:02.483374Z",
     "shell.execute_reply": "2020-11-05T20:04:02.482870Z"
    },
    "papermill": {
     "duration": 0.623464,
     "end_time": "2020-11-05T20:04:02.483509",
     "exception": false,
     "start_time": "2020-11-05T20:04:01.860045",
     "status": "completed"
    },
    "tags": []
   },
   "outputs": [],
   "source": [
    "%load_ext autoreload\n",
    "%autoreload 2\n",
    "\n",
    "%matplotlib inline\n",
    "import matplotlib.pyplot as plt\n",
    "\n",
    "import numpy as np\n",
    "import pandas as pd"
   ]
  },
  {
   "cell_type": "markdown",
   "metadata": {
    "papermill": {
     "duration": 0.02696,
     "end_time": "2020-11-05T20:04:02.539145",
     "exception": false,
     "start_time": "2020-11-05T20:04:02.512185",
     "status": "completed"
    },
    "tags": []
   },
   "source": [
    "### Preparing the Data"
   ]
  },
  {
   "cell_type": "code",
   "execution_count": 3,
   "metadata": {
    "execution": {
     "iopub.execute_input": "2020-11-05T20:04:02.609980Z",
     "iopub.status.busy": "2020-11-05T20:04:02.609445Z",
     "iopub.status.idle": "2020-11-05T20:04:02.617310Z",
     "shell.execute_reply": "2020-11-05T20:04:02.617960Z"
    },
    "papermill": {
     "duration": 0.050324,
     "end_time": "2020-11-05T20:04:02.618136",
     "exception": false,
     "start_time": "2020-11-05T20:04:02.567812",
     "status": "completed"
    },
    "tags": []
   },
   "outputs": [],
   "source": [
    "import mnist"
   ]
  },
  {
   "cell_type": "code",
   "execution_count": 4,
   "metadata": {
    "execution": {
     "iopub.execute_input": "2020-11-05T20:04:02.681882Z",
     "iopub.status.busy": "2020-11-05T20:04:02.680932Z",
     "iopub.status.idle": "2020-11-05T20:04:04.287839Z",
     "shell.execute_reply": "2020-11-05T20:04:04.288386Z"
    },
    "papermill": {
     "duration": 1.639119,
     "end_time": "2020-11-05T20:04:04.288564",
     "exception": false,
     "start_time": "2020-11-05T20:04:02.649445",
     "status": "completed"
    },
    "tags": []
   },
   "outputs": [],
   "source": [
    "train_images = mnist.train_images()\n",
    "train_labels = mnist.train_labels()"
   ]
  },
  {
   "cell_type": "code",
   "execution_count": 5,
   "metadata": {
    "execution": {
     "iopub.execute_input": "2020-11-05T20:04:04.349702Z",
     "iopub.status.busy": "2020-11-05T20:04:04.348451Z",
     "iopub.status.idle": "2020-11-05T20:04:04.363197Z",
     "shell.execute_reply": "2020-11-05T20:04:04.362720Z"
    },
    "papermill": {
     "duration": 0.047809,
     "end_time": "2020-11-05T20:04:04.363317",
     "exception": false,
     "start_time": "2020-11-05T20:04:04.315508",
     "status": "completed"
    },
    "tags": []
   },
   "outputs": [
    {
     "data": {
      "text/plain": [
       "((60000, 28, 28), (60000,))"
      ]
     },
     "execution_count": 5,
     "metadata": {},
     "output_type": "execute_result"
    }
   ],
   "source": [
    "train_images.shape, train_labels.shape"
   ]
  },
  {
   "cell_type": "code",
   "execution_count": 6,
   "metadata": {
    "execution": {
     "iopub.execute_input": "2020-11-05T20:04:04.422243Z",
     "iopub.status.busy": "2020-11-05T20:04:04.421522Z",
     "iopub.status.idle": "2020-11-05T20:04:05.238077Z",
     "shell.execute_reply": "2020-11-05T20:04:05.237460Z"
    },
    "papermill": {
     "duration": 0.847881,
     "end_time": "2020-11-05T20:04:05.238305",
     "exception": false,
     "start_time": "2020-11-05T20:04:04.390424",
     "status": "completed"
    },
    "tags": []
   },
   "outputs": [],
   "source": [
    "test_images = mnist.test_images()\n",
    "test_labels = mnist.test_labels()"
   ]
  },
  {
   "cell_type": "code",
   "execution_count": 7,
   "metadata": {
    "execution": {
     "iopub.execute_input": "2020-11-05T20:04:05.550778Z",
     "iopub.status.busy": "2020-11-05T20:04:05.549967Z",
     "iopub.status.idle": "2020-11-05T20:04:05.564132Z",
     "shell.execute_reply": "2020-11-05T20:04:05.564662Z"
    },
    "papermill": {
     "duration": 0.295855,
     "end_time": "2020-11-05T20:04:05.564824",
     "exception": false,
     "start_time": "2020-11-05T20:04:05.268969",
     "status": "completed"
    },
    "tags": []
   },
   "outputs": [
    {
     "data": {
      "text/plain": [
       "((10000, 28, 28), (10000,))"
      ]
     },
     "execution_count": 7,
     "metadata": {},
     "output_type": "execute_result"
    }
   ],
   "source": [
    "test_images.shape, test_labels.shape"
   ]
  },
  {
   "cell_type": "code",
   "execution_count": 8,
   "metadata": {
    "execution": {
     "iopub.execute_input": "2020-11-05T20:04:05.633618Z",
     "iopub.status.busy": "2020-11-05T20:04:05.632915Z",
     "iopub.status.idle": "2020-11-05T20:04:05.816390Z",
     "shell.execute_reply": "2020-11-05T20:04:05.815838Z"
    },
    "papermill": {
     "duration": 0.221021,
     "end_time": "2020-11-05T20:04:05.816533",
     "exception": false,
     "start_time": "2020-11-05T20:04:05.595512",
     "status": "completed"
    },
    "tags": []
   },
   "outputs": [
    {
     "name": "stdout",
     "output_type": "stream",
     "text": [
      "2\n"
     ]
    },
    {
     "data": {
      "text/plain": [
       "<matplotlib.image.AxesImage at 0x7faf74a78470>"
      ]
     },
     "execution_count": 8,
     "metadata": {},
     "output_type": "execute_result"
    },
    {
     "data": {
      "image/png": "[encoded data removed]",
      "text/plain": [
       "<Figure size 432x288 with 1 Axes>"
      ]
     },
     "metadata": {
      "needs_background": "light"
     },
     "output_type": "display_data"
    }
   ],
   "source": [
    "image_index = 7776 # You may select anything up to 60,000\n",
    "print(train_labels[image_index]) \n",
    "plt.imshow(train_images[image_index], cmap='Greys')"
   ]
  },
  {
   "cell_type": "markdown",
   "metadata": {
    "papermill": {
     "duration": 0.031476,
     "end_time": "2020-11-05T20:04:05.881545",
     "exception": false,
     "start_time": "2020-11-05T20:04:05.850069",
     "status": "completed"
    },
    "tags": []
   },
   "source": [
    "## Filter data to get 3 and 8 out"
   ]
  },
  {
   "cell_type": "code",
   "execution_count": 9,
   "metadata": {
    "execution": {
     "iopub.execute_input": "2020-11-05T20:04:05.952290Z",
     "iopub.status.busy": "2020-11-05T20:04:05.951563Z",
     "iopub.status.idle": "2020-11-05T20:04:05.969246Z",
     "shell.execute_reply": "2020-11-05T20:04:05.969809Z"
    },
    "papermill": {
     "duration": 0.053382,
     "end_time": "2020-11-05T20:04:05.969977",
     "exception": false,
     "start_time": "2020-11-05T20:04:05.916595",
     "status": "completed"
    },
    "tags": []
   },
   "outputs": [],
   "source": [
    "train_filter = np.where((train_labels == 3 ) | (train_labels == 8))\n",
    "test_filter = np.where((test_labels == 3) | (test_labels == 8))\n",
    "X_train, y_train = train_images[train_filter], train_labels[train_filter]\n",
    "X_test, y_test = test_images[test_filter], test_labels[test_filter]"
   ]
  },
  {
   "cell_type": "markdown",
   "metadata": {
    "papermill": {
     "duration": 0.032021,
     "end_time": "2020-11-05T20:04:06.036498",
     "exception": false,
     "start_time": "2020-11-05T20:04:06.004477",
     "status": "completed"
    },
    "tags": []
   },
   "source": [
    "We normalize the pixel values in the 0 to 1 range"
   ]
  },
  {
   "cell_type": "code",
   "execution_count": 10,
   "metadata": {
    "execution": {
     "iopub.execute_input": "2020-11-05T20:04:06.108545Z",
     "iopub.status.busy": "2020-11-05T20:04:06.107747Z",
     "iopub.status.idle": "2020-11-05T20:04:06.173995Z",
     "shell.execute_reply": "2020-11-05T20:04:06.174597Z"
    },
    "papermill": {
     "duration": 0.105405,
     "end_time": "2020-11-05T20:04:06.174793",
     "exception": false,
     "start_time": "2020-11-05T20:04:06.069388",
     "status": "completed"
    },
    "tags": []
   },
   "outputs": [],
   "source": [
    "X_train = X_train/255.\n",
    "X_test = X_test/255."
   ]
  },
  {
   "cell_type": "markdown",
   "metadata": {
    "papermill": {
     "duration": 0.028278,
     "end_time": "2020-11-05T20:04:06.233635",
     "exception": false,
     "start_time": "2020-11-05T20:04:06.205357",
     "status": "completed"
    },
    "tags": []
   },
   "source": [
    "Setup the labels as 1 (when the digit is 3) and 0 (when the digit is 8)"
   ]
  },
  {
   "cell_type": "code",
   "execution_count": 11,
   "metadata": {
    "execution": {
     "iopub.execute_input": "2020-11-05T20:04:06.294112Z",
     "iopub.status.busy": "2020-11-05T20:04:06.293524Z",
     "iopub.status.idle": "2020-11-05T20:04:06.304233Z",
     "shell.execute_reply": "2020-11-05T20:04:06.304764Z"
    },
    "papermill": {
     "duration": 0.042937,
     "end_time": "2020-11-05T20:04:06.304896",
     "exception": false,
     "start_time": "2020-11-05T20:04:06.261959",
     "status": "completed"
    },
    "tags": []
   },
   "outputs": [],
   "source": [
    "y_train = 1*(y_train==3)\n",
    "y_test = 1*(y_test==3)"
   ]
  },
  {
   "cell_type": "code",
   "execution_count": 12,
   "metadata": {
    "execution": {
     "iopub.execute_input": "2020-11-05T20:04:06.368423Z",
     "iopub.status.busy": "2020-11-05T20:04:06.367869Z",
     "iopub.status.idle": "2020-11-05T20:04:06.379536Z",
     "shell.execute_reply": "2020-11-05T20:04:06.379015Z"
    },
    "papermill": {
     "duration": 0.047666,
     "end_time": "2020-11-05T20:04:06.379655",
     "exception": false,
     "start_time": "2020-11-05T20:04:06.331989",
     "status": "completed"
    },
    "tags": []
   },
   "outputs": [
    {
     "data": {
      "text/plain": [
       "((11982, 28, 28), (1984, 28, 28))"
      ]
     },
     "execution_count": 12,
     "metadata": {},
     "output_type": "execute_result"
    }
   ],
   "source": [
    "X_train.shape, X_test.shape"
   ]
  },
  {
   "cell_type": "markdown",
   "metadata": {
    "papermill": {
     "duration": 0.029297,
     "end_time": "2020-11-05T20:04:06.437302",
     "exception": false,
     "start_time": "2020-11-05T20:04:06.408005",
     "status": "completed"
    },
    "tags": []
   },
   "source": [
    "### Reshape the input data to create a linear array"
   ]
  },
  {
   "cell_type": "code",
   "execution_count": 13,
   "metadata": {
    "execution": {
     "iopub.execute_input": "2020-11-05T20:04:06.504837Z",
     "iopub.status.busy": "2020-11-05T20:04:06.504228Z",
     "iopub.status.idle": "2020-11-05T20:04:06.516698Z",
     "shell.execute_reply": "2020-11-05T20:04:06.516157Z"
    },
    "papermill": {
     "duration": 0.04865,
     "end_time": "2020-11-05T20:04:06.516853",
     "exception": false,
     "start_time": "2020-11-05T20:04:06.468203",
     "status": "completed"
    },
    "tags": []
   },
   "outputs": [
    {
     "data": {
      "text/plain": [
       "((11982, 784), (1984, 784))"
      ]
     },
     "execution_count": 13,
     "metadata": {},
     "output_type": "execute_result"
    }
   ],
   "source": [
    "X_train = X_train.reshape(X_train.shape[0], -1)\n",
    "X_test = X_test.reshape(X_test.shape[0], -1)\n",
    "X_train.shape, X_test.shape"
   ]
  },
  {
   "cell_type": "markdown",
   "metadata": {
    "papermill": {
     "duration": 0.030776,
     "end_time": "2020-11-05T20:04:06.578745",
     "exception": false,
     "start_time": "2020-11-05T20:04:06.547969",
     "status": "completed"
    },
    "tags": []
   },
   "source": [
    "### Importing appropriate functions from 'Kudzu'"
   ]
  },
  {
   "cell_type": "code",
   "execution_count": 14,
   "metadata": {
    "execution": {
     "iopub.execute_input": "2020-11-05T20:04:06.659703Z",
     "iopub.status.busy": "2020-11-05T20:04:06.652772Z",
     "iopub.status.idle": "2020-11-05T20:04:06.670336Z",
     "shell.execute_reply": "2020-11-05T20:04:06.670824Z"
    },
    "papermill": {
     "duration": 0.060636,
     "end_time": "2020-11-05T20:04:06.670968",
     "exception": false,
     "start_time": "2020-11-05T20:04:06.610332",
     "status": "completed"
    },
    "tags": []
   },
   "outputs": [],
   "source": [
    "from kudzu.layer import Sigmoid\n",
    "from kudzu.layer import Relu\n",
    "from kudzu.layer import Affine, Sigmoid\n",
    "\n",
    "from kudzu.model import Model\n",
    "from kudzu.train import Learner\n",
    "from kudzu.optim import GD\n",
    "from kudzu.data import Data, Dataloader, Sampler\n",
    "\n",
    "from kudzu.callbacks import AccCallback\n",
    "from kudzu.callbacks import ClfCallback\n",
    "\n",
    "from kudzu.loss import MSE"
   ]
  },
  {
   "cell_type": "markdown",
   "metadata": {
    "papermill": {
     "duration": 0.030538,
     "end_time": "2020-11-05T20:04:06.731890",
     "exception": false,
     "start_time": "2020-11-05T20:04:06.701352",
     "status": "completed"
    },
    "tags": []
   },
   "source": [
    "### Let us create a `Config` class, to store important parameters. \n",
    "This class essentially plays the role of a dictionary."
   ]
  },
  {
   "cell_type": "code",
   "execution_count": 15,
   "metadata": {
    "execution": {
     "iopub.execute_input": "2020-11-05T20:04:06.803757Z",
     "iopub.status.busy": "2020-11-05T20:04:06.803067Z",
     "iopub.status.idle": "2020-11-05T20:04:06.814542Z",
     "shell.execute_reply": "2020-11-05T20:04:06.815178Z"
    },
    "papermill": {
     "duration": 0.05112,
     "end_time": "2020-11-05T20:04:06.815323",
     "exception": false,
     "start_time": "2020-11-05T20:04:06.764203",
     "status": "completed"
    },
    "tags": []
   },
   "outputs": [],
   "source": [
    "class Config:\n",
    "    pass\n",
    "config = Config()\n",
    "config.lr = 0.001\n",
    "config.num_epochs = 251\n",
    "config.bs = 50"
   ]
  },
  {
   "cell_type": "markdown",
   "metadata": {
    "papermill": {
     "duration": 0.033454,
     "end_time": "2020-11-05T20:04:06.881772",
     "exception": false,
     "start_time": "2020-11-05T20:04:06.848318",
     "status": "completed"
    },
    "tags": []
   },
   "source": [
    "### Initializing data to the variables"
   ]
  },
  {
   "cell_type": "code",
   "execution_count": 16,
   "metadata": {
    "execution": {
     "iopub.execute_input": "2020-11-05T20:04:06.950248Z",
     "iopub.status.busy": "2020-11-05T20:04:06.949450Z",
     "iopub.status.idle": "2020-11-05T20:04:06.960893Z",
     "shell.execute_reply": "2020-11-05T20:04:06.961461Z"
    },
    "papermill": {
     "duration": 0.047022,
     "end_time": "2020-11-05T20:04:06.961597",
     "exception": false,
     "start_time": "2020-11-05T20:04:06.914575",
     "status": "completed"
    },
    "tags": []
   },
   "outputs": [],
   "source": [
    "data = Data(X_train, y_train.reshape(-1,1))\n",
    "sampler = Sampler(data, config.bs, shuffle=True)\n",
    "\n",
    "dl = Dataloader(data, sampler)\n",
    "\n",
    "opt = GD(config.lr)\n",
    "loss = MSE()"
   ]
  },
  {
   "cell_type": "code",
   "execution_count": 17,
   "metadata": {
    "execution": {
     "iopub.execute_input": "2020-11-05T20:04:07.026853Z",
     "iopub.status.busy": "2020-11-05T20:04:07.026240Z",
     "iopub.status.idle": "2020-11-05T20:04:07.037648Z",
     "shell.execute_reply": "2020-11-05T20:04:07.037022Z"
    },
    "papermill": {
     "duration": 0.04812,
     "end_time": "2020-11-05T20:04:07.037791",
     "exception": false,
     "start_time": "2020-11-05T20:04:06.989671",
     "status": "completed"
    },
    "tags": []
   },
   "outputs": [],
   "source": [
    "training_xdata = X_train\n",
    "testing_xdata = X_test\n",
    "training_ydata = y_train.reshape(-1,1)\n",
    "testing_ydata = y_test.reshape(-1,1)"
   ]
  },
  {
   "cell_type": "markdown",
   "metadata": {
    "papermill": {
     "duration": 0.031371,
     "end_time": "2020-11-05T20:04:07.101556",
     "exception": false,
     "start_time": "2020-11-05T20:04:07.070185",
     "status": "completed"
    },
    "tags": []
   },
   "source": [
    "### Running Models with the Training data\n",
    "Details about the network layers:\n",
    "- A first affine layer has 784 inputs and does 100 affine transforms. These are followed by a Relu\n",
    "- A second affine layer has 100 inputs from the 100 activations of the past layer, and does 100 affine transforms. These are followed by a Relu\n",
    "- A third affine layer has 100 activations and does 2 affine transformations to create an embedding for visualization. There is no non-linearity here.\n",
    "- A final \"logistic regression\" which has an affine transform from 2 inputs to 1 output, which is squeezed through a sigmoid.\n",
    "\n",
    "Help taken from Anshuman's Notebook."
   ]
  },
  {
   "cell_type": "code",
   "execution_count": 18,
   "metadata": {
    "execution": {
     "iopub.execute_input": "2020-11-05T20:04:07.176482Z",
     "iopub.status.busy": "2020-11-05T20:04:07.175810Z",
     "iopub.status.idle": "2020-11-05T20:04:07.193184Z",
     "shell.execute_reply": "2020-11-05T20:04:07.192649Z"
    },
    "papermill": {
     "duration": 0.060108,
     "end_time": "2020-11-05T20:04:07.193316",
     "exception": false,
     "start_time": "2020-11-05T20:04:07.133208",
     "status": "completed"
    },
    "tags": []
   },
   "outputs": [],
   "source": [
    "# layers for the Neural Network\n",
    "layers = [Affine(\"first\", 784, 100), Relu(\"first\"), Affine(\"second\", 100, 100), Relu(\"second\"), Affine(\"third\", 100, 2), Affine(\"final\", 2, 1), Sigmoid(\"final\")]\n",
    "model_nn = Model(layers)\n",
    "\n",
    "# layers for the Logistic Regression\n",
    "layers_lr = [Affine(\"logits\", 784, 1), Sigmoid(\"sigmoid\")]\n",
    "model_lr = Model(layers_lr)"
   ]
  },
  {
   "cell_type": "code",
   "execution_count": 19,
   "metadata": {
    "execution": {
     "iopub.execute_input": "2020-11-05T20:04:07.262871Z",
     "iopub.status.busy": "2020-11-05T20:04:07.262169Z",
     "iopub.status.idle": "2020-11-05T20:04:07.272214Z",
     "shell.execute_reply": "2020-11-05T20:04:07.272757Z"
    },
    "papermill": {
     "duration": 0.049565,
     "end_time": "2020-11-05T20:04:07.272920",
     "exception": false,
     "start_time": "2020-11-05T20:04:07.223355",
     "status": "completed"
    },
    "tags": []
   },
   "outputs": [],
   "source": [
    "# suffix _nn stands for Neural Network.\n",
    "learner_nn = Learner(loss, model_nn, opt, config.num_epochs)\n",
    "acc_nn = ClfCallback(learner_nn, config.bs, training_xdata , testing_xdata, training_ydata, testing_ydata)\n",
    "learner_nn.set_callbacks([acc_nn])"
   ]
  },
  {
   "cell_type": "code",
   "execution_count": 20,
   "metadata": {
    "execution": {
     "iopub.execute_input": "2020-11-05T20:04:07.343127Z",
     "iopub.status.busy": "2020-11-05T20:04:07.342480Z",
     "iopub.status.idle": "2020-11-05T20:06:27.588331Z",
     "shell.execute_reply": "2020-11-05T20:06:27.589279Z"
    },
    "papermill": {
     "duration": 140.282757,
     "end_time": "2020-11-05T20:06:27.589506",
     "exception": false,
     "start_time": "2020-11-05T20:04:07.306749",
     "status": "completed"
    },
    "tags": []
   },
   "outputs": [
    {
     "name": "stdout",
     "output_type": "stream",
     "text": [
      "====== Neural Network ======\n"
     ]
    },
    {
     "name": "stdout",
     "output_type": "stream",
     "text": [
      "Epoch 0, Loss 0.2104\n",
      "Training Accuracy: 0.8237, Testing Accuracy: 0.8322\n",
      "\n"
     ]
    },
    {
     "name": "stdout",
     "output_type": "stream",
     "text": [
      "Epoch 10, Loss 0.0675\n",
      "Training Accuracy: 0.9373, Testing Accuracy: 0.9486\n",
      "\n"
     ]
    },
    {
     "name": "stdout",
     "output_type": "stream",
     "text": [
      "Epoch 20, Loss 0.0457\n",
      "Training Accuracy: 0.9524, Testing Accuracy: 0.9637\n",
      "\n"
     ]
    },
    {
     "name": "stdout",
     "output_type": "stream",
     "text": [
      "Epoch 30, Loss 0.0382\n",
      "Training Accuracy: 0.9575, Testing Accuracy: 0.9652\n",
      "\n"
     ]
    },
    {
     "name": "stdout",
     "output_type": "stream",
     "text": [
      "Epoch 40, Loss 0.0343\n",
      "Training Accuracy: 0.9610, Testing Accuracy: 0.9667\n",
      "\n"
     ]
    },
    {
     "name": "stdout",
     "output_type": "stream",
     "text": [
      "Epoch 50, Loss 0.0318\n",
      "Training Accuracy: 0.9634, Testing Accuracy: 0.9688\n",
      "\n"
     ]
    },
    {
     "name": "stdout",
     "output_type": "stream",
     "text": [
      "Epoch 60, Loss 0.03\n",
      "Training Accuracy: 0.9650, Testing Accuracy: 0.9698\n",
      "\n"
     ]
    },
    {
     "name": "stdout",
     "output_type": "stream",
     "text": [
      "Epoch 70, Loss 0.0286\n",
      "Training Accuracy: 0.9662, Testing Accuracy: 0.9703\n",
      "\n"
     ]
    },
    {
     "name": "stdout",
     "output_type": "stream",
     "text": [
      "Epoch 80, Loss 0.0275\n",
      "Training Accuracy: 0.9675, Testing Accuracy: 0.9708\n",
      "\n"
     ]
    },
    {
     "name": "stdout",
     "output_type": "stream",
     "text": [
      "Epoch 90, Loss 0.0265\n",
      "Training Accuracy: 0.9682, Testing Accuracy: 0.9703\n",
      "\n"
     ]
    },
    {
     "name": "stdout",
     "output_type": "stream",
     "text": [
      "Epoch 100, Loss 0.0257\n",
      "Training Accuracy: 0.9694, Testing Accuracy: 0.9708\n",
      "\n"
     ]
    },
    {
     "name": "stdout",
     "output_type": "stream",
     "text": [
      "Epoch 110, Loss 0.025\n",
      "Training Accuracy: 0.9703, Testing Accuracy: 0.9708\n",
      "\n"
     ]
    },
    {
     "name": "stdout",
     "output_type": "stream",
     "text": [
      "Epoch 120, Loss 0.0243\n",
      "Training Accuracy: 0.9711, Testing Accuracy: 0.9718\n",
      "\n"
     ]
    },
    {
     "name": "stdout",
     "output_type": "stream",
     "text": [
      "Epoch 130, Loss 0.0237\n",
      "Training Accuracy: 0.9719, Testing Accuracy: 0.9718\n",
      "\n"
     ]
    },
    {
     "name": "stdout",
     "output_type": "stream",
     "text": [
      "Epoch 140, Loss 0.0232\n",
      "Training Accuracy: 0.9725, Testing Accuracy: 0.9733\n",
      "\n"
     ]
    },
    {
     "name": "stdout",
     "output_type": "stream",
     "text": [
      "Epoch 150, Loss 0.0227\n",
      "Training Accuracy: 0.9728, Testing Accuracy: 0.9718\n",
      "\n"
     ]
    },
    {
     "name": "stdout",
     "output_type": "stream",
     "text": [
      "Epoch 160, Loss 0.0222\n",
      "Training Accuracy: 0.9734, Testing Accuracy: 0.9723\n",
      "\n"
     ]
    },
    {
     "name": "stdout",
     "output_type": "stream",
     "text": [
      "Epoch 170, Loss 0.0217\n",
      "Training Accuracy: 0.9741, Testing Accuracy: 0.9733\n",
      "\n"
     ]
    },
    {
     "name": "stdout",
     "output_type": "stream",
     "text": [
      "Epoch 180, Loss 0.0213\n",
      "Training Accuracy: 0.9755, Testing Accuracy: 0.9728\n",
      "\n"
     ]
    },
    {
     "name": "stdout",
     "output_type": "stream",
     "text": [
      "Epoch 190, Loss 0.0209\n",
      "Training Accuracy: 0.9761, Testing Accuracy: 0.9728\n",
      "\n"
     ]
    },
    {
     "name": "stdout",
     "output_type": "stream",
     "text": [
      "Epoch 200, Loss 0.0205\n",
      "Training Accuracy: 0.9766, Testing Accuracy: 0.9723\n",
      "\n"
     ]
    },
    {
     "name": "stdout",
     "output_type": "stream",
     "text": [
      "Epoch 210, Loss 0.0201\n",
      "Training Accuracy: 0.9773, Testing Accuracy: 0.9728\n",
      "\n"
     ]
    },
    {
     "name": "stdout",
     "output_type": "stream",
     "text": [
      "Epoch 220, Loss 0.0197\n",
      "Training Accuracy: 0.9776, Testing Accuracy: 0.9733\n",
      "\n"
     ]
    },
    {
     "name": "stdout",
     "output_type": "stream",
     "text": [
      "Epoch 230, Loss 0.0194\n",
      "Training Accuracy: 0.9784, Testing Accuracy: 0.9728\n",
      "\n"
     ]
    },
    {
     "name": "stdout",
     "output_type": "stream",
     "text": [
      "Epoch 240, Loss 0.019\n",
      "Training Accuracy: 0.9786, Testing Accuracy: 0.9728\n",
      "\n"
     ]
    },
    {
     "name": "stdout",
     "output_type": "stream",
     "text": [
      "Epoch 250, Loss 0.0187\n",
      "Training Accuracy: 0.9791, Testing Accuracy: 0.9743\n",
      "\n"
     ]
    },
    {
     "data": {
      "text/plain": [
       "0.013429090402557319"
      ]
     },
     "execution_count": 20,
     "metadata": {},
     "output_type": "execute_result"
    }
   ],
   "source": [
    "print(\"====== Neural Network ======\")\n",
    "learner_nn.train_loop(dl)"
   ]
  },
  {
   "cell_type": "markdown",
   "metadata": {
    "papermill": {
     "duration": 0.037273,
     "end_time": "2020-11-05T20:06:27.666300",
     "exception": false,
     "start_time": "2020-11-05T20:06:27.629027",
     "status": "completed"
    },
    "tags": []
   },
   "source": [
    "### Logistic Regression based Implementation."
   ]
  },
  {
   "cell_type": "code",
   "execution_count": 21,
   "metadata": {
    "execution": {
     "iopub.execute_input": "2020-11-05T20:06:27.750027Z",
     "iopub.status.busy": "2020-11-05T20:06:27.749371Z",
     "iopub.status.idle": "2020-11-05T20:06:27.760530Z",
     "shell.execute_reply": "2020-11-05T20:06:27.761441Z"
    },
    "papermill": {
     "duration": 0.056163,
     "end_time": "2020-11-05T20:06:27.761715",
     "exception": false,
     "start_time": "2020-11-05T20:06:27.705552",
     "status": "completed"
    },
    "tags": []
   },
   "outputs": [],
   "source": [
    "learner_lr = Learner(loss, model_lr, opt, config.num_epochs)\n",
    "acc_lr = ClfCallback(learner_lr, config.bs, training_xdata , testing_xdata, training_ydata, testing_ydata)\n",
    "learner_lr.set_callbacks([acc_lr])"
   ]
  },
  {
   "cell_type": "code",
   "execution_count": 22,
   "metadata": {
    "execution": {
     "iopub.execute_input": "2020-11-05T20:06:27.847013Z",
     "iopub.status.busy": "2020-11-05T20:06:27.845186Z",
     "iopub.status.idle": "2020-11-05T20:06:48.190905Z",
     "shell.execute_reply": "2020-11-05T20:06:48.190288Z"
    },
    "papermill": {
     "duration": 20.390991,
     "end_time": "2020-11-05T20:06:48.191045",
     "exception": false,
     "start_time": "2020-11-05T20:06:27.800054",
     "status": "completed"
    },
    "tags": []
   },
   "outputs": [
    {
     "name": "stdout",
     "output_type": "stream",
     "text": [
      "====== Logistic Regression ======\n",
      "Epoch 0, Loss 0.2356\n",
      "Training Accuracy: 0.7248, Testing Accuracy: 0.7142\n",
      "\n"
     ]
    },
    {
     "name": "stdout",
     "output_type": "stream",
     "text": [
      "Epoch 10, Loss 0.1056\n",
      "Training Accuracy: 0.9004, Testing Accuracy: 0.9027\n",
      "\n"
     ]
    },
    {
     "name": "stdout",
     "output_type": "stream",
     "text": [
      "Epoch 20, Loss 0.0814\n",
      "Training Accuracy: 0.9214, Testing Accuracy: 0.9284\n",
      "\n"
     ]
    },
    {
     "name": "stdout",
     "output_type": "stream",
     "text": [
      "Epoch 30, Loss 0.0699\n",
      "Training Accuracy: 0.9323, Testing Accuracy: 0.9425\n",
      "\n"
     ]
    },
    {
     "name": "stdout",
     "output_type": "stream",
     "text": [
      "Epoch 40, Loss 0.063\n",
      "Training Accuracy: 0.9392, Testing Accuracy: 0.9501\n",
      "\n"
     ]
    },
    {
     "name": "stdout",
     "output_type": "stream",
     "text": [
      "Epoch 50, Loss 0.0582\n",
      "Training Accuracy: 0.9434, Testing Accuracy: 0.9536\n",
      "\n"
     ]
    },
    {
     "name": "stdout",
     "output_type": "stream",
     "text": [
      "Epoch 60, Loss 0.0547\n",
      "Training Accuracy: 0.9458, Testing Accuracy: 0.9561\n",
      "\n"
     ]
    },
    {
     "name": "stdout",
     "output_type": "stream",
     "text": [
      "Epoch 70, Loss 0.0521\n",
      "Training Accuracy: 0.9478, Testing Accuracy: 0.9572\n",
      "\n"
     ]
    },
    {
     "name": "stdout",
     "output_type": "stream",
     "text": [
      "Epoch 80, Loss 0.0499\n",
      "Training Accuracy: 0.9493, Testing Accuracy: 0.9597\n",
      "\n"
     ]
    },
    {
     "name": "stdout",
     "output_type": "stream",
     "text": [
      "Epoch 90, Loss 0.0481\n",
      "Training Accuracy: 0.9506, Testing Accuracy: 0.9612\n",
      "\n"
     ]
    },
    {
     "name": "stdout",
     "output_type": "stream",
     "text": [
      "Epoch 100, Loss 0.0467\n",
      "Training Accuracy: 0.9518, Testing Accuracy: 0.9627\n",
      "\n"
     ]
    },
    {
     "name": "stdout",
     "output_type": "stream",
     "text": [
      "Epoch 110, Loss 0.0454\n",
      "Training Accuracy: 0.9537, Testing Accuracy: 0.9647\n",
      "\n"
     ]
    },
    {
     "name": "stdout",
     "output_type": "stream",
     "text": [
      "Epoch 120, Loss 0.0443\n",
      "Training Accuracy: 0.9543, Testing Accuracy: 0.9647\n",
      "\n"
     ]
    },
    {
     "name": "stdout",
     "output_type": "stream",
     "text": [
      "Epoch 130, Loss 0.0433\n",
      "Training Accuracy: 0.9555, Testing Accuracy: 0.9647\n",
      "\n"
     ]
    },
    {
     "name": "stdout",
     "output_type": "stream",
     "text": [
      "Epoch 140, Loss 0.0424\n",
      "Training Accuracy: 0.9561, Testing Accuracy: 0.9652\n",
      "\n"
     ]
    },
    {
     "name": "stdout",
     "output_type": "stream",
     "text": [
      "Epoch 150, Loss 0.0417\n",
      "Training Accuracy: 0.9568, Testing Accuracy: 0.9647\n",
      "\n"
     ]
    },
    {
     "name": "stdout",
     "output_type": "stream",
     "text": [
      "Epoch 160, Loss 0.041\n",
      "Training Accuracy: 0.9573, Testing Accuracy: 0.9652\n",
      "\n"
     ]
    },
    {
     "name": "stdout",
     "output_type": "stream",
     "text": [
      "Epoch 170, Loss 0.0403\n",
      "Training Accuracy: 0.9578, Testing Accuracy: 0.9657\n",
      "\n"
     ]
    },
    {
     "name": "stdout",
     "output_type": "stream",
     "text": [
      "Epoch 180, Loss 0.0398\n",
      "Training Accuracy: 0.9584, Testing Accuracy: 0.9657\n",
      "\n"
     ]
    },
    {
     "name": "stdout",
     "output_type": "stream",
     "text": [
      "Epoch 190, Loss 0.0392\n",
      "Training Accuracy: 0.9588, Testing Accuracy: 0.9667\n",
      "\n"
     ]
    },
    {
     "name": "stdout",
     "output_type": "stream",
     "text": [
      "Epoch 200, Loss 0.0387\n",
      "Training Accuracy: 0.9590, Testing Accuracy: 0.9677\n",
      "\n"
     ]
    },
    {
     "name": "stdout",
     "output_type": "stream",
     "text": [
      "Epoch 210, Loss 0.0383\n",
      "Training Accuracy: 0.9598, Testing Accuracy: 0.9677\n",
      "\n"
     ]
    },
    {
     "name": "stdout",
     "output_type": "stream",
     "text": [
      "Epoch 220, Loss 0.0378\n",
      "Training Accuracy: 0.9600, Testing Accuracy: 0.9677\n",
      "\n"
     ]
    },
    {
     "name": "stdout",
     "output_type": "stream",
     "text": [
      "Epoch 230, Loss 0.0375\n",
      "Training Accuracy: 0.9603, Testing Accuracy: 0.9677\n",
      "\n"
     ]
    },
    {
     "name": "stdout",
     "output_type": "stream",
     "text": [
      "Epoch 240, Loss 0.0371\n",
      "Training Accuracy: 0.9605, Testing Accuracy: 0.9677\n",
      "\n"
     ]
    },
    {
     "name": "stdout",
     "output_type": "stream",
     "text": [
      "Epoch 250, Loss 0.0367\n",
      "Training Accuracy: 0.9612, Testing Accuracy: 0.9677\n",
      "\n"
     ]
    },
    {
     "data": {
      "text/plain": [
       "0.03831195432622808"
      ]
     },
     "execution_count": 22,
     "metadata": {},
     "output_type": "execute_result"
    }
   ],
   "source": [
    "print(\"====== Logistic Regression ======\")\n",
    "learner_lr.train_loop(dl)"
   ]
  },
  {
   "cell_type": "markdown",
   "metadata": {
    "papermill": {
     "duration": 0.045747,
     "end_time": "2020-11-05T20:06:48.284818",
     "exception": false,
     "start_time": "2020-11-05T20:06:48.239071",
     "status": "completed"
    },
    "tags": []
   },
   "source": [
    "### Comparing results of NN and LR"
   ]
  },
  {
   "cell_type": "code",
   "execution_count": 23,
   "metadata": {
    "execution": {
     "iopub.execute_input": "2020-11-05T20:06:48.388092Z",
     "iopub.status.busy": "2020-11-05T20:06:48.387392Z",
     "iopub.status.idle": "2020-11-05T20:06:48.659562Z",
     "shell.execute_reply": "2020-11-05T20:06:48.660038Z"
    },
    "papermill": {
     "duration": 0.32488,
     "end_time": "2020-11-05T20:06:48.660199",
     "exception": false,
     "start_time": "2020-11-05T20:06:48.335319",
     "status": "completed"
    },
    "tags": []
   },
   "outputs": [
    {
     "data": {
      "text/plain": [
       "<matplotlib.legend.Legend at 0x7faf6d2580b8>"
      ]
     },
     "execution_count": 23,
     "metadata": {},
     "output_type": "execute_result"
    },
    {
     "data": {
      "image/png": "[encoded data removed]",
      "text/plain": [
       "<Figure size 1080x720 with 1 Axes>"
      ]
     },
     "metadata": {
      "needs_background": "light"
     },
     "output_type": "display_data"
    }
   ],
   "source": [
    "plt.figure(figsize=(15,10))\n",
    "\n",
    "# Neural Network plots\n",
    "plt.plot(acc_nn.accuracies, 'r-', label = \"Training Accuracies - NN\")\n",
    "plt.plot(acc_nn.test_accuracies, 'g-', label = \"Testing Accuracies - NN\")\n",
    "\n",
    "# Logistic Regression plots\n",
    "plt.plot(acc_lr.accuracies, 'k-', label = \"Training Accuracies - LR\")\n",
    "plt.plot(acc_lr.test_accuracies, 'b-', label = \"Testing Accuracies - LR\")\n",
    "\n",
    "plt.ylim(0.8, 1)\n",
    "\n",
    "plt.legend()\n",
    "\n"
   ]
  },
  {
   "cell_type": "markdown",
   "metadata": {
    "papermill": {
     "duration": 0.048231,
     "end_time": "2020-11-05T20:06:48.757527",
     "exception": false,
     "start_time": "2020-11-05T20:06:48.709296",
     "status": "completed"
    },
    "tags": []
   },
   "source": [
    "### From the plot, we can observe the following:\n",
    "- Neural Network achieves higher accuracy than the Logistic Regression model.\n",
    "- This apparently, is because of overfitting, i.e. NN captures more noise than data.\n",
    "- Testing accuracy of NN drops below the Training accuracy at higher epochs. This explains the over-fitting on training data.\n",
    "- Logistic Regression gives a reliable accuracy, without the above mentioned problem.\n"
   ]
  },
  {
   "cell_type": "markdown",
   "metadata": {
    "papermill": {
     "duration": 0.051359,
     "end_time": "2020-11-05T20:06:48.857580",
     "exception": false,
     "start_time": "2020-11-05T20:06:48.806221",
     "status": "completed"
    },
    "tags": []
   },
   "source": [
    "### Moving till the last but one layer (excluding it).\n",
    "#### Plotting the outputs of this layer of the NN."
   ]
  },
  {
   "cell_type": "code",
   "execution_count": 24,
   "metadata": {
    "execution": {
     "iopub.execute_input": "2020-11-05T20:06:48.956995Z",
     "iopub.status.busy": "2020-11-05T20:06:48.956387Z",
     "iopub.status.idle": "2020-11-05T20:06:48.969742Z",
     "shell.execute_reply": "2020-11-05T20:06:48.969090Z"
    },
    "papermill": {
     "duration": 0.066636,
     "end_time": "2020-11-05T20:06:48.969891",
     "exception": false,
     "start_time": "2020-11-05T20:06:48.903255",
     "status": "completed"
    },
    "tags": []
   },
   "outputs": [],
   "source": [
    "model_new = Model(layers[:-2])"
   ]
  },
  {
   "cell_type": "code",
   "execution_count": 25,
   "metadata": {
    "execution": {
     "iopub.execute_input": "2020-11-05T20:06:49.066848Z",
     "iopub.status.busy": "2020-11-05T20:06:49.066237Z",
     "iopub.status.idle": "2020-11-05T20:06:49.091861Z",
     "shell.execute_reply": "2020-11-05T20:06:49.092603Z"
    },
    "papermill": {
     "duration": 0.07604,
     "end_time": "2020-11-05T20:06:49.092762",
     "exception": false,
     "start_time": "2020-11-05T20:06:49.016722",
     "status": "completed"
    },
    "tags": []
   },
   "outputs": [],
   "source": [
    "plot_testing = model_new(testing_xdata)"
   ]
  },
  {
   "cell_type": "code",
   "execution_count": 26,
   "metadata": {
    "execution": {
     "iopub.execute_input": "2020-11-05T20:06:49.199462Z",
     "iopub.status.busy": "2020-11-05T20:06:49.198845Z",
     "iopub.status.idle": "2020-11-05T20:06:49.397829Z",
     "shell.execute_reply": "2020-11-05T20:06:49.398385Z"
    },
    "papermill": {
     "duration": 0.25772,
     "end_time": "2020-11-05T20:06:49.398533",
     "exception": false,
     "start_time": "2020-11-05T20:06:49.140813",
     "status": "completed"
    },
    "tags": []
   },
   "outputs": [
    {
     "data": {
      "text/plain": [
       "Text(0.5, 1.0, 'Outputs')"
      ]
     },
     "execution_count": 26,
     "metadata": {},
     "output_type": "execute_result"
    },
    {
     "data": {
      "image/png": "[encoded data removed]",
      "text/plain": [
       "<Figure size 576x504 with 1 Axes>"
      ]
     },
     "metadata": {
      "needs_background": "light"
     },
     "output_type": "display_data"
    }
   ],
   "source": [
    "plt.figure(figsize=(8,7))\n",
    "plt.scatter(plot_testing[:,0], plot_testing[:,1], alpha = 0.1, c = y_test.ravel());\n",
    "plt.title('Outputs')"
   ]
  },
  {
   "cell_type": "markdown",
   "metadata": {
    "papermill": {
     "duration": 0.04754,
     "end_time": "2020-11-05T20:06:49.497809",
     "exception": false,
     "start_time": "2020-11-05T20:06:49.450269",
     "status": "completed"
    },
    "tags": []
   },
   "source": [
    "### Plotting probability contours"
   ]
  },
  {
   "cell_type": "code",
   "execution_count": 27,
   "metadata": {
    "execution": {
     "iopub.execute_input": "2020-11-05T20:06:49.602399Z",
     "iopub.status.busy": "2020-11-05T20:06:49.601481Z",
     "iopub.status.idle": "2020-11-05T20:06:49.613055Z",
     "shell.execute_reply": "2020-11-05T20:06:49.613674Z"
    },
    "papermill": {
     "duration": 0.066708,
     "end_time": "2020-11-05T20:06:49.613804",
     "exception": false,
     "start_time": "2020-11-05T20:06:49.547096",
     "status": "completed"
    },
    "tags": []
   },
   "outputs": [],
   "source": [
    "model_prob = Model(layers[-2:]) "
   ]
  },
  {
   "cell_type": "code",
   "execution_count": 28,
   "metadata": {
    "execution": {
     "iopub.execute_input": "2020-11-05T20:06:49.713190Z",
     "iopub.status.busy": "2020-11-05T20:06:49.712621Z",
     "iopub.status.idle": "2020-11-05T20:06:49.725948Z",
     "shell.execute_reply": "2020-11-05T20:06:49.726413Z"
    },
    "papermill": {
     "duration": 0.065314,
     "end_time": "2020-11-05T20:06:49.726572",
     "exception": false,
     "start_time": "2020-11-05T20:06:49.661258",
     "status": "completed"
    },
    "tags": []
   },
   "outputs": [],
   "source": [
    "# Adjust the x and y ranges according to the above generated plot.\n",
    "x_range = np.linspace(-4, 1, 100) \n",
    "y_range = np.linspace(-6, 6, 100) \n",
    "x_grid, y_grid = np.meshgrid(x_range, y_range) # x_grid and y_grig are of size 100 X 100\n",
    "\n",
    "# converting x_grid and y_grid to continuous arrays\n",
    "x_grid_flat = np.ravel(x_grid)\n",
    "y_grid_flat = np.ravel(y_grid)\n",
    "\n",
    "# The last layer of the current model takes two columns as input. Hence transpose of np.vstack() is required.\n",
    "X = np.vstack((x_grid_flat, y_grid_flat)).T\n",
    "\n",
    "# x_grid and y_grid are of size 100 x 100\n",
    "probability_contour = model_prob(X).reshape(100,100) "
   ]
  },
  {
   "cell_type": "code",
   "execution_count": 29,
   "metadata": {
    "execution": {
     "iopub.execute_input": "2020-11-05T20:06:49.841699Z",
     "iopub.status.busy": "2020-11-05T20:06:49.840735Z",
     "iopub.status.idle": "2020-11-05T20:06:50.115803Z",
     "shell.execute_reply": "2020-11-05T20:06:50.116256Z"
    },
    "papermill": {
     "duration": 0.339879,
     "end_time": "2020-11-05T20:06:50.116413",
     "exception": false,
     "start_time": "2020-11-05T20:06:49.776534",
     "status": "completed"
    },
    "tags": []
   },
   "outputs": [
    {
     "data": {
      "image/png": "[encoded data removed]",
      "text/plain": [
       "<Figure size 720x648 with 1 Axes>"
      ]
     },
     "metadata": {
      "needs_background": "light"
     },
     "output_type": "display_data"
    }
   ],
   "source": [
    "plt.figure(figsize=(10,9))\n",
    "plt.scatter(plot_testing[:,0], plot_testing[:,1], alpha = 0.1, c = y_test.ravel())\n",
    "contours = plt.contour(x_grid,y_grid,probability_contour)\n",
    "plt.title('Probability Contours')\n",
    "plt.clabel(contours, inline = True );"
   ]
  }
 ],
 "metadata": {
  "kernelspec": {
   "display_name": "Python 3",
   "language": "python",
   "name": "python3"
  },
  "language_info": {
   "codemirror_mode": {
    "name": "ipython",
    "version": 3
   },
   "file_extension": ".py",
   "mimetype": "text/x-python",
   "name": "python",
   "nbconvert_exporter": "python",
   "pygments_lexer": "ipython3",
   "version": "3.6.12"
  },
  "papermill": {
   "duration": 171.882367,
   "end_time": "2020-11-05T20:06:50.600863",
   "environment_variables": {},
   "exception": null,
   "input_path": "2020-08-11-NeuralNetwork.ipynb",
   "output_path": "2020-08-11-NeuralNetwork.ipynb",
   "parameters": {},
   "start_time": "2020-11-05T20:03:58.718496",
   "version": "2.1.2"
  }
 },
 "nbformat": 4,
 "nbformat_minor": 4
}