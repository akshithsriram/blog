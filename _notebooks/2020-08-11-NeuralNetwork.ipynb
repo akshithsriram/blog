{
 "cells": [
  {
   "cell_type": "markdown",
   "metadata": {
    "papermill": {
     "duration": 0.037347,
     "end_time": "2020-09-03T00:05:57.195739",
     "exception": false,
     "start_time": "2020-09-03T00:05:57.158392",
     "status": "completed"
    },
    "tags": []
   },
   "source": [
    "# \"A Basic Neural Network: Differentiate Hand-Written Digits\"\n",
    "\n",
    "- badges: true\n",
    "- author: Akshith Sriram"
   ]
  },
  {
   "cell_type": "markdown",
   "metadata": {
    "papermill": {
     "duration": 0.046156,
     "end_time": "2020-09-03T00:05:57.307452",
     "exception": false,
     "start_time": "2020-09-03T00:05:57.261296",
     "status": "completed"
    },
    "tags": []
   },
   "source": [
    "### Key Objectives:\n",
    "- Building a neural network that differentiates two hand-written digits 3 and 8.\n",
    "- Comparing the results of this Neural Network (NN) to that of a Logistic Regression (LR) model.\n",
    "\n",
    "### Requirements:\n",
    "- 'Kudzu' : A neural network library that was designed during our course by [Univ.AI](www.univ.ai). \n",
    "- MNIST Database\n",
    "\n",
    "If MNIST is not installed, use the command `!pip install mnist` given below.\n",
    "It can be run both from the command line and Jupyter Notebook."
   ]
  },
  {
   "cell_type": "code",
   "execution_count": 1,
   "metadata": {
    "execution": {
     "iopub.execute_input": "2020-09-03T00:05:57.355082Z",
     "iopub.status.busy": "2020-09-03T00:05:57.354562Z",
     "iopub.status.idle": "2020-09-03T00:05:58.717041Z",
     "shell.execute_reply": "2020-09-03T00:05:58.716513Z"
    },
    "papermill": {
     "duration": 1.387888,
     "end_time": "2020-09-03T00:05:58.717202",
     "exception": false,
     "start_time": "2020-09-03T00:05:57.329314",
     "status": "completed"
    },
    "tags": []
   },
   "outputs": [
    {
     "name": "stdout",
     "output_type": "stream",
     "text": [
      "Collecting mnist\r\n"
     ]
    },
    {
     "name": "stdout",
     "output_type": "stream",
     "text": [
      "  Downloading mnist-0.2.2-py2.py3-none-any.whl (3.5 kB)\r\n"
     ]
    },
    {
     "name": "stdout",
     "output_type": "stream",
     "text": [
      "Requirement already satisfied: numpy in /opt/hostedtoolcache/Python/3.6.12/x64/lib/python3.6/site-packages (from mnist) (1.19.1)\r\n"
     ]
    },
    {
     "name": "stdout",
     "output_type": "stream",
     "text": [
      "Installing collected packages: mnist\r\n",
      "Successfully installed mnist-0.2.2\r\n"
     ]
    }
   ],
   "source": [
    "!pip install mnist "
   ]
  },
  {
   "cell_type": "markdown",
   "metadata": {
    "papermill": {
     "duration": 0.023033,
     "end_time": "2020-09-03T00:05:58.763419",
     "exception": false,
     "start_time": "2020-09-03T00:05:58.740386",
     "status": "completed"
    },
    "tags": []
   },
   "source": [
    "#### Importing necessary libraries"
   ]
  },
  {
   "cell_type": "code",
   "execution_count": 2,
   "metadata": {
    "execution": {
     "iopub.execute_input": "2020-09-03T00:05:58.824461Z",
     "iopub.status.busy": "2020-09-03T00:05:58.815723Z",
     "iopub.status.idle": "2020-09-03T00:05:59.296147Z",
     "shell.execute_reply": "2020-09-03T00:05:59.296605Z"
    },
    "papermill": {
     "duration": 0.509824,
     "end_time": "2020-09-03T00:05:59.296754",
     "exception": false,
     "start_time": "2020-09-03T00:05:58.786930",
     "status": "completed"
    },
    "tags": []
   },
   "outputs": [],
   "source": [
    "%load_ext autoreload\n",
    "%autoreload 2\n",
    "\n",
    "%matplotlib inline\n",
    "import matplotlib.pyplot as plt\n",
    "\n",
    "import numpy as np\n",
    "import pandas as pd"
   ]
  },
  {
   "cell_type": "markdown",
   "metadata": {
    "papermill": {
     "duration": 0.022941,
     "end_time": "2020-09-03T00:05:59.343407",
     "exception": false,
     "start_time": "2020-09-03T00:05:59.320466",
     "status": "completed"
    },
    "tags": []
   },
   "source": [
    "### Preparing the Data"
   ]
  },
  {
   "cell_type": "code",
   "execution_count": 3,
   "metadata": {
    "execution": {
     "iopub.execute_input": "2020-09-03T00:05:59.391359Z",
     "iopub.status.busy": "2020-09-03T00:05:59.390792Z",
     "iopub.status.idle": "2020-09-03T00:05:59.401009Z",
     "shell.execute_reply": "2020-09-03T00:05:59.400478Z"
    },
    "papermill": {
     "duration": 0.035267,
     "end_time": "2020-09-03T00:05:59.401118",
     "exception": false,
     "start_time": "2020-09-03T00:05:59.365851",
     "status": "completed"
    },
    "tags": []
   },
   "outputs": [],
   "source": [
    "import mnist"
   ]
  },
  {
   "cell_type": "code",
   "execution_count": 4,
   "metadata": {
    "execution": {
     "iopub.execute_input": "2020-09-03T00:05:59.466644Z",
     "iopub.status.busy": "2020-09-03T00:05:59.462620Z",
     "iopub.status.idle": "2020-09-03T00:06:00.149762Z",
     "shell.execute_reply": "2020-09-03T00:06:00.149285Z"
    },
    "papermill": {
     "duration": 0.725572,
     "end_time": "2020-09-03T00:06:00.149887",
     "exception": false,
     "start_time": "2020-09-03T00:05:59.424315",
     "status": "completed"
    },
    "tags": []
   },
   "outputs": [],
   "source": [
    "train_images = mnist.train_images()\n",
    "train_labels = mnist.train_labels()"
   ]
  },
  {
   "cell_type": "code",
   "execution_count": 5,
   "metadata": {
    "execution": {
     "iopub.execute_input": "2020-09-03T00:06:00.208827Z",
     "iopub.status.busy": "2020-09-03T00:06:00.208264Z",
     "iopub.status.idle": "2020-09-03T00:06:00.222238Z",
     "shell.execute_reply": "2020-09-03T00:06:00.222732Z"
    },
    "papermill": {
     "duration": 0.048607,
     "end_time": "2020-09-03T00:06:00.222848",
     "exception": false,
     "start_time": "2020-09-03T00:06:00.174241",
     "status": "completed"
    },
    "tags": []
   },
   "outputs": [
    {
     "data": {
      "text/plain": [
       "((60000, 28, 28), (60000,))"
      ]
     },
     "execution_count": 5,
     "metadata": {},
     "output_type": "execute_result"
    }
   ],
   "source": [
    "train_images.shape, train_labels.shape"
   ]
  },
  {
   "cell_type": "code",
   "execution_count": 6,
   "metadata": {
    "execution": {
     "iopub.execute_input": "2020-09-03T00:06:00.271255Z",
     "iopub.status.busy": "2020-09-03T00:06:00.270745Z",
     "iopub.status.idle": "2020-09-03T00:06:00.557721Z",
     "shell.execute_reply": "2020-09-03T00:06:00.557238Z"
    },
    "papermill": {
     "duration": 0.312269,
     "end_time": "2020-09-03T00:06:00.557846",
     "exception": false,
     "start_time": "2020-09-03T00:06:00.245577",
     "status": "completed"
    },
    "tags": []
   },
   "outputs": [],
   "source": [
    "test_images = mnist.test_images()\n",
    "test_labels = mnist.test_labels()"
   ]
  },
  {
   "cell_type": "code",
   "execution_count": 7,
   "metadata": {
    "execution": {
     "iopub.execute_input": "2020-09-03T00:06:00.607547Z",
     "iopub.status.busy": "2020-09-03T00:06:00.606977Z",
     "iopub.status.idle": "2020-09-03T00:06:00.618375Z",
     "shell.execute_reply": "2020-09-03T00:06:00.618868Z"
    },
    "papermill": {
     "duration": 0.03781,
     "end_time": "2020-09-03T00:06:00.618981",
     "exception": false,
     "start_time": "2020-09-03T00:06:00.581171",
     "status": "completed"
    },
    "tags": []
   },
   "outputs": [
    {
     "data": {
      "text/plain": [
       "((10000, 28, 28), (10000,))"
      ]
     },
     "execution_count": 7,
     "metadata": {},
     "output_type": "execute_result"
    }
   ],
   "source": [
    "test_images.shape, test_labels.shape"
   ]
  },
  {
   "cell_type": "code",
   "execution_count": 8,
   "metadata": {
    "execution": {
     "iopub.execute_input": "2020-09-03T00:06:00.668404Z",
     "iopub.status.busy": "2020-09-03T00:06:00.667891Z",
     "iopub.status.idle": "2020-09-03T00:06:00.824733Z",
     "shell.execute_reply": "2020-09-03T00:06:00.824307Z"
    },
    "papermill": {
     "duration": 0.183172,
     "end_time": "2020-09-03T00:06:00.824841",
     "exception": false,
     "start_time": "2020-09-03T00:06:00.641669",
     "status": "completed"
    },
    "tags": []
   },
   "outputs": [
    {
     "name": "stdout",
     "output_type": "stream",
     "text": [
      "2\n"
     ]
    },
    {
     "data": {
      "text/plain": [
       "<matplotlib.image.AxesImage at 0x7f4bc7c6cbe0>"
      ]
     },
     "execution_count": 8,
     "metadata": {},
     "output_type": "execute_result"
    },
    {
     "data": {
      "image/png": "[encoded data removed]",
      "text/plain": [
       "<Figure size 432x288 with 1 Axes>"
      ]
     },
     "metadata": {
      "needs_background": "light"
     },
     "output_type": "display_data"
    }
   ],
   "source": [
    "image_index = 7776 # You may select anything up to 60,000\n",
    "print(train_labels[image_index]) \n",
    "plt.imshow(train_images[image_index], cmap='Greys')"
   ]
  },
  {
   "cell_type": "markdown",
   "metadata": {
    "papermill": {
     "duration": 0.02484,
     "end_time": "2020-09-03T00:06:00.874082",
     "exception": false,
     "start_time": "2020-09-03T00:06:00.849242",
     "status": "completed"
    },
    "tags": []
   },
   "source": [
    "## Filter data to get 3 and 8 out"
   ]
  },
  {
   "cell_type": "code",
   "execution_count": 9,
   "metadata": {
    "execution": {
     "iopub.execute_input": "2020-09-03T00:06:00.932151Z",
     "iopub.status.busy": "2020-09-03T00:06:00.926433Z",
     "iopub.status.idle": "2020-09-03T00:06:00.939802Z",
     "shell.execute_reply": "2020-09-03T00:06:00.939272Z"
    },
    "papermill": {
     "duration": 0.040901,
     "end_time": "2020-09-03T00:06:00.939920",
     "exception": false,
     "start_time": "2020-09-03T00:06:00.899019",
     "status": "completed"
    },
    "tags": []
   },
   "outputs": [],
   "source": [
    "train_filter = np.where((train_labels == 3 ) | (train_labels == 8))\n",
    "test_filter = np.where((test_labels == 3) | (test_labels == 8))\n",
    "X_train, y_train = train_images[train_filter], train_labels[train_filter]\n",
    "X_test, y_test = test_images[test_filter], test_labels[test_filter]"
   ]
  },
  {
   "cell_type": "markdown",
   "metadata": {
    "papermill": {
     "duration": 0.024134,
     "end_time": "2020-09-03T00:06:00.989239",
     "exception": false,
     "start_time": "2020-09-03T00:06:00.965105",
     "status": "completed"
    },
    "tags": []
   },
   "source": [
    "We normalize the pixel values in the 0 to 1 range"
   ]
  },
  {
   "cell_type": "code",
   "execution_count": 10,
   "metadata": {
    "execution": {
     "iopub.execute_input": "2020-09-03T00:06:01.040542Z",
     "iopub.status.busy": "2020-09-03T00:06:01.040002Z",
     "iopub.status.idle": "2020-09-03T00:06:01.087905Z",
     "shell.execute_reply": "2020-09-03T00:06:01.087387Z"
    },
    "papermill": {
     "duration": 0.074494,
     "end_time": "2020-09-03T00:06:01.088034",
     "exception": false,
     "start_time": "2020-09-03T00:06:01.013540",
     "status": "completed"
    },
    "tags": []
   },
   "outputs": [],
   "source": [
    "X_train = X_train/255.\n",
    "X_test = X_test/255."
   ]
  },
  {
   "cell_type": "markdown",
   "metadata": {
    "papermill": {
     "duration": 0.02507,
     "end_time": "2020-09-03T00:06:01.139075",
     "exception": false,
     "start_time": "2020-09-03T00:06:01.114005",
     "status": "completed"
    },
    "tags": []
   },
   "source": [
    "Setup the labels as 1 (when the digit is 3) and 0 (when the digit is 8)"
   ]
  },
  {
   "cell_type": "code",
   "execution_count": 11,
   "metadata": {
    "execution": {
     "iopub.execute_input": "2020-09-03T00:06:01.192500Z",
     "iopub.status.busy": "2020-09-03T00:06:01.191941Z",
     "iopub.status.idle": "2020-09-03T00:06:01.208422Z",
     "shell.execute_reply": "2020-09-03T00:06:01.207966Z"
    },
    "papermill": {
     "duration": 0.0441,
     "end_time": "2020-09-03T00:06:01.208530",
     "exception": false,
     "start_time": "2020-09-03T00:06:01.164430",
     "status": "completed"
    },
    "tags": []
   },
   "outputs": [],
   "source": [
    "y_train = 1*(y_train==3)\n",
    "y_test = 1*(y_test==3)"
   ]
  },
  {
   "cell_type": "code",
   "execution_count": 12,
   "metadata": {
    "execution": {
     "iopub.execute_input": "2020-09-03T00:06:01.264161Z",
     "iopub.status.busy": "2020-09-03T00:06:01.263536Z",
     "iopub.status.idle": "2020-09-03T00:06:01.273659Z",
     "shell.execute_reply": "2020-09-03T00:06:01.274300Z"
    },
    "papermill": {
     "duration": 0.038645,
     "end_time": "2020-09-03T00:06:01.274434",
     "exception": false,
     "start_time": "2020-09-03T00:06:01.235789",
     "status": "completed"
    },
    "tags": []
   },
   "outputs": [
    {
     "data": {
      "text/plain": [
       "((11982, 28, 28), (1984, 28, 28))"
      ]
     },
     "execution_count": 12,
     "metadata": {},
     "output_type": "execute_result"
    }
   ],
   "source": [
    "X_train.shape, X_test.shape"
   ]
  },
  {
   "cell_type": "markdown",
   "metadata": {
    "papermill": {
     "duration": 0.02471,
     "end_time": "2020-09-03T00:06:01.324198",
     "exception": false,
     "start_time": "2020-09-03T00:06:01.299488",
     "status": "completed"
    },
    "tags": []
   },
   "source": [
    "### Reshape the input data to create a linear array"
   ]
  },
  {
   "cell_type": "code",
   "execution_count": 13,
   "metadata": {
    "execution": {
     "iopub.execute_input": "2020-09-03T00:06:01.380544Z",
     "iopub.status.busy": "2020-09-03T00:06:01.380021Z",
     "iopub.status.idle": "2020-09-03T00:06:01.388901Z",
     "shell.execute_reply": "2020-09-03T00:06:01.389326Z"
    },
    "papermill": {
     "duration": 0.040635,
     "end_time": "2020-09-03T00:06:01.389442",
     "exception": false,
     "start_time": "2020-09-03T00:06:01.348807",
     "status": "completed"
    },
    "tags": []
   },
   "outputs": [
    {
     "data": {
      "text/plain": [
       "((11982, 784), (1984, 784))"
      ]
     },
     "execution_count": 13,
     "metadata": {},
     "output_type": "execute_result"
    }
   ],
   "source": [
    "X_train = X_train.reshape(X_train.shape[0], -1)\n",
    "X_test = X_test.reshape(X_test.shape[0], -1)\n",
    "X_train.shape, X_test.shape"
   ]
  },
  {
   "cell_type": "markdown",
   "metadata": {
    "papermill": {
     "duration": 0.024531,
     "end_time": "2020-09-03T00:06:01.439132",
     "exception": false,
     "start_time": "2020-09-03T00:06:01.414601",
     "status": "completed"
    },
    "tags": []
   },
   "source": [
    "### Importing appropriate functions from 'Kudzu'"
   ]
  },
  {
   "cell_type": "code",
   "execution_count": 14,
   "metadata": {
    "execution": {
     "iopub.execute_input": "2020-09-03T00:06:01.493512Z",
     "iopub.status.busy": "2020-09-03T00:06:01.492938Z",
     "iopub.status.idle": "2020-09-03T00:06:01.509282Z",
     "shell.execute_reply": "2020-09-03T00:06:01.508694Z"
    },
    "papermill": {
     "duration": 0.045365,
     "end_time": "2020-09-03T00:06:01.509388",
     "exception": false,
     "start_time": "2020-09-03T00:06:01.464023",
     "status": "completed"
    },
    "tags": []
   },
   "outputs": [],
   "source": [
    "from kudzu.layer import Sigmoid\n",
    "from kudzu.layer import Relu\n",
    "from kudzu.layer import Affine, Sigmoid\n",
    "\n",
    "from kudzu.model import Model\n",
    "from kudzu.train import Learner\n",
    "from kudzu.optim import GD\n",
    "from kudzu.data import Data, Dataloader, Sampler\n",
    "\n",
    "from kudzu.callbacks import AccCallback\n",
    "from kudzu.callbacks import ClfCallback\n",
    "\n",
    "from kudzu.loss import MSE"
   ]
  },
  {
   "cell_type": "markdown",
   "metadata": {
    "papermill": {
     "duration": 0.025571,
     "end_time": "2020-09-03T00:06:01.560600",
     "exception": false,
     "start_time": "2020-09-03T00:06:01.535029",
     "status": "completed"
    },
    "tags": []
   },
   "source": [
    "### Let us create a `Config` class, to store important parameters. \n",
    "This class essentially plays the role of a dictionary."
   ]
  },
  {
   "cell_type": "code",
   "execution_count": 15,
   "metadata": {
    "execution": {
     "iopub.execute_input": "2020-09-03T00:06:01.614281Z",
     "iopub.status.busy": "2020-09-03T00:06:01.613751Z",
     "iopub.status.idle": "2020-09-03T00:06:01.623188Z",
     "shell.execute_reply": "2020-09-03T00:06:01.623711Z"
    },
    "papermill": {
     "duration": 0.037638,
     "end_time": "2020-09-03T00:06:01.623830",
     "exception": false,
     "start_time": "2020-09-03T00:06:01.586192",
     "status": "completed"
    },
    "tags": []
   },
   "outputs": [],
   "source": [
    "class Config:\n",
    "    pass\n",
    "config = Config()\n",
    "config.lr = 0.001\n",
    "config.num_epochs = 251\n",
    "config.bs = 50"
   ]
  },
  {
   "cell_type": "markdown",
   "metadata": {
    "papermill": {
     "duration": 0.025065,
     "end_time": "2020-09-03T00:06:01.673677",
     "exception": false,
     "start_time": "2020-09-03T00:06:01.648612",
     "status": "completed"
    },
    "tags": []
   },
   "source": [
    "### Initializing data to the variables"
   ]
  },
  {
   "cell_type": "code",
   "execution_count": 16,
   "metadata": {
    "execution": {
     "iopub.execute_input": "2020-09-03T00:06:01.745469Z",
     "iopub.status.busy": "2020-09-03T00:06:01.744904Z",
     "iopub.status.idle": "2020-09-03T00:06:01.749222Z",
     "shell.execute_reply": "2020-09-03T00:06:01.748772Z"
    },
    "papermill": {
     "duration": 0.049034,
     "end_time": "2020-09-03T00:06:01.749327",
     "exception": false,
     "start_time": "2020-09-03T00:06:01.700293",
     "status": "completed"
    },
    "tags": []
   },
   "outputs": [],
   "source": [
    "data = Data(X_train, y_train.reshape(-1,1))\n",
    "sampler = Sampler(data, config.bs, shuffle=True)\n",
    "\n",
    "dl = Dataloader(data, sampler)\n",
    "\n",
    "opt = GD(config.lr)\n",
    "loss = MSE()"
   ]
  },
  {
   "cell_type": "code",
   "execution_count": 17,
   "metadata": {
    "execution": {
     "iopub.execute_input": "2020-09-03T00:06:01.806761Z",
     "iopub.status.busy": "2020-09-03T00:06:01.806215Z",
     "iopub.status.idle": "2020-09-03T00:06:01.814115Z",
     "shell.execute_reply": "2020-09-03T00:06:01.814610Z"
    },
    "papermill": {
     "duration": 0.040492,
     "end_time": "2020-09-03T00:06:01.814729",
     "exception": false,
     "start_time": "2020-09-03T00:06:01.774237",
     "status": "completed"
    },
    "tags": []
   },
   "outputs": [],
   "source": [
    "training_xdata = X_train\n",
    "testing_xdata = X_test\n",
    "training_ydata = y_train.reshape(-1,1)\n",
    "testing_ydata = y_test.reshape(-1,1)"
   ]
  },
  {
   "cell_type": "markdown",
   "metadata": {
    "papermill": {
     "duration": 0.024998,
     "end_time": "2020-09-03T00:06:01.864754",
     "exception": false,
     "start_time": "2020-09-03T00:06:01.839756",
     "status": "completed"
    },
    "tags": []
   },
   "source": [
    "### Running Models with the Training data\n",
    "Details about the network layers:\n",
    "- A first affine layer has 784 inputs and does 100 affine transforms. These are followed by a Relu\n",
    "- A second affine layer has 100 inputs from the 100 activations of the past layer, and does 100 affine transforms. These are followed by a Relu\n",
    "- A third affine layer has 100 activations and does 2 affine transformations to create an embedding for visualization. There is no non-linearity here.\n",
    "- A final \"logistic regression\" which has an affine transform from 2 inputs to 1 output, which is squeezed through a sigmoid.\n",
    "\n",
    "Help taken from Anshuman's Notebook."
   ]
  },
  {
   "cell_type": "code",
   "execution_count": 18,
   "metadata": {
    "execution": {
     "iopub.execute_input": "2020-09-03T00:06:01.919684Z",
     "iopub.status.busy": "2020-09-03T00:06:01.919132Z",
     "iopub.status.idle": "2020-09-03T00:06:01.930736Z",
     "shell.execute_reply": "2020-09-03T00:06:01.931241Z"
    },
    "papermill": {
     "duration": 0.041515,
     "end_time": "2020-09-03T00:06:01.931388",
     "exception": false,
     "start_time": "2020-09-03T00:06:01.889873",
     "status": "completed"
    },
    "tags": []
   },
   "outputs": [],
   "source": [
    "# layers for the Neural Network\n",
    "layers = [Affine(\"first\", 784, 100), Relu(\"first\"), Affine(\"second\", 100, 100), Relu(\"second\"), Affine(\"third\", 100, 2), Affine(\"final\", 2, 1), Sigmoid(\"final\")]\n",
    "model_nn = Model(layers)\n",
    "\n",
    "# layers for the Logistic Regression\n",
    "layers_lr = [Affine(\"logits\", 784, 1), Sigmoid(\"sigmoid\")]\n",
    "model_lr = Model(layers_lr)"
   ]
  },
  {
   "cell_type": "code",
   "execution_count": 19,
   "metadata": {
    "execution": {
     "iopub.execute_input": "2020-09-03T00:06:01.990196Z",
     "iopub.status.busy": "2020-09-03T00:06:01.989614Z",
     "iopub.status.idle": "2020-09-03T00:06:01.996819Z",
     "shell.execute_reply": "2020-09-03T00:06:01.997225Z"
    },
    "papermill": {
     "duration": 0.041092,
     "end_time": "2020-09-03T00:06:01.997348",
     "exception": false,
     "start_time": "2020-09-03T00:06:01.956256",
     "status": "completed"
    },
    "tags": []
   },
   "outputs": [],
   "source": [
    "# suffix _nn stands for Neural Network.\n",
    "learner_nn = Learner(loss, model_nn, opt, config.num_epochs)\n",
    "acc_nn = ClfCallback(learner_nn, config.bs, training_xdata , testing_xdata, training_ydata, testing_ydata)\n",
    "learner_nn.set_callbacks([acc_nn])"
   ]
  },
  {
   "cell_type": "code",
   "execution_count": 20,
   "metadata": {
    "execution": {
     "iopub.execute_input": "2020-09-03T00:06:02.050051Z",
     "iopub.status.busy": "2020-09-03T00:06:02.049529Z",
     "iopub.status.idle": "2020-09-03T00:08:09.930374Z",
     "shell.execute_reply": "2020-09-03T00:08:09.931127Z"
    },
    "papermill": {
     "duration": 127.909673,
     "end_time": "2020-09-03T00:08:09.931279",
     "exception": false,
     "start_time": "2020-09-03T00:06:02.021606",
     "status": "completed"
    },
    "tags": []
   },
   "outputs": [
    {
     "name": "stdout",
     "output_type": "stream",
     "text": [
      "====== Neural Network ======\n"
     ]
    },
    {
     "name": "stdout",
     "output_type": "stream",
     "text": [
      "Epoch 0, Loss 0.2525\n",
      "Training Accuracy: 0.5803, Testing Accuracy: 0.5791\n",
      "\n"
     ]
    },
    {
     "name": "stdout",
     "output_type": "stream",
     "text": [
      "Epoch 10, Loss 0.1176\n",
      "Training Accuracy: 0.9092, Testing Accuracy: 0.9189\n",
      "\n"
     ]
    },
    {
     "name": "stdout",
     "output_type": "stream",
     "text": [
      "Epoch 20, Loss 0.064\n",
      "Training Accuracy: 0.9361, Testing Accuracy: 0.9501\n",
      "\n"
     ]
    },
    {
     "name": "stdout",
     "output_type": "stream",
     "text": [
      "Epoch 30, Loss 0.0479\n",
      "Training Accuracy: 0.9486, Testing Accuracy: 0.9607\n",
      "\n"
     ]
    },
    {
     "name": "stdout",
     "output_type": "stream",
     "text": [
      "Epoch 40, Loss 0.0406\n",
      "Training Accuracy: 0.9549, Testing Accuracy: 0.9642\n",
      "\n"
     ]
    },
    {
     "name": "stdout",
     "output_type": "stream",
     "text": [
      "Epoch 50, Loss 0.0363\n",
      "Training Accuracy: 0.9591, Testing Accuracy: 0.9662\n",
      "\n"
     ]
    },
    {
     "name": "stdout",
     "output_type": "stream",
     "text": [
      "Epoch 60, Loss 0.0335\n",
      "Training Accuracy: 0.9619, Testing Accuracy: 0.9677\n",
      "\n"
     ]
    },
    {
     "name": "stdout",
     "output_type": "stream",
     "text": [
      "Epoch 70, Loss 0.0315\n",
      "Training Accuracy: 0.9648, Testing Accuracy: 0.9682\n",
      "\n"
     ]
    },
    {
     "name": "stdout",
     "output_type": "stream",
     "text": [
      "Epoch 80, Loss 0.0299\n",
      "Training Accuracy: 0.9664, Testing Accuracy: 0.9693\n",
      "\n"
     ]
    },
    {
     "name": "stdout",
     "output_type": "stream",
     "text": [
      "Epoch 90, Loss 0.0287\n",
      "Training Accuracy: 0.9676, Testing Accuracy: 0.9708\n",
      "\n"
     ]
    },
    {
     "name": "stdout",
     "output_type": "stream",
     "text": [
      "Epoch 100, Loss 0.0276\n",
      "Training Accuracy: 0.9689, Testing Accuracy: 0.9708\n",
      "\n"
     ]
    },
    {
     "name": "stdout",
     "output_type": "stream",
     "text": [
      "Epoch 110, Loss 0.0267\n",
      "Training Accuracy: 0.9696, Testing Accuracy: 0.9703\n",
      "\n"
     ]
    },
    {
     "name": "stdout",
     "output_type": "stream",
     "text": [
      "Epoch 120, Loss 0.0259\n",
      "Training Accuracy: 0.9703, Testing Accuracy: 0.9703\n",
      "\n"
     ]
    },
    {
     "name": "stdout",
     "output_type": "stream",
     "text": [
      "Epoch 130, Loss 0.0252\n",
      "Training Accuracy: 0.9708, Testing Accuracy: 0.9698\n",
      "\n"
     ]
    },
    {
     "name": "stdout",
     "output_type": "stream",
     "text": [
      "Epoch 140, Loss 0.0246\n",
      "Training Accuracy: 0.9715, Testing Accuracy: 0.9688\n",
      "\n"
     ]
    },
    {
     "name": "stdout",
     "output_type": "stream",
     "text": [
      "Epoch 150, Loss 0.024\n",
      "Training Accuracy: 0.9720, Testing Accuracy: 0.9688\n",
      "\n"
     ]
    },
    {
     "name": "stdout",
     "output_type": "stream",
     "text": [
      "Epoch 160, Loss 0.0235\n",
      "Training Accuracy: 0.9726, Testing Accuracy: 0.9688\n",
      "\n"
     ]
    },
    {
     "name": "stdout",
     "output_type": "stream",
     "text": [
      "Epoch 170, Loss 0.023\n",
      "Training Accuracy: 0.9731, Testing Accuracy: 0.9682\n",
      "\n"
     ]
    },
    {
     "name": "stdout",
     "output_type": "stream",
     "text": [
      "Epoch 180, Loss 0.0225\n",
      "Training Accuracy: 0.9738, Testing Accuracy: 0.9693\n",
      "\n"
     ]
    },
    {
     "name": "stdout",
     "output_type": "stream",
     "text": [
      "Epoch 190, Loss 0.0221\n",
      "Training Accuracy: 0.9747, Testing Accuracy: 0.9698\n",
      "\n"
     ]
    },
    {
     "name": "stdout",
     "output_type": "stream",
     "text": [
      "Epoch 200, Loss 0.0217\n",
      "Training Accuracy: 0.9754, Testing Accuracy: 0.9708\n",
      "\n"
     ]
    },
    {
     "name": "stdout",
     "output_type": "stream",
     "text": [
      "Epoch 210, Loss 0.0213\n",
      "Training Accuracy: 0.9757, Testing Accuracy: 0.9713\n",
      "\n"
     ]
    },
    {
     "name": "stdout",
     "output_type": "stream",
     "text": [
      "Epoch 220, Loss 0.0209\n",
      "Training Accuracy: 0.9765, Testing Accuracy: 0.9713\n",
      "\n"
     ]
    },
    {
     "name": "stdout",
     "output_type": "stream",
     "text": [
      "Epoch 230, Loss 0.0205\n",
      "Training Accuracy: 0.9767, Testing Accuracy: 0.9723\n",
      "\n"
     ]
    },
    {
     "name": "stdout",
     "output_type": "stream",
     "text": [
      "Epoch 240, Loss 0.0202\n",
      "Training Accuracy: 0.9771, Testing Accuracy: 0.9718\n",
      "\n"
     ]
    },
    {
     "name": "stdout",
     "output_type": "stream",
     "text": [
      "Epoch 250, Loss 0.0198\n",
      "Training Accuracy: 0.9774, Testing Accuracy: 0.9723\n",
      "\n"
     ]
    },
    {
     "data": {
      "text/plain": [
       "0.026369159512025883"
      ]
     },
     "execution_count": 20,
     "metadata": {},
     "output_type": "execute_result"
    }
   ],
   "source": [
    "print(\"====== Neural Network ======\")\n",
    "learner_nn.train_loop(dl)"
   ]
  },
  {
   "cell_type": "markdown",
   "metadata": {
    "papermill": {
     "duration": 0.032826,
     "end_time": "2020-09-03T00:08:09.998378",
     "exception": false,
     "start_time": "2020-09-03T00:08:09.965552",
     "status": "completed"
    },
    "tags": []
   },
   "source": [
    "### Logistic Regression based Implementation."
   ]
  },
  {
   "cell_type": "code",
   "execution_count": 21,
   "metadata": {
    "execution": {
     "iopub.execute_input": "2020-09-03T00:08:10.075818Z",
     "iopub.status.busy": "2020-09-03T00:08:10.075246Z",
     "iopub.status.idle": "2020-09-03T00:08:10.084536Z",
     "shell.execute_reply": "2020-09-03T00:08:10.084958Z"
    },
    "papermill": {
     "duration": 0.052596,
     "end_time": "2020-09-03T00:08:10.085090",
     "exception": false,
     "start_time": "2020-09-03T00:08:10.032494",
     "status": "completed"
    },
    "tags": []
   },
   "outputs": [],
   "source": [
    "learner_lr = Learner(loss, model_lr, opt, config.num_epochs)\n",
    "acc_lr = ClfCallback(learner_lr, config.bs, training_xdata , testing_xdata, training_ydata, testing_ydata)\n",
    "learner_lr.set_callbacks([acc_lr])"
   ]
  },
  {
   "cell_type": "code",
   "execution_count": 22,
   "metadata": {
    "execution": {
     "iopub.execute_input": "2020-09-03T00:08:10.167582Z",
     "iopub.status.busy": "2020-09-03T00:08:10.154079Z",
     "iopub.status.idle": "2020-09-03T00:08:29.737682Z",
     "shell.execute_reply": "2020-09-03T00:08:29.738530Z"
    },
    "papermill": {
     "duration": 19.62062,
     "end_time": "2020-09-03T00:08:29.738684",
     "exception": false,
     "start_time": "2020-09-03T00:08:10.118064",
     "status": "completed"
    },
    "tags": []
   },
   "outputs": [
    {
     "name": "stdout",
     "output_type": "stream",
     "text": [
      "====== Logistic Regression ======\n",
      "Epoch 0, Loss 0.2492\n",
      "Training Accuracy: 0.6491, Testing Accuracy: 0.6704\n",
      "\n"
     ]
    },
    {
     "name": "stdout",
     "output_type": "stream",
     "text": [
      "Epoch 10, Loss 0.1072\n",
      "Training Accuracy: 0.8995, Testing Accuracy: 0.9078\n",
      "\n"
     ]
    },
    {
     "name": "stdout",
     "output_type": "stream",
     "text": [
      "Epoch 20, Loss 0.0824\n",
      "Training Accuracy: 0.9214, Testing Accuracy: 0.9294\n",
      "\n"
     ]
    },
    {
     "name": "stdout",
     "output_type": "stream",
     "text": [
      "Epoch 30, Loss 0.0709\n",
      "Training Accuracy: 0.9306, Testing Accuracy: 0.9405\n",
      "\n"
     ]
    },
    {
     "name": "stdout",
     "output_type": "stream",
     "text": [
      "Epoch 40, Loss 0.0639\n",
      "Training Accuracy: 0.9369, Testing Accuracy: 0.9476\n",
      "\n"
     ]
    },
    {
     "name": "stdout",
     "output_type": "stream",
     "text": [
      "Epoch 50, Loss 0.0591\n",
      "Training Accuracy: 0.9398, Testing Accuracy: 0.9516\n",
      "\n"
     ]
    },
    {
     "name": "stdout",
     "output_type": "stream",
     "text": [
      "Epoch 60, Loss 0.0556\n",
      "Training Accuracy: 0.9427, Testing Accuracy: 0.9536\n",
      "\n"
     ]
    },
    {
     "name": "stdout",
     "output_type": "stream",
     "text": [
      "Epoch 70, Loss 0.0529\n",
      "Training Accuracy: 0.9447, Testing Accuracy: 0.9561\n",
      "\n"
     ]
    },
    {
     "name": "stdout",
     "output_type": "stream",
     "text": [
      "Epoch 80, Loss 0.0507\n",
      "Training Accuracy: 0.9459, Testing Accuracy: 0.9582\n",
      "\n"
     ]
    },
    {
     "name": "stdout",
     "output_type": "stream",
     "text": [
      "Epoch 90, Loss 0.0489\n",
      "Training Accuracy: 0.9474, Testing Accuracy: 0.9602\n",
      "\n"
     ]
    },
    {
     "name": "stdout",
     "output_type": "stream",
     "text": [
      "Epoch 100, Loss 0.0474\n",
      "Training Accuracy: 0.9491, Testing Accuracy: 0.9617\n",
      "\n"
     ]
    },
    {
     "name": "stdout",
     "output_type": "stream",
     "text": [
      "Epoch 110, Loss 0.0461\n",
      "Training Accuracy: 0.9500, Testing Accuracy: 0.9642\n",
      "\n"
     ]
    },
    {
     "name": "stdout",
     "output_type": "stream",
     "text": [
      "Epoch 120, Loss 0.045\n",
      "Training Accuracy: 0.9512, Testing Accuracy: 0.9657\n",
      "\n"
     ]
    },
    {
     "name": "stdout",
     "output_type": "stream",
     "text": [
      "Epoch 130, Loss 0.044\n",
      "Training Accuracy: 0.9525, Testing Accuracy: 0.9662\n",
      "\n"
     ]
    },
    {
     "name": "stdout",
     "output_type": "stream",
     "text": [
      "Epoch 140, Loss 0.0431\n",
      "Training Accuracy: 0.9536, Testing Accuracy: 0.9662\n",
      "\n"
     ]
    },
    {
     "name": "stdout",
     "output_type": "stream",
     "text": [
      "Epoch 150, Loss 0.0423\n",
      "Training Accuracy: 0.9547, Testing Accuracy: 0.9667\n",
      "\n"
     ]
    },
    {
     "name": "stdout",
     "output_type": "stream",
     "text": [
      "Epoch 160, Loss 0.0416\n",
      "Training Accuracy: 0.9552, Testing Accuracy: 0.9667\n",
      "\n"
     ]
    },
    {
     "name": "stdout",
     "output_type": "stream",
     "text": [
      "Epoch 170, Loss 0.041\n",
      "Training Accuracy: 0.9559, Testing Accuracy: 0.9657\n",
      "\n"
     ]
    },
    {
     "name": "stdout",
     "output_type": "stream",
     "text": [
      "Epoch 180, Loss 0.0404\n",
      "Training Accuracy: 0.9566, Testing Accuracy: 0.9657\n",
      "\n"
     ]
    },
    {
     "name": "stdout",
     "output_type": "stream",
     "text": [
      "Epoch 190, Loss 0.0398\n",
      "Training Accuracy: 0.9572, Testing Accuracy: 0.9662\n",
      "\n"
     ]
    },
    {
     "name": "stdout",
     "output_type": "stream",
     "text": [
      "Epoch 200, Loss 0.0393\n",
      "Training Accuracy: 0.9579, Testing Accuracy: 0.9662\n",
      "\n"
     ]
    },
    {
     "name": "stdout",
     "output_type": "stream",
     "text": [
      "Epoch 210, Loss 0.0388\n",
      "Training Accuracy: 0.9580, Testing Accuracy: 0.9662\n",
      "\n"
     ]
    },
    {
     "name": "stdout",
     "output_type": "stream",
     "text": [
      "Epoch 220, Loss 0.0384\n",
      "Training Accuracy: 0.9586, Testing Accuracy: 0.9657\n",
      "\n"
     ]
    },
    {
     "name": "stdout",
     "output_type": "stream",
     "text": [
      "Epoch 230, Loss 0.038\n",
      "Training Accuracy: 0.9590, Testing Accuracy: 0.9662\n",
      "\n"
     ]
    },
    {
     "name": "stdout",
     "output_type": "stream",
     "text": [
      "Epoch 240, Loss 0.0376\n",
      "Training Accuracy: 0.9593, Testing Accuracy: 0.9662\n",
      "\n"
     ]
    },
    {
     "name": "stdout",
     "output_type": "stream",
     "text": [
      "Epoch 250, Loss 0.0372\n",
      "Training Accuracy: 0.9594, Testing Accuracy: 0.9672\n",
      "\n"
     ]
    },
    {
     "data": {
      "text/plain": [
       "0.009800015651154821"
      ]
     },
     "execution_count": 22,
     "metadata": {},
     "output_type": "execute_result"
    }
   ],
   "source": [
    "print(\"====== Logistic Regression ======\")\n",
    "learner_lr.train_loop(dl)"
   ]
  },
  {
   "cell_type": "markdown",
   "metadata": {
    "papermill": {
     "duration": 0.044225,
     "end_time": "2020-09-03T00:08:29.829298",
     "exception": false,
     "start_time": "2020-09-03T00:08:29.785073",
     "status": "completed"
    },
    "tags": []
   },
   "source": [
    "### Comparing results of NN and LR"
   ]
  },
  {
   "cell_type": "code",
   "execution_count": 23,
   "metadata": {
    "execution": {
     "iopub.execute_input": "2020-09-03T00:08:29.925484Z",
     "iopub.status.busy": "2020-09-03T00:08:29.924151Z",
     "iopub.status.idle": "2020-09-03T00:08:30.174224Z",
     "shell.execute_reply": "2020-09-03T00:08:30.173758Z"
    },
    "papermill": {
     "duration": 0.299789,
     "end_time": "2020-09-03T00:08:30.174349",
     "exception": false,
     "start_time": "2020-09-03T00:08:29.874560",
     "status": "completed"
    },
    "tags": []
   },
   "outputs": [
    {
     "data": {
      "text/plain": [
       "<matplotlib.legend.Legend at 0x7f4bc30a5390>"
      ]
     },
     "execution_count": 23,
     "metadata": {},
     "output_type": "execute_result"
    },
    {
     "data": {
      "image/png": "[encoded data removed]",
      "text/plain": [
       "<Figure size 1080x720 with 1 Axes>"
      ]
     },
     "metadata": {
      "needs_background": "light"
     },
     "output_type": "display_data"
    }
   ],
   "source": [
    "plt.figure(figsize=(15,10))\n",
    "\n",
    "# Neural Network plots\n",
    "plt.plot(acc_nn.accuracies, 'r-', label = \"Training Accuracies - NN\")\n",
    "plt.plot(acc_nn.test_accuracies, 'g-', label = \"Testing Accuracies - NN\")\n",
    "\n",
    "# Logistic Regression plots\n",
    "plt.plot(acc_lr.accuracies, 'k-', label = \"Training Accuracies - LR\")\n",
    "plt.plot(acc_lr.test_accuracies, 'b-', label = \"Testing Accuracies - LR\")\n",
    "\n",
    "plt.ylim(0.8, 1)\n",
    "\n",
    "plt.legend()\n",
    "\n"
   ]
  },
  {
   "cell_type": "markdown",
   "metadata": {
    "papermill": {
     "duration": 0.040564,
     "end_time": "2020-09-03T00:08:30.258136",
     "exception": false,
     "start_time": "2020-09-03T00:08:30.217572",
     "status": "completed"
    },
    "tags": []
   },
   "source": [
    "### From the plot, we can observe the following:\n",
    "- Neural Network achieves higher accuracy than the Logistic Regression model.\n",
    "- This apparently, is because of overfitting, i.e. NN captures more noise than data.\n",
    "- Testing accuracy of NN drops below the Training accuracy at higher epochs. This explains the over-fitting on training data.\n",
    "- Logistic Regression gives a reliable accuracy, without the above mentioned problem.\n"
   ]
  },
  {
   "cell_type": "markdown",
   "metadata": {
    "papermill": {
     "duration": 0.04034,
     "end_time": "2020-09-03T00:08:30.339252",
     "exception": false,
     "start_time": "2020-09-03T00:08:30.298912",
     "status": "completed"
    },
    "tags": []
   },
   "source": [
    "### Moving till the last but one layer (excluding it).\n",
    "#### Plotting the outputs of this layer of the NN."
   ]
  },
  {
   "cell_type": "code",
   "execution_count": 24,
   "metadata": {
    "execution": {
     "iopub.execute_input": "2020-09-03T00:08:30.423807Z",
     "iopub.status.busy": "2020-09-03T00:08:30.423233Z",
     "iopub.status.idle": "2020-09-03T00:08:30.434236Z",
     "shell.execute_reply": "2020-09-03T00:08:30.434696Z"
    },
    "papermill": {
     "duration": 0.05511,
     "end_time": "2020-09-03T00:08:30.434815",
     "exception": false,
     "start_time": "2020-09-03T00:08:30.379705",
     "status": "completed"
    },
    "tags": []
   },
   "outputs": [],
   "source": [
    "model_new = Model(layers[:-2])"
   ]
  },
  {
   "cell_type": "code",
   "execution_count": 25,
   "metadata": {
    "execution": {
     "iopub.execute_input": "2020-09-03T00:08:30.519842Z",
     "iopub.status.busy": "2020-09-03T00:08:30.519256Z",
     "iopub.status.idle": "2020-09-03T00:08:30.542587Z",
     "shell.execute_reply": "2020-09-03T00:08:30.543376Z"
    },
    "papermill": {
     "duration": 0.067779,
     "end_time": "2020-09-03T00:08:30.543509",
     "exception": false,
     "start_time": "2020-09-03T00:08:30.475730",
     "status": "completed"
    },
    "tags": []
   },
   "outputs": [],
   "source": [
    "plot_testing = model_new(testing_xdata)"
   ]
  },
  {
   "cell_type": "code",
   "execution_count": 26,
   "metadata": {
    "execution": {
     "iopub.execute_input": "2020-09-03T00:08:30.644717Z",
     "iopub.status.busy": "2020-09-03T00:08:30.644068Z",
     "iopub.status.idle": "2020-09-03T00:08:30.855729Z",
     "shell.execute_reply": "2020-09-03T00:08:30.856222Z"
    },
    "papermill": {
     "duration": 0.267253,
     "end_time": "2020-09-03T00:08:30.856351",
     "exception": false,
     "start_time": "2020-09-03T00:08:30.589098",
     "status": "completed"
    },
    "tags": []
   },
   "outputs": [
    {
     "data": {
      "text/plain": [
       "Text(0.5, 1.0, 'Outputs')"
      ]
     },
     "execution_count": 26,
     "metadata": {},
     "output_type": "execute_result"
    },
    {
     "data": {
      "image/png": "[encoded data removed]",
      "text/plain": [
       "<Figure size 576x504 with 1 Axes>"
      ]
     },
     "metadata": {
      "needs_background": "light"
     },
     "output_type": "display_data"
    }
   ],
   "source": [
    "plt.figure(figsize=(8,7))\n",
    "plt.scatter(plot_testing[:,0], plot_testing[:,1], alpha = 0.1, c = y_test.ravel());\n",
    "plt.title('Outputs')"
   ]
  },
  {
   "cell_type": "markdown",
   "metadata": {
    "papermill": {
     "duration": 0.047377,
     "end_time": "2020-09-03T00:08:30.948628",
     "exception": false,
     "start_time": "2020-09-03T00:08:30.901251",
     "status": "completed"
    },
    "tags": []
   },
   "source": [
    "### Plotting probability contours"
   ]
  },
  {
   "cell_type": "code",
   "execution_count": 27,
   "metadata": {
    "execution": {
     "iopub.execute_input": "2020-09-03T00:08:31.044511Z",
     "iopub.status.busy": "2020-09-03T00:08:31.043908Z",
     "iopub.status.idle": "2020-09-03T00:08:31.054337Z",
     "shell.execute_reply": "2020-09-03T00:08:31.054987Z"
    },
    "papermill": {
     "duration": 0.059984,
     "end_time": "2020-09-03T00:08:31.055196",
     "exception": false,
     "start_time": "2020-09-03T00:08:30.995212",
     "status": "completed"
    },
    "tags": []
   },
   "outputs": [],
   "source": [
    "model_prob = Model(layers[-2:]) "
   ]
  },
  {
   "cell_type": "code",
   "execution_count": 28,
   "metadata": {
    "execution": {
     "iopub.execute_input": "2020-09-03T00:08:31.149672Z",
     "iopub.status.busy": "2020-09-03T00:08:31.149075Z",
     "iopub.status.idle": "2020-09-03T00:08:31.159976Z",
     "shell.execute_reply": "2020-09-03T00:08:31.160443Z"
    },
    "papermill": {
     "duration": 0.060301,
     "end_time": "2020-09-03T00:08:31.160571",
     "exception": false,
     "start_time": "2020-09-03T00:08:31.100270",
     "status": "completed"
    },
    "tags": []
   },
   "outputs": [],
   "source": [
    "# Adjust the x and y ranges according to the above generated plot.\n",
    "x_range = np.linspace(-4, 1, 100) \n",
    "y_range = np.linspace(-6, 6, 100) \n",
    "x_grid, y_grid = np.meshgrid(x_range, y_range) # x_grid and y_grig are of size 100 X 100\n",
    "\n",
    "# converting x_grid and y_grid to continuous arrays\n",
    "x_grid_flat = np.ravel(x_grid)\n",
    "y_grid_flat = np.ravel(y_grid)\n",
    "\n",
    "# The last layer of the current model takes two columns as input. Hence transpose of np.vstack() is required.\n",
    "X = np.vstack((x_grid_flat, y_grid_flat)).T\n",
    "\n",
    "# x_grid and y_grid are of size 100 x 100\n",
    "probability_contour = model_prob(X).reshape(100,100) "
   ]
  },
  {
   "cell_type": "code",
   "execution_count": 29,
   "metadata": {
    "execution": {
     "iopub.execute_input": "2020-09-03T00:08:31.268931Z",
     "iopub.status.busy": "2020-09-03T00:08:31.268368Z",
     "iopub.status.idle": "2020-09-03T00:08:31.534650Z",
     "shell.execute_reply": "2020-09-03T00:08:31.534061Z"
    },
    "papermill": {
     "duration": 0.324487,
     "end_time": "2020-09-03T00:08:31.534763",
     "exception": false,
     "start_time": "2020-09-03T00:08:31.210276",
     "status": "completed"
    },
    "tags": []
   },
   "outputs": [
    {
     "data": {
      "image/png": "[encoded data removed]",
      "text/plain": [
       "<Figure size 720x648 with 1 Axes>"
      ]
     },
     "metadata": {
      "needs_background": "light"
     },
     "output_type": "display_data"
    }
   ],
   "source": [
    "plt.figure(figsize=(10,9))\n",
    "plt.scatter(plot_testing[:,0], plot_testing[:,1], alpha = 0.1, c = y_test.ravel())\n",
    "contours = plt.contour(x_grid,y_grid,probability_contour)\n",
    "plt.title('Probability Contours')\n",
    "plt.clabel(contours, inline = True );"
   ]
  }
 ],
 "metadata": {
  "kernelspec": {
   "display_name": "Python 3",
   "language": "python",
   "name": "python3"
  },
  "language_info": {
   "codemirror_mode": {
    "name": "ipython",
    "version": 3
   },
   "file_extension": ".py",
   "mimetype": "text/x-python",
   "name": "python",
   "nbconvert_exporter": "python",
   "pygments_lexer": "ipython3",
   "version": "3.6.12"
  },
  "papermill": {
   "duration": 155.820319,
   "end_time": "2020-09-03T00:08:31.909743",
   "environment_variables": {},
   "exception": null,
   "input_path": "2020-08-11-NeuralNetwork.ipynb",
   "output_path": "2020-08-11-NeuralNetwork.ipynb",
   "parameters": {},
   "start_time": "2020-09-03T00:05:56.089424",
   "version": "2.1.2"
  }
 },
 "nbformat": 4,
 "nbformat_minor": 4
}