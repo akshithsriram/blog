{
 "cells": [
  {
   "cell_type": "markdown",
   "id": "fitted-suggestion",
   "metadata": {
    "papermill": {
     "duration": 0.038937,
     "end_time": "2021-08-04T00:15:08.604379",
     "exception": false,
     "start_time": "2021-08-04T00:15:08.565442",
     "status": "completed"
    },
    "tags": []
   },
   "source": [
    "# \"A Basic Neural Network: Differentiate Hand-Written Digits\"\n",
    "\n",
    "- badges: true\n",
    "- author: Akshith Sriram"
   ]
  },
  {
   "cell_type": "markdown",
   "id": "signal-flexibility",
   "metadata": {
    "papermill": {
     "duration": 0.034313,
     "end_time": "2021-08-04T00:15:08.673985",
     "exception": false,
     "start_time": "2021-08-04T00:15:08.639672",
     "status": "completed"
    },
    "tags": []
   },
   "source": [
    "### Key Objectives:\n",
    "- Building a neural network that differentiates two hand-written digits 3 and 8.\n",
    "- Comparing the results of this Neural Network (NN) to that of a Logistic Regression (LR) model.\n",
    "\n",
    "### Requirements:\n",
    "- 'Kudzu' : A neural network library that was designed during our course by [Univ.AI](www.univ.ai). \n",
    "- MNIST Database\n",
    "\n",
    "If MNIST is not installed, use the command `!pip install mnist` given below.\n",
    "It can be run both from the command line and Jupyter Notebook."
   ]
  },
  {
   "cell_type": "code",
   "execution_count": 1,
   "id": "british-texture",
   "metadata": {
    "execution": {
     "iopub.execute_input": "2021-08-04T00:15:08.747070Z",
     "iopub.status.busy": "2021-08-04T00:15:08.746246Z",
     "iopub.status.idle": "2021-08-04T00:15:11.486884Z",
     "shell.execute_reply": "2021-08-04T00:15:11.486306Z"
    },
    "papermill": {
     "duration": 2.780937,
     "end_time": "2021-08-04T00:15:11.487031",
     "exception": false,
     "start_time": "2021-08-04T00:15:08.706094",
     "status": "completed"
    },
    "tags": []
   },
   "outputs": [
    {
     "name": "stdout",
     "output_type": "stream",
     "text": [
      "Collecting mnist\r\n"
     ]
    },
    {
     "name": "stdout",
     "output_type": "stream",
     "text": [
      "  Downloading mnist-0.2.2-py2.py3-none-any.whl (3.5 kB)\r\n",
      "Requirement already satisfied: numpy in /opt/hostedtoolcache/Python/3.6.14/x64/lib/python3.6/site-packages (from mnist) (1.19.5)\r\n"
     ]
    },
    {
     "name": "stdout",
     "output_type": "stream",
     "text": [
      "Installing collected packages: mnist\r\n",
      "Successfully installed mnist-0.2.2\r\n"
     ]
    },
    {
     "name": "stdout",
     "output_type": "stream",
     "text": [
      "\u001b[33mWARNING: You are using pip version 21.2.1; however, version 21.2.2 is available.\r\n",
      "You should consider upgrading via the '/opt/hostedtoolcache/Python/3.6.14/x64/bin/python -m pip install --upgrade pip' command.\u001b[0m\r\n"
     ]
    }
   ],
   "source": [
    "!pip install mnist "
   ]
  },
  {
   "cell_type": "markdown",
   "id": "stunning-extra",
   "metadata": {
    "papermill": {
     "duration": 0.035521,
     "end_time": "2021-08-04T00:15:11.557988",
     "exception": false,
     "start_time": "2021-08-04T00:15:11.522467",
     "status": "completed"
    },
    "tags": []
   },
   "source": [
    "#### Importing necessary libraries"
   ]
  },
  {
   "cell_type": "code",
   "execution_count": 2,
   "id": "wooden-france",
   "metadata": {
    "execution": {
     "iopub.execute_input": "2021-08-04T00:15:11.631666Z",
     "iopub.status.busy": "2021-08-04T00:15:11.631029Z",
     "iopub.status.idle": "2021-08-04T00:15:12.218864Z",
     "shell.execute_reply": "2021-08-04T00:15:12.218291Z"
    },
    "papermill": {
     "duration": 0.628498,
     "end_time": "2021-08-04T00:15:12.219021",
     "exception": false,
     "start_time": "2021-08-04T00:15:11.590523",
     "status": "completed"
    },
    "tags": []
   },
   "outputs": [],
   "source": [
    "%load_ext autoreload\n",
    "%autoreload 2\n",
    "\n",
    "%matplotlib inline\n",
    "import matplotlib.pyplot as plt\n",
    "\n",
    "import numpy as np\n",
    "import pandas as pd"
   ]
  },
  {
   "cell_type": "markdown",
   "id": "stunning-physics",
   "metadata": {
    "papermill": {
     "duration": 0.032979,
     "end_time": "2021-08-04T00:15:12.287589",
     "exception": false,
     "start_time": "2021-08-04T00:15:12.254610",
     "status": "completed"
    },
    "tags": []
   },
   "source": [
    "### Preparing the Data"
   ]
  },
  {
   "cell_type": "code",
   "execution_count": 3,
   "id": "unauthorized-remainder",
   "metadata": {
    "execution": {
     "iopub.execute_input": "2021-08-04T00:15:12.360245Z",
     "iopub.status.busy": "2021-08-04T00:15:12.359529Z",
     "iopub.status.idle": "2021-08-04T00:15:12.373165Z",
     "shell.execute_reply": "2021-08-04T00:15:12.372205Z"
    },
    "papermill": {
     "duration": 0.052663,
     "end_time": "2021-08-04T00:15:12.373339",
     "exception": false,
     "start_time": "2021-08-04T00:15:12.320676",
     "status": "completed"
    },
    "tags": []
   },
   "outputs": [],
   "source": [
    "import mnist"
   ]
  },
  {
   "cell_type": "code",
   "execution_count": 4,
   "id": "correct-antarctica",
   "metadata": {
    "execution": {
     "iopub.execute_input": "2021-08-04T00:15:12.449901Z",
     "iopub.status.busy": "2021-08-04T00:15:12.449233Z",
     "iopub.status.idle": "2021-08-04T00:20:00.719532Z",
     "shell.execute_reply": "2021-08-04T00:20:00.720059Z"
    },
    "papermill": {
     "duration": 288.308293,
     "end_time": "2021-08-04T00:20:00.720223",
     "exception": false,
     "start_time": "2021-08-04T00:15:12.411930",
     "status": "completed"
    },
    "tags": []
   },
   "outputs": [],
   "source": [
    "train_images = mnist.train_images()\n",
    "train_labels = mnist.train_labels()"
   ]
  },
  {
   "cell_type": "code",
   "execution_count": 5,
   "id": "musical-prospect",
   "metadata": {
    "execution": {
     "iopub.execute_input": "2021-08-04T00:20:00.790506Z",
     "iopub.status.busy": "2021-08-04T00:20:00.789932Z",
     "iopub.status.idle": "2021-08-04T00:20:00.806405Z",
     "shell.execute_reply": "2021-08-04T00:20:00.806966Z"
    },
    "papermill": {
     "duration": 0.052025,
     "end_time": "2021-08-04T00:20:00.807090",
     "exception": false,
     "start_time": "2021-08-04T00:20:00.755065",
     "status": "completed"
    },
    "tags": []
   },
   "outputs": [
    {
     "data": {
      "text/plain": [
       "((60000, 28, 28), (60000,))"
      ]
     },
     "execution_count": 5,
     "metadata": {},
     "output_type": "execute_result"
    }
   ],
   "source": [
    "train_images.shape, train_labels.shape"
   ]
  },
  {
   "cell_type": "code",
   "execution_count": 6,
   "id": "preliminary-elizabeth",
   "metadata": {
    "execution": {
     "iopub.execute_input": "2021-08-04T00:20:00.880479Z",
     "iopub.status.busy": "2021-08-04T00:20:00.879214Z",
     "iopub.status.idle": "2021-08-04T00:20:50.583725Z",
     "shell.execute_reply": "2021-08-04T00:20:50.584314Z"
    },
    "papermill": {
     "duration": 49.743203,
     "end_time": "2021-08-04T00:20:50.584505",
     "exception": false,
     "start_time": "2021-08-04T00:20:00.841302",
     "status": "completed"
    },
    "tags": []
   },
   "outputs": [],
   "source": [
    "test_images = mnist.test_images()\n",
    "test_labels = mnist.test_labels()"
   ]
  },
  {
   "cell_type": "code",
   "execution_count": 7,
   "id": "acknowledged-oxygen",
   "metadata": {
    "execution": {
     "iopub.execute_input": "2021-08-04T00:20:50.655630Z",
     "iopub.status.busy": "2021-08-04T00:20:50.655067Z",
     "iopub.status.idle": "2021-08-04T00:20:50.669295Z",
     "shell.execute_reply": "2021-08-04T00:20:50.668798Z"
    },
    "papermill": {
     "duration": 0.050995,
     "end_time": "2021-08-04T00:20:50.669400",
     "exception": false,
     "start_time": "2021-08-04T00:20:50.618405",
     "status": "completed"
    },
    "tags": []
   },
   "outputs": [
    {
     "data": {
      "text/plain": [
       "((10000, 28, 28), (10000,))"
      ]
     },
     "execution_count": 7,
     "metadata": {},
     "output_type": "execute_result"
    }
   ],
   "source": [
    "test_images.shape, test_labels.shape"
   ]
  },
  {
   "cell_type": "code",
   "execution_count": 8,
   "id": "innovative-organic",
   "metadata": {
    "execution": {
     "iopub.execute_input": "2021-08-04T00:20:50.742394Z",
     "iopub.status.busy": "2021-08-04T00:20:50.741390Z",
     "iopub.status.idle": "2021-08-04T00:20:50.914863Z",
     "shell.execute_reply": "2021-08-04T00:20:50.915323Z"
    },
    "papermill": {
     "duration": 0.211243,
     "end_time": "2021-08-04T00:20:50.915484",
     "exception": false,
     "start_time": "2021-08-04T00:20:50.704241",
     "status": "completed"
    },
    "tags": []
   },
   "outputs": [
    {
     "name": "stdout",
     "output_type": "stream",
     "text": [
      "2\n"
     ]
    },
    {
     "data": {
      "text/plain": [
       "<matplotlib.image.AxesImage at 0x7fb7812d8588>"
      ]
     },
     "execution_count": 8,
     "metadata": {},
     "output_type": "execute_result"
    },
    {
     "data": {
      "image/png": "[encoded data removed]",
      "text/plain": [
       "<Figure size 432x288 with 1 Axes>"
      ]
     },
     "metadata": {
      "needs_background": "light"
     },
     "output_type": "display_data"
    }
   ],
   "source": [
    "image_index = 7776 # You may select anything up to 60,000\n",
    "print(train_labels[image_index]) \n",
    "plt.imshow(train_images[image_index], cmap='Greys')"
   ]
  },
  {
   "cell_type": "markdown",
   "id": "facial-modem",
   "metadata": {
    "papermill": {
     "duration": 0.034513,
     "end_time": "2021-08-04T00:20:50.986935",
     "exception": false,
     "start_time": "2021-08-04T00:20:50.952422",
     "status": "completed"
    },
    "tags": []
   },
   "source": [
    "## Filter data to get 3 and 8 out"
   ]
  },
  {
   "cell_type": "code",
   "execution_count": 9,
   "id": "thousand-acquisition",
   "metadata": {
    "execution": {
     "iopub.execute_input": "2021-08-04T00:20:51.061572Z",
     "iopub.status.busy": "2021-08-04T00:20:51.060847Z",
     "iopub.status.idle": "2021-08-04T00:20:51.079350Z",
     "shell.execute_reply": "2021-08-04T00:20:51.079856Z"
    },
    "papermill": {
     "duration": 0.059667,
     "end_time": "2021-08-04T00:20:51.080038",
     "exception": false,
     "start_time": "2021-08-04T00:20:51.020371",
     "status": "completed"
    },
    "tags": []
   },
   "outputs": [],
   "source": [
    "train_filter = np.where((train_labels == 3 ) | (train_labels == 8))\n",
    "test_filter = np.where((test_labels == 3) | (test_labels == 8))\n",
    "X_train, y_train = train_images[train_filter], train_labels[train_filter]\n",
    "X_test, y_test = test_images[test_filter], test_labels[test_filter]"
   ]
  },
  {
   "cell_type": "markdown",
   "id": "ruled-access",
   "metadata": {
    "papermill": {
     "duration": 0.033531,
     "end_time": "2021-08-04T00:20:51.148659",
     "exception": false,
     "start_time": "2021-08-04T00:20:51.115128",
     "status": "completed"
    },
    "tags": []
   },
   "source": [
    "We normalize the pixel values in the 0 to 1 range"
   ]
  },
  {
   "cell_type": "code",
   "execution_count": 10,
   "id": "isolated-denver",
   "metadata": {
    "execution": {
     "iopub.execute_input": "2021-08-04T00:20:51.227475Z",
     "iopub.status.busy": "2021-08-04T00:20:51.226872Z",
     "iopub.status.idle": "2021-08-04T00:20:51.294400Z",
     "shell.execute_reply": "2021-08-04T00:20:51.293872Z"
    },
    "papermill": {
     "duration": 0.110721,
     "end_time": "2021-08-04T00:20:51.294545",
     "exception": false,
     "start_time": "2021-08-04T00:20:51.183824",
     "status": "completed"
    },
    "tags": []
   },
   "outputs": [],
   "source": [
    "X_train = X_train/255.\n",
    "X_test = X_test/255."
   ]
  },
  {
   "cell_type": "markdown",
   "id": "perfect-summary",
   "metadata": {
    "papermill": {
     "duration": 0.033144,
     "end_time": "2021-08-04T00:20:51.363851",
     "exception": false,
     "start_time": "2021-08-04T00:20:51.330707",
     "status": "completed"
    },
    "tags": []
   },
   "source": [
    "Setup the labels as 1 (when the digit is 3) and 0 (when the digit is 8)"
   ]
  },
  {
   "cell_type": "code",
   "execution_count": 11,
   "id": "personalized-growing",
   "metadata": {
    "execution": {
     "iopub.execute_input": "2021-08-04T00:20:51.437679Z",
     "iopub.status.busy": "2021-08-04T00:20:51.436936Z",
     "iopub.status.idle": "2021-08-04T00:20:51.450136Z",
     "shell.execute_reply": "2021-08-04T00:20:51.450611Z"
    },
    "papermill": {
     "duration": 0.053816,
     "end_time": "2021-08-04T00:20:51.450753",
     "exception": false,
     "start_time": "2021-08-04T00:20:51.396937",
     "status": "completed"
    },
    "tags": []
   },
   "outputs": [],
   "source": [
    "y_train = 1*(y_train==3)\n",
    "y_test = 1*(y_test==3)"
   ]
  },
  {
   "cell_type": "code",
   "execution_count": 12,
   "id": "considered-virgin",
   "metadata": {
    "execution": {
     "iopub.execute_input": "2021-08-04T00:20:51.523256Z",
     "iopub.status.busy": "2021-08-04T00:20:51.522547Z",
     "iopub.status.idle": "2021-08-04T00:20:51.536977Z",
     "shell.execute_reply": "2021-08-04T00:20:51.536222Z"
    },
    "papermill": {
     "duration": 0.051493,
     "end_time": "2021-08-04T00:20:51.537105",
     "exception": false,
     "start_time": "2021-08-04T00:20:51.485612",
     "status": "completed"
    },
    "tags": []
   },
   "outputs": [
    {
     "data": {
      "text/plain": [
       "((11982, 28, 28), (1984, 28, 28))"
      ]
     },
     "execution_count": 12,
     "metadata": {},
     "output_type": "execute_result"
    }
   ],
   "source": [
    "X_train.shape, X_test.shape"
   ]
  },
  {
   "cell_type": "markdown",
   "id": "civilian-mobile",
   "metadata": {
    "papermill": {
     "duration": 0.034428,
     "end_time": "2021-08-04T00:20:51.607556",
     "exception": false,
     "start_time": "2021-08-04T00:20:51.573128",
     "status": "completed"
    },
    "tags": []
   },
   "source": [
    "### Reshape the input data to create a linear array"
   ]
  },
  {
   "cell_type": "code",
   "execution_count": 13,
   "id": "colonial-adams",
   "metadata": {
    "execution": {
     "iopub.execute_input": "2021-08-04T00:20:51.682728Z",
     "iopub.status.busy": "2021-08-04T00:20:51.681699Z",
     "iopub.status.idle": "2021-08-04T00:20:51.696588Z",
     "shell.execute_reply": "2021-08-04T00:20:51.697104Z"
    },
    "papermill": {
     "duration": 0.054472,
     "end_time": "2021-08-04T00:20:51.697233",
     "exception": false,
     "start_time": "2021-08-04T00:20:51.642761",
     "status": "completed"
    },
    "tags": []
   },
   "outputs": [
    {
     "data": {
      "text/plain": [
       "((11982, 784), (1984, 784))"
      ]
     },
     "execution_count": 13,
     "metadata": {},
     "output_type": "execute_result"
    }
   ],
   "source": [
    "X_train = X_train.reshape(X_train.shape[0], -1)\n",
    "X_test = X_test.reshape(X_test.shape[0], -1)\n",
    "X_train.shape, X_test.shape"
   ]
  },
  {
   "cell_type": "markdown",
   "id": "smart-details",
   "metadata": {
    "papermill": {
     "duration": 0.035063,
     "end_time": "2021-08-04T00:20:51.768264",
     "exception": false,
     "start_time": "2021-08-04T00:20:51.733201",
     "status": "completed"
    },
    "tags": []
   },
   "source": [
    "### Importing appropriate functions from 'Kudzu'"
   ]
  },
  {
   "cell_type": "code",
   "execution_count": 14,
   "id": "celtic-trial",
   "metadata": {
    "execution": {
     "iopub.execute_input": "2021-08-04T00:20:51.841919Z",
     "iopub.status.busy": "2021-08-04T00:20:51.841330Z",
     "iopub.status.idle": "2021-08-04T00:20:51.861392Z",
     "shell.execute_reply": "2021-08-04T00:20:51.860878Z"
    },
    "papermill": {
     "duration": 0.05857,
     "end_time": "2021-08-04T00:20:51.861508",
     "exception": false,
     "start_time": "2021-08-04T00:20:51.802938",
     "status": "completed"
    },
    "tags": []
   },
   "outputs": [],
   "source": [
    "from kudzu.layer import Sigmoid\n",
    "from kudzu.layer import Relu\n",
    "from kudzu.layer import Affine, Sigmoid\n",
    "\n",
    "from kudzu.model import Model\n",
    "from kudzu.train import Learner\n",
    "from kudzu.optim import GD\n",
    "from kudzu.data import Data, Dataloader, Sampler\n",
    "\n",
    "from kudzu.callbacks import AccCallback\n",
    "from kudzu.callbacks import ClfCallback\n",
    "\n",
    "from kudzu.loss import MSE"
   ]
  },
  {
   "cell_type": "markdown",
   "id": "coupled-customer",
   "metadata": {
    "papermill": {
     "duration": 0.035546,
     "end_time": "2021-08-04T00:20:51.932404",
     "exception": false,
     "start_time": "2021-08-04T00:20:51.896858",
     "status": "completed"
    },
    "tags": []
   },
   "source": [
    "### Let us create a `Config` class, to store important parameters. \n",
    "This class essentially plays the role of a dictionary."
   ]
  },
  {
   "cell_type": "code",
   "execution_count": 15,
   "id": "young-ceiling",
   "metadata": {
    "execution": {
     "iopub.execute_input": "2021-08-04T00:20:52.006067Z",
     "iopub.status.busy": "2021-08-04T00:20:52.005344Z",
     "iopub.status.idle": "2021-08-04T00:20:52.017289Z",
     "shell.execute_reply": "2021-08-04T00:20:52.017711Z"
    },
    "papermill": {
     "duration": 0.049573,
     "end_time": "2021-08-04T00:20:52.017855",
     "exception": false,
     "start_time": "2021-08-04T00:20:51.968282",
     "status": "completed"
    },
    "tags": []
   },
   "outputs": [],
   "source": [
    "class Config:\n",
    "    pass\n",
    "config = Config()\n",
    "config.lr = 0.001\n",
    "config.num_epochs = 251\n",
    "config.bs = 50"
   ]
  },
  {
   "cell_type": "markdown",
   "id": "according-mandate",
   "metadata": {
    "papermill": {
     "duration": 0.036646,
     "end_time": "2021-08-04T00:20:52.090184",
     "exception": false,
     "start_time": "2021-08-04T00:20:52.053538",
     "status": "completed"
    },
    "tags": []
   },
   "source": [
    "### Initializing data to the variables"
   ]
  },
  {
   "cell_type": "code",
   "execution_count": 16,
   "id": "academic-disposition",
   "metadata": {
    "execution": {
     "iopub.execute_input": "2021-08-04T00:20:52.165768Z",
     "iopub.status.busy": "2021-08-04T00:20:52.164969Z",
     "iopub.status.idle": "2021-08-04T00:20:52.178042Z",
     "shell.execute_reply": "2021-08-04T00:20:52.178594Z"
    },
    "papermill": {
     "duration": 0.052774,
     "end_time": "2021-08-04T00:20:52.178756",
     "exception": false,
     "start_time": "2021-08-04T00:20:52.125982",
     "status": "completed"
    },
    "tags": []
   },
   "outputs": [],
   "source": [
    "data = Data(X_train, y_train.reshape(-1,1))\n",
    "sampler = Sampler(data, config.bs, shuffle=True)\n",
    "\n",
    "dl = Dataloader(data, sampler)\n",
    "\n",
    "opt = GD(config.lr)\n",
    "loss = MSE()"
   ]
  },
  {
   "cell_type": "code",
   "execution_count": 17,
   "id": "featured-commission",
   "metadata": {
    "execution": {
     "iopub.execute_input": "2021-08-04T00:20:52.256124Z",
     "iopub.status.busy": "2021-08-04T00:20:52.255518Z",
     "iopub.status.idle": "2021-08-04T00:20:52.268849Z",
     "shell.execute_reply": "2021-08-04T00:20:52.268334Z"
    },
    "papermill": {
     "duration": 0.052827,
     "end_time": "2021-08-04T00:20:52.268963",
     "exception": false,
     "start_time": "2021-08-04T00:20:52.216136",
     "status": "completed"
    },
    "tags": []
   },
   "outputs": [],
   "source": [
    "training_xdata = X_train\n",
    "testing_xdata = X_test\n",
    "training_ydata = y_train.reshape(-1,1)\n",
    "testing_ydata = y_test.reshape(-1,1)"
   ]
  },
  {
   "cell_type": "markdown",
   "id": "played-safety",
   "metadata": {
    "papermill": {
     "duration": 0.036322,
     "end_time": "2021-08-04T00:20:52.340457",
     "exception": false,
     "start_time": "2021-08-04T00:20:52.304135",
     "status": "completed"
    },
    "tags": []
   },
   "source": [
    "### Running Models with the Training data\n",
    "Details about the network layers:\n",
    "- A first affine layer has 784 inputs and does 100 affine transforms. These are followed by a Relu\n",
    "- A second affine layer has 100 inputs from the 100 activations of the past layer, and does 100 affine transforms. These are followed by a Relu\n",
    "- A third affine layer has 100 activations and does 2 affine transformations to create an embedding for visualization. There is no non-linearity here.\n",
    "- A final \"logistic regression\" which has an affine transform from 2 inputs to 1 output, which is squeezed through a sigmoid.\n",
    "\n",
    "Help taken from Anshuman's Notebook."
   ]
  },
  {
   "cell_type": "code",
   "execution_count": 18,
   "id": "asian-bankruptcy",
   "metadata": {
    "execution": {
     "iopub.execute_input": "2021-08-04T00:20:52.418290Z",
     "iopub.status.busy": "2021-08-04T00:20:52.417442Z",
     "iopub.status.idle": "2021-08-04T00:20:52.434268Z",
     "shell.execute_reply": "2021-08-04T00:20:52.433758Z"
    },
    "papermill": {
     "duration": 0.055413,
     "end_time": "2021-08-04T00:20:52.434381",
     "exception": false,
     "start_time": "2021-08-04T00:20:52.378968",
     "status": "completed"
    },
    "tags": []
   },
   "outputs": [],
   "source": [
    "# layers for the Neural Network\n",
    "layers = [Affine(\"first\", 784, 100), Relu(\"first\"), Affine(\"second\", 100, 100), Relu(\"second\"), Affine(\"third\", 100, 2), Affine(\"final\", 2, 1), Sigmoid(\"final\")]\n",
    "model_nn = Model(layers)\n",
    "\n",
    "# layers for the Logistic Regression\n",
    "layers_lr = [Affine(\"logits\", 784, 1), Sigmoid(\"sigmoid\")]\n",
    "model_lr = Model(layers_lr)"
   ]
  },
  {
   "cell_type": "code",
   "execution_count": 19,
   "id": "removed-butler",
   "metadata": {
    "execution": {
     "iopub.execute_input": "2021-08-04T00:20:52.513091Z",
     "iopub.status.busy": "2021-08-04T00:20:52.512299Z",
     "iopub.status.idle": "2021-08-04T00:20:52.525014Z",
     "shell.execute_reply": "2021-08-04T00:20:52.525549Z"
    },
    "papermill": {
     "duration": 0.055372,
     "end_time": "2021-08-04T00:20:52.525683",
     "exception": false,
     "start_time": "2021-08-04T00:20:52.470311",
     "status": "completed"
    },
    "tags": []
   },
   "outputs": [],
   "source": [
    "# suffix _nn stands for Neural Network.\n",
    "learner_nn = Learner(loss, model_nn, opt, config.num_epochs)\n",
    "acc_nn = ClfCallback(learner_nn, config.bs, training_xdata , testing_xdata, training_ydata, testing_ydata)\n",
    "learner_nn.set_callbacks([acc_nn])"
   ]
  },
  {
   "cell_type": "code",
   "execution_count": 20,
   "id": "conceptual-throw",
   "metadata": {
    "execution": {
     "iopub.execute_input": "2021-08-04T00:20:52.603092Z",
     "iopub.status.busy": "2021-08-04T00:20:52.602434Z",
     "iopub.status.idle": "2021-08-04T00:23:15.052959Z",
     "shell.execute_reply": "2021-08-04T00:23:15.053755Z"
    },
    "papermill": {
     "duration": 142.490474,
     "end_time": "2021-08-04T00:23:15.053937",
     "exception": false,
     "start_time": "2021-08-04T00:20:52.563463",
     "status": "completed"
    },
    "tags": []
   },
   "outputs": [
    {
     "name": "stdout",
     "output_type": "stream",
     "text": [
      "====== Neural Network ======\n"
     ]
    },
    {
     "name": "stdout",
     "output_type": "stream",
     "text": [
      "Epoch 0, Loss 0.2364\n",
      "Training Accuracy: 0.7404, Testing Accuracy: 0.7515\n",
      "\n"
     ]
    },
    {
     "name": "stdout",
     "output_type": "stream",
     "text": [
      "Epoch 10, Loss 0.0754\n",
      "Training Accuracy: 0.9281, Testing Accuracy: 0.9365\n",
      "\n"
     ]
    },
    {
     "name": "stdout",
     "output_type": "stream",
     "text": [
      "Epoch 20, Loss 0.0501\n",
      "Training Accuracy: 0.9468, Testing Accuracy: 0.9607\n",
      "\n"
     ]
    },
    {
     "name": "stdout",
     "output_type": "stream",
     "text": [
      "Epoch 30, Loss 0.0404\n",
      "Training Accuracy: 0.9548, Testing Accuracy: 0.9627\n",
      "\n"
     ]
    },
    {
     "name": "stdout",
     "output_type": "stream",
     "text": [
      "Epoch 40, Loss 0.0352\n",
      "Training Accuracy: 0.9608, Testing Accuracy: 0.9667\n",
      "\n"
     ]
    },
    {
     "name": "stdout",
     "output_type": "stream",
     "text": [
      "Epoch 50, Loss 0.0319\n",
      "Training Accuracy: 0.9650, Testing Accuracy: 0.9708\n",
      "\n"
     ]
    },
    {
     "name": "stdout",
     "output_type": "stream",
     "text": [
      "Epoch 60, Loss 0.0296\n",
      "Training Accuracy: 0.9671, Testing Accuracy: 0.9718\n",
      "\n"
     ]
    },
    {
     "name": "stdout",
     "output_type": "stream",
     "text": [
      "Epoch 70, Loss 0.0279\n",
      "Training Accuracy: 0.9685, Testing Accuracy: 0.9733\n",
      "\n"
     ]
    },
    {
     "name": "stdout",
     "output_type": "stream",
     "text": [
      "Epoch 80, Loss 0.0265\n",
      "Training Accuracy: 0.9703, Testing Accuracy: 0.9748\n",
      "\n"
     ]
    },
    {
     "name": "stdout",
     "output_type": "stream",
     "text": [
      "Epoch 90, Loss 0.0253\n",
      "Training Accuracy: 0.9713, Testing Accuracy: 0.9738\n",
      "\n"
     ]
    },
    {
     "name": "stdout",
     "output_type": "stream",
     "text": [
      "Epoch 100, Loss 0.0243\n",
      "Training Accuracy: 0.9721, Testing Accuracy: 0.9743\n",
      "\n"
     ]
    },
    {
     "name": "stdout",
     "output_type": "stream",
     "text": [
      "Epoch 110, Loss 0.0234\n",
      "Training Accuracy: 0.9735, Testing Accuracy: 0.9753\n",
      "\n"
     ]
    },
    {
     "name": "stdout",
     "output_type": "stream",
     "text": [
      "Epoch 120, Loss 0.0227\n",
      "Training Accuracy: 0.9745, Testing Accuracy: 0.9753\n",
      "\n"
     ]
    },
    {
     "name": "stdout",
     "output_type": "stream",
     "text": [
      "Epoch 130, Loss 0.022\n",
      "Training Accuracy: 0.9755, Testing Accuracy: 0.9753\n",
      "\n"
     ]
    },
    {
     "name": "stdout",
     "output_type": "stream",
     "text": [
      "Epoch 140, Loss 0.0214\n",
      "Training Accuracy: 0.9760, Testing Accuracy: 0.9748\n",
      "\n"
     ]
    },
    {
     "name": "stdout",
     "output_type": "stream",
     "text": [
      "Epoch 150, Loss 0.0208\n",
      "Training Accuracy: 0.9768, Testing Accuracy: 0.9758\n",
      "\n"
     ]
    },
    {
     "name": "stdout",
     "output_type": "stream",
     "text": [
      "Epoch 160, Loss 0.0202\n",
      "Training Accuracy: 0.9776, Testing Accuracy: 0.9763\n",
      "\n"
     ]
    },
    {
     "name": "stdout",
     "output_type": "stream",
     "text": [
      "Epoch 170, Loss 0.0197\n",
      "Training Accuracy: 0.9781, Testing Accuracy: 0.9768\n",
      "\n"
     ]
    },
    {
     "name": "stdout",
     "output_type": "stream",
     "text": [
      "Epoch 180, Loss 0.0193\n",
      "Training Accuracy: 0.9787, Testing Accuracy: 0.9768\n",
      "\n"
     ]
    },
    {
     "name": "stdout",
     "output_type": "stream",
     "text": [
      "Epoch 190, Loss 0.0188\n",
      "Training Accuracy: 0.9791, Testing Accuracy: 0.9763\n",
      "\n"
     ]
    },
    {
     "name": "stdout",
     "output_type": "stream",
     "text": [
      "Epoch 200, Loss 0.0184\n",
      "Training Accuracy: 0.9792, Testing Accuracy: 0.9763\n",
      "\n"
     ]
    },
    {
     "name": "stdout",
     "output_type": "stream",
     "text": [
      "Epoch 210, Loss 0.018\n",
      "Training Accuracy: 0.9798, Testing Accuracy: 0.9768\n",
      "\n"
     ]
    },
    {
     "name": "stdout",
     "output_type": "stream",
     "text": [
      "Epoch 220, Loss 0.0176\n",
      "Training Accuracy: 0.9805, Testing Accuracy: 0.9773\n",
      "\n"
     ]
    },
    {
     "name": "stdout",
     "output_type": "stream",
     "text": [
      "Epoch 230, Loss 0.0172\n",
      "Training Accuracy: 0.9811, Testing Accuracy: 0.9773\n",
      "\n"
     ]
    },
    {
     "name": "stdout",
     "output_type": "stream",
     "text": [
      "Epoch 240, Loss 0.0168\n",
      "Training Accuracy: 0.9814, Testing Accuracy: 0.9773\n",
      "\n"
     ]
    },
    {
     "name": "stdout",
     "output_type": "stream",
     "text": [
      "Epoch 250, Loss 0.0165\n",
      "Training Accuracy: 0.9816, Testing Accuracy: 0.9773\n",
      "\n"
     ]
    },
    {
     "data": {
      "text/plain": [
       "0.009893481267919942"
      ]
     },
     "execution_count": 20,
     "metadata": {},
     "output_type": "execute_result"
    }
   ],
   "source": [
    "print(\"====== Neural Network ======\")\n",
    "learner_nn.train_loop(dl)"
   ]
  },
  {
   "cell_type": "markdown",
   "id": "competent-suffering",
   "metadata": {
    "papermill": {
     "duration": 0.044118,
     "end_time": "2021-08-04T00:23:15.145788",
     "exception": false,
     "start_time": "2021-08-04T00:23:15.101670",
     "status": "completed"
    },
    "tags": []
   },
   "source": [
    "### Logistic Regression based Implementation."
   ]
  },
  {
   "cell_type": "code",
   "execution_count": 21,
   "id": "qualified-psychiatry",
   "metadata": {
    "execution": {
     "iopub.execute_input": "2021-08-04T00:23:15.242446Z",
     "iopub.status.busy": "2021-08-04T00:23:15.241698Z",
     "iopub.status.idle": "2021-08-04T00:23:15.254273Z",
     "shell.execute_reply": "2021-08-04T00:23:15.254730Z"
    },
    "papermill": {
     "duration": 0.05991,
     "end_time": "2021-08-04T00:23:15.254930",
     "exception": false,
     "start_time": "2021-08-04T00:23:15.195020",
     "status": "completed"
    },
    "tags": []
   },
   "outputs": [],
   "source": [
    "learner_lr = Learner(loss, model_lr, opt, config.num_epochs)\n",
    "acc_lr = ClfCallback(learner_lr, config.bs, training_xdata , testing_xdata, training_ydata, testing_ydata)\n",
    "learner_lr.set_callbacks([acc_lr])"
   ]
  },
  {
   "cell_type": "code",
   "execution_count": 22,
   "id": "average-outside",
   "metadata": {
    "execution": {
     "iopub.execute_input": "2021-08-04T00:23:15.352271Z",
     "iopub.status.busy": "2021-08-04T00:23:15.351251Z",
     "iopub.status.idle": "2021-08-04T00:23:35.649948Z",
     "shell.execute_reply": "2021-08-04T00:23:35.650691Z"
    },
    "papermill": {
     "duration": 20.34961,
     "end_time": "2021-08-04T00:23:35.650944",
     "exception": false,
     "start_time": "2021-08-04T00:23:15.301334",
     "status": "completed"
    },
    "tags": []
   },
   "outputs": [
    {
     "name": "stdout",
     "output_type": "stream",
     "text": [
      "====== Logistic Regression ======\n",
      "Epoch 0, Loss 0.2727\n",
      "Training Accuracy: 0.5523, Testing Accuracy: 0.5766\n",
      "\n"
     ]
    },
    {
     "name": "stdout",
     "output_type": "stream",
     "text": [
      "Epoch 10, Loss 0.1044\n",
      "Training Accuracy: 0.9104, Testing Accuracy: 0.9254\n",
      "\n"
     ]
    },
    {
     "name": "stdout",
     "output_type": "stream",
     "text": [
      "Epoch 20, Loss 0.0797\n",
      "Training Accuracy: 0.9272, Testing Accuracy: 0.9395\n",
      "\n"
     ]
    },
    {
     "name": "stdout",
     "output_type": "stream",
     "text": [
      "Epoch 30, Loss 0.0685\n",
      "Training Accuracy: 0.9362, Testing Accuracy: 0.9476\n",
      "\n"
     ]
    },
    {
     "name": "stdout",
     "output_type": "stream",
     "text": [
      "Epoch 40, Loss 0.0618\n",
      "Training Accuracy: 0.9411, Testing Accuracy: 0.9506\n",
      "\n"
     ]
    },
    {
     "name": "stdout",
     "output_type": "stream",
     "text": [
      "Epoch 50, Loss 0.0573\n",
      "Training Accuracy: 0.9437, Testing Accuracy: 0.9546\n",
      "\n"
     ]
    },
    {
     "name": "stdout",
     "output_type": "stream",
     "text": [
      "Epoch 60, Loss 0.0539\n",
      "Training Accuracy: 0.9466, Testing Accuracy: 0.9567\n",
      "\n"
     ]
    },
    {
     "name": "stdout",
     "output_type": "stream",
     "text": [
      "Epoch 70, Loss 0.0514\n",
      "Training Accuracy: 0.9490, Testing Accuracy: 0.9587\n",
      "\n"
     ]
    },
    {
     "name": "stdout",
     "output_type": "stream",
     "text": [
      "Epoch 80, Loss 0.0493\n",
      "Training Accuracy: 0.9503, Testing Accuracy: 0.9587\n",
      "\n"
     ]
    },
    {
     "name": "stdout",
     "output_type": "stream",
     "text": [
      "Epoch 90, Loss 0.0476\n",
      "Training Accuracy: 0.9513, Testing Accuracy: 0.9607\n",
      "\n"
     ]
    },
    {
     "name": "stdout",
     "output_type": "stream",
     "text": [
      "Epoch 100, Loss 0.0462\n",
      "Training Accuracy: 0.9523, Testing Accuracy: 0.9612\n",
      "\n"
     ]
    },
    {
     "name": "stdout",
     "output_type": "stream",
     "text": [
      "Epoch 110, Loss 0.0449\n",
      "Training Accuracy: 0.9536, Testing Accuracy: 0.9622\n",
      "\n"
     ]
    },
    {
     "name": "stdout",
     "output_type": "stream",
     "text": [
      "Epoch 120, Loss 0.0439\n",
      "Training Accuracy: 0.9543, Testing Accuracy: 0.9617\n",
      "\n"
     ]
    },
    {
     "name": "stdout",
     "output_type": "stream",
     "text": [
      "Epoch 130, Loss 0.0429\n",
      "Training Accuracy: 0.9548, Testing Accuracy: 0.9627\n",
      "\n"
     ]
    },
    {
     "name": "stdout",
     "output_type": "stream",
     "text": [
      "Epoch 140, Loss 0.0421\n",
      "Training Accuracy: 0.9556, Testing Accuracy: 0.9627\n",
      "\n"
     ]
    },
    {
     "name": "stdout",
     "output_type": "stream",
     "text": [
      "Epoch 150, Loss 0.0414\n",
      "Training Accuracy: 0.9561, Testing Accuracy: 0.9632\n",
      "\n"
     ]
    },
    {
     "name": "stdout",
     "output_type": "stream",
     "text": [
      "Epoch 160, Loss 0.0407\n",
      "Training Accuracy: 0.9571, Testing Accuracy: 0.9637\n",
      "\n"
     ]
    },
    {
     "name": "stdout",
     "output_type": "stream",
     "text": [
      "Epoch 170, Loss 0.0401\n",
      "Training Accuracy: 0.9574, Testing Accuracy: 0.9657\n",
      "\n"
     ]
    },
    {
     "name": "stdout",
     "output_type": "stream",
     "text": [
      "Epoch 180, Loss 0.0395\n",
      "Training Accuracy: 0.9580, Testing Accuracy: 0.9662\n",
      "\n"
     ]
    },
    {
     "name": "stdout",
     "output_type": "stream",
     "text": [
      "Epoch 190, Loss 0.039\n",
      "Training Accuracy: 0.9583, Testing Accuracy: 0.9662\n",
      "\n"
     ]
    },
    {
     "name": "stdout",
     "output_type": "stream",
     "text": [
      "Epoch 200, Loss 0.0385\n",
      "Training Accuracy: 0.9585, Testing Accuracy: 0.9677\n",
      "\n"
     ]
    },
    {
     "name": "stdout",
     "output_type": "stream",
     "text": [
      "Epoch 210, Loss 0.0381\n",
      "Training Accuracy: 0.9591, Testing Accuracy: 0.9682\n",
      "\n"
     ]
    },
    {
     "name": "stdout",
     "output_type": "stream",
     "text": [
      "Epoch 220, Loss 0.0376\n",
      "Training Accuracy: 0.9593, Testing Accuracy: 0.9682\n",
      "\n"
     ]
    },
    {
     "name": "stdout",
     "output_type": "stream",
     "text": [
      "Epoch 230, Loss 0.0373\n",
      "Training Accuracy: 0.9596, Testing Accuracy: 0.9682\n",
      "\n"
     ]
    },
    {
     "name": "stdout",
     "output_type": "stream",
     "text": [
      "Epoch 240, Loss 0.0369\n",
      "Training Accuracy: 0.9599, Testing Accuracy: 0.9688\n",
      "\n"
     ]
    },
    {
     "name": "stdout",
     "output_type": "stream",
     "text": [
      "Epoch 250, Loss 0.0366\n",
      "Training Accuracy: 0.9600, Testing Accuracy: 0.9703\n",
      "\n"
     ]
    },
    {
     "data": {
      "text/plain": [
       "0.06290594771547983"
      ]
     },
     "execution_count": 22,
     "metadata": {},
     "output_type": "execute_result"
    }
   ],
   "source": [
    "print(\"====== Logistic Regression ======\")\n",
    "learner_lr.train_loop(dl)"
   ]
  },
  {
   "cell_type": "markdown",
   "id": "adjusted-possible",
   "metadata": {
    "papermill": {
     "duration": 0.058356,
     "end_time": "2021-08-04T00:23:35.771118",
     "exception": false,
     "start_time": "2021-08-04T00:23:35.712762",
     "status": "completed"
    },
    "tags": []
   },
   "source": [
    "### Comparing results of NN and LR"
   ]
  },
  {
   "cell_type": "code",
   "execution_count": 23,
   "id": "mental-multimedia",
   "metadata": {
    "execution": {
     "iopub.execute_input": "2021-08-04T00:23:35.879315Z",
     "iopub.status.busy": "2021-08-04T00:23:35.878711Z",
     "iopub.status.idle": "2021-08-04T00:23:36.184716Z",
     "shell.execute_reply": "2021-08-04T00:23:36.184187Z"
    },
    "papermill": {
     "duration": 0.363929,
     "end_time": "2021-08-04T00:23:36.184843",
     "exception": false,
     "start_time": "2021-08-04T00:23:35.820914",
     "status": "completed"
    },
    "tags": []
   },
   "outputs": [
    {
     "data": {
      "text/plain": [
       "<matplotlib.legend.Legend at 0x7fb773ab0198>"
      ]
     },
     "execution_count": 23,
     "metadata": {},
     "output_type": "execute_result"
    },
    {
     "data": {
      "image/png": "[encoded data removed]",
      "text/plain": [
       "<Figure size 1080x720 with 1 Axes>"
      ]
     },
     "metadata": {
      "needs_background": "light"
     },
     "output_type": "display_data"
    }
   ],
   "source": [
    "plt.figure(figsize=(15,10))\n",
    "\n",
    "# Neural Network plots\n",
    "plt.plot(acc_nn.accuracies, 'r-', label = \"Training Accuracies - NN\")\n",
    "plt.plot(acc_nn.test_accuracies, 'g-', label = \"Testing Accuracies - NN\")\n",
    "\n",
    "# Logistic Regression plots\n",
    "plt.plot(acc_lr.accuracies, 'k-', label = \"Training Accuracies - LR\")\n",
    "plt.plot(acc_lr.test_accuracies, 'b-', label = \"Testing Accuracies - LR\")\n",
    "\n",
    "plt.ylim(0.8, 1)\n",
    "\n",
    "plt.legend()\n",
    "\n"
   ]
  },
  {
   "cell_type": "markdown",
   "id": "sexual-flesh",
   "metadata": {
    "papermill": {
     "duration": 0.055766,
     "end_time": "2021-08-04T00:23:36.293396",
     "exception": false,
     "start_time": "2021-08-04T00:23:36.237630",
     "status": "completed"
    },
    "tags": []
   },
   "source": [
    "### From the plot, we can observe the following:\n",
    "- Neural Network achieves higher accuracy than the Logistic Regression model.\n",
    "- This apparently, is because of overfitting, i.e. NN captures more noise than data.\n",
    "- Testing accuracy of NN drops below the Training accuracy at higher epochs. This explains the over-fitting on training data.\n",
    "- Logistic Regression gives a reliable accuracy, without the above mentioned problem.\n"
   ]
  },
  {
   "cell_type": "markdown",
   "id": "institutional-pacific",
   "metadata": {
    "papermill": {
     "duration": 0.0548,
     "end_time": "2021-08-04T00:23:36.405403",
     "exception": false,
     "start_time": "2021-08-04T00:23:36.350603",
     "status": "completed"
    },
    "tags": []
   },
   "source": [
    "### Moving till the last but one layer (excluding it).\n",
    "#### Plotting the outputs of this layer of the NN."
   ]
  },
  {
   "cell_type": "code",
   "execution_count": 24,
   "id": "economic-server",
   "metadata": {
    "execution": {
     "iopub.execute_input": "2021-08-04T00:23:36.522733Z",
     "iopub.status.busy": "2021-08-04T00:23:36.520597Z",
     "iopub.status.idle": "2021-08-04T00:23:36.535307Z",
     "shell.execute_reply": "2021-08-04T00:23:36.535825Z"
    },
    "papermill": {
     "duration": 0.074757,
     "end_time": "2021-08-04T00:23:36.535969",
     "exception": false,
     "start_time": "2021-08-04T00:23:36.461212",
     "status": "completed"
    },
    "tags": []
   },
   "outputs": [],
   "source": [
    "model_new = Model(layers[:-2])"
   ]
  },
  {
   "cell_type": "code",
   "execution_count": 25,
   "id": "varied-upgrade",
   "metadata": {
    "execution": {
     "iopub.execute_input": "2021-08-04T00:23:36.674719Z",
     "iopub.status.busy": "2021-08-04T00:23:36.671750Z",
     "iopub.status.idle": "2021-08-04T00:23:36.699343Z",
     "shell.execute_reply": "2021-08-04T00:23:36.700053Z"
    },
    "papermill": {
     "duration": 0.109818,
     "end_time": "2021-08-04T00:23:36.700194",
     "exception": false,
     "start_time": "2021-08-04T00:23:36.590376",
     "status": "completed"
    },
    "tags": []
   },
   "outputs": [],
   "source": [
    "plot_testing = model_new(testing_xdata)"
   ]
  },
  {
   "cell_type": "code",
   "execution_count": 26,
   "id": "specific-handling",
   "metadata": {
    "execution": {
     "iopub.execute_input": "2021-08-04T00:23:36.816472Z",
     "iopub.status.busy": "2021-08-04T00:23:36.815777Z",
     "iopub.status.idle": "2021-08-04T00:23:37.074993Z",
     "shell.execute_reply": "2021-08-04T00:23:37.075543Z"
    },
    "papermill": {
     "duration": 0.321508,
     "end_time": "2021-08-04T00:23:37.075681",
     "exception": false,
     "start_time": "2021-08-04T00:23:36.754173",
     "status": "completed"
    },
    "tags": []
   },
   "outputs": [
    {
     "data": {
      "text/plain": [
       "Text(0.5, 1.0, 'Outputs')"
      ]
     },
     "execution_count": 26,
     "metadata": {},
     "output_type": "execute_result"
    },
    {
     "data": {
      "image/png": "[encoded data removed]",
      "text/plain": [
       "<Figure size 576x504 with 1 Axes>"
      ]
     },
     "metadata": {
      "needs_background": "light"
     },
     "output_type": "display_data"
    }
   ],
   "source": [
    "plt.figure(figsize=(8,7))\n",
    "plt.scatter(plot_testing[:,0], plot_testing[:,1], alpha = 0.1, c = y_test.ravel());\n",
    "plt.title('Outputs')"
   ]
  },
  {
   "cell_type": "markdown",
   "id": "described-knowing",
   "metadata": {
    "papermill": {
     "duration": 0.058502,
     "end_time": "2021-08-04T00:23:37.189962",
     "exception": false,
     "start_time": "2021-08-04T00:23:37.131460",
     "status": "completed"
    },
    "tags": []
   },
   "source": [
    "### Plotting probability contours"
   ]
  },
  {
   "cell_type": "code",
   "execution_count": 27,
   "id": "needed-growing",
   "metadata": {
    "execution": {
     "iopub.execute_input": "2021-08-04T00:23:37.305309Z",
     "iopub.status.busy": "2021-08-04T00:23:37.304590Z",
     "iopub.status.idle": "2021-08-04T00:23:37.317249Z",
     "shell.execute_reply": "2021-08-04T00:23:37.316735Z"
    },
    "papermill": {
     "duration": 0.071751,
     "end_time": "2021-08-04T00:23:37.317368",
     "exception": false,
     "start_time": "2021-08-04T00:23:37.245617",
     "status": "completed"
    },
    "tags": []
   },
   "outputs": [],
   "source": [
    "model_prob = Model(layers[-2:]) "
   ]
  },
  {
   "cell_type": "code",
   "execution_count": 28,
   "id": "introductory-enforcement",
   "metadata": {
    "execution": {
     "iopub.execute_input": "2021-08-04T00:23:37.434593Z",
     "iopub.status.busy": "2021-08-04T00:23:37.433849Z",
     "iopub.status.idle": "2021-08-04T00:23:37.448662Z",
     "shell.execute_reply": "2021-08-04T00:23:37.449112Z"
    },
    "papermill": {
     "duration": 0.0774,
     "end_time": "2021-08-04T00:23:37.449310",
     "exception": false,
     "start_time": "2021-08-04T00:23:37.371910",
     "status": "completed"
    },
    "tags": []
   },
   "outputs": [],
   "source": [
    "# Adjust the x and y ranges according to the above generated plot.\n",
    "x_range = np.linspace(-4, 1, 100) \n",
    "y_range = np.linspace(-6, 6, 100) \n",
    "x_grid, y_grid = np.meshgrid(x_range, y_range) # x_grid and y_grig are of size 100 X 100\n",
    "\n",
    "# converting x_grid and y_grid to continuous arrays\n",
    "x_grid_flat = np.ravel(x_grid)\n",
    "y_grid_flat = np.ravel(y_grid)\n",
    "\n",
    "# The last layer of the current model takes two columns as input. Hence transpose of np.vstack() is required.\n",
    "X = np.vstack((x_grid_flat, y_grid_flat)).T\n",
    "\n",
    "# x_grid and y_grid are of size 100 x 100\n",
    "probability_contour = model_prob(X).reshape(100,100) "
   ]
  },
  {
   "cell_type": "code",
   "execution_count": 29,
   "id": "understood-landing",
   "metadata": {
    "execution": {
     "iopub.execute_input": "2021-08-04T00:23:37.582989Z",
     "iopub.status.busy": "2021-08-04T00:23:37.582400Z",
     "iopub.status.idle": "2021-08-04T00:23:37.898781Z",
     "shell.execute_reply": "2021-08-04T00:23:37.894435Z"
    },
    "papermill": {
     "duration": 0.387052,
     "end_time": "2021-08-04T00:23:37.898918",
     "exception": false,
     "start_time": "2021-08-04T00:23:37.511866",
     "status": "completed"
    },
    "tags": []
   },
   "outputs": [
    {
     "data": {
      "image/png": "[encoded data removed]",
      "text/plain": [
       "<Figure size 720x648 with 1 Axes>"
      ]
     },
     "metadata": {
      "needs_background": "light"
     },
     "output_type": "display_data"
    }
   ],
   "source": [
    "plt.figure(figsize=(10,9))\n",
    "plt.scatter(plot_testing[:,0], plot_testing[:,1], alpha = 0.1, c = y_test.ravel())\n",
    "contours = plt.contour(x_grid,y_grid,probability_contour)\n",
    "plt.title('Probability Contours')\n",
    "plt.clabel(contours, inline = True );"
   ]
  }
 ],
 "metadata": {
  "kernelspec": {
   "display_name": "Python 3",
   "language": "python",
   "name": "python3"
  },
  "language_info": {
   "codemirror_mode": {
    "name": "ipython",
    "version": 3
   },
   "file_extension": ".py",
   "mimetype": "text/x-python",
   "name": "python",
   "nbconvert_exporter": "python",
   "pygments_lexer": "ipython3",
   "version": "3.6.14"
  },
  "papermill": {
   "duration": 510.81526,
   "end_time": "2021-08-04T00:23:38.271012",
   "environment_variables": {},
   "exception": null,
   "input_path": "2020-08-11-NeuralNetwork.ipynb",
   "output_path": "2020-08-11-NeuralNetwork.ipynb",
   "parameters": {},
   "start_time": "2021-08-04T00:15:07.455752",
   "version": "2.1.2"
  }
 },
 "nbformat": 4,
 "nbformat_minor": 5
}