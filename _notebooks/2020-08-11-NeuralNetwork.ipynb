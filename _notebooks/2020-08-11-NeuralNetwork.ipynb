{
 "cells": [
  {
   "cell_type": "markdown",
   "metadata": {
    "papermill": {
     "duration": 0.029074,
     "end_time": "2021-01-06T20:11:43.360283",
     "exception": false,
     "start_time": "2021-01-06T20:11:43.331209",
     "status": "completed"
    },
    "tags": []
   },
   "source": [
    "# \"A Basic Neural Network: Differentiate Hand-Written Digits\"\n",
    "\n",
    "- badges: true\n",
    "- author: Akshith Sriram"
   ]
  },
  {
   "cell_type": "markdown",
   "metadata": {
    "papermill": {
     "duration": 0.023236,
     "end_time": "2021-01-06T20:11:43.406583",
     "exception": false,
     "start_time": "2021-01-06T20:11:43.383347",
     "status": "completed"
    },
    "tags": []
   },
   "source": [
    "### Key Objectives:\n",
    "- Building a neural network that differentiates two hand-written digits 3 and 8.\n",
    "- Comparing the results of this Neural Network (NN) to that of a Logistic Regression (LR) model.\n",
    "\n",
    "### Requirements:\n",
    "- 'Kudzu' : A neural network library that was designed during our course by [Univ.AI](www.univ.ai). \n",
    "- MNIST Database\n",
    "\n",
    "If MNIST is not installed, use the command `!pip install mnist` given below.\n",
    "It can be run both from the command line and Jupyter Notebook."
   ]
  },
  {
   "cell_type": "code",
   "execution_count": 1,
   "metadata": {
    "execution": {
     "iopub.execute_input": "2021-01-06T20:11:43.460467Z",
     "iopub.status.busy": "2021-01-06T20:11:43.459925Z",
     "iopub.status.idle": "2021-01-06T20:11:44.813831Z",
     "shell.execute_reply": "2021-01-06T20:11:44.813021Z"
    },
    "papermill": {
     "duration": 1.385985,
     "end_time": "2021-01-06T20:11:44.813984",
     "exception": false,
     "start_time": "2021-01-06T20:11:43.427999",
     "status": "completed"
    },
    "tags": []
   },
   "outputs": [
    {
     "name": "stdout",
     "output_type": "stream",
     "text": [
      "Collecting mnist\r\n"
     ]
    },
    {
     "name": "stdout",
     "output_type": "stream",
     "text": [
      "  Downloading mnist-0.2.2-py2.py3-none-any.whl (3.5 kB)\r\n"
     ]
    },
    {
     "name": "stdout",
     "output_type": "stream",
     "text": [
      "Requirement already satisfied: numpy in /opt/hostedtoolcache/Python/3.6.12/x64/lib/python3.6/site-packages (from mnist) (1.19.5)\r\n"
     ]
    },
    {
     "name": "stdout",
     "output_type": "stream",
     "text": [
      "Installing collected packages: mnist\r\n"
     ]
    },
    {
     "name": "stdout",
     "output_type": "stream",
     "text": [
      "Successfully installed mnist-0.2.2\r\n",
      "\u001b[33mWARNING: You are using pip version 20.3.1; however, version 20.3.3 is available.\r\n",
      "You should consider upgrading via the '/opt/hostedtoolcache/Python/3.6.12/x64/bin/python -m pip install --upgrade pip' command.\u001b[0m\r\n"
     ]
    }
   ],
   "source": [
    "!pip install mnist "
   ]
  },
  {
   "cell_type": "markdown",
   "metadata": {
    "papermill": {
     "duration": 0.022377,
     "end_time": "2021-01-06T20:11:44.859319",
     "exception": false,
     "start_time": "2021-01-06T20:11:44.836942",
     "status": "completed"
    },
    "tags": []
   },
   "source": [
    "#### Importing necessary libraries"
   ]
  },
  {
   "cell_type": "code",
   "execution_count": 2,
   "metadata": {
    "execution": {
     "iopub.execute_input": "2021-01-06T20:11:44.915148Z",
     "iopub.status.busy": "2021-01-06T20:11:44.912566Z",
     "iopub.status.idle": "2021-01-06T20:11:45.424996Z",
     "shell.execute_reply": "2021-01-06T20:11:45.424117Z"
    },
    "papermill": {
     "duration": 0.544245,
     "end_time": "2021-01-06T20:11:45.425223",
     "exception": false,
     "start_time": "2021-01-06T20:11:44.880978",
     "status": "completed"
    },
    "tags": []
   },
   "outputs": [],
   "source": [
    "%load_ext autoreload\n",
    "%autoreload 2\n",
    "\n",
    "%matplotlib inline\n",
    "import matplotlib.pyplot as plt\n",
    "\n",
    "import numpy as np\n",
    "import pandas as pd"
   ]
  },
  {
   "cell_type": "markdown",
   "metadata": {
    "papermill": {
     "duration": 0.024191,
     "end_time": "2021-01-06T20:11:45.474696",
     "exception": false,
     "start_time": "2021-01-06T20:11:45.450505",
     "status": "completed"
    },
    "tags": []
   },
   "source": [
    "### Preparing the Data"
   ]
  },
  {
   "cell_type": "code",
   "execution_count": 3,
   "metadata": {
    "execution": {
     "iopub.execute_input": "2021-01-06T20:11:45.530916Z",
     "iopub.status.busy": "2021-01-06T20:11:45.530321Z",
     "iopub.status.idle": "2021-01-06T20:11:45.539472Z",
     "shell.execute_reply": "2021-01-06T20:11:45.539002Z"
    },
    "papermill": {
     "duration": 0.041664,
     "end_time": "2021-01-06T20:11:45.539595",
     "exception": false,
     "start_time": "2021-01-06T20:11:45.497931",
     "status": "completed"
    },
    "tags": []
   },
   "outputs": [],
   "source": [
    "import mnist"
   ]
  },
  {
   "cell_type": "code",
   "execution_count": 4,
   "metadata": {
    "execution": {
     "iopub.execute_input": "2021-01-06T20:11:45.589242Z",
     "iopub.status.busy": "2021-01-06T20:11:45.588701Z",
     "iopub.status.idle": "2021-01-06T20:11:46.353892Z",
     "shell.execute_reply": "2021-01-06T20:11:46.353360Z"
    },
    "papermill": {
     "duration": 0.79248,
     "end_time": "2021-01-06T20:11:46.354021",
     "exception": false,
     "start_time": "2021-01-06T20:11:45.561541",
     "status": "completed"
    },
    "tags": []
   },
   "outputs": [],
   "source": [
    "train_images = mnist.train_images()\n",
    "train_labels = mnist.train_labels()"
   ]
  },
  {
   "cell_type": "code",
   "execution_count": 5,
   "metadata": {
    "execution": {
     "iopub.execute_input": "2021-01-06T20:11:46.407119Z",
     "iopub.status.busy": "2021-01-06T20:11:46.405626Z",
     "iopub.status.idle": "2021-01-06T20:11:46.419360Z",
     "shell.execute_reply": "2021-01-06T20:11:46.418900Z"
    },
    "papermill": {
     "duration": 0.042091,
     "end_time": "2021-01-06T20:11:46.419471",
     "exception": false,
     "start_time": "2021-01-06T20:11:46.377380",
     "status": "completed"
    },
    "tags": []
   },
   "outputs": [
    {
     "data": {
      "text/plain": [
       "((60000, 28, 28), (60000,))"
      ]
     },
     "execution_count": 5,
     "metadata": {},
     "output_type": "execute_result"
    }
   ],
   "source": [
    "train_images.shape, train_labels.shape"
   ]
  },
  {
   "cell_type": "code",
   "execution_count": 6,
   "metadata": {
    "execution": {
     "iopub.execute_input": "2021-01-06T20:11:46.475198Z",
     "iopub.status.busy": "2021-01-06T20:11:46.474651Z",
     "iopub.status.idle": "2021-01-06T20:11:46.738868Z",
     "shell.execute_reply": "2021-01-06T20:11:46.737394Z"
    },
    "papermill": {
     "duration": 0.296574,
     "end_time": "2021-01-06T20:11:46.739008",
     "exception": false,
     "start_time": "2021-01-06T20:11:46.442434",
     "status": "completed"
    },
    "tags": []
   },
   "outputs": [],
   "source": [
    "test_images = mnist.test_images()\n",
    "test_labels = mnist.test_labels()"
   ]
  },
  {
   "cell_type": "code",
   "execution_count": 7,
   "metadata": {
    "execution": {
     "iopub.execute_input": "2021-01-06T20:11:46.792046Z",
     "iopub.status.busy": "2021-01-06T20:11:46.791443Z",
     "iopub.status.idle": "2021-01-06T20:11:46.807622Z",
     "shell.execute_reply": "2021-01-06T20:11:46.807154Z"
    },
    "papermill": {
     "duration": 0.044636,
     "end_time": "2021-01-06T20:11:46.807740",
     "exception": false,
     "start_time": "2021-01-06T20:11:46.763104",
     "status": "completed"
    },
    "tags": []
   },
   "outputs": [
    {
     "data": {
      "text/plain": [
       "((10000, 28, 28), (10000,))"
      ]
     },
     "execution_count": 7,
     "metadata": {},
     "output_type": "execute_result"
    }
   ],
   "source": [
    "test_images.shape, test_labels.shape"
   ]
  },
  {
   "cell_type": "code",
   "execution_count": 8,
   "metadata": {
    "execution": {
     "iopub.execute_input": "2021-01-06T20:11:46.857146Z",
     "iopub.status.busy": "2021-01-06T20:11:46.856602Z",
     "iopub.status.idle": "2021-01-06T20:11:46.988751Z",
     "shell.execute_reply": "2021-01-06T20:11:46.988265Z"
    },
    "papermill": {
     "duration": 0.158784,
     "end_time": "2021-01-06T20:11:46.988863",
     "exception": false,
     "start_time": "2021-01-06T20:11:46.830079",
     "status": "completed"
    },
    "tags": []
   },
   "outputs": [
    {
     "name": "stdout",
     "output_type": "stream",
     "text": [
      "2\n"
     ]
    },
    {
     "data": {
      "text/plain": [
       "<matplotlib.image.AxesImage at 0x7f9b286d87b8>"
      ]
     },
     "execution_count": 8,
     "metadata": {},
     "output_type": "execute_result"
    },
    {
     "data": {
      "image/png": "[encoded data removed]",
      "text/plain": [
       "<Figure size 432x288 with 1 Axes>"
      ]
     },
     "metadata": {
      "needs_background": "light"
     },
     "output_type": "display_data"
    }
   ],
   "source": [
    "image_index = 7776 # You may select anything up to 60,000\n",
    "print(train_labels[image_index]) \n",
    "plt.imshow(train_images[image_index], cmap='Greys')"
   ]
  },
  {
   "cell_type": "markdown",
   "metadata": {
    "papermill": {
     "duration": 0.024146,
     "end_time": "2021-01-06T20:11:47.038172",
     "exception": false,
     "start_time": "2021-01-06T20:11:47.014026",
     "status": "completed"
    },
    "tags": []
   },
   "source": [
    "## Filter data to get 3 and 8 out"
   ]
  },
  {
   "cell_type": "code",
   "execution_count": 9,
   "metadata": {
    "execution": {
     "iopub.execute_input": "2021-01-06T20:11:47.102180Z",
     "iopub.status.busy": "2021-01-06T20:11:47.093985Z",
     "iopub.status.idle": "2021-01-06T20:11:47.113894Z",
     "shell.execute_reply": "2021-01-06T20:11:47.113430Z"
    },
    "papermill": {
     "duration": 0.051474,
     "end_time": "2021-01-06T20:11:47.114016",
     "exception": false,
     "start_time": "2021-01-06T20:11:47.062542",
     "status": "completed"
    },
    "tags": []
   },
   "outputs": [],
   "source": [
    "train_filter = np.where((train_labels == 3 ) | (train_labels == 8))\n",
    "test_filter = np.where((test_labels == 3) | (test_labels == 8))\n",
    "X_train, y_train = train_images[train_filter], train_labels[train_filter]\n",
    "X_test, y_test = test_images[test_filter], test_labels[test_filter]"
   ]
  },
  {
   "cell_type": "markdown",
   "metadata": {
    "papermill": {
     "duration": 0.025109,
     "end_time": "2021-01-06T20:11:47.163259",
     "exception": false,
     "start_time": "2021-01-06T20:11:47.138150",
     "status": "completed"
    },
    "tags": []
   },
   "source": [
    "We normalize the pixel values in the 0 to 1 range"
   ]
  },
  {
   "cell_type": "code",
   "execution_count": 10,
   "metadata": {
    "execution": {
     "iopub.execute_input": "2021-01-06T20:11:47.219584Z",
     "iopub.status.busy": "2021-01-06T20:11:47.219072Z",
     "iopub.status.idle": "2021-01-06T20:11:47.267721Z",
     "shell.execute_reply": "2021-01-06T20:11:47.267169Z"
    },
    "papermill": {
     "duration": 0.079892,
     "end_time": "2021-01-06T20:11:47.267859",
     "exception": false,
     "start_time": "2021-01-06T20:11:47.187967",
     "status": "completed"
    },
    "tags": []
   },
   "outputs": [],
   "source": [
    "X_train = X_train/255.\n",
    "X_test = X_test/255."
   ]
  },
  {
   "cell_type": "markdown",
   "metadata": {
    "papermill": {
     "duration": 0.025198,
     "end_time": "2021-01-06T20:11:47.321138",
     "exception": false,
     "start_time": "2021-01-06T20:11:47.295940",
     "status": "completed"
    },
    "tags": []
   },
   "source": [
    "Setup the labels as 1 (when the digit is 3) and 0 (when the digit is 8)"
   ]
  },
  {
   "cell_type": "code",
   "execution_count": 11,
   "metadata": {
    "execution": {
     "iopub.execute_input": "2021-01-06T20:11:47.374487Z",
     "iopub.status.busy": "2021-01-06T20:11:47.373980Z",
     "iopub.status.idle": "2021-01-06T20:11:47.386907Z",
     "shell.execute_reply": "2021-01-06T20:11:47.387350Z"
    },
    "papermill": {
     "duration": 0.042113,
     "end_time": "2021-01-06T20:11:47.387478",
     "exception": false,
     "start_time": "2021-01-06T20:11:47.345365",
     "status": "completed"
    },
    "tags": []
   },
   "outputs": [],
   "source": [
    "y_train = 1*(y_train==3)\n",
    "y_test = 1*(y_test==3)"
   ]
  },
  {
   "cell_type": "code",
   "execution_count": 12,
   "metadata": {
    "execution": {
     "iopub.execute_input": "2021-01-06T20:11:47.441186Z",
     "iopub.status.busy": "2021-01-06T20:11:47.440603Z",
     "iopub.status.idle": "2021-01-06T20:11:47.456037Z",
     "shell.execute_reply": "2021-01-06T20:11:47.456451Z"
    },
    "papermill": {
     "duration": 0.045053,
     "end_time": "2021-01-06T20:11:47.456599",
     "exception": false,
     "start_time": "2021-01-06T20:11:47.411546",
     "status": "completed"
    },
    "tags": []
   },
   "outputs": [
    {
     "data": {
      "text/plain": [
       "((11982, 28, 28), (1984, 28, 28))"
      ]
     },
     "execution_count": 12,
     "metadata": {},
     "output_type": "execute_result"
    }
   ],
   "source": [
    "X_train.shape, X_test.shape"
   ]
  },
  {
   "cell_type": "markdown",
   "metadata": {
    "papermill": {
     "duration": 0.022896,
     "end_time": "2021-01-06T20:11:47.506225",
     "exception": false,
     "start_time": "2021-01-06T20:11:47.483329",
     "status": "completed"
    },
    "tags": []
   },
   "source": [
    "### Reshape the input data to create a linear array"
   ]
  },
  {
   "cell_type": "code",
   "execution_count": 13,
   "metadata": {
    "execution": {
     "iopub.execute_input": "2021-01-06T20:11:47.557996Z",
     "iopub.status.busy": "2021-01-06T20:11:47.557521Z",
     "iopub.status.idle": "2021-01-06T20:11:47.569926Z",
     "shell.execute_reply": "2021-01-06T20:11:47.570617Z"
    },
    "papermill": {
     "duration": 0.040684,
     "end_time": "2021-01-06T20:11:47.570745",
     "exception": false,
     "start_time": "2021-01-06T20:11:47.530061",
     "status": "completed"
    },
    "tags": []
   },
   "outputs": [
    {
     "data": {
      "text/plain": [
       "((11982, 784), (1984, 784))"
      ]
     },
     "execution_count": 13,
     "metadata": {},
     "output_type": "execute_result"
    }
   ],
   "source": [
    "X_train = X_train.reshape(X_train.shape[0], -1)\n",
    "X_test = X_test.reshape(X_test.shape[0], -1)\n",
    "X_train.shape, X_test.shape"
   ]
  },
  {
   "cell_type": "markdown",
   "metadata": {
    "papermill": {
     "duration": 0.026145,
     "end_time": "2021-01-06T20:11:47.629517",
     "exception": false,
     "start_time": "2021-01-06T20:11:47.603372",
     "status": "completed"
    },
    "tags": []
   },
   "source": [
    "### Importing appropriate functions from 'Kudzu'"
   ]
  },
  {
   "cell_type": "code",
   "execution_count": 14,
   "metadata": {
    "execution": {
     "iopub.execute_input": "2021-01-06T20:11:47.685843Z",
     "iopub.status.busy": "2021-01-06T20:11:47.685362Z",
     "iopub.status.idle": "2021-01-06T20:11:47.704276Z",
     "shell.execute_reply": "2021-01-06T20:11:47.704734Z"
    },
    "papermill": {
     "duration": 0.049896,
     "end_time": "2021-01-06T20:11:47.704868",
     "exception": false,
     "start_time": "2021-01-06T20:11:47.654972",
     "status": "completed"
    },
    "tags": []
   },
   "outputs": [],
   "source": [
    "from kudzu.layer import Sigmoid\n",
    "from kudzu.layer import Relu\n",
    "from kudzu.layer import Affine, Sigmoid\n",
    "\n",
    "from kudzu.model import Model\n",
    "from kudzu.train import Learner\n",
    "from kudzu.optim import GD\n",
    "from kudzu.data import Data, Dataloader, Sampler\n",
    "\n",
    "from kudzu.callbacks import AccCallback\n",
    "from kudzu.callbacks import ClfCallback\n",
    "\n",
    "from kudzu.loss import MSE"
   ]
  },
  {
   "cell_type": "markdown",
   "metadata": {
    "papermill": {
     "duration": 0.025004,
     "end_time": "2021-01-06T20:11:47.753895",
     "exception": false,
     "start_time": "2021-01-06T20:11:47.728891",
     "status": "completed"
    },
    "tags": []
   },
   "source": [
    "### Let us create a `Config` class, to store important parameters. \n",
    "This class essentially plays the role of a dictionary."
   ]
  },
  {
   "cell_type": "code",
   "execution_count": 15,
   "metadata": {
    "execution": {
     "iopub.execute_input": "2021-01-06T20:11:47.805508Z",
     "iopub.status.busy": "2021-01-06T20:11:47.804850Z",
     "iopub.status.idle": "2021-01-06T20:11:47.819328Z",
     "shell.execute_reply": "2021-01-06T20:11:47.819795Z"
    },
    "papermill": {
     "duration": 0.041392,
     "end_time": "2021-01-06T20:11:47.819919",
     "exception": false,
     "start_time": "2021-01-06T20:11:47.778527",
     "status": "completed"
    },
    "tags": []
   },
   "outputs": [],
   "source": [
    "class Config:\n",
    "    pass\n",
    "config = Config()\n",
    "config.lr = 0.001\n",
    "config.num_epochs = 251\n",
    "config.bs = 50"
   ]
  },
  {
   "cell_type": "markdown",
   "metadata": {
    "papermill": {
     "duration": 0.025266,
     "end_time": "2021-01-06T20:11:47.870389",
     "exception": false,
     "start_time": "2021-01-06T20:11:47.845123",
     "status": "completed"
    },
    "tags": []
   },
   "source": [
    "### Initializing data to the variables"
   ]
  },
  {
   "cell_type": "code",
   "execution_count": 16,
   "metadata": {
    "execution": {
     "iopub.execute_input": "2021-01-06T20:11:47.925009Z",
     "iopub.status.busy": "2021-01-06T20:11:47.924518Z",
     "iopub.status.idle": "2021-01-06T20:11:47.936122Z",
     "shell.execute_reply": "2021-01-06T20:11:47.936564Z"
    },
    "papermill": {
     "duration": 0.041218,
     "end_time": "2021-01-06T20:11:47.936677",
     "exception": false,
     "start_time": "2021-01-06T20:11:47.895459",
     "status": "completed"
    },
    "tags": []
   },
   "outputs": [],
   "source": [
    "data = Data(X_train, y_train.reshape(-1,1))\n",
    "sampler = Sampler(data, config.bs, shuffle=True)\n",
    "\n",
    "dl = Dataloader(data, sampler)\n",
    "\n",
    "opt = GD(config.lr)\n",
    "loss = MSE()"
   ]
  },
  {
   "cell_type": "code",
   "execution_count": 17,
   "metadata": {
    "execution": {
     "iopub.execute_input": "2021-01-06T20:11:47.989277Z",
     "iopub.status.busy": "2021-01-06T20:11:47.988801Z",
     "iopub.status.idle": "2021-01-06T20:11:48.002582Z",
     "shell.execute_reply": "2021-01-06T20:11:48.002116Z"
    },
    "papermill": {
     "duration": 0.040982,
     "end_time": "2021-01-06T20:11:48.002686",
     "exception": false,
     "start_time": "2021-01-06T20:11:47.961704",
     "status": "completed"
    },
    "tags": []
   },
   "outputs": [],
   "source": [
    "training_xdata = X_train\n",
    "testing_xdata = X_test\n",
    "training_ydata = y_train.reshape(-1,1)\n",
    "testing_ydata = y_test.reshape(-1,1)"
   ]
  },
  {
   "cell_type": "markdown",
   "metadata": {
    "papermill": {
     "duration": 0.030628,
     "end_time": "2021-01-06T20:11:48.057616",
     "exception": false,
     "start_time": "2021-01-06T20:11:48.026988",
     "status": "completed"
    },
    "tags": []
   },
   "source": [
    "### Running Models with the Training data\n",
    "Details about the network layers:\n",
    "- A first affine layer has 784 inputs and does 100 affine transforms. These are followed by a Relu\n",
    "- A second affine layer has 100 inputs from the 100 activations of the past layer, and does 100 affine transforms. These are followed by a Relu\n",
    "- A third affine layer has 100 activations and does 2 affine transformations to create an embedding for visualization. There is no non-linearity here.\n",
    "- A final \"logistic regression\" which has an affine transform from 2 inputs to 1 output, which is squeezed through a sigmoid.\n",
    "\n",
    "Help taken from Anshuman's Notebook."
   ]
  },
  {
   "cell_type": "code",
   "execution_count": 18,
   "metadata": {
    "execution": {
     "iopub.execute_input": "2021-01-06T20:11:48.112229Z",
     "iopub.status.busy": "2021-01-06T20:11:48.111668Z",
     "iopub.status.idle": "2021-01-06T20:11:48.128444Z",
     "shell.execute_reply": "2021-01-06T20:11:48.127614Z"
    },
    "papermill": {
     "duration": 0.045294,
     "end_time": "2021-01-06T20:11:48.128543",
     "exception": false,
     "start_time": "2021-01-06T20:11:48.083249",
     "status": "completed"
    },
    "tags": []
   },
   "outputs": [],
   "source": [
    "# layers for the Neural Network\n",
    "layers = [Affine(\"first\", 784, 100), Relu(\"first\"), Affine(\"second\", 100, 100), Relu(\"second\"), Affine(\"third\", 100, 2), Affine(\"final\", 2, 1), Sigmoid(\"final\")]\n",
    "model_nn = Model(layers)\n",
    "\n",
    "# layers for the Logistic Regression\n",
    "layers_lr = [Affine(\"logits\", 784, 1), Sigmoid(\"sigmoid\")]\n",
    "model_lr = Model(layers_lr)"
   ]
  },
  {
   "cell_type": "code",
   "execution_count": 19,
   "metadata": {
    "execution": {
     "iopub.execute_input": "2021-01-06T20:11:48.187227Z",
     "iopub.status.busy": "2021-01-06T20:11:48.179618Z",
     "iopub.status.idle": "2021-01-06T20:11:48.190924Z",
     "shell.execute_reply": "2021-01-06T20:11:48.190511Z"
    },
    "papermill": {
     "duration": 0.038656,
     "end_time": "2021-01-06T20:11:48.191021",
     "exception": false,
     "start_time": "2021-01-06T20:11:48.152365",
     "status": "completed"
    },
    "tags": []
   },
   "outputs": [],
   "source": [
    "# suffix _nn stands for Neural Network.\n",
    "learner_nn = Learner(loss, model_nn, opt, config.num_epochs)\n",
    "acc_nn = ClfCallback(learner_nn, config.bs, training_xdata , testing_xdata, training_ydata, testing_ydata)\n",
    "learner_nn.set_callbacks([acc_nn])"
   ]
  },
  {
   "cell_type": "code",
   "execution_count": 20,
   "metadata": {
    "execution": {
     "iopub.execute_input": "2021-01-06T20:11:48.248623Z",
     "iopub.status.busy": "2021-01-06T20:11:48.248075Z",
     "iopub.status.idle": "2021-01-06T20:13:10.766950Z",
     "shell.execute_reply": "2021-01-06T20:13:10.767518Z"
    },
    "papermill": {
     "duration": 82.551537,
     "end_time": "2021-01-06T20:13:10.767678",
     "exception": false,
     "start_time": "2021-01-06T20:11:48.216141",
     "status": "completed"
    },
    "tags": []
   },
   "outputs": [
    {
     "name": "stdout",
     "output_type": "stream",
     "text": [
      "====== Neural Network ======\n"
     ]
    },
    {
     "name": "stdout",
     "output_type": "stream",
     "text": [
      "Epoch 0, Loss 0.2369\n",
      "Training Accuracy: 0.6940, Testing Accuracy: 0.7147\n",
      "\n"
     ]
    },
    {
     "name": "stdout",
     "output_type": "stream",
     "text": [
      "Epoch 10, Loss 0.0849\n",
      "Training Accuracy: 0.9135, Testing Accuracy: 0.9254\n",
      "\n"
     ]
    },
    {
     "name": "stdout",
     "output_type": "stream",
     "text": [
      "Epoch 20, Loss 0.0544\n",
      "Training Accuracy: 0.9403, Testing Accuracy: 0.9506\n",
      "\n"
     ]
    },
    {
     "name": "stdout",
     "output_type": "stream",
     "text": [
      "Epoch 30, Loss 0.0435\n",
      "Training Accuracy: 0.9501, Testing Accuracy: 0.9612\n",
      "\n"
     ]
    },
    {
     "name": "stdout",
     "output_type": "stream",
     "text": [
      "Epoch 40, Loss 0.0379\n",
      "Training Accuracy: 0.9573, Testing Accuracy: 0.9637\n",
      "\n"
     ]
    },
    {
     "name": "stdout",
     "output_type": "stream",
     "text": [
      "Epoch 50, Loss 0.0345\n",
      "Training Accuracy: 0.9603, Testing Accuracy: 0.9667\n",
      "\n"
     ]
    },
    {
     "name": "stdout",
     "output_type": "stream",
     "text": [
      "Epoch 60, Loss 0.0321\n",
      "Training Accuracy: 0.9634, Testing Accuracy: 0.9677\n",
      "\n"
     ]
    },
    {
     "name": "stdout",
     "output_type": "stream",
     "text": [
      "Epoch 70, Loss 0.0302\n",
      "Training Accuracy: 0.9654, Testing Accuracy: 0.9713\n",
      "\n"
     ]
    },
    {
     "name": "stdout",
     "output_type": "stream",
     "text": [
      "Epoch 80, Loss 0.0288\n",
      "Training Accuracy: 0.9667, Testing Accuracy: 0.9723\n",
      "\n"
     ]
    },
    {
     "name": "stdout",
     "output_type": "stream",
     "text": [
      "Epoch 90, Loss 0.0276\n",
      "Training Accuracy: 0.9674, Testing Accuracy: 0.9733\n",
      "\n"
     ]
    },
    {
     "name": "stdout",
     "output_type": "stream",
     "text": [
      "Epoch 100, Loss 0.0265\n",
      "Training Accuracy: 0.9690, Testing Accuracy: 0.9728\n",
      "\n"
     ]
    },
    {
     "name": "stdout",
     "output_type": "stream",
     "text": [
      "Epoch 110, Loss 0.0256\n",
      "Training Accuracy: 0.9699, Testing Accuracy: 0.9733\n",
      "\n"
     ]
    },
    {
     "name": "stdout",
     "output_type": "stream",
     "text": [
      "Epoch 120, Loss 0.0248\n",
      "Training Accuracy: 0.9714, Testing Accuracy: 0.9728\n",
      "\n"
     ]
    },
    {
     "name": "stdout",
     "output_type": "stream",
     "text": [
      "Epoch 130, Loss 0.0241\n",
      "Training Accuracy: 0.9719, Testing Accuracy: 0.9733\n",
      "\n"
     ]
    },
    {
     "name": "stdout",
     "output_type": "stream",
     "text": [
      "Epoch 140, Loss 0.0235\n",
      "Training Accuracy: 0.9730, Testing Accuracy: 0.9743\n",
      "\n"
     ]
    },
    {
     "name": "stdout",
     "output_type": "stream",
     "text": [
      "Epoch 150, Loss 0.0229\n",
      "Training Accuracy: 0.9737, Testing Accuracy: 0.9743\n",
      "\n"
     ]
    },
    {
     "name": "stdout",
     "output_type": "stream",
     "text": [
      "Epoch 160, Loss 0.0223\n",
      "Training Accuracy: 0.9749, Testing Accuracy: 0.9748\n",
      "\n"
     ]
    },
    {
     "name": "stdout",
     "output_type": "stream",
     "text": [
      "Epoch 170, Loss 0.0218\n",
      "Training Accuracy: 0.9757, Testing Accuracy: 0.9753\n",
      "\n"
     ]
    },
    {
     "name": "stdout",
     "output_type": "stream",
     "text": [
      "Epoch 180, Loss 0.0213\n",
      "Training Accuracy: 0.9765, Testing Accuracy: 0.9758\n",
      "\n"
     ]
    },
    {
     "name": "stdout",
     "output_type": "stream",
     "text": [
      "Epoch 190, Loss 0.0208\n",
      "Training Accuracy: 0.9772, Testing Accuracy: 0.9758\n",
      "\n"
     ]
    },
    {
     "name": "stdout",
     "output_type": "stream",
     "text": [
      "Epoch 200, Loss 0.0204\n",
      "Training Accuracy: 0.9780, Testing Accuracy: 0.9748\n",
      "\n"
     ]
    },
    {
     "name": "stdout",
     "output_type": "stream",
     "text": [
      "Epoch 210, Loss 0.02\n",
      "Training Accuracy: 0.9783, Testing Accuracy: 0.9748\n",
      "\n"
     ]
    },
    {
     "name": "stdout",
     "output_type": "stream",
     "text": [
      "Epoch 220, Loss 0.0196\n",
      "Training Accuracy: 0.9787, Testing Accuracy: 0.9753\n",
      "\n"
     ]
    },
    {
     "name": "stdout",
     "output_type": "stream",
     "text": [
      "Epoch 230, Loss 0.0192\n",
      "Training Accuracy: 0.9790, Testing Accuracy: 0.9763\n",
      "\n"
     ]
    },
    {
     "name": "stdout",
     "output_type": "stream",
     "text": [
      "Epoch 240, Loss 0.0188\n",
      "Training Accuracy: 0.9797, Testing Accuracy: 0.9768\n",
      "\n"
     ]
    },
    {
     "name": "stdout",
     "output_type": "stream",
     "text": [
      "Epoch 250, Loss 0.0185\n",
      "Training Accuracy: 0.9801, Testing Accuracy: 0.9768\n",
      "\n"
     ]
    },
    {
     "data": {
      "text/plain": [
       "0.01337596912341758"
      ]
     },
     "execution_count": 20,
     "metadata": {},
     "output_type": "execute_result"
    }
   ],
   "source": [
    "print(\"====== Neural Network ======\")\n",
    "learner_nn.train_loop(dl)"
   ]
  },
  {
   "cell_type": "markdown",
   "metadata": {
    "papermill": {
     "duration": 0.034362,
     "end_time": "2021-01-06T20:13:10.836056",
     "exception": false,
     "start_time": "2021-01-06T20:13:10.801694",
     "status": "completed"
    },
    "tags": []
   },
   "source": [
    "### Logistic Regression based Implementation."
   ]
  },
  {
   "cell_type": "code",
   "execution_count": 21,
   "metadata": {
    "execution": {
     "iopub.execute_input": "2021-01-06T20:13:10.907553Z",
     "iopub.status.busy": "2021-01-06T20:13:10.907065Z",
     "iopub.status.idle": "2021-01-06T20:13:10.917953Z",
     "shell.execute_reply": "2021-01-06T20:13:10.918378Z"
    },
    "papermill": {
     "duration": 0.049014,
     "end_time": "2021-01-06T20:13:10.918542",
     "exception": false,
     "start_time": "2021-01-06T20:13:10.869528",
     "status": "completed"
    },
    "tags": []
   },
   "outputs": [],
   "source": [
    "learner_lr = Learner(loss, model_lr, opt, config.num_epochs)\n",
    "acc_lr = ClfCallback(learner_lr, config.bs, training_xdata , testing_xdata, training_ydata, testing_ydata)\n",
    "learner_lr.set_callbacks([acc_lr])"
   ]
  },
  {
   "cell_type": "code",
   "execution_count": 22,
   "metadata": {
    "execution": {
     "iopub.execute_input": "2021-01-06T20:13:10.999032Z",
     "iopub.status.busy": "2021-01-06T20:13:10.998390Z",
     "iopub.status.idle": "2021-01-06T20:13:25.204897Z",
     "shell.execute_reply": "2021-01-06T20:13:25.204476Z"
    },
    "papermill": {
     "duration": 14.251897,
     "end_time": "2021-01-06T20:13:25.205012",
     "exception": false,
     "start_time": "2021-01-06T20:13:10.953115",
     "status": "completed"
    },
    "tags": []
   },
   "outputs": [
    {
     "name": "stdout",
     "output_type": "stream",
     "text": [
      "====== Logistic Regression ======\n",
      "Epoch 0, Loss 0.2902\n",
      "Training Accuracy: 0.4725, Testing Accuracy: 0.4582\n",
      "\n"
     ]
    },
    {
     "name": "stdout",
     "output_type": "stream",
     "text": [
      "Epoch 10, Loss 0.1131\n",
      "Training Accuracy: 0.8848, Testing Accuracy: 0.8962\n",
      "\n"
     ]
    },
    {
     "name": "stdout",
     "output_type": "stream",
     "text": [
      "Epoch 20, Loss 0.0852\n",
      "Training Accuracy: 0.9135, Testing Accuracy: 0.9269\n",
      "\n"
     ]
    },
    {
     "name": "stdout",
     "output_type": "stream",
     "text": [
      "Epoch 30, Loss 0.0725\n",
      "Training Accuracy: 0.9265, Testing Accuracy: 0.9385\n",
      "\n"
     ]
    },
    {
     "name": "stdout",
     "output_type": "stream",
     "text": [
      "Epoch 40, Loss 0.0649\n",
      "Training Accuracy: 0.9342, Testing Accuracy: 0.9425\n",
      "\n"
     ]
    },
    {
     "name": "stdout",
     "output_type": "stream",
     "text": [
      "Epoch 50, Loss 0.0597\n",
      "Training Accuracy: 0.9397, Testing Accuracy: 0.9481\n",
      "\n"
     ]
    },
    {
     "name": "stdout",
     "output_type": "stream",
     "text": [
      "Epoch 60, Loss 0.0559\n",
      "Training Accuracy: 0.9429, Testing Accuracy: 0.9551\n",
      "\n"
     ]
    },
    {
     "name": "stdout",
     "output_type": "stream",
     "text": [
      "Epoch 70, Loss 0.053\n",
      "Training Accuracy: 0.9463, Testing Accuracy: 0.9551\n",
      "\n"
     ]
    },
    {
     "name": "stdout",
     "output_type": "stream",
     "text": [
      "Epoch 80, Loss 0.0507\n",
      "Training Accuracy: 0.9479, Testing Accuracy: 0.9572\n",
      "\n"
     ]
    },
    {
     "name": "stdout",
     "output_type": "stream",
     "text": [
      "Epoch 90, Loss 0.0488\n",
      "Training Accuracy: 0.9495, Testing Accuracy: 0.9617\n",
      "\n"
     ]
    },
    {
     "name": "stdout",
     "output_type": "stream",
     "text": [
      "Epoch 100, Loss 0.0473\n",
      "Training Accuracy: 0.9512, Testing Accuracy: 0.9617\n",
      "\n"
     ]
    },
    {
     "name": "stdout",
     "output_type": "stream",
     "text": [
      "Epoch 110, Loss 0.0459\n",
      "Training Accuracy: 0.9523, Testing Accuracy: 0.9632\n",
      "\n"
     ]
    },
    {
     "name": "stdout",
     "output_type": "stream",
     "text": [
      "Epoch 120, Loss 0.0447\n",
      "Training Accuracy: 0.9536, Testing Accuracy: 0.9637\n",
      "\n"
     ]
    },
    {
     "name": "stdout",
     "output_type": "stream",
     "text": [
      "Epoch 130, Loss 0.0437\n",
      "Training Accuracy: 0.9547, Testing Accuracy: 0.9642\n",
      "\n"
     ]
    },
    {
     "name": "stdout",
     "output_type": "stream",
     "text": [
      "Epoch 140, Loss 0.0428\n",
      "Training Accuracy: 0.9553, Testing Accuracy: 0.9647\n",
      "\n"
     ]
    },
    {
     "name": "stdout",
     "output_type": "stream",
     "text": [
      "Epoch 150, Loss 0.042\n",
      "Training Accuracy: 0.9559, Testing Accuracy: 0.9642\n",
      "\n"
     ]
    },
    {
     "name": "stdout",
     "output_type": "stream",
     "text": [
      "Epoch 160, Loss 0.0413\n",
      "Training Accuracy: 0.9571, Testing Accuracy: 0.9637\n",
      "\n"
     ]
    },
    {
     "name": "stdout",
     "output_type": "stream",
     "text": [
      "Epoch 170, Loss 0.0406\n",
      "Training Accuracy: 0.9574, Testing Accuracy: 0.9642\n",
      "\n"
     ]
    },
    {
     "name": "stdout",
     "output_type": "stream",
     "text": [
      "Epoch 180, Loss 0.04\n",
      "Training Accuracy: 0.9577, Testing Accuracy: 0.9647\n",
      "\n"
     ]
    },
    {
     "name": "stdout",
     "output_type": "stream",
     "text": [
      "Epoch 190, Loss 0.0395\n",
      "Training Accuracy: 0.9583, Testing Accuracy: 0.9647\n",
      "\n"
     ]
    },
    {
     "name": "stdout",
     "output_type": "stream",
     "text": [
      "Epoch 200, Loss 0.0389\n",
      "Training Accuracy: 0.9584, Testing Accuracy: 0.9647\n",
      "\n"
     ]
    },
    {
     "name": "stdout",
     "output_type": "stream",
     "text": [
      "Epoch 210, Loss 0.0385\n",
      "Training Accuracy: 0.9589, Testing Accuracy: 0.9647\n",
      "\n"
     ]
    },
    {
     "name": "stdout",
     "output_type": "stream",
     "text": [
      "Epoch 220, Loss 0.038\n",
      "Training Accuracy: 0.9593, Testing Accuracy: 0.9652\n",
      "\n"
     ]
    },
    {
     "name": "stdout",
     "output_type": "stream",
     "text": [
      "Epoch 230, Loss 0.0376\n",
      "Training Accuracy: 0.9599, Testing Accuracy: 0.9652\n",
      "\n"
     ]
    },
    {
     "name": "stdout",
     "output_type": "stream",
     "text": [
      "Epoch 240, Loss 0.0372\n",
      "Training Accuracy: 0.9602, Testing Accuracy: 0.9657\n",
      "\n"
     ]
    },
    {
     "name": "stdout",
     "output_type": "stream",
     "text": [
      "Epoch 250, Loss 0.0369\n",
      "Training Accuracy: 0.9604, Testing Accuracy: 0.9657\n",
      "\n"
     ]
    },
    {
     "data": {
      "text/plain": [
       "0.04926661391987544"
      ]
     },
     "execution_count": 22,
     "metadata": {},
     "output_type": "execute_result"
    }
   ],
   "source": [
    "print(\"====== Logistic Regression ======\")\n",
    "learner_lr.train_loop(dl)"
   ]
  },
  {
   "cell_type": "markdown",
   "metadata": {
    "papermill": {
     "duration": 0.040831,
     "end_time": "2021-01-06T20:13:25.286664",
     "exception": false,
     "start_time": "2021-01-06T20:13:25.245833",
     "status": "completed"
    },
    "tags": []
   },
   "source": [
    "### Comparing results of NN and LR"
   ]
  },
  {
   "cell_type": "code",
   "execution_count": 23,
   "metadata": {
    "execution": {
     "iopub.execute_input": "2021-01-06T20:13:25.379930Z",
     "iopub.status.busy": "2021-01-06T20:13:25.379378Z",
     "iopub.status.idle": "2021-01-06T20:13:25.599638Z",
     "shell.execute_reply": "2021-01-06T20:13:25.599142Z"
    },
    "papermill": {
     "duration": 0.271249,
     "end_time": "2021-01-06T20:13:25.599755",
     "exception": false,
     "start_time": "2021-01-06T20:13:25.328506",
     "status": "completed"
    },
    "tags": []
   },
   "outputs": [
    {
     "data": {
      "text/plain": [
       "<matplotlib.legend.Legend at 0x7f9b282bac18>"
      ]
     },
     "execution_count": 23,
     "metadata": {},
     "output_type": "execute_result"
    },
    {
     "data": {
      "image/png": "[encoded data removed]",
      "text/plain": [
       "<Figure size 1080x720 with 1 Axes>"
      ]
     },
     "metadata": {
      "needs_background": "light"
     },
     "output_type": "display_data"
    }
   ],
   "source": [
    "plt.figure(figsize=(15,10))\n",
    "\n",
    "# Neural Network plots\n",
    "plt.plot(acc_nn.accuracies, 'r-', label = \"Training Accuracies - NN\")\n",
    "plt.plot(acc_nn.test_accuracies, 'g-', label = \"Testing Accuracies - NN\")\n",
    "\n",
    "# Logistic Regression plots\n",
    "plt.plot(acc_lr.accuracies, 'k-', label = \"Training Accuracies - LR\")\n",
    "plt.plot(acc_lr.test_accuracies, 'b-', label = \"Testing Accuracies - LR\")\n",
    "\n",
    "plt.ylim(0.8, 1)\n",
    "\n",
    "plt.legend()\n",
    "\n"
   ]
  },
  {
   "cell_type": "markdown",
   "metadata": {
    "papermill": {
     "duration": 0.039872,
     "end_time": "2021-01-06T20:13:25.680113",
     "exception": false,
     "start_time": "2021-01-06T20:13:25.640241",
     "status": "completed"
    },
    "tags": []
   },
   "source": [
    "### From the plot, we can observe the following:\n",
    "- Neural Network achieves higher accuracy than the Logistic Regression model.\n",
    "- This apparently, is because of overfitting, i.e. NN captures more noise than data.\n",
    "- Testing accuracy of NN drops below the Training accuracy at higher epochs. This explains the over-fitting on training data.\n",
    "- Logistic Regression gives a reliable accuracy, without the above mentioned problem.\n"
   ]
  },
  {
   "cell_type": "markdown",
   "metadata": {
    "papermill": {
     "duration": 0.041181,
     "end_time": "2021-01-06T20:13:25.762652",
     "exception": false,
     "start_time": "2021-01-06T20:13:25.721471",
     "status": "completed"
    },
    "tags": []
   },
   "source": [
    "### Moving till the last but one layer (excluding it).\n",
    "#### Plotting the outputs of this layer of the NN."
   ]
  },
  {
   "cell_type": "code",
   "execution_count": 24,
   "metadata": {
    "execution": {
     "iopub.execute_input": "2021-01-06T20:13:25.853694Z",
     "iopub.status.busy": "2021-01-06T20:13:25.852668Z",
     "iopub.status.idle": "2021-01-06T20:13:25.864305Z",
     "shell.execute_reply": "2021-01-06T20:13:25.864750Z"
    },
    "papermill": {
     "duration": 0.061318,
     "end_time": "2021-01-06T20:13:25.864890",
     "exception": false,
     "start_time": "2021-01-06T20:13:25.803572",
     "status": "completed"
    },
    "tags": []
   },
   "outputs": [],
   "source": [
    "model_new = Model(layers[:-2])"
   ]
  },
  {
   "cell_type": "code",
   "execution_count": 25,
   "metadata": {
    "execution": {
     "iopub.execute_input": "2021-01-06T20:13:25.958682Z",
     "iopub.status.busy": "2021-01-06T20:13:25.958174Z",
     "iopub.status.idle": "2021-01-06T20:13:25.976313Z",
     "shell.execute_reply": "2021-01-06T20:13:25.976960Z"
    },
    "papermill": {
     "duration": 0.068424,
     "end_time": "2021-01-06T20:13:25.977098",
     "exception": false,
     "start_time": "2021-01-06T20:13:25.908674",
     "status": "completed"
    },
    "tags": []
   },
   "outputs": [],
   "source": [
    "plot_testing = model_new(testing_xdata)"
   ]
  },
  {
   "cell_type": "code",
   "execution_count": 26,
   "metadata": {
    "execution": {
     "iopub.execute_input": "2021-01-06T20:13:26.071864Z",
     "iopub.status.busy": "2021-01-06T20:13:26.071336Z",
     "iopub.status.idle": "2021-01-06T20:13:26.253910Z",
     "shell.execute_reply": "2021-01-06T20:13:26.253351Z"
    },
    "papermill": {
     "duration": 0.233475,
     "end_time": "2021-01-06T20:13:26.254038",
     "exception": false,
     "start_time": "2021-01-06T20:13:26.020563",
     "status": "completed"
    },
    "tags": []
   },
   "outputs": [
    {
     "data": {
      "text/plain": [
       "Text(0.5, 1.0, 'Outputs')"
      ]
     },
     "execution_count": 26,
     "metadata": {},
     "output_type": "execute_result"
    },
    {
     "data": {
      "image/png": "[encoded data removed]",
      "text/plain": [
       "<Figure size 576x504 with 1 Axes>"
      ]
     },
     "metadata": {
      "needs_background": "light"
     },
     "output_type": "display_data"
    }
   ],
   "source": [
    "plt.figure(figsize=(8,7))\n",
    "plt.scatter(plot_testing[:,0], plot_testing[:,1], alpha = 0.1, c = y_test.ravel());\n",
    "plt.title('Outputs')"
   ]
  },
  {
   "cell_type": "markdown",
   "metadata": {
    "papermill": {
     "duration": 0.045695,
     "end_time": "2021-01-06T20:13:26.343363",
     "exception": false,
     "start_time": "2021-01-06T20:13:26.297668",
     "status": "completed"
    },
    "tags": []
   },
   "source": [
    "### Plotting probability contours"
   ]
  },
  {
   "cell_type": "code",
   "execution_count": 27,
   "metadata": {
    "execution": {
     "iopub.execute_input": "2021-01-06T20:13:26.431400Z",
     "iopub.status.busy": "2021-01-06T20:13:26.430816Z",
     "iopub.status.idle": "2021-01-06T20:13:26.445949Z",
     "shell.execute_reply": "2021-01-06T20:13:26.446445Z"
    },
    "papermill": {
     "duration": 0.061329,
     "end_time": "2021-01-06T20:13:26.446588",
     "exception": false,
     "start_time": "2021-01-06T20:13:26.385259",
     "status": "completed"
    },
    "tags": []
   },
   "outputs": [],
   "source": [
    "model_prob = Model(layers[-2:]) "
   ]
  },
  {
   "cell_type": "code",
   "execution_count": 28,
   "metadata": {
    "execution": {
     "iopub.execute_input": "2021-01-06T20:13:26.538470Z",
     "iopub.status.busy": "2021-01-06T20:13:26.537565Z",
     "iopub.status.idle": "2021-01-06T20:13:26.552030Z",
     "shell.execute_reply": "2021-01-06T20:13:26.552445Z"
    },
    "papermill": {
     "duration": 0.062611,
     "end_time": "2021-01-06T20:13:26.552585",
     "exception": false,
     "start_time": "2021-01-06T20:13:26.489974",
     "status": "completed"
    },
    "tags": []
   },
   "outputs": [],
   "source": [
    "# Adjust the x and y ranges according to the above generated plot.\n",
    "x_range = np.linspace(-4, 1, 100) \n",
    "y_range = np.linspace(-6, 6, 100) \n",
    "x_grid, y_grid = np.meshgrid(x_range, y_range) # x_grid and y_grig are of size 100 X 100\n",
    "\n",
    "# converting x_grid and y_grid to continuous arrays\n",
    "x_grid_flat = np.ravel(x_grid)\n",
    "y_grid_flat = np.ravel(y_grid)\n",
    "\n",
    "# The last layer of the current model takes two columns as input. Hence transpose of np.vstack() is required.\n",
    "X = np.vstack((x_grid_flat, y_grid_flat)).T\n",
    "\n",
    "# x_grid and y_grid are of size 100 x 100\n",
    "probability_contour = model_prob(X).reshape(100,100) "
   ]
  },
  {
   "cell_type": "code",
   "execution_count": 29,
   "metadata": {
    "execution": {
     "iopub.execute_input": "2021-01-06T20:13:26.672151Z",
     "iopub.status.busy": "2021-01-06T20:13:26.671533Z",
     "iopub.status.idle": "2021-01-06T20:13:26.904128Z",
     "shell.execute_reply": "2021-01-06T20:13:26.903652Z"
    },
    "papermill": {
     "duration": 0.282281,
     "end_time": "2021-01-06T20:13:26.904257",
     "exception": false,
     "start_time": "2021-01-06T20:13:26.621976",
     "status": "completed"
    },
    "tags": []
   },
   "outputs": [
    {
     "data": {
      "image/png": "[encoded data removed]",
      "text/plain": [
       "<Figure size 720x648 with 1 Axes>"
      ]
     },
     "metadata": {
      "needs_background": "light"
     },
     "output_type": "display_data"
    }
   ],
   "source": [
    "plt.figure(figsize=(10,9))\n",
    "plt.scatter(plot_testing[:,0], plot_testing[:,1], alpha = 0.1, c = y_test.ravel())\n",
    "contours = plt.contour(x_grid,y_grid,probability_contour)\n",
    "plt.title('Probability Contours')\n",
    "plt.clabel(contours, inline = True );"
   ]
  }
 ],
 "metadata": {
  "kernelspec": {
   "display_name": "Python 3",
   "language": "python",
   "name": "python3"
  },
  "language_info": {
   "codemirror_mode": {
    "name": "ipython",
    "version": 3
   },
   "file_extension": ".py",
   "mimetype": "text/x-python",
   "name": "python",
   "nbconvert_exporter": "python",
   "pygments_lexer": "ipython3",
   "version": "3.6.12"
  },
  "papermill": {
   "duration": 104.996002,
   "end_time": "2021-01-06T20:13:27.258531",
   "environment_variables": {},
   "exception": null,
   "input_path": "2020-08-11-NeuralNetwork.ipynb",
   "output_path": "2020-08-11-NeuralNetwork.ipynb",
   "parameters": {},
   "start_time": "2021-01-06T20:11:42.262529",
   "version": "2.1.2"
  }
 },
 "nbformat": 4,
 "nbformat_minor": 4
}