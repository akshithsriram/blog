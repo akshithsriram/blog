{
 "cells": [
  {
   "cell_type": "markdown",
   "metadata": {
    "papermill": {
     "duration": 0.031439,
     "end_time": "2020-08-14T10:04:11.399560",
     "exception": false,
     "start_time": "2020-08-14T10:04:11.368121",
     "status": "completed"
    },
    "tags": []
   },
   "source": [
    "# \"A Basic Neural Network: Differentiate Hand-Written Digits\"\n",
    "\n",
    "- badges: true\n",
    "- author: Akshith Sriram"
   ]
  },
  {
   "cell_type": "markdown",
   "metadata": {
    "papermill": {
     "duration": 0.028949,
     "end_time": "2020-08-14T10:04:11.455480",
     "exception": false,
     "start_time": "2020-08-14T10:04:11.426531",
     "status": "completed"
    },
    "tags": []
   },
   "source": [
    "### Key Objectives:\n",
    "- Building a neural network that differentiates two hand-written digits 3 and 8.\n",
    "- Comparing the results of this Neural Network (NN) to that of a Logistic Regression (LR) model.\n",
    "\n",
    "### Requirements:\n",
    "- 'Kudzu' : A neural network library that was designed during our course by [Univ.AI](www.univ.ai). \n",
    "- MNIST Database\n",
    "\n",
    "If MNIST is not installed, use the command `!pip install mnist` given below.\n",
    "It can be run both from the command line and Jupyter Notebook."
   ]
  },
  {
   "cell_type": "code",
   "execution_count": 1,
   "metadata": {
    "execution": {
     "iopub.execute_input": "2020-08-14T10:04:11.513603Z",
     "iopub.status.busy": "2020-08-14T10:04:11.512973Z",
     "iopub.status.idle": "2020-08-14T10:04:13.436439Z",
     "shell.execute_reply": "2020-08-14T10:04:13.435903Z"
    },
    "papermill": {
     "duration": 1.955077,
     "end_time": "2020-08-14T10:04:13.436603",
     "exception": false,
     "start_time": "2020-08-14T10:04:11.481526",
     "status": "completed"
    },
    "tags": []
   },
   "outputs": [
    {
     "name": "stdout",
     "output_type": "stream",
     "text": [
      "Collecting mnist\r\n"
     ]
    },
    {
     "name": "stdout",
     "output_type": "stream",
     "text": [
      "  Downloading mnist-0.2.2-py2.py3-none-any.whl (3.5 kB)\r\n"
     ]
    },
    {
     "name": "stdout",
     "output_type": "stream",
     "text": [
      "Requirement already satisfied: numpy in /opt/hostedtoolcache/Python/3.6.11/x64/lib/python3.6/site-packages (from mnist) (1.19.1)\r\n"
     ]
    },
    {
     "name": "stdout",
     "output_type": "stream",
     "text": [
      "Installing collected packages: mnist\r\n"
     ]
    },
    {
     "name": "stdout",
     "output_type": "stream",
     "text": [
      "Successfully installed mnist-0.2.2\r\n"
     ]
    },
    {
     "name": "stdout",
     "output_type": "stream",
     "text": [
      "\u001b[33mWARNING: You are using pip version 20.2.1; however, version 20.2.2 is available.\r\n",
      "You should consider upgrading via the '/opt/hostedtoolcache/Python/3.6.11/x64/bin/python -m pip install --upgrade pip' command.\u001b[0m\r\n"
     ]
    }
   ],
   "source": [
    "!pip install mnist "
   ]
  },
  {
   "cell_type": "markdown",
   "metadata": {
    "papermill": {
     "duration": 0.028583,
     "end_time": "2020-08-14T10:04:13.494522",
     "exception": false,
     "start_time": "2020-08-14T10:04:13.465939",
     "status": "completed"
    },
    "tags": []
   },
   "source": [
    "#### Importing necessary libraries"
   ]
  },
  {
   "cell_type": "code",
   "execution_count": 2,
   "metadata": {
    "execution": {
     "iopub.execute_input": "2020-08-14T10:04:13.559867Z",
     "iopub.status.busy": "2020-08-14T10:04:13.559126Z",
     "iopub.status.idle": "2020-08-14T10:04:14.199946Z",
     "shell.execute_reply": "2020-08-14T10:04:14.199390Z"
    },
    "papermill": {
     "duration": 0.677185,
     "end_time": "2020-08-14T10:04:14.200093",
     "exception": false,
     "start_time": "2020-08-14T10:04:13.522908",
     "status": "completed"
    },
    "tags": []
   },
   "outputs": [],
   "source": [
    "%load_ext autoreload\n",
    "%autoreload 2\n",
    "\n",
    "%matplotlib inline\n",
    "import matplotlib.pyplot as plt\n",
    "\n",
    "import numpy as np\n",
    "import pandas as pd"
   ]
  },
  {
   "cell_type": "markdown",
   "metadata": {
    "papermill": {
     "duration": 0.029951,
     "end_time": "2020-08-14T10:04:14.261119",
     "exception": false,
     "start_time": "2020-08-14T10:04:14.231168",
     "status": "completed"
    },
    "tags": []
   },
   "source": [
    "### Preparing the Data"
   ]
  },
  {
   "cell_type": "code",
   "execution_count": 3,
   "metadata": {
    "execution": {
     "iopub.execute_input": "2020-08-14T10:04:14.325938Z",
     "iopub.status.busy": "2020-08-14T10:04:14.325305Z",
     "iopub.status.idle": "2020-08-14T10:04:14.339511Z",
     "shell.execute_reply": "2020-08-14T10:04:14.338970Z"
    },
    "papermill": {
     "duration": 0.04888,
     "end_time": "2020-08-14T10:04:14.339648",
     "exception": false,
     "start_time": "2020-08-14T10:04:14.290768",
     "status": "completed"
    },
    "tags": []
   },
   "outputs": [],
   "source": [
    "import mnist"
   ]
  },
  {
   "cell_type": "code",
   "execution_count": 4,
   "metadata": {
    "execution": {
     "iopub.execute_input": "2020-08-14T10:04:14.403894Z",
     "iopub.status.busy": "2020-08-14T10:04:14.403201Z",
     "iopub.status.idle": "2020-08-14T10:04:15.577605Z",
     "shell.execute_reply": "2020-08-14T10:04:15.577030Z"
    },
    "papermill": {
     "duration": 1.208762,
     "end_time": "2020-08-14T10:04:15.577760",
     "exception": false,
     "start_time": "2020-08-14T10:04:14.368998",
     "status": "completed"
    },
    "tags": []
   },
   "outputs": [],
   "source": [
    "train_images = mnist.train_images()\n",
    "train_labels = mnist.train_labels()"
   ]
  },
  {
   "cell_type": "code",
   "execution_count": 5,
   "metadata": {
    "execution": {
     "iopub.execute_input": "2020-08-14T10:04:15.642190Z",
     "iopub.status.busy": "2020-08-14T10:04:15.641447Z",
     "iopub.status.idle": "2020-08-14T10:04:15.657139Z",
     "shell.execute_reply": "2020-08-14T10:04:15.657781Z"
    },
    "papermill": {
     "duration": 0.051015,
     "end_time": "2020-08-14T10:04:15.657945",
     "exception": false,
     "start_time": "2020-08-14T10:04:15.606930",
     "status": "completed"
    },
    "tags": []
   },
   "outputs": [
    {
     "data": {
      "text/plain": [
       "((60000, 28, 28), (60000,))"
      ]
     },
     "execution_count": 5,
     "metadata": {},
     "output_type": "execute_result"
    }
   ],
   "source": [
    "train_images.shape, train_labels.shape"
   ]
  },
  {
   "cell_type": "code",
   "execution_count": 6,
   "metadata": {
    "execution": {
     "iopub.execute_input": "2020-08-14T10:04:15.720674Z",
     "iopub.status.busy": "2020-08-14T10:04:15.720019Z",
     "iopub.status.idle": "2020-08-14T10:04:16.165193Z",
     "shell.execute_reply": "2020-08-14T10:04:16.164581Z"
    },
    "papermill": {
     "duration": 0.478415,
     "end_time": "2020-08-14T10:04:16.165334",
     "exception": false,
     "start_time": "2020-08-14T10:04:15.686919",
     "status": "completed"
    },
    "tags": []
   },
   "outputs": [],
   "source": [
    "test_images = mnist.test_images()\n",
    "test_labels = mnist.test_labels()"
   ]
  },
  {
   "cell_type": "code",
   "execution_count": 7,
   "metadata": {
    "execution": {
     "iopub.execute_input": "2020-08-14T10:04:16.235892Z",
     "iopub.status.busy": "2020-08-14T10:04:16.235220Z",
     "iopub.status.idle": "2020-08-14T10:04:16.253215Z",
     "shell.execute_reply": "2020-08-14T10:04:16.252576Z"
    },
    "papermill": {
     "duration": 0.055574,
     "end_time": "2020-08-14T10:04:16.253359",
     "exception": false,
     "start_time": "2020-08-14T10:04:16.197785",
     "status": "completed"
    },
    "tags": []
   },
   "outputs": [
    {
     "data": {
      "text/plain": [
       "((10000, 28, 28), (10000,))"
      ]
     },
     "execution_count": 7,
     "metadata": {},
     "output_type": "execute_result"
    }
   ],
   "source": [
    "test_images.shape, test_labels.shape"
   ]
  },
  {
   "cell_type": "code",
   "execution_count": 8,
   "metadata": {
    "execution": {
     "iopub.execute_input": "2020-08-14T10:04:16.324583Z",
     "iopub.status.busy": "2020-08-14T10:04:16.323935Z",
     "iopub.status.idle": "2020-08-14T10:04:16.489053Z",
     "shell.execute_reply": "2020-08-14T10:04:16.489594Z"
    },
    "papermill": {
     "duration": 0.203771,
     "end_time": "2020-08-14T10:04:16.489818",
     "exception": false,
     "start_time": "2020-08-14T10:04:16.286047",
     "status": "completed"
    },
    "tags": []
   },
   "outputs": [
    {
     "name": "stdout",
     "output_type": "stream",
     "text": [
      "2\n"
     ]
    },
    {
     "data": {
      "text/plain": [
       "<matplotlib.image.AxesImage at 0x7f839ec02278>"
      ]
     },
     "execution_count": 8,
     "metadata": {},
     "output_type": "execute_result"
    },
    {
     "data": {
      "image/png": "[encoded data removed]",
      "text/plain": [
       "<Figure size 432x288 with 1 Axes>"
      ]
     },
     "metadata": {
      "needs_background": "light"
     },
     "output_type": "display_data"
    }
   ],
   "source": [
    "image_index = 7776 # You may select anything up to 60,000\n",
    "print(train_labels[image_index]) \n",
    "plt.imshow(train_images[image_index], cmap='Greys')"
   ]
  },
  {
   "cell_type": "markdown",
   "metadata": {
    "papermill": {
     "duration": 0.03272,
     "end_time": "2020-08-14T10:04:16.555397",
     "exception": false,
     "start_time": "2020-08-14T10:04:16.522677",
     "status": "completed"
    },
    "tags": []
   },
   "source": [
    "## Filter data to get 3 and 8 out"
   ]
  },
  {
   "cell_type": "code",
   "execution_count": 9,
   "metadata": {
    "execution": {
     "iopub.execute_input": "2020-08-14T10:04:16.625415Z",
     "iopub.status.busy": "2020-08-14T10:04:16.624736Z",
     "iopub.status.idle": "2020-08-14T10:04:16.645972Z",
     "shell.execute_reply": "2020-08-14T10:04:16.645312Z"
    },
    "papermill": {
     "duration": 0.057673,
     "end_time": "2020-08-14T10:04:16.646119",
     "exception": false,
     "start_time": "2020-08-14T10:04:16.588446",
     "status": "completed"
    },
    "tags": []
   },
   "outputs": [],
   "source": [
    "train_filter = np.where((train_labels == 3 ) | (train_labels == 8))\n",
    "test_filter = np.where((test_labels == 3) | (test_labels == 8))\n",
    "X_train, y_train = train_images[train_filter], train_labels[train_filter]\n",
    "X_test, y_test = test_images[test_filter], test_labels[test_filter]"
   ]
  },
  {
   "cell_type": "markdown",
   "metadata": {
    "papermill": {
     "duration": 0.031342,
     "end_time": "2020-08-14T10:04:16.713956",
     "exception": false,
     "start_time": "2020-08-14T10:04:16.682614",
     "status": "completed"
    },
    "tags": []
   },
   "source": [
    "We normalize the pixel values in the 0 to 1 range"
   ]
  },
  {
   "cell_type": "code",
   "execution_count": 10,
   "metadata": {
    "execution": {
     "iopub.execute_input": "2020-08-14T10:04:16.787359Z",
     "iopub.status.busy": "2020-08-14T10:04:16.786544Z",
     "iopub.status.idle": "2020-08-14T10:04:16.842106Z",
     "shell.execute_reply": "2020-08-14T10:04:16.841548Z"
    },
    "papermill": {
     "duration": 0.094008,
     "end_time": "2020-08-14T10:04:16.842242",
     "exception": false,
     "start_time": "2020-08-14T10:04:16.748234",
     "status": "completed"
    },
    "tags": []
   },
   "outputs": [],
   "source": [
    "X_train = X_train/255.\n",
    "X_test = X_test/255."
   ]
  },
  {
   "cell_type": "markdown",
   "metadata": {
    "papermill": {
     "duration": 0.030274,
     "end_time": "2020-08-14T10:04:16.903291",
     "exception": false,
     "start_time": "2020-08-14T10:04:16.873017",
     "status": "completed"
    },
    "tags": []
   },
   "source": [
    "Setup the labels as 1 (when the digit is 3) and 0 (when the digit is 8)"
   ]
  },
  {
   "cell_type": "code",
   "execution_count": 11,
   "metadata": {
    "execution": {
     "iopub.execute_input": "2020-08-14T10:04:16.974909Z",
     "iopub.status.busy": "2020-08-14T10:04:16.974190Z",
     "iopub.status.idle": "2020-08-14T10:04:16.989382Z",
     "shell.execute_reply": "2020-08-14T10:04:16.988844Z"
    },
    "papermill": {
     "duration": 0.05553,
     "end_time": "2020-08-14T10:04:16.989531",
     "exception": false,
     "start_time": "2020-08-14T10:04:16.934001",
     "status": "completed"
    },
    "tags": []
   },
   "outputs": [],
   "source": [
    "y_train = 1*(y_train==3)\n",
    "y_test = 1*(y_test==3)"
   ]
  },
  {
   "cell_type": "code",
   "execution_count": 12,
   "metadata": {
    "execution": {
     "iopub.execute_input": "2020-08-14T10:04:17.055201Z",
     "iopub.status.busy": "2020-08-14T10:04:17.054372Z",
     "iopub.status.idle": "2020-08-14T10:04:17.073380Z",
     "shell.execute_reply": "2020-08-14T10:04:17.072745Z"
    },
    "papermill": {
     "duration": 0.053232,
     "end_time": "2020-08-14T10:04:17.073517",
     "exception": false,
     "start_time": "2020-08-14T10:04:17.020285",
     "status": "completed"
    },
    "tags": []
   },
   "outputs": [
    {
     "data": {
      "text/plain": [
       "((11982, 28, 28), (1984, 28, 28))"
      ]
     },
     "execution_count": 12,
     "metadata": {},
     "output_type": "execute_result"
    }
   ],
   "source": [
    "X_train.shape, X_test.shape"
   ]
  },
  {
   "cell_type": "markdown",
   "metadata": {
    "papermill": {
     "duration": 0.03536,
     "end_time": "2020-08-14T10:04:17.144756",
     "exception": false,
     "start_time": "2020-08-14T10:04:17.109396",
     "status": "completed"
    },
    "tags": []
   },
   "source": [
    "### Reshape the input data to create a linear array"
   ]
  },
  {
   "cell_type": "code",
   "execution_count": 13,
   "metadata": {
    "execution": {
     "iopub.execute_input": "2020-08-14T10:04:17.214095Z",
     "iopub.status.busy": "2020-08-14T10:04:17.213172Z",
     "iopub.status.idle": "2020-08-14T10:04:17.229043Z",
     "shell.execute_reply": "2020-08-14T10:04:17.228486Z"
    },
    "papermill": {
     "duration": 0.051198,
     "end_time": "2020-08-14T10:04:17.229185",
     "exception": false,
     "start_time": "2020-08-14T10:04:17.177987",
     "status": "completed"
    },
    "tags": []
   },
   "outputs": [
    {
     "data": {
      "text/plain": [
       "((11982, 784), (1984, 784))"
      ]
     },
     "execution_count": 13,
     "metadata": {},
     "output_type": "execute_result"
    }
   ],
   "source": [
    "X_train = X_train.reshape(X_train.shape[0], -1)\n",
    "X_test = X_test.reshape(X_test.shape[0], -1)\n",
    "X_train.shape, X_test.shape"
   ]
  },
  {
   "cell_type": "markdown",
   "metadata": {
    "papermill": {
     "duration": 0.032868,
     "end_time": "2020-08-14T10:04:17.294883",
     "exception": false,
     "start_time": "2020-08-14T10:04:17.262015",
     "status": "completed"
    },
    "tags": []
   },
   "source": [
    "### Importing appropriate functions from 'Kudzu'"
   ]
  },
  {
   "cell_type": "code",
   "execution_count": 14,
   "metadata": {
    "execution": {
     "iopub.execute_input": "2020-08-14T10:04:17.367030Z",
     "iopub.status.busy": "2020-08-14T10:04:17.366403Z",
     "iopub.status.idle": "2020-08-14T10:04:17.386945Z",
     "shell.execute_reply": "2020-08-14T10:04:17.387488Z"
    },
    "papermill": {
     "duration": 0.058716,
     "end_time": "2020-08-14T10:04:17.387657",
     "exception": false,
     "start_time": "2020-08-14T10:04:17.328941",
     "status": "completed"
    },
    "tags": []
   },
   "outputs": [],
   "source": [
    "from kudzu.layer import Sigmoid\n",
    "from kudzu.layer import Relu\n",
    "from kudzu.layer import Affine, Sigmoid\n",
    "\n",
    "from kudzu.model import Model\n",
    "from kudzu.train import Learner\n",
    "from kudzu.optim import GD\n",
    "from kudzu.data import Data, Dataloader, Sampler\n",
    "\n",
    "from kudzu.callbacks import AccCallback\n",
    "from kudzu.callbacks import ClfCallback\n",
    "\n",
    "from kudzu.loss import MSE"
   ]
  },
  {
   "cell_type": "markdown",
   "metadata": {
    "papermill": {
     "duration": 0.030273,
     "end_time": "2020-08-14T10:04:17.449145",
     "exception": false,
     "start_time": "2020-08-14T10:04:17.418872",
     "status": "completed"
    },
    "tags": []
   },
   "source": [
    "### Let us create a `Config` class, to store important parameters. \n",
    "This class essentially plays the role of a dictionary."
   ]
  },
  {
   "cell_type": "code",
   "execution_count": 15,
   "metadata": {
    "execution": {
     "iopub.execute_input": "2020-08-14T10:04:17.516582Z",
     "iopub.status.busy": "2020-08-14T10:04:17.515950Z",
     "iopub.status.idle": "2020-08-14T10:04:17.529851Z",
     "shell.execute_reply": "2020-08-14T10:04:17.529333Z"
    },
    "papermill": {
     "duration": 0.049172,
     "end_time": "2020-08-14T10:04:17.529982",
     "exception": false,
     "start_time": "2020-08-14T10:04:17.480810",
     "status": "completed"
    },
    "tags": []
   },
   "outputs": [],
   "source": [
    "class Config:\n",
    "    pass\n",
    "config = Config()\n",
    "config.lr = 0.001\n",
    "config.num_epochs = 251\n",
    "config.bs = 50"
   ]
  },
  {
   "cell_type": "markdown",
   "metadata": {
    "papermill": {
     "duration": 0.031983,
     "end_time": "2020-08-14T10:04:17.594705",
     "exception": false,
     "start_time": "2020-08-14T10:04:17.562722",
     "status": "completed"
    },
    "tags": []
   },
   "source": [
    "### Initializing data to the variables"
   ]
  },
  {
   "cell_type": "code",
   "execution_count": 16,
   "metadata": {
    "execution": {
     "iopub.execute_input": "2020-08-14T10:04:17.664201Z",
     "iopub.status.busy": "2020-08-14T10:04:17.663483Z",
     "iopub.status.idle": "2020-08-14T10:04:17.677426Z",
     "shell.execute_reply": "2020-08-14T10:04:17.676912Z"
    },
    "papermill": {
     "duration": 0.05119,
     "end_time": "2020-08-14T10:04:17.677568",
     "exception": false,
     "start_time": "2020-08-14T10:04:17.626378",
     "status": "completed"
    },
    "tags": []
   },
   "outputs": [],
   "source": [
    "data = Data(X_train, y_train.reshape(-1,1))\n",
    "sampler = Sampler(data, config.bs, shuffle=True)\n",
    "\n",
    "dl = Dataloader(data, sampler)\n",
    "\n",
    "opt = GD(config.lr)\n",
    "loss = MSE()"
   ]
  },
  {
   "cell_type": "code",
   "execution_count": 17,
   "metadata": {
    "execution": {
     "iopub.execute_input": "2020-08-14T10:04:17.745754Z",
     "iopub.status.busy": "2020-08-14T10:04:17.745118Z",
     "iopub.status.idle": "2020-08-14T10:04:17.759471Z",
     "shell.execute_reply": "2020-08-14T10:04:17.759963Z"
    },
    "papermill": {
     "duration": 0.051067,
     "end_time": "2020-08-14T10:04:17.760120",
     "exception": false,
     "start_time": "2020-08-14T10:04:17.709053",
     "status": "completed"
    },
    "tags": []
   },
   "outputs": [],
   "source": [
    "training_xdata = X_train\n",
    "testing_xdata = X_test\n",
    "training_ydata = y_train.reshape(-1,1)\n",
    "testing_ydata = y_test.reshape(-1,1)"
   ]
  },
  {
   "cell_type": "markdown",
   "metadata": {
    "papermill": {
     "duration": 0.031455,
     "end_time": "2020-08-14T10:04:17.822518",
     "exception": false,
     "start_time": "2020-08-14T10:04:17.791063",
     "status": "completed"
    },
    "tags": []
   },
   "source": [
    "### Running Models with the Training data\n",
    "Details about the network layers:\n",
    "- A first affine layer has 784 inputs and does 100 affine transforms. These are followed by a Relu\n",
    "- A second affine layer has 100 inputs from the 100 activations of the past layer, and does 100 affine transforms. These are followed by a Relu\n",
    "- A third affine layer has 100 activations and does 2 affine transformations to create an embedding for visualization. There is no non-linearity here.\n",
    "- A final \"logistic regression\" which has an affine transform from 2 inputs to 1 output, which is squeezed through a sigmoid.\n",
    "\n",
    "Help taken from Anshuman's Notebook."
   ]
  },
  {
   "cell_type": "code",
   "execution_count": 18,
   "metadata": {
    "execution": {
     "iopub.execute_input": "2020-08-14T10:04:18.066432Z",
     "iopub.status.busy": "2020-08-14T10:04:18.065673Z",
     "iopub.status.idle": "2020-08-14T10:04:18.084763Z",
     "shell.execute_reply": "2020-08-14T10:04:18.085254Z"
    },
    "papermill": {
     "duration": 0.119141,
     "end_time": "2020-08-14T10:04:18.085424",
     "exception": false,
     "start_time": "2020-08-14T10:04:17.966283",
     "status": "completed"
    },
    "tags": []
   },
   "outputs": [],
   "source": [
    "# layers for the Neural Network\n",
    "layers = [Affine(\"first\", 784, 100), Relu(\"first\"), Affine(\"second\", 100, 100), Relu(\"second\"), Affine(\"third\", 100, 2), Affine(\"final\", 2, 1), Sigmoid(\"final\")]\n",
    "model_nn = Model(layers)\n",
    "\n",
    "# layers for the Logistic Regression\n",
    "layers_lr = [Affine(\"logits\", 784, 1), Sigmoid(\"sigmoid\")]\n",
    "model_lr = Model(layers_lr)"
   ]
  },
  {
   "cell_type": "code",
   "execution_count": 19,
   "metadata": {
    "execution": {
     "iopub.execute_input": "2020-08-14T10:04:18.269629Z",
     "iopub.status.busy": "2020-08-14T10:04:18.269010Z",
     "iopub.status.idle": "2020-08-14T10:04:18.284320Z",
     "shell.execute_reply": "2020-08-14T10:04:18.283652Z"
    },
    "papermill": {
     "duration": 0.168118,
     "end_time": "2020-08-14T10:04:18.284532",
     "exception": false,
     "start_time": "2020-08-14T10:04:18.116414",
     "status": "completed"
    },
    "tags": []
   },
   "outputs": [],
   "source": [
    "# suffix _nn stands for Neural Network.\n",
    "learner_nn = Learner(loss, model_nn, opt, config.num_epochs)\n",
    "acc_nn = ClfCallback(learner_nn, config.bs, training_xdata , testing_xdata, training_ydata, testing_ydata)\n",
    "learner_nn.set_callbacks([acc_nn])"
   ]
  },
  {
   "cell_type": "code",
   "execution_count": 20,
   "metadata": {
    "execution": {
     "iopub.execute_input": "2020-08-14T10:04:18.361192Z",
     "iopub.status.busy": "2020-08-14T10:04:18.360501Z",
     "iopub.status.idle": "2020-08-14T10:05:57.262043Z",
     "shell.execute_reply": "2020-08-14T10:05:57.262869Z"
    },
    "papermill": {
     "duration": 98.941987,
     "end_time": "2020-08-14T10:05:57.263042",
     "exception": false,
     "start_time": "2020-08-14T10:04:18.321055",
     "status": "completed"
    },
    "tags": []
   },
   "outputs": [
    {
     "name": "stdout",
     "output_type": "stream",
     "text": [
      "====== Neural Network ======\n"
     ]
    },
    {
     "name": "stdout",
     "output_type": "stream",
     "text": [
      "Epoch 0, Loss 0.2429\n",
      "Training Accuracy: 0.6719, Testing Accuracy: 0.6749\n",
      "\n"
     ]
    },
    {
     "name": "stdout",
     "output_type": "stream",
     "text": [
      "Epoch 10, Loss 0.0714\n",
      "Training Accuracy: 0.9279, Testing Accuracy: 0.9370\n",
      "\n"
     ]
    },
    {
     "name": "stdout",
     "output_type": "stream",
     "text": [
      "Epoch 20, Loss 0.0479\n",
      "Training Accuracy: 0.9476, Testing Accuracy: 0.9556\n",
      "\n"
     ]
    },
    {
     "name": "stdout",
     "output_type": "stream",
     "text": [
      "Epoch 30, Loss 0.0392\n",
      "Training Accuracy: 0.9564, Testing Accuracy: 0.9622\n",
      "\n"
     ]
    },
    {
     "name": "stdout",
     "output_type": "stream",
     "text": [
      "Epoch 40, Loss 0.0346\n",
      "Training Accuracy: 0.9619, Testing Accuracy: 0.9657\n",
      "\n"
     ]
    },
    {
     "name": "stdout",
     "output_type": "stream",
     "text": [
      "Epoch 50, Loss 0.0317\n",
      "Training Accuracy: 0.9639, Testing Accuracy: 0.9688\n",
      "\n"
     ]
    },
    {
     "name": "stdout",
     "output_type": "stream",
     "text": [
      "Epoch 60, Loss 0.0296\n",
      "Training Accuracy: 0.9663, Testing Accuracy: 0.9703\n",
      "\n"
     ]
    },
    {
     "name": "stdout",
     "output_type": "stream",
     "text": [
      "Epoch 70, Loss 0.028\n",
      "Training Accuracy: 0.9677, Testing Accuracy: 0.9718\n",
      "\n"
     ]
    },
    {
     "name": "stdout",
     "output_type": "stream",
     "text": [
      "Epoch 80, Loss 0.0267\n",
      "Training Accuracy: 0.9686, Testing Accuracy: 0.9723\n",
      "\n"
     ]
    },
    {
     "name": "stdout",
     "output_type": "stream",
     "text": [
      "Epoch 90, Loss 0.0256\n",
      "Training Accuracy: 0.9697, Testing Accuracy: 0.9743\n",
      "\n"
     ]
    },
    {
     "name": "stdout",
     "output_type": "stream",
     "text": [
      "Epoch 100, Loss 0.0246\n",
      "Training Accuracy: 0.9712, Testing Accuracy: 0.9748\n",
      "\n"
     ]
    },
    {
     "name": "stdout",
     "output_type": "stream",
     "text": [
      "Epoch 110, Loss 0.0238\n",
      "Training Accuracy: 0.9722, Testing Accuracy: 0.9748\n",
      "\n"
     ]
    },
    {
     "name": "stdout",
     "output_type": "stream",
     "text": [
      "Epoch 120, Loss 0.0231\n",
      "Training Accuracy: 0.9730, Testing Accuracy: 0.9738\n",
      "\n"
     ]
    },
    {
     "name": "stdout",
     "output_type": "stream",
     "text": [
      "Epoch 130, Loss 0.0224\n",
      "Training Accuracy: 0.9738, Testing Accuracy: 0.9733\n",
      "\n"
     ]
    },
    {
     "name": "stdout",
     "output_type": "stream",
     "text": [
      "Epoch 140, Loss 0.0218\n",
      "Training Accuracy: 0.9744, Testing Accuracy: 0.9728\n",
      "\n"
     ]
    },
    {
     "name": "stdout",
     "output_type": "stream",
     "text": [
      "Epoch 150, Loss 0.0212\n",
      "Training Accuracy: 0.9755, Testing Accuracy: 0.9728\n",
      "\n"
     ]
    },
    {
     "name": "stdout",
     "output_type": "stream",
     "text": [
      "Epoch 160, Loss 0.0206\n",
      "Training Accuracy: 0.9765, Testing Accuracy: 0.9743\n",
      "\n"
     ]
    },
    {
     "name": "stdout",
     "output_type": "stream",
     "text": [
      "Epoch 170, Loss 0.0201\n",
      "Training Accuracy: 0.9770, Testing Accuracy: 0.9738\n",
      "\n"
     ]
    },
    {
     "name": "stdout",
     "output_type": "stream",
     "text": [
      "Epoch 180, Loss 0.0196\n",
      "Training Accuracy: 0.9778, Testing Accuracy: 0.9743\n",
      "\n"
     ]
    },
    {
     "name": "stdout",
     "output_type": "stream",
     "text": [
      "Epoch 190, Loss 0.0192\n",
      "Training Accuracy: 0.9784, Testing Accuracy: 0.9738\n",
      "\n"
     ]
    },
    {
     "name": "stdout",
     "output_type": "stream",
     "text": [
      "Epoch 200, Loss 0.0187\n",
      "Training Accuracy: 0.9790, Testing Accuracy: 0.9748\n",
      "\n"
     ]
    },
    {
     "name": "stdout",
     "output_type": "stream",
     "text": [
      "Epoch 210, Loss 0.0183\n",
      "Training Accuracy: 0.9791, Testing Accuracy: 0.9743\n",
      "\n"
     ]
    },
    {
     "name": "stdout",
     "output_type": "stream",
     "text": [
      "Epoch 220, Loss 0.0179\n",
      "Training Accuracy: 0.9798, Testing Accuracy: 0.9748\n",
      "\n"
     ]
    },
    {
     "name": "stdout",
     "output_type": "stream",
     "text": [
      "Epoch 230, Loss 0.0175\n",
      "Training Accuracy: 0.9803, Testing Accuracy: 0.9753\n",
      "\n"
     ]
    },
    {
     "name": "stdout",
     "output_type": "stream",
     "text": [
      "Epoch 240, Loss 0.0172\n",
      "Training Accuracy: 0.9811, Testing Accuracy: 0.9753\n",
      "\n"
     ]
    },
    {
     "name": "stdout",
     "output_type": "stream",
     "text": [
      "Epoch 250, Loss 0.0168\n",
      "Training Accuracy: 0.9816, Testing Accuracy: 0.9753\n",
      "\n"
     ]
    },
    {
     "data": {
      "text/plain": [
       "0.03301693824867583"
      ]
     },
     "execution_count": 20,
     "metadata": {},
     "output_type": "execute_result"
    }
   ],
   "source": [
    "print(\"====== Neural Network ======\")\n",
    "learner_nn.train_loop(dl)"
   ]
  },
  {
   "cell_type": "markdown",
   "metadata": {
    "papermill": {
     "duration": 0.040623,
     "end_time": "2020-08-14T10:05:57.346289",
     "exception": false,
     "start_time": "2020-08-14T10:05:57.305666",
     "status": "completed"
    },
    "tags": []
   },
   "source": [
    "### Logistic Regression based Implementation."
   ]
  },
  {
   "cell_type": "code",
   "execution_count": 21,
   "metadata": {
    "execution": {
     "iopub.execute_input": "2020-08-14T10:05:57.430658Z",
     "iopub.status.busy": "2020-08-14T10:05:57.429966Z",
     "iopub.status.idle": "2020-08-14T10:05:57.443067Z",
     "shell.execute_reply": "2020-08-14T10:05:57.442549Z"
    },
    "papermill": {
     "duration": 0.056022,
     "end_time": "2020-08-14T10:05:57.443201",
     "exception": false,
     "start_time": "2020-08-14T10:05:57.387179",
     "status": "completed"
    },
    "tags": []
   },
   "outputs": [],
   "source": [
    "learner_lr = Learner(loss, model_lr, opt, config.num_epochs)\n",
    "acc_lr = ClfCallback(learner_lr, config.bs, training_xdata , testing_xdata, training_ydata, testing_ydata)\n",
    "learner_lr.set_callbacks([acc_lr])"
   ]
  },
  {
   "cell_type": "code",
   "execution_count": 22,
   "metadata": {
    "execution": {
     "iopub.execute_input": "2020-08-14T10:05:57.534035Z",
     "iopub.status.busy": "2020-08-14T10:05:57.533430Z",
     "iopub.status.idle": "2020-08-14T10:06:15.567816Z",
     "shell.execute_reply": "2020-08-14T10:06:15.568688Z"
    },
    "papermill": {
     "duration": 18.082797,
     "end_time": "2020-08-14T10:06:15.568853",
     "exception": false,
     "start_time": "2020-08-14T10:05:57.486056",
     "status": "completed"
    },
    "tags": []
   },
   "outputs": [
    {
     "name": "stdout",
     "output_type": "stream",
     "text": [
      "====== Logistic Regression ======\n",
      "Epoch 0, Loss 0.215\n",
      "Training Accuracy: 0.7993, Testing Accuracy: 0.8039\n",
      "\n"
     ]
    },
    {
     "name": "stdout",
     "output_type": "stream",
     "text": [
      "Epoch 10, Loss 0.0983\n",
      "Training Accuracy: 0.9140, Testing Accuracy: 0.9284\n",
      "\n"
     ]
    },
    {
     "name": "stdout",
     "output_type": "stream",
     "text": [
      "Epoch 20, Loss 0.0772\n",
      "Training Accuracy: 0.9274, Testing Accuracy: 0.9390\n",
      "\n"
     ]
    },
    {
     "name": "stdout",
     "output_type": "stream",
     "text": [
      "Epoch 30, Loss 0.0671\n",
      "Training Accuracy: 0.9372, Testing Accuracy: 0.9486\n",
      "\n"
     ]
    },
    {
     "name": "stdout",
     "output_type": "stream",
     "text": [
      "Epoch 40, Loss 0.0609\n",
      "Training Accuracy: 0.9422, Testing Accuracy: 0.9541\n",
      "\n"
     ]
    },
    {
     "name": "stdout",
     "output_type": "stream",
     "text": [
      "Epoch 50, Loss 0.0566\n",
      "Training Accuracy: 0.9458, Testing Accuracy: 0.9577\n",
      "\n"
     ]
    },
    {
     "name": "stdout",
     "output_type": "stream",
     "text": [
      "Epoch 60, Loss 0.0534\n",
      "Training Accuracy: 0.9486, Testing Accuracy: 0.9597\n",
      "\n"
     ]
    },
    {
     "name": "stdout",
     "output_type": "stream",
     "text": [
      "Epoch 70, Loss 0.051\n",
      "Training Accuracy: 0.9498, Testing Accuracy: 0.9597\n",
      "\n"
     ]
    },
    {
     "name": "stdout",
     "output_type": "stream",
     "text": [
      "Epoch 80, Loss 0.049\n",
      "Training Accuracy: 0.9509, Testing Accuracy: 0.9607\n",
      "\n"
     ]
    },
    {
     "name": "stdout",
     "output_type": "stream",
     "text": [
      "Epoch 90, Loss 0.0473\n",
      "Training Accuracy: 0.9522, Testing Accuracy: 0.9607\n",
      "\n"
     ]
    },
    {
     "name": "stdout",
     "output_type": "stream",
     "text": [
      "Epoch 100, Loss 0.0459\n",
      "Training Accuracy: 0.9531, Testing Accuracy: 0.9617\n",
      "\n"
     ]
    },
    {
     "name": "stdout",
     "output_type": "stream",
     "text": [
      "Epoch 110, Loss 0.0447\n",
      "Training Accuracy: 0.9537, Testing Accuracy: 0.9622\n",
      "\n"
     ]
    },
    {
     "name": "stdout",
     "output_type": "stream",
     "text": [
      "Epoch 120, Loss 0.0437\n",
      "Training Accuracy: 0.9545, Testing Accuracy: 0.9637\n",
      "\n"
     ]
    },
    {
     "name": "stdout",
     "output_type": "stream",
     "text": [
      "Epoch 130, Loss 0.0428\n",
      "Training Accuracy: 0.9549, Testing Accuracy: 0.9637\n",
      "\n"
     ]
    },
    {
     "name": "stdout",
     "output_type": "stream",
     "text": [
      "Epoch 140, Loss 0.042\n",
      "Training Accuracy: 0.9561, Testing Accuracy: 0.9637\n",
      "\n"
     ]
    },
    {
     "name": "stdout",
     "output_type": "stream",
     "text": [
      "Epoch 150, Loss 0.0412\n",
      "Training Accuracy: 0.9567, Testing Accuracy: 0.9647\n",
      "\n"
     ]
    },
    {
     "name": "stdout",
     "output_type": "stream",
     "text": [
      "Epoch 160, Loss 0.0406\n",
      "Training Accuracy: 0.9570, Testing Accuracy: 0.9652\n",
      "\n"
     ]
    },
    {
     "name": "stdout",
     "output_type": "stream",
     "text": [
      "Epoch 170, Loss 0.04\n",
      "Training Accuracy: 0.9575, Testing Accuracy: 0.9667\n",
      "\n"
     ]
    },
    {
     "name": "stdout",
     "output_type": "stream",
     "text": [
      "Epoch 180, Loss 0.0394\n",
      "Training Accuracy: 0.9580, Testing Accuracy: 0.9667\n",
      "\n"
     ]
    },
    {
     "name": "stdout",
     "output_type": "stream",
     "text": [
      "Epoch 190, Loss 0.0389\n",
      "Training Accuracy: 0.9587, Testing Accuracy: 0.9672\n",
      "\n"
     ]
    },
    {
     "name": "stdout",
     "output_type": "stream",
     "text": [
      "Epoch 200, Loss 0.0384\n",
      "Training Accuracy: 0.9590, Testing Accuracy: 0.9672\n",
      "\n"
     ]
    },
    {
     "name": "stdout",
     "output_type": "stream",
     "text": [
      "Epoch 210, Loss 0.038\n",
      "Training Accuracy: 0.9594, Testing Accuracy: 0.9677\n",
      "\n"
     ]
    },
    {
     "name": "stdout",
     "output_type": "stream",
     "text": [
      "Epoch 220, Loss 0.0376\n",
      "Training Accuracy: 0.9601, Testing Accuracy: 0.9682\n",
      "\n"
     ]
    },
    {
     "name": "stdout",
     "output_type": "stream",
     "text": [
      "Epoch 230, Loss 0.0372\n",
      "Training Accuracy: 0.9607, Testing Accuracy: 0.9682\n",
      "\n"
     ]
    },
    {
     "name": "stdout",
     "output_type": "stream",
     "text": [
      "Epoch 240, Loss 0.0369\n",
      "Training Accuracy: 0.9609, Testing Accuracy: 0.9682\n",
      "\n"
     ]
    },
    {
     "name": "stdout",
     "output_type": "stream",
     "text": [
      "Epoch 250, Loss 0.0365\n",
      "Training Accuracy: 0.9609, Testing Accuracy: 0.9688\n",
      "\n"
     ]
    },
    {
     "data": {
      "text/plain": [
       "0.03397141197386072"
      ]
     },
     "execution_count": 22,
     "metadata": {},
     "output_type": "execute_result"
    }
   ],
   "source": [
    "print(\"====== Logistic Regression ======\")\n",
    "learner_lr.train_loop(dl)"
   ]
  },
  {
   "cell_type": "markdown",
   "metadata": {
    "papermill": {
     "duration": 0.045346,
     "end_time": "2020-08-14T10:06:15.661149",
     "exception": false,
     "start_time": "2020-08-14T10:06:15.615803",
     "status": "completed"
    },
    "tags": []
   },
   "source": [
    "### Comparing results of NN and LR"
   ]
  },
  {
   "cell_type": "code",
   "execution_count": 23,
   "metadata": {
    "execution": {
     "iopub.execute_input": "2020-08-14T10:06:15.760776Z",
     "iopub.status.busy": "2020-08-14T10:06:15.759950Z",
     "iopub.status.idle": "2020-08-14T10:06:16.028159Z",
     "shell.execute_reply": "2020-08-14T10:06:16.028819Z"
    },
    "papermill": {
     "duration": 0.321368,
     "end_time": "2020-08-14T10:06:16.028989",
     "exception": false,
     "start_time": "2020-08-14T10:06:15.707621",
     "status": "completed"
    },
    "tags": []
   },
   "outputs": [
    {
     "data": {
      "text/plain": [
       "<matplotlib.legend.Legend at 0x7f839e7e0978>"
      ]
     },
     "execution_count": 23,
     "metadata": {},
     "output_type": "execute_result"
    },
    {
     "data": {
      "image/png": "[encoded data removed]",
      "text/plain": [
       "<Figure size 1080x720 with 1 Axes>"
      ]
     },
     "metadata": {
      "needs_background": "light"
     },
     "output_type": "display_data"
    }
   ],
   "source": [
    "plt.figure(figsize=(15,10))\n",
    "\n",
    "# Neural Network plots\n",
    "plt.plot(acc_nn.accuracies, 'r-', label = \"Training Accuracies - NN\")\n",
    "plt.plot(acc_nn.test_accuracies, 'g-', label = \"Testing Accuracies - NN\")\n",
    "\n",
    "# Logistic Regression plots\n",
    "plt.plot(acc_lr.accuracies, 'k-', label = \"Training Accuracies - LR\")\n",
    "plt.plot(acc_lr.test_accuracies, 'b-', label = \"Testing Accuracies - LR\")\n",
    "\n",
    "plt.ylim(0.8, 1)\n",
    "\n",
    "plt.legend()\n",
    "\n"
   ]
  },
  {
   "cell_type": "markdown",
   "metadata": {
    "papermill": {
     "duration": 0.050652,
     "end_time": "2020-08-14T10:06:16.136315",
     "exception": false,
     "start_time": "2020-08-14T10:06:16.085663",
     "status": "completed"
    },
    "tags": []
   },
   "source": [
    "### From the plot, we can observe the following:\n",
    "- Neural Network achieves higher accuracy than the Logistic Regression model.\n",
    "- This apparently, is because of overfitting, i.e. NN captures more noise than data.\n",
    "- Testing accuracy of NN drops below the Training accuracy at higher epochs. This explains the over-fitting on training data.\n",
    "- Logistic Regression gives a reliable accuracy, without the above mentioned problem.\n"
   ]
  },
  {
   "cell_type": "markdown",
   "metadata": {
    "papermill": {
     "duration": 0.055575,
     "end_time": "2020-08-14T10:06:16.249620",
     "exception": false,
     "start_time": "2020-08-14T10:06:16.194045",
     "status": "completed"
    },
    "tags": []
   },
   "source": [
    "### Moving till the last but one layer (excluding it).\n",
    "#### Plotting the outputs of this layer of the NN."
   ]
  },
  {
   "cell_type": "code",
   "execution_count": 24,
   "metadata": {
    "execution": {
     "iopub.execute_input": "2020-08-14T10:06:16.356522Z",
     "iopub.status.busy": "2020-08-14T10:06:16.355905Z",
     "iopub.status.idle": "2020-08-14T10:06:16.369487Z",
     "shell.execute_reply": "2020-08-14T10:06:16.370179Z"
    },
    "papermill": {
     "duration": 0.069103,
     "end_time": "2020-08-14T10:06:16.370496",
     "exception": false,
     "start_time": "2020-08-14T10:06:16.301393",
     "status": "completed"
    },
    "tags": []
   },
   "outputs": [],
   "source": [
    "model_new = Model(layers[:-2])"
   ]
  },
  {
   "cell_type": "code",
   "execution_count": 25,
   "metadata": {
    "execution": {
     "iopub.execute_input": "2020-08-14T10:06:16.478845Z",
     "iopub.status.busy": "2020-08-14T10:06:16.478227Z",
     "iopub.status.idle": "2020-08-14T10:06:16.499543Z",
     "shell.execute_reply": "2020-08-14T10:06:16.500306Z"
    },
    "papermill": {
     "duration": 0.078082,
     "end_time": "2020-08-14T10:06:16.500470",
     "exception": false,
     "start_time": "2020-08-14T10:06:16.422388",
     "status": "completed"
    },
    "tags": []
   },
   "outputs": [],
   "source": [
    "plot_testing = model_new(testing_xdata)"
   ]
  },
  {
   "cell_type": "code",
   "execution_count": 26,
   "metadata": {
    "execution": {
     "iopub.execute_input": "2020-08-14T10:06:16.614798Z",
     "iopub.status.busy": "2020-08-14T10:06:16.614137Z",
     "iopub.status.idle": "2020-08-14T10:06:16.835276Z",
     "shell.execute_reply": "2020-08-14T10:06:16.834683Z"
    },
    "papermill": {
     "duration": 0.282378,
     "end_time": "2020-08-14T10:06:16.835472",
     "exception": false,
     "start_time": "2020-08-14T10:06:16.553094",
     "status": "completed"
    },
    "tags": []
   },
   "outputs": [
    {
     "data": {
      "text/plain": [
       "Text(0.5, 1.0, 'Outputs')"
      ]
     },
     "execution_count": 26,
     "metadata": {},
     "output_type": "execute_result"
    },
    {
     "data": {
      "image/png": "[encoded data removed]",
      "text/plain": [
       "<Figure size 576x504 with 1 Axes>"
      ]
     },
     "metadata": {
      "needs_background": "light"
     },
     "output_type": "display_data"
    }
   ],
   "source": [
    "plt.figure(figsize=(8,7))\n",
    "plt.scatter(plot_testing[:,0], plot_testing[:,1], alpha = 0.1, c = y_test.ravel());\n",
    "plt.title('Outputs')"
   ]
  },
  {
   "cell_type": "markdown",
   "metadata": {
    "papermill": {
     "duration": 0.051147,
     "end_time": "2020-08-14T10:06:16.938790",
     "exception": false,
     "start_time": "2020-08-14T10:06:16.887643",
     "status": "completed"
    },
    "tags": []
   },
   "source": [
    "### Plotting probability contours"
   ]
  },
  {
   "cell_type": "code",
   "execution_count": 27,
   "metadata": {
    "execution": {
     "iopub.execute_input": "2020-08-14T10:06:17.046669Z",
     "iopub.status.busy": "2020-08-14T10:06:17.045890Z",
     "iopub.status.idle": "2020-08-14T10:06:17.061941Z",
     "shell.execute_reply": "2020-08-14T10:06:17.061392Z"
    },
    "papermill": {
     "duration": 0.07089,
     "end_time": "2020-08-14T10:06:17.062080",
     "exception": false,
     "start_time": "2020-08-14T10:06:16.991190",
     "status": "completed"
    },
    "tags": []
   },
   "outputs": [],
   "source": [
    "model_prob = Model(layers[-2:]) "
   ]
  },
  {
   "cell_type": "code",
   "execution_count": 28,
   "metadata": {
    "execution": {
     "iopub.execute_input": "2020-08-14T10:06:17.190632Z",
     "iopub.status.busy": "2020-08-14T10:06:17.189733Z",
     "iopub.status.idle": "2020-08-14T10:06:17.205048Z",
     "shell.execute_reply": "2020-08-14T10:06:17.205567Z"
    },
    "papermill": {
     "duration": 0.078475,
     "end_time": "2020-08-14T10:06:17.205739",
     "exception": false,
     "start_time": "2020-08-14T10:06:17.127264",
     "status": "completed"
    },
    "tags": []
   },
   "outputs": [],
   "source": [
    "# Adjust the x and y ranges according to the above generated plot.\n",
    "x_range = np.linspace(-4, 1, 100) \n",
    "y_range = np.linspace(-6, 6, 100) \n",
    "x_grid, y_grid = np.meshgrid(x_range, y_range) # x_grid and y_grig are of size 100 X 100\n",
    "\n",
    "# converting x_grid and y_grid to continuous arrays\n",
    "x_grid_flat = np.ravel(x_grid)\n",
    "y_grid_flat = np.ravel(y_grid)\n",
    "\n",
    "# The last layer of the current model takes two columns as input. Hence transpose of np.vstack() is required.\n",
    "X = np.vstack((x_grid_flat, y_grid_flat)).T\n",
    "\n",
    "# x_grid and y_grid are of size 100 x 100\n",
    "probability_contour = model_prob(X).reshape(100,100) "
   ]
  },
  {
   "cell_type": "code",
   "execution_count": 29,
   "metadata": {
    "execution": {
     "iopub.execute_input": "2020-08-14T10:06:17.335310Z",
     "iopub.status.busy": "2020-08-14T10:06:17.334597Z",
     "iopub.status.idle": "2020-08-14T10:06:17.619646Z",
     "shell.execute_reply": "2020-08-14T10:06:17.620122Z"
    },
    "papermill": {
     "duration": 0.34965,
     "end_time": "2020-08-14T10:06:17.620278",
     "exception": false,
     "start_time": "2020-08-14T10:06:17.270628",
     "status": "completed"
    },
    "tags": []
   },
   "outputs": [
    {
     "data": {
      "image/png": "[encoded data removed]",
      "text/plain": [
       "<Figure size 720x648 with 1 Axes>"
      ]
     },
     "metadata": {
      "needs_background": "light"
     },
     "output_type": "display_data"
    }
   ],
   "source": [
    "plt.figure(figsize=(10,9))\n",
    "plt.scatter(plot_testing[:,0], plot_testing[:,1], alpha = 0.1, c = y_test.ravel())\n",
    "contours = plt.contour(x_grid,y_grid,probability_contour)\n",
    "plt.title('Probability Contours')\n",
    "plt.clabel(contours, inline = True );"
   ]
  }
 ],
 "metadata": {
  "kernelspec": {
   "display_name": "Python 3",
   "language": "python",
   "name": "python3"
  },
  "language_info": {
   "codemirror_mode": {
    "name": "ipython",
    "version": 3
   },
   "file_extension": ".py",
   "mimetype": "text/x-python",
   "name": "python",
   "nbconvert_exporter": "python",
   "pygments_lexer": "ipython3",
   "version": "3.6.11"
  },
  "papermill": {
   "duration": 127.839923,
   "end_time": "2020-08-14T10:06:18.114992",
   "environment_variables": {},
   "exception": null,
   "input_path": "2020-08-11-NeuralNetwork.ipynb",
   "output_path": "2020-08-11-NeuralNetwork.ipynb",
   "parameters": {},
   "start_time": "2020-08-14T10:04:10.275069",
   "version": "2.1.2"
  }
 },
 "nbformat": 4,
 "nbformat_minor": 4
}