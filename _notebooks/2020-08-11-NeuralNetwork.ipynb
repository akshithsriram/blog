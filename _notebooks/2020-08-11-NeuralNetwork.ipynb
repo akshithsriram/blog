{
 "cells": [
  {
   "cell_type": "markdown",
   "metadata": {
    "papermill": {
     "duration": 0.033907,
     "end_time": "2021-01-18T00:33:18.407256",
     "exception": false,
     "start_time": "2021-01-18T00:33:18.373349",
     "status": "completed"
    },
    "tags": []
   },
   "source": [
    "# \"A Basic Neural Network: Differentiate Hand-Written Digits\"\n",
    "\n",
    "- badges: true\n",
    "- author: Akshith Sriram"
   ]
  },
  {
   "cell_type": "markdown",
   "metadata": {
    "papermill": {
     "duration": 0.026472,
     "end_time": "2021-01-18T00:33:18.460479",
     "exception": false,
     "start_time": "2021-01-18T00:33:18.434007",
     "status": "completed"
    },
    "tags": []
   },
   "source": [
    "### Key Objectives:\n",
    "- Building a neural network that differentiates two hand-written digits 3 and 8.\n",
    "- Comparing the results of this Neural Network (NN) to that of a Logistic Regression (LR) model.\n",
    "\n",
    "### Requirements:\n",
    "- 'Kudzu' : A neural network library that was designed during our course by [Univ.AI](www.univ.ai). \n",
    "- MNIST Database\n",
    "\n",
    "If MNIST is not installed, use the command `!pip install mnist` given below.\n",
    "It can be run both from the command line and Jupyter Notebook."
   ]
  },
  {
   "cell_type": "code",
   "execution_count": 1,
   "metadata": {
    "execution": {
     "iopub.execute_input": "2021-01-18T00:33:18.523232Z",
     "iopub.status.busy": "2021-01-18T00:33:18.522273Z",
     "iopub.status.idle": "2021-01-18T00:33:20.197683Z",
     "shell.execute_reply": "2021-01-18T00:33:20.198189Z"
    },
    "papermill": {
     "duration": 1.712294,
     "end_time": "2021-01-18T00:33:20.198370",
     "exception": false,
     "start_time": "2021-01-18T00:33:18.486076",
     "status": "completed"
    },
    "tags": []
   },
   "outputs": [
    {
     "name": "stdout",
     "output_type": "stream",
     "text": [
      "Collecting mnist\r\n"
     ]
    },
    {
     "name": "stdout",
     "output_type": "stream",
     "text": [
      "  Downloading mnist-0.2.2-py2.py3-none-any.whl (3.5 kB)\r\n",
      "Requirement already satisfied: numpy in /opt/hostedtoolcache/Python/3.6.12/x64/lib/python3.6/site-packages (from mnist) (1.19.5)\r\n"
     ]
    },
    {
     "name": "stdout",
     "output_type": "stream",
     "text": [
      "Installing collected packages: mnist\r\n"
     ]
    },
    {
     "name": "stdout",
     "output_type": "stream",
     "text": [
      "Successfully installed mnist-0.2.2\r\n"
     ]
    }
   ],
   "source": [
    "!pip install mnist "
   ]
  },
  {
   "cell_type": "markdown",
   "metadata": {
    "papermill": {
     "duration": 0.027958,
     "end_time": "2021-01-18T00:33:20.256897",
     "exception": false,
     "start_time": "2021-01-18T00:33:20.228939",
     "status": "completed"
    },
    "tags": []
   },
   "source": [
    "#### Importing necessary libraries"
   ]
  },
  {
   "cell_type": "code",
   "execution_count": 2,
   "metadata": {
    "execution": {
     "iopub.execute_input": "2021-01-18T00:33:20.320494Z",
     "iopub.status.busy": "2021-01-18T00:33:20.319928Z",
     "iopub.status.idle": "2021-01-18T00:33:20.916763Z",
     "shell.execute_reply": "2021-01-18T00:33:20.915797Z"
    },
    "papermill": {
     "duration": 0.632676,
     "end_time": "2021-01-18T00:33:20.916921",
     "exception": false,
     "start_time": "2021-01-18T00:33:20.284245",
     "status": "completed"
    },
    "tags": []
   },
   "outputs": [],
   "source": [
    "%load_ext autoreload\n",
    "%autoreload 2\n",
    "\n",
    "%matplotlib inline\n",
    "import matplotlib.pyplot as plt\n",
    "\n",
    "import numpy as np\n",
    "import pandas as pd"
   ]
  },
  {
   "cell_type": "markdown",
   "metadata": {
    "papermill": {
     "duration": 0.028306,
     "end_time": "2021-01-18T00:33:20.984189",
     "exception": false,
     "start_time": "2021-01-18T00:33:20.955883",
     "status": "completed"
    },
    "tags": []
   },
   "source": [
    "### Preparing the Data"
   ]
  },
  {
   "cell_type": "code",
   "execution_count": 3,
   "metadata": {
    "execution": {
     "iopub.execute_input": "2021-01-18T00:33:21.050974Z",
     "iopub.status.busy": "2021-01-18T00:33:21.050247Z",
     "iopub.status.idle": "2021-01-18T00:33:21.068386Z",
     "shell.execute_reply": "2021-01-18T00:33:21.067803Z"
    },
    "papermill": {
     "duration": 0.057059,
     "end_time": "2021-01-18T00:33:21.068526",
     "exception": false,
     "start_time": "2021-01-18T00:33:21.011467",
     "status": "completed"
    },
    "tags": []
   },
   "outputs": [],
   "source": [
    "import mnist"
   ]
  },
  {
   "cell_type": "code",
   "execution_count": 4,
   "metadata": {
    "execution": {
     "iopub.execute_input": "2021-01-18T00:33:21.132387Z",
     "iopub.status.busy": "2021-01-18T00:33:21.131564Z",
     "iopub.status.idle": "2021-01-18T00:33:25.784219Z",
     "shell.execute_reply": "2021-01-18T00:33:25.783569Z"
    },
    "papermill": {
     "duration": 4.684136,
     "end_time": "2021-01-18T00:33:25.784378",
     "exception": false,
     "start_time": "2021-01-18T00:33:21.100242",
     "status": "completed"
    },
    "tags": []
   },
   "outputs": [],
   "source": [
    "train_images = mnist.train_images()\n",
    "train_labels = mnist.train_labels()"
   ]
  },
  {
   "cell_type": "code",
   "execution_count": 5,
   "metadata": {
    "execution": {
     "iopub.execute_input": "2021-01-18T00:33:25.855021Z",
     "iopub.status.busy": "2021-01-18T00:33:25.854426Z",
     "iopub.status.idle": "2021-01-18T00:33:25.869768Z",
     "shell.execute_reply": "2021-01-18T00:33:25.869204Z"
    },
    "papermill": {
     "duration": 0.048623,
     "end_time": "2021-01-18T00:33:25.869898",
     "exception": false,
     "start_time": "2021-01-18T00:33:25.821275",
     "status": "completed"
    },
    "tags": []
   },
   "outputs": [
    {
     "data": {
      "text/plain": [
       "((60000, 28, 28), (60000,))"
      ]
     },
     "execution_count": 5,
     "metadata": {},
     "output_type": "execute_result"
    }
   ],
   "source": [
    "train_images.shape, train_labels.shape"
   ]
  },
  {
   "cell_type": "code",
   "execution_count": 6,
   "metadata": {
    "execution": {
     "iopub.execute_input": "2021-01-18T00:33:25.939187Z",
     "iopub.status.busy": "2021-01-18T00:33:25.938523Z",
     "iopub.status.idle": "2021-01-18T00:33:26.965211Z",
     "shell.execute_reply": "2021-01-18T00:33:26.964178Z"
    },
    "papermill": {
     "duration": 1.064112,
     "end_time": "2021-01-18T00:33:26.965355",
     "exception": false,
     "start_time": "2021-01-18T00:33:25.901243",
     "status": "completed"
    },
    "tags": []
   },
   "outputs": [],
   "source": [
    "test_images = mnist.test_images()\n",
    "test_labels = mnist.test_labels()"
   ]
  },
  {
   "cell_type": "code",
   "execution_count": 7,
   "metadata": {
    "execution": {
     "iopub.execute_input": "2021-01-18T00:33:27.025911Z",
     "iopub.status.busy": "2021-01-18T00:33:27.025212Z",
     "iopub.status.idle": "2021-01-18T00:33:27.038828Z",
     "shell.execute_reply": "2021-01-18T00:33:27.038148Z"
    },
    "papermill": {
     "duration": 0.045552,
     "end_time": "2021-01-18T00:33:27.038941",
     "exception": false,
     "start_time": "2021-01-18T00:33:26.993389",
     "status": "completed"
    },
    "tags": []
   },
   "outputs": [
    {
     "data": {
      "text/plain": [
       "((10000, 28, 28), (10000,))"
      ]
     },
     "execution_count": 7,
     "metadata": {},
     "output_type": "execute_result"
    }
   ],
   "source": [
    "test_images.shape, test_labels.shape"
   ]
  },
  {
   "cell_type": "code",
   "execution_count": 8,
   "metadata": {
    "execution": {
     "iopub.execute_input": "2021-01-18T00:33:27.109250Z",
     "iopub.status.busy": "2021-01-18T00:33:27.108664Z",
     "iopub.status.idle": "2021-01-18T00:33:27.291428Z",
     "shell.execute_reply": "2021-01-18T00:33:27.290743Z"
    },
    "papermill": {
     "duration": 0.214288,
     "end_time": "2021-01-18T00:33:27.291579",
     "exception": false,
     "start_time": "2021-01-18T00:33:27.077291",
     "status": "completed"
    },
    "tags": []
   },
   "outputs": [
    {
     "name": "stdout",
     "output_type": "stream",
     "text": [
      "2\n"
     ]
    },
    {
     "data": {
      "text/plain": [
       "<matplotlib.image.AxesImage at 0x7fad685e85f8>"
      ]
     },
     "execution_count": 8,
     "metadata": {},
     "output_type": "execute_result"
    },
    {
     "data": {
      "image/png": "[encoded data removed]",
      "text/plain": [
       "<Figure size 432x288 with 1 Axes>"
      ]
     },
     "metadata": {
      "needs_background": "light"
     },
     "output_type": "display_data"
    }
   ],
   "source": [
    "image_index = 7776 # You may select anything up to 60,000\n",
    "print(train_labels[image_index]) \n",
    "plt.imshow(train_images[image_index], cmap='Greys')"
   ]
  },
  {
   "cell_type": "markdown",
   "metadata": {
    "papermill": {
     "duration": 0.031548,
     "end_time": "2021-01-18T00:33:27.355118",
     "exception": false,
     "start_time": "2021-01-18T00:33:27.323570",
     "status": "completed"
    },
    "tags": []
   },
   "source": [
    "## Filter data to get 3 and 8 out"
   ]
  },
  {
   "cell_type": "code",
   "execution_count": 9,
   "metadata": {
    "execution": {
     "iopub.execute_input": "2021-01-18T00:33:27.425072Z",
     "iopub.status.busy": "2021-01-18T00:33:27.424334Z",
     "iopub.status.idle": "2021-01-18T00:33:27.443280Z",
     "shell.execute_reply": "2021-01-18T00:33:27.443803Z"
    },
    "papermill": {
     "duration": 0.059169,
     "end_time": "2021-01-18T00:33:27.443944",
     "exception": false,
     "start_time": "2021-01-18T00:33:27.384775",
     "status": "completed"
    },
    "tags": []
   },
   "outputs": [],
   "source": [
    "train_filter = np.where((train_labels == 3 ) | (train_labels == 8))\n",
    "test_filter = np.where((test_labels == 3) | (test_labels == 8))\n",
    "X_train, y_train = train_images[train_filter], train_labels[train_filter]\n",
    "X_test, y_test = test_images[test_filter], test_labels[test_filter]"
   ]
  },
  {
   "cell_type": "markdown",
   "metadata": {
    "papermill": {
     "duration": 0.029179,
     "end_time": "2021-01-18T00:33:27.503495",
     "exception": false,
     "start_time": "2021-01-18T00:33:27.474316",
     "status": "completed"
    },
    "tags": []
   },
   "source": [
    "We normalize the pixel values in the 0 to 1 range"
   ]
  },
  {
   "cell_type": "code",
   "execution_count": 10,
   "metadata": {
    "execution": {
     "iopub.execute_input": "2021-01-18T00:33:27.570466Z",
     "iopub.status.busy": "2021-01-18T00:33:27.569814Z",
     "iopub.status.idle": "2021-01-18T00:33:27.628762Z",
     "shell.execute_reply": "2021-01-18T00:33:27.628116Z"
    },
    "papermill": {
     "duration": 0.095609,
     "end_time": "2021-01-18T00:33:27.628896",
     "exception": false,
     "start_time": "2021-01-18T00:33:27.533287",
     "status": "completed"
    },
    "tags": []
   },
   "outputs": [],
   "source": [
    "X_train = X_train/255.\n",
    "X_test = X_test/255."
   ]
  },
  {
   "cell_type": "markdown",
   "metadata": {
    "papermill": {
     "duration": 0.029169,
     "end_time": "2021-01-18T00:33:27.687137",
     "exception": false,
     "start_time": "2021-01-18T00:33:27.657968",
     "status": "completed"
    },
    "tags": []
   },
   "source": [
    "Setup the labels as 1 (when the digit is 3) and 0 (when the digit is 8)"
   ]
  },
  {
   "cell_type": "code",
   "execution_count": 11,
   "metadata": {
    "execution": {
     "iopub.execute_input": "2021-01-18T00:33:27.754999Z",
     "iopub.status.busy": "2021-01-18T00:33:27.753243Z",
     "iopub.status.idle": "2021-01-18T00:33:27.764438Z",
     "shell.execute_reply": "2021-01-18T00:33:27.763916Z"
    },
    "papermill": {
     "duration": 0.047958,
     "end_time": "2021-01-18T00:33:27.764562",
     "exception": false,
     "start_time": "2021-01-18T00:33:27.716604",
     "status": "completed"
    },
    "tags": []
   },
   "outputs": [],
   "source": [
    "y_train = 1*(y_train==3)\n",
    "y_test = 1*(y_test==3)"
   ]
  },
  {
   "cell_type": "code",
   "execution_count": 12,
   "metadata": {
    "execution": {
     "iopub.execute_input": "2021-01-18T00:33:27.831284Z",
     "iopub.status.busy": "2021-01-18T00:33:27.828567Z",
     "iopub.status.idle": "2021-01-18T00:33:27.842071Z",
     "shell.execute_reply": "2021-01-18T00:33:27.841551Z"
    },
    "papermill": {
     "duration": 0.047708,
     "end_time": "2021-01-18T00:33:27.842185",
     "exception": false,
     "start_time": "2021-01-18T00:33:27.794477",
     "status": "completed"
    },
    "tags": []
   },
   "outputs": [
    {
     "data": {
      "text/plain": [
       "((11982, 28, 28), (1984, 28, 28))"
      ]
     },
     "execution_count": 12,
     "metadata": {},
     "output_type": "execute_result"
    }
   ],
   "source": [
    "X_train.shape, X_test.shape"
   ]
  },
  {
   "cell_type": "markdown",
   "metadata": {
    "papermill": {
     "duration": 0.029414,
     "end_time": "2021-01-18T00:33:27.900837",
     "exception": false,
     "start_time": "2021-01-18T00:33:27.871423",
     "status": "completed"
    },
    "tags": []
   },
   "source": [
    "### Reshape the input data to create a linear array"
   ]
  },
  {
   "cell_type": "code",
   "execution_count": 13,
   "metadata": {
    "execution": {
     "iopub.execute_input": "2021-01-18T00:33:27.964284Z",
     "iopub.status.busy": "2021-01-18T00:33:27.963699Z",
     "iopub.status.idle": "2021-01-18T00:33:27.977725Z",
     "shell.execute_reply": "2021-01-18T00:33:27.978199Z"
    },
    "papermill": {
     "duration": 0.047259,
     "end_time": "2021-01-18T00:33:27.978331",
     "exception": false,
     "start_time": "2021-01-18T00:33:27.931072",
     "status": "completed"
    },
    "tags": []
   },
   "outputs": [
    {
     "data": {
      "text/plain": [
       "((11982, 784), (1984, 784))"
      ]
     },
     "execution_count": 13,
     "metadata": {},
     "output_type": "execute_result"
    }
   ],
   "source": [
    "X_train = X_train.reshape(X_train.shape[0], -1)\n",
    "X_test = X_test.reshape(X_test.shape[0], -1)\n",
    "X_train.shape, X_test.shape"
   ]
  },
  {
   "cell_type": "markdown",
   "metadata": {
    "papermill": {
     "duration": 0.029971,
     "end_time": "2021-01-18T00:33:28.037544",
     "exception": false,
     "start_time": "2021-01-18T00:33:28.007573",
     "status": "completed"
    },
    "tags": []
   },
   "source": [
    "### Importing appropriate functions from 'Kudzu'"
   ]
  },
  {
   "cell_type": "code",
   "execution_count": 14,
   "metadata": {
    "execution": {
     "iopub.execute_input": "2021-01-18T00:33:28.116163Z",
     "iopub.status.busy": "2021-01-18T00:33:28.114570Z",
     "iopub.status.idle": "2021-01-18T00:33:28.135050Z",
     "shell.execute_reply": "2021-01-18T00:33:28.135569Z"
    },
    "papermill": {
     "duration": 0.060524,
     "end_time": "2021-01-18T00:33:28.135722",
     "exception": false,
     "start_time": "2021-01-18T00:33:28.075198",
     "status": "completed"
    },
    "tags": []
   },
   "outputs": [],
   "source": [
    "from kudzu.layer import Sigmoid\n",
    "from kudzu.layer import Relu\n",
    "from kudzu.layer import Affine, Sigmoid\n",
    "\n",
    "from kudzu.model import Model\n",
    "from kudzu.train import Learner\n",
    "from kudzu.optim import GD\n",
    "from kudzu.data import Data, Dataloader, Sampler\n",
    "\n",
    "from kudzu.callbacks import AccCallback\n",
    "from kudzu.callbacks import ClfCallback\n",
    "\n",
    "from kudzu.loss import MSE"
   ]
  },
  {
   "cell_type": "markdown",
   "metadata": {
    "papermill": {
     "duration": 0.033641,
     "end_time": "2021-01-18T00:33:28.200056",
     "exception": false,
     "start_time": "2021-01-18T00:33:28.166415",
     "status": "completed"
    },
    "tags": []
   },
   "source": [
    "### Let us create a `Config` class, to store important parameters. \n",
    "This class essentially plays the role of a dictionary."
   ]
  },
  {
   "cell_type": "code",
   "execution_count": 15,
   "metadata": {
    "execution": {
     "iopub.execute_input": "2021-01-18T00:33:28.270690Z",
     "iopub.status.busy": "2021-01-18T00:33:28.270051Z",
     "iopub.status.idle": "2021-01-18T00:33:28.283413Z",
     "shell.execute_reply": "2021-01-18T00:33:28.282897Z"
    },
    "papermill": {
     "duration": 0.052139,
     "end_time": "2021-01-18T00:33:28.283543",
     "exception": false,
     "start_time": "2021-01-18T00:33:28.231404",
     "status": "completed"
    },
    "tags": []
   },
   "outputs": [],
   "source": [
    "class Config:\n",
    "    pass\n",
    "config = Config()\n",
    "config.lr = 0.001\n",
    "config.num_epochs = 251\n",
    "config.bs = 50"
   ]
  },
  {
   "cell_type": "markdown",
   "metadata": {
    "papermill": {
     "duration": 0.03316,
     "end_time": "2021-01-18T00:33:28.349786",
     "exception": false,
     "start_time": "2021-01-18T00:33:28.316626",
     "status": "completed"
    },
    "tags": []
   },
   "source": [
    "### Initializing data to the variables"
   ]
  },
  {
   "cell_type": "code",
   "execution_count": 16,
   "metadata": {
    "execution": {
     "iopub.execute_input": "2021-01-18T00:33:28.419263Z",
     "iopub.status.busy": "2021-01-18T00:33:28.418645Z",
     "iopub.status.idle": "2021-01-18T00:33:28.431865Z",
     "shell.execute_reply": "2021-01-18T00:33:28.432555Z"
    },
    "papermill": {
     "duration": 0.05068,
     "end_time": "2021-01-18T00:33:28.432721",
     "exception": false,
     "start_time": "2021-01-18T00:33:28.382041",
     "status": "completed"
    },
    "tags": []
   },
   "outputs": [],
   "source": [
    "data = Data(X_train, y_train.reshape(-1,1))\n",
    "sampler = Sampler(data, config.bs, shuffle=True)\n",
    "\n",
    "dl = Dataloader(data, sampler)\n",
    "\n",
    "opt = GD(config.lr)\n",
    "loss = MSE()"
   ]
  },
  {
   "cell_type": "code",
   "execution_count": 17,
   "metadata": {
    "execution": {
     "iopub.execute_input": "2021-01-18T00:33:28.499027Z",
     "iopub.status.busy": "2021-01-18T00:33:28.498055Z",
     "iopub.status.idle": "2021-01-18T00:33:28.509944Z",
     "shell.execute_reply": "2021-01-18T00:33:28.510402Z"
    },
    "papermill": {
     "duration": 0.046411,
     "end_time": "2021-01-18T00:33:28.510587",
     "exception": false,
     "start_time": "2021-01-18T00:33:28.464176",
     "status": "completed"
    },
    "tags": []
   },
   "outputs": [],
   "source": [
    "training_xdata = X_train\n",
    "testing_xdata = X_test\n",
    "training_ydata = y_train.reshape(-1,1)\n",
    "testing_ydata = y_test.reshape(-1,1)"
   ]
  },
  {
   "cell_type": "markdown",
   "metadata": {
    "papermill": {
     "duration": 0.031176,
     "end_time": "2021-01-18T00:33:28.571821",
     "exception": false,
     "start_time": "2021-01-18T00:33:28.540645",
     "status": "completed"
    },
    "tags": []
   },
   "source": [
    "### Running Models with the Training data\n",
    "Details about the network layers:\n",
    "- A first affine layer has 784 inputs and does 100 affine transforms. These are followed by a Relu\n",
    "- A second affine layer has 100 inputs from the 100 activations of the past layer, and does 100 affine transforms. These are followed by a Relu\n",
    "- A third affine layer has 100 activations and does 2 affine transformations to create an embedding for visualization. There is no non-linearity here.\n",
    "- A final \"logistic regression\" which has an affine transform from 2 inputs to 1 output, which is squeezed through a sigmoid.\n",
    "\n",
    "Help taken from Anshuman's Notebook."
   ]
  },
  {
   "cell_type": "code",
   "execution_count": 18,
   "metadata": {
    "execution": {
     "iopub.execute_input": "2021-01-18T00:33:28.640308Z",
     "iopub.status.busy": "2021-01-18T00:33:28.639631Z",
     "iopub.status.idle": "2021-01-18T00:33:28.657722Z",
     "shell.execute_reply": "2021-01-18T00:33:28.658176Z"
    },
    "papermill": {
     "duration": 0.054714,
     "end_time": "2021-01-18T00:33:28.658320",
     "exception": false,
     "start_time": "2021-01-18T00:33:28.603606",
     "status": "completed"
    },
    "tags": []
   },
   "outputs": [],
   "source": [
    "# layers for the Neural Network\n",
    "layers = [Affine(\"first\", 784, 100), Relu(\"first\"), Affine(\"second\", 100, 100), Relu(\"second\"), Affine(\"third\", 100, 2), Affine(\"final\", 2, 1), Sigmoid(\"final\")]\n",
    "model_nn = Model(layers)\n",
    "\n",
    "# layers for the Logistic Regression\n",
    "layers_lr = [Affine(\"logits\", 784, 1), Sigmoid(\"sigmoid\")]\n",
    "model_lr = Model(layers_lr)"
   ]
  },
  {
   "cell_type": "code",
   "execution_count": 19,
   "metadata": {
    "execution": {
     "iopub.execute_input": "2021-01-18T00:33:28.726720Z",
     "iopub.status.busy": "2021-01-18T00:33:28.726060Z",
     "iopub.status.idle": "2021-01-18T00:33:28.738600Z",
     "shell.execute_reply": "2021-01-18T00:33:28.737808Z"
    },
    "papermill": {
     "duration": 0.049736,
     "end_time": "2021-01-18T00:33:28.738818",
     "exception": false,
     "start_time": "2021-01-18T00:33:28.689082",
     "status": "completed"
    },
    "tags": []
   },
   "outputs": [],
   "source": [
    "# suffix _nn stands for Neural Network.\n",
    "learner_nn = Learner(loss, model_nn, opt, config.num_epochs)\n",
    "acc_nn = ClfCallback(learner_nn, config.bs, training_xdata , testing_xdata, training_ydata, testing_ydata)\n",
    "learner_nn.set_callbacks([acc_nn])"
   ]
  },
  {
   "cell_type": "code",
   "execution_count": 20,
   "metadata": {
    "execution": {
     "iopub.execute_input": "2021-01-18T00:33:28.808238Z",
     "iopub.status.busy": "2021-01-18T00:33:28.807449Z",
     "iopub.status.idle": "2021-01-18T00:35:52.589067Z",
     "shell.execute_reply": "2021-01-18T00:35:52.588516Z"
    },
    "papermill": {
     "duration": 143.817354,
     "end_time": "2021-01-18T00:35:52.589209",
     "exception": false,
     "start_time": "2021-01-18T00:33:28.771855",
     "status": "completed"
    },
    "tags": []
   },
   "outputs": [
    {
     "name": "stdout",
     "output_type": "stream",
     "text": [
      "====== Neural Network ======\n"
     ]
    },
    {
     "name": "stdout",
     "output_type": "stream",
     "text": [
      "Epoch 0, Loss 0.2508\n",
      "Training Accuracy: 0.5020, Testing Accuracy: 0.4924\n",
      "\n"
     ]
    },
    {
     "name": "stdout",
     "output_type": "stream",
     "text": [
      "Epoch 10, Loss 0.2187\n",
      "Training Accuracy: 0.8331, Testing Accuracy: 0.8196\n",
      "\n"
     ]
    },
    {
     "name": "stdout",
     "output_type": "stream",
     "text": [
      "Epoch 20, Loss 0.1262\n",
      "Training Accuracy: 0.8994, Testing Accuracy: 0.9047\n",
      "\n"
     ]
    },
    {
     "name": "stdout",
     "output_type": "stream",
     "text": [
      "Epoch 30, Loss 0.071\n",
      "Training Accuracy: 0.9287, Testing Accuracy: 0.9335\n",
      "\n"
     ]
    },
    {
     "name": "stdout",
     "output_type": "stream",
     "text": [
      "Epoch 40, Loss 0.0517\n",
      "Training Accuracy: 0.9443, Testing Accuracy: 0.9531\n",
      "\n"
     ]
    },
    {
     "name": "stdout",
     "output_type": "stream",
     "text": [
      "Epoch 50, Loss 0.0426\n",
      "Training Accuracy: 0.9540, Testing Accuracy: 0.9627\n",
      "\n"
     ]
    },
    {
     "name": "stdout",
     "output_type": "stream",
     "text": [
      "Epoch 60, Loss 0.0375\n",
      "Training Accuracy: 0.9580, Testing Accuracy: 0.9657\n",
      "\n"
     ]
    },
    {
     "name": "stdout",
     "output_type": "stream",
     "text": [
      "Epoch 70, Loss 0.0342\n",
      "Training Accuracy: 0.9608, Testing Accuracy: 0.9688\n",
      "\n"
     ]
    },
    {
     "name": "stdout",
     "output_type": "stream",
     "text": [
      "Epoch 80, Loss 0.0319\n",
      "Training Accuracy: 0.9626, Testing Accuracy: 0.9677\n",
      "\n"
     ]
    },
    {
     "name": "stdout",
     "output_type": "stream",
     "text": [
      "Epoch 90, Loss 0.0302\n",
      "Training Accuracy: 0.9646, Testing Accuracy: 0.9693\n",
      "\n"
     ]
    },
    {
     "name": "stdout",
     "output_type": "stream",
     "text": [
      "Epoch 100, Loss 0.0288\n",
      "Training Accuracy: 0.9660, Testing Accuracy: 0.9688\n",
      "\n"
     ]
    },
    {
     "name": "stdout",
     "output_type": "stream",
     "text": [
      "Epoch 110, Loss 0.0277\n",
      "Training Accuracy: 0.9674, Testing Accuracy: 0.9698\n",
      "\n"
     ]
    },
    {
     "name": "stdout",
     "output_type": "stream",
     "text": [
      "Epoch 120, Loss 0.0267\n",
      "Training Accuracy: 0.9685, Testing Accuracy: 0.9703\n",
      "\n"
     ]
    },
    {
     "name": "stdout",
     "output_type": "stream",
     "text": [
      "Epoch 130, Loss 0.0258\n",
      "Training Accuracy: 0.9696, Testing Accuracy: 0.9703\n",
      "\n"
     ]
    },
    {
     "name": "stdout",
     "output_type": "stream",
     "text": [
      "Epoch 140, Loss 0.0251\n",
      "Training Accuracy: 0.9705, Testing Accuracy: 0.9718\n",
      "\n"
     ]
    },
    {
     "name": "stdout",
     "output_type": "stream",
     "text": [
      "Epoch 150, Loss 0.0244\n",
      "Training Accuracy: 0.9715, Testing Accuracy: 0.9723\n",
      "\n"
     ]
    },
    {
     "name": "stdout",
     "output_type": "stream",
     "text": [
      "Epoch 160, Loss 0.0237\n",
      "Training Accuracy: 0.9721, Testing Accuracy: 0.9713\n",
      "\n"
     ]
    },
    {
     "name": "stdout",
     "output_type": "stream",
     "text": [
      "Epoch 170, Loss 0.0231\n",
      "Training Accuracy: 0.9730, Testing Accuracy: 0.9723\n",
      "\n"
     ]
    },
    {
     "name": "stdout",
     "output_type": "stream",
     "text": [
      "Epoch 180, Loss 0.0226\n",
      "Training Accuracy: 0.9733, Testing Accuracy: 0.9733\n",
      "\n"
     ]
    },
    {
     "name": "stdout",
     "output_type": "stream",
     "text": [
      "Epoch 190, Loss 0.0221\n",
      "Training Accuracy: 0.9744, Testing Accuracy: 0.9733\n",
      "\n"
     ]
    },
    {
     "name": "stdout",
     "output_type": "stream",
     "text": [
      "Epoch 200, Loss 0.0216\n",
      "Training Accuracy: 0.9750, Testing Accuracy: 0.9733\n",
      "\n"
     ]
    },
    {
     "name": "stdout",
     "output_type": "stream",
     "text": [
      "Epoch 210, Loss 0.0211\n",
      "Training Accuracy: 0.9757, Testing Accuracy: 0.9728\n",
      "\n"
     ]
    },
    {
     "name": "stdout",
     "output_type": "stream",
     "text": [
      "Epoch 220, Loss 0.0207\n",
      "Training Accuracy: 0.9765, Testing Accuracy: 0.9728\n",
      "\n"
     ]
    },
    {
     "name": "stdout",
     "output_type": "stream",
     "text": [
      "Epoch 230, Loss 0.0203\n",
      "Training Accuracy: 0.9769, Testing Accuracy: 0.9728\n",
      "\n"
     ]
    },
    {
     "name": "stdout",
     "output_type": "stream",
     "text": [
      "Epoch 240, Loss 0.0198\n",
      "Training Accuracy: 0.9772, Testing Accuracy: 0.9728\n",
      "\n"
     ]
    },
    {
     "name": "stdout",
     "output_type": "stream",
     "text": [
      "Epoch 250, Loss 0.0194\n",
      "Training Accuracy: 0.9779, Testing Accuracy: 0.9728\n",
      "\n"
     ]
    },
    {
     "data": {
      "text/plain": [
       "0.033689297298062505"
      ]
     },
     "execution_count": 20,
     "metadata": {},
     "output_type": "execute_result"
    }
   ],
   "source": [
    "print(\"====== Neural Network ======\")\n",
    "learner_nn.train_loop(dl)"
   ]
  },
  {
   "cell_type": "markdown",
   "metadata": {
    "papermill": {
     "duration": 0.037196,
     "end_time": "2021-01-18T00:35:52.668051",
     "exception": false,
     "start_time": "2021-01-18T00:35:52.630855",
     "status": "completed"
    },
    "tags": []
   },
   "source": [
    "### Logistic Regression based Implementation."
   ]
  },
  {
   "cell_type": "code",
   "execution_count": 21,
   "metadata": {
    "execution": {
     "iopub.execute_input": "2021-01-18T00:35:52.751351Z",
     "iopub.status.busy": "2021-01-18T00:35:52.750680Z",
     "iopub.status.idle": "2021-01-18T00:35:52.762268Z",
     "shell.execute_reply": "2021-01-18T00:35:52.761800Z"
    },
    "papermill": {
     "duration": 0.056502,
     "end_time": "2021-01-18T00:35:52.762390",
     "exception": false,
     "start_time": "2021-01-18T00:35:52.705888",
     "status": "completed"
    },
    "tags": []
   },
   "outputs": [],
   "source": [
    "learner_lr = Learner(loss, model_lr, opt, config.num_epochs)\n",
    "acc_lr = ClfCallback(learner_lr, config.bs, training_xdata , testing_xdata, training_ydata, testing_ydata)\n",
    "learner_lr.set_callbacks([acc_lr])"
   ]
  },
  {
   "cell_type": "code",
   "execution_count": 22,
   "metadata": {
    "execution": {
     "iopub.execute_input": "2021-01-18T00:35:52.845118Z",
     "iopub.status.busy": "2021-01-18T00:35:52.844325Z",
     "iopub.status.idle": "2021-01-18T00:36:13.828417Z",
     "shell.execute_reply": "2021-01-18T00:36:13.827660Z"
    },
    "papermill": {
     "duration": 21.027666,
     "end_time": "2021-01-18T00:36:13.828601",
     "exception": false,
     "start_time": "2021-01-18T00:35:52.800935",
     "status": "completed"
    },
    "tags": []
   },
   "outputs": [
    {
     "name": "stdout",
     "output_type": "stream",
     "text": [
      "====== Logistic Regression ======\n",
      "Epoch 0, Loss 0.2005\n",
      "Training Accuracy: 0.7895, Testing Accuracy: 0.8044\n",
      "\n"
     ]
    },
    {
     "name": "stdout",
     "output_type": "stream",
     "text": [
      "Epoch 10, Loss 0.1013\n",
      "Training Accuracy: 0.9055, Testing Accuracy: 0.9148\n",
      "\n"
     ]
    },
    {
     "name": "stdout",
     "output_type": "stream",
     "text": [
      "Epoch 20, Loss 0.0791\n",
      "Training Accuracy: 0.9246, Testing Accuracy: 0.9345\n",
      "\n"
     ]
    },
    {
     "name": "stdout",
     "output_type": "stream",
     "text": [
      "Epoch 30, Loss 0.0682\n",
      "Training Accuracy: 0.9351, Testing Accuracy: 0.9461\n",
      "\n"
     ]
    },
    {
     "name": "stdout",
     "output_type": "stream",
     "text": [
      "Epoch 40, Loss 0.0615\n",
      "Training Accuracy: 0.9421, Testing Accuracy: 0.9496\n",
      "\n"
     ]
    },
    {
     "name": "stdout",
     "output_type": "stream",
     "text": [
      "Epoch 50, Loss 0.057\n",
      "Training Accuracy: 0.9458, Testing Accuracy: 0.9541\n",
      "\n"
     ]
    },
    {
     "name": "stdout",
     "output_type": "stream",
     "text": [
      "Epoch 60, Loss 0.0537\n",
      "Training Accuracy: 0.9481, Testing Accuracy: 0.9577\n",
      "\n"
     ]
    },
    {
     "name": "stdout",
     "output_type": "stream",
     "text": [
      "Epoch 70, Loss 0.0511\n",
      "Training Accuracy: 0.9498, Testing Accuracy: 0.9592\n",
      "\n"
     ]
    },
    {
     "name": "stdout",
     "output_type": "stream",
     "text": [
      "Epoch 80, Loss 0.0491\n",
      "Training Accuracy: 0.9510, Testing Accuracy: 0.9597\n",
      "\n"
     ]
    },
    {
     "name": "stdout",
     "output_type": "stream",
     "text": [
      "Epoch 90, Loss 0.0474\n",
      "Training Accuracy: 0.9527, Testing Accuracy: 0.9622\n",
      "\n"
     ]
    },
    {
     "name": "stdout",
     "output_type": "stream",
     "text": [
      "Epoch 100, Loss 0.046\n",
      "Training Accuracy: 0.9530, Testing Accuracy: 0.9637\n",
      "\n"
     ]
    },
    {
     "name": "stdout",
     "output_type": "stream",
     "text": [
      "Epoch 110, Loss 0.0447\n",
      "Training Accuracy: 0.9538, Testing Accuracy: 0.9662\n",
      "\n"
     ]
    },
    {
     "name": "stdout",
     "output_type": "stream",
     "text": [
      "Epoch 120, Loss 0.0437\n",
      "Training Accuracy: 0.9550, Testing Accuracy: 0.9662\n",
      "\n"
     ]
    },
    {
     "name": "stdout",
     "output_type": "stream",
     "text": [
      "Epoch 130, Loss 0.0428\n",
      "Training Accuracy: 0.9556, Testing Accuracy: 0.9677\n",
      "\n"
     ]
    },
    {
     "name": "stdout",
     "output_type": "stream",
     "text": [
      "Epoch 140, Loss 0.0419\n",
      "Training Accuracy: 0.9562, Testing Accuracy: 0.9672\n",
      "\n"
     ]
    },
    {
     "name": "stdout",
     "output_type": "stream",
     "text": [
      "Epoch 150, Loss 0.0412\n",
      "Training Accuracy: 0.9570, Testing Accuracy: 0.9667\n",
      "\n"
     ]
    },
    {
     "name": "stdout",
     "output_type": "stream",
     "text": [
      "Epoch 160, Loss 0.0405\n",
      "Training Accuracy: 0.9575, Testing Accuracy: 0.9667\n",
      "\n"
     ]
    },
    {
     "name": "stdout",
     "output_type": "stream",
     "text": [
      "Epoch 170, Loss 0.0399\n",
      "Training Accuracy: 0.9579, Testing Accuracy: 0.9667\n",
      "\n"
     ]
    },
    {
     "name": "stdout",
     "output_type": "stream",
     "text": [
      "Epoch 180, Loss 0.0394\n",
      "Training Accuracy: 0.9584, Testing Accuracy: 0.9662\n",
      "\n"
     ]
    },
    {
     "name": "stdout",
     "output_type": "stream",
     "text": [
      "Epoch 190, Loss 0.0389\n",
      "Training Accuracy: 0.9589, Testing Accuracy: 0.9667\n",
      "\n"
     ]
    },
    {
     "name": "stdout",
     "output_type": "stream",
     "text": [
      "Epoch 200, Loss 0.0384\n",
      "Training Accuracy: 0.9594, Testing Accuracy: 0.9667\n",
      "\n"
     ]
    },
    {
     "name": "stdout",
     "output_type": "stream",
     "text": [
      "Epoch 210, Loss 0.038\n",
      "Training Accuracy: 0.9598, Testing Accuracy: 0.9672\n",
      "\n"
     ]
    },
    {
     "name": "stdout",
     "output_type": "stream",
     "text": [
      "Epoch 220, Loss 0.0375\n",
      "Training Accuracy: 0.9600, Testing Accuracy: 0.9677\n",
      "\n"
     ]
    },
    {
     "name": "stdout",
     "output_type": "stream",
     "text": [
      "Epoch 230, Loss 0.0372\n",
      "Training Accuracy: 0.9604, Testing Accuracy: 0.9677\n",
      "\n"
     ]
    },
    {
     "name": "stdout",
     "output_type": "stream",
     "text": [
      "Epoch 240, Loss 0.0368\n",
      "Training Accuracy: 0.9607, Testing Accuracy: 0.9688\n",
      "\n"
     ]
    },
    {
     "name": "stdout",
     "output_type": "stream",
     "text": [
      "Epoch 250, Loss 0.0365\n",
      "Training Accuracy: 0.9611, Testing Accuracy: 0.9677\n",
      "\n"
     ]
    },
    {
     "data": {
      "text/plain": [
       "0.010002581261579983"
      ]
     },
     "execution_count": 22,
     "metadata": {},
     "output_type": "execute_result"
    }
   ],
   "source": [
    "print(\"====== Logistic Regression ======\")\n",
    "learner_lr.train_loop(dl)"
   ]
  },
  {
   "cell_type": "markdown",
   "metadata": {
    "papermill": {
     "duration": 0.050988,
     "end_time": "2021-01-18T00:36:13.928269",
     "exception": false,
     "start_time": "2021-01-18T00:36:13.877281",
     "status": "completed"
    },
    "tags": []
   },
   "source": [
    "### Comparing results of NN and LR"
   ]
  },
  {
   "cell_type": "code",
   "execution_count": 23,
   "metadata": {
    "execution": {
     "iopub.execute_input": "2021-01-18T00:36:14.028456Z",
     "iopub.status.busy": "2021-01-18T00:36:14.027815Z",
     "iopub.status.idle": "2021-01-18T00:36:14.312434Z",
     "shell.execute_reply": "2021-01-18T00:36:14.311922Z"
    },
    "papermill": {
     "duration": 0.335746,
     "end_time": "2021-01-18T00:36:14.312640",
     "exception": false,
     "start_time": "2021-01-18T00:36:13.976894",
     "status": "completed"
    },
    "tags": []
   },
   "outputs": [
    {
     "data": {
      "text/plain": [
       "<matplotlib.legend.Legend at 0x7fad601cf2b0>"
      ]
     },
     "execution_count": 23,
     "metadata": {},
     "output_type": "execute_result"
    },
    {
     "data": {
      "image/png": "[encoded data removed]",
      "text/plain": [
       "<Figure size 1080x720 with 1 Axes>"
      ]
     },
     "metadata": {
      "needs_background": "light"
     },
     "output_type": "display_data"
    }
   ],
   "source": [
    "plt.figure(figsize=(15,10))\n",
    "\n",
    "# Neural Network plots\n",
    "plt.plot(acc_nn.accuracies, 'r-', label = \"Training Accuracies - NN\")\n",
    "plt.plot(acc_nn.test_accuracies, 'g-', label = \"Testing Accuracies - NN\")\n",
    "\n",
    "# Logistic Regression plots\n",
    "plt.plot(acc_lr.accuracies, 'k-', label = \"Training Accuracies - LR\")\n",
    "plt.plot(acc_lr.test_accuracies, 'b-', label = \"Testing Accuracies - LR\")\n",
    "\n",
    "plt.ylim(0.8, 1)\n",
    "\n",
    "plt.legend()\n",
    "\n"
   ]
  },
  {
   "cell_type": "markdown",
   "metadata": {
    "papermill": {
     "duration": 0.047073,
     "end_time": "2021-01-18T00:36:14.408312",
     "exception": false,
     "start_time": "2021-01-18T00:36:14.361239",
     "status": "completed"
    },
    "tags": []
   },
   "source": [
    "### From the plot, we can observe the following:\n",
    "- Neural Network achieves higher accuracy than the Logistic Regression model.\n",
    "- This apparently, is because of overfitting, i.e. NN captures more noise than data.\n",
    "- Testing accuracy of NN drops below the Training accuracy at higher epochs. This explains the over-fitting on training data.\n",
    "- Logistic Regression gives a reliable accuracy, without the above mentioned problem.\n"
   ]
  },
  {
   "cell_type": "markdown",
   "metadata": {
    "papermill": {
     "duration": 0.047462,
     "end_time": "2021-01-18T00:36:14.505158",
     "exception": false,
     "start_time": "2021-01-18T00:36:14.457696",
     "status": "completed"
    },
    "tags": []
   },
   "source": [
    "### Moving till the last but one layer (excluding it).\n",
    "#### Plotting the outputs of this layer of the NN."
   ]
  },
  {
   "cell_type": "code",
   "execution_count": 24,
   "metadata": {
    "execution": {
     "iopub.execute_input": "2021-01-18T00:36:14.611713Z",
     "iopub.status.busy": "2021-01-18T00:36:14.610895Z",
     "iopub.status.idle": "2021-01-18T00:36:14.622431Z",
     "shell.execute_reply": "2021-01-18T00:36:14.621573Z"
    },
    "papermill": {
     "duration": 0.067734,
     "end_time": "2021-01-18T00:36:14.622554",
     "exception": false,
     "start_time": "2021-01-18T00:36:14.554820",
     "status": "completed"
    },
    "tags": []
   },
   "outputs": [],
   "source": [
    "model_new = Model(layers[:-2])"
   ]
  },
  {
   "cell_type": "code",
   "execution_count": 25,
   "metadata": {
    "execution": {
     "iopub.execute_input": "2021-01-18T00:36:14.721053Z",
     "iopub.status.busy": "2021-01-18T00:36:14.720384Z",
     "iopub.status.idle": "2021-01-18T00:36:14.745077Z",
     "shell.execute_reply": "2021-01-18T00:36:14.745920Z"
    },
    "papermill": {
     "duration": 0.076629,
     "end_time": "2021-01-18T00:36:14.746059",
     "exception": false,
     "start_time": "2021-01-18T00:36:14.669430",
     "status": "completed"
    },
    "tags": []
   },
   "outputs": [],
   "source": [
    "plot_testing = model_new(testing_xdata)"
   ]
  },
  {
   "cell_type": "code",
   "execution_count": 26,
   "metadata": {
    "execution": {
     "iopub.execute_input": "2021-01-18T00:36:14.846090Z",
     "iopub.status.busy": "2021-01-18T00:36:14.845401Z",
     "iopub.status.idle": "2021-01-18T00:36:15.069588Z",
     "shell.execute_reply": "2021-01-18T00:36:15.069033Z"
    },
    "papermill": {
     "duration": 0.276032,
     "end_time": "2021-01-18T00:36:15.069739",
     "exception": false,
     "start_time": "2021-01-18T00:36:14.793707",
     "status": "completed"
    },
    "tags": []
   },
   "outputs": [
    {
     "data": {
      "text/plain": [
       "Text(0.5, 1.0, 'Outputs')"
      ]
     },
     "execution_count": 26,
     "metadata": {},
     "output_type": "execute_result"
    },
    {
     "data": {
      "image/png": "[encoded data removed]",
      "text/plain": [
       "<Figure size 576x504 with 1 Axes>"
      ]
     },
     "metadata": {
      "needs_background": "light"
     },
     "output_type": "display_data"
    }
   ],
   "source": [
    "plt.figure(figsize=(8,7))\n",
    "plt.scatter(plot_testing[:,0], plot_testing[:,1], alpha = 0.1, c = y_test.ravel());\n",
    "plt.title('Outputs')"
   ]
  },
  {
   "cell_type": "markdown",
   "metadata": {
    "papermill": {
     "duration": 0.049208,
     "end_time": "2021-01-18T00:36:15.169162",
     "exception": false,
     "start_time": "2021-01-18T00:36:15.119954",
     "status": "completed"
    },
    "tags": []
   },
   "source": [
    "### Plotting probability contours"
   ]
  },
  {
   "cell_type": "code",
   "execution_count": 27,
   "metadata": {
    "execution": {
     "iopub.execute_input": "2021-01-18T00:36:15.276469Z",
     "iopub.status.busy": "2021-01-18T00:36:15.275798Z",
     "iopub.status.idle": "2021-01-18T00:36:15.287395Z",
     "shell.execute_reply": "2021-01-18T00:36:15.287883Z"
    },
    "papermill": {
     "duration": 0.068441,
     "end_time": "2021-01-18T00:36:15.288016",
     "exception": false,
     "start_time": "2021-01-18T00:36:15.219575",
     "status": "completed"
    },
    "tags": []
   },
   "outputs": [],
   "source": [
    "model_prob = Model(layers[-2:]) "
   ]
  },
  {
   "cell_type": "code",
   "execution_count": 28,
   "metadata": {
    "execution": {
     "iopub.execute_input": "2021-01-18T00:36:15.415739Z",
     "iopub.status.busy": "2021-01-18T00:36:15.415171Z",
     "iopub.status.idle": "2021-01-18T00:36:15.427095Z",
     "shell.execute_reply": "2021-01-18T00:36:15.427561Z"
    },
    "papermill": {
     "duration": 0.0907,
     "end_time": "2021-01-18T00:36:15.427770",
     "exception": false,
     "start_time": "2021-01-18T00:36:15.337070",
     "status": "completed"
    },
    "tags": []
   },
   "outputs": [],
   "source": [
    "# Adjust the x and y ranges according to the above generated plot.\n",
    "x_range = np.linspace(-4, 1, 100) \n",
    "y_range = np.linspace(-6, 6, 100) \n",
    "x_grid, y_grid = np.meshgrid(x_range, y_range) # x_grid and y_grig are of size 100 X 100\n",
    "\n",
    "# converting x_grid and y_grid to continuous arrays\n",
    "x_grid_flat = np.ravel(x_grid)\n",
    "y_grid_flat = np.ravel(y_grid)\n",
    "\n",
    "# The last layer of the current model takes two columns as input. Hence transpose of np.vstack() is required.\n",
    "X = np.vstack((x_grid_flat, y_grid_flat)).T\n",
    "\n",
    "# x_grid and y_grid are of size 100 x 100\n",
    "probability_contour = model_prob(X).reshape(100,100) "
   ]
  },
  {
   "cell_type": "code",
   "execution_count": 29,
   "metadata": {
    "execution": {
     "iopub.execute_input": "2021-01-18T00:36:15.535573Z",
     "iopub.status.busy": "2021-01-18T00:36:15.534979Z",
     "iopub.status.idle": "2021-01-18T00:36:15.821771Z",
     "shell.execute_reply": "2021-01-18T00:36:15.822259Z"
    },
    "papermill": {
     "duration": 0.342212,
     "end_time": "2021-01-18T00:36:15.822410",
     "exception": false,
     "start_time": "2021-01-18T00:36:15.480198",
     "status": "completed"
    },
    "tags": []
   },
   "outputs": [
    {
     "data": {
      "image/png": "[encoded data removed]",
      "text/plain": [
       "<Figure size 720x648 with 1 Axes>"
      ]
     },
     "metadata": {
      "needs_background": "light"
     },
     "output_type": "display_data"
    }
   ],
   "source": [
    "plt.figure(figsize=(10,9))\n",
    "plt.scatter(plot_testing[:,0], plot_testing[:,1], alpha = 0.1, c = y_test.ravel())\n",
    "contours = plt.contour(x_grid,y_grid,probability_contour)\n",
    "plt.title('Probability Contours')\n",
    "plt.clabel(contours, inline = True );"
   ]
  }
 ],
 "metadata": {
  "kernelspec": {
   "display_name": "Python 3",
   "language": "python",
   "name": "python3"
  },
  "language_info": {
   "codemirror_mode": {
    "name": "ipython",
    "version": 3
   },
   "file_extension": ".py",
   "mimetype": "text/x-python",
   "name": "python",
   "nbconvert_exporter": "python",
   "pygments_lexer": "ipython3",
   "version": "3.6.12"
  },
  "papermill": {
   "duration": 178.911688,
   "end_time": "2021-01-18T00:36:16.180625",
   "environment_variables": {},
   "exception": null,
   "input_path": "2020-08-11-NeuralNetwork.ipynb",
   "output_path": "2020-08-11-NeuralNetwork.ipynb",
   "parameters": {},
   "start_time": "2021-01-18T00:33:17.268937",
   "version": "2.1.2"
  }
 },
 "nbformat": 4,
 "nbformat_minor": 4
}