{
 "cells": [
  {
   "cell_type": "markdown",
   "id": "fitted-suggestion",
   "metadata": {
    "papermill": {
     "duration": 0.032649,
     "end_time": "2021-04-27T10:10:49.644304",
     "exception": false,
     "start_time": "2021-04-27T10:10:49.611655",
     "status": "completed"
    },
    "tags": []
   },
   "source": [
    "# \"A Basic Neural Network: Differentiate Hand-Written Digits\"\n",
    "\n",
    "- badges: true\n",
    "- author: Akshith Sriram"
   ]
  },
  {
   "cell_type": "markdown",
   "id": "signal-flexibility",
   "metadata": {
    "papermill": {
     "duration": 0.028947,
     "end_time": "2021-04-27T10:10:49.703954",
     "exception": false,
     "start_time": "2021-04-27T10:10:49.675007",
     "status": "completed"
    },
    "tags": []
   },
   "source": [
    "### Key Objectives:\n",
    "- Building a neural network that differentiates two hand-written digits 3 and 8.\n",
    "- Comparing the results of this Neural Network (NN) to that of a Logistic Regression (LR) model.\n",
    "\n",
    "### Requirements:\n",
    "- 'Kudzu' : A neural network library that was designed during our course by [Univ.AI](www.univ.ai). \n",
    "- MNIST Database\n",
    "\n",
    "If MNIST is not installed, use the command `!pip install mnist` given below.\n",
    "It can be run both from the command line and Jupyter Notebook."
   ]
  },
  {
   "cell_type": "code",
   "execution_count": 1,
   "id": "british-texture",
   "metadata": {
    "execution": {
     "iopub.execute_input": "2021-04-27T10:10:49.775979Z",
     "iopub.status.busy": "2021-04-27T10:10:49.775294Z",
     "iopub.status.idle": "2021-04-27T10:10:51.300596Z",
     "shell.execute_reply": "2021-04-27T10:10:51.299764Z"
    },
    "papermill": {
     "duration": 1.564354,
     "end_time": "2021-04-27T10:10:51.300742",
     "exception": false,
     "start_time": "2021-04-27T10:10:49.736388",
     "status": "completed"
    },
    "tags": []
   },
   "outputs": [
    {
     "name": "stdout",
     "output_type": "stream",
     "text": [
      "Collecting mnist\r\n"
     ]
    },
    {
     "name": "stdout",
     "output_type": "stream",
     "text": [
      "  Downloading mnist-0.2.2-py2.py3-none-any.whl (3.5 kB)\r\n",
      "Requirement already satisfied: numpy in /opt/hostedtoolcache/Python/3.6.13/x64/lib/python3.6/site-packages (from mnist) (1.19.5)\r\n"
     ]
    },
    {
     "name": "stdout",
     "output_type": "stream",
     "text": [
      "Installing collected packages: mnist\r\n"
     ]
    },
    {
     "name": "stdout",
     "output_type": "stream",
     "text": [
      "Successfully installed mnist-0.2.2\r\n"
     ]
    },
    {
     "name": "stdout",
     "output_type": "stream",
     "text": [
      "\u001b[33mWARNING: You are using pip version 21.0.1; however, version 21.1 is available.\r\n",
      "You should consider upgrading via the '/opt/hostedtoolcache/Python/3.6.13/x64/bin/python -m pip install --upgrade pip' command.\u001b[0m\r\n"
     ]
    }
   ],
   "source": [
    "!pip install mnist "
   ]
  },
  {
   "cell_type": "markdown",
   "id": "stunning-extra",
   "metadata": {
    "papermill": {
     "duration": 0.03036,
     "end_time": "2021-04-27T10:10:51.362755",
     "exception": false,
     "start_time": "2021-04-27T10:10:51.332395",
     "status": "completed"
    },
    "tags": []
   },
   "source": [
    "#### Importing necessary libraries"
   ]
  },
  {
   "cell_type": "code",
   "execution_count": 2,
   "id": "wooden-france",
   "metadata": {
    "execution": {
     "iopub.execute_input": "2021-04-27T10:10:51.435638Z",
     "iopub.status.busy": "2021-04-27T10:10:51.434916Z",
     "iopub.status.idle": "2021-04-27T10:10:52.045140Z",
     "shell.execute_reply": "2021-04-27T10:10:52.044189Z"
    },
    "papermill": {
     "duration": 0.649214,
     "end_time": "2021-04-27T10:10:52.045269",
     "exception": false,
     "start_time": "2021-04-27T10:10:51.396055",
     "status": "completed"
    },
    "tags": []
   },
   "outputs": [],
   "source": [
    "%load_ext autoreload\n",
    "%autoreload 2\n",
    "\n",
    "%matplotlib inline\n",
    "import matplotlib.pyplot as plt\n",
    "\n",
    "import numpy as np\n",
    "import pandas as pd"
   ]
  },
  {
   "cell_type": "markdown",
   "id": "stunning-physics",
   "metadata": {
    "papermill": {
     "duration": 0.031124,
     "end_time": "2021-04-27T10:10:52.109679",
     "exception": false,
     "start_time": "2021-04-27T10:10:52.078555",
     "status": "completed"
    },
    "tags": []
   },
   "source": [
    "### Preparing the Data"
   ]
  },
  {
   "cell_type": "code",
   "execution_count": 3,
   "id": "unauthorized-remainder",
   "metadata": {
    "execution": {
     "iopub.execute_input": "2021-04-27T10:10:52.179119Z",
     "iopub.status.busy": "2021-04-27T10:10:52.175573Z",
     "iopub.status.idle": "2021-04-27T10:10:52.187227Z",
     "shell.execute_reply": "2021-04-27T10:10:52.187715Z"
    },
    "papermill": {
     "duration": 0.046186,
     "end_time": "2021-04-27T10:10:52.187848",
     "exception": false,
     "start_time": "2021-04-27T10:10:52.141662",
     "status": "completed"
    },
    "tags": []
   },
   "outputs": [],
   "source": [
    "import mnist"
   ]
  },
  {
   "cell_type": "code",
   "execution_count": 4,
   "id": "correct-antarctica",
   "metadata": {
    "execution": {
     "iopub.execute_input": "2021-04-27T10:10:52.271582Z",
     "iopub.status.busy": "2021-04-27T10:10:52.264760Z",
     "iopub.status.idle": "2021-04-27T10:15:51.220896Z",
     "shell.execute_reply": "2021-04-27T10:15:51.220339Z"
    },
    "papermill": {
     "duration": 299.001393,
     "end_time": "2021-04-27T10:15:51.221043",
     "exception": false,
     "start_time": "2021-04-27T10:10:52.219650",
     "status": "completed"
    },
    "tags": []
   },
   "outputs": [],
   "source": [
    "train_images = mnist.train_images()\n",
    "train_labels = mnist.train_labels()"
   ]
  },
  {
   "cell_type": "code",
   "execution_count": 5,
   "id": "musical-prospect",
   "metadata": {
    "execution": {
     "iopub.execute_input": "2021-04-27T10:15:51.301554Z",
     "iopub.status.busy": "2021-04-27T10:15:51.300905Z",
     "iopub.status.idle": "2021-04-27T10:15:51.311607Z",
     "shell.execute_reply": "2021-04-27T10:15:51.312130Z"
    },
    "papermill": {
     "duration": 0.056544,
     "end_time": "2021-04-27T10:15:51.312281",
     "exception": false,
     "start_time": "2021-04-27T10:15:51.255737",
     "status": "completed"
    },
    "tags": []
   },
   "outputs": [
    {
     "data": {
      "text/plain": [
       "((60000, 28, 28), (60000,))"
      ]
     },
     "execution_count": 5,
     "metadata": {},
     "output_type": "execute_result"
    }
   ],
   "source": [
    "train_images.shape, train_labels.shape"
   ]
  },
  {
   "cell_type": "code",
   "execution_count": 6,
   "id": "preliminary-elizabeth",
   "metadata": {
    "execution": {
     "iopub.execute_input": "2021-04-27T10:15:51.383394Z",
     "iopub.status.busy": "2021-04-27T10:15:51.382743Z",
     "iopub.status.idle": "2021-04-27T10:16:42.647022Z",
     "shell.execute_reply": "2021-04-27T10:16:42.647799Z"
    },
    "papermill": {
     "duration": 51.302549,
     "end_time": "2021-04-27T10:16:42.648019",
     "exception": false,
     "start_time": "2021-04-27T10:15:51.345470",
     "status": "completed"
    },
    "tags": []
   },
   "outputs": [],
   "source": [
    "test_images = mnist.test_images()\n",
    "test_labels = mnist.test_labels()"
   ]
  },
  {
   "cell_type": "code",
   "execution_count": 7,
   "id": "acknowledged-oxygen",
   "metadata": {
    "execution": {
     "iopub.execute_input": "2021-04-27T10:16:42.719055Z",
     "iopub.status.busy": "2021-04-27T10:16:42.715103Z",
     "iopub.status.idle": "2021-04-27T10:16:42.730981Z",
     "shell.execute_reply": "2021-04-27T10:16:42.730364Z"
    },
    "papermill": {
     "duration": 0.050558,
     "end_time": "2021-04-27T10:16:42.731127",
     "exception": false,
     "start_time": "2021-04-27T10:16:42.680569",
     "status": "completed"
    },
    "tags": []
   },
   "outputs": [
    {
     "data": {
      "text/plain": [
       "((10000, 28, 28), (10000,))"
      ]
     },
     "execution_count": 7,
     "metadata": {},
     "output_type": "execute_result"
    }
   ],
   "source": [
    "test_images.shape, test_labels.shape"
   ]
  },
  {
   "cell_type": "code",
   "execution_count": 8,
   "id": "innovative-organic",
   "metadata": {
    "execution": {
     "iopub.execute_input": "2021-04-27T10:16:42.800941Z",
     "iopub.status.busy": "2021-04-27T10:16:42.800288Z",
     "iopub.status.idle": "2021-04-27T10:16:42.969006Z",
     "shell.execute_reply": "2021-04-27T10:16:42.968469Z"
    },
    "papermill": {
     "duration": 0.204603,
     "end_time": "2021-04-27T10:16:42.969151",
     "exception": false,
     "start_time": "2021-04-27T10:16:42.764548",
     "status": "completed"
    },
    "tags": []
   },
   "outputs": [
    {
     "name": "stdout",
     "output_type": "stream",
     "text": [
      "2\n"
     ]
    },
    {
     "data": {
      "text/plain": [
       "<matplotlib.image.AxesImage at 0x7ff513d359b0>"
      ]
     },
     "execution_count": 8,
     "metadata": {},
     "output_type": "execute_result"
    },
    {
     "data": {
      "image/png": "[encoded data removed]",
      "text/plain": [
       "<Figure size 432x288 with 1 Axes>"
      ]
     },
     "metadata": {
      "needs_background": "light"
     },
     "output_type": "display_data"
    }
   ],
   "source": [
    "image_index = 7776 # You may select anything up to 60,000\n",
    "print(train_labels[image_index]) \n",
    "plt.imshow(train_images[image_index], cmap='Greys')"
   ]
  },
  {
   "cell_type": "markdown",
   "id": "facial-modem",
   "metadata": {
    "papermill": {
     "duration": 0.034781,
     "end_time": "2021-04-27T10:16:43.038907",
     "exception": false,
     "start_time": "2021-04-27T10:16:43.004126",
     "status": "completed"
    },
    "tags": []
   },
   "source": [
    "## Filter data to get 3 and 8 out"
   ]
  },
  {
   "cell_type": "code",
   "execution_count": 9,
   "id": "thousand-acquisition",
   "metadata": {
    "execution": {
     "iopub.execute_input": "2021-04-27T10:16:43.118899Z",
     "iopub.status.busy": "2021-04-27T10:16:43.118245Z",
     "iopub.status.idle": "2021-04-27T10:16:43.136147Z",
     "shell.execute_reply": "2021-04-27T10:16:43.135541Z"
    },
    "papermill": {
     "duration": 0.060091,
     "end_time": "2021-04-27T10:16:43.136288",
     "exception": false,
     "start_time": "2021-04-27T10:16:43.076197",
     "status": "completed"
    },
    "tags": []
   },
   "outputs": [],
   "source": [
    "train_filter = np.where((train_labels == 3 ) | (train_labels == 8))\n",
    "test_filter = np.where((test_labels == 3) | (test_labels == 8))\n",
    "X_train, y_train = train_images[train_filter], train_labels[train_filter]\n",
    "X_test, y_test = test_images[test_filter], test_labels[test_filter]"
   ]
  },
  {
   "cell_type": "markdown",
   "id": "ruled-access",
   "metadata": {
    "papermill": {
     "duration": 0.032976,
     "end_time": "2021-04-27T10:16:43.203494",
     "exception": false,
     "start_time": "2021-04-27T10:16:43.170518",
     "status": "completed"
    },
    "tags": []
   },
   "source": [
    "We normalize the pixel values in the 0 to 1 range"
   ]
  },
  {
   "cell_type": "code",
   "execution_count": 10,
   "id": "isolated-denver",
   "metadata": {
    "execution": {
     "iopub.execute_input": "2021-04-27T10:16:43.299011Z",
     "iopub.status.busy": "2021-04-27T10:16:43.291028Z",
     "iopub.status.idle": "2021-04-27T10:16:43.341323Z",
     "shell.execute_reply": "2021-04-27T10:16:43.340687Z"
    },
    "papermill": {
     "duration": 0.103628,
     "end_time": "2021-04-27T10:16:43.341462",
     "exception": false,
     "start_time": "2021-04-27T10:16:43.237834",
     "status": "completed"
    },
    "tags": []
   },
   "outputs": [],
   "source": [
    "X_train = X_train/255.\n",
    "X_test = X_test/255."
   ]
  },
  {
   "cell_type": "markdown",
   "id": "perfect-summary",
   "metadata": {
    "papermill": {
     "duration": 0.036391,
     "end_time": "2021-04-27T10:16:43.412808",
     "exception": false,
     "start_time": "2021-04-27T10:16:43.376417",
     "status": "completed"
    },
    "tags": []
   },
   "source": [
    "Setup the labels as 1 (when the digit is 3) and 0 (when the digit is 8)"
   ]
  },
  {
   "cell_type": "code",
   "execution_count": 11,
   "id": "personalized-growing",
   "metadata": {
    "execution": {
     "iopub.execute_input": "2021-04-27T10:16:43.504552Z",
     "iopub.status.busy": "2021-04-27T10:16:43.502498Z",
     "iopub.status.idle": "2021-04-27T10:16:43.507629Z",
     "shell.execute_reply": "2021-04-27T10:16:43.506728Z"
    },
    "papermill": {
     "duration": 0.059088,
     "end_time": "2021-04-27T10:16:43.507769",
     "exception": false,
     "start_time": "2021-04-27T10:16:43.448681",
     "status": "completed"
    },
    "tags": []
   },
   "outputs": [],
   "source": [
    "y_train = 1*(y_train==3)\n",
    "y_test = 1*(y_test==3)"
   ]
  },
  {
   "cell_type": "code",
   "execution_count": 12,
   "id": "considered-virgin",
   "metadata": {
    "execution": {
     "iopub.execute_input": "2021-04-27T10:16:43.592829Z",
     "iopub.status.busy": "2021-04-27T10:16:43.582273Z",
     "iopub.status.idle": "2021-04-27T10:16:43.595843Z",
     "shell.execute_reply": "2021-04-27T10:16:43.596397Z"
    },
    "papermill": {
     "duration": 0.053489,
     "end_time": "2021-04-27T10:16:43.596544",
     "exception": false,
     "start_time": "2021-04-27T10:16:43.543055",
     "status": "completed"
    },
    "tags": []
   },
   "outputs": [
    {
     "data": {
      "text/plain": [
       "((11982, 28, 28), (1984, 28, 28))"
      ]
     },
     "execution_count": 12,
     "metadata": {},
     "output_type": "execute_result"
    }
   ],
   "source": [
    "X_train.shape, X_test.shape"
   ]
  },
  {
   "cell_type": "markdown",
   "id": "civilian-mobile",
   "metadata": {
    "papermill": {
     "duration": 0.034607,
     "end_time": "2021-04-27T10:16:43.665601",
     "exception": false,
     "start_time": "2021-04-27T10:16:43.630994",
     "status": "completed"
    },
    "tags": []
   },
   "source": [
    "### Reshape the input data to create a linear array"
   ]
  },
  {
   "cell_type": "code",
   "execution_count": 13,
   "id": "colonial-adams",
   "metadata": {
    "execution": {
     "iopub.execute_input": "2021-04-27T10:16:43.737994Z",
     "iopub.status.busy": "2021-04-27T10:16:43.737355Z",
     "iopub.status.idle": "2021-04-27T10:16:43.750969Z",
     "shell.execute_reply": "2021-04-27T10:16:43.751537Z"
    },
    "papermill": {
     "duration": 0.05199,
     "end_time": "2021-04-27T10:16:43.751688",
     "exception": false,
     "start_time": "2021-04-27T10:16:43.699698",
     "status": "completed"
    },
    "tags": []
   },
   "outputs": [
    {
     "data": {
      "text/plain": [
       "((11982, 784), (1984, 784))"
      ]
     },
     "execution_count": 13,
     "metadata": {},
     "output_type": "execute_result"
    }
   ],
   "source": [
    "X_train = X_train.reshape(X_train.shape[0], -1)\n",
    "X_test = X_test.reshape(X_test.shape[0], -1)\n",
    "X_train.shape, X_test.shape"
   ]
  },
  {
   "cell_type": "markdown",
   "id": "smart-details",
   "metadata": {
    "papermill": {
     "duration": 0.03358,
     "end_time": "2021-04-27T10:16:43.822216",
     "exception": false,
     "start_time": "2021-04-27T10:16:43.788636",
     "status": "completed"
    },
    "tags": []
   },
   "source": [
    "### Importing appropriate functions from 'Kudzu'"
   ]
  },
  {
   "cell_type": "code",
   "execution_count": 14,
   "id": "celtic-trial",
   "metadata": {
    "execution": {
     "iopub.execute_input": "2021-04-27T10:16:43.911002Z",
     "iopub.status.busy": "2021-04-27T10:16:43.904310Z",
     "iopub.status.idle": "2021-04-27T10:16:43.919012Z",
     "shell.execute_reply": "2021-04-27T10:16:43.918396Z"
    },
    "papermill": {
     "duration": 0.063316,
     "end_time": "2021-04-27T10:16:43.919143",
     "exception": false,
     "start_time": "2021-04-27T10:16:43.855827",
     "status": "completed"
    },
    "tags": []
   },
   "outputs": [],
   "source": [
    "from kudzu.layer import Sigmoid\n",
    "from kudzu.layer import Relu\n",
    "from kudzu.layer import Affine, Sigmoid\n",
    "\n",
    "from kudzu.model import Model\n",
    "from kudzu.train import Learner\n",
    "from kudzu.optim import GD\n",
    "from kudzu.data import Data, Dataloader, Sampler\n",
    "\n",
    "from kudzu.callbacks import AccCallback\n",
    "from kudzu.callbacks import ClfCallback\n",
    "\n",
    "from kudzu.loss import MSE"
   ]
  },
  {
   "cell_type": "markdown",
   "id": "coupled-customer",
   "metadata": {
    "papermill": {
     "duration": 0.034382,
     "end_time": "2021-04-27T10:16:43.988073",
     "exception": false,
     "start_time": "2021-04-27T10:16:43.953691",
     "status": "completed"
    },
    "tags": []
   },
   "source": [
    "### Let us create a `Config` class, to store important parameters. \n",
    "This class essentially plays the role of a dictionary."
   ]
  },
  {
   "cell_type": "code",
   "execution_count": 15,
   "id": "young-ceiling",
   "metadata": {
    "execution": {
     "iopub.execute_input": "2021-04-27T10:16:44.065737Z",
     "iopub.status.busy": "2021-04-27T10:16:44.065081Z",
     "iopub.status.idle": "2021-04-27T10:16:44.077860Z",
     "shell.execute_reply": "2021-04-27T10:16:44.077296Z"
    },
    "papermill": {
     "duration": 0.054603,
     "end_time": "2021-04-27T10:16:44.078002",
     "exception": false,
     "start_time": "2021-04-27T10:16:44.023399",
     "status": "completed"
    },
    "tags": []
   },
   "outputs": [],
   "source": [
    "class Config:\n",
    "    pass\n",
    "config = Config()\n",
    "config.lr = 0.001\n",
    "config.num_epochs = 251\n",
    "config.bs = 50"
   ]
  },
  {
   "cell_type": "markdown",
   "id": "according-mandate",
   "metadata": {
    "papermill": {
     "duration": 0.034219,
     "end_time": "2021-04-27T10:16:44.149281",
     "exception": false,
     "start_time": "2021-04-27T10:16:44.115062",
     "status": "completed"
    },
    "tags": []
   },
   "source": [
    "### Initializing data to the variables"
   ]
  },
  {
   "cell_type": "code",
   "execution_count": 16,
   "id": "academic-disposition",
   "metadata": {
    "execution": {
     "iopub.execute_input": "2021-04-27T10:16:44.224678Z",
     "iopub.status.busy": "2021-04-27T10:16:44.224065Z",
     "iopub.status.idle": "2021-04-27T10:16:44.234906Z",
     "shell.execute_reply": "2021-04-27T10:16:44.235457Z"
    },
    "papermill": {
     "duration": 0.051698,
     "end_time": "2021-04-27T10:16:44.235594",
     "exception": false,
     "start_time": "2021-04-27T10:16:44.183896",
     "status": "completed"
    },
    "tags": []
   },
   "outputs": [],
   "source": [
    "data = Data(X_train, y_train.reshape(-1,1))\n",
    "sampler = Sampler(data, config.bs, shuffle=True)\n",
    "\n",
    "dl = Dataloader(data, sampler)\n",
    "\n",
    "opt = GD(config.lr)\n",
    "loss = MSE()"
   ]
  },
  {
   "cell_type": "code",
   "execution_count": 17,
   "id": "featured-commission",
   "metadata": {
    "execution": {
     "iopub.execute_input": "2021-04-27T10:16:44.323733Z",
     "iopub.status.busy": "2021-04-27T10:16:44.314313Z",
     "iopub.status.idle": "2021-04-27T10:16:44.325837Z",
     "shell.execute_reply": "2021-04-27T10:16:44.326400Z"
    },
    "papermill": {
     "duration": 0.056541,
     "end_time": "2021-04-27T10:16:44.326549",
     "exception": false,
     "start_time": "2021-04-27T10:16:44.270008",
     "status": "completed"
    },
    "tags": []
   },
   "outputs": [],
   "source": [
    "training_xdata = X_train\n",
    "testing_xdata = X_test\n",
    "training_ydata = y_train.reshape(-1,1)\n",
    "testing_ydata = y_test.reshape(-1,1)"
   ]
  },
  {
   "cell_type": "markdown",
   "id": "played-safety",
   "metadata": {
    "papermill": {
     "duration": 0.03622,
     "end_time": "2021-04-27T10:16:44.398196",
     "exception": false,
     "start_time": "2021-04-27T10:16:44.361976",
     "status": "completed"
    },
    "tags": []
   },
   "source": [
    "### Running Models with the Training data\n",
    "Details about the network layers:\n",
    "- A first affine layer has 784 inputs and does 100 affine transforms. These are followed by a Relu\n",
    "- A second affine layer has 100 inputs from the 100 activations of the past layer, and does 100 affine transforms. These are followed by a Relu\n",
    "- A third affine layer has 100 activations and does 2 affine transformations to create an embedding for visualization. There is no non-linearity here.\n",
    "- A final \"logistic regression\" which has an affine transform from 2 inputs to 1 output, which is squeezed through a sigmoid.\n",
    "\n",
    "Help taken from Anshuman's Notebook."
   ]
  },
  {
   "cell_type": "code",
   "execution_count": 18,
   "id": "asian-bankruptcy",
   "metadata": {
    "execution": {
     "iopub.execute_input": "2021-04-27T10:16:44.475242Z",
     "iopub.status.busy": "2021-04-27T10:16:44.474617Z",
     "iopub.status.idle": "2021-04-27T10:16:44.489605Z",
     "shell.execute_reply": "2021-04-27T10:16:44.488974Z"
    },
    "papermill": {
     "duration": 0.056834,
     "end_time": "2021-04-27T10:16:44.489741",
     "exception": false,
     "start_time": "2021-04-27T10:16:44.432907",
     "status": "completed"
    },
    "tags": []
   },
   "outputs": [],
   "source": [
    "# layers for the Neural Network\n",
    "layers = [Affine(\"first\", 784, 100), Relu(\"first\"), Affine(\"second\", 100, 100), Relu(\"second\"), Affine(\"third\", 100, 2), Affine(\"final\", 2, 1), Sigmoid(\"final\")]\n",
    "model_nn = Model(layers)\n",
    "\n",
    "# layers for the Logistic Regression\n",
    "layers_lr = [Affine(\"logits\", 784, 1), Sigmoid(\"sigmoid\")]\n",
    "model_lr = Model(layers_lr)"
   ]
  },
  {
   "cell_type": "code",
   "execution_count": 19,
   "id": "removed-butler",
   "metadata": {
    "execution": {
     "iopub.execute_input": "2021-04-27T10:16:44.564033Z",
     "iopub.status.busy": "2021-04-27T10:16:44.563365Z",
     "iopub.status.idle": "2021-04-27T10:16:44.575074Z",
     "shell.execute_reply": "2021-04-27T10:16:44.574538Z"
    },
    "papermill": {
     "duration": 0.050925,
     "end_time": "2021-04-27T10:16:44.575203",
     "exception": false,
     "start_time": "2021-04-27T10:16:44.524278",
     "status": "completed"
    },
    "tags": []
   },
   "outputs": [],
   "source": [
    "# suffix _nn stands for Neural Network.\n",
    "learner_nn = Learner(loss, model_nn, opt, config.num_epochs)\n",
    "acc_nn = ClfCallback(learner_nn, config.bs, training_xdata , testing_xdata, training_ydata, testing_ydata)\n",
    "learner_nn.set_callbacks([acc_nn])"
   ]
  },
  {
   "cell_type": "code",
   "execution_count": 20,
   "id": "conceptual-throw",
   "metadata": {
    "execution": {
     "iopub.execute_input": "2021-04-27T10:16:44.665205Z",
     "iopub.status.busy": "2021-04-27T10:16:44.664575Z",
     "iopub.status.idle": "2021-04-27T10:18:50.562135Z",
     "shell.execute_reply": "2021-04-27T10:18:50.562694Z"
    },
    "papermill": {
     "duration": 125.951035,
     "end_time": "2021-04-27T10:18:50.562841",
     "exception": false,
     "start_time": "2021-04-27T10:16:44.611806",
     "status": "completed"
    },
    "tags": []
   },
   "outputs": [
    {
     "name": "stdout",
     "output_type": "stream",
     "text": [
      "====== Neural Network ======\n"
     ]
    },
    {
     "name": "stdout",
     "output_type": "stream",
     "text": [
      "Epoch 0, Loss 0.2559\n",
      "Training Accuracy: 0.4781, Testing Accuracy: 0.4829\n",
      "\n"
     ]
    },
    {
     "name": "stdout",
     "output_type": "stream",
     "text": [
      "Epoch 10, Loss 0.1675\n",
      "Training Accuracy: 0.8990, Testing Accuracy: 0.9062\n",
      "\n"
     ]
    },
    {
     "name": "stdout",
     "output_type": "stream",
     "text": [
      "Epoch 20, Loss 0.0798\n",
      "Training Accuracy: 0.9266, Testing Accuracy: 0.9345\n",
      "\n"
     ]
    },
    {
     "name": "stdout",
     "output_type": "stream",
     "text": [
      "Epoch 30, Loss 0.0545\n",
      "Training Accuracy: 0.9429, Testing Accuracy: 0.9521\n",
      "\n"
     ]
    },
    {
     "name": "stdout",
     "output_type": "stream",
     "text": [
      "Epoch 40, Loss 0.0439\n",
      "Training Accuracy: 0.9513, Testing Accuracy: 0.9622\n",
      "\n"
     ]
    },
    {
     "name": "stdout",
     "output_type": "stream",
     "text": [
      "Epoch 50, Loss 0.0382\n",
      "Training Accuracy: 0.9569, Testing Accuracy: 0.9662\n",
      "\n"
     ]
    },
    {
     "name": "stdout",
     "output_type": "stream",
     "text": [
      "Epoch 60, Loss 0.0347\n",
      "Training Accuracy: 0.9607, Testing Accuracy: 0.9667\n",
      "\n"
     ]
    },
    {
     "name": "stdout",
     "output_type": "stream",
     "text": [
      "Epoch 70, Loss 0.0322\n",
      "Training Accuracy: 0.9633, Testing Accuracy: 0.9708\n",
      "\n"
     ]
    },
    {
     "name": "stdout",
     "output_type": "stream",
     "text": [
      "Epoch 80, Loss 0.0304\n",
      "Training Accuracy: 0.9650, Testing Accuracy: 0.9718\n",
      "\n"
     ]
    },
    {
     "name": "stdout",
     "output_type": "stream",
     "text": [
      "Epoch 90, Loss 0.0289\n",
      "Training Accuracy: 0.9658, Testing Accuracy: 0.9713\n",
      "\n"
     ]
    },
    {
     "name": "stdout",
     "output_type": "stream",
     "text": [
      "Epoch 100, Loss 0.0278\n",
      "Training Accuracy: 0.9671, Testing Accuracy: 0.9718\n",
      "\n"
     ]
    },
    {
     "name": "stdout",
     "output_type": "stream",
     "text": [
      "Epoch 110, Loss 0.0268\n",
      "Training Accuracy: 0.9680, Testing Accuracy: 0.9728\n",
      "\n"
     ]
    },
    {
     "name": "stdout",
     "output_type": "stream",
     "text": [
      "Epoch 120, Loss 0.0259\n",
      "Training Accuracy: 0.9695, Testing Accuracy: 0.9723\n",
      "\n"
     ]
    },
    {
     "name": "stdout",
     "output_type": "stream",
     "text": [
      "Epoch 130, Loss 0.0252\n",
      "Training Accuracy: 0.9710, Testing Accuracy: 0.9723\n",
      "\n"
     ]
    },
    {
     "name": "stdout",
     "output_type": "stream",
     "text": [
      "Epoch 140, Loss 0.0245\n",
      "Training Accuracy: 0.9723, Testing Accuracy: 0.9728\n",
      "\n"
     ]
    },
    {
     "name": "stdout",
     "output_type": "stream",
     "text": [
      "Epoch 150, Loss 0.0238\n",
      "Training Accuracy: 0.9729, Testing Accuracy: 0.9733\n",
      "\n"
     ]
    },
    {
     "name": "stdout",
     "output_type": "stream",
     "text": [
      "Epoch 160, Loss 0.0233\n",
      "Training Accuracy: 0.9737, Testing Accuracy: 0.9743\n",
      "\n"
     ]
    },
    {
     "name": "stdout",
     "output_type": "stream",
     "text": [
      "Epoch 170, Loss 0.0227\n",
      "Training Accuracy: 0.9739, Testing Accuracy: 0.9743\n",
      "\n"
     ]
    },
    {
     "name": "stdout",
     "output_type": "stream",
     "text": [
      "Epoch 180, Loss 0.0223\n",
      "Training Accuracy: 0.9745, Testing Accuracy: 0.9738\n",
      "\n"
     ]
    },
    {
     "name": "stdout",
     "output_type": "stream",
     "text": [
      "Epoch 190, Loss 0.0218\n",
      "Training Accuracy: 0.9751, Testing Accuracy: 0.9738\n",
      "\n"
     ]
    },
    {
     "name": "stdout",
     "output_type": "stream",
     "text": [
      "Epoch 200, Loss 0.0214\n",
      "Training Accuracy: 0.9762, Testing Accuracy: 0.9748\n",
      "\n"
     ]
    },
    {
     "name": "stdout",
     "output_type": "stream",
     "text": [
      "Epoch 210, Loss 0.0209\n",
      "Training Accuracy: 0.9767, Testing Accuracy: 0.9748\n",
      "\n"
     ]
    },
    {
     "name": "stdout",
     "output_type": "stream",
     "text": [
      "Epoch 220, Loss 0.0205\n",
      "Training Accuracy: 0.9767, Testing Accuracy: 0.9748\n",
      "\n"
     ]
    },
    {
     "name": "stdout",
     "output_type": "stream",
     "text": [
      "Epoch 230, Loss 0.0202\n",
      "Training Accuracy: 0.9776, Testing Accuracy: 0.9743\n",
      "\n"
     ]
    },
    {
     "name": "stdout",
     "output_type": "stream",
     "text": [
      "Epoch 240, Loss 0.0198\n",
      "Training Accuracy: 0.9778, Testing Accuracy: 0.9748\n",
      "\n"
     ]
    },
    {
     "name": "stdout",
     "output_type": "stream",
     "text": [
      "Epoch 250, Loss 0.0194\n",
      "Training Accuracy: 0.9780, Testing Accuracy: 0.9748\n",
      "\n"
     ]
    },
    {
     "data": {
      "text/plain": [
       "0.002271907779496563"
      ]
     },
     "execution_count": 20,
     "metadata": {},
     "output_type": "execute_result"
    }
   ],
   "source": [
    "print(\"====== Neural Network ======\")\n",
    "learner_nn.train_loop(dl)"
   ]
  },
  {
   "cell_type": "markdown",
   "id": "competent-suffering",
   "metadata": {
    "papermill": {
     "duration": 0.043287,
     "end_time": "2021-04-27T10:18:50.652536",
     "exception": false,
     "start_time": "2021-04-27T10:18:50.609249",
     "status": "completed"
    },
    "tags": []
   },
   "source": [
    "### Logistic Regression based Implementation."
   ]
  },
  {
   "cell_type": "code",
   "execution_count": 21,
   "id": "qualified-psychiatry",
   "metadata": {
    "execution": {
     "iopub.execute_input": "2021-04-27T10:18:50.752159Z",
     "iopub.status.busy": "2021-04-27T10:18:50.751516Z",
     "iopub.status.idle": "2021-04-27T10:18:50.761502Z",
     "shell.execute_reply": "2021-04-27T10:18:50.759902Z"
    },
    "papermill": {
     "duration": 0.068071,
     "end_time": "2021-04-27T10:18:50.761639",
     "exception": false,
     "start_time": "2021-04-27T10:18:50.693568",
     "status": "completed"
    },
    "tags": []
   },
   "outputs": [],
   "source": [
    "learner_lr = Learner(loss, model_lr, opt, config.num_epochs)\n",
    "acc_lr = ClfCallback(learner_lr, config.bs, training_xdata , testing_xdata, training_ydata, testing_ydata)\n",
    "learner_lr.set_callbacks([acc_lr])"
   ]
  },
  {
   "cell_type": "code",
   "execution_count": 22,
   "id": "average-outside",
   "metadata": {
    "execution": {
     "iopub.execute_input": "2021-04-27T10:18:50.855342Z",
     "iopub.status.busy": "2021-04-27T10:18:50.854712Z",
     "iopub.status.idle": "2021-04-27T10:19:09.056239Z",
     "shell.execute_reply": "2021-04-27T10:19:09.056859Z"
    },
    "papermill": {
     "duration": 18.251801,
     "end_time": "2021-04-27T10:19:09.057012",
     "exception": false,
     "start_time": "2021-04-27T10:18:50.805211",
     "status": "completed"
    },
    "tags": []
   },
   "outputs": [
    {
     "name": "stdout",
     "output_type": "stream",
     "text": [
      "====== Logistic Regression ======\n",
      "Epoch 0, Loss 0.2347\n",
      "Training Accuracy: 0.7172, Testing Accuracy: 0.7394\n",
      "\n"
     ]
    },
    {
     "name": "stdout",
     "output_type": "stream",
     "text": [
      "Epoch 10, Loss 0.1035\n",
      "Training Accuracy: 0.9033, Testing Accuracy: 0.9189\n",
      "\n"
     ]
    },
    {
     "name": "stdout",
     "output_type": "stream",
     "text": [
      "Epoch 20, Loss 0.0806\n",
      "Training Accuracy: 0.9215, Testing Accuracy: 0.9350\n",
      "\n"
     ]
    },
    {
     "name": "stdout",
     "output_type": "stream",
     "text": [
      "Epoch 30, Loss 0.0698\n",
      "Training Accuracy: 0.9305, Testing Accuracy: 0.9420\n",
      "\n"
     ]
    },
    {
     "name": "stdout",
     "output_type": "stream",
     "text": [
      "Epoch 40, Loss 0.0632\n",
      "Training Accuracy: 0.9356, Testing Accuracy: 0.9481\n",
      "\n"
     ]
    },
    {
     "name": "stdout",
     "output_type": "stream",
     "text": [
      "Epoch 50, Loss 0.0586\n",
      "Training Accuracy: 0.9388, Testing Accuracy: 0.9521\n",
      "\n"
     ]
    },
    {
     "name": "stdout",
     "output_type": "stream",
     "text": [
      "Epoch 60, Loss 0.0552\n",
      "Training Accuracy: 0.9418, Testing Accuracy: 0.9551\n",
      "\n"
     ]
    },
    {
     "name": "stdout",
     "output_type": "stream",
     "text": [
      "Epoch 70, Loss 0.0526\n",
      "Training Accuracy: 0.9437, Testing Accuracy: 0.9567\n",
      "\n"
     ]
    },
    {
     "name": "stdout",
     "output_type": "stream",
     "text": [
      "Epoch 80, Loss 0.0504\n",
      "Training Accuracy: 0.9463, Testing Accuracy: 0.9577\n",
      "\n"
     ]
    },
    {
     "name": "stdout",
     "output_type": "stream",
     "text": [
      "Epoch 90, Loss 0.0486\n",
      "Training Accuracy: 0.9478, Testing Accuracy: 0.9577\n",
      "\n"
     ]
    },
    {
     "name": "stdout",
     "output_type": "stream",
     "text": [
      "Epoch 100, Loss 0.0471\n",
      "Training Accuracy: 0.9490, Testing Accuracy: 0.9582\n",
      "\n"
     ]
    },
    {
     "name": "stdout",
     "output_type": "stream",
     "text": [
      "Epoch 110, Loss 0.0458\n",
      "Training Accuracy: 0.9502, Testing Accuracy: 0.9582\n",
      "\n"
     ]
    },
    {
     "name": "stdout",
     "output_type": "stream",
     "text": [
      "Epoch 120, Loss 0.0447\n",
      "Training Accuracy: 0.9522, Testing Accuracy: 0.9592\n",
      "\n"
     ]
    },
    {
     "name": "stdout",
     "output_type": "stream",
     "text": [
      "Epoch 130, Loss 0.0437\n",
      "Training Accuracy: 0.9533, Testing Accuracy: 0.9602\n",
      "\n"
     ]
    },
    {
     "name": "stdout",
     "output_type": "stream",
     "text": [
      "Epoch 140, Loss 0.0428\n",
      "Training Accuracy: 0.9543, Testing Accuracy: 0.9607\n",
      "\n"
     ]
    },
    {
     "name": "stdout",
     "output_type": "stream",
     "text": [
      "Epoch 150, Loss 0.042\n",
      "Training Accuracy: 0.9548, Testing Accuracy: 0.9617\n",
      "\n"
     ]
    },
    {
     "name": "stdout",
     "output_type": "stream",
     "text": [
      "Epoch 160, Loss 0.0413\n",
      "Training Accuracy: 0.9555, Testing Accuracy: 0.9622\n",
      "\n"
     ]
    },
    {
     "name": "stdout",
     "output_type": "stream",
     "text": [
      "Epoch 170, Loss 0.0407\n",
      "Training Accuracy: 0.9559, Testing Accuracy: 0.9622\n",
      "\n"
     ]
    },
    {
     "name": "stdout",
     "output_type": "stream",
     "text": [
      "Epoch 180, Loss 0.0401\n",
      "Training Accuracy: 0.9569, Testing Accuracy: 0.9627\n",
      "\n"
     ]
    },
    {
     "name": "stdout",
     "output_type": "stream",
     "text": [
      "Epoch 190, Loss 0.0395\n",
      "Training Accuracy: 0.9576, Testing Accuracy: 0.9627\n",
      "\n"
     ]
    },
    {
     "name": "stdout",
     "output_type": "stream",
     "text": [
      "Epoch 200, Loss 0.039\n",
      "Training Accuracy: 0.9581, Testing Accuracy: 0.9637\n",
      "\n"
     ]
    },
    {
     "name": "stdout",
     "output_type": "stream",
     "text": [
      "Epoch 210, Loss 0.0386\n",
      "Training Accuracy: 0.9586, Testing Accuracy: 0.9647\n",
      "\n"
     ]
    },
    {
     "name": "stdout",
     "output_type": "stream",
     "text": [
      "Epoch 220, Loss 0.0381\n",
      "Training Accuracy: 0.9590, Testing Accuracy: 0.9642\n",
      "\n"
     ]
    },
    {
     "name": "stdout",
     "output_type": "stream",
     "text": [
      "Epoch 230, Loss 0.0377\n",
      "Training Accuracy: 0.9596, Testing Accuracy: 0.9642\n",
      "\n"
     ]
    },
    {
     "name": "stdout",
     "output_type": "stream",
     "text": [
      "Epoch 240, Loss 0.0373\n",
      "Training Accuracy: 0.9599, Testing Accuracy: 0.9647\n",
      "\n"
     ]
    },
    {
     "name": "stdout",
     "output_type": "stream",
     "text": [
      "Epoch 250, Loss 0.037\n",
      "Training Accuracy: 0.9604, Testing Accuracy: 0.9652\n",
      "\n"
     ]
    },
    {
     "data": {
      "text/plain": [
       "0.03199609893661305"
      ]
     },
     "execution_count": 22,
     "metadata": {},
     "output_type": "execute_result"
    }
   ],
   "source": [
    "print(\"====== Logistic Regression ======\")\n",
    "learner_lr.train_loop(dl)"
   ]
  },
  {
   "cell_type": "markdown",
   "id": "adjusted-possible",
   "metadata": {
    "papermill": {
     "duration": 0.054876,
     "end_time": "2021-04-27T10:19:09.167714",
     "exception": false,
     "start_time": "2021-04-27T10:19:09.112838",
     "status": "completed"
    },
    "tags": []
   },
   "source": [
    "### Comparing results of NN and LR"
   ]
  },
  {
   "cell_type": "code",
   "execution_count": 23,
   "id": "mental-multimedia",
   "metadata": {
    "execution": {
     "iopub.execute_input": "2021-04-27T10:19:09.290073Z",
     "iopub.status.busy": "2021-04-27T10:19:09.289377Z",
     "iopub.status.idle": "2021-04-27T10:19:09.546820Z",
     "shell.execute_reply": "2021-04-27T10:19:09.546234Z"
    },
    "papermill": {
     "duration": 0.323624,
     "end_time": "2021-04-27T10:19:09.546952",
     "exception": false,
     "start_time": "2021-04-27T10:19:09.223328",
     "status": "completed"
    },
    "tags": []
   },
   "outputs": [
    {
     "data": {
      "text/plain": [
       "<matplotlib.legend.Legend at 0x7ff50bcb5208>"
      ]
     },
     "execution_count": 23,
     "metadata": {},
     "output_type": "execute_result"
    },
    {
     "data": {
      "image/png": "[encoded data removed]",
      "text/plain": [
       "<Figure size 1080x720 with 1 Axes>"
      ]
     },
     "metadata": {
      "needs_background": "light"
     },
     "output_type": "display_data"
    }
   ],
   "source": [
    "plt.figure(figsize=(15,10))\n",
    "\n",
    "# Neural Network plots\n",
    "plt.plot(acc_nn.accuracies, 'r-', label = \"Training Accuracies - NN\")\n",
    "plt.plot(acc_nn.test_accuracies, 'g-', label = \"Testing Accuracies - NN\")\n",
    "\n",
    "# Logistic Regression plots\n",
    "plt.plot(acc_lr.accuracies, 'k-', label = \"Training Accuracies - LR\")\n",
    "plt.plot(acc_lr.test_accuracies, 'b-', label = \"Testing Accuracies - LR\")\n",
    "\n",
    "plt.ylim(0.8, 1)\n",
    "\n",
    "plt.legend()\n",
    "\n"
   ]
  },
  {
   "cell_type": "markdown",
   "id": "sexual-flesh",
   "metadata": {
    "papermill": {
     "duration": 0.052615,
     "end_time": "2021-04-27T10:19:09.654117",
     "exception": false,
     "start_time": "2021-04-27T10:19:09.601502",
     "status": "completed"
    },
    "tags": []
   },
   "source": [
    "### From the plot, we can observe the following:\n",
    "- Neural Network achieves higher accuracy than the Logistic Regression model.\n",
    "- This apparently, is because of overfitting, i.e. NN captures more noise than data.\n",
    "- Testing accuracy of NN drops below the Training accuracy at higher epochs. This explains the over-fitting on training data.\n",
    "- Logistic Regression gives a reliable accuracy, without the above mentioned problem.\n"
   ]
  },
  {
   "cell_type": "markdown",
   "id": "institutional-pacific",
   "metadata": {
    "papermill": {
     "duration": 0.051746,
     "end_time": "2021-04-27T10:19:09.757393",
     "exception": false,
     "start_time": "2021-04-27T10:19:09.705647",
     "status": "completed"
    },
    "tags": []
   },
   "source": [
    "### Moving till the last but one layer (excluding it).\n",
    "#### Plotting the outputs of this layer of the NN."
   ]
  },
  {
   "cell_type": "code",
   "execution_count": 24,
   "id": "economic-server",
   "metadata": {
    "execution": {
     "iopub.execute_input": "2021-04-27T10:19:09.886373Z",
     "iopub.status.busy": "2021-04-27T10:19:09.881370Z",
     "iopub.status.idle": "2021-04-27T10:19:09.889418Z",
     "shell.execute_reply": "2021-04-27T10:19:09.889878Z"
    },
    "papermill": {
     "duration": 0.076755,
     "end_time": "2021-04-27T10:19:09.890075",
     "exception": false,
     "start_time": "2021-04-27T10:19:09.813320",
     "status": "completed"
    },
    "tags": []
   },
   "outputs": [],
   "source": [
    "model_new = Model(layers[:-2])"
   ]
  },
  {
   "cell_type": "code",
   "execution_count": 25,
   "id": "varied-upgrade",
   "metadata": {
    "execution": {
     "iopub.execute_input": "2021-04-27T10:19:10.007017Z",
     "iopub.status.busy": "2021-04-27T10:19:09.999249Z",
     "iopub.status.idle": "2021-04-27T10:19:10.031709Z",
     "shell.execute_reply": "2021-04-27T10:19:10.032219Z"
    },
    "papermill": {
     "duration": 0.090626,
     "end_time": "2021-04-27T10:19:10.032374",
     "exception": false,
     "start_time": "2021-04-27T10:19:09.941748",
     "status": "completed"
    },
    "tags": []
   },
   "outputs": [],
   "source": [
    "plot_testing = model_new(testing_xdata)"
   ]
  },
  {
   "cell_type": "code",
   "execution_count": 26,
   "id": "specific-handling",
   "metadata": {
    "execution": {
     "iopub.execute_input": "2021-04-27T10:19:10.180200Z",
     "iopub.status.busy": "2021-04-27T10:19:10.152187Z",
     "iopub.status.idle": "2021-04-27T10:19:10.408113Z",
     "shell.execute_reply": "2021-04-27T10:19:10.407618Z"
    },
    "papermill": {
     "duration": 0.319332,
     "end_time": "2021-04-27T10:19:10.408239",
     "exception": false,
     "start_time": "2021-04-27T10:19:10.088907",
     "status": "completed"
    },
    "tags": []
   },
   "outputs": [
    {
     "data": {
      "text/plain": [
       "Text(0.5, 1.0, 'Outputs')"
      ]
     },
     "execution_count": 26,
     "metadata": {},
     "output_type": "execute_result"
    },
    {
     "data": {
      "image/png": "[encoded data removed]",
      "text/plain": [
       "<Figure size 576x504 with 1 Axes>"
      ]
     },
     "metadata": {
      "needs_background": "light"
     },
     "output_type": "display_data"
    }
   ],
   "source": [
    "plt.figure(figsize=(8,7))\n",
    "plt.scatter(plot_testing[:,0], plot_testing[:,1], alpha = 0.1, c = y_test.ravel());\n",
    "plt.title('Outputs')"
   ]
  },
  {
   "cell_type": "markdown",
   "id": "described-knowing",
   "metadata": {
    "papermill": {
     "duration": 0.073642,
     "end_time": "2021-04-27T10:19:10.536656",
     "exception": false,
     "start_time": "2021-04-27T10:19:10.463014",
     "status": "completed"
    },
    "tags": []
   },
   "source": [
    "### Plotting probability contours"
   ]
  },
  {
   "cell_type": "code",
   "execution_count": 27,
   "id": "needed-growing",
   "metadata": {
    "execution": {
     "iopub.execute_input": "2021-04-27T10:19:10.653998Z",
     "iopub.status.busy": "2021-04-27T10:19:10.653287Z",
     "iopub.status.idle": "2021-04-27T10:19:10.663001Z",
     "shell.execute_reply": "2021-04-27T10:19:10.662378Z"
    },
    "papermill": {
     "duration": 0.074053,
     "end_time": "2021-04-27T10:19:10.663155",
     "exception": false,
     "start_time": "2021-04-27T10:19:10.589102",
     "status": "completed"
    },
    "tags": []
   },
   "outputs": [],
   "source": [
    "model_prob = Model(layers[-2:]) "
   ]
  },
  {
   "cell_type": "code",
   "execution_count": 28,
   "id": "introductory-enforcement",
   "metadata": {
    "execution": {
     "iopub.execute_input": "2021-04-27T10:19:10.786400Z",
     "iopub.status.busy": "2021-04-27T10:19:10.785712Z",
     "iopub.status.idle": "2021-04-27T10:19:10.798686Z",
     "shell.execute_reply": "2021-04-27T10:19:10.799130Z"
    },
    "papermill": {
     "duration": 0.07995,
     "end_time": "2021-04-27T10:19:10.799265",
     "exception": false,
     "start_time": "2021-04-27T10:19:10.719315",
     "status": "completed"
    },
    "tags": []
   },
   "outputs": [],
   "source": [
    "# Adjust the x and y ranges according to the above generated plot.\n",
    "x_range = np.linspace(-4, 1, 100) \n",
    "y_range = np.linspace(-6, 6, 100) \n",
    "x_grid, y_grid = np.meshgrid(x_range, y_range) # x_grid and y_grig are of size 100 X 100\n",
    "\n",
    "# converting x_grid and y_grid to continuous arrays\n",
    "x_grid_flat = np.ravel(x_grid)\n",
    "y_grid_flat = np.ravel(y_grid)\n",
    "\n",
    "# The last layer of the current model takes two columns as input. Hence transpose of np.vstack() is required.\n",
    "X = np.vstack((x_grid_flat, y_grid_flat)).T\n",
    "\n",
    "# x_grid and y_grid are of size 100 x 100\n",
    "probability_contour = model_prob(X).reshape(100,100) "
   ]
  },
  {
   "cell_type": "code",
   "execution_count": 29,
   "id": "understood-landing",
   "metadata": {
    "execution": {
     "iopub.execute_input": "2021-04-27T10:19:10.923666Z",
     "iopub.status.busy": "2021-04-27T10:19:10.922827Z",
     "iopub.status.idle": "2021-04-27T10:19:11.208213Z",
     "shell.execute_reply": "2021-04-27T10:19:11.207711Z"
    },
    "papermill": {
     "duration": 0.346782,
     "end_time": "2021-04-27T10:19:11.208340",
     "exception": false,
     "start_time": "2021-04-27T10:19:10.861558",
     "status": "completed"
    },
    "tags": []
   },
   "outputs": [
    {
     "data": {
      "image/png": "[encoded data removed]",
      "text/plain": [
       "<Figure size 720x648 with 1 Axes>"
      ]
     },
     "metadata": {
      "needs_background": "light"
     },
     "output_type": "display_data"
    }
   ],
   "source": [
    "plt.figure(figsize=(10,9))\n",
    "plt.scatter(plot_testing[:,0], plot_testing[:,1], alpha = 0.1, c = y_test.ravel())\n",
    "contours = plt.contour(x_grid,y_grid,probability_contour)\n",
    "plt.title('Probability Contours')\n",
    "plt.clabel(contours, inline = True );"
   ]
  }
 ],
 "metadata": {
  "kernelspec": {
   "display_name": "Python 3",
   "language": "python",
   "name": "python3"
  },
  "language_info": {
   "codemirror_mode": {
    "name": "ipython",
    "version": 3
   },
   "file_extension": ".py",
   "mimetype": "text/x-python",
   "name": "python",
   "nbconvert_exporter": "python",
   "pygments_lexer": "ipython3",
   "version": "3.6.13"
  },
  "papermill": {
   "duration": 503.036437,
   "end_time": "2021-04-27T10:19:11.572201",
   "environment_variables": {},
   "exception": null,
   "input_path": "2020-08-11-NeuralNetwork.ipynb",
   "output_path": "2020-08-11-NeuralNetwork.ipynb",
   "parameters": {},
   "start_time": "2021-04-27T10:10:48.535764",
   "version": "2.1.2"
  }
 },
 "nbformat": 4,
 "nbformat_minor": 5
}