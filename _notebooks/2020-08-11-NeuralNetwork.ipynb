{
 "cells": [
  {
   "cell_type": "markdown",
   "metadata": {
    "papermill": {
     "duration": 0.035652,
     "end_time": "2020-09-20T00:07:07.766876",
     "exception": false,
     "start_time": "2020-09-20T00:07:07.731224",
     "status": "completed"
    },
    "tags": []
   },
   "source": [
    "# \"A Basic Neural Network: Differentiate Hand-Written Digits\"\n",
    "\n",
    "- badges: true\n",
    "- author: Akshith Sriram"
   ]
  },
  {
   "cell_type": "markdown",
   "metadata": {
    "papermill": {
     "duration": 0.033266,
     "end_time": "2020-09-20T00:07:07.833058",
     "exception": false,
     "start_time": "2020-09-20T00:07:07.799792",
     "status": "completed"
    },
    "tags": []
   },
   "source": [
    "### Key Objectives:\n",
    "- Building a neural network that differentiates two hand-written digits 3 and 8.\n",
    "- Comparing the results of this Neural Network (NN) to that of a Logistic Regression (LR) model.\n",
    "\n",
    "### Requirements:\n",
    "- 'Kudzu' : A neural network library that was designed during our course by [Univ.AI](www.univ.ai). \n",
    "- MNIST Database\n",
    "\n",
    "If MNIST is not installed, use the command `!pip install mnist` given below.\n",
    "It can be run both from the command line and Jupyter Notebook."
   ]
  },
  {
   "cell_type": "code",
   "execution_count": 1,
   "metadata": {
    "execution": {
     "iopub.execute_input": "2020-09-20T00:07:07.902952Z",
     "iopub.status.busy": "2020-09-20T00:07:07.902181Z",
     "iopub.status.idle": "2020-09-20T00:07:10.198019Z",
     "shell.execute_reply": "2020-09-20T00:07:10.198690Z"
    },
    "papermill": {
     "duration": 2.333532,
     "end_time": "2020-09-20T00:07:10.198900",
     "exception": false,
     "start_time": "2020-09-20T00:07:07.865368",
     "status": "completed"
    },
    "tags": []
   },
   "outputs": [
    {
     "name": "stdout",
     "output_type": "stream",
     "text": [
      "Collecting mnist\r\n"
     ]
    },
    {
     "name": "stdout",
     "output_type": "stream",
     "text": [
      "  Downloading mnist-0.2.2-py2.py3-none-any.whl (3.5 kB)\r\n"
     ]
    },
    {
     "name": "stdout",
     "output_type": "stream",
     "text": [
      "Requirement already satisfied: numpy in /opt/hostedtoolcache/Python/3.6.12/x64/lib/python3.6/site-packages (from mnist) (1.19.2)\r\n"
     ]
    },
    {
     "name": "stdout",
     "output_type": "stream",
     "text": [
      "Installing collected packages: mnist\r\n"
     ]
    },
    {
     "name": "stdout",
     "output_type": "stream",
     "text": [
      "Successfully installed mnist-0.2.2\r\n"
     ]
    }
   ],
   "source": [
    "!pip install mnist "
   ]
  },
  {
   "cell_type": "markdown",
   "metadata": {
    "papermill": {
     "duration": 0.032529,
     "end_time": "2020-09-20T00:07:10.264950",
     "exception": false,
     "start_time": "2020-09-20T00:07:10.232421",
     "status": "completed"
    },
    "tags": []
   },
   "source": [
    "#### Importing necessary libraries"
   ]
  },
  {
   "cell_type": "code",
   "execution_count": 2,
   "metadata": {
    "execution": {
     "iopub.execute_input": "2020-09-20T00:07:10.340359Z",
     "iopub.status.busy": "2020-09-20T00:07:10.339625Z",
     "iopub.status.idle": "2020-09-20T00:07:11.045616Z",
     "shell.execute_reply": "2020-09-20T00:07:11.044959Z"
    },
    "papermill": {
     "duration": 0.747617,
     "end_time": "2020-09-20T00:07:11.045779",
     "exception": false,
     "start_time": "2020-09-20T00:07:10.298162",
     "status": "completed"
    },
    "tags": []
   },
   "outputs": [],
   "source": [
    "%load_ext autoreload\n",
    "%autoreload 2\n",
    "\n",
    "%matplotlib inline\n",
    "import matplotlib.pyplot as plt\n",
    "\n",
    "import numpy as np\n",
    "import pandas as pd"
   ]
  },
  {
   "cell_type": "markdown",
   "metadata": {
    "papermill": {
     "duration": 0.030387,
     "end_time": "2020-09-20T00:07:11.110283",
     "exception": false,
     "start_time": "2020-09-20T00:07:11.079896",
     "status": "completed"
    },
    "tags": []
   },
   "source": [
    "### Preparing the Data"
   ]
  },
  {
   "cell_type": "code",
   "execution_count": 3,
   "metadata": {
    "execution": {
     "iopub.execute_input": "2020-09-20T00:07:11.175778Z",
     "iopub.status.busy": "2020-09-20T00:07:11.175116Z",
     "iopub.status.idle": "2020-09-20T00:07:11.188889Z",
     "shell.execute_reply": "2020-09-20T00:07:11.188244Z"
    },
    "papermill": {
     "duration": 0.048602,
     "end_time": "2020-09-20T00:07:11.189056",
     "exception": false,
     "start_time": "2020-09-20T00:07:11.140454",
     "status": "completed"
    },
    "tags": []
   },
   "outputs": [],
   "source": [
    "import mnist"
   ]
  },
  {
   "cell_type": "code",
   "execution_count": 4,
   "metadata": {
    "execution": {
     "iopub.execute_input": "2020-09-20T00:07:11.279287Z",
     "iopub.status.busy": "2020-09-20T00:07:11.278118Z",
     "iopub.status.idle": "2020-09-20T00:07:12.241480Z",
     "shell.execute_reply": "2020-09-20T00:07:12.240374Z"
    },
    "papermill": {
     "duration": 1.019809,
     "end_time": "2020-09-20T00:07:12.241625",
     "exception": false,
     "start_time": "2020-09-20T00:07:11.221816",
     "status": "completed"
    },
    "tags": []
   },
   "outputs": [],
   "source": [
    "train_images = mnist.train_images()\n",
    "train_labels = mnist.train_labels()"
   ]
  },
  {
   "cell_type": "code",
   "execution_count": 5,
   "metadata": {
    "execution": {
     "iopub.execute_input": "2020-09-20T00:07:12.314589Z",
     "iopub.status.busy": "2020-09-20T00:07:12.304883Z",
     "iopub.status.idle": "2020-09-20T00:07:12.321729Z",
     "shell.execute_reply": "2020-09-20T00:07:12.321059Z"
    },
    "papermill": {
     "duration": 0.050456,
     "end_time": "2020-09-20T00:07:12.321890",
     "exception": false,
     "start_time": "2020-09-20T00:07:12.271434",
     "status": "completed"
    },
    "tags": []
   },
   "outputs": [
    {
     "data": {
      "text/plain": [
       "((60000, 28, 28), (60000,))"
      ]
     },
     "execution_count": 5,
     "metadata": {},
     "output_type": "execute_result"
    }
   ],
   "source": [
    "train_images.shape, train_labels.shape"
   ]
  },
  {
   "cell_type": "code",
   "execution_count": 6,
   "metadata": {
    "execution": {
     "iopub.execute_input": "2020-09-20T00:07:12.387923Z",
     "iopub.status.busy": "2020-09-20T00:07:12.387286Z",
     "iopub.status.idle": "2020-09-20T00:07:12.812838Z",
     "shell.execute_reply": "2020-09-20T00:07:12.813470Z"
    },
    "papermill": {
     "duration": 0.459912,
     "end_time": "2020-09-20T00:07:12.813669",
     "exception": false,
     "start_time": "2020-09-20T00:07:12.353757",
     "status": "completed"
    },
    "tags": []
   },
   "outputs": [],
   "source": [
    "test_images = mnist.test_images()\n",
    "test_labels = mnist.test_labels()"
   ]
  },
  {
   "cell_type": "code",
   "execution_count": 7,
   "metadata": {
    "execution": {
     "iopub.execute_input": "2020-09-20T00:07:12.891988Z",
     "iopub.status.busy": "2020-09-20T00:07:12.891234Z",
     "iopub.status.idle": "2020-09-20T00:07:12.906961Z",
     "shell.execute_reply": "2020-09-20T00:07:12.906299Z"
    },
    "papermill": {
     "duration": 0.059156,
     "end_time": "2020-09-20T00:07:12.907121",
     "exception": false,
     "start_time": "2020-09-20T00:07:12.847965",
     "status": "completed"
    },
    "tags": []
   },
   "outputs": [
    {
     "data": {
      "text/plain": [
       "((10000, 28, 28), (10000,))"
      ]
     },
     "execution_count": 7,
     "metadata": {},
     "output_type": "execute_result"
    }
   ],
   "source": [
    "test_images.shape, test_labels.shape"
   ]
  },
  {
   "cell_type": "code",
   "execution_count": 8,
   "metadata": {
    "execution": {
     "iopub.execute_input": "2020-09-20T00:07:12.976700Z",
     "iopub.status.busy": "2020-09-20T00:07:12.975945Z",
     "iopub.status.idle": "2020-09-20T00:07:13.159832Z",
     "shell.execute_reply": "2020-09-20T00:07:13.159206Z"
    },
    "papermill": {
     "duration": 0.221183,
     "end_time": "2020-09-20T00:07:13.160011",
     "exception": false,
     "start_time": "2020-09-20T00:07:12.938828",
     "status": "completed"
    },
    "tags": []
   },
   "outputs": [
    {
     "name": "stdout",
     "output_type": "stream",
     "text": [
      "2\n"
     ]
    },
    {
     "data": {
      "text/plain": [
       "<matplotlib.image.AxesImage at 0x7fa22ddfb7f0>"
      ]
     },
     "execution_count": 8,
     "metadata": {},
     "output_type": "execute_result"
    },
    {
     "data": {
      "image/png": "[encoded data removed]",
      "text/plain": [
       "<Figure size 432x288 with 1 Axes>"
      ]
     },
     "metadata": {
      "needs_background": "light"
     },
     "output_type": "display_data"
    }
   ],
   "source": [
    "image_index = 7776 # You may select anything up to 60,000\n",
    "print(train_labels[image_index]) \n",
    "plt.imshow(train_images[image_index], cmap='Greys')"
   ]
  },
  {
   "cell_type": "markdown",
   "metadata": {
    "papermill": {
     "duration": 0.036291,
     "end_time": "2020-09-20T00:07:13.231921",
     "exception": false,
     "start_time": "2020-09-20T00:07:13.195630",
     "status": "completed"
    },
    "tags": []
   },
   "source": [
    "## Filter data to get 3 and 8 out"
   ]
  },
  {
   "cell_type": "code",
   "execution_count": 9,
   "metadata": {
    "execution": {
     "iopub.execute_input": "2020-09-20T00:07:13.308334Z",
     "iopub.status.busy": "2020-09-20T00:07:13.307506Z",
     "iopub.status.idle": "2020-09-20T00:07:13.331798Z",
     "shell.execute_reply": "2020-09-20T00:07:13.331017Z"
    },
    "papermill": {
     "duration": 0.065149,
     "end_time": "2020-09-20T00:07:13.331964",
     "exception": false,
     "start_time": "2020-09-20T00:07:13.266815",
     "status": "completed"
    },
    "tags": []
   },
   "outputs": [],
   "source": [
    "train_filter = np.where((train_labels == 3 ) | (train_labels == 8))\n",
    "test_filter = np.where((test_labels == 3) | (test_labels == 8))\n",
    "X_train, y_train = train_images[train_filter], train_labels[train_filter]\n",
    "X_test, y_test = test_images[test_filter], test_labels[test_filter]"
   ]
  },
  {
   "cell_type": "markdown",
   "metadata": {
    "papermill": {
     "duration": 0.035528,
     "end_time": "2020-09-20T00:07:13.402172",
     "exception": false,
     "start_time": "2020-09-20T00:07:13.366644",
     "status": "completed"
    },
    "tags": []
   },
   "source": [
    "We normalize the pixel values in the 0 to 1 range"
   ]
  },
  {
   "cell_type": "code",
   "execution_count": 10,
   "metadata": {
    "execution": {
     "iopub.execute_input": "2020-09-20T00:07:13.478677Z",
     "iopub.status.busy": "2020-09-20T00:07:13.477917Z",
     "iopub.status.idle": "2020-09-20T00:07:13.546413Z",
     "shell.execute_reply": "2020-09-20T00:07:13.545723Z"
    },
    "papermill": {
     "duration": 0.109299,
     "end_time": "2020-09-20T00:07:13.546600",
     "exception": false,
     "start_time": "2020-09-20T00:07:13.437301",
     "status": "completed"
    },
    "tags": []
   },
   "outputs": [],
   "source": [
    "X_train = X_train/255.\n",
    "X_test = X_test/255."
   ]
  },
  {
   "cell_type": "markdown",
   "metadata": {
    "papermill": {
     "duration": 0.031388,
     "end_time": "2020-09-20T00:07:13.616465",
     "exception": false,
     "start_time": "2020-09-20T00:07:13.585077",
     "status": "completed"
    },
    "tags": []
   },
   "source": [
    "Setup the labels as 1 (when the digit is 3) and 0 (when the digit is 8)"
   ]
  },
  {
   "cell_type": "code",
   "execution_count": 11,
   "metadata": {
    "execution": {
     "iopub.execute_input": "2020-09-20T00:07:13.685893Z",
     "iopub.status.busy": "2020-09-20T00:07:13.685225Z",
     "iopub.status.idle": "2020-09-20T00:07:13.698659Z",
     "shell.execute_reply": "2020-09-20T00:07:13.699440Z"
    },
    "papermill": {
     "duration": 0.050638,
     "end_time": "2020-09-20T00:07:13.699612",
     "exception": false,
     "start_time": "2020-09-20T00:07:13.648974",
     "status": "completed"
    },
    "tags": []
   },
   "outputs": [],
   "source": [
    "y_train = 1*(y_train==3)\n",
    "y_test = 1*(y_test==3)"
   ]
  },
  {
   "cell_type": "code",
   "execution_count": 12,
   "metadata": {
    "execution": {
     "iopub.execute_input": "2020-09-20T00:07:13.769321Z",
     "iopub.status.busy": "2020-09-20T00:07:13.768641Z",
     "iopub.status.idle": "2020-09-20T00:07:13.784715Z",
     "shell.execute_reply": "2020-09-20T00:07:13.784151Z"
    },
    "papermill": {
     "duration": 0.052129,
     "end_time": "2020-09-20T00:07:13.784851",
     "exception": false,
     "start_time": "2020-09-20T00:07:13.732722",
     "status": "completed"
    },
    "tags": []
   },
   "outputs": [
    {
     "data": {
      "text/plain": [
       "((11982, 28, 28), (1984, 28, 28))"
      ]
     },
     "execution_count": 12,
     "metadata": {},
     "output_type": "execute_result"
    }
   ],
   "source": [
    "X_train.shape, X_test.shape"
   ]
  },
  {
   "cell_type": "markdown",
   "metadata": {
    "papermill": {
     "duration": 0.03292,
     "end_time": "2020-09-20T00:07:13.850070",
     "exception": false,
     "start_time": "2020-09-20T00:07:13.817150",
     "status": "completed"
    },
    "tags": []
   },
   "source": [
    "### Reshape the input data to create a linear array"
   ]
  },
  {
   "cell_type": "code",
   "execution_count": 13,
   "metadata": {
    "execution": {
     "iopub.execute_input": "2020-09-20T00:07:14.067968Z",
     "iopub.status.busy": "2020-09-20T00:07:14.067279Z",
     "iopub.status.idle": "2020-09-20T00:07:14.083667Z",
     "shell.execute_reply": "2020-09-20T00:07:14.084235Z"
    },
    "papermill": {
     "duration": 0.054998,
     "end_time": "2020-09-20T00:07:14.084391",
     "exception": false,
     "start_time": "2020-09-20T00:07:14.029393",
     "status": "completed"
    },
    "tags": []
   },
   "outputs": [
    {
     "data": {
      "text/plain": [
       "((11982, 784), (1984, 784))"
      ]
     },
     "execution_count": 13,
     "metadata": {},
     "output_type": "execute_result"
    }
   ],
   "source": [
    "X_train = X_train.reshape(X_train.shape[0], -1)\n",
    "X_test = X_test.reshape(X_test.shape[0], -1)\n",
    "X_train.shape, X_test.shape"
   ]
  },
  {
   "cell_type": "markdown",
   "metadata": {
    "papermill": {
     "duration": 0.033269,
     "end_time": "2020-09-20T00:07:14.150342",
     "exception": false,
     "start_time": "2020-09-20T00:07:14.117073",
     "status": "completed"
    },
    "tags": []
   },
   "source": [
    "### Importing appropriate functions from 'Kudzu'"
   ]
  },
  {
   "cell_type": "code",
   "execution_count": 14,
   "metadata": {
    "execution": {
     "iopub.execute_input": "2020-09-20T00:07:14.223558Z",
     "iopub.status.busy": "2020-09-20T00:07:14.222740Z",
     "iopub.status.idle": "2020-09-20T00:07:14.244684Z",
     "shell.execute_reply": "2020-09-20T00:07:14.244073Z"
    },
    "papermill": {
     "duration": 0.060589,
     "end_time": "2020-09-20T00:07:14.244830",
     "exception": false,
     "start_time": "2020-09-20T00:07:14.184241",
     "status": "completed"
    },
    "tags": []
   },
   "outputs": [],
   "source": [
    "from kudzu.layer import Sigmoid\n",
    "from kudzu.layer import Relu\n",
    "from kudzu.layer import Affine, Sigmoid\n",
    "\n",
    "from kudzu.model import Model\n",
    "from kudzu.train import Learner\n",
    "from kudzu.optim import GD\n",
    "from kudzu.data import Data, Dataloader, Sampler\n",
    "\n",
    "from kudzu.callbacks import AccCallback\n",
    "from kudzu.callbacks import ClfCallback\n",
    "\n",
    "from kudzu.loss import MSE"
   ]
  },
  {
   "cell_type": "markdown",
   "metadata": {
    "papermill": {
     "duration": 0.031867,
     "end_time": "2020-09-20T00:07:14.309454",
     "exception": false,
     "start_time": "2020-09-20T00:07:14.277587",
     "status": "completed"
    },
    "tags": []
   },
   "source": [
    "### Let us create a `Config` class, to store important parameters. \n",
    "This class essentially plays the role of a dictionary."
   ]
  },
  {
   "cell_type": "code",
   "execution_count": 15,
   "metadata": {
    "execution": {
     "iopub.execute_input": "2020-09-20T00:07:14.378486Z",
     "iopub.status.busy": "2020-09-20T00:07:14.377830Z",
     "iopub.status.idle": "2020-09-20T00:07:14.391827Z",
     "shell.execute_reply": "2020-09-20T00:07:14.392462Z"
    },
    "papermill": {
     "duration": 0.050773,
     "end_time": "2020-09-20T00:07:14.392666",
     "exception": false,
     "start_time": "2020-09-20T00:07:14.341893",
     "status": "completed"
    },
    "tags": []
   },
   "outputs": [],
   "source": [
    "class Config:\n",
    "    pass\n",
    "config = Config()\n",
    "config.lr = 0.001\n",
    "config.num_epochs = 251\n",
    "config.bs = 50"
   ]
  },
  {
   "cell_type": "markdown",
   "metadata": {
    "papermill": {
     "duration": 0.037065,
     "end_time": "2020-09-20T00:07:14.466823",
     "exception": false,
     "start_time": "2020-09-20T00:07:14.429758",
     "status": "completed"
    },
    "tags": []
   },
   "source": [
    "### Initializing data to the variables"
   ]
  },
  {
   "cell_type": "code",
   "execution_count": 16,
   "metadata": {
    "execution": {
     "iopub.execute_input": "2020-09-20T00:07:14.552322Z",
     "iopub.status.busy": "2020-09-20T00:07:14.551582Z",
     "iopub.status.idle": "2020-09-20T00:07:14.563995Z",
     "shell.execute_reply": "2020-09-20T00:07:14.564602Z"
    },
    "papermill": {
     "duration": 0.059695,
     "end_time": "2020-09-20T00:07:14.564851",
     "exception": false,
     "start_time": "2020-09-20T00:07:14.505156",
     "status": "completed"
    },
    "tags": []
   },
   "outputs": [],
   "source": [
    "data = Data(X_train, y_train.reshape(-1,1))\n",
    "sampler = Sampler(data, config.bs, shuffle=True)\n",
    "\n",
    "dl = Dataloader(data, sampler)\n",
    "\n",
    "opt = GD(config.lr)\n",
    "loss = MSE()"
   ]
  },
  {
   "cell_type": "code",
   "execution_count": 17,
   "metadata": {
    "execution": {
     "iopub.execute_input": "2020-09-20T00:07:14.646314Z",
     "iopub.status.busy": "2020-09-20T00:07:14.645585Z",
     "iopub.status.idle": "2020-09-20T00:07:14.659044Z",
     "shell.execute_reply": "2020-09-20T00:07:14.659744Z"
    },
    "papermill": {
     "duration": 0.057787,
     "end_time": "2020-09-20T00:07:14.659919",
     "exception": false,
     "start_time": "2020-09-20T00:07:14.602132",
     "status": "completed"
    },
    "tags": []
   },
   "outputs": [],
   "source": [
    "training_xdata = X_train\n",
    "testing_xdata = X_test\n",
    "training_ydata = y_train.reshape(-1,1)\n",
    "testing_ydata = y_test.reshape(-1,1)"
   ]
  },
  {
   "cell_type": "markdown",
   "metadata": {
    "papermill": {
     "duration": 0.037234,
     "end_time": "2020-09-20T00:07:14.735034",
     "exception": false,
     "start_time": "2020-09-20T00:07:14.697800",
     "status": "completed"
    },
    "tags": []
   },
   "source": [
    "### Running Models with the Training data\n",
    "Details about the network layers:\n",
    "- A first affine layer has 784 inputs and does 100 affine transforms. These are followed by a Relu\n",
    "- A second affine layer has 100 inputs from the 100 activations of the past layer, and does 100 affine transforms. These are followed by a Relu\n",
    "- A third affine layer has 100 activations and does 2 affine transformations to create an embedding for visualization. There is no non-linearity here.\n",
    "- A final \"logistic regression\" which has an affine transform from 2 inputs to 1 output, which is squeezed through a sigmoid.\n",
    "\n",
    "Help taken from Anshuman's Notebook."
   ]
  },
  {
   "cell_type": "code",
   "execution_count": 18,
   "metadata": {
    "execution": {
     "iopub.execute_input": "2020-09-20T00:07:14.808616Z",
     "iopub.status.busy": "2020-09-20T00:07:14.807822Z",
     "iopub.status.idle": "2020-09-20T00:07:14.828584Z",
     "shell.execute_reply": "2020-09-20T00:07:14.828030Z"
    },
    "papermill": {
     "duration": 0.05799,
     "end_time": "2020-09-20T00:07:14.828709",
     "exception": false,
     "start_time": "2020-09-20T00:07:14.770719",
     "status": "completed"
    },
    "tags": []
   },
   "outputs": [],
   "source": [
    "# layers for the Neural Network\n",
    "layers = [Affine(\"first\", 784, 100), Relu(\"first\"), Affine(\"second\", 100, 100), Relu(\"second\"), Affine(\"third\", 100, 2), Affine(\"final\", 2, 1), Sigmoid(\"final\")]\n",
    "model_nn = Model(layers)\n",
    "\n",
    "# layers for the Logistic Regression\n",
    "layers_lr = [Affine(\"logits\", 784, 1), Sigmoid(\"sigmoid\")]\n",
    "model_lr = Model(layers_lr)"
   ]
  },
  {
   "cell_type": "code",
   "execution_count": 19,
   "metadata": {
    "execution": {
     "iopub.execute_input": "2020-09-20T00:07:14.901885Z",
     "iopub.status.busy": "2020-09-20T00:07:14.901074Z",
     "iopub.status.idle": "2020-09-20T00:07:14.913450Z",
     "shell.execute_reply": "2020-09-20T00:07:14.914007Z"
    },
    "papermill": {
     "duration": 0.052996,
     "end_time": "2020-09-20T00:07:14.914160",
     "exception": false,
     "start_time": "2020-09-20T00:07:14.861164",
     "status": "completed"
    },
    "tags": []
   },
   "outputs": [],
   "source": [
    "# suffix _nn stands for Neural Network.\n",
    "learner_nn = Learner(loss, model_nn, opt, config.num_epochs)\n",
    "acc_nn = ClfCallback(learner_nn, config.bs, training_xdata , testing_xdata, training_ydata, testing_ydata)\n",
    "learner_nn.set_callbacks([acc_nn])"
   ]
  },
  {
   "cell_type": "code",
   "execution_count": 20,
   "metadata": {
    "execution": {
     "iopub.execute_input": "2020-09-20T00:07:14.984378Z",
     "iopub.status.busy": "2020-09-20T00:07:14.983682Z",
     "iopub.status.idle": "2020-09-20T00:09:26.146024Z",
     "shell.execute_reply": "2020-09-20T00:09:26.145429Z"
    },
    "papermill": {
     "duration": 131.198276,
     "end_time": "2020-09-20T00:09:26.146185",
     "exception": false,
     "start_time": "2020-09-20T00:07:14.947909",
     "status": "completed"
    },
    "tags": []
   },
   "outputs": [
    {
     "name": "stdout",
     "output_type": "stream",
     "text": [
      "====== Neural Network ======\n"
     ]
    },
    {
     "name": "stdout",
     "output_type": "stream",
     "text": [
      "Epoch 0, Loss 0.2384\n",
      "Training Accuracy: 0.6809, Testing Accuracy: 0.6658\n",
      "\n"
     ]
    },
    {
     "name": "stdout",
     "output_type": "stream",
     "text": [
      "Epoch 10, Loss 0.0803\n",
      "Training Accuracy: 0.9228, Testing Accuracy: 0.9269\n",
      "\n"
     ]
    },
    {
     "name": "stdout",
     "output_type": "stream",
     "text": [
      "Epoch 20, Loss 0.0519\n",
      "Training Accuracy: 0.9462, Testing Accuracy: 0.9516\n",
      "\n"
     ]
    },
    {
     "name": "stdout",
     "output_type": "stream",
     "text": [
      "Epoch 30, Loss 0.0419\n",
      "Training Accuracy: 0.9546, Testing Accuracy: 0.9607\n",
      "\n"
     ]
    },
    {
     "name": "stdout",
     "output_type": "stream",
     "text": [
      "Epoch 40, Loss 0.0369\n",
      "Training Accuracy: 0.9589, Testing Accuracy: 0.9632\n",
      "\n"
     ]
    },
    {
     "name": "stdout",
     "output_type": "stream",
     "text": [
      "Epoch 50, Loss 0.0338\n",
      "Training Accuracy: 0.9614, Testing Accuracy: 0.9647\n",
      "\n"
     ]
    },
    {
     "name": "stdout",
     "output_type": "stream",
     "text": [
      "Epoch 60, Loss 0.0317\n",
      "Training Accuracy: 0.9634, Testing Accuracy: 0.9652\n",
      "\n"
     ]
    },
    {
     "name": "stdout",
     "output_type": "stream",
     "text": [
      "Epoch 70, Loss 0.03\n",
      "Training Accuracy: 0.9654, Testing Accuracy: 0.9677\n",
      "\n"
     ]
    },
    {
     "name": "stdout",
     "output_type": "stream",
     "text": [
      "Epoch 80, Loss 0.0287\n",
      "Training Accuracy: 0.9666, Testing Accuracy: 0.9677\n",
      "\n"
     ]
    },
    {
     "name": "stdout",
     "output_type": "stream",
     "text": [
      "Epoch 90, Loss 0.0276\n",
      "Training Accuracy: 0.9681, Testing Accuracy: 0.9688\n",
      "\n"
     ]
    },
    {
     "name": "stdout",
     "output_type": "stream",
     "text": [
      "Epoch 100, Loss 0.0267\n",
      "Training Accuracy: 0.9686, Testing Accuracy: 0.9713\n",
      "\n"
     ]
    },
    {
     "name": "stdout",
     "output_type": "stream",
     "text": [
      "Epoch 110, Loss 0.0258\n",
      "Training Accuracy: 0.9700, Testing Accuracy: 0.9738\n",
      "\n"
     ]
    },
    {
     "name": "stdout",
     "output_type": "stream",
     "text": [
      "Epoch 120, Loss 0.0251\n",
      "Training Accuracy: 0.9704, Testing Accuracy: 0.9733\n",
      "\n"
     ]
    },
    {
     "name": "stdout",
     "output_type": "stream",
     "text": [
      "Epoch 130, Loss 0.0244\n",
      "Training Accuracy: 0.9711, Testing Accuracy: 0.9733\n",
      "\n"
     ]
    },
    {
     "name": "stdout",
     "output_type": "stream",
     "text": [
      "Epoch 140, Loss 0.0238\n",
      "Training Accuracy: 0.9719, Testing Accuracy: 0.9728\n",
      "\n"
     ]
    },
    {
     "name": "stdout",
     "output_type": "stream",
     "text": [
      "Epoch 150, Loss 0.0232\n",
      "Training Accuracy: 0.9722, Testing Accuracy: 0.9733\n",
      "\n"
     ]
    },
    {
     "name": "stdout",
     "output_type": "stream",
     "text": [
      "Epoch 160, Loss 0.0226\n",
      "Training Accuracy: 0.9733, Testing Accuracy: 0.9748\n",
      "\n"
     ]
    },
    {
     "name": "stdout",
     "output_type": "stream",
     "text": [
      "Epoch 170, Loss 0.0221\n",
      "Training Accuracy: 0.9739, Testing Accuracy: 0.9748\n",
      "\n"
     ]
    },
    {
     "name": "stdout",
     "output_type": "stream",
     "text": [
      "Epoch 180, Loss 0.0216\n",
      "Training Accuracy: 0.9747, Testing Accuracy: 0.9743\n",
      "\n"
     ]
    },
    {
     "name": "stdout",
     "output_type": "stream",
     "text": [
      "Epoch 190, Loss 0.0212\n",
      "Training Accuracy: 0.9754, Testing Accuracy: 0.9748\n",
      "\n"
     ]
    },
    {
     "name": "stdout",
     "output_type": "stream",
     "text": [
      "Epoch 200, Loss 0.0207\n",
      "Training Accuracy: 0.9762, Testing Accuracy: 0.9743\n",
      "\n"
     ]
    },
    {
     "name": "stdout",
     "output_type": "stream",
     "text": [
      "Epoch 210, Loss 0.0203\n",
      "Training Accuracy: 0.9767, Testing Accuracy: 0.9748\n",
      "\n"
     ]
    },
    {
     "name": "stdout",
     "output_type": "stream",
     "text": [
      "Epoch 220, Loss 0.0199\n",
      "Training Accuracy: 0.9775, Testing Accuracy: 0.9743\n",
      "\n"
     ]
    },
    {
     "name": "stdout",
     "output_type": "stream",
     "text": [
      "Epoch 230, Loss 0.0195\n",
      "Training Accuracy: 0.9779, Testing Accuracy: 0.9748\n",
      "\n"
     ]
    },
    {
     "name": "stdout",
     "output_type": "stream",
     "text": [
      "Epoch 240, Loss 0.0191\n",
      "Training Accuracy: 0.9783, Testing Accuracy: 0.9753\n",
      "\n"
     ]
    },
    {
     "name": "stdout",
     "output_type": "stream",
     "text": [
      "Epoch 250, Loss 0.0187\n",
      "Training Accuracy: 0.9786, Testing Accuracy: 0.9758\n",
      "\n"
     ]
    },
    {
     "data": {
      "text/plain": [
       "0.024599019469870288"
      ]
     },
     "execution_count": 20,
     "metadata": {},
     "output_type": "execute_result"
    }
   ],
   "source": [
    "print(\"====== Neural Network ======\")\n",
    "learner_nn.train_loop(dl)"
   ]
  },
  {
   "cell_type": "markdown",
   "metadata": {
    "papermill": {
     "duration": 0.045702,
     "end_time": "2020-09-20T00:09:26.238730",
     "exception": false,
     "start_time": "2020-09-20T00:09:26.193028",
     "status": "completed"
    },
    "tags": []
   },
   "source": [
    "### Logistic Regression based Implementation."
   ]
  },
  {
   "cell_type": "code",
   "execution_count": 21,
   "metadata": {
    "execution": {
     "iopub.execute_input": "2020-09-20T00:09:26.338468Z",
     "iopub.status.busy": "2020-09-20T00:09:26.337628Z",
     "iopub.status.idle": "2020-09-20T00:09:26.352153Z",
     "shell.execute_reply": "2020-09-20T00:09:26.351537Z"
    },
    "papermill": {
     "duration": 0.067451,
     "end_time": "2020-09-20T00:09:26.352313",
     "exception": false,
     "start_time": "2020-09-20T00:09:26.284862",
     "status": "completed"
    },
    "tags": []
   },
   "outputs": [],
   "source": [
    "learner_lr = Learner(loss, model_lr, opt, config.num_epochs)\n",
    "acc_lr = ClfCallback(learner_lr, config.bs, training_xdata , testing_xdata, training_ydata, testing_ydata)\n",
    "learner_lr.set_callbacks([acc_lr])"
   ]
  },
  {
   "cell_type": "code",
   "execution_count": 22,
   "metadata": {
    "execution": {
     "iopub.execute_input": "2020-09-20T00:09:26.459779Z",
     "iopub.status.busy": "2020-09-20T00:09:26.454226Z",
     "iopub.status.idle": "2020-09-20T00:09:45.633247Z",
     "shell.execute_reply": "2020-09-20T00:09:45.634075Z"
    },
    "papermill": {
     "duration": 19.23577,
     "end_time": "2020-09-20T00:09:45.634245",
     "exception": false,
     "start_time": "2020-09-20T00:09:26.398475",
     "status": "completed"
    },
    "tags": []
   },
   "outputs": [
    {
     "name": "stdout",
     "output_type": "stream",
     "text": [
      "====== Logistic Regression ======\n",
      "Epoch 0, Loss 0.2405\n",
      "Training Accuracy: 0.6703, Testing Accuracy: 0.6875\n",
      "\n"
     ]
    },
    {
     "name": "stdout",
     "output_type": "stream",
     "text": [
      "Epoch 10, Loss 0.1055\n",
      "Training Accuracy: 0.8999, Testing Accuracy: 0.9133\n",
      "\n"
     ]
    },
    {
     "name": "stdout",
     "output_type": "stream",
     "text": [
      "Epoch 20, Loss 0.0804\n",
      "Training Accuracy: 0.9246, Testing Accuracy: 0.9375\n",
      "\n"
     ]
    },
    {
     "name": "stdout",
     "output_type": "stream",
     "text": [
      "Epoch 30, Loss 0.069\n",
      "Training Accuracy: 0.9337, Testing Accuracy: 0.9461\n",
      "\n"
     ]
    },
    {
     "name": "stdout",
     "output_type": "stream",
     "text": [
      "Epoch 40, Loss 0.0622\n",
      "Training Accuracy: 0.9397, Testing Accuracy: 0.9521\n",
      "\n"
     ]
    },
    {
     "name": "stdout",
     "output_type": "stream",
     "text": [
      "Epoch 50, Loss 0.0576\n",
      "Training Accuracy: 0.9431, Testing Accuracy: 0.9577\n",
      "\n"
     ]
    },
    {
     "name": "stdout",
     "output_type": "stream",
     "text": [
      "Epoch 60, Loss 0.0543\n",
      "Training Accuracy: 0.9458, Testing Accuracy: 0.9602\n",
      "\n"
     ]
    },
    {
     "name": "stdout",
     "output_type": "stream",
     "text": [
      "Epoch 70, Loss 0.0517\n",
      "Training Accuracy: 0.9478, Testing Accuracy: 0.9592\n",
      "\n"
     ]
    },
    {
     "name": "stdout",
     "output_type": "stream",
     "text": [
      "Epoch 80, Loss 0.0496\n",
      "Training Accuracy: 0.9495, Testing Accuracy: 0.9597\n",
      "\n"
     ]
    },
    {
     "name": "stdout",
     "output_type": "stream",
     "text": [
      "Epoch 90, Loss 0.0478\n",
      "Training Accuracy: 0.9511, Testing Accuracy: 0.9607\n",
      "\n"
     ]
    },
    {
     "name": "stdout",
     "output_type": "stream",
     "text": [
      "Epoch 100, Loss 0.0464\n",
      "Training Accuracy: 0.9527, Testing Accuracy: 0.9617\n",
      "\n"
     ]
    },
    {
     "name": "stdout",
     "output_type": "stream",
     "text": [
      "Epoch 110, Loss 0.0452\n",
      "Training Accuracy: 0.9542, Testing Accuracy: 0.9617\n",
      "\n"
     ]
    },
    {
     "name": "stdout",
     "output_type": "stream",
     "text": [
      "Epoch 120, Loss 0.0441\n",
      "Training Accuracy: 0.9553, Testing Accuracy: 0.9627\n",
      "\n"
     ]
    },
    {
     "name": "stdout",
     "output_type": "stream",
     "text": [
      "Epoch 130, Loss 0.0431\n",
      "Training Accuracy: 0.9562, Testing Accuracy: 0.9632\n",
      "\n"
     ]
    },
    {
     "name": "stdout",
     "output_type": "stream",
     "text": [
      "Epoch 140, Loss 0.0423\n",
      "Training Accuracy: 0.9568, Testing Accuracy: 0.9652\n",
      "\n"
     ]
    },
    {
     "name": "stdout",
     "output_type": "stream",
     "text": [
      "Epoch 150, Loss 0.0415\n",
      "Training Accuracy: 0.9572, Testing Accuracy: 0.9657\n",
      "\n"
     ]
    },
    {
     "name": "stdout",
     "output_type": "stream",
     "text": [
      "Epoch 160, Loss 0.0408\n",
      "Training Accuracy: 0.9576, Testing Accuracy: 0.9672\n",
      "\n"
     ]
    },
    {
     "name": "stdout",
     "output_type": "stream",
     "text": [
      "Epoch 170, Loss 0.0402\n",
      "Training Accuracy: 0.9580, Testing Accuracy: 0.9677\n",
      "\n"
     ]
    },
    {
     "name": "stdout",
     "output_type": "stream",
     "text": [
      "Epoch 180, Loss 0.0397\n",
      "Training Accuracy: 0.9584, Testing Accuracy: 0.9677\n",
      "\n"
     ]
    },
    {
     "name": "stdout",
     "output_type": "stream",
     "text": [
      "Epoch 190, Loss 0.0391\n",
      "Training Accuracy: 0.9586, Testing Accuracy: 0.9672\n",
      "\n"
     ]
    },
    {
     "name": "stdout",
     "output_type": "stream",
     "text": [
      "Epoch 200, Loss 0.0386\n",
      "Training Accuracy: 0.9589, Testing Accuracy: 0.9682\n",
      "\n"
     ]
    },
    {
     "name": "stdout",
     "output_type": "stream",
     "text": [
      "Epoch 210, Loss 0.0382\n",
      "Training Accuracy: 0.9594, Testing Accuracy: 0.9682\n",
      "\n"
     ]
    },
    {
     "name": "stdout",
     "output_type": "stream",
     "text": [
      "Epoch 220, Loss 0.0378\n",
      "Training Accuracy: 0.9595, Testing Accuracy: 0.9682\n",
      "\n"
     ]
    },
    {
     "name": "stdout",
     "output_type": "stream",
     "text": [
      "Epoch 230, Loss 0.0374\n",
      "Training Accuracy: 0.9599, Testing Accuracy: 0.9682\n",
      "\n"
     ]
    },
    {
     "name": "stdout",
     "output_type": "stream",
     "text": [
      "Epoch 240, Loss 0.037\n",
      "Training Accuracy: 0.9605, Testing Accuracy: 0.9677\n",
      "\n"
     ]
    },
    {
     "name": "stdout",
     "output_type": "stream",
     "text": [
      "Epoch 250, Loss 0.0367\n",
      "Training Accuracy: 0.9609, Testing Accuracy: 0.9677\n",
      "\n"
     ]
    },
    {
     "data": {
      "text/plain": [
       "0.01948136466138031"
      ]
     },
     "execution_count": 22,
     "metadata": {},
     "output_type": "execute_result"
    }
   ],
   "source": [
    "print(\"====== Logistic Regression ======\")\n",
    "learner_lr.train_loop(dl)"
   ]
  },
  {
   "cell_type": "markdown",
   "metadata": {
    "papermill": {
     "duration": 0.05178,
     "end_time": "2020-09-20T00:09:45.736650",
     "exception": false,
     "start_time": "2020-09-20T00:09:45.684870",
     "status": "completed"
    },
    "tags": []
   },
   "source": [
    "### Comparing results of NN and LR"
   ]
  },
  {
   "cell_type": "code",
   "execution_count": 23,
   "metadata": {
    "execution": {
     "iopub.execute_input": "2020-09-20T00:09:45.844113Z",
     "iopub.status.busy": "2020-09-20T00:09:45.843412Z",
     "iopub.status.idle": "2020-09-20T00:09:46.126125Z",
     "shell.execute_reply": "2020-09-20T00:09:46.126697Z"
    },
    "papermill": {
     "duration": 0.339981,
     "end_time": "2020-09-20T00:09:46.126879",
     "exception": false,
     "start_time": "2020-09-20T00:09:45.786898",
     "status": "completed"
    },
    "tags": []
   },
   "outputs": [
    {
     "data": {
      "text/plain": [
       "<matplotlib.legend.Legend at 0x7fa22b9612b0>"
      ]
     },
     "execution_count": 23,
     "metadata": {},
     "output_type": "execute_result"
    },
    {
     "data": {
      "image/png": "[encoded data removed]",
      "text/plain": [
       "<Figure size 1080x720 with 1 Axes>"
      ]
     },
     "metadata": {
      "needs_background": "light"
     },
     "output_type": "display_data"
    }
   ],
   "source": [
    "plt.figure(figsize=(15,10))\n",
    "\n",
    "# Neural Network plots\n",
    "plt.plot(acc_nn.accuracies, 'r-', label = \"Training Accuracies - NN\")\n",
    "plt.plot(acc_nn.test_accuracies, 'g-', label = \"Testing Accuracies - NN\")\n",
    "\n",
    "# Logistic Regression plots\n",
    "plt.plot(acc_lr.accuracies, 'k-', label = \"Training Accuracies - LR\")\n",
    "plt.plot(acc_lr.test_accuracies, 'b-', label = \"Testing Accuracies - LR\")\n",
    "\n",
    "plt.ylim(0.8, 1)\n",
    "\n",
    "plt.legend()\n",
    "\n"
   ]
  },
  {
   "cell_type": "markdown",
   "metadata": {
    "papermill": {
     "duration": 0.051888,
     "end_time": "2020-09-20T00:09:46.240550",
     "exception": false,
     "start_time": "2020-09-20T00:09:46.188662",
     "status": "completed"
    },
    "tags": []
   },
   "source": [
    "### From the plot, we can observe the following:\n",
    "- Neural Network achieves higher accuracy than the Logistic Regression model.\n",
    "- This apparently, is because of overfitting, i.e. NN captures more noise than data.\n",
    "- Testing accuracy of NN drops below the Training accuracy at higher epochs. This explains the over-fitting on training data.\n",
    "- Logistic Regression gives a reliable accuracy, without the above mentioned problem.\n"
   ]
  },
  {
   "cell_type": "markdown",
   "metadata": {
    "papermill": {
     "duration": 0.052367,
     "end_time": "2020-09-20T00:09:46.345427",
     "exception": false,
     "start_time": "2020-09-20T00:09:46.293060",
     "status": "completed"
    },
    "tags": []
   },
   "source": [
    "### Moving till the last but one layer (excluding it).\n",
    "#### Plotting the outputs of this layer of the NN."
   ]
  },
  {
   "cell_type": "code",
   "execution_count": 24,
   "metadata": {
    "execution": {
     "iopub.execute_input": "2020-09-20T00:09:46.457717Z",
     "iopub.status.busy": "2020-09-20T00:09:46.457028Z",
     "iopub.status.idle": "2020-09-20T00:09:46.470412Z",
     "shell.execute_reply": "2020-09-20T00:09:46.470976Z"
    },
    "papermill": {
     "duration": 0.072265,
     "end_time": "2020-09-20T00:09:46.471143",
     "exception": false,
     "start_time": "2020-09-20T00:09:46.398878",
     "status": "completed"
    },
    "tags": []
   },
   "outputs": [],
   "source": [
    "model_new = Model(layers[:-2])"
   ]
  },
  {
   "cell_type": "code",
   "execution_count": 25,
   "metadata": {
    "execution": {
     "iopub.execute_input": "2020-09-20T00:09:46.588201Z",
     "iopub.status.busy": "2020-09-20T00:09:46.587530Z",
     "iopub.status.idle": "2020-09-20T00:09:46.612520Z",
     "shell.execute_reply": "2020-09-20T00:09:46.613044Z"
    },
    "papermill": {
     "duration": 0.08727,
     "end_time": "2020-09-20T00:09:46.613247",
     "exception": false,
     "start_time": "2020-09-20T00:09:46.525977",
     "status": "completed"
    },
    "tags": []
   },
   "outputs": [],
   "source": [
    "plot_testing = model_new(testing_xdata)"
   ]
  },
  {
   "cell_type": "code",
   "execution_count": 26,
   "metadata": {
    "execution": {
     "iopub.execute_input": "2020-09-20T00:09:46.727716Z",
     "iopub.status.busy": "2020-09-20T00:09:46.726989Z",
     "iopub.status.idle": "2020-09-20T00:09:46.955791Z",
     "shell.execute_reply": "2020-09-20T00:09:46.956325Z"
    },
    "papermill": {
     "duration": 0.289681,
     "end_time": "2020-09-20T00:09:46.956492",
     "exception": false,
     "start_time": "2020-09-20T00:09:46.666811",
     "status": "completed"
    },
    "tags": []
   },
   "outputs": [
    {
     "data": {
      "text/plain": [
       "Text(0.5, 1.0, 'Outputs')"
      ]
     },
     "execution_count": 26,
     "metadata": {},
     "output_type": "execute_result"
    },
    {
     "data": {
      "image/png": "[encoded data removed]",
      "text/plain": [
       "<Figure size 576x504 with 1 Axes>"
      ]
     },
     "metadata": {
      "needs_background": "light"
     },
     "output_type": "display_data"
    }
   ],
   "source": [
    "plt.figure(figsize=(8,7))\n",
    "plt.scatter(plot_testing[:,0], plot_testing[:,1], alpha = 0.1, c = y_test.ravel());\n",
    "plt.title('Outputs')"
   ]
  },
  {
   "cell_type": "markdown",
   "metadata": {
    "papermill": {
     "duration": 0.054384,
     "end_time": "2020-09-20T00:09:47.068803",
     "exception": false,
     "start_time": "2020-09-20T00:09:47.014419",
     "status": "completed"
    },
    "tags": []
   },
   "source": [
    "### Plotting probability contours"
   ]
  },
  {
   "cell_type": "code",
   "execution_count": 27,
   "metadata": {
    "execution": {
     "iopub.execute_input": "2020-09-20T00:09:47.182887Z",
     "iopub.status.busy": "2020-09-20T00:09:47.182216Z",
     "iopub.status.idle": "2020-09-20T00:09:47.196082Z",
     "shell.execute_reply": "2020-09-20T00:09:47.196709Z"
    },
    "papermill": {
     "duration": 0.072892,
     "end_time": "2020-09-20T00:09:47.196877",
     "exception": false,
     "start_time": "2020-09-20T00:09:47.123985",
     "status": "completed"
    },
    "tags": []
   },
   "outputs": [],
   "source": [
    "model_prob = Model(layers[-2:]) "
   ]
  },
  {
   "cell_type": "code",
   "execution_count": 28,
   "metadata": {
    "execution": {
     "iopub.execute_input": "2020-09-20T00:09:47.315413Z",
     "iopub.status.busy": "2020-09-20T00:09:47.314706Z",
     "iopub.status.idle": "2020-09-20T00:09:47.327477Z",
     "shell.execute_reply": "2020-09-20T00:09:47.328024Z"
    },
    "papermill": {
     "duration": 0.076968,
     "end_time": "2020-09-20T00:09:47.328194",
     "exception": false,
     "start_time": "2020-09-20T00:09:47.251226",
     "status": "completed"
    },
    "tags": []
   },
   "outputs": [],
   "source": [
    "# Adjust the x and y ranges according to the above generated plot.\n",
    "x_range = np.linspace(-4, 1, 100) \n",
    "y_range = np.linspace(-6, 6, 100) \n",
    "x_grid, y_grid = np.meshgrid(x_range, y_range) # x_grid and y_grig are of size 100 X 100\n",
    "\n",
    "# converting x_grid and y_grid to continuous arrays\n",
    "x_grid_flat = np.ravel(x_grid)\n",
    "y_grid_flat = np.ravel(y_grid)\n",
    "\n",
    "# The last layer of the current model takes two columns as input. Hence transpose of np.vstack() is required.\n",
    "X = np.vstack((x_grid_flat, y_grid_flat)).T\n",
    "\n",
    "# x_grid and y_grid are of size 100 x 100\n",
    "probability_contour = model_prob(X).reshape(100,100) "
   ]
  },
  {
   "cell_type": "code",
   "execution_count": 29,
   "metadata": {
    "execution": {
     "iopub.execute_input": "2020-09-20T00:09:47.452368Z",
     "iopub.status.busy": "2020-09-20T00:09:47.451703Z",
     "iopub.status.idle": "2020-09-20T00:09:47.735426Z",
     "shell.execute_reply": "2020-09-20T00:09:47.734395Z"
    },
    "papermill": {
     "duration": 0.351963,
     "end_time": "2020-09-20T00:09:47.735598",
     "exception": false,
     "start_time": "2020-09-20T00:09:47.383635",
     "status": "completed"
    },
    "tags": []
   },
   "outputs": [
    {
     "data": {
      "image/png": "[encoded data removed]",
      "text/plain": [
       "<Figure size 720x648 with 1 Axes>"
      ]
     },
     "metadata": {
      "needs_background": "light"
     },
     "output_type": "display_data"
    }
   ],
   "source": [
    "plt.figure(figsize=(10,9))\n",
    "plt.scatter(plot_testing[:,0], plot_testing[:,1], alpha = 0.1, c = y_test.ravel())\n",
    "contours = plt.contour(x_grid,y_grid,probability_contour)\n",
    "plt.title('Probability Contours')\n",
    "plt.clabel(contours, inline = True );"
   ]
  }
 ],
 "metadata": {
  "kernelspec": {
   "display_name": "Python 3",
   "language": "python",
   "name": "python3"
  },
  "language_info": {
   "codemirror_mode": {
    "name": "ipython",
    "version": 3
   },
   "file_extension": ".py",
   "mimetype": "text/x-python",
   "name": "python",
   "nbconvert_exporter": "python",
   "pygments_lexer": "ipython3",
   "version": "3.6.12"
  },
  "papermill": {
   "duration": 162.431454,
   "end_time": "2020-09-20T00:09:48.994716",
   "environment_variables": {},
   "exception": null,
   "input_path": "2020-08-11-NeuralNetwork.ipynb",
   "output_path": "2020-08-11-NeuralNetwork.ipynb",
   "parameters": {},
   "start_time": "2020-09-20T00:07:06.563262",
   "version": "2.1.2"
  }
 },
 "nbformat": 4,
 "nbformat_minor": 4
}