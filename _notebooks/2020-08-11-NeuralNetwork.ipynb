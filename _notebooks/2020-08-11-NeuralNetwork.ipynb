{
 "cells": [
  {
   "cell_type": "markdown",
   "metadata": {
    "papermill": {
     "duration": 0.029145,
     "end_time": "2020-11-08T10:04:04.683605",
     "exception": false,
     "start_time": "2020-11-08T10:04:04.654460",
     "status": "completed"
    },
    "tags": []
   },
   "source": [
    "# \"A Basic Neural Network: Differentiate Hand-Written Digits\"\n",
    "\n",
    "- badges: true\n",
    "- author: Akshith Sriram"
   ]
  },
  {
   "cell_type": "markdown",
   "metadata": {
    "papermill": {
     "duration": 0.024124,
     "end_time": "2020-11-08T10:04:04.733109",
     "exception": false,
     "start_time": "2020-11-08T10:04:04.708985",
     "status": "completed"
    },
    "tags": []
   },
   "source": [
    "### Key Objectives:\n",
    "- Building a neural network that differentiates two hand-written digits 3 and 8.\n",
    "- Comparing the results of this Neural Network (NN) to that of a Logistic Regression (LR) model.\n",
    "\n",
    "### Requirements:\n",
    "- 'Kudzu' : A neural network library that was designed during our course by [Univ.AI](www.univ.ai). \n",
    "- MNIST Database\n",
    "\n",
    "If MNIST is not installed, use the command `!pip install mnist` given below.\n",
    "It can be run both from the command line and Jupyter Notebook."
   ]
  },
  {
   "cell_type": "code",
   "execution_count": 1,
   "metadata": {
    "execution": {
     "iopub.execute_input": "2020-11-08T10:04:05.226061Z",
     "iopub.status.busy": "2020-11-08T10:04:05.225439Z",
     "iopub.status.idle": "2020-11-08T10:04:06.703957Z",
     "shell.execute_reply": "2020-11-08T10:04:06.703368Z"
    },
    "papermill": {
     "duration": 1.905216,
     "end_time": "2020-11-08T10:04:06.704131",
     "exception": false,
     "start_time": "2020-11-08T10:04:04.798915",
     "status": "completed"
    },
    "tags": []
   },
   "outputs": [
    {
     "name": "stdout",
     "output_type": "stream",
     "text": [
      "Collecting mnist\r\n"
     ]
    },
    {
     "name": "stdout",
     "output_type": "stream",
     "text": [
      "  Downloading mnist-0.2.2-py2.py3-none-any.whl (3.5 kB)\r\n"
     ]
    },
    {
     "name": "stdout",
     "output_type": "stream",
     "text": [
      "Requirement already satisfied: numpy in /opt/hostedtoolcache/Python/3.6.12/x64/lib/python3.6/site-packages (from mnist) (1.19.4)\r\n"
     ]
    },
    {
     "name": "stdout",
     "output_type": "stream",
     "text": [
      "Installing collected packages: mnist\r\n"
     ]
    },
    {
     "name": "stdout",
     "output_type": "stream",
     "text": [
      "Successfully installed mnist-0.2.2\r\n"
     ]
    }
   ],
   "source": [
    "!pip install mnist "
   ]
  },
  {
   "cell_type": "markdown",
   "metadata": {
    "papermill": {
     "duration": 0.034023,
     "end_time": "2020-11-08T10:04:06.771238",
     "exception": false,
     "start_time": "2020-11-08T10:04:06.737215",
     "status": "completed"
    },
    "tags": []
   },
   "source": [
    "#### Importing necessary libraries"
   ]
  },
  {
   "cell_type": "code",
   "execution_count": 2,
   "metadata": {
    "execution": {
     "iopub.execute_input": "2020-11-08T10:04:06.846829Z",
     "iopub.status.busy": "2020-11-08T10:04:06.846176Z",
     "iopub.status.idle": "2020-11-08T10:04:07.426951Z",
     "shell.execute_reply": "2020-11-08T10:04:07.426310Z"
    },
    "papermill": {
     "duration": 0.621171,
     "end_time": "2020-11-08T10:04:07.427106",
     "exception": false,
     "start_time": "2020-11-08T10:04:06.805935",
     "status": "completed"
    },
    "tags": []
   },
   "outputs": [],
   "source": [
    "%load_ext autoreload\n",
    "%autoreload 2\n",
    "\n",
    "%matplotlib inline\n",
    "import matplotlib.pyplot as plt\n",
    "\n",
    "import numpy as np\n",
    "import pandas as pd"
   ]
  },
  {
   "cell_type": "markdown",
   "metadata": {
    "papermill": {
     "duration": 0.028518,
     "end_time": "2020-11-08T10:04:07.484907",
     "exception": false,
     "start_time": "2020-11-08T10:04:07.456389",
     "status": "completed"
    },
    "tags": []
   },
   "source": [
    "### Preparing the Data"
   ]
  },
  {
   "cell_type": "code",
   "execution_count": 3,
   "metadata": {
    "execution": {
     "iopub.execute_input": "2020-11-08T10:04:07.550874Z",
     "iopub.status.busy": "2020-11-08T10:04:07.550193Z",
     "iopub.status.idle": "2020-11-08T10:04:07.566900Z",
     "shell.execute_reply": "2020-11-08T10:04:07.566322Z"
    },
    "papermill": {
     "duration": 0.055543,
     "end_time": "2020-11-08T10:04:07.567046",
     "exception": false,
     "start_time": "2020-11-08T10:04:07.511503",
     "status": "completed"
    },
    "tags": []
   },
   "outputs": [],
   "source": [
    "import mnist"
   ]
  },
  {
   "cell_type": "code",
   "execution_count": 4,
   "metadata": {
    "execution": {
     "iopub.execute_input": "2020-11-08T10:04:07.625985Z",
     "iopub.status.busy": "2020-11-08T10:04:07.625367Z",
     "iopub.status.idle": "2020-11-08T10:04:08.327981Z",
     "shell.execute_reply": "2020-11-08T10:04:08.326112Z"
    },
    "papermill": {
     "duration": 0.734498,
     "end_time": "2020-11-08T10:04:08.328195",
     "exception": false,
     "start_time": "2020-11-08T10:04:07.593697",
     "status": "completed"
    },
    "tags": []
   },
   "outputs": [],
   "source": [
    "train_images = mnist.train_images()\n",
    "train_labels = mnist.train_labels()"
   ]
  },
  {
   "cell_type": "code",
   "execution_count": 5,
   "metadata": {
    "execution": {
     "iopub.execute_input": "2020-11-08T10:04:08.387474Z",
     "iopub.status.busy": "2020-11-08T10:04:08.385934Z",
     "iopub.status.idle": "2020-11-08T10:04:08.401255Z",
     "shell.execute_reply": "2020-11-08T10:04:08.400717Z"
    },
    "papermill": {
     "duration": 0.045644,
     "end_time": "2020-11-08T10:04:08.401398",
     "exception": false,
     "start_time": "2020-11-08T10:04:08.355754",
     "status": "completed"
    },
    "tags": []
   },
   "outputs": [
    {
     "data": {
      "text/plain": [
       "((60000, 28, 28), (60000,))"
      ]
     },
     "execution_count": 5,
     "metadata": {},
     "output_type": "execute_result"
    }
   ],
   "source": [
    "train_images.shape, train_labels.shape"
   ]
  },
  {
   "cell_type": "code",
   "execution_count": 6,
   "metadata": {
    "execution": {
     "iopub.execute_input": "2020-11-08T10:04:08.458779Z",
     "iopub.status.busy": "2020-11-08T10:04:08.457740Z",
     "iopub.status.idle": "2020-11-08T10:04:08.714886Z",
     "shell.execute_reply": "2020-11-08T10:04:08.713890Z"
    },
    "papermill": {
     "duration": 0.287058,
     "end_time": "2020-11-08T10:04:08.715134",
     "exception": false,
     "start_time": "2020-11-08T10:04:08.428076",
     "status": "completed"
    },
    "tags": []
   },
   "outputs": [],
   "source": [
    "test_images = mnist.test_images()\n",
    "test_labels = mnist.test_labels()"
   ]
  },
  {
   "cell_type": "code",
   "execution_count": 7,
   "metadata": {
    "execution": {
     "iopub.execute_input": "2020-11-08T10:04:08.773976Z",
     "iopub.status.busy": "2020-11-08T10:04:08.773377Z",
     "iopub.status.idle": "2020-11-08T10:04:08.789298Z",
     "shell.execute_reply": "2020-11-08T10:04:08.790044Z"
    },
    "papermill": {
     "duration": 0.047622,
     "end_time": "2020-11-08T10:04:08.790207",
     "exception": false,
     "start_time": "2020-11-08T10:04:08.742585",
     "status": "completed"
    },
    "tags": []
   },
   "outputs": [
    {
     "data": {
      "text/plain": [
       "((10000, 28, 28), (10000,))"
      ]
     },
     "execution_count": 7,
     "metadata": {},
     "output_type": "execute_result"
    }
   ],
   "source": [
    "test_images.shape, test_labels.shape"
   ]
  },
  {
   "cell_type": "code",
   "execution_count": 8,
   "metadata": {
    "execution": {
     "iopub.execute_input": "2020-11-08T10:04:08.848925Z",
     "iopub.status.busy": "2020-11-08T10:04:08.848316Z",
     "iopub.status.idle": "2020-11-08T10:04:09.008892Z",
     "shell.execute_reply": "2020-11-08T10:04:09.008355Z"
    },
    "papermill": {
     "duration": 0.192527,
     "end_time": "2020-11-08T10:04:09.009035",
     "exception": false,
     "start_time": "2020-11-08T10:04:08.816508",
     "status": "completed"
    },
    "tags": []
   },
   "outputs": [
    {
     "name": "stdout",
     "output_type": "stream",
     "text": [
      "2\n"
     ]
    },
    {
     "data": {
      "text/plain": [
       "<matplotlib.image.AxesImage at 0x7f0578e17438>"
      ]
     },
     "execution_count": 8,
     "metadata": {},
     "output_type": "execute_result"
    },
    {
     "data": {
      "image/png": "[encoded data removed]",
      "text/plain": [
       "<Figure size 432x288 with 1 Axes>"
      ]
     },
     "metadata": {
      "needs_background": "light"
     },
     "output_type": "display_data"
    }
   ],
   "source": [
    "image_index = 7776 # You may select anything up to 60,000\n",
    "print(train_labels[image_index]) \n",
    "plt.imshow(train_images[image_index], cmap='Greys')"
   ]
  },
  {
   "cell_type": "markdown",
   "metadata": {
    "papermill": {
     "duration": 0.028612,
     "end_time": "2020-11-08T10:04:09.065936",
     "exception": false,
     "start_time": "2020-11-08T10:04:09.037324",
     "status": "completed"
    },
    "tags": []
   },
   "source": [
    "## Filter data to get 3 and 8 out"
   ]
  },
  {
   "cell_type": "code",
   "execution_count": 9,
   "metadata": {
    "execution": {
     "iopub.execute_input": "2020-11-08T10:04:09.125703Z",
     "iopub.status.busy": "2020-11-08T10:04:09.125074Z",
     "iopub.status.idle": "2020-11-08T10:04:09.143432Z",
     "shell.execute_reply": "2020-11-08T10:04:09.142721Z"
    },
    "papermill": {
     "duration": 0.051373,
     "end_time": "2020-11-08T10:04:09.143569",
     "exception": false,
     "start_time": "2020-11-08T10:04:09.092196",
     "status": "completed"
    },
    "tags": []
   },
   "outputs": [],
   "source": [
    "train_filter = np.where((train_labels == 3 ) | (train_labels == 8))\n",
    "test_filter = np.where((test_labels == 3) | (test_labels == 8))\n",
    "X_train, y_train = train_images[train_filter], train_labels[train_filter]\n",
    "X_test, y_test = test_images[test_filter], test_labels[test_filter]"
   ]
  },
  {
   "cell_type": "markdown",
   "metadata": {
    "papermill": {
     "duration": 0.027833,
     "end_time": "2020-11-08T10:04:09.199640",
     "exception": false,
     "start_time": "2020-11-08T10:04:09.171807",
     "status": "completed"
    },
    "tags": []
   },
   "source": [
    "We normalize the pixel values in the 0 to 1 range"
   ]
  },
  {
   "cell_type": "code",
   "execution_count": 10,
   "metadata": {
    "execution": {
     "iopub.execute_input": "2020-11-08T10:04:09.266187Z",
     "iopub.status.busy": "2020-11-08T10:04:09.265585Z",
     "iopub.status.idle": "2020-11-08T10:04:09.317924Z",
     "shell.execute_reply": "2020-11-08T10:04:09.317137Z"
    },
    "papermill": {
     "duration": 0.091127,
     "end_time": "2020-11-08T10:04:09.318134",
     "exception": false,
     "start_time": "2020-11-08T10:04:09.227007",
     "status": "completed"
    },
    "tags": []
   },
   "outputs": [],
   "source": [
    "X_train = X_train/255.\n",
    "X_test = X_test/255."
   ]
  },
  {
   "cell_type": "markdown",
   "metadata": {
    "papermill": {
     "duration": 0.028198,
     "end_time": "2020-11-08T10:04:09.376420",
     "exception": false,
     "start_time": "2020-11-08T10:04:09.348222",
     "status": "completed"
    },
    "tags": []
   },
   "source": [
    "Setup the labels as 1 (when the digit is 3) and 0 (when the digit is 8)"
   ]
  },
  {
   "cell_type": "code",
   "execution_count": 11,
   "metadata": {
    "execution": {
     "iopub.execute_input": "2020-11-08T10:04:09.436212Z",
     "iopub.status.busy": "2020-11-08T10:04:09.435604Z",
     "iopub.status.idle": "2020-11-08T10:04:09.447333Z",
     "shell.execute_reply": "2020-11-08T10:04:09.447814Z"
    },
    "papermill": {
     "duration": 0.044924,
     "end_time": "2020-11-08T10:04:09.447965",
     "exception": false,
     "start_time": "2020-11-08T10:04:09.403041",
     "status": "completed"
    },
    "tags": []
   },
   "outputs": [],
   "source": [
    "y_train = 1*(y_train==3)\n",
    "y_test = 1*(y_test==3)"
   ]
  },
  {
   "cell_type": "code",
   "execution_count": 12,
   "metadata": {
    "execution": {
     "iopub.execute_input": "2020-11-08T10:04:09.509320Z",
     "iopub.status.busy": "2020-11-08T10:04:09.508723Z",
     "iopub.status.idle": "2020-11-08T10:04:09.523076Z",
     "shell.execute_reply": "2020-11-08T10:04:09.523537Z"
    },
    "papermill": {
     "duration": 0.047417,
     "end_time": "2020-11-08T10:04:09.523701",
     "exception": false,
     "start_time": "2020-11-08T10:04:09.476284",
     "status": "completed"
    },
    "tags": []
   },
   "outputs": [
    {
     "data": {
      "text/plain": [
       "((11982, 28, 28), (1984, 28, 28))"
      ]
     },
     "execution_count": 12,
     "metadata": {},
     "output_type": "execute_result"
    }
   ],
   "source": [
    "X_train.shape, X_test.shape"
   ]
  },
  {
   "cell_type": "markdown",
   "metadata": {
    "papermill": {
     "duration": 0.028597,
     "end_time": "2020-11-08T10:04:09.580414",
     "exception": false,
     "start_time": "2020-11-08T10:04:09.551817",
     "status": "completed"
    },
    "tags": []
   },
   "source": [
    "### Reshape the input data to create a linear array"
   ]
  },
  {
   "cell_type": "code",
   "execution_count": 13,
   "metadata": {
    "execution": {
     "iopub.execute_input": "2020-11-08T10:04:09.642919Z",
     "iopub.status.busy": "2020-11-08T10:04:09.642257Z",
     "iopub.status.idle": "2020-11-08T10:04:09.656532Z",
     "shell.execute_reply": "2020-11-08T10:04:09.656983Z"
    },
    "papermill": {
     "duration": 0.048257,
     "end_time": "2020-11-08T10:04:09.657145",
     "exception": false,
     "start_time": "2020-11-08T10:04:09.608888",
     "status": "completed"
    },
    "tags": []
   },
   "outputs": [
    {
     "data": {
      "text/plain": [
       "((11982, 784), (1984, 784))"
      ]
     },
     "execution_count": 13,
     "metadata": {},
     "output_type": "execute_result"
    }
   ],
   "source": [
    "X_train = X_train.reshape(X_train.shape[0], -1)\n",
    "X_test = X_test.reshape(X_test.shape[0], -1)\n",
    "X_train.shape, X_test.shape"
   ]
  },
  {
   "cell_type": "markdown",
   "metadata": {
    "papermill": {
     "duration": 0.028418,
     "end_time": "2020-11-08T10:04:09.714542",
     "exception": false,
     "start_time": "2020-11-08T10:04:09.686124",
     "status": "completed"
    },
    "tags": []
   },
   "source": [
    "### Importing appropriate functions from 'Kudzu'"
   ]
  },
  {
   "cell_type": "code",
   "execution_count": 14,
   "metadata": {
    "execution": {
     "iopub.execute_input": "2020-11-08T10:04:09.778241Z",
     "iopub.status.busy": "2020-11-08T10:04:09.777621Z",
     "iopub.status.idle": "2020-11-08T10:04:09.799700Z",
     "shell.execute_reply": "2020-11-08T10:04:09.799153Z"
    },
    "papermill": {
     "duration": 0.056517,
     "end_time": "2020-11-08T10:04:09.799848",
     "exception": false,
     "start_time": "2020-11-08T10:04:09.743331",
     "status": "completed"
    },
    "tags": []
   },
   "outputs": [],
   "source": [
    "from kudzu.layer import Sigmoid\n",
    "from kudzu.layer import Relu\n",
    "from kudzu.layer import Affine, Sigmoid\n",
    "\n",
    "from kudzu.model import Model\n",
    "from kudzu.train import Learner\n",
    "from kudzu.optim import GD\n",
    "from kudzu.data import Data, Dataloader, Sampler\n",
    "\n",
    "from kudzu.callbacks import AccCallback\n",
    "from kudzu.callbacks import ClfCallback\n",
    "\n",
    "from kudzu.loss import MSE"
   ]
  },
  {
   "cell_type": "markdown",
   "metadata": {
    "papermill": {
     "duration": 0.028731,
     "end_time": "2020-11-08T10:04:09.857567",
     "exception": false,
     "start_time": "2020-11-08T10:04:09.828836",
     "status": "completed"
    },
    "tags": []
   },
   "source": [
    "### Let us create a `Config` class, to store important parameters. \n",
    "This class essentially plays the role of a dictionary."
   ]
  },
  {
   "cell_type": "code",
   "execution_count": 15,
   "metadata": {
    "execution": {
     "iopub.execute_input": "2020-11-08T10:04:09.922285Z",
     "iopub.status.busy": "2020-11-08T10:04:09.921663Z",
     "iopub.status.idle": "2020-11-08T10:04:09.937231Z",
     "shell.execute_reply": "2020-11-08T10:04:09.937803Z"
    },
    "papermill": {
     "duration": 0.050633,
     "end_time": "2020-11-08T10:04:09.937964",
     "exception": false,
     "start_time": "2020-11-08T10:04:09.887331",
     "status": "completed"
    },
    "tags": []
   },
   "outputs": [],
   "source": [
    "class Config:\n",
    "    pass\n",
    "config = Config()\n",
    "config.lr = 0.001\n",
    "config.num_epochs = 251\n",
    "config.bs = 50"
   ]
  },
  {
   "cell_type": "markdown",
   "metadata": {
    "papermill": {
     "duration": 0.028712,
     "end_time": "2020-11-08T10:04:09.995378",
     "exception": false,
     "start_time": "2020-11-08T10:04:09.966666",
     "status": "completed"
    },
    "tags": []
   },
   "source": [
    "### Initializing data to the variables"
   ]
  },
  {
   "cell_type": "code",
   "execution_count": 16,
   "metadata": {
    "execution": {
     "iopub.execute_input": "2020-11-08T10:04:10.057805Z",
     "iopub.status.busy": "2020-11-08T10:04:10.057199Z",
     "iopub.status.idle": "2020-11-08T10:04:10.070636Z",
     "shell.execute_reply": "2020-11-08T10:04:10.071134Z"
    },
    "papermill": {
     "duration": 0.04733,
     "end_time": "2020-11-08T10:04:10.071296",
     "exception": false,
     "start_time": "2020-11-08T10:04:10.023966",
     "status": "completed"
    },
    "tags": []
   },
   "outputs": [],
   "source": [
    "data = Data(X_train, y_train.reshape(-1,1))\n",
    "sampler = Sampler(data, config.bs, shuffle=True)\n",
    "\n",
    "dl = Dataloader(data, sampler)\n",
    "\n",
    "opt = GD(config.lr)\n",
    "loss = MSE()"
   ]
  },
  {
   "cell_type": "code",
   "execution_count": 17,
   "metadata": {
    "execution": {
     "iopub.execute_input": "2020-11-08T10:04:10.136282Z",
     "iopub.status.busy": "2020-11-08T10:04:10.135627Z",
     "iopub.status.idle": "2020-11-08T10:04:10.153085Z",
     "shell.execute_reply": "2020-11-08T10:04:10.152508Z"
    },
    "papermill": {
     "duration": 0.052895,
     "end_time": "2020-11-08T10:04:10.153223",
     "exception": false,
     "start_time": "2020-11-08T10:04:10.100328",
     "status": "completed"
    },
    "tags": []
   },
   "outputs": [],
   "source": [
    "training_xdata = X_train\n",
    "testing_xdata = X_test\n",
    "training_ydata = y_train.reshape(-1,1)\n",
    "testing_ydata = y_test.reshape(-1,1)"
   ]
  },
  {
   "cell_type": "markdown",
   "metadata": {
    "papermill": {
     "duration": 0.032904,
     "end_time": "2020-11-08T10:04:10.345443",
     "exception": false,
     "start_time": "2020-11-08T10:04:10.312539",
     "status": "completed"
    },
    "tags": []
   },
   "source": [
    "### Running Models with the Training data\n",
    "Details about the network layers:\n",
    "- A first affine layer has 784 inputs and does 100 affine transforms. These are followed by a Relu\n",
    "- A second affine layer has 100 inputs from the 100 activations of the past layer, and does 100 affine transforms. These are followed by a Relu\n",
    "- A third affine layer has 100 activations and does 2 affine transformations to create an embedding for visualization. There is no non-linearity here.\n",
    "- A final \"logistic regression\" which has an affine transform from 2 inputs to 1 output, which is squeezed through a sigmoid.\n",
    "\n",
    "Help taken from Anshuman's Notebook."
   ]
  },
  {
   "cell_type": "code",
   "execution_count": 18,
   "metadata": {
    "execution": {
     "iopub.execute_input": "2020-11-08T10:04:10.726818Z",
     "iopub.status.busy": "2020-11-08T10:04:10.726078Z",
     "iopub.status.idle": "2020-11-08T10:04:10.743988Z",
     "shell.execute_reply": "2020-11-08T10:04:10.743509Z"
    },
    "papermill": {
     "duration": 0.0865,
     "end_time": "2020-11-08T10:04:10.744160",
     "exception": false,
     "start_time": "2020-11-08T10:04:10.657660",
     "status": "completed"
    },
    "tags": []
   },
   "outputs": [],
   "source": [
    "# layers for the Neural Network\n",
    "layers = [Affine(\"first\", 784, 100), Relu(\"first\"), Affine(\"second\", 100, 100), Relu(\"second\"), Affine(\"third\", 100, 2), Affine(\"final\", 2, 1), Sigmoid(\"final\")]\n",
    "model_nn = Model(layers)\n",
    "\n",
    "# layers for the Logistic Regression\n",
    "layers_lr = [Affine(\"logits\", 784, 1), Sigmoid(\"sigmoid\")]\n",
    "model_lr = Model(layers_lr)"
   ]
  },
  {
   "cell_type": "code",
   "execution_count": 19,
   "metadata": {
    "execution": {
     "iopub.execute_input": "2020-11-08T10:04:10.848394Z",
     "iopub.status.busy": "2020-11-08T10:04:10.847652Z",
     "iopub.status.idle": "2020-11-08T10:04:10.861435Z",
     "shell.execute_reply": "2020-11-08T10:04:10.860928Z"
    },
    "papermill": {
     "duration": 0.049278,
     "end_time": "2020-11-08T10:04:10.861580",
     "exception": false,
     "start_time": "2020-11-08T10:04:10.812302",
     "status": "completed"
    },
    "tags": []
   },
   "outputs": [],
   "source": [
    "# suffix _nn stands for Neural Network.\n",
    "learner_nn = Learner(loss, model_nn, opt, config.num_epochs)\n",
    "acc_nn = ClfCallback(learner_nn, config.bs, training_xdata , testing_xdata, training_ydata, testing_ydata)\n",
    "learner_nn.set_callbacks([acc_nn])"
   ]
  },
  {
   "cell_type": "code",
   "execution_count": 20,
   "metadata": {
    "execution": {
     "iopub.execute_input": "2020-11-08T10:04:10.928554Z",
     "iopub.status.busy": "2020-11-08T10:04:10.927927Z",
     "iopub.status.idle": "2020-11-08T10:05:37.344880Z",
     "shell.execute_reply": "2020-11-08T10:05:37.344386Z"
    },
    "papermill": {
     "duration": 86.452795,
     "end_time": "2020-11-08T10:05:37.345025",
     "exception": false,
     "start_time": "2020-11-08T10:04:10.892230",
     "status": "completed"
    },
    "tags": []
   },
   "outputs": [
    {
     "name": "stdout",
     "output_type": "stream",
     "text": [
      "====== Neural Network ======\n"
     ]
    },
    {
     "name": "stdout",
     "output_type": "stream",
     "text": [
      "Epoch 0, Loss 0.253\n",
      "Training Accuracy: 0.4743, Testing Accuracy: 0.5035\n",
      "\n"
     ]
    },
    {
     "name": "stdout",
     "output_type": "stream",
     "text": [
      "Epoch 10, Loss 0.1939\n",
      "Training Accuracy: 0.8665, Testing Accuracy: 0.8856\n",
      "\n"
     ]
    },
    {
     "name": "stdout",
     "output_type": "stream",
     "text": [
      "Epoch 20, Loss 0.0969\n",
      "Training Accuracy: 0.9096, Testing Accuracy: 0.9173\n",
      "\n"
     ]
    },
    {
     "name": "stdout",
     "output_type": "stream",
     "text": [
      "Epoch 30, Loss 0.0609\n",
      "Training Accuracy: 0.9353, Testing Accuracy: 0.9456\n",
      "\n"
     ]
    },
    {
     "name": "stdout",
     "output_type": "stream",
     "text": [
      "Epoch 40, Loss 0.0472\n",
      "Training Accuracy: 0.9472, Testing Accuracy: 0.9521\n",
      "\n"
     ]
    },
    {
     "name": "stdout",
     "output_type": "stream",
     "text": [
      "Epoch 50, Loss 0.0404\n",
      "Training Accuracy: 0.9536, Testing Accuracy: 0.9577\n",
      "\n"
     ]
    },
    {
     "name": "stdout",
     "output_type": "stream",
     "text": [
      "Epoch 60, Loss 0.0363\n",
      "Training Accuracy: 0.9573, Testing Accuracy: 0.9622\n",
      "\n"
     ]
    },
    {
     "name": "stdout",
     "output_type": "stream",
     "text": [
      "Epoch 70, Loss 0.0336\n",
      "Training Accuracy: 0.9594, Testing Accuracy: 0.9652\n",
      "\n"
     ]
    },
    {
     "name": "stdout",
     "output_type": "stream",
     "text": [
      "Epoch 80, Loss 0.0316\n",
      "Training Accuracy: 0.9620, Testing Accuracy: 0.9677\n",
      "\n"
     ]
    },
    {
     "name": "stdout",
     "output_type": "stream",
     "text": [
      "Epoch 90, Loss 0.03\n",
      "Training Accuracy: 0.9633, Testing Accuracy: 0.9693\n",
      "\n"
     ]
    },
    {
     "name": "stdout",
     "output_type": "stream",
     "text": [
      "Epoch 100, Loss 0.0287\n",
      "Training Accuracy: 0.9651, Testing Accuracy: 0.9688\n",
      "\n"
     ]
    },
    {
     "name": "stdout",
     "output_type": "stream",
     "text": [
      "Epoch 110, Loss 0.0276\n",
      "Training Accuracy: 0.9664, Testing Accuracy: 0.9708\n",
      "\n"
     ]
    },
    {
     "name": "stdout",
     "output_type": "stream",
     "text": [
      "Epoch 120, Loss 0.0266\n",
      "Training Accuracy: 0.9676, Testing Accuracy: 0.9708\n",
      "\n"
     ]
    },
    {
     "name": "stdout",
     "output_type": "stream",
     "text": [
      "Epoch 130, Loss 0.0258\n",
      "Training Accuracy: 0.9689, Testing Accuracy: 0.9713\n",
      "\n"
     ]
    },
    {
     "name": "stdout",
     "output_type": "stream",
     "text": [
      "Epoch 140, Loss 0.0251\n",
      "Training Accuracy: 0.9701, Testing Accuracy: 0.9718\n",
      "\n"
     ]
    },
    {
     "name": "stdout",
     "output_type": "stream",
     "text": [
      "Epoch 150, Loss 0.0244\n",
      "Training Accuracy: 0.9709, Testing Accuracy: 0.9728\n",
      "\n"
     ]
    },
    {
     "name": "stdout",
     "output_type": "stream",
     "text": [
      "Epoch 160, Loss 0.0238\n",
      "Training Accuracy: 0.9714, Testing Accuracy: 0.9733\n",
      "\n"
     ]
    },
    {
     "name": "stdout",
     "output_type": "stream",
     "text": [
      "Epoch 170, Loss 0.0232\n",
      "Training Accuracy: 0.9722, Testing Accuracy: 0.9728\n",
      "\n"
     ]
    },
    {
     "name": "stdout",
     "output_type": "stream",
     "text": [
      "Epoch 180, Loss 0.0227\n",
      "Training Accuracy: 0.9730, Testing Accuracy: 0.9738\n",
      "\n"
     ]
    },
    {
     "name": "stdout",
     "output_type": "stream",
     "text": [
      "Epoch 190, Loss 0.0222\n",
      "Training Accuracy: 0.9735, Testing Accuracy: 0.9738\n",
      "\n"
     ]
    },
    {
     "name": "stdout",
     "output_type": "stream",
     "text": [
      "Epoch 200, Loss 0.0217\n",
      "Training Accuracy: 0.9743, Testing Accuracy: 0.9733\n",
      "\n"
     ]
    },
    {
     "name": "stdout",
     "output_type": "stream",
     "text": [
      "Epoch 210, Loss 0.0213\n",
      "Training Accuracy: 0.9750, Testing Accuracy: 0.9733\n",
      "\n"
     ]
    },
    {
     "name": "stdout",
     "output_type": "stream",
     "text": [
      "Epoch 220, Loss 0.0208\n",
      "Training Accuracy: 0.9757, Testing Accuracy: 0.9733\n",
      "\n"
     ]
    },
    {
     "name": "stdout",
     "output_type": "stream",
     "text": [
      "Epoch 230, Loss 0.0204\n",
      "Training Accuracy: 0.9765, Testing Accuracy: 0.9733\n",
      "\n"
     ]
    },
    {
     "name": "stdout",
     "output_type": "stream",
     "text": [
      "Epoch 240, Loss 0.02\n",
      "Training Accuracy: 0.9772, Testing Accuracy: 0.9728\n",
      "\n"
     ]
    },
    {
     "name": "stdout",
     "output_type": "stream",
     "text": [
      "Epoch 250, Loss 0.0196\n",
      "Training Accuracy: 0.9781, Testing Accuracy: 0.9733\n",
      "\n"
     ]
    },
    {
     "data": {
      "text/plain": [
       "0.011458365069283383"
      ]
     },
     "execution_count": 20,
     "metadata": {},
     "output_type": "execute_result"
    }
   ],
   "source": [
    "print(\"====== Neural Network ======\")\n",
    "learner_nn.train_loop(dl)"
   ]
  },
  {
   "cell_type": "markdown",
   "metadata": {
    "papermill": {
     "duration": 0.03618,
     "end_time": "2020-11-08T10:05:37.418997",
     "exception": false,
     "start_time": "2020-11-08T10:05:37.382817",
     "status": "completed"
    },
    "tags": []
   },
   "source": [
    "### Logistic Regression based Implementation."
   ]
  },
  {
   "cell_type": "code",
   "execution_count": 21,
   "metadata": {
    "execution": {
     "iopub.execute_input": "2020-11-08T10:05:37.499906Z",
     "iopub.status.busy": "2020-11-08T10:05:37.499306Z",
     "iopub.status.idle": "2020-11-08T10:05:37.512420Z",
     "shell.execute_reply": "2020-11-08T10:05:37.511909Z"
    },
    "papermill": {
     "duration": 0.056881,
     "end_time": "2020-11-08T10:05:37.512553",
     "exception": false,
     "start_time": "2020-11-08T10:05:37.455672",
     "status": "completed"
    },
    "tags": []
   },
   "outputs": [],
   "source": [
    "learner_lr = Learner(loss, model_lr, opt, config.num_epochs)\n",
    "acc_lr = ClfCallback(learner_lr, config.bs, training_xdata , testing_xdata, training_ydata, testing_ydata)\n",
    "learner_lr.set_callbacks([acc_lr])"
   ]
  },
  {
   "cell_type": "code",
   "execution_count": 22,
   "metadata": {
    "execution": {
     "iopub.execute_input": "2020-11-08T10:05:37.589198Z",
     "iopub.status.busy": "2020-11-08T10:05:37.588606Z",
     "iopub.status.idle": "2020-11-08T10:05:52.999495Z",
     "shell.execute_reply": "2020-11-08T10:05:53.000265Z"
    },
    "papermill": {
     "duration": 15.451343,
     "end_time": "2020-11-08T10:05:53.000436",
     "exception": false,
     "start_time": "2020-11-08T10:05:37.549093",
     "status": "completed"
    },
    "tags": []
   },
   "outputs": [
    {
     "name": "stdout",
     "output_type": "stream",
     "text": [
      "====== Logistic Regression ======\n",
      "Epoch 0, Loss 0.2354\n",
      "Training Accuracy: 0.7544, Testing Accuracy: 0.7470\n",
      "\n"
     ]
    },
    {
     "name": "stdout",
     "output_type": "stream",
     "text": [
      "Epoch 10, Loss 0.0988\n",
      "Training Accuracy: 0.9220, Testing Accuracy: 0.9330\n",
      "\n"
     ]
    },
    {
     "name": "stdout",
     "output_type": "stream",
     "text": [
      "Epoch 20, Loss 0.0765\n",
      "Training Accuracy: 0.9352, Testing Accuracy: 0.9476\n",
      "\n"
     ]
    },
    {
     "name": "stdout",
     "output_type": "stream",
     "text": [
      "Epoch 30, Loss 0.0663\n",
      "Training Accuracy: 0.9397, Testing Accuracy: 0.9541\n",
      "\n"
     ]
    },
    {
     "name": "stdout",
     "output_type": "stream",
     "text": [
      "Epoch 40, Loss 0.0602\n",
      "Training Accuracy: 0.9426, Testing Accuracy: 0.9567\n",
      "\n"
     ]
    },
    {
     "name": "stdout",
     "output_type": "stream",
     "text": [
      "Epoch 50, Loss 0.0559\n",
      "Training Accuracy: 0.9459, Testing Accuracy: 0.9582\n",
      "\n"
     ]
    },
    {
     "name": "stdout",
     "output_type": "stream",
     "text": [
      "Epoch 60, Loss 0.0528\n",
      "Training Accuracy: 0.9483, Testing Accuracy: 0.9607\n",
      "\n"
     ]
    },
    {
     "name": "stdout",
     "output_type": "stream",
     "text": [
      "Epoch 70, Loss 0.0504\n",
      "Training Accuracy: 0.9498, Testing Accuracy: 0.9622\n",
      "\n"
     ]
    },
    {
     "name": "stdout",
     "output_type": "stream",
     "text": [
      "Epoch 80, Loss 0.0485\n",
      "Training Accuracy: 0.9513, Testing Accuracy: 0.9642\n",
      "\n"
     ]
    },
    {
     "name": "stdout",
     "output_type": "stream",
     "text": [
      "Epoch 90, Loss 0.0468\n",
      "Training Accuracy: 0.9524, Testing Accuracy: 0.9652\n",
      "\n"
     ]
    },
    {
     "name": "stdout",
     "output_type": "stream",
     "text": [
      "Epoch 100, Loss 0.0455\n",
      "Training Accuracy: 0.9538, Testing Accuracy: 0.9657\n",
      "\n"
     ]
    },
    {
     "name": "stdout",
     "output_type": "stream",
     "text": [
      "Epoch 110, Loss 0.0443\n",
      "Training Accuracy: 0.9542, Testing Accuracy: 0.9667\n",
      "\n"
     ]
    },
    {
     "name": "stdout",
     "output_type": "stream",
     "text": [
      "Epoch 120, Loss 0.0433\n",
      "Training Accuracy: 0.9548, Testing Accuracy: 0.9677\n",
      "\n"
     ]
    },
    {
     "name": "stdout",
     "output_type": "stream",
     "text": [
      "Epoch 130, Loss 0.0424\n",
      "Training Accuracy: 0.9553, Testing Accuracy: 0.9677\n",
      "\n"
     ]
    },
    {
     "name": "stdout",
     "output_type": "stream",
     "text": [
      "Epoch 140, Loss 0.0416\n",
      "Training Accuracy: 0.9558, Testing Accuracy: 0.9677\n",
      "\n"
     ]
    },
    {
     "name": "stdout",
     "output_type": "stream",
     "text": [
      "Epoch 150, Loss 0.0409\n",
      "Training Accuracy: 0.9566, Testing Accuracy: 0.9682\n",
      "\n"
     ]
    },
    {
     "name": "stdout",
     "output_type": "stream",
     "text": [
      "Epoch 160, Loss 0.0402\n",
      "Training Accuracy: 0.9569, Testing Accuracy: 0.9688\n",
      "\n"
     ]
    },
    {
     "name": "stdout",
     "output_type": "stream",
     "text": [
      "Epoch 170, Loss 0.0396\n",
      "Training Accuracy: 0.9574, Testing Accuracy: 0.9693\n",
      "\n"
     ]
    },
    {
     "name": "stdout",
     "output_type": "stream",
     "text": [
      "Epoch 180, Loss 0.0391\n",
      "Training Accuracy: 0.9585, Testing Accuracy: 0.9693\n",
      "\n"
     ]
    },
    {
     "name": "stdout",
     "output_type": "stream",
     "text": [
      "Epoch 190, Loss 0.0386\n",
      "Training Accuracy: 0.9590, Testing Accuracy: 0.9688\n",
      "\n"
     ]
    },
    {
     "name": "stdout",
     "output_type": "stream",
     "text": [
      "Epoch 200, Loss 0.0381\n",
      "Training Accuracy: 0.9592, Testing Accuracy: 0.9688\n",
      "\n"
     ]
    },
    {
     "name": "stdout",
     "output_type": "stream",
     "text": [
      "Epoch 210, Loss 0.0377\n",
      "Training Accuracy: 0.9596, Testing Accuracy: 0.9693\n",
      "\n"
     ]
    },
    {
     "name": "stdout",
     "output_type": "stream",
     "text": [
      "Epoch 220, Loss 0.0373\n",
      "Training Accuracy: 0.9599, Testing Accuracy: 0.9698\n",
      "\n"
     ]
    },
    {
     "name": "stdout",
     "output_type": "stream",
     "text": [
      "Epoch 230, Loss 0.037\n",
      "Training Accuracy: 0.9603, Testing Accuracy: 0.9698\n",
      "\n"
     ]
    },
    {
     "name": "stdout",
     "output_type": "stream",
     "text": [
      "Epoch 240, Loss 0.0366\n",
      "Training Accuracy: 0.9609, Testing Accuracy: 0.9703\n",
      "\n"
     ]
    },
    {
     "name": "stdout",
     "output_type": "stream",
     "text": [
      "Epoch 250, Loss 0.0363\n",
      "Training Accuracy: 0.9611, Testing Accuracy: 0.9703\n",
      "\n"
     ]
    },
    {
     "data": {
      "text/plain": [
       "0.030015121798638553"
      ]
     },
     "execution_count": 22,
     "metadata": {},
     "output_type": "execute_result"
    }
   ],
   "source": [
    "print(\"====== Logistic Regression ======\")\n",
    "learner_lr.train_loop(dl)"
   ]
  },
  {
   "cell_type": "markdown",
   "metadata": {
    "papermill": {
     "duration": 0.04472,
     "end_time": "2020-11-08T10:05:53.091134",
     "exception": false,
     "start_time": "2020-11-08T10:05:53.046414",
     "status": "completed"
    },
    "tags": []
   },
   "source": [
    "### Comparing results of NN and LR"
   ]
  },
  {
   "cell_type": "code",
   "execution_count": 23,
   "metadata": {
    "execution": {
     "iopub.execute_input": "2020-11-08T10:05:53.185694Z",
     "iopub.status.busy": "2020-11-08T10:05:53.185071Z",
     "iopub.status.idle": "2020-11-08T10:05:53.435792Z",
     "shell.execute_reply": "2020-11-08T10:05:53.436702Z"
    },
    "papermill": {
     "duration": 0.300828,
     "end_time": "2020-11-08T10:05:53.436963",
     "exception": false,
     "start_time": "2020-11-08T10:05:53.136135",
     "status": "completed"
    },
    "tags": []
   },
   "outputs": [
    {
     "data": {
      "text/plain": [
       "<matplotlib.legend.Legend at 0x7f05715f60f0>"
      ]
     },
     "execution_count": 23,
     "metadata": {},
     "output_type": "execute_result"
    },
    {
     "data": {
      "image/png": "[encoded data removed]",
      "text/plain": [
       "<Figure size 1080x720 with 1 Axes>"
      ]
     },
     "metadata": {
      "needs_background": "light"
     },
     "output_type": "display_data"
    }
   ],
   "source": [
    "plt.figure(figsize=(15,10))\n",
    "\n",
    "# Neural Network plots\n",
    "plt.plot(acc_nn.accuracies, 'r-', label = \"Training Accuracies - NN\")\n",
    "plt.plot(acc_nn.test_accuracies, 'g-', label = \"Testing Accuracies - NN\")\n",
    "\n",
    "# Logistic Regression plots\n",
    "plt.plot(acc_lr.accuracies, 'k-', label = \"Training Accuracies - LR\")\n",
    "plt.plot(acc_lr.test_accuracies, 'b-', label = \"Testing Accuracies - LR\")\n",
    "\n",
    "plt.ylim(0.8, 1)\n",
    "\n",
    "plt.legend()\n",
    "\n"
   ]
  },
  {
   "cell_type": "markdown",
   "metadata": {
    "papermill": {
     "duration": 0.045761,
     "end_time": "2020-11-08T10:05:53.531578",
     "exception": false,
     "start_time": "2020-11-08T10:05:53.485817",
     "status": "completed"
    },
    "tags": []
   },
   "source": [
    "### From the plot, we can observe the following:\n",
    "- Neural Network achieves higher accuracy than the Logistic Regression model.\n",
    "- This apparently, is because of overfitting, i.e. NN captures more noise than data.\n",
    "- Testing accuracy of NN drops below the Training accuracy at higher epochs. This explains the over-fitting on training data.\n",
    "- Logistic Regression gives a reliable accuracy, without the above mentioned problem.\n"
   ]
  },
  {
   "cell_type": "markdown",
   "metadata": {
    "papermill": {
     "duration": 0.045409,
     "end_time": "2020-11-08T10:05:53.622627",
     "exception": false,
     "start_time": "2020-11-08T10:05:53.577218",
     "status": "completed"
    },
    "tags": []
   },
   "source": [
    "### Moving till the last but one layer (excluding it).\n",
    "#### Plotting the outputs of this layer of the NN."
   ]
  },
  {
   "cell_type": "code",
   "execution_count": 24,
   "metadata": {
    "execution": {
     "iopub.execute_input": "2020-11-08T10:05:53.718483Z",
     "iopub.status.busy": "2020-11-08T10:05:53.717861Z",
     "iopub.status.idle": "2020-11-08T10:05:53.731243Z",
     "shell.execute_reply": "2020-11-08T10:05:53.730679Z"
    },
    "papermill": {
     "duration": 0.064723,
     "end_time": "2020-11-08T10:05:53.731379",
     "exception": false,
     "start_time": "2020-11-08T10:05:53.666656",
     "status": "completed"
    },
    "tags": []
   },
   "outputs": [],
   "source": [
    "model_new = Model(layers[:-2])"
   ]
  },
  {
   "cell_type": "code",
   "execution_count": 25,
   "metadata": {
    "execution": {
     "iopub.execute_input": "2020-11-08T10:05:53.827934Z",
     "iopub.status.busy": "2020-11-08T10:05:53.827313Z",
     "iopub.status.idle": "2020-11-08T10:05:53.850301Z",
     "shell.execute_reply": "2020-11-08T10:05:53.850792Z"
    },
    "papermill": {
     "duration": 0.073254,
     "end_time": "2020-11-08T10:05:53.850955",
     "exception": false,
     "start_time": "2020-11-08T10:05:53.777701",
     "status": "completed"
    },
    "tags": []
   },
   "outputs": [],
   "source": [
    "plot_testing = model_new(testing_xdata)"
   ]
  },
  {
   "cell_type": "code",
   "execution_count": 26,
   "metadata": {
    "execution": {
     "iopub.execute_input": "2020-11-08T10:05:53.949672Z",
     "iopub.status.busy": "2020-11-08T10:05:53.949057Z",
     "iopub.status.idle": "2020-11-08T10:05:54.168912Z",
     "shell.execute_reply": "2020-11-08T10:05:54.168075Z"
    },
    "papermill": {
     "duration": 0.271419,
     "end_time": "2020-11-08T10:05:54.169064",
     "exception": false,
     "start_time": "2020-11-08T10:05:53.897645",
     "status": "completed"
    },
    "tags": []
   },
   "outputs": [
    {
     "data": {
      "text/plain": [
       "Text(0.5, 1.0, 'Outputs')"
      ]
     },
     "execution_count": 26,
     "metadata": {},
     "output_type": "execute_result"
    },
    {
     "data": {
      "image/png": "[encoded data removed]",
      "text/plain": [
       "<Figure size 576x504 with 1 Axes>"
      ]
     },
     "metadata": {
      "needs_background": "light"
     },
     "output_type": "display_data"
    }
   ],
   "source": [
    "plt.figure(figsize=(8,7))\n",
    "plt.scatter(plot_testing[:,0], plot_testing[:,1], alpha = 0.1, c = y_test.ravel());\n",
    "plt.title('Outputs')"
   ]
  },
  {
   "cell_type": "markdown",
   "metadata": {
    "papermill": {
     "duration": 0.046585,
     "end_time": "2020-11-08T10:05:54.263999",
     "exception": false,
     "start_time": "2020-11-08T10:05:54.217414",
     "status": "completed"
    },
    "tags": []
   },
   "source": [
    "### Plotting probability contours"
   ]
  },
  {
   "cell_type": "code",
   "execution_count": 27,
   "metadata": {
    "execution": {
     "iopub.execute_input": "2020-11-08T10:05:54.373968Z",
     "iopub.status.busy": "2020-11-08T10:05:54.373363Z",
     "iopub.status.idle": "2020-11-08T10:05:54.390649Z",
     "shell.execute_reply": "2020-11-08T10:05:54.391172Z"
    },
    "papermill": {
     "duration": 0.077922,
     "end_time": "2020-11-08T10:05:54.391331",
     "exception": false,
     "start_time": "2020-11-08T10:05:54.313409",
     "status": "completed"
    },
    "tags": []
   },
   "outputs": [],
   "source": [
    "model_prob = Model(layers[-2:]) "
   ]
  },
  {
   "cell_type": "code",
   "execution_count": 28,
   "metadata": {
    "execution": {
     "iopub.execute_input": "2020-11-08T10:05:54.498968Z",
     "iopub.status.busy": "2020-11-08T10:05:54.497800Z",
     "iopub.status.idle": "2020-11-08T10:05:54.515810Z",
     "shell.execute_reply": "2020-11-08T10:05:54.516320Z"
    },
    "papermill": {
     "duration": 0.075668,
     "end_time": "2020-11-08T10:05:54.516490",
     "exception": false,
     "start_time": "2020-11-08T10:05:54.440822",
     "status": "completed"
    },
    "tags": []
   },
   "outputs": [],
   "source": [
    "# Adjust the x and y ranges according to the above generated plot.\n",
    "x_range = np.linspace(-4, 1, 100) \n",
    "y_range = np.linspace(-6, 6, 100) \n",
    "x_grid, y_grid = np.meshgrid(x_range, y_range) # x_grid and y_grig are of size 100 X 100\n",
    "\n",
    "# converting x_grid and y_grid to continuous arrays\n",
    "x_grid_flat = np.ravel(x_grid)\n",
    "y_grid_flat = np.ravel(y_grid)\n",
    "\n",
    "# The last layer of the current model takes two columns as input. Hence transpose of np.vstack() is required.\n",
    "X = np.vstack((x_grid_flat, y_grid_flat)).T\n",
    "\n",
    "# x_grid and y_grid are of size 100 x 100\n",
    "probability_contour = model_prob(X).reshape(100,100) "
   ]
  },
  {
   "cell_type": "code",
   "execution_count": 29,
   "metadata": {
    "execution": {
     "iopub.execute_input": "2020-11-08T10:05:54.640500Z",
     "iopub.status.busy": "2020-11-08T10:05:54.639878Z",
     "iopub.status.idle": "2020-11-08T10:05:54.891640Z",
     "shell.execute_reply": "2020-11-08T10:05:54.892120Z"
    },
    "papermill": {
     "duration": 0.314092,
     "end_time": "2020-11-08T10:05:54.892293",
     "exception": false,
     "start_time": "2020-11-08T10:05:54.578201",
     "status": "completed"
    },
    "tags": []
   },
   "outputs": [
    {
     "data": {
      "image/png": "[encoded data removed]",
      "text/plain": [
       "<Figure size 720x648 with 1 Axes>"
      ]
     },
     "metadata": {
      "needs_background": "light"
     },
     "output_type": "display_data"
    }
   ],
   "source": [
    "plt.figure(figsize=(10,9))\n",
    "plt.scatter(plot_testing[:,0], plot_testing[:,1], alpha = 0.1, c = y_test.ravel())\n",
    "contours = plt.contour(x_grid,y_grid,probability_contour)\n",
    "plt.title('Probability Contours')\n",
    "plt.clabel(contours, inline = True );"
   ]
  }
 ],
 "metadata": {
  "kernelspec": {
   "display_name": "Python 3",
   "language": "python",
   "name": "python3"
  },
  "language_info": {
   "codemirror_mode": {
    "name": "ipython",
    "version": 3
   },
   "file_extension": ".py",
   "mimetype": "text/x-python",
   "name": "python",
   "nbconvert_exporter": "python",
   "pygments_lexer": "ipython3",
   "version": "3.6.12"
  },
  "papermill": {
   "duration": 111.805216,
   "end_time": "2020-11-08T10:05:55.358892",
   "environment_variables": {},
   "exception": null,
   "input_path": "2020-08-11-NeuralNetwork.ipynb",
   "output_path": "2020-08-11-NeuralNetwork.ipynb",
   "parameters": {},
   "start_time": "2020-11-08T10:04:03.553676",
   "version": "2.1.2"
  }
 },
 "nbformat": 4,
 "nbformat_minor": 4
}