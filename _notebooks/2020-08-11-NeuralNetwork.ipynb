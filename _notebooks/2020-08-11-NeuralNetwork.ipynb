{
 "cells": [
  {
   "cell_type": "markdown",
   "id": "fitted-suggestion",
   "metadata": {
    "papermill": {
     "duration": 0.033106,
     "end_time": "2021-03-02T20:04:14.610180",
     "exception": false,
     "start_time": "2021-03-02T20:04:14.577074",
     "status": "completed"
    },
    "tags": []
   },
   "source": [
    "# \"A Basic Neural Network: Differentiate Hand-Written Digits\"\n",
    "\n",
    "- badges: true\n",
    "- author: Akshith Sriram"
   ]
  },
  {
   "cell_type": "markdown",
   "id": "signal-flexibility",
   "metadata": {
    "papermill": {
     "duration": 0.026216,
     "end_time": "2021-03-02T20:04:14.668469",
     "exception": false,
     "start_time": "2021-03-02T20:04:14.642253",
     "status": "completed"
    },
    "tags": []
   },
   "source": [
    "### Key Objectives:\n",
    "- Building a neural network that differentiates two hand-written digits 3 and 8.\n",
    "- Comparing the results of this Neural Network (NN) to that of a Logistic Regression (LR) model.\n",
    "\n",
    "### Requirements:\n",
    "- 'Kudzu' : A neural network library that was designed during our course by [Univ.AI](www.univ.ai). \n",
    "- MNIST Database\n",
    "\n",
    "If MNIST is not installed, use the command `!pip install mnist` given below.\n",
    "It can be run both from the command line and Jupyter Notebook."
   ]
  },
  {
   "cell_type": "code",
   "execution_count": 1,
   "id": "british-texture",
   "metadata": {
    "execution": {
     "iopub.execute_input": "2021-03-02T20:04:14.734458Z",
     "iopub.status.busy": "2021-03-02T20:04:14.730991Z",
     "iopub.status.idle": "2021-03-02T20:04:16.314266Z",
     "shell.execute_reply": "2021-03-02T20:04:16.314890Z"
    },
    "papermill": {
     "duration": 1.619341,
     "end_time": "2021-03-02T20:04:16.315093",
     "exception": false,
     "start_time": "2021-03-02T20:04:14.695752",
     "status": "completed"
    },
    "tags": []
   },
   "outputs": [
    {
     "name": "stdout",
     "output_type": "stream",
     "text": [
      "Collecting mnist\r\n"
     ]
    },
    {
     "name": "stdout",
     "output_type": "stream",
     "text": [
      "  Downloading mnist-0.2.2-py2.py3-none-any.whl (3.5 kB)\r\n",
      "Requirement already satisfied: numpy in /opt/hostedtoolcache/Python/3.6.13/x64/lib/python3.6/site-packages (from mnist) (1.19.5)\r\n"
     ]
    },
    {
     "name": "stdout",
     "output_type": "stream",
     "text": [
      "Installing collected packages: mnist\r\n"
     ]
    },
    {
     "name": "stdout",
     "output_type": "stream",
     "text": [
      "Successfully installed mnist-0.2.2\r\n"
     ]
    }
   ],
   "source": [
    "!pip install mnist "
   ]
  },
  {
   "cell_type": "markdown",
   "id": "stunning-extra",
   "metadata": {
    "papermill": {
     "duration": 0.030165,
     "end_time": "2021-03-02T20:04:16.376577",
     "exception": false,
     "start_time": "2021-03-02T20:04:16.346412",
     "status": "completed"
    },
    "tags": []
   },
   "source": [
    "#### Importing necessary libraries"
   ]
  },
  {
   "cell_type": "code",
   "execution_count": 2,
   "id": "wooden-france",
   "metadata": {
    "execution": {
     "iopub.execute_input": "2021-03-02T20:04:16.445774Z",
     "iopub.status.busy": "2021-03-02T20:04:16.445178Z",
     "iopub.status.idle": "2021-03-02T20:04:17.025005Z",
     "shell.execute_reply": "2021-03-02T20:04:17.023875Z"
    },
    "papermill": {
     "duration": 0.61767,
     "end_time": "2021-03-02T20:04:17.025148",
     "exception": false,
     "start_time": "2021-03-02T20:04:16.407478",
     "status": "completed"
    },
    "tags": []
   },
   "outputs": [],
   "source": [
    "%load_ext autoreload\n",
    "%autoreload 2\n",
    "\n",
    "%matplotlib inline\n",
    "import matplotlib.pyplot as plt\n",
    "\n",
    "import numpy as np\n",
    "import pandas as pd"
   ]
  },
  {
   "cell_type": "markdown",
   "id": "stunning-physics",
   "metadata": {
    "papermill": {
     "duration": 0.028728,
     "end_time": "2021-03-02T20:04:17.085194",
     "exception": false,
     "start_time": "2021-03-02T20:04:17.056466",
     "status": "completed"
    },
    "tags": []
   },
   "source": [
    "### Preparing the Data"
   ]
  },
  {
   "cell_type": "code",
   "execution_count": 3,
   "id": "unauthorized-remainder",
   "metadata": {
    "execution": {
     "iopub.execute_input": "2021-03-02T20:04:17.152151Z",
     "iopub.status.busy": "2021-03-02T20:04:17.146537Z",
     "iopub.status.idle": "2021-03-02T20:04:17.160136Z",
     "shell.execute_reply": "2021-03-02T20:04:17.160588Z"
    },
    "papermill": {
     "duration": 0.046921,
     "end_time": "2021-03-02T20:04:17.160731",
     "exception": false,
     "start_time": "2021-03-02T20:04:17.113810",
     "status": "completed"
    },
    "tags": []
   },
   "outputs": [],
   "source": [
    "import mnist"
   ]
  },
  {
   "cell_type": "code",
   "execution_count": 4,
   "id": "correct-antarctica",
   "metadata": {
    "execution": {
     "iopub.execute_input": "2021-03-02T20:04:17.221781Z",
     "iopub.status.busy": "2021-03-02T20:04:17.221242Z",
     "iopub.status.idle": "2021-03-02T20:04:18.034766Z",
     "shell.execute_reply": "2021-03-02T20:04:18.033851Z"
    },
    "papermill": {
     "duration": 0.845356,
     "end_time": "2021-03-02T20:04:18.034990",
     "exception": false,
     "start_time": "2021-03-02T20:04:17.189634",
     "status": "completed"
    },
    "tags": []
   },
   "outputs": [],
   "source": [
    "train_images = mnist.train_images()\n",
    "train_labels = mnist.train_labels()"
   ]
  },
  {
   "cell_type": "code",
   "execution_count": 5,
   "id": "musical-prospect",
   "metadata": {
    "execution": {
     "iopub.execute_input": "2021-03-02T20:04:18.102366Z",
     "iopub.status.busy": "2021-03-02T20:04:18.101781Z",
     "iopub.status.idle": "2021-03-02T20:04:18.118893Z",
     "shell.execute_reply": "2021-03-02T20:04:18.118421Z"
    },
    "papermill": {
     "duration": 0.050726,
     "end_time": "2021-03-02T20:04:18.119007",
     "exception": false,
     "start_time": "2021-03-02T20:04:18.068281",
     "status": "completed"
    },
    "tags": []
   },
   "outputs": [
    {
     "data": {
      "text/plain": [
       "((60000, 28, 28), (60000,))"
      ]
     },
     "execution_count": 5,
     "metadata": {},
     "output_type": "execute_result"
    }
   ],
   "source": [
    "train_images.shape, train_labels.shape"
   ]
  },
  {
   "cell_type": "code",
   "execution_count": 6,
   "id": "preliminary-elizabeth",
   "metadata": {
    "execution": {
     "iopub.execute_input": "2021-03-02T20:04:18.188294Z",
     "iopub.status.busy": "2021-03-02T20:04:18.187698Z",
     "iopub.status.idle": "2021-03-02T20:04:18.467185Z",
     "shell.execute_reply": "2021-03-02T20:04:18.466535Z"
    },
    "papermill": {
     "duration": 0.313998,
     "end_time": "2021-03-02T20:04:18.467353",
     "exception": false,
     "start_time": "2021-03-02T20:04:18.153355",
     "status": "completed"
    },
    "tags": []
   },
   "outputs": [],
   "source": [
    "test_images = mnist.test_images()\n",
    "test_labels = mnist.test_labels()"
   ]
  },
  {
   "cell_type": "code",
   "execution_count": 7,
   "id": "acknowledged-oxygen",
   "metadata": {
    "execution": {
     "iopub.execute_input": "2021-03-02T20:04:18.958353Z",
     "iopub.status.busy": "2021-03-02T20:04:18.957630Z",
     "iopub.status.idle": "2021-03-02T20:04:18.972955Z",
     "shell.execute_reply": "2021-03-02T20:04:18.972449Z"
    },
    "papermill": {
     "duration": 0.472814,
     "end_time": "2021-03-02T20:04:18.973081",
     "exception": false,
     "start_time": "2021-03-02T20:04:18.500267",
     "status": "completed"
    },
    "tags": []
   },
   "outputs": [
    {
     "data": {
      "text/plain": [
       "((10000, 28, 28), (10000,))"
      ]
     },
     "execution_count": 7,
     "metadata": {},
     "output_type": "execute_result"
    }
   ],
   "source": [
    "test_images.shape, test_labels.shape"
   ]
  },
  {
   "cell_type": "code",
   "execution_count": 8,
   "id": "innovative-organic",
   "metadata": {
    "execution": {
     "iopub.execute_input": "2021-03-02T20:04:19.261245Z",
     "iopub.status.busy": "2021-03-02T20:04:19.260195Z",
     "iopub.status.idle": "2021-03-02T20:04:19.405713Z",
     "shell.execute_reply": "2021-03-02T20:04:19.405193Z"
    },
    "papermill": {
     "duration": 0.299474,
     "end_time": "2021-03-02T20:04:19.405842",
     "exception": false,
     "start_time": "2021-03-02T20:04:19.106368",
     "status": "completed"
    },
    "tags": []
   },
   "outputs": [
    {
     "name": "stdout",
     "output_type": "stream",
     "text": [
      "2\n"
     ]
    },
    {
     "data": {
      "text/plain": [
       "<matplotlib.image.AxesImage at 0x7f750f231438>"
      ]
     },
     "execution_count": 8,
     "metadata": {},
     "output_type": "execute_result"
    },
    {
     "data": {
      "image/png": "[encoded data removed]",
      "text/plain": [
       "<Figure size 432x288 with 1 Axes>"
      ]
     },
     "metadata": {
      "needs_background": "light"
     },
     "output_type": "display_data"
    }
   ],
   "source": [
    "image_index = 7776 # You may select anything up to 60,000\n",
    "print(train_labels[image_index]) \n",
    "plt.imshow(train_images[image_index], cmap='Greys')"
   ]
  },
  {
   "cell_type": "markdown",
   "id": "facial-modem",
   "metadata": {
    "papermill": {
     "duration": 0.030405,
     "end_time": "2021-03-02T20:04:19.466747",
     "exception": false,
     "start_time": "2021-03-02T20:04:19.436342",
     "status": "completed"
    },
    "tags": []
   },
   "source": [
    "## Filter data to get 3 and 8 out"
   ]
  },
  {
   "cell_type": "code",
   "execution_count": 9,
   "id": "thousand-acquisition",
   "metadata": {
    "execution": {
     "iopub.execute_input": "2021-03-02T20:04:19.533933Z",
     "iopub.status.busy": "2021-03-02T20:04:19.532142Z",
     "iopub.status.idle": "2021-03-02T20:04:19.546616Z",
     "shell.execute_reply": "2021-03-02T20:04:19.545984Z"
    },
    "papermill": {
     "duration": 0.049922,
     "end_time": "2021-03-02T20:04:19.546740",
     "exception": false,
     "start_time": "2021-03-02T20:04:19.496818",
     "status": "completed"
    },
    "tags": []
   },
   "outputs": [],
   "source": [
    "train_filter = np.where((train_labels == 3 ) | (train_labels == 8))\n",
    "test_filter = np.where((test_labels == 3) | (test_labels == 8))\n",
    "X_train, y_train = train_images[train_filter], train_labels[train_filter]\n",
    "X_test, y_test = test_images[test_filter], test_labels[test_filter]"
   ]
  },
  {
   "cell_type": "markdown",
   "id": "ruled-access",
   "metadata": {
    "papermill": {
     "duration": 0.030741,
     "end_time": "2021-03-02T20:04:19.609011",
     "exception": false,
     "start_time": "2021-03-02T20:04:19.578270",
     "status": "completed"
    },
    "tags": []
   },
   "source": [
    "We normalize the pixel values in the 0 to 1 range"
   ]
  },
  {
   "cell_type": "code",
   "execution_count": 10,
   "id": "isolated-denver",
   "metadata": {
    "execution": {
     "iopub.execute_input": "2021-03-02T20:04:19.688438Z",
     "iopub.status.busy": "2021-03-02T20:04:19.679347Z",
     "iopub.status.idle": "2021-03-02T20:04:19.727600Z",
     "shell.execute_reply": "2021-03-02T20:04:19.726743Z"
    },
    "papermill": {
     "duration": 0.087013,
     "end_time": "2021-03-02T20:04:19.727816",
     "exception": false,
     "start_time": "2021-03-02T20:04:19.640803",
     "status": "completed"
    },
    "tags": []
   },
   "outputs": [],
   "source": [
    "X_train = X_train/255.\n",
    "X_test = X_test/255."
   ]
  },
  {
   "cell_type": "markdown",
   "id": "perfect-summary",
   "metadata": {
    "papermill": {
     "duration": 0.031424,
     "end_time": "2021-03-02T20:04:19.790798",
     "exception": false,
     "start_time": "2021-03-02T20:04:19.759374",
     "status": "completed"
    },
    "tags": []
   },
   "source": [
    "Setup the labels as 1 (when the digit is 3) and 0 (when the digit is 8)"
   ]
  },
  {
   "cell_type": "code",
   "execution_count": 11,
   "id": "personalized-growing",
   "metadata": {
    "execution": {
     "iopub.execute_input": "2021-03-02T20:04:19.860194Z",
     "iopub.status.busy": "2021-03-02T20:04:19.859595Z",
     "iopub.status.idle": "2021-03-02T20:04:19.871600Z",
     "shell.execute_reply": "2021-03-02T20:04:19.871110Z"
    },
    "papermill": {
     "duration": 0.049808,
     "end_time": "2021-03-02T20:04:19.871723",
     "exception": false,
     "start_time": "2021-03-02T20:04:19.821915",
     "status": "completed"
    },
    "tags": []
   },
   "outputs": [],
   "source": [
    "y_train = 1*(y_train==3)\n",
    "y_test = 1*(y_test==3)"
   ]
  },
  {
   "cell_type": "code",
   "execution_count": 12,
   "id": "considered-virgin",
   "metadata": {
    "execution": {
     "iopub.execute_input": "2021-03-02T20:04:19.938263Z",
     "iopub.status.busy": "2021-03-02T20:04:19.937686Z",
     "iopub.status.idle": "2021-03-02T20:04:19.953160Z",
     "shell.execute_reply": "2021-03-02T20:04:19.952660Z"
    },
    "papermill": {
     "duration": 0.050325,
     "end_time": "2021-03-02T20:04:19.953279",
     "exception": false,
     "start_time": "2021-03-02T20:04:19.902954",
     "status": "completed"
    },
    "tags": []
   },
   "outputs": [
    {
     "data": {
      "text/plain": [
       "((11982, 28, 28), (1984, 28, 28))"
      ]
     },
     "execution_count": 12,
     "metadata": {},
     "output_type": "execute_result"
    }
   ],
   "source": [
    "X_train.shape, X_test.shape"
   ]
  },
  {
   "cell_type": "markdown",
   "id": "civilian-mobile",
   "metadata": {
    "papermill": {
     "duration": 0.032788,
     "end_time": "2021-03-02T20:04:20.019821",
     "exception": false,
     "start_time": "2021-03-02T20:04:19.987033",
     "status": "completed"
    },
    "tags": []
   },
   "source": [
    "### Reshape the input data to create a linear array"
   ]
  },
  {
   "cell_type": "code",
   "execution_count": 13,
   "id": "colonial-adams",
   "metadata": {
    "execution": {
     "iopub.execute_input": "2021-03-02T20:04:20.091545Z",
     "iopub.status.busy": "2021-03-02T20:04:20.090989Z",
     "iopub.status.idle": "2021-03-02T20:04:20.104835Z",
     "shell.execute_reply": "2021-03-02T20:04:20.104341Z"
    },
    "papermill": {
     "duration": 0.053508,
     "end_time": "2021-03-02T20:04:20.104953",
     "exception": false,
     "start_time": "2021-03-02T20:04:20.051445",
     "status": "completed"
    },
    "tags": []
   },
   "outputs": [
    {
     "data": {
      "text/plain": [
       "((11982, 784), (1984, 784))"
      ]
     },
     "execution_count": 13,
     "metadata": {},
     "output_type": "execute_result"
    }
   ],
   "source": [
    "X_train = X_train.reshape(X_train.shape[0], -1)\n",
    "X_test = X_test.reshape(X_test.shape[0], -1)\n",
    "X_train.shape, X_test.shape"
   ]
  },
  {
   "cell_type": "markdown",
   "id": "smart-details",
   "metadata": {
    "papermill": {
     "duration": 0.030818,
     "end_time": "2021-03-02T20:04:20.168239",
     "exception": false,
     "start_time": "2021-03-02T20:04:20.137421",
     "status": "completed"
    },
    "tags": []
   },
   "source": [
    "### Importing appropriate functions from 'Kudzu'"
   ]
  },
  {
   "cell_type": "code",
   "execution_count": 14,
   "id": "celtic-trial",
   "metadata": {
    "execution": {
     "iopub.execute_input": "2021-03-02T20:04:20.237090Z",
     "iopub.status.busy": "2021-03-02T20:04:20.236503Z",
     "iopub.status.idle": "2021-03-02T20:04:20.255838Z",
     "shell.execute_reply": "2021-03-02T20:04:20.256254Z"
    },
    "papermill": {
     "duration": 0.05701,
     "end_time": "2021-03-02T20:04:20.256404",
     "exception": false,
     "start_time": "2021-03-02T20:04:20.199394",
     "status": "completed"
    },
    "tags": []
   },
   "outputs": [],
   "source": [
    "from kudzu.layer import Sigmoid\n",
    "from kudzu.layer import Relu\n",
    "from kudzu.layer import Affine, Sigmoid\n",
    "\n",
    "from kudzu.model import Model\n",
    "from kudzu.train import Learner\n",
    "from kudzu.optim import GD\n",
    "from kudzu.data import Data, Dataloader, Sampler\n",
    "\n",
    "from kudzu.callbacks import AccCallback\n",
    "from kudzu.callbacks import ClfCallback\n",
    "\n",
    "from kudzu.loss import MSE"
   ]
  },
  {
   "cell_type": "markdown",
   "id": "coupled-customer",
   "metadata": {
    "papermill": {
     "duration": 0.032099,
     "end_time": "2021-03-02T20:04:20.325739",
     "exception": false,
     "start_time": "2021-03-02T20:04:20.293640",
     "status": "completed"
    },
    "tags": []
   },
   "source": [
    "### Let us create a `Config` class, to store important parameters. \n",
    "This class essentially plays the role of a dictionary."
   ]
  },
  {
   "cell_type": "code",
   "execution_count": 15,
   "id": "young-ceiling",
   "metadata": {
    "execution": {
     "iopub.execute_input": "2021-03-02T20:04:20.393239Z",
     "iopub.status.busy": "2021-03-02T20:04:20.392768Z",
     "iopub.status.idle": "2021-03-02T20:04:20.407673Z",
     "shell.execute_reply": "2021-03-02T20:04:20.407232Z"
    },
    "papermill": {
     "duration": 0.050459,
     "end_time": "2021-03-02T20:04:20.407789",
     "exception": false,
     "start_time": "2021-03-02T20:04:20.357330",
     "status": "completed"
    },
    "tags": []
   },
   "outputs": [],
   "source": [
    "class Config:\n",
    "    pass\n",
    "config = Config()\n",
    "config.lr = 0.001\n",
    "config.num_epochs = 251\n",
    "config.bs = 50"
   ]
  },
  {
   "cell_type": "markdown",
   "id": "according-mandate",
   "metadata": {
    "papermill": {
     "duration": 0.030412,
     "end_time": "2021-03-02T20:04:20.469697",
     "exception": false,
     "start_time": "2021-03-02T20:04:20.439285",
     "status": "completed"
    },
    "tags": []
   },
   "source": [
    "### Initializing data to the variables"
   ]
  },
  {
   "cell_type": "code",
   "execution_count": 16,
   "id": "academic-disposition",
   "metadata": {
    "execution": {
     "iopub.execute_input": "2021-03-02T20:04:20.538001Z",
     "iopub.status.busy": "2021-03-02T20:04:20.537456Z",
     "iopub.status.idle": "2021-03-02T20:04:20.552419Z",
     "shell.execute_reply": "2021-03-02T20:04:20.551912Z"
    },
    "papermill": {
     "duration": 0.051682,
     "end_time": "2021-03-02T20:04:20.552536",
     "exception": false,
     "start_time": "2021-03-02T20:04:20.500854",
     "status": "completed"
    },
    "tags": []
   },
   "outputs": [],
   "source": [
    "data = Data(X_train, y_train.reshape(-1,1))\n",
    "sampler = Sampler(data, config.bs, shuffle=True)\n",
    "\n",
    "dl = Dataloader(data, sampler)\n",
    "\n",
    "opt = GD(config.lr)\n",
    "loss = MSE()"
   ]
  },
  {
   "cell_type": "code",
   "execution_count": 17,
   "id": "featured-commission",
   "metadata": {
    "execution": {
     "iopub.execute_input": "2021-03-02T20:04:20.620399Z",
     "iopub.status.busy": "2021-03-02T20:04:20.619861Z",
     "iopub.status.idle": "2021-03-02T20:04:20.632438Z",
     "shell.execute_reply": "2021-03-02T20:04:20.631977Z"
    },
    "papermill": {
     "duration": 0.048394,
     "end_time": "2021-03-02T20:04:20.632569",
     "exception": false,
     "start_time": "2021-03-02T20:04:20.584175",
     "status": "completed"
    },
    "tags": []
   },
   "outputs": [],
   "source": [
    "training_xdata = X_train\n",
    "testing_xdata = X_test\n",
    "training_ydata = y_train.reshape(-1,1)\n",
    "testing_ydata = y_test.reshape(-1,1)"
   ]
  },
  {
   "cell_type": "markdown",
   "id": "played-safety",
   "metadata": {
    "papermill": {
     "duration": 0.034076,
     "end_time": "2021-03-02T20:04:20.699097",
     "exception": false,
     "start_time": "2021-03-02T20:04:20.665021",
     "status": "completed"
    },
    "tags": []
   },
   "source": [
    "### Running Models with the Training data\n",
    "Details about the network layers:\n",
    "- A first affine layer has 784 inputs and does 100 affine transforms. These are followed by a Relu\n",
    "- A second affine layer has 100 inputs from the 100 activations of the past layer, and does 100 affine transforms. These are followed by a Relu\n",
    "- A third affine layer has 100 activations and does 2 affine transformations to create an embedding for visualization. There is no non-linearity here.\n",
    "- A final \"logistic regression\" which has an affine transform from 2 inputs to 1 output, which is squeezed through a sigmoid.\n",
    "\n",
    "Help taken from Anshuman's Notebook."
   ]
  },
  {
   "cell_type": "code",
   "execution_count": 18,
   "id": "asian-bankruptcy",
   "metadata": {
    "execution": {
     "iopub.execute_input": "2021-03-02T20:04:20.772073Z",
     "iopub.status.busy": "2021-03-02T20:04:20.771460Z",
     "iopub.status.idle": "2021-03-02T20:04:20.788660Z",
     "shell.execute_reply": "2021-03-02T20:04:20.789153Z"
    },
    "papermill": {
     "duration": 0.058152,
     "end_time": "2021-03-02T20:04:20.789296",
     "exception": false,
     "start_time": "2021-03-02T20:04:20.731144",
     "status": "completed"
    },
    "tags": []
   },
   "outputs": [],
   "source": [
    "# layers for the Neural Network\n",
    "layers = [Affine(\"first\", 784, 100), Relu(\"first\"), Affine(\"second\", 100, 100), Relu(\"second\"), Affine(\"third\", 100, 2), Affine(\"final\", 2, 1), Sigmoid(\"final\")]\n",
    "model_nn = Model(layers)\n",
    "\n",
    "# layers for the Logistic Regression\n",
    "layers_lr = [Affine(\"logits\", 784, 1), Sigmoid(\"sigmoid\")]\n",
    "model_lr = Model(layers_lr)"
   ]
  },
  {
   "cell_type": "code",
   "execution_count": 19,
   "id": "removed-butler",
   "metadata": {
    "execution": {
     "iopub.execute_input": "2021-03-02T20:04:20.856719Z",
     "iopub.status.busy": "2021-03-02T20:04:20.856136Z",
     "iopub.status.idle": "2021-03-02T20:04:20.868916Z",
     "shell.execute_reply": "2021-03-02T20:04:20.868444Z"
    },
    "papermill": {
     "duration": 0.048158,
     "end_time": "2021-03-02T20:04:20.869036",
     "exception": false,
     "start_time": "2021-03-02T20:04:20.820878",
     "status": "completed"
    },
    "tags": []
   },
   "outputs": [],
   "source": [
    "# suffix _nn stands for Neural Network.\n",
    "learner_nn = Learner(loss, model_nn, opt, config.num_epochs)\n",
    "acc_nn = ClfCallback(learner_nn, config.bs, training_xdata , testing_xdata, training_ydata, testing_ydata)\n",
    "learner_nn.set_callbacks([acc_nn])"
   ]
  },
  {
   "cell_type": "code",
   "execution_count": 20,
   "id": "conceptual-throw",
   "metadata": {
    "execution": {
     "iopub.execute_input": "2021-03-02T20:04:20.937903Z",
     "iopub.status.busy": "2021-03-02T20:04:20.936321Z",
     "iopub.status.idle": "2021-03-02T20:05:48.529595Z",
     "shell.execute_reply": "2021-03-02T20:05:48.530408Z"
    },
    "papermill": {
     "duration": 87.62883,
     "end_time": "2021-03-02T20:05:48.530565",
     "exception": false,
     "start_time": "2021-03-02T20:04:20.901735",
     "status": "completed"
    },
    "tags": []
   },
   "outputs": [
    {
     "name": "stdout",
     "output_type": "stream",
     "text": [
      "====== Neural Network ======\n"
     ]
    },
    {
     "name": "stdout",
     "output_type": "stream",
     "text": [
      "Epoch 0, Loss 0.2248\n",
      "Training Accuracy: 0.7976, Testing Accuracy: 0.8165\n",
      "\n"
     ]
    },
    {
     "name": "stdout",
     "output_type": "stream",
     "text": [
      "Epoch 10, Loss 0.0566\n",
      "Training Accuracy: 0.9430, Testing Accuracy: 0.9536\n",
      "\n"
     ]
    },
    {
     "name": "stdout",
     "output_type": "stream",
     "text": [
      "Epoch 20, Loss 0.0399\n",
      "Training Accuracy: 0.9567, Testing Accuracy: 0.9662\n",
      "\n"
     ]
    },
    {
     "name": "stdout",
     "output_type": "stream",
     "text": [
      "Epoch 30, Loss 0.0332\n",
      "Training Accuracy: 0.9623, Testing Accuracy: 0.9708\n",
      "\n"
     ]
    },
    {
     "name": "stdout",
     "output_type": "stream",
     "text": [
      "Epoch 40, Loss 0.0295\n",
      "Training Accuracy: 0.9674, Testing Accuracy: 0.9748\n",
      "\n"
     ]
    },
    {
     "name": "stdout",
     "output_type": "stream",
     "text": [
      "Epoch 50, Loss 0.027\n",
      "Training Accuracy: 0.9699, Testing Accuracy: 0.9758\n",
      "\n"
     ]
    },
    {
     "name": "stdout",
     "output_type": "stream",
     "text": [
      "Epoch 60, Loss 0.0252\n",
      "Training Accuracy: 0.9721, Testing Accuracy: 0.9763\n",
      "\n"
     ]
    },
    {
     "name": "stdout",
     "output_type": "stream",
     "text": [
      "Epoch 70, Loss 0.0238\n",
      "Training Accuracy: 0.9735, Testing Accuracy: 0.9773\n",
      "\n"
     ]
    },
    {
     "name": "stdout",
     "output_type": "stream",
     "text": [
      "Epoch 80, Loss 0.0226\n",
      "Training Accuracy: 0.9748, Testing Accuracy: 0.9773\n",
      "\n"
     ]
    },
    {
     "name": "stdout",
     "output_type": "stream",
     "text": [
      "Epoch 90, Loss 0.0216\n",
      "Training Accuracy: 0.9755, Testing Accuracy: 0.9778\n",
      "\n"
     ]
    },
    {
     "name": "stdout",
     "output_type": "stream",
     "text": [
      "Epoch 100, Loss 0.0207\n",
      "Training Accuracy: 0.9770, Testing Accuracy: 0.9788\n",
      "\n"
     ]
    },
    {
     "name": "stdout",
     "output_type": "stream",
     "text": [
      "Epoch 110, Loss 0.02\n",
      "Training Accuracy: 0.9783, Testing Accuracy: 0.9783\n",
      "\n"
     ]
    },
    {
     "name": "stdout",
     "output_type": "stream",
     "text": [
      "Epoch 120, Loss 0.0193\n",
      "Training Accuracy: 0.9796, Testing Accuracy: 0.9788\n",
      "\n"
     ]
    },
    {
     "name": "stdout",
     "output_type": "stream",
     "text": [
      "Epoch 130, Loss 0.0186\n",
      "Training Accuracy: 0.9803, Testing Accuracy: 0.9788\n",
      "\n"
     ]
    },
    {
     "name": "stdout",
     "output_type": "stream",
     "text": [
      "Epoch 140, Loss 0.018\n",
      "Training Accuracy: 0.9808, Testing Accuracy: 0.9788\n",
      "\n"
     ]
    },
    {
     "name": "stdout",
     "output_type": "stream",
     "text": [
      "Epoch 150, Loss 0.0175\n",
      "Training Accuracy: 0.9815, Testing Accuracy: 0.9783\n",
      "\n"
     ]
    },
    {
     "name": "stdout",
     "output_type": "stream",
     "text": [
      "Epoch 160, Loss 0.017\n",
      "Training Accuracy: 0.9822, Testing Accuracy: 0.9783\n",
      "\n"
     ]
    },
    {
     "name": "stdout",
     "output_type": "stream",
     "text": [
      "Epoch 170, Loss 0.0165\n",
      "Training Accuracy: 0.9827, Testing Accuracy: 0.9783\n",
      "\n"
     ]
    },
    {
     "name": "stdout",
     "output_type": "stream",
     "text": [
      "Epoch 180, Loss 0.016\n",
      "Training Accuracy: 0.9830, Testing Accuracy: 0.9778\n",
      "\n"
     ]
    },
    {
     "name": "stdout",
     "output_type": "stream",
     "text": [
      "Epoch 190, Loss 0.0156\n",
      "Training Accuracy: 0.9836, Testing Accuracy: 0.9773\n",
      "\n"
     ]
    },
    {
     "name": "stdout",
     "output_type": "stream",
     "text": [
      "Epoch 200, Loss 0.0152\n",
      "Training Accuracy: 0.9842, Testing Accuracy: 0.9773\n",
      "\n"
     ]
    },
    {
     "name": "stdout",
     "output_type": "stream",
     "text": [
      "Epoch 210, Loss 0.0148\n",
      "Training Accuracy: 0.9848, Testing Accuracy: 0.9778\n",
      "\n"
     ]
    },
    {
     "name": "stdout",
     "output_type": "stream",
     "text": [
      "Epoch 220, Loss 0.0144\n",
      "Training Accuracy: 0.9851, Testing Accuracy: 0.9778\n",
      "\n"
     ]
    },
    {
     "name": "stdout",
     "output_type": "stream",
     "text": [
      "Epoch 230, Loss 0.014\n",
      "Training Accuracy: 0.9857, Testing Accuracy: 0.9778\n",
      "\n"
     ]
    },
    {
     "name": "stdout",
     "output_type": "stream",
     "text": [
      "Epoch 240, Loss 0.0137\n",
      "Training Accuracy: 0.9862, Testing Accuracy: 0.9783\n",
      "\n"
     ]
    },
    {
     "name": "stdout",
     "output_type": "stream",
     "text": [
      "Epoch 250, Loss 0.0133\n",
      "Training Accuracy: 0.9866, Testing Accuracy: 0.9778\n",
      "\n"
     ]
    },
    {
     "data": {
      "text/plain": [
       "0.0034507931809926846"
      ]
     },
     "execution_count": 20,
     "metadata": {},
     "output_type": "execute_result"
    }
   ],
   "source": [
    "print(\"====== Neural Network ======\")\n",
    "learner_nn.train_loop(dl)"
   ]
  },
  {
   "cell_type": "markdown",
   "id": "competent-suffering",
   "metadata": {
    "papermill": {
     "duration": 0.039937,
     "end_time": "2021-03-02T20:05:48.611840",
     "exception": false,
     "start_time": "2021-03-02T20:05:48.571903",
     "status": "completed"
    },
    "tags": []
   },
   "source": [
    "### Logistic Regression based Implementation."
   ]
  },
  {
   "cell_type": "code",
   "execution_count": 21,
   "id": "qualified-psychiatry",
   "metadata": {
    "execution": {
     "iopub.execute_input": "2021-03-02T20:05:48.697572Z",
     "iopub.status.busy": "2021-03-02T20:05:48.696475Z",
     "iopub.status.idle": "2021-03-02T20:05:48.708599Z",
     "shell.execute_reply": "2021-03-02T20:05:48.707765Z"
    },
    "papermill": {
     "duration": 0.0572,
     "end_time": "2021-03-02T20:05:48.708737",
     "exception": false,
     "start_time": "2021-03-02T20:05:48.651537",
     "status": "completed"
    },
    "tags": []
   },
   "outputs": [],
   "source": [
    "learner_lr = Learner(loss, model_lr, opt, config.num_epochs)\n",
    "acc_lr = ClfCallback(learner_lr, config.bs, training_xdata , testing_xdata, training_ydata, testing_ydata)\n",
    "learner_lr.set_callbacks([acc_lr])"
   ]
  },
  {
   "cell_type": "code",
   "execution_count": 22,
   "id": "average-outside",
   "metadata": {
    "execution": {
     "iopub.execute_input": "2021-03-02T20:05:48.795084Z",
     "iopub.status.busy": "2021-03-02T20:05:48.794478Z",
     "iopub.status.idle": "2021-03-02T20:06:05.133510Z",
     "shell.execute_reply": "2021-03-02T20:06:05.134305Z"
    },
    "papermill": {
     "duration": 16.384381,
     "end_time": "2021-03-02T20:06:05.134483",
     "exception": false,
     "start_time": "2021-03-02T20:05:48.750102",
     "status": "completed"
    },
    "tags": []
   },
   "outputs": [
    {
     "name": "stdout",
     "output_type": "stream",
     "text": [
      "====== Logistic Regression ======\n",
      "Epoch 0, Loss 0.2317\n",
      "Training Accuracy: 0.7387, Testing Accuracy: 0.7661\n",
      "\n"
     ]
    },
    {
     "name": "stdout",
     "output_type": "stream",
     "text": [
      "Epoch 10, Loss 0.0998\n",
      "Training Accuracy: 0.9163, Testing Accuracy: 0.9309\n",
      "\n"
     ]
    },
    {
     "name": "stdout",
     "output_type": "stream",
     "text": [
      "Epoch 20, Loss 0.0778\n",
      "Training Accuracy: 0.9296, Testing Accuracy: 0.9461\n",
      "\n"
     ]
    },
    {
     "name": "stdout",
     "output_type": "stream",
     "text": [
      "Epoch 30, Loss 0.0675\n",
      "Training Accuracy: 0.9378, Testing Accuracy: 0.9536\n",
      "\n"
     ]
    },
    {
     "name": "stdout",
     "output_type": "stream",
     "text": [
      "Epoch 40, Loss 0.0613\n",
      "Training Accuracy: 0.9417, Testing Accuracy: 0.9556\n",
      "\n"
     ]
    },
    {
     "name": "stdout",
     "output_type": "stream",
     "text": [
      "Epoch 50, Loss 0.0569\n",
      "Training Accuracy: 0.9453, Testing Accuracy: 0.9572\n",
      "\n"
     ]
    },
    {
     "name": "stdout",
     "output_type": "stream",
     "text": [
      "Epoch 60, Loss 0.0537\n",
      "Training Accuracy: 0.9489, Testing Accuracy: 0.9577\n",
      "\n"
     ]
    },
    {
     "name": "stdout",
     "output_type": "stream",
     "text": [
      "Epoch 70, Loss 0.0512\n",
      "Training Accuracy: 0.9509, Testing Accuracy: 0.9602\n",
      "\n"
     ]
    },
    {
     "name": "stdout",
     "output_type": "stream",
     "text": [
      "Epoch 80, Loss 0.0492\n",
      "Training Accuracy: 0.9523, Testing Accuracy: 0.9607\n",
      "\n"
     ]
    },
    {
     "name": "stdout",
     "output_type": "stream",
     "text": [
      "Epoch 90, Loss 0.0476\n",
      "Training Accuracy: 0.9533, Testing Accuracy: 0.9607\n",
      "\n"
     ]
    },
    {
     "name": "stdout",
     "output_type": "stream",
     "text": [
      "Epoch 100, Loss 0.0462\n",
      "Training Accuracy: 0.9538, Testing Accuracy: 0.9617\n",
      "\n"
     ]
    },
    {
     "name": "stdout",
     "output_type": "stream",
     "text": [
      "Epoch 110, Loss 0.0449\n",
      "Training Accuracy: 0.9545, Testing Accuracy: 0.9612\n",
      "\n"
     ]
    },
    {
     "name": "stdout",
     "output_type": "stream",
     "text": [
      "Epoch 120, Loss 0.0439\n",
      "Training Accuracy: 0.9549, Testing Accuracy: 0.9627\n",
      "\n"
     ]
    },
    {
     "name": "stdout",
     "output_type": "stream",
     "text": [
      "Epoch 130, Loss 0.043\n",
      "Training Accuracy: 0.9553, Testing Accuracy: 0.9642\n",
      "\n"
     ]
    },
    {
     "name": "stdout",
     "output_type": "stream",
     "text": [
      "Epoch 140, Loss 0.0421\n",
      "Training Accuracy: 0.9559, Testing Accuracy: 0.9652\n",
      "\n"
     ]
    },
    {
     "name": "stdout",
     "output_type": "stream",
     "text": [
      "Epoch 150, Loss 0.0414\n",
      "Training Accuracy: 0.9566, Testing Accuracy: 0.9657\n",
      "\n"
     ]
    },
    {
     "name": "stdout",
     "output_type": "stream",
     "text": [
      "Epoch 160, Loss 0.0407\n",
      "Training Accuracy: 0.9574, Testing Accuracy: 0.9662\n",
      "\n"
     ]
    },
    {
     "name": "stdout",
     "output_type": "stream",
     "text": [
      "Epoch 170, Loss 0.0401\n",
      "Training Accuracy: 0.9581, Testing Accuracy: 0.9672\n",
      "\n"
     ]
    },
    {
     "name": "stdout",
     "output_type": "stream",
     "text": [
      "Epoch 180, Loss 0.0395\n",
      "Training Accuracy: 0.9586, Testing Accuracy: 0.9672\n",
      "\n"
     ]
    },
    {
     "name": "stdout",
     "output_type": "stream",
     "text": [
      "Epoch 190, Loss 0.039\n",
      "Training Accuracy: 0.9591, Testing Accuracy: 0.9672\n",
      "\n"
     ]
    },
    {
     "name": "stdout",
     "output_type": "stream",
     "text": [
      "Epoch 200, Loss 0.0385\n",
      "Training Accuracy: 0.9594, Testing Accuracy: 0.9672\n",
      "\n"
     ]
    },
    {
     "name": "stdout",
     "output_type": "stream",
     "text": [
      "Epoch 210, Loss 0.0381\n",
      "Training Accuracy: 0.9599, Testing Accuracy: 0.9672\n",
      "\n"
     ]
    },
    {
     "name": "stdout",
     "output_type": "stream",
     "text": [
      "Epoch 220, Loss 0.0377\n",
      "Training Accuracy: 0.9600, Testing Accuracy: 0.9677\n",
      "\n"
     ]
    },
    {
     "name": "stdout",
     "output_type": "stream",
     "text": [
      "Epoch 230, Loss 0.0373\n",
      "Training Accuracy: 0.9606, Testing Accuracy: 0.9677\n",
      "\n"
     ]
    },
    {
     "name": "stdout",
     "output_type": "stream",
     "text": [
      "Epoch 240, Loss 0.0369\n",
      "Training Accuracy: 0.9609, Testing Accuracy: 0.9677\n",
      "\n"
     ]
    },
    {
     "name": "stdout",
     "output_type": "stream",
     "text": [
      "Epoch 250, Loss 0.0366\n",
      "Training Accuracy: 0.9612, Testing Accuracy: 0.9677\n",
      "\n"
     ]
    },
    {
     "data": {
      "text/plain": [
       "0.02265289065357242"
      ]
     },
     "execution_count": 22,
     "metadata": {},
     "output_type": "execute_result"
    }
   ],
   "source": [
    "print(\"====== Logistic Regression ======\")\n",
    "learner_lr.train_loop(dl)"
   ]
  },
  {
   "cell_type": "markdown",
   "id": "adjusted-possible",
   "metadata": {
    "papermill": {
     "duration": 0.047458,
     "end_time": "2021-03-02T20:06:05.230292",
     "exception": false,
     "start_time": "2021-03-02T20:06:05.182834",
     "status": "completed"
    },
    "tags": []
   },
   "source": [
    "### Comparing results of NN and LR"
   ]
  },
  {
   "cell_type": "code",
   "execution_count": 23,
   "id": "mental-multimedia",
   "metadata": {
    "execution": {
     "iopub.execute_input": "2021-03-02T20:06:05.337090Z",
     "iopub.status.busy": "2021-03-02T20:06:05.333174Z",
     "iopub.status.idle": "2021-03-02T20:06:05.574099Z",
     "shell.execute_reply": "2021-03-02T20:06:05.573566Z"
    },
    "papermill": {
     "duration": 0.29641,
     "end_time": "2021-03-02T20:06:05.574229",
     "exception": false,
     "start_time": "2021-03-02T20:06:05.277819",
     "status": "completed"
    },
    "tags": []
   },
   "outputs": [
    {
     "data": {
      "text/plain": [
       "<matplotlib.legend.Legend at 0x7f75025ed128>"
      ]
     },
     "execution_count": 23,
     "metadata": {},
     "output_type": "execute_result"
    },
    {
     "data": {
      "image/png": "[encoded data removed]",
      "text/plain": [
       "<Figure size 1080x720 with 1 Axes>"
      ]
     },
     "metadata": {
      "needs_background": "light"
     },
     "output_type": "display_data"
    }
   ],
   "source": [
    "plt.figure(figsize=(15,10))\n",
    "\n",
    "# Neural Network plots\n",
    "plt.plot(acc_nn.accuracies, 'r-', label = \"Training Accuracies - NN\")\n",
    "plt.plot(acc_nn.test_accuracies, 'g-', label = \"Testing Accuracies - NN\")\n",
    "\n",
    "# Logistic Regression plots\n",
    "plt.plot(acc_lr.accuracies, 'k-', label = \"Training Accuracies - LR\")\n",
    "plt.plot(acc_lr.test_accuracies, 'b-', label = \"Testing Accuracies - LR\")\n",
    "\n",
    "plt.ylim(0.8, 1)\n",
    "\n",
    "plt.legend()\n",
    "\n"
   ]
  },
  {
   "cell_type": "markdown",
   "id": "sexual-flesh",
   "metadata": {
    "papermill": {
     "duration": 0.05,
     "end_time": "2021-03-02T20:06:05.674489",
     "exception": false,
     "start_time": "2021-03-02T20:06:05.624489",
     "status": "completed"
    },
    "tags": []
   },
   "source": [
    "### From the plot, we can observe the following:\n",
    "- Neural Network achieves higher accuracy than the Logistic Regression model.\n",
    "- This apparently, is because of overfitting, i.e. NN captures more noise than data.\n",
    "- Testing accuracy of NN drops below the Training accuracy at higher epochs. This explains the over-fitting on training data.\n",
    "- Logistic Regression gives a reliable accuracy, without the above mentioned problem.\n"
   ]
  },
  {
   "cell_type": "markdown",
   "id": "institutional-pacific",
   "metadata": {
    "papermill": {
     "duration": 0.049654,
     "end_time": "2021-03-02T20:06:05.773859",
     "exception": false,
     "start_time": "2021-03-02T20:06:05.724205",
     "status": "completed"
    },
    "tags": []
   },
   "source": [
    "### Moving till the last but one layer (excluding it).\n",
    "#### Plotting the outputs of this layer of the NN."
   ]
  },
  {
   "cell_type": "code",
   "execution_count": 24,
   "id": "economic-server",
   "metadata": {
    "execution": {
     "iopub.execute_input": "2021-03-02T20:06:05.879188Z",
     "iopub.status.busy": "2021-03-02T20:06:05.878584Z",
     "iopub.status.idle": "2021-03-02T20:06:05.894205Z",
     "shell.execute_reply": "2021-03-02T20:06:05.894718Z"
    },
    "papermill": {
     "duration": 0.07127,
     "end_time": "2021-03-02T20:06:05.894870",
     "exception": false,
     "start_time": "2021-03-02T20:06:05.823600",
     "status": "completed"
    },
    "tags": []
   },
   "outputs": [],
   "source": [
    "model_new = Model(layers[:-2])"
   ]
  },
  {
   "cell_type": "code",
   "execution_count": 25,
   "id": "varied-upgrade",
   "metadata": {
    "execution": {
     "iopub.execute_input": "2021-03-02T20:06:05.998718Z",
     "iopub.status.busy": "2021-03-02T20:06:05.998109Z",
     "iopub.status.idle": "2021-03-02T20:06:06.020864Z",
     "shell.execute_reply": "2021-03-02T20:06:06.021352Z"
    },
    "papermill": {
     "duration": 0.076514,
     "end_time": "2021-03-02T20:06:06.021496",
     "exception": false,
     "start_time": "2021-03-02T20:06:05.944982",
     "status": "completed"
    },
    "tags": []
   },
   "outputs": [],
   "source": [
    "plot_testing = model_new(testing_xdata)"
   ]
  },
  {
   "cell_type": "code",
   "execution_count": 26,
   "id": "specific-handling",
   "metadata": {
    "execution": {
     "iopub.execute_input": "2021-03-02T20:06:06.127653Z",
     "iopub.status.busy": "2021-03-02T20:06:06.127041Z",
     "iopub.status.idle": "2021-03-02T20:06:06.357041Z",
     "shell.execute_reply": "2021-03-02T20:06:06.357494Z"
    },
    "papermill": {
     "duration": 0.286154,
     "end_time": "2021-03-02T20:06:06.357647",
     "exception": false,
     "start_time": "2021-03-02T20:06:06.071493",
     "status": "completed"
    },
    "tags": []
   },
   "outputs": [
    {
     "data": {
      "text/plain": [
       "Text(0.5, 1.0, 'Outputs')"
      ]
     },
     "execution_count": 26,
     "metadata": {},
     "output_type": "execute_result"
    },
    {
     "data": {
      "image/png": "[encoded data removed]",
      "text/plain": [
       "<Figure size 576x504 with 1 Axes>"
      ]
     },
     "metadata": {
      "needs_background": "light"
     },
     "output_type": "display_data"
    }
   ],
   "source": [
    "plt.figure(figsize=(8,7))\n",
    "plt.scatter(plot_testing[:,0], plot_testing[:,1], alpha = 0.1, c = y_test.ravel());\n",
    "plt.title('Outputs')"
   ]
  },
  {
   "cell_type": "markdown",
   "id": "described-knowing",
   "metadata": {
    "papermill": {
     "duration": 0.053067,
     "end_time": "2021-03-02T20:06:06.464635",
     "exception": false,
     "start_time": "2021-03-02T20:06:06.411568",
     "status": "completed"
    },
    "tags": []
   },
   "source": [
    "### Plotting probability contours"
   ]
  },
  {
   "cell_type": "code",
   "execution_count": 27,
   "id": "needed-growing",
   "metadata": {
    "execution": {
     "iopub.execute_input": "2021-03-02T20:06:06.576007Z",
     "iopub.status.busy": "2021-03-02T20:06:06.575416Z",
     "iopub.status.idle": "2021-03-02T20:06:06.588848Z",
     "shell.execute_reply": "2021-03-02T20:06:06.588349Z"
    },
    "papermill": {
     "duration": 0.071122,
     "end_time": "2021-03-02T20:06:06.588972",
     "exception": false,
     "start_time": "2021-03-02T20:06:06.517850",
     "status": "completed"
    },
    "tags": []
   },
   "outputs": [],
   "source": [
    "model_prob = Model(layers[-2:]) "
   ]
  },
  {
   "cell_type": "code",
   "execution_count": 28,
   "id": "introductory-enforcement",
   "metadata": {
    "execution": {
     "iopub.execute_input": "2021-03-02T20:06:06.699865Z",
     "iopub.status.busy": "2021-03-02T20:06:06.699294Z",
     "iopub.status.idle": "2021-03-02T20:06:06.713854Z",
     "shell.execute_reply": "2021-03-02T20:06:06.714300Z"
    },
    "papermill": {
     "duration": 0.072795,
     "end_time": "2021-03-02T20:06:06.714476",
     "exception": false,
     "start_time": "2021-03-02T20:06:06.641681",
     "status": "completed"
    },
    "tags": []
   },
   "outputs": [],
   "source": [
    "# Adjust the x and y ranges according to the above generated plot.\n",
    "x_range = np.linspace(-4, 1, 100) \n",
    "y_range = np.linspace(-6, 6, 100) \n",
    "x_grid, y_grid = np.meshgrid(x_range, y_range) # x_grid and y_grig are of size 100 X 100\n",
    "\n",
    "# converting x_grid and y_grid to continuous arrays\n",
    "x_grid_flat = np.ravel(x_grid)\n",
    "y_grid_flat = np.ravel(y_grid)\n",
    "\n",
    "# The last layer of the current model takes two columns as input. Hence transpose of np.vstack() is required.\n",
    "X = np.vstack((x_grid_flat, y_grid_flat)).T\n",
    "\n",
    "# x_grid and y_grid are of size 100 x 100\n",
    "probability_contour = model_prob(X).reshape(100,100) "
   ]
  },
  {
   "cell_type": "code",
   "execution_count": 29,
   "id": "understood-landing",
   "metadata": {
    "execution": {
     "iopub.execute_input": "2021-03-02T20:06:06.854885Z",
     "iopub.status.busy": "2021-03-02T20:06:06.854287Z",
     "iopub.status.idle": "2021-03-02T20:06:07.097912Z",
     "shell.execute_reply": "2021-03-02T20:06:07.098376Z"
    },
    "papermill": {
     "duration": 0.300015,
     "end_time": "2021-03-02T20:06:07.098561",
     "exception": false,
     "start_time": "2021-03-02T20:06:06.798546",
     "status": "completed"
    },
    "tags": []
   },
   "outputs": [
    {
     "data": {
      "image/png": "[encoded data removed]",
      "text/plain": [
       "<Figure size 720x648 with 1 Axes>"
      ]
     },
     "metadata": {
      "needs_background": "light"
     },
     "output_type": "display_data"
    }
   ],
   "source": [
    "plt.figure(figsize=(10,9))\n",
    "plt.scatter(plot_testing[:,0], plot_testing[:,1], alpha = 0.1, c = y_test.ravel())\n",
    "contours = plt.contour(x_grid,y_grid,probability_contour)\n",
    "plt.title('Probability Contours')\n",
    "plt.clabel(contours, inline = True );"
   ]
  }
 ],
 "metadata": {
  "kernelspec": {
   "display_name": "Python 3",
   "language": "python",
   "name": "python3"
  },
  "language_info": {
   "codemirror_mode": {
    "name": "ipython",
    "version": 3
   },
   "file_extension": ".py",
   "mimetype": "text/x-python",
   "name": "python",
   "nbconvert_exporter": "python",
   "pygments_lexer": "ipython3",
   "version": "3.6.13"
  },
  "papermill": {
   "duration": 114.090276,
   "end_time": "2021-03-02T20:06:07.560805",
   "environment_variables": {},
   "exception": null,
   "input_path": "2020-08-11-NeuralNetwork.ipynb",
   "output_path": "2020-08-11-NeuralNetwork.ipynb",
   "parameters": {},
   "start_time": "2021-03-02T20:04:13.470529",
   "version": "2.1.2"
  }
 },
 "nbformat": 4,
 "nbformat_minor": 5
}