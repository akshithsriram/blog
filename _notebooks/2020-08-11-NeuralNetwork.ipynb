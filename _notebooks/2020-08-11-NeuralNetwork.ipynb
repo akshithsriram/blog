{
 "cells": [
  {
   "cell_type": "markdown",
   "metadata": {
    "papermill": {
     "duration": 0.026423,
     "end_time": "2020-09-17T10:05:05.579602",
     "exception": false,
     "start_time": "2020-09-17T10:05:05.553179",
     "status": "completed"
    },
    "tags": []
   },
   "source": [
    "# \"A Basic Neural Network: Differentiate Hand-Written Digits\"\n",
    "\n",
    "- badges: true\n",
    "- author: Akshith Sriram"
   ]
  },
  {
   "cell_type": "markdown",
   "metadata": {
    "papermill": {
     "duration": 0.02235,
     "end_time": "2020-09-17T10:05:05.624779",
     "exception": false,
     "start_time": "2020-09-17T10:05:05.602429",
     "status": "completed"
    },
    "tags": []
   },
   "source": [
    "### Key Objectives:\n",
    "- Building a neural network that differentiates two hand-written digits 3 and 8.\n",
    "- Comparing the results of this Neural Network (NN) to that of a Logistic Regression (LR) model.\n",
    "\n",
    "### Requirements:\n",
    "- 'Kudzu' : A neural network library that was designed during our course by [Univ.AI](www.univ.ai). \n",
    "- MNIST Database\n",
    "\n",
    "If MNIST is not installed, use the command `!pip install mnist` given below.\n",
    "It can be run both from the command line and Jupyter Notebook."
   ]
  },
  {
   "cell_type": "code",
   "execution_count": 1,
   "metadata": {
    "execution": {
     "iopub.execute_input": "2020-09-17T10:05:05.676719Z",
     "iopub.status.busy": "2020-09-17T10:05:05.676138Z",
     "iopub.status.idle": "2020-09-17T10:05:07.045524Z",
     "shell.execute_reply": "2020-09-17T10:05:07.045037Z"
    },
    "papermill": {
     "duration": 1.397702,
     "end_time": "2020-09-17T10:05:07.045665",
     "exception": false,
     "start_time": "2020-09-17T10:05:05.647963",
     "status": "completed"
    },
    "tags": []
   },
   "outputs": [
    {
     "name": "stdout",
     "output_type": "stream",
     "text": [
      "Collecting mnist\r\n"
     ]
    },
    {
     "name": "stdout",
     "output_type": "stream",
     "text": [
      "  Downloading mnist-0.2.2-py2.py3-none-any.whl (3.5 kB)\r\n",
      "Requirement already satisfied: numpy in /opt/hostedtoolcache/Python/3.6.12/x64/lib/python3.6/site-packages (from mnist) (1.19.2)\r\n"
     ]
    },
    {
     "name": "stdout",
     "output_type": "stream",
     "text": [
      "Installing collected packages: mnist\r\n"
     ]
    },
    {
     "name": "stdout",
     "output_type": "stream",
     "text": [
      "Successfully installed mnist-0.2.2\r\n"
     ]
    }
   ],
   "source": [
    "!pip install mnist "
   ]
  },
  {
   "cell_type": "markdown",
   "metadata": {
    "papermill": {
     "duration": 0.024508,
     "end_time": "2020-09-17T10:05:07.094564",
     "exception": false,
     "start_time": "2020-09-17T10:05:07.070056",
     "status": "completed"
    },
    "tags": []
   },
   "source": [
    "#### Importing necessary libraries"
   ]
  },
  {
   "cell_type": "code",
   "execution_count": 2,
   "metadata": {
    "execution": {
     "iopub.execute_input": "2020-09-17T10:05:07.150030Z",
     "iopub.status.busy": "2020-09-17T10:05:07.149470Z",
     "iopub.status.idle": "2020-09-17T10:05:07.694356Z",
     "shell.execute_reply": "2020-09-17T10:05:07.693879Z"
    },
    "papermill": {
     "duration": 0.576066,
     "end_time": "2020-09-17T10:05:07.694486",
     "exception": false,
     "start_time": "2020-09-17T10:05:07.118420",
     "status": "completed"
    },
    "tags": []
   },
   "outputs": [],
   "source": [
    "%load_ext autoreload\n",
    "%autoreload 2\n",
    "\n",
    "%matplotlib inline\n",
    "import matplotlib.pyplot as plt\n",
    "\n",
    "import numpy as np\n",
    "import pandas as pd"
   ]
  },
  {
   "cell_type": "markdown",
   "metadata": {
    "papermill": {
     "duration": 0.080691,
     "end_time": "2020-09-17T10:05:07.800893",
     "exception": false,
     "start_time": "2020-09-17T10:05:07.720202",
     "status": "completed"
    },
    "tags": []
   },
   "source": [
    "### Preparing the Data"
   ]
  },
  {
   "cell_type": "code",
   "execution_count": 3,
   "metadata": {
    "execution": {
     "iopub.execute_input": "2020-09-17T10:05:07.856246Z",
     "iopub.status.busy": "2020-09-17T10:05:07.854986Z",
     "iopub.status.idle": "2020-09-17T10:05:07.866709Z",
     "shell.execute_reply": "2020-09-17T10:05:07.866214Z"
    },
    "papermill": {
     "duration": 0.040987,
     "end_time": "2020-09-17T10:05:07.866829",
     "exception": false,
     "start_time": "2020-09-17T10:05:07.825842",
     "status": "completed"
    },
    "tags": []
   },
   "outputs": [],
   "source": [
    "import mnist"
   ]
  },
  {
   "cell_type": "code",
   "execution_count": 4,
   "metadata": {
    "execution": {
     "iopub.execute_input": "2020-09-17T10:05:07.929591Z",
     "iopub.status.busy": "2020-09-17T10:05:07.927143Z",
     "iopub.status.idle": "2020-09-17T10:05:08.574263Z",
     "shell.execute_reply": "2020-09-17T10:05:08.573777Z"
    },
    "papermill": {
     "duration": 0.678793,
     "end_time": "2020-09-17T10:05:08.574406",
     "exception": false,
     "start_time": "2020-09-17T10:05:07.895613",
     "status": "completed"
    },
    "tags": []
   },
   "outputs": [],
   "source": [
    "train_images = mnist.train_images()\n",
    "train_labels = mnist.train_labels()"
   ]
  },
  {
   "cell_type": "code",
   "execution_count": 5,
   "metadata": {
    "execution": {
     "iopub.execute_input": "2020-09-17T10:05:08.627552Z",
     "iopub.status.busy": "2020-09-17T10:05:08.626913Z",
     "iopub.status.idle": "2020-09-17T10:05:08.642545Z",
     "shell.execute_reply": "2020-09-17T10:05:08.642056Z"
    },
    "papermill": {
     "duration": 0.044371,
     "end_time": "2020-09-17T10:05:08.642670",
     "exception": false,
     "start_time": "2020-09-17T10:05:08.598299",
     "status": "completed"
    },
    "tags": []
   },
   "outputs": [
    {
     "data": {
      "text/plain": [
       "((60000, 28, 28), (60000,))"
      ]
     },
     "execution_count": 5,
     "metadata": {},
     "output_type": "execute_result"
    }
   ],
   "source": [
    "train_images.shape, train_labels.shape"
   ]
  },
  {
   "cell_type": "code",
   "execution_count": 6,
   "metadata": {
    "execution": {
     "iopub.execute_input": "2020-09-17T10:05:08.699493Z",
     "iopub.status.busy": "2020-09-17T10:05:08.698884Z",
     "iopub.status.idle": "2020-09-17T10:05:08.935600Z",
     "shell.execute_reply": "2020-09-17T10:05:08.934604Z"
    },
    "papermill": {
     "duration": 0.267904,
     "end_time": "2020-09-17T10:05:08.935775",
     "exception": false,
     "start_time": "2020-09-17T10:05:08.667871",
     "status": "completed"
    },
    "tags": []
   },
   "outputs": [],
   "source": [
    "test_images = mnist.test_images()\n",
    "test_labels = mnist.test_labels()"
   ]
  },
  {
   "cell_type": "code",
   "execution_count": 7,
   "metadata": {
    "execution": {
     "iopub.execute_input": "2020-09-17T10:05:08.999872Z",
     "iopub.status.busy": "2020-09-17T10:05:08.999047Z",
     "iopub.status.idle": "2020-09-17T10:05:09.012236Z",
     "shell.execute_reply": "2020-09-17T10:05:09.012797Z"
    },
    "papermill": {
     "duration": 0.047592,
     "end_time": "2020-09-17T10:05:09.013006",
     "exception": false,
     "start_time": "2020-09-17T10:05:08.965414",
     "status": "completed"
    },
    "tags": []
   },
   "outputs": [
    {
     "data": {
      "text/plain": [
       "((10000, 28, 28), (10000,))"
      ]
     },
     "execution_count": 7,
     "metadata": {},
     "output_type": "execute_result"
    }
   ],
   "source": [
    "test_images.shape, test_labels.shape"
   ]
  },
  {
   "cell_type": "code",
   "execution_count": 8,
   "metadata": {
    "execution": {
     "iopub.execute_input": "2020-09-17T10:05:09.084954Z",
     "iopub.status.busy": "2020-09-17T10:05:09.082905Z",
     "iopub.status.idle": "2020-09-17T10:05:09.260936Z",
     "shell.execute_reply": "2020-09-17T10:05:09.260449Z"
    },
    "papermill": {
     "duration": 0.218191,
     "end_time": "2020-09-17T10:05:09.261073",
     "exception": false,
     "start_time": "2020-09-17T10:05:09.042882",
     "status": "completed"
    },
    "tags": []
   },
   "outputs": [
    {
     "name": "stdout",
     "output_type": "stream",
     "text": [
      "2\n"
     ]
    },
    {
     "data": {
      "text/plain": [
       "<matplotlib.image.AxesImage at 0x7feab99307f0>"
      ]
     },
     "execution_count": 8,
     "metadata": {},
     "output_type": "execute_result"
    },
    {
     "data": {
      "image/png": "[encoded data removed]",
      "text/plain": [
       "<Figure size 432x288 with 1 Axes>"
      ]
     },
     "metadata": {
      "needs_background": "light"
     },
     "output_type": "display_data"
    }
   ],
   "source": [
    "image_index = 7776 # You may select anything up to 60,000\n",
    "print(train_labels[image_index]) \n",
    "plt.imshow(train_images[image_index], cmap='Greys')"
   ]
  },
  {
   "cell_type": "markdown",
   "metadata": {
    "papermill": {
     "duration": 0.031815,
     "end_time": "2020-09-17T10:05:09.325121",
     "exception": false,
     "start_time": "2020-09-17T10:05:09.293306",
     "status": "completed"
    },
    "tags": []
   },
   "source": [
    "## Filter data to get 3 and 8 out"
   ]
  },
  {
   "cell_type": "code",
   "execution_count": 9,
   "metadata": {
    "execution": {
     "iopub.execute_input": "2020-09-17T10:05:09.393925Z",
     "iopub.status.busy": "2020-09-17T10:05:09.393215Z",
     "iopub.status.idle": "2020-09-17T10:05:09.413314Z",
     "shell.execute_reply": "2020-09-17T10:05:09.412755Z"
    },
    "papermill": {
     "duration": 0.057935,
     "end_time": "2020-09-17T10:05:09.413452",
     "exception": false,
     "start_time": "2020-09-17T10:05:09.355517",
     "status": "completed"
    },
    "tags": []
   },
   "outputs": [],
   "source": [
    "train_filter = np.where((train_labels == 3 ) | (train_labels == 8))\n",
    "test_filter = np.where((test_labels == 3) | (test_labels == 8))\n",
    "X_train, y_train = train_images[train_filter], train_labels[train_filter]\n",
    "X_test, y_test = test_images[test_filter], test_labels[test_filter]"
   ]
  },
  {
   "cell_type": "markdown",
   "metadata": {
    "papermill": {
     "duration": 0.030549,
     "end_time": "2020-09-17T10:05:09.474954",
     "exception": false,
     "start_time": "2020-09-17T10:05:09.444405",
     "status": "completed"
    },
    "tags": []
   },
   "source": [
    "We normalize the pixel values in the 0 to 1 range"
   ]
  },
  {
   "cell_type": "code",
   "execution_count": 10,
   "metadata": {
    "execution": {
     "iopub.execute_input": "2020-09-17T10:05:09.538945Z",
     "iopub.status.busy": "2020-09-17T10:05:09.538340Z",
     "iopub.status.idle": "2020-09-17T10:05:09.597523Z",
     "shell.execute_reply": "2020-09-17T10:05:09.598139Z"
    },
    "papermill": {
     "duration": 0.092181,
     "end_time": "2020-09-17T10:05:09.598322",
     "exception": false,
     "start_time": "2020-09-17T10:05:09.506141",
     "status": "completed"
    },
    "tags": []
   },
   "outputs": [],
   "source": [
    "X_train = X_train/255.\n",
    "X_test = X_test/255."
   ]
  },
  {
   "cell_type": "markdown",
   "metadata": {
    "papermill": {
     "duration": 0.030118,
     "end_time": "2020-09-17T10:05:09.659753",
     "exception": false,
     "start_time": "2020-09-17T10:05:09.629635",
     "status": "completed"
    },
    "tags": []
   },
   "source": [
    "Setup the labels as 1 (when the digit is 3) and 0 (when the digit is 8)"
   ]
  },
  {
   "cell_type": "code",
   "execution_count": 11,
   "metadata": {
    "execution": {
     "iopub.execute_input": "2020-09-17T10:05:09.728250Z",
     "iopub.status.busy": "2020-09-17T10:05:09.727690Z",
     "iopub.status.idle": "2020-09-17T10:05:09.739202Z",
     "shell.execute_reply": "2020-09-17T10:05:09.739659Z"
    },
    "papermill": {
     "duration": 0.049026,
     "end_time": "2020-09-17T10:05:09.739786",
     "exception": false,
     "start_time": "2020-09-17T10:05:09.690760",
     "status": "completed"
    },
    "tags": []
   },
   "outputs": [],
   "source": [
    "y_train = 1*(y_train==3)\n",
    "y_test = 1*(y_test==3)"
   ]
  },
  {
   "cell_type": "code",
   "execution_count": 12,
   "metadata": {
    "execution": {
     "iopub.execute_input": "2020-09-17T10:05:09.798660Z",
     "iopub.status.busy": "2020-09-17T10:05:09.798056Z",
     "iopub.status.idle": "2020-09-17T10:05:09.811162Z",
     "shell.execute_reply": "2020-09-17T10:05:09.810712Z"
    },
    "papermill": {
     "duration": 0.044526,
     "end_time": "2020-09-17T10:05:09.811276",
     "exception": false,
     "start_time": "2020-09-17T10:05:09.766750",
     "status": "completed"
    },
    "tags": []
   },
   "outputs": [
    {
     "data": {
      "text/plain": [
       "((11982, 28, 28), (1984, 28, 28))"
      ]
     },
     "execution_count": 12,
     "metadata": {},
     "output_type": "execute_result"
    }
   ],
   "source": [
    "X_train.shape, X_test.shape"
   ]
  },
  {
   "cell_type": "markdown",
   "metadata": {
    "papermill": {
     "duration": 0.029119,
     "end_time": "2020-09-17T10:05:09.869411",
     "exception": false,
     "start_time": "2020-09-17T10:05:09.840292",
     "status": "completed"
    },
    "tags": []
   },
   "source": [
    "### Reshape the input data to create a linear array"
   ]
  },
  {
   "cell_type": "code",
   "execution_count": 13,
   "metadata": {
    "execution": {
     "iopub.execute_input": "2020-09-17T10:05:09.934905Z",
     "iopub.status.busy": "2020-09-17T10:05:09.934350Z",
     "iopub.status.idle": "2020-09-17T10:05:09.950599Z",
     "shell.execute_reply": "2020-09-17T10:05:09.951139Z"
    },
    "papermill": {
     "duration": 0.053079,
     "end_time": "2020-09-17T10:05:09.951275",
     "exception": false,
     "start_time": "2020-09-17T10:05:09.898196",
     "status": "completed"
    },
    "tags": []
   },
   "outputs": [
    {
     "data": {
      "text/plain": [
       "((11982, 784), (1984, 784))"
      ]
     },
     "execution_count": 13,
     "metadata": {},
     "output_type": "execute_result"
    }
   ],
   "source": [
    "X_train = X_train.reshape(X_train.shape[0], -1)\n",
    "X_test = X_test.reshape(X_test.shape[0], -1)\n",
    "X_train.shape, X_test.shape"
   ]
  },
  {
   "cell_type": "markdown",
   "metadata": {
    "papermill": {
     "duration": 0.027431,
     "end_time": "2020-09-17T10:05:10.008324",
     "exception": false,
     "start_time": "2020-09-17T10:05:09.980893",
     "status": "completed"
    },
    "tags": []
   },
   "source": [
    "### Importing appropriate functions from 'Kudzu'"
   ]
  },
  {
   "cell_type": "code",
   "execution_count": 14,
   "metadata": {
    "execution": {
     "iopub.execute_input": "2020-09-17T10:05:10.072003Z",
     "iopub.status.busy": "2020-09-17T10:05:10.071458Z",
     "iopub.status.idle": "2020-09-17T10:05:10.090270Z",
     "shell.execute_reply": "2020-09-17T10:05:10.091080Z"
    },
    "papermill": {
     "duration": 0.054069,
     "end_time": "2020-09-17T10:05:10.091283",
     "exception": false,
     "start_time": "2020-09-17T10:05:10.037214",
     "status": "completed"
    },
    "tags": []
   },
   "outputs": [],
   "source": [
    "from kudzu.layer import Sigmoid\n",
    "from kudzu.layer import Relu\n",
    "from kudzu.layer import Affine, Sigmoid\n",
    "\n",
    "from kudzu.model import Model\n",
    "from kudzu.train import Learner\n",
    "from kudzu.optim import GD\n",
    "from kudzu.data import Data, Dataloader, Sampler\n",
    "\n",
    "from kudzu.callbacks import AccCallback\n",
    "from kudzu.callbacks import ClfCallback\n",
    "\n",
    "from kudzu.loss import MSE"
   ]
  },
  {
   "cell_type": "markdown",
   "metadata": {
    "papermill": {
     "duration": 0.032572,
     "end_time": "2020-09-17T10:05:10.162114",
     "exception": false,
     "start_time": "2020-09-17T10:05:10.129542",
     "status": "completed"
    },
    "tags": []
   },
   "source": [
    "### Let us create a `Config` class, to store important parameters. \n",
    "This class essentially plays the role of a dictionary."
   ]
  },
  {
   "cell_type": "code",
   "execution_count": 15,
   "metadata": {
    "execution": {
     "iopub.execute_input": "2020-09-17T10:05:10.222142Z",
     "iopub.status.busy": "2020-09-17T10:05:10.221599Z",
     "iopub.status.idle": "2020-09-17T10:05:10.233107Z",
     "shell.execute_reply": "2020-09-17T10:05:10.232678Z"
    },
    "papermill": {
     "duration": 0.042245,
     "end_time": "2020-09-17T10:05:10.233238",
     "exception": false,
     "start_time": "2020-09-17T10:05:10.190993",
     "status": "completed"
    },
    "tags": []
   },
   "outputs": [],
   "source": [
    "class Config:\n",
    "    pass\n",
    "config = Config()\n",
    "config.lr = 0.001\n",
    "config.num_epochs = 251\n",
    "config.bs = 50"
   ]
  },
  {
   "cell_type": "markdown",
   "metadata": {
    "papermill": {
     "duration": 0.029449,
     "end_time": "2020-09-17T10:05:10.290600",
     "exception": false,
     "start_time": "2020-09-17T10:05:10.261151",
     "status": "completed"
    },
    "tags": []
   },
   "source": [
    "### Initializing data to the variables"
   ]
  },
  {
   "cell_type": "code",
   "execution_count": 16,
   "metadata": {
    "execution": {
     "iopub.execute_input": "2020-09-17T10:05:10.348433Z",
     "iopub.status.busy": "2020-09-17T10:05:10.347875Z",
     "iopub.status.idle": "2020-09-17T10:05:10.359910Z",
     "shell.execute_reply": "2020-09-17T10:05:10.359452Z"
    },
    "papermill": {
     "duration": 0.042505,
     "end_time": "2020-09-17T10:05:10.360024",
     "exception": false,
     "start_time": "2020-09-17T10:05:10.317519",
     "status": "completed"
    },
    "tags": []
   },
   "outputs": [],
   "source": [
    "data = Data(X_train, y_train.reshape(-1,1))\n",
    "sampler = Sampler(data, config.bs, shuffle=True)\n",
    "\n",
    "dl = Dataloader(data, sampler)\n",
    "\n",
    "opt = GD(config.lr)\n",
    "loss = MSE()"
   ]
  },
  {
   "cell_type": "code",
   "execution_count": 17,
   "metadata": {
    "execution": {
     "iopub.execute_input": "2020-09-17T10:05:10.417038Z",
     "iopub.status.busy": "2020-09-17T10:05:10.416498Z",
     "iopub.status.idle": "2020-09-17T10:05:10.431342Z",
     "shell.execute_reply": "2020-09-17T10:05:10.430672Z"
    },
    "papermill": {
     "duration": 0.044684,
     "end_time": "2020-09-17T10:05:10.431479",
     "exception": false,
     "start_time": "2020-09-17T10:05:10.386795",
     "status": "completed"
    },
    "tags": []
   },
   "outputs": [],
   "source": [
    "training_xdata = X_train\n",
    "testing_xdata = X_test\n",
    "training_ydata = y_train.reshape(-1,1)\n",
    "testing_ydata = y_test.reshape(-1,1)"
   ]
  },
  {
   "cell_type": "markdown",
   "metadata": {
    "papermill": {
     "duration": 0.028548,
     "end_time": "2020-09-17T10:05:10.491224",
     "exception": false,
     "start_time": "2020-09-17T10:05:10.462676",
     "status": "completed"
    },
    "tags": []
   },
   "source": [
    "### Running Models with the Training data\n",
    "Details about the network layers:\n",
    "- A first affine layer has 784 inputs and does 100 affine transforms. These are followed by a Relu\n",
    "- A second affine layer has 100 inputs from the 100 activations of the past layer, and does 100 affine transforms. These are followed by a Relu\n",
    "- A third affine layer has 100 activations and does 2 affine transformations to create an embedding for visualization. There is no non-linearity here.\n",
    "- A final \"logistic regression\" which has an affine transform from 2 inputs to 1 output, which is squeezed through a sigmoid.\n",
    "\n",
    "Help taken from Anshuman's Notebook."
   ]
  },
  {
   "cell_type": "code",
   "execution_count": 18,
   "metadata": {
    "execution": {
     "iopub.execute_input": "2020-09-17T10:05:10.551418Z",
     "iopub.status.busy": "2020-09-17T10:05:10.550866Z",
     "iopub.status.idle": "2020-09-17T10:05:10.567248Z",
     "shell.execute_reply": "2020-09-17T10:05:10.566790Z"
    },
    "papermill": {
     "duration": 0.047782,
     "end_time": "2020-09-17T10:05:10.567363",
     "exception": false,
     "start_time": "2020-09-17T10:05:10.519581",
     "status": "completed"
    },
    "tags": []
   },
   "outputs": [],
   "source": [
    "# layers for the Neural Network\n",
    "layers = [Affine(\"first\", 784, 100), Relu(\"first\"), Affine(\"second\", 100, 100), Relu(\"second\"), Affine(\"third\", 100, 2), Affine(\"final\", 2, 1), Sigmoid(\"final\")]\n",
    "model_nn = Model(layers)\n",
    "\n",
    "# layers for the Logistic Regression\n",
    "layers_lr = [Affine(\"logits\", 784, 1), Sigmoid(\"sigmoid\")]\n",
    "model_lr = Model(layers_lr)"
   ]
  },
  {
   "cell_type": "code",
   "execution_count": 19,
   "metadata": {
    "execution": {
     "iopub.execute_input": "2020-09-17T10:05:10.627322Z",
     "iopub.status.busy": "2020-09-17T10:05:10.626638Z",
     "iopub.status.idle": "2020-09-17T10:05:10.639277Z",
     "shell.execute_reply": "2020-09-17T10:05:10.638744Z"
    },
    "papermill": {
     "duration": 0.0451,
     "end_time": "2020-09-17T10:05:10.639419",
     "exception": false,
     "start_time": "2020-09-17T10:05:10.594319",
     "status": "completed"
    },
    "tags": []
   },
   "outputs": [],
   "source": [
    "# suffix _nn stands for Neural Network.\n",
    "learner_nn = Learner(loss, model_nn, opt, config.num_epochs)\n",
    "acc_nn = ClfCallback(learner_nn, config.bs, training_xdata , testing_xdata, training_ydata, testing_ydata)\n",
    "learner_nn.set_callbacks([acc_nn])"
   ]
  },
  {
   "cell_type": "code",
   "execution_count": 20,
   "metadata": {
    "execution": {
     "iopub.execute_input": "2020-09-17T10:05:10.698635Z",
     "iopub.status.busy": "2020-09-17T10:05:10.698046Z",
     "iopub.status.idle": "2020-09-17T10:07:19.098215Z",
     "shell.execute_reply": "2020-09-17T10:07:19.098725Z"
    },
    "papermill": {
     "duration": 128.431342,
     "end_time": "2020-09-17T10:07:19.098868",
     "exception": false,
     "start_time": "2020-09-17T10:05:10.667526",
     "status": "completed"
    },
    "tags": []
   },
   "outputs": [
    {
     "name": "stdout",
     "output_type": "stream",
     "text": [
      "====== Neural Network ======\n"
     ]
    },
    {
     "name": "stdout",
     "output_type": "stream",
     "text": [
      "Epoch 0, Loss 0.2511\n",
      "Training Accuracy: 0.4664, Testing Accuracy: 0.4814\n",
      "\n"
     ]
    },
    {
     "name": "stdout",
     "output_type": "stream",
     "text": [
      "Epoch 10, Loss 0.2144\n",
      "Training Accuracy: 0.8416, Testing Accuracy: 0.8614\n",
      "\n"
     ]
    },
    {
     "name": "stdout",
     "output_type": "stream",
     "text": [
      "Epoch 20, Loss 0.1271\n",
      "Training Accuracy: 0.8984, Testing Accuracy: 0.9057\n",
      "\n"
     ]
    },
    {
     "name": "stdout",
     "output_type": "stream",
     "text": [
      "Epoch 30, Loss 0.0745\n",
      "Training Accuracy: 0.9210, Testing Accuracy: 0.9304\n",
      "\n"
     ]
    },
    {
     "name": "stdout",
     "output_type": "stream",
     "text": [
      "Epoch 40, Loss 0.0551\n",
      "Training Accuracy: 0.9385, Testing Accuracy: 0.9486\n",
      "\n"
     ]
    },
    {
     "name": "stdout",
     "output_type": "stream",
     "text": [
      "Epoch 50, Loss 0.0456\n",
      "Training Accuracy: 0.9476, Testing Accuracy: 0.9551\n",
      "\n"
     ]
    },
    {
     "name": "stdout",
     "output_type": "stream",
     "text": [
      "Epoch 60, Loss 0.0401\n",
      "Training Accuracy: 0.9533, Testing Accuracy: 0.9602\n",
      "\n"
     ]
    },
    {
     "name": "stdout",
     "output_type": "stream",
     "text": [
      "Epoch 70, Loss 0.0365\n",
      "Training Accuracy: 0.9571, Testing Accuracy: 0.9637\n",
      "\n"
     ]
    },
    {
     "name": "stdout",
     "output_type": "stream",
     "text": [
      "Epoch 80, Loss 0.0341\n",
      "Training Accuracy: 0.9597, Testing Accuracy: 0.9662\n",
      "\n"
     ]
    },
    {
     "name": "stdout",
     "output_type": "stream",
     "text": [
      "Epoch 90, Loss 0.0322\n",
      "Training Accuracy: 0.9618, Testing Accuracy: 0.9657\n",
      "\n"
     ]
    },
    {
     "name": "stdout",
     "output_type": "stream",
     "text": [
      "Epoch 100, Loss 0.0307\n",
      "Training Accuracy: 0.9634, Testing Accuracy: 0.9677\n",
      "\n"
     ]
    },
    {
     "name": "stdout",
     "output_type": "stream",
     "text": [
      "Epoch 110, Loss 0.0295\n",
      "Training Accuracy: 0.9646, Testing Accuracy: 0.9688\n",
      "\n"
     ]
    },
    {
     "name": "stdout",
     "output_type": "stream",
     "text": [
      "Epoch 120, Loss 0.0285\n",
      "Training Accuracy: 0.9659, Testing Accuracy: 0.9703\n",
      "\n"
     ]
    },
    {
     "name": "stdout",
     "output_type": "stream",
     "text": [
      "Epoch 130, Loss 0.0276\n",
      "Training Accuracy: 0.9664, Testing Accuracy: 0.9703\n",
      "\n"
     ]
    },
    {
     "name": "stdout",
     "output_type": "stream",
     "text": [
      "Epoch 140, Loss 0.0268\n",
      "Training Accuracy: 0.9672, Testing Accuracy: 0.9693\n",
      "\n"
     ]
    },
    {
     "name": "stdout",
     "output_type": "stream",
     "text": [
      "Epoch 150, Loss 0.0261\n",
      "Training Accuracy: 0.9681, Testing Accuracy: 0.9703\n",
      "\n"
     ]
    },
    {
     "name": "stdout",
     "output_type": "stream",
     "text": [
      "Epoch 160, Loss 0.0254\n",
      "Training Accuracy: 0.9688, Testing Accuracy: 0.9693\n",
      "\n"
     ]
    },
    {
     "name": "stdout",
     "output_type": "stream",
     "text": [
      "Epoch 170, Loss 0.0249\n",
      "Training Accuracy: 0.9700, Testing Accuracy: 0.9693\n",
      "\n"
     ]
    },
    {
     "name": "stdout",
     "output_type": "stream",
     "text": [
      "Epoch 180, Loss 0.0243\n",
      "Training Accuracy: 0.9711, Testing Accuracy: 0.9693\n",
      "\n"
     ]
    },
    {
     "name": "stdout",
     "output_type": "stream",
     "text": [
      "Epoch 190, Loss 0.0238\n",
      "Training Accuracy: 0.9720, Testing Accuracy: 0.9703\n",
      "\n"
     ]
    },
    {
     "name": "stdout",
     "output_type": "stream",
     "text": [
      "Epoch 200, Loss 0.0234\n",
      "Training Accuracy: 0.9730, Testing Accuracy: 0.9708\n",
      "\n"
     ]
    },
    {
     "name": "stdout",
     "output_type": "stream",
     "text": [
      "Epoch 210, Loss 0.0229\n",
      "Training Accuracy: 0.9738, Testing Accuracy: 0.9718\n",
      "\n"
     ]
    },
    {
     "name": "stdout",
     "output_type": "stream",
     "text": [
      "Epoch 220, Loss 0.0225\n",
      "Training Accuracy: 0.9747, Testing Accuracy: 0.9713\n",
      "\n"
     ]
    },
    {
     "name": "stdout",
     "output_type": "stream",
     "text": [
      "Epoch 230, Loss 0.0221\n",
      "Training Accuracy: 0.9749, Testing Accuracy: 0.9723\n",
      "\n"
     ]
    },
    {
     "name": "stdout",
     "output_type": "stream",
     "text": [
      "Epoch 240, Loss 0.0217\n",
      "Training Accuracy: 0.9753, Testing Accuracy: 0.9723\n",
      "\n"
     ]
    },
    {
     "name": "stdout",
     "output_type": "stream",
     "text": [
      "Epoch 250, Loss 0.0214\n",
      "Training Accuracy: 0.9756, Testing Accuracy: 0.9728\n",
      "\n"
     ]
    },
    {
     "data": {
      "text/plain": [
       "0.0032119723257121"
      ]
     },
     "execution_count": 20,
     "metadata": {},
     "output_type": "execute_result"
    }
   ],
   "source": [
    "print(\"====== Neural Network ======\")\n",
    "learner_nn.train_loop(dl)"
   ]
  },
  {
   "cell_type": "markdown",
   "metadata": {
    "papermill": {
     "duration": 0.032024,
     "end_time": "2020-09-17T10:07:19.164090",
     "exception": false,
     "start_time": "2020-09-17T10:07:19.132066",
     "status": "completed"
    },
    "tags": []
   },
   "source": [
    "### Logistic Regression based Implementation."
   ]
  },
  {
   "cell_type": "code",
   "execution_count": 21,
   "metadata": {
    "execution": {
     "iopub.execute_input": "2020-09-17T10:07:19.239468Z",
     "iopub.status.busy": "2020-09-17T10:07:19.238937Z",
     "iopub.status.idle": "2020-09-17T10:07:19.249458Z",
     "shell.execute_reply": "2020-09-17T10:07:19.248994Z"
    },
    "papermill": {
     "duration": 0.049033,
     "end_time": "2020-09-17T10:07:19.249560",
     "exception": false,
     "start_time": "2020-09-17T10:07:19.200527",
     "status": "completed"
    },
    "tags": []
   },
   "outputs": [],
   "source": [
    "learner_lr = Learner(loss, model_lr, opt, config.num_epochs)\n",
    "acc_lr = ClfCallback(learner_lr, config.bs, training_xdata , testing_xdata, training_ydata, testing_ydata)\n",
    "learner_lr.set_callbacks([acc_lr])"
   ]
  },
  {
   "cell_type": "code",
   "execution_count": 22,
   "metadata": {
    "execution": {
     "iopub.execute_input": "2020-09-17T10:07:19.317142Z",
     "iopub.status.busy": "2020-09-17T10:07:19.316045Z",
     "iopub.status.idle": "2020-09-17T10:07:37.493377Z",
     "shell.execute_reply": "2020-09-17T10:07:37.493880Z"
    },
    "papermill": {
     "duration": 18.213371,
     "end_time": "2020-09-17T10:07:37.494027",
     "exception": false,
     "start_time": "2020-09-17T10:07:19.280656",
     "status": "completed"
    },
    "tags": []
   },
   "outputs": [
    {
     "name": "stdout",
     "output_type": "stream",
     "text": [
      "====== Logistic Regression ======\n",
      "Epoch 0, Loss 0.2608\n",
      "Training Accuracy: 0.5938, Testing Accuracy: 0.6477\n",
      "\n"
     ]
    },
    {
     "name": "stdout",
     "output_type": "stream",
     "text": [
      "Epoch 10, Loss 0.1065\n",
      "Training Accuracy: 0.9040, Testing Accuracy: 0.9083\n",
      "\n"
     ]
    },
    {
     "name": "stdout",
     "output_type": "stream",
     "text": [
      "Epoch 20, Loss 0.0807\n",
      "Training Accuracy: 0.9268, Testing Accuracy: 0.9335\n",
      "\n"
     ]
    },
    {
     "name": "stdout",
     "output_type": "stream",
     "text": [
      "Epoch 30, Loss 0.0691\n",
      "Training Accuracy: 0.9355, Testing Accuracy: 0.9456\n",
      "\n"
     ]
    },
    {
     "name": "stdout",
     "output_type": "stream",
     "text": [
      "Epoch 40, Loss 0.0622\n",
      "Training Accuracy: 0.9402, Testing Accuracy: 0.9486\n",
      "\n"
     ]
    },
    {
     "name": "stdout",
     "output_type": "stream",
     "text": [
      "Epoch 50, Loss 0.0575\n",
      "Training Accuracy: 0.9443, Testing Accuracy: 0.9526\n",
      "\n"
     ]
    },
    {
     "name": "stdout",
     "output_type": "stream",
     "text": [
      "Epoch 60, Loss 0.0541\n",
      "Training Accuracy: 0.9471, Testing Accuracy: 0.9546\n",
      "\n"
     ]
    },
    {
     "name": "stdout",
     "output_type": "stream",
     "text": [
      "Epoch 70, Loss 0.0515\n",
      "Training Accuracy: 0.9492, Testing Accuracy: 0.9572\n",
      "\n"
     ]
    },
    {
     "name": "stdout",
     "output_type": "stream",
     "text": [
      "Epoch 80, Loss 0.0494\n",
      "Training Accuracy: 0.9509, Testing Accuracy: 0.9567\n",
      "\n"
     ]
    },
    {
     "name": "stdout",
     "output_type": "stream",
     "text": [
      "Epoch 90, Loss 0.0477\n",
      "Training Accuracy: 0.9524, Testing Accuracy: 0.9577\n",
      "\n"
     ]
    },
    {
     "name": "stdout",
     "output_type": "stream",
     "text": [
      "Epoch 100, Loss 0.0463\n",
      "Training Accuracy: 0.9529, Testing Accuracy: 0.9582\n",
      "\n"
     ]
    },
    {
     "name": "stdout",
     "output_type": "stream",
     "text": [
      "Epoch 110, Loss 0.045\n",
      "Training Accuracy: 0.9539, Testing Accuracy: 0.9597\n",
      "\n"
     ]
    },
    {
     "name": "stdout",
     "output_type": "stream",
     "text": [
      "Epoch 120, Loss 0.044\n",
      "Training Accuracy: 0.9550, Testing Accuracy: 0.9602\n",
      "\n"
     ]
    },
    {
     "name": "stdout",
     "output_type": "stream",
     "text": [
      "Epoch 130, Loss 0.043\n",
      "Training Accuracy: 0.9559, Testing Accuracy: 0.9607\n",
      "\n"
     ]
    },
    {
     "name": "stdout",
     "output_type": "stream",
     "text": [
      "Epoch 140, Loss 0.0422\n",
      "Training Accuracy: 0.9571, Testing Accuracy: 0.9607\n",
      "\n"
     ]
    },
    {
     "name": "stdout",
     "output_type": "stream",
     "text": [
      "Epoch 150, Loss 0.0414\n",
      "Training Accuracy: 0.9576, Testing Accuracy: 0.9607\n",
      "\n"
     ]
    },
    {
     "name": "stdout",
     "output_type": "stream",
     "text": [
      "Epoch 160, Loss 0.0407\n",
      "Training Accuracy: 0.9583, Testing Accuracy: 0.9617\n",
      "\n"
     ]
    },
    {
     "name": "stdout",
     "output_type": "stream",
     "text": [
      "Epoch 170, Loss 0.0401\n",
      "Training Accuracy: 0.9584, Testing Accuracy: 0.9617\n",
      "\n"
     ]
    },
    {
     "name": "stdout",
     "output_type": "stream",
     "text": [
      "Epoch 180, Loss 0.0396\n",
      "Training Accuracy: 0.9589, Testing Accuracy: 0.9632\n",
      "\n"
     ]
    },
    {
     "name": "stdout",
     "output_type": "stream",
     "text": [
      "Epoch 190, Loss 0.039\n",
      "Training Accuracy: 0.9591, Testing Accuracy: 0.9637\n",
      "\n"
     ]
    },
    {
     "name": "stdout",
     "output_type": "stream",
     "text": [
      "Epoch 200, Loss 0.0386\n",
      "Training Accuracy: 0.9595, Testing Accuracy: 0.9637\n",
      "\n"
     ]
    },
    {
     "name": "stdout",
     "output_type": "stream",
     "text": [
      "Epoch 210, Loss 0.0381\n",
      "Training Accuracy: 0.9597, Testing Accuracy: 0.9637\n",
      "\n"
     ]
    },
    {
     "name": "stdout",
     "output_type": "stream",
     "text": [
      "Epoch 220, Loss 0.0377\n",
      "Training Accuracy: 0.9599, Testing Accuracy: 0.9637\n",
      "\n"
     ]
    },
    {
     "name": "stdout",
     "output_type": "stream",
     "text": [
      "Epoch 230, Loss 0.0373\n",
      "Training Accuracy: 0.9603, Testing Accuracy: 0.9637\n",
      "\n"
     ]
    },
    {
     "name": "stdout",
     "output_type": "stream",
     "text": [
      "Epoch 240, Loss 0.0369\n",
      "Training Accuracy: 0.9602, Testing Accuracy: 0.9637\n",
      "\n"
     ]
    },
    {
     "name": "stdout",
     "output_type": "stream",
     "text": [
      "Epoch 250, Loss 0.0366\n",
      "Training Accuracy: 0.9603, Testing Accuracy: 0.9637\n",
      "\n"
     ]
    },
    {
     "data": {
      "text/plain": [
       "0.028348584287829486"
      ]
     },
     "execution_count": 22,
     "metadata": {},
     "output_type": "execute_result"
    }
   ],
   "source": [
    "print(\"====== Logistic Regression ======\")\n",
    "learner_lr.train_loop(dl)"
   ]
  },
  {
   "cell_type": "markdown",
   "metadata": {
    "papermill": {
     "duration": 0.041153,
     "end_time": "2020-09-17T10:07:37.584664",
     "exception": false,
     "start_time": "2020-09-17T10:07:37.543511",
     "status": "completed"
    },
    "tags": []
   },
   "source": [
    "### Comparing results of NN and LR"
   ]
  },
  {
   "cell_type": "code",
   "execution_count": 23,
   "metadata": {
    "execution": {
     "iopub.execute_input": "2020-09-17T10:07:37.670340Z",
     "iopub.status.busy": "2020-09-17T10:07:37.669771Z",
     "iopub.status.idle": "2020-09-17T10:07:37.910808Z",
     "shell.execute_reply": "2020-09-17T10:07:37.910292Z"
    },
    "papermill": {
     "duration": 0.287562,
     "end_time": "2020-09-17T10:07:37.910933",
     "exception": false,
     "start_time": "2020-09-17T10:07:37.623371",
     "status": "completed"
    },
    "tags": []
   },
   "outputs": [
    {
     "data": {
      "text/plain": [
       "<matplotlib.legend.Legend at 0x7feab2cea2e8>"
      ]
     },
     "execution_count": 23,
     "metadata": {},
     "output_type": "execute_result"
    },
    {
     "data": {
      "image/png": "[encoded data removed]",
      "text/plain": [
       "<Figure size 1080x720 with 1 Axes>"
      ]
     },
     "metadata": {
      "needs_background": "light"
     },
     "output_type": "display_data"
    }
   ],
   "source": [
    "plt.figure(figsize=(15,10))\n",
    "\n",
    "# Neural Network plots\n",
    "plt.plot(acc_nn.accuracies, 'r-', label = \"Training Accuracies - NN\")\n",
    "plt.plot(acc_nn.test_accuracies, 'g-', label = \"Testing Accuracies - NN\")\n",
    "\n",
    "# Logistic Regression plots\n",
    "plt.plot(acc_lr.accuracies, 'k-', label = \"Training Accuracies - LR\")\n",
    "plt.plot(acc_lr.test_accuracies, 'b-', label = \"Testing Accuracies - LR\")\n",
    "\n",
    "plt.ylim(0.8, 1)\n",
    "\n",
    "plt.legend()\n",
    "\n"
   ]
  },
  {
   "cell_type": "markdown",
   "metadata": {
    "papermill": {
     "duration": 0.040837,
     "end_time": "2020-09-17T10:07:37.992374",
     "exception": false,
     "start_time": "2020-09-17T10:07:37.951537",
     "status": "completed"
    },
    "tags": []
   },
   "source": [
    "### From the plot, we can observe the following:\n",
    "- Neural Network achieves higher accuracy than the Logistic Regression model.\n",
    "- This apparently, is because of overfitting, i.e. NN captures more noise than data.\n",
    "- Testing accuracy of NN drops below the Training accuracy at higher epochs. This explains the over-fitting on training data.\n",
    "- Logistic Regression gives a reliable accuracy, without the above mentioned problem.\n"
   ]
  },
  {
   "cell_type": "markdown",
   "metadata": {
    "papermill": {
     "duration": 0.042567,
     "end_time": "2020-09-17T10:07:38.082809",
     "exception": false,
     "start_time": "2020-09-17T10:07:38.040242",
     "status": "completed"
    },
    "tags": []
   },
   "source": [
    "### Moving till the last but one layer (excluding it).\n",
    "#### Plotting the outputs of this layer of the NN."
   ]
  },
  {
   "cell_type": "code",
   "execution_count": 24,
   "metadata": {
    "execution": {
     "iopub.execute_input": "2020-09-17T10:07:38.165850Z",
     "iopub.status.busy": "2020-09-17T10:07:38.165061Z",
     "iopub.status.idle": "2020-09-17T10:07:38.175995Z",
     "shell.execute_reply": "2020-09-17T10:07:38.175235Z"
    },
    "papermill": {
     "duration": 0.05362,
     "end_time": "2020-09-17T10:07:38.176108",
     "exception": false,
     "start_time": "2020-09-17T10:07:38.122488",
     "status": "completed"
    },
    "tags": []
   },
   "outputs": [],
   "source": [
    "model_new = Model(layers[:-2])"
   ]
  },
  {
   "cell_type": "code",
   "execution_count": 25,
   "metadata": {
    "execution": {
     "iopub.execute_input": "2020-09-17T10:07:38.257938Z",
     "iopub.status.busy": "2020-09-17T10:07:38.257376Z",
     "iopub.status.idle": "2020-09-17T10:07:38.279009Z",
     "shell.execute_reply": "2020-09-17T10:07:38.278582Z"
    },
    "papermill": {
     "duration": 0.063335,
     "end_time": "2020-09-17T10:07:38.279123",
     "exception": false,
     "start_time": "2020-09-17T10:07:38.215788",
     "status": "completed"
    },
    "tags": []
   },
   "outputs": [],
   "source": [
    "plot_testing = model_new(testing_xdata)"
   ]
  },
  {
   "cell_type": "code",
   "execution_count": 26,
   "metadata": {
    "execution": {
     "iopub.execute_input": "2020-09-17T10:07:38.367706Z",
     "iopub.status.busy": "2020-09-17T10:07:38.367188Z",
     "iopub.status.idle": "2020-09-17T10:07:38.573910Z",
     "shell.execute_reply": "2020-09-17T10:07:38.574349Z"
    },
    "papermill": {
     "duration": 0.254087,
     "end_time": "2020-09-17T10:07:38.574489",
     "exception": false,
     "start_time": "2020-09-17T10:07:38.320402",
     "status": "completed"
    },
    "tags": []
   },
   "outputs": [
    {
     "data": {
      "text/plain": [
       "Text(0.5, 1.0, 'Outputs')"
      ]
     },
     "execution_count": 26,
     "metadata": {},
     "output_type": "execute_result"
    },
    {
     "data": {
      "image/png": "[encoded data removed]",
      "text/plain": [
       "<Figure size 576x504 with 1 Axes>"
      ]
     },
     "metadata": {
      "needs_background": "light"
     },
     "output_type": "display_data"
    }
   ],
   "source": [
    "plt.figure(figsize=(8,7))\n",
    "plt.scatter(plot_testing[:,0], plot_testing[:,1], alpha = 0.1, c = y_test.ravel());\n",
    "plt.title('Outputs')"
   ]
  },
  {
   "cell_type": "markdown",
   "metadata": {
    "papermill": {
     "duration": 0.042532,
     "end_time": "2020-09-17T10:07:38.663996",
     "exception": false,
     "start_time": "2020-09-17T10:07:38.621464",
     "status": "completed"
    },
    "tags": []
   },
   "source": [
    "### Plotting probability contours"
   ]
  },
  {
   "cell_type": "code",
   "execution_count": 27,
   "metadata": {
    "execution": {
     "iopub.execute_input": "2020-09-17T10:07:38.761281Z",
     "iopub.status.busy": "2020-09-17T10:07:38.760545Z",
     "iopub.status.idle": "2020-09-17T10:07:38.773939Z",
     "shell.execute_reply": "2020-09-17T10:07:38.774436Z"
    },
    "papermill": {
     "duration": 0.06591,
     "end_time": "2020-09-17T10:07:38.774641",
     "exception": false,
     "start_time": "2020-09-17T10:07:38.708731",
     "status": "completed"
    },
    "tags": []
   },
   "outputs": [],
   "source": [
    "model_prob = Model(layers[-2:]) "
   ]
  },
  {
   "cell_type": "code",
   "execution_count": 28,
   "metadata": {
    "execution": {
     "iopub.execute_input": "2020-09-17T10:07:38.879229Z",
     "iopub.status.busy": "2020-09-17T10:07:38.878618Z",
     "iopub.status.idle": "2020-09-17T10:07:38.892872Z",
     "shell.execute_reply": "2020-09-17T10:07:38.893601Z"
    },
    "papermill": {
     "duration": 0.069358,
     "end_time": "2020-09-17T10:07:38.893727",
     "exception": false,
     "start_time": "2020-09-17T10:07:38.824369",
     "status": "completed"
    },
    "tags": []
   },
   "outputs": [],
   "source": [
    "# Adjust the x and y ranges according to the above generated plot.\n",
    "x_range = np.linspace(-4, 1, 100) \n",
    "y_range = np.linspace(-6, 6, 100) \n",
    "x_grid, y_grid = np.meshgrid(x_range, y_range) # x_grid and y_grig are of size 100 X 100\n",
    "\n",
    "# converting x_grid and y_grid to continuous arrays\n",
    "x_grid_flat = np.ravel(x_grid)\n",
    "y_grid_flat = np.ravel(y_grid)\n",
    "\n",
    "# The last layer of the current model takes two columns as input. Hence transpose of np.vstack() is required.\n",
    "X = np.vstack((x_grid_flat, y_grid_flat)).T\n",
    "\n",
    "# x_grid and y_grid are of size 100 x 100\n",
    "probability_contour = model_prob(X).reshape(100,100) "
   ]
  },
  {
   "cell_type": "code",
   "execution_count": 29,
   "metadata": {
    "execution": {
     "iopub.execute_input": "2020-09-17T10:07:39.006571Z",
     "iopub.status.busy": "2020-09-17T10:07:39.005964Z",
     "iopub.status.idle": "2020-09-17T10:07:39.290739Z",
     "shell.execute_reply": "2020-09-17T10:07:39.290158Z"
    },
    "papermill": {
     "duration": 0.344929,
     "end_time": "2020-09-17T10:07:39.290902",
     "exception": false,
     "start_time": "2020-09-17T10:07:38.945973",
     "status": "completed"
    },
    "tags": []
   },
   "outputs": [
    {
     "data": {
      "image/png": "[encoded data removed]",
      "text/plain": [
       "<Figure size 720x648 with 1 Axes>"
      ]
     },
     "metadata": {
      "needs_background": "light"
     },
     "output_type": "display_data"
    }
   ],
   "source": [
    "plt.figure(figsize=(10,9))\n",
    "plt.scatter(plot_testing[:,0], plot_testing[:,1], alpha = 0.1, c = y_test.ravel())\n",
    "contours = plt.contour(x_grid,y_grid,probability_contour)\n",
    "plt.title('Probability Contours')\n",
    "plt.clabel(contours, inline = True );"
   ]
  }
 ],
 "metadata": {
  "kernelspec": {
   "display_name": "Python 3",
   "language": "python",
   "name": "python3"
  },
  "language_info": {
   "codemirror_mode": {
    "name": "ipython",
    "version": 3
   },
   "file_extension": ".py",
   "mimetype": "text/x-python",
   "name": "python",
   "nbconvert_exporter": "python",
   "pygments_lexer": "ipython3",
   "version": "3.6.12"
  },
  "papermill": {
   "duration": 155.159831,
   "end_time": "2020-09-17T10:07:39.651633",
   "environment_variables": {},
   "exception": null,
   "input_path": "2020-08-11-NeuralNetwork.ipynb",
   "output_path": "2020-08-11-NeuralNetwork.ipynb",
   "parameters": {},
   "start_time": "2020-09-17T10:05:04.491802",
   "version": "2.1.2"
  }
 },
 "nbformat": 4,
 "nbformat_minor": 4
}