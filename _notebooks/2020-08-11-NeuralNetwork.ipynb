{
 "cells": [
  {
   "cell_type": "markdown",
   "metadata": {
    "papermill": {
     "duration": 0.035169,
     "end_time": "2020-10-14T10:05:34.147544",
     "exception": false,
     "start_time": "2020-10-14T10:05:34.112375",
     "status": "completed"
    },
    "tags": []
   },
   "source": [
    "# \"A Basic Neural Network: Differentiate Hand-Written Digits\"\n",
    "\n",
    "- badges: true\n",
    "- author: Akshith Sriram"
   ]
  },
  {
   "cell_type": "markdown",
   "metadata": {
    "papermill": {
     "duration": 0.033654,
     "end_time": "2020-10-14T10:05:34.213939",
     "exception": false,
     "start_time": "2020-10-14T10:05:34.180285",
     "status": "completed"
    },
    "tags": []
   },
   "source": [
    "### Key Objectives:\n",
    "- Building a neural network that differentiates two hand-written digits 3 and 8.\n",
    "- Comparing the results of this Neural Network (NN) to that of a Logistic Regression (LR) model.\n",
    "\n",
    "### Requirements:\n",
    "- 'Kudzu' : A neural network library that was designed during our course by [Univ.AI](www.univ.ai). \n",
    "- MNIST Database\n",
    "\n",
    "If MNIST is not installed, use the command `!pip install mnist` given below.\n",
    "It can be run both from the command line and Jupyter Notebook."
   ]
  },
  {
   "cell_type": "code",
   "execution_count": 1,
   "metadata": {
    "execution": {
     "iopub.execute_input": "2020-10-14T10:05:34.285738Z",
     "iopub.status.busy": "2020-10-14T10:05:34.285003Z",
     "iopub.status.idle": "2020-10-14T10:05:35.964639Z",
     "shell.execute_reply": "2020-10-14T10:05:35.963949Z"
    },
    "papermill": {
     "duration": 1.721207,
     "end_time": "2020-10-14T10:05:35.964826",
     "exception": false,
     "start_time": "2020-10-14T10:05:34.243619",
     "status": "completed"
    },
    "tags": []
   },
   "outputs": [
    {
     "name": "stdout",
     "output_type": "stream",
     "text": [
      "Collecting mnist\r\n"
     ]
    },
    {
     "name": "stdout",
     "output_type": "stream",
     "text": [
      "  Downloading mnist-0.2.2-py2.py3-none-any.whl (3.5 kB)\r\n"
     ]
    },
    {
     "name": "stdout",
     "output_type": "stream",
     "text": [
      "Requirement already satisfied: numpy in /opt/hostedtoolcache/Python/3.6.12/x64/lib/python3.6/site-packages (from mnist) (1.19.2)\r\n"
     ]
    },
    {
     "name": "stdout",
     "output_type": "stream",
     "text": [
      "Installing collected packages: mnist\r\n"
     ]
    },
    {
     "name": "stdout",
     "output_type": "stream",
     "text": [
      "Successfully installed mnist-0.2.2\r\n"
     ]
    }
   ],
   "source": [
    "!pip install mnist "
   ]
  },
  {
   "cell_type": "markdown",
   "metadata": {
    "papermill": {
     "duration": 0.035533,
     "end_time": "2020-10-14T10:05:36.031170",
     "exception": false,
     "start_time": "2020-10-14T10:05:35.995637",
     "status": "completed"
    },
    "tags": []
   },
   "source": [
    "#### Importing necessary libraries"
   ]
  },
  {
   "cell_type": "code",
   "execution_count": 2,
   "metadata": {
    "execution": {
     "iopub.execute_input": "2020-10-14T10:05:36.104538Z",
     "iopub.status.busy": "2020-10-14T10:05:36.103860Z",
     "iopub.status.idle": "2020-10-14T10:05:36.771387Z",
     "shell.execute_reply": "2020-10-14T10:05:36.770802Z"
    },
    "papermill": {
     "duration": 0.706458,
     "end_time": "2020-10-14T10:05:36.771540",
     "exception": false,
     "start_time": "2020-10-14T10:05:36.065082",
     "status": "completed"
    },
    "tags": []
   },
   "outputs": [],
   "source": [
    "%load_ext autoreload\n",
    "%autoreload 2\n",
    "\n",
    "%matplotlib inline\n",
    "import matplotlib.pyplot as plt\n",
    "\n",
    "import numpy as np\n",
    "import pandas as pd"
   ]
  },
  {
   "cell_type": "markdown",
   "metadata": {
    "papermill": {
     "duration": 0.030609,
     "end_time": "2020-10-14T10:05:36.837677",
     "exception": false,
     "start_time": "2020-10-14T10:05:36.807068",
     "status": "completed"
    },
    "tags": []
   },
   "source": [
    "### Preparing the Data"
   ]
  },
  {
   "cell_type": "code",
   "execution_count": 3,
   "metadata": {
    "execution": {
     "iopub.execute_input": "2020-10-14T10:05:36.903132Z",
     "iopub.status.busy": "2020-10-14T10:05:36.902470Z",
     "iopub.status.idle": "2020-10-14T10:05:36.931866Z",
     "shell.execute_reply": "2020-10-14T10:05:36.931313Z"
    },
    "papermill": {
     "duration": 0.06408,
     "end_time": "2020-10-14T10:05:36.932104",
     "exception": false,
     "start_time": "2020-10-14T10:05:36.868024",
     "status": "completed"
    },
    "tags": []
   },
   "outputs": [],
   "source": [
    "import mnist"
   ]
  },
  {
   "cell_type": "code",
   "execution_count": 4,
   "metadata": {
    "execution": {
     "iopub.execute_input": "2020-10-14T10:05:37.014956Z",
     "iopub.status.busy": "2020-10-14T10:05:37.014181Z",
     "iopub.status.idle": "2020-10-14T10:05:38.721175Z",
     "shell.execute_reply": "2020-10-14T10:05:38.720549Z"
    },
    "papermill": {
     "duration": 1.745135,
     "end_time": "2020-10-14T10:05:38.721394",
     "exception": false,
     "start_time": "2020-10-14T10:05:36.976259",
     "status": "completed"
    },
    "tags": []
   },
   "outputs": [],
   "source": [
    "train_images = mnist.train_images()\n",
    "train_labels = mnist.train_labels()"
   ]
  },
  {
   "cell_type": "code",
   "execution_count": 5,
   "metadata": {
    "execution": {
     "iopub.execute_input": "2020-10-14T10:05:38.812049Z",
     "iopub.status.busy": "2020-10-14T10:05:38.811362Z",
     "iopub.status.idle": "2020-10-14T10:05:38.829718Z",
     "shell.execute_reply": "2020-10-14T10:05:38.830575Z"
    },
    "papermill": {
     "duration": 0.06395,
     "end_time": "2020-10-14T10:05:38.830762",
     "exception": false,
     "start_time": "2020-10-14T10:05:38.766812",
     "status": "completed"
    },
    "tags": []
   },
   "outputs": [
    {
     "data": {
      "text/plain": [
       "((60000, 28, 28), (60000,))"
      ]
     },
     "execution_count": 5,
     "metadata": {},
     "output_type": "execute_result"
    }
   ],
   "source": [
    "train_images.shape, train_labels.shape"
   ]
  },
  {
   "cell_type": "code",
   "execution_count": 6,
   "metadata": {
    "execution": {
     "iopub.execute_input": "2020-10-14T10:05:38.903860Z",
     "iopub.status.busy": "2020-10-14T10:05:38.903176Z",
     "iopub.status.idle": "2020-10-14T10:05:39.970939Z",
     "shell.execute_reply": "2020-10-14T10:05:39.970338Z"
    },
    "papermill": {
     "duration": 1.105617,
     "end_time": "2020-10-14T10:05:39.971126",
     "exception": false,
     "start_time": "2020-10-14T10:05:38.865509",
     "status": "completed"
    },
    "tags": []
   },
   "outputs": [],
   "source": [
    "test_images = mnist.test_images()\n",
    "test_labels = mnist.test_labels()"
   ]
  },
  {
   "cell_type": "code",
   "execution_count": 7,
   "metadata": {
    "execution": {
     "iopub.execute_input": "2020-10-14T10:05:40.045633Z",
     "iopub.status.busy": "2020-10-14T10:05:40.044894Z",
     "iopub.status.idle": "2020-10-14T10:05:40.070001Z",
     "shell.execute_reply": "2020-10-14T10:05:40.069180Z"
    },
    "papermill": {
     "duration": 0.067027,
     "end_time": "2020-10-14T10:05:40.070330",
     "exception": false,
     "start_time": "2020-10-14T10:05:40.003303",
     "status": "completed"
    },
    "tags": []
   },
   "outputs": [
    {
     "data": {
      "text/plain": [
       "((10000, 28, 28), (10000,))"
      ]
     },
     "execution_count": 7,
     "metadata": {},
     "output_type": "execute_result"
    }
   ],
   "source": [
    "test_images.shape, test_labels.shape"
   ]
  },
  {
   "cell_type": "code",
   "execution_count": 8,
   "metadata": {
    "execution": {
     "iopub.execute_input": "2020-10-14T10:05:40.150380Z",
     "iopub.status.busy": "2020-10-14T10:05:40.149714Z",
     "iopub.status.idle": "2020-10-14T10:05:40.352474Z",
     "shell.execute_reply": "2020-10-14T10:05:40.353042Z"
    },
    "papermill": {
     "duration": 0.244286,
     "end_time": "2020-10-14T10:05:40.353223",
     "exception": false,
     "start_time": "2020-10-14T10:05:40.108937",
     "status": "completed"
    },
    "tags": []
   },
   "outputs": [
    {
     "name": "stdout",
     "output_type": "stream",
     "text": [
      "2\n"
     ]
    },
    {
     "data": {
      "text/plain": [
       "<matplotlib.image.AxesImage at 0x7fe913e449b0>"
      ]
     },
     "execution_count": 8,
     "metadata": {},
     "output_type": "execute_result"
    },
    {
     "data": {
      "image/png": "[encoded data removed]",
      "text/plain": [
       "<Figure size 432x288 with 1 Axes>"
      ]
     },
     "metadata": {
      "needs_background": "light"
     },
     "output_type": "display_data"
    }
   ],
   "source": [
    "image_index = 7776 # You may select anything up to 60,000\n",
    "print(train_labels[image_index]) \n",
    "plt.imshow(train_images[image_index], cmap='Greys')"
   ]
  },
  {
   "cell_type": "markdown",
   "metadata": {
    "papermill": {
     "duration": 0.032428,
     "end_time": "2020-10-14T10:05:40.418718",
     "exception": false,
     "start_time": "2020-10-14T10:05:40.386290",
     "status": "completed"
    },
    "tags": []
   },
   "source": [
    "## Filter data to get 3 and 8 out"
   ]
  },
  {
   "cell_type": "code",
   "execution_count": 9,
   "metadata": {
    "execution": {
     "iopub.execute_input": "2020-10-14T10:05:40.494753Z",
     "iopub.status.busy": "2020-10-14T10:05:40.494036Z",
     "iopub.status.idle": "2020-10-14T10:05:40.527674Z",
     "shell.execute_reply": "2020-10-14T10:05:40.528207Z"
    },
    "papermill": {
     "duration": 0.0731,
     "end_time": "2020-10-14T10:05:40.528390",
     "exception": false,
     "start_time": "2020-10-14T10:05:40.455290",
     "status": "completed"
    },
    "tags": []
   },
   "outputs": [],
   "source": [
    "train_filter = np.where((train_labels == 3 ) | (train_labels == 8))\n",
    "test_filter = np.where((test_labels == 3) | (test_labels == 8))\n",
    "X_train, y_train = train_images[train_filter], train_labels[train_filter]\n",
    "X_test, y_test = test_images[test_filter], test_labels[test_filter]"
   ]
  },
  {
   "cell_type": "markdown",
   "metadata": {
    "papermill": {
     "duration": 0.034176,
     "end_time": "2020-10-14T10:05:40.597244",
     "exception": false,
     "start_time": "2020-10-14T10:05:40.563068",
     "status": "completed"
    },
    "tags": []
   },
   "source": [
    "We normalize the pixel values in the 0 to 1 range"
   ]
  },
  {
   "cell_type": "code",
   "execution_count": 10,
   "metadata": {
    "execution": {
     "iopub.execute_input": "2020-10-14T10:05:40.666816Z",
     "iopub.status.busy": "2020-10-14T10:05:40.665993Z",
     "iopub.status.idle": "2020-10-14T10:05:40.735309Z",
     "shell.execute_reply": "2020-10-14T10:05:40.735843Z"
    },
    "papermill": {
     "duration": 0.106111,
     "end_time": "2020-10-14T10:05:40.736027",
     "exception": false,
     "start_time": "2020-10-14T10:05:40.629916",
     "status": "completed"
    },
    "tags": []
   },
   "outputs": [],
   "source": [
    "X_train = X_train/255.\n",
    "X_test = X_test/255."
   ]
  },
  {
   "cell_type": "markdown",
   "metadata": {
    "papermill": {
     "duration": 0.034073,
     "end_time": "2020-10-14T10:05:40.804015",
     "exception": false,
     "start_time": "2020-10-14T10:05:40.769942",
     "status": "completed"
    },
    "tags": []
   },
   "source": [
    "Setup the labels as 1 (when the digit is 3) and 0 (when the digit is 8)"
   ]
  },
  {
   "cell_type": "code",
   "execution_count": 11,
   "metadata": {
    "execution": {
     "iopub.execute_input": "2020-10-14T10:05:40.875338Z",
     "iopub.status.busy": "2020-10-14T10:05:40.874682Z",
     "iopub.status.idle": "2020-10-14T10:05:40.889866Z",
     "shell.execute_reply": "2020-10-14T10:05:40.890911Z"
    },
    "papermill": {
     "duration": 0.053633,
     "end_time": "2020-10-14T10:05:40.891172",
     "exception": false,
     "start_time": "2020-10-14T10:05:40.837539",
     "status": "completed"
    },
    "tags": []
   },
   "outputs": [],
   "source": [
    "y_train = 1*(y_train==3)\n",
    "y_test = 1*(y_test==3)"
   ]
  },
  {
   "cell_type": "code",
   "execution_count": 12,
   "metadata": {
    "execution": {
     "iopub.execute_input": "2020-10-14T10:05:41.002014Z",
     "iopub.status.busy": "2020-10-14T10:05:40.999235Z",
     "iopub.status.idle": "2020-10-14T10:05:41.021086Z",
     "shell.execute_reply": "2020-10-14T10:05:41.020426Z"
    },
    "papermill": {
     "duration": 0.076062,
     "end_time": "2020-10-14T10:05:41.021386",
     "exception": false,
     "start_time": "2020-10-14T10:05:40.945324",
     "status": "completed"
    },
    "tags": []
   },
   "outputs": [
    {
     "data": {
      "text/plain": [
       "((11982, 28, 28), (1984, 28, 28))"
      ]
     },
     "execution_count": 12,
     "metadata": {},
     "output_type": "execute_result"
    }
   ],
   "source": [
    "X_train.shape, X_test.shape"
   ]
  },
  {
   "cell_type": "markdown",
   "metadata": {
    "papermill": {
     "duration": 0.03544,
     "end_time": "2020-10-14T10:05:41.094285",
     "exception": false,
     "start_time": "2020-10-14T10:05:41.058845",
     "status": "completed"
    },
    "tags": []
   },
   "source": [
    "### Reshape the input data to create a linear array"
   ]
  },
  {
   "cell_type": "code",
   "execution_count": 13,
   "metadata": {
    "execution": {
     "iopub.execute_input": "2020-10-14T10:05:41.178912Z",
     "iopub.status.busy": "2020-10-14T10:05:41.178096Z",
     "iopub.status.idle": "2020-10-14T10:05:41.196631Z",
     "shell.execute_reply": "2020-10-14T10:05:41.197208Z"
    },
    "papermill": {
     "duration": 0.05766,
     "end_time": "2020-10-14T10:05:41.197480",
     "exception": false,
     "start_time": "2020-10-14T10:05:41.139820",
     "status": "completed"
    },
    "tags": []
   },
   "outputs": [
    {
     "data": {
      "text/plain": [
       "((11982, 784), (1984, 784))"
      ]
     },
     "execution_count": 13,
     "metadata": {},
     "output_type": "execute_result"
    }
   ],
   "source": [
    "X_train = X_train.reshape(X_train.shape[0], -1)\n",
    "X_test = X_test.reshape(X_test.shape[0], -1)\n",
    "X_train.shape, X_test.shape"
   ]
  },
  {
   "cell_type": "markdown",
   "metadata": {
    "papermill": {
     "duration": 0.033655,
     "end_time": "2020-10-14T10:05:41.264478",
     "exception": false,
     "start_time": "2020-10-14T10:05:41.230823",
     "status": "completed"
    },
    "tags": []
   },
   "source": [
    "### Importing appropriate functions from 'Kudzu'"
   ]
  },
  {
   "cell_type": "code",
   "execution_count": 14,
   "metadata": {
    "execution": {
     "iopub.execute_input": "2020-10-14T10:05:41.337991Z",
     "iopub.status.busy": "2020-10-14T10:05:41.337294Z",
     "iopub.status.idle": "2020-10-14T10:05:41.358402Z",
     "shell.execute_reply": "2020-10-14T10:05:41.357576Z"
    },
    "papermill": {
     "duration": 0.060907,
     "end_time": "2020-10-14T10:05:41.358620",
     "exception": false,
     "start_time": "2020-10-14T10:05:41.297713",
     "status": "completed"
    },
    "tags": []
   },
   "outputs": [],
   "source": [
    "from kudzu.layer import Sigmoid\n",
    "from kudzu.layer import Relu\n",
    "from kudzu.layer import Affine, Sigmoid\n",
    "\n",
    "from kudzu.model import Model\n",
    "from kudzu.train import Learner\n",
    "from kudzu.optim import GD\n",
    "from kudzu.data import Data, Dataloader, Sampler\n",
    "\n",
    "from kudzu.callbacks import AccCallback\n",
    "from kudzu.callbacks import ClfCallback\n",
    "\n",
    "from kudzu.loss import MSE"
   ]
  },
  {
   "cell_type": "markdown",
   "metadata": {
    "papermill": {
     "duration": 0.043551,
     "end_time": "2020-10-14T10:05:41.445896",
     "exception": false,
     "start_time": "2020-10-14T10:05:41.402345",
     "status": "completed"
    },
    "tags": []
   },
   "source": [
    "### Let us create a `Config` class, to store important parameters. \n",
    "This class essentially plays the role of a dictionary."
   ]
  },
  {
   "cell_type": "code",
   "execution_count": 15,
   "metadata": {
    "execution": {
     "iopub.execute_input": "2020-10-14T10:05:41.525262Z",
     "iopub.status.busy": "2020-10-14T10:05:41.524548Z",
     "iopub.status.idle": "2020-10-14T10:05:41.539074Z",
     "shell.execute_reply": "2020-10-14T10:05:41.538320Z"
    },
    "papermill": {
     "duration": 0.053916,
     "end_time": "2020-10-14T10:05:41.539242",
     "exception": false,
     "start_time": "2020-10-14T10:05:41.485326",
     "status": "completed"
    },
    "tags": []
   },
   "outputs": [],
   "source": [
    "class Config:\n",
    "    pass\n",
    "config = Config()\n",
    "config.lr = 0.001\n",
    "config.num_epochs = 251\n",
    "config.bs = 50"
   ]
  },
  {
   "cell_type": "markdown",
   "metadata": {
    "papermill": {
     "duration": 0.03581,
     "end_time": "2020-10-14T10:05:41.613678",
     "exception": false,
     "start_time": "2020-10-14T10:05:41.577868",
     "status": "completed"
    },
    "tags": []
   },
   "source": [
    "### Initializing data to the variables"
   ]
  },
  {
   "cell_type": "code",
   "execution_count": 16,
   "metadata": {
    "execution": {
     "iopub.execute_input": "2020-10-14T10:05:41.688297Z",
     "iopub.status.busy": "2020-10-14T10:05:41.687593Z",
     "iopub.status.idle": "2020-10-14T10:05:41.704953Z",
     "shell.execute_reply": "2020-10-14T10:05:41.705660Z"
    },
    "papermill": {
     "duration": 0.057446,
     "end_time": "2020-10-14T10:05:41.705840",
     "exception": false,
     "start_time": "2020-10-14T10:05:41.648394",
     "status": "completed"
    },
    "tags": []
   },
   "outputs": [],
   "source": [
    "data = Data(X_train, y_train.reshape(-1,1))\n",
    "sampler = Sampler(data, config.bs, shuffle=True)\n",
    "\n",
    "dl = Dataloader(data, sampler)\n",
    "\n",
    "opt = GD(config.lr)\n",
    "loss = MSE()"
   ]
  },
  {
   "cell_type": "code",
   "execution_count": 17,
   "metadata": {
    "execution": {
     "iopub.execute_input": "2020-10-14T10:05:41.777491Z",
     "iopub.status.busy": "2020-10-14T10:05:41.776781Z",
     "iopub.status.idle": "2020-10-14T10:05:41.795250Z",
     "shell.execute_reply": "2020-10-14T10:05:41.795889Z"
    },
    "papermill": {
     "duration": 0.056401,
     "end_time": "2020-10-14T10:05:41.796055",
     "exception": false,
     "start_time": "2020-10-14T10:05:41.739654",
     "status": "completed"
    },
    "tags": []
   },
   "outputs": [],
   "source": [
    "training_xdata = X_train\n",
    "testing_xdata = X_test\n",
    "training_ydata = y_train.reshape(-1,1)\n",
    "testing_ydata = y_test.reshape(-1,1)"
   ]
  },
  {
   "cell_type": "markdown",
   "metadata": {
    "papermill": {
     "duration": 0.033101,
     "end_time": "2020-10-14T10:05:41.863012",
     "exception": false,
     "start_time": "2020-10-14T10:05:41.829911",
     "status": "completed"
    },
    "tags": []
   },
   "source": [
    "### Running Models with the Training data\n",
    "Details about the network layers:\n",
    "- A first affine layer has 784 inputs and does 100 affine transforms. These are followed by a Relu\n",
    "- A second affine layer has 100 inputs from the 100 activations of the past layer, and does 100 affine transforms. These are followed by a Relu\n",
    "- A third affine layer has 100 activations and does 2 affine transformations to create an embedding for visualization. There is no non-linearity here.\n",
    "- A final \"logistic regression\" which has an affine transform from 2 inputs to 1 output, which is squeezed through a sigmoid.\n",
    "\n",
    "Help taken from Anshuman's Notebook."
   ]
  },
  {
   "cell_type": "code",
   "execution_count": 18,
   "metadata": {
    "execution": {
     "iopub.execute_input": "2020-10-14T10:05:41.935786Z",
     "iopub.status.busy": "2020-10-14T10:05:41.935104Z",
     "iopub.status.idle": "2020-10-14T10:05:41.958245Z",
     "shell.execute_reply": "2020-10-14T10:05:41.958895Z"
    },
    "papermill": {
     "duration": 0.062177,
     "end_time": "2020-10-14T10:05:41.959054",
     "exception": false,
     "start_time": "2020-10-14T10:05:41.896877",
     "status": "completed"
    },
    "tags": []
   },
   "outputs": [],
   "source": [
    "# layers for the Neural Network\n",
    "layers = [Affine(\"first\", 784, 100), Relu(\"first\"), Affine(\"second\", 100, 100), Relu(\"second\"), Affine(\"third\", 100, 2), Affine(\"final\", 2, 1), Sigmoid(\"final\")]\n",
    "model_nn = Model(layers)\n",
    "\n",
    "# layers for the Logistic Regression\n",
    "layers_lr = [Affine(\"logits\", 784, 1), Sigmoid(\"sigmoid\")]\n",
    "model_lr = Model(layers_lr)"
   ]
  },
  {
   "cell_type": "code",
   "execution_count": 19,
   "metadata": {
    "execution": {
     "iopub.execute_input": "2020-10-14T10:05:42.042646Z",
     "iopub.status.busy": "2020-10-14T10:05:42.034471Z",
     "iopub.status.idle": "2020-10-14T10:05:42.044740Z",
     "shell.execute_reply": "2020-10-14T10:05:42.045344Z"
    },
    "papermill": {
     "duration": 0.053233,
     "end_time": "2020-10-14T10:05:42.045528",
     "exception": false,
     "start_time": "2020-10-14T10:05:41.992295",
     "status": "completed"
    },
    "tags": []
   },
   "outputs": [],
   "source": [
    "# suffix _nn stands for Neural Network.\n",
    "learner_nn = Learner(loss, model_nn, opt, config.num_epochs)\n",
    "acc_nn = ClfCallback(learner_nn, config.bs, training_xdata , testing_xdata, training_ydata, testing_ydata)\n",
    "learner_nn.set_callbacks([acc_nn])"
   ]
  },
  {
   "cell_type": "code",
   "execution_count": 20,
   "metadata": {
    "execution": {
     "iopub.execute_input": "2020-10-14T10:05:42.126838Z",
     "iopub.status.busy": "2020-10-14T10:05:42.119250Z",
     "iopub.status.idle": "2020-10-14T10:08:00.051830Z",
     "shell.execute_reply": "2020-10-14T10:08:00.052693Z"
    },
    "papermill": {
     "duration": 137.971717,
     "end_time": "2020-10-14T10:08:00.052885",
     "exception": false,
     "start_time": "2020-10-14T10:05:42.081168",
     "status": "completed"
    },
    "tags": []
   },
   "outputs": [
    {
     "name": "stdout",
     "output_type": "stream",
     "text": [
      "====== Neural Network ======\n"
     ]
    },
    {
     "name": "stdout",
     "output_type": "stream",
     "text": [
      "Epoch 0, Loss 0.249\n",
      "Training Accuracy: 0.5618, Testing Accuracy: 0.5716\n",
      "\n"
     ]
    },
    {
     "name": "stdout",
     "output_type": "stream",
     "text": [
      "Epoch 10, Loss 0.1914\n",
      "Training Accuracy: 0.8870, Testing Accuracy: 0.8987\n",
      "\n"
     ]
    },
    {
     "name": "stdout",
     "output_type": "stream",
     "text": [
      "Epoch 20, Loss 0.0957\n",
      "Training Accuracy: 0.9160, Testing Accuracy: 0.9269\n",
      "\n"
     ]
    },
    {
     "name": "stdout",
     "output_type": "stream",
     "text": [
      "Epoch 30, Loss 0.0616\n",
      "Training Accuracy: 0.9336, Testing Accuracy: 0.9461\n",
      "\n"
     ]
    },
    {
     "name": "stdout",
     "output_type": "stream",
     "text": [
      "Epoch 40, Loss 0.0491\n",
      "Training Accuracy: 0.9435, Testing Accuracy: 0.9521\n",
      "\n"
     ]
    },
    {
     "name": "stdout",
     "output_type": "stream",
     "text": [
      "Epoch 50, Loss 0.0425\n",
      "Training Accuracy: 0.9493, Testing Accuracy: 0.9582\n",
      "\n"
     ]
    },
    {
     "name": "stdout",
     "output_type": "stream",
     "text": [
      "Epoch 60, Loss 0.0384\n",
      "Training Accuracy: 0.9544, Testing Accuracy: 0.9627\n",
      "\n"
     ]
    },
    {
     "name": "stdout",
     "output_type": "stream",
     "text": [
      "Epoch 70, Loss 0.0356\n",
      "Training Accuracy: 0.9579, Testing Accuracy: 0.9627\n",
      "\n"
     ]
    },
    {
     "name": "stdout",
     "output_type": "stream",
     "text": [
      "Epoch 80, Loss 0.0334\n",
      "Training Accuracy: 0.9606, Testing Accuracy: 0.9642\n",
      "\n"
     ]
    },
    {
     "name": "stdout",
     "output_type": "stream",
     "text": [
      "Epoch 90, Loss 0.0317\n",
      "Training Accuracy: 0.9626, Testing Accuracy: 0.9672\n",
      "\n"
     ]
    },
    {
     "name": "stdout",
     "output_type": "stream",
     "text": [
      "Epoch 100, Loss 0.0303\n",
      "Training Accuracy: 0.9640, Testing Accuracy: 0.9688\n",
      "\n"
     ]
    },
    {
     "name": "stdout",
     "output_type": "stream",
     "text": [
      "Epoch 110, Loss 0.0291\n",
      "Training Accuracy: 0.9650, Testing Accuracy: 0.9688\n",
      "\n"
     ]
    },
    {
     "name": "stdout",
     "output_type": "stream",
     "text": [
      "Epoch 120, Loss 0.028\n",
      "Training Accuracy: 0.9668, Testing Accuracy: 0.9698\n",
      "\n"
     ]
    },
    {
     "name": "stdout",
     "output_type": "stream",
     "text": [
      "Epoch 130, Loss 0.0271\n",
      "Training Accuracy: 0.9680, Testing Accuracy: 0.9688\n",
      "\n"
     ]
    },
    {
     "name": "stdout",
     "output_type": "stream",
     "text": [
      "Epoch 140, Loss 0.0263\n",
      "Training Accuracy: 0.9696, Testing Accuracy: 0.9693\n",
      "\n"
     ]
    },
    {
     "name": "stdout",
     "output_type": "stream",
     "text": [
      "Epoch 150, Loss 0.0256\n",
      "Training Accuracy: 0.9702, Testing Accuracy: 0.9718\n",
      "\n"
     ]
    },
    {
     "name": "stdout",
     "output_type": "stream",
     "text": [
      "Epoch 160, Loss 0.0249\n",
      "Training Accuracy: 0.9707, Testing Accuracy: 0.9708\n",
      "\n"
     ]
    },
    {
     "name": "stdout",
     "output_type": "stream",
     "text": [
      "Epoch 170, Loss 0.0243\n",
      "Training Accuracy: 0.9714, Testing Accuracy: 0.9708\n",
      "\n"
     ]
    },
    {
     "name": "stdout",
     "output_type": "stream",
     "text": [
      "Epoch 180, Loss 0.0238\n",
      "Training Accuracy: 0.9720, Testing Accuracy: 0.9708\n",
      "\n"
     ]
    },
    {
     "name": "stdout",
     "output_type": "stream",
     "text": [
      "Epoch 190, Loss 0.0233\n",
      "Training Accuracy: 0.9733, Testing Accuracy: 0.9703\n",
      "\n"
     ]
    },
    {
     "name": "stdout",
     "output_type": "stream",
     "text": [
      "Epoch 200, Loss 0.0228\n",
      "Training Accuracy: 0.9740, Testing Accuracy: 0.9718\n",
      "\n"
     ]
    },
    {
     "name": "stdout",
     "output_type": "stream",
     "text": [
      "Epoch 210, Loss 0.0223\n",
      "Training Accuracy: 0.9745, Testing Accuracy: 0.9723\n",
      "\n"
     ]
    },
    {
     "name": "stdout",
     "output_type": "stream",
     "text": [
      "Epoch 220, Loss 0.0219\n",
      "Training Accuracy: 0.9750, Testing Accuracy: 0.9733\n",
      "\n"
     ]
    },
    {
     "name": "stdout",
     "output_type": "stream",
     "text": [
      "Epoch 230, Loss 0.0214\n",
      "Training Accuracy: 0.9760, Testing Accuracy: 0.9733\n",
      "\n"
     ]
    },
    {
     "name": "stdout",
     "output_type": "stream",
     "text": [
      "Epoch 240, Loss 0.021\n",
      "Training Accuracy: 0.9762, Testing Accuracy: 0.9728\n",
      "\n"
     ]
    },
    {
     "name": "stdout",
     "output_type": "stream",
     "text": [
      "Epoch 250, Loss 0.0207\n",
      "Training Accuracy: 0.9766, Testing Accuracy: 0.9728\n",
      "\n"
     ]
    },
    {
     "data": {
      "text/plain": [
       "0.0014598766220482358"
      ]
     },
     "execution_count": 20,
     "metadata": {},
     "output_type": "execute_result"
    }
   ],
   "source": [
    "print(\"====== Neural Network ======\")\n",
    "learner_nn.train_loop(dl)"
   ]
  },
  {
   "cell_type": "markdown",
   "metadata": {
    "papermill": {
     "duration": 0.041133,
     "end_time": "2020-10-14T10:08:00.137447",
     "exception": false,
     "start_time": "2020-10-14T10:08:00.096314",
     "status": "completed"
    },
    "tags": []
   },
   "source": [
    "### Logistic Regression based Implementation."
   ]
  },
  {
   "cell_type": "code",
   "execution_count": 21,
   "metadata": {
    "execution": {
     "iopub.execute_input": "2020-10-14T10:08:00.229580Z",
     "iopub.status.busy": "2020-10-14T10:08:00.228168Z",
     "iopub.status.idle": "2020-10-14T10:08:00.241026Z",
     "shell.execute_reply": "2020-10-14T10:08:00.240396Z"
    },
    "papermill": {
     "duration": 0.060286,
     "end_time": "2020-10-14T10:08:00.241173",
     "exception": false,
     "start_time": "2020-10-14T10:08:00.180887",
     "status": "completed"
    },
    "tags": []
   },
   "outputs": [],
   "source": [
    "learner_lr = Learner(loss, model_lr, opt, config.num_epochs)\n",
    "acc_lr = ClfCallback(learner_lr, config.bs, training_xdata , testing_xdata, training_ydata, testing_ydata)\n",
    "learner_lr.set_callbacks([acc_lr])"
   ]
  },
  {
   "cell_type": "code",
   "execution_count": 22,
   "metadata": {
    "execution": {
     "iopub.execute_input": "2020-10-14T10:08:00.329043Z",
     "iopub.status.busy": "2020-10-14T10:08:00.328398Z",
     "iopub.status.idle": "2020-10-14T10:08:20.429733Z",
     "shell.execute_reply": "2020-10-14T10:08:20.430630Z"
    },
    "papermill": {
     "duration": 20.147978,
     "end_time": "2020-10-14T10:08:20.430803",
     "exception": false,
     "start_time": "2020-10-14T10:08:00.282825",
     "status": "completed"
    },
    "tags": []
   },
   "outputs": [
    {
     "name": "stdout",
     "output_type": "stream",
     "text": [
      "====== Logistic Regression ======\n",
      "Epoch 0, Loss 0.2062\n",
      "Training Accuracy: 0.8217, Testing Accuracy: 0.8306\n",
      "\n"
     ]
    },
    {
     "name": "stdout",
     "output_type": "stream",
     "text": [
      "Epoch 10, Loss 0.0981\n",
      "Training Accuracy: 0.9161, Testing Accuracy: 0.9229\n",
      "\n"
     ]
    },
    {
     "name": "stdout",
     "output_type": "stream",
     "text": [
      "Epoch 20, Loss 0.0773\n",
      "Training Accuracy: 0.9292, Testing Accuracy: 0.9400\n",
      "\n"
     ]
    },
    {
     "name": "stdout",
     "output_type": "stream",
     "text": [
      "Epoch 30, Loss 0.0674\n",
      "Training Accuracy: 0.9368, Testing Accuracy: 0.9476\n",
      "\n"
     ]
    },
    {
     "name": "stdout",
     "output_type": "stream",
     "text": [
      "Epoch 40, Loss 0.0613\n",
      "Training Accuracy: 0.9414, Testing Accuracy: 0.9501\n",
      "\n"
     ]
    },
    {
     "name": "stdout",
     "output_type": "stream",
     "text": [
      "Epoch 50, Loss 0.0571\n",
      "Training Accuracy: 0.9443, Testing Accuracy: 0.9521\n",
      "\n"
     ]
    },
    {
     "name": "stdout",
     "output_type": "stream",
     "text": [
      "Epoch 60, Loss 0.054\n",
      "Training Accuracy: 0.9458, Testing Accuracy: 0.9551\n",
      "\n"
     ]
    },
    {
     "name": "stdout",
     "output_type": "stream",
     "text": [
      "Epoch 70, Loss 0.0515\n",
      "Training Accuracy: 0.9481, Testing Accuracy: 0.9572\n",
      "\n"
     ]
    },
    {
     "name": "stdout",
     "output_type": "stream",
     "text": [
      "Epoch 80, Loss 0.0496\n",
      "Training Accuracy: 0.9500, Testing Accuracy: 0.9582\n",
      "\n"
     ]
    },
    {
     "name": "stdout",
     "output_type": "stream",
     "text": [
      "Epoch 90, Loss 0.0479\n",
      "Training Accuracy: 0.9513, Testing Accuracy: 0.9602\n",
      "\n"
     ]
    },
    {
     "name": "stdout",
     "output_type": "stream",
     "text": [
      "Epoch 100, Loss 0.0465\n",
      "Training Accuracy: 0.9517, Testing Accuracy: 0.9607\n",
      "\n"
     ]
    },
    {
     "name": "stdout",
     "output_type": "stream",
     "text": [
      "Epoch 110, Loss 0.0453\n",
      "Training Accuracy: 0.9528, Testing Accuracy: 0.9627\n",
      "\n"
     ]
    },
    {
     "name": "stdout",
     "output_type": "stream",
     "text": [
      "Epoch 120, Loss 0.0443\n",
      "Training Accuracy: 0.9537, Testing Accuracy: 0.9627\n",
      "\n"
     ]
    },
    {
     "name": "stdout",
     "output_type": "stream",
     "text": [
      "Epoch 130, Loss 0.0433\n",
      "Training Accuracy: 0.9542, Testing Accuracy: 0.9627\n",
      "\n"
     ]
    },
    {
     "name": "stdout",
     "output_type": "stream",
     "text": [
      "Epoch 140, Loss 0.0425\n",
      "Training Accuracy: 0.9551, Testing Accuracy: 0.9632\n",
      "\n"
     ]
    },
    {
     "name": "stdout",
     "output_type": "stream",
     "text": [
      "Epoch 150, Loss 0.0418\n",
      "Training Accuracy: 0.9556, Testing Accuracy: 0.9637\n",
      "\n"
     ]
    },
    {
     "name": "stdout",
     "output_type": "stream",
     "text": [
      "Epoch 160, Loss 0.0411\n",
      "Training Accuracy: 0.9560, Testing Accuracy: 0.9637\n",
      "\n"
     ]
    },
    {
     "name": "stdout",
     "output_type": "stream",
     "text": [
      "Epoch 170, Loss 0.0405\n",
      "Training Accuracy: 0.9564, Testing Accuracy: 0.9637\n",
      "\n"
     ]
    },
    {
     "name": "stdout",
     "output_type": "stream",
     "text": [
      "Epoch 180, Loss 0.0399\n",
      "Training Accuracy: 0.9566, Testing Accuracy: 0.9642\n",
      "\n"
     ]
    },
    {
     "name": "stdout",
     "output_type": "stream",
     "text": [
      "Epoch 190, Loss 0.0394\n",
      "Training Accuracy: 0.9572, Testing Accuracy: 0.9652\n",
      "\n"
     ]
    },
    {
     "name": "stdout",
     "output_type": "stream",
     "text": [
      "Epoch 200, Loss 0.0389\n",
      "Training Accuracy: 0.9577, Testing Accuracy: 0.9652\n",
      "\n"
     ]
    },
    {
     "name": "stdout",
     "output_type": "stream",
     "text": [
      "Epoch 210, Loss 0.0385\n",
      "Training Accuracy: 0.9584, Testing Accuracy: 0.9652\n",
      "\n"
     ]
    },
    {
     "name": "stdout",
     "output_type": "stream",
     "text": [
      "Epoch 220, Loss 0.0381\n",
      "Training Accuracy: 0.9590, Testing Accuracy: 0.9657\n",
      "\n"
     ]
    },
    {
     "name": "stdout",
     "output_type": "stream",
     "text": [
      "Epoch 230, Loss 0.0377\n",
      "Training Accuracy: 0.9595, Testing Accuracy: 0.9662\n",
      "\n"
     ]
    },
    {
     "name": "stdout",
     "output_type": "stream",
     "text": [
      "Epoch 240, Loss 0.0373\n",
      "Training Accuracy: 0.9595, Testing Accuracy: 0.9667\n",
      "\n"
     ]
    },
    {
     "name": "stdout",
     "output_type": "stream",
     "text": [
      "Epoch 250, Loss 0.037\n",
      "Training Accuracy: 0.9600, Testing Accuracy: 0.9672\n",
      "\n"
     ]
    },
    {
     "data": {
      "text/plain": [
       "0.030453014359507154"
      ]
     },
     "execution_count": 22,
     "metadata": {},
     "output_type": "execute_result"
    }
   ],
   "source": [
    "print(\"====== Logistic Regression ======\")\n",
    "learner_lr.train_loop(dl)"
   ]
  },
  {
   "cell_type": "markdown",
   "metadata": {
    "papermill": {
     "duration": 0.051058,
     "end_time": "2020-10-14T10:08:20.533765",
     "exception": false,
     "start_time": "2020-10-14T10:08:20.482707",
     "status": "completed"
    },
    "tags": []
   },
   "source": [
    "### Comparing results of NN and LR"
   ]
  },
  {
   "cell_type": "code",
   "execution_count": 23,
   "metadata": {
    "execution": {
     "iopub.execute_input": "2020-10-14T10:08:20.644081Z",
     "iopub.status.busy": "2020-10-14T10:08:20.643428Z",
     "iopub.status.idle": "2020-10-14T10:08:20.925397Z",
     "shell.execute_reply": "2020-10-14T10:08:20.924635Z"
    },
    "papermill": {
     "duration": 0.34069,
     "end_time": "2020-10-14T10:08:20.925555",
     "exception": false,
     "start_time": "2020-10-14T10:08:20.584865",
     "status": "completed"
    },
    "tags": []
   },
   "outputs": [
    {
     "data": {
      "text/plain": [
       "<matplotlib.legend.Legend at 0x7fe9119a9128>"
      ]
     },
     "execution_count": 23,
     "metadata": {},
     "output_type": "execute_result"
    },
    {
     "data": {
      "image/png": "[encoded data removed]",
      "text/plain": [
       "<Figure size 1080x720 with 1 Axes>"
      ]
     },
     "metadata": {
      "needs_background": "light"
     },
     "output_type": "display_data"
    }
   ],
   "source": [
    "plt.figure(figsize=(15,10))\n",
    "\n",
    "# Neural Network plots\n",
    "plt.plot(acc_nn.accuracies, 'r-', label = \"Training Accuracies - NN\")\n",
    "plt.plot(acc_nn.test_accuracies, 'g-', label = \"Testing Accuracies - NN\")\n",
    "\n",
    "# Logistic Regression plots\n",
    "plt.plot(acc_lr.accuracies, 'k-', label = \"Training Accuracies - LR\")\n",
    "plt.plot(acc_lr.test_accuracies, 'b-', label = \"Testing Accuracies - LR\")\n",
    "\n",
    "plt.ylim(0.8, 1)\n",
    "\n",
    "plt.legend()\n",
    "\n"
   ]
  },
  {
   "cell_type": "markdown",
   "metadata": {
    "papermill": {
     "duration": 0.05354,
     "end_time": "2020-10-14T10:08:21.041520",
     "exception": false,
     "start_time": "2020-10-14T10:08:20.987980",
     "status": "completed"
    },
    "tags": []
   },
   "source": [
    "### From the plot, we can observe the following:\n",
    "- Neural Network achieves higher accuracy than the Logistic Regression model.\n",
    "- This apparently, is because of overfitting, i.e. NN captures more noise than data.\n",
    "- Testing accuracy of NN drops below the Training accuracy at higher epochs. This explains the over-fitting on training data.\n",
    "- Logistic Regression gives a reliable accuracy, without the above mentioned problem.\n"
   ]
  },
  {
   "cell_type": "markdown",
   "metadata": {
    "papermill": {
     "duration": 0.053478,
     "end_time": "2020-10-14T10:08:21.148458",
     "exception": false,
     "start_time": "2020-10-14T10:08:21.094980",
     "status": "completed"
    },
    "tags": []
   },
   "source": [
    "### Moving till the last but one layer (excluding it).\n",
    "#### Plotting the outputs of this layer of the NN."
   ]
  },
  {
   "cell_type": "code",
   "execution_count": 24,
   "metadata": {
    "execution": {
     "iopub.execute_input": "2020-10-14T10:08:21.261928Z",
     "iopub.status.busy": "2020-10-14T10:08:21.260866Z",
     "iopub.status.idle": "2020-10-14T10:08:21.277087Z",
     "shell.execute_reply": "2020-10-14T10:08:21.276190Z"
    },
    "papermill": {
     "duration": 0.075662,
     "end_time": "2020-10-14T10:08:21.277238",
     "exception": false,
     "start_time": "2020-10-14T10:08:21.201576",
     "status": "completed"
    },
    "tags": []
   },
   "outputs": [],
   "source": [
    "model_new = Model(layers[:-2])"
   ]
  },
  {
   "cell_type": "code",
   "execution_count": 25,
   "metadata": {
    "execution": {
     "iopub.execute_input": "2020-10-14T10:08:21.392161Z",
     "iopub.status.busy": "2020-10-14T10:08:21.391146Z",
     "iopub.status.idle": "2020-10-14T10:08:21.417255Z",
     "shell.execute_reply": "2020-10-14T10:08:21.417936Z"
    },
    "papermill": {
     "duration": 0.08531,
     "end_time": "2020-10-14T10:08:21.418151",
     "exception": false,
     "start_time": "2020-10-14T10:08:21.332841",
     "status": "completed"
    },
    "tags": []
   },
   "outputs": [],
   "source": [
    "plot_testing = model_new(testing_xdata)"
   ]
  },
  {
   "cell_type": "code",
   "execution_count": 26,
   "metadata": {
    "execution": {
     "iopub.execute_input": "2020-10-14T10:08:21.535872Z",
     "iopub.status.busy": "2020-10-14T10:08:21.535197Z",
     "iopub.status.idle": "2020-10-14T10:08:21.756777Z",
     "shell.execute_reply": "2020-10-14T10:08:21.756089Z"
    },
    "papermill": {
     "duration": 0.284455,
     "end_time": "2020-10-14T10:08:21.756958",
     "exception": false,
     "start_time": "2020-10-14T10:08:21.472503",
     "status": "completed"
    },
    "tags": []
   },
   "outputs": [
    {
     "data": {
      "text/plain": [
       "Text(0.5, 1.0, 'Outputs')"
      ]
     },
     "execution_count": 26,
     "metadata": {},
     "output_type": "execute_result"
    },
    {
     "data": {
      "image/png": "[encoded data removed]",
      "text/plain": [
       "<Figure size 576x504 with 1 Axes>"
      ]
     },
     "metadata": {
      "needs_background": "light"
     },
     "output_type": "display_data"
    }
   ],
   "source": [
    "plt.figure(figsize=(8,7))\n",
    "plt.scatter(plot_testing[:,0], plot_testing[:,1], alpha = 0.1, c = y_test.ravel());\n",
    "plt.title('Outputs')"
   ]
  },
  {
   "cell_type": "markdown",
   "metadata": {
    "papermill": {
     "duration": 0.069737,
     "end_time": "2020-10-14T10:08:21.902056",
     "exception": false,
     "start_time": "2020-10-14T10:08:21.832319",
     "status": "completed"
    },
    "tags": []
   },
   "source": [
    "### Plotting probability contours"
   ]
  },
  {
   "cell_type": "code",
   "execution_count": 27,
   "metadata": {
    "execution": {
     "iopub.execute_input": "2020-10-14T10:08:22.017960Z",
     "iopub.status.busy": "2020-10-14T10:08:22.017259Z",
     "iopub.status.idle": "2020-10-14T10:08:22.028851Z",
     "shell.execute_reply": "2020-10-14T10:08:22.029450Z"
    },
    "papermill": {
     "duration": 0.073594,
     "end_time": "2020-10-14T10:08:22.029632",
     "exception": false,
     "start_time": "2020-10-14T10:08:21.956038",
     "status": "completed"
    },
    "tags": []
   },
   "outputs": [],
   "source": [
    "model_prob = Model(layers[-2:]) "
   ]
  },
  {
   "cell_type": "code",
   "execution_count": 28,
   "metadata": {
    "execution": {
     "iopub.execute_input": "2020-10-14T10:08:22.150006Z",
     "iopub.status.busy": "2020-10-14T10:08:22.149209Z",
     "iopub.status.idle": "2020-10-14T10:08:22.165972Z",
     "shell.execute_reply": "2020-10-14T10:08:22.166559Z"
    },
    "papermill": {
     "duration": 0.08158,
     "end_time": "2020-10-14T10:08:22.166843",
     "exception": false,
     "start_time": "2020-10-14T10:08:22.085263",
     "status": "completed"
    },
    "tags": []
   },
   "outputs": [],
   "source": [
    "# Adjust the x and y ranges according to the above generated plot.\n",
    "x_range = np.linspace(-4, 1, 100) \n",
    "y_range = np.linspace(-6, 6, 100) \n",
    "x_grid, y_grid = np.meshgrid(x_range, y_range) # x_grid and y_grig are of size 100 X 100\n",
    "\n",
    "# converting x_grid and y_grid to continuous arrays\n",
    "x_grid_flat = np.ravel(x_grid)\n",
    "y_grid_flat = np.ravel(y_grid)\n",
    "\n",
    "# The last layer of the current model takes two columns as input. Hence transpose of np.vstack() is required.\n",
    "X = np.vstack((x_grid_flat, y_grid_flat)).T\n",
    "\n",
    "# x_grid and y_grid are of size 100 x 100\n",
    "probability_contour = model_prob(X).reshape(100,100) "
   ]
  },
  {
   "cell_type": "code",
   "execution_count": 29,
   "metadata": {
    "execution": {
     "iopub.execute_input": "2020-10-14T10:08:22.320457Z",
     "iopub.status.busy": "2020-10-14T10:08:22.319642Z",
     "iopub.status.idle": "2020-10-14T10:08:22.608285Z",
     "shell.execute_reply": "2020-10-14T10:08:22.608834Z"
    },
    "papermill": {
     "duration": 0.366152,
     "end_time": "2020-10-14T10:08:22.609004",
     "exception": false,
     "start_time": "2020-10-14T10:08:22.242852",
     "status": "completed"
    },
    "tags": []
   },
   "outputs": [
    {
     "data": {
      "image/png": "[encoded data removed]",
      "text/plain": [
       "<Figure size 720x648 with 1 Axes>"
      ]
     },
     "metadata": {
      "needs_background": "light"
     },
     "output_type": "display_data"
    }
   ],
   "source": [
    "plt.figure(figsize=(10,9))\n",
    "plt.scatter(plot_testing[:,0], plot_testing[:,1], alpha = 0.1, c = y_test.ravel())\n",
    "contours = plt.contour(x_grid,y_grid,probability_contour)\n",
    "plt.title('Probability Contours')\n",
    "plt.clabel(contours, inline = True );"
   ]
  }
 ],
 "metadata": {
  "kernelspec": {
   "display_name": "Python 3",
   "language": "python",
   "name": "python3"
  },
  "language_info": {
   "codemirror_mode": {
    "name": "ipython",
    "version": 3
   },
   "file_extension": ".py",
   "mimetype": "text/x-python",
   "name": "python",
   "nbconvert_exporter": "python",
   "pygments_lexer": "ipython3",
   "version": "3.6.12"
  },
  "papermill": {
   "duration": 170.03624,
   "end_time": "2020-10-14T10:08:23.004257",
   "environment_variables": {},
   "exception": null,
   "input_path": "2020-08-11-NeuralNetwork.ipynb",
   "output_path": "2020-08-11-NeuralNetwork.ipynb",
   "parameters": {},
   "start_time": "2020-10-14T10:05:32.968017",
   "version": "2.1.2"
  }
 },
 "nbformat": 4,
 "nbformat_minor": 4
}