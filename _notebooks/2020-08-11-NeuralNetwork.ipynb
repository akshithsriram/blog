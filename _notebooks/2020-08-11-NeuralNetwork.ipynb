{
 "cells": [
  {
   "cell_type": "markdown",
   "metadata": {
    "papermill": {
     "duration": 0.030752,
     "end_time": "2020-09-20T10:04:45.626712",
     "exception": false,
     "start_time": "2020-09-20T10:04:45.595960",
     "status": "completed"
    },
    "tags": []
   },
   "source": [
    "# \"A Basic Neural Network: Differentiate Hand-Written Digits\"\n",
    "\n",
    "- badges: true\n",
    "- author: Akshith Sriram"
   ]
  },
  {
   "cell_type": "markdown",
   "metadata": {
    "papermill": {
     "duration": 0.022669,
     "end_time": "2020-09-20T10:04:45.672891",
     "exception": false,
     "start_time": "2020-09-20T10:04:45.650222",
     "status": "completed"
    },
    "tags": []
   },
   "source": [
    "### Key Objectives:\n",
    "- Building a neural network that differentiates two hand-written digits 3 and 8.\n",
    "- Comparing the results of this Neural Network (NN) to that of a Logistic Regression (LR) model.\n",
    "\n",
    "### Requirements:\n",
    "- 'Kudzu' : A neural network library that was designed during our course by [Univ.AI](www.univ.ai). \n",
    "- MNIST Database\n",
    "\n",
    "If MNIST is not installed, use the command `!pip install mnist` given below.\n",
    "It can be run both from the command line and Jupyter Notebook."
   ]
  },
  {
   "cell_type": "code",
   "execution_count": 1,
   "metadata": {
    "execution": {
     "iopub.execute_input": "2020-09-20T10:04:45.724615Z",
     "iopub.status.busy": "2020-09-20T10:04:45.724093Z",
     "iopub.status.idle": "2020-09-20T10:04:47.068579Z",
     "shell.execute_reply": "2020-09-20T10:04:47.066967Z"
    },
    "papermill": {
     "duration": 1.373739,
     "end_time": "2020-09-20T10:04:47.068795",
     "exception": false,
     "start_time": "2020-09-20T10:04:45.695056",
     "status": "completed"
    },
    "tags": []
   },
   "outputs": [
    {
     "name": "stdout",
     "output_type": "stream",
     "text": [
      "Collecting mnist\r\n"
     ]
    },
    {
     "name": "stdout",
     "output_type": "stream",
     "text": [
      "  Downloading mnist-0.2.2-py2.py3-none-any.whl (3.5 kB)\r\n"
     ]
    },
    {
     "name": "stdout",
     "output_type": "stream",
     "text": [
      "Requirement already satisfied: numpy in /opt/hostedtoolcache/Python/3.6.12/x64/lib/python3.6/site-packages (from mnist) (1.19.2)\r\n"
     ]
    },
    {
     "name": "stdout",
     "output_type": "stream",
     "text": [
      "Installing collected packages: mnist\r\n",
      "Successfully installed mnist-0.2.2\r\n"
     ]
    }
   ],
   "source": [
    "!pip install mnist "
   ]
  },
  {
   "cell_type": "markdown",
   "metadata": {
    "papermill": {
     "duration": 0.024629,
     "end_time": "2020-09-20T10:04:47.119177",
     "exception": false,
     "start_time": "2020-09-20T10:04:47.094548",
     "status": "completed"
    },
    "tags": []
   },
   "source": [
    "#### Importing necessary libraries"
   ]
  },
  {
   "cell_type": "code",
   "execution_count": 2,
   "metadata": {
    "execution": {
     "iopub.execute_input": "2020-09-20T10:04:47.173103Z",
     "iopub.status.busy": "2020-09-20T10:04:47.172547Z",
     "iopub.status.idle": "2020-09-20T10:04:47.723213Z",
     "shell.execute_reply": "2020-09-20T10:04:47.722677Z"
    },
    "papermill": {
     "duration": 0.58087,
     "end_time": "2020-09-20T10:04:47.723345",
     "exception": false,
     "start_time": "2020-09-20T10:04:47.142475",
     "status": "completed"
    },
    "tags": []
   },
   "outputs": [],
   "source": [
    "%load_ext autoreload\n",
    "%autoreload 2\n",
    "\n",
    "%matplotlib inline\n",
    "import matplotlib.pyplot as plt\n",
    "\n",
    "import numpy as np\n",
    "import pandas as pd"
   ]
  },
  {
   "cell_type": "markdown",
   "metadata": {
    "papermill": {
     "duration": 0.023034,
     "end_time": "2020-09-20T10:04:47.771091",
     "exception": false,
     "start_time": "2020-09-20T10:04:47.748057",
     "status": "completed"
    },
    "tags": []
   },
   "source": [
    "### Preparing the Data"
   ]
  },
  {
   "cell_type": "code",
   "execution_count": 3,
   "metadata": {
    "execution": {
     "iopub.execute_input": "2020-09-20T10:04:47.825252Z",
     "iopub.status.busy": "2020-09-20T10:04:47.824659Z",
     "iopub.status.idle": "2020-09-20T10:04:47.838121Z",
     "shell.execute_reply": "2020-09-20T10:04:47.837631Z"
    },
    "papermill": {
     "duration": 0.043145,
     "end_time": "2020-09-20T10:04:47.838290",
     "exception": false,
     "start_time": "2020-09-20T10:04:47.795145",
     "status": "completed"
    },
    "tags": []
   },
   "outputs": [],
   "source": [
    "import mnist"
   ]
  },
  {
   "cell_type": "code",
   "execution_count": 4,
   "metadata": {
    "execution": {
     "iopub.execute_input": "2020-09-20T10:04:47.893451Z",
     "iopub.status.busy": "2020-09-20T10:04:47.892870Z",
     "iopub.status.idle": "2020-09-20T10:04:48.638027Z",
     "shell.execute_reply": "2020-09-20T10:04:48.637297Z"
    },
    "papermill": {
     "duration": 0.774238,
     "end_time": "2020-09-20T10:04:48.638226",
     "exception": false,
     "start_time": "2020-09-20T10:04:47.863988",
     "status": "completed"
    },
    "tags": []
   },
   "outputs": [],
   "source": [
    "train_images = mnist.train_images()\n",
    "train_labels = mnist.train_labels()"
   ]
  },
  {
   "cell_type": "code",
   "execution_count": 5,
   "metadata": {
    "execution": {
     "iopub.execute_input": "2020-09-20T10:04:48.692066Z",
     "iopub.status.busy": "2020-09-20T10:04:48.691522Z",
     "iopub.status.idle": "2020-09-20T10:04:48.706239Z",
     "shell.execute_reply": "2020-09-20T10:04:48.705703Z"
    },
    "papermill": {
     "duration": 0.042718,
     "end_time": "2020-09-20T10:04:48.706373",
     "exception": false,
     "start_time": "2020-09-20T10:04:48.663655",
     "status": "completed"
    },
    "tags": []
   },
   "outputs": [
    {
     "data": {
      "text/plain": [
       "((60000, 28, 28), (60000,))"
      ]
     },
     "execution_count": 5,
     "metadata": {},
     "output_type": "execute_result"
    }
   ],
   "source": [
    "train_images.shape, train_labels.shape"
   ]
  },
  {
   "cell_type": "code",
   "execution_count": 6,
   "metadata": {
    "execution": {
     "iopub.execute_input": "2020-09-20T10:04:48.760065Z",
     "iopub.status.busy": "2020-09-20T10:04:48.759454Z",
     "iopub.status.idle": "2020-09-20T10:04:49.013782Z",
     "shell.execute_reply": "2020-09-20T10:04:49.012854Z"
    },
    "papermill": {
     "duration": 0.283673,
     "end_time": "2020-09-20T10:04:49.014001",
     "exception": false,
     "start_time": "2020-09-20T10:04:48.730328",
     "status": "completed"
    },
    "tags": []
   },
   "outputs": [],
   "source": [
    "test_images = mnist.test_images()\n",
    "test_labels = mnist.test_labels()"
   ]
  },
  {
   "cell_type": "code",
   "execution_count": 7,
   "metadata": {
    "execution": {
     "iopub.execute_input": "2020-09-20T10:04:49.069127Z",
     "iopub.status.busy": "2020-09-20T10:04:49.068168Z",
     "iopub.status.idle": "2020-09-20T10:04:49.082825Z",
     "shell.execute_reply": "2020-09-20T10:04:49.083269Z"
    },
    "papermill": {
     "duration": 0.043173,
     "end_time": "2020-09-20T10:04:49.083411",
     "exception": false,
     "start_time": "2020-09-20T10:04:49.040238",
     "status": "completed"
    },
    "tags": []
   },
   "outputs": [
    {
     "data": {
      "text/plain": [
       "((10000, 28, 28), (10000,))"
      ]
     },
     "execution_count": 7,
     "metadata": {},
     "output_type": "execute_result"
    }
   ],
   "source": [
    "test_images.shape, test_labels.shape"
   ]
  },
  {
   "cell_type": "code",
   "execution_count": 8,
   "metadata": {
    "execution": {
     "iopub.execute_input": "2020-09-20T10:04:49.136583Z",
     "iopub.status.busy": "2020-09-20T10:04:49.136107Z",
     "iopub.status.idle": "2020-09-20T10:04:49.269269Z",
     "shell.execute_reply": "2020-09-20T10:04:49.269730Z"
    },
    "papermill": {
     "duration": 0.163406,
     "end_time": "2020-09-20T10:04:49.269894",
     "exception": false,
     "start_time": "2020-09-20T10:04:49.106488",
     "status": "completed"
    },
    "tags": []
   },
   "outputs": [
    {
     "name": "stdout",
     "output_type": "stream",
     "text": [
      "2\n"
     ]
    },
    {
     "data": {
      "text/plain": [
       "<matplotlib.image.AxesImage at 0x7f35d0ed3780>"
      ]
     },
     "execution_count": 8,
     "metadata": {},
     "output_type": "execute_result"
    },
    {
     "data": {
      "image/png": "[encoded data removed]",
      "text/plain": [
       "<Figure size 432x288 with 1 Axes>"
      ]
     },
     "metadata": {
      "needs_background": "light"
     },
     "output_type": "display_data"
    }
   ],
   "source": [
    "image_index = 7776 # You may select anything up to 60,000\n",
    "print(train_labels[image_index]) \n",
    "plt.imshow(train_images[image_index], cmap='Greys')"
   ]
  },
  {
   "cell_type": "markdown",
   "metadata": {
    "papermill": {
     "duration": 0.445094,
     "end_time": "2020-09-20T10:04:49.740856",
     "exception": false,
     "start_time": "2020-09-20T10:04:49.295762",
     "status": "completed"
    },
    "tags": []
   },
   "source": [
    "## Filter data to get 3 and 8 out"
   ]
  },
  {
   "cell_type": "code",
   "execution_count": 9,
   "metadata": {
    "execution": {
     "iopub.execute_input": "2020-09-20T10:04:49.800050Z",
     "iopub.status.busy": "2020-09-20T10:04:49.799441Z",
     "iopub.status.idle": "2020-09-20T10:04:49.821111Z",
     "shell.execute_reply": "2020-09-20T10:04:49.820621Z"
    },
    "papermill": {
     "duration": 0.051686,
     "end_time": "2020-09-20T10:04:49.821245",
     "exception": false,
     "start_time": "2020-09-20T10:04:49.769559",
     "status": "completed"
    },
    "tags": []
   },
   "outputs": [],
   "source": [
    "train_filter = np.where((train_labels == 3 ) | (train_labels == 8))\n",
    "test_filter = np.where((test_labels == 3) | (test_labels == 8))\n",
    "X_train, y_train = train_images[train_filter], train_labels[train_filter]\n",
    "X_test, y_test = test_images[test_filter], test_labels[test_filter]"
   ]
  },
  {
   "cell_type": "markdown",
   "metadata": {
    "papermill": {
     "duration": 0.025682,
     "end_time": "2020-09-20T10:04:49.873519",
     "exception": false,
     "start_time": "2020-09-20T10:04:49.847837",
     "status": "completed"
    },
    "tags": []
   },
   "source": [
    "We normalize the pixel values in the 0 to 1 range"
   ]
  },
  {
   "cell_type": "code",
   "execution_count": 10,
   "metadata": {
    "execution": {
     "iopub.execute_input": "2020-09-20T10:04:49.931654Z",
     "iopub.status.busy": "2020-09-20T10:04:49.931105Z",
     "iopub.status.idle": "2020-09-20T10:04:49.984065Z",
     "shell.execute_reply": "2020-09-20T10:04:49.983458Z"
    },
    "papermill": {
     "duration": 0.084165,
     "end_time": "2020-09-20T10:04:49.984205",
     "exception": false,
     "start_time": "2020-09-20T10:04:49.900040",
     "status": "completed"
    },
    "tags": []
   },
   "outputs": [],
   "source": [
    "X_train = X_train/255.\n",
    "X_test = X_test/255."
   ]
  },
  {
   "cell_type": "markdown",
   "metadata": {
    "papermill": {
     "duration": 0.026524,
     "end_time": "2020-09-20T10:04:50.037568",
     "exception": false,
     "start_time": "2020-09-20T10:04:50.011044",
     "status": "completed"
    },
    "tags": []
   },
   "source": [
    "Setup the labels as 1 (when the digit is 3) and 0 (when the digit is 8)"
   ]
  },
  {
   "cell_type": "code",
   "execution_count": 11,
   "metadata": {
    "execution": {
     "iopub.execute_input": "2020-09-20T10:04:50.099122Z",
     "iopub.status.busy": "2020-09-20T10:04:50.098523Z",
     "iopub.status.idle": "2020-09-20T10:04:50.110835Z",
     "shell.execute_reply": "2020-09-20T10:04:50.110375Z"
    },
    "papermill": {
     "duration": 0.04623,
     "end_time": "2020-09-20T10:04:50.110959",
     "exception": false,
     "start_time": "2020-09-20T10:04:50.064729",
     "status": "completed"
    },
    "tags": []
   },
   "outputs": [],
   "source": [
    "y_train = 1*(y_train==3)\n",
    "y_test = 1*(y_test==3)"
   ]
  },
  {
   "cell_type": "code",
   "execution_count": 12,
   "metadata": {
    "execution": {
     "iopub.execute_input": "2020-09-20T10:04:50.173692Z",
     "iopub.status.busy": "2020-09-20T10:04:50.173084Z",
     "iopub.status.idle": "2020-09-20T10:04:50.183947Z",
     "shell.execute_reply": "2020-09-20T10:04:50.183447Z"
    },
    "papermill": {
     "duration": 0.047004,
     "end_time": "2020-09-20T10:04:50.184076",
     "exception": false,
     "start_time": "2020-09-20T10:04:50.137072",
     "status": "completed"
    },
    "tags": []
   },
   "outputs": [
    {
     "data": {
      "text/plain": [
       "((11982, 28, 28), (1984, 28, 28))"
      ]
     },
     "execution_count": 12,
     "metadata": {},
     "output_type": "execute_result"
    }
   ],
   "source": [
    "X_train.shape, X_test.shape"
   ]
  },
  {
   "cell_type": "markdown",
   "metadata": {
    "papermill": {
     "duration": 0.027118,
     "end_time": "2020-09-20T10:04:50.237923",
     "exception": false,
     "start_time": "2020-09-20T10:04:50.210805",
     "status": "completed"
    },
    "tags": []
   },
   "source": [
    "### Reshape the input data to create a linear array"
   ]
  },
  {
   "cell_type": "code",
   "execution_count": 13,
   "metadata": {
    "execution": {
     "iopub.execute_input": "2020-09-20T10:04:50.296140Z",
     "iopub.status.busy": "2020-09-20T10:04:50.295593Z",
     "iopub.status.idle": "2020-09-20T10:04:50.311504Z",
     "shell.execute_reply": "2020-09-20T10:04:50.311039Z"
    },
    "papermill": {
     "duration": 0.047167,
     "end_time": "2020-09-20T10:04:50.311624",
     "exception": false,
     "start_time": "2020-09-20T10:04:50.264457",
     "status": "completed"
    },
    "tags": []
   },
   "outputs": [
    {
     "data": {
      "text/plain": [
       "((11982, 784), (1984, 784))"
      ]
     },
     "execution_count": 13,
     "metadata": {},
     "output_type": "execute_result"
    }
   ],
   "source": [
    "X_train = X_train.reshape(X_train.shape[0], -1)\n",
    "X_test = X_test.reshape(X_test.shape[0], -1)\n",
    "X_train.shape, X_test.shape"
   ]
  },
  {
   "cell_type": "markdown",
   "metadata": {
    "papermill": {
     "duration": 0.026054,
     "end_time": "2020-09-20T10:04:50.363974",
     "exception": false,
     "start_time": "2020-09-20T10:04:50.337920",
     "status": "completed"
    },
    "tags": []
   },
   "source": [
    "### Importing appropriate functions from 'Kudzu'"
   ]
  },
  {
   "cell_type": "code",
   "execution_count": 14,
   "metadata": {
    "execution": {
     "iopub.execute_input": "2020-09-20T10:04:50.421380Z",
     "iopub.status.busy": "2020-09-20T10:04:50.420820Z",
     "iopub.status.idle": "2020-09-20T10:04:50.438790Z",
     "shell.execute_reply": "2020-09-20T10:04:50.439206Z"
    },
    "papermill": {
     "duration": 0.050219,
     "end_time": "2020-09-20T10:04:50.439349",
     "exception": false,
     "start_time": "2020-09-20T10:04:50.389130",
     "status": "completed"
    },
    "tags": []
   },
   "outputs": [],
   "source": [
    "from kudzu.layer import Sigmoid\n",
    "from kudzu.layer import Relu\n",
    "from kudzu.layer import Affine, Sigmoid\n",
    "\n",
    "from kudzu.model import Model\n",
    "from kudzu.train import Learner\n",
    "from kudzu.optim import GD\n",
    "from kudzu.data import Data, Dataloader, Sampler\n",
    "\n",
    "from kudzu.callbacks import AccCallback\n",
    "from kudzu.callbacks import ClfCallback\n",
    "\n",
    "from kudzu.loss import MSE"
   ]
  },
  {
   "cell_type": "markdown",
   "metadata": {
    "papermill": {
     "duration": 0.026731,
     "end_time": "2020-09-20T10:04:50.492067",
     "exception": false,
     "start_time": "2020-09-20T10:04:50.465336",
     "status": "completed"
    },
    "tags": []
   },
   "source": [
    "### Let us create a `Config` class, to store important parameters. \n",
    "This class essentially plays the role of a dictionary."
   ]
  },
  {
   "cell_type": "code",
   "execution_count": 15,
   "metadata": {
    "execution": {
     "iopub.execute_input": "2020-09-20T10:04:50.559665Z",
     "iopub.status.busy": "2020-09-20T10:04:50.559098Z",
     "iopub.status.idle": "2020-09-20T10:04:50.567593Z",
     "shell.execute_reply": "2020-09-20T10:04:50.567049Z"
    },
    "papermill": {
     "duration": 0.049006,
     "end_time": "2020-09-20T10:04:50.567726",
     "exception": false,
     "start_time": "2020-09-20T10:04:50.518720",
     "status": "completed"
    },
    "tags": []
   },
   "outputs": [],
   "source": [
    "class Config:\n",
    "    pass\n",
    "config = Config()\n",
    "config.lr = 0.001\n",
    "config.num_epochs = 251\n",
    "config.bs = 50"
   ]
  },
  {
   "cell_type": "markdown",
   "metadata": {
    "papermill": {
     "duration": 0.027398,
     "end_time": "2020-09-20T10:04:50.622757",
     "exception": false,
     "start_time": "2020-09-20T10:04:50.595359",
     "status": "completed"
    },
    "tags": []
   },
   "source": [
    "### Initializing data to the variables"
   ]
  },
  {
   "cell_type": "code",
   "execution_count": 16,
   "metadata": {
    "execution": {
     "iopub.execute_input": "2020-09-20T10:04:50.695406Z",
     "iopub.status.busy": "2020-09-20T10:04:50.687080Z",
     "iopub.status.idle": "2020-09-20T10:04:50.697764Z",
     "shell.execute_reply": "2020-09-20T10:04:50.697293Z"
    },
    "papermill": {
     "duration": 0.047896,
     "end_time": "2020-09-20T10:04:50.697885",
     "exception": false,
     "start_time": "2020-09-20T10:04:50.649989",
     "status": "completed"
    },
    "tags": []
   },
   "outputs": [],
   "source": [
    "data = Data(X_train, y_train.reshape(-1,1))\n",
    "sampler = Sampler(data, config.bs, shuffle=True)\n",
    "\n",
    "dl = Dataloader(data, sampler)\n",
    "\n",
    "opt = GD(config.lr)\n",
    "loss = MSE()"
   ]
  },
  {
   "cell_type": "code",
   "execution_count": 17,
   "metadata": {
    "execution": {
     "iopub.execute_input": "2020-09-20T10:04:50.768585Z",
     "iopub.status.busy": "2020-09-20T10:04:50.763018Z",
     "iopub.status.idle": "2020-09-20T10:04:50.770596Z",
     "shell.execute_reply": "2020-09-20T10:04:50.771015Z"
    },
    "papermill": {
     "duration": 0.046501,
     "end_time": "2020-09-20T10:04:50.771159",
     "exception": false,
     "start_time": "2020-09-20T10:04:50.724658",
     "status": "completed"
    },
    "tags": []
   },
   "outputs": [],
   "source": [
    "training_xdata = X_train\n",
    "testing_xdata = X_test\n",
    "training_ydata = y_train.reshape(-1,1)\n",
    "testing_ydata = y_test.reshape(-1,1)"
   ]
  },
  {
   "cell_type": "markdown",
   "metadata": {
    "papermill": {
     "duration": 0.028217,
     "end_time": "2020-09-20T10:04:50.824792",
     "exception": false,
     "start_time": "2020-09-20T10:04:50.796575",
     "status": "completed"
    },
    "tags": []
   },
   "source": [
    "### Running Models with the Training data\n",
    "Details about the network layers:\n",
    "- A first affine layer has 784 inputs and does 100 affine transforms. These are followed by a Relu\n",
    "- A second affine layer has 100 inputs from the 100 activations of the past layer, and does 100 affine transforms. These are followed by a Relu\n",
    "- A third affine layer has 100 activations and does 2 affine transformations to create an embedding for visualization. There is no non-linearity here.\n",
    "- A final \"logistic regression\" which has an affine transform from 2 inputs to 1 output, which is squeezed through a sigmoid.\n",
    "\n",
    "Help taken from Anshuman's Notebook."
   ]
  },
  {
   "cell_type": "code",
   "execution_count": 18,
   "metadata": {
    "execution": {
     "iopub.execute_input": "2020-09-20T10:04:50.885784Z",
     "iopub.status.busy": "2020-09-20T10:04:50.885233Z",
     "iopub.status.idle": "2020-09-20T10:04:50.903608Z",
     "shell.execute_reply": "2020-09-20T10:04:50.904222Z"
    },
    "papermill": {
     "duration": 0.051474,
     "end_time": "2020-09-20T10:04:50.904398",
     "exception": false,
     "start_time": "2020-09-20T10:04:50.852924",
     "status": "completed"
    },
    "tags": []
   },
   "outputs": [],
   "source": [
    "# layers for the Neural Network\n",
    "layers = [Affine(\"first\", 784, 100), Relu(\"first\"), Affine(\"second\", 100, 100), Relu(\"second\"), Affine(\"third\", 100, 2), Affine(\"final\", 2, 1), Sigmoid(\"final\")]\n",
    "model_nn = Model(layers)\n",
    "\n",
    "# layers for the Logistic Regression\n",
    "layers_lr = [Affine(\"logits\", 784, 1), Sigmoid(\"sigmoid\")]\n",
    "model_lr = Model(layers_lr)"
   ]
  },
  {
   "cell_type": "code",
   "execution_count": 19,
   "metadata": {
    "execution": {
     "iopub.execute_input": "2020-09-20T10:04:50.961069Z",
     "iopub.status.busy": "2020-09-20T10:04:50.960481Z",
     "iopub.status.idle": "2020-09-20T10:04:50.972663Z",
     "shell.execute_reply": "2020-09-20T10:04:50.972161Z"
    },
    "papermill": {
     "duration": 0.041541,
     "end_time": "2020-09-20T10:04:50.972789",
     "exception": false,
     "start_time": "2020-09-20T10:04:50.931248",
     "status": "completed"
    },
    "tags": []
   },
   "outputs": [],
   "source": [
    "# suffix _nn stands for Neural Network.\n",
    "learner_nn = Learner(loss, model_nn, opt, config.num_epochs)\n",
    "acc_nn = ClfCallback(learner_nn, config.bs, training_xdata , testing_xdata, training_ydata, testing_ydata)\n",
    "learner_nn.set_callbacks([acc_nn])"
   ]
  },
  {
   "cell_type": "code",
   "execution_count": 20,
   "metadata": {
    "execution": {
     "iopub.execute_input": "2020-09-20T10:04:51.030690Z",
     "iopub.status.busy": "2020-09-20T10:04:51.030120Z",
     "iopub.status.idle": "2020-09-20T10:06:12.947652Z",
     "shell.execute_reply": "2020-09-20T10:06:12.948469Z"
    },
    "papermill": {
     "duration": 81.948729,
     "end_time": "2020-09-20T10:06:12.948634",
     "exception": false,
     "start_time": "2020-09-20T10:04:50.999905",
     "status": "completed"
    },
    "tags": []
   },
   "outputs": [
    {
     "name": "stdout",
     "output_type": "stream",
     "text": [
      "====== Neural Network ======\n"
     ]
    },
    {
     "name": "stdout",
     "output_type": "stream",
     "text": [
      "Epoch 0, Loss 0.2481\n",
      "Training Accuracy: 0.6225, Testing Accuracy: 0.6331\n",
      "\n"
     ]
    },
    {
     "name": "stdout",
     "output_type": "stream",
     "text": [
      "Epoch 10, Loss 0.1316\n",
      "Training Accuracy: 0.8993, Testing Accuracy: 0.9068\n",
      "\n"
     ]
    },
    {
     "name": "stdout",
     "output_type": "stream",
     "text": [
      "Epoch 20, Loss 0.0684\n",
      "Training Accuracy: 0.9320, Testing Accuracy: 0.9435\n",
      "\n"
     ]
    },
    {
     "name": "stdout",
     "output_type": "stream",
     "text": [
      "Epoch 30, Loss 0.0497\n",
      "Training Accuracy: 0.9458, Testing Accuracy: 0.9536\n",
      "\n"
     ]
    },
    {
     "name": "stdout",
     "output_type": "stream",
     "text": [
      "Epoch 40, Loss 0.0415\n",
      "Training Accuracy: 0.9533, Testing Accuracy: 0.9602\n",
      "\n"
     ]
    },
    {
     "name": "stdout",
     "output_type": "stream",
     "text": [
      "Epoch 50, Loss 0.037\n",
      "Training Accuracy: 0.9581, Testing Accuracy: 0.9632\n",
      "\n"
     ]
    },
    {
     "name": "stdout",
     "output_type": "stream",
     "text": [
      "Epoch 60, Loss 0.034\n",
      "Training Accuracy: 0.9604, Testing Accuracy: 0.9667\n",
      "\n"
     ]
    },
    {
     "name": "stdout",
     "output_type": "stream",
     "text": [
      "Epoch 70, Loss 0.0319\n",
      "Training Accuracy: 0.9629, Testing Accuracy: 0.9682\n",
      "\n"
     ]
    },
    {
     "name": "stdout",
     "output_type": "stream",
     "text": [
      "Epoch 80, Loss 0.0302\n",
      "Training Accuracy: 0.9649, Testing Accuracy: 0.9677\n",
      "\n"
     ]
    },
    {
     "name": "stdout",
     "output_type": "stream",
     "text": [
      "Epoch 90, Loss 0.0289\n",
      "Training Accuracy: 0.9662, Testing Accuracy: 0.9677\n",
      "\n"
     ]
    },
    {
     "name": "stdout",
     "output_type": "stream",
     "text": [
      "Epoch 100, Loss 0.0278\n",
      "Training Accuracy: 0.9679, Testing Accuracy: 0.9667\n",
      "\n"
     ]
    },
    {
     "name": "stdout",
     "output_type": "stream",
     "text": [
      "Epoch 110, Loss 0.0268\n",
      "Training Accuracy: 0.9687, Testing Accuracy: 0.9677\n",
      "\n"
     ]
    },
    {
     "name": "stdout",
     "output_type": "stream",
     "text": [
      "Epoch 120, Loss 0.026\n",
      "Training Accuracy: 0.9697, Testing Accuracy: 0.9672\n",
      "\n"
     ]
    },
    {
     "name": "stdout",
     "output_type": "stream",
     "text": [
      "Epoch 130, Loss 0.0253\n",
      "Training Accuracy: 0.9706, Testing Accuracy: 0.9672\n",
      "\n"
     ]
    },
    {
     "name": "stdout",
     "output_type": "stream",
     "text": [
      "Epoch 140, Loss 0.0246\n",
      "Training Accuracy: 0.9712, Testing Accuracy: 0.9672\n",
      "\n"
     ]
    },
    {
     "name": "stdout",
     "output_type": "stream",
     "text": [
      "Epoch 150, Loss 0.0241\n",
      "Training Accuracy: 0.9718, Testing Accuracy: 0.9672\n",
      "\n"
     ]
    },
    {
     "name": "stdout",
     "output_type": "stream",
     "text": [
      "Epoch 160, Loss 0.0235\n",
      "Training Accuracy: 0.9725, Testing Accuracy: 0.9682\n",
      "\n"
     ]
    },
    {
     "name": "stdout",
     "output_type": "stream",
     "text": [
      "Epoch 170, Loss 0.023\n",
      "Training Accuracy: 0.9727, Testing Accuracy: 0.9688\n",
      "\n"
     ]
    },
    {
     "name": "stdout",
     "output_type": "stream",
     "text": [
      "Epoch 180, Loss 0.0225\n",
      "Training Accuracy: 0.9735, Testing Accuracy: 0.9693\n",
      "\n"
     ]
    },
    {
     "name": "stdout",
     "output_type": "stream",
     "text": [
      "Epoch 190, Loss 0.0221\n",
      "Training Accuracy: 0.9735, Testing Accuracy: 0.9703\n",
      "\n"
     ]
    },
    {
     "name": "stdout",
     "output_type": "stream",
     "text": [
      "Epoch 200, Loss 0.0217\n",
      "Training Accuracy: 0.9741, Testing Accuracy: 0.9698\n",
      "\n"
     ]
    },
    {
     "name": "stdout",
     "output_type": "stream",
     "text": [
      "Epoch 210, Loss 0.0213\n",
      "Training Accuracy: 0.9746, Testing Accuracy: 0.9708\n",
      "\n"
     ]
    },
    {
     "name": "stdout",
     "output_type": "stream",
     "text": [
      "Epoch 220, Loss 0.0209\n",
      "Training Accuracy: 0.9753, Testing Accuracy: 0.9708\n",
      "\n"
     ]
    },
    {
     "name": "stdout",
     "output_type": "stream",
     "text": [
      "Epoch 230, Loss 0.0205\n",
      "Training Accuracy: 0.9759, Testing Accuracy: 0.9718\n",
      "\n"
     ]
    },
    {
     "name": "stdout",
     "output_type": "stream",
     "text": [
      "Epoch 240, Loss 0.0201\n",
      "Training Accuracy: 0.9765, Testing Accuracy: 0.9713\n",
      "\n"
     ]
    },
    {
     "name": "stdout",
     "output_type": "stream",
     "text": [
      "Epoch 250, Loss 0.0198\n",
      "Training Accuracy: 0.9767, Testing Accuracy: 0.9723\n",
      "\n"
     ]
    },
    {
     "data": {
      "text/plain": [
       "0.004360301027871832"
      ]
     },
     "execution_count": 20,
     "metadata": {},
     "output_type": "execute_result"
    }
   ],
   "source": [
    "print(\"====== Neural Network ======\")\n",
    "learner_nn.train_loop(dl)"
   ]
  },
  {
   "cell_type": "markdown",
   "metadata": {
    "papermill": {
     "duration": 0.035713,
     "end_time": "2020-09-20T10:06:13.021466",
     "exception": false,
     "start_time": "2020-09-20T10:06:12.985753",
     "status": "completed"
    },
    "tags": []
   },
   "source": [
    "### Logistic Regression based Implementation."
   ]
  },
  {
   "cell_type": "code",
   "execution_count": 21,
   "metadata": {
    "execution": {
     "iopub.execute_input": "2020-09-20T10:06:13.099990Z",
     "iopub.status.busy": "2020-09-20T10:06:13.099170Z",
     "iopub.status.idle": "2020-09-20T10:06:13.109902Z",
     "shell.execute_reply": "2020-09-20T10:06:13.110353Z"
    },
    "papermill": {
     "duration": 0.053371,
     "end_time": "2020-09-20T10:06:13.110511",
     "exception": false,
     "start_time": "2020-09-20T10:06:13.057140",
     "status": "completed"
    },
    "tags": []
   },
   "outputs": [],
   "source": [
    "learner_lr = Learner(loss, model_lr, opt, config.num_epochs)\n",
    "acc_lr = ClfCallback(learner_lr, config.bs, training_xdata , testing_xdata, training_ydata, testing_ydata)\n",
    "learner_lr.set_callbacks([acc_lr])"
   ]
  },
  {
   "cell_type": "code",
   "execution_count": 22,
   "metadata": {
    "execution": {
     "iopub.execute_input": "2020-09-20T10:06:13.195038Z",
     "iopub.status.busy": "2020-09-20T10:06:13.193948Z",
     "iopub.status.idle": "2020-09-20T10:06:29.326514Z",
     "shell.execute_reply": "2020-09-20T10:06:29.327234Z"
    },
    "papermill": {
     "duration": 16.181071,
     "end_time": "2020-09-20T10:06:29.327387",
     "exception": false,
     "start_time": "2020-09-20T10:06:13.146316",
     "status": "completed"
    },
    "tags": []
   },
   "outputs": [
    {
     "name": "stdout",
     "output_type": "stream",
     "text": [
      "====== Logistic Regression ======\n",
      "Epoch 0, Loss 0.2007\n",
      "Training Accuracy: 0.8155, Testing Accuracy: 0.8135\n",
      "\n"
     ]
    },
    {
     "name": "stdout",
     "output_type": "stream",
     "text": [
      "Epoch 10, Loss 0.0995\n",
      "Training Accuracy: 0.9110, Testing Accuracy: 0.9194\n",
      "\n"
     ]
    },
    {
     "name": "stdout",
     "output_type": "stream",
     "text": [
      "Epoch 20, Loss 0.0782\n",
      "Training Accuracy: 0.9280, Testing Accuracy: 0.9360\n",
      "\n"
     ]
    },
    {
     "name": "stdout",
     "output_type": "stream",
     "text": [
      "Epoch 30, Loss 0.0679\n",
      "Training Accuracy: 0.9367, Testing Accuracy: 0.9446\n",
      "\n"
     ]
    },
    {
     "name": "stdout",
     "output_type": "stream",
     "text": [
      "Epoch 40, Loss 0.0615\n",
      "Training Accuracy: 0.9417, Testing Accuracy: 0.9521\n",
      "\n"
     ]
    },
    {
     "name": "stdout",
     "output_type": "stream",
     "text": [
      "Epoch 50, Loss 0.0572\n",
      "Training Accuracy: 0.9449, Testing Accuracy: 0.9541\n",
      "\n"
     ]
    },
    {
     "name": "stdout",
     "output_type": "stream",
     "text": [
      "Epoch 60, Loss 0.0539\n",
      "Training Accuracy: 0.9478, Testing Accuracy: 0.9561\n",
      "\n"
     ]
    },
    {
     "name": "stdout",
     "output_type": "stream",
     "text": [
      "Epoch 70, Loss 0.0514\n",
      "Training Accuracy: 0.9498, Testing Accuracy: 0.9572\n",
      "\n"
     ]
    },
    {
     "name": "stdout",
     "output_type": "stream",
     "text": [
      "Epoch 80, Loss 0.0494\n",
      "Training Accuracy: 0.9508, Testing Accuracy: 0.9592\n",
      "\n"
     ]
    },
    {
     "name": "stdout",
     "output_type": "stream",
     "text": [
      "Epoch 90, Loss 0.0477\n",
      "Training Accuracy: 0.9518, Testing Accuracy: 0.9597\n",
      "\n"
     ]
    },
    {
     "name": "stdout",
     "output_type": "stream",
     "text": [
      "Epoch 100, Loss 0.0463\n",
      "Training Accuracy: 0.9527, Testing Accuracy: 0.9607\n",
      "\n"
     ]
    },
    {
     "name": "stdout",
     "output_type": "stream",
     "text": [
      "Epoch 110, Loss 0.0451\n",
      "Training Accuracy: 0.9537, Testing Accuracy: 0.9617\n",
      "\n"
     ]
    },
    {
     "name": "stdout",
     "output_type": "stream",
     "text": [
      "Epoch 120, Loss 0.044\n",
      "Training Accuracy: 0.9543, Testing Accuracy: 0.9642\n",
      "\n"
     ]
    },
    {
     "name": "stdout",
     "output_type": "stream",
     "text": [
      "Epoch 130, Loss 0.0431\n",
      "Training Accuracy: 0.9551, Testing Accuracy: 0.9657\n",
      "\n"
     ]
    },
    {
     "name": "stdout",
     "output_type": "stream",
     "text": [
      "Epoch 140, Loss 0.0423\n",
      "Training Accuracy: 0.9558, Testing Accuracy: 0.9657\n",
      "\n"
     ]
    },
    {
     "name": "stdout",
     "output_type": "stream",
     "text": [
      "Epoch 150, Loss 0.0415\n",
      "Training Accuracy: 0.9567, Testing Accuracy: 0.9657\n",
      "\n"
     ]
    },
    {
     "name": "stdout",
     "output_type": "stream",
     "text": [
      "Epoch 160, Loss 0.0408\n",
      "Training Accuracy: 0.9575, Testing Accuracy: 0.9657\n",
      "\n"
     ]
    },
    {
     "name": "stdout",
     "output_type": "stream",
     "text": [
      "Epoch 170, Loss 0.0402\n",
      "Training Accuracy: 0.9576, Testing Accuracy: 0.9652\n",
      "\n"
     ]
    },
    {
     "name": "stdout",
     "output_type": "stream",
     "text": [
      "Epoch 180, Loss 0.0397\n",
      "Training Accuracy: 0.9579, Testing Accuracy: 0.9657\n",
      "\n"
     ]
    },
    {
     "name": "stdout",
     "output_type": "stream",
     "text": [
      "Epoch 190, Loss 0.0391\n",
      "Training Accuracy: 0.9583, Testing Accuracy: 0.9667\n",
      "\n"
     ]
    },
    {
     "name": "stdout",
     "output_type": "stream",
     "text": [
      "Epoch 200, Loss 0.0387\n",
      "Training Accuracy: 0.9586, Testing Accuracy: 0.9662\n",
      "\n"
     ]
    },
    {
     "name": "stdout",
     "output_type": "stream",
     "text": [
      "Epoch 210, Loss 0.0382\n",
      "Training Accuracy: 0.9590, Testing Accuracy: 0.9672\n",
      "\n"
     ]
    },
    {
     "name": "stdout",
     "output_type": "stream",
     "text": [
      "Epoch 220, Loss 0.0378\n",
      "Training Accuracy: 0.9595, Testing Accuracy: 0.9672\n",
      "\n"
     ]
    },
    {
     "name": "stdout",
     "output_type": "stream",
     "text": [
      "Epoch 230, Loss 0.0374\n",
      "Training Accuracy: 0.9600, Testing Accuracy: 0.9672\n",
      "\n"
     ]
    },
    {
     "name": "stdout",
     "output_type": "stream",
     "text": [
      "Epoch 240, Loss 0.037\n",
      "Training Accuracy: 0.9603, Testing Accuracy: 0.9677\n",
      "\n"
     ]
    },
    {
     "name": "stdout",
     "output_type": "stream",
     "text": [
      "Epoch 250, Loss 0.0367\n",
      "Training Accuracy: 0.9605, Testing Accuracy: 0.9682\n",
      "\n"
     ]
    },
    {
     "data": {
      "text/plain": [
       "0.08591512870843215"
      ]
     },
     "execution_count": 22,
     "metadata": {},
     "output_type": "execute_result"
    }
   ],
   "source": [
    "print(\"====== Logistic Regression ======\")\n",
    "learner_lr.train_loop(dl)"
   ]
  },
  {
   "cell_type": "markdown",
   "metadata": {
    "papermill": {
     "duration": 0.040697,
     "end_time": "2020-09-20T10:06:29.410231",
     "exception": false,
     "start_time": "2020-09-20T10:06:29.369534",
     "status": "completed"
    },
    "tags": []
   },
   "source": [
    "### Comparing results of NN and LR"
   ]
  },
  {
   "cell_type": "code",
   "execution_count": 23,
   "metadata": {
    "execution": {
     "iopub.execute_input": "2020-09-20T10:06:29.499661Z",
     "iopub.status.busy": "2020-09-20T10:06:29.498801Z",
     "iopub.status.idle": "2020-09-20T10:06:29.722019Z",
     "shell.execute_reply": "2020-09-20T10:06:29.721555Z"
    },
    "papermill": {
     "duration": 0.271364,
     "end_time": "2020-09-20T10:06:29.722150",
     "exception": false,
     "start_time": "2020-09-20T10:06:29.450786",
     "status": "completed"
    },
    "tags": []
   },
   "outputs": [
    {
     "data": {
      "text/plain": [
       "<matplotlib.legend.Legend at 0x7f35cea39240>"
      ]
     },
     "execution_count": 23,
     "metadata": {},
     "output_type": "execute_result"
    },
    {
     "data": {
      "image/png": "[encoded data removed]",
      "text/plain": [
       "<Figure size 1080x720 with 1 Axes>"
      ]
     },
     "metadata": {
      "needs_background": "light"
     },
     "output_type": "display_data"
    }
   ],
   "source": [
    "plt.figure(figsize=(15,10))\n",
    "\n",
    "# Neural Network plots\n",
    "plt.plot(acc_nn.accuracies, 'r-', label = \"Training Accuracies - NN\")\n",
    "plt.plot(acc_nn.test_accuracies, 'g-', label = \"Testing Accuracies - NN\")\n",
    "\n",
    "# Logistic Regression plots\n",
    "plt.plot(acc_lr.accuracies, 'k-', label = \"Training Accuracies - LR\")\n",
    "plt.plot(acc_lr.test_accuracies, 'b-', label = \"Testing Accuracies - LR\")\n",
    "\n",
    "plt.ylim(0.8, 1)\n",
    "\n",
    "plt.legend()\n",
    "\n"
   ]
  },
  {
   "cell_type": "markdown",
   "metadata": {
    "papermill": {
     "duration": 0.04225,
     "end_time": "2020-09-20T10:06:29.805487",
     "exception": false,
     "start_time": "2020-09-20T10:06:29.763237",
     "status": "completed"
    },
    "tags": []
   },
   "source": [
    "### From the plot, we can observe the following:\n",
    "- Neural Network achieves higher accuracy than the Logistic Regression model.\n",
    "- This apparently, is because of overfitting, i.e. NN captures more noise than data.\n",
    "- Testing accuracy of NN drops below the Training accuracy at higher epochs. This explains the over-fitting on training data.\n",
    "- Logistic Regression gives a reliable accuracy, without the above mentioned problem.\n"
   ]
  },
  {
   "cell_type": "markdown",
   "metadata": {
    "papermill": {
     "duration": 0.043505,
     "end_time": "2020-09-20T10:06:29.891145",
     "exception": false,
     "start_time": "2020-09-20T10:06:29.847640",
     "status": "completed"
    },
    "tags": []
   },
   "source": [
    "### Moving till the last but one layer (excluding it).\n",
    "#### Plotting the outputs of this layer of the NN."
   ]
  },
  {
   "cell_type": "code",
   "execution_count": 24,
   "metadata": {
    "execution": {
     "iopub.execute_input": "2020-09-20T10:06:29.982001Z",
     "iopub.status.busy": "2020-09-20T10:06:29.981475Z",
     "iopub.status.idle": "2020-09-20T10:06:29.996079Z",
     "shell.execute_reply": "2020-09-20T10:06:29.995611Z"
    },
    "papermill": {
     "duration": 0.06246,
     "end_time": "2020-09-20T10:06:29.996199",
     "exception": false,
     "start_time": "2020-09-20T10:06:29.933739",
     "status": "completed"
    },
    "tags": []
   },
   "outputs": [],
   "source": [
    "model_new = Model(layers[:-2])"
   ]
  },
  {
   "cell_type": "code",
   "execution_count": 25,
   "metadata": {
    "execution": {
     "iopub.execute_input": "2020-09-20T10:06:30.083869Z",
     "iopub.status.busy": "2020-09-20T10:06:30.083330Z",
     "iopub.status.idle": "2020-09-20T10:06:30.102779Z",
     "shell.execute_reply": "2020-09-20T10:06:30.103488Z"
    },
    "papermill": {
     "duration": 0.065298,
     "end_time": "2020-09-20T10:06:30.103646",
     "exception": false,
     "start_time": "2020-09-20T10:06:30.038348",
     "status": "completed"
    },
    "tags": []
   },
   "outputs": [],
   "source": [
    "plot_testing = model_new(testing_xdata)"
   ]
  },
  {
   "cell_type": "code",
   "execution_count": 26,
   "metadata": {
    "execution": {
     "iopub.execute_input": "2020-09-20T10:06:30.195601Z",
     "iopub.status.busy": "2020-09-20T10:06:30.195020Z",
     "iopub.status.idle": "2020-09-20T10:06:30.392505Z",
     "shell.execute_reply": "2020-09-20T10:06:30.392945Z"
    },
    "papermill": {
     "duration": 0.245226,
     "end_time": "2020-09-20T10:06:30.393096",
     "exception": false,
     "start_time": "2020-09-20T10:06:30.147870",
     "status": "completed"
    },
    "tags": []
   },
   "outputs": [
    {
     "data": {
      "text/plain": [
       "Text(0.5, 1.0, 'Outputs')"
      ]
     },
     "execution_count": 26,
     "metadata": {},
     "output_type": "execute_result"
    },
    {
     "data": {
      "image/png": "[encoded data removed]",
      "text/plain": [
       "<Figure size 576x504 with 1 Axes>"
      ]
     },
     "metadata": {
      "needs_background": "light"
     },
     "output_type": "display_data"
    }
   ],
   "source": [
    "plt.figure(figsize=(8,7))\n",
    "plt.scatter(plot_testing[:,0], plot_testing[:,1], alpha = 0.1, c = y_test.ravel());\n",
    "plt.title('Outputs')"
   ]
  },
  {
   "cell_type": "markdown",
   "metadata": {
    "papermill": {
     "duration": 0.043952,
     "end_time": "2020-09-20T10:06:30.481822",
     "exception": false,
     "start_time": "2020-09-20T10:06:30.437870",
     "status": "completed"
    },
    "tags": []
   },
   "source": [
    "### Plotting probability contours"
   ]
  },
  {
   "cell_type": "code",
   "execution_count": 27,
   "metadata": {
    "execution": {
     "iopub.execute_input": "2020-09-20T10:06:30.584736Z",
     "iopub.status.busy": "2020-09-20T10:06:30.577124Z",
     "iopub.status.idle": "2020-09-20T10:06:30.591992Z",
     "shell.execute_reply": "2020-09-20T10:06:30.591482Z"
    },
    "papermill": {
     "duration": 0.065128,
     "end_time": "2020-09-20T10:06:30.592111",
     "exception": false,
     "start_time": "2020-09-20T10:06:30.526983",
     "status": "completed"
    },
    "tags": []
   },
   "outputs": [],
   "source": [
    "model_prob = Model(layers[-2:]) "
   ]
  },
  {
   "cell_type": "code",
   "execution_count": 28,
   "metadata": {
    "execution": {
     "iopub.execute_input": "2020-09-20T10:06:30.699040Z",
     "iopub.status.busy": "2020-09-20T10:06:30.686929Z",
     "iopub.status.idle": "2020-09-20T10:06:30.702932Z",
     "shell.execute_reply": "2020-09-20T10:06:30.703433Z"
    },
    "papermill": {
     "duration": 0.067202,
     "end_time": "2020-09-20T10:06:30.703580",
     "exception": false,
     "start_time": "2020-09-20T10:06:30.636378",
     "status": "completed"
    },
    "tags": []
   },
   "outputs": [],
   "source": [
    "# Adjust the x and y ranges according to the above generated plot.\n",
    "x_range = np.linspace(-4, 1, 100) \n",
    "y_range = np.linspace(-6, 6, 100) \n",
    "x_grid, y_grid = np.meshgrid(x_range, y_range) # x_grid and y_grig are of size 100 X 100\n",
    "\n",
    "# converting x_grid and y_grid to continuous arrays\n",
    "x_grid_flat = np.ravel(x_grid)\n",
    "y_grid_flat = np.ravel(y_grid)\n",
    "\n",
    "# The last layer of the current model takes two columns as input. Hence transpose of np.vstack() is required.\n",
    "X = np.vstack((x_grid_flat, y_grid_flat)).T\n",
    "\n",
    "# x_grid and y_grid are of size 100 x 100\n",
    "probability_contour = model_prob(X).reshape(100,100) "
   ]
  },
  {
   "cell_type": "code",
   "execution_count": 29,
   "metadata": {
    "execution": {
     "iopub.execute_input": "2020-09-20T10:06:30.799942Z",
     "iopub.status.busy": "2020-09-20T10:06:30.799397Z",
     "iopub.status.idle": "2020-09-20T10:06:31.045566Z",
     "shell.execute_reply": "2020-09-20T10:06:31.044653Z"
    },
    "papermill": {
     "duration": 0.29693,
     "end_time": "2020-09-20T10:06:31.045687",
     "exception": false,
     "start_time": "2020-09-20T10:06:30.748757",
     "status": "completed"
    },
    "tags": []
   },
   "outputs": [
    {
     "data": {
      "image/png": "[encoded data removed]",
      "text/plain": [
       "<Figure size 720x648 with 1 Axes>"
      ]
     },
     "metadata": {
      "needs_background": "light"
     },
     "output_type": "display_data"
    }
   ],
   "source": [
    "plt.figure(figsize=(10,9))\n",
    "plt.scatter(plot_testing[:,0], plot_testing[:,1], alpha = 0.1, c = y_test.ravel())\n",
    "contours = plt.contour(x_grid,y_grid,probability_contour)\n",
    "plt.title('Probability Contours')\n",
    "plt.clabel(contours, inline = True );"
   ]
  }
 ],
 "metadata": {
  "kernelspec": {
   "display_name": "Python 3",
   "language": "python",
   "name": "python3"
  },
  "language_info": {
   "codemirror_mode": {
    "name": "ipython",
    "version": 3
   },
   "file_extension": ".py",
   "mimetype": "text/x-python",
   "name": "python",
   "nbconvert_exporter": "python",
   "pygments_lexer": "ipython3",
   "version": "3.6.12"
  },
  "papermill": {
   "duration": 106.956687,
   "end_time": "2020-09-20T10:06:31.502022",
   "environment_variables": {},
   "exception": null,
   "input_path": "2020-08-11-NeuralNetwork.ipynb",
   "output_path": "2020-08-11-NeuralNetwork.ipynb",
   "parameters": {},
   "start_time": "2020-09-20T10:04:44.545335",
   "version": "2.1.2"
  }
 },
 "nbformat": 4,
 "nbformat_minor": 4
}