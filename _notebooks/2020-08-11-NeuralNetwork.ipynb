{
 "cells": [
  {
   "cell_type": "markdown",
   "metadata": {
    "papermill": {
     "duration": 0.030865,
     "end_time": "2020-11-17T10:04:21.540284",
     "exception": false,
     "start_time": "2020-11-17T10:04:21.509419",
     "status": "completed"
    },
    "tags": []
   },
   "source": [
    "# \"A Basic Neural Network: Differentiate Hand-Written Digits\"\n",
    "\n",
    "- badges: true\n",
    "- author: Akshith Sriram"
   ]
  },
  {
   "cell_type": "markdown",
   "metadata": {
    "papermill": {
     "duration": 0.023956,
     "end_time": "2020-11-17T10:04:21.590242",
     "exception": false,
     "start_time": "2020-11-17T10:04:21.566286",
     "status": "completed"
    },
    "tags": []
   },
   "source": [
    "### Key Objectives:\n",
    "- Building a neural network that differentiates two hand-written digits 3 and 8.\n",
    "- Comparing the results of this Neural Network (NN) to that of a Logistic Regression (LR) model.\n",
    "\n",
    "### Requirements:\n",
    "- 'Kudzu' : A neural network library that was designed during our course by [Univ.AI](www.univ.ai). \n",
    "- MNIST Database\n",
    "\n",
    "If MNIST is not installed, use the command `!pip install mnist` given below.\n",
    "It can be run both from the command line and Jupyter Notebook."
   ]
  },
  {
   "cell_type": "code",
   "execution_count": 1,
   "metadata": {
    "execution": {
     "iopub.execute_input": "2020-11-17T10:04:21.648918Z",
     "iopub.status.busy": "2020-11-17T10:04:21.648300Z",
     "iopub.status.idle": "2020-11-17T10:04:23.110404Z",
     "shell.execute_reply": "2020-11-17T10:04:23.109065Z"
    },
    "papermill": {
     "duration": 1.495586,
     "end_time": "2020-11-17T10:04:23.110589",
     "exception": false,
     "start_time": "2020-11-17T10:04:21.615003",
     "status": "completed"
    },
    "tags": []
   },
   "outputs": [
    {
     "name": "stdout",
     "output_type": "stream",
     "text": [
      "Collecting mnist\r\n"
     ]
    },
    {
     "name": "stdout",
     "output_type": "stream",
     "text": [
      "  Downloading mnist-0.2.2-py2.py3-none-any.whl (3.5 kB)\r\n",
      "Requirement already satisfied: numpy in /opt/hostedtoolcache/Python/3.6.12/x64/lib/python3.6/site-packages (from mnist) (1.19.4)\r\n"
     ]
    },
    {
     "name": "stdout",
     "output_type": "stream",
     "text": [
      "Installing collected packages: mnist\r\n",
      "Successfully installed mnist-0.2.2\r\n"
     ]
    }
   ],
   "source": [
    "!pip install mnist "
   ]
  },
  {
   "cell_type": "markdown",
   "metadata": {
    "papermill": {
     "duration": 0.025953,
     "end_time": "2020-11-17T10:04:23.162960",
     "exception": false,
     "start_time": "2020-11-17T10:04:23.137007",
     "status": "completed"
    },
    "tags": []
   },
   "source": [
    "#### Importing necessary libraries"
   ]
  },
  {
   "cell_type": "code",
   "execution_count": 2,
   "metadata": {
    "execution": {
     "iopub.execute_input": "2020-11-17T10:04:23.225183Z",
     "iopub.status.busy": "2020-11-17T10:04:23.224565Z",
     "iopub.status.idle": "2020-11-17T10:04:23.816649Z",
     "shell.execute_reply": "2020-11-17T10:04:23.817144Z"
    },
    "papermill": {
     "duration": 0.627248,
     "end_time": "2020-11-17T10:04:23.817319",
     "exception": false,
     "start_time": "2020-11-17T10:04:23.190071",
     "status": "completed"
    },
    "tags": []
   },
   "outputs": [],
   "source": [
    "%load_ext autoreload\n",
    "%autoreload 2\n",
    "\n",
    "%matplotlib inline\n",
    "import matplotlib.pyplot as plt\n",
    "\n",
    "import numpy as np\n",
    "import pandas as pd"
   ]
  },
  {
   "cell_type": "markdown",
   "metadata": {
    "papermill": {
     "duration": 0.029093,
     "end_time": "2020-11-17T10:04:23.880788",
     "exception": false,
     "start_time": "2020-11-17T10:04:23.851695",
     "status": "completed"
    },
    "tags": []
   },
   "source": [
    "### Preparing the Data"
   ]
  },
  {
   "cell_type": "code",
   "execution_count": 3,
   "metadata": {
    "execution": {
     "iopub.execute_input": "2020-11-17T10:04:23.939075Z",
     "iopub.status.busy": "2020-11-17T10:04:23.938460Z",
     "iopub.status.idle": "2020-11-17T10:04:23.952892Z",
     "shell.execute_reply": "2020-11-17T10:04:23.953448Z"
    },
    "papermill": {
     "duration": 0.046447,
     "end_time": "2020-11-17T10:04:23.953615",
     "exception": false,
     "start_time": "2020-11-17T10:04:23.907168",
     "status": "completed"
    },
    "tags": []
   },
   "outputs": [],
   "source": [
    "import mnist"
   ]
  },
  {
   "cell_type": "code",
   "execution_count": 4,
   "metadata": {
    "execution": {
     "iopub.execute_input": "2020-11-17T10:04:24.013860Z",
     "iopub.status.busy": "2020-11-17T10:04:24.013258Z",
     "iopub.status.idle": "2020-11-17T10:04:24.782417Z",
     "shell.execute_reply": "2020-11-17T10:04:24.781532Z"
    },
    "papermill": {
     "duration": 0.802808,
     "end_time": "2020-11-17T10:04:24.782586",
     "exception": false,
     "start_time": "2020-11-17T10:04:23.979778",
     "status": "completed"
    },
    "tags": []
   },
   "outputs": [],
   "source": [
    "train_images = mnist.train_images()\n",
    "train_labels = mnist.train_labels()"
   ]
  },
  {
   "cell_type": "code",
   "execution_count": 5,
   "metadata": {
    "execution": {
     "iopub.execute_input": "2020-11-17T10:04:24.839719Z",
     "iopub.status.busy": "2020-11-17T10:04:24.839114Z",
     "iopub.status.idle": "2020-11-17T10:04:24.857215Z",
     "shell.execute_reply": "2020-11-17T10:04:24.857692Z"
    },
    "papermill": {
     "duration": 0.04878,
     "end_time": "2020-11-17T10:04:24.857845",
     "exception": false,
     "start_time": "2020-11-17T10:04:24.809065",
     "status": "completed"
    },
    "tags": []
   },
   "outputs": [
    {
     "data": {
      "text/plain": [
       "((60000, 28, 28), (60000,))"
      ]
     },
     "execution_count": 5,
     "metadata": {},
     "output_type": "execute_result"
    }
   ],
   "source": [
    "train_images.shape, train_labels.shape"
   ]
  },
  {
   "cell_type": "code",
   "execution_count": 6,
   "metadata": {
    "execution": {
     "iopub.execute_input": "2020-11-17T10:04:24.916779Z",
     "iopub.status.busy": "2020-11-17T10:04:24.915930Z",
     "iopub.status.idle": "2020-11-17T10:04:25.171574Z",
     "shell.execute_reply": "2020-11-17T10:04:25.171020Z"
    },
    "papermill": {
     "duration": 0.287391,
     "end_time": "2020-11-17T10:04:25.171729",
     "exception": false,
     "start_time": "2020-11-17T10:04:24.884338",
     "status": "completed"
    },
    "tags": []
   },
   "outputs": [],
   "source": [
    "test_images = mnist.test_images()\n",
    "test_labels = mnist.test_labels()"
   ]
  },
  {
   "cell_type": "code",
   "execution_count": 7,
   "metadata": {
    "execution": {
     "iopub.execute_input": "2020-11-17T10:04:25.239924Z",
     "iopub.status.busy": "2020-11-17T10:04:25.239089Z",
     "iopub.status.idle": "2020-11-17T10:04:25.251392Z",
     "shell.execute_reply": "2020-11-17T10:04:25.251919Z"
    },
    "papermill": {
     "duration": 0.050533,
     "end_time": "2020-11-17T10:04:25.252115",
     "exception": false,
     "start_time": "2020-11-17T10:04:25.201582",
     "status": "completed"
    },
    "tags": []
   },
   "outputs": [
    {
     "data": {
      "text/plain": [
       "((10000, 28, 28), (10000,))"
      ]
     },
     "execution_count": 7,
     "metadata": {},
     "output_type": "execute_result"
    }
   ],
   "source": [
    "test_images.shape, test_labels.shape"
   ]
  },
  {
   "cell_type": "code",
   "execution_count": 8,
   "metadata": {
    "execution": {
     "iopub.execute_input": "2020-11-17T10:04:25.312326Z",
     "iopub.status.busy": "2020-11-17T10:04:25.311727Z",
     "iopub.status.idle": "2020-11-17T10:04:25.460133Z",
     "shell.execute_reply": "2020-11-17T10:04:25.460640Z"
    },
    "papermill": {
     "duration": 0.180399,
     "end_time": "2020-11-17T10:04:25.460797",
     "exception": false,
     "start_time": "2020-11-17T10:04:25.280398",
     "status": "completed"
    },
    "tags": []
   },
   "outputs": [
    {
     "name": "stdout",
     "output_type": "stream",
     "text": [
      "2\n"
     ]
    },
    {
     "data": {
      "text/plain": [
       "<matplotlib.image.AxesImage at 0x7f5a49ffe668>"
      ]
     },
     "execution_count": 8,
     "metadata": {},
     "output_type": "execute_result"
    },
    {
     "data": {
      "image/png": "[encoded data removed]",
      "text/plain": [
       "<Figure size 432x288 with 1 Axes>"
      ]
     },
     "metadata": {
      "needs_background": "light"
     },
     "output_type": "display_data"
    }
   ],
   "source": [
    "image_index = 7776 # You may select anything up to 60,000\n",
    "print(train_labels[image_index]) \n",
    "plt.imshow(train_images[image_index], cmap='Greys')"
   ]
  },
  {
   "cell_type": "markdown",
   "metadata": {
    "papermill": {
     "duration": 0.027928,
     "end_time": "2020-11-17T10:04:25.516428",
     "exception": false,
     "start_time": "2020-11-17T10:04:25.488500",
     "status": "completed"
    },
    "tags": []
   },
   "source": [
    "## Filter data to get 3 and 8 out"
   ]
  },
  {
   "cell_type": "code",
   "execution_count": 9,
   "metadata": {
    "execution": {
     "iopub.execute_input": "2020-11-17T10:04:25.576801Z",
     "iopub.status.busy": "2020-11-17T10:04:25.576180Z",
     "iopub.status.idle": "2020-11-17T10:04:25.597604Z",
     "shell.execute_reply": "2020-11-17T10:04:25.597040Z"
    },
    "papermill": {
     "duration": 0.053769,
     "end_time": "2020-11-17T10:04:25.597760",
     "exception": false,
     "start_time": "2020-11-17T10:04:25.543991",
     "status": "completed"
    },
    "tags": []
   },
   "outputs": [],
   "source": [
    "train_filter = np.where((train_labels == 3 ) | (train_labels == 8))\n",
    "test_filter = np.where((test_labels == 3) | (test_labels == 8))\n",
    "X_train, y_train = train_images[train_filter], train_labels[train_filter]\n",
    "X_test, y_test = test_images[test_filter], test_labels[test_filter]"
   ]
  },
  {
   "cell_type": "markdown",
   "metadata": {
    "papermill": {
     "duration": 0.027145,
     "end_time": "2020-11-17T10:04:25.652616",
     "exception": false,
     "start_time": "2020-11-17T10:04:25.625471",
     "status": "completed"
    },
    "tags": []
   },
   "source": [
    "We normalize the pixel values in the 0 to 1 range"
   ]
  },
  {
   "cell_type": "code",
   "execution_count": 10,
   "metadata": {
    "execution": {
     "iopub.execute_input": "2020-11-17T10:04:25.714850Z",
     "iopub.status.busy": "2020-11-17T10:04:25.714234Z",
     "iopub.status.idle": "2020-11-17T10:04:25.768139Z",
     "shell.execute_reply": "2020-11-17T10:04:25.767581Z"
    },
    "papermill": {
     "duration": 0.087997,
     "end_time": "2020-11-17T10:04:25.768292",
     "exception": false,
     "start_time": "2020-11-17T10:04:25.680295",
     "status": "completed"
    },
    "tags": []
   },
   "outputs": [],
   "source": [
    "X_train = X_train/255.\n",
    "X_test = X_test/255."
   ]
  },
  {
   "cell_type": "markdown",
   "metadata": {
    "papermill": {
     "duration": 0.028309,
     "end_time": "2020-11-17T10:04:25.825149",
     "exception": false,
     "start_time": "2020-11-17T10:04:25.796840",
     "status": "completed"
    },
    "tags": []
   },
   "source": [
    "Setup the labels as 1 (when the digit is 3) and 0 (when the digit is 8)"
   ]
  },
  {
   "cell_type": "code",
   "execution_count": 11,
   "metadata": {
    "execution": {
     "iopub.execute_input": "2020-11-17T10:04:25.889998Z",
     "iopub.status.busy": "2020-11-17T10:04:25.889383Z",
     "iopub.status.idle": "2020-11-17T10:04:25.901570Z",
     "shell.execute_reply": "2020-11-17T10:04:25.901072Z"
    },
    "papermill": {
     "duration": 0.048215,
     "end_time": "2020-11-17T10:04:25.901713",
     "exception": false,
     "start_time": "2020-11-17T10:04:25.853498",
     "status": "completed"
    },
    "tags": []
   },
   "outputs": [],
   "source": [
    "y_train = 1*(y_train==3)\n",
    "y_test = 1*(y_test==3)"
   ]
  },
  {
   "cell_type": "code",
   "execution_count": 12,
   "metadata": {
    "execution": {
     "iopub.execute_input": "2020-11-17T10:04:26.468099Z",
     "iopub.status.busy": "2020-11-17T10:04:26.467444Z",
     "iopub.status.idle": "2020-11-17T10:04:26.482152Z",
     "shell.execute_reply": "2020-11-17T10:04:26.482608Z"
    },
    "papermill": {
     "duration": 0.552413,
     "end_time": "2020-11-17T10:04:26.482770",
     "exception": false,
     "start_time": "2020-11-17T10:04:25.930357",
     "status": "completed"
    },
    "tags": []
   },
   "outputs": [
    {
     "data": {
      "text/plain": [
       "((11982, 28, 28), (1984, 28, 28))"
      ]
     },
     "execution_count": 12,
     "metadata": {},
     "output_type": "execute_result"
    }
   ],
   "source": [
    "X_train.shape, X_test.shape"
   ]
  },
  {
   "cell_type": "markdown",
   "metadata": {
    "papermill": {
     "duration": 0.040755,
     "end_time": "2020-11-17T10:04:26.552965",
     "exception": false,
     "start_time": "2020-11-17T10:04:26.512210",
     "status": "completed"
    },
    "tags": []
   },
   "source": [
    "### Reshape the input data to create a linear array"
   ]
  },
  {
   "cell_type": "code",
   "execution_count": 13,
   "metadata": {
    "execution": {
     "iopub.execute_input": "2020-11-17T10:04:26.651119Z",
     "iopub.status.busy": "2020-11-17T10:04:26.650509Z",
     "iopub.status.idle": "2020-11-17T10:04:26.667071Z",
     "shell.execute_reply": "2020-11-17T10:04:26.666580Z"
    },
    "papermill": {
     "duration": 0.068568,
     "end_time": "2020-11-17T10:04:26.667210",
     "exception": false,
     "start_time": "2020-11-17T10:04:26.598642",
     "status": "completed"
    },
    "tags": []
   },
   "outputs": [
    {
     "data": {
      "text/plain": [
       "((11982, 784), (1984, 784))"
      ]
     },
     "execution_count": 13,
     "metadata": {},
     "output_type": "execute_result"
    }
   ],
   "source": [
    "X_train = X_train.reshape(X_train.shape[0], -1)\n",
    "X_test = X_test.reshape(X_test.shape[0], -1)\n",
    "X_train.shape, X_test.shape"
   ]
  },
  {
   "cell_type": "markdown",
   "metadata": {
    "papermill": {
     "duration": 0.030677,
     "end_time": "2020-11-17T10:04:26.755165",
     "exception": false,
     "start_time": "2020-11-17T10:04:26.724488",
     "status": "completed"
    },
    "tags": []
   },
   "source": [
    "### Importing appropriate functions from 'Kudzu'"
   ]
  },
  {
   "cell_type": "code",
   "execution_count": 14,
   "metadata": {
    "execution": {
     "iopub.execute_input": "2020-11-17T10:04:26.838032Z",
     "iopub.status.busy": "2020-11-17T10:04:26.837418Z",
     "iopub.status.idle": "2020-11-17T10:04:26.859543Z",
     "shell.execute_reply": "2020-11-17T10:04:26.859025Z"
    },
    "papermill": {
     "duration": 0.05807,
     "end_time": "2020-11-17T10:04:26.859693",
     "exception": false,
     "start_time": "2020-11-17T10:04:26.801623",
     "status": "completed"
    },
    "tags": []
   },
   "outputs": [],
   "source": [
    "from kudzu.layer import Sigmoid\n",
    "from kudzu.layer import Relu\n",
    "from kudzu.layer import Affine, Sigmoid\n",
    "\n",
    "from kudzu.model import Model\n",
    "from kudzu.train import Learner\n",
    "from kudzu.optim import GD\n",
    "from kudzu.data import Data, Dataloader, Sampler\n",
    "\n",
    "from kudzu.callbacks import AccCallback\n",
    "from kudzu.callbacks import ClfCallback\n",
    "\n",
    "from kudzu.loss import MSE"
   ]
  },
  {
   "cell_type": "markdown",
   "metadata": {
    "papermill": {
     "duration": 0.029029,
     "end_time": "2020-11-17T10:04:26.918059",
     "exception": false,
     "start_time": "2020-11-17T10:04:26.889030",
     "status": "completed"
    },
    "tags": []
   },
   "source": [
    "### Let us create a `Config` class, to store important parameters. \n",
    "This class essentially plays the role of a dictionary."
   ]
  },
  {
   "cell_type": "code",
   "execution_count": 15,
   "metadata": {
    "execution": {
     "iopub.execute_input": "2020-11-17T10:04:26.984819Z",
     "iopub.status.busy": "2020-11-17T10:04:26.984202Z",
     "iopub.status.idle": "2020-11-17T10:04:26.997706Z",
     "shell.execute_reply": "2020-11-17T10:04:26.998235Z"
    },
    "papermill": {
     "duration": 0.051416,
     "end_time": "2020-11-17T10:04:26.998398",
     "exception": false,
     "start_time": "2020-11-17T10:04:26.946982",
     "status": "completed"
    },
    "tags": []
   },
   "outputs": [],
   "source": [
    "class Config:\n",
    "    pass\n",
    "config = Config()\n",
    "config.lr = 0.001\n",
    "config.num_epochs = 251\n",
    "config.bs = 50"
   ]
  },
  {
   "cell_type": "markdown",
   "metadata": {
    "papermill": {
     "duration": 0.028521,
     "end_time": "2020-11-17T10:04:27.055888",
     "exception": false,
     "start_time": "2020-11-17T10:04:27.027367",
     "status": "completed"
    },
    "tags": []
   },
   "source": [
    "### Initializing data to the variables"
   ]
  },
  {
   "cell_type": "code",
   "execution_count": 16,
   "metadata": {
    "execution": {
     "iopub.execute_input": "2020-11-17T10:04:27.136703Z",
     "iopub.status.busy": "2020-11-17T10:04:27.133166Z",
     "iopub.status.idle": "2020-11-17T10:04:27.138824Z",
     "shell.execute_reply": "2020-11-17T10:04:27.139280Z"
    },
    "papermill": {
     "duration": 0.054879,
     "end_time": "2020-11-17T10:04:27.139445",
     "exception": false,
     "start_time": "2020-11-17T10:04:27.084566",
     "status": "completed"
    },
    "tags": []
   },
   "outputs": [],
   "source": [
    "data = Data(X_train, y_train.reshape(-1,1))\n",
    "sampler = Sampler(data, config.bs, shuffle=True)\n",
    "\n",
    "dl = Dataloader(data, sampler)\n",
    "\n",
    "opt = GD(config.lr)\n",
    "loss = MSE()"
   ]
  },
  {
   "cell_type": "code",
   "execution_count": 17,
   "metadata": {
    "execution": {
     "iopub.execute_input": "2020-11-17T10:04:27.205409Z",
     "iopub.status.busy": "2020-11-17T10:04:27.204845Z",
     "iopub.status.idle": "2020-11-17T10:04:27.216669Z",
     "shell.execute_reply": "2020-11-17T10:04:27.217195Z"
    },
    "papermill": {
     "duration": 0.049181,
     "end_time": "2020-11-17T10:04:27.217353",
     "exception": false,
     "start_time": "2020-11-17T10:04:27.168172",
     "status": "completed"
    },
    "tags": []
   },
   "outputs": [],
   "source": [
    "training_xdata = X_train\n",
    "testing_xdata = X_test\n",
    "training_ydata = y_train.reshape(-1,1)\n",
    "testing_ydata = y_test.reshape(-1,1)"
   ]
  },
  {
   "cell_type": "markdown",
   "metadata": {
    "papermill": {
     "duration": 0.028404,
     "end_time": "2020-11-17T10:04:27.273917",
     "exception": false,
     "start_time": "2020-11-17T10:04:27.245513",
     "status": "completed"
    },
    "tags": []
   },
   "source": [
    "### Running Models with the Training data\n",
    "Details about the network layers:\n",
    "- A first affine layer has 784 inputs and does 100 affine transforms. These are followed by a Relu\n",
    "- A second affine layer has 100 inputs from the 100 activations of the past layer, and does 100 affine transforms. These are followed by a Relu\n",
    "- A third affine layer has 100 activations and does 2 affine transformations to create an embedding for visualization. There is no non-linearity here.\n",
    "- A final \"logistic regression\" which has an affine transform from 2 inputs to 1 output, which is squeezed through a sigmoid.\n",
    "\n",
    "Help taken from Anshuman's Notebook."
   ]
  },
  {
   "cell_type": "code",
   "execution_count": 18,
   "metadata": {
    "execution": {
     "iopub.execute_input": "2020-11-17T10:04:27.336152Z",
     "iopub.status.busy": "2020-11-17T10:04:27.335481Z",
     "iopub.status.idle": "2020-11-17T10:04:27.354026Z",
     "shell.execute_reply": "2020-11-17T10:04:27.353479Z"
    },
    "papermill": {
     "duration": 0.051699,
     "end_time": "2020-11-17T10:04:27.354157",
     "exception": false,
     "start_time": "2020-11-17T10:04:27.302458",
     "status": "completed"
    },
    "tags": []
   },
   "outputs": [],
   "source": [
    "# layers for the Neural Network\n",
    "layers = [Affine(\"first\", 784, 100), Relu(\"first\"), Affine(\"second\", 100, 100), Relu(\"second\"), Affine(\"third\", 100, 2), Affine(\"final\", 2, 1), Sigmoid(\"final\")]\n",
    "model_nn = Model(layers)\n",
    "\n",
    "# layers for the Logistic Regression\n",
    "layers_lr = [Affine(\"logits\", 784, 1), Sigmoid(\"sigmoid\")]\n",
    "model_lr = Model(layers_lr)"
   ]
  },
  {
   "cell_type": "code",
   "execution_count": 19,
   "metadata": {
    "execution": {
     "iopub.execute_input": "2020-11-17T10:04:27.416892Z",
     "iopub.status.busy": "2020-11-17T10:04:27.416293Z",
     "iopub.status.idle": "2020-11-17T10:04:27.431252Z",
     "shell.execute_reply": "2020-11-17T10:04:27.430747Z"
    },
    "papermill": {
     "duration": 0.049441,
     "end_time": "2020-11-17T10:04:27.431395",
     "exception": false,
     "start_time": "2020-11-17T10:04:27.381954",
     "status": "completed"
    },
    "tags": []
   },
   "outputs": [],
   "source": [
    "# suffix _nn stands for Neural Network.\n",
    "learner_nn = Learner(loss, model_nn, opt, config.num_epochs)\n",
    "acc_nn = ClfCallback(learner_nn, config.bs, training_xdata , testing_xdata, training_ydata, testing_ydata)\n",
    "learner_nn.set_callbacks([acc_nn])"
   ]
  },
  {
   "cell_type": "code",
   "execution_count": 20,
   "metadata": {
    "execution": {
     "iopub.execute_input": "2020-11-17T10:04:27.501359Z",
     "iopub.status.busy": "2020-11-17T10:04:27.500726Z",
     "iopub.status.idle": "2020-11-17T10:05:53.156565Z",
     "shell.execute_reply": "2020-11-17T10:05:53.157323Z"
    },
    "papermill": {
     "duration": 85.696708,
     "end_time": "2020-11-17T10:05:53.157477",
     "exception": false,
     "start_time": "2020-11-17T10:04:27.460769",
     "status": "completed"
    },
    "tags": []
   },
   "outputs": [
    {
     "name": "stdout",
     "output_type": "stream",
     "text": [
      "====== Neural Network ======\n"
     ]
    },
    {
     "name": "stdout",
     "output_type": "stream",
     "text": [
      "Epoch 0, Loss 0.2524\n",
      "Training Accuracy: 0.5153, Testing Accuracy: 0.5297\n",
      "\n"
     ]
    },
    {
     "name": "stdout",
     "output_type": "stream",
     "text": [
      "Epoch 10, Loss 0.1704\n",
      "Training Accuracy: 0.8856, Testing Accuracy: 0.8886\n",
      "\n"
     ]
    },
    {
     "name": "stdout",
     "output_type": "stream",
     "text": [
      "Epoch 20, Loss 0.0854\n",
      "Training Accuracy: 0.9190, Testing Accuracy: 0.9279\n",
      "\n"
     ]
    },
    {
     "name": "stdout",
     "output_type": "stream",
     "text": [
      "Epoch 30, Loss 0.0589\n",
      "Training Accuracy: 0.9358, Testing Accuracy: 0.9491\n",
      "\n"
     ]
    },
    {
     "name": "stdout",
     "output_type": "stream",
     "text": [
      "Epoch 40, Loss 0.0478\n",
      "Training Accuracy: 0.9454, Testing Accuracy: 0.9582\n",
      "\n"
     ]
    },
    {
     "name": "stdout",
     "output_type": "stream",
     "text": [
      "Epoch 50, Loss 0.0415\n",
      "Training Accuracy: 0.9517, Testing Accuracy: 0.9622\n",
      "\n"
     ]
    },
    {
     "name": "stdout",
     "output_type": "stream",
     "text": [
      "Epoch 60, Loss 0.0375\n",
      "Training Accuracy: 0.9561, Testing Accuracy: 0.9662\n",
      "\n"
     ]
    },
    {
     "name": "stdout",
     "output_type": "stream",
     "text": [
      "Epoch 70, Loss 0.0346\n",
      "Training Accuracy: 0.9593, Testing Accuracy: 0.9667\n",
      "\n"
     ]
    },
    {
     "name": "stdout",
     "output_type": "stream",
     "text": [
      "Epoch 80, Loss 0.0324\n",
      "Training Accuracy: 0.9624, Testing Accuracy: 0.9688\n",
      "\n"
     ]
    },
    {
     "name": "stdout",
     "output_type": "stream",
     "text": [
      "Epoch 90, Loss 0.0307\n",
      "Training Accuracy: 0.9641, Testing Accuracy: 0.9708\n",
      "\n"
     ]
    },
    {
     "name": "stdout",
     "output_type": "stream",
     "text": [
      "Epoch 100, Loss 0.0293\n",
      "Training Accuracy: 0.9656, Testing Accuracy: 0.9713\n",
      "\n"
     ]
    },
    {
     "name": "stdout",
     "output_type": "stream",
     "text": [
      "Epoch 110, Loss 0.0281\n",
      "Training Accuracy: 0.9670, Testing Accuracy: 0.9728\n",
      "\n"
     ]
    },
    {
     "name": "stdout",
     "output_type": "stream",
     "text": [
      "Epoch 120, Loss 0.0271\n",
      "Training Accuracy: 0.9683, Testing Accuracy: 0.9723\n",
      "\n"
     ]
    },
    {
     "name": "stdout",
     "output_type": "stream",
     "text": [
      "Epoch 130, Loss 0.0262\n",
      "Training Accuracy: 0.9697, Testing Accuracy: 0.9723\n",
      "\n"
     ]
    },
    {
     "name": "stdout",
     "output_type": "stream",
     "text": [
      "Epoch 140, Loss 0.0254\n",
      "Training Accuracy: 0.9705, Testing Accuracy: 0.9723\n",
      "\n"
     ]
    },
    {
     "name": "stdout",
     "output_type": "stream",
     "text": [
      "Epoch 150, Loss 0.0247\n",
      "Training Accuracy: 0.9717, Testing Accuracy: 0.9728\n",
      "\n"
     ]
    },
    {
     "name": "stdout",
     "output_type": "stream",
     "text": [
      "Epoch 160, Loss 0.024\n",
      "Training Accuracy: 0.9724, Testing Accuracy: 0.9728\n",
      "\n"
     ]
    },
    {
     "name": "stdout",
     "output_type": "stream",
     "text": [
      "Epoch 170, Loss 0.0234\n",
      "Training Accuracy: 0.9732, Testing Accuracy: 0.9728\n",
      "\n"
     ]
    },
    {
     "name": "stdout",
     "output_type": "stream",
     "text": [
      "Epoch 180, Loss 0.0229\n",
      "Training Accuracy: 0.9740, Testing Accuracy: 0.9738\n",
      "\n"
     ]
    },
    {
     "name": "stdout",
     "output_type": "stream",
     "text": [
      "Epoch 190, Loss 0.0224\n",
      "Training Accuracy: 0.9745, Testing Accuracy: 0.9743\n",
      "\n"
     ]
    },
    {
     "name": "stdout",
     "output_type": "stream",
     "text": [
      "Epoch 200, Loss 0.0219\n",
      "Training Accuracy: 0.9748, Testing Accuracy: 0.9738\n",
      "\n"
     ]
    },
    {
     "name": "stdout",
     "output_type": "stream",
     "text": [
      "Epoch 210, Loss 0.0215\n",
      "Training Accuracy: 0.9755, Testing Accuracy: 0.9743\n",
      "\n"
     ]
    },
    {
     "name": "stdout",
     "output_type": "stream",
     "text": [
      "Epoch 220, Loss 0.0211\n",
      "Training Accuracy: 0.9760, Testing Accuracy: 0.9743\n",
      "\n"
     ]
    },
    {
     "name": "stdout",
     "output_type": "stream",
     "text": [
      "Epoch 230, Loss 0.0207\n",
      "Training Accuracy: 0.9764, Testing Accuracy: 0.9738\n",
      "\n"
     ]
    },
    {
     "name": "stdout",
     "output_type": "stream",
     "text": [
      "Epoch 240, Loss 0.0203\n",
      "Training Accuracy: 0.9772, Testing Accuracy: 0.9738\n",
      "\n"
     ]
    },
    {
     "name": "stdout",
     "output_type": "stream",
     "text": [
      "Epoch 250, Loss 0.0199\n",
      "Training Accuracy: 0.9775, Testing Accuracy: 0.9738\n",
      "\n"
     ]
    },
    {
     "data": {
      "text/plain": [
       "0.02928901741720552"
      ]
     },
     "execution_count": 20,
     "metadata": {},
     "output_type": "execute_result"
    }
   ],
   "source": [
    "print(\"====== Neural Network ======\")\n",
    "learner_nn.train_loop(dl)"
   ]
  },
  {
   "cell_type": "markdown",
   "metadata": {
    "papermill": {
     "duration": 0.036358,
     "end_time": "2020-11-17T10:05:53.232375",
     "exception": false,
     "start_time": "2020-11-17T10:05:53.196017",
     "status": "completed"
    },
    "tags": []
   },
   "source": [
    "### Logistic Regression based Implementation."
   ]
  },
  {
   "cell_type": "code",
   "execution_count": 21,
   "metadata": {
    "execution": {
     "iopub.execute_input": "2020-11-17T10:05:53.315216Z",
     "iopub.status.busy": "2020-11-17T10:05:53.314614Z",
     "iopub.status.idle": "2020-11-17T10:05:53.324908Z",
     "shell.execute_reply": "2020-11-17T10:05:53.324464Z"
    },
    "papermill": {
     "duration": 0.055634,
     "end_time": "2020-11-17T10:05:53.325036",
     "exception": false,
     "start_time": "2020-11-17T10:05:53.269402",
     "status": "completed"
    },
    "tags": []
   },
   "outputs": [],
   "source": [
    "learner_lr = Learner(loss, model_lr, opt, config.num_epochs)\n",
    "acc_lr = ClfCallback(learner_lr, config.bs, training_xdata , testing_xdata, training_ydata, testing_ydata)\n",
    "learner_lr.set_callbacks([acc_lr])"
   ]
  },
  {
   "cell_type": "code",
   "execution_count": 22,
   "metadata": {
    "execution": {
     "iopub.execute_input": "2020-11-17T10:05:53.403715Z",
     "iopub.status.busy": "2020-11-17T10:05:53.403158Z",
     "iopub.status.idle": "2020-11-17T10:06:08.738350Z",
     "shell.execute_reply": "2020-11-17T10:06:08.739172Z"
    },
    "papermill": {
     "duration": 15.378104,
     "end_time": "2020-11-17T10:06:08.739340",
     "exception": false,
     "start_time": "2020-11-17T10:05:53.361236",
     "status": "completed"
    },
    "tags": []
   },
   "outputs": [
    {
     "name": "stdout",
     "output_type": "stream",
     "text": [
      "====== Logistic Regression ======\n",
      "Epoch 0, Loss 0.21\n",
      "Training Accuracy: 0.7666, Testing Accuracy: 0.7853\n",
      "\n"
     ]
    },
    {
     "name": "stdout",
     "output_type": "stream",
     "text": [
      "Epoch 10, Loss 0.1012\n",
      "Training Accuracy: 0.9103, Testing Accuracy: 0.9214\n",
      "\n"
     ]
    },
    {
     "name": "stdout",
     "output_type": "stream",
     "text": [
      "Epoch 20, Loss 0.0781\n",
      "Training Accuracy: 0.9316, Testing Accuracy: 0.9441\n",
      "\n"
     ]
    },
    {
     "name": "stdout",
     "output_type": "stream",
     "text": [
      "Epoch 30, Loss 0.0672\n",
      "Training Accuracy: 0.9384, Testing Accuracy: 0.9496\n",
      "\n"
     ]
    },
    {
     "name": "stdout",
     "output_type": "stream",
     "text": [
      "Epoch 40, Loss 0.0606\n",
      "Training Accuracy: 0.9445, Testing Accuracy: 0.9506\n",
      "\n"
     ]
    },
    {
     "name": "stdout",
     "output_type": "stream",
     "text": [
      "Epoch 50, Loss 0.0561\n",
      "Training Accuracy: 0.9473, Testing Accuracy: 0.9551\n",
      "\n"
     ]
    },
    {
     "name": "stdout",
     "output_type": "stream",
     "text": [
      "Epoch 60, Loss 0.0529\n",
      "Training Accuracy: 0.9493, Testing Accuracy: 0.9587\n",
      "\n"
     ]
    },
    {
     "name": "stdout",
     "output_type": "stream",
     "text": [
      "Epoch 70, Loss 0.0504\n",
      "Training Accuracy: 0.9508, Testing Accuracy: 0.9597\n",
      "\n"
     ]
    },
    {
     "name": "stdout",
     "output_type": "stream",
     "text": [
      "Epoch 80, Loss 0.0484\n",
      "Training Accuracy: 0.9528, Testing Accuracy: 0.9617\n",
      "\n"
     ]
    },
    {
     "name": "stdout",
     "output_type": "stream",
     "text": [
      "Epoch 90, Loss 0.0468\n",
      "Training Accuracy: 0.9540, Testing Accuracy: 0.9617\n",
      "\n"
     ]
    },
    {
     "name": "stdout",
     "output_type": "stream",
     "text": [
      "Epoch 100, Loss 0.0454\n",
      "Training Accuracy: 0.9548, Testing Accuracy: 0.9622\n",
      "\n"
     ]
    },
    {
     "name": "stdout",
     "output_type": "stream",
     "text": [
      "Epoch 110, Loss 0.0442\n",
      "Training Accuracy: 0.9557, Testing Accuracy: 0.9637\n",
      "\n"
     ]
    },
    {
     "name": "stdout",
     "output_type": "stream",
     "text": [
      "Epoch 120, Loss 0.0432\n",
      "Training Accuracy: 0.9562, Testing Accuracy: 0.9647\n",
      "\n"
     ]
    },
    {
     "name": "stdout",
     "output_type": "stream",
     "text": [
      "Epoch 130, Loss 0.0423\n",
      "Training Accuracy: 0.9572, Testing Accuracy: 0.9652\n",
      "\n"
     ]
    },
    {
     "name": "stdout",
     "output_type": "stream",
     "text": [
      "Epoch 140, Loss 0.0415\n",
      "Training Accuracy: 0.9576, Testing Accuracy: 0.9652\n",
      "\n"
     ]
    },
    {
     "name": "stdout",
     "output_type": "stream",
     "text": [
      "Epoch 150, Loss 0.0408\n",
      "Training Accuracy: 0.9579, Testing Accuracy: 0.9647\n",
      "\n"
     ]
    },
    {
     "name": "stdout",
     "output_type": "stream",
     "text": [
      "Epoch 160, Loss 0.0401\n",
      "Training Accuracy: 0.9580, Testing Accuracy: 0.9662\n",
      "\n"
     ]
    },
    {
     "name": "stdout",
     "output_type": "stream",
     "text": [
      "Epoch 170, Loss 0.0396\n",
      "Training Accuracy: 0.9583, Testing Accuracy: 0.9662\n",
      "\n"
     ]
    },
    {
     "name": "stdout",
     "output_type": "stream",
     "text": [
      "Epoch 180, Loss 0.039\n",
      "Training Accuracy: 0.9589, Testing Accuracy: 0.9667\n",
      "\n"
     ]
    },
    {
     "name": "stdout",
     "output_type": "stream",
     "text": [
      "Epoch 190, Loss 0.0385\n",
      "Training Accuracy: 0.9591, Testing Accuracy: 0.9672\n",
      "\n"
     ]
    },
    {
     "name": "stdout",
     "output_type": "stream",
     "text": [
      "Epoch 200, Loss 0.0381\n",
      "Training Accuracy: 0.9596, Testing Accuracy: 0.9672\n",
      "\n"
     ]
    },
    {
     "name": "stdout",
     "output_type": "stream",
     "text": [
      "Epoch 210, Loss 0.0377\n",
      "Training Accuracy: 0.9597, Testing Accuracy: 0.9672\n",
      "\n"
     ]
    },
    {
     "name": "stdout",
     "output_type": "stream",
     "text": [
      "Epoch 220, Loss 0.0373\n",
      "Training Accuracy: 0.9603, Testing Accuracy: 0.9672\n",
      "\n"
     ]
    },
    {
     "name": "stdout",
     "output_type": "stream",
     "text": [
      "Epoch 230, Loss 0.0369\n",
      "Training Accuracy: 0.9609, Testing Accuracy: 0.9672\n",
      "\n"
     ]
    },
    {
     "name": "stdout",
     "output_type": "stream",
     "text": [
      "Epoch 240, Loss 0.0365\n",
      "Training Accuracy: 0.9614, Testing Accuracy: 0.9672\n",
      "\n"
     ]
    },
    {
     "name": "stdout",
     "output_type": "stream",
     "text": [
      "Epoch 250, Loss 0.0362\n",
      "Training Accuracy: 0.9617, Testing Accuracy: 0.9667\n",
      "\n"
     ]
    },
    {
     "data": {
      "text/plain": [
       "0.05332139209099725"
      ]
     },
     "execution_count": 22,
     "metadata": {},
     "output_type": "execute_result"
    }
   ],
   "source": [
    "print(\"====== Logistic Regression ======\")\n",
    "learner_lr.train_loop(dl)"
   ]
  },
  {
   "cell_type": "markdown",
   "metadata": {
    "papermill": {
     "duration": 0.043374,
     "end_time": "2020-11-17T10:06:08.826000",
     "exception": false,
     "start_time": "2020-11-17T10:06:08.782626",
     "status": "completed"
    },
    "tags": []
   },
   "source": [
    "### Comparing results of NN and LR"
   ]
  },
  {
   "cell_type": "code",
   "execution_count": 23,
   "metadata": {
    "execution": {
     "iopub.execute_input": "2020-11-17T10:06:08.920963Z",
     "iopub.status.busy": "2020-11-17T10:06:08.919865Z",
     "iopub.status.idle": "2020-11-17T10:06:09.166523Z",
     "shell.execute_reply": "2020-11-17T10:06:09.166019Z"
    },
    "papermill": {
     "duration": 0.296913,
     "end_time": "2020-11-17T10:06:09.166662",
     "exception": false,
     "start_time": "2020-11-17T10:06:08.869749",
     "status": "completed"
    },
    "tags": []
   },
   "outputs": [
    {
     "data": {
      "text/plain": [
       "<matplotlib.legend.Legend at 0x7f5a47b6a048>"
      ]
     },
     "execution_count": 23,
     "metadata": {},
     "output_type": "execute_result"
    },
    {
     "data": {
      "image/png": "[encoded data removed]",
      "text/plain": [
       "<Figure size 1080x720 with 1 Axes>"
      ]
     },
     "metadata": {
      "needs_background": "light"
     },
     "output_type": "display_data"
    }
   ],
   "source": [
    "plt.figure(figsize=(15,10))\n",
    "\n",
    "# Neural Network plots\n",
    "plt.plot(acc_nn.accuracies, 'r-', label = \"Training Accuracies - NN\")\n",
    "plt.plot(acc_nn.test_accuracies, 'g-', label = \"Testing Accuracies - NN\")\n",
    "\n",
    "# Logistic Regression plots\n",
    "plt.plot(acc_lr.accuracies, 'k-', label = \"Training Accuracies - LR\")\n",
    "plt.plot(acc_lr.test_accuracies, 'b-', label = \"Testing Accuracies - LR\")\n",
    "\n",
    "plt.ylim(0.8, 1)\n",
    "\n",
    "plt.legend()\n",
    "\n"
   ]
  },
  {
   "cell_type": "markdown",
   "metadata": {
    "papermill": {
     "duration": 0.044993,
     "end_time": "2020-11-17T10:06:09.257184",
     "exception": false,
     "start_time": "2020-11-17T10:06:09.212191",
     "status": "completed"
    },
    "tags": []
   },
   "source": [
    "### From the plot, we can observe the following:\n",
    "- Neural Network achieves higher accuracy than the Logistic Regression model.\n",
    "- This apparently, is because of overfitting, i.e. NN captures more noise than data.\n",
    "- Testing accuracy of NN drops below the Training accuracy at higher epochs. This explains the over-fitting on training data.\n",
    "- Logistic Regression gives a reliable accuracy, without the above mentioned problem.\n"
   ]
  },
  {
   "cell_type": "markdown",
   "metadata": {
    "papermill": {
     "duration": 0.043709,
     "end_time": "2020-11-17T10:06:09.345197",
     "exception": false,
     "start_time": "2020-11-17T10:06:09.301488",
     "status": "completed"
    },
    "tags": []
   },
   "source": [
    "### Moving till the last but one layer (excluding it).\n",
    "#### Plotting the outputs of this layer of the NN."
   ]
  },
  {
   "cell_type": "code",
   "execution_count": 24,
   "metadata": {
    "execution": {
     "iopub.execute_input": "2020-11-17T10:06:09.445001Z",
     "iopub.status.busy": "2020-11-17T10:06:09.438550Z",
     "iopub.status.idle": "2020-11-17T10:06:09.452046Z",
     "shell.execute_reply": "2020-11-17T10:06:09.451480Z"
    },
    "papermill": {
     "duration": 0.062051,
     "end_time": "2020-11-17T10:06:09.452188",
     "exception": false,
     "start_time": "2020-11-17T10:06:09.390137",
     "status": "completed"
    },
    "tags": []
   },
   "outputs": [],
   "source": [
    "model_new = Model(layers[:-2])"
   ]
  },
  {
   "cell_type": "code",
   "execution_count": 25,
   "metadata": {
    "execution": {
     "iopub.execute_input": "2020-11-17T10:06:09.546662Z",
     "iopub.status.busy": "2020-11-17T10:06:09.546113Z",
     "iopub.status.idle": "2020-11-17T10:06:09.568259Z",
     "shell.execute_reply": "2020-11-17T10:06:09.568787Z"
    },
    "papermill": {
     "duration": 0.071776,
     "end_time": "2020-11-17T10:06:09.568961",
     "exception": false,
     "start_time": "2020-11-17T10:06:09.497185",
     "status": "completed"
    },
    "tags": []
   },
   "outputs": [],
   "source": [
    "plot_testing = model_new(testing_xdata)"
   ]
  },
  {
   "cell_type": "code",
   "execution_count": 26,
   "metadata": {
    "execution": {
     "iopub.execute_input": "2020-11-17T10:06:09.673308Z",
     "iopub.status.busy": "2020-11-17T10:06:09.672711Z",
     "iopub.status.idle": "2020-11-17T10:06:09.873772Z",
     "shell.execute_reply": "2020-11-17T10:06:09.874254Z"
    },
    "papermill": {
     "duration": 0.260192,
     "end_time": "2020-11-17T10:06:09.874410",
     "exception": false,
     "start_time": "2020-11-17T10:06:09.614218",
     "status": "completed"
    },
    "tags": []
   },
   "outputs": [
    {
     "data": {
      "text/plain": [
       "Text(0.5, 1.0, 'Outputs')"
      ]
     },
     "execution_count": 26,
     "metadata": {},
     "output_type": "execute_result"
    },
    {
     "data": {
      "image/png": "[encoded data removed]",
      "text/plain": [
       "<Figure size 576x504 with 1 Axes>"
      ]
     },
     "metadata": {
      "needs_background": "light"
     },
     "output_type": "display_data"
    }
   ],
   "source": [
    "plt.figure(figsize=(8,7))\n",
    "plt.scatter(plot_testing[:,0], plot_testing[:,1], alpha = 0.1, c = y_test.ravel());\n",
    "plt.title('Outputs')"
   ]
  },
  {
   "cell_type": "markdown",
   "metadata": {
    "papermill": {
     "duration": 0.047268,
     "end_time": "2020-11-17T10:06:09.969233",
     "exception": false,
     "start_time": "2020-11-17T10:06:09.921965",
     "status": "completed"
    },
    "tags": []
   },
   "source": [
    "### Plotting probability contours"
   ]
  },
  {
   "cell_type": "code",
   "execution_count": 27,
   "metadata": {
    "execution": {
     "iopub.execute_input": "2020-11-17T10:06:10.070030Z",
     "iopub.status.busy": "2020-11-17T10:06:10.069437Z",
     "iopub.status.idle": "2020-11-17T10:06:10.082825Z",
     "shell.execute_reply": "2020-11-17T10:06:10.082340Z"
    },
    "papermill": {
     "duration": 0.066175,
     "end_time": "2020-11-17T10:06:10.082962",
     "exception": false,
     "start_time": "2020-11-17T10:06:10.016787",
     "status": "completed"
    },
    "tags": []
   },
   "outputs": [],
   "source": [
    "model_prob = Model(layers[-2:]) "
   ]
  },
  {
   "cell_type": "code",
   "execution_count": 28,
   "metadata": {
    "execution": {
     "iopub.execute_input": "2020-11-17T10:06:10.186184Z",
     "iopub.status.busy": "2020-11-17T10:06:10.185582Z",
     "iopub.status.idle": "2020-11-17T10:06:10.201678Z",
     "shell.execute_reply": "2020-11-17T10:06:10.202155Z"
    },
    "papermill": {
     "duration": 0.071094,
     "end_time": "2020-11-17T10:06:10.202320",
     "exception": false,
     "start_time": "2020-11-17T10:06:10.131226",
     "status": "completed"
    },
    "tags": []
   },
   "outputs": [],
   "source": [
    "# Adjust the x and y ranges according to the above generated plot.\n",
    "x_range = np.linspace(-4, 1, 100) \n",
    "y_range = np.linspace(-6, 6, 100) \n",
    "x_grid, y_grid = np.meshgrid(x_range, y_range) # x_grid and y_grig are of size 100 X 100\n",
    "\n",
    "# converting x_grid and y_grid to continuous arrays\n",
    "x_grid_flat = np.ravel(x_grid)\n",
    "y_grid_flat = np.ravel(y_grid)\n",
    "\n",
    "# The last layer of the current model takes two columns as input. Hence transpose of np.vstack() is required.\n",
    "X = np.vstack((x_grid_flat, y_grid_flat)).T\n",
    "\n",
    "# x_grid and y_grid are of size 100 x 100\n",
    "probability_contour = model_prob(X).reshape(100,100) "
   ]
  },
  {
   "cell_type": "code",
   "execution_count": 29,
   "metadata": {
    "execution": {
     "iopub.execute_input": "2020-11-17T10:06:10.325520Z",
     "iopub.status.busy": "2020-11-17T10:06:10.324957Z",
     "iopub.status.idle": "2020-11-17T10:06:10.583086Z",
     "shell.execute_reply": "2020-11-17T10:06:10.583537Z"
    },
    "papermill": {
     "duration": 0.32201,
     "end_time": "2020-11-17T10:06:10.583699",
     "exception": false,
     "start_time": "2020-11-17T10:06:10.261689",
     "status": "completed"
    },
    "tags": []
   },
   "outputs": [
    {
     "data": {
      "image/png": "[encoded data removed]",
      "text/plain": [
       "<Figure size 720x648 with 1 Axes>"
      ]
     },
     "metadata": {
      "needs_background": "light"
     },
     "output_type": "display_data"
    }
   ],
   "source": [
    "plt.figure(figsize=(10,9))\n",
    "plt.scatter(plot_testing[:,0], plot_testing[:,1], alpha = 0.1, c = y_test.ravel())\n",
    "contours = plt.contour(x_grid,y_grid,probability_contour)\n",
    "plt.title('Probability Contours')\n",
    "plt.clabel(contours, inline = True );"
   ]
  }
 ],
 "metadata": {
  "kernelspec": {
   "display_name": "Python 3",
   "language": "python",
   "name": "python3"
  },
  "language_info": {
   "codemirror_mode": {
    "name": "ipython",
    "version": 3
   },
   "file_extension": ".py",
   "mimetype": "text/x-python",
   "name": "python",
   "nbconvert_exporter": "python",
   "pygments_lexer": "ipython3",
   "version": "3.6.12"
  },
  "papermill": {
   "duration": 110.626835,
   "end_time": "2020-11-17T10:06:11.043178",
   "environment_variables": {},
   "exception": null,
   "input_path": "2020-08-11-NeuralNetwork.ipynb",
   "output_path": "2020-08-11-NeuralNetwork.ipynb",
   "parameters": {},
   "start_time": "2020-11-17T10:04:20.416343",
   "version": "2.1.2"
  }
 },
 "nbformat": 4,
 "nbformat_minor": 4
}