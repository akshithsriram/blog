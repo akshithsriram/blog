{
 "cells": [
  {
   "cell_type": "markdown",
   "id": "fitted-suggestion",
   "metadata": {
    "papermill": {
     "duration": 0.033356,
     "end_time": "2021-06-24T20:04:35.979077",
     "exception": false,
     "start_time": "2021-06-24T20:04:35.945721",
     "status": "completed"
    },
    "tags": []
   },
   "source": [
    "# \"A Basic Neural Network: Differentiate Hand-Written Digits\"\n",
    "\n",
    "- badges: true\n",
    "- author: Akshith Sriram"
   ]
  },
  {
   "cell_type": "markdown",
   "id": "signal-flexibility",
   "metadata": {
    "papermill": {
     "duration": 0.029639,
     "end_time": "2021-06-24T20:04:36.038931",
     "exception": false,
     "start_time": "2021-06-24T20:04:36.009292",
     "status": "completed"
    },
    "tags": []
   },
   "source": [
    "### Key Objectives:\n",
    "- Building a neural network that differentiates two hand-written digits 3 and 8.\n",
    "- Comparing the results of this Neural Network (NN) to that of a Logistic Regression (LR) model.\n",
    "\n",
    "### Requirements:\n",
    "- 'Kudzu' : A neural network library that was designed during our course by [Univ.AI](www.univ.ai). \n",
    "- MNIST Database\n",
    "\n",
    "If MNIST is not installed, use the command `!pip install mnist` given below.\n",
    "It can be run both from the command line and Jupyter Notebook."
   ]
  },
  {
   "cell_type": "code",
   "execution_count": 1,
   "id": "british-texture",
   "metadata": {
    "execution": {
     "iopub.execute_input": "2021-06-24T20:04:36.113315Z",
     "iopub.status.busy": "2021-06-24T20:04:36.112643Z",
     "iopub.status.idle": "2021-06-24T20:04:37.736589Z",
     "shell.execute_reply": "2021-06-24T20:04:37.735495Z"
    },
    "papermill": {
     "duration": 1.664781,
     "end_time": "2021-06-24T20:04:37.736769",
     "exception": false,
     "start_time": "2021-06-24T20:04:36.071988",
     "status": "completed"
    },
    "tags": []
   },
   "outputs": [
    {
     "name": "stdout",
     "output_type": "stream",
     "text": [
      "Collecting mnist\r\n"
     ]
    },
    {
     "name": "stdout",
     "output_type": "stream",
     "text": [
      "  Downloading mnist-0.2.2-py2.py3-none-any.whl (3.5 kB)\r\n",
      "Requirement already satisfied: numpy in /opt/hostedtoolcache/Python/3.6.13/x64/lib/python3.6/site-packages (from mnist) (1.19.5)\r\n"
     ]
    },
    {
     "name": "stdout",
     "output_type": "stream",
     "text": [
      "Installing collected packages: mnist\r\n",
      "Successfully installed mnist-0.2.2\r\n"
     ]
    }
   ],
   "source": [
    "!pip install mnist "
   ]
  },
  {
   "cell_type": "markdown",
   "id": "stunning-extra",
   "metadata": {
    "papermill": {
     "duration": 0.031091,
     "end_time": "2021-06-24T20:04:37.800664",
     "exception": false,
     "start_time": "2021-06-24T20:04:37.769573",
     "status": "completed"
    },
    "tags": []
   },
   "source": [
    "#### Importing necessary libraries"
   ]
  },
  {
   "cell_type": "code",
   "execution_count": 2,
   "id": "wooden-france",
   "metadata": {
    "execution": {
     "iopub.execute_input": "2021-06-24T20:04:37.873532Z",
     "iopub.status.busy": "2021-06-24T20:04:37.872828Z",
     "iopub.status.idle": "2021-06-24T20:04:38.501741Z",
     "shell.execute_reply": "2021-06-24T20:04:38.500547Z"
    },
    "papermill": {
     "duration": 0.671273,
     "end_time": "2021-06-24T20:04:38.501883",
     "exception": false,
     "start_time": "2021-06-24T20:04:37.830610",
     "status": "completed"
    },
    "tags": []
   },
   "outputs": [],
   "source": [
    "%load_ext autoreload\n",
    "%autoreload 2\n",
    "\n",
    "%matplotlib inline\n",
    "import matplotlib.pyplot as plt\n",
    "\n",
    "import numpy as np\n",
    "import pandas as pd"
   ]
  },
  {
   "cell_type": "markdown",
   "id": "stunning-physics",
   "metadata": {
    "papermill": {
     "duration": 0.029993,
     "end_time": "2021-06-24T20:04:38.562287",
     "exception": false,
     "start_time": "2021-06-24T20:04:38.532294",
     "status": "completed"
    },
    "tags": []
   },
   "source": [
    "### Preparing the Data"
   ]
  },
  {
   "cell_type": "code",
   "execution_count": 3,
   "id": "unauthorized-remainder",
   "metadata": {
    "execution": {
     "iopub.execute_input": "2021-06-24T20:04:38.638461Z",
     "iopub.status.busy": "2021-06-24T20:04:38.633825Z",
     "iopub.status.idle": "2021-06-24T20:04:38.651198Z",
     "shell.execute_reply": "2021-06-24T20:04:38.650322Z"
    },
    "papermill": {
     "duration": 0.059232,
     "end_time": "2021-06-24T20:04:38.651404",
     "exception": false,
     "start_time": "2021-06-24T20:04:38.592172",
     "status": "completed"
    },
    "tags": []
   },
   "outputs": [],
   "source": [
    "import mnist"
   ]
  },
  {
   "cell_type": "code",
   "execution_count": 4,
   "id": "correct-antarctica",
   "metadata": {
    "execution": {
     "iopub.execute_input": "2021-06-24T20:04:38.718754Z",
     "iopub.status.busy": "2021-06-24T20:04:38.718168Z",
     "iopub.status.idle": "2021-06-24T20:09:30.175744Z",
     "shell.execute_reply": "2021-06-24T20:09:30.176240Z"
    },
    "papermill": {
     "duration": 291.4943,
     "end_time": "2021-06-24T20:09:30.176397",
     "exception": false,
     "start_time": "2021-06-24T20:04:38.682097",
     "status": "completed"
    },
    "tags": []
   },
   "outputs": [],
   "source": [
    "train_images = mnist.train_images()\n",
    "train_labels = mnist.train_labels()"
   ]
  },
  {
   "cell_type": "code",
   "execution_count": 5,
   "id": "musical-prospect",
   "metadata": {
    "execution": {
     "iopub.execute_input": "2021-06-24T20:09:30.248091Z",
     "iopub.status.busy": "2021-06-24T20:09:30.247492Z",
     "iopub.status.idle": "2021-06-24T20:09:30.262278Z",
     "shell.execute_reply": "2021-06-24T20:09:30.261863Z"
    },
    "papermill": {
     "duration": 0.04837,
     "end_time": "2021-06-24T20:09:30.262400",
     "exception": false,
     "start_time": "2021-06-24T20:09:30.214030",
     "status": "completed"
    },
    "tags": []
   },
   "outputs": [
    {
     "data": {
      "text/plain": [
       "((60000, 28, 28), (60000,))"
      ]
     },
     "execution_count": 5,
     "metadata": {},
     "output_type": "execute_result"
    }
   ],
   "source": [
    "train_images.shape, train_labels.shape"
   ]
  },
  {
   "cell_type": "code",
   "execution_count": 6,
   "id": "preliminary-elizabeth",
   "metadata": {
    "execution": {
     "iopub.execute_input": "2021-06-24T20:09:30.327904Z",
     "iopub.status.busy": "2021-06-24T20:09:30.327307Z",
     "iopub.status.idle": "2021-06-24T20:10:17.184115Z",
     "shell.execute_reply": "2021-06-24T20:10:17.182915Z"
    },
    "papermill": {
     "duration": 46.892593,
     "end_time": "2021-06-24T20:10:17.184264",
     "exception": false,
     "start_time": "2021-06-24T20:09:30.291671",
     "status": "completed"
    },
    "tags": []
   },
   "outputs": [],
   "source": [
    "test_images = mnist.test_images()\n",
    "test_labels = mnist.test_labels()"
   ]
  },
  {
   "cell_type": "code",
   "execution_count": 7,
   "id": "acknowledged-oxygen",
   "metadata": {
    "execution": {
     "iopub.execute_input": "2021-06-24T20:10:17.252041Z",
     "iopub.status.busy": "2021-06-24T20:10:17.247441Z",
     "iopub.status.idle": "2021-06-24T20:10:17.264544Z",
     "shell.execute_reply": "2021-06-24T20:10:17.265072Z"
    },
    "papermill": {
     "duration": 0.051554,
     "end_time": "2021-06-24T20:10:17.265226",
     "exception": false,
     "start_time": "2021-06-24T20:10:17.213672",
     "status": "completed"
    },
    "tags": []
   },
   "outputs": [
    {
     "data": {
      "text/plain": [
       "((10000, 28, 28), (10000,))"
      ]
     },
     "execution_count": 7,
     "metadata": {},
     "output_type": "execute_result"
    }
   ],
   "source": [
    "test_images.shape, test_labels.shape"
   ]
  },
  {
   "cell_type": "code",
   "execution_count": 8,
   "id": "innovative-organic",
   "metadata": {
    "execution": {
     "iopub.execute_input": "2021-06-24T20:10:17.335260Z",
     "iopub.status.busy": "2021-06-24T20:10:17.334723Z",
     "iopub.status.idle": "2021-06-24T20:10:17.481839Z",
     "shell.execute_reply": "2021-06-24T20:10:17.482571Z"
    },
    "papermill": {
     "duration": 0.181961,
     "end_time": "2021-06-24T20:10:17.482782",
     "exception": false,
     "start_time": "2021-06-24T20:10:17.300821",
     "status": "completed"
    },
    "tags": []
   },
   "outputs": [
    {
     "name": "stdout",
     "output_type": "stream",
     "text": [
      "2\n"
     ]
    },
    {
     "data": {
      "text/plain": [
       "<matplotlib.image.AxesImage at 0x7f061225c7b8>"
      ]
     },
     "execution_count": 8,
     "metadata": {},
     "output_type": "execute_result"
    },
    {
     "data": {
      "image/png": "[encoded data removed]",
      "text/plain": [
       "<Figure size 432x288 with 1 Axes>"
      ]
     },
     "metadata": {
      "needs_background": "light"
     },
     "output_type": "display_data"
    }
   ],
   "source": [
    "image_index = 7776 # You may select anything up to 60,000\n",
    "print(train_labels[image_index]) \n",
    "plt.imshow(train_images[image_index], cmap='Greys')"
   ]
  },
  {
   "cell_type": "markdown",
   "id": "facial-modem",
   "metadata": {
    "papermill": {
     "duration": 0.031479,
     "end_time": "2021-06-24T20:10:17.546348",
     "exception": false,
     "start_time": "2021-06-24T20:10:17.514869",
     "status": "completed"
    },
    "tags": []
   },
   "source": [
    "## Filter data to get 3 and 8 out"
   ]
  },
  {
   "cell_type": "code",
   "execution_count": 9,
   "id": "thousand-acquisition",
   "metadata": {
    "execution": {
     "iopub.execute_input": "2021-06-24T20:10:17.616860Z",
     "iopub.status.busy": "2021-06-24T20:10:17.616313Z",
     "iopub.status.idle": "2021-06-24T20:10:17.635444Z",
     "shell.execute_reply": "2021-06-24T20:10:17.635981Z"
    },
    "papermill": {
     "duration": 0.05773,
     "end_time": "2021-06-24T20:10:17.636145",
     "exception": false,
     "start_time": "2021-06-24T20:10:17.578415",
     "status": "completed"
    },
    "tags": []
   },
   "outputs": [],
   "source": [
    "train_filter = np.where((train_labels == 3 ) | (train_labels == 8))\n",
    "test_filter = np.where((test_labels == 3) | (test_labels == 8))\n",
    "X_train, y_train = train_images[train_filter], train_labels[train_filter]\n",
    "X_test, y_test = test_images[test_filter], test_labels[test_filter]"
   ]
  },
  {
   "cell_type": "markdown",
   "id": "ruled-access",
   "metadata": {
    "papermill": {
     "duration": 0.032229,
     "end_time": "2021-06-24T20:10:17.707523",
     "exception": false,
     "start_time": "2021-06-24T20:10:17.675294",
     "status": "completed"
    },
    "tags": []
   },
   "source": [
    "We normalize the pixel values in the 0 to 1 range"
   ]
  },
  {
   "cell_type": "code",
   "execution_count": 10,
   "id": "isolated-denver",
   "metadata": {
    "execution": {
     "iopub.execute_input": "2021-06-24T20:10:17.778473Z",
     "iopub.status.busy": "2021-06-24T20:10:17.777924Z",
     "iopub.status.idle": "2021-06-24T20:10:17.837593Z",
     "shell.execute_reply": "2021-06-24T20:10:17.836690Z"
    },
    "papermill": {
     "duration": 0.098476,
     "end_time": "2021-06-24T20:10:17.837823",
     "exception": false,
     "start_time": "2021-06-24T20:10:17.739347",
     "status": "completed"
    },
    "tags": []
   },
   "outputs": [],
   "source": [
    "X_train = X_train/255.\n",
    "X_test = X_test/255."
   ]
  },
  {
   "cell_type": "markdown",
   "id": "perfect-summary",
   "metadata": {
    "papermill": {
     "duration": 0.031227,
     "end_time": "2021-06-24T20:10:17.904090",
     "exception": false,
     "start_time": "2021-06-24T20:10:17.872863",
     "status": "completed"
    },
    "tags": []
   },
   "source": [
    "Setup the labels as 1 (when the digit is 3) and 0 (when the digit is 8)"
   ]
  },
  {
   "cell_type": "code",
   "execution_count": 11,
   "id": "personalized-growing",
   "metadata": {
    "execution": {
     "iopub.execute_input": "2021-06-24T20:10:17.968756Z",
     "iopub.status.busy": "2021-06-24T20:10:17.968207Z",
     "iopub.status.idle": "2021-06-24T20:10:17.980263Z",
     "shell.execute_reply": "2021-06-24T20:10:17.979799Z"
    },
    "papermill": {
     "duration": 0.046133,
     "end_time": "2021-06-24T20:10:17.980401",
     "exception": false,
     "start_time": "2021-06-24T20:10:17.934268",
     "status": "completed"
    },
    "tags": []
   },
   "outputs": [],
   "source": [
    "y_train = 1*(y_train==3)\n",
    "y_test = 1*(y_test==3)"
   ]
  },
  {
   "cell_type": "code",
   "execution_count": 12,
   "id": "considered-virgin",
   "metadata": {
    "execution": {
     "iopub.execute_input": "2021-06-24T20:10:18.043812Z",
     "iopub.status.busy": "2021-06-24T20:10:18.043118Z",
     "iopub.status.idle": "2021-06-24T20:10:18.056150Z",
     "shell.execute_reply": "2021-06-24T20:10:18.056556Z"
    },
    "papermill": {
     "duration": 0.048576,
     "end_time": "2021-06-24T20:10:18.056689",
     "exception": false,
     "start_time": "2021-06-24T20:10:18.008113",
     "status": "completed"
    },
    "tags": []
   },
   "outputs": [
    {
     "data": {
      "text/plain": [
       "((11982, 28, 28), (1984, 28, 28))"
      ]
     },
     "execution_count": 12,
     "metadata": {},
     "output_type": "execute_result"
    }
   ],
   "source": [
    "X_train.shape, X_test.shape"
   ]
  },
  {
   "cell_type": "markdown",
   "id": "civilian-mobile",
   "metadata": {
    "papermill": {
     "duration": 0.03338,
     "end_time": "2021-06-24T20:10:18.121949",
     "exception": false,
     "start_time": "2021-06-24T20:10:18.088569",
     "status": "completed"
    },
    "tags": []
   },
   "source": [
    "### Reshape the input data to create a linear array"
   ]
  },
  {
   "cell_type": "code",
   "execution_count": 13,
   "id": "colonial-adams",
   "metadata": {
    "execution": {
     "iopub.execute_input": "2021-06-24T20:10:18.187189Z",
     "iopub.status.busy": "2021-06-24T20:10:18.186583Z",
     "iopub.status.idle": "2021-06-24T20:10:18.201561Z",
     "shell.execute_reply": "2021-06-24T20:10:18.200751Z"
    },
    "papermill": {
     "duration": 0.04995,
     "end_time": "2021-06-24T20:10:18.201728",
     "exception": false,
     "start_time": "2021-06-24T20:10:18.151778",
     "status": "completed"
    },
    "tags": []
   },
   "outputs": [
    {
     "data": {
      "text/plain": [
       "((11982, 784), (1984, 784))"
      ]
     },
     "execution_count": 13,
     "metadata": {},
     "output_type": "execute_result"
    }
   ],
   "source": [
    "X_train = X_train.reshape(X_train.shape[0], -1)\n",
    "X_test = X_test.reshape(X_test.shape[0], -1)\n",
    "X_train.shape, X_test.shape"
   ]
  },
  {
   "cell_type": "markdown",
   "id": "smart-details",
   "metadata": {
    "papermill": {
     "duration": 0.030972,
     "end_time": "2021-06-24T20:10:18.264693",
     "exception": false,
     "start_time": "2021-06-24T20:10:18.233721",
     "status": "completed"
    },
    "tags": []
   },
   "source": [
    "### Importing appropriate functions from 'Kudzu'"
   ]
  },
  {
   "cell_type": "code",
   "execution_count": 14,
   "id": "celtic-trial",
   "metadata": {
    "execution": {
     "iopub.execute_input": "2021-06-24T20:10:18.336295Z",
     "iopub.status.busy": "2021-06-24T20:10:18.335519Z",
     "iopub.status.idle": "2021-06-24T20:10:18.355739Z",
     "shell.execute_reply": "2021-06-24T20:10:18.356308Z"
    },
    "papermill": {
     "duration": 0.058561,
     "end_time": "2021-06-24T20:10:18.356461",
     "exception": false,
     "start_time": "2021-06-24T20:10:18.297900",
     "status": "completed"
    },
    "tags": []
   },
   "outputs": [],
   "source": [
    "from kudzu.layer import Sigmoid\n",
    "from kudzu.layer import Relu\n",
    "from kudzu.layer import Affine, Sigmoid\n",
    "\n",
    "from kudzu.model import Model\n",
    "from kudzu.train import Learner\n",
    "from kudzu.optim import GD\n",
    "from kudzu.data import Data, Dataloader, Sampler\n",
    "\n",
    "from kudzu.callbacks import AccCallback\n",
    "from kudzu.callbacks import ClfCallback\n",
    "\n",
    "from kudzu.loss import MSE"
   ]
  },
  {
   "cell_type": "markdown",
   "id": "coupled-customer",
   "metadata": {
    "papermill": {
     "duration": 0.031503,
     "end_time": "2021-06-24T20:10:18.420908",
     "exception": false,
     "start_time": "2021-06-24T20:10:18.389405",
     "status": "completed"
    },
    "tags": []
   },
   "source": [
    "### Let us create a `Config` class, to store important parameters. \n",
    "This class essentially plays the role of a dictionary."
   ]
  },
  {
   "cell_type": "code",
   "execution_count": 15,
   "id": "young-ceiling",
   "metadata": {
    "execution": {
     "iopub.execute_input": "2021-06-24T20:10:18.489539Z",
     "iopub.status.busy": "2021-06-24T20:10:18.488405Z",
     "iopub.status.idle": "2021-06-24T20:10:18.501897Z",
     "shell.execute_reply": "2021-06-24T20:10:18.502388Z"
    },
    "papermill": {
     "duration": 0.049796,
     "end_time": "2021-06-24T20:10:18.502531",
     "exception": false,
     "start_time": "2021-06-24T20:10:18.452735",
     "status": "completed"
    },
    "tags": []
   },
   "outputs": [],
   "source": [
    "class Config:\n",
    "    pass\n",
    "config = Config()\n",
    "config.lr = 0.001\n",
    "config.num_epochs = 251\n",
    "config.bs = 50"
   ]
  },
  {
   "cell_type": "markdown",
   "id": "according-mandate",
   "metadata": {
    "papermill": {
     "duration": 0.031223,
     "end_time": "2021-06-24T20:10:18.564734",
     "exception": false,
     "start_time": "2021-06-24T20:10:18.533511",
     "status": "completed"
    },
    "tags": []
   },
   "source": [
    "### Initializing data to the variables"
   ]
  },
  {
   "cell_type": "code",
   "execution_count": 16,
   "id": "academic-disposition",
   "metadata": {
    "execution": {
     "iopub.execute_input": "2021-06-24T20:10:18.636277Z",
     "iopub.status.busy": "2021-06-24T20:10:18.635673Z",
     "iopub.status.idle": "2021-06-24T20:10:18.650764Z",
     "shell.execute_reply": "2021-06-24T20:10:18.649739Z"
    },
    "papermill": {
     "duration": 0.051368,
     "end_time": "2021-06-24T20:10:18.650888",
     "exception": false,
     "start_time": "2021-06-24T20:10:18.599520",
     "status": "completed"
    },
    "tags": []
   },
   "outputs": [],
   "source": [
    "data = Data(X_train, y_train.reshape(-1,1))\n",
    "sampler = Sampler(data, config.bs, shuffle=True)\n",
    "\n",
    "dl = Dataloader(data, sampler)\n",
    "\n",
    "opt = GD(config.lr)\n",
    "loss = MSE()"
   ]
  },
  {
   "cell_type": "code",
   "execution_count": 17,
   "id": "featured-commission",
   "metadata": {
    "execution": {
     "iopub.execute_input": "2021-06-24T20:10:18.722262Z",
     "iopub.status.busy": "2021-06-24T20:10:18.721121Z",
     "iopub.status.idle": "2021-06-24T20:10:18.735540Z",
     "shell.execute_reply": "2021-06-24T20:10:18.734847Z"
    },
    "papermill": {
     "duration": 0.051586,
     "end_time": "2021-06-24T20:10:18.735707",
     "exception": false,
     "start_time": "2021-06-24T20:10:18.684121",
     "status": "completed"
    },
    "tags": []
   },
   "outputs": [],
   "source": [
    "training_xdata = X_train\n",
    "testing_xdata = X_test\n",
    "training_ydata = y_train.reshape(-1,1)\n",
    "testing_ydata = y_test.reshape(-1,1)"
   ]
  },
  {
   "cell_type": "markdown",
   "id": "played-safety",
   "metadata": {
    "papermill": {
     "duration": 0.032582,
     "end_time": "2021-06-24T20:10:18.812140",
     "exception": false,
     "start_time": "2021-06-24T20:10:18.779558",
     "status": "completed"
    },
    "tags": []
   },
   "source": [
    "### Running Models with the Training data\n",
    "Details about the network layers:\n",
    "- A first affine layer has 784 inputs and does 100 affine transforms. These are followed by a Relu\n",
    "- A second affine layer has 100 inputs from the 100 activations of the past layer, and does 100 affine transforms. These are followed by a Relu\n",
    "- A third affine layer has 100 activations and does 2 affine transformations to create an embedding for visualization. There is no non-linearity here.\n",
    "- A final \"logistic regression\" which has an affine transform from 2 inputs to 1 output, which is squeezed through a sigmoid.\n",
    "\n",
    "Help taken from Anshuman's Notebook."
   ]
  },
  {
   "cell_type": "code",
   "execution_count": 18,
   "id": "asian-bankruptcy",
   "metadata": {
    "execution": {
     "iopub.execute_input": "2021-06-24T20:10:18.887550Z",
     "iopub.status.busy": "2021-06-24T20:10:18.886708Z",
     "iopub.status.idle": "2021-06-24T20:10:18.904135Z",
     "shell.execute_reply": "2021-06-24T20:10:18.903542Z"
    },
    "papermill": {
     "duration": 0.056375,
     "end_time": "2021-06-24T20:10:18.904262",
     "exception": false,
     "start_time": "2021-06-24T20:10:18.847887",
     "status": "completed"
    },
    "tags": []
   },
   "outputs": [],
   "source": [
    "# layers for the Neural Network\n",
    "layers = [Affine(\"first\", 784, 100), Relu(\"first\"), Affine(\"second\", 100, 100), Relu(\"second\"), Affine(\"third\", 100, 2), Affine(\"final\", 2, 1), Sigmoid(\"final\")]\n",
    "model_nn = Model(layers)\n",
    "\n",
    "# layers for the Logistic Regression\n",
    "layers_lr = [Affine(\"logits\", 784, 1), Sigmoid(\"sigmoid\")]\n",
    "model_lr = Model(layers_lr)"
   ]
  },
  {
   "cell_type": "code",
   "execution_count": 19,
   "id": "removed-butler",
   "metadata": {
    "execution": {
     "iopub.execute_input": "2021-06-24T20:10:18.978583Z",
     "iopub.status.busy": "2021-06-24T20:10:18.977978Z",
     "iopub.status.idle": "2021-06-24T20:10:18.990135Z",
     "shell.execute_reply": "2021-06-24T20:10:18.989652Z"
    },
    "papermill": {
     "duration": 0.053812,
     "end_time": "2021-06-24T20:10:18.990269",
     "exception": false,
     "start_time": "2021-06-24T20:10:18.936457",
     "status": "completed"
    },
    "tags": []
   },
   "outputs": [],
   "source": [
    "# suffix _nn stands for Neural Network.\n",
    "learner_nn = Learner(loss, model_nn, opt, config.num_epochs)\n",
    "acc_nn = ClfCallback(learner_nn, config.bs, training_xdata , testing_xdata, training_ydata, testing_ydata)\n",
    "learner_nn.set_callbacks([acc_nn])"
   ]
  },
  {
   "cell_type": "code",
   "execution_count": 20,
   "id": "conceptual-throw",
   "metadata": {
    "execution": {
     "iopub.execute_input": "2021-06-24T20:10:19.055464Z",
     "iopub.status.busy": "2021-06-24T20:10:19.054875Z",
     "iopub.status.idle": "2021-06-24T20:11:48.734334Z",
     "shell.execute_reply": "2021-06-24T20:11:48.735119Z"
    },
    "papermill": {
     "duration": 89.714949,
     "end_time": "2021-06-24T20:11:48.735291",
     "exception": false,
     "start_time": "2021-06-24T20:10:19.020342",
     "status": "completed"
    },
    "tags": []
   },
   "outputs": [
    {
     "name": "stdout",
     "output_type": "stream",
     "text": [
      "====== Neural Network ======\n"
     ]
    },
    {
     "name": "stdout",
     "output_type": "stream",
     "text": [
      "Epoch 0, Loss 0.2325\n",
      "Training Accuracy: 0.8154, Testing Accuracy: 0.8226\n",
      "\n"
     ]
    },
    {
     "name": "stdout",
     "output_type": "stream",
     "text": [
      "Epoch 10, Loss 0.0582\n",
      "Training Accuracy: 0.9403, Testing Accuracy: 0.9531\n",
      "\n"
     ]
    },
    {
     "name": "stdout",
     "output_type": "stream",
     "text": [
      "Epoch 20, Loss 0.0414\n",
      "Training Accuracy: 0.9535, Testing Accuracy: 0.9662\n",
      "\n"
     ]
    },
    {
     "name": "stdout",
     "output_type": "stream",
     "text": [
      "Epoch 30, Loss 0.0347\n",
      "Training Accuracy: 0.9603, Testing Accuracy: 0.9703\n",
      "\n"
     ]
    },
    {
     "name": "stdout",
     "output_type": "stream",
     "text": [
      "Epoch 40, Loss 0.031\n",
      "Training Accuracy: 0.9643, Testing Accuracy: 0.9718\n",
      "\n"
     ]
    },
    {
     "name": "stdout",
     "output_type": "stream",
     "text": [
      "Epoch 50, Loss 0.0285\n",
      "Training Accuracy: 0.9668, Testing Accuracy: 0.9728\n",
      "\n"
     ]
    },
    {
     "name": "stdout",
     "output_type": "stream",
     "text": [
      "Epoch 60, Loss 0.0266\n",
      "Training Accuracy: 0.9687, Testing Accuracy: 0.9723\n",
      "\n"
     ]
    },
    {
     "name": "stdout",
     "output_type": "stream",
     "text": [
      "Epoch 70, Loss 0.0251\n",
      "Training Accuracy: 0.9705, Testing Accuracy: 0.9728\n",
      "\n"
     ]
    },
    {
     "name": "stdout",
     "output_type": "stream",
     "text": [
      "Epoch 80, Loss 0.0238\n",
      "Training Accuracy: 0.9720, Testing Accuracy: 0.9743\n",
      "\n"
     ]
    },
    {
     "name": "stdout",
     "output_type": "stream",
     "text": [
      "Epoch 90, Loss 0.0228\n",
      "Training Accuracy: 0.9739, Testing Accuracy: 0.9748\n",
      "\n"
     ]
    },
    {
     "name": "stdout",
     "output_type": "stream",
     "text": [
      "Epoch 100, Loss 0.0218\n",
      "Training Accuracy: 0.9751, Testing Accuracy: 0.9743\n",
      "\n"
     ]
    },
    {
     "name": "stdout",
     "output_type": "stream",
     "text": [
      "Epoch 110, Loss 0.021\n",
      "Training Accuracy: 0.9759, Testing Accuracy: 0.9753\n",
      "\n"
     ]
    },
    {
     "name": "stdout",
     "output_type": "stream",
     "text": [
      "Epoch 120, Loss 0.0202\n",
      "Training Accuracy: 0.9770, Testing Accuracy: 0.9758\n",
      "\n"
     ]
    },
    {
     "name": "stdout",
     "output_type": "stream",
     "text": [
      "Epoch 130, Loss 0.0194\n",
      "Training Accuracy: 0.9783, Testing Accuracy: 0.9763\n",
      "\n"
     ]
    },
    {
     "name": "stdout",
     "output_type": "stream",
     "text": [
      "Epoch 140, Loss 0.0188\n",
      "Training Accuracy: 0.9792, Testing Accuracy: 0.9763\n",
      "\n"
     ]
    },
    {
     "name": "stdout",
     "output_type": "stream",
     "text": [
      "Epoch 150, Loss 0.0182\n",
      "Training Accuracy: 0.9806, Testing Accuracy: 0.9768\n",
      "\n"
     ]
    },
    {
     "name": "stdout",
     "output_type": "stream",
     "text": [
      "Epoch 160, Loss 0.0176\n",
      "Training Accuracy: 0.9811, Testing Accuracy: 0.9773\n",
      "\n"
     ]
    },
    {
     "name": "stdout",
     "output_type": "stream",
     "text": [
      "Epoch 170, Loss 0.0171\n",
      "Training Accuracy: 0.9819, Testing Accuracy: 0.9783\n",
      "\n"
     ]
    },
    {
     "name": "stdout",
     "output_type": "stream",
     "text": [
      "Epoch 180, Loss 0.0166\n",
      "Training Accuracy: 0.9824, Testing Accuracy: 0.9773\n",
      "\n"
     ]
    },
    {
     "name": "stdout",
     "output_type": "stream",
     "text": [
      "Epoch 190, Loss 0.0161\n",
      "Training Accuracy: 0.9833, Testing Accuracy: 0.9778\n",
      "\n"
     ]
    },
    {
     "name": "stdout",
     "output_type": "stream",
     "text": [
      "Epoch 200, Loss 0.0157\n",
      "Training Accuracy: 0.9842, Testing Accuracy: 0.9778\n",
      "\n"
     ]
    },
    {
     "name": "stdout",
     "output_type": "stream",
     "text": [
      "Epoch 210, Loss 0.0152\n",
      "Training Accuracy: 0.9847, Testing Accuracy: 0.9778\n",
      "\n"
     ]
    },
    {
     "name": "stdout",
     "output_type": "stream",
     "text": [
      "Epoch 220, Loss 0.0148\n",
      "Training Accuracy: 0.9854, Testing Accuracy: 0.9778\n",
      "\n"
     ]
    },
    {
     "name": "stdout",
     "output_type": "stream",
     "text": [
      "Epoch 230, Loss 0.0144\n",
      "Training Accuracy: 0.9857, Testing Accuracy: 0.9783\n",
      "\n"
     ]
    },
    {
     "name": "stdout",
     "output_type": "stream",
     "text": [
      "Epoch 240, Loss 0.0141\n",
      "Training Accuracy: 0.9863, Testing Accuracy: 0.9783\n",
      "\n"
     ]
    },
    {
     "name": "stdout",
     "output_type": "stream",
     "text": [
      "Epoch 250, Loss 0.0137\n",
      "Training Accuracy: 0.9864, Testing Accuracy: 0.9788\n",
      "\n"
     ]
    },
    {
     "data": {
      "text/plain": [
       "0.0035451572052588977"
      ]
     },
     "execution_count": 20,
     "metadata": {},
     "output_type": "execute_result"
    }
   ],
   "source": [
    "print(\"====== Neural Network ======\")\n",
    "learner_nn.train_loop(dl)"
   ]
  },
  {
   "cell_type": "markdown",
   "id": "competent-suffering",
   "metadata": {
    "papermill": {
     "duration": 0.041879,
     "end_time": "2021-06-24T20:11:48.818531",
     "exception": false,
     "start_time": "2021-06-24T20:11:48.776652",
     "status": "completed"
    },
    "tags": []
   },
   "source": [
    "### Logistic Regression based Implementation."
   ]
  },
  {
   "cell_type": "code",
   "execution_count": 21,
   "id": "qualified-psychiatry",
   "metadata": {
    "execution": {
     "iopub.execute_input": "2021-06-24T20:11:48.910439Z",
     "iopub.status.busy": "2021-06-24T20:11:48.909825Z",
     "iopub.status.idle": "2021-06-24T20:11:48.917324Z",
     "shell.execute_reply": "2021-06-24T20:11:48.916833Z"
    },
    "papermill": {
     "duration": 0.058492,
     "end_time": "2021-06-24T20:11:48.917448",
     "exception": false,
     "start_time": "2021-06-24T20:11:48.858956",
     "status": "completed"
    },
    "tags": []
   },
   "outputs": [],
   "source": [
    "learner_lr = Learner(loss, model_lr, opt, config.num_epochs)\n",
    "acc_lr = ClfCallback(learner_lr, config.bs, training_xdata , testing_xdata, training_ydata, testing_ydata)\n",
    "learner_lr.set_callbacks([acc_lr])"
   ]
  },
  {
   "cell_type": "code",
   "execution_count": 22,
   "id": "average-outside",
   "metadata": {
    "execution": {
     "iopub.execute_input": "2021-06-24T20:11:49.007903Z",
     "iopub.status.busy": "2021-06-24T20:11:49.001615Z",
     "iopub.status.idle": "2021-06-24T20:12:04.292141Z",
     "shell.execute_reply": "2021-06-24T20:12:04.292548Z"
    },
    "papermill": {
     "duration": 15.335743,
     "end_time": "2021-06-24T20:12:04.292704",
     "exception": false,
     "start_time": "2021-06-24T20:11:48.956961",
     "status": "completed"
    },
    "tags": []
   },
   "outputs": [
    {
     "name": "stdout",
     "output_type": "stream",
     "text": [
      "====== Logistic Regression ======\n",
      "Epoch 0, Loss 0.2328\n",
      "Training Accuracy: 0.7104, Testing Accuracy: 0.7051\n",
      "\n"
     ]
    },
    {
     "name": "stdout",
     "output_type": "stream",
     "text": [
      "Epoch 10, Loss 0.1028\n",
      "Training Accuracy: 0.9074, Testing Accuracy: 0.9214\n",
      "\n"
     ]
    },
    {
     "name": "stdout",
     "output_type": "stream",
     "text": [
      "Epoch 20, Loss 0.0793\n",
      "Training Accuracy: 0.9260, Testing Accuracy: 0.9395\n",
      "\n"
     ]
    },
    {
     "name": "stdout",
     "output_type": "stream",
     "text": [
      "Epoch 30, Loss 0.0684\n",
      "Training Accuracy: 0.9355, Testing Accuracy: 0.9471\n",
      "\n"
     ]
    },
    {
     "name": "stdout",
     "output_type": "stream",
     "text": [
      "Epoch 40, Loss 0.0619\n",
      "Training Accuracy: 0.9415, Testing Accuracy: 0.9521\n",
      "\n"
     ]
    },
    {
     "name": "stdout",
     "output_type": "stream",
     "text": [
      "Epoch 50, Loss 0.0574\n",
      "Training Accuracy: 0.9443, Testing Accuracy: 0.9541\n",
      "\n"
     ]
    },
    {
     "name": "stdout",
     "output_type": "stream",
     "text": [
      "Epoch 60, Loss 0.0541\n",
      "Training Accuracy: 0.9470, Testing Accuracy: 0.9587\n",
      "\n"
     ]
    },
    {
     "name": "stdout",
     "output_type": "stream",
     "text": [
      "Epoch 70, Loss 0.0516\n",
      "Training Accuracy: 0.9489, Testing Accuracy: 0.9597\n",
      "\n"
     ]
    },
    {
     "name": "stdout",
     "output_type": "stream",
     "text": [
      "Epoch 80, Loss 0.0496\n",
      "Training Accuracy: 0.9503, Testing Accuracy: 0.9617\n",
      "\n"
     ]
    },
    {
     "name": "stdout",
     "output_type": "stream",
     "text": [
      "Epoch 90, Loss 0.0479\n",
      "Training Accuracy: 0.9511, Testing Accuracy: 0.9622\n",
      "\n"
     ]
    },
    {
     "name": "stdout",
     "output_type": "stream",
     "text": [
      "Epoch 100, Loss 0.0464\n",
      "Training Accuracy: 0.9518, Testing Accuracy: 0.9642\n",
      "\n"
     ]
    },
    {
     "name": "stdout",
     "output_type": "stream",
     "text": [
      "Epoch 110, Loss 0.0452\n",
      "Training Accuracy: 0.9523, Testing Accuracy: 0.9632\n",
      "\n"
     ]
    },
    {
     "name": "stdout",
     "output_type": "stream",
     "text": [
      "Epoch 120, Loss 0.0441\n",
      "Training Accuracy: 0.9538, Testing Accuracy: 0.9637\n",
      "\n"
     ]
    },
    {
     "name": "stdout",
     "output_type": "stream",
     "text": [
      "Epoch 130, Loss 0.0432\n",
      "Training Accuracy: 0.9546, Testing Accuracy: 0.9642\n",
      "\n"
     ]
    },
    {
     "name": "stdout",
     "output_type": "stream",
     "text": [
      "Epoch 140, Loss 0.0424\n",
      "Training Accuracy: 0.9553, Testing Accuracy: 0.9647\n",
      "\n"
     ]
    },
    {
     "name": "stdout",
     "output_type": "stream",
     "text": [
      "Epoch 150, Loss 0.0416\n",
      "Training Accuracy: 0.9562, Testing Accuracy: 0.9652\n",
      "\n"
     ]
    },
    {
     "name": "stdout",
     "output_type": "stream",
     "text": [
      "Epoch 160, Loss 0.0409\n",
      "Training Accuracy: 0.9569, Testing Accuracy: 0.9662\n",
      "\n"
     ]
    },
    {
     "name": "stdout",
     "output_type": "stream",
     "text": [
      "Epoch 170, Loss 0.0403\n",
      "Training Accuracy: 0.9572, Testing Accuracy: 0.9662\n",
      "\n"
     ]
    },
    {
     "name": "stdout",
     "output_type": "stream",
     "text": [
      "Epoch 180, Loss 0.0398\n",
      "Training Accuracy: 0.9578, Testing Accuracy: 0.9662\n",
      "\n"
     ]
    },
    {
     "name": "stdout",
     "output_type": "stream",
     "text": [
      "Epoch 190, Loss 0.0392\n",
      "Training Accuracy: 0.9578, Testing Accuracy: 0.9657\n",
      "\n"
     ]
    },
    {
     "name": "stdout",
     "output_type": "stream",
     "text": [
      "Epoch 200, Loss 0.0387\n",
      "Training Accuracy: 0.9582, Testing Accuracy: 0.9657\n",
      "\n"
     ]
    },
    {
     "name": "stdout",
     "output_type": "stream",
     "text": [
      "Epoch 210, Loss 0.0383\n",
      "Training Accuracy: 0.9589, Testing Accuracy: 0.9657\n",
      "\n"
     ]
    },
    {
     "name": "stdout",
     "output_type": "stream",
     "text": [
      "Epoch 220, Loss 0.0379\n",
      "Training Accuracy: 0.9593, Testing Accuracy: 0.9657\n",
      "\n"
     ]
    },
    {
     "name": "stdout",
     "output_type": "stream",
     "text": [
      "Epoch 230, Loss 0.0375\n",
      "Training Accuracy: 0.9599, Testing Accuracy: 0.9657\n",
      "\n"
     ]
    },
    {
     "name": "stdout",
     "output_type": "stream",
     "text": [
      "Epoch 240, Loss 0.0371\n",
      "Training Accuracy: 0.9599, Testing Accuracy: 0.9652\n",
      "\n"
     ]
    },
    {
     "name": "stdout",
     "output_type": "stream",
     "text": [
      "Epoch 250, Loss 0.0368\n",
      "Training Accuracy: 0.9603, Testing Accuracy: 0.9657\n",
      "\n"
     ]
    },
    {
     "data": {
      "text/plain": [
       "0.029162024972172386"
      ]
     },
     "execution_count": 22,
     "metadata": {},
     "output_type": "execute_result"
    }
   ],
   "source": [
    "print(\"====== Logistic Regression ======\")\n",
    "learner_lr.train_loop(dl)"
   ]
  },
  {
   "cell_type": "markdown",
   "id": "adjusted-possible",
   "metadata": {
    "papermill": {
     "duration": 0.04837,
     "end_time": "2021-06-24T20:12:04.390528",
     "exception": false,
     "start_time": "2021-06-24T20:12:04.342158",
     "status": "completed"
    },
    "tags": []
   },
   "source": [
    "### Comparing results of NN and LR"
   ]
  },
  {
   "cell_type": "code",
   "execution_count": 23,
   "id": "mental-multimedia",
   "metadata": {
    "execution": {
     "iopub.execute_input": "2021-06-24T20:12:04.506213Z",
     "iopub.status.busy": "2021-06-24T20:12:04.505630Z",
     "iopub.status.idle": "2021-06-24T20:12:04.733547Z",
     "shell.execute_reply": "2021-06-24T20:12:04.733036Z"
    },
    "papermill": {
     "duration": 0.286712,
     "end_time": "2021-06-24T20:12:04.733669",
     "exception": false,
     "start_time": "2021-06-24T20:12:04.446957",
     "status": "completed"
    },
    "tags": []
   },
   "outputs": [
    {
     "data": {
      "text/plain": [
       "<matplotlib.legend.Legend at 0x7f0609dbf208>"
      ]
     },
     "execution_count": 23,
     "metadata": {},
     "output_type": "execute_result"
    },
    {
     "data": {
      "image/png": "[encoded data removed]",
      "text/plain": [
       "<Figure size 1080x720 with 1 Axes>"
      ]
     },
     "metadata": {
      "needs_background": "light"
     },
     "output_type": "display_data"
    }
   ],
   "source": [
    "plt.figure(figsize=(15,10))\n",
    "\n",
    "# Neural Network plots\n",
    "plt.plot(acc_nn.accuracies, 'r-', label = \"Training Accuracies - NN\")\n",
    "plt.plot(acc_nn.test_accuracies, 'g-', label = \"Testing Accuracies - NN\")\n",
    "\n",
    "# Logistic Regression plots\n",
    "plt.plot(acc_lr.accuracies, 'k-', label = \"Training Accuracies - LR\")\n",
    "plt.plot(acc_lr.test_accuracies, 'b-', label = \"Testing Accuracies - LR\")\n",
    "\n",
    "plt.ylim(0.8, 1)\n",
    "\n",
    "plt.legend()\n",
    "\n"
   ]
  },
  {
   "cell_type": "markdown",
   "id": "sexual-flesh",
   "metadata": {
    "papermill": {
     "duration": 0.048406,
     "end_time": "2021-06-24T20:12:04.829732",
     "exception": false,
     "start_time": "2021-06-24T20:12:04.781326",
     "status": "completed"
    },
    "tags": []
   },
   "source": [
    "### From the plot, we can observe the following:\n",
    "- Neural Network achieves higher accuracy than the Logistic Regression model.\n",
    "- This apparently, is because of overfitting, i.e. NN captures more noise than data.\n",
    "- Testing accuracy of NN drops below the Training accuracy at higher epochs. This explains the over-fitting on training data.\n",
    "- Logistic Regression gives a reliable accuracy, without the above mentioned problem.\n"
   ]
  },
  {
   "cell_type": "markdown",
   "id": "institutional-pacific",
   "metadata": {
    "papermill": {
     "duration": 0.044774,
     "end_time": "2021-06-24T20:12:04.922591",
     "exception": false,
     "start_time": "2021-06-24T20:12:04.877817",
     "status": "completed"
    },
    "tags": []
   },
   "source": [
    "### Moving till the last but one layer (excluding it).\n",
    "#### Plotting the outputs of this layer of the NN."
   ]
  },
  {
   "cell_type": "code",
   "execution_count": 24,
   "id": "economic-server",
   "metadata": {
    "execution": {
     "iopub.execute_input": "2021-06-24T20:12:05.024310Z",
     "iopub.status.busy": "2021-06-24T20:12:05.019949Z",
     "iopub.status.idle": "2021-06-24T20:12:05.034739Z",
     "shell.execute_reply": "2021-06-24T20:12:05.033812Z"
    },
    "papermill": {
     "duration": 0.066126,
     "end_time": "2021-06-24T20:12:05.034880",
     "exception": false,
     "start_time": "2021-06-24T20:12:04.968754",
     "status": "completed"
    },
    "tags": []
   },
   "outputs": [],
   "source": [
    "model_new = Model(layers[:-2])"
   ]
  },
  {
   "cell_type": "code",
   "execution_count": 25,
   "id": "varied-upgrade",
   "metadata": {
    "execution": {
     "iopub.execute_input": "2021-06-24T20:12:05.160698Z",
     "iopub.status.busy": "2021-06-24T20:12:05.160160Z",
     "iopub.status.idle": "2021-06-24T20:12:05.183402Z",
     "shell.execute_reply": "2021-06-24T20:12:05.183880Z"
    },
    "papermill": {
     "duration": 0.100326,
     "end_time": "2021-06-24T20:12:05.184020",
     "exception": false,
     "start_time": "2021-06-24T20:12:05.083694",
     "status": "completed"
    },
    "tags": []
   },
   "outputs": [],
   "source": [
    "plot_testing = model_new(testing_xdata)"
   ]
  },
  {
   "cell_type": "code",
   "execution_count": 26,
   "id": "specific-handling",
   "metadata": {
    "execution": {
     "iopub.execute_input": "2021-06-24T20:12:05.298852Z",
     "iopub.status.busy": "2021-06-24T20:12:05.298322Z",
     "iopub.status.idle": "2021-06-24T20:12:05.490609Z",
     "shell.execute_reply": "2021-06-24T20:12:05.491054Z"
    },
    "papermill": {
     "duration": 0.24849,
     "end_time": "2021-06-24T20:12:05.491199",
     "exception": false,
     "start_time": "2021-06-24T20:12:05.242709",
     "status": "completed"
    },
    "tags": []
   },
   "outputs": [
    {
     "data": {
      "text/plain": [
       "Text(0.5, 1.0, 'Outputs')"
      ]
     },
     "execution_count": 26,
     "metadata": {},
     "output_type": "execute_result"
    },
    {
     "data": {
      "image/png": "[encoded data removed]",
      "text/plain": [
       "<Figure size 576x504 with 1 Axes>"
      ]
     },
     "metadata": {
      "needs_background": "light"
     },
     "output_type": "display_data"
    }
   ],
   "source": [
    "plt.figure(figsize=(8,7))\n",
    "plt.scatter(plot_testing[:,0], plot_testing[:,1], alpha = 0.1, c = y_test.ravel());\n",
    "plt.title('Outputs')"
   ]
  },
  {
   "cell_type": "markdown",
   "id": "described-knowing",
   "metadata": {
    "papermill": {
     "duration": 0.056245,
     "end_time": "2021-06-24T20:12:05.619636",
     "exception": false,
     "start_time": "2021-06-24T20:12:05.563391",
     "status": "completed"
    },
    "tags": []
   },
   "source": [
    "### Plotting probability contours"
   ]
  },
  {
   "cell_type": "code",
   "execution_count": 27,
   "id": "needed-growing",
   "metadata": {
    "execution": {
     "iopub.execute_input": "2021-06-24T20:12:05.719611Z",
     "iopub.status.busy": "2021-06-24T20:12:05.719111Z",
     "iopub.status.idle": "2021-06-24T20:12:05.733388Z",
     "shell.execute_reply": "2021-06-24T20:12:05.732705Z"
    },
    "papermill": {
     "duration": 0.067306,
     "end_time": "2021-06-24T20:12:05.733547",
     "exception": false,
     "start_time": "2021-06-24T20:12:05.666241",
     "status": "completed"
    },
    "tags": []
   },
   "outputs": [],
   "source": [
    "model_prob = Model(layers[-2:]) "
   ]
  },
  {
   "cell_type": "code",
   "execution_count": 28,
   "id": "introductory-enforcement",
   "metadata": {
    "execution": {
     "iopub.execute_input": "2021-06-24T20:12:05.841932Z",
     "iopub.status.busy": "2021-06-24T20:12:05.841352Z",
     "iopub.status.idle": "2021-06-24T20:12:05.854646Z",
     "shell.execute_reply": "2021-06-24T20:12:05.855392Z"
    },
    "papermill": {
     "duration": 0.065979,
     "end_time": "2021-06-24T20:12:05.855529",
     "exception": false,
     "start_time": "2021-06-24T20:12:05.789550",
     "status": "completed"
    },
    "tags": []
   },
   "outputs": [],
   "source": [
    "# Adjust the x and y ranges according to the above generated plot.\n",
    "x_range = np.linspace(-4, 1, 100) \n",
    "y_range = np.linspace(-6, 6, 100) \n",
    "x_grid, y_grid = np.meshgrid(x_range, y_range) # x_grid and y_grig are of size 100 X 100\n",
    "\n",
    "# converting x_grid and y_grid to continuous arrays\n",
    "x_grid_flat = np.ravel(x_grid)\n",
    "y_grid_flat = np.ravel(y_grid)\n",
    "\n",
    "# The last layer of the current model takes two columns as input. Hence transpose of np.vstack() is required.\n",
    "X = np.vstack((x_grid_flat, y_grid_flat)).T\n",
    "\n",
    "# x_grid and y_grid are of size 100 x 100\n",
    "probability_contour = model_prob(X).reshape(100,100) "
   ]
  },
  {
   "cell_type": "code",
   "execution_count": 29,
   "id": "understood-landing",
   "metadata": {
    "execution": {
     "iopub.execute_input": "2021-06-24T20:12:05.963297Z",
     "iopub.status.busy": "2021-06-24T20:12:05.962719Z",
     "iopub.status.idle": "2021-06-24T20:12:06.217045Z",
     "shell.execute_reply": "2021-06-24T20:12:06.215881Z"
    },
    "papermill": {
     "duration": 0.309599,
     "end_time": "2021-06-24T20:12:06.217270",
     "exception": false,
     "start_time": "2021-06-24T20:12:05.907671",
     "status": "completed"
    },
    "tags": []
   },
   "outputs": [
    {
     "data": {
      "image/png": "[encoded data removed]",
      "text/plain": [
       "<Figure size 720x648 with 1 Axes>"
      ]
     },
     "metadata": {
      "needs_background": "light"
     },
     "output_type": "display_data"
    }
   ],
   "source": [
    "plt.figure(figsize=(10,9))\n",
    "plt.scatter(plot_testing[:,0], plot_testing[:,1], alpha = 0.1, c = y_test.ravel())\n",
    "contours = plt.contour(x_grid,y_grid,probability_contour)\n",
    "plt.title('Probability Contours')\n",
    "plt.clabel(contours, inline = True );"
   ]
  }
 ],
 "metadata": {
  "kernelspec": {
   "display_name": "Python 3",
   "language": "python",
   "name": "python3"
  },
  "language_info": {
   "codemirror_mode": {
    "name": "ipython",
    "version": 3
   },
   "file_extension": ".py",
   "mimetype": "text/x-python",
   "name": "python",
   "nbconvert_exporter": "python",
   "pygments_lexer": "ipython3",
   "version": "3.6.13"
  },
  "papermill": {
   "duration": 451.744369,
   "end_time": "2021-06-24T20:12:06.578647",
   "environment_variables": {},
   "exception": null,
   "input_path": "2020-08-11-NeuralNetwork.ipynb",
   "output_path": "2020-08-11-NeuralNetwork.ipynb",
   "parameters": {},
   "start_time": "2021-06-24T20:04:34.834278",
   "version": "2.1.2"
  }
 },
 "nbformat": 4,
 "nbformat_minor": 5
}