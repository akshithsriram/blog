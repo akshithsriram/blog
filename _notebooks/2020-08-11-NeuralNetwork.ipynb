{
 "cells": [
  {
   "cell_type": "markdown",
   "metadata": {
    "papermill": {
     "duration": 0.03319,
     "end_time": "2020-09-21T10:04:58.711456",
     "exception": false,
     "start_time": "2020-09-21T10:04:58.678266",
     "status": "completed"
    },
    "tags": []
   },
   "source": [
    "# \"A Basic Neural Network: Differentiate Hand-Written Digits\"\n",
    "\n",
    "- badges: true\n",
    "- author: Akshith Sriram"
   ]
  },
  {
   "cell_type": "markdown",
   "metadata": {
    "papermill": {
     "duration": 0.026338,
     "end_time": "2020-09-21T10:04:58.764730",
     "exception": false,
     "start_time": "2020-09-21T10:04:58.738392",
     "status": "completed"
    },
    "tags": []
   },
   "source": [
    "### Key Objectives:\n",
    "- Building a neural network that differentiates two hand-written digits 3 and 8.\n",
    "- Comparing the results of this Neural Network (NN) to that of a Logistic Regression (LR) model.\n",
    "\n",
    "### Requirements:\n",
    "- 'Kudzu' : A neural network library that was designed during our course by [Univ.AI](www.univ.ai). \n",
    "- MNIST Database\n",
    "\n",
    "If MNIST is not installed, use the command `!pip install mnist` given below.\n",
    "It can be run both from the command line and Jupyter Notebook."
   ]
  },
  {
   "cell_type": "code",
   "execution_count": 1,
   "metadata": {
    "execution": {
     "iopub.execute_input": "2020-09-21T10:04:58.822759Z",
     "iopub.status.busy": "2020-09-21T10:04:58.822038Z",
     "iopub.status.idle": "2020-09-21T10:05:00.730915Z",
     "shell.execute_reply": "2020-09-21T10:05:00.731401Z"
    },
    "papermill": {
     "duration": 1.940525,
     "end_time": "2020-09-21T10:05:00.731596",
     "exception": false,
     "start_time": "2020-09-21T10:04:58.791071",
     "status": "completed"
    },
    "tags": []
   },
   "outputs": [
    {
     "name": "stdout",
     "output_type": "stream",
     "text": [
      "Collecting mnist\r\n"
     ]
    },
    {
     "name": "stdout",
     "output_type": "stream",
     "text": [
      "  Downloading mnist-0.2.2-py2.py3-none-any.whl (3.5 kB)\r\n",
      "Requirement already satisfied: numpy in /opt/hostedtoolcache/Python/3.6.12/x64/lib/python3.6/site-packages (from mnist) (1.19.2)\r\n"
     ]
    },
    {
     "name": "stdout",
     "output_type": "stream",
     "text": [
      "Installing collected packages: mnist\r\n"
     ]
    },
    {
     "name": "stdout",
     "output_type": "stream",
     "text": [
      "Successfully installed mnist-0.2.2\r\n"
     ]
    }
   ],
   "source": [
    "!pip install mnist "
   ]
  },
  {
   "cell_type": "markdown",
   "metadata": {
    "papermill": {
     "duration": 0.027477,
     "end_time": "2020-09-21T10:05:00.786566",
     "exception": false,
     "start_time": "2020-09-21T10:05:00.759089",
     "status": "completed"
    },
    "tags": []
   },
   "source": [
    "#### Importing necessary libraries"
   ]
  },
  {
   "cell_type": "code",
   "execution_count": 2,
   "metadata": {
    "execution": {
     "iopub.execute_input": "2020-09-21T10:05:00.849790Z",
     "iopub.status.busy": "2020-09-21T10:05:00.848782Z",
     "iopub.status.idle": "2020-09-21T10:05:01.466518Z",
     "shell.execute_reply": "2020-09-21T10:05:01.465785Z"
    },
    "papermill": {
     "duration": 0.652714,
     "end_time": "2020-09-21T10:05:01.466664",
     "exception": false,
     "start_time": "2020-09-21T10:05:00.813950",
     "status": "completed"
    },
    "tags": []
   },
   "outputs": [],
   "source": [
    "%load_ext autoreload\n",
    "%autoreload 2\n",
    "\n",
    "%matplotlib inline\n",
    "import matplotlib.pyplot as plt\n",
    "\n",
    "import numpy as np\n",
    "import pandas as pd"
   ]
  },
  {
   "cell_type": "markdown",
   "metadata": {
    "papermill": {
     "duration": 0.027232,
     "end_time": "2020-09-21T10:05:01.522628",
     "exception": false,
     "start_time": "2020-09-21T10:05:01.495396",
     "status": "completed"
    },
    "tags": []
   },
   "source": [
    "### Preparing the Data"
   ]
  },
  {
   "cell_type": "code",
   "execution_count": 3,
   "metadata": {
    "execution": {
     "iopub.execute_input": "2020-09-21T10:05:01.581943Z",
     "iopub.status.busy": "2020-09-21T10:05:01.581302Z",
     "iopub.status.idle": "2020-09-21T10:05:01.595578Z",
     "shell.execute_reply": "2020-09-21T10:05:01.595076Z"
    },
    "papermill": {
     "duration": 0.045509,
     "end_time": "2020-09-21T10:05:01.595715",
     "exception": false,
     "start_time": "2020-09-21T10:05:01.550206",
     "status": "completed"
    },
    "tags": []
   },
   "outputs": [],
   "source": [
    "import mnist"
   ]
  },
  {
   "cell_type": "code",
   "execution_count": 4,
   "metadata": {
    "execution": {
     "iopub.execute_input": "2020-09-21T10:05:01.655204Z",
     "iopub.status.busy": "2020-09-21T10:05:01.654598Z",
     "iopub.status.idle": "2020-09-21T10:05:02.567429Z",
     "shell.execute_reply": "2020-09-21T10:05:02.567954Z"
    },
    "papermill": {
     "duration": 0.944196,
     "end_time": "2020-09-21T10:05:02.568122",
     "exception": false,
     "start_time": "2020-09-21T10:05:01.623926",
     "status": "completed"
    },
    "tags": []
   },
   "outputs": [],
   "source": [
    "train_images = mnist.train_images()\n",
    "train_labels = mnist.train_labels()"
   ]
  },
  {
   "cell_type": "code",
   "execution_count": 5,
   "metadata": {
    "execution": {
     "iopub.execute_input": "2020-09-21T10:05:02.631631Z",
     "iopub.status.busy": "2020-09-21T10:05:02.628746Z",
     "iopub.status.idle": "2020-09-21T10:05:02.646068Z",
     "shell.execute_reply": "2020-09-21T10:05:02.645398Z"
    },
    "papermill": {
     "duration": 0.050126,
     "end_time": "2020-09-21T10:05:02.646207",
     "exception": false,
     "start_time": "2020-09-21T10:05:02.596081",
     "status": "completed"
    },
    "tags": []
   },
   "outputs": [
    {
     "data": {
      "text/plain": [
       "((60000, 28, 28), (60000,))"
      ]
     },
     "execution_count": 5,
     "metadata": {},
     "output_type": "execute_result"
    }
   ],
   "source": [
    "train_images.shape, train_labels.shape"
   ]
  },
  {
   "cell_type": "code",
   "execution_count": 6,
   "metadata": {
    "execution": {
     "iopub.execute_input": "2020-09-21T10:05:02.710516Z",
     "iopub.status.busy": "2020-09-21T10:05:02.705483Z",
     "iopub.status.idle": "2020-09-21T10:05:03.130745Z",
     "shell.execute_reply": "2020-09-21T10:05:03.130102Z"
    },
    "papermill": {
     "duration": 0.456864,
     "end_time": "2020-09-21T10:05:03.130900",
     "exception": false,
     "start_time": "2020-09-21T10:05:02.674036",
     "status": "completed"
    },
    "tags": []
   },
   "outputs": [],
   "source": [
    "test_images = mnist.test_images()\n",
    "test_labels = mnist.test_labels()"
   ]
  },
  {
   "cell_type": "code",
   "execution_count": 7,
   "metadata": {
    "execution": {
     "iopub.execute_input": "2020-09-21T10:05:03.191608Z",
     "iopub.status.busy": "2020-09-21T10:05:03.190999Z",
     "iopub.status.idle": "2020-09-21T10:05:03.206706Z",
     "shell.execute_reply": "2020-09-21T10:05:03.207232Z"
    },
    "papermill": {
     "duration": 0.048083,
     "end_time": "2020-09-21T10:05:03.207387",
     "exception": false,
     "start_time": "2020-09-21T10:05:03.159304",
     "status": "completed"
    },
    "tags": []
   },
   "outputs": [
    {
     "data": {
      "text/plain": [
       "((10000, 28, 28), (10000,))"
      ]
     },
     "execution_count": 7,
     "metadata": {},
     "output_type": "execute_result"
    }
   ],
   "source": [
    "test_images.shape, test_labels.shape"
   ]
  },
  {
   "cell_type": "code",
   "execution_count": 8,
   "metadata": {
    "execution": {
     "iopub.execute_input": "2020-09-21T10:05:03.266940Z",
     "iopub.status.busy": "2020-09-21T10:05:03.266334Z",
     "iopub.status.idle": "2020-09-21T10:05:03.421034Z",
     "shell.execute_reply": "2020-09-21T10:05:03.420515Z"
    },
    "papermill": {
     "duration": 0.186031,
     "end_time": "2020-09-21T10:05:03.421176",
     "exception": false,
     "start_time": "2020-09-21T10:05:03.235145",
     "status": "completed"
    },
    "tags": []
   },
   "outputs": [
    {
     "name": "stdout",
     "output_type": "stream",
     "text": [
      "2\n"
     ]
    },
    {
     "data": {
      "text/plain": [
       "<matplotlib.image.AxesImage at 0x7f1f15efb7b8>"
      ]
     },
     "execution_count": 8,
     "metadata": {},
     "output_type": "execute_result"
    },
    {
     "data": {
      "image/png": "[encoded data removed]",
      "text/plain": [
       "<Figure size 432x288 with 1 Axes>"
      ]
     },
     "metadata": {
      "needs_background": "light"
     },
     "output_type": "display_data"
    }
   ],
   "source": [
    "image_index = 7776 # You may select anything up to 60,000\n",
    "print(train_labels[image_index]) \n",
    "plt.imshow(train_images[image_index], cmap='Greys')"
   ]
  },
  {
   "cell_type": "markdown",
   "metadata": {
    "papermill": {
     "duration": 0.02924,
     "end_time": "2020-09-21T10:05:03.479667",
     "exception": false,
     "start_time": "2020-09-21T10:05:03.450427",
     "status": "completed"
    },
    "tags": []
   },
   "source": [
    "## Filter data to get 3 and 8 out"
   ]
  },
  {
   "cell_type": "code",
   "execution_count": 9,
   "metadata": {
    "execution": {
     "iopub.execute_input": "2020-09-21T10:05:03.543172Z",
     "iopub.status.busy": "2020-09-21T10:05:03.542545Z",
     "iopub.status.idle": "2020-09-21T10:05:03.563117Z",
     "shell.execute_reply": "2020-09-21T10:05:03.562516Z"
    },
    "papermill": {
     "duration": 0.054517,
     "end_time": "2020-09-21T10:05:03.563268",
     "exception": false,
     "start_time": "2020-09-21T10:05:03.508751",
     "status": "completed"
    },
    "tags": []
   },
   "outputs": [],
   "source": [
    "train_filter = np.where((train_labels == 3 ) | (train_labels == 8))\n",
    "test_filter = np.where((test_labels == 3) | (test_labels == 8))\n",
    "X_train, y_train = train_images[train_filter], train_labels[train_filter]\n",
    "X_test, y_test = test_images[test_filter], test_labels[test_filter]"
   ]
  },
  {
   "cell_type": "markdown",
   "metadata": {
    "papermill": {
     "duration": 0.029142,
     "end_time": "2020-09-21T10:05:03.622427",
     "exception": false,
     "start_time": "2020-09-21T10:05:03.593285",
     "status": "completed"
    },
    "tags": []
   },
   "source": [
    "We normalize the pixel values in the 0 to 1 range"
   ]
  },
  {
   "cell_type": "code",
   "execution_count": 10,
   "metadata": {
    "execution": {
     "iopub.execute_input": "2020-09-21T10:05:03.686203Z",
     "iopub.status.busy": "2020-09-21T10:05:03.685571Z",
     "iopub.status.idle": "2020-09-21T10:05:03.742064Z",
     "shell.execute_reply": "2020-09-21T10:05:03.742573Z"
    },
    "papermill": {
     "duration": 0.090207,
     "end_time": "2020-09-21T10:05:03.742750",
     "exception": false,
     "start_time": "2020-09-21T10:05:03.652543",
     "status": "completed"
    },
    "tags": []
   },
   "outputs": [],
   "source": [
    "X_train = X_train/255.\n",
    "X_test = X_test/255."
   ]
  },
  {
   "cell_type": "markdown",
   "metadata": {
    "papermill": {
     "duration": 0.02939,
     "end_time": "2020-09-21T10:05:03.801364",
     "exception": false,
     "start_time": "2020-09-21T10:05:03.771974",
     "status": "completed"
    },
    "tags": []
   },
   "source": [
    "Setup the labels as 1 (when the digit is 3) and 0 (when the digit is 8)"
   ]
  },
  {
   "cell_type": "code",
   "execution_count": 11,
   "metadata": {
    "execution": {
     "iopub.execute_input": "2020-09-21T10:05:03.863988Z",
     "iopub.status.busy": "2020-09-21T10:05:03.863375Z",
     "iopub.status.idle": "2020-09-21T10:05:03.876601Z",
     "shell.execute_reply": "2020-09-21T10:05:03.876075Z"
    },
    "papermill": {
     "duration": 0.046273,
     "end_time": "2020-09-21T10:05:03.876732",
     "exception": false,
     "start_time": "2020-09-21T10:05:03.830459",
     "status": "completed"
    },
    "tags": []
   },
   "outputs": [],
   "source": [
    "y_train = 1*(y_train==3)\n",
    "y_test = 1*(y_test==3)"
   ]
  },
  {
   "cell_type": "code",
   "execution_count": 12,
   "metadata": {
    "execution": {
     "iopub.execute_input": "2020-09-21T10:05:03.949552Z",
     "iopub.status.busy": "2020-09-21T10:05:03.948922Z",
     "iopub.status.idle": "2020-09-21T10:05:03.964847Z",
     "shell.execute_reply": "2020-09-21T10:05:03.965330Z"
    },
    "papermill": {
     "duration": 0.055396,
     "end_time": "2020-09-21T10:05:03.965478",
     "exception": false,
     "start_time": "2020-09-21T10:05:03.910082",
     "status": "completed"
    },
    "tags": []
   },
   "outputs": [
    {
     "data": {
      "text/plain": [
       "((11982, 28, 28), (1984, 28, 28))"
      ]
     },
     "execution_count": 12,
     "metadata": {},
     "output_type": "execute_result"
    }
   ],
   "source": [
    "X_train.shape, X_test.shape"
   ]
  },
  {
   "cell_type": "markdown",
   "metadata": {
    "papermill": {
     "duration": 0.029453,
     "end_time": "2020-09-21T10:05:04.024358",
     "exception": false,
     "start_time": "2020-09-21T10:05:03.994905",
     "status": "completed"
    },
    "tags": []
   },
   "source": [
    "### Reshape the input data to create a linear array"
   ]
  },
  {
   "cell_type": "code",
   "execution_count": 13,
   "metadata": {
    "execution": {
     "iopub.execute_input": "2020-09-21T10:05:04.088196Z",
     "iopub.status.busy": "2020-09-21T10:05:04.087580Z",
     "iopub.status.idle": "2020-09-21T10:05:04.102514Z",
     "shell.execute_reply": "2020-09-21T10:05:04.102021Z"
    },
    "papermill": {
     "duration": 0.048741,
     "end_time": "2020-09-21T10:05:04.102646",
     "exception": false,
     "start_time": "2020-09-21T10:05:04.053905",
     "status": "completed"
    },
    "tags": []
   },
   "outputs": [
    {
     "data": {
      "text/plain": [
       "((11982, 784), (1984, 784))"
      ]
     },
     "execution_count": 13,
     "metadata": {},
     "output_type": "execute_result"
    }
   ],
   "source": [
    "X_train = X_train.reshape(X_train.shape[0], -1)\n",
    "X_test = X_test.reshape(X_test.shape[0], -1)\n",
    "X_train.shape, X_test.shape"
   ]
  },
  {
   "cell_type": "markdown",
   "metadata": {
    "papermill": {
     "duration": 0.029984,
     "end_time": "2020-09-21T10:05:04.162976",
     "exception": false,
     "start_time": "2020-09-21T10:05:04.132992",
     "status": "completed"
    },
    "tags": []
   },
   "source": [
    "### Importing appropriate functions from 'Kudzu'"
   ]
  },
  {
   "cell_type": "code",
   "execution_count": 14,
   "metadata": {
    "execution": {
     "iopub.execute_input": "2020-09-21T10:05:04.228851Z",
     "iopub.status.busy": "2020-09-21T10:05:04.228243Z",
     "iopub.status.idle": "2020-09-21T10:05:04.249839Z",
     "shell.execute_reply": "2020-09-21T10:05:04.249244Z"
    },
    "papermill": {
     "duration": 0.056673,
     "end_time": "2020-09-21T10:05:04.249982",
     "exception": false,
     "start_time": "2020-09-21T10:05:04.193309",
     "status": "completed"
    },
    "tags": []
   },
   "outputs": [],
   "source": [
    "from kudzu.layer import Sigmoid\n",
    "from kudzu.layer import Relu\n",
    "from kudzu.layer import Affine, Sigmoid\n",
    "\n",
    "from kudzu.model import Model\n",
    "from kudzu.train import Learner\n",
    "from kudzu.optim import GD\n",
    "from kudzu.data import Data, Dataloader, Sampler\n",
    "\n",
    "from kudzu.callbacks import AccCallback\n",
    "from kudzu.callbacks import ClfCallback\n",
    "\n",
    "from kudzu.loss import MSE"
   ]
  },
  {
   "cell_type": "markdown",
   "metadata": {
    "papermill": {
     "duration": 0.029547,
     "end_time": "2020-09-21T10:05:04.309826",
     "exception": false,
     "start_time": "2020-09-21T10:05:04.280279",
     "status": "completed"
    },
    "tags": []
   },
   "source": [
    "### Let us create a `Config` class, to store important parameters. \n",
    "This class essentially plays the role of a dictionary."
   ]
  },
  {
   "cell_type": "code",
   "execution_count": 15,
   "metadata": {
    "execution": {
     "iopub.execute_input": "2020-09-21T10:05:04.375114Z",
     "iopub.status.busy": "2020-09-21T10:05:04.373468Z",
     "iopub.status.idle": "2020-09-21T10:05:04.387739Z",
     "shell.execute_reply": "2020-09-21T10:05:04.387214Z"
    },
    "papermill": {
     "duration": 0.048053,
     "end_time": "2020-09-21T10:05:04.387873",
     "exception": false,
     "start_time": "2020-09-21T10:05:04.339820",
     "status": "completed"
    },
    "tags": []
   },
   "outputs": [],
   "source": [
    "class Config:\n",
    "    pass\n",
    "config = Config()\n",
    "config.lr = 0.001\n",
    "config.num_epochs = 251\n",
    "config.bs = 50"
   ]
  },
  {
   "cell_type": "markdown",
   "metadata": {
    "papermill": {
     "duration": 0.030914,
     "end_time": "2020-09-21T10:05:04.449590",
     "exception": false,
     "start_time": "2020-09-21T10:05:04.418676",
     "status": "completed"
    },
    "tags": []
   },
   "source": [
    "### Initializing data to the variables"
   ]
  },
  {
   "cell_type": "code",
   "execution_count": 16,
   "metadata": {
    "execution": {
     "iopub.execute_input": "2020-09-21T10:05:04.514555Z",
     "iopub.status.busy": "2020-09-21T10:05:04.513914Z",
     "iopub.status.idle": "2020-09-21T10:05:04.527875Z",
     "shell.execute_reply": "2020-09-21T10:05:04.527384Z"
    },
    "papermill": {
     "duration": 0.048232,
     "end_time": "2020-09-21T10:05:04.528009",
     "exception": false,
     "start_time": "2020-09-21T10:05:04.479777",
     "status": "completed"
    },
    "tags": []
   },
   "outputs": [],
   "source": [
    "data = Data(X_train, y_train.reshape(-1,1))\n",
    "sampler = Sampler(data, config.bs, shuffle=True)\n",
    "\n",
    "dl = Dataloader(data, sampler)\n",
    "\n",
    "opt = GD(config.lr)\n",
    "loss = MSE()"
   ]
  },
  {
   "cell_type": "code",
   "execution_count": 17,
   "metadata": {
    "execution": {
     "iopub.execute_input": "2020-09-21T10:05:04.593284Z",
     "iopub.status.busy": "2020-09-21T10:05:04.592677Z",
     "iopub.status.idle": "2020-09-21T10:05:04.605224Z",
     "shell.execute_reply": "2020-09-21T10:05:04.605751Z"
    },
    "papermill": {
     "duration": 0.048335,
     "end_time": "2020-09-21T10:05:04.605904",
     "exception": false,
     "start_time": "2020-09-21T10:05:04.557569",
     "status": "completed"
    },
    "tags": []
   },
   "outputs": [],
   "source": [
    "training_xdata = X_train\n",
    "testing_xdata = X_test\n",
    "training_ydata = y_train.reshape(-1,1)\n",
    "testing_ydata = y_test.reshape(-1,1)"
   ]
  },
  {
   "cell_type": "markdown",
   "metadata": {
    "papermill": {
     "duration": 0.031618,
     "end_time": "2020-09-21T10:05:04.667298",
     "exception": false,
     "start_time": "2020-09-21T10:05:04.635680",
     "status": "completed"
    },
    "tags": []
   },
   "source": [
    "### Running Models with the Training data\n",
    "Details about the network layers:\n",
    "- A first affine layer has 784 inputs and does 100 affine transforms. These are followed by a Relu\n",
    "- A second affine layer has 100 inputs from the 100 activations of the past layer, and does 100 affine transforms. These are followed by a Relu\n",
    "- A third affine layer has 100 activations and does 2 affine transformations to create an embedding for visualization. There is no non-linearity here.\n",
    "- A final \"logistic regression\" which has an affine transform from 2 inputs to 1 output, which is squeezed through a sigmoid.\n",
    "\n",
    "Help taken from Anshuman's Notebook."
   ]
  },
  {
   "cell_type": "code",
   "execution_count": 18,
   "metadata": {
    "execution": {
     "iopub.execute_input": "2020-09-21T10:05:04.734156Z",
     "iopub.status.busy": "2020-09-21T10:05:04.733501Z",
     "iopub.status.idle": "2020-09-21T10:05:04.751977Z",
     "shell.execute_reply": "2020-09-21T10:05:04.751460Z"
    },
    "papermill": {
     "duration": 0.054662,
     "end_time": "2020-09-21T10:05:04.752109",
     "exception": false,
     "start_time": "2020-09-21T10:05:04.697447",
     "status": "completed"
    },
    "tags": []
   },
   "outputs": [],
   "source": [
    "# layers for the Neural Network\n",
    "layers = [Affine(\"first\", 784, 100), Relu(\"first\"), Affine(\"second\", 100, 100), Relu(\"second\"), Affine(\"third\", 100, 2), Affine(\"final\", 2, 1), Sigmoid(\"final\")]\n",
    "model_nn = Model(layers)\n",
    "\n",
    "# layers for the Logistic Regression\n",
    "layers_lr = [Affine(\"logits\", 784, 1), Sigmoid(\"sigmoid\")]\n",
    "model_lr = Model(layers_lr)"
   ]
  },
  {
   "cell_type": "code",
   "execution_count": 19,
   "metadata": {
    "execution": {
     "iopub.execute_input": "2020-09-21T10:05:04.816440Z",
     "iopub.status.busy": "2020-09-21T10:05:04.815840Z",
     "iopub.status.idle": "2020-09-21T10:05:04.829241Z",
     "shell.execute_reply": "2020-09-21T10:05:04.828740Z"
    },
    "papermill": {
     "duration": 0.047457,
     "end_time": "2020-09-21T10:05:04.829375",
     "exception": false,
     "start_time": "2020-09-21T10:05:04.781918",
     "status": "completed"
    },
    "tags": []
   },
   "outputs": [],
   "source": [
    "# suffix _nn stands for Neural Network.\n",
    "learner_nn = Learner(loss, model_nn, opt, config.num_epochs)\n",
    "acc_nn = ClfCallback(learner_nn, config.bs, training_xdata , testing_xdata, training_ydata, testing_ydata)\n",
    "learner_nn.set_callbacks([acc_nn])"
   ]
  },
  {
   "cell_type": "code",
   "execution_count": 20,
   "metadata": {
    "execution": {
     "iopub.execute_input": "2020-09-21T10:05:04.893490Z",
     "iopub.status.busy": "2020-09-21T10:05:04.892880Z",
     "iopub.status.idle": "2020-09-21T10:06:34.032475Z",
     "shell.execute_reply": "2020-09-21T10:06:34.033306Z"
    },
    "papermill": {
     "duration": 89.174356,
     "end_time": "2020-09-21T10:06:34.033469",
     "exception": false,
     "start_time": "2020-09-21T10:05:04.859113",
     "status": "completed"
    },
    "tags": []
   },
   "outputs": [
    {
     "name": "stdout",
     "output_type": "stream",
     "text": [
      "====== Neural Network ======\n"
     ]
    },
    {
     "name": "stdout",
     "output_type": "stream",
     "text": [
      "Epoch 0, Loss 0.2175\n",
      "Training Accuracy: 0.7783, Testing Accuracy: 0.7767\n",
      "\n"
     ]
    },
    {
     "name": "stdout",
     "output_type": "stream",
     "text": [
      "Epoch 10, Loss 0.0544\n",
      "Training Accuracy: 0.9464, Testing Accuracy: 0.9531\n",
      "\n"
     ]
    },
    {
     "name": "stdout",
     "output_type": "stream",
     "text": [
      "Epoch 20, Loss 0.0383\n",
      "Training Accuracy: 0.9588, Testing Accuracy: 0.9637\n",
      "\n"
     ]
    },
    {
     "name": "stdout",
     "output_type": "stream",
     "text": [
      "Epoch 30, Loss 0.0322\n",
      "Training Accuracy: 0.9644, Testing Accuracy: 0.9677\n",
      "\n"
     ]
    },
    {
     "name": "stdout",
     "output_type": "stream",
     "text": [
      "Epoch 40, Loss 0.0287\n",
      "Training Accuracy: 0.9680, Testing Accuracy: 0.9688\n",
      "\n"
     ]
    },
    {
     "name": "stdout",
     "output_type": "stream",
     "text": [
      "Epoch 50, Loss 0.0264\n",
      "Training Accuracy: 0.9704, Testing Accuracy: 0.9708\n",
      "\n"
     ]
    },
    {
     "name": "stdout",
     "output_type": "stream",
     "text": [
      "Epoch 60, Loss 0.0247\n",
      "Training Accuracy: 0.9720, Testing Accuracy: 0.9713\n",
      "\n"
     ]
    },
    {
     "name": "stdout",
     "output_type": "stream",
     "text": [
      "Epoch 70, Loss 0.0233\n",
      "Training Accuracy: 0.9736, Testing Accuracy: 0.9738\n",
      "\n"
     ]
    },
    {
     "name": "stdout",
     "output_type": "stream",
     "text": [
      "Epoch 80, Loss 0.0222\n",
      "Training Accuracy: 0.9747, Testing Accuracy: 0.9753\n",
      "\n"
     ]
    },
    {
     "name": "stdout",
     "output_type": "stream",
     "text": [
      "Epoch 90, Loss 0.0212\n",
      "Training Accuracy: 0.9760, Testing Accuracy: 0.9763\n",
      "\n"
     ]
    },
    {
     "name": "stdout",
     "output_type": "stream",
     "text": [
      "Epoch 100, Loss 0.0204\n",
      "Training Accuracy: 0.9774, Testing Accuracy: 0.9758\n",
      "\n"
     ]
    },
    {
     "name": "stdout",
     "output_type": "stream",
     "text": [
      "Epoch 110, Loss 0.0197\n",
      "Training Accuracy: 0.9785, Testing Accuracy: 0.9763\n",
      "\n"
     ]
    },
    {
     "name": "stdout",
     "output_type": "stream",
     "text": [
      "Epoch 120, Loss 0.019\n",
      "Training Accuracy: 0.9797, Testing Accuracy: 0.9768\n",
      "\n"
     ]
    },
    {
     "name": "stdout",
     "output_type": "stream",
     "text": [
      "Epoch 130, Loss 0.0184\n",
      "Training Accuracy: 0.9803, Testing Accuracy: 0.9773\n",
      "\n"
     ]
    },
    {
     "name": "stdout",
     "output_type": "stream",
     "text": [
      "Epoch 140, Loss 0.0178\n",
      "Training Accuracy: 0.9812, Testing Accuracy: 0.9783\n",
      "\n"
     ]
    },
    {
     "name": "stdout",
     "output_type": "stream",
     "text": [
      "Epoch 150, Loss 0.0173\n",
      "Training Accuracy: 0.9816, Testing Accuracy: 0.9783\n",
      "\n"
     ]
    },
    {
     "name": "stdout",
     "output_type": "stream",
     "text": [
      "Epoch 160, Loss 0.0168\n",
      "Training Accuracy: 0.9824, Testing Accuracy: 0.9798\n",
      "\n"
     ]
    },
    {
     "name": "stdout",
     "output_type": "stream",
     "text": [
      "Epoch 170, Loss 0.0163\n",
      "Training Accuracy: 0.9828, Testing Accuracy: 0.9798\n",
      "\n"
     ]
    },
    {
     "name": "stdout",
     "output_type": "stream",
     "text": [
      "Epoch 180, Loss 0.0159\n",
      "Training Accuracy: 0.9836, Testing Accuracy: 0.9803\n",
      "\n"
     ]
    },
    {
     "name": "stdout",
     "output_type": "stream",
     "text": [
      "Epoch 190, Loss 0.0155\n",
      "Training Accuracy: 0.9843, Testing Accuracy: 0.9808\n",
      "\n"
     ]
    },
    {
     "name": "stdout",
     "output_type": "stream",
     "text": [
      "Epoch 200, Loss 0.015\n",
      "Training Accuracy: 0.9848, Testing Accuracy: 0.9808\n",
      "\n"
     ]
    },
    {
     "name": "stdout",
     "output_type": "stream",
     "text": [
      "Epoch 210, Loss 0.0147\n",
      "Training Accuracy: 0.9851, Testing Accuracy: 0.9814\n",
      "\n"
     ]
    },
    {
     "name": "stdout",
     "output_type": "stream",
     "text": [
      "Epoch 220, Loss 0.0143\n",
      "Training Accuracy: 0.9856, Testing Accuracy: 0.9814\n",
      "\n"
     ]
    },
    {
     "name": "stdout",
     "output_type": "stream",
     "text": [
      "Epoch 230, Loss 0.0139\n",
      "Training Accuracy: 0.9856, Testing Accuracy: 0.9814\n",
      "\n"
     ]
    },
    {
     "name": "stdout",
     "output_type": "stream",
     "text": [
      "Epoch 240, Loss 0.0135\n",
      "Training Accuracy: 0.9861, Testing Accuracy: 0.9819\n",
      "\n"
     ]
    },
    {
     "name": "stdout",
     "output_type": "stream",
     "text": [
      "Epoch 250, Loss 0.0132\n",
      "Training Accuracy: 0.9861, Testing Accuracy: 0.9819\n",
      "\n"
     ]
    },
    {
     "data": {
      "text/plain": [
       "0.0072958318658350695"
      ]
     },
     "execution_count": 20,
     "metadata": {},
     "output_type": "execute_result"
    }
   ],
   "source": [
    "print(\"====== Neural Network ======\")\n",
    "learner_nn.train_loop(dl)"
   ]
  },
  {
   "cell_type": "markdown",
   "metadata": {
    "papermill": {
     "duration": 0.03836,
     "end_time": "2020-09-21T10:06:34.110692",
     "exception": false,
     "start_time": "2020-09-21T10:06:34.072332",
     "status": "completed"
    },
    "tags": []
   },
   "source": [
    "### Logistic Regression based Implementation."
   ]
  },
  {
   "cell_type": "code",
   "execution_count": 21,
   "metadata": {
    "execution": {
     "iopub.execute_input": "2020-09-21T10:06:34.196047Z",
     "iopub.status.busy": "2020-09-21T10:06:34.193723Z",
     "iopub.status.idle": "2020-09-21T10:06:34.208142Z",
     "shell.execute_reply": "2020-09-21T10:06:34.207598Z"
    },
    "papermill": {
     "duration": 0.058547,
     "end_time": "2020-09-21T10:06:34.208285",
     "exception": false,
     "start_time": "2020-09-21T10:06:34.149738",
     "status": "completed"
    },
    "tags": []
   },
   "outputs": [],
   "source": [
    "learner_lr = Learner(loss, model_lr, opt, config.num_epochs)\n",
    "acc_lr = ClfCallback(learner_lr, config.bs, training_xdata , testing_xdata, training_ydata, testing_ydata)\n",
    "learner_lr.set_callbacks([acc_lr])"
   ]
  },
  {
   "cell_type": "code",
   "execution_count": 22,
   "metadata": {
    "execution": {
     "iopub.execute_input": "2020-09-21T10:06:34.291121Z",
     "iopub.status.busy": "2020-09-21T10:06:34.290505Z",
     "iopub.status.idle": "2020-09-21T10:06:52.147170Z",
     "shell.execute_reply": "2020-09-21T10:06:52.147711Z"
    },
    "papermill": {
     "duration": 17.90061,
     "end_time": "2020-09-21T10:06:52.147880",
     "exception": false,
     "start_time": "2020-09-21T10:06:34.247270",
     "status": "completed"
    },
    "tags": []
   },
   "outputs": [
    {
     "name": "stdout",
     "output_type": "stream",
     "text": [
      "====== Logistic Regression ======\n",
      "Epoch 0, Loss 0.2339\n",
      "Training Accuracy: 0.7161, Testing Accuracy: 0.7349\n",
      "\n"
     ]
    },
    {
     "name": "stdout",
     "output_type": "stream",
     "text": [
      "Epoch 10, Loss 0.101\n",
      "Training Accuracy: 0.9128, Testing Accuracy: 0.9239\n",
      "\n"
     ]
    },
    {
     "name": "stdout",
     "output_type": "stream",
     "text": [
      "Epoch 20, Loss 0.0781\n",
      "Training Accuracy: 0.9276, Testing Accuracy: 0.9375\n",
      "\n"
     ]
    },
    {
     "name": "stdout",
     "output_type": "stream",
     "text": [
      "Epoch 30, Loss 0.0676\n",
      "Training Accuracy: 0.9375, Testing Accuracy: 0.9486\n",
      "\n"
     ]
    },
    {
     "name": "stdout",
     "output_type": "stream",
     "text": [
      "Epoch 40, Loss 0.0612\n",
      "Training Accuracy: 0.9409, Testing Accuracy: 0.9531\n",
      "\n"
     ]
    },
    {
     "name": "stdout",
     "output_type": "stream",
     "text": [
      "Epoch 50, Loss 0.0568\n",
      "Training Accuracy: 0.9442, Testing Accuracy: 0.9567\n",
      "\n"
     ]
    },
    {
     "name": "stdout",
     "output_type": "stream",
     "text": [
      "Epoch 60, Loss 0.0536\n",
      "Training Accuracy: 0.9473, Testing Accuracy: 0.9567\n",
      "\n"
     ]
    },
    {
     "name": "stdout",
     "output_type": "stream",
     "text": [
      "Epoch 70, Loss 0.0511\n",
      "Training Accuracy: 0.9496, Testing Accuracy: 0.9602\n",
      "\n"
     ]
    },
    {
     "name": "stdout",
     "output_type": "stream",
     "text": [
      "Epoch 80, Loss 0.0491\n",
      "Training Accuracy: 0.9507, Testing Accuracy: 0.9632\n",
      "\n"
     ]
    },
    {
     "name": "stdout",
     "output_type": "stream",
     "text": [
      "Epoch 90, Loss 0.0474\n",
      "Training Accuracy: 0.9522, Testing Accuracy: 0.9657\n",
      "\n"
     ]
    },
    {
     "name": "stdout",
     "output_type": "stream",
     "text": [
      "Epoch 100, Loss 0.046\n",
      "Training Accuracy: 0.9532, Testing Accuracy: 0.9657\n",
      "\n"
     ]
    },
    {
     "name": "stdout",
     "output_type": "stream",
     "text": [
      "Epoch 110, Loss 0.0448\n",
      "Training Accuracy: 0.9538, Testing Accuracy: 0.9647\n",
      "\n"
     ]
    },
    {
     "name": "stdout",
     "output_type": "stream",
     "text": [
      "Epoch 120, Loss 0.0438\n",
      "Training Accuracy: 0.9548, Testing Accuracy: 0.9667\n",
      "\n"
     ]
    },
    {
     "name": "stdout",
     "output_type": "stream",
     "text": [
      "Epoch 130, Loss 0.0429\n",
      "Training Accuracy: 0.9555, Testing Accuracy: 0.9672\n",
      "\n"
     ]
    },
    {
     "name": "stdout",
     "output_type": "stream",
     "text": [
      "Epoch 140, Loss 0.042\n",
      "Training Accuracy: 0.9559, Testing Accuracy: 0.9672\n",
      "\n"
     ]
    },
    {
     "name": "stdout",
     "output_type": "stream",
     "text": [
      "Epoch 150, Loss 0.0413\n",
      "Training Accuracy: 0.9566, Testing Accuracy: 0.9672\n",
      "\n"
     ]
    },
    {
     "name": "stdout",
     "output_type": "stream",
     "text": [
      "Epoch 160, Loss 0.0406\n",
      "Training Accuracy: 0.9572, Testing Accuracy: 0.9677\n",
      "\n"
     ]
    },
    {
     "name": "stdout",
     "output_type": "stream",
     "text": [
      "Epoch 170, Loss 0.04\n",
      "Training Accuracy: 0.9578, Testing Accuracy: 0.9677\n",
      "\n"
     ]
    },
    {
     "name": "stdout",
     "output_type": "stream",
     "text": [
      "Epoch 180, Loss 0.0395\n",
      "Training Accuracy: 0.9582, Testing Accuracy: 0.9682\n",
      "\n"
     ]
    },
    {
     "name": "stdout",
     "output_type": "stream",
     "text": [
      "Epoch 190, Loss 0.039\n",
      "Training Accuracy: 0.9585, Testing Accuracy: 0.9682\n",
      "\n"
     ]
    },
    {
     "name": "stdout",
     "output_type": "stream",
     "text": [
      "Epoch 200, Loss 0.0385\n",
      "Training Accuracy: 0.9588, Testing Accuracy: 0.9682\n",
      "\n"
     ]
    },
    {
     "name": "stdout",
     "output_type": "stream",
     "text": [
      "Epoch 210, Loss 0.0381\n",
      "Training Accuracy: 0.9594, Testing Accuracy: 0.9682\n",
      "\n"
     ]
    },
    {
     "name": "stdout",
     "output_type": "stream",
     "text": [
      "Epoch 220, Loss 0.0376\n",
      "Training Accuracy: 0.9598, Testing Accuracy: 0.9682\n",
      "\n"
     ]
    },
    {
     "name": "stdout",
     "output_type": "stream",
     "text": [
      "Epoch 230, Loss 0.0373\n",
      "Training Accuracy: 0.9600, Testing Accuracy: 0.9688\n",
      "\n"
     ]
    },
    {
     "name": "stdout",
     "output_type": "stream",
     "text": [
      "Epoch 240, Loss 0.0369\n",
      "Training Accuracy: 0.9603, Testing Accuracy: 0.9682\n",
      "\n"
     ]
    },
    {
     "name": "stdout",
     "output_type": "stream",
     "text": [
      "Epoch 250, Loss 0.0366\n",
      "Training Accuracy: 0.9604, Testing Accuracy: 0.9677\n",
      "\n"
     ]
    },
    {
     "data": {
      "text/plain": [
       "0.051157126168955014"
      ]
     },
     "execution_count": 22,
     "metadata": {},
     "output_type": "execute_result"
    }
   ],
   "source": [
    "print(\"====== Logistic Regression ======\")\n",
    "learner_lr.train_loop(dl)"
   ]
  },
  {
   "cell_type": "markdown",
   "metadata": {
    "papermill": {
     "duration": 0.046058,
     "end_time": "2020-09-21T10:06:52.241330",
     "exception": false,
     "start_time": "2020-09-21T10:06:52.195272",
     "status": "completed"
    },
    "tags": []
   },
   "source": [
    "### Comparing results of NN and LR"
   ]
  },
  {
   "cell_type": "code",
   "execution_count": 23,
   "metadata": {
    "execution": {
     "iopub.execute_input": "2020-09-21T10:06:52.342086Z",
     "iopub.status.busy": "2020-09-21T10:06:52.340748Z",
     "iopub.status.idle": "2020-09-21T10:06:52.600695Z",
     "shell.execute_reply": "2020-09-21T10:06:52.599772Z"
    },
    "papermill": {
     "duration": 0.313557,
     "end_time": "2020-09-21T10:06:52.600841",
     "exception": false,
     "start_time": "2020-09-21T10:06:52.287284",
     "status": "completed"
    },
    "tags": []
   },
   "outputs": [
    {
     "data": {
      "text/plain": [
       "<matplotlib.legend.Legend at 0x7f1f13a622b0>"
      ]
     },
     "execution_count": 23,
     "metadata": {},
     "output_type": "execute_result"
    },
    {
     "data": {
      "image/png": "[encoded data removed]",
      "text/plain": [
       "<Figure size 1080x720 with 1 Axes>"
      ]
     },
     "metadata": {
      "needs_background": "light"
     },
     "output_type": "display_data"
    }
   ],
   "source": [
    "plt.figure(figsize=(15,10))\n",
    "\n",
    "# Neural Network plots\n",
    "plt.plot(acc_nn.accuracies, 'r-', label = \"Training Accuracies - NN\")\n",
    "plt.plot(acc_nn.test_accuracies, 'g-', label = \"Testing Accuracies - NN\")\n",
    "\n",
    "# Logistic Regression plots\n",
    "plt.plot(acc_lr.accuracies, 'k-', label = \"Training Accuracies - LR\")\n",
    "plt.plot(acc_lr.test_accuracies, 'b-', label = \"Testing Accuracies - LR\")\n",
    "\n",
    "plt.ylim(0.8, 1)\n",
    "\n",
    "plt.legend()\n",
    "\n"
   ]
  },
  {
   "cell_type": "markdown",
   "metadata": {
    "papermill": {
     "duration": 0.048139,
     "end_time": "2020-09-21T10:06:52.697329",
     "exception": false,
     "start_time": "2020-09-21T10:06:52.649190",
     "status": "completed"
    },
    "tags": []
   },
   "source": [
    "### From the plot, we can observe the following:\n",
    "- Neural Network achieves higher accuracy than the Logistic Regression model.\n",
    "- This apparently, is because of overfitting, i.e. NN captures more noise than data.\n",
    "- Testing accuracy of NN drops below the Training accuracy at higher epochs. This explains the over-fitting on training data.\n",
    "- Logistic Regression gives a reliable accuracy, without the above mentioned problem.\n"
   ]
  },
  {
   "cell_type": "markdown",
   "metadata": {
    "papermill": {
     "duration": 0.047846,
     "end_time": "2020-09-21T10:06:52.794492",
     "exception": false,
     "start_time": "2020-09-21T10:06:52.746646",
     "status": "completed"
    },
    "tags": []
   },
   "source": [
    "### Moving till the last but one layer (excluding it).\n",
    "#### Plotting the outputs of this layer of the NN."
   ]
  },
  {
   "cell_type": "code",
   "execution_count": 24,
   "metadata": {
    "execution": {
     "iopub.execute_input": "2020-09-21T10:06:52.926970Z",
     "iopub.status.busy": "2020-09-21T10:06:52.920919Z",
     "iopub.status.idle": "2020-09-21T10:06:52.935933Z",
     "shell.execute_reply": "2020-09-21T10:06:52.935405Z"
    },
    "papermill": {
     "duration": 0.079018,
     "end_time": "2020-09-21T10:06:52.936070",
     "exception": false,
     "start_time": "2020-09-21T10:06:52.857052",
     "status": "completed"
    },
    "tags": []
   },
   "outputs": [],
   "source": [
    "model_new = Model(layers[:-2])"
   ]
  },
  {
   "cell_type": "code",
   "execution_count": 25,
   "metadata": {
    "execution": {
     "iopub.execute_input": "2020-09-21T10:06:53.038163Z",
     "iopub.status.busy": "2020-09-21T10:06:53.037510Z",
     "iopub.status.idle": "2020-09-21T10:06:53.059054Z",
     "shell.execute_reply": "2020-09-21T10:06:53.060050Z"
    },
    "papermill": {
     "duration": 0.074973,
     "end_time": "2020-09-21T10:06:53.060229",
     "exception": false,
     "start_time": "2020-09-21T10:06:52.985256",
     "status": "completed"
    },
    "tags": []
   },
   "outputs": [],
   "source": [
    "plot_testing = model_new(testing_xdata)"
   ]
  },
  {
   "cell_type": "code",
   "execution_count": 26,
   "metadata": {
    "execution": {
     "iopub.execute_input": "2020-09-21T10:06:53.171051Z",
     "iopub.status.busy": "2020-09-21T10:06:53.170424Z",
     "iopub.status.idle": "2020-09-21T10:06:53.403143Z",
     "shell.execute_reply": "2020-09-21T10:06:53.403636Z"
    },
    "papermill": {
     "duration": 0.294779,
     "end_time": "2020-09-21T10:06:53.403798",
     "exception": false,
     "start_time": "2020-09-21T10:06:53.109019",
     "status": "completed"
    },
    "tags": []
   },
   "outputs": [
    {
     "data": {
      "text/plain": [
       "Text(0.5, 1.0, 'Outputs')"
      ]
     },
     "execution_count": 26,
     "metadata": {},
     "output_type": "execute_result"
    },
    {
     "data": {
      "image/png": "[encoded data removed]",
      "text/plain": [
       "<Figure size 576x504 with 1 Axes>"
      ]
     },
     "metadata": {
      "needs_background": "light"
     },
     "output_type": "display_data"
    }
   ],
   "source": [
    "plt.figure(figsize=(8,7))\n",
    "plt.scatter(plot_testing[:,0], plot_testing[:,1], alpha = 0.1, c = y_test.ravel());\n",
    "plt.title('Outputs')"
   ]
  },
  {
   "cell_type": "markdown",
   "metadata": {
    "papermill": {
     "duration": 0.051597,
     "end_time": "2020-09-21T10:06:53.508066",
     "exception": false,
     "start_time": "2020-09-21T10:06:53.456469",
     "status": "completed"
    },
    "tags": []
   },
   "source": [
    "### Plotting probability contours"
   ]
  },
  {
   "cell_type": "code",
   "execution_count": 27,
   "metadata": {
    "execution": {
     "iopub.execute_input": "2020-09-21T10:06:53.616283Z",
     "iopub.status.busy": "2020-09-21T10:06:53.615667Z",
     "iopub.status.idle": "2020-09-21T10:06:53.628640Z",
     "shell.execute_reply": "2020-09-21T10:06:53.629164Z"
    },
    "papermill": {
     "duration": 0.069787,
     "end_time": "2020-09-21T10:06:53.629388",
     "exception": false,
     "start_time": "2020-09-21T10:06:53.559601",
     "status": "completed"
    },
    "tags": []
   },
   "outputs": [],
   "source": [
    "model_prob = Model(layers[-2:]) "
   ]
  },
  {
   "cell_type": "code",
   "execution_count": 28,
   "metadata": {
    "execution": {
     "iopub.execute_input": "2020-09-21T10:06:53.738271Z",
     "iopub.status.busy": "2020-09-21T10:06:53.737634Z",
     "iopub.status.idle": "2020-09-21T10:06:53.751775Z",
     "shell.execute_reply": "2020-09-21T10:06:53.752256Z"
    },
    "papermill": {
     "duration": 0.071562,
     "end_time": "2020-09-21T10:06:53.752424",
     "exception": false,
     "start_time": "2020-09-21T10:06:53.680862",
     "status": "completed"
    },
    "tags": []
   },
   "outputs": [],
   "source": [
    "# Adjust the x and y ranges according to the above generated plot.\n",
    "x_range = np.linspace(-4, 1, 100) \n",
    "y_range = np.linspace(-6, 6, 100) \n",
    "x_grid, y_grid = np.meshgrid(x_range, y_range) # x_grid and y_grig are of size 100 X 100\n",
    "\n",
    "# converting x_grid and y_grid to continuous arrays\n",
    "x_grid_flat = np.ravel(x_grid)\n",
    "y_grid_flat = np.ravel(y_grid)\n",
    "\n",
    "# The last layer of the current model takes two columns as input. Hence transpose of np.vstack() is required.\n",
    "X = np.vstack((x_grid_flat, y_grid_flat)).T\n",
    "\n",
    "# x_grid and y_grid are of size 100 x 100\n",
    "probability_contour = model_prob(X).reshape(100,100) "
   ]
  },
  {
   "cell_type": "code",
   "execution_count": 29,
   "metadata": {
    "execution": {
     "iopub.execute_input": "2020-09-21T10:06:53.867185Z",
     "iopub.status.busy": "2020-09-21T10:06:53.866565Z",
     "iopub.status.idle": "2020-09-21T10:06:54.127813Z",
     "shell.execute_reply": "2020-09-21T10:06:54.127294Z"
    },
    "papermill": {
     "duration": 0.323555,
     "end_time": "2020-09-21T10:06:54.127957",
     "exception": false,
     "start_time": "2020-09-21T10:06:53.804402",
     "status": "completed"
    },
    "tags": []
   },
   "outputs": [
    {
     "data": {
      "image/png": "[encoded data removed]",
      "text/plain": [
       "<Figure size 720x648 with 1 Axes>"
      ]
     },
     "metadata": {
      "needs_background": "light"
     },
     "output_type": "display_data"
    }
   ],
   "source": [
    "plt.figure(figsize=(10,9))\n",
    "plt.scatter(plot_testing[:,0], plot_testing[:,1], alpha = 0.1, c = y_test.ravel())\n",
    "contours = plt.contour(x_grid,y_grid,probability_contour)\n",
    "plt.title('Probability Contours')\n",
    "plt.clabel(contours, inline = True );"
   ]
  }
 ],
 "metadata": {
  "kernelspec": {
   "display_name": "Python 3",
   "language": "python",
   "name": "python3"
  },
  "language_info": {
   "codemirror_mode": {
    "name": "ipython",
    "version": 3
   },
   "file_extension": ".py",
   "mimetype": "text/x-python",
   "name": "python",
   "nbconvert_exporter": "python",
   "pygments_lexer": "ipython3",
   "version": "3.6.12"
  },
  "papermill": {
   "duration": 117.00764,
   "end_time": "2020-09-21T10:06:54.591399",
   "environment_variables": {},
   "exception": null,
   "input_path": "2020-08-11-NeuralNetwork.ipynb",
   "output_path": "2020-08-11-NeuralNetwork.ipynb",
   "parameters": {},
   "start_time": "2020-09-21T10:04:57.583759",
   "version": "2.1.2"
  }
 },
 "nbformat": 4,
 "nbformat_minor": 4
}