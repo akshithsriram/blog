{
 "cells": [
  {
   "cell_type": "markdown",
   "metadata": {
    "papermill": {
     "duration": 0.026865,
     "end_time": "2020-11-14T10:04:15.012458",
     "exception": false,
     "start_time": "2020-11-14T10:04:14.985593",
     "status": "completed"
    },
    "tags": []
   },
   "source": [
    "# \"A Basic Neural Network: Differentiate Hand-Written Digits\"\n",
    "\n",
    "- badges: true\n",
    "- author: Akshith Sriram"
   ]
  },
  {
   "cell_type": "markdown",
   "metadata": {
    "papermill": {
     "duration": 0.025807,
     "end_time": "2020-11-14T10:04:15.062538",
     "exception": false,
     "start_time": "2020-11-14T10:04:15.036731",
     "status": "completed"
    },
    "tags": []
   },
   "source": [
    "### Key Objectives:\n",
    "- Building a neural network that differentiates two hand-written digits 3 and 8.\n",
    "- Comparing the results of this Neural Network (NN) to that of a Logistic Regression (LR) model.\n",
    "\n",
    "### Requirements:\n",
    "- 'Kudzu' : A neural network library that was designed during our course by [Univ.AI](www.univ.ai). \n",
    "- MNIST Database\n",
    "\n",
    "If MNIST is not installed, use the command `!pip install mnist` given below.\n",
    "It can be run both from the command line and Jupyter Notebook."
   ]
  },
  {
   "cell_type": "code",
   "execution_count": 1,
   "metadata": {
    "execution": {
     "iopub.execute_input": "2020-11-14T10:04:15.117366Z",
     "iopub.status.busy": "2020-11-14T10:04:15.116751Z",
     "iopub.status.idle": "2020-11-14T10:04:16.482737Z",
     "shell.execute_reply": "2020-11-14T10:04:16.481525Z"
    },
    "papermill": {
     "duration": 1.394422,
     "end_time": "2020-11-14T10:04:16.482887",
     "exception": false,
     "start_time": "2020-11-14T10:04:15.088465",
     "status": "completed"
    },
    "tags": []
   },
   "outputs": [
    {
     "name": "stdout",
     "output_type": "stream",
     "text": [
      "Collecting mnist\r\n"
     ]
    },
    {
     "name": "stdout",
     "output_type": "stream",
     "text": [
      "  Downloading mnist-0.2.2-py2.py3-none-any.whl (3.5 kB)\r\n",
      "Requirement already satisfied: numpy in /opt/hostedtoolcache/Python/3.6.12/x64/lib/python3.6/site-packages (from mnist) (1.19.4)\r\n"
     ]
    },
    {
     "name": "stdout",
     "output_type": "stream",
     "text": [
      "Installing collected packages: mnist\r\n",
      "Successfully installed mnist-0.2.2\r\n"
     ]
    }
   ],
   "source": [
    "!pip install mnist "
   ]
  },
  {
   "cell_type": "markdown",
   "metadata": {
    "papermill": {
     "duration": 0.025332,
     "end_time": "2020-11-14T10:04:16.532990",
     "exception": false,
     "start_time": "2020-11-14T10:04:16.507658",
     "status": "completed"
    },
    "tags": []
   },
   "source": [
    "#### Importing necessary libraries"
   ]
  },
  {
   "cell_type": "code",
   "execution_count": 2,
   "metadata": {
    "execution": {
     "iopub.execute_input": "2020-11-14T10:04:16.590443Z",
     "iopub.status.busy": "2020-11-14T10:04:16.589718Z",
     "iopub.status.idle": "2020-11-14T10:04:17.103216Z",
     "shell.execute_reply": "2020-11-14T10:04:17.102654Z"
    },
    "papermill": {
     "duration": 0.544627,
     "end_time": "2020-11-14T10:04:17.103350",
     "exception": false,
     "start_time": "2020-11-14T10:04:16.558723",
     "status": "completed"
    },
    "tags": []
   },
   "outputs": [],
   "source": [
    "%load_ext autoreload\n",
    "%autoreload 2\n",
    "\n",
    "%matplotlib inline\n",
    "import matplotlib.pyplot as plt\n",
    "\n",
    "import numpy as np\n",
    "import pandas as pd"
   ]
  },
  {
   "cell_type": "markdown",
   "metadata": {
    "papermill": {
     "duration": 0.027525,
     "end_time": "2020-11-14T10:04:17.159276",
     "exception": false,
     "start_time": "2020-11-14T10:04:17.131751",
     "status": "completed"
    },
    "tags": []
   },
   "source": [
    "### Preparing the Data"
   ]
  },
  {
   "cell_type": "code",
   "execution_count": 3,
   "metadata": {
    "execution": {
     "iopub.execute_input": "2020-11-14T10:04:17.224928Z",
     "iopub.status.busy": "2020-11-14T10:04:17.224282Z",
     "iopub.status.idle": "2020-11-14T10:04:17.235776Z",
     "shell.execute_reply": "2020-11-14T10:04:17.236246Z"
    },
    "papermill": {
     "duration": 0.0475,
     "end_time": "2020-11-14T10:04:17.236381",
     "exception": false,
     "start_time": "2020-11-14T10:04:17.188881",
     "status": "completed"
    },
    "tags": []
   },
   "outputs": [],
   "source": [
    "import mnist"
   ]
  },
  {
   "cell_type": "code",
   "execution_count": 4,
   "metadata": {
    "execution": {
     "iopub.execute_input": "2020-11-14T10:04:17.287839Z",
     "iopub.status.busy": "2020-11-14T10:04:17.287240Z",
     "iopub.status.idle": "2020-11-14T10:04:17.918741Z",
     "shell.execute_reply": "2020-11-14T10:04:17.918210Z"
    },
    "papermill": {
     "duration": 0.65834,
     "end_time": "2020-11-14T10:04:17.918901",
     "exception": false,
     "start_time": "2020-11-14T10:04:17.260561",
     "status": "completed"
    },
    "tags": []
   },
   "outputs": [],
   "source": [
    "train_images = mnist.train_images()\n",
    "train_labels = mnist.train_labels()"
   ]
  },
  {
   "cell_type": "code",
   "execution_count": 5,
   "metadata": {
    "execution": {
     "iopub.execute_input": "2020-11-14T10:04:17.974500Z",
     "iopub.status.busy": "2020-11-14T10:04:17.973791Z",
     "iopub.status.idle": "2020-11-14T10:04:17.987368Z",
     "shell.execute_reply": "2020-11-14T10:04:17.987850Z"
    },
    "papermill": {
     "duration": 0.042305,
     "end_time": "2020-11-14T10:04:17.987973",
     "exception": false,
     "start_time": "2020-11-14T10:04:17.945668",
     "status": "completed"
    },
    "tags": []
   },
   "outputs": [
    {
     "data": {
      "text/plain": [
       "((60000, 28, 28), (60000,))"
      ]
     },
     "execution_count": 5,
     "metadata": {},
     "output_type": "execute_result"
    }
   ],
   "source": [
    "train_images.shape, train_labels.shape"
   ]
  },
  {
   "cell_type": "code",
   "execution_count": 6,
   "metadata": {
    "execution": {
     "iopub.execute_input": "2020-11-14T10:04:18.047427Z",
     "iopub.status.busy": "2020-11-14T10:04:18.046843Z",
     "iopub.status.idle": "2020-11-14T10:04:18.298394Z",
     "shell.execute_reply": "2020-11-14T10:04:18.298947Z"
    },
    "papermill": {
     "duration": 0.286449,
     "end_time": "2020-11-14T10:04:18.299122",
     "exception": false,
     "start_time": "2020-11-14T10:04:18.012673",
     "status": "completed"
    },
    "tags": []
   },
   "outputs": [],
   "source": [
    "test_images = mnist.test_images()\n",
    "test_labels = mnist.test_labels()"
   ]
  },
  {
   "cell_type": "code",
   "execution_count": 7,
   "metadata": {
    "execution": {
     "iopub.execute_input": "2020-11-14T10:04:18.355676Z",
     "iopub.status.busy": "2020-11-14T10:04:18.355041Z",
     "iopub.status.idle": "2020-11-14T10:04:18.367921Z",
     "shell.execute_reply": "2020-11-14T10:04:18.367447Z"
    },
    "papermill": {
     "duration": 0.041512,
     "end_time": "2020-11-14T10:04:18.368036",
     "exception": false,
     "start_time": "2020-11-14T10:04:18.326524",
     "status": "completed"
    },
    "tags": []
   },
   "outputs": [
    {
     "data": {
      "text/plain": [
       "((10000, 28, 28), (10000,))"
      ]
     },
     "execution_count": 7,
     "metadata": {},
     "output_type": "execute_result"
    }
   ],
   "source": [
    "test_images.shape, test_labels.shape"
   ]
  },
  {
   "cell_type": "code",
   "execution_count": 8,
   "metadata": {
    "execution": {
     "iopub.execute_input": "2020-11-14T10:04:18.425979Z",
     "iopub.status.busy": "2020-11-14T10:04:18.425375Z",
     "iopub.status.idle": "2020-11-14T10:04:18.592369Z",
     "shell.execute_reply": "2020-11-14T10:04:18.591923Z"
    },
    "papermill": {
     "duration": 0.199277,
     "end_time": "2020-11-14T10:04:18.592498",
     "exception": false,
     "start_time": "2020-11-14T10:04:18.393221",
     "status": "completed"
    },
    "tags": []
   },
   "outputs": [
    {
     "name": "stdout",
     "output_type": "stream",
     "text": [
      "2\n"
     ]
    },
    {
     "data": {
      "text/plain": [
       "<matplotlib.image.AxesImage at 0x7f7642eec630>"
      ]
     },
     "execution_count": 8,
     "metadata": {},
     "output_type": "execute_result"
    },
    {
     "data": {
      "image/png": "[encoded data removed]",
      "text/plain": [
       "<Figure size 432x288 with 1 Axes>"
      ]
     },
     "metadata": {
      "needs_background": "light"
     },
     "output_type": "display_data"
    }
   ],
   "source": [
    "image_index = 7776 # You may select anything up to 60,000\n",
    "print(train_labels[image_index]) \n",
    "plt.imshow(train_images[image_index], cmap='Greys')"
   ]
  },
  {
   "cell_type": "markdown",
   "metadata": {
    "papermill": {
     "duration": 0.453969,
     "end_time": "2020-11-14T10:04:19.146531",
     "exception": false,
     "start_time": "2020-11-14T10:04:18.692562",
     "status": "completed"
    },
    "tags": []
   },
   "source": [
    "## Filter data to get 3 and 8 out"
   ]
  },
  {
   "cell_type": "code",
   "execution_count": 9,
   "metadata": {
    "execution": {
     "iopub.execute_input": "2020-11-14T10:04:19.655391Z",
     "iopub.status.busy": "2020-11-14T10:04:19.654644Z",
     "iopub.status.idle": "2020-11-14T10:04:19.674001Z",
     "shell.execute_reply": "2020-11-14T10:04:19.673512Z"
    },
    "papermill": {
     "duration": 0.277499,
     "end_time": "2020-11-14T10:04:19.674133",
     "exception": false,
     "start_time": "2020-11-14T10:04:19.396634",
     "status": "completed"
    },
    "tags": []
   },
   "outputs": [],
   "source": [
    "train_filter = np.where((train_labels == 3 ) | (train_labels == 8))\n",
    "test_filter = np.where((test_labels == 3) | (test_labels == 8))\n",
    "X_train, y_train = train_images[train_filter], train_labels[train_filter]\n",
    "X_test, y_test = test_images[test_filter], test_labels[test_filter]"
   ]
  },
  {
   "cell_type": "markdown",
   "metadata": {
    "papermill": {
     "duration": 0.028672,
     "end_time": "2020-11-14T10:04:19.732768",
     "exception": false,
     "start_time": "2020-11-14T10:04:19.704096",
     "status": "completed"
    },
    "tags": []
   },
   "source": [
    "We normalize the pixel values in the 0 to 1 range"
   ]
  },
  {
   "cell_type": "code",
   "execution_count": 10,
   "metadata": {
    "execution": {
     "iopub.execute_input": "2020-11-14T10:04:19.810155Z",
     "iopub.status.busy": "2020-11-14T10:04:19.802291Z",
     "iopub.status.idle": "2020-11-14T10:04:19.855280Z",
     "shell.execute_reply": "2020-11-14T10:04:19.854411Z"
    },
    "papermill": {
     "duration": 0.093338,
     "end_time": "2020-11-14T10:04:19.855414",
     "exception": false,
     "start_time": "2020-11-14T10:04:19.762076",
     "status": "completed"
    },
    "tags": []
   },
   "outputs": [],
   "source": [
    "X_train = X_train/255.\n",
    "X_test = X_test/255."
   ]
  },
  {
   "cell_type": "markdown",
   "metadata": {
    "papermill": {
     "duration": 0.027628,
     "end_time": "2020-11-14T10:04:19.910616",
     "exception": false,
     "start_time": "2020-11-14T10:04:19.882988",
     "status": "completed"
    },
    "tags": []
   },
   "source": [
    "Setup the labels as 1 (when the digit is 3) and 0 (when the digit is 8)"
   ]
  },
  {
   "cell_type": "code",
   "execution_count": 11,
   "metadata": {
    "execution": {
     "iopub.execute_input": "2020-11-14T10:04:19.971200Z",
     "iopub.status.busy": "2020-11-14T10:04:19.970520Z",
     "iopub.status.idle": "2020-11-14T10:04:19.980469Z",
     "shell.execute_reply": "2020-11-14T10:04:19.980911Z"
    },
    "papermill": {
     "duration": 0.044101,
     "end_time": "2020-11-14T10:04:19.981053",
     "exception": false,
     "start_time": "2020-11-14T10:04:19.936952",
     "status": "completed"
    },
    "tags": []
   },
   "outputs": [],
   "source": [
    "y_train = 1*(y_train==3)\n",
    "y_test = 1*(y_test==3)"
   ]
  },
  {
   "cell_type": "code",
   "execution_count": 12,
   "metadata": {
    "execution": {
     "iopub.execute_input": "2020-11-14T10:04:20.037331Z",
     "iopub.status.busy": "2020-11-14T10:04:20.036711Z",
     "iopub.status.idle": "2020-11-14T10:04:20.047155Z",
     "shell.execute_reply": "2020-11-14T10:04:20.047636Z"
    },
    "papermill": {
     "duration": 0.039699,
     "end_time": "2020-11-14T10:04:20.047758",
     "exception": false,
     "start_time": "2020-11-14T10:04:20.008059",
     "status": "completed"
    },
    "tags": []
   },
   "outputs": [
    {
     "data": {
      "text/plain": [
       "((11982, 28, 28), (1984, 28, 28))"
      ]
     },
     "execution_count": 12,
     "metadata": {},
     "output_type": "execute_result"
    }
   ],
   "source": [
    "X_train.shape, X_test.shape"
   ]
  },
  {
   "cell_type": "markdown",
   "metadata": {
    "papermill": {
     "duration": 0.02646,
     "end_time": "2020-11-14T10:04:20.105616",
     "exception": false,
     "start_time": "2020-11-14T10:04:20.079156",
     "status": "completed"
    },
    "tags": []
   },
   "source": [
    "### Reshape the input data to create a linear array"
   ]
  },
  {
   "cell_type": "code",
   "execution_count": 13,
   "metadata": {
    "execution": {
     "iopub.execute_input": "2020-11-14T10:04:20.163777Z",
     "iopub.status.busy": "2020-11-14T10:04:20.162905Z",
     "iopub.status.idle": "2020-11-14T10:04:20.180061Z",
     "shell.execute_reply": "2020-11-14T10:04:20.180770Z"
    },
    "papermill": {
     "duration": 0.048383,
     "end_time": "2020-11-14T10:04:20.180939",
     "exception": false,
     "start_time": "2020-11-14T10:04:20.132556",
     "status": "completed"
    },
    "tags": []
   },
   "outputs": [
    {
     "data": {
      "text/plain": [
       "((11982, 784), (1984, 784))"
      ]
     },
     "execution_count": 13,
     "metadata": {},
     "output_type": "execute_result"
    }
   ],
   "source": [
    "X_train = X_train.reshape(X_train.shape[0], -1)\n",
    "X_test = X_test.reshape(X_test.shape[0], -1)\n",
    "X_train.shape, X_test.shape"
   ]
  },
  {
   "cell_type": "markdown",
   "metadata": {
    "papermill": {
     "duration": 0.028468,
     "end_time": "2020-11-14T10:04:20.239970",
     "exception": false,
     "start_time": "2020-11-14T10:04:20.211502",
     "status": "completed"
    },
    "tags": []
   },
   "source": [
    "### Importing appropriate functions from 'Kudzu'"
   ]
  },
  {
   "cell_type": "code",
   "execution_count": 14,
   "metadata": {
    "execution": {
     "iopub.execute_input": "2020-11-14T10:04:20.308307Z",
     "iopub.status.busy": "2020-11-14T10:04:20.302686Z",
     "iopub.status.idle": "2020-11-14T10:04:20.317912Z",
     "shell.execute_reply": "2020-11-14T10:04:20.317273Z"
    },
    "papermill": {
     "duration": 0.051285,
     "end_time": "2020-11-14T10:04:20.318112",
     "exception": false,
     "start_time": "2020-11-14T10:04:20.266827",
     "status": "completed"
    },
    "tags": []
   },
   "outputs": [],
   "source": [
    "from kudzu.layer import Sigmoid\n",
    "from kudzu.layer import Relu\n",
    "from kudzu.layer import Affine, Sigmoid\n",
    "\n",
    "from kudzu.model import Model\n",
    "from kudzu.train import Learner\n",
    "from kudzu.optim import GD\n",
    "from kudzu.data import Data, Dataloader, Sampler\n",
    "\n",
    "from kudzu.callbacks import AccCallback\n",
    "from kudzu.callbacks import ClfCallback\n",
    "\n",
    "from kudzu.loss import MSE"
   ]
  },
  {
   "cell_type": "markdown",
   "metadata": {
    "papermill": {
     "duration": 0.026806,
     "end_time": "2020-11-14T10:04:20.372013",
     "exception": false,
     "start_time": "2020-11-14T10:04:20.345207",
     "status": "completed"
    },
    "tags": []
   },
   "source": [
    "### Let us create a `Config` class, to store important parameters. \n",
    "This class essentially plays the role of a dictionary."
   ]
  },
  {
   "cell_type": "code",
   "execution_count": 15,
   "metadata": {
    "execution": {
     "iopub.execute_input": "2020-11-14T10:04:20.427581Z",
     "iopub.status.busy": "2020-11-14T10:04:20.427019Z",
     "iopub.status.idle": "2020-11-14T10:04:20.438594Z",
     "shell.execute_reply": "2020-11-14T10:04:20.439016Z"
    },
    "papermill": {
     "duration": 0.040823,
     "end_time": "2020-11-14T10:04:20.439136",
     "exception": false,
     "start_time": "2020-11-14T10:04:20.398313",
     "status": "completed"
    },
    "tags": []
   },
   "outputs": [],
   "source": [
    "class Config:\n",
    "    pass\n",
    "config = Config()\n",
    "config.lr = 0.001\n",
    "config.num_epochs = 251\n",
    "config.bs = 50"
   ]
  },
  {
   "cell_type": "markdown",
   "metadata": {
    "papermill": {
     "duration": 0.02633,
     "end_time": "2020-11-14T10:04:20.491502",
     "exception": false,
     "start_time": "2020-11-14T10:04:20.465172",
     "status": "completed"
    },
    "tags": []
   },
   "source": [
    "### Initializing data to the variables"
   ]
  },
  {
   "cell_type": "code",
   "execution_count": 16,
   "metadata": {
    "execution": {
     "iopub.execute_input": "2020-11-14T10:04:20.547881Z",
     "iopub.status.busy": "2020-11-14T10:04:20.547347Z",
     "iopub.status.idle": "2020-11-14T10:04:20.559057Z",
     "shell.execute_reply": "2020-11-14T10:04:20.559626Z"
    },
    "papermill": {
     "duration": 0.04169,
     "end_time": "2020-11-14T10:04:20.559779",
     "exception": false,
     "start_time": "2020-11-14T10:04:20.518089",
     "status": "completed"
    },
    "tags": []
   },
   "outputs": [],
   "source": [
    "data = Data(X_train, y_train.reshape(-1,1))\n",
    "sampler = Sampler(data, config.bs, shuffle=True)\n",
    "\n",
    "dl = Dataloader(data, sampler)\n",
    "\n",
    "opt = GD(config.lr)\n",
    "loss = MSE()"
   ]
  },
  {
   "cell_type": "code",
   "execution_count": 17,
   "metadata": {
    "execution": {
     "iopub.execute_input": "2020-11-14T10:04:20.617482Z",
     "iopub.status.busy": "2020-11-14T10:04:20.616912Z",
     "iopub.status.idle": "2020-11-14T10:04:20.626935Z",
     "shell.execute_reply": "2020-11-14T10:04:20.627487Z"
    },
    "papermill": {
     "duration": 0.04015,
     "end_time": "2020-11-14T10:04:20.627601",
     "exception": false,
     "start_time": "2020-11-14T10:04:20.587451",
     "status": "completed"
    },
    "tags": []
   },
   "outputs": [],
   "source": [
    "training_xdata = X_train\n",
    "testing_xdata = X_test\n",
    "training_ydata = y_train.reshape(-1,1)\n",
    "testing_ydata = y_test.reshape(-1,1)"
   ]
  },
  {
   "cell_type": "markdown",
   "metadata": {
    "papermill": {
     "duration": 0.026612,
     "end_time": "2020-11-14T10:04:20.679709",
     "exception": false,
     "start_time": "2020-11-14T10:04:20.653097",
     "status": "completed"
    },
    "tags": []
   },
   "source": [
    "### Running Models with the Training data\n",
    "Details about the network layers:\n",
    "- A first affine layer has 784 inputs and does 100 affine transforms. These are followed by a Relu\n",
    "- A second affine layer has 100 inputs from the 100 activations of the past layer, and does 100 affine transforms. These are followed by a Relu\n",
    "- A third affine layer has 100 activations and does 2 affine transformations to create an embedding for visualization. There is no non-linearity here.\n",
    "- A final \"logistic regression\" which has an affine transform from 2 inputs to 1 output, which is squeezed through a sigmoid.\n",
    "\n",
    "Help taken from Anshuman's Notebook."
   ]
  },
  {
   "cell_type": "code",
   "execution_count": 18,
   "metadata": {
    "execution": {
     "iopub.execute_input": "2020-11-14T10:04:20.744769Z",
     "iopub.status.busy": "2020-11-14T10:04:20.744210Z",
     "iopub.status.idle": "2020-11-14T10:04:20.757771Z",
     "shell.execute_reply": "2020-11-14T10:04:20.758291Z"
    },
    "papermill": {
     "duration": 0.048617,
     "end_time": "2020-11-14T10:04:20.758411",
     "exception": false,
     "start_time": "2020-11-14T10:04:20.709794",
     "status": "completed"
    },
    "tags": []
   },
   "outputs": [],
   "source": [
    "# layers for the Neural Network\n",
    "layers = [Affine(\"first\", 784, 100), Relu(\"first\"), Affine(\"second\", 100, 100), Relu(\"second\"), Affine(\"third\", 100, 2), Affine(\"final\", 2, 1), Sigmoid(\"final\")]\n",
    "model_nn = Model(layers)\n",
    "\n",
    "# layers for the Logistic Regression\n",
    "layers_lr = [Affine(\"logits\", 784, 1), Sigmoid(\"sigmoid\")]\n",
    "model_lr = Model(layers_lr)"
   ]
  },
  {
   "cell_type": "code",
   "execution_count": 19,
   "metadata": {
    "execution": {
     "iopub.execute_input": "2020-11-14T10:04:20.818380Z",
     "iopub.status.busy": "2020-11-14T10:04:20.817400Z",
     "iopub.status.idle": "2020-11-14T10:04:20.828607Z",
     "shell.execute_reply": "2020-11-14T10:04:20.829072Z"
    },
    "papermill": {
     "duration": 0.041705,
     "end_time": "2020-11-14T10:04:20.829189",
     "exception": false,
     "start_time": "2020-11-14T10:04:20.787484",
     "status": "completed"
    },
    "tags": []
   },
   "outputs": [],
   "source": [
    "# suffix _nn stands for Neural Network.\n",
    "learner_nn = Learner(loss, model_nn, opt, config.num_epochs)\n",
    "acc_nn = ClfCallback(learner_nn, config.bs, training_xdata , testing_xdata, training_ydata, testing_ydata)\n",
    "learner_nn.set_callbacks([acc_nn])"
   ]
  },
  {
   "cell_type": "code",
   "execution_count": 20,
   "metadata": {
    "execution": {
     "iopub.execute_input": "2020-11-14T10:04:20.894501Z",
     "iopub.status.busy": "2020-11-14T10:04:20.893960Z",
     "iopub.status.idle": "2020-11-14T10:06:36.937143Z",
     "shell.execute_reply": "2020-11-14T10:06:36.937938Z"
    },
    "papermill": {
     "duration": 136.083175,
     "end_time": "2020-11-14T10:06:36.938135",
     "exception": false,
     "start_time": "2020-11-14T10:04:20.854960",
     "status": "completed"
    },
    "tags": []
   },
   "outputs": [
    {
     "name": "stdout",
     "output_type": "stream",
     "text": [
      "====== Neural Network ======\n"
     ]
    },
    {
     "name": "stdout",
     "output_type": "stream",
     "text": [
      "Epoch 0, Loss 0.2532\n",
      "Training Accuracy: 0.6622, Testing Accuracy: 0.6431\n",
      "\n"
     ]
    },
    {
     "name": "stdout",
     "output_type": "stream",
     "text": [
      "Epoch 10, Loss 0.0676\n",
      "Training Accuracy: 0.9408, Testing Accuracy: 0.9461\n",
      "\n"
     ]
    },
    {
     "name": "stdout",
     "output_type": "stream",
     "text": [
      "Epoch 20, Loss 0.0434\n",
      "Training Accuracy: 0.9556, Testing Accuracy: 0.9612\n",
      "\n"
     ]
    },
    {
     "name": "stdout",
     "output_type": "stream",
     "text": [
      "Epoch 30, Loss 0.0356\n",
      "Training Accuracy: 0.9620, Testing Accuracy: 0.9667\n",
      "\n"
     ]
    },
    {
     "name": "stdout",
     "output_type": "stream",
     "text": [
      "Epoch 40, Loss 0.0315\n",
      "Training Accuracy: 0.9653, Testing Accuracy: 0.9703\n",
      "\n"
     ]
    },
    {
     "name": "stdout",
     "output_type": "stream",
     "text": [
      "Epoch 50, Loss 0.0288\n",
      "Training Accuracy: 0.9683, Testing Accuracy: 0.9723\n",
      "\n"
     ]
    },
    {
     "name": "stdout",
     "output_type": "stream",
     "text": [
      "Epoch 60, Loss 0.0268\n",
      "Training Accuracy: 0.9703, Testing Accuracy: 0.9733\n",
      "\n"
     ]
    },
    {
     "name": "stdout",
     "output_type": "stream",
     "text": [
      "Epoch 70, Loss 0.0253\n",
      "Training Accuracy: 0.9722, Testing Accuracy: 0.9748\n",
      "\n"
     ]
    },
    {
     "name": "stdout",
     "output_type": "stream",
     "text": [
      "Epoch 80, Loss 0.024\n",
      "Training Accuracy: 0.9737, Testing Accuracy: 0.9753\n",
      "\n"
     ]
    },
    {
     "name": "stdout",
     "output_type": "stream",
     "text": [
      "Epoch 90, Loss 0.0229\n",
      "Training Accuracy: 0.9752, Testing Accuracy: 0.9753\n",
      "\n"
     ]
    },
    {
     "name": "stdout",
     "output_type": "stream",
     "text": [
      "Epoch 100, Loss 0.0219\n",
      "Training Accuracy: 0.9765, Testing Accuracy: 0.9758\n",
      "\n"
     ]
    },
    {
     "name": "stdout",
     "output_type": "stream",
     "text": [
      "Epoch 110, Loss 0.021\n",
      "Training Accuracy: 0.9772, Testing Accuracy: 0.9768\n",
      "\n"
     ]
    },
    {
     "name": "stdout",
     "output_type": "stream",
     "text": [
      "Epoch 120, Loss 0.0203\n",
      "Training Accuracy: 0.9781, Testing Accuracy: 0.9768\n",
      "\n"
     ]
    },
    {
     "name": "stdout",
     "output_type": "stream",
     "text": [
      "Epoch 130, Loss 0.0195\n",
      "Training Accuracy: 0.9789, Testing Accuracy: 0.9768\n",
      "\n"
     ]
    },
    {
     "name": "stdout",
     "output_type": "stream",
     "text": [
      "Epoch 140, Loss 0.0189\n",
      "Training Accuracy: 0.9793, Testing Accuracy: 0.9773\n",
      "\n"
     ]
    },
    {
     "name": "stdout",
     "output_type": "stream",
     "text": [
      "Epoch 150, Loss 0.0183\n",
      "Training Accuracy: 0.9806, Testing Accuracy: 0.9763\n",
      "\n"
     ]
    },
    {
     "name": "stdout",
     "output_type": "stream",
     "text": [
      "Epoch 160, Loss 0.0177\n",
      "Training Accuracy: 0.9808, Testing Accuracy: 0.9778\n",
      "\n"
     ]
    },
    {
     "name": "stdout",
     "output_type": "stream",
     "text": [
      "Epoch 170, Loss 0.0172\n",
      "Training Accuracy: 0.9812, Testing Accuracy: 0.9783\n",
      "\n"
     ]
    },
    {
     "name": "stdout",
     "output_type": "stream",
     "text": [
      "Epoch 180, Loss 0.0167\n",
      "Training Accuracy: 0.9815, Testing Accuracy: 0.9783\n",
      "\n"
     ]
    },
    {
     "name": "stdout",
     "output_type": "stream",
     "text": [
      "Epoch 190, Loss 0.0162\n",
      "Training Accuracy: 0.9821, Testing Accuracy: 0.9793\n",
      "\n"
     ]
    },
    {
     "name": "stdout",
     "output_type": "stream",
     "text": [
      "Epoch 200, Loss 0.0158\n",
      "Training Accuracy: 0.9827, Testing Accuracy: 0.9803\n",
      "\n"
     ]
    },
    {
     "name": "stdout",
     "output_type": "stream",
     "text": [
      "Epoch 210, Loss 0.0154\n",
      "Training Accuracy: 0.9836, Testing Accuracy: 0.9803\n",
      "\n"
     ]
    },
    {
     "name": "stdout",
     "output_type": "stream",
     "text": [
      "Epoch 220, Loss 0.015\n",
      "Training Accuracy: 0.9844, Testing Accuracy: 0.9819\n",
      "\n"
     ]
    },
    {
     "name": "stdout",
     "output_type": "stream",
     "text": [
      "Epoch 230, Loss 0.0146\n",
      "Training Accuracy: 0.9850, Testing Accuracy: 0.9824\n",
      "\n"
     ]
    },
    {
     "name": "stdout",
     "output_type": "stream",
     "text": [
      "Epoch 240, Loss 0.0142\n",
      "Training Accuracy: 0.9856, Testing Accuracy: 0.9819\n",
      "\n"
     ]
    },
    {
     "name": "stdout",
     "output_type": "stream",
     "text": [
      "Epoch 250, Loss 0.0138\n",
      "Training Accuracy: 0.9859, Testing Accuracy: 0.9824\n",
      "\n"
     ]
    },
    {
     "data": {
      "text/plain": [
       "0.04078486579883643"
      ]
     },
     "execution_count": 20,
     "metadata": {},
     "output_type": "execute_result"
    }
   ],
   "source": [
    "print(\"====== Neural Network ======\")\n",
    "learner_nn.train_loop(dl)"
   ]
  },
  {
   "cell_type": "markdown",
   "metadata": {
    "papermill": {
     "duration": 0.038436,
     "end_time": "2020-11-14T10:06:37.017792",
     "exception": false,
     "start_time": "2020-11-14T10:06:36.979356",
     "status": "completed"
    },
    "tags": []
   },
   "source": [
    "### Logistic Regression based Implementation."
   ]
  },
  {
   "cell_type": "code",
   "execution_count": 21,
   "metadata": {
    "execution": {
     "iopub.execute_input": "2020-11-14T10:06:37.110851Z",
     "iopub.status.busy": "2020-11-14T10:06:37.110168Z",
     "iopub.status.idle": "2020-11-14T10:06:37.118848Z",
     "shell.execute_reply": "2020-11-14T10:06:37.118317Z"
    },
    "papermill": {
     "duration": 0.057126,
     "end_time": "2020-11-14T10:06:37.118974",
     "exception": false,
     "start_time": "2020-11-14T10:06:37.061848",
     "status": "completed"
    },
    "tags": []
   },
   "outputs": [],
   "source": [
    "learner_lr = Learner(loss, model_lr, opt, config.num_epochs)\n",
    "acc_lr = ClfCallback(learner_lr, config.bs, training_xdata , testing_xdata, training_ydata, testing_ydata)\n",
    "learner_lr.set_callbacks([acc_lr])"
   ]
  },
  {
   "cell_type": "code",
   "execution_count": 22,
   "metadata": {
    "execution": {
     "iopub.execute_input": "2020-11-14T10:06:37.202309Z",
     "iopub.status.busy": "2020-11-14T10:06:37.201737Z",
     "iopub.status.idle": "2020-11-14T10:06:58.180730Z",
     "shell.execute_reply": "2020-11-14T10:06:58.181724Z"
    },
    "papermill": {
     "duration": 21.024086,
     "end_time": "2020-11-14T10:06:58.181888",
     "exception": false,
     "start_time": "2020-11-14T10:06:37.157802",
     "status": "completed"
    },
    "tags": []
   },
   "outputs": [
    {
     "name": "stdout",
     "output_type": "stream",
     "text": [
      "====== Logistic Regression ======\n",
      "Epoch 0, Loss 0.2327\n",
      "Training Accuracy: 0.7189, Testing Accuracy: 0.7182\n",
      "\n"
     ]
    },
    {
     "name": "stdout",
     "output_type": "stream",
     "text": [
      "Epoch 10, Loss 0.1053\n",
      "Training Accuracy: 0.9026, Testing Accuracy: 0.9103\n",
      "\n"
     ]
    },
    {
     "name": "stdout",
     "output_type": "stream",
     "text": [
      "Epoch 20, Loss 0.0808\n",
      "Training Accuracy: 0.9235, Testing Accuracy: 0.9309\n",
      "\n"
     ]
    },
    {
     "name": "stdout",
     "output_type": "stream",
     "text": [
      "Epoch 30, Loss 0.0694\n",
      "Training Accuracy: 0.9331, Testing Accuracy: 0.9410\n",
      "\n"
     ]
    },
    {
     "name": "stdout",
     "output_type": "stream",
     "text": [
      "Epoch 40, Loss 0.0625\n",
      "Training Accuracy: 0.9403, Testing Accuracy: 0.9486\n",
      "\n"
     ]
    },
    {
     "name": "stdout",
     "output_type": "stream",
     "text": [
      "Epoch 50, Loss 0.0579\n",
      "Training Accuracy: 0.9431, Testing Accuracy: 0.9511\n",
      "\n"
     ]
    },
    {
     "name": "stdout",
     "output_type": "stream",
     "text": [
      "Epoch 60, Loss 0.0544\n",
      "Training Accuracy: 0.9457, Testing Accuracy: 0.9531\n",
      "\n"
     ]
    },
    {
     "name": "stdout",
     "output_type": "stream",
     "text": [
      "Epoch 70, Loss 0.0518\n",
      "Training Accuracy: 0.9478, Testing Accuracy: 0.9551\n",
      "\n"
     ]
    },
    {
     "name": "stdout",
     "output_type": "stream",
     "text": [
      "Epoch 80, Loss 0.0497\n",
      "Training Accuracy: 0.9504, Testing Accuracy: 0.9567\n",
      "\n"
     ]
    },
    {
     "name": "stdout",
     "output_type": "stream",
     "text": [
      "Epoch 90, Loss 0.0479\n",
      "Training Accuracy: 0.9521, Testing Accuracy: 0.9592\n",
      "\n"
     ]
    },
    {
     "name": "stdout",
     "output_type": "stream",
     "text": [
      "Epoch 100, Loss 0.0465\n",
      "Training Accuracy: 0.9529, Testing Accuracy: 0.9592\n",
      "\n"
     ]
    },
    {
     "name": "stdout",
     "output_type": "stream",
     "text": [
      "Epoch 110, Loss 0.0452\n",
      "Training Accuracy: 0.9538, Testing Accuracy: 0.9622\n",
      "\n"
     ]
    },
    {
     "name": "stdout",
     "output_type": "stream",
     "text": [
      "Epoch 120, Loss 0.0441\n",
      "Training Accuracy: 0.9549, Testing Accuracy: 0.9637\n",
      "\n"
     ]
    },
    {
     "name": "stdout",
     "output_type": "stream",
     "text": [
      "Epoch 130, Loss 0.0432\n",
      "Training Accuracy: 0.9557, Testing Accuracy: 0.9657\n",
      "\n"
     ]
    },
    {
     "name": "stdout",
     "output_type": "stream",
     "text": [
      "Epoch 140, Loss 0.0423\n",
      "Training Accuracy: 0.9564, Testing Accuracy: 0.9662\n",
      "\n"
     ]
    },
    {
     "name": "stdout",
     "output_type": "stream",
     "text": [
      "Epoch 150, Loss 0.0416\n",
      "Training Accuracy: 0.9569, Testing Accuracy: 0.9662\n",
      "\n"
     ]
    },
    {
     "name": "stdout",
     "output_type": "stream",
     "text": [
      "Epoch 160, Loss 0.0409\n",
      "Training Accuracy: 0.9574, Testing Accuracy: 0.9652\n",
      "\n"
     ]
    },
    {
     "name": "stdout",
     "output_type": "stream",
     "text": [
      "Epoch 170, Loss 0.0403\n",
      "Training Accuracy: 0.9580, Testing Accuracy: 0.9652\n",
      "\n"
     ]
    },
    {
     "name": "stdout",
     "output_type": "stream",
     "text": [
      "Epoch 180, Loss 0.0397\n",
      "Training Accuracy: 0.9586, Testing Accuracy: 0.9647\n",
      "\n"
     ]
    },
    {
     "name": "stdout",
     "output_type": "stream",
     "text": [
      "Epoch 190, Loss 0.0392\n",
      "Training Accuracy: 0.9589, Testing Accuracy: 0.9652\n",
      "\n"
     ]
    },
    {
     "name": "stdout",
     "output_type": "stream",
     "text": [
      "Epoch 200, Loss 0.0387\n",
      "Training Accuracy: 0.9589, Testing Accuracy: 0.9652\n",
      "\n"
     ]
    },
    {
     "name": "stdout",
     "output_type": "stream",
     "text": [
      "Epoch 210, Loss 0.0382\n",
      "Training Accuracy: 0.9595, Testing Accuracy: 0.9652\n",
      "\n"
     ]
    },
    {
     "name": "stdout",
     "output_type": "stream",
     "text": [
      "Epoch 220, Loss 0.0378\n",
      "Training Accuracy: 0.9600, Testing Accuracy: 0.9652\n",
      "\n"
     ]
    },
    {
     "name": "stdout",
     "output_type": "stream",
     "text": [
      "Epoch 230, Loss 0.0374\n",
      "Training Accuracy: 0.9602, Testing Accuracy: 0.9652\n",
      "\n"
     ]
    },
    {
     "name": "stdout",
     "output_type": "stream",
     "text": [
      "Epoch 240, Loss 0.0371\n",
      "Training Accuracy: 0.9606, Testing Accuracy: 0.9657\n",
      "\n"
     ]
    },
    {
     "name": "stdout",
     "output_type": "stream",
     "text": [
      "Epoch 250, Loss 0.0367\n",
      "Training Accuracy: 0.9608, Testing Accuracy: 0.9662\n",
      "\n"
     ]
    },
    {
     "data": {
      "text/plain": [
       "0.052106637134542846"
      ]
     },
     "execution_count": 22,
     "metadata": {},
     "output_type": "execute_result"
    }
   ],
   "source": [
    "print(\"====== Logistic Regression ======\")\n",
    "learner_lr.train_loop(dl)"
   ]
  },
  {
   "cell_type": "markdown",
   "metadata": {
    "papermill": {
     "duration": 0.047813,
     "end_time": "2020-11-14T10:06:58.279186",
     "exception": false,
     "start_time": "2020-11-14T10:06:58.231373",
     "status": "completed"
    },
    "tags": []
   },
   "source": [
    "### Comparing results of NN and LR"
   ]
  },
  {
   "cell_type": "code",
   "execution_count": 23,
   "metadata": {
    "execution": {
     "iopub.execute_input": "2020-11-14T10:06:58.386685Z",
     "iopub.status.busy": "2020-11-14T10:06:58.386027Z",
     "iopub.status.idle": "2020-11-14T10:06:58.667773Z",
     "shell.execute_reply": "2020-11-14T10:06:58.667173Z"
    },
    "papermill": {
     "duration": 0.335111,
     "end_time": "2020-11-14T10:06:58.667945",
     "exception": false,
     "start_time": "2020-11-14T10:06:58.332834",
     "status": "completed"
    },
    "tags": []
   },
   "outputs": [
    {
     "data": {
      "text/plain": [
       "<matplotlib.legend.Legend at 0x7f7640a592e8>"
      ]
     },
     "execution_count": 23,
     "metadata": {},
     "output_type": "execute_result"
    },
    {
     "data": {
      "image/png": "[encoded data removed]",
      "text/plain": [
       "<Figure size 1080x720 with 1 Axes>"
      ]
     },
     "metadata": {
      "needs_background": "light"
     },
     "output_type": "display_data"
    }
   ],
   "source": [
    "plt.figure(figsize=(15,10))\n",
    "\n",
    "# Neural Network plots\n",
    "plt.plot(acc_nn.accuracies, 'r-', label = \"Training Accuracies - NN\")\n",
    "plt.plot(acc_nn.test_accuracies, 'g-', label = \"Testing Accuracies - NN\")\n",
    "\n",
    "# Logistic Regression plots\n",
    "plt.plot(acc_lr.accuracies, 'k-', label = \"Training Accuracies - LR\")\n",
    "plt.plot(acc_lr.test_accuracies, 'b-', label = \"Testing Accuracies - LR\")\n",
    "\n",
    "plt.ylim(0.8, 1)\n",
    "\n",
    "plt.legend()\n",
    "\n"
   ]
  },
  {
   "cell_type": "markdown",
   "metadata": {
    "papermill": {
     "duration": 0.053054,
     "end_time": "2020-11-14T10:06:58.769506",
     "exception": false,
     "start_time": "2020-11-14T10:06:58.716452",
     "status": "completed"
    },
    "tags": []
   },
   "source": [
    "### From the plot, we can observe the following:\n",
    "- Neural Network achieves higher accuracy than the Logistic Regression model.\n",
    "- This apparently, is because of overfitting, i.e. NN captures more noise than data.\n",
    "- Testing accuracy of NN drops below the Training accuracy at higher epochs. This explains the over-fitting on training data.\n",
    "- Logistic Regression gives a reliable accuracy, without the above mentioned problem.\n"
   ]
  },
  {
   "cell_type": "markdown",
   "metadata": {
    "papermill": {
     "duration": 0.04841,
     "end_time": "2020-11-14T10:06:58.863343",
     "exception": false,
     "start_time": "2020-11-14T10:06:58.814933",
     "status": "completed"
    },
    "tags": []
   },
   "source": [
    "### Moving till the last but one layer (excluding it).\n",
    "#### Plotting the outputs of this layer of the NN."
   ]
  },
  {
   "cell_type": "code",
   "execution_count": 24,
   "metadata": {
    "execution": {
     "iopub.execute_input": "2020-11-14T10:06:58.970320Z",
     "iopub.status.busy": "2020-11-14T10:06:58.963353Z",
     "iopub.status.idle": "2020-11-14T10:06:58.974985Z",
     "shell.execute_reply": "2020-11-14T10:06:58.975471Z"
    },
    "papermill": {
     "duration": 0.063641,
     "end_time": "2020-11-14T10:06:58.975597",
     "exception": false,
     "start_time": "2020-11-14T10:06:58.911956",
     "status": "completed"
    },
    "tags": []
   },
   "outputs": [],
   "source": [
    "model_new = Model(layers[:-2])"
   ]
  },
  {
   "cell_type": "code",
   "execution_count": 25,
   "metadata": {
    "execution": {
     "iopub.execute_input": "2020-11-14T10:06:59.073083Z",
     "iopub.status.busy": "2020-11-14T10:06:59.072536Z",
     "iopub.status.idle": "2020-11-14T10:06:59.099859Z",
     "shell.execute_reply": "2020-11-14T10:06:59.100812Z"
    },
    "papermill": {
     "duration": 0.077287,
     "end_time": "2020-11-14T10:06:59.100955",
     "exception": false,
     "start_time": "2020-11-14T10:06:59.023668",
     "status": "completed"
    },
    "tags": []
   },
   "outputs": [],
   "source": [
    "plot_testing = model_new(testing_xdata)"
   ]
  },
  {
   "cell_type": "code",
   "execution_count": 26,
   "metadata": {
    "execution": {
     "iopub.execute_input": "2020-11-14T10:06:59.203280Z",
     "iopub.status.busy": "2020-11-14T10:06:59.202713Z",
     "iopub.status.idle": "2020-11-14T10:06:59.435010Z",
     "shell.execute_reply": "2020-11-14T10:06:59.435681Z"
    },
    "papermill": {
     "duration": 0.284629,
     "end_time": "2020-11-14T10:06:59.435831",
     "exception": false,
     "start_time": "2020-11-14T10:06:59.151202",
     "status": "completed"
    },
    "tags": []
   },
   "outputs": [
    {
     "data": {
      "text/plain": [
       "Text(0.5, 1.0, 'Outputs')"
      ]
     },
     "execution_count": 26,
     "metadata": {},
     "output_type": "execute_result"
    },
    {
     "data": {
      "image/png": "[encoded data removed]",
      "text/plain": [
       "<Figure size 576x504 with 1 Axes>"
      ]
     },
     "metadata": {
      "needs_background": "light"
     },
     "output_type": "display_data"
    }
   ],
   "source": [
    "plt.figure(figsize=(8,7))\n",
    "plt.scatter(plot_testing[:,0], plot_testing[:,1], alpha = 0.1, c = y_test.ravel());\n",
    "plt.title('Outputs')"
   ]
  },
  {
   "cell_type": "markdown",
   "metadata": {
    "papermill": {
     "duration": 0.052555,
     "end_time": "2020-11-14T10:06:59.541068",
     "exception": false,
     "start_time": "2020-11-14T10:06:59.488513",
     "status": "completed"
    },
    "tags": []
   },
   "source": [
    "### Plotting probability contours"
   ]
  },
  {
   "cell_type": "code",
   "execution_count": 27,
   "metadata": {
    "execution": {
     "iopub.execute_input": "2020-11-14T10:06:59.653708Z",
     "iopub.status.busy": "2020-11-14T10:06:59.652917Z",
     "iopub.status.idle": "2020-11-14T10:06:59.672047Z",
     "shell.execute_reply": "2020-11-14T10:06:59.671519Z"
    },
    "papermill": {
     "duration": 0.079884,
     "end_time": "2020-11-14T10:06:59.672200",
     "exception": false,
     "start_time": "2020-11-14T10:06:59.592316",
     "status": "completed"
    },
    "tags": []
   },
   "outputs": [],
   "source": [
    "model_prob = Model(layers[-2:]) "
   ]
  },
  {
   "cell_type": "code",
   "execution_count": 28,
   "metadata": {
    "execution": {
     "iopub.execute_input": "2020-11-14T10:06:59.787466Z",
     "iopub.status.busy": "2020-11-14T10:06:59.786706Z",
     "iopub.status.idle": "2020-11-14T10:06:59.802194Z",
     "shell.execute_reply": "2020-11-14T10:06:59.802740Z"
    },
    "papermill": {
     "duration": 0.075027,
     "end_time": "2020-11-14T10:06:59.802897",
     "exception": false,
     "start_time": "2020-11-14T10:06:59.727870",
     "status": "completed"
    },
    "tags": []
   },
   "outputs": [],
   "source": [
    "# Adjust the x and y ranges according to the above generated plot.\n",
    "x_range = np.linspace(-4, 1, 100) \n",
    "y_range = np.linspace(-6, 6, 100) \n",
    "x_grid, y_grid = np.meshgrid(x_range, y_range) # x_grid and y_grig are of size 100 X 100\n",
    "\n",
    "# converting x_grid and y_grid to continuous arrays\n",
    "x_grid_flat = np.ravel(x_grid)\n",
    "y_grid_flat = np.ravel(y_grid)\n",
    "\n",
    "# The last layer of the current model takes two columns as input. Hence transpose of np.vstack() is required.\n",
    "X = np.vstack((x_grid_flat, y_grid_flat)).T\n",
    "\n",
    "# x_grid and y_grid are of size 100 x 100\n",
    "probability_contour = model_prob(X).reshape(100,100) "
   ]
  },
  {
   "cell_type": "code",
   "execution_count": 29,
   "metadata": {
    "execution": {
     "iopub.execute_input": "2020-11-14T10:06:59.918257Z",
     "iopub.status.busy": "2020-11-14T10:06:59.917446Z",
     "iopub.status.idle": "2020-11-14T10:07:00.201018Z",
     "shell.execute_reply": "2020-11-14T10:07:00.199859Z"
    },
    "papermill": {
     "duration": 0.345163,
     "end_time": "2020-11-14T10:07:00.201206",
     "exception": false,
     "start_time": "2020-11-14T10:06:59.856043",
     "status": "completed"
    },
    "tags": []
   },
   "outputs": [
    {
     "data": {
      "image/png": "[encoded data removed]",
      "text/plain": [
       "<Figure size 720x648 with 1 Axes>"
      ]
     },
     "metadata": {
      "needs_background": "light"
     },
     "output_type": "display_data"
    }
   ],
   "source": [
    "plt.figure(figsize=(10,9))\n",
    "plt.scatter(plot_testing[:,0], plot_testing[:,1], alpha = 0.1, c = y_test.ravel())\n",
    "contours = plt.contour(x_grid,y_grid,probability_contour)\n",
    "plt.title('Probability Contours')\n",
    "plt.clabel(contours, inline = True );"
   ]
  }
 ],
 "metadata": {
  "kernelspec": {
   "display_name": "Python 3",
   "language": "python",
   "name": "python3"
  },
  "language_info": {
   "codemirror_mode": {
    "name": "ipython",
    "version": 3
   },
   "file_extension": ".py",
   "mimetype": "text/x-python",
   "name": "python",
   "nbconvert_exporter": "python",
   "pygments_lexer": "ipython3",
   "version": "3.6.12"
  },
  "papermill": {
   "duration": 166.689874,
   "end_time": "2020-11-14T10:07:00.604816",
   "environment_variables": {},
   "exception": null,
   "input_path": "2020-08-11-NeuralNetwork.ipynb",
   "output_path": "2020-08-11-NeuralNetwork.ipynb",
   "parameters": {},
   "start_time": "2020-11-14T10:04:13.914942",
   "version": "2.1.2"
  }
 },
 "nbformat": 4,
 "nbformat_minor": 4
}