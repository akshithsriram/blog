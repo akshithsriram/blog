{
 "cells": [
  {
   "cell_type": "markdown",
   "metadata": {
    "papermill": {
     "duration": 0.070331,
     "end_time": "2020-08-22T00:06:05.082223",
     "exception": false,
     "start_time": "2020-08-22T00:06:05.011892",
     "status": "completed"
    },
    "tags": []
   },
   "source": [
    "# \"A Basic Neural Network: Differentiate Hand-Written Digits\"\n",
    "\n",
    "- badges: true\n",
    "- author: Akshith Sriram"
   ]
  },
  {
   "cell_type": "markdown",
   "metadata": {
    "papermill": {
     "duration": 0.03013,
     "end_time": "2020-08-22T00:06:05.312995",
     "exception": false,
     "start_time": "2020-08-22T00:06:05.282865",
     "status": "completed"
    },
    "tags": []
   },
   "source": [
    "### Key Objectives:\n",
    "- Building a neural network that differentiates two hand-written digits 3 and 8.\n",
    "- Comparing the results of this Neural Network (NN) to that of a Logistic Regression (LR) model.\n",
    "\n",
    "### Requirements:\n",
    "- 'Kudzu' : A neural network library that was designed during our course by [Univ.AI](www.univ.ai). \n",
    "- MNIST Database\n",
    "\n",
    "If MNIST is not installed, use the command `!pip install mnist` given below.\n",
    "It can be run both from the command line and Jupyter Notebook."
   ]
  },
  {
   "cell_type": "code",
   "execution_count": 1,
   "metadata": {
    "execution": {
     "iopub.execute_input": "2020-08-22T00:06:05.370038Z",
     "iopub.status.busy": "2020-08-22T00:06:05.369003Z",
     "iopub.status.idle": "2020-08-22T00:06:06.762498Z",
     "shell.execute_reply": "2020-08-22T00:06:06.762982Z"
    },
    "papermill": {
     "duration": 1.425126,
     "end_time": "2020-08-22T00:06:06.763171",
     "exception": false,
     "start_time": "2020-08-22T00:06:05.338045",
     "status": "completed"
    },
    "tags": []
   },
   "outputs": [
    {
     "name": "stdout",
     "output_type": "stream",
     "text": [
      "Collecting mnist\r\n"
     ]
    },
    {
     "name": "stdout",
     "output_type": "stream",
     "text": [
      "  Downloading mnist-0.2.2-py2.py3-none-any.whl (3.5 kB)\r\n",
      "Requirement already satisfied: numpy in /opt/hostedtoolcache/Python/3.6.11/x64/lib/python3.6/site-packages (from mnist) (1.19.1)\r\n"
     ]
    },
    {
     "name": "stdout",
     "output_type": "stream",
     "text": [
      "Installing collected packages: mnist\r\n",
      "Successfully installed mnist-0.2.2\r\n"
     ]
    }
   ],
   "source": [
    "!pip install mnist "
   ]
  },
  {
   "cell_type": "markdown",
   "metadata": {
    "papermill": {
     "duration": 0.032729,
     "end_time": "2020-08-22T00:06:06.823315",
     "exception": false,
     "start_time": "2020-08-22T00:06:06.790586",
     "status": "completed"
    },
    "tags": []
   },
   "source": [
    "#### Importing necessary libraries"
   ]
  },
  {
   "cell_type": "code",
   "execution_count": 2,
   "metadata": {
    "execution": {
     "iopub.execute_input": "2020-08-22T00:06:06.894367Z",
     "iopub.status.busy": "2020-08-22T00:06:06.893777Z",
     "iopub.status.idle": "2020-08-22T00:06:07.475866Z",
     "shell.execute_reply": "2020-08-22T00:06:07.476942Z"
    },
    "papermill": {
     "duration": 0.623578,
     "end_time": "2020-08-22T00:06:07.477225",
     "exception": false,
     "start_time": "2020-08-22T00:06:06.853647",
     "status": "completed"
    },
    "tags": []
   },
   "outputs": [],
   "source": [
    "%load_ext autoreload\n",
    "%autoreload 2\n",
    "\n",
    "%matplotlib inline\n",
    "import matplotlib.pyplot as plt\n",
    "\n",
    "import numpy as np\n",
    "import pandas as pd"
   ]
  },
  {
   "cell_type": "markdown",
   "metadata": {
    "papermill": {
     "duration": 0.026897,
     "end_time": "2020-08-22T00:06:07.535787",
     "exception": false,
     "start_time": "2020-08-22T00:06:07.508890",
     "status": "completed"
    },
    "tags": []
   },
   "source": [
    "### Preparing the Data"
   ]
  },
  {
   "cell_type": "code",
   "execution_count": 3,
   "metadata": {
    "execution": {
     "iopub.execute_input": "2020-08-22T00:06:07.592228Z",
     "iopub.status.busy": "2020-08-22T00:06:07.591614Z",
     "iopub.status.idle": "2020-08-22T00:06:07.605163Z",
     "shell.execute_reply": "2020-08-22T00:06:07.604664Z"
    },
    "papermill": {
     "duration": 0.043972,
     "end_time": "2020-08-22T00:06:07.605284",
     "exception": false,
     "start_time": "2020-08-22T00:06:07.561312",
     "status": "completed"
    },
    "tags": []
   },
   "outputs": [],
   "source": [
    "import mnist"
   ]
  },
  {
   "cell_type": "code",
   "execution_count": 4,
   "metadata": {
    "execution": {
     "iopub.execute_input": "2020-08-22T00:06:07.662607Z",
     "iopub.status.busy": "2020-08-22T00:06:07.662028Z",
     "iopub.status.idle": "2020-08-22T00:06:08.417366Z",
     "shell.execute_reply": "2020-08-22T00:06:08.416840Z"
    },
    "papermill": {
     "duration": 0.786074,
     "end_time": "2020-08-22T00:06:08.417507",
     "exception": false,
     "start_time": "2020-08-22T00:06:07.631433",
     "status": "completed"
    },
    "tags": []
   },
   "outputs": [],
   "source": [
    "train_images = mnist.train_images()\n",
    "train_labels = mnist.train_labels()"
   ]
  },
  {
   "cell_type": "code",
   "execution_count": 5,
   "metadata": {
    "execution": {
     "iopub.execute_input": "2020-08-22T00:06:08.476317Z",
     "iopub.status.busy": "2020-08-22T00:06:08.475013Z",
     "iopub.status.idle": "2020-08-22T00:06:08.489658Z",
     "shell.execute_reply": "2020-08-22T00:06:08.489155Z"
    },
    "papermill": {
     "duration": 0.046087,
     "end_time": "2020-08-22T00:06:08.489779",
     "exception": false,
     "start_time": "2020-08-22T00:06:08.443692",
     "status": "completed"
    },
    "tags": []
   },
   "outputs": [
    {
     "data": {
      "text/plain": [
       "((60000, 28, 28), (60000,))"
      ]
     },
     "execution_count": 5,
     "metadata": {},
     "output_type": "execute_result"
    }
   ],
   "source": [
    "train_images.shape, train_labels.shape"
   ]
  },
  {
   "cell_type": "code",
   "execution_count": 6,
   "metadata": {
    "execution": {
     "iopub.execute_input": "2020-08-22T00:06:08.545784Z",
     "iopub.status.busy": "2020-08-22T00:06:08.545127Z",
     "iopub.status.idle": "2020-08-22T00:06:08.806293Z",
     "shell.execute_reply": "2020-08-22T00:06:08.805367Z"
    },
    "papermill": {
     "duration": 0.290796,
     "end_time": "2020-08-22T00:06:08.806506",
     "exception": false,
     "start_time": "2020-08-22T00:06:08.515710",
     "status": "completed"
    },
    "tags": []
   },
   "outputs": [],
   "source": [
    "test_images = mnist.test_images()\n",
    "test_labels = mnist.test_labels()"
   ]
  },
  {
   "cell_type": "code",
   "execution_count": 7,
   "metadata": {
    "execution": {
     "iopub.execute_input": "2020-08-22T00:06:08.882233Z",
     "iopub.status.busy": "2020-08-22T00:06:08.881650Z",
     "iopub.status.idle": "2020-08-22T00:06:08.898119Z",
     "shell.execute_reply": "2020-08-22T00:06:08.897623Z"
    },
    "papermill": {
     "duration": 0.060024,
     "end_time": "2020-08-22T00:06:08.898241",
     "exception": false,
     "start_time": "2020-08-22T00:06:08.838217",
     "status": "completed"
    },
    "tags": []
   },
   "outputs": [
    {
     "data": {
      "text/plain": [
       "((10000, 28, 28), (10000,))"
      ]
     },
     "execution_count": 7,
     "metadata": {},
     "output_type": "execute_result"
    }
   ],
   "source": [
    "test_images.shape, test_labels.shape"
   ]
  },
  {
   "cell_type": "code",
   "execution_count": 8,
   "metadata": {
    "execution": {
     "iopub.execute_input": "2020-08-22T00:06:08.957153Z",
     "iopub.status.busy": "2020-08-22T00:06:08.956573Z",
     "iopub.status.idle": "2020-08-22T00:06:09.106600Z",
     "shell.execute_reply": "2020-08-22T00:06:09.105480Z"
    },
    "papermill": {
     "duration": 0.181024,
     "end_time": "2020-08-22T00:06:09.106738",
     "exception": false,
     "start_time": "2020-08-22T00:06:08.925714",
     "status": "completed"
    },
    "tags": []
   },
   "outputs": [
    {
     "name": "stdout",
     "output_type": "stream",
     "text": [
      "2\n"
     ]
    },
    {
     "data": {
      "text/plain": [
       "<matplotlib.image.AxesImage at 0x7f370ca93e10>"
      ]
     },
     "execution_count": 8,
     "metadata": {},
     "output_type": "execute_result"
    },
    {
     "data": {
      "image/png": "[encoded data removed]",
      "text/plain": [
       "<Figure size 432x288 with 1 Axes>"
      ]
     },
     "metadata": {
      "needs_background": "light"
     },
     "output_type": "display_data"
    }
   ],
   "source": [
    "image_index = 7776 # You may select anything up to 60,000\n",
    "print(train_labels[image_index]) \n",
    "plt.imshow(train_images[image_index], cmap='Greys')"
   ]
  },
  {
   "cell_type": "markdown",
   "metadata": {
    "papermill": {
     "duration": 0.029539,
     "end_time": "2020-08-22T00:06:09.164845",
     "exception": false,
     "start_time": "2020-08-22T00:06:09.135306",
     "status": "completed"
    },
    "tags": []
   },
   "source": [
    "## Filter data to get 3 and 8 out"
   ]
  },
  {
   "cell_type": "code",
   "execution_count": 9,
   "metadata": {
    "execution": {
     "iopub.execute_input": "2020-08-22T00:06:09.227219Z",
     "iopub.status.busy": "2020-08-22T00:06:09.226139Z",
     "iopub.status.idle": "2020-08-22T00:06:09.247468Z",
     "shell.execute_reply": "2020-08-22T00:06:09.246438Z"
    },
    "papermill": {
     "duration": 0.053439,
     "end_time": "2020-08-22T00:06:09.247671",
     "exception": false,
     "start_time": "2020-08-22T00:06:09.194232",
     "status": "completed"
    },
    "tags": []
   },
   "outputs": [],
   "source": [
    "train_filter = np.where((train_labels == 3 ) | (train_labels == 8))\n",
    "test_filter = np.where((test_labels == 3) | (test_labels == 8))\n",
    "X_train, y_train = train_images[train_filter], train_labels[train_filter]\n",
    "X_test, y_test = test_images[test_filter], test_labels[test_filter]"
   ]
  },
  {
   "cell_type": "markdown",
   "metadata": {
    "papermill": {
     "duration": 0.02797,
     "end_time": "2020-08-22T00:06:09.306343",
     "exception": false,
     "start_time": "2020-08-22T00:06:09.278373",
     "status": "completed"
    },
    "tags": []
   },
   "source": [
    "We normalize the pixel values in the 0 to 1 range"
   ]
  },
  {
   "cell_type": "code",
   "execution_count": 10,
   "metadata": {
    "execution": {
     "iopub.execute_input": "2020-08-22T00:06:09.365542Z",
     "iopub.status.busy": "2020-08-22T00:06:09.364965Z",
     "iopub.status.idle": "2020-08-22T00:06:09.423857Z",
     "shell.execute_reply": "2020-08-22T00:06:09.422898Z"
    },
    "papermill": {
     "duration": 0.089866,
     "end_time": "2020-08-22T00:06:09.424107",
     "exception": false,
     "start_time": "2020-08-22T00:06:09.334241",
     "status": "completed"
    },
    "tags": []
   },
   "outputs": [],
   "source": [
    "X_train = X_train/255.\n",
    "X_test = X_test/255."
   ]
  },
  {
   "cell_type": "markdown",
   "metadata": {
    "papermill": {
     "duration": 0.028166,
     "end_time": "2020-08-22T00:06:09.480941",
     "exception": false,
     "start_time": "2020-08-22T00:06:09.452775",
     "status": "completed"
    },
    "tags": []
   },
   "source": [
    "Setup the labels as 1 (when the digit is 3) and 0 (when the digit is 8)"
   ]
  },
  {
   "cell_type": "code",
   "execution_count": 11,
   "metadata": {
    "execution": {
     "iopub.execute_input": "2020-08-22T00:06:09.539843Z",
     "iopub.status.busy": "2020-08-22T00:06:09.539264Z",
     "iopub.status.idle": "2020-08-22T00:06:09.552148Z",
     "shell.execute_reply": "2020-08-22T00:06:09.552654Z"
    },
    "papermill": {
     "duration": 0.044448,
     "end_time": "2020-08-22T00:06:09.552789",
     "exception": false,
     "start_time": "2020-08-22T00:06:09.508341",
     "status": "completed"
    },
    "tags": []
   },
   "outputs": [],
   "source": [
    "y_train = 1*(y_train==3)\n",
    "y_test = 1*(y_test==3)"
   ]
  },
  {
   "cell_type": "code",
   "execution_count": 12,
   "metadata": {
    "execution": {
     "iopub.execute_input": "2020-08-22T00:06:09.614183Z",
     "iopub.status.busy": "2020-08-22T00:06:09.613606Z",
     "iopub.status.idle": "2020-08-22T00:06:09.629066Z",
     "shell.execute_reply": "2020-08-22T00:06:09.628561Z"
    },
    "papermill": {
     "duration": 0.048353,
     "end_time": "2020-08-22T00:06:09.629186",
     "exception": false,
     "start_time": "2020-08-22T00:06:09.580833",
     "status": "completed"
    },
    "tags": []
   },
   "outputs": [
    {
     "data": {
      "text/plain": [
       "((11982, 28, 28), (1984, 28, 28))"
      ]
     },
     "execution_count": 12,
     "metadata": {},
     "output_type": "execute_result"
    }
   ],
   "source": [
    "X_train.shape, X_test.shape"
   ]
  },
  {
   "cell_type": "markdown",
   "metadata": {
    "papermill": {
     "duration": 0.029876,
     "end_time": "2020-08-22T00:06:09.687374",
     "exception": false,
     "start_time": "2020-08-22T00:06:09.657498",
     "status": "completed"
    },
    "tags": []
   },
   "source": [
    "### Reshape the input data to create a linear array"
   ]
  },
  {
   "cell_type": "code",
   "execution_count": 13,
   "metadata": {
    "execution": {
     "iopub.execute_input": "2020-08-22T00:06:09.749179Z",
     "iopub.status.busy": "2020-08-22T00:06:09.748581Z",
     "iopub.status.idle": "2020-08-22T00:06:09.762269Z",
     "shell.execute_reply": "2020-08-22T00:06:09.762770Z"
    },
    "papermill": {
     "duration": 0.046374,
     "end_time": "2020-08-22T00:06:09.762912",
     "exception": false,
     "start_time": "2020-08-22T00:06:09.716538",
     "status": "completed"
    },
    "tags": []
   },
   "outputs": [
    {
     "data": {
      "text/plain": [
       "((11982, 784), (1984, 784))"
      ]
     },
     "execution_count": 13,
     "metadata": {},
     "output_type": "execute_result"
    }
   ],
   "source": [
    "X_train = X_train.reshape(X_train.shape[0], -1)\n",
    "X_test = X_test.reshape(X_test.shape[0], -1)\n",
    "X_train.shape, X_test.shape"
   ]
  },
  {
   "cell_type": "markdown",
   "metadata": {
    "papermill": {
     "duration": 0.027905,
     "end_time": "2020-08-22T00:06:09.818898",
     "exception": false,
     "start_time": "2020-08-22T00:06:09.790993",
     "status": "completed"
    },
    "tags": []
   },
   "source": [
    "### Importing appropriate functions from 'Kudzu'"
   ]
  },
  {
   "cell_type": "code",
   "execution_count": 14,
   "metadata": {
    "execution": {
     "iopub.execute_input": "2020-08-22T00:06:09.883507Z",
     "iopub.status.busy": "2020-08-22T00:06:09.882486Z",
     "iopub.status.idle": "2020-08-22T00:06:09.902908Z",
     "shell.execute_reply": "2020-08-22T00:06:09.902126Z"
    },
    "papermill": {
     "duration": 0.055919,
     "end_time": "2020-08-22T00:06:09.903073",
     "exception": false,
     "start_time": "2020-08-22T00:06:09.847154",
     "status": "completed"
    },
    "tags": []
   },
   "outputs": [],
   "source": [
    "from kudzu.layer import Sigmoid\n",
    "from kudzu.layer import Relu\n",
    "from kudzu.layer import Affine, Sigmoid\n",
    "\n",
    "from kudzu.model import Model\n",
    "from kudzu.train import Learner\n",
    "from kudzu.optim import GD\n",
    "from kudzu.data import Data, Dataloader, Sampler\n",
    "\n",
    "from kudzu.callbacks import AccCallback\n",
    "from kudzu.callbacks import ClfCallback\n",
    "\n",
    "from kudzu.loss import MSE"
   ]
  },
  {
   "cell_type": "markdown",
   "metadata": {
    "papermill": {
     "duration": 0.028399,
     "end_time": "2020-08-22T00:06:09.962980",
     "exception": false,
     "start_time": "2020-08-22T00:06:09.934581",
     "status": "completed"
    },
    "tags": []
   },
   "source": [
    "### Let us create a `Config` class, to store important parameters. \n",
    "This class essentially plays the role of a dictionary."
   ]
  },
  {
   "cell_type": "code",
   "execution_count": 15,
   "metadata": {
    "execution": {
     "iopub.execute_input": "2020-08-22T00:06:10.029728Z",
     "iopub.status.busy": "2020-08-22T00:06:10.029141Z",
     "iopub.status.idle": "2020-08-22T00:06:10.043360Z",
     "shell.execute_reply": "2020-08-22T00:06:10.042845Z"
    },
    "papermill": {
     "duration": 0.047413,
     "end_time": "2020-08-22T00:06:10.043481",
     "exception": false,
     "start_time": "2020-08-22T00:06:09.996068",
     "status": "completed"
    },
    "tags": []
   },
   "outputs": [],
   "source": [
    "class Config:\n",
    "    pass\n",
    "config = Config()\n",
    "config.lr = 0.001\n",
    "config.num_epochs = 251\n",
    "config.bs = 50"
   ]
  },
  {
   "cell_type": "markdown",
   "metadata": {
    "papermill": {
     "duration": 0.028889,
     "end_time": "2020-08-22T00:06:10.100725",
     "exception": false,
     "start_time": "2020-08-22T00:06:10.071836",
     "status": "completed"
    },
    "tags": []
   },
   "source": [
    "### Initializing data to the variables"
   ]
  },
  {
   "cell_type": "code",
   "execution_count": 16,
   "metadata": {
    "execution": {
     "iopub.execute_input": "2020-08-22T00:06:10.163829Z",
     "iopub.status.busy": "2020-08-22T00:06:10.163237Z",
     "iopub.status.idle": "2020-08-22T00:06:10.178358Z",
     "shell.execute_reply": "2020-08-22T00:06:10.177474Z"
    },
    "papermill": {
     "duration": 0.049406,
     "end_time": "2020-08-22T00:06:10.178570",
     "exception": false,
     "start_time": "2020-08-22T00:06:10.129164",
     "status": "completed"
    },
    "tags": []
   },
   "outputs": [],
   "source": [
    "data = Data(X_train, y_train.reshape(-1,1))\n",
    "sampler = Sampler(data, config.bs, shuffle=True)\n",
    "\n",
    "dl = Dataloader(data, sampler)\n",
    "\n",
    "opt = GD(config.lr)\n",
    "loss = MSE()"
   ]
  },
  {
   "cell_type": "code",
   "execution_count": 17,
   "metadata": {
    "execution": {
     "iopub.execute_input": "2020-08-22T00:06:10.477687Z",
     "iopub.status.busy": "2020-08-22T00:06:10.477095Z",
     "iopub.status.idle": "2020-08-22T00:06:10.492412Z",
     "shell.execute_reply": "2020-08-22T00:06:10.492881Z"
    },
    "papermill": {
     "duration": 0.283609,
     "end_time": "2020-08-22T00:06:10.493023",
     "exception": false,
     "start_time": "2020-08-22T00:06:10.209414",
     "status": "completed"
    },
    "tags": []
   },
   "outputs": [],
   "source": [
    "training_xdata = X_train\n",
    "testing_xdata = X_test\n",
    "training_ydata = y_train.reshape(-1,1)\n",
    "testing_ydata = y_test.reshape(-1,1)"
   ]
  },
  {
   "cell_type": "markdown",
   "metadata": {
    "papermill": {
     "duration": 0.031238,
     "end_time": "2020-08-22T00:06:10.755734",
     "exception": false,
     "start_time": "2020-08-22T00:06:10.724496",
     "status": "completed"
    },
    "tags": []
   },
   "source": [
    "### Running Models with the Training data\n",
    "Details about the network layers:\n",
    "- A first affine layer has 784 inputs and does 100 affine transforms. These are followed by a Relu\n",
    "- A second affine layer has 100 inputs from the 100 activations of the past layer, and does 100 affine transforms. These are followed by a Relu\n",
    "- A third affine layer has 100 activations and does 2 affine transformations to create an embedding for visualization. There is no non-linearity here.\n",
    "- A final \"logistic regression\" which has an affine transform from 2 inputs to 1 output, which is squeezed through a sigmoid.\n",
    "\n",
    "Help taken from Anshuman's Notebook."
   ]
  },
  {
   "cell_type": "code",
   "execution_count": 18,
   "metadata": {
    "execution": {
     "iopub.execute_input": "2020-08-22T00:06:10.819059Z",
     "iopub.status.busy": "2020-08-22T00:06:10.817997Z",
     "iopub.status.idle": "2020-08-22T00:06:10.838246Z",
     "shell.execute_reply": "2020-08-22T00:06:10.837246Z"
    },
    "papermill": {
     "duration": 0.053067,
     "end_time": "2020-08-22T00:06:10.838376",
     "exception": false,
     "start_time": "2020-08-22T00:06:10.785309",
     "status": "completed"
    },
    "tags": []
   },
   "outputs": [],
   "source": [
    "# layers for the Neural Network\n",
    "layers = [Affine(\"first\", 784, 100), Relu(\"first\"), Affine(\"second\", 100, 100), Relu(\"second\"), Affine(\"third\", 100, 2), Affine(\"final\", 2, 1), Sigmoid(\"final\")]\n",
    "model_nn = Model(layers)\n",
    "\n",
    "# layers for the Logistic Regression\n",
    "layers_lr = [Affine(\"logits\", 784, 1), Sigmoid(\"sigmoid\")]\n",
    "model_lr = Model(layers_lr)"
   ]
  },
  {
   "cell_type": "code",
   "execution_count": 19,
   "metadata": {
    "execution": {
     "iopub.execute_input": "2020-08-22T00:06:10.899631Z",
     "iopub.status.busy": "2020-08-22T00:06:10.899047Z",
     "iopub.status.idle": "2020-08-22T00:06:10.913152Z",
     "shell.execute_reply": "2020-08-22T00:06:10.912676Z"
    },
    "papermill": {
     "duration": 0.046372,
     "end_time": "2020-08-22T00:06:10.913276",
     "exception": false,
     "start_time": "2020-08-22T00:06:10.866904",
     "status": "completed"
    },
    "tags": []
   },
   "outputs": [],
   "source": [
    "# suffix _nn stands for Neural Network.\n",
    "learner_nn = Learner(loss, model_nn, opt, config.num_epochs)\n",
    "acc_nn = ClfCallback(learner_nn, config.bs, training_xdata , testing_xdata, training_ydata, testing_ydata)\n",
    "learner_nn.set_callbacks([acc_nn])"
   ]
  },
  {
   "cell_type": "code",
   "execution_count": 20,
   "metadata": {
    "execution": {
     "iopub.execute_input": "2020-08-22T00:06:10.973870Z",
     "iopub.status.busy": "2020-08-22T00:06:10.973294Z",
     "iopub.status.idle": "2020-08-22T00:07:39.301335Z",
     "shell.execute_reply": "2020-08-22T00:07:39.300847Z"
    },
    "papermill": {
     "duration": 88.359868,
     "end_time": "2020-08-22T00:07:39.301469",
     "exception": false,
     "start_time": "2020-08-22T00:06:10.941601",
     "status": "completed"
    },
    "tags": []
   },
   "outputs": [
    {
     "name": "stdout",
     "output_type": "stream",
     "text": [
      "====== Neural Network ======\n"
     ]
    },
    {
     "name": "stdout",
     "output_type": "stream",
     "text": [
      "Epoch 0, Loss 0.2504\n",
      "Training Accuracy: 0.5318, Testing Accuracy: 0.5257\n",
      "\n"
     ]
    },
    {
     "name": "stdout",
     "output_type": "stream",
     "text": [
      "Epoch 10, Loss 0.1395\n",
      "Training Accuracy: 0.8981, Testing Accuracy: 0.9073\n",
      "\n"
     ]
    },
    {
     "name": "stdout",
     "output_type": "stream",
     "text": [
      "Epoch 20, Loss 0.0721\n",
      "Training Accuracy: 0.9275, Testing Accuracy: 0.9395\n",
      "\n"
     ]
    },
    {
     "name": "stdout",
     "output_type": "stream",
     "text": [
      "Epoch 30, Loss 0.0524\n",
      "Training Accuracy: 0.9435, Testing Accuracy: 0.9496\n",
      "\n"
     ]
    },
    {
     "name": "stdout",
     "output_type": "stream",
     "text": [
      "Epoch 40, Loss 0.0436\n",
      "Training Accuracy: 0.9507, Testing Accuracy: 0.9546\n",
      "\n"
     ]
    },
    {
     "name": "stdout",
     "output_type": "stream",
     "text": [
      "Epoch 50, Loss 0.0387\n",
      "Training Accuracy: 0.9545, Testing Accuracy: 0.9592\n",
      "\n"
     ]
    },
    {
     "name": "stdout",
     "output_type": "stream",
     "text": [
      "Epoch 60, Loss 0.0355\n",
      "Training Accuracy: 0.9571, Testing Accuracy: 0.9647\n",
      "\n"
     ]
    },
    {
     "name": "stdout",
     "output_type": "stream",
     "text": [
      "Epoch 70, Loss 0.0332\n",
      "Training Accuracy: 0.9605, Testing Accuracy: 0.9657\n",
      "\n"
     ]
    },
    {
     "name": "stdout",
     "output_type": "stream",
     "text": [
      "Epoch 80, Loss 0.0315\n",
      "Training Accuracy: 0.9618, Testing Accuracy: 0.9672\n",
      "\n"
     ]
    },
    {
     "name": "stdout",
     "output_type": "stream",
     "text": [
      "Epoch 90, Loss 0.0301\n",
      "Training Accuracy: 0.9643, Testing Accuracy: 0.9672\n",
      "\n"
     ]
    },
    {
     "name": "stdout",
     "output_type": "stream",
     "text": [
      "Epoch 100, Loss 0.029\n",
      "Training Accuracy: 0.9656, Testing Accuracy: 0.9693\n",
      "\n"
     ]
    },
    {
     "name": "stdout",
     "output_type": "stream",
     "text": [
      "Epoch 110, Loss 0.028\n",
      "Training Accuracy: 0.9664, Testing Accuracy: 0.9693\n",
      "\n"
     ]
    },
    {
     "name": "stdout",
     "output_type": "stream",
     "text": [
      "Epoch 120, Loss 0.0272\n",
      "Training Accuracy: 0.9671, Testing Accuracy: 0.9708\n",
      "\n"
     ]
    },
    {
     "name": "stdout",
     "output_type": "stream",
     "text": [
      "Epoch 130, Loss 0.0264\n",
      "Training Accuracy: 0.9688, Testing Accuracy: 0.9708\n",
      "\n"
     ]
    },
    {
     "name": "stdout",
     "output_type": "stream",
     "text": [
      "Epoch 140, Loss 0.0258\n",
      "Training Accuracy: 0.9693, Testing Accuracy: 0.9713\n",
      "\n"
     ]
    },
    {
     "name": "stdout",
     "output_type": "stream",
     "text": [
      "Epoch 150, Loss 0.0252\n",
      "Training Accuracy: 0.9702, Testing Accuracy: 0.9713\n",
      "\n"
     ]
    },
    {
     "name": "stdout",
     "output_type": "stream",
     "text": [
      "Epoch 160, Loss 0.0246\n",
      "Training Accuracy: 0.9710, Testing Accuracy: 0.9718\n",
      "\n"
     ]
    },
    {
     "name": "stdout",
     "output_type": "stream",
     "text": [
      "Epoch 170, Loss 0.0241\n",
      "Training Accuracy: 0.9712, Testing Accuracy: 0.9713\n",
      "\n"
     ]
    },
    {
     "name": "stdout",
     "output_type": "stream",
     "text": [
      "Epoch 180, Loss 0.0236\n",
      "Training Accuracy: 0.9728, Testing Accuracy: 0.9718\n",
      "\n"
     ]
    },
    {
     "name": "stdout",
     "output_type": "stream",
     "text": [
      "Epoch 190, Loss 0.0232\n",
      "Training Accuracy: 0.9735, Testing Accuracy: 0.9718\n",
      "\n"
     ]
    },
    {
     "name": "stdout",
     "output_type": "stream",
     "text": [
      "Epoch 200, Loss 0.0227\n",
      "Training Accuracy: 0.9739, Testing Accuracy: 0.9713\n",
      "\n"
     ]
    },
    {
     "name": "stdout",
     "output_type": "stream",
     "text": [
      "Epoch 210, Loss 0.0223\n",
      "Training Accuracy: 0.9743, Testing Accuracy: 0.9713\n",
      "\n"
     ]
    },
    {
     "name": "stdout",
     "output_type": "stream",
     "text": [
      "Epoch 220, Loss 0.0219\n",
      "Training Accuracy: 0.9750, Testing Accuracy: 0.9713\n",
      "\n"
     ]
    },
    {
     "name": "stdout",
     "output_type": "stream",
     "text": [
      "Epoch 230, Loss 0.0216\n",
      "Training Accuracy: 0.9756, Testing Accuracy: 0.9713\n",
      "\n"
     ]
    },
    {
     "name": "stdout",
     "output_type": "stream",
     "text": [
      "Epoch 240, Loss 0.0212\n",
      "Training Accuracy: 0.9760, Testing Accuracy: 0.9703\n",
      "\n"
     ]
    },
    {
     "name": "stdout",
     "output_type": "stream",
     "text": [
      "Epoch 250, Loss 0.0209\n",
      "Training Accuracy: 0.9766, Testing Accuracy: 0.9703\n",
      "\n"
     ]
    },
    {
     "data": {
      "text/plain": [
       "0.0027945065558104554"
      ]
     },
     "execution_count": 20,
     "metadata": {},
     "output_type": "execute_result"
    }
   ],
   "source": [
    "print(\"====== Neural Network ======\")\n",
    "learner_nn.train_loop(dl)"
   ]
  },
  {
   "cell_type": "markdown",
   "metadata": {
    "papermill": {
     "duration": 0.03782,
     "end_time": "2020-08-22T00:07:39.376819",
     "exception": false,
     "start_time": "2020-08-22T00:07:39.338999",
     "status": "completed"
    },
    "tags": []
   },
   "source": [
    "### Logistic Regression based Implementation."
   ]
  },
  {
   "cell_type": "code",
   "execution_count": 21,
   "metadata": {
    "execution": {
     "iopub.execute_input": "2020-08-22T00:07:39.462601Z",
     "iopub.status.busy": "2020-08-22T00:07:39.461963Z",
     "iopub.status.idle": "2020-08-22T00:07:39.477377Z",
     "shell.execute_reply": "2020-08-22T00:07:39.476866Z"
    },
    "papermill": {
     "duration": 0.062064,
     "end_time": "2020-08-22T00:07:39.477558",
     "exception": false,
     "start_time": "2020-08-22T00:07:39.415494",
     "status": "completed"
    },
    "tags": []
   },
   "outputs": [],
   "source": [
    "learner_lr = Learner(loss, model_lr, opt, config.num_epochs)\n",
    "acc_lr = ClfCallback(learner_lr, config.bs, training_xdata , testing_xdata, training_ydata, testing_ydata)\n",
    "learner_lr.set_callbacks([acc_lr])"
   ]
  },
  {
   "cell_type": "code",
   "execution_count": 22,
   "metadata": {
    "execution": {
     "iopub.execute_input": "2020-08-22T00:07:39.565455Z",
     "iopub.status.busy": "2020-08-22T00:07:39.564839Z",
     "iopub.status.idle": "2020-08-22T00:07:55.808873Z",
     "shell.execute_reply": "2020-08-22T00:07:55.809347Z"
    },
    "papermill": {
     "duration": 16.29447,
     "end_time": "2020-08-22T00:07:55.809503",
     "exception": false,
     "start_time": "2020-08-22T00:07:39.515033",
     "status": "completed"
    },
    "tags": []
   },
   "outputs": [
    {
     "name": "stdout",
     "output_type": "stream",
     "text": [
      "====== Logistic Regression ======\n",
      "Epoch 0, Loss 0.2355\n",
      "Training Accuracy: 0.6955, Testing Accuracy: 0.6895\n",
      "\n"
     ]
    },
    {
     "name": "stdout",
     "output_type": "stream",
     "text": [
      "Epoch 10, Loss 0.1063\n",
      "Training Accuracy: 0.8972, Testing Accuracy: 0.9022\n",
      "\n"
     ]
    },
    {
     "name": "stdout",
     "output_type": "stream",
     "text": [
      "Epoch 20, Loss 0.0811\n",
      "Training Accuracy: 0.9229, Testing Accuracy: 0.9340\n",
      "\n"
     ]
    },
    {
     "name": "stdout",
     "output_type": "stream",
     "text": [
      "Epoch 30, Loss 0.0693\n",
      "Training Accuracy: 0.9338, Testing Accuracy: 0.9430\n",
      "\n"
     ]
    },
    {
     "name": "stdout",
     "output_type": "stream",
     "text": [
      "Epoch 40, Loss 0.0623\n",
      "Training Accuracy: 0.9402, Testing Accuracy: 0.9501\n",
      "\n"
     ]
    },
    {
     "name": "stdout",
     "output_type": "stream",
     "text": [
      "Epoch 50, Loss 0.0575\n",
      "Training Accuracy: 0.9450, Testing Accuracy: 0.9546\n",
      "\n"
     ]
    },
    {
     "name": "stdout",
     "output_type": "stream",
     "text": [
      "Epoch 60, Loss 0.0541\n",
      "Training Accuracy: 0.9474, Testing Accuracy: 0.9592\n",
      "\n"
     ]
    },
    {
     "name": "stdout",
     "output_type": "stream",
     "text": [
      "Epoch 70, Loss 0.0515\n",
      "Training Accuracy: 0.9498, Testing Accuracy: 0.9607\n",
      "\n"
     ]
    },
    {
     "name": "stdout",
     "output_type": "stream",
     "text": [
      "Epoch 80, Loss 0.0494\n",
      "Training Accuracy: 0.9514, Testing Accuracy: 0.9597\n",
      "\n"
     ]
    },
    {
     "name": "stdout",
     "output_type": "stream",
     "text": [
      "Epoch 90, Loss 0.0477\n",
      "Training Accuracy: 0.9527, Testing Accuracy: 0.9607\n",
      "\n"
     ]
    },
    {
     "name": "stdout",
     "output_type": "stream",
     "text": [
      "Epoch 100, Loss 0.0462\n",
      "Training Accuracy: 0.9535, Testing Accuracy: 0.9617\n",
      "\n"
     ]
    },
    {
     "name": "stdout",
     "output_type": "stream",
     "text": [
      "Epoch 110, Loss 0.045\n",
      "Training Accuracy: 0.9547, Testing Accuracy: 0.9622\n",
      "\n"
     ]
    },
    {
     "name": "stdout",
     "output_type": "stream",
     "text": [
      "Epoch 120, Loss 0.0439\n",
      "Training Accuracy: 0.9553, Testing Accuracy: 0.9622\n",
      "\n"
     ]
    },
    {
     "name": "stdout",
     "output_type": "stream",
     "text": [
      "Epoch 130, Loss 0.043\n",
      "Training Accuracy: 0.9559, Testing Accuracy: 0.9622\n",
      "\n"
     ]
    },
    {
     "name": "stdout",
     "output_type": "stream",
     "text": [
      "Epoch 140, Loss 0.0421\n",
      "Training Accuracy: 0.9565, Testing Accuracy: 0.9637\n",
      "\n"
     ]
    },
    {
     "name": "stdout",
     "output_type": "stream",
     "text": [
      "Epoch 150, Loss 0.0414\n",
      "Training Accuracy: 0.9573, Testing Accuracy: 0.9652\n",
      "\n"
     ]
    },
    {
     "name": "stdout",
     "output_type": "stream",
     "text": [
      "Epoch 160, Loss 0.0407\n",
      "Training Accuracy: 0.9576, Testing Accuracy: 0.9652\n",
      "\n"
     ]
    },
    {
     "name": "stdout",
     "output_type": "stream",
     "text": [
      "Epoch 170, Loss 0.0401\n",
      "Training Accuracy: 0.9579, Testing Accuracy: 0.9652\n",
      "\n"
     ]
    },
    {
     "name": "stdout",
     "output_type": "stream",
     "text": [
      "Epoch 180, Loss 0.0396\n",
      "Training Accuracy: 0.9584, Testing Accuracy: 0.9652\n",
      "\n"
     ]
    },
    {
     "name": "stdout",
     "output_type": "stream",
     "text": [
      "Epoch 190, Loss 0.039\n",
      "Training Accuracy: 0.9586, Testing Accuracy: 0.9657\n",
      "\n"
     ]
    },
    {
     "name": "stdout",
     "output_type": "stream",
     "text": [
      "Epoch 200, Loss 0.0386\n",
      "Training Accuracy: 0.9589, Testing Accuracy: 0.9657\n",
      "\n"
     ]
    },
    {
     "name": "stdout",
     "output_type": "stream",
     "text": [
      "Epoch 210, Loss 0.0381\n",
      "Training Accuracy: 0.9594, Testing Accuracy: 0.9657\n",
      "\n"
     ]
    },
    {
     "name": "stdout",
     "output_type": "stream",
     "text": [
      "Epoch 220, Loss 0.0377\n",
      "Training Accuracy: 0.9599, Testing Accuracy: 0.9657\n",
      "\n"
     ]
    },
    {
     "name": "stdout",
     "output_type": "stream",
     "text": [
      "Epoch 230, Loss 0.0373\n",
      "Training Accuracy: 0.9604, Testing Accuracy: 0.9657\n",
      "\n"
     ]
    },
    {
     "name": "stdout",
     "output_type": "stream",
     "text": [
      "Epoch 240, Loss 0.037\n",
      "Training Accuracy: 0.9609, Testing Accuracy: 0.9657\n",
      "\n"
     ]
    },
    {
     "name": "stdout",
     "output_type": "stream",
     "text": [
      "Epoch 250, Loss 0.0366\n",
      "Training Accuracy: 0.9611, Testing Accuracy: 0.9657\n",
      "\n"
     ]
    },
    {
     "data": {
      "text/plain": [
       "0.04007174929420993"
      ]
     },
     "execution_count": 22,
     "metadata": {},
     "output_type": "execute_result"
    }
   ],
   "source": [
    "print(\"====== Logistic Regression ======\")\n",
    "learner_lr.train_loop(dl)"
   ]
  },
  {
   "cell_type": "markdown",
   "metadata": {
    "papermill": {
     "duration": 0.047997,
     "end_time": "2020-08-22T00:07:55.909535",
     "exception": false,
     "start_time": "2020-08-22T00:07:55.861538",
     "status": "completed"
    },
    "tags": []
   },
   "source": [
    "### Comparing results of NN and LR"
   ]
  },
  {
   "cell_type": "code",
   "execution_count": 23,
   "metadata": {
    "execution": {
     "iopub.execute_input": "2020-08-22T00:07:56.007256Z",
     "iopub.status.busy": "2020-08-22T00:07:56.006638Z",
     "iopub.status.idle": "2020-08-22T00:07:56.313847Z",
     "shell.execute_reply": "2020-08-22T00:07:56.313351Z"
    },
    "papermill": {
     "duration": 0.359383,
     "end_time": "2020-08-22T00:07:56.313984",
     "exception": false,
     "start_time": "2020-08-22T00:07:55.954601",
     "status": "completed"
    },
    "tags": []
   },
   "outputs": [
    {
     "data": {
      "text/plain": [
       "<matplotlib.legend.Legend at 0x7f36e0ede7f0>"
      ]
     },
     "execution_count": 23,
     "metadata": {},
     "output_type": "execute_result"
    },
    {
     "data": {
      "image/png": "[encoded data removed]",
      "text/plain": [
       "<Figure size 1080x720 with 1 Axes>"
      ]
     },
     "metadata": {
      "needs_background": "light"
     },
     "output_type": "display_data"
    }
   ],
   "source": [
    "plt.figure(figsize=(15,10))\n",
    "\n",
    "# Neural Network plots\n",
    "plt.plot(acc_nn.accuracies, 'r-', label = \"Training Accuracies - NN\")\n",
    "plt.plot(acc_nn.test_accuracies, 'g-', label = \"Testing Accuracies - NN\")\n",
    "\n",
    "# Logistic Regression plots\n",
    "plt.plot(acc_lr.accuracies, 'k-', label = \"Training Accuracies - LR\")\n",
    "plt.plot(acc_lr.test_accuracies, 'b-', label = \"Testing Accuracies - LR\")\n",
    "\n",
    "plt.ylim(0.8, 1)\n",
    "\n",
    "plt.legend()\n",
    "\n"
   ]
  },
  {
   "cell_type": "markdown",
   "metadata": {
    "papermill": {
     "duration": 0.047214,
     "end_time": "2020-08-22T00:07:56.408794",
     "exception": false,
     "start_time": "2020-08-22T00:07:56.361580",
     "status": "completed"
    },
    "tags": []
   },
   "source": [
    "### From the plot, we can observe the following:\n",
    "- Neural Network achieves higher accuracy than the Logistic Regression model.\n",
    "- This apparently, is because of overfitting, i.e. NN captures more noise than data.\n",
    "- Testing accuracy of NN drops below the Training accuracy at higher epochs. This explains the over-fitting on training data.\n",
    "- Logistic Regression gives a reliable accuracy, without the above mentioned problem.\n"
   ]
  },
  {
   "cell_type": "markdown",
   "metadata": {
    "papermill": {
     "duration": 0.046869,
     "end_time": "2020-08-22T00:07:56.503763",
     "exception": false,
     "start_time": "2020-08-22T00:07:56.456894",
     "status": "completed"
    },
    "tags": []
   },
   "source": [
    "### Moving till the last but one layer (excluding it).\n",
    "#### Plotting the outputs of this layer of the NN."
   ]
  },
  {
   "cell_type": "code",
   "execution_count": 24,
   "metadata": {
    "execution": {
     "iopub.execute_input": "2020-08-22T00:07:56.609082Z",
     "iopub.status.busy": "2020-08-22T00:07:56.606626Z",
     "iopub.status.idle": "2020-08-22T00:07:56.621534Z",
     "shell.execute_reply": "2020-08-22T00:07:56.620630Z"
    },
    "papermill": {
     "duration": 0.071276,
     "end_time": "2020-08-22T00:07:56.621744",
     "exception": false,
     "start_time": "2020-08-22T00:07:56.550468",
     "status": "completed"
    },
    "tags": []
   },
   "outputs": [],
   "source": [
    "model_new = Model(layers[:-2])"
   ]
  },
  {
   "cell_type": "code",
   "execution_count": 25,
   "metadata": {
    "execution": {
     "iopub.execute_input": "2020-08-22T00:07:56.721550Z",
     "iopub.status.busy": "2020-08-22T00:07:56.720964Z",
     "iopub.status.idle": "2020-08-22T00:07:56.741664Z",
     "shell.execute_reply": "2020-08-22T00:07:56.742203Z"
    },
    "papermill": {
     "duration": 0.071608,
     "end_time": "2020-08-22T00:07:56.742361",
     "exception": false,
     "start_time": "2020-08-22T00:07:56.670753",
     "status": "completed"
    },
    "tags": []
   },
   "outputs": [],
   "source": [
    "plot_testing = model_new(testing_xdata)"
   ]
  },
  {
   "cell_type": "code",
   "execution_count": 26,
   "metadata": {
    "execution": {
     "iopub.execute_input": "2020-08-22T00:07:56.844944Z",
     "iopub.status.busy": "2020-08-22T00:07:56.843479Z",
     "iopub.status.idle": "2020-08-22T00:07:57.044805Z",
     "shell.execute_reply": "2020-08-22T00:07:57.044256Z"
    },
    "papermill": {
     "duration": 0.255308,
     "end_time": "2020-08-22T00:07:57.044939",
     "exception": false,
     "start_time": "2020-08-22T00:07:56.789631",
     "status": "completed"
    },
    "tags": []
   },
   "outputs": [
    {
     "data": {
      "text/plain": [
       "Text(0.5, 1.0, 'Outputs')"
      ]
     },
     "execution_count": 26,
     "metadata": {},
     "output_type": "execute_result"
    },
    {
     "data": {
      "image/png": "[encoded data removed]",
      "text/plain": [
       "<Figure size 576x504 with 1 Axes>"
      ]
     },
     "metadata": {
      "needs_background": "light"
     },
     "output_type": "display_data"
    }
   ],
   "source": [
    "plt.figure(figsize=(8,7))\n",
    "plt.scatter(plot_testing[:,0], plot_testing[:,1], alpha = 0.1, c = y_test.ravel());\n",
    "plt.title('Outputs')"
   ]
  },
  {
   "cell_type": "markdown",
   "metadata": {
    "papermill": {
     "duration": 0.051148,
     "end_time": "2020-08-22T00:07:57.146144",
     "exception": false,
     "start_time": "2020-08-22T00:07:57.094996",
     "status": "completed"
    },
    "tags": []
   },
   "source": [
    "### Plotting probability contours"
   ]
  },
  {
   "cell_type": "code",
   "execution_count": 27,
   "metadata": {
    "execution": {
     "iopub.execute_input": "2020-08-22T00:07:57.248678Z",
     "iopub.status.busy": "2020-08-22T00:07:57.248066Z",
     "iopub.status.idle": "2020-08-22T00:07:57.261297Z",
     "shell.execute_reply": "2020-08-22T00:07:57.260781Z"
    },
    "papermill": {
     "duration": 0.066255,
     "end_time": "2020-08-22T00:07:57.261433",
     "exception": false,
     "start_time": "2020-08-22T00:07:57.195178",
     "status": "completed"
    },
    "tags": []
   },
   "outputs": [],
   "source": [
    "model_prob = Model(layers[-2:]) "
   ]
  },
  {
   "cell_type": "code",
   "execution_count": 28,
   "metadata": {
    "execution": {
     "iopub.execute_input": "2020-08-22T00:07:57.365393Z",
     "iopub.status.busy": "2020-08-22T00:07:57.364773Z",
     "iopub.status.idle": "2020-08-22T00:07:57.379928Z",
     "shell.execute_reply": "2020-08-22T00:07:57.381422Z"
    },
    "papermill": {
     "duration": 0.070352,
     "end_time": "2020-08-22T00:07:57.381590",
     "exception": false,
     "start_time": "2020-08-22T00:07:57.311238",
     "status": "completed"
    },
    "tags": []
   },
   "outputs": [],
   "source": [
    "# Adjust the x and y ranges according to the above generated plot.\n",
    "x_range = np.linspace(-4, 1, 100) \n",
    "y_range = np.linspace(-6, 6, 100) \n",
    "x_grid, y_grid = np.meshgrid(x_range, y_range) # x_grid and y_grig are of size 100 X 100\n",
    "\n",
    "# converting x_grid and y_grid to continuous arrays\n",
    "x_grid_flat = np.ravel(x_grid)\n",
    "y_grid_flat = np.ravel(y_grid)\n",
    "\n",
    "# The last layer of the current model takes two columns as input. Hence transpose of np.vstack() is required.\n",
    "X = np.vstack((x_grid_flat, y_grid_flat)).T\n",
    "\n",
    "# x_grid and y_grid are of size 100 x 100\n",
    "probability_contour = model_prob(X).reshape(100,100) "
   ]
  },
  {
   "cell_type": "code",
   "execution_count": 29,
   "metadata": {
    "execution": {
     "iopub.execute_input": "2020-08-22T00:07:57.485618Z",
     "iopub.status.busy": "2020-08-22T00:07:57.485016Z",
     "iopub.status.idle": "2020-08-22T00:07:57.740312Z",
     "shell.execute_reply": "2020-08-22T00:07:57.740793Z"
    },
    "papermill": {
     "duration": 0.309094,
     "end_time": "2020-08-22T00:07:57.740946",
     "exception": false,
     "start_time": "2020-08-22T00:07:57.431852",
     "status": "completed"
    },
    "tags": []
   },
   "outputs": [
    {
     "data": {
      "image/png": "[encoded data removed]",
      "text/plain": [
       "<Figure size 720x648 with 1 Axes>"
      ]
     },
     "metadata": {
      "needs_background": "light"
     },
     "output_type": "display_data"
    }
   ],
   "source": [
    "plt.figure(figsize=(10,9))\n",
    "plt.scatter(plot_testing[:,0], plot_testing[:,1], alpha = 0.1, c = y_test.ravel())\n",
    "contours = plt.contour(x_grid,y_grid,probability_contour)\n",
    "plt.title('Probability Contours')\n",
    "plt.clabel(contours, inline = True );"
   ]
  }
 ],
 "metadata": {
  "kernelspec": {
   "display_name": "Python 3",
   "language": "python",
   "name": "python3"
  },
  "language_info": {
   "codemirror_mode": {
    "name": "ipython",
    "version": 3
   },
   "file_extension": ".py",
   "mimetype": "text/x-python",
   "name": "python",
   "nbconvert_exporter": "python",
   "pygments_lexer": "ipython3",
   "version": "3.6.11"
  },
  "papermill": {
   "duration": 114.278947,
   "end_time": "2020-08-22T00:07:58.211493",
   "environment_variables": {},
   "exception": null,
   "input_path": "2020-08-11-NeuralNetwork.ipynb",
   "output_path": "2020-08-11-NeuralNetwork.ipynb",
   "parameters": {},
   "start_time": "2020-08-22T00:06:03.932546",
   "version": "2.1.2"
  }
 },
 "nbformat": 4,
 "nbformat_minor": 4
}