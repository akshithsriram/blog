{
 "cells": [
  {
   "cell_type": "markdown",
   "metadata": {
    "papermill": {
     "duration": 0.028539,
     "end_time": "2021-01-20T20:32:56.715870",
     "exception": false,
     "start_time": "2021-01-20T20:32:56.687331",
     "status": "completed"
    },
    "tags": []
   },
   "source": [
    "# \"A Basic Neural Network: Differentiate Hand-Written Digits\"\n",
    "\n",
    "- badges: true\n",
    "- author: Akshith Sriram"
   ]
  },
  {
   "cell_type": "markdown",
   "metadata": {
    "papermill": {
     "duration": 0.026233,
     "end_time": "2021-01-20T20:32:56.769766",
     "exception": false,
     "start_time": "2021-01-20T20:32:56.743533",
     "status": "completed"
    },
    "tags": []
   },
   "source": [
    "### Key Objectives:\n",
    "- Building a neural network that differentiates two hand-written digits 3 and 8.\n",
    "- Comparing the results of this Neural Network (NN) to that of a Logistic Regression (LR) model.\n",
    "\n",
    "### Requirements:\n",
    "- 'Kudzu' : A neural network library that was designed during our course by [Univ.AI](www.univ.ai). \n",
    "- MNIST Database\n",
    "\n",
    "If MNIST is not installed, use the command `!pip install mnist` given below.\n",
    "It can be run both from the command line and Jupyter Notebook."
   ]
  },
  {
   "cell_type": "code",
   "execution_count": 1,
   "metadata": {
    "execution": {
     "iopub.execute_input": "2021-01-20T20:32:56.828814Z",
     "iopub.status.busy": "2021-01-20T20:32:56.828232Z",
     "iopub.status.idle": "2021-01-20T20:32:58.500739Z",
     "shell.execute_reply": "2021-01-20T20:32:58.501212Z"
    },
    "papermill": {
     "duration": 1.706466,
     "end_time": "2021-01-20T20:32:58.501380",
     "exception": false,
     "start_time": "2021-01-20T20:32:56.794914",
     "status": "completed"
    },
    "tags": []
   },
   "outputs": [
    {
     "name": "stdout",
     "output_type": "stream",
     "text": [
      "Collecting mnist\r\n"
     ]
    },
    {
     "name": "stdout",
     "output_type": "stream",
     "text": [
      "  Downloading mnist-0.2.2-py2.py3-none-any.whl (3.5 kB)\r\n",
      "Requirement already satisfied: numpy in /opt/hostedtoolcache/Python/3.6.12/x64/lib/python3.6/site-packages (from mnist) (1.19.5)\r\n"
     ]
    },
    {
     "name": "stdout",
     "output_type": "stream",
     "text": [
      "Installing collected packages: mnist\r\n"
     ]
    },
    {
     "name": "stdout",
     "output_type": "stream",
     "text": [
      "Successfully installed mnist-0.2.2\r\n"
     ]
    },
    {
     "name": "stdout",
     "output_type": "stream",
     "text": [
      "\u001b[33mWARNING: You are using pip version 20.3.1; however, version 20.3.3 is available.\r\n",
      "You should consider upgrading via the '/opt/hostedtoolcache/Python/3.6.12/x64/bin/python -m pip install --upgrade pip' command.\u001b[0m\r\n"
     ]
    }
   ],
   "source": [
    "!pip install mnist "
   ]
  },
  {
   "cell_type": "markdown",
   "metadata": {
    "papermill": {
     "duration": 0.027216,
     "end_time": "2021-01-20T20:32:58.555834",
     "exception": false,
     "start_time": "2021-01-20T20:32:58.528618",
     "status": "completed"
    },
    "tags": []
   },
   "source": [
    "#### Importing necessary libraries"
   ]
  },
  {
   "cell_type": "code",
   "execution_count": 2,
   "metadata": {
    "execution": {
     "iopub.execute_input": "2021-01-20T20:32:58.615055Z",
     "iopub.status.busy": "2021-01-20T20:32:58.614376Z",
     "iopub.status.idle": "2021-01-20T20:32:59.169397Z",
     "shell.execute_reply": "2021-01-20T20:32:59.168436Z"
    },
    "papermill": {
     "duration": 0.588048,
     "end_time": "2021-01-20T20:32:59.169524",
     "exception": false,
     "start_time": "2021-01-20T20:32:58.581476",
     "status": "completed"
    },
    "tags": []
   },
   "outputs": [],
   "source": [
    "%load_ext autoreload\n",
    "%autoreload 2\n",
    "\n",
    "%matplotlib inline\n",
    "import matplotlib.pyplot as plt\n",
    "\n",
    "import numpy as np\n",
    "import pandas as pd"
   ]
  },
  {
   "cell_type": "markdown",
   "metadata": {
    "papermill": {
     "duration": 0.040187,
     "end_time": "2021-01-20T20:32:59.239241",
     "exception": false,
     "start_time": "2021-01-20T20:32:59.199054",
     "status": "completed"
    },
    "tags": []
   },
   "source": [
    "### Preparing the Data"
   ]
  },
  {
   "cell_type": "code",
   "execution_count": 3,
   "metadata": {
    "execution": {
     "iopub.execute_input": "2021-01-20T20:32:59.338249Z",
     "iopub.status.busy": "2021-01-20T20:32:59.337626Z",
     "iopub.status.idle": "2021-01-20T20:32:59.353025Z",
     "shell.execute_reply": "2021-01-20T20:32:59.354250Z"
    },
    "papermill": {
     "duration": 0.065638,
     "end_time": "2021-01-20T20:32:59.354415",
     "exception": false,
     "start_time": "2021-01-20T20:32:59.288777",
     "status": "completed"
    },
    "tags": []
   },
   "outputs": [],
   "source": [
    "import mnist"
   ]
  },
  {
   "cell_type": "code",
   "execution_count": 4,
   "metadata": {
    "execution": {
     "iopub.execute_input": "2021-01-20T20:32:59.422174Z",
     "iopub.status.busy": "2021-01-20T20:32:59.421429Z",
     "iopub.status.idle": "2021-01-20T20:33:01.148355Z",
     "shell.execute_reply": "2021-01-20T20:33:01.147245Z"
    },
    "papermill": {
     "duration": 1.765422,
     "end_time": "2021-01-20T20:33:01.148498",
     "exception": false,
     "start_time": "2021-01-20T20:32:59.383076",
     "status": "completed"
    },
    "tags": []
   },
   "outputs": [],
   "source": [
    "train_images = mnist.train_images()\n",
    "train_labels = mnist.train_labels()"
   ]
  },
  {
   "cell_type": "code",
   "execution_count": 5,
   "metadata": {
    "execution": {
     "iopub.execute_input": "2021-01-20T20:33:01.202842Z",
     "iopub.status.busy": "2021-01-20T20:33:01.202276Z",
     "iopub.status.idle": "2021-01-20T20:33:01.215164Z",
     "shell.execute_reply": "2021-01-20T20:33:01.214607Z"
    },
    "papermill": {
     "duration": 0.042871,
     "end_time": "2021-01-20T20:33:01.215284",
     "exception": false,
     "start_time": "2021-01-20T20:33:01.172413",
     "status": "completed"
    },
    "tags": []
   },
   "outputs": [
    {
     "data": {
      "text/plain": [
       "((60000, 28, 28), (60000,))"
      ]
     },
     "execution_count": 5,
     "metadata": {},
     "output_type": "execute_result"
    }
   ],
   "source": [
    "train_images.shape, train_labels.shape"
   ]
  },
  {
   "cell_type": "code",
   "execution_count": 6,
   "metadata": {
    "execution": {
     "iopub.execute_input": "2021-01-20T20:33:01.270506Z",
     "iopub.status.busy": "2021-01-20T20:33:01.269716Z",
     "iopub.status.idle": "2021-01-20T20:33:02.273339Z",
     "shell.execute_reply": "2021-01-20T20:33:02.272509Z"
    },
    "papermill": {
     "duration": 1.032089,
     "end_time": "2021-01-20T20:33:02.273467",
     "exception": false,
     "start_time": "2021-01-20T20:33:01.241378",
     "status": "completed"
    },
    "tags": []
   },
   "outputs": [],
   "source": [
    "test_images = mnist.test_images()\n",
    "test_labels = mnist.test_labels()"
   ]
  },
  {
   "cell_type": "code",
   "execution_count": 7,
   "metadata": {
    "execution": {
     "iopub.execute_input": "2021-01-20T20:33:02.330091Z",
     "iopub.status.busy": "2021-01-20T20:33:02.329555Z",
     "iopub.status.idle": "2021-01-20T20:33:02.342268Z",
     "shell.execute_reply": "2021-01-20T20:33:02.341695Z"
    },
    "papermill": {
     "duration": 0.043232,
     "end_time": "2021-01-20T20:33:02.342395",
     "exception": false,
     "start_time": "2021-01-20T20:33:02.299163",
     "status": "completed"
    },
    "tags": []
   },
   "outputs": [
    {
     "data": {
      "text/plain": [
       "((10000, 28, 28), (10000,))"
      ]
     },
     "execution_count": 7,
     "metadata": {},
     "output_type": "execute_result"
    }
   ],
   "source": [
    "test_images.shape, test_labels.shape"
   ]
  },
  {
   "cell_type": "code",
   "execution_count": 8,
   "metadata": {
    "execution": {
     "iopub.execute_input": "2021-01-20T20:33:02.397453Z",
     "iopub.status.busy": "2021-01-20T20:33:02.396905Z",
     "iopub.status.idle": "2021-01-20T20:33:02.550751Z",
     "shell.execute_reply": "2021-01-20T20:33:02.551155Z"
    },
    "papermill": {
     "duration": 0.184678,
     "end_time": "2021-01-20T20:33:02.551557",
     "exception": false,
     "start_time": "2021-01-20T20:33:02.366879",
     "status": "completed"
    },
    "tags": []
   },
   "outputs": [
    {
     "name": "stdout",
     "output_type": "stream",
     "text": [
      "2\n"
     ]
    },
    {
     "data": {
      "text/plain": [
       "<matplotlib.image.AxesImage at 0x7fe9e50e0898>"
      ]
     },
     "execution_count": 8,
     "metadata": {},
     "output_type": "execute_result"
    },
    {
     "data": {
      "image/png": "[encoded data removed]",
      "text/plain": [
       "<Figure size 432x288 with 1 Axes>"
      ]
     },
     "metadata": {
      "needs_background": "light"
     },
     "output_type": "display_data"
    }
   ],
   "source": [
    "image_index = 7776 # You may select anything up to 60,000\n",
    "print(train_labels[image_index]) \n",
    "plt.imshow(train_images[image_index], cmap='Greys')"
   ]
  },
  {
   "cell_type": "markdown",
   "metadata": {
    "papermill": {
     "duration": 0.028662,
     "end_time": "2021-01-20T20:33:02.607402",
     "exception": false,
     "start_time": "2021-01-20T20:33:02.578740",
     "status": "completed"
    },
    "tags": []
   },
   "source": [
    "## Filter data to get 3 and 8 out"
   ]
  },
  {
   "cell_type": "code",
   "execution_count": 9,
   "metadata": {
    "execution": {
     "iopub.execute_input": "2021-01-20T20:33:02.669473Z",
     "iopub.status.busy": "2021-01-20T20:33:02.665845Z",
     "iopub.status.idle": "2021-01-20T20:33:02.684742Z",
     "shell.execute_reply": "2021-01-20T20:33:02.685251Z"
    },
    "papermill": {
     "duration": 0.049659,
     "end_time": "2021-01-20T20:33:02.685417",
     "exception": false,
     "start_time": "2021-01-20T20:33:02.635758",
     "status": "completed"
    },
    "tags": []
   },
   "outputs": [],
   "source": [
    "train_filter = np.where((train_labels == 3 ) | (train_labels == 8))\n",
    "test_filter = np.where((test_labels == 3) | (test_labels == 8))\n",
    "X_train, y_train = train_images[train_filter], train_labels[train_filter]\n",
    "X_test, y_test = test_images[test_filter], test_labels[test_filter]"
   ]
  },
  {
   "cell_type": "markdown",
   "metadata": {
    "papermill": {
     "duration": 0.026153,
     "end_time": "2021-01-20T20:33:02.738893",
     "exception": false,
     "start_time": "2021-01-20T20:33:02.712740",
     "status": "completed"
    },
    "tags": []
   },
   "source": [
    "We normalize the pixel values in the 0 to 1 range"
   ]
  },
  {
   "cell_type": "code",
   "execution_count": 10,
   "metadata": {
    "execution": {
     "iopub.execute_input": "2021-01-20T20:33:02.807881Z",
     "iopub.status.busy": "2021-01-20T20:33:02.800380Z",
     "iopub.status.idle": "2021-01-20T20:33:02.868064Z",
     "shell.execute_reply": "2021-01-20T20:33:02.861091Z"
    },
    "papermill": {
     "duration": 0.100568,
     "end_time": "2021-01-20T20:33:02.868272",
     "exception": false,
     "start_time": "2021-01-20T20:33:02.767704",
     "status": "completed"
    },
    "tags": []
   },
   "outputs": [],
   "source": [
    "X_train = X_train/255.\n",
    "X_test = X_test/255."
   ]
  },
  {
   "cell_type": "markdown",
   "metadata": {
    "papermill": {
     "duration": 0.027093,
     "end_time": "2021-01-20T20:33:02.923472",
     "exception": false,
     "start_time": "2021-01-20T20:33:02.896379",
     "status": "completed"
    },
    "tags": []
   },
   "source": [
    "Setup the labels as 1 (when the digit is 3) and 0 (when the digit is 8)"
   ]
  },
  {
   "cell_type": "code",
   "execution_count": 11,
   "metadata": {
    "execution": {
     "iopub.execute_input": "2021-01-20T20:33:02.985087Z",
     "iopub.status.busy": "2021-01-20T20:33:02.984395Z",
     "iopub.status.idle": "2021-01-20T20:33:02.995390Z",
     "shell.execute_reply": "2021-01-20T20:33:02.995912Z"
    },
    "papermill": {
     "duration": 0.045649,
     "end_time": "2021-01-20T20:33:02.996081",
     "exception": false,
     "start_time": "2021-01-20T20:33:02.950432",
     "status": "completed"
    },
    "tags": []
   },
   "outputs": [],
   "source": [
    "y_train = 1*(y_train==3)\n",
    "y_test = 1*(y_test==3)"
   ]
  },
  {
   "cell_type": "code",
   "execution_count": 12,
   "metadata": {
    "execution": {
     "iopub.execute_input": "2021-01-20T20:33:03.067586Z",
     "iopub.status.busy": "2021-01-20T20:33:03.066762Z",
     "iopub.status.idle": "2021-01-20T20:33:03.074881Z",
     "shell.execute_reply": "2021-01-20T20:33:03.074315Z"
    },
    "papermill": {
     "duration": 0.04987,
     "end_time": "2021-01-20T20:33:03.075023",
     "exception": false,
     "start_time": "2021-01-20T20:33:03.025153",
     "status": "completed"
    },
    "tags": []
   },
   "outputs": [
    {
     "data": {
      "text/plain": [
       "((11982, 28, 28), (1984, 28, 28))"
      ]
     },
     "execution_count": 12,
     "metadata": {},
     "output_type": "execute_result"
    }
   ],
   "source": [
    "X_train.shape, X_test.shape"
   ]
  },
  {
   "cell_type": "markdown",
   "metadata": {
    "papermill": {
     "duration": 0.028521,
     "end_time": "2021-01-20T20:33:03.130884",
     "exception": false,
     "start_time": "2021-01-20T20:33:03.102363",
     "status": "completed"
    },
    "tags": []
   },
   "source": [
    "### Reshape the input data to create a linear array"
   ]
  },
  {
   "cell_type": "code",
   "execution_count": 13,
   "metadata": {
    "execution": {
     "iopub.execute_input": "2021-01-20T20:33:03.203704Z",
     "iopub.status.busy": "2021-01-20T20:33:03.197313Z",
     "iopub.status.idle": "2021-01-20T20:33:03.211579Z",
     "shell.execute_reply": "2021-01-20T20:33:03.211099Z"
    },
    "papermill": {
     "duration": 0.048579,
     "end_time": "2021-01-20T20:33:03.211706",
     "exception": false,
     "start_time": "2021-01-20T20:33:03.163127",
     "status": "completed"
    },
    "tags": []
   },
   "outputs": [
    {
     "data": {
      "text/plain": [
       "((11982, 784), (1984, 784))"
      ]
     },
     "execution_count": 13,
     "metadata": {},
     "output_type": "execute_result"
    }
   ],
   "source": [
    "X_train = X_train.reshape(X_train.shape[0], -1)\n",
    "X_test = X_test.reshape(X_test.shape[0], -1)\n",
    "X_train.shape, X_test.shape"
   ]
  },
  {
   "cell_type": "markdown",
   "metadata": {
    "papermill": {
     "duration": 0.030766,
     "end_time": "2021-01-20T20:33:03.271237",
     "exception": false,
     "start_time": "2021-01-20T20:33:03.240471",
     "status": "completed"
    },
    "tags": []
   },
   "source": [
    "### Importing appropriate functions from 'Kudzu'"
   ]
  },
  {
   "cell_type": "code",
   "execution_count": 14,
   "metadata": {
    "execution": {
     "iopub.execute_input": "2021-01-20T20:33:03.337578Z",
     "iopub.status.busy": "2021-01-20T20:33:03.336700Z",
     "iopub.status.idle": "2021-01-20T20:33:03.360819Z",
     "shell.execute_reply": "2021-01-20T20:33:03.360267Z"
    },
    "papermill": {
     "duration": 0.058455,
     "end_time": "2021-01-20T20:33:03.360974",
     "exception": false,
     "start_time": "2021-01-20T20:33:03.302519",
     "status": "completed"
    },
    "tags": []
   },
   "outputs": [],
   "source": [
    "from kudzu.layer import Sigmoid\n",
    "from kudzu.layer import Relu\n",
    "from kudzu.layer import Affine, Sigmoid\n",
    "\n",
    "from kudzu.model import Model\n",
    "from kudzu.train import Learner\n",
    "from kudzu.optim import GD\n",
    "from kudzu.data import Data, Dataloader, Sampler\n",
    "\n",
    "from kudzu.callbacks import AccCallback\n",
    "from kudzu.callbacks import ClfCallback\n",
    "\n",
    "from kudzu.loss import MSE"
   ]
  },
  {
   "cell_type": "markdown",
   "metadata": {
    "papermill": {
     "duration": 0.029827,
     "end_time": "2021-01-20T20:33:03.421317",
     "exception": false,
     "start_time": "2021-01-20T20:33:03.391490",
     "status": "completed"
    },
    "tags": []
   },
   "source": [
    "### Let us create a `Config` class, to store important parameters. \n",
    "This class essentially plays the role of a dictionary."
   ]
  },
  {
   "cell_type": "code",
   "execution_count": 15,
   "metadata": {
    "execution": {
     "iopub.execute_input": "2021-01-20T20:33:03.487752Z",
     "iopub.status.busy": "2021-01-20T20:33:03.487168Z",
     "iopub.status.idle": "2021-01-20T20:33:03.496862Z",
     "shell.execute_reply": "2021-01-20T20:33:03.497404Z"
    },
    "papermill": {
     "duration": 0.045919,
     "end_time": "2021-01-20T20:33:03.497537",
     "exception": false,
     "start_time": "2021-01-20T20:33:03.451618",
     "status": "completed"
    },
    "tags": []
   },
   "outputs": [],
   "source": [
    "class Config:\n",
    "    pass\n",
    "config = Config()\n",
    "config.lr = 0.001\n",
    "config.num_epochs = 251\n",
    "config.bs = 50"
   ]
  },
  {
   "cell_type": "markdown",
   "metadata": {
    "papermill": {
     "duration": 0.027043,
     "end_time": "2021-01-20T20:33:03.553030",
     "exception": false,
     "start_time": "2021-01-20T20:33:03.525987",
     "status": "completed"
    },
    "tags": []
   },
   "source": [
    "### Initializing data to the variables"
   ]
  },
  {
   "cell_type": "code",
   "execution_count": 16,
   "metadata": {
    "execution": {
     "iopub.execute_input": "2021-01-20T20:33:03.614390Z",
     "iopub.status.busy": "2021-01-20T20:33:03.613555Z",
     "iopub.status.idle": "2021-01-20T20:33:03.626026Z",
     "shell.execute_reply": "2021-01-20T20:33:03.626485Z"
    },
    "papermill": {
     "duration": 0.044533,
     "end_time": "2021-01-20T20:33:03.626616",
     "exception": false,
     "start_time": "2021-01-20T20:33:03.582083",
     "status": "completed"
    },
    "tags": []
   },
   "outputs": [],
   "source": [
    "data = Data(X_train, y_train.reshape(-1,1))\n",
    "sampler = Sampler(data, config.bs, shuffle=True)\n",
    "\n",
    "dl = Dataloader(data, sampler)\n",
    "\n",
    "opt = GD(config.lr)\n",
    "loss = MSE()"
   ]
  },
  {
   "cell_type": "code",
   "execution_count": 17,
   "metadata": {
    "execution": {
     "iopub.execute_input": "2021-01-20T20:33:03.695653Z",
     "iopub.status.busy": "2021-01-20T20:33:03.694373Z",
     "iopub.status.idle": "2021-01-20T20:33:03.704781Z",
     "shell.execute_reply": "2021-01-20T20:33:03.704276Z"
    },
    "papermill": {
     "duration": 0.049778,
     "end_time": "2021-01-20T20:33:03.704942",
     "exception": false,
     "start_time": "2021-01-20T20:33:03.655164",
     "status": "completed"
    },
    "tags": []
   },
   "outputs": [],
   "source": [
    "training_xdata = X_train\n",
    "testing_xdata = X_test\n",
    "training_ydata = y_train.reshape(-1,1)\n",
    "testing_ydata = y_test.reshape(-1,1)"
   ]
  },
  {
   "cell_type": "markdown",
   "metadata": {
    "papermill": {
     "duration": 0.032665,
     "end_time": "2021-01-20T20:33:03.764637",
     "exception": false,
     "start_time": "2021-01-20T20:33:03.731972",
     "status": "completed"
    },
    "tags": []
   },
   "source": [
    "### Running Models with the Training data\n",
    "Details about the network layers:\n",
    "- A first affine layer has 784 inputs and does 100 affine transforms. These are followed by a Relu\n",
    "- A second affine layer has 100 inputs from the 100 activations of the past layer, and does 100 affine transforms. These are followed by a Relu\n",
    "- A third affine layer has 100 activations and does 2 affine transformations to create an embedding for visualization. There is no non-linearity here.\n",
    "- A final \"logistic regression\" which has an affine transform from 2 inputs to 1 output, which is squeezed through a sigmoid.\n",
    "\n",
    "Help taken from Anshuman's Notebook."
   ]
  },
  {
   "cell_type": "code",
   "execution_count": 18,
   "metadata": {
    "execution": {
     "iopub.execute_input": "2021-01-20T20:33:03.830211Z",
     "iopub.status.busy": "2021-01-20T20:33:03.829625Z",
     "iopub.status.idle": "2021-01-20T20:33:03.846318Z",
     "shell.execute_reply": "2021-01-20T20:33:03.845766Z"
    },
    "papermill": {
     "duration": 0.052895,
     "end_time": "2021-01-20T20:33:03.846487",
     "exception": false,
     "start_time": "2021-01-20T20:33:03.793592",
     "status": "completed"
    },
    "tags": []
   },
   "outputs": [],
   "source": [
    "# layers for the Neural Network\n",
    "layers = [Affine(\"first\", 784, 100), Relu(\"first\"), Affine(\"second\", 100, 100), Relu(\"second\"), Affine(\"third\", 100, 2), Affine(\"final\", 2, 1), Sigmoid(\"final\")]\n",
    "model_nn = Model(layers)\n",
    "\n",
    "# layers for the Logistic Regression\n",
    "layers_lr = [Affine(\"logits\", 784, 1), Sigmoid(\"sigmoid\")]\n",
    "model_lr = Model(layers_lr)"
   ]
  },
  {
   "cell_type": "code",
   "execution_count": 19,
   "metadata": {
    "execution": {
     "iopub.execute_input": "2021-01-20T20:33:03.909804Z",
     "iopub.status.busy": "2021-01-20T20:33:03.909214Z",
     "iopub.status.idle": "2021-01-20T20:33:03.920503Z",
     "shell.execute_reply": "2021-01-20T20:33:03.920983Z"
    },
    "papermill": {
     "duration": 0.045772,
     "end_time": "2021-01-20T20:33:03.921105",
     "exception": false,
     "start_time": "2021-01-20T20:33:03.875333",
     "status": "completed"
    },
    "tags": []
   },
   "outputs": [],
   "source": [
    "# suffix _nn stands for Neural Network.\n",
    "learner_nn = Learner(loss, model_nn, opt, config.num_epochs)\n",
    "acc_nn = ClfCallback(learner_nn, config.bs, training_xdata , testing_xdata, training_ydata, testing_ydata)\n",
    "learner_nn.set_callbacks([acc_nn])"
   ]
  },
  {
   "cell_type": "code",
   "execution_count": 20,
   "metadata": {
    "execution": {
     "iopub.execute_input": "2021-01-20T20:33:03.985048Z",
     "iopub.status.busy": "2021-01-20T20:33:03.984437Z",
     "iopub.status.idle": "2021-01-20T20:35:22.288744Z",
     "shell.execute_reply": "2021-01-20T20:35:22.289476Z"
    },
    "papermill": {
     "duration": 138.340877,
     "end_time": "2021-01-20T20:35:22.289702",
     "exception": false,
     "start_time": "2021-01-20T20:33:03.948825",
     "status": "completed"
    },
    "tags": []
   },
   "outputs": [
    {
     "name": "stdout",
     "output_type": "stream",
     "text": [
      "====== Neural Network ======\n"
     ]
    },
    {
     "name": "stdout",
     "output_type": "stream",
     "text": [
      "Epoch 0, Loss 0.2567\n",
      "Training Accuracy: 0.6387, Testing Accuracy: 0.6391\n",
      "\n"
     ]
    },
    {
     "name": "stdout",
     "output_type": "stream",
     "text": [
      "Epoch 10, Loss 0.0724\n",
      "Training Accuracy: 0.9270, Testing Accuracy: 0.9380\n",
      "\n"
     ]
    },
    {
     "name": "stdout",
     "output_type": "stream",
     "text": [
      "Epoch 20, Loss 0.0463\n",
      "Training Accuracy: 0.9518, Testing Accuracy: 0.9642\n",
      "\n"
     ]
    },
    {
     "name": "stdout",
     "output_type": "stream",
     "text": [
      "Epoch 30, Loss 0.0372\n",
      "Training Accuracy: 0.9607, Testing Accuracy: 0.9672\n",
      "\n"
     ]
    },
    {
     "name": "stdout",
     "output_type": "stream",
     "text": [
      "Epoch 40, Loss 0.0326\n",
      "Training Accuracy: 0.9643, Testing Accuracy: 0.9688\n",
      "\n"
     ]
    },
    {
     "name": "stdout",
     "output_type": "stream",
     "text": [
      "Epoch 50, Loss 0.0298\n",
      "Training Accuracy: 0.9671, Testing Accuracy: 0.9718\n",
      "\n"
     ]
    },
    {
     "name": "stdout",
     "output_type": "stream",
     "text": [
      "Epoch 60, Loss 0.0278\n",
      "Training Accuracy: 0.9694, Testing Accuracy: 0.9733\n",
      "\n"
     ]
    },
    {
     "name": "stdout",
     "output_type": "stream",
     "text": [
      "Epoch 70, Loss 0.0262\n",
      "Training Accuracy: 0.9707, Testing Accuracy: 0.9733\n",
      "\n"
     ]
    },
    {
     "name": "stdout",
     "output_type": "stream",
     "text": [
      "Epoch 80, Loss 0.025\n",
      "Training Accuracy: 0.9724, Testing Accuracy: 0.9743\n",
      "\n"
     ]
    },
    {
     "name": "stdout",
     "output_type": "stream",
     "text": [
      "Epoch 90, Loss 0.0239\n",
      "Training Accuracy: 0.9732, Testing Accuracy: 0.9753\n",
      "\n"
     ]
    },
    {
     "name": "stdout",
     "output_type": "stream",
     "text": [
      "Epoch 100, Loss 0.023\n",
      "Training Accuracy: 0.9745, Testing Accuracy: 0.9763\n",
      "\n"
     ]
    },
    {
     "name": "stdout",
     "output_type": "stream",
     "text": [
      "Epoch 110, Loss 0.0222\n",
      "Training Accuracy: 0.9753, Testing Accuracy: 0.9773\n",
      "\n"
     ]
    },
    {
     "name": "stdout",
     "output_type": "stream",
     "text": [
      "Epoch 120, Loss 0.0215\n",
      "Training Accuracy: 0.9760, Testing Accuracy: 0.9778\n",
      "\n"
     ]
    },
    {
     "name": "stdout",
     "output_type": "stream",
     "text": [
      "Epoch 130, Loss 0.0209\n",
      "Training Accuracy: 0.9765, Testing Accuracy: 0.9778\n",
      "\n"
     ]
    },
    {
     "name": "stdout",
     "output_type": "stream",
     "text": [
      "Epoch 140, Loss 0.0203\n",
      "Training Accuracy: 0.9771, Testing Accuracy: 0.9768\n",
      "\n"
     ]
    },
    {
     "name": "stdout",
     "output_type": "stream",
     "text": [
      "Epoch 150, Loss 0.0198\n",
      "Training Accuracy: 0.9781, Testing Accuracy: 0.9773\n",
      "\n"
     ]
    },
    {
     "name": "stdout",
     "output_type": "stream",
     "text": [
      "Epoch 160, Loss 0.0193\n",
      "Training Accuracy: 0.9786, Testing Accuracy: 0.9778\n",
      "\n"
     ]
    },
    {
     "name": "stdout",
     "output_type": "stream",
     "text": [
      "Epoch 170, Loss 0.0188\n",
      "Training Accuracy: 0.9791, Testing Accuracy: 0.9783\n",
      "\n"
     ]
    },
    {
     "name": "stdout",
     "output_type": "stream",
     "text": [
      "Epoch 180, Loss 0.0183\n",
      "Training Accuracy: 0.9793, Testing Accuracy: 0.9783\n",
      "\n"
     ]
    },
    {
     "name": "stdout",
     "output_type": "stream",
     "text": [
      "Epoch 190, Loss 0.0179\n",
      "Training Accuracy: 0.9800, Testing Accuracy: 0.9783\n",
      "\n"
     ]
    },
    {
     "name": "stdout",
     "output_type": "stream",
     "text": [
      "Epoch 200, Loss 0.0174\n",
      "Training Accuracy: 0.9803, Testing Accuracy: 0.9783\n",
      "\n"
     ]
    },
    {
     "name": "stdout",
     "output_type": "stream",
     "text": [
      "Epoch 210, Loss 0.017\n",
      "Training Accuracy: 0.9808, Testing Accuracy: 0.9788\n",
      "\n"
     ]
    },
    {
     "name": "stdout",
     "output_type": "stream",
     "text": [
      "Epoch 220, Loss 0.0166\n",
      "Training Accuracy: 0.9814, Testing Accuracy: 0.9788\n",
      "\n"
     ]
    },
    {
     "name": "stdout",
     "output_type": "stream",
     "text": [
      "Epoch 230, Loss 0.0163\n",
      "Training Accuracy: 0.9821, Testing Accuracy: 0.9793\n",
      "\n"
     ]
    },
    {
     "name": "stdout",
     "output_type": "stream",
     "text": [
      "Epoch 240, Loss 0.0159\n",
      "Training Accuracy: 0.9825, Testing Accuracy: 0.9793\n",
      "\n"
     ]
    },
    {
     "name": "stdout",
     "output_type": "stream",
     "text": [
      "Epoch 250, Loss 0.0155\n",
      "Training Accuracy: 0.9830, Testing Accuracy: 0.9798\n",
      "\n"
     ]
    },
    {
     "data": {
      "text/plain": [
       "0.021648351673793118"
      ]
     },
     "execution_count": 20,
     "metadata": {},
     "output_type": "execute_result"
    }
   ],
   "source": [
    "print(\"====== Neural Network ======\")\n",
    "learner_nn.train_loop(dl)"
   ]
  },
  {
   "cell_type": "markdown",
   "metadata": {
    "papermill": {
     "duration": 0.042363,
     "end_time": "2021-01-20T20:35:22.373529",
     "exception": false,
     "start_time": "2021-01-20T20:35:22.331166",
     "status": "completed"
    },
    "tags": []
   },
   "source": [
    "### Logistic Regression based Implementation."
   ]
  },
  {
   "cell_type": "code",
   "execution_count": 21,
   "metadata": {
    "execution": {
     "iopub.execute_input": "2021-01-20T20:35:22.471346Z",
     "iopub.status.busy": "2021-01-20T20:35:22.470746Z",
     "iopub.status.idle": "2021-01-20T20:35:22.480208Z",
     "shell.execute_reply": "2021-01-20T20:35:22.479556Z"
    },
    "papermill": {
     "duration": 0.063445,
     "end_time": "2021-01-20T20:35:22.480336",
     "exception": false,
     "start_time": "2021-01-20T20:35:22.416891",
     "status": "completed"
    },
    "tags": []
   },
   "outputs": [],
   "source": [
    "learner_lr = Learner(loss, model_lr, opt, config.num_epochs)\n",
    "acc_lr = ClfCallback(learner_lr, config.bs, training_xdata , testing_xdata, training_ydata, testing_ydata)\n",
    "learner_lr.set_callbacks([acc_lr])"
   ]
  },
  {
   "cell_type": "code",
   "execution_count": 22,
   "metadata": {
    "execution": {
     "iopub.execute_input": "2021-01-20T20:35:22.562115Z",
     "iopub.status.busy": "2021-01-20T20:35:22.561466Z",
     "iopub.status.idle": "2021-01-20T20:35:42.376580Z",
     "shell.execute_reply": "2021-01-20T20:35:42.376068Z"
    },
    "papermill": {
     "duration": 19.857064,
     "end_time": "2021-01-20T20:35:42.376714",
     "exception": false,
     "start_time": "2021-01-20T20:35:22.519650",
     "status": "completed"
    },
    "tags": []
   },
   "outputs": [
    {
     "name": "stdout",
     "output_type": "stream",
     "text": [
      "====== Logistic Regression ======\n",
      "Epoch 0, Loss 0.223\n",
      "Training Accuracy: 0.7647, Testing Accuracy: 0.7802\n",
      "\n"
     ]
    },
    {
     "name": "stdout",
     "output_type": "stream",
     "text": [
      "Epoch 10, Loss 0.0999\n",
      "Training Accuracy: 0.9135, Testing Accuracy: 0.9244\n",
      "\n"
     ]
    },
    {
     "name": "stdout",
     "output_type": "stream",
     "text": [
      "Epoch 20, Loss 0.0778\n",
      "Training Accuracy: 0.9291, Testing Accuracy: 0.9385\n",
      "\n"
     ]
    },
    {
     "name": "stdout",
     "output_type": "stream",
     "text": [
      "Epoch 30, Loss 0.0675\n",
      "Training Accuracy: 0.9375, Testing Accuracy: 0.9446\n",
      "\n"
     ]
    },
    {
     "name": "stdout",
     "output_type": "stream",
     "text": [
      "Epoch 40, Loss 0.0612\n",
      "Training Accuracy: 0.9420, Testing Accuracy: 0.9481\n",
      "\n"
     ]
    },
    {
     "name": "stdout",
     "output_type": "stream",
     "text": [
      "Epoch 50, Loss 0.0569\n",
      "Training Accuracy: 0.9449, Testing Accuracy: 0.9501\n",
      "\n"
     ]
    },
    {
     "name": "stdout",
     "output_type": "stream",
     "text": [
      "Epoch 60, Loss 0.0538\n",
      "Training Accuracy: 0.9473, Testing Accuracy: 0.9526\n",
      "\n"
     ]
    },
    {
     "name": "stdout",
     "output_type": "stream",
     "text": [
      "Epoch 70, Loss 0.0513\n",
      "Training Accuracy: 0.9488, Testing Accuracy: 0.9561\n",
      "\n"
     ]
    },
    {
     "name": "stdout",
     "output_type": "stream",
     "text": [
      "Epoch 80, Loss 0.0493\n",
      "Training Accuracy: 0.9499, Testing Accuracy: 0.9561\n",
      "\n"
     ]
    },
    {
     "name": "stdout",
     "output_type": "stream",
     "text": [
      "Epoch 90, Loss 0.0476\n",
      "Training Accuracy: 0.9513, Testing Accuracy: 0.9587\n",
      "\n"
     ]
    },
    {
     "name": "stdout",
     "output_type": "stream",
     "text": [
      "Epoch 100, Loss 0.0462\n",
      "Training Accuracy: 0.9528, Testing Accuracy: 0.9587\n",
      "\n"
     ]
    },
    {
     "name": "stdout",
     "output_type": "stream",
     "text": [
      "Epoch 110, Loss 0.045\n",
      "Training Accuracy: 0.9534, Testing Accuracy: 0.9607\n",
      "\n"
     ]
    },
    {
     "name": "stdout",
     "output_type": "stream",
     "text": [
      "Epoch 120, Loss 0.044\n",
      "Training Accuracy: 0.9548, Testing Accuracy: 0.9612\n",
      "\n"
     ]
    },
    {
     "name": "stdout",
     "output_type": "stream",
     "text": [
      "Epoch 130, Loss 0.043\n",
      "Training Accuracy: 0.9557, Testing Accuracy: 0.9622\n",
      "\n"
     ]
    },
    {
     "name": "stdout",
     "output_type": "stream",
     "text": [
      "Epoch 140, Loss 0.0422\n",
      "Training Accuracy: 0.9564, Testing Accuracy: 0.9632\n",
      "\n"
     ]
    },
    {
     "name": "stdout",
     "output_type": "stream",
     "text": [
      "Epoch 150, Loss 0.0415\n",
      "Training Accuracy: 0.9571, Testing Accuracy: 0.9637\n",
      "\n"
     ]
    },
    {
     "name": "stdout",
     "output_type": "stream",
     "text": [
      "Epoch 160, Loss 0.0408\n",
      "Training Accuracy: 0.9574, Testing Accuracy: 0.9632\n",
      "\n"
     ]
    },
    {
     "name": "stdout",
     "output_type": "stream",
     "text": [
      "Epoch 170, Loss 0.0402\n",
      "Training Accuracy: 0.9579, Testing Accuracy: 0.9637\n",
      "\n"
     ]
    },
    {
     "name": "stdout",
     "output_type": "stream",
     "text": [
      "Epoch 180, Loss 0.0396\n",
      "Training Accuracy: 0.9587, Testing Accuracy: 0.9642\n",
      "\n"
     ]
    },
    {
     "name": "stdout",
     "output_type": "stream",
     "text": [
      "Epoch 190, Loss 0.0391\n",
      "Training Accuracy: 0.9590, Testing Accuracy: 0.9642\n",
      "\n"
     ]
    },
    {
     "name": "stdout",
     "output_type": "stream",
     "text": [
      "Epoch 200, Loss 0.0386\n",
      "Training Accuracy: 0.9592, Testing Accuracy: 0.9642\n",
      "\n"
     ]
    },
    {
     "name": "stdout",
     "output_type": "stream",
     "text": [
      "Epoch 210, Loss 0.0382\n",
      "Training Accuracy: 0.9597, Testing Accuracy: 0.9647\n",
      "\n"
     ]
    },
    {
     "name": "stdout",
     "output_type": "stream",
     "text": [
      "Epoch 220, Loss 0.0378\n",
      "Training Accuracy: 0.9597, Testing Accuracy: 0.9647\n",
      "\n"
     ]
    },
    {
     "name": "stdout",
     "output_type": "stream",
     "text": [
      "Epoch 230, Loss 0.0374\n",
      "Training Accuracy: 0.9602, Testing Accuracy: 0.9657\n",
      "\n"
     ]
    },
    {
     "name": "stdout",
     "output_type": "stream",
     "text": [
      "Epoch 240, Loss 0.037\n",
      "Training Accuracy: 0.9604, Testing Accuracy: 0.9652\n",
      "\n"
     ]
    },
    {
     "name": "stdout",
     "output_type": "stream",
     "text": [
      "Epoch 250, Loss 0.0367\n",
      "Training Accuracy: 0.9605, Testing Accuracy: 0.9662\n",
      "\n"
     ]
    },
    {
     "data": {
      "text/plain": [
       "0.02960243221624137"
      ]
     },
     "execution_count": 22,
     "metadata": {},
     "output_type": "execute_result"
    }
   ],
   "source": [
    "print(\"====== Logistic Regression ======\")\n",
    "learner_lr.train_loop(dl)"
   ]
  },
  {
   "cell_type": "markdown",
   "metadata": {
    "papermill": {
     "duration": 0.042537,
     "end_time": "2021-01-20T20:35:42.464326",
     "exception": false,
     "start_time": "2021-01-20T20:35:42.421789",
     "status": "completed"
    },
    "tags": []
   },
   "source": [
    "### Comparing results of NN and LR"
   ]
  },
  {
   "cell_type": "code",
   "execution_count": 23,
   "metadata": {
    "execution": {
     "iopub.execute_input": "2021-01-20T20:35:42.563861Z",
     "iopub.status.busy": "2021-01-20T20:35:42.563296Z",
     "iopub.status.idle": "2021-01-20T20:35:42.811511Z",
     "shell.execute_reply": "2021-01-20T20:35:42.811066Z"
    },
    "papermill": {
     "duration": 0.302754,
     "end_time": "2021-01-20T20:35:42.811635",
     "exception": false,
     "start_time": "2021-01-20T20:35:42.508881",
     "status": "completed"
    },
    "tags": []
   },
   "outputs": [
    {
     "data": {
      "text/plain": [
       "<matplotlib.legend.Legend at 0x7fe9dcc4a1d0>"
      ]
     },
     "execution_count": 23,
     "metadata": {},
     "output_type": "execute_result"
    },
    {
     "data": {
      "image/png": "[encoded data removed]",
      "text/plain": [
       "<Figure size 1080x720 with 1 Axes>"
      ]
     },
     "metadata": {
      "needs_background": "light"
     },
     "output_type": "display_data"
    }
   ],
   "source": [
    "plt.figure(figsize=(15,10))\n",
    "\n",
    "# Neural Network plots\n",
    "plt.plot(acc_nn.accuracies, 'r-', label = \"Training Accuracies - NN\")\n",
    "plt.plot(acc_nn.test_accuracies, 'g-', label = \"Testing Accuracies - NN\")\n",
    "\n",
    "# Logistic Regression plots\n",
    "plt.plot(acc_lr.accuracies, 'k-', label = \"Training Accuracies - LR\")\n",
    "plt.plot(acc_lr.test_accuracies, 'b-', label = \"Testing Accuracies - LR\")\n",
    "\n",
    "plt.ylim(0.8, 1)\n",
    "\n",
    "plt.legend()\n",
    "\n"
   ]
  },
  {
   "cell_type": "markdown",
   "metadata": {
    "papermill": {
     "duration": 0.042078,
     "end_time": "2021-01-20T20:35:42.895901",
     "exception": false,
     "start_time": "2021-01-20T20:35:42.853823",
     "status": "completed"
    },
    "tags": []
   },
   "source": [
    "### From the plot, we can observe the following:\n",
    "- Neural Network achieves higher accuracy than the Logistic Regression model.\n",
    "- This apparently, is because of overfitting, i.e. NN captures more noise than data.\n",
    "- Testing accuracy of NN drops below the Training accuracy at higher epochs. This explains the over-fitting on training data.\n",
    "- Logistic Regression gives a reliable accuracy, without the above mentioned problem.\n"
   ]
  },
  {
   "cell_type": "markdown",
   "metadata": {
    "papermill": {
     "duration": 0.039611,
     "end_time": "2021-01-20T20:35:42.978578",
     "exception": false,
     "start_time": "2021-01-20T20:35:42.938967",
     "status": "completed"
    },
    "tags": []
   },
   "source": [
    "### Moving till the last but one layer (excluding it).\n",
    "#### Plotting the outputs of this layer of the NN."
   ]
  },
  {
   "cell_type": "code",
   "execution_count": 24,
   "metadata": {
    "execution": {
     "iopub.execute_input": "2021-01-20T20:35:43.071672Z",
     "iopub.status.busy": "2021-01-20T20:35:43.069304Z",
     "iopub.status.idle": "2021-01-20T20:35:43.081488Z",
     "shell.execute_reply": "2021-01-20T20:35:43.081929Z"
    },
    "papermill": {
     "duration": 0.060986,
     "end_time": "2021-01-20T20:35:43.082065",
     "exception": false,
     "start_time": "2021-01-20T20:35:43.021079",
     "status": "completed"
    },
    "tags": []
   },
   "outputs": [],
   "source": [
    "model_new = Model(layers[:-2])"
   ]
  },
  {
   "cell_type": "code",
   "execution_count": 25,
   "metadata": {
    "execution": {
     "iopub.execute_input": "2021-01-20T20:35:43.175101Z",
     "iopub.status.busy": "2021-01-20T20:35:43.174523Z",
     "iopub.status.idle": "2021-01-20T20:35:43.201137Z",
     "shell.execute_reply": "2021-01-20T20:35:43.202370Z"
    },
    "papermill": {
     "duration": 0.076925,
     "end_time": "2021-01-20T20:35:43.202542",
     "exception": false,
     "start_time": "2021-01-20T20:35:43.125617",
     "status": "completed"
    },
    "tags": []
   },
   "outputs": [],
   "source": [
    "plot_testing = model_new(testing_xdata)"
   ]
  },
  {
   "cell_type": "code",
   "execution_count": 26,
   "metadata": {
    "execution": {
     "iopub.execute_input": "2021-01-20T20:35:43.303207Z",
     "iopub.status.busy": "2021-01-20T20:35:43.301280Z",
     "iopub.status.idle": "2021-01-20T20:35:43.539621Z",
     "shell.execute_reply": "2021-01-20T20:35:43.539119Z"
    },
    "papermill": {
     "duration": 0.288676,
     "end_time": "2021-01-20T20:35:43.539751",
     "exception": false,
     "start_time": "2021-01-20T20:35:43.251075",
     "status": "completed"
    },
    "tags": []
   },
   "outputs": [
    {
     "data": {
      "text/plain": [
       "Text(0.5, 1.0, 'Outputs')"
      ]
     },
     "execution_count": 26,
     "metadata": {},
     "output_type": "execute_result"
    },
    {
     "data": {
      "image/png": "[encoded data removed]",
      "text/plain": [
       "<Figure size 576x504 with 1 Axes>"
      ]
     },
     "metadata": {
      "needs_background": "light"
     },
     "output_type": "display_data"
    }
   ],
   "source": [
    "plt.figure(figsize=(8,7))\n",
    "plt.scatter(plot_testing[:,0], plot_testing[:,1], alpha = 0.1, c = y_test.ravel());\n",
    "plt.title('Outputs')"
   ]
  },
  {
   "cell_type": "markdown",
   "metadata": {
    "papermill": {
     "duration": 0.047258,
     "end_time": "2021-01-20T20:35:43.635857",
     "exception": false,
     "start_time": "2021-01-20T20:35:43.588599",
     "status": "completed"
    },
    "tags": []
   },
   "source": [
    "### Plotting probability contours"
   ]
  },
  {
   "cell_type": "code",
   "execution_count": 27,
   "metadata": {
    "execution": {
     "iopub.execute_input": "2021-01-20T20:35:43.725323Z",
     "iopub.status.busy": "2021-01-20T20:35:43.724705Z",
     "iopub.status.idle": "2021-01-20T20:35:43.735913Z",
     "shell.execute_reply": "2021-01-20T20:35:43.735409Z"
    },
    "papermill": {
     "duration": 0.056618,
     "end_time": "2021-01-20T20:35:43.736021",
     "exception": false,
     "start_time": "2021-01-20T20:35:43.679403",
     "status": "completed"
    },
    "tags": []
   },
   "outputs": [],
   "source": [
    "model_prob = Model(layers[-2:]) "
   ]
  },
  {
   "cell_type": "code",
   "execution_count": 28,
   "metadata": {
    "execution": {
     "iopub.execute_input": "2021-01-20T20:35:43.852506Z",
     "iopub.status.busy": "2021-01-20T20:35:43.850916Z",
     "iopub.status.idle": "2021-01-20T20:35:43.860418Z",
     "shell.execute_reply": "2021-01-20T20:35:43.860848Z"
    },
    "papermill": {
     "duration": 0.082192,
     "end_time": "2021-01-20T20:35:43.860995",
     "exception": false,
     "start_time": "2021-01-20T20:35:43.778803",
     "status": "completed"
    },
    "tags": []
   },
   "outputs": [],
   "source": [
    "# Adjust the x and y ranges according to the above generated plot.\n",
    "x_range = np.linspace(-4, 1, 100) \n",
    "y_range = np.linspace(-6, 6, 100) \n",
    "x_grid, y_grid = np.meshgrid(x_range, y_range) # x_grid and y_grig are of size 100 X 100\n",
    "\n",
    "# converting x_grid and y_grid to continuous arrays\n",
    "x_grid_flat = np.ravel(x_grid)\n",
    "y_grid_flat = np.ravel(y_grid)\n",
    "\n",
    "# The last layer of the current model takes two columns as input. Hence transpose of np.vstack() is required.\n",
    "X = np.vstack((x_grid_flat, y_grid_flat)).T\n",
    "\n",
    "# x_grid and y_grid are of size 100 x 100\n",
    "probability_contour = model_prob(X).reshape(100,100) "
   ]
  },
  {
   "cell_type": "code",
   "execution_count": 29,
   "metadata": {
    "execution": {
     "iopub.execute_input": "2021-01-20T20:35:43.971805Z",
     "iopub.status.busy": "2021-01-20T20:35:43.971265Z",
     "iopub.status.idle": "2021-01-20T20:35:44.242127Z",
     "shell.execute_reply": "2021-01-20T20:35:44.242628Z"
    },
    "papermill": {
     "duration": 0.335714,
     "end_time": "2021-01-20T20:35:44.242830",
     "exception": false,
     "start_time": "2021-01-20T20:35:43.907116",
     "status": "completed"
    },
    "tags": []
   },
   "outputs": [
    {
     "data": {
      "image/png": "[encoded data removed]",
      "text/plain": [
       "<Figure size 720x648 with 1 Axes>"
      ]
     },
     "metadata": {
      "needs_background": "light"
     },
     "output_type": "display_data"
    }
   ],
   "source": [
    "plt.figure(figsize=(10,9))\n",
    "plt.scatter(plot_testing[:,0], plot_testing[:,1], alpha = 0.1, c = y_test.ravel())\n",
    "contours = plt.contour(x_grid,y_grid,probability_contour)\n",
    "plt.title('Probability Contours')\n",
    "plt.clabel(contours, inline = True );"
   ]
  }
 ],
 "metadata": {
  "kernelspec": {
   "display_name": "Python 3",
   "language": "python",
   "name": "python3"
  },
  "language_info": {
   "codemirror_mode": {
    "name": "ipython",
    "version": 3
   },
   "file_extension": ".py",
   "mimetype": "text/x-python",
   "name": "python",
   "nbconvert_exporter": "python",
   "pygments_lexer": "ipython3",
   "version": "3.6.12"
  },
  "papermill": {
   "duration": 169.138163,
   "end_time": "2021-01-20T20:35:44.598496",
   "environment_variables": {},
   "exception": null,
   "input_path": "2020-08-11-NeuralNetwork.ipynb",
   "output_path": "2020-08-11-NeuralNetwork.ipynb",
   "parameters": {},
   "start_time": "2021-01-20T20:32:55.460333",
   "version": "2.1.2"
  }
 },
 "nbformat": 4,
 "nbformat_minor": 4
}