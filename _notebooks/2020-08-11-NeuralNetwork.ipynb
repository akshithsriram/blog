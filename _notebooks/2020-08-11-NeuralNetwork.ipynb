{
 "cells": [
  {
   "cell_type": "markdown",
   "id": "fitted-suggestion",
   "metadata": {
    "papermill": {
     "duration": 0.031496,
     "end_time": "2021-02-02T00:10:03.006446",
     "exception": false,
     "start_time": "2021-02-02T00:10:02.974950",
     "status": "completed"
    },
    "tags": []
   },
   "source": [
    "# \"A Basic Neural Network: Differentiate Hand-Written Digits\"\n",
    "\n",
    "- badges: true\n",
    "- author: Akshith Sriram"
   ]
  },
  {
   "cell_type": "markdown",
   "id": "signal-flexibility",
   "metadata": {
    "papermill": {
     "duration": 0.033866,
     "end_time": "2021-02-02T00:10:03.072982",
     "exception": false,
     "start_time": "2021-02-02T00:10:03.039116",
     "status": "completed"
    },
    "tags": []
   },
   "source": [
    "### Key Objectives:\n",
    "- Building a neural network that differentiates two hand-written digits 3 and 8.\n",
    "- Comparing the results of this Neural Network (NN) to that of a Logistic Regression (LR) model.\n",
    "\n",
    "### Requirements:\n",
    "- 'Kudzu' : A neural network library that was designed during our course by [Univ.AI](www.univ.ai). \n",
    "- MNIST Database\n",
    "\n",
    "If MNIST is not installed, use the command `!pip install mnist` given below.\n",
    "It can be run both from the command line and Jupyter Notebook."
   ]
  },
  {
   "cell_type": "code",
   "execution_count": 1,
   "id": "british-texture",
   "metadata": {
    "execution": {
     "iopub.execute_input": "2021-02-02T00:10:03.143013Z",
     "iopub.status.busy": "2021-02-02T00:10:03.142436Z",
     "iopub.status.idle": "2021-02-02T00:10:04.850592Z",
     "shell.execute_reply": "2021-02-02T00:10:04.851028Z"
    },
    "papermill": {
     "duration": 1.748888,
     "end_time": "2021-02-02T00:10:04.851202",
     "exception": false,
     "start_time": "2021-02-02T00:10:03.102314",
     "status": "completed"
    },
    "tags": []
   },
   "outputs": [
    {
     "name": "stdout",
     "output_type": "stream",
     "text": [
      "Collecting mnist\r\n"
     ]
    },
    {
     "name": "stdout",
     "output_type": "stream",
     "text": [
      "  Downloading mnist-0.2.2-py2.py3-none-any.whl (3.5 kB)\r\n",
      "Requirement already satisfied: numpy in /opt/hostedtoolcache/Python/3.6.12/x64/lib/python3.6/site-packages (from mnist) (1.19.5)\r\n"
     ]
    },
    {
     "name": "stdout",
     "output_type": "stream",
     "text": [
      "Installing collected packages: mnist\r\n"
     ]
    },
    {
     "name": "stdout",
     "output_type": "stream",
     "text": [
      "Successfully installed mnist-0.2.2\r\n",
      "\u001b[33mWARNING: You are using pip version 20.3.4; however, version 21.0.1 is available.\r\n",
      "You should consider upgrading via the '/opt/hostedtoolcache/Python/3.6.12/x64/bin/python -m pip install --upgrade pip' command.\u001b[0m\r\n"
     ]
    }
   ],
   "source": [
    "!pip install mnist "
   ]
  },
  {
   "cell_type": "markdown",
   "id": "stunning-extra",
   "metadata": {
    "papermill": {
     "duration": 0.028702,
     "end_time": "2021-02-02T00:10:04.909302",
     "exception": false,
     "start_time": "2021-02-02T00:10:04.880600",
     "status": "completed"
    },
    "tags": []
   },
   "source": [
    "#### Importing necessary libraries"
   ]
  },
  {
   "cell_type": "code",
   "execution_count": 2,
   "id": "wooden-france",
   "metadata": {
    "execution": {
     "iopub.execute_input": "2021-02-02T00:10:04.977420Z",
     "iopub.status.busy": "2021-02-02T00:10:04.976845Z",
     "iopub.status.idle": "2021-02-02T00:10:05.585408Z",
     "shell.execute_reply": "2021-02-02T00:10:05.584566Z"
    },
    "papermill": {
     "duration": 0.649486,
     "end_time": "2021-02-02T00:10:05.585541",
     "exception": false,
     "start_time": "2021-02-02T00:10:04.936055",
     "status": "completed"
    },
    "tags": []
   },
   "outputs": [],
   "source": [
    "%load_ext autoreload\n",
    "%autoreload 2\n",
    "\n",
    "%matplotlib inline\n",
    "import matplotlib.pyplot as plt\n",
    "\n",
    "import numpy as np\n",
    "import pandas as pd"
   ]
  },
  {
   "cell_type": "markdown",
   "id": "stunning-physics",
   "metadata": {
    "papermill": {
     "duration": 0.033324,
     "end_time": "2021-02-02T00:10:05.650730",
     "exception": false,
     "start_time": "2021-02-02T00:10:05.617406",
     "status": "completed"
    },
    "tags": []
   },
   "source": [
    "### Preparing the Data"
   ]
  },
  {
   "cell_type": "code",
   "execution_count": 3,
   "id": "unauthorized-remainder",
   "metadata": {
    "execution": {
     "iopub.execute_input": "2021-02-02T00:10:05.718359Z",
     "iopub.status.busy": "2021-02-02T00:10:05.717384Z",
     "iopub.status.idle": "2021-02-02T00:10:05.730631Z",
     "shell.execute_reply": "2021-02-02T00:10:05.730131Z"
    },
    "papermill": {
     "duration": 0.049827,
     "end_time": "2021-02-02T00:10:05.730790",
     "exception": false,
     "start_time": "2021-02-02T00:10:05.680963",
     "status": "completed"
    },
    "tags": []
   },
   "outputs": [],
   "source": [
    "import mnist"
   ]
  },
  {
   "cell_type": "code",
   "execution_count": 4,
   "id": "correct-antarctica",
   "metadata": {
    "execution": {
     "iopub.execute_input": "2021-02-02T00:10:05.797469Z",
     "iopub.status.busy": "2021-02-02T00:10:05.796890Z",
     "iopub.status.idle": "2021-02-02T00:10:07.489271Z",
     "shell.execute_reply": "2021-02-02T00:10:07.489862Z"
    },
    "papermill": {
     "duration": 1.729111,
     "end_time": "2021-02-02T00:10:07.490021",
     "exception": false,
     "start_time": "2021-02-02T00:10:05.760910",
     "status": "completed"
    },
    "tags": []
   },
   "outputs": [],
   "source": [
    "train_images = mnist.train_images()\n",
    "train_labels = mnist.train_labels()"
   ]
  },
  {
   "cell_type": "code",
   "execution_count": 5,
   "id": "musical-prospect",
   "metadata": {
    "execution": {
     "iopub.execute_input": "2021-02-02T00:10:08.304722Z",
     "iopub.status.busy": "2021-02-02T00:10:08.304127Z",
     "iopub.status.idle": "2021-02-02T00:10:08.318882Z",
     "shell.execute_reply": "2021-02-02T00:10:08.319310Z"
    },
    "papermill": {
     "duration": 0.771233,
     "end_time": "2021-02-02T00:10:08.319448",
     "exception": false,
     "start_time": "2021-02-02T00:10:07.548215",
     "status": "completed"
    },
    "tags": []
   },
   "outputs": [
    {
     "data": {
      "text/plain": [
       "((60000, 28, 28), (60000,))"
      ]
     },
     "execution_count": 5,
     "metadata": {},
     "output_type": "execute_result"
    }
   ],
   "source": [
    "train_images.shape, train_labels.shape"
   ]
  },
  {
   "cell_type": "code",
   "execution_count": 6,
   "id": "preliminary-elizabeth",
   "metadata": {
    "execution": {
     "iopub.execute_input": "2021-02-02T00:10:08.458904Z",
     "iopub.status.busy": "2021-02-02T00:10:08.458246Z",
     "iopub.status.idle": "2021-02-02T00:10:09.350637Z",
     "shell.execute_reply": "2021-02-02T00:10:09.349970Z"
    },
    "papermill": {
     "duration": 0.998899,
     "end_time": "2021-02-02T00:10:09.350776",
     "exception": false,
     "start_time": "2021-02-02T00:10:08.351877",
     "status": "completed"
    },
    "tags": []
   },
   "outputs": [],
   "source": [
    "test_images = mnist.test_images()\n",
    "test_labels = mnist.test_labels()"
   ]
  },
  {
   "cell_type": "code",
   "execution_count": 7,
   "id": "acknowledged-oxygen",
   "metadata": {
    "execution": {
     "iopub.execute_input": "2021-02-02T00:10:09.416822Z",
     "iopub.status.busy": "2021-02-02T00:10:09.416174Z",
     "iopub.status.idle": "2021-02-02T00:10:09.429267Z",
     "shell.execute_reply": "2021-02-02T00:10:09.429765Z"
    },
    "papermill": {
     "duration": 0.046245,
     "end_time": "2021-02-02T00:10:09.429884",
     "exception": false,
     "start_time": "2021-02-02T00:10:09.383639",
     "status": "completed"
    },
    "tags": []
   },
   "outputs": [
    {
     "data": {
      "text/plain": [
       "((10000, 28, 28), (10000,))"
      ]
     },
     "execution_count": 7,
     "metadata": {},
     "output_type": "execute_result"
    }
   ],
   "source": [
    "test_images.shape, test_labels.shape"
   ]
  },
  {
   "cell_type": "code",
   "execution_count": 8,
   "id": "innovative-organic",
   "metadata": {
    "execution": {
     "iopub.execute_input": "2021-02-02T00:10:09.505021Z",
     "iopub.status.busy": "2021-02-02T00:10:09.504328Z",
     "iopub.status.idle": "2021-02-02T00:10:09.678878Z",
     "shell.execute_reply": "2021-02-02T00:10:09.679442Z"
    },
    "papermill": {
     "duration": 0.211095,
     "end_time": "2021-02-02T00:10:09.679618",
     "exception": false,
     "start_time": "2021-02-02T00:10:09.468523",
     "status": "completed"
    },
    "tags": []
   },
   "outputs": [
    {
     "name": "stdout",
     "output_type": "stream",
     "text": [
      "2\n"
     ]
    },
    {
     "data": {
      "text/plain": [
       "<matplotlib.image.AxesImage at 0x7fa1acdc2fd0>"
      ]
     },
     "execution_count": 8,
     "metadata": {},
     "output_type": "execute_result"
    },
    {
     "data": {
      "image/png": "[encoded data removed]",
      "text/plain": [
       "<Figure size 432x288 with 1 Axes>"
      ]
     },
     "metadata": {
      "needs_background": "light"
     },
     "output_type": "display_data"
    }
   ],
   "source": [
    "image_index = 7776 # You may select anything up to 60,000\n",
    "print(train_labels[image_index]) \n",
    "plt.imshow(train_images[image_index], cmap='Greys')"
   ]
  },
  {
   "cell_type": "markdown",
   "id": "facial-modem",
   "metadata": {
    "papermill": {
     "duration": 0.031813,
     "end_time": "2021-02-02T00:10:09.743485",
     "exception": false,
     "start_time": "2021-02-02T00:10:09.711672",
     "status": "completed"
    },
    "tags": []
   },
   "source": [
    "## Filter data to get 3 and 8 out"
   ]
  },
  {
   "cell_type": "code",
   "execution_count": 9,
   "id": "thousand-acquisition",
   "metadata": {
    "execution": {
     "iopub.execute_input": "2021-02-02T00:10:09.811644Z",
     "iopub.status.busy": "2021-02-02T00:10:09.810868Z",
     "iopub.status.idle": "2021-02-02T00:10:09.829053Z",
     "shell.execute_reply": "2021-02-02T00:10:09.829609Z"
    },
    "papermill": {
     "duration": 0.055253,
     "end_time": "2021-02-02T00:10:09.829758",
     "exception": false,
     "start_time": "2021-02-02T00:10:09.774505",
     "status": "completed"
    },
    "tags": []
   },
   "outputs": [],
   "source": [
    "train_filter = np.where((train_labels == 3 ) | (train_labels == 8))\n",
    "test_filter = np.where((test_labels == 3) | (test_labels == 8))\n",
    "X_train, y_train = train_images[train_filter], train_labels[train_filter]\n",
    "X_test, y_test = test_images[test_filter], test_labels[test_filter]"
   ]
  },
  {
   "cell_type": "markdown",
   "id": "ruled-access",
   "metadata": {
    "papermill": {
     "duration": 0.036379,
     "end_time": "2021-02-02T00:10:09.903053",
     "exception": false,
     "start_time": "2021-02-02T00:10:09.866674",
     "status": "completed"
    },
    "tags": []
   },
   "source": [
    "We normalize the pixel values in the 0 to 1 range"
   ]
  },
  {
   "cell_type": "code",
   "execution_count": 10,
   "id": "isolated-denver",
   "metadata": {
    "execution": {
     "iopub.execute_input": "2021-02-02T00:10:09.970129Z",
     "iopub.status.busy": "2021-02-02T00:10:09.969522Z",
     "iopub.status.idle": "2021-02-02T00:10:10.028225Z",
     "shell.execute_reply": "2021-02-02T00:10:10.027511Z"
    },
    "papermill": {
     "duration": 0.094358,
     "end_time": "2021-02-02T00:10:10.028373",
     "exception": false,
     "start_time": "2021-02-02T00:10:09.934015",
     "status": "completed"
    },
    "tags": []
   },
   "outputs": [],
   "source": [
    "X_train = X_train/255.\n",
    "X_test = X_test/255."
   ]
  },
  {
   "cell_type": "markdown",
   "id": "perfect-summary",
   "metadata": {
    "papermill": {
     "duration": 0.032428,
     "end_time": "2021-02-02T00:10:10.094215",
     "exception": false,
     "start_time": "2021-02-02T00:10:10.061787",
     "status": "completed"
    },
    "tags": []
   },
   "source": [
    "Setup the labels as 1 (when the digit is 3) and 0 (when the digit is 8)"
   ]
  },
  {
   "cell_type": "code",
   "execution_count": 11,
   "id": "personalized-growing",
   "metadata": {
    "execution": {
     "iopub.execute_input": "2021-02-02T00:10:10.168537Z",
     "iopub.status.busy": "2021-02-02T00:10:10.167929Z",
     "iopub.status.idle": "2021-02-02T00:10:10.182167Z",
     "shell.execute_reply": "2021-02-02T00:10:10.181487Z"
    },
    "papermill": {
     "duration": 0.053423,
     "end_time": "2021-02-02T00:10:10.182301",
     "exception": false,
     "start_time": "2021-02-02T00:10:10.128878",
     "status": "completed"
    },
    "tags": []
   },
   "outputs": [],
   "source": [
    "y_train = 1*(y_train==3)\n",
    "y_test = 1*(y_test==3)"
   ]
  },
  {
   "cell_type": "code",
   "execution_count": 12,
   "id": "considered-virgin",
   "metadata": {
    "execution": {
     "iopub.execute_input": "2021-02-02T00:10:10.254093Z",
     "iopub.status.busy": "2021-02-02T00:10:10.253458Z",
     "iopub.status.idle": "2021-02-02T00:10:10.266757Z",
     "shell.execute_reply": "2021-02-02T00:10:10.267220Z"
    },
    "papermill": {
     "duration": 0.050259,
     "end_time": "2021-02-02T00:10:10.267418",
     "exception": false,
     "start_time": "2021-02-02T00:10:10.217159",
     "status": "completed"
    },
    "tags": []
   },
   "outputs": [
    {
     "data": {
      "text/plain": [
       "((11982, 28, 28), (1984, 28, 28))"
      ]
     },
     "execution_count": 12,
     "metadata": {},
     "output_type": "execute_result"
    }
   ],
   "source": [
    "X_train.shape, X_test.shape"
   ]
  },
  {
   "cell_type": "markdown",
   "id": "civilian-mobile",
   "metadata": {
    "papermill": {
     "duration": 0.036236,
     "end_time": "2021-02-02T00:10:10.340702",
     "exception": false,
     "start_time": "2021-02-02T00:10:10.304466",
     "status": "completed"
    },
    "tags": []
   },
   "source": [
    "### Reshape the input data to create a linear array"
   ]
  },
  {
   "cell_type": "code",
   "execution_count": 13,
   "id": "colonial-adams",
   "metadata": {
    "execution": {
     "iopub.execute_input": "2021-02-02T00:10:10.419976Z",
     "iopub.status.busy": "2021-02-02T00:10:10.419440Z",
     "iopub.status.idle": "2021-02-02T00:10:10.434260Z",
     "shell.execute_reply": "2021-02-02T00:10:10.433812Z"
    },
    "papermill": {
     "duration": 0.055992,
     "end_time": "2021-02-02T00:10:10.434397",
     "exception": false,
     "start_time": "2021-02-02T00:10:10.378405",
     "status": "completed"
    },
    "tags": []
   },
   "outputs": [
    {
     "data": {
      "text/plain": [
       "((11982, 784), (1984, 784))"
      ]
     },
     "execution_count": 13,
     "metadata": {},
     "output_type": "execute_result"
    }
   ],
   "source": [
    "X_train = X_train.reshape(X_train.shape[0], -1)\n",
    "X_test = X_test.reshape(X_test.shape[0], -1)\n",
    "X_train.shape, X_test.shape"
   ]
  },
  {
   "cell_type": "markdown",
   "id": "smart-details",
   "metadata": {
    "papermill": {
     "duration": 0.032088,
     "end_time": "2021-02-02T00:10:10.503139",
     "exception": false,
     "start_time": "2021-02-02T00:10:10.471051",
     "status": "completed"
    },
    "tags": []
   },
   "source": [
    "### Importing appropriate functions from 'Kudzu'"
   ]
  },
  {
   "cell_type": "code",
   "execution_count": 14,
   "id": "celtic-trial",
   "metadata": {
    "execution": {
     "iopub.execute_input": "2021-02-02T00:10:10.575188Z",
     "iopub.status.busy": "2021-02-02T00:10:10.574621Z",
     "iopub.status.idle": "2021-02-02T00:10:10.598579Z",
     "shell.execute_reply": "2021-02-02T00:10:10.598085Z"
    },
    "papermill": {
     "duration": 0.061946,
     "end_time": "2021-02-02T00:10:10.598701",
     "exception": false,
     "start_time": "2021-02-02T00:10:10.536755",
     "status": "completed"
    },
    "tags": []
   },
   "outputs": [],
   "source": [
    "from kudzu.layer import Sigmoid\n",
    "from kudzu.layer import Relu\n",
    "from kudzu.layer import Affine, Sigmoid\n",
    "\n",
    "from kudzu.model import Model\n",
    "from kudzu.train import Learner\n",
    "from kudzu.optim import GD\n",
    "from kudzu.data import Data, Dataloader, Sampler\n",
    "\n",
    "from kudzu.callbacks import AccCallback\n",
    "from kudzu.callbacks import ClfCallback\n",
    "\n",
    "from kudzu.loss import MSE"
   ]
  },
  {
   "cell_type": "markdown",
   "id": "coupled-customer",
   "metadata": {
    "papermill": {
     "duration": 0.035299,
     "end_time": "2021-02-02T00:10:10.670046",
     "exception": false,
     "start_time": "2021-02-02T00:10:10.634747",
     "status": "completed"
    },
    "tags": []
   },
   "source": [
    "### Let us create a `Config` class, to store important parameters. \n",
    "This class essentially plays the role of a dictionary."
   ]
  },
  {
   "cell_type": "code",
   "execution_count": 15,
   "id": "young-ceiling",
   "metadata": {
    "execution": {
     "iopub.execute_input": "2021-02-02T00:10:10.750229Z",
     "iopub.status.busy": "2021-02-02T00:10:10.749396Z",
     "iopub.status.idle": "2021-02-02T00:10:10.760302Z",
     "shell.execute_reply": "2021-02-02T00:10:10.759652Z"
    },
    "papermill": {
     "duration": 0.053949,
     "end_time": "2021-02-02T00:10:10.760428",
     "exception": false,
     "start_time": "2021-02-02T00:10:10.706479",
     "status": "completed"
    },
    "tags": []
   },
   "outputs": [],
   "source": [
    "class Config:\n",
    "    pass\n",
    "config = Config()\n",
    "config.lr = 0.001\n",
    "config.num_epochs = 251\n",
    "config.bs = 50"
   ]
  },
  {
   "cell_type": "markdown",
   "id": "according-mandate",
   "metadata": {
    "papermill": {
     "duration": 0.035307,
     "end_time": "2021-02-02T00:10:10.831821",
     "exception": false,
     "start_time": "2021-02-02T00:10:10.796514",
     "status": "completed"
    },
    "tags": []
   },
   "source": [
    "### Initializing data to the variables"
   ]
  },
  {
   "cell_type": "code",
   "execution_count": 16,
   "id": "academic-disposition",
   "metadata": {
    "execution": {
     "iopub.execute_input": "2021-02-02T00:10:10.905080Z",
     "iopub.status.busy": "2021-02-02T00:10:10.904162Z",
     "iopub.status.idle": "2021-02-02T00:10:10.916588Z",
     "shell.execute_reply": "2021-02-02T00:10:10.917094Z"
    },
    "papermill": {
     "duration": 0.053623,
     "end_time": "2021-02-02T00:10:10.917241",
     "exception": false,
     "start_time": "2021-02-02T00:10:10.863618",
     "status": "completed"
    },
    "tags": []
   },
   "outputs": [],
   "source": [
    "data = Data(X_train, y_train.reshape(-1,1))\n",
    "sampler = Sampler(data, config.bs, shuffle=True)\n",
    "\n",
    "dl = Dataloader(data, sampler)\n",
    "\n",
    "opt = GD(config.lr)\n",
    "loss = MSE()"
   ]
  },
  {
   "cell_type": "code",
   "execution_count": 17,
   "id": "featured-commission",
   "metadata": {
    "execution": {
     "iopub.execute_input": "2021-02-02T00:10:10.993923Z",
     "iopub.status.busy": "2021-02-02T00:10:10.993200Z",
     "iopub.status.idle": "2021-02-02T00:10:11.006234Z",
     "shell.execute_reply": "2021-02-02T00:10:11.005648Z"
    },
    "papermill": {
     "duration": 0.05221,
     "end_time": "2021-02-02T00:10:11.006367",
     "exception": false,
     "start_time": "2021-02-02T00:10:10.954157",
     "status": "completed"
    },
    "tags": []
   },
   "outputs": [],
   "source": [
    "training_xdata = X_train\n",
    "testing_xdata = X_test\n",
    "training_ydata = y_train.reshape(-1,1)\n",
    "testing_ydata = y_test.reshape(-1,1)"
   ]
  },
  {
   "cell_type": "markdown",
   "id": "played-safety",
   "metadata": {
    "papermill": {
     "duration": 0.034669,
     "end_time": "2021-02-02T00:10:11.077538",
     "exception": false,
     "start_time": "2021-02-02T00:10:11.042869",
     "status": "completed"
    },
    "tags": []
   },
   "source": [
    "### Running Models with the Training data\n",
    "Details about the network layers:\n",
    "- A first affine layer has 784 inputs and does 100 affine transforms. These are followed by a Relu\n",
    "- A second affine layer has 100 inputs from the 100 activations of the past layer, and does 100 affine transforms. These are followed by a Relu\n",
    "- A third affine layer has 100 activations and does 2 affine transformations to create an embedding for visualization. There is no non-linearity here.\n",
    "- A final \"logistic regression\" which has an affine transform from 2 inputs to 1 output, which is squeezed through a sigmoid.\n",
    "\n",
    "Help taken from Anshuman's Notebook."
   ]
  },
  {
   "cell_type": "code",
   "execution_count": 18,
   "id": "asian-bankruptcy",
   "metadata": {
    "execution": {
     "iopub.execute_input": "2021-02-02T00:10:11.154392Z",
     "iopub.status.busy": "2021-02-02T00:10:11.153613Z",
     "iopub.status.idle": "2021-02-02T00:10:11.170754Z",
     "shell.execute_reply": "2021-02-02T00:10:11.170200Z"
    },
    "papermill": {
     "duration": 0.057692,
     "end_time": "2021-02-02T00:10:11.170897",
     "exception": false,
     "start_time": "2021-02-02T00:10:11.113205",
     "status": "completed"
    },
    "tags": []
   },
   "outputs": [],
   "source": [
    "# layers for the Neural Network\n",
    "layers = [Affine(\"first\", 784, 100), Relu(\"first\"), Affine(\"second\", 100, 100), Relu(\"second\"), Affine(\"third\", 100, 2), Affine(\"final\", 2, 1), Sigmoid(\"final\")]\n",
    "model_nn = Model(layers)\n",
    "\n",
    "# layers for the Logistic Regression\n",
    "layers_lr = [Affine(\"logits\", 784, 1), Sigmoid(\"sigmoid\")]\n",
    "model_lr = Model(layers_lr)"
   ]
  },
  {
   "cell_type": "code",
   "execution_count": 19,
   "id": "removed-butler",
   "metadata": {
    "execution": {
     "iopub.execute_input": "2021-02-02T00:10:11.250499Z",
     "iopub.status.busy": "2021-02-02T00:10:11.249789Z",
     "iopub.status.idle": "2021-02-02T00:10:11.267449Z",
     "shell.execute_reply": "2021-02-02T00:10:11.266788Z"
    },
    "papermill": {
     "duration": 0.060891,
     "end_time": "2021-02-02T00:10:11.267597",
     "exception": false,
     "start_time": "2021-02-02T00:10:11.206706",
     "status": "completed"
    },
    "tags": []
   },
   "outputs": [],
   "source": [
    "# suffix _nn stands for Neural Network.\n",
    "learner_nn = Learner(loss, model_nn, opt, config.num_epochs)\n",
    "acc_nn = ClfCallback(learner_nn, config.bs, training_xdata , testing_xdata, training_ydata, testing_ydata)\n",
    "learner_nn.set_callbacks([acc_nn])"
   ]
  },
  {
   "cell_type": "code",
   "execution_count": 20,
   "id": "conceptual-throw",
   "metadata": {
    "execution": {
     "iopub.execute_input": "2021-02-02T00:10:11.346166Z",
     "iopub.status.busy": "2021-02-02T00:10:11.345536Z",
     "iopub.status.idle": "2021-02-02T00:12:35.865104Z",
     "shell.execute_reply": "2021-02-02T00:12:35.864458Z"
    },
    "papermill": {
     "duration": 144.560207,
     "end_time": "2021-02-02T00:12:35.865239",
     "exception": false,
     "start_time": "2021-02-02T00:10:11.305032",
     "status": "completed"
    },
    "tags": []
   },
   "outputs": [
    {
     "name": "stdout",
     "output_type": "stream",
     "text": [
      "====== Neural Network ======\n"
     ]
    },
    {
     "name": "stdout",
     "output_type": "stream",
     "text": [
      "Epoch 0, Loss 0.1941\n",
      "Training Accuracy: 0.8290, Testing Accuracy: 0.8493\n",
      "\n"
     ]
    },
    {
     "name": "stdout",
     "output_type": "stream",
     "text": [
      "Epoch 10, Loss 0.0522\n",
      "Training Accuracy: 0.9452, Testing Accuracy: 0.9541\n",
      "\n"
     ]
    },
    {
     "name": "stdout",
     "output_type": "stream",
     "text": [
      "Epoch 20, Loss 0.0381\n",
      "Training Accuracy: 0.9579, Testing Accuracy: 0.9637\n",
      "\n"
     ]
    },
    {
     "name": "stdout",
     "output_type": "stream",
     "text": [
      "Epoch 30, Loss 0.0323\n",
      "Training Accuracy: 0.9642, Testing Accuracy: 0.9682\n",
      "\n"
     ]
    },
    {
     "name": "stdout",
     "output_type": "stream",
     "text": [
      "Epoch 40, Loss 0.0289\n",
      "Training Accuracy: 0.9677, Testing Accuracy: 0.9713\n",
      "\n"
     ]
    },
    {
     "name": "stdout",
     "output_type": "stream",
     "text": [
      "Epoch 50, Loss 0.0267\n",
      "Training Accuracy: 0.9705, Testing Accuracy: 0.9718\n",
      "\n"
     ]
    },
    {
     "name": "stdout",
     "output_type": "stream",
     "text": [
      "Epoch 60, Loss 0.025\n",
      "Training Accuracy: 0.9725, Testing Accuracy: 0.9718\n",
      "\n"
     ]
    },
    {
     "name": "stdout",
     "output_type": "stream",
     "text": [
      "Epoch 70, Loss 0.0237\n",
      "Training Accuracy: 0.9737, Testing Accuracy: 0.9723\n",
      "\n"
     ]
    },
    {
     "name": "stdout",
     "output_type": "stream",
     "text": [
      "Epoch 80, Loss 0.0225\n",
      "Training Accuracy: 0.9749, Testing Accuracy: 0.9728\n",
      "\n"
     ]
    },
    {
     "name": "stdout",
     "output_type": "stream",
     "text": [
      "Epoch 90, Loss 0.0215\n",
      "Training Accuracy: 0.9760, Testing Accuracy: 0.9728\n",
      "\n"
     ]
    },
    {
     "name": "stdout",
     "output_type": "stream",
     "text": [
      "Epoch 100, Loss 0.0207\n",
      "Training Accuracy: 0.9768, Testing Accuracy: 0.9728\n",
      "\n"
     ]
    },
    {
     "name": "stdout",
     "output_type": "stream",
     "text": [
      "Epoch 110, Loss 0.0199\n",
      "Training Accuracy: 0.9774, Testing Accuracy: 0.9748\n",
      "\n"
     ]
    },
    {
     "name": "stdout",
     "output_type": "stream",
     "text": [
      "Epoch 120, Loss 0.0192\n",
      "Training Accuracy: 0.9781, Testing Accuracy: 0.9743\n",
      "\n"
     ]
    },
    {
     "name": "stdout",
     "output_type": "stream",
     "text": [
      "Epoch 130, Loss 0.0185\n",
      "Training Accuracy: 0.9796, Testing Accuracy: 0.9763\n",
      "\n"
     ]
    },
    {
     "name": "stdout",
     "output_type": "stream",
     "text": [
      "Epoch 140, Loss 0.0179\n",
      "Training Accuracy: 0.9811, Testing Accuracy: 0.9768\n",
      "\n"
     ]
    },
    {
     "name": "stdout",
     "output_type": "stream",
     "text": [
      "Epoch 150, Loss 0.0173\n",
      "Training Accuracy: 0.9814, Testing Accuracy: 0.9763\n",
      "\n"
     ]
    },
    {
     "name": "stdout",
     "output_type": "stream",
     "text": [
      "Epoch 160, Loss 0.0168\n",
      "Training Accuracy: 0.9822, Testing Accuracy: 0.9758\n",
      "\n"
     ]
    },
    {
     "name": "stdout",
     "output_type": "stream",
     "text": [
      "Epoch 170, Loss 0.0163\n",
      "Training Accuracy: 0.9821, Testing Accuracy: 0.9793\n",
      "\n"
     ]
    },
    {
     "name": "stdout",
     "output_type": "stream",
     "text": [
      "Epoch 180, Loss 0.0158\n",
      "Training Accuracy: 0.9828, Testing Accuracy: 0.9788\n",
      "\n"
     ]
    },
    {
     "name": "stdout",
     "output_type": "stream",
     "text": [
      "Epoch 190, Loss 0.0154\n",
      "Training Accuracy: 0.9831, Testing Accuracy: 0.9778\n",
      "\n"
     ]
    },
    {
     "name": "stdout",
     "output_type": "stream",
     "text": [
      "Epoch 200, Loss 0.015\n",
      "Training Accuracy: 0.9836, Testing Accuracy: 0.9793\n",
      "\n"
     ]
    },
    {
     "name": "stdout",
     "output_type": "stream",
     "text": [
      "Epoch 210, Loss 0.0146\n",
      "Training Accuracy: 0.9845, Testing Accuracy: 0.9778\n",
      "\n"
     ]
    },
    {
     "name": "stdout",
     "output_type": "stream",
     "text": [
      "Epoch 220, Loss 0.0142\n",
      "Training Accuracy: 0.9848, Testing Accuracy: 0.9783\n",
      "\n"
     ]
    },
    {
     "name": "stdout",
     "output_type": "stream",
     "text": [
      "Epoch 230, Loss 0.0138\n",
      "Training Accuracy: 0.9859, Testing Accuracy: 0.9788\n",
      "\n"
     ]
    },
    {
     "name": "stdout",
     "output_type": "stream",
     "text": [
      "Epoch 240, Loss 0.0134\n",
      "Training Accuracy: 0.9862, Testing Accuracy: 0.9803\n",
      "\n"
     ]
    },
    {
     "name": "stdout",
     "output_type": "stream",
     "text": [
      "Epoch 250, Loss 0.0131\n",
      "Training Accuracy: 0.9867, Testing Accuracy: 0.9798\n",
      "\n"
     ]
    },
    {
     "data": {
      "text/plain": [
       "0.004122220636602285"
      ]
     },
     "execution_count": 20,
     "metadata": {},
     "output_type": "execute_result"
    }
   ],
   "source": [
    "print(\"====== Neural Network ======\")\n",
    "learner_nn.train_loop(dl)"
   ]
  },
  {
   "cell_type": "markdown",
   "id": "competent-suffering",
   "metadata": {
    "papermill": {
     "duration": 0.043923,
     "end_time": "2021-02-02T00:12:35.952835",
     "exception": false,
     "start_time": "2021-02-02T00:12:35.908912",
     "status": "completed"
    },
    "tags": []
   },
   "source": [
    "### Logistic Regression based Implementation."
   ]
  },
  {
   "cell_type": "code",
   "execution_count": 21,
   "id": "qualified-psychiatry",
   "metadata": {
    "execution": {
     "iopub.execute_input": "2021-02-02T00:12:36.045528Z",
     "iopub.status.busy": "2021-02-02T00:12:36.045011Z",
     "iopub.status.idle": "2021-02-02T00:12:36.057226Z",
     "shell.execute_reply": "2021-02-02T00:12:36.057665Z"
    },
    "papermill": {
     "duration": 0.057802,
     "end_time": "2021-02-02T00:12:36.057790",
     "exception": false,
     "start_time": "2021-02-02T00:12:35.999988",
     "status": "completed"
    },
    "tags": []
   },
   "outputs": [],
   "source": [
    "learner_lr = Learner(loss, model_lr, opt, config.num_epochs)\n",
    "acc_lr = ClfCallback(learner_lr, config.bs, training_xdata , testing_xdata, training_ydata, testing_ydata)\n",
    "learner_lr.set_callbacks([acc_lr])"
   ]
  },
  {
   "cell_type": "code",
   "execution_count": 22,
   "id": "average-outside",
   "metadata": {
    "execution": {
     "iopub.execute_input": "2021-02-02T00:12:36.144946Z",
     "iopub.status.busy": "2021-02-02T00:12:36.144202Z",
     "iopub.status.idle": "2021-02-02T00:12:56.306977Z",
     "shell.execute_reply": "2021-02-02T00:12:56.307507Z"
    },
    "papermill": {
     "duration": 20.212526,
     "end_time": "2021-02-02T00:12:56.307654",
     "exception": false,
     "start_time": "2021-02-02T00:12:36.095128",
     "status": "completed"
    },
    "tags": []
   },
   "outputs": [
    {
     "name": "stdout",
     "output_type": "stream",
     "text": [
      "====== Logistic Regression ======\n",
      "Epoch 0, Loss 0.2632\n",
      "Training Accuracy: 0.6000, Testing Accuracy: 0.6316\n",
      "\n"
     ]
    },
    {
     "name": "stdout",
     "output_type": "stream",
     "text": [
      "Epoch 10, Loss 0.1033\n",
      "Training Accuracy: 0.9113, Testing Accuracy: 0.9320\n",
      "\n"
     ]
    },
    {
     "name": "stdout",
     "output_type": "stream",
     "text": [
      "Epoch 20, Loss 0.0796\n",
      "Training Accuracy: 0.9278, Testing Accuracy: 0.9446\n",
      "\n"
     ]
    },
    {
     "name": "stdout",
     "output_type": "stream",
     "text": [
      "Epoch 30, Loss 0.0688\n",
      "Training Accuracy: 0.9351, Testing Accuracy: 0.9486\n",
      "\n"
     ]
    },
    {
     "name": "stdout",
     "output_type": "stream",
     "text": [
      "Epoch 40, Loss 0.0623\n",
      "Training Accuracy: 0.9401, Testing Accuracy: 0.9521\n",
      "\n"
     ]
    },
    {
     "name": "stdout",
     "output_type": "stream",
     "text": [
      "Epoch 50, Loss 0.0578\n",
      "Training Accuracy: 0.9442, Testing Accuracy: 0.9561\n",
      "\n"
     ]
    },
    {
     "name": "stdout",
     "output_type": "stream",
     "text": [
      "Epoch 60, Loss 0.0545\n",
      "Training Accuracy: 0.9473, Testing Accuracy: 0.9587\n",
      "\n"
     ]
    },
    {
     "name": "stdout",
     "output_type": "stream",
     "text": [
      "Epoch 70, Loss 0.052\n",
      "Training Accuracy: 0.9486, Testing Accuracy: 0.9597\n",
      "\n"
     ]
    },
    {
     "name": "stdout",
     "output_type": "stream",
     "text": [
      "Epoch 80, Loss 0.0499\n",
      "Training Accuracy: 0.9507, Testing Accuracy: 0.9607\n",
      "\n"
     ]
    },
    {
     "name": "stdout",
     "output_type": "stream",
     "text": [
      "Epoch 90, Loss 0.0482\n",
      "Training Accuracy: 0.9520, Testing Accuracy: 0.9622\n",
      "\n"
     ]
    },
    {
     "name": "stdout",
     "output_type": "stream",
     "text": [
      "Epoch 100, Loss 0.0467\n",
      "Training Accuracy: 0.9533, Testing Accuracy: 0.9617\n",
      "\n"
     ]
    },
    {
     "name": "stdout",
     "output_type": "stream",
     "text": [
      "Epoch 110, Loss 0.0455\n",
      "Training Accuracy: 0.9538, Testing Accuracy: 0.9632\n",
      "\n"
     ]
    },
    {
     "name": "stdout",
     "output_type": "stream",
     "text": [
      "Epoch 120, Loss 0.0444\n",
      "Training Accuracy: 0.9547, Testing Accuracy: 0.9647\n",
      "\n"
     ]
    },
    {
     "name": "stdout",
     "output_type": "stream",
     "text": [
      "Epoch 130, Loss 0.0434\n",
      "Training Accuracy: 0.9557, Testing Accuracy: 0.9647\n",
      "\n"
     ]
    },
    {
     "name": "stdout",
     "output_type": "stream",
     "text": [
      "Epoch 140, Loss 0.0425\n",
      "Training Accuracy: 0.9563, Testing Accuracy: 0.9652\n",
      "\n"
     ]
    },
    {
     "name": "stdout",
     "output_type": "stream",
     "text": [
      "Epoch 150, Loss 0.0418\n",
      "Training Accuracy: 0.9567, Testing Accuracy: 0.9657\n",
      "\n"
     ]
    },
    {
     "name": "stdout",
     "output_type": "stream",
     "text": [
      "Epoch 160, Loss 0.0411\n",
      "Training Accuracy: 0.9573, Testing Accuracy: 0.9662\n",
      "\n"
     ]
    },
    {
     "name": "stdout",
     "output_type": "stream",
     "text": [
      "Epoch 170, Loss 0.0405\n",
      "Training Accuracy: 0.9580, Testing Accuracy: 0.9657\n",
      "\n"
     ]
    },
    {
     "name": "stdout",
     "output_type": "stream",
     "text": [
      "Epoch 180, Loss 0.0399\n",
      "Training Accuracy: 0.9582, Testing Accuracy: 0.9652\n",
      "\n"
     ]
    },
    {
     "name": "stdout",
     "output_type": "stream",
     "text": [
      "Epoch 190, Loss 0.0393\n",
      "Training Accuracy: 0.9587, Testing Accuracy: 0.9662\n",
      "\n"
     ]
    },
    {
     "name": "stdout",
     "output_type": "stream",
     "text": [
      "Epoch 200, Loss 0.0388\n",
      "Training Accuracy: 0.9595, Testing Accuracy: 0.9657\n",
      "\n"
     ]
    },
    {
     "name": "stdout",
     "output_type": "stream",
     "text": [
      "Epoch 210, Loss 0.0384\n",
      "Training Accuracy: 0.9596, Testing Accuracy: 0.9662\n",
      "\n"
     ]
    },
    {
     "name": "stdout",
     "output_type": "stream",
     "text": [
      "Epoch 220, Loss 0.038\n",
      "Training Accuracy: 0.9601, Testing Accuracy: 0.9657\n",
      "\n"
     ]
    },
    {
     "name": "stdout",
     "output_type": "stream",
     "text": [
      "Epoch 230, Loss 0.0376\n",
      "Training Accuracy: 0.9604, Testing Accuracy: 0.9672\n",
      "\n"
     ]
    },
    {
     "name": "stdout",
     "output_type": "stream",
     "text": [
      "Epoch 240, Loss 0.0372\n",
      "Training Accuracy: 0.9609, Testing Accuracy: 0.9672\n",
      "\n"
     ]
    },
    {
     "name": "stdout",
     "output_type": "stream",
     "text": [
      "Epoch 250, Loss 0.0368\n",
      "Training Accuracy: 0.9610, Testing Accuracy: 0.9672\n",
      "\n"
     ]
    },
    {
     "data": {
      "text/plain": [
       "0.047595076472442786"
      ]
     },
     "execution_count": 22,
     "metadata": {},
     "output_type": "execute_result"
    }
   ],
   "source": [
    "print(\"====== Logistic Regression ======\")\n",
    "learner_lr.train_loop(dl)"
   ]
  },
  {
   "cell_type": "markdown",
   "id": "adjusted-possible",
   "metadata": {
    "papermill": {
     "duration": 0.051262,
     "end_time": "2021-02-02T00:12:56.406744",
     "exception": false,
     "start_time": "2021-02-02T00:12:56.355482",
     "status": "completed"
    },
    "tags": []
   },
   "source": [
    "### Comparing results of NN and LR"
   ]
  },
  {
   "cell_type": "code",
   "execution_count": 23,
   "id": "mental-multimedia",
   "metadata": {
    "execution": {
     "iopub.execute_input": "2021-02-02T00:12:56.520369Z",
     "iopub.status.busy": "2021-02-02T00:12:56.519687Z",
     "iopub.status.idle": "2021-02-02T00:12:56.790606Z",
     "shell.execute_reply": "2021-02-02T00:12:56.791189Z"
    },
    "papermill": {
     "duration": 0.332965,
     "end_time": "2021-02-02T00:12:56.791377",
     "exception": false,
     "start_time": "2021-02-02T00:12:56.458412",
     "status": "completed"
    },
    "tags": []
   },
   "outputs": [
    {
     "data": {
      "text/plain": [
       "<matplotlib.legend.Legend at 0x7fa1a01fa8d0>"
      ]
     },
     "execution_count": 23,
     "metadata": {},
     "output_type": "execute_result"
    },
    {
     "data": {
      "image/png": "[encoded data removed]",
      "text/plain": [
       "<Figure size 1080x720 with 1 Axes>"
      ]
     },
     "metadata": {
      "needs_background": "light"
     },
     "output_type": "display_data"
    }
   ],
   "source": [
    "plt.figure(figsize=(15,10))\n",
    "\n",
    "# Neural Network plots\n",
    "plt.plot(acc_nn.accuracies, 'r-', label = \"Training Accuracies - NN\")\n",
    "plt.plot(acc_nn.test_accuracies, 'g-', label = \"Testing Accuracies - NN\")\n",
    "\n",
    "# Logistic Regression plots\n",
    "plt.plot(acc_lr.accuracies, 'k-', label = \"Training Accuracies - LR\")\n",
    "plt.plot(acc_lr.test_accuracies, 'b-', label = \"Testing Accuracies - LR\")\n",
    "\n",
    "plt.ylim(0.8, 1)\n",
    "\n",
    "plt.legend()\n",
    "\n"
   ]
  },
  {
   "cell_type": "markdown",
   "id": "sexual-flesh",
   "metadata": {
    "papermill": {
     "duration": 0.047645,
     "end_time": "2021-02-02T00:12:56.890954",
     "exception": false,
     "start_time": "2021-02-02T00:12:56.843309",
     "status": "completed"
    },
    "tags": []
   },
   "source": [
    "### From the plot, we can observe the following:\n",
    "- Neural Network achieves higher accuracy than the Logistic Regression model.\n",
    "- This apparently, is because of overfitting, i.e. NN captures more noise than data.\n",
    "- Testing accuracy of NN drops below the Training accuracy at higher epochs. This explains the over-fitting on training data.\n",
    "- Logistic Regression gives a reliable accuracy, without the above mentioned problem.\n"
   ]
  },
  {
   "cell_type": "markdown",
   "id": "institutional-pacific",
   "metadata": {
    "papermill": {
     "duration": 0.04811,
     "end_time": "2021-02-02T00:12:56.985928",
     "exception": false,
     "start_time": "2021-02-02T00:12:56.937818",
     "status": "completed"
    },
    "tags": []
   },
   "source": [
    "### Moving till the last but one layer (excluding it).\n",
    "#### Plotting the outputs of this layer of the NN."
   ]
  },
  {
   "cell_type": "code",
   "execution_count": 24,
   "id": "economic-server",
   "metadata": {
    "execution": {
     "iopub.execute_input": "2021-02-02T00:12:57.094962Z",
     "iopub.status.busy": "2021-02-02T00:12:57.093556Z",
     "iopub.status.idle": "2021-02-02T00:12:57.103614Z",
     "shell.execute_reply": "2021-02-02T00:12:57.104062Z"
    },
    "papermill": {
     "duration": 0.070326,
     "end_time": "2021-02-02T00:12:57.104190",
     "exception": false,
     "start_time": "2021-02-02T00:12:57.033864",
     "status": "completed"
    },
    "tags": []
   },
   "outputs": [],
   "source": [
    "model_new = Model(layers[:-2])"
   ]
  },
  {
   "cell_type": "code",
   "execution_count": 25,
   "id": "varied-upgrade",
   "metadata": {
    "execution": {
     "iopub.execute_input": "2021-02-02T00:12:57.214505Z",
     "iopub.status.busy": "2021-02-02T00:12:57.207826Z",
     "iopub.status.idle": "2021-02-02T00:12:57.233264Z",
     "shell.execute_reply": "2021-02-02T00:12:57.234239Z"
    },
    "papermill": {
     "duration": 0.080215,
     "end_time": "2021-02-02T00:12:57.234394",
     "exception": false,
     "start_time": "2021-02-02T00:12:57.154179",
     "status": "completed"
    },
    "tags": []
   },
   "outputs": [],
   "source": [
    "plot_testing = model_new(testing_xdata)"
   ]
  },
  {
   "cell_type": "code",
   "execution_count": 26,
   "id": "specific-handling",
   "metadata": {
    "execution": {
     "iopub.execute_input": "2021-02-02T00:12:57.353825Z",
     "iopub.status.busy": "2021-02-02T00:12:57.353234Z",
     "iopub.status.idle": "2021-02-02T00:12:57.571057Z",
     "shell.execute_reply": "2021-02-02T00:12:57.570560Z"
    },
    "papermill": {
     "duration": 0.281495,
     "end_time": "2021-02-02T00:12:57.571186",
     "exception": false,
     "start_time": "2021-02-02T00:12:57.289691",
     "status": "completed"
    },
    "tags": []
   },
   "outputs": [
    {
     "data": {
      "text/plain": [
       "Text(0.5, 1.0, 'Outputs')"
      ]
     },
     "execution_count": 26,
     "metadata": {},
     "output_type": "execute_result"
    },
    {
     "data": {
      "image/png": "[encoded data removed]",
      "text/plain": [
       "<Figure size 576x504 with 1 Axes>"
      ]
     },
     "metadata": {
      "needs_background": "light"
     },
     "output_type": "display_data"
    }
   ],
   "source": [
    "plt.figure(figsize=(8,7))\n",
    "plt.scatter(plot_testing[:,0], plot_testing[:,1], alpha = 0.1, c = y_test.ravel());\n",
    "plt.title('Outputs')"
   ]
  },
  {
   "cell_type": "markdown",
   "id": "described-knowing",
   "metadata": {
    "papermill": {
     "duration": 0.05596,
     "end_time": "2021-02-02T00:12:57.678155",
     "exception": false,
     "start_time": "2021-02-02T00:12:57.622195",
     "status": "completed"
    },
    "tags": []
   },
   "source": [
    "### Plotting probability contours"
   ]
  },
  {
   "cell_type": "code",
   "execution_count": 27,
   "id": "needed-growing",
   "metadata": {
    "execution": {
     "iopub.execute_input": "2021-02-02T00:12:57.789481Z",
     "iopub.status.busy": "2021-02-02T00:12:57.788866Z",
     "iopub.status.idle": "2021-02-02T00:12:57.800017Z",
     "shell.execute_reply": "2021-02-02T00:12:57.800679Z"
    },
    "papermill": {
     "duration": 0.071592,
     "end_time": "2021-02-02T00:12:57.800857",
     "exception": false,
     "start_time": "2021-02-02T00:12:57.729265",
     "status": "completed"
    },
    "tags": []
   },
   "outputs": [],
   "source": [
    "model_prob = Model(layers[-2:]) "
   ]
  },
  {
   "cell_type": "code",
   "execution_count": 28,
   "id": "introductory-enforcement",
   "metadata": {
    "execution": {
     "iopub.execute_input": "2021-02-02T00:12:57.936333Z",
     "iopub.status.busy": "2021-02-02T00:12:57.935729Z",
     "iopub.status.idle": "2021-02-02T00:12:57.948120Z",
     "shell.execute_reply": "2021-02-02T00:12:57.948515Z"
    },
    "papermill": {
     "duration": 0.070387,
     "end_time": "2021-02-02T00:12:57.948701",
     "exception": false,
     "start_time": "2021-02-02T00:12:57.878314",
     "status": "completed"
    },
    "tags": []
   },
   "outputs": [],
   "source": [
    "# Adjust the x and y ranges according to the above generated plot.\n",
    "x_range = np.linspace(-4, 1, 100) \n",
    "y_range = np.linspace(-6, 6, 100) \n",
    "x_grid, y_grid = np.meshgrid(x_range, y_range) # x_grid and y_grig are of size 100 X 100\n",
    "\n",
    "# converting x_grid and y_grid to continuous arrays\n",
    "x_grid_flat = np.ravel(x_grid)\n",
    "y_grid_flat = np.ravel(y_grid)\n",
    "\n",
    "# The last layer of the current model takes two columns as input. Hence transpose of np.vstack() is required.\n",
    "X = np.vstack((x_grid_flat, y_grid_flat)).T\n",
    "\n",
    "# x_grid and y_grid are of size 100 x 100\n",
    "probability_contour = model_prob(X).reshape(100,100) "
   ]
  },
  {
   "cell_type": "code",
   "execution_count": 29,
   "id": "understood-landing",
   "metadata": {
    "execution": {
     "iopub.execute_input": "2021-02-02T00:12:58.061999Z",
     "iopub.status.busy": "2021-02-02T00:12:58.061432Z",
     "iopub.status.idle": "2021-02-02T00:12:58.328288Z",
     "shell.execute_reply": "2021-02-02T00:12:58.327488Z"
    },
    "papermill": {
     "duration": 0.330634,
     "end_time": "2021-02-02T00:12:58.328441",
     "exception": false,
     "start_time": "2021-02-02T00:12:57.997807",
     "status": "completed"
    },
    "tags": []
   },
   "outputs": [
    {
     "data": {
      "image/png": "[encoded data removed]",
      "text/plain": [
       "<Figure size 720x648 with 1 Axes>"
      ]
     },
     "metadata": {
      "needs_background": "light"
     },
     "output_type": "display_data"
    }
   ],
   "source": [
    "plt.figure(figsize=(10,9))\n",
    "plt.scatter(plot_testing[:,0], plot_testing[:,1], alpha = 0.1, c = y_test.ravel())\n",
    "contours = plt.contour(x_grid,y_grid,probability_contour)\n",
    "plt.title('Probability Contours')\n",
    "plt.clabel(contours, inline = True );"
   ]
  }
 ],
 "metadata": {
  "kernelspec": {
   "display_name": "Python 3",
   "language": "python",
   "name": "python3"
  },
  "language_info": {
   "codemirror_mode": {
    "name": "ipython",
    "version": 3
   },
   "file_extension": ".py",
   "mimetype": "text/x-python",
   "name": "python",
   "nbconvert_exporter": "python",
   "pygments_lexer": "ipython3",
   "version": "3.6.12"
  },
  "papermill": {
   "duration": 177.020471,
   "end_time": "2021-02-02T00:12:58.690658",
   "environment_variables": {},
   "exception": null,
   "input_path": "2020-08-11-NeuralNetwork.ipynb",
   "output_path": "2020-08-11-NeuralNetwork.ipynb",
   "parameters": {},
   "start_time": "2021-02-02T00:10:01.670187",
   "version": "2.1.2"
  }
 },
 "nbformat": 4,
 "nbformat_minor": 5
}