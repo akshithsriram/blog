{
 "cells": [
  {
   "cell_type": "markdown",
   "id": "fitted-suggestion",
   "metadata": {
    "papermill": {
     "duration": 0.043188,
     "end_time": "2021-02-20T10:04:25.924095",
     "exception": false,
     "start_time": "2021-02-20T10:04:25.880907",
     "status": "completed"
    },
    "tags": []
   },
   "source": [
    "# \"A Basic Neural Network: Differentiate Hand-Written Digits\"\n",
    "\n",
    "- badges: true\n",
    "- author: Akshith Sriram"
   ]
  },
  {
   "cell_type": "markdown",
   "id": "signal-flexibility",
   "metadata": {
    "papermill": {
     "duration": 0.027849,
     "end_time": "2021-02-20T10:04:25.982546",
     "exception": false,
     "start_time": "2021-02-20T10:04:25.954697",
     "status": "completed"
    },
    "tags": []
   },
   "source": [
    "### Key Objectives:\n",
    "- Building a neural network that differentiates two hand-written digits 3 and 8.\n",
    "- Comparing the results of this Neural Network (NN) to that of a Logistic Regression (LR) model.\n",
    "\n",
    "### Requirements:\n",
    "- 'Kudzu' : A neural network library that was designed during our course by [Univ.AI](www.univ.ai). \n",
    "- MNIST Database\n",
    "\n",
    "If MNIST is not installed, use the command `!pip install mnist` given below.\n",
    "It can be run both from the command line and Jupyter Notebook."
   ]
  },
  {
   "cell_type": "code",
   "execution_count": 1,
   "id": "british-texture",
   "metadata": {
    "execution": {
     "iopub.execute_input": "2021-02-20T10:04:26.053199Z",
     "iopub.status.busy": "2021-02-20T10:04:26.052558Z",
     "iopub.status.idle": "2021-02-20T10:04:27.721025Z",
     "shell.execute_reply": "2021-02-20T10:04:27.720364Z"
    },
    "papermill": {
     "duration": 1.710596,
     "end_time": "2021-02-20T10:04:27.721195",
     "exception": false,
     "start_time": "2021-02-20T10:04:26.010599",
     "status": "completed"
    },
    "tags": []
   },
   "outputs": [
    {
     "name": "stdout",
     "output_type": "stream",
     "text": [
      "Collecting mnist\r\n"
     ]
    },
    {
     "name": "stdout",
     "output_type": "stream",
     "text": [
      "  Downloading mnist-0.2.2-py2.py3-none-any.whl (3.5 kB)\r\n",
      "Requirement already satisfied: numpy in /opt/hostedtoolcache/Python/3.6.12/x64/lib/python3.6/site-packages (from mnist) (1.19.5)\r\n"
     ]
    },
    {
     "name": "stdout",
     "output_type": "stream",
     "text": [
      "Installing collected packages: mnist\r\n"
     ]
    },
    {
     "name": "stdout",
     "output_type": "stream",
     "text": [
      "Successfully installed mnist-0.2.2\r\n"
     ]
    }
   ],
   "source": [
    "!pip install mnist "
   ]
  },
  {
   "cell_type": "markdown",
   "id": "stunning-extra",
   "metadata": {
    "papermill": {
     "duration": 0.029965,
     "end_time": "2021-02-20T10:04:27.782220",
     "exception": false,
     "start_time": "2021-02-20T10:04:27.752255",
     "status": "completed"
    },
    "tags": []
   },
   "source": [
    "#### Importing necessary libraries"
   ]
  },
  {
   "cell_type": "code",
   "execution_count": 2,
   "id": "wooden-france",
   "metadata": {
    "execution": {
     "iopub.execute_input": "2021-02-20T10:04:27.865743Z",
     "iopub.status.busy": "2021-02-20T10:04:27.865131Z",
     "iopub.status.idle": "2021-02-20T10:04:28.464460Z",
     "shell.execute_reply": "2021-02-20T10:04:28.463898Z"
    },
    "papermill": {
     "duration": 0.652481,
     "end_time": "2021-02-20T10:04:28.464603",
     "exception": false,
     "start_time": "2021-02-20T10:04:27.812122",
     "status": "completed"
    },
    "tags": []
   },
   "outputs": [],
   "source": [
    "%load_ext autoreload\n",
    "%autoreload 2\n",
    "\n",
    "%matplotlib inline\n",
    "import matplotlib.pyplot as plt\n",
    "\n",
    "import numpy as np\n",
    "import pandas as pd"
   ]
  },
  {
   "cell_type": "markdown",
   "id": "stunning-physics",
   "metadata": {
    "papermill": {
     "duration": 0.030964,
     "end_time": "2021-02-20T10:04:28.525533",
     "exception": false,
     "start_time": "2021-02-20T10:04:28.494569",
     "status": "completed"
    },
    "tags": []
   },
   "source": [
    "### Preparing the Data"
   ]
  },
  {
   "cell_type": "code",
   "execution_count": 3,
   "id": "unauthorized-remainder",
   "metadata": {
    "execution": {
     "iopub.execute_input": "2021-02-20T10:04:28.594835Z",
     "iopub.status.busy": "2021-02-20T10:04:28.592327Z",
     "iopub.status.idle": "2021-02-20T10:04:28.604649Z",
     "shell.execute_reply": "2021-02-20T10:04:28.605168Z"
    },
    "papermill": {
     "duration": 0.049443,
     "end_time": "2021-02-20T10:04:28.605322",
     "exception": false,
     "start_time": "2021-02-20T10:04:28.555879",
     "status": "completed"
    },
    "tags": []
   },
   "outputs": [],
   "source": [
    "import mnist"
   ]
  },
  {
   "cell_type": "code",
   "execution_count": 4,
   "id": "correct-antarctica",
   "metadata": {
    "execution": {
     "iopub.execute_input": "2021-02-20T10:04:28.676327Z",
     "iopub.status.busy": "2021-02-20T10:04:28.675659Z",
     "iopub.status.idle": "2021-02-20T10:04:29.415985Z",
     "shell.execute_reply": "2021-02-20T10:04:29.416506Z"
    },
    "papermill": {
     "duration": 0.781492,
     "end_time": "2021-02-20T10:04:29.416677",
     "exception": false,
     "start_time": "2021-02-20T10:04:28.635185",
     "status": "completed"
    },
    "tags": []
   },
   "outputs": [],
   "source": [
    "train_images = mnist.train_images()\n",
    "train_labels = mnist.train_labels()"
   ]
  },
  {
   "cell_type": "code",
   "execution_count": 5,
   "id": "musical-prospect",
   "metadata": {
    "execution": {
     "iopub.execute_input": "2021-02-20T10:04:29.481212Z",
     "iopub.status.busy": "2021-02-20T10:04:29.480610Z",
     "iopub.status.idle": "2021-02-20T10:04:29.496397Z",
     "shell.execute_reply": "2021-02-20T10:04:29.495799Z"
    },
    "papermill": {
     "duration": 0.050417,
     "end_time": "2021-02-20T10:04:29.496532",
     "exception": false,
     "start_time": "2021-02-20T10:04:29.446115",
     "status": "completed"
    },
    "tags": []
   },
   "outputs": [
    {
     "data": {
      "text/plain": [
       "((60000, 28, 28), (60000,))"
      ]
     },
     "execution_count": 5,
     "metadata": {},
     "output_type": "execute_result"
    }
   ],
   "source": [
    "train_images.shape, train_labels.shape"
   ]
  },
  {
   "cell_type": "code",
   "execution_count": 6,
   "id": "preliminary-elizabeth",
   "metadata": {
    "execution": {
     "iopub.execute_input": "2021-02-20T10:04:29.564204Z",
     "iopub.status.busy": "2021-02-20T10:04:29.563579Z",
     "iopub.status.idle": "2021-02-20T10:04:29.840560Z",
     "shell.execute_reply": "2021-02-20T10:04:29.839956Z"
    },
    "papermill": {
     "duration": 0.313215,
     "end_time": "2021-02-20T10:04:29.840694",
     "exception": false,
     "start_time": "2021-02-20T10:04:29.527479",
     "status": "completed"
    },
    "tags": []
   },
   "outputs": [],
   "source": [
    "test_images = mnist.test_images()\n",
    "test_labels = mnist.test_labels()"
   ]
  },
  {
   "cell_type": "code",
   "execution_count": 7,
   "id": "acknowledged-oxygen",
   "metadata": {
    "execution": {
     "iopub.execute_input": "2021-02-20T10:04:29.908083Z",
     "iopub.status.busy": "2021-02-20T10:04:29.907483Z",
     "iopub.status.idle": "2021-02-20T10:04:29.921267Z",
     "shell.execute_reply": "2021-02-20T10:04:29.920777Z"
    },
    "papermill": {
     "duration": 0.05023,
     "end_time": "2021-02-20T10:04:29.921401",
     "exception": false,
     "start_time": "2021-02-20T10:04:29.871171",
     "status": "completed"
    },
    "tags": []
   },
   "outputs": [
    {
     "data": {
      "text/plain": [
       "((10000, 28, 28), (10000,))"
      ]
     },
     "execution_count": 7,
     "metadata": {},
     "output_type": "execute_result"
    }
   ],
   "source": [
    "test_images.shape, test_labels.shape"
   ]
  },
  {
   "cell_type": "code",
   "execution_count": 8,
   "id": "innovative-organic",
   "metadata": {
    "execution": {
     "iopub.execute_input": "2021-02-20T10:04:29.994613Z",
     "iopub.status.busy": "2021-02-20T10:04:29.993925Z",
     "iopub.status.idle": "2021-02-20T10:04:30.151487Z",
     "shell.execute_reply": "2021-02-20T10:04:30.150949Z"
    },
    "papermill": {
     "duration": 0.197998,
     "end_time": "2021-02-20T10:04:30.151622",
     "exception": false,
     "start_time": "2021-02-20T10:04:29.953624",
     "status": "completed"
    },
    "tags": []
   },
   "outputs": [
    {
     "name": "stdout",
     "output_type": "stream",
     "text": [
      "2\n"
     ]
    },
    {
     "data": {
      "text/plain": [
       "<matplotlib.image.AxesImage at 0x7f94155a74e0>"
      ]
     },
     "execution_count": 8,
     "metadata": {},
     "output_type": "execute_result"
    },
    {
     "data": {
      "image/png": "[encoded data removed]",
      "text/plain": [
       "<Figure size 432x288 with 1 Axes>"
      ]
     },
     "metadata": {
      "needs_background": "light"
     },
     "output_type": "display_data"
    }
   ],
   "source": [
    "image_index = 7776 # You may select anything up to 60,000\n",
    "print(train_labels[image_index]) \n",
    "plt.imshow(train_images[image_index], cmap='Greys')"
   ]
  },
  {
   "cell_type": "markdown",
   "id": "facial-modem",
   "metadata": {
    "papermill": {
     "duration": 0.322861,
     "end_time": "2021-02-20T10:04:30.512486",
     "exception": false,
     "start_time": "2021-02-20T10:04:30.189625",
     "status": "completed"
    },
    "tags": []
   },
   "source": [
    "## Filter data to get 3 and 8 out"
   ]
  },
  {
   "cell_type": "code",
   "execution_count": 9,
   "id": "thousand-acquisition",
   "metadata": {
    "execution": {
     "iopub.execute_input": "2021-02-20T10:04:30.588760Z",
     "iopub.status.busy": "2021-02-20T10:04:30.587083Z",
     "iopub.status.idle": "2021-02-20T10:04:30.607966Z",
     "shell.execute_reply": "2021-02-20T10:04:30.607453Z"
    },
    "papermill": {
     "duration": 0.058168,
     "end_time": "2021-02-20T10:04:30.608262",
     "exception": false,
     "start_time": "2021-02-20T10:04:30.550094",
     "status": "completed"
    },
    "tags": []
   },
   "outputs": [],
   "source": [
    "train_filter = np.where((train_labels == 3 ) | (train_labels == 8))\n",
    "test_filter = np.where((test_labels == 3) | (test_labels == 8))\n",
    "X_train, y_train = train_images[train_filter], train_labels[train_filter]\n",
    "X_test, y_test = test_images[test_filter], test_labels[test_filter]"
   ]
  },
  {
   "cell_type": "markdown",
   "id": "ruled-access",
   "metadata": {
    "papermill": {
     "duration": 0.03291,
     "end_time": "2021-02-20T10:04:30.673305",
     "exception": false,
     "start_time": "2021-02-20T10:04:30.640395",
     "status": "completed"
    },
    "tags": []
   },
   "source": [
    "We normalize the pixel values in the 0 to 1 range"
   ]
  },
  {
   "cell_type": "code",
   "execution_count": 10,
   "id": "isolated-denver",
   "metadata": {
    "execution": {
     "iopub.execute_input": "2021-02-20T10:04:30.749892Z",
     "iopub.status.busy": "2021-02-20T10:04:30.743947Z",
     "iopub.status.idle": "2021-02-20T10:04:30.796326Z",
     "shell.execute_reply": "2021-02-20T10:04:30.795632Z"
    },
    "papermill": {
     "duration": 0.092139,
     "end_time": "2021-02-20T10:04:30.796499",
     "exception": false,
     "start_time": "2021-02-20T10:04:30.704360",
     "status": "completed"
    },
    "tags": []
   },
   "outputs": [],
   "source": [
    "X_train = X_train/255.\n",
    "X_test = X_test/255."
   ]
  },
  {
   "cell_type": "markdown",
   "id": "perfect-summary",
   "metadata": {
    "papermill": {
     "duration": 0.030804,
     "end_time": "2021-02-20T10:04:30.860505",
     "exception": false,
     "start_time": "2021-02-20T10:04:30.829701",
     "status": "completed"
    },
    "tags": []
   },
   "source": [
    "Setup the labels as 1 (when the digit is 3) and 0 (when the digit is 8)"
   ]
  },
  {
   "cell_type": "code",
   "execution_count": 11,
   "id": "personalized-growing",
   "metadata": {
    "execution": {
     "iopub.execute_input": "2021-02-20T10:04:30.928248Z",
     "iopub.status.busy": "2021-02-20T10:04:30.927611Z",
     "iopub.status.idle": "2021-02-20T10:04:30.940761Z",
     "shell.execute_reply": "2021-02-20T10:04:30.940264Z"
    },
    "papermill": {
     "duration": 0.049333,
     "end_time": "2021-02-20T10:04:30.940895",
     "exception": false,
     "start_time": "2021-02-20T10:04:30.891562",
     "status": "completed"
    },
    "tags": []
   },
   "outputs": [],
   "source": [
    "y_train = 1*(y_train==3)\n",
    "y_test = 1*(y_test==3)"
   ]
  },
  {
   "cell_type": "code",
   "execution_count": 12,
   "id": "considered-virgin",
   "metadata": {
    "execution": {
     "iopub.execute_input": "2021-02-20T10:04:31.007179Z",
     "iopub.status.busy": "2021-02-20T10:04:31.006590Z",
     "iopub.status.idle": "2021-02-20T10:04:31.021166Z",
     "shell.execute_reply": "2021-02-20T10:04:31.021617Z"
    },
    "papermill": {
     "duration": 0.049668,
     "end_time": "2021-02-20T10:04:31.021772",
     "exception": false,
     "start_time": "2021-02-20T10:04:30.972104",
     "status": "completed"
    },
    "tags": []
   },
   "outputs": [
    {
     "data": {
      "text/plain": [
       "((11982, 28, 28), (1984, 28, 28))"
      ]
     },
     "execution_count": 12,
     "metadata": {},
     "output_type": "execute_result"
    }
   ],
   "source": [
    "X_train.shape, X_test.shape"
   ]
  },
  {
   "cell_type": "markdown",
   "id": "civilian-mobile",
   "metadata": {
    "papermill": {
     "duration": 0.031365,
     "end_time": "2021-02-20T10:04:31.084618",
     "exception": false,
     "start_time": "2021-02-20T10:04:31.053253",
     "status": "completed"
    },
    "tags": []
   },
   "source": [
    "### Reshape the input data to create a linear array"
   ]
  },
  {
   "cell_type": "code",
   "execution_count": 13,
   "id": "colonial-adams",
   "metadata": {
    "execution": {
     "iopub.execute_input": "2021-02-20T10:04:31.152003Z",
     "iopub.status.busy": "2021-02-20T10:04:31.151405Z",
     "iopub.status.idle": "2021-02-20T10:04:31.167696Z",
     "shell.execute_reply": "2021-02-20T10:04:31.167096Z"
    },
    "papermill": {
     "duration": 0.051769,
     "end_time": "2021-02-20T10:04:31.167833",
     "exception": false,
     "start_time": "2021-02-20T10:04:31.116064",
     "status": "completed"
    },
    "tags": []
   },
   "outputs": [
    {
     "data": {
      "text/plain": [
       "((11982, 784), (1984, 784))"
      ]
     },
     "execution_count": 13,
     "metadata": {},
     "output_type": "execute_result"
    }
   ],
   "source": [
    "X_train = X_train.reshape(X_train.shape[0], -1)\n",
    "X_test = X_test.reshape(X_test.shape[0], -1)\n",
    "X_train.shape, X_test.shape"
   ]
  },
  {
   "cell_type": "markdown",
   "id": "smart-details",
   "metadata": {
    "papermill": {
     "duration": 0.031605,
     "end_time": "2021-02-20T10:04:31.235547",
     "exception": false,
     "start_time": "2021-02-20T10:04:31.203942",
     "status": "completed"
    },
    "tags": []
   },
   "source": [
    "### Importing appropriate functions from 'Kudzu'"
   ]
  },
  {
   "cell_type": "code",
   "execution_count": 14,
   "id": "celtic-trial",
   "metadata": {
    "execution": {
     "iopub.execute_input": "2021-02-20T10:04:31.305095Z",
     "iopub.status.busy": "2021-02-20T10:04:31.304485Z",
     "iopub.status.idle": "2021-02-20T10:04:31.325839Z",
     "shell.execute_reply": "2021-02-20T10:04:31.326458Z"
    },
    "papermill": {
     "duration": 0.059155,
     "end_time": "2021-02-20T10:04:31.326656",
     "exception": false,
     "start_time": "2021-02-20T10:04:31.267501",
     "status": "completed"
    },
    "tags": []
   },
   "outputs": [],
   "source": [
    "from kudzu.layer import Sigmoid\n",
    "from kudzu.layer import Relu\n",
    "from kudzu.layer import Affine, Sigmoid\n",
    "\n",
    "from kudzu.model import Model\n",
    "from kudzu.train import Learner\n",
    "from kudzu.optim import GD\n",
    "from kudzu.data import Data, Dataloader, Sampler\n",
    "\n",
    "from kudzu.callbacks import AccCallback\n",
    "from kudzu.callbacks import ClfCallback\n",
    "\n",
    "from kudzu.loss import MSE"
   ]
  },
  {
   "cell_type": "markdown",
   "id": "coupled-customer",
   "metadata": {
    "papermill": {
     "duration": 0.031469,
     "end_time": "2021-02-20T10:04:31.391406",
     "exception": false,
     "start_time": "2021-02-20T10:04:31.359937",
     "status": "completed"
    },
    "tags": []
   },
   "source": [
    "### Let us create a `Config` class, to store important parameters. \n",
    "This class essentially plays the role of a dictionary."
   ]
  },
  {
   "cell_type": "code",
   "execution_count": 15,
   "id": "young-ceiling",
   "metadata": {
    "execution": {
     "iopub.execute_input": "2021-02-20T10:04:31.461596Z",
     "iopub.status.busy": "2021-02-20T10:04:31.461000Z",
     "iopub.status.idle": "2021-02-20T10:04:31.473297Z",
     "shell.execute_reply": "2021-02-20T10:04:31.473782Z"
    },
    "papermill": {
     "duration": 0.050841,
     "end_time": "2021-02-20T10:04:31.473932",
     "exception": false,
     "start_time": "2021-02-20T10:04:31.423091",
     "status": "completed"
    },
    "tags": []
   },
   "outputs": [],
   "source": [
    "class Config:\n",
    "    pass\n",
    "config = Config()\n",
    "config.lr = 0.001\n",
    "config.num_epochs = 251\n",
    "config.bs = 50"
   ]
  },
  {
   "cell_type": "markdown",
   "id": "according-mandate",
   "metadata": {
    "papermill": {
     "duration": 0.03161,
     "end_time": "2021-02-20T10:04:31.537270",
     "exception": false,
     "start_time": "2021-02-20T10:04:31.505660",
     "status": "completed"
    },
    "tags": []
   },
   "source": [
    "### Initializing data to the variables"
   ]
  },
  {
   "cell_type": "code",
   "execution_count": 16,
   "id": "academic-disposition",
   "metadata": {
    "execution": {
     "iopub.execute_input": "2021-02-20T10:04:31.605371Z",
     "iopub.status.busy": "2021-02-20T10:04:31.604771Z",
     "iopub.status.idle": "2021-02-20T10:04:31.617497Z",
     "shell.execute_reply": "2021-02-20T10:04:31.617997Z"
    },
    "papermill": {
     "duration": 0.049119,
     "end_time": "2021-02-20T10:04:31.618140",
     "exception": false,
     "start_time": "2021-02-20T10:04:31.569021",
     "status": "completed"
    },
    "tags": []
   },
   "outputs": [],
   "source": [
    "data = Data(X_train, y_train.reshape(-1,1))\n",
    "sampler = Sampler(data, config.bs, shuffle=True)\n",
    "\n",
    "dl = Dataloader(data, sampler)\n",
    "\n",
    "opt = GD(config.lr)\n",
    "loss = MSE()"
   ]
  },
  {
   "cell_type": "code",
   "execution_count": 17,
   "id": "featured-commission",
   "metadata": {
    "execution": {
     "iopub.execute_input": "2021-02-20T10:04:31.686029Z",
     "iopub.status.busy": "2021-02-20T10:04:31.685428Z",
     "iopub.status.idle": "2021-02-20T10:04:31.699472Z",
     "shell.execute_reply": "2021-02-20T10:04:31.699924Z"
    },
    "papermill": {
     "duration": 0.050184,
     "end_time": "2021-02-20T10:04:31.700080",
     "exception": false,
     "start_time": "2021-02-20T10:04:31.649896",
     "status": "completed"
    },
    "tags": []
   },
   "outputs": [],
   "source": [
    "training_xdata = X_train\n",
    "testing_xdata = X_test\n",
    "training_ydata = y_train.reshape(-1,1)\n",
    "testing_ydata = y_test.reshape(-1,1)"
   ]
  },
  {
   "cell_type": "markdown",
   "id": "played-safety",
   "metadata": {
    "papermill": {
     "duration": 0.031539,
     "end_time": "2021-02-20T10:04:31.763425",
     "exception": false,
     "start_time": "2021-02-20T10:04:31.731886",
     "status": "completed"
    },
    "tags": []
   },
   "source": [
    "### Running Models with the Training data\n",
    "Details about the network layers:\n",
    "- A first affine layer has 784 inputs and does 100 affine transforms. These are followed by a Relu\n",
    "- A second affine layer has 100 inputs from the 100 activations of the past layer, and does 100 affine transforms. These are followed by a Relu\n",
    "- A third affine layer has 100 activations and does 2 affine transformations to create an embedding for visualization. There is no non-linearity here.\n",
    "- A final \"logistic regression\" which has an affine transform from 2 inputs to 1 output, which is squeezed through a sigmoid.\n",
    "\n",
    "Help taken from Anshuman's Notebook."
   ]
  },
  {
   "cell_type": "code",
   "execution_count": 18,
   "id": "asian-bankruptcy",
   "metadata": {
    "execution": {
     "iopub.execute_input": "2021-02-20T10:04:31.831836Z",
     "iopub.status.busy": "2021-02-20T10:04:31.831214Z",
     "iopub.status.idle": "2021-02-20T10:04:31.849306Z",
     "shell.execute_reply": "2021-02-20T10:04:31.848825Z"
    },
    "papermill": {
     "duration": 0.054279,
     "end_time": "2021-02-20T10:04:31.849436",
     "exception": false,
     "start_time": "2021-02-20T10:04:31.795157",
     "status": "completed"
    },
    "tags": []
   },
   "outputs": [],
   "source": [
    "# layers for the Neural Network\n",
    "layers = [Affine(\"first\", 784, 100), Relu(\"first\"), Affine(\"second\", 100, 100), Relu(\"second\"), Affine(\"third\", 100, 2), Affine(\"final\", 2, 1), Sigmoid(\"final\")]\n",
    "model_nn = Model(layers)\n",
    "\n",
    "# layers for the Logistic Regression\n",
    "layers_lr = [Affine(\"logits\", 784, 1), Sigmoid(\"sigmoid\")]\n",
    "model_lr = Model(layers_lr)"
   ]
  },
  {
   "cell_type": "code",
   "execution_count": 19,
   "id": "removed-butler",
   "metadata": {
    "execution": {
     "iopub.execute_input": "2021-02-20T10:04:31.918181Z",
     "iopub.status.busy": "2021-02-20T10:04:31.917575Z",
     "iopub.status.idle": "2021-02-20T10:04:31.930090Z",
     "shell.execute_reply": "2021-02-20T10:04:31.930544Z"
    },
    "papermill": {
     "duration": 0.049307,
     "end_time": "2021-02-20T10:04:31.930698",
     "exception": false,
     "start_time": "2021-02-20T10:04:31.881391",
     "status": "completed"
    },
    "tags": []
   },
   "outputs": [],
   "source": [
    "# suffix _nn stands for Neural Network.\n",
    "learner_nn = Learner(loss, model_nn, opt, config.num_epochs)\n",
    "acc_nn = ClfCallback(learner_nn, config.bs, training_xdata , testing_xdata, training_ydata, testing_ydata)\n",
    "learner_nn.set_callbacks([acc_nn])"
   ]
  },
  {
   "cell_type": "code",
   "execution_count": 20,
   "id": "conceptual-throw",
   "metadata": {
    "execution": {
     "iopub.execute_input": "2021-02-20T10:04:32.001904Z",
     "iopub.status.busy": "2021-02-20T10:04:32.001304Z",
     "iopub.status.idle": "2021-02-20T10:06:01.945566Z",
     "shell.execute_reply": "2021-02-20T10:06:01.946369Z"
    },
    "papermill": {
     "duration": 89.983643,
     "end_time": "2021-02-20T10:06:01.946521",
     "exception": false,
     "start_time": "2021-02-20T10:04:31.962878",
     "status": "completed"
    },
    "tags": []
   },
   "outputs": [
    {
     "name": "stdout",
     "output_type": "stream",
     "text": [
      "====== Neural Network ======\n"
     ]
    },
    {
     "name": "stdout",
     "output_type": "stream",
     "text": [
      "Epoch 0, Loss 0.207\n",
      "Training Accuracy: 0.8097, Testing Accuracy: 0.8241\n",
      "\n"
     ]
    },
    {
     "name": "stdout",
     "output_type": "stream",
     "text": [
      "Epoch 10, Loss 0.0566\n",
      "Training Accuracy: 0.9402, Testing Accuracy: 0.9486\n",
      "\n"
     ]
    },
    {
     "name": "stdout",
     "output_type": "stream",
     "text": [
      "Epoch 20, Loss 0.0396\n",
      "Training Accuracy: 0.9571, Testing Accuracy: 0.9642\n",
      "\n"
     ]
    },
    {
     "name": "stdout",
     "output_type": "stream",
     "text": [
      "Epoch 30, Loss 0.0333\n",
      "Training Accuracy: 0.9635, Testing Accuracy: 0.9698\n",
      "\n"
     ]
    },
    {
     "name": "stdout",
     "output_type": "stream",
     "text": [
      "Epoch 40, Loss 0.0298\n",
      "Training Accuracy: 0.9670, Testing Accuracy: 0.9713\n",
      "\n"
     ]
    },
    {
     "name": "stdout",
     "output_type": "stream",
     "text": [
      "Epoch 50, Loss 0.0275\n",
      "Training Accuracy: 0.9694, Testing Accuracy: 0.9723\n",
      "\n"
     ]
    },
    {
     "name": "stdout",
     "output_type": "stream",
     "text": [
      "Epoch 60, Loss 0.0258\n",
      "Training Accuracy: 0.9705, Testing Accuracy: 0.9728\n",
      "\n"
     ]
    },
    {
     "name": "stdout",
     "output_type": "stream",
     "text": [
      "Epoch 70, Loss 0.0244\n",
      "Training Accuracy: 0.9720, Testing Accuracy: 0.9723\n",
      "\n"
     ]
    },
    {
     "name": "stdout",
     "output_type": "stream",
     "text": [
      "Epoch 80, Loss 0.0232\n",
      "Training Accuracy: 0.9735, Testing Accuracy: 0.9738\n",
      "\n"
     ]
    },
    {
     "name": "stdout",
     "output_type": "stream",
     "text": [
      "Epoch 90, Loss 0.0222\n",
      "Training Accuracy: 0.9746, Testing Accuracy: 0.9738\n",
      "\n"
     ]
    },
    {
     "name": "stdout",
     "output_type": "stream",
     "text": [
      "Epoch 100, Loss 0.0213\n",
      "Training Accuracy: 0.9760, Testing Accuracy: 0.9743\n",
      "\n"
     ]
    },
    {
     "name": "stdout",
     "output_type": "stream",
     "text": [
      "Epoch 110, Loss 0.0205\n",
      "Training Accuracy: 0.9770, Testing Accuracy: 0.9743\n",
      "\n"
     ]
    },
    {
     "name": "stdout",
     "output_type": "stream",
     "text": [
      "Epoch 120, Loss 0.0197\n",
      "Training Accuracy: 0.9787, Testing Accuracy: 0.9743\n",
      "\n"
     ]
    },
    {
     "name": "stdout",
     "output_type": "stream",
     "text": [
      "Epoch 130, Loss 0.0191\n",
      "Training Accuracy: 0.9796, Testing Accuracy: 0.9753\n",
      "\n"
     ]
    },
    {
     "name": "stdout",
     "output_type": "stream",
     "text": [
      "Epoch 140, Loss 0.0185\n",
      "Training Accuracy: 0.9806, Testing Accuracy: 0.9753\n",
      "\n"
     ]
    },
    {
     "name": "stdout",
     "output_type": "stream",
     "text": [
      "Epoch 150, Loss 0.0179\n",
      "Training Accuracy: 0.9811, Testing Accuracy: 0.9763\n",
      "\n"
     ]
    },
    {
     "name": "stdout",
     "output_type": "stream",
     "text": [
      "Epoch 160, Loss 0.0174\n",
      "Training Accuracy: 0.9815, Testing Accuracy: 0.9768\n",
      "\n"
     ]
    },
    {
     "name": "stdout",
     "output_type": "stream",
     "text": [
      "Epoch 170, Loss 0.0169\n",
      "Training Accuracy: 0.9820, Testing Accuracy: 0.9768\n",
      "\n"
     ]
    },
    {
     "name": "stdout",
     "output_type": "stream",
     "text": [
      "Epoch 180, Loss 0.0165\n",
      "Training Accuracy: 0.9825, Testing Accuracy: 0.9768\n",
      "\n"
     ]
    },
    {
     "name": "stdout",
     "output_type": "stream",
     "text": [
      "Epoch 190, Loss 0.016\n",
      "Training Accuracy: 0.9826, Testing Accuracy: 0.9768\n",
      "\n"
     ]
    },
    {
     "name": "stdout",
     "output_type": "stream",
     "text": [
      "Epoch 200, Loss 0.0156\n",
      "Training Accuracy: 0.9836, Testing Accuracy: 0.9768\n",
      "\n"
     ]
    },
    {
     "name": "stdout",
     "output_type": "stream",
     "text": [
      "Epoch 210, Loss 0.0152\n",
      "Training Accuracy: 0.9839, Testing Accuracy: 0.9768\n",
      "\n"
     ]
    },
    {
     "name": "stdout",
     "output_type": "stream",
     "text": [
      "Epoch 220, Loss 0.0148\n",
      "Training Accuracy: 0.9841, Testing Accuracy: 0.9768\n",
      "\n"
     ]
    },
    {
     "name": "stdout",
     "output_type": "stream",
     "text": [
      "Epoch 230, Loss 0.0145\n",
      "Training Accuracy: 0.9845, Testing Accuracy: 0.9773\n",
      "\n"
     ]
    },
    {
     "name": "stdout",
     "output_type": "stream",
     "text": [
      "Epoch 240, Loss 0.0141\n",
      "Training Accuracy: 0.9851, Testing Accuracy: 0.9773\n",
      "\n"
     ]
    },
    {
     "name": "stdout",
     "output_type": "stream",
     "text": [
      "Epoch 250, Loss 0.0138\n",
      "Training Accuracy: 0.9853, Testing Accuracy: 0.9778\n",
      "\n"
     ]
    },
    {
     "data": {
      "text/plain": [
       "0.01300861328411413"
      ]
     },
     "execution_count": 20,
     "metadata": {},
     "output_type": "execute_result"
    }
   ],
   "source": [
    "print(\"====== Neural Network ======\")\n",
    "learner_nn.train_loop(dl)"
   ]
  },
  {
   "cell_type": "markdown",
   "id": "competent-suffering",
   "metadata": {
    "papermill": {
     "duration": 0.038895,
     "end_time": "2021-02-20T10:06:02.025438",
     "exception": false,
     "start_time": "2021-02-20T10:06:01.986543",
     "status": "completed"
    },
    "tags": []
   },
   "source": [
    "### Logistic Regression based Implementation."
   ]
  },
  {
   "cell_type": "code",
   "execution_count": 21,
   "id": "qualified-psychiatry",
   "metadata": {
    "execution": {
     "iopub.execute_input": "2021-02-20T10:06:02.109497Z",
     "iopub.status.busy": "2021-02-20T10:06:02.107269Z",
     "iopub.status.idle": "2021-02-20T10:06:02.120053Z",
     "shell.execute_reply": "2021-02-20T10:06:02.119486Z"
    },
    "papermill": {
     "duration": 0.055922,
     "end_time": "2021-02-20T10:06:02.120209",
     "exception": false,
     "start_time": "2021-02-20T10:06:02.064287",
     "status": "completed"
    },
    "tags": []
   },
   "outputs": [],
   "source": [
    "learner_lr = Learner(loss, model_lr, opt, config.num_epochs)\n",
    "acc_lr = ClfCallback(learner_lr, config.bs, training_xdata , testing_xdata, training_ydata, testing_ydata)\n",
    "learner_lr.set_callbacks([acc_lr])"
   ]
  },
  {
   "cell_type": "code",
   "execution_count": 22,
   "id": "average-outside",
   "metadata": {
    "execution": {
     "iopub.execute_input": "2021-02-20T10:06:02.203866Z",
     "iopub.status.busy": "2021-02-20T10:06:02.203267Z",
     "iopub.status.idle": "2021-02-20T10:06:18.201158Z",
     "shell.execute_reply": "2021-02-20T10:06:18.201985Z"
    },
    "papermill": {
     "duration": 16.042488,
     "end_time": "2021-02-20T10:06:18.202153",
     "exception": false,
     "start_time": "2021-02-20T10:06:02.159665",
     "status": "completed"
    },
    "tags": []
   },
   "outputs": [
    {
     "name": "stdout",
     "output_type": "stream",
     "text": [
      "====== Logistic Regression ======\n",
      "Epoch 0, Loss 0.2235\n",
      "Training Accuracy: 0.7571, Testing Accuracy: 0.7520\n",
      "\n"
     ]
    },
    {
     "name": "stdout",
     "output_type": "stream",
     "text": [
      "Epoch 10, Loss 0.0992\n",
      "Training Accuracy: 0.9185, Testing Accuracy: 0.9269\n",
      "\n"
     ]
    },
    {
     "name": "stdout",
     "output_type": "stream",
     "text": [
      "Epoch 20, Loss 0.0771\n",
      "Training Accuracy: 0.9313, Testing Accuracy: 0.9395\n",
      "\n"
     ]
    },
    {
     "name": "stdout",
     "output_type": "stream",
     "text": [
      "Epoch 30, Loss 0.0668\n",
      "Training Accuracy: 0.9389, Testing Accuracy: 0.9476\n",
      "\n"
     ]
    },
    {
     "name": "stdout",
     "output_type": "stream",
     "text": [
      "Epoch 40, Loss 0.0606\n",
      "Training Accuracy: 0.9429, Testing Accuracy: 0.9521\n",
      "\n"
     ]
    },
    {
     "name": "stdout",
     "output_type": "stream",
     "text": [
      "Epoch 50, Loss 0.0563\n",
      "Training Accuracy: 0.9458, Testing Accuracy: 0.9551\n",
      "\n"
     ]
    },
    {
     "name": "stdout",
     "output_type": "stream",
     "text": [
      "Epoch 60, Loss 0.0532\n",
      "Training Accuracy: 0.9487, Testing Accuracy: 0.9582\n",
      "\n"
     ]
    },
    {
     "name": "stdout",
     "output_type": "stream",
     "text": [
      "Epoch 70, Loss 0.0507\n",
      "Training Accuracy: 0.9508, Testing Accuracy: 0.9592\n",
      "\n"
     ]
    },
    {
     "name": "stdout",
     "output_type": "stream",
     "text": [
      "Epoch 80, Loss 0.0487\n",
      "Training Accuracy: 0.9517, Testing Accuracy: 0.9602\n",
      "\n"
     ]
    },
    {
     "name": "stdout",
     "output_type": "stream",
     "text": [
      "Epoch 90, Loss 0.0471\n",
      "Training Accuracy: 0.9531, Testing Accuracy: 0.9612\n",
      "\n"
     ]
    },
    {
     "name": "stdout",
     "output_type": "stream",
     "text": [
      "Epoch 100, Loss 0.0457\n",
      "Training Accuracy: 0.9542, Testing Accuracy: 0.9627\n",
      "\n"
     ]
    },
    {
     "name": "stdout",
     "output_type": "stream",
     "text": [
      "Epoch 110, Loss 0.0445\n",
      "Training Accuracy: 0.9553, Testing Accuracy: 0.9627\n",
      "\n"
     ]
    },
    {
     "name": "stdout",
     "output_type": "stream",
     "text": [
      "Epoch 120, Loss 0.0435\n",
      "Training Accuracy: 0.9558, Testing Accuracy: 0.9637\n",
      "\n"
     ]
    },
    {
     "name": "stdout",
     "output_type": "stream",
     "text": [
      "Epoch 130, Loss 0.0426\n",
      "Training Accuracy: 0.9566, Testing Accuracy: 0.9637\n",
      "\n"
     ]
    },
    {
     "name": "stdout",
     "output_type": "stream",
     "text": [
      "Epoch 140, Loss 0.0417\n",
      "Training Accuracy: 0.9572, Testing Accuracy: 0.9637\n",
      "\n"
     ]
    },
    {
     "name": "stdout",
     "output_type": "stream",
     "text": [
      "Epoch 150, Loss 0.041\n",
      "Training Accuracy: 0.9579, Testing Accuracy: 0.9642\n",
      "\n"
     ]
    },
    {
     "name": "stdout",
     "output_type": "stream",
     "text": [
      "Epoch 160, Loss 0.0403\n",
      "Training Accuracy: 0.9585, Testing Accuracy: 0.9642\n",
      "\n"
     ]
    },
    {
     "name": "stdout",
     "output_type": "stream",
     "text": [
      "Epoch 170, Loss 0.0397\n",
      "Training Accuracy: 0.9589, Testing Accuracy: 0.9652\n",
      "\n"
     ]
    },
    {
     "name": "stdout",
     "output_type": "stream",
     "text": [
      "Epoch 180, Loss 0.0392\n",
      "Training Accuracy: 0.9595, Testing Accuracy: 0.9647\n",
      "\n"
     ]
    },
    {
     "name": "stdout",
     "output_type": "stream",
     "text": [
      "Epoch 190, Loss 0.0387\n",
      "Training Accuracy: 0.9600, Testing Accuracy: 0.9652\n",
      "\n"
     ]
    },
    {
     "name": "stdout",
     "output_type": "stream",
     "text": [
      "Epoch 200, Loss 0.0382\n",
      "Training Accuracy: 0.9605, Testing Accuracy: 0.9662\n",
      "\n"
     ]
    },
    {
     "name": "stdout",
     "output_type": "stream",
     "text": [
      "Epoch 210, Loss 0.0378\n",
      "Training Accuracy: 0.9605, Testing Accuracy: 0.9662\n",
      "\n"
     ]
    },
    {
     "name": "stdout",
     "output_type": "stream",
     "text": [
      "Epoch 220, Loss 0.0374\n",
      "Training Accuracy: 0.9609, Testing Accuracy: 0.9662\n",
      "\n"
     ]
    },
    {
     "name": "stdout",
     "output_type": "stream",
     "text": [
      "Epoch 230, Loss 0.037\n",
      "Training Accuracy: 0.9611, Testing Accuracy: 0.9662\n",
      "\n"
     ]
    },
    {
     "name": "stdout",
     "output_type": "stream",
     "text": [
      "Epoch 240, Loss 0.0366\n",
      "Training Accuracy: 0.9616, Testing Accuracy: 0.9662\n",
      "\n"
     ]
    },
    {
     "name": "stdout",
     "output_type": "stream",
     "text": [
      "Epoch 250, Loss 0.0363\n",
      "Training Accuracy: 0.9620, Testing Accuracy: 0.9662\n",
      "\n"
     ]
    },
    {
     "data": {
      "text/plain": [
       "0.038686059089700325"
      ]
     },
     "execution_count": 22,
     "metadata": {},
     "output_type": "execute_result"
    }
   ],
   "source": [
    "print(\"====== Logistic Regression ======\")\n",
    "learner_lr.train_loop(dl)"
   ]
  },
  {
   "cell_type": "markdown",
   "id": "adjusted-possible",
   "metadata": {
    "papermill": {
     "duration": 0.04677,
     "end_time": "2021-02-20T10:06:18.296709",
     "exception": false,
     "start_time": "2021-02-20T10:06:18.249939",
     "status": "completed"
    },
    "tags": []
   },
   "source": [
    "### Comparing results of NN and LR"
   ]
  },
  {
   "cell_type": "code",
   "execution_count": 23,
   "id": "mental-multimedia",
   "metadata": {
    "execution": {
     "iopub.execute_input": "2021-02-20T10:06:18.397042Z",
     "iopub.status.busy": "2021-02-20T10:06:18.396390Z",
     "iopub.status.idle": "2021-02-20T10:06:18.638872Z",
     "shell.execute_reply": "2021-02-20T10:06:18.638184Z"
    },
    "papermill": {
     "duration": 0.295655,
     "end_time": "2021-02-20T10:06:18.639046",
     "exception": false,
     "start_time": "2021-02-20T10:06:18.343391",
     "status": "completed"
    },
    "tags": []
   },
   "outputs": [
    {
     "data": {
      "text/plain": [
       "<matplotlib.legend.Legend at 0x7f940d10e1d0>"
      ]
     },
     "execution_count": 23,
     "metadata": {},
     "output_type": "execute_result"
    },
    {
     "data": {
      "image/png": "[encoded data removed]",
      "text/plain": [
       "<Figure size 1080x720 with 1 Axes>"
      ]
     },
     "metadata": {
      "needs_background": "light"
     },
     "output_type": "display_data"
    }
   ],
   "source": [
    "plt.figure(figsize=(15,10))\n",
    "\n",
    "# Neural Network plots\n",
    "plt.plot(acc_nn.accuracies, 'r-', label = \"Training Accuracies - NN\")\n",
    "plt.plot(acc_nn.test_accuracies, 'g-', label = \"Testing Accuracies - NN\")\n",
    "\n",
    "# Logistic Regression plots\n",
    "plt.plot(acc_lr.accuracies, 'k-', label = \"Training Accuracies - LR\")\n",
    "plt.plot(acc_lr.test_accuracies, 'b-', label = \"Testing Accuracies - LR\")\n",
    "\n",
    "plt.ylim(0.8, 1)\n",
    "\n",
    "plt.legend()\n",
    "\n"
   ]
  },
  {
   "cell_type": "markdown",
   "id": "sexual-flesh",
   "metadata": {
    "papermill": {
     "duration": 0.048619,
     "end_time": "2021-02-20T10:06:18.738418",
     "exception": false,
     "start_time": "2021-02-20T10:06:18.689799",
     "status": "completed"
    },
    "tags": []
   },
   "source": [
    "### From the plot, we can observe the following:\n",
    "- Neural Network achieves higher accuracy than the Logistic Regression model.\n",
    "- This apparently, is because of overfitting, i.e. NN captures more noise than data.\n",
    "- Testing accuracy of NN drops below the Training accuracy at higher epochs. This explains the over-fitting on training data.\n",
    "- Logistic Regression gives a reliable accuracy, without the above mentioned problem.\n"
   ]
  },
  {
   "cell_type": "markdown",
   "id": "institutional-pacific",
   "metadata": {
    "papermill": {
     "duration": 0.0485,
     "end_time": "2021-02-20T10:06:18.835433",
     "exception": false,
     "start_time": "2021-02-20T10:06:18.786933",
     "status": "completed"
    },
    "tags": []
   },
   "source": [
    "### Moving till the last but one layer (excluding it).\n",
    "#### Plotting the outputs of this layer of the NN."
   ]
  },
  {
   "cell_type": "code",
   "execution_count": 24,
   "id": "economic-server",
   "metadata": {
    "execution": {
     "iopub.execute_input": "2021-02-20T10:06:18.936875Z",
     "iopub.status.busy": "2021-02-20T10:06:18.936266Z",
     "iopub.status.idle": "2021-02-20T10:06:18.949932Z",
     "shell.execute_reply": "2021-02-20T10:06:18.949368Z"
    },
    "papermill": {
     "duration": 0.065972,
     "end_time": "2021-02-20T10:06:18.950059",
     "exception": false,
     "start_time": "2021-02-20T10:06:18.884087",
     "status": "completed"
    },
    "tags": []
   },
   "outputs": [],
   "source": [
    "model_new = Model(layers[:-2])"
   ]
  },
  {
   "cell_type": "code",
   "execution_count": 25,
   "id": "varied-upgrade",
   "metadata": {
    "execution": {
     "iopub.execute_input": "2021-02-20T10:06:19.053991Z",
     "iopub.status.busy": "2021-02-20T10:06:19.053401Z",
     "iopub.status.idle": "2021-02-20T10:06:19.074483Z",
     "shell.execute_reply": "2021-02-20T10:06:19.075096Z"
    },
    "papermill": {
     "duration": 0.076221,
     "end_time": "2021-02-20T10:06:19.075251",
     "exception": false,
     "start_time": "2021-02-20T10:06:18.999030",
     "status": "completed"
    },
    "tags": []
   },
   "outputs": [],
   "source": [
    "plot_testing = model_new(testing_xdata)"
   ]
  },
  {
   "cell_type": "code",
   "execution_count": 26,
   "id": "specific-handling",
   "metadata": {
    "execution": {
     "iopub.execute_input": "2021-02-20T10:06:19.181923Z",
     "iopub.status.busy": "2021-02-20T10:06:19.181325Z",
     "iopub.status.idle": "2021-02-20T10:06:19.392587Z",
     "shell.execute_reply": "2021-02-20T10:06:19.391996Z"
    },
    "papermill": {
     "duration": 0.26691,
     "end_time": "2021-02-20T10:06:19.392724",
     "exception": false,
     "start_time": "2021-02-20T10:06:19.125814",
     "status": "completed"
    },
    "tags": []
   },
   "outputs": [
    {
     "data": {
      "text/plain": [
       "Text(0.5, 1.0, 'Outputs')"
      ]
     },
     "execution_count": 26,
     "metadata": {},
     "output_type": "execute_result"
    },
    {
     "data": {
      "image/png": "[encoded data removed]",
      "text/plain": [
       "<Figure size 576x504 with 1 Axes>"
      ]
     },
     "metadata": {
      "needs_background": "light"
     },
     "output_type": "display_data"
    }
   ],
   "source": [
    "plt.figure(figsize=(8,7))\n",
    "plt.scatter(plot_testing[:,0], plot_testing[:,1], alpha = 0.1, c = y_test.ravel());\n",
    "plt.title('Outputs')"
   ]
  },
  {
   "cell_type": "markdown",
   "id": "described-knowing",
   "metadata": {
    "papermill": {
     "duration": 0.050617,
     "end_time": "2021-02-20T10:06:19.495507",
     "exception": false,
     "start_time": "2021-02-20T10:06:19.444890",
     "status": "completed"
    },
    "tags": []
   },
   "source": [
    "### Plotting probability contours"
   ]
  },
  {
   "cell_type": "code",
   "execution_count": 27,
   "id": "needed-growing",
   "metadata": {
    "execution": {
     "iopub.execute_input": "2021-02-20T10:06:19.601415Z",
     "iopub.status.busy": "2021-02-20T10:06:19.600839Z",
     "iopub.status.idle": "2021-02-20T10:06:19.613759Z",
     "shell.execute_reply": "2021-02-20T10:06:19.613260Z"
    },
    "papermill": {
     "duration": 0.067587,
     "end_time": "2021-02-20T10:06:19.613884",
     "exception": false,
     "start_time": "2021-02-20T10:06:19.546297",
     "status": "completed"
    },
    "tags": []
   },
   "outputs": [],
   "source": [
    "model_prob = Model(layers[-2:]) "
   ]
  },
  {
   "cell_type": "code",
   "execution_count": 28,
   "id": "introductory-enforcement",
   "metadata": {
    "execution": {
     "iopub.execute_input": "2021-02-20T10:06:19.727292Z",
     "iopub.status.busy": "2021-02-20T10:06:19.726653Z",
     "iopub.status.idle": "2021-02-20T10:06:19.736421Z",
     "shell.execute_reply": "2021-02-20T10:06:19.736872Z"
    },
    "papermill": {
     "duration": 0.072201,
     "end_time": "2021-02-20T10:06:19.737023",
     "exception": false,
     "start_time": "2021-02-20T10:06:19.664822",
     "status": "completed"
    },
    "tags": []
   },
   "outputs": [],
   "source": [
    "# Adjust the x and y ranges according to the above generated plot.\n",
    "x_range = np.linspace(-4, 1, 100) \n",
    "y_range = np.linspace(-6, 6, 100) \n",
    "x_grid, y_grid = np.meshgrid(x_range, y_range) # x_grid and y_grig are of size 100 X 100\n",
    "\n",
    "# converting x_grid and y_grid to continuous arrays\n",
    "x_grid_flat = np.ravel(x_grid)\n",
    "y_grid_flat = np.ravel(y_grid)\n",
    "\n",
    "# The last layer of the current model takes two columns as input. Hence transpose of np.vstack() is required.\n",
    "X = np.vstack((x_grid_flat, y_grid_flat)).T\n",
    "\n",
    "# x_grid and y_grid are of size 100 x 100\n",
    "probability_contour = model_prob(X).reshape(100,100) "
   ]
  },
  {
   "cell_type": "code",
   "execution_count": 29,
   "id": "understood-landing",
   "metadata": {
    "execution": {
     "iopub.execute_input": "2021-02-20T10:06:19.873089Z",
     "iopub.status.busy": "2021-02-20T10:06:19.872500Z",
     "iopub.status.idle": "2021-02-20T10:06:20.135569Z",
     "shell.execute_reply": "2021-02-20T10:06:20.135006Z"
    },
    "papermill": {
     "duration": 0.31827,
     "end_time": "2021-02-20T10:06:20.135700",
     "exception": false,
     "start_time": "2021-02-20T10:06:19.817430",
     "status": "completed"
    },
    "tags": []
   },
   "outputs": [
    {
     "data": {
      "image/png": "[encoded data removed]",
      "text/plain": [
       "<Figure size 720x648 with 1 Axes>"
      ]
     },
     "metadata": {
      "needs_background": "light"
     },
     "output_type": "display_data"
    }
   ],
   "source": [
    "plt.figure(figsize=(10,9))\n",
    "plt.scatter(plot_testing[:,0], plot_testing[:,1], alpha = 0.1, c = y_test.ravel())\n",
    "contours = plt.contour(x_grid,y_grid,probability_contour)\n",
    "plt.title('Probability Contours')\n",
    "plt.clabel(contours, inline = True );"
   ]
  }
 ],
 "metadata": {
  "kernelspec": {
   "display_name": "Python 3",
   "language": "python",
   "name": "python3"
  },
  "language_info": {
   "codemirror_mode": {
    "name": "ipython",
    "version": 3
   },
   "file_extension": ".py",
   "mimetype": "text/x-python",
   "name": "python",
   "nbconvert_exporter": "python",
   "pygments_lexer": "ipython3",
   "version": "3.6.12"
  },
  "papermill": {
   "duration": 116.025668,
   "end_time": "2021-02-20T10:06:20.598315",
   "environment_variables": {},
   "exception": null,
   "input_path": "2020-08-11-NeuralNetwork.ipynb",
   "output_path": "2020-08-11-NeuralNetwork.ipynb",
   "parameters": {},
   "start_time": "2021-02-20T10:04:24.572647",
   "version": "2.1.2"
  }
 },
 "nbformat": 4,
 "nbformat_minor": 5
}