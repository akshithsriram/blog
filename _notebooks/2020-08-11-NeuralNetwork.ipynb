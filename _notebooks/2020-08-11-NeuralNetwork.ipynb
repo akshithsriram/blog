{
 "cells": [
  {
   "cell_type": "markdown",
   "metadata": {
    "papermill": {
     "duration": 0.028059,
     "end_time": "2020-10-27T10:05:04.956160",
     "exception": false,
     "start_time": "2020-10-27T10:05:04.928101",
     "status": "completed"
    },
    "tags": []
   },
   "source": [
    "# \"A Basic Neural Network: Differentiate Hand-Written Digits\"\n",
    "\n",
    "- badges: true\n",
    "- author: Akshith Sriram"
   ]
  },
  {
   "cell_type": "markdown",
   "metadata": {
    "papermill": {
     "duration": 0.024587,
     "end_time": "2020-10-27T10:05:05.005895",
     "exception": false,
     "start_time": "2020-10-27T10:05:04.981308",
     "status": "completed"
    },
    "tags": []
   },
   "source": [
    "### Key Objectives:\n",
    "- Building a neural network that differentiates two hand-written digits 3 and 8.\n",
    "- Comparing the results of this Neural Network (NN) to that of a Logistic Regression (LR) model.\n",
    "\n",
    "### Requirements:\n",
    "- 'Kudzu' : A neural network library that was designed during our course by [Univ.AI](www.univ.ai). \n",
    "- MNIST Database\n",
    "\n",
    "If MNIST is not installed, use the command `!pip install mnist` given below.\n",
    "It can be run both from the command line and Jupyter Notebook."
   ]
  },
  {
   "cell_type": "code",
   "execution_count": 1,
   "metadata": {
    "execution": {
     "iopub.execute_input": "2020-10-27T10:05:05.060063Z",
     "iopub.status.busy": "2020-10-27T10:05:05.059445Z",
     "iopub.status.idle": "2020-10-27T10:05:06.471017Z",
     "shell.execute_reply": "2020-10-27T10:05:06.471899Z"
    },
    "papermill": {
     "duration": 1.441749,
     "end_time": "2020-10-27T10:05:06.472187",
     "exception": false,
     "start_time": "2020-10-27T10:05:05.030438",
     "status": "completed"
    },
    "tags": []
   },
   "outputs": [
    {
     "name": "stdout",
     "output_type": "stream",
     "text": [
      "Collecting mnist\r\n",
      "  Downloading mnist-0.2.2-py2.py3-none-any.whl (3.5 kB)\r\n"
     ]
    },
    {
     "name": "stdout",
     "output_type": "stream",
     "text": [
      "Requirement already satisfied: numpy in /opt/hostedtoolcache/Python/3.6.12/x64/lib/python3.6/site-packages (from mnist) (1.19.2)\r\n"
     ]
    },
    {
     "name": "stdout",
     "output_type": "stream",
     "text": [
      "Installing collected packages: mnist\r\n"
     ]
    },
    {
     "name": "stdout",
     "output_type": "stream",
     "text": [
      "Successfully installed mnist-0.2.2\r\n",
      "\u001b[33mWARNING: You are using pip version 20.2.3; however, version 20.2.4 is available.\r\n",
      "You should consider upgrading via the '/opt/hostedtoolcache/Python/3.6.12/x64/bin/python -m pip install --upgrade pip' command.\u001b[0m\r\n"
     ]
    }
   ],
   "source": [
    "!pip install mnist "
   ]
  },
  {
   "cell_type": "markdown",
   "metadata": {
    "papermill": {
     "duration": 0.026309,
     "end_time": "2020-10-27T10:05:06.525532",
     "exception": false,
     "start_time": "2020-10-27T10:05:06.499223",
     "status": "completed"
    },
    "tags": []
   },
   "source": [
    "#### Importing necessary libraries"
   ]
  },
  {
   "cell_type": "code",
   "execution_count": 2,
   "metadata": {
    "execution": {
     "iopub.execute_input": "2020-10-27T10:05:06.588884Z",
     "iopub.status.busy": "2020-10-27T10:05:06.588295Z",
     "iopub.status.idle": "2020-10-27T10:05:07.182178Z",
     "shell.execute_reply": "2020-10-27T10:05:07.181607Z"
    },
    "papermill": {
     "duration": 0.630041,
     "end_time": "2020-10-27T10:05:07.182332",
     "exception": false,
     "start_time": "2020-10-27T10:05:06.552291",
     "status": "completed"
    },
    "tags": []
   },
   "outputs": [],
   "source": [
    "%load_ext autoreload\n",
    "%autoreload 2\n",
    "\n",
    "%matplotlib inline\n",
    "import matplotlib.pyplot as plt\n",
    "\n",
    "import numpy as np\n",
    "import pandas as pd"
   ]
  },
  {
   "cell_type": "markdown",
   "metadata": {
    "papermill": {
     "duration": 0.082485,
     "end_time": "2020-10-27T10:05:07.291130",
     "exception": false,
     "start_time": "2020-10-27T10:05:07.208645",
     "status": "completed"
    },
    "tags": []
   },
   "source": [
    "### Preparing the Data"
   ]
  },
  {
   "cell_type": "code",
   "execution_count": 3,
   "metadata": {
    "execution": {
     "iopub.execute_input": "2020-10-27T10:05:07.351932Z",
     "iopub.status.busy": "2020-10-27T10:05:07.349263Z",
     "iopub.status.idle": "2020-10-27T10:05:07.362203Z",
     "shell.execute_reply": "2020-10-27T10:05:07.362650Z"
    },
    "papermill": {
     "duration": 0.044153,
     "end_time": "2020-10-27T10:05:07.362797",
     "exception": false,
     "start_time": "2020-10-27T10:05:07.318644",
     "status": "completed"
    },
    "tags": []
   },
   "outputs": [],
   "source": [
    "import mnist"
   ]
  },
  {
   "cell_type": "code",
   "execution_count": 4,
   "metadata": {
    "execution": {
     "iopub.execute_input": "2020-10-27T10:05:07.418658Z",
     "iopub.status.busy": "2020-10-27T10:05:07.418073Z",
     "iopub.status.idle": "2020-10-27T10:05:08.168818Z",
     "shell.execute_reply": "2020-10-27T10:05:08.168269Z"
    },
    "papermill": {
     "duration": 0.779914,
     "end_time": "2020-10-27T10:05:08.168950",
     "exception": false,
     "start_time": "2020-10-27T10:05:07.389036",
     "status": "completed"
    },
    "tags": []
   },
   "outputs": [],
   "source": [
    "train_images = mnist.train_images()\n",
    "train_labels = mnist.train_labels()"
   ]
  },
  {
   "cell_type": "code",
   "execution_count": 5,
   "metadata": {
    "execution": {
     "iopub.execute_input": "2020-10-27T10:05:08.228331Z",
     "iopub.status.busy": "2020-10-27T10:05:08.227731Z",
     "iopub.status.idle": "2020-10-27T10:05:08.243421Z",
     "shell.execute_reply": "2020-10-27T10:05:08.242905Z"
    },
    "papermill": {
     "duration": 0.048283,
     "end_time": "2020-10-27T10:05:08.243544",
     "exception": false,
     "start_time": "2020-10-27T10:05:08.195261",
     "status": "completed"
    },
    "tags": []
   },
   "outputs": [
    {
     "data": {
      "text/plain": [
       "((60000, 28, 28), (60000,))"
      ]
     },
     "execution_count": 5,
     "metadata": {},
     "output_type": "execute_result"
    }
   ],
   "source": [
    "train_images.shape, train_labels.shape"
   ]
  },
  {
   "cell_type": "code",
   "execution_count": 6,
   "metadata": {
    "execution": {
     "iopub.execute_input": "2020-10-27T10:05:08.301172Z",
     "iopub.status.busy": "2020-10-27T10:05:08.300593Z",
     "iopub.status.idle": "2020-10-27T10:05:10.524456Z",
     "shell.execute_reply": "2020-10-27T10:05:10.523292Z"
    },
    "papermill": {
     "duration": 2.254874,
     "end_time": "2020-10-27T10:05:10.524689",
     "exception": false,
     "start_time": "2020-10-27T10:05:08.269815",
     "status": "completed"
    },
    "tags": []
   },
   "outputs": [],
   "source": [
    "test_images = mnist.test_images()\n",
    "test_labels = mnist.test_labels()"
   ]
  },
  {
   "cell_type": "code",
   "execution_count": 7,
   "metadata": {
    "execution": {
     "iopub.execute_input": "2020-10-27T10:05:10.583830Z",
     "iopub.status.busy": "2020-10-27T10:05:10.583228Z",
     "iopub.status.idle": "2020-10-27T10:05:10.597219Z",
     "shell.execute_reply": "2020-10-27T10:05:10.596746Z"
    },
    "papermill": {
     "duration": 0.045942,
     "end_time": "2020-10-27T10:05:10.597347",
     "exception": false,
     "start_time": "2020-10-27T10:05:10.551405",
     "status": "completed"
    },
    "tags": []
   },
   "outputs": [
    {
     "data": {
      "text/plain": [
       "((10000, 28, 28), (10000,))"
      ]
     },
     "execution_count": 7,
     "metadata": {},
     "output_type": "execute_result"
    }
   ],
   "source": [
    "test_images.shape, test_labels.shape"
   ]
  },
  {
   "cell_type": "code",
   "execution_count": 8,
   "metadata": {
    "execution": {
     "iopub.execute_input": "2020-10-27T10:05:10.658180Z",
     "iopub.status.busy": "2020-10-27T10:05:10.657596Z",
     "iopub.status.idle": "2020-10-27T10:05:10.807047Z",
     "shell.execute_reply": "2020-10-27T10:05:10.807508Z"
    },
    "papermill": {
     "duration": 0.182821,
     "end_time": "2020-10-27T10:05:10.807668",
     "exception": false,
     "start_time": "2020-10-27T10:05:10.624847",
     "status": "completed"
    },
    "tags": []
   },
   "outputs": [
    {
     "name": "stdout",
     "output_type": "stream",
     "text": [
      "2\n"
     ]
    },
    {
     "data": {
      "text/plain": [
       "<matplotlib.image.AxesImage at 0x7ff1088b89b0>"
      ]
     },
     "execution_count": 8,
     "metadata": {},
     "output_type": "execute_result"
    },
    {
     "data": {
      "image/png": "[encoded data removed]",
      "text/plain": [
       "<Figure size 432x288 with 1 Axes>"
      ]
     },
     "metadata": {
      "needs_background": "light"
     },
     "output_type": "display_data"
    }
   ],
   "source": [
    "image_index = 7776 # You may select anything up to 60,000\n",
    "print(train_labels[image_index]) \n",
    "plt.imshow(train_images[image_index], cmap='Greys')"
   ]
  },
  {
   "cell_type": "markdown",
   "metadata": {
    "papermill": {
     "duration": 0.030198,
     "end_time": "2020-10-27T10:05:10.871446",
     "exception": false,
     "start_time": "2020-10-27T10:05:10.841248",
     "status": "completed"
    },
    "tags": []
   },
   "source": [
    "## Filter data to get 3 and 8 out"
   ]
  },
  {
   "cell_type": "code",
   "execution_count": 9,
   "metadata": {
    "execution": {
     "iopub.execute_input": "2020-10-27T10:05:10.944474Z",
     "iopub.status.busy": "2020-10-27T10:05:10.936510Z",
     "iopub.status.idle": "2020-10-27T10:05:10.952393Z",
     "shell.execute_reply": "2020-10-27T10:05:10.952839Z"
    },
    "papermill": {
     "duration": 0.054403,
     "end_time": "2020-10-27T10:05:10.952990",
     "exception": false,
     "start_time": "2020-10-27T10:05:10.898587",
     "status": "completed"
    },
    "tags": []
   },
   "outputs": [],
   "source": [
    "train_filter = np.where((train_labels == 3 ) | (train_labels == 8))\n",
    "test_filter = np.where((test_labels == 3) | (test_labels == 8))\n",
    "X_train, y_train = train_images[train_filter], train_labels[train_filter]\n",
    "X_test, y_test = test_images[test_filter], test_labels[test_filter]"
   ]
  },
  {
   "cell_type": "markdown",
   "metadata": {
    "papermill": {
     "duration": 0.0276,
     "end_time": "2020-10-27T10:05:11.008583",
     "exception": false,
     "start_time": "2020-10-27T10:05:10.980983",
     "status": "completed"
    },
    "tags": []
   },
   "source": [
    "We normalize the pixel values in the 0 to 1 range"
   ]
  },
  {
   "cell_type": "code",
   "execution_count": 10,
   "metadata": {
    "execution": {
     "iopub.execute_input": "2020-10-27T10:05:11.068462Z",
     "iopub.status.busy": "2020-10-27T10:05:11.067859Z",
     "iopub.status.idle": "2020-10-27T10:05:11.125149Z",
     "shell.execute_reply": "2020-10-27T10:05:11.124537Z"
    },
    "papermill": {
     "duration": 0.089165,
     "end_time": "2020-10-27T10:05:11.125305",
     "exception": false,
     "start_time": "2020-10-27T10:05:11.036140",
     "status": "completed"
    },
    "tags": []
   },
   "outputs": [],
   "source": [
    "X_train = X_train/255.\n",
    "X_test = X_test/255."
   ]
  },
  {
   "cell_type": "markdown",
   "metadata": {
    "papermill": {
     "duration": 0.028853,
     "end_time": "2020-10-27T10:05:11.183604",
     "exception": false,
     "start_time": "2020-10-27T10:05:11.154751",
     "status": "completed"
    },
    "tags": []
   },
   "source": [
    "Setup the labels as 1 (when the digit is 3) and 0 (when the digit is 8)"
   ]
  },
  {
   "cell_type": "code",
   "execution_count": 11,
   "metadata": {
    "execution": {
     "iopub.execute_input": "2020-10-27T10:05:11.250553Z",
     "iopub.status.busy": "2020-10-27T10:05:11.249793Z",
     "iopub.status.idle": "2020-10-27T10:05:11.263451Z",
     "shell.execute_reply": "2020-10-27T10:05:11.262938Z"
    },
    "papermill": {
     "duration": 0.052079,
     "end_time": "2020-10-27T10:05:11.263638",
     "exception": false,
     "start_time": "2020-10-27T10:05:11.211559",
     "status": "completed"
    },
    "tags": []
   },
   "outputs": [],
   "source": [
    "y_train = 1*(y_train==3)\n",
    "y_test = 1*(y_test==3)"
   ]
  },
  {
   "cell_type": "code",
   "execution_count": 12,
   "metadata": {
    "execution": {
     "iopub.execute_input": "2020-10-27T10:05:11.330230Z",
     "iopub.status.busy": "2020-10-27T10:05:11.329511Z",
     "iopub.status.idle": "2020-10-27T10:05:11.345360Z",
     "shell.execute_reply": "2020-10-27T10:05:11.344827Z"
    },
    "papermill": {
     "duration": 0.051056,
     "end_time": "2020-10-27T10:05:11.345484",
     "exception": false,
     "start_time": "2020-10-27T10:05:11.294428",
     "status": "completed"
    },
    "tags": []
   },
   "outputs": [
    {
     "data": {
      "text/plain": [
       "((11982, 28, 28), (1984, 28, 28))"
      ]
     },
     "execution_count": 12,
     "metadata": {},
     "output_type": "execute_result"
    }
   ],
   "source": [
    "X_train.shape, X_test.shape"
   ]
  },
  {
   "cell_type": "markdown",
   "metadata": {
    "papermill": {
     "duration": 0.027705,
     "end_time": "2020-10-27T10:05:11.401946",
     "exception": false,
     "start_time": "2020-10-27T10:05:11.374241",
     "status": "completed"
    },
    "tags": []
   },
   "source": [
    "### Reshape the input data to create a linear array"
   ]
  },
  {
   "cell_type": "code",
   "execution_count": 13,
   "metadata": {
    "execution": {
     "iopub.execute_input": "2020-10-27T10:05:11.468108Z",
     "iopub.status.busy": "2020-10-27T10:05:11.467477Z",
     "iopub.status.idle": "2020-10-27T10:05:11.484567Z",
     "shell.execute_reply": "2020-10-27T10:05:11.484062Z"
    },
    "papermill": {
     "duration": 0.054652,
     "end_time": "2020-10-27T10:05:11.484692",
     "exception": false,
     "start_time": "2020-10-27T10:05:11.430040",
     "status": "completed"
    },
    "tags": []
   },
   "outputs": [
    {
     "data": {
      "text/plain": [
       "((11982, 784), (1984, 784))"
      ]
     },
     "execution_count": 13,
     "metadata": {},
     "output_type": "execute_result"
    }
   ],
   "source": [
    "X_train = X_train.reshape(X_train.shape[0], -1)\n",
    "X_test = X_test.reshape(X_test.shape[0], -1)\n",
    "X_train.shape, X_test.shape"
   ]
  },
  {
   "cell_type": "markdown",
   "metadata": {
    "papermill": {
     "duration": 0.028789,
     "end_time": "2020-10-27T10:05:11.542674",
     "exception": false,
     "start_time": "2020-10-27T10:05:11.513885",
     "status": "completed"
    },
    "tags": []
   },
   "source": [
    "### Importing appropriate functions from 'Kudzu'"
   ]
  },
  {
   "cell_type": "code",
   "execution_count": 14,
   "metadata": {
    "execution": {
     "iopub.execute_input": "2020-10-27T10:05:11.606223Z",
     "iopub.status.busy": "2020-10-27T10:05:11.605535Z",
     "iopub.status.idle": "2020-10-27T10:05:11.630297Z",
     "shell.execute_reply": "2020-10-27T10:05:11.630763Z"
    },
    "papermill": {
     "duration": 0.059433,
     "end_time": "2020-10-27T10:05:11.630917",
     "exception": false,
     "start_time": "2020-10-27T10:05:11.571484",
     "status": "completed"
    },
    "tags": []
   },
   "outputs": [],
   "source": [
    "from kudzu.layer import Sigmoid\n",
    "from kudzu.layer import Relu\n",
    "from kudzu.layer import Affine, Sigmoid\n",
    "\n",
    "from kudzu.model import Model\n",
    "from kudzu.train import Learner\n",
    "from kudzu.optim import GD\n",
    "from kudzu.data import Data, Dataloader, Sampler\n",
    "\n",
    "from kudzu.callbacks import AccCallback\n",
    "from kudzu.callbacks import ClfCallback\n",
    "\n",
    "from kudzu.loss import MSE"
   ]
  },
  {
   "cell_type": "markdown",
   "metadata": {
    "papermill": {
     "duration": 0.0282,
     "end_time": "2020-10-27T10:05:11.688183",
     "exception": false,
     "start_time": "2020-10-27T10:05:11.659983",
     "status": "completed"
    },
    "tags": []
   },
   "source": [
    "### Let us create a `Config` class, to store important parameters. \n",
    "This class essentially plays the role of a dictionary."
   ]
  },
  {
   "cell_type": "code",
   "execution_count": 15,
   "metadata": {
    "execution": {
     "iopub.execute_input": "2020-10-27T10:05:11.750866Z",
     "iopub.status.busy": "2020-10-27T10:05:11.750285Z",
     "iopub.status.idle": "2020-10-27T10:05:11.763157Z",
     "shell.execute_reply": "2020-10-27T10:05:11.763605Z"
    },
    "papermill": {
     "duration": 0.047039,
     "end_time": "2020-10-27T10:05:11.763781",
     "exception": false,
     "start_time": "2020-10-27T10:05:11.716742",
     "status": "completed"
    },
    "tags": []
   },
   "outputs": [],
   "source": [
    "class Config:\n",
    "    pass\n",
    "config = Config()\n",
    "config.lr = 0.001\n",
    "config.num_epochs = 251\n",
    "config.bs = 50"
   ]
  },
  {
   "cell_type": "markdown",
   "metadata": {
    "papermill": {
     "duration": 0.028107,
     "end_time": "2020-10-27T10:05:11.820420",
     "exception": false,
     "start_time": "2020-10-27T10:05:11.792313",
     "status": "completed"
    },
    "tags": []
   },
   "source": [
    "### Initializing data to the variables"
   ]
  },
  {
   "cell_type": "code",
   "execution_count": 16,
   "metadata": {
    "execution": {
     "iopub.execute_input": "2020-10-27T10:05:11.884741Z",
     "iopub.status.busy": "2020-10-27T10:05:11.884156Z",
     "iopub.status.idle": "2020-10-27T10:05:11.896192Z",
     "shell.execute_reply": "2020-10-27T10:05:11.895665Z"
    },
    "papermill": {
     "duration": 0.046706,
     "end_time": "2020-10-27T10:05:11.896316",
     "exception": false,
     "start_time": "2020-10-27T10:05:11.849610",
     "status": "completed"
    },
    "tags": []
   },
   "outputs": [],
   "source": [
    "data = Data(X_train, y_train.reshape(-1,1))\n",
    "sampler = Sampler(data, config.bs, shuffle=True)\n",
    "\n",
    "dl = Dataloader(data, sampler)\n",
    "\n",
    "opt = GD(config.lr)\n",
    "loss = MSE()"
   ]
  },
  {
   "cell_type": "code",
   "execution_count": 17,
   "metadata": {
    "execution": {
     "iopub.execute_input": "2020-10-27T10:05:11.957057Z",
     "iopub.status.busy": "2020-10-27T10:05:11.956475Z",
     "iopub.status.idle": "2020-10-27T10:05:11.969404Z",
     "shell.execute_reply": "2020-10-27T10:05:11.968902Z"
    },
    "papermill": {
     "duration": 0.044995,
     "end_time": "2020-10-27T10:05:11.969529",
     "exception": false,
     "start_time": "2020-10-27T10:05:11.924534",
     "status": "completed"
    },
    "tags": []
   },
   "outputs": [],
   "source": [
    "training_xdata = X_train\n",
    "testing_xdata = X_test\n",
    "training_ydata = y_train.reshape(-1,1)\n",
    "testing_ydata = y_test.reshape(-1,1)"
   ]
  },
  {
   "cell_type": "markdown",
   "metadata": {
    "papermill": {
     "duration": 0.028531,
     "end_time": "2020-10-27T10:05:12.026969",
     "exception": false,
     "start_time": "2020-10-27T10:05:11.998438",
     "status": "completed"
    },
    "tags": []
   },
   "source": [
    "### Running Models with the Training data\n",
    "Details about the network layers:\n",
    "- A first affine layer has 784 inputs and does 100 affine transforms. These are followed by a Relu\n",
    "- A second affine layer has 100 inputs from the 100 activations of the past layer, and does 100 affine transforms. These are followed by a Relu\n",
    "- A third affine layer has 100 activations and does 2 affine transformations to create an embedding for visualization. There is no non-linearity here.\n",
    "- A final \"logistic regression\" which has an affine transform from 2 inputs to 1 output, which is squeezed through a sigmoid.\n",
    "\n",
    "Help taken from Anshuman's Notebook."
   ]
  },
  {
   "cell_type": "code",
   "execution_count": 18,
   "metadata": {
    "execution": {
     "iopub.execute_input": "2020-10-27T10:05:12.089104Z",
     "iopub.status.busy": "2020-10-27T10:05:12.088518Z",
     "iopub.status.idle": "2020-10-27T10:05:12.108012Z",
     "shell.execute_reply": "2020-10-27T10:05:12.108634Z"
    },
    "papermill": {
     "duration": 0.053221,
     "end_time": "2020-10-27T10:05:12.108836",
     "exception": false,
     "start_time": "2020-10-27T10:05:12.055615",
     "status": "completed"
    },
    "tags": []
   },
   "outputs": [],
   "source": [
    "# layers for the Neural Network\n",
    "layers = [Affine(\"first\", 784, 100), Relu(\"first\"), Affine(\"second\", 100, 100), Relu(\"second\"), Affine(\"third\", 100, 2), Affine(\"final\", 2, 1), Sigmoid(\"final\")]\n",
    "model_nn = Model(layers)\n",
    "\n",
    "# layers for the Logistic Regression\n",
    "layers_lr = [Affine(\"logits\", 784, 1), Sigmoid(\"sigmoid\")]\n",
    "model_lr = Model(layers_lr)"
   ]
  },
  {
   "cell_type": "code",
   "execution_count": 19,
   "metadata": {
    "execution": {
     "iopub.execute_input": "2020-10-27T10:05:12.183801Z",
     "iopub.status.busy": "2020-10-27T10:05:12.183165Z",
     "iopub.status.idle": "2020-10-27T10:05:12.190769Z",
     "shell.execute_reply": "2020-10-27T10:05:12.191483Z"
    },
    "papermill": {
     "duration": 0.052844,
     "end_time": "2020-10-27T10:05:12.191631",
     "exception": false,
     "start_time": "2020-10-27T10:05:12.138787",
     "status": "completed"
    },
    "tags": []
   },
   "outputs": [],
   "source": [
    "# suffix _nn stands for Neural Network.\n",
    "learner_nn = Learner(loss, model_nn, opt, config.num_epochs)\n",
    "acc_nn = ClfCallback(learner_nn, config.bs, training_xdata , testing_xdata, training_ydata, testing_ydata)\n",
    "learner_nn.set_callbacks([acc_nn])"
   ]
  },
  {
   "cell_type": "code",
   "execution_count": 20,
   "metadata": {
    "execution": {
     "iopub.execute_input": "2020-10-27T10:05:12.357860Z",
     "iopub.status.busy": "2020-10-27T10:05:12.357270Z",
     "iopub.status.idle": "2020-10-27T10:06:36.712875Z",
     "shell.execute_reply": "2020-10-27T10:06:36.713437Z"
    },
    "papermill": {
     "duration": 84.493121,
     "end_time": "2020-10-27T10:06:36.713592",
     "exception": false,
     "start_time": "2020-10-27T10:05:12.220471",
     "status": "completed"
    },
    "tags": []
   },
   "outputs": [
    {
     "name": "stdout",
     "output_type": "stream",
     "text": [
      "====== Neural Network ======\n"
     ]
    },
    {
     "name": "stdout",
     "output_type": "stream",
     "text": [
      "Epoch 0, Loss 0.2487\n",
      "Training Accuracy: 0.6095, Testing Accuracy: 0.6492\n",
      "\n"
     ]
    },
    {
     "name": "stdout",
     "output_type": "stream",
     "text": [
      "Epoch 10, Loss 0.1128\n",
      "Training Accuracy: 0.9094, Testing Accuracy: 0.9239\n",
      "\n"
     ]
    },
    {
     "name": "stdout",
     "output_type": "stream",
     "text": [
      "Epoch 20, Loss 0.0634\n",
      "Training Accuracy: 0.9362, Testing Accuracy: 0.9441\n",
      "\n"
     ]
    },
    {
     "name": "stdout",
     "output_type": "stream",
     "text": [
      "Epoch 30, Loss 0.0483\n",
      "Training Accuracy: 0.9480, Testing Accuracy: 0.9541\n",
      "\n"
     ]
    },
    {
     "name": "stdout",
     "output_type": "stream",
     "text": [
      "Epoch 40, Loss 0.0412\n",
      "Training Accuracy: 0.9540, Testing Accuracy: 0.9607\n",
      "\n"
     ]
    },
    {
     "name": "stdout",
     "output_type": "stream",
     "text": [
      "Epoch 50, Loss 0.037\n",
      "Training Accuracy: 0.9584, Testing Accuracy: 0.9647\n",
      "\n"
     ]
    },
    {
     "name": "stdout",
     "output_type": "stream",
     "text": [
      "Epoch 60, Loss 0.0341\n",
      "Training Accuracy: 0.9619, Testing Accuracy: 0.9682\n",
      "\n"
     ]
    },
    {
     "name": "stdout",
     "output_type": "stream",
     "text": [
      "Epoch 70, Loss 0.032\n",
      "Training Accuracy: 0.9634, Testing Accuracy: 0.9682\n",
      "\n"
     ]
    },
    {
     "name": "stdout",
     "output_type": "stream",
     "text": [
      "Epoch 80, Loss 0.0303\n",
      "Training Accuracy: 0.9649, Testing Accuracy: 0.9688\n",
      "\n"
     ]
    },
    {
     "name": "stdout",
     "output_type": "stream",
     "text": [
      "Epoch 90, Loss 0.029\n",
      "Training Accuracy: 0.9666, Testing Accuracy: 0.9698\n",
      "\n"
     ]
    },
    {
     "name": "stdout",
     "output_type": "stream",
     "text": [
      "Epoch 100, Loss 0.0278\n",
      "Training Accuracy: 0.9674, Testing Accuracy: 0.9703\n",
      "\n"
     ]
    },
    {
     "name": "stdout",
     "output_type": "stream",
     "text": [
      "Epoch 110, Loss 0.0268\n",
      "Training Accuracy: 0.9690, Testing Accuracy: 0.9708\n",
      "\n"
     ]
    },
    {
     "name": "stdout",
     "output_type": "stream",
     "text": [
      "Epoch 120, Loss 0.026\n",
      "Training Accuracy: 0.9700, Testing Accuracy: 0.9708\n",
      "\n"
     ]
    },
    {
     "name": "stdout",
     "output_type": "stream",
     "text": [
      "Epoch 130, Loss 0.0252\n",
      "Training Accuracy: 0.9707, Testing Accuracy: 0.9728\n",
      "\n"
     ]
    },
    {
     "name": "stdout",
     "output_type": "stream",
     "text": [
      "Epoch 140, Loss 0.0245\n",
      "Training Accuracy: 0.9712, Testing Accuracy: 0.9723\n",
      "\n"
     ]
    },
    {
     "name": "stdout",
     "output_type": "stream",
     "text": [
      "Epoch 150, Loss 0.0238\n",
      "Training Accuracy: 0.9720, Testing Accuracy: 0.9718\n",
      "\n"
     ]
    },
    {
     "name": "stdout",
     "output_type": "stream",
     "text": [
      "Epoch 160, Loss 0.0232\n",
      "Training Accuracy: 0.9726, Testing Accuracy: 0.9733\n",
      "\n"
     ]
    },
    {
     "name": "stdout",
     "output_type": "stream",
     "text": [
      "Epoch 170, Loss 0.0226\n",
      "Training Accuracy: 0.9735, Testing Accuracy: 0.9733\n",
      "\n"
     ]
    },
    {
     "name": "stdout",
     "output_type": "stream",
     "text": [
      "Epoch 180, Loss 0.0221\n",
      "Training Accuracy: 0.9744, Testing Accuracy: 0.9738\n",
      "\n"
     ]
    },
    {
     "name": "stdout",
     "output_type": "stream",
     "text": [
      "Epoch 190, Loss 0.0216\n",
      "Training Accuracy: 0.9755, Testing Accuracy: 0.9738\n",
      "\n"
     ]
    },
    {
     "name": "stdout",
     "output_type": "stream",
     "text": [
      "Epoch 200, Loss 0.0211\n",
      "Training Accuracy: 0.9765, Testing Accuracy: 0.9743\n",
      "\n"
     ]
    },
    {
     "name": "stdout",
     "output_type": "stream",
     "text": [
      "Epoch 210, Loss 0.0206\n",
      "Training Accuracy: 0.9772, Testing Accuracy: 0.9743\n",
      "\n"
     ]
    },
    {
     "name": "stdout",
     "output_type": "stream",
     "text": [
      "Epoch 220, Loss 0.0202\n",
      "Training Accuracy: 0.9776, Testing Accuracy: 0.9738\n",
      "\n"
     ]
    },
    {
     "name": "stdout",
     "output_type": "stream",
     "text": [
      "Epoch 230, Loss 0.0198\n",
      "Training Accuracy: 0.9782, Testing Accuracy: 0.9733\n",
      "\n"
     ]
    },
    {
     "name": "stdout",
     "output_type": "stream",
     "text": [
      "Epoch 240, Loss 0.0193\n",
      "Training Accuracy: 0.9786, Testing Accuracy: 0.9743\n",
      "\n"
     ]
    },
    {
     "name": "stdout",
     "output_type": "stream",
     "text": [
      "Epoch 250, Loss 0.0189\n",
      "Training Accuracy: 0.9793, Testing Accuracy: 0.9743\n",
      "\n"
     ]
    },
    {
     "data": {
      "text/plain": [
       "0.009151180769570505"
      ]
     },
     "execution_count": 20,
     "metadata": {},
     "output_type": "execute_result"
    }
   ],
   "source": [
    "print(\"====== Neural Network ======\")\n",
    "learner_nn.train_loop(dl)"
   ]
  },
  {
   "cell_type": "markdown",
   "metadata": {
    "papermill": {
     "duration": 0.036262,
     "end_time": "2020-10-27T10:06:36.786750",
     "exception": false,
     "start_time": "2020-10-27T10:06:36.750488",
     "status": "completed"
    },
    "tags": []
   },
   "source": [
    "### Logistic Regression based Implementation."
   ]
  },
  {
   "cell_type": "code",
   "execution_count": 21,
   "metadata": {
    "execution": {
     "iopub.execute_input": "2020-10-27T10:06:36.865088Z",
     "iopub.status.busy": "2020-10-27T10:06:36.864473Z",
     "iopub.status.idle": "2020-10-27T10:06:36.878050Z",
     "shell.execute_reply": "2020-10-27T10:06:36.877503Z"
    },
    "papermill": {
     "duration": 0.055373,
     "end_time": "2020-10-27T10:06:36.878183",
     "exception": false,
     "start_time": "2020-10-27T10:06:36.822810",
     "status": "completed"
    },
    "tags": []
   },
   "outputs": [],
   "source": [
    "learner_lr = Learner(loss, model_lr, opt, config.num_epochs)\n",
    "acc_lr = ClfCallback(learner_lr, config.bs, training_xdata , testing_xdata, training_ydata, testing_ydata)\n",
    "learner_lr.set_callbacks([acc_lr])"
   ]
  },
  {
   "cell_type": "code",
   "execution_count": 22,
   "metadata": {
    "execution": {
     "iopub.execute_input": "2020-10-27T10:06:36.956329Z",
     "iopub.status.busy": "2020-10-27T10:06:36.955715Z",
     "iopub.status.idle": "2020-10-27T10:06:54.017255Z",
     "shell.execute_reply": "2020-10-27T10:06:54.017809Z"
    },
    "papermill": {
     "duration": 17.103117,
     "end_time": "2020-10-27T10:06:54.017964",
     "exception": false,
     "start_time": "2020-10-27T10:06:36.914847",
     "status": "completed"
    },
    "tags": []
   },
   "outputs": [
    {
     "name": "stdout",
     "output_type": "stream",
     "text": [
      "====== Logistic Regression ======\n",
      "Epoch 0, Loss 0.2684\n",
      "Training Accuracy: 0.5603, Testing Accuracy: 0.5731\n",
      "\n"
     ]
    },
    {
     "name": "stdout",
     "output_type": "stream",
     "text": [
      "Epoch 10, Loss 0.1102\n",
      "Training Accuracy: 0.8983, Testing Accuracy: 0.9047\n",
      "\n"
     ]
    },
    {
     "name": "stdout",
     "output_type": "stream",
     "text": [
      "Epoch 20, Loss 0.0823\n",
      "Training Accuracy: 0.9230, Testing Accuracy: 0.9370\n",
      "\n"
     ]
    },
    {
     "name": "stdout",
     "output_type": "stream",
     "text": [
      "Epoch 30, Loss 0.0699\n",
      "Training Accuracy: 0.9352, Testing Accuracy: 0.9461\n",
      "\n"
     ]
    },
    {
     "name": "stdout",
     "output_type": "stream",
     "text": [
      "Epoch 40, Loss 0.0627\n",
      "Training Accuracy: 0.9405, Testing Accuracy: 0.9521\n",
      "\n"
     ]
    },
    {
     "name": "stdout",
     "output_type": "stream",
     "text": [
      "Epoch 50, Loss 0.0578\n",
      "Training Accuracy: 0.9446, Testing Accuracy: 0.9536\n",
      "\n"
     ]
    },
    {
     "name": "stdout",
     "output_type": "stream",
     "text": [
      "Epoch 60, Loss 0.0543\n",
      "Training Accuracy: 0.9478, Testing Accuracy: 0.9582\n",
      "\n"
     ]
    },
    {
     "name": "stdout",
     "output_type": "stream",
     "text": [
      "Epoch 70, Loss 0.0516\n",
      "Training Accuracy: 0.9500, Testing Accuracy: 0.9607\n",
      "\n"
     ]
    },
    {
     "name": "stdout",
     "output_type": "stream",
     "text": [
      "Epoch 80, Loss 0.0495\n",
      "Training Accuracy: 0.9516, Testing Accuracy: 0.9607\n",
      "\n"
     ]
    },
    {
     "name": "stdout",
     "output_type": "stream",
     "text": [
      "Epoch 90, Loss 0.0478\n",
      "Training Accuracy: 0.9525, Testing Accuracy: 0.9607\n",
      "\n"
     ]
    },
    {
     "name": "stdout",
     "output_type": "stream",
     "text": [
      "Epoch 100, Loss 0.0463\n",
      "Training Accuracy: 0.9533, Testing Accuracy: 0.9607\n",
      "\n"
     ]
    },
    {
     "name": "stdout",
     "output_type": "stream",
     "text": [
      "Epoch 110, Loss 0.0451\n",
      "Training Accuracy: 0.9540, Testing Accuracy: 0.9607\n",
      "\n"
     ]
    },
    {
     "name": "stdout",
     "output_type": "stream",
     "text": [
      "Epoch 120, Loss 0.044\n",
      "Training Accuracy: 0.9543, Testing Accuracy: 0.9612\n",
      "\n"
     ]
    },
    {
     "name": "stdout",
     "output_type": "stream",
     "text": [
      "Epoch 130, Loss 0.043\n",
      "Training Accuracy: 0.9547, Testing Accuracy: 0.9617\n",
      "\n"
     ]
    },
    {
     "name": "stdout",
     "output_type": "stream",
     "text": [
      "Epoch 140, Loss 0.0422\n",
      "Training Accuracy: 0.9552, Testing Accuracy: 0.9622\n",
      "\n"
     ]
    },
    {
     "name": "stdout",
     "output_type": "stream",
     "text": [
      "Epoch 150, Loss 0.0415\n",
      "Training Accuracy: 0.9556, Testing Accuracy: 0.9622\n",
      "\n"
     ]
    },
    {
     "name": "stdout",
     "output_type": "stream",
     "text": [
      "Epoch 160, Loss 0.0408\n",
      "Training Accuracy: 0.9564, Testing Accuracy: 0.9622\n",
      "\n"
     ]
    },
    {
     "name": "stdout",
     "output_type": "stream",
     "text": [
      "Epoch 170, Loss 0.0402\n",
      "Training Accuracy: 0.9573, Testing Accuracy: 0.9627\n",
      "\n"
     ]
    },
    {
     "name": "stdout",
     "output_type": "stream",
     "text": [
      "Epoch 180, Loss 0.0396\n",
      "Training Accuracy: 0.9577, Testing Accuracy: 0.9627\n",
      "\n"
     ]
    },
    {
     "name": "stdout",
     "output_type": "stream",
     "text": [
      "Epoch 190, Loss 0.0391\n",
      "Training Accuracy: 0.9582, Testing Accuracy: 0.9637\n",
      "\n"
     ]
    },
    {
     "name": "stdout",
     "output_type": "stream",
     "text": [
      "Epoch 200, Loss 0.0386\n",
      "Training Accuracy: 0.9591, Testing Accuracy: 0.9652\n",
      "\n"
     ]
    },
    {
     "name": "stdout",
     "output_type": "stream",
     "text": [
      "Epoch 210, Loss 0.0382\n",
      "Training Accuracy: 0.9596, Testing Accuracy: 0.9657\n",
      "\n"
     ]
    },
    {
     "name": "stdout",
     "output_type": "stream",
     "text": [
      "Epoch 220, Loss 0.0377\n",
      "Training Accuracy: 0.9601, Testing Accuracy: 0.9657\n",
      "\n"
     ]
    },
    {
     "name": "stdout",
     "output_type": "stream",
     "text": [
      "Epoch 230, Loss 0.0374\n",
      "Training Accuracy: 0.9607, Testing Accuracy: 0.9662\n",
      "\n"
     ]
    },
    {
     "name": "stdout",
     "output_type": "stream",
     "text": [
      "Epoch 240, Loss 0.037\n",
      "Training Accuracy: 0.9610, Testing Accuracy: 0.9662\n",
      "\n"
     ]
    },
    {
     "name": "stdout",
     "output_type": "stream",
     "text": [
      "Epoch 250, Loss 0.0367\n",
      "Training Accuracy: 0.9614, Testing Accuracy: 0.9662\n",
      "\n"
     ]
    },
    {
     "data": {
      "text/plain": [
       "0.023458366851565573"
      ]
     },
     "execution_count": 22,
     "metadata": {},
     "output_type": "execute_result"
    }
   ],
   "source": [
    "print(\"====== Logistic Regression ======\")\n",
    "learner_lr.train_loop(dl)"
   ]
  },
  {
   "cell_type": "markdown",
   "metadata": {
    "papermill": {
     "duration": 0.043971,
     "end_time": "2020-10-27T10:06:54.106072",
     "exception": false,
     "start_time": "2020-10-27T10:06:54.062101",
     "status": "completed"
    },
    "tags": []
   },
   "source": [
    "### Comparing results of NN and LR"
   ]
  },
  {
   "cell_type": "code",
   "execution_count": 23,
   "metadata": {
    "execution": {
     "iopub.execute_input": "2020-10-27T10:06:54.205873Z",
     "iopub.status.busy": "2020-10-27T10:06:54.204832Z",
     "iopub.status.idle": "2020-10-27T10:06:54.448987Z",
     "shell.execute_reply": "2020-10-27T10:06:54.449461Z"
    },
    "papermill": {
     "duration": 0.295316,
     "end_time": "2020-10-27T10:06:54.449614",
     "exception": false,
     "start_time": "2020-10-27T10:06:54.154298",
     "status": "completed"
    },
    "tags": []
   },
   "outputs": [
    {
     "data": {
      "text/plain": [
       "<matplotlib.legend.Legend at 0x7ff106419898>"
      ]
     },
     "execution_count": 23,
     "metadata": {},
     "output_type": "execute_result"
    },
    {
     "data": {
      "image/png": "[encoded data removed]",
      "text/plain": [
       "<Figure size 1080x720 with 1 Axes>"
      ]
     },
     "metadata": {
      "needs_background": "light"
     },
     "output_type": "display_data"
    }
   ],
   "source": [
    "plt.figure(figsize=(15,10))\n",
    "\n",
    "# Neural Network plots\n",
    "plt.plot(acc_nn.accuracies, 'r-', label = \"Training Accuracies - NN\")\n",
    "plt.plot(acc_nn.test_accuracies, 'g-', label = \"Testing Accuracies - NN\")\n",
    "\n",
    "# Logistic Regression plots\n",
    "plt.plot(acc_lr.accuracies, 'k-', label = \"Training Accuracies - LR\")\n",
    "plt.plot(acc_lr.test_accuracies, 'b-', label = \"Testing Accuracies - LR\")\n",
    "\n",
    "plt.ylim(0.8, 1)\n",
    "\n",
    "plt.legend()\n",
    "\n"
   ]
  },
  {
   "cell_type": "markdown",
   "metadata": {
    "papermill": {
     "duration": 0.04664,
     "end_time": "2020-10-27T10:06:54.554788",
     "exception": false,
     "start_time": "2020-10-27T10:06:54.508148",
     "status": "completed"
    },
    "tags": []
   },
   "source": [
    "### From the plot, we can observe the following:\n",
    "- Neural Network achieves higher accuracy than the Logistic Regression model.\n",
    "- This apparently, is because of overfitting, i.e. NN captures more noise than data.\n",
    "- Testing accuracy of NN drops below the Training accuracy at higher epochs. This explains the over-fitting on training data.\n",
    "- Logistic Regression gives a reliable accuracy, without the above mentioned problem.\n"
   ]
  },
  {
   "cell_type": "markdown",
   "metadata": {
    "papermill": {
     "duration": 0.047513,
     "end_time": "2020-10-27T10:06:54.648611",
     "exception": false,
     "start_time": "2020-10-27T10:06:54.601098",
     "status": "completed"
    },
    "tags": []
   },
   "source": [
    "### Moving till the last but one layer (excluding it).\n",
    "#### Plotting the outputs of this layer of the NN."
   ]
  },
  {
   "cell_type": "code",
   "execution_count": 24,
   "metadata": {
    "execution": {
     "iopub.execute_input": "2020-10-27T10:06:54.761239Z",
     "iopub.status.busy": "2020-10-27T10:06:54.760626Z",
     "iopub.status.idle": "2020-10-27T10:06:54.771265Z",
     "shell.execute_reply": "2020-10-27T10:06:54.771785Z"
    },
    "papermill": {
     "duration": 0.066747,
     "end_time": "2020-10-27T10:06:54.771940",
     "exception": false,
     "start_time": "2020-10-27T10:06:54.705193",
     "status": "completed"
    },
    "tags": []
   },
   "outputs": [],
   "source": [
    "model_new = Model(layers[:-2])"
   ]
  },
  {
   "cell_type": "code",
   "execution_count": 25,
   "metadata": {
    "execution": {
     "iopub.execute_input": "2020-10-27T10:06:54.873639Z",
     "iopub.status.busy": "2020-10-27T10:06:54.872774Z",
     "iopub.status.idle": "2020-10-27T10:06:54.891350Z",
     "shell.execute_reply": "2020-10-27T10:06:54.892162Z"
    },
    "papermill": {
     "duration": 0.073933,
     "end_time": "2020-10-27T10:06:54.892331",
     "exception": false,
     "start_time": "2020-10-27T10:06:54.818398",
     "status": "completed"
    },
    "tags": []
   },
   "outputs": [],
   "source": [
    "plot_testing = model_new(testing_xdata)"
   ]
  },
  {
   "cell_type": "code",
   "execution_count": 26,
   "metadata": {
    "execution": {
     "iopub.execute_input": "2020-10-27T10:06:54.993120Z",
     "iopub.status.busy": "2020-10-27T10:06:54.992534Z",
     "iopub.status.idle": "2020-10-27T10:06:55.215244Z",
     "shell.execute_reply": "2020-10-27T10:06:55.214755Z"
    },
    "papermill": {
     "duration": 0.275362,
     "end_time": "2020-10-27T10:06:55.215378",
     "exception": false,
     "start_time": "2020-10-27T10:06:54.940016",
     "status": "completed"
    },
    "tags": []
   },
   "outputs": [
    {
     "data": {
      "text/plain": [
       "Text(0.5, 1.0, 'Outputs')"
      ]
     },
     "execution_count": 26,
     "metadata": {},
     "output_type": "execute_result"
    },
    {
     "data": {
      "image/png": "[encoded data removed]",
      "text/plain": [
       "<Figure size 576x504 with 1 Axes>"
      ]
     },
     "metadata": {
      "needs_background": "light"
     },
     "output_type": "display_data"
    }
   ],
   "source": [
    "plt.figure(figsize=(8,7))\n",
    "plt.scatter(plot_testing[:,0], plot_testing[:,1], alpha = 0.1, c = y_test.ravel());\n",
    "plt.title('Outputs')"
   ]
  },
  {
   "cell_type": "markdown",
   "metadata": {
    "papermill": {
     "duration": 0.048477,
     "end_time": "2020-10-27T10:06:55.313554",
     "exception": false,
     "start_time": "2020-10-27T10:06:55.265077",
     "status": "completed"
    },
    "tags": []
   },
   "source": [
    "### Plotting probability contours"
   ]
  },
  {
   "cell_type": "code",
   "execution_count": 27,
   "metadata": {
    "execution": {
     "iopub.execute_input": "2020-10-27T10:06:55.419961Z",
     "iopub.status.busy": "2020-10-27T10:06:55.417406Z",
     "iopub.status.idle": "2020-10-27T10:06:55.429926Z",
     "shell.execute_reply": "2020-10-27T10:06:55.429452Z"
    },
    "papermill": {
     "duration": 0.068234,
     "end_time": "2020-10-27T10:06:55.430054",
     "exception": false,
     "start_time": "2020-10-27T10:06:55.361820",
     "status": "completed"
    },
    "tags": []
   },
   "outputs": [],
   "source": [
    "model_prob = Model(layers[-2:]) "
   ]
  },
  {
   "cell_type": "code",
   "execution_count": 28,
   "metadata": {
    "execution": {
     "iopub.execute_input": "2020-10-27T10:06:55.537146Z",
     "iopub.status.busy": "2020-10-27T10:06:55.536552Z",
     "iopub.status.idle": "2020-10-27T10:06:55.549137Z",
     "shell.execute_reply": "2020-10-27T10:06:55.549596Z"
    },
    "papermill": {
     "duration": 0.071256,
     "end_time": "2020-10-27T10:06:55.549750",
     "exception": false,
     "start_time": "2020-10-27T10:06:55.478494",
     "status": "completed"
    },
    "tags": []
   },
   "outputs": [],
   "source": [
    "# Adjust the x and y ranges according to the above generated plot.\n",
    "x_range = np.linspace(-4, 1, 100) \n",
    "y_range = np.linspace(-6, 6, 100) \n",
    "x_grid, y_grid = np.meshgrid(x_range, y_range) # x_grid and y_grig are of size 100 X 100\n",
    "\n",
    "# converting x_grid and y_grid to continuous arrays\n",
    "x_grid_flat = np.ravel(x_grid)\n",
    "y_grid_flat = np.ravel(y_grid)\n",
    "\n",
    "# The last layer of the current model takes two columns as input. Hence transpose of np.vstack() is required.\n",
    "X = np.vstack((x_grid_flat, y_grid_flat)).T\n",
    "\n",
    "# x_grid and y_grid are of size 100 x 100\n",
    "probability_contour = model_prob(X).reshape(100,100) "
   ]
  },
  {
   "cell_type": "code",
   "execution_count": 29,
   "metadata": {
    "execution": {
     "iopub.execute_input": "2020-10-27T10:06:55.665259Z",
     "iopub.status.busy": "2020-10-27T10:06:55.664656Z",
     "iopub.status.idle": "2020-10-27T10:06:55.948910Z",
     "shell.execute_reply": "2020-10-27T10:06:55.949371Z"
    },
    "papermill": {
     "duration": 0.350611,
     "end_time": "2020-10-27T10:06:55.949533",
     "exception": false,
     "start_time": "2020-10-27T10:06:55.598922",
     "status": "completed"
    },
    "tags": []
   },
   "outputs": [
    {
     "data": {
      "image/png": "[encoded data removed]",
      "text/plain": [
       "<Figure size 720x648 with 1 Axes>"
      ]
     },
     "metadata": {
      "needs_background": "light"
     },
     "output_type": "display_data"
    }
   ],
   "source": [
    "plt.figure(figsize=(10,9))\n",
    "plt.scatter(plot_testing[:,0], plot_testing[:,1], alpha = 0.1, c = y_test.ravel())\n",
    "contours = plt.contour(x_grid,y_grid,probability_contour)\n",
    "plt.title('Probability Contours')\n",
    "plt.clabel(contours, inline = True );"
   ]
  }
 ],
 "metadata": {
  "kernelspec": {
   "display_name": "Python 3",
   "language": "python",
   "name": "python3"
  },
  "language_info": {
   "codemirror_mode": {
    "name": "ipython",
    "version": 3
   },
   "file_extension": ".py",
   "mimetype": "text/x-python",
   "name": "python",
   "nbconvert_exporter": "python",
   "pygments_lexer": "ipython3",
   "version": "3.6.12"
  },
  "papermill": {
   "duration": 113.377587,
   "end_time": "2020-10-27T10:06:57.215208",
   "environment_variables": {},
   "exception": null,
   "input_path": "2020-08-11-NeuralNetwork.ipynb",
   "output_path": "2020-08-11-NeuralNetwork.ipynb",
   "parameters": {},
   "start_time": "2020-10-27T10:05:03.837621",
   "version": "2.1.2"
  }
 },
 "nbformat": 4,
 "nbformat_minor": 4
}