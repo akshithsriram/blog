{
 "cells": [
  {
   "cell_type": "markdown",
   "metadata": {
    "papermill": {
     "duration": 0.034501,
     "end_time": "2020-10-14T20:04:20.734080",
     "exception": false,
     "start_time": "2020-10-14T20:04:20.699579",
     "status": "completed"
    },
    "tags": []
   },
   "source": [
    "# \"A Basic Neural Network: Differentiate Hand-Written Digits\"\n",
    "\n",
    "- badges: true\n",
    "- author: Akshith Sriram"
   ]
  },
  {
   "cell_type": "markdown",
   "metadata": {
    "papermill": {
     "duration": 0.028063,
     "end_time": "2020-10-14T20:04:20.864587",
     "exception": false,
     "start_time": "2020-10-14T20:04:20.836524",
     "status": "completed"
    },
    "tags": []
   },
   "source": [
    "### Key Objectives:\n",
    "- Building a neural network that differentiates two hand-written digits 3 and 8.\n",
    "- Comparing the results of this Neural Network (NN) to that of a Logistic Regression (LR) model.\n",
    "\n",
    "### Requirements:\n",
    "- 'Kudzu' : A neural network library that was designed during our course by [Univ.AI](www.univ.ai). \n",
    "- MNIST Database\n",
    "\n",
    "If MNIST is not installed, use the command `!pip install mnist` given below.\n",
    "It can be run both from the command line and Jupyter Notebook."
   ]
  },
  {
   "cell_type": "code",
   "execution_count": 1,
   "metadata": {
    "execution": {
     "iopub.execute_input": "2020-10-14T20:04:20.923660Z",
     "iopub.status.busy": "2020-10-14T20:04:20.923067Z",
     "iopub.status.idle": "2020-10-14T20:04:22.486185Z",
     "shell.execute_reply": "2020-10-14T20:04:22.486667Z"
    },
    "papermill": {
     "duration": 1.594815,
     "end_time": "2020-10-14T20:04:22.486855",
     "exception": false,
     "start_time": "2020-10-14T20:04:20.892040",
     "status": "completed"
    },
    "tags": []
   },
   "outputs": [
    {
     "name": "stdout",
     "output_type": "stream",
     "text": [
      "Collecting mnist\r\n"
     ]
    },
    {
     "name": "stdout",
     "output_type": "stream",
     "text": [
      "  Downloading mnist-0.2.2-py2.py3-none-any.whl (3.5 kB)\r\n",
      "Requirement already satisfied: numpy in /opt/hostedtoolcache/Python/3.6.12/x64/lib/python3.6/site-packages (from mnist) (1.19.2)\r\n"
     ]
    },
    {
     "name": "stdout",
     "output_type": "stream",
     "text": [
      "Installing collected packages: mnist\r\n"
     ]
    },
    {
     "name": "stdout",
     "output_type": "stream",
     "text": [
      "Successfully installed mnist-0.2.2\r\n"
     ]
    }
   ],
   "source": [
    "!pip install mnist "
   ]
  },
  {
   "cell_type": "markdown",
   "metadata": {
    "papermill": {
     "duration": 0.028335,
     "end_time": "2020-10-14T20:04:22.543733",
     "exception": false,
     "start_time": "2020-10-14T20:04:22.515398",
     "status": "completed"
    },
    "tags": []
   },
   "source": [
    "#### Importing necessary libraries"
   ]
  },
  {
   "cell_type": "code",
   "execution_count": 2,
   "metadata": {
    "execution": {
     "iopub.execute_input": "2020-10-14T20:04:22.620633Z",
     "iopub.status.busy": "2020-10-14T20:04:22.619941Z",
     "iopub.status.idle": "2020-10-14T20:04:23.262864Z",
     "shell.execute_reply": "2020-10-14T20:04:23.262312Z"
    },
    "papermill": {
     "duration": 0.690866,
     "end_time": "2020-10-14T20:04:23.263013",
     "exception": false,
     "start_time": "2020-10-14T20:04:22.572147",
     "status": "completed"
    },
    "tags": []
   },
   "outputs": [],
   "source": [
    "%load_ext autoreload\n",
    "%autoreload 2\n",
    "\n",
    "%matplotlib inline\n",
    "import matplotlib.pyplot as plt\n",
    "\n",
    "import numpy as np\n",
    "import pandas as pd"
   ]
  },
  {
   "cell_type": "markdown",
   "metadata": {
    "papermill": {
     "duration": 0.028816,
     "end_time": "2020-10-14T20:04:23.320852",
     "exception": false,
     "start_time": "2020-10-14T20:04:23.292036",
     "status": "completed"
    },
    "tags": []
   },
   "source": [
    "### Preparing the Data"
   ]
  },
  {
   "cell_type": "code",
   "execution_count": 3,
   "metadata": {
    "execution": {
     "iopub.execute_input": "2020-10-14T20:04:23.383030Z",
     "iopub.status.busy": "2020-10-14T20:04:23.382379Z",
     "iopub.status.idle": "2020-10-14T20:04:23.393596Z",
     "shell.execute_reply": "2020-10-14T20:04:23.394236Z"
    },
    "papermill": {
     "duration": 0.044669,
     "end_time": "2020-10-14T20:04:23.394375",
     "exception": false,
     "start_time": "2020-10-14T20:04:23.349706",
     "status": "completed"
    },
    "tags": []
   },
   "outputs": [],
   "source": [
    "import mnist"
   ]
  },
  {
   "cell_type": "code",
   "execution_count": 4,
   "metadata": {
    "execution": {
     "iopub.execute_input": "2020-10-14T20:04:23.458290Z",
     "iopub.status.busy": "2020-10-14T20:04:23.456917Z",
     "iopub.status.idle": "2020-10-14T20:04:25.161075Z",
     "shell.execute_reply": "2020-10-14T20:04:25.159614Z"
    },
    "papermill": {
     "duration": 1.739126,
     "end_time": "2020-10-14T20:04:25.161234",
     "exception": false,
     "start_time": "2020-10-14T20:04:23.422108",
     "status": "completed"
    },
    "tags": []
   },
   "outputs": [],
   "source": [
    "train_images = mnist.train_images()\n",
    "train_labels = mnist.train_labels()"
   ]
  },
  {
   "cell_type": "code",
   "execution_count": 5,
   "metadata": {
    "execution": {
     "iopub.execute_input": "2020-10-14T20:04:25.228569Z",
     "iopub.status.busy": "2020-10-14T20:04:25.227893Z",
     "iopub.status.idle": "2020-10-14T20:04:25.242107Z",
     "shell.execute_reply": "2020-10-14T20:04:25.242674Z"
    },
    "papermill": {
     "duration": 0.050657,
     "end_time": "2020-10-14T20:04:25.242838",
     "exception": false,
     "start_time": "2020-10-14T20:04:25.192181",
     "status": "completed"
    },
    "tags": []
   },
   "outputs": [
    {
     "data": {
      "text/plain": [
       "((60000, 28, 28), (60000,))"
      ]
     },
     "execution_count": 5,
     "metadata": {},
     "output_type": "execute_result"
    }
   ],
   "source": [
    "train_images.shape, train_labels.shape"
   ]
  },
  {
   "cell_type": "code",
   "execution_count": 6,
   "metadata": {
    "execution": {
     "iopub.execute_input": "2020-10-14T20:04:25.305483Z",
     "iopub.status.busy": "2020-10-14T20:04:25.304845Z",
     "iopub.status.idle": "2020-10-14T20:04:26.224920Z",
     "shell.execute_reply": "2020-10-14T20:04:26.224260Z"
    },
    "papermill": {
     "duration": 0.952209,
     "end_time": "2020-10-14T20:04:26.225073",
     "exception": false,
     "start_time": "2020-10-14T20:04:25.272864",
     "status": "completed"
    },
    "tags": []
   },
   "outputs": [],
   "source": [
    "test_images = mnist.test_images()\n",
    "test_labels = mnist.test_labels()"
   ]
  },
  {
   "cell_type": "code",
   "execution_count": 7,
   "metadata": {
    "execution": {
     "iopub.execute_input": "2020-10-14T20:04:26.294579Z",
     "iopub.status.busy": "2020-10-14T20:04:26.290747Z",
     "iopub.status.idle": "2020-10-14T20:04:26.303110Z",
     "shell.execute_reply": "2020-10-14T20:04:26.303657Z"
    },
    "papermill": {
     "duration": 0.049109,
     "end_time": "2020-10-14T20:04:26.303799",
     "exception": false,
     "start_time": "2020-10-14T20:04:26.254690",
     "status": "completed"
    },
    "tags": []
   },
   "outputs": [
    {
     "data": {
      "text/plain": [
       "((10000, 28, 28), (10000,))"
      ]
     },
     "execution_count": 7,
     "metadata": {},
     "output_type": "execute_result"
    }
   ],
   "source": [
    "test_images.shape, test_labels.shape"
   ]
  },
  {
   "cell_type": "code",
   "execution_count": 8,
   "metadata": {
    "execution": {
     "iopub.execute_input": "2020-10-14T20:04:26.375244Z",
     "iopub.status.busy": "2020-10-14T20:04:26.374580Z",
     "iopub.status.idle": "2020-10-14T20:04:26.569051Z",
     "shell.execute_reply": "2020-10-14T20:04:26.568467Z"
    },
    "papermill": {
     "duration": 0.236769,
     "end_time": "2020-10-14T20:04:26.569198",
     "exception": false,
     "start_time": "2020-10-14T20:04:26.332429",
     "status": "completed"
    },
    "tags": []
   },
   "outputs": [
    {
     "name": "stdout",
     "output_type": "stream",
     "text": [
      "2\n"
     ]
    },
    {
     "data": {
      "text/plain": [
       "<matplotlib.image.AxesImage at 0x7f90f224a898>"
      ]
     },
     "execution_count": 8,
     "metadata": {},
     "output_type": "execute_result"
    },
    {
     "data": {
      "image/png": "[encoded data removed]",
      "text/plain": [
       "<Figure size 432x288 with 1 Axes>"
      ]
     },
     "metadata": {
      "needs_background": "light"
     },
     "output_type": "display_data"
    }
   ],
   "source": [
    "image_index = 7776 # You may select anything up to 60,000\n",
    "print(train_labels[image_index]) \n",
    "plt.imshow(train_images[image_index], cmap='Greys')"
   ]
  },
  {
   "cell_type": "markdown",
   "metadata": {
    "papermill": {
     "duration": 0.032213,
     "end_time": "2020-10-14T20:04:26.632498",
     "exception": false,
     "start_time": "2020-10-14T20:04:26.600285",
     "status": "completed"
    },
    "tags": []
   },
   "source": [
    "## Filter data to get 3 and 8 out"
   ]
  },
  {
   "cell_type": "code",
   "execution_count": 9,
   "metadata": {
    "execution": {
     "iopub.execute_input": "2020-10-14T20:04:26.700892Z",
     "iopub.status.busy": "2020-10-14T20:04:26.700235Z",
     "iopub.status.idle": "2020-10-14T20:04:26.715200Z",
     "shell.execute_reply": "2020-10-14T20:04:26.714654Z"
    },
    "papermill": {
     "duration": 0.052593,
     "end_time": "2020-10-14T20:04:26.715339",
     "exception": false,
     "start_time": "2020-10-14T20:04:26.662746",
     "status": "completed"
    },
    "tags": []
   },
   "outputs": [],
   "source": [
    "train_filter = np.where((train_labels == 3 ) | (train_labels == 8))\n",
    "test_filter = np.where((test_labels == 3) | (test_labels == 8))\n",
    "X_train, y_train = train_images[train_filter], train_labels[train_filter]\n",
    "X_test, y_test = test_images[test_filter], test_labels[test_filter]"
   ]
  },
  {
   "cell_type": "markdown",
   "metadata": {
    "papermill": {
     "duration": 0.031152,
     "end_time": "2020-10-14T20:04:26.777262",
     "exception": false,
     "start_time": "2020-10-14T20:04:26.746110",
     "status": "completed"
    },
    "tags": []
   },
   "source": [
    "We normalize the pixel values in the 0 to 1 range"
   ]
  },
  {
   "cell_type": "code",
   "execution_count": 10,
   "metadata": {
    "execution": {
     "iopub.execute_input": "2020-10-14T20:04:26.854644Z",
     "iopub.status.busy": "2020-10-14T20:04:26.846819Z",
     "iopub.status.idle": "2020-10-14T20:04:26.903656Z",
     "shell.execute_reply": "2020-10-14T20:04:26.903072Z"
    },
    "papermill": {
     "duration": 0.096737,
     "end_time": "2020-10-14T20:04:26.903822",
     "exception": false,
     "start_time": "2020-10-14T20:04:26.807085",
     "status": "completed"
    },
    "tags": []
   },
   "outputs": [],
   "source": [
    "X_train = X_train/255.\n",
    "X_test = X_test/255."
   ]
  },
  {
   "cell_type": "markdown",
   "metadata": {
    "papermill": {
     "duration": 0.028838,
     "end_time": "2020-10-14T20:04:26.964493",
     "exception": false,
     "start_time": "2020-10-14T20:04:26.935655",
     "status": "completed"
    },
    "tags": []
   },
   "source": [
    "Setup the labels as 1 (when the digit is 3) and 0 (when the digit is 8)"
   ]
  },
  {
   "cell_type": "code",
   "execution_count": 11,
   "metadata": {
    "execution": {
     "iopub.execute_input": "2020-10-14T20:04:27.041279Z",
     "iopub.status.busy": "2020-10-14T20:04:27.040595Z",
     "iopub.status.idle": "2020-10-14T20:04:27.043640Z",
     "shell.execute_reply": "2020-10-14T20:04:27.043119Z"
    },
    "papermill": {
     "duration": 0.051606,
     "end_time": "2020-10-14T20:04:27.043770",
     "exception": false,
     "start_time": "2020-10-14T20:04:26.992164",
     "status": "completed"
    },
    "tags": []
   },
   "outputs": [],
   "source": [
    "y_train = 1*(y_train==3)\n",
    "y_test = 1*(y_test==3)"
   ]
  },
  {
   "cell_type": "code",
   "execution_count": 12,
   "metadata": {
    "execution": {
     "iopub.execute_input": "2020-10-14T20:04:27.118699Z",
     "iopub.status.busy": "2020-10-14T20:04:27.115000Z",
     "iopub.status.idle": "2020-10-14T20:04:27.128117Z",
     "shell.execute_reply": "2020-10-14T20:04:27.127567Z"
    },
    "papermill": {
     "duration": 0.052001,
     "end_time": "2020-10-14T20:04:27.128255",
     "exception": false,
     "start_time": "2020-10-14T20:04:27.076254",
     "status": "completed"
    },
    "tags": []
   },
   "outputs": [
    {
     "data": {
      "text/plain": [
       "((11982, 28, 28), (1984, 28, 28))"
      ]
     },
     "execution_count": 12,
     "metadata": {},
     "output_type": "execute_result"
    }
   ],
   "source": [
    "X_train.shape, X_test.shape"
   ]
  },
  {
   "cell_type": "markdown",
   "metadata": {
    "papermill": {
     "duration": 0.030301,
     "end_time": "2020-10-14T20:04:27.188364",
     "exception": false,
     "start_time": "2020-10-14T20:04:27.158063",
     "status": "completed"
    },
    "tags": []
   },
   "source": [
    "### Reshape the input data to create a linear array"
   ]
  },
  {
   "cell_type": "code",
   "execution_count": 13,
   "metadata": {
    "execution": {
     "iopub.execute_input": "2020-10-14T20:04:27.269231Z",
     "iopub.status.busy": "2020-10-14T20:04:27.268587Z",
     "iopub.status.idle": "2020-10-14T20:04:27.275619Z",
     "shell.execute_reply": "2020-10-14T20:04:27.275127Z"
    },
    "papermill": {
     "duration": 0.057652,
     "end_time": "2020-10-14T20:04:27.275785",
     "exception": false,
     "start_time": "2020-10-14T20:04:27.218133",
     "status": "completed"
    },
    "tags": []
   },
   "outputs": [
    {
     "data": {
      "text/plain": [
       "((11982, 784), (1984, 784))"
      ]
     },
     "execution_count": 13,
     "metadata": {},
     "output_type": "execute_result"
    }
   ],
   "source": [
    "X_train = X_train.reshape(X_train.shape[0], -1)\n",
    "X_test = X_test.reshape(X_test.shape[0], -1)\n",
    "X_train.shape, X_test.shape"
   ]
  },
  {
   "cell_type": "markdown",
   "metadata": {
    "papermill": {
     "duration": 0.031188,
     "end_time": "2020-10-14T20:04:27.337957",
     "exception": false,
     "start_time": "2020-10-14T20:04:27.306769",
     "status": "completed"
    },
    "tags": []
   },
   "source": [
    "### Importing appropriate functions from 'Kudzu'"
   ]
  },
  {
   "cell_type": "code",
   "execution_count": 14,
   "metadata": {
    "execution": {
     "iopub.execute_input": "2020-10-14T20:04:27.422695Z",
     "iopub.status.busy": "2020-10-14T20:04:27.416581Z",
     "iopub.status.idle": "2020-10-14T20:04:27.432126Z",
     "shell.execute_reply": "2020-10-14T20:04:27.432689Z"
    },
    "papermill": {
     "duration": 0.059927,
     "end_time": "2020-10-14T20:04:27.432857",
     "exception": false,
     "start_time": "2020-10-14T20:04:27.372930",
     "status": "completed"
    },
    "tags": []
   },
   "outputs": [],
   "source": [
    "from kudzu.layer import Sigmoid\n",
    "from kudzu.layer import Relu\n",
    "from kudzu.layer import Affine, Sigmoid\n",
    "\n",
    "from kudzu.model import Model\n",
    "from kudzu.train import Learner\n",
    "from kudzu.optim import GD\n",
    "from kudzu.data import Data, Dataloader, Sampler\n",
    "\n",
    "from kudzu.callbacks import AccCallback\n",
    "from kudzu.callbacks import ClfCallback\n",
    "\n",
    "from kudzu.loss import MSE"
   ]
  },
  {
   "cell_type": "markdown",
   "metadata": {
    "papermill": {
     "duration": 0.030986,
     "end_time": "2020-10-14T20:04:27.494506",
     "exception": false,
     "start_time": "2020-10-14T20:04:27.463520",
     "status": "completed"
    },
    "tags": []
   },
   "source": [
    "### Let us create a `Config` class, to store important parameters. \n",
    "This class essentially plays the role of a dictionary."
   ]
  },
  {
   "cell_type": "code",
   "execution_count": 15,
   "metadata": {
    "execution": {
     "iopub.execute_input": "2020-10-14T20:04:27.574632Z",
     "iopub.status.busy": "2020-10-14T20:04:27.567257Z",
     "iopub.status.idle": "2020-10-14T20:04:27.580143Z",
     "shell.execute_reply": "2020-10-14T20:04:27.580678Z"
    },
    "papermill": {
     "duration": 0.053642,
     "end_time": "2020-10-14T20:04:27.580836",
     "exception": false,
     "start_time": "2020-10-14T20:04:27.527194",
     "status": "completed"
    },
    "tags": []
   },
   "outputs": [],
   "source": [
    "class Config:\n",
    "    pass\n",
    "config = Config()\n",
    "config.lr = 0.001\n",
    "config.num_epochs = 251\n",
    "config.bs = 50"
   ]
  },
  {
   "cell_type": "markdown",
   "metadata": {
    "papermill": {
     "duration": 0.037969,
     "end_time": "2020-10-14T20:04:27.650853",
     "exception": false,
     "start_time": "2020-10-14T20:04:27.612884",
     "status": "completed"
    },
    "tags": []
   },
   "source": [
    "### Initializing data to the variables"
   ]
  },
  {
   "cell_type": "code",
   "execution_count": 16,
   "metadata": {
    "execution": {
     "iopub.execute_input": "2020-10-14T20:04:27.719049Z",
     "iopub.status.busy": "2020-10-14T20:04:27.718058Z",
     "iopub.status.idle": "2020-10-14T20:04:27.737196Z",
     "shell.execute_reply": "2020-10-14T20:04:27.736659Z"
    },
    "papermill": {
     "duration": 0.0543,
     "end_time": "2020-10-14T20:04:27.737328",
     "exception": false,
     "start_time": "2020-10-14T20:04:27.683028",
     "status": "completed"
    },
    "tags": []
   },
   "outputs": [],
   "source": [
    "data = Data(X_train, y_train.reshape(-1,1))\n",
    "sampler = Sampler(data, config.bs, shuffle=True)\n",
    "\n",
    "dl = Dataloader(data, sampler)\n",
    "\n",
    "opt = GD(config.lr)\n",
    "loss = MSE()"
   ]
  },
  {
   "cell_type": "code",
   "execution_count": 17,
   "metadata": {
    "execution": {
     "iopub.execute_input": "2020-10-14T20:04:27.812102Z",
     "iopub.status.busy": "2020-10-14T20:04:27.811459Z",
     "iopub.status.idle": "2020-10-14T20:04:27.823982Z",
     "shell.execute_reply": "2020-10-14T20:04:27.824603Z"
    },
    "papermill": {
     "duration": 0.056327,
     "end_time": "2020-10-14T20:04:27.824764",
     "exception": false,
     "start_time": "2020-10-14T20:04:27.768437",
     "status": "completed"
    },
    "tags": []
   },
   "outputs": [],
   "source": [
    "training_xdata = X_train\n",
    "testing_xdata = X_test\n",
    "training_ydata = y_train.reshape(-1,1)\n",
    "testing_ydata = y_test.reshape(-1,1)"
   ]
  },
  {
   "cell_type": "markdown",
   "metadata": {
    "papermill": {
     "duration": 0.042494,
     "end_time": "2020-10-14T20:04:27.897748",
     "exception": false,
     "start_time": "2020-10-14T20:04:27.855254",
     "status": "completed"
    },
    "tags": []
   },
   "source": [
    "### Running Models with the Training data\n",
    "Details about the network layers:\n",
    "- A first affine layer has 784 inputs and does 100 affine transforms. These are followed by a Relu\n",
    "- A second affine layer has 100 inputs from the 100 activations of the past layer, and does 100 affine transforms. These are followed by a Relu\n",
    "- A third affine layer has 100 activations and does 2 affine transformations to create an embedding for visualization. There is no non-linearity here.\n",
    "- A final \"logistic regression\" which has an affine transform from 2 inputs to 1 output, which is squeezed through a sigmoid.\n",
    "\n",
    "Help taken from Anshuman's Notebook."
   ]
  },
  {
   "cell_type": "code",
   "execution_count": 18,
   "metadata": {
    "execution": {
     "iopub.execute_input": "2020-10-14T20:04:27.964811Z",
     "iopub.status.busy": "2020-10-14T20:04:27.964190Z",
     "iopub.status.idle": "2020-10-14T20:04:27.980736Z",
     "shell.execute_reply": "2020-10-14T20:04:27.980243Z"
    },
    "papermill": {
     "duration": 0.052113,
     "end_time": "2020-10-14T20:04:27.980856",
     "exception": false,
     "start_time": "2020-10-14T20:04:27.928743",
     "status": "completed"
    },
    "tags": []
   },
   "outputs": [],
   "source": [
    "# layers for the Neural Network\n",
    "layers = [Affine(\"first\", 784, 100), Relu(\"first\"), Affine(\"second\", 100, 100), Relu(\"second\"), Affine(\"third\", 100, 2), Affine(\"final\", 2, 1), Sigmoid(\"final\")]\n",
    "model_nn = Model(layers)\n",
    "\n",
    "# layers for the Logistic Regression\n",
    "layers_lr = [Affine(\"logits\", 784, 1), Sigmoid(\"sigmoid\")]\n",
    "model_lr = Model(layers_lr)"
   ]
  },
  {
   "cell_type": "code",
   "execution_count": 19,
   "metadata": {
    "execution": {
     "iopub.execute_input": "2020-10-14T20:04:28.051525Z",
     "iopub.status.busy": "2020-10-14T20:04:28.050568Z",
     "iopub.status.idle": "2020-10-14T20:04:28.060762Z",
     "shell.execute_reply": "2020-10-14T20:04:28.061386Z"
    },
    "papermill": {
     "duration": 0.049165,
     "end_time": "2020-10-14T20:04:28.061547",
     "exception": false,
     "start_time": "2020-10-14T20:04:28.012382",
     "status": "completed"
    },
    "tags": []
   },
   "outputs": [],
   "source": [
    "# suffix _nn stands for Neural Network.\n",
    "learner_nn = Learner(loss, model_nn, opt, config.num_epochs)\n",
    "acc_nn = ClfCallback(learner_nn, config.bs, training_xdata , testing_xdata, training_ydata, testing_ydata)\n",
    "learner_nn.set_callbacks([acc_nn])"
   ]
  },
  {
   "cell_type": "code",
   "execution_count": 20,
   "metadata": {
    "execution": {
     "iopub.execute_input": "2020-10-14T20:04:28.131413Z",
     "iopub.status.busy": "2020-10-14T20:04:28.130766Z",
     "iopub.status.idle": "2020-10-14T20:06:30.412933Z",
     "shell.execute_reply": "2020-10-14T20:06:30.413745Z"
    },
    "papermill": {
     "duration": 122.318716,
     "end_time": "2020-10-14T20:06:30.413941",
     "exception": false,
     "start_time": "2020-10-14T20:04:28.095225",
     "status": "completed"
    },
    "tags": []
   },
   "outputs": [
    {
     "name": "stdout",
     "output_type": "stream",
     "text": [
      "====== Neural Network ======\n"
     ]
    },
    {
     "name": "stdout",
     "output_type": "stream",
     "text": [
      "Epoch 0, Loss 0.2493\n",
      "Training Accuracy: 0.5882, Testing Accuracy: 0.6290\n",
      "\n"
     ]
    },
    {
     "name": "stdout",
     "output_type": "stream",
     "text": [
      "Epoch 10, Loss 0.1564\n",
      "Training Accuracy: 0.8984, Testing Accuracy: 0.9153\n",
      "\n"
     ]
    },
    {
     "name": "stdout",
     "output_type": "stream",
     "text": [
      "Epoch 20, Loss 0.0767\n",
      "Training Accuracy: 0.9289, Testing Accuracy: 0.9415\n",
      "\n"
     ]
    },
    {
     "name": "stdout",
     "output_type": "stream",
     "text": [
      "Epoch 30, Loss 0.0529\n",
      "Training Accuracy: 0.9435, Testing Accuracy: 0.9567\n",
      "\n"
     ]
    },
    {
     "name": "stdout",
     "output_type": "stream",
     "text": [
      "Epoch 40, Loss 0.0434\n",
      "Training Accuracy: 0.9523, Testing Accuracy: 0.9627\n",
      "\n"
     ]
    },
    {
     "name": "stdout",
     "output_type": "stream",
     "text": [
      "Epoch 50, Loss 0.0383\n",
      "Training Accuracy: 0.9570, Testing Accuracy: 0.9662\n",
      "\n"
     ]
    },
    {
     "name": "stdout",
     "output_type": "stream",
     "text": [
      "Epoch 60, Loss 0.0351\n",
      "Training Accuracy: 0.9601, Testing Accuracy: 0.9672\n",
      "\n"
     ]
    },
    {
     "name": "stdout",
     "output_type": "stream",
     "text": [
      "Epoch 70, Loss 0.0329\n",
      "Training Accuracy: 0.9618, Testing Accuracy: 0.9667\n",
      "\n"
     ]
    },
    {
     "name": "stdout",
     "output_type": "stream",
     "text": [
      "Epoch 80, Loss 0.0311\n",
      "Training Accuracy: 0.9628, Testing Accuracy: 0.9672\n",
      "\n"
     ]
    },
    {
     "name": "stdout",
     "output_type": "stream",
     "text": [
      "Epoch 90, Loss 0.0297\n",
      "Training Accuracy: 0.9649, Testing Accuracy: 0.9672\n",
      "\n"
     ]
    },
    {
     "name": "stdout",
     "output_type": "stream",
     "text": [
      "Epoch 100, Loss 0.0286\n",
      "Training Accuracy: 0.9654, Testing Accuracy: 0.9667\n",
      "\n"
     ]
    },
    {
     "name": "stdout",
     "output_type": "stream",
     "text": [
      "Epoch 110, Loss 0.0275\n",
      "Training Accuracy: 0.9670, Testing Accuracy: 0.9677\n",
      "\n"
     ]
    },
    {
     "name": "stdout",
     "output_type": "stream",
     "text": [
      "Epoch 120, Loss 0.0267\n",
      "Training Accuracy: 0.9679, Testing Accuracy: 0.9688\n",
      "\n"
     ]
    },
    {
     "name": "stdout",
     "output_type": "stream",
     "text": [
      "Epoch 130, Loss 0.0259\n",
      "Training Accuracy: 0.9687, Testing Accuracy: 0.9693\n",
      "\n"
     ]
    },
    {
     "name": "stdout",
     "output_type": "stream",
     "text": [
      "Epoch 140, Loss 0.0251\n",
      "Training Accuracy: 0.9695, Testing Accuracy: 0.9682\n",
      "\n"
     ]
    },
    {
     "name": "stdout",
     "output_type": "stream",
     "text": [
      "Epoch 150, Loss 0.0245\n",
      "Training Accuracy: 0.9700, Testing Accuracy: 0.9682\n",
      "\n"
     ]
    },
    {
     "name": "stdout",
     "output_type": "stream",
     "text": [
      "Epoch 160, Loss 0.0239\n",
      "Training Accuracy: 0.9712, Testing Accuracy: 0.9693\n",
      "\n"
     ]
    },
    {
     "name": "stdout",
     "output_type": "stream",
     "text": [
      "Epoch 170, Loss 0.0233\n",
      "Training Accuracy: 0.9726, Testing Accuracy: 0.9698\n",
      "\n"
     ]
    },
    {
     "name": "stdout",
     "output_type": "stream",
     "text": [
      "Epoch 180, Loss 0.0228\n",
      "Training Accuracy: 0.9736, Testing Accuracy: 0.9703\n",
      "\n"
     ]
    },
    {
     "name": "stdout",
     "output_type": "stream",
     "text": [
      "Epoch 190, Loss 0.0223\n",
      "Training Accuracy: 0.9741, Testing Accuracy: 0.9708\n",
      "\n"
     ]
    },
    {
     "name": "stdout",
     "output_type": "stream",
     "text": [
      "Epoch 200, Loss 0.0218\n",
      "Training Accuracy: 0.9751, Testing Accuracy: 0.9713\n",
      "\n"
     ]
    },
    {
     "name": "stdout",
     "output_type": "stream",
     "text": [
      "Epoch 210, Loss 0.0213\n",
      "Training Accuracy: 0.9758, Testing Accuracy: 0.9713\n",
      "\n"
     ]
    },
    {
     "name": "stdout",
     "output_type": "stream",
     "text": [
      "Epoch 220, Loss 0.0209\n",
      "Training Accuracy: 0.9763, Testing Accuracy: 0.9718\n",
      "\n"
     ]
    },
    {
     "name": "stdout",
     "output_type": "stream",
     "text": [
      "Epoch 230, Loss 0.0205\n",
      "Training Accuracy: 0.9770, Testing Accuracy: 0.9723\n",
      "\n"
     ]
    },
    {
     "name": "stdout",
     "output_type": "stream",
     "text": [
      "Epoch 240, Loss 0.0201\n",
      "Training Accuracy: 0.9780, Testing Accuracy: 0.9728\n",
      "\n"
     ]
    },
    {
     "name": "stdout",
     "output_type": "stream",
     "text": [
      "Epoch 250, Loss 0.0197\n",
      "Training Accuracy: 0.9784, Testing Accuracy: 0.9728\n",
      "\n"
     ]
    },
    {
     "data": {
      "text/plain": [
       "0.008553485892824389"
      ]
     },
     "execution_count": 20,
     "metadata": {},
     "output_type": "execute_result"
    }
   ],
   "source": [
    "print(\"====== Neural Network ======\")\n",
    "learner_nn.train_loop(dl)"
   ]
  },
  {
   "cell_type": "markdown",
   "metadata": {
    "papermill": {
     "duration": 0.040784,
     "end_time": "2020-10-14T20:06:30.506450",
     "exception": false,
     "start_time": "2020-10-14T20:06:30.465666",
     "status": "completed"
    },
    "tags": []
   },
   "source": [
    "### Logistic Regression based Implementation."
   ]
  },
  {
   "cell_type": "code",
   "execution_count": 21,
   "metadata": {
    "execution": {
     "iopub.execute_input": "2020-10-14T20:06:30.591547Z",
     "iopub.status.busy": "2020-10-14T20:06:30.588065Z",
     "iopub.status.idle": "2020-10-14T20:06:30.599720Z",
     "shell.execute_reply": "2020-10-14T20:06:30.599238Z"
    },
    "papermill": {
     "duration": 0.054305,
     "end_time": "2020-10-14T20:06:30.599876",
     "exception": false,
     "start_time": "2020-10-14T20:06:30.545571",
     "status": "completed"
    },
    "tags": []
   },
   "outputs": [],
   "source": [
    "learner_lr = Learner(loss, model_lr, opt, config.num_epochs)\n",
    "acc_lr = ClfCallback(learner_lr, config.bs, training_xdata , testing_xdata, training_ydata, testing_ydata)\n",
    "learner_lr.set_callbacks([acc_lr])"
   ]
  },
  {
   "cell_type": "code",
   "execution_count": 22,
   "metadata": {
    "execution": {
     "iopub.execute_input": "2020-10-14T20:06:30.679135Z",
     "iopub.status.busy": "2020-10-14T20:06:30.678492Z",
     "iopub.status.idle": "2020-10-14T20:06:49.218363Z",
     "shell.execute_reply": "2020-10-14T20:06:49.219233Z"
    },
    "papermill": {
     "duration": 18.581416,
     "end_time": "2020-10-14T20:06:49.219419",
     "exception": false,
     "start_time": "2020-10-14T20:06:30.638003",
     "status": "completed"
    },
    "tags": []
   },
   "outputs": [
    {
     "name": "stdout",
     "output_type": "stream",
     "text": [
      "====== Logistic Regression ======\n",
      "Epoch 0, Loss 0.2721\n",
      "Training Accuracy: 0.5838, Testing Accuracy: 0.6129\n",
      "\n"
     ]
    },
    {
     "name": "stdout",
     "output_type": "stream",
     "text": [
      "Epoch 10, Loss 0.1072\n",
      "Training Accuracy: 0.9004, Testing Accuracy: 0.9083\n",
      "\n"
     ]
    },
    {
     "name": "stdout",
     "output_type": "stream",
     "text": [
      "Epoch 20, Loss 0.0816\n",
      "Training Accuracy: 0.9234, Testing Accuracy: 0.9304\n",
      "\n"
     ]
    },
    {
     "name": "stdout",
     "output_type": "stream",
     "text": [
      "Epoch 30, Loss 0.0699\n",
      "Training Accuracy: 0.9344, Testing Accuracy: 0.9415\n",
      "\n"
     ]
    },
    {
     "name": "stdout",
     "output_type": "stream",
     "text": [
      "Epoch 40, Loss 0.0629\n",
      "Training Accuracy: 0.9390, Testing Accuracy: 0.9506\n",
      "\n"
     ]
    },
    {
     "name": "stdout",
     "output_type": "stream",
     "text": [
      "Epoch 50, Loss 0.0582\n",
      "Training Accuracy: 0.9428, Testing Accuracy: 0.9521\n",
      "\n"
     ]
    },
    {
     "name": "stdout",
     "output_type": "stream",
     "text": [
      "Epoch 60, Loss 0.0547\n",
      "Training Accuracy: 0.9444, Testing Accuracy: 0.9551\n",
      "\n"
     ]
    },
    {
     "name": "stdout",
     "output_type": "stream",
     "text": [
      "Epoch 70, Loss 0.052\n",
      "Training Accuracy: 0.9461, Testing Accuracy: 0.9551\n",
      "\n"
     ]
    },
    {
     "name": "stdout",
     "output_type": "stream",
     "text": [
      "Epoch 80, Loss 0.0499\n",
      "Training Accuracy: 0.9482, Testing Accuracy: 0.9582\n",
      "\n"
     ]
    },
    {
     "name": "stdout",
     "output_type": "stream",
     "text": [
      "Epoch 90, Loss 0.0481\n",
      "Training Accuracy: 0.9501, Testing Accuracy: 0.9587\n",
      "\n"
     ]
    },
    {
     "name": "stdout",
     "output_type": "stream",
     "text": [
      "Epoch 100, Loss 0.0466\n",
      "Training Accuracy: 0.9518, Testing Accuracy: 0.9607\n",
      "\n"
     ]
    },
    {
     "name": "stdout",
     "output_type": "stream",
     "text": [
      "Epoch 110, Loss 0.0454\n",
      "Training Accuracy: 0.9538, Testing Accuracy: 0.9617\n",
      "\n"
     ]
    },
    {
     "name": "stdout",
     "output_type": "stream",
     "text": [
      "Epoch 120, Loss 0.0443\n",
      "Training Accuracy: 0.9544, Testing Accuracy: 0.9627\n",
      "\n"
     ]
    },
    {
     "name": "stdout",
     "output_type": "stream",
     "text": [
      "Epoch 130, Loss 0.0433\n",
      "Training Accuracy: 0.9549, Testing Accuracy: 0.9632\n",
      "\n"
     ]
    },
    {
     "name": "stdout",
     "output_type": "stream",
     "text": [
      "Epoch 140, Loss 0.0424\n",
      "Training Accuracy: 0.9564, Testing Accuracy: 0.9637\n",
      "\n"
     ]
    },
    {
     "name": "stdout",
     "output_type": "stream",
     "text": [
      "Epoch 150, Loss 0.0417\n",
      "Training Accuracy: 0.9573, Testing Accuracy: 0.9647\n",
      "\n"
     ]
    },
    {
     "name": "stdout",
     "output_type": "stream",
     "text": [
      "Epoch 160, Loss 0.041\n",
      "Training Accuracy: 0.9576, Testing Accuracy: 0.9647\n",
      "\n"
     ]
    },
    {
     "name": "stdout",
     "output_type": "stream",
     "text": [
      "Epoch 170, Loss 0.0403\n",
      "Training Accuracy: 0.9584, Testing Accuracy: 0.9652\n",
      "\n"
     ]
    },
    {
     "name": "stdout",
     "output_type": "stream",
     "text": [
      "Epoch 180, Loss 0.0398\n",
      "Training Accuracy: 0.9588, Testing Accuracy: 0.9647\n",
      "\n"
     ]
    },
    {
     "name": "stdout",
     "output_type": "stream",
     "text": [
      "Epoch 190, Loss 0.0392\n",
      "Training Accuracy: 0.9587, Testing Accuracy: 0.9642\n",
      "\n"
     ]
    },
    {
     "name": "stdout",
     "output_type": "stream",
     "text": [
      "Epoch 200, Loss 0.0387\n",
      "Training Accuracy: 0.9590, Testing Accuracy: 0.9642\n",
      "\n"
     ]
    },
    {
     "name": "stdout",
     "output_type": "stream",
     "text": [
      "Epoch 210, Loss 0.0383\n",
      "Training Accuracy: 0.9591, Testing Accuracy: 0.9647\n",
      "\n"
     ]
    },
    {
     "name": "stdout",
     "output_type": "stream",
     "text": [
      "Epoch 220, Loss 0.0378\n",
      "Training Accuracy: 0.9594, Testing Accuracy: 0.9652\n",
      "\n"
     ]
    },
    {
     "name": "stdout",
     "output_type": "stream",
     "text": [
      "Epoch 230, Loss 0.0375\n",
      "Training Accuracy: 0.9596, Testing Accuracy: 0.9657\n",
      "\n"
     ]
    },
    {
     "name": "stdout",
     "output_type": "stream",
     "text": [
      "Epoch 240, Loss 0.0371\n",
      "Training Accuracy: 0.9602, Testing Accuracy: 0.9657\n",
      "\n"
     ]
    },
    {
     "name": "stdout",
     "output_type": "stream",
     "text": [
      "Epoch 250, Loss 0.0367\n",
      "Training Accuracy: 0.9603, Testing Accuracy: 0.9667\n",
      "\n"
     ]
    },
    {
     "data": {
      "text/plain": [
       "0.02079028456990685"
      ]
     },
     "execution_count": 22,
     "metadata": {},
     "output_type": "execute_result"
    }
   ],
   "source": [
    "print(\"====== Logistic Regression ======\")\n",
    "learner_lr.train_loop(dl)"
   ]
  },
  {
   "cell_type": "markdown",
   "metadata": {
    "papermill": {
     "duration": 0.044841,
     "end_time": "2020-10-14T20:06:49.312345",
     "exception": false,
     "start_time": "2020-10-14T20:06:49.267504",
     "status": "completed"
    },
    "tags": []
   },
   "source": [
    "### Comparing results of NN and LR"
   ]
  },
  {
   "cell_type": "code",
   "execution_count": 23,
   "metadata": {
    "execution": {
     "iopub.execute_input": "2020-10-14T20:06:49.433903Z",
     "iopub.status.busy": "2020-10-14T20:06:49.415811Z",
     "iopub.status.idle": "2020-10-14T20:06:49.661870Z",
     "shell.execute_reply": "2020-10-14T20:06:49.661090Z"
    },
    "papermill": {
     "duration": 0.303667,
     "end_time": "2020-10-14T20:06:49.662021",
     "exception": false,
     "start_time": "2020-10-14T20:06:49.358354",
     "status": "completed"
    },
    "tags": []
   },
   "outputs": [
    {
     "data": {
      "text/plain": [
       "<matplotlib.legend.Legend at 0x7f90eb61c2b0>"
      ]
     },
     "execution_count": 23,
     "metadata": {},
     "output_type": "execute_result"
    },
    {
     "data": {
      "image/png": "[encoded data removed]",
      "text/plain": [
       "<Figure size 1080x720 with 1 Axes>"
      ]
     },
     "metadata": {
      "needs_background": "light"
     },
     "output_type": "display_data"
    }
   ],
   "source": [
    "plt.figure(figsize=(15,10))\n",
    "\n",
    "# Neural Network plots\n",
    "plt.plot(acc_nn.accuracies, 'r-', label = \"Training Accuracies - NN\")\n",
    "plt.plot(acc_nn.test_accuracies, 'g-', label = \"Testing Accuracies - NN\")\n",
    "\n",
    "# Logistic Regression plots\n",
    "plt.plot(acc_lr.accuracies, 'k-', label = \"Training Accuracies - LR\")\n",
    "plt.plot(acc_lr.test_accuracies, 'b-', label = \"Testing Accuracies - LR\")\n",
    "\n",
    "plt.ylim(0.8, 1)\n",
    "\n",
    "plt.legend()\n",
    "\n"
   ]
  },
  {
   "cell_type": "markdown",
   "metadata": {
    "papermill": {
     "duration": 0.04536,
     "end_time": "2020-10-14T20:06:49.753566",
     "exception": false,
     "start_time": "2020-10-14T20:06:49.708206",
     "status": "completed"
    },
    "tags": []
   },
   "source": [
    "### From the plot, we can observe the following:\n",
    "- Neural Network achieves higher accuracy than the Logistic Regression model.\n",
    "- This apparently, is because of overfitting, i.e. NN captures more noise than data.\n",
    "- Testing accuracy of NN drops below the Training accuracy at higher epochs. This explains the over-fitting on training data.\n",
    "- Logistic Regression gives a reliable accuracy, without the above mentioned problem.\n"
   ]
  },
  {
   "cell_type": "markdown",
   "metadata": {
    "papermill": {
     "duration": 0.047109,
     "end_time": "2020-10-14T20:06:49.855084",
     "exception": false,
     "start_time": "2020-10-14T20:06:49.807975",
     "status": "completed"
    },
    "tags": []
   },
   "source": [
    "### Moving till the last but one layer (excluding it).\n",
    "#### Plotting the outputs of this layer of the NN."
   ]
  },
  {
   "cell_type": "code",
   "execution_count": 24,
   "metadata": {
    "execution": {
     "iopub.execute_input": "2020-10-14T20:06:49.958516Z",
     "iopub.status.busy": "2020-10-14T20:06:49.954284Z",
     "iopub.status.idle": "2020-10-14T20:06:49.966405Z",
     "shell.execute_reply": "2020-10-14T20:06:49.965877Z"
    },
    "papermill": {
     "duration": 0.066418,
     "end_time": "2020-10-14T20:06:49.966524",
     "exception": false,
     "start_time": "2020-10-14T20:06:49.900106",
     "status": "completed"
    },
    "tags": []
   },
   "outputs": [],
   "source": [
    "model_new = Model(layers[:-2])"
   ]
  },
  {
   "cell_type": "code",
   "execution_count": 25,
   "metadata": {
    "execution": {
     "iopub.execute_input": "2020-10-14T20:06:50.073342Z",
     "iopub.status.busy": "2020-10-14T20:06:50.072665Z",
     "iopub.status.idle": "2020-10-14T20:06:50.091330Z",
     "shell.execute_reply": "2020-10-14T20:06:50.091815Z"
    },
    "papermill": {
     "duration": 0.077288,
     "end_time": "2020-10-14T20:06:50.091981",
     "exception": false,
     "start_time": "2020-10-14T20:06:50.014693",
     "status": "completed"
    },
    "tags": []
   },
   "outputs": [],
   "source": [
    "plot_testing = model_new(testing_xdata)"
   ]
  },
  {
   "cell_type": "code",
   "execution_count": 26,
   "metadata": {
    "execution": {
     "iopub.execute_input": "2020-10-14T20:06:50.223104Z",
     "iopub.status.busy": "2020-10-14T20:06:50.191375Z",
     "iopub.status.idle": "2020-10-14T20:06:50.426609Z",
     "shell.execute_reply": "2020-10-14T20:06:50.427101Z"
    },
    "papermill": {
     "duration": 0.288813,
     "end_time": "2020-10-14T20:06:50.427292",
     "exception": false,
     "start_time": "2020-10-14T20:06:50.138479",
     "status": "completed"
    },
    "tags": []
   },
   "outputs": [
    {
     "data": {
      "text/plain": [
       "Text(0.5, 1.0, 'Outputs')"
      ]
     },
     "execution_count": 26,
     "metadata": {},
     "output_type": "execute_result"
    },
    {
     "data": {
      "image/png": "[encoded data removed]",
      "text/plain": [
       "<Figure size 576x504 with 1 Axes>"
      ]
     },
     "metadata": {
      "needs_background": "light"
     },
     "output_type": "display_data"
    }
   ],
   "source": [
    "plt.figure(figsize=(8,7))\n",
    "plt.scatter(plot_testing[:,0], plot_testing[:,1], alpha = 0.1, c = y_test.ravel());\n",
    "plt.title('Outputs')"
   ]
  },
  {
   "cell_type": "markdown",
   "metadata": {
    "papermill": {
     "duration": 0.04786,
     "end_time": "2020-10-14T20:06:50.527338",
     "exception": false,
     "start_time": "2020-10-14T20:06:50.479478",
     "status": "completed"
    },
    "tags": []
   },
   "source": [
    "### Plotting probability contours"
   ]
  },
  {
   "cell_type": "code",
   "execution_count": 27,
   "metadata": {
    "execution": {
     "iopub.execute_input": "2020-10-14T20:06:50.632040Z",
     "iopub.status.busy": "2020-10-14T20:06:50.631426Z",
     "iopub.status.idle": "2020-10-14T20:06:50.640827Z",
     "shell.execute_reply": "2020-10-14T20:06:50.641460Z"
    },
    "papermill": {
     "duration": 0.065464,
     "end_time": "2020-10-14T20:06:50.641616",
     "exception": false,
     "start_time": "2020-10-14T20:06:50.576152",
     "status": "completed"
    },
    "tags": []
   },
   "outputs": [],
   "source": [
    "model_prob = Model(layers[-2:]) "
   ]
  },
  {
   "cell_type": "code",
   "execution_count": 28,
   "metadata": {
    "execution": {
     "iopub.execute_input": "2020-10-14T20:06:50.751064Z",
     "iopub.status.busy": "2020-10-14T20:06:50.750419Z",
     "iopub.status.idle": "2020-10-14T20:06:50.762109Z",
     "shell.execute_reply": "2020-10-14T20:06:50.762571Z"
    },
    "papermill": {
     "duration": 0.071392,
     "end_time": "2020-10-14T20:06:50.762714",
     "exception": false,
     "start_time": "2020-10-14T20:06:50.691322",
     "status": "completed"
    },
    "tags": []
   },
   "outputs": [],
   "source": [
    "# Adjust the x and y ranges according to the above generated plot.\n",
    "x_range = np.linspace(-4, 1, 100) \n",
    "y_range = np.linspace(-6, 6, 100) \n",
    "x_grid, y_grid = np.meshgrid(x_range, y_range) # x_grid and y_grig are of size 100 X 100\n",
    "\n",
    "# converting x_grid and y_grid to continuous arrays\n",
    "x_grid_flat = np.ravel(x_grid)\n",
    "y_grid_flat = np.ravel(y_grid)\n",
    "\n",
    "# The last layer of the current model takes two columns as input. Hence transpose of np.vstack() is required.\n",
    "X = np.vstack((x_grid_flat, y_grid_flat)).T\n",
    "\n",
    "# x_grid and y_grid are of size 100 x 100\n",
    "probability_contour = model_prob(X).reshape(100,100) "
   ]
  },
  {
   "cell_type": "code",
   "execution_count": 29,
   "metadata": {
    "execution": {
     "iopub.execute_input": "2020-10-14T20:06:50.874086Z",
     "iopub.status.busy": "2020-10-14T20:06:50.873485Z",
     "iopub.status.idle": "2020-10-14T20:06:51.156349Z",
     "shell.execute_reply": "2020-10-14T20:06:51.155806Z"
    },
    "papermill": {
     "duration": 0.340695,
     "end_time": "2020-10-14T20:06:51.156523",
     "exception": false,
     "start_time": "2020-10-14T20:06:50.815828",
     "status": "completed"
    },
    "tags": []
   },
   "outputs": [
    {
     "data": {
      "image/png": "[encoded data removed]",
      "text/plain": [
       "<Figure size 720x648 with 1 Axes>"
      ]
     },
     "metadata": {
      "needs_background": "light"
     },
     "output_type": "display_data"
    }
   ],
   "source": [
    "plt.figure(figsize=(10,9))\n",
    "plt.scatter(plot_testing[:,0], plot_testing[:,1], alpha = 0.1, c = y_test.ravel())\n",
    "contours = plt.contour(x_grid,y_grid,probability_contour)\n",
    "plt.title('Probability Contours')\n",
    "plt.clabel(contours, inline = True );"
   ]
  }
 ],
 "metadata": {
  "kernelspec": {
   "display_name": "Python 3",
   "language": "python",
   "name": "python3"
  },
  "language_info": {
   "codemirror_mode": {
    "name": "ipython",
    "version": 3
   },
   "file_extension": ".py",
   "mimetype": "text/x-python",
   "name": "python",
   "nbconvert_exporter": "python",
   "pygments_lexer": "ipython3",
   "version": "3.6.12"
  },
  "papermill": {
   "duration": 152.015232,
   "end_time": "2020-10-14T20:06:51.635773",
   "environment_variables": {},
   "exception": null,
   "input_path": "2020-08-11-NeuralNetwork.ipynb",
   "output_path": "2020-08-11-NeuralNetwork.ipynb",
   "parameters": {},
   "start_time": "2020-10-14T20:04:19.620541",
   "version": "2.1.2"
  }
 },
 "nbformat": 4,
 "nbformat_minor": 4
}