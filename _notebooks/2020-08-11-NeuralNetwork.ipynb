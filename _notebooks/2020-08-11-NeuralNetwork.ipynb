{
 "cells": [
  {
   "cell_type": "markdown",
   "metadata": {
    "papermill": {
     "duration": 0.029373,
     "end_time": "2020-11-23T20:14:03.371067",
     "exception": false,
     "start_time": "2020-11-23T20:14:03.341694",
     "status": "completed"
    },
    "tags": []
   },
   "source": [
    "# \"A Basic Neural Network: Differentiate Hand-Written Digits\"\n",
    "\n",
    "- badges: true\n",
    "- author: Akshith Sriram"
   ]
  },
  {
   "cell_type": "markdown",
   "metadata": {
    "papermill": {
     "duration": 0.025533,
     "end_time": "2020-11-23T20:14:03.423593",
     "exception": false,
     "start_time": "2020-11-23T20:14:03.398060",
     "status": "completed"
    },
    "tags": []
   },
   "source": [
    "### Key Objectives:\n",
    "- Building a neural network that differentiates two hand-written digits 3 and 8.\n",
    "- Comparing the results of this Neural Network (NN) to that of a Logistic Regression (LR) model.\n",
    "\n",
    "### Requirements:\n",
    "- 'Kudzu' : A neural network library that was designed during our course by [Univ.AI](www.univ.ai). \n",
    "- MNIST Database\n",
    "\n",
    "If MNIST is not installed, use the command `!pip install mnist` given below.\n",
    "It can be run both from the command line and Jupyter Notebook."
   ]
  },
  {
   "cell_type": "code",
   "execution_count": 1,
   "metadata": {
    "execution": {
     "iopub.execute_input": "2020-11-23T20:14:03.479887Z",
     "iopub.status.busy": "2020-11-23T20:14:03.479274Z",
     "iopub.status.idle": "2020-11-23T20:14:04.872899Z",
     "shell.execute_reply": "2020-11-23T20:14:04.872031Z"
    },
    "papermill": {
     "duration": 1.424167,
     "end_time": "2020-11-23T20:14:04.873063",
     "exception": false,
     "start_time": "2020-11-23T20:14:03.448896",
     "status": "completed"
    },
    "tags": []
   },
   "outputs": [
    {
     "name": "stdout",
     "output_type": "stream",
     "text": [
      "Collecting mnist\r\n",
      "  Downloading mnist-0.2.2-py2.py3-none-any.whl (3.5 kB)\r\n"
     ]
    },
    {
     "name": "stdout",
     "output_type": "stream",
     "text": [
      "Requirement already satisfied: numpy in /opt/hostedtoolcache/Python/3.6.12/x64/lib/python3.6/site-packages (from mnist) (1.19.4)\r\n"
     ]
    },
    {
     "name": "stdout",
     "output_type": "stream",
     "text": [
      "Installing collected packages: mnist\r\n"
     ]
    },
    {
     "name": "stdout",
     "output_type": "stream",
     "text": [
      "Successfully installed mnist-0.2.2\r\n"
     ]
    }
   ],
   "source": [
    "!pip install mnist "
   ]
  },
  {
   "cell_type": "markdown",
   "metadata": {
    "papermill": {
     "duration": 0.027262,
     "end_time": "2020-11-23T20:14:04.926961",
     "exception": false,
     "start_time": "2020-11-23T20:14:04.899699",
     "status": "completed"
    },
    "tags": []
   },
   "source": [
    "#### Importing necessary libraries"
   ]
  },
  {
   "cell_type": "code",
   "execution_count": 2,
   "metadata": {
    "execution": {
     "iopub.execute_input": "2020-11-23T20:14:04.987028Z",
     "iopub.status.busy": "2020-11-23T20:14:04.986355Z",
     "iopub.status.idle": "2020-11-23T20:14:05.540884Z",
     "shell.execute_reply": "2020-11-23T20:14:05.540374Z"
    },
    "papermill": {
     "duration": 0.58709,
     "end_time": "2020-11-23T20:14:05.541030",
     "exception": false,
     "start_time": "2020-11-23T20:14:04.953940",
     "status": "completed"
    },
    "tags": []
   },
   "outputs": [],
   "source": [
    "%load_ext autoreload\n",
    "%autoreload 2\n",
    "\n",
    "%matplotlib inline\n",
    "import matplotlib.pyplot as plt\n",
    "\n",
    "import numpy as np\n",
    "import pandas as pd"
   ]
  },
  {
   "cell_type": "markdown",
   "metadata": {
    "papermill": {
     "duration": 0.028097,
     "end_time": "2020-11-23T20:14:05.595809",
     "exception": false,
     "start_time": "2020-11-23T20:14:05.567712",
     "status": "completed"
    },
    "tags": []
   },
   "source": [
    "### Preparing the Data"
   ]
  },
  {
   "cell_type": "code",
   "execution_count": 3,
   "metadata": {
    "execution": {
     "iopub.execute_input": "2020-11-23T20:14:05.663977Z",
     "iopub.status.busy": "2020-11-23T20:14:05.661166Z",
     "iopub.status.idle": "2020-11-23T20:14:05.667022Z",
     "shell.execute_reply": "2020-11-23T20:14:05.667556Z"
    },
    "papermill": {
     "duration": 0.045974,
     "end_time": "2020-11-23T20:14:05.667694",
     "exception": false,
     "start_time": "2020-11-23T20:14:05.621720",
     "status": "completed"
    },
    "tags": []
   },
   "outputs": [],
   "source": [
    "import mnist"
   ]
  },
  {
   "cell_type": "code",
   "execution_count": 4,
   "metadata": {
    "execution": {
     "iopub.execute_input": "2020-11-23T20:14:05.724433Z",
     "iopub.status.busy": "2020-11-23T20:14:05.723863Z",
     "iopub.status.idle": "2020-11-23T20:14:06.724768Z",
     "shell.execute_reply": "2020-11-23T20:14:06.724265Z"
    },
    "papermill": {
     "duration": 1.029868,
     "end_time": "2020-11-23T20:14:06.724908",
     "exception": false,
     "start_time": "2020-11-23T20:14:05.695040",
     "status": "completed"
    },
    "tags": []
   },
   "outputs": [],
   "source": [
    "train_images = mnist.train_images()\n",
    "train_labels = mnist.train_labels()"
   ]
  },
  {
   "cell_type": "code",
   "execution_count": 5,
   "metadata": {
    "execution": {
     "iopub.execute_input": "2020-11-23T20:14:07.171670Z",
     "iopub.status.busy": "2020-11-23T20:14:07.170648Z",
     "iopub.status.idle": "2020-11-23T20:14:07.185435Z",
     "shell.execute_reply": "2020-11-23T20:14:07.185888Z"
    },
    "papermill": {
     "duration": 0.434054,
     "end_time": "2020-11-23T20:14:07.186042",
     "exception": false,
     "start_time": "2020-11-23T20:14:06.751988",
     "status": "completed"
    },
    "tags": []
   },
   "outputs": [
    {
     "data": {
      "text/plain": [
       "((60000, 28, 28), (60000,))"
      ]
     },
     "execution_count": 5,
     "metadata": {},
     "output_type": "execute_result"
    }
   ],
   "source": [
    "train_images.shape, train_labels.shape"
   ]
  },
  {
   "cell_type": "code",
   "execution_count": 6,
   "metadata": {
    "execution": {
     "iopub.execute_input": "2020-11-23T20:14:07.247962Z",
     "iopub.status.busy": "2020-11-23T20:14:07.247396Z",
     "iopub.status.idle": "2020-11-23T20:14:07.771790Z",
     "shell.execute_reply": "2020-11-23T20:14:07.772303Z"
    },
    "papermill": {
     "duration": 0.557798,
     "end_time": "2020-11-23T20:14:07.772519",
     "exception": false,
     "start_time": "2020-11-23T20:14:07.214721",
     "status": "completed"
    },
    "tags": []
   },
   "outputs": [],
   "source": [
    "test_images = mnist.test_images()\n",
    "test_labels = mnist.test_labels()"
   ]
  },
  {
   "cell_type": "code",
   "execution_count": 7,
   "metadata": {
    "execution": {
     "iopub.execute_input": "2020-11-23T20:14:07.840721Z",
     "iopub.status.busy": "2020-11-23T20:14:07.840061Z",
     "iopub.status.idle": "2020-11-23T20:14:07.849651Z",
     "shell.execute_reply": "2020-11-23T20:14:07.849150Z"
    },
    "papermill": {
     "duration": 0.048091,
     "end_time": "2020-11-23T20:14:07.849784",
     "exception": false,
     "start_time": "2020-11-23T20:14:07.801693",
     "status": "completed"
    },
    "tags": []
   },
   "outputs": [
    {
     "data": {
      "text/plain": [
       "((10000, 28, 28), (10000,))"
      ]
     },
     "execution_count": 7,
     "metadata": {},
     "output_type": "execute_result"
    }
   ],
   "source": [
    "test_images.shape, test_labels.shape"
   ]
  },
  {
   "cell_type": "code",
   "execution_count": 8,
   "metadata": {
    "execution": {
     "iopub.execute_input": "2020-11-23T20:14:07.932917Z",
     "iopub.status.busy": "2020-11-23T20:14:07.910863Z",
     "iopub.status.idle": "2020-11-23T20:14:08.069959Z",
     "shell.execute_reply": "2020-11-23T20:14:08.069449Z"
    },
    "papermill": {
     "duration": 0.192778,
     "end_time": "2020-11-23T20:14:08.070119",
     "exception": false,
     "start_time": "2020-11-23T20:14:07.877341",
     "status": "completed"
    },
    "tags": []
   },
   "outputs": [
    {
     "name": "stdout",
     "output_type": "stream",
     "text": [
      "2\n"
     ]
    },
    {
     "data": {
      "text/plain": [
       "<matplotlib.image.AxesImage at 0x7f3d20c41198>"
      ]
     },
     "execution_count": 8,
     "metadata": {},
     "output_type": "execute_result"
    },
    {
     "data": {
      "image/png": "[encoded data removed]",
      "text/plain": [
       "<Figure size 432x288 with 1 Axes>"
      ]
     },
     "metadata": {
      "needs_background": "light"
     },
     "output_type": "display_data"
    }
   ],
   "source": [
    "image_index = 7776 # You may select anything up to 60,000\n",
    "print(train_labels[image_index]) \n",
    "plt.imshow(train_images[image_index], cmap='Greys')"
   ]
  },
  {
   "cell_type": "markdown",
   "metadata": {
    "papermill": {
     "duration": 0.028169,
     "end_time": "2020-11-23T20:14:08.128904",
     "exception": false,
     "start_time": "2020-11-23T20:14:08.100735",
     "status": "completed"
    },
    "tags": []
   },
   "source": [
    "## Filter data to get 3 and 8 out"
   ]
  },
  {
   "cell_type": "code",
   "execution_count": 9,
   "metadata": {
    "execution": {
     "iopub.execute_input": "2020-11-23T20:14:08.191921Z",
     "iopub.status.busy": "2020-11-23T20:14:08.191269Z",
     "iopub.status.idle": "2020-11-23T20:14:08.212842Z",
     "shell.execute_reply": "2020-11-23T20:14:08.212348Z"
    },
    "papermill": {
     "duration": 0.054802,
     "end_time": "2020-11-23T20:14:08.212984",
     "exception": false,
     "start_time": "2020-11-23T20:14:08.158182",
     "status": "completed"
    },
    "tags": []
   },
   "outputs": [],
   "source": [
    "train_filter = np.where((train_labels == 3 ) | (train_labels == 8))\n",
    "test_filter = np.where((test_labels == 3) | (test_labels == 8))\n",
    "X_train, y_train = train_images[train_filter], train_labels[train_filter]\n",
    "X_test, y_test = test_images[test_filter], test_labels[test_filter]"
   ]
  },
  {
   "cell_type": "markdown",
   "metadata": {
    "papermill": {
     "duration": 0.033407,
     "end_time": "2020-11-23T20:14:08.282948",
     "exception": false,
     "start_time": "2020-11-23T20:14:08.249541",
     "status": "completed"
    },
    "tags": []
   },
   "source": [
    "We normalize the pixel values in the 0 to 1 range"
   ]
  },
  {
   "cell_type": "code",
   "execution_count": 10,
   "metadata": {
    "execution": {
     "iopub.execute_input": "2020-11-23T20:14:08.360581Z",
     "iopub.status.busy": "2020-11-23T20:14:08.353921Z",
     "iopub.status.idle": "2020-11-23T20:14:08.410128Z",
     "shell.execute_reply": "2020-11-23T20:14:08.409583Z"
    },
    "papermill": {
     "duration": 0.095738,
     "end_time": "2020-11-23T20:14:08.410309",
     "exception": false,
     "start_time": "2020-11-23T20:14:08.314571",
     "status": "completed"
    },
    "tags": []
   },
   "outputs": [],
   "source": [
    "X_train = X_train/255.\n",
    "X_test = X_test/255."
   ]
  },
  {
   "cell_type": "markdown",
   "metadata": {
    "papermill": {
     "duration": 0.027135,
     "end_time": "2020-11-23T20:14:08.467925",
     "exception": false,
     "start_time": "2020-11-23T20:14:08.440790",
     "status": "completed"
    },
    "tags": []
   },
   "source": [
    "Setup the labels as 1 (when the digit is 3) and 0 (when the digit is 8)"
   ]
  },
  {
   "cell_type": "code",
   "execution_count": 11,
   "metadata": {
    "execution": {
     "iopub.execute_input": "2020-11-23T20:14:08.528065Z",
     "iopub.status.busy": "2020-11-23T20:14:08.527466Z",
     "iopub.status.idle": "2020-11-23T20:14:08.540587Z",
     "shell.execute_reply": "2020-11-23T20:14:08.541170Z"
    },
    "papermill": {
     "duration": 0.045232,
     "end_time": "2020-11-23T20:14:08.541307",
     "exception": false,
     "start_time": "2020-11-23T20:14:08.496075",
     "status": "completed"
    },
    "tags": []
   },
   "outputs": [],
   "source": [
    "y_train = 1*(y_train==3)\n",
    "y_test = 1*(y_test==3)"
   ]
  },
  {
   "cell_type": "code",
   "execution_count": 12,
   "metadata": {
    "execution": {
     "iopub.execute_input": "2020-11-23T20:14:08.603763Z",
     "iopub.status.busy": "2020-11-23T20:14:08.603134Z",
     "iopub.status.idle": "2020-11-23T20:14:08.616735Z",
     "shell.execute_reply": "2020-11-23T20:14:08.617300Z"
    },
    "papermill": {
     "duration": 0.046156,
     "end_time": "2020-11-23T20:14:08.617439",
     "exception": false,
     "start_time": "2020-11-23T20:14:08.571283",
     "status": "completed"
    },
    "tags": []
   },
   "outputs": [
    {
     "data": {
      "text/plain": [
       "((11982, 28, 28), (1984, 28, 28))"
      ]
     },
     "execution_count": 12,
     "metadata": {},
     "output_type": "execute_result"
    }
   ],
   "source": [
    "X_train.shape, X_test.shape"
   ]
  },
  {
   "cell_type": "markdown",
   "metadata": {
    "papermill": {
     "duration": 0.028653,
     "end_time": "2020-11-23T20:14:08.675045",
     "exception": false,
     "start_time": "2020-11-23T20:14:08.646392",
     "status": "completed"
    },
    "tags": []
   },
   "source": [
    "### Reshape the input data to create a linear array"
   ]
  },
  {
   "cell_type": "code",
   "execution_count": 13,
   "metadata": {
    "execution": {
     "iopub.execute_input": "2020-11-23T20:14:08.755171Z",
     "iopub.status.busy": "2020-11-23T20:14:08.754441Z",
     "iopub.status.idle": "2020-11-23T20:14:08.759677Z",
     "shell.execute_reply": "2020-11-23T20:14:08.760133Z"
    },
    "papermill": {
     "duration": 0.054866,
     "end_time": "2020-11-23T20:14:08.760283",
     "exception": false,
     "start_time": "2020-11-23T20:14:08.705417",
     "status": "completed"
    },
    "tags": []
   },
   "outputs": [
    {
     "data": {
      "text/plain": [
       "((11982, 784), (1984, 784))"
      ]
     },
     "execution_count": 13,
     "metadata": {},
     "output_type": "execute_result"
    }
   ],
   "source": [
    "X_train = X_train.reshape(X_train.shape[0], -1)\n",
    "X_test = X_test.reshape(X_test.shape[0], -1)\n",
    "X_train.shape, X_test.shape"
   ]
  },
  {
   "cell_type": "markdown",
   "metadata": {
    "papermill": {
     "duration": 0.034979,
     "end_time": "2020-11-23T20:14:08.824152",
     "exception": false,
     "start_time": "2020-11-23T20:14:08.789173",
     "status": "completed"
    },
    "tags": []
   },
   "source": [
    "### Importing appropriate functions from 'Kudzu'"
   ]
  },
  {
   "cell_type": "code",
   "execution_count": 14,
   "metadata": {
    "execution": {
     "iopub.execute_input": "2020-11-23T20:14:08.908605Z",
     "iopub.status.busy": "2020-11-23T20:14:08.901869Z",
     "iopub.status.idle": "2020-11-23T20:14:08.917735Z",
     "shell.execute_reply": "2020-11-23T20:14:08.918301Z"
    },
    "papermill": {
     "duration": 0.062716,
     "end_time": "2020-11-23T20:14:08.918469",
     "exception": false,
     "start_time": "2020-11-23T20:14:08.855753",
     "status": "completed"
    },
    "tags": []
   },
   "outputs": [],
   "source": [
    "from kudzu.layer import Sigmoid\n",
    "from kudzu.layer import Relu\n",
    "from kudzu.layer import Affine, Sigmoid\n",
    "\n",
    "from kudzu.model import Model\n",
    "from kudzu.train import Learner\n",
    "from kudzu.optim import GD\n",
    "from kudzu.data import Data, Dataloader, Sampler\n",
    "\n",
    "from kudzu.callbacks import AccCallback\n",
    "from kudzu.callbacks import ClfCallback\n",
    "\n",
    "from kudzu.loss import MSE"
   ]
  },
  {
   "cell_type": "markdown",
   "metadata": {
    "papermill": {
     "duration": 0.028906,
     "end_time": "2020-11-23T20:14:08.978684",
     "exception": false,
     "start_time": "2020-11-23T20:14:08.949778",
     "status": "completed"
    },
    "tags": []
   },
   "source": [
    "### Let us create a `Config` class, to store important parameters. \n",
    "This class essentially plays the role of a dictionary."
   ]
  },
  {
   "cell_type": "code",
   "execution_count": 15,
   "metadata": {
    "execution": {
     "iopub.execute_input": "2020-11-23T20:14:09.048268Z",
     "iopub.status.busy": "2020-11-23T20:14:09.047566Z",
     "iopub.status.idle": "2020-11-23T20:14:09.056167Z",
     "shell.execute_reply": "2020-11-23T20:14:09.056768Z"
    },
    "papermill": {
     "duration": 0.050091,
     "end_time": "2020-11-23T20:14:09.056923",
     "exception": false,
     "start_time": "2020-11-23T20:14:09.006832",
     "status": "completed"
    },
    "tags": []
   },
   "outputs": [],
   "source": [
    "class Config:\n",
    "    pass\n",
    "config = Config()\n",
    "config.lr = 0.001\n",
    "config.num_epochs = 251\n",
    "config.bs = 50"
   ]
  },
  {
   "cell_type": "markdown",
   "metadata": {
    "papermill": {
     "duration": 0.02951,
     "end_time": "2020-11-23T20:14:09.123523",
     "exception": false,
     "start_time": "2020-11-23T20:14:09.094013",
     "status": "completed"
    },
    "tags": []
   },
   "source": [
    "### Initializing data to the variables"
   ]
  },
  {
   "cell_type": "code",
   "execution_count": 16,
   "metadata": {
    "execution": {
     "iopub.execute_input": "2020-11-23T20:14:09.198390Z",
     "iopub.status.busy": "2020-11-23T20:14:09.192355Z",
     "iopub.status.idle": "2020-11-23T20:14:09.201139Z",
     "shell.execute_reply": "2020-11-23T20:14:09.200655Z"
    },
    "papermill": {
     "duration": 0.048165,
     "end_time": "2020-11-23T20:14:09.201271",
     "exception": false,
     "start_time": "2020-11-23T20:14:09.153106",
     "status": "completed"
    },
    "tags": []
   },
   "outputs": [],
   "source": [
    "data = Data(X_train, y_train.reshape(-1,1))\n",
    "sampler = Sampler(data, config.bs, shuffle=True)\n",
    "\n",
    "dl = Dataloader(data, sampler)\n",
    "\n",
    "opt = GD(config.lr)\n",
    "loss = MSE()"
   ]
  },
  {
   "cell_type": "code",
   "execution_count": 17,
   "metadata": {
    "execution": {
     "iopub.execute_input": "2020-11-23T20:14:09.269586Z",
     "iopub.status.busy": "2020-11-23T20:14:09.269009Z",
     "iopub.status.idle": "2020-11-23T20:14:09.276999Z",
     "shell.execute_reply": "2020-11-23T20:14:09.276510Z"
    },
    "papermill": {
     "duration": 0.046461,
     "end_time": "2020-11-23T20:14:09.277114",
     "exception": false,
     "start_time": "2020-11-23T20:14:09.230653",
     "status": "completed"
    },
    "tags": []
   },
   "outputs": [],
   "source": [
    "training_xdata = X_train\n",
    "testing_xdata = X_test\n",
    "training_ydata = y_train.reshape(-1,1)\n",
    "testing_ydata = y_test.reshape(-1,1)"
   ]
  },
  {
   "cell_type": "markdown",
   "metadata": {
    "papermill": {
     "duration": 0.03236,
     "end_time": "2020-11-23T20:14:09.342182",
     "exception": false,
     "start_time": "2020-11-23T20:14:09.309822",
     "status": "completed"
    },
    "tags": []
   },
   "source": [
    "### Running Models with the Training data\n",
    "Details about the network layers:\n",
    "- A first affine layer has 784 inputs and does 100 affine transforms. These are followed by a Relu\n",
    "- A second affine layer has 100 inputs from the 100 activations of the past layer, and does 100 affine transforms. These are followed by a Relu\n",
    "- A third affine layer has 100 activations and does 2 affine transformations to create an embedding for visualization. There is no non-linearity here.\n",
    "- A final \"logistic regression\" which has an affine transform from 2 inputs to 1 output, which is squeezed through a sigmoid.\n",
    "\n",
    "Help taken from Anshuman's Notebook."
   ]
  },
  {
   "cell_type": "code",
   "execution_count": 18,
   "metadata": {
    "execution": {
     "iopub.execute_input": "2020-11-23T20:14:09.407235Z",
     "iopub.status.busy": "2020-11-23T20:14:09.406615Z",
     "iopub.status.idle": "2020-11-23T20:14:09.423486Z",
     "shell.execute_reply": "2020-11-23T20:14:09.422998Z"
    },
    "papermill": {
     "duration": 0.049621,
     "end_time": "2020-11-23T20:14:09.423617",
     "exception": false,
     "start_time": "2020-11-23T20:14:09.373996",
     "status": "completed"
    },
    "tags": []
   },
   "outputs": [],
   "source": [
    "# layers for the Neural Network\n",
    "layers = [Affine(\"first\", 784, 100), Relu(\"first\"), Affine(\"second\", 100, 100), Relu(\"second\"), Affine(\"third\", 100, 2), Affine(\"final\", 2, 1), Sigmoid(\"final\")]\n",
    "model_nn = Model(layers)\n",
    "\n",
    "# layers for the Logistic Regression\n",
    "layers_lr = [Affine(\"logits\", 784, 1), Sigmoid(\"sigmoid\")]\n",
    "model_lr = Model(layers_lr)"
   ]
  },
  {
   "cell_type": "code",
   "execution_count": 19,
   "metadata": {
    "execution": {
     "iopub.execute_input": "2020-11-23T20:14:09.483672Z",
     "iopub.status.busy": "2020-11-23T20:14:09.483099Z",
     "iopub.status.idle": "2020-11-23T20:14:09.493948Z",
     "shell.execute_reply": "2020-11-23T20:14:09.494496Z"
    },
    "papermill": {
     "duration": 0.04262,
     "end_time": "2020-11-23T20:14:09.494621",
     "exception": false,
     "start_time": "2020-11-23T20:14:09.452001",
     "status": "completed"
    },
    "tags": []
   },
   "outputs": [],
   "source": [
    "# suffix _nn stands for Neural Network.\n",
    "learner_nn = Learner(loss, model_nn, opt, config.num_epochs)\n",
    "acc_nn = ClfCallback(learner_nn, config.bs, training_xdata , testing_xdata, training_ydata, testing_ydata)\n",
    "learner_nn.set_callbacks([acc_nn])"
   ]
  },
  {
   "cell_type": "code",
   "execution_count": 20,
   "metadata": {
    "execution": {
     "iopub.execute_input": "2020-11-23T20:14:09.556528Z",
     "iopub.status.busy": "2020-11-23T20:14:09.555844Z",
     "iopub.status.idle": "2020-11-23T20:16:12.689975Z",
     "shell.execute_reply": "2020-11-23T20:16:12.691163Z"
    },
    "papermill": {
     "duration": 123.166383,
     "end_time": "2020-11-23T20:16:12.691334",
     "exception": false,
     "start_time": "2020-11-23T20:14:09.524951",
     "status": "completed"
    },
    "tags": []
   },
   "outputs": [
    {
     "name": "stdout",
     "output_type": "stream",
     "text": [
      "====== Neural Network ======\n"
     ]
    },
    {
     "name": "stdout",
     "output_type": "stream",
     "text": [
      "Epoch 0, Loss 0.2373\n",
      "Training Accuracy: 0.7086, Testing Accuracy: 0.7218\n",
      "\n"
     ]
    },
    {
     "name": "stdout",
     "output_type": "stream",
     "text": [
      "Epoch 10, Loss 0.0772\n",
      "Training Accuracy: 0.9259, Testing Accuracy: 0.9365\n",
      "\n"
     ]
    },
    {
     "name": "stdout",
     "output_type": "stream",
     "text": [
      "Epoch 20, Loss 0.0501\n",
      "Training Accuracy: 0.9459, Testing Accuracy: 0.9567\n",
      "\n"
     ]
    },
    {
     "name": "stdout",
     "output_type": "stream",
     "text": [
      "Epoch 30, Loss 0.0408\n",
      "Training Accuracy: 0.9538, Testing Accuracy: 0.9612\n",
      "\n"
     ]
    },
    {
     "name": "stdout",
     "output_type": "stream",
     "text": [
      "Epoch 40, Loss 0.0361\n",
      "Training Accuracy: 0.9584, Testing Accuracy: 0.9652\n",
      "\n"
     ]
    },
    {
     "name": "stdout",
     "output_type": "stream",
     "text": [
      "Epoch 50, Loss 0.0332\n",
      "Training Accuracy: 0.9609, Testing Accuracy: 0.9682\n",
      "\n"
     ]
    },
    {
     "name": "stdout",
     "output_type": "stream",
     "text": [
      "Epoch 60, Loss 0.0311\n",
      "Training Accuracy: 0.9633, Testing Accuracy: 0.9682\n",
      "\n"
     ]
    },
    {
     "name": "stdout",
     "output_type": "stream",
     "text": [
      "Epoch 70, Loss 0.0295\n",
      "Training Accuracy: 0.9653, Testing Accuracy: 0.9688\n",
      "\n"
     ]
    },
    {
     "name": "stdout",
     "output_type": "stream",
     "text": [
      "Epoch 80, Loss 0.0281\n",
      "Training Accuracy: 0.9664, Testing Accuracy: 0.9703\n",
      "\n"
     ]
    },
    {
     "name": "stdout",
     "output_type": "stream",
     "text": [
      "Epoch 90, Loss 0.027\n",
      "Training Accuracy: 0.9680, Testing Accuracy: 0.9708\n",
      "\n"
     ]
    },
    {
     "name": "stdout",
     "output_type": "stream",
     "text": [
      "Epoch 100, Loss 0.026\n",
      "Training Accuracy: 0.9692, Testing Accuracy: 0.9718\n",
      "\n"
     ]
    },
    {
     "name": "stdout",
     "output_type": "stream",
     "text": [
      "Epoch 110, Loss 0.0252\n",
      "Training Accuracy: 0.9700, Testing Accuracy: 0.9718\n",
      "\n"
     ]
    },
    {
     "name": "stdout",
     "output_type": "stream",
     "text": [
      "Epoch 120, Loss 0.0244\n",
      "Training Accuracy: 0.9708, Testing Accuracy: 0.9713\n",
      "\n"
     ]
    },
    {
     "name": "stdout",
     "output_type": "stream",
     "text": [
      "Epoch 130, Loss 0.0237\n",
      "Training Accuracy: 0.9719, Testing Accuracy: 0.9718\n",
      "\n"
     ]
    },
    {
     "name": "stdout",
     "output_type": "stream",
     "text": [
      "Epoch 140, Loss 0.023\n",
      "Training Accuracy: 0.9724, Testing Accuracy: 0.9718\n",
      "\n"
     ]
    },
    {
     "name": "stdout",
     "output_type": "stream",
     "text": [
      "Epoch 150, Loss 0.0224\n",
      "Training Accuracy: 0.9733, Testing Accuracy: 0.9723\n",
      "\n"
     ]
    },
    {
     "name": "stdout",
     "output_type": "stream",
     "text": [
      "Epoch 160, Loss 0.0218\n",
      "Training Accuracy: 0.9744, Testing Accuracy: 0.9723\n",
      "\n"
     ]
    },
    {
     "name": "stdout",
     "output_type": "stream",
     "text": [
      "Epoch 170, Loss 0.0213\n",
      "Training Accuracy: 0.9760, Testing Accuracy: 0.9718\n",
      "\n"
     ]
    },
    {
     "name": "stdout",
     "output_type": "stream",
     "text": [
      "Epoch 180, Loss 0.0207\n",
      "Training Accuracy: 0.9768, Testing Accuracy: 0.9728\n",
      "\n"
     ]
    },
    {
     "name": "stdout",
     "output_type": "stream",
     "text": [
      "Epoch 190, Loss 0.0202\n",
      "Training Accuracy: 0.9774, Testing Accuracy: 0.9728\n",
      "\n"
     ]
    },
    {
     "name": "stdout",
     "output_type": "stream",
     "text": [
      "Epoch 200, Loss 0.0198\n",
      "Training Accuracy: 0.9778, Testing Accuracy: 0.9728\n",
      "\n"
     ]
    },
    {
     "name": "stdout",
     "output_type": "stream",
     "text": [
      "Epoch 210, Loss 0.0193\n",
      "Training Accuracy: 0.9781, Testing Accuracy: 0.9728\n",
      "\n"
     ]
    },
    {
     "name": "stdout",
     "output_type": "stream",
     "text": [
      "Epoch 220, Loss 0.0189\n",
      "Training Accuracy: 0.9791, Testing Accuracy: 0.9733\n",
      "\n"
     ]
    },
    {
     "name": "stdout",
     "output_type": "stream",
     "text": [
      "Epoch 230, Loss 0.0185\n",
      "Training Accuracy: 0.9801, Testing Accuracy: 0.9733\n",
      "\n"
     ]
    },
    {
     "name": "stdout",
     "output_type": "stream",
     "text": [
      "Epoch 240, Loss 0.0181\n",
      "Training Accuracy: 0.9802, Testing Accuracy: 0.9733\n",
      "\n"
     ]
    },
    {
     "name": "stdout",
     "output_type": "stream",
     "text": [
      "Epoch 250, Loss 0.0178\n",
      "Training Accuracy: 0.9807, Testing Accuracy: 0.9738\n",
      "\n"
     ]
    },
    {
     "data": {
      "text/plain": [
       "0.04799648912464095"
      ]
     },
     "execution_count": 20,
     "metadata": {},
     "output_type": "execute_result"
    }
   ],
   "source": [
    "print(\"====== Neural Network ======\")\n",
    "learner_nn.train_loop(dl)"
   ]
  },
  {
   "cell_type": "markdown",
   "metadata": {
    "papermill": {
     "duration": 0.051733,
     "end_time": "2020-11-23T20:16:12.784959",
     "exception": false,
     "start_time": "2020-11-23T20:16:12.733226",
     "status": "completed"
    },
    "tags": []
   },
   "source": [
    "### Logistic Regression based Implementation."
   ]
  },
  {
   "cell_type": "code",
   "execution_count": 21,
   "metadata": {
    "execution": {
     "iopub.execute_input": "2020-11-23T20:16:12.895479Z",
     "iopub.status.busy": "2020-11-23T20:16:12.892776Z",
     "iopub.status.idle": "2020-11-23T20:16:12.908185Z",
     "shell.execute_reply": "2020-11-23T20:16:12.907362Z"
    },
    "papermill": {
     "duration": 0.064427,
     "end_time": "2020-11-23T20:16:12.908342",
     "exception": false,
     "start_time": "2020-11-23T20:16:12.843915",
     "status": "completed"
    },
    "tags": []
   },
   "outputs": [],
   "source": [
    "learner_lr = Learner(loss, model_lr, opt, config.num_epochs)\n",
    "acc_lr = ClfCallback(learner_lr, config.bs, training_xdata , testing_xdata, training_ydata, testing_ydata)\n",
    "learner_lr.set_callbacks([acc_lr])"
   ]
  },
  {
   "cell_type": "code",
   "execution_count": 22,
   "metadata": {
    "execution": {
     "iopub.execute_input": "2020-11-23T20:16:12.993856Z",
     "iopub.status.busy": "2020-11-23T20:16:12.993202Z",
     "iopub.status.idle": "2020-11-23T20:16:31.810411Z",
     "shell.execute_reply": "2020-11-23T20:16:31.809495Z"
    },
    "papermill": {
     "duration": 18.860903,
     "end_time": "2020-11-23T20:16:31.810559",
     "exception": false,
     "start_time": "2020-11-23T20:16:12.949656",
     "status": "completed"
    },
    "tags": []
   },
   "outputs": [
    {
     "name": "stdout",
     "output_type": "stream",
     "text": [
      "====== Logistic Regression ======\n",
      "Epoch 0, Loss 0.2471\n",
      "Training Accuracy: 0.6804, Testing Accuracy: 0.7087\n",
      "\n"
     ]
    },
    {
     "name": "stdout",
     "output_type": "stream",
     "text": [
      "Epoch 10, Loss 0.106\n",
      "Training Accuracy: 0.9019, Testing Accuracy: 0.9158\n",
      "\n"
     ]
    },
    {
     "name": "stdout",
     "output_type": "stream",
     "text": [
      "Epoch 20, Loss 0.0815\n",
      "Training Accuracy: 0.9227, Testing Accuracy: 0.9320\n",
      "\n"
     ]
    },
    {
     "name": "stdout",
     "output_type": "stream",
     "text": [
      "Epoch 30, Loss 0.0701\n",
      "Training Accuracy: 0.9319, Testing Accuracy: 0.9430\n",
      "\n"
     ]
    },
    {
     "name": "stdout",
     "output_type": "stream",
     "text": [
      "Epoch 40, Loss 0.0632\n",
      "Training Accuracy: 0.9371, Testing Accuracy: 0.9491\n",
      "\n"
     ]
    },
    {
     "name": "stdout",
     "output_type": "stream",
     "text": [
      "Epoch 50, Loss 0.0585\n",
      "Training Accuracy: 0.9413, Testing Accuracy: 0.9531\n",
      "\n"
     ]
    },
    {
     "name": "stdout",
     "output_type": "stream",
     "text": [
      "Epoch 60, Loss 0.055\n",
      "Training Accuracy: 0.9454, Testing Accuracy: 0.9567\n",
      "\n"
     ]
    },
    {
     "name": "stdout",
     "output_type": "stream",
     "text": [
      "Epoch 70, Loss 0.0524\n",
      "Training Accuracy: 0.9473, Testing Accuracy: 0.9587\n",
      "\n"
     ]
    },
    {
     "name": "stdout",
     "output_type": "stream",
     "text": [
      "Epoch 80, Loss 0.0502\n",
      "Training Accuracy: 0.9492, Testing Accuracy: 0.9612\n",
      "\n"
     ]
    },
    {
     "name": "stdout",
     "output_type": "stream",
     "text": [
      "Epoch 90, Loss 0.0485\n",
      "Training Accuracy: 0.9508, Testing Accuracy: 0.9622\n",
      "\n"
     ]
    },
    {
     "name": "stdout",
     "output_type": "stream",
     "text": [
      "Epoch 100, Loss 0.047\n",
      "Training Accuracy: 0.9518, Testing Accuracy: 0.9637\n",
      "\n"
     ]
    },
    {
     "name": "stdout",
     "output_type": "stream",
     "text": [
      "Epoch 110, Loss 0.0457\n",
      "Training Accuracy: 0.9528, Testing Accuracy: 0.9642\n",
      "\n"
     ]
    },
    {
     "name": "stdout",
     "output_type": "stream",
     "text": [
      "Epoch 120, Loss 0.0446\n",
      "Training Accuracy: 0.9538, Testing Accuracy: 0.9642\n",
      "\n"
     ]
    },
    {
     "name": "stdout",
     "output_type": "stream",
     "text": [
      "Epoch 130, Loss 0.0436\n",
      "Training Accuracy: 0.9547, Testing Accuracy: 0.9642\n",
      "\n"
     ]
    },
    {
     "name": "stdout",
     "output_type": "stream",
     "text": [
      "Epoch 140, Loss 0.0428\n",
      "Training Accuracy: 0.9558, Testing Accuracy: 0.9652\n",
      "\n"
     ]
    },
    {
     "name": "stdout",
     "output_type": "stream",
     "text": [
      "Epoch 150, Loss 0.042\n",
      "Training Accuracy: 0.9561, Testing Accuracy: 0.9657\n",
      "\n"
     ]
    },
    {
     "name": "stdout",
     "output_type": "stream",
     "text": [
      "Epoch 160, Loss 0.0413\n",
      "Training Accuracy: 0.9564, Testing Accuracy: 0.9657\n",
      "\n"
     ]
    },
    {
     "name": "stdout",
     "output_type": "stream",
     "text": [
      "Epoch 170, Loss 0.0407\n",
      "Training Accuracy: 0.9569, Testing Accuracy: 0.9677\n",
      "\n"
     ]
    },
    {
     "name": "stdout",
     "output_type": "stream",
     "text": [
      "Epoch 180, Loss 0.0401\n",
      "Training Accuracy: 0.9576, Testing Accuracy: 0.9677\n",
      "\n"
     ]
    },
    {
     "name": "stdout",
     "output_type": "stream",
     "text": [
      "Epoch 190, Loss 0.0395\n",
      "Training Accuracy: 0.9580, Testing Accuracy: 0.9677\n",
      "\n"
     ]
    },
    {
     "name": "stdout",
     "output_type": "stream",
     "text": [
      "Epoch 200, Loss 0.039\n",
      "Training Accuracy: 0.9581, Testing Accuracy: 0.9677\n",
      "\n"
     ]
    },
    {
     "name": "stdout",
     "output_type": "stream",
     "text": [
      "Epoch 210, Loss 0.0386\n",
      "Training Accuracy: 0.9584, Testing Accuracy: 0.9682\n",
      "\n"
     ]
    },
    {
     "name": "stdout",
     "output_type": "stream",
     "text": [
      "Epoch 220, Loss 0.0381\n",
      "Training Accuracy: 0.9590, Testing Accuracy: 0.9682\n",
      "\n"
     ]
    },
    {
     "name": "stdout",
     "output_type": "stream",
     "text": [
      "Epoch 230, Loss 0.0377\n",
      "Training Accuracy: 0.9595, Testing Accuracy: 0.9677\n",
      "\n"
     ]
    },
    {
     "name": "stdout",
     "output_type": "stream",
     "text": [
      "Epoch 240, Loss 0.0374\n",
      "Training Accuracy: 0.9596, Testing Accuracy: 0.9672\n",
      "\n"
     ]
    },
    {
     "name": "stdout",
     "output_type": "stream",
     "text": [
      "Epoch 250, Loss 0.037\n",
      "Training Accuracy: 0.9601, Testing Accuracy: 0.9672\n",
      "\n"
     ]
    },
    {
     "data": {
      "text/plain": [
       "0.019774319170803717"
      ]
     },
     "execution_count": 22,
     "metadata": {},
     "output_type": "execute_result"
    }
   ],
   "source": [
    "print(\"====== Logistic Regression ======\")\n",
    "learner_lr.train_loop(dl)"
   ]
  },
  {
   "cell_type": "markdown",
   "metadata": {
    "papermill": {
     "duration": 0.049509,
     "end_time": "2020-11-23T20:16:31.910856",
     "exception": false,
     "start_time": "2020-11-23T20:16:31.861347",
     "status": "completed"
    },
    "tags": []
   },
   "source": [
    "### Comparing results of NN and LR"
   ]
  },
  {
   "cell_type": "code",
   "execution_count": 23,
   "metadata": {
    "execution": {
     "iopub.execute_input": "2020-11-23T20:16:32.018141Z",
     "iopub.status.busy": "2020-11-23T20:16:32.017490Z",
     "iopub.status.idle": "2020-11-23T20:16:32.285601Z",
     "shell.execute_reply": "2020-11-23T20:16:32.286157Z"
    },
    "papermill": {
     "duration": 0.325297,
     "end_time": "2020-11-23T20:16:32.286354",
     "exception": false,
     "start_time": "2020-11-23T20:16:31.961057",
     "status": "completed"
    },
    "tags": []
   },
   "outputs": [
    {
     "data": {
      "text/plain": [
       "<matplotlib.legend.Legend at 0x7f3d1e8119e8>"
      ]
     },
     "execution_count": 23,
     "metadata": {},
     "output_type": "execute_result"
    },
    {
     "data": {
      "image/png": "[encoded data removed]",
      "text/plain": [
       "<Figure size 1080x720 with 1 Axes>"
      ]
     },
     "metadata": {
      "needs_background": "light"
     },
     "output_type": "display_data"
    }
   ],
   "source": [
    "plt.figure(figsize=(15,10))\n",
    "\n",
    "# Neural Network plots\n",
    "plt.plot(acc_nn.accuracies, 'r-', label = \"Training Accuracies - NN\")\n",
    "plt.plot(acc_nn.test_accuracies, 'g-', label = \"Testing Accuracies - NN\")\n",
    "\n",
    "# Logistic Regression plots\n",
    "plt.plot(acc_lr.accuracies, 'k-', label = \"Training Accuracies - LR\")\n",
    "plt.plot(acc_lr.test_accuracies, 'b-', label = \"Testing Accuracies - LR\")\n",
    "\n",
    "plt.ylim(0.8, 1)\n",
    "\n",
    "plt.legend()\n",
    "\n"
   ]
  },
  {
   "cell_type": "markdown",
   "metadata": {
    "papermill": {
     "duration": 0.05071,
     "end_time": "2020-11-23T20:16:32.385278",
     "exception": false,
     "start_time": "2020-11-23T20:16:32.334568",
     "status": "completed"
    },
    "tags": []
   },
   "source": [
    "### From the plot, we can observe the following:\n",
    "- Neural Network achieves higher accuracy than the Logistic Regression model.\n",
    "- This apparently, is because of overfitting, i.e. NN captures more noise than data.\n",
    "- Testing accuracy of NN drops below the Training accuracy at higher epochs. This explains the over-fitting on training data.\n",
    "- Logistic Regression gives a reliable accuracy, without the above mentioned problem.\n"
   ]
  },
  {
   "cell_type": "markdown",
   "metadata": {
    "papermill": {
     "duration": 0.04813,
     "end_time": "2020-11-23T20:16:32.482769",
     "exception": false,
     "start_time": "2020-11-23T20:16:32.434639",
     "status": "completed"
    },
    "tags": []
   },
   "source": [
    "### Moving till the last but one layer (excluding it).\n",
    "#### Plotting the outputs of this layer of the NN."
   ]
  },
  {
   "cell_type": "code",
   "execution_count": 24,
   "metadata": {
    "execution": {
     "iopub.execute_input": "2020-11-23T20:16:32.596615Z",
     "iopub.status.busy": "2020-11-23T20:16:32.595928Z",
     "iopub.status.idle": "2020-11-23T20:16:32.597878Z",
     "shell.execute_reply": "2020-11-23T20:16:32.601629Z"
    },
    "papermill": {
     "duration": 0.070017,
     "end_time": "2020-11-23T20:16:32.601794",
     "exception": false,
     "start_time": "2020-11-23T20:16:32.531777",
     "status": "completed"
    },
    "tags": []
   },
   "outputs": [],
   "source": [
    "model_new = Model(layers[:-2])"
   ]
  },
  {
   "cell_type": "code",
   "execution_count": 25,
   "metadata": {
    "execution": {
     "iopub.execute_input": "2020-11-23T20:16:32.707654Z",
     "iopub.status.busy": "2020-11-23T20:16:32.706942Z",
     "iopub.status.idle": "2020-11-23T20:16:32.729240Z",
     "shell.execute_reply": "2020-11-23T20:16:32.729918Z"
    },
    "papermill": {
     "duration": 0.079294,
     "end_time": "2020-11-23T20:16:32.730072",
     "exception": false,
     "start_time": "2020-11-23T20:16:32.650778",
     "status": "completed"
    },
    "tags": []
   },
   "outputs": [],
   "source": [
    "plot_testing = model_new(testing_xdata)"
   ]
  },
  {
   "cell_type": "code",
   "execution_count": 26,
   "metadata": {
    "execution": {
     "iopub.execute_input": "2020-11-23T20:16:32.848463Z",
     "iopub.status.busy": "2020-11-23T20:16:32.847866Z",
     "iopub.status.idle": "2020-11-23T20:16:33.061132Z",
     "shell.execute_reply": "2020-11-23T20:16:33.061667Z"
    },
    "papermill": {
     "duration": 0.278186,
     "end_time": "2020-11-23T20:16:33.061863",
     "exception": false,
     "start_time": "2020-11-23T20:16:32.783677",
     "status": "completed"
    },
    "tags": []
   },
   "outputs": [
    {
     "data": {
      "text/plain": [
       "Text(0.5, 1.0, 'Outputs')"
      ]
     },
     "execution_count": 26,
     "metadata": {},
     "output_type": "execute_result"
    },
    {
     "data": {
      "image/png": "[encoded data removed]",
      "text/plain": [
       "<Figure size 576x504 with 1 Axes>"
      ]
     },
     "metadata": {
      "needs_background": "light"
     },
     "output_type": "display_data"
    }
   ],
   "source": [
    "plt.figure(figsize=(8,7))\n",
    "plt.scatter(plot_testing[:,0], plot_testing[:,1], alpha = 0.1, c = y_test.ravel());\n",
    "plt.title('Outputs')"
   ]
  },
  {
   "cell_type": "markdown",
   "metadata": {
    "papermill": {
     "duration": 0.051658,
     "end_time": "2020-11-23T20:16:33.166885",
     "exception": false,
     "start_time": "2020-11-23T20:16:33.115227",
     "status": "completed"
    },
    "tags": []
   },
   "source": [
    "### Plotting probability contours"
   ]
  },
  {
   "cell_type": "code",
   "execution_count": 27,
   "metadata": {
    "execution": {
     "iopub.execute_input": "2020-11-23T20:16:33.278640Z",
     "iopub.status.busy": "2020-11-23T20:16:33.278011Z",
     "iopub.status.idle": "2020-11-23T20:16:33.289482Z",
     "shell.execute_reply": "2020-11-23T20:16:33.289025Z"
    },
    "papermill": {
     "duration": 0.070586,
     "end_time": "2020-11-23T20:16:33.289606",
     "exception": false,
     "start_time": "2020-11-23T20:16:33.219020",
     "status": "completed"
    },
    "tags": []
   },
   "outputs": [],
   "source": [
    "model_prob = Model(layers[-2:]) "
   ]
  },
  {
   "cell_type": "code",
   "execution_count": 28,
   "metadata": {
    "execution": {
     "iopub.execute_input": "2020-11-23T20:16:33.394974Z",
     "iopub.status.busy": "2020-11-23T20:16:33.394295Z",
     "iopub.status.idle": "2020-11-23T20:16:33.408816Z",
     "shell.execute_reply": "2020-11-23T20:16:33.412353Z"
    },
    "papermill": {
     "duration": 0.073167,
     "end_time": "2020-11-23T20:16:33.412550",
     "exception": false,
     "start_time": "2020-11-23T20:16:33.339383",
     "status": "completed"
    },
    "tags": []
   },
   "outputs": [],
   "source": [
    "# Adjust the x and y ranges according to the above generated plot.\n",
    "x_range = np.linspace(-4, 1, 100) \n",
    "y_range = np.linspace(-6, 6, 100) \n",
    "x_grid, y_grid = np.meshgrid(x_range, y_range) # x_grid and y_grig are of size 100 X 100\n",
    "\n",
    "# converting x_grid and y_grid to continuous arrays\n",
    "x_grid_flat = np.ravel(x_grid)\n",
    "y_grid_flat = np.ravel(y_grid)\n",
    "\n",
    "# The last layer of the current model takes two columns as input. Hence transpose of np.vstack() is required.\n",
    "X = np.vstack((x_grid_flat, y_grid_flat)).T\n",
    "\n",
    "# x_grid and y_grid are of size 100 x 100\n",
    "probability_contour = model_prob(X).reshape(100,100) "
   ]
  },
  {
   "cell_type": "code",
   "execution_count": 29,
   "metadata": {
    "execution": {
     "iopub.execute_input": "2020-11-23T20:16:33.547462Z",
     "iopub.status.busy": "2020-11-23T20:16:33.531164Z",
     "iopub.status.idle": "2020-11-23T20:16:33.807320Z",
     "shell.execute_reply": "2020-11-23T20:16:33.807854Z"
    },
    "papermill": {
     "duration": 0.343439,
     "end_time": "2020-11-23T20:16:33.808038",
     "exception": false,
     "start_time": "2020-11-23T20:16:33.464599",
     "status": "completed"
    },
    "tags": []
   },
   "outputs": [
    {
     "data": {
      "image/png": "[encoded data removed]",
      "text/plain": [
       "<Figure size 720x648 with 1 Axes>"
      ]
     },
     "metadata": {
      "needs_background": "light"
     },
     "output_type": "display_data"
    }
   ],
   "source": [
    "plt.figure(figsize=(10,9))\n",
    "plt.scatter(plot_testing[:,0], plot_testing[:,1], alpha = 0.1, c = y_test.ravel())\n",
    "contours = plt.contour(x_grid,y_grid,probability_contour)\n",
    "plt.title('Probability Contours')\n",
    "plt.clabel(contours, inline = True );"
   ]
  }
 ],
 "metadata": {
  "kernelspec": {
   "display_name": "Python 3",
   "language": "python",
   "name": "python3"
  },
  "language_info": {
   "codemirror_mode": {
    "name": "ipython",
    "version": 3
   },
   "file_extension": ".py",
   "mimetype": "text/x-python",
   "name": "python",
   "nbconvert_exporter": "python",
   "pygments_lexer": "ipython3",
   "version": "3.6.12"
  },
  "papermill": {
   "duration": 152.018005,
   "end_time": "2020-11-23T20:16:34.289606",
   "environment_variables": {},
   "exception": null,
   "input_path": "2020-08-11-NeuralNetwork.ipynb",
   "output_path": "2020-08-11-NeuralNetwork.ipynb",
   "parameters": {},
   "start_time": "2020-11-23T20:14:02.271601",
   "version": "2.1.2"
  }
 },
 "nbformat": 4,
 "nbformat_minor": 4
}