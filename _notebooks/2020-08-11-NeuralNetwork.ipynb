{
 "cells": [
  {
   "cell_type": "markdown",
   "id": "fitted-suggestion",
   "metadata": {
    "papermill": {
     "duration": 0.029618,
     "end_time": "2021-06-25T10:04:52.766553",
     "exception": false,
     "start_time": "2021-06-25T10:04:52.736935",
     "status": "completed"
    },
    "tags": []
   },
   "source": [
    "# \"A Basic Neural Network: Differentiate Hand-Written Digits\"\n",
    "\n",
    "- badges: true\n",
    "- author: Akshith Sriram"
   ]
  },
  {
   "cell_type": "markdown",
   "id": "signal-flexibility",
   "metadata": {
    "papermill": {
     "duration": 0.025399,
     "end_time": "2021-06-25T10:04:52.818092",
     "exception": false,
     "start_time": "2021-06-25T10:04:52.792693",
     "status": "completed"
    },
    "tags": []
   },
   "source": [
    "### Key Objectives:\n",
    "- Building a neural network that differentiates two hand-written digits 3 and 8.\n",
    "- Comparing the results of this Neural Network (NN) to that of a Logistic Regression (LR) model.\n",
    "\n",
    "### Requirements:\n",
    "- 'Kudzu' : A neural network library that was designed during our course by [Univ.AI](www.univ.ai). \n",
    "- MNIST Database\n",
    "\n",
    "If MNIST is not installed, use the command `!pip install mnist` given below.\n",
    "It can be run both from the command line and Jupyter Notebook."
   ]
  },
  {
   "cell_type": "code",
   "execution_count": 1,
   "id": "british-texture",
   "metadata": {
    "execution": {
     "iopub.execute_input": "2021-06-25T10:04:52.880413Z",
     "iopub.status.busy": "2021-06-25T10:04:52.879875Z",
     "iopub.status.idle": "2021-06-25T10:04:54.312946Z",
     "shell.execute_reply": "2021-06-25T10:04:54.312103Z"
    },
    "papermill": {
     "duration": 1.469585,
     "end_time": "2021-06-25T10:04:54.313097",
     "exception": false,
     "start_time": "2021-06-25T10:04:52.843512",
     "status": "completed"
    },
    "tags": []
   },
   "outputs": [
    {
     "name": "stdout",
     "output_type": "stream",
     "text": [
      "Collecting mnist\r\n"
     ]
    },
    {
     "name": "stdout",
     "output_type": "stream",
     "text": [
      "  Downloading mnist-0.2.2-py2.py3-none-any.whl (3.5 kB)\r\n",
      "Requirement already satisfied: numpy in /opt/hostedtoolcache/Python/3.6.13/x64/lib/python3.6/site-packages (from mnist) (1.19.5)\r\n"
     ]
    },
    {
     "name": "stdout",
     "output_type": "stream",
     "text": [
      "Installing collected packages: mnist\r\n",
      "Successfully installed mnist-0.2.2\r\n"
     ]
    }
   ],
   "source": [
    "!pip install mnist "
   ]
  },
  {
   "cell_type": "markdown",
   "id": "stunning-extra",
   "metadata": {
    "papermill": {
     "duration": 0.026036,
     "end_time": "2021-06-25T10:04:54.365467",
     "exception": false,
     "start_time": "2021-06-25T10:04:54.339431",
     "status": "completed"
    },
    "tags": []
   },
   "source": [
    "#### Importing necessary libraries"
   ]
  },
  {
   "cell_type": "code",
   "execution_count": 2,
   "id": "wooden-france",
   "metadata": {
    "execution": {
     "iopub.execute_input": "2021-06-25T10:04:54.424799Z",
     "iopub.status.busy": "2021-06-25T10:04:54.424295Z",
     "iopub.status.idle": "2021-06-25T10:04:54.947543Z",
     "shell.execute_reply": "2021-06-25T10:04:54.946999Z"
    },
    "papermill": {
     "duration": 0.556231,
     "end_time": "2021-06-25T10:04:54.947679",
     "exception": false,
     "start_time": "2021-06-25T10:04:54.391448",
     "status": "completed"
    },
    "tags": []
   },
   "outputs": [],
   "source": [
    "%load_ext autoreload\n",
    "%autoreload 2\n",
    "\n",
    "%matplotlib inline\n",
    "import matplotlib.pyplot as plt\n",
    "\n",
    "import numpy as np\n",
    "import pandas as pd"
   ]
  },
  {
   "cell_type": "markdown",
   "id": "stunning-physics",
   "metadata": {
    "papermill": {
     "duration": 0.026165,
     "end_time": "2021-06-25T10:04:55.001183",
     "exception": false,
     "start_time": "2021-06-25T10:04:54.975018",
     "status": "completed"
    },
    "tags": []
   },
   "source": [
    "### Preparing the Data"
   ]
  },
  {
   "cell_type": "code",
   "execution_count": 3,
   "id": "unauthorized-remainder",
   "metadata": {
    "execution": {
     "iopub.execute_input": "2021-06-25T10:04:55.057138Z",
     "iopub.status.busy": "2021-06-25T10:04:55.056629Z",
     "iopub.status.idle": "2021-06-25T10:04:55.068956Z",
     "shell.execute_reply": "2021-06-25T10:04:55.068529Z"
    },
    "papermill": {
     "duration": 0.041781,
     "end_time": "2021-06-25T10:04:55.069075",
     "exception": false,
     "start_time": "2021-06-25T10:04:55.027294",
     "status": "completed"
    },
    "tags": []
   },
   "outputs": [],
   "source": [
    "import mnist"
   ]
  },
  {
   "cell_type": "code",
   "execution_count": 4,
   "id": "correct-antarctica",
   "metadata": {
    "execution": {
     "iopub.execute_input": "2021-06-25T10:04:55.127658Z",
     "iopub.status.busy": "2021-06-25T10:04:55.127129Z",
     "iopub.status.idle": "2021-06-25T10:09:49.748586Z",
     "shell.execute_reply": "2021-06-25T10:09:49.747714Z"
    },
    "papermill": {
     "duration": 294.653359,
     "end_time": "2021-06-25T10:09:49.748727",
     "exception": false,
     "start_time": "2021-06-25T10:04:55.095368",
     "status": "completed"
    },
    "tags": []
   },
   "outputs": [],
   "source": [
    "train_images = mnist.train_images()\n",
    "train_labels = mnist.train_labels()"
   ]
  },
  {
   "cell_type": "code",
   "execution_count": 5,
   "id": "musical-prospect",
   "metadata": {
    "execution": {
     "iopub.execute_input": "2021-06-25T10:09:49.807316Z",
     "iopub.status.busy": "2021-06-25T10:09:49.804477Z",
     "iopub.status.idle": "2021-06-25T10:09:49.817373Z",
     "shell.execute_reply": "2021-06-25T10:09:49.817768Z"
    },
    "papermill": {
     "duration": 0.042196,
     "end_time": "2021-06-25T10:09:49.817894",
     "exception": false,
     "start_time": "2021-06-25T10:09:49.775698",
     "status": "completed"
    },
    "tags": []
   },
   "outputs": [
    {
     "data": {
      "text/plain": [
       "((60000, 28, 28), (60000,))"
      ]
     },
     "execution_count": 5,
     "metadata": {},
     "output_type": "execute_result"
    }
   ],
   "source": [
    "train_images.shape, train_labels.shape"
   ]
  },
  {
   "cell_type": "code",
   "execution_count": 6,
   "id": "preliminary-elizabeth",
   "metadata": {
    "execution": {
     "iopub.execute_input": "2021-06-25T10:09:49.876750Z",
     "iopub.status.busy": "2021-06-25T10:09:49.876257Z",
     "iopub.status.idle": "2021-06-25T10:10:27.170988Z",
     "shell.execute_reply": "2021-06-25T10:10:27.170457Z"
    },
    "papermill": {
     "duration": 37.327149,
     "end_time": "2021-06-25T10:10:27.171135",
     "exception": false,
     "start_time": "2021-06-25T10:09:49.843986",
     "status": "completed"
    },
    "tags": []
   },
   "outputs": [],
   "source": [
    "test_images = mnist.test_images()\n",
    "test_labels = mnist.test_labels()"
   ]
  },
  {
   "cell_type": "code",
   "execution_count": 7,
   "id": "acknowledged-oxygen",
   "metadata": {
    "execution": {
     "iopub.execute_input": "2021-06-25T10:10:27.234477Z",
     "iopub.status.busy": "2021-06-25T10:10:27.232958Z",
     "iopub.status.idle": "2021-06-25T10:10:27.242719Z",
     "shell.execute_reply": "2021-06-25T10:10:27.242273Z"
    },
    "papermill": {
     "duration": 0.044172,
     "end_time": "2021-06-25T10:10:27.242827",
     "exception": false,
     "start_time": "2021-06-25T10:10:27.198655",
     "status": "completed"
    },
    "tags": []
   },
   "outputs": [
    {
     "data": {
      "text/plain": [
       "((10000, 28, 28), (10000,))"
      ]
     },
     "execution_count": 7,
     "metadata": {},
     "output_type": "execute_result"
    }
   ],
   "source": [
    "test_images.shape, test_labels.shape"
   ]
  },
  {
   "cell_type": "code",
   "execution_count": 8,
   "id": "innovative-organic",
   "metadata": {
    "execution": {
     "iopub.execute_input": "2021-06-25T10:10:27.323250Z",
     "iopub.status.busy": "2021-06-25T10:10:27.322757Z",
     "iopub.status.idle": "2021-06-25T10:10:27.430599Z",
     "shell.execute_reply": "2021-06-25T10:10:27.431089Z"
    },
    "papermill": {
     "duration": 0.161969,
     "end_time": "2021-06-25T10:10:27.431245",
     "exception": false,
     "start_time": "2021-06-25T10:10:27.269276",
     "status": "completed"
    },
    "tags": []
   },
   "outputs": [
    {
     "name": "stdout",
     "output_type": "stream",
     "text": [
      "2\n"
     ]
    },
    {
     "data": {
      "text/plain": [
       "<matplotlib.image.AxesImage at 0x7fa1917758d0>"
      ]
     },
     "execution_count": 8,
     "metadata": {},
     "output_type": "execute_result"
    },
    {
     "data": {
      "image/png": "[encoded data removed]",
      "text/plain": [
       "<Figure size 432x288 with 1 Axes>"
      ]
     },
     "metadata": {
      "needs_background": "light"
     },
     "output_type": "display_data"
    }
   ],
   "source": [
    "image_index = 7776 # You may select anything up to 60,000\n",
    "print(train_labels[image_index]) \n",
    "plt.imshow(train_images[image_index], cmap='Greys')"
   ]
  },
  {
   "cell_type": "markdown",
   "id": "facial-modem",
   "metadata": {
    "papermill": {
     "duration": 0.027477,
     "end_time": "2021-06-25T10:10:27.486609",
     "exception": false,
     "start_time": "2021-06-25T10:10:27.459132",
     "status": "completed"
    },
    "tags": []
   },
   "source": [
    "## Filter data to get 3 and 8 out"
   ]
  },
  {
   "cell_type": "code",
   "execution_count": 9,
   "id": "thousand-acquisition",
   "metadata": {
    "execution": {
     "iopub.execute_input": "2021-06-25T10:10:27.556993Z",
     "iopub.status.busy": "2021-06-25T10:10:27.551730Z",
     "iopub.status.idle": "2021-06-25T10:10:27.566577Z",
     "shell.execute_reply": "2021-06-25T10:10:27.566153Z"
    },
    "papermill": {
     "duration": 0.052627,
     "end_time": "2021-06-25T10:10:27.566696",
     "exception": false,
     "start_time": "2021-06-25T10:10:27.514069",
     "status": "completed"
    },
    "tags": []
   },
   "outputs": [],
   "source": [
    "train_filter = np.where((train_labels == 3 ) | (train_labels == 8))\n",
    "test_filter = np.where((test_labels == 3) | (test_labels == 8))\n",
    "X_train, y_train = train_images[train_filter], train_labels[train_filter]\n",
    "X_test, y_test = test_images[test_filter], test_labels[test_filter]"
   ]
  },
  {
   "cell_type": "markdown",
   "id": "ruled-access",
   "metadata": {
    "papermill": {
     "duration": 0.027416,
     "end_time": "2021-06-25T10:10:27.621829",
     "exception": false,
     "start_time": "2021-06-25T10:10:27.594413",
     "status": "completed"
    },
    "tags": []
   },
   "source": [
    "We normalize the pixel values in the 0 to 1 range"
   ]
  },
  {
   "cell_type": "code",
   "execution_count": 10,
   "id": "isolated-denver",
   "metadata": {
    "execution": {
     "iopub.execute_input": "2021-06-25T10:10:27.694479Z",
     "iopub.status.busy": "2021-06-25T10:10:27.693944Z",
     "iopub.status.idle": "2021-06-25T10:10:27.731524Z",
     "shell.execute_reply": "2021-06-25T10:10:27.731973Z"
    },
    "papermill": {
     "duration": 0.082955,
     "end_time": "2021-06-25T10:10:27.732131",
     "exception": false,
     "start_time": "2021-06-25T10:10:27.649176",
     "status": "completed"
    },
    "tags": []
   },
   "outputs": [],
   "source": [
    "X_train = X_train/255.\n",
    "X_test = X_test/255."
   ]
  },
  {
   "cell_type": "markdown",
   "id": "perfect-summary",
   "metadata": {
    "papermill": {
     "duration": 0.027619,
     "end_time": "2021-06-25T10:10:27.788071",
     "exception": false,
     "start_time": "2021-06-25T10:10:27.760452",
     "status": "completed"
    },
    "tags": []
   },
   "source": [
    "Setup the labels as 1 (when the digit is 3) and 0 (when the digit is 8)"
   ]
  },
  {
   "cell_type": "code",
   "execution_count": 11,
   "id": "personalized-growing",
   "metadata": {
    "execution": {
     "iopub.execute_input": "2021-06-25T10:10:27.849443Z",
     "iopub.status.busy": "2021-06-25T10:10:27.848931Z",
     "iopub.status.idle": "2021-06-25T10:10:27.859896Z",
     "shell.execute_reply": "2021-06-25T10:10:27.859497Z"
    },
    "papermill": {
     "duration": 0.044542,
     "end_time": "2021-06-25T10:10:27.860008",
     "exception": false,
     "start_time": "2021-06-25T10:10:27.815466",
     "status": "completed"
    },
    "tags": []
   },
   "outputs": [],
   "source": [
    "y_train = 1*(y_train==3)\n",
    "y_test = 1*(y_test==3)"
   ]
  },
  {
   "cell_type": "code",
   "execution_count": 12,
   "id": "considered-virgin",
   "metadata": {
    "execution": {
     "iopub.execute_input": "2021-06-25T10:10:27.929520Z",
     "iopub.status.busy": "2021-06-25T10:10:27.924727Z",
     "iopub.status.idle": "2021-06-25T10:10:27.931961Z",
     "shell.execute_reply": "2021-06-25T10:10:27.932341Z"
    },
    "papermill": {
     "duration": 0.044999,
     "end_time": "2021-06-25T10:10:27.932462",
     "exception": false,
     "start_time": "2021-06-25T10:10:27.887463",
     "status": "completed"
    },
    "tags": []
   },
   "outputs": [
    {
     "data": {
      "text/plain": [
       "((11982, 28, 28), (1984, 28, 28))"
      ]
     },
     "execution_count": 12,
     "metadata": {},
     "output_type": "execute_result"
    }
   ],
   "source": [
    "X_train.shape, X_test.shape"
   ]
  },
  {
   "cell_type": "markdown",
   "id": "civilian-mobile",
   "metadata": {
    "papermill": {
     "duration": 0.027564,
     "end_time": "2021-06-25T10:10:27.987618",
     "exception": false,
     "start_time": "2021-06-25T10:10:27.960054",
     "status": "completed"
    },
    "tags": []
   },
   "source": [
    "### Reshape the input data to create a linear array"
   ]
  },
  {
   "cell_type": "code",
   "execution_count": 13,
   "id": "colonial-adams",
   "metadata": {
    "execution": {
     "iopub.execute_input": "2021-06-25T10:10:28.060917Z",
     "iopub.status.busy": "2021-06-25T10:10:28.050507Z",
     "iopub.status.idle": "2021-06-25T10:10:28.065527Z",
     "shell.execute_reply": "2021-06-25T10:10:28.065109Z"
    },
    "papermill": {
     "duration": 0.050176,
     "end_time": "2021-06-25T10:10:28.065632",
     "exception": false,
     "start_time": "2021-06-25T10:10:28.015456",
     "status": "completed"
    },
    "tags": []
   },
   "outputs": [
    {
     "data": {
      "text/plain": [
       "((11982, 784), (1984, 784))"
      ]
     },
     "execution_count": 13,
     "metadata": {},
     "output_type": "execute_result"
    }
   ],
   "source": [
    "X_train = X_train.reshape(X_train.shape[0], -1)\n",
    "X_test = X_test.reshape(X_test.shape[0], -1)\n",
    "X_train.shape, X_test.shape"
   ]
  },
  {
   "cell_type": "markdown",
   "id": "smart-details",
   "metadata": {
    "papermill": {
     "duration": 0.028154,
     "end_time": "2021-06-25T10:10:28.122052",
     "exception": false,
     "start_time": "2021-06-25T10:10:28.093898",
     "status": "completed"
    },
    "tags": []
   },
   "source": [
    "### Importing appropriate functions from 'Kudzu'"
   ]
  },
  {
   "cell_type": "code",
   "execution_count": 14,
   "id": "celtic-trial",
   "metadata": {
    "execution": {
     "iopub.execute_input": "2021-06-25T10:10:28.182336Z",
     "iopub.status.busy": "2021-06-25T10:10:28.181827Z",
     "iopub.status.idle": "2021-06-25T10:10:28.199026Z",
     "shell.execute_reply": "2021-06-25T10:10:28.198624Z"
    },
    "papermill": {
     "duration": 0.048924,
     "end_time": "2021-06-25T10:10:28.199132",
     "exception": false,
     "start_time": "2021-06-25T10:10:28.150208",
     "status": "completed"
    },
    "tags": []
   },
   "outputs": [],
   "source": [
    "from kudzu.layer import Sigmoid\n",
    "from kudzu.layer import Relu\n",
    "from kudzu.layer import Affine, Sigmoid\n",
    "\n",
    "from kudzu.model import Model\n",
    "from kudzu.train import Learner\n",
    "from kudzu.optim import GD\n",
    "from kudzu.data import Data, Dataloader, Sampler\n",
    "\n",
    "from kudzu.callbacks import AccCallback\n",
    "from kudzu.callbacks import ClfCallback\n",
    "\n",
    "from kudzu.loss import MSE"
   ]
  },
  {
   "cell_type": "markdown",
   "id": "coupled-customer",
   "metadata": {
    "papermill": {
     "duration": 0.027953,
     "end_time": "2021-06-25T10:10:28.255335",
     "exception": false,
     "start_time": "2021-06-25T10:10:28.227382",
     "status": "completed"
    },
    "tags": []
   },
   "source": [
    "### Let us create a `Config` class, to store important parameters. \n",
    "This class essentially plays the role of a dictionary."
   ]
  },
  {
   "cell_type": "code",
   "execution_count": 15,
   "id": "young-ceiling",
   "metadata": {
    "execution": {
     "iopub.execute_input": "2021-06-25T10:10:28.327644Z",
     "iopub.status.busy": "2021-06-25T10:10:28.322983Z",
     "iopub.status.idle": "2021-06-25T10:10:28.329737Z",
     "shell.execute_reply": "2021-06-25T10:10:28.329319Z"
    },
    "papermill": {
     "duration": 0.046356,
     "end_time": "2021-06-25T10:10:28.329840",
     "exception": false,
     "start_time": "2021-06-25T10:10:28.283484",
     "status": "completed"
    },
    "tags": []
   },
   "outputs": [],
   "source": [
    "class Config:\n",
    "    pass\n",
    "config = Config()\n",
    "config.lr = 0.001\n",
    "config.num_epochs = 251\n",
    "config.bs = 50"
   ]
  },
  {
   "cell_type": "markdown",
   "id": "according-mandate",
   "metadata": {
    "papermill": {
     "duration": 0.027954,
     "end_time": "2021-06-25T10:10:28.385633",
     "exception": false,
     "start_time": "2021-06-25T10:10:28.357679",
     "status": "completed"
    },
    "tags": []
   },
   "source": [
    "### Initializing data to the variables"
   ]
  },
  {
   "cell_type": "code",
   "execution_count": 16,
   "id": "academic-disposition",
   "metadata": {
    "execution": {
     "iopub.execute_input": "2021-06-25T10:10:28.447316Z",
     "iopub.status.busy": "2021-06-25T10:10:28.444966Z",
     "iopub.status.idle": "2021-06-25T10:10:28.456051Z",
     "shell.execute_reply": "2021-06-25T10:10:28.456452Z"
    },
    "papermill": {
     "duration": 0.042825,
     "end_time": "2021-06-25T10:10:28.456567",
     "exception": false,
     "start_time": "2021-06-25T10:10:28.413742",
     "status": "completed"
    },
    "tags": []
   },
   "outputs": [],
   "source": [
    "data = Data(X_train, y_train.reshape(-1,1))\n",
    "sampler = Sampler(data, config.bs, shuffle=True)\n",
    "\n",
    "dl = Dataloader(data, sampler)\n",
    "\n",
    "opt = GD(config.lr)\n",
    "loss = MSE()"
   ]
  },
  {
   "cell_type": "code",
   "execution_count": 17,
   "id": "featured-commission",
   "metadata": {
    "execution": {
     "iopub.execute_input": "2021-06-25T10:10:28.518963Z",
     "iopub.status.busy": "2021-06-25T10:10:28.518095Z",
     "iopub.status.idle": "2021-06-25T10:10:28.527675Z",
     "shell.execute_reply": "2021-06-25T10:10:28.526810Z"
    },
    "papermill": {
     "duration": 0.043276,
     "end_time": "2021-06-25T10:10:28.527780",
     "exception": false,
     "start_time": "2021-06-25T10:10:28.484504",
     "status": "completed"
    },
    "tags": []
   },
   "outputs": [],
   "source": [
    "training_xdata = X_train\n",
    "testing_xdata = X_test\n",
    "training_ydata = y_train.reshape(-1,1)\n",
    "testing_ydata = y_test.reshape(-1,1)"
   ]
  },
  {
   "cell_type": "markdown",
   "id": "played-safety",
   "metadata": {
    "papermill": {
     "duration": 0.028157,
     "end_time": "2021-06-25T10:10:28.584146",
     "exception": false,
     "start_time": "2021-06-25T10:10:28.555989",
     "status": "completed"
    },
    "tags": []
   },
   "source": [
    "### Running Models with the Training data\n",
    "Details about the network layers:\n",
    "- A first affine layer has 784 inputs and does 100 affine transforms. These are followed by a Relu\n",
    "- A second affine layer has 100 inputs from the 100 activations of the past layer, and does 100 affine transforms. These are followed by a Relu\n",
    "- A third affine layer has 100 activations and does 2 affine transformations to create an embedding for visualization. There is no non-linearity here.\n",
    "- A final \"logistic regression\" which has an affine transform from 2 inputs to 1 output, which is squeezed through a sigmoid.\n",
    "\n",
    "Help taken from Anshuman's Notebook."
   ]
  },
  {
   "cell_type": "code",
   "execution_count": 18,
   "id": "asian-bankruptcy",
   "metadata": {
    "execution": {
     "iopub.execute_input": "2021-06-25T10:10:28.654996Z",
     "iopub.status.busy": "2021-06-25T10:10:28.653448Z",
     "iopub.status.idle": "2021-06-25T10:10:28.660261Z",
     "shell.execute_reply": "2021-06-25T10:10:28.659859Z"
    },
    "papermill": {
     "duration": 0.048127,
     "end_time": "2021-06-25T10:10:28.660370",
     "exception": false,
     "start_time": "2021-06-25T10:10:28.612243",
     "status": "completed"
    },
    "tags": []
   },
   "outputs": [],
   "source": [
    "# layers for the Neural Network\n",
    "layers = [Affine(\"first\", 784, 100), Relu(\"first\"), Affine(\"second\", 100, 100), Relu(\"second\"), Affine(\"third\", 100, 2), Affine(\"final\", 2, 1), Sigmoid(\"final\")]\n",
    "model_nn = Model(layers)\n",
    "\n",
    "# layers for the Logistic Regression\n",
    "layers_lr = [Affine(\"logits\", 784, 1), Sigmoid(\"sigmoid\")]\n",
    "model_lr = Model(layers_lr)"
   ]
  },
  {
   "cell_type": "code",
   "execution_count": 19,
   "id": "removed-butler",
   "metadata": {
    "execution": {
     "iopub.execute_input": "2021-06-25T10:10:28.723461Z",
     "iopub.status.busy": "2021-06-25T10:10:28.722970Z",
     "iopub.status.idle": "2021-06-25T10:10:28.732774Z",
     "shell.execute_reply": "2021-06-25T10:10:28.733171Z"
    },
    "papermill": {
     "duration": 0.044763,
     "end_time": "2021-06-25T10:10:28.733290",
     "exception": false,
     "start_time": "2021-06-25T10:10:28.688527",
     "status": "completed"
    },
    "tags": []
   },
   "outputs": [],
   "source": [
    "# suffix _nn stands for Neural Network.\n",
    "learner_nn = Learner(loss, model_nn, opt, config.num_epochs)\n",
    "acc_nn = ClfCallback(learner_nn, config.bs, training_xdata , testing_xdata, training_ydata, testing_ydata)\n",
    "learner_nn.set_callbacks([acc_nn])"
   ]
  },
  {
   "cell_type": "code",
   "execution_count": 20,
   "id": "conceptual-throw",
   "metadata": {
    "execution": {
     "iopub.execute_input": "2021-06-25T10:10:28.799684Z",
     "iopub.status.busy": "2021-06-25T10:10:28.799193Z",
     "iopub.status.idle": "2021-06-25T10:11:42.716100Z",
     "shell.execute_reply": "2021-06-25T10:11:42.716825Z"
    },
    "papermill": {
     "duration": 73.95574,
     "end_time": "2021-06-25T10:11:42.716974",
     "exception": false,
     "start_time": "2021-06-25T10:10:28.761234",
     "status": "completed"
    },
    "tags": []
   },
   "outputs": [
    {
     "name": "stdout",
     "output_type": "stream",
     "text": [
      "====== Neural Network ======\n"
     ]
    },
    {
     "name": "stdout",
     "output_type": "stream",
     "text": [
      "Epoch 0, Loss 0.2551\n",
      "Training Accuracy: 0.5049, Testing Accuracy: 0.5015\n",
      "\n"
     ]
    },
    {
     "name": "stdout",
     "output_type": "stream",
     "text": [
      "Epoch 10, Loss 0.164\n",
      "Training Accuracy: 0.8686, Testing Accuracy: 0.8836\n",
      "\n"
     ]
    },
    {
     "name": "stdout",
     "output_type": "stream",
     "text": [
      "Epoch 20, Loss 0.0828\n",
      "Training Accuracy: 0.9168, Testing Accuracy: 0.9350\n",
      "\n"
     ]
    },
    {
     "name": "stdout",
     "output_type": "stream",
     "text": [
      "Epoch 30, Loss 0.0562\n",
      "Training Accuracy: 0.9408, Testing Accuracy: 0.9491\n",
      "\n"
     ]
    },
    {
     "name": "stdout",
     "output_type": "stream",
     "text": [
      "Epoch 40, Loss 0.0449\n",
      "Training Accuracy: 0.9503, Testing Accuracy: 0.9622\n",
      "\n"
     ]
    },
    {
     "name": "stdout",
     "output_type": "stream",
     "text": [
      "Epoch 50, Loss 0.0389\n",
      "Training Accuracy: 0.9564, Testing Accuracy: 0.9637\n",
      "\n"
     ]
    },
    {
     "name": "stdout",
     "output_type": "stream",
     "text": [
      "Epoch 60, Loss 0.0353\n",
      "Training Accuracy: 0.9598, Testing Accuracy: 0.9657\n",
      "\n"
     ]
    },
    {
     "name": "stdout",
     "output_type": "stream",
     "text": [
      "Epoch 70, Loss 0.0327\n",
      "Training Accuracy: 0.9614, Testing Accuracy: 0.9667\n",
      "\n"
     ]
    },
    {
     "name": "stdout",
     "output_type": "stream",
     "text": [
      "Epoch 80, Loss 0.0308\n",
      "Training Accuracy: 0.9634, Testing Accuracy: 0.9688\n",
      "\n"
     ]
    },
    {
     "name": "stdout",
     "output_type": "stream",
     "text": [
      "Epoch 90, Loss 0.0293\n",
      "Training Accuracy: 0.9653, Testing Accuracy: 0.9682\n",
      "\n"
     ]
    },
    {
     "name": "stdout",
     "output_type": "stream",
     "text": [
      "Epoch 100, Loss 0.0281\n",
      "Training Accuracy: 0.9671, Testing Accuracy: 0.9693\n",
      "\n"
     ]
    },
    {
     "name": "stdout",
     "output_type": "stream",
     "text": [
      "Epoch 110, Loss 0.0271\n",
      "Training Accuracy: 0.9681, Testing Accuracy: 0.9703\n",
      "\n"
     ]
    },
    {
     "name": "stdout",
     "output_type": "stream",
     "text": [
      "Epoch 120, Loss 0.0261\n",
      "Training Accuracy: 0.9694, Testing Accuracy: 0.9708\n",
      "\n"
     ]
    },
    {
     "name": "stdout",
     "output_type": "stream",
     "text": [
      "Epoch 130, Loss 0.0253\n",
      "Training Accuracy: 0.9705, Testing Accuracy: 0.9718\n",
      "\n"
     ]
    },
    {
     "name": "stdout",
     "output_type": "stream",
     "text": [
      "Epoch 140, Loss 0.0246\n",
      "Training Accuracy: 0.9717, Testing Accuracy: 0.9723\n",
      "\n"
     ]
    },
    {
     "name": "stdout",
     "output_type": "stream",
     "text": [
      "Epoch 150, Loss 0.024\n",
      "Training Accuracy: 0.9723, Testing Accuracy: 0.9723\n",
      "\n"
     ]
    },
    {
     "name": "stdout",
     "output_type": "stream",
     "text": [
      "Epoch 160, Loss 0.0234\n",
      "Training Accuracy: 0.9731, Testing Accuracy: 0.9728\n",
      "\n"
     ]
    },
    {
     "name": "stdout",
     "output_type": "stream",
     "text": [
      "Epoch 170, Loss 0.0228\n",
      "Training Accuracy: 0.9740, Testing Accuracy: 0.9728\n",
      "\n"
     ]
    },
    {
     "name": "stdout",
     "output_type": "stream",
     "text": [
      "Epoch 180, Loss 0.0223\n",
      "Training Accuracy: 0.9747, Testing Accuracy: 0.9733\n",
      "\n"
     ]
    },
    {
     "name": "stdout",
     "output_type": "stream",
     "text": [
      "Epoch 190, Loss 0.0218\n",
      "Training Accuracy: 0.9755, Testing Accuracy: 0.9748\n",
      "\n"
     ]
    },
    {
     "name": "stdout",
     "output_type": "stream",
     "text": [
      "Epoch 200, Loss 0.0214\n",
      "Training Accuracy: 0.9758, Testing Accuracy: 0.9743\n",
      "\n"
     ]
    },
    {
     "name": "stdout",
     "output_type": "stream",
     "text": [
      "Epoch 210, Loss 0.0209\n",
      "Training Accuracy: 0.9765, Testing Accuracy: 0.9743\n",
      "\n"
     ]
    },
    {
     "name": "stdout",
     "output_type": "stream",
     "text": [
      "Epoch 220, Loss 0.0205\n",
      "Training Accuracy: 0.9770, Testing Accuracy: 0.9753\n",
      "\n"
     ]
    },
    {
     "name": "stdout",
     "output_type": "stream",
     "text": [
      "Epoch 230, Loss 0.0202\n",
      "Training Accuracy: 0.9775, Testing Accuracy: 0.9758\n",
      "\n"
     ]
    },
    {
     "name": "stdout",
     "output_type": "stream",
     "text": [
      "Epoch 240, Loss 0.0198\n",
      "Training Accuracy: 0.9781, Testing Accuracy: 0.9758\n",
      "\n"
     ]
    },
    {
     "name": "stdout",
     "output_type": "stream",
     "text": [
      "Epoch 250, Loss 0.0194\n",
      "Training Accuracy: 0.9783, Testing Accuracy: 0.9758\n",
      "\n"
     ]
    },
    {
     "data": {
      "text/plain": [
       "0.012267239990935073"
      ]
     },
     "execution_count": 20,
     "metadata": {},
     "output_type": "execute_result"
    }
   ],
   "source": [
    "print(\"====== Neural Network ======\")\n",
    "learner_nn.train_loop(dl)"
   ]
  },
  {
   "cell_type": "markdown",
   "id": "competent-suffering",
   "metadata": {
    "papermill": {
     "duration": 0.03555,
     "end_time": "2021-06-25T10:11:42.788486",
     "exception": false,
     "start_time": "2021-06-25T10:11:42.752936",
     "status": "completed"
    },
    "tags": []
   },
   "source": [
    "### Logistic Regression based Implementation."
   ]
  },
  {
   "cell_type": "code",
   "execution_count": 21,
   "id": "qualified-psychiatry",
   "metadata": {
    "execution": {
     "iopub.execute_input": "2021-06-25T10:11:42.871438Z",
     "iopub.status.busy": "2021-06-25T10:11:42.870927Z",
     "iopub.status.idle": "2021-06-25T10:11:42.875356Z",
     "shell.execute_reply": "2021-06-25T10:11:42.874483Z"
    },
    "papermill": {
     "duration": 0.051786,
     "end_time": "2021-06-25T10:11:42.875469",
     "exception": false,
     "start_time": "2021-06-25T10:11:42.823683",
     "status": "completed"
    },
    "tags": []
   },
   "outputs": [],
   "source": [
    "learner_lr = Learner(loss, model_lr, opt, config.num_epochs)\n",
    "acc_lr = ClfCallback(learner_lr, config.bs, training_xdata , testing_xdata, training_ydata, testing_ydata)\n",
    "learner_lr.set_callbacks([acc_lr])"
   ]
  },
  {
   "cell_type": "code",
   "execution_count": 22,
   "id": "average-outside",
   "metadata": {
    "execution": {
     "iopub.execute_input": "2021-06-25T10:11:42.961905Z",
     "iopub.status.busy": "2021-06-25T10:11:42.960047Z",
     "iopub.status.idle": "2021-06-25T10:11:56.380343Z",
     "shell.execute_reply": "2021-06-25T10:11:56.380823Z"
    },
    "papermill": {
     "duration": 13.470195,
     "end_time": "2021-06-25T10:11:56.380961",
     "exception": false,
     "start_time": "2021-06-25T10:11:42.910766",
     "status": "completed"
    },
    "tags": []
   },
   "outputs": [
    {
     "name": "stdout",
     "output_type": "stream",
     "text": [
      "====== Logistic Regression ======\n",
      "Epoch 0, Loss 0.2371\n",
      "Training Accuracy: 0.7015, Testing Accuracy: 0.6986\n",
      "\n"
     ]
    },
    {
     "name": "stdout",
     "output_type": "stream",
     "text": [
      "Epoch 10, Loss 0.1068\n",
      "Training Accuracy: 0.8997, Testing Accuracy: 0.9052\n",
      "\n"
     ]
    },
    {
     "name": "stdout",
     "output_type": "stream",
     "text": [
      "Epoch 20, Loss 0.0817\n",
      "Training Accuracy: 0.9242, Testing Accuracy: 0.9330\n",
      "\n"
     ]
    },
    {
     "name": "stdout",
     "output_type": "stream",
     "text": [
      "Epoch 30, Loss 0.0699\n",
      "Training Accuracy: 0.9331, Testing Accuracy: 0.9466\n",
      "\n"
     ]
    },
    {
     "name": "stdout",
     "output_type": "stream",
     "text": [
      "Epoch 40, Loss 0.0629\n",
      "Training Accuracy: 0.9387, Testing Accuracy: 0.9516\n",
      "\n"
     ]
    },
    {
     "name": "stdout",
     "output_type": "stream",
     "text": [
      "Epoch 50, Loss 0.0581\n",
      "Training Accuracy: 0.9424, Testing Accuracy: 0.9541\n",
      "\n"
     ]
    },
    {
     "name": "stdout",
     "output_type": "stream",
     "text": [
      "Epoch 60, Loss 0.0546\n",
      "Training Accuracy: 0.9458, Testing Accuracy: 0.9556\n",
      "\n"
     ]
    },
    {
     "name": "stdout",
     "output_type": "stream",
     "text": [
      "Epoch 70, Loss 0.0519\n",
      "Training Accuracy: 0.9475, Testing Accuracy: 0.9572\n",
      "\n"
     ]
    },
    {
     "name": "stdout",
     "output_type": "stream",
     "text": [
      "Epoch 80, Loss 0.0497\n",
      "Training Accuracy: 0.9492, Testing Accuracy: 0.9587\n",
      "\n"
     ]
    },
    {
     "name": "stdout",
     "output_type": "stream",
     "text": [
      "Epoch 90, Loss 0.048\n",
      "Training Accuracy: 0.9508, Testing Accuracy: 0.9597\n",
      "\n"
     ]
    },
    {
     "name": "stdout",
     "output_type": "stream",
     "text": [
      "Epoch 100, Loss 0.0465\n",
      "Training Accuracy: 0.9523, Testing Accuracy: 0.9612\n",
      "\n"
     ]
    },
    {
     "name": "stdout",
     "output_type": "stream",
     "text": [
      "Epoch 110, Loss 0.0452\n",
      "Training Accuracy: 0.9535, Testing Accuracy: 0.9617\n",
      "\n"
     ]
    },
    {
     "name": "stdout",
     "output_type": "stream",
     "text": [
      "Epoch 120, Loss 0.0441\n",
      "Training Accuracy: 0.9543, Testing Accuracy: 0.9632\n",
      "\n"
     ]
    },
    {
     "name": "stdout",
     "output_type": "stream",
     "text": [
      "Epoch 130, Loss 0.0431\n",
      "Training Accuracy: 0.9550, Testing Accuracy: 0.9632\n",
      "\n"
     ]
    },
    {
     "name": "stdout",
     "output_type": "stream",
     "text": [
      "Epoch 140, Loss 0.0423\n",
      "Training Accuracy: 0.9560, Testing Accuracy: 0.9637\n",
      "\n"
     ]
    },
    {
     "name": "stdout",
     "output_type": "stream",
     "text": [
      "Epoch 150, Loss 0.0415\n",
      "Training Accuracy: 0.9564, Testing Accuracy: 0.9647\n",
      "\n"
     ]
    },
    {
     "name": "stdout",
     "output_type": "stream",
     "text": [
      "Epoch 160, Loss 0.0408\n",
      "Training Accuracy: 0.9569, Testing Accuracy: 0.9637\n",
      "\n"
     ]
    },
    {
     "name": "stdout",
     "output_type": "stream",
     "text": [
      "Epoch 170, Loss 0.0402\n",
      "Training Accuracy: 0.9571, Testing Accuracy: 0.9647\n",
      "\n"
     ]
    },
    {
     "name": "stdout",
     "output_type": "stream",
     "text": [
      "Epoch 180, Loss 0.0396\n",
      "Training Accuracy: 0.9572, Testing Accuracy: 0.9647\n",
      "\n"
     ]
    },
    {
     "name": "stdout",
     "output_type": "stream",
     "text": [
      "Epoch 190, Loss 0.0391\n",
      "Training Accuracy: 0.9577, Testing Accuracy: 0.9647\n",
      "\n"
     ]
    },
    {
     "name": "stdout",
     "output_type": "stream",
     "text": [
      "Epoch 200, Loss 0.0386\n",
      "Training Accuracy: 0.9583, Testing Accuracy: 0.9657\n",
      "\n"
     ]
    },
    {
     "name": "stdout",
     "output_type": "stream",
     "text": [
      "Epoch 210, Loss 0.0382\n",
      "Training Accuracy: 0.9588, Testing Accuracy: 0.9657\n",
      "\n"
     ]
    },
    {
     "name": "stdout",
     "output_type": "stream",
     "text": [
      "Epoch 220, Loss 0.0377\n",
      "Training Accuracy: 0.9593, Testing Accuracy: 0.9662\n",
      "\n"
     ]
    },
    {
     "name": "stdout",
     "output_type": "stream",
     "text": [
      "Epoch 230, Loss 0.0373\n",
      "Training Accuracy: 0.9594, Testing Accuracy: 0.9667\n",
      "\n"
     ]
    },
    {
     "name": "stdout",
     "output_type": "stream",
     "text": [
      "Epoch 240, Loss 0.037\n",
      "Training Accuracy: 0.9598, Testing Accuracy: 0.9667\n",
      "\n"
     ]
    },
    {
     "name": "stdout",
     "output_type": "stream",
     "text": [
      "Epoch 250, Loss 0.0366\n",
      "Training Accuracy: 0.9602, Testing Accuracy: 0.9667\n",
      "\n"
     ]
    },
    {
     "data": {
      "text/plain": [
       "0.03375887726130776"
      ]
     },
     "execution_count": 22,
     "metadata": {},
     "output_type": "execute_result"
    }
   ],
   "source": [
    "print(\"====== Logistic Regression ======\")\n",
    "learner_lr.train_loop(dl)"
   ]
  },
  {
   "cell_type": "markdown",
   "id": "adjusted-possible",
   "metadata": {
    "papermill": {
     "duration": 0.042153,
     "end_time": "2021-06-25T10:11:56.468257",
     "exception": false,
     "start_time": "2021-06-25T10:11:56.426104",
     "status": "completed"
    },
    "tags": []
   },
   "source": [
    "### Comparing results of NN and LR"
   ]
  },
  {
   "cell_type": "code",
   "execution_count": 23,
   "id": "mental-multimedia",
   "metadata": {
    "execution": {
     "iopub.execute_input": "2021-06-25T10:11:56.568439Z",
     "iopub.status.busy": "2021-06-25T10:11:56.567665Z",
     "iopub.status.idle": "2021-06-25T10:11:56.772309Z",
     "shell.execute_reply": "2021-06-25T10:11:56.772719Z"
    },
    "papermill": {
     "duration": 0.262463,
     "end_time": "2021-06-25T10:11:56.772862",
     "exception": false,
     "start_time": "2021-06-25T10:11:56.510399",
     "status": "completed"
    },
    "tags": []
   },
   "outputs": [
    {
     "data": {
      "text/plain": [
       "<matplotlib.legend.Legend at 0x7fa1892d52b0>"
      ]
     },
     "execution_count": 23,
     "metadata": {},
     "output_type": "execute_result"
    },
    {
     "data": {
      "image/png": "[encoded data removed]",
      "text/plain": [
       "<Figure size 1080x720 with 1 Axes>"
      ]
     },
     "metadata": {
      "needs_background": "light"
     },
     "output_type": "display_data"
    }
   ],
   "source": [
    "plt.figure(figsize=(15,10))\n",
    "\n",
    "# Neural Network plots\n",
    "plt.plot(acc_nn.accuracies, 'r-', label = \"Training Accuracies - NN\")\n",
    "plt.plot(acc_nn.test_accuracies, 'g-', label = \"Testing Accuracies - NN\")\n",
    "\n",
    "# Logistic Regression plots\n",
    "plt.plot(acc_lr.accuracies, 'k-', label = \"Training Accuracies - LR\")\n",
    "plt.plot(acc_lr.test_accuracies, 'b-', label = \"Testing Accuracies - LR\")\n",
    "\n",
    "plt.ylim(0.8, 1)\n",
    "\n",
    "plt.legend()\n",
    "\n"
   ]
  },
  {
   "cell_type": "markdown",
   "id": "sexual-flesh",
   "metadata": {
    "papermill": {
     "duration": 0.043919,
     "end_time": "2021-06-25T10:11:56.860930",
     "exception": false,
     "start_time": "2021-06-25T10:11:56.817011",
     "status": "completed"
    },
    "tags": []
   },
   "source": [
    "### From the plot, we can observe the following:\n",
    "- Neural Network achieves higher accuracy than the Logistic Regression model.\n",
    "- This apparently, is because of overfitting, i.e. NN captures more noise than data.\n",
    "- Testing accuracy of NN drops below the Training accuracy at higher epochs. This explains the over-fitting on training data.\n",
    "- Logistic Regression gives a reliable accuracy, without the above mentioned problem.\n"
   ]
  },
  {
   "cell_type": "markdown",
   "id": "institutional-pacific",
   "metadata": {
    "papermill": {
     "duration": 0.044006,
     "end_time": "2021-06-25T10:11:56.948956",
     "exception": false,
     "start_time": "2021-06-25T10:11:56.904950",
     "status": "completed"
    },
    "tags": []
   },
   "source": [
    "### Moving till the last but one layer (excluding it).\n",
    "#### Plotting the outputs of this layer of the NN."
   ]
  },
  {
   "cell_type": "code",
   "execution_count": 24,
   "id": "economic-server",
   "metadata": {
    "execution": {
     "iopub.execute_input": "2021-06-25T10:11:57.053496Z",
     "iopub.status.busy": "2021-06-25T10:11:57.052771Z",
     "iopub.status.idle": "2021-06-25T10:11:57.057649Z",
     "shell.execute_reply": "2021-06-25T10:11:57.057231Z"
    },
    "papermill": {
     "duration": 0.063923,
     "end_time": "2021-06-25T10:11:57.057758",
     "exception": false,
     "start_time": "2021-06-25T10:11:56.993835",
     "status": "completed"
    },
    "tags": []
   },
   "outputs": [],
   "source": [
    "model_new = Model(layers[:-2])"
   ]
  },
  {
   "cell_type": "code",
   "execution_count": 25,
   "id": "varied-upgrade",
   "metadata": {
    "execution": {
     "iopub.execute_input": "2021-06-25T10:11:57.154974Z",
     "iopub.status.busy": "2021-06-25T10:11:57.148368Z",
     "iopub.status.idle": "2021-06-25T10:11:57.169861Z",
     "shell.execute_reply": "2021-06-25T10:11:57.170485Z"
    },
    "papermill": {
     "duration": 0.069144,
     "end_time": "2021-06-25T10:11:57.170621",
     "exception": false,
     "start_time": "2021-06-25T10:11:57.101477",
     "status": "completed"
    },
    "tags": []
   },
   "outputs": [],
   "source": [
    "plot_testing = model_new(testing_xdata)"
   ]
  },
  {
   "cell_type": "code",
   "execution_count": 26,
   "id": "specific-handling",
   "metadata": {
    "execution": {
     "iopub.execute_input": "2021-06-25T10:11:57.296158Z",
     "iopub.status.busy": "2021-06-25T10:11:57.295668Z",
     "iopub.status.idle": "2021-06-25T10:11:57.476634Z",
     "shell.execute_reply": "2021-06-25T10:11:57.476214Z"
    },
    "papermill": {
     "duration": 0.255634,
     "end_time": "2021-06-25T10:11:57.476755",
     "exception": false,
     "start_time": "2021-06-25T10:11:57.221121",
     "status": "completed"
    },
    "tags": []
   },
   "outputs": [
    {
     "data": {
      "text/plain": [
       "Text(0.5, 1.0, 'Outputs')"
      ]
     },
     "execution_count": 26,
     "metadata": {},
     "output_type": "execute_result"
    },
    {
     "data": {
      "image/png": "[encoded data removed]",
      "text/plain": [
       "<Figure size 576x504 with 1 Axes>"
      ]
     },
     "metadata": {
      "needs_background": "light"
     },
     "output_type": "display_data"
    }
   ],
   "source": [
    "plt.figure(figsize=(8,7))\n",
    "plt.scatter(plot_testing[:,0], plot_testing[:,1], alpha = 0.1, c = y_test.ravel());\n",
    "plt.title('Outputs')"
   ]
  },
  {
   "cell_type": "markdown",
   "id": "described-knowing",
   "metadata": {
    "papermill": {
     "duration": 0.045934,
     "end_time": "2021-06-25T10:11:57.568517",
     "exception": false,
     "start_time": "2021-06-25T10:11:57.522583",
     "status": "completed"
    },
    "tags": []
   },
   "source": [
    "### Plotting probability contours"
   ]
  },
  {
   "cell_type": "code",
   "execution_count": 27,
   "id": "needed-growing",
   "metadata": {
    "execution": {
     "iopub.execute_input": "2021-06-25T10:11:57.666674Z",
     "iopub.status.busy": "2021-06-25T10:11:57.665314Z",
     "iopub.status.idle": "2021-06-25T10:11:57.675248Z",
     "shell.execute_reply": "2021-06-25T10:11:57.675629Z"
    },
    "papermill": {
     "duration": 0.061346,
     "end_time": "2021-06-25T10:11:57.675757",
     "exception": false,
     "start_time": "2021-06-25T10:11:57.614411",
     "status": "completed"
    },
    "tags": []
   },
   "outputs": [],
   "source": [
    "model_prob = Model(layers[-2:]) "
   ]
  },
  {
   "cell_type": "code",
   "execution_count": 28,
   "id": "introductory-enforcement",
   "metadata": {
    "execution": {
     "iopub.execute_input": "2021-06-25T10:11:57.772054Z",
     "iopub.status.busy": "2021-06-25T10:11:57.771555Z",
     "iopub.status.idle": "2021-06-25T10:11:57.785541Z",
     "shell.execute_reply": "2021-06-25T10:11:57.785938Z"
    },
    "papermill": {
     "duration": 0.064347,
     "end_time": "2021-06-25T10:11:57.786069",
     "exception": false,
     "start_time": "2021-06-25T10:11:57.721722",
     "status": "completed"
    },
    "tags": []
   },
   "outputs": [],
   "source": [
    "# Adjust the x and y ranges according to the above generated plot.\n",
    "x_range = np.linspace(-4, 1, 100) \n",
    "y_range = np.linspace(-6, 6, 100) \n",
    "x_grid, y_grid = np.meshgrid(x_range, y_range) # x_grid and y_grig are of size 100 X 100\n",
    "\n",
    "# converting x_grid and y_grid to continuous arrays\n",
    "x_grid_flat = np.ravel(x_grid)\n",
    "y_grid_flat = np.ravel(y_grid)\n",
    "\n",
    "# The last layer of the current model takes two columns as input. Hence transpose of np.vstack() is required.\n",
    "X = np.vstack((x_grid_flat, y_grid_flat)).T\n",
    "\n",
    "# x_grid and y_grid are of size 100 x 100\n",
    "probability_contour = model_prob(X).reshape(100,100) "
   ]
  },
  {
   "cell_type": "code",
   "execution_count": 29,
   "id": "understood-landing",
   "metadata": {
    "execution": {
     "iopub.execute_input": "2021-06-25T10:11:57.893739Z",
     "iopub.status.busy": "2021-06-25T10:11:57.893247Z",
     "iopub.status.idle": "2021-06-25T10:11:58.117520Z",
     "shell.execute_reply": "2021-06-25T10:11:58.117977Z"
    },
    "papermill": {
     "duration": 0.274131,
     "end_time": "2021-06-25T10:11:58.118127",
     "exception": false,
     "start_time": "2021-06-25T10:11:57.843996",
     "status": "completed"
    },
    "tags": []
   },
   "outputs": [
    {
     "data": {
      "image/png": "[encoded data removed]",
      "text/plain": [
       "<Figure size 720x648 with 1 Axes>"
      ]
     },
     "metadata": {
      "needs_background": "light"
     },
     "output_type": "display_data"
    }
   ],
   "source": [
    "plt.figure(figsize=(10,9))\n",
    "plt.scatter(plot_testing[:,0], plot_testing[:,1], alpha = 0.1, c = y_test.ravel())\n",
    "contours = plt.contour(x_grid,y_grid,probability_contour)\n",
    "plt.title('Probability Contours')\n",
    "plt.clabel(contours, inline = True );"
   ]
  }
 ],
 "metadata": {
  "kernelspec": {
   "display_name": "Python 3",
   "language": "python",
   "name": "python3"
  },
  "language_info": {
   "codemirror_mode": {
    "name": "ipython",
    "version": 3
   },
   "file_extension": ".py",
   "mimetype": "text/x-python",
   "name": "python",
   "nbconvert_exporter": "python",
   "pygments_lexer": "ipython3",
   "version": "3.6.13"
  },
  "papermill": {
   "duration": 426.792234,
   "end_time": "2021-06-25T10:11:58.474188",
   "environment_variables": {},
   "exception": null,
   "input_path": "2020-08-11-NeuralNetwork.ipynb",
   "output_path": "2020-08-11-NeuralNetwork.ipynb",
   "parameters": {},
   "start_time": "2021-06-25T10:04:51.681954",
   "version": "2.1.2"
  }
 },
 "nbformat": 4,
 "nbformat_minor": 5
}