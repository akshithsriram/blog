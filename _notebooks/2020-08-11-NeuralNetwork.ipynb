{
 "cells": [
  {
   "cell_type": "markdown",
   "metadata": {
    "papermill": {
     "duration": 0.029765,
     "end_time": "2020-08-19T20:04:01.892275",
     "exception": false,
     "start_time": "2020-08-19T20:04:01.862510",
     "status": "completed"
    },
    "tags": []
   },
   "source": [
    "# \"A Basic Neural Network: Differentiate Hand-Written Digits\"\n",
    "\n",
    "- badges: true\n",
    "- author: Akshith Sriram"
   ]
  },
  {
   "cell_type": "markdown",
   "metadata": {
    "papermill": {
     "duration": 0.390216,
     "end_time": "2020-08-19T20:04:02.390124",
     "exception": false,
     "start_time": "2020-08-19T20:04:01.999908",
     "status": "completed"
    },
    "tags": []
   },
   "source": [
    "### Key Objectives:\n",
    "- Building a neural network that differentiates two hand-written digits 3 and 8.\n",
    "- Comparing the results of this Neural Network (NN) to that of a Logistic Regression (LR) model.\n",
    "\n",
    "### Requirements:\n",
    "- 'Kudzu' : A neural network library that was designed during our course by [Univ.AI](www.univ.ai). \n",
    "- MNIST Database\n",
    "\n",
    "If MNIST is not installed, use the command `!pip install mnist` given below.\n",
    "It can be run both from the command line and Jupyter Notebook."
   ]
  },
  {
   "cell_type": "code",
   "execution_count": 1,
   "metadata": {
    "execution": {
     "iopub.execute_input": "2020-08-19T20:04:02.452615Z",
     "iopub.status.busy": "2020-08-19T20:04:02.451897Z",
     "iopub.status.idle": "2020-08-19T20:04:04.053661Z",
     "shell.execute_reply": "2020-08-19T20:04:04.053132Z"
    },
    "papermill": {
     "duration": 1.63652,
     "end_time": "2020-08-19T20:04:04.053820",
     "exception": false,
     "start_time": "2020-08-19T20:04:02.417300",
     "status": "completed"
    },
    "tags": []
   },
   "outputs": [
    {
     "name": "stdout",
     "output_type": "stream",
     "text": [
      "Collecting mnist\r\n",
      "  Downloading mnist-0.2.2-py2.py3-none-any.whl (3.5 kB)\r\n"
     ]
    },
    {
     "name": "stdout",
     "output_type": "stream",
     "text": [
      "Requirement already satisfied: numpy in /opt/hostedtoolcache/Python/3.6.11/x64/lib/python3.6/site-packages (from mnist) (1.19.1)\r\n"
     ]
    },
    {
     "name": "stdout",
     "output_type": "stream",
     "text": [
      "Installing collected packages: mnist\r\n"
     ]
    },
    {
     "name": "stdout",
     "output_type": "stream",
     "text": [
      "Successfully installed mnist-0.2.2\r\n"
     ]
    },
    {
     "name": "stdout",
     "output_type": "stream",
     "text": [
      "\u001b[33mWARNING: You are using pip version 20.2.1; however, version 20.2.2 is available.\r\n",
      "You should consider upgrading via the '/opt/hostedtoolcache/Python/3.6.11/x64/bin/python -m pip install --upgrade pip' command.\u001b[0m\r\n"
     ]
    }
   ],
   "source": [
    "!pip install mnist "
   ]
  },
  {
   "cell_type": "markdown",
   "metadata": {
    "papermill": {
     "duration": 0.028144,
     "end_time": "2020-08-19T20:04:04.112606",
     "exception": false,
     "start_time": "2020-08-19T20:04:04.084462",
     "status": "completed"
    },
    "tags": []
   },
   "source": [
    "#### Importing necessary libraries"
   ]
  },
  {
   "cell_type": "code",
   "execution_count": 2,
   "metadata": {
    "execution": {
     "iopub.execute_input": "2020-08-19T20:04:04.178705Z",
     "iopub.status.busy": "2020-08-19T20:04:04.177617Z",
     "iopub.status.idle": "2020-08-19T20:04:04.765110Z",
     "shell.execute_reply": "2020-08-19T20:04:04.763635Z"
    },
    "papermill": {
     "duration": 0.625684,
     "end_time": "2020-08-19T20:04:04.765265",
     "exception": false,
     "start_time": "2020-08-19T20:04:04.139581",
     "status": "completed"
    },
    "tags": []
   },
   "outputs": [],
   "source": [
    "%load_ext autoreload\n",
    "%autoreload 2\n",
    "\n",
    "%matplotlib inline\n",
    "import matplotlib.pyplot as plt\n",
    "\n",
    "import numpy as np\n",
    "import pandas as pd"
   ]
  },
  {
   "cell_type": "markdown",
   "metadata": {
    "papermill": {
     "duration": 0.028259,
     "end_time": "2020-08-19T20:04:04.822387",
     "exception": false,
     "start_time": "2020-08-19T20:04:04.794128",
     "status": "completed"
    },
    "tags": []
   },
   "source": [
    "### Preparing the Data"
   ]
  },
  {
   "cell_type": "code",
   "execution_count": 3,
   "metadata": {
    "execution": {
     "iopub.execute_input": "2020-08-19T20:04:04.882371Z",
     "iopub.status.busy": "2020-08-19T20:04:04.881622Z",
     "iopub.status.idle": "2020-08-19T20:04:04.894616Z",
     "shell.execute_reply": "2020-08-19T20:04:04.893897Z"
    },
    "papermill": {
     "duration": 0.044384,
     "end_time": "2020-08-19T20:04:04.894755",
     "exception": false,
     "start_time": "2020-08-19T20:04:04.850371",
     "status": "completed"
    },
    "tags": []
   },
   "outputs": [],
   "source": [
    "import mnist"
   ]
  },
  {
   "cell_type": "code",
   "execution_count": 4,
   "metadata": {
    "execution": {
     "iopub.execute_input": "2020-08-19T20:04:04.956576Z",
     "iopub.status.busy": "2020-08-19T20:04:04.955982Z",
     "iopub.status.idle": "2020-08-19T20:04:05.988046Z",
     "shell.execute_reply": "2020-08-19T20:04:05.986842Z"
    },
    "papermill": {
     "duration": 1.064693,
     "end_time": "2020-08-19T20:04:05.988268",
     "exception": false,
     "start_time": "2020-08-19T20:04:04.923575",
     "status": "completed"
    },
    "tags": []
   },
   "outputs": [],
   "source": [
    "train_images = mnist.train_images()\n",
    "train_labels = mnist.train_labels()"
   ]
  },
  {
   "cell_type": "code",
   "execution_count": 5,
   "metadata": {
    "execution": {
     "iopub.execute_input": "2020-08-19T20:04:06.048638Z",
     "iopub.status.busy": "2020-08-19T20:04:06.048071Z",
     "iopub.status.idle": "2020-08-19T20:04:06.066109Z",
     "shell.execute_reply": "2020-08-19T20:04:06.066609Z"
    },
    "papermill": {
     "duration": 0.049991,
     "end_time": "2020-08-19T20:04:06.066748",
     "exception": false,
     "start_time": "2020-08-19T20:04:06.016757",
     "status": "completed"
    },
    "tags": []
   },
   "outputs": [
    {
     "data": {
      "text/plain": [
       "((60000, 28, 28), (60000,))"
      ]
     },
     "execution_count": 5,
     "metadata": {},
     "output_type": "execute_result"
    }
   ],
   "source": [
    "train_images.shape, train_labels.shape"
   ]
  },
  {
   "cell_type": "code",
   "execution_count": 6,
   "metadata": {
    "execution": {
     "iopub.execute_input": "2020-08-19T20:04:06.125773Z",
     "iopub.status.busy": "2020-08-19T20:04:06.125226Z",
     "iopub.status.idle": "2020-08-19T20:04:06.610012Z",
     "shell.execute_reply": "2020-08-19T20:04:06.608725Z"
    },
    "papermill": {
     "duration": 0.516391,
     "end_time": "2020-08-19T20:04:06.610154",
     "exception": false,
     "start_time": "2020-08-19T20:04:06.093763",
     "status": "completed"
    },
    "tags": []
   },
   "outputs": [],
   "source": [
    "test_images = mnist.test_images()\n",
    "test_labels = mnist.test_labels()"
   ]
  },
  {
   "cell_type": "code",
   "execution_count": 7,
   "metadata": {
    "execution": {
     "iopub.execute_input": "2020-08-19T20:04:06.669332Z",
     "iopub.status.busy": "2020-08-19T20:04:06.668736Z",
     "iopub.status.idle": "2020-08-19T20:04:06.683644Z",
     "shell.execute_reply": "2020-08-19T20:04:06.683063Z"
    },
    "papermill": {
     "duration": 0.046318,
     "end_time": "2020-08-19T20:04:06.683780",
     "exception": false,
     "start_time": "2020-08-19T20:04:06.637462",
     "status": "completed"
    },
    "tags": []
   },
   "outputs": [
    {
     "data": {
      "text/plain": [
       "((10000, 28, 28), (10000,))"
      ]
     },
     "execution_count": 7,
     "metadata": {},
     "output_type": "execute_result"
    }
   ],
   "source": [
    "test_images.shape, test_labels.shape"
   ]
  },
  {
   "cell_type": "code",
   "execution_count": 8,
   "metadata": {
    "execution": {
     "iopub.execute_input": "2020-08-19T20:04:06.743485Z",
     "iopub.status.busy": "2020-08-19T20:04:06.742906Z",
     "iopub.status.idle": "2020-08-19T20:04:06.891749Z",
     "shell.execute_reply": "2020-08-19T20:04:06.891226Z"
    },
    "papermill": {
     "duration": 0.180693,
     "end_time": "2020-08-19T20:04:06.891883",
     "exception": false,
     "start_time": "2020-08-19T20:04:06.711190",
     "status": "completed"
    },
    "tags": []
   },
   "outputs": [
    {
     "name": "stdout",
     "output_type": "stream",
     "text": [
      "2\n"
     ]
    },
    {
     "data": {
      "text/plain": [
       "<matplotlib.image.AxesImage at 0x7f665c650278>"
      ]
     },
     "execution_count": 8,
     "metadata": {},
     "output_type": "execute_result"
    },
    {
     "data": {
      "image/png": "[encoded data removed]",
      "text/plain": [
       "<Figure size 432x288 with 1 Axes>"
      ]
     },
     "metadata": {
      "needs_background": "light"
     },
     "output_type": "display_data"
    }
   ],
   "source": [
    "image_index = 7776 # You may select anything up to 60,000\n",
    "print(train_labels[image_index]) \n",
    "plt.imshow(train_images[image_index], cmap='Greys')"
   ]
  },
  {
   "cell_type": "markdown",
   "metadata": {
    "papermill": {
     "duration": 0.030324,
     "end_time": "2020-08-19T20:04:06.951280",
     "exception": false,
     "start_time": "2020-08-19T20:04:06.920956",
     "status": "completed"
    },
    "tags": []
   },
   "source": [
    "## Filter data to get 3 and 8 out"
   ]
  },
  {
   "cell_type": "code",
   "execution_count": 9,
   "metadata": {
    "execution": {
     "iopub.execute_input": "2020-08-19T20:04:07.012951Z",
     "iopub.status.busy": "2020-08-19T20:04:07.012353Z",
     "iopub.status.idle": "2020-08-19T20:04:07.034181Z",
     "shell.execute_reply": "2020-08-19T20:04:07.033587Z"
    },
    "papermill": {
     "duration": 0.05474,
     "end_time": "2020-08-19T20:04:07.034336",
     "exception": false,
     "start_time": "2020-08-19T20:04:06.979596",
     "status": "completed"
    },
    "tags": []
   },
   "outputs": [],
   "source": [
    "train_filter = np.where((train_labels == 3 ) | (train_labels == 8))\n",
    "test_filter = np.where((test_labels == 3) | (test_labels == 8))\n",
    "X_train, y_train = train_images[train_filter], train_labels[train_filter]\n",
    "X_test, y_test = test_images[test_filter], test_labels[test_filter]"
   ]
  },
  {
   "cell_type": "markdown",
   "metadata": {
    "papermill": {
     "duration": 0.029326,
     "end_time": "2020-08-19T20:04:07.092747",
     "exception": false,
     "start_time": "2020-08-19T20:04:07.063421",
     "status": "completed"
    },
    "tags": []
   },
   "source": [
    "We normalize the pixel values in the 0 to 1 range"
   ]
  },
  {
   "cell_type": "code",
   "execution_count": 10,
   "metadata": {
    "execution": {
     "iopub.execute_input": "2020-08-19T20:04:07.956816Z",
     "iopub.status.busy": "2020-08-19T20:04:07.955713Z",
     "iopub.status.idle": "2020-08-19T20:04:08.009787Z",
     "shell.execute_reply": "2020-08-19T20:04:08.009219Z"
    },
    "papermill": {
     "duration": 0.887948,
     "end_time": "2020-08-19T20:04:08.009925",
     "exception": false,
     "start_time": "2020-08-19T20:04:07.121977",
     "status": "completed"
    },
    "tags": []
   },
   "outputs": [],
   "source": [
    "X_train = X_train/255.\n",
    "X_test = X_test/255."
   ]
  },
  {
   "cell_type": "markdown",
   "metadata": {
    "papermill": {
     "duration": 0.032063,
     "end_time": "2020-08-19T20:04:08.171386",
     "exception": false,
     "start_time": "2020-08-19T20:04:08.139323",
     "status": "completed"
    },
    "tags": []
   },
   "source": [
    "Setup the labels as 1 (when the digit is 3) and 0 (when the digit is 8)"
   ]
  },
  {
   "cell_type": "code",
   "execution_count": 11,
   "metadata": {
    "execution": {
     "iopub.execute_input": "2020-08-19T20:04:08.233583Z",
     "iopub.status.busy": "2020-08-19T20:04:08.232980Z",
     "iopub.status.idle": "2020-08-19T20:04:08.247579Z",
     "shell.execute_reply": "2020-08-19T20:04:08.248059Z"
    },
    "papermill": {
     "duration": 0.047658,
     "end_time": "2020-08-19T20:04:08.248209",
     "exception": false,
     "start_time": "2020-08-19T20:04:08.200551",
     "status": "completed"
    },
    "tags": []
   },
   "outputs": [],
   "source": [
    "y_train = 1*(y_train==3)\n",
    "y_test = 1*(y_test==3)"
   ]
  },
  {
   "cell_type": "code",
   "execution_count": 12,
   "metadata": {
    "execution": {
     "iopub.execute_input": "2020-08-19T20:04:08.311441Z",
     "iopub.status.busy": "2020-08-19T20:04:08.310834Z",
     "iopub.status.idle": "2020-08-19T20:04:08.324169Z",
     "shell.execute_reply": "2020-08-19T20:04:08.324694Z"
    },
    "papermill": {
     "duration": 0.047833,
     "end_time": "2020-08-19T20:04:08.324848",
     "exception": false,
     "start_time": "2020-08-19T20:04:08.277015",
     "status": "completed"
    },
    "tags": []
   },
   "outputs": [
    {
     "data": {
      "text/plain": [
       "((11982, 28, 28), (1984, 28, 28))"
      ]
     },
     "execution_count": 12,
     "metadata": {},
     "output_type": "execute_result"
    }
   ],
   "source": [
    "X_train.shape, X_test.shape"
   ]
  },
  {
   "cell_type": "markdown",
   "metadata": {
    "papermill": {
     "duration": 0.029359,
     "end_time": "2020-08-19T20:04:08.383550",
     "exception": false,
     "start_time": "2020-08-19T20:04:08.354191",
     "status": "completed"
    },
    "tags": []
   },
   "source": [
    "### Reshape the input data to create a linear array"
   ]
  },
  {
   "cell_type": "code",
   "execution_count": 13,
   "metadata": {
    "execution": {
     "iopub.execute_input": "2020-08-19T20:04:08.449197Z",
     "iopub.status.busy": "2020-08-19T20:04:08.448505Z",
     "iopub.status.idle": "2020-08-19T20:04:08.463952Z",
     "shell.execute_reply": "2020-08-19T20:04:08.464433Z"
    },
    "papermill": {
     "duration": 0.050568,
     "end_time": "2020-08-19T20:04:08.464582",
     "exception": false,
     "start_time": "2020-08-19T20:04:08.414014",
     "status": "completed"
    },
    "tags": []
   },
   "outputs": [
    {
     "data": {
      "text/plain": [
       "((11982, 784), (1984, 784))"
      ]
     },
     "execution_count": 13,
     "metadata": {},
     "output_type": "execute_result"
    }
   ],
   "source": [
    "X_train = X_train.reshape(X_train.shape[0], -1)\n",
    "X_test = X_test.reshape(X_test.shape[0], -1)\n",
    "X_train.shape, X_test.shape"
   ]
  },
  {
   "cell_type": "markdown",
   "metadata": {
    "papermill": {
     "duration": 0.029614,
     "end_time": "2020-08-19T20:04:08.523953",
     "exception": false,
     "start_time": "2020-08-19T20:04:08.494339",
     "status": "completed"
    },
    "tags": []
   },
   "source": [
    "### Importing appropriate functions from 'Kudzu'"
   ]
  },
  {
   "cell_type": "code",
   "execution_count": 14,
   "metadata": {
    "execution": {
     "iopub.execute_input": "2020-08-19T20:04:08.590453Z",
     "iopub.status.busy": "2020-08-19T20:04:08.589470Z",
     "iopub.status.idle": "2020-08-19T20:04:08.610756Z",
     "shell.execute_reply": "2020-08-19T20:04:08.611254Z"
    },
    "papermill": {
     "duration": 0.05765,
     "end_time": "2020-08-19T20:04:08.611402",
     "exception": false,
     "start_time": "2020-08-19T20:04:08.553752",
     "status": "completed"
    },
    "tags": []
   },
   "outputs": [],
   "source": [
    "from kudzu.layer import Sigmoid\n",
    "from kudzu.layer import Relu\n",
    "from kudzu.layer import Affine, Sigmoid\n",
    "\n",
    "from kudzu.model import Model\n",
    "from kudzu.train import Learner\n",
    "from kudzu.optim import GD\n",
    "from kudzu.data import Data, Dataloader, Sampler\n",
    "\n",
    "from kudzu.callbacks import AccCallback\n",
    "from kudzu.callbacks import ClfCallback\n",
    "\n",
    "from kudzu.loss import MSE"
   ]
  },
  {
   "cell_type": "markdown",
   "metadata": {
    "papermill": {
     "duration": 0.029035,
     "end_time": "2020-08-19T20:04:08.673634",
     "exception": false,
     "start_time": "2020-08-19T20:04:08.644599",
     "status": "completed"
    },
    "tags": []
   },
   "source": [
    "### Let us create a `Config` class, to store important parameters. \n",
    "This class essentially plays the role of a dictionary."
   ]
  },
  {
   "cell_type": "code",
   "execution_count": 15,
   "metadata": {
    "execution": {
     "iopub.execute_input": "2020-08-19T20:04:08.737942Z",
     "iopub.status.busy": "2020-08-19T20:04:08.737367Z",
     "iopub.status.idle": "2020-08-19T20:04:08.753055Z",
     "shell.execute_reply": "2020-08-19T20:04:08.752418Z"
    },
    "papermill": {
     "duration": 0.050178,
     "end_time": "2020-08-19T20:04:08.753189",
     "exception": false,
     "start_time": "2020-08-19T20:04:08.703011",
     "status": "completed"
    },
    "tags": []
   },
   "outputs": [],
   "source": [
    "class Config:\n",
    "    pass\n",
    "config = Config()\n",
    "config.lr = 0.001\n",
    "config.num_epochs = 251\n",
    "config.bs = 50"
   ]
  },
  {
   "cell_type": "markdown",
   "metadata": {
    "papermill": {
     "duration": 0.031622,
     "end_time": "2020-08-19T20:04:08.813893",
     "exception": false,
     "start_time": "2020-08-19T20:04:08.782271",
     "status": "completed"
    },
    "tags": []
   },
   "source": [
    "### Initializing data to the variables"
   ]
  },
  {
   "cell_type": "code",
   "execution_count": 16,
   "metadata": {
    "execution": {
     "iopub.execute_input": "2020-08-19T20:04:08.878551Z",
     "iopub.status.busy": "2020-08-19T20:04:08.877958Z",
     "iopub.status.idle": "2020-08-19T20:04:08.891405Z",
     "shell.execute_reply": "2020-08-19T20:04:08.890828Z"
    },
    "papermill": {
     "duration": 0.047727,
     "end_time": "2020-08-19T20:04:08.891553",
     "exception": false,
     "start_time": "2020-08-19T20:04:08.843826",
     "status": "completed"
    },
    "tags": []
   },
   "outputs": [],
   "source": [
    "data = Data(X_train, y_train.reshape(-1,1))\n",
    "sampler = Sampler(data, config.bs, shuffle=True)\n",
    "\n",
    "dl = Dataloader(data, sampler)\n",
    "\n",
    "opt = GD(config.lr)\n",
    "loss = MSE()"
   ]
  },
  {
   "cell_type": "code",
   "execution_count": 17,
   "metadata": {
    "execution": {
     "iopub.execute_input": "2020-08-19T20:04:08.959029Z",
     "iopub.status.busy": "2020-08-19T20:04:08.958352Z",
     "iopub.status.idle": "2020-08-19T20:04:08.972138Z",
     "shell.execute_reply": "2020-08-19T20:04:08.971625Z"
    },
    "papermill": {
     "duration": 0.04992,
     "end_time": "2020-08-19T20:04:08.972263",
     "exception": false,
     "start_time": "2020-08-19T20:04:08.922343",
     "status": "completed"
    },
    "tags": []
   },
   "outputs": [],
   "source": [
    "training_xdata = X_train\n",
    "testing_xdata = X_test\n",
    "training_ydata = y_train.reshape(-1,1)\n",
    "testing_ydata = y_test.reshape(-1,1)"
   ]
  },
  {
   "cell_type": "markdown",
   "metadata": {
    "papermill": {
     "duration": 0.029328,
     "end_time": "2020-08-19T20:04:09.031155",
     "exception": false,
     "start_time": "2020-08-19T20:04:09.001827",
     "status": "completed"
    },
    "tags": []
   },
   "source": [
    "### Running Models with the Training data\n",
    "Details about the network layers:\n",
    "- A first affine layer has 784 inputs and does 100 affine transforms. These are followed by a Relu\n",
    "- A second affine layer has 100 inputs from the 100 activations of the past layer, and does 100 affine transforms. These are followed by a Relu\n",
    "- A third affine layer has 100 activations and does 2 affine transformations to create an embedding for visualization. There is no non-linearity here.\n",
    "- A final \"logistic regression\" which has an affine transform from 2 inputs to 1 output, which is squeezed through a sigmoid.\n",
    "\n",
    "Help taken from Anshuman's Notebook."
   ]
  },
  {
   "cell_type": "code",
   "execution_count": 18,
   "metadata": {
    "execution": {
     "iopub.execute_input": "2020-08-19T20:04:09.095710Z",
     "iopub.status.busy": "2020-08-19T20:04:09.095112Z",
     "iopub.status.idle": "2020-08-19T20:04:09.114923Z",
     "shell.execute_reply": "2020-08-19T20:04:09.114341Z"
    },
    "papermill": {
     "duration": 0.054668,
     "end_time": "2020-08-19T20:04:09.115072",
     "exception": false,
     "start_time": "2020-08-19T20:04:09.060404",
     "status": "completed"
    },
    "tags": []
   },
   "outputs": [],
   "source": [
    "# layers for the Neural Network\n",
    "layers = [Affine(\"first\", 784, 100), Relu(\"first\"), Affine(\"second\", 100, 100), Relu(\"second\"), Affine(\"third\", 100, 2), Affine(\"final\", 2, 1), Sigmoid(\"final\")]\n",
    "model_nn = Model(layers)\n",
    "\n",
    "# layers for the Logistic Regression\n",
    "layers_lr = [Affine(\"logits\", 784, 1), Sigmoid(\"sigmoid\")]\n",
    "model_lr = Model(layers_lr)"
   ]
  },
  {
   "cell_type": "code",
   "execution_count": 19,
   "metadata": {
    "execution": {
     "iopub.execute_input": "2020-08-19T20:04:09.180245Z",
     "iopub.status.busy": "2020-08-19T20:04:09.179637Z",
     "iopub.status.idle": "2020-08-19T20:04:09.193097Z",
     "shell.execute_reply": "2020-08-19T20:04:09.192571Z"
    },
    "papermill": {
     "duration": 0.046888,
     "end_time": "2020-08-19T20:04:09.193236",
     "exception": false,
     "start_time": "2020-08-19T20:04:09.146348",
     "status": "completed"
    },
    "tags": []
   },
   "outputs": [],
   "source": [
    "# suffix _nn stands for Neural Network.\n",
    "learner_nn = Learner(loss, model_nn, opt, config.num_epochs)\n",
    "acc_nn = ClfCallback(learner_nn, config.bs, training_xdata , testing_xdata, training_ydata, testing_ydata)\n",
    "learner_nn.set_callbacks([acc_nn])"
   ]
  },
  {
   "cell_type": "code",
   "execution_count": 20,
   "metadata": {
    "execution": {
     "iopub.execute_input": "2020-08-19T20:04:09.255768Z",
     "iopub.status.busy": "2020-08-19T20:04:09.255198Z",
     "iopub.status.idle": "2020-08-19T20:05:37.620284Z",
     "shell.execute_reply": "2020-08-19T20:05:37.621094Z"
    },
    "papermill": {
     "duration": 88.398738,
     "end_time": "2020-08-19T20:05:37.621256",
     "exception": false,
     "start_time": "2020-08-19T20:04:09.222518",
     "status": "completed"
    },
    "tags": []
   },
   "outputs": [
    {
     "name": "stdout",
     "output_type": "stream",
     "text": [
      "====== Neural Network ======\n"
     ]
    },
    {
     "name": "stdout",
     "output_type": "stream",
     "text": [
      "Epoch 0, Loss 0.2465\n",
      "Training Accuracy: 0.4884, Testing Accuracy: 0.4909\n",
      "\n"
     ]
    },
    {
     "name": "stdout",
     "output_type": "stream",
     "text": [
      "Epoch 10, Loss 0.2271\n",
      "Training Accuracy: 0.7450, Testing Accuracy: 0.7586\n",
      "\n"
     ]
    },
    {
     "name": "stdout",
     "output_type": "stream",
     "text": [
      "Epoch 20, Loss 0.1463\n",
      "Training Accuracy: 0.8892, Testing Accuracy: 0.9042\n",
      "\n"
     ]
    },
    {
     "name": "stdout",
     "output_type": "stream",
     "text": [
      "Epoch 30, Loss 0.0781\n",
      "Training Accuracy: 0.9205, Testing Accuracy: 0.9309\n",
      "\n"
     ]
    },
    {
     "name": "stdout",
     "output_type": "stream",
     "text": [
      "Epoch 40, Loss 0.0564\n",
      "Training Accuracy: 0.9377, Testing Accuracy: 0.9466\n",
      "\n"
     ]
    },
    {
     "name": "stdout",
     "output_type": "stream",
     "text": [
      "Epoch 50, Loss 0.0465\n",
      "Training Accuracy: 0.9473, Testing Accuracy: 0.9541\n",
      "\n"
     ]
    },
    {
     "name": "stdout",
     "output_type": "stream",
     "text": [
      "Epoch 60, Loss 0.041\n",
      "Training Accuracy: 0.9517, Testing Accuracy: 0.9577\n",
      "\n"
     ]
    },
    {
     "name": "stdout",
     "output_type": "stream",
     "text": [
      "Epoch 70, Loss 0.0374\n",
      "Training Accuracy: 0.9552, Testing Accuracy: 0.9612\n",
      "\n"
     ]
    },
    {
     "name": "stdout",
     "output_type": "stream",
     "text": [
      "Epoch 80, Loss 0.0348\n",
      "Training Accuracy: 0.9594, Testing Accuracy: 0.9647\n",
      "\n"
     ]
    },
    {
     "name": "stdout",
     "output_type": "stream",
     "text": [
      "Epoch 90, Loss 0.0329\n",
      "Training Accuracy: 0.9615, Testing Accuracy: 0.9657\n",
      "\n"
     ]
    },
    {
     "name": "stdout",
     "output_type": "stream",
     "text": [
      "Epoch 100, Loss 0.0314\n",
      "Training Accuracy: 0.9629, Testing Accuracy: 0.9662\n",
      "\n"
     ]
    },
    {
     "name": "stdout",
     "output_type": "stream",
     "text": [
      "Epoch 110, Loss 0.0302\n",
      "Training Accuracy: 0.9639, Testing Accuracy: 0.9667\n",
      "\n"
     ]
    },
    {
     "name": "stdout",
     "output_type": "stream",
     "text": [
      "Epoch 120, Loss 0.0292\n",
      "Training Accuracy: 0.9659, Testing Accuracy: 0.9677\n",
      "\n"
     ]
    },
    {
     "name": "stdout",
     "output_type": "stream",
     "text": [
      "Epoch 130, Loss 0.0283\n",
      "Training Accuracy: 0.9663, Testing Accuracy: 0.9682\n",
      "\n"
     ]
    },
    {
     "name": "stdout",
     "output_type": "stream",
     "text": [
      "Epoch 140, Loss 0.0275\n",
      "Training Accuracy: 0.9673, Testing Accuracy: 0.9672\n",
      "\n"
     ]
    },
    {
     "name": "stdout",
     "output_type": "stream",
     "text": [
      "Epoch 150, Loss 0.0268\n",
      "Training Accuracy: 0.9680, Testing Accuracy: 0.9672\n",
      "\n"
     ]
    },
    {
     "name": "stdout",
     "output_type": "stream",
     "text": [
      "Epoch 160, Loss 0.0262\n",
      "Training Accuracy: 0.9686, Testing Accuracy: 0.9672\n",
      "\n"
     ]
    },
    {
     "name": "stdout",
     "output_type": "stream",
     "text": [
      "Epoch 170, Loss 0.0257\n",
      "Training Accuracy: 0.9689, Testing Accuracy: 0.9682\n",
      "\n"
     ]
    },
    {
     "name": "stdout",
     "output_type": "stream",
     "text": [
      "Epoch 180, Loss 0.0252\n",
      "Training Accuracy: 0.9695, Testing Accuracy: 0.9693\n",
      "\n"
     ]
    },
    {
     "name": "stdout",
     "output_type": "stream",
     "text": [
      "Epoch 190, Loss 0.0247\n",
      "Training Accuracy: 0.9699, Testing Accuracy: 0.9688\n",
      "\n"
     ]
    },
    {
     "name": "stdout",
     "output_type": "stream",
     "text": [
      "Epoch 200, Loss 0.0242\n",
      "Training Accuracy: 0.9705, Testing Accuracy: 0.9693\n",
      "\n"
     ]
    },
    {
     "name": "stdout",
     "output_type": "stream",
     "text": [
      "Epoch 210, Loss 0.0238\n",
      "Training Accuracy: 0.9712, Testing Accuracy: 0.9688\n",
      "\n"
     ]
    },
    {
     "name": "stdout",
     "output_type": "stream",
     "text": [
      "Epoch 220, Loss 0.0234\n",
      "Training Accuracy: 0.9720, Testing Accuracy: 0.9682\n",
      "\n"
     ]
    },
    {
     "name": "stdout",
     "output_type": "stream",
     "text": [
      "Epoch 230, Loss 0.023\n",
      "Training Accuracy: 0.9723, Testing Accuracy: 0.9682\n",
      "\n"
     ]
    },
    {
     "name": "stdout",
     "output_type": "stream",
     "text": [
      "Epoch 240, Loss 0.0226\n",
      "Training Accuracy: 0.9729, Testing Accuracy: 0.9688\n",
      "\n"
     ]
    },
    {
     "name": "stdout",
     "output_type": "stream",
     "text": [
      "Epoch 250, Loss 0.0223\n",
      "Training Accuracy: 0.9732, Testing Accuracy: 0.9688\n",
      "\n"
     ]
    },
    {
     "data": {
      "text/plain": [
       "0.007520813023199644"
      ]
     },
     "execution_count": 20,
     "metadata": {},
     "output_type": "execute_result"
    }
   ],
   "source": [
    "print(\"====== Neural Network ======\")\n",
    "learner_nn.train_loop(dl)"
   ]
  },
  {
   "cell_type": "markdown",
   "metadata": {
    "papermill": {
     "duration": 0.038829,
     "end_time": "2020-08-19T20:05:37.700253",
     "exception": false,
     "start_time": "2020-08-19T20:05:37.661424",
     "status": "completed"
    },
    "tags": []
   },
   "source": [
    "### Logistic Regression based Implementation."
   ]
  },
  {
   "cell_type": "code",
   "execution_count": 21,
   "metadata": {
    "execution": {
     "iopub.execute_input": "2020-08-19T20:05:37.793105Z",
     "iopub.status.busy": "2020-08-19T20:05:37.792480Z",
     "iopub.status.idle": "2020-08-19T20:05:37.805175Z",
     "shell.execute_reply": "2020-08-19T20:05:37.805639Z"
    },
    "papermill": {
     "duration": 0.059267,
     "end_time": "2020-08-19T20:05:37.805793",
     "exception": false,
     "start_time": "2020-08-19T20:05:37.746526",
     "status": "completed"
    },
    "tags": []
   },
   "outputs": [],
   "source": [
    "learner_lr = Learner(loss, model_lr, opt, config.num_epochs)\n",
    "acc_lr = ClfCallback(learner_lr, config.bs, training_xdata , testing_xdata, training_ydata, testing_ydata)\n",
    "learner_lr.set_callbacks([acc_lr])"
   ]
  },
  {
   "cell_type": "code",
   "execution_count": 22,
   "metadata": {
    "execution": {
     "iopub.execute_input": "2020-08-19T20:05:37.885616Z",
     "iopub.status.busy": "2020-08-19T20:05:37.885031Z",
     "iopub.status.idle": "2020-08-19T20:05:55.062529Z",
     "shell.execute_reply": "2020-08-19T20:05:55.063462Z"
    },
    "papermill": {
     "duration": 17.220104,
     "end_time": "2020-08-19T20:05:55.063632",
     "exception": false,
     "start_time": "2020-08-19T20:05:37.843528",
     "status": "completed"
    },
    "tags": []
   },
   "outputs": [
    {
     "name": "stdout",
     "output_type": "stream",
     "text": [
      "====== Logistic Regression ======\n",
      "Epoch 0, Loss 0.2623\n",
      "Training Accuracy: 0.5921, Testing Accuracy: 0.6074\n",
      "\n"
     ]
    },
    {
     "name": "stdout",
     "output_type": "stream",
     "text": [
      "Epoch 10, Loss 0.1046\n",
      "Training Accuracy: 0.9092, Testing Accuracy: 0.9183\n",
      "\n"
     ]
    },
    {
     "name": "stdout",
     "output_type": "stream",
     "text": [
      "Epoch 20, Loss 0.0794\n",
      "Training Accuracy: 0.9283, Testing Accuracy: 0.9390\n",
      "\n"
     ]
    },
    {
     "name": "stdout",
     "output_type": "stream",
     "text": [
      "Epoch 30, Loss 0.0682\n",
      "Training Accuracy: 0.9357, Testing Accuracy: 0.9456\n",
      "\n"
     ]
    },
    {
     "name": "stdout",
     "output_type": "stream",
     "text": [
      "Epoch 40, Loss 0.0615\n",
      "Training Accuracy: 0.9412, Testing Accuracy: 0.9511\n",
      "\n"
     ]
    },
    {
     "name": "stdout",
     "output_type": "stream",
     "text": [
      "Epoch 50, Loss 0.057\n",
      "Training Accuracy: 0.9448, Testing Accuracy: 0.9546\n",
      "\n"
     ]
    },
    {
     "name": "stdout",
     "output_type": "stream",
     "text": [
      "Epoch 60, Loss 0.0537\n",
      "Training Accuracy: 0.9470, Testing Accuracy: 0.9587\n",
      "\n"
     ]
    },
    {
     "name": "stdout",
     "output_type": "stream",
     "text": [
      "Epoch 70, Loss 0.0511\n",
      "Training Accuracy: 0.9492, Testing Accuracy: 0.9582\n",
      "\n"
     ]
    },
    {
     "name": "stdout",
     "output_type": "stream",
     "text": [
      "Epoch 80, Loss 0.0491\n",
      "Training Accuracy: 0.9509, Testing Accuracy: 0.9592\n",
      "\n"
     ]
    },
    {
     "name": "stdout",
     "output_type": "stream",
     "text": [
      "Epoch 90, Loss 0.0474\n",
      "Training Accuracy: 0.9523, Testing Accuracy: 0.9612\n",
      "\n"
     ]
    },
    {
     "name": "stdout",
     "output_type": "stream",
     "text": [
      "Epoch 100, Loss 0.046\n",
      "Training Accuracy: 0.9536, Testing Accuracy: 0.9627\n",
      "\n"
     ]
    },
    {
     "name": "stdout",
     "output_type": "stream",
     "text": [
      "Epoch 110, Loss 0.0448\n",
      "Training Accuracy: 0.9544, Testing Accuracy: 0.9637\n",
      "\n"
     ]
    },
    {
     "name": "stdout",
     "output_type": "stream",
     "text": [
      "Epoch 120, Loss 0.0437\n",
      "Training Accuracy: 0.9550, Testing Accuracy: 0.9637\n",
      "\n"
     ]
    },
    {
     "name": "stdout",
     "output_type": "stream",
     "text": [
      "Epoch 130, Loss 0.0428\n",
      "Training Accuracy: 0.9558, Testing Accuracy: 0.9637\n",
      "\n"
     ]
    },
    {
     "name": "stdout",
     "output_type": "stream",
     "text": [
      "Epoch 140, Loss 0.042\n",
      "Training Accuracy: 0.9560, Testing Accuracy: 0.9642\n",
      "\n"
     ]
    },
    {
     "name": "stdout",
     "output_type": "stream",
     "text": [
      "Epoch 150, Loss 0.0413\n",
      "Training Accuracy: 0.9568, Testing Accuracy: 0.9642\n",
      "\n"
     ]
    },
    {
     "name": "stdout",
     "output_type": "stream",
     "text": [
      "Epoch 160, Loss 0.0406\n",
      "Training Accuracy: 0.9574, Testing Accuracy: 0.9647\n",
      "\n"
     ]
    },
    {
     "name": "stdout",
     "output_type": "stream",
     "text": [
      "Epoch 170, Loss 0.04\n",
      "Training Accuracy: 0.9579, Testing Accuracy: 0.9647\n",
      "\n"
     ]
    },
    {
     "name": "stdout",
     "output_type": "stream",
     "text": [
      "Epoch 180, Loss 0.0394\n",
      "Training Accuracy: 0.9586, Testing Accuracy: 0.9652\n",
      "\n"
     ]
    },
    {
     "name": "stdout",
     "output_type": "stream",
     "text": [
      "Epoch 190, Loss 0.0389\n",
      "Training Accuracy: 0.9591, Testing Accuracy: 0.9657\n",
      "\n"
     ]
    },
    {
     "name": "stdout",
     "output_type": "stream",
     "text": [
      "Epoch 200, Loss 0.0384\n",
      "Training Accuracy: 0.9599, Testing Accuracy: 0.9657\n",
      "\n"
     ]
    },
    {
     "name": "stdout",
     "output_type": "stream",
     "text": [
      "Epoch 210, Loss 0.038\n",
      "Training Accuracy: 0.9604, Testing Accuracy: 0.9657\n",
      "\n"
     ]
    },
    {
     "name": "stdout",
     "output_type": "stream",
     "text": [
      "Epoch 220, Loss 0.0376\n",
      "Training Accuracy: 0.9609, Testing Accuracy: 0.9657\n",
      "\n"
     ]
    },
    {
     "name": "stdout",
     "output_type": "stream",
     "text": [
      "Epoch 230, Loss 0.0372\n",
      "Training Accuracy: 0.9609, Testing Accuracy: 0.9657\n",
      "\n"
     ]
    },
    {
     "name": "stdout",
     "output_type": "stream",
     "text": [
      "Epoch 240, Loss 0.0369\n",
      "Training Accuracy: 0.9612, Testing Accuracy: 0.9662\n",
      "\n"
     ]
    },
    {
     "name": "stdout",
     "output_type": "stream",
     "text": [
      "Epoch 250, Loss 0.0365\n",
      "Training Accuracy: 0.9611, Testing Accuracy: 0.9662\n",
      "\n"
     ]
    },
    {
     "data": {
      "text/plain": [
       "0.0403803802377829"
      ]
     },
     "execution_count": 22,
     "metadata": {},
     "output_type": "execute_result"
    }
   ],
   "source": [
    "print(\"====== Logistic Regression ======\")\n",
    "learner_lr.train_loop(dl)"
   ]
  },
  {
   "cell_type": "markdown",
   "metadata": {
    "papermill": {
     "duration": 0.055926,
     "end_time": "2020-08-19T20:05:55.173905",
     "exception": false,
     "start_time": "2020-08-19T20:05:55.117979",
     "status": "completed"
    },
    "tags": []
   },
   "source": [
    "### Comparing results of NN and LR"
   ]
  },
  {
   "cell_type": "code",
   "execution_count": 23,
   "metadata": {
    "execution": {
     "iopub.execute_input": "2020-08-19T20:05:55.271254Z",
     "iopub.status.busy": "2020-08-19T20:05:55.270652Z",
     "iopub.status.idle": "2020-08-19T20:05:55.517200Z",
     "shell.execute_reply": "2020-08-19T20:05:55.516703Z"
    },
    "papermill": {
     "duration": 0.29785,
     "end_time": "2020-08-19T20:05:55.517340",
     "exception": false,
     "start_time": "2020-08-19T20:05:55.219490",
     "status": "completed"
    },
    "tags": []
   },
   "outputs": [
    {
     "data": {
      "text/plain": [
       "<matplotlib.legend.Legend at 0x7f665c22b9e8>"
      ]
     },
     "execution_count": 23,
     "metadata": {},
     "output_type": "execute_result"
    },
    {
     "data": {
      "image/png": "[encoded data removed]",
      "text/plain": [
       "<Figure size 1080x720 with 1 Axes>"
      ]
     },
     "metadata": {
      "needs_background": "light"
     },
     "output_type": "display_data"
    }
   ],
   "source": [
    "plt.figure(figsize=(15,10))\n",
    "\n",
    "# Neural Network plots\n",
    "plt.plot(acc_nn.accuracies, 'r-', label = \"Training Accuracies - NN\")\n",
    "plt.plot(acc_nn.test_accuracies, 'g-', label = \"Testing Accuracies - NN\")\n",
    "\n",
    "# Logistic Regression plots\n",
    "plt.plot(acc_lr.accuracies, 'k-', label = \"Training Accuracies - LR\")\n",
    "plt.plot(acc_lr.test_accuracies, 'b-', label = \"Testing Accuracies - LR\")\n",
    "\n",
    "plt.ylim(0.8, 1)\n",
    "\n",
    "plt.legend()\n",
    "\n"
   ]
  },
  {
   "cell_type": "markdown",
   "metadata": {
    "papermill": {
     "duration": 0.047284,
     "end_time": "2020-08-19T20:05:55.612310",
     "exception": false,
     "start_time": "2020-08-19T20:05:55.565026",
     "status": "completed"
    },
    "tags": []
   },
   "source": [
    "### From the plot, we can observe the following:\n",
    "- Neural Network achieves higher accuracy than the Logistic Regression model.\n",
    "- This apparently, is because of overfitting, i.e. NN captures more noise than data.\n",
    "- Testing accuracy of NN drops below the Training accuracy at higher epochs. This explains the over-fitting on training data.\n",
    "- Logistic Regression gives a reliable accuracy, without the above mentioned problem.\n"
   ]
  },
  {
   "cell_type": "markdown",
   "metadata": {
    "papermill": {
     "duration": 0.047221,
     "end_time": "2020-08-19T20:05:55.709307",
     "exception": false,
     "start_time": "2020-08-19T20:05:55.662086",
     "status": "completed"
    },
    "tags": []
   },
   "source": [
    "### Moving till the last but one layer (excluding it).\n",
    "#### Plotting the outputs of this layer of the NN."
   ]
  },
  {
   "cell_type": "code",
   "execution_count": 24,
   "metadata": {
    "execution": {
     "iopub.execute_input": "2020-08-19T20:05:55.812032Z",
     "iopub.status.busy": "2020-08-19T20:05:55.810976Z",
     "iopub.status.idle": "2020-08-19T20:05:55.833137Z",
     "shell.execute_reply": "2020-08-19T20:05:55.832579Z"
    },
    "papermill": {
     "duration": 0.076284,
     "end_time": "2020-08-19T20:05:55.833265",
     "exception": false,
     "start_time": "2020-08-19T20:05:55.756981",
     "status": "completed"
    },
    "tags": []
   },
   "outputs": [],
   "source": [
    "model_new = Model(layers[:-2])"
   ]
  },
  {
   "cell_type": "code",
   "execution_count": 25,
   "metadata": {
    "execution": {
     "iopub.execute_input": "2020-08-19T20:05:55.935122Z",
     "iopub.status.busy": "2020-08-19T20:05:55.934509Z",
     "iopub.status.idle": "2020-08-19T20:05:55.961021Z",
     "shell.execute_reply": "2020-08-19T20:05:55.961524Z"
    },
    "papermill": {
     "duration": 0.079932,
     "end_time": "2020-08-19T20:05:55.961679",
     "exception": false,
     "start_time": "2020-08-19T20:05:55.881747",
     "status": "completed"
    },
    "tags": []
   },
   "outputs": [],
   "source": [
    "plot_testing = model_new(testing_xdata)"
   ]
  },
  {
   "cell_type": "code",
   "execution_count": 26,
   "metadata": {
    "execution": {
     "iopub.execute_input": "2020-08-19T20:05:56.063157Z",
     "iopub.status.busy": "2020-08-19T20:05:56.062486Z",
     "iopub.status.idle": "2020-08-19T20:05:56.284534Z",
     "shell.execute_reply": "2020-08-19T20:05:56.285120Z"
    },
    "papermill": {
     "duration": 0.275037,
     "end_time": "2020-08-19T20:05:56.285278",
     "exception": false,
     "start_time": "2020-08-19T20:05:56.010241",
     "status": "completed"
    },
    "tags": []
   },
   "outputs": [
    {
     "data": {
      "text/plain": [
       "Text(0.5, 1.0, 'Outputs')"
      ]
     },
     "execution_count": 26,
     "metadata": {},
     "output_type": "execute_result"
    },
    {
     "data": {
      "image/png": "[encoded data removed]",
      "text/plain": [
       "<Figure size 576x504 with 1 Axes>"
      ]
     },
     "metadata": {
      "needs_background": "light"
     },
     "output_type": "display_data"
    }
   ],
   "source": [
    "plt.figure(figsize=(8,7))\n",
    "plt.scatter(plot_testing[:,0], plot_testing[:,1], alpha = 0.1, c = y_test.ravel());\n",
    "plt.title('Outputs')"
   ]
  },
  {
   "cell_type": "markdown",
   "metadata": {
    "papermill": {
     "duration": 0.050677,
     "end_time": "2020-08-19T20:05:56.392009",
     "exception": false,
     "start_time": "2020-08-19T20:05:56.341332",
     "status": "completed"
    },
    "tags": []
   },
   "source": [
    "### Plotting probability contours"
   ]
  },
  {
   "cell_type": "code",
   "execution_count": 27,
   "metadata": {
    "execution": {
     "iopub.execute_input": "2020-08-19T20:05:56.496480Z",
     "iopub.status.busy": "2020-08-19T20:05:56.495879Z",
     "iopub.status.idle": "2020-08-19T20:05:56.510261Z",
     "shell.execute_reply": "2020-08-19T20:05:56.509753Z"
    },
    "papermill": {
     "duration": 0.068727,
     "end_time": "2020-08-19T20:05:56.510404",
     "exception": false,
     "start_time": "2020-08-19T20:05:56.441677",
     "status": "completed"
    },
    "tags": []
   },
   "outputs": [],
   "source": [
    "model_prob = Model(layers[-2:]) "
   ]
  },
  {
   "cell_type": "code",
   "execution_count": 28,
   "metadata": {
    "execution": {
     "iopub.execute_input": "2020-08-19T20:05:56.613847Z",
     "iopub.status.busy": "2020-08-19T20:05:56.613255Z",
     "iopub.status.idle": "2020-08-19T20:05:56.626961Z",
     "shell.execute_reply": "2020-08-19T20:05:56.627429Z"
    },
    "papermill": {
     "duration": 0.067635,
     "end_time": "2020-08-19T20:05:56.627583",
     "exception": false,
     "start_time": "2020-08-19T20:05:56.559948",
     "status": "completed"
    },
    "tags": []
   },
   "outputs": [],
   "source": [
    "# Adjust the x and y ranges according to the above generated plot.\n",
    "x_range = np.linspace(-4, 1, 100) \n",
    "y_range = np.linspace(-6, 6, 100) \n",
    "x_grid, y_grid = np.meshgrid(x_range, y_range) # x_grid and y_grig are of size 100 X 100\n",
    "\n",
    "# converting x_grid and y_grid to continuous arrays\n",
    "x_grid_flat = np.ravel(x_grid)\n",
    "y_grid_flat = np.ravel(y_grid)\n",
    "\n",
    "# The last layer of the current model takes two columns as input. Hence transpose of np.vstack() is required.\n",
    "X = np.vstack((x_grid_flat, y_grid_flat)).T\n",
    "\n",
    "# x_grid and y_grid are of size 100 x 100\n",
    "probability_contour = model_prob(X).reshape(100,100) "
   ]
  },
  {
   "cell_type": "code",
   "execution_count": 29,
   "metadata": {
    "execution": {
     "iopub.execute_input": "2020-08-19T20:05:56.744046Z",
     "iopub.status.busy": "2020-08-19T20:05:56.743491Z",
     "iopub.status.idle": "2020-08-19T20:05:57.008378Z",
     "shell.execute_reply": "2020-08-19T20:05:57.008868Z"
    },
    "papermill": {
     "duration": 0.329526,
     "end_time": "2020-08-19T20:05:57.009024",
     "exception": false,
     "start_time": "2020-08-19T20:05:56.679498",
     "status": "completed"
    },
    "tags": []
   },
   "outputs": [
    {
     "data": {
      "image/png": "[encoded data removed]",
      "text/plain": [
       "<Figure size 720x648 with 1 Axes>"
      ]
     },
     "metadata": {
      "needs_background": "light"
     },
     "output_type": "display_data"
    }
   ],
   "source": [
    "plt.figure(figsize=(10,9))\n",
    "plt.scatter(plot_testing[:,0], plot_testing[:,1], alpha = 0.1, c = y_test.ravel())\n",
    "contours = plt.contour(x_grid,y_grid,probability_contour)\n",
    "plt.title('Probability Contours')\n",
    "plt.clabel(contours, inline = True );"
   ]
  }
 ],
 "metadata": {
  "kernelspec": {
   "display_name": "Python 3",
   "language": "python",
   "name": "python3"
  },
  "language_info": {
   "codemirror_mode": {
    "name": "ipython",
    "version": 3
   },
   "file_extension": ".py",
   "mimetype": "text/x-python",
   "name": "python",
   "nbconvert_exporter": "python",
   "pygments_lexer": "ipython3",
   "version": "3.6.11"
  },
  "papermill": {
   "duration": 116.691028,
   "end_time": "2020-08-19T20:05:57.470786",
   "environment_variables": {},
   "exception": null,
   "input_path": "2020-08-11-NeuralNetwork.ipynb",
   "output_path": "2020-08-11-NeuralNetwork.ipynb",
   "parameters": {},
   "start_time": "2020-08-19T20:04:00.779758",
   "version": "2.1.2"
  }
 },
 "nbformat": 4,
 "nbformat_minor": 4
}