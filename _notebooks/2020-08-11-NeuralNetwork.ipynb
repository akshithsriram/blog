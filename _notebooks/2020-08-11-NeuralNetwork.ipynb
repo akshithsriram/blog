{
 "cells": [
  {
   "cell_type": "markdown",
   "metadata": {
    "papermill": {
     "duration": 0.035019,
     "end_time": "2020-09-26T10:04:51.374872",
     "exception": false,
     "start_time": "2020-09-26T10:04:51.339853",
     "status": "completed"
    },
    "tags": []
   },
   "source": [
    "# \"A Basic Neural Network: Differentiate Hand-Written Digits\"\n",
    "\n",
    "- badges: true\n",
    "- author: Akshith Sriram"
   ]
  },
  {
   "cell_type": "markdown",
   "metadata": {
    "papermill": {
     "duration": 0.026102,
     "end_time": "2020-09-26T10:04:51.427142",
     "exception": false,
     "start_time": "2020-09-26T10:04:51.401040",
     "status": "completed"
    },
    "tags": []
   },
   "source": [
    "### Key Objectives:\n",
    "- Building a neural network that differentiates two hand-written digits 3 and 8.\n",
    "- Comparing the results of this Neural Network (NN) to that of a Logistic Regression (LR) model.\n",
    "\n",
    "### Requirements:\n",
    "- 'Kudzu' : A neural network library that was designed during our course by [Univ.AI](www.univ.ai). \n",
    "- MNIST Database\n",
    "\n",
    "If MNIST is not installed, use the command `!pip install mnist` given below.\n",
    "It can be run both from the command line and Jupyter Notebook."
   ]
  },
  {
   "cell_type": "code",
   "execution_count": 1,
   "metadata": {
    "execution": {
     "iopub.execute_input": "2020-09-26T10:04:51.483055Z",
     "iopub.status.busy": "2020-09-26T10:04:51.482444Z",
     "iopub.status.idle": "2020-09-26T10:04:52.969595Z",
     "shell.execute_reply": "2020-09-26T10:04:52.970485Z"
    },
    "papermill": {
     "duration": 1.518045,
     "end_time": "2020-09-26T10:04:52.970786",
     "exception": false,
     "start_time": "2020-09-26T10:04:51.452741",
     "status": "completed"
    },
    "tags": []
   },
   "outputs": [
    {
     "name": "stdout",
     "output_type": "stream",
     "text": [
      "Collecting mnist\r\n"
     ]
    },
    {
     "name": "stdout",
     "output_type": "stream",
     "text": [
      "  Downloading mnist-0.2.2-py2.py3-none-any.whl (3.5 kB)\r\n"
     ]
    },
    {
     "name": "stdout",
     "output_type": "stream",
     "text": [
      "Requirement already satisfied: numpy in /opt/hostedtoolcache/Python/3.6.12/x64/lib/python3.6/site-packages (from mnist) (1.19.2)\r\n"
     ]
    },
    {
     "name": "stdout",
     "output_type": "stream",
     "text": [
      "Installing collected packages: mnist\r\n"
     ]
    },
    {
     "name": "stdout",
     "output_type": "stream",
     "text": [
      "Successfully installed mnist-0.2.2\r\n"
     ]
    }
   ],
   "source": [
    "!pip install mnist "
   ]
  },
  {
   "cell_type": "markdown",
   "metadata": {
    "papermill": {
     "duration": 0.027145,
     "end_time": "2020-09-26T10:04:53.026896",
     "exception": false,
     "start_time": "2020-09-26T10:04:52.999751",
     "status": "completed"
    },
    "tags": []
   },
   "source": [
    "#### Importing necessary libraries"
   ]
  },
  {
   "cell_type": "code",
   "execution_count": 2,
   "metadata": {
    "execution": {
     "iopub.execute_input": "2020-09-26T10:04:53.095641Z",
     "iopub.status.busy": "2020-09-26T10:04:53.095034Z",
     "iopub.status.idle": "2020-09-26T10:04:53.694885Z",
     "shell.execute_reply": "2020-09-26T10:04:53.694244Z"
    },
    "papermill": {
     "duration": 0.635562,
     "end_time": "2020-09-26T10:04:53.695056",
     "exception": false,
     "start_time": "2020-09-26T10:04:53.059494",
     "status": "completed"
    },
    "tags": []
   },
   "outputs": [],
   "source": [
    "%load_ext autoreload\n",
    "%autoreload 2\n",
    "\n",
    "%matplotlib inline\n",
    "import matplotlib.pyplot as plt\n",
    "\n",
    "import numpy as np\n",
    "import pandas as pd"
   ]
  },
  {
   "cell_type": "markdown",
   "metadata": {
    "papermill": {
     "duration": 0.028454,
     "end_time": "2020-09-26T10:04:53.752197",
     "exception": false,
     "start_time": "2020-09-26T10:04:53.723743",
     "status": "completed"
    },
    "tags": []
   },
   "source": [
    "### Preparing the Data"
   ]
  },
  {
   "cell_type": "code",
   "execution_count": 3,
   "metadata": {
    "execution": {
     "iopub.execute_input": "2020-09-26T10:04:53.811364Z",
     "iopub.status.busy": "2020-09-26T10:04:53.810765Z",
     "iopub.status.idle": "2020-09-26T10:04:53.822959Z",
     "shell.execute_reply": "2020-09-26T10:04:53.823422Z"
    },
    "papermill": {
     "duration": 0.042949,
     "end_time": "2020-09-26T10:04:53.823576",
     "exception": false,
     "start_time": "2020-09-26T10:04:53.780627",
     "status": "completed"
    },
    "tags": []
   },
   "outputs": [],
   "source": [
    "import mnist"
   ]
  },
  {
   "cell_type": "code",
   "execution_count": 4,
   "metadata": {
    "execution": {
     "iopub.execute_input": "2020-09-26T10:04:53.881295Z",
     "iopub.status.busy": "2020-09-26T10:04:53.880684Z",
     "iopub.status.idle": "2020-09-26T10:04:54.645611Z",
     "shell.execute_reply": "2020-09-26T10:04:54.645087Z"
    },
    "papermill": {
     "duration": 0.795583,
     "end_time": "2020-09-26T10:04:54.645784",
     "exception": false,
     "start_time": "2020-09-26T10:04:53.850201",
     "status": "completed"
    },
    "tags": []
   },
   "outputs": [],
   "source": [
    "train_images = mnist.train_images()\n",
    "train_labels = mnist.train_labels()"
   ]
  },
  {
   "cell_type": "code",
   "execution_count": 5,
   "metadata": {
    "execution": {
     "iopub.execute_input": "2020-09-26T10:04:54.705433Z",
     "iopub.status.busy": "2020-09-26T10:04:54.704101Z",
     "iopub.status.idle": "2020-09-26T10:04:54.720739Z",
     "shell.execute_reply": "2020-09-26T10:04:54.720230Z"
    },
    "papermill": {
     "duration": 0.048281,
     "end_time": "2020-09-26T10:04:54.720874",
     "exception": false,
     "start_time": "2020-09-26T10:04:54.672593",
     "status": "completed"
    },
    "tags": []
   },
   "outputs": [
    {
     "data": {
      "text/plain": [
       "((60000, 28, 28), (60000,))"
      ]
     },
     "execution_count": 5,
     "metadata": {},
     "output_type": "execute_result"
    }
   ],
   "source": [
    "train_images.shape, train_labels.shape"
   ]
  },
  {
   "cell_type": "code",
   "execution_count": 6,
   "metadata": {
    "execution": {
     "iopub.execute_input": "2020-09-26T10:04:54.779215Z",
     "iopub.status.busy": "2020-09-26T10:04:54.778602Z",
     "iopub.status.idle": "2020-09-26T10:04:55.026549Z",
     "shell.execute_reply": "2020-09-26T10:04:55.027058Z"
    },
    "papermill": {
     "duration": 0.279544,
     "end_time": "2020-09-26T10:04:55.027255",
     "exception": false,
     "start_time": "2020-09-26T10:04:54.747711",
     "status": "completed"
    },
    "tags": []
   },
   "outputs": [],
   "source": [
    "test_images = mnist.test_images()\n",
    "test_labels = mnist.test_labels()"
   ]
  },
  {
   "cell_type": "code",
   "execution_count": 7,
   "metadata": {
    "execution": {
     "iopub.execute_input": "2020-09-26T10:04:55.085896Z",
     "iopub.status.busy": "2020-09-26T10:04:55.085251Z",
     "iopub.status.idle": "2020-09-26T10:04:55.098608Z",
     "shell.execute_reply": "2020-09-26T10:04:55.098125Z"
    },
    "papermill": {
     "duration": 0.044046,
     "end_time": "2020-09-26T10:04:55.098743",
     "exception": false,
     "start_time": "2020-09-26T10:04:55.054697",
     "status": "completed"
    },
    "tags": []
   },
   "outputs": [
    {
     "data": {
      "text/plain": [
       "((10000, 28, 28), (10000,))"
      ]
     },
     "execution_count": 7,
     "metadata": {},
     "output_type": "execute_result"
    }
   ],
   "source": [
    "test_images.shape, test_labels.shape"
   ]
  },
  {
   "cell_type": "code",
   "execution_count": 8,
   "metadata": {
    "execution": {
     "iopub.execute_input": "2020-09-26T10:04:55.162152Z",
     "iopub.status.busy": "2020-09-26T10:04:55.161117Z",
     "iopub.status.idle": "2020-09-26T10:04:55.322184Z",
     "shell.execute_reply": "2020-09-26T10:04:55.322671Z"
    },
    "papermill": {
     "duration": 0.196554,
     "end_time": "2020-09-26T10:04:55.322841",
     "exception": false,
     "start_time": "2020-09-26T10:04:55.126287",
     "status": "completed"
    },
    "tags": []
   },
   "outputs": [
    {
     "name": "stdout",
     "output_type": "stream",
     "text": [
      "2\n"
     ]
    },
    {
     "data": {
      "text/plain": [
       "<matplotlib.image.AxesImage at 0x7fd705d517f0>"
      ]
     },
     "execution_count": 8,
     "metadata": {},
     "output_type": "execute_result"
    },
    {
     "data": {
      "image/png": "[encoded data removed]",
      "text/plain": [
       "<Figure size 432x288 with 1 Axes>"
      ]
     },
     "metadata": {
      "needs_background": "light"
     },
     "output_type": "display_data"
    }
   ],
   "source": [
    "image_index = 7776 # You may select anything up to 60,000\n",
    "print(train_labels[image_index]) \n",
    "plt.imshow(train_images[image_index], cmap='Greys')"
   ]
  },
  {
   "cell_type": "markdown",
   "metadata": {
    "papermill": {
     "duration": 0.476981,
     "end_time": "2020-09-26T10:04:55.828503",
     "exception": false,
     "start_time": "2020-09-26T10:04:55.351522",
     "status": "completed"
    },
    "tags": []
   },
   "source": [
    "## Filter data to get 3 and 8 out"
   ]
  },
  {
   "cell_type": "code",
   "execution_count": 9,
   "metadata": {
    "execution": {
     "iopub.execute_input": "2020-09-26T10:04:55.890274Z",
     "iopub.status.busy": "2020-09-26T10:04:55.889602Z",
     "iopub.status.idle": "2020-09-26T10:04:55.908789Z",
     "shell.execute_reply": "2020-09-26T10:04:55.909252Z"
    },
    "papermill": {
     "duration": 0.052323,
     "end_time": "2020-09-26T10:04:55.909414",
     "exception": false,
     "start_time": "2020-09-26T10:04:55.857091",
     "status": "completed"
    },
    "tags": []
   },
   "outputs": [],
   "source": [
    "train_filter = np.where((train_labels == 3 ) | (train_labels == 8))\n",
    "test_filter = np.where((test_labels == 3) | (test_labels == 8))\n",
    "X_train, y_train = train_images[train_filter], train_labels[train_filter]\n",
    "X_test, y_test = test_images[test_filter], test_labels[test_filter]"
   ]
  },
  {
   "cell_type": "markdown",
   "metadata": {
    "papermill": {
     "duration": 0.028166,
     "end_time": "2020-09-26T10:04:55.967561",
     "exception": false,
     "start_time": "2020-09-26T10:04:55.939395",
     "status": "completed"
    },
    "tags": []
   },
   "source": [
    "We normalize the pixel values in the 0 to 1 range"
   ]
  },
  {
   "cell_type": "code",
   "execution_count": 10,
   "metadata": {
    "execution": {
     "iopub.execute_input": "2020-09-26T10:04:56.037370Z",
     "iopub.status.busy": "2020-09-26T10:04:56.027230Z",
     "iopub.status.idle": "2020-09-26T10:04:56.077500Z",
     "shell.execute_reply": "2020-09-26T10:04:56.076972Z"
    },
    "papermill": {
     "duration": 0.081883,
     "end_time": "2020-09-26T10:04:56.077648",
     "exception": false,
     "start_time": "2020-09-26T10:04:55.995765",
     "status": "completed"
    },
    "tags": []
   },
   "outputs": [],
   "source": [
    "X_train = X_train/255.\n",
    "X_test = X_test/255."
   ]
  },
  {
   "cell_type": "markdown",
   "metadata": {
    "papermill": {
     "duration": 0.028304,
     "end_time": "2020-09-26T10:04:56.134537",
     "exception": false,
     "start_time": "2020-09-26T10:04:56.106233",
     "status": "completed"
    },
    "tags": []
   },
   "source": [
    "Setup the labels as 1 (when the digit is 3) and 0 (when the digit is 8)"
   ]
  },
  {
   "cell_type": "code",
   "execution_count": 11,
   "metadata": {
    "execution": {
     "iopub.execute_input": "2020-09-26T10:04:56.195215Z",
     "iopub.status.busy": "2020-09-26T10:04:56.194589Z",
     "iopub.status.idle": "2020-09-26T10:04:56.207203Z",
     "shell.execute_reply": "2020-09-26T10:04:56.206636Z"
    },
    "papermill": {
     "duration": 0.044631,
     "end_time": "2020-09-26T10:04:56.207334",
     "exception": false,
     "start_time": "2020-09-26T10:04:56.162703",
     "status": "completed"
    },
    "tags": []
   },
   "outputs": [],
   "source": [
    "y_train = 1*(y_train==3)\n",
    "y_test = 1*(y_test==3)"
   ]
  },
  {
   "cell_type": "code",
   "execution_count": 12,
   "metadata": {
    "execution": {
     "iopub.execute_input": "2020-09-26T10:04:56.268662Z",
     "iopub.status.busy": "2020-09-26T10:04:56.268060Z",
     "iopub.status.idle": "2020-09-26T10:04:56.282335Z",
     "shell.execute_reply": "2020-09-26T10:04:56.281819Z"
    },
    "papermill": {
     "duration": 0.046737,
     "end_time": "2020-09-26T10:04:56.282467",
     "exception": false,
     "start_time": "2020-09-26T10:04:56.235730",
     "status": "completed"
    },
    "tags": []
   },
   "outputs": [
    {
     "data": {
      "text/plain": [
       "((11982, 28, 28), (1984, 28, 28))"
      ]
     },
     "execution_count": 12,
     "metadata": {},
     "output_type": "execute_result"
    }
   ],
   "source": [
    "X_train.shape, X_test.shape"
   ]
  },
  {
   "cell_type": "markdown",
   "metadata": {
    "papermill": {
     "duration": 0.028549,
     "end_time": "2020-09-26T10:04:56.339598",
     "exception": false,
     "start_time": "2020-09-26T10:04:56.311049",
     "status": "completed"
    },
    "tags": []
   },
   "source": [
    "### Reshape the input data to create a linear array"
   ]
  },
  {
   "cell_type": "code",
   "execution_count": 13,
   "metadata": {
    "execution": {
     "iopub.execute_input": "2020-09-26T10:04:56.403649Z",
     "iopub.status.busy": "2020-09-26T10:04:56.403049Z",
     "iopub.status.idle": "2020-09-26T10:04:56.416178Z",
     "shell.execute_reply": "2020-09-26T10:04:56.415671Z"
    },
    "papermill": {
     "duration": 0.04802,
     "end_time": "2020-09-26T10:04:56.416307",
     "exception": false,
     "start_time": "2020-09-26T10:04:56.368287",
     "status": "completed"
    },
    "tags": []
   },
   "outputs": [
    {
     "data": {
      "text/plain": [
       "((11982, 784), (1984, 784))"
      ]
     },
     "execution_count": 13,
     "metadata": {},
     "output_type": "execute_result"
    }
   ],
   "source": [
    "X_train = X_train.reshape(X_train.shape[0], -1)\n",
    "X_test = X_test.reshape(X_test.shape[0], -1)\n",
    "X_train.shape, X_test.shape"
   ]
  },
  {
   "cell_type": "markdown",
   "metadata": {
    "papermill": {
     "duration": 0.029014,
     "end_time": "2020-09-26T10:04:56.474148",
     "exception": false,
     "start_time": "2020-09-26T10:04:56.445134",
     "status": "completed"
    },
    "tags": []
   },
   "source": [
    "### Importing appropriate functions from 'Kudzu'"
   ]
  },
  {
   "cell_type": "code",
   "execution_count": 14,
   "metadata": {
    "execution": {
     "iopub.execute_input": "2020-09-26T10:04:56.537238Z",
     "iopub.status.busy": "2020-09-26T10:04:56.536636Z",
     "iopub.status.idle": "2020-09-26T10:04:56.558104Z",
     "shell.execute_reply": "2020-09-26T10:04:56.557439Z"
    },
    "papermill": {
     "duration": 0.055179,
     "end_time": "2020-09-26T10:04:56.558279",
     "exception": false,
     "start_time": "2020-09-26T10:04:56.503100",
     "status": "completed"
    },
    "tags": []
   },
   "outputs": [],
   "source": [
    "from kudzu.layer import Sigmoid\n",
    "from kudzu.layer import Relu\n",
    "from kudzu.layer import Affine, Sigmoid\n",
    "\n",
    "from kudzu.model import Model\n",
    "from kudzu.train import Learner\n",
    "from kudzu.optim import GD\n",
    "from kudzu.data import Data, Dataloader, Sampler\n",
    "\n",
    "from kudzu.callbacks import AccCallback\n",
    "from kudzu.callbacks import ClfCallback\n",
    "\n",
    "from kudzu.loss import MSE"
   ]
  },
  {
   "cell_type": "markdown",
   "metadata": {
    "papermill": {
     "duration": 0.028696,
     "end_time": "2020-09-26T10:04:56.616943",
     "exception": false,
     "start_time": "2020-09-26T10:04:56.588247",
     "status": "completed"
    },
    "tags": []
   },
   "source": [
    "### Let us create a `Config` class, to store important parameters. \n",
    "This class essentially plays the role of a dictionary."
   ]
  },
  {
   "cell_type": "code",
   "execution_count": 15,
   "metadata": {
    "execution": {
     "iopub.execute_input": "2020-09-26T10:04:56.681341Z",
     "iopub.status.busy": "2020-09-26T10:04:56.680748Z",
     "iopub.status.idle": "2020-09-26T10:04:56.697207Z",
     "shell.execute_reply": "2020-09-26T10:04:56.696718Z"
    },
    "papermill": {
     "duration": 0.051288,
     "end_time": "2020-09-26T10:04:56.697343",
     "exception": false,
     "start_time": "2020-09-26T10:04:56.646055",
     "status": "completed"
    },
    "tags": []
   },
   "outputs": [],
   "source": [
    "class Config:\n",
    "    pass\n",
    "config = Config()\n",
    "config.lr = 0.001\n",
    "config.num_epochs = 251\n",
    "config.bs = 50"
   ]
  },
  {
   "cell_type": "markdown",
   "metadata": {
    "papermill": {
     "duration": 0.028897,
     "end_time": "2020-09-26T10:04:56.755055",
     "exception": false,
     "start_time": "2020-09-26T10:04:56.726158",
     "status": "completed"
    },
    "tags": []
   },
   "source": [
    "### Initializing data to the variables"
   ]
  },
  {
   "cell_type": "code",
   "execution_count": 16,
   "metadata": {
    "execution": {
     "iopub.execute_input": "2020-09-26T10:04:56.818220Z",
     "iopub.status.busy": "2020-09-26T10:04:56.817592Z",
     "iopub.status.idle": "2020-09-26T10:04:56.831213Z",
     "shell.execute_reply": "2020-09-26T10:04:56.831665Z"
    },
    "papermill": {
     "duration": 0.04787,
     "end_time": "2020-09-26T10:04:56.831824",
     "exception": false,
     "start_time": "2020-09-26T10:04:56.783954",
     "status": "completed"
    },
    "tags": []
   },
   "outputs": [],
   "source": [
    "data = Data(X_train, y_train.reshape(-1,1))\n",
    "sampler = Sampler(data, config.bs, shuffle=True)\n",
    "\n",
    "dl = Dataloader(data, sampler)\n",
    "\n",
    "opt = GD(config.lr)\n",
    "loss = MSE()"
   ]
  },
  {
   "cell_type": "code",
   "execution_count": 17,
   "metadata": {
    "execution": {
     "iopub.execute_input": "2020-09-26T10:04:56.895873Z",
     "iopub.status.busy": "2020-09-26T10:04:56.895267Z",
     "iopub.status.idle": "2020-09-26T10:04:56.910281Z",
     "shell.execute_reply": "2020-09-26T10:04:56.909757Z"
    },
    "papermill": {
     "duration": 0.049245,
     "end_time": "2020-09-26T10:04:56.910516",
     "exception": false,
     "start_time": "2020-09-26T10:04:56.861271",
     "status": "completed"
    },
    "tags": []
   },
   "outputs": [],
   "source": [
    "training_xdata = X_train\n",
    "testing_xdata = X_test\n",
    "training_ydata = y_train.reshape(-1,1)\n",
    "testing_ydata = y_test.reshape(-1,1)"
   ]
  },
  {
   "cell_type": "markdown",
   "metadata": {
    "papermill": {
     "duration": 0.029629,
     "end_time": "2020-09-26T10:04:56.971000",
     "exception": false,
     "start_time": "2020-09-26T10:04:56.941371",
     "status": "completed"
    },
    "tags": []
   },
   "source": [
    "### Running Models with the Training data\n",
    "Details about the network layers:\n",
    "- A first affine layer has 784 inputs and does 100 affine transforms. These are followed by a Relu\n",
    "- A second affine layer has 100 inputs from the 100 activations of the past layer, and does 100 affine transforms. These are followed by a Relu\n",
    "- A third affine layer has 100 activations and does 2 affine transformations to create an embedding for visualization. There is no non-linearity here.\n",
    "- A final \"logistic regression\" which has an affine transform from 2 inputs to 1 output, which is squeezed through a sigmoid.\n",
    "\n",
    "Help taken from Anshuman's Notebook."
   ]
  },
  {
   "cell_type": "code",
   "execution_count": 18,
   "metadata": {
    "execution": {
     "iopub.execute_input": "2020-09-26T10:04:57.037559Z",
     "iopub.status.busy": "2020-09-26T10:04:57.036955Z",
     "iopub.status.idle": "2020-09-26T10:04:57.054936Z",
     "shell.execute_reply": "2020-09-26T10:04:57.054406Z"
    },
    "papermill": {
     "duration": 0.053824,
     "end_time": "2020-09-26T10:04:57.055071",
     "exception": false,
     "start_time": "2020-09-26T10:04:57.001247",
     "status": "completed"
    },
    "tags": []
   },
   "outputs": [],
   "source": [
    "# layers for the Neural Network\n",
    "layers = [Affine(\"first\", 784, 100), Relu(\"first\"), Affine(\"second\", 100, 100), Relu(\"second\"), Affine(\"third\", 100, 2), Affine(\"final\", 2, 1), Sigmoid(\"final\")]\n",
    "model_nn = Model(layers)\n",
    "\n",
    "# layers for the Logistic Regression\n",
    "layers_lr = [Affine(\"logits\", 784, 1), Sigmoid(\"sigmoid\")]\n",
    "model_lr = Model(layers_lr)"
   ]
  },
  {
   "cell_type": "code",
   "execution_count": 19,
   "metadata": {
    "execution": {
     "iopub.execute_input": "2020-09-26T10:04:57.119535Z",
     "iopub.status.busy": "2020-09-26T10:04:57.118921Z",
     "iopub.status.idle": "2020-09-26T10:04:57.131841Z",
     "shell.execute_reply": "2020-09-26T10:04:57.132294Z"
    },
    "papermill": {
     "duration": 0.048442,
     "end_time": "2020-09-26T10:04:57.132449",
     "exception": false,
     "start_time": "2020-09-26T10:04:57.084007",
     "status": "completed"
    },
    "tags": []
   },
   "outputs": [],
   "source": [
    "# suffix _nn stands for Neural Network.\n",
    "learner_nn = Learner(loss, model_nn, opt, config.num_epochs)\n",
    "acc_nn = ClfCallback(learner_nn, config.bs, training_xdata , testing_xdata, training_ydata, testing_ydata)\n",
    "learner_nn.set_callbacks([acc_nn])"
   ]
  },
  {
   "cell_type": "code",
   "execution_count": 20,
   "metadata": {
    "execution": {
     "iopub.execute_input": "2020-09-26T10:04:57.193850Z",
     "iopub.status.busy": "2020-09-26T10:04:57.193222Z",
     "iopub.status.idle": "2020-09-26T10:06:27.355428Z",
     "shell.execute_reply": "2020-09-26T10:06:27.356255Z"
    },
    "papermill": {
     "duration": 90.195214,
     "end_time": "2020-09-26T10:06:27.356422",
     "exception": false,
     "start_time": "2020-09-26T10:04:57.161208",
     "status": "completed"
    },
    "tags": []
   },
   "outputs": [
    {
     "name": "stdout",
     "output_type": "stream",
     "text": [
      "====== Neural Network ======\n"
     ]
    },
    {
     "name": "stdout",
     "output_type": "stream",
     "text": [
      "Epoch 0, Loss 0.2499\n",
      "Training Accuracy: 0.5119, Testing Accuracy: 0.5091\n",
      "\n"
     ]
    },
    {
     "name": "stdout",
     "output_type": "stream",
     "text": [
      "Epoch 10, Loss 0.2473\n",
      "Training Accuracy: 0.5569, Testing Accuracy: 0.5675\n",
      "\n"
     ]
    },
    {
     "name": "stdout",
     "output_type": "stream",
     "text": [
      "Epoch 20, Loss 0.2333\n",
      "Training Accuracy: 0.8343, Testing Accuracy: 0.8478\n",
      "\n"
     ]
    },
    {
     "name": "stdout",
     "output_type": "stream",
     "text": [
      "Epoch 30, Loss 0.1484\n",
      "Training Accuracy: 0.9033, Testing Accuracy: 0.9128\n",
      "\n"
     ]
    },
    {
     "name": "stdout",
     "output_type": "stream",
     "text": [
      "Epoch 40, Loss 0.0728\n",
      "Training Accuracy: 0.9286, Testing Accuracy: 0.9405\n",
      "\n"
     ]
    },
    {
     "name": "stdout",
     "output_type": "stream",
     "text": [
      "Epoch 50, Loss 0.0519\n",
      "Training Accuracy: 0.9433, Testing Accuracy: 0.9541\n",
      "\n"
     ]
    },
    {
     "name": "stdout",
     "output_type": "stream",
     "text": [
      "Epoch 60, Loss 0.043\n",
      "Training Accuracy: 0.9523, Testing Accuracy: 0.9577\n",
      "\n"
     ]
    },
    {
     "name": "stdout",
     "output_type": "stream",
     "text": [
      "Epoch 70, Loss 0.038\n",
      "Training Accuracy: 0.9565, Testing Accuracy: 0.9607\n",
      "\n"
     ]
    },
    {
     "name": "stdout",
     "output_type": "stream",
     "text": [
      "Epoch 80, Loss 0.0349\n",
      "Training Accuracy: 0.9602, Testing Accuracy: 0.9652\n",
      "\n"
     ]
    },
    {
     "name": "stdout",
     "output_type": "stream",
     "text": [
      "Epoch 90, Loss 0.0326\n",
      "Training Accuracy: 0.9615, Testing Accuracy: 0.9682\n",
      "\n"
     ]
    },
    {
     "name": "stdout",
     "output_type": "stream",
     "text": [
      "Epoch 100, Loss 0.0308\n",
      "Training Accuracy: 0.9637, Testing Accuracy: 0.9677\n",
      "\n"
     ]
    },
    {
     "name": "stdout",
     "output_type": "stream",
     "text": [
      "Epoch 110, Loss 0.0294\n",
      "Training Accuracy: 0.9654, Testing Accuracy: 0.9677\n",
      "\n"
     ]
    },
    {
     "name": "stdout",
     "output_type": "stream",
     "text": [
      "Epoch 120, Loss 0.0283\n",
      "Training Accuracy: 0.9663, Testing Accuracy: 0.9688\n",
      "\n"
     ]
    },
    {
     "name": "stdout",
     "output_type": "stream",
     "text": [
      "Epoch 130, Loss 0.0272\n",
      "Training Accuracy: 0.9672, Testing Accuracy: 0.9693\n",
      "\n"
     ]
    },
    {
     "name": "stdout",
     "output_type": "stream",
     "text": [
      "Epoch 140, Loss 0.0264\n",
      "Training Accuracy: 0.9689, Testing Accuracy: 0.9693\n",
      "\n"
     ]
    },
    {
     "name": "stdout",
     "output_type": "stream",
     "text": [
      "Epoch 150, Loss 0.0256\n",
      "Training Accuracy: 0.9703, Testing Accuracy: 0.9698\n",
      "\n"
     ]
    },
    {
     "name": "stdout",
     "output_type": "stream",
     "text": [
      "Epoch 160, Loss 0.0249\n",
      "Training Accuracy: 0.9713, Testing Accuracy: 0.9703\n",
      "\n"
     ]
    },
    {
     "name": "stdout",
     "output_type": "stream",
     "text": [
      "Epoch 170, Loss 0.0242\n",
      "Training Accuracy: 0.9725, Testing Accuracy: 0.9708\n",
      "\n"
     ]
    },
    {
     "name": "stdout",
     "output_type": "stream",
     "text": [
      "Epoch 180, Loss 0.0236\n",
      "Training Accuracy: 0.9728, Testing Accuracy: 0.9718\n",
      "\n"
     ]
    },
    {
     "name": "stdout",
     "output_type": "stream",
     "text": [
      "Epoch 190, Loss 0.0231\n",
      "Training Accuracy: 0.9732, Testing Accuracy: 0.9723\n",
      "\n"
     ]
    },
    {
     "name": "stdout",
     "output_type": "stream",
     "text": [
      "Epoch 200, Loss 0.0225\n",
      "Training Accuracy: 0.9739, Testing Accuracy: 0.9718\n",
      "\n"
     ]
    },
    {
     "name": "stdout",
     "output_type": "stream",
     "text": [
      "Epoch 210, Loss 0.022\n",
      "Training Accuracy: 0.9744, Testing Accuracy: 0.9723\n",
      "\n"
     ]
    },
    {
     "name": "stdout",
     "output_type": "stream",
     "text": [
      "Epoch 220, Loss 0.0216\n",
      "Training Accuracy: 0.9748, Testing Accuracy: 0.9723\n",
      "\n"
     ]
    },
    {
     "name": "stdout",
     "output_type": "stream",
     "text": [
      "Epoch 230, Loss 0.0211\n",
      "Training Accuracy: 0.9754, Testing Accuracy: 0.9728\n",
      "\n"
     ]
    },
    {
     "name": "stdout",
     "output_type": "stream",
     "text": [
      "Epoch 240, Loss 0.0207\n",
      "Training Accuracy: 0.9760, Testing Accuracy: 0.9733\n",
      "\n"
     ]
    },
    {
     "name": "stdout",
     "output_type": "stream",
     "text": [
      "Epoch 250, Loss 0.0203\n",
      "Training Accuracy: 0.9769, Testing Accuracy: 0.9738\n",
      "\n"
     ]
    },
    {
     "data": {
      "text/plain": [
       "0.03296473058268984"
      ]
     },
     "execution_count": 20,
     "metadata": {},
     "output_type": "execute_result"
    }
   ],
   "source": [
    "print(\"====== Neural Network ======\")\n",
    "learner_nn.train_loop(dl)"
   ]
  },
  {
   "cell_type": "markdown",
   "metadata": {
    "papermill": {
     "duration": 0.056537,
     "end_time": "2020-09-26T10:06:27.455429",
     "exception": false,
     "start_time": "2020-09-26T10:06:27.398892",
     "status": "completed"
    },
    "tags": []
   },
   "source": [
    "### Logistic Regression based Implementation."
   ]
  },
  {
   "cell_type": "code",
   "execution_count": 21,
   "metadata": {
    "execution": {
     "iopub.execute_input": "2020-09-26T10:06:27.542004Z",
     "iopub.status.busy": "2020-09-26T10:06:27.541361Z",
     "iopub.status.idle": "2020-09-26T10:06:27.555368Z",
     "shell.execute_reply": "2020-09-26T10:06:27.555839Z"
    },
    "papermill": {
     "duration": 0.059095,
     "end_time": "2020-09-26T10:06:27.556006",
     "exception": false,
     "start_time": "2020-09-26T10:06:27.496911",
     "status": "completed"
    },
    "tags": []
   },
   "outputs": [],
   "source": [
    "learner_lr = Learner(loss, model_lr, opt, config.num_epochs)\n",
    "acc_lr = ClfCallback(learner_lr, config.bs, training_xdata , testing_xdata, training_ydata, testing_ydata)\n",
    "learner_lr.set_callbacks([acc_lr])"
   ]
  },
  {
   "cell_type": "code",
   "execution_count": 22,
   "metadata": {
    "execution": {
     "iopub.execute_input": "2020-09-26T10:06:27.637574Z",
     "iopub.status.busy": "2020-09-26T10:06:27.636305Z",
     "iopub.status.idle": "2020-09-26T10:06:46.033353Z",
     "shell.execute_reply": "2020-09-26T10:06:46.032863Z"
    },
    "papermill": {
     "duration": 18.439649,
     "end_time": "2020-09-26T10:06:46.033491",
     "exception": false,
     "start_time": "2020-09-26T10:06:27.593842",
     "status": "completed"
    },
    "tags": []
   },
   "outputs": [
    {
     "name": "stdout",
     "output_type": "stream",
     "text": [
      "====== Logistic Regression ======\n",
      "Epoch 0, Loss 0.2477\n",
      "Training Accuracy: 0.6248, Testing Accuracy: 0.6235\n",
      "\n"
     ]
    },
    {
     "name": "stdout",
     "output_type": "stream",
     "text": [
      "Epoch 10, Loss 0.1084\n",
      "Training Accuracy: 0.9004, Testing Accuracy: 0.9098\n",
      "\n"
     ]
    },
    {
     "name": "stdout",
     "output_type": "stream",
     "text": [
      "Epoch 20, Loss 0.0816\n",
      "Training Accuracy: 0.9243, Testing Accuracy: 0.9375\n",
      "\n"
     ]
    },
    {
     "name": "stdout",
     "output_type": "stream",
     "text": [
      "Epoch 30, Loss 0.0695\n",
      "Training Accuracy: 0.9361, Testing Accuracy: 0.9461\n",
      "\n"
     ]
    },
    {
     "name": "stdout",
     "output_type": "stream",
     "text": [
      "Epoch 40, Loss 0.0624\n",
      "Training Accuracy: 0.9413, Testing Accuracy: 0.9521\n",
      "\n"
     ]
    },
    {
     "name": "stdout",
     "output_type": "stream",
     "text": [
      "Epoch 50, Loss 0.0577\n",
      "Training Accuracy: 0.9442, Testing Accuracy: 0.9561\n",
      "\n"
     ]
    },
    {
     "name": "stdout",
     "output_type": "stream",
     "text": [
      "Epoch 60, Loss 0.0542\n",
      "Training Accuracy: 0.9473, Testing Accuracy: 0.9592\n",
      "\n"
     ]
    },
    {
     "name": "stdout",
     "output_type": "stream",
     "text": [
      "Epoch 70, Loss 0.0516\n",
      "Training Accuracy: 0.9495, Testing Accuracy: 0.9597\n",
      "\n"
     ]
    },
    {
     "name": "stdout",
     "output_type": "stream",
     "text": [
      "Epoch 80, Loss 0.0495\n",
      "Training Accuracy: 0.9513, Testing Accuracy: 0.9607\n",
      "\n"
     ]
    },
    {
     "name": "stdout",
     "output_type": "stream",
     "text": [
      "Epoch 90, Loss 0.0477\n",
      "Training Accuracy: 0.9521, Testing Accuracy: 0.9597\n",
      "\n"
     ]
    },
    {
     "name": "stdout",
     "output_type": "stream",
     "text": [
      "Epoch 100, Loss 0.0463\n",
      "Training Accuracy: 0.9534, Testing Accuracy: 0.9602\n",
      "\n"
     ]
    },
    {
     "name": "stdout",
     "output_type": "stream",
     "text": [
      "Epoch 110, Loss 0.045\n",
      "Training Accuracy: 0.9546, Testing Accuracy: 0.9612\n",
      "\n"
     ]
    },
    {
     "name": "stdout",
     "output_type": "stream",
     "text": [
      "Epoch 120, Loss 0.044\n",
      "Training Accuracy: 0.9553, Testing Accuracy: 0.9617\n",
      "\n"
     ]
    },
    {
     "name": "stdout",
     "output_type": "stream",
     "text": [
      "Epoch 130, Loss 0.043\n",
      "Training Accuracy: 0.9563, Testing Accuracy: 0.9627\n",
      "\n"
     ]
    },
    {
     "name": "stdout",
     "output_type": "stream",
     "text": [
      "Epoch 140, Loss 0.0422\n",
      "Training Accuracy: 0.9569, Testing Accuracy: 0.9627\n",
      "\n"
     ]
    },
    {
     "name": "stdout",
     "output_type": "stream",
     "text": [
      "Epoch 150, Loss 0.0414\n",
      "Training Accuracy: 0.9575, Testing Accuracy: 0.9632\n",
      "\n"
     ]
    },
    {
     "name": "stdout",
     "output_type": "stream",
     "text": [
      "Epoch 160, Loss 0.0408\n",
      "Training Accuracy: 0.9583, Testing Accuracy: 0.9632\n",
      "\n"
     ]
    },
    {
     "name": "stdout",
     "output_type": "stream",
     "text": [
      "Epoch 170, Loss 0.0401\n",
      "Training Accuracy: 0.9588, Testing Accuracy: 0.9637\n",
      "\n"
     ]
    },
    {
     "name": "stdout",
     "output_type": "stream",
     "text": [
      "Epoch 180, Loss 0.0396\n",
      "Training Accuracy: 0.9590, Testing Accuracy: 0.9642\n",
      "\n"
     ]
    },
    {
     "name": "stdout",
     "output_type": "stream",
     "text": [
      "Epoch 190, Loss 0.0391\n",
      "Training Accuracy: 0.9596, Testing Accuracy: 0.9647\n",
      "\n"
     ]
    },
    {
     "name": "stdout",
     "output_type": "stream",
     "text": [
      "Epoch 200, Loss 0.0386\n",
      "Training Accuracy: 0.9602, Testing Accuracy: 0.9657\n",
      "\n"
     ]
    },
    {
     "name": "stdout",
     "output_type": "stream",
     "text": [
      "Epoch 210, Loss 0.0381\n",
      "Training Accuracy: 0.9605, Testing Accuracy: 0.9672\n",
      "\n"
     ]
    },
    {
     "name": "stdout",
     "output_type": "stream",
     "text": [
      "Epoch 220, Loss 0.0377\n",
      "Training Accuracy: 0.9606, Testing Accuracy: 0.9667\n",
      "\n"
     ]
    },
    {
     "name": "stdout",
     "output_type": "stream",
     "text": [
      "Epoch 230, Loss 0.0373\n",
      "Training Accuracy: 0.9609, Testing Accuracy: 0.9667\n",
      "\n"
     ]
    },
    {
     "name": "stdout",
     "output_type": "stream",
     "text": [
      "Epoch 240, Loss 0.037\n",
      "Training Accuracy: 0.9612, Testing Accuracy: 0.9667\n",
      "\n"
     ]
    },
    {
     "name": "stdout",
     "output_type": "stream",
     "text": [
      "Epoch 250, Loss 0.0366\n",
      "Training Accuracy: 0.9615, Testing Accuracy: 0.9672\n",
      "\n"
     ]
    },
    {
     "data": {
      "text/plain": [
       "0.04132252730352624"
      ]
     },
     "execution_count": 22,
     "metadata": {},
     "output_type": "execute_result"
    }
   ],
   "source": [
    "print(\"====== Logistic Regression ======\")\n",
    "learner_lr.train_loop(dl)"
   ]
  },
  {
   "cell_type": "markdown",
   "metadata": {
    "papermill": {
     "duration": 0.044077,
     "end_time": "2020-09-26T10:06:46.123172",
     "exception": false,
     "start_time": "2020-09-26T10:06:46.079095",
     "status": "completed"
    },
    "tags": []
   },
   "source": [
    "### Comparing results of NN and LR"
   ]
  },
  {
   "cell_type": "code",
   "execution_count": 23,
   "metadata": {
    "execution": {
     "iopub.execute_input": "2020-09-26T10:06:46.219221Z",
     "iopub.status.busy": "2020-09-26T10:06:46.217727Z",
     "iopub.status.idle": "2020-09-26T10:06:46.475687Z",
     "shell.execute_reply": "2020-09-26T10:06:46.475158Z"
    },
    "papermill": {
     "duration": 0.308288,
     "end_time": "2020-09-26T10:06:46.475827",
     "exception": false,
     "start_time": "2020-09-26T10:06:46.167539",
     "status": "completed"
    },
    "tags": []
   },
   "outputs": [
    {
     "data": {
      "text/plain": [
       "<matplotlib.legend.Legend at 0x7fd6ff10a2e8>"
      ]
     },
     "execution_count": 23,
     "metadata": {},
     "output_type": "execute_result"
    },
    {
     "data": {
      "image/png": "[encoded data removed]",
      "text/plain": [
       "<Figure size 1080x720 with 1 Axes>"
      ]
     },
     "metadata": {
      "needs_background": "light"
     },
     "output_type": "display_data"
    }
   ],
   "source": [
    "plt.figure(figsize=(15,10))\n",
    "\n",
    "# Neural Network plots\n",
    "plt.plot(acc_nn.accuracies, 'r-', label = \"Training Accuracies - NN\")\n",
    "plt.plot(acc_nn.test_accuracies, 'g-', label = \"Testing Accuracies - NN\")\n",
    "\n",
    "# Logistic Regression plots\n",
    "plt.plot(acc_lr.accuracies, 'k-', label = \"Training Accuracies - LR\")\n",
    "plt.plot(acc_lr.test_accuracies, 'b-', label = \"Testing Accuracies - LR\")\n",
    "\n",
    "plt.ylim(0.8, 1)\n",
    "\n",
    "plt.legend()\n",
    "\n"
   ]
  },
  {
   "cell_type": "markdown",
   "metadata": {
    "papermill": {
     "duration": 0.047702,
     "end_time": "2020-09-26T10:06:46.572513",
     "exception": false,
     "start_time": "2020-09-26T10:06:46.524811",
     "status": "completed"
    },
    "tags": []
   },
   "source": [
    "### From the plot, we can observe the following:\n",
    "- Neural Network achieves higher accuracy than the Logistic Regression model.\n",
    "- This apparently, is because of overfitting, i.e. NN captures more noise than data.\n",
    "- Testing accuracy of NN drops below the Training accuracy at higher epochs. This explains the over-fitting on training data.\n",
    "- Logistic Regression gives a reliable accuracy, without the above mentioned problem.\n"
   ]
  },
  {
   "cell_type": "markdown",
   "metadata": {
    "papermill": {
     "duration": 0.04678,
     "end_time": "2020-09-26T10:06:46.668376",
     "exception": false,
     "start_time": "2020-09-26T10:06:46.621596",
     "status": "completed"
    },
    "tags": []
   },
   "source": [
    "### Moving till the last but one layer (excluding it).\n",
    "#### Plotting the outputs of this layer of the NN."
   ]
  },
  {
   "cell_type": "code",
   "execution_count": 24,
   "metadata": {
    "execution": {
     "iopub.execute_input": "2020-09-26T10:06:46.767849Z",
     "iopub.status.busy": "2020-09-26T10:06:46.766816Z",
     "iopub.status.idle": "2020-09-26T10:06:46.779645Z",
     "shell.execute_reply": "2020-09-26T10:06:46.778734Z"
    },
    "papermill": {
     "duration": 0.065314,
     "end_time": "2020-09-26T10:06:46.780038",
     "exception": false,
     "start_time": "2020-09-26T10:06:46.714724",
     "status": "completed"
    },
    "tags": []
   },
   "outputs": [],
   "source": [
    "model_new = Model(layers[:-2])"
   ]
  },
  {
   "cell_type": "code",
   "execution_count": 25,
   "metadata": {
    "execution": {
     "iopub.execute_input": "2020-09-26T10:06:46.877226Z",
     "iopub.status.busy": "2020-09-26T10:06:46.876634Z",
     "iopub.status.idle": "2020-09-26T10:06:46.897821Z",
     "shell.execute_reply": "2020-09-26T10:06:46.898332Z"
    },
    "papermill": {
     "duration": 0.071533,
     "end_time": "2020-09-26T10:06:46.898492",
     "exception": false,
     "start_time": "2020-09-26T10:06:46.826959",
     "status": "completed"
    },
    "tags": []
   },
   "outputs": [],
   "source": [
    "plot_testing = model_new(testing_xdata)"
   ]
  },
  {
   "cell_type": "code",
   "execution_count": 26,
   "metadata": {
    "execution": {
     "iopub.execute_input": "2020-09-26T10:06:47.001593Z",
     "iopub.status.busy": "2020-09-26T10:06:47.000587Z",
     "iopub.status.idle": "2020-09-26T10:06:47.219481Z",
     "shell.execute_reply": "2020-09-26T10:06:47.219964Z"
    },
    "papermill": {
     "duration": 0.275139,
     "end_time": "2020-09-26T10:06:47.220124",
     "exception": false,
     "start_time": "2020-09-26T10:06:46.944985",
     "status": "completed"
    },
    "tags": []
   },
   "outputs": [
    {
     "data": {
      "text/plain": [
       "Text(0.5, 1.0, 'Outputs')"
      ]
     },
     "execution_count": 26,
     "metadata": {},
     "output_type": "execute_result"
    },
    {
     "data": {
      "image/png": "[encoded data removed]",
      "text/plain": [
       "<Figure size 576x504 with 1 Axes>"
      ]
     },
     "metadata": {
      "needs_background": "light"
     },
     "output_type": "display_data"
    }
   ],
   "source": [
    "plt.figure(figsize=(8,7))\n",
    "plt.scatter(plot_testing[:,0], plot_testing[:,1], alpha = 0.1, c = y_test.ravel());\n",
    "plt.title('Outputs')"
   ]
  },
  {
   "cell_type": "markdown",
   "metadata": {
    "papermill": {
     "duration": 0.04917,
     "end_time": "2020-09-26T10:06:47.318879",
     "exception": false,
     "start_time": "2020-09-26T10:06:47.269709",
     "status": "completed"
    },
    "tags": []
   },
   "source": [
    "### Plotting probability contours"
   ]
  },
  {
   "cell_type": "code",
   "execution_count": 27,
   "metadata": {
    "execution": {
     "iopub.execute_input": "2020-09-26T10:06:47.421485Z",
     "iopub.status.busy": "2020-09-26T10:06:47.420888Z",
     "iopub.status.idle": "2020-09-26T10:06:47.433637Z",
     "shell.execute_reply": "2020-09-26T10:06:47.434159Z"
    },
    "papermill": {
     "duration": 0.066573,
     "end_time": "2020-09-26T10:06:47.434315",
     "exception": false,
     "start_time": "2020-09-26T10:06:47.367742",
     "status": "completed"
    },
    "tags": []
   },
   "outputs": [],
   "source": [
    "model_prob = Model(layers[-2:]) "
   ]
  },
  {
   "cell_type": "code",
   "execution_count": 28,
   "metadata": {
    "execution": {
     "iopub.execute_input": "2020-09-26T10:06:47.538846Z",
     "iopub.status.busy": "2020-09-26T10:06:47.538246Z",
     "iopub.status.idle": "2020-09-26T10:06:47.553846Z",
     "shell.execute_reply": "2020-09-26T10:06:47.554307Z"
    },
    "papermill": {
     "duration": 0.071144,
     "end_time": "2020-09-26T10:06:47.554465",
     "exception": false,
     "start_time": "2020-09-26T10:06:47.483321",
     "status": "completed"
    },
    "tags": []
   },
   "outputs": [],
   "source": [
    "# Adjust the x and y ranges according to the above generated plot.\n",
    "x_range = np.linspace(-4, 1, 100) \n",
    "y_range = np.linspace(-6, 6, 100) \n",
    "x_grid, y_grid = np.meshgrid(x_range, y_range) # x_grid and y_grig are of size 100 X 100\n",
    "\n",
    "# converting x_grid and y_grid to continuous arrays\n",
    "x_grid_flat = np.ravel(x_grid)\n",
    "y_grid_flat = np.ravel(y_grid)\n",
    "\n",
    "# The last layer of the current model takes two columns as input. Hence transpose of np.vstack() is required.\n",
    "X = np.vstack((x_grid_flat, y_grid_flat)).T\n",
    "\n",
    "# x_grid and y_grid are of size 100 x 100\n",
    "probability_contour = model_prob(X).reshape(100,100) "
   ]
  },
  {
   "cell_type": "code",
   "execution_count": 29,
   "metadata": {
    "execution": {
     "iopub.execute_input": "2020-09-26T10:06:47.675426Z",
     "iopub.status.busy": "2020-09-26T10:06:47.674800Z",
     "iopub.status.idle": "2020-09-26T10:06:47.941313Z",
     "shell.execute_reply": "2020-09-26T10:06:47.940417Z"
    },
    "papermill": {
     "duration": 0.336378,
     "end_time": "2020-09-26T10:06:47.941458",
     "exception": false,
     "start_time": "2020-09-26T10:06:47.605080",
     "status": "completed"
    },
    "tags": []
   },
   "outputs": [
    {
     "data": {
      "image/png": "[encoded data removed]",
      "text/plain": [
       "<Figure size 720x648 with 1 Axes>"
      ]
     },
     "metadata": {
      "needs_background": "light"
     },
     "output_type": "display_data"
    }
   ],
   "source": [
    "plt.figure(figsize=(10,9))\n",
    "plt.scatter(plot_testing[:,0], plot_testing[:,1], alpha = 0.1, c = y_test.ravel())\n",
    "contours = plt.contour(x_grid,y_grid,probability_contour)\n",
    "plt.title('Probability Contours')\n",
    "plt.clabel(contours, inline = True );"
   ]
  }
 ],
 "metadata": {
  "kernelspec": {
   "display_name": "Python 3",
   "language": "python",
   "name": "python3"
  },
  "language_info": {
   "codemirror_mode": {
    "name": "ipython",
    "version": 3
   },
   "file_extension": ".py",
   "mimetype": "text/x-python",
   "name": "python",
   "nbconvert_exporter": "python",
   "pygments_lexer": "ipython3",
   "version": "3.6.12"
  },
  "papermill": {
   "duration": 118.16586,
   "end_time": "2020-09-26T10:06:48.402487",
   "environment_variables": {},
   "exception": null,
   "input_path": "2020-08-11-NeuralNetwork.ipynb",
   "output_path": "2020-08-11-NeuralNetwork.ipynb",
   "parameters": {},
   "start_time": "2020-09-26T10:04:50.236627",
   "version": "2.1.2"
  }
 },
 "nbformat": 4,
 "nbformat_minor": 4
}