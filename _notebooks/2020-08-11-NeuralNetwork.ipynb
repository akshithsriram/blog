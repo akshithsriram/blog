{
 "cells": [
  {
   "cell_type": "markdown",
   "metadata": {
    "papermill": {
     "duration": 0.030272,
     "end_time": "2021-01-14T00:38:46.222942",
     "exception": false,
     "start_time": "2021-01-14T00:38:46.192670",
     "status": "completed"
    },
    "tags": []
   },
   "source": [
    "# \"A Basic Neural Network: Differentiate Hand-Written Digits\"\n",
    "\n",
    "- badges: true\n",
    "- author: Akshith Sriram"
   ]
  },
  {
   "cell_type": "markdown",
   "metadata": {
    "papermill": {
     "duration": 0.027163,
     "end_time": "2021-01-14T00:38:46.277862",
     "exception": false,
     "start_time": "2021-01-14T00:38:46.250699",
     "status": "completed"
    },
    "tags": []
   },
   "source": [
    "### Key Objectives:\n",
    "- Building a neural network that differentiates two hand-written digits 3 and 8.\n",
    "- Comparing the results of this Neural Network (NN) to that of a Logistic Regression (LR) model.\n",
    "\n",
    "### Requirements:\n",
    "- 'Kudzu' : A neural network library that was designed during our course by [Univ.AI](www.univ.ai). \n",
    "- MNIST Database\n",
    "\n",
    "If MNIST is not installed, use the command `!pip install mnist` given below.\n",
    "It can be run both from the command line and Jupyter Notebook."
   ]
  },
  {
   "cell_type": "code",
   "execution_count": 1,
   "metadata": {
    "execution": {
     "iopub.execute_input": "2021-01-14T00:38:46.342677Z",
     "iopub.status.busy": "2021-01-14T00:38:46.341578Z",
     "iopub.status.idle": "2021-01-14T00:38:48.290720Z",
     "shell.execute_reply": "2021-01-14T00:38:48.288688Z"
    },
    "papermill": {
     "duration": 1.987614,
     "end_time": "2021-01-14T00:38:48.290895",
     "exception": false,
     "start_time": "2021-01-14T00:38:46.303281",
     "status": "completed"
    },
    "tags": []
   },
   "outputs": [
    {
     "name": "stdout",
     "output_type": "stream",
     "text": [
      "Collecting mnist\r\n"
     ]
    },
    {
     "name": "stdout",
     "output_type": "stream",
     "text": [
      "  Downloading mnist-0.2.2-py2.py3-none-any.whl (3.5 kB)\r\n",
      "Requirement already satisfied: numpy in /opt/hostedtoolcache/Python/3.6.12/x64/lib/python3.6/site-packages (from mnist) (1.19.5)\r\n"
     ]
    },
    {
     "name": "stdout",
     "output_type": "stream",
     "text": [
      "Installing collected packages: mnist\r\n"
     ]
    },
    {
     "name": "stdout",
     "output_type": "stream",
     "text": [
      "Successfully installed mnist-0.2.2\r\n"
     ]
    },
    {
     "name": "stdout",
     "output_type": "stream",
     "text": [
      "\u001b[33mWARNING: You are using pip version 20.3.1; however, version 20.3.3 is available.\r\n",
      "You should consider upgrading via the '/opt/hostedtoolcache/Python/3.6.12/x64/bin/python -m pip install --upgrade pip' command.\u001b[0m\r\n"
     ]
    }
   ],
   "source": [
    "!pip install mnist "
   ]
  },
  {
   "cell_type": "markdown",
   "metadata": {
    "papermill": {
     "duration": 0.027068,
     "end_time": "2021-01-14T00:38:48.345174",
     "exception": false,
     "start_time": "2021-01-14T00:38:48.318106",
     "status": "completed"
    },
    "tags": []
   },
   "source": [
    "#### Importing necessary libraries"
   ]
  },
  {
   "cell_type": "code",
   "execution_count": 2,
   "metadata": {
    "execution": {
     "iopub.execute_input": "2021-01-14T00:38:48.407032Z",
     "iopub.status.busy": "2021-01-14T00:38:48.406398Z",
     "iopub.status.idle": "2021-01-14T00:38:49.010539Z",
     "shell.execute_reply": "2021-01-14T00:38:49.009982Z"
    },
    "papermill": {
     "duration": 0.638679,
     "end_time": "2021-01-14T00:38:49.010690",
     "exception": false,
     "start_time": "2021-01-14T00:38:48.372011",
     "status": "completed"
    },
    "tags": []
   },
   "outputs": [],
   "source": [
    "%load_ext autoreload\n",
    "%autoreload 2\n",
    "\n",
    "%matplotlib inline\n",
    "import matplotlib.pyplot as plt\n",
    "\n",
    "import numpy as np\n",
    "import pandas as pd"
   ]
  },
  {
   "cell_type": "markdown",
   "metadata": {
    "papermill": {
     "duration": 0.027865,
     "end_time": "2021-01-14T00:38:49.066037",
     "exception": false,
     "start_time": "2021-01-14T00:38:49.038172",
     "status": "completed"
    },
    "tags": []
   },
   "source": [
    "### Preparing the Data"
   ]
  },
  {
   "cell_type": "code",
   "execution_count": 3,
   "metadata": {
    "execution": {
     "iopub.execute_input": "2021-01-14T00:38:49.125751Z",
     "iopub.status.busy": "2021-01-14T00:38:49.124706Z",
     "iopub.status.idle": "2021-01-14T00:38:49.137819Z",
     "shell.execute_reply": "2021-01-14T00:38:49.137301Z"
    },
    "papermill": {
     "duration": 0.044792,
     "end_time": "2021-01-14T00:38:49.137970",
     "exception": false,
     "start_time": "2021-01-14T00:38:49.093178",
     "status": "completed"
    },
    "tags": []
   },
   "outputs": [],
   "source": [
    "import mnist"
   ]
  },
  {
   "cell_type": "code",
   "execution_count": 4,
   "metadata": {
    "execution": {
     "iopub.execute_input": "2021-01-14T00:38:49.196162Z",
     "iopub.status.busy": "2021-01-14T00:38:49.195531Z",
     "iopub.status.idle": "2021-01-14T00:38:53.530961Z",
     "shell.execute_reply": "2021-01-14T00:38:53.530178Z"
    },
    "papermill": {
     "duration": 4.366104,
     "end_time": "2021-01-14T00:38:53.531097",
     "exception": false,
     "start_time": "2021-01-14T00:38:49.164993",
     "status": "completed"
    },
    "tags": []
   },
   "outputs": [],
   "source": [
    "train_images = mnist.train_images()\n",
    "train_labels = mnist.train_labels()"
   ]
  },
  {
   "cell_type": "code",
   "execution_count": 5,
   "metadata": {
    "execution": {
     "iopub.execute_input": "2021-01-14T00:38:53.591083Z",
     "iopub.status.busy": "2021-01-14T00:38:53.590482Z",
     "iopub.status.idle": "2021-01-14T00:38:53.606370Z",
     "shell.execute_reply": "2021-01-14T00:38:53.605855Z"
    },
    "papermill": {
     "duration": 0.048473,
     "end_time": "2021-01-14T00:38:53.606504",
     "exception": false,
     "start_time": "2021-01-14T00:38:53.558031",
     "status": "completed"
    },
    "tags": []
   },
   "outputs": [
    {
     "data": {
      "text/plain": [
       "((60000, 28, 28), (60000,))"
      ]
     },
     "execution_count": 5,
     "metadata": {},
     "output_type": "execute_result"
    }
   ],
   "source": [
    "train_images.shape, train_labels.shape"
   ]
  },
  {
   "cell_type": "code",
   "execution_count": 6,
   "metadata": {
    "execution": {
     "iopub.execute_input": "2021-01-14T00:38:53.666026Z",
     "iopub.status.busy": "2021-01-14T00:38:53.665425Z",
     "iopub.status.idle": "2021-01-14T00:38:55.476214Z",
     "shell.execute_reply": "2021-01-14T00:38:55.475670Z"
    },
    "papermill": {
     "duration": 1.842058,
     "end_time": "2021-01-14T00:38:55.476361",
     "exception": false,
     "start_time": "2021-01-14T00:38:53.634303",
     "status": "completed"
    },
    "tags": []
   },
   "outputs": [],
   "source": [
    "test_images = mnist.test_images()\n",
    "test_labels = mnist.test_labels()"
   ]
  },
  {
   "cell_type": "code",
   "execution_count": 7,
   "metadata": {
    "execution": {
     "iopub.execute_input": "2021-01-14T00:38:55.536521Z",
     "iopub.status.busy": "2021-01-14T00:38:55.535815Z",
     "iopub.status.idle": "2021-01-14T00:38:55.549944Z",
     "shell.execute_reply": "2021-01-14T00:38:55.549374Z"
    },
    "papermill": {
     "duration": 0.045354,
     "end_time": "2021-01-14T00:38:55.550087",
     "exception": false,
     "start_time": "2021-01-14T00:38:55.504733",
     "status": "completed"
    },
    "tags": []
   },
   "outputs": [
    {
     "data": {
      "text/plain": [
       "((10000, 28, 28), (10000,))"
      ]
     },
     "execution_count": 7,
     "metadata": {},
     "output_type": "execute_result"
    }
   ],
   "source": [
    "test_images.shape, test_labels.shape"
   ]
  },
  {
   "cell_type": "code",
   "execution_count": 8,
   "metadata": {
    "execution": {
     "iopub.execute_input": "2021-01-14T00:38:55.617802Z",
     "iopub.status.busy": "2021-01-14T00:38:55.617037Z",
     "iopub.status.idle": "2021-01-14T00:38:55.766951Z",
     "shell.execute_reply": "2021-01-14T00:38:55.767490Z"
    },
    "papermill": {
     "duration": 0.186407,
     "end_time": "2021-01-14T00:38:55.767699",
     "exception": false,
     "start_time": "2021-01-14T00:38:55.581292",
     "status": "completed"
    },
    "tags": []
   },
   "outputs": [
    {
     "name": "stdout",
     "output_type": "stream",
     "text": [
      "2\n"
     ]
    },
    {
     "data": {
      "text/plain": [
       "<matplotlib.image.AxesImage at 0x7f0bc8a5e3c8>"
      ]
     },
     "execution_count": 8,
     "metadata": {},
     "output_type": "execute_result"
    },
    {
     "data": {
      "image/png": "[encoded data removed]",
      "text/plain": [
       "<Figure size 432x288 with 1 Axes>"
      ]
     },
     "metadata": {
      "needs_background": "light"
     },
     "output_type": "display_data"
    }
   ],
   "source": [
    "image_index = 7776 # You may select anything up to 60,000\n",
    "print(train_labels[image_index]) \n",
    "plt.imshow(train_images[image_index], cmap='Greys')"
   ]
  },
  {
   "cell_type": "markdown",
   "metadata": {
    "papermill": {
     "duration": 0.036145,
     "end_time": "2021-01-14T00:38:55.834389",
     "exception": false,
     "start_time": "2021-01-14T00:38:55.798244",
     "status": "completed"
    },
    "tags": []
   },
   "source": [
    "## Filter data to get 3 and 8 out"
   ]
  },
  {
   "cell_type": "code",
   "execution_count": 9,
   "metadata": {
    "execution": {
     "iopub.execute_input": "2021-01-14T00:38:55.907869Z",
     "iopub.status.busy": "2021-01-14T00:38:55.907204Z",
     "iopub.status.idle": "2021-01-14T00:38:55.926989Z",
     "shell.execute_reply": "2021-01-14T00:38:55.926068Z"
    },
    "papermill": {
     "duration": 0.059013,
     "end_time": "2021-01-14T00:38:55.927207",
     "exception": false,
     "start_time": "2021-01-14T00:38:55.868194",
     "status": "completed"
    },
    "tags": []
   },
   "outputs": [],
   "source": [
    "train_filter = np.where((train_labels == 3 ) | (train_labels == 8))\n",
    "test_filter = np.where((test_labels == 3) | (test_labels == 8))\n",
    "X_train, y_train = train_images[train_filter], train_labels[train_filter]\n",
    "X_test, y_test = test_images[test_filter], test_labels[test_filter]"
   ]
  },
  {
   "cell_type": "markdown",
   "metadata": {
    "papermill": {
     "duration": 0.0285,
     "end_time": "2021-01-14T00:38:55.986636",
     "exception": false,
     "start_time": "2021-01-14T00:38:55.958136",
     "status": "completed"
    },
    "tags": []
   },
   "source": [
    "We normalize the pixel values in the 0 to 1 range"
   ]
  },
  {
   "cell_type": "code",
   "execution_count": 10,
   "metadata": {
    "execution": {
     "iopub.execute_input": "2021-01-14T00:38:56.048362Z",
     "iopub.status.busy": "2021-01-14T00:38:56.047762Z",
     "iopub.status.idle": "2021-01-14T00:38:56.103490Z",
     "shell.execute_reply": "2021-01-14T00:38:56.102825Z"
    },
    "papermill": {
     "duration": 0.088642,
     "end_time": "2021-01-14T00:38:56.103650",
     "exception": false,
     "start_time": "2021-01-14T00:38:56.015008",
     "status": "completed"
    },
    "tags": []
   },
   "outputs": [],
   "source": [
    "X_train = X_train/255.\n",
    "X_test = X_test/255."
   ]
  },
  {
   "cell_type": "markdown",
   "metadata": {
    "papermill": {
     "duration": 0.028523,
     "end_time": "2021-01-14T00:38:56.160780",
     "exception": false,
     "start_time": "2021-01-14T00:38:56.132257",
     "status": "completed"
    },
    "tags": []
   },
   "source": [
    "Setup the labels as 1 (when the digit is 3) and 0 (when the digit is 8)"
   ]
  },
  {
   "cell_type": "code",
   "execution_count": 11,
   "metadata": {
    "execution": {
     "iopub.execute_input": "2021-01-14T00:38:56.222242Z",
     "iopub.status.busy": "2021-01-14T00:38:56.221629Z",
     "iopub.status.idle": "2021-01-14T00:38:56.236247Z",
     "shell.execute_reply": "2021-01-14T00:38:56.235690Z"
    },
    "papermill": {
     "duration": 0.047161,
     "end_time": "2021-01-14T00:38:56.236385",
     "exception": false,
     "start_time": "2021-01-14T00:38:56.189224",
     "status": "completed"
    },
    "tags": []
   },
   "outputs": [],
   "source": [
    "y_train = 1*(y_train==3)\n",
    "y_test = 1*(y_test==3)"
   ]
  },
  {
   "cell_type": "code",
   "execution_count": 12,
   "metadata": {
    "execution": {
     "iopub.execute_input": "2021-01-14T00:38:56.298379Z",
     "iopub.status.busy": "2021-01-14T00:38:56.297780Z",
     "iopub.status.idle": "2021-01-14T00:38:56.312350Z",
     "shell.execute_reply": "2021-01-14T00:38:56.312804Z"
    },
    "papermill": {
     "duration": 0.047449,
     "end_time": "2021-01-14T00:38:56.312963",
     "exception": false,
     "start_time": "2021-01-14T00:38:56.265514",
     "status": "completed"
    },
    "tags": []
   },
   "outputs": [
    {
     "data": {
      "text/plain": [
       "((11982, 28, 28), (1984, 28, 28))"
      ]
     },
     "execution_count": 12,
     "metadata": {},
     "output_type": "execute_result"
    }
   ],
   "source": [
    "X_train.shape, X_test.shape"
   ]
  },
  {
   "cell_type": "markdown",
   "metadata": {
    "papermill": {
     "duration": 0.028896,
     "end_time": "2021-01-14T00:38:56.370907",
     "exception": false,
     "start_time": "2021-01-14T00:38:56.342011",
     "status": "completed"
    },
    "tags": []
   },
   "source": [
    "### Reshape the input data to create a linear array"
   ]
  },
  {
   "cell_type": "code",
   "execution_count": 13,
   "metadata": {
    "execution": {
     "iopub.execute_input": "2021-01-14T00:38:56.434511Z",
     "iopub.status.busy": "2021-01-14T00:38:56.433895Z",
     "iopub.status.idle": "2021-01-14T00:38:56.449984Z",
     "shell.execute_reply": "2021-01-14T00:38:56.450450Z"
    },
    "papermill": {
     "duration": 0.050695,
     "end_time": "2021-01-14T00:38:56.450611",
     "exception": false,
     "start_time": "2021-01-14T00:38:56.399916",
     "status": "completed"
    },
    "tags": []
   },
   "outputs": [
    {
     "data": {
      "text/plain": [
       "((11982, 784), (1984, 784))"
      ]
     },
     "execution_count": 13,
     "metadata": {},
     "output_type": "execute_result"
    }
   ],
   "source": [
    "X_train = X_train.reshape(X_train.shape[0], -1)\n",
    "X_test = X_test.reshape(X_test.shape[0], -1)\n",
    "X_train.shape, X_test.shape"
   ]
  },
  {
   "cell_type": "markdown",
   "metadata": {
    "papermill": {
     "duration": 0.02886,
     "end_time": "2021-01-14T00:38:56.508592",
     "exception": false,
     "start_time": "2021-01-14T00:38:56.479732",
     "status": "completed"
    },
    "tags": []
   },
   "source": [
    "### Importing appropriate functions from 'Kudzu'"
   ]
  },
  {
   "cell_type": "code",
   "execution_count": 14,
   "metadata": {
    "execution": {
     "iopub.execute_input": "2021-01-14T00:38:56.572552Z",
     "iopub.status.busy": "2021-01-14T00:38:56.571928Z",
     "iopub.status.idle": "2021-01-14T00:38:56.592616Z",
     "shell.execute_reply": "2021-01-14T00:38:56.591941Z"
    },
    "papermill": {
     "duration": 0.054998,
     "end_time": "2021-01-14T00:38:56.592795",
     "exception": false,
     "start_time": "2021-01-14T00:38:56.537797",
     "status": "completed"
    },
    "tags": []
   },
   "outputs": [],
   "source": [
    "from kudzu.layer import Sigmoid\n",
    "from kudzu.layer import Relu\n",
    "from kudzu.layer import Affine, Sigmoid\n",
    "\n",
    "from kudzu.model import Model\n",
    "from kudzu.train import Learner\n",
    "from kudzu.optim import GD\n",
    "from kudzu.data import Data, Dataloader, Sampler\n",
    "\n",
    "from kudzu.callbacks import AccCallback\n",
    "from kudzu.callbacks import ClfCallback\n",
    "\n",
    "from kudzu.loss import MSE"
   ]
  },
  {
   "cell_type": "markdown",
   "metadata": {
    "papermill": {
     "duration": 0.028942,
     "end_time": "2021-01-14T00:38:56.652577",
     "exception": false,
     "start_time": "2021-01-14T00:38:56.623635",
     "status": "completed"
    },
    "tags": []
   },
   "source": [
    "### Let us create a `Config` class, to store important parameters. \n",
    "This class essentially plays the role of a dictionary."
   ]
  },
  {
   "cell_type": "code",
   "execution_count": 15,
   "metadata": {
    "execution": {
     "iopub.execute_input": "2021-01-14T00:38:56.715231Z",
     "iopub.status.busy": "2021-01-14T00:38:56.714611Z",
     "iopub.status.idle": "2021-01-14T00:38:56.728711Z",
     "shell.execute_reply": "2021-01-14T00:38:56.729213Z"
    },
    "papermill": {
     "duration": 0.047704,
     "end_time": "2021-01-14T00:38:56.729371",
     "exception": false,
     "start_time": "2021-01-14T00:38:56.681667",
     "status": "completed"
    },
    "tags": []
   },
   "outputs": [],
   "source": [
    "class Config:\n",
    "    pass\n",
    "config = Config()\n",
    "config.lr = 0.001\n",
    "config.num_epochs = 251\n",
    "config.bs = 50"
   ]
  },
  {
   "cell_type": "markdown",
   "metadata": {
    "papermill": {
     "duration": 0.028973,
     "end_time": "2021-01-14T00:38:56.787299",
     "exception": false,
     "start_time": "2021-01-14T00:38:56.758326",
     "status": "completed"
    },
    "tags": []
   },
   "source": [
    "### Initializing data to the variables"
   ]
  },
  {
   "cell_type": "code",
   "execution_count": 16,
   "metadata": {
    "execution": {
     "iopub.execute_input": "2021-01-14T00:38:56.850284Z",
     "iopub.status.busy": "2021-01-14T00:38:56.849668Z",
     "iopub.status.idle": "2021-01-14T00:38:56.864107Z",
     "shell.execute_reply": "2021-01-14T00:38:56.864606Z"
    },
    "papermill": {
     "duration": 0.048371,
     "end_time": "2021-01-14T00:38:56.864765",
     "exception": false,
     "start_time": "2021-01-14T00:38:56.816394",
     "status": "completed"
    },
    "tags": []
   },
   "outputs": [],
   "source": [
    "data = Data(X_train, y_train.reshape(-1,1))\n",
    "sampler = Sampler(data, config.bs, shuffle=True)\n",
    "\n",
    "dl = Dataloader(data, sampler)\n",
    "\n",
    "opt = GD(config.lr)\n",
    "loss = MSE()"
   ]
  },
  {
   "cell_type": "code",
   "execution_count": 17,
   "metadata": {
    "execution": {
     "iopub.execute_input": "2021-01-14T00:38:56.927292Z",
     "iopub.status.busy": "2021-01-14T00:38:56.926659Z",
     "iopub.status.idle": "2021-01-14T00:38:56.941866Z",
     "shell.execute_reply": "2021-01-14T00:38:56.940805Z"
    },
    "papermill": {
     "duration": 0.048101,
     "end_time": "2021-01-14T00:38:56.942008",
     "exception": false,
     "start_time": "2021-01-14T00:38:56.893907",
     "status": "completed"
    },
    "tags": []
   },
   "outputs": [],
   "source": [
    "training_xdata = X_train\n",
    "testing_xdata = X_test\n",
    "training_ydata = y_train.reshape(-1,1)\n",
    "testing_ydata = y_test.reshape(-1,1)"
   ]
  },
  {
   "cell_type": "markdown",
   "metadata": {
    "papermill": {
     "duration": 0.029027,
     "end_time": "2021-01-14T00:38:57.000282",
     "exception": false,
     "start_time": "2021-01-14T00:38:56.971255",
     "status": "completed"
    },
    "tags": []
   },
   "source": [
    "### Running Models with the Training data\n",
    "Details about the network layers:\n",
    "- A first affine layer has 784 inputs and does 100 affine transforms. These are followed by a Relu\n",
    "- A second affine layer has 100 inputs from the 100 activations of the past layer, and does 100 affine transforms. These are followed by a Relu\n",
    "- A third affine layer has 100 activations and does 2 affine transformations to create an embedding for visualization. There is no non-linearity here.\n",
    "- A final \"logistic regression\" which has an affine transform from 2 inputs to 1 output, which is squeezed through a sigmoid.\n",
    "\n",
    "Help taken from Anshuman's Notebook."
   ]
  },
  {
   "cell_type": "code",
   "execution_count": 18,
   "metadata": {
    "execution": {
     "iopub.execute_input": "2021-01-14T00:38:57.068490Z",
     "iopub.status.busy": "2021-01-14T00:38:57.063042Z",
     "iopub.status.idle": "2021-01-14T00:38:57.082739Z",
     "shell.execute_reply": "2021-01-14T00:38:57.082244Z"
    },
    "papermill": {
     "duration": 0.053469,
     "end_time": "2021-01-14T00:38:57.082878",
     "exception": false,
     "start_time": "2021-01-14T00:38:57.029409",
     "status": "completed"
    },
    "tags": []
   },
   "outputs": [],
   "source": [
    "# layers for the Neural Network\n",
    "layers = [Affine(\"first\", 784, 100), Relu(\"first\"), Affine(\"second\", 100, 100), Relu(\"second\"), Affine(\"third\", 100, 2), Affine(\"final\", 2, 1), Sigmoid(\"final\")]\n",
    "model_nn = Model(layers)\n",
    "\n",
    "# layers for the Logistic Regression\n",
    "layers_lr = [Affine(\"logits\", 784, 1), Sigmoid(\"sigmoid\")]\n",
    "model_lr = Model(layers_lr)"
   ]
  },
  {
   "cell_type": "code",
   "execution_count": 19,
   "metadata": {
    "execution": {
     "iopub.execute_input": "2021-01-14T00:38:57.148461Z",
     "iopub.status.busy": "2021-01-14T00:38:57.147827Z",
     "iopub.status.idle": "2021-01-14T00:38:57.160965Z",
     "shell.execute_reply": "2021-01-14T00:38:57.160441Z"
    },
    "papermill": {
     "duration": 0.048888,
     "end_time": "2021-01-14T00:38:57.161102",
     "exception": false,
     "start_time": "2021-01-14T00:38:57.112214",
     "status": "completed"
    },
    "tags": []
   },
   "outputs": [],
   "source": [
    "# suffix _nn stands for Neural Network.\n",
    "learner_nn = Learner(loss, model_nn, opt, config.num_epochs)\n",
    "acc_nn = ClfCallback(learner_nn, config.bs, training_xdata , testing_xdata, training_ydata, testing_ydata)\n",
    "learner_nn.set_callbacks([acc_nn])"
   ]
  },
  {
   "cell_type": "code",
   "execution_count": 20,
   "metadata": {
    "execution": {
     "iopub.execute_input": "2021-01-14T00:38:57.223524Z",
     "iopub.status.busy": "2021-01-14T00:38:57.222916Z",
     "iopub.status.idle": "2021-01-14T00:40:28.156740Z",
     "shell.execute_reply": "2021-01-14T00:40:28.156212Z"
    },
    "papermill": {
     "duration": 90.966607,
     "end_time": "2021-01-14T00:40:28.156875",
     "exception": false,
     "start_time": "2021-01-14T00:38:57.190268",
     "status": "completed"
    },
    "tags": []
   },
   "outputs": [
    {
     "name": "stdout",
     "output_type": "stream",
     "text": [
      "====== Neural Network ======\n"
     ]
    },
    {
     "name": "stdout",
     "output_type": "stream",
     "text": [
      "Epoch 0, Loss 0.254\n",
      "Training Accuracy: 0.5058, Testing Accuracy: 0.5045\n",
      "\n"
     ]
    },
    {
     "name": "stdout",
     "output_type": "stream",
     "text": [
      "Epoch 10, Loss 0.2477\n",
      "Training Accuracy: 0.5470, Testing Accuracy: 0.5479\n",
      "\n"
     ]
    },
    {
     "name": "stdout",
     "output_type": "stream",
     "text": [
      "Epoch 20, Loss 0.2358\n",
      "Training Accuracy: 0.8226, Testing Accuracy: 0.8357\n",
      "\n"
     ]
    },
    {
     "name": "stdout",
     "output_type": "stream",
     "text": [
      "Epoch 30, Loss 0.1782\n",
      "Training Accuracy: 0.8924, Testing Accuracy: 0.8997\n",
      "\n"
     ]
    },
    {
     "name": "stdout",
     "output_type": "stream",
     "text": [
      "Epoch 40, Loss 0.0872\n",
      "Training Accuracy: 0.9200, Testing Accuracy: 0.9249\n",
      "\n"
     ]
    },
    {
     "name": "stdout",
     "output_type": "stream",
     "text": [
      "Epoch 50, Loss 0.0576\n",
      "Training Accuracy: 0.9394, Testing Accuracy: 0.9511\n",
      "\n"
     ]
    },
    {
     "name": "stdout",
     "output_type": "stream",
     "text": [
      "Epoch 60, Loss 0.046\n",
      "Training Accuracy: 0.9488, Testing Accuracy: 0.9556\n",
      "\n"
     ]
    },
    {
     "name": "stdout",
     "output_type": "stream",
     "text": [
      "Epoch 70, Loss 0.0402\n",
      "Training Accuracy: 0.9538, Testing Accuracy: 0.9632\n",
      "\n"
     ]
    },
    {
     "name": "stdout",
     "output_type": "stream",
     "text": [
      "Epoch 80, Loss 0.0366\n",
      "Training Accuracy: 0.9569, Testing Accuracy: 0.9657\n",
      "\n"
     ]
    },
    {
     "name": "stdout",
     "output_type": "stream",
     "text": [
      "Epoch 90, Loss 0.0341\n",
      "Training Accuracy: 0.9604, Testing Accuracy: 0.9688\n",
      "\n"
     ]
    },
    {
     "name": "stdout",
     "output_type": "stream",
     "text": [
      "Epoch 100, Loss 0.0322\n",
      "Training Accuracy: 0.9621, Testing Accuracy: 0.9682\n",
      "\n"
     ]
    },
    {
     "name": "stdout",
     "output_type": "stream",
     "text": [
      "Epoch 110, Loss 0.0307\n",
      "Training Accuracy: 0.9634, Testing Accuracy: 0.9667\n",
      "\n"
     ]
    },
    {
     "name": "stdout",
     "output_type": "stream",
     "text": [
      "Epoch 120, Loss 0.0295\n",
      "Training Accuracy: 0.9651, Testing Accuracy: 0.9662\n",
      "\n"
     ]
    },
    {
     "name": "stdout",
     "output_type": "stream",
     "text": [
      "Epoch 130, Loss 0.0285\n",
      "Training Accuracy: 0.9665, Testing Accuracy: 0.9672\n",
      "\n"
     ]
    },
    {
     "name": "stdout",
     "output_type": "stream",
     "text": [
      "Epoch 140, Loss 0.0276\n",
      "Training Accuracy: 0.9676, Testing Accuracy: 0.9667\n",
      "\n"
     ]
    },
    {
     "name": "stdout",
     "output_type": "stream",
     "text": [
      "Epoch 150, Loss 0.0269\n",
      "Training Accuracy: 0.9686, Testing Accuracy: 0.9667\n",
      "\n"
     ]
    },
    {
     "name": "stdout",
     "output_type": "stream",
     "text": [
      "Epoch 160, Loss 0.0262\n",
      "Training Accuracy: 0.9691, Testing Accuracy: 0.9672\n",
      "\n"
     ]
    },
    {
     "name": "stdout",
     "output_type": "stream",
     "text": [
      "Epoch 170, Loss 0.0255\n",
      "Training Accuracy: 0.9697, Testing Accuracy: 0.9672\n",
      "\n"
     ]
    },
    {
     "name": "stdout",
     "output_type": "stream",
     "text": [
      "Epoch 180, Loss 0.025\n",
      "Training Accuracy: 0.9701, Testing Accuracy: 0.9682\n",
      "\n"
     ]
    },
    {
     "name": "stdout",
     "output_type": "stream",
     "text": [
      "Epoch 190, Loss 0.0244\n",
      "Training Accuracy: 0.9709, Testing Accuracy: 0.9688\n",
      "\n"
     ]
    },
    {
     "name": "stdout",
     "output_type": "stream",
     "text": [
      "Epoch 200, Loss 0.024\n",
      "Training Accuracy: 0.9714, Testing Accuracy: 0.9693\n",
      "\n"
     ]
    },
    {
     "name": "stdout",
     "output_type": "stream",
     "text": [
      "Epoch 210, Loss 0.0235\n",
      "Training Accuracy: 0.9719, Testing Accuracy: 0.9703\n",
      "\n"
     ]
    },
    {
     "name": "stdout",
     "output_type": "stream",
     "text": [
      "Epoch 220, Loss 0.0231\n",
      "Training Accuracy: 0.9727, Testing Accuracy: 0.9698\n",
      "\n"
     ]
    },
    {
     "name": "stdout",
     "output_type": "stream",
     "text": [
      "Epoch 230, Loss 0.0226\n",
      "Training Accuracy: 0.9727, Testing Accuracy: 0.9698\n",
      "\n"
     ]
    },
    {
     "name": "stdout",
     "output_type": "stream",
     "text": [
      "Epoch 240, Loss 0.0222\n",
      "Training Accuracy: 0.9731, Testing Accuracy: 0.9708\n",
      "\n"
     ]
    },
    {
     "name": "stdout",
     "output_type": "stream",
     "text": [
      "Epoch 250, Loss 0.0219\n",
      "Training Accuracy: 0.9741, Testing Accuracy: 0.9713\n",
      "\n"
     ]
    },
    {
     "data": {
      "text/plain": [
       "0.016786278183728524"
      ]
     },
     "execution_count": 20,
     "metadata": {},
     "output_type": "execute_result"
    }
   ],
   "source": [
    "print(\"====== Neural Network ======\")\n",
    "learner_nn.train_loop(dl)"
   ]
  },
  {
   "cell_type": "markdown",
   "metadata": {
    "papermill": {
     "duration": 0.043308,
     "end_time": "2021-01-14T00:40:28.238113",
     "exception": false,
     "start_time": "2021-01-14T00:40:28.194805",
     "status": "completed"
    },
    "tags": []
   },
   "source": [
    "### Logistic Regression based Implementation."
   ]
  },
  {
   "cell_type": "code",
   "execution_count": 21,
   "metadata": {
    "execution": {
     "iopub.execute_input": "2021-01-14T00:40:28.321640Z",
     "iopub.status.busy": "2021-01-14T00:40:28.320569Z",
     "iopub.status.idle": "2021-01-14T00:40:28.332413Z",
     "shell.execute_reply": "2021-01-14T00:40:28.331841Z"
    },
    "papermill": {
     "duration": 0.055056,
     "end_time": "2021-01-14T00:40:28.332548",
     "exception": false,
     "start_time": "2021-01-14T00:40:28.277492",
     "status": "completed"
    },
    "tags": []
   },
   "outputs": [],
   "source": [
    "learner_lr = Learner(loss, model_lr, opt, config.num_epochs)\n",
    "acc_lr = ClfCallback(learner_lr, config.bs, training_xdata , testing_xdata, training_ydata, testing_ydata)\n",
    "learner_lr.set_callbacks([acc_lr])"
   ]
  },
  {
   "cell_type": "code",
   "execution_count": 22,
   "metadata": {
    "execution": {
     "iopub.execute_input": "2021-01-14T00:40:28.412161Z",
     "iopub.status.busy": "2021-01-14T00:40:28.411068Z",
     "iopub.status.idle": "2021-01-14T00:40:44.290651Z",
     "shell.execute_reply": "2021-01-14T00:40:44.291424Z"
    },
    "papermill": {
     "duration": 15.921561,
     "end_time": "2021-01-14T00:40:44.291607",
     "exception": false,
     "start_time": "2021-01-14T00:40:28.370046",
     "status": "completed"
    },
    "tags": []
   },
   "outputs": [
    {
     "name": "stdout",
     "output_type": "stream",
     "text": [
      "====== Logistic Regression ======\n",
      "Epoch 0, Loss 0.2481\n",
      "Training Accuracy: 0.6620, Testing Accuracy: 0.6658\n",
      "\n"
     ]
    },
    {
     "name": "stdout",
     "output_type": "stream",
     "text": [
      "Epoch 10, Loss 0.106\n",
      "Training Accuracy: 0.9037, Testing Accuracy: 0.9123\n",
      "\n"
     ]
    },
    {
     "name": "stdout",
     "output_type": "stream",
     "text": [
      "Epoch 20, Loss 0.0809\n",
      "Training Accuracy: 0.9256, Testing Accuracy: 0.9340\n",
      "\n"
     ]
    },
    {
     "name": "stdout",
     "output_type": "stream",
     "text": [
      "Epoch 30, Loss 0.0692\n",
      "Training Accuracy: 0.9355, Testing Accuracy: 0.9456\n",
      "\n"
     ]
    },
    {
     "name": "stdout",
     "output_type": "stream",
     "text": [
      "Epoch 40, Loss 0.0623\n",
      "Training Accuracy: 0.9407, Testing Accuracy: 0.9501\n",
      "\n"
     ]
    },
    {
     "name": "stdout",
     "output_type": "stream",
     "text": [
      "Epoch 50, Loss 0.0576\n",
      "Training Accuracy: 0.9453, Testing Accuracy: 0.9541\n",
      "\n"
     ]
    },
    {
     "name": "stdout",
     "output_type": "stream",
     "text": [
      "Epoch 60, Loss 0.0542\n",
      "Training Accuracy: 0.9483, Testing Accuracy: 0.9561\n",
      "\n"
     ]
    },
    {
     "name": "stdout",
     "output_type": "stream",
     "text": [
      "Epoch 70, Loss 0.0515\n",
      "Training Accuracy: 0.9498, Testing Accuracy: 0.9602\n",
      "\n"
     ]
    },
    {
     "name": "stdout",
     "output_type": "stream",
     "text": [
      "Epoch 80, Loss 0.0494\n",
      "Training Accuracy: 0.9510, Testing Accuracy: 0.9607\n",
      "\n"
     ]
    },
    {
     "name": "stdout",
     "output_type": "stream",
     "text": [
      "Epoch 90, Loss 0.0477\n",
      "Training Accuracy: 0.9521, Testing Accuracy: 0.9612\n",
      "\n"
     ]
    },
    {
     "name": "stdout",
     "output_type": "stream",
     "text": [
      "Epoch 100, Loss 0.0462\n",
      "Training Accuracy: 0.9531, Testing Accuracy: 0.9617\n",
      "\n"
     ]
    },
    {
     "name": "stdout",
     "output_type": "stream",
     "text": [
      "Epoch 110, Loss 0.045\n",
      "Training Accuracy: 0.9543, Testing Accuracy: 0.9627\n",
      "\n"
     ]
    },
    {
     "name": "stdout",
     "output_type": "stream",
     "text": [
      "Epoch 120, Loss 0.0439\n",
      "Training Accuracy: 0.9548, Testing Accuracy: 0.9642\n",
      "\n"
     ]
    },
    {
     "name": "stdout",
     "output_type": "stream",
     "text": [
      "Epoch 130, Loss 0.043\n",
      "Training Accuracy: 0.9556, Testing Accuracy: 0.9647\n",
      "\n"
     ]
    },
    {
     "name": "stdout",
     "output_type": "stream",
     "text": [
      "Epoch 140, Loss 0.0421\n",
      "Training Accuracy: 0.9563, Testing Accuracy: 0.9652\n",
      "\n"
     ]
    },
    {
     "name": "stdout",
     "output_type": "stream",
     "text": [
      "Epoch 150, Loss 0.0414\n",
      "Training Accuracy: 0.9572, Testing Accuracy: 0.9662\n",
      "\n"
     ]
    },
    {
     "name": "stdout",
     "output_type": "stream",
     "text": [
      "Epoch 160, Loss 0.0407\n",
      "Training Accuracy: 0.9573, Testing Accuracy: 0.9667\n",
      "\n"
     ]
    },
    {
     "name": "stdout",
     "output_type": "stream",
     "text": [
      "Epoch 170, Loss 0.0401\n",
      "Training Accuracy: 0.9574, Testing Accuracy: 0.9672\n",
      "\n"
     ]
    },
    {
     "name": "stdout",
     "output_type": "stream",
     "text": [
      "Epoch 180, Loss 0.0395\n",
      "Training Accuracy: 0.9576, Testing Accuracy: 0.9672\n",
      "\n"
     ]
    },
    {
     "name": "stdout",
     "output_type": "stream",
     "text": [
      "Epoch 190, Loss 0.039\n",
      "Training Accuracy: 0.9581, Testing Accuracy: 0.9672\n",
      "\n"
     ]
    },
    {
     "name": "stdout",
     "output_type": "stream",
     "text": [
      "Epoch 200, Loss 0.0385\n",
      "Training Accuracy: 0.9586, Testing Accuracy: 0.9682\n",
      "\n"
     ]
    },
    {
     "name": "stdout",
     "output_type": "stream",
     "text": [
      "Epoch 210, Loss 0.038\n",
      "Training Accuracy: 0.9591, Testing Accuracy: 0.9677\n",
      "\n"
     ]
    },
    {
     "name": "stdout",
     "output_type": "stream",
     "text": [
      "Epoch 220, Loss 0.0376\n",
      "Training Accuracy: 0.9595, Testing Accuracy: 0.9672\n",
      "\n"
     ]
    },
    {
     "name": "stdout",
     "output_type": "stream",
     "text": [
      "Epoch 230, Loss 0.0372\n",
      "Training Accuracy: 0.9598, Testing Accuracy: 0.9672\n",
      "\n"
     ]
    },
    {
     "name": "stdout",
     "output_type": "stream",
     "text": [
      "Epoch 240, Loss 0.0369\n",
      "Training Accuracy: 0.9604, Testing Accuracy: 0.9677\n",
      "\n"
     ]
    },
    {
     "name": "stdout",
     "output_type": "stream",
     "text": [
      "Epoch 250, Loss 0.0365\n",
      "Training Accuracy: 0.9609, Testing Accuracy: 0.9677\n",
      "\n"
     ]
    },
    {
     "data": {
      "text/plain": [
       "0.015068492990351625"
      ]
     },
     "execution_count": 22,
     "metadata": {},
     "output_type": "execute_result"
    }
   ],
   "source": [
    "print(\"====== Logistic Regression ======\")\n",
    "learner_lr.train_loop(dl)"
   ]
  },
  {
   "cell_type": "markdown",
   "metadata": {
    "papermill": {
     "duration": 0.044916,
     "end_time": "2021-01-14T00:40:44.382137",
     "exception": false,
     "start_time": "2021-01-14T00:40:44.337221",
     "status": "completed"
    },
    "tags": []
   },
   "source": [
    "### Comparing results of NN and LR"
   ]
  },
  {
   "cell_type": "code",
   "execution_count": 23,
   "metadata": {
    "execution": {
     "iopub.execute_input": "2021-01-14T00:40:44.478324Z",
     "iopub.status.busy": "2021-01-14T00:40:44.477327Z",
     "iopub.status.idle": "2021-01-14T00:40:44.720120Z",
     "shell.execute_reply": "2021-01-14T00:40:44.719536Z"
    },
    "papermill": {
     "duration": 0.292866,
     "end_time": "2021-01-14T00:40:44.720260",
     "exception": false,
     "start_time": "2021-01-14T00:40:44.427394",
     "status": "completed"
    },
    "tags": []
   },
   "outputs": [
    {
     "data": {
      "text/plain": [
       "<matplotlib.legend.Legend at 0x7f0bc32b80b8>"
      ]
     },
     "execution_count": 23,
     "metadata": {},
     "output_type": "execute_result"
    },
    {
     "data": {
      "image/png": "[encoded data removed]",
      "text/plain": [
       "<Figure size 1080x720 with 1 Axes>"
      ]
     },
     "metadata": {
      "needs_background": "light"
     },
     "output_type": "display_data"
    }
   ],
   "source": [
    "plt.figure(figsize=(15,10))\n",
    "\n",
    "# Neural Network plots\n",
    "plt.plot(acc_nn.accuracies, 'r-', label = \"Training Accuracies - NN\")\n",
    "plt.plot(acc_nn.test_accuracies, 'g-', label = \"Testing Accuracies - NN\")\n",
    "\n",
    "# Logistic Regression plots\n",
    "plt.plot(acc_lr.accuracies, 'k-', label = \"Training Accuracies - LR\")\n",
    "plt.plot(acc_lr.test_accuracies, 'b-', label = \"Testing Accuracies - LR\")\n",
    "\n",
    "plt.ylim(0.8, 1)\n",
    "\n",
    "plt.legend()\n",
    "\n"
   ]
  },
  {
   "cell_type": "markdown",
   "metadata": {
    "papermill": {
     "duration": 0.046933,
     "end_time": "2021-01-14T00:40:44.814380",
     "exception": false,
     "start_time": "2021-01-14T00:40:44.767447",
     "status": "completed"
    },
    "tags": []
   },
   "source": [
    "### From the plot, we can observe the following:\n",
    "- Neural Network achieves higher accuracy than the Logistic Regression model.\n",
    "- This apparently, is because of overfitting, i.e. NN captures more noise than data.\n",
    "- Testing accuracy of NN drops below the Training accuracy at higher epochs. This explains the over-fitting on training data.\n",
    "- Logistic Regression gives a reliable accuracy, without the above mentioned problem.\n"
   ]
  },
  {
   "cell_type": "markdown",
   "metadata": {
    "papermill": {
     "duration": 0.047203,
     "end_time": "2021-01-14T00:40:44.908469",
     "exception": false,
     "start_time": "2021-01-14T00:40:44.861266",
     "status": "completed"
    },
    "tags": []
   },
   "source": [
    "### Moving till the last but one layer (excluding it).\n",
    "#### Plotting the outputs of this layer of the NN."
   ]
  },
  {
   "cell_type": "code",
   "execution_count": 24,
   "metadata": {
    "execution": {
     "iopub.execute_input": "2021-01-14T00:40:45.009171Z",
     "iopub.status.busy": "2021-01-14T00:40:45.008578Z",
     "iopub.status.idle": "2021-01-14T00:40:45.021639Z",
     "shell.execute_reply": "2021-01-14T00:40:45.022126Z"
    },
    "papermill": {
     "duration": 0.066795,
     "end_time": "2021-01-14T00:40:45.022281",
     "exception": false,
     "start_time": "2021-01-14T00:40:44.955486",
     "status": "completed"
    },
    "tags": []
   },
   "outputs": [],
   "source": [
    "model_new = Model(layers[:-2])"
   ]
  },
  {
   "cell_type": "code",
   "execution_count": 25,
   "metadata": {
    "execution": {
     "iopub.execute_input": "2021-01-14T00:40:45.121077Z",
     "iopub.status.busy": "2021-01-14T00:40:45.120463Z",
     "iopub.status.idle": "2021-01-14T00:40:45.143542Z",
     "shell.execute_reply": "2021-01-14T00:40:45.144108Z"
    },
    "papermill": {
     "duration": 0.074956,
     "end_time": "2021-01-14T00:40:45.144267",
     "exception": false,
     "start_time": "2021-01-14T00:40:45.069311",
     "status": "completed"
    },
    "tags": []
   },
   "outputs": [],
   "source": [
    "plot_testing = model_new(testing_xdata)"
   ]
  },
  {
   "cell_type": "code",
   "execution_count": 26,
   "metadata": {
    "execution": {
     "iopub.execute_input": "2021-01-14T00:40:45.249287Z",
     "iopub.status.busy": "2021-01-14T00:40:45.248683Z",
     "iopub.status.idle": "2021-01-14T00:40:45.466298Z",
     "shell.execute_reply": "2021-01-14T00:40:45.465751Z"
    },
    "papermill": {
     "duration": 0.275024,
     "end_time": "2021-01-14T00:40:45.466438",
     "exception": false,
     "start_time": "2021-01-14T00:40:45.191414",
     "status": "completed"
    },
    "tags": []
   },
   "outputs": [
    {
     "data": {
      "text/plain": [
       "Text(0.5, 1.0, 'Outputs')"
      ]
     },
     "execution_count": 26,
     "metadata": {},
     "output_type": "execute_result"
    },
    {
     "data": {
      "image/png": "[encoded data removed]",
      "text/plain": [
       "<Figure size 576x504 with 1 Axes>"
      ]
     },
     "metadata": {
      "needs_background": "light"
     },
     "output_type": "display_data"
    }
   ],
   "source": [
    "plt.figure(figsize=(8,7))\n",
    "plt.scatter(plot_testing[:,0], plot_testing[:,1], alpha = 0.1, c = y_test.ravel());\n",
    "plt.title('Outputs')"
   ]
  },
  {
   "cell_type": "markdown",
   "metadata": {
    "papermill": {
     "duration": 0.049028,
     "end_time": "2021-01-14T00:40:45.565068",
     "exception": false,
     "start_time": "2021-01-14T00:40:45.516040",
     "status": "completed"
    },
    "tags": []
   },
   "source": [
    "### Plotting probability contours"
   ]
  },
  {
   "cell_type": "code",
   "execution_count": 27,
   "metadata": {
    "execution": {
     "iopub.execute_input": "2021-01-14T00:40:45.668821Z",
     "iopub.status.busy": "2021-01-14T00:40:45.667088Z",
     "iopub.status.idle": "2021-01-14T00:40:45.680057Z",
     "shell.execute_reply": "2021-01-14T00:40:45.679468Z"
    },
    "papermill": {
     "duration": 0.06619,
     "end_time": "2021-01-14T00:40:45.680193",
     "exception": false,
     "start_time": "2021-01-14T00:40:45.614003",
     "status": "completed"
    },
    "tags": []
   },
   "outputs": [],
   "source": [
    "model_prob = Model(layers[-2:]) "
   ]
  },
  {
   "cell_type": "code",
   "execution_count": 28,
   "metadata": {
    "execution": {
     "iopub.execute_input": "2021-01-14T00:40:45.784594Z",
     "iopub.status.busy": "2021-01-14T00:40:45.783263Z",
     "iopub.status.idle": "2021-01-14T00:40:45.800057Z",
     "shell.execute_reply": "2021-01-14T00:40:45.800539Z"
    },
    "papermill": {
     "duration": 0.071312,
     "end_time": "2021-01-14T00:40:45.800696",
     "exception": false,
     "start_time": "2021-01-14T00:40:45.729384",
     "status": "completed"
    },
    "tags": []
   },
   "outputs": [],
   "source": [
    "# Adjust the x and y ranges according to the above generated plot.\n",
    "x_range = np.linspace(-4, 1, 100) \n",
    "y_range = np.linspace(-6, 6, 100) \n",
    "x_grid, y_grid = np.meshgrid(x_range, y_range) # x_grid and y_grig are of size 100 X 100\n",
    "\n",
    "# converting x_grid and y_grid to continuous arrays\n",
    "x_grid_flat = np.ravel(x_grid)\n",
    "y_grid_flat = np.ravel(y_grid)\n",
    "\n",
    "# The last layer of the current model takes two columns as input. Hence transpose of np.vstack() is required.\n",
    "X = np.vstack((x_grid_flat, y_grid_flat)).T\n",
    "\n",
    "# x_grid and y_grid are of size 100 x 100\n",
    "probability_contour = model_prob(X).reshape(100,100) "
   ]
  },
  {
   "cell_type": "code",
   "execution_count": 29,
   "metadata": {
    "execution": {
     "iopub.execute_input": "2021-01-14T00:40:45.942821Z",
     "iopub.status.busy": "2021-01-14T00:40:45.942205Z",
     "iopub.status.idle": "2021-01-14T00:40:46.213938Z",
     "shell.execute_reply": "2021-01-14T00:40:46.213023Z"
    },
    "papermill": {
     "duration": 0.326467,
     "end_time": "2021-01-14T00:40:46.214090",
     "exception": false,
     "start_time": "2021-01-14T00:40:45.887623",
     "status": "completed"
    },
    "tags": []
   },
   "outputs": [
    {
     "data": {
      "image/png": "[encoded data removed]",
      "text/plain": [
       "<Figure size 720x648 with 1 Axes>"
      ]
     },
     "metadata": {
      "needs_background": "light"
     },
     "output_type": "display_data"
    }
   ],
   "source": [
    "plt.figure(figsize=(10,9))\n",
    "plt.scatter(plot_testing[:,0], plot_testing[:,1], alpha = 0.1, c = y_test.ravel())\n",
    "contours = plt.contour(x_grid,y_grid,probability_contour)\n",
    "plt.title('Probability Contours')\n",
    "plt.clabel(contours, inline = True );"
   ]
  }
 ],
 "metadata": {
  "kernelspec": {
   "display_name": "Python 3",
   "language": "python",
   "name": "python3"
  },
  "language_info": {
   "codemirror_mode": {
    "name": "ipython",
    "version": 3
   },
   "file_extension": ".py",
   "mimetype": "text/x-python",
   "name": "python",
   "nbconvert_exporter": "python",
   "pygments_lexer": "ipython3",
   "version": "3.6.12"
  },
  "papermill": {
   "duration": 121.790026,
   "end_time": "2021-01-14T00:40:46.674470",
   "environment_variables": {},
   "exception": null,
   "input_path": "2020-08-11-NeuralNetwork.ipynb",
   "output_path": "2020-08-11-NeuralNetwork.ipynb",
   "parameters": {},
   "start_time": "2021-01-14T00:38:44.884444",
   "version": "2.1.2"
  }
 },
 "nbformat": 4,
 "nbformat_minor": 4
}