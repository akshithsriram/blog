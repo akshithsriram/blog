{
 "cells": [
  {
   "cell_type": "markdown",
   "metadata": {
    "papermill": {
     "duration": 0.0318,
     "end_time": "2020-10-19T00:07:09.183546",
     "exception": false,
     "start_time": "2020-10-19T00:07:09.151746",
     "status": "completed"
    },
    "tags": []
   },
   "source": [
    "# \"A Basic Neural Network: Differentiate Hand-Written Digits\"\n",
    "\n",
    "- badges: true\n",
    "- author: Akshith Sriram"
   ]
  },
  {
   "cell_type": "markdown",
   "metadata": {
    "papermill": {
     "duration": 0.028334,
     "end_time": "2020-10-19T00:07:09.240406",
     "exception": false,
     "start_time": "2020-10-19T00:07:09.212072",
     "status": "completed"
    },
    "tags": []
   },
   "source": [
    "### Key Objectives:\n",
    "- Building a neural network that differentiates two hand-written digits 3 and 8.\n",
    "- Comparing the results of this Neural Network (NN) to that of a Logistic Regression (LR) model.\n",
    "\n",
    "### Requirements:\n",
    "- 'Kudzu' : A neural network library that was designed during our course by [Univ.AI](www.univ.ai). \n",
    "- MNIST Database\n",
    "\n",
    "If MNIST is not installed, use the command `!pip install mnist` given below.\n",
    "It can be run both from the command line and Jupyter Notebook."
   ]
  },
  {
   "cell_type": "code",
   "execution_count": 1,
   "metadata": {
    "execution": {
     "iopub.execute_input": "2020-10-19T00:07:09.300667Z",
     "iopub.status.busy": "2020-10-19T00:07:09.300049Z",
     "iopub.status.idle": "2020-10-19T00:07:10.819038Z",
     "shell.execute_reply": "2020-10-19T00:07:10.818497Z"
    },
    "papermill": {
     "duration": 1.551926,
     "end_time": "2020-10-19T00:07:10.819209",
     "exception": false,
     "start_time": "2020-10-19T00:07:09.267283",
     "status": "completed"
    },
    "tags": []
   },
   "outputs": [
    {
     "name": "stdout",
     "output_type": "stream",
     "text": [
      "Collecting mnist\r\n"
     ]
    },
    {
     "name": "stdout",
     "output_type": "stream",
     "text": [
      "  Downloading mnist-0.2.2-py2.py3-none-any.whl (3.5 kB)\r\n",
      "Requirement already satisfied: numpy in /opt/hostedtoolcache/Python/3.6.12/x64/lib/python3.6/site-packages (from mnist) (1.19.2)\r\n"
     ]
    },
    {
     "name": "stdout",
     "output_type": "stream",
     "text": [
      "Installing collected packages: mnist\r\n"
     ]
    },
    {
     "name": "stdout",
     "output_type": "stream",
     "text": [
      "Successfully installed mnist-0.2.2\r\n"
     ]
    },
    {
     "name": "stdout",
     "output_type": "stream",
     "text": [
      "\u001b[33mWARNING: You are using pip version 20.2.3; however, version 20.2.4 is available.\r\n",
      "You should consider upgrading via the '/opt/hostedtoolcache/Python/3.6.12/x64/bin/python -m pip install --upgrade pip' command.\u001b[0m\r\n"
     ]
    }
   ],
   "source": [
    "!pip install mnist "
   ]
  },
  {
   "cell_type": "markdown",
   "metadata": {
    "papermill": {
     "duration": 0.028837,
     "end_time": "2020-10-19T00:07:10.878382",
     "exception": false,
     "start_time": "2020-10-19T00:07:10.849545",
     "status": "completed"
    },
    "tags": []
   },
   "source": [
    "#### Importing necessary libraries"
   ]
  },
  {
   "cell_type": "code",
   "execution_count": 2,
   "metadata": {
    "execution": {
     "iopub.execute_input": "2020-10-19T00:07:10.950723Z",
     "iopub.status.busy": "2020-10-19T00:07:10.944442Z",
     "iopub.status.idle": "2020-10-19T00:07:11.589808Z",
     "shell.execute_reply": "2020-10-19T00:07:11.589237Z"
    },
    "papermill": {
     "duration": 0.681643,
     "end_time": "2020-10-19T00:07:11.589986",
     "exception": false,
     "start_time": "2020-10-19T00:07:10.908343",
     "status": "completed"
    },
    "tags": []
   },
   "outputs": [],
   "source": [
    "%load_ext autoreload\n",
    "%autoreload 2\n",
    "\n",
    "%matplotlib inline\n",
    "import matplotlib.pyplot as plt\n",
    "\n",
    "import numpy as np\n",
    "import pandas as pd"
   ]
  },
  {
   "cell_type": "markdown",
   "metadata": {
    "papermill": {
     "duration": 0.031419,
     "end_time": "2020-10-19T00:07:11.651958",
     "exception": false,
     "start_time": "2020-10-19T00:07:11.620539",
     "status": "completed"
    },
    "tags": []
   },
   "source": [
    "### Preparing the Data"
   ]
  },
  {
   "cell_type": "code",
   "execution_count": 3,
   "metadata": {
    "execution": {
     "iopub.execute_input": "2020-10-19T00:07:11.728283Z",
     "iopub.status.busy": "2020-10-19T00:07:11.727627Z",
     "iopub.status.idle": "2020-10-19T00:07:11.735592Z",
     "shell.execute_reply": "2020-10-19T00:07:11.736168Z"
    },
    "papermill": {
     "duration": 0.052097,
     "end_time": "2020-10-19T00:07:11.736331",
     "exception": false,
     "start_time": "2020-10-19T00:07:11.684234",
     "status": "completed"
    },
    "tags": []
   },
   "outputs": [],
   "source": [
    "import mnist"
   ]
  },
  {
   "cell_type": "code",
   "execution_count": 4,
   "metadata": {
    "execution": {
     "iopub.execute_input": "2020-10-19T00:07:11.816347Z",
     "iopub.status.busy": "2020-10-19T00:07:11.807562Z",
     "iopub.status.idle": "2020-10-19T00:07:13.512076Z",
     "shell.execute_reply": "2020-10-19T00:07:13.511150Z"
    },
    "papermill": {
     "duration": 1.745778,
     "end_time": "2020-10-19T00:07:13.512233",
     "exception": false,
     "start_time": "2020-10-19T00:07:11.766455",
     "status": "completed"
    },
    "tags": []
   },
   "outputs": [],
   "source": [
    "train_images = mnist.train_images()\n",
    "train_labels = mnist.train_labels()"
   ]
  },
  {
   "cell_type": "code",
   "execution_count": 5,
   "metadata": {
    "execution": {
     "iopub.execute_input": "2020-10-19T00:07:13.578623Z",
     "iopub.status.busy": "2020-10-19T00:07:13.576420Z",
     "iopub.status.idle": "2020-10-19T00:07:13.592542Z",
     "shell.execute_reply": "2020-10-19T00:07:13.592019Z"
    },
    "papermill": {
     "duration": 0.051394,
     "end_time": "2020-10-19T00:07:13.592694",
     "exception": false,
     "start_time": "2020-10-19T00:07:13.541300",
     "status": "completed"
    },
    "tags": []
   },
   "outputs": [
    {
     "data": {
      "text/plain": [
       "((60000, 28, 28), (60000,))"
      ]
     },
     "execution_count": 5,
     "metadata": {},
     "output_type": "execute_result"
    }
   ],
   "source": [
    "train_images.shape, train_labels.shape"
   ]
  },
  {
   "cell_type": "code",
   "execution_count": 6,
   "metadata": {
    "execution": {
     "iopub.execute_input": "2020-10-19T00:07:13.661295Z",
     "iopub.status.busy": "2020-10-19T00:07:13.660676Z",
     "iopub.status.idle": "2020-10-19T00:07:14.528544Z",
     "shell.execute_reply": "2020-10-19T00:07:14.529133Z"
    },
    "papermill": {
     "duration": 0.906494,
     "end_time": "2020-10-19T00:07:14.529364",
     "exception": false,
     "start_time": "2020-10-19T00:07:13.622870",
     "status": "completed"
    },
    "tags": []
   },
   "outputs": [],
   "source": [
    "test_images = mnist.test_images()\n",
    "test_labels = mnist.test_labels()"
   ]
  },
  {
   "cell_type": "code",
   "execution_count": 7,
   "metadata": {
    "execution": {
     "iopub.execute_input": "2020-10-19T00:07:14.597524Z",
     "iopub.status.busy": "2020-10-19T00:07:14.596389Z",
     "iopub.status.idle": "2020-10-19T00:07:14.612781Z",
     "shell.execute_reply": "2020-10-19T00:07:14.612166Z"
    },
    "papermill": {
     "duration": 0.053197,
     "end_time": "2020-10-19T00:07:14.612908",
     "exception": false,
     "start_time": "2020-10-19T00:07:14.559711",
     "status": "completed"
    },
    "tags": []
   },
   "outputs": [
    {
     "data": {
      "text/plain": [
       "((10000, 28, 28), (10000,))"
      ]
     },
     "execution_count": 7,
     "metadata": {},
     "output_type": "execute_result"
    }
   ],
   "source": [
    "test_images.shape, test_labels.shape"
   ]
  },
  {
   "cell_type": "code",
   "execution_count": 8,
   "metadata": {
    "execution": {
     "iopub.execute_input": "2020-10-19T00:07:14.676365Z",
     "iopub.status.busy": "2020-10-19T00:07:14.675721Z",
     "iopub.status.idle": "2020-10-19T00:07:14.848906Z",
     "shell.execute_reply": "2020-10-19T00:07:14.849416Z"
    },
    "papermill": {
     "duration": 0.206801,
     "end_time": "2020-10-19T00:07:14.849609",
     "exception": false,
     "start_time": "2020-10-19T00:07:14.642808",
     "status": "completed"
    },
    "tags": []
   },
   "outputs": [
    {
     "name": "stdout",
     "output_type": "stream",
     "text": [
      "2\n"
     ]
    },
    {
     "data": {
      "text/plain": [
       "<matplotlib.image.AxesImage at 0x7f31e9db8908>"
      ]
     },
     "execution_count": 8,
     "metadata": {},
     "output_type": "execute_result"
    },
    {
     "data": {
      "image/png": "[encoded data removed]",
      "text/plain": [
       "<Figure size 432x288 with 1 Axes>"
      ]
     },
     "metadata": {
      "needs_background": "light"
     },
     "output_type": "display_data"
    }
   ],
   "source": [
    "image_index = 7776 # You may select anything up to 60,000\n",
    "print(train_labels[image_index]) \n",
    "plt.imshow(train_images[image_index], cmap='Greys')"
   ]
  },
  {
   "cell_type": "markdown",
   "metadata": {
    "papermill": {
     "duration": 0.031567,
     "end_time": "2020-10-19T00:07:14.911943",
     "exception": false,
     "start_time": "2020-10-19T00:07:14.880376",
     "status": "completed"
    },
    "tags": []
   },
   "source": [
    "## Filter data to get 3 and 8 out"
   ]
  },
  {
   "cell_type": "code",
   "execution_count": 9,
   "metadata": {
    "execution": {
     "iopub.execute_input": "2020-10-19T00:07:14.980733Z",
     "iopub.status.busy": "2020-10-19T00:07:14.980067Z",
     "iopub.status.idle": "2020-10-19T00:07:15.000229Z",
     "shell.execute_reply": "2020-10-19T00:07:14.999543Z"
    },
    "papermill": {
     "duration": 0.057516,
     "end_time": "2020-10-19T00:07:15.000375",
     "exception": false,
     "start_time": "2020-10-19T00:07:14.942859",
     "status": "completed"
    },
    "tags": []
   },
   "outputs": [],
   "source": [
    "train_filter = np.where((train_labels == 3 ) | (train_labels == 8))\n",
    "test_filter = np.where((test_labels == 3) | (test_labels == 8))\n",
    "X_train, y_train = train_images[train_filter], train_labels[train_filter]\n",
    "X_test, y_test = test_images[test_filter], test_labels[test_filter]"
   ]
  },
  {
   "cell_type": "markdown",
   "metadata": {
    "papermill": {
     "duration": 0.030072,
     "end_time": "2020-10-19T00:07:15.064258",
     "exception": false,
     "start_time": "2020-10-19T00:07:15.034186",
     "status": "completed"
    },
    "tags": []
   },
   "source": [
    "We normalize the pixel values in the 0 to 1 range"
   ]
  },
  {
   "cell_type": "code",
   "execution_count": 10,
   "metadata": {
    "execution": {
     "iopub.execute_input": "2020-10-19T00:07:15.130665Z",
     "iopub.status.busy": "2020-10-19T00:07:15.130040Z",
     "iopub.status.idle": "2020-10-19T00:07:15.196693Z",
     "shell.execute_reply": "2020-10-19T00:07:15.196083Z"
    },
    "papermill": {
     "duration": 0.100668,
     "end_time": "2020-10-19T00:07:15.196864",
     "exception": false,
     "start_time": "2020-10-19T00:07:15.096196",
     "status": "completed"
    },
    "tags": []
   },
   "outputs": [],
   "source": [
    "X_train = X_train/255.\n",
    "X_test = X_test/255."
   ]
  },
  {
   "cell_type": "markdown",
   "metadata": {
    "papermill": {
     "duration": 0.030388,
     "end_time": "2020-10-19T00:07:15.259328",
     "exception": false,
     "start_time": "2020-10-19T00:07:15.228940",
     "status": "completed"
    },
    "tags": []
   },
   "source": [
    "Setup the labels as 1 (when the digit is 3) and 0 (when the digit is 8)"
   ]
  },
  {
   "cell_type": "code",
   "execution_count": 11,
   "metadata": {
    "execution": {
     "iopub.execute_input": "2020-10-19T00:07:15.343134Z",
     "iopub.status.busy": "2020-10-19T00:07:15.337092Z",
     "iopub.status.idle": "2020-10-19T00:07:15.346494Z",
     "shell.execute_reply": "2020-10-19T00:07:15.345913Z"
    },
    "papermill": {
     "duration": 0.05593,
     "end_time": "2020-10-19T00:07:15.346662",
     "exception": false,
     "start_time": "2020-10-19T00:07:15.290732",
     "status": "completed"
    },
    "tags": []
   },
   "outputs": [],
   "source": [
    "y_train = 1*(y_train==3)\n",
    "y_test = 1*(y_test==3)"
   ]
  },
  {
   "cell_type": "code",
   "execution_count": 12,
   "metadata": {
    "execution": {
     "iopub.execute_input": "2020-10-19T00:07:15.415621Z",
     "iopub.status.busy": "2020-10-19T00:07:15.414973Z",
     "iopub.status.idle": "2020-10-19T00:07:15.428050Z",
     "shell.execute_reply": "2020-10-19T00:07:15.428629Z"
    },
    "papermill": {
     "duration": 0.050874,
     "end_time": "2020-10-19T00:07:15.428768",
     "exception": false,
     "start_time": "2020-10-19T00:07:15.377894",
     "status": "completed"
    },
    "tags": []
   },
   "outputs": [
    {
     "data": {
      "text/plain": [
       "((11982, 28, 28), (1984, 28, 28))"
      ]
     },
     "execution_count": 12,
     "metadata": {},
     "output_type": "execute_result"
    }
   ],
   "source": [
    "X_train.shape, X_test.shape"
   ]
  },
  {
   "cell_type": "markdown",
   "metadata": {
    "papermill": {
     "duration": 0.032918,
     "end_time": "2020-10-19T00:07:15.493129",
     "exception": false,
     "start_time": "2020-10-19T00:07:15.460211",
     "status": "completed"
    },
    "tags": []
   },
   "source": [
    "### Reshape the input data to create a linear array"
   ]
  },
  {
   "cell_type": "code",
   "execution_count": 13,
   "metadata": {
    "execution": {
     "iopub.execute_input": "2020-10-19T00:07:15.562782Z",
     "iopub.status.busy": "2020-10-19T00:07:15.561982Z",
     "iopub.status.idle": "2020-10-19T00:07:15.575210Z",
     "shell.execute_reply": "2020-10-19T00:07:15.575788Z"
    },
    "papermill": {
     "duration": 0.050788,
     "end_time": "2020-10-19T00:07:15.575948",
     "exception": false,
     "start_time": "2020-10-19T00:07:15.525160",
     "status": "completed"
    },
    "tags": []
   },
   "outputs": [
    {
     "data": {
      "text/plain": [
       "((11982, 784), (1984, 784))"
      ]
     },
     "execution_count": 13,
     "metadata": {},
     "output_type": "execute_result"
    }
   ],
   "source": [
    "X_train = X_train.reshape(X_train.shape[0], -1)\n",
    "X_test = X_test.reshape(X_test.shape[0], -1)\n",
    "X_train.shape, X_test.shape"
   ]
  },
  {
   "cell_type": "markdown",
   "metadata": {
    "papermill": {
     "duration": 0.032291,
     "end_time": "2020-10-19T00:07:15.645336",
     "exception": false,
     "start_time": "2020-10-19T00:07:15.613045",
     "status": "completed"
    },
    "tags": []
   },
   "source": [
    "### Importing appropriate functions from 'Kudzu'"
   ]
  },
  {
   "cell_type": "code",
   "execution_count": 14,
   "metadata": {
    "execution": {
     "iopub.execute_input": "2020-10-19T00:07:15.718105Z",
     "iopub.status.busy": "2020-10-19T00:07:15.717412Z",
     "iopub.status.idle": "2020-10-19T00:07:15.737483Z",
     "shell.execute_reply": "2020-10-19T00:07:15.736720Z"
    },
    "papermill": {
     "duration": 0.059961,
     "end_time": "2020-10-19T00:07:15.737632",
     "exception": false,
     "start_time": "2020-10-19T00:07:15.677671",
     "status": "completed"
    },
    "tags": []
   },
   "outputs": [],
   "source": [
    "from kudzu.layer import Sigmoid\n",
    "from kudzu.layer import Relu\n",
    "from kudzu.layer import Affine, Sigmoid\n",
    "\n",
    "from kudzu.model import Model\n",
    "from kudzu.train import Learner\n",
    "from kudzu.optim import GD\n",
    "from kudzu.data import Data, Dataloader, Sampler\n",
    "\n",
    "from kudzu.callbacks import AccCallback\n",
    "from kudzu.callbacks import ClfCallback\n",
    "\n",
    "from kudzu.loss import MSE"
   ]
  },
  {
   "cell_type": "markdown",
   "metadata": {
    "papermill": {
     "duration": 0.032497,
     "end_time": "2020-10-19T00:07:15.801728",
     "exception": false,
     "start_time": "2020-10-19T00:07:15.769231",
     "status": "completed"
    },
    "tags": []
   },
   "source": [
    "### Let us create a `Config` class, to store important parameters. \n",
    "This class essentially plays the role of a dictionary."
   ]
  },
  {
   "cell_type": "code",
   "execution_count": 15,
   "metadata": {
    "execution": {
     "iopub.execute_input": "2020-10-19T00:07:15.872774Z",
     "iopub.status.busy": "2020-10-19T00:07:15.872057Z",
     "iopub.status.idle": "2020-10-19T00:07:15.888725Z",
     "shell.execute_reply": "2020-10-19T00:07:15.886099Z"
    },
    "papermill": {
     "duration": 0.055669,
     "end_time": "2020-10-19T00:07:15.888892",
     "exception": false,
     "start_time": "2020-10-19T00:07:15.833223",
     "status": "completed"
    },
    "tags": []
   },
   "outputs": [],
   "source": [
    "class Config:\n",
    "    pass\n",
    "config = Config()\n",
    "config.lr = 0.001\n",
    "config.num_epochs = 251\n",
    "config.bs = 50"
   ]
  },
  {
   "cell_type": "markdown",
   "metadata": {
    "papermill": {
     "duration": 0.033713,
     "end_time": "2020-10-19T00:07:15.956406",
     "exception": false,
     "start_time": "2020-10-19T00:07:15.922693",
     "status": "completed"
    },
    "tags": []
   },
   "source": [
    "### Initializing data to the variables"
   ]
  },
  {
   "cell_type": "code",
   "execution_count": 16,
   "metadata": {
    "execution": {
     "iopub.execute_input": "2020-10-19T00:07:16.030348Z",
     "iopub.status.busy": "2020-10-19T00:07:16.029633Z",
     "iopub.status.idle": "2020-10-19T00:07:16.042224Z",
     "shell.execute_reply": "2020-10-19T00:07:16.042929Z"
    },
    "papermill": {
     "duration": 0.054505,
     "end_time": "2020-10-19T00:07:16.043094",
     "exception": false,
     "start_time": "2020-10-19T00:07:15.988589",
     "status": "completed"
    },
    "tags": []
   },
   "outputs": [],
   "source": [
    "data = Data(X_train, y_train.reshape(-1,1))\n",
    "sampler = Sampler(data, config.bs, shuffle=True)\n",
    "\n",
    "dl = Dataloader(data, sampler)\n",
    "\n",
    "opt = GD(config.lr)\n",
    "loss = MSE()"
   ]
  },
  {
   "cell_type": "code",
   "execution_count": 17,
   "metadata": {
    "execution": {
     "iopub.execute_input": "2020-10-19T00:07:16.110916Z",
     "iopub.status.busy": "2020-10-19T00:07:16.110274Z",
     "iopub.status.idle": "2020-10-19T00:07:16.125184Z",
     "shell.execute_reply": "2020-10-19T00:07:16.125865Z"
    },
    "papermill": {
     "duration": 0.0507,
     "end_time": "2020-10-19T00:07:16.126042",
     "exception": false,
     "start_time": "2020-10-19T00:07:16.075342",
     "status": "completed"
    },
    "tags": []
   },
   "outputs": [],
   "source": [
    "training_xdata = X_train\n",
    "testing_xdata = X_test\n",
    "training_ydata = y_train.reshape(-1,1)\n",
    "testing_ydata = y_test.reshape(-1,1)"
   ]
  },
  {
   "cell_type": "markdown",
   "metadata": {
    "papermill": {
     "duration": 0.031217,
     "end_time": "2020-10-19T00:07:16.188919",
     "exception": false,
     "start_time": "2020-10-19T00:07:16.157702",
     "status": "completed"
    },
    "tags": []
   },
   "source": [
    "### Running Models with the Training data\n",
    "Details about the network layers:\n",
    "- A first affine layer has 784 inputs and does 100 affine transforms. These are followed by a Relu\n",
    "- A second affine layer has 100 inputs from the 100 activations of the past layer, and does 100 affine transforms. These are followed by a Relu\n",
    "- A third affine layer has 100 activations and does 2 affine transformations to create an embedding for visualization. There is no non-linearity here.\n",
    "- A final \"logistic regression\" which has an affine transform from 2 inputs to 1 output, which is squeezed through a sigmoid.\n",
    "\n",
    "Help taken from Anshuman's Notebook."
   ]
  },
  {
   "cell_type": "code",
   "execution_count": 18,
   "metadata": {
    "execution": {
     "iopub.execute_input": "2020-10-19T00:07:16.259833Z",
     "iopub.status.busy": "2020-10-19T00:07:16.259153Z",
     "iopub.status.idle": "2020-10-19T00:07:16.275699Z",
     "shell.execute_reply": "2020-10-19T00:07:16.276255Z"
    },
    "papermill": {
     "duration": 0.056017,
     "end_time": "2020-10-19T00:07:16.276409",
     "exception": false,
     "start_time": "2020-10-19T00:07:16.220392",
     "status": "completed"
    },
    "tags": []
   },
   "outputs": [],
   "source": [
    "# layers for the Neural Network\n",
    "layers = [Affine(\"first\", 784, 100), Relu(\"first\"), Affine(\"second\", 100, 100), Relu(\"second\"), Affine(\"third\", 100, 2), Affine(\"final\", 2, 1), Sigmoid(\"final\")]\n",
    "model_nn = Model(layers)\n",
    "\n",
    "# layers for the Logistic Regression\n",
    "layers_lr = [Affine(\"logits\", 784, 1), Sigmoid(\"sigmoid\")]\n",
    "model_lr = Model(layers_lr)"
   ]
  },
  {
   "cell_type": "code",
   "execution_count": 19,
   "metadata": {
    "execution": {
     "iopub.execute_input": "2020-10-19T00:07:16.344172Z",
     "iopub.status.busy": "2020-10-19T00:07:16.343498Z",
     "iopub.status.idle": "2020-10-19T00:07:16.356397Z",
     "shell.execute_reply": "2020-10-19T00:07:16.357066Z"
    },
    "papermill": {
     "duration": 0.049711,
     "end_time": "2020-10-19T00:07:16.357232",
     "exception": false,
     "start_time": "2020-10-19T00:07:16.307521",
     "status": "completed"
    },
    "tags": []
   },
   "outputs": [],
   "source": [
    "# suffix _nn stands for Neural Network.\n",
    "learner_nn = Learner(loss, model_nn, opt, config.num_epochs)\n",
    "acc_nn = ClfCallback(learner_nn, config.bs, training_xdata , testing_xdata, training_ydata, testing_ydata)\n",
    "learner_nn.set_callbacks([acc_nn])"
   ]
  },
  {
   "cell_type": "code",
   "execution_count": 20,
   "metadata": {
    "execution": {
     "iopub.execute_input": "2020-10-19T00:07:16.431548Z",
     "iopub.status.busy": "2020-10-19T00:07:16.430787Z",
     "iopub.status.idle": "2020-10-19T00:09:21.742907Z",
     "shell.execute_reply": "2020-10-19T00:09:21.743527Z"
    },
    "papermill": {
     "duration": 125.353263,
     "end_time": "2020-10-19T00:09:21.743701",
     "exception": false,
     "start_time": "2020-10-19T00:07:16.390438",
     "status": "completed"
    },
    "tags": []
   },
   "outputs": [
    {
     "name": "stdout",
     "output_type": "stream",
     "text": [
      "====== Neural Network ======\n"
     ]
    },
    {
     "name": "stdout",
     "output_type": "stream",
     "text": [
      "Epoch 0, Loss 0.2453\n",
      "Training Accuracy: 0.6100, Testing Accuracy: 0.6174\n",
      "\n"
     ]
    },
    {
     "name": "stdout",
     "output_type": "stream",
     "text": [
      "Epoch 10, Loss 0.1101\n",
      "Training Accuracy: 0.9216, Testing Accuracy: 0.9269\n",
      "\n"
     ]
    },
    {
     "name": "stdout",
     "output_type": "stream",
     "text": [
      "Epoch 20, Loss 0.0601\n",
      "Training Accuracy: 0.9415, Testing Accuracy: 0.9461\n",
      "\n"
     ]
    },
    {
     "name": "stdout",
     "output_type": "stream",
     "text": [
      "Epoch 30, Loss 0.046\n",
      "Training Accuracy: 0.9508, Testing Accuracy: 0.9582\n",
      "\n"
     ]
    },
    {
     "name": "stdout",
     "output_type": "stream",
     "text": [
      "Epoch 40, Loss 0.0396\n",
      "Training Accuracy: 0.9576, Testing Accuracy: 0.9647\n",
      "\n"
     ]
    },
    {
     "name": "stdout",
     "output_type": "stream",
     "text": [
      "Epoch 50, Loss 0.0358\n",
      "Training Accuracy: 0.9599, Testing Accuracy: 0.9682\n",
      "\n"
     ]
    },
    {
     "name": "stdout",
     "output_type": "stream",
     "text": [
      "Epoch 60, Loss 0.0333\n",
      "Training Accuracy: 0.9621, Testing Accuracy: 0.9708\n",
      "\n"
     ]
    },
    {
     "name": "stdout",
     "output_type": "stream",
     "text": [
      "Epoch 70, Loss 0.0314\n",
      "Training Accuracy: 0.9646, Testing Accuracy: 0.9698\n",
      "\n"
     ]
    },
    {
     "name": "stdout",
     "output_type": "stream",
     "text": [
      "Epoch 80, Loss 0.0299\n",
      "Training Accuracy: 0.9659, Testing Accuracy: 0.9708\n",
      "\n"
     ]
    },
    {
     "name": "stdout",
     "output_type": "stream",
     "text": [
      "Epoch 90, Loss 0.0287\n",
      "Training Accuracy: 0.9666, Testing Accuracy: 0.9693\n",
      "\n"
     ]
    },
    {
     "name": "stdout",
     "output_type": "stream",
     "text": [
      "Epoch 100, Loss 0.0277\n",
      "Training Accuracy: 0.9676, Testing Accuracy: 0.9698\n",
      "\n"
     ]
    },
    {
     "name": "stdout",
     "output_type": "stream",
     "text": [
      "Epoch 110, Loss 0.0269\n",
      "Training Accuracy: 0.9688, Testing Accuracy: 0.9708\n",
      "\n"
     ]
    },
    {
     "name": "stdout",
     "output_type": "stream",
     "text": [
      "Epoch 120, Loss 0.0261\n",
      "Training Accuracy: 0.9700, Testing Accuracy: 0.9713\n",
      "\n"
     ]
    },
    {
     "name": "stdout",
     "output_type": "stream",
     "text": [
      "Epoch 130, Loss 0.0254\n",
      "Training Accuracy: 0.9705, Testing Accuracy: 0.9718\n",
      "\n"
     ]
    },
    {
     "name": "stdout",
     "output_type": "stream",
     "text": [
      "Epoch 140, Loss 0.0248\n",
      "Training Accuracy: 0.9712, Testing Accuracy: 0.9713\n",
      "\n"
     ]
    },
    {
     "name": "stdout",
     "output_type": "stream",
     "text": [
      "Epoch 150, Loss 0.0242\n",
      "Training Accuracy: 0.9722, Testing Accuracy: 0.9713\n",
      "\n"
     ]
    },
    {
     "name": "stdout",
     "output_type": "stream",
     "text": [
      "Epoch 160, Loss 0.0237\n",
      "Training Accuracy: 0.9727, Testing Accuracy: 0.9713\n",
      "\n"
     ]
    },
    {
     "name": "stdout",
     "output_type": "stream",
     "text": [
      "Epoch 170, Loss 0.0232\n",
      "Training Accuracy: 0.9734, Testing Accuracy: 0.9713\n",
      "\n"
     ]
    },
    {
     "name": "stdout",
     "output_type": "stream",
     "text": [
      "Epoch 180, Loss 0.0228\n",
      "Training Accuracy: 0.9739, Testing Accuracy: 0.9713\n",
      "\n"
     ]
    },
    {
     "name": "stdout",
     "output_type": "stream",
     "text": [
      "Epoch 190, Loss 0.0223\n",
      "Training Accuracy: 0.9747, Testing Accuracy: 0.9713\n",
      "\n"
     ]
    },
    {
     "name": "stdout",
     "output_type": "stream",
     "text": [
      "Epoch 200, Loss 0.0219\n",
      "Training Accuracy: 0.9753, Testing Accuracy: 0.9723\n",
      "\n"
     ]
    },
    {
     "name": "stdout",
     "output_type": "stream",
     "text": [
      "Epoch 210, Loss 0.0215\n",
      "Training Accuracy: 0.9760, Testing Accuracy: 0.9718\n",
      "\n"
     ]
    },
    {
     "name": "stdout",
     "output_type": "stream",
     "text": [
      "Epoch 220, Loss 0.0212\n",
      "Training Accuracy: 0.9763, Testing Accuracy: 0.9718\n",
      "\n"
     ]
    },
    {
     "name": "stdout",
     "output_type": "stream",
     "text": [
      "Epoch 230, Loss 0.0208\n",
      "Training Accuracy: 0.9769, Testing Accuracy: 0.9718\n",
      "\n"
     ]
    },
    {
     "name": "stdout",
     "output_type": "stream",
     "text": [
      "Epoch 240, Loss 0.0204\n",
      "Training Accuracy: 0.9775, Testing Accuracy: 0.9723\n",
      "\n"
     ]
    },
    {
     "name": "stdout",
     "output_type": "stream",
     "text": [
      "Epoch 250, Loss 0.0201\n",
      "Training Accuracy: 0.9778, Testing Accuracy: 0.9728\n",
      "\n"
     ]
    },
    {
     "data": {
      "text/plain": [
       "0.010230689018155145"
      ]
     },
     "execution_count": 20,
     "metadata": {},
     "output_type": "execute_result"
    }
   ],
   "source": [
    "print(\"====== Neural Network ======\")\n",
    "learner_nn.train_loop(dl)"
   ]
  },
  {
   "cell_type": "markdown",
   "metadata": {
    "papermill": {
     "duration": 0.040446,
     "end_time": "2020-10-19T00:09:21.827732",
     "exception": false,
     "start_time": "2020-10-19T00:09:21.787286",
     "status": "completed"
    },
    "tags": []
   },
   "source": [
    "### Logistic Regression based Implementation."
   ]
  },
  {
   "cell_type": "code",
   "execution_count": 21,
   "metadata": {
    "execution": {
     "iopub.execute_input": "2020-10-19T00:09:21.935718Z",
     "iopub.status.busy": "2020-10-19T00:09:21.935037Z",
     "iopub.status.idle": "2020-10-19T00:09:21.945482Z",
     "shell.execute_reply": "2020-10-19T00:09:21.944908Z"
    },
    "papermill": {
     "duration": 0.06662,
     "end_time": "2020-10-19T00:09:21.945643",
     "exception": false,
     "start_time": "2020-10-19T00:09:21.879023",
     "status": "completed"
    },
    "tags": []
   },
   "outputs": [],
   "source": [
    "learner_lr = Learner(loss, model_lr, opt, config.num_epochs)\n",
    "acc_lr = ClfCallback(learner_lr, config.bs, training_xdata , testing_xdata, training_ydata, testing_ydata)\n",
    "learner_lr.set_callbacks([acc_lr])"
   ]
  },
  {
   "cell_type": "code",
   "execution_count": 22,
   "metadata": {
    "execution": {
     "iopub.execute_input": "2020-10-19T00:09:22.051852Z",
     "iopub.status.busy": "2020-10-19T00:09:22.050956Z",
     "iopub.status.idle": "2020-10-19T00:09:41.013163Z",
     "shell.execute_reply": "2020-10-19T00:09:41.014025Z"
    },
    "papermill": {
     "duration": 19.023956,
     "end_time": "2020-10-19T00:09:41.014206",
     "exception": false,
     "start_time": "2020-10-19T00:09:21.990250",
     "status": "completed"
    },
    "tags": []
   },
   "outputs": [
    {
     "name": "stdout",
     "output_type": "stream",
     "text": [
      "====== Logistic Regression ======\n",
      "Epoch 0, Loss 0.2566\n",
      "Training Accuracy: 0.6209, Testing Accuracy: 0.6376\n",
      "\n"
     ]
    },
    {
     "name": "stdout",
     "output_type": "stream",
     "text": [
      "Epoch 10, Loss 0.1061\n",
      "Training Accuracy: 0.9054, Testing Accuracy: 0.9133\n",
      "\n"
     ]
    },
    {
     "name": "stdout",
     "output_type": "stream",
     "text": [
      "Epoch 20, Loss 0.0807\n",
      "Training Accuracy: 0.9259, Testing Accuracy: 0.9400\n",
      "\n"
     ]
    },
    {
     "name": "stdout",
     "output_type": "stream",
     "text": [
      "Epoch 30, Loss 0.0691\n",
      "Training Accuracy: 0.9350, Testing Accuracy: 0.9451\n",
      "\n"
     ]
    },
    {
     "name": "stdout",
     "output_type": "stream",
     "text": [
      "Epoch 40, Loss 0.0621\n",
      "Training Accuracy: 0.9396, Testing Accuracy: 0.9496\n",
      "\n"
     ]
    },
    {
     "name": "stdout",
     "output_type": "stream",
     "text": [
      "Epoch 50, Loss 0.0574\n",
      "Training Accuracy: 0.9436, Testing Accuracy: 0.9521\n",
      "\n"
     ]
    },
    {
     "name": "stdout",
     "output_type": "stream",
     "text": [
      "Epoch 60, Loss 0.054\n",
      "Training Accuracy: 0.9464, Testing Accuracy: 0.9572\n",
      "\n"
     ]
    },
    {
     "name": "stdout",
     "output_type": "stream",
     "text": [
      "Epoch 70, Loss 0.0514\n",
      "Training Accuracy: 0.9485, Testing Accuracy: 0.9602\n",
      "\n"
     ]
    },
    {
     "name": "stdout",
     "output_type": "stream",
     "text": [
      "Epoch 80, Loss 0.0493\n",
      "Training Accuracy: 0.9504, Testing Accuracy: 0.9627\n",
      "\n"
     ]
    },
    {
     "name": "stdout",
     "output_type": "stream",
     "text": [
      "Epoch 90, Loss 0.0475\n",
      "Training Accuracy: 0.9523, Testing Accuracy: 0.9627\n",
      "\n"
     ]
    },
    {
     "name": "stdout",
     "output_type": "stream",
     "text": [
      "Epoch 100, Loss 0.0461\n",
      "Training Accuracy: 0.9540, Testing Accuracy: 0.9642\n",
      "\n"
     ]
    },
    {
     "name": "stdout",
     "output_type": "stream",
     "text": [
      "Epoch 110, Loss 0.0448\n",
      "Training Accuracy: 0.9547, Testing Accuracy: 0.9632\n",
      "\n"
     ]
    },
    {
     "name": "stdout",
     "output_type": "stream",
     "text": [
      "Epoch 120, Loss 0.0438\n",
      "Training Accuracy: 0.9553, Testing Accuracy: 0.9642\n",
      "\n"
     ]
    },
    {
     "name": "stdout",
     "output_type": "stream",
     "text": [
      "Epoch 130, Loss 0.0428\n",
      "Training Accuracy: 0.9560, Testing Accuracy: 0.9642\n",
      "\n"
     ]
    },
    {
     "name": "stdout",
     "output_type": "stream",
     "text": [
      "Epoch 140, Loss 0.042\n",
      "Training Accuracy: 0.9568, Testing Accuracy: 0.9657\n",
      "\n"
     ]
    },
    {
     "name": "stdout",
     "output_type": "stream",
     "text": [
      "Epoch 150, Loss 0.0412\n",
      "Training Accuracy: 0.9573, Testing Accuracy: 0.9662\n",
      "\n"
     ]
    },
    {
     "name": "stdout",
     "output_type": "stream",
     "text": [
      "Epoch 160, Loss 0.0405\n",
      "Training Accuracy: 0.9579, Testing Accuracy: 0.9662\n",
      "\n"
     ]
    },
    {
     "name": "stdout",
     "output_type": "stream",
     "text": [
      "Epoch 170, Loss 0.0399\n",
      "Training Accuracy: 0.9586, Testing Accuracy: 0.9662\n",
      "\n"
     ]
    },
    {
     "name": "stdout",
     "output_type": "stream",
     "text": [
      "Epoch 180, Loss 0.0393\n",
      "Training Accuracy: 0.9591, Testing Accuracy: 0.9662\n",
      "\n"
     ]
    },
    {
     "name": "stdout",
     "output_type": "stream",
     "text": [
      "Epoch 190, Loss 0.0388\n",
      "Training Accuracy: 0.9593, Testing Accuracy: 0.9662\n",
      "\n"
     ]
    },
    {
     "name": "stdout",
     "output_type": "stream",
     "text": [
      "Epoch 200, Loss 0.0383\n",
      "Training Accuracy: 0.9597, Testing Accuracy: 0.9662\n",
      "\n"
     ]
    },
    {
     "name": "stdout",
     "output_type": "stream",
     "text": [
      "Epoch 210, Loss 0.0379\n",
      "Training Accuracy: 0.9603, Testing Accuracy: 0.9667\n",
      "\n"
     ]
    },
    {
     "name": "stdout",
     "output_type": "stream",
     "text": [
      "Epoch 220, Loss 0.0375\n",
      "Training Accuracy: 0.9604, Testing Accuracy: 0.9667\n",
      "\n"
     ]
    },
    {
     "name": "stdout",
     "output_type": "stream",
     "text": [
      "Epoch 230, Loss 0.0371\n",
      "Training Accuracy: 0.9609, Testing Accuracy: 0.9672\n",
      "\n"
     ]
    },
    {
     "name": "stdout",
     "output_type": "stream",
     "text": [
      "Epoch 240, Loss 0.0367\n",
      "Training Accuracy: 0.9611, Testing Accuracy: 0.9672\n",
      "\n"
     ]
    },
    {
     "name": "stdout",
     "output_type": "stream",
     "text": [
      "Epoch 250, Loss 0.0364\n",
      "Training Accuracy: 0.9614, Testing Accuracy: 0.9672\n",
      "\n"
     ]
    },
    {
     "data": {
      "text/plain": [
       "0.04460562624264232"
      ]
     },
     "execution_count": 22,
     "metadata": {},
     "output_type": "execute_result"
    }
   ],
   "source": [
    "print(\"====== Logistic Regression ======\")\n",
    "learner_lr.train_loop(dl)"
   ]
  },
  {
   "cell_type": "markdown",
   "metadata": {
    "papermill": {
     "duration": 0.050103,
     "end_time": "2020-10-19T00:09:41.113836",
     "exception": false,
     "start_time": "2020-10-19T00:09:41.063733",
     "status": "completed"
    },
    "tags": []
   },
   "source": [
    "### Comparing results of NN and LR"
   ]
  },
  {
   "cell_type": "code",
   "execution_count": 23,
   "metadata": {
    "execution": {
     "iopub.execute_input": "2020-10-19T00:09:41.221484Z",
     "iopub.status.busy": "2020-10-19T00:09:41.220751Z",
     "iopub.status.idle": "2020-10-19T00:09:41.490095Z",
     "shell.execute_reply": "2020-10-19T00:09:41.490658Z"
    },
    "papermill": {
     "duration": 0.328112,
     "end_time": "2020-10-19T00:09:41.490839",
     "exception": false,
     "start_time": "2020-10-19T00:09:41.162727",
     "status": "completed"
    },
    "tags": []
   },
   "outputs": [
    {
     "data": {
      "text/plain": [
       "<matplotlib.legend.Legend at 0x7f31e791c2b0>"
      ]
     },
     "execution_count": 23,
     "metadata": {},
     "output_type": "execute_result"
    },
    {
     "data": {
      "image/png": "[encoded data removed]",
      "text/plain": [
       "<Figure size 1080x720 with 1 Axes>"
      ]
     },
     "metadata": {
      "needs_background": "light"
     },
     "output_type": "display_data"
    }
   ],
   "source": [
    "plt.figure(figsize=(15,10))\n",
    "\n",
    "# Neural Network plots\n",
    "plt.plot(acc_nn.accuracies, 'r-', label = \"Training Accuracies - NN\")\n",
    "plt.plot(acc_nn.test_accuracies, 'g-', label = \"Testing Accuracies - NN\")\n",
    "\n",
    "# Logistic Regression plots\n",
    "plt.plot(acc_lr.accuracies, 'k-', label = \"Training Accuracies - LR\")\n",
    "plt.plot(acc_lr.test_accuracies, 'b-', label = \"Testing Accuracies - LR\")\n",
    "\n",
    "plt.ylim(0.8, 1)\n",
    "\n",
    "plt.legend()\n",
    "\n"
   ]
  },
  {
   "cell_type": "markdown",
   "metadata": {
    "papermill": {
     "duration": 0.065269,
     "end_time": "2020-10-19T00:09:41.606588",
     "exception": false,
     "start_time": "2020-10-19T00:09:41.541319",
     "status": "completed"
    },
    "tags": []
   },
   "source": [
    "### From the plot, we can observe the following:\n",
    "- Neural Network achieves higher accuracy than the Logistic Regression model.\n",
    "- This apparently, is because of overfitting, i.e. NN captures more noise than data.\n",
    "- Testing accuracy of NN drops below the Training accuracy at higher epochs. This explains the over-fitting on training data.\n",
    "- Logistic Regression gives a reliable accuracy, without the above mentioned problem.\n"
   ]
  },
  {
   "cell_type": "markdown",
   "metadata": {
    "papermill": {
     "duration": 0.053682,
     "end_time": "2020-10-19T00:09:41.712187",
     "exception": false,
     "start_time": "2020-10-19T00:09:41.658505",
     "status": "completed"
    },
    "tags": []
   },
   "source": [
    "### Moving till the last but one layer (excluding it).\n",
    "#### Plotting the outputs of this layer of the NN."
   ]
  },
  {
   "cell_type": "code",
   "execution_count": 24,
   "metadata": {
    "execution": {
     "iopub.execute_input": "2020-10-19T00:09:41.833204Z",
     "iopub.status.busy": "2020-10-19T00:09:41.832557Z",
     "iopub.status.idle": "2020-10-19T00:09:41.837456Z",
     "shell.execute_reply": "2020-10-19T00:09:41.836876Z"
    },
    "papermill": {
     "duration": 0.07497,
     "end_time": "2020-10-19T00:09:41.837580",
     "exception": false,
     "start_time": "2020-10-19T00:09:41.762610",
     "status": "completed"
    },
    "tags": []
   },
   "outputs": [],
   "source": [
    "model_new = Model(layers[:-2])"
   ]
  },
  {
   "cell_type": "code",
   "execution_count": 25,
   "metadata": {
    "execution": {
     "iopub.execute_input": "2020-10-19T00:09:41.962371Z",
     "iopub.status.busy": "2020-10-19T00:09:41.961639Z",
     "iopub.status.idle": "2020-10-19T00:09:41.987732Z",
     "shell.execute_reply": "2020-10-19T00:09:41.988562Z"
    },
    "papermill": {
     "duration": 0.092984,
     "end_time": "2020-10-19T00:09:41.988746",
     "exception": false,
     "start_time": "2020-10-19T00:09:41.895762",
     "status": "completed"
    },
    "tags": []
   },
   "outputs": [],
   "source": [
    "plot_testing = model_new(testing_xdata)"
   ]
  },
  {
   "cell_type": "code",
   "execution_count": 26,
   "metadata": {
    "execution": {
     "iopub.execute_input": "2020-10-19T00:09:42.106760Z",
     "iopub.status.busy": "2020-10-19T00:09:42.105629Z",
     "iopub.status.idle": "2020-10-19T00:09:42.333124Z",
     "shell.execute_reply": "2020-10-19T00:09:42.333619Z"
    },
    "papermill": {
     "duration": 0.29241,
     "end_time": "2020-10-19T00:09:42.333804",
     "exception": false,
     "start_time": "2020-10-19T00:09:42.041394",
     "status": "completed"
    },
    "tags": []
   },
   "outputs": [
    {
     "data": {
      "text/plain": [
       "Text(0.5, 1.0, 'Outputs')"
      ]
     },
     "execution_count": 26,
     "metadata": {},
     "output_type": "execute_result"
    },
    {
     "data": {
      "image/png": "[encoded data removed]",
      "text/plain": [
       "<Figure size 576x504 with 1 Axes>"
      ]
     },
     "metadata": {
      "needs_background": "light"
     },
     "output_type": "display_data"
    }
   ],
   "source": [
    "plt.figure(figsize=(8,7))\n",
    "plt.scatter(plot_testing[:,0], plot_testing[:,1], alpha = 0.1, c = y_test.ravel());\n",
    "plt.title('Outputs')"
   ]
  },
  {
   "cell_type": "markdown",
   "metadata": {
    "papermill": {
     "duration": 0.056255,
     "end_time": "2020-10-19T00:09:42.444781",
     "exception": false,
     "start_time": "2020-10-19T00:09:42.388526",
     "status": "completed"
    },
    "tags": []
   },
   "source": [
    "### Plotting probability contours"
   ]
  },
  {
   "cell_type": "code",
   "execution_count": 27,
   "metadata": {
    "execution": {
     "iopub.execute_input": "2020-10-19T00:09:42.570202Z",
     "iopub.status.busy": "2020-10-19T00:09:42.566547Z",
     "iopub.status.idle": "2020-10-19T00:09:42.572316Z",
     "shell.execute_reply": "2020-10-19T00:09:42.572857Z"
    },
    "papermill": {
     "duration": 0.073967,
     "end_time": "2020-10-19T00:09:42.573048",
     "exception": false,
     "start_time": "2020-10-19T00:09:42.499081",
     "status": "completed"
    },
    "tags": []
   },
   "outputs": [],
   "source": [
    "model_prob = Model(layers[-2:]) "
   ]
  },
  {
   "cell_type": "code",
   "execution_count": 28,
   "metadata": {
    "execution": {
     "iopub.execute_input": "2020-10-19T00:09:42.687869Z",
     "iopub.status.busy": "2020-10-19T00:09:42.687172Z",
     "iopub.status.idle": "2020-10-19T00:09:42.703128Z",
     "shell.execute_reply": "2020-10-19T00:09:42.703634Z"
    },
    "papermill": {
     "duration": 0.076764,
     "end_time": "2020-10-19T00:09:42.703833",
     "exception": false,
     "start_time": "2020-10-19T00:09:42.627069",
     "status": "completed"
    },
    "tags": []
   },
   "outputs": [],
   "source": [
    "# Adjust the x and y ranges according to the above generated plot.\n",
    "x_range = np.linspace(-4, 1, 100) \n",
    "y_range = np.linspace(-6, 6, 100) \n",
    "x_grid, y_grid = np.meshgrid(x_range, y_range) # x_grid and y_grig are of size 100 X 100\n",
    "\n",
    "# converting x_grid and y_grid to continuous arrays\n",
    "x_grid_flat = np.ravel(x_grid)\n",
    "y_grid_flat = np.ravel(y_grid)\n",
    "\n",
    "# The last layer of the current model takes two columns as input. Hence transpose of np.vstack() is required.\n",
    "X = np.vstack((x_grid_flat, y_grid_flat)).T\n",
    "\n",
    "# x_grid and y_grid are of size 100 x 100\n",
    "probability_contour = model_prob(X).reshape(100,100) "
   ]
  },
  {
   "cell_type": "code",
   "execution_count": 29,
   "metadata": {
    "execution": {
     "iopub.execute_input": "2020-10-19T00:09:42.822938Z",
     "iopub.status.busy": "2020-10-19T00:09:42.822267Z",
     "iopub.status.idle": "2020-10-19T00:09:43.108191Z",
     "shell.execute_reply": "2020-10-19T00:09:43.108755Z"
    },
    "papermill": {
     "duration": 0.348726,
     "end_time": "2020-10-19T00:09:43.108934",
     "exception": false,
     "start_time": "2020-10-19T00:09:42.760208",
     "status": "completed"
    },
    "tags": []
   },
   "outputs": [
    {
     "data": {
      "image/png": "[encoded data removed]",
      "text/plain": [
       "<Figure size 720x648 with 1 Axes>"
      ]
     },
     "metadata": {
      "needs_background": "light"
     },
     "output_type": "display_data"
    }
   ],
   "source": [
    "plt.figure(figsize=(10,9))\n",
    "plt.scatter(plot_testing[:,0], plot_testing[:,1], alpha = 0.1, c = y_test.ravel())\n",
    "contours = plt.contour(x_grid,y_grid,probability_contour)\n",
    "plt.title('Probability Contours')\n",
    "plt.clabel(contours, inline = True );"
   ]
  }
 ],
 "metadata": {
  "kernelspec": {
   "display_name": "Python 3",
   "language": "python",
   "name": "python3"
  },
  "language_info": {
   "codemirror_mode": {
    "name": "ipython",
    "version": 3
   },
   "file_extension": ".py",
   "mimetype": "text/x-python",
   "name": "python",
   "nbconvert_exporter": "python",
   "pygments_lexer": "ipython3",
   "version": "3.6.12"
  },
  "papermill": {
   "duration": 156.429862,
   "end_time": "2020-10-19T00:09:44.467129",
   "environment_variables": {},
   "exception": null,
   "input_path": "2020-08-11-NeuralNetwork.ipynb",
   "output_path": "2020-08-11-NeuralNetwork.ipynb",
   "parameters": {},
   "start_time": "2020-10-19T00:07:08.037267",
   "version": "2.1.2"
  }
 },
 "nbformat": 4,
 "nbformat_minor": 4
}