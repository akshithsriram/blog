{
 "cells": [
  {
   "cell_type": "markdown",
   "metadata": {
    "papermill": {
     "duration": 0.029078,
     "end_time": "2020-11-28T20:03:46.877049",
     "exception": false,
     "start_time": "2020-11-28T20:03:46.847971",
     "status": "completed"
    },
    "tags": []
   },
   "source": [
    "# \"A Basic Neural Network: Differentiate Hand-Written Digits\"\n",
    "\n",
    "- badges: true\n",
    "- author: Akshith Sriram"
   ]
  },
  {
   "cell_type": "markdown",
   "metadata": {
    "papermill": {
     "duration": 0.022552,
     "end_time": "2020-11-28T20:03:46.986202",
     "exception": false,
     "start_time": "2020-11-28T20:03:46.963650",
     "status": "completed"
    },
    "tags": []
   },
   "source": [
    "### Key Objectives:\n",
    "- Building a neural network that differentiates two hand-written digits 3 and 8.\n",
    "- Comparing the results of this Neural Network (NN) to that of a Logistic Regression (LR) model.\n",
    "\n",
    "### Requirements:\n",
    "- 'Kudzu' : A neural network library that was designed during our course by [Univ.AI](www.univ.ai). \n",
    "- MNIST Database\n",
    "\n",
    "If MNIST is not installed, use the command `!pip install mnist` given below.\n",
    "It can be run both from the command line and Jupyter Notebook."
   ]
  },
  {
   "cell_type": "code",
   "execution_count": 1,
   "metadata": {
    "execution": {
     "iopub.execute_input": "2020-11-28T20:03:47.034913Z",
     "iopub.status.busy": "2020-11-28T20:03:47.034250Z",
     "iopub.status.idle": "2020-11-28T20:03:48.534100Z",
     "shell.execute_reply": "2020-11-28T20:03:48.533105Z"
    },
    "papermill": {
     "duration": 1.525702,
     "end_time": "2020-11-28T20:03:48.534244",
     "exception": false,
     "start_time": "2020-11-28T20:03:47.008542",
     "status": "completed"
    },
    "tags": []
   },
   "outputs": [
    {
     "name": "stdout",
     "output_type": "stream",
     "text": [
      "Collecting mnist\r\n"
     ]
    },
    {
     "name": "stdout",
     "output_type": "stream",
     "text": [
      "  Downloading mnist-0.2.2-py2.py3-none-any.whl (3.5 kB)\r\n",
      "Requirement already satisfied: numpy in /opt/hostedtoolcache/Python/3.6.12/x64/lib/python3.6/site-packages (from mnist) (1.19.4)\r\n"
     ]
    },
    {
     "name": "stdout",
     "output_type": "stream",
     "text": [
      "Installing collected packages: mnist\r\n"
     ]
    },
    {
     "name": "stdout",
     "output_type": "stream",
     "text": [
      "Successfully installed mnist-0.2.2\r\n"
     ]
    }
   ],
   "source": [
    "!pip install mnist "
   ]
  },
  {
   "cell_type": "markdown",
   "metadata": {
    "papermill": {
     "duration": 0.023162,
     "end_time": "2020-11-28T20:03:48.582079",
     "exception": false,
     "start_time": "2020-11-28T20:03:48.558917",
     "status": "completed"
    },
    "tags": []
   },
   "source": [
    "#### Importing necessary libraries"
   ]
  },
  {
   "cell_type": "code",
   "execution_count": 2,
   "metadata": {
    "execution": {
     "iopub.execute_input": "2020-11-28T20:03:48.637985Z",
     "iopub.status.busy": "2020-11-28T20:03:48.637464Z",
     "iopub.status.idle": "2020-11-28T20:03:49.148870Z",
     "shell.execute_reply": "2020-11-28T20:03:49.147807Z"
    },
    "papermill": {
     "duration": 0.541313,
     "end_time": "2020-11-28T20:03:49.149013",
     "exception": false,
     "start_time": "2020-11-28T20:03:48.607700",
     "status": "completed"
    },
    "tags": []
   },
   "outputs": [],
   "source": [
    "%load_ext autoreload\n",
    "%autoreload 2\n",
    "\n",
    "%matplotlib inline\n",
    "import matplotlib.pyplot as plt\n",
    "\n",
    "import numpy as np\n",
    "import pandas as pd"
   ]
  },
  {
   "cell_type": "markdown",
   "metadata": {
    "papermill": {
     "duration": 0.02533,
     "end_time": "2020-11-28T20:03:49.201966",
     "exception": false,
     "start_time": "2020-11-28T20:03:49.176636",
     "status": "completed"
    },
    "tags": []
   },
   "source": [
    "### Preparing the Data"
   ]
  },
  {
   "cell_type": "code",
   "execution_count": 3,
   "metadata": {
    "execution": {
     "iopub.execute_input": "2020-11-28T20:03:49.259607Z",
     "iopub.status.busy": "2020-11-28T20:03:49.252984Z",
     "iopub.status.idle": "2020-11-28T20:03:49.264740Z",
     "shell.execute_reply": "2020-11-28T20:03:49.264140Z"
    },
    "papermill": {
     "duration": 0.038936,
     "end_time": "2020-11-28T20:03:49.264893",
     "exception": false,
     "start_time": "2020-11-28T20:03:49.225957",
     "status": "completed"
    },
    "tags": []
   },
   "outputs": [],
   "source": [
    "import mnist"
   ]
  },
  {
   "cell_type": "code",
   "execution_count": 4,
   "metadata": {
    "execution": {
     "iopub.execute_input": "2020-11-28T20:03:49.319454Z",
     "iopub.status.busy": "2020-11-28T20:03:49.318879Z",
     "iopub.status.idle": "2020-11-28T20:03:50.988663Z",
     "shell.execute_reply": "2020-11-28T20:03:50.988178Z"
    },
    "papermill": {
     "duration": 1.698454,
     "end_time": "2020-11-28T20:03:50.988789",
     "exception": false,
     "start_time": "2020-11-28T20:03:49.290335",
     "status": "completed"
    },
    "tags": []
   },
   "outputs": [],
   "source": [
    "train_images = mnist.train_images()\n",
    "train_labels = mnist.train_labels()"
   ]
  },
  {
   "cell_type": "code",
   "execution_count": 5,
   "metadata": {
    "execution": {
     "iopub.execute_input": "2020-11-28T20:03:51.321391Z",
     "iopub.status.busy": "2020-11-28T20:03:51.310772Z",
     "iopub.status.idle": "2020-11-28T20:03:51.323496Z",
     "shell.execute_reply": "2020-11-28T20:03:51.323915Z"
    },
    "papermill": {
     "duration": 0.217086,
     "end_time": "2020-11-28T20:03:51.324034",
     "exception": false,
     "start_time": "2020-11-28T20:03:51.106948",
     "status": "completed"
    },
    "tags": []
   },
   "outputs": [
    {
     "data": {
      "text/plain": [
       "((60000, 28, 28), (60000,))"
      ]
     },
     "execution_count": 5,
     "metadata": {},
     "output_type": "execute_result"
    }
   ],
   "source": [
    "train_images.shape, train_labels.shape"
   ]
  },
  {
   "cell_type": "code",
   "execution_count": 6,
   "metadata": {
    "execution": {
     "iopub.execute_input": "2020-11-28T20:03:52.043647Z",
     "iopub.status.busy": "2020-11-28T20:03:52.043135Z",
     "iopub.status.idle": "2020-11-28T20:03:52.922571Z",
     "shell.execute_reply": "2020-11-28T20:03:52.922017Z"
    },
    "papermill": {
     "duration": 0.908352,
     "end_time": "2020-11-28T20:03:52.922700",
     "exception": false,
     "start_time": "2020-11-28T20:03:52.014348",
     "status": "completed"
    },
    "tags": []
   },
   "outputs": [],
   "source": [
    "test_images = mnist.test_images()\n",
    "test_labels = mnist.test_labels()"
   ]
  },
  {
   "cell_type": "code",
   "execution_count": 7,
   "metadata": {
    "execution": {
     "iopub.execute_input": "2020-11-28T20:03:52.978693Z",
     "iopub.status.busy": "2020-11-28T20:03:52.977865Z",
     "iopub.status.idle": "2020-11-28T20:03:52.990604Z",
     "shell.execute_reply": "2020-11-28T20:03:52.990120Z"
    },
    "papermill": {
     "duration": 0.043966,
     "end_time": "2020-11-28T20:03:52.990707",
     "exception": false,
     "start_time": "2020-11-28T20:03:52.946741",
     "status": "completed"
    },
    "tags": []
   },
   "outputs": [
    {
     "data": {
      "text/plain": [
       "((10000, 28, 28), (10000,))"
      ]
     },
     "execution_count": 7,
     "metadata": {},
     "output_type": "execute_result"
    }
   ],
   "source": [
    "test_images.shape, test_labels.shape"
   ]
  },
  {
   "cell_type": "code",
   "execution_count": 8,
   "metadata": {
    "execution": {
     "iopub.execute_input": "2020-11-28T20:03:53.043463Z",
     "iopub.status.busy": "2020-11-28T20:03:53.042928Z",
     "iopub.status.idle": "2020-11-28T20:03:53.192466Z",
     "shell.execute_reply": "2020-11-28T20:03:53.192933Z"
    },
    "papermill": {
     "duration": 0.17762,
     "end_time": "2020-11-28T20:03:53.193099",
     "exception": false,
     "start_time": "2020-11-28T20:03:53.015479",
     "status": "completed"
    },
    "tags": []
   },
   "outputs": [
    {
     "name": "stdout",
     "output_type": "stream",
     "text": [
      "2\n"
     ]
    },
    {
     "data": {
      "text/plain": [
       "<matplotlib.image.AxesImage at 0x7f1fc340a0b8>"
      ]
     },
     "execution_count": 8,
     "metadata": {},
     "output_type": "execute_result"
    },
    {
     "data": {
      "image/png": "[encoded data removed]",
      "text/plain": [
       "<Figure size 432x288 with 1 Axes>"
      ]
     },
     "metadata": {
      "needs_background": "light"
     },
     "output_type": "display_data"
    }
   ],
   "source": [
    "image_index = 7776 # You may select anything up to 60,000\n",
    "print(train_labels[image_index]) \n",
    "plt.imshow(train_images[image_index], cmap='Greys')"
   ]
  },
  {
   "cell_type": "markdown",
   "metadata": {
    "papermill": {
     "duration": 0.025933,
     "end_time": "2020-11-28T20:03:53.246273",
     "exception": false,
     "start_time": "2020-11-28T20:03:53.220340",
     "status": "completed"
    },
    "tags": []
   },
   "source": [
    "## Filter data to get 3 and 8 out"
   ]
  },
  {
   "cell_type": "code",
   "execution_count": 9,
   "metadata": {
    "execution": {
     "iopub.execute_input": "2020-11-28T20:03:53.311389Z",
     "iopub.status.busy": "2020-11-28T20:03:53.304089Z",
     "iopub.status.idle": "2020-11-28T20:03:53.319201Z",
     "shell.execute_reply": "2020-11-28T20:03:53.319640Z"
    },
    "papermill": {
     "duration": 0.048907,
     "end_time": "2020-11-28T20:03:53.319774",
     "exception": false,
     "start_time": "2020-11-28T20:03:53.270867",
     "status": "completed"
    },
    "tags": []
   },
   "outputs": [],
   "source": [
    "train_filter = np.where((train_labels == 3 ) | (train_labels == 8))\n",
    "test_filter = np.where((test_labels == 3) | (test_labels == 8))\n",
    "X_train, y_train = train_images[train_filter], train_labels[train_filter]\n",
    "X_test, y_test = test_images[test_filter], test_labels[test_filter]"
   ]
  },
  {
   "cell_type": "markdown",
   "metadata": {
    "papermill": {
     "duration": 0.02625,
     "end_time": "2020-11-28T20:03:53.372179",
     "exception": false,
     "start_time": "2020-11-28T20:03:53.345929",
     "status": "completed"
    },
    "tags": []
   },
   "source": [
    "We normalize the pixel values in the 0 to 1 range"
   ]
  },
  {
   "cell_type": "code",
   "execution_count": 10,
   "metadata": {
    "execution": {
     "iopub.execute_input": "2020-11-28T20:03:53.431734Z",
     "iopub.status.busy": "2020-11-28T20:03:53.431155Z",
     "iopub.status.idle": "2020-11-28T20:03:53.489052Z",
     "shell.execute_reply": "2020-11-28T20:03:53.488541Z"
    },
    "papermill": {
     "duration": 0.089267,
     "end_time": "2020-11-28T20:03:53.489203",
     "exception": false,
     "start_time": "2020-11-28T20:03:53.399936",
     "status": "completed"
    },
    "tags": []
   },
   "outputs": [],
   "source": [
    "X_train = X_train/255.\n",
    "X_test = X_test/255."
   ]
  },
  {
   "cell_type": "markdown",
   "metadata": {
    "papermill": {
     "duration": 0.027593,
     "end_time": "2020-11-28T20:03:53.545168",
     "exception": false,
     "start_time": "2020-11-28T20:03:53.517575",
     "status": "completed"
    },
    "tags": []
   },
   "source": [
    "Setup the labels as 1 (when the digit is 3) and 0 (when the digit is 8)"
   ]
  },
  {
   "cell_type": "code",
   "execution_count": 11,
   "metadata": {
    "execution": {
     "iopub.execute_input": "2020-11-28T20:03:53.619007Z",
     "iopub.status.busy": "2020-11-28T20:03:53.618393Z",
     "iopub.status.idle": "2020-11-28T20:03:53.621500Z",
     "shell.execute_reply": "2020-11-28T20:03:53.621030Z"
    },
    "papermill": {
     "duration": 0.049007,
     "end_time": "2020-11-28T20:03:53.621632",
     "exception": false,
     "start_time": "2020-11-28T20:03:53.572625",
     "status": "completed"
    },
    "tags": []
   },
   "outputs": [],
   "source": [
    "y_train = 1*(y_train==3)\n",
    "y_test = 1*(y_test==3)"
   ]
  },
  {
   "cell_type": "code",
   "execution_count": 12,
   "metadata": {
    "execution": {
     "iopub.execute_input": "2020-11-28T20:03:53.679276Z",
     "iopub.status.busy": "2020-11-28T20:03:53.678692Z",
     "iopub.status.idle": "2020-11-28T20:03:53.690054Z",
     "shell.execute_reply": "2020-11-28T20:03:53.690514Z"
    },
    "papermill": {
     "duration": 0.042165,
     "end_time": "2020-11-28T20:03:53.690643",
     "exception": false,
     "start_time": "2020-11-28T20:03:53.648478",
     "status": "completed"
    },
    "tags": []
   },
   "outputs": [
    {
     "data": {
      "text/plain": [
       "((11982, 28, 28), (1984, 28, 28))"
      ]
     },
     "execution_count": 12,
     "metadata": {},
     "output_type": "execute_result"
    }
   ],
   "source": [
    "X_train.shape, X_test.shape"
   ]
  },
  {
   "cell_type": "markdown",
   "metadata": {
    "papermill": {
     "duration": 0.029477,
     "end_time": "2020-11-28T20:03:53.747700",
     "exception": false,
     "start_time": "2020-11-28T20:03:53.718223",
     "status": "completed"
    },
    "tags": []
   },
   "source": [
    "### Reshape the input data to create a linear array"
   ]
  },
  {
   "cell_type": "code",
   "execution_count": 13,
   "metadata": {
    "execution": {
     "iopub.execute_input": "2020-11-28T20:03:53.817616Z",
     "iopub.status.busy": "2020-11-28T20:03:53.811216Z",
     "iopub.status.idle": "2020-11-28T20:03:53.820458Z",
     "shell.execute_reply": "2020-11-28T20:03:53.820926Z"
    },
    "papermill": {
     "duration": 0.045399,
     "end_time": "2020-11-28T20:03:53.821048",
     "exception": false,
     "start_time": "2020-11-28T20:03:53.775649",
     "status": "completed"
    },
    "tags": []
   },
   "outputs": [
    {
     "data": {
      "text/plain": [
       "((11982, 784), (1984, 784))"
      ]
     },
     "execution_count": 13,
     "metadata": {},
     "output_type": "execute_result"
    }
   ],
   "source": [
    "X_train = X_train.reshape(X_train.shape[0], -1)\n",
    "X_test = X_test.reshape(X_test.shape[0], -1)\n",
    "X_train.shape, X_test.shape"
   ]
  },
  {
   "cell_type": "markdown",
   "metadata": {
    "papermill": {
     "duration": 0.027447,
     "end_time": "2020-11-28T20:03:53.875400",
     "exception": false,
     "start_time": "2020-11-28T20:03:53.847953",
     "status": "completed"
    },
    "tags": []
   },
   "source": [
    "### Importing appropriate functions from 'Kudzu'"
   ]
  },
  {
   "cell_type": "code",
   "execution_count": 14,
   "metadata": {
    "execution": {
     "iopub.execute_input": "2020-11-28T20:03:53.951160Z",
     "iopub.status.busy": "2020-11-28T20:03:53.946089Z",
     "iopub.status.idle": "2020-11-28T20:03:53.962235Z",
     "shell.execute_reply": "2020-11-28T20:03:53.962720Z"
    },
    "papermill": {
     "duration": 0.059304,
     "end_time": "2020-11-28T20:03:53.962841",
     "exception": false,
     "start_time": "2020-11-28T20:03:53.903537",
     "status": "completed"
    },
    "tags": []
   },
   "outputs": [],
   "source": [
    "from kudzu.layer import Sigmoid\n",
    "from kudzu.layer import Relu\n",
    "from kudzu.layer import Affine, Sigmoid\n",
    "\n",
    "from kudzu.model import Model\n",
    "from kudzu.train import Learner\n",
    "from kudzu.optim import GD\n",
    "from kudzu.data import Data, Dataloader, Sampler\n",
    "\n",
    "from kudzu.callbacks import AccCallback\n",
    "from kudzu.callbacks import ClfCallback\n",
    "\n",
    "from kudzu.loss import MSE"
   ]
  },
  {
   "cell_type": "markdown",
   "metadata": {
    "papermill": {
     "duration": 0.026496,
     "end_time": "2020-11-28T20:03:54.016583",
     "exception": false,
     "start_time": "2020-11-28T20:03:53.990087",
     "status": "completed"
    },
    "tags": []
   },
   "source": [
    "### Let us create a `Config` class, to store important parameters. \n",
    "This class essentially plays the role of a dictionary."
   ]
  },
  {
   "cell_type": "code",
   "execution_count": 15,
   "metadata": {
    "execution": {
     "iopub.execute_input": "2020-11-28T20:03:54.078675Z",
     "iopub.status.busy": "2020-11-28T20:03:54.078092Z",
     "iopub.status.idle": "2020-11-28T20:03:54.086257Z",
     "shell.execute_reply": "2020-11-28T20:03:54.087030Z"
    },
    "papermill": {
     "duration": 0.043593,
     "end_time": "2020-11-28T20:03:54.087147",
     "exception": false,
     "start_time": "2020-11-28T20:03:54.043554",
     "status": "completed"
    },
    "tags": []
   },
   "outputs": [],
   "source": [
    "class Config:\n",
    "    pass\n",
    "config = Config()\n",
    "config.lr = 0.001\n",
    "config.num_epochs = 251\n",
    "config.bs = 50"
   ]
  },
  {
   "cell_type": "markdown",
   "metadata": {
    "papermill": {
     "duration": 0.026318,
     "end_time": "2020-11-28T20:03:54.140160",
     "exception": false,
     "start_time": "2020-11-28T20:03:54.113842",
     "status": "completed"
    },
    "tags": []
   },
   "source": [
    "### Initializing data to the variables"
   ]
  },
  {
   "cell_type": "code",
   "execution_count": 16,
   "metadata": {
    "execution": {
     "iopub.execute_input": "2020-11-28T20:03:54.194803Z",
     "iopub.status.busy": "2020-11-28T20:03:54.194185Z",
     "iopub.status.idle": "2020-11-28T20:03:54.205216Z",
     "shell.execute_reply": "2020-11-28T20:03:54.205680Z"
    },
    "papermill": {
     "duration": 0.039728,
     "end_time": "2020-11-28T20:03:54.205795",
     "exception": false,
     "start_time": "2020-11-28T20:03:54.166067",
     "status": "completed"
    },
    "tags": []
   },
   "outputs": [],
   "source": [
    "data = Data(X_train, y_train.reshape(-1,1))\n",
    "sampler = Sampler(data, config.bs, shuffle=True)\n",
    "\n",
    "dl = Dataloader(data, sampler)\n",
    "\n",
    "opt = GD(config.lr)\n",
    "loss = MSE()"
   ]
  },
  {
   "cell_type": "code",
   "execution_count": 17,
   "metadata": {
    "execution": {
     "iopub.execute_input": "2020-11-28T20:03:54.261979Z",
     "iopub.status.busy": "2020-11-28T20:03:54.261261Z",
     "iopub.status.idle": "2020-11-28T20:03:54.271078Z",
     "shell.execute_reply": "2020-11-28T20:03:54.271543Z"
    },
    "papermill": {
     "duration": 0.039269,
     "end_time": "2020-11-28T20:03:54.271673",
     "exception": false,
     "start_time": "2020-11-28T20:03:54.232404",
     "status": "completed"
    },
    "tags": []
   },
   "outputs": [],
   "source": [
    "training_xdata = X_train\n",
    "testing_xdata = X_test\n",
    "training_ydata = y_train.reshape(-1,1)\n",
    "testing_ydata = y_test.reshape(-1,1)"
   ]
  },
  {
   "cell_type": "markdown",
   "metadata": {
    "papermill": {
     "duration": 0.026002,
     "end_time": "2020-11-28T20:03:54.324477",
     "exception": false,
     "start_time": "2020-11-28T20:03:54.298475",
     "status": "completed"
    },
    "tags": []
   },
   "source": [
    "### Running Models with the Training data\n",
    "Details about the network layers:\n",
    "- A first affine layer has 784 inputs and does 100 affine transforms. These are followed by a Relu\n",
    "- A second affine layer has 100 inputs from the 100 activations of the past layer, and does 100 affine transforms. These are followed by a Relu\n",
    "- A third affine layer has 100 activations and does 2 affine transformations to create an embedding for visualization. There is no non-linearity here.\n",
    "- A final \"logistic regression\" which has an affine transform from 2 inputs to 1 output, which is squeezed through a sigmoid.\n",
    "\n",
    "Help taken from Anshuman's Notebook."
   ]
  },
  {
   "cell_type": "code",
   "execution_count": 18,
   "metadata": {
    "execution": {
     "iopub.execute_input": "2020-11-28T20:03:54.388194Z",
     "iopub.status.busy": "2020-11-28T20:03:54.387491Z",
     "iopub.status.idle": "2020-11-28T20:03:54.406333Z",
     "shell.execute_reply": "2020-11-28T20:03:54.405682Z"
    },
    "papermill": {
     "duration": 0.054112,
     "end_time": "2020-11-28T20:03:54.406542",
     "exception": false,
     "start_time": "2020-11-28T20:03:54.352430",
     "status": "completed"
    },
    "tags": []
   },
   "outputs": [],
   "source": [
    "# layers for the Neural Network\n",
    "layers = [Affine(\"first\", 784, 100), Relu(\"first\"), Affine(\"second\", 100, 100), Relu(\"second\"), Affine(\"third\", 100, 2), Affine(\"final\", 2, 1), Sigmoid(\"final\")]\n",
    "model_nn = Model(layers)\n",
    "\n",
    "# layers for the Logistic Regression\n",
    "layers_lr = [Affine(\"logits\", 784, 1), Sigmoid(\"sigmoid\")]\n",
    "model_lr = Model(layers_lr)"
   ]
  },
  {
   "cell_type": "code",
   "execution_count": 19,
   "metadata": {
    "execution": {
     "iopub.execute_input": "2020-11-28T20:03:54.487320Z",
     "iopub.status.busy": "2020-11-28T20:03:54.486671Z",
     "iopub.status.idle": "2020-11-28T20:03:54.501322Z",
     "shell.execute_reply": "2020-11-28T20:03:54.500793Z"
    },
    "papermill": {
     "duration": 0.056979,
     "end_time": "2020-11-28T20:03:54.501461",
     "exception": false,
     "start_time": "2020-11-28T20:03:54.444482",
     "status": "completed"
    },
    "tags": []
   },
   "outputs": [],
   "source": [
    "# suffix _nn stands for Neural Network.\n",
    "learner_nn = Learner(loss, model_nn, opt, config.num_epochs)\n",
    "acc_nn = ClfCallback(learner_nn, config.bs, training_xdata , testing_xdata, training_ydata, testing_ydata)\n",
    "learner_nn.set_callbacks([acc_nn])"
   ]
  },
  {
   "cell_type": "code",
   "execution_count": 20,
   "metadata": {
    "execution": {
     "iopub.execute_input": "2020-11-28T20:03:54.560959Z",
     "iopub.status.busy": "2020-11-28T20:03:54.560319Z",
     "iopub.status.idle": "2020-11-28T20:06:02.377669Z",
     "shell.execute_reply": "2020-11-28T20:06:02.377188Z"
    },
    "papermill": {
     "duration": 127.848244,
     "end_time": "2020-11-28T20:06:02.377795",
     "exception": false,
     "start_time": "2020-11-28T20:03:54.529551",
     "status": "completed"
    },
    "tags": []
   },
   "outputs": [
    {
     "name": "stdout",
     "output_type": "stream",
     "text": [
      "====== Neural Network ======\n"
     ]
    },
    {
     "name": "stdout",
     "output_type": "stream",
     "text": [
      "Epoch 0, Loss 0.2462\n",
      "Training Accuracy: 0.7148, Testing Accuracy: 0.7056\n",
      "\n"
     ]
    },
    {
     "name": "stdout",
     "output_type": "stream",
     "text": [
      "Epoch 10, Loss 0.0598\n",
      "Training Accuracy: 0.9413, Testing Accuracy: 0.9556\n",
      "\n"
     ]
    },
    {
     "name": "stdout",
     "output_type": "stream",
     "text": [
      "Epoch 20, Loss 0.0423\n",
      "Training Accuracy: 0.9553, Testing Accuracy: 0.9642\n",
      "\n"
     ]
    },
    {
     "name": "stdout",
     "output_type": "stream",
     "text": [
      "Epoch 30, Loss 0.0356\n",
      "Training Accuracy: 0.9614, Testing Accuracy: 0.9693\n",
      "\n"
     ]
    },
    {
     "name": "stdout",
     "output_type": "stream",
     "text": [
      "Epoch 40, Loss 0.0318\n",
      "Training Accuracy: 0.9644, Testing Accuracy: 0.9708\n",
      "\n"
     ]
    },
    {
     "name": "stdout",
     "output_type": "stream",
     "text": [
      "Epoch 50, Loss 0.0292\n",
      "Training Accuracy: 0.9668, Testing Accuracy: 0.9713\n",
      "\n"
     ]
    },
    {
     "name": "stdout",
     "output_type": "stream",
     "text": [
      "Epoch 60, Loss 0.0273\n",
      "Training Accuracy: 0.9687, Testing Accuracy: 0.9718\n",
      "\n"
     ]
    },
    {
     "name": "stdout",
     "output_type": "stream",
     "text": [
      "Epoch 70, Loss 0.0259\n",
      "Training Accuracy: 0.9703, Testing Accuracy: 0.9718\n",
      "\n"
     ]
    },
    {
     "name": "stdout",
     "output_type": "stream",
     "text": [
      "Epoch 80, Loss 0.0247\n",
      "Training Accuracy: 0.9720, Testing Accuracy: 0.9723\n",
      "\n"
     ]
    },
    {
     "name": "stdout",
     "output_type": "stream",
     "text": [
      "Epoch 90, Loss 0.0237\n",
      "Training Accuracy: 0.9736, Testing Accuracy: 0.9723\n",
      "\n"
     ]
    },
    {
     "name": "stdout",
     "output_type": "stream",
     "text": [
      "Epoch 100, Loss 0.0228\n",
      "Training Accuracy: 0.9747, Testing Accuracy: 0.9738\n",
      "\n"
     ]
    },
    {
     "name": "stdout",
     "output_type": "stream",
     "text": [
      "Epoch 110, Loss 0.022\n",
      "Training Accuracy: 0.9754, Testing Accuracy: 0.9743\n",
      "\n"
     ]
    },
    {
     "name": "stdout",
     "output_type": "stream",
     "text": [
      "Epoch 120, Loss 0.0213\n",
      "Training Accuracy: 0.9758, Testing Accuracy: 0.9753\n",
      "\n"
     ]
    },
    {
     "name": "stdout",
     "output_type": "stream",
     "text": [
      "Epoch 130, Loss 0.0207\n",
      "Training Accuracy: 0.9768, Testing Accuracy: 0.9753\n",
      "\n"
     ]
    },
    {
     "name": "stdout",
     "output_type": "stream",
     "text": [
      "Epoch 140, Loss 0.0201\n",
      "Training Accuracy: 0.9772, Testing Accuracy: 0.9748\n",
      "\n"
     ]
    },
    {
     "name": "stdout",
     "output_type": "stream",
     "text": [
      "Epoch 150, Loss 0.0195\n",
      "Training Accuracy: 0.9785, Testing Accuracy: 0.9758\n",
      "\n"
     ]
    },
    {
     "name": "stdout",
     "output_type": "stream",
     "text": [
      "Epoch 160, Loss 0.019\n",
      "Training Accuracy: 0.9789, Testing Accuracy: 0.9763\n",
      "\n"
     ]
    },
    {
     "name": "stdout",
     "output_type": "stream",
     "text": [
      "Epoch 170, Loss 0.0185\n",
      "Training Accuracy: 0.9795, Testing Accuracy: 0.9768\n",
      "\n"
     ]
    },
    {
     "name": "stdout",
     "output_type": "stream",
     "text": [
      "Epoch 180, Loss 0.0181\n",
      "Training Accuracy: 0.9800, Testing Accuracy: 0.9773\n",
      "\n"
     ]
    },
    {
     "name": "stdout",
     "output_type": "stream",
     "text": [
      "Epoch 190, Loss 0.0177\n",
      "Training Accuracy: 0.9805, Testing Accuracy: 0.9778\n",
      "\n"
     ]
    },
    {
     "name": "stdout",
     "output_type": "stream",
     "text": [
      "Epoch 200, Loss 0.0172\n",
      "Training Accuracy: 0.9812, Testing Accuracy: 0.9783\n",
      "\n"
     ]
    },
    {
     "name": "stdout",
     "output_type": "stream",
     "text": [
      "Epoch 210, Loss 0.0168\n",
      "Training Accuracy: 0.9814, Testing Accuracy: 0.9788\n",
      "\n"
     ]
    },
    {
     "name": "stdout",
     "output_type": "stream",
     "text": [
      "Epoch 220, Loss 0.0165\n",
      "Training Accuracy: 0.9817, Testing Accuracy: 0.9788\n",
      "\n"
     ]
    },
    {
     "name": "stdout",
     "output_type": "stream",
     "text": [
      "Epoch 230, Loss 0.0161\n",
      "Training Accuracy: 0.9820, Testing Accuracy: 0.9788\n",
      "\n"
     ]
    },
    {
     "name": "stdout",
     "output_type": "stream",
     "text": [
      "Epoch 240, Loss 0.0157\n",
      "Training Accuracy: 0.9826, Testing Accuracy: 0.9788\n",
      "\n"
     ]
    },
    {
     "name": "stdout",
     "output_type": "stream",
     "text": [
      "Epoch 250, Loss 0.0154\n",
      "Training Accuracy: 0.9831, Testing Accuracy: 0.9783\n",
      "\n"
     ]
    },
    {
     "data": {
      "text/plain": [
       "0.022380643766789995"
      ]
     },
     "execution_count": 20,
     "metadata": {},
     "output_type": "execute_result"
    }
   ],
   "source": [
    "print(\"====== Neural Network ======\")\n",
    "learner_nn.train_loop(dl)"
   ]
  },
  {
   "cell_type": "markdown",
   "metadata": {
    "papermill": {
     "duration": 0.052616,
     "end_time": "2020-11-28T20:06:02.467627",
     "exception": false,
     "start_time": "2020-11-28T20:06:02.415011",
     "status": "completed"
    },
    "tags": []
   },
   "source": [
    "### Logistic Regression based Implementation."
   ]
  },
  {
   "cell_type": "code",
   "execution_count": 21,
   "metadata": {
    "execution": {
     "iopub.execute_input": "2020-11-28T20:06:02.539888Z",
     "iopub.status.busy": "2020-11-28T20:06:02.539315Z",
     "iopub.status.idle": "2020-11-28T20:06:02.550371Z",
     "shell.execute_reply": "2020-11-28T20:06:02.549899Z"
    },
    "papermill": {
     "duration": 0.049021,
     "end_time": "2020-11-28T20:06:02.550503",
     "exception": false,
     "start_time": "2020-11-28T20:06:02.501482",
     "status": "completed"
    },
    "tags": []
   },
   "outputs": [],
   "source": [
    "learner_lr = Learner(loss, model_lr, opt, config.num_epochs)\n",
    "acc_lr = ClfCallback(learner_lr, config.bs, training_xdata , testing_xdata, training_ydata, testing_ydata)\n",
    "learner_lr.set_callbacks([acc_lr])"
   ]
  },
  {
   "cell_type": "code",
   "execution_count": 22,
   "metadata": {
    "execution": {
     "iopub.execute_input": "2020-11-28T20:06:02.621438Z",
     "iopub.status.busy": "2020-11-28T20:06:02.618869Z",
     "iopub.status.idle": "2020-11-28T20:06:21.421952Z",
     "shell.execute_reply": "2020-11-28T20:06:21.422758Z"
    },
    "papermill": {
     "duration": 18.840641,
     "end_time": "2020-11-28T20:06:21.422899",
     "exception": false,
     "start_time": "2020-11-28T20:06:02.582258",
     "status": "completed"
    },
    "tags": []
   },
   "outputs": [
    {
     "name": "stdout",
     "output_type": "stream",
     "text": [
      "====== Logistic Regression ======\n",
      "Epoch 0, Loss 0.2378\n",
      "Training Accuracy: 0.6506, Testing Accuracy: 0.6472\n",
      "\n"
     ]
    },
    {
     "name": "stdout",
     "output_type": "stream",
     "text": [
      "Epoch 10, Loss 0.102\n",
      "Training Accuracy: 0.9140, Testing Accuracy: 0.9299\n",
      "\n"
     ]
    },
    {
     "name": "stdout",
     "output_type": "stream",
     "text": [
      "Epoch 20, Loss 0.0775\n",
      "Training Accuracy: 0.9317, Testing Accuracy: 0.9481\n",
      "\n"
     ]
    },
    {
     "name": "stdout",
     "output_type": "stream",
     "text": [
      "Epoch 30, Loss 0.0666\n",
      "Training Accuracy: 0.9404, Testing Accuracy: 0.9516\n",
      "\n"
     ]
    },
    {
     "name": "stdout",
     "output_type": "stream",
     "text": [
      "Epoch 40, Loss 0.0602\n",
      "Training Accuracy: 0.9444, Testing Accuracy: 0.9551\n",
      "\n"
     ]
    },
    {
     "name": "stdout",
     "output_type": "stream",
     "text": [
      "Epoch 50, Loss 0.0558\n",
      "Training Accuracy: 0.9473, Testing Accuracy: 0.9556\n",
      "\n"
     ]
    },
    {
     "name": "stdout",
     "output_type": "stream",
     "text": [
      "Epoch 60, Loss 0.0527\n",
      "Training Accuracy: 0.9502, Testing Accuracy: 0.9587\n",
      "\n"
     ]
    },
    {
     "name": "stdout",
     "output_type": "stream",
     "text": [
      "Epoch 70, Loss 0.0502\n",
      "Training Accuracy: 0.9518, Testing Accuracy: 0.9612\n",
      "\n"
     ]
    },
    {
     "name": "stdout",
     "output_type": "stream",
     "text": [
      "Epoch 80, Loss 0.0483\n",
      "Training Accuracy: 0.9537, Testing Accuracy: 0.9637\n",
      "\n"
     ]
    },
    {
     "name": "stdout",
     "output_type": "stream",
     "text": [
      "Epoch 90, Loss 0.0466\n",
      "Training Accuracy: 0.9548, Testing Accuracy: 0.9647\n",
      "\n"
     ]
    },
    {
     "name": "stdout",
     "output_type": "stream",
     "text": [
      "Epoch 100, Loss 0.0453\n",
      "Training Accuracy: 0.9558, Testing Accuracy: 0.9647\n",
      "\n"
     ]
    },
    {
     "name": "stdout",
     "output_type": "stream",
     "text": [
      "Epoch 110, Loss 0.0441\n",
      "Training Accuracy: 0.9568, Testing Accuracy: 0.9662\n",
      "\n"
     ]
    },
    {
     "name": "stdout",
     "output_type": "stream",
     "text": [
      "Epoch 120, Loss 0.0431\n",
      "Training Accuracy: 0.9570, Testing Accuracy: 0.9662\n",
      "\n"
     ]
    },
    {
     "name": "stdout",
     "output_type": "stream",
     "text": [
      "Epoch 130, Loss 0.0422\n",
      "Training Accuracy: 0.9577, Testing Accuracy: 0.9667\n",
      "\n"
     ]
    },
    {
     "name": "stdout",
     "output_type": "stream",
     "text": [
      "Epoch 140, Loss 0.0414\n",
      "Training Accuracy: 0.9584, Testing Accuracy: 0.9667\n",
      "\n"
     ]
    },
    {
     "name": "stdout",
     "output_type": "stream",
     "text": [
      "Epoch 150, Loss 0.0407\n",
      "Training Accuracy: 0.9592, Testing Accuracy: 0.9667\n",
      "\n"
     ]
    },
    {
     "name": "stdout",
     "output_type": "stream",
     "text": [
      "Epoch 160, Loss 0.0401\n",
      "Training Accuracy: 0.9595, Testing Accuracy: 0.9672\n",
      "\n"
     ]
    },
    {
     "name": "stdout",
     "output_type": "stream",
     "text": [
      "Epoch 170, Loss 0.0395\n",
      "Training Accuracy: 0.9598, Testing Accuracy: 0.9677\n",
      "\n"
     ]
    },
    {
     "name": "stdout",
     "output_type": "stream",
     "text": [
      "Epoch 180, Loss 0.0389\n",
      "Training Accuracy: 0.9598, Testing Accuracy: 0.9688\n",
      "\n"
     ]
    },
    {
     "name": "stdout",
     "output_type": "stream",
     "text": [
      "Epoch 190, Loss 0.0384\n",
      "Training Accuracy: 0.9599, Testing Accuracy: 0.9688\n",
      "\n"
     ]
    },
    {
     "name": "stdout",
     "output_type": "stream",
     "text": [
      "Epoch 200, Loss 0.038\n",
      "Training Accuracy: 0.9601, Testing Accuracy: 0.9698\n",
      "\n"
     ]
    },
    {
     "name": "stdout",
     "output_type": "stream",
     "text": [
      "Epoch 210, Loss 0.0376\n",
      "Training Accuracy: 0.9601, Testing Accuracy: 0.9688\n",
      "\n"
     ]
    },
    {
     "name": "stdout",
     "output_type": "stream",
     "text": [
      "Epoch 220, Loss 0.0372\n",
      "Training Accuracy: 0.9604, Testing Accuracy: 0.9693\n",
      "\n"
     ]
    },
    {
     "name": "stdout",
     "output_type": "stream",
     "text": [
      "Epoch 230, Loss 0.0368\n",
      "Training Accuracy: 0.9611, Testing Accuracy: 0.9693\n",
      "\n"
     ]
    },
    {
     "name": "stdout",
     "output_type": "stream",
     "text": [
      "Epoch 240, Loss 0.0364\n",
      "Training Accuracy: 0.9614, Testing Accuracy: 0.9693\n",
      "\n"
     ]
    },
    {
     "name": "stdout",
     "output_type": "stream",
     "text": [
      "Epoch 250, Loss 0.0361\n",
      "Training Accuracy: 0.9614, Testing Accuracy: 0.9693\n",
      "\n"
     ]
    },
    {
     "data": {
      "text/plain": [
       "0.04685598341021775"
      ]
     },
     "execution_count": 22,
     "metadata": {},
     "output_type": "execute_result"
    }
   ],
   "source": [
    "print(\"====== Logistic Regression ======\")\n",
    "learner_lr.train_loop(dl)"
   ]
  },
  {
   "cell_type": "markdown",
   "metadata": {
    "papermill": {
     "duration": 0.039678,
     "end_time": "2020-11-28T20:06:21.503273",
     "exception": false,
     "start_time": "2020-11-28T20:06:21.463595",
     "status": "completed"
    },
    "tags": []
   },
   "source": [
    "### Comparing results of NN and LR"
   ]
  },
  {
   "cell_type": "code",
   "execution_count": 23,
   "metadata": {
    "execution": {
     "iopub.execute_input": "2020-11-28T20:06:21.595286Z",
     "iopub.status.busy": "2020-11-28T20:06:21.594034Z",
     "iopub.status.idle": "2020-11-28T20:06:21.849505Z",
     "shell.execute_reply": "2020-11-28T20:06:21.848981Z"
    },
    "papermill": {
     "duration": 0.305408,
     "end_time": "2020-11-28T20:06:21.849624",
     "exception": false,
     "start_time": "2020-11-28T20:06:21.544216",
     "status": "completed"
    },
    "tags": []
   },
   "outputs": [
    {
     "data": {
      "text/plain": [
       "<matplotlib.legend.Legend at 0x7f1fc0fda9e8>"
      ]
     },
     "execution_count": 23,
     "metadata": {},
     "output_type": "execute_result"
    },
    {
     "data": {
      "image/png": "[encoded data removed]",
      "text/plain": [
       "<Figure size 1080x720 with 1 Axes>"
      ]
     },
     "metadata": {
      "needs_background": "light"
     },
     "output_type": "display_data"
    }
   ],
   "source": [
    "plt.figure(figsize=(15,10))\n",
    "\n",
    "# Neural Network plots\n",
    "plt.plot(acc_nn.accuracies, 'r-', label = \"Training Accuracies - NN\")\n",
    "plt.plot(acc_nn.test_accuracies, 'g-', label = \"Testing Accuracies - NN\")\n",
    "\n",
    "# Logistic Regression plots\n",
    "plt.plot(acc_lr.accuracies, 'k-', label = \"Training Accuracies - LR\")\n",
    "plt.plot(acc_lr.test_accuracies, 'b-', label = \"Testing Accuracies - LR\")\n",
    "\n",
    "plt.ylim(0.8, 1)\n",
    "\n",
    "plt.legend()\n",
    "\n"
   ]
  },
  {
   "cell_type": "markdown",
   "metadata": {
    "papermill": {
     "duration": 0.047044,
     "end_time": "2020-11-28T20:06:21.944606",
     "exception": false,
     "start_time": "2020-11-28T20:06:21.897562",
     "status": "completed"
    },
    "tags": []
   },
   "source": [
    "### From the plot, we can observe the following:\n",
    "- Neural Network achieves higher accuracy than the Logistic Regression model.\n",
    "- This apparently, is because of overfitting, i.e. NN captures more noise than data.\n",
    "- Testing accuracy of NN drops below the Training accuracy at higher epochs. This explains the over-fitting on training data.\n",
    "- Logistic Regression gives a reliable accuracy, without the above mentioned problem.\n"
   ]
  },
  {
   "cell_type": "markdown",
   "metadata": {
    "papermill": {
     "duration": 0.042017,
     "end_time": "2020-11-28T20:06:22.027033",
     "exception": false,
     "start_time": "2020-11-28T20:06:21.985016",
     "status": "completed"
    },
    "tags": []
   },
   "source": [
    "### Moving till the last but one layer (excluding it).\n",
    "#### Plotting the outputs of this layer of the NN."
   ]
  },
  {
   "cell_type": "code",
   "execution_count": 24,
   "metadata": {
    "execution": {
     "iopub.execute_input": "2020-11-28T20:06:22.123036Z",
     "iopub.status.busy": "2020-11-28T20:06:22.118406Z",
     "iopub.status.idle": "2020-11-28T20:06:22.130139Z",
     "shell.execute_reply": "2020-11-28T20:06:22.129726Z"
    },
    "papermill": {
     "duration": 0.060104,
     "end_time": "2020-11-28T20:06:22.130360",
     "exception": false,
     "start_time": "2020-11-28T20:06:22.070256",
     "status": "completed"
    },
    "tags": []
   },
   "outputs": [],
   "source": [
    "model_new = Model(layers[:-2])"
   ]
  },
  {
   "cell_type": "code",
   "execution_count": 25,
   "metadata": {
    "execution": {
     "iopub.execute_input": "2020-11-28T20:06:22.215404Z",
     "iopub.status.busy": "2020-11-28T20:06:22.214899Z",
     "iopub.status.idle": "2020-11-28T20:06:22.237732Z",
     "shell.execute_reply": "2020-11-28T20:06:22.238212Z"
    },
    "papermill": {
     "duration": 0.067738,
     "end_time": "2020-11-28T20:06:22.238357",
     "exception": false,
     "start_time": "2020-11-28T20:06:22.170619",
     "status": "completed"
    },
    "tags": []
   },
   "outputs": [],
   "source": [
    "plot_testing = model_new(testing_xdata)"
   ]
  },
  {
   "cell_type": "code",
   "execution_count": 26,
   "metadata": {
    "execution": {
     "iopub.execute_input": "2020-11-28T20:06:22.325777Z",
     "iopub.status.busy": "2020-11-28T20:06:22.325270Z",
     "iopub.status.idle": "2020-11-28T20:06:22.509079Z",
     "shell.execute_reply": "2020-11-28T20:06:22.509659Z"
    },
    "papermill": {
     "duration": 0.230254,
     "end_time": "2020-11-28T20:06:22.509830",
     "exception": false,
     "start_time": "2020-11-28T20:06:22.279576",
     "status": "completed"
    },
    "tags": []
   },
   "outputs": [
    {
     "data": {
      "text/plain": [
       "Text(0.5, 1.0, 'Outputs')"
      ]
     },
     "execution_count": 26,
     "metadata": {},
     "output_type": "execute_result"
    },
    {
     "data": {
      "image/png": "[encoded data removed]",
      "text/plain": [
       "<Figure size 576x504 with 1 Axes>"
      ]
     },
     "metadata": {
      "needs_background": "light"
     },
     "output_type": "display_data"
    }
   ],
   "source": [
    "plt.figure(figsize=(8,7))\n",
    "plt.scatter(plot_testing[:,0], plot_testing[:,1], alpha = 0.1, c = y_test.ravel());\n",
    "plt.title('Outputs')"
   ]
  },
  {
   "cell_type": "markdown",
   "metadata": {
    "papermill": {
     "duration": 0.050561,
     "end_time": "2020-11-28T20:06:22.605467",
     "exception": false,
     "start_time": "2020-11-28T20:06:22.554906",
     "status": "completed"
    },
    "tags": []
   },
   "source": [
    "### Plotting probability contours"
   ]
  },
  {
   "cell_type": "code",
   "execution_count": 27,
   "metadata": {
    "execution": {
     "iopub.execute_input": "2020-11-28T20:06:22.695607Z",
     "iopub.status.busy": "2020-11-28T20:06:22.695102Z",
     "iopub.status.idle": "2020-11-28T20:06:22.704805Z",
     "shell.execute_reply": "2020-11-28T20:06:22.705292Z"
    },
    "papermill": {
     "duration": 0.055315,
     "end_time": "2020-11-28T20:06:22.705405",
     "exception": false,
     "start_time": "2020-11-28T20:06:22.650090",
     "status": "completed"
    },
    "tags": []
   },
   "outputs": [],
   "source": [
    "model_prob = Model(layers[-2:]) "
   ]
  },
  {
   "cell_type": "code",
   "execution_count": 28,
   "metadata": {
    "execution": {
     "iopub.execute_input": "2020-11-28T20:06:22.818745Z",
     "iopub.status.busy": "2020-11-28T20:06:22.805148Z",
     "iopub.status.idle": "2020-11-28T20:06:22.819614Z",
     "shell.execute_reply": "2020-11-28T20:06:22.820205Z"
    },
    "papermill": {
     "duration": 0.073338,
     "end_time": "2020-11-28T20:06:22.820355",
     "exception": false,
     "start_time": "2020-11-28T20:06:22.747017",
     "status": "completed"
    },
    "tags": []
   },
   "outputs": [],
   "source": [
    "# Adjust the x and y ranges according to the above generated plot.\n",
    "x_range = np.linspace(-4, 1, 100) \n",
    "y_range = np.linspace(-6, 6, 100) \n",
    "x_grid, y_grid = np.meshgrid(x_range, y_range) # x_grid and y_grig are of size 100 X 100\n",
    "\n",
    "# converting x_grid and y_grid to continuous arrays\n",
    "x_grid_flat = np.ravel(x_grid)\n",
    "y_grid_flat = np.ravel(y_grid)\n",
    "\n",
    "# The last layer of the current model takes two columns as input. Hence transpose of np.vstack() is required.\n",
    "X = np.vstack((x_grid_flat, y_grid_flat)).T\n",
    "\n",
    "# x_grid and y_grid are of size 100 x 100\n",
    "probability_contour = model_prob(X).reshape(100,100) "
   ]
  },
  {
   "cell_type": "code",
   "execution_count": 29,
   "metadata": {
    "execution": {
     "iopub.execute_input": "2020-11-28T20:06:22.931726Z",
     "iopub.status.busy": "2020-11-28T20:06:22.931107Z",
     "iopub.status.idle": "2020-11-28T20:06:23.170911Z",
     "shell.execute_reply": "2020-11-28T20:06:23.170441Z"
    },
    "papermill": {
     "duration": 0.299704,
     "end_time": "2020-11-28T20:06:23.171033",
     "exception": false,
     "start_time": "2020-11-28T20:06:22.871329",
     "status": "completed"
    },
    "tags": []
   },
   "outputs": [
    {
     "data": {
      "image/png": "[encoded data removed]",
      "text/plain": [
       "<Figure size 720x648 with 1 Axes>"
      ]
     },
     "metadata": {
      "needs_background": "light"
     },
     "output_type": "display_data"
    }
   ],
   "source": [
    "plt.figure(figsize=(10,9))\n",
    "plt.scatter(plot_testing[:,0], plot_testing[:,1], alpha = 0.1, c = y_test.ravel())\n",
    "contours = plt.contour(x_grid,y_grid,probability_contour)\n",
    "plt.title('Probability Contours')\n",
    "plt.clabel(contours, inline = True );"
   ]
  }
 ],
 "metadata": {
  "kernelspec": {
   "display_name": "Python 3",
   "language": "python",
   "name": "python3"
  },
  "language_info": {
   "codemirror_mode": {
    "name": "ipython",
    "version": 3
   },
   "file_extension": ".py",
   "mimetype": "text/x-python",
   "name": "python",
   "nbconvert_exporter": "python",
   "pygments_lexer": "ipython3",
   "version": "3.6.12"
  },
  "papermill": {
   "duration": 157.757293,
   "end_time": "2020-11-28T20:06:23.540006",
   "environment_variables": {},
   "exception": null,
   "input_path": "2020-08-11-NeuralNetwork.ipynb",
   "output_path": "2020-08-11-NeuralNetwork.ipynb",
   "parameters": {},
   "start_time": "2020-11-28T20:03:45.782713",
   "version": "2.1.2"
  }
 },
 "nbformat": 4,
 "nbformat_minor": 4
}