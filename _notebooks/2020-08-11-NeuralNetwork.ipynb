{
 "cells": [
  {
   "cell_type": "markdown",
   "metadata": {
    "papermill": {
     "duration": 0.024086,
     "end_time": "2021-01-17T20:24:26.896573",
     "exception": false,
     "start_time": "2021-01-17T20:24:26.872487",
     "status": "completed"
    },
    "tags": []
   },
   "source": [
    "# \"A Basic Neural Network: Differentiate Hand-Written Digits\"\n",
    "\n",
    "- badges: true\n",
    "- author: Akshith Sriram"
   ]
  },
  {
   "cell_type": "markdown",
   "metadata": {
    "papermill": {
     "duration": 0.021292,
     "end_time": "2021-01-17T20:24:26.938540",
     "exception": false,
     "start_time": "2021-01-17T20:24:26.917248",
     "status": "completed"
    },
    "tags": []
   },
   "source": [
    "### Key Objectives:\n",
    "- Building a neural network that differentiates two hand-written digits 3 and 8.\n",
    "- Comparing the results of this Neural Network (NN) to that of a Logistic Regression (LR) model.\n",
    "\n",
    "### Requirements:\n",
    "- 'Kudzu' : A neural network library that was designed during our course by [Univ.AI](www.univ.ai). \n",
    "- MNIST Database\n",
    "\n",
    "If MNIST is not installed, use the command `!pip install mnist` given below.\n",
    "It can be run both from the command line and Jupyter Notebook."
   ]
  },
  {
   "cell_type": "code",
   "execution_count": 1,
   "metadata": {
    "execution": {
     "iopub.execute_input": "2021-01-17T20:24:26.989184Z",
     "iopub.status.busy": "2021-01-17T20:24:26.988716Z",
     "iopub.status.idle": "2021-01-17T20:24:28.270025Z",
     "shell.execute_reply": "2021-01-17T20:24:28.269454Z"
    },
    "papermill": {
     "duration": 1.311632,
     "end_time": "2021-01-17T20:24:28.270171",
     "exception": false,
     "start_time": "2021-01-17T20:24:26.958539",
     "status": "completed"
    },
    "tags": []
   },
   "outputs": [
    {
     "name": "stdout",
     "output_type": "stream",
     "text": [
      "Collecting mnist\r\n"
     ]
    },
    {
     "name": "stdout",
     "output_type": "stream",
     "text": [
      "  Downloading mnist-0.2.2-py2.py3-none-any.whl (3.5 kB)\r\n",
      "Requirement already satisfied: numpy in /opt/hostedtoolcache/Python/3.6.12/x64/lib/python3.6/site-packages (from mnist) (1.19.5)\r\n"
     ]
    },
    {
     "name": "stdout",
     "output_type": "stream",
     "text": [
      "Installing collected packages: mnist\r\n"
     ]
    },
    {
     "name": "stdout",
     "output_type": "stream",
     "text": [
      "Successfully installed mnist-0.2.2\r\n"
     ]
    }
   ],
   "source": [
    "!pip install mnist "
   ]
  },
  {
   "cell_type": "markdown",
   "metadata": {
    "papermill": {
     "duration": 0.023664,
     "end_time": "2021-01-17T20:24:28.318005",
     "exception": false,
     "start_time": "2021-01-17T20:24:28.294341",
     "status": "completed"
    },
    "tags": []
   },
   "source": [
    "#### Importing necessary libraries"
   ]
  },
  {
   "cell_type": "code",
   "execution_count": 2,
   "metadata": {
    "execution": {
     "iopub.execute_input": "2021-01-17T20:24:28.374529Z",
     "iopub.status.busy": "2021-01-17T20:24:28.371963Z",
     "iopub.status.idle": "2021-01-17T20:24:28.873867Z",
     "shell.execute_reply": "2021-01-17T20:24:28.873364Z"
    },
    "papermill": {
     "duration": 0.532569,
     "end_time": "2021-01-17T20:24:28.874013",
     "exception": false,
     "start_time": "2021-01-17T20:24:28.341444",
     "status": "completed"
    },
    "tags": []
   },
   "outputs": [],
   "source": [
    "%load_ext autoreload\n",
    "%autoreload 2\n",
    "\n",
    "%matplotlib inline\n",
    "import matplotlib.pyplot as plt\n",
    "\n",
    "import numpy as np\n",
    "import pandas as pd"
   ]
  },
  {
   "cell_type": "markdown",
   "metadata": {
    "papermill": {
     "duration": 0.250861,
     "end_time": "2021-01-17T20:24:29.149824",
     "exception": false,
     "start_time": "2021-01-17T20:24:28.898963",
     "status": "completed"
    },
    "tags": []
   },
   "source": [
    "### Preparing the Data"
   ]
  },
  {
   "cell_type": "code",
   "execution_count": 3,
   "metadata": {
    "execution": {
     "iopub.execute_input": "2021-01-17T20:24:29.203011Z",
     "iopub.status.busy": "2021-01-17T20:24:29.202490Z",
     "iopub.status.idle": "2021-01-17T20:24:29.214111Z",
     "shell.execute_reply": "2021-01-17T20:24:29.214528Z"
    },
    "papermill": {
     "duration": 0.039715,
     "end_time": "2021-01-17T20:24:29.214679",
     "exception": false,
     "start_time": "2021-01-17T20:24:29.174964",
     "status": "completed"
    },
    "tags": []
   },
   "outputs": [],
   "source": [
    "import mnist"
   ]
  },
  {
   "cell_type": "code",
   "execution_count": 4,
   "metadata": {
    "execution": {
     "iopub.execute_input": "2021-01-17T20:24:29.281005Z",
     "iopub.status.busy": "2021-01-17T20:24:29.273775Z",
     "iopub.status.idle": "2021-01-17T20:24:30.942850Z",
     "shell.execute_reply": "2021-01-17T20:24:30.942336Z"
    },
    "papermill": {
     "duration": 1.704758,
     "end_time": "2021-01-17T20:24:30.943038",
     "exception": false,
     "start_time": "2021-01-17T20:24:29.238280",
     "status": "completed"
    },
    "tags": []
   },
   "outputs": [],
   "source": [
    "train_images = mnist.train_images()\n",
    "train_labels = mnist.train_labels()"
   ]
  },
  {
   "cell_type": "code",
   "execution_count": 5,
   "metadata": {
    "execution": {
     "iopub.execute_input": "2021-01-17T20:24:30.996494Z",
     "iopub.status.busy": "2021-01-17T20:24:30.995967Z",
     "iopub.status.idle": "2021-01-17T20:24:31.009584Z",
     "shell.execute_reply": "2021-01-17T20:24:31.010001Z"
    },
    "papermill": {
     "duration": 0.042879,
     "end_time": "2021-01-17T20:24:31.010144",
     "exception": false,
     "start_time": "2021-01-17T20:24:30.967265",
     "status": "completed"
    },
    "tags": []
   },
   "outputs": [
    {
     "data": {
      "text/plain": [
       "((60000, 28, 28), (60000,))"
      ]
     },
     "execution_count": 5,
     "metadata": {},
     "output_type": "execute_result"
    }
   ],
   "source": [
    "train_images.shape, train_labels.shape"
   ]
  },
  {
   "cell_type": "code",
   "execution_count": 6,
   "metadata": {
    "execution": {
     "iopub.execute_input": "2021-01-17T20:24:31.064450Z",
     "iopub.status.busy": "2021-01-17T20:24:31.063935Z",
     "iopub.status.idle": "2021-01-17T20:24:31.331397Z",
     "shell.execute_reply": "2021-01-17T20:24:31.330888Z"
    },
    "papermill": {
     "duration": 0.297377,
     "end_time": "2021-01-17T20:24:31.331538",
     "exception": false,
     "start_time": "2021-01-17T20:24:31.034161",
     "status": "completed"
    },
    "tags": []
   },
   "outputs": [],
   "source": [
    "test_images = mnist.test_images()\n",
    "test_labels = mnist.test_labels()"
   ]
  },
  {
   "cell_type": "code",
   "execution_count": 7,
   "metadata": {
    "execution": {
     "iopub.execute_input": "2021-01-17T20:24:31.395550Z",
     "iopub.status.busy": "2021-01-17T20:24:31.389730Z",
     "iopub.status.idle": "2021-01-17T20:24:31.398593Z",
     "shell.execute_reply": "2021-01-17T20:24:31.398185Z"
    },
    "papermill": {
     "duration": 0.042328,
     "end_time": "2021-01-17T20:24:31.398716",
     "exception": false,
     "start_time": "2021-01-17T20:24:31.356388",
     "status": "completed"
    },
    "tags": []
   },
   "outputs": [
    {
     "data": {
      "text/plain": [
       "((10000, 28, 28), (10000,))"
      ]
     },
     "execution_count": 7,
     "metadata": {},
     "output_type": "execute_result"
    }
   ],
   "source": [
    "test_images.shape, test_labels.shape"
   ]
  },
  {
   "cell_type": "code",
   "execution_count": 8,
   "metadata": {
    "execution": {
     "iopub.execute_input": "2021-01-17T20:24:31.450841Z",
     "iopub.status.busy": "2021-01-17T20:24:31.450343Z",
     "iopub.status.idle": "2021-01-17T20:24:31.579620Z",
     "shell.execute_reply": "2021-01-17T20:24:31.580092Z"
    },
    "papermill": {
     "duration": 0.157391,
     "end_time": "2021-01-17T20:24:31.580246",
     "exception": false,
     "start_time": "2021-01-17T20:24:31.422855",
     "status": "completed"
    },
    "tags": []
   },
   "outputs": [
    {
     "name": "stdout",
     "output_type": "stream",
     "text": [
      "2\n"
     ]
    },
    {
     "data": {
      "text/plain": [
       "<matplotlib.image.AxesImage at 0x7f4ae1dcc668>"
      ]
     },
     "execution_count": 8,
     "metadata": {},
     "output_type": "execute_result"
    },
    {
     "data": {
      "image/png": "[encoded data removed]",
      "text/plain": [
       "<Figure size 432x288 with 1 Axes>"
      ]
     },
     "metadata": {
      "needs_background": "light"
     },
     "output_type": "display_data"
    }
   ],
   "source": [
    "image_index = 7776 # You may select anything up to 60,000\n",
    "print(train_labels[image_index]) \n",
    "plt.imshow(train_images[image_index], cmap='Greys')"
   ]
  },
  {
   "cell_type": "markdown",
   "metadata": {
    "papermill": {
     "duration": 0.025706,
     "end_time": "2021-01-17T20:24:31.632034",
     "exception": false,
     "start_time": "2021-01-17T20:24:31.606328",
     "status": "completed"
    },
    "tags": []
   },
   "source": [
    "## Filter data to get 3 and 8 out"
   ]
  },
  {
   "cell_type": "code",
   "execution_count": 9,
   "metadata": {
    "execution": {
     "iopub.execute_input": "2021-01-17T20:24:31.701623Z",
     "iopub.status.busy": "2021-01-17T20:24:31.701069Z",
     "iopub.status.idle": "2021-01-17T20:24:31.710914Z",
     "shell.execute_reply": "2021-01-17T20:24:31.711360Z"
    },
    "papermill": {
     "duration": 0.054136,
     "end_time": "2021-01-17T20:24:31.711506",
     "exception": false,
     "start_time": "2021-01-17T20:24:31.657370",
     "status": "completed"
    },
    "tags": []
   },
   "outputs": [],
   "source": [
    "train_filter = np.where((train_labels == 3 ) | (train_labels == 8))\n",
    "test_filter = np.where((test_labels == 3) | (test_labels == 8))\n",
    "X_train, y_train = train_images[train_filter], train_labels[train_filter]\n",
    "X_test, y_test = test_images[test_filter], test_labels[test_filter]"
   ]
  },
  {
   "cell_type": "markdown",
   "metadata": {
    "papermill": {
     "duration": 0.025542,
     "end_time": "2021-01-17T20:24:31.762549",
     "exception": false,
     "start_time": "2021-01-17T20:24:31.737007",
     "status": "completed"
    },
    "tags": []
   },
   "source": [
    "We normalize the pixel values in the 0 to 1 range"
   ]
  },
  {
   "cell_type": "code",
   "execution_count": 10,
   "metadata": {
    "execution": {
     "iopub.execute_input": "2021-01-17T20:24:31.823096Z",
     "iopub.status.busy": "2021-01-17T20:24:31.822571Z",
     "iopub.status.idle": "2021-01-17T20:24:31.868516Z",
     "shell.execute_reply": "2021-01-17T20:24:31.867966Z"
    },
    "papermill": {
     "duration": 0.081019,
     "end_time": "2021-01-17T20:24:31.868663",
     "exception": false,
     "start_time": "2021-01-17T20:24:31.787644",
     "status": "completed"
    },
    "tags": []
   },
   "outputs": [],
   "source": [
    "X_train = X_train/255.\n",
    "X_test = X_test/255."
   ]
  },
  {
   "cell_type": "markdown",
   "metadata": {
    "papermill": {
     "duration": 0.025363,
     "end_time": "2021-01-17T20:24:31.919711",
     "exception": false,
     "start_time": "2021-01-17T20:24:31.894348",
     "status": "completed"
    },
    "tags": []
   },
   "source": [
    "Setup the labels as 1 (when the digit is 3) and 0 (when the digit is 8)"
   ]
  },
  {
   "cell_type": "code",
   "execution_count": 11,
   "metadata": {
    "execution": {
     "iopub.execute_input": "2021-01-17T20:24:31.989044Z",
     "iopub.status.busy": "2021-01-17T20:24:31.988240Z",
     "iopub.status.idle": "2021-01-17T20:24:31.992153Z",
     "shell.execute_reply": "2021-01-17T20:24:31.991728Z"
    },
    "papermill": {
     "duration": 0.047311,
     "end_time": "2021-01-17T20:24:31.992283",
     "exception": false,
     "start_time": "2021-01-17T20:24:31.944972",
     "status": "completed"
    },
    "tags": []
   },
   "outputs": [],
   "source": [
    "y_train = 1*(y_train==3)\n",
    "y_test = 1*(y_test==3)"
   ]
  },
  {
   "cell_type": "code",
   "execution_count": 12,
   "metadata": {
    "execution": {
     "iopub.execute_input": "2021-01-17T20:24:32.046658Z",
     "iopub.status.busy": "2021-01-17T20:24:32.046150Z",
     "iopub.status.idle": "2021-01-17T20:24:32.059247Z",
     "shell.execute_reply": "2021-01-17T20:24:32.058807Z"
    },
    "papermill": {
     "duration": 0.04163,
     "end_time": "2021-01-17T20:24:32.059379",
     "exception": false,
     "start_time": "2021-01-17T20:24:32.017749",
     "status": "completed"
    },
    "tags": []
   },
   "outputs": [
    {
     "data": {
      "text/plain": [
       "((11982, 28, 28), (1984, 28, 28))"
      ]
     },
     "execution_count": 12,
     "metadata": {},
     "output_type": "execute_result"
    }
   ],
   "source": [
    "X_train.shape, X_test.shape"
   ]
  },
  {
   "cell_type": "markdown",
   "metadata": {
    "papermill": {
     "duration": 0.025569,
     "end_time": "2021-01-17T20:24:32.110507",
     "exception": false,
     "start_time": "2021-01-17T20:24:32.084938",
     "status": "completed"
    },
    "tags": []
   },
   "source": [
    "### Reshape the input data to create a linear array"
   ]
  },
  {
   "cell_type": "code",
   "execution_count": 13,
   "metadata": {
    "execution": {
     "iopub.execute_input": "2021-01-17T20:24:32.166551Z",
     "iopub.status.busy": "2021-01-17T20:24:32.166035Z",
     "iopub.status.idle": "2021-01-17T20:24:32.179661Z",
     "shell.execute_reply": "2021-01-17T20:24:32.179221Z"
    },
    "papermill": {
     "duration": 0.042921,
     "end_time": "2021-01-17T20:24:32.179785",
     "exception": false,
     "start_time": "2021-01-17T20:24:32.136864",
     "status": "completed"
    },
    "tags": []
   },
   "outputs": [
    {
     "data": {
      "text/plain": [
       "((11982, 784), (1984, 784))"
      ]
     },
     "execution_count": 13,
     "metadata": {},
     "output_type": "execute_result"
    }
   ],
   "source": [
    "X_train = X_train.reshape(X_train.shape[0], -1)\n",
    "X_test = X_test.reshape(X_test.shape[0], -1)\n",
    "X_train.shape, X_test.shape"
   ]
  },
  {
   "cell_type": "markdown",
   "metadata": {
    "papermill": {
     "duration": 0.025669,
     "end_time": "2021-01-17T20:24:32.231258",
     "exception": false,
     "start_time": "2021-01-17T20:24:32.205589",
     "status": "completed"
    },
    "tags": []
   },
   "source": [
    "### Importing appropriate functions from 'Kudzu'"
   ]
  },
  {
   "cell_type": "code",
   "execution_count": 14,
   "metadata": {
    "execution": {
     "iopub.execute_input": "2021-01-17T20:24:32.288105Z",
     "iopub.status.busy": "2021-01-17T20:24:32.287595Z",
     "iopub.status.idle": "2021-01-17T20:24:32.305218Z",
     "shell.execute_reply": "2021-01-17T20:24:32.304798Z"
    },
    "papermill": {
     "duration": 0.04806,
     "end_time": "2021-01-17T20:24:32.305343",
     "exception": false,
     "start_time": "2021-01-17T20:24:32.257283",
     "status": "completed"
    },
    "tags": []
   },
   "outputs": [],
   "source": [
    "from kudzu.layer import Sigmoid\n",
    "from kudzu.layer import Relu\n",
    "from kudzu.layer import Affine, Sigmoid\n",
    "\n",
    "from kudzu.model import Model\n",
    "from kudzu.train import Learner\n",
    "from kudzu.optim import GD\n",
    "from kudzu.data import Data, Dataloader, Sampler\n",
    "\n",
    "from kudzu.callbacks import AccCallback\n",
    "from kudzu.callbacks import ClfCallback\n",
    "\n",
    "from kudzu.loss import MSE"
   ]
  },
  {
   "cell_type": "markdown",
   "metadata": {
    "papermill": {
     "duration": 0.025791,
     "end_time": "2021-01-17T20:24:32.356845",
     "exception": false,
     "start_time": "2021-01-17T20:24:32.331054",
     "status": "completed"
    },
    "tags": []
   },
   "source": [
    "### Let us create a `Config` class, to store important parameters. \n",
    "This class essentially plays the role of a dictionary."
   ]
  },
  {
   "cell_type": "code",
   "execution_count": 15,
   "metadata": {
    "execution": {
     "iopub.execute_input": "2021-01-17T20:24:32.412310Z",
     "iopub.status.busy": "2021-01-17T20:24:32.411787Z",
     "iopub.status.idle": "2021-01-17T20:24:32.424182Z",
     "shell.execute_reply": "2021-01-17T20:24:32.423775Z"
    },
    "papermill": {
     "duration": 0.041615,
     "end_time": "2021-01-17T20:24:32.424301",
     "exception": false,
     "start_time": "2021-01-17T20:24:32.382686",
     "status": "completed"
    },
    "tags": []
   },
   "outputs": [],
   "source": [
    "class Config:\n",
    "    pass\n",
    "config = Config()\n",
    "config.lr = 0.001\n",
    "config.num_epochs = 251\n",
    "config.bs = 50"
   ]
  },
  {
   "cell_type": "markdown",
   "metadata": {
    "papermill": {
     "duration": 0.025604,
     "end_time": "2021-01-17T20:24:32.475460",
     "exception": false,
     "start_time": "2021-01-17T20:24:32.449856",
     "status": "completed"
    },
    "tags": []
   },
   "source": [
    "### Initializing data to the variables"
   ]
  },
  {
   "cell_type": "code",
   "execution_count": 16,
   "metadata": {
    "execution": {
     "iopub.execute_input": "2021-01-17T20:24:32.534929Z",
     "iopub.status.busy": "2021-01-17T20:24:32.534405Z",
     "iopub.status.idle": "2021-01-17T20:24:32.544307Z",
     "shell.execute_reply": "2021-01-17T20:24:32.543860Z"
    },
    "papermill": {
     "duration": 0.043212,
     "end_time": "2021-01-17T20:24:32.544430",
     "exception": false,
     "start_time": "2021-01-17T20:24:32.501218",
     "status": "completed"
    },
    "tags": []
   },
   "outputs": [],
   "source": [
    "data = Data(X_train, y_train.reshape(-1,1))\n",
    "sampler = Sampler(data, config.bs, shuffle=True)\n",
    "\n",
    "dl = Dataloader(data, sampler)\n",
    "\n",
    "opt = GD(config.lr)\n",
    "loss = MSE()"
   ]
  },
  {
   "cell_type": "code",
   "execution_count": 17,
   "metadata": {
    "execution": {
     "iopub.execute_input": "2021-01-17T20:24:32.613324Z",
     "iopub.status.busy": "2021-01-17T20:24:32.611945Z",
     "iopub.status.idle": "2021-01-17T20:24:32.615639Z",
     "shell.execute_reply": "2021-01-17T20:24:32.615201Z"
    },
    "papermill": {
     "duration": 0.045646,
     "end_time": "2021-01-17T20:24:32.615757",
     "exception": false,
     "start_time": "2021-01-17T20:24:32.570111",
     "status": "completed"
    },
    "tags": []
   },
   "outputs": [],
   "source": [
    "training_xdata = X_train\n",
    "testing_xdata = X_test\n",
    "training_ydata = y_train.reshape(-1,1)\n",
    "testing_ydata = y_test.reshape(-1,1)"
   ]
  },
  {
   "cell_type": "markdown",
   "metadata": {
    "papermill": {
     "duration": 0.025798,
     "end_time": "2021-01-17T20:24:32.667247",
     "exception": false,
     "start_time": "2021-01-17T20:24:32.641449",
     "status": "completed"
    },
    "tags": []
   },
   "source": [
    "### Running Models with the Training data\n",
    "Details about the network layers:\n",
    "- A first affine layer has 784 inputs and does 100 affine transforms. These are followed by a Relu\n",
    "- A second affine layer has 100 inputs from the 100 activations of the past layer, and does 100 affine transforms. These are followed by a Relu\n",
    "- A third affine layer has 100 activations and does 2 affine transformations to create an embedding for visualization. There is no non-linearity here.\n",
    "- A final \"logistic regression\" which has an affine transform from 2 inputs to 1 output, which is squeezed through a sigmoid.\n",
    "\n",
    "Help taken from Anshuman's Notebook."
   ]
  },
  {
   "cell_type": "code",
   "execution_count": 18,
   "metadata": {
    "execution": {
     "iopub.execute_input": "2021-01-17T20:24:32.726084Z",
     "iopub.status.busy": "2021-01-17T20:24:32.725523Z",
     "iopub.status.idle": "2021-01-17T20:24:32.740451Z",
     "shell.execute_reply": "2021-01-17T20:24:32.739976Z"
    },
    "papermill": {
     "duration": 0.047723,
     "end_time": "2021-01-17T20:24:32.740573",
     "exception": false,
     "start_time": "2021-01-17T20:24:32.692850",
     "status": "completed"
    },
    "tags": []
   },
   "outputs": [],
   "source": [
    "# layers for the Neural Network\n",
    "layers = [Affine(\"first\", 784, 100), Relu(\"first\"), Affine(\"second\", 100, 100), Relu(\"second\"), Affine(\"third\", 100, 2), Affine(\"final\", 2, 1), Sigmoid(\"final\")]\n",
    "model_nn = Model(layers)\n",
    "\n",
    "# layers for the Logistic Regression\n",
    "layers_lr = [Affine(\"logits\", 784, 1), Sigmoid(\"sigmoid\")]\n",
    "model_lr = Model(layers_lr)"
   ]
  },
  {
   "cell_type": "code",
   "execution_count": 19,
   "metadata": {
    "execution": {
     "iopub.execute_input": "2021-01-17T20:24:32.796797Z",
     "iopub.status.busy": "2021-01-17T20:24:32.796296Z",
     "iopub.status.idle": "2021-01-17T20:24:32.806926Z",
     "shell.execute_reply": "2021-01-17T20:24:32.807347Z"
    },
    "papermill": {
     "duration": 0.040897,
     "end_time": "2021-01-17T20:24:32.807495",
     "exception": false,
     "start_time": "2021-01-17T20:24:32.766598",
     "status": "completed"
    },
    "tags": []
   },
   "outputs": [],
   "source": [
    "# suffix _nn stands for Neural Network.\n",
    "learner_nn = Learner(loss, model_nn, opt, config.num_epochs)\n",
    "acc_nn = ClfCallback(learner_nn, config.bs, training_xdata , testing_xdata, training_ydata, testing_ydata)\n",
    "learner_nn.set_callbacks([acc_nn])"
   ]
  },
  {
   "cell_type": "code",
   "execution_count": 20,
   "metadata": {
    "execution": {
     "iopub.execute_input": "2021-01-17T20:24:32.862541Z",
     "iopub.status.busy": "2021-01-17T20:24:32.862040Z",
     "iopub.status.idle": "2021-01-17T20:25:51.822227Z",
     "shell.execute_reply": "2021-01-17T20:25:51.822715Z"
    },
    "papermill": {
     "duration": 78.989549,
     "end_time": "2021-01-17T20:25:51.822856",
     "exception": false,
     "start_time": "2021-01-17T20:24:32.833307",
     "status": "completed"
    },
    "tags": []
   },
   "outputs": [
    {
     "name": "stdout",
     "output_type": "stream",
     "text": [
      "====== Neural Network ======\n"
     ]
    },
    {
     "name": "stdout",
     "output_type": "stream",
     "text": [
      "Epoch 0, Loss 0.2344\n",
      "Training Accuracy: 0.7626, Testing Accuracy: 0.7858\n",
      "\n"
     ]
    },
    {
     "name": "stdout",
     "output_type": "stream",
     "text": [
      "Epoch 10, Loss 0.0746\n",
      "Training Accuracy: 0.9285, Testing Accuracy: 0.9375\n",
      "\n"
     ]
    },
    {
     "name": "stdout",
     "output_type": "stream",
     "text": [
      "Epoch 20, Loss 0.0491\n",
      "Training Accuracy: 0.9462, Testing Accuracy: 0.9577\n",
      "\n"
     ]
    },
    {
     "name": "stdout",
     "output_type": "stream",
     "text": [
      "Epoch 30, Loss 0.0402\n",
      "Training Accuracy: 0.9553, Testing Accuracy: 0.9652\n",
      "\n"
     ]
    },
    {
     "name": "stdout",
     "output_type": "stream",
     "text": [
      "Epoch 40, Loss 0.0357\n",
      "Training Accuracy: 0.9589, Testing Accuracy: 0.9703\n",
      "\n"
     ]
    },
    {
     "name": "stdout",
     "output_type": "stream",
     "text": [
      "Epoch 50, Loss 0.0328\n",
      "Training Accuracy: 0.9617, Testing Accuracy: 0.9693\n",
      "\n"
     ]
    },
    {
     "name": "stdout",
     "output_type": "stream",
     "text": [
      "Epoch 60, Loss 0.0309\n",
      "Training Accuracy: 0.9639, Testing Accuracy: 0.9693\n",
      "\n"
     ]
    },
    {
     "name": "stdout",
     "output_type": "stream",
     "text": [
      "Epoch 70, Loss 0.0294\n",
      "Training Accuracy: 0.9656, Testing Accuracy: 0.9708\n",
      "\n"
     ]
    },
    {
     "name": "stdout",
     "output_type": "stream",
     "text": [
      "Epoch 80, Loss 0.0281\n",
      "Training Accuracy: 0.9675, Testing Accuracy: 0.9698\n",
      "\n"
     ]
    },
    {
     "name": "stdout",
     "output_type": "stream",
     "text": [
      "Epoch 90, Loss 0.0271\n",
      "Training Accuracy: 0.9691, Testing Accuracy: 0.9698\n",
      "\n"
     ]
    },
    {
     "name": "stdout",
     "output_type": "stream",
     "text": [
      "Epoch 100, Loss 0.0263\n",
      "Training Accuracy: 0.9700, Testing Accuracy: 0.9698\n",
      "\n"
     ]
    },
    {
     "name": "stdout",
     "output_type": "stream",
     "text": [
      "Epoch 110, Loss 0.0255\n",
      "Training Accuracy: 0.9704, Testing Accuracy: 0.9698\n",
      "\n"
     ]
    },
    {
     "name": "stdout",
     "output_type": "stream",
     "text": [
      "Epoch 120, Loss 0.0248\n",
      "Training Accuracy: 0.9715, Testing Accuracy: 0.9703\n",
      "\n"
     ]
    },
    {
     "name": "stdout",
     "output_type": "stream",
     "text": [
      "Epoch 130, Loss 0.0242\n",
      "Training Accuracy: 0.9725, Testing Accuracy: 0.9703\n",
      "\n"
     ]
    },
    {
     "name": "stdout",
     "output_type": "stream",
     "text": [
      "Epoch 140, Loss 0.0237\n",
      "Training Accuracy: 0.9730, Testing Accuracy: 0.9703\n",
      "\n"
     ]
    },
    {
     "name": "stdout",
     "output_type": "stream",
     "text": [
      "Epoch 150, Loss 0.0231\n",
      "Training Accuracy: 0.9737, Testing Accuracy: 0.9708\n",
      "\n"
     ]
    },
    {
     "name": "stdout",
     "output_type": "stream",
     "text": [
      "Epoch 160, Loss 0.0226\n",
      "Training Accuracy: 0.9746, Testing Accuracy: 0.9708\n",
      "\n"
     ]
    },
    {
     "name": "stdout",
     "output_type": "stream",
     "text": [
      "Epoch 170, Loss 0.0222\n",
      "Training Accuracy: 0.9750, Testing Accuracy: 0.9713\n",
      "\n"
     ]
    },
    {
     "name": "stdout",
     "output_type": "stream",
     "text": [
      "Epoch 180, Loss 0.0217\n",
      "Training Accuracy: 0.9755, Testing Accuracy: 0.9713\n",
      "\n"
     ]
    },
    {
     "name": "stdout",
     "output_type": "stream",
     "text": [
      "Epoch 190, Loss 0.0213\n",
      "Training Accuracy: 0.9763, Testing Accuracy: 0.9718\n",
      "\n"
     ]
    },
    {
     "name": "stdout",
     "output_type": "stream",
     "text": [
      "Epoch 200, Loss 0.0209\n",
      "Training Accuracy: 0.9768, Testing Accuracy: 0.9723\n",
      "\n"
     ]
    },
    {
     "name": "stdout",
     "output_type": "stream",
     "text": [
      "Epoch 210, Loss 0.0206\n",
      "Training Accuracy: 0.9773, Testing Accuracy: 0.9728\n",
      "\n"
     ]
    },
    {
     "name": "stdout",
     "output_type": "stream",
     "text": [
      "Epoch 220, Loss 0.0202\n",
      "Training Accuracy: 0.9779, Testing Accuracy: 0.9728\n",
      "\n"
     ]
    },
    {
     "name": "stdout",
     "output_type": "stream",
     "text": [
      "Epoch 230, Loss 0.0199\n",
      "Training Accuracy: 0.9781, Testing Accuracy: 0.9728\n",
      "\n"
     ]
    },
    {
     "name": "stdout",
     "output_type": "stream",
     "text": [
      "Epoch 240, Loss 0.0195\n",
      "Training Accuracy: 0.9786, Testing Accuracy: 0.9728\n",
      "\n"
     ]
    },
    {
     "name": "stdout",
     "output_type": "stream",
     "text": [
      "Epoch 250, Loss 0.0192\n",
      "Training Accuracy: 0.9788, Testing Accuracy: 0.9728\n",
      "\n"
     ]
    },
    {
     "data": {
      "text/plain": [
       "0.00978306684454581"
      ]
     },
     "execution_count": 20,
     "metadata": {},
     "output_type": "execute_result"
    }
   ],
   "source": [
    "print(\"====== Neural Network ======\")\n",
    "learner_nn.train_loop(dl)"
   ]
  },
  {
   "cell_type": "markdown",
   "metadata": {
    "papermill": {
     "duration": 0.032909,
     "end_time": "2021-01-17T20:25:51.888959",
     "exception": false,
     "start_time": "2021-01-17T20:25:51.856050",
     "status": "completed"
    },
    "tags": []
   },
   "source": [
    "### Logistic Regression based Implementation."
   ]
  },
  {
   "cell_type": "code",
   "execution_count": 21,
   "metadata": {
    "execution": {
     "iopub.execute_input": "2021-01-17T20:25:51.971448Z",
     "iopub.status.busy": "2021-01-17T20:25:51.970346Z",
     "iopub.status.idle": "2021-01-17T20:25:51.974094Z",
     "shell.execute_reply": "2021-01-17T20:25:51.973709Z"
    },
    "papermill": {
     "duration": 0.052435,
     "end_time": "2021-01-17T20:25:51.974199",
     "exception": false,
     "start_time": "2021-01-17T20:25:51.921764",
     "status": "completed"
    },
    "tags": []
   },
   "outputs": [],
   "source": [
    "learner_lr = Learner(loss, model_lr, opt, config.num_epochs)\n",
    "acc_lr = ClfCallback(learner_lr, config.bs, training_xdata , testing_xdata, training_ydata, testing_ydata)\n",
    "learner_lr.set_callbacks([acc_lr])"
   ]
  },
  {
   "cell_type": "code",
   "execution_count": 22,
   "metadata": {
    "execution": {
     "iopub.execute_input": "2021-01-17T20:25:52.039491Z",
     "iopub.status.busy": "2021-01-17T20:25:52.039009Z",
     "iopub.status.idle": "2021-01-17T20:26:06.499587Z",
     "shell.execute_reply": "2021-01-17T20:26:06.500240Z"
    },
    "papermill": {
     "duration": 14.497021,
     "end_time": "2021-01-17T20:26:06.500388",
     "exception": false,
     "start_time": "2021-01-17T20:25:52.003367",
     "status": "completed"
    },
    "tags": []
   },
   "outputs": [
    {
     "name": "stdout",
     "output_type": "stream",
     "text": [
      "====== Logistic Regression ======\n",
      "Epoch 0, Loss 0.2464\n",
      "Training Accuracy: 0.6735, Testing Accuracy: 0.6820\n",
      "\n"
     ]
    },
    {
     "name": "stdout",
     "output_type": "stream",
     "text": [
      "Epoch 10, Loss 0.1014\n",
      "Training Accuracy: 0.9130, Testing Accuracy: 0.9304\n",
      "\n"
     ]
    },
    {
     "name": "stdout",
     "output_type": "stream",
     "text": [
      "Epoch 20, Loss 0.0781\n",
      "Training Accuracy: 0.9288, Testing Accuracy: 0.9430\n",
      "\n"
     ]
    },
    {
     "name": "stdout",
     "output_type": "stream",
     "text": [
      "Epoch 30, Loss 0.0675\n",
      "Training Accuracy: 0.9363, Testing Accuracy: 0.9476\n",
      "\n"
     ]
    },
    {
     "name": "stdout",
     "output_type": "stream",
     "text": [
      "Epoch 40, Loss 0.0612\n",
      "Training Accuracy: 0.9417, Testing Accuracy: 0.9536\n",
      "\n"
     ]
    },
    {
     "name": "stdout",
     "output_type": "stream",
     "text": [
      "Epoch 50, Loss 0.0568\n",
      "Training Accuracy: 0.9447, Testing Accuracy: 0.9561\n",
      "\n"
     ]
    },
    {
     "name": "stdout",
     "output_type": "stream",
     "text": [
      "Epoch 60, Loss 0.0536\n",
      "Training Accuracy: 0.9466, Testing Accuracy: 0.9582\n",
      "\n"
     ]
    },
    {
     "name": "stdout",
     "output_type": "stream",
     "text": [
      "Epoch 70, Loss 0.051\n",
      "Training Accuracy: 0.9483, Testing Accuracy: 0.9602\n",
      "\n"
     ]
    },
    {
     "name": "stdout",
     "output_type": "stream",
     "text": [
      "Epoch 80, Loss 0.049\n",
      "Training Accuracy: 0.9494, Testing Accuracy: 0.9617\n",
      "\n"
     ]
    },
    {
     "name": "stdout",
     "output_type": "stream",
     "text": [
      "Epoch 90, Loss 0.0474\n",
      "Training Accuracy: 0.9508, Testing Accuracy: 0.9622\n",
      "\n"
     ]
    },
    {
     "name": "stdout",
     "output_type": "stream",
     "text": [
      "Epoch 100, Loss 0.046\n",
      "Training Accuracy: 0.9516, Testing Accuracy: 0.9622\n",
      "\n"
     ]
    },
    {
     "name": "stdout",
     "output_type": "stream",
     "text": [
      "Epoch 110, Loss 0.0447\n",
      "Training Accuracy: 0.9529, Testing Accuracy: 0.9632\n",
      "\n"
     ]
    },
    {
     "name": "stdout",
     "output_type": "stream",
     "text": [
      "Epoch 120, Loss 0.0437\n",
      "Training Accuracy: 0.9536, Testing Accuracy: 0.9637\n",
      "\n"
     ]
    },
    {
     "name": "stdout",
     "output_type": "stream",
     "text": [
      "Epoch 130, Loss 0.0428\n",
      "Training Accuracy: 0.9545, Testing Accuracy: 0.9637\n",
      "\n"
     ]
    },
    {
     "name": "stdout",
     "output_type": "stream",
     "text": [
      "Epoch 140, Loss 0.0419\n",
      "Training Accuracy: 0.9554, Testing Accuracy: 0.9647\n",
      "\n"
     ]
    },
    {
     "name": "stdout",
     "output_type": "stream",
     "text": [
      "Epoch 150, Loss 0.0412\n",
      "Training Accuracy: 0.9564, Testing Accuracy: 0.9662\n",
      "\n"
     ]
    },
    {
     "name": "stdout",
     "output_type": "stream",
     "text": [
      "Epoch 160, Loss 0.0405\n",
      "Training Accuracy: 0.9568, Testing Accuracy: 0.9667\n",
      "\n"
     ]
    },
    {
     "name": "stdout",
     "output_type": "stream",
     "text": [
      "Epoch 170, Loss 0.0399\n",
      "Training Accuracy: 0.9578, Testing Accuracy: 0.9667\n",
      "\n"
     ]
    },
    {
     "name": "stdout",
     "output_type": "stream",
     "text": [
      "Epoch 180, Loss 0.0393\n",
      "Training Accuracy: 0.9582, Testing Accuracy: 0.9672\n",
      "\n"
     ]
    },
    {
     "name": "stdout",
     "output_type": "stream",
     "text": [
      "Epoch 190, Loss 0.0388\n",
      "Training Accuracy: 0.9589, Testing Accuracy: 0.9677\n",
      "\n"
     ]
    },
    {
     "name": "stdout",
     "output_type": "stream",
     "text": [
      "Epoch 200, Loss 0.0384\n",
      "Training Accuracy: 0.9592, Testing Accuracy: 0.9682\n",
      "\n"
     ]
    },
    {
     "name": "stdout",
     "output_type": "stream",
     "text": [
      "Epoch 210, Loss 0.0379\n",
      "Training Accuracy: 0.9599, Testing Accuracy: 0.9688\n",
      "\n"
     ]
    },
    {
     "name": "stdout",
     "output_type": "stream",
     "text": [
      "Epoch 220, Loss 0.0375\n",
      "Training Accuracy: 0.9602, Testing Accuracy: 0.9688\n",
      "\n"
     ]
    },
    {
     "name": "stdout",
     "output_type": "stream",
     "text": [
      "Epoch 230, Loss 0.0371\n",
      "Training Accuracy: 0.9607, Testing Accuracy: 0.9688\n",
      "\n"
     ]
    },
    {
     "name": "stdout",
     "output_type": "stream",
     "text": [
      "Epoch 240, Loss 0.0368\n",
      "Training Accuracy: 0.9609, Testing Accuracy: 0.9688\n",
      "\n"
     ]
    },
    {
     "name": "stdout",
     "output_type": "stream",
     "text": [
      "Epoch 250, Loss 0.0364\n",
      "Training Accuracy: 0.9614, Testing Accuracy: 0.9688\n",
      "\n"
     ]
    },
    {
     "data": {
      "text/plain": [
       "0.025001806674711843"
      ]
     },
     "execution_count": 22,
     "metadata": {},
     "output_type": "execute_result"
    }
   ],
   "source": [
    "print(\"====== Logistic Regression ======\")\n",
    "learner_lr.train_loop(dl)"
   ]
  },
  {
   "cell_type": "markdown",
   "metadata": {
    "papermill": {
     "duration": 0.039685,
     "end_time": "2021-01-17T20:26:06.580510",
     "exception": false,
     "start_time": "2021-01-17T20:26:06.540825",
     "status": "completed"
    },
    "tags": []
   },
   "source": [
    "### Comparing results of NN and LR"
   ]
  },
  {
   "cell_type": "code",
   "execution_count": 23,
   "metadata": {
    "execution": {
     "iopub.execute_input": "2021-01-17T20:26:06.665230Z",
     "iopub.status.busy": "2021-01-17T20:26:06.664634Z",
     "iopub.status.idle": "2021-01-17T20:26:06.877812Z",
     "shell.execute_reply": "2021-01-17T20:26:06.878205Z"
    },
    "papermill": {
     "duration": 0.258104,
     "end_time": "2021-01-17T20:26:06.878353",
     "exception": false,
     "start_time": "2021-01-17T20:26:06.620249",
     "status": "completed"
    },
    "tags": []
   },
   "outputs": [
    {
     "data": {
      "text/plain": [
       "<matplotlib.legend.Legend at 0x7f4ae19b52e8>"
      ]
     },
     "execution_count": 23,
     "metadata": {},
     "output_type": "execute_result"
    },
    {
     "data": {
      "image/png": "[encoded data removed]",
      "text/plain": [
       "<Figure size 1080x720 with 1 Axes>"
      ]
     },
     "metadata": {
      "needs_background": "light"
     },
     "output_type": "display_data"
    }
   ],
   "source": [
    "plt.figure(figsize=(15,10))\n",
    "\n",
    "# Neural Network plots\n",
    "plt.plot(acc_nn.accuracies, 'r-', label = \"Training Accuracies - NN\")\n",
    "plt.plot(acc_nn.test_accuracies, 'g-', label = \"Testing Accuracies - NN\")\n",
    "\n",
    "# Logistic Regression plots\n",
    "plt.plot(acc_lr.accuracies, 'k-', label = \"Training Accuracies - LR\")\n",
    "plt.plot(acc_lr.test_accuracies, 'b-', label = \"Testing Accuracies - LR\")\n",
    "\n",
    "plt.ylim(0.8, 1)\n",
    "\n",
    "plt.legend()\n",
    "\n"
   ]
  },
  {
   "cell_type": "markdown",
   "metadata": {
    "papermill": {
     "duration": 0.041345,
     "end_time": "2021-01-17T20:26:06.961201",
     "exception": false,
     "start_time": "2021-01-17T20:26:06.919856",
     "status": "completed"
    },
    "tags": []
   },
   "source": [
    "### From the plot, we can observe the following:\n",
    "- Neural Network achieves higher accuracy than the Logistic Regression model.\n",
    "- This apparently, is because of overfitting, i.e. NN captures more noise than data.\n",
    "- Testing accuracy of NN drops below the Training accuracy at higher epochs. This explains the over-fitting on training data.\n",
    "- Logistic Regression gives a reliable accuracy, without the above mentioned problem.\n"
   ]
  },
  {
   "cell_type": "markdown",
   "metadata": {
    "papermill": {
     "duration": 0.041366,
     "end_time": "2021-01-17T20:26:07.043756",
     "exception": false,
     "start_time": "2021-01-17T20:26:07.002390",
     "status": "completed"
    },
    "tags": []
   },
   "source": [
    "### Moving till the last but one layer (excluding it).\n",
    "#### Plotting the outputs of this layer of the NN."
   ]
  },
  {
   "cell_type": "code",
   "execution_count": 24,
   "metadata": {
    "execution": {
     "iopub.execute_input": "2021-01-17T20:26:07.136522Z",
     "iopub.status.busy": "2021-01-17T20:26:07.135755Z",
     "iopub.status.idle": "2021-01-17T20:26:07.143456Z",
     "shell.execute_reply": "2021-01-17T20:26:07.142987Z"
    },
    "papermill": {
     "duration": 0.058458,
     "end_time": "2021-01-17T20:26:07.143582",
     "exception": false,
     "start_time": "2021-01-17T20:26:07.085124",
     "status": "completed"
    },
    "tags": []
   },
   "outputs": [],
   "source": [
    "model_new = Model(layers[:-2])"
   ]
  },
  {
   "cell_type": "code",
   "execution_count": 25,
   "metadata": {
    "execution": {
     "iopub.execute_input": "2021-01-17T20:26:07.230034Z",
     "iopub.status.busy": "2021-01-17T20:26:07.229528Z",
     "iopub.status.idle": "2021-01-17T20:26:07.248558Z",
     "shell.execute_reply": "2021-01-17T20:26:07.248969Z"
    },
    "papermill": {
     "duration": 0.064253,
     "end_time": "2021-01-17T20:26:07.249121",
     "exception": false,
     "start_time": "2021-01-17T20:26:07.184868",
     "status": "completed"
    },
    "tags": []
   },
   "outputs": [],
   "source": [
    "plot_testing = model_new(testing_xdata)"
   ]
  },
  {
   "cell_type": "code",
   "execution_count": 26,
   "metadata": {
    "execution": {
     "iopub.execute_input": "2021-01-17T20:26:07.336594Z",
     "iopub.status.busy": "2021-01-17T20:26:07.336073Z",
     "iopub.status.idle": "2021-01-17T20:26:07.489576Z",
     "shell.execute_reply": "2021-01-17T20:26:07.490002Z"
    },
    "papermill": {
     "duration": 0.199532,
     "end_time": "2021-01-17T20:26:07.490151",
     "exception": false,
     "start_time": "2021-01-17T20:26:07.290619",
     "status": "completed"
    },
    "tags": []
   },
   "outputs": [
    {
     "data": {
      "text/plain": [
       "Text(0.5, 1.0, 'Outputs')"
      ]
     },
     "execution_count": 26,
     "metadata": {},
     "output_type": "execute_result"
    },
    {
     "data": {
      "image/png": "[encoded data removed]",
      "text/plain": [
       "<Figure size 576x504 with 1 Axes>"
      ]
     },
     "metadata": {
      "needs_background": "light"
     },
     "output_type": "display_data"
    }
   ],
   "source": [
    "plt.figure(figsize=(8,7))\n",
    "plt.scatter(plot_testing[:,0], plot_testing[:,1], alpha = 0.1, c = y_test.ravel());\n",
    "plt.title('Outputs')"
   ]
  },
  {
   "cell_type": "markdown",
   "metadata": {
    "papermill": {
     "duration": 0.043225,
     "end_time": "2021-01-17T20:26:07.576700",
     "exception": false,
     "start_time": "2021-01-17T20:26:07.533475",
     "status": "completed"
    },
    "tags": []
   },
   "source": [
    "### Plotting probability contours"
   ]
  },
  {
   "cell_type": "code",
   "execution_count": 27,
   "metadata": {
    "execution": {
     "iopub.execute_input": "2021-01-17T20:26:07.668807Z",
     "iopub.status.busy": "2021-01-17T20:26:07.668304Z",
     "iopub.status.idle": "2021-01-17T20:26:07.678907Z",
     "shell.execute_reply": "2021-01-17T20:26:07.678490Z"
    },
    "papermill": {
     "duration": 0.05885,
     "end_time": "2021-01-17T20:26:07.679030",
     "exception": false,
     "start_time": "2021-01-17T20:26:07.620180",
     "status": "completed"
    },
    "tags": []
   },
   "outputs": [],
   "source": [
    "model_prob = Model(layers[-2:]) "
   ]
  },
  {
   "cell_type": "code",
   "execution_count": 28,
   "metadata": {
    "execution": {
     "iopub.execute_input": "2021-01-17T20:26:07.773171Z",
     "iopub.status.busy": "2021-01-17T20:26:07.772634Z",
     "iopub.status.idle": "2021-01-17T20:26:07.785490Z",
     "shell.execute_reply": "2021-01-17T20:26:07.785882Z"
    },
    "papermill": {
     "duration": 0.063575,
     "end_time": "2021-01-17T20:26:07.786028",
     "exception": false,
     "start_time": "2021-01-17T20:26:07.722453",
     "status": "completed"
    },
    "tags": []
   },
   "outputs": [],
   "source": [
    "# Adjust the x and y ranges according to the above generated plot.\n",
    "x_range = np.linspace(-4, 1, 100) \n",
    "y_range = np.linspace(-6, 6, 100) \n",
    "x_grid, y_grid = np.meshgrid(x_range, y_range) # x_grid and y_grig are of size 100 X 100\n",
    "\n",
    "# converting x_grid and y_grid to continuous arrays\n",
    "x_grid_flat = np.ravel(x_grid)\n",
    "y_grid_flat = np.ravel(y_grid)\n",
    "\n",
    "# The last layer of the current model takes two columns as input. Hence transpose of np.vstack() is required.\n",
    "X = np.vstack((x_grid_flat, y_grid_flat)).T\n",
    "\n",
    "# x_grid and y_grid are of size 100 x 100\n",
    "probability_contour = model_prob(X).reshape(100,100) "
   ]
  },
  {
   "cell_type": "code",
   "execution_count": 29,
   "metadata": {
    "execution": {
     "iopub.execute_input": "2021-01-17T20:26:07.908387Z",
     "iopub.status.busy": "2021-01-17T20:26:07.907863Z",
     "iopub.status.idle": "2021-01-17T20:26:08.103931Z",
     "shell.execute_reply": "2021-01-17T20:26:08.103486Z"
    },
    "papermill": {
     "duration": 0.245822,
     "end_time": "2021-01-17T20:26:08.104055",
     "exception": false,
     "start_time": "2021-01-17T20:26:07.858233",
     "status": "completed"
    },
    "tags": []
   },
   "outputs": [
    {
     "data": {
      "image/png": "[encoded data removed]",
      "text/plain": [
       "<Figure size 720x648 with 1 Axes>"
      ]
     },
     "metadata": {
      "needs_background": "light"
     },
     "output_type": "display_data"
    }
   ],
   "source": [
    "plt.figure(figsize=(10,9))\n",
    "plt.scatter(plot_testing[:,0], plot_testing[:,1], alpha = 0.1, c = y_test.ravel())\n",
    "contours = plt.contour(x_grid,y_grid,probability_contour)\n",
    "plt.title('Probability Contours')\n",
    "plt.clabel(contours, inline = True );"
   ]
  }
 ],
 "metadata": {
  "kernelspec": {
   "display_name": "Python 3",
   "language": "python",
   "name": "python3"
  },
  "language_info": {
   "codemirror_mode": {
    "name": "ipython",
    "version": 3
   },
   "file_extension": ".py",
   "mimetype": "text/x-python",
   "name": "python",
   "nbconvert_exporter": "python",
   "pygments_lexer": "ipython3",
   "version": "3.6.12"
  },
  "papermill": {
   "duration": 102.73827,
   "end_time": "2021-01-17T20:26:08.557956",
   "environment_variables": {},
   "exception": null,
   "input_path": "2020-08-11-NeuralNetwork.ipynb",
   "output_path": "2020-08-11-NeuralNetwork.ipynb",
   "parameters": {},
   "start_time": "2021-01-17T20:24:25.819686",
   "version": "2.1.2"
  }
 },
 "nbformat": 4,
 "nbformat_minor": 4
}