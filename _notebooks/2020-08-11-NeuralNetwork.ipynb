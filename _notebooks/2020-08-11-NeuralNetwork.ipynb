{
 "cells": [
  {
   "cell_type": "markdown",
   "metadata": {
    "papermill": {
     "duration": 0.032301,
     "end_time": "2020-11-03T20:04:12.938582",
     "exception": false,
     "start_time": "2020-11-03T20:04:12.906281",
     "status": "completed"
    },
    "tags": []
   },
   "source": [
    "# \"A Basic Neural Network: Differentiate Hand-Written Digits\"\n",
    "\n",
    "- badges: true\n",
    "- author: Akshith Sriram"
   ]
  },
  {
   "cell_type": "markdown",
   "metadata": {
    "papermill": {
     "duration": 0.031179,
     "end_time": "2020-11-03T20:04:12.998610",
     "exception": false,
     "start_time": "2020-11-03T20:04:12.967431",
     "status": "completed"
    },
    "tags": []
   },
   "source": [
    "### Key Objectives:\n",
    "- Building a neural network that differentiates two hand-written digits 3 and 8.\n",
    "- Comparing the results of this Neural Network (NN) to that of a Logistic Regression (LR) model.\n",
    "\n",
    "### Requirements:\n",
    "- 'Kudzu' : A neural network library that was designed during our course by [Univ.AI](www.univ.ai). \n",
    "- MNIST Database\n",
    "\n",
    "If MNIST is not installed, use the command `!pip install mnist` given below.\n",
    "It can be run both from the command line and Jupyter Notebook."
   ]
  },
  {
   "cell_type": "code",
   "execution_count": 1,
   "metadata": {
    "execution": {
     "iopub.execute_input": "2020-11-03T20:04:13.066437Z",
     "iopub.status.busy": "2020-11-03T20:04:13.065760Z",
     "iopub.status.idle": "2020-11-03T20:04:14.741355Z",
     "shell.execute_reply": "2020-11-03T20:04:14.741912Z"
    },
    "papermill": {
     "duration": 1.711535,
     "end_time": "2020-11-03T20:04:14.742118",
     "exception": false,
     "start_time": "2020-11-03T20:04:13.030583",
     "status": "completed"
    },
    "tags": []
   },
   "outputs": [
    {
     "name": "stdout",
     "output_type": "stream",
     "text": [
      "Collecting mnist\r\n"
     ]
    },
    {
     "name": "stdout",
     "output_type": "stream",
     "text": [
      "  Downloading mnist-0.2.2-py2.py3-none-any.whl (3.5 kB)\r\n"
     ]
    },
    {
     "name": "stdout",
     "output_type": "stream",
     "text": [
      "Requirement already satisfied: numpy in /opt/hostedtoolcache/Python/3.6.12/x64/lib/python3.6/site-packages (from mnist) (1.19.4)\r\n"
     ]
    },
    {
     "name": "stdout",
     "output_type": "stream",
     "text": [
      "Installing collected packages: mnist\r\n"
     ]
    },
    {
     "name": "stdout",
     "output_type": "stream",
     "text": [
      "Successfully installed mnist-0.2.2\r\n"
     ]
    }
   ],
   "source": [
    "!pip install mnist "
   ]
  },
  {
   "cell_type": "markdown",
   "metadata": {
    "papermill": {
     "duration": 0.029991,
     "end_time": "2020-11-03T20:04:14.803779",
     "exception": false,
     "start_time": "2020-11-03T20:04:14.773788",
     "status": "completed"
    },
    "tags": []
   },
   "source": [
    "#### Importing necessary libraries"
   ]
  },
  {
   "cell_type": "code",
   "execution_count": 2,
   "metadata": {
    "execution": {
     "iopub.execute_input": "2020-11-03T20:04:14.873658Z",
     "iopub.status.busy": "2020-11-03T20:04:14.873011Z",
     "iopub.status.idle": "2020-11-03T20:04:15.495925Z",
     "shell.execute_reply": "2020-11-03T20:04:15.496450Z"
    },
    "papermill": {
     "duration": 0.661032,
     "end_time": "2020-11-03T20:04:15.496630",
     "exception": false,
     "start_time": "2020-11-03T20:04:14.835598",
     "status": "completed"
    },
    "tags": []
   },
   "outputs": [],
   "source": [
    "%load_ext autoreload\n",
    "%autoreload 2\n",
    "\n",
    "%matplotlib inline\n",
    "import matplotlib.pyplot as plt\n",
    "\n",
    "import numpy as np\n",
    "import pandas as pd"
   ]
  },
  {
   "cell_type": "markdown",
   "metadata": {
    "papermill": {
     "duration": 0.029547,
     "end_time": "2020-11-03T20:04:15.560755",
     "exception": false,
     "start_time": "2020-11-03T20:04:15.531208",
     "status": "completed"
    },
    "tags": []
   },
   "source": [
    "### Preparing the Data"
   ]
  },
  {
   "cell_type": "code",
   "execution_count": 3,
   "metadata": {
    "execution": {
     "iopub.execute_input": "2020-11-03T20:04:15.623809Z",
     "iopub.status.busy": "2020-11-03T20:04:15.623142Z",
     "iopub.status.idle": "2020-11-03T20:04:15.636819Z",
     "shell.execute_reply": "2020-11-03T20:04:15.636266Z"
    },
    "papermill": {
     "duration": 0.04671,
     "end_time": "2020-11-03T20:04:15.636968",
     "exception": false,
     "start_time": "2020-11-03T20:04:15.590258",
     "status": "completed"
    },
    "tags": []
   },
   "outputs": [],
   "source": [
    "import mnist"
   ]
  },
  {
   "cell_type": "code",
   "execution_count": 4,
   "metadata": {
    "execution": {
     "iopub.execute_input": "2020-11-03T20:04:15.705589Z",
     "iopub.status.busy": "2020-11-03T20:04:15.704573Z",
     "iopub.status.idle": "2020-11-03T20:04:16.459689Z",
     "shell.execute_reply": "2020-11-03T20:04:16.459116Z"
    },
    "papermill": {
     "duration": 0.794194,
     "end_time": "2020-11-03T20:04:16.459843",
     "exception": false,
     "start_time": "2020-11-03T20:04:15.665649",
     "status": "completed"
    },
    "tags": []
   },
   "outputs": [],
   "source": [
    "train_images = mnist.train_images()\n",
    "train_labels = mnist.train_labels()"
   ]
  },
  {
   "cell_type": "code",
   "execution_count": 5,
   "metadata": {
    "execution": {
     "iopub.execute_input": "2020-11-03T20:04:16.531571Z",
     "iopub.status.busy": "2020-11-03T20:04:16.527340Z",
     "iopub.status.idle": "2020-11-03T20:04:16.547778Z",
     "shell.execute_reply": "2020-11-03T20:04:16.546975Z"
    },
    "papermill": {
     "duration": 0.057999,
     "end_time": "2020-11-03T20:04:16.547922",
     "exception": false,
     "start_time": "2020-11-03T20:04:16.489923",
     "status": "completed"
    },
    "tags": []
   },
   "outputs": [
    {
     "data": {
      "text/plain": [
       "((60000, 28, 28), (60000,))"
      ]
     },
     "execution_count": 5,
     "metadata": {},
     "output_type": "execute_result"
    }
   ],
   "source": [
    "train_images.shape, train_labels.shape"
   ]
  },
  {
   "cell_type": "code",
   "execution_count": 6,
   "metadata": {
    "execution": {
     "iopub.execute_input": "2020-11-03T20:04:16.611955Z",
     "iopub.status.busy": "2020-11-03T20:04:16.611295Z",
     "iopub.status.idle": "2020-11-03T20:04:16.880454Z",
     "shell.execute_reply": "2020-11-03T20:04:16.879856Z"
    },
    "papermill": {
     "duration": 0.303699,
     "end_time": "2020-11-03T20:04:16.880604",
     "exception": false,
     "start_time": "2020-11-03T20:04:16.576905",
     "status": "completed"
    },
    "tags": []
   },
   "outputs": [],
   "source": [
    "test_images = mnist.test_images()\n",
    "test_labels = mnist.test_labels()"
   ]
  },
  {
   "cell_type": "code",
   "execution_count": 7,
   "metadata": {
    "execution": {
     "iopub.execute_input": "2020-11-03T20:04:16.961213Z",
     "iopub.status.busy": "2020-11-03T20:04:16.955104Z",
     "iopub.status.idle": "2020-11-03T20:04:16.969634Z",
     "shell.execute_reply": "2020-11-03T20:04:16.969063Z"
    },
    "papermill": {
     "duration": 0.057858,
     "end_time": "2020-11-03T20:04:16.969831",
     "exception": false,
     "start_time": "2020-11-03T20:04:16.911973",
     "status": "completed"
    },
    "tags": []
   },
   "outputs": [
    {
     "data": {
      "text/plain": [
       "((10000, 28, 28), (10000,))"
      ]
     },
     "execution_count": 7,
     "metadata": {},
     "output_type": "execute_result"
    }
   ],
   "source": [
    "test_images.shape, test_labels.shape"
   ]
  },
  {
   "cell_type": "code",
   "execution_count": 8,
   "metadata": {
    "execution": {
     "iopub.execute_input": "2020-11-03T20:04:17.038912Z",
     "iopub.status.busy": "2020-11-03T20:04:17.038261Z",
     "iopub.status.idle": "2020-11-03T20:04:17.207180Z",
     "shell.execute_reply": "2020-11-03T20:04:17.207711Z"
    },
    "papermill": {
     "duration": 0.207386,
     "end_time": "2020-11-03T20:04:17.207880",
     "exception": false,
     "start_time": "2020-11-03T20:04:17.000494",
     "status": "completed"
    },
    "tags": []
   },
   "outputs": [
    {
     "name": "stdout",
     "output_type": "stream",
     "text": [
      "2\n"
     ]
    },
    {
     "data": {
      "text/plain": [
       "<matplotlib.image.AxesImage at 0x7f8983283470>"
      ]
     },
     "execution_count": 8,
     "metadata": {},
     "output_type": "execute_result"
    },
    {
     "data": {
      "image/png": "[encoded data removed]",
      "text/plain": [
       "<Figure size 432x288 with 1 Axes>"
      ]
     },
     "metadata": {
      "needs_background": "light"
     },
     "output_type": "display_data"
    }
   ],
   "source": [
    "image_index = 7776 # You may select anything up to 60,000\n",
    "print(train_labels[image_index]) \n",
    "plt.imshow(train_images[image_index], cmap='Greys')"
   ]
  },
  {
   "cell_type": "markdown",
   "metadata": {
    "papermill": {
     "duration": 0.033083,
     "end_time": "2020-11-03T20:04:17.272235",
     "exception": false,
     "start_time": "2020-11-03T20:04:17.239152",
     "status": "completed"
    },
    "tags": []
   },
   "source": [
    "## Filter data to get 3 and 8 out"
   ]
  },
  {
   "cell_type": "code",
   "execution_count": 9,
   "metadata": {
    "execution": {
     "iopub.execute_input": "2020-11-03T20:04:17.357298Z",
     "iopub.status.busy": "2020-11-03T20:04:17.356583Z",
     "iopub.status.idle": "2020-11-03T20:04:17.369165Z",
     "shell.execute_reply": "2020-11-03T20:04:17.368217Z"
    },
    "papermill": {
     "duration": 0.065539,
     "end_time": "2020-11-03T20:04:17.369321",
     "exception": false,
     "start_time": "2020-11-03T20:04:17.303782",
     "status": "completed"
    },
    "tags": []
   },
   "outputs": [],
   "source": [
    "train_filter = np.where((train_labels == 3 ) | (train_labels == 8))\n",
    "test_filter = np.where((test_labels == 3) | (test_labels == 8))\n",
    "X_train, y_train = train_images[train_filter], train_labels[train_filter]\n",
    "X_test, y_test = test_images[test_filter], test_labels[test_filter]"
   ]
  },
  {
   "cell_type": "markdown",
   "metadata": {
    "papermill": {
     "duration": 0.031125,
     "end_time": "2020-11-03T20:04:17.432450",
     "exception": false,
     "start_time": "2020-11-03T20:04:17.401325",
     "status": "completed"
    },
    "tags": []
   },
   "source": [
    "We normalize the pixel values in the 0 to 1 range"
   ]
  },
  {
   "cell_type": "code",
   "execution_count": 10,
   "metadata": {
    "execution": {
     "iopub.execute_input": "2020-11-03T20:04:17.515620Z",
     "iopub.status.busy": "2020-11-03T20:04:17.510652Z",
     "iopub.status.idle": "2020-11-03T20:04:17.571306Z",
     "shell.execute_reply": "2020-11-03T20:04:17.570294Z"
    },
    "papermill": {
     "duration": 0.107452,
     "end_time": "2020-11-03T20:04:17.571464",
     "exception": false,
     "start_time": "2020-11-03T20:04:17.464012",
     "status": "completed"
    },
    "tags": []
   },
   "outputs": [],
   "source": [
    "X_train = X_train/255.\n",
    "X_test = X_test/255."
   ]
  },
  {
   "cell_type": "markdown",
   "metadata": {
    "papermill": {
     "duration": 0.032431,
     "end_time": "2020-11-03T20:04:17.635345",
     "exception": false,
     "start_time": "2020-11-03T20:04:17.602914",
     "status": "completed"
    },
    "tags": []
   },
   "source": [
    "Setup the labels as 1 (when the digit is 3) and 0 (when the digit is 8)"
   ]
  },
  {
   "cell_type": "code",
   "execution_count": 11,
   "metadata": {
    "execution": {
     "iopub.execute_input": "2020-11-03T20:04:17.706810Z",
     "iopub.status.busy": "2020-11-03T20:04:17.701353Z",
     "iopub.status.idle": "2020-11-03T20:04:17.715325Z",
     "shell.execute_reply": "2020-11-03T20:04:17.715992Z"
    },
    "papermill": {
     "duration": 0.049579,
     "end_time": "2020-11-03T20:04:17.716150",
     "exception": false,
     "start_time": "2020-11-03T20:04:17.666571",
     "status": "completed"
    },
    "tags": []
   },
   "outputs": [],
   "source": [
    "y_train = 1*(y_train==3)\n",
    "y_test = 1*(y_test==3)"
   ]
  },
  {
   "cell_type": "code",
   "execution_count": 12,
   "metadata": {
    "execution": {
     "iopub.execute_input": "2020-11-03T20:04:17.795607Z",
     "iopub.status.busy": "2020-11-03T20:04:17.794966Z",
     "iopub.status.idle": "2020-11-03T20:04:17.801156Z",
     "shell.execute_reply": "2020-11-03T20:04:17.801975Z"
    },
    "papermill": {
     "duration": 0.051591,
     "end_time": "2020-11-03T20:04:17.802132",
     "exception": false,
     "start_time": "2020-11-03T20:04:17.750541",
     "status": "completed"
    },
    "tags": []
   },
   "outputs": [
    {
     "data": {
      "text/plain": [
       "((11982, 28, 28), (1984, 28, 28))"
      ]
     },
     "execution_count": 12,
     "metadata": {},
     "output_type": "execute_result"
    }
   ],
   "source": [
    "X_train.shape, X_test.shape"
   ]
  },
  {
   "cell_type": "markdown",
   "metadata": {
    "papermill": {
     "duration": 0.031345,
     "end_time": "2020-11-03T20:04:17.864780",
     "exception": false,
     "start_time": "2020-11-03T20:04:17.833435",
     "status": "completed"
    },
    "tags": []
   },
   "source": [
    "### Reshape the input data to create a linear array"
   ]
  },
  {
   "cell_type": "code",
   "execution_count": 13,
   "metadata": {
    "execution": {
     "iopub.execute_input": "2020-11-03T20:04:17.935665Z",
     "iopub.status.busy": "2020-11-03T20:04:17.935028Z",
     "iopub.status.idle": "2020-11-03T20:04:17.948052Z",
     "shell.execute_reply": "2020-11-03T20:04:17.947512Z"
    },
    "papermill": {
     "duration": 0.051268,
     "end_time": "2020-11-03T20:04:17.948190",
     "exception": false,
     "start_time": "2020-11-03T20:04:17.896922",
     "status": "completed"
    },
    "tags": []
   },
   "outputs": [
    {
     "data": {
      "text/plain": [
       "((11982, 784), (1984, 784))"
      ]
     },
     "execution_count": 13,
     "metadata": {},
     "output_type": "execute_result"
    }
   ],
   "source": [
    "X_train = X_train.reshape(X_train.shape[0], -1)\n",
    "X_test = X_test.reshape(X_test.shape[0], -1)\n",
    "X_train.shape, X_test.shape"
   ]
  },
  {
   "cell_type": "markdown",
   "metadata": {
    "papermill": {
     "duration": 0.031912,
     "end_time": "2020-11-03T20:04:18.012454",
     "exception": false,
     "start_time": "2020-11-03T20:04:17.980542",
     "status": "completed"
    },
    "tags": []
   },
   "source": [
    "### Importing appropriate functions from 'Kudzu'"
   ]
  },
  {
   "cell_type": "code",
   "execution_count": 14,
   "metadata": {
    "execution": {
     "iopub.execute_input": "2020-11-03T20:04:18.093136Z",
     "iopub.status.busy": "2020-11-03T20:04:18.092487Z",
     "iopub.status.idle": "2020-11-03T20:04:18.108741Z",
     "shell.execute_reply": "2020-11-03T20:04:18.109269Z"
    },
    "papermill": {
     "duration": 0.062052,
     "end_time": "2020-11-03T20:04:18.109424",
     "exception": false,
     "start_time": "2020-11-03T20:04:18.047372",
     "status": "completed"
    },
    "tags": []
   },
   "outputs": [],
   "source": [
    "from kudzu.layer import Sigmoid\n",
    "from kudzu.layer import Relu\n",
    "from kudzu.layer import Affine, Sigmoid\n",
    "\n",
    "from kudzu.model import Model\n",
    "from kudzu.train import Learner\n",
    "from kudzu.optim import GD\n",
    "from kudzu.data import Data, Dataloader, Sampler\n",
    "\n",
    "from kudzu.callbacks import AccCallback\n",
    "from kudzu.callbacks import ClfCallback\n",
    "\n",
    "from kudzu.loss import MSE"
   ]
  },
  {
   "cell_type": "markdown",
   "metadata": {
    "papermill": {
     "duration": 0.03264,
     "end_time": "2020-11-03T20:04:18.175873",
     "exception": false,
     "start_time": "2020-11-03T20:04:18.143233",
     "status": "completed"
    },
    "tags": []
   },
   "source": [
    "### Let us create a `Config` class, to store important parameters. \n",
    "This class essentially plays the role of a dictionary."
   ]
  },
  {
   "cell_type": "code",
   "execution_count": 15,
   "metadata": {
    "execution": {
     "iopub.execute_input": "2020-11-03T20:04:18.245103Z",
     "iopub.status.busy": "2020-11-03T20:04:18.244466Z",
     "iopub.status.idle": "2020-11-03T20:04:18.257850Z",
     "shell.execute_reply": "2020-11-03T20:04:18.258412Z"
    },
    "papermill": {
     "duration": 0.051132,
     "end_time": "2020-11-03T20:04:18.258715",
     "exception": false,
     "start_time": "2020-11-03T20:04:18.207583",
     "status": "completed"
    },
    "tags": []
   },
   "outputs": [],
   "source": [
    "class Config:\n",
    "    pass\n",
    "config = Config()\n",
    "config.lr = 0.001\n",
    "config.num_epochs = 251\n",
    "config.bs = 50"
   ]
  },
  {
   "cell_type": "markdown",
   "metadata": {
    "papermill": {
     "duration": 0.033875,
     "end_time": "2020-11-03T20:04:18.326050",
     "exception": false,
     "start_time": "2020-11-03T20:04:18.292175",
     "status": "completed"
    },
    "tags": []
   },
   "source": [
    "### Initializing data to the variables"
   ]
  },
  {
   "cell_type": "code",
   "execution_count": 16,
   "metadata": {
    "execution": {
     "iopub.execute_input": "2020-11-03T20:04:18.413885Z",
     "iopub.status.busy": "2020-11-03T20:04:18.413245Z",
     "iopub.status.idle": "2020-11-03T20:04:18.416248Z",
     "shell.execute_reply": "2020-11-03T20:04:18.416773Z"
    },
    "papermill": {
     "duration": 0.057308,
     "end_time": "2020-11-03T20:04:18.416924",
     "exception": false,
     "start_time": "2020-11-03T20:04:18.359616",
     "status": "completed"
    },
    "tags": []
   },
   "outputs": [],
   "source": [
    "data = Data(X_train, y_train.reshape(-1,1))\n",
    "sampler = Sampler(data, config.bs, shuffle=True)\n",
    "\n",
    "dl = Dataloader(data, sampler)\n",
    "\n",
    "opt = GD(config.lr)\n",
    "loss = MSE()"
   ]
  },
  {
   "cell_type": "code",
   "execution_count": 17,
   "metadata": {
    "execution": {
     "iopub.execute_input": "2020-11-03T20:04:18.502612Z",
     "iopub.status.busy": "2020-11-03T20:04:18.501938Z",
     "iopub.status.idle": "2020-11-03T20:04:18.504230Z",
     "shell.execute_reply": "2020-11-03T20:04:18.504758Z"
    },
    "papermill": {
     "duration": 0.05531,
     "end_time": "2020-11-03T20:04:18.504911",
     "exception": false,
     "start_time": "2020-11-03T20:04:18.449601",
     "status": "completed"
    },
    "tags": []
   },
   "outputs": [],
   "source": [
    "training_xdata = X_train\n",
    "testing_xdata = X_test\n",
    "training_ydata = y_train.reshape(-1,1)\n",
    "testing_ydata = y_test.reshape(-1,1)"
   ]
  },
  {
   "cell_type": "markdown",
   "metadata": {
    "papermill": {
     "duration": 0.034063,
     "end_time": "2020-11-03T20:04:18.572076",
     "exception": false,
     "start_time": "2020-11-03T20:04:18.538013",
     "status": "completed"
    },
    "tags": []
   },
   "source": [
    "### Running Models with the Training data\n",
    "Details about the network layers:\n",
    "- A first affine layer has 784 inputs and does 100 affine transforms. These are followed by a Relu\n",
    "- A second affine layer has 100 inputs from the 100 activations of the past layer, and does 100 affine transforms. These are followed by a Relu\n",
    "- A third affine layer has 100 activations and does 2 affine transformations to create an embedding for visualization. There is no non-linearity here.\n",
    "- A final \"logistic regression\" which has an affine transform from 2 inputs to 1 output, which is squeezed through a sigmoid.\n",
    "\n",
    "Help taken from Anshuman's Notebook."
   ]
  },
  {
   "cell_type": "code",
   "execution_count": 18,
   "metadata": {
    "execution": {
     "iopub.execute_input": "2020-11-03T20:04:18.661224Z",
     "iopub.status.busy": "2020-11-03T20:04:18.660341Z",
     "iopub.status.idle": "2020-11-03T20:04:18.667721Z",
     "shell.execute_reply": "2020-11-03T20:04:18.667164Z"
    },
    "papermill": {
     "duration": 0.063578,
     "end_time": "2020-11-03T20:04:18.667861",
     "exception": false,
     "start_time": "2020-11-03T20:04:18.604283",
     "status": "completed"
    },
    "tags": []
   },
   "outputs": [],
   "source": [
    "# layers for the Neural Network\n",
    "layers = [Affine(\"first\", 784, 100), Relu(\"first\"), Affine(\"second\", 100, 100), Relu(\"second\"), Affine(\"third\", 100, 2), Affine(\"final\", 2, 1), Sigmoid(\"final\")]\n",
    "model_nn = Model(layers)\n",
    "\n",
    "# layers for the Logistic Regression\n",
    "layers_lr = [Affine(\"logits\", 784, 1), Sigmoid(\"sigmoid\")]\n",
    "model_lr = Model(layers_lr)"
   ]
  },
  {
   "cell_type": "code",
   "execution_count": 19,
   "metadata": {
    "execution": {
     "iopub.execute_input": "2020-11-03T20:04:18.744662Z",
     "iopub.status.busy": "2020-11-03T20:04:18.741461Z",
     "iopub.status.idle": "2020-11-03T20:04:18.754600Z",
     "shell.execute_reply": "2020-11-03T20:04:18.755149Z"
    },
    "papermill": {
     "duration": 0.053415,
     "end_time": "2020-11-03T20:04:18.755315",
     "exception": false,
     "start_time": "2020-11-03T20:04:18.701900",
     "status": "completed"
    },
    "tags": []
   },
   "outputs": [],
   "source": [
    "# suffix _nn stands for Neural Network.\n",
    "learner_nn = Learner(loss, model_nn, opt, config.num_epochs)\n",
    "acc_nn = ClfCallback(learner_nn, config.bs, training_xdata , testing_xdata, training_ydata, testing_ydata)\n",
    "learner_nn.set_callbacks([acc_nn])"
   ]
  },
  {
   "cell_type": "code",
   "execution_count": 20,
   "metadata": {
    "execution": {
     "iopub.execute_input": "2020-11-03T20:04:18.827002Z",
     "iopub.status.busy": "2020-11-03T20:04:18.826352Z",
     "iopub.status.idle": "2020-11-03T20:06:24.178589Z",
     "shell.execute_reply": "2020-11-03T20:06:24.176956Z"
    },
    "papermill": {
     "duration": 125.38742,
     "end_time": "2020-11-03T20:06:24.178824",
     "exception": false,
     "start_time": "2020-11-03T20:04:18.791404",
     "status": "completed"
    },
    "tags": []
   },
   "outputs": [
    {
     "name": "stdout",
     "output_type": "stream",
     "text": [
      "====== Neural Network ======\n"
     ]
    },
    {
     "name": "stdout",
     "output_type": "stream",
     "text": [
      "Epoch 0, Loss 0.2175\n",
      "Training Accuracy: 0.7786, Testing Accuracy: 0.7898\n",
      "\n"
     ]
    },
    {
     "name": "stdout",
     "output_type": "stream",
     "text": [
      "Epoch 10, Loss 0.0722\n",
      "Training Accuracy: 0.9300, Testing Accuracy: 0.9441\n",
      "\n"
     ]
    },
    {
     "name": "stdout",
     "output_type": "stream",
     "text": [
      "Epoch 20, Loss 0.0487\n",
      "Training Accuracy: 0.9462, Testing Accuracy: 0.9602\n",
      "\n"
     ]
    },
    {
     "name": "stdout",
     "output_type": "stream",
     "text": [
      "Epoch 30, Loss 0.0398\n",
      "Training Accuracy: 0.9549, Testing Accuracy: 0.9672\n",
      "\n"
     ]
    },
    {
     "name": "stdout",
     "output_type": "stream",
     "text": [
      "Epoch 40, Loss 0.0351\n",
      "Training Accuracy: 0.9599, Testing Accuracy: 0.9677\n",
      "\n"
     ]
    },
    {
     "name": "stdout",
     "output_type": "stream",
     "text": [
      "Epoch 50, Loss 0.032\n",
      "Training Accuracy: 0.9633, Testing Accuracy: 0.9672\n",
      "\n"
     ]
    },
    {
     "name": "stdout",
     "output_type": "stream",
     "text": [
      "Epoch 60, Loss 0.0297\n",
      "Training Accuracy: 0.9659, Testing Accuracy: 0.9693\n",
      "\n"
     ]
    },
    {
     "name": "stdout",
     "output_type": "stream",
     "text": [
      "Epoch 70, Loss 0.028\n",
      "Training Accuracy: 0.9680, Testing Accuracy: 0.9703\n",
      "\n"
     ]
    },
    {
     "name": "stdout",
     "output_type": "stream",
     "text": [
      "Epoch 80, Loss 0.0266\n",
      "Training Accuracy: 0.9700, Testing Accuracy: 0.9708\n",
      "\n"
     ]
    },
    {
     "name": "stdout",
     "output_type": "stream",
     "text": [
      "Epoch 90, Loss 0.0254\n",
      "Training Accuracy: 0.9713, Testing Accuracy: 0.9733\n",
      "\n"
     ]
    },
    {
     "name": "stdout",
     "output_type": "stream",
     "text": [
      "Epoch 100, Loss 0.0243\n",
      "Training Accuracy: 0.9725, Testing Accuracy: 0.9728\n",
      "\n"
     ]
    },
    {
     "name": "stdout",
     "output_type": "stream",
     "text": [
      "Epoch 110, Loss 0.0234\n",
      "Training Accuracy: 0.9734, Testing Accuracy: 0.9728\n",
      "\n"
     ]
    },
    {
     "name": "stdout",
     "output_type": "stream",
     "text": [
      "Epoch 120, Loss 0.0226\n",
      "Training Accuracy: 0.9738, Testing Accuracy: 0.9728\n",
      "\n"
     ]
    },
    {
     "name": "stdout",
     "output_type": "stream",
     "text": [
      "Epoch 130, Loss 0.0219\n",
      "Training Accuracy: 0.9748, Testing Accuracy: 0.9728\n",
      "\n"
     ]
    },
    {
     "name": "stdout",
     "output_type": "stream",
     "text": [
      "Epoch 140, Loss 0.0212\n",
      "Training Accuracy: 0.9760, Testing Accuracy: 0.9728\n",
      "\n"
     ]
    },
    {
     "name": "stdout",
     "output_type": "stream",
     "text": [
      "Epoch 150, Loss 0.0206\n",
      "Training Accuracy: 0.9766, Testing Accuracy: 0.9733\n",
      "\n"
     ]
    },
    {
     "name": "stdout",
     "output_type": "stream",
     "text": [
      "Epoch 160, Loss 0.02\n",
      "Training Accuracy: 0.9773, Testing Accuracy: 0.9743\n",
      "\n"
     ]
    },
    {
     "name": "stdout",
     "output_type": "stream",
     "text": [
      "Epoch 170, Loss 0.0195\n",
      "Training Accuracy: 0.9778, Testing Accuracy: 0.9753\n",
      "\n"
     ]
    },
    {
     "name": "stdout",
     "output_type": "stream",
     "text": [
      "Epoch 180, Loss 0.0189\n",
      "Training Accuracy: 0.9785, Testing Accuracy: 0.9763\n",
      "\n"
     ]
    },
    {
     "name": "stdout",
     "output_type": "stream",
     "text": [
      "Epoch 190, Loss 0.0184\n",
      "Training Accuracy: 0.9789, Testing Accuracy: 0.9768\n",
      "\n"
     ]
    },
    {
     "name": "stdout",
     "output_type": "stream",
     "text": [
      "Epoch 200, Loss 0.0179\n",
      "Training Accuracy: 0.9796, Testing Accuracy: 0.9778\n",
      "\n"
     ]
    },
    {
     "name": "stdout",
     "output_type": "stream",
     "text": [
      "Epoch 210, Loss 0.0175\n",
      "Training Accuracy: 0.9803, Testing Accuracy: 0.9778\n",
      "\n"
     ]
    },
    {
     "name": "stdout",
     "output_type": "stream",
     "text": [
      "Epoch 220, Loss 0.0171\n",
      "Training Accuracy: 0.9810, Testing Accuracy: 0.9778\n",
      "\n"
     ]
    },
    {
     "name": "stdout",
     "output_type": "stream",
     "text": [
      "Epoch 230, Loss 0.0166\n",
      "Training Accuracy: 0.9818, Testing Accuracy: 0.9783\n",
      "\n"
     ]
    },
    {
     "name": "stdout",
     "output_type": "stream",
     "text": [
      "Epoch 240, Loss 0.0162\n",
      "Training Accuracy: 0.9822, Testing Accuracy: 0.9788\n",
      "\n"
     ]
    },
    {
     "name": "stdout",
     "output_type": "stream",
     "text": [
      "Epoch 250, Loss 0.0158\n",
      "Training Accuracy: 0.9831, Testing Accuracy: 0.9788\n",
      "\n"
     ]
    },
    {
     "data": {
      "text/plain": [
       "0.011995550272967174"
      ]
     },
     "execution_count": 20,
     "metadata": {},
     "output_type": "execute_result"
    }
   ],
   "source": [
    "print(\"====== Neural Network ======\")\n",
    "learner_nn.train_loop(dl)"
   ]
  },
  {
   "cell_type": "markdown",
   "metadata": {
    "papermill": {
     "duration": 0.044804,
     "end_time": "2020-11-03T20:06:24.267606",
     "exception": false,
     "start_time": "2020-11-03T20:06:24.222802",
     "status": "completed"
    },
    "tags": []
   },
   "source": [
    "### Logistic Regression based Implementation."
   ]
  },
  {
   "cell_type": "code",
   "execution_count": 21,
   "metadata": {
    "execution": {
     "iopub.execute_input": "2020-11-03T20:06:24.360124Z",
     "iopub.status.busy": "2020-11-03T20:06:24.359469Z",
     "iopub.status.idle": "2020-11-03T20:06:24.375560Z",
     "shell.execute_reply": "2020-11-03T20:06:24.376402Z"
    },
    "papermill": {
     "duration": 0.067382,
     "end_time": "2020-11-03T20:06:24.376575",
     "exception": false,
     "start_time": "2020-11-03T20:06:24.309193",
     "status": "completed"
    },
    "tags": []
   },
   "outputs": [],
   "source": [
    "learner_lr = Learner(loss, model_lr, opt, config.num_epochs)\n",
    "acc_lr = ClfCallback(learner_lr, config.bs, training_xdata , testing_xdata, training_ydata, testing_ydata)\n",
    "learner_lr.set_callbacks([acc_lr])"
   ]
  },
  {
   "cell_type": "code",
   "execution_count": 22,
   "metadata": {
    "execution": {
     "iopub.execute_input": "2020-11-03T20:06:24.468749Z",
     "iopub.status.busy": "2020-11-03T20:06:24.468099Z",
     "iopub.status.idle": "2020-11-03T20:06:43.200875Z",
     "shell.execute_reply": "2020-11-03T20:06:43.201704Z"
    },
    "papermill": {
     "duration": 18.782975,
     "end_time": "2020-11-03T20:06:43.202585",
     "exception": false,
     "start_time": "2020-11-03T20:06:24.419610",
     "status": "completed"
    },
    "tags": []
   },
   "outputs": [
    {
     "name": "stdout",
     "output_type": "stream",
     "text": [
      "====== Logistic Regression ======\n",
      "Epoch 0, Loss 0.2384\n",
      "Training Accuracy: 0.7184, Testing Accuracy: 0.7041\n",
      "\n"
     ]
    },
    {
     "name": "stdout",
     "output_type": "stream",
     "text": [
      "Epoch 10, Loss 0.101\n",
      "Training Accuracy: 0.9185, Testing Accuracy: 0.9289\n",
      "\n"
     ]
    },
    {
     "name": "stdout",
     "output_type": "stream",
     "text": [
      "Epoch 20, Loss 0.0781\n",
      "Training Accuracy: 0.9315, Testing Accuracy: 0.9415\n",
      "\n"
     ]
    },
    {
     "name": "stdout",
     "output_type": "stream",
     "text": [
      "Epoch 30, Loss 0.0675\n",
      "Training Accuracy: 0.9383, Testing Accuracy: 0.9456\n",
      "\n"
     ]
    },
    {
     "name": "stdout",
     "output_type": "stream",
     "text": [
      "Epoch 40, Loss 0.0611\n",
      "Training Accuracy: 0.9441, Testing Accuracy: 0.9526\n",
      "\n"
     ]
    },
    {
     "name": "stdout",
     "output_type": "stream",
     "text": [
      "Epoch 50, Loss 0.0567\n",
      "Training Accuracy: 0.9466, Testing Accuracy: 0.9556\n",
      "\n"
     ]
    },
    {
     "name": "stdout",
     "output_type": "stream",
     "text": [
      "Epoch 60, Loss 0.0535\n",
      "Training Accuracy: 0.9487, Testing Accuracy: 0.9567\n",
      "\n"
     ]
    },
    {
     "name": "stdout",
     "output_type": "stream",
     "text": [
      "Epoch 70, Loss 0.051\n",
      "Training Accuracy: 0.9502, Testing Accuracy: 0.9582\n",
      "\n"
     ]
    },
    {
     "name": "stdout",
     "output_type": "stream",
     "text": [
      "Epoch 80, Loss 0.049\n",
      "Training Accuracy: 0.9510, Testing Accuracy: 0.9582\n",
      "\n"
     ]
    },
    {
     "name": "stdout",
     "output_type": "stream",
     "text": [
      "Epoch 90, Loss 0.0474\n",
      "Training Accuracy: 0.9523, Testing Accuracy: 0.9597\n",
      "\n"
     ]
    },
    {
     "name": "stdout",
     "output_type": "stream",
     "text": [
      "Epoch 100, Loss 0.046\n",
      "Training Accuracy: 0.9528, Testing Accuracy: 0.9612\n",
      "\n"
     ]
    },
    {
     "name": "stdout",
     "output_type": "stream",
     "text": [
      "Epoch 110, Loss 0.0448\n",
      "Training Accuracy: 0.9538, Testing Accuracy: 0.9627\n",
      "\n"
     ]
    },
    {
     "name": "stdout",
     "output_type": "stream",
     "text": [
      "Epoch 120, Loss 0.0438\n",
      "Training Accuracy: 0.9543, Testing Accuracy: 0.9642\n",
      "\n"
     ]
    },
    {
     "name": "stdout",
     "output_type": "stream",
     "text": [
      "Epoch 130, Loss 0.0428\n",
      "Training Accuracy: 0.9553, Testing Accuracy: 0.9642\n",
      "\n"
     ]
    },
    {
     "name": "stdout",
     "output_type": "stream",
     "text": [
      "Epoch 140, Loss 0.042\n",
      "Training Accuracy: 0.9555, Testing Accuracy: 0.9642\n",
      "\n"
     ]
    },
    {
     "name": "stdout",
     "output_type": "stream",
     "text": [
      "Epoch 150, Loss 0.0413\n",
      "Training Accuracy: 0.9566, Testing Accuracy: 0.9647\n",
      "\n"
     ]
    },
    {
     "name": "stdout",
     "output_type": "stream",
     "text": [
      "Epoch 160, Loss 0.0406\n",
      "Training Accuracy: 0.9566, Testing Accuracy: 0.9652\n",
      "\n"
     ]
    },
    {
     "name": "stdout",
     "output_type": "stream",
     "text": [
      "Epoch 170, Loss 0.04\n",
      "Training Accuracy: 0.9574, Testing Accuracy: 0.9667\n",
      "\n"
     ]
    },
    {
     "name": "stdout",
     "output_type": "stream",
     "text": [
      "Epoch 180, Loss 0.0395\n",
      "Training Accuracy: 0.9580, Testing Accuracy: 0.9667\n",
      "\n"
     ]
    },
    {
     "name": "stdout",
     "output_type": "stream",
     "text": [
      "Epoch 190, Loss 0.039\n",
      "Training Accuracy: 0.9584, Testing Accuracy: 0.9672\n",
      "\n"
     ]
    },
    {
     "name": "stdout",
     "output_type": "stream",
     "text": [
      "Epoch 200, Loss 0.0385\n",
      "Training Accuracy: 0.9588, Testing Accuracy: 0.9672\n",
      "\n"
     ]
    },
    {
     "name": "stdout",
     "output_type": "stream",
     "text": [
      "Epoch 210, Loss 0.038\n",
      "Training Accuracy: 0.9591, Testing Accuracy: 0.9677\n",
      "\n"
     ]
    },
    {
     "name": "stdout",
     "output_type": "stream",
     "text": [
      "Epoch 220, Loss 0.0376\n",
      "Training Accuracy: 0.9597, Testing Accuracy: 0.9672\n",
      "\n"
     ]
    },
    {
     "name": "stdout",
     "output_type": "stream",
     "text": [
      "Epoch 230, Loss 0.0373\n",
      "Training Accuracy: 0.9600, Testing Accuracy: 0.9672\n",
      "\n"
     ]
    },
    {
     "name": "stdout",
     "output_type": "stream",
     "text": [
      "Epoch 240, Loss 0.0369\n",
      "Training Accuracy: 0.9602, Testing Accuracy: 0.9682\n",
      "\n"
     ]
    },
    {
     "name": "stdout",
     "output_type": "stream",
     "text": [
      "Epoch 250, Loss 0.0366\n",
      "Training Accuracy: 0.9604, Testing Accuracy: 0.9682\n",
      "\n"
     ]
    },
    {
     "data": {
      "text/plain": [
       "0.027161281467107244"
      ]
     },
     "execution_count": 22,
     "metadata": {},
     "output_type": "execute_result"
    }
   ],
   "source": [
    "print(\"====== Logistic Regression ======\")\n",
    "learner_lr.train_loop(dl)"
   ]
  },
  {
   "cell_type": "markdown",
   "metadata": {
    "papermill": {
     "duration": 0.059878,
     "end_time": "2020-11-03T20:06:43.314466",
     "exception": false,
     "start_time": "2020-11-03T20:06:43.254588",
     "status": "completed"
    },
    "tags": []
   },
   "source": [
    "### Comparing results of NN and LR"
   ]
  },
  {
   "cell_type": "code",
   "execution_count": 23,
   "metadata": {
    "execution": {
     "iopub.execute_input": "2020-11-03T20:06:43.422323Z",
     "iopub.status.busy": "2020-11-03T20:06:43.421642Z",
     "iopub.status.idle": "2020-11-03T20:06:43.683858Z",
     "shell.execute_reply": "2020-11-03T20:06:43.684742Z"
    },
    "papermill": {
     "duration": 0.319133,
     "end_time": "2020-11-03T20:06:43.684911",
     "exception": false,
     "start_time": "2020-11-03T20:06:43.365778",
     "status": "completed"
    },
    "tags": []
   },
   "outputs": [
    {
     "data": {
      "text/plain": [
       "<matplotlib.legend.Legend at 0x7f8980deb0f0>"
      ]
     },
     "execution_count": 23,
     "metadata": {},
     "output_type": "execute_result"
    },
    {
     "data": {
      "image/png": "[encoded data removed]",
      "text/plain": [
       "<Figure size 1080x720 with 1 Axes>"
      ]
     },
     "metadata": {
      "needs_background": "light"
     },
     "output_type": "display_data"
    }
   ],
   "source": [
    "plt.figure(figsize=(15,10))\n",
    "\n",
    "# Neural Network plots\n",
    "plt.plot(acc_nn.accuracies, 'r-', label = \"Training Accuracies - NN\")\n",
    "plt.plot(acc_nn.test_accuracies, 'g-', label = \"Testing Accuracies - NN\")\n",
    "\n",
    "# Logistic Regression plots\n",
    "plt.plot(acc_lr.accuracies, 'k-', label = \"Training Accuracies - LR\")\n",
    "plt.plot(acc_lr.test_accuracies, 'b-', label = \"Testing Accuracies - LR\")\n",
    "\n",
    "plt.ylim(0.8, 1)\n",
    "\n",
    "plt.legend()\n",
    "\n"
   ]
  },
  {
   "cell_type": "markdown",
   "metadata": {
    "papermill": {
     "duration": 0.052409,
     "end_time": "2020-11-03T20:06:43.790479",
     "exception": false,
     "start_time": "2020-11-03T20:06:43.738070",
     "status": "completed"
    },
    "tags": []
   },
   "source": [
    "### From the plot, we can observe the following:\n",
    "- Neural Network achieves higher accuracy than the Logistic Regression model.\n",
    "- This apparently, is because of overfitting, i.e. NN captures more noise than data.\n",
    "- Testing accuracy of NN drops below the Training accuracy at higher epochs. This explains the over-fitting on training data.\n",
    "- Logistic Regression gives a reliable accuracy, without the above mentioned problem.\n"
   ]
  },
  {
   "cell_type": "markdown",
   "metadata": {
    "papermill": {
     "duration": 0.050528,
     "end_time": "2020-11-03T20:06:43.892407",
     "exception": false,
     "start_time": "2020-11-03T20:06:43.841879",
     "status": "completed"
    },
    "tags": []
   },
   "source": [
    "### Moving till the last but one layer (excluding it).\n",
    "#### Plotting the outputs of this layer of the NN."
   ]
  },
  {
   "cell_type": "code",
   "execution_count": 24,
   "metadata": {
    "execution": {
     "iopub.execute_input": "2020-11-03T20:06:44.001888Z",
     "iopub.status.busy": "2020-11-03T20:06:44.001222Z",
     "iopub.status.idle": "2020-11-03T20:06:44.015466Z",
     "shell.execute_reply": "2020-11-03T20:06:44.014084Z"
    },
    "papermill": {
     "duration": 0.069966,
     "end_time": "2020-11-03T20:06:44.015626",
     "exception": false,
     "start_time": "2020-11-03T20:06:43.945660",
     "status": "completed"
    },
    "tags": []
   },
   "outputs": [],
   "source": [
    "model_new = Model(layers[:-2])"
   ]
  },
  {
   "cell_type": "code",
   "execution_count": 25,
   "metadata": {
    "execution": {
     "iopub.execute_input": "2020-11-03T20:06:44.128637Z",
     "iopub.status.busy": "2020-11-03T20:06:44.127986Z",
     "iopub.status.idle": "2020-11-03T20:06:44.152199Z",
     "shell.execute_reply": "2020-11-03T20:06:44.152987Z"
    },
    "papermill": {
     "duration": 0.083893,
     "end_time": "2020-11-03T20:06:44.153166",
     "exception": false,
     "start_time": "2020-11-03T20:06:44.069273",
     "status": "completed"
    },
    "tags": []
   },
   "outputs": [],
   "source": [
    "plot_testing = model_new(testing_xdata)"
   ]
  },
  {
   "cell_type": "code",
   "execution_count": 26,
   "metadata": {
    "execution": {
     "iopub.execute_input": "2020-11-03T20:06:44.280769Z",
     "iopub.status.busy": "2020-11-03T20:06:44.278532Z",
     "iopub.status.idle": "2020-11-03T20:06:44.505543Z",
     "shell.execute_reply": "2020-11-03T20:06:44.506554Z"
    },
    "papermill": {
     "duration": 0.299502,
     "end_time": "2020-11-03T20:06:44.506729",
     "exception": false,
     "start_time": "2020-11-03T20:06:44.207227",
     "status": "completed"
    },
    "tags": []
   },
   "outputs": [
    {
     "data": {
      "text/plain": [
       "Text(0.5, 1.0, 'Outputs')"
      ]
     },
     "execution_count": 26,
     "metadata": {},
     "output_type": "execute_result"
    },
    {
     "data": {
      "image/png": "[encoded data removed]",
      "text/plain": [
       "<Figure size 576x504 with 1 Axes>"
      ]
     },
     "metadata": {
      "needs_background": "light"
     },
     "output_type": "display_data"
    }
   ],
   "source": [
    "plt.figure(figsize=(8,7))\n",
    "plt.scatter(plot_testing[:,0], plot_testing[:,1], alpha = 0.1, c = y_test.ravel());\n",
    "plt.title('Outputs')"
   ]
  },
  {
   "cell_type": "markdown",
   "metadata": {
    "papermill": {
     "duration": 0.053755,
     "end_time": "2020-11-03T20:06:44.618520",
     "exception": false,
     "start_time": "2020-11-03T20:06:44.564765",
     "status": "completed"
    },
    "tags": []
   },
   "source": [
    "### Plotting probability contours"
   ]
  },
  {
   "cell_type": "code",
   "execution_count": 27,
   "metadata": {
    "execution": {
     "iopub.execute_input": "2020-11-03T20:06:44.736971Z",
     "iopub.status.busy": "2020-11-03T20:06:44.736148Z",
     "iopub.status.idle": "2020-11-03T20:06:44.747424Z",
     "shell.execute_reply": "2020-11-03T20:06:44.748051Z"
    },
    "papermill": {
     "duration": 0.074881,
     "end_time": "2020-11-03T20:06:44.748207",
     "exception": false,
     "start_time": "2020-11-03T20:06:44.673326",
     "status": "completed"
    },
    "tags": []
   },
   "outputs": [],
   "source": [
    "model_prob = Model(layers[-2:]) "
   ]
  },
  {
   "cell_type": "code",
   "execution_count": 28,
   "metadata": {
    "execution": {
     "iopub.execute_input": "2020-11-03T20:06:44.863559Z",
     "iopub.status.busy": "2020-11-03T20:06:44.862912Z",
     "iopub.status.idle": "2020-11-03T20:06:44.877515Z",
     "shell.execute_reply": "2020-11-03T20:06:44.878009Z"
    },
    "papermill": {
     "duration": 0.073073,
     "end_time": "2020-11-03T20:06:44.878165",
     "exception": false,
     "start_time": "2020-11-03T20:06:44.805092",
     "status": "completed"
    },
    "tags": []
   },
   "outputs": [],
   "source": [
    "# Adjust the x and y ranges according to the above generated plot.\n",
    "x_range = np.linspace(-4, 1, 100) \n",
    "y_range = np.linspace(-6, 6, 100) \n",
    "x_grid, y_grid = np.meshgrid(x_range, y_range) # x_grid and y_grig are of size 100 X 100\n",
    "\n",
    "# converting x_grid and y_grid to continuous arrays\n",
    "x_grid_flat = np.ravel(x_grid)\n",
    "y_grid_flat = np.ravel(y_grid)\n",
    "\n",
    "# The last layer of the current model takes two columns as input. Hence transpose of np.vstack() is required.\n",
    "X = np.vstack((x_grid_flat, y_grid_flat)).T\n",
    "\n",
    "# x_grid and y_grid are of size 100 x 100\n",
    "probability_contour = model_prob(X).reshape(100,100) "
   ]
  },
  {
   "cell_type": "code",
   "execution_count": 29,
   "metadata": {
    "execution": {
     "iopub.execute_input": "2020-11-03T20:06:45.025824Z",
     "iopub.status.busy": "2020-11-03T20:06:45.007278Z",
     "iopub.status.idle": "2020-11-03T20:06:45.280558Z",
     "shell.execute_reply": "2020-11-03T20:06:45.281089Z"
    },
    "papermill": {
     "duration": 0.348667,
     "end_time": "2020-11-03T20:06:45.281259",
     "exception": false,
     "start_time": "2020-11-03T20:06:44.932592",
     "status": "completed"
    },
    "tags": []
   },
   "outputs": [
    {
     "data": {
      "image/png": "[encoded data removed]",
      "text/plain": [
       "<Figure size 720x648 with 1 Axes>"
      ]
     },
     "metadata": {
      "needs_background": "light"
     },
     "output_type": "display_data"
    }
   ],
   "source": [
    "plt.figure(figsize=(10,9))\n",
    "plt.scatter(plot_testing[:,0], plot_testing[:,1], alpha = 0.1, c = y_test.ravel())\n",
    "contours = plt.contour(x_grid,y_grid,probability_contour)\n",
    "plt.title('Probability Contours')\n",
    "plt.clabel(contours, inline = True );"
   ]
  }
 ],
 "metadata": {
  "kernelspec": {
   "display_name": "Python 3",
   "language": "python",
   "name": "python3"
  },
  "language_info": {
   "codemirror_mode": {
    "name": "ipython",
    "version": 3
   },
   "file_extension": ".py",
   "mimetype": "text/x-python",
   "name": "python",
   "nbconvert_exporter": "python",
   "pygments_lexer": "ipython3",
   "version": "3.6.12"
  },
  "papermill": {
   "duration": 153.970828,
   "end_time": "2020-11-03T20:06:45.767526",
   "environment_variables": {},
   "exception": null,
   "input_path": "2020-08-11-NeuralNetwork.ipynb",
   "output_path": "2020-08-11-NeuralNetwork.ipynb",
   "parameters": {},
   "start_time": "2020-11-03T20:04:11.796698",
   "version": "2.1.2"
  }
 },
 "nbformat": 4,
 "nbformat_minor": 4
}