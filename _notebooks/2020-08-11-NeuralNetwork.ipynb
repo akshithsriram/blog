{
 "cells": [
  {
   "cell_type": "markdown",
   "id": "fitted-suggestion",
   "metadata": {
    "papermill": {
     "duration": 0.02968,
     "end_time": "2021-06-30T00:14:47.108456",
     "exception": false,
     "start_time": "2021-06-30T00:14:47.078776",
     "status": "completed"
    },
    "tags": []
   },
   "source": [
    "# \"A Basic Neural Network: Differentiate Hand-Written Digits\"\n",
    "\n",
    "- badges: true\n",
    "- author: Akshith Sriram"
   ]
  },
  {
   "cell_type": "markdown",
   "id": "signal-flexibility",
   "metadata": {
    "papermill": {
     "duration": 0.022531,
     "end_time": "2021-06-30T00:14:47.154474",
     "exception": false,
     "start_time": "2021-06-30T00:14:47.131943",
     "status": "completed"
    },
    "tags": []
   },
   "source": [
    "### Key Objectives:\n",
    "- Building a neural network that differentiates two hand-written digits 3 and 8.\n",
    "- Comparing the results of this Neural Network (NN) to that of a Logistic Regression (LR) model.\n",
    "\n",
    "### Requirements:\n",
    "- 'Kudzu' : A neural network library that was designed during our course by [Univ.AI](www.univ.ai). \n",
    "- MNIST Database\n",
    "\n",
    "If MNIST is not installed, use the command `!pip install mnist` given below.\n",
    "It can be run both from the command line and Jupyter Notebook."
   ]
  },
  {
   "cell_type": "code",
   "execution_count": 1,
   "id": "british-texture",
   "metadata": {
    "execution": {
     "iopub.execute_input": "2021-06-30T00:14:47.208117Z",
     "iopub.status.busy": "2021-06-30T00:14:47.207645Z",
     "iopub.status.idle": "2021-06-30T00:14:48.504803Z",
     "shell.execute_reply": "2021-06-30T00:14:48.505273Z"
    },
    "papermill": {
     "duration": 1.328464,
     "end_time": "2021-06-30T00:14:48.505450",
     "exception": false,
     "start_time": "2021-06-30T00:14:47.176986",
     "status": "completed"
    },
    "tags": []
   },
   "outputs": [
    {
     "name": "stdout",
     "output_type": "stream",
     "text": [
      "Collecting mnist\r\n"
     ]
    },
    {
     "name": "stdout",
     "output_type": "stream",
     "text": [
      "  Downloading mnist-0.2.2-py2.py3-none-any.whl (3.5 kB)\r\n",
      "Requirement already satisfied: numpy in /opt/hostedtoolcache/Python/3.6.13/x64/lib/python3.6/site-packages (from mnist) (1.19.5)\r\n"
     ]
    },
    {
     "name": "stdout",
     "output_type": "stream",
     "text": [
      "Installing collected packages: mnist\r\n",
      "Successfully installed mnist-0.2.2\r\n",
      "\u001b[33mWARNING: You are using pip version 21.1.2; however, version 21.1.3 is available.\r\n",
      "You should consider upgrading via the '/opt/hostedtoolcache/Python/3.6.13/x64/bin/python -m pip install --upgrade pip' command.\u001b[0m\r\n"
     ]
    }
   ],
   "source": [
    "!pip install mnist "
   ]
  },
  {
   "cell_type": "markdown",
   "id": "stunning-extra",
   "metadata": {
    "papermill": {
     "duration": 0.023386,
     "end_time": "2021-06-30T00:14:48.554248",
     "exception": false,
     "start_time": "2021-06-30T00:14:48.530862",
     "status": "completed"
    },
    "tags": []
   },
   "source": [
    "#### Importing necessary libraries"
   ]
  },
  {
   "cell_type": "code",
   "execution_count": 2,
   "id": "wooden-france",
   "metadata": {
    "execution": {
     "iopub.execute_input": "2021-06-30T00:14:48.608014Z",
     "iopub.status.busy": "2021-06-30T00:14:48.607561Z",
     "iopub.status.idle": "2021-06-30T00:14:49.070806Z",
     "shell.execute_reply": "2021-06-30T00:14:49.070377Z"
    },
    "papermill": {
     "duration": 0.493201,
     "end_time": "2021-06-30T00:14:49.070920",
     "exception": false,
     "start_time": "2021-06-30T00:14:48.577719",
     "status": "completed"
    },
    "tags": []
   },
   "outputs": [],
   "source": [
    "%load_ext autoreload\n",
    "%autoreload 2\n",
    "\n",
    "%matplotlib inline\n",
    "import matplotlib.pyplot as plt\n",
    "\n",
    "import numpy as np\n",
    "import pandas as pd"
   ]
  },
  {
   "cell_type": "markdown",
   "id": "stunning-physics",
   "metadata": {
    "papermill": {
     "duration": 0.02358,
     "end_time": "2021-06-30T00:14:49.118339",
     "exception": false,
     "start_time": "2021-06-30T00:14:49.094759",
     "status": "completed"
    },
    "tags": []
   },
   "source": [
    "### Preparing the Data"
   ]
  },
  {
   "cell_type": "code",
   "execution_count": 3,
   "id": "unauthorized-remainder",
   "metadata": {
    "execution": {
     "iopub.execute_input": "2021-06-30T00:14:49.182318Z",
     "iopub.status.busy": "2021-06-30T00:14:49.175993Z",
     "iopub.status.idle": "2021-06-30T00:14:49.185212Z",
     "shell.execute_reply": "2021-06-30T00:14:49.184814Z"
    },
    "papermill": {
     "duration": 0.043468,
     "end_time": "2021-06-30T00:14:49.185315",
     "exception": false,
     "start_time": "2021-06-30T00:14:49.141847",
     "status": "completed"
    },
    "tags": []
   },
   "outputs": [],
   "source": [
    "import mnist"
   ]
  },
  {
   "cell_type": "code",
   "execution_count": 4,
   "id": "correct-antarctica",
   "metadata": {
    "execution": {
     "iopub.execute_input": "2021-06-30T00:14:49.238746Z",
     "iopub.status.busy": "2021-06-30T00:14:49.238277Z",
     "iopub.status.idle": "2021-06-30T00:19:38.193205Z",
     "shell.execute_reply": "2021-06-30T00:19:38.192745Z"
    },
    "papermill": {
     "duration": 288.984433,
     "end_time": "2021-06-30T00:19:38.193331",
     "exception": false,
     "start_time": "2021-06-30T00:14:49.208898",
     "status": "completed"
    },
    "tags": []
   },
   "outputs": [],
   "source": [
    "train_images = mnist.train_images()\n",
    "train_labels = mnist.train_labels()"
   ]
  },
  {
   "cell_type": "code",
   "execution_count": 5,
   "id": "musical-prospect",
   "metadata": {
    "execution": {
     "iopub.execute_input": "2021-06-30T00:19:38.244891Z",
     "iopub.status.busy": "2021-06-30T00:19:38.244445Z",
     "iopub.status.idle": "2021-06-30T00:19:38.257595Z",
     "shell.execute_reply": "2021-06-30T00:19:38.257217Z"
    },
    "papermill": {
     "duration": 0.039607,
     "end_time": "2021-06-30T00:19:38.257693",
     "exception": false,
     "start_time": "2021-06-30T00:19:38.218086",
     "status": "completed"
    },
    "tags": []
   },
   "outputs": [
    {
     "data": {
      "text/plain": [
       "((60000, 28, 28), (60000,))"
      ]
     },
     "execution_count": 5,
     "metadata": {},
     "output_type": "execute_result"
    }
   ],
   "source": [
    "train_images.shape, train_labels.shape"
   ]
  },
  {
   "cell_type": "code",
   "execution_count": 6,
   "id": "preliminary-elizabeth",
   "metadata": {
    "execution": {
     "iopub.execute_input": "2021-06-30T00:19:38.324017Z",
     "iopub.status.busy": "2021-06-30T00:19:38.323552Z",
     "iopub.status.idle": "2021-06-30T00:20:28.230583Z",
     "shell.execute_reply": "2021-06-30T00:20:28.229984Z"
    },
    "papermill": {
     "duration": 49.948277,
     "end_time": "2021-06-30T00:20:28.230723",
     "exception": false,
     "start_time": "2021-06-30T00:19:38.282446",
     "status": "completed"
    },
    "tags": []
   },
   "outputs": [],
   "source": [
    "test_images = mnist.test_images()\n",
    "test_labels = mnist.test_labels()"
   ]
  },
  {
   "cell_type": "code",
   "execution_count": 7,
   "id": "acknowledged-oxygen",
   "metadata": {
    "execution": {
     "iopub.execute_input": "2021-06-30T00:20:28.294684Z",
     "iopub.status.busy": "2021-06-30T00:20:28.294156Z",
     "iopub.status.idle": "2021-06-30T00:20:28.302660Z",
     "shell.execute_reply": "2021-06-30T00:20:28.302245Z"
    },
    "papermill": {
     "duration": 0.044758,
     "end_time": "2021-06-30T00:20:28.302772",
     "exception": false,
     "start_time": "2021-06-30T00:20:28.258014",
     "status": "completed"
    },
    "tags": []
   },
   "outputs": [
    {
     "data": {
      "text/plain": [
       "((10000, 28, 28), (10000,))"
      ]
     },
     "execution_count": 7,
     "metadata": {},
     "output_type": "execute_result"
    }
   ],
   "source": [
    "test_images.shape, test_labels.shape"
   ]
  },
  {
   "cell_type": "code",
   "execution_count": 8,
   "id": "innovative-organic",
   "metadata": {
    "execution": {
     "iopub.execute_input": "2021-06-30T00:20:28.365253Z",
     "iopub.status.busy": "2021-06-30T00:20:28.364741Z",
     "iopub.status.idle": "2021-06-30T00:20:28.483019Z",
     "shell.execute_reply": "2021-06-30T00:20:28.482514Z"
    },
    "papermill": {
     "duration": 0.153465,
     "end_time": "2021-06-30T00:20:28.483157",
     "exception": false,
     "start_time": "2021-06-30T00:20:28.329692",
     "status": "completed"
    },
    "tags": []
   },
   "outputs": [
    {
     "name": "stdout",
     "output_type": "stream",
     "text": [
      "2\n"
     ]
    },
    {
     "data": {
      "text/plain": [
       "<matplotlib.image.AxesImage at 0x7f0debd8b828>"
      ]
     },
     "execution_count": 8,
     "metadata": {},
     "output_type": "execute_result"
    },
    {
     "data": {
      "image/png": "[encoded data removed]",
      "text/plain": [
       "<Figure size 432x288 with 1 Axes>"
      ]
     },
     "metadata": {
      "needs_background": "light"
     },
     "output_type": "display_data"
    }
   ],
   "source": [
    "image_index = 7776 # You may select anything up to 60,000\n",
    "print(train_labels[image_index]) \n",
    "plt.imshow(train_images[image_index], cmap='Greys')"
   ]
  },
  {
   "cell_type": "markdown",
   "id": "facial-modem",
   "metadata": {
    "papermill": {
     "duration": 0.028045,
     "end_time": "2021-06-30T00:20:28.540244",
     "exception": false,
     "start_time": "2021-06-30T00:20:28.512199",
     "status": "completed"
    },
    "tags": []
   },
   "source": [
    "## Filter data to get 3 and 8 out"
   ]
  },
  {
   "cell_type": "code",
   "execution_count": 9,
   "id": "thousand-acquisition",
   "metadata": {
    "execution": {
     "iopub.execute_input": "2021-06-30T00:20:28.600927Z",
     "iopub.status.busy": "2021-06-30T00:20:28.600421Z",
     "iopub.status.idle": "2021-06-30T00:20:28.617062Z",
     "shell.execute_reply": "2021-06-30T00:20:28.616622Z"
    },
    "papermill": {
     "duration": 0.048771,
     "end_time": "2021-06-30T00:20:28.617177",
     "exception": false,
     "start_time": "2021-06-30T00:20:28.568406",
     "status": "completed"
    },
    "tags": []
   },
   "outputs": [],
   "source": [
    "train_filter = np.where((train_labels == 3 ) | (train_labels == 8))\n",
    "test_filter = np.where((test_labels == 3) | (test_labels == 8))\n",
    "X_train, y_train = train_images[train_filter], train_labels[train_filter]\n",
    "X_test, y_test = test_images[test_filter], test_labels[test_filter]"
   ]
  },
  {
   "cell_type": "markdown",
   "id": "ruled-access",
   "metadata": {
    "papermill": {
     "duration": 0.028182,
     "end_time": "2021-06-30T00:20:28.673819",
     "exception": false,
     "start_time": "2021-06-30T00:20:28.645637",
     "status": "completed"
    },
    "tags": []
   },
   "source": [
    "We normalize the pixel values in the 0 to 1 range"
   ]
  },
  {
   "cell_type": "code",
   "execution_count": 10,
   "id": "isolated-denver",
   "metadata": {
    "execution": {
     "iopub.execute_input": "2021-06-30T00:20:28.733829Z",
     "iopub.status.busy": "2021-06-30T00:20:28.733315Z",
     "iopub.status.idle": "2021-06-30T00:20:28.778362Z",
     "shell.execute_reply": "2021-06-30T00:20:28.777855Z"
    },
    "papermill": {
     "duration": 0.076432,
     "end_time": "2021-06-30T00:20:28.778484",
     "exception": false,
     "start_time": "2021-06-30T00:20:28.702052",
     "status": "completed"
    },
    "tags": []
   },
   "outputs": [],
   "source": [
    "X_train = X_train/255.\n",
    "X_test = X_test/255."
   ]
  },
  {
   "cell_type": "markdown",
   "id": "perfect-summary",
   "metadata": {
    "papermill": {
     "duration": 0.029713,
     "end_time": "2021-06-30T00:20:28.836670",
     "exception": false,
     "start_time": "2021-06-30T00:20:28.806957",
     "status": "completed"
    },
    "tags": []
   },
   "source": [
    "Setup the labels as 1 (when the digit is 3) and 0 (when the digit is 8)"
   ]
  },
  {
   "cell_type": "code",
   "execution_count": 11,
   "id": "personalized-growing",
   "metadata": {
    "execution": {
     "iopub.execute_input": "2021-06-30T00:20:28.901388Z",
     "iopub.status.busy": "2021-06-30T00:20:28.899383Z",
     "iopub.status.idle": "2021-06-30T00:20:28.908849Z",
     "shell.execute_reply": "2021-06-30T00:20:28.909234Z"
    },
    "papermill": {
     "duration": 0.043798,
     "end_time": "2021-06-30T00:20:28.909375",
     "exception": false,
     "start_time": "2021-06-30T00:20:28.865577",
     "status": "completed"
    },
    "tags": []
   },
   "outputs": [],
   "source": [
    "y_train = 1*(y_train==3)\n",
    "y_test = 1*(y_test==3)"
   ]
  },
  {
   "cell_type": "code",
   "execution_count": 12,
   "id": "considered-virgin",
   "metadata": {
    "execution": {
     "iopub.execute_input": "2021-06-30T00:20:28.971272Z",
     "iopub.status.busy": "2021-06-30T00:20:28.970764Z",
     "iopub.status.idle": "2021-06-30T00:20:28.982486Z",
     "shell.execute_reply": "2021-06-30T00:20:28.982871Z"
    },
    "papermill": {
     "duration": 0.045189,
     "end_time": "2021-06-30T00:20:28.983010",
     "exception": false,
     "start_time": "2021-06-30T00:20:28.937821",
     "status": "completed"
    },
    "tags": []
   },
   "outputs": [
    {
     "data": {
      "text/plain": [
       "((11982, 28, 28), (1984, 28, 28))"
      ]
     },
     "execution_count": 12,
     "metadata": {},
     "output_type": "execute_result"
    }
   ],
   "source": [
    "X_train.shape, X_test.shape"
   ]
  },
  {
   "cell_type": "markdown",
   "id": "civilian-mobile",
   "metadata": {
    "papermill": {
     "duration": 0.028454,
     "end_time": "2021-06-30T00:20:29.040023",
     "exception": false,
     "start_time": "2021-06-30T00:20:29.011569",
     "status": "completed"
    },
    "tags": []
   },
   "source": [
    "### Reshape the input data to create a linear array"
   ]
  },
  {
   "cell_type": "code",
   "execution_count": 13,
   "id": "colonial-adams",
   "metadata": {
    "execution": {
     "iopub.execute_input": "2021-06-30T00:20:29.101477Z",
     "iopub.status.busy": "2021-06-30T00:20:29.100963Z",
     "iopub.status.idle": "2021-06-30T00:20:29.114423Z",
     "shell.execute_reply": "2021-06-30T00:20:29.113984Z"
    },
    "papermill": {
     "duration": 0.045845,
     "end_time": "2021-06-30T00:20:29.114540",
     "exception": false,
     "start_time": "2021-06-30T00:20:29.068695",
     "status": "completed"
    },
    "tags": []
   },
   "outputs": [
    {
     "data": {
      "text/plain": [
       "((11982, 784), (1984, 784))"
      ]
     },
     "execution_count": 13,
     "metadata": {},
     "output_type": "execute_result"
    }
   ],
   "source": [
    "X_train = X_train.reshape(X_train.shape[0], -1)\n",
    "X_test = X_test.reshape(X_test.shape[0], -1)\n",
    "X_train.shape, X_test.shape"
   ]
  },
  {
   "cell_type": "markdown",
   "id": "smart-details",
   "metadata": {
    "papermill": {
     "duration": 0.028808,
     "end_time": "2021-06-30T00:20:29.172016",
     "exception": false,
     "start_time": "2021-06-30T00:20:29.143208",
     "status": "completed"
    },
    "tags": []
   },
   "source": [
    "### Importing appropriate functions from 'Kudzu'"
   ]
  },
  {
   "cell_type": "code",
   "execution_count": 14,
   "id": "celtic-trial",
   "metadata": {
    "execution": {
     "iopub.execute_input": "2021-06-30T00:20:29.236839Z",
     "iopub.status.busy": "2021-06-30T00:20:29.236314Z",
     "iopub.status.idle": "2021-06-30T00:20:29.253808Z",
     "shell.execute_reply": "2021-06-30T00:20:29.253389Z"
    },
    "papermill": {
     "duration": 0.052765,
     "end_time": "2021-06-30T00:20:29.253923",
     "exception": false,
     "start_time": "2021-06-30T00:20:29.201158",
     "status": "completed"
    },
    "tags": []
   },
   "outputs": [],
   "source": [
    "from kudzu.layer import Sigmoid\n",
    "from kudzu.layer import Relu\n",
    "from kudzu.layer import Affine, Sigmoid\n",
    "\n",
    "from kudzu.model import Model\n",
    "from kudzu.train import Learner\n",
    "from kudzu.optim import GD\n",
    "from kudzu.data import Data, Dataloader, Sampler\n",
    "\n",
    "from kudzu.callbacks import AccCallback\n",
    "from kudzu.callbacks import ClfCallback\n",
    "\n",
    "from kudzu.loss import MSE"
   ]
  },
  {
   "cell_type": "markdown",
   "id": "coupled-customer",
   "metadata": {
    "papermill": {
     "duration": 0.028828,
     "end_time": "2021-06-30T00:20:29.311798",
     "exception": false,
     "start_time": "2021-06-30T00:20:29.282970",
     "status": "completed"
    },
    "tags": []
   },
   "source": [
    "### Let us create a `Config` class, to store important parameters. \n",
    "This class essentially plays the role of a dictionary."
   ]
  },
  {
   "cell_type": "code",
   "execution_count": 15,
   "id": "young-ceiling",
   "metadata": {
    "execution": {
     "iopub.execute_input": "2021-06-30T00:20:29.376408Z",
     "iopub.status.busy": "2021-06-30T00:20:29.375887Z",
     "iopub.status.idle": "2021-06-30T00:20:29.388168Z",
     "shell.execute_reply": "2021-06-30T00:20:29.387736Z"
    },
    "papermill": {
     "duration": 0.047264,
     "end_time": "2021-06-30T00:20:29.388285",
     "exception": false,
     "start_time": "2021-06-30T00:20:29.341021",
     "status": "completed"
    },
    "tags": []
   },
   "outputs": [],
   "source": [
    "class Config:\n",
    "    pass\n",
    "config = Config()\n",
    "config.lr = 0.001\n",
    "config.num_epochs = 251\n",
    "config.bs = 50"
   ]
  },
  {
   "cell_type": "markdown",
   "id": "according-mandate",
   "metadata": {
    "papermill": {
     "duration": 0.029792,
     "end_time": "2021-06-30T00:20:29.446943",
     "exception": false,
     "start_time": "2021-06-30T00:20:29.417151",
     "status": "completed"
    },
    "tags": []
   },
   "source": [
    "### Initializing data to the variables"
   ]
  },
  {
   "cell_type": "code",
   "execution_count": 16,
   "id": "academic-disposition",
   "metadata": {
    "execution": {
     "iopub.execute_input": "2021-06-30T00:20:29.508873Z",
     "iopub.status.busy": "2021-06-30T00:20:29.508367Z",
     "iopub.status.idle": "2021-06-30T00:20:29.519537Z",
     "shell.execute_reply": "2021-06-30T00:20:29.519922Z"
    },
    "papermill": {
     "duration": 0.044041,
     "end_time": "2021-06-30T00:20:29.520059",
     "exception": false,
     "start_time": "2021-06-30T00:20:29.476018",
     "status": "completed"
    },
    "tags": []
   },
   "outputs": [],
   "source": [
    "data = Data(X_train, y_train.reshape(-1,1))\n",
    "sampler = Sampler(data, config.bs, shuffle=True)\n",
    "\n",
    "dl = Dataloader(data, sampler)\n",
    "\n",
    "opt = GD(config.lr)\n",
    "loss = MSE()"
   ]
  },
  {
   "cell_type": "code",
   "execution_count": 17,
   "id": "featured-commission",
   "metadata": {
    "execution": {
     "iopub.execute_input": "2021-06-30T00:20:29.582315Z",
     "iopub.status.busy": "2021-06-30T00:20:29.581762Z",
     "iopub.status.idle": "2021-06-30T00:20:29.593179Z",
     "shell.execute_reply": "2021-06-30T00:20:29.592742Z"
    },
    "papermill": {
     "duration": 0.044379,
     "end_time": "2021-06-30T00:20:29.593303",
     "exception": false,
     "start_time": "2021-06-30T00:20:29.548924",
     "status": "completed"
    },
    "tags": []
   },
   "outputs": [],
   "source": [
    "training_xdata = X_train\n",
    "testing_xdata = X_test\n",
    "training_ydata = y_train.reshape(-1,1)\n",
    "testing_ydata = y_test.reshape(-1,1)"
   ]
  },
  {
   "cell_type": "markdown",
   "id": "played-safety",
   "metadata": {
    "papermill": {
     "duration": 0.028791,
     "end_time": "2021-06-30T00:20:29.651225",
     "exception": false,
     "start_time": "2021-06-30T00:20:29.622434",
     "status": "completed"
    },
    "tags": []
   },
   "source": [
    "### Running Models with the Training data\n",
    "Details about the network layers:\n",
    "- A first affine layer has 784 inputs and does 100 affine transforms. These are followed by a Relu\n",
    "- A second affine layer has 100 inputs from the 100 activations of the past layer, and does 100 affine transforms. These are followed by a Relu\n",
    "- A third affine layer has 100 activations and does 2 affine transformations to create an embedding for visualization. There is no non-linearity here.\n",
    "- A final \"logistic regression\" which has an affine transform from 2 inputs to 1 output, which is squeezed through a sigmoid.\n",
    "\n",
    "Help taken from Anshuman's Notebook."
   ]
  },
  {
   "cell_type": "code",
   "execution_count": 18,
   "id": "asian-bankruptcy",
   "metadata": {
    "execution": {
     "iopub.execute_input": "2021-06-30T00:20:29.729189Z",
     "iopub.status.busy": "2021-06-30T00:20:29.722392Z",
     "iopub.status.idle": "2021-06-30T00:20:29.731503Z",
     "shell.execute_reply": "2021-06-30T00:20:29.731093Z"
    },
    "papermill": {
     "duration": 0.051743,
     "end_time": "2021-06-30T00:20:29.731620",
     "exception": false,
     "start_time": "2021-06-30T00:20:29.679877",
     "status": "completed"
    },
    "tags": []
   },
   "outputs": [],
   "source": [
    "# layers for the Neural Network\n",
    "layers = [Affine(\"first\", 784, 100), Relu(\"first\"), Affine(\"second\", 100, 100), Relu(\"second\"), Affine(\"third\", 100, 2), Affine(\"final\", 2, 1), Sigmoid(\"final\")]\n",
    "model_nn = Model(layers)\n",
    "\n",
    "# layers for the Logistic Regression\n",
    "layers_lr = [Affine(\"logits\", 784, 1), Sigmoid(\"sigmoid\")]\n",
    "model_lr = Model(layers_lr)"
   ]
  },
  {
   "cell_type": "code",
   "execution_count": 19,
   "id": "removed-butler",
   "metadata": {
    "execution": {
     "iopub.execute_input": "2021-06-30T00:20:29.793520Z",
     "iopub.status.busy": "2021-06-30T00:20:29.793013Z",
     "iopub.status.idle": "2021-06-30T00:20:29.804841Z",
     "shell.execute_reply": "2021-06-30T00:20:29.804399Z"
    },
    "papermill": {
     "duration": 0.044465,
     "end_time": "2021-06-30T00:20:29.804956",
     "exception": false,
     "start_time": "2021-06-30T00:20:29.760491",
     "status": "completed"
    },
    "tags": []
   },
   "outputs": [],
   "source": [
    "# suffix _nn stands for Neural Network.\n",
    "learner_nn = Learner(loss, model_nn, opt, config.num_epochs)\n",
    "acc_nn = ClfCallback(learner_nn, config.bs, training_xdata , testing_xdata, training_ydata, testing_ydata)\n",
    "learner_nn.set_callbacks([acc_nn])"
   ]
  },
  {
   "cell_type": "code",
   "execution_count": 20,
   "id": "conceptual-throw",
   "metadata": {
    "execution": {
     "iopub.execute_input": "2021-06-30T00:20:29.866716Z",
     "iopub.status.busy": "2021-06-30T00:20:29.866107Z",
     "iopub.status.idle": "2021-06-30T00:21:46.605962Z",
     "shell.execute_reply": "2021-06-30T00:21:46.606631Z"
    },
    "papermill": {
     "duration": 76.772934,
     "end_time": "2021-06-30T00:21:46.606770",
     "exception": false,
     "start_time": "2021-06-30T00:20:29.833836",
     "status": "completed"
    },
    "tags": []
   },
   "outputs": [
    {
     "name": "stdout",
     "output_type": "stream",
     "text": [
      "====== Neural Network ======\n"
     ]
    },
    {
     "name": "stdout",
     "output_type": "stream",
     "text": [
      "Epoch 0, Loss 0.2508\n",
      "Training Accuracy: 0.6849, Testing Accuracy: 0.6910\n",
      "\n"
     ]
    },
    {
     "name": "stdout",
     "output_type": "stream",
     "text": [
      "Epoch 10, Loss 0.0677\n",
      "Training Accuracy: 0.9319, Testing Accuracy: 0.9476\n",
      "\n"
     ]
    },
    {
     "name": "stdout",
     "output_type": "stream",
     "text": [
      "Epoch 20, Loss 0.0464\n",
      "Training Accuracy: 0.9503, Testing Accuracy: 0.9617\n",
      "\n"
     ]
    },
    {
     "name": "stdout",
     "output_type": "stream",
     "text": [
      "Epoch 30, Loss 0.0386\n",
      "Training Accuracy: 0.9569, Testing Accuracy: 0.9642\n",
      "\n"
     ]
    },
    {
     "name": "stdout",
     "output_type": "stream",
     "text": [
      "Epoch 40, Loss 0.0343\n",
      "Training Accuracy: 0.9606, Testing Accuracy: 0.9672\n",
      "\n"
     ]
    },
    {
     "name": "stdout",
     "output_type": "stream",
     "text": [
      "Epoch 50, Loss 0.0315\n",
      "Training Accuracy: 0.9631, Testing Accuracy: 0.9713\n",
      "\n"
     ]
    },
    {
     "name": "stdout",
     "output_type": "stream",
     "text": [
      "Epoch 60, Loss 0.0294\n",
      "Training Accuracy: 0.9660, Testing Accuracy: 0.9723\n",
      "\n"
     ]
    },
    {
     "name": "stdout",
     "output_type": "stream",
     "text": [
      "Epoch 70, Loss 0.0278\n",
      "Training Accuracy: 0.9678, Testing Accuracy: 0.9728\n",
      "\n"
     ]
    },
    {
     "name": "stdout",
     "output_type": "stream",
     "text": [
      "Epoch 80, Loss 0.0265\n",
      "Training Accuracy: 0.9694, Testing Accuracy: 0.9738\n",
      "\n"
     ]
    },
    {
     "name": "stdout",
     "output_type": "stream",
     "text": [
      "Epoch 90, Loss 0.0253\n",
      "Training Accuracy: 0.9710, Testing Accuracy: 0.9738\n",
      "\n"
     ]
    },
    {
     "name": "stdout",
     "output_type": "stream",
     "text": [
      "Epoch 100, Loss 0.0244\n",
      "Training Accuracy: 0.9725, Testing Accuracy: 0.9738\n",
      "\n"
     ]
    },
    {
     "name": "stdout",
     "output_type": "stream",
     "text": [
      "Epoch 110, Loss 0.0235\n",
      "Training Accuracy: 0.9736, Testing Accuracy: 0.9733\n",
      "\n"
     ]
    },
    {
     "name": "stdout",
     "output_type": "stream",
     "text": [
      "Epoch 120, Loss 0.0228\n",
      "Training Accuracy: 0.9745, Testing Accuracy: 0.9738\n",
      "\n"
     ]
    },
    {
     "name": "stdout",
     "output_type": "stream",
     "text": [
      "Epoch 130, Loss 0.0221\n",
      "Training Accuracy: 0.9755, Testing Accuracy: 0.9748\n",
      "\n"
     ]
    },
    {
     "name": "stdout",
     "output_type": "stream",
     "text": [
      "Epoch 140, Loss 0.0214\n",
      "Training Accuracy: 0.9762, Testing Accuracy: 0.9748\n",
      "\n"
     ]
    },
    {
     "name": "stdout",
     "output_type": "stream",
     "text": [
      "Epoch 150, Loss 0.0208\n",
      "Training Accuracy: 0.9770, Testing Accuracy: 0.9748\n",
      "\n"
     ]
    },
    {
     "name": "stdout",
     "output_type": "stream",
     "text": [
      "Epoch 160, Loss 0.0202\n",
      "Training Accuracy: 0.9773, Testing Accuracy: 0.9748\n",
      "\n"
     ]
    },
    {
     "name": "stdout",
     "output_type": "stream",
     "text": [
      "Epoch 170, Loss 0.0196\n",
      "Training Accuracy: 0.9781, Testing Accuracy: 0.9738\n",
      "\n"
     ]
    },
    {
     "name": "stdout",
     "output_type": "stream",
     "text": [
      "Epoch 180, Loss 0.0191\n",
      "Training Accuracy: 0.9786, Testing Accuracy: 0.9748\n",
      "\n"
     ]
    },
    {
     "name": "stdout",
     "output_type": "stream",
     "text": [
      "Epoch 190, Loss 0.0186\n",
      "Training Accuracy: 0.9790, Testing Accuracy: 0.9753\n",
      "\n"
     ]
    },
    {
     "name": "stdout",
     "output_type": "stream",
     "text": [
      "Epoch 200, Loss 0.0182\n",
      "Training Accuracy: 0.9793, Testing Accuracy: 0.9753\n",
      "\n"
     ]
    },
    {
     "name": "stdout",
     "output_type": "stream",
     "text": [
      "Epoch 210, Loss 0.0177\n",
      "Training Accuracy: 0.9802, Testing Accuracy: 0.9763\n",
      "\n"
     ]
    },
    {
     "name": "stdout",
     "output_type": "stream",
     "text": [
      "Epoch 220, Loss 0.0173\n",
      "Training Accuracy: 0.9803, Testing Accuracy: 0.9768\n",
      "\n"
     ]
    },
    {
     "name": "stdout",
     "output_type": "stream",
     "text": [
      "Epoch 230, Loss 0.0169\n",
      "Training Accuracy: 0.9811, Testing Accuracy: 0.9768\n",
      "\n"
     ]
    },
    {
     "name": "stdout",
     "output_type": "stream",
     "text": [
      "Epoch 240, Loss 0.0164\n",
      "Training Accuracy: 0.9813, Testing Accuracy: 0.9778\n",
      "\n"
     ]
    },
    {
     "name": "stdout",
     "output_type": "stream",
     "text": [
      "Epoch 250, Loss 0.016\n",
      "Training Accuracy: 0.9821, Testing Accuracy: 0.9778\n",
      "\n"
     ]
    },
    {
     "data": {
      "text/plain": [
       "0.014726045571909818"
      ]
     },
     "execution_count": 20,
     "metadata": {},
     "output_type": "execute_result"
    }
   ],
   "source": [
    "print(\"====== Neural Network ======\")\n",
    "learner_nn.train_loop(dl)"
   ]
  },
  {
   "cell_type": "markdown",
   "id": "competent-suffering",
   "metadata": {
    "papermill": {
     "duration": 0.036298,
     "end_time": "2021-06-30T00:21:46.679847",
     "exception": false,
     "start_time": "2021-06-30T00:21:46.643549",
     "status": "completed"
    },
    "tags": []
   },
   "source": [
    "### Logistic Regression based Implementation."
   ]
  },
  {
   "cell_type": "code",
   "execution_count": 21,
   "id": "qualified-psychiatry",
   "metadata": {
    "execution": {
     "iopub.execute_input": "2021-06-30T00:21:46.763332Z",
     "iopub.status.busy": "2021-06-30T00:21:46.762761Z",
     "iopub.status.idle": "2021-06-30T00:21:46.769010Z",
     "shell.execute_reply": "2021-06-30T00:21:46.768563Z"
    },
    "papermill": {
     "duration": 0.053197,
     "end_time": "2021-06-30T00:21:46.769128",
     "exception": false,
     "start_time": "2021-06-30T00:21:46.715931",
     "status": "completed"
    },
    "tags": []
   },
   "outputs": [],
   "source": [
    "learner_lr = Learner(loss, model_lr, opt, config.num_epochs)\n",
    "acc_lr = ClfCallback(learner_lr, config.bs, training_xdata , testing_xdata, training_ydata, testing_ydata)\n",
    "learner_lr.set_callbacks([acc_lr])"
   ]
  },
  {
   "cell_type": "code",
   "execution_count": 22,
   "id": "average-outside",
   "metadata": {
    "execution": {
     "iopub.execute_input": "2021-06-30T00:21:46.845999Z",
     "iopub.status.busy": "2021-06-30T00:21:46.845484Z",
     "iopub.status.idle": "2021-06-30T00:22:00.395808Z",
     "shell.execute_reply": "2021-06-30T00:22:00.396219Z"
    },
    "papermill": {
     "duration": 13.590604,
     "end_time": "2021-06-30T00:22:00.396355",
     "exception": false,
     "start_time": "2021-06-30T00:21:46.805751",
     "status": "completed"
    },
    "tags": []
   },
   "outputs": [
    {
     "name": "stdout",
     "output_type": "stream",
     "text": [
      "====== Logistic Regression ======\n",
      "Epoch 0, Loss 0.2625\n",
      "Training Accuracy: 0.5961, Testing Accuracy: 0.5796\n",
      "\n"
     ]
    },
    {
     "name": "stdout",
     "output_type": "stream",
     "text": [
      "Epoch 10, Loss 0.1089\n",
      "Training Accuracy: 0.8994, Testing Accuracy: 0.9073\n",
      "\n"
     ]
    },
    {
     "name": "stdout",
     "output_type": "stream",
     "text": [
      "Epoch 20, Loss 0.082\n",
      "Training Accuracy: 0.9245, Testing Accuracy: 0.9304\n",
      "\n"
     ]
    },
    {
     "name": "stdout",
     "output_type": "stream",
     "text": [
      "Epoch 30, Loss 0.0699\n",
      "Training Accuracy: 0.9341, Testing Accuracy: 0.9435\n",
      "\n"
     ]
    },
    {
     "name": "stdout",
     "output_type": "stream",
     "text": [
      "Epoch 40, Loss 0.0627\n",
      "Training Accuracy: 0.9405, Testing Accuracy: 0.9491\n",
      "\n"
     ]
    },
    {
     "name": "stdout",
     "output_type": "stream",
     "text": [
      "Epoch 50, Loss 0.0578\n",
      "Training Accuracy: 0.9453, Testing Accuracy: 0.9506\n",
      "\n"
     ]
    },
    {
     "name": "stdout",
     "output_type": "stream",
     "text": [
      "Epoch 60, Loss 0.0543\n",
      "Training Accuracy: 0.9478, Testing Accuracy: 0.9541\n",
      "\n"
     ]
    },
    {
     "name": "stdout",
     "output_type": "stream",
     "text": [
      "Epoch 70, Loss 0.0516\n",
      "Training Accuracy: 0.9501, Testing Accuracy: 0.9567\n",
      "\n"
     ]
    },
    {
     "name": "stdout",
     "output_type": "stream",
     "text": [
      "Epoch 80, Loss 0.0495\n",
      "Training Accuracy: 0.9514, Testing Accuracy: 0.9561\n",
      "\n"
     ]
    },
    {
     "name": "stdout",
     "output_type": "stream",
     "text": [
      "Epoch 90, Loss 0.0477\n",
      "Training Accuracy: 0.9524, Testing Accuracy: 0.9572\n",
      "\n"
     ]
    },
    {
     "name": "stdout",
     "output_type": "stream",
     "text": [
      "Epoch 100, Loss 0.0463\n",
      "Training Accuracy: 0.9537, Testing Accuracy: 0.9597\n",
      "\n"
     ]
    },
    {
     "name": "stdout",
     "output_type": "stream",
     "text": [
      "Epoch 110, Loss 0.045\n",
      "Training Accuracy: 0.9543, Testing Accuracy: 0.9617\n",
      "\n"
     ]
    },
    {
     "name": "stdout",
     "output_type": "stream",
     "text": [
      "Epoch 120, Loss 0.0439\n",
      "Training Accuracy: 0.9556, Testing Accuracy: 0.9617\n",
      "\n"
     ]
    },
    {
     "name": "stdout",
     "output_type": "stream",
     "text": [
      "Epoch 130, Loss 0.043\n",
      "Training Accuracy: 0.9565, Testing Accuracy: 0.9612\n",
      "\n"
     ]
    },
    {
     "name": "stdout",
     "output_type": "stream",
     "text": [
      "Epoch 140, Loss 0.0421\n",
      "Training Accuracy: 0.9569, Testing Accuracy: 0.9622\n",
      "\n"
     ]
    },
    {
     "name": "stdout",
     "output_type": "stream",
     "text": [
      "Epoch 150, Loss 0.0414\n",
      "Training Accuracy: 0.9573, Testing Accuracy: 0.9642\n",
      "\n"
     ]
    },
    {
     "name": "stdout",
     "output_type": "stream",
     "text": [
      "Epoch 160, Loss 0.0407\n",
      "Training Accuracy: 0.9582, Testing Accuracy: 0.9637\n",
      "\n"
     ]
    },
    {
     "name": "stdout",
     "output_type": "stream",
     "text": [
      "Epoch 170, Loss 0.0401\n",
      "Training Accuracy: 0.9587, Testing Accuracy: 0.9642\n",
      "\n"
     ]
    },
    {
     "name": "stdout",
     "output_type": "stream",
     "text": [
      "Epoch 180, Loss 0.0395\n",
      "Training Accuracy: 0.9589, Testing Accuracy: 0.9642\n",
      "\n"
     ]
    },
    {
     "name": "stdout",
     "output_type": "stream",
     "text": [
      "Epoch 190, Loss 0.039\n",
      "Training Accuracy: 0.9593, Testing Accuracy: 0.9642\n",
      "\n"
     ]
    },
    {
     "name": "stdout",
     "output_type": "stream",
     "text": [
      "Epoch 200, Loss 0.0385\n",
      "Training Accuracy: 0.9596, Testing Accuracy: 0.9647\n",
      "\n"
     ]
    },
    {
     "name": "stdout",
     "output_type": "stream",
     "text": [
      "Epoch 210, Loss 0.038\n",
      "Training Accuracy: 0.9598, Testing Accuracy: 0.9647\n",
      "\n"
     ]
    },
    {
     "name": "stdout",
     "output_type": "stream",
     "text": [
      "Epoch 220, Loss 0.0376\n",
      "Training Accuracy: 0.9600, Testing Accuracy: 0.9652\n",
      "\n"
     ]
    },
    {
     "name": "stdout",
     "output_type": "stream",
     "text": [
      "Epoch 230, Loss 0.0372\n",
      "Training Accuracy: 0.9607, Testing Accuracy: 0.9652\n",
      "\n"
     ]
    },
    {
     "name": "stdout",
     "output_type": "stream",
     "text": [
      "Epoch 240, Loss 0.0369\n",
      "Training Accuracy: 0.9613, Testing Accuracy: 0.9657\n",
      "\n"
     ]
    },
    {
     "name": "stdout",
     "output_type": "stream",
     "text": [
      "Epoch 250, Loss 0.0365\n",
      "Training Accuracy: 0.9614, Testing Accuracy: 0.9657\n",
      "\n"
     ]
    },
    {
     "data": {
      "text/plain": [
       "0.05836947820390539"
      ]
     },
     "execution_count": 22,
     "metadata": {},
     "output_type": "execute_result"
    }
   ],
   "source": [
    "print(\"====== Logistic Regression ======\")\n",
    "learner_lr.train_loop(dl)"
   ]
  },
  {
   "cell_type": "markdown",
   "id": "adjusted-possible",
   "metadata": {
    "papermill": {
     "duration": 0.038596,
     "end_time": "2021-06-30T00:22:00.478963",
     "exception": false,
     "start_time": "2021-06-30T00:22:00.440367",
     "status": "completed"
    },
    "tags": []
   },
   "source": [
    "### Comparing results of NN and LR"
   ]
  },
  {
   "cell_type": "code",
   "execution_count": 23,
   "id": "mental-multimedia",
   "metadata": {
    "execution": {
     "iopub.execute_input": "2021-06-30T00:22:00.567145Z",
     "iopub.status.busy": "2021-06-30T00:22:00.566615Z",
     "iopub.status.idle": "2021-06-30T00:22:00.757837Z",
     "shell.execute_reply": "2021-06-30T00:22:00.758422Z"
    },
    "papermill": {
     "duration": 0.241431,
     "end_time": "2021-06-30T00:22:00.758558",
     "exception": false,
     "start_time": "2021-06-30T00:22:00.517127",
     "status": "completed"
    },
    "tags": []
   },
   "outputs": [
    {
     "data": {
      "text/plain": [
       "<matplotlib.legend.Legend at 0x7f0de38ee2b0>"
      ]
     },
     "execution_count": 23,
     "metadata": {},
     "output_type": "execute_result"
    },
    {
     "data": {
      "image/png": "[encoded data removed]",
      "text/plain": [
       "<Figure size 1080x720 with 1 Axes>"
      ]
     },
     "metadata": {
      "needs_background": "light"
     },
     "output_type": "display_data"
    }
   ],
   "source": [
    "plt.figure(figsize=(15,10))\n",
    "\n",
    "# Neural Network plots\n",
    "plt.plot(acc_nn.accuracies, 'r-', label = \"Training Accuracies - NN\")\n",
    "plt.plot(acc_nn.test_accuracies, 'g-', label = \"Testing Accuracies - NN\")\n",
    "\n",
    "# Logistic Regression plots\n",
    "plt.plot(acc_lr.accuracies, 'k-', label = \"Training Accuracies - LR\")\n",
    "plt.plot(acc_lr.test_accuracies, 'b-', label = \"Testing Accuracies - LR\")\n",
    "\n",
    "plt.ylim(0.8, 1)\n",
    "\n",
    "plt.legend()\n",
    "\n"
   ]
  },
  {
   "cell_type": "markdown",
   "id": "sexual-flesh",
   "metadata": {
    "papermill": {
     "duration": 0.039765,
     "end_time": "2021-06-30T00:22:00.838475",
     "exception": false,
     "start_time": "2021-06-30T00:22:00.798710",
     "status": "completed"
    },
    "tags": []
   },
   "source": [
    "### From the plot, we can observe the following:\n",
    "- Neural Network achieves higher accuracy than the Logistic Regression model.\n",
    "- This apparently, is because of overfitting, i.e. NN captures more noise than data.\n",
    "- Testing accuracy of NN drops below the Training accuracy at higher epochs. This explains the over-fitting on training data.\n",
    "- Logistic Regression gives a reliable accuracy, without the above mentioned problem.\n"
   ]
  },
  {
   "cell_type": "markdown",
   "id": "institutional-pacific",
   "metadata": {
    "papermill": {
     "duration": 0.039682,
     "end_time": "2021-06-30T00:22:00.917758",
     "exception": false,
     "start_time": "2021-06-30T00:22:00.878076",
     "status": "completed"
    },
    "tags": []
   },
   "source": [
    "### Moving till the last but one layer (excluding it).\n",
    "#### Plotting the outputs of this layer of the NN."
   ]
  },
  {
   "cell_type": "code",
   "execution_count": 24,
   "id": "economic-server",
   "metadata": {
    "execution": {
     "iopub.execute_input": "2021-06-30T00:22:01.010539Z",
     "iopub.status.busy": "2021-06-30T00:22:01.002248Z",
     "iopub.status.idle": "2021-06-30T00:22:01.014213Z",
     "shell.execute_reply": "2021-06-30T00:22:01.013772Z"
    },
    "papermill": {
     "duration": 0.056828,
     "end_time": "2021-06-30T00:22:01.014327",
     "exception": false,
     "start_time": "2021-06-30T00:22:00.957499",
     "status": "completed"
    },
    "tags": []
   },
   "outputs": [],
   "source": [
    "model_new = Model(layers[:-2])"
   ]
  },
  {
   "cell_type": "code",
   "execution_count": 25,
   "id": "varied-upgrade",
   "metadata": {
    "execution": {
     "iopub.execute_input": "2021-06-30T00:22:01.131555Z",
     "iopub.status.busy": "2021-06-30T00:22:01.130870Z",
     "iopub.status.idle": "2021-06-30T00:22:01.148740Z",
     "shell.execute_reply": "2021-06-30T00:22:01.149338Z"
    },
    "papermill": {
     "duration": 0.095127,
     "end_time": "2021-06-30T00:22:01.149469",
     "exception": false,
     "start_time": "2021-06-30T00:22:01.054342",
     "status": "completed"
    },
    "tags": []
   },
   "outputs": [],
   "source": [
    "plot_testing = model_new(testing_xdata)"
   ]
  },
  {
   "cell_type": "code",
   "execution_count": 26,
   "id": "specific-handling",
   "metadata": {
    "execution": {
     "iopub.execute_input": "2021-06-30T00:22:01.236093Z",
     "iopub.status.busy": "2021-06-30T00:22:01.235625Z",
     "iopub.status.idle": "2021-06-30T00:22:01.409311Z",
     "shell.execute_reply": "2021-06-30T00:22:01.408920Z"
    },
    "papermill": {
     "duration": 0.219006,
     "end_time": "2021-06-30T00:22:01.409424",
     "exception": false,
     "start_time": "2021-06-30T00:22:01.190418",
     "status": "completed"
    },
    "tags": []
   },
   "outputs": [
    {
     "data": {
      "text/plain": [
       "Text(0.5, 1.0, 'Outputs')"
      ]
     },
     "execution_count": 26,
     "metadata": {},
     "output_type": "execute_result"
    },
    {
     "data": {
      "image/png": "[encoded data removed]",
      "text/plain": [
       "<Figure size 576x504 with 1 Axes>"
      ]
     },
     "metadata": {
      "needs_background": "light"
     },
     "output_type": "display_data"
    }
   ],
   "source": [
    "plt.figure(figsize=(8,7))\n",
    "plt.scatter(plot_testing[:,0], plot_testing[:,1], alpha = 0.1, c = y_test.ravel());\n",
    "plt.title('Outputs')"
   ]
  },
  {
   "cell_type": "markdown",
   "id": "described-knowing",
   "metadata": {
    "papermill": {
     "duration": 0.042835,
     "end_time": "2021-06-30T00:22:01.494945",
     "exception": false,
     "start_time": "2021-06-30T00:22:01.452110",
     "status": "completed"
    },
    "tags": []
   },
   "source": [
    "### Plotting probability contours"
   ]
  },
  {
   "cell_type": "code",
   "execution_count": 27,
   "id": "needed-growing",
   "metadata": {
    "execution": {
     "iopub.execute_input": "2021-06-30T00:22:01.587416Z",
     "iopub.status.busy": "2021-06-30T00:22:01.586895Z",
     "iopub.status.idle": "2021-06-30T00:22:01.593531Z",
     "shell.execute_reply": "2021-06-30T00:22:01.593136Z"
    },
    "papermill": {
     "duration": 0.056119,
     "end_time": "2021-06-30T00:22:01.593634",
     "exception": false,
     "start_time": "2021-06-30T00:22:01.537515",
     "status": "completed"
    },
    "tags": []
   },
   "outputs": [],
   "source": [
    "model_prob = Model(layers[-2:]) "
   ]
  },
  {
   "cell_type": "code",
   "execution_count": 28,
   "id": "introductory-enforcement",
   "metadata": {
    "execution": {
     "iopub.execute_input": "2021-06-30T00:22:01.682909Z",
     "iopub.status.busy": "2021-06-30T00:22:01.682437Z",
     "iopub.status.idle": "2021-06-30T00:22:01.696812Z",
     "shell.execute_reply": "2021-06-30T00:22:01.697154Z"
    },
    "papermill": {
     "duration": 0.061311,
     "end_time": "2021-06-30T00:22:01.697276",
     "exception": false,
     "start_time": "2021-06-30T00:22:01.635965",
     "status": "completed"
    },
    "tags": []
   },
   "outputs": [],
   "source": [
    "# Adjust the x and y ranges according to the above generated plot.\n",
    "x_range = np.linspace(-4, 1, 100) \n",
    "y_range = np.linspace(-6, 6, 100) \n",
    "x_grid, y_grid = np.meshgrid(x_range, y_range) # x_grid and y_grig are of size 100 X 100\n",
    "\n",
    "# converting x_grid and y_grid to continuous arrays\n",
    "x_grid_flat = np.ravel(x_grid)\n",
    "y_grid_flat = np.ravel(y_grid)\n",
    "\n",
    "# The last layer of the current model takes two columns as input. Hence transpose of np.vstack() is required.\n",
    "X = np.vstack((x_grid_flat, y_grid_flat)).T\n",
    "\n",
    "# x_grid and y_grid are of size 100 x 100\n",
    "probability_contour = model_prob(X).reshape(100,100) "
   ]
  },
  {
   "cell_type": "code",
   "execution_count": 29,
   "id": "understood-landing",
   "metadata": {
    "execution": {
     "iopub.execute_input": "2021-06-30T00:22:01.817493Z",
     "iopub.status.busy": "2021-06-30T00:22:01.804174Z",
     "iopub.status.idle": "2021-06-30T00:22:02.020102Z",
     "shell.execute_reply": "2021-06-30T00:22:02.019651Z"
    },
    "papermill": {
     "duration": 0.2743,
     "end_time": "2021-06-30T00:22:02.020218",
     "exception": false,
     "start_time": "2021-06-30T00:22:01.745918",
     "status": "completed"
    },
    "tags": []
   },
   "outputs": [
    {
     "data": {
      "image/png": "[encoded data removed]",
      "text/plain": [
       "<Figure size 720x648 with 1 Axes>"
      ]
     },
     "metadata": {
      "needs_background": "light"
     },
     "output_type": "display_data"
    }
   ],
   "source": [
    "plt.figure(figsize=(10,9))\n",
    "plt.scatter(plot_testing[:,0], plot_testing[:,1], alpha = 0.1, c = y_test.ravel())\n",
    "contours = plt.contour(x_grid,y_grid,probability_contour)\n",
    "plt.title('Probability Contours')\n",
    "plt.clabel(contours, inline = True );"
   ]
  }
 ],
 "metadata": {
  "kernelspec": {
   "display_name": "Python 3",
   "language": "python",
   "name": "python3"
  },
  "language_info": {
   "codemirror_mode": {
    "name": "ipython",
    "version": 3
   },
   "file_extension": ".py",
   "mimetype": "text/x-python",
   "name": "python",
   "nbconvert_exporter": "python",
   "pygments_lexer": "ipython3",
   "version": "3.6.13"
  },
  "papermill": {
   "duration": 437.416414,
   "end_time": "2021-06-30T00:22:03.471001",
   "environment_variables": {},
   "exception": null,
   "input_path": "2020-08-11-NeuralNetwork.ipynb",
   "output_path": "2020-08-11-NeuralNetwork.ipynb",
   "parameters": {},
   "start_time": "2021-06-30T00:14:46.054587",
   "version": "2.1.2"
  }
 },
 "nbformat": 4,
 "nbformat_minor": 5
}