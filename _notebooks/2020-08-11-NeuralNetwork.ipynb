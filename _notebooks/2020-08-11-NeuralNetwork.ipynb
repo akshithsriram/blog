{
 "cells": [
  {
   "cell_type": "markdown",
   "metadata": {
    "papermill": {
     "duration": 0.029253,
     "end_time": "2020-11-02T00:05:10.562113",
     "exception": false,
     "start_time": "2020-11-02T00:05:10.532860",
     "status": "completed"
    },
    "tags": []
   },
   "source": [
    "# \"A Basic Neural Network: Differentiate Hand-Written Digits\"\n",
    "\n",
    "- badges: true\n",
    "- author: Akshith Sriram"
   ]
  },
  {
   "cell_type": "markdown",
   "metadata": {
    "papermill": {
     "duration": 0.024535,
     "end_time": "2020-11-02T00:05:10.611997",
     "exception": false,
     "start_time": "2020-11-02T00:05:10.587462",
     "status": "completed"
    },
    "tags": []
   },
   "source": [
    "### Key Objectives:\n",
    "- Building a neural network that differentiates two hand-written digits 3 and 8.\n",
    "- Comparing the results of this Neural Network (NN) to that of a Logistic Regression (LR) model.\n",
    "\n",
    "### Requirements:\n",
    "- 'Kudzu' : A neural network library that was designed during our course by [Univ.AI](www.univ.ai). \n",
    "- MNIST Database\n",
    "\n",
    "If MNIST is not installed, use the command `!pip install mnist` given below.\n",
    "It can be run both from the command line and Jupyter Notebook."
   ]
  },
  {
   "cell_type": "code",
   "execution_count": 1,
   "metadata": {
    "execution": {
     "iopub.execute_input": "2020-11-02T00:05:10.666536Z",
     "iopub.status.busy": "2020-11-02T00:05:10.665913Z",
     "iopub.status.idle": "2020-11-02T00:05:12.092678Z",
     "shell.execute_reply": "2020-11-02T00:05:12.093195Z"
    },
    "papermill": {
     "duration": 1.456805,
     "end_time": "2020-11-02T00:05:12.093458",
     "exception": false,
     "start_time": "2020-11-02T00:05:10.636653",
     "status": "completed"
    },
    "tags": []
   },
   "outputs": [
    {
     "name": "stdout",
     "output_type": "stream",
     "text": [
      "Collecting mnist\r\n"
     ]
    },
    {
     "name": "stdout",
     "output_type": "stream",
     "text": [
      "  Downloading mnist-0.2.2-py2.py3-none-any.whl (3.5 kB)\r\n",
      "Requirement already satisfied: numpy in /opt/hostedtoolcache/Python/3.6.12/x64/lib/python3.6/site-packages (from mnist) (1.19.3)\r\n"
     ]
    },
    {
     "name": "stdout",
     "output_type": "stream",
     "text": [
      "Installing collected packages: mnist\r\n"
     ]
    },
    {
     "name": "stdout",
     "output_type": "stream",
     "text": [
      "Successfully installed mnist-0.2.2\r\n"
     ]
    }
   ],
   "source": [
    "!pip install mnist "
   ]
  },
  {
   "cell_type": "markdown",
   "metadata": {
    "papermill": {
     "duration": 0.029204,
     "end_time": "2020-11-02T00:05:12.156474",
     "exception": false,
     "start_time": "2020-11-02T00:05:12.127270",
     "status": "completed"
    },
    "tags": []
   },
   "source": [
    "#### Importing necessary libraries"
   ]
  },
  {
   "cell_type": "code",
   "execution_count": 2,
   "metadata": {
    "execution": {
     "iopub.execute_input": "2020-11-02T00:05:12.227830Z",
     "iopub.status.busy": "2020-11-02T00:05:12.225188Z",
     "iopub.status.idle": "2020-11-02T00:05:12.803168Z",
     "shell.execute_reply": "2020-11-02T00:05:12.802353Z"
    },
    "papermill": {
     "duration": 0.616257,
     "end_time": "2020-11-02T00:05:12.803365",
     "exception": false,
     "start_time": "2020-11-02T00:05:12.187108",
     "status": "completed"
    },
    "tags": []
   },
   "outputs": [],
   "source": [
    "%load_ext autoreload\n",
    "%autoreload 2\n",
    "\n",
    "%matplotlib inline\n",
    "import matplotlib.pyplot as plt\n",
    "\n",
    "import numpy as np\n",
    "import pandas as pd"
   ]
  },
  {
   "cell_type": "markdown",
   "metadata": {
    "papermill": {
     "duration": 0.030633,
     "end_time": "2020-11-02T00:05:12.865353",
     "exception": false,
     "start_time": "2020-11-02T00:05:12.834720",
     "status": "completed"
    },
    "tags": []
   },
   "source": [
    "### Preparing the Data"
   ]
  },
  {
   "cell_type": "code",
   "execution_count": 3,
   "metadata": {
    "execution": {
     "iopub.execute_input": "2020-11-02T00:05:12.930457Z",
     "iopub.status.busy": "2020-11-02T00:05:12.929720Z",
     "iopub.status.idle": "2020-11-02T00:05:12.943767Z",
     "shell.execute_reply": "2020-11-02T00:05:12.943210Z"
    },
    "papermill": {
     "duration": 0.0489,
     "end_time": "2020-11-02T00:05:12.943911",
     "exception": false,
     "start_time": "2020-11-02T00:05:12.895011",
     "status": "completed"
    },
    "tags": []
   },
   "outputs": [],
   "source": [
    "import mnist"
   ]
  },
  {
   "cell_type": "code",
   "execution_count": 4,
   "metadata": {
    "execution": {
     "iopub.execute_input": "2020-11-02T00:05:13.009941Z",
     "iopub.status.busy": "2020-11-02T00:05:13.009228Z",
     "iopub.status.idle": "2020-11-02T00:05:13.760163Z",
     "shell.execute_reply": "2020-11-02T00:05:13.759236Z"
    },
    "papermill": {
     "duration": 0.786975,
     "end_time": "2020-11-02T00:05:13.760397",
     "exception": false,
     "start_time": "2020-11-02T00:05:12.973422",
     "status": "completed"
    },
    "tags": []
   },
   "outputs": [],
   "source": [
    "train_images = mnist.train_images()\n",
    "train_labels = mnist.train_labels()"
   ]
  },
  {
   "cell_type": "code",
   "execution_count": 5,
   "metadata": {
    "execution": {
     "iopub.execute_input": "2020-11-02T00:05:13.820305Z",
     "iopub.status.busy": "2020-11-02T00:05:13.819702Z",
     "iopub.status.idle": "2020-11-02T00:05:13.837519Z",
     "shell.execute_reply": "2020-11-02T00:05:13.837010Z"
    },
    "papermill": {
     "duration": 0.048801,
     "end_time": "2020-11-02T00:05:13.837651",
     "exception": false,
     "start_time": "2020-11-02T00:05:13.788850",
     "status": "completed"
    },
    "tags": []
   },
   "outputs": [
    {
     "data": {
      "text/plain": [
       "((60000, 28, 28), (60000,))"
      ]
     },
     "execution_count": 5,
     "metadata": {},
     "output_type": "execute_result"
    }
   ],
   "source": [
    "train_images.shape, train_labels.shape"
   ]
  },
  {
   "cell_type": "code",
   "execution_count": 6,
   "metadata": {
    "execution": {
     "iopub.execute_input": "2020-11-02T00:05:13.894956Z",
     "iopub.status.busy": "2020-11-02T00:05:13.893849Z",
     "iopub.status.idle": "2020-11-02T00:05:14.141647Z",
     "shell.execute_reply": "2020-11-02T00:05:14.141123Z"
    },
    "papermill": {
     "duration": 0.277903,
     "end_time": "2020-11-02T00:05:14.141788",
     "exception": false,
     "start_time": "2020-11-02T00:05:13.863885",
     "status": "completed"
    },
    "tags": []
   },
   "outputs": [],
   "source": [
    "test_images = mnist.test_images()\n",
    "test_labels = mnist.test_labels()"
   ]
  },
  {
   "cell_type": "code",
   "execution_count": 7,
   "metadata": {
    "execution": {
     "iopub.execute_input": "2020-11-02T00:05:14.203975Z",
     "iopub.status.busy": "2020-11-02T00:05:14.198047Z",
     "iopub.status.idle": "2020-11-02T00:05:14.212899Z",
     "shell.execute_reply": "2020-11-02T00:05:14.213609Z"
    },
    "papermill": {
     "duration": 0.045543,
     "end_time": "2020-11-02T00:05:14.213767",
     "exception": false,
     "start_time": "2020-11-02T00:05:14.168224",
     "status": "completed"
    },
    "tags": []
   },
   "outputs": [
    {
     "data": {
      "text/plain": [
       "((10000, 28, 28), (10000,))"
      ]
     },
     "execution_count": 7,
     "metadata": {},
     "output_type": "execute_result"
    }
   ],
   "source": [
    "test_images.shape, test_labels.shape"
   ]
  },
  {
   "cell_type": "code",
   "execution_count": 8,
   "metadata": {
    "execution": {
     "iopub.execute_input": "2020-11-02T00:05:14.271876Z",
     "iopub.status.busy": "2020-11-02T00:05:14.271249Z",
     "iopub.status.idle": "2020-11-02T00:05:14.421669Z",
     "shell.execute_reply": "2020-11-02T00:05:14.421147Z"
    },
    "papermill": {
     "duration": 0.181632,
     "end_time": "2020-11-02T00:05:14.421804",
     "exception": false,
     "start_time": "2020-11-02T00:05:14.240172",
     "status": "completed"
    },
    "tags": []
   },
   "outputs": [
    {
     "name": "stdout",
     "output_type": "stream",
     "text": [
      "2\n"
     ]
    },
    {
     "data": {
      "text/plain": [
       "<matplotlib.image.AxesImage at 0x7f88fb0d33c8>"
      ]
     },
     "execution_count": 8,
     "metadata": {},
     "output_type": "execute_result"
    },
    {
     "data": {
      "image/png": "[encoded data removed]",
      "text/plain": [
       "<Figure size 432x288 with 1 Axes>"
      ]
     },
     "metadata": {
      "needs_background": "light"
     },
     "output_type": "display_data"
    }
   ],
   "source": [
    "image_index = 7776 # You may select anything up to 60,000\n",
    "print(train_labels[image_index]) \n",
    "plt.imshow(train_images[image_index], cmap='Greys')"
   ]
  },
  {
   "cell_type": "markdown",
   "metadata": {
    "papermill": {
     "duration": 0.041318,
     "end_time": "2020-11-02T00:05:14.491607",
     "exception": false,
     "start_time": "2020-11-02T00:05:14.450289",
     "status": "completed"
    },
    "tags": []
   },
   "source": [
    "## Filter data to get 3 and 8 out"
   ]
  },
  {
   "cell_type": "code",
   "execution_count": 9,
   "metadata": {
    "execution": {
     "iopub.execute_input": "2020-11-02T00:05:14.937358Z",
     "iopub.status.busy": "2020-11-02T00:05:14.936751Z",
     "iopub.status.idle": "2020-11-02T00:05:14.958150Z",
     "shell.execute_reply": "2020-11-02T00:05:14.958835Z"
    },
    "papermill": {
     "duration": 0.439693,
     "end_time": "2020-11-02T00:05:14.959036",
     "exception": false,
     "start_time": "2020-11-02T00:05:14.519343",
     "status": "completed"
    },
    "tags": []
   },
   "outputs": [],
   "source": [
    "train_filter = np.where((train_labels == 3 ) | (train_labels == 8))\n",
    "test_filter = np.where((test_labels == 3) | (test_labels == 8))\n",
    "X_train, y_train = train_images[train_filter], train_labels[train_filter]\n",
    "X_test, y_test = test_images[test_filter], test_labels[test_filter]"
   ]
  },
  {
   "cell_type": "markdown",
   "metadata": {
    "papermill": {
     "duration": 0.027854,
     "end_time": "2020-11-02T00:05:15.016340",
     "exception": false,
     "start_time": "2020-11-02T00:05:14.988486",
     "status": "completed"
    },
    "tags": []
   },
   "source": [
    "We normalize the pixel values in the 0 to 1 range"
   ]
  },
  {
   "cell_type": "code",
   "execution_count": 10,
   "metadata": {
    "execution": {
     "iopub.execute_input": "2020-11-02T00:05:15.076958Z",
     "iopub.status.busy": "2020-11-02T00:05:15.076369Z",
     "iopub.status.idle": "2020-11-02T00:05:15.134678Z",
     "shell.execute_reply": "2020-11-02T00:05:15.133766Z"
    },
    "papermill": {
     "duration": 0.091147,
     "end_time": "2020-11-02T00:05:15.134896",
     "exception": false,
     "start_time": "2020-11-02T00:05:15.043749",
     "status": "completed"
    },
    "tags": []
   },
   "outputs": [],
   "source": [
    "X_train = X_train/255.\n",
    "X_test = X_test/255."
   ]
  },
  {
   "cell_type": "markdown",
   "metadata": {
    "papermill": {
     "duration": 0.027799,
     "end_time": "2020-11-02T00:05:15.191995",
     "exception": false,
     "start_time": "2020-11-02T00:05:15.164196",
     "status": "completed"
    },
    "tags": []
   },
   "source": [
    "Setup the labels as 1 (when the digit is 3) and 0 (when the digit is 8)"
   ]
  },
  {
   "cell_type": "code",
   "execution_count": 11,
   "metadata": {
    "execution": {
     "iopub.execute_input": "2020-11-02T00:05:15.251075Z",
     "iopub.status.busy": "2020-11-02T00:05:15.250487Z",
     "iopub.status.idle": "2020-11-02T00:05:15.264873Z",
     "shell.execute_reply": "2020-11-02T00:05:15.264365Z"
    },
    "papermill": {
     "duration": 0.045606,
     "end_time": "2020-11-02T00:05:15.265003",
     "exception": false,
     "start_time": "2020-11-02T00:05:15.219397",
     "status": "completed"
    },
    "tags": []
   },
   "outputs": [],
   "source": [
    "y_train = 1*(y_train==3)\n",
    "y_test = 1*(y_test==3)"
   ]
  },
  {
   "cell_type": "code",
   "execution_count": 12,
   "metadata": {
    "execution": {
     "iopub.execute_input": "2020-11-02T00:05:15.323942Z",
     "iopub.status.busy": "2020-11-02T00:05:15.323328Z",
     "iopub.status.idle": "2020-11-02T00:05:15.340690Z",
     "shell.execute_reply": "2020-11-02T00:05:15.340211Z"
    },
    "papermill": {
     "duration": 0.048125,
     "end_time": "2020-11-02T00:05:15.340824",
     "exception": false,
     "start_time": "2020-11-02T00:05:15.292699",
     "status": "completed"
    },
    "tags": []
   },
   "outputs": [
    {
     "data": {
      "text/plain": [
       "((11982, 28, 28), (1984, 28, 28))"
      ]
     },
     "execution_count": 12,
     "metadata": {},
     "output_type": "execute_result"
    }
   ],
   "source": [
    "X_train.shape, X_test.shape"
   ]
  },
  {
   "cell_type": "markdown",
   "metadata": {
    "papermill": {
     "duration": 0.027639,
     "end_time": "2020-11-02T00:05:15.396189",
     "exception": false,
     "start_time": "2020-11-02T00:05:15.368550",
     "status": "completed"
    },
    "tags": []
   },
   "source": [
    "### Reshape the input data to create a linear array"
   ]
  },
  {
   "cell_type": "code",
   "execution_count": 13,
   "metadata": {
    "execution": {
     "iopub.execute_input": "2020-11-02T00:05:15.455945Z",
     "iopub.status.busy": "2020-11-02T00:05:15.455327Z",
     "iopub.status.idle": "2020-11-02T00:05:15.471244Z",
     "shell.execute_reply": "2020-11-02T00:05:15.471857Z"
    },
    "papermill": {
     "duration": 0.047824,
     "end_time": "2020-11-02T00:05:15.472009",
     "exception": false,
     "start_time": "2020-11-02T00:05:15.424185",
     "status": "completed"
    },
    "tags": []
   },
   "outputs": [
    {
     "data": {
      "text/plain": [
       "((11982, 784), (1984, 784))"
      ]
     },
     "execution_count": 13,
     "metadata": {},
     "output_type": "execute_result"
    }
   ],
   "source": [
    "X_train = X_train.reshape(X_train.shape[0], -1)\n",
    "X_test = X_test.reshape(X_test.shape[0], -1)\n",
    "X_train.shape, X_test.shape"
   ]
  },
  {
   "cell_type": "markdown",
   "metadata": {
    "papermill": {
     "duration": 0.027985,
     "end_time": "2020-11-02T00:05:15.528038",
     "exception": false,
     "start_time": "2020-11-02T00:05:15.500053",
     "status": "completed"
    },
    "tags": []
   },
   "source": [
    "### Importing appropriate functions from 'Kudzu'"
   ]
  },
  {
   "cell_type": "code",
   "execution_count": 14,
   "metadata": {
    "execution": {
     "iopub.execute_input": "2020-11-02T00:05:15.589255Z",
     "iopub.status.busy": "2020-11-02T00:05:15.588652Z",
     "iopub.status.idle": "2020-11-02T00:05:15.612128Z",
     "shell.execute_reply": "2020-11-02T00:05:15.611450Z"
    },
    "papermill": {
     "duration": 0.056018,
     "end_time": "2020-11-02T00:05:15.612312",
     "exception": false,
     "start_time": "2020-11-02T00:05:15.556294",
     "status": "completed"
    },
    "tags": []
   },
   "outputs": [],
   "source": [
    "from kudzu.layer import Sigmoid\n",
    "from kudzu.layer import Relu\n",
    "from kudzu.layer import Affine, Sigmoid\n",
    "\n",
    "from kudzu.model import Model\n",
    "from kudzu.train import Learner\n",
    "from kudzu.optim import GD\n",
    "from kudzu.data import Data, Dataloader, Sampler\n",
    "\n",
    "from kudzu.callbacks import AccCallback\n",
    "from kudzu.callbacks import ClfCallback\n",
    "\n",
    "from kudzu.loss import MSE"
   ]
  },
  {
   "cell_type": "markdown",
   "metadata": {
    "papermill": {
     "duration": 0.028294,
     "end_time": "2020-11-02T00:05:15.670085",
     "exception": false,
     "start_time": "2020-11-02T00:05:15.641791",
     "status": "completed"
    },
    "tags": []
   },
   "source": [
    "### Let us create a `Config` class, to store important parameters. \n",
    "This class essentially plays the role of a dictionary."
   ]
  },
  {
   "cell_type": "code",
   "execution_count": 15,
   "metadata": {
    "execution": {
     "iopub.execute_input": "2020-11-02T00:05:15.733185Z",
     "iopub.status.busy": "2020-11-02T00:05:15.732586Z",
     "iopub.status.idle": "2020-11-02T00:05:15.744899Z",
     "shell.execute_reply": "2020-11-02T00:05:15.745352Z"
    },
    "papermill": {
     "duration": 0.047002,
     "end_time": "2020-11-02T00:05:15.745511",
     "exception": false,
     "start_time": "2020-11-02T00:05:15.698509",
     "status": "completed"
    },
    "tags": []
   },
   "outputs": [],
   "source": [
    "class Config:\n",
    "    pass\n",
    "config = Config()\n",
    "config.lr = 0.001\n",
    "config.num_epochs = 251\n",
    "config.bs = 50"
   ]
  },
  {
   "cell_type": "markdown",
   "metadata": {
    "papermill": {
     "duration": 0.028893,
     "end_time": "2020-11-02T00:05:15.802561",
     "exception": false,
     "start_time": "2020-11-02T00:05:15.773668",
     "status": "completed"
    },
    "tags": []
   },
   "source": [
    "### Initializing data to the variables"
   ]
  },
  {
   "cell_type": "code",
   "execution_count": 16,
   "metadata": {
    "execution": {
     "iopub.execute_input": "2020-11-02T00:05:15.863381Z",
     "iopub.status.busy": "2020-11-02T00:05:15.862762Z",
     "iopub.status.idle": "2020-11-02T00:05:15.884067Z",
     "shell.execute_reply": "2020-11-02T00:05:15.883400Z"
    },
    "papermill": {
     "duration": 0.053288,
     "end_time": "2020-11-02T00:05:15.884246",
     "exception": false,
     "start_time": "2020-11-02T00:05:15.830958",
     "status": "completed"
    },
    "tags": []
   },
   "outputs": [],
   "source": [
    "data = Data(X_train, y_train.reshape(-1,1))\n",
    "sampler = Sampler(data, config.bs, shuffle=True)\n",
    "\n",
    "dl = Dataloader(data, sampler)\n",
    "\n",
    "opt = GD(config.lr)\n",
    "loss = MSE()"
   ]
  },
  {
   "cell_type": "code",
   "execution_count": 17,
   "metadata": {
    "execution": {
     "iopub.execute_input": "2020-11-02T00:05:15.946739Z",
     "iopub.status.busy": "2020-11-02T00:05:15.946146Z",
     "iopub.status.idle": "2020-11-02T00:05:15.960494Z",
     "shell.execute_reply": "2020-11-02T00:05:15.960978Z"
    },
    "papermill": {
     "duration": 0.047285,
     "end_time": "2020-11-02T00:05:15.961134",
     "exception": false,
     "start_time": "2020-11-02T00:05:15.913849",
     "status": "completed"
    },
    "tags": []
   },
   "outputs": [],
   "source": [
    "training_xdata = X_train\n",
    "testing_xdata = X_test\n",
    "training_ydata = y_train.reshape(-1,1)\n",
    "testing_ydata = y_test.reshape(-1,1)"
   ]
  },
  {
   "cell_type": "markdown",
   "metadata": {
    "papermill": {
     "duration": 0.028228,
     "end_time": "2020-11-02T00:05:16.017776",
     "exception": false,
     "start_time": "2020-11-02T00:05:15.989548",
     "status": "completed"
    },
    "tags": []
   },
   "source": [
    "### Running Models with the Training data\n",
    "Details about the network layers:\n",
    "- A first affine layer has 784 inputs and does 100 affine transforms. These are followed by a Relu\n",
    "- A second affine layer has 100 inputs from the 100 activations of the past layer, and does 100 affine transforms. These are followed by a Relu\n",
    "- A third affine layer has 100 activations and does 2 affine transformations to create an embedding for visualization. There is no non-linearity here.\n",
    "- A final \"logistic regression\" which has an affine transform from 2 inputs to 1 output, which is squeezed through a sigmoid.\n",
    "\n",
    "Help taken from Anshuman's Notebook."
   ]
  },
  {
   "cell_type": "code",
   "execution_count": 18,
   "metadata": {
    "execution": {
     "iopub.execute_input": "2020-11-02T00:05:16.079345Z",
     "iopub.status.busy": "2020-11-02T00:05:16.078718Z",
     "iopub.status.idle": "2020-11-02T00:05:16.100283Z",
     "shell.execute_reply": "2020-11-02T00:05:16.099776Z"
    },
    "papermill": {
     "duration": 0.054618,
     "end_time": "2020-11-02T00:05:16.100426",
     "exception": false,
     "start_time": "2020-11-02T00:05:16.045808",
     "status": "completed"
    },
    "tags": []
   },
   "outputs": [],
   "source": [
    "# layers for the Neural Network\n",
    "layers = [Affine(\"first\", 784, 100), Relu(\"first\"), Affine(\"second\", 100, 100), Relu(\"second\"), Affine(\"third\", 100, 2), Affine(\"final\", 2, 1), Sigmoid(\"final\")]\n",
    "model_nn = Model(layers)\n",
    "\n",
    "# layers for the Logistic Regression\n",
    "layers_lr = [Affine(\"logits\", 784, 1), Sigmoid(\"sigmoid\")]\n",
    "model_lr = Model(layers_lr)"
   ]
  },
  {
   "cell_type": "code",
   "execution_count": 19,
   "metadata": {
    "execution": {
     "iopub.execute_input": "2020-11-02T00:05:16.161788Z",
     "iopub.status.busy": "2020-11-02T00:05:16.161201Z",
     "iopub.status.idle": "2020-11-02T00:05:16.174242Z",
     "shell.execute_reply": "2020-11-02T00:05:16.174698Z"
    },
    "papermill": {
     "duration": 0.046068,
     "end_time": "2020-11-02T00:05:16.174855",
     "exception": false,
     "start_time": "2020-11-02T00:05:16.128787",
     "status": "completed"
    },
    "tags": []
   },
   "outputs": [],
   "source": [
    "# suffix _nn stands for Neural Network.\n",
    "learner_nn = Learner(loss, model_nn, opt, config.num_epochs)\n",
    "acc_nn = ClfCallback(learner_nn, config.bs, training_xdata , testing_xdata, training_ydata, testing_ydata)\n",
    "learner_nn.set_callbacks([acc_nn])"
   ]
  },
  {
   "cell_type": "code",
   "execution_count": 20,
   "metadata": {
    "execution": {
     "iopub.execute_input": "2020-11-02T00:05:16.235488Z",
     "iopub.status.busy": "2020-11-02T00:05:16.234866Z",
     "iopub.status.idle": "2020-11-02T00:06:49.340182Z",
     "shell.execute_reply": "2020-11-02T00:06:49.340746Z"
    },
    "papermill": {
     "duration": 93.137923,
     "end_time": "2020-11-02T00:06:49.340902",
     "exception": false,
     "start_time": "2020-11-02T00:05:16.202979",
     "status": "completed"
    },
    "tags": []
   },
   "outputs": [
    {
     "name": "stdout",
     "output_type": "stream",
     "text": [
      "====== Neural Network ======\n"
     ]
    },
    {
     "name": "stdout",
     "output_type": "stream",
     "text": [
      "Epoch 0, Loss 0.2549\n",
      "Training Accuracy: 0.6144, Testing Accuracy: 0.5998\n",
      "\n"
     ]
    },
    {
     "name": "stdout",
     "output_type": "stream",
     "text": [
      "Epoch 10, Loss 0.0686\n",
      "Training Accuracy: 0.9349, Testing Accuracy: 0.9430\n",
      "\n"
     ]
    },
    {
     "name": "stdout",
     "output_type": "stream",
     "text": [
      "Epoch 20, Loss 0.0456\n",
      "Training Accuracy: 0.9531, Testing Accuracy: 0.9577\n",
      "\n"
     ]
    },
    {
     "name": "stdout",
     "output_type": "stream",
     "text": [
      "Epoch 30, Loss 0.0378\n",
      "Training Accuracy: 0.9585, Testing Accuracy: 0.9612\n",
      "\n"
     ]
    },
    {
     "name": "stdout",
     "output_type": "stream",
     "text": [
      "Epoch 40, Loss 0.0337\n",
      "Training Accuracy: 0.9617, Testing Accuracy: 0.9657\n",
      "\n"
     ]
    },
    {
     "name": "stdout",
     "output_type": "stream",
     "text": [
      "Epoch 50, Loss 0.031\n",
      "Training Accuracy: 0.9645, Testing Accuracy: 0.9682\n",
      "\n"
     ]
    },
    {
     "name": "stdout",
     "output_type": "stream",
     "text": [
      "Epoch 60, Loss 0.0291\n",
      "Training Accuracy: 0.9664, Testing Accuracy: 0.9688\n",
      "\n"
     ]
    },
    {
     "name": "stdout",
     "output_type": "stream",
     "text": [
      "Epoch 70, Loss 0.0276\n",
      "Training Accuracy: 0.9675, Testing Accuracy: 0.9688\n",
      "\n"
     ]
    },
    {
     "name": "stdout",
     "output_type": "stream",
     "text": [
      "Epoch 80, Loss 0.0263\n",
      "Training Accuracy: 0.9690, Testing Accuracy: 0.9688\n",
      "\n"
     ]
    },
    {
     "name": "stdout",
     "output_type": "stream",
     "text": [
      "Epoch 90, Loss 0.0253\n",
      "Training Accuracy: 0.9710, Testing Accuracy: 0.9703\n",
      "\n"
     ]
    },
    {
     "name": "stdout",
     "output_type": "stream",
     "text": [
      "Epoch 100, Loss 0.0243\n",
      "Training Accuracy: 0.9719, Testing Accuracy: 0.9708\n",
      "\n"
     ]
    },
    {
     "name": "stdout",
     "output_type": "stream",
     "text": [
      "Epoch 110, Loss 0.0235\n",
      "Training Accuracy: 0.9730, Testing Accuracy: 0.9708\n",
      "\n"
     ]
    },
    {
     "name": "stdout",
     "output_type": "stream",
     "text": [
      "Epoch 120, Loss 0.0228\n",
      "Training Accuracy: 0.9735, Testing Accuracy: 0.9713\n",
      "\n"
     ]
    },
    {
     "name": "stdout",
     "output_type": "stream",
     "text": [
      "Epoch 130, Loss 0.0221\n",
      "Training Accuracy: 0.9745, Testing Accuracy: 0.9718\n",
      "\n"
     ]
    },
    {
     "name": "stdout",
     "output_type": "stream",
     "text": [
      "Epoch 140, Loss 0.0214\n",
      "Training Accuracy: 0.9755, Testing Accuracy: 0.9728\n",
      "\n"
     ]
    },
    {
     "name": "stdout",
     "output_type": "stream",
     "text": [
      "Epoch 150, Loss 0.0209\n",
      "Training Accuracy: 0.9759, Testing Accuracy: 0.9728\n",
      "\n"
     ]
    },
    {
     "name": "stdout",
     "output_type": "stream",
     "text": [
      "Epoch 160, Loss 0.0203\n",
      "Training Accuracy: 0.9767, Testing Accuracy: 0.9733\n",
      "\n"
     ]
    },
    {
     "name": "stdout",
     "output_type": "stream",
     "text": [
      "Epoch 170, Loss 0.0198\n",
      "Training Accuracy: 0.9774, Testing Accuracy: 0.9748\n",
      "\n"
     ]
    },
    {
     "name": "stdout",
     "output_type": "stream",
     "text": [
      "Epoch 180, Loss 0.0193\n",
      "Training Accuracy: 0.9778, Testing Accuracy: 0.9748\n",
      "\n"
     ]
    },
    {
     "name": "stdout",
     "output_type": "stream",
     "text": [
      "Epoch 190, Loss 0.0188\n",
      "Training Accuracy: 0.9783, Testing Accuracy: 0.9758\n",
      "\n"
     ]
    },
    {
     "name": "stdout",
     "output_type": "stream",
     "text": [
      "Epoch 200, Loss 0.0184\n",
      "Training Accuracy: 0.9794, Testing Accuracy: 0.9768\n",
      "\n"
     ]
    },
    {
     "name": "stdout",
     "output_type": "stream",
     "text": [
      "Epoch 210, Loss 0.018\n",
      "Training Accuracy: 0.9800, Testing Accuracy: 0.9768\n",
      "\n"
     ]
    },
    {
     "name": "stdout",
     "output_type": "stream",
     "text": [
      "Epoch 220, Loss 0.0176\n",
      "Training Accuracy: 0.9806, Testing Accuracy: 0.9763\n",
      "\n"
     ]
    },
    {
     "name": "stdout",
     "output_type": "stream",
     "text": [
      "Epoch 230, Loss 0.0172\n",
      "Training Accuracy: 0.9811, Testing Accuracy: 0.9763\n",
      "\n"
     ]
    },
    {
     "name": "stdout",
     "output_type": "stream",
     "text": [
      "Epoch 240, Loss 0.0168\n",
      "Training Accuracy: 0.9815, Testing Accuracy: 0.9763\n",
      "\n"
     ]
    },
    {
     "name": "stdout",
     "output_type": "stream",
     "text": [
      "Epoch 250, Loss 0.0164\n",
      "Training Accuracy: 0.9821, Testing Accuracy: 0.9763\n",
      "\n"
     ]
    },
    {
     "data": {
      "text/plain": [
       "0.025501731461898568"
      ]
     },
     "execution_count": 20,
     "metadata": {},
     "output_type": "execute_result"
    }
   ],
   "source": [
    "print(\"====== Neural Network ======\")\n",
    "learner_nn.train_loop(dl)"
   ]
  },
  {
   "cell_type": "markdown",
   "metadata": {
    "papermill": {
     "duration": 0.035815,
     "end_time": "2020-11-02T00:06:49.413689",
     "exception": false,
     "start_time": "2020-11-02T00:06:49.377874",
     "status": "completed"
    },
    "tags": []
   },
   "source": [
    "### Logistic Regression based Implementation."
   ]
  },
  {
   "cell_type": "code",
   "execution_count": 21,
   "metadata": {
    "execution": {
     "iopub.execute_input": "2020-11-02T00:06:49.493774Z",
     "iopub.status.busy": "2020-11-02T00:06:49.493154Z",
     "iopub.status.idle": "2020-11-02T00:06:49.505210Z",
     "shell.execute_reply": "2020-11-02T00:06:49.504737Z"
    },
    "papermill": {
     "duration": 0.055649,
     "end_time": "2020-11-02T00:06:49.505340",
     "exception": false,
     "start_time": "2020-11-02T00:06:49.449691",
     "status": "completed"
    },
    "tags": []
   },
   "outputs": [],
   "source": [
    "learner_lr = Learner(loss, model_lr, opt, config.num_epochs)\n",
    "acc_lr = ClfCallback(learner_lr, config.bs, training_xdata , testing_xdata, training_ydata, testing_ydata)\n",
    "learner_lr.set_callbacks([acc_lr])"
   ]
  },
  {
   "cell_type": "code",
   "execution_count": 22,
   "metadata": {
    "execution": {
     "iopub.execute_input": "2020-11-02T00:06:49.582840Z",
     "iopub.status.busy": "2020-11-02T00:06:49.582210Z",
     "iopub.status.idle": "2020-11-02T00:07:06.212666Z",
     "shell.execute_reply": "2020-11-02T00:07:06.211857Z"
    },
    "papermill": {
     "duration": 16.671451,
     "end_time": "2020-11-02T00:07:06.212808",
     "exception": false,
     "start_time": "2020-11-02T00:06:49.541357",
     "status": "completed"
    },
    "tags": []
   },
   "outputs": [
    {
     "name": "stdout",
     "output_type": "stream",
     "text": [
      "====== Logistic Regression ======\n",
      "Epoch 0, Loss 0.2688\n",
      "Training Accuracy: 0.5587, Testing Accuracy: 0.5625\n",
      "\n"
     ]
    },
    {
     "name": "stdout",
     "output_type": "stream",
     "text": [
      "Epoch 10, Loss 0.1084\n",
      "Training Accuracy: 0.9011, Testing Accuracy: 0.9194\n",
      "\n"
     ]
    },
    {
     "name": "stdout",
     "output_type": "stream",
     "text": [
      "Epoch 20, Loss 0.0825\n",
      "Training Accuracy: 0.9220, Testing Accuracy: 0.9360\n",
      "\n"
     ]
    },
    {
     "name": "stdout",
     "output_type": "stream",
     "text": [
      "Epoch 30, Loss 0.0707\n",
      "Training Accuracy: 0.9318, Testing Accuracy: 0.9461\n",
      "\n"
     ]
    },
    {
     "name": "stdout",
     "output_type": "stream",
     "text": [
      "Epoch 40, Loss 0.0636\n",
      "Training Accuracy: 0.9377, Testing Accuracy: 0.9521\n",
      "\n"
     ]
    },
    {
     "name": "stdout",
     "output_type": "stream",
     "text": [
      "Epoch 50, Loss 0.0587\n",
      "Training Accuracy: 0.9414, Testing Accuracy: 0.9551\n",
      "\n"
     ]
    },
    {
     "name": "stdout",
     "output_type": "stream",
     "text": [
      "Epoch 60, Loss 0.0552\n",
      "Training Accuracy: 0.9449, Testing Accuracy: 0.9582\n",
      "\n"
     ]
    },
    {
     "name": "stdout",
     "output_type": "stream",
     "text": [
      "Epoch 70, Loss 0.0525\n",
      "Training Accuracy: 0.9475, Testing Accuracy: 0.9587\n",
      "\n"
     ]
    },
    {
     "name": "stdout",
     "output_type": "stream",
     "text": [
      "Epoch 80, Loss 0.0503\n",
      "Training Accuracy: 0.9490, Testing Accuracy: 0.9602\n",
      "\n"
     ]
    },
    {
     "name": "stdout",
     "output_type": "stream",
     "text": [
      "Epoch 90, Loss 0.0486\n",
      "Training Accuracy: 0.9499, Testing Accuracy: 0.9617\n",
      "\n"
     ]
    },
    {
     "name": "stdout",
     "output_type": "stream",
     "text": [
      "Epoch 100, Loss 0.0471\n",
      "Training Accuracy: 0.9510, Testing Accuracy: 0.9637\n",
      "\n"
     ]
    },
    {
     "name": "stdout",
     "output_type": "stream",
     "text": [
      "Epoch 110, Loss 0.0458\n",
      "Training Accuracy: 0.9521, Testing Accuracy: 0.9647\n",
      "\n"
     ]
    },
    {
     "name": "stdout",
     "output_type": "stream",
     "text": [
      "Epoch 120, Loss 0.0447\n",
      "Training Accuracy: 0.9531, Testing Accuracy: 0.9652\n",
      "\n"
     ]
    },
    {
     "name": "stdout",
     "output_type": "stream",
     "text": [
      "Epoch 130, Loss 0.0437\n",
      "Training Accuracy: 0.9533, Testing Accuracy: 0.9652\n",
      "\n"
     ]
    },
    {
     "name": "stdout",
     "output_type": "stream",
     "text": [
      "Epoch 140, Loss 0.0428\n",
      "Training Accuracy: 0.9543, Testing Accuracy: 0.9652\n",
      "\n"
     ]
    },
    {
     "name": "stdout",
     "output_type": "stream",
     "text": [
      "Epoch 150, Loss 0.042\n",
      "Training Accuracy: 0.9551, Testing Accuracy: 0.9657\n",
      "\n"
     ]
    },
    {
     "name": "stdout",
     "output_type": "stream",
     "text": [
      "Epoch 160, Loss 0.0413\n",
      "Training Accuracy: 0.9559, Testing Accuracy: 0.9662\n",
      "\n"
     ]
    },
    {
     "name": "stdout",
     "output_type": "stream",
     "text": [
      "Epoch 170, Loss 0.0407\n",
      "Training Accuracy: 0.9564, Testing Accuracy: 0.9667\n",
      "\n"
     ]
    },
    {
     "name": "stdout",
     "output_type": "stream",
     "text": [
      "Epoch 180, Loss 0.0401\n",
      "Training Accuracy: 0.9570, Testing Accuracy: 0.9672\n",
      "\n"
     ]
    },
    {
     "name": "stdout",
     "output_type": "stream",
     "text": [
      "Epoch 190, Loss 0.0396\n",
      "Training Accuracy: 0.9573, Testing Accuracy: 0.9682\n",
      "\n"
     ]
    },
    {
     "name": "stdout",
     "output_type": "stream",
     "text": [
      "Epoch 200, Loss 0.0391\n",
      "Training Accuracy: 0.9577, Testing Accuracy: 0.9682\n",
      "\n"
     ]
    },
    {
     "name": "stdout",
     "output_type": "stream",
     "text": [
      "Epoch 210, Loss 0.0386\n",
      "Training Accuracy: 0.9579, Testing Accuracy: 0.9682\n",
      "\n"
     ]
    },
    {
     "name": "stdout",
     "output_type": "stream",
     "text": [
      "Epoch 220, Loss 0.0382\n",
      "Training Accuracy: 0.9582, Testing Accuracy: 0.9693\n",
      "\n"
     ]
    },
    {
     "name": "stdout",
     "output_type": "stream",
     "text": [
      "Epoch 230, Loss 0.0378\n",
      "Training Accuracy: 0.9589, Testing Accuracy: 0.9698\n",
      "\n"
     ]
    },
    {
     "name": "stdout",
     "output_type": "stream",
     "text": [
      "Epoch 240, Loss 0.0374\n",
      "Training Accuracy: 0.9594, Testing Accuracy: 0.9698\n",
      "\n"
     ]
    },
    {
     "name": "stdout",
     "output_type": "stream",
     "text": [
      "Epoch 250, Loss 0.037\n",
      "Training Accuracy: 0.9594, Testing Accuracy: 0.9698\n",
      "\n"
     ]
    },
    {
     "data": {
      "text/plain": [
       "0.05431102258719486"
      ]
     },
     "execution_count": 22,
     "metadata": {},
     "output_type": "execute_result"
    }
   ],
   "source": [
    "print(\"====== Logistic Regression ======\")\n",
    "learner_lr.train_loop(dl)"
   ]
  },
  {
   "cell_type": "markdown",
   "metadata": {
    "papermill": {
     "duration": 0.043501,
     "end_time": "2020-11-02T00:07:06.301123",
     "exception": false,
     "start_time": "2020-11-02T00:07:06.257622",
     "status": "completed"
    },
    "tags": []
   },
   "source": [
    "### Comparing results of NN and LR"
   ]
  },
  {
   "cell_type": "code",
   "execution_count": 23,
   "metadata": {
    "execution": {
     "iopub.execute_input": "2020-11-02T00:07:06.395985Z",
     "iopub.status.busy": "2020-11-02T00:07:06.395354Z",
     "iopub.status.idle": "2020-11-02T00:07:06.638688Z",
     "shell.execute_reply": "2020-11-02T00:07:06.639189Z"
    },
    "papermill": {
     "duration": 0.294844,
     "end_time": "2020-11-02T00:07:06.639365",
     "exception": false,
     "start_time": "2020-11-02T00:07:06.344521",
     "status": "completed"
    },
    "tags": []
   },
   "outputs": [
    {
     "data": {
      "text/plain": [
       "<matplotlib.legend.Legend at 0x7f88f2c3f080>"
      ]
     },
     "execution_count": 23,
     "metadata": {},
     "output_type": "execute_result"
    },
    {
     "data": {
      "image/png": "[encoded data removed]",
      "text/plain": [
       "<Figure size 1080x720 with 1 Axes>"
      ]
     },
     "metadata": {
      "needs_background": "light"
     },
     "output_type": "display_data"
    }
   ],
   "source": [
    "plt.figure(figsize=(15,10))\n",
    "\n",
    "# Neural Network plots\n",
    "plt.plot(acc_nn.accuracies, 'r-', label = \"Training Accuracies - NN\")\n",
    "plt.plot(acc_nn.test_accuracies, 'g-', label = \"Testing Accuracies - NN\")\n",
    "\n",
    "# Logistic Regression plots\n",
    "plt.plot(acc_lr.accuracies, 'k-', label = \"Training Accuracies - LR\")\n",
    "plt.plot(acc_lr.test_accuracies, 'b-', label = \"Testing Accuracies - LR\")\n",
    "\n",
    "plt.ylim(0.8, 1)\n",
    "\n",
    "plt.legend()\n",
    "\n"
   ]
  },
  {
   "cell_type": "markdown",
   "metadata": {
    "papermill": {
     "duration": 0.045448,
     "end_time": "2020-11-02T00:07:06.730429",
     "exception": false,
     "start_time": "2020-11-02T00:07:06.684981",
     "status": "completed"
    },
    "tags": []
   },
   "source": [
    "### From the plot, we can observe the following:\n",
    "- Neural Network achieves higher accuracy than the Logistic Regression model.\n",
    "- This apparently, is because of overfitting, i.e. NN captures more noise than data.\n",
    "- Testing accuracy of NN drops below the Training accuracy at higher epochs. This explains the over-fitting on training data.\n",
    "- Logistic Regression gives a reliable accuracy, without the above mentioned problem.\n"
   ]
  },
  {
   "cell_type": "markdown",
   "metadata": {
    "papermill": {
     "duration": 0.045671,
     "end_time": "2020-11-02T00:07:06.821431",
     "exception": false,
     "start_time": "2020-11-02T00:07:06.775760",
     "status": "completed"
    },
    "tags": []
   },
   "source": [
    "### Moving till the last but one layer (excluding it).\n",
    "#### Plotting the outputs of this layer of the NN."
   ]
  },
  {
   "cell_type": "code",
   "execution_count": 24,
   "metadata": {
    "execution": {
     "iopub.execute_input": "2020-11-02T00:07:06.923662Z",
     "iopub.status.busy": "2020-11-02T00:07:06.922998Z",
     "iopub.status.idle": "2020-11-02T00:07:06.933371Z",
     "shell.execute_reply": "2020-11-02T00:07:06.932770Z"
    },
    "papermill": {
     "duration": 0.066573,
     "end_time": "2020-11-02T00:07:06.933506",
     "exception": false,
     "start_time": "2020-11-02T00:07:06.866933",
     "status": "completed"
    },
    "tags": []
   },
   "outputs": [],
   "source": [
    "model_new = Model(layers[:-2])"
   ]
  },
  {
   "cell_type": "code",
   "execution_count": 25,
   "metadata": {
    "execution": {
     "iopub.execute_input": "2020-11-02T00:07:07.031697Z",
     "iopub.status.busy": "2020-11-02T00:07:07.031068Z",
     "iopub.status.idle": "2020-11-02T00:07:07.053144Z",
     "shell.execute_reply": "2020-11-02T00:07:07.053660Z"
    },
    "papermill": {
     "duration": 0.074697,
     "end_time": "2020-11-02T00:07:07.053819",
     "exception": false,
     "start_time": "2020-11-02T00:07:06.979122",
     "status": "completed"
    },
    "tags": []
   },
   "outputs": [],
   "source": [
    "plot_testing = model_new(testing_xdata)"
   ]
  },
  {
   "cell_type": "code",
   "execution_count": 26,
   "metadata": {
    "execution": {
     "iopub.execute_input": "2020-11-02T00:07:07.153593Z",
     "iopub.status.busy": "2020-11-02T00:07:07.151555Z",
     "iopub.status.idle": "2020-11-02T00:07:07.345783Z",
     "shell.execute_reply": "2020-11-02T00:07:07.346269Z"
    },
    "papermill": {
     "duration": 0.246796,
     "end_time": "2020-11-02T00:07:07.346426",
     "exception": false,
     "start_time": "2020-11-02T00:07:07.099630",
     "status": "completed"
    },
    "tags": []
   },
   "outputs": [
    {
     "data": {
      "text/plain": [
       "Text(0.5, 1.0, 'Outputs')"
      ]
     },
     "execution_count": 26,
     "metadata": {},
     "output_type": "execute_result"
    },
    {
     "data": {
      "image/png": "[encoded data removed]",
      "text/plain": [
       "<Figure size 576x504 with 1 Axes>"
      ]
     },
     "metadata": {
      "needs_background": "light"
     },
     "output_type": "display_data"
    }
   ],
   "source": [
    "plt.figure(figsize=(8,7))\n",
    "plt.scatter(plot_testing[:,0], plot_testing[:,1], alpha = 0.1, c = y_test.ravel());\n",
    "plt.title('Outputs')"
   ]
  },
  {
   "cell_type": "markdown",
   "metadata": {
    "papermill": {
     "duration": 0.047805,
     "end_time": "2020-11-02T00:07:07.442382",
     "exception": false,
     "start_time": "2020-11-02T00:07:07.394577",
     "status": "completed"
    },
    "tags": []
   },
   "source": [
    "### Plotting probability contours"
   ]
  },
  {
   "cell_type": "code",
   "execution_count": 27,
   "metadata": {
    "execution": {
     "iopub.execute_input": "2020-11-02T00:07:07.545480Z",
     "iopub.status.busy": "2020-11-02T00:07:07.544874Z",
     "iopub.status.idle": "2020-11-02T00:07:07.557467Z",
     "shell.execute_reply": "2020-11-02T00:07:07.556975Z"
    },
    "papermill": {
     "duration": 0.06735,
     "end_time": "2020-11-02T00:07:07.557607",
     "exception": false,
     "start_time": "2020-11-02T00:07:07.490257",
     "status": "completed"
    },
    "tags": []
   },
   "outputs": [],
   "source": [
    "model_prob = Model(layers[-2:]) "
   ]
  },
  {
   "cell_type": "code",
   "execution_count": 28,
   "metadata": {
    "execution": {
     "iopub.execute_input": "2020-11-02T00:07:07.658765Z",
     "iopub.status.busy": "2020-11-02T00:07:07.658173Z",
     "iopub.status.idle": "2020-11-02T00:07:07.675873Z",
     "shell.execute_reply": "2020-11-02T00:07:07.676608Z"
    },
    "papermill": {
     "duration": 0.071113,
     "end_time": "2020-11-02T00:07:07.676916",
     "exception": false,
     "start_time": "2020-11-02T00:07:07.605803",
     "status": "completed"
    },
    "tags": []
   },
   "outputs": [],
   "source": [
    "# Adjust the x and y ranges according to the above generated plot.\n",
    "x_range = np.linspace(-4, 1, 100) \n",
    "y_range = np.linspace(-6, 6, 100) \n",
    "x_grid, y_grid = np.meshgrid(x_range, y_range) # x_grid and y_grig are of size 100 X 100\n",
    "\n",
    "# converting x_grid and y_grid to continuous arrays\n",
    "x_grid_flat = np.ravel(x_grid)\n",
    "y_grid_flat = np.ravel(y_grid)\n",
    "\n",
    "# The last layer of the current model takes two columns as input. Hence transpose of np.vstack() is required.\n",
    "X = np.vstack((x_grid_flat, y_grid_flat)).T\n",
    "\n",
    "# x_grid and y_grid are of size 100 x 100\n",
    "probability_contour = model_prob(X).reshape(100,100) "
   ]
  },
  {
   "cell_type": "code",
   "execution_count": 29,
   "metadata": {
    "execution": {
     "iopub.execute_input": "2020-11-02T00:07:07.801495Z",
     "iopub.status.busy": "2020-11-02T00:07:07.800895Z",
     "iopub.status.idle": "2020-11-02T00:07:08.094199Z",
     "shell.execute_reply": "2020-11-02T00:07:08.093189Z"
    },
    "papermill": {
     "duration": 0.35484,
     "end_time": "2020-11-02T00:07:08.094343",
     "exception": false,
     "start_time": "2020-11-02T00:07:07.739503",
     "status": "completed"
    },
    "tags": []
   },
   "outputs": [
    {
     "data": {
      "image/png": "[encoded data removed]",
      "text/plain": [
       "<Figure size 720x648 with 1 Axes>"
      ]
     },
     "metadata": {
      "needs_background": "light"
     },
     "output_type": "display_data"
    }
   ],
   "source": [
    "plt.figure(figsize=(10,9))\n",
    "plt.scatter(plot_testing[:,0], plot_testing[:,1], alpha = 0.1, c = y_test.ravel())\n",
    "contours = plt.contour(x_grid,y_grid,probability_contour)\n",
    "plt.title('Probability Contours')\n",
    "plt.clabel(contours, inline = True );"
   ]
  }
 ],
 "metadata": {
  "kernelspec": {
   "display_name": "Python 3",
   "language": "python",
   "name": "python3"
  },
  "language_info": {
   "codemirror_mode": {
    "name": "ipython",
    "version": 3
   },
   "file_extension": ".py",
   "mimetype": "text/x-python",
   "name": "python",
   "nbconvert_exporter": "python",
   "pygments_lexer": "ipython3",
   "version": "3.6.12"
  },
  "papermill": {
   "duration": 119.109477,
   "end_time": "2020-11-02T00:07:08.554186",
   "environment_variables": {},
   "exception": null,
   "input_path": "2020-08-11-NeuralNetwork.ipynb",
   "output_path": "2020-08-11-NeuralNetwork.ipynb",
   "parameters": {},
   "start_time": "2020-11-02T00:05:09.444709",
   "version": "2.1.2"
  }
 },
 "nbformat": 4,
 "nbformat_minor": 4
}