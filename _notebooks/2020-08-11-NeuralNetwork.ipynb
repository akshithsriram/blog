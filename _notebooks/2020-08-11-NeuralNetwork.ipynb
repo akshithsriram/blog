{
 "cells": [
  {
   "cell_type": "markdown",
   "id": "fitted-suggestion",
   "metadata": {
    "papermill": {
     "duration": 0.05248,
     "end_time": "2021-07-07T20:04:52.549976",
     "exception": false,
     "start_time": "2021-07-07T20:04:52.497496",
     "status": "completed"
    },
    "tags": []
   },
   "source": [
    "# \"A Basic Neural Network: Differentiate Hand-Written Digits\"\n",
    "\n",
    "- badges: true\n",
    "- author: Akshith Sriram"
   ]
  },
  {
   "cell_type": "markdown",
   "id": "signal-flexibility",
   "metadata": {
    "papermill": {
     "duration": 0.054626,
     "end_time": "2021-07-07T20:04:52.642908",
     "exception": false,
     "start_time": "2021-07-07T20:04:52.588282",
     "status": "completed"
    },
    "tags": []
   },
   "source": [
    "### Key Objectives:\n",
    "- Building a neural network that differentiates two hand-written digits 3 and 8.\n",
    "- Comparing the results of this Neural Network (NN) to that of a Logistic Regression (LR) model.\n",
    "\n",
    "### Requirements:\n",
    "- 'Kudzu' : A neural network library that was designed during our course by [Univ.AI](www.univ.ai). \n",
    "- MNIST Database\n",
    "\n",
    "If MNIST is not installed, use the command `!pip install mnist` given below.\n",
    "It can be run both from the command line and Jupyter Notebook."
   ]
  },
  {
   "cell_type": "code",
   "execution_count": 1,
   "id": "british-texture",
   "metadata": {
    "execution": {
     "iopub.execute_input": "2021-07-07T20:04:52.762508Z",
     "iopub.status.busy": "2021-07-07T20:04:52.762024Z",
     "iopub.status.idle": "2021-07-07T20:04:54.068942Z",
     "shell.execute_reply": "2021-07-07T20:04:54.067866Z"
    },
    "papermill": {
     "duration": 1.379507,
     "end_time": "2021-07-07T20:04:54.069118",
     "exception": false,
     "start_time": "2021-07-07T20:04:52.689611",
     "status": "completed"
    },
    "tags": []
   },
   "outputs": [
    {
     "name": "stdout",
     "output_type": "stream",
     "text": [
      "Collecting mnist\r\n",
      "  Downloading mnist-0.2.2-py2.py3-none-any.whl (3.5 kB)\r\n",
      "Requirement already satisfied: numpy in /opt/hostedtoolcache/Python/3.6.13/x64/lib/python3.6/site-packages (from mnist) (1.19.5)\r\n"
     ]
    },
    {
     "name": "stdout",
     "output_type": "stream",
     "text": [
      "Installing collected packages: mnist\r\n",
      "Successfully installed mnist-0.2.2\r\n"
     ]
    }
   ],
   "source": [
    "!pip install mnist "
   ]
  },
  {
   "cell_type": "markdown",
   "id": "stunning-extra",
   "metadata": {
    "papermill": {
     "duration": 0.023003,
     "end_time": "2021-07-07T20:04:54.115531",
     "exception": false,
     "start_time": "2021-07-07T20:04:54.092528",
     "status": "completed"
    },
    "tags": []
   },
   "source": [
    "#### Importing necessary libraries"
   ]
  },
  {
   "cell_type": "code",
   "execution_count": 2,
   "id": "wooden-france",
   "metadata": {
    "execution": {
     "iopub.execute_input": "2021-07-07T20:04:54.168172Z",
     "iopub.status.busy": "2021-07-07T20:04:54.167712Z",
     "iopub.status.idle": "2021-07-07T20:04:54.694522Z",
     "shell.execute_reply": "2021-07-07T20:04:54.693966Z"
    },
    "papermill": {
     "duration": 0.556054,
     "end_time": "2021-07-07T20:04:54.694651",
     "exception": false,
     "start_time": "2021-07-07T20:04:54.138597",
     "status": "completed"
    },
    "tags": []
   },
   "outputs": [],
   "source": [
    "%load_ext autoreload\n",
    "%autoreload 2\n",
    "\n",
    "%matplotlib inline\n",
    "import matplotlib.pyplot as plt\n",
    "\n",
    "import numpy as np\n",
    "import pandas as pd"
   ]
  },
  {
   "cell_type": "markdown",
   "id": "stunning-physics",
   "metadata": {
    "papermill": {
     "duration": 0.028741,
     "end_time": "2021-07-07T20:04:54.751949",
     "exception": false,
     "start_time": "2021-07-07T20:04:54.723208",
     "status": "completed"
    },
    "tags": []
   },
   "source": [
    "### Preparing the Data"
   ]
  },
  {
   "cell_type": "code",
   "execution_count": 3,
   "id": "unauthorized-remainder",
   "metadata": {
    "execution": {
     "iopub.execute_input": "2021-07-07T20:04:54.815030Z",
     "iopub.status.busy": "2021-07-07T20:04:54.814472Z",
     "iopub.status.idle": "2021-07-07T20:04:54.825604Z",
     "shell.execute_reply": "2021-07-07T20:04:54.825127Z"
    },
    "papermill": {
     "duration": 0.043934,
     "end_time": "2021-07-07T20:04:54.825747",
     "exception": false,
     "start_time": "2021-07-07T20:04:54.781813",
     "status": "completed"
    },
    "tags": []
   },
   "outputs": [],
   "source": [
    "import mnist"
   ]
  },
  {
   "cell_type": "code",
   "execution_count": 4,
   "id": "correct-antarctica",
   "metadata": {
    "execution": {
     "iopub.execute_input": "2021-07-07T20:04:54.890166Z",
     "iopub.status.busy": "2021-07-07T20:04:54.889622Z",
     "iopub.status.idle": "2021-07-07T20:09:16.988830Z",
     "shell.execute_reply": "2021-07-07T20:09:16.988304Z"
    },
    "papermill": {
     "duration": 262.13435,
     "end_time": "2021-07-07T20:09:16.988970",
     "exception": false,
     "start_time": "2021-07-07T20:04:54.854620",
     "status": "completed"
    },
    "tags": []
   },
   "outputs": [],
   "source": [
    "train_images = mnist.train_images()\n",
    "train_labels = mnist.train_labels()"
   ]
  },
  {
   "cell_type": "code",
   "execution_count": 5,
   "id": "musical-prospect",
   "metadata": {
    "execution": {
     "iopub.execute_input": "2021-07-07T20:09:17.048158Z",
     "iopub.status.busy": "2021-07-07T20:09:17.047643Z",
     "iopub.status.idle": "2021-07-07T20:09:17.061439Z",
     "shell.execute_reply": "2021-07-07T20:09:17.061879Z"
    },
    "papermill": {
     "duration": 0.045637,
     "end_time": "2021-07-07T20:09:17.062023",
     "exception": false,
     "start_time": "2021-07-07T20:09:17.016386",
     "status": "completed"
    },
    "tags": []
   },
   "outputs": [
    {
     "data": {
      "text/plain": [
       "((60000, 28, 28), (60000,))"
      ]
     },
     "execution_count": 5,
     "metadata": {},
     "output_type": "execute_result"
    }
   ],
   "source": [
    "train_images.shape, train_labels.shape"
   ]
  },
  {
   "cell_type": "code",
   "execution_count": 6,
   "id": "preliminary-elizabeth",
   "metadata": {
    "execution": {
     "iopub.execute_input": "2021-07-07T20:09:17.120707Z",
     "iopub.status.busy": "2021-07-07T20:09:17.120181Z",
     "iopub.status.idle": "2021-07-07T20:10:02.815532Z",
     "shell.execute_reply": "2021-07-07T20:10:02.816335Z"
    },
    "papermill": {
     "duration": 45.727859,
     "end_time": "2021-07-07T20:10:02.816503",
     "exception": false,
     "start_time": "2021-07-07T20:09:17.088644",
     "status": "completed"
    },
    "tags": []
   },
   "outputs": [],
   "source": [
    "test_images = mnist.test_images()\n",
    "test_labels = mnist.test_labels()"
   ]
  },
  {
   "cell_type": "code",
   "execution_count": 7,
   "id": "acknowledged-oxygen",
   "metadata": {
    "execution": {
     "iopub.execute_input": "2021-07-07T20:10:02.874378Z",
     "iopub.status.busy": "2021-07-07T20:10:02.873857Z",
     "iopub.status.idle": "2021-07-07T20:10:02.887664Z",
     "shell.execute_reply": "2021-07-07T20:10:02.887263Z"
    },
    "papermill": {
     "duration": 0.043699,
     "end_time": "2021-07-07T20:10:02.887777",
     "exception": false,
     "start_time": "2021-07-07T20:10:02.844078",
     "status": "completed"
    },
    "tags": []
   },
   "outputs": [
    {
     "data": {
      "text/plain": [
       "((10000, 28, 28), (10000,))"
      ]
     },
     "execution_count": 7,
     "metadata": {},
     "output_type": "execute_result"
    }
   ],
   "source": [
    "test_images.shape, test_labels.shape"
   ]
  },
  {
   "cell_type": "code",
   "execution_count": 8,
   "id": "innovative-organic",
   "metadata": {
    "execution": {
     "iopub.execute_input": "2021-07-07T20:10:02.945114Z",
     "iopub.status.busy": "2021-07-07T20:10:02.944599Z",
     "iopub.status.idle": "2021-07-07T20:10:03.063391Z",
     "shell.execute_reply": "2021-07-07T20:10:03.063858Z"
    },
    "papermill": {
     "duration": 0.149737,
     "end_time": "2021-07-07T20:10:03.064016",
     "exception": false,
     "start_time": "2021-07-07T20:10:02.914279",
     "status": "completed"
    },
    "tags": []
   },
   "outputs": [
    {
     "name": "stdout",
     "output_type": "stream",
     "text": [
      "2\n"
     ]
    },
    {
     "data": {
      "text/plain": [
       "<matplotlib.image.AxesImage at 0x7f57c36505f8>"
      ]
     },
     "execution_count": 8,
     "metadata": {},
     "output_type": "execute_result"
    },
    {
     "data": {
      "image/png": "[encoded data removed]",
      "text/plain": [
       "<Figure size 432x288 with 1 Axes>"
      ]
     },
     "metadata": {
      "needs_background": "light"
     },
     "output_type": "display_data"
    }
   ],
   "source": [
    "image_index = 7776 # You may select anything up to 60,000\n",
    "print(train_labels[image_index]) \n",
    "plt.imshow(train_images[image_index], cmap='Greys')"
   ]
  },
  {
   "cell_type": "markdown",
   "id": "facial-modem",
   "metadata": {
    "papermill": {
     "duration": 0.027989,
     "end_time": "2021-07-07T20:10:03.120028",
     "exception": false,
     "start_time": "2021-07-07T20:10:03.092039",
     "status": "completed"
    },
    "tags": []
   },
   "source": [
    "## Filter data to get 3 and 8 out"
   ]
  },
  {
   "cell_type": "code",
   "execution_count": 9,
   "id": "thousand-acquisition",
   "metadata": {
    "execution": {
     "iopub.execute_input": "2021-07-07T20:10:03.180284Z",
     "iopub.status.busy": "2021-07-07T20:10:03.179766Z",
     "iopub.status.idle": "2021-07-07T20:10:03.197729Z",
     "shell.execute_reply": "2021-07-07T20:10:03.197275Z"
    },
    "papermill": {
     "duration": 0.050068,
     "end_time": "2021-07-07T20:10:03.197851",
     "exception": false,
     "start_time": "2021-07-07T20:10:03.147783",
     "status": "completed"
    },
    "tags": []
   },
   "outputs": [],
   "source": [
    "train_filter = np.where((train_labels == 3 ) | (train_labels == 8))\n",
    "test_filter = np.where((test_labels == 3) | (test_labels == 8))\n",
    "X_train, y_train = train_images[train_filter], train_labels[train_filter]\n",
    "X_test, y_test = test_images[test_filter], test_labels[test_filter]"
   ]
  },
  {
   "cell_type": "markdown",
   "id": "ruled-access",
   "metadata": {
    "papermill": {
     "duration": 0.027634,
     "end_time": "2021-07-07T20:10:03.253431",
     "exception": false,
     "start_time": "2021-07-07T20:10:03.225797",
     "status": "completed"
    },
    "tags": []
   },
   "source": [
    "We normalize the pixel values in the 0 to 1 range"
   ]
  },
  {
   "cell_type": "code",
   "execution_count": 10,
   "id": "isolated-denver",
   "metadata": {
    "execution": {
     "iopub.execute_input": "2021-07-07T20:10:03.322418Z",
     "iopub.status.busy": "2021-07-07T20:10:03.319933Z",
     "iopub.status.idle": "2021-07-07T20:10:03.361344Z",
     "shell.execute_reply": "2021-07-07T20:10:03.360860Z"
    },
    "papermill": {
     "duration": 0.080463,
     "end_time": "2021-07-07T20:10:03.361480",
     "exception": false,
     "start_time": "2021-07-07T20:10:03.281017",
     "status": "completed"
    },
    "tags": []
   },
   "outputs": [],
   "source": [
    "X_train = X_train/255.\n",
    "X_test = X_test/255."
   ]
  },
  {
   "cell_type": "markdown",
   "id": "perfect-summary",
   "metadata": {
    "papermill": {
     "duration": 0.027533,
     "end_time": "2021-07-07T20:10:03.417973",
     "exception": false,
     "start_time": "2021-07-07T20:10:03.390440",
     "status": "completed"
    },
    "tags": []
   },
   "source": [
    "Setup the labels as 1 (when the digit is 3) and 0 (when the digit is 8)"
   ]
  },
  {
   "cell_type": "code",
   "execution_count": 11,
   "id": "personalized-growing",
   "metadata": {
    "execution": {
     "iopub.execute_input": "2021-07-07T20:10:03.481394Z",
     "iopub.status.busy": "2021-07-07T20:10:03.480888Z",
     "iopub.status.idle": "2021-07-07T20:10:03.490222Z",
     "shell.execute_reply": "2021-07-07T20:10:03.489813Z"
    },
    "papermill": {
     "duration": 0.044885,
     "end_time": "2021-07-07T20:10:03.490331",
     "exception": false,
     "start_time": "2021-07-07T20:10:03.445446",
     "status": "completed"
    },
    "tags": []
   },
   "outputs": [],
   "source": [
    "y_train = 1*(y_train==3)\n",
    "y_test = 1*(y_test==3)"
   ]
  },
  {
   "cell_type": "code",
   "execution_count": 12,
   "id": "considered-virgin",
   "metadata": {
    "execution": {
     "iopub.execute_input": "2021-07-07T20:10:03.554999Z",
     "iopub.status.busy": "2021-07-07T20:10:03.554506Z",
     "iopub.status.idle": "2021-07-07T20:10:03.564203Z",
     "shell.execute_reply": "2021-07-07T20:10:03.563784Z"
    },
    "papermill": {
     "duration": 0.046376,
     "end_time": "2021-07-07T20:10:03.564310",
     "exception": false,
     "start_time": "2021-07-07T20:10:03.517934",
     "status": "completed"
    },
    "tags": []
   },
   "outputs": [
    {
     "data": {
      "text/plain": [
       "((11982, 28, 28), (1984, 28, 28))"
      ]
     },
     "execution_count": 12,
     "metadata": {},
     "output_type": "execute_result"
    }
   ],
   "source": [
    "X_train.shape, X_test.shape"
   ]
  },
  {
   "cell_type": "markdown",
   "id": "civilian-mobile",
   "metadata": {
    "papermill": {
     "duration": 0.02765,
     "end_time": "2021-07-07T20:10:03.619795",
     "exception": false,
     "start_time": "2021-07-07T20:10:03.592145",
     "status": "completed"
    },
    "tags": []
   },
   "source": [
    "### Reshape the input data to create a linear array"
   ]
  },
  {
   "cell_type": "code",
   "execution_count": 13,
   "id": "colonial-adams",
   "metadata": {
    "execution": {
     "iopub.execute_input": "2021-07-07T20:10:03.684047Z",
     "iopub.status.busy": "2021-07-07T20:10:03.683546Z",
     "iopub.status.idle": "2021-07-07T20:10:03.693790Z",
     "shell.execute_reply": "2021-07-07T20:10:03.693364Z"
    },
    "papermill": {
     "duration": 0.046005,
     "end_time": "2021-07-07T20:10:03.693905",
     "exception": false,
     "start_time": "2021-07-07T20:10:03.647900",
     "status": "completed"
    },
    "tags": []
   },
   "outputs": [
    {
     "data": {
      "text/plain": [
       "((11982, 784), (1984, 784))"
      ]
     },
     "execution_count": 13,
     "metadata": {},
     "output_type": "execute_result"
    }
   ],
   "source": [
    "X_train = X_train.reshape(X_train.shape[0], -1)\n",
    "X_test = X_test.reshape(X_test.shape[0], -1)\n",
    "X_train.shape, X_test.shape"
   ]
  },
  {
   "cell_type": "markdown",
   "id": "smart-details",
   "metadata": {
    "papermill": {
     "duration": 0.028138,
     "end_time": "2021-07-07T20:10:03.750140",
     "exception": false,
     "start_time": "2021-07-07T20:10:03.722002",
     "status": "completed"
    },
    "tags": []
   },
   "source": [
    "### Importing appropriate functions from 'Kudzu'"
   ]
  },
  {
   "cell_type": "code",
   "execution_count": 14,
   "id": "celtic-trial",
   "metadata": {
    "execution": {
     "iopub.execute_input": "2021-07-07T20:10:03.811101Z",
     "iopub.status.busy": "2021-07-07T20:10:03.810595Z",
     "iopub.status.idle": "2021-07-07T20:10:03.826576Z",
     "shell.execute_reply": "2021-07-07T20:10:03.826164Z"
    },
    "papermill": {
     "duration": 0.048231,
     "end_time": "2021-07-07T20:10:03.826690",
     "exception": false,
     "start_time": "2021-07-07T20:10:03.778459",
     "status": "completed"
    },
    "tags": []
   },
   "outputs": [],
   "source": [
    "from kudzu.layer import Sigmoid\n",
    "from kudzu.layer import Relu\n",
    "from kudzu.layer import Affine, Sigmoid\n",
    "\n",
    "from kudzu.model import Model\n",
    "from kudzu.train import Learner\n",
    "from kudzu.optim import GD\n",
    "from kudzu.data import Data, Dataloader, Sampler\n",
    "\n",
    "from kudzu.callbacks import AccCallback\n",
    "from kudzu.callbacks import ClfCallback\n",
    "\n",
    "from kudzu.loss import MSE"
   ]
  },
  {
   "cell_type": "markdown",
   "id": "coupled-customer",
   "metadata": {
    "papermill": {
     "duration": 0.028059,
     "end_time": "2021-07-07T20:10:03.883478",
     "exception": false,
     "start_time": "2021-07-07T20:10:03.855419",
     "status": "completed"
    },
    "tags": []
   },
   "source": [
    "### Let us create a `Config` class, to store important parameters. \n",
    "This class essentially plays the role of a dictionary."
   ]
  },
  {
   "cell_type": "code",
   "execution_count": 15,
   "id": "young-ceiling",
   "metadata": {
    "execution": {
     "iopub.execute_input": "2021-07-07T20:10:03.945615Z",
     "iopub.status.busy": "2021-07-07T20:10:03.945106Z",
     "iopub.status.idle": "2021-07-07T20:10:03.955653Z",
     "shell.execute_reply": "2021-07-07T20:10:03.956053Z"
    },
    "papermill": {
     "duration": 0.044332,
     "end_time": "2021-07-07T20:10:03.956182",
     "exception": false,
     "start_time": "2021-07-07T20:10:03.911850",
     "status": "completed"
    },
    "tags": []
   },
   "outputs": [],
   "source": [
    "class Config:\n",
    "    pass\n",
    "config = Config()\n",
    "config.lr = 0.001\n",
    "config.num_epochs = 251\n",
    "config.bs = 50"
   ]
  },
  {
   "cell_type": "markdown",
   "id": "according-mandate",
   "metadata": {
    "papermill": {
     "duration": 0.028033,
     "end_time": "2021-07-07T20:10:04.012234",
     "exception": false,
     "start_time": "2021-07-07T20:10:03.984201",
     "status": "completed"
    },
    "tags": []
   },
   "source": [
    "### Initializing data to the variables"
   ]
  },
  {
   "cell_type": "code",
   "execution_count": 16,
   "id": "academic-disposition",
   "metadata": {
    "execution": {
     "iopub.execute_input": "2021-07-07T20:10:04.074089Z",
     "iopub.status.busy": "2021-07-07T20:10:04.073557Z",
     "iopub.status.idle": "2021-07-07T20:10:04.083537Z",
     "shell.execute_reply": "2021-07-07T20:10:04.083138Z"
    },
    "papermill": {
     "duration": 0.043358,
     "end_time": "2021-07-07T20:10:04.083645",
     "exception": false,
     "start_time": "2021-07-07T20:10:04.040287",
     "status": "completed"
    },
    "tags": []
   },
   "outputs": [],
   "source": [
    "data = Data(X_train, y_train.reshape(-1,1))\n",
    "sampler = Sampler(data, config.bs, shuffle=True)\n",
    "\n",
    "dl = Dataloader(data, sampler)\n",
    "\n",
    "opt = GD(config.lr)\n",
    "loss = MSE()"
   ]
  },
  {
   "cell_type": "code",
   "execution_count": 17,
   "id": "featured-commission",
   "metadata": {
    "execution": {
     "iopub.execute_input": "2021-07-07T20:10:04.144937Z",
     "iopub.status.busy": "2021-07-07T20:10:04.144440Z",
     "iopub.status.idle": "2021-07-07T20:10:04.154081Z",
     "shell.execute_reply": "2021-07-07T20:10:04.153676Z"
    },
    "papermill": {
     "duration": 0.042692,
     "end_time": "2021-07-07T20:10:04.154191",
     "exception": false,
     "start_time": "2021-07-07T20:10:04.111499",
     "status": "completed"
    },
    "tags": []
   },
   "outputs": [],
   "source": [
    "training_xdata = X_train\n",
    "testing_xdata = X_test\n",
    "training_ydata = y_train.reshape(-1,1)\n",
    "testing_ydata = y_test.reshape(-1,1)"
   ]
  },
  {
   "cell_type": "markdown",
   "id": "played-safety",
   "metadata": {
    "papermill": {
     "duration": 0.027924,
     "end_time": "2021-07-07T20:10:04.210206",
     "exception": false,
     "start_time": "2021-07-07T20:10:04.182282",
     "status": "completed"
    },
    "tags": []
   },
   "source": [
    "### Running Models with the Training data\n",
    "Details about the network layers:\n",
    "- A first affine layer has 784 inputs and does 100 affine transforms. These are followed by a Relu\n",
    "- A second affine layer has 100 inputs from the 100 activations of the past layer, and does 100 affine transforms. These are followed by a Relu\n",
    "- A third affine layer has 100 activations and does 2 affine transformations to create an embedding for visualization. There is no non-linearity here.\n",
    "- A final \"logistic regression\" which has an affine transform from 2 inputs to 1 output, which is squeezed through a sigmoid.\n",
    "\n",
    "Help taken from Anshuman's Notebook."
   ]
  },
  {
   "cell_type": "code",
   "execution_count": 18,
   "id": "asian-bankruptcy",
   "metadata": {
    "execution": {
     "iopub.execute_input": "2021-07-07T20:10:04.270677Z",
     "iopub.status.busy": "2021-07-07T20:10:04.270155Z",
     "iopub.status.idle": "2021-07-07T20:10:04.285775Z",
     "shell.execute_reply": "2021-07-07T20:10:04.285326Z"
    },
    "papermill": {
     "duration": 0.047804,
     "end_time": "2021-07-07T20:10:04.285894",
     "exception": false,
     "start_time": "2021-07-07T20:10:04.238090",
     "status": "completed"
    },
    "tags": []
   },
   "outputs": [],
   "source": [
    "# layers for the Neural Network\n",
    "layers = [Affine(\"first\", 784, 100), Relu(\"first\"), Affine(\"second\", 100, 100), Relu(\"second\"), Affine(\"third\", 100, 2), Affine(\"final\", 2, 1), Sigmoid(\"final\")]\n",
    "model_nn = Model(layers)\n",
    "\n",
    "# layers for the Logistic Regression\n",
    "layers_lr = [Affine(\"logits\", 784, 1), Sigmoid(\"sigmoid\")]\n",
    "model_lr = Model(layers_lr)"
   ]
  },
  {
   "cell_type": "code",
   "execution_count": 19,
   "id": "removed-butler",
   "metadata": {
    "execution": {
     "iopub.execute_input": "2021-07-07T20:10:04.346249Z",
     "iopub.status.busy": "2021-07-07T20:10:04.345733Z",
     "iopub.status.idle": "2021-07-07T20:10:04.357613Z",
     "shell.execute_reply": "2021-07-07T20:10:04.358068Z"
    },
    "papermill": {
     "duration": 0.043895,
     "end_time": "2021-07-07T20:10:04.358194",
     "exception": false,
     "start_time": "2021-07-07T20:10:04.314299",
     "status": "completed"
    },
    "tags": []
   },
   "outputs": [],
   "source": [
    "# suffix _nn stands for Neural Network.\n",
    "learner_nn = Learner(loss, model_nn, opt, config.num_epochs)\n",
    "acc_nn = ClfCallback(learner_nn, config.bs, training_xdata , testing_xdata, training_ydata, testing_ydata)\n",
    "learner_nn.set_callbacks([acc_nn])"
   ]
  },
  {
   "cell_type": "code",
   "execution_count": 20,
   "id": "conceptual-throw",
   "metadata": {
    "execution": {
     "iopub.execute_input": "2021-07-07T20:10:04.430642Z",
     "iopub.status.busy": "2021-07-07T20:10:04.422269Z",
     "iopub.status.idle": "2021-07-07T20:11:27.964109Z",
     "shell.execute_reply": "2021-07-07T20:11:27.964740Z"
    },
    "papermill": {
     "duration": 83.578637,
     "end_time": "2021-07-07T20:11:27.964876",
     "exception": false,
     "start_time": "2021-07-07T20:10:04.386239",
     "status": "completed"
    },
    "tags": []
   },
   "outputs": [
    {
     "name": "stdout",
     "output_type": "stream",
     "text": [
      "====== Neural Network ======\n"
     ]
    },
    {
     "name": "stdout",
     "output_type": "stream",
     "text": [
      "Epoch 0, Loss 0.2299\n",
      "Training Accuracy: 0.7555, Testing Accuracy: 0.7676\n",
      "\n"
     ]
    },
    {
     "name": "stdout",
     "output_type": "stream",
     "text": [
      "Epoch 10, Loss 0.0612\n",
      "Training Accuracy: 0.9350, Testing Accuracy: 0.9415\n",
      "\n"
     ]
    },
    {
     "name": "stdout",
     "output_type": "stream",
     "text": [
      "Epoch 20, Loss 0.0426\n",
      "Training Accuracy: 0.9533, Testing Accuracy: 0.9602\n",
      "\n"
     ]
    },
    {
     "name": "stdout",
     "output_type": "stream",
     "text": [
      "Epoch 30, Loss 0.0356\n",
      "Training Accuracy: 0.9599, Testing Accuracy: 0.9657\n",
      "\n"
     ]
    },
    {
     "name": "stdout",
     "output_type": "stream",
     "text": [
      "Epoch 40, Loss 0.0317\n",
      "Training Accuracy: 0.9634, Testing Accuracy: 0.9667\n",
      "\n"
     ]
    },
    {
     "name": "stdout",
     "output_type": "stream",
     "text": [
      "Epoch 50, Loss 0.0291\n",
      "Training Accuracy: 0.9672, Testing Accuracy: 0.9677\n",
      "\n"
     ]
    },
    {
     "name": "stdout",
     "output_type": "stream",
     "text": [
      "Epoch 60, Loss 0.0271\n",
      "Training Accuracy: 0.9691, Testing Accuracy: 0.9708\n",
      "\n"
     ]
    },
    {
     "name": "stdout",
     "output_type": "stream",
     "text": [
      "Epoch 70, Loss 0.0256\n",
      "Training Accuracy: 0.9708, Testing Accuracy: 0.9713\n",
      "\n"
     ]
    },
    {
     "name": "stdout",
     "output_type": "stream",
     "text": [
      "Epoch 80, Loss 0.0243\n",
      "Training Accuracy: 0.9722, Testing Accuracy: 0.9718\n",
      "\n"
     ]
    },
    {
     "name": "stdout",
     "output_type": "stream",
     "text": [
      "Epoch 90, Loss 0.0232\n",
      "Training Accuracy: 0.9735, Testing Accuracy: 0.9728\n",
      "\n"
     ]
    },
    {
     "name": "stdout",
     "output_type": "stream",
     "text": [
      "Epoch 100, Loss 0.0222\n",
      "Training Accuracy: 0.9738, Testing Accuracy: 0.9738\n",
      "\n"
     ]
    },
    {
     "name": "stdout",
     "output_type": "stream",
     "text": [
      "Epoch 110, Loss 0.0213\n",
      "Training Accuracy: 0.9747, Testing Accuracy: 0.9748\n",
      "\n"
     ]
    },
    {
     "name": "stdout",
     "output_type": "stream",
     "text": [
      "Epoch 120, Loss 0.0205\n",
      "Training Accuracy: 0.9760, Testing Accuracy: 0.9743\n",
      "\n"
     ]
    },
    {
     "name": "stdout",
     "output_type": "stream",
     "text": [
      "Epoch 130, Loss 0.0198\n",
      "Training Accuracy: 0.9775, Testing Accuracy: 0.9748\n",
      "\n"
     ]
    },
    {
     "name": "stdout",
     "output_type": "stream",
     "text": [
      "Epoch 140, Loss 0.0191\n",
      "Training Accuracy: 0.9786, Testing Accuracy: 0.9748\n",
      "\n"
     ]
    },
    {
     "name": "stdout",
     "output_type": "stream",
     "text": [
      "Epoch 150, Loss 0.0185\n",
      "Training Accuracy: 0.9796, Testing Accuracy: 0.9748\n",
      "\n"
     ]
    },
    {
     "name": "stdout",
     "output_type": "stream",
     "text": [
      "Epoch 160, Loss 0.0179\n",
      "Training Accuracy: 0.9810, Testing Accuracy: 0.9748\n",
      "\n"
     ]
    },
    {
     "name": "stdout",
     "output_type": "stream",
     "text": [
      "Epoch 170, Loss 0.0174\n",
      "Training Accuracy: 0.9815, Testing Accuracy: 0.9748\n",
      "\n"
     ]
    },
    {
     "name": "stdout",
     "output_type": "stream",
     "text": [
      "Epoch 180, Loss 0.0168\n",
      "Training Accuracy: 0.9822, Testing Accuracy: 0.9748\n",
      "\n"
     ]
    },
    {
     "name": "stdout",
     "output_type": "stream",
     "text": [
      "Epoch 190, Loss 0.0163\n",
      "Training Accuracy: 0.9830, Testing Accuracy: 0.9753\n",
      "\n"
     ]
    },
    {
     "name": "stdout",
     "output_type": "stream",
     "text": [
      "Epoch 200, Loss 0.0159\n",
      "Training Accuracy: 0.9832, Testing Accuracy: 0.9758\n",
      "\n"
     ]
    },
    {
     "name": "stdout",
     "output_type": "stream",
     "text": [
      "Epoch 210, Loss 0.0154\n",
      "Training Accuracy: 0.9840, Testing Accuracy: 0.9753\n",
      "\n"
     ]
    },
    {
     "name": "stdout",
     "output_type": "stream",
     "text": [
      "Epoch 220, Loss 0.015\n",
      "Training Accuracy: 0.9845, Testing Accuracy: 0.9763\n",
      "\n"
     ]
    },
    {
     "name": "stdout",
     "output_type": "stream",
     "text": [
      "Epoch 230, Loss 0.0146\n",
      "Training Accuracy: 0.9850, Testing Accuracy: 0.9763\n",
      "\n"
     ]
    },
    {
     "name": "stdout",
     "output_type": "stream",
     "text": [
      "Epoch 240, Loss 0.0142\n",
      "Training Accuracy: 0.9850, Testing Accuracy: 0.9758\n",
      "\n"
     ]
    },
    {
     "name": "stdout",
     "output_type": "stream",
     "text": [
      "Epoch 250, Loss 0.0139\n",
      "Training Accuracy: 0.9858, Testing Accuracy: 0.9753\n",
      "\n"
     ]
    },
    {
     "data": {
      "text/plain": [
       "0.02426048989738882"
      ]
     },
     "execution_count": 20,
     "metadata": {},
     "output_type": "execute_result"
    }
   ],
   "source": [
    "print(\"====== Neural Network ======\")\n",
    "learner_nn.train_loop(dl)"
   ]
  },
  {
   "cell_type": "markdown",
   "id": "competent-suffering",
   "metadata": {
    "papermill": {
     "duration": 0.031518,
     "end_time": "2021-07-07T20:11:28.028989",
     "exception": false,
     "start_time": "2021-07-07T20:11:27.997471",
     "status": "completed"
    },
    "tags": []
   },
   "source": [
    "### Logistic Regression based Implementation."
   ]
  },
  {
   "cell_type": "code",
   "execution_count": 21,
   "id": "qualified-psychiatry",
   "metadata": {
    "execution": {
     "iopub.execute_input": "2021-07-07T20:11:28.102720Z",
     "iopub.status.busy": "2021-07-07T20:11:28.102230Z",
     "iopub.status.idle": "2021-07-07T20:11:28.107026Z",
     "shell.execute_reply": "2021-07-07T20:11:28.106630Z"
    },
    "papermill": {
     "duration": 0.046895,
     "end_time": "2021-07-07T20:11:28.107131",
     "exception": false,
     "start_time": "2021-07-07T20:11:28.060236",
     "status": "completed"
    },
    "tags": []
   },
   "outputs": [],
   "source": [
    "learner_lr = Learner(loss, model_lr, opt, config.num_epochs)\n",
    "acc_lr = ClfCallback(learner_lr, config.bs, training_xdata , testing_xdata, training_ydata, testing_ydata)\n",
    "learner_lr.set_callbacks([acc_lr])"
   ]
  },
  {
   "cell_type": "code",
   "execution_count": 22,
   "id": "average-outside",
   "metadata": {
    "execution": {
     "iopub.execute_input": "2021-07-07T20:11:28.177943Z",
     "iopub.status.busy": "2021-07-07T20:11:28.177435Z",
     "iopub.status.idle": "2021-07-07T20:11:43.252804Z",
     "shell.execute_reply": "2021-07-07T20:11:43.253236Z"
    },
    "papermill": {
     "duration": 15.114591,
     "end_time": "2021-07-07T20:11:43.253362",
     "exception": false,
     "start_time": "2021-07-07T20:11:28.138771",
     "status": "completed"
    },
    "tags": []
   },
   "outputs": [
    {
     "name": "stdout",
     "output_type": "stream",
     "text": [
      "====== Logistic Regression ======\n",
      "Epoch 0, Loss 0.2464\n",
      "Training Accuracy: 0.6854, Testing Accuracy: 0.6825\n",
      "\n"
     ]
    },
    {
     "name": "stdout",
     "output_type": "stream",
     "text": [
      "Epoch 10, Loss 0.1044\n",
      "Training Accuracy: 0.9061, Testing Accuracy: 0.9254\n",
      "\n"
     ]
    },
    {
     "name": "stdout",
     "output_type": "stream",
     "text": [
      "Epoch 20, Loss 0.0806\n",
      "Training Accuracy: 0.9244, Testing Accuracy: 0.9425\n",
      "\n"
     ]
    },
    {
     "name": "stdout",
     "output_type": "stream",
     "text": [
      "Epoch 30, Loss 0.0695\n",
      "Training Accuracy: 0.9334, Testing Accuracy: 0.9511\n",
      "\n"
     ]
    },
    {
     "name": "stdout",
     "output_type": "stream",
     "text": [
      "Epoch 40, Loss 0.0628\n",
      "Training Accuracy: 0.9386, Testing Accuracy: 0.9536\n",
      "\n"
     ]
    },
    {
     "name": "stdout",
     "output_type": "stream",
     "text": [
      "Epoch 50, Loss 0.0582\n",
      "Training Accuracy: 0.9419, Testing Accuracy: 0.9561\n",
      "\n"
     ]
    },
    {
     "name": "stdout",
     "output_type": "stream",
     "text": [
      "Epoch 60, Loss 0.0548\n",
      "Training Accuracy: 0.9456, Testing Accuracy: 0.9577\n",
      "\n"
     ]
    },
    {
     "name": "stdout",
     "output_type": "stream",
     "text": [
      "Epoch 70, Loss 0.0522\n",
      "Training Accuracy: 0.9478, Testing Accuracy: 0.9597\n",
      "\n"
     ]
    },
    {
     "name": "stdout",
     "output_type": "stream",
     "text": [
      "Epoch 80, Loss 0.0501\n",
      "Training Accuracy: 0.9493, Testing Accuracy: 0.9607\n",
      "\n"
     ]
    },
    {
     "name": "stdout",
     "output_type": "stream",
     "text": [
      "Epoch 90, Loss 0.0483\n",
      "Training Accuracy: 0.9506, Testing Accuracy: 0.9612\n",
      "\n"
     ]
    },
    {
     "name": "stdout",
     "output_type": "stream",
     "text": [
      "Epoch 100, Loss 0.0469\n",
      "Training Accuracy: 0.9513, Testing Accuracy: 0.9612\n",
      "\n"
     ]
    },
    {
     "name": "stdout",
     "output_type": "stream",
     "text": [
      "Epoch 110, Loss 0.0456\n",
      "Training Accuracy: 0.9526, Testing Accuracy: 0.9622\n",
      "\n"
     ]
    },
    {
     "name": "stdout",
     "output_type": "stream",
     "text": [
      "Epoch 120, Loss 0.0445\n",
      "Training Accuracy: 0.9533, Testing Accuracy: 0.9622\n",
      "\n"
     ]
    },
    {
     "name": "stdout",
     "output_type": "stream",
     "text": [
      "Epoch 130, Loss 0.0435\n",
      "Training Accuracy: 0.9543, Testing Accuracy: 0.9627\n",
      "\n"
     ]
    },
    {
     "name": "stdout",
     "output_type": "stream",
     "text": [
      "Epoch 140, Loss 0.0427\n",
      "Training Accuracy: 0.9548, Testing Accuracy: 0.9627\n",
      "\n"
     ]
    },
    {
     "name": "stdout",
     "output_type": "stream",
     "text": [
      "Epoch 150, Loss 0.0419\n",
      "Training Accuracy: 0.9553, Testing Accuracy: 0.9637\n",
      "\n"
     ]
    },
    {
     "name": "stdout",
     "output_type": "stream",
     "text": [
      "Epoch 160, Loss 0.0412\n",
      "Training Accuracy: 0.9560, Testing Accuracy: 0.9642\n",
      "\n"
     ]
    },
    {
     "name": "stdout",
     "output_type": "stream",
     "text": [
      "Epoch 170, Loss 0.0406\n",
      "Training Accuracy: 0.9564, Testing Accuracy: 0.9642\n",
      "\n"
     ]
    },
    {
     "name": "stdout",
     "output_type": "stream",
     "text": [
      "Epoch 180, Loss 0.04\n",
      "Training Accuracy: 0.9569, Testing Accuracy: 0.9647\n",
      "\n"
     ]
    },
    {
     "name": "stdout",
     "output_type": "stream",
     "text": [
      "Epoch 190, Loss 0.0394\n",
      "Training Accuracy: 0.9575, Testing Accuracy: 0.9662\n",
      "\n"
     ]
    },
    {
     "name": "stdout",
     "output_type": "stream",
     "text": [
      "Epoch 200, Loss 0.0389\n",
      "Training Accuracy: 0.9577, Testing Accuracy: 0.9662\n",
      "\n"
     ]
    },
    {
     "name": "stdout",
     "output_type": "stream",
     "text": [
      "Epoch 210, Loss 0.0385\n",
      "Training Accuracy: 0.9581, Testing Accuracy: 0.9662\n",
      "\n"
     ]
    },
    {
     "name": "stdout",
     "output_type": "stream",
     "text": [
      "Epoch 220, Loss 0.0381\n",
      "Training Accuracy: 0.9583, Testing Accuracy: 0.9672\n",
      "\n"
     ]
    },
    {
     "name": "stdout",
     "output_type": "stream",
     "text": [
      "Epoch 230, Loss 0.0377\n",
      "Training Accuracy: 0.9584, Testing Accuracy: 0.9672\n",
      "\n"
     ]
    },
    {
     "name": "stdout",
     "output_type": "stream",
     "text": [
      "Epoch 240, Loss 0.0373\n",
      "Training Accuracy: 0.9592, Testing Accuracy: 0.9677\n",
      "\n"
     ]
    },
    {
     "name": "stdout",
     "output_type": "stream",
     "text": [
      "Epoch 250, Loss 0.0369\n",
      "Training Accuracy: 0.9598, Testing Accuracy: 0.9677\n",
      "\n"
     ]
    },
    {
     "data": {
      "text/plain": [
       "0.04233508376363438"
      ]
     },
     "execution_count": 22,
     "metadata": {},
     "output_type": "execute_result"
    }
   ],
   "source": [
    "print(\"====== Logistic Regression ======\")\n",
    "learner_lr.train_loop(dl)"
   ]
  },
  {
   "cell_type": "markdown",
   "id": "adjusted-possible",
   "metadata": {
    "papermill": {
     "duration": 0.042232,
     "end_time": "2021-07-07T20:11:43.340271",
     "exception": false,
     "start_time": "2021-07-07T20:11:43.298039",
     "status": "completed"
    },
    "tags": []
   },
   "source": [
    "### Comparing results of NN and LR"
   ]
  },
  {
   "cell_type": "code",
   "execution_count": 23,
   "id": "mental-multimedia",
   "metadata": {
    "execution": {
     "iopub.execute_input": "2021-07-07T20:11:43.438602Z",
     "iopub.status.busy": "2021-07-07T20:11:43.438022Z",
     "iopub.status.idle": "2021-07-07T20:11:43.691690Z",
     "shell.execute_reply": "2021-07-07T20:11:43.692461Z"
    },
    "papermill": {
     "duration": 0.310086,
     "end_time": "2021-07-07T20:11:43.692612",
     "exception": false,
     "start_time": "2021-07-07T20:11:43.382526",
     "status": "completed"
    },
    "tags": []
   },
   "outputs": [
    {
     "data": {
      "text/plain": [
       "<matplotlib.legend.Legend at 0x7f57bb1b3748>"
      ]
     },
     "execution_count": 23,
     "metadata": {},
     "output_type": "execute_result"
    },
    {
     "data": {
      "image/png": "[encoded data removed]",
      "text/plain": [
       "<Figure size 1080x720 with 1 Axes>"
      ]
     },
     "metadata": {
      "needs_background": "light"
     },
     "output_type": "display_data"
    }
   ],
   "source": [
    "plt.figure(figsize=(15,10))\n",
    "\n",
    "# Neural Network plots\n",
    "plt.plot(acc_nn.accuracies, 'r-', label = \"Training Accuracies - NN\")\n",
    "plt.plot(acc_nn.test_accuracies, 'g-', label = \"Testing Accuracies - NN\")\n",
    "\n",
    "# Logistic Regression plots\n",
    "plt.plot(acc_lr.accuracies, 'k-', label = \"Training Accuracies - LR\")\n",
    "plt.plot(acc_lr.test_accuracies, 'b-', label = \"Testing Accuracies - LR\")\n",
    "\n",
    "plt.ylim(0.8, 1)\n",
    "\n",
    "plt.legend()\n",
    "\n"
   ]
  },
  {
   "cell_type": "markdown",
   "id": "sexual-flesh",
   "metadata": {
    "papermill": {
     "duration": 0.044114,
     "end_time": "2021-07-07T20:11:43.781912",
     "exception": false,
     "start_time": "2021-07-07T20:11:43.737798",
     "status": "completed"
    },
    "tags": []
   },
   "source": [
    "### From the plot, we can observe the following:\n",
    "- Neural Network achieves higher accuracy than the Logistic Regression model.\n",
    "- This apparently, is because of overfitting, i.e. NN captures more noise than data.\n",
    "- Testing accuracy of NN drops below the Training accuracy at higher epochs. This explains the over-fitting on training data.\n",
    "- Logistic Regression gives a reliable accuracy, without the above mentioned problem.\n"
   ]
  },
  {
   "cell_type": "markdown",
   "id": "institutional-pacific",
   "metadata": {
    "papermill": {
     "duration": 0.044021,
     "end_time": "2021-07-07T20:11:43.870019",
     "exception": false,
     "start_time": "2021-07-07T20:11:43.825998",
     "status": "completed"
    },
    "tags": []
   },
   "source": [
    "### Moving till the last but one layer (excluding it).\n",
    "#### Plotting the outputs of this layer of the NN."
   ]
  },
  {
   "cell_type": "code",
   "execution_count": 24,
   "id": "economic-server",
   "metadata": {
    "execution": {
     "iopub.execute_input": "2021-07-07T20:11:43.962729Z",
     "iopub.status.busy": "2021-07-07T20:11:43.962216Z",
     "iopub.status.idle": "2021-07-07T20:11:43.973384Z",
     "shell.execute_reply": "2021-07-07T20:11:43.973806Z"
    },
    "papermill": {
     "duration": 0.059321,
     "end_time": "2021-07-07T20:11:43.973936",
     "exception": false,
     "start_time": "2021-07-07T20:11:43.914615",
     "status": "completed"
    },
    "tags": []
   },
   "outputs": [],
   "source": [
    "model_new = Model(layers[:-2])"
   ]
  },
  {
   "cell_type": "code",
   "execution_count": 25,
   "id": "varied-upgrade",
   "metadata": {
    "execution": {
     "iopub.execute_input": "2021-07-07T20:11:44.066309Z",
     "iopub.status.busy": "2021-07-07T20:11:44.065793Z",
     "iopub.status.idle": "2021-07-07T20:11:44.084096Z",
     "shell.execute_reply": "2021-07-07T20:11:44.084518Z"
    },
    "papermill": {
     "duration": 0.066623,
     "end_time": "2021-07-07T20:11:44.084654",
     "exception": false,
     "start_time": "2021-07-07T20:11:44.018031",
     "status": "completed"
    },
    "tags": []
   },
   "outputs": [],
   "source": [
    "plot_testing = model_new(testing_xdata)"
   ]
  },
  {
   "cell_type": "code",
   "execution_count": 26,
   "id": "specific-handling",
   "metadata": {
    "execution": {
     "iopub.execute_input": "2021-07-07T20:11:44.205884Z",
     "iopub.status.busy": "2021-07-07T20:11:44.205399Z",
     "iopub.status.idle": "2021-07-07T20:11:44.428792Z",
     "shell.execute_reply": "2021-07-07T20:11:44.429188Z"
    },
    "papermill": {
     "duration": 0.266155,
     "end_time": "2021-07-07T20:11:44.429336",
     "exception": false,
     "start_time": "2021-07-07T20:11:44.163181",
     "status": "completed"
    },
    "tags": []
   },
   "outputs": [
    {
     "data": {
      "text/plain": [
       "Text(0.5, 1.0, 'Outputs')"
      ]
     },
     "execution_count": 26,
     "metadata": {},
     "output_type": "execute_result"
    },
    {
     "data": {
      "image/png": "[encoded data removed]",
      "text/plain": [
       "<Figure size 576x504 with 1 Axes>"
      ]
     },
     "metadata": {
      "needs_background": "light"
     },
     "output_type": "display_data"
    }
   ],
   "source": [
    "plt.figure(figsize=(8,7))\n",
    "plt.scatter(plot_testing[:,0], plot_testing[:,1], alpha = 0.1, c = y_test.ravel());\n",
    "plt.title('Outputs')"
   ]
  },
  {
   "cell_type": "markdown",
   "id": "described-knowing",
   "metadata": {
    "papermill": {
     "duration": 0.047622,
     "end_time": "2021-07-07T20:11:44.524512",
     "exception": false,
     "start_time": "2021-07-07T20:11:44.476890",
     "status": "completed"
    },
    "tags": []
   },
   "source": [
    "### Plotting probability contours"
   ]
  },
  {
   "cell_type": "code",
   "execution_count": 27,
   "id": "needed-growing",
   "metadata": {
    "execution": {
     "iopub.execute_input": "2021-07-07T20:11:44.623536Z",
     "iopub.status.busy": "2021-07-07T20:11:44.623011Z",
     "iopub.status.idle": "2021-07-07T20:11:44.634779Z",
     "shell.execute_reply": "2021-07-07T20:11:44.634363Z"
    },
    "papermill": {
     "duration": 0.062723,
     "end_time": "2021-07-07T20:11:44.634896",
     "exception": false,
     "start_time": "2021-07-07T20:11:44.572173",
     "status": "completed"
    },
    "tags": []
   },
   "outputs": [],
   "source": [
    "model_prob = Model(layers[-2:]) "
   ]
  },
  {
   "cell_type": "code",
   "execution_count": 28,
   "id": "introductory-enforcement",
   "metadata": {
    "execution": {
     "iopub.execute_input": "2021-07-07T20:11:44.735239Z",
     "iopub.status.busy": "2021-07-07T20:11:44.734731Z",
     "iopub.status.idle": "2021-07-07T20:11:44.748557Z",
     "shell.execute_reply": "2021-07-07T20:11:44.748937Z"
    },
    "papermill": {
     "duration": 0.066505,
     "end_time": "2021-07-07T20:11:44.749074",
     "exception": false,
     "start_time": "2021-07-07T20:11:44.682569",
     "status": "completed"
    },
    "tags": []
   },
   "outputs": [],
   "source": [
    "# Adjust the x and y ranges according to the above generated plot.\n",
    "x_range = np.linspace(-4, 1, 100) \n",
    "y_range = np.linspace(-6, 6, 100) \n",
    "x_grid, y_grid = np.meshgrid(x_range, y_range) # x_grid and y_grig are of size 100 X 100\n",
    "\n",
    "# converting x_grid and y_grid to continuous arrays\n",
    "x_grid_flat = np.ravel(x_grid)\n",
    "y_grid_flat = np.ravel(y_grid)\n",
    "\n",
    "# The last layer of the current model takes two columns as input. Hence transpose of np.vstack() is required.\n",
    "X = np.vstack((x_grid_flat, y_grid_flat)).T\n",
    "\n",
    "# x_grid and y_grid are of size 100 x 100\n",
    "probability_contour = model_prob(X).reshape(100,100) "
   ]
  },
  {
   "cell_type": "code",
   "execution_count": 29,
   "id": "understood-landing",
   "metadata": {
    "execution": {
     "iopub.execute_input": "2021-07-07T20:11:44.854985Z",
     "iopub.status.busy": "2021-07-07T20:11:44.854503Z",
     "iopub.status.idle": "2021-07-07T20:11:45.074469Z",
     "shell.execute_reply": "2021-07-07T20:11:45.074834Z"
    },
    "papermill": {
     "duration": 0.276156,
     "end_time": "2021-07-07T20:11:45.074962",
     "exception": false,
     "start_time": "2021-07-07T20:11:44.798806",
     "status": "completed"
    },
    "tags": []
   },
   "outputs": [
    {
     "data": {
      "image/png": "[encoded data removed]",
      "text/plain": [
       "<Figure size 720x648 with 1 Axes>"
      ]
     },
     "metadata": {
      "needs_background": "light"
     },
     "output_type": "display_data"
    }
   ],
   "source": [
    "plt.figure(figsize=(10,9))\n",
    "plt.scatter(plot_testing[:,0], plot_testing[:,1], alpha = 0.1, c = y_test.ravel())\n",
    "contours = plt.contour(x_grid,y_grid,probability_contour)\n",
    "plt.title('Probability Contours')\n",
    "plt.clabel(contours, inline = True );"
   ]
  }
 ],
 "metadata": {
  "kernelspec": {
   "display_name": "Python 3",
   "language": "python",
   "name": "python3"
  },
  "language_info": {
   "codemirror_mode": {
    "name": "ipython",
    "version": 3
   },
   "file_extension": ".py",
   "mimetype": "text/x-python",
   "name": "python",
   "nbconvert_exporter": "python",
   "pygments_lexer": "ipython3",
   "version": "3.6.13"
  },
  "papermill": {
   "duration": 414.079862,
   "end_time": "2021-07-07T20:11:45.528217",
   "environment_variables": {},
   "exception": null,
   "input_path": "2020-08-11-NeuralNetwork.ipynb",
   "output_path": "2020-08-11-NeuralNetwork.ipynb",
   "parameters": {},
   "start_time": "2021-07-07T20:04:51.448355",
   "version": "2.1.2"
  }
 },
 "nbformat": 4,
 "nbformat_minor": 5
}