{
 "cells": [
  {
   "cell_type": "markdown",
   "metadata": {
    "papermill": {
     "duration": 0.030661,
     "end_time": "2020-09-16T20:04:30.183492",
     "exception": false,
     "start_time": "2020-09-16T20:04:30.152831",
     "status": "completed"
    },
    "tags": []
   },
   "source": [
    "# \"A Basic Neural Network: Differentiate Hand-Written Digits\"\n",
    "\n",
    "- badges: true\n",
    "- author: Akshith Sriram"
   ]
  },
  {
   "cell_type": "markdown",
   "metadata": {
    "papermill": {
     "duration": 0.025505,
     "end_time": "2020-09-16T20:04:30.235382",
     "exception": false,
     "start_time": "2020-09-16T20:04:30.209877",
     "status": "completed"
    },
    "tags": []
   },
   "source": [
    "### Key Objectives:\n",
    "- Building a neural network that differentiates two hand-written digits 3 and 8.\n",
    "- Comparing the results of this Neural Network (NN) to that of a Logistic Regression (LR) model.\n",
    "\n",
    "### Requirements:\n",
    "- 'Kudzu' : A neural network library that was designed during our course by [Univ.AI](www.univ.ai). \n",
    "- MNIST Database\n",
    "\n",
    "If MNIST is not installed, use the command `!pip install mnist` given below.\n",
    "It can be run both from the command line and Jupyter Notebook."
   ]
  },
  {
   "cell_type": "code",
   "execution_count": 1,
   "metadata": {
    "execution": {
     "iopub.execute_input": "2020-09-16T20:04:30.291842Z",
     "iopub.status.busy": "2020-09-16T20:04:30.291210Z",
     "iopub.status.idle": "2020-09-16T20:04:31.723828Z",
     "shell.execute_reply": "2020-09-16T20:04:31.722474Z"
    },
    "papermill": {
     "duration": 1.463102,
     "end_time": "2020-09-16T20:04:31.723997",
     "exception": false,
     "start_time": "2020-09-16T20:04:30.260895",
     "status": "completed"
    },
    "tags": []
   },
   "outputs": [
    {
     "name": "stdout",
     "output_type": "stream",
     "text": [
      "Collecting mnist\r\n"
     ]
    },
    {
     "name": "stdout",
     "output_type": "stream",
     "text": [
      "  Downloading mnist-0.2.2-py2.py3-none-any.whl (3.5 kB)\r\n"
     ]
    },
    {
     "name": "stdout",
     "output_type": "stream",
     "text": [
      "Requirement already satisfied: numpy in /opt/hostedtoolcache/Python/3.6.12/x64/lib/python3.6/site-packages (from mnist) (1.19.2)\r\n"
     ]
    },
    {
     "name": "stdout",
     "output_type": "stream",
     "text": [
      "Installing collected packages: mnist\r\n"
     ]
    },
    {
     "name": "stdout",
     "output_type": "stream",
     "text": [
      "Successfully installed mnist-0.2.2\r\n"
     ]
    }
   ],
   "source": [
    "!pip install mnist "
   ]
  },
  {
   "cell_type": "markdown",
   "metadata": {
    "papermill": {
     "duration": 0.027215,
     "end_time": "2020-09-16T20:04:31.779297",
     "exception": false,
     "start_time": "2020-09-16T20:04:31.752082",
     "status": "completed"
    },
    "tags": []
   },
   "source": [
    "#### Importing necessary libraries"
   ]
  },
  {
   "cell_type": "code",
   "execution_count": 2,
   "metadata": {
    "execution": {
     "iopub.execute_input": "2020-09-16T20:04:31.842273Z",
     "iopub.status.busy": "2020-09-16T20:04:31.841648Z",
     "iopub.status.idle": "2020-09-16T20:04:32.442164Z",
     "shell.execute_reply": "2020-09-16T20:04:32.440619Z"
    },
    "papermill": {
     "duration": 0.635636,
     "end_time": "2020-09-16T20:04:32.442348",
     "exception": false,
     "start_time": "2020-09-16T20:04:31.806712",
     "status": "completed"
    },
    "tags": []
   },
   "outputs": [],
   "source": [
    "%load_ext autoreload\n",
    "%autoreload 2\n",
    "\n",
    "%matplotlib inline\n",
    "import matplotlib.pyplot as plt\n",
    "\n",
    "import numpy as np\n",
    "import pandas as pd"
   ]
  },
  {
   "cell_type": "markdown",
   "metadata": {
    "papermill": {
     "duration": 0.044285,
     "end_time": "2020-09-16T20:04:32.520367",
     "exception": false,
     "start_time": "2020-09-16T20:04:32.476082",
     "status": "completed"
    },
    "tags": []
   },
   "source": [
    "### Preparing the Data"
   ]
  },
  {
   "cell_type": "code",
   "execution_count": 3,
   "metadata": {
    "execution": {
     "iopub.execute_input": "2020-09-16T20:04:32.603516Z",
     "iopub.status.busy": "2020-09-16T20:04:32.602900Z",
     "iopub.status.idle": "2020-09-16T20:04:32.617094Z",
     "shell.execute_reply": "2020-09-16T20:04:32.616568Z"
    },
    "papermill": {
     "duration": 0.050747,
     "end_time": "2020-09-16T20:04:32.617230",
     "exception": false,
     "start_time": "2020-09-16T20:04:32.566483",
     "status": "completed"
    },
    "tags": []
   },
   "outputs": [],
   "source": [
    "import mnist"
   ]
  },
  {
   "cell_type": "code",
   "execution_count": 4,
   "metadata": {
    "execution": {
     "iopub.execute_input": "2020-09-16T20:04:32.676696Z",
     "iopub.status.busy": "2020-09-16T20:04:32.676097Z",
     "iopub.status.idle": "2020-09-16T20:04:33.966081Z",
     "shell.execute_reply": "2020-09-16T20:04:33.965194Z"
    },
    "papermill": {
     "duration": 1.321198,
     "end_time": "2020-09-16T20:04:33.966233",
     "exception": false,
     "start_time": "2020-09-16T20:04:32.645035",
     "status": "completed"
    },
    "tags": []
   },
   "outputs": [],
   "source": [
    "train_images = mnist.train_images()\n",
    "train_labels = mnist.train_labels()"
   ]
  },
  {
   "cell_type": "code",
   "execution_count": 5,
   "metadata": {
    "execution": {
     "iopub.execute_input": "2020-09-16T20:04:34.028054Z",
     "iopub.status.busy": "2020-09-16T20:04:34.025325Z",
     "iopub.status.idle": "2020-09-16T20:04:34.041877Z",
     "shell.execute_reply": "2020-09-16T20:04:34.041371Z"
    },
    "papermill": {
     "duration": 0.048145,
     "end_time": "2020-09-16T20:04:34.042020",
     "exception": false,
     "start_time": "2020-09-16T20:04:33.993875",
     "status": "completed"
    },
    "tags": []
   },
   "outputs": [
    {
     "data": {
      "text/plain": [
       "((60000, 28, 28), (60000,))"
      ]
     },
     "execution_count": 5,
     "metadata": {},
     "output_type": "execute_result"
    }
   ],
   "source": [
    "train_images.shape, train_labels.shape"
   ]
  },
  {
   "cell_type": "code",
   "execution_count": 6,
   "metadata": {
    "execution": {
     "iopub.execute_input": "2020-09-16T20:04:34.100985Z",
     "iopub.status.busy": "2020-09-16T20:04:34.100285Z",
     "iopub.status.idle": "2020-09-16T20:04:34.355755Z",
     "shell.execute_reply": "2020-09-16T20:04:34.356245Z"
    },
    "papermill": {
     "duration": 0.287194,
     "end_time": "2020-09-16T20:04:34.356414",
     "exception": false,
     "start_time": "2020-09-16T20:04:34.069220",
     "status": "completed"
    },
    "tags": []
   },
   "outputs": [],
   "source": [
    "test_images = mnist.test_images()\n",
    "test_labels = mnist.test_labels()"
   ]
  },
  {
   "cell_type": "code",
   "execution_count": 7,
   "metadata": {
    "execution": {
     "iopub.execute_input": "2020-09-16T20:04:34.417431Z",
     "iopub.status.busy": "2020-09-16T20:04:34.416804Z",
     "iopub.status.idle": "2020-09-16T20:04:34.445355Z",
     "shell.execute_reply": "2020-09-16T20:04:34.444831Z"
    },
    "papermill": {
     "duration": 0.061232,
     "end_time": "2020-09-16T20:04:34.445495",
     "exception": false,
     "start_time": "2020-09-16T20:04:34.384263",
     "status": "completed"
    },
    "tags": []
   },
   "outputs": [
    {
     "data": {
      "text/plain": [
       "((10000, 28, 28), (10000,))"
      ]
     },
     "execution_count": 7,
     "metadata": {},
     "output_type": "execute_result"
    }
   ],
   "source": [
    "test_images.shape, test_labels.shape"
   ]
  },
  {
   "cell_type": "code",
   "execution_count": 8,
   "metadata": {
    "execution": {
     "iopub.execute_input": "2020-09-16T20:04:34.505877Z",
     "iopub.status.busy": "2020-09-16T20:04:34.505263Z",
     "iopub.status.idle": "2020-09-16T20:04:34.671762Z",
     "shell.execute_reply": "2020-09-16T20:04:34.671145Z"
    },
    "papermill": {
     "duration": 0.19878,
     "end_time": "2020-09-16T20:04:34.671923",
     "exception": false,
     "start_time": "2020-09-16T20:04:34.473143",
     "status": "completed"
    },
    "tags": []
   },
   "outputs": [
    {
     "name": "stdout",
     "output_type": "stream",
     "text": [
      "2\n"
     ]
    },
    {
     "data": {
      "text/plain": [
       "<matplotlib.image.AxesImage at 0x7fc9877bf7f0>"
      ]
     },
     "execution_count": 8,
     "metadata": {},
     "output_type": "execute_result"
    },
    {
     "data": {
      "image/png": "[encoded data removed]",
      "text/plain": [
       "<Figure size 432x288 with 1 Axes>"
      ]
     },
     "metadata": {
      "needs_background": "light"
     },
     "output_type": "display_data"
    }
   ],
   "source": [
    "image_index = 7776 # You may select anything up to 60,000\n",
    "print(train_labels[image_index]) \n",
    "plt.imshow(train_images[image_index], cmap='Greys')"
   ]
  },
  {
   "cell_type": "markdown",
   "metadata": {
    "papermill": {
     "duration": 0.03309,
     "end_time": "2020-09-16T20:04:34.738150",
     "exception": false,
     "start_time": "2020-09-16T20:04:34.705060",
     "status": "completed"
    },
    "tags": []
   },
   "source": [
    "## Filter data to get 3 and 8 out"
   ]
  },
  {
   "cell_type": "code",
   "execution_count": 9,
   "metadata": {
    "execution": {
     "iopub.execute_input": "2020-09-16T20:04:34.804261Z",
     "iopub.status.busy": "2020-09-16T20:04:34.803366Z",
     "iopub.status.idle": "2020-09-16T20:04:34.821300Z",
     "shell.execute_reply": "2020-09-16T20:04:34.821801Z"
    },
    "papermill": {
     "duration": 0.053193,
     "end_time": "2020-09-16T20:04:34.821964",
     "exception": false,
     "start_time": "2020-09-16T20:04:34.768771",
     "status": "completed"
    },
    "tags": []
   },
   "outputs": [],
   "source": [
    "train_filter = np.where((train_labels == 3 ) | (train_labels == 8))\n",
    "test_filter = np.where((test_labels == 3) | (test_labels == 8))\n",
    "X_train, y_train = train_images[train_filter], train_labels[train_filter]\n",
    "X_test, y_test = test_images[test_filter], test_labels[test_filter]"
   ]
  },
  {
   "cell_type": "markdown",
   "metadata": {
    "papermill": {
     "duration": 0.029923,
     "end_time": "2020-09-16T20:04:34.881856",
     "exception": false,
     "start_time": "2020-09-16T20:04:34.851933",
     "status": "completed"
    },
    "tags": []
   },
   "source": [
    "We normalize the pixel values in the 0 to 1 range"
   ]
  },
  {
   "cell_type": "code",
   "execution_count": 10,
   "metadata": {
    "execution": {
     "iopub.execute_input": "2020-09-16T20:04:34.943707Z",
     "iopub.status.busy": "2020-09-16T20:04:34.943082Z",
     "iopub.status.idle": "2020-09-16T20:04:34.992242Z",
     "shell.execute_reply": "2020-09-16T20:04:34.991550Z"
    },
    "papermill": {
     "duration": 0.082118,
     "end_time": "2020-09-16T20:04:34.992438",
     "exception": false,
     "start_time": "2020-09-16T20:04:34.910320",
     "status": "completed"
    },
    "tags": []
   },
   "outputs": [],
   "source": [
    "X_train = X_train/255.\n",
    "X_test = X_test/255."
   ]
  },
  {
   "cell_type": "markdown",
   "metadata": {
    "papermill": {
     "duration": 0.032537,
     "end_time": "2020-09-16T20:04:35.057033",
     "exception": false,
     "start_time": "2020-09-16T20:04:35.024496",
     "status": "completed"
    },
    "tags": []
   },
   "source": [
    "Setup the labels as 1 (when the digit is 3) and 0 (when the digit is 8)"
   ]
  },
  {
   "cell_type": "code",
   "execution_count": 11,
   "metadata": {
    "execution": {
     "iopub.execute_input": "2020-09-16T20:04:35.123672Z",
     "iopub.status.busy": "2020-09-16T20:04:35.123068Z",
     "iopub.status.idle": "2020-09-16T20:04:35.137009Z",
     "shell.execute_reply": "2020-09-16T20:04:35.136420Z"
    },
    "papermill": {
     "duration": 0.049229,
     "end_time": "2020-09-16T20:04:35.137150",
     "exception": false,
     "start_time": "2020-09-16T20:04:35.087921",
     "status": "completed"
    },
    "tags": []
   },
   "outputs": [],
   "source": [
    "y_train = 1*(y_train==3)\n",
    "y_test = 1*(y_test==3)"
   ]
  },
  {
   "cell_type": "code",
   "execution_count": 12,
   "metadata": {
    "execution": {
     "iopub.execute_input": "2020-09-16T20:04:35.204237Z",
     "iopub.status.busy": "2020-09-16T20:04:35.203555Z",
     "iopub.status.idle": "2020-09-16T20:04:35.219026Z",
     "shell.execute_reply": "2020-09-16T20:04:35.218496Z"
    },
    "papermill": {
     "duration": 0.050569,
     "end_time": "2020-09-16T20:04:35.219248",
     "exception": false,
     "start_time": "2020-09-16T20:04:35.168679",
     "status": "completed"
    },
    "tags": []
   },
   "outputs": [
    {
     "data": {
      "text/plain": [
       "((11982, 28, 28), (1984, 28, 28))"
      ]
     },
     "execution_count": 12,
     "metadata": {},
     "output_type": "execute_result"
    }
   ],
   "source": [
    "X_train.shape, X_test.shape"
   ]
  },
  {
   "cell_type": "markdown",
   "metadata": {
    "papermill": {
     "duration": 0.031716,
     "end_time": "2020-09-16T20:04:35.283838",
     "exception": false,
     "start_time": "2020-09-16T20:04:35.252122",
     "status": "completed"
    },
    "tags": []
   },
   "source": [
    "### Reshape the input data to create a linear array"
   ]
  },
  {
   "cell_type": "code",
   "execution_count": 13,
   "metadata": {
    "execution": {
     "iopub.execute_input": "2020-09-16T20:04:35.353619Z",
     "iopub.status.busy": "2020-09-16T20:04:35.353017Z",
     "iopub.status.idle": "2020-09-16T20:04:35.368255Z",
     "shell.execute_reply": "2020-09-16T20:04:35.367741Z"
    },
    "papermill": {
     "duration": 0.053114,
     "end_time": "2020-09-16T20:04:35.368392",
     "exception": false,
     "start_time": "2020-09-16T20:04:35.315278",
     "status": "completed"
    },
    "tags": []
   },
   "outputs": [
    {
     "data": {
      "text/plain": [
       "((11982, 784), (1984, 784))"
      ]
     },
     "execution_count": 13,
     "metadata": {},
     "output_type": "execute_result"
    }
   ],
   "source": [
    "X_train = X_train.reshape(X_train.shape[0], -1)\n",
    "X_test = X_test.reshape(X_test.shape[0], -1)\n",
    "X_train.shape, X_test.shape"
   ]
  },
  {
   "cell_type": "markdown",
   "metadata": {
    "papermill": {
     "duration": 0.033804,
     "end_time": "2020-09-16T20:04:35.433461",
     "exception": false,
     "start_time": "2020-09-16T20:04:35.399657",
     "status": "completed"
    },
    "tags": []
   },
   "source": [
    "### Importing appropriate functions from 'Kudzu'"
   ]
  },
  {
   "cell_type": "code",
   "execution_count": 14,
   "metadata": {
    "execution": {
     "iopub.execute_input": "2020-09-16T20:04:35.502558Z",
     "iopub.status.busy": "2020-09-16T20:04:35.501929Z",
     "iopub.status.idle": "2020-09-16T20:04:35.523757Z",
     "shell.execute_reply": "2020-09-16T20:04:35.523233Z"
    },
    "papermill": {
     "duration": 0.057358,
     "end_time": "2020-09-16T20:04:35.523900",
     "exception": false,
     "start_time": "2020-09-16T20:04:35.466542",
     "status": "completed"
    },
    "tags": []
   },
   "outputs": [],
   "source": [
    "from kudzu.layer import Sigmoid\n",
    "from kudzu.layer import Relu\n",
    "from kudzu.layer import Affine, Sigmoid\n",
    "\n",
    "from kudzu.model import Model\n",
    "from kudzu.train import Learner\n",
    "from kudzu.optim import GD\n",
    "from kudzu.data import Data, Dataloader, Sampler\n",
    "\n",
    "from kudzu.callbacks import AccCallback\n",
    "from kudzu.callbacks import ClfCallback\n",
    "\n",
    "from kudzu.loss import MSE"
   ]
  },
  {
   "cell_type": "markdown",
   "metadata": {
    "papermill": {
     "duration": 0.031693,
     "end_time": "2020-09-16T20:04:35.586325",
     "exception": false,
     "start_time": "2020-09-16T20:04:35.554632",
     "status": "completed"
    },
    "tags": []
   },
   "source": [
    "### Let us create a `Config` class, to store important parameters. \n",
    "This class essentially plays the role of a dictionary."
   ]
  },
  {
   "cell_type": "code",
   "execution_count": 15,
   "metadata": {
    "execution": {
     "iopub.execute_input": "2020-09-16T20:04:35.652385Z",
     "iopub.status.busy": "2020-09-16T20:04:35.651782Z",
     "iopub.status.idle": "2020-09-16T20:04:35.665352Z",
     "shell.execute_reply": "2020-09-16T20:04:35.664825Z"
    },
    "papermill": {
     "duration": 0.04837,
     "end_time": "2020-09-16T20:04:35.665499",
     "exception": false,
     "start_time": "2020-09-16T20:04:35.617129",
     "status": "completed"
    },
    "tags": []
   },
   "outputs": [],
   "source": [
    "class Config:\n",
    "    pass\n",
    "config = Config()\n",
    "config.lr = 0.001\n",
    "config.num_epochs = 251\n",
    "config.bs = 50"
   ]
  },
  {
   "cell_type": "markdown",
   "metadata": {
    "papermill": {
     "duration": 0.030437,
     "end_time": "2020-09-16T20:04:35.727367",
     "exception": false,
     "start_time": "2020-09-16T20:04:35.696930",
     "status": "completed"
    },
    "tags": []
   },
   "source": [
    "### Initializing data to the variables"
   ]
  },
  {
   "cell_type": "code",
   "execution_count": 16,
   "metadata": {
    "execution": {
     "iopub.execute_input": "2020-09-16T20:04:35.801983Z",
     "iopub.status.busy": "2020-09-16T20:04:35.801324Z",
     "iopub.status.idle": "2020-09-16T20:04:35.815258Z",
     "shell.execute_reply": "2020-09-16T20:04:35.815782Z"
    },
    "papermill": {
     "duration": 0.0574,
     "end_time": "2020-09-16T20:04:35.815945",
     "exception": false,
     "start_time": "2020-09-16T20:04:35.758545",
     "status": "completed"
    },
    "tags": []
   },
   "outputs": [],
   "source": [
    "data = Data(X_train, y_train.reshape(-1,1))\n",
    "sampler = Sampler(data, config.bs, shuffle=True)\n",
    "\n",
    "dl = Dataloader(data, sampler)\n",
    "\n",
    "opt = GD(config.lr)\n",
    "loss = MSE()"
   ]
  },
  {
   "cell_type": "code",
   "execution_count": 17,
   "metadata": {
    "execution": {
     "iopub.execute_input": "2020-09-16T20:04:35.901388Z",
     "iopub.status.busy": "2020-09-16T20:04:35.900675Z",
     "iopub.status.idle": "2020-09-16T20:04:35.913600Z",
     "shell.execute_reply": "2020-09-16T20:04:35.912946Z"
    },
    "papermill": {
     "duration": 0.063159,
     "end_time": "2020-09-16T20:04:35.913743",
     "exception": false,
     "start_time": "2020-09-16T20:04:35.850584",
     "status": "completed"
    },
    "tags": []
   },
   "outputs": [],
   "source": [
    "training_xdata = X_train\n",
    "testing_xdata = X_test\n",
    "training_ydata = y_train.reshape(-1,1)\n",
    "testing_ydata = y_test.reshape(-1,1)"
   ]
  },
  {
   "cell_type": "markdown",
   "metadata": {
    "papermill": {
     "duration": 0.029328,
     "end_time": "2020-09-16T20:04:35.972974",
     "exception": false,
     "start_time": "2020-09-16T20:04:35.943646",
     "status": "completed"
    },
    "tags": []
   },
   "source": [
    "### Running Models with the Training data\n",
    "Details about the network layers:\n",
    "- A first affine layer has 784 inputs and does 100 affine transforms. These are followed by a Relu\n",
    "- A second affine layer has 100 inputs from the 100 activations of the past layer, and does 100 affine transforms. These are followed by a Relu\n",
    "- A third affine layer has 100 activations and does 2 affine transformations to create an embedding for visualization. There is no non-linearity here.\n",
    "- A final \"logistic regression\" which has an affine transform from 2 inputs to 1 output, which is squeezed through a sigmoid.\n",
    "\n",
    "Help taken from Anshuman's Notebook."
   ]
  },
  {
   "cell_type": "code",
   "execution_count": 18,
   "metadata": {
    "execution": {
     "iopub.execute_input": "2020-09-16T20:04:36.037106Z",
     "iopub.status.busy": "2020-09-16T20:04:36.036181Z",
     "iopub.status.idle": "2020-09-16T20:04:36.054474Z",
     "shell.execute_reply": "2020-09-16T20:04:36.053933Z"
    },
    "papermill": {
     "duration": 0.052351,
     "end_time": "2020-09-16T20:04:36.054618",
     "exception": false,
     "start_time": "2020-09-16T20:04:36.002267",
     "status": "completed"
    },
    "tags": []
   },
   "outputs": [],
   "source": [
    "# layers for the Neural Network\n",
    "layers = [Affine(\"first\", 784, 100), Relu(\"first\"), Affine(\"second\", 100, 100), Relu(\"second\"), Affine(\"third\", 100, 2), Affine(\"final\", 2, 1), Sigmoid(\"final\")]\n",
    "model_nn = Model(layers)\n",
    "\n",
    "# layers for the Logistic Regression\n",
    "layers_lr = [Affine(\"logits\", 784, 1), Sigmoid(\"sigmoid\")]\n",
    "model_lr = Model(layers_lr)"
   ]
  },
  {
   "cell_type": "code",
   "execution_count": 19,
   "metadata": {
    "execution": {
     "iopub.execute_input": "2020-09-16T20:04:36.123448Z",
     "iopub.status.busy": "2020-09-16T20:04:36.122768Z",
     "iopub.status.idle": "2020-09-16T20:04:36.137160Z",
     "shell.execute_reply": "2020-09-16T20:04:36.136655Z"
    },
    "papermill": {
     "duration": 0.051954,
     "end_time": "2020-09-16T20:04:36.137300",
     "exception": false,
     "start_time": "2020-09-16T20:04:36.085346",
     "status": "completed"
    },
    "tags": []
   },
   "outputs": [],
   "source": [
    "# suffix _nn stands for Neural Network.\n",
    "learner_nn = Learner(loss, model_nn, opt, config.num_epochs)\n",
    "acc_nn = ClfCallback(learner_nn, config.bs, training_xdata , testing_xdata, training_ydata, testing_ydata)\n",
    "learner_nn.set_callbacks([acc_nn])"
   ]
  },
  {
   "cell_type": "code",
   "execution_count": 20,
   "metadata": {
    "execution": {
     "iopub.execute_input": "2020-09-16T20:04:36.202903Z",
     "iopub.status.busy": "2020-09-16T20:04:36.202299Z",
     "iopub.status.idle": "2020-09-16T20:06:09.760894Z",
     "shell.execute_reply": "2020-09-16T20:06:09.761454Z"
    },
    "papermill": {
     "duration": 93.593306,
     "end_time": "2020-09-16T20:06:09.761612",
     "exception": false,
     "start_time": "2020-09-16T20:04:36.168306",
     "status": "completed"
    },
    "tags": []
   },
   "outputs": [
    {
     "name": "stdout",
     "output_type": "stream",
     "text": [
      "====== Neural Network ======\n"
     ]
    },
    {
     "name": "stdout",
     "output_type": "stream",
     "text": [
      "Epoch 0, Loss 0.2389\n",
      "Training Accuracy: 0.6566, Testing Accuracy: 0.6542\n",
      "\n"
     ]
    },
    {
     "name": "stdout",
     "output_type": "stream",
     "text": [
      "Epoch 10, Loss 0.1126\n",
      "Training Accuracy: 0.9008, Testing Accuracy: 0.9062\n",
      "\n"
     ]
    },
    {
     "name": "stdout",
     "output_type": "stream",
     "text": [
      "Epoch 20, Loss 0.0646\n",
      "Training Accuracy: 0.9347, Testing Accuracy: 0.9395\n",
      "\n"
     ]
    },
    {
     "name": "stdout",
     "output_type": "stream",
     "text": [
      "Epoch 30, Loss 0.049\n",
      "Training Accuracy: 0.9451, Testing Accuracy: 0.9531\n",
      "\n"
     ]
    },
    {
     "name": "stdout",
     "output_type": "stream",
     "text": [
      "Epoch 40, Loss 0.0417\n",
      "Training Accuracy: 0.9517, Testing Accuracy: 0.9622\n",
      "\n"
     ]
    },
    {
     "name": "stdout",
     "output_type": "stream",
     "text": [
      "Epoch 50, Loss 0.0375\n",
      "Training Accuracy: 0.9565, Testing Accuracy: 0.9657\n",
      "\n"
     ]
    },
    {
     "name": "stdout",
     "output_type": "stream",
     "text": [
      "Epoch 60, Loss 0.0347\n",
      "Training Accuracy: 0.9596, Testing Accuracy: 0.9677\n",
      "\n"
     ]
    },
    {
     "name": "stdout",
     "output_type": "stream",
     "text": [
      "Epoch 70, Loss 0.0327\n",
      "Training Accuracy: 0.9614, Testing Accuracy: 0.9682\n",
      "\n"
     ]
    },
    {
     "name": "stdout",
     "output_type": "stream",
     "text": [
      "Epoch 80, Loss 0.0311\n",
      "Training Accuracy: 0.9634, Testing Accuracy: 0.9693\n",
      "\n"
     ]
    },
    {
     "name": "stdout",
     "output_type": "stream",
     "text": [
      "Epoch 90, Loss 0.0298\n",
      "Training Accuracy: 0.9649, Testing Accuracy: 0.9698\n",
      "\n"
     ]
    },
    {
     "name": "stdout",
     "output_type": "stream",
     "text": [
      "Epoch 100, Loss 0.0287\n",
      "Training Accuracy: 0.9664, Testing Accuracy: 0.9703\n",
      "\n"
     ]
    },
    {
     "name": "stdout",
     "output_type": "stream",
     "text": [
      "Epoch 110, Loss 0.0278\n",
      "Training Accuracy: 0.9675, Testing Accuracy: 0.9703\n",
      "\n"
     ]
    },
    {
     "name": "stdout",
     "output_type": "stream",
     "text": [
      "Epoch 120, Loss 0.0269\n",
      "Training Accuracy: 0.9693, Testing Accuracy: 0.9698\n",
      "\n"
     ]
    },
    {
     "name": "stdout",
     "output_type": "stream",
     "text": [
      "Epoch 130, Loss 0.0262\n",
      "Training Accuracy: 0.9706, Testing Accuracy: 0.9698\n",
      "\n"
     ]
    },
    {
     "name": "stdout",
     "output_type": "stream",
     "text": [
      "Epoch 140, Loss 0.0255\n",
      "Training Accuracy: 0.9715, Testing Accuracy: 0.9698\n",
      "\n"
     ]
    },
    {
     "name": "stdout",
     "output_type": "stream",
     "text": [
      "Epoch 150, Loss 0.0249\n",
      "Training Accuracy: 0.9720, Testing Accuracy: 0.9703\n",
      "\n"
     ]
    },
    {
     "name": "stdout",
     "output_type": "stream",
     "text": [
      "Epoch 160, Loss 0.0243\n",
      "Training Accuracy: 0.9733, Testing Accuracy: 0.9703\n",
      "\n"
     ]
    },
    {
     "name": "stdout",
     "output_type": "stream",
     "text": [
      "Epoch 170, Loss 0.0238\n",
      "Training Accuracy: 0.9737, Testing Accuracy: 0.9718\n",
      "\n"
     ]
    },
    {
     "name": "stdout",
     "output_type": "stream",
     "text": [
      "Epoch 180, Loss 0.0233\n",
      "Training Accuracy: 0.9741, Testing Accuracy: 0.9718\n",
      "\n"
     ]
    },
    {
     "name": "stdout",
     "output_type": "stream",
     "text": [
      "Epoch 190, Loss 0.0228\n",
      "Training Accuracy: 0.9745, Testing Accuracy: 0.9723\n",
      "\n"
     ]
    },
    {
     "name": "stdout",
     "output_type": "stream",
     "text": [
      "Epoch 200, Loss 0.0224\n",
      "Training Accuracy: 0.9751, Testing Accuracy: 0.9728\n",
      "\n"
     ]
    },
    {
     "name": "stdout",
     "output_type": "stream",
     "text": [
      "Epoch 210, Loss 0.0219\n",
      "Training Accuracy: 0.9757, Testing Accuracy: 0.9733\n",
      "\n"
     ]
    },
    {
     "name": "stdout",
     "output_type": "stream",
     "text": [
      "Epoch 220, Loss 0.0215\n",
      "Training Accuracy: 0.9758, Testing Accuracy: 0.9738\n",
      "\n"
     ]
    },
    {
     "name": "stdout",
     "output_type": "stream",
     "text": [
      "Epoch 230, Loss 0.0212\n",
      "Training Accuracy: 0.9761, Testing Accuracy: 0.9733\n",
      "\n"
     ]
    },
    {
     "name": "stdout",
     "output_type": "stream",
     "text": [
      "Epoch 240, Loss 0.0208\n",
      "Training Accuracy: 0.9767, Testing Accuracy: 0.9733\n",
      "\n"
     ]
    },
    {
     "name": "stdout",
     "output_type": "stream",
     "text": [
      "Epoch 250, Loss 0.0204\n",
      "Training Accuracy: 0.9769, Testing Accuracy: 0.9733\n",
      "\n"
     ]
    },
    {
     "data": {
      "text/plain": [
       "0.020244734936212202"
      ]
     },
     "execution_count": 20,
     "metadata": {},
     "output_type": "execute_result"
    }
   ],
   "source": [
    "print(\"====== Neural Network ======\")\n",
    "learner_nn.train_loop(dl)"
   ]
  },
  {
   "cell_type": "markdown",
   "metadata": {
    "papermill": {
     "duration": 0.047151,
     "end_time": "2020-09-16T20:06:09.846655",
     "exception": false,
     "start_time": "2020-09-16T20:06:09.799504",
     "status": "completed"
    },
    "tags": []
   },
   "source": [
    "### Logistic Regression based Implementation."
   ]
  },
  {
   "cell_type": "code",
   "execution_count": 21,
   "metadata": {
    "execution": {
     "iopub.execute_input": "2020-09-16T20:06:09.927277Z",
     "iopub.status.busy": "2020-09-16T20:06:09.926626Z",
     "iopub.status.idle": "2020-09-16T20:06:09.939151Z",
     "shell.execute_reply": "2020-09-16T20:06:09.939611Z"
    },
    "papermill": {
     "duration": 0.055889,
     "end_time": "2020-09-16T20:06:09.939784",
     "exception": false,
     "start_time": "2020-09-16T20:06:09.883895",
     "status": "completed"
    },
    "tags": []
   },
   "outputs": [],
   "source": [
    "learner_lr = Learner(loss, model_lr, opt, config.num_epochs)\n",
    "acc_lr = ClfCallback(learner_lr, config.bs, training_xdata , testing_xdata, training_ydata, testing_ydata)\n",
    "learner_lr.set_callbacks([acc_lr])"
   ]
  },
  {
   "cell_type": "code",
   "execution_count": 22,
   "metadata": {
    "execution": {
     "iopub.execute_input": "2020-09-16T20:06:10.020802Z",
     "iopub.status.busy": "2020-09-16T20:06:10.020151Z",
     "iopub.status.idle": "2020-09-16T20:06:28.765234Z",
     "shell.execute_reply": "2020-09-16T20:06:28.766026Z"
    },
    "papermill": {
     "duration": 18.787668,
     "end_time": "2020-09-16T20:06:28.766206",
     "exception": false,
     "start_time": "2020-09-16T20:06:09.978538",
     "status": "completed"
    },
    "tags": []
   },
   "outputs": [
    {
     "name": "stdout",
     "output_type": "stream",
     "text": [
      "====== Logistic Regression ======\n",
      "Epoch 0, Loss 0.2663\n",
      "Training Accuracy: 0.5885, Testing Accuracy: 0.6008\n",
      "\n"
     ]
    },
    {
     "name": "stdout",
     "output_type": "stream",
     "text": [
      "Epoch 10, Loss 0.1042\n",
      "Training Accuracy: 0.9117, Testing Accuracy: 0.9254\n",
      "\n"
     ]
    },
    {
     "name": "stdout",
     "output_type": "stream",
     "text": [
      "Epoch 20, Loss 0.0798\n",
      "Training Accuracy: 0.9276, Testing Accuracy: 0.9395\n",
      "\n"
     ]
    },
    {
     "name": "stdout",
     "output_type": "stream",
     "text": [
      "Epoch 30, Loss 0.0688\n",
      "Training Accuracy: 0.9350, Testing Accuracy: 0.9491\n",
      "\n"
     ]
    },
    {
     "name": "stdout",
     "output_type": "stream",
     "text": [
      "Epoch 40, Loss 0.0622\n",
      "Training Accuracy: 0.9383, Testing Accuracy: 0.9551\n",
      "\n"
     ]
    },
    {
     "name": "stdout",
     "output_type": "stream",
     "text": [
      "Epoch 50, Loss 0.0577\n",
      "Training Accuracy: 0.9426, Testing Accuracy: 0.9572\n",
      "\n"
     ]
    },
    {
     "name": "stdout",
     "output_type": "stream",
     "text": [
      "Epoch 60, Loss 0.0544\n",
      "Training Accuracy: 0.9448, Testing Accuracy: 0.9572\n",
      "\n"
     ]
    },
    {
     "name": "stdout",
     "output_type": "stream",
     "text": [
      "Epoch 70, Loss 0.0518\n",
      "Training Accuracy: 0.9471, Testing Accuracy: 0.9597\n",
      "\n"
     ]
    },
    {
     "name": "stdout",
     "output_type": "stream",
     "text": [
      "Epoch 80, Loss 0.0497\n",
      "Training Accuracy: 0.9489, Testing Accuracy: 0.9597\n",
      "\n"
     ]
    },
    {
     "name": "stdout",
     "output_type": "stream",
     "text": [
      "Epoch 90, Loss 0.048\n",
      "Training Accuracy: 0.9504, Testing Accuracy: 0.9602\n",
      "\n"
     ]
    },
    {
     "name": "stdout",
     "output_type": "stream",
     "text": [
      "Epoch 100, Loss 0.0465\n",
      "Training Accuracy: 0.9518, Testing Accuracy: 0.9607\n",
      "\n"
     ]
    },
    {
     "name": "stdout",
     "output_type": "stream",
     "text": [
      "Epoch 110, Loss 0.0453\n",
      "Training Accuracy: 0.9527, Testing Accuracy: 0.9612\n",
      "\n"
     ]
    },
    {
     "name": "stdout",
     "output_type": "stream",
     "text": [
      "Epoch 120, Loss 0.0442\n",
      "Training Accuracy: 0.9536, Testing Accuracy: 0.9627\n",
      "\n"
     ]
    },
    {
     "name": "stdout",
     "output_type": "stream",
     "text": [
      "Epoch 130, Loss 0.0433\n",
      "Training Accuracy: 0.9540, Testing Accuracy: 0.9647\n",
      "\n"
     ]
    },
    {
     "name": "stdout",
     "output_type": "stream",
     "text": [
      "Epoch 140, Loss 0.0424\n",
      "Training Accuracy: 0.9548, Testing Accuracy: 0.9647\n",
      "\n"
     ]
    },
    {
     "name": "stdout",
     "output_type": "stream",
     "text": [
      "Epoch 150, Loss 0.0417\n",
      "Training Accuracy: 0.9554, Testing Accuracy: 0.9647\n",
      "\n"
     ]
    },
    {
     "name": "stdout",
     "output_type": "stream",
     "text": [
      "Epoch 160, Loss 0.041\n",
      "Training Accuracy: 0.9562, Testing Accuracy: 0.9652\n",
      "\n"
     ]
    },
    {
     "name": "stdout",
     "output_type": "stream",
     "text": [
      "Epoch 170, Loss 0.0403\n",
      "Training Accuracy: 0.9564, Testing Accuracy: 0.9652\n",
      "\n"
     ]
    },
    {
     "name": "stdout",
     "output_type": "stream",
     "text": [
      "Epoch 180, Loss 0.0398\n",
      "Training Accuracy: 0.9569, Testing Accuracy: 0.9662\n",
      "\n"
     ]
    },
    {
     "name": "stdout",
     "output_type": "stream",
     "text": [
      "Epoch 190, Loss 0.0392\n",
      "Training Accuracy: 0.9573, Testing Accuracy: 0.9662\n",
      "\n"
     ]
    },
    {
     "name": "stdout",
     "output_type": "stream",
     "text": [
      "Epoch 200, Loss 0.0387\n",
      "Training Accuracy: 0.9576, Testing Accuracy: 0.9662\n",
      "\n"
     ]
    },
    {
     "name": "stdout",
     "output_type": "stream",
     "text": [
      "Epoch 210, Loss 0.0383\n",
      "Training Accuracy: 0.9581, Testing Accuracy: 0.9657\n",
      "\n"
     ]
    },
    {
     "name": "stdout",
     "output_type": "stream",
     "text": [
      "Epoch 220, Loss 0.0379\n",
      "Training Accuracy: 0.9590, Testing Accuracy: 0.9662\n",
      "\n"
     ]
    },
    {
     "name": "stdout",
     "output_type": "stream",
     "text": [
      "Epoch 230, Loss 0.0375\n",
      "Training Accuracy: 0.9594, Testing Accuracy: 0.9662\n",
      "\n"
     ]
    },
    {
     "name": "stdout",
     "output_type": "stream",
     "text": [
      "Epoch 240, Loss 0.0371\n",
      "Training Accuracy: 0.9599, Testing Accuracy: 0.9667\n",
      "\n"
     ]
    },
    {
     "name": "stdout",
     "output_type": "stream",
     "text": [
      "Epoch 250, Loss 0.0368\n",
      "Training Accuracy: 0.9599, Testing Accuracy: 0.9672\n",
      "\n"
     ]
    },
    {
     "data": {
      "text/plain": [
       "0.037233482601065626"
      ]
     },
     "execution_count": 22,
     "metadata": {},
     "output_type": "execute_result"
    }
   ],
   "source": [
    "print(\"====== Logistic Regression ======\")\n",
    "learner_lr.train_loop(dl)"
   ]
  },
  {
   "cell_type": "markdown",
   "metadata": {
    "papermill": {
     "duration": 0.044788,
     "end_time": "2020-09-16T20:06:28.856697",
     "exception": false,
     "start_time": "2020-09-16T20:06:28.811909",
     "status": "completed"
    },
    "tags": []
   },
   "source": [
    "### Comparing results of NN and LR"
   ]
  },
  {
   "cell_type": "code",
   "execution_count": 23,
   "metadata": {
    "execution": {
     "iopub.execute_input": "2020-09-16T20:06:28.951668Z",
     "iopub.status.busy": "2020-09-16T20:06:28.951027Z",
     "iopub.status.idle": "2020-09-16T20:06:29.192786Z",
     "shell.execute_reply": "2020-09-16T20:06:29.193271Z"
    },
    "papermill": {
     "duration": 0.291881,
     "end_time": "2020-09-16T20:06:29.193432",
     "exception": false,
     "start_time": "2020-09-16T20:06:28.901551",
     "status": "completed"
    },
    "tags": []
   },
   "outputs": [
    {
     "data": {
      "text/plain": [
       "<matplotlib.legend.Legend at 0x7fc980b792b0>"
      ]
     },
     "execution_count": 23,
     "metadata": {},
     "output_type": "execute_result"
    },
    {
     "data": {
      "image/png": "[encoded data removed]",
      "text/plain": [
       "<Figure size 1080x720 with 1 Axes>"
      ]
     },
     "metadata": {
      "needs_background": "light"
     },
     "output_type": "display_data"
    }
   ],
   "source": [
    "plt.figure(figsize=(15,10))\n",
    "\n",
    "# Neural Network plots\n",
    "plt.plot(acc_nn.accuracies, 'r-', label = \"Training Accuracies - NN\")\n",
    "plt.plot(acc_nn.test_accuracies, 'g-', label = \"Testing Accuracies - NN\")\n",
    "\n",
    "# Logistic Regression plots\n",
    "plt.plot(acc_lr.accuracies, 'k-', label = \"Training Accuracies - LR\")\n",
    "plt.plot(acc_lr.test_accuracies, 'b-', label = \"Testing Accuracies - LR\")\n",
    "\n",
    "plt.ylim(0.8, 1)\n",
    "\n",
    "plt.legend()\n",
    "\n"
   ]
  },
  {
   "cell_type": "markdown",
   "metadata": {
    "papermill": {
     "duration": 0.046508,
     "end_time": "2020-09-16T20:06:29.286632",
     "exception": false,
     "start_time": "2020-09-16T20:06:29.240124",
     "status": "completed"
    },
    "tags": []
   },
   "source": [
    "### From the plot, we can observe the following:\n",
    "- Neural Network achieves higher accuracy than the Logistic Regression model.\n",
    "- This apparently, is because of overfitting, i.e. NN captures more noise than data.\n",
    "- Testing accuracy of NN drops below the Training accuracy at higher epochs. This explains the over-fitting on training data.\n",
    "- Logistic Regression gives a reliable accuracy, without the above mentioned problem.\n"
   ]
  },
  {
   "cell_type": "markdown",
   "metadata": {
    "papermill": {
     "duration": 0.046658,
     "end_time": "2020-09-16T20:06:29.379962",
     "exception": false,
     "start_time": "2020-09-16T20:06:29.333304",
     "status": "completed"
    },
    "tags": []
   },
   "source": [
    "### Moving till the last but one layer (excluding it).\n",
    "#### Plotting the outputs of this layer of the NN."
   ]
  },
  {
   "cell_type": "code",
   "execution_count": 24,
   "metadata": {
    "execution": {
     "iopub.execute_input": "2020-09-16T20:06:29.478937Z",
     "iopub.status.busy": "2020-09-16T20:06:29.478328Z",
     "iopub.status.idle": "2020-09-16T20:06:29.492031Z",
     "shell.execute_reply": "2020-09-16T20:06:29.491523Z"
    },
    "papermill": {
     "duration": 0.065102,
     "end_time": "2020-09-16T20:06:29.492166",
     "exception": false,
     "start_time": "2020-09-16T20:06:29.427064",
     "status": "completed"
    },
    "tags": []
   },
   "outputs": [],
   "source": [
    "model_new = Model(layers[:-2])"
   ]
  },
  {
   "cell_type": "code",
   "execution_count": 25,
   "metadata": {
    "execution": {
     "iopub.execute_input": "2020-09-16T20:06:29.590730Z",
     "iopub.status.busy": "2020-09-16T20:06:29.590099Z",
     "iopub.status.idle": "2020-09-16T20:06:29.611695Z",
     "shell.execute_reply": "2020-09-16T20:06:29.612302Z"
    },
    "papermill": {
     "duration": 0.073465,
     "end_time": "2020-09-16T20:06:29.612465",
     "exception": false,
     "start_time": "2020-09-16T20:06:29.539000",
     "status": "completed"
    },
    "tags": []
   },
   "outputs": [],
   "source": [
    "plot_testing = model_new(testing_xdata)"
   ]
  },
  {
   "cell_type": "code",
   "execution_count": 26,
   "metadata": {
    "execution": {
     "iopub.execute_input": "2020-09-16T20:06:29.715813Z",
     "iopub.status.busy": "2020-09-16T20:06:29.715212Z",
     "iopub.status.idle": "2020-09-16T20:06:29.939018Z",
     "shell.execute_reply": "2020-09-16T20:06:29.939786Z"
    },
    "papermill": {
     "duration": 0.28085,
     "end_time": "2020-09-16T20:06:29.940194",
     "exception": false,
     "start_time": "2020-09-16T20:06:29.659344",
     "status": "completed"
    },
    "tags": []
   },
   "outputs": [
    {
     "data": {
      "text/plain": [
       "Text(0.5, 1.0, 'Outputs')"
      ]
     },
     "execution_count": 26,
     "metadata": {},
     "output_type": "execute_result"
    },
    {
     "data": {
      "image/png": "[encoded data removed]",
      "text/plain": [
       "<Figure size 576x504 with 1 Axes>"
      ]
     },
     "metadata": {
      "needs_background": "light"
     },
     "output_type": "display_data"
    }
   ],
   "source": [
    "plt.figure(figsize=(8,7))\n",
    "plt.scatter(plot_testing[:,0], plot_testing[:,1], alpha = 0.1, c = y_test.ravel());\n",
    "plt.title('Outputs')"
   ]
  },
  {
   "cell_type": "markdown",
   "metadata": {
    "papermill": {
     "duration": 0.056031,
     "end_time": "2020-09-16T20:06:30.060311",
     "exception": false,
     "start_time": "2020-09-16T20:06:30.004280",
     "status": "completed"
    },
    "tags": []
   },
   "source": [
    "### Plotting probability contours"
   ]
  },
  {
   "cell_type": "code",
   "execution_count": 27,
   "metadata": {
    "execution": {
     "iopub.execute_input": "2020-09-16T20:06:30.170245Z",
     "iopub.status.busy": "2020-09-16T20:06:30.169611Z",
     "iopub.status.idle": "2020-09-16T20:06:30.186591Z",
     "shell.execute_reply": "2020-09-16T20:06:30.185996Z"
    },
    "papermill": {
     "duration": 0.07319,
     "end_time": "2020-09-16T20:06:30.186732",
     "exception": false,
     "start_time": "2020-09-16T20:06:30.113542",
     "status": "completed"
    },
    "tags": []
   },
   "outputs": [],
   "source": [
    "model_prob = Model(layers[-2:]) "
   ]
  },
  {
   "cell_type": "code",
   "execution_count": 28,
   "metadata": {
    "execution": {
     "iopub.execute_input": "2020-09-16T20:06:30.296444Z",
     "iopub.status.busy": "2020-09-16T20:06:30.295831Z",
     "iopub.status.idle": "2020-09-16T20:06:30.312097Z",
     "shell.execute_reply": "2020-09-16T20:06:30.312579Z"
    },
    "papermill": {
     "duration": 0.072967,
     "end_time": "2020-09-16T20:06:30.312749",
     "exception": false,
     "start_time": "2020-09-16T20:06:30.239782",
     "status": "completed"
    },
    "tags": []
   },
   "outputs": [],
   "source": [
    "# Adjust the x and y ranges according to the above generated plot.\n",
    "x_range = np.linspace(-4, 1, 100) \n",
    "y_range = np.linspace(-6, 6, 100) \n",
    "x_grid, y_grid = np.meshgrid(x_range, y_range) # x_grid and y_grig are of size 100 X 100\n",
    "\n",
    "# converting x_grid and y_grid to continuous arrays\n",
    "x_grid_flat = np.ravel(x_grid)\n",
    "y_grid_flat = np.ravel(y_grid)\n",
    "\n",
    "# The last layer of the current model takes two columns as input. Hence transpose of np.vstack() is required.\n",
    "X = np.vstack((x_grid_flat, y_grid_flat)).T\n",
    "\n",
    "# x_grid and y_grid are of size 100 x 100\n",
    "probability_contour = model_prob(X).reshape(100,100) "
   ]
  },
  {
   "cell_type": "code",
   "execution_count": 29,
   "metadata": {
    "execution": {
     "iopub.execute_input": "2020-09-16T20:06:30.437352Z",
     "iopub.status.busy": "2020-09-16T20:06:30.436744Z",
     "iopub.status.idle": "2020-09-16T20:06:30.683892Z",
     "shell.execute_reply": "2020-09-16T20:06:30.683393Z"
    },
    "papermill": {
     "duration": 0.315379,
     "end_time": "2020-09-16T20:06:30.684037",
     "exception": false,
     "start_time": "2020-09-16T20:06:30.368658",
     "status": "completed"
    },
    "tags": []
   },
   "outputs": [
    {
     "data": {
      "image/png": "[encoded data removed]",
      "text/plain": [
       "<Figure size 720x648 with 1 Axes>"
      ]
     },
     "metadata": {
      "needs_background": "light"
     },
     "output_type": "display_data"
    }
   ],
   "source": [
    "plt.figure(figsize=(10,9))\n",
    "plt.scatter(plot_testing[:,0], plot_testing[:,1], alpha = 0.1, c = y_test.ravel())\n",
    "contours = plt.contour(x_grid,y_grid,probability_contour)\n",
    "plt.title('Probability Contours')\n",
    "plt.clabel(contours, inline = True );"
   ]
  }
 ],
 "metadata": {
  "kernelspec": {
   "display_name": "Python 3",
   "language": "python",
   "name": "python3"
  },
  "language_info": {
   "codemirror_mode": {
    "name": "ipython",
    "version": 3
   },
   "file_extension": ".py",
   "mimetype": "text/x-python",
   "name": "python",
   "nbconvert_exporter": "python",
   "pygments_lexer": "ipython3",
   "version": "3.6.12"
  },
  "papermill": {
   "duration": 122.131064,
   "end_time": "2020-09-16T20:06:31.149475",
   "environment_variables": {},
   "exception": null,
   "input_path": "2020-08-11-NeuralNetwork.ipynb",
   "output_path": "2020-08-11-NeuralNetwork.ipynb",
   "parameters": {},
   "start_time": "2020-09-16T20:04:29.018411",
   "version": "2.1.2"
  }
 },
 "nbformat": 4,
 "nbformat_minor": 4
}