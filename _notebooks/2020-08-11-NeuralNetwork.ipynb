{
 "cells": [
  {
   "cell_type": "markdown",
   "metadata": {
    "papermill": {
     "duration": 0.031891,
     "end_time": "2020-11-16T00:08:42.951389",
     "exception": false,
     "start_time": "2020-11-16T00:08:42.919498",
     "status": "completed"
    },
    "tags": []
   },
   "source": [
    "# \"A Basic Neural Network: Differentiate Hand-Written Digits\"\n",
    "\n",
    "- badges: true\n",
    "- author: Akshith Sriram"
   ]
  },
  {
   "cell_type": "markdown",
   "metadata": {
    "papermill": {
     "duration": 0.023358,
     "end_time": "2020-11-16T00:08:43.003203",
     "exception": false,
     "start_time": "2020-11-16T00:08:42.979845",
     "status": "completed"
    },
    "tags": []
   },
   "source": [
    "### Key Objectives:\n",
    "- Building a neural network that differentiates two hand-written digits 3 and 8.\n",
    "- Comparing the results of this Neural Network (NN) to that of a Logistic Regression (LR) model.\n",
    "\n",
    "### Requirements:\n",
    "- 'Kudzu' : A neural network library that was designed during our course by [Univ.AI](www.univ.ai). \n",
    "- MNIST Database\n",
    "\n",
    "If MNIST is not installed, use the command `!pip install mnist` given below.\n",
    "It can be run both from the command line and Jupyter Notebook."
   ]
  },
  {
   "cell_type": "code",
   "execution_count": 1,
   "metadata": {
    "execution": {
     "iopub.execute_input": "2020-11-16T00:08:43.060233Z",
     "iopub.status.busy": "2020-11-16T00:08:43.059614Z",
     "iopub.status.idle": "2020-11-16T00:08:44.489408Z",
     "shell.execute_reply": "2020-11-16T00:08:44.488857Z"
    },
    "papermill": {
     "duration": 1.462622,
     "end_time": "2020-11-16T00:08:44.489557",
     "exception": false,
     "start_time": "2020-11-16T00:08:43.026935",
     "status": "completed"
    },
    "tags": []
   },
   "outputs": [
    {
     "name": "stdout",
     "output_type": "stream",
     "text": [
      "Collecting mnist\r\n"
     ]
    },
    {
     "name": "stdout",
     "output_type": "stream",
     "text": [
      "  Downloading mnist-0.2.2-py2.py3-none-any.whl (3.5 kB)\r\n",
      "Requirement already satisfied: numpy in /opt/hostedtoolcache/Python/3.6.12/x64/lib/python3.6/site-packages (from mnist) (1.19.4)\r\n"
     ]
    },
    {
     "name": "stdout",
     "output_type": "stream",
     "text": [
      "Installing collected packages: mnist\r\n"
     ]
    },
    {
     "name": "stdout",
     "output_type": "stream",
     "text": [
      "Successfully installed mnist-0.2.2\r\n"
     ]
    }
   ],
   "source": [
    "!pip install mnist "
   ]
  },
  {
   "cell_type": "markdown",
   "metadata": {
    "papermill": {
     "duration": 0.025154,
     "end_time": "2020-11-16T00:08:44.540624",
     "exception": false,
     "start_time": "2020-11-16T00:08:44.515470",
     "status": "completed"
    },
    "tags": []
   },
   "source": [
    "#### Importing necessary libraries"
   ]
  },
  {
   "cell_type": "code",
   "execution_count": 2,
   "metadata": {
    "execution": {
     "iopub.execute_input": "2020-11-16T00:08:44.600903Z",
     "iopub.status.busy": "2020-11-16T00:08:44.600326Z",
     "iopub.status.idle": "2020-11-16T00:08:45.163019Z",
     "shell.execute_reply": "2020-11-16T00:08:45.162399Z"
    },
    "papermill": {
     "duration": 0.59594,
     "end_time": "2020-11-16T00:08:45.163214",
     "exception": false,
     "start_time": "2020-11-16T00:08:44.567274",
     "status": "completed"
    },
    "tags": []
   },
   "outputs": [],
   "source": [
    "%load_ext autoreload\n",
    "%autoreload 2\n",
    "\n",
    "%matplotlib inline\n",
    "import matplotlib.pyplot as plt\n",
    "\n",
    "import numpy as np\n",
    "import pandas as pd"
   ]
  },
  {
   "cell_type": "markdown",
   "metadata": {
    "papermill": {
     "duration": 0.031664,
     "end_time": "2020-11-16T00:08:45.221893",
     "exception": false,
     "start_time": "2020-11-16T00:08:45.190229",
     "status": "completed"
    },
    "tags": []
   },
   "source": [
    "### Preparing the Data"
   ]
  },
  {
   "cell_type": "code",
   "execution_count": 3,
   "metadata": {
    "execution": {
     "iopub.execute_input": "2020-11-16T00:08:45.280736Z",
     "iopub.status.busy": "2020-11-16T00:08:45.280154Z",
     "iopub.status.idle": "2020-11-16T00:08:45.291769Z",
     "shell.execute_reply": "2020-11-16T00:08:45.291203Z"
    },
    "papermill": {
     "duration": 0.042296,
     "end_time": "2020-11-16T00:08:45.291889",
     "exception": false,
     "start_time": "2020-11-16T00:08:45.249593",
     "status": "completed"
    },
    "tags": []
   },
   "outputs": [],
   "source": [
    "import mnist"
   ]
  },
  {
   "cell_type": "code",
   "execution_count": 4,
   "metadata": {
    "execution": {
     "iopub.execute_input": "2020-11-16T00:08:45.346731Z",
     "iopub.status.busy": "2020-11-16T00:08:45.346182Z",
     "iopub.status.idle": "2020-11-16T00:08:47.061561Z",
     "shell.execute_reply": "2020-11-16T00:08:47.060947Z"
    },
    "papermill": {
     "duration": 1.744593,
     "end_time": "2020-11-16T00:08:47.061707",
     "exception": false,
     "start_time": "2020-11-16T00:08:45.317114",
     "status": "completed"
    },
    "tags": []
   },
   "outputs": [],
   "source": [
    "train_images = mnist.train_images()\n",
    "train_labels = mnist.train_labels()"
   ]
  },
  {
   "cell_type": "code",
   "execution_count": 5,
   "metadata": {
    "execution": {
     "iopub.execute_input": "2020-11-16T00:08:47.132185Z",
     "iopub.status.busy": "2020-11-16T00:08:47.131523Z",
     "iopub.status.idle": "2020-11-16T00:08:47.147536Z",
     "shell.execute_reply": "2020-11-16T00:08:47.146883Z"
    },
    "papermill": {
     "duration": 0.05013,
     "end_time": "2020-11-16T00:08:47.147725",
     "exception": false,
     "start_time": "2020-11-16T00:08:47.097595",
     "status": "completed"
    },
    "tags": []
   },
   "outputs": [
    {
     "data": {
      "text/plain": [
       "((60000, 28, 28), (60000,))"
      ]
     },
     "execution_count": 5,
     "metadata": {},
     "output_type": "execute_result"
    }
   ],
   "source": [
    "train_images.shape, train_labels.shape"
   ]
  },
  {
   "cell_type": "code",
   "execution_count": 6,
   "metadata": {
    "execution": {
     "iopub.execute_input": "2020-11-16T00:08:47.212986Z",
     "iopub.status.busy": "2020-11-16T00:08:47.212272Z",
     "iopub.status.idle": "2020-11-16T00:08:48.072934Z",
     "shell.execute_reply": "2020-11-16T00:08:48.072305Z"
    },
    "papermill": {
     "duration": 0.896104,
     "end_time": "2020-11-16T00:08:48.073102",
     "exception": false,
     "start_time": "2020-11-16T00:08:47.176998",
     "status": "completed"
    },
    "tags": []
   },
   "outputs": [],
   "source": [
    "test_images = mnist.test_images()\n",
    "test_labels = mnist.test_labels()"
   ]
  },
  {
   "cell_type": "code",
   "execution_count": 7,
   "metadata": {
    "execution": {
     "iopub.execute_input": "2020-11-16T00:08:48.133216Z",
     "iopub.status.busy": "2020-11-16T00:08:48.132653Z",
     "iopub.status.idle": "2020-11-16T00:08:48.145917Z",
     "shell.execute_reply": "2020-11-16T00:08:48.145330Z"
    },
    "papermill": {
     "duration": 0.045655,
     "end_time": "2020-11-16T00:08:48.146125",
     "exception": false,
     "start_time": "2020-11-16T00:08:48.100470",
     "status": "completed"
    },
    "tags": []
   },
   "outputs": [
    {
     "data": {
      "text/plain": [
       "((10000, 28, 28), (10000,))"
      ]
     },
     "execution_count": 7,
     "metadata": {},
     "output_type": "execute_result"
    }
   ],
   "source": [
    "test_images.shape, test_labels.shape"
   ]
  },
  {
   "cell_type": "code",
   "execution_count": 8,
   "metadata": {
    "execution": {
     "iopub.execute_input": "2020-11-16T00:08:48.203383Z",
     "iopub.status.busy": "2020-11-16T00:08:48.202799Z",
     "iopub.status.idle": "2020-11-16T00:08:48.378315Z",
     "shell.execute_reply": "2020-11-16T00:08:48.378827Z"
    },
    "papermill": {
     "duration": 0.206206,
     "end_time": "2020-11-16T00:08:48.379024",
     "exception": false,
     "start_time": "2020-11-16T00:08:48.172818",
     "status": "completed"
    },
    "tags": []
   },
   "outputs": [
    {
     "name": "stdout",
     "output_type": "stream",
     "text": [
      "2\n"
     ]
    },
    {
     "data": {
      "text/plain": [
       "<matplotlib.image.AxesImage at 0x7ff182c66668>"
      ]
     },
     "execution_count": 8,
     "metadata": {},
     "output_type": "execute_result"
    },
    {
     "data": {
      "image/png": "[encoded data removed]",
      "text/plain": [
       "<Figure size 432x288 with 1 Axes>"
      ]
     },
     "metadata": {
      "needs_background": "light"
     },
     "output_type": "display_data"
    }
   ],
   "source": [
    "image_index = 7776 # You may select anything up to 60,000\n",
    "print(train_labels[image_index]) \n",
    "plt.imshow(train_images[image_index], cmap='Greys')"
   ]
  },
  {
   "cell_type": "markdown",
   "metadata": {
    "papermill": {
     "duration": 0.027548,
     "end_time": "2020-11-16T00:08:48.433440",
     "exception": false,
     "start_time": "2020-11-16T00:08:48.405892",
     "status": "completed"
    },
    "tags": []
   },
   "source": [
    "## Filter data to get 3 and 8 out"
   ]
  },
  {
   "cell_type": "code",
   "execution_count": 9,
   "metadata": {
    "execution": {
     "iopub.execute_input": "2020-11-16T00:08:48.493879Z",
     "iopub.status.busy": "2020-11-16T00:08:48.493269Z",
     "iopub.status.idle": "2020-11-16T00:08:48.512059Z",
     "shell.execute_reply": "2020-11-16T00:08:48.512623Z"
    },
    "papermill": {
     "duration": 0.051956,
     "end_time": "2020-11-16T00:08:48.512773",
     "exception": false,
     "start_time": "2020-11-16T00:08:48.460817",
     "status": "completed"
    },
    "tags": []
   },
   "outputs": [],
   "source": [
    "train_filter = np.where((train_labels == 3 ) | (train_labels == 8))\n",
    "test_filter = np.where((test_labels == 3) | (test_labels == 8))\n",
    "X_train, y_train = train_images[train_filter], train_labels[train_filter]\n",
    "X_test, y_test = test_images[test_filter], test_labels[test_filter]"
   ]
  },
  {
   "cell_type": "markdown",
   "metadata": {
    "papermill": {
     "duration": 0.027988,
     "end_time": "2020-11-16T00:08:48.568799",
     "exception": false,
     "start_time": "2020-11-16T00:08:48.540811",
     "status": "completed"
    },
    "tags": []
   },
   "source": [
    "We normalize the pixel values in the 0 to 1 range"
   ]
  },
  {
   "cell_type": "code",
   "execution_count": 10,
   "metadata": {
    "execution": {
     "iopub.execute_input": "2020-11-16T00:08:48.628837Z",
     "iopub.status.busy": "2020-11-16T00:08:48.628245Z",
     "iopub.status.idle": "2020-11-16T00:08:48.681512Z",
     "shell.execute_reply": "2020-11-16T00:08:48.680967Z"
    },
    "papermill": {
     "duration": 0.086405,
     "end_time": "2020-11-16T00:08:48.681646",
     "exception": false,
     "start_time": "2020-11-16T00:08:48.595241",
     "status": "completed"
    },
    "tags": []
   },
   "outputs": [],
   "source": [
    "X_train = X_train/255.\n",
    "X_test = X_test/255."
   ]
  },
  {
   "cell_type": "markdown",
   "metadata": {
    "papermill": {
     "duration": 0.027922,
     "end_time": "2020-11-16T00:08:48.738315",
     "exception": false,
     "start_time": "2020-11-16T00:08:48.710393",
     "status": "completed"
    },
    "tags": []
   },
   "source": [
    "Setup the labels as 1 (when the digit is 3) and 0 (when the digit is 8)"
   ]
  },
  {
   "cell_type": "code",
   "execution_count": 11,
   "metadata": {
    "execution": {
     "iopub.execute_input": "2020-11-16T00:08:48.803450Z",
     "iopub.status.busy": "2020-11-16T00:08:48.802752Z",
     "iopub.status.idle": "2020-11-16T00:08:48.814180Z",
     "shell.execute_reply": "2020-11-16T00:08:48.814747Z"
    },
    "papermill": {
     "duration": 0.046532,
     "end_time": "2020-11-16T00:08:48.814913",
     "exception": false,
     "start_time": "2020-11-16T00:08:48.768381",
     "status": "completed"
    },
    "tags": []
   },
   "outputs": [],
   "source": [
    "y_train = 1*(y_train==3)\n",
    "y_test = 1*(y_test==3)"
   ]
  },
  {
   "cell_type": "code",
   "execution_count": 12,
   "metadata": {
    "execution": {
     "iopub.execute_input": "2020-11-16T00:08:48.877527Z",
     "iopub.status.busy": "2020-11-16T00:08:48.876940Z",
     "iopub.status.idle": "2020-11-16T00:08:48.889913Z",
     "shell.execute_reply": "2020-11-16T00:08:48.890379Z"
    },
    "papermill": {
     "duration": 0.045665,
     "end_time": "2020-11-16T00:08:48.890512",
     "exception": false,
     "start_time": "2020-11-16T00:08:48.844847",
     "status": "completed"
    },
    "tags": []
   },
   "outputs": [
    {
     "data": {
      "text/plain": [
       "((11982, 28, 28), (1984, 28, 28))"
      ]
     },
     "execution_count": 12,
     "metadata": {},
     "output_type": "execute_result"
    }
   ],
   "source": [
    "X_train.shape, X_test.shape"
   ]
  },
  {
   "cell_type": "markdown",
   "metadata": {
    "papermill": {
     "duration": 0.026285,
     "end_time": "2020-11-16T00:08:48.944257",
     "exception": false,
     "start_time": "2020-11-16T00:08:48.917972",
     "status": "completed"
    },
    "tags": []
   },
   "source": [
    "### Reshape the input data to create a linear array"
   ]
  },
  {
   "cell_type": "code",
   "execution_count": 13,
   "metadata": {
    "execution": {
     "iopub.execute_input": "2020-11-16T00:08:49.005925Z",
     "iopub.status.busy": "2020-11-16T00:08:49.004802Z",
     "iopub.status.idle": "2020-11-16T00:08:49.017775Z",
     "shell.execute_reply": "2020-11-16T00:08:49.017293Z"
    },
    "papermill": {
     "duration": 0.04764,
     "end_time": "2020-11-16T00:08:49.017898",
     "exception": false,
     "start_time": "2020-11-16T00:08:48.970258",
     "status": "completed"
    },
    "tags": []
   },
   "outputs": [
    {
     "data": {
      "text/plain": [
       "((11982, 784), (1984, 784))"
      ]
     },
     "execution_count": 13,
     "metadata": {},
     "output_type": "execute_result"
    }
   ],
   "source": [
    "X_train = X_train.reshape(X_train.shape[0], -1)\n",
    "X_test = X_test.reshape(X_test.shape[0], -1)\n",
    "X_train.shape, X_test.shape"
   ]
  },
  {
   "cell_type": "markdown",
   "metadata": {
    "papermill": {
     "duration": 0.029033,
     "end_time": "2020-11-16T00:08:49.074569",
     "exception": false,
     "start_time": "2020-11-16T00:08:49.045536",
     "status": "completed"
    },
    "tags": []
   },
   "source": [
    "### Importing appropriate functions from 'Kudzu'"
   ]
  },
  {
   "cell_type": "code",
   "execution_count": 14,
   "metadata": {
    "execution": {
     "iopub.execute_input": "2020-11-16T00:08:49.136576Z",
     "iopub.status.busy": "2020-11-16T00:08:49.136021Z",
     "iopub.status.idle": "2020-11-16T00:08:49.154381Z",
     "shell.execute_reply": "2020-11-16T00:08:49.154918Z"
    },
    "papermill": {
     "duration": 0.051777,
     "end_time": "2020-11-16T00:08:49.155056",
     "exception": false,
     "start_time": "2020-11-16T00:08:49.103279",
     "status": "completed"
    },
    "tags": []
   },
   "outputs": [],
   "source": [
    "from kudzu.layer import Sigmoid\n",
    "from kudzu.layer import Relu\n",
    "from kudzu.layer import Affine, Sigmoid\n",
    "\n",
    "from kudzu.model import Model\n",
    "from kudzu.train import Learner\n",
    "from kudzu.optim import GD\n",
    "from kudzu.data import Data, Dataloader, Sampler\n",
    "\n",
    "from kudzu.callbacks import AccCallback\n",
    "from kudzu.callbacks import ClfCallback\n",
    "\n",
    "from kudzu.loss import MSE"
   ]
  },
  {
   "cell_type": "markdown",
   "metadata": {
    "papermill": {
     "duration": 0.029274,
     "end_time": "2020-11-16T00:08:49.213291",
     "exception": false,
     "start_time": "2020-11-16T00:08:49.184017",
     "status": "completed"
    },
    "tags": []
   },
   "source": [
    "### Let us create a `Config` class, to store important parameters. \n",
    "This class essentially plays the role of a dictionary."
   ]
  },
  {
   "cell_type": "code",
   "execution_count": 15,
   "metadata": {
    "execution": {
     "iopub.execute_input": "2020-11-16T00:08:49.276270Z",
     "iopub.status.busy": "2020-11-16T00:08:49.275698Z",
     "iopub.status.idle": "2020-11-16T00:08:49.286140Z",
     "shell.execute_reply": "2020-11-16T00:08:49.286933Z"
    },
    "papermill": {
     "duration": 0.044542,
     "end_time": "2020-11-16T00:08:49.287105",
     "exception": false,
     "start_time": "2020-11-16T00:08:49.242563",
     "status": "completed"
    },
    "tags": []
   },
   "outputs": [],
   "source": [
    "class Config:\n",
    "    pass\n",
    "config = Config()\n",
    "config.lr = 0.001\n",
    "config.num_epochs = 251\n",
    "config.bs = 50"
   ]
  },
  {
   "cell_type": "markdown",
   "metadata": {
    "papermill": {
     "duration": 0.031588,
     "end_time": "2020-11-16T00:08:49.349157",
     "exception": false,
     "start_time": "2020-11-16T00:08:49.317569",
     "status": "completed"
    },
    "tags": []
   },
   "source": [
    "### Initializing data to the variables"
   ]
  },
  {
   "cell_type": "code",
   "execution_count": 16,
   "metadata": {
    "execution": {
     "iopub.execute_input": "2020-11-16T00:08:49.412589Z",
     "iopub.status.busy": "2020-11-16T00:08:49.411884Z",
     "iopub.status.idle": "2020-11-16T00:08:49.422239Z",
     "shell.execute_reply": "2020-11-16T00:08:49.422730Z"
    },
    "papermill": {
     "duration": 0.045955,
     "end_time": "2020-11-16T00:08:49.422885",
     "exception": false,
     "start_time": "2020-11-16T00:08:49.376930",
     "status": "completed"
    },
    "tags": []
   },
   "outputs": [],
   "source": [
    "data = Data(X_train, y_train.reshape(-1,1))\n",
    "sampler = Sampler(data, config.bs, shuffle=True)\n",
    "\n",
    "dl = Dataloader(data, sampler)\n",
    "\n",
    "opt = GD(config.lr)\n",
    "loss = MSE()"
   ]
  },
  {
   "cell_type": "code",
   "execution_count": 17,
   "metadata": {
    "execution": {
     "iopub.execute_input": "2020-11-16T00:08:49.487850Z",
     "iopub.status.busy": "2020-11-16T00:08:49.487192Z",
     "iopub.status.idle": "2020-11-16T00:08:49.497618Z",
     "shell.execute_reply": "2020-11-16T00:08:49.497046Z"
    },
    "papermill": {
     "duration": 0.046126,
     "end_time": "2020-11-16T00:08:49.497786",
     "exception": false,
     "start_time": "2020-11-16T00:08:49.451660",
     "status": "completed"
    },
    "tags": []
   },
   "outputs": [],
   "source": [
    "training_xdata = X_train\n",
    "testing_xdata = X_test\n",
    "training_ydata = y_train.reshape(-1,1)\n",
    "testing_ydata = y_test.reshape(-1,1)"
   ]
  },
  {
   "cell_type": "markdown",
   "metadata": {
    "papermill": {
     "duration": 0.028712,
     "end_time": "2020-11-16T00:08:49.555440",
     "exception": false,
     "start_time": "2020-11-16T00:08:49.526728",
     "status": "completed"
    },
    "tags": []
   },
   "source": [
    "### Running Models with the Training data\n",
    "Details about the network layers:\n",
    "- A first affine layer has 784 inputs and does 100 affine transforms. These are followed by a Relu\n",
    "- A second affine layer has 100 inputs from the 100 activations of the past layer, and does 100 affine transforms. These are followed by a Relu\n",
    "- A third affine layer has 100 activations and does 2 affine transformations to create an embedding for visualization. There is no non-linearity here.\n",
    "- A final \"logistic regression\" which has an affine transform from 2 inputs to 1 output, which is squeezed through a sigmoid.\n",
    "\n",
    "Help taken from Anshuman's Notebook."
   ]
  },
  {
   "cell_type": "code",
   "execution_count": 18,
   "metadata": {
    "execution": {
     "iopub.execute_input": "2020-11-16T00:08:49.624016Z",
     "iopub.status.busy": "2020-11-16T00:08:49.623206Z",
     "iopub.status.idle": "2020-11-16T00:08:49.640503Z",
     "shell.execute_reply": "2020-11-16T00:08:49.639998Z"
    },
    "papermill": {
     "duration": 0.052756,
     "end_time": "2020-11-16T00:08:49.640629",
     "exception": false,
     "start_time": "2020-11-16T00:08:49.587873",
     "status": "completed"
    },
    "tags": []
   },
   "outputs": [],
   "source": [
    "# layers for the Neural Network\n",
    "layers = [Affine(\"first\", 784, 100), Relu(\"first\"), Affine(\"second\", 100, 100), Relu(\"second\"), Affine(\"third\", 100, 2), Affine(\"final\", 2, 1), Sigmoid(\"final\")]\n",
    "model_nn = Model(layers)\n",
    "\n",
    "# layers for the Logistic Regression\n",
    "layers_lr = [Affine(\"logits\", 784, 1), Sigmoid(\"sigmoid\")]\n",
    "model_lr = Model(layers_lr)"
   ]
  },
  {
   "cell_type": "code",
   "execution_count": 19,
   "metadata": {
    "execution": {
     "iopub.execute_input": "2020-11-16T00:08:49.701830Z",
     "iopub.status.busy": "2020-11-16T00:08:49.701277Z",
     "iopub.status.idle": "2020-11-16T00:08:49.713109Z",
     "shell.execute_reply": "2020-11-16T00:08:49.712534Z"
    },
    "papermill": {
     "duration": 0.043635,
     "end_time": "2020-11-16T00:08:49.713233",
     "exception": false,
     "start_time": "2020-11-16T00:08:49.669598",
     "status": "completed"
    },
    "tags": []
   },
   "outputs": [],
   "source": [
    "# suffix _nn stands for Neural Network.\n",
    "learner_nn = Learner(loss, model_nn, opt, config.num_epochs)\n",
    "acc_nn = ClfCallback(learner_nn, config.bs, training_xdata , testing_xdata, training_ydata, testing_ydata)\n",
    "learner_nn.set_callbacks([acc_nn])"
   ]
  },
  {
   "cell_type": "code",
   "execution_count": 20,
   "metadata": {
    "execution": {
     "iopub.execute_input": "2020-11-16T00:08:49.780758Z",
     "iopub.status.busy": "2020-11-16T00:08:49.780056Z",
     "iopub.status.idle": "2020-11-16T00:11:05.257276Z",
     "shell.execute_reply": "2020-11-16T00:11:05.256693Z"
    },
    "papermill": {
     "duration": 135.515296,
     "end_time": "2020-11-16T00:11:05.257433",
     "exception": false,
     "start_time": "2020-11-16T00:08:49.742137",
     "status": "completed"
    },
    "tags": []
   },
   "outputs": [
    {
     "name": "stdout",
     "output_type": "stream",
     "text": [
      "====== Neural Network ======\n"
     ]
    },
    {
     "name": "stdout",
     "output_type": "stream",
     "text": [
      "Epoch 0, Loss 0.2553\n",
      "Training Accuracy: 0.6040, Testing Accuracy: 0.5912\n",
      "\n"
     ]
    },
    {
     "name": "stdout",
     "output_type": "stream",
     "text": [
      "Epoch 10, Loss 0.1039\n",
      "Training Accuracy: 0.9004, Testing Accuracy: 0.9108\n",
      "\n"
     ]
    },
    {
     "name": "stdout",
     "output_type": "stream",
     "text": [
      "Epoch 20, Loss 0.0618\n",
      "Training Accuracy: 0.9352, Testing Accuracy: 0.9466\n",
      "\n"
     ]
    },
    {
     "name": "stdout",
     "output_type": "stream",
     "text": [
      "Epoch 30, Loss 0.0471\n",
      "Training Accuracy: 0.9487, Testing Accuracy: 0.9577\n",
      "\n"
     ]
    },
    {
     "name": "stdout",
     "output_type": "stream",
     "text": [
      "Epoch 40, Loss 0.04\n",
      "Training Accuracy: 0.9556, Testing Accuracy: 0.9617\n",
      "\n"
     ]
    },
    {
     "name": "stdout",
     "output_type": "stream",
     "text": [
      "Epoch 50, Loss 0.0359\n",
      "Training Accuracy: 0.9593, Testing Accuracy: 0.9667\n",
      "\n"
     ]
    },
    {
     "name": "stdout",
     "output_type": "stream",
     "text": [
      "Epoch 60, Loss 0.0332\n",
      "Training Accuracy: 0.9631, Testing Accuracy: 0.9667\n",
      "\n"
     ]
    },
    {
     "name": "stdout",
     "output_type": "stream",
     "text": [
      "Epoch 70, Loss 0.0312\n",
      "Training Accuracy: 0.9646, Testing Accuracy: 0.9672\n",
      "\n"
     ]
    },
    {
     "name": "stdout",
     "output_type": "stream",
     "text": [
      "Epoch 80, Loss 0.0296\n",
      "Training Accuracy: 0.9659, Testing Accuracy: 0.9703\n",
      "\n"
     ]
    },
    {
     "name": "stdout",
     "output_type": "stream",
     "text": [
      "Epoch 90, Loss 0.0284\n",
      "Training Accuracy: 0.9673, Testing Accuracy: 0.9708\n",
      "\n"
     ]
    },
    {
     "name": "stdout",
     "output_type": "stream",
     "text": [
      "Epoch 100, Loss 0.0273\n",
      "Training Accuracy: 0.9685, Testing Accuracy: 0.9703\n",
      "\n"
     ]
    },
    {
     "name": "stdout",
     "output_type": "stream",
     "text": [
      "Epoch 110, Loss 0.0264\n",
      "Training Accuracy: 0.9690, Testing Accuracy: 0.9708\n",
      "\n"
     ]
    },
    {
     "name": "stdout",
     "output_type": "stream",
     "text": [
      "Epoch 120, Loss 0.0256\n",
      "Training Accuracy: 0.9696, Testing Accuracy: 0.9723\n",
      "\n"
     ]
    },
    {
     "name": "stdout",
     "output_type": "stream",
     "text": [
      "Epoch 130, Loss 0.0249\n",
      "Training Accuracy: 0.9709, Testing Accuracy: 0.9723\n",
      "\n"
     ]
    },
    {
     "name": "stdout",
     "output_type": "stream",
     "text": [
      "Epoch 140, Loss 0.0243\n",
      "Training Accuracy: 0.9717, Testing Accuracy: 0.9733\n",
      "\n"
     ]
    },
    {
     "name": "stdout",
     "output_type": "stream",
     "text": [
      "Epoch 150, Loss 0.0237\n",
      "Training Accuracy: 0.9727, Testing Accuracy: 0.9738\n",
      "\n"
     ]
    },
    {
     "name": "stdout",
     "output_type": "stream",
     "text": [
      "Epoch 160, Loss 0.0231\n",
      "Training Accuracy: 0.9733, Testing Accuracy: 0.9733\n",
      "\n"
     ]
    },
    {
     "name": "stdout",
     "output_type": "stream",
     "text": [
      "Epoch 170, Loss 0.0226\n",
      "Training Accuracy: 0.9737, Testing Accuracy: 0.9743\n",
      "\n"
     ]
    },
    {
     "name": "stdout",
     "output_type": "stream",
     "text": [
      "Epoch 180, Loss 0.0221\n",
      "Training Accuracy: 0.9744, Testing Accuracy: 0.9743\n",
      "\n"
     ]
    },
    {
     "name": "stdout",
     "output_type": "stream",
     "text": [
      "Epoch 190, Loss 0.0217\n",
      "Training Accuracy: 0.9747, Testing Accuracy: 0.9738\n",
      "\n"
     ]
    },
    {
     "name": "stdout",
     "output_type": "stream",
     "text": [
      "Epoch 200, Loss 0.0213\n",
      "Training Accuracy: 0.9755, Testing Accuracy: 0.9748\n",
      "\n"
     ]
    },
    {
     "name": "stdout",
     "output_type": "stream",
     "text": [
      "Epoch 210, Loss 0.0209\n",
      "Training Accuracy: 0.9759, Testing Accuracy: 0.9748\n",
      "\n"
     ]
    },
    {
     "name": "stdout",
     "output_type": "stream",
     "text": [
      "Epoch 220, Loss 0.0205\n",
      "Training Accuracy: 0.9763, Testing Accuracy: 0.9748\n",
      "\n"
     ]
    },
    {
     "name": "stdout",
     "output_type": "stream",
     "text": [
      "Epoch 230, Loss 0.0201\n",
      "Training Accuracy: 0.9770, Testing Accuracy: 0.9753\n",
      "\n"
     ]
    },
    {
     "name": "stdout",
     "output_type": "stream",
     "text": [
      "Epoch 240, Loss 0.0197\n",
      "Training Accuracy: 0.9779, Testing Accuracy: 0.9753\n",
      "\n"
     ]
    },
    {
     "name": "stdout",
     "output_type": "stream",
     "text": [
      "Epoch 250, Loss 0.0194\n",
      "Training Accuracy: 0.9786, Testing Accuracy: 0.9753\n",
      "\n"
     ]
    },
    {
     "data": {
      "text/plain": [
       "0.0071745282703968875"
      ]
     },
     "execution_count": 20,
     "metadata": {},
     "output_type": "execute_result"
    }
   ],
   "source": [
    "print(\"====== Neural Network ======\")\n",
    "learner_nn.train_loop(dl)"
   ]
  },
  {
   "cell_type": "markdown",
   "metadata": {
    "papermill": {
     "duration": 0.037731,
     "end_time": "2020-11-16T00:11:05.333853",
     "exception": false,
     "start_time": "2020-11-16T00:11:05.296122",
     "status": "completed"
    },
    "tags": []
   },
   "source": [
    "### Logistic Regression based Implementation."
   ]
  },
  {
   "cell_type": "code",
   "execution_count": 21,
   "metadata": {
    "execution": {
     "iopub.execute_input": "2020-11-16T00:11:05.424573Z",
     "iopub.status.busy": "2020-11-16T00:11:05.423986Z",
     "iopub.status.idle": "2020-11-16T00:11:05.429246Z",
     "shell.execute_reply": "2020-11-16T00:11:05.430108Z"
    },
    "papermill": {
     "duration": 0.057063,
     "end_time": "2020-11-16T00:11:05.430262",
     "exception": false,
     "start_time": "2020-11-16T00:11:05.373199",
     "status": "completed"
    },
    "tags": []
   },
   "outputs": [],
   "source": [
    "learner_lr = Learner(loss, model_lr, opt, config.num_epochs)\n",
    "acc_lr = ClfCallback(learner_lr, config.bs, training_xdata , testing_xdata, training_ydata, testing_ydata)\n",
    "learner_lr.set_callbacks([acc_lr])"
   ]
  },
  {
   "cell_type": "code",
   "execution_count": 22,
   "metadata": {
    "execution": {
     "iopub.execute_input": "2020-11-16T00:11:05.512492Z",
     "iopub.status.busy": "2020-11-16T00:11:05.511862Z",
     "iopub.status.idle": "2020-11-16T00:11:25.900127Z",
     "shell.execute_reply": "2020-11-16T00:11:25.900941Z"
    },
    "papermill": {
     "duration": 20.432771,
     "end_time": "2020-11-16T00:11:25.901106",
     "exception": false,
     "start_time": "2020-11-16T00:11:05.468335",
     "status": "completed"
    },
    "tags": []
   },
   "outputs": [
    {
     "name": "stdout",
     "output_type": "stream",
     "text": [
      "====== Logistic Regression ======\n",
      "Epoch 0, Loss 0.2283\n",
      "Training Accuracy: 0.7661, Testing Accuracy: 0.7787\n",
      "\n"
     ]
    },
    {
     "name": "stdout",
     "output_type": "stream",
     "text": [
      "Epoch 10, Loss 0.1025\n",
      "Training Accuracy: 0.9110, Testing Accuracy: 0.9183\n",
      "\n"
     ]
    },
    {
     "name": "stdout",
     "output_type": "stream",
     "text": [
      "Epoch 20, Loss 0.0795\n",
      "Training Accuracy: 0.9272, Testing Accuracy: 0.9375\n",
      "\n"
     ]
    },
    {
     "name": "stdout",
     "output_type": "stream",
     "text": [
      "Epoch 30, Loss 0.0687\n",
      "Training Accuracy: 0.9354, Testing Accuracy: 0.9466\n",
      "\n"
     ]
    },
    {
     "name": "stdout",
     "output_type": "stream",
     "text": [
      "Epoch 40, Loss 0.062\n",
      "Training Accuracy: 0.9403, Testing Accuracy: 0.9516\n",
      "\n"
     ]
    },
    {
     "name": "stdout",
     "output_type": "stream",
     "text": [
      "Epoch 50, Loss 0.0575\n",
      "Training Accuracy: 0.9432, Testing Accuracy: 0.9546\n",
      "\n"
     ]
    },
    {
     "name": "stdout",
     "output_type": "stream",
     "text": [
      "Epoch 60, Loss 0.0542\n",
      "Training Accuracy: 0.9454, Testing Accuracy: 0.9572\n",
      "\n"
     ]
    },
    {
     "name": "stdout",
     "output_type": "stream",
     "text": [
      "Epoch 70, Loss 0.0516\n",
      "Training Accuracy: 0.9475, Testing Accuracy: 0.9582\n",
      "\n"
     ]
    },
    {
     "name": "stdout",
     "output_type": "stream",
     "text": [
      "Epoch 80, Loss 0.0495\n",
      "Training Accuracy: 0.9494, Testing Accuracy: 0.9587\n",
      "\n"
     ]
    },
    {
     "name": "stdout",
     "output_type": "stream",
     "text": [
      "Epoch 90, Loss 0.0478\n",
      "Training Accuracy: 0.9516, Testing Accuracy: 0.9597\n",
      "\n"
     ]
    },
    {
     "name": "stdout",
     "output_type": "stream",
     "text": [
      "Epoch 100, Loss 0.0463\n",
      "Training Accuracy: 0.9527, Testing Accuracy: 0.9602\n",
      "\n"
     ]
    },
    {
     "name": "stdout",
     "output_type": "stream",
     "text": [
      "Epoch 110, Loss 0.0451\n",
      "Training Accuracy: 0.9553, Testing Accuracy: 0.9622\n",
      "\n"
     ]
    },
    {
     "name": "stdout",
     "output_type": "stream",
     "text": [
      "Epoch 120, Loss 0.044\n",
      "Training Accuracy: 0.9562, Testing Accuracy: 0.9622\n",
      "\n"
     ]
    },
    {
     "name": "stdout",
     "output_type": "stream",
     "text": [
      "Epoch 130, Loss 0.0431\n",
      "Training Accuracy: 0.9570, Testing Accuracy: 0.9627\n",
      "\n"
     ]
    },
    {
     "name": "stdout",
     "output_type": "stream",
     "text": [
      "Epoch 140, Loss 0.0422\n",
      "Training Accuracy: 0.9574, Testing Accuracy: 0.9627\n",
      "\n"
     ]
    },
    {
     "name": "stdout",
     "output_type": "stream",
     "text": [
      "Epoch 150, Loss 0.0415\n",
      "Training Accuracy: 0.9579, Testing Accuracy: 0.9642\n",
      "\n"
     ]
    },
    {
     "name": "stdout",
     "output_type": "stream",
     "text": [
      "Epoch 160, Loss 0.0408\n",
      "Training Accuracy: 0.9590, Testing Accuracy: 0.9647\n",
      "\n"
     ]
    },
    {
     "name": "stdout",
     "output_type": "stream",
     "text": [
      "Epoch 170, Loss 0.0402\n",
      "Training Accuracy: 0.9596, Testing Accuracy: 0.9647\n",
      "\n"
     ]
    },
    {
     "name": "stdout",
     "output_type": "stream",
     "text": [
      "Epoch 180, Loss 0.0396\n",
      "Training Accuracy: 0.9596, Testing Accuracy: 0.9647\n",
      "\n"
     ]
    },
    {
     "name": "stdout",
     "output_type": "stream",
     "text": [
      "Epoch 190, Loss 0.0391\n",
      "Training Accuracy: 0.9598, Testing Accuracy: 0.9657\n",
      "\n"
     ]
    },
    {
     "name": "stdout",
     "output_type": "stream",
     "text": [
      "Epoch 200, Loss 0.0386\n",
      "Training Accuracy: 0.9598, Testing Accuracy: 0.9662\n",
      "\n"
     ]
    },
    {
     "name": "stdout",
     "output_type": "stream",
     "text": [
      "Epoch 210, Loss 0.0381\n",
      "Training Accuracy: 0.9601, Testing Accuracy: 0.9667\n",
      "\n"
     ]
    },
    {
     "name": "stdout",
     "output_type": "stream",
     "text": [
      "Epoch 220, Loss 0.0377\n",
      "Training Accuracy: 0.9607, Testing Accuracy: 0.9672\n",
      "\n"
     ]
    },
    {
     "name": "stdout",
     "output_type": "stream",
     "text": [
      "Epoch 230, Loss 0.0373\n",
      "Training Accuracy: 0.9609, Testing Accuracy: 0.9672\n",
      "\n"
     ]
    },
    {
     "name": "stdout",
     "output_type": "stream",
     "text": [
      "Epoch 240, Loss 0.037\n",
      "Training Accuracy: 0.9609, Testing Accuracy: 0.9672\n",
      "\n"
     ]
    },
    {
     "name": "stdout",
     "output_type": "stream",
     "text": [
      "Epoch 250, Loss 0.0366\n",
      "Training Accuracy: 0.9614, Testing Accuracy: 0.9677\n",
      "\n"
     ]
    },
    {
     "data": {
      "text/plain": [
       "0.03977014297566322"
      ]
     },
     "execution_count": 22,
     "metadata": {},
     "output_type": "execute_result"
    }
   ],
   "source": [
    "print(\"====== Logistic Regression ======\")\n",
    "learner_lr.train_loop(dl)"
   ]
  },
  {
   "cell_type": "markdown",
   "metadata": {
    "papermill": {
     "duration": 0.044426,
     "end_time": "2020-11-16T00:11:26.002366",
     "exception": false,
     "start_time": "2020-11-16T00:11:25.957940",
     "status": "completed"
    },
    "tags": []
   },
   "source": [
    "### Comparing results of NN and LR"
   ]
  },
  {
   "cell_type": "code",
   "execution_count": 23,
   "metadata": {
    "execution": {
     "iopub.execute_input": "2020-11-16T00:11:26.103868Z",
     "iopub.status.busy": "2020-11-16T00:11:26.103170Z",
     "iopub.status.idle": "2020-11-16T00:11:26.386731Z",
     "shell.execute_reply": "2020-11-16T00:11:26.385957Z"
    },
    "papermill": {
     "duration": 0.336481,
     "end_time": "2020-11-16T00:11:26.386866",
     "exception": false,
     "start_time": "2020-11-16T00:11:26.050385",
     "status": "completed"
    },
    "tags": []
   },
   "outputs": [
    {
     "data": {
      "text/plain": [
       "<matplotlib.legend.Legend at 0x7ff17c026048>"
      ]
     },
     "execution_count": 23,
     "metadata": {},
     "output_type": "execute_result"
    },
    {
     "data": {
      "image/png": "[encoded data removed]",
      "text/plain": [
       "<Figure size 1080x720 with 1 Axes>"
      ]
     },
     "metadata": {
      "needs_background": "light"
     },
     "output_type": "display_data"
    }
   ],
   "source": [
    "plt.figure(figsize=(15,10))\n",
    "\n",
    "# Neural Network plots\n",
    "plt.plot(acc_nn.accuracies, 'r-', label = \"Training Accuracies - NN\")\n",
    "plt.plot(acc_nn.test_accuracies, 'g-', label = \"Testing Accuracies - NN\")\n",
    "\n",
    "# Logistic Regression plots\n",
    "plt.plot(acc_lr.accuracies, 'k-', label = \"Training Accuracies - LR\")\n",
    "plt.plot(acc_lr.test_accuracies, 'b-', label = \"Testing Accuracies - LR\")\n",
    "\n",
    "plt.ylim(0.8, 1)\n",
    "\n",
    "plt.legend()\n",
    "\n"
   ]
  },
  {
   "cell_type": "markdown",
   "metadata": {
    "papermill": {
     "duration": 0.052582,
     "end_time": "2020-11-16T00:11:26.492988",
     "exception": false,
     "start_time": "2020-11-16T00:11:26.440406",
     "status": "completed"
    },
    "tags": []
   },
   "source": [
    "### From the plot, we can observe the following:\n",
    "- Neural Network achieves higher accuracy than the Logistic Regression model.\n",
    "- This apparently, is because of overfitting, i.e. NN captures more noise than data.\n",
    "- Testing accuracy of NN drops below the Training accuracy at higher epochs. This explains the over-fitting on training data.\n",
    "- Logistic Regression gives a reliable accuracy, without the above mentioned problem.\n"
   ]
  },
  {
   "cell_type": "markdown",
   "metadata": {
    "papermill": {
     "duration": 0.050172,
     "end_time": "2020-11-16T00:11:26.595316",
     "exception": false,
     "start_time": "2020-11-16T00:11:26.545144",
     "status": "completed"
    },
    "tags": []
   },
   "source": [
    "### Moving till the last but one layer (excluding it).\n",
    "#### Plotting the outputs of this layer of the NN."
   ]
  },
  {
   "cell_type": "code",
   "execution_count": 24,
   "metadata": {
    "execution": {
     "iopub.execute_input": "2020-11-16T00:11:26.695118Z",
     "iopub.status.busy": "2020-11-16T00:11:26.694543Z",
     "iopub.status.idle": "2020-11-16T00:11:26.710359Z",
     "shell.execute_reply": "2020-11-16T00:11:26.709771Z"
    },
    "papermill": {
     "duration": 0.066604,
     "end_time": "2020-11-16T00:11:26.710492",
     "exception": false,
     "start_time": "2020-11-16T00:11:26.643888",
     "status": "completed"
    },
    "tags": []
   },
   "outputs": [],
   "source": [
    "model_new = Model(layers[:-2])"
   ]
  },
  {
   "cell_type": "code",
   "execution_count": 25,
   "metadata": {
    "execution": {
     "iopub.execute_input": "2020-11-16T00:11:26.810466Z",
     "iopub.status.busy": "2020-11-16T00:11:26.809836Z",
     "iopub.status.idle": "2020-11-16T00:11:26.834030Z",
     "shell.execute_reply": "2020-11-16T00:11:26.834799Z"
    },
    "papermill": {
     "duration": 0.076405,
     "end_time": "2020-11-16T00:11:26.834958",
     "exception": false,
     "start_time": "2020-11-16T00:11:26.758553",
     "status": "completed"
    },
    "tags": []
   },
   "outputs": [],
   "source": [
    "plot_testing = model_new(testing_xdata)"
   ]
  },
  {
   "cell_type": "code",
   "execution_count": 26,
   "metadata": {
    "execution": {
     "iopub.execute_input": "2020-11-16T00:11:26.941195Z",
     "iopub.status.busy": "2020-11-16T00:11:26.940543Z",
     "iopub.status.idle": "2020-11-16T00:11:27.172861Z",
     "shell.execute_reply": "2020-11-16T00:11:27.173603Z"
    },
    "papermill": {
     "duration": 0.290624,
     "end_time": "2020-11-16T00:11:27.173766",
     "exception": false,
     "start_time": "2020-11-16T00:11:26.883142",
     "status": "completed"
    },
    "tags": []
   },
   "outputs": [
    {
     "data": {
      "text/plain": [
       "Text(0.5, 1.0, 'Outputs')"
      ]
     },
     "execution_count": 26,
     "metadata": {},
     "output_type": "execute_result"
    },
    {
     "data": {
      "image/png": "[encoded data removed]",
      "text/plain": [
       "<Figure size 576x504 with 1 Axes>"
      ]
     },
     "metadata": {
      "needs_background": "light"
     },
     "output_type": "display_data"
    }
   ],
   "source": [
    "plt.figure(figsize=(8,7))\n",
    "plt.scatter(plot_testing[:,0], plot_testing[:,1], alpha = 0.1, c = y_test.ravel());\n",
    "plt.title('Outputs')"
   ]
  },
  {
   "cell_type": "markdown",
   "metadata": {
    "papermill": {
     "duration": 0.049379,
     "end_time": "2020-11-16T00:11:27.271392",
     "exception": false,
     "start_time": "2020-11-16T00:11:27.222013",
     "status": "completed"
    },
    "tags": []
   },
   "source": [
    "### Plotting probability contours"
   ]
  },
  {
   "cell_type": "code",
   "execution_count": 27,
   "metadata": {
    "execution": {
     "iopub.execute_input": "2020-11-16T00:11:27.380812Z",
     "iopub.status.busy": "2020-11-16T00:11:27.380126Z",
     "iopub.status.idle": "2020-11-16T00:11:27.390722Z",
     "shell.execute_reply": "2020-11-16T00:11:27.390258Z"
    },
    "papermill": {
     "duration": 0.071316,
     "end_time": "2020-11-16T00:11:27.390854",
     "exception": false,
     "start_time": "2020-11-16T00:11:27.319538",
     "status": "completed"
    },
    "tags": []
   },
   "outputs": [],
   "source": [
    "model_prob = Model(layers[-2:]) "
   ]
  },
  {
   "cell_type": "code",
   "execution_count": 28,
   "metadata": {
    "execution": {
     "iopub.execute_input": "2020-11-16T00:11:27.500177Z",
     "iopub.status.busy": "2020-11-16T00:11:27.499573Z",
     "iopub.status.idle": "2020-11-16T00:11:27.512045Z",
     "shell.execute_reply": "2020-11-16T00:11:27.512508Z"
    },
    "papermill": {
     "duration": 0.076147,
     "end_time": "2020-11-16T00:11:27.512717",
     "exception": false,
     "start_time": "2020-11-16T00:11:27.436570",
     "status": "completed"
    },
    "tags": []
   },
   "outputs": [],
   "source": [
    "# Adjust the x and y ranges according to the above generated plot.\n",
    "x_range = np.linspace(-4, 1, 100) \n",
    "y_range = np.linspace(-6, 6, 100) \n",
    "x_grid, y_grid = np.meshgrid(x_range, y_range) # x_grid and y_grig are of size 100 X 100\n",
    "\n",
    "# converting x_grid and y_grid to continuous arrays\n",
    "x_grid_flat = np.ravel(x_grid)\n",
    "y_grid_flat = np.ravel(y_grid)\n",
    "\n",
    "# The last layer of the current model takes two columns as input. Hence transpose of np.vstack() is required.\n",
    "X = np.vstack((x_grid_flat, y_grid_flat)).T\n",
    "\n",
    "# x_grid and y_grid are of size 100 x 100\n",
    "probability_contour = model_prob(X).reshape(100,100) "
   ]
  },
  {
   "cell_type": "code",
   "execution_count": 29,
   "metadata": {
    "execution": {
     "iopub.execute_input": "2020-11-16T00:11:27.624616Z",
     "iopub.status.busy": "2020-11-16T00:11:27.624008Z",
     "iopub.status.idle": "2020-11-16T00:11:27.904327Z",
     "shell.execute_reply": "2020-11-16T00:11:27.903845Z"
    },
    "papermill": {
     "duration": 0.343094,
     "end_time": "2020-11-16T00:11:27.904470",
     "exception": false,
     "start_time": "2020-11-16T00:11:27.561376",
     "status": "completed"
    },
    "tags": []
   },
   "outputs": [
    {
     "data": {
      "image/png": "[encoded data removed]",
      "text/plain": [
       "<Figure size 720x648 with 1 Axes>"
      ]
     },
     "metadata": {
      "needs_background": "light"
     },
     "output_type": "display_data"
    }
   ],
   "source": [
    "plt.figure(figsize=(10,9))\n",
    "plt.scatter(plot_testing[:,0], plot_testing[:,1], alpha = 0.1, c = y_test.ravel())\n",
    "contours = plt.contour(x_grid,y_grid,probability_contour)\n",
    "plt.title('Probability Contours')\n",
    "plt.clabel(contours, inline = True );"
   ]
  }
 ],
 "metadata": {
  "kernelspec": {
   "display_name": "Python 3",
   "language": "python",
   "name": "python3"
  },
  "language_info": {
   "codemirror_mode": {
    "name": "ipython",
    "version": 3
   },
   "file_extension": ".py",
   "mimetype": "text/x-python",
   "name": "python",
   "nbconvert_exporter": "python",
   "pygments_lexer": "ipython3",
   "version": "3.6.12"
  },
  "papermill": {
   "duration": 167.418746,
   "end_time": "2020-11-16T00:11:29.250415",
   "environment_variables": {},
   "exception": null,
   "input_path": "2020-08-11-NeuralNetwork.ipynb",
   "output_path": "2020-08-11-NeuralNetwork.ipynb",
   "parameters": {},
   "start_time": "2020-11-16T00:08:41.831669",
   "version": "2.1.2"
  }
 },
 "nbformat": 4,
 "nbformat_minor": 4
}