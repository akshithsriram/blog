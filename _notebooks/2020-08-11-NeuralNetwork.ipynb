{
 "cells": [
  {
   "cell_type": "markdown",
   "metadata": {
    "papermill": {
     "duration": 0.028844,
     "end_time": "2020-11-15T20:04:04.528574",
     "exception": false,
     "start_time": "2020-11-15T20:04:04.499730",
     "status": "completed"
    },
    "tags": []
   },
   "source": [
    "# \"A Basic Neural Network: Differentiate Hand-Written Digits\"\n",
    "\n",
    "- badges: true\n",
    "- author: Akshith Sriram"
   ]
  },
  {
   "cell_type": "markdown",
   "metadata": {
    "papermill": {
     "duration": 0.022831,
     "end_time": "2020-11-15T20:04:04.576457",
     "exception": false,
     "start_time": "2020-11-15T20:04:04.553626",
     "status": "completed"
    },
    "tags": []
   },
   "source": [
    "### Key Objectives:\n",
    "- Building a neural network that differentiates two hand-written digits 3 and 8.\n",
    "- Comparing the results of this Neural Network (NN) to that of a Logistic Regression (LR) model.\n",
    "\n",
    "### Requirements:\n",
    "- 'Kudzu' : A neural network library that was designed during our course by [Univ.AI](www.univ.ai). \n",
    "- MNIST Database\n",
    "\n",
    "If MNIST is not installed, use the command `!pip install mnist` given below.\n",
    "It can be run both from the command line and Jupyter Notebook."
   ]
  },
  {
   "cell_type": "code",
   "execution_count": 1,
   "metadata": {
    "execution": {
     "iopub.execute_input": "2020-11-15T20:04:04.629170Z",
     "iopub.status.busy": "2020-11-15T20:04:04.628537Z",
     "iopub.status.idle": "2020-11-15T20:04:06.109573Z",
     "shell.execute_reply": "2020-11-15T20:04:06.108993Z"
    },
    "papermill": {
     "duration": 1.509231,
     "end_time": "2020-11-15T20:04:06.109819",
     "exception": false,
     "start_time": "2020-11-15T20:04:04.600588",
     "status": "completed"
    },
    "tags": []
   },
   "outputs": [
    {
     "name": "stdout",
     "output_type": "stream",
     "text": [
      "Collecting mnist\r\n"
     ]
    },
    {
     "name": "stdout",
     "output_type": "stream",
     "text": [
      "  Downloading mnist-0.2.2-py2.py3-none-any.whl (3.5 kB)\r\n",
      "Requirement already satisfied: numpy in /opt/hostedtoolcache/Python/3.6.12/x64/lib/python3.6/site-packages (from mnist) (1.19.4)\r\n"
     ]
    },
    {
     "name": "stdout",
     "output_type": "stream",
     "text": [
      "Installing collected packages: mnist\r\n"
     ]
    },
    {
     "name": "stdout",
     "output_type": "stream",
     "text": [
      "Successfully installed mnist-0.2.2\r\n"
     ]
    }
   ],
   "source": [
    "!pip install mnist "
   ]
  },
  {
   "cell_type": "markdown",
   "metadata": {
    "papermill": {
     "duration": 0.3864,
     "end_time": "2020-11-15T20:04:06.552709",
     "exception": false,
     "start_time": "2020-11-15T20:04:06.166309",
     "status": "completed"
    },
    "tags": []
   },
   "source": [
    "#### Importing necessary libraries"
   ]
  },
  {
   "cell_type": "code",
   "execution_count": 2,
   "metadata": {
    "execution": {
     "iopub.execute_input": "2020-11-15T20:04:06.620870Z",
     "iopub.status.busy": "2020-11-15T20:04:06.619994Z",
     "iopub.status.idle": "2020-11-15T20:04:07.159418Z",
     "shell.execute_reply": "2020-11-15T20:04:07.158901Z"
    },
    "papermill": {
     "duration": 0.575524,
     "end_time": "2020-11-15T20:04:07.159597",
     "exception": false,
     "start_time": "2020-11-15T20:04:06.584073",
     "status": "completed"
    },
    "tags": []
   },
   "outputs": [],
   "source": [
    "%load_ext autoreload\n",
    "%autoreload 2\n",
    "\n",
    "%matplotlib inline\n",
    "import matplotlib.pyplot as plt\n",
    "\n",
    "import numpy as np\n",
    "import pandas as pd"
   ]
  },
  {
   "cell_type": "markdown",
   "metadata": {
    "papermill": {
     "duration": 0.024819,
     "end_time": "2020-11-15T20:04:07.209966",
     "exception": false,
     "start_time": "2020-11-15T20:04:07.185147",
     "status": "completed"
    },
    "tags": []
   },
   "source": [
    "### Preparing the Data"
   ]
  },
  {
   "cell_type": "code",
   "execution_count": 3,
   "metadata": {
    "execution": {
     "iopub.execute_input": "2020-11-15T20:04:07.264524Z",
     "iopub.status.busy": "2020-11-15T20:04:07.263931Z",
     "iopub.status.idle": "2020-11-15T20:04:07.275976Z",
     "shell.execute_reply": "2020-11-15T20:04:07.275444Z"
    },
    "papermill": {
     "duration": 0.040246,
     "end_time": "2020-11-15T20:04:07.276150",
     "exception": false,
     "start_time": "2020-11-15T20:04:07.235904",
     "status": "completed"
    },
    "tags": []
   },
   "outputs": [],
   "source": [
    "import mnist"
   ]
  },
  {
   "cell_type": "code",
   "execution_count": 4,
   "metadata": {
    "execution": {
     "iopub.execute_input": "2020-11-15T20:04:07.329910Z",
     "iopub.status.busy": "2020-11-15T20:04:07.329277Z",
     "iopub.status.idle": "2020-11-15T20:04:08.958167Z",
     "shell.execute_reply": "2020-11-15T20:04:08.957472Z"
    },
    "papermill": {
     "duration": 1.656382,
     "end_time": "2020-11-15T20:04:08.958324",
     "exception": false,
     "start_time": "2020-11-15T20:04:07.301942",
     "status": "completed"
    },
    "tags": []
   },
   "outputs": [],
   "source": [
    "train_images = mnist.train_images()\n",
    "train_labels = mnist.train_labels()"
   ]
  },
  {
   "cell_type": "code",
   "execution_count": 5,
   "metadata": {
    "execution": {
     "iopub.execute_input": "2020-11-15T20:04:09.018094Z",
     "iopub.status.busy": "2020-11-15T20:04:09.015698Z",
     "iopub.status.idle": "2020-11-15T20:04:09.030844Z",
     "shell.execute_reply": "2020-11-15T20:04:09.030365Z"
    },
    "papermill": {
     "duration": 0.045679,
     "end_time": "2020-11-15T20:04:09.030976",
     "exception": false,
     "start_time": "2020-11-15T20:04:08.985297",
     "status": "completed"
    },
    "tags": []
   },
   "outputs": [
    {
     "data": {
      "text/plain": [
       "((60000, 28, 28), (60000,))"
      ]
     },
     "execution_count": 5,
     "metadata": {},
     "output_type": "execute_result"
    }
   ],
   "source": [
    "train_images.shape, train_labels.shape"
   ]
  },
  {
   "cell_type": "code",
   "execution_count": 6,
   "metadata": {
    "execution": {
     "iopub.execute_input": "2020-11-15T20:04:09.090266Z",
     "iopub.status.busy": "2020-11-15T20:04:09.089585Z",
     "iopub.status.idle": "2020-11-15T20:04:09.954411Z",
     "shell.execute_reply": "2020-11-15T20:04:09.954867Z"
    },
    "papermill": {
     "duration": 0.897004,
     "end_time": "2020-11-15T20:04:09.955029",
     "exception": false,
     "start_time": "2020-11-15T20:04:09.058025",
     "status": "completed"
    },
    "tags": []
   },
   "outputs": [],
   "source": [
    "test_images = mnist.test_images()\n",
    "test_labels = mnist.test_labels()"
   ]
  },
  {
   "cell_type": "code",
   "execution_count": 7,
   "metadata": {
    "execution": {
     "iopub.execute_input": "2020-11-15T20:04:10.009355Z",
     "iopub.status.busy": "2020-11-15T20:04:10.008507Z",
     "iopub.status.idle": "2020-11-15T20:04:10.022005Z",
     "shell.execute_reply": "2020-11-15T20:04:10.022563Z"
    },
    "papermill": {
     "duration": 0.042945,
     "end_time": "2020-11-15T20:04:10.022768",
     "exception": false,
     "start_time": "2020-11-15T20:04:09.979823",
     "status": "completed"
    },
    "tags": []
   },
   "outputs": [
    {
     "data": {
      "text/plain": [
       "((10000, 28, 28), (10000,))"
      ]
     },
     "execution_count": 7,
     "metadata": {},
     "output_type": "execute_result"
    }
   ],
   "source": [
    "test_images.shape, test_labels.shape"
   ]
  },
  {
   "cell_type": "code",
   "execution_count": 8,
   "metadata": {
    "execution": {
     "iopub.execute_input": "2020-11-15T20:04:10.078061Z",
     "iopub.status.busy": "2020-11-15T20:04:10.077212Z",
     "iopub.status.idle": "2020-11-15T20:04:10.246981Z",
     "shell.execute_reply": "2020-11-15T20:04:10.247494Z"
    },
    "papermill": {
     "duration": 0.199833,
     "end_time": "2020-11-15T20:04:10.247672",
     "exception": false,
     "start_time": "2020-11-15T20:04:10.047839",
     "status": "completed"
    },
    "tags": []
   },
   "outputs": [
    {
     "name": "stdout",
     "output_type": "stream",
     "text": [
      "2\n"
     ]
    },
    {
     "data": {
      "text/plain": [
       "<matplotlib.image.AxesImage at 0x7fb3b7243668>"
      ]
     },
     "execution_count": 8,
     "metadata": {},
     "output_type": "execute_result"
    },
    {
     "data": {
      "image/png": "[encoded data removed]",
      "text/plain": [
       "<Figure size 432x288 with 1 Axes>"
      ]
     },
     "metadata": {
      "needs_background": "light"
     },
     "output_type": "display_data"
    }
   ],
   "source": [
    "image_index = 7776 # You may select anything up to 60,000\n",
    "print(train_labels[image_index]) \n",
    "plt.imshow(train_images[image_index], cmap='Greys')"
   ]
  },
  {
   "cell_type": "markdown",
   "metadata": {
    "papermill": {
     "duration": 0.027661,
     "end_time": "2020-11-15T20:04:10.303498",
     "exception": false,
     "start_time": "2020-11-15T20:04:10.275837",
     "status": "completed"
    },
    "tags": []
   },
   "source": [
    "## Filter data to get 3 and 8 out"
   ]
  },
  {
   "cell_type": "code",
   "execution_count": 9,
   "metadata": {
    "execution": {
     "iopub.execute_input": "2020-11-15T20:04:10.370530Z",
     "iopub.status.busy": "2020-11-15T20:04:10.364108Z",
     "iopub.status.idle": "2020-11-15T20:04:10.380995Z",
     "shell.execute_reply": "2020-11-15T20:04:10.380518Z"
    },
    "papermill": {
     "duration": 0.050283,
     "end_time": "2020-11-15T20:04:10.381139",
     "exception": false,
     "start_time": "2020-11-15T20:04:10.330856",
     "status": "completed"
    },
    "tags": []
   },
   "outputs": [],
   "source": [
    "train_filter = np.where((train_labels == 3 ) | (train_labels == 8))\n",
    "test_filter = np.where((test_labels == 3) | (test_labels == 8))\n",
    "X_train, y_train = train_images[train_filter], train_labels[train_filter]\n",
    "X_test, y_test = test_images[test_filter], test_labels[test_filter]"
   ]
  },
  {
   "cell_type": "markdown",
   "metadata": {
    "papermill": {
     "duration": 0.025765,
     "end_time": "2020-11-15T20:04:10.435164",
     "exception": false,
     "start_time": "2020-11-15T20:04:10.409399",
     "status": "completed"
    },
    "tags": []
   },
   "source": [
    "We normalize the pixel values in the 0 to 1 range"
   ]
  },
  {
   "cell_type": "code",
   "execution_count": 10,
   "metadata": {
    "execution": {
     "iopub.execute_input": "2020-11-15T20:04:10.490004Z",
     "iopub.status.busy": "2020-11-15T20:04:10.489299Z",
     "iopub.status.idle": "2020-11-15T20:04:10.545385Z",
     "shell.execute_reply": "2020-11-15T20:04:10.544888Z"
    },
    "papermill": {
     "duration": 0.085052,
     "end_time": "2020-11-15T20:04:10.545575",
     "exception": false,
     "start_time": "2020-11-15T20:04:10.460523",
     "status": "completed"
    },
    "tags": []
   },
   "outputs": [],
   "source": [
    "X_train = X_train/255.\n",
    "X_test = X_test/255."
   ]
  },
  {
   "cell_type": "markdown",
   "metadata": {
    "papermill": {
     "duration": 0.024783,
     "end_time": "2020-11-15T20:04:10.597081",
     "exception": false,
     "start_time": "2020-11-15T20:04:10.572298",
     "status": "completed"
    },
    "tags": []
   },
   "source": [
    "Setup the labels as 1 (when the digit is 3) and 0 (when the digit is 8)"
   ]
  },
  {
   "cell_type": "code",
   "execution_count": 11,
   "metadata": {
    "execution": {
     "iopub.execute_input": "2020-11-15T20:04:10.672785Z",
     "iopub.status.busy": "2020-11-15T20:04:10.671440Z",
     "iopub.status.idle": "2020-11-15T20:04:10.675992Z",
     "shell.execute_reply": "2020-11-15T20:04:10.674834Z"
    },
    "papermill": {
     "duration": 0.05194,
     "end_time": "2020-11-15T20:04:10.676168",
     "exception": false,
     "start_time": "2020-11-15T20:04:10.624228",
     "status": "completed"
    },
    "tags": []
   },
   "outputs": [],
   "source": [
    "y_train = 1*(y_train==3)\n",
    "y_test = 1*(y_test==3)"
   ]
  },
  {
   "cell_type": "code",
   "execution_count": 12,
   "metadata": {
    "execution": {
     "iopub.execute_input": "2020-11-15T20:04:10.735567Z",
     "iopub.status.busy": "2020-11-15T20:04:10.734743Z",
     "iopub.status.idle": "2020-11-15T20:04:10.745437Z",
     "shell.execute_reply": "2020-11-15T20:04:10.745987Z"
    },
    "papermill": {
     "duration": 0.043052,
     "end_time": "2020-11-15T20:04:10.746122",
     "exception": false,
     "start_time": "2020-11-15T20:04:10.703070",
     "status": "completed"
    },
    "tags": []
   },
   "outputs": [
    {
     "data": {
      "text/plain": [
       "((11982, 28, 28), (1984, 28, 28))"
      ]
     },
     "execution_count": 12,
     "metadata": {},
     "output_type": "execute_result"
    }
   ],
   "source": [
    "X_train.shape, X_test.shape"
   ]
  },
  {
   "cell_type": "markdown",
   "metadata": {
    "papermill": {
     "duration": 0.025703,
     "end_time": "2020-11-15T20:04:10.798194",
     "exception": false,
     "start_time": "2020-11-15T20:04:10.772491",
     "status": "completed"
    },
    "tags": []
   },
   "source": [
    "### Reshape the input data to create a linear array"
   ]
  },
  {
   "cell_type": "code",
   "execution_count": 13,
   "metadata": {
    "execution": {
     "iopub.execute_input": "2020-11-15T20:04:10.867977Z",
     "iopub.status.busy": "2020-11-15T20:04:10.858113Z",
     "iopub.status.idle": "2020-11-15T20:04:10.871104Z",
     "shell.execute_reply": "2020-11-15T20:04:10.871570Z"
    },
    "papermill": {
     "duration": 0.046608,
     "end_time": "2020-11-15T20:04:10.871702",
     "exception": false,
     "start_time": "2020-11-15T20:04:10.825094",
     "status": "completed"
    },
    "tags": []
   },
   "outputs": [
    {
     "data": {
      "text/plain": [
       "((11982, 784), (1984, 784))"
      ]
     },
     "execution_count": 13,
     "metadata": {},
     "output_type": "execute_result"
    }
   ],
   "source": [
    "X_train = X_train.reshape(X_train.shape[0], -1)\n",
    "X_test = X_test.reshape(X_test.shape[0], -1)\n",
    "X_train.shape, X_test.shape"
   ]
  },
  {
   "cell_type": "markdown",
   "metadata": {
    "papermill": {
     "duration": 0.027568,
     "end_time": "2020-11-15T20:04:10.927514",
     "exception": false,
     "start_time": "2020-11-15T20:04:10.899946",
     "status": "completed"
    },
    "tags": []
   },
   "source": [
    "### Importing appropriate functions from 'Kudzu'"
   ]
  },
  {
   "cell_type": "code",
   "execution_count": 14,
   "metadata": {
    "execution": {
     "iopub.execute_input": "2020-11-15T20:04:10.991509Z",
     "iopub.status.busy": "2020-11-15T20:04:10.990817Z",
     "iopub.status.idle": "2020-11-15T20:04:11.008875Z",
     "shell.execute_reply": "2020-11-15T20:04:11.008392Z"
    },
    "papermill": {
     "duration": 0.053923,
     "end_time": "2020-11-15T20:04:11.009013",
     "exception": false,
     "start_time": "2020-11-15T20:04:10.955090",
     "status": "completed"
    },
    "tags": []
   },
   "outputs": [],
   "source": [
    "from kudzu.layer import Sigmoid\n",
    "from kudzu.layer import Relu\n",
    "from kudzu.layer import Affine, Sigmoid\n",
    "\n",
    "from kudzu.model import Model\n",
    "from kudzu.train import Learner\n",
    "from kudzu.optim import GD\n",
    "from kudzu.data import Data, Dataloader, Sampler\n",
    "\n",
    "from kudzu.callbacks import AccCallback\n",
    "from kudzu.callbacks import ClfCallback\n",
    "\n",
    "from kudzu.loss import MSE"
   ]
  },
  {
   "cell_type": "markdown",
   "metadata": {
    "papermill": {
     "duration": 0.026743,
     "end_time": "2020-11-15T20:04:11.063381",
     "exception": false,
     "start_time": "2020-11-15T20:04:11.036638",
     "status": "completed"
    },
    "tags": []
   },
   "source": [
    "### Let us create a `Config` class, to store important parameters. \n",
    "This class essentially plays the role of a dictionary."
   ]
  },
  {
   "cell_type": "code",
   "execution_count": 15,
   "metadata": {
    "execution": {
     "iopub.execute_input": "2020-11-15T20:04:11.122361Z",
     "iopub.status.busy": "2020-11-15T20:04:11.121732Z",
     "iopub.status.idle": "2020-11-15T20:04:11.133385Z",
     "shell.execute_reply": "2020-11-15T20:04:11.132839Z"
    },
    "papermill": {
     "duration": 0.043243,
     "end_time": "2020-11-15T20:04:11.133518",
     "exception": false,
     "start_time": "2020-11-15T20:04:11.090275",
     "status": "completed"
    },
    "tags": []
   },
   "outputs": [],
   "source": [
    "class Config:\n",
    "    pass\n",
    "config = Config()\n",
    "config.lr = 0.001\n",
    "config.num_epochs = 251\n",
    "config.bs = 50"
   ]
  },
  {
   "cell_type": "markdown",
   "metadata": {
    "papermill": {
     "duration": 0.027318,
     "end_time": "2020-11-15T20:04:11.187338",
     "exception": false,
     "start_time": "2020-11-15T20:04:11.160020",
     "status": "completed"
    },
    "tags": []
   },
   "source": [
    "### Initializing data to the variables"
   ]
  },
  {
   "cell_type": "code",
   "execution_count": 16,
   "metadata": {
    "execution": {
     "iopub.execute_input": "2020-11-15T20:04:11.246373Z",
     "iopub.status.busy": "2020-11-15T20:04:11.245346Z",
     "iopub.status.idle": "2020-11-15T20:04:11.258075Z",
     "shell.execute_reply": "2020-11-15T20:04:11.258645Z"
    },
    "papermill": {
     "duration": 0.043976,
     "end_time": "2020-11-15T20:04:11.258787",
     "exception": false,
     "start_time": "2020-11-15T20:04:11.214811",
     "status": "completed"
    },
    "tags": []
   },
   "outputs": [],
   "source": [
    "data = Data(X_train, y_train.reshape(-1,1))\n",
    "sampler = Sampler(data, config.bs, shuffle=True)\n",
    "\n",
    "dl = Dataloader(data, sampler)\n",
    "\n",
    "opt = GD(config.lr)\n",
    "loss = MSE()"
   ]
  },
  {
   "cell_type": "code",
   "execution_count": 17,
   "metadata": {
    "execution": {
     "iopub.execute_input": "2020-11-15T20:04:11.318855Z",
     "iopub.status.busy": "2020-11-15T20:04:11.318254Z",
     "iopub.status.idle": "2020-11-15T20:04:11.330278Z",
     "shell.execute_reply": "2020-11-15T20:04:11.331008Z"
    },
    "papermill": {
     "duration": 0.043619,
     "end_time": "2020-11-15T20:04:11.331147",
     "exception": false,
     "start_time": "2020-11-15T20:04:11.287528",
     "status": "completed"
    },
    "tags": []
   },
   "outputs": [],
   "source": [
    "training_xdata = X_train\n",
    "testing_xdata = X_test\n",
    "training_ydata = y_train.reshape(-1,1)\n",
    "testing_ydata = y_test.reshape(-1,1)"
   ]
  },
  {
   "cell_type": "markdown",
   "metadata": {
    "papermill": {
     "duration": 0.028327,
     "end_time": "2020-11-15T20:04:11.387946",
     "exception": false,
     "start_time": "2020-11-15T20:04:11.359619",
     "status": "completed"
    },
    "tags": []
   },
   "source": [
    "### Running Models with the Training data\n",
    "Details about the network layers:\n",
    "- A first affine layer has 784 inputs and does 100 affine transforms. These are followed by a Relu\n",
    "- A second affine layer has 100 inputs from the 100 activations of the past layer, and does 100 affine transforms. These are followed by a Relu\n",
    "- A third affine layer has 100 activations and does 2 affine transformations to create an embedding for visualization. There is no non-linearity here.\n",
    "- A final \"logistic regression\" which has an affine transform from 2 inputs to 1 output, which is squeezed through a sigmoid.\n",
    "\n",
    "Help taken from Anshuman's Notebook."
   ]
  },
  {
   "cell_type": "code",
   "execution_count": 18,
   "metadata": {
    "execution": {
     "iopub.execute_input": "2020-11-15T20:04:11.539133Z",
     "iopub.status.busy": "2020-11-15T20:04:11.538402Z",
     "iopub.status.idle": "2020-11-15T20:04:11.557301Z",
     "shell.execute_reply": "2020-11-15T20:04:11.556745Z"
    },
    "papermill": {
     "duration": 0.051545,
     "end_time": "2020-11-15T20:04:11.557441",
     "exception": false,
     "start_time": "2020-11-15T20:04:11.505896",
     "status": "completed"
    },
    "tags": []
   },
   "outputs": [],
   "source": [
    "# layers for the Neural Network\n",
    "layers = [Affine(\"first\", 784, 100), Relu(\"first\"), Affine(\"second\", 100, 100), Relu(\"second\"), Affine(\"third\", 100, 2), Affine(\"final\", 2, 1), Sigmoid(\"final\")]\n",
    "model_nn = Model(layers)\n",
    "\n",
    "# layers for the Logistic Regression\n",
    "layers_lr = [Affine(\"logits\", 784, 1), Sigmoid(\"sigmoid\")]\n",
    "model_lr = Model(layers_lr)"
   ]
  },
  {
   "cell_type": "code",
   "execution_count": 19,
   "metadata": {
    "execution": {
     "iopub.execute_input": "2020-11-15T20:04:11.625097Z",
     "iopub.status.busy": "2020-11-15T20:04:11.624523Z",
     "iopub.status.idle": "2020-11-15T20:04:11.636348Z",
     "shell.execute_reply": "2020-11-15T20:04:11.635811Z"
    },
    "papermill": {
     "duration": 0.047977,
     "end_time": "2020-11-15T20:04:11.636502",
     "exception": false,
     "start_time": "2020-11-15T20:04:11.588525",
     "status": "completed"
    },
    "tags": []
   },
   "outputs": [],
   "source": [
    "# suffix _nn stands for Neural Network.\n",
    "learner_nn = Learner(loss, model_nn, opt, config.num_epochs)\n",
    "acc_nn = ClfCallback(learner_nn, config.bs, training_xdata , testing_xdata, training_ydata, testing_ydata)\n",
    "learner_nn.set_callbacks([acc_nn])"
   ]
  },
  {
   "cell_type": "code",
   "execution_count": 20,
   "metadata": {
    "execution": {
     "iopub.execute_input": "2020-11-15T20:04:11.697067Z",
     "iopub.status.busy": "2020-11-15T20:04:11.696511Z",
     "iopub.status.idle": "2020-11-15T20:06:23.905902Z",
     "shell.execute_reply": "2020-11-15T20:06:23.906445Z"
    },
    "papermill": {
     "duration": 132.241114,
     "end_time": "2020-11-15T20:06:23.906601",
     "exception": false,
     "start_time": "2020-11-15T20:04:11.665487",
     "status": "completed"
    },
    "tags": []
   },
   "outputs": [
    {
     "name": "stdout",
     "output_type": "stream",
     "text": [
      "====== Neural Network ======\n"
     ]
    },
    {
     "name": "stdout",
     "output_type": "stream",
     "text": [
      "Epoch 0, Loss 0.2601\n",
      "Training Accuracy: 0.5485, Testing Accuracy: 0.5358\n",
      "\n"
     ]
    },
    {
     "name": "stdout",
     "output_type": "stream",
     "text": [
      "Epoch 10, Loss 0.0866\n",
      "Training Accuracy: 0.9142, Testing Accuracy: 0.9315\n",
      "\n"
     ]
    },
    {
     "name": "stdout",
     "output_type": "stream",
     "text": [
      "Epoch 20, Loss 0.0536\n",
      "Training Accuracy: 0.9412, Testing Accuracy: 0.9506\n",
      "\n"
     ]
    },
    {
     "name": "stdout",
     "output_type": "stream",
     "text": [
      "Epoch 30, Loss 0.0424\n",
      "Training Accuracy: 0.9528, Testing Accuracy: 0.9597\n",
      "\n"
     ]
    },
    {
     "name": "stdout",
     "output_type": "stream",
     "text": [
      "Epoch 40, Loss 0.0369\n",
      "Training Accuracy: 0.9581, Testing Accuracy: 0.9647\n",
      "\n"
     ]
    },
    {
     "name": "stdout",
     "output_type": "stream",
     "text": [
      "Epoch 50, Loss 0.0335\n",
      "Training Accuracy: 0.9618, Testing Accuracy: 0.9667\n",
      "\n"
     ]
    },
    {
     "name": "stdout",
     "output_type": "stream",
     "text": [
      "Epoch 60, Loss 0.031\n",
      "Training Accuracy: 0.9643, Testing Accuracy: 0.9688\n",
      "\n"
     ]
    },
    {
     "name": "stdout",
     "output_type": "stream",
     "text": [
      "Epoch 70, Loss 0.0292\n",
      "Training Accuracy: 0.9669, Testing Accuracy: 0.9698\n",
      "\n"
     ]
    },
    {
     "name": "stdout",
     "output_type": "stream",
     "text": [
      "Epoch 80, Loss 0.0278\n",
      "Training Accuracy: 0.9687, Testing Accuracy: 0.9688\n",
      "\n"
     ]
    },
    {
     "name": "stdout",
     "output_type": "stream",
     "text": [
      "Epoch 90, Loss 0.0265\n",
      "Training Accuracy: 0.9702, Testing Accuracy: 0.9713\n",
      "\n"
     ]
    },
    {
     "name": "stdout",
     "output_type": "stream",
     "text": [
      "Epoch 100, Loss 0.0255\n",
      "Training Accuracy: 0.9715, Testing Accuracy: 0.9723\n",
      "\n"
     ]
    },
    {
     "name": "stdout",
     "output_type": "stream",
     "text": [
      "Epoch 110, Loss 0.0246\n",
      "Training Accuracy: 0.9724, Testing Accuracy: 0.9723\n",
      "\n"
     ]
    },
    {
     "name": "stdout",
     "output_type": "stream",
     "text": [
      "Epoch 120, Loss 0.0238\n",
      "Training Accuracy: 0.9734, Testing Accuracy: 0.9728\n",
      "\n"
     ]
    },
    {
     "name": "stdout",
     "output_type": "stream",
     "text": [
      "Epoch 130, Loss 0.0231\n",
      "Training Accuracy: 0.9746, Testing Accuracy: 0.9723\n",
      "\n"
     ]
    },
    {
     "name": "stdout",
     "output_type": "stream",
     "text": [
      "Epoch 140, Loss 0.0224\n",
      "Training Accuracy: 0.9754, Testing Accuracy: 0.9723\n",
      "\n"
     ]
    },
    {
     "name": "stdout",
     "output_type": "stream",
     "text": [
      "Epoch 150, Loss 0.0218\n",
      "Training Accuracy: 0.9757, Testing Accuracy: 0.9733\n",
      "\n"
     ]
    },
    {
     "name": "stdout",
     "output_type": "stream",
     "text": [
      "Epoch 160, Loss 0.0212\n",
      "Training Accuracy: 0.9762, Testing Accuracy: 0.9733\n",
      "\n"
     ]
    },
    {
     "name": "stdout",
     "output_type": "stream",
     "text": [
      "Epoch 170, Loss 0.0206\n",
      "Training Accuracy: 0.9768, Testing Accuracy: 0.9733\n",
      "\n"
     ]
    },
    {
     "name": "stdout",
     "output_type": "stream",
     "text": [
      "Epoch 180, Loss 0.0201\n",
      "Training Accuracy: 0.9772, Testing Accuracy: 0.9743\n",
      "\n"
     ]
    },
    {
     "name": "stdout",
     "output_type": "stream",
     "text": [
      "Epoch 190, Loss 0.0196\n",
      "Training Accuracy: 0.9781, Testing Accuracy: 0.9743\n",
      "\n"
     ]
    },
    {
     "name": "stdout",
     "output_type": "stream",
     "text": [
      "Epoch 200, Loss 0.0191\n",
      "Training Accuracy: 0.9788, Testing Accuracy: 0.9743\n",
      "\n"
     ]
    },
    {
     "name": "stdout",
     "output_type": "stream",
     "text": [
      "Epoch 210, Loss 0.0187\n",
      "Training Accuracy: 0.9791, Testing Accuracy: 0.9748\n",
      "\n"
     ]
    },
    {
     "name": "stdout",
     "output_type": "stream",
     "text": [
      "Epoch 220, Loss 0.0182\n",
      "Training Accuracy: 0.9796, Testing Accuracy: 0.9753\n",
      "\n"
     ]
    },
    {
     "name": "stdout",
     "output_type": "stream",
     "text": [
      "Epoch 230, Loss 0.0178\n",
      "Training Accuracy: 0.9802, Testing Accuracy: 0.9758\n",
      "\n"
     ]
    },
    {
     "name": "stdout",
     "output_type": "stream",
     "text": [
      "Epoch 240, Loss 0.0174\n",
      "Training Accuracy: 0.9807, Testing Accuracy: 0.9758\n",
      "\n"
     ]
    },
    {
     "name": "stdout",
     "output_type": "stream",
     "text": [
      "Epoch 250, Loss 0.017\n",
      "Training Accuracy: 0.9816, Testing Accuracy: 0.9768\n",
      "\n"
     ]
    },
    {
     "data": {
      "text/plain": [
       "0.044838831802772164"
      ]
     },
     "execution_count": 20,
     "metadata": {},
     "output_type": "execute_result"
    }
   ],
   "source": [
    "print(\"====== Neural Network ======\")\n",
    "learner_nn.train_loop(dl)"
   ]
  },
  {
   "cell_type": "markdown",
   "metadata": {
    "papermill": {
     "duration": 0.034119,
     "end_time": "2020-11-15T20:06:23.976966",
     "exception": false,
     "start_time": "2020-11-15T20:06:23.942847",
     "status": "completed"
    },
    "tags": []
   },
   "source": [
    "### Logistic Regression based Implementation."
   ]
  },
  {
   "cell_type": "code",
   "execution_count": 21,
   "metadata": {
    "execution": {
     "iopub.execute_input": "2020-11-15T20:06:24.053950Z",
     "iopub.status.busy": "2020-11-15T20:06:24.053309Z",
     "iopub.status.idle": "2020-11-15T20:06:24.066275Z",
     "shell.execute_reply": "2020-11-15T20:06:24.065778Z"
    },
    "papermill": {
     "duration": 0.054227,
     "end_time": "2020-11-15T20:06:24.066413",
     "exception": false,
     "start_time": "2020-11-15T20:06:24.012186",
     "status": "completed"
    },
    "tags": []
   },
   "outputs": [],
   "source": [
    "learner_lr = Learner(loss, model_lr, opt, config.num_epochs)\n",
    "acc_lr = ClfCallback(learner_lr, config.bs, training_xdata , testing_xdata, training_ydata, testing_ydata)\n",
    "learner_lr.set_callbacks([acc_lr])"
   ]
  },
  {
   "cell_type": "code",
   "execution_count": 22,
   "metadata": {
    "execution": {
     "iopub.execute_input": "2020-11-15T20:06:24.152765Z",
     "iopub.status.busy": "2020-11-15T20:06:24.150415Z",
     "iopub.status.idle": "2020-11-15T20:06:43.604667Z",
     "shell.execute_reply": "2020-11-15T20:06:43.605694Z"
    },
    "papermill": {
     "duration": 19.499621,
     "end_time": "2020-11-15T20:06:43.605965",
     "exception": false,
     "start_time": "2020-11-15T20:06:24.106344",
     "status": "completed"
    },
    "tags": []
   },
   "outputs": [
    {
     "name": "stdout",
     "output_type": "stream",
     "text": [
      "====== Logistic Regression ======\n",
      "Epoch 0, Loss 0.2402\n",
      "Training Accuracy: 0.6862, Testing Accuracy: 0.6966\n",
      "\n"
     ]
    },
    {
     "name": "stdout",
     "output_type": "stream",
     "text": [
      "Epoch 10, Loss 0.1012\n",
      "Training Accuracy: 0.9095, Testing Accuracy: 0.9234\n",
      "\n"
     ]
    },
    {
     "name": "stdout",
     "output_type": "stream",
     "text": [
      "Epoch 20, Loss 0.0782\n",
      "Training Accuracy: 0.9281, Testing Accuracy: 0.9405\n",
      "\n"
     ]
    },
    {
     "name": "stdout",
     "output_type": "stream",
     "text": [
      "Epoch 30, Loss 0.0678\n",
      "Training Accuracy: 0.9347, Testing Accuracy: 0.9476\n",
      "\n"
     ]
    },
    {
     "name": "stdout",
     "output_type": "stream",
     "text": [
      "Epoch 40, Loss 0.0615\n",
      "Training Accuracy: 0.9399, Testing Accuracy: 0.9511\n",
      "\n"
     ]
    },
    {
     "name": "stdout",
     "output_type": "stream",
     "text": [
      "Epoch 50, Loss 0.0571\n",
      "Training Accuracy: 0.9427, Testing Accuracy: 0.9511\n",
      "\n"
     ]
    },
    {
     "name": "stdout",
     "output_type": "stream",
     "text": [
      "Epoch 60, Loss 0.0539\n",
      "Training Accuracy: 0.9454, Testing Accuracy: 0.9536\n",
      "\n"
     ]
    },
    {
     "name": "stdout",
     "output_type": "stream",
     "text": [
      "Epoch 70, Loss 0.0514\n",
      "Training Accuracy: 0.9483, Testing Accuracy: 0.9561\n",
      "\n"
     ]
    },
    {
     "name": "stdout",
     "output_type": "stream",
     "text": [
      "Epoch 80, Loss 0.0494\n",
      "Training Accuracy: 0.9503, Testing Accuracy: 0.9597\n",
      "\n"
     ]
    },
    {
     "name": "stdout",
     "output_type": "stream",
     "text": [
      "Epoch 90, Loss 0.0477\n",
      "Training Accuracy: 0.9518, Testing Accuracy: 0.9607\n",
      "\n"
     ]
    },
    {
     "name": "stdout",
     "output_type": "stream",
     "text": [
      "Epoch 100, Loss 0.0463\n",
      "Training Accuracy: 0.9530, Testing Accuracy: 0.9612\n",
      "\n"
     ]
    },
    {
     "name": "stdout",
     "output_type": "stream",
     "text": [
      "Epoch 110, Loss 0.0451\n",
      "Training Accuracy: 0.9540, Testing Accuracy: 0.9617\n",
      "\n"
     ]
    },
    {
     "name": "stdout",
     "output_type": "stream",
     "text": [
      "Epoch 120, Loss 0.044\n",
      "Training Accuracy: 0.9544, Testing Accuracy: 0.9617\n",
      "\n"
     ]
    },
    {
     "name": "stdout",
     "output_type": "stream",
     "text": [
      "Epoch 130, Loss 0.0431\n",
      "Training Accuracy: 0.9554, Testing Accuracy: 0.9627\n",
      "\n"
     ]
    },
    {
     "name": "stdout",
     "output_type": "stream",
     "text": [
      "Epoch 140, Loss 0.0422\n",
      "Training Accuracy: 0.9563, Testing Accuracy: 0.9632\n",
      "\n"
     ]
    },
    {
     "name": "stdout",
     "output_type": "stream",
     "text": [
      "Epoch 150, Loss 0.0415\n",
      "Training Accuracy: 0.9574, Testing Accuracy: 0.9632\n",
      "\n"
     ]
    },
    {
     "name": "stdout",
     "output_type": "stream",
     "text": [
      "Epoch 160, Loss 0.0408\n",
      "Training Accuracy: 0.9580, Testing Accuracy: 0.9632\n",
      "\n"
     ]
    },
    {
     "name": "stdout",
     "output_type": "stream",
     "text": [
      "Epoch 170, Loss 0.0402\n",
      "Training Accuracy: 0.9586, Testing Accuracy: 0.9637\n",
      "\n"
     ]
    },
    {
     "name": "stdout",
     "output_type": "stream",
     "text": [
      "Epoch 180, Loss 0.0396\n",
      "Training Accuracy: 0.9592, Testing Accuracy: 0.9642\n",
      "\n"
     ]
    },
    {
     "name": "stdout",
     "output_type": "stream",
     "text": [
      "Epoch 190, Loss 0.0391\n",
      "Training Accuracy: 0.9602, Testing Accuracy: 0.9642\n",
      "\n"
     ]
    },
    {
     "name": "stdout",
     "output_type": "stream",
     "text": [
      "Epoch 200, Loss 0.0386\n",
      "Training Accuracy: 0.9607, Testing Accuracy: 0.9652\n",
      "\n"
     ]
    },
    {
     "name": "stdout",
     "output_type": "stream",
     "text": [
      "Epoch 210, Loss 0.0382\n",
      "Training Accuracy: 0.9610, Testing Accuracy: 0.9657\n",
      "\n"
     ]
    },
    {
     "name": "stdout",
     "output_type": "stream",
     "text": [
      "Epoch 220, Loss 0.0377\n",
      "Training Accuracy: 0.9614, Testing Accuracy: 0.9657\n",
      "\n"
     ]
    },
    {
     "name": "stdout",
     "output_type": "stream",
     "text": [
      "Epoch 230, Loss 0.0373\n",
      "Training Accuracy: 0.9619, Testing Accuracy: 0.9657\n",
      "\n"
     ]
    },
    {
     "name": "stdout",
     "output_type": "stream",
     "text": [
      "Epoch 240, Loss 0.037\n",
      "Training Accuracy: 0.9616, Testing Accuracy: 0.9662\n",
      "\n"
     ]
    },
    {
     "name": "stdout",
     "output_type": "stream",
     "text": [
      "Epoch 250, Loss 0.0366\n",
      "Training Accuracy: 0.9619, Testing Accuracy: 0.9662\n",
      "\n"
     ]
    },
    {
     "data": {
      "text/plain": [
       "0.01705572948766231"
      ]
     },
     "execution_count": 22,
     "metadata": {},
     "output_type": "execute_result"
    }
   ],
   "source": [
    "print(\"====== Logistic Regression ======\")\n",
    "learner_lr.train_loop(dl)"
   ]
  },
  {
   "cell_type": "markdown",
   "metadata": {
    "papermill": {
     "duration": 0.043832,
     "end_time": "2020-11-15T20:06:43.693023",
     "exception": false,
     "start_time": "2020-11-15T20:06:43.649191",
     "status": "completed"
    },
    "tags": []
   },
   "source": [
    "### Comparing results of NN and LR"
   ]
  },
  {
   "cell_type": "code",
   "execution_count": 23,
   "metadata": {
    "execution": {
     "iopub.execute_input": "2020-11-15T20:06:43.788293Z",
     "iopub.status.busy": "2020-11-15T20:06:43.787603Z",
     "iopub.status.idle": "2020-11-15T20:06:44.048909Z",
     "shell.execute_reply": "2020-11-15T20:06:44.048405Z"
    },
    "papermill": {
     "duration": 0.310358,
     "end_time": "2020-11-15T20:06:44.049047",
     "exception": false,
     "start_time": "2020-11-15T20:06:43.738689",
     "status": "completed"
    },
    "tags": []
   },
   "outputs": [
    {
     "data": {
      "text/plain": [
       "<matplotlib.legend.Legend at 0x7fb3b0603048>"
      ]
     },
     "execution_count": 23,
     "metadata": {},
     "output_type": "execute_result"
    },
    {
     "data": {
      "image/png": "[encoded data removed]",
      "text/plain": [
       "<Figure size 1080x720 with 1 Axes>"
      ]
     },
     "metadata": {
      "needs_background": "light"
     },
     "output_type": "display_data"
    }
   ],
   "source": [
    "plt.figure(figsize=(15,10))\n",
    "\n",
    "# Neural Network plots\n",
    "plt.plot(acc_nn.accuracies, 'r-', label = \"Training Accuracies - NN\")\n",
    "plt.plot(acc_nn.test_accuracies, 'g-', label = \"Testing Accuracies - NN\")\n",
    "\n",
    "# Logistic Regression plots\n",
    "plt.plot(acc_lr.accuracies, 'k-', label = \"Training Accuracies - LR\")\n",
    "plt.plot(acc_lr.test_accuracies, 'b-', label = \"Testing Accuracies - LR\")\n",
    "\n",
    "plt.ylim(0.8, 1)\n",
    "\n",
    "plt.legend()\n",
    "\n"
   ]
  },
  {
   "cell_type": "markdown",
   "metadata": {
    "papermill": {
     "duration": 0.041282,
     "end_time": "2020-11-15T20:06:44.134065",
     "exception": false,
     "start_time": "2020-11-15T20:06:44.092783",
     "status": "completed"
    },
    "tags": []
   },
   "source": [
    "### From the plot, we can observe the following:\n",
    "- Neural Network achieves higher accuracy than the Logistic Regression model.\n",
    "- This apparently, is because of overfitting, i.e. NN captures more noise than data.\n",
    "- Testing accuracy of NN drops below the Training accuracy at higher epochs. This explains the over-fitting on training data.\n",
    "- Logistic Regression gives a reliable accuracy, without the above mentioned problem.\n"
   ]
  },
  {
   "cell_type": "markdown",
   "metadata": {
    "papermill": {
     "duration": 0.043358,
     "end_time": "2020-11-15T20:06:44.221458",
     "exception": false,
     "start_time": "2020-11-15T20:06:44.178100",
     "status": "completed"
    },
    "tags": []
   },
   "source": [
    "### Moving till the last but one layer (excluding it).\n",
    "#### Plotting the outputs of this layer of the NN."
   ]
  },
  {
   "cell_type": "code",
   "execution_count": 24,
   "metadata": {
    "execution": {
     "iopub.execute_input": "2020-11-15T20:06:44.316879Z",
     "iopub.status.busy": "2020-11-15T20:06:44.315978Z",
     "iopub.status.idle": "2020-11-15T20:06:44.326289Z",
     "shell.execute_reply": "2020-11-15T20:06:44.326727Z"
    },
    "papermill": {
     "duration": 0.062044,
     "end_time": "2020-11-15T20:06:44.326857",
     "exception": false,
     "start_time": "2020-11-15T20:06:44.264813",
     "status": "completed"
    },
    "tags": []
   },
   "outputs": [],
   "source": [
    "model_new = Model(layers[:-2])"
   ]
  },
  {
   "cell_type": "code",
   "execution_count": 25,
   "metadata": {
    "execution": {
     "iopub.execute_input": "2020-11-15T20:06:44.419383Z",
     "iopub.status.busy": "2020-11-15T20:06:44.417033Z",
     "iopub.status.idle": "2020-11-15T20:06:44.443578Z",
     "shell.execute_reply": "2020-11-15T20:06:44.444334Z"
    },
    "papermill": {
     "duration": 0.073432,
     "end_time": "2020-11-15T20:06:44.444482",
     "exception": false,
     "start_time": "2020-11-15T20:06:44.371050",
     "status": "completed"
    },
    "tags": []
   },
   "outputs": [],
   "source": [
    "plot_testing = model_new(testing_xdata)"
   ]
  },
  {
   "cell_type": "code",
   "execution_count": 26,
   "metadata": {
    "execution": {
     "iopub.execute_input": "2020-11-15T20:06:44.542881Z",
     "iopub.status.busy": "2020-11-15T20:06:44.542150Z",
     "iopub.status.idle": "2020-11-15T20:06:44.759032Z",
     "shell.execute_reply": "2020-11-15T20:06:44.758550Z"
    },
    "papermill": {
     "duration": 0.269107,
     "end_time": "2020-11-15T20:06:44.759207",
     "exception": false,
     "start_time": "2020-11-15T20:06:44.490100",
     "status": "completed"
    },
    "tags": []
   },
   "outputs": [
    {
     "data": {
      "text/plain": [
       "Text(0.5, 1.0, 'Outputs')"
      ]
     },
     "execution_count": 26,
     "metadata": {},
     "output_type": "execute_result"
    },
    {
     "data": {
      "image/png": "[encoded data removed]",
      "text/plain": [
       "<Figure size 576x504 with 1 Axes>"
      ]
     },
     "metadata": {
      "needs_background": "light"
     },
     "output_type": "display_data"
    }
   ],
   "source": [
    "plt.figure(figsize=(8,7))\n",
    "plt.scatter(plot_testing[:,0], plot_testing[:,1], alpha = 0.1, c = y_test.ravel());\n",
    "plt.title('Outputs')"
   ]
  },
  {
   "cell_type": "markdown",
   "metadata": {
    "papermill": {
     "duration": 0.043388,
     "end_time": "2020-11-15T20:06:44.851294",
     "exception": false,
     "start_time": "2020-11-15T20:06:44.807906",
     "status": "completed"
    },
    "tags": []
   },
   "source": [
    "### Plotting probability contours"
   ]
  },
  {
   "cell_type": "code",
   "execution_count": 27,
   "metadata": {
    "execution": {
     "iopub.execute_input": "2020-11-15T20:06:44.951514Z",
     "iopub.status.busy": "2020-11-15T20:06:44.950939Z",
     "iopub.status.idle": "2020-11-15T20:06:44.962955Z",
     "shell.execute_reply": "2020-11-15T20:06:44.963580Z"
    },
    "papermill": {
     "duration": 0.064603,
     "end_time": "2020-11-15T20:06:44.963721",
     "exception": false,
     "start_time": "2020-11-15T20:06:44.899118",
     "status": "completed"
    },
    "tags": []
   },
   "outputs": [],
   "source": [
    "model_prob = Model(layers[-2:]) "
   ]
  },
  {
   "cell_type": "code",
   "execution_count": 28,
   "metadata": {
    "execution": {
     "iopub.execute_input": "2020-11-15T20:06:45.074402Z",
     "iopub.status.busy": "2020-11-15T20:06:45.070939Z",
     "iopub.status.idle": "2020-11-15T20:06:45.078931Z",
     "shell.execute_reply": "2020-11-15T20:06:45.079464Z"
    },
    "papermill": {
     "duration": 0.068631,
     "end_time": "2020-11-15T20:06:45.079602",
     "exception": false,
     "start_time": "2020-11-15T20:06:45.010971",
     "status": "completed"
    },
    "tags": []
   },
   "outputs": [],
   "source": [
    "# Adjust the x and y ranges according to the above generated plot.\n",
    "x_range = np.linspace(-4, 1, 100) \n",
    "y_range = np.linspace(-6, 6, 100) \n",
    "x_grid, y_grid = np.meshgrid(x_range, y_range) # x_grid and y_grig are of size 100 X 100\n",
    "\n",
    "# converting x_grid and y_grid to continuous arrays\n",
    "x_grid_flat = np.ravel(x_grid)\n",
    "y_grid_flat = np.ravel(y_grid)\n",
    "\n",
    "# The last layer of the current model takes two columns as input. Hence transpose of np.vstack() is required.\n",
    "X = np.vstack((x_grid_flat, y_grid_flat)).T\n",
    "\n",
    "# x_grid and y_grid are of size 100 x 100\n",
    "probability_contour = model_prob(X).reshape(100,100) "
   ]
  },
  {
   "cell_type": "code",
   "execution_count": 29,
   "metadata": {
    "execution": {
     "iopub.execute_input": "2020-11-15T20:06:45.178869Z",
     "iopub.status.busy": "2020-11-15T20:06:45.178289Z",
     "iopub.status.idle": "2020-11-15T20:06:45.452866Z",
     "shell.execute_reply": "2020-11-15T20:06:45.453303Z"
    },
    "papermill": {
     "duration": 0.327095,
     "end_time": "2020-11-15T20:06:45.453460",
     "exception": false,
     "start_time": "2020-11-15T20:06:45.126365",
     "status": "completed"
    },
    "tags": []
   },
   "outputs": [
    {
     "data": {
      "image/png": "[encoded data removed]",
      "text/plain": [
       "<Figure size 720x648 with 1 Axes>"
      ]
     },
     "metadata": {
      "needs_background": "light"
     },
     "output_type": "display_data"
    }
   ],
   "source": [
    "plt.figure(figsize=(10,9))\n",
    "plt.scatter(plot_testing[:,0], plot_testing[:,1], alpha = 0.1, c = y_test.ravel())\n",
    "contours = plt.contour(x_grid,y_grid,probability_contour)\n",
    "plt.title('Probability Contours')\n",
    "plt.clabel(contours, inline = True );"
   ]
  }
 ],
 "metadata": {
  "kernelspec": {
   "display_name": "Python 3",
   "language": "python",
   "name": "python3"
  },
  "language_info": {
   "codemirror_mode": {
    "name": "ipython",
    "version": 3
   },
   "file_extension": ".py",
   "mimetype": "text/x-python",
   "name": "python",
   "nbconvert_exporter": "python",
   "pygments_lexer": "ipython3",
   "version": "3.6.12"
  },
  "papermill": {
   "duration": 163.356467,
   "end_time": "2020-11-15T20:06:46.808710",
   "environment_variables": {},
   "exception": null,
   "input_path": "2020-08-11-NeuralNetwork.ipynb",
   "output_path": "2020-08-11-NeuralNetwork.ipynb",
   "parameters": {},
   "start_time": "2020-11-15T20:04:03.452243",
   "version": "2.1.2"
  }
 },
 "nbformat": 4,
 "nbformat_minor": 4
}