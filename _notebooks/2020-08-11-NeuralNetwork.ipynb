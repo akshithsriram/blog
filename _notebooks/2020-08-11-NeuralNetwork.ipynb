{
 "cells": [
  {
   "cell_type": "markdown",
   "id": "fitted-suggestion",
   "metadata": {
    "papermill": {
     "duration": 0.038319,
     "end_time": "2021-03-24T20:12:02.158222",
     "exception": false,
     "start_time": "2021-03-24T20:12:02.119903",
     "status": "completed"
    },
    "tags": []
   },
   "source": [
    "# \"A Basic Neural Network: Differentiate Hand-Written Digits\"\n",
    "\n",
    "- badges: true\n",
    "- author: Akshith Sriram"
   ]
  },
  {
   "cell_type": "markdown",
   "id": "signal-flexibility",
   "metadata": {
    "papermill": {
     "duration": 0.035129,
     "end_time": "2021-03-24T20:12:02.227749",
     "exception": false,
     "start_time": "2021-03-24T20:12:02.192620",
     "status": "completed"
    },
    "tags": []
   },
   "source": [
    "### Key Objectives:\n",
    "- Building a neural network that differentiates two hand-written digits 3 and 8.\n",
    "- Comparing the results of this Neural Network (NN) to that of a Logistic Regression (LR) model.\n",
    "\n",
    "### Requirements:\n",
    "- 'Kudzu' : A neural network library that was designed during our course by [Univ.AI](www.univ.ai). \n",
    "- MNIST Database\n",
    "\n",
    "If MNIST is not installed, use the command `!pip install mnist` given below.\n",
    "It can be run both from the command line and Jupyter Notebook."
   ]
  },
  {
   "cell_type": "code",
   "execution_count": 1,
   "id": "british-texture",
   "metadata": {
    "execution": {
     "iopub.execute_input": "2021-03-24T20:12:02.307377Z",
     "iopub.status.busy": "2021-03-24T20:12:02.306662Z",
     "iopub.status.idle": "2021-03-24T20:12:04.064339Z",
     "shell.execute_reply": "2021-03-24T20:12:04.062647Z"
    },
    "papermill": {
     "duration": 1.802349,
     "end_time": "2021-03-24T20:12:04.064509",
     "exception": false,
     "start_time": "2021-03-24T20:12:02.262160",
     "status": "completed"
    },
    "tags": []
   },
   "outputs": [
    {
     "name": "stdout",
     "output_type": "stream",
     "text": [
      "Collecting mnist\r\n"
     ]
    },
    {
     "name": "stdout",
     "output_type": "stream",
     "text": [
      "  Downloading mnist-0.2.2-py2.py3-none-any.whl (3.5 kB)\r\n",
      "Requirement already satisfied: numpy in /opt/hostedtoolcache/Python/3.6.13/x64/lib/python3.6/site-packages (from mnist) (1.19.5)\r\n"
     ]
    },
    {
     "name": "stdout",
     "output_type": "stream",
     "text": [
      "Installing collected packages: mnist\r\n",
      "Successfully installed mnist-0.2.2\r\n"
     ]
    }
   ],
   "source": [
    "!pip install mnist "
   ]
  },
  {
   "cell_type": "markdown",
   "id": "stunning-extra",
   "metadata": {
    "papermill": {
     "duration": 0.035397,
     "end_time": "2021-03-24T20:12:04.137357",
     "exception": false,
     "start_time": "2021-03-24T20:12:04.101960",
     "status": "completed"
    },
    "tags": []
   },
   "source": [
    "#### Importing necessary libraries"
   ]
  },
  {
   "cell_type": "code",
   "execution_count": 2,
   "id": "wooden-france",
   "metadata": {
    "execution": {
     "iopub.execute_input": "2021-03-24T20:12:04.215706Z",
     "iopub.status.busy": "2021-03-24T20:12:04.214967Z",
     "iopub.status.idle": "2021-03-24T20:12:04.842512Z",
     "shell.execute_reply": "2021-03-24T20:12:04.843126Z"
    },
    "papermill": {
     "duration": 0.671256,
     "end_time": "2021-03-24T20:12:04.843314",
     "exception": false,
     "start_time": "2021-03-24T20:12:04.172058",
     "status": "completed"
    },
    "tags": []
   },
   "outputs": [],
   "source": [
    "%load_ext autoreload\n",
    "%autoreload 2\n",
    "\n",
    "%matplotlib inline\n",
    "import matplotlib.pyplot as plt\n",
    "\n",
    "import numpy as np\n",
    "import pandas as pd"
   ]
  },
  {
   "cell_type": "markdown",
   "id": "stunning-physics",
   "metadata": {
    "papermill": {
     "duration": 0.037345,
     "end_time": "2021-03-24T20:12:04.916305",
     "exception": false,
     "start_time": "2021-03-24T20:12:04.878960",
     "status": "completed"
    },
    "tags": []
   },
   "source": [
    "### Preparing the Data"
   ]
  },
  {
   "cell_type": "code",
   "execution_count": 3,
   "id": "unauthorized-remainder",
   "metadata": {
    "execution": {
     "iopub.execute_input": "2021-03-24T20:12:04.992074Z",
     "iopub.status.busy": "2021-03-24T20:12:04.991402Z",
     "iopub.status.idle": "2021-03-24T20:12:05.005106Z",
     "shell.execute_reply": "2021-03-24T20:12:05.004433Z"
    },
    "papermill": {
     "duration": 0.053439,
     "end_time": "2021-03-24T20:12:05.005276",
     "exception": false,
     "start_time": "2021-03-24T20:12:04.951837",
     "status": "completed"
    },
    "tags": []
   },
   "outputs": [],
   "source": [
    "import mnist"
   ]
  },
  {
   "cell_type": "code",
   "execution_count": 4,
   "id": "correct-antarctica",
   "metadata": {
    "execution": {
     "iopub.execute_input": "2021-03-24T20:12:05.081581Z",
     "iopub.status.busy": "2021-03-24T20:12:05.080850Z",
     "iopub.status.idle": "2021-03-24T20:17:12.869083Z",
     "shell.execute_reply": "2021-03-24T20:17:12.868476Z"
    },
    "papermill": {
     "duration": 307.828803,
     "end_time": "2021-03-24T20:17:12.869225",
     "exception": false,
     "start_time": "2021-03-24T20:12:05.040422",
     "status": "completed"
    },
    "tags": []
   },
   "outputs": [],
   "source": [
    "train_images = mnist.train_images()\n",
    "train_labels = mnist.train_labels()"
   ]
  },
  {
   "cell_type": "code",
   "execution_count": 5,
   "id": "musical-prospect",
   "metadata": {
    "execution": {
     "iopub.execute_input": "2021-03-24T20:17:12.945194Z",
     "iopub.status.busy": "2021-03-24T20:17:12.943891Z",
     "iopub.status.idle": "2021-03-24T20:17:12.959483Z",
     "shell.execute_reply": "2021-03-24T20:17:12.958849Z"
    },
    "papermill": {
     "duration": 0.055844,
     "end_time": "2021-03-24T20:17:12.959610",
     "exception": false,
     "start_time": "2021-03-24T20:17:12.903766",
     "status": "completed"
    },
    "tags": []
   },
   "outputs": [
    {
     "data": {
      "text/plain": [
       "((60000, 28, 28), (60000,))"
      ]
     },
     "execution_count": 5,
     "metadata": {},
     "output_type": "execute_result"
    }
   ],
   "source": [
    "train_images.shape, train_labels.shape"
   ]
  },
  {
   "cell_type": "code",
   "execution_count": 6,
   "id": "preliminary-elizabeth",
   "metadata": {
    "execution": {
     "iopub.execute_input": "2021-03-24T20:17:13.032620Z",
     "iopub.status.busy": "2021-03-24T20:17:13.031928Z",
     "iopub.status.idle": "2021-03-24T20:18:05.028467Z",
     "shell.execute_reply": "2021-03-24T20:18:05.027478Z"
    },
    "papermill": {
     "duration": 52.035621,
     "end_time": "2021-03-24T20:18:05.028609",
     "exception": false,
     "start_time": "2021-03-24T20:17:12.992988",
     "status": "completed"
    },
    "tags": []
   },
   "outputs": [],
   "source": [
    "test_images = mnist.test_images()\n",
    "test_labels = mnist.test_labels()"
   ]
  },
  {
   "cell_type": "code",
   "execution_count": 7,
   "id": "acknowledged-oxygen",
   "metadata": {
    "execution": {
     "iopub.execute_input": "2021-03-24T20:18:05.108632Z",
     "iopub.status.busy": "2021-03-24T20:18:05.107957Z",
     "iopub.status.idle": "2021-03-24T20:18:05.116970Z",
     "shell.execute_reply": "2021-03-24T20:18:05.116411Z"
    },
    "papermill": {
     "duration": 0.053164,
     "end_time": "2021-03-24T20:18:05.117099",
     "exception": false,
     "start_time": "2021-03-24T20:18:05.063935",
     "status": "completed"
    },
    "tags": []
   },
   "outputs": [
    {
     "data": {
      "text/plain": [
       "((10000, 28, 28), (10000,))"
      ]
     },
     "execution_count": 7,
     "metadata": {},
     "output_type": "execute_result"
    }
   ],
   "source": [
    "test_images.shape, test_labels.shape"
   ]
  },
  {
   "cell_type": "code",
   "execution_count": 8,
   "id": "innovative-organic",
   "metadata": {
    "execution": {
     "iopub.execute_input": "2021-03-24T20:18:05.194474Z",
     "iopub.status.busy": "2021-03-24T20:18:05.192440Z",
     "iopub.status.idle": "2021-03-24T20:18:05.374118Z",
     "shell.execute_reply": "2021-03-24T20:18:05.373559Z"
    },
    "papermill": {
     "duration": 0.22222,
     "end_time": "2021-03-24T20:18:05.374271",
     "exception": false,
     "start_time": "2021-03-24T20:18:05.152051",
     "status": "completed"
    },
    "tags": []
   },
   "outputs": [
    {
     "name": "stdout",
     "output_type": "stream",
     "text": [
      "2\n"
     ]
    },
    {
     "data": {
      "text/plain": [
       "<matplotlib.image.AxesImage at 0x7fed8a5a89e8>"
      ]
     },
     "execution_count": 8,
     "metadata": {},
     "output_type": "execute_result"
    },
    {
     "data": {
      "image/png": "[encoded data removed]",
      "text/plain": [
       "<Figure size 432x288 with 1 Axes>"
      ]
     },
     "metadata": {
      "needs_background": "light"
     },
     "output_type": "display_data"
    }
   ],
   "source": [
    "image_index = 7776 # You may select anything up to 60,000\n",
    "print(train_labels[image_index]) \n",
    "plt.imshow(train_images[image_index], cmap='Greys')"
   ]
  },
  {
   "cell_type": "markdown",
   "id": "facial-modem",
   "metadata": {
    "papermill": {
     "duration": 0.038205,
     "end_time": "2021-03-24T20:18:05.449785",
     "exception": false,
     "start_time": "2021-03-24T20:18:05.411580",
     "status": "completed"
    },
    "tags": []
   },
   "source": [
    "## Filter data to get 3 and 8 out"
   ]
  },
  {
   "cell_type": "code",
   "execution_count": 9,
   "id": "thousand-acquisition",
   "metadata": {
    "execution": {
     "iopub.execute_input": "2021-03-24T20:18:05.532041Z",
     "iopub.status.busy": "2021-03-24T20:18:05.525189Z",
     "iopub.status.idle": "2021-03-24T20:18:05.545026Z",
     "shell.execute_reply": "2021-03-24T20:18:05.545522Z"
    },
    "papermill": {
     "duration": 0.060175,
     "end_time": "2021-03-24T20:18:05.545686",
     "exception": false,
     "start_time": "2021-03-24T20:18:05.485511",
     "status": "completed"
    },
    "tags": []
   },
   "outputs": [],
   "source": [
    "train_filter = np.where((train_labels == 3 ) | (train_labels == 8))\n",
    "test_filter = np.where((test_labels == 3) | (test_labels == 8))\n",
    "X_train, y_train = train_images[train_filter], train_labels[train_filter]\n",
    "X_test, y_test = test_images[test_filter], test_labels[test_filter]"
   ]
  },
  {
   "cell_type": "markdown",
   "id": "ruled-access",
   "metadata": {
    "papermill": {
     "duration": 0.036183,
     "end_time": "2021-03-24T20:18:05.618107",
     "exception": false,
     "start_time": "2021-03-24T20:18:05.581924",
     "status": "completed"
    },
    "tags": []
   },
   "source": [
    "We normalize the pixel values in the 0 to 1 range"
   ]
  },
  {
   "cell_type": "code",
   "execution_count": 10,
   "id": "isolated-denver",
   "metadata": {
    "execution": {
     "iopub.execute_input": "2021-03-24T20:18:05.698493Z",
     "iopub.status.busy": "2021-03-24T20:18:05.697805Z",
     "iopub.status.idle": "2021-03-24T20:18:05.762036Z",
     "shell.execute_reply": "2021-03-24T20:18:05.761472Z"
    },
    "papermill": {
     "duration": 0.108442,
     "end_time": "2021-03-24T20:18:05.762179",
     "exception": false,
     "start_time": "2021-03-24T20:18:05.653737",
     "status": "completed"
    },
    "tags": []
   },
   "outputs": [],
   "source": [
    "X_train = X_train/255.\n",
    "X_test = X_test/255."
   ]
  },
  {
   "cell_type": "markdown",
   "id": "perfect-summary",
   "metadata": {
    "papermill": {
     "duration": 0.037308,
     "end_time": "2021-03-24T20:18:05.837177",
     "exception": false,
     "start_time": "2021-03-24T20:18:05.799869",
     "status": "completed"
    },
    "tags": []
   },
   "source": [
    "Setup the labels as 1 (when the digit is 3) and 0 (when the digit is 8)"
   ]
  },
  {
   "cell_type": "code",
   "execution_count": 11,
   "id": "personalized-growing",
   "metadata": {
    "execution": {
     "iopub.execute_input": "2021-03-24T20:18:05.913265Z",
     "iopub.status.busy": "2021-03-24T20:18:05.912595Z",
     "iopub.status.idle": "2021-03-24T20:18:05.925559Z",
     "shell.execute_reply": "2021-03-24T20:18:05.926044Z"
    },
    "papermill": {
     "duration": 0.052478,
     "end_time": "2021-03-24T20:18:05.926196",
     "exception": false,
     "start_time": "2021-03-24T20:18:05.873718",
     "status": "completed"
    },
    "tags": []
   },
   "outputs": [],
   "source": [
    "y_train = 1*(y_train==3)\n",
    "y_test = 1*(y_test==3)"
   ]
  },
  {
   "cell_type": "code",
   "execution_count": 12,
   "id": "considered-virgin",
   "metadata": {
    "execution": {
     "iopub.execute_input": "2021-03-24T20:18:06.006901Z",
     "iopub.status.busy": "2021-03-24T20:18:06.006280Z",
     "iopub.status.idle": "2021-03-24T20:18:06.020476Z",
     "shell.execute_reply": "2021-03-24T20:18:06.019900Z"
    },
    "papermill": {
     "duration": 0.055184,
     "end_time": "2021-03-24T20:18:06.020611",
     "exception": false,
     "start_time": "2021-03-24T20:18:05.965427",
     "status": "completed"
    },
    "tags": []
   },
   "outputs": [
    {
     "data": {
      "text/plain": [
       "((11982, 28, 28), (1984, 28, 28))"
      ]
     },
     "execution_count": 12,
     "metadata": {},
     "output_type": "execute_result"
    }
   ],
   "source": [
    "X_train.shape, X_test.shape"
   ]
  },
  {
   "cell_type": "markdown",
   "id": "civilian-mobile",
   "metadata": {
    "papermill": {
     "duration": 0.037314,
     "end_time": "2021-03-24T20:18:06.095373",
     "exception": false,
     "start_time": "2021-03-24T20:18:06.058059",
     "status": "completed"
    },
    "tags": []
   },
   "source": [
    "### Reshape the input data to create a linear array"
   ]
  },
  {
   "cell_type": "code",
   "execution_count": 13,
   "id": "colonial-adams",
   "metadata": {
    "execution": {
     "iopub.execute_input": "2021-03-24T20:18:06.176407Z",
     "iopub.status.busy": "2021-03-24T20:18:06.175634Z",
     "iopub.status.idle": "2021-03-24T20:18:06.189807Z",
     "shell.execute_reply": "2021-03-24T20:18:06.190352Z"
    },
    "papermill": {
     "duration": 0.056799,
     "end_time": "2021-03-24T20:18:06.190522",
     "exception": false,
     "start_time": "2021-03-24T20:18:06.133723",
     "status": "completed"
    },
    "tags": []
   },
   "outputs": [
    {
     "data": {
      "text/plain": [
       "((11982, 784), (1984, 784))"
      ]
     },
     "execution_count": 13,
     "metadata": {},
     "output_type": "execute_result"
    }
   ],
   "source": [
    "X_train = X_train.reshape(X_train.shape[0], -1)\n",
    "X_test = X_test.reshape(X_test.shape[0], -1)\n",
    "X_train.shape, X_test.shape"
   ]
  },
  {
   "cell_type": "markdown",
   "id": "smart-details",
   "metadata": {
    "papermill": {
     "duration": 0.039409,
     "end_time": "2021-03-24T20:18:06.267395",
     "exception": false,
     "start_time": "2021-03-24T20:18:06.227986",
     "status": "completed"
    },
    "tags": []
   },
   "source": [
    "### Importing appropriate functions from 'Kudzu'"
   ]
  },
  {
   "cell_type": "code",
   "execution_count": 14,
   "id": "celtic-trial",
   "metadata": {
    "execution": {
     "iopub.execute_input": "2021-03-24T20:18:06.363108Z",
     "iopub.status.busy": "2021-03-24T20:18:06.354312Z",
     "iopub.status.idle": "2021-03-24T20:18:06.374136Z",
     "shell.execute_reply": "2021-03-24T20:18:06.374674Z"
    },
    "papermill": {
     "duration": 0.070002,
     "end_time": "2021-03-24T20:18:06.376101",
     "exception": false,
     "start_time": "2021-03-24T20:18:06.306099",
     "status": "completed"
    },
    "tags": []
   },
   "outputs": [],
   "source": [
    "from kudzu.layer import Sigmoid\n",
    "from kudzu.layer import Relu\n",
    "from kudzu.layer import Affine, Sigmoid\n",
    "\n",
    "from kudzu.model import Model\n",
    "from kudzu.train import Learner\n",
    "from kudzu.optim import GD\n",
    "from kudzu.data import Data, Dataloader, Sampler\n",
    "\n",
    "from kudzu.callbacks import AccCallback\n",
    "from kudzu.callbacks import ClfCallback\n",
    "\n",
    "from kudzu.loss import MSE"
   ]
  },
  {
   "cell_type": "markdown",
   "id": "coupled-customer",
   "metadata": {
    "papermill": {
     "duration": 0.0402,
     "end_time": "2021-03-24T20:18:06.455417",
     "exception": false,
     "start_time": "2021-03-24T20:18:06.415217",
     "status": "completed"
    },
    "tags": []
   },
   "source": [
    "### Let us create a `Config` class, to store important parameters. \n",
    "This class essentially plays the role of a dictionary."
   ]
  },
  {
   "cell_type": "code",
   "execution_count": 15,
   "id": "young-ceiling",
   "metadata": {
    "execution": {
     "iopub.execute_input": "2021-03-24T20:18:06.538831Z",
     "iopub.status.busy": "2021-03-24T20:18:06.538103Z",
     "iopub.status.idle": "2021-03-24T20:18:06.550998Z",
     "shell.execute_reply": "2021-03-24T20:18:06.551727Z"
    },
    "papermill": {
     "duration": 0.057104,
     "end_time": "2021-03-24T20:18:06.551893",
     "exception": false,
     "start_time": "2021-03-24T20:18:06.494789",
     "status": "completed"
    },
    "tags": []
   },
   "outputs": [],
   "source": [
    "class Config:\n",
    "    pass\n",
    "config = Config()\n",
    "config.lr = 0.001\n",
    "config.num_epochs = 251\n",
    "config.bs = 50"
   ]
  },
  {
   "cell_type": "markdown",
   "id": "according-mandate",
   "metadata": {
    "papermill": {
     "duration": 0.037543,
     "end_time": "2021-03-24T20:18:06.626740",
     "exception": false,
     "start_time": "2021-03-24T20:18:06.589197",
     "status": "completed"
    },
    "tags": []
   },
   "source": [
    "### Initializing data to the variables"
   ]
  },
  {
   "cell_type": "code",
   "execution_count": 16,
   "id": "academic-disposition",
   "metadata": {
    "execution": {
     "iopub.execute_input": "2021-03-24T20:18:06.708072Z",
     "iopub.status.busy": "2021-03-24T20:18:06.707353Z",
     "iopub.status.idle": "2021-03-24T20:18:06.721769Z",
     "shell.execute_reply": "2021-03-24T20:18:06.721201Z"
    },
    "papermill": {
     "duration": 0.056675,
     "end_time": "2021-03-24T20:18:06.721912",
     "exception": false,
     "start_time": "2021-03-24T20:18:06.665237",
     "status": "completed"
    },
    "tags": []
   },
   "outputs": [],
   "source": [
    "data = Data(X_train, y_train.reshape(-1,1))\n",
    "sampler = Sampler(data, config.bs, shuffle=True)\n",
    "\n",
    "dl = Dataloader(data, sampler)\n",
    "\n",
    "opt = GD(config.lr)\n",
    "loss = MSE()"
   ]
  },
  {
   "cell_type": "code",
   "execution_count": 17,
   "id": "featured-commission",
   "metadata": {
    "execution": {
     "iopub.execute_input": "2021-03-24T20:18:06.806142Z",
     "iopub.status.busy": "2021-03-24T20:18:06.805468Z",
     "iopub.status.idle": "2021-03-24T20:18:06.818220Z",
     "shell.execute_reply": "2021-03-24T20:18:06.817492Z"
    },
    "papermill": {
     "duration": 0.057133,
     "end_time": "2021-03-24T20:18:06.818357",
     "exception": false,
     "start_time": "2021-03-24T20:18:06.761224",
     "status": "completed"
    },
    "tags": []
   },
   "outputs": [],
   "source": [
    "training_xdata = X_train\n",
    "testing_xdata = X_test\n",
    "training_ydata = y_train.reshape(-1,1)\n",
    "testing_ydata = y_test.reshape(-1,1)"
   ]
  },
  {
   "cell_type": "markdown",
   "id": "played-safety",
   "metadata": {
    "papermill": {
     "duration": 0.038815,
     "end_time": "2021-03-24T20:18:06.896054",
     "exception": false,
     "start_time": "2021-03-24T20:18:06.857239",
     "status": "completed"
    },
    "tags": []
   },
   "source": [
    "### Running Models with the Training data\n",
    "Details about the network layers:\n",
    "- A first affine layer has 784 inputs and does 100 affine transforms. These are followed by a Relu\n",
    "- A second affine layer has 100 inputs from the 100 activations of the past layer, and does 100 affine transforms. These are followed by a Relu\n",
    "- A third affine layer has 100 activations and does 2 affine transformations to create an embedding for visualization. There is no non-linearity here.\n",
    "- A final \"logistic regression\" which has an affine transform from 2 inputs to 1 output, which is squeezed through a sigmoid.\n",
    "\n",
    "Help taken from Anshuman's Notebook."
   ]
  },
  {
   "cell_type": "code",
   "execution_count": 18,
   "id": "asian-bankruptcy",
   "metadata": {
    "execution": {
     "iopub.execute_input": "2021-03-24T20:18:06.981314Z",
     "iopub.status.busy": "2021-03-24T20:18:06.980634Z",
     "iopub.status.idle": "2021-03-24T20:18:06.996283Z",
     "shell.execute_reply": "2021-03-24T20:18:06.996863Z"
    },
    "papermill": {
     "duration": 0.063559,
     "end_time": "2021-03-24T20:18:06.997036",
     "exception": false,
     "start_time": "2021-03-24T20:18:06.933477",
     "status": "completed"
    },
    "tags": []
   },
   "outputs": [],
   "source": [
    "# layers for the Neural Network\n",
    "layers = [Affine(\"first\", 784, 100), Relu(\"first\"), Affine(\"second\", 100, 100), Relu(\"second\"), Affine(\"third\", 100, 2), Affine(\"final\", 2, 1), Sigmoid(\"final\")]\n",
    "model_nn = Model(layers)\n",
    "\n",
    "# layers for the Logistic Regression\n",
    "layers_lr = [Affine(\"logits\", 784, 1), Sigmoid(\"sigmoid\")]\n",
    "model_lr = Model(layers_lr)"
   ]
  },
  {
   "cell_type": "code",
   "execution_count": 19,
   "id": "removed-butler",
   "metadata": {
    "execution": {
     "iopub.execute_input": "2021-03-24T20:18:07.081417Z",
     "iopub.status.busy": "2021-03-24T20:18:07.080743Z",
     "iopub.status.idle": "2021-03-24T20:18:07.095125Z",
     "shell.execute_reply": "2021-03-24T20:18:07.094406Z"
    },
    "papermill": {
     "duration": 0.05912,
     "end_time": "2021-03-24T20:18:07.095265",
     "exception": false,
     "start_time": "2021-03-24T20:18:07.036145",
     "status": "completed"
    },
    "tags": []
   },
   "outputs": [],
   "source": [
    "# suffix _nn stands for Neural Network.\n",
    "learner_nn = Learner(loss, model_nn, opt, config.num_epochs)\n",
    "acc_nn = ClfCallback(learner_nn, config.bs, training_xdata , testing_xdata, training_ydata, testing_ydata)\n",
    "learner_nn.set_callbacks([acc_nn])"
   ]
  },
  {
   "cell_type": "code",
   "execution_count": 20,
   "id": "conceptual-throw",
   "metadata": {
    "execution": {
     "iopub.execute_input": "2021-03-24T20:18:07.188839Z",
     "iopub.status.busy": "2021-03-24T20:18:07.180362Z",
     "iopub.status.idle": "2021-03-24T20:20:28.277981Z",
     "shell.execute_reply": "2021-03-24T20:20:28.278827Z"
    },
    "papermill": {
     "duration": 141.145341,
     "end_time": "2021-03-24T20:20:28.278994",
     "exception": false,
     "start_time": "2021-03-24T20:18:07.133653",
     "status": "completed"
    },
    "tags": []
   },
   "outputs": [
    {
     "name": "stdout",
     "output_type": "stream",
     "text": [
      "====== Neural Network ======\n"
     ]
    },
    {
     "name": "stdout",
     "output_type": "stream",
     "text": [
      "Epoch 0, Loss 0.249\n",
      "Training Accuracy: 0.6125, Testing Accuracy: 0.6255\n",
      "\n"
     ]
    },
    {
     "name": "stdout",
     "output_type": "stream",
     "text": [
      "Epoch 10, Loss 0.1158\n",
      "Training Accuracy: 0.8837, Testing Accuracy: 0.9027\n",
      "\n"
     ]
    },
    {
     "name": "stdout",
     "output_type": "stream",
     "text": [
      "Epoch 20, Loss 0.0683\n",
      "Training Accuracy: 0.9256, Testing Accuracy: 0.9370\n",
      "\n"
     ]
    },
    {
     "name": "stdout",
     "output_type": "stream",
     "text": [
      "Epoch 30, Loss 0.0508\n",
      "Training Accuracy: 0.9450, Testing Accuracy: 0.9567\n",
      "\n"
     ]
    },
    {
     "name": "stdout",
     "output_type": "stream",
     "text": [
      "Epoch 40, Loss 0.0424\n",
      "Training Accuracy: 0.9533, Testing Accuracy: 0.9607\n",
      "\n"
     ]
    },
    {
     "name": "stdout",
     "output_type": "stream",
     "text": [
      "Epoch 50, Loss 0.0375\n",
      "Training Accuracy: 0.9574, Testing Accuracy: 0.9632\n",
      "\n"
     ]
    },
    {
     "name": "stdout",
     "output_type": "stream",
     "text": [
      "Epoch 60, Loss 0.0343\n",
      "Training Accuracy: 0.9612, Testing Accuracy: 0.9662\n",
      "\n"
     ]
    },
    {
     "name": "stdout",
     "output_type": "stream",
     "text": [
      "Epoch 70, Loss 0.0321\n",
      "Training Accuracy: 0.9635, Testing Accuracy: 0.9672\n",
      "\n"
     ]
    },
    {
     "name": "stdout",
     "output_type": "stream",
     "text": [
      "Epoch 80, Loss 0.0303\n",
      "Training Accuracy: 0.9658, Testing Accuracy: 0.9677\n",
      "\n"
     ]
    },
    {
     "name": "stdout",
     "output_type": "stream",
     "text": [
      "Epoch 90, Loss 0.0289\n",
      "Training Accuracy: 0.9670, Testing Accuracy: 0.9693\n",
      "\n"
     ]
    },
    {
     "name": "stdout",
     "output_type": "stream",
     "text": [
      "Epoch 100, Loss 0.0277\n",
      "Training Accuracy: 0.9679, Testing Accuracy: 0.9693\n",
      "\n"
     ]
    },
    {
     "name": "stdout",
     "output_type": "stream",
     "text": [
      "Epoch 110, Loss 0.0267\n",
      "Training Accuracy: 0.9692, Testing Accuracy: 0.9708\n",
      "\n"
     ]
    },
    {
     "name": "stdout",
     "output_type": "stream",
     "text": [
      "Epoch 120, Loss 0.0258\n",
      "Training Accuracy: 0.9702, Testing Accuracy: 0.9708\n",
      "\n"
     ]
    },
    {
     "name": "stdout",
     "output_type": "stream",
     "text": [
      "Epoch 130, Loss 0.025\n",
      "Training Accuracy: 0.9713, Testing Accuracy: 0.9713\n",
      "\n"
     ]
    },
    {
     "name": "stdout",
     "output_type": "stream",
     "text": [
      "Epoch 140, Loss 0.0243\n",
      "Training Accuracy: 0.9714, Testing Accuracy: 0.9718\n",
      "\n"
     ]
    },
    {
     "name": "stdout",
     "output_type": "stream",
     "text": [
      "Epoch 150, Loss 0.0237\n",
      "Training Accuracy: 0.9721, Testing Accuracy: 0.9723\n",
      "\n"
     ]
    },
    {
     "name": "stdout",
     "output_type": "stream",
     "text": [
      "Epoch 160, Loss 0.0231\n",
      "Training Accuracy: 0.9729, Testing Accuracy: 0.9718\n",
      "\n"
     ]
    },
    {
     "name": "stdout",
     "output_type": "stream",
     "text": [
      "Epoch 170, Loss 0.0226\n",
      "Training Accuracy: 0.9734, Testing Accuracy: 0.9723\n",
      "\n"
     ]
    },
    {
     "name": "stdout",
     "output_type": "stream",
     "text": [
      "Epoch 180, Loss 0.0221\n",
      "Training Accuracy: 0.9741, Testing Accuracy: 0.9718\n",
      "\n"
     ]
    },
    {
     "name": "stdout",
     "output_type": "stream",
     "text": [
      "Epoch 190, Loss 0.0216\n",
      "Training Accuracy: 0.9742, Testing Accuracy: 0.9718\n",
      "\n"
     ]
    },
    {
     "name": "stdout",
     "output_type": "stream",
     "text": [
      "Epoch 200, Loss 0.0211\n",
      "Training Accuracy: 0.9754, Testing Accuracy: 0.9723\n",
      "\n"
     ]
    },
    {
     "name": "stdout",
     "output_type": "stream",
     "text": [
      "Epoch 210, Loss 0.0207\n",
      "Training Accuracy: 0.9756, Testing Accuracy: 0.9728\n",
      "\n"
     ]
    },
    {
     "name": "stdout",
     "output_type": "stream",
     "text": [
      "Epoch 220, Loss 0.0203\n",
      "Training Accuracy: 0.9760, Testing Accuracy: 0.9728\n",
      "\n"
     ]
    },
    {
     "name": "stdout",
     "output_type": "stream",
     "text": [
      "Epoch 230, Loss 0.0199\n",
      "Training Accuracy: 0.9769, Testing Accuracy: 0.9723\n",
      "\n"
     ]
    },
    {
     "name": "stdout",
     "output_type": "stream",
     "text": [
      "Epoch 240, Loss 0.0195\n",
      "Training Accuracy: 0.9775, Testing Accuracy: 0.9723\n",
      "\n"
     ]
    },
    {
     "name": "stdout",
     "output_type": "stream",
     "text": [
      "Epoch 250, Loss 0.0192\n",
      "Training Accuracy: 0.9781, Testing Accuracy: 0.9728\n",
      "\n"
     ]
    },
    {
     "data": {
      "text/plain": [
       "0.01216118946585279"
      ]
     },
     "execution_count": 20,
     "metadata": {},
     "output_type": "execute_result"
    }
   ],
   "source": [
    "print(\"====== Neural Network ======\")\n",
    "learner_nn.train_loop(dl)"
   ]
  },
  {
   "cell_type": "markdown",
   "id": "competent-suffering",
   "metadata": {
    "papermill": {
     "duration": 0.049173,
     "end_time": "2021-03-24T20:20:28.377800",
     "exception": false,
     "start_time": "2021-03-24T20:20:28.328627",
     "status": "completed"
    },
    "tags": []
   },
   "source": [
    "### Logistic Regression based Implementation."
   ]
  },
  {
   "cell_type": "code",
   "execution_count": 21,
   "id": "qualified-psychiatry",
   "metadata": {
    "execution": {
     "iopub.execute_input": "2021-03-24T20:20:28.480452Z",
     "iopub.status.busy": "2021-03-24T20:20:28.479824Z",
     "iopub.status.idle": "2021-03-24T20:20:28.491503Z",
     "shell.execute_reply": "2021-03-24T20:20:28.490605Z"
    },
    "papermill": {
     "duration": 0.065278,
     "end_time": "2021-03-24T20:20:28.491635",
     "exception": false,
     "start_time": "2021-03-24T20:20:28.426357",
     "status": "completed"
    },
    "tags": []
   },
   "outputs": [],
   "source": [
    "learner_lr = Learner(loss, model_lr, opt, config.num_epochs)\n",
    "acc_lr = ClfCallback(learner_lr, config.bs, training_xdata , testing_xdata, training_ydata, testing_ydata)\n",
    "learner_lr.set_callbacks([acc_lr])"
   ]
  },
  {
   "cell_type": "code",
   "execution_count": 22,
   "id": "average-outside",
   "metadata": {
    "execution": {
     "iopub.execute_input": "2021-03-24T20:20:28.588950Z",
     "iopub.status.busy": "2021-03-24T20:20:28.588318Z",
     "iopub.status.idle": "2021-03-24T20:20:48.740554Z",
     "shell.execute_reply": "2021-03-24T20:20:48.740007Z"
    },
    "papermill": {
     "duration": 20.202463,
     "end_time": "2021-03-24T20:20:48.740687",
     "exception": false,
     "start_time": "2021-03-24T20:20:28.538224",
     "status": "completed"
    },
    "tags": []
   },
   "outputs": [
    {
     "name": "stdout",
     "output_type": "stream",
     "text": [
      "====== Logistic Regression ======\n",
      "Epoch 0, Loss 0.2677\n",
      "Training Accuracy: 0.5897, Testing Accuracy: 0.6104\n",
      "\n"
     ]
    },
    {
     "name": "stdout",
     "output_type": "stream",
     "text": [
      "Epoch 10, Loss 0.1028\n",
      "Training Accuracy: 0.9140, Testing Accuracy: 0.9294\n",
      "\n"
     ]
    },
    {
     "name": "stdout",
     "output_type": "stream",
     "text": [
      "Epoch 20, Loss 0.0788\n",
      "Training Accuracy: 0.9290, Testing Accuracy: 0.9400\n",
      "\n"
     ]
    },
    {
     "name": "stdout",
     "output_type": "stream",
     "text": [
      "Epoch 30, Loss 0.068\n",
      "Training Accuracy: 0.9377, Testing Accuracy: 0.9446\n",
      "\n"
     ]
    },
    {
     "name": "stdout",
     "output_type": "stream",
     "text": [
      "Epoch 40, Loss 0.0615\n",
      "Training Accuracy: 0.9419, Testing Accuracy: 0.9511\n",
      "\n"
     ]
    },
    {
     "name": "stdout",
     "output_type": "stream",
     "text": [
      "Epoch 50, Loss 0.0571\n",
      "Training Accuracy: 0.9443, Testing Accuracy: 0.9531\n",
      "\n"
     ]
    },
    {
     "name": "stdout",
     "output_type": "stream",
     "text": [
      "Epoch 60, Loss 0.0538\n",
      "Training Accuracy: 0.9474, Testing Accuracy: 0.9561\n",
      "\n"
     ]
    },
    {
     "name": "stdout",
     "output_type": "stream",
     "text": [
      "Epoch 70, Loss 0.0513\n",
      "Training Accuracy: 0.9493, Testing Accuracy: 0.9572\n",
      "\n"
     ]
    },
    {
     "name": "stdout",
     "output_type": "stream",
     "text": [
      "Epoch 80, Loss 0.0493\n",
      "Training Accuracy: 0.9517, Testing Accuracy: 0.9572\n",
      "\n"
     ]
    },
    {
     "name": "stdout",
     "output_type": "stream",
     "text": [
      "Epoch 90, Loss 0.0476\n",
      "Training Accuracy: 0.9528, Testing Accuracy: 0.9597\n",
      "\n"
     ]
    },
    {
     "name": "stdout",
     "output_type": "stream",
     "text": [
      "Epoch 100, Loss 0.0462\n",
      "Training Accuracy: 0.9536, Testing Accuracy: 0.9602\n",
      "\n"
     ]
    },
    {
     "name": "stdout",
     "output_type": "stream",
     "text": [
      "Epoch 110, Loss 0.045\n",
      "Training Accuracy: 0.9542, Testing Accuracy: 0.9607\n",
      "\n"
     ]
    },
    {
     "name": "stdout",
     "output_type": "stream",
     "text": [
      "Epoch 120, Loss 0.0439\n",
      "Training Accuracy: 0.9552, Testing Accuracy: 0.9617\n",
      "\n"
     ]
    },
    {
     "name": "stdout",
     "output_type": "stream",
     "text": [
      "Epoch 130, Loss 0.043\n",
      "Training Accuracy: 0.9557, Testing Accuracy: 0.9622\n",
      "\n"
     ]
    },
    {
     "name": "stdout",
     "output_type": "stream",
     "text": [
      "Epoch 140, Loss 0.0421\n",
      "Training Accuracy: 0.9569, Testing Accuracy: 0.9632\n",
      "\n"
     ]
    },
    {
     "name": "stdout",
     "output_type": "stream",
     "text": [
      "Epoch 150, Loss 0.0414\n",
      "Training Accuracy: 0.9579, Testing Accuracy: 0.9642\n",
      "\n"
     ]
    },
    {
     "name": "stdout",
     "output_type": "stream",
     "text": [
      "Epoch 160, Loss 0.0407\n",
      "Training Accuracy: 0.9582, Testing Accuracy: 0.9642\n",
      "\n"
     ]
    },
    {
     "name": "stdout",
     "output_type": "stream",
     "text": [
      "Epoch 170, Loss 0.0401\n",
      "Training Accuracy: 0.9584, Testing Accuracy: 0.9642\n",
      "\n"
     ]
    },
    {
     "name": "stdout",
     "output_type": "stream",
     "text": [
      "Epoch 180, Loss 0.0396\n",
      "Training Accuracy: 0.9590, Testing Accuracy: 0.9642\n",
      "\n"
     ]
    },
    {
     "name": "stdout",
     "output_type": "stream",
     "text": [
      "Epoch 190, Loss 0.039\n",
      "Training Accuracy: 0.9592, Testing Accuracy: 0.9647\n",
      "\n"
     ]
    },
    {
     "name": "stdout",
     "output_type": "stream",
     "text": [
      "Epoch 200, Loss 0.0386\n",
      "Training Accuracy: 0.9598, Testing Accuracy: 0.9647\n",
      "\n"
     ]
    },
    {
     "name": "stdout",
     "output_type": "stream",
     "text": [
      "Epoch 210, Loss 0.0381\n",
      "Training Accuracy: 0.9601, Testing Accuracy: 0.9657\n",
      "\n"
     ]
    },
    {
     "name": "stdout",
     "output_type": "stream",
     "text": [
      "Epoch 220, Loss 0.0377\n",
      "Training Accuracy: 0.9603, Testing Accuracy: 0.9657\n",
      "\n"
     ]
    },
    {
     "name": "stdout",
     "output_type": "stream",
     "text": [
      "Epoch 230, Loss 0.0373\n",
      "Training Accuracy: 0.9605, Testing Accuracy: 0.9657\n",
      "\n"
     ]
    },
    {
     "name": "stdout",
     "output_type": "stream",
     "text": [
      "Epoch 240, Loss 0.0369\n",
      "Training Accuracy: 0.9609, Testing Accuracy: 0.9657\n",
      "\n"
     ]
    },
    {
     "name": "stdout",
     "output_type": "stream",
     "text": [
      "Epoch 250, Loss 0.0366\n",
      "Training Accuracy: 0.9614, Testing Accuracy: 0.9657\n",
      "\n"
     ]
    },
    {
     "data": {
      "text/plain": [
       "0.037838420620002686"
      ]
     },
     "execution_count": 22,
     "metadata": {},
     "output_type": "execute_result"
    }
   ],
   "source": [
    "print(\"====== Logistic Regression ======\")\n",
    "learner_lr.train_loop(dl)"
   ]
  },
  {
   "cell_type": "markdown",
   "id": "adjusted-possible",
   "metadata": {
    "papermill": {
     "duration": 0.056606,
     "end_time": "2021-03-24T20:20:48.856148",
     "exception": false,
     "start_time": "2021-03-24T20:20:48.799542",
     "status": "completed"
    },
    "tags": []
   },
   "source": [
    "### Comparing results of NN and LR"
   ]
  },
  {
   "cell_type": "code",
   "execution_count": 23,
   "id": "mental-multimedia",
   "metadata": {
    "execution": {
     "iopub.execute_input": "2021-03-24T20:20:48.974173Z",
     "iopub.status.busy": "2021-03-24T20:20:48.973470Z",
     "iopub.status.idle": "2021-03-24T20:20:49.261983Z",
     "shell.execute_reply": "2021-03-24T20:20:49.261339Z"
    },
    "papermill": {
     "duration": 0.350065,
     "end_time": "2021-03-24T20:20:49.262125",
     "exception": false,
     "start_time": "2021-03-24T20:20:48.912060",
     "status": "completed"
    },
    "tags": []
   },
   "outputs": [
    {
     "data": {
      "text/plain": [
       "<matplotlib.legend.Legend at 0x7fed8210c358>"
      ]
     },
     "execution_count": 23,
     "metadata": {},
     "output_type": "execute_result"
    },
    {
     "data": {
      "image/png": "[encoded data removed]",
      "text/plain": [
       "<Figure size 1080x720 with 1 Axes>"
      ]
     },
     "metadata": {
      "needs_background": "light"
     },
     "output_type": "display_data"
    }
   ],
   "source": [
    "plt.figure(figsize=(15,10))\n",
    "\n",
    "# Neural Network plots\n",
    "plt.plot(acc_nn.accuracies, 'r-', label = \"Training Accuracies - NN\")\n",
    "plt.plot(acc_nn.test_accuracies, 'g-', label = \"Testing Accuracies - NN\")\n",
    "\n",
    "# Logistic Regression plots\n",
    "plt.plot(acc_lr.accuracies, 'k-', label = \"Training Accuracies - LR\")\n",
    "plt.plot(acc_lr.test_accuracies, 'b-', label = \"Testing Accuracies - LR\")\n",
    "\n",
    "plt.ylim(0.8, 1)\n",
    "\n",
    "plt.legend()\n",
    "\n"
   ]
  },
  {
   "cell_type": "markdown",
   "id": "sexual-flesh",
   "metadata": {
    "papermill": {
     "duration": 0.055266,
     "end_time": "2021-03-24T20:20:49.374249",
     "exception": false,
     "start_time": "2021-03-24T20:20:49.318983",
     "status": "completed"
    },
    "tags": []
   },
   "source": [
    "### From the plot, we can observe the following:\n",
    "- Neural Network achieves higher accuracy than the Logistic Regression model.\n",
    "- This apparently, is because of overfitting, i.e. NN captures more noise than data.\n",
    "- Testing accuracy of NN drops below the Training accuracy at higher epochs. This explains the over-fitting on training data.\n",
    "- Logistic Regression gives a reliable accuracy, without the above mentioned problem.\n"
   ]
  },
  {
   "cell_type": "markdown",
   "id": "institutional-pacific",
   "metadata": {
    "papermill": {
     "duration": 0.058879,
     "end_time": "2021-03-24T20:20:49.489227",
     "exception": false,
     "start_time": "2021-03-24T20:20:49.430348",
     "status": "completed"
    },
    "tags": []
   },
   "source": [
    "### Moving till the last but one layer (excluding it).\n",
    "#### Plotting the outputs of this layer of the NN."
   ]
  },
  {
   "cell_type": "code",
   "execution_count": 24,
   "id": "economic-server",
   "metadata": {
    "execution": {
     "iopub.execute_input": "2021-03-24T20:20:49.649588Z",
     "iopub.status.busy": "2021-03-24T20:20:49.639671Z",
     "iopub.status.idle": "2021-03-24T20:20:49.652954Z",
     "shell.execute_reply": "2021-03-24T20:20:49.653569Z"
    },
    "papermill": {
     "duration": 0.093165,
     "end_time": "2021-03-24T20:20:49.653784",
     "exception": false,
     "start_time": "2021-03-24T20:20:49.560619",
     "status": "completed"
    },
    "tags": []
   },
   "outputs": [],
   "source": [
    "model_new = Model(layers[:-2])"
   ]
  },
  {
   "cell_type": "code",
   "execution_count": 25,
   "id": "varied-upgrade",
   "metadata": {
    "execution": {
     "iopub.execute_input": "2021-03-24T20:20:49.779546Z",
     "iopub.status.busy": "2021-03-24T20:20:49.778830Z",
     "iopub.status.idle": "2021-03-24T20:20:49.805977Z",
     "shell.execute_reply": "2021-03-24T20:20:49.806521Z"
    },
    "papermill": {
     "duration": 0.093546,
     "end_time": "2021-03-24T20:20:49.806674",
     "exception": false,
     "start_time": "2021-03-24T20:20:49.713128",
     "status": "completed"
    },
    "tags": []
   },
   "outputs": [],
   "source": [
    "plot_testing = model_new(testing_xdata)"
   ]
  },
  {
   "cell_type": "code",
   "execution_count": 26,
   "id": "specific-handling",
   "metadata": {
    "execution": {
     "iopub.execute_input": "2021-03-24T20:20:49.928033Z",
     "iopub.status.busy": "2021-03-24T20:20:49.927334Z",
     "iopub.status.idle": "2021-03-24T20:20:50.166682Z",
     "shell.execute_reply": "2021-03-24T20:20:50.166003Z"
    },
    "papermill": {
     "duration": 0.302547,
     "end_time": "2021-03-24T20:20:50.166814",
     "exception": false,
     "start_time": "2021-03-24T20:20:49.864267",
     "status": "completed"
    },
    "tags": []
   },
   "outputs": [
    {
     "data": {
      "text/plain": [
       "Text(0.5, 1.0, 'Outputs')"
      ]
     },
     "execution_count": 26,
     "metadata": {},
     "output_type": "execute_result"
    },
    {
     "data": {
      "image/png": "[encoded data removed]",
      "text/plain": [
       "<Figure size 576x504 with 1 Axes>"
      ]
     },
     "metadata": {
      "needs_background": "light"
     },
     "output_type": "display_data"
    }
   ],
   "source": [
    "plt.figure(figsize=(8,7))\n",
    "plt.scatter(plot_testing[:,0], plot_testing[:,1], alpha = 0.1, c = y_test.ravel());\n",
    "plt.title('Outputs')"
   ]
  },
  {
   "cell_type": "markdown",
   "id": "described-knowing",
   "metadata": {
    "papermill": {
     "duration": 0.07951,
     "end_time": "2021-03-24T20:20:50.305704",
     "exception": false,
     "start_time": "2021-03-24T20:20:50.226194",
     "status": "completed"
    },
    "tags": []
   },
   "source": [
    "### Plotting probability contours"
   ]
  },
  {
   "cell_type": "code",
   "execution_count": 27,
   "id": "needed-growing",
   "metadata": {
    "execution": {
     "iopub.execute_input": "2021-03-24T20:20:50.429332Z",
     "iopub.status.busy": "2021-03-24T20:20:50.428382Z",
     "iopub.status.idle": "2021-03-24T20:20:50.442231Z",
     "shell.execute_reply": "2021-03-24T20:20:50.442793Z"
    },
    "papermill": {
     "duration": 0.078488,
     "end_time": "2021-03-24T20:20:50.442931",
     "exception": false,
     "start_time": "2021-03-24T20:20:50.364443",
     "status": "completed"
    },
    "tags": []
   },
   "outputs": [],
   "source": [
    "model_prob = Model(layers[-2:]) "
   ]
  },
  {
   "cell_type": "code",
   "execution_count": 28,
   "id": "introductory-enforcement",
   "metadata": {
    "execution": {
     "iopub.execute_input": "2021-03-24T20:20:50.578387Z",
     "iopub.status.busy": "2021-03-24T20:20:50.577729Z",
     "iopub.status.idle": "2021-03-24T20:20:50.591244Z",
     "shell.execute_reply": "2021-03-24T20:20:50.591719Z"
    },
    "papermill": {
     "duration": 0.084743,
     "end_time": "2021-03-24T20:20:50.591869",
     "exception": false,
     "start_time": "2021-03-24T20:20:50.507126",
     "status": "completed"
    },
    "tags": []
   },
   "outputs": [],
   "source": [
    "# Adjust the x and y ranges according to the above generated plot.\n",
    "x_range = np.linspace(-4, 1, 100) \n",
    "y_range = np.linspace(-6, 6, 100) \n",
    "x_grid, y_grid = np.meshgrid(x_range, y_range) # x_grid and y_grig are of size 100 X 100\n",
    "\n",
    "# converting x_grid and y_grid to continuous arrays\n",
    "x_grid_flat = np.ravel(x_grid)\n",
    "y_grid_flat = np.ravel(y_grid)\n",
    "\n",
    "# The last layer of the current model takes two columns as input. Hence transpose of np.vstack() is required.\n",
    "X = np.vstack((x_grid_flat, y_grid_flat)).T\n",
    "\n",
    "# x_grid and y_grid are of size 100 x 100\n",
    "probability_contour = model_prob(X).reshape(100,100) "
   ]
  },
  {
   "cell_type": "code",
   "execution_count": 29,
   "id": "understood-landing",
   "metadata": {
    "execution": {
     "iopub.execute_input": "2021-03-24T20:20:50.717286Z",
     "iopub.status.busy": "2021-03-24T20:20:50.716610Z",
     "iopub.status.idle": "2021-03-24T20:20:51.014864Z",
     "shell.execute_reply": "2021-03-24T20:20:51.014326Z"
    },
    "papermill": {
     "duration": 0.362059,
     "end_time": "2021-03-24T20:20:51.015064",
     "exception": false,
     "start_time": "2021-03-24T20:20:50.653005",
     "status": "completed"
    },
    "tags": []
   },
   "outputs": [
    {
     "data": {
      "image/png": "[encoded data removed]",
      "text/plain": [
       "<Figure size 720x648 with 1 Axes>"
      ]
     },
     "metadata": {
      "needs_background": "light"
     },
     "output_type": "display_data"
    }
   ],
   "source": [
    "plt.figure(figsize=(10,9))\n",
    "plt.scatter(plot_testing[:,0], plot_testing[:,1], alpha = 0.1, c = y_test.ravel())\n",
    "contours = plt.contour(x_grid,y_grid,probability_contour)\n",
    "plt.title('Probability Contours')\n",
    "plt.clabel(contours, inline = True );"
   ]
  }
 ],
 "metadata": {
  "kernelspec": {
   "display_name": "Python 3",
   "language": "python",
   "name": "python3"
  },
  "language_info": {
   "codemirror_mode": {
    "name": "ipython",
    "version": 3
   },
   "file_extension": ".py",
   "mimetype": "text/x-python",
   "name": "python",
   "nbconvert_exporter": "python",
   "pygments_lexer": "ipython3",
   "version": "3.6.13"
  },
  "papermill": {
   "duration": 530.549074,
   "end_time": "2021-03-24T20:20:51.487572",
   "environment_variables": {},
   "exception": null,
   "input_path": "2020-08-11-NeuralNetwork.ipynb",
   "output_path": "2020-08-11-NeuralNetwork.ipynb",
   "parameters": {},
   "start_time": "2021-03-24T20:12:00.938498",
   "version": "2.1.2"
  }
 },
 "nbformat": 4,
 "nbformat_minor": 5
}