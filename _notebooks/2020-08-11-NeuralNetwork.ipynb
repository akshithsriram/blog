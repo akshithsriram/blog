{
 "cells": [
  {
   "cell_type": "markdown",
   "metadata": {
    "papermill": {
     "duration": 0.033108,
     "end_time": "2020-10-10T10:04:47.484559",
     "exception": false,
     "start_time": "2020-10-10T10:04:47.451451",
     "status": "completed"
    },
    "tags": []
   },
   "source": [
    "# \"A Basic Neural Network: Differentiate Hand-Written Digits\"\n",
    "\n",
    "- badges: true\n",
    "- author: Akshith Sriram"
   ]
  },
  {
   "cell_type": "markdown",
   "metadata": {
    "papermill": {
     "duration": 0.029017,
     "end_time": "2020-10-10T10:04:47.542840",
     "exception": false,
     "start_time": "2020-10-10T10:04:47.513823",
     "status": "completed"
    },
    "tags": []
   },
   "source": [
    "### Key Objectives:\n",
    "- Building a neural network that differentiates two hand-written digits 3 and 8.\n",
    "- Comparing the results of this Neural Network (NN) to that of a Logistic Regression (LR) model.\n",
    "\n",
    "### Requirements:\n",
    "- 'Kudzu' : A neural network library that was designed during our course by [Univ.AI](www.univ.ai). \n",
    "- MNIST Database\n",
    "\n",
    "If MNIST is not installed, use the command `!pip install mnist` given below.\n",
    "It can be run both from the command line and Jupyter Notebook."
   ]
  },
  {
   "cell_type": "code",
   "execution_count": 1,
   "metadata": {
    "execution": {
     "iopub.execute_input": "2020-10-10T10:04:47.607438Z",
     "iopub.status.busy": "2020-10-10T10:04:47.606734Z",
     "iopub.status.idle": "2020-10-10T10:04:49.281858Z",
     "shell.execute_reply": "2020-10-10T10:04:49.281055Z"
    },
    "papermill": {
     "duration": 1.70974,
     "end_time": "2020-10-10T10:04:49.282034",
     "exception": false,
     "start_time": "2020-10-10T10:04:47.572294",
     "status": "completed"
    },
    "tags": []
   },
   "outputs": [
    {
     "name": "stdout",
     "output_type": "stream",
     "text": [
      "Collecting mnist\r\n",
      "  Downloading mnist-0.2.2-py2.py3-none-any.whl (3.5 kB)\r\n"
     ]
    },
    {
     "name": "stdout",
     "output_type": "stream",
     "text": [
      "Requirement already satisfied: numpy in /opt/hostedtoolcache/Python/3.6.12/x64/lib/python3.6/site-packages (from mnist) (1.19.2)\r\n"
     ]
    },
    {
     "name": "stdout",
     "output_type": "stream",
     "text": [
      "Installing collected packages: mnist\r\n"
     ]
    },
    {
     "name": "stdout",
     "output_type": "stream",
     "text": [
      "Successfully installed mnist-0.2.2\r\n"
     ]
    }
   ],
   "source": [
    "!pip install mnist "
   ]
  },
  {
   "cell_type": "markdown",
   "metadata": {
    "papermill": {
     "duration": 0.034668,
     "end_time": "2020-10-10T10:04:49.350378",
     "exception": false,
     "start_time": "2020-10-10T10:04:49.315710",
     "status": "completed"
    },
    "tags": []
   },
   "source": [
    "#### Importing necessary libraries"
   ]
  },
  {
   "cell_type": "code",
   "execution_count": 2,
   "metadata": {
    "execution": {
     "iopub.execute_input": "2020-10-10T10:04:49.421052Z",
     "iopub.status.busy": "2020-10-10T10:04:49.420379Z",
     "iopub.status.idle": "2020-10-10T10:04:50.040476Z",
     "shell.execute_reply": "2020-10-10T10:04:50.039867Z"
    },
    "papermill": {
     "duration": 0.658067,
     "end_time": "2020-10-10T10:04:50.040642",
     "exception": false,
     "start_time": "2020-10-10T10:04:49.382575",
     "status": "completed"
    },
    "tags": []
   },
   "outputs": [],
   "source": [
    "%load_ext autoreload\n",
    "%autoreload 2\n",
    "\n",
    "%matplotlib inline\n",
    "import matplotlib.pyplot as plt\n",
    "\n",
    "import numpy as np\n",
    "import pandas as pd"
   ]
  },
  {
   "cell_type": "markdown",
   "metadata": {
    "papermill": {
     "duration": 0.031681,
     "end_time": "2020-10-10T10:04:50.104628",
     "exception": false,
     "start_time": "2020-10-10T10:04:50.072947",
     "status": "completed"
    },
    "tags": []
   },
   "source": [
    "### Preparing the Data"
   ]
  },
  {
   "cell_type": "code",
   "execution_count": 3,
   "metadata": {
    "execution": {
     "iopub.execute_input": "2020-10-10T10:04:50.173982Z",
     "iopub.status.busy": "2020-10-10T10:04:50.173278Z",
     "iopub.status.idle": "2020-10-10T10:04:50.186242Z",
     "shell.execute_reply": "2020-10-10T10:04:50.186808Z"
    },
    "papermill": {
     "duration": 0.049554,
     "end_time": "2020-10-10T10:04:50.186980",
     "exception": false,
     "start_time": "2020-10-10T10:04:50.137426",
     "status": "completed"
    },
    "tags": []
   },
   "outputs": [],
   "source": [
    "import mnist"
   ]
  },
  {
   "cell_type": "code",
   "execution_count": 4,
   "metadata": {
    "execution": {
     "iopub.execute_input": "2020-10-10T10:04:50.252029Z",
     "iopub.status.busy": "2020-10-10T10:04:50.251341Z",
     "iopub.status.idle": "2020-10-10T10:04:51.962809Z",
     "shell.execute_reply": "2020-10-10T10:04:51.962251Z"
    },
    "papermill": {
     "duration": 1.745814,
     "end_time": "2020-10-10T10:04:51.962954",
     "exception": false,
     "start_time": "2020-10-10T10:04:50.217140",
     "status": "completed"
    },
    "tags": []
   },
   "outputs": [],
   "source": [
    "train_images = mnist.train_images()\n",
    "train_labels = mnist.train_labels()"
   ]
  },
  {
   "cell_type": "code",
   "execution_count": 5,
   "metadata": {
    "execution": {
     "iopub.execute_input": "2020-10-10T10:04:52.030358Z",
     "iopub.status.busy": "2020-10-10T10:04:52.028509Z",
     "iopub.status.idle": "2020-10-10T10:04:52.044445Z",
     "shell.execute_reply": "2020-10-10T10:04:52.043726Z"
    },
    "papermill": {
     "duration": 0.050576,
     "end_time": "2020-10-10T10:04:52.044570",
     "exception": false,
     "start_time": "2020-10-10T10:04:51.993994",
     "status": "completed"
    },
    "tags": []
   },
   "outputs": [
    {
     "data": {
      "text/plain": [
       "((60000, 28, 28), (60000,))"
      ]
     },
     "execution_count": 5,
     "metadata": {},
     "output_type": "execute_result"
    }
   ],
   "source": [
    "train_images.shape, train_labels.shape"
   ]
  },
  {
   "cell_type": "code",
   "execution_count": 6,
   "metadata": {
    "execution": {
     "iopub.execute_input": "2020-10-10T10:04:52.110074Z",
     "iopub.status.busy": "2020-10-10T10:04:52.108309Z",
     "iopub.status.idle": "2020-10-10T10:04:52.970042Z",
     "shell.execute_reply": "2020-10-10T10:04:52.970572Z"
    },
    "papermill": {
     "duration": 0.895506,
     "end_time": "2020-10-10T10:04:52.970758",
     "exception": false,
     "start_time": "2020-10-10T10:04:52.075252",
     "status": "completed"
    },
    "tags": []
   },
   "outputs": [],
   "source": [
    "test_images = mnist.test_images()\n",
    "test_labels = mnist.test_labels()"
   ]
  },
  {
   "cell_type": "code",
   "execution_count": 7,
   "metadata": {
    "execution": {
     "iopub.execute_input": "2020-10-10T10:04:53.046221Z",
     "iopub.status.busy": "2020-10-10T10:04:53.045541Z",
     "iopub.status.idle": "2020-10-10T10:04:53.059381Z",
     "shell.execute_reply": "2020-10-10T10:04:53.059911Z"
    },
    "papermill": {
     "duration": 0.052338,
     "end_time": "2020-10-10T10:04:53.060091",
     "exception": false,
     "start_time": "2020-10-10T10:04:53.007753",
     "status": "completed"
    },
    "tags": []
   },
   "outputs": [
    {
     "data": {
      "text/plain": [
       "((10000, 28, 28), (10000,))"
      ]
     },
     "execution_count": 7,
     "metadata": {},
     "output_type": "execute_result"
    }
   ],
   "source": [
    "test_images.shape, test_labels.shape"
   ]
  },
  {
   "cell_type": "code",
   "execution_count": 8,
   "metadata": {
    "execution": {
     "iopub.execute_input": "2020-10-10T10:04:53.128349Z",
     "iopub.status.busy": "2020-10-10T10:04:53.127671Z",
     "iopub.status.idle": "2020-10-10T10:04:53.316325Z",
     "shell.execute_reply": "2020-10-10T10:04:53.316887Z"
    },
    "papermill": {
     "duration": 0.224489,
     "end_time": "2020-10-10T10:04:53.317067",
     "exception": false,
     "start_time": "2020-10-10T10:04:53.092578",
     "status": "completed"
    },
    "tags": []
   },
   "outputs": [
    {
     "name": "stdout",
     "output_type": "stream",
     "text": [
      "2\n"
     ]
    },
    {
     "data": {
      "text/plain": [
       "<matplotlib.image.AxesImage at 0x7f824bd45978>"
      ]
     },
     "execution_count": 8,
     "metadata": {},
     "output_type": "execute_result"
    },
    {
     "data": {
      "image/png": "[encoded data removed]",
      "text/plain": [
       "<Figure size 432x288 with 1 Axes>"
      ]
     },
     "metadata": {
      "needs_background": "light"
     },
     "output_type": "display_data"
    }
   ],
   "source": [
    "image_index = 7776 # You may select anything up to 60,000\n",
    "print(train_labels[image_index]) \n",
    "plt.imshow(train_images[image_index], cmap='Greys')"
   ]
  },
  {
   "cell_type": "markdown",
   "metadata": {
    "papermill": {
     "duration": 0.032914,
     "end_time": "2020-10-10T10:04:53.382111",
     "exception": false,
     "start_time": "2020-10-10T10:04:53.349197",
     "status": "completed"
    },
    "tags": []
   },
   "source": [
    "## Filter data to get 3 and 8 out"
   ]
  },
  {
   "cell_type": "code",
   "execution_count": 9,
   "metadata": {
    "execution": {
     "iopub.execute_input": "2020-10-10T10:04:53.451346Z",
     "iopub.status.busy": "2020-10-10T10:04:53.450654Z",
     "iopub.status.idle": "2020-10-10T10:04:53.472292Z",
     "shell.execute_reply": "2020-10-10T10:04:53.472869Z"
    },
    "papermill": {
     "duration": 0.058948,
     "end_time": "2020-10-10T10:04:53.473084",
     "exception": false,
     "start_time": "2020-10-10T10:04:53.414136",
     "status": "completed"
    },
    "tags": []
   },
   "outputs": [],
   "source": [
    "train_filter = np.where((train_labels == 3 ) | (train_labels == 8))\n",
    "test_filter = np.where((test_labels == 3) | (test_labels == 8))\n",
    "X_train, y_train = train_images[train_filter], train_labels[train_filter]\n",
    "X_test, y_test = test_images[test_filter], test_labels[test_filter]"
   ]
  },
  {
   "cell_type": "markdown",
   "metadata": {
    "papermill": {
     "duration": 0.031998,
     "end_time": "2020-10-10T10:04:53.537752",
     "exception": false,
     "start_time": "2020-10-10T10:04:53.505754",
     "status": "completed"
    },
    "tags": []
   },
   "source": [
    "We normalize the pixel values in the 0 to 1 range"
   ]
  },
  {
   "cell_type": "code",
   "execution_count": 10,
   "metadata": {
    "execution": {
     "iopub.execute_input": "2020-10-10T10:04:53.607074Z",
     "iopub.status.busy": "2020-10-10T10:04:53.606386Z",
     "iopub.status.idle": "2020-10-10T10:04:53.668473Z",
     "shell.execute_reply": "2020-10-10T10:04:53.667884Z"
    },
    "papermill": {
     "duration": 0.098762,
     "end_time": "2020-10-10T10:04:53.668632",
     "exception": false,
     "start_time": "2020-10-10T10:04:53.569870",
     "status": "completed"
    },
    "tags": []
   },
   "outputs": [],
   "source": [
    "X_train = X_train/255.\n",
    "X_test = X_test/255."
   ]
  },
  {
   "cell_type": "markdown",
   "metadata": {
    "papermill": {
     "duration": 0.033109,
     "end_time": "2020-10-10T10:04:53.735527",
     "exception": false,
     "start_time": "2020-10-10T10:04:53.702418",
     "status": "completed"
    },
    "tags": []
   },
   "source": [
    "Setup the labels as 1 (when the digit is 3) and 0 (when the digit is 8)"
   ]
  },
  {
   "cell_type": "code",
   "execution_count": 11,
   "metadata": {
    "execution": {
     "iopub.execute_input": "2020-10-10T10:04:53.812575Z",
     "iopub.status.busy": "2020-10-10T10:04:53.811888Z",
     "iopub.status.idle": "2020-10-10T10:04:53.825092Z",
     "shell.execute_reply": "2020-10-10T10:04:53.824494Z"
    },
    "papermill": {
     "duration": 0.055555,
     "end_time": "2020-10-10T10:04:53.825277",
     "exception": false,
     "start_time": "2020-10-10T10:04:53.769722",
     "status": "completed"
    },
    "tags": []
   },
   "outputs": [],
   "source": [
    "y_train = 1*(y_train==3)\n",
    "y_test = 1*(y_test==3)"
   ]
  },
  {
   "cell_type": "code",
   "execution_count": 12,
   "metadata": {
    "execution": {
     "iopub.execute_input": "2020-10-10T10:04:53.898359Z",
     "iopub.status.busy": "2020-10-10T10:04:53.897593Z",
     "iopub.status.idle": "2020-10-10T10:04:53.912568Z",
     "shell.execute_reply": "2020-10-10T10:04:53.911895Z"
    },
    "papermill": {
     "duration": 0.053237,
     "end_time": "2020-10-10T10:04:53.912715",
     "exception": false,
     "start_time": "2020-10-10T10:04:53.859478",
     "status": "completed"
    },
    "tags": []
   },
   "outputs": [
    {
     "data": {
      "text/plain": [
       "((11982, 28, 28), (1984, 28, 28))"
      ]
     },
     "execution_count": 12,
     "metadata": {},
     "output_type": "execute_result"
    }
   ],
   "source": [
    "X_train.shape, X_test.shape"
   ]
  },
  {
   "cell_type": "markdown",
   "metadata": {
    "papermill": {
     "duration": 0.033325,
     "end_time": "2020-10-10T10:04:53.979699",
     "exception": false,
     "start_time": "2020-10-10T10:04:53.946374",
     "status": "completed"
    },
    "tags": []
   },
   "source": [
    "### Reshape the input data to create a linear array"
   ]
  },
  {
   "cell_type": "code",
   "execution_count": 13,
   "metadata": {
    "execution": {
     "iopub.execute_input": "2020-10-10T10:04:54.061298Z",
     "iopub.status.busy": "2020-10-10T10:04:54.060586Z",
     "iopub.status.idle": "2020-10-10T10:04:54.073665Z",
     "shell.execute_reply": "2020-10-10T10:04:54.072982Z"
    },
    "papermill": {
     "duration": 0.05832,
     "end_time": "2020-10-10T10:04:54.073807",
     "exception": false,
     "start_time": "2020-10-10T10:04:54.015487",
     "status": "completed"
    },
    "tags": []
   },
   "outputs": [
    {
     "data": {
      "text/plain": [
       "((11982, 784), (1984, 784))"
      ]
     },
     "execution_count": 13,
     "metadata": {},
     "output_type": "execute_result"
    }
   ],
   "source": [
    "X_train = X_train.reshape(X_train.shape[0], -1)\n",
    "X_test = X_test.reshape(X_test.shape[0], -1)\n",
    "X_train.shape, X_test.shape"
   ]
  },
  {
   "cell_type": "markdown",
   "metadata": {
    "papermill": {
     "duration": 0.033769,
     "end_time": "2020-10-10T10:04:54.141001",
     "exception": false,
     "start_time": "2020-10-10T10:04:54.107232",
     "status": "completed"
    },
    "tags": []
   },
   "source": [
    "### Importing appropriate functions from 'Kudzu'"
   ]
  },
  {
   "cell_type": "code",
   "execution_count": 14,
   "metadata": {
    "execution": {
     "iopub.execute_input": "2020-10-10T10:04:54.223505Z",
     "iopub.status.busy": "2020-10-10T10:04:54.222843Z",
     "iopub.status.idle": "2020-10-10T10:04:54.244144Z",
     "shell.execute_reply": "2020-10-10T10:04:54.243438Z"
    },
    "papermill": {
     "duration": 0.064126,
     "end_time": "2020-10-10T10:04:54.244284",
     "exception": false,
     "start_time": "2020-10-10T10:04:54.180158",
     "status": "completed"
    },
    "tags": []
   },
   "outputs": [],
   "source": [
    "from kudzu.layer import Sigmoid\n",
    "from kudzu.layer import Relu\n",
    "from kudzu.layer import Affine, Sigmoid\n",
    "\n",
    "from kudzu.model import Model\n",
    "from kudzu.train import Learner\n",
    "from kudzu.optim import GD\n",
    "from kudzu.data import Data, Dataloader, Sampler\n",
    "\n",
    "from kudzu.callbacks import AccCallback\n",
    "from kudzu.callbacks import ClfCallback\n",
    "\n",
    "from kudzu.loss import MSE"
   ]
  },
  {
   "cell_type": "markdown",
   "metadata": {
    "papermill": {
     "duration": 0.040903,
     "end_time": "2020-10-10T10:04:54.317874",
     "exception": false,
     "start_time": "2020-10-10T10:04:54.276971",
     "status": "completed"
    },
    "tags": []
   },
   "source": [
    "### Let us create a `Config` class, to store important parameters. \n",
    "This class essentially plays the role of a dictionary."
   ]
  },
  {
   "cell_type": "code",
   "execution_count": 15,
   "metadata": {
    "execution": {
     "iopub.execute_input": "2020-10-10T10:04:54.394370Z",
     "iopub.status.busy": "2020-10-10T10:04:54.393704Z",
     "iopub.status.idle": "2020-10-10T10:04:54.407491Z",
     "shell.execute_reply": "2020-10-10T10:04:54.406947Z"
    },
    "papermill": {
     "duration": 0.052529,
     "end_time": "2020-10-10T10:04:54.407636",
     "exception": false,
     "start_time": "2020-10-10T10:04:54.355107",
     "status": "completed"
    },
    "tags": []
   },
   "outputs": [],
   "source": [
    "class Config:\n",
    "    pass\n",
    "config = Config()\n",
    "config.lr = 0.001\n",
    "config.num_epochs = 251\n",
    "config.bs = 50"
   ]
  },
  {
   "cell_type": "markdown",
   "metadata": {
    "papermill": {
     "duration": 0.033935,
     "end_time": "2020-10-10T10:04:54.474942",
     "exception": false,
     "start_time": "2020-10-10T10:04:54.441007",
     "status": "completed"
    },
    "tags": []
   },
   "source": [
    "### Initializing data to the variables"
   ]
  },
  {
   "cell_type": "code",
   "execution_count": 16,
   "metadata": {
    "execution": {
     "iopub.execute_input": "2020-10-10T10:04:54.550785Z",
     "iopub.status.busy": "2020-10-10T10:04:54.550117Z",
     "iopub.status.idle": "2020-10-10T10:04:54.564091Z",
     "shell.execute_reply": "2020-10-10T10:04:54.564738Z"
    },
    "papermill": {
     "duration": 0.054505,
     "end_time": "2020-10-10T10:04:54.564920",
     "exception": false,
     "start_time": "2020-10-10T10:04:54.510415",
     "status": "completed"
    },
    "tags": []
   },
   "outputs": [],
   "source": [
    "data = Data(X_train, y_train.reshape(-1,1))\n",
    "sampler = Sampler(data, config.bs, shuffle=True)\n",
    "\n",
    "dl = Dataloader(data, sampler)\n",
    "\n",
    "opt = GD(config.lr)\n",
    "loss = MSE()"
   ]
  },
  {
   "cell_type": "code",
   "execution_count": 17,
   "metadata": {
    "execution": {
     "iopub.execute_input": "2020-10-10T10:04:54.638983Z",
     "iopub.status.busy": "2020-10-10T10:04:54.638293Z",
     "iopub.status.idle": "2020-10-10T10:04:54.651730Z",
     "shell.execute_reply": "2020-10-10T10:04:54.651141Z"
    },
    "papermill": {
     "duration": 0.052861,
     "end_time": "2020-10-10T10:04:54.651921",
     "exception": false,
     "start_time": "2020-10-10T10:04:54.599060",
     "status": "completed"
    },
    "tags": []
   },
   "outputs": [],
   "source": [
    "training_xdata = X_train\n",
    "testing_xdata = X_test\n",
    "training_ydata = y_train.reshape(-1,1)\n",
    "testing_ydata = y_test.reshape(-1,1)"
   ]
  },
  {
   "cell_type": "markdown",
   "metadata": {
    "papermill": {
     "duration": 0.036582,
     "end_time": "2020-10-10T10:04:54.722506",
     "exception": false,
     "start_time": "2020-10-10T10:04:54.685924",
     "status": "completed"
    },
    "tags": []
   },
   "source": [
    "### Running Models with the Training data\n",
    "Details about the network layers:\n",
    "- A first affine layer has 784 inputs and does 100 affine transforms. These are followed by a Relu\n",
    "- A second affine layer has 100 inputs from the 100 activations of the past layer, and does 100 affine transforms. These are followed by a Relu\n",
    "- A third affine layer has 100 activations and does 2 affine transformations to create an embedding for visualization. There is no non-linearity here.\n",
    "- A final \"logistic regression\" which has an affine transform from 2 inputs to 1 output, which is squeezed through a sigmoid.\n",
    "\n",
    "Help taken from Anshuman's Notebook."
   ]
  },
  {
   "cell_type": "code",
   "execution_count": 18,
   "metadata": {
    "execution": {
     "iopub.execute_input": "2020-10-10T10:04:54.813087Z",
     "iopub.status.busy": "2020-10-10T10:04:54.812370Z",
     "iopub.status.idle": "2020-10-10T10:04:54.831310Z",
     "shell.execute_reply": "2020-10-10T10:04:54.830693Z"
    },
    "papermill": {
     "duration": 0.069755,
     "end_time": "2020-10-10T10:04:54.831472",
     "exception": false,
     "start_time": "2020-10-10T10:04:54.761717",
     "status": "completed"
    },
    "tags": []
   },
   "outputs": [],
   "source": [
    "# layers for the Neural Network\n",
    "layers = [Affine(\"first\", 784, 100), Relu(\"first\"), Affine(\"second\", 100, 100), Relu(\"second\"), Affine(\"third\", 100, 2), Affine(\"final\", 2, 1), Sigmoid(\"final\")]\n",
    "model_nn = Model(layers)\n",
    "\n",
    "# layers for the Logistic Regression\n",
    "layers_lr = [Affine(\"logits\", 784, 1), Sigmoid(\"sigmoid\")]\n",
    "model_lr = Model(layers_lr)"
   ]
  },
  {
   "cell_type": "code",
   "execution_count": 19,
   "metadata": {
    "execution": {
     "iopub.execute_input": "2020-10-10T10:04:54.908631Z",
     "iopub.status.busy": "2020-10-10T10:04:54.907949Z",
     "iopub.status.idle": "2020-10-10T10:04:54.922104Z",
     "shell.execute_reply": "2020-10-10T10:04:54.921528Z"
    },
    "papermill": {
     "duration": 0.055085,
     "end_time": "2020-10-10T10:04:54.922260",
     "exception": false,
     "start_time": "2020-10-10T10:04:54.867175",
     "status": "completed"
    },
    "tags": []
   },
   "outputs": [],
   "source": [
    "# suffix _nn stands for Neural Network.\n",
    "learner_nn = Learner(loss, model_nn, opt, config.num_epochs)\n",
    "acc_nn = ClfCallback(learner_nn, config.bs, training_xdata , testing_xdata, training_ydata, testing_ydata)\n",
    "learner_nn.set_callbacks([acc_nn])"
   ]
  },
  {
   "cell_type": "code",
   "execution_count": 20,
   "metadata": {
    "execution": {
     "iopub.execute_input": "2020-10-10T10:04:54.994202Z",
     "iopub.status.busy": "2020-10-10T10:04:54.993502Z",
     "iopub.status.idle": "2020-10-10T10:07:19.845755Z",
     "shell.execute_reply": "2020-10-10T10:07:19.846621Z"
    },
    "papermill": {
     "duration": 144.8912,
     "end_time": "2020-10-10T10:07:19.846800",
     "exception": false,
     "start_time": "2020-10-10T10:04:54.955600",
     "status": "completed"
    },
    "tags": []
   },
   "outputs": [
    {
     "name": "stdout",
     "output_type": "stream",
     "text": [
      "====== Neural Network ======\n"
     ]
    },
    {
     "name": "stdout",
     "output_type": "stream",
     "text": [
      "Epoch 0, Loss 0.2389\n",
      "Training Accuracy: 0.7177, Testing Accuracy: 0.7248\n",
      "\n"
     ]
    },
    {
     "name": "stdout",
     "output_type": "stream",
     "text": [
      "Epoch 10, Loss 0.0915\n",
      "Training Accuracy: 0.9125, Testing Accuracy: 0.9284\n",
      "\n"
     ]
    },
    {
     "name": "stdout",
     "output_type": "stream",
     "text": [
      "Epoch 20, Loss 0.0562\n",
      "Training Accuracy: 0.9422, Testing Accuracy: 0.9526\n",
      "\n"
     ]
    },
    {
     "name": "stdout",
     "output_type": "stream",
     "text": [
      "Epoch 30, Loss 0.044\n",
      "Training Accuracy: 0.9518, Testing Accuracy: 0.9612\n",
      "\n"
     ]
    },
    {
     "name": "stdout",
     "output_type": "stream",
     "text": [
      "Epoch 40, Loss 0.0382\n",
      "Training Accuracy: 0.9569, Testing Accuracy: 0.9632\n",
      "\n"
     ]
    },
    {
     "name": "stdout",
     "output_type": "stream",
     "text": [
      "Epoch 50, Loss 0.0346\n",
      "Training Accuracy: 0.9606, Testing Accuracy: 0.9637\n",
      "\n"
     ]
    },
    {
     "name": "stdout",
     "output_type": "stream",
     "text": [
      "Epoch 60, Loss 0.0322\n",
      "Training Accuracy: 0.9624, Testing Accuracy: 0.9662\n",
      "\n"
     ]
    },
    {
     "name": "stdout",
     "output_type": "stream",
     "text": [
      "Epoch 70, Loss 0.0304\n",
      "Training Accuracy: 0.9639, Testing Accuracy: 0.9672\n",
      "\n"
     ]
    },
    {
     "name": "stdout",
     "output_type": "stream",
     "text": [
      "Epoch 80, Loss 0.029\n",
      "Training Accuracy: 0.9657, Testing Accuracy: 0.9682\n",
      "\n"
     ]
    },
    {
     "name": "stdout",
     "output_type": "stream",
     "text": [
      "Epoch 90, Loss 0.0278\n",
      "Training Accuracy: 0.9678, Testing Accuracy: 0.9693\n",
      "\n"
     ]
    },
    {
     "name": "stdout",
     "output_type": "stream",
     "text": [
      "Epoch 100, Loss 0.0268\n",
      "Training Accuracy: 0.9689, Testing Accuracy: 0.9693\n",
      "\n"
     ]
    },
    {
     "name": "stdout",
     "output_type": "stream",
     "text": [
      "Epoch 110, Loss 0.0259\n",
      "Training Accuracy: 0.9705, Testing Accuracy: 0.9708\n",
      "\n"
     ]
    },
    {
     "name": "stdout",
     "output_type": "stream",
     "text": [
      "Epoch 120, Loss 0.0251\n",
      "Training Accuracy: 0.9718, Testing Accuracy: 0.9718\n",
      "\n"
     ]
    },
    {
     "name": "stdout",
     "output_type": "stream",
     "text": [
      "Epoch 130, Loss 0.0244\n",
      "Training Accuracy: 0.9724, Testing Accuracy: 0.9713\n",
      "\n"
     ]
    },
    {
     "name": "stdout",
     "output_type": "stream",
     "text": [
      "Epoch 140, Loss 0.0238\n",
      "Training Accuracy: 0.9729, Testing Accuracy: 0.9718\n",
      "\n"
     ]
    },
    {
     "name": "stdout",
     "output_type": "stream",
     "text": [
      "Epoch 150, Loss 0.0232\n",
      "Training Accuracy: 0.9737, Testing Accuracy: 0.9718\n",
      "\n"
     ]
    },
    {
     "name": "stdout",
     "output_type": "stream",
     "text": [
      "Epoch 160, Loss 0.0226\n",
      "Training Accuracy: 0.9748, Testing Accuracy: 0.9713\n",
      "\n"
     ]
    },
    {
     "name": "stdout",
     "output_type": "stream",
     "text": [
      "Epoch 170, Loss 0.0221\n",
      "Training Accuracy: 0.9755, Testing Accuracy: 0.9708\n",
      "\n"
     ]
    },
    {
     "name": "stdout",
     "output_type": "stream",
     "text": [
      "Epoch 180, Loss 0.0216\n",
      "Training Accuracy: 0.9760, Testing Accuracy: 0.9713\n",
      "\n"
     ]
    },
    {
     "name": "stdout",
     "output_type": "stream",
     "text": [
      "Epoch 190, Loss 0.0211\n",
      "Training Accuracy: 0.9767, Testing Accuracy: 0.9718\n",
      "\n"
     ]
    },
    {
     "name": "stdout",
     "output_type": "stream",
     "text": [
      "Epoch 200, Loss 0.0207\n",
      "Training Accuracy: 0.9771, Testing Accuracy: 0.9723\n",
      "\n"
     ]
    },
    {
     "name": "stdout",
     "output_type": "stream",
     "text": [
      "Epoch 210, Loss 0.0202\n",
      "Training Accuracy: 0.9776, Testing Accuracy: 0.9723\n",
      "\n"
     ]
    },
    {
     "name": "stdout",
     "output_type": "stream",
     "text": [
      "Epoch 220, Loss 0.0198\n",
      "Training Accuracy: 0.9778, Testing Accuracy: 0.9723\n",
      "\n"
     ]
    },
    {
     "name": "stdout",
     "output_type": "stream",
     "text": [
      "Epoch 230, Loss 0.0194\n",
      "Training Accuracy: 0.9782, Testing Accuracy: 0.9728\n",
      "\n"
     ]
    },
    {
     "name": "stdout",
     "output_type": "stream",
     "text": [
      "Epoch 240, Loss 0.019\n",
      "Training Accuracy: 0.9786, Testing Accuracy: 0.9728\n",
      "\n"
     ]
    },
    {
     "name": "stdout",
     "output_type": "stream",
     "text": [
      "Epoch 250, Loss 0.0186\n",
      "Training Accuracy: 0.9791, Testing Accuracy: 0.9728\n",
      "\n"
     ]
    },
    {
     "data": {
      "text/plain": [
       "0.0119682051394358"
      ]
     },
     "execution_count": 20,
     "metadata": {},
     "output_type": "execute_result"
    }
   ],
   "source": [
    "print(\"====== Neural Network ======\")\n",
    "learner_nn.train_loop(dl)"
   ]
  },
  {
   "cell_type": "markdown",
   "metadata": {
    "papermill": {
     "duration": 0.042457,
     "end_time": "2020-10-10T10:07:19.932455",
     "exception": false,
     "start_time": "2020-10-10T10:07:19.889998",
     "status": "completed"
    },
    "tags": []
   },
   "source": [
    "### Logistic Regression based Implementation."
   ]
  },
  {
   "cell_type": "code",
   "execution_count": 21,
   "metadata": {
    "execution": {
     "iopub.execute_input": "2020-10-10T10:07:20.022943Z",
     "iopub.status.busy": "2020-10-10T10:07:20.022070Z",
     "iopub.status.idle": "2020-10-10T10:07:20.035415Z",
     "shell.execute_reply": "2020-10-10T10:07:20.034777Z"
    },
    "papermill": {
     "duration": 0.061004,
     "end_time": "2020-10-10T10:07:20.035554",
     "exception": false,
     "start_time": "2020-10-10T10:07:19.974550",
     "status": "completed"
    },
    "tags": []
   },
   "outputs": [],
   "source": [
    "learner_lr = Learner(loss, model_lr, opt, config.num_epochs)\n",
    "acc_lr = ClfCallback(learner_lr, config.bs, training_xdata , testing_xdata, training_ydata, testing_ydata)\n",
    "learner_lr.set_callbacks([acc_lr])"
   ]
  },
  {
   "cell_type": "code",
   "execution_count": 22,
   "metadata": {
    "execution": {
     "iopub.execute_input": "2020-10-10T10:07:20.148720Z",
     "iopub.status.busy": "2020-10-10T10:07:20.147538Z",
     "iopub.status.idle": "2020-10-10T10:07:40.664704Z",
     "shell.execute_reply": "2020-10-10T10:07:40.664144Z"
    },
    "papermill": {
     "duration": 20.58497,
     "end_time": "2020-10-10T10:07:40.664852",
     "exception": false,
     "start_time": "2020-10-10T10:07:20.079882",
     "status": "completed"
    },
    "tags": []
   },
   "outputs": [
    {
     "name": "stdout",
     "output_type": "stream",
     "text": [
      "====== Logistic Regression ======\n",
      "Epoch 0, Loss 0.22\n",
      "Training Accuracy: 0.7626, Testing Accuracy: 0.7676\n",
      "\n"
     ]
    },
    {
     "name": "stdout",
     "output_type": "stream",
     "text": [
      "Epoch 10, Loss 0.1011\n",
      "Training Accuracy: 0.9098, Testing Accuracy: 0.9219\n",
      "\n"
     ]
    },
    {
     "name": "stdout",
     "output_type": "stream",
     "text": [
      "Epoch 20, Loss 0.0783\n",
      "Training Accuracy: 0.9281, Testing Accuracy: 0.9370\n",
      "\n"
     ]
    },
    {
     "name": "stdout",
     "output_type": "stream",
     "text": [
      "Epoch 30, Loss 0.0676\n",
      "Training Accuracy: 0.9371, Testing Accuracy: 0.9461\n",
      "\n"
     ]
    },
    {
     "name": "stdout",
     "output_type": "stream",
     "text": [
      "Epoch 40, Loss 0.0611\n",
      "Training Accuracy: 0.9415, Testing Accuracy: 0.9511\n",
      "\n"
     ]
    },
    {
     "name": "stdout",
     "output_type": "stream",
     "text": [
      "Epoch 50, Loss 0.0567\n",
      "Training Accuracy: 0.9456, Testing Accuracy: 0.9526\n",
      "\n"
     ]
    },
    {
     "name": "stdout",
     "output_type": "stream",
     "text": [
      "Epoch 60, Loss 0.0534\n",
      "Training Accuracy: 0.9484, Testing Accuracy: 0.9561\n",
      "\n"
     ]
    },
    {
     "name": "stdout",
     "output_type": "stream",
     "text": [
      "Epoch 70, Loss 0.0509\n",
      "Training Accuracy: 0.9503, Testing Accuracy: 0.9587\n",
      "\n"
     ]
    },
    {
     "name": "stdout",
     "output_type": "stream",
     "text": [
      "Epoch 80, Loss 0.0489\n",
      "Training Accuracy: 0.9519, Testing Accuracy: 0.9607\n",
      "\n"
     ]
    },
    {
     "name": "stdout",
     "output_type": "stream",
     "text": [
      "Epoch 90, Loss 0.0472\n",
      "Training Accuracy: 0.9535, Testing Accuracy: 0.9622\n",
      "\n"
     ]
    },
    {
     "name": "stdout",
     "output_type": "stream",
     "text": [
      "Epoch 100, Loss 0.0458\n",
      "Training Accuracy: 0.9544, Testing Accuracy: 0.9637\n",
      "\n"
     ]
    },
    {
     "name": "stdout",
     "output_type": "stream",
     "text": [
      "Epoch 110, Loss 0.0447\n",
      "Training Accuracy: 0.9550, Testing Accuracy: 0.9637\n",
      "\n"
     ]
    },
    {
     "name": "stdout",
     "output_type": "stream",
     "text": [
      "Epoch 120, Loss 0.0436\n",
      "Training Accuracy: 0.9554, Testing Accuracy: 0.9637\n",
      "\n"
     ]
    },
    {
     "name": "stdout",
     "output_type": "stream",
     "text": [
      "Epoch 130, Loss 0.0427\n",
      "Training Accuracy: 0.9562, Testing Accuracy: 0.9632\n",
      "\n"
     ]
    },
    {
     "name": "stdout",
     "output_type": "stream",
     "text": [
      "Epoch 140, Loss 0.0419\n",
      "Training Accuracy: 0.9569, Testing Accuracy: 0.9642\n",
      "\n"
     ]
    },
    {
     "name": "stdout",
     "output_type": "stream",
     "text": [
      "Epoch 150, Loss 0.0411\n",
      "Training Accuracy: 0.9577, Testing Accuracy: 0.9642\n",
      "\n"
     ]
    },
    {
     "name": "stdout",
     "output_type": "stream",
     "text": [
      "Epoch 160, Loss 0.0405\n",
      "Training Accuracy: 0.9585, Testing Accuracy: 0.9642\n",
      "\n"
     ]
    },
    {
     "name": "stdout",
     "output_type": "stream",
     "text": [
      "Epoch 170, Loss 0.0399\n",
      "Training Accuracy: 0.9592, Testing Accuracy: 0.9642\n",
      "\n"
     ]
    },
    {
     "name": "stdout",
     "output_type": "stream",
     "text": [
      "Epoch 180, Loss 0.0393\n",
      "Training Accuracy: 0.9597, Testing Accuracy: 0.9637\n",
      "\n"
     ]
    },
    {
     "name": "stdout",
     "output_type": "stream",
     "text": [
      "Epoch 190, Loss 0.0388\n",
      "Training Accuracy: 0.9604, Testing Accuracy: 0.9637\n",
      "\n"
     ]
    },
    {
     "name": "stdout",
     "output_type": "stream",
     "text": [
      "Epoch 200, Loss 0.0383\n",
      "Training Accuracy: 0.9605, Testing Accuracy: 0.9642\n",
      "\n"
     ]
    },
    {
     "name": "stdout",
     "output_type": "stream",
     "text": [
      "Epoch 210, Loss 0.0379\n",
      "Training Accuracy: 0.9606, Testing Accuracy: 0.9642\n",
      "\n"
     ]
    },
    {
     "name": "stdout",
     "output_type": "stream",
     "text": [
      "Epoch 220, Loss 0.0375\n",
      "Training Accuracy: 0.9609, Testing Accuracy: 0.9647\n",
      "\n"
     ]
    },
    {
     "name": "stdout",
     "output_type": "stream",
     "text": [
      "Epoch 230, Loss 0.0371\n",
      "Training Accuracy: 0.9613, Testing Accuracy: 0.9647\n",
      "\n"
     ]
    },
    {
     "name": "stdout",
     "output_type": "stream",
     "text": [
      "Epoch 240, Loss 0.0368\n",
      "Training Accuracy: 0.9614, Testing Accuracy: 0.9647\n",
      "\n"
     ]
    },
    {
     "name": "stdout",
     "output_type": "stream",
     "text": [
      "Epoch 250, Loss 0.0364\n",
      "Training Accuracy: 0.9616, Testing Accuracy: 0.9647\n",
      "\n"
     ]
    },
    {
     "data": {
      "text/plain": [
       "0.016627514477172287"
      ]
     },
     "execution_count": 22,
     "metadata": {},
     "output_type": "execute_result"
    }
   ],
   "source": [
    "print(\"====== Logistic Regression ======\")\n",
    "learner_lr.train_loop(dl)"
   ]
  },
  {
   "cell_type": "markdown",
   "metadata": {
    "papermill": {
     "duration": 0.055411,
     "end_time": "2020-10-10T10:07:40.773423",
     "exception": false,
     "start_time": "2020-10-10T10:07:40.718012",
     "status": "completed"
    },
    "tags": []
   },
   "source": [
    "### Comparing results of NN and LR"
   ]
  },
  {
   "cell_type": "code",
   "execution_count": 23,
   "metadata": {
    "execution": {
     "iopub.execute_input": "2020-10-10T10:07:40.882220Z",
     "iopub.status.busy": "2020-10-10T10:07:40.881540Z",
     "iopub.status.idle": "2020-10-10T10:07:41.172774Z",
     "shell.execute_reply": "2020-10-10T10:07:41.172209Z"
    },
    "papermill": {
     "duration": 0.347064,
     "end_time": "2020-10-10T10:07:41.172929",
     "exception": false,
     "start_time": "2020-10-10T10:07:40.825865",
     "status": "completed"
    },
    "tags": []
   },
   "outputs": [
    {
     "data": {
      "text/plain": [
       "<matplotlib.legend.Legend at 0x7f82498a80f0>"
      ]
     },
     "execution_count": 23,
     "metadata": {},
     "output_type": "execute_result"
    },
    {
     "data": {
      "image/png": "[encoded data removed]",
      "text/plain": [
       "<Figure size 1080x720 with 1 Axes>"
      ]
     },
     "metadata": {
      "needs_background": "light"
     },
     "output_type": "display_data"
    }
   ],
   "source": [
    "plt.figure(figsize=(15,10))\n",
    "\n",
    "# Neural Network plots\n",
    "plt.plot(acc_nn.accuracies, 'r-', label = \"Training Accuracies - NN\")\n",
    "plt.plot(acc_nn.test_accuracies, 'g-', label = \"Testing Accuracies - NN\")\n",
    "\n",
    "# Logistic Regression plots\n",
    "plt.plot(acc_lr.accuracies, 'k-', label = \"Training Accuracies - LR\")\n",
    "plt.plot(acc_lr.test_accuracies, 'b-', label = \"Testing Accuracies - LR\")\n",
    "\n",
    "plt.ylim(0.8, 1)\n",
    "\n",
    "plt.legend()\n",
    "\n"
   ]
  },
  {
   "cell_type": "markdown",
   "metadata": {
    "papermill": {
     "duration": 0.054186,
     "end_time": "2020-10-10T10:07:41.284747",
     "exception": false,
     "start_time": "2020-10-10T10:07:41.230561",
     "status": "completed"
    },
    "tags": []
   },
   "source": [
    "### From the plot, we can observe the following:\n",
    "- Neural Network achieves higher accuracy than the Logistic Regression model.\n",
    "- This apparently, is because of overfitting, i.e. NN captures more noise than data.\n",
    "- Testing accuracy of NN drops below the Training accuracy at higher epochs. This explains the over-fitting on training data.\n",
    "- Logistic Regression gives a reliable accuracy, without the above mentioned problem.\n"
   ]
  },
  {
   "cell_type": "markdown",
   "metadata": {
    "papermill": {
     "duration": 0.054351,
     "end_time": "2020-10-10T10:07:41.392923",
     "exception": false,
     "start_time": "2020-10-10T10:07:41.338572",
     "status": "completed"
    },
    "tags": []
   },
   "source": [
    "### Moving till the last but one layer (excluding it).\n",
    "#### Plotting the outputs of this layer of the NN."
   ]
  },
  {
   "cell_type": "code",
   "execution_count": 24,
   "metadata": {
    "execution": {
     "iopub.execute_input": "2020-10-10T10:07:41.509544Z",
     "iopub.status.busy": "2020-10-10T10:07:41.507008Z",
     "iopub.status.idle": "2020-10-10T10:07:41.521118Z",
     "shell.execute_reply": "2020-10-10T10:07:41.521691Z"
    },
    "papermill": {
     "duration": 0.074181,
     "end_time": "2020-10-10T10:07:41.521905",
     "exception": false,
     "start_time": "2020-10-10T10:07:41.447724",
     "status": "completed"
    },
    "tags": []
   },
   "outputs": [],
   "source": [
    "model_new = Model(layers[:-2])"
   ]
  },
  {
   "cell_type": "code",
   "execution_count": 25,
   "metadata": {
    "execution": {
     "iopub.execute_input": "2020-10-10T10:07:41.644105Z",
     "iopub.status.busy": "2020-10-10T10:07:41.641953Z",
     "iopub.status.idle": "2020-10-10T10:07:41.669811Z",
     "shell.execute_reply": "2020-10-10T10:07:41.670670Z"
    },
    "papermill": {
     "duration": 0.092997,
     "end_time": "2020-10-10T10:07:41.670856",
     "exception": false,
     "start_time": "2020-10-10T10:07:41.577859",
     "status": "completed"
    },
    "tags": []
   },
   "outputs": [],
   "source": [
    "plot_testing = model_new(testing_xdata)"
   ]
  },
  {
   "cell_type": "code",
   "execution_count": 26,
   "metadata": {
    "execution": {
     "iopub.execute_input": "2020-10-10T10:07:41.784060Z",
     "iopub.status.busy": "2020-10-10T10:07:41.783386Z",
     "iopub.status.idle": "2020-10-10T10:07:42.030223Z",
     "shell.execute_reply": "2020-10-10T10:07:42.030735Z"
    },
    "papermill": {
     "duration": 0.307087,
     "end_time": "2020-10-10T10:07:42.030914",
     "exception": false,
     "start_time": "2020-10-10T10:07:41.723827",
     "status": "completed"
    },
    "tags": []
   },
   "outputs": [
    {
     "data": {
      "text/plain": [
       "Text(0.5, 1.0, 'Outputs')"
      ]
     },
     "execution_count": 26,
     "metadata": {},
     "output_type": "execute_result"
    },
    {
     "data": {
      "image/png": "[encoded data removed]",
      "text/plain": [
       "<Figure size 576x504 with 1 Axes>"
      ]
     },
     "metadata": {
      "needs_background": "light"
     },
     "output_type": "display_data"
    }
   ],
   "source": [
    "plt.figure(figsize=(8,7))\n",
    "plt.scatter(plot_testing[:,0], plot_testing[:,1], alpha = 0.1, c = y_test.ravel());\n",
    "plt.title('Outputs')"
   ]
  },
  {
   "cell_type": "markdown",
   "metadata": {
    "papermill": {
     "duration": 0.058143,
     "end_time": "2020-10-10T10:07:42.163716",
     "exception": false,
     "start_time": "2020-10-10T10:07:42.105573",
     "status": "completed"
    },
    "tags": []
   },
   "source": [
    "### Plotting probability contours"
   ]
  },
  {
   "cell_type": "code",
   "execution_count": 27,
   "metadata": {
    "execution": {
     "iopub.execute_input": "2020-10-10T10:07:42.285490Z",
     "iopub.status.busy": "2020-10-10T10:07:42.284039Z",
     "iopub.status.idle": "2020-10-10T10:07:42.296634Z",
     "shell.execute_reply": "2020-10-10T10:07:42.296090Z"
    },
    "papermill": {
     "duration": 0.076345,
     "end_time": "2020-10-10T10:07:42.296772",
     "exception": false,
     "start_time": "2020-10-10T10:07:42.220427",
     "status": "completed"
    },
    "tags": []
   },
   "outputs": [],
   "source": [
    "model_prob = Model(layers[-2:]) "
   ]
  },
  {
   "cell_type": "code",
   "execution_count": 28,
   "metadata": {
    "execution": {
     "iopub.execute_input": "2020-10-10T10:07:42.425623Z",
     "iopub.status.busy": "2020-10-10T10:07:42.424858Z",
     "iopub.status.idle": "2020-10-10T10:07:42.440418Z",
     "shell.execute_reply": "2020-10-10T10:07:42.440939Z"
    },
    "papermill": {
     "duration": 0.088379,
     "end_time": "2020-10-10T10:07:42.441121",
     "exception": false,
     "start_time": "2020-10-10T10:07:42.352742",
     "status": "completed"
    },
    "tags": []
   },
   "outputs": [],
   "source": [
    "# Adjust the x and y ranges according to the above generated plot.\n",
    "x_range = np.linspace(-4, 1, 100) \n",
    "y_range = np.linspace(-6, 6, 100) \n",
    "x_grid, y_grid = np.meshgrid(x_range, y_range) # x_grid and y_grig are of size 100 X 100\n",
    "\n",
    "# converting x_grid and y_grid to continuous arrays\n",
    "x_grid_flat = np.ravel(x_grid)\n",
    "y_grid_flat = np.ravel(y_grid)\n",
    "\n",
    "# The last layer of the current model takes two columns as input. Hence transpose of np.vstack() is required.\n",
    "X = np.vstack((x_grid_flat, y_grid_flat)).T\n",
    "\n",
    "# x_grid and y_grid are of size 100 x 100\n",
    "probability_contour = model_prob(X).reshape(100,100) "
   ]
  },
  {
   "cell_type": "code",
   "execution_count": 29,
   "metadata": {
    "execution": {
     "iopub.execute_input": "2020-10-10T10:07:42.558058Z",
     "iopub.status.busy": "2020-10-10T10:07:42.557378Z",
     "iopub.status.idle": "2020-10-10T10:07:42.864710Z",
     "shell.execute_reply": "2020-10-10T10:07:42.864025Z"
    },
    "papermill": {
     "duration": 0.367795,
     "end_time": "2020-10-10T10:07:42.864869",
     "exception": false,
     "start_time": "2020-10-10T10:07:42.497074",
     "status": "completed"
    },
    "tags": []
   },
   "outputs": [
    {
     "data": {
      "image/png": "[encoded data removed]",
      "text/plain": [
       "<Figure size 720x648 with 1 Axes>"
      ]
     },
     "metadata": {
      "needs_background": "light"
     },
     "output_type": "display_data"
    }
   ],
   "source": [
    "plt.figure(figsize=(10,9))\n",
    "plt.scatter(plot_testing[:,0], plot_testing[:,1], alpha = 0.1, c = y_test.ravel())\n",
    "contours = plt.contour(x_grid,y_grid,probability_contour)\n",
    "plt.title('Probability Contours')\n",
    "plt.clabel(contours, inline = True );"
   ]
  }
 ],
 "metadata": {
  "kernelspec": {
   "display_name": "Python 3",
   "language": "python",
   "name": "python3"
  },
  "language_info": {
   "codemirror_mode": {
    "name": "ipython",
    "version": 3
   },
   "file_extension": ".py",
   "mimetype": "text/x-python",
   "name": "python",
   "nbconvert_exporter": "python",
   "pygments_lexer": "ipython3",
   "version": "3.6.12"
  },
  "papermill": {
   "duration": 177.058039,
   "end_time": "2020-10-10T10:07:43.350053",
   "environment_variables": {},
   "exception": null,
   "input_path": "2020-08-11-NeuralNetwork.ipynb",
   "output_path": "2020-08-11-NeuralNetwork.ipynb",
   "parameters": {},
   "start_time": "2020-10-10T10:04:46.292014",
   "version": "2.1.2"
  }
 },
 "nbformat": 4,
 "nbformat_minor": 4
}