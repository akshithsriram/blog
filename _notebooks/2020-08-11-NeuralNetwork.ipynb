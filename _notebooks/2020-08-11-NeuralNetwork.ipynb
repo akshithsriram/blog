{
 "cells": [
  {
   "cell_type": "markdown",
   "metadata": {
    "papermill": {
     "duration": 0.023011,
     "end_time": "2021-01-18T20:29:06.357401",
     "exception": false,
     "start_time": "2021-01-18T20:29:06.334390",
     "status": "completed"
    },
    "tags": []
   },
   "source": [
    "# \"A Basic Neural Network: Differentiate Hand-Written Digits\"\n",
    "\n",
    "- badges: true\n",
    "- author: Akshith Sriram"
   ]
  },
  {
   "cell_type": "markdown",
   "metadata": {
    "papermill": {
     "duration": 0.020673,
     "end_time": "2021-01-18T20:29:06.398230",
     "exception": false,
     "start_time": "2021-01-18T20:29:06.377557",
     "status": "completed"
    },
    "tags": []
   },
   "source": [
    "### Key Objectives:\n",
    "- Building a neural network that differentiates two hand-written digits 3 and 8.\n",
    "- Comparing the results of this Neural Network (NN) to that of a Logistic Regression (LR) model.\n",
    "\n",
    "### Requirements:\n",
    "- 'Kudzu' : A neural network library that was designed during our course by [Univ.AI](www.univ.ai). \n",
    "- MNIST Database\n",
    "\n",
    "If MNIST is not installed, use the command `!pip install mnist` given below.\n",
    "It can be run both from the command line and Jupyter Notebook."
   ]
  },
  {
   "cell_type": "code",
   "execution_count": 1,
   "metadata": {
    "execution": {
     "iopub.execute_input": "2021-01-18T20:29:06.445469Z",
     "iopub.status.busy": "2021-01-18T20:29:06.445003Z",
     "iopub.status.idle": "2021-01-18T20:29:07.616071Z",
     "shell.execute_reply": "2021-01-18T20:29:07.616554Z"
    },
    "papermill": {
     "duration": 1.199021,
     "end_time": "2021-01-18T20:29:07.616732",
     "exception": false,
     "start_time": "2021-01-18T20:29:06.417711",
     "status": "completed"
    },
    "tags": []
   },
   "outputs": [
    {
     "name": "stdout",
     "output_type": "stream",
     "text": [
      "Collecting mnist\r\n",
      "  Downloading mnist-0.2.2-py2.py3-none-any.whl (3.5 kB)\r\n"
     ]
    },
    {
     "name": "stdout",
     "output_type": "stream",
     "text": [
      "Requirement already satisfied: numpy in /opt/hostedtoolcache/Python/3.6.12/x64/lib/python3.6/site-packages (from mnist) (1.19.5)\r\n"
     ]
    },
    {
     "name": "stdout",
     "output_type": "stream",
     "text": [
      "Installing collected packages: mnist\r\n"
     ]
    },
    {
     "name": "stdout",
     "output_type": "stream",
     "text": [
      "Successfully installed mnist-0.2.2\r\n"
     ]
    }
   ],
   "source": [
    "!pip install mnist "
   ]
  },
  {
   "cell_type": "markdown",
   "metadata": {
    "papermill": {
     "duration": 0.02046,
     "end_time": "2021-01-18T20:29:07.659336",
     "exception": false,
     "start_time": "2021-01-18T20:29:07.638876",
     "status": "completed"
    },
    "tags": []
   },
   "source": [
    "#### Importing necessary libraries"
   ]
  },
  {
   "cell_type": "code",
   "execution_count": 2,
   "metadata": {
    "execution": {
     "iopub.execute_input": "2021-01-18T20:29:07.706676Z",
     "iopub.status.busy": "2021-01-18T20:29:07.706220Z",
     "iopub.status.idle": "2021-01-18T20:29:08.149489Z",
     "shell.execute_reply": "2021-01-18T20:29:08.150001Z"
    },
    "papermill": {
     "duration": 0.470512,
     "end_time": "2021-01-18T20:29:08.150162",
     "exception": false,
     "start_time": "2021-01-18T20:29:07.679650",
     "status": "completed"
    },
    "tags": []
   },
   "outputs": [],
   "source": [
    "%load_ext autoreload\n",
    "%autoreload 2\n",
    "\n",
    "%matplotlib inline\n",
    "import matplotlib.pyplot as plt\n",
    "\n",
    "import numpy as np\n",
    "import pandas as pd"
   ]
  },
  {
   "cell_type": "markdown",
   "metadata": {
    "papermill": {
     "duration": 0.02088,
     "end_time": "2021-01-18T20:29:08.191872",
     "exception": false,
     "start_time": "2021-01-18T20:29:08.170992",
     "status": "completed"
    },
    "tags": []
   },
   "source": [
    "### Preparing the Data"
   ]
  },
  {
   "cell_type": "code",
   "execution_count": 3,
   "metadata": {
    "execution": {
     "iopub.execute_input": "2021-01-18T20:29:08.236176Z",
     "iopub.status.busy": "2021-01-18T20:29:08.235727Z",
     "iopub.status.idle": "2021-01-18T20:29:08.246540Z",
     "shell.execute_reply": "2021-01-18T20:29:08.246179Z"
    },
    "papermill": {
     "duration": 0.03434,
     "end_time": "2021-01-18T20:29:08.246639",
     "exception": false,
     "start_time": "2021-01-18T20:29:08.212299",
     "status": "completed"
    },
    "tags": []
   },
   "outputs": [],
   "source": [
    "import mnist"
   ]
  },
  {
   "cell_type": "code",
   "execution_count": 4,
   "metadata": {
    "execution": {
     "iopub.execute_input": "2021-01-18T20:29:08.291052Z",
     "iopub.status.busy": "2021-01-18T20:29:08.290610Z",
     "iopub.status.idle": "2021-01-18T20:29:08.985781Z",
     "shell.execute_reply": "2021-01-18T20:29:08.985275Z"
    },
    "papermill": {
     "duration": 0.719073,
     "end_time": "2021-01-18T20:29:08.985914",
     "exception": false,
     "start_time": "2021-01-18T20:29:08.266841",
     "status": "completed"
    },
    "tags": []
   },
   "outputs": [],
   "source": [
    "train_images = mnist.train_images()\n",
    "train_labels = mnist.train_labels()"
   ]
  },
  {
   "cell_type": "code",
   "execution_count": 5,
   "metadata": {
    "execution": {
     "iopub.execute_input": "2021-01-18T20:29:09.030967Z",
     "iopub.status.busy": "2021-01-18T20:29:09.030510Z",
     "iopub.status.idle": "2021-01-18T20:29:09.043494Z",
     "shell.execute_reply": "2021-01-18T20:29:09.043103Z"
    },
    "papermill": {
     "duration": 0.03633,
     "end_time": "2021-01-18T20:29:09.043600",
     "exception": false,
     "start_time": "2021-01-18T20:29:09.007270",
     "status": "completed"
    },
    "tags": []
   },
   "outputs": [
    {
     "data": {
      "text/plain": [
       "((60000, 28, 28), (60000,))"
      ]
     },
     "execution_count": 5,
     "metadata": {},
     "output_type": "execute_result"
    }
   ],
   "source": [
    "train_images.shape, train_labels.shape"
   ]
  },
  {
   "cell_type": "code",
   "execution_count": 6,
   "metadata": {
    "execution": {
     "iopub.execute_input": "2021-01-18T20:29:09.099310Z",
     "iopub.status.busy": "2021-01-18T20:29:09.094334Z",
     "iopub.status.idle": "2021-01-18T20:29:09.688028Z",
     "shell.execute_reply": "2021-01-18T20:29:09.687456Z"
    },
    "papermill": {
     "duration": 0.623696,
     "end_time": "2021-01-18T20:29:09.688186",
     "exception": false,
     "start_time": "2021-01-18T20:29:09.064490",
     "status": "completed"
    },
    "tags": []
   },
   "outputs": [],
   "source": [
    "test_images = mnist.test_images()\n",
    "test_labels = mnist.test_labels()"
   ]
  },
  {
   "cell_type": "code",
   "execution_count": 7,
   "metadata": {
    "execution": {
     "iopub.execute_input": "2021-01-18T20:29:09.737179Z",
     "iopub.status.busy": "2021-01-18T20:29:09.736721Z",
     "iopub.status.idle": "2021-01-18T20:29:09.747088Z",
     "shell.execute_reply": "2021-01-18T20:29:09.747514Z"
    },
    "papermill": {
     "duration": 0.037529,
     "end_time": "2021-01-18T20:29:09.747629",
     "exception": false,
     "start_time": "2021-01-18T20:29:09.710100",
     "status": "completed"
    },
    "tags": []
   },
   "outputs": [
    {
     "data": {
      "text/plain": [
       "((10000, 28, 28), (10000,))"
      ]
     },
     "execution_count": 7,
     "metadata": {},
     "output_type": "execute_result"
    }
   ],
   "source": [
    "test_images.shape, test_labels.shape"
   ]
  },
  {
   "cell_type": "code",
   "execution_count": 8,
   "metadata": {
    "execution": {
     "iopub.execute_input": "2021-01-18T20:29:09.817110Z",
     "iopub.status.busy": "2021-01-18T20:29:09.801454Z",
     "iopub.status.idle": "2021-01-18T20:29:09.923048Z",
     "shell.execute_reply": "2021-01-18T20:29:09.922604Z"
    },
    "papermill": {
     "duration": 0.154733,
     "end_time": "2021-01-18T20:29:09.923170",
     "exception": false,
     "start_time": "2021-01-18T20:29:09.768437",
     "status": "completed"
    },
    "tags": []
   },
   "outputs": [
    {
     "name": "stdout",
     "output_type": "stream",
     "text": [
      "2\n"
     ]
    },
    {
     "data": {
      "text/plain": [
       "<matplotlib.image.AxesImage at 0x7f5285ea9c88>"
      ]
     },
     "execution_count": 8,
     "metadata": {},
     "output_type": "execute_result"
    },
    {
     "data": {
      "image/png": "[encoded data removed]",
      "text/plain": [
       "<Figure size 432x288 with 1 Axes>"
      ]
     },
     "metadata": {
      "needs_background": "light"
     },
     "output_type": "display_data"
    }
   ],
   "source": [
    "image_index = 7776 # You may select anything up to 60,000\n",
    "print(train_labels[image_index]) \n",
    "plt.imshow(train_images[image_index], cmap='Greys')"
   ]
  },
  {
   "cell_type": "markdown",
   "metadata": {
    "papermill": {
     "duration": 0.025357,
     "end_time": "2021-01-18T20:29:09.973638",
     "exception": false,
     "start_time": "2021-01-18T20:29:09.948281",
     "status": "completed"
    },
    "tags": []
   },
   "source": [
    "## Filter data to get 3 and 8 out"
   ]
  },
  {
   "cell_type": "code",
   "execution_count": 9,
   "metadata": {
    "execution": {
     "iopub.execute_input": "2021-01-18T20:29:10.033438Z",
     "iopub.status.busy": "2021-01-18T20:29:10.032890Z",
     "iopub.status.idle": "2021-01-18T20:29:10.044910Z",
     "shell.execute_reply": "2021-01-18T20:29:10.045319Z"
    },
    "papermill": {
     "duration": 0.046968,
     "end_time": "2021-01-18T20:29:10.045456",
     "exception": false,
     "start_time": "2021-01-18T20:29:09.998488",
     "status": "completed"
    },
    "tags": []
   },
   "outputs": [],
   "source": [
    "train_filter = np.where((train_labels == 3 ) | (train_labels == 8))\n",
    "test_filter = np.where((test_labels == 3) | (test_labels == 8))\n",
    "X_train, y_train = train_images[train_filter], train_labels[train_filter]\n",
    "X_test, y_test = test_images[test_filter], test_labels[test_filter]"
   ]
  },
  {
   "cell_type": "markdown",
   "metadata": {
    "papermill": {
     "duration": 0.025299,
     "end_time": "2021-01-18T20:29:10.095767",
     "exception": false,
     "start_time": "2021-01-18T20:29:10.070468",
     "status": "completed"
    },
    "tags": []
   },
   "source": [
    "We normalize the pixel values in the 0 to 1 range"
   ]
  },
  {
   "cell_type": "code",
   "execution_count": 10,
   "metadata": {
    "execution": {
     "iopub.execute_input": "2021-01-18T20:29:10.154342Z",
     "iopub.status.busy": "2021-01-18T20:29:10.148544Z",
     "iopub.status.idle": "2021-01-18T20:29:10.190399Z",
     "shell.execute_reply": "2021-01-18T20:29:10.189898Z"
    },
    "papermill": {
     "duration": 0.070009,
     "end_time": "2021-01-18T20:29:10.190541",
     "exception": false,
     "start_time": "2021-01-18T20:29:10.120532",
     "status": "completed"
    },
    "tags": []
   },
   "outputs": [],
   "source": [
    "X_train = X_train/255.\n",
    "X_test = X_test/255."
   ]
  },
  {
   "cell_type": "markdown",
   "metadata": {
    "papermill": {
     "duration": 0.024791,
     "end_time": "2021-01-18T20:29:10.241580",
     "exception": false,
     "start_time": "2021-01-18T20:29:10.216789",
     "status": "completed"
    },
    "tags": []
   },
   "source": [
    "Setup the labels as 1 (when the digit is 3) and 0 (when the digit is 8)"
   ]
  },
  {
   "cell_type": "code",
   "execution_count": 11,
   "metadata": {
    "execution": {
     "iopub.execute_input": "2021-01-18T20:29:10.305341Z",
     "iopub.status.busy": "2021-01-18T20:29:10.300040Z",
     "iopub.status.idle": "2021-01-18T20:29:10.307547Z",
     "shell.execute_reply": "2021-01-18T20:29:10.307111Z"
    },
    "papermill": {
     "duration": 0.041254,
     "end_time": "2021-01-18T20:29:10.307661",
     "exception": false,
     "start_time": "2021-01-18T20:29:10.266407",
     "status": "completed"
    },
    "tags": []
   },
   "outputs": [],
   "source": [
    "y_train = 1*(y_train==3)\n",
    "y_test = 1*(y_test==3)"
   ]
  },
  {
   "cell_type": "code",
   "execution_count": 12,
   "metadata": {
    "execution": {
     "iopub.execute_input": "2021-01-18T20:29:10.363643Z",
     "iopub.status.busy": "2021-01-18T20:29:10.363150Z",
     "iopub.status.idle": "2021-01-18T20:29:10.371783Z",
     "shell.execute_reply": "2021-01-18T20:29:10.372163Z"
    },
    "papermill": {
     "duration": 0.039808,
     "end_time": "2021-01-18T20:29:10.372290",
     "exception": false,
     "start_time": "2021-01-18T20:29:10.332482",
     "status": "completed"
    },
    "tags": []
   },
   "outputs": [
    {
     "data": {
      "text/plain": [
       "((11982, 28, 28), (1984, 28, 28))"
      ]
     },
     "execution_count": 12,
     "metadata": {},
     "output_type": "execute_result"
    }
   ],
   "source": [
    "X_train.shape, X_test.shape"
   ]
  },
  {
   "cell_type": "markdown",
   "metadata": {
    "papermill": {
     "duration": 0.025014,
     "end_time": "2021-01-18T20:29:10.422145",
     "exception": false,
     "start_time": "2021-01-18T20:29:10.397131",
     "status": "completed"
    },
    "tags": []
   },
   "source": [
    "### Reshape the input data to create a linear array"
   ]
  },
  {
   "cell_type": "code",
   "execution_count": 13,
   "metadata": {
    "execution": {
     "iopub.execute_input": "2021-01-18T20:29:10.478664Z",
     "iopub.status.busy": "2021-01-18T20:29:10.478164Z",
     "iopub.status.idle": "2021-01-18T20:29:10.488617Z",
     "shell.execute_reply": "2021-01-18T20:29:10.488217Z"
    },
    "papermill": {
     "duration": 0.041524,
     "end_time": "2021-01-18T20:29:10.488725",
     "exception": false,
     "start_time": "2021-01-18T20:29:10.447201",
     "status": "completed"
    },
    "tags": []
   },
   "outputs": [
    {
     "data": {
      "text/plain": [
       "((11982, 784), (1984, 784))"
      ]
     },
     "execution_count": 13,
     "metadata": {},
     "output_type": "execute_result"
    }
   ],
   "source": [
    "X_train = X_train.reshape(X_train.shape[0], -1)\n",
    "X_test = X_test.reshape(X_test.shape[0], -1)\n",
    "X_train.shape, X_test.shape"
   ]
  },
  {
   "cell_type": "markdown",
   "metadata": {
    "papermill": {
     "duration": 0.025204,
     "end_time": "2021-01-18T20:29:10.539010",
     "exception": false,
     "start_time": "2021-01-18T20:29:10.513806",
     "status": "completed"
    },
    "tags": []
   },
   "source": [
    "### Importing appropriate functions from 'Kudzu'"
   ]
  },
  {
   "cell_type": "code",
   "execution_count": 14,
   "metadata": {
    "execution": {
     "iopub.execute_input": "2021-01-18T20:29:10.593021Z",
     "iopub.status.busy": "2021-01-18T20:29:10.592524Z",
     "iopub.status.idle": "2021-01-18T20:29:10.608051Z",
     "shell.execute_reply": "2021-01-18T20:29:10.608432Z"
    },
    "papermill": {
     "duration": 0.04437,
     "end_time": "2021-01-18T20:29:10.608553",
     "exception": false,
     "start_time": "2021-01-18T20:29:10.564183",
     "status": "completed"
    },
    "tags": []
   },
   "outputs": [],
   "source": [
    "from kudzu.layer import Sigmoid\n",
    "from kudzu.layer import Relu\n",
    "from kudzu.layer import Affine, Sigmoid\n",
    "\n",
    "from kudzu.model import Model\n",
    "from kudzu.train import Learner\n",
    "from kudzu.optim import GD\n",
    "from kudzu.data import Data, Dataloader, Sampler\n",
    "\n",
    "from kudzu.callbacks import AccCallback\n",
    "from kudzu.callbacks import ClfCallback\n",
    "\n",
    "from kudzu.loss import MSE"
   ]
  },
  {
   "cell_type": "markdown",
   "metadata": {
    "papermill": {
     "duration": 0.025138,
     "end_time": "2021-01-18T20:29:10.658744",
     "exception": false,
     "start_time": "2021-01-18T20:29:10.633606",
     "status": "completed"
    },
    "tags": []
   },
   "source": [
    "### Let us create a `Config` class, to store important parameters. \n",
    "This class essentially plays the role of a dictionary."
   ]
  },
  {
   "cell_type": "code",
   "execution_count": 15,
   "metadata": {
    "execution": {
     "iopub.execute_input": "2021-01-18T20:29:10.712469Z",
     "iopub.status.busy": "2021-01-18T20:29:10.711971Z",
     "iopub.status.idle": "2021-01-18T20:29:10.723292Z",
     "shell.execute_reply": "2021-01-18T20:29:10.723699Z"
    },
    "papermill": {
     "duration": 0.039827,
     "end_time": "2021-01-18T20:29:10.723818",
     "exception": false,
     "start_time": "2021-01-18T20:29:10.683991",
     "status": "completed"
    },
    "tags": []
   },
   "outputs": [],
   "source": [
    "class Config:\n",
    "    pass\n",
    "config = Config()\n",
    "config.lr = 0.001\n",
    "config.num_epochs = 251\n",
    "config.bs = 50"
   ]
  },
  {
   "cell_type": "markdown",
   "metadata": {
    "papermill": {
     "duration": 0.025159,
     "end_time": "2021-01-18T20:29:10.774342",
     "exception": false,
     "start_time": "2021-01-18T20:29:10.749183",
     "status": "completed"
    },
    "tags": []
   },
   "source": [
    "### Initializing data to the variables"
   ]
  },
  {
   "cell_type": "code",
   "execution_count": 16,
   "metadata": {
    "execution": {
     "iopub.execute_input": "2021-01-18T20:29:10.835921Z",
     "iopub.status.busy": "2021-01-18T20:29:10.835340Z",
     "iopub.status.idle": "2021-01-18T20:29:10.842857Z",
     "shell.execute_reply": "2021-01-18T20:29:10.842477Z"
    },
    "papermill": {
     "duration": 0.043247,
     "end_time": "2021-01-18T20:29:10.842952",
     "exception": false,
     "start_time": "2021-01-18T20:29:10.799705",
     "status": "completed"
    },
    "tags": []
   },
   "outputs": [],
   "source": [
    "data = Data(X_train, y_train.reshape(-1,1))\n",
    "sampler = Sampler(data, config.bs, shuffle=True)\n",
    "\n",
    "dl = Dataloader(data, sampler)\n",
    "\n",
    "opt = GD(config.lr)\n",
    "loss = MSE()"
   ]
  },
  {
   "cell_type": "code",
   "execution_count": 17,
   "metadata": {
    "execution": {
     "iopub.execute_input": "2021-01-18T20:29:10.894681Z",
     "iopub.status.busy": "2021-01-18T20:29:10.894240Z",
     "iopub.status.idle": "2021-01-18T20:29:10.902718Z",
     "shell.execute_reply": "2021-01-18T20:29:10.902342Z"
    },
    "papermill": {
     "duration": 0.037774,
     "end_time": "2021-01-18T20:29:10.902809",
     "exception": false,
     "start_time": "2021-01-18T20:29:10.865035",
     "status": "completed"
    },
    "tags": []
   },
   "outputs": [],
   "source": [
    "training_xdata = X_train\n",
    "testing_xdata = X_test\n",
    "training_ydata = y_train.reshape(-1,1)\n",
    "testing_ydata = y_test.reshape(-1,1)"
   ]
  },
  {
   "cell_type": "markdown",
   "metadata": {
    "papermill": {
     "duration": 0.022259,
     "end_time": "2021-01-18T20:29:10.947398",
     "exception": false,
     "start_time": "2021-01-18T20:29:10.925139",
     "status": "completed"
    },
    "tags": []
   },
   "source": [
    "### Running Models with the Training data\n",
    "Details about the network layers:\n",
    "- A first affine layer has 784 inputs and does 100 affine transforms. These are followed by a Relu\n",
    "- A second affine layer has 100 inputs from the 100 activations of the past layer, and does 100 affine transforms. These are followed by a Relu\n",
    "- A third affine layer has 100 activations and does 2 affine transformations to create an embedding for visualization. There is no non-linearity here.\n",
    "- A final \"logistic regression\" which has an affine transform from 2 inputs to 1 output, which is squeezed through a sigmoid.\n",
    "\n",
    "Help taken from Anshuman's Notebook."
   ]
  },
  {
   "cell_type": "code",
   "execution_count": 18,
   "metadata": {
    "execution": {
     "iopub.execute_input": "2021-01-18T20:29:10.997268Z",
     "iopub.status.busy": "2021-01-18T20:29:10.996815Z",
     "iopub.status.idle": "2021-01-18T20:29:11.011409Z",
     "shell.execute_reply": "2021-01-18T20:29:11.011029Z"
    },
    "papermill": {
     "duration": 0.041818,
     "end_time": "2021-01-18T20:29:11.011504",
     "exception": false,
     "start_time": "2021-01-18T20:29:10.969686",
     "status": "completed"
    },
    "tags": []
   },
   "outputs": [],
   "source": [
    "# layers for the Neural Network\n",
    "layers = [Affine(\"first\", 784, 100), Relu(\"first\"), Affine(\"second\", 100, 100), Relu(\"second\"), Affine(\"third\", 100, 2), Affine(\"final\", 2, 1), Sigmoid(\"final\")]\n",
    "model_nn = Model(layers)\n",
    "\n",
    "# layers for the Logistic Regression\n",
    "layers_lr = [Affine(\"logits\", 784, 1), Sigmoid(\"sigmoid\")]\n",
    "model_lr = Model(layers_lr)"
   ]
  },
  {
   "cell_type": "code",
   "execution_count": 19,
   "metadata": {
    "execution": {
     "iopub.execute_input": "2021-01-18T20:29:11.059686Z",
     "iopub.status.busy": "2021-01-18T20:29:11.059243Z",
     "iopub.status.idle": "2021-01-18T20:29:11.070163Z",
     "shell.execute_reply": "2021-01-18T20:29:11.069800Z"
    },
    "papermill": {
     "duration": 0.036405,
     "end_time": "2021-01-18T20:29:11.070261",
     "exception": false,
     "start_time": "2021-01-18T20:29:11.033856",
     "status": "completed"
    },
    "tags": []
   },
   "outputs": [],
   "source": [
    "# suffix _nn stands for Neural Network.\n",
    "learner_nn = Learner(loss, model_nn, opt, config.num_epochs)\n",
    "acc_nn = ClfCallback(learner_nn, config.bs, training_xdata , testing_xdata, training_ydata, testing_ydata)\n",
    "learner_nn.set_callbacks([acc_nn])"
   ]
  },
  {
   "cell_type": "code",
   "execution_count": 20,
   "metadata": {
    "execution": {
     "iopub.execute_input": "2021-01-18T20:29:11.122668Z",
     "iopub.status.busy": "2021-01-18T20:29:11.122223Z",
     "iopub.status.idle": "2021-01-18T20:30:26.854507Z",
     "shell.execute_reply": "2021-01-18T20:30:26.855155Z"
    },
    "papermill": {
     "duration": 75.762823,
     "end_time": "2021-01-18T20:30:26.855294",
     "exception": false,
     "start_time": "2021-01-18T20:29:11.092471",
     "status": "completed"
    },
    "tags": []
   },
   "outputs": [
    {
     "name": "stdout",
     "output_type": "stream",
     "text": [
      "====== Neural Network ======\n"
     ]
    },
    {
     "name": "stdout",
     "output_type": "stream",
     "text": [
      "Epoch 0, Loss 0.2401\n",
      "Training Accuracy: 0.6764, Testing Accuracy: 0.6915\n",
      "\n"
     ]
    },
    {
     "name": "stdout",
     "output_type": "stream",
     "text": [
      "Epoch 10, Loss 0.0992\n",
      "Training Accuracy: 0.9238, Testing Accuracy: 0.9345\n",
      "\n"
     ]
    },
    {
     "name": "stdout",
     "output_type": "stream",
     "text": [
      "Epoch 20, Loss 0.0577\n",
      "Training Accuracy: 0.9442, Testing Accuracy: 0.9506\n",
      "\n"
     ]
    },
    {
     "name": "stdout",
     "output_type": "stream",
     "text": [
      "Epoch 30, Loss 0.0447\n",
      "Training Accuracy: 0.9513, Testing Accuracy: 0.9607\n",
      "\n"
     ]
    },
    {
     "name": "stdout",
     "output_type": "stream",
     "text": [
      "Epoch 40, Loss 0.0384\n",
      "Training Accuracy: 0.9573, Testing Accuracy: 0.9682\n",
      "\n"
     ]
    },
    {
     "name": "stdout",
     "output_type": "stream",
     "text": [
      "Epoch 50, Loss 0.0348\n",
      "Training Accuracy: 0.9601, Testing Accuracy: 0.9693\n",
      "\n"
     ]
    },
    {
     "name": "stdout",
     "output_type": "stream",
     "text": [
      "Epoch 60, Loss 0.0323\n",
      "Training Accuracy: 0.9630, Testing Accuracy: 0.9703\n",
      "\n"
     ]
    },
    {
     "name": "stdout",
     "output_type": "stream",
     "text": [
      "Epoch 70, Loss 0.0304\n",
      "Training Accuracy: 0.9648, Testing Accuracy: 0.9708\n",
      "\n"
     ]
    },
    {
     "name": "stdout",
     "output_type": "stream",
     "text": [
      "Epoch 80, Loss 0.0289\n",
      "Training Accuracy: 0.9661, Testing Accuracy: 0.9728\n",
      "\n"
     ]
    },
    {
     "name": "stdout",
     "output_type": "stream",
     "text": [
      "Epoch 90, Loss 0.0277\n",
      "Training Accuracy: 0.9679, Testing Accuracy: 0.9728\n",
      "\n"
     ]
    },
    {
     "name": "stdout",
     "output_type": "stream",
     "text": [
      "Epoch 100, Loss 0.0267\n",
      "Training Accuracy: 0.9691, Testing Accuracy: 0.9728\n",
      "\n"
     ]
    },
    {
     "name": "stdout",
     "output_type": "stream",
     "text": [
      "Epoch 110, Loss 0.0258\n",
      "Training Accuracy: 0.9700, Testing Accuracy: 0.9738\n",
      "\n"
     ]
    },
    {
     "name": "stdout",
     "output_type": "stream",
     "text": [
      "Epoch 120, Loss 0.025\n",
      "Training Accuracy: 0.9713, Testing Accuracy: 0.9733\n",
      "\n"
     ]
    },
    {
     "name": "stdout",
     "output_type": "stream",
     "text": [
      "Epoch 130, Loss 0.0243\n",
      "Training Accuracy: 0.9721, Testing Accuracy: 0.9733\n",
      "\n"
     ]
    },
    {
     "name": "stdout",
     "output_type": "stream",
     "text": [
      "Epoch 140, Loss 0.0236\n",
      "Training Accuracy: 0.9732, Testing Accuracy: 0.9733\n",
      "\n"
     ]
    },
    {
     "name": "stdout",
     "output_type": "stream",
     "text": [
      "Epoch 150, Loss 0.023\n",
      "Training Accuracy: 0.9741, Testing Accuracy: 0.9733\n",
      "\n"
     ]
    },
    {
     "name": "stdout",
     "output_type": "stream",
     "text": [
      "Epoch 160, Loss 0.0224\n",
      "Training Accuracy: 0.9749, Testing Accuracy: 0.9748\n",
      "\n"
     ]
    },
    {
     "name": "stdout",
     "output_type": "stream",
     "text": [
      "Epoch 170, Loss 0.0219\n",
      "Training Accuracy: 0.9752, Testing Accuracy: 0.9738\n",
      "\n"
     ]
    },
    {
     "name": "stdout",
     "output_type": "stream",
     "text": [
      "Epoch 180, Loss 0.0214\n",
      "Training Accuracy: 0.9760, Testing Accuracy: 0.9728\n",
      "\n"
     ]
    },
    {
     "name": "stdout",
     "output_type": "stream",
     "text": [
      "Epoch 190, Loss 0.0209\n",
      "Training Accuracy: 0.9765, Testing Accuracy: 0.9728\n",
      "\n"
     ]
    },
    {
     "name": "stdout",
     "output_type": "stream",
     "text": [
      "Epoch 200, Loss 0.0204\n",
      "Training Accuracy: 0.9772, Testing Accuracy: 0.9728\n",
      "\n"
     ]
    },
    {
     "name": "stdout",
     "output_type": "stream",
     "text": [
      "Epoch 210, Loss 0.02\n",
      "Training Accuracy: 0.9775, Testing Accuracy: 0.9728\n",
      "\n"
     ]
    },
    {
     "name": "stdout",
     "output_type": "stream",
     "text": [
      "Epoch 220, Loss 0.0196\n",
      "Training Accuracy: 0.9781, Testing Accuracy: 0.9733\n",
      "\n"
     ]
    },
    {
     "name": "stdout",
     "output_type": "stream",
     "text": [
      "Epoch 230, Loss 0.0192\n",
      "Training Accuracy: 0.9784, Testing Accuracy: 0.9733\n",
      "\n"
     ]
    },
    {
     "name": "stdout",
     "output_type": "stream",
     "text": [
      "Epoch 240, Loss 0.0188\n",
      "Training Accuracy: 0.9788, Testing Accuracy: 0.9748\n",
      "\n"
     ]
    },
    {
     "name": "stdout",
     "output_type": "stream",
     "text": [
      "Epoch 250, Loss 0.0184\n",
      "Training Accuracy: 0.9794, Testing Accuracy: 0.9748\n",
      "\n"
     ]
    },
    {
     "data": {
      "text/plain": [
       "0.016066009876893963"
      ]
     },
     "execution_count": 20,
     "metadata": {},
     "output_type": "execute_result"
    }
   ],
   "source": [
    "print(\"====== Neural Network ======\")\n",
    "learner_nn.train_loop(dl)"
   ]
  },
  {
   "cell_type": "markdown",
   "metadata": {
    "papermill": {
     "duration": 0.02904,
     "end_time": "2021-01-18T20:30:26.913678",
     "exception": false,
     "start_time": "2021-01-18T20:30:26.884638",
     "status": "completed"
    },
    "tags": []
   },
   "source": [
    "### Logistic Regression based Implementation."
   ]
  },
  {
   "cell_type": "code",
   "execution_count": 21,
   "metadata": {
    "execution": {
     "iopub.execute_input": "2021-01-18T20:30:26.974021Z",
     "iopub.status.busy": "2021-01-18T20:30:26.973353Z",
     "iopub.status.idle": "2021-01-18T20:30:26.983512Z",
     "shell.execute_reply": "2021-01-18T20:30:26.983012Z"
    },
    "papermill": {
     "duration": 0.041597,
     "end_time": "2021-01-18T20:30:26.983623",
     "exception": false,
     "start_time": "2021-01-18T20:30:26.942026",
     "status": "completed"
    },
    "tags": []
   },
   "outputs": [],
   "source": [
    "learner_lr = Learner(loss, model_lr, opt, config.num_epochs)\n",
    "acc_lr = ClfCallback(learner_lr, config.bs, training_xdata , testing_xdata, training_ydata, testing_ydata)\n",
    "learner_lr.set_callbacks([acc_lr])"
   ]
  },
  {
   "cell_type": "code",
   "execution_count": 22,
   "metadata": {
    "execution": {
     "iopub.execute_input": "2021-01-18T20:30:27.058770Z",
     "iopub.status.busy": "2021-01-18T20:30:27.058310Z",
     "iopub.status.idle": "2021-01-18T20:30:40.183322Z",
     "shell.execute_reply": "2021-01-18T20:30:40.183890Z"
    },
    "papermill": {
     "duration": 13.168243,
     "end_time": "2021-01-18T20:30:40.184026",
     "exception": false,
     "start_time": "2021-01-18T20:30:27.015783",
     "status": "completed"
    },
    "tags": []
   },
   "outputs": [
    {
     "name": "stdout",
     "output_type": "stream",
     "text": [
      "====== Logistic Regression ======\n",
      "Epoch 0, Loss 0.2664\n",
      "Training Accuracy: 0.5741, Testing Accuracy: 0.5963\n",
      "\n"
     ]
    },
    {
     "name": "stdout",
     "output_type": "stream",
     "text": [
      "Epoch 10, Loss 0.1057\n",
      "Training Accuracy: 0.9089, Testing Accuracy: 0.9229\n",
      "\n"
     ]
    },
    {
     "name": "stdout",
     "output_type": "stream",
     "text": [
      "Epoch 20, Loss 0.0797\n",
      "Training Accuracy: 0.9287, Testing Accuracy: 0.9441\n",
      "\n"
     ]
    },
    {
     "name": "stdout",
     "output_type": "stream",
     "text": [
      "Epoch 30, Loss 0.0682\n",
      "Training Accuracy: 0.9372, Testing Accuracy: 0.9521\n",
      "\n"
     ]
    },
    {
     "name": "stdout",
     "output_type": "stream",
     "text": [
      "Epoch 40, Loss 0.0613\n",
      "Training Accuracy: 0.9430, Testing Accuracy: 0.9551\n",
      "\n"
     ]
    },
    {
     "name": "stdout",
     "output_type": "stream",
     "text": [
      "Epoch 50, Loss 0.0568\n",
      "Training Accuracy: 0.9456, Testing Accuracy: 0.9551\n",
      "\n"
     ]
    },
    {
     "name": "stdout",
     "output_type": "stream",
     "text": [
      "Epoch 60, Loss 0.0534\n",
      "Training Accuracy: 0.9480, Testing Accuracy: 0.9582\n",
      "\n"
     ]
    },
    {
     "name": "stdout",
     "output_type": "stream",
     "text": [
      "Epoch 70, Loss 0.0509\n",
      "Training Accuracy: 0.9502, Testing Accuracy: 0.9602\n",
      "\n"
     ]
    },
    {
     "name": "stdout",
     "output_type": "stream",
     "text": [
      "Epoch 80, Loss 0.0488\n",
      "Training Accuracy: 0.9515, Testing Accuracy: 0.9617\n",
      "\n"
     ]
    },
    {
     "name": "stdout",
     "output_type": "stream",
     "text": [
      "Epoch 90, Loss 0.0472\n",
      "Training Accuracy: 0.9527, Testing Accuracy: 0.9637\n",
      "\n"
     ]
    },
    {
     "name": "stdout",
     "output_type": "stream",
     "text": [
      "Epoch 100, Loss 0.0458\n",
      "Training Accuracy: 0.9539, Testing Accuracy: 0.9647\n",
      "\n"
     ]
    },
    {
     "name": "stdout",
     "output_type": "stream",
     "text": [
      "Epoch 110, Loss 0.0446\n",
      "Training Accuracy: 0.9550, Testing Accuracy: 0.9647\n",
      "\n"
     ]
    },
    {
     "name": "stdout",
     "output_type": "stream",
     "text": [
      "Epoch 120, Loss 0.0435\n",
      "Training Accuracy: 0.9563, Testing Accuracy: 0.9642\n",
      "\n"
     ]
    },
    {
     "name": "stdout",
     "output_type": "stream",
     "text": [
      "Epoch 130, Loss 0.0426\n",
      "Training Accuracy: 0.9569, Testing Accuracy: 0.9647\n",
      "\n"
     ]
    },
    {
     "name": "stdout",
     "output_type": "stream",
     "text": [
      "Epoch 140, Loss 0.0418\n",
      "Training Accuracy: 0.9576, Testing Accuracy: 0.9657\n",
      "\n"
     ]
    },
    {
     "name": "stdout",
     "output_type": "stream",
     "text": [
      "Epoch 150, Loss 0.041\n",
      "Training Accuracy: 0.9582, Testing Accuracy: 0.9662\n",
      "\n"
     ]
    },
    {
     "name": "stdout",
     "output_type": "stream",
     "text": [
      "Epoch 160, Loss 0.0404\n",
      "Training Accuracy: 0.9584, Testing Accuracy: 0.9662\n",
      "\n"
     ]
    },
    {
     "name": "stdout",
     "output_type": "stream",
     "text": [
      "Epoch 170, Loss 0.0398\n",
      "Training Accuracy: 0.9588, Testing Accuracy: 0.9667\n",
      "\n"
     ]
    },
    {
     "name": "stdout",
     "output_type": "stream",
     "text": [
      "Epoch 180, Loss 0.0392\n",
      "Training Accuracy: 0.9593, Testing Accuracy: 0.9667\n",
      "\n"
     ]
    },
    {
     "name": "stdout",
     "output_type": "stream",
     "text": [
      "Epoch 190, Loss 0.0387\n",
      "Training Accuracy: 0.9594, Testing Accuracy: 0.9667\n",
      "\n"
     ]
    },
    {
     "name": "stdout",
     "output_type": "stream",
     "text": [
      "Epoch 200, Loss 0.0383\n",
      "Training Accuracy: 0.9595, Testing Accuracy: 0.9662\n",
      "\n"
     ]
    },
    {
     "name": "stdout",
     "output_type": "stream",
     "text": [
      "Epoch 210, Loss 0.0378\n",
      "Training Accuracy: 0.9594, Testing Accuracy: 0.9662\n",
      "\n"
     ]
    },
    {
     "name": "stdout",
     "output_type": "stream",
     "text": [
      "Epoch 220, Loss 0.0374\n",
      "Training Accuracy: 0.9596, Testing Accuracy: 0.9662\n",
      "\n"
     ]
    },
    {
     "name": "stdout",
     "output_type": "stream",
     "text": [
      "Epoch 230, Loss 0.037\n",
      "Training Accuracy: 0.9597, Testing Accuracy: 0.9667\n",
      "\n"
     ]
    },
    {
     "name": "stdout",
     "output_type": "stream",
     "text": [
      "Epoch 240, Loss 0.0367\n",
      "Training Accuracy: 0.9601, Testing Accuracy: 0.9672\n",
      "\n"
     ]
    },
    {
     "name": "stdout",
     "output_type": "stream",
     "text": [
      "Epoch 250, Loss 0.0364\n",
      "Training Accuracy: 0.9601, Testing Accuracy: 0.9672\n",
      "\n"
     ]
    },
    {
     "data": {
      "text/plain": [
       "0.04004978987420369"
      ]
     },
     "execution_count": 22,
     "metadata": {},
     "output_type": "execute_result"
    }
   ],
   "source": [
    "print(\"====== Logistic Regression ======\")\n",
    "learner_lr.train_loop(dl)"
   ]
  },
  {
   "cell_type": "markdown",
   "metadata": {
    "papermill": {
     "duration": 0.034461,
     "end_time": "2021-01-18T20:30:40.253308",
     "exception": false,
     "start_time": "2021-01-18T20:30:40.218847",
     "status": "completed"
    },
    "tags": []
   },
   "source": [
    "### Comparing results of NN and LR"
   ]
  },
  {
   "cell_type": "code",
   "execution_count": 23,
   "metadata": {
    "execution": {
     "iopub.execute_input": "2021-01-18T20:30:40.328963Z",
     "iopub.status.busy": "2021-01-18T20:30:40.328083Z",
     "iopub.status.idle": "2021-01-18T20:30:40.515842Z",
     "shell.execute_reply": "2021-01-18T20:30:40.516216Z"
    },
    "papermill": {
     "duration": 0.228608,
     "end_time": "2021-01-18T20:30:40.516349",
     "exception": false,
     "start_time": "2021-01-18T20:30:40.287741",
     "status": "completed"
    },
    "tags": []
   },
   "outputs": [
    {
     "data": {
      "text/plain": [
       "<matplotlib.legend.Legend at 0x7f52792f12b0>"
      ]
     },
     "execution_count": 23,
     "metadata": {},
     "output_type": "execute_result"
    },
    {
     "data": {
      "image/png": "[encoded data removed]",
      "text/plain": [
       "<Figure size 1080x720 with 1 Axes>"
      ]
     },
     "metadata": {
      "needs_background": "light"
     },
     "output_type": "display_data"
    }
   ],
   "source": [
    "plt.figure(figsize=(15,10))\n",
    "\n",
    "# Neural Network plots\n",
    "plt.plot(acc_nn.accuracies, 'r-', label = \"Training Accuracies - NN\")\n",
    "plt.plot(acc_nn.test_accuracies, 'g-', label = \"Testing Accuracies - NN\")\n",
    "\n",
    "# Logistic Regression plots\n",
    "plt.plot(acc_lr.accuracies, 'k-', label = \"Training Accuracies - LR\")\n",
    "plt.plot(acc_lr.test_accuracies, 'b-', label = \"Testing Accuracies - LR\")\n",
    "\n",
    "plt.ylim(0.8, 1)\n",
    "\n",
    "plt.legend()\n",
    "\n"
   ]
  },
  {
   "cell_type": "markdown",
   "metadata": {
    "papermill": {
     "duration": 0.036102,
     "end_time": "2021-01-18T20:30:40.588896",
     "exception": false,
     "start_time": "2021-01-18T20:30:40.552794",
     "status": "completed"
    },
    "tags": []
   },
   "source": [
    "### From the plot, we can observe the following:\n",
    "- Neural Network achieves higher accuracy than the Logistic Regression model.\n",
    "- This apparently, is because of overfitting, i.e. NN captures more noise than data.\n",
    "- Testing accuracy of NN drops below the Training accuracy at higher epochs. This explains the over-fitting on training data.\n",
    "- Logistic Regression gives a reliable accuracy, without the above mentioned problem.\n"
   ]
  },
  {
   "cell_type": "markdown",
   "metadata": {
    "papermill": {
     "duration": 0.035881,
     "end_time": "2021-01-18T20:30:40.660675",
     "exception": false,
     "start_time": "2021-01-18T20:30:40.624794",
     "status": "completed"
    },
    "tags": []
   },
   "source": [
    "### Moving till the last but one layer (excluding it).\n",
    "#### Plotting the outputs of this layer of the NN."
   ]
  },
  {
   "cell_type": "code",
   "execution_count": 24,
   "metadata": {
    "execution": {
     "iopub.execute_input": "2021-01-18T20:30:40.739466Z",
     "iopub.status.busy": "2021-01-18T20:30:40.736845Z",
     "iopub.status.idle": "2021-01-18T20:30:40.747864Z",
     "shell.execute_reply": "2021-01-18T20:30:40.747470Z"
    },
    "papermill": {
     "duration": 0.051208,
     "end_time": "2021-01-18T20:30:40.747972",
     "exception": false,
     "start_time": "2021-01-18T20:30:40.696764",
     "status": "completed"
    },
    "tags": []
   },
   "outputs": [],
   "source": [
    "model_new = Model(layers[:-2])"
   ]
  },
  {
   "cell_type": "code",
   "execution_count": 25,
   "metadata": {
    "execution": {
     "iopub.execute_input": "2021-01-18T20:30:40.836732Z",
     "iopub.status.busy": "2021-01-18T20:30:40.831870Z",
     "iopub.status.idle": "2021-01-18T20:30:40.855843Z",
     "shell.execute_reply": "2021-01-18T20:30:40.855435Z"
    },
    "papermill": {
     "duration": 0.071491,
     "end_time": "2021-01-18T20:30:40.855957",
     "exception": false,
     "start_time": "2021-01-18T20:30:40.784466",
     "status": "completed"
    },
    "tags": []
   },
   "outputs": [],
   "source": [
    "plot_testing = model_new(testing_xdata)"
   ]
  },
  {
   "cell_type": "code",
   "execution_count": 26,
   "metadata": {
    "execution": {
     "iopub.execute_input": "2021-01-18T20:30:40.939075Z",
     "iopub.status.busy": "2021-01-18T20:30:40.938596Z",
     "iopub.status.idle": "2021-01-18T20:30:41.082979Z",
     "shell.execute_reply": "2021-01-18T20:30:41.082468Z"
    },
    "papermill": {
     "duration": 0.19052,
     "end_time": "2021-01-18T20:30:41.083117",
     "exception": false,
     "start_time": "2021-01-18T20:30:40.892597",
     "status": "completed"
    },
    "tags": []
   },
   "outputs": [
    {
     "data": {
      "text/plain": [
       "Text(0.5, 1.0, 'Outputs')"
      ]
     },
     "execution_count": 26,
     "metadata": {},
     "output_type": "execute_result"
    },
    {
     "data": {
      "image/png": "[encoded data removed]",
      "text/plain": [
       "<Figure size 576x504 with 1 Axes>"
      ]
     },
     "metadata": {
      "needs_background": "light"
     },
     "output_type": "display_data"
    }
   ],
   "source": [
    "plt.figure(figsize=(8,7))\n",
    "plt.scatter(plot_testing[:,0], plot_testing[:,1], alpha = 0.1, c = y_test.ravel());\n",
    "plt.title('Outputs')"
   ]
  },
  {
   "cell_type": "markdown",
   "metadata": {
    "papermill": {
     "duration": 0.037439,
     "end_time": "2021-01-18T20:30:41.159256",
     "exception": false,
     "start_time": "2021-01-18T20:30:41.121817",
     "status": "completed"
    },
    "tags": []
   },
   "source": [
    "### Plotting probability contours"
   ]
  },
  {
   "cell_type": "code",
   "execution_count": 27,
   "metadata": {
    "execution": {
     "iopub.execute_input": "2021-01-18T20:30:41.238662Z",
     "iopub.status.busy": "2021-01-18T20:30:41.238190Z",
     "iopub.status.idle": "2021-01-18T20:30:41.248365Z",
     "shell.execute_reply": "2021-01-18T20:30:41.248912Z"
    },
    "papermill": {
     "duration": 0.052309,
     "end_time": "2021-01-18T20:30:41.249038",
     "exception": false,
     "start_time": "2021-01-18T20:30:41.196729",
     "status": "completed"
    },
    "tags": []
   },
   "outputs": [],
   "source": [
    "model_prob = Model(layers[-2:]) "
   ]
  },
  {
   "cell_type": "code",
   "execution_count": 28,
   "metadata": {
    "execution": {
     "iopub.execute_input": "2021-01-18T20:30:41.340738Z",
     "iopub.status.busy": "2021-01-18T20:30:41.335660Z",
     "iopub.status.idle": "2021-01-18T20:30:41.342097Z",
     "shell.execute_reply": "2021-01-18T20:30:41.342919Z"
    },
    "papermill": {
     "duration": 0.056704,
     "end_time": "2021-01-18T20:30:41.343047",
     "exception": false,
     "start_time": "2021-01-18T20:30:41.286343",
     "status": "completed"
    },
    "tags": []
   },
   "outputs": [],
   "source": [
    "# Adjust the x and y ranges according to the above generated plot.\n",
    "x_range = np.linspace(-4, 1, 100) \n",
    "y_range = np.linspace(-6, 6, 100) \n",
    "x_grid, y_grid = np.meshgrid(x_range, y_range) # x_grid and y_grig are of size 100 X 100\n",
    "\n",
    "# converting x_grid and y_grid to continuous arrays\n",
    "x_grid_flat = np.ravel(x_grid)\n",
    "y_grid_flat = np.ravel(y_grid)\n",
    "\n",
    "# The last layer of the current model takes two columns as input. Hence transpose of np.vstack() is required.\n",
    "X = np.vstack((x_grid_flat, y_grid_flat)).T\n",
    "\n",
    "# x_grid and y_grid are of size 100 x 100\n",
    "probability_contour = model_prob(X).reshape(100,100) "
   ]
  },
  {
   "cell_type": "code",
   "execution_count": 29,
   "metadata": {
    "execution": {
     "iopub.execute_input": "2021-01-18T20:30:41.445388Z",
     "iopub.status.busy": "2021-01-18T20:30:41.444938Z",
     "iopub.status.idle": "2021-01-18T20:30:41.641306Z",
     "shell.execute_reply": "2021-01-18T20:30:41.640806Z"
    },
    "papermill": {
     "duration": 0.260711,
     "end_time": "2021-01-18T20:30:41.641442",
     "exception": false,
     "start_time": "2021-01-18T20:30:41.380731",
     "status": "completed"
    },
    "tags": []
   },
   "outputs": [
    {
     "data": {
      "image/png": "[encoded data removed]",
      "text/plain": [
       "<Figure size 720x648 with 1 Axes>"
      ]
     },
     "metadata": {
      "needs_background": "light"
     },
     "output_type": "display_data"
    }
   ],
   "source": [
    "plt.figure(figsize=(10,9))\n",
    "plt.scatter(plot_testing[:,0], plot_testing[:,1], alpha = 0.1, c = y_test.ravel())\n",
    "contours = plt.contour(x_grid,y_grid,probability_contour)\n",
    "plt.title('Probability Contours')\n",
    "plt.clabel(contours, inline = True );"
   ]
  }
 ],
 "metadata": {
  "kernelspec": {
   "display_name": "Python 3",
   "language": "python",
   "name": "python3"
  },
  "language_info": {
   "codemirror_mode": {
    "name": "ipython",
    "version": 3
   },
   "file_extension": ".py",
   "mimetype": "text/x-python",
   "name": "python",
   "nbconvert_exporter": "python",
   "pygments_lexer": "ipython3",
   "version": "3.6.12"
  },
  "papermill": {
   "duration": 96.509968,
   "end_time": "2021-01-18T20:30:41.987714",
   "environment_variables": {},
   "exception": null,
   "input_path": "2020-08-11-NeuralNetwork.ipynb",
   "output_path": "2020-08-11-NeuralNetwork.ipynb",
   "parameters": {},
   "start_time": "2021-01-18T20:29:05.477746",
   "version": "2.1.2"
  }
 },
 "nbformat": 4,
 "nbformat_minor": 4
}