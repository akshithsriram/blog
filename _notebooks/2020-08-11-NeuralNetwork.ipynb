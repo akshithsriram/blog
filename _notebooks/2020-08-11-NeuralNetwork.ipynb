{
 "cells": [
  {
   "cell_type": "markdown",
   "id": "fitted-suggestion",
   "metadata": {
    "papermill": {
     "duration": 0.033359,
     "end_time": "2021-07-05T00:14:32.971148",
     "exception": false,
     "start_time": "2021-07-05T00:14:32.937789",
     "status": "completed"
    },
    "tags": []
   },
   "source": [
    "# \"A Basic Neural Network: Differentiate Hand-Written Digits\"\n",
    "\n",
    "- badges: true\n",
    "- author: Akshith Sriram"
   ]
  },
  {
   "cell_type": "markdown",
   "id": "signal-flexibility",
   "metadata": {
    "papermill": {
     "duration": 0.024992,
     "end_time": "2021-07-05T00:14:33.021520",
     "exception": false,
     "start_time": "2021-07-05T00:14:32.996528",
     "status": "completed"
    },
    "tags": []
   },
   "source": [
    "### Key Objectives:\n",
    "- Building a neural network that differentiates two hand-written digits 3 and 8.\n",
    "- Comparing the results of this Neural Network (NN) to that of a Logistic Regression (LR) model.\n",
    "\n",
    "### Requirements:\n",
    "- 'Kudzu' : A neural network library that was designed during our course by [Univ.AI](www.univ.ai). \n",
    "- MNIST Database\n",
    "\n",
    "If MNIST is not installed, use the command `!pip install mnist` given below.\n",
    "It can be run both from the command line and Jupyter Notebook."
   ]
  },
  {
   "cell_type": "code",
   "execution_count": 1,
   "id": "british-texture",
   "metadata": {
    "execution": {
     "iopub.execute_input": "2021-07-05T00:14:33.085202Z",
     "iopub.status.busy": "2021-07-05T00:14:33.084630Z",
     "iopub.status.idle": "2021-07-05T00:14:34.506297Z",
     "shell.execute_reply": "2021-07-05T00:14:34.507098Z"
    },
    "papermill": {
     "duration": 1.460468,
     "end_time": "2021-07-05T00:14:34.507375",
     "exception": false,
     "start_time": "2021-07-05T00:14:33.046907",
     "status": "completed"
    },
    "tags": []
   },
   "outputs": [
    {
     "name": "stdout",
     "output_type": "stream",
     "text": [
      "Collecting mnist\r\n"
     ]
    },
    {
     "name": "stdout",
     "output_type": "stream",
     "text": [
      "  Downloading mnist-0.2.2-py2.py3-none-any.whl (3.5 kB)\r\n",
      "Requirement already satisfied: numpy in /opt/hostedtoolcache/Python/3.6.13/x64/lib/python3.6/site-packages (from mnist) (1.19.5)\r\n"
     ]
    },
    {
     "name": "stdout",
     "output_type": "stream",
     "text": [
      "Installing collected packages: mnist\r\n"
     ]
    },
    {
     "name": "stdout",
     "output_type": "stream",
     "text": [
      "Successfully installed mnist-0.2.2\r\n"
     ]
    }
   ],
   "source": [
    "!pip install mnist "
   ]
  },
  {
   "cell_type": "markdown",
   "id": "stunning-extra",
   "metadata": {
    "papermill": {
     "duration": 0.028255,
     "end_time": "2021-07-05T00:14:34.564139",
     "exception": false,
     "start_time": "2021-07-05T00:14:34.535884",
     "status": "completed"
    },
    "tags": []
   },
   "source": [
    "#### Importing necessary libraries"
   ]
  },
  {
   "cell_type": "code",
   "execution_count": 2,
   "id": "wooden-france",
   "metadata": {
    "execution": {
     "iopub.execute_input": "2021-07-05T00:14:34.629052Z",
     "iopub.status.busy": "2021-07-05T00:14:34.628184Z",
     "iopub.status.idle": "2021-07-05T00:14:35.172945Z",
     "shell.execute_reply": "2021-07-05T00:14:35.172330Z"
    },
    "papermill": {
     "duration": 0.580251,
     "end_time": "2021-07-05T00:14:35.173115",
     "exception": false,
     "start_time": "2021-07-05T00:14:34.592864",
     "status": "completed"
    },
    "tags": []
   },
   "outputs": [],
   "source": [
    "%load_ext autoreload\n",
    "%autoreload 2\n",
    "\n",
    "%matplotlib inline\n",
    "import matplotlib.pyplot as plt\n",
    "\n",
    "import numpy as np\n",
    "import pandas as pd"
   ]
  },
  {
   "cell_type": "markdown",
   "id": "stunning-physics",
   "metadata": {
    "papermill": {
     "duration": 0.025825,
     "end_time": "2021-07-05T00:14:35.226384",
     "exception": false,
     "start_time": "2021-07-05T00:14:35.200559",
     "status": "completed"
    },
    "tags": []
   },
   "source": [
    "### Preparing the Data"
   ]
  },
  {
   "cell_type": "code",
   "execution_count": 3,
   "id": "unauthorized-remainder",
   "metadata": {
    "execution": {
     "iopub.execute_input": "2021-07-05T00:14:35.284503Z",
     "iopub.status.busy": "2021-07-05T00:14:35.283932Z",
     "iopub.status.idle": "2021-07-05T00:14:35.297323Z",
     "shell.execute_reply": "2021-07-05T00:14:35.297740Z"
    },
    "papermill": {
     "duration": 0.04447,
     "end_time": "2021-07-05T00:14:35.297876",
     "exception": false,
     "start_time": "2021-07-05T00:14:35.253406",
     "status": "completed"
    },
    "tags": []
   },
   "outputs": [],
   "source": [
    "import mnist"
   ]
  },
  {
   "cell_type": "code",
   "execution_count": 4,
   "id": "correct-antarctica",
   "metadata": {
    "execution": {
     "iopub.execute_input": "2021-07-05T00:14:35.353784Z",
     "iopub.status.busy": "2021-07-05T00:14:35.351615Z",
     "iopub.status.idle": "2021-07-05T00:17:40.161053Z",
     "shell.execute_reply": "2021-07-05T00:17:40.159914Z"
    },
    "papermill": {
     "duration": 184.838105,
     "end_time": "2021-07-05T00:17:40.161223",
     "exception": false,
     "start_time": "2021-07-05T00:14:35.323118",
     "status": "completed"
    },
    "tags": []
   },
   "outputs": [],
   "source": [
    "train_images = mnist.train_images()\n",
    "train_labels = mnist.train_labels()"
   ]
  },
  {
   "cell_type": "code",
   "execution_count": 5,
   "id": "musical-prospect",
   "metadata": {
    "execution": {
     "iopub.execute_input": "2021-07-05T00:17:40.227260Z",
     "iopub.status.busy": "2021-07-05T00:17:40.226681Z",
     "iopub.status.idle": "2021-07-05T00:17:40.241556Z",
     "shell.execute_reply": "2021-07-05T00:17:40.241081Z"
    },
    "papermill": {
     "duration": 0.050396,
     "end_time": "2021-07-05T00:17:40.241675",
     "exception": false,
     "start_time": "2021-07-05T00:17:40.191279",
     "status": "completed"
    },
    "tags": []
   },
   "outputs": [
    {
     "data": {
      "text/plain": [
       "((60000, 28, 28), (60000,))"
      ]
     },
     "execution_count": 5,
     "metadata": {},
     "output_type": "execute_result"
    }
   ],
   "source": [
    "train_images.shape, train_labels.shape"
   ]
  },
  {
   "cell_type": "code",
   "execution_count": 6,
   "id": "preliminary-elizabeth",
   "metadata": {
    "execution": {
     "iopub.execute_input": "2021-07-05T00:17:40.313418Z",
     "iopub.status.busy": "2021-07-05T00:17:40.310443Z",
     "iopub.status.idle": "2021-07-05T00:18:12.413815Z",
     "shell.execute_reply": "2021-07-05T00:18:12.412252Z"
    },
    "papermill": {
     "duration": 32.143776,
     "end_time": "2021-07-05T00:18:12.414040",
     "exception": false,
     "start_time": "2021-07-05T00:17:40.270264",
     "status": "completed"
    },
    "tags": []
   },
   "outputs": [],
   "source": [
    "test_images = mnist.test_images()\n",
    "test_labels = mnist.test_labels()"
   ]
  },
  {
   "cell_type": "code",
   "execution_count": 7,
   "id": "acknowledged-oxygen",
   "metadata": {
    "execution": {
     "iopub.execute_input": "2021-07-05T00:18:12.478357Z",
     "iopub.status.busy": "2021-07-05T00:18:12.477805Z",
     "iopub.status.idle": "2021-07-05T00:18:12.486662Z",
     "shell.execute_reply": "2021-07-05T00:18:12.486225Z"
    },
    "papermill": {
     "duration": 0.043578,
     "end_time": "2021-07-05T00:18:12.486776",
     "exception": false,
     "start_time": "2021-07-05T00:18:12.443198",
     "status": "completed"
    },
    "tags": []
   },
   "outputs": [
    {
     "data": {
      "text/plain": [
       "((10000, 28, 28), (10000,))"
      ]
     },
     "execution_count": 7,
     "metadata": {},
     "output_type": "execute_result"
    }
   ],
   "source": [
    "test_images.shape, test_labels.shape"
   ]
  },
  {
   "cell_type": "code",
   "execution_count": 8,
   "id": "innovative-organic",
   "metadata": {
    "execution": {
     "iopub.execute_input": "2021-07-05T00:18:12.546238Z",
     "iopub.status.busy": "2021-07-05T00:18:12.545702Z",
     "iopub.status.idle": "2021-07-05T00:18:12.687215Z",
     "shell.execute_reply": "2021-07-05T00:18:12.686677Z"
    },
    "papermill": {
     "duration": 0.173897,
     "end_time": "2021-07-05T00:18:12.687358",
     "exception": false,
     "start_time": "2021-07-05T00:18:12.513461",
     "status": "completed"
    },
    "tags": []
   },
   "outputs": [
    {
     "name": "stdout",
     "output_type": "stream",
     "text": [
      "2\n"
     ]
    },
    {
     "data": {
      "text/plain": [
       "<matplotlib.image.AxesImage at 0x7f4cd5016550>"
      ]
     },
     "execution_count": 8,
     "metadata": {},
     "output_type": "execute_result"
    },
    {
     "data": {
      "image/png": "[encoded data removed]",
      "text/plain": [
       "<Figure size 432x288 with 1 Axes>"
      ]
     },
     "metadata": {
      "needs_background": "light"
     },
     "output_type": "display_data"
    }
   ],
   "source": [
    "image_index = 7776 # You may select anything up to 60,000\n",
    "print(train_labels[image_index]) \n",
    "plt.imshow(train_images[image_index], cmap='Greys')"
   ]
  },
  {
   "cell_type": "markdown",
   "id": "facial-modem",
   "metadata": {
    "papermill": {
     "duration": 0.032584,
     "end_time": "2021-07-05T00:18:12.749077",
     "exception": false,
     "start_time": "2021-07-05T00:18:12.716493",
     "status": "completed"
    },
    "tags": []
   },
   "source": [
    "## Filter data to get 3 and 8 out"
   ]
  },
  {
   "cell_type": "code",
   "execution_count": 9,
   "id": "thousand-acquisition",
   "metadata": {
    "execution": {
     "iopub.execute_input": "2021-07-05T00:18:12.812714Z",
     "iopub.status.busy": "2021-07-05T00:18:12.811865Z",
     "iopub.status.idle": "2021-07-05T00:18:12.829936Z",
     "shell.execute_reply": "2021-07-05T00:18:12.829452Z"
    },
    "papermill": {
     "duration": 0.050984,
     "end_time": "2021-07-05T00:18:12.830051",
     "exception": false,
     "start_time": "2021-07-05T00:18:12.779067",
     "status": "completed"
    },
    "tags": []
   },
   "outputs": [],
   "source": [
    "train_filter = np.where((train_labels == 3 ) | (train_labels == 8))\n",
    "test_filter = np.where((test_labels == 3) | (test_labels == 8))\n",
    "X_train, y_train = train_images[train_filter], train_labels[train_filter]\n",
    "X_test, y_test = test_images[test_filter], test_labels[test_filter]"
   ]
  },
  {
   "cell_type": "markdown",
   "id": "ruled-access",
   "metadata": {
    "papermill": {
     "duration": 0.027847,
     "end_time": "2021-07-05T00:18:12.887514",
     "exception": false,
     "start_time": "2021-07-05T00:18:12.859667",
     "status": "completed"
    },
    "tags": []
   },
   "source": [
    "We normalize the pixel values in the 0 to 1 range"
   ]
  },
  {
   "cell_type": "code",
   "execution_count": 10,
   "id": "isolated-denver",
   "metadata": {
    "execution": {
     "iopub.execute_input": "2021-07-05T00:18:12.950809Z",
     "iopub.status.busy": "2021-07-05T00:18:12.950238Z",
     "iopub.status.idle": "2021-07-05T00:18:13.005370Z",
     "shell.execute_reply": "2021-07-05T00:18:13.004603Z"
    },
    "papermill": {
     "duration": 0.089137,
     "end_time": "2021-07-05T00:18:13.005501",
     "exception": false,
     "start_time": "2021-07-05T00:18:12.916364",
     "status": "completed"
    },
    "tags": []
   },
   "outputs": [],
   "source": [
    "X_train = X_train/255.\n",
    "X_test = X_test/255."
   ]
  },
  {
   "cell_type": "markdown",
   "id": "perfect-summary",
   "metadata": {
    "papermill": {
     "duration": 0.030624,
     "end_time": "2021-07-05T00:18:13.066595",
     "exception": false,
     "start_time": "2021-07-05T00:18:13.035971",
     "status": "completed"
    },
    "tags": []
   },
   "source": [
    "Setup the labels as 1 (when the digit is 3) and 0 (when the digit is 8)"
   ]
  },
  {
   "cell_type": "code",
   "execution_count": 11,
   "id": "personalized-growing",
   "metadata": {
    "execution": {
     "iopub.execute_input": "2021-07-05T00:18:13.131144Z",
     "iopub.status.busy": "2021-07-05T00:18:13.130556Z",
     "iopub.status.idle": "2021-07-05T00:18:13.145512Z",
     "shell.execute_reply": "2021-07-05T00:18:13.145926Z"
    },
    "papermill": {
     "duration": 0.049025,
     "end_time": "2021-07-05T00:18:13.146056",
     "exception": false,
     "start_time": "2021-07-05T00:18:13.097031",
     "status": "completed"
    },
    "tags": []
   },
   "outputs": [],
   "source": [
    "y_train = 1*(y_train==3)\n",
    "y_test = 1*(y_test==3)"
   ]
  },
  {
   "cell_type": "code",
   "execution_count": 12,
   "id": "considered-virgin",
   "metadata": {
    "execution": {
     "iopub.execute_input": "2021-07-05T00:18:13.210809Z",
     "iopub.status.busy": "2021-07-05T00:18:13.210213Z",
     "iopub.status.idle": "2021-07-05T00:18:13.227057Z",
     "shell.execute_reply": "2021-07-05T00:18:13.227558Z"
    },
    "papermill": {
     "duration": 0.051332,
     "end_time": "2021-07-05T00:18:13.227698",
     "exception": false,
     "start_time": "2021-07-05T00:18:13.176366",
     "status": "completed"
    },
    "tags": []
   },
   "outputs": [
    {
     "data": {
      "text/plain": [
       "((11982, 28, 28), (1984, 28, 28))"
      ]
     },
     "execution_count": 12,
     "metadata": {},
     "output_type": "execute_result"
    }
   ],
   "source": [
    "X_train.shape, X_test.shape"
   ]
  },
  {
   "cell_type": "markdown",
   "id": "civilian-mobile",
   "metadata": {
    "papermill": {
     "duration": 0.029789,
     "end_time": "2021-07-05T00:18:13.287377",
     "exception": false,
     "start_time": "2021-07-05T00:18:13.257588",
     "status": "completed"
    },
    "tags": []
   },
   "source": [
    "### Reshape the input data to create a linear array"
   ]
  },
  {
   "cell_type": "code",
   "execution_count": 13,
   "id": "colonial-adams",
   "metadata": {
    "execution": {
     "iopub.execute_input": "2021-07-05T00:18:13.352056Z",
     "iopub.status.busy": "2021-07-05T00:18:13.351046Z",
     "iopub.status.idle": "2021-07-05T00:18:13.367204Z",
     "shell.execute_reply": "2021-07-05T00:18:13.366749Z"
    },
    "papermill": {
     "duration": 0.049631,
     "end_time": "2021-07-05T00:18:13.367309",
     "exception": false,
     "start_time": "2021-07-05T00:18:13.317678",
     "status": "completed"
    },
    "tags": []
   },
   "outputs": [
    {
     "data": {
      "text/plain": [
       "((11982, 784), (1984, 784))"
      ]
     },
     "execution_count": 13,
     "metadata": {},
     "output_type": "execute_result"
    }
   ],
   "source": [
    "X_train = X_train.reshape(X_train.shape[0], -1)\n",
    "X_test = X_test.reshape(X_test.shape[0], -1)\n",
    "X_train.shape, X_test.shape"
   ]
  },
  {
   "cell_type": "markdown",
   "id": "smart-details",
   "metadata": {
    "papermill": {
     "duration": 0.028677,
     "end_time": "2021-07-05T00:18:13.424307",
     "exception": false,
     "start_time": "2021-07-05T00:18:13.395630",
     "status": "completed"
    },
    "tags": []
   },
   "source": [
    "### Importing appropriate functions from 'Kudzu'"
   ]
  },
  {
   "cell_type": "code",
   "execution_count": 14,
   "id": "celtic-trial",
   "metadata": {
    "execution": {
     "iopub.execute_input": "2021-07-05T00:18:13.488308Z",
     "iopub.status.busy": "2021-07-05T00:18:13.487760Z",
     "iopub.status.idle": "2021-07-05T00:18:13.506465Z",
     "shell.execute_reply": "2021-07-05T00:18:13.505892Z"
    },
    "papermill": {
     "duration": 0.052117,
     "end_time": "2021-07-05T00:18:13.506592",
     "exception": false,
     "start_time": "2021-07-05T00:18:13.454475",
     "status": "completed"
    },
    "tags": []
   },
   "outputs": [],
   "source": [
    "from kudzu.layer import Sigmoid\n",
    "from kudzu.layer import Relu\n",
    "from kudzu.layer import Affine, Sigmoid\n",
    "\n",
    "from kudzu.model import Model\n",
    "from kudzu.train import Learner\n",
    "from kudzu.optim import GD\n",
    "from kudzu.data import Data, Dataloader, Sampler\n",
    "\n",
    "from kudzu.callbacks import AccCallback\n",
    "from kudzu.callbacks import ClfCallback\n",
    "\n",
    "from kudzu.loss import MSE"
   ]
  },
  {
   "cell_type": "markdown",
   "id": "coupled-customer",
   "metadata": {
    "papermill": {
     "duration": 0.031124,
     "end_time": "2021-07-05T00:18:13.568544",
     "exception": false,
     "start_time": "2021-07-05T00:18:13.537420",
     "status": "completed"
    },
    "tags": []
   },
   "source": [
    "### Let us create a `Config` class, to store important parameters. \n",
    "This class essentially plays the role of a dictionary."
   ]
  },
  {
   "cell_type": "code",
   "execution_count": 15,
   "id": "young-ceiling",
   "metadata": {
    "execution": {
     "iopub.execute_input": "2021-07-05T00:18:13.634912Z",
     "iopub.status.busy": "2021-07-05T00:18:13.634368Z",
     "iopub.status.idle": "2021-07-05T00:18:13.645510Z",
     "shell.execute_reply": "2021-07-05T00:18:13.645925Z"
    },
    "papermill": {
     "duration": 0.048057,
     "end_time": "2021-07-05T00:18:13.646051",
     "exception": false,
     "start_time": "2021-07-05T00:18:13.597994",
     "status": "completed"
    },
    "tags": []
   },
   "outputs": [],
   "source": [
    "class Config:\n",
    "    pass\n",
    "config = Config()\n",
    "config.lr = 0.001\n",
    "config.num_epochs = 251\n",
    "config.bs = 50"
   ]
  },
  {
   "cell_type": "markdown",
   "id": "according-mandate",
   "metadata": {
    "papermill": {
     "duration": 0.029056,
     "end_time": "2021-07-05T00:18:13.705062",
     "exception": false,
     "start_time": "2021-07-05T00:18:13.676006",
     "status": "completed"
    },
    "tags": []
   },
   "source": [
    "### Initializing data to the variables"
   ]
  },
  {
   "cell_type": "code",
   "execution_count": 16,
   "id": "academic-disposition",
   "metadata": {
    "execution": {
     "iopub.execute_input": "2021-07-05T00:18:13.772286Z",
     "iopub.status.busy": "2021-07-05T00:18:13.771699Z",
     "iopub.status.idle": "2021-07-05T00:18:13.785549Z",
     "shell.execute_reply": "2021-07-05T00:18:13.785057Z"
    },
    "papermill": {
     "duration": 0.050736,
     "end_time": "2021-07-05T00:18:13.785669",
     "exception": false,
     "start_time": "2021-07-05T00:18:13.734933",
     "status": "completed"
    },
    "tags": []
   },
   "outputs": [],
   "source": [
    "data = Data(X_train, y_train.reshape(-1,1))\n",
    "sampler = Sampler(data, config.bs, shuffle=True)\n",
    "\n",
    "dl = Dataloader(data, sampler)\n",
    "\n",
    "opt = GD(config.lr)\n",
    "loss = MSE()"
   ]
  },
  {
   "cell_type": "code",
   "execution_count": 17,
   "id": "featured-commission",
   "metadata": {
    "execution": {
     "iopub.execute_input": "2021-07-05T00:18:13.852066Z",
     "iopub.status.busy": "2021-07-05T00:18:13.851513Z",
     "iopub.status.idle": "2021-07-05T00:18:13.865628Z",
     "shell.execute_reply": "2021-07-05T00:18:13.865191Z"
    },
    "papermill": {
     "duration": 0.049905,
     "end_time": "2021-07-05T00:18:13.865736",
     "exception": false,
     "start_time": "2021-07-05T00:18:13.815831",
     "status": "completed"
    },
    "tags": []
   },
   "outputs": [],
   "source": [
    "training_xdata = X_train\n",
    "testing_xdata = X_test\n",
    "training_ydata = y_train.reshape(-1,1)\n",
    "testing_ydata = y_test.reshape(-1,1)"
   ]
  },
  {
   "cell_type": "markdown",
   "id": "played-safety",
   "metadata": {
    "papermill": {
     "duration": 0.028283,
     "end_time": "2021-07-05T00:18:13.923600",
     "exception": false,
     "start_time": "2021-07-05T00:18:13.895317",
     "status": "completed"
    },
    "tags": []
   },
   "source": [
    "### Running Models with the Training data\n",
    "Details about the network layers:\n",
    "- A first affine layer has 784 inputs and does 100 affine transforms. These are followed by a Relu\n",
    "- A second affine layer has 100 inputs from the 100 activations of the past layer, and does 100 affine transforms. These are followed by a Relu\n",
    "- A third affine layer has 100 activations and does 2 affine transformations to create an embedding for visualization. There is no non-linearity here.\n",
    "- A final \"logistic regression\" which has an affine transform from 2 inputs to 1 output, which is squeezed through a sigmoid.\n",
    "\n",
    "Help taken from Anshuman's Notebook."
   ]
  },
  {
   "cell_type": "code",
   "execution_count": 18,
   "id": "asian-bankruptcy",
   "metadata": {
    "execution": {
     "iopub.execute_input": "2021-07-05T00:18:13.989025Z",
     "iopub.status.busy": "2021-07-05T00:18:13.988474Z",
     "iopub.status.idle": "2021-07-05T00:18:14.004015Z",
     "shell.execute_reply": "2021-07-05T00:18:14.004482Z"
    },
    "papermill": {
     "duration": 0.051902,
     "end_time": "2021-07-05T00:18:14.004611",
     "exception": false,
     "start_time": "2021-07-05T00:18:13.952709",
     "status": "completed"
    },
    "tags": []
   },
   "outputs": [],
   "source": [
    "# layers for the Neural Network\n",
    "layers = [Affine(\"first\", 784, 100), Relu(\"first\"), Affine(\"second\", 100, 100), Relu(\"second\"), Affine(\"third\", 100, 2), Affine(\"final\", 2, 1), Sigmoid(\"final\")]\n",
    "model_nn = Model(layers)\n",
    "\n",
    "# layers for the Logistic Regression\n",
    "layers_lr = [Affine(\"logits\", 784, 1), Sigmoid(\"sigmoid\")]\n",
    "model_lr = Model(layers_lr)"
   ]
  },
  {
   "cell_type": "code",
   "execution_count": 19,
   "id": "removed-butler",
   "metadata": {
    "execution": {
     "iopub.execute_input": "2021-07-05T00:18:14.069987Z",
     "iopub.status.busy": "2021-07-05T00:18:14.069416Z",
     "iopub.status.idle": "2021-07-05T00:18:14.080929Z",
     "shell.execute_reply": "2021-07-05T00:18:14.081379Z"
    },
    "papermill": {
     "duration": 0.046208,
     "end_time": "2021-07-05T00:18:14.081492",
     "exception": false,
     "start_time": "2021-07-05T00:18:14.035284",
     "status": "completed"
    },
    "tags": []
   },
   "outputs": [],
   "source": [
    "# suffix _nn stands for Neural Network.\n",
    "learner_nn = Learner(loss, model_nn, opt, config.num_epochs)\n",
    "acc_nn = ClfCallback(learner_nn, config.bs, training_xdata , testing_xdata, training_ydata, testing_ydata)\n",
    "learner_nn.set_callbacks([acc_nn])"
   ]
  },
  {
   "cell_type": "code",
   "execution_count": 20,
   "id": "conceptual-throw",
   "metadata": {
    "execution": {
     "iopub.execute_input": "2021-07-05T00:18:14.141991Z",
     "iopub.status.busy": "2021-07-05T00:18:14.141519Z",
     "iopub.status.idle": "2021-07-05T00:19:36.345173Z",
     "shell.execute_reply": "2021-07-05T00:19:36.345697Z"
    },
    "papermill": {
     "duration": 82.236139,
     "end_time": "2021-07-05T00:19:36.345838",
     "exception": false,
     "start_time": "2021-07-05T00:18:14.109699",
     "status": "completed"
    },
    "tags": []
   },
   "outputs": [
    {
     "name": "stdout",
     "output_type": "stream",
     "text": [
      "====== Neural Network ======\n"
     ]
    },
    {
     "name": "stdout",
     "output_type": "stream",
     "text": [
      "Epoch 0, Loss 0.2516\n",
      "Training Accuracy: 0.4788, Testing Accuracy: 0.4728\n",
      "\n"
     ]
    },
    {
     "name": "stdout",
     "output_type": "stream",
     "text": [
      "Epoch 10, Loss 0.2244\n",
      "Training Accuracy: 0.8376, Testing Accuracy: 0.8397\n",
      "\n"
     ]
    },
    {
     "name": "stdout",
     "output_type": "stream",
     "text": [
      "Epoch 20, Loss 0.141\n",
      "Training Accuracy: 0.8852, Testing Accuracy: 0.8926\n",
      "\n"
     ]
    },
    {
     "name": "stdout",
     "output_type": "stream",
     "text": [
      "Epoch 30, Loss 0.0778\n",
      "Training Accuracy: 0.9203, Testing Accuracy: 0.9350\n",
      "\n"
     ]
    },
    {
     "name": "stdout",
     "output_type": "stream",
     "text": [
      "Epoch 40, Loss 0.0551\n",
      "Training Accuracy: 0.9402, Testing Accuracy: 0.9516\n",
      "\n"
     ]
    },
    {
     "name": "stdout",
     "output_type": "stream",
     "text": [
      "Epoch 50, Loss 0.0446\n",
      "Training Accuracy: 0.9514, Testing Accuracy: 0.9612\n",
      "\n"
     ]
    },
    {
     "name": "stdout",
     "output_type": "stream",
     "text": [
      "Epoch 60, Loss 0.039\n",
      "Training Accuracy: 0.9555, Testing Accuracy: 0.9637\n",
      "\n"
     ]
    },
    {
     "name": "stdout",
     "output_type": "stream",
     "text": [
      "Epoch 70, Loss 0.0355\n",
      "Training Accuracy: 0.9588, Testing Accuracy: 0.9693\n",
      "\n"
     ]
    },
    {
     "name": "stdout",
     "output_type": "stream",
     "text": [
      "Epoch 80, Loss 0.033\n",
      "Training Accuracy: 0.9611, Testing Accuracy: 0.9703\n",
      "\n"
     ]
    },
    {
     "name": "stdout",
     "output_type": "stream",
     "text": [
      "Epoch 90, Loss 0.0312\n",
      "Training Accuracy: 0.9632, Testing Accuracy: 0.9708\n",
      "\n"
     ]
    },
    {
     "name": "stdout",
     "output_type": "stream",
     "text": [
      "Epoch 100, Loss 0.0297\n",
      "Training Accuracy: 0.9650, Testing Accuracy: 0.9698\n",
      "\n"
     ]
    },
    {
     "name": "stdout",
     "output_type": "stream",
     "text": [
      "Epoch 110, Loss 0.0285\n",
      "Training Accuracy: 0.9664, Testing Accuracy: 0.9698\n",
      "\n"
     ]
    },
    {
     "name": "stdout",
     "output_type": "stream",
     "text": [
      "Epoch 120, Loss 0.0275\n",
      "Training Accuracy: 0.9683, Testing Accuracy: 0.9693\n",
      "\n"
     ]
    },
    {
     "name": "stdout",
     "output_type": "stream",
     "text": [
      "Epoch 130, Loss 0.0266\n",
      "Training Accuracy: 0.9698, Testing Accuracy: 0.9682\n",
      "\n"
     ]
    },
    {
     "name": "stdout",
     "output_type": "stream",
     "text": [
      "Epoch 140, Loss 0.0259\n",
      "Training Accuracy: 0.9705, Testing Accuracy: 0.9677\n",
      "\n"
     ]
    },
    {
     "name": "stdout",
     "output_type": "stream",
     "text": [
      "Epoch 150, Loss 0.0252\n",
      "Training Accuracy: 0.9712, Testing Accuracy: 0.9688\n",
      "\n"
     ]
    },
    {
     "name": "stdout",
     "output_type": "stream",
     "text": [
      "Epoch 160, Loss 0.0245\n",
      "Training Accuracy: 0.9720, Testing Accuracy: 0.9698\n",
      "\n"
     ]
    },
    {
     "name": "stdout",
     "output_type": "stream",
     "text": [
      "Epoch 170, Loss 0.0239\n",
      "Training Accuracy: 0.9725, Testing Accuracy: 0.9688\n",
      "\n"
     ]
    },
    {
     "name": "stdout",
     "output_type": "stream",
     "text": [
      "Epoch 180, Loss 0.0234\n",
      "Training Accuracy: 0.9732, Testing Accuracy: 0.9698\n",
      "\n"
     ]
    },
    {
     "name": "stdout",
     "output_type": "stream",
     "text": [
      "Epoch 190, Loss 0.0228\n",
      "Training Accuracy: 0.9744, Testing Accuracy: 0.9698\n",
      "\n"
     ]
    },
    {
     "name": "stdout",
     "output_type": "stream",
     "text": [
      "Epoch 200, Loss 0.0223\n",
      "Training Accuracy: 0.9749, Testing Accuracy: 0.9698\n",
      "\n"
     ]
    },
    {
     "name": "stdout",
     "output_type": "stream",
     "text": [
      "Epoch 210, Loss 0.0218\n",
      "Training Accuracy: 0.9755, Testing Accuracy: 0.9703\n",
      "\n"
     ]
    },
    {
     "name": "stdout",
     "output_type": "stream",
     "text": [
      "Epoch 220, Loss 0.0214\n",
      "Training Accuracy: 0.9762, Testing Accuracy: 0.9718\n",
      "\n"
     ]
    },
    {
     "name": "stdout",
     "output_type": "stream",
     "text": [
      "Epoch 230, Loss 0.0209\n",
      "Training Accuracy: 0.9767, Testing Accuracy: 0.9723\n",
      "\n"
     ]
    },
    {
     "name": "stdout",
     "output_type": "stream",
     "text": [
      "Epoch 240, Loss 0.0205\n",
      "Training Accuracy: 0.9774, Testing Accuracy: 0.9723\n",
      "\n"
     ]
    },
    {
     "name": "stdout",
     "output_type": "stream",
     "text": [
      "Epoch 250, Loss 0.0201\n",
      "Training Accuracy: 0.9779, Testing Accuracy: 0.9723\n",
      "\n"
     ]
    },
    {
     "data": {
      "text/plain": [
       "0.05794149948786917"
      ]
     },
     "execution_count": 20,
     "metadata": {},
     "output_type": "execute_result"
    }
   ],
   "source": [
    "print(\"====== Neural Network ======\")\n",
    "learner_nn.train_loop(dl)"
   ]
  },
  {
   "cell_type": "markdown",
   "id": "competent-suffering",
   "metadata": {
    "papermill": {
     "duration": 0.038656,
     "end_time": "2021-07-05T00:19:36.425258",
     "exception": false,
     "start_time": "2021-07-05T00:19:36.386602",
     "status": "completed"
    },
    "tags": []
   },
   "source": [
    "### Logistic Regression based Implementation."
   ]
  },
  {
   "cell_type": "code",
   "execution_count": 21,
   "id": "qualified-psychiatry",
   "metadata": {
    "execution": {
     "iopub.execute_input": "2021-07-05T00:19:36.518269Z",
     "iopub.status.busy": "2021-07-05T00:19:36.517692Z",
     "iopub.status.idle": "2021-07-05T00:19:36.521884Z",
     "shell.execute_reply": "2021-07-05T00:19:36.522319Z"
    },
    "papermill": {
     "duration": 0.057285,
     "end_time": "2021-07-05T00:19:36.522454",
     "exception": false,
     "start_time": "2021-07-05T00:19:36.465169",
     "status": "completed"
    },
    "tags": []
   },
   "outputs": [],
   "source": [
    "learner_lr = Learner(loss, model_lr, opt, config.num_epochs)\n",
    "acc_lr = ClfCallback(learner_lr, config.bs, training_xdata , testing_xdata, training_ydata, testing_ydata)\n",
    "learner_lr.set_callbacks([acc_lr])"
   ]
  },
  {
   "cell_type": "code",
   "execution_count": 22,
   "id": "average-outside",
   "metadata": {
    "execution": {
     "iopub.execute_input": "2021-07-05T00:19:36.607143Z",
     "iopub.status.busy": "2021-07-05T00:19:36.605858Z",
     "iopub.status.idle": "2021-07-05T00:19:51.475536Z",
     "shell.execute_reply": "2021-07-05T00:19:51.476092Z"
    },
    "papermill": {
     "duration": 14.914619,
     "end_time": "2021-07-05T00:19:51.476240",
     "exception": false,
     "start_time": "2021-07-05T00:19:36.561621",
     "status": "completed"
    },
    "tags": []
   },
   "outputs": [
    {
     "name": "stdout",
     "output_type": "stream",
     "text": [
      "====== Logistic Regression ======\n",
      "Epoch 0, Loss 0.3022\n",
      "Training Accuracy: 0.4084, Testing Accuracy: 0.4269\n",
      "\n"
     ]
    },
    {
     "name": "stdout",
     "output_type": "stream",
     "text": [
      "Epoch 10, Loss 0.1101\n",
      "Training Accuracy: 0.9014, Testing Accuracy: 0.9143\n",
      "\n"
     ]
    },
    {
     "name": "stdout",
     "output_type": "stream",
     "text": [
      "Epoch 20, Loss 0.0831\n",
      "Training Accuracy: 0.9231, Testing Accuracy: 0.9355\n",
      "\n"
     ]
    },
    {
     "name": "stdout",
     "output_type": "stream",
     "text": [
      "Epoch 30, Loss 0.071\n",
      "Training Accuracy: 0.9330, Testing Accuracy: 0.9471\n",
      "\n"
     ]
    },
    {
     "name": "stdout",
     "output_type": "stream",
     "text": [
      "Epoch 40, Loss 0.0639\n",
      "Training Accuracy: 0.9381, Testing Accuracy: 0.9496\n",
      "\n"
     ]
    },
    {
     "name": "stdout",
     "output_type": "stream",
     "text": [
      "Epoch 50, Loss 0.059\n",
      "Training Accuracy: 0.9417, Testing Accuracy: 0.9521\n",
      "\n"
     ]
    },
    {
     "name": "stdout",
     "output_type": "stream",
     "text": [
      "Epoch 60, Loss 0.0554\n",
      "Training Accuracy: 0.9438, Testing Accuracy: 0.9541\n",
      "\n"
     ]
    },
    {
     "name": "stdout",
     "output_type": "stream",
     "text": [
      "Epoch 70, Loss 0.0527\n",
      "Training Accuracy: 0.9463, Testing Accuracy: 0.9561\n",
      "\n"
     ]
    },
    {
     "name": "stdout",
     "output_type": "stream",
     "text": [
      "Epoch 80, Loss 0.0505\n",
      "Training Accuracy: 0.9482, Testing Accuracy: 0.9592\n",
      "\n"
     ]
    },
    {
     "name": "stdout",
     "output_type": "stream",
     "text": [
      "Epoch 90, Loss 0.0487\n",
      "Training Accuracy: 0.9504, Testing Accuracy: 0.9607\n",
      "\n"
     ]
    },
    {
     "name": "stdout",
     "output_type": "stream",
     "text": [
      "Epoch 100, Loss 0.0472\n",
      "Training Accuracy: 0.9513, Testing Accuracy: 0.9612\n",
      "\n"
     ]
    },
    {
     "name": "stdout",
     "output_type": "stream",
     "text": [
      "Epoch 110, Loss 0.0459\n",
      "Training Accuracy: 0.9527, Testing Accuracy: 0.9617\n",
      "\n"
     ]
    },
    {
     "name": "stdout",
     "output_type": "stream",
     "text": [
      "Epoch 120, Loss 0.0447\n",
      "Training Accuracy: 0.9538, Testing Accuracy: 0.9622\n",
      "\n"
     ]
    },
    {
     "name": "stdout",
     "output_type": "stream",
     "text": [
      "Epoch 130, Loss 0.0437\n",
      "Training Accuracy: 0.9548, Testing Accuracy: 0.9617\n",
      "\n"
     ]
    },
    {
     "name": "stdout",
     "output_type": "stream",
     "text": [
      "Epoch 140, Loss 0.0428\n",
      "Training Accuracy: 0.9554, Testing Accuracy: 0.9642\n",
      "\n"
     ]
    },
    {
     "name": "stdout",
     "output_type": "stream",
     "text": [
      "Epoch 150, Loss 0.0421\n",
      "Training Accuracy: 0.9560, Testing Accuracy: 0.9657\n",
      "\n"
     ]
    },
    {
     "name": "stdout",
     "output_type": "stream",
     "text": [
      "Epoch 160, Loss 0.0413\n",
      "Training Accuracy: 0.9569, Testing Accuracy: 0.9657\n",
      "\n"
     ]
    },
    {
     "name": "stdout",
     "output_type": "stream",
     "text": [
      "Epoch 170, Loss 0.0407\n",
      "Training Accuracy: 0.9580, Testing Accuracy: 0.9657\n",
      "\n"
     ]
    },
    {
     "name": "stdout",
     "output_type": "stream",
     "text": [
      "Epoch 180, Loss 0.0401\n",
      "Training Accuracy: 0.9585, Testing Accuracy: 0.9657\n",
      "\n"
     ]
    },
    {
     "name": "stdout",
     "output_type": "stream",
     "text": [
      "Epoch 190, Loss 0.0396\n",
      "Training Accuracy: 0.9589, Testing Accuracy: 0.9667\n",
      "\n"
     ]
    },
    {
     "name": "stdout",
     "output_type": "stream",
     "text": [
      "Epoch 200, Loss 0.0391\n",
      "Training Accuracy: 0.9593, Testing Accuracy: 0.9662\n",
      "\n"
     ]
    },
    {
     "name": "stdout",
     "output_type": "stream",
     "text": [
      "Epoch 210, Loss 0.0386\n",
      "Training Accuracy: 0.9601, Testing Accuracy: 0.9662\n",
      "\n"
     ]
    },
    {
     "name": "stdout",
     "output_type": "stream",
     "text": [
      "Epoch 220, Loss 0.0382\n",
      "Training Accuracy: 0.9604, Testing Accuracy: 0.9662\n",
      "\n"
     ]
    },
    {
     "name": "stdout",
     "output_type": "stream",
     "text": [
      "Epoch 230, Loss 0.0377\n",
      "Training Accuracy: 0.9610, Testing Accuracy: 0.9667\n",
      "\n"
     ]
    },
    {
     "name": "stdout",
     "output_type": "stream",
     "text": [
      "Epoch 240, Loss 0.0374\n",
      "Training Accuracy: 0.9614, Testing Accuracy: 0.9672\n",
      "\n"
     ]
    },
    {
     "name": "stdout",
     "output_type": "stream",
     "text": [
      "Epoch 250, Loss 0.037\n",
      "Training Accuracy: 0.9615, Testing Accuracy: 0.9672\n",
      "\n"
     ]
    },
    {
     "data": {
      "text/plain": [
       "0.060147931564838594"
      ]
     },
     "execution_count": 22,
     "metadata": {},
     "output_type": "execute_result"
    }
   ],
   "source": [
    "print(\"====== Logistic Regression ======\")\n",
    "learner_lr.train_loop(dl)"
   ]
  },
  {
   "cell_type": "markdown",
   "id": "adjusted-possible",
   "metadata": {
    "papermill": {
     "duration": 0.046135,
     "end_time": "2021-07-05T00:19:51.573464",
     "exception": false,
     "start_time": "2021-07-05T00:19:51.527329",
     "status": "completed"
    },
    "tags": []
   },
   "source": [
    "### Comparing results of NN and LR"
   ]
  },
  {
   "cell_type": "code",
   "execution_count": 23,
   "id": "mental-multimedia",
   "metadata": {
    "execution": {
     "iopub.execute_input": "2021-07-05T00:19:51.673294Z",
     "iopub.status.busy": "2021-07-05T00:19:51.670602Z",
     "iopub.status.idle": "2021-07-05T00:19:51.925705Z",
     "shell.execute_reply": "2021-07-05T00:19:51.925190Z"
    },
    "papermill": {
     "duration": 0.305737,
     "end_time": "2021-07-05T00:19:51.925833",
     "exception": false,
     "start_time": "2021-07-05T00:19:51.620096",
     "status": "completed"
    },
    "tags": []
   },
   "outputs": [
    {
     "data": {
      "text/plain": [
       "<matplotlib.legend.Legend at 0x7f4cccbe8198>"
      ]
     },
     "execution_count": 23,
     "metadata": {},
     "output_type": "execute_result"
    },
    {
     "data": {
      "image/png": "[encoded data removed]",
      "text/plain": [
       "<Figure size 1080x720 with 1 Axes>"
      ]
     },
     "metadata": {
      "needs_background": "light"
     },
     "output_type": "display_data"
    }
   ],
   "source": [
    "plt.figure(figsize=(15,10))\n",
    "\n",
    "# Neural Network plots\n",
    "plt.plot(acc_nn.accuracies, 'r-', label = \"Training Accuracies - NN\")\n",
    "plt.plot(acc_nn.test_accuracies, 'g-', label = \"Testing Accuracies - NN\")\n",
    "\n",
    "# Logistic Regression plots\n",
    "plt.plot(acc_lr.accuracies, 'k-', label = \"Training Accuracies - LR\")\n",
    "plt.plot(acc_lr.test_accuracies, 'b-', label = \"Testing Accuracies - LR\")\n",
    "\n",
    "plt.ylim(0.8, 1)\n",
    "\n",
    "plt.legend()\n",
    "\n"
   ]
  },
  {
   "cell_type": "markdown",
   "id": "sexual-flesh",
   "metadata": {
    "papermill": {
     "duration": 0.048038,
     "end_time": "2021-07-05T00:19:52.022223",
     "exception": false,
     "start_time": "2021-07-05T00:19:51.974185",
     "status": "completed"
    },
    "tags": []
   },
   "source": [
    "### From the plot, we can observe the following:\n",
    "- Neural Network achieves higher accuracy than the Logistic Regression model.\n",
    "- This apparently, is because of overfitting, i.e. NN captures more noise than data.\n",
    "- Testing accuracy of NN drops below the Training accuracy at higher epochs. This explains the over-fitting on training data.\n",
    "- Logistic Regression gives a reliable accuracy, without the above mentioned problem.\n"
   ]
  },
  {
   "cell_type": "markdown",
   "id": "institutional-pacific",
   "metadata": {
    "papermill": {
     "duration": 0.049274,
     "end_time": "2021-07-05T00:19:52.121045",
     "exception": false,
     "start_time": "2021-07-05T00:19:52.071771",
     "status": "completed"
    },
    "tags": []
   },
   "source": [
    "### Moving till the last but one layer (excluding it).\n",
    "#### Plotting the outputs of this layer of the NN."
   ]
  },
  {
   "cell_type": "code",
   "execution_count": 24,
   "id": "economic-server",
   "metadata": {
    "execution": {
     "iopub.execute_input": "2021-07-05T00:19:52.222989Z",
     "iopub.status.busy": "2021-07-05T00:19:52.220326Z",
     "iopub.status.idle": "2021-07-05T00:19:52.233681Z",
     "shell.execute_reply": "2021-07-05T00:19:52.234113Z"
    },
    "papermill": {
     "duration": 0.065556,
     "end_time": "2021-07-05T00:19:52.234242",
     "exception": false,
     "start_time": "2021-07-05T00:19:52.168686",
     "status": "completed"
    },
    "tags": []
   },
   "outputs": [],
   "source": [
    "model_new = Model(layers[:-2])"
   ]
  },
  {
   "cell_type": "code",
   "execution_count": 25,
   "id": "varied-upgrade",
   "metadata": {
    "execution": {
     "iopub.execute_input": "2021-07-05T00:19:52.334043Z",
     "iopub.status.busy": "2021-07-05T00:19:52.330540Z",
     "iopub.status.idle": "2021-07-05T00:19:52.352120Z",
     "shell.execute_reply": "2021-07-05T00:19:52.352810Z"
    },
    "papermill": {
     "duration": 0.073489,
     "end_time": "2021-07-05T00:19:52.352954",
     "exception": false,
     "start_time": "2021-07-05T00:19:52.279465",
     "status": "completed"
    },
    "tags": []
   },
   "outputs": [],
   "source": [
    "plot_testing = model_new(testing_xdata)"
   ]
  },
  {
   "cell_type": "code",
   "execution_count": 26,
   "id": "specific-handling",
   "metadata": {
    "execution": {
     "iopub.execute_input": "2021-07-05T00:19:52.494396Z",
     "iopub.status.busy": "2021-07-05T00:19:52.493801Z",
     "iopub.status.idle": "2021-07-05T00:19:52.732030Z",
     "shell.execute_reply": "2021-07-05T00:19:52.731420Z"
    },
    "papermill": {
     "duration": 0.29156,
     "end_time": "2021-07-05T00:19:52.732160",
     "exception": false,
     "start_time": "2021-07-05T00:19:52.440600",
     "status": "completed"
    },
    "tags": []
   },
   "outputs": [
    {
     "data": {
      "text/plain": [
       "Text(0.5, 1.0, 'Outputs')"
      ]
     },
     "execution_count": 26,
     "metadata": {},
     "output_type": "execute_result"
    },
    {
     "data": {
      "image/png": "[encoded data removed]",
      "text/plain": [
       "<Figure size 576x504 with 1 Axes>"
      ]
     },
     "metadata": {
      "needs_background": "light"
     },
     "output_type": "display_data"
    }
   ],
   "source": [
    "plt.figure(figsize=(8,7))\n",
    "plt.scatter(plot_testing[:,0], plot_testing[:,1], alpha = 0.1, c = y_test.ravel());\n",
    "plt.title('Outputs')"
   ]
  },
  {
   "cell_type": "markdown",
   "id": "described-knowing",
   "metadata": {
    "papermill": {
     "duration": 0.051863,
     "end_time": "2021-07-05T00:19:52.836719",
     "exception": false,
     "start_time": "2021-07-05T00:19:52.784856",
     "status": "completed"
    },
    "tags": []
   },
   "source": [
    "### Plotting probability contours"
   ]
  },
  {
   "cell_type": "code",
   "execution_count": 27,
   "id": "needed-growing",
   "metadata": {
    "execution": {
     "iopub.execute_input": "2021-07-05T00:19:52.948533Z",
     "iopub.status.busy": "2021-07-05T00:19:52.947946Z",
     "iopub.status.idle": "2021-07-05T00:19:52.961486Z",
     "shell.execute_reply": "2021-07-05T00:19:52.961961Z"
    },
    "papermill": {
     "duration": 0.072834,
     "end_time": "2021-07-05T00:19:52.962123",
     "exception": false,
     "start_time": "2021-07-05T00:19:52.889289",
     "status": "completed"
    },
    "tags": []
   },
   "outputs": [],
   "source": [
    "model_prob = Model(layers[-2:]) "
   ]
  },
  {
   "cell_type": "code",
   "execution_count": 28,
   "id": "introductory-enforcement",
   "metadata": {
    "execution": {
     "iopub.execute_input": "2021-07-05T00:19:53.069688Z",
     "iopub.status.busy": "2021-07-05T00:19:53.068974Z",
     "iopub.status.idle": "2021-07-05T00:19:53.084278Z",
     "shell.execute_reply": "2021-07-05T00:19:53.084734Z"
    },
    "papermill": {
     "duration": 0.07157,
     "end_time": "2021-07-05T00:19:53.084866",
     "exception": false,
     "start_time": "2021-07-05T00:19:53.013296",
     "status": "completed"
    },
    "tags": []
   },
   "outputs": [],
   "source": [
    "# Adjust the x and y ranges according to the above generated plot.\n",
    "x_range = np.linspace(-4, 1, 100) \n",
    "y_range = np.linspace(-6, 6, 100) \n",
    "x_grid, y_grid = np.meshgrid(x_range, y_range) # x_grid and y_grig are of size 100 X 100\n",
    "\n",
    "# converting x_grid and y_grid to continuous arrays\n",
    "x_grid_flat = np.ravel(x_grid)\n",
    "y_grid_flat = np.ravel(y_grid)\n",
    "\n",
    "# The last layer of the current model takes two columns as input. Hence transpose of np.vstack() is required.\n",
    "X = np.vstack((x_grid_flat, y_grid_flat)).T\n",
    "\n",
    "# x_grid and y_grid are of size 100 x 100\n",
    "probability_contour = model_prob(X).reshape(100,100) "
   ]
  },
  {
   "cell_type": "code",
   "execution_count": 29,
   "id": "understood-landing",
   "metadata": {
    "execution": {
     "iopub.execute_input": "2021-07-05T00:19:53.199600Z",
     "iopub.status.busy": "2021-07-05T00:19:53.199007Z",
     "iopub.status.idle": "2021-07-05T00:19:53.474958Z",
     "shell.execute_reply": "2021-07-05T00:19:53.474470Z"
    },
    "papermill": {
     "duration": 0.33233,
     "end_time": "2021-07-05T00:19:53.475091",
     "exception": false,
     "start_time": "2021-07-05T00:19:53.142761",
     "status": "completed"
    },
    "tags": []
   },
   "outputs": [
    {
     "data": {
      "image/png": "[encoded data removed]",
      "text/plain": [
       "<Figure size 720x648 with 1 Axes>"
      ]
     },
     "metadata": {
      "needs_background": "light"
     },
     "output_type": "display_data"
    }
   ],
   "source": [
    "plt.figure(figsize=(10,9))\n",
    "plt.scatter(plot_testing[:,0], plot_testing[:,1], alpha = 0.1, c = y_test.ravel())\n",
    "contours = plt.contour(x_grid,y_grid,probability_contour)\n",
    "plt.title('Probability Contours')\n",
    "plt.clabel(contours, inline = True );"
   ]
  }
 ],
 "metadata": {
  "kernelspec": {
   "display_name": "Python 3",
   "language": "python",
   "name": "python3"
  },
  "language_info": {
   "codemirror_mode": {
    "name": "ipython",
    "version": 3
   },
   "file_extension": ".py",
   "mimetype": "text/x-python",
   "name": "python",
   "nbconvert_exporter": "python",
   "pygments_lexer": "ipython3",
   "version": "3.6.13"
  },
  "papermill": {
   "duration": 322.055875,
   "end_time": "2021-07-05T00:19:53.939794",
   "environment_variables": {},
   "exception": null,
   "input_path": "2020-08-11-NeuralNetwork.ipynb",
   "output_path": "2020-08-11-NeuralNetwork.ipynb",
   "parameters": {},
   "start_time": "2021-07-05T00:14:31.883919",
   "version": "2.1.2"
  }
 },
 "nbformat": 4,
 "nbformat_minor": 5
}