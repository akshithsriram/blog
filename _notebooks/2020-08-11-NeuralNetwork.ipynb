{
 "cells": [
  {
   "cell_type": "markdown",
   "metadata": {
    "papermill": {
     "duration": 0.032818,
     "end_time": "2020-11-01T00:05:40.582720",
     "exception": false,
     "start_time": "2020-11-01T00:05:40.549902",
     "status": "completed"
    },
    "tags": []
   },
   "source": [
    "# \"A Basic Neural Network: Differentiate Hand-Written Digits\"\n",
    "\n",
    "- badges: true\n",
    "- author: Akshith Sriram"
   ]
  },
  {
   "cell_type": "markdown",
   "metadata": {
    "papermill": {
     "duration": 0.026209,
     "end_time": "2020-11-01T00:05:40.637237",
     "exception": false,
     "start_time": "2020-11-01T00:05:40.611028",
     "status": "completed"
    },
    "tags": []
   },
   "source": [
    "### Key Objectives:\n",
    "- Building a neural network that differentiates two hand-written digits 3 and 8.\n",
    "- Comparing the results of this Neural Network (NN) to that of a Logistic Regression (LR) model.\n",
    "\n",
    "### Requirements:\n",
    "- 'Kudzu' : A neural network library that was designed during our course by [Univ.AI](www.univ.ai). \n",
    "- MNIST Database\n",
    "\n",
    "If MNIST is not installed, use the command `!pip install mnist` given below.\n",
    "It can be run both from the command line and Jupyter Notebook."
   ]
  },
  {
   "cell_type": "code",
   "execution_count": 1,
   "metadata": {
    "execution": {
     "iopub.execute_input": "2020-11-01T00:05:40.694529Z",
     "iopub.status.busy": "2020-11-01T00:05:40.693920Z",
     "iopub.status.idle": "2020-11-01T00:05:42.144268Z",
     "shell.execute_reply": "2020-11-01T00:05:42.143706Z"
    },
    "papermill": {
     "duration": 1.480527,
     "end_time": "2020-11-01T00:05:42.144425",
     "exception": false,
     "start_time": "2020-11-01T00:05:40.663898",
     "status": "completed"
    },
    "tags": []
   },
   "outputs": [
    {
     "name": "stdout",
     "output_type": "stream",
     "text": [
      "Collecting mnist\r\n"
     ]
    },
    {
     "name": "stdout",
     "output_type": "stream",
     "text": [
      "  Downloading mnist-0.2.2-py2.py3-none-any.whl (3.5 kB)\r\n",
      "Requirement already satisfied: numpy in /opt/hostedtoolcache/Python/3.6.12/x64/lib/python3.6/site-packages (from mnist) (1.19.3)\r\n"
     ]
    },
    {
     "name": "stdout",
     "output_type": "stream",
     "text": [
      "Installing collected packages: mnist\r\n"
     ]
    },
    {
     "name": "stdout",
     "output_type": "stream",
     "text": [
      "Successfully installed mnist-0.2.2\r\n"
     ]
    }
   ],
   "source": [
    "!pip install mnist "
   ]
  },
  {
   "cell_type": "markdown",
   "metadata": {
    "papermill": {
     "duration": 0.025793,
     "end_time": "2020-11-01T00:05:42.198333",
     "exception": false,
     "start_time": "2020-11-01T00:05:42.172540",
     "status": "completed"
    },
    "tags": []
   },
   "source": [
    "#### Importing necessary libraries"
   ]
  },
  {
   "cell_type": "code",
   "execution_count": 2,
   "metadata": {
    "execution": {
     "iopub.execute_input": "2020-11-01T00:05:42.259151Z",
     "iopub.status.busy": "2020-11-01T00:05:42.258577Z",
     "iopub.status.idle": "2020-11-01T00:05:42.813403Z",
     "shell.execute_reply": "2020-11-01T00:05:42.812876Z"
    },
    "papermill": {
     "duration": 0.587605,
     "end_time": "2020-11-01T00:05:42.813539",
     "exception": false,
     "start_time": "2020-11-01T00:05:42.225934",
     "status": "completed"
    },
    "tags": []
   },
   "outputs": [],
   "source": [
    "%load_ext autoreload\n",
    "%autoreload 2\n",
    "\n",
    "%matplotlib inline\n",
    "import matplotlib.pyplot as plt\n",
    "\n",
    "import numpy as np\n",
    "import pandas as pd"
   ]
  },
  {
   "cell_type": "markdown",
   "metadata": {
    "papermill": {
     "duration": 0.025606,
     "end_time": "2020-11-01T00:05:42.865404",
     "exception": false,
     "start_time": "2020-11-01T00:05:42.839798",
     "status": "completed"
    },
    "tags": []
   },
   "source": [
    "### Preparing the Data"
   ]
  },
  {
   "cell_type": "code",
   "execution_count": 3,
   "metadata": {
    "execution": {
     "iopub.execute_input": "2020-11-01T00:05:42.930584Z",
     "iopub.status.busy": "2020-11-01T00:05:42.925871Z",
     "iopub.status.idle": "2020-11-01T00:05:42.938418Z",
     "shell.execute_reply": "2020-11-01T00:05:42.938910Z"
    },
    "papermill": {
     "duration": 0.046757,
     "end_time": "2020-11-01T00:05:42.939033",
     "exception": false,
     "start_time": "2020-11-01T00:05:42.892276",
     "status": "completed"
    },
    "tags": []
   },
   "outputs": [],
   "source": [
    "import mnist"
   ]
  },
  {
   "cell_type": "code",
   "execution_count": 4,
   "metadata": {
    "execution": {
     "iopub.execute_input": "2020-11-01T00:05:42.998649Z",
     "iopub.status.busy": "2020-11-01T00:05:42.997978Z",
     "iopub.status.idle": "2020-11-01T00:05:44.614635Z",
     "shell.execute_reply": "2020-11-01T00:05:44.614019Z"
    },
    "papermill": {
     "duration": 1.650163,
     "end_time": "2020-11-01T00:05:44.614777",
     "exception": false,
     "start_time": "2020-11-01T00:05:42.964614",
     "status": "completed"
    },
    "tags": []
   },
   "outputs": [],
   "source": [
    "train_images = mnist.train_images()\n",
    "train_labels = mnist.train_labels()"
   ]
  },
  {
   "cell_type": "code",
   "execution_count": 5,
   "metadata": {
    "execution": {
     "iopub.execute_input": "2020-11-01T00:05:44.686895Z",
     "iopub.status.busy": "2020-11-01T00:05:44.683393Z",
     "iopub.status.idle": "2020-11-01T00:05:44.690287Z",
     "shell.execute_reply": "2020-11-01T00:05:44.689768Z"
    },
    "papermill": {
     "duration": 0.047369,
     "end_time": "2020-11-01T00:05:44.690402",
     "exception": false,
     "start_time": "2020-11-01T00:05:44.643033",
     "status": "completed"
    },
    "tags": []
   },
   "outputs": [
    {
     "data": {
      "text/plain": [
       "((60000, 28, 28), (60000,))"
      ]
     },
     "execution_count": 5,
     "metadata": {},
     "output_type": "execute_result"
    }
   ],
   "source": [
    "train_images.shape, train_labels.shape"
   ]
  },
  {
   "cell_type": "code",
   "execution_count": 6,
   "metadata": {
    "execution": {
     "iopub.execute_input": "2020-11-01T00:05:44.750419Z",
     "iopub.status.busy": "2020-11-01T00:05:44.749746Z",
     "iopub.status.idle": "2020-11-01T00:05:45.605408Z",
     "shell.execute_reply": "2020-11-01T00:05:45.604201Z"
    },
    "papermill": {
     "duration": 0.887903,
     "end_time": "2020-11-01T00:05:45.605584",
     "exception": false,
     "start_time": "2020-11-01T00:05:44.717681",
     "status": "completed"
    },
    "tags": []
   },
   "outputs": [],
   "source": [
    "test_images = mnist.test_images()\n",
    "test_labels = mnist.test_labels()"
   ]
  },
  {
   "cell_type": "code",
   "execution_count": 7,
   "metadata": {
    "execution": {
     "iopub.execute_input": "2020-11-01T00:05:45.670954Z",
     "iopub.status.busy": "2020-11-01T00:05:45.665042Z",
     "iopub.status.idle": "2020-11-01T00:05:45.678766Z",
     "shell.execute_reply": "2020-11-01T00:05:45.678244Z"
    },
    "papermill": {
     "duration": 0.045171,
     "end_time": "2020-11-01T00:05:45.678900",
     "exception": false,
     "start_time": "2020-11-01T00:05:45.633729",
     "status": "completed"
    },
    "tags": []
   },
   "outputs": [
    {
     "data": {
      "text/plain": [
       "((10000, 28, 28), (10000,))"
      ]
     },
     "execution_count": 7,
     "metadata": {},
     "output_type": "execute_result"
    }
   ],
   "source": [
    "test_images.shape, test_labels.shape"
   ]
  },
  {
   "cell_type": "code",
   "execution_count": 8,
   "metadata": {
    "execution": {
     "iopub.execute_input": "2020-11-01T00:05:45.740029Z",
     "iopub.status.busy": "2020-11-01T00:05:45.739256Z",
     "iopub.status.idle": "2020-11-01T00:05:45.901957Z",
     "shell.execute_reply": "2020-11-01T00:05:45.902478Z"
    },
    "papermill": {
     "duration": 0.193989,
     "end_time": "2020-11-01T00:05:45.902636",
     "exception": false,
     "start_time": "2020-11-01T00:05:45.708647",
     "status": "completed"
    },
    "tags": []
   },
   "outputs": [
    {
     "name": "stdout",
     "output_type": "stream",
     "text": [
      "2\n"
     ]
    },
    {
     "data": {
      "text/plain": [
       "<matplotlib.image.AxesImage at 0x7fe357044470>"
      ]
     },
     "execution_count": 8,
     "metadata": {},
     "output_type": "execute_result"
    },
    {
     "data": {
      "image/png": "[encoded data removed]",
      "text/plain": [
       "<Figure size 432x288 with 1 Axes>"
      ]
     },
     "metadata": {
      "needs_background": "light"
     },
     "output_type": "display_data"
    }
   ],
   "source": [
    "image_index = 7776 # You may select anything up to 60,000\n",
    "print(train_labels[image_index]) \n",
    "plt.imshow(train_images[image_index], cmap='Greys')"
   ]
  },
  {
   "cell_type": "markdown",
   "metadata": {
    "papermill": {
     "duration": 0.027585,
     "end_time": "2020-11-01T00:05:45.959986",
     "exception": false,
     "start_time": "2020-11-01T00:05:45.932401",
     "status": "completed"
    },
    "tags": []
   },
   "source": [
    "## Filter data to get 3 and 8 out"
   ]
  },
  {
   "cell_type": "code",
   "execution_count": 9,
   "metadata": {
    "execution": {
     "iopub.execute_input": "2020-11-01T00:05:46.020932Z",
     "iopub.status.busy": "2020-11-01T00:05:46.020316Z",
     "iopub.status.idle": "2020-11-01T00:05:46.037704Z",
     "shell.execute_reply": "2020-11-01T00:05:46.037208Z"
    },
    "papermill": {
     "duration": 0.049326,
     "end_time": "2020-11-01T00:05:46.037837",
     "exception": false,
     "start_time": "2020-11-01T00:05:45.988511",
     "status": "completed"
    },
    "tags": []
   },
   "outputs": [],
   "source": [
    "train_filter = np.where((train_labels == 3 ) | (train_labels == 8))\n",
    "test_filter = np.where((test_labels == 3) | (test_labels == 8))\n",
    "X_train, y_train = train_images[train_filter], train_labels[train_filter]\n",
    "X_test, y_test = test_images[test_filter], test_labels[test_filter]"
   ]
  },
  {
   "cell_type": "markdown",
   "metadata": {
    "papermill": {
     "duration": 0.02869,
     "end_time": "2020-11-01T00:05:46.097223",
     "exception": false,
     "start_time": "2020-11-01T00:05:46.068533",
     "status": "completed"
    },
    "tags": []
   },
   "source": [
    "We normalize the pixel values in the 0 to 1 range"
   ]
  },
  {
   "cell_type": "code",
   "execution_count": 10,
   "metadata": {
    "execution": {
     "iopub.execute_input": "2020-11-01T00:05:46.163163Z",
     "iopub.status.busy": "2020-11-01T00:05:46.155637Z",
     "iopub.status.idle": "2020-11-01T00:05:46.210676Z",
     "shell.execute_reply": "2020-11-01T00:05:46.210039Z"
    },
    "papermill": {
     "duration": 0.086226,
     "end_time": "2020-11-01T00:05:46.210820",
     "exception": false,
     "start_time": "2020-11-01T00:05:46.124594",
     "status": "completed"
    },
    "tags": []
   },
   "outputs": [],
   "source": [
    "X_train = X_train/255.\n",
    "X_test = X_test/255."
   ]
  },
  {
   "cell_type": "markdown",
   "metadata": {
    "papermill": {
     "duration": 0.027923,
     "end_time": "2020-11-01T00:05:46.267142",
     "exception": false,
     "start_time": "2020-11-01T00:05:46.239219",
     "status": "completed"
    },
    "tags": []
   },
   "source": [
    "Setup the labels as 1 (when the digit is 3) and 0 (when the digit is 8)"
   ]
  },
  {
   "cell_type": "code",
   "execution_count": 11,
   "metadata": {
    "execution": {
     "iopub.execute_input": "2020-11-01T00:05:46.333416Z",
     "iopub.status.busy": "2020-11-01T00:05:46.332844Z",
     "iopub.status.idle": "2020-11-01T00:05:46.342115Z",
     "shell.execute_reply": "2020-11-01T00:05:46.341592Z"
    },
    "papermill": {
     "duration": 0.047196,
     "end_time": "2020-11-01T00:05:46.342229",
     "exception": false,
     "start_time": "2020-11-01T00:05:46.295033",
     "status": "completed"
    },
    "tags": []
   },
   "outputs": [],
   "source": [
    "y_train = 1*(y_train==3)\n",
    "y_test = 1*(y_test==3)"
   ]
  },
  {
   "cell_type": "code",
   "execution_count": 12,
   "metadata": {
    "execution": {
     "iopub.execute_input": "2020-11-01T00:05:46.402030Z",
     "iopub.status.busy": "2020-11-01T00:05:46.401216Z",
     "iopub.status.idle": "2020-11-01T00:05:46.412189Z",
     "shell.execute_reply": "2020-11-01T00:05:46.412730Z"
    },
    "papermill": {
     "duration": 0.044056,
     "end_time": "2020-11-01T00:05:46.412856",
     "exception": false,
     "start_time": "2020-11-01T00:05:46.368800",
     "status": "completed"
    },
    "tags": []
   },
   "outputs": [
    {
     "data": {
      "text/plain": [
       "((11982, 28, 28), (1984, 28, 28))"
      ]
     },
     "execution_count": 12,
     "metadata": {},
     "output_type": "execute_result"
    }
   ],
   "source": [
    "X_train.shape, X_test.shape"
   ]
  },
  {
   "cell_type": "markdown",
   "metadata": {
    "papermill": {
     "duration": 0.027931,
     "end_time": "2020-11-01T00:05:46.469687",
     "exception": false,
     "start_time": "2020-11-01T00:05:46.441756",
     "status": "completed"
    },
    "tags": []
   },
   "source": [
    "### Reshape the input data to create a linear array"
   ]
  },
  {
   "cell_type": "code",
   "execution_count": 13,
   "metadata": {
    "execution": {
     "iopub.execute_input": "2020-11-01T00:05:46.528560Z",
     "iopub.status.busy": "2020-11-01T00:05:46.527997Z",
     "iopub.status.idle": "2020-11-01T00:05:46.538959Z",
     "shell.execute_reply": "2020-11-01T00:05:46.539398Z"
    },
    "papermill": {
     "duration": 0.042382,
     "end_time": "2020-11-01T00:05:46.539522",
     "exception": false,
     "start_time": "2020-11-01T00:05:46.497140",
     "status": "completed"
    },
    "tags": []
   },
   "outputs": [
    {
     "data": {
      "text/plain": [
       "((11982, 784), (1984, 784))"
      ]
     },
     "execution_count": 13,
     "metadata": {},
     "output_type": "execute_result"
    }
   ],
   "source": [
    "X_train = X_train.reshape(X_train.shape[0], -1)\n",
    "X_test = X_test.reshape(X_test.shape[0], -1)\n",
    "X_train.shape, X_test.shape"
   ]
  },
  {
   "cell_type": "markdown",
   "metadata": {
    "papermill": {
     "duration": 0.028555,
     "end_time": "2020-11-01T00:05:46.595980",
     "exception": false,
     "start_time": "2020-11-01T00:05:46.567425",
     "status": "completed"
    },
    "tags": []
   },
   "source": [
    "### Importing appropriate functions from 'Kudzu'"
   ]
  },
  {
   "cell_type": "code",
   "execution_count": 14,
   "metadata": {
    "execution": {
     "iopub.execute_input": "2020-11-01T00:05:46.656487Z",
     "iopub.status.busy": "2020-11-01T00:05:46.655914Z",
     "iopub.status.idle": "2020-11-01T00:05:46.674216Z",
     "shell.execute_reply": "2020-11-01T00:05:46.674759Z"
    },
    "papermill": {
     "duration": 0.050124,
     "end_time": "2020-11-01T00:05:46.674886",
     "exception": false,
     "start_time": "2020-11-01T00:05:46.624762",
     "status": "completed"
    },
    "tags": []
   },
   "outputs": [],
   "source": [
    "from kudzu.layer import Sigmoid\n",
    "from kudzu.layer import Relu\n",
    "from kudzu.layer import Affine, Sigmoid\n",
    "\n",
    "from kudzu.model import Model\n",
    "from kudzu.train import Learner\n",
    "from kudzu.optim import GD\n",
    "from kudzu.data import Data, Dataloader, Sampler\n",
    "\n",
    "from kudzu.callbacks import AccCallback\n",
    "from kudzu.callbacks import ClfCallback\n",
    "\n",
    "from kudzu.loss import MSE"
   ]
  },
  {
   "cell_type": "markdown",
   "metadata": {
    "papermill": {
     "duration": 0.028458,
     "end_time": "2020-11-01T00:05:46.731824",
     "exception": false,
     "start_time": "2020-11-01T00:05:46.703366",
     "status": "completed"
    },
    "tags": []
   },
   "source": [
    "### Let us create a `Config` class, to store important parameters. \n",
    "This class essentially plays the role of a dictionary."
   ]
  },
  {
   "cell_type": "code",
   "execution_count": 15,
   "metadata": {
    "execution": {
     "iopub.execute_input": "2020-11-01T00:05:46.803749Z",
     "iopub.status.busy": "2020-11-01T00:05:46.803156Z",
     "iopub.status.idle": "2020-11-01T00:05:46.811862Z",
     "shell.execute_reply": "2020-11-01T00:05:46.812386Z"
    },
    "papermill": {
     "duration": 0.050749,
     "end_time": "2020-11-01T00:05:46.812532",
     "exception": false,
     "start_time": "2020-11-01T00:05:46.761783",
     "status": "completed"
    },
    "tags": []
   },
   "outputs": [],
   "source": [
    "class Config:\n",
    "    pass\n",
    "config = Config()\n",
    "config.lr = 0.001\n",
    "config.num_epochs = 251\n",
    "config.bs = 50"
   ]
  },
  {
   "cell_type": "markdown",
   "metadata": {
    "papermill": {
     "duration": 0.027918,
     "end_time": "2020-11-01T00:05:46.869741",
     "exception": false,
     "start_time": "2020-11-01T00:05:46.841823",
     "status": "completed"
    },
    "tags": []
   },
   "source": [
    "### Initializing data to the variables"
   ]
  },
  {
   "cell_type": "code",
   "execution_count": 16,
   "metadata": {
    "execution": {
     "iopub.execute_input": "2020-11-01T00:05:46.937100Z",
     "iopub.status.busy": "2020-11-01T00:05:46.930347Z",
     "iopub.status.idle": "2020-11-01T00:05:46.944994Z",
     "shell.execute_reply": "2020-11-01T00:05:46.945446Z"
    },
    "papermill": {
     "duration": 0.046485,
     "end_time": "2020-11-01T00:05:46.945582",
     "exception": false,
     "start_time": "2020-11-01T00:05:46.899097",
     "status": "completed"
    },
    "tags": []
   },
   "outputs": [],
   "source": [
    "data = Data(X_train, y_train.reshape(-1,1))\n",
    "sampler = Sampler(data, config.bs, shuffle=True)\n",
    "\n",
    "dl = Dataloader(data, sampler)\n",
    "\n",
    "opt = GD(config.lr)\n",
    "loss = MSE()"
   ]
  },
  {
   "cell_type": "code",
   "execution_count": 17,
   "metadata": {
    "execution": {
     "iopub.execute_input": "2020-11-01T00:05:47.007903Z",
     "iopub.status.busy": "2020-11-01T00:05:47.007331Z",
     "iopub.status.idle": "2020-11-01T00:05:47.017343Z",
     "shell.execute_reply": "2020-11-01T00:05:47.017842Z"
    },
    "papermill": {
     "duration": 0.043179,
     "end_time": "2020-11-01T00:05:47.017988",
     "exception": false,
     "start_time": "2020-11-01T00:05:46.974809",
     "status": "completed"
    },
    "tags": []
   },
   "outputs": [],
   "source": [
    "training_xdata = X_train\n",
    "testing_xdata = X_test\n",
    "training_ydata = y_train.reshape(-1,1)\n",
    "testing_ydata = y_test.reshape(-1,1)"
   ]
  },
  {
   "cell_type": "markdown",
   "metadata": {
    "papermill": {
     "duration": 0.030816,
     "end_time": "2020-11-01T00:05:47.081563",
     "exception": false,
     "start_time": "2020-11-01T00:05:47.050747",
     "status": "completed"
    },
    "tags": []
   },
   "source": [
    "### Running Models with the Training data\n",
    "Details about the network layers:\n",
    "- A first affine layer has 784 inputs and does 100 affine transforms. These are followed by a Relu\n",
    "- A second affine layer has 100 inputs from the 100 activations of the past layer, and does 100 affine transforms. These are followed by a Relu\n",
    "- A third affine layer has 100 activations and does 2 affine transformations to create an embedding for visualization. There is no non-linearity here.\n",
    "- A final \"logistic regression\" which has an affine transform from 2 inputs to 1 output, which is squeezed through a sigmoid.\n",
    "\n",
    "Help taken from Anshuman's Notebook."
   ]
  },
  {
   "cell_type": "code",
   "execution_count": 18,
   "metadata": {
    "execution": {
     "iopub.execute_input": "2020-11-01T00:05:47.150272Z",
     "iopub.status.busy": "2020-11-01T00:05:47.149670Z",
     "iopub.status.idle": "2020-11-01T00:05:47.160676Z",
     "shell.execute_reply": "2020-11-01T00:05:47.161224Z"
    },
    "papermill": {
     "duration": 0.051704,
     "end_time": "2020-11-01T00:05:47.161352",
     "exception": false,
     "start_time": "2020-11-01T00:05:47.109648",
     "status": "completed"
    },
    "tags": []
   },
   "outputs": [],
   "source": [
    "# layers for the Neural Network\n",
    "layers = [Affine(\"first\", 784, 100), Relu(\"first\"), Affine(\"second\", 100, 100), Relu(\"second\"), Affine(\"third\", 100, 2), Affine(\"final\", 2, 1), Sigmoid(\"final\")]\n",
    "model_nn = Model(layers)\n",
    "\n",
    "# layers for the Logistic Regression\n",
    "layers_lr = [Affine(\"logits\", 784, 1), Sigmoid(\"sigmoid\")]\n",
    "model_lr = Model(layers_lr)"
   ]
  },
  {
   "cell_type": "code",
   "execution_count": 19,
   "metadata": {
    "execution": {
     "iopub.execute_input": "2020-11-01T00:05:47.234994Z",
     "iopub.status.busy": "2020-11-01T00:05:47.234406Z",
     "iopub.status.idle": "2020-11-01T00:05:47.236622Z",
     "shell.execute_reply": "2020-11-01T00:05:47.237094Z"
    },
    "papermill": {
     "duration": 0.04712,
     "end_time": "2020-11-01T00:05:47.237217",
     "exception": false,
     "start_time": "2020-11-01T00:05:47.190097",
     "status": "completed"
    },
    "tags": []
   },
   "outputs": [],
   "source": [
    "# suffix _nn stands for Neural Network.\n",
    "learner_nn = Learner(loss, model_nn, opt, config.num_epochs)\n",
    "acc_nn = ClfCallback(learner_nn, config.bs, training_xdata , testing_xdata, training_ydata, testing_ydata)\n",
    "learner_nn.set_callbacks([acc_nn])"
   ]
  },
  {
   "cell_type": "code",
   "execution_count": 20,
   "metadata": {
    "execution": {
     "iopub.execute_input": "2020-11-01T00:05:47.312229Z",
     "iopub.status.busy": "2020-11-01T00:05:47.308595Z",
     "iopub.status.idle": "2020-11-01T00:07:49.806890Z",
     "shell.execute_reply": "2020-11-01T00:07:49.806394Z"
    },
    "papermill": {
     "duration": 122.539602,
     "end_time": "2020-11-01T00:07:49.807028",
     "exception": false,
     "start_time": "2020-11-01T00:05:47.267426",
     "status": "completed"
    },
    "tags": []
   },
   "outputs": [
    {
     "name": "stdout",
     "output_type": "stream",
     "text": [
      "====== Neural Network ======\n"
     ]
    },
    {
     "name": "stdout",
     "output_type": "stream",
     "text": [
      "Epoch 0, Loss 0.2514\n",
      "Training Accuracy: 0.5122, Testing Accuracy: 0.5328\n",
      "\n"
     ]
    },
    {
     "name": "stdout",
     "output_type": "stream",
     "text": [
      "Epoch 10, Loss 0.2029\n",
      "Training Accuracy: 0.8718, Testing Accuracy: 0.8926\n",
      "\n"
     ]
    },
    {
     "name": "stdout",
     "output_type": "stream",
     "text": [
      "Epoch 20, Loss 0.1054\n",
      "Training Accuracy: 0.9141, Testing Accuracy: 0.9244\n",
      "\n"
     ]
    },
    {
     "name": "stdout",
     "output_type": "stream",
     "text": [
      "Epoch 30, Loss 0.0629\n",
      "Training Accuracy: 0.9357, Testing Accuracy: 0.9486\n",
      "\n"
     ]
    },
    {
     "name": "stdout",
     "output_type": "stream",
     "text": [
      "Epoch 40, Loss 0.0482\n",
      "Training Accuracy: 0.9475, Testing Accuracy: 0.9556\n",
      "\n"
     ]
    },
    {
     "name": "stdout",
     "output_type": "stream",
     "text": [
      "Epoch 50, Loss 0.041\n",
      "Training Accuracy: 0.9538, Testing Accuracy: 0.9632\n",
      "\n"
     ]
    },
    {
     "name": "stdout",
     "output_type": "stream",
     "text": [
      "Epoch 60, Loss 0.0368\n",
      "Training Accuracy: 0.9582, Testing Accuracy: 0.9647\n",
      "\n"
     ]
    },
    {
     "name": "stdout",
     "output_type": "stream",
     "text": [
      "Epoch 70, Loss 0.0341\n",
      "Training Accuracy: 0.9604, Testing Accuracy: 0.9667\n",
      "\n"
     ]
    },
    {
     "name": "stdout",
     "output_type": "stream",
     "text": [
      "Epoch 80, Loss 0.032\n",
      "Training Accuracy: 0.9626, Testing Accuracy: 0.9672\n",
      "\n"
     ]
    },
    {
     "name": "stdout",
     "output_type": "stream",
     "text": [
      "Epoch 90, Loss 0.0305\n",
      "Training Accuracy: 0.9640, Testing Accuracy: 0.9677\n",
      "\n"
     ]
    },
    {
     "name": "stdout",
     "output_type": "stream",
     "text": [
      "Epoch 100, Loss 0.0292\n",
      "Training Accuracy: 0.9659, Testing Accuracy: 0.9682\n",
      "\n"
     ]
    },
    {
     "name": "stdout",
     "output_type": "stream",
     "text": [
      "Epoch 110, Loss 0.0282\n",
      "Training Accuracy: 0.9665, Testing Accuracy: 0.9698\n",
      "\n"
     ]
    },
    {
     "name": "stdout",
     "output_type": "stream",
     "text": [
      "Epoch 120, Loss 0.0272\n",
      "Training Accuracy: 0.9674, Testing Accuracy: 0.9698\n",
      "\n"
     ]
    },
    {
     "name": "stdout",
     "output_type": "stream",
     "text": [
      "Epoch 130, Loss 0.0264\n",
      "Training Accuracy: 0.9682, Testing Accuracy: 0.9708\n",
      "\n"
     ]
    },
    {
     "name": "stdout",
     "output_type": "stream",
     "text": [
      "Epoch 140, Loss 0.0257\n",
      "Training Accuracy: 0.9688, Testing Accuracy: 0.9693\n",
      "\n"
     ]
    },
    {
     "name": "stdout",
     "output_type": "stream",
     "text": [
      "Epoch 150, Loss 0.025\n",
      "Training Accuracy: 0.9694, Testing Accuracy: 0.9703\n",
      "\n"
     ]
    },
    {
     "name": "stdout",
     "output_type": "stream",
     "text": [
      "Epoch 160, Loss 0.0244\n",
      "Training Accuracy: 0.9705, Testing Accuracy: 0.9713\n",
      "\n"
     ]
    },
    {
     "name": "stdout",
     "output_type": "stream",
     "text": [
      "Epoch 170, Loss 0.0239\n",
      "Training Accuracy: 0.9714, Testing Accuracy: 0.9718\n",
      "\n"
     ]
    },
    {
     "name": "stdout",
     "output_type": "stream",
     "text": [
      "Epoch 180, Loss 0.0234\n",
      "Training Accuracy: 0.9720, Testing Accuracy: 0.9723\n",
      "\n"
     ]
    },
    {
     "name": "stdout",
     "output_type": "stream",
     "text": [
      "Epoch 190, Loss 0.0229\n",
      "Training Accuracy: 0.9722, Testing Accuracy: 0.9723\n",
      "\n"
     ]
    },
    {
     "name": "stdout",
     "output_type": "stream",
     "text": [
      "Epoch 200, Loss 0.0224\n",
      "Training Accuracy: 0.9729, Testing Accuracy: 0.9723\n",
      "\n"
     ]
    },
    {
     "name": "stdout",
     "output_type": "stream",
     "text": [
      "Epoch 210, Loss 0.022\n",
      "Training Accuracy: 0.9735, Testing Accuracy: 0.9723\n",
      "\n"
     ]
    },
    {
     "name": "stdout",
     "output_type": "stream",
     "text": [
      "Epoch 220, Loss 0.0216\n",
      "Training Accuracy: 0.9740, Testing Accuracy: 0.9723\n",
      "\n"
     ]
    },
    {
     "name": "stdout",
     "output_type": "stream",
     "text": [
      "Epoch 230, Loss 0.0212\n",
      "Training Accuracy: 0.9750, Testing Accuracy: 0.9718\n",
      "\n"
     ]
    },
    {
     "name": "stdout",
     "output_type": "stream",
     "text": [
      "Epoch 240, Loss 0.0208\n",
      "Training Accuracy: 0.9756, Testing Accuracy: 0.9718\n",
      "\n"
     ]
    },
    {
     "name": "stdout",
     "output_type": "stream",
     "text": [
      "Epoch 250, Loss 0.0204\n",
      "Training Accuracy: 0.9762, Testing Accuracy: 0.9708\n",
      "\n"
     ]
    },
    {
     "data": {
      "text/plain": [
       "0.022196781952185794"
      ]
     },
     "execution_count": 20,
     "metadata": {},
     "output_type": "execute_result"
    }
   ],
   "source": [
    "print(\"====== Neural Network ======\")\n",
    "learner_nn.train_loop(dl)"
   ]
  },
  {
   "cell_type": "markdown",
   "metadata": {
    "papermill": {
     "duration": 0.046714,
     "end_time": "2020-11-01T00:07:49.895848",
     "exception": false,
     "start_time": "2020-11-01T00:07:49.849134",
     "status": "completed"
    },
    "tags": []
   },
   "source": [
    "### Logistic Regression based Implementation."
   ]
  },
  {
   "cell_type": "code",
   "execution_count": 21,
   "metadata": {
    "execution": {
     "iopub.execute_input": "2020-11-01T00:07:49.975789Z",
     "iopub.status.busy": "2020-11-01T00:07:49.975207Z",
     "iopub.status.idle": "2020-11-01T00:07:49.987859Z",
     "shell.execute_reply": "2020-11-01T00:07:49.987365Z"
    },
    "papermill": {
     "duration": 0.055167,
     "end_time": "2020-11-01T00:07:49.987980",
     "exception": false,
     "start_time": "2020-11-01T00:07:49.932813",
     "status": "completed"
    },
    "tags": []
   },
   "outputs": [],
   "source": [
    "learner_lr = Learner(loss, model_lr, opt, config.num_epochs)\n",
    "acc_lr = ClfCallback(learner_lr, config.bs, training_xdata , testing_xdata, training_ydata, testing_ydata)\n",
    "learner_lr.set_callbacks([acc_lr])"
   ]
  },
  {
   "cell_type": "code",
   "execution_count": 22,
   "metadata": {
    "execution": {
     "iopub.execute_input": "2020-11-01T00:07:50.071321Z",
     "iopub.status.busy": "2020-11-01T00:07:50.070710Z",
     "iopub.status.idle": "2020-11-01T00:08:07.690525Z",
     "shell.execute_reply": "2020-11-01T00:08:07.691146Z"
    },
    "papermill": {
     "duration": 17.665055,
     "end_time": "2020-11-01T00:08:07.691321",
     "exception": false,
     "start_time": "2020-11-01T00:07:50.026266",
     "status": "completed"
    },
    "tags": []
   },
   "outputs": [
    {
     "name": "stdout",
     "output_type": "stream",
     "text": [
      "====== Logistic Regression ======\n",
      "Epoch 0, Loss 0.2289\n",
      "Training Accuracy: 0.7493, Testing Accuracy: 0.7480\n",
      "\n"
     ]
    },
    {
     "name": "stdout",
     "output_type": "stream",
     "text": [
      "Epoch 10, Loss 0.0996\n",
      "Training Accuracy: 0.9210, Testing Accuracy: 0.9335\n",
      "\n"
     ]
    },
    {
     "name": "stdout",
     "output_type": "stream",
     "text": [
      "Epoch 20, Loss 0.0769\n",
      "Training Accuracy: 0.9353, Testing Accuracy: 0.9491\n",
      "\n"
     ]
    },
    {
     "name": "stdout",
     "output_type": "stream",
     "text": [
      "Epoch 30, Loss 0.0664\n",
      "Training Accuracy: 0.9407, Testing Accuracy: 0.9551\n",
      "\n"
     ]
    },
    {
     "name": "stdout",
     "output_type": "stream",
     "text": [
      "Epoch 40, Loss 0.0601\n",
      "Training Accuracy: 0.9442, Testing Accuracy: 0.9587\n",
      "\n"
     ]
    },
    {
     "name": "stdout",
     "output_type": "stream",
     "text": [
      "Epoch 50, Loss 0.0558\n",
      "Training Accuracy: 0.9471, Testing Accuracy: 0.9612\n",
      "\n"
     ]
    },
    {
     "name": "stdout",
     "output_type": "stream",
     "text": [
      "Epoch 60, Loss 0.0526\n",
      "Training Accuracy: 0.9485, Testing Accuracy: 0.9627\n",
      "\n"
     ]
    },
    {
     "name": "stdout",
     "output_type": "stream",
     "text": [
      "Epoch 70, Loss 0.0502\n",
      "Training Accuracy: 0.9503, Testing Accuracy: 0.9632\n",
      "\n"
     ]
    },
    {
     "name": "stdout",
     "output_type": "stream",
     "text": [
      "Epoch 80, Loss 0.0482\n",
      "Training Accuracy: 0.9511, Testing Accuracy: 0.9632\n",
      "\n"
     ]
    },
    {
     "name": "stdout",
     "output_type": "stream",
     "text": [
      "Epoch 90, Loss 0.0466\n",
      "Training Accuracy: 0.9527, Testing Accuracy: 0.9647\n",
      "\n"
     ]
    },
    {
     "name": "stdout",
     "output_type": "stream",
     "text": [
      "Epoch 100, Loss 0.0453\n",
      "Training Accuracy: 0.9539, Testing Accuracy: 0.9647\n",
      "\n"
     ]
    },
    {
     "name": "stdout",
     "output_type": "stream",
     "text": [
      "Epoch 110, Loss 0.0441\n",
      "Training Accuracy: 0.9551, Testing Accuracy: 0.9637\n",
      "\n"
     ]
    },
    {
     "name": "stdout",
     "output_type": "stream",
     "text": [
      "Epoch 120, Loss 0.0431\n",
      "Training Accuracy: 0.9557, Testing Accuracy: 0.9642\n",
      "\n"
     ]
    },
    {
     "name": "stdout",
     "output_type": "stream",
     "text": [
      "Epoch 130, Loss 0.0422\n",
      "Training Accuracy: 0.9566, Testing Accuracy: 0.9642\n",
      "\n"
     ]
    },
    {
     "name": "stdout",
     "output_type": "stream",
     "text": [
      "Epoch 140, Loss 0.0414\n",
      "Training Accuracy: 0.9569, Testing Accuracy: 0.9652\n",
      "\n"
     ]
    },
    {
     "name": "stdout",
     "output_type": "stream",
     "text": [
      "Epoch 150, Loss 0.0407\n",
      "Training Accuracy: 0.9575, Testing Accuracy: 0.9657\n",
      "\n"
     ]
    },
    {
     "name": "stdout",
     "output_type": "stream",
     "text": [
      "Epoch 160, Loss 0.04\n",
      "Training Accuracy: 0.9580, Testing Accuracy: 0.9652\n",
      "\n"
     ]
    },
    {
     "name": "stdout",
     "output_type": "stream",
     "text": [
      "Epoch 170, Loss 0.0395\n",
      "Training Accuracy: 0.9584, Testing Accuracy: 0.9657\n",
      "\n"
     ]
    },
    {
     "name": "stdout",
     "output_type": "stream",
     "text": [
      "Epoch 180, Loss 0.0389\n",
      "Training Accuracy: 0.9589, Testing Accuracy: 0.9657\n",
      "\n"
     ]
    },
    {
     "name": "stdout",
     "output_type": "stream",
     "text": [
      "Epoch 190, Loss 0.0384\n",
      "Training Accuracy: 0.9592, Testing Accuracy: 0.9662\n",
      "\n"
     ]
    },
    {
     "name": "stdout",
     "output_type": "stream",
     "text": [
      "Epoch 200, Loss 0.038\n",
      "Training Accuracy: 0.9599, Testing Accuracy: 0.9662\n",
      "\n"
     ]
    },
    {
     "name": "stdout",
     "output_type": "stream",
     "text": [
      "Epoch 210, Loss 0.0376\n",
      "Training Accuracy: 0.9604, Testing Accuracy: 0.9657\n",
      "\n"
     ]
    },
    {
     "name": "stdout",
     "output_type": "stream",
     "text": [
      "Epoch 220, Loss 0.0372\n",
      "Training Accuracy: 0.9609, Testing Accuracy: 0.9662\n",
      "\n"
     ]
    },
    {
     "name": "stdout",
     "output_type": "stream",
     "text": [
      "Epoch 230, Loss 0.0368\n",
      "Training Accuracy: 0.9614, Testing Accuracy: 0.9667\n",
      "\n"
     ]
    },
    {
     "name": "stdout",
     "output_type": "stream",
     "text": [
      "Epoch 240, Loss 0.0364\n",
      "Training Accuracy: 0.9616, Testing Accuracy: 0.9672\n",
      "\n"
     ]
    },
    {
     "name": "stdout",
     "output_type": "stream",
     "text": [
      "Epoch 250, Loss 0.0361\n",
      "Training Accuracy: 0.9621, Testing Accuracy: 0.9667\n",
      "\n"
     ]
    },
    {
     "data": {
      "text/plain": [
       "0.05167759370787027"
      ]
     },
     "execution_count": 22,
     "metadata": {},
     "output_type": "execute_result"
    }
   ],
   "source": [
    "print(\"====== Logistic Regression ======\")\n",
    "learner_lr.train_loop(dl)"
   ]
  },
  {
   "cell_type": "markdown",
   "metadata": {
    "papermill": {
     "duration": 0.04677,
     "end_time": "2020-11-01T00:08:07.800304",
     "exception": false,
     "start_time": "2020-11-01T00:08:07.753534",
     "status": "completed"
    },
    "tags": []
   },
   "source": [
    "### Comparing results of NN and LR"
   ]
  },
  {
   "cell_type": "code",
   "execution_count": 23,
   "metadata": {
    "execution": {
     "iopub.execute_input": "2020-11-01T00:08:07.921085Z",
     "iopub.status.busy": "2020-11-01T00:08:07.902557Z",
     "iopub.status.idle": "2020-11-01T00:08:08.149951Z",
     "shell.execute_reply": "2020-11-01T00:08:08.148759Z"
    },
    "papermill": {
     "duration": 0.306558,
     "end_time": "2020-11-01T00:08:08.150110",
     "exception": false,
     "start_time": "2020-11-01T00:08:07.843552",
     "status": "completed"
    },
    "tags": []
   },
   "outputs": [
    {
     "data": {
      "text/plain": [
       "<matplotlib.legend.Legend at 0x7fe34a401160>"
      ]
     },
     "execution_count": 23,
     "metadata": {},
     "output_type": "execute_result"
    },
    {
     "data": {
      "image/png": "[encoded data removed]",
      "text/plain": [
       "<Figure size 1080x720 with 1 Axes>"
      ]
     },
     "metadata": {
      "needs_background": "light"
     },
     "output_type": "display_data"
    }
   ],
   "source": [
    "plt.figure(figsize=(15,10))\n",
    "\n",
    "# Neural Network plots\n",
    "plt.plot(acc_nn.accuracies, 'r-', label = \"Training Accuracies - NN\")\n",
    "plt.plot(acc_nn.test_accuracies, 'g-', label = \"Testing Accuracies - NN\")\n",
    "\n",
    "# Logistic Regression plots\n",
    "plt.plot(acc_lr.accuracies, 'k-', label = \"Training Accuracies - LR\")\n",
    "plt.plot(acc_lr.test_accuracies, 'b-', label = \"Testing Accuracies - LR\")\n",
    "\n",
    "plt.ylim(0.8, 1)\n",
    "\n",
    "plt.legend()\n",
    "\n"
   ]
  },
  {
   "cell_type": "markdown",
   "metadata": {
    "papermill": {
     "duration": 0.045495,
     "end_time": "2020-11-01T00:08:08.242719",
     "exception": false,
     "start_time": "2020-11-01T00:08:08.197224",
     "status": "completed"
    },
    "tags": []
   },
   "source": [
    "### From the plot, we can observe the following:\n",
    "- Neural Network achieves higher accuracy than the Logistic Regression model.\n",
    "- This apparently, is because of overfitting, i.e. NN captures more noise than data.\n",
    "- Testing accuracy of NN drops below the Training accuracy at higher epochs. This explains the over-fitting on training data.\n",
    "- Logistic Regression gives a reliable accuracy, without the above mentioned problem.\n"
   ]
  },
  {
   "cell_type": "markdown",
   "metadata": {
    "papermill": {
     "duration": 0.046332,
     "end_time": "2020-11-01T00:08:08.343729",
     "exception": false,
     "start_time": "2020-11-01T00:08:08.297397",
     "status": "completed"
    },
    "tags": []
   },
   "source": [
    "### Moving till the last but one layer (excluding it).\n",
    "#### Plotting the outputs of this layer of the NN."
   ]
  },
  {
   "cell_type": "code",
   "execution_count": 24,
   "metadata": {
    "execution": {
     "iopub.execute_input": "2020-11-01T00:08:08.456664Z",
     "iopub.status.busy": "2020-11-01T00:08:08.454515Z",
     "iopub.status.idle": "2020-11-01T00:08:08.465100Z",
     "shell.execute_reply": "2020-11-01T00:08:08.463732Z"
    },
    "papermill": {
     "duration": 0.070062,
     "end_time": "2020-11-01T00:08:08.465260",
     "exception": false,
     "start_time": "2020-11-01T00:08:08.395198",
     "status": "completed"
    },
    "tags": []
   },
   "outputs": [],
   "source": [
    "model_new = Model(layers[:-2])"
   ]
  },
  {
   "cell_type": "code",
   "execution_count": 25,
   "metadata": {
    "execution": {
     "iopub.execute_input": "2020-11-01T00:08:08.561673Z",
     "iopub.status.busy": "2020-11-01T00:08:08.561010Z",
     "iopub.status.idle": "2020-11-01T00:08:08.584810Z",
     "shell.execute_reply": "2020-11-01T00:08:08.585295Z"
    },
    "papermill": {
     "duration": 0.073477,
     "end_time": "2020-11-01T00:08:08.585447",
     "exception": false,
     "start_time": "2020-11-01T00:08:08.511970",
     "status": "completed"
    },
    "tags": []
   },
   "outputs": [],
   "source": [
    "plot_testing = model_new(testing_xdata)"
   ]
  },
  {
   "cell_type": "code",
   "execution_count": 26,
   "metadata": {
    "execution": {
     "iopub.execute_input": "2020-11-01T00:08:08.683754Z",
     "iopub.status.busy": "2020-11-01T00:08:08.683175Z",
     "iopub.status.idle": "2020-11-01T00:08:08.908625Z",
     "shell.execute_reply": "2020-11-01T00:08:08.909101Z"
    },
    "papermill": {
     "duration": 0.277344,
     "end_time": "2020-11-01T00:08:08.909253",
     "exception": false,
     "start_time": "2020-11-01T00:08:08.631909",
     "status": "completed"
    },
    "tags": []
   },
   "outputs": [
    {
     "data": {
      "text/plain": [
       "Text(0.5, 1.0, 'Outputs')"
      ]
     },
     "execution_count": 26,
     "metadata": {},
     "output_type": "execute_result"
    },
    {
     "data": {
      "image/png": "[encoded data removed]",
      "text/plain": [
       "<Figure size 576x504 with 1 Axes>"
      ]
     },
     "metadata": {
      "needs_background": "light"
     },
     "output_type": "display_data"
    }
   ],
   "source": [
    "plt.figure(figsize=(8,7))\n",
    "plt.scatter(plot_testing[:,0], plot_testing[:,1], alpha = 0.1, c = y_test.ravel());\n",
    "plt.title('Outputs')"
   ]
  },
  {
   "cell_type": "markdown",
   "metadata": {
    "papermill": {
     "duration": 0.048044,
     "end_time": "2020-11-01T00:08:09.004426",
     "exception": false,
     "start_time": "2020-11-01T00:08:08.956382",
     "status": "completed"
    },
    "tags": []
   },
   "source": [
    "### Plotting probability contours"
   ]
  },
  {
   "cell_type": "code",
   "execution_count": 27,
   "metadata": {
    "execution": {
     "iopub.execute_input": "2020-11-01T00:08:09.109219Z",
     "iopub.status.busy": "2020-11-01T00:08:09.108465Z",
     "iopub.status.idle": "2020-11-01T00:08:09.118380Z",
     "shell.execute_reply": "2020-11-01T00:08:09.118844Z"
    },
    "papermill": {
     "duration": 0.063574,
     "end_time": "2020-11-01T00:08:09.118974",
     "exception": false,
     "start_time": "2020-11-01T00:08:09.055400",
     "status": "completed"
    },
    "tags": []
   },
   "outputs": [],
   "source": [
    "model_prob = Model(layers[-2:]) "
   ]
  },
  {
   "cell_type": "code",
   "execution_count": 28,
   "metadata": {
    "execution": {
     "iopub.execute_input": "2020-11-01T00:08:09.221651Z",
     "iopub.status.busy": "2020-11-01T00:08:09.220948Z",
     "iopub.status.idle": "2020-11-01T00:08:09.231081Z",
     "shell.execute_reply": "2020-11-01T00:08:09.231530Z"
    },
    "papermill": {
     "duration": 0.064975,
     "end_time": "2020-11-01T00:08:09.231664",
     "exception": false,
     "start_time": "2020-11-01T00:08:09.166689",
     "status": "completed"
    },
    "tags": []
   },
   "outputs": [],
   "source": [
    "# Adjust the x and y ranges according to the above generated plot.\n",
    "x_range = np.linspace(-4, 1, 100) \n",
    "y_range = np.linspace(-6, 6, 100) \n",
    "x_grid, y_grid = np.meshgrid(x_range, y_range) # x_grid and y_grig are of size 100 X 100\n",
    "\n",
    "# converting x_grid and y_grid to continuous arrays\n",
    "x_grid_flat = np.ravel(x_grid)\n",
    "y_grid_flat = np.ravel(y_grid)\n",
    "\n",
    "# The last layer of the current model takes two columns as input. Hence transpose of np.vstack() is required.\n",
    "X = np.vstack((x_grid_flat, y_grid_flat)).T\n",
    "\n",
    "# x_grid and y_grid are of size 100 x 100\n",
    "probability_contour = model_prob(X).reshape(100,100) "
   ]
  },
  {
   "cell_type": "code",
   "execution_count": 29,
   "metadata": {
    "execution": {
     "iopub.execute_input": "2020-11-01T00:08:09.335421Z",
     "iopub.status.busy": "2020-11-01T00:08:09.334845Z",
     "iopub.status.idle": "2020-11-01T00:08:09.607353Z",
     "shell.execute_reply": "2020-11-01T00:08:09.606844Z"
    },
    "papermill": {
     "duration": 0.328096,
     "end_time": "2020-11-01T00:08:09.607484",
     "exception": false,
     "start_time": "2020-11-01T00:08:09.279388",
     "status": "completed"
    },
    "tags": []
   },
   "outputs": [
    {
     "data": {
      "image/png": "[encoded data removed]",
      "text/plain": [
       "<Figure size 720x648 with 1 Axes>"
      ]
     },
     "metadata": {
      "needs_background": "light"
     },
     "output_type": "display_data"
    }
   ],
   "source": [
    "plt.figure(figsize=(10,9))\n",
    "plt.scatter(plot_testing[:,0], plot_testing[:,1], alpha = 0.1, c = y_test.ravel())\n",
    "contours = plt.contour(x_grid,y_grid,probability_contour)\n",
    "plt.title('Probability Contours')\n",
    "plt.clabel(contours, inline = True );"
   ]
  }
 ],
 "metadata": {
  "kernelspec": {
   "display_name": "Python 3",
   "language": "python",
   "name": "python3"
  },
  "language_info": {
   "codemirror_mode": {
    "name": "ipython",
    "version": 3
   },
   "file_extension": ".py",
   "mimetype": "text/x-python",
   "name": "python",
   "nbconvert_exporter": "python",
   "pygments_lexer": "ipython3",
   "version": "3.6.12"
  },
  "papermill": {
   "duration": 151.359173,
   "end_time": "2020-11-01T00:08:10.841387",
   "environment_variables": {},
   "exception": null,
   "input_path": "2020-08-11-NeuralNetwork.ipynb",
   "output_path": "2020-08-11-NeuralNetwork.ipynb",
   "parameters": {},
   "start_time": "2020-11-01T00:05:39.482214",
   "version": "2.1.2"
  }
 },
 "nbformat": 4,
 "nbformat_minor": 4
}