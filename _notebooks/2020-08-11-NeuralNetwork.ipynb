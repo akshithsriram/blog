{
 "cells": [
  {
   "cell_type": "markdown",
   "metadata": {
    "papermill": {
     "duration": 0.037927,
     "end_time": "2020-09-14T10:04:44.675795",
     "exception": false,
     "start_time": "2020-09-14T10:04:44.637868",
     "status": "completed"
    },
    "tags": []
   },
   "source": [
    "# \"A Basic Neural Network: Differentiate Hand-Written Digits\"\n",
    "\n",
    "- badges: true\n",
    "- author: Akshith Sriram"
   ]
  },
  {
   "cell_type": "markdown",
   "metadata": {
    "papermill": {
     "duration": 0.029743,
     "end_time": "2020-09-14T10:04:45.227317",
     "exception": false,
     "start_time": "2020-09-14T10:04:45.197574",
     "status": "completed"
    },
    "tags": []
   },
   "source": [
    "### Key Objectives:\n",
    "- Building a neural network that differentiates two hand-written digits 3 and 8.\n",
    "- Comparing the results of this Neural Network (NN) to that of a Logistic Regression (LR) model.\n",
    "\n",
    "### Requirements:\n",
    "- 'Kudzu' : A neural network library that was designed during our course by [Univ.AI](www.univ.ai). \n",
    "- MNIST Database\n",
    "\n",
    "If MNIST is not installed, use the command `!pip install mnist` given below.\n",
    "It can be run both from the command line and Jupyter Notebook."
   ]
  },
  {
   "cell_type": "code",
   "execution_count": 1,
   "metadata": {
    "execution": {
     "iopub.execute_input": "2020-09-14T10:04:45.294196Z",
     "iopub.status.busy": "2020-09-14T10:04:45.293394Z",
     "iopub.status.idle": "2020-09-14T10:04:47.136155Z",
     "shell.execute_reply": "2020-09-14T10:04:47.135213Z"
    },
    "papermill": {
     "duration": 1.878412,
     "end_time": "2020-09-14T10:04:47.136338",
     "exception": false,
     "start_time": "2020-09-14T10:04:45.257926",
     "status": "completed"
    },
    "tags": []
   },
   "outputs": [
    {
     "name": "stdout",
     "output_type": "stream",
     "text": [
      "Collecting mnist\r\n"
     ]
    },
    {
     "name": "stdout",
     "output_type": "stream",
     "text": [
      "  Downloading mnist-0.2.2-py2.py3-none-any.whl (3.5 kB)\r\n"
     ]
    },
    {
     "name": "stdout",
     "output_type": "stream",
     "text": [
      "Requirement already satisfied: numpy in /opt/hostedtoolcache/Python/3.6.12/x64/lib/python3.6/site-packages (from mnist) (1.19.2)\r\n"
     ]
    },
    {
     "name": "stdout",
     "output_type": "stream",
     "text": [
      "Installing collected packages: mnist\r\n"
     ]
    },
    {
     "name": "stdout",
     "output_type": "stream",
     "text": [
      "Successfully installed mnist-0.2.2\r\n"
     ]
    }
   ],
   "source": [
    "!pip install mnist "
   ]
  },
  {
   "cell_type": "markdown",
   "metadata": {
    "papermill": {
     "duration": 0.034347,
     "end_time": "2020-09-14T10:04:47.204974",
     "exception": false,
     "start_time": "2020-09-14T10:04:47.170627",
     "status": "completed"
    },
    "tags": []
   },
   "source": [
    "#### Importing necessary libraries"
   ]
  },
  {
   "cell_type": "code",
   "execution_count": 2,
   "metadata": {
    "execution": {
     "iopub.execute_input": "2020-09-14T10:04:47.286872Z",
     "iopub.status.busy": "2020-09-14T10:04:47.286171Z",
     "iopub.status.idle": "2020-09-14T10:04:48.012952Z",
     "shell.execute_reply": "2020-09-14T10:04:48.013587Z"
    },
    "papermill": {
     "duration": 0.775582,
     "end_time": "2020-09-14T10:04:48.013772",
     "exception": false,
     "start_time": "2020-09-14T10:04:47.238190",
     "status": "completed"
    },
    "tags": []
   },
   "outputs": [],
   "source": [
    "%load_ext autoreload\n",
    "%autoreload 2\n",
    "\n",
    "%matplotlib inline\n",
    "import matplotlib.pyplot as plt\n",
    "\n",
    "import numpy as np\n",
    "import pandas as pd"
   ]
  },
  {
   "cell_type": "markdown",
   "metadata": {
    "papermill": {
     "duration": 0.036228,
     "end_time": "2020-09-14T10:04:48.084517",
     "exception": false,
     "start_time": "2020-09-14T10:04:48.048289",
     "status": "completed"
    },
    "tags": []
   },
   "source": [
    "### Preparing the Data"
   ]
  },
  {
   "cell_type": "code",
   "execution_count": 3,
   "metadata": {
    "execution": {
     "iopub.execute_input": "2020-09-14T10:04:48.158155Z",
     "iopub.status.busy": "2020-09-14T10:04:48.157364Z",
     "iopub.status.idle": "2020-09-14T10:04:48.171231Z",
     "shell.execute_reply": "2020-09-14T10:04:48.171795Z"
    },
    "papermill": {
     "duration": 0.054267,
     "end_time": "2020-09-14T10:04:48.171987",
     "exception": false,
     "start_time": "2020-09-14T10:04:48.117720",
     "status": "completed"
    },
    "tags": []
   },
   "outputs": [],
   "source": [
    "import mnist"
   ]
  },
  {
   "cell_type": "code",
   "execution_count": 4,
   "metadata": {
    "execution": {
     "iopub.execute_input": "2020-09-14T10:04:48.245502Z",
     "iopub.status.busy": "2020-09-14T10:04:48.244756Z",
     "iopub.status.idle": "2020-09-14T10:04:49.059358Z",
     "shell.execute_reply": "2020-09-14T10:04:49.058696Z"
    },
    "papermill": {
     "duration": 0.85241,
     "end_time": "2020-09-14T10:04:49.059523",
     "exception": false,
     "start_time": "2020-09-14T10:04:48.207113",
     "status": "completed"
    },
    "tags": []
   },
   "outputs": [],
   "source": [
    "train_images = mnist.train_images()\n",
    "train_labels = mnist.train_labels()"
   ]
  },
  {
   "cell_type": "code",
   "execution_count": 5,
   "metadata": {
    "execution": {
     "iopub.execute_input": "2020-09-14T10:04:49.133491Z",
     "iopub.status.busy": "2020-09-14T10:04:49.132391Z",
     "iopub.status.idle": "2020-09-14T10:04:49.149213Z",
     "shell.execute_reply": "2020-09-14T10:04:49.149789Z"
    },
    "papermill": {
     "duration": 0.056637,
     "end_time": "2020-09-14T10:04:49.149970",
     "exception": false,
     "start_time": "2020-09-14T10:04:49.093333",
     "status": "completed"
    },
    "tags": []
   },
   "outputs": [
    {
     "data": {
      "text/plain": [
       "((60000, 28, 28), (60000,))"
      ]
     },
     "execution_count": 5,
     "metadata": {},
     "output_type": "execute_result"
    }
   ],
   "source": [
    "train_images.shape, train_labels.shape"
   ]
  },
  {
   "cell_type": "code",
   "execution_count": 6,
   "metadata": {
    "execution": {
     "iopub.execute_input": "2020-09-14T10:04:49.220620Z",
     "iopub.status.busy": "2020-09-14T10:04:49.219917Z",
     "iopub.status.idle": "2020-09-14T10:04:49.468408Z",
     "shell.execute_reply": "2020-09-14T10:04:49.467742Z"
    },
    "papermill": {
     "duration": 0.286821,
     "end_time": "2020-09-14T10:04:49.468594",
     "exception": false,
     "start_time": "2020-09-14T10:04:49.181773",
     "status": "completed"
    },
    "tags": []
   },
   "outputs": [],
   "source": [
    "test_images = mnist.test_images()\n",
    "test_labels = mnist.test_labels()"
   ]
  },
  {
   "cell_type": "code",
   "execution_count": 7,
   "metadata": {
    "execution": {
     "iopub.execute_input": "2020-09-14T10:04:49.537584Z",
     "iopub.status.busy": "2020-09-14T10:04:49.536852Z",
     "iopub.status.idle": "2020-09-14T10:04:49.552559Z",
     "shell.execute_reply": "2020-09-14T10:04:49.551929Z"
    },
    "papermill": {
     "duration": 0.051727,
     "end_time": "2020-09-14T10:04:49.552736",
     "exception": false,
     "start_time": "2020-09-14T10:04:49.501009",
     "status": "completed"
    },
    "tags": []
   },
   "outputs": [
    {
     "data": {
      "text/plain": [
       "((10000, 28, 28), (10000,))"
      ]
     },
     "execution_count": 7,
     "metadata": {},
     "output_type": "execute_result"
    }
   ],
   "source": [
    "test_images.shape, test_labels.shape"
   ]
  },
  {
   "cell_type": "code",
   "execution_count": 8,
   "metadata": {
    "execution": {
     "iopub.execute_input": "2020-09-14T10:04:49.624768Z",
     "iopub.status.busy": "2020-09-14T10:04:49.624066Z",
     "iopub.status.idle": "2020-09-14T10:04:49.812010Z",
     "shell.execute_reply": "2020-09-14T10:04:49.811420Z"
    },
    "papermill": {
     "duration": 0.226443,
     "end_time": "2020-09-14T10:04:49.812170",
     "exception": false,
     "start_time": "2020-09-14T10:04:49.585727",
     "status": "completed"
    },
    "tags": []
   },
   "outputs": [
    {
     "name": "stdout",
     "output_type": "stream",
     "text": [
      "2\n"
     ]
    },
    {
     "data": {
      "text/plain": [
       "<matplotlib.image.AxesImage at 0x7fbc3bdfa668>"
      ]
     },
     "execution_count": 8,
     "metadata": {},
     "output_type": "execute_result"
    },
    {
     "data": {
      "image/png": "[encoded data removed]",
      "text/plain": [
       "<Figure size 432x288 with 1 Axes>"
      ]
     },
     "metadata": {
      "needs_background": "light"
     },
     "output_type": "display_data"
    }
   ],
   "source": [
    "image_index = 7776 # You may select anything up to 60,000\n",
    "print(train_labels[image_index]) \n",
    "plt.imshow(train_images[image_index], cmap='Greys')"
   ]
  },
  {
   "cell_type": "markdown",
   "metadata": {
    "papermill": {
     "duration": 0.036275,
     "end_time": "2020-09-14T10:04:49.893119",
     "exception": false,
     "start_time": "2020-09-14T10:04:49.856844",
     "status": "completed"
    },
    "tags": []
   },
   "source": [
    "## Filter data to get 3 and 8 out"
   ]
  },
  {
   "cell_type": "code",
   "execution_count": 9,
   "metadata": {
    "execution": {
     "iopub.execute_input": "2020-09-14T10:04:49.969559Z",
     "iopub.status.busy": "2020-09-14T10:04:49.968812Z",
     "iopub.status.idle": "2020-09-14T10:04:49.986710Z",
     "shell.execute_reply": "2020-09-14T10:04:49.986105Z"
    },
    "papermill": {
     "duration": 0.059059,
     "end_time": "2020-09-14T10:04:49.986872",
     "exception": false,
     "start_time": "2020-09-14T10:04:49.927813",
     "status": "completed"
    },
    "tags": []
   },
   "outputs": [],
   "source": [
    "train_filter = np.where((train_labels == 3 ) | (train_labels == 8))\n",
    "test_filter = np.where((test_labels == 3) | (test_labels == 8))\n",
    "X_train, y_train = train_images[train_filter], train_labels[train_filter]\n",
    "X_test, y_test = test_images[test_filter], test_labels[test_filter]"
   ]
  },
  {
   "cell_type": "markdown",
   "metadata": {
    "papermill": {
     "duration": 0.034212,
     "end_time": "2020-09-14T10:04:50.055184",
     "exception": false,
     "start_time": "2020-09-14T10:04:50.020972",
     "status": "completed"
    },
    "tags": []
   },
   "source": [
    "We normalize the pixel values in the 0 to 1 range"
   ]
  },
  {
   "cell_type": "code",
   "execution_count": 10,
   "metadata": {
    "execution": {
     "iopub.execute_input": "2020-09-14T10:04:50.131298Z",
     "iopub.status.busy": "2020-09-14T10:04:50.128192Z",
     "iopub.status.idle": "2020-09-14T10:04:50.193824Z",
     "shell.execute_reply": "2020-09-14T10:04:50.194794Z"
    },
    "papermill": {
     "duration": 0.106129,
     "end_time": "2020-09-14T10:04:50.194999",
     "exception": false,
     "start_time": "2020-09-14T10:04:50.088870",
     "status": "completed"
    },
    "tags": []
   },
   "outputs": [],
   "source": [
    "X_train = X_train/255.\n",
    "X_test = X_test/255."
   ]
  },
  {
   "cell_type": "markdown",
   "metadata": {
    "papermill": {
     "duration": 0.033495,
     "end_time": "2020-09-14T10:04:50.263100",
     "exception": false,
     "start_time": "2020-09-14T10:04:50.229605",
     "status": "completed"
    },
    "tags": []
   },
   "source": [
    "Setup the labels as 1 (when the digit is 3) and 0 (when the digit is 8)"
   ]
  },
  {
   "cell_type": "code",
   "execution_count": 11,
   "metadata": {
    "execution": {
     "iopub.execute_input": "2020-09-14T10:04:50.337089Z",
     "iopub.status.busy": "2020-09-14T10:04:50.336356Z",
     "iopub.status.idle": "2020-09-14T10:04:50.352030Z",
     "shell.execute_reply": "2020-09-14T10:04:50.351277Z"
    },
    "papermill": {
     "duration": 0.055489,
     "end_time": "2020-09-14T10:04:50.352185",
     "exception": false,
     "start_time": "2020-09-14T10:04:50.296696",
     "status": "completed"
    },
    "tags": []
   },
   "outputs": [],
   "source": [
    "y_train = 1*(y_train==3)\n",
    "y_test = 1*(y_test==3)"
   ]
  },
  {
   "cell_type": "code",
   "execution_count": 12,
   "metadata": {
    "execution": {
     "iopub.execute_input": "2020-09-14T10:04:50.426085Z",
     "iopub.status.busy": "2020-09-14T10:04:50.425410Z",
     "iopub.status.idle": "2020-09-14T10:04:50.441179Z",
     "shell.execute_reply": "2020-09-14T10:04:50.440519Z"
    },
    "papermill": {
     "duration": 0.054963,
     "end_time": "2020-09-14T10:04:50.441335",
     "exception": false,
     "start_time": "2020-09-14T10:04:50.386372",
     "status": "completed"
    },
    "tags": []
   },
   "outputs": [
    {
     "data": {
      "text/plain": [
       "((11982, 28, 28), (1984, 28, 28))"
      ]
     },
     "execution_count": 12,
     "metadata": {},
     "output_type": "execute_result"
    }
   ],
   "source": [
    "X_train.shape, X_test.shape"
   ]
  },
  {
   "cell_type": "markdown",
   "metadata": {
    "papermill": {
     "duration": 0.037024,
     "end_time": "2020-09-14T10:04:50.516017",
     "exception": false,
     "start_time": "2020-09-14T10:04:50.478993",
     "status": "completed"
    },
    "tags": []
   },
   "source": [
    "### Reshape the input data to create a linear array"
   ]
  },
  {
   "cell_type": "code",
   "execution_count": 13,
   "metadata": {
    "execution": {
     "iopub.execute_input": "2020-09-14T10:04:50.594152Z",
     "iopub.status.busy": "2020-09-14T10:04:50.593452Z",
     "iopub.status.idle": "2020-09-14T10:04:50.609515Z",
     "shell.execute_reply": "2020-09-14T10:04:50.608893Z"
    },
    "papermill": {
     "duration": 0.055721,
     "end_time": "2020-09-14T10:04:50.609665",
     "exception": false,
     "start_time": "2020-09-14T10:04:50.553944",
     "status": "completed"
    },
    "tags": []
   },
   "outputs": [
    {
     "data": {
      "text/plain": [
       "((11982, 784), (1984, 784))"
      ]
     },
     "execution_count": 13,
     "metadata": {},
     "output_type": "execute_result"
    }
   ],
   "source": [
    "X_train = X_train.reshape(X_train.shape[0], -1)\n",
    "X_test = X_test.reshape(X_test.shape[0], -1)\n",
    "X_train.shape, X_test.shape"
   ]
  },
  {
   "cell_type": "markdown",
   "metadata": {
    "papermill": {
     "duration": 0.034073,
     "end_time": "2020-09-14T10:04:50.682824",
     "exception": false,
     "start_time": "2020-09-14T10:04:50.648751",
     "status": "completed"
    },
    "tags": []
   },
   "source": [
    "### Importing appropriate functions from 'Kudzu'"
   ]
  },
  {
   "cell_type": "code",
   "execution_count": 14,
   "metadata": {
    "execution": {
     "iopub.execute_input": "2020-09-14T10:04:50.756928Z",
     "iopub.status.busy": "2020-09-14T10:04:50.756077Z",
     "iopub.status.idle": "2020-09-14T10:04:50.778369Z",
     "shell.execute_reply": "2020-09-14T10:04:50.778929Z"
    },
    "papermill": {
     "duration": 0.061564,
     "end_time": "2020-09-14T10:04:50.779103",
     "exception": false,
     "start_time": "2020-09-14T10:04:50.717539",
     "status": "completed"
    },
    "tags": []
   },
   "outputs": [],
   "source": [
    "from kudzu.layer import Sigmoid\n",
    "from kudzu.layer import Relu\n",
    "from kudzu.layer import Affine, Sigmoid\n",
    "\n",
    "from kudzu.model import Model\n",
    "from kudzu.train import Learner\n",
    "from kudzu.optim import GD\n",
    "from kudzu.data import Data, Dataloader, Sampler\n",
    "\n",
    "from kudzu.callbacks import AccCallback\n",
    "from kudzu.callbacks import ClfCallback\n",
    "\n",
    "from kudzu.loss import MSE"
   ]
  },
  {
   "cell_type": "markdown",
   "metadata": {
    "papermill": {
     "duration": 0.034442,
     "end_time": "2020-09-14T10:04:50.847079",
     "exception": false,
     "start_time": "2020-09-14T10:04:50.812637",
     "status": "completed"
    },
    "tags": []
   },
   "source": [
    "### Let us create a `Config` class, to store important parameters. \n",
    "This class essentially plays the role of a dictionary."
   ]
  },
  {
   "cell_type": "code",
   "execution_count": 15,
   "metadata": {
    "execution": {
     "iopub.execute_input": "2020-09-14T10:04:50.920015Z",
     "iopub.status.busy": "2020-09-14T10:04:50.919329Z",
     "iopub.status.idle": "2020-09-14T10:04:50.934212Z",
     "shell.execute_reply": "2020-09-14T10:04:50.934776Z"
    },
    "papermill": {
     "duration": 0.053681,
     "end_time": "2020-09-14T10:04:50.934977",
     "exception": false,
     "start_time": "2020-09-14T10:04:50.881296",
     "status": "completed"
    },
    "tags": []
   },
   "outputs": [],
   "source": [
    "class Config:\n",
    "    pass\n",
    "config = Config()\n",
    "config.lr = 0.001\n",
    "config.num_epochs = 251\n",
    "config.bs = 50"
   ]
  },
  {
   "cell_type": "markdown",
   "metadata": {
    "papermill": {
     "duration": 0.034064,
     "end_time": "2020-09-14T10:04:51.002860",
     "exception": false,
     "start_time": "2020-09-14T10:04:50.968796",
     "status": "completed"
    },
    "tags": []
   },
   "source": [
    "### Initializing data to the variables"
   ]
  },
  {
   "cell_type": "code",
   "execution_count": 16,
   "metadata": {
    "execution": {
     "iopub.execute_input": "2020-09-14T10:04:51.078799Z",
     "iopub.status.busy": "2020-09-14T10:04:51.078099Z",
     "iopub.status.idle": "2020-09-14T10:04:51.092261Z",
     "shell.execute_reply": "2020-09-14T10:04:51.091630Z"
    },
    "papermill": {
     "duration": 0.054916,
     "end_time": "2020-09-14T10:04:51.092420",
     "exception": false,
     "start_time": "2020-09-14T10:04:51.037504",
     "status": "completed"
    },
    "tags": []
   },
   "outputs": [],
   "source": [
    "data = Data(X_train, y_train.reshape(-1,1))\n",
    "sampler = Sampler(data, config.bs, shuffle=True)\n",
    "\n",
    "dl = Dataloader(data, sampler)\n",
    "\n",
    "opt = GD(config.lr)\n",
    "loss = MSE()"
   ]
  },
  {
   "cell_type": "code",
   "execution_count": 17,
   "metadata": {
    "execution": {
     "iopub.execute_input": "2020-09-14T10:04:51.175335Z",
     "iopub.status.busy": "2020-09-14T10:04:51.174622Z",
     "iopub.status.idle": "2020-09-14T10:04:51.189596Z",
     "shell.execute_reply": "2020-09-14T10:04:51.190146Z"
    },
    "papermill": {
     "duration": 0.06154,
     "end_time": "2020-09-14T10:04:51.190335",
     "exception": false,
     "start_time": "2020-09-14T10:04:51.128795",
     "status": "completed"
    },
    "tags": []
   },
   "outputs": [],
   "source": [
    "training_xdata = X_train\n",
    "testing_xdata = X_test\n",
    "training_ydata = y_train.reshape(-1,1)\n",
    "testing_ydata = y_test.reshape(-1,1)"
   ]
  },
  {
   "cell_type": "markdown",
   "metadata": {
    "papermill": {
     "duration": 0.043753,
     "end_time": "2020-09-14T10:04:51.271258",
     "exception": false,
     "start_time": "2020-09-14T10:04:51.227505",
     "status": "completed"
    },
    "tags": []
   },
   "source": [
    "### Running Models with the Training data\n",
    "Details about the network layers:\n",
    "- A first affine layer has 784 inputs and does 100 affine transforms. These are followed by a Relu\n",
    "- A second affine layer has 100 inputs from the 100 activations of the past layer, and does 100 affine transforms. These are followed by a Relu\n",
    "- A third affine layer has 100 activations and does 2 affine transformations to create an embedding for visualization. There is no non-linearity here.\n",
    "- A final \"logistic regression\" which has an affine transform from 2 inputs to 1 output, which is squeezed through a sigmoid.\n",
    "\n",
    "Help taken from Anshuman's Notebook."
   ]
  },
  {
   "cell_type": "code",
   "execution_count": 18,
   "metadata": {
    "execution": {
     "iopub.execute_input": "2020-09-14T10:04:51.347905Z",
     "iopub.status.busy": "2020-09-14T10:04:51.346948Z",
     "iopub.status.idle": "2020-09-14T10:04:51.365629Z",
     "shell.execute_reply": "2020-09-14T10:04:51.366313Z"
    },
    "papermill": {
     "duration": 0.059132,
     "end_time": "2020-09-14T10:04:51.366523",
     "exception": false,
     "start_time": "2020-09-14T10:04:51.307391",
     "status": "completed"
    },
    "tags": []
   },
   "outputs": [],
   "source": [
    "# layers for the Neural Network\n",
    "layers = [Affine(\"first\", 784, 100), Relu(\"first\"), Affine(\"second\", 100, 100), Relu(\"second\"), Affine(\"third\", 100, 2), Affine(\"final\", 2, 1), Sigmoid(\"final\")]\n",
    "model_nn = Model(layers)\n",
    "\n",
    "# layers for the Logistic Regression\n",
    "layers_lr = [Affine(\"logits\", 784, 1), Sigmoid(\"sigmoid\")]\n",
    "model_lr = Model(layers_lr)"
   ]
  },
  {
   "cell_type": "code",
   "execution_count": 19,
   "metadata": {
    "execution": {
     "iopub.execute_input": "2020-09-14T10:04:51.444456Z",
     "iopub.status.busy": "2020-09-14T10:04:51.443516Z",
     "iopub.status.idle": "2020-09-14T10:04:51.459577Z",
     "shell.execute_reply": "2020-09-14T10:04:51.458971Z"
    },
    "papermill": {
     "duration": 0.058912,
     "end_time": "2020-09-14T10:04:51.459817",
     "exception": false,
     "start_time": "2020-09-14T10:04:51.400905",
     "status": "completed"
    },
    "tags": []
   },
   "outputs": [],
   "source": [
    "# suffix _nn stands for Neural Network.\n",
    "learner_nn = Learner(loss, model_nn, opt, config.num_epochs)\n",
    "acc_nn = ClfCallback(learner_nn, config.bs, training_xdata , testing_xdata, training_ydata, testing_ydata)\n",
    "learner_nn.set_callbacks([acc_nn])"
   ]
  },
  {
   "cell_type": "code",
   "execution_count": 20,
   "metadata": {
    "execution": {
     "iopub.execute_input": "2020-09-14T10:04:51.538876Z",
     "iopub.status.busy": "2020-09-14T10:04:51.537582Z",
     "iopub.status.idle": "2020-09-14T10:07:12.924863Z",
     "shell.execute_reply": "2020-09-14T10:07:12.924161Z"
    },
    "papermill": {
     "duration": 141.429789,
     "end_time": "2020-09-14T10:07:12.925026",
     "exception": false,
     "start_time": "2020-09-14T10:04:51.495237",
     "status": "completed"
    },
    "tags": []
   },
   "outputs": [
    {
     "name": "stdout",
     "output_type": "stream",
     "text": [
      "====== Neural Network ======\n"
     ]
    },
    {
     "name": "stdout",
     "output_type": "stream",
     "text": [
      "Epoch 0, Loss 0.2269\n",
      "Training Accuracy: 0.7515, Testing Accuracy: 0.7611\n",
      "\n"
     ]
    },
    {
     "name": "stdout",
     "output_type": "stream",
     "text": [
      "Epoch 10, Loss 0.0823\n",
      "Training Accuracy: 0.9187, Testing Accuracy: 0.9304\n",
      "\n"
     ]
    },
    {
     "name": "stdout",
     "output_type": "stream",
     "text": [
      "Epoch 20, Loss 0.0544\n",
      "Training Accuracy: 0.9412, Testing Accuracy: 0.9491\n",
      "\n"
     ]
    },
    {
     "name": "stdout",
     "output_type": "stream",
     "text": [
      "Epoch 30, Loss 0.0439\n",
      "Training Accuracy: 0.9520, Testing Accuracy: 0.9561\n",
      "\n"
     ]
    },
    {
     "name": "stdout",
     "output_type": "stream",
     "text": [
      "Epoch 40, Loss 0.0383\n",
      "Training Accuracy: 0.9569, Testing Accuracy: 0.9627\n",
      "\n"
     ]
    },
    {
     "name": "stdout",
     "output_type": "stream",
     "text": [
      "Epoch 50, Loss 0.0348\n",
      "Training Accuracy: 0.9604, Testing Accuracy: 0.9677\n",
      "\n"
     ]
    },
    {
     "name": "stdout",
     "output_type": "stream",
     "text": [
      "Epoch 60, Loss 0.0324\n",
      "Training Accuracy: 0.9631, Testing Accuracy: 0.9698\n",
      "\n"
     ]
    },
    {
     "name": "stdout",
     "output_type": "stream",
     "text": [
      "Epoch 70, Loss 0.0306\n",
      "Training Accuracy: 0.9653, Testing Accuracy: 0.9708\n",
      "\n"
     ]
    },
    {
     "name": "stdout",
     "output_type": "stream",
     "text": [
      "Epoch 80, Loss 0.0291\n",
      "Training Accuracy: 0.9673, Testing Accuracy: 0.9718\n",
      "\n"
     ]
    },
    {
     "name": "stdout",
     "output_type": "stream",
     "text": [
      "Epoch 90, Loss 0.0279\n",
      "Training Accuracy: 0.9685, Testing Accuracy: 0.9728\n",
      "\n"
     ]
    },
    {
     "name": "stdout",
     "output_type": "stream",
     "text": [
      "Epoch 100, Loss 0.0269\n",
      "Training Accuracy: 0.9694, Testing Accuracy: 0.9733\n",
      "\n"
     ]
    },
    {
     "name": "stdout",
     "output_type": "stream",
     "text": [
      "Epoch 110, Loss 0.026\n",
      "Training Accuracy: 0.9702, Testing Accuracy: 0.9723\n",
      "\n"
     ]
    },
    {
     "name": "stdout",
     "output_type": "stream",
     "text": [
      "Epoch 120, Loss 0.0252\n",
      "Training Accuracy: 0.9715, Testing Accuracy: 0.9743\n",
      "\n"
     ]
    },
    {
     "name": "stdout",
     "output_type": "stream",
     "text": [
      "Epoch 130, Loss 0.0245\n",
      "Training Accuracy: 0.9729, Testing Accuracy: 0.9753\n",
      "\n"
     ]
    },
    {
     "name": "stdout",
     "output_type": "stream",
     "text": [
      "Epoch 140, Loss 0.0238\n",
      "Training Accuracy: 0.9737, Testing Accuracy: 0.9743\n",
      "\n"
     ]
    },
    {
     "name": "stdout",
     "output_type": "stream",
     "text": [
      "Epoch 150, Loss 0.0232\n",
      "Training Accuracy: 0.9746, Testing Accuracy: 0.9748\n",
      "\n"
     ]
    },
    {
     "name": "stdout",
     "output_type": "stream",
     "text": [
      "Epoch 160, Loss 0.0227\n",
      "Training Accuracy: 0.9755, Testing Accuracy: 0.9743\n",
      "\n"
     ]
    },
    {
     "name": "stdout",
     "output_type": "stream",
     "text": [
      "Epoch 170, Loss 0.0221\n",
      "Training Accuracy: 0.9759, Testing Accuracy: 0.9738\n",
      "\n"
     ]
    },
    {
     "name": "stdout",
     "output_type": "stream",
     "text": [
      "Epoch 180, Loss 0.0216\n",
      "Training Accuracy: 0.9766, Testing Accuracy: 0.9743\n",
      "\n"
     ]
    },
    {
     "name": "stdout",
     "output_type": "stream",
     "text": [
      "Epoch 190, Loss 0.0211\n",
      "Training Accuracy: 0.9767, Testing Accuracy: 0.9753\n",
      "\n"
     ]
    },
    {
     "name": "stdout",
     "output_type": "stream",
     "text": [
      "Epoch 200, Loss 0.0207\n",
      "Training Accuracy: 0.9773, Testing Accuracy: 0.9748\n",
      "\n"
     ]
    },
    {
     "name": "stdout",
     "output_type": "stream",
     "text": [
      "Epoch 210, Loss 0.0202\n",
      "Training Accuracy: 0.9780, Testing Accuracy: 0.9748\n",
      "\n"
     ]
    },
    {
     "name": "stdout",
     "output_type": "stream",
     "text": [
      "Epoch 220, Loss 0.0198\n",
      "Training Accuracy: 0.9784, Testing Accuracy: 0.9743\n",
      "\n"
     ]
    },
    {
     "name": "stdout",
     "output_type": "stream",
     "text": [
      "Epoch 230, Loss 0.0194\n",
      "Training Accuracy: 0.9786, Testing Accuracy: 0.9743\n",
      "\n"
     ]
    },
    {
     "name": "stdout",
     "output_type": "stream",
     "text": [
      "Epoch 240, Loss 0.019\n",
      "Training Accuracy: 0.9793, Testing Accuracy: 0.9743\n",
      "\n"
     ]
    },
    {
     "name": "stdout",
     "output_type": "stream",
     "text": [
      "Epoch 250, Loss 0.0186\n",
      "Training Accuracy: 0.9796, Testing Accuracy: 0.9743\n",
      "\n"
     ]
    },
    {
     "data": {
      "text/plain": [
       "0.015469467082441395"
      ]
     },
     "execution_count": 20,
     "metadata": {},
     "output_type": "execute_result"
    }
   ],
   "source": [
    "print(\"====== Neural Network ======\")\n",
    "learner_nn.train_loop(dl)"
   ]
  },
  {
   "cell_type": "markdown",
   "metadata": {
    "papermill": {
     "duration": 0.077428,
     "end_time": "2020-09-14T10:07:13.048543",
     "exception": false,
     "start_time": "2020-09-14T10:07:12.971115",
     "status": "completed"
    },
    "tags": []
   },
   "source": [
    "### Logistic Regression based Implementation."
   ]
  },
  {
   "cell_type": "code",
   "execution_count": 21,
   "metadata": {
    "execution": {
     "iopub.execute_input": "2020-09-14T10:07:13.146678Z",
     "iopub.status.busy": "2020-09-14T10:07:13.145907Z",
     "iopub.status.idle": "2020-09-14T10:07:13.156869Z",
     "shell.execute_reply": "2020-09-14T10:07:13.157449Z"
    },
    "papermill": {
     "duration": 0.064643,
     "end_time": "2020-09-14T10:07:13.157643",
     "exception": false,
     "start_time": "2020-09-14T10:07:13.093000",
     "status": "completed"
    },
    "tags": []
   },
   "outputs": [],
   "source": [
    "learner_lr = Learner(loss, model_lr, opt, config.num_epochs)\n",
    "acc_lr = ClfCallback(learner_lr, config.bs, training_xdata , testing_xdata, training_ydata, testing_ydata)\n",
    "learner_lr.set_callbacks([acc_lr])"
   ]
  },
  {
   "cell_type": "code",
   "execution_count": 22,
   "metadata": {
    "execution": {
     "iopub.execute_input": "2020-09-14T10:07:13.252543Z",
     "iopub.status.busy": "2020-09-14T10:07:13.251839Z",
     "iopub.status.idle": "2020-09-14T10:07:34.034364Z",
     "shell.execute_reply": "2020-09-14T10:07:34.033452Z"
    },
    "papermill": {
     "duration": 20.832195,
     "end_time": "2020-09-14T10:07:34.034516",
     "exception": false,
     "start_time": "2020-09-14T10:07:13.202321",
     "status": "completed"
    },
    "tags": []
   },
   "outputs": [
    {
     "name": "stdout",
     "output_type": "stream",
     "text": [
      "====== Logistic Regression ======\n",
      "Epoch 0, Loss 0.2809\n",
      "Training Accuracy: 0.5649, Testing Accuracy: 0.5696\n",
      "\n"
     ]
    },
    {
     "name": "stdout",
     "output_type": "stream",
     "text": [
      "Epoch 10, Loss 0.101\n",
      "Training Accuracy: 0.9215, Testing Accuracy: 0.9304\n",
      "\n"
     ]
    },
    {
     "name": "stdout",
     "output_type": "stream",
     "text": [
      "Epoch 20, Loss 0.0768\n",
      "Training Accuracy: 0.9341, Testing Accuracy: 0.9435\n",
      "\n"
     ]
    },
    {
     "name": "stdout",
     "output_type": "stream",
     "text": [
      "Epoch 30, Loss 0.0662\n",
      "Training Accuracy: 0.9403, Testing Accuracy: 0.9511\n",
      "\n"
     ]
    },
    {
     "name": "stdout",
     "output_type": "stream",
     "text": [
      "Epoch 40, Loss 0.0599\n",
      "Training Accuracy: 0.9442, Testing Accuracy: 0.9546\n",
      "\n"
     ]
    },
    {
     "name": "stdout",
     "output_type": "stream",
     "text": [
      "Epoch 50, Loss 0.0556\n",
      "Training Accuracy: 0.9472, Testing Accuracy: 0.9572\n",
      "\n"
     ]
    },
    {
     "name": "stdout",
     "output_type": "stream",
     "text": [
      "Epoch 60, Loss 0.0524\n",
      "Training Accuracy: 0.9503, Testing Accuracy: 0.9592\n",
      "\n"
     ]
    },
    {
     "name": "stdout",
     "output_type": "stream",
     "text": [
      "Epoch 70, Loss 0.05\n",
      "Training Accuracy: 0.9522, Testing Accuracy: 0.9607\n",
      "\n"
     ]
    },
    {
     "name": "stdout",
     "output_type": "stream",
     "text": [
      "Epoch 80, Loss 0.0481\n",
      "Training Accuracy: 0.9535, Testing Accuracy: 0.9617\n",
      "\n"
     ]
    },
    {
     "name": "stdout",
     "output_type": "stream",
     "text": [
      "Epoch 90, Loss 0.0465\n",
      "Training Accuracy: 0.9541, Testing Accuracy: 0.9627\n",
      "\n"
     ]
    },
    {
     "name": "stdout",
     "output_type": "stream",
     "text": [
      "Epoch 100, Loss 0.0452\n",
      "Training Accuracy: 0.9548, Testing Accuracy: 0.9637\n",
      "\n"
     ]
    },
    {
     "name": "stdout",
     "output_type": "stream",
     "text": [
      "Epoch 110, Loss 0.044\n",
      "Training Accuracy: 0.9559, Testing Accuracy: 0.9642\n",
      "\n"
     ]
    },
    {
     "name": "stdout",
     "output_type": "stream",
     "text": [
      "Epoch 120, Loss 0.043\n",
      "Training Accuracy: 0.9567, Testing Accuracy: 0.9642\n",
      "\n"
     ]
    },
    {
     "name": "stdout",
     "output_type": "stream",
     "text": [
      "Epoch 130, Loss 0.0421\n",
      "Training Accuracy: 0.9574, Testing Accuracy: 0.9652\n",
      "\n"
     ]
    },
    {
     "name": "stdout",
     "output_type": "stream",
     "text": [
      "Epoch 140, Loss 0.0414\n",
      "Training Accuracy: 0.9579, Testing Accuracy: 0.9662\n",
      "\n"
     ]
    },
    {
     "name": "stdout",
     "output_type": "stream",
     "text": [
      "Epoch 150, Loss 0.0407\n",
      "Training Accuracy: 0.9584, Testing Accuracy: 0.9672\n",
      "\n"
     ]
    },
    {
     "name": "stdout",
     "output_type": "stream",
     "text": [
      "Epoch 160, Loss 0.04\n",
      "Training Accuracy: 0.9584, Testing Accuracy: 0.9672\n",
      "\n"
     ]
    },
    {
     "name": "stdout",
     "output_type": "stream",
     "text": [
      "Epoch 170, Loss 0.0394\n",
      "Training Accuracy: 0.9587, Testing Accuracy: 0.9677\n",
      "\n"
     ]
    },
    {
     "name": "stdout",
     "output_type": "stream",
     "text": [
      "Epoch 180, Loss 0.0389\n",
      "Training Accuracy: 0.9594, Testing Accuracy: 0.9677\n",
      "\n"
     ]
    },
    {
     "name": "stdout",
     "output_type": "stream",
     "text": [
      "Epoch 190, Loss 0.0384\n",
      "Training Accuracy: 0.9596, Testing Accuracy: 0.9682\n",
      "\n"
     ]
    },
    {
     "name": "stdout",
     "output_type": "stream",
     "text": [
      "Epoch 200, Loss 0.038\n",
      "Training Accuracy: 0.9597, Testing Accuracy: 0.9688\n",
      "\n"
     ]
    },
    {
     "name": "stdout",
     "output_type": "stream",
     "text": [
      "Epoch 210, Loss 0.0375\n",
      "Training Accuracy: 0.9601, Testing Accuracy: 0.9688\n",
      "\n"
     ]
    },
    {
     "name": "stdout",
     "output_type": "stream",
     "text": [
      "Epoch 220, Loss 0.0372\n",
      "Training Accuracy: 0.9605, Testing Accuracy: 0.9688\n",
      "\n"
     ]
    },
    {
     "name": "stdout",
     "output_type": "stream",
     "text": [
      "Epoch 230, Loss 0.0368\n",
      "Training Accuracy: 0.9612, Testing Accuracy: 0.9688\n",
      "\n"
     ]
    },
    {
     "name": "stdout",
     "output_type": "stream",
     "text": [
      "Epoch 240, Loss 0.0364\n",
      "Training Accuracy: 0.9615, Testing Accuracy: 0.9688\n",
      "\n"
     ]
    },
    {
     "name": "stdout",
     "output_type": "stream",
     "text": [
      "Epoch 250, Loss 0.0361\n",
      "Training Accuracy: 0.9618, Testing Accuracy: 0.9688\n",
      "\n"
     ]
    },
    {
     "data": {
      "text/plain": [
       "0.060438961866493696"
      ]
     },
     "execution_count": 22,
     "metadata": {},
     "output_type": "execute_result"
    }
   ],
   "source": [
    "print(\"====== Logistic Regression ======\")\n",
    "learner_lr.train_loop(dl)"
   ]
  },
  {
   "cell_type": "markdown",
   "metadata": {
    "papermill": {
     "duration": 0.057547,
     "end_time": "2020-09-14T10:07:34.146432",
     "exception": false,
     "start_time": "2020-09-14T10:07:34.088885",
     "status": "completed"
    },
    "tags": []
   },
   "source": [
    "### Comparing results of NN and LR"
   ]
  },
  {
   "cell_type": "code",
   "execution_count": 23,
   "metadata": {
    "execution": {
     "iopub.execute_input": "2020-09-14T10:07:34.260007Z",
     "iopub.status.busy": "2020-09-14T10:07:34.259307Z",
     "iopub.status.idle": "2020-09-14T10:07:34.561147Z",
     "shell.execute_reply": "2020-09-14T10:07:34.560462Z"
    },
    "papermill": {
     "duration": 0.360459,
     "end_time": "2020-09-14T10:07:34.561303",
     "exception": false,
     "start_time": "2020-09-14T10:07:34.200844",
     "status": "completed"
    },
    "tags": []
   },
   "outputs": [
    {
     "data": {
      "text/plain": [
       "<matplotlib.legend.Legend at 0x7fbc351b3128>"
      ]
     },
     "execution_count": 23,
     "metadata": {},
     "output_type": "execute_result"
    },
    {
     "data": {
      "image/png": "[encoded data removed]",
      "text/plain": [
       "<Figure size 1080x720 with 1 Axes>"
      ]
     },
     "metadata": {
      "needs_background": "light"
     },
     "output_type": "display_data"
    }
   ],
   "source": [
    "plt.figure(figsize=(15,10))\n",
    "\n",
    "# Neural Network plots\n",
    "plt.plot(acc_nn.accuracies, 'r-', label = \"Training Accuracies - NN\")\n",
    "plt.plot(acc_nn.test_accuracies, 'g-', label = \"Testing Accuracies - NN\")\n",
    "\n",
    "# Logistic Regression plots\n",
    "plt.plot(acc_lr.accuracies, 'k-', label = \"Training Accuracies - LR\")\n",
    "plt.plot(acc_lr.test_accuracies, 'b-', label = \"Testing Accuracies - LR\")\n",
    "\n",
    "plt.ylim(0.8, 1)\n",
    "\n",
    "plt.legend()\n",
    "\n"
   ]
  },
  {
   "cell_type": "markdown",
   "metadata": {
    "papermill": {
     "duration": 0.054532,
     "end_time": "2020-09-14T10:07:34.669548",
     "exception": false,
     "start_time": "2020-09-14T10:07:34.615016",
     "status": "completed"
    },
    "tags": []
   },
   "source": [
    "### From the plot, we can observe the following:\n",
    "- Neural Network achieves higher accuracy than the Logistic Regression model.\n",
    "- This apparently, is because of overfitting, i.e. NN captures more noise than data.\n",
    "- Testing accuracy of NN drops below the Training accuracy at higher epochs. This explains the over-fitting on training data.\n",
    "- Logistic Regression gives a reliable accuracy, without the above mentioned problem.\n"
   ]
  },
  {
   "cell_type": "markdown",
   "metadata": {
    "papermill": {
     "duration": 0.055278,
     "end_time": "2020-09-14T10:07:34.778803",
     "exception": false,
     "start_time": "2020-09-14T10:07:34.723525",
     "status": "completed"
    },
    "tags": []
   },
   "source": [
    "### Moving till the last but one layer (excluding it).\n",
    "#### Plotting the outputs of this layer of the NN."
   ]
  },
  {
   "cell_type": "code",
   "execution_count": 24,
   "metadata": {
    "execution": {
     "iopub.execute_input": "2020-09-14T10:07:34.894930Z",
     "iopub.status.busy": "2020-09-14T10:07:34.893604Z",
     "iopub.status.idle": "2020-09-14T10:07:34.909516Z",
     "shell.execute_reply": "2020-09-14T10:07:34.908075Z"
    },
    "papermill": {
     "duration": 0.075906,
     "end_time": "2020-09-14T10:07:34.909682",
     "exception": false,
     "start_time": "2020-09-14T10:07:34.833776",
     "status": "completed"
    },
    "tags": []
   },
   "outputs": [],
   "source": [
    "model_new = Model(layers[:-2])"
   ]
  },
  {
   "cell_type": "code",
   "execution_count": 25,
   "metadata": {
    "execution": {
     "iopub.execute_input": "2020-09-14T10:07:35.029692Z",
     "iopub.status.busy": "2020-09-14T10:07:35.023865Z",
     "iopub.status.idle": "2020-09-14T10:07:35.061441Z",
     "shell.execute_reply": "2020-09-14T10:07:35.062342Z"
    },
    "papermill": {
     "duration": 0.097742,
     "end_time": "2020-09-14T10:07:35.062526",
     "exception": false,
     "start_time": "2020-09-14T10:07:34.964784",
     "status": "completed"
    },
    "tags": []
   },
   "outputs": [],
   "source": [
    "plot_testing = model_new(testing_xdata)"
   ]
  },
  {
   "cell_type": "code",
   "execution_count": 26,
   "metadata": {
    "execution": {
     "iopub.execute_input": "2020-09-14T10:07:35.184086Z",
     "iopub.status.busy": "2020-09-14T10:07:35.182961Z",
     "iopub.status.idle": "2020-09-14T10:07:35.447912Z",
     "shell.execute_reply": "2020-09-14T10:07:35.448469Z"
    },
    "papermill": {
     "duration": 0.326443,
     "end_time": "2020-09-14T10:07:35.448641",
     "exception": false,
     "start_time": "2020-09-14T10:07:35.122198",
     "status": "completed"
    },
    "tags": []
   },
   "outputs": [
    {
     "data": {
      "text/plain": [
       "Text(0.5, 1.0, 'Outputs')"
      ]
     },
     "execution_count": 26,
     "metadata": {},
     "output_type": "execute_result"
    },
    {
     "data": {
      "image/png": "[encoded data removed]",
      "text/plain": [
       "<Figure size 576x504 with 1 Axes>"
      ]
     },
     "metadata": {
      "needs_background": "light"
     },
     "output_type": "display_data"
    }
   ],
   "source": [
    "plt.figure(figsize=(8,7))\n",
    "plt.scatter(plot_testing[:,0], plot_testing[:,1], alpha = 0.1, c = y_test.ravel());\n",
    "plt.title('Outputs')"
   ]
  },
  {
   "cell_type": "markdown",
   "metadata": {
    "papermill": {
     "duration": 0.059316,
     "end_time": "2020-09-14T10:07:35.569318",
     "exception": false,
     "start_time": "2020-09-14T10:07:35.510002",
     "status": "completed"
    },
    "tags": []
   },
   "source": [
    "### Plotting probability contours"
   ]
  },
  {
   "cell_type": "code",
   "execution_count": 27,
   "metadata": {
    "execution": {
     "iopub.execute_input": "2020-09-14T10:07:35.693323Z",
     "iopub.status.busy": "2020-09-14T10:07:35.692569Z",
     "iopub.status.idle": "2020-09-14T10:07:35.708437Z",
     "shell.execute_reply": "2020-09-14T10:07:35.707846Z"
    },
    "papermill": {
     "duration": 0.078698,
     "end_time": "2020-09-14T10:07:35.708595",
     "exception": false,
     "start_time": "2020-09-14T10:07:35.629897",
     "status": "completed"
    },
    "tags": []
   },
   "outputs": [],
   "source": [
    "model_prob = Model(layers[-2:]) "
   ]
  },
  {
   "cell_type": "code",
   "execution_count": 28,
   "metadata": {
    "execution": {
     "iopub.execute_input": "2020-09-14T10:07:35.851229Z",
     "iopub.status.busy": "2020-09-14T10:07:35.838231Z",
     "iopub.status.idle": "2020-09-14T10:07:35.852105Z",
     "shell.execute_reply": "2020-09-14T10:07:35.852686Z"
    },
    "papermill": {
     "duration": 0.083203,
     "end_time": "2020-09-14T10:07:35.852864",
     "exception": false,
     "start_time": "2020-09-14T10:07:35.769661",
     "status": "completed"
    },
    "tags": []
   },
   "outputs": [],
   "source": [
    "# Adjust the x and y ranges according to the above generated plot.\n",
    "x_range = np.linspace(-4, 1, 100) \n",
    "y_range = np.linspace(-6, 6, 100) \n",
    "x_grid, y_grid = np.meshgrid(x_range, y_range) # x_grid and y_grig are of size 100 X 100\n",
    "\n",
    "# converting x_grid and y_grid to continuous arrays\n",
    "x_grid_flat = np.ravel(x_grid)\n",
    "y_grid_flat = np.ravel(y_grid)\n",
    "\n",
    "# The last layer of the current model takes two columns as input. Hence transpose of np.vstack() is required.\n",
    "X = np.vstack((x_grid_flat, y_grid_flat)).T\n",
    "\n",
    "# x_grid and y_grid are of size 100 x 100\n",
    "probability_contour = model_prob(X).reshape(100,100) "
   ]
  },
  {
   "cell_type": "code",
   "execution_count": 29,
   "metadata": {
    "execution": {
     "iopub.execute_input": "2020-09-14T10:07:35.973720Z",
     "iopub.status.busy": "2020-09-14T10:07:35.972954Z",
     "iopub.status.idle": "2020-09-14T10:07:36.293550Z",
     "shell.execute_reply": "2020-09-14T10:07:36.292421Z"
    },
    "papermill": {
     "duration": 0.383875,
     "end_time": "2020-09-14T10:07:36.293704",
     "exception": false,
     "start_time": "2020-09-14T10:07:35.909829",
     "status": "completed"
    },
    "tags": []
   },
   "outputs": [
    {
     "data": {
      "image/png": "[encoded data removed]",
      "text/plain": [
       "<Figure size 720x648 with 1 Axes>"
      ]
     },
     "metadata": {
      "needs_background": "light"
     },
     "output_type": "display_data"
    }
   ],
   "source": [
    "plt.figure(figsize=(10,9))\n",
    "plt.scatter(plot_testing[:,0], plot_testing[:,1], alpha = 0.1, c = y_test.ravel())\n",
    "contours = plt.contour(x_grid,y_grid,probability_contour)\n",
    "plt.title('Probability Contours')\n",
    "plt.clabel(contours, inline = True );"
   ]
  }
 ],
 "metadata": {
  "kernelspec": {
   "display_name": "Python 3",
   "language": "python",
   "name": "python3"
  },
  "language_info": {
   "codemirror_mode": {
    "name": "ipython",
    "version": 3
   },
   "file_extension": ".py",
   "mimetype": "text/x-python",
   "name": "python",
   "nbconvert_exporter": "python",
   "pygments_lexer": "ipython3",
   "version": "3.6.12"
  },
  "papermill": {
   "duration": 173.384152,
   "end_time": "2020-09-14T10:07:36.765953",
   "environment_variables": {},
   "exception": null,
   "input_path": "2020-08-11-NeuralNetwork.ipynb",
   "output_path": "2020-08-11-NeuralNetwork.ipynb",
   "parameters": {},
   "start_time": "2020-09-14T10:04:43.381801",
   "version": "2.1.2"
  }
 },
 "nbformat": 4,
 "nbformat_minor": 4
}