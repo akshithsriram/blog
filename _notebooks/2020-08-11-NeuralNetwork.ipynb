{
 "cells": [
  {
   "cell_type": "markdown",
   "metadata": {
    "papermill": {
     "duration": 0.02903,
     "end_time": "2020-10-24T00:06:55.290523",
     "exception": false,
     "start_time": "2020-10-24T00:06:55.261493",
     "status": "completed"
    },
    "tags": []
   },
   "source": [
    "# \"A Basic Neural Network: Differentiate Hand-Written Digits\"\n",
    "\n",
    "- badges: true\n",
    "- author: Akshith Sriram"
   ]
  },
  {
   "cell_type": "markdown",
   "metadata": {
    "papermill": {
     "duration": 0.02773,
     "end_time": "2020-10-24T00:06:55.343998",
     "exception": false,
     "start_time": "2020-10-24T00:06:55.316268",
     "status": "completed"
    },
    "tags": []
   },
   "source": [
    "### Key Objectives:\n",
    "- Building a neural network that differentiates two hand-written digits 3 and 8.\n",
    "- Comparing the results of this Neural Network (NN) to that of a Logistic Regression (LR) model.\n",
    "\n",
    "### Requirements:\n",
    "- 'Kudzu' : A neural network library that was designed during our course by [Univ.AI](www.univ.ai). \n",
    "- MNIST Database\n",
    "\n",
    "If MNIST is not installed, use the command `!pip install mnist` given below.\n",
    "It can be run both from the command line and Jupyter Notebook."
   ]
  },
  {
   "cell_type": "code",
   "execution_count": 1,
   "metadata": {
    "execution": {
     "iopub.execute_input": "2020-10-24T00:06:55.404147Z",
     "iopub.status.busy": "2020-10-24T00:06:55.403545Z",
     "iopub.status.idle": "2020-10-24T00:06:57.136934Z",
     "shell.execute_reply": "2020-10-24T00:06:57.136458Z"
    },
    "papermill": {
     "duration": 1.764438,
     "end_time": "2020-10-24T00:06:57.137078",
     "exception": false,
     "start_time": "2020-10-24T00:06:55.372640",
     "status": "completed"
    },
    "tags": []
   },
   "outputs": [
    {
     "name": "stdout",
     "output_type": "stream",
     "text": [
      "Collecting mnist\r\n"
     ]
    },
    {
     "name": "stdout",
     "output_type": "stream",
     "text": [
      "  Downloading mnist-0.2.2-py2.py3-none-any.whl (3.5 kB)\r\n"
     ]
    },
    {
     "name": "stdout",
     "output_type": "stream",
     "text": [
      "Requirement already satisfied: numpy in /opt/hostedtoolcache/Python/3.6.12/x64/lib/python3.6/site-packages (from mnist) (1.19.2)\r\n"
     ]
    },
    {
     "name": "stdout",
     "output_type": "stream",
     "text": [
      "Installing collected packages: mnist\r\n"
     ]
    },
    {
     "name": "stdout",
     "output_type": "stream",
     "text": [
      "Successfully installed mnist-0.2.2\r\n"
     ]
    },
    {
     "name": "stdout",
     "output_type": "stream",
     "text": [
      "\u001b[33mWARNING: You are using pip version 20.2.3; however, version 20.2.4 is available.\r\n",
      "You should consider upgrading via the '/opt/hostedtoolcache/Python/3.6.12/x64/bin/python -m pip install --upgrade pip' command.\u001b[0m\r\n"
     ]
    }
   ],
   "source": [
    "!pip install mnist "
   ]
  },
  {
   "cell_type": "markdown",
   "metadata": {
    "papermill": {
     "duration": 0.028183,
     "end_time": "2020-10-24T00:06:57.237017",
     "exception": false,
     "start_time": "2020-10-24T00:06:57.208834",
     "status": "completed"
    },
    "tags": []
   },
   "source": [
    "#### Importing necessary libraries"
   ]
  },
  {
   "cell_type": "code",
   "execution_count": 2,
   "metadata": {
    "execution": {
     "iopub.execute_input": "2020-10-24T00:06:57.422401Z",
     "iopub.status.busy": "2020-10-24T00:06:57.421804Z",
     "iopub.status.idle": "2020-10-24T00:06:57.967903Z",
     "shell.execute_reply": "2020-10-24T00:06:57.968338Z"
    },
    "papermill": {
     "duration": 0.647577,
     "end_time": "2020-10-24T00:06:57.968492",
     "exception": false,
     "start_time": "2020-10-24T00:06:57.320915",
     "status": "completed"
    },
    "tags": []
   },
   "outputs": [],
   "source": [
    "%load_ext autoreload\n",
    "%autoreload 2\n",
    "\n",
    "%matplotlib inline\n",
    "import matplotlib.pyplot as plt\n",
    "\n",
    "import numpy as np\n",
    "import pandas as pd"
   ]
  },
  {
   "cell_type": "markdown",
   "metadata": {
    "papermill": {
     "duration": 0.027275,
     "end_time": "2020-10-24T00:06:58.022885",
     "exception": false,
     "start_time": "2020-10-24T00:06:57.995610",
     "status": "completed"
    },
    "tags": []
   },
   "source": [
    "### Preparing the Data"
   ]
  },
  {
   "cell_type": "code",
   "execution_count": 3,
   "metadata": {
    "execution": {
     "iopub.execute_input": "2020-10-24T00:06:58.080110Z",
     "iopub.status.busy": "2020-10-24T00:06:58.079486Z",
     "iopub.status.idle": "2020-10-24T00:06:58.091653Z",
     "shell.execute_reply": "2020-10-24T00:06:58.091174Z"
    },
    "papermill": {
     "duration": 0.042514,
     "end_time": "2020-10-24T00:06:58.091777",
     "exception": false,
     "start_time": "2020-10-24T00:06:58.049263",
     "status": "completed"
    },
    "tags": []
   },
   "outputs": [],
   "source": [
    "import mnist"
   ]
  },
  {
   "cell_type": "code",
   "execution_count": 4,
   "metadata": {
    "execution": {
     "iopub.execute_input": "2020-10-24T00:06:58.153234Z",
     "iopub.status.busy": "2020-10-24T00:06:58.152682Z",
     "iopub.status.idle": "2020-10-24T00:06:59.120858Z",
     "shell.execute_reply": "2020-10-24T00:06:59.120247Z"
    },
    "papermill": {
     "duration": 1.003209,
     "end_time": "2020-10-24T00:06:59.120984",
     "exception": false,
     "start_time": "2020-10-24T00:06:58.117775",
     "status": "completed"
    },
    "tags": []
   },
   "outputs": [],
   "source": [
    "train_images = mnist.train_images()\n",
    "train_labels = mnist.train_labels()"
   ]
  },
  {
   "cell_type": "code",
   "execution_count": 5,
   "metadata": {
    "execution": {
     "iopub.execute_input": "2020-10-24T00:06:59.183518Z",
     "iopub.status.busy": "2020-10-24T00:06:59.181814Z",
     "iopub.status.idle": "2020-10-24T00:06:59.195392Z",
     "shell.execute_reply": "2020-10-24T00:06:59.194928Z"
    },
    "papermill": {
     "duration": 0.048163,
     "end_time": "2020-10-24T00:06:59.195525",
     "exception": false,
     "start_time": "2020-10-24T00:06:59.147362",
     "status": "completed"
    },
    "tags": []
   },
   "outputs": [
    {
     "data": {
      "text/plain": [
       "((60000, 28, 28), (60000,))"
      ]
     },
     "execution_count": 5,
     "metadata": {},
     "output_type": "execute_result"
    }
   ],
   "source": [
    "train_images.shape, train_labels.shape"
   ]
  },
  {
   "cell_type": "code",
   "execution_count": 6,
   "metadata": {
    "execution": {
     "iopub.execute_input": "2020-10-24T00:06:59.256513Z",
     "iopub.status.busy": "2020-10-24T00:06:59.255914Z",
     "iopub.status.idle": "2020-10-24T00:06:59.883177Z",
     "shell.execute_reply": "2020-10-24T00:06:59.883621Z"
    },
    "papermill": {
     "duration": 0.662656,
     "end_time": "2020-10-24T00:06:59.883823",
     "exception": false,
     "start_time": "2020-10-24T00:06:59.221167",
     "status": "completed"
    },
    "tags": []
   },
   "outputs": [],
   "source": [
    "test_images = mnist.test_images()\n",
    "test_labels = mnist.test_labels()"
   ]
  },
  {
   "cell_type": "code",
   "execution_count": 7,
   "metadata": {
    "execution": {
     "iopub.execute_input": "2020-10-24T00:06:59.940686Z",
     "iopub.status.busy": "2020-10-24T00:06:59.940139Z",
     "iopub.status.idle": "2020-10-24T00:06:59.953300Z",
     "shell.execute_reply": "2020-10-24T00:06:59.952819Z"
    },
    "papermill": {
     "duration": 0.043621,
     "end_time": "2020-10-24T00:06:59.953416",
     "exception": false,
     "start_time": "2020-10-24T00:06:59.909795",
     "status": "completed"
    },
    "tags": []
   },
   "outputs": [
    {
     "data": {
      "text/plain": [
       "((10000, 28, 28), (10000,))"
      ]
     },
     "execution_count": 7,
     "metadata": {},
     "output_type": "execute_result"
    }
   ],
   "source": [
    "test_images.shape, test_labels.shape"
   ]
  },
  {
   "cell_type": "code",
   "execution_count": 8,
   "metadata": {
    "execution": {
     "iopub.execute_input": "2020-10-24T00:07:00.017276Z",
     "iopub.status.busy": "2020-10-24T00:07:00.016682Z",
     "iopub.status.idle": "2020-10-24T00:07:00.181755Z",
     "shell.execute_reply": "2020-10-24T00:07:00.181264Z"
    },
    "papermill": {
     "duration": 0.201539,
     "end_time": "2020-10-24T00:07:00.181885",
     "exception": false,
     "start_time": "2020-10-24T00:06:59.980346",
     "status": "completed"
    },
    "tags": []
   },
   "outputs": [
    {
     "name": "stdout",
     "output_type": "stream",
     "text": [
      "2\n"
     ]
    },
    {
     "data": {
      "text/plain": [
       "<matplotlib.image.AxesImage at 0x7f08f7a30978>"
      ]
     },
     "execution_count": 8,
     "metadata": {},
     "output_type": "execute_result"
    },
    {
     "data": {
      "image/png": "[encoded data removed]",
      "text/plain": [
       "<Figure size 432x288 with 1 Axes>"
      ]
     },
     "metadata": {
      "needs_background": "light"
     },
     "output_type": "display_data"
    }
   ],
   "source": [
    "image_index = 7776 # You may select anything up to 60,000\n",
    "print(train_labels[image_index]) \n",
    "plt.imshow(train_images[image_index], cmap='Greys')"
   ]
  },
  {
   "cell_type": "markdown",
   "metadata": {
    "papermill": {
     "duration": 0.027664,
     "end_time": "2020-10-24T00:07:00.241739",
     "exception": false,
     "start_time": "2020-10-24T00:07:00.214075",
     "status": "completed"
    },
    "tags": []
   },
   "source": [
    "## Filter data to get 3 and 8 out"
   ]
  },
  {
   "cell_type": "code",
   "execution_count": 9,
   "metadata": {
    "execution": {
     "iopub.execute_input": "2020-10-24T00:07:00.302156Z",
     "iopub.status.busy": "2020-10-24T00:07:00.300740Z",
     "iopub.status.idle": "2020-10-24T00:07:00.320884Z",
     "shell.execute_reply": "2020-10-24T00:07:00.320366Z"
    },
    "papermill": {
     "duration": 0.051907,
     "end_time": "2020-10-24T00:07:00.321041",
     "exception": false,
     "start_time": "2020-10-24T00:07:00.269134",
     "status": "completed"
    },
    "tags": []
   },
   "outputs": [],
   "source": [
    "train_filter = np.where((train_labels == 3 ) | (train_labels == 8))\n",
    "test_filter = np.where((test_labels == 3) | (test_labels == 8))\n",
    "X_train, y_train = train_images[train_filter], train_labels[train_filter]\n",
    "X_test, y_test = test_images[test_filter], test_labels[test_filter]"
   ]
  },
  {
   "cell_type": "markdown",
   "metadata": {
    "papermill": {
     "duration": 0.027167,
     "end_time": "2020-10-24T00:07:00.379581",
     "exception": false,
     "start_time": "2020-10-24T00:07:00.352414",
     "status": "completed"
    },
    "tags": []
   },
   "source": [
    "We normalize the pixel values in the 0 to 1 range"
   ]
  },
  {
   "cell_type": "code",
   "execution_count": 10,
   "metadata": {
    "execution": {
     "iopub.execute_input": "2020-10-24T00:07:00.448087Z",
     "iopub.status.busy": "2020-10-24T00:07:00.439619Z",
     "iopub.status.idle": "2020-10-24T00:07:00.498616Z",
     "shell.execute_reply": "2020-10-24T00:07:00.498069Z"
    },
    "papermill": {
     "duration": 0.091804,
     "end_time": "2020-10-24T00:07:00.498751",
     "exception": false,
     "start_time": "2020-10-24T00:07:00.406947",
     "status": "completed"
    },
    "tags": []
   },
   "outputs": [],
   "source": [
    "X_train = X_train/255.\n",
    "X_test = X_test/255."
   ]
  },
  {
   "cell_type": "markdown",
   "metadata": {
    "papermill": {
     "duration": 0.0287,
     "end_time": "2020-10-24T00:07:00.556432",
     "exception": false,
     "start_time": "2020-10-24T00:07:00.527732",
     "status": "completed"
    },
    "tags": []
   },
   "source": [
    "Setup the labels as 1 (when the digit is 3) and 0 (when the digit is 8)"
   ]
  },
  {
   "cell_type": "code",
   "execution_count": 11,
   "metadata": {
    "execution": {
     "iopub.execute_input": "2020-10-24T00:07:00.618502Z",
     "iopub.status.busy": "2020-10-24T00:07:00.617870Z",
     "iopub.status.idle": "2020-10-24T00:07:00.629642Z",
     "shell.execute_reply": "2020-10-24T00:07:00.630229Z"
    },
    "papermill": {
     "duration": 0.043889,
     "end_time": "2020-10-24T00:07:00.630372",
     "exception": false,
     "start_time": "2020-10-24T00:07:00.586483",
     "status": "completed"
    },
    "tags": []
   },
   "outputs": [],
   "source": [
    "y_train = 1*(y_train==3)\n",
    "y_test = 1*(y_test==3)"
   ]
  },
  {
   "cell_type": "code",
   "execution_count": 12,
   "metadata": {
    "execution": {
     "iopub.execute_input": "2020-10-24T00:07:00.692199Z",
     "iopub.status.busy": "2020-10-24T00:07:00.691312Z",
     "iopub.status.idle": "2020-10-24T00:07:00.703938Z",
     "shell.execute_reply": "2020-10-24T00:07:00.704378Z"
    },
    "papermill": {
     "duration": 0.046198,
     "end_time": "2020-10-24T00:07:00.704505",
     "exception": false,
     "start_time": "2020-10-24T00:07:00.658307",
     "status": "completed"
    },
    "tags": []
   },
   "outputs": [
    {
     "data": {
      "text/plain": [
       "((11982, 28, 28), (1984, 28, 28))"
      ]
     },
     "execution_count": 12,
     "metadata": {},
     "output_type": "execute_result"
    }
   ],
   "source": [
    "X_train.shape, X_test.shape"
   ]
  },
  {
   "cell_type": "markdown",
   "metadata": {
    "papermill": {
     "duration": 0.02712,
     "end_time": "2020-10-24T00:07:00.759108",
     "exception": false,
     "start_time": "2020-10-24T00:07:00.731988",
     "status": "completed"
    },
    "tags": []
   },
   "source": [
    "### Reshape the input data to create a linear array"
   ]
  },
  {
   "cell_type": "code",
   "execution_count": 13,
   "metadata": {
    "execution": {
     "iopub.execute_input": "2020-10-24T00:07:00.826527Z",
     "iopub.status.busy": "2020-10-24T00:07:00.825942Z",
     "iopub.status.idle": "2020-10-24T00:07:00.835429Z",
     "shell.execute_reply": "2020-10-24T00:07:00.836257Z"
    },
    "papermill": {
     "duration": 0.050224,
     "end_time": "2020-10-24T00:07:00.836392",
     "exception": false,
     "start_time": "2020-10-24T00:07:00.786168",
     "status": "completed"
    },
    "tags": []
   },
   "outputs": [
    {
     "data": {
      "text/plain": [
       "((11982, 784), (1984, 784))"
      ]
     },
     "execution_count": 13,
     "metadata": {},
     "output_type": "execute_result"
    }
   ],
   "source": [
    "X_train = X_train.reshape(X_train.shape[0], -1)\n",
    "X_test = X_test.reshape(X_test.shape[0], -1)\n",
    "X_train.shape, X_test.shape"
   ]
  },
  {
   "cell_type": "markdown",
   "metadata": {
    "papermill": {
     "duration": 0.027937,
     "end_time": "2020-10-24T00:07:00.893958",
     "exception": false,
     "start_time": "2020-10-24T00:07:00.866021",
     "status": "completed"
    },
    "tags": []
   },
   "source": [
    "### Importing appropriate functions from 'Kudzu'"
   ]
  },
  {
   "cell_type": "code",
   "execution_count": 14,
   "metadata": {
    "execution": {
     "iopub.execute_input": "2020-10-24T00:07:00.958984Z",
     "iopub.status.busy": "2020-10-24T00:07:00.958402Z",
     "iopub.status.idle": "2020-10-24T00:07:00.977530Z",
     "shell.execute_reply": "2020-10-24T00:07:00.977077Z"
    },
    "papermill": {
     "duration": 0.053855,
     "end_time": "2020-10-24T00:07:00.977655",
     "exception": false,
     "start_time": "2020-10-24T00:07:00.923800",
     "status": "completed"
    },
    "tags": []
   },
   "outputs": [],
   "source": [
    "from kudzu.layer import Sigmoid\n",
    "from kudzu.layer import Relu\n",
    "from kudzu.layer import Affine, Sigmoid\n",
    "\n",
    "from kudzu.model import Model\n",
    "from kudzu.train import Learner\n",
    "from kudzu.optim import GD\n",
    "from kudzu.data import Data, Dataloader, Sampler\n",
    "\n",
    "from kudzu.callbacks import AccCallback\n",
    "from kudzu.callbacks import ClfCallback\n",
    "\n",
    "from kudzu.loss import MSE"
   ]
  },
  {
   "cell_type": "markdown",
   "metadata": {
    "papermill": {
     "duration": 0.033945,
     "end_time": "2020-10-24T00:07:01.043275",
     "exception": false,
     "start_time": "2020-10-24T00:07:01.009330",
     "status": "completed"
    },
    "tags": []
   },
   "source": [
    "### Let us create a `Config` class, to store important parameters. \n",
    "This class essentially plays the role of a dictionary."
   ]
  },
  {
   "cell_type": "code",
   "execution_count": 15,
   "metadata": {
    "execution": {
     "iopub.execute_input": "2020-10-24T00:07:01.107486Z",
     "iopub.status.busy": "2020-10-24T00:07:01.106924Z",
     "iopub.status.idle": "2020-10-24T00:07:01.116785Z",
     "shell.execute_reply": "2020-10-24T00:07:01.117328Z"
    },
    "papermill": {
     "duration": 0.045087,
     "end_time": "2020-10-24T00:07:01.117458",
     "exception": false,
     "start_time": "2020-10-24T00:07:01.072371",
     "status": "completed"
    },
    "tags": []
   },
   "outputs": [],
   "source": [
    "class Config:\n",
    "    pass\n",
    "config = Config()\n",
    "config.lr = 0.001\n",
    "config.num_epochs = 251\n",
    "config.bs = 50"
   ]
  },
  {
   "cell_type": "markdown",
   "metadata": {
    "papermill": {
     "duration": 0.0277,
     "end_time": "2020-10-24T00:07:01.174126",
     "exception": false,
     "start_time": "2020-10-24T00:07:01.146426",
     "status": "completed"
    },
    "tags": []
   },
   "source": [
    "### Initializing data to the variables"
   ]
  },
  {
   "cell_type": "code",
   "execution_count": 16,
   "metadata": {
    "execution": {
     "iopub.execute_input": "2020-10-24T00:07:01.238040Z",
     "iopub.status.busy": "2020-10-24T00:07:01.237473Z",
     "iopub.status.idle": "2020-10-24T00:07:01.249827Z",
     "shell.execute_reply": "2020-10-24T00:07:01.249318Z"
    },
    "papermill": {
     "duration": 0.045383,
     "end_time": "2020-10-24T00:07:01.249947",
     "exception": false,
     "start_time": "2020-10-24T00:07:01.204564",
     "status": "completed"
    },
    "tags": []
   },
   "outputs": [],
   "source": [
    "data = Data(X_train, y_train.reshape(-1,1))\n",
    "sampler = Sampler(data, config.bs, shuffle=True)\n",
    "\n",
    "dl = Dataloader(data, sampler)\n",
    "\n",
    "opt = GD(config.lr)\n",
    "loss = MSE()"
   ]
  },
  {
   "cell_type": "code",
   "execution_count": 17,
   "metadata": {
    "execution": {
     "iopub.execute_input": "2020-10-24T00:07:01.315682Z",
     "iopub.status.busy": "2020-10-24T00:07:01.315014Z",
     "iopub.status.idle": "2020-10-24T00:07:01.327184Z",
     "shell.execute_reply": "2020-10-24T00:07:01.327717Z"
    },
    "papermill": {
     "duration": 0.047105,
     "end_time": "2020-10-24T00:07:01.327908",
     "exception": false,
     "start_time": "2020-10-24T00:07:01.280803",
     "status": "completed"
    },
    "tags": []
   },
   "outputs": [],
   "source": [
    "training_xdata = X_train\n",
    "testing_xdata = X_test\n",
    "training_ydata = y_train.reshape(-1,1)\n",
    "testing_ydata = y_test.reshape(-1,1)"
   ]
  },
  {
   "cell_type": "markdown",
   "metadata": {
    "papermill": {
     "duration": 0.029797,
     "end_time": "2020-10-24T00:07:01.388758",
     "exception": false,
     "start_time": "2020-10-24T00:07:01.358961",
     "status": "completed"
    },
    "tags": []
   },
   "source": [
    "### Running Models with the Training data\n",
    "Details about the network layers:\n",
    "- A first affine layer has 784 inputs and does 100 affine transforms. These are followed by a Relu\n",
    "- A second affine layer has 100 inputs from the 100 activations of the past layer, and does 100 affine transforms. These are followed by a Relu\n",
    "- A third affine layer has 100 activations and does 2 affine transformations to create an embedding for visualization. There is no non-linearity here.\n",
    "- A final \"logistic regression\" which has an affine transform from 2 inputs to 1 output, which is squeezed through a sigmoid.\n",
    "\n",
    "Help taken from Anshuman's Notebook."
   ]
  },
  {
   "cell_type": "code",
   "execution_count": 18,
   "metadata": {
    "execution": {
     "iopub.execute_input": "2020-10-24T00:07:01.461113Z",
     "iopub.status.busy": "2020-10-24T00:07:01.454195Z",
     "iopub.status.idle": "2020-10-24T00:07:01.467707Z",
     "shell.execute_reply": "2020-10-24T00:07:01.467134Z"
    },
    "papermill": {
     "duration": 0.050457,
     "end_time": "2020-10-24T00:07:01.467827",
     "exception": false,
     "start_time": "2020-10-24T00:07:01.417370",
     "status": "completed"
    },
    "tags": []
   },
   "outputs": [],
   "source": [
    "# layers for the Neural Network\n",
    "layers = [Affine(\"first\", 784, 100), Relu(\"first\"), Affine(\"second\", 100, 100), Relu(\"second\"), Affine(\"third\", 100, 2), Affine(\"final\", 2, 1), Sigmoid(\"final\")]\n",
    "model_nn = Model(layers)\n",
    "\n",
    "# layers for the Logistic Regression\n",
    "layers_lr = [Affine(\"logits\", 784, 1), Sigmoid(\"sigmoid\")]\n",
    "model_lr = Model(layers_lr)"
   ]
  },
  {
   "cell_type": "code",
   "execution_count": 19,
   "metadata": {
    "execution": {
     "iopub.execute_input": "2020-10-24T00:07:01.537132Z",
     "iopub.status.busy": "2020-10-24T00:07:01.536425Z",
     "iopub.status.idle": "2020-10-24T00:07:01.543833Z",
     "shell.execute_reply": "2020-10-24T00:07:01.544408Z"
    },
    "papermill": {
     "duration": 0.048495,
     "end_time": "2020-10-24T00:07:01.544549",
     "exception": false,
     "start_time": "2020-10-24T00:07:01.496054",
     "status": "completed"
    },
    "tags": []
   },
   "outputs": [],
   "source": [
    "# suffix _nn stands for Neural Network.\n",
    "learner_nn = Learner(loss, model_nn, opt, config.num_epochs)\n",
    "acc_nn = ClfCallback(learner_nn, config.bs, training_xdata , testing_xdata, training_ydata, testing_ydata)\n",
    "learner_nn.set_callbacks([acc_nn])"
   ]
  },
  {
   "cell_type": "code",
   "execution_count": 20,
   "metadata": {
    "execution": {
     "iopub.execute_input": "2020-10-24T00:07:01.605004Z",
     "iopub.status.busy": "2020-10-24T00:07:01.604464Z",
     "iopub.status.idle": "2020-10-24T00:09:17.674847Z",
     "shell.execute_reply": "2020-10-24T00:09:17.675303Z"
    },
    "papermill": {
     "duration": 136.103622,
     "end_time": "2020-10-24T00:09:17.675467",
     "exception": false,
     "start_time": "2020-10-24T00:07:01.571845",
     "status": "completed"
    },
    "tags": []
   },
   "outputs": [
    {
     "name": "stdout",
     "output_type": "stream",
     "text": [
      "====== Neural Network ======\n"
     ]
    },
    {
     "name": "stdout",
     "output_type": "stream",
     "text": [
      "Epoch 0, Loss 0.2385\n",
      "Training Accuracy: 0.6926, Testing Accuracy: 0.7026\n",
      "\n"
     ]
    },
    {
     "name": "stdout",
     "output_type": "stream",
     "text": [
      "Epoch 10, Loss 0.0775\n",
      "Training Accuracy: 0.9242, Testing Accuracy: 0.9315\n",
      "\n"
     ]
    },
    {
     "name": "stdout",
     "output_type": "stream",
     "text": [
      "Epoch 20, Loss 0.0508\n",
      "Training Accuracy: 0.9462, Testing Accuracy: 0.9567\n",
      "\n"
     ]
    },
    {
     "name": "stdout",
     "output_type": "stream",
     "text": [
      "Epoch 30, Loss 0.0412\n",
      "Training Accuracy: 0.9548, Testing Accuracy: 0.9617\n",
      "\n"
     ]
    },
    {
     "name": "stdout",
     "output_type": "stream",
     "text": [
      "Epoch 40, Loss 0.0361\n",
      "Training Accuracy: 0.9595, Testing Accuracy: 0.9652\n",
      "\n"
     ]
    },
    {
     "name": "stdout",
     "output_type": "stream",
     "text": [
      "Epoch 50, Loss 0.0328\n",
      "Training Accuracy: 0.9628, Testing Accuracy: 0.9698\n",
      "\n"
     ]
    },
    {
     "name": "stdout",
     "output_type": "stream",
     "text": [
      "Epoch 60, Loss 0.0305\n",
      "Training Accuracy: 0.9649, Testing Accuracy: 0.9708\n",
      "\n"
     ]
    },
    {
     "name": "stdout",
     "output_type": "stream",
     "text": [
      "Epoch 70, Loss 0.0286\n",
      "Training Accuracy: 0.9660, Testing Accuracy: 0.9708\n",
      "\n"
     ]
    },
    {
     "name": "stdout",
     "output_type": "stream",
     "text": [
      "Epoch 80, Loss 0.0272\n",
      "Training Accuracy: 0.9677, Testing Accuracy: 0.9708\n",
      "\n"
     ]
    },
    {
     "name": "stdout",
     "output_type": "stream",
     "text": [
      "Epoch 90, Loss 0.026\n",
      "Training Accuracy: 0.9691, Testing Accuracy: 0.9723\n",
      "\n"
     ]
    },
    {
     "name": "stdout",
     "output_type": "stream",
     "text": [
      "Epoch 100, Loss 0.0249\n",
      "Training Accuracy: 0.9705, Testing Accuracy: 0.9723\n",
      "\n"
     ]
    },
    {
     "name": "stdout",
     "output_type": "stream",
     "text": [
      "Epoch 110, Loss 0.024\n",
      "Training Accuracy: 0.9715, Testing Accuracy: 0.9733\n",
      "\n"
     ]
    },
    {
     "name": "stdout",
     "output_type": "stream",
     "text": [
      "Epoch 120, Loss 0.0232\n",
      "Training Accuracy: 0.9725, Testing Accuracy: 0.9743\n",
      "\n"
     ]
    },
    {
     "name": "stdout",
     "output_type": "stream",
     "text": [
      "Epoch 130, Loss 0.0225\n",
      "Training Accuracy: 0.9733, Testing Accuracy: 0.9748\n",
      "\n"
     ]
    },
    {
     "name": "stdout",
     "output_type": "stream",
     "text": [
      "Epoch 140, Loss 0.0218\n",
      "Training Accuracy: 0.9749, Testing Accuracy: 0.9748\n",
      "\n"
     ]
    },
    {
     "name": "stdout",
     "output_type": "stream",
     "text": [
      "Epoch 150, Loss 0.0211\n",
      "Training Accuracy: 0.9757, Testing Accuracy: 0.9748\n",
      "\n"
     ]
    },
    {
     "name": "stdout",
     "output_type": "stream",
     "text": [
      "Epoch 160, Loss 0.0205\n",
      "Training Accuracy: 0.9771, Testing Accuracy: 0.9758\n",
      "\n"
     ]
    },
    {
     "name": "stdout",
     "output_type": "stream",
     "text": [
      "Epoch 170, Loss 0.02\n",
      "Training Accuracy: 0.9775, Testing Accuracy: 0.9763\n",
      "\n"
     ]
    },
    {
     "name": "stdout",
     "output_type": "stream",
     "text": [
      "Epoch 180, Loss 0.0194\n",
      "Training Accuracy: 0.9787, Testing Accuracy: 0.9763\n",
      "\n"
     ]
    },
    {
     "name": "stdout",
     "output_type": "stream",
     "text": [
      "Epoch 190, Loss 0.0189\n",
      "Training Accuracy: 0.9792, Testing Accuracy: 0.9768\n",
      "\n"
     ]
    },
    {
     "name": "stdout",
     "output_type": "stream",
     "text": [
      "Epoch 200, Loss 0.0184\n",
      "Training Accuracy: 0.9796, Testing Accuracy: 0.9773\n",
      "\n"
     ]
    },
    {
     "name": "stdout",
     "output_type": "stream",
     "text": [
      "Epoch 210, Loss 0.018\n",
      "Training Accuracy: 0.9800, Testing Accuracy: 0.9773\n",
      "\n"
     ]
    },
    {
     "name": "stdout",
     "output_type": "stream",
     "text": [
      "Epoch 220, Loss 0.0175\n",
      "Training Accuracy: 0.9803, Testing Accuracy: 0.9773\n",
      "\n"
     ]
    },
    {
     "name": "stdout",
     "output_type": "stream",
     "text": [
      "Epoch 230, Loss 0.0171\n",
      "Training Accuracy: 0.9811, Testing Accuracy: 0.9783\n",
      "\n"
     ]
    },
    {
     "name": "stdout",
     "output_type": "stream",
     "text": [
      "Epoch 240, Loss 0.0166\n",
      "Training Accuracy: 0.9815, Testing Accuracy: 0.9783\n",
      "\n"
     ]
    },
    {
     "name": "stdout",
     "output_type": "stream",
     "text": [
      "Epoch 250, Loss 0.0162\n",
      "Training Accuracy: 0.9823, Testing Accuracy: 0.9793\n",
      "\n"
     ]
    },
    {
     "data": {
      "text/plain": [
       "0.00045611025407826756"
      ]
     },
     "execution_count": 20,
     "metadata": {},
     "output_type": "execute_result"
    }
   ],
   "source": [
    "print(\"====== Neural Network ======\")\n",
    "learner_nn.train_loop(dl)"
   ]
  },
  {
   "cell_type": "markdown",
   "metadata": {
    "papermill": {
     "duration": 0.036946,
     "end_time": "2020-10-24T00:09:17.750565",
     "exception": false,
     "start_time": "2020-10-24T00:09:17.713619",
     "status": "completed"
    },
    "tags": []
   },
   "source": [
    "### Logistic Regression based Implementation."
   ]
  },
  {
   "cell_type": "code",
   "execution_count": 21,
   "metadata": {
    "execution": {
     "iopub.execute_input": "2020-10-24T00:09:17.848757Z",
     "iopub.status.busy": "2020-10-24T00:09:17.847617Z",
     "iopub.status.idle": "2020-10-24T00:09:17.858292Z",
     "shell.execute_reply": "2020-10-24T00:09:17.858760Z"
    },
    "papermill": {
     "duration": 0.062834,
     "end_time": "2020-10-24T00:09:17.858912",
     "exception": false,
     "start_time": "2020-10-24T00:09:17.796078",
     "status": "completed"
    },
    "tags": []
   },
   "outputs": [],
   "source": [
    "learner_lr = Learner(loss, model_lr, opt, config.num_epochs)\n",
    "acc_lr = ClfCallback(learner_lr, config.bs, training_xdata , testing_xdata, training_ydata, testing_ydata)\n",
    "learner_lr.set_callbacks([acc_lr])"
   ]
  },
  {
   "cell_type": "code",
   "execution_count": 22,
   "metadata": {
    "execution": {
     "iopub.execute_input": "2020-10-24T00:09:17.938255Z",
     "iopub.status.busy": "2020-10-24T00:09:17.937624Z",
     "iopub.status.idle": "2020-10-24T00:09:37.997723Z",
     "shell.execute_reply": "2020-10-24T00:09:37.997105Z"
    },
    "papermill": {
     "duration": 20.101191,
     "end_time": "2020-10-24T00:09:37.997871",
     "exception": false,
     "start_time": "2020-10-24T00:09:17.896680",
     "status": "completed"
    },
    "tags": []
   },
   "outputs": [
    {
     "name": "stdout",
     "output_type": "stream",
     "text": [
      "====== Logistic Regression ======\n",
      "Epoch 0, Loss 0.2247\n",
      "Training Accuracy: 0.7397, Testing Accuracy: 0.7440\n",
      "\n"
     ]
    },
    {
     "name": "stdout",
     "output_type": "stream",
     "text": [
      "Epoch 10, Loss 0.099\n",
      "Training Accuracy: 0.9190, Testing Accuracy: 0.9315\n",
      "\n"
     ]
    },
    {
     "name": "stdout",
     "output_type": "stream",
     "text": [
      "Epoch 20, Loss 0.0772\n",
      "Training Accuracy: 0.9315, Testing Accuracy: 0.9461\n",
      "\n"
     ]
    },
    {
     "name": "stdout",
     "output_type": "stream",
     "text": [
      "Epoch 30, Loss 0.0671\n",
      "Training Accuracy: 0.9388, Testing Accuracy: 0.9491\n",
      "\n"
     ]
    },
    {
     "name": "stdout",
     "output_type": "stream",
     "text": [
      "Epoch 40, Loss 0.0609\n",
      "Training Accuracy: 0.9428, Testing Accuracy: 0.9536\n",
      "\n"
     ]
    },
    {
     "name": "stdout",
     "output_type": "stream",
     "text": [
      "Epoch 50, Loss 0.0567\n",
      "Training Accuracy: 0.9458, Testing Accuracy: 0.9546\n",
      "\n"
     ]
    },
    {
     "name": "stdout",
     "output_type": "stream",
     "text": [
      "Epoch 60, Loss 0.0536\n",
      "Training Accuracy: 0.9473, Testing Accuracy: 0.9561\n",
      "\n"
     ]
    },
    {
     "name": "stdout",
     "output_type": "stream",
     "text": [
      "Epoch 70, Loss 0.0511\n",
      "Training Accuracy: 0.9488, Testing Accuracy: 0.9582\n",
      "\n"
     ]
    },
    {
     "name": "stdout",
     "output_type": "stream",
     "text": [
      "Epoch 80, Loss 0.0492\n",
      "Training Accuracy: 0.9503, Testing Accuracy: 0.9617\n",
      "\n"
     ]
    },
    {
     "name": "stdout",
     "output_type": "stream",
     "text": [
      "Epoch 90, Loss 0.0475\n",
      "Training Accuracy: 0.9514, Testing Accuracy: 0.9622\n",
      "\n"
     ]
    },
    {
     "name": "stdout",
     "output_type": "stream",
     "text": [
      "Epoch 100, Loss 0.0461\n",
      "Training Accuracy: 0.9525, Testing Accuracy: 0.9627\n",
      "\n"
     ]
    },
    {
     "name": "stdout",
     "output_type": "stream",
     "text": [
      "Epoch 110, Loss 0.0449\n",
      "Training Accuracy: 0.9533, Testing Accuracy: 0.9632\n",
      "\n"
     ]
    },
    {
     "name": "stdout",
     "output_type": "stream",
     "text": [
      "Epoch 120, Loss 0.0439\n",
      "Training Accuracy: 0.9543, Testing Accuracy: 0.9647\n",
      "\n"
     ]
    },
    {
     "name": "stdout",
     "output_type": "stream",
     "text": [
      "Epoch 130, Loss 0.043\n",
      "Training Accuracy: 0.9553, Testing Accuracy: 0.9657\n",
      "\n"
     ]
    },
    {
     "name": "stdout",
     "output_type": "stream",
     "text": [
      "Epoch 140, Loss 0.0422\n",
      "Training Accuracy: 0.9559, Testing Accuracy: 0.9657\n",
      "\n"
     ]
    },
    {
     "name": "stdout",
     "output_type": "stream",
     "text": [
      "Epoch 150, Loss 0.0414\n",
      "Training Accuracy: 0.9565, Testing Accuracy: 0.9667\n",
      "\n"
     ]
    },
    {
     "name": "stdout",
     "output_type": "stream",
     "text": [
      "Epoch 160, Loss 0.0407\n",
      "Training Accuracy: 0.9572, Testing Accuracy: 0.9672\n",
      "\n"
     ]
    },
    {
     "name": "stdout",
     "output_type": "stream",
     "text": [
      "Epoch 170, Loss 0.0401\n",
      "Training Accuracy: 0.9574, Testing Accuracy: 0.9677\n",
      "\n"
     ]
    },
    {
     "name": "stdout",
     "output_type": "stream",
     "text": [
      "Epoch 180, Loss 0.0396\n",
      "Training Accuracy: 0.9579, Testing Accuracy: 0.9677\n",
      "\n"
     ]
    },
    {
     "name": "stdout",
     "output_type": "stream",
     "text": [
      "Epoch 190, Loss 0.0391\n",
      "Training Accuracy: 0.9583, Testing Accuracy: 0.9677\n",
      "\n"
     ]
    },
    {
     "name": "stdout",
     "output_type": "stream",
     "text": [
      "Epoch 200, Loss 0.0386\n",
      "Training Accuracy: 0.9584, Testing Accuracy: 0.9677\n",
      "\n"
     ]
    },
    {
     "name": "stdout",
     "output_type": "stream",
     "text": [
      "Epoch 210, Loss 0.0381\n",
      "Training Accuracy: 0.9588, Testing Accuracy: 0.9677\n",
      "\n"
     ]
    },
    {
     "name": "stdout",
     "output_type": "stream",
     "text": [
      "Epoch 220, Loss 0.0377\n",
      "Training Accuracy: 0.9593, Testing Accuracy: 0.9677\n",
      "\n"
     ]
    },
    {
     "name": "stdout",
     "output_type": "stream",
     "text": [
      "Epoch 230, Loss 0.0374\n",
      "Training Accuracy: 0.9596, Testing Accuracy: 0.9677\n",
      "\n"
     ]
    },
    {
     "name": "stdout",
     "output_type": "stream",
     "text": [
      "Epoch 240, Loss 0.037\n",
      "Training Accuracy: 0.9599, Testing Accuracy: 0.9672\n",
      "\n"
     ]
    },
    {
     "name": "stdout",
     "output_type": "stream",
     "text": [
      "Epoch 250, Loss 0.0366\n",
      "Training Accuracy: 0.9601, Testing Accuracy: 0.9672\n",
      "\n"
     ]
    },
    {
     "data": {
      "text/plain": [
       "0.07226387702165542"
      ]
     },
     "execution_count": 22,
     "metadata": {},
     "output_type": "execute_result"
    }
   ],
   "source": [
    "print(\"====== Logistic Regression ======\")\n",
    "learner_lr.train_loop(dl)"
   ]
  },
  {
   "cell_type": "markdown",
   "metadata": {
    "papermill": {
     "duration": 0.046297,
     "end_time": "2020-10-24T00:09:38.093388",
     "exception": false,
     "start_time": "2020-10-24T00:09:38.047091",
     "status": "completed"
    },
    "tags": []
   },
   "source": [
    "### Comparing results of NN and LR"
   ]
  },
  {
   "cell_type": "code",
   "execution_count": 23,
   "metadata": {
    "execution": {
     "iopub.execute_input": "2020-10-24T00:09:38.190489Z",
     "iopub.status.busy": "2020-10-24T00:09:38.189476Z",
     "iopub.status.idle": "2020-10-24T00:09:38.462311Z",
     "shell.execute_reply": "2020-10-24T00:09:38.461842Z"
    },
    "papermill": {
     "duration": 0.324126,
     "end_time": "2020-10-24T00:09:38.462438",
     "exception": false,
     "start_time": "2020-10-24T00:09:38.138312",
     "status": "completed"
    },
    "tags": []
   },
   "outputs": [
    {
     "data": {
      "text/plain": [
       "<matplotlib.legend.Legend at 0x7f08f55912e8>"
      ]
     },
     "execution_count": 23,
     "metadata": {},
     "output_type": "execute_result"
    },
    {
     "data": {
      "image/png": "[encoded data removed]",
      "text/plain": [
       "<Figure size 1080x720 with 1 Axes>"
      ]
     },
     "metadata": {
      "needs_background": "light"
     },
     "output_type": "display_data"
    }
   ],
   "source": [
    "plt.figure(figsize=(15,10))\n",
    "\n",
    "# Neural Network plots\n",
    "plt.plot(acc_nn.accuracies, 'r-', label = \"Training Accuracies - NN\")\n",
    "plt.plot(acc_nn.test_accuracies, 'g-', label = \"Testing Accuracies - NN\")\n",
    "\n",
    "# Logistic Regression plots\n",
    "plt.plot(acc_lr.accuracies, 'k-', label = \"Training Accuracies - LR\")\n",
    "plt.plot(acc_lr.test_accuracies, 'b-', label = \"Testing Accuracies - LR\")\n",
    "\n",
    "plt.ylim(0.8, 1)\n",
    "\n",
    "plt.legend()\n",
    "\n"
   ]
  },
  {
   "cell_type": "markdown",
   "metadata": {
    "papermill": {
     "duration": 0.04683,
     "end_time": "2020-10-24T00:09:38.555964",
     "exception": false,
     "start_time": "2020-10-24T00:09:38.509134",
     "status": "completed"
    },
    "tags": []
   },
   "source": [
    "### From the plot, we can observe the following:\n",
    "- Neural Network achieves higher accuracy than the Logistic Regression model.\n",
    "- This apparently, is because of overfitting, i.e. NN captures more noise than data.\n",
    "- Testing accuracy of NN drops below the Training accuracy at higher epochs. This explains the over-fitting on training data.\n",
    "- Logistic Regression gives a reliable accuracy, without the above mentioned problem.\n"
   ]
  },
  {
   "cell_type": "markdown",
   "metadata": {
    "papermill": {
     "duration": 0.04443,
     "end_time": "2020-10-24T00:09:38.645780",
     "exception": false,
     "start_time": "2020-10-24T00:09:38.601350",
     "status": "completed"
    },
    "tags": []
   },
   "source": [
    "### Moving till the last but one layer (excluding it).\n",
    "#### Plotting the outputs of this layer of the NN."
   ]
  },
  {
   "cell_type": "code",
   "execution_count": 24,
   "metadata": {
    "execution": {
     "iopub.execute_input": "2020-10-24T00:09:38.744047Z",
     "iopub.status.busy": "2020-10-24T00:09:38.743058Z",
     "iopub.status.idle": "2020-10-24T00:09:38.755097Z",
     "shell.execute_reply": "2020-10-24T00:09:38.755565Z"
    },
    "papermill": {
     "duration": 0.064385,
     "end_time": "2020-10-24T00:09:38.755696",
     "exception": false,
     "start_time": "2020-10-24T00:09:38.691311",
     "status": "completed"
    },
    "tags": []
   },
   "outputs": [],
   "source": [
    "model_new = Model(layers[:-2])"
   ]
  },
  {
   "cell_type": "code",
   "execution_count": 25,
   "metadata": {
    "execution": {
     "iopub.execute_input": "2020-10-24T00:09:38.849303Z",
     "iopub.status.busy": "2020-10-24T00:09:38.848780Z",
     "iopub.status.idle": "2020-10-24T00:09:38.873000Z",
     "shell.execute_reply": "2020-10-24T00:09:38.873968Z"
    },
    "papermill": {
     "duration": 0.07308,
     "end_time": "2020-10-24T00:09:38.874171",
     "exception": false,
     "start_time": "2020-10-24T00:09:38.801091",
     "status": "completed"
    },
    "tags": []
   },
   "outputs": [],
   "source": [
    "plot_testing = model_new(testing_xdata)"
   ]
  },
  {
   "cell_type": "code",
   "execution_count": 26,
   "metadata": {
    "execution": {
     "iopub.execute_input": "2020-10-24T00:09:38.968943Z",
     "iopub.status.busy": "2020-10-24T00:09:38.968361Z",
     "iopub.status.idle": "2020-10-24T00:09:39.203931Z",
     "shell.execute_reply": "2020-10-24T00:09:39.204417Z"
    },
    "papermill": {
     "duration": 0.284498,
     "end_time": "2020-10-24T00:09:39.204584",
     "exception": false,
     "start_time": "2020-10-24T00:09:38.920086",
     "status": "completed"
    },
    "tags": []
   },
   "outputs": [
    {
     "data": {
      "text/plain": [
       "Text(0.5, 1.0, 'Outputs')"
      ]
     },
     "execution_count": 26,
     "metadata": {},
     "output_type": "execute_result"
    },
    {
     "data": {
      "image/png": "[encoded data removed]",
      "text/plain": [
       "<Figure size 576x504 with 1 Axes>"
      ]
     },
     "metadata": {
      "needs_background": "light"
     },
     "output_type": "display_data"
    }
   ],
   "source": [
    "plt.figure(figsize=(8,7))\n",
    "plt.scatter(plot_testing[:,0], plot_testing[:,1], alpha = 0.1, c = y_test.ravel());\n",
    "plt.title('Outputs')"
   ]
  },
  {
   "cell_type": "markdown",
   "metadata": {
    "papermill": {
     "duration": 0.050139,
     "end_time": "2020-10-24T00:09:39.309576",
     "exception": false,
     "start_time": "2020-10-24T00:09:39.259437",
     "status": "completed"
    },
    "tags": []
   },
   "source": [
    "### Plotting probability contours"
   ]
  },
  {
   "cell_type": "code",
   "execution_count": 27,
   "metadata": {
    "execution": {
     "iopub.execute_input": "2020-10-24T00:09:39.419749Z",
     "iopub.status.busy": "2020-10-24T00:09:39.414614Z",
     "iopub.status.idle": "2020-10-24T00:09:39.421745Z",
     "shell.execute_reply": "2020-10-24T00:09:39.422204Z"
    },
    "papermill": {
     "duration": 0.065404,
     "end_time": "2020-10-24T00:09:39.422350",
     "exception": false,
     "start_time": "2020-10-24T00:09:39.356946",
     "status": "completed"
    },
    "tags": []
   },
   "outputs": [],
   "source": [
    "model_prob = Model(layers[-2:]) "
   ]
  },
  {
   "cell_type": "code",
   "execution_count": 28,
   "metadata": {
    "execution": {
     "iopub.execute_input": "2020-10-24T00:09:39.523433Z",
     "iopub.status.busy": "2020-10-24T00:09:39.522843Z",
     "iopub.status.idle": "2020-10-24T00:09:39.536608Z",
     "shell.execute_reply": "2020-10-24T00:09:39.537099Z"
    },
    "papermill": {
     "duration": 0.069683,
     "end_time": "2020-10-24T00:09:39.537276",
     "exception": false,
     "start_time": "2020-10-24T00:09:39.467593",
     "status": "completed"
    },
    "tags": []
   },
   "outputs": [],
   "source": [
    "# Adjust the x and y ranges according to the above generated plot.\n",
    "x_range = np.linspace(-4, 1, 100) \n",
    "y_range = np.linspace(-6, 6, 100) \n",
    "x_grid, y_grid = np.meshgrid(x_range, y_range) # x_grid and y_grig are of size 100 X 100\n",
    "\n",
    "# converting x_grid and y_grid to continuous arrays\n",
    "x_grid_flat = np.ravel(x_grid)\n",
    "y_grid_flat = np.ravel(y_grid)\n",
    "\n",
    "# The last layer of the current model takes two columns as input. Hence transpose of np.vstack() is required.\n",
    "X = np.vstack((x_grid_flat, y_grid_flat)).T\n",
    "\n",
    "# x_grid and y_grid are of size 100 x 100\n",
    "probability_contour = model_prob(X).reshape(100,100) "
   ]
  },
  {
   "cell_type": "code",
   "execution_count": 29,
   "metadata": {
    "execution": {
     "iopub.execute_input": "2020-10-24T00:09:39.659305Z",
     "iopub.status.busy": "2020-10-24T00:09:39.658446Z",
     "iopub.status.idle": "2020-10-24T00:09:39.935032Z",
     "shell.execute_reply": "2020-10-24T00:09:39.934454Z"
    },
    "papermill": {
     "duration": 0.330361,
     "end_time": "2020-10-24T00:09:39.935184",
     "exception": false,
     "start_time": "2020-10-24T00:09:39.604823",
     "status": "completed"
    },
    "tags": []
   },
   "outputs": [
    {
     "data": {
      "image/png": "[encoded data removed]",
      "text/plain": [
       "<Figure size 720x648 with 1 Axes>"
      ]
     },
     "metadata": {
      "needs_background": "light"
     },
     "output_type": "display_data"
    }
   ],
   "source": [
    "plt.figure(figsize=(10,9))\n",
    "plt.scatter(plot_testing[:,0], plot_testing[:,1], alpha = 0.1, c = y_test.ravel())\n",
    "contours = plt.contour(x_grid,y_grid,probability_contour)\n",
    "plt.title('Probability Contours')\n",
    "plt.clabel(contours, inline = True );"
   ]
  }
 ],
 "metadata": {
  "kernelspec": {
   "display_name": "Python 3",
   "language": "python",
   "name": "python3"
  },
  "language_info": {
   "codemirror_mode": {
    "name": "ipython",
    "version": 3
   },
   "file_extension": ".py",
   "mimetype": "text/x-python",
   "name": "python",
   "nbconvert_exporter": "python",
   "pygments_lexer": "ipython3",
   "version": "3.6.12"
  },
  "papermill": {
   "duration": 166.201062,
   "end_time": "2020-10-24T00:09:40.393677",
   "environment_variables": {},
   "exception": null,
   "input_path": "2020-08-11-NeuralNetwork.ipynb",
   "output_path": "2020-08-11-NeuralNetwork.ipynb",
   "parameters": {},
   "start_time": "2020-10-24T00:06:54.192615",
   "version": "2.1.2"
  }
 },
 "nbformat": 4,
 "nbformat_minor": 4
}