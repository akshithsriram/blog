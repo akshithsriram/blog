{
 "cells": [
  {
   "cell_type": "markdown",
   "metadata": {
    "papermill": {
     "duration": 0.032442,
     "end_time": "2020-09-11T00:06:41.857536",
     "exception": false,
     "start_time": "2020-09-11T00:06:41.825094",
     "status": "completed"
    },
    "tags": []
   },
   "source": [
    "# \"A Basic Neural Network: Differentiate Hand-Written Digits\"\n",
    "\n",
    "- badges: true\n",
    "- author: Akshith Sriram"
   ]
  },
  {
   "cell_type": "markdown",
   "metadata": {
    "papermill": {
     "duration": 0.027805,
     "end_time": "2020-09-11T00:06:41.914514",
     "exception": false,
     "start_time": "2020-09-11T00:06:41.886709",
     "status": "completed"
    },
    "tags": []
   },
   "source": [
    "### Key Objectives:\n",
    "- Building a neural network that differentiates two hand-written digits 3 and 8.\n",
    "- Comparing the results of this Neural Network (NN) to that of a Logistic Regression (LR) model.\n",
    "\n",
    "### Requirements:\n",
    "- 'Kudzu' : A neural network library that was designed during our course by [Univ.AI](www.univ.ai). \n",
    "- MNIST Database\n",
    "\n",
    "If MNIST is not installed, use the command `!pip install mnist` given below.\n",
    "It can be run both from the command line and Jupyter Notebook."
   ]
  },
  {
   "cell_type": "code",
   "execution_count": 1,
   "metadata": {
    "execution": {
     "iopub.execute_input": "2020-09-11T00:06:41.978974Z",
     "iopub.status.busy": "2020-09-11T00:06:41.978312Z",
     "iopub.status.idle": "2020-09-11T00:06:43.658488Z",
     "shell.execute_reply": "2020-09-11T00:06:43.659022Z"
    },
    "papermill": {
     "duration": 1.714441,
     "end_time": "2020-09-11T00:06:43.659243",
     "exception": false,
     "start_time": "2020-09-11T00:06:41.944802",
     "status": "completed"
    },
    "tags": []
   },
   "outputs": [
    {
     "name": "stdout",
     "output_type": "stream",
     "text": [
      "Collecting mnist\r\n"
     ]
    },
    {
     "name": "stdout",
     "output_type": "stream",
     "text": [
      "  Downloading mnist-0.2.2-py2.py3-none-any.whl (3.5 kB)\r\n"
     ]
    },
    {
     "name": "stdout",
     "output_type": "stream",
     "text": [
      "Requirement already satisfied: numpy in /opt/hostedtoolcache/Python/3.6.12/x64/lib/python3.6/site-packages (from mnist) (1.19.2)\r\n"
     ]
    },
    {
     "name": "stdout",
     "output_type": "stream",
     "text": [
      "Installing collected packages: mnist\r\n"
     ]
    },
    {
     "name": "stdout",
     "output_type": "stream",
     "text": [
      "Successfully installed mnist-0.2.2\r\n"
     ]
    },
    {
     "name": "stdout",
     "output_type": "stream",
     "text": [
      "\u001b[33mWARNING: You are using pip version 20.2.2; however, version 20.2.3 is available.\r\n",
      "You should consider upgrading via the '/opt/hostedtoolcache/Python/3.6.12/x64/bin/python -m pip install --upgrade pip' command.\u001b[0m\r\n"
     ]
    }
   ],
   "source": [
    "!pip install mnist "
   ]
  },
  {
   "cell_type": "markdown",
   "metadata": {
    "papermill": {
     "duration": 0.035054,
     "end_time": "2020-09-11T00:06:43.729036",
     "exception": false,
     "start_time": "2020-09-11T00:06:43.693982",
     "status": "completed"
    },
    "tags": []
   },
   "source": [
    "#### Importing necessary libraries"
   ]
  },
  {
   "cell_type": "code",
   "execution_count": 2,
   "metadata": {
    "execution": {
     "iopub.execute_input": "2020-09-11T00:06:43.809348Z",
     "iopub.status.busy": "2020-09-11T00:06:43.808658Z",
     "iopub.status.idle": "2020-09-11T00:06:44.474583Z",
     "shell.execute_reply": "2020-09-11T00:06:44.475093Z"
    },
    "papermill": {
     "duration": 0.712543,
     "end_time": "2020-09-11T00:06:44.475267",
     "exception": false,
     "start_time": "2020-09-11T00:06:43.762724",
     "status": "completed"
    },
    "tags": []
   },
   "outputs": [],
   "source": [
    "%load_ext autoreload\n",
    "%autoreload 2\n",
    "\n",
    "%matplotlib inline\n",
    "import matplotlib.pyplot as plt\n",
    "\n",
    "import numpy as np\n",
    "import pandas as pd"
   ]
  },
  {
   "cell_type": "markdown",
   "metadata": {
    "papermill": {
     "duration": 0.032472,
     "end_time": "2020-09-11T00:06:44.538337",
     "exception": false,
     "start_time": "2020-09-11T00:06:44.505865",
     "status": "completed"
    },
    "tags": []
   },
   "source": [
    "### Preparing the Data"
   ]
  },
  {
   "cell_type": "code",
   "execution_count": 3,
   "metadata": {
    "execution": {
     "iopub.execute_input": "2020-09-11T00:06:44.608829Z",
     "iopub.status.busy": "2020-09-11T00:06:44.608178Z",
     "iopub.status.idle": "2020-09-11T00:06:44.621835Z",
     "shell.execute_reply": "2020-09-11T00:06:44.621228Z"
    },
    "papermill": {
     "duration": 0.051682,
     "end_time": "2020-09-11T00:06:44.621988",
     "exception": false,
     "start_time": "2020-09-11T00:06:44.570306",
     "status": "completed"
    },
    "tags": []
   },
   "outputs": [],
   "source": [
    "import mnist"
   ]
  },
  {
   "cell_type": "code",
   "execution_count": 4,
   "metadata": {
    "execution": {
     "iopub.execute_input": "2020-09-11T00:06:44.687835Z",
     "iopub.status.busy": "2020-09-11T00:06:44.687187Z",
     "iopub.status.idle": "2020-09-11T00:06:46.294812Z",
     "shell.execute_reply": "2020-09-11T00:06:46.294234Z"
    },
    "papermill": {
     "duration": 1.643107,
     "end_time": "2020-09-11T00:06:46.295208",
     "exception": false,
     "start_time": "2020-09-11T00:06:44.652101",
     "status": "completed"
    },
    "tags": []
   },
   "outputs": [],
   "source": [
    "train_images = mnist.train_images()\n",
    "train_labels = mnist.train_labels()"
   ]
  },
  {
   "cell_type": "code",
   "execution_count": 5,
   "metadata": {
    "execution": {
     "iopub.execute_input": "2020-09-11T00:06:46.375937Z",
     "iopub.status.busy": "2020-09-11T00:06:46.375285Z",
     "iopub.status.idle": "2020-09-11T00:06:46.390507Z",
     "shell.execute_reply": "2020-09-11T00:06:46.391270Z"
    },
    "papermill": {
     "duration": 0.05559,
     "end_time": "2020-09-11T00:06:46.391432",
     "exception": false,
     "start_time": "2020-09-11T00:06:46.335842",
     "status": "completed"
    },
    "tags": []
   },
   "outputs": [
    {
     "data": {
      "text/plain": [
       "((60000, 28, 28), (60000,))"
      ]
     },
     "execution_count": 5,
     "metadata": {},
     "output_type": "execute_result"
    }
   ],
   "source": [
    "train_images.shape, train_labels.shape"
   ]
  },
  {
   "cell_type": "code",
   "execution_count": 6,
   "metadata": {
    "execution": {
     "iopub.execute_input": "2020-09-11T00:06:46.472275Z",
     "iopub.status.busy": "2020-09-11T00:06:46.471628Z",
     "iopub.status.idle": "2020-09-11T00:06:47.338484Z",
     "shell.execute_reply": "2020-09-11T00:06:47.337854Z"
    },
    "papermill": {
     "duration": 0.904347,
     "end_time": "2020-09-11T00:06:47.338637",
     "exception": false,
     "start_time": "2020-09-11T00:06:46.434290",
     "status": "completed"
    },
    "tags": []
   },
   "outputs": [],
   "source": [
    "test_images = mnist.test_images()\n",
    "test_labels = mnist.test_labels()"
   ]
  },
  {
   "cell_type": "code",
   "execution_count": 7,
   "metadata": {
    "execution": {
     "iopub.execute_input": "2020-09-11T00:06:47.418469Z",
     "iopub.status.busy": "2020-09-11T00:06:47.412268Z",
     "iopub.status.idle": "2020-09-11T00:06:47.421624Z",
     "shell.execute_reply": "2020-09-11T00:06:47.422246Z"
    },
    "papermill": {
     "duration": 0.051117,
     "end_time": "2020-09-11T00:06:47.422418",
     "exception": false,
     "start_time": "2020-09-11T00:06:47.371301",
     "status": "completed"
    },
    "tags": []
   },
   "outputs": [
    {
     "data": {
      "text/plain": [
       "((10000, 28, 28), (10000,))"
      ]
     },
     "execution_count": 7,
     "metadata": {},
     "output_type": "execute_result"
    }
   ],
   "source": [
    "test_images.shape, test_labels.shape"
   ]
  },
  {
   "cell_type": "code",
   "execution_count": 8,
   "metadata": {
    "execution": {
     "iopub.execute_input": "2020-09-11T00:06:47.490532Z",
     "iopub.status.busy": "2020-09-11T00:06:47.489880Z",
     "iopub.status.idle": "2020-09-11T00:06:47.664399Z",
     "shell.execute_reply": "2020-09-11T00:06:47.664908Z"
    },
    "papermill": {
     "duration": 0.210824,
     "end_time": "2020-09-11T00:06:47.665109",
     "exception": false,
     "start_time": "2020-09-11T00:06:47.454285",
     "status": "completed"
    },
    "tags": []
   },
   "outputs": [
    {
     "name": "stdout",
     "output_type": "stream",
     "text": [
      "2\n"
     ]
    },
    {
     "data": {
      "text/plain": [
       "<matplotlib.image.AxesImage at 0x7f44794457f0>"
      ]
     },
     "execution_count": 8,
     "metadata": {},
     "output_type": "execute_result"
    },
    {
     "data": {
      "image/png": "[encoded data removed]",
      "text/plain": [
       "<Figure size 432x288 with 1 Axes>"
      ]
     },
     "metadata": {
      "needs_background": "light"
     },
     "output_type": "display_data"
    }
   ],
   "source": [
    "image_index = 7776 # You may select anything up to 60,000\n",
    "print(train_labels[image_index]) \n",
    "plt.imshow(train_images[image_index], cmap='Greys')"
   ]
  },
  {
   "cell_type": "markdown",
   "metadata": {
    "papermill": {
     "duration": 0.033346,
     "end_time": "2020-09-11T00:06:47.729600",
     "exception": false,
     "start_time": "2020-09-11T00:06:47.696254",
     "status": "completed"
    },
    "tags": []
   },
   "source": [
    "## Filter data to get 3 and 8 out"
   ]
  },
  {
   "cell_type": "code",
   "execution_count": 9,
   "metadata": {
    "execution": {
     "iopub.execute_input": "2020-09-11T00:06:47.803831Z",
     "iopub.status.busy": "2020-09-11T00:06:47.803172Z",
     "iopub.status.idle": "2020-09-11T00:06:47.822412Z",
     "shell.execute_reply": "2020-09-11T00:06:47.822970Z"
    },
    "papermill": {
     "duration": 0.05998,
     "end_time": "2020-09-11T00:06:47.823171",
     "exception": false,
     "start_time": "2020-09-11T00:06:47.763191",
     "status": "completed"
    },
    "tags": []
   },
   "outputs": [],
   "source": [
    "train_filter = np.where((train_labels == 3 ) | (train_labels == 8))\n",
    "test_filter = np.where((test_labels == 3) | (test_labels == 8))\n",
    "X_train, y_train = train_images[train_filter], train_labels[train_filter]\n",
    "X_test, y_test = test_images[test_filter], test_labels[test_filter]"
   ]
  },
  {
   "cell_type": "markdown",
   "metadata": {
    "papermill": {
     "duration": 0.0325,
     "end_time": "2020-09-11T00:06:47.888690",
     "exception": false,
     "start_time": "2020-09-11T00:06:47.856190",
     "status": "completed"
    },
    "tags": []
   },
   "source": [
    "We normalize the pixel values in the 0 to 1 range"
   ]
  },
  {
   "cell_type": "code",
   "execution_count": 10,
   "metadata": {
    "execution": {
     "iopub.execute_input": "2020-09-11T00:06:47.967310Z",
     "iopub.status.busy": "2020-09-11T00:06:47.958991Z",
     "iopub.status.idle": "2020-09-11T00:06:48.021199Z",
     "shell.execute_reply": "2020-09-11T00:06:48.021729Z"
    },
    "papermill": {
     "duration": 0.101412,
     "end_time": "2020-09-11T00:06:48.021913",
     "exception": false,
     "start_time": "2020-09-11T00:06:47.920501",
     "status": "completed"
    },
    "tags": []
   },
   "outputs": [],
   "source": [
    "X_train = X_train/255.\n",
    "X_test = X_test/255."
   ]
  },
  {
   "cell_type": "markdown",
   "metadata": {
    "papermill": {
     "duration": 0.034526,
     "end_time": "2020-09-11T00:06:48.097487",
     "exception": false,
     "start_time": "2020-09-11T00:06:48.062961",
     "status": "completed"
    },
    "tags": []
   },
   "source": [
    "Setup the labels as 1 (when the digit is 3) and 0 (when the digit is 8)"
   ]
  },
  {
   "cell_type": "code",
   "execution_count": 11,
   "metadata": {
    "execution": {
     "iopub.execute_input": "2020-09-11T00:06:48.168710Z",
     "iopub.status.busy": "2020-09-11T00:06:48.168054Z",
     "iopub.status.idle": "2020-09-11T00:06:48.181617Z",
     "shell.execute_reply": "2020-09-11T00:06:48.180892Z"
    },
    "papermill": {
     "duration": 0.05061,
     "end_time": "2020-09-11T00:06:48.181786",
     "exception": false,
     "start_time": "2020-09-11T00:06:48.131176",
     "status": "completed"
    },
    "tags": []
   },
   "outputs": [],
   "source": [
    "y_train = 1*(y_train==3)\n",
    "y_test = 1*(y_test==3)"
   ]
  },
  {
   "cell_type": "code",
   "execution_count": 12,
   "metadata": {
    "execution": {
     "iopub.execute_input": "2020-09-11T00:06:48.259226Z",
     "iopub.status.busy": "2020-09-11T00:06:48.258487Z",
     "iopub.status.idle": "2020-09-11T00:06:48.270270Z",
     "shell.execute_reply": "2020-09-11T00:06:48.271642Z"
    },
    "papermill": {
     "duration": 0.054573,
     "end_time": "2020-09-11T00:06:48.271806",
     "exception": false,
     "start_time": "2020-09-11T00:06:48.217233",
     "status": "completed"
    },
    "tags": []
   },
   "outputs": [
    {
     "data": {
      "text/plain": [
       "((11982, 28, 28), (1984, 28, 28))"
      ]
     },
     "execution_count": 12,
     "metadata": {},
     "output_type": "execute_result"
    }
   ],
   "source": [
    "X_train.shape, X_test.shape"
   ]
  },
  {
   "cell_type": "markdown",
   "metadata": {
    "papermill": {
     "duration": 0.035601,
     "end_time": "2020-09-11T00:06:48.341370",
     "exception": false,
     "start_time": "2020-09-11T00:06:48.305769",
     "status": "completed"
    },
    "tags": []
   },
   "source": [
    "### Reshape the input data to create a linear array"
   ]
  },
  {
   "cell_type": "code",
   "execution_count": 13,
   "metadata": {
    "execution": {
     "iopub.execute_input": "2020-09-11T00:06:48.432246Z",
     "iopub.status.busy": "2020-09-11T00:06:48.428049Z",
     "iopub.status.idle": "2020-09-11T00:06:48.441160Z",
     "shell.execute_reply": "2020-09-11T00:06:48.440206Z"
    },
    "papermill": {
     "duration": 0.064991,
     "end_time": "2020-09-11T00:06:48.441313",
     "exception": false,
     "start_time": "2020-09-11T00:06:48.376322",
     "status": "completed"
    },
    "tags": []
   },
   "outputs": [
    {
     "data": {
      "text/plain": [
       "((11982, 784), (1984, 784))"
      ]
     },
     "execution_count": 13,
     "metadata": {},
     "output_type": "execute_result"
    }
   ],
   "source": [
    "X_train = X_train.reshape(X_train.shape[0], -1)\n",
    "X_test = X_test.reshape(X_test.shape[0], -1)\n",
    "X_train.shape, X_test.shape"
   ]
  },
  {
   "cell_type": "markdown",
   "metadata": {
    "papermill": {
     "duration": 0.03453,
     "end_time": "2020-09-11T00:06:48.510721",
     "exception": false,
     "start_time": "2020-09-11T00:06:48.476191",
     "status": "completed"
    },
    "tags": []
   },
   "source": [
    "### Importing appropriate functions from 'Kudzu'"
   ]
  },
  {
   "cell_type": "code",
   "execution_count": 14,
   "metadata": {
    "execution": {
     "iopub.execute_input": "2020-09-11T00:06:48.584973Z",
     "iopub.status.busy": "2020-09-11T00:06:48.584128Z",
     "iopub.status.idle": "2020-09-11T00:06:48.604774Z",
     "shell.execute_reply": "2020-09-11T00:06:48.604173Z"
    },
    "papermill": {
     "duration": 0.058924,
     "end_time": "2020-09-11T00:06:48.604916",
     "exception": false,
     "start_time": "2020-09-11T00:06:48.545992",
     "status": "completed"
    },
    "tags": []
   },
   "outputs": [],
   "source": [
    "from kudzu.layer import Sigmoid\n",
    "from kudzu.layer import Relu\n",
    "from kudzu.layer import Affine, Sigmoid\n",
    "\n",
    "from kudzu.model import Model\n",
    "from kudzu.train import Learner\n",
    "from kudzu.optim import GD\n",
    "from kudzu.data import Data, Dataloader, Sampler\n",
    "\n",
    "from kudzu.callbacks import AccCallback\n",
    "from kudzu.callbacks import ClfCallback\n",
    "\n",
    "from kudzu.loss import MSE"
   ]
  },
  {
   "cell_type": "markdown",
   "metadata": {
    "papermill": {
     "duration": 0.033814,
     "end_time": "2020-09-11T00:06:48.671640",
     "exception": false,
     "start_time": "2020-09-11T00:06:48.637826",
     "status": "completed"
    },
    "tags": []
   },
   "source": [
    "### Let us create a `Config` class, to store important parameters. \n",
    "This class essentially plays the role of a dictionary."
   ]
  },
  {
   "cell_type": "code",
   "execution_count": 15,
   "metadata": {
    "execution": {
     "iopub.execute_input": "2020-09-11T00:06:48.758850Z",
     "iopub.status.busy": "2020-09-11T00:06:48.753801Z",
     "iopub.status.idle": "2020-09-11T00:06:48.761126Z",
     "shell.execute_reply": "2020-09-11T00:06:48.761646Z"
    },
    "papermill": {
     "duration": 0.055851,
     "end_time": "2020-09-11T00:06:48.761796",
     "exception": false,
     "start_time": "2020-09-11T00:06:48.705945",
     "status": "completed"
    },
    "tags": []
   },
   "outputs": [],
   "source": [
    "class Config:\n",
    "    pass\n",
    "config = Config()\n",
    "config.lr = 0.001\n",
    "config.num_epochs = 251\n",
    "config.bs = 50"
   ]
  },
  {
   "cell_type": "markdown",
   "metadata": {
    "papermill": {
     "duration": 0.033655,
     "end_time": "2020-09-11T00:06:48.829252",
     "exception": false,
     "start_time": "2020-09-11T00:06:48.795597",
     "status": "completed"
    },
    "tags": []
   },
   "source": [
    "### Initializing data to the variables"
   ]
  },
  {
   "cell_type": "code",
   "execution_count": 16,
   "metadata": {
    "execution": {
     "iopub.execute_input": "2020-09-11T00:06:48.902781Z",
     "iopub.status.busy": "2020-09-11T00:06:48.902034Z",
     "iopub.status.idle": "2020-09-11T00:06:48.917687Z",
     "shell.execute_reply": "2020-09-11T00:06:48.916980Z"
    },
    "papermill": {
     "duration": 0.054669,
     "end_time": "2020-09-11T00:06:48.917834",
     "exception": false,
     "start_time": "2020-09-11T00:06:48.863165",
     "status": "completed"
    },
    "tags": []
   },
   "outputs": [],
   "source": [
    "data = Data(X_train, y_train.reshape(-1,1))\n",
    "sampler = Sampler(data, config.bs, shuffle=True)\n",
    "\n",
    "dl = Dataloader(data, sampler)\n",
    "\n",
    "opt = GD(config.lr)\n",
    "loss = MSE()"
   ]
  },
  {
   "cell_type": "code",
   "execution_count": 17,
   "metadata": {
    "execution": {
     "iopub.execute_input": "2020-09-11T00:06:49.001506Z",
     "iopub.status.busy": "2020-09-11T00:06:48.995897Z",
     "iopub.status.idle": "2020-09-11T00:06:49.003768Z",
     "shell.execute_reply": "2020-09-11T00:06:49.004291Z"
    },
    "papermill": {
     "duration": 0.053262,
     "end_time": "2020-09-11T00:06:49.004449",
     "exception": false,
     "start_time": "2020-09-11T00:06:48.951187",
     "status": "completed"
    },
    "tags": []
   },
   "outputs": [],
   "source": [
    "training_xdata = X_train\n",
    "testing_xdata = X_test\n",
    "training_ydata = y_train.reshape(-1,1)\n",
    "testing_ydata = y_test.reshape(-1,1)"
   ]
  },
  {
   "cell_type": "markdown",
   "metadata": {
    "papermill": {
     "duration": 0.035184,
     "end_time": "2020-09-11T00:06:49.074479",
     "exception": false,
     "start_time": "2020-09-11T00:06:49.039295",
     "status": "completed"
    },
    "tags": []
   },
   "source": [
    "### Running Models with the Training data\n",
    "Details about the network layers:\n",
    "- A first affine layer has 784 inputs and does 100 affine transforms. These are followed by a Relu\n",
    "- A second affine layer has 100 inputs from the 100 activations of the past layer, and does 100 affine transforms. These are followed by a Relu\n",
    "- A third affine layer has 100 activations and does 2 affine transformations to create an embedding for visualization. There is no non-linearity here.\n",
    "- A final \"logistic regression\" which has an affine transform from 2 inputs to 1 output, which is squeezed through a sigmoid.\n",
    "\n",
    "Help taken from Anshuman's Notebook."
   ]
  },
  {
   "cell_type": "code",
   "execution_count": 18,
   "metadata": {
    "execution": {
     "iopub.execute_input": "2020-09-11T00:06:49.169747Z",
     "iopub.status.busy": "2020-09-11T00:06:49.162654Z",
     "iopub.status.idle": "2020-09-11T00:06:49.173292Z",
     "shell.execute_reply": "2020-09-11T00:06:49.173763Z"
    },
    "papermill": {
     "duration": 0.066977,
     "end_time": "2020-09-11T00:06:49.173944",
     "exception": false,
     "start_time": "2020-09-11T00:06:49.106967",
     "status": "completed"
    },
    "tags": []
   },
   "outputs": [],
   "source": [
    "# layers for the Neural Network\n",
    "layers = [Affine(\"first\", 784, 100), Relu(\"first\"), Affine(\"second\", 100, 100), Relu(\"second\"), Affine(\"third\", 100, 2), Affine(\"final\", 2, 1), Sigmoid(\"final\")]\n",
    "model_nn = Model(layers)\n",
    "\n",
    "# layers for the Logistic Regression\n",
    "layers_lr = [Affine(\"logits\", 784, 1), Sigmoid(\"sigmoid\")]\n",
    "model_lr = Model(layers_lr)"
   ]
  },
  {
   "cell_type": "code",
   "execution_count": 19,
   "metadata": {
    "execution": {
     "iopub.execute_input": "2020-09-11T00:06:49.256842Z",
     "iopub.status.busy": "2020-09-11T00:06:49.250180Z",
     "iopub.status.idle": "2020-09-11T00:06:49.259593Z",
     "shell.execute_reply": "2020-09-11T00:06:49.259042Z"
    },
    "papermill": {
     "duration": 0.053483,
     "end_time": "2020-09-11T00:06:49.259735",
     "exception": false,
     "start_time": "2020-09-11T00:06:49.206252",
     "status": "completed"
    },
    "tags": []
   },
   "outputs": [],
   "source": [
    "# suffix _nn stands for Neural Network.\n",
    "learner_nn = Learner(loss, model_nn, opt, config.num_epochs)\n",
    "acc_nn = ClfCallback(learner_nn, config.bs, training_xdata , testing_xdata, training_ydata, testing_ydata)\n",
    "learner_nn.set_callbacks([acc_nn])"
   ]
  },
  {
   "cell_type": "code",
   "execution_count": 20,
   "metadata": {
    "execution": {
     "iopub.execute_input": "2020-09-11T00:06:49.334606Z",
     "iopub.status.busy": "2020-09-11T00:06:49.333948Z",
     "iopub.status.idle": "2020-09-11T00:08:58.256875Z",
     "shell.execute_reply": "2020-09-11T00:08:58.257855Z"
    },
    "papermill": {
     "duration": 128.963193,
     "end_time": "2020-09-11T00:08:58.258032",
     "exception": false,
     "start_time": "2020-09-11T00:06:49.294839",
     "status": "completed"
    },
    "tags": []
   },
   "outputs": [
    {
     "name": "stdout",
     "output_type": "stream",
     "text": [
      "====== Neural Network ======\n"
     ]
    },
    {
     "name": "stdout",
     "output_type": "stream",
     "text": [
      "Epoch 0, Loss 0.2199\n",
      "Training Accuracy: 0.7664, Testing Accuracy: 0.7742\n",
      "\n"
     ]
    },
    {
     "name": "stdout",
     "output_type": "stream",
     "text": [
      "Epoch 10, Loss 0.0526\n",
      "Training Accuracy: 0.9442, Testing Accuracy: 0.9466\n",
      "\n"
     ]
    },
    {
     "name": "stdout",
     "output_type": "stream",
     "text": [
      "Epoch 20, Loss 0.0382\n",
      "Training Accuracy: 0.9575, Testing Accuracy: 0.9607\n",
      "\n"
     ]
    },
    {
     "name": "stdout",
     "output_type": "stream",
     "text": [
      "Epoch 30, Loss 0.0328\n",
      "Training Accuracy: 0.9618, Testing Accuracy: 0.9642\n",
      "\n"
     ]
    },
    {
     "name": "stdout",
     "output_type": "stream",
     "text": [
      "Epoch 40, Loss 0.0297\n",
      "Training Accuracy: 0.9649, Testing Accuracy: 0.9672\n",
      "\n"
     ]
    },
    {
     "name": "stdout",
     "output_type": "stream",
     "text": [
      "Epoch 50, Loss 0.0276\n",
      "Training Accuracy: 0.9683, Testing Accuracy: 0.9688\n",
      "\n"
     ]
    },
    {
     "name": "stdout",
     "output_type": "stream",
     "text": [
      "Epoch 60, Loss 0.0261\n",
      "Training Accuracy: 0.9696, Testing Accuracy: 0.9693\n",
      "\n"
     ]
    },
    {
     "name": "stdout",
     "output_type": "stream",
     "text": [
      "Epoch 70, Loss 0.0248\n",
      "Training Accuracy: 0.9710, Testing Accuracy: 0.9703\n",
      "\n"
     ]
    },
    {
     "name": "stdout",
     "output_type": "stream",
     "text": [
      "Epoch 80, Loss 0.0238\n",
      "Training Accuracy: 0.9725, Testing Accuracy: 0.9708\n",
      "\n"
     ]
    },
    {
     "name": "stdout",
     "output_type": "stream",
     "text": [
      "Epoch 90, Loss 0.0229\n",
      "Training Accuracy: 0.9738, Testing Accuracy: 0.9703\n",
      "\n"
     ]
    },
    {
     "name": "stdout",
     "output_type": "stream",
     "text": [
      "Epoch 100, Loss 0.0221\n",
      "Training Accuracy: 0.9745, Testing Accuracy: 0.9713\n",
      "\n"
     ]
    },
    {
     "name": "stdout",
     "output_type": "stream",
     "text": [
      "Epoch 110, Loss 0.0214\n",
      "Training Accuracy: 0.9753, Testing Accuracy: 0.9713\n",
      "\n"
     ]
    },
    {
     "name": "stdout",
     "output_type": "stream",
     "text": [
      "Epoch 120, Loss 0.0208\n",
      "Training Accuracy: 0.9760, Testing Accuracy: 0.9723\n",
      "\n"
     ]
    },
    {
     "name": "stdout",
     "output_type": "stream",
     "text": [
      "Epoch 130, Loss 0.0202\n",
      "Training Accuracy: 0.9769, Testing Accuracy: 0.9718\n",
      "\n"
     ]
    },
    {
     "name": "stdout",
     "output_type": "stream",
     "text": [
      "Epoch 140, Loss 0.0197\n",
      "Training Accuracy: 0.9776, Testing Accuracy: 0.9728\n",
      "\n"
     ]
    },
    {
     "name": "stdout",
     "output_type": "stream",
     "text": [
      "Epoch 150, Loss 0.0192\n",
      "Training Accuracy: 0.9784, Testing Accuracy: 0.9728\n",
      "\n"
     ]
    },
    {
     "name": "stdout",
     "output_type": "stream",
     "text": [
      "Epoch 160, Loss 0.0187\n",
      "Training Accuracy: 0.9792, Testing Accuracy: 0.9728\n",
      "\n"
     ]
    },
    {
     "name": "stdout",
     "output_type": "stream",
     "text": [
      "Epoch 170, Loss 0.0182\n",
      "Training Accuracy: 0.9798, Testing Accuracy: 0.9728\n",
      "\n"
     ]
    },
    {
     "name": "stdout",
     "output_type": "stream",
     "text": [
      "Epoch 180, Loss 0.0178\n",
      "Training Accuracy: 0.9807, Testing Accuracy: 0.9728\n",
      "\n"
     ]
    },
    {
     "name": "stdout",
     "output_type": "stream",
     "text": [
      "Epoch 190, Loss 0.0174\n",
      "Training Accuracy: 0.9814, Testing Accuracy: 0.9738\n",
      "\n"
     ]
    },
    {
     "name": "stdout",
     "output_type": "stream",
     "text": [
      "Epoch 200, Loss 0.0169\n",
      "Training Accuracy: 0.9820, Testing Accuracy: 0.9748\n",
      "\n"
     ]
    },
    {
     "name": "stdout",
     "output_type": "stream",
     "text": [
      "Epoch 210, Loss 0.0165\n",
      "Training Accuracy: 0.9826, Testing Accuracy: 0.9743\n",
      "\n"
     ]
    },
    {
     "name": "stdout",
     "output_type": "stream",
     "text": [
      "Epoch 220, Loss 0.0161\n",
      "Training Accuracy: 0.9833, Testing Accuracy: 0.9753\n",
      "\n"
     ]
    },
    {
     "name": "stdout",
     "output_type": "stream",
     "text": [
      "Epoch 230, Loss 0.0157\n",
      "Training Accuracy: 0.9838, Testing Accuracy: 0.9758\n",
      "\n"
     ]
    },
    {
     "name": "stdout",
     "output_type": "stream",
     "text": [
      "Epoch 240, Loss 0.0154\n",
      "Training Accuracy: 0.9844, Testing Accuracy: 0.9773\n",
      "\n"
     ]
    },
    {
     "name": "stdout",
     "output_type": "stream",
     "text": [
      "Epoch 250, Loss 0.015\n",
      "Training Accuracy: 0.9845, Testing Accuracy: 0.9778\n",
      "\n"
     ]
    },
    {
     "data": {
      "text/plain": [
       "0.0017685598073184864"
      ]
     },
     "execution_count": 20,
     "metadata": {},
     "output_type": "execute_result"
    }
   ],
   "source": [
    "print(\"====== Neural Network ======\")\n",
    "learner_nn.train_loop(dl)"
   ]
  },
  {
   "cell_type": "markdown",
   "metadata": {
    "papermill": {
     "duration": 0.043728,
     "end_time": "2020-09-11T00:08:58.344979",
     "exception": false,
     "start_time": "2020-09-11T00:08:58.301251",
     "status": "completed"
    },
    "tags": []
   },
   "source": [
    "### Logistic Regression based Implementation."
   ]
  },
  {
   "cell_type": "code",
   "execution_count": 21,
   "metadata": {
    "execution": {
     "iopub.execute_input": "2020-09-11T00:08:58.437613Z",
     "iopub.status.busy": "2020-09-11T00:08:58.436872Z",
     "iopub.status.idle": "2020-09-11T00:08:58.451945Z",
     "shell.execute_reply": "2020-09-11T00:08:58.450647Z"
    },
    "papermill": {
     "duration": 0.06317,
     "end_time": "2020-09-11T00:08:58.452327",
     "exception": false,
     "start_time": "2020-09-11T00:08:58.389157",
     "status": "completed"
    },
    "tags": []
   },
   "outputs": [],
   "source": [
    "learner_lr = Learner(loss, model_lr, opt, config.num_epochs)\n",
    "acc_lr = ClfCallback(learner_lr, config.bs, training_xdata , testing_xdata, training_ydata, testing_ydata)\n",
    "learner_lr.set_callbacks([acc_lr])"
   ]
  },
  {
   "cell_type": "code",
   "execution_count": 22,
   "metadata": {
    "execution": {
     "iopub.execute_input": "2020-09-11T00:08:58.576391Z",
     "iopub.status.busy": "2020-09-11T00:08:58.571358Z",
     "iopub.status.idle": "2020-09-11T00:09:18.930795Z",
     "shell.execute_reply": "2020-09-11T00:09:18.931586Z"
    },
    "papermill": {
     "duration": 20.424134,
     "end_time": "2020-09-11T00:09:18.931761",
     "exception": false,
     "start_time": "2020-09-11T00:08:58.507627",
     "status": "completed"
    },
    "tags": []
   },
   "outputs": [
    {
     "name": "stdout",
     "output_type": "stream",
     "text": [
      "====== Logistic Regression ======\n",
      "Epoch 0, Loss 0.2589\n",
      "Training Accuracy: 0.6173, Testing Accuracy: 0.6260\n",
      "\n"
     ]
    },
    {
     "name": "stdout",
     "output_type": "stream",
     "text": [
      "Epoch 10, Loss 0.1049\n",
      "Training Accuracy: 0.9087, Testing Accuracy: 0.9194\n",
      "\n"
     ]
    },
    {
     "name": "stdout",
     "output_type": "stream",
     "text": [
      "Epoch 20, Loss 0.0803\n",
      "Training Accuracy: 0.9253, Testing Accuracy: 0.9390\n",
      "\n"
     ]
    },
    {
     "name": "stdout",
     "output_type": "stream",
     "text": [
      "Epoch 30, Loss 0.0691\n",
      "Training Accuracy: 0.9345, Testing Accuracy: 0.9486\n",
      "\n"
     ]
    },
    {
     "name": "stdout",
     "output_type": "stream",
     "text": [
      "Epoch 40, Loss 0.0624\n",
      "Training Accuracy: 0.9401, Testing Accuracy: 0.9531\n",
      "\n"
     ]
    },
    {
     "name": "stdout",
     "output_type": "stream",
     "text": [
      "Epoch 50, Loss 0.0578\n",
      "Training Accuracy: 0.9443, Testing Accuracy: 0.9561\n",
      "\n"
     ]
    },
    {
     "name": "stdout",
     "output_type": "stream",
     "text": [
      "Epoch 60, Loss 0.0544\n",
      "Training Accuracy: 0.9462, Testing Accuracy: 0.9567\n",
      "\n"
     ]
    },
    {
     "name": "stdout",
     "output_type": "stream",
     "text": [
      "Epoch 70, Loss 0.0518\n",
      "Training Accuracy: 0.9480, Testing Accuracy: 0.9597\n",
      "\n"
     ]
    },
    {
     "name": "stdout",
     "output_type": "stream",
     "text": [
      "Epoch 80, Loss 0.0497\n",
      "Training Accuracy: 0.9504, Testing Accuracy: 0.9612\n",
      "\n"
     ]
    },
    {
     "name": "stdout",
     "output_type": "stream",
     "text": [
      "Epoch 90, Loss 0.048\n",
      "Training Accuracy: 0.9518, Testing Accuracy: 0.9612\n",
      "\n"
     ]
    },
    {
     "name": "stdout",
     "output_type": "stream",
     "text": [
      "Epoch 100, Loss 0.0466\n",
      "Training Accuracy: 0.9523, Testing Accuracy: 0.9617\n",
      "\n"
     ]
    },
    {
     "name": "stdout",
     "output_type": "stream",
     "text": [
      "Epoch 110, Loss 0.0453\n",
      "Training Accuracy: 0.9532, Testing Accuracy: 0.9632\n",
      "\n"
     ]
    },
    {
     "name": "stdout",
     "output_type": "stream",
     "text": [
      "Epoch 120, Loss 0.0443\n",
      "Training Accuracy: 0.9537, Testing Accuracy: 0.9642\n",
      "\n"
     ]
    },
    {
     "name": "stdout",
     "output_type": "stream",
     "text": [
      "Epoch 130, Loss 0.0433\n",
      "Training Accuracy: 0.9546, Testing Accuracy: 0.9657\n",
      "\n"
     ]
    },
    {
     "name": "stdout",
     "output_type": "stream",
     "text": [
      "Epoch 140, Loss 0.0425\n",
      "Training Accuracy: 0.9552, Testing Accuracy: 0.9652\n",
      "\n"
     ]
    },
    {
     "name": "stdout",
     "output_type": "stream",
     "text": [
      "Epoch 150, Loss 0.0417\n",
      "Training Accuracy: 0.9559, Testing Accuracy: 0.9657\n",
      "\n"
     ]
    },
    {
     "name": "stdout",
     "output_type": "stream",
     "text": [
      "Epoch 160, Loss 0.041\n",
      "Training Accuracy: 0.9562, Testing Accuracy: 0.9652\n",
      "\n"
     ]
    },
    {
     "name": "stdout",
     "output_type": "stream",
     "text": [
      "Epoch 170, Loss 0.0404\n",
      "Training Accuracy: 0.9565, Testing Accuracy: 0.9647\n",
      "\n"
     ]
    },
    {
     "name": "stdout",
     "output_type": "stream",
     "text": [
      "Epoch 180, Loss 0.0398\n",
      "Training Accuracy: 0.9568, Testing Accuracy: 0.9647\n",
      "\n"
     ]
    },
    {
     "name": "stdout",
     "output_type": "stream",
     "text": [
      "Epoch 190, Loss 0.0393\n",
      "Training Accuracy: 0.9570, Testing Accuracy: 0.9637\n",
      "\n"
     ]
    },
    {
     "name": "stdout",
     "output_type": "stream",
     "text": [
      "Epoch 200, Loss 0.0388\n",
      "Training Accuracy: 0.9575, Testing Accuracy: 0.9657\n",
      "\n"
     ]
    },
    {
     "name": "stdout",
     "output_type": "stream",
     "text": [
      "Epoch 210, Loss 0.0383\n",
      "Training Accuracy: 0.9581, Testing Accuracy: 0.9657\n",
      "\n"
     ]
    },
    {
     "name": "stdout",
     "output_type": "stream",
     "text": [
      "Epoch 220, Loss 0.0379\n",
      "Training Accuracy: 0.9584, Testing Accuracy: 0.9662\n",
      "\n"
     ]
    },
    {
     "name": "stdout",
     "output_type": "stream",
     "text": [
      "Epoch 230, Loss 0.0375\n",
      "Training Accuracy: 0.9588, Testing Accuracy: 0.9667\n",
      "\n"
     ]
    },
    {
     "name": "stdout",
     "output_type": "stream",
     "text": [
      "Epoch 240, Loss 0.0372\n",
      "Training Accuracy: 0.9592, Testing Accuracy: 0.9667\n",
      "\n"
     ]
    },
    {
     "name": "stdout",
     "output_type": "stream",
     "text": [
      "Epoch 250, Loss 0.0368\n",
      "Training Accuracy: 0.9595, Testing Accuracy: 0.9667\n",
      "\n"
     ]
    },
    {
     "data": {
      "text/plain": [
       "0.04689366013357703"
      ]
     },
     "execution_count": 22,
     "metadata": {},
     "output_type": "execute_result"
    }
   ],
   "source": [
    "print(\"====== Logistic Regression ======\")\n",
    "learner_lr.train_loop(dl)"
   ]
  },
  {
   "cell_type": "markdown",
   "metadata": {
    "papermill": {
     "duration": 0.052654,
     "end_time": "2020-09-11T00:09:19.037068",
     "exception": false,
     "start_time": "2020-09-11T00:09:18.984414",
     "status": "completed"
    },
    "tags": []
   },
   "source": [
    "### Comparing results of NN and LR"
   ]
  },
  {
   "cell_type": "code",
   "execution_count": 23,
   "metadata": {
    "execution": {
     "iopub.execute_input": "2020-09-11T00:09:19.158414Z",
     "iopub.status.busy": "2020-09-11T00:09:19.157734Z",
     "iopub.status.idle": "2020-09-11T00:09:19.440801Z",
     "shell.execute_reply": "2020-09-11T00:09:19.439852Z"
    },
    "papermill": {
     "duration": 0.34825,
     "end_time": "2020-09-11T00:09:19.440986",
     "exception": false,
     "start_time": "2020-09-11T00:09:19.092736",
     "status": "completed"
    },
    "tags": []
   },
   "outputs": [
    {
     "data": {
      "text/plain": [
       "<matplotlib.legend.Legend at 0x7f447902a1d0>"
      ]
     },
     "execution_count": 23,
     "metadata": {},
     "output_type": "execute_result"
    },
    {
     "data": {
      "image/png": "[encoded data removed]",
      "text/plain": [
       "<Figure size 1080x720 with 1 Axes>"
      ]
     },
     "metadata": {
      "needs_background": "light"
     },
     "output_type": "display_data"
    }
   ],
   "source": [
    "plt.figure(figsize=(15,10))\n",
    "\n",
    "# Neural Network plots\n",
    "plt.plot(acc_nn.accuracies, 'r-', label = \"Training Accuracies - NN\")\n",
    "plt.plot(acc_nn.test_accuracies, 'g-', label = \"Testing Accuracies - NN\")\n",
    "\n",
    "# Logistic Regression plots\n",
    "plt.plot(acc_lr.accuracies, 'k-', label = \"Training Accuracies - LR\")\n",
    "plt.plot(acc_lr.test_accuracies, 'b-', label = \"Testing Accuracies - LR\")\n",
    "\n",
    "plt.ylim(0.8, 1)\n",
    "\n",
    "plt.legend()\n",
    "\n"
   ]
  },
  {
   "cell_type": "markdown",
   "metadata": {
    "papermill": {
     "duration": 0.054243,
     "end_time": "2020-09-11T00:09:19.548917",
     "exception": false,
     "start_time": "2020-09-11T00:09:19.494674",
     "status": "completed"
    },
    "tags": []
   },
   "source": [
    "### From the plot, we can observe the following:\n",
    "- Neural Network achieves higher accuracy than the Logistic Regression model.\n",
    "- This apparently, is because of overfitting, i.e. NN captures more noise than data.\n",
    "- Testing accuracy of NN drops below the Training accuracy at higher epochs. This explains the over-fitting on training data.\n",
    "- Logistic Regression gives a reliable accuracy, without the above mentioned problem.\n"
   ]
  },
  {
   "cell_type": "markdown",
   "metadata": {
    "papermill": {
     "duration": 0.053805,
     "end_time": "2020-09-11T00:09:19.657706",
     "exception": false,
     "start_time": "2020-09-11T00:09:19.603901",
     "status": "completed"
    },
    "tags": []
   },
   "source": [
    "### Moving till the last but one layer (excluding it).\n",
    "#### Plotting the outputs of this layer of the NN."
   ]
  },
  {
   "cell_type": "code",
   "execution_count": 24,
   "metadata": {
    "execution": {
     "iopub.execute_input": "2020-09-11T00:09:19.773989Z",
     "iopub.status.busy": "2020-09-11T00:09:19.770011Z",
     "iopub.status.idle": "2020-09-11T00:09:19.784778Z",
     "shell.execute_reply": "2020-09-11T00:09:19.784183Z"
    },
    "papermill": {
     "duration": 0.073996,
     "end_time": "2020-09-11T00:09:19.784930",
     "exception": false,
     "start_time": "2020-09-11T00:09:19.710934",
     "status": "completed"
    },
    "tags": []
   },
   "outputs": [],
   "source": [
    "model_new = Model(layers[:-2])"
   ]
  },
  {
   "cell_type": "code",
   "execution_count": 25,
   "metadata": {
    "execution": {
     "iopub.execute_input": "2020-09-11T00:09:19.898321Z",
     "iopub.status.busy": "2020-09-11T00:09:19.897670Z",
     "iopub.status.idle": "2020-09-11T00:09:19.922840Z",
     "shell.execute_reply": "2020-09-11T00:09:19.923387Z"
    },
    "papermill": {
     "duration": 0.084998,
     "end_time": "2020-09-11T00:09:19.923563",
     "exception": false,
     "start_time": "2020-09-11T00:09:19.838565",
     "status": "completed"
    },
    "tags": []
   },
   "outputs": [],
   "source": [
    "plot_testing = model_new(testing_xdata)"
   ]
  },
  {
   "cell_type": "code",
   "execution_count": 26,
   "metadata": {
    "execution": {
     "iopub.execute_input": "2020-09-11T00:09:20.034977Z",
     "iopub.status.busy": "2020-09-11T00:09:20.034317Z",
     "iopub.status.idle": "2020-09-11T00:09:20.269847Z",
     "shell.execute_reply": "2020-09-11T00:09:20.270503Z"
    },
    "papermill": {
     "duration": 0.291959,
     "end_time": "2020-09-11T00:09:20.270681",
     "exception": false,
     "start_time": "2020-09-11T00:09:19.978722",
     "status": "completed"
    },
    "tags": []
   },
   "outputs": [
    {
     "data": {
      "text/plain": [
       "Text(0.5, 1.0, 'Outputs')"
      ]
     },
     "execution_count": 26,
     "metadata": {},
     "output_type": "execute_result"
    },
    {
     "data": {
      "image/png": "[encoded data removed]",
      "text/plain": [
       "<Figure size 576x504 with 1 Axes>"
      ]
     },
     "metadata": {
      "needs_background": "light"
     },
     "output_type": "display_data"
    }
   ],
   "source": [
    "plt.figure(figsize=(8,7))\n",
    "plt.scatter(plot_testing[:,0], plot_testing[:,1], alpha = 0.1, c = y_test.ravel());\n",
    "plt.title('Outputs')"
   ]
  },
  {
   "cell_type": "markdown",
   "metadata": {
    "papermill": {
     "duration": 0.058648,
     "end_time": "2020-09-11T00:09:20.387109",
     "exception": false,
     "start_time": "2020-09-11T00:09:20.328461",
     "status": "completed"
    },
    "tags": []
   },
   "source": [
    "### Plotting probability contours"
   ]
  },
  {
   "cell_type": "code",
   "execution_count": 27,
   "metadata": {
    "execution": {
     "iopub.execute_input": "2020-09-11T00:09:20.502514Z",
     "iopub.status.busy": "2020-09-11T00:09:20.501601Z",
     "iopub.status.idle": "2020-09-11T00:09:20.513771Z",
     "shell.execute_reply": "2020-09-11T00:09:20.513207Z"
    },
    "papermill": {
     "duration": 0.071579,
     "end_time": "2020-09-11T00:09:20.514038",
     "exception": false,
     "start_time": "2020-09-11T00:09:20.442459",
     "status": "completed"
    },
    "tags": []
   },
   "outputs": [],
   "source": [
    "model_prob = Model(layers[-2:]) "
   ]
  },
  {
   "cell_type": "code",
   "execution_count": 28,
   "metadata": {
    "execution": {
     "iopub.execute_input": "2020-09-11T00:09:20.633328Z",
     "iopub.status.busy": "2020-09-11T00:09:20.632369Z",
     "iopub.status.idle": "2020-09-11T00:09:20.648592Z",
     "shell.execute_reply": "2020-09-11T00:09:20.649150Z"
    },
    "papermill": {
     "duration": 0.079254,
     "end_time": "2020-09-11T00:09:20.649331",
     "exception": false,
     "start_time": "2020-09-11T00:09:20.570077",
     "status": "completed"
    },
    "tags": []
   },
   "outputs": [],
   "source": [
    "# Adjust the x and y ranges according to the above generated plot.\n",
    "x_range = np.linspace(-4, 1, 100) \n",
    "y_range = np.linspace(-6, 6, 100) \n",
    "x_grid, y_grid = np.meshgrid(x_range, y_range) # x_grid and y_grig are of size 100 X 100\n",
    "\n",
    "# converting x_grid and y_grid to continuous arrays\n",
    "x_grid_flat = np.ravel(x_grid)\n",
    "y_grid_flat = np.ravel(y_grid)\n",
    "\n",
    "# The last layer of the current model takes two columns as input. Hence transpose of np.vstack() is required.\n",
    "X = np.vstack((x_grid_flat, y_grid_flat)).T\n",
    "\n",
    "# x_grid and y_grid are of size 100 x 100\n",
    "probability_contour = model_prob(X).reshape(100,100) "
   ]
  },
  {
   "cell_type": "code",
   "execution_count": 29,
   "metadata": {
    "execution": {
     "iopub.execute_input": "2020-09-11T00:09:20.795657Z",
     "iopub.status.busy": "2020-09-11T00:09:20.795010Z",
     "iopub.status.idle": "2020-09-11T00:09:21.066261Z",
     "shell.execute_reply": "2020-09-11T00:09:21.065696Z"
    },
    "papermill": {
     "duration": 0.331106,
     "end_time": "2020-09-11T00:09:21.066405",
     "exception": false,
     "start_time": "2020-09-11T00:09:20.735299",
     "status": "completed"
    },
    "tags": []
   },
   "outputs": [
    {
     "data": {
      "image/png": "[encoded data removed]",
      "text/plain": [
       "<Figure size 720x648 with 1 Axes>"
      ]
     },
     "metadata": {
      "needs_background": "light"
     },
     "output_type": "display_data"
    }
   ],
   "source": [
    "plt.figure(figsize=(10,9))\n",
    "plt.scatter(plot_testing[:,0], plot_testing[:,1], alpha = 0.1, c = y_test.ravel())\n",
    "contours = plt.contour(x_grid,y_grid,probability_contour)\n",
    "plt.title('Probability Contours')\n",
    "plt.clabel(contours, inline = True );"
   ]
  }
 ],
 "metadata": {
  "kernelspec": {
   "display_name": "Python 3",
   "language": "python",
   "name": "python3"
  },
  "language_info": {
   "codemirror_mode": {
    "name": "ipython",
    "version": 3
   },
   "file_extension": ".py",
   "mimetype": "text/x-python",
   "name": "python",
   "nbconvert_exporter": "python",
   "pygments_lexer": "ipython3",
   "version": "3.6.12"
  },
  "papermill": {
   "duration": 160.843941,
   "end_time": "2020-09-11T00:09:21.531559",
   "environment_variables": {},
   "exception": null,
   "input_path": "2020-08-11-NeuralNetwork.ipynb",
   "output_path": "2020-08-11-NeuralNetwork.ipynb",
   "parameters": {},
   "start_time": "2020-09-11T00:06:40.687618",
   "version": "2.1.2"
  }
 },
 "nbformat": 4,
 "nbformat_minor": 4
}