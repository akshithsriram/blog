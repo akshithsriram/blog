{
 "cells": [
  {
   "cell_type": "markdown",
   "metadata": {
    "papermill": {
     "duration": 0.03335,
     "end_time": "2020-12-21T00:09:51.320673",
     "exception": false,
     "start_time": "2020-12-21T00:09:51.287323",
     "status": "completed"
    },
    "tags": []
   },
   "source": [
    "# \"A Basic Neural Network: Differentiate Hand-Written Digits\"\n",
    "\n",
    "- badges: true\n",
    "- author: Akshith Sriram"
   ]
  },
  {
   "cell_type": "markdown",
   "metadata": {
    "papermill": {
     "duration": 0.028113,
     "end_time": "2020-12-21T00:09:51.377566",
     "exception": false,
     "start_time": "2020-12-21T00:09:51.349453",
     "status": "completed"
    },
    "tags": []
   },
   "source": [
    "### Key Objectives:\n",
    "- Building a neural network that differentiates two hand-written digits 3 and 8.\n",
    "- Comparing the results of this Neural Network (NN) to that of a Logistic Regression (LR) model.\n",
    "\n",
    "### Requirements:\n",
    "- 'Kudzu' : A neural network library that was designed during our course by [Univ.AI](www.univ.ai). \n",
    "- MNIST Database\n",
    "\n",
    "If MNIST is not installed, use the command `!pip install mnist` given below.\n",
    "It can be run both from the command line and Jupyter Notebook."
   ]
  },
  {
   "cell_type": "code",
   "execution_count": 1,
   "metadata": {
    "execution": {
     "iopub.execute_input": "2020-12-21T00:09:51.446519Z",
     "iopub.status.busy": "2020-12-21T00:09:51.445863Z",
     "iopub.status.idle": "2020-12-21T00:09:53.021588Z",
     "shell.execute_reply": "2020-12-21T00:09:53.022086Z"
    },
    "papermill": {
     "duration": 1.614268,
     "end_time": "2020-12-21T00:09:53.022274",
     "exception": false,
     "start_time": "2020-12-21T00:09:51.408006",
     "status": "completed"
    },
    "tags": []
   },
   "outputs": [
    {
     "name": "stdout",
     "output_type": "stream",
     "text": [
      "Collecting mnist\r\n"
     ]
    },
    {
     "name": "stdout",
     "output_type": "stream",
     "text": [
      "  Downloading mnist-0.2.2-py2.py3-none-any.whl (3.5 kB)\r\n",
      "Requirement already satisfied: numpy in /opt/hostedtoolcache/Python/3.6.12/x64/lib/python3.6/site-packages (from mnist) (1.19.4)\r\n"
     ]
    },
    {
     "name": "stdout",
     "output_type": "stream",
     "text": [
      "Installing collected packages: mnist\r\n"
     ]
    },
    {
     "name": "stdout",
     "output_type": "stream",
     "text": [
      "Successfully installed mnist-0.2.2\r\n"
     ]
    },
    {
     "name": "stdout",
     "output_type": "stream",
     "text": [
      "\u001b[33mWARNING: You are using pip version 20.3.1; however, version 20.3.3 is available.\r\n",
      "You should consider upgrading via the '/opt/hostedtoolcache/Python/3.6.12/x64/bin/python -m pip install --upgrade pip' command.\u001b[0m\r\n"
     ]
    }
   ],
   "source": [
    "!pip install mnist "
   ]
  },
  {
   "cell_type": "markdown",
   "metadata": {
    "papermill": {
     "duration": 0.030941,
     "end_time": "2020-12-21T00:09:53.083216",
     "exception": false,
     "start_time": "2020-12-21T00:09:53.052275",
     "status": "completed"
    },
    "tags": []
   },
   "source": [
    "#### Importing necessary libraries"
   ]
  },
  {
   "cell_type": "code",
   "execution_count": 2,
   "metadata": {
    "execution": {
     "iopub.execute_input": "2020-12-21T00:09:53.156662Z",
     "iopub.status.busy": "2020-12-21T00:09:53.155979Z",
     "iopub.status.idle": "2020-12-21T00:09:53.766725Z",
     "shell.execute_reply": "2020-12-21T00:09:53.765705Z"
    },
    "papermill": {
     "duration": 0.653701,
     "end_time": "2020-12-21T00:09:53.766876",
     "exception": false,
     "start_time": "2020-12-21T00:09:53.113175",
     "status": "completed"
    },
    "tags": []
   },
   "outputs": [],
   "source": [
    "%load_ext autoreload\n",
    "%autoreload 2\n",
    "\n",
    "%matplotlib inline\n",
    "import matplotlib.pyplot as plt\n",
    "\n",
    "import numpy as np\n",
    "import pandas as pd"
   ]
  },
  {
   "cell_type": "markdown",
   "metadata": {
    "papermill": {
     "duration": 0.24425,
     "end_time": "2020-12-21T00:09:54.043073",
     "exception": false,
     "start_time": "2020-12-21T00:09:53.798823",
     "status": "completed"
    },
    "tags": []
   },
   "source": [
    "### Preparing the Data"
   ]
  },
  {
   "cell_type": "code",
   "execution_count": 3,
   "metadata": {
    "execution": {
     "iopub.execute_input": "2020-12-21T00:09:54.343390Z",
     "iopub.status.busy": "2020-12-21T00:09:54.338780Z",
     "iopub.status.idle": "2020-12-21T00:09:54.351277Z",
     "shell.execute_reply": "2020-12-21T00:09:54.351858Z"
    },
    "papermill": {
     "duration": 0.058127,
     "end_time": "2020-12-21T00:09:54.352004",
     "exception": false,
     "start_time": "2020-12-21T00:09:54.293877",
     "status": "completed"
    },
    "tags": []
   },
   "outputs": [],
   "source": [
    "import mnist"
   ]
  },
  {
   "cell_type": "code",
   "execution_count": 4,
   "metadata": {
    "execution": {
     "iopub.execute_input": "2020-12-21T00:09:54.418009Z",
     "iopub.status.busy": "2020-12-21T00:09:54.417357Z",
     "iopub.status.idle": "2020-12-21T00:09:55.170819Z",
     "shell.execute_reply": "2020-12-21T00:09:55.170143Z"
    },
    "papermill": {
     "duration": 0.787896,
     "end_time": "2020-12-21T00:09:55.170966",
     "exception": false,
     "start_time": "2020-12-21T00:09:54.383070",
     "status": "completed"
    },
    "tags": []
   },
   "outputs": [],
   "source": [
    "train_images = mnist.train_images()\n",
    "train_labels = mnist.train_labels()"
   ]
  },
  {
   "cell_type": "code",
   "execution_count": 5,
   "metadata": {
    "execution": {
     "iopub.execute_input": "2020-12-21T00:09:55.239001Z",
     "iopub.status.busy": "2020-12-21T00:09:55.237650Z",
     "iopub.status.idle": "2020-12-21T00:09:55.254000Z",
     "shell.execute_reply": "2020-12-21T00:09:55.253366Z"
    },
    "papermill": {
     "duration": 0.051877,
     "end_time": "2020-12-21T00:09:55.254132",
     "exception": false,
     "start_time": "2020-12-21T00:09:55.202255",
     "status": "completed"
    },
    "tags": []
   },
   "outputs": [
    {
     "data": {
      "text/plain": [
       "((60000, 28, 28), (60000,))"
      ]
     },
     "execution_count": 5,
     "metadata": {},
     "output_type": "execute_result"
    }
   ],
   "source": [
    "train_images.shape, train_labels.shape"
   ]
  },
  {
   "cell_type": "code",
   "execution_count": 6,
   "metadata": {
    "execution": {
     "iopub.execute_input": "2020-12-21T00:09:55.329815Z",
     "iopub.status.busy": "2020-12-21T00:09:55.329076Z",
     "iopub.status.idle": "2020-12-21T00:09:55.702993Z",
     "shell.execute_reply": "2020-12-21T00:09:55.702221Z"
    },
    "papermill": {
     "duration": 0.407361,
     "end_time": "2020-12-21T00:09:55.703200",
     "exception": false,
     "start_time": "2020-12-21T00:09:55.295839",
     "status": "completed"
    },
    "tags": []
   },
   "outputs": [],
   "source": [
    "test_images = mnist.test_images()\n",
    "test_labels = mnist.test_labels()"
   ]
  },
  {
   "cell_type": "code",
   "execution_count": 7,
   "metadata": {
    "execution": {
     "iopub.execute_input": "2020-12-21T00:09:55.778610Z",
     "iopub.status.busy": "2020-12-21T00:09:55.770504Z",
     "iopub.status.idle": "2020-12-21T00:09:55.788142Z",
     "shell.execute_reply": "2020-12-21T00:09:55.788793Z"
    },
    "papermill": {
     "duration": 0.053574,
     "end_time": "2020-12-21T00:09:55.788963",
     "exception": false,
     "start_time": "2020-12-21T00:09:55.735389",
     "status": "completed"
    },
    "tags": []
   },
   "outputs": [
    {
     "data": {
      "text/plain": [
       "((10000, 28, 28), (10000,))"
      ]
     },
     "execution_count": 7,
     "metadata": {},
     "output_type": "execute_result"
    }
   ],
   "source": [
    "test_images.shape, test_labels.shape"
   ]
  },
  {
   "cell_type": "code",
   "execution_count": 8,
   "metadata": {
    "execution": {
     "iopub.execute_input": "2020-12-21T00:09:55.862088Z",
     "iopub.status.busy": "2020-12-21T00:09:55.861337Z",
     "iopub.status.idle": "2020-12-21T00:09:56.047524Z",
     "shell.execute_reply": "2020-12-21T00:09:56.048368Z"
    },
    "papermill": {
     "duration": 0.227942,
     "end_time": "2020-12-21T00:09:56.048534",
     "exception": false,
     "start_time": "2020-12-21T00:09:55.820592",
     "status": "completed"
    },
    "tags": []
   },
   "outputs": [
    {
     "name": "stdout",
     "output_type": "stream",
     "text": [
      "2\n"
     ]
    },
    {
     "data": {
      "text/plain": [
       "<matplotlib.image.AxesImage at 0x7f0a262ab240>"
      ]
     },
     "execution_count": 8,
     "metadata": {},
     "output_type": "execute_result"
    },
    {
     "data": {
      "image/png": "[encoded data removed]",
      "text/plain": [
       "<Figure size 432x288 with 1 Axes>"
      ]
     },
     "metadata": {
      "needs_background": "light"
     },
     "output_type": "display_data"
    }
   ],
   "source": [
    "image_index = 7776 # You may select anything up to 60,000\n",
    "print(train_labels[image_index]) \n",
    "plt.imshow(train_images[image_index], cmap='Greys')"
   ]
  },
  {
   "cell_type": "markdown",
   "metadata": {
    "papermill": {
     "duration": 0.031754,
     "end_time": "2020-12-21T00:09:56.125363",
     "exception": false,
     "start_time": "2020-12-21T00:09:56.093609",
     "status": "completed"
    },
    "tags": []
   },
   "source": [
    "## Filter data to get 3 and 8 out"
   ]
  },
  {
   "cell_type": "code",
   "execution_count": 9,
   "metadata": {
    "execution": {
     "iopub.execute_input": "2020-12-21T00:09:56.194074Z",
     "iopub.status.busy": "2020-12-21T00:09:56.193386Z",
     "iopub.status.idle": "2020-12-21T00:09:56.212300Z",
     "shell.execute_reply": "2020-12-21T00:09:56.212824Z"
    },
    "papermill": {
     "duration": 0.056381,
     "end_time": "2020-12-21T00:09:56.213019",
     "exception": false,
     "start_time": "2020-12-21T00:09:56.156638",
     "status": "completed"
    },
    "tags": []
   },
   "outputs": [],
   "source": [
    "train_filter = np.where((train_labels == 3 ) | (train_labels == 8))\n",
    "test_filter = np.where((test_labels == 3) | (test_labels == 8))\n",
    "X_train, y_train = train_images[train_filter], train_labels[train_filter]\n",
    "X_test, y_test = test_images[test_filter], test_labels[test_filter]"
   ]
  },
  {
   "cell_type": "markdown",
   "metadata": {
    "papermill": {
     "duration": 0.033023,
     "end_time": "2020-12-21T00:09:56.277353",
     "exception": false,
     "start_time": "2020-12-21T00:09:56.244330",
     "status": "completed"
    },
    "tags": []
   },
   "source": [
    "We normalize the pixel values in the 0 to 1 range"
   ]
  },
  {
   "cell_type": "code",
   "execution_count": 10,
   "metadata": {
    "execution": {
     "iopub.execute_input": "2020-12-21T00:09:56.355274Z",
     "iopub.status.busy": "2020-12-21T00:09:56.342762Z",
     "iopub.status.idle": "2020-12-21T00:09:56.407863Z",
     "shell.execute_reply": "2020-12-21T00:09:56.408584Z"
    },
    "papermill": {
     "duration": 0.099712,
     "end_time": "2020-12-21T00:09:56.408748",
     "exception": false,
     "start_time": "2020-12-21T00:09:56.309036",
     "status": "completed"
    },
    "tags": []
   },
   "outputs": [],
   "source": [
    "X_train = X_train/255.\n",
    "X_test = X_test/255."
   ]
  },
  {
   "cell_type": "markdown",
   "metadata": {
    "papermill": {
     "duration": 0.030047,
     "end_time": "2020-12-21T00:09:56.469862",
     "exception": false,
     "start_time": "2020-12-21T00:09:56.439815",
     "status": "completed"
    },
    "tags": []
   },
   "source": [
    "Setup the labels as 1 (when the digit is 3) and 0 (when the digit is 8)"
   ]
  },
  {
   "cell_type": "code",
   "execution_count": 11,
   "metadata": {
    "execution": {
     "iopub.execute_input": "2020-12-21T00:09:56.540160Z",
     "iopub.status.busy": "2020-12-21T00:09:56.539277Z",
     "iopub.status.idle": "2020-12-21T00:09:56.552156Z",
     "shell.execute_reply": "2020-12-21T00:09:56.551527Z"
    },
    "papermill": {
     "duration": 0.051553,
     "end_time": "2020-12-21T00:09:56.552379",
     "exception": false,
     "start_time": "2020-12-21T00:09:56.500826",
     "status": "completed"
    },
    "tags": []
   },
   "outputs": [],
   "source": [
    "y_train = 1*(y_train==3)\n",
    "y_test = 1*(y_test==3)"
   ]
  },
  {
   "cell_type": "code",
   "execution_count": 12,
   "metadata": {
    "execution": {
     "iopub.execute_input": "2020-12-21T00:09:56.623556Z",
     "iopub.status.busy": "2020-12-21T00:09:56.617406Z",
     "iopub.status.idle": "2020-12-21T00:09:56.631369Z",
     "shell.execute_reply": "2020-12-21T00:09:56.630702Z"
    },
    "papermill": {
     "duration": 0.048205,
     "end_time": "2020-12-21T00:09:56.631536",
     "exception": false,
     "start_time": "2020-12-21T00:09:56.583331",
     "status": "completed"
    },
    "tags": []
   },
   "outputs": [
    {
     "data": {
      "text/plain": [
       "((11982, 28, 28), (1984, 28, 28))"
      ]
     },
     "execution_count": 12,
     "metadata": {},
     "output_type": "execute_result"
    }
   ],
   "source": [
    "X_train.shape, X_test.shape"
   ]
  },
  {
   "cell_type": "markdown",
   "metadata": {
    "papermill": {
     "duration": 0.031329,
     "end_time": "2020-12-21T00:09:56.694842",
     "exception": false,
     "start_time": "2020-12-21T00:09:56.663513",
     "status": "completed"
    },
    "tags": []
   },
   "source": [
    "### Reshape the input data to create a linear array"
   ]
  },
  {
   "cell_type": "code",
   "execution_count": 13,
   "metadata": {
    "execution": {
     "iopub.execute_input": "2020-12-21T00:09:56.765282Z",
     "iopub.status.busy": "2020-12-21T00:09:56.764500Z",
     "iopub.status.idle": "2020-12-21T00:09:56.781051Z",
     "shell.execute_reply": "2020-12-21T00:09:56.781985Z"
    },
    "papermill": {
     "duration": 0.053723,
     "end_time": "2020-12-21T00:09:56.782145",
     "exception": false,
     "start_time": "2020-12-21T00:09:56.728422",
     "status": "completed"
    },
    "tags": []
   },
   "outputs": [
    {
     "data": {
      "text/plain": [
       "((11982, 784), (1984, 784))"
      ]
     },
     "execution_count": 13,
     "metadata": {},
     "output_type": "execute_result"
    }
   ],
   "source": [
    "X_train = X_train.reshape(X_train.shape[0], -1)\n",
    "X_test = X_test.reshape(X_test.shape[0], -1)\n",
    "X_train.shape, X_test.shape"
   ]
  },
  {
   "cell_type": "markdown",
   "metadata": {
    "papermill": {
     "duration": 0.031974,
     "end_time": "2020-12-21T00:09:56.845904",
     "exception": false,
     "start_time": "2020-12-21T00:09:56.813930",
     "status": "completed"
    },
    "tags": []
   },
   "source": [
    "### Importing appropriate functions from 'Kudzu'"
   ]
  },
  {
   "cell_type": "code",
   "execution_count": 14,
   "metadata": {
    "execution": {
     "iopub.execute_input": "2020-12-21T00:09:56.913150Z",
     "iopub.status.busy": "2020-12-21T00:09:56.912507Z",
     "iopub.status.idle": "2020-12-21T00:09:56.931207Z",
     "shell.execute_reply": "2020-12-21T00:09:56.931855Z"
    },
    "papermill": {
     "duration": 0.054698,
     "end_time": "2020-12-21T00:09:56.932017",
     "exception": false,
     "start_time": "2020-12-21T00:09:56.877319",
     "status": "completed"
    },
    "tags": []
   },
   "outputs": [],
   "source": [
    "from kudzu.layer import Sigmoid\n",
    "from kudzu.layer import Relu\n",
    "from kudzu.layer import Affine, Sigmoid\n",
    "\n",
    "from kudzu.model import Model\n",
    "from kudzu.train import Learner\n",
    "from kudzu.optim import GD\n",
    "from kudzu.data import Data, Dataloader, Sampler\n",
    "\n",
    "from kudzu.callbacks import AccCallback\n",
    "from kudzu.callbacks import ClfCallback\n",
    "\n",
    "from kudzu.loss import MSE"
   ]
  },
  {
   "cell_type": "markdown",
   "metadata": {
    "papermill": {
     "duration": 0.032223,
     "end_time": "2020-12-21T00:09:56.994121",
     "exception": false,
     "start_time": "2020-12-21T00:09:56.961898",
     "status": "completed"
    },
    "tags": []
   },
   "source": [
    "### Let us create a `Config` class, to store important parameters. \n",
    "This class essentially plays the role of a dictionary."
   ]
  },
  {
   "cell_type": "code",
   "execution_count": 15,
   "metadata": {
    "execution": {
     "iopub.execute_input": "2020-12-21T00:09:57.061444Z",
     "iopub.status.busy": "2020-12-21T00:09:57.060838Z",
     "iopub.status.idle": "2020-12-21T00:09:57.073083Z",
     "shell.execute_reply": "2020-12-21T00:09:57.072460Z"
    },
    "papermill": {
     "duration": 0.047862,
     "end_time": "2020-12-21T00:09:57.073206",
     "exception": false,
     "start_time": "2020-12-21T00:09:57.025344",
     "status": "completed"
    },
    "tags": []
   },
   "outputs": [],
   "source": [
    "class Config:\n",
    "    pass\n",
    "config = Config()\n",
    "config.lr = 0.001\n",
    "config.num_epochs = 251\n",
    "config.bs = 50"
   ]
  },
  {
   "cell_type": "markdown",
   "metadata": {
    "papermill": {
     "duration": 0.031499,
     "end_time": "2020-12-21T00:09:57.134955",
     "exception": false,
     "start_time": "2020-12-21T00:09:57.103456",
     "status": "completed"
    },
    "tags": []
   },
   "source": [
    "### Initializing data to the variables"
   ]
  },
  {
   "cell_type": "code",
   "execution_count": 16,
   "metadata": {
    "execution": {
     "iopub.execute_input": "2020-12-21T00:09:57.204109Z",
     "iopub.status.busy": "2020-12-21T00:09:57.203391Z",
     "iopub.status.idle": "2020-12-21T00:09:57.216692Z",
     "shell.execute_reply": "2020-12-21T00:09:57.217271Z"
    },
    "papermill": {
     "duration": 0.05208,
     "end_time": "2020-12-21T00:09:57.217408",
     "exception": false,
     "start_time": "2020-12-21T00:09:57.165328",
     "status": "completed"
    },
    "tags": []
   },
   "outputs": [],
   "source": [
    "data = Data(X_train, y_train.reshape(-1,1))\n",
    "sampler = Sampler(data, config.bs, shuffle=True)\n",
    "\n",
    "dl = Dataloader(data, sampler)\n",
    "\n",
    "opt = GD(config.lr)\n",
    "loss = MSE()"
   ]
  },
  {
   "cell_type": "code",
   "execution_count": 17,
   "metadata": {
    "execution": {
     "iopub.execute_input": "2020-12-21T00:09:57.283068Z",
     "iopub.status.busy": "2020-12-21T00:09:57.282369Z",
     "iopub.status.idle": "2020-12-21T00:09:57.294763Z",
     "shell.execute_reply": "2020-12-21T00:09:57.294180Z"
    },
    "papermill": {
     "duration": 0.047447,
     "end_time": "2020-12-21T00:09:57.294887",
     "exception": false,
     "start_time": "2020-12-21T00:09:57.247440",
     "status": "completed"
    },
    "tags": []
   },
   "outputs": [],
   "source": [
    "training_xdata = X_train\n",
    "testing_xdata = X_test\n",
    "training_ydata = y_train.reshape(-1,1)\n",
    "testing_ydata = y_test.reshape(-1,1)"
   ]
  },
  {
   "cell_type": "markdown",
   "metadata": {
    "papermill": {
     "duration": 0.031925,
     "end_time": "2020-12-21T00:09:57.363567",
     "exception": false,
     "start_time": "2020-12-21T00:09:57.331642",
     "status": "completed"
    },
    "tags": []
   },
   "source": [
    "### Running Models with the Training data\n",
    "Details about the network layers:\n",
    "- A first affine layer has 784 inputs and does 100 affine transforms. These are followed by a Relu\n",
    "- A second affine layer has 100 inputs from the 100 activations of the past layer, and does 100 affine transforms. These are followed by a Relu\n",
    "- A third affine layer has 100 activations and does 2 affine transformations to create an embedding for visualization. There is no non-linearity here.\n",
    "- A final \"logistic regression\" which has an affine transform from 2 inputs to 1 output, which is squeezed through a sigmoid.\n",
    "\n",
    "Help taken from Anshuman's Notebook."
   ]
  },
  {
   "cell_type": "code",
   "execution_count": 18,
   "metadata": {
    "execution": {
     "iopub.execute_input": "2020-12-21T00:09:57.433585Z",
     "iopub.status.busy": "2020-12-21T00:09:57.432929Z",
     "iopub.status.idle": "2020-12-21T00:09:57.449879Z",
     "shell.execute_reply": "2020-12-21T00:09:57.450519Z"
    },
    "papermill": {
     "duration": 0.054024,
     "end_time": "2020-12-21T00:09:57.450661",
     "exception": false,
     "start_time": "2020-12-21T00:09:57.396637",
     "status": "completed"
    },
    "tags": []
   },
   "outputs": [],
   "source": [
    "# layers for the Neural Network\n",
    "layers = [Affine(\"first\", 784, 100), Relu(\"first\"), Affine(\"second\", 100, 100), Relu(\"second\"), Affine(\"third\", 100, 2), Affine(\"final\", 2, 1), Sigmoid(\"final\")]\n",
    "model_nn = Model(layers)\n",
    "\n",
    "# layers for the Logistic Regression\n",
    "layers_lr = [Affine(\"logits\", 784, 1), Sigmoid(\"sigmoid\")]\n",
    "model_lr = Model(layers_lr)"
   ]
  },
  {
   "cell_type": "code",
   "execution_count": 19,
   "metadata": {
    "execution": {
     "iopub.execute_input": "2020-12-21T00:09:57.518537Z",
     "iopub.status.busy": "2020-12-21T00:09:57.517896Z",
     "iopub.status.idle": "2020-12-21T00:09:57.530251Z",
     "shell.execute_reply": "2020-12-21T00:09:57.529689Z"
    },
    "papermill": {
     "duration": 0.047564,
     "end_time": "2020-12-21T00:09:57.530413",
     "exception": false,
     "start_time": "2020-12-21T00:09:57.482849",
     "status": "completed"
    },
    "tags": []
   },
   "outputs": [],
   "source": [
    "# suffix _nn stands for Neural Network.\n",
    "learner_nn = Learner(loss, model_nn, opt, config.num_epochs)\n",
    "acc_nn = ClfCallback(learner_nn, config.bs, training_xdata , testing_xdata, training_ydata, testing_ydata)\n",
    "learner_nn.set_callbacks([acc_nn])"
   ]
  },
  {
   "cell_type": "code",
   "execution_count": 20,
   "metadata": {
    "execution": {
     "iopub.execute_input": "2020-12-21T00:09:57.602642Z",
     "iopub.status.busy": "2020-12-21T00:09:57.601973Z",
     "iopub.status.idle": "2020-12-21T00:12:16.194896Z",
     "shell.execute_reply": "2020-12-21T00:12:16.193415Z"
    },
    "papermill": {
     "duration": 138.632574,
     "end_time": "2020-12-21T00:12:16.195044",
     "exception": false,
     "start_time": "2020-12-21T00:09:57.562470",
     "status": "completed"
    },
    "tags": []
   },
   "outputs": [
    {
     "name": "stdout",
     "output_type": "stream",
     "text": [
      "====== Neural Network ======\n"
     ]
    },
    {
     "name": "stdout",
     "output_type": "stream",
     "text": [
      "Epoch 0, Loss 0.2177\n",
      "Training Accuracy: 0.7696, Testing Accuracy: 0.7631\n",
      "\n"
     ]
    },
    {
     "name": "stdout",
     "output_type": "stream",
     "text": [
      "Epoch 10, Loss 0.0564\n",
      "Training Accuracy: 0.9455, Testing Accuracy: 0.9496\n",
      "\n"
     ]
    },
    {
     "name": "stdout",
     "output_type": "stream",
     "text": [
      "Epoch 20, Loss 0.0397\n",
      "Training Accuracy: 0.9596, Testing Accuracy: 0.9647\n",
      "\n"
     ]
    },
    {
     "name": "stdout",
     "output_type": "stream",
     "text": [
      "Epoch 30, Loss 0.0336\n",
      "Training Accuracy: 0.9646, Testing Accuracy: 0.9688\n",
      "\n"
     ]
    },
    {
     "name": "stdout",
     "output_type": "stream",
     "text": [
      "Epoch 40, Loss 0.0303\n",
      "Training Accuracy: 0.9673, Testing Accuracy: 0.9703\n",
      "\n"
     ]
    },
    {
     "name": "stdout",
     "output_type": "stream",
     "text": [
      "Epoch 50, Loss 0.028\n",
      "Training Accuracy: 0.9688, Testing Accuracy: 0.9718\n",
      "\n"
     ]
    },
    {
     "name": "stdout",
     "output_type": "stream",
     "text": [
      "Epoch 60, Loss 0.0264\n",
      "Training Accuracy: 0.9711, Testing Accuracy: 0.9733\n",
      "\n"
     ]
    },
    {
     "name": "stdout",
     "output_type": "stream",
     "text": [
      "Epoch 70, Loss 0.0251\n",
      "Training Accuracy: 0.9720, Testing Accuracy: 0.9738\n",
      "\n"
     ]
    },
    {
     "name": "stdout",
     "output_type": "stream",
     "text": [
      "Epoch 80, Loss 0.024\n",
      "Training Accuracy: 0.9728, Testing Accuracy: 0.9748\n",
      "\n"
     ]
    },
    {
     "name": "stdout",
     "output_type": "stream",
     "text": [
      "Epoch 90, Loss 0.0231\n",
      "Training Accuracy: 0.9739, Testing Accuracy: 0.9748\n",
      "\n"
     ]
    },
    {
     "name": "stdout",
     "output_type": "stream",
     "text": [
      "Epoch 100, Loss 0.0223\n",
      "Training Accuracy: 0.9757, Testing Accuracy: 0.9748\n",
      "\n"
     ]
    },
    {
     "name": "stdout",
     "output_type": "stream",
     "text": [
      "Epoch 110, Loss 0.0215\n",
      "Training Accuracy: 0.9764, Testing Accuracy: 0.9743\n",
      "\n"
     ]
    },
    {
     "name": "stdout",
     "output_type": "stream",
     "text": [
      "Epoch 120, Loss 0.0209\n",
      "Training Accuracy: 0.9766, Testing Accuracy: 0.9743\n",
      "\n"
     ]
    },
    {
     "name": "stdout",
     "output_type": "stream",
     "text": [
      "Epoch 130, Loss 0.0202\n",
      "Training Accuracy: 0.9771, Testing Accuracy: 0.9743\n",
      "\n"
     ]
    },
    {
     "name": "stdout",
     "output_type": "stream",
     "text": [
      "Epoch 140, Loss 0.0197\n",
      "Training Accuracy: 0.9780, Testing Accuracy: 0.9748\n",
      "\n"
     ]
    },
    {
     "name": "stdout",
     "output_type": "stream",
     "text": [
      "Epoch 150, Loss 0.0191\n",
      "Training Accuracy: 0.9785, Testing Accuracy: 0.9753\n",
      "\n"
     ]
    },
    {
     "name": "stdout",
     "output_type": "stream",
     "text": [
      "Epoch 160, Loss 0.0186\n",
      "Training Accuracy: 0.9790, Testing Accuracy: 0.9758\n",
      "\n"
     ]
    },
    {
     "name": "stdout",
     "output_type": "stream",
     "text": [
      "Epoch 170, Loss 0.0181\n",
      "Training Accuracy: 0.9793, Testing Accuracy: 0.9758\n",
      "\n"
     ]
    },
    {
     "name": "stdout",
     "output_type": "stream",
     "text": [
      "Epoch 180, Loss 0.0177\n",
      "Training Accuracy: 0.9805, Testing Accuracy: 0.9763\n",
      "\n"
     ]
    },
    {
     "name": "stdout",
     "output_type": "stream",
     "text": [
      "Epoch 190, Loss 0.0172\n",
      "Training Accuracy: 0.9810, Testing Accuracy: 0.9763\n",
      "\n"
     ]
    },
    {
     "name": "stdout",
     "output_type": "stream",
     "text": [
      "Epoch 200, Loss 0.0168\n",
      "Training Accuracy: 0.9815, Testing Accuracy: 0.9773\n",
      "\n"
     ]
    },
    {
     "name": "stdout",
     "output_type": "stream",
     "text": [
      "Epoch 210, Loss 0.0164\n",
      "Training Accuracy: 0.9821, Testing Accuracy: 0.9778\n",
      "\n"
     ]
    },
    {
     "name": "stdout",
     "output_type": "stream",
     "text": [
      "Epoch 220, Loss 0.016\n",
      "Training Accuracy: 0.9828, Testing Accuracy: 0.9778\n",
      "\n"
     ]
    },
    {
     "name": "stdout",
     "output_type": "stream",
     "text": [
      "Epoch 230, Loss 0.0156\n",
      "Training Accuracy: 0.9835, Testing Accuracy: 0.9783\n",
      "\n"
     ]
    },
    {
     "name": "stdout",
     "output_type": "stream",
     "text": [
      "Epoch 240, Loss 0.0152\n",
      "Training Accuracy: 0.9839, Testing Accuracy: 0.9793\n",
      "\n"
     ]
    },
    {
     "name": "stdout",
     "output_type": "stream",
     "text": [
      "Epoch 250, Loss 0.0149\n",
      "Training Accuracy: 0.9842, Testing Accuracy: 0.9783\n",
      "\n"
     ]
    },
    {
     "data": {
      "text/plain": [
       "0.0495350360787237"
      ]
     },
     "execution_count": 20,
     "metadata": {},
     "output_type": "execute_result"
    }
   ],
   "source": [
    "print(\"====== Neural Network ======\")\n",
    "learner_nn.train_loop(dl)"
   ]
  },
  {
   "cell_type": "markdown",
   "metadata": {
    "papermill": {
     "duration": 0.042722,
     "end_time": "2020-12-21T00:12:16.281724",
     "exception": false,
     "start_time": "2020-12-21T00:12:16.239002",
     "status": "completed"
    },
    "tags": []
   },
   "source": [
    "### Logistic Regression based Implementation."
   ]
  },
  {
   "cell_type": "code",
   "execution_count": 21,
   "metadata": {
    "execution": {
     "iopub.execute_input": "2020-12-21T00:12:16.387286Z",
     "iopub.status.busy": "2020-12-21T00:12:16.386620Z",
     "iopub.status.idle": "2020-12-21T00:12:16.400742Z",
     "shell.execute_reply": "2020-12-21T00:12:16.400170Z"
    },
    "papermill": {
     "duration": 0.067119,
     "end_time": "2020-12-21T00:12:16.400881",
     "exception": false,
     "start_time": "2020-12-21T00:12:16.333762",
     "status": "completed"
    },
    "tags": []
   },
   "outputs": [],
   "source": [
    "learner_lr = Learner(loss, model_lr, opt, config.num_epochs)\n",
    "acc_lr = ClfCallback(learner_lr, config.bs, training_xdata , testing_xdata, training_ydata, testing_ydata)\n",
    "learner_lr.set_callbacks([acc_lr])"
   ]
  },
  {
   "cell_type": "code",
   "execution_count": 22,
   "metadata": {
    "execution": {
     "iopub.execute_input": "2020-12-21T00:12:16.492346Z",
     "iopub.status.busy": "2020-12-21T00:12:16.491310Z",
     "iopub.status.idle": "2020-12-21T00:12:36.857141Z",
     "shell.execute_reply": "2020-12-21T00:12:36.857725Z"
    },
    "papermill": {
     "duration": 20.413383,
     "end_time": "2020-12-21T00:12:36.857902",
     "exception": false,
     "start_time": "2020-12-21T00:12:16.444519",
     "status": "completed"
    },
    "tags": []
   },
   "outputs": [
    {
     "name": "stdout",
     "output_type": "stream",
     "text": [
      "====== Logistic Regression ======\n",
      "Epoch 0, Loss 0.2287\n",
      "Training Accuracy: 0.7637, Testing Accuracy: 0.7641\n",
      "\n"
     ]
    },
    {
     "name": "stdout",
     "output_type": "stream",
     "text": [
      "Epoch 10, Loss 0.0985\n",
      "Training Accuracy: 0.9184, Testing Accuracy: 0.9239\n",
      "\n"
     ]
    },
    {
     "name": "stdout",
     "output_type": "stream",
     "text": [
      "Epoch 20, Loss 0.0767\n",
      "Training Accuracy: 0.9312, Testing Accuracy: 0.9385\n",
      "\n"
     ]
    },
    {
     "name": "stdout",
     "output_type": "stream",
     "text": [
      "Epoch 30, Loss 0.0666\n",
      "Training Accuracy: 0.9374, Testing Accuracy: 0.9446\n",
      "\n"
     ]
    },
    {
     "name": "stdout",
     "output_type": "stream",
     "text": [
      "Epoch 40, Loss 0.0605\n",
      "Training Accuracy: 0.9415, Testing Accuracy: 0.9486\n",
      "\n"
     ]
    },
    {
     "name": "stdout",
     "output_type": "stream",
     "text": [
      "Epoch 50, Loss 0.0562\n",
      "Training Accuracy: 0.9451, Testing Accuracy: 0.9516\n",
      "\n"
     ]
    },
    {
     "name": "stdout",
     "output_type": "stream",
     "text": [
      "Epoch 60, Loss 0.0531\n",
      "Training Accuracy: 0.9478, Testing Accuracy: 0.9546\n",
      "\n"
     ]
    },
    {
     "name": "stdout",
     "output_type": "stream",
     "text": [
      "Epoch 70, Loss 0.0507\n",
      "Training Accuracy: 0.9489, Testing Accuracy: 0.9587\n",
      "\n"
     ]
    },
    {
     "name": "stdout",
     "output_type": "stream",
     "text": [
      "Epoch 80, Loss 0.0488\n",
      "Training Accuracy: 0.9503, Testing Accuracy: 0.9602\n",
      "\n"
     ]
    },
    {
     "name": "stdout",
     "output_type": "stream",
     "text": [
      "Epoch 90, Loss 0.0472\n",
      "Training Accuracy: 0.9513, Testing Accuracy: 0.9612\n",
      "\n"
     ]
    },
    {
     "name": "stdout",
     "output_type": "stream",
     "text": [
      "Epoch 100, Loss 0.0458\n",
      "Training Accuracy: 0.9527, Testing Accuracy: 0.9622\n",
      "\n"
     ]
    },
    {
     "name": "stdout",
     "output_type": "stream",
     "text": [
      "Epoch 110, Loss 0.0447\n",
      "Training Accuracy: 0.9538, Testing Accuracy: 0.9632\n",
      "\n"
     ]
    },
    {
     "name": "stdout",
     "output_type": "stream",
     "text": [
      "Epoch 120, Loss 0.0436\n",
      "Training Accuracy: 0.9543, Testing Accuracy: 0.9632\n",
      "\n"
     ]
    },
    {
     "name": "stdout",
     "output_type": "stream",
     "text": [
      "Epoch 130, Loss 0.0427\n",
      "Training Accuracy: 0.9546, Testing Accuracy: 0.9632\n",
      "\n"
     ]
    },
    {
     "name": "stdout",
     "output_type": "stream",
     "text": [
      "Epoch 140, Loss 0.0419\n",
      "Training Accuracy: 0.9553, Testing Accuracy: 0.9637\n",
      "\n"
     ]
    },
    {
     "name": "stdout",
     "output_type": "stream",
     "text": [
      "Epoch 150, Loss 0.0412\n",
      "Training Accuracy: 0.9560, Testing Accuracy: 0.9647\n",
      "\n"
     ]
    },
    {
     "name": "stdout",
     "output_type": "stream",
     "text": [
      "Epoch 160, Loss 0.0406\n",
      "Training Accuracy: 0.9568, Testing Accuracy: 0.9652\n",
      "\n"
     ]
    },
    {
     "name": "stdout",
     "output_type": "stream",
     "text": [
      "Epoch 170, Loss 0.04\n",
      "Training Accuracy: 0.9573, Testing Accuracy: 0.9652\n",
      "\n"
     ]
    },
    {
     "name": "stdout",
     "output_type": "stream",
     "text": [
      "Epoch 180, Loss 0.0394\n",
      "Training Accuracy: 0.9578, Testing Accuracy: 0.9652\n",
      "\n"
     ]
    },
    {
     "name": "stdout",
     "output_type": "stream",
     "text": [
      "Epoch 190, Loss 0.0389\n",
      "Training Accuracy: 0.9583, Testing Accuracy: 0.9652\n",
      "\n"
     ]
    },
    {
     "name": "stdout",
     "output_type": "stream",
     "text": [
      "Epoch 200, Loss 0.0384\n",
      "Training Accuracy: 0.9588, Testing Accuracy: 0.9652\n",
      "\n"
     ]
    },
    {
     "name": "stdout",
     "output_type": "stream",
     "text": [
      "Epoch 210, Loss 0.038\n",
      "Training Accuracy: 0.9593, Testing Accuracy: 0.9647\n",
      "\n"
     ]
    },
    {
     "name": "stdout",
     "output_type": "stream",
     "text": [
      "Epoch 220, Loss 0.0376\n",
      "Training Accuracy: 0.9596, Testing Accuracy: 0.9647\n",
      "\n"
     ]
    },
    {
     "name": "stdout",
     "output_type": "stream",
     "text": [
      "Epoch 230, Loss 0.0372\n",
      "Training Accuracy: 0.9602, Testing Accuracy: 0.9647\n",
      "\n"
     ]
    },
    {
     "name": "stdout",
     "output_type": "stream",
     "text": [
      "Epoch 240, Loss 0.0369\n",
      "Training Accuracy: 0.9604, Testing Accuracy: 0.9647\n",
      "\n"
     ]
    },
    {
     "name": "stdout",
     "output_type": "stream",
     "text": [
      "Epoch 250, Loss 0.0365\n",
      "Training Accuracy: 0.9607, Testing Accuracy: 0.9652\n",
      "\n"
     ]
    },
    {
     "data": {
      "text/plain": [
       "0.02321443772741798"
      ]
     },
     "execution_count": 22,
     "metadata": {},
     "output_type": "execute_result"
    }
   ],
   "source": [
    "print(\"====== Logistic Regression ======\")\n",
    "learner_lr.train_loop(dl)"
   ]
  },
  {
   "cell_type": "markdown",
   "metadata": {
    "papermill": {
     "duration": 0.054113,
     "end_time": "2020-12-21T00:12:36.965185",
     "exception": false,
     "start_time": "2020-12-21T00:12:36.911072",
     "status": "completed"
    },
    "tags": []
   },
   "source": [
    "### Comparing results of NN and LR"
   ]
  },
  {
   "cell_type": "code",
   "execution_count": 23,
   "metadata": {
    "execution": {
     "iopub.execute_input": "2020-12-21T00:12:37.086522Z",
     "iopub.status.busy": "2020-12-21T00:12:37.085493Z",
     "iopub.status.idle": "2020-12-21T00:12:37.373354Z",
     "shell.execute_reply": "2020-12-21T00:12:37.372824Z"
    },
    "papermill": {
     "duration": 0.35306,
     "end_time": "2020-12-21T00:12:37.373498",
     "exception": false,
     "start_time": "2020-12-21T00:12:37.020438",
     "status": "completed"
    },
    "tags": []
   },
   "outputs": [
    {
     "data": {
      "text/plain": [
       "<matplotlib.legend.Legend at 0x7f0a23e79b38>"
      ]
     },
     "execution_count": 23,
     "metadata": {},
     "output_type": "execute_result"
    },
    {
     "data": {
      "image/png": "[encoded data removed]",
      "text/plain": [
       "<Figure size 1080x720 with 1 Axes>"
      ]
     },
     "metadata": {
      "needs_background": "light"
     },
     "output_type": "display_data"
    }
   ],
   "source": [
    "plt.figure(figsize=(15,10))\n",
    "\n",
    "# Neural Network plots\n",
    "plt.plot(acc_nn.accuracies, 'r-', label = \"Training Accuracies - NN\")\n",
    "plt.plot(acc_nn.test_accuracies, 'g-', label = \"Testing Accuracies - NN\")\n",
    "\n",
    "# Logistic Regression plots\n",
    "plt.plot(acc_lr.accuracies, 'k-', label = \"Training Accuracies - LR\")\n",
    "plt.plot(acc_lr.test_accuracies, 'b-', label = \"Testing Accuracies - LR\")\n",
    "\n",
    "plt.ylim(0.8, 1)\n",
    "\n",
    "plt.legend()\n",
    "\n"
   ]
  },
  {
   "cell_type": "markdown",
   "metadata": {
    "papermill": {
     "duration": 0.052034,
     "end_time": "2020-12-21T00:12:37.478165",
     "exception": false,
     "start_time": "2020-12-21T00:12:37.426131",
     "status": "completed"
    },
    "tags": []
   },
   "source": [
    "### From the plot, we can observe the following:\n",
    "- Neural Network achieves higher accuracy than the Logistic Regression model.\n",
    "- This apparently, is because of overfitting, i.e. NN captures more noise than data.\n",
    "- Testing accuracy of NN drops below the Training accuracy at higher epochs. This explains the over-fitting on training data.\n",
    "- Logistic Regression gives a reliable accuracy, without the above mentioned problem.\n"
   ]
  },
  {
   "cell_type": "markdown",
   "metadata": {
    "papermill": {
     "duration": 0.052761,
     "end_time": "2020-12-21T00:12:37.583167",
     "exception": false,
     "start_time": "2020-12-21T00:12:37.530406",
     "status": "completed"
    },
    "tags": []
   },
   "source": [
    "### Moving till the last but one layer (excluding it).\n",
    "#### Plotting the outputs of this layer of the NN."
   ]
  },
  {
   "cell_type": "code",
   "execution_count": 24,
   "metadata": {
    "execution": {
     "iopub.execute_input": "2020-12-21T00:12:37.696862Z",
     "iopub.status.busy": "2020-12-21T00:12:37.696176Z",
     "iopub.status.idle": "2020-12-21T00:12:37.708079Z",
     "shell.execute_reply": "2020-12-21T00:12:37.707489Z"
    },
    "papermill": {
     "duration": 0.071715,
     "end_time": "2020-12-21T00:12:37.708213",
     "exception": false,
     "start_time": "2020-12-21T00:12:37.636498",
     "status": "completed"
    },
    "tags": []
   },
   "outputs": [],
   "source": [
    "model_new = Model(layers[:-2])"
   ]
  },
  {
   "cell_type": "code",
   "execution_count": 25,
   "metadata": {
    "execution": {
     "iopub.execute_input": "2020-12-21T00:12:37.824117Z",
     "iopub.status.busy": "2020-12-21T00:12:37.823426Z",
     "iopub.status.idle": "2020-12-21T00:12:37.848476Z",
     "shell.execute_reply": "2020-12-21T00:12:37.849347Z"
    },
    "papermill": {
     "duration": 0.088383,
     "end_time": "2020-12-21T00:12:37.849519",
     "exception": false,
     "start_time": "2020-12-21T00:12:37.761136",
     "status": "completed"
    },
    "tags": []
   },
   "outputs": [],
   "source": [
    "plot_testing = model_new(testing_xdata)"
   ]
  },
  {
   "cell_type": "code",
   "execution_count": 26,
   "metadata": {
    "execution": {
     "iopub.execute_input": "2020-12-21T00:12:37.964971Z",
     "iopub.status.busy": "2020-12-21T00:12:37.964354Z",
     "iopub.status.idle": "2020-12-21T00:12:38.165840Z",
     "shell.execute_reply": "2020-12-21T00:12:38.165299Z"
    },
    "papermill": {
     "duration": 0.261546,
     "end_time": "2020-12-21T00:12:38.165975",
     "exception": false,
     "start_time": "2020-12-21T00:12:37.904429",
     "status": "completed"
    },
    "tags": []
   },
   "outputs": [
    {
     "data": {
      "text/plain": [
       "Text(0.5, 1.0, 'Outputs')"
      ]
     },
     "execution_count": 26,
     "metadata": {},
     "output_type": "execute_result"
    },
    {
     "data": {
      "image/png": "[encoded data removed]",
      "text/plain": [
       "<Figure size 576x504 with 1 Axes>"
      ]
     },
     "metadata": {
      "needs_background": "light"
     },
     "output_type": "display_data"
    }
   ],
   "source": [
    "plt.figure(figsize=(8,7))\n",
    "plt.scatter(plot_testing[:,0], plot_testing[:,1], alpha = 0.1, c = y_test.ravel());\n",
    "plt.title('Outputs')"
   ]
  },
  {
   "cell_type": "markdown",
   "metadata": {
    "papermill": {
     "duration": 0.053322,
     "end_time": "2020-12-21T00:12:38.274559",
     "exception": false,
     "start_time": "2020-12-21T00:12:38.221237",
     "status": "completed"
    },
    "tags": []
   },
   "source": [
    "### Plotting probability contours"
   ]
  },
  {
   "cell_type": "code",
   "execution_count": 27,
   "metadata": {
    "execution": {
     "iopub.execute_input": "2020-12-21T00:12:38.390497Z",
     "iopub.status.busy": "2020-12-21T00:12:38.389698Z",
     "iopub.status.idle": "2020-12-21T00:12:38.401675Z",
     "shell.execute_reply": "2020-12-21T00:12:38.400928Z"
    },
    "papermill": {
     "duration": 0.073547,
     "end_time": "2020-12-21T00:12:38.401851",
     "exception": false,
     "start_time": "2020-12-21T00:12:38.328304",
     "status": "completed"
    },
    "tags": []
   },
   "outputs": [],
   "source": [
    "model_prob = Model(layers[-2:]) "
   ]
  },
  {
   "cell_type": "code",
   "execution_count": 28,
   "metadata": {
    "execution": {
     "iopub.execute_input": "2020-12-21T00:12:38.519372Z",
     "iopub.status.busy": "2020-12-21T00:12:38.518565Z",
     "iopub.status.idle": "2020-12-21T00:12:38.530063Z",
     "shell.execute_reply": "2020-12-21T00:12:38.530565Z"
    },
    "papermill": {
     "duration": 0.074177,
     "end_time": "2020-12-21T00:12:38.530703",
     "exception": false,
     "start_time": "2020-12-21T00:12:38.456526",
     "status": "completed"
    },
    "tags": []
   },
   "outputs": [],
   "source": [
    "# Adjust the x and y ranges according to the above generated plot.\n",
    "x_range = np.linspace(-4, 1, 100) \n",
    "y_range = np.linspace(-6, 6, 100) \n",
    "x_grid, y_grid = np.meshgrid(x_range, y_range) # x_grid and y_grig are of size 100 X 100\n",
    "\n",
    "# converting x_grid and y_grid to continuous arrays\n",
    "x_grid_flat = np.ravel(x_grid)\n",
    "y_grid_flat = np.ravel(y_grid)\n",
    "\n",
    "# The last layer of the current model takes two columns as input. Hence transpose of np.vstack() is required.\n",
    "X = np.vstack((x_grid_flat, y_grid_flat)).T\n",
    "\n",
    "# x_grid and y_grid are of size 100 x 100\n",
    "probability_contour = model_prob(X).reshape(100,100) "
   ]
  },
  {
   "cell_type": "code",
   "execution_count": 29,
   "metadata": {
    "execution": {
     "iopub.execute_input": "2020-12-21T00:12:38.662284Z",
     "iopub.status.busy": "2020-12-21T00:12:38.661466Z",
     "iopub.status.idle": "2020-12-21T00:12:38.935203Z",
     "shell.execute_reply": "2020-12-21T00:12:38.935987Z"
    },
    "papermill": {
     "duration": 0.331871,
     "end_time": "2020-12-21T00:12:38.936146",
     "exception": false,
     "start_time": "2020-12-21T00:12:38.604275",
     "status": "completed"
    },
    "tags": []
   },
   "outputs": [
    {
     "data": {
      "image/png": "[encoded data removed]",
      "text/plain": [
       "<Figure size 720x648 with 1 Axes>"
      ]
     },
     "metadata": {
      "needs_background": "light"
     },
     "output_type": "display_data"
    }
   ],
   "source": [
    "plt.figure(figsize=(10,9))\n",
    "plt.scatter(plot_testing[:,0], plot_testing[:,1], alpha = 0.1, c = y_test.ravel())\n",
    "contours = plt.contour(x_grid,y_grid,probability_contour)\n",
    "plt.title('Probability Contours')\n",
    "plt.clabel(contours, inline = True );"
   ]
  }
 ],
 "metadata": {
  "kernelspec": {
   "display_name": "Python 3",
   "language": "python",
   "name": "python3"
  },
  "language_info": {
   "codemirror_mode": {
    "name": "ipython",
    "version": 3
   },
   "file_extension": ".py",
   "mimetype": "text/x-python",
   "name": "python",
   "nbconvert_exporter": "python",
   "pygments_lexer": "ipython3",
   "version": "3.6.12"
  },
  "papermill": {
   "duration": 169.129859,
   "end_time": "2020-12-21T00:12:39.298517",
   "environment_variables": {},
   "exception": null,
   "input_path": "2020-08-11-NeuralNetwork.ipynb",
   "output_path": "2020-08-11-NeuralNetwork.ipynb",
   "parameters": {},
   "start_time": "2020-12-21T00:09:50.168658",
   "version": "2.1.2"
  }
 },
 "nbformat": 4,
 "nbformat_minor": 4
}