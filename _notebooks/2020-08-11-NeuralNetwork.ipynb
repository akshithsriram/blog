{
 "cells": [
  {
   "cell_type": "markdown",
   "metadata": {
    "papermill": {
     "duration": 0.032674,
     "end_time": "2020-12-04T10:04:44.198823",
     "exception": false,
     "start_time": "2020-12-04T10:04:44.166149",
     "status": "completed"
    },
    "tags": []
   },
   "source": [
    "# \"A Basic Neural Network: Differentiate Hand-Written Digits\"\n",
    "\n",
    "- badges: true\n",
    "- author: Akshith Sriram"
   ]
  },
  {
   "cell_type": "markdown",
   "metadata": {
    "papermill": {
     "duration": 0.023291,
     "end_time": "2020-12-04T10:04:44.246631",
     "exception": false,
     "start_time": "2020-12-04T10:04:44.223340",
     "status": "completed"
    },
    "tags": []
   },
   "source": [
    "### Key Objectives:\n",
    "- Building a neural network that differentiates two hand-written digits 3 and 8.\n",
    "- Comparing the results of this Neural Network (NN) to that of a Logistic Regression (LR) model.\n",
    "\n",
    "### Requirements:\n",
    "- 'Kudzu' : A neural network library that was designed during our course by [Univ.AI](www.univ.ai). \n",
    "- MNIST Database\n",
    "\n",
    "If MNIST is not installed, use the command `!pip install mnist` given below.\n",
    "It can be run both from the command line and Jupyter Notebook."
   ]
  },
  {
   "cell_type": "code",
   "execution_count": 1,
   "metadata": {
    "execution": {
     "iopub.execute_input": "2020-12-04T10:04:44.300234Z",
     "iopub.status.busy": "2020-12-04T10:04:44.299601Z",
     "iopub.status.idle": "2020-12-04T10:04:45.753242Z",
     "shell.execute_reply": "2020-12-04T10:04:45.752508Z"
    },
    "papermill": {
     "duration": 1.481989,
     "end_time": "2020-12-04T10:04:45.753430",
     "exception": false,
     "start_time": "2020-12-04T10:04:44.271441",
     "status": "completed"
    },
    "tags": []
   },
   "outputs": [
    {
     "name": "stdout",
     "output_type": "stream",
     "text": [
      "Collecting mnist\r\n"
     ]
    },
    {
     "name": "stdout",
     "output_type": "stream",
     "text": [
      "  Downloading mnist-0.2.2-py2.py3-none-any.whl (3.5 kB)\r\n",
      "Requirement already satisfied: numpy in /opt/hostedtoolcache/Python/3.6.12/x64/lib/python3.6/site-packages (from mnist) (1.19.4)\r\n"
     ]
    },
    {
     "name": "stdout",
     "output_type": "stream",
     "text": [
      "Installing collected packages: mnist\r\n"
     ]
    },
    {
     "name": "stdout",
     "output_type": "stream",
     "text": [
      "Successfully installed mnist-0.2.2\r\n",
      "\u001b[33mWARNING: You are using pip version 20.2.4; however, version 20.3.1 is available.\r\n",
      "You should consider upgrading via the '/opt/hostedtoolcache/Python/3.6.12/x64/bin/python -m pip install --upgrade pip' command.\u001b[0m\r\n"
     ]
    }
   ],
   "source": [
    "!pip install mnist "
   ]
  },
  {
   "cell_type": "markdown",
   "metadata": {
    "papermill": {
     "duration": 0.024995,
     "end_time": "2020-12-04T10:04:45.803449",
     "exception": false,
     "start_time": "2020-12-04T10:04:45.778454",
     "status": "completed"
    },
    "tags": []
   },
   "source": [
    "#### Importing necessary libraries"
   ]
  },
  {
   "cell_type": "code",
   "execution_count": 2,
   "metadata": {
    "execution": {
     "iopub.execute_input": "2020-12-04T10:04:45.866537Z",
     "iopub.status.busy": "2020-12-04T10:04:45.861963Z",
     "iopub.status.idle": "2020-12-04T10:04:46.417174Z",
     "shell.execute_reply": "2020-12-04T10:04:46.416352Z"
    },
    "papermill": {
     "duration": 0.588658,
     "end_time": "2020-12-04T10:04:46.417389",
     "exception": false,
     "start_time": "2020-12-04T10:04:45.828731",
     "status": "completed"
    },
    "tags": []
   },
   "outputs": [],
   "source": [
    "%load_ext autoreload\n",
    "%autoreload 2\n",
    "\n",
    "%matplotlib inline\n",
    "import matplotlib.pyplot as plt\n",
    "\n",
    "import numpy as np\n",
    "import pandas as pd"
   ]
  },
  {
   "cell_type": "markdown",
   "metadata": {
    "papermill": {
     "duration": 0.025605,
     "end_time": "2020-12-04T10:04:46.469175",
     "exception": false,
     "start_time": "2020-12-04T10:04:46.443570",
     "status": "completed"
    },
    "tags": []
   },
   "source": [
    "### Preparing the Data"
   ]
  },
  {
   "cell_type": "code",
   "execution_count": 3,
   "metadata": {
    "execution": {
     "iopub.execute_input": "2020-12-04T10:04:46.523699Z",
     "iopub.status.busy": "2020-12-04T10:04:46.523105Z",
     "iopub.status.idle": "2020-12-04T10:04:46.537974Z",
     "shell.execute_reply": "2020-12-04T10:04:46.538418Z"
    },
    "papermill": {
     "duration": 0.044671,
     "end_time": "2020-12-04T10:04:46.538555",
     "exception": false,
     "start_time": "2020-12-04T10:04:46.493884",
     "status": "completed"
    },
    "tags": []
   },
   "outputs": [],
   "source": [
    "import mnist"
   ]
  },
  {
   "cell_type": "code",
   "execution_count": 4,
   "metadata": {
    "execution": {
     "iopub.execute_input": "2020-12-04T10:04:46.593099Z",
     "iopub.status.busy": "2020-12-04T10:04:46.592556Z",
     "iopub.status.idle": "2020-12-04T10:04:47.348851Z",
     "shell.execute_reply": "2020-12-04T10:04:47.347892Z"
    },
    "papermill": {
     "duration": 0.784998,
     "end_time": "2020-12-04T10:04:47.349064",
     "exception": false,
     "start_time": "2020-12-04T10:04:46.564066",
     "status": "completed"
    },
    "tags": []
   },
   "outputs": [],
   "source": [
    "train_images = mnist.train_images()\n",
    "train_labels = mnist.train_labels()"
   ]
  },
  {
   "cell_type": "code",
   "execution_count": 5,
   "metadata": {
    "execution": {
     "iopub.execute_input": "2020-12-04T10:04:47.405903Z",
     "iopub.status.busy": "2020-12-04T10:04:47.405423Z",
     "iopub.status.idle": "2020-12-04T10:04:47.423197Z",
     "shell.execute_reply": "2020-12-04T10:04:47.422695Z"
    },
    "papermill": {
     "duration": 0.047284,
     "end_time": "2020-12-04T10:04:47.423316",
     "exception": false,
     "start_time": "2020-12-04T10:04:47.376032",
     "status": "completed"
    },
    "tags": []
   },
   "outputs": [
    {
     "data": {
      "text/plain": [
       "((60000, 28, 28), (60000,))"
      ]
     },
     "execution_count": 5,
     "metadata": {},
     "output_type": "execute_result"
    }
   ],
   "source": [
    "train_images.shape, train_labels.shape"
   ]
  },
  {
   "cell_type": "code",
   "execution_count": 6,
   "metadata": {
    "execution": {
     "iopub.execute_input": "2020-12-04T10:04:47.480009Z",
     "iopub.status.busy": "2020-12-04T10:04:47.479407Z",
     "iopub.status.idle": "2020-12-04T10:04:47.744560Z",
     "shell.execute_reply": "2020-12-04T10:04:47.742720Z"
    },
    "papermill": {
     "duration": 0.29718,
     "end_time": "2020-12-04T10:04:47.744787",
     "exception": false,
     "start_time": "2020-12-04T10:04:47.447607",
     "status": "completed"
    },
    "tags": []
   },
   "outputs": [],
   "source": [
    "test_images = mnist.test_images()\n",
    "test_labels = mnist.test_labels()"
   ]
  },
  {
   "cell_type": "code",
   "execution_count": 7,
   "metadata": {
    "execution": {
     "iopub.execute_input": "2020-12-04T10:04:47.801427Z",
     "iopub.status.busy": "2020-12-04T10:04:47.800383Z",
     "iopub.status.idle": "2020-12-04T10:04:47.813308Z",
     "shell.execute_reply": "2020-12-04T10:04:47.812823Z"
    },
    "papermill": {
     "duration": 0.041992,
     "end_time": "2020-12-04T10:04:47.813439",
     "exception": false,
     "start_time": "2020-12-04T10:04:47.771447",
     "status": "completed"
    },
    "tags": []
   },
   "outputs": [
    {
     "data": {
      "text/plain": [
       "((10000, 28, 28), (10000,))"
      ]
     },
     "execution_count": 7,
     "metadata": {},
     "output_type": "execute_result"
    }
   ],
   "source": [
    "test_images.shape, test_labels.shape"
   ]
  },
  {
   "cell_type": "code",
   "execution_count": 8,
   "metadata": {
    "execution": {
     "iopub.execute_input": "2020-12-04T10:04:47.869421Z",
     "iopub.status.busy": "2020-12-04T10:04:47.868490Z",
     "iopub.status.idle": "2020-12-04T10:04:48.019302Z",
     "shell.execute_reply": "2020-12-04T10:04:48.018710Z"
    },
    "papermill": {
     "duration": 0.181319,
     "end_time": "2020-12-04T10:04:48.019439",
     "exception": false,
     "start_time": "2020-12-04T10:04:47.838120",
     "status": "completed"
    },
    "tags": []
   },
   "outputs": [
    {
     "name": "stdout",
     "output_type": "stream",
     "text": [
      "2\n"
     ]
    },
    {
     "data": {
      "text/plain": [
       "<matplotlib.image.AxesImage at 0x7fb99dd82080>"
      ]
     },
     "execution_count": 8,
     "metadata": {},
     "output_type": "execute_result"
    },
    {
     "data": {
      "image/png": "[encoded data removed]",
      "text/plain": [
       "<Figure size 432x288 with 1 Axes>"
      ]
     },
     "metadata": {
      "needs_background": "light"
     },
     "output_type": "display_data"
    }
   ],
   "source": [
    "image_index = 7776 # You may select anything up to 60,000\n",
    "print(train_labels[image_index]) \n",
    "plt.imshow(train_images[image_index], cmap='Greys')"
   ]
  },
  {
   "cell_type": "markdown",
   "metadata": {
    "papermill": {
     "duration": 0.027262,
     "end_time": "2020-12-04T10:04:48.074243",
     "exception": false,
     "start_time": "2020-12-04T10:04:48.046981",
     "status": "completed"
    },
    "tags": []
   },
   "source": [
    "## Filter data to get 3 and 8 out"
   ]
  },
  {
   "cell_type": "code",
   "execution_count": 9,
   "metadata": {
    "execution": {
     "iopub.execute_input": "2020-12-04T10:04:48.135224Z",
     "iopub.status.busy": "2020-12-04T10:04:48.134624Z",
     "iopub.status.idle": "2020-12-04T10:04:48.150702Z",
     "shell.execute_reply": "2020-12-04T10:04:48.150185Z"
    },
    "papermill": {
     "duration": 0.049203,
     "end_time": "2020-12-04T10:04:48.150838",
     "exception": false,
     "start_time": "2020-12-04T10:04:48.101635",
     "status": "completed"
    },
    "tags": []
   },
   "outputs": [],
   "source": [
    "train_filter = np.where((train_labels == 3 ) | (train_labels == 8))\n",
    "test_filter = np.where((test_labels == 3) | (test_labels == 8))\n",
    "X_train, y_train = train_images[train_filter], train_labels[train_filter]\n",
    "X_test, y_test = test_images[test_filter], test_labels[test_filter]"
   ]
  },
  {
   "cell_type": "markdown",
   "metadata": {
    "papermill": {
     "duration": 0.027039,
     "end_time": "2020-12-04T10:04:48.204797",
     "exception": false,
     "start_time": "2020-12-04T10:04:48.177758",
     "status": "completed"
    },
    "tags": []
   },
   "source": [
    "We normalize the pixel values in the 0 to 1 range"
   ]
  },
  {
   "cell_type": "code",
   "execution_count": 10,
   "metadata": {
    "execution": {
     "iopub.execute_input": "2020-12-04T10:04:48.264072Z",
     "iopub.status.busy": "2020-12-04T10:04:48.263438Z",
     "iopub.status.idle": "2020-12-04T10:04:48.316456Z",
     "shell.execute_reply": "2020-12-04T10:04:48.315504Z"
    },
    "papermill": {
     "duration": 0.084969,
     "end_time": "2020-12-04T10:04:48.316677",
     "exception": false,
     "start_time": "2020-12-04T10:04:48.231708",
     "status": "completed"
    },
    "tags": []
   },
   "outputs": [],
   "source": [
    "X_train = X_train/255.\n",
    "X_test = X_test/255."
   ]
  },
  {
   "cell_type": "markdown",
   "metadata": {
    "papermill": {
     "duration": 0.028168,
     "end_time": "2020-12-04T10:04:48.375903",
     "exception": false,
     "start_time": "2020-12-04T10:04:48.347735",
     "status": "completed"
    },
    "tags": []
   },
   "source": [
    "Setup the labels as 1 (when the digit is 3) and 0 (when the digit is 8)"
   ]
  },
  {
   "cell_type": "code",
   "execution_count": 11,
   "metadata": {
    "execution": {
     "iopub.execute_input": "2020-12-04T10:04:48.436469Z",
     "iopub.status.busy": "2020-12-04T10:04:48.435840Z",
     "iopub.status.idle": "2020-12-04T10:04:48.448440Z",
     "shell.execute_reply": "2020-12-04T10:04:48.448863Z"
    },
    "papermill": {
     "duration": 0.045563,
     "end_time": "2020-12-04T10:04:48.449007",
     "exception": false,
     "start_time": "2020-12-04T10:04:48.403444",
     "status": "completed"
    },
    "tags": []
   },
   "outputs": [],
   "source": [
    "y_train = 1*(y_train==3)\n",
    "y_test = 1*(y_test==3)"
   ]
  },
  {
   "cell_type": "code",
   "execution_count": 12,
   "metadata": {
    "execution": {
     "iopub.execute_input": "2020-12-04T10:04:48.509596Z",
     "iopub.status.busy": "2020-12-04T10:04:48.508930Z",
     "iopub.status.idle": "2020-12-04T10:04:48.523212Z",
     "shell.execute_reply": "2020-12-04T10:04:48.522248Z"
    },
    "papermill": {
     "duration": 0.047078,
     "end_time": "2020-12-04T10:04:48.523349",
     "exception": false,
     "start_time": "2020-12-04T10:04:48.476271",
     "status": "completed"
    },
    "tags": []
   },
   "outputs": [
    {
     "data": {
      "text/plain": [
       "((11982, 28, 28), (1984, 28, 28))"
      ]
     },
     "execution_count": 12,
     "metadata": {},
     "output_type": "execute_result"
    }
   ],
   "source": [
    "X_train.shape, X_test.shape"
   ]
  },
  {
   "cell_type": "markdown",
   "metadata": {
    "papermill": {
     "duration": 0.026273,
     "end_time": "2020-12-04T10:04:48.576637",
     "exception": false,
     "start_time": "2020-12-04T10:04:48.550364",
     "status": "completed"
    },
    "tags": []
   },
   "source": [
    "### Reshape the input data to create a linear array"
   ]
  },
  {
   "cell_type": "code",
   "execution_count": 13,
   "metadata": {
    "execution": {
     "iopub.execute_input": "2020-12-04T10:04:48.633822Z",
     "iopub.status.busy": "2020-12-04T10:04:48.633168Z",
     "iopub.status.idle": "2020-12-04T10:04:48.648928Z",
     "shell.execute_reply": "2020-12-04T10:04:48.648463Z"
    },
    "papermill": {
     "duration": 0.047046,
     "end_time": "2020-12-04T10:04:48.649046",
     "exception": false,
     "start_time": "2020-12-04T10:04:48.602000",
     "status": "completed"
    },
    "tags": []
   },
   "outputs": [
    {
     "data": {
      "text/plain": [
       "((11982, 784), (1984, 784))"
      ]
     },
     "execution_count": 13,
     "metadata": {},
     "output_type": "execute_result"
    }
   ],
   "source": [
    "X_train = X_train.reshape(X_train.shape[0], -1)\n",
    "X_test = X_test.reshape(X_test.shape[0], -1)\n",
    "X_train.shape, X_test.shape"
   ]
  },
  {
   "cell_type": "markdown",
   "metadata": {
    "papermill": {
     "duration": 0.026068,
     "end_time": "2020-12-04T10:04:48.701773",
     "exception": false,
     "start_time": "2020-12-04T10:04:48.675705",
     "status": "completed"
    },
    "tags": []
   },
   "source": [
    "### Importing appropriate functions from 'Kudzu'"
   ]
  },
  {
   "cell_type": "code",
   "execution_count": 14,
   "metadata": {
    "execution": {
     "iopub.execute_input": "2020-12-04T10:04:48.760719Z",
     "iopub.status.busy": "2020-12-04T10:04:48.760237Z",
     "iopub.status.idle": "2020-12-04T10:04:48.779254Z",
     "shell.execute_reply": "2020-12-04T10:04:48.779747Z"
    },
    "papermill": {
     "duration": 0.052243,
     "end_time": "2020-12-04T10:04:48.779913",
     "exception": false,
     "start_time": "2020-12-04T10:04:48.727670",
     "status": "completed"
    },
    "tags": []
   },
   "outputs": [],
   "source": [
    "from kudzu.layer import Sigmoid\n",
    "from kudzu.layer import Relu\n",
    "from kudzu.layer import Affine, Sigmoid\n",
    "\n",
    "from kudzu.model import Model\n",
    "from kudzu.train import Learner\n",
    "from kudzu.optim import GD\n",
    "from kudzu.data import Data, Dataloader, Sampler\n",
    "\n",
    "from kudzu.callbacks import AccCallback\n",
    "from kudzu.callbacks import ClfCallback\n",
    "\n",
    "from kudzu.loss import MSE"
   ]
  },
  {
   "cell_type": "markdown",
   "metadata": {
    "papermill": {
     "duration": 0.027335,
     "end_time": "2020-12-04T10:04:48.834221",
     "exception": false,
     "start_time": "2020-12-04T10:04:48.806886",
     "status": "completed"
    },
    "tags": []
   },
   "source": [
    "### Let us create a `Config` class, to store important parameters. \n",
    "This class essentially plays the role of a dictionary."
   ]
  },
  {
   "cell_type": "code",
   "execution_count": 15,
   "metadata": {
    "execution": {
     "iopub.execute_input": "2020-12-04T10:04:48.896902Z",
     "iopub.status.busy": "2020-12-04T10:04:48.896290Z",
     "iopub.status.idle": "2020-12-04T10:04:48.910360Z",
     "shell.execute_reply": "2020-12-04T10:04:48.909964Z"
    },
    "papermill": {
     "duration": 0.048796,
     "end_time": "2020-12-04T10:04:48.910501",
     "exception": false,
     "start_time": "2020-12-04T10:04:48.861705",
     "status": "completed"
    },
    "tags": []
   },
   "outputs": [],
   "source": [
    "class Config:\n",
    "    pass\n",
    "config = Config()\n",
    "config.lr = 0.001\n",
    "config.num_epochs = 251\n",
    "config.bs = 50"
   ]
  },
  {
   "cell_type": "markdown",
   "metadata": {
    "papermill": {
     "duration": 0.39069,
     "end_time": "2020-12-04T10:04:49.329930",
     "exception": false,
     "start_time": "2020-12-04T10:04:48.939240",
     "status": "completed"
    },
    "tags": []
   },
   "source": [
    "### Initializing data to the variables"
   ]
  },
  {
   "cell_type": "code",
   "execution_count": 16,
   "metadata": {
    "execution": {
     "iopub.execute_input": "2020-12-04T10:04:49.409655Z",
     "iopub.status.busy": "2020-12-04T10:04:49.409042Z",
     "iopub.status.idle": "2020-12-04T10:04:49.421449Z",
     "shell.execute_reply": "2020-12-04T10:04:49.421007Z"
    },
    "papermill": {
     "duration": 0.04495,
     "end_time": "2020-12-04T10:04:49.421582",
     "exception": false,
     "start_time": "2020-12-04T10:04:49.376632",
     "status": "completed"
    },
    "tags": []
   },
   "outputs": [],
   "source": [
    "data = Data(X_train, y_train.reshape(-1,1))\n",
    "sampler = Sampler(data, config.bs, shuffle=True)\n",
    "\n",
    "dl = Dataloader(data, sampler)\n",
    "\n",
    "opt = GD(config.lr)\n",
    "loss = MSE()"
   ]
  },
  {
   "cell_type": "code",
   "execution_count": 17,
   "metadata": {
    "execution": {
     "iopub.execute_input": "2020-12-04T10:04:49.479125Z",
     "iopub.status.busy": "2020-12-04T10:04:49.478580Z",
     "iopub.status.idle": "2020-12-04T10:04:49.490906Z",
     "shell.execute_reply": "2020-12-04T10:04:49.491292Z"
    },
    "papermill": {
     "duration": 0.043257,
     "end_time": "2020-12-04T10:04:49.491415",
     "exception": false,
     "start_time": "2020-12-04T10:04:49.448158",
     "status": "completed"
    },
    "tags": []
   },
   "outputs": [],
   "source": [
    "training_xdata = X_train\n",
    "testing_xdata = X_test\n",
    "training_ydata = y_train.reshape(-1,1)\n",
    "testing_ydata = y_test.reshape(-1,1)"
   ]
  },
  {
   "cell_type": "markdown",
   "metadata": {
    "papermill": {
     "duration": 0.026742,
     "end_time": "2020-12-04T10:04:49.544265",
     "exception": false,
     "start_time": "2020-12-04T10:04:49.517523",
     "status": "completed"
    },
    "tags": []
   },
   "source": [
    "### Running Models with the Training data\n",
    "Details about the network layers:\n",
    "- A first affine layer has 784 inputs and does 100 affine transforms. These are followed by a Relu\n",
    "- A second affine layer has 100 inputs from the 100 activations of the past layer, and does 100 affine transforms. These are followed by a Relu\n",
    "- A third affine layer has 100 activations and does 2 affine transformations to create an embedding for visualization. There is no non-linearity here.\n",
    "- A final \"logistic regression\" which has an affine transform from 2 inputs to 1 output, which is squeezed through a sigmoid.\n",
    "\n",
    "Help taken from Anshuman's Notebook."
   ]
  },
  {
   "cell_type": "code",
   "execution_count": 18,
   "metadata": {
    "execution": {
     "iopub.execute_input": "2020-12-04T10:04:49.601979Z",
     "iopub.status.busy": "2020-12-04T10:04:49.601452Z",
     "iopub.status.idle": "2020-12-04T10:04:49.617351Z",
     "shell.execute_reply": "2020-12-04T10:04:49.617791Z"
    },
    "papermill": {
     "duration": 0.047033,
     "end_time": "2020-12-04T10:04:49.617927",
     "exception": false,
     "start_time": "2020-12-04T10:04:49.570894",
     "status": "completed"
    },
    "tags": []
   },
   "outputs": [],
   "source": [
    "# layers for the Neural Network\n",
    "layers = [Affine(\"first\", 784, 100), Relu(\"first\"), Affine(\"second\", 100, 100), Relu(\"second\"), Affine(\"third\", 100, 2), Affine(\"final\", 2, 1), Sigmoid(\"final\")]\n",
    "model_nn = Model(layers)\n",
    "\n",
    "# layers for the Logistic Regression\n",
    "layers_lr = [Affine(\"logits\", 784, 1), Sigmoid(\"sigmoid\")]\n",
    "model_lr = Model(layers_lr)"
   ]
  },
  {
   "cell_type": "code",
   "execution_count": 19,
   "metadata": {
    "execution": {
     "iopub.execute_input": "2020-12-04T10:04:49.672891Z",
     "iopub.status.busy": "2020-12-04T10:04:49.672298Z",
     "iopub.status.idle": "2020-12-04T10:04:49.684083Z",
     "shell.execute_reply": "2020-12-04T10:04:49.684595Z"
    },
    "papermill": {
     "duration": 0.042035,
     "end_time": "2020-12-04T10:04:49.684726",
     "exception": false,
     "start_time": "2020-12-04T10:04:49.642691",
     "status": "completed"
    },
    "tags": []
   },
   "outputs": [],
   "source": [
    "# suffix _nn stands for Neural Network.\n",
    "learner_nn = Learner(loss, model_nn, opt, config.num_epochs)\n",
    "acc_nn = ClfCallback(learner_nn, config.bs, training_xdata , testing_xdata, training_ydata, testing_ydata)\n",
    "learner_nn.set_callbacks([acc_nn])"
   ]
  },
  {
   "cell_type": "code",
   "execution_count": 20,
   "metadata": {
    "execution": {
     "iopub.execute_input": "2020-12-04T10:04:49.746254Z",
     "iopub.status.busy": "2020-12-04T10:04:49.745733Z",
     "iopub.status.idle": "2020-12-04T10:06:13.718865Z",
     "shell.execute_reply": "2020-12-04T10:06:13.718353Z"
    },
    "papermill": {
     "duration": 84.008489,
     "end_time": "2020-12-04T10:06:13.719001",
     "exception": false,
     "start_time": "2020-12-04T10:04:49.710512",
     "status": "completed"
    },
    "tags": []
   },
   "outputs": [
    {
     "name": "stdout",
     "output_type": "stream",
     "text": [
      "====== Neural Network ======\n"
     ]
    },
    {
     "name": "stdout",
     "output_type": "stream",
     "text": [
      "Epoch 0, Loss 0.2273\n",
      "Training Accuracy: 0.7475, Testing Accuracy: 0.7560\n",
      "\n"
     ]
    },
    {
     "name": "stdout",
     "output_type": "stream",
     "text": [
      "Epoch 10, Loss 0.0791\n",
      "Training Accuracy: 0.9254, Testing Accuracy: 0.9330\n",
      "\n"
     ]
    },
    {
     "name": "stdout",
     "output_type": "stream",
     "text": [
      "Epoch 20, Loss 0.0519\n",
      "Training Accuracy: 0.9470, Testing Accuracy: 0.9526\n",
      "\n"
     ]
    },
    {
     "name": "stdout",
     "output_type": "stream",
     "text": [
      "Epoch 30, Loss 0.0422\n",
      "Training Accuracy: 0.9550, Testing Accuracy: 0.9582\n",
      "\n"
     ]
    },
    {
     "name": "stdout",
     "output_type": "stream",
     "text": [
      "Epoch 40, Loss 0.0371\n",
      "Training Accuracy: 0.9599, Testing Accuracy: 0.9617\n",
      "\n"
     ]
    },
    {
     "name": "stdout",
     "output_type": "stream",
     "text": [
      "Epoch 50, Loss 0.034\n",
      "Training Accuracy: 0.9620, Testing Accuracy: 0.9632\n",
      "\n"
     ]
    },
    {
     "name": "stdout",
     "output_type": "stream",
     "text": [
      "Epoch 60, Loss 0.0317\n",
      "Training Accuracy: 0.9633, Testing Accuracy: 0.9652\n",
      "\n"
     ]
    },
    {
     "name": "stdout",
     "output_type": "stream",
     "text": [
      "Epoch 70, Loss 0.03\n",
      "Training Accuracy: 0.9659, Testing Accuracy: 0.9688\n",
      "\n"
     ]
    },
    {
     "name": "stdout",
     "output_type": "stream",
     "text": [
      "Epoch 80, Loss 0.0287\n",
      "Training Accuracy: 0.9675, Testing Accuracy: 0.9703\n",
      "\n"
     ]
    },
    {
     "name": "stdout",
     "output_type": "stream",
     "text": [
      "Epoch 90, Loss 0.0275\n",
      "Training Accuracy: 0.9687, Testing Accuracy: 0.9703\n",
      "\n"
     ]
    },
    {
     "name": "stdout",
     "output_type": "stream",
     "text": [
      "Epoch 100, Loss 0.0266\n",
      "Training Accuracy: 0.9694, Testing Accuracy: 0.9698\n",
      "\n"
     ]
    },
    {
     "name": "stdout",
     "output_type": "stream",
     "text": [
      "Epoch 110, Loss 0.0257\n",
      "Training Accuracy: 0.9697, Testing Accuracy: 0.9698\n",
      "\n"
     ]
    },
    {
     "name": "stdout",
     "output_type": "stream",
     "text": [
      "Epoch 120, Loss 0.025\n",
      "Training Accuracy: 0.9710, Testing Accuracy: 0.9703\n",
      "\n"
     ]
    },
    {
     "name": "stdout",
     "output_type": "stream",
     "text": [
      "Epoch 130, Loss 0.0243\n",
      "Training Accuracy: 0.9715, Testing Accuracy: 0.9703\n",
      "\n"
     ]
    },
    {
     "name": "stdout",
     "output_type": "stream",
     "text": [
      "Epoch 140, Loss 0.0237\n",
      "Training Accuracy: 0.9725, Testing Accuracy: 0.9698\n",
      "\n"
     ]
    },
    {
     "name": "stdout",
     "output_type": "stream",
     "text": [
      "Epoch 150, Loss 0.0231\n",
      "Training Accuracy: 0.9728, Testing Accuracy: 0.9703\n",
      "\n"
     ]
    },
    {
     "name": "stdout",
     "output_type": "stream",
     "text": [
      "Epoch 160, Loss 0.0226\n",
      "Training Accuracy: 0.9735, Testing Accuracy: 0.9713\n",
      "\n"
     ]
    },
    {
     "name": "stdout",
     "output_type": "stream",
     "text": [
      "Epoch 170, Loss 0.0221\n",
      "Training Accuracy: 0.9743, Testing Accuracy: 0.9713\n",
      "\n"
     ]
    },
    {
     "name": "stdout",
     "output_type": "stream",
     "text": [
      "Epoch 180, Loss 0.0217\n",
      "Training Accuracy: 0.9749, Testing Accuracy: 0.9713\n",
      "\n"
     ]
    },
    {
     "name": "stdout",
     "output_type": "stream",
     "text": [
      "Epoch 190, Loss 0.0212\n",
      "Training Accuracy: 0.9755, Testing Accuracy: 0.9713\n",
      "\n"
     ]
    },
    {
     "name": "stdout",
     "output_type": "stream",
     "text": [
      "Epoch 200, Loss 0.0208\n",
      "Training Accuracy: 0.9763, Testing Accuracy: 0.9713\n",
      "\n"
     ]
    },
    {
     "name": "stdout",
     "output_type": "stream",
     "text": [
      "Epoch 210, Loss 0.0204\n",
      "Training Accuracy: 0.9771, Testing Accuracy: 0.9718\n",
      "\n"
     ]
    },
    {
     "name": "stdout",
     "output_type": "stream",
     "text": [
      "Epoch 220, Loss 0.0201\n",
      "Training Accuracy: 0.9777, Testing Accuracy: 0.9723\n",
      "\n"
     ]
    },
    {
     "name": "stdout",
     "output_type": "stream",
     "text": [
      "Epoch 230, Loss 0.0197\n",
      "Training Accuracy: 0.9782, Testing Accuracy: 0.9733\n",
      "\n"
     ]
    },
    {
     "name": "stdout",
     "output_type": "stream",
     "text": [
      "Epoch 240, Loss 0.0194\n",
      "Training Accuracy: 0.9789, Testing Accuracy: 0.9733\n",
      "\n"
     ]
    },
    {
     "name": "stdout",
     "output_type": "stream",
     "text": [
      "Epoch 250, Loss 0.019\n",
      "Training Accuracy: 0.9794, Testing Accuracy: 0.9738\n",
      "\n"
     ]
    },
    {
     "data": {
      "text/plain": [
       "0.0023117431378759977"
      ]
     },
     "execution_count": 20,
     "metadata": {},
     "output_type": "execute_result"
    }
   ],
   "source": [
    "print(\"====== Neural Network ======\")\n",
    "learner_nn.train_loop(dl)"
   ]
  },
  {
   "cell_type": "markdown",
   "metadata": {
    "papermill": {
     "duration": 0.035642,
     "end_time": "2020-12-04T10:06:13.791377",
     "exception": false,
     "start_time": "2020-12-04T10:06:13.755735",
     "status": "completed"
    },
    "tags": []
   },
   "source": [
    "### Logistic Regression based Implementation."
   ]
  },
  {
   "cell_type": "code",
   "execution_count": 21,
   "metadata": {
    "execution": {
     "iopub.execute_input": "2020-12-04T10:06:13.869384Z",
     "iopub.status.busy": "2020-12-04T10:06:13.868777Z",
     "iopub.status.idle": "2020-12-04T10:06:13.879219Z",
     "shell.execute_reply": "2020-12-04T10:06:13.878710Z"
    },
    "papermill": {
     "duration": 0.053691,
     "end_time": "2020-12-04T10:06:13.879348",
     "exception": false,
     "start_time": "2020-12-04T10:06:13.825657",
     "status": "completed"
    },
    "tags": []
   },
   "outputs": [],
   "source": [
    "learner_lr = Learner(loss, model_lr, opt, config.num_epochs)\n",
    "acc_lr = ClfCallback(learner_lr, config.bs, training_xdata , testing_xdata, training_ydata, testing_ydata)\n",
    "learner_lr.set_callbacks([acc_lr])"
   ]
  },
  {
   "cell_type": "code",
   "execution_count": 22,
   "metadata": {
    "execution": {
     "iopub.execute_input": "2020-12-04T10:06:13.957147Z",
     "iopub.status.busy": "2020-12-04T10:06:13.954333Z",
     "iopub.status.idle": "2020-12-04T10:06:28.657790Z",
     "shell.execute_reply": "2020-12-04T10:06:28.657274Z"
    },
    "papermill": {
     "duration": 14.743554,
     "end_time": "2020-12-04T10:06:28.657916",
     "exception": false,
     "start_time": "2020-12-04T10:06:13.914362",
     "status": "completed"
    },
    "tags": []
   },
   "outputs": [
    {
     "name": "stdout",
     "output_type": "stream",
     "text": [
      "====== Logistic Regression ======\n",
      "Epoch 0, Loss 0.2686\n",
      "Training Accuracy: 0.6020, Testing Accuracy: 0.6154\n",
      "\n"
     ]
    },
    {
     "name": "stdout",
     "output_type": "stream",
     "text": [
      "Epoch 10, Loss 0.1011\n",
      "Training Accuracy: 0.9151, Testing Accuracy: 0.9284\n",
      "\n"
     ]
    },
    {
     "name": "stdout",
     "output_type": "stream",
     "text": [
      "Epoch 20, Loss 0.0778\n",
      "Training Accuracy: 0.9289, Testing Accuracy: 0.9425\n",
      "\n"
     ]
    },
    {
     "name": "stdout",
     "output_type": "stream",
     "text": [
      "Epoch 30, Loss 0.0673\n",
      "Training Accuracy: 0.9369, Testing Accuracy: 0.9476\n",
      "\n"
     ]
    },
    {
     "name": "stdout",
     "output_type": "stream",
     "text": [
      "Epoch 40, Loss 0.061\n",
      "Training Accuracy: 0.9414, Testing Accuracy: 0.9501\n",
      "\n"
     ]
    },
    {
     "name": "stdout",
     "output_type": "stream",
     "text": [
      "Epoch 50, Loss 0.0566\n",
      "Training Accuracy: 0.9440, Testing Accuracy: 0.9541\n",
      "\n"
     ]
    },
    {
     "name": "stdout",
     "output_type": "stream",
     "text": [
      "Epoch 60, Loss 0.0535\n",
      "Training Accuracy: 0.9471, Testing Accuracy: 0.9572\n",
      "\n"
     ]
    },
    {
     "name": "stdout",
     "output_type": "stream",
     "text": [
      "Epoch 70, Loss 0.051\n",
      "Training Accuracy: 0.9492, Testing Accuracy: 0.9572\n",
      "\n"
     ]
    },
    {
     "name": "stdout",
     "output_type": "stream",
     "text": [
      "Epoch 80, Loss 0.049\n",
      "Training Accuracy: 0.9510, Testing Accuracy: 0.9592\n",
      "\n"
     ]
    },
    {
     "name": "stdout",
     "output_type": "stream",
     "text": [
      "Epoch 90, Loss 0.0473\n",
      "Training Accuracy: 0.9529, Testing Accuracy: 0.9587\n",
      "\n"
     ]
    },
    {
     "name": "stdout",
     "output_type": "stream",
     "text": [
      "Epoch 100, Loss 0.0459\n",
      "Training Accuracy: 0.9541, Testing Accuracy: 0.9607\n",
      "\n"
     ]
    },
    {
     "name": "stdout",
     "output_type": "stream",
     "text": [
      "Epoch 110, Loss 0.0447\n",
      "Training Accuracy: 0.9552, Testing Accuracy: 0.9617\n",
      "\n"
     ]
    },
    {
     "name": "stdout",
     "output_type": "stream",
     "text": [
      "Epoch 120, Loss 0.0437\n",
      "Training Accuracy: 0.9559, Testing Accuracy: 0.9622\n",
      "\n"
     ]
    },
    {
     "name": "stdout",
     "output_type": "stream",
     "text": [
      "Epoch 130, Loss 0.0427\n",
      "Training Accuracy: 0.9570, Testing Accuracy: 0.9632\n",
      "\n"
     ]
    },
    {
     "name": "stdout",
     "output_type": "stream",
     "text": [
      "Epoch 140, Loss 0.0419\n",
      "Training Accuracy: 0.9574, Testing Accuracy: 0.9642\n",
      "\n"
     ]
    },
    {
     "name": "stdout",
     "output_type": "stream",
     "text": [
      "Epoch 150, Loss 0.0412\n",
      "Training Accuracy: 0.9579, Testing Accuracy: 0.9642\n",
      "\n"
     ]
    },
    {
     "name": "stdout",
     "output_type": "stream",
     "text": [
      "Epoch 160, Loss 0.0405\n",
      "Training Accuracy: 0.9584, Testing Accuracy: 0.9647\n",
      "\n"
     ]
    },
    {
     "name": "stdout",
     "output_type": "stream",
     "text": [
      "Epoch 170, Loss 0.0399\n",
      "Training Accuracy: 0.9589, Testing Accuracy: 0.9637\n",
      "\n"
     ]
    },
    {
     "name": "stdout",
     "output_type": "stream",
     "text": [
      "Epoch 180, Loss 0.0393\n",
      "Training Accuracy: 0.9597, Testing Accuracy: 0.9637\n",
      "\n"
     ]
    },
    {
     "name": "stdout",
     "output_type": "stream",
     "text": [
      "Epoch 190, Loss 0.0388\n",
      "Training Accuracy: 0.9601, Testing Accuracy: 0.9642\n",
      "\n"
     ]
    },
    {
     "name": "stdout",
     "output_type": "stream",
     "text": [
      "Epoch 200, Loss 0.0383\n",
      "Training Accuracy: 0.9601, Testing Accuracy: 0.9647\n",
      "\n"
     ]
    },
    {
     "name": "stdout",
     "output_type": "stream",
     "text": [
      "Epoch 210, Loss 0.0379\n",
      "Training Accuracy: 0.9606, Testing Accuracy: 0.9647\n",
      "\n"
     ]
    },
    {
     "name": "stdout",
     "output_type": "stream",
     "text": [
      "Epoch 220, Loss 0.0375\n",
      "Training Accuracy: 0.9610, Testing Accuracy: 0.9647\n",
      "\n"
     ]
    },
    {
     "name": "stdout",
     "output_type": "stream",
     "text": [
      "Epoch 230, Loss 0.0371\n",
      "Training Accuracy: 0.9615, Testing Accuracy: 0.9647\n",
      "\n"
     ]
    },
    {
     "name": "stdout",
     "output_type": "stream",
     "text": [
      "Epoch 240, Loss 0.0367\n",
      "Training Accuracy: 0.9619, Testing Accuracy: 0.9647\n",
      "\n"
     ]
    },
    {
     "name": "stdout",
     "output_type": "stream",
     "text": [
      "Epoch 250, Loss 0.0364\n",
      "Training Accuracy: 0.9620, Testing Accuracy: 0.9647\n",
      "\n"
     ]
    },
    {
     "data": {
      "text/plain": [
       "0.06439633407727266"
      ]
     },
     "execution_count": 22,
     "metadata": {},
     "output_type": "execute_result"
    }
   ],
   "source": [
    "print(\"====== Logistic Regression ======\")\n",
    "learner_lr.train_loop(dl)"
   ]
  },
  {
   "cell_type": "markdown",
   "metadata": {
    "papermill": {
     "duration": 0.041093,
     "end_time": "2020-12-04T10:06:28.740346",
     "exception": false,
     "start_time": "2020-12-04T10:06:28.699253",
     "status": "completed"
    },
    "tags": []
   },
   "source": [
    "### Comparing results of NN and LR"
   ]
  },
  {
   "cell_type": "code",
   "execution_count": 23,
   "metadata": {
    "execution": {
     "iopub.execute_input": "2020-12-04T10:06:28.832414Z",
     "iopub.status.busy": "2020-12-04T10:06:28.831787Z",
     "iopub.status.idle": "2020-12-04T10:06:29.065464Z",
     "shell.execute_reply": "2020-12-04T10:06:29.065945Z"
    },
    "papermill": {
     "duration": 0.284351,
     "end_time": "2020-12-04T10:06:29.066099",
     "exception": false,
     "start_time": "2020-12-04T10:06:28.781748",
     "status": "completed"
    },
    "tags": []
   },
   "outputs": [
    {
     "data": {
      "text/plain": [
       "<matplotlib.legend.Legend at 0x7fb9965c89e8>"
      ]
     },
     "execution_count": 23,
     "metadata": {},
     "output_type": "execute_result"
    },
    {
     "data": {
      "image/png": "[encoded data removed]",
      "text/plain": [
       "<Figure size 1080x720 with 1 Axes>"
      ]
     },
     "metadata": {
      "needs_background": "light"
     },
     "output_type": "display_data"
    }
   ],
   "source": [
    "plt.figure(figsize=(15,10))\n",
    "\n",
    "# Neural Network plots\n",
    "plt.plot(acc_nn.accuracies, 'r-', label = \"Training Accuracies - NN\")\n",
    "plt.plot(acc_nn.test_accuracies, 'g-', label = \"Testing Accuracies - NN\")\n",
    "\n",
    "# Logistic Regression plots\n",
    "plt.plot(acc_lr.accuracies, 'k-', label = \"Training Accuracies - LR\")\n",
    "plt.plot(acc_lr.test_accuracies, 'b-', label = \"Testing Accuracies - LR\")\n",
    "\n",
    "plt.ylim(0.8, 1)\n",
    "\n",
    "plt.legend()\n",
    "\n"
   ]
  },
  {
   "cell_type": "markdown",
   "metadata": {
    "papermill": {
     "duration": 0.045432,
     "end_time": "2020-12-04T10:06:29.156563",
     "exception": false,
     "start_time": "2020-12-04T10:06:29.111131",
     "status": "completed"
    },
    "tags": []
   },
   "source": [
    "### From the plot, we can observe the following:\n",
    "- Neural Network achieves higher accuracy than the Logistic Regression model.\n",
    "- This apparently, is because of overfitting, i.e. NN captures more noise than data.\n",
    "- Testing accuracy of NN drops below the Training accuracy at higher epochs. This explains the over-fitting on training data.\n",
    "- Logistic Regression gives a reliable accuracy, without the above mentioned problem.\n"
   ]
  },
  {
   "cell_type": "markdown",
   "metadata": {
    "papermill": {
     "duration": 0.044217,
     "end_time": "2020-12-04T10:06:29.246533",
     "exception": false,
     "start_time": "2020-12-04T10:06:29.202316",
     "status": "completed"
    },
    "tags": []
   },
   "source": [
    "### Moving till the last but one layer (excluding it).\n",
    "#### Plotting the outputs of this layer of the NN."
   ]
  },
  {
   "cell_type": "code",
   "execution_count": 24,
   "metadata": {
    "execution": {
     "iopub.execute_input": "2020-12-04T10:06:29.347628Z",
     "iopub.status.busy": "2020-12-04T10:06:29.346853Z",
     "iopub.status.idle": "2020-12-04T10:06:29.358939Z",
     "shell.execute_reply": "2020-12-04T10:06:29.359712Z"
    },
    "papermill": {
     "duration": 0.067527,
     "end_time": "2020-12-04T10:06:29.359896",
     "exception": false,
     "start_time": "2020-12-04T10:06:29.292369",
     "status": "completed"
    },
    "tags": []
   },
   "outputs": [],
   "source": [
    "model_new = Model(layers[:-2])"
   ]
  },
  {
   "cell_type": "code",
   "execution_count": 25,
   "metadata": {
    "execution": {
     "iopub.execute_input": "2020-12-04T10:06:29.456168Z",
     "iopub.status.busy": "2020-12-04T10:06:29.455544Z",
     "iopub.status.idle": "2020-12-04T10:06:29.476845Z",
     "shell.execute_reply": "2020-12-04T10:06:29.477308Z"
    },
    "papermill": {
     "duration": 0.072017,
     "end_time": "2020-12-04T10:06:29.477458",
     "exception": false,
     "start_time": "2020-12-04T10:06:29.405441",
     "status": "completed"
    },
    "tags": []
   },
   "outputs": [],
   "source": [
    "plot_testing = model_new(testing_xdata)"
   ]
  },
  {
   "cell_type": "code",
   "execution_count": 26,
   "metadata": {
    "execution": {
     "iopub.execute_input": "2020-12-04T10:06:29.578238Z",
     "iopub.status.busy": "2020-12-04T10:06:29.575478Z",
     "iopub.status.idle": "2020-12-04T10:06:29.786566Z",
     "shell.execute_reply": "2020-12-04T10:06:29.786959Z"
    },
    "papermill": {
     "duration": 0.262561,
     "end_time": "2020-12-04T10:06:29.787092",
     "exception": false,
     "start_time": "2020-12-04T10:06:29.524531",
     "status": "completed"
    },
    "tags": []
   },
   "outputs": [
    {
     "data": {
      "text/plain": [
       "Text(0.5, 1.0, 'Outputs')"
      ]
     },
     "execution_count": 26,
     "metadata": {},
     "output_type": "execute_result"
    },
    {
     "data": {
      "image/png": "[encoded data removed]",
      "text/plain": [
       "<Figure size 576x504 with 1 Axes>"
      ]
     },
     "metadata": {
      "needs_background": "light"
     },
     "output_type": "display_data"
    }
   ],
   "source": [
    "plt.figure(figsize=(8,7))\n",
    "plt.scatter(plot_testing[:,0], plot_testing[:,1], alpha = 0.1, c = y_test.ravel());\n",
    "plt.title('Outputs')"
   ]
  },
  {
   "cell_type": "markdown",
   "metadata": {
    "papermill": {
     "duration": 0.046837,
     "end_time": "2020-12-04T10:06:29.879992",
     "exception": false,
     "start_time": "2020-12-04T10:06:29.833155",
     "status": "completed"
    },
    "tags": []
   },
   "source": [
    "### Plotting probability contours"
   ]
  },
  {
   "cell_type": "code",
   "execution_count": 27,
   "metadata": {
    "execution": {
     "iopub.execute_input": "2020-12-04T10:06:29.979268Z",
     "iopub.status.busy": "2020-12-04T10:06:29.978725Z",
     "iopub.status.idle": "2020-12-04T10:06:29.994461Z",
     "shell.execute_reply": "2020-12-04T10:06:29.994018Z"
    },
    "papermill": {
     "duration": 0.06757,
     "end_time": "2020-12-04T10:06:29.994583",
     "exception": false,
     "start_time": "2020-12-04T10:06:29.927013",
     "status": "completed"
    },
    "tags": []
   },
   "outputs": [],
   "source": [
    "model_prob = Model(layers[-2:]) "
   ]
  },
  {
   "cell_type": "code",
   "execution_count": 28,
   "metadata": {
    "execution": {
     "iopub.execute_input": "2020-12-04T10:06:30.094000Z",
     "iopub.status.busy": "2020-12-04T10:06:30.093394Z",
     "iopub.status.idle": "2020-12-04T10:06:30.107031Z",
     "shell.execute_reply": "2020-12-04T10:06:30.107458Z"
    },
    "papermill": {
     "duration": 0.068721,
     "end_time": "2020-12-04T10:06:30.107604",
     "exception": false,
     "start_time": "2020-12-04T10:06:30.038883",
     "status": "completed"
    },
    "tags": []
   },
   "outputs": [],
   "source": [
    "# Adjust the x and y ranges according to the above generated plot.\n",
    "x_range = np.linspace(-4, 1, 100) \n",
    "y_range = np.linspace(-6, 6, 100) \n",
    "x_grid, y_grid = np.meshgrid(x_range, y_range) # x_grid and y_grig are of size 100 X 100\n",
    "\n",
    "# converting x_grid and y_grid to continuous arrays\n",
    "x_grid_flat = np.ravel(x_grid)\n",
    "y_grid_flat = np.ravel(y_grid)\n",
    "\n",
    "# The last layer of the current model takes two columns as input. Hence transpose of np.vstack() is required.\n",
    "X = np.vstack((x_grid_flat, y_grid_flat)).T\n",
    "\n",
    "# x_grid and y_grid are of size 100 x 100\n",
    "probability_contour = model_prob(X).reshape(100,100) "
   ]
  },
  {
   "cell_type": "code",
   "execution_count": 29,
   "metadata": {
    "execution": {
     "iopub.execute_input": "2020-12-04T10:06:30.212454Z",
     "iopub.status.busy": "2020-12-04T10:06:30.208902Z",
     "iopub.status.idle": "2020-12-04T10:06:30.445486Z",
     "shell.execute_reply": "2020-12-04T10:06:30.445907Z"
    },
    "papermill": {
     "duration": 0.294303,
     "end_time": "2020-12-04T10:06:30.446057",
     "exception": false,
     "start_time": "2020-12-04T10:06:30.151754",
     "status": "completed"
    },
    "tags": []
   },
   "outputs": [
    {
     "data": {
      "image/png": "[encoded data removed]",
      "text/plain": [
       "<Figure size 720x648 with 1 Axes>"
      ]
     },
     "metadata": {
      "needs_background": "light"
     },
     "output_type": "display_data"
    }
   ],
   "source": [
    "plt.figure(figsize=(10,9))\n",
    "plt.scatter(plot_testing[:,0], plot_testing[:,1], alpha = 0.1, c = y_test.ravel())\n",
    "contours = plt.contour(x_grid,y_grid,probability_contour)\n",
    "plt.title('Probability Contours')\n",
    "plt.clabel(contours, inline = True );"
   ]
  }
 ],
 "metadata": {
  "kernelspec": {
   "display_name": "Python 3",
   "language": "python",
   "name": "python3"
  },
  "language_info": {
   "codemirror_mode": {
    "name": "ipython",
    "version": 3
   },
   "file_extension": ".py",
   "mimetype": "text/x-python",
   "name": "python",
   "nbconvert_exporter": "python",
   "pygments_lexer": "ipython3",
   "version": "3.6.12"
  },
  "papermill": {
   "duration": 107.807861,
   "end_time": "2020-12-04T10:06:30.899309",
   "environment_variables": {},
   "exception": null,
   "input_path": "2020-08-11-NeuralNetwork.ipynb",
   "output_path": "2020-08-11-NeuralNetwork.ipynb",
   "parameters": {},
   "start_time": "2020-12-04T10:04:43.091448",
   "version": "2.1.2"
  }
 },
 "nbformat": 4,
 "nbformat_minor": 4
}