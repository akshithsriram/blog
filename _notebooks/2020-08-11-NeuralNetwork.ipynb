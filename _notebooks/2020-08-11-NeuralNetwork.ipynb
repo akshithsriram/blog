{
 "cells": [
  {
   "cell_type": "markdown",
   "id": "fitted-suggestion",
   "metadata": {
    "papermill": {
     "duration": 0.029799,
     "end_time": "2021-02-11T00:06:26.785419",
     "exception": false,
     "start_time": "2021-02-11T00:06:26.755620",
     "status": "completed"
    },
    "tags": []
   },
   "source": [
    "# \"A Basic Neural Network: Differentiate Hand-Written Digits\"\n",
    "\n",
    "- badges: true\n",
    "- author: Akshith Sriram"
   ]
  },
  {
   "cell_type": "markdown",
   "id": "signal-flexibility",
   "metadata": {
    "papermill": {
     "duration": 0.02655,
     "end_time": "2021-02-11T00:06:26.837700",
     "exception": false,
     "start_time": "2021-02-11T00:06:26.811150",
     "status": "completed"
    },
    "tags": []
   },
   "source": [
    "### Key Objectives:\n",
    "- Building a neural network that differentiates two hand-written digits 3 and 8.\n",
    "- Comparing the results of this Neural Network (NN) to that of a Logistic Regression (LR) model.\n",
    "\n",
    "### Requirements:\n",
    "- 'Kudzu' : A neural network library that was designed during our course by [Univ.AI](www.univ.ai). \n",
    "- MNIST Database\n",
    "\n",
    "If MNIST is not installed, use the command `!pip install mnist` given below.\n",
    "It can be run both from the command line and Jupyter Notebook."
   ]
  },
  {
   "cell_type": "code",
   "execution_count": 1,
   "id": "british-texture",
   "metadata": {
    "execution": {
     "iopub.execute_input": "2021-02-11T00:06:26.897750Z",
     "iopub.status.busy": "2021-02-11T00:06:26.897208Z",
     "iopub.status.idle": "2021-02-11T00:06:28.323886Z",
     "shell.execute_reply": "2021-02-11T00:06:28.322553Z"
    },
    "papermill": {
     "duration": 1.461423,
     "end_time": "2021-02-11T00:06:28.324050",
     "exception": false,
     "start_time": "2021-02-11T00:06:26.862627",
     "status": "completed"
    },
    "tags": []
   },
   "outputs": [
    {
     "name": "stdout",
     "output_type": "stream",
     "text": [
      "Collecting mnist\r\n"
     ]
    },
    {
     "name": "stdout",
     "output_type": "stream",
     "text": [
      "  Downloading mnist-0.2.2-py2.py3-none-any.whl (3.5 kB)\r\n",
      "Requirement already satisfied: numpy in /opt/hostedtoolcache/Python/3.6.12/x64/lib/python3.6/site-packages (from mnist) (1.19.5)\r\n"
     ]
    },
    {
     "name": "stdout",
     "output_type": "stream",
     "text": [
      "Installing collected packages: mnist\r\n",
      "Successfully installed mnist-0.2.2\r\n"
     ]
    }
   ],
   "source": [
    "!pip install mnist "
   ]
  },
  {
   "cell_type": "markdown",
   "id": "stunning-extra",
   "metadata": {
    "papermill": {
     "duration": 0.025848,
     "end_time": "2021-02-11T00:06:28.377091",
     "exception": false,
     "start_time": "2021-02-11T00:06:28.351243",
     "status": "completed"
    },
    "tags": []
   },
   "source": [
    "#### Importing necessary libraries"
   ]
  },
  {
   "cell_type": "code",
   "execution_count": 2,
   "id": "wooden-france",
   "metadata": {
    "execution": {
     "iopub.execute_input": "2021-02-11T00:06:28.435938Z",
     "iopub.status.busy": "2021-02-11T00:06:28.435420Z",
     "iopub.status.idle": "2021-02-11T00:06:28.947888Z",
     "shell.execute_reply": "2021-02-11T00:06:28.947020Z"
    },
    "papermill": {
     "duration": 0.545331,
     "end_time": "2021-02-11T00:06:28.948035",
     "exception": false,
     "start_time": "2021-02-11T00:06:28.402704",
     "status": "completed"
    },
    "tags": []
   },
   "outputs": [],
   "source": [
    "%load_ext autoreload\n",
    "%autoreload 2\n",
    "\n",
    "%matplotlib inline\n",
    "import matplotlib.pyplot as plt\n",
    "\n",
    "import numpy as np\n",
    "import pandas as pd"
   ]
  },
  {
   "cell_type": "markdown",
   "id": "stunning-physics",
   "metadata": {
    "papermill": {
     "duration": 0.026386,
     "end_time": "2021-02-11T00:06:29.000966",
     "exception": false,
     "start_time": "2021-02-11T00:06:28.974580",
     "status": "completed"
    },
    "tags": []
   },
   "source": [
    "### Preparing the Data"
   ]
  },
  {
   "cell_type": "code",
   "execution_count": 3,
   "id": "unauthorized-remainder",
   "metadata": {
    "execution": {
     "iopub.execute_input": "2021-02-11T00:06:29.061192Z",
     "iopub.status.busy": "2021-02-11T00:06:29.060660Z",
     "iopub.status.idle": "2021-02-11T00:06:29.069831Z",
     "shell.execute_reply": "2021-02-11T00:06:29.070214Z"
    },
    "papermill": {
     "duration": 0.043555,
     "end_time": "2021-02-11T00:06:29.070354",
     "exception": false,
     "start_time": "2021-02-11T00:06:29.026799",
     "status": "completed"
    },
    "tags": []
   },
   "outputs": [],
   "source": [
    "import mnist"
   ]
  },
  {
   "cell_type": "code",
   "execution_count": 4,
   "id": "correct-antarctica",
   "metadata": {
    "execution": {
     "iopub.execute_input": "2021-02-11T00:06:29.141364Z",
     "iopub.status.busy": "2021-02-11T00:06:29.134450Z",
     "iopub.status.idle": "2021-02-11T00:06:29.890047Z",
     "shell.execute_reply": "2021-02-11T00:06:29.890553Z"
    },
    "papermill": {
     "duration": 0.794404,
     "end_time": "2021-02-11T00:06:29.890714",
     "exception": false,
     "start_time": "2021-02-11T00:06:29.096310",
     "status": "completed"
    },
    "tags": []
   },
   "outputs": [],
   "source": [
    "train_images = mnist.train_images()\n",
    "train_labels = mnist.train_labels()"
   ]
  },
  {
   "cell_type": "code",
   "execution_count": 5,
   "id": "musical-prospect",
   "metadata": {
    "execution": {
     "iopub.execute_input": "2021-02-11T00:06:29.957574Z",
     "iopub.status.busy": "2021-02-11T00:06:29.956671Z",
     "iopub.status.idle": "2021-02-11T00:06:29.964770Z",
     "shell.execute_reply": "2021-02-11T00:06:29.965182Z"
    },
    "papermill": {
     "duration": 0.048443,
     "end_time": "2021-02-11T00:06:29.965317",
     "exception": false,
     "start_time": "2021-02-11T00:06:29.916874",
     "status": "completed"
    },
    "tags": []
   },
   "outputs": [
    {
     "data": {
      "text/plain": [
       "((60000, 28, 28), (60000,))"
      ]
     },
     "execution_count": 5,
     "metadata": {},
     "output_type": "execute_result"
    }
   ],
   "source": [
    "train_images.shape, train_labels.shape"
   ]
  },
  {
   "cell_type": "code",
   "execution_count": 6,
   "id": "preliminary-elizabeth",
   "metadata": {
    "execution": {
     "iopub.execute_input": "2021-02-11T00:06:30.031702Z",
     "iopub.status.busy": "2021-02-11T00:06:30.026682Z",
     "iopub.status.idle": "2021-02-11T00:06:30.356437Z",
     "shell.execute_reply": "2021-02-11T00:06:30.355664Z"
    },
    "papermill": {
     "duration": 0.365441,
     "end_time": "2021-02-11T00:06:30.356593",
     "exception": false,
     "start_time": "2021-02-11T00:06:29.991152",
     "status": "completed"
    },
    "tags": []
   },
   "outputs": [],
   "source": [
    "test_images = mnist.test_images()\n",
    "test_labels = mnist.test_labels()"
   ]
  },
  {
   "cell_type": "code",
   "execution_count": 7,
   "id": "acknowledged-oxygen",
   "metadata": {
    "execution": {
     "iopub.execute_input": "2021-02-11T00:06:30.424081Z",
     "iopub.status.busy": "2021-02-11T00:06:30.418472Z",
     "iopub.status.idle": "2021-02-11T00:06:30.427088Z",
     "shell.execute_reply": "2021-02-11T00:06:30.426675Z"
    },
    "papermill": {
     "duration": 0.044359,
     "end_time": "2021-02-11T00:06:30.427210",
     "exception": false,
     "start_time": "2021-02-11T00:06:30.382851",
     "status": "completed"
    },
    "tags": []
   },
   "outputs": [
    {
     "data": {
      "text/plain": [
       "((10000, 28, 28), (10000,))"
      ]
     },
     "execution_count": 7,
     "metadata": {},
     "output_type": "execute_result"
    }
   ],
   "source": [
    "test_images.shape, test_labels.shape"
   ]
  },
  {
   "cell_type": "code",
   "execution_count": 8,
   "id": "innovative-organic",
   "metadata": {
    "execution": {
     "iopub.execute_input": "2021-02-11T00:06:30.486994Z",
     "iopub.status.busy": "2021-02-11T00:06:30.486476Z",
     "iopub.status.idle": "2021-02-11T00:06:30.613516Z",
     "shell.execute_reply": "2021-02-11T00:06:30.613987Z"
    },
    "papermill": {
     "duration": 0.160327,
     "end_time": "2021-02-11T00:06:30.614142",
     "exception": false,
     "start_time": "2021-02-11T00:06:30.453815",
     "status": "completed"
    },
    "tags": []
   },
   "outputs": [
    {
     "name": "stdout",
     "output_type": "stream",
     "text": [
      "2\n"
     ]
    },
    {
     "data": {
      "text/plain": [
       "<matplotlib.image.AxesImage at 0x7fe3e3366198>"
      ]
     },
     "execution_count": 8,
     "metadata": {},
     "output_type": "execute_result"
    },
    {
     "data": {
      "image/png": "[encoded data removed]",
      "text/plain": [
       "<Figure size 432x288 with 1 Axes>"
      ]
     },
     "metadata": {
      "needs_background": "light"
     },
     "output_type": "display_data"
    }
   ],
   "source": [
    "image_index = 7776 # You may select anything up to 60,000\n",
    "print(train_labels[image_index]) \n",
    "plt.imshow(train_images[image_index], cmap='Greys')"
   ]
  },
  {
   "cell_type": "markdown",
   "id": "facial-modem",
   "metadata": {
    "papermill": {
     "duration": 0.027343,
     "end_time": "2021-02-11T00:06:30.670032",
     "exception": false,
     "start_time": "2021-02-11T00:06:30.642689",
     "status": "completed"
    },
    "tags": []
   },
   "source": [
    "## Filter data to get 3 and 8 out"
   ]
  },
  {
   "cell_type": "code",
   "execution_count": 9,
   "id": "thousand-acquisition",
   "metadata": {
    "execution": {
     "iopub.execute_input": "2021-02-11T00:06:30.733886Z",
     "iopub.status.busy": "2021-02-11T00:06:30.733362Z",
     "iopub.status.idle": "2021-02-11T00:06:30.748852Z",
     "shell.execute_reply": "2021-02-11T00:06:30.748381Z"
    },
    "papermill": {
     "duration": 0.051712,
     "end_time": "2021-02-11T00:06:30.748969",
     "exception": false,
     "start_time": "2021-02-11T00:06:30.697257",
     "status": "completed"
    },
    "tags": []
   },
   "outputs": [],
   "source": [
    "train_filter = np.where((train_labels == 3 ) | (train_labels == 8))\n",
    "test_filter = np.where((test_labels == 3) | (test_labels == 8))\n",
    "X_train, y_train = train_images[train_filter], train_labels[train_filter]\n",
    "X_test, y_test = test_images[test_filter], test_labels[test_filter]"
   ]
  },
  {
   "cell_type": "markdown",
   "id": "ruled-access",
   "metadata": {
    "papermill": {
     "duration": 0.027465,
     "end_time": "2021-02-11T00:06:30.804146",
     "exception": false,
     "start_time": "2021-02-11T00:06:30.776681",
     "status": "completed"
    },
    "tags": []
   },
   "source": [
    "We normalize the pixel values in the 0 to 1 range"
   ]
  },
  {
   "cell_type": "code",
   "execution_count": 10,
   "id": "isolated-denver",
   "metadata": {
    "execution": {
     "iopub.execute_input": "2021-02-11T00:06:30.862699Z",
     "iopub.status.busy": "2021-02-11T00:06:30.862162Z",
     "iopub.status.idle": "2021-02-11T00:06:30.911645Z",
     "shell.execute_reply": "2021-02-11T00:06:30.911144Z"
    },
    "papermill": {
     "duration": 0.080278,
     "end_time": "2021-02-11T00:06:30.911786",
     "exception": false,
     "start_time": "2021-02-11T00:06:30.831508",
     "status": "completed"
    },
    "tags": []
   },
   "outputs": [],
   "source": [
    "X_train = X_train/255.\n",
    "X_test = X_test/255."
   ]
  },
  {
   "cell_type": "markdown",
   "id": "perfect-summary",
   "metadata": {
    "papermill": {
     "duration": 0.027455,
     "end_time": "2021-02-11T00:06:30.967871",
     "exception": false,
     "start_time": "2021-02-11T00:06:30.940416",
     "status": "completed"
    },
    "tags": []
   },
   "source": [
    "Setup the labels as 1 (when the digit is 3) and 0 (when the digit is 8)"
   ]
  },
  {
   "cell_type": "code",
   "execution_count": 11,
   "id": "personalized-growing",
   "metadata": {
    "execution": {
     "iopub.execute_input": "2021-02-11T00:06:31.030612Z",
     "iopub.status.busy": "2021-02-11T00:06:31.029986Z",
     "iopub.status.idle": "2021-02-11T00:06:31.040342Z",
     "shell.execute_reply": "2021-02-11T00:06:31.040757Z"
    },
    "papermill": {
     "duration": 0.045566,
     "end_time": "2021-02-11T00:06:31.040900",
     "exception": false,
     "start_time": "2021-02-11T00:06:30.995334",
     "status": "completed"
    },
    "tags": []
   },
   "outputs": [],
   "source": [
    "y_train = 1*(y_train==3)\n",
    "y_test = 1*(y_test==3)"
   ]
  },
  {
   "cell_type": "code",
   "execution_count": 12,
   "id": "considered-virgin",
   "metadata": {
    "execution": {
     "iopub.execute_input": "2021-02-11T00:06:31.106323Z",
     "iopub.status.busy": "2021-02-11T00:06:31.105495Z",
     "iopub.status.idle": "2021-02-11T00:06:31.115388Z",
     "shell.execute_reply": "2021-02-11T00:06:31.115770Z"
    },
    "papermill": {
     "duration": 0.046999,
     "end_time": "2021-02-11T00:06:31.115910",
     "exception": false,
     "start_time": "2021-02-11T00:06:31.068911",
     "status": "completed"
    },
    "tags": []
   },
   "outputs": [
    {
     "data": {
      "text/plain": [
       "((11982, 28, 28), (1984, 28, 28))"
      ]
     },
     "execution_count": 12,
     "metadata": {},
     "output_type": "execute_result"
    }
   ],
   "source": [
    "X_train.shape, X_test.shape"
   ]
  },
  {
   "cell_type": "markdown",
   "id": "civilian-mobile",
   "metadata": {
    "papermill": {
     "duration": 0.027648,
     "end_time": "2021-02-11T00:06:31.171150",
     "exception": false,
     "start_time": "2021-02-11T00:06:31.143502",
     "status": "completed"
    },
    "tags": []
   },
   "source": [
    "### Reshape the input data to create a linear array"
   ]
  },
  {
   "cell_type": "code",
   "execution_count": 13,
   "id": "colonial-adams",
   "metadata": {
    "execution": {
     "iopub.execute_input": "2021-02-11T00:06:31.246920Z",
     "iopub.status.busy": "2021-02-11T00:06:31.246116Z",
     "iopub.status.idle": "2021-02-11T00:06:31.251493Z",
     "shell.execute_reply": "2021-02-11T00:06:31.251901Z"
    },
    "papermill": {
     "duration": 0.053265,
     "end_time": "2021-02-11T00:06:31.252039",
     "exception": false,
     "start_time": "2021-02-11T00:06:31.198774",
     "status": "completed"
    },
    "tags": []
   },
   "outputs": [
    {
     "data": {
      "text/plain": [
       "((11982, 784), (1984, 784))"
      ]
     },
     "execution_count": 13,
     "metadata": {},
     "output_type": "execute_result"
    }
   ],
   "source": [
    "X_train = X_train.reshape(X_train.shape[0], -1)\n",
    "X_test = X_test.reshape(X_test.shape[0], -1)\n",
    "X_train.shape, X_test.shape"
   ]
  },
  {
   "cell_type": "markdown",
   "id": "smart-details",
   "metadata": {
    "papermill": {
     "duration": 0.027921,
     "end_time": "2021-02-11T00:06:31.308056",
     "exception": false,
     "start_time": "2021-02-11T00:06:31.280135",
     "status": "completed"
    },
    "tags": []
   },
   "source": [
    "### Importing appropriate functions from 'Kudzu'"
   ]
  },
  {
   "cell_type": "code",
   "execution_count": 14,
   "id": "celtic-trial",
   "metadata": {
    "execution": {
     "iopub.execute_input": "2021-02-11T00:06:31.377944Z",
     "iopub.status.busy": "2021-02-11T00:06:31.377411Z",
     "iopub.status.idle": "2021-02-11T00:06:31.391684Z",
     "shell.execute_reply": "2021-02-11T00:06:31.391271Z"
    },
    "papermill": {
     "duration": 0.055625,
     "end_time": "2021-02-11T00:06:31.391803",
     "exception": false,
     "start_time": "2021-02-11T00:06:31.336178",
     "status": "completed"
    },
    "tags": []
   },
   "outputs": [],
   "source": [
    "from kudzu.layer import Sigmoid\n",
    "from kudzu.layer import Relu\n",
    "from kudzu.layer import Affine, Sigmoid\n",
    "\n",
    "from kudzu.model import Model\n",
    "from kudzu.train import Learner\n",
    "from kudzu.optim import GD\n",
    "from kudzu.data import Data, Dataloader, Sampler\n",
    "\n",
    "from kudzu.callbacks import AccCallback\n",
    "from kudzu.callbacks import ClfCallback\n",
    "\n",
    "from kudzu.loss import MSE"
   ]
  },
  {
   "cell_type": "markdown",
   "id": "coupled-customer",
   "metadata": {
    "papermill": {
     "duration": 0.028028,
     "end_time": "2021-02-11T00:06:31.447989",
     "exception": false,
     "start_time": "2021-02-11T00:06:31.419961",
     "status": "completed"
    },
    "tags": []
   },
   "source": [
    "### Let us create a `Config` class, to store important parameters. \n",
    "This class essentially plays the role of a dictionary."
   ]
  },
  {
   "cell_type": "code",
   "execution_count": 15,
   "id": "young-ceiling",
   "metadata": {
    "execution": {
     "iopub.execute_input": "2021-02-11T00:06:31.511962Z",
     "iopub.status.busy": "2021-02-11T00:06:31.511409Z",
     "iopub.status.idle": "2021-02-11T00:06:31.520646Z",
     "shell.execute_reply": "2021-02-11T00:06:31.520188Z"
    },
    "papermill": {
     "duration": 0.044609,
     "end_time": "2021-02-11T00:06:31.520775",
     "exception": false,
     "start_time": "2021-02-11T00:06:31.476166",
     "status": "completed"
    },
    "tags": []
   },
   "outputs": [],
   "source": [
    "class Config:\n",
    "    pass\n",
    "config = Config()\n",
    "config.lr = 0.001\n",
    "config.num_epochs = 251\n",
    "config.bs = 50"
   ]
  },
  {
   "cell_type": "markdown",
   "id": "according-mandate",
   "metadata": {
    "papermill": {
     "duration": 0.027752,
     "end_time": "2021-02-11T00:06:31.576327",
     "exception": false,
     "start_time": "2021-02-11T00:06:31.548575",
     "status": "completed"
    },
    "tags": []
   },
   "source": [
    "### Initializing data to the variables"
   ]
  },
  {
   "cell_type": "code",
   "execution_count": 16,
   "id": "academic-disposition",
   "metadata": {
    "execution": {
     "iopub.execute_input": "2021-02-11T00:06:31.638847Z",
     "iopub.status.busy": "2021-02-11T00:06:31.638217Z",
     "iopub.status.idle": "2021-02-11T00:06:31.649090Z",
     "shell.execute_reply": "2021-02-11T00:06:31.648635Z"
    },
    "papermill": {
     "duration": 0.045002,
     "end_time": "2021-02-11T00:06:31.649207",
     "exception": false,
     "start_time": "2021-02-11T00:06:31.604205",
     "status": "completed"
    },
    "tags": []
   },
   "outputs": [],
   "source": [
    "data = Data(X_train, y_train.reshape(-1,1))\n",
    "sampler = Sampler(data, config.bs, shuffle=True)\n",
    "\n",
    "dl = Dataloader(data, sampler)\n",
    "\n",
    "opt = GD(config.lr)\n",
    "loss = MSE()"
   ]
  },
  {
   "cell_type": "code",
   "execution_count": 17,
   "id": "featured-commission",
   "metadata": {
    "execution": {
     "iopub.execute_input": "2021-02-11T00:06:31.719209Z",
     "iopub.status.busy": "2021-02-11T00:06:31.718680Z",
     "iopub.status.idle": "2021-02-11T00:06:31.725069Z",
     "shell.execute_reply": "2021-02-11T00:06:31.725451Z"
    },
    "papermill": {
     "duration": 0.04857,
     "end_time": "2021-02-11T00:06:31.725584",
     "exception": false,
     "start_time": "2021-02-11T00:06:31.677014",
     "status": "completed"
    },
    "tags": []
   },
   "outputs": [],
   "source": [
    "training_xdata = X_train\n",
    "testing_xdata = X_test\n",
    "training_ydata = y_train.reshape(-1,1)\n",
    "testing_ydata = y_test.reshape(-1,1)"
   ]
  },
  {
   "cell_type": "markdown",
   "id": "played-safety",
   "metadata": {
    "papermill": {
     "duration": 0.027927,
     "end_time": "2021-02-11T00:06:31.781450",
     "exception": false,
     "start_time": "2021-02-11T00:06:31.753523",
     "status": "completed"
    },
    "tags": []
   },
   "source": [
    "### Running Models with the Training data\n",
    "Details about the network layers:\n",
    "- A first affine layer has 784 inputs and does 100 affine transforms. These are followed by a Relu\n",
    "- A second affine layer has 100 inputs from the 100 activations of the past layer, and does 100 affine transforms. These are followed by a Relu\n",
    "- A third affine layer has 100 activations and does 2 affine transformations to create an embedding for visualization. There is no non-linearity here.\n",
    "- A final \"logistic regression\" which has an affine transform from 2 inputs to 1 output, which is squeezed through a sigmoid.\n",
    "\n",
    "Help taken from Anshuman's Notebook."
   ]
  },
  {
   "cell_type": "code",
   "execution_count": 18,
   "id": "asian-bankruptcy",
   "metadata": {
    "execution": {
     "iopub.execute_input": "2021-02-11T00:06:31.856972Z",
     "iopub.status.busy": "2021-02-11T00:06:31.847262Z",
     "iopub.status.idle": "2021-02-11T00:06:31.859300Z",
     "shell.execute_reply": "2021-02-11T00:06:31.858866Z"
    },
    "papermill": {
     "duration": 0.050223,
     "end_time": "2021-02-11T00:06:31.859410",
     "exception": false,
     "start_time": "2021-02-11T00:06:31.809187",
     "status": "completed"
    },
    "tags": []
   },
   "outputs": [],
   "source": [
    "# layers for the Neural Network\n",
    "layers = [Affine(\"first\", 784, 100), Relu(\"first\"), Affine(\"second\", 100, 100), Relu(\"second\"), Affine(\"third\", 100, 2), Affine(\"final\", 2, 1), Sigmoid(\"final\")]\n",
    "model_nn = Model(layers)\n",
    "\n",
    "# layers for the Logistic Regression\n",
    "layers_lr = [Affine(\"logits\", 784, 1), Sigmoid(\"sigmoid\")]\n",
    "model_lr = Model(layers_lr)"
   ]
  },
  {
   "cell_type": "code",
   "execution_count": 19,
   "id": "removed-butler",
   "metadata": {
    "execution": {
     "iopub.execute_input": "2021-02-11T00:06:31.918979Z",
     "iopub.status.busy": "2021-02-11T00:06:31.918465Z",
     "iopub.status.idle": "2021-02-11T00:06:31.931461Z",
     "shell.execute_reply": "2021-02-11T00:06:31.930565Z"
    },
    "papermill": {
     "duration": 0.044292,
     "end_time": "2021-02-11T00:06:31.931573",
     "exception": false,
     "start_time": "2021-02-11T00:06:31.887281",
     "status": "completed"
    },
    "tags": []
   },
   "outputs": [],
   "source": [
    "# suffix _nn stands for Neural Network.\n",
    "learner_nn = Learner(loss, model_nn, opt, config.num_epochs)\n",
    "acc_nn = ClfCallback(learner_nn, config.bs, training_xdata , testing_xdata, training_ydata, testing_ydata)\n",
    "learner_nn.set_callbacks([acc_nn])"
   ]
  },
  {
   "cell_type": "code",
   "execution_count": 20,
   "id": "conceptual-throw",
   "metadata": {
    "execution": {
     "iopub.execute_input": "2021-02-11T00:06:31.997280Z",
     "iopub.status.busy": "2021-02-11T00:06:31.989902Z",
     "iopub.status.idle": "2021-02-11T00:07:57.846329Z",
     "shell.execute_reply": "2021-02-11T00:07:57.847036Z"
    },
    "papermill": {
     "duration": 85.88778,
     "end_time": "2021-02-11T00:07:57.847180",
     "exception": false,
     "start_time": "2021-02-11T00:06:31.959400",
     "status": "completed"
    },
    "tags": []
   },
   "outputs": [
    {
     "name": "stdout",
     "output_type": "stream",
     "text": [
      "====== Neural Network ======\n"
     ]
    },
    {
     "name": "stdout",
     "output_type": "stream",
     "text": [
      "Epoch 0, Loss 0.2458\n",
      "Training Accuracy: 0.6801, Testing Accuracy: 0.6835\n",
      "\n"
     ]
    },
    {
     "name": "stdout",
     "output_type": "stream",
     "text": [
      "Epoch 10, Loss 0.0674\n",
      "Training Accuracy: 0.9357, Testing Accuracy: 0.9441\n",
      "\n"
     ]
    },
    {
     "name": "stdout",
     "output_type": "stream",
     "text": [
      "Epoch 20, Loss 0.0447\n",
      "Training Accuracy: 0.9548, Testing Accuracy: 0.9622\n",
      "\n"
     ]
    },
    {
     "name": "stdout",
     "output_type": "stream",
     "text": [
      "Epoch 30, Loss 0.0369\n",
      "Training Accuracy: 0.9598, Testing Accuracy: 0.9657\n",
      "\n"
     ]
    },
    {
     "name": "stdout",
     "output_type": "stream",
     "text": [
      "Epoch 40, Loss 0.0327\n",
      "Training Accuracy: 0.9637, Testing Accuracy: 0.9672\n",
      "\n"
     ]
    },
    {
     "name": "stdout",
     "output_type": "stream",
     "text": [
      "Epoch 50, Loss 0.0299\n",
      "Training Accuracy: 0.9660, Testing Accuracy: 0.9698\n",
      "\n"
     ]
    },
    {
     "name": "stdout",
     "output_type": "stream",
     "text": [
      "Epoch 60, Loss 0.028\n",
      "Training Accuracy: 0.9683, Testing Accuracy: 0.9718\n",
      "\n"
     ]
    },
    {
     "name": "stdout",
     "output_type": "stream",
     "text": [
      "Epoch 70, Loss 0.0264\n",
      "Training Accuracy: 0.9695, Testing Accuracy: 0.9718\n",
      "\n"
     ]
    },
    {
     "name": "stdout",
     "output_type": "stream",
     "text": [
      "Epoch 80, Loss 0.0251\n",
      "Training Accuracy: 0.9713, Testing Accuracy: 0.9723\n",
      "\n"
     ]
    },
    {
     "name": "stdout",
     "output_type": "stream",
     "text": [
      "Epoch 90, Loss 0.024\n",
      "Training Accuracy: 0.9725, Testing Accuracy: 0.9738\n",
      "\n"
     ]
    },
    {
     "name": "stdout",
     "output_type": "stream",
     "text": [
      "Epoch 100, Loss 0.0231\n",
      "Training Accuracy: 0.9733, Testing Accuracy: 0.9728\n",
      "\n"
     ]
    },
    {
     "name": "stdout",
     "output_type": "stream",
     "text": [
      "Epoch 110, Loss 0.0223\n",
      "Training Accuracy: 0.9745, Testing Accuracy: 0.9728\n",
      "\n"
     ]
    },
    {
     "name": "stdout",
     "output_type": "stream",
     "text": [
      "Epoch 120, Loss 0.0215\n",
      "Training Accuracy: 0.9759, Testing Accuracy: 0.9728\n",
      "\n"
     ]
    },
    {
     "name": "stdout",
     "output_type": "stream",
     "text": [
      "Epoch 130, Loss 0.0209\n",
      "Training Accuracy: 0.9773, Testing Accuracy: 0.9738\n",
      "\n"
     ]
    },
    {
     "name": "stdout",
     "output_type": "stream",
     "text": [
      "Epoch 140, Loss 0.0203\n",
      "Training Accuracy: 0.9779, Testing Accuracy: 0.9753\n",
      "\n"
     ]
    },
    {
     "name": "stdout",
     "output_type": "stream",
     "text": [
      "Epoch 150, Loss 0.0197\n",
      "Training Accuracy: 0.9786, Testing Accuracy: 0.9753\n",
      "\n"
     ]
    },
    {
     "name": "stdout",
     "output_type": "stream",
     "text": [
      "Epoch 160, Loss 0.0192\n",
      "Training Accuracy: 0.9796, Testing Accuracy: 0.9758\n",
      "\n"
     ]
    },
    {
     "name": "stdout",
     "output_type": "stream",
     "text": [
      "Epoch 170, Loss 0.0187\n",
      "Training Accuracy: 0.9799, Testing Accuracy: 0.9753\n",
      "\n"
     ]
    },
    {
     "name": "stdout",
     "output_type": "stream",
     "text": [
      "Epoch 180, Loss 0.0182\n",
      "Training Accuracy: 0.9802, Testing Accuracy: 0.9753\n",
      "\n"
     ]
    },
    {
     "name": "stdout",
     "output_type": "stream",
     "text": [
      "Epoch 190, Loss 0.0178\n",
      "Training Accuracy: 0.9807, Testing Accuracy: 0.9753\n",
      "\n"
     ]
    },
    {
     "name": "stdout",
     "output_type": "stream",
     "text": [
      "Epoch 200, Loss 0.0174\n",
      "Training Accuracy: 0.9814, Testing Accuracy: 0.9753\n",
      "\n"
     ]
    },
    {
     "name": "stdout",
     "output_type": "stream",
     "text": [
      "Epoch 210, Loss 0.017\n",
      "Training Accuracy: 0.9821, Testing Accuracy: 0.9753\n",
      "\n"
     ]
    },
    {
     "name": "stdout",
     "output_type": "stream",
     "text": [
      "Epoch 220, Loss 0.0166\n",
      "Training Accuracy: 0.9825, Testing Accuracy: 0.9753\n",
      "\n"
     ]
    },
    {
     "name": "stdout",
     "output_type": "stream",
     "text": [
      "Epoch 230, Loss 0.0163\n",
      "Training Accuracy: 0.9829, Testing Accuracy: 0.9763\n",
      "\n"
     ]
    },
    {
     "name": "stdout",
     "output_type": "stream",
     "text": [
      "Epoch 240, Loss 0.0159\n",
      "Training Accuracy: 0.9833, Testing Accuracy: 0.9763\n",
      "\n"
     ]
    },
    {
     "name": "stdout",
     "output_type": "stream",
     "text": [
      "Epoch 250, Loss 0.0156\n",
      "Training Accuracy: 0.9836, Testing Accuracy: 0.9758\n",
      "\n"
     ]
    },
    {
     "data": {
      "text/plain": [
       "0.014320247999655675"
      ]
     },
     "execution_count": 20,
     "metadata": {},
     "output_type": "execute_result"
    }
   ],
   "source": [
    "print(\"====== Neural Network ======\")\n",
    "learner_nn.train_loop(dl)"
   ]
  },
  {
   "cell_type": "markdown",
   "id": "competent-suffering",
   "metadata": {
    "papermill": {
     "duration": 0.035034,
     "end_time": "2021-02-11T00:07:57.917727",
     "exception": false,
     "start_time": "2021-02-11T00:07:57.882693",
     "status": "completed"
    },
    "tags": []
   },
   "source": [
    "### Logistic Regression based Implementation."
   ]
  },
  {
   "cell_type": "code",
   "execution_count": 21,
   "id": "qualified-psychiatry",
   "metadata": {
    "execution": {
     "iopub.execute_input": "2021-02-11T00:07:57.994632Z",
     "iopub.status.busy": "2021-02-11T00:07:57.993121Z",
     "iopub.status.idle": "2021-02-11T00:07:58.004192Z",
     "shell.execute_reply": "2021-02-11T00:07:58.004638Z"
    },
    "papermill": {
     "duration": 0.052057,
     "end_time": "2021-02-11T00:07:58.004793",
     "exception": false,
     "start_time": "2021-02-11T00:07:57.952736",
     "status": "completed"
    },
    "tags": []
   },
   "outputs": [],
   "source": [
    "learner_lr = Learner(loss, model_lr, opt, config.num_epochs)\n",
    "acc_lr = ClfCallback(learner_lr, config.bs, training_xdata , testing_xdata, training_ydata, testing_ydata)\n",
    "learner_lr.set_callbacks([acc_lr])"
   ]
  },
  {
   "cell_type": "code",
   "execution_count": 22,
   "id": "average-outside",
   "metadata": {
    "execution": {
     "iopub.execute_input": "2021-02-11T00:07:58.087781Z",
     "iopub.status.busy": "2021-02-11T00:07:58.085489Z",
     "iopub.status.idle": "2021-02-11T00:08:13.988202Z",
     "shell.execute_reply": "2021-02-11T00:08:13.988664Z"
    },
    "papermill": {
     "duration": 15.94784,
     "end_time": "2021-02-11T00:08:13.988807",
     "exception": false,
     "start_time": "2021-02-11T00:07:58.040967",
     "status": "completed"
    },
    "tags": []
   },
   "outputs": [
    {
     "name": "stdout",
     "output_type": "stream",
     "text": [
      "====== Logistic Regression ======\n",
      "Epoch 0, Loss 0.2444\n",
      "Training Accuracy: 0.7016, Testing Accuracy: 0.7339\n",
      "\n"
     ]
    },
    {
     "name": "stdout",
     "output_type": "stream",
     "text": [
      "Epoch 10, Loss 0.1019\n",
      "Training Accuracy: 0.9134, Testing Accuracy: 0.9249\n",
      "\n"
     ]
    },
    {
     "name": "stdout",
     "output_type": "stream",
     "text": [
      "Epoch 20, Loss 0.0785\n",
      "Training Accuracy: 0.9299, Testing Accuracy: 0.9420\n",
      "\n"
     ]
    },
    {
     "name": "stdout",
     "output_type": "stream",
     "text": [
      "Epoch 30, Loss 0.0677\n",
      "Training Accuracy: 0.9371, Testing Accuracy: 0.9471\n",
      "\n"
     ]
    },
    {
     "name": "stdout",
     "output_type": "stream",
     "text": [
      "Epoch 40, Loss 0.0612\n",
      "Training Accuracy: 0.9417, Testing Accuracy: 0.9496\n",
      "\n"
     ]
    },
    {
     "name": "stdout",
     "output_type": "stream",
     "text": [
      "Epoch 50, Loss 0.0568\n",
      "Training Accuracy: 0.9458, Testing Accuracy: 0.9551\n",
      "\n"
     ]
    },
    {
     "name": "stdout",
     "output_type": "stream",
     "text": [
      "Epoch 60, Loss 0.0535\n",
      "Training Accuracy: 0.9485, Testing Accuracy: 0.9602\n",
      "\n"
     ]
    },
    {
     "name": "stdout",
     "output_type": "stream",
     "text": [
      "Epoch 70, Loss 0.051\n",
      "Training Accuracy: 0.9491, Testing Accuracy: 0.9617\n",
      "\n"
     ]
    },
    {
     "name": "stdout",
     "output_type": "stream",
     "text": [
      "Epoch 80, Loss 0.049\n",
      "Training Accuracy: 0.9507, Testing Accuracy: 0.9627\n",
      "\n"
     ]
    },
    {
     "name": "stdout",
     "output_type": "stream",
     "text": [
      "Epoch 90, Loss 0.0473\n",
      "Training Accuracy: 0.9528, Testing Accuracy: 0.9632\n",
      "\n"
     ]
    },
    {
     "name": "stdout",
     "output_type": "stream",
     "text": [
      "Epoch 100, Loss 0.0459\n",
      "Training Accuracy: 0.9540, Testing Accuracy: 0.9647\n",
      "\n"
     ]
    },
    {
     "name": "stdout",
     "output_type": "stream",
     "text": [
      "Epoch 110, Loss 0.0447\n",
      "Training Accuracy: 0.9551, Testing Accuracy: 0.9647\n",
      "\n"
     ]
    },
    {
     "name": "stdout",
     "output_type": "stream",
     "text": [
      "Epoch 120, Loss 0.0437\n",
      "Training Accuracy: 0.9563, Testing Accuracy: 0.9647\n",
      "\n"
     ]
    },
    {
     "name": "stdout",
     "output_type": "stream",
     "text": [
      "Epoch 130, Loss 0.0428\n",
      "Training Accuracy: 0.9566, Testing Accuracy: 0.9637\n",
      "\n"
     ]
    },
    {
     "name": "stdout",
     "output_type": "stream",
     "text": [
      "Epoch 140, Loss 0.042\n",
      "Training Accuracy: 0.9572, Testing Accuracy: 0.9652\n",
      "\n"
     ]
    },
    {
     "name": "stdout",
     "output_type": "stream",
     "text": [
      "Epoch 150, Loss 0.0412\n",
      "Training Accuracy: 0.9575, Testing Accuracy: 0.9657\n",
      "\n"
     ]
    },
    {
     "name": "stdout",
     "output_type": "stream",
     "text": [
      "Epoch 160, Loss 0.0406\n",
      "Training Accuracy: 0.9582, Testing Accuracy: 0.9652\n",
      "\n"
     ]
    },
    {
     "name": "stdout",
     "output_type": "stream",
     "text": [
      "Epoch 170, Loss 0.04\n",
      "Training Accuracy: 0.9583, Testing Accuracy: 0.9647\n",
      "\n"
     ]
    },
    {
     "name": "stdout",
     "output_type": "stream",
     "text": [
      "Epoch 180, Loss 0.0394\n",
      "Training Accuracy: 0.9589, Testing Accuracy: 0.9647\n",
      "\n"
     ]
    },
    {
     "name": "stdout",
     "output_type": "stream",
     "text": [
      "Epoch 190, Loss 0.0389\n",
      "Training Accuracy: 0.9595, Testing Accuracy: 0.9647\n",
      "\n"
     ]
    },
    {
     "name": "stdout",
     "output_type": "stream",
     "text": [
      "Epoch 200, Loss 0.0384\n",
      "Training Accuracy: 0.9598, Testing Accuracy: 0.9647\n",
      "\n"
     ]
    },
    {
     "name": "stdout",
     "output_type": "stream",
     "text": [
      "Epoch 210, Loss 0.038\n",
      "Training Accuracy: 0.9599, Testing Accuracy: 0.9647\n",
      "\n"
     ]
    },
    {
     "name": "stdout",
     "output_type": "stream",
     "text": [
      "Epoch 220, Loss 0.0376\n",
      "Training Accuracy: 0.9603, Testing Accuracy: 0.9647\n",
      "\n"
     ]
    },
    {
     "name": "stdout",
     "output_type": "stream",
     "text": [
      "Epoch 230, Loss 0.0372\n",
      "Training Accuracy: 0.9606, Testing Accuracy: 0.9652\n",
      "\n"
     ]
    },
    {
     "name": "stdout",
     "output_type": "stream",
     "text": [
      "Epoch 240, Loss 0.0369\n",
      "Training Accuracy: 0.9609, Testing Accuracy: 0.9652\n",
      "\n"
     ]
    },
    {
     "name": "stdout",
     "output_type": "stream",
     "text": [
      "Epoch 250, Loss 0.0365\n",
      "Training Accuracy: 0.9611, Testing Accuracy: 0.9652\n",
      "\n"
     ]
    },
    {
     "data": {
      "text/plain": [
       "0.0769487858552031"
      ]
     },
     "execution_count": 22,
     "metadata": {},
     "output_type": "execute_result"
    }
   ],
   "source": [
    "print(\"====== Logistic Regression ======\")\n",
    "learner_lr.train_loop(dl)"
   ]
  },
  {
   "cell_type": "markdown",
   "id": "adjusted-possible",
   "metadata": {
    "papermill": {
     "duration": 0.042175,
     "end_time": "2021-02-11T00:08:14.073305",
     "exception": false,
     "start_time": "2021-02-11T00:08:14.031130",
     "status": "completed"
    },
    "tags": []
   },
   "source": [
    "### Comparing results of NN and LR"
   ]
  },
  {
   "cell_type": "code",
   "execution_count": 23,
   "id": "mental-multimedia",
   "metadata": {
    "execution": {
     "iopub.execute_input": "2021-02-11T00:08:14.169804Z",
     "iopub.status.busy": "2021-02-11T00:08:14.169237Z",
     "iopub.status.idle": "2021-02-11T00:08:14.375759Z",
     "shell.execute_reply": "2021-02-11T00:08:14.375067Z"
    },
    "papermill": {
     "duration": 0.259867,
     "end_time": "2021-02-11T00:08:14.375890",
     "exception": false,
     "start_time": "2021-02-11T00:08:14.116023",
     "status": "completed"
    },
    "tags": []
   },
   "outputs": [
    {
     "data": {
      "text/plain": [
       "<matplotlib.legend.Legend at 0x7fe3daf3ba90>"
      ]
     },
     "execution_count": 23,
     "metadata": {},
     "output_type": "execute_result"
    },
    {
     "data": {
      "image/png": "[encoded data removed]",
      "text/plain": [
       "<Figure size 1080x720 with 1 Axes>"
      ]
     },
     "metadata": {
      "needs_background": "light"
     },
     "output_type": "display_data"
    }
   ],
   "source": [
    "plt.figure(figsize=(15,10))\n",
    "\n",
    "# Neural Network plots\n",
    "plt.plot(acc_nn.accuracies, 'r-', label = \"Training Accuracies - NN\")\n",
    "plt.plot(acc_nn.test_accuracies, 'g-', label = \"Testing Accuracies - NN\")\n",
    "\n",
    "# Logistic Regression plots\n",
    "plt.plot(acc_lr.accuracies, 'k-', label = \"Training Accuracies - LR\")\n",
    "plt.plot(acc_lr.test_accuracies, 'b-', label = \"Testing Accuracies - LR\")\n",
    "\n",
    "plt.ylim(0.8, 1)\n",
    "\n",
    "plt.legend()\n",
    "\n"
   ]
  },
  {
   "cell_type": "markdown",
   "id": "sexual-flesh",
   "metadata": {
    "papermill": {
     "duration": 0.043724,
     "end_time": "2021-02-11T00:08:14.463586",
     "exception": false,
     "start_time": "2021-02-11T00:08:14.419862",
     "status": "completed"
    },
    "tags": []
   },
   "source": [
    "### From the plot, we can observe the following:\n",
    "- Neural Network achieves higher accuracy than the Logistic Regression model.\n",
    "- This apparently, is because of overfitting, i.e. NN captures more noise than data.\n",
    "- Testing accuracy of NN drops below the Training accuracy at higher epochs. This explains the over-fitting on training data.\n",
    "- Logistic Regression gives a reliable accuracy, without the above mentioned problem.\n"
   ]
  },
  {
   "cell_type": "markdown",
   "id": "institutional-pacific",
   "metadata": {
    "papermill": {
     "duration": 0.043751,
     "end_time": "2021-02-11T00:08:14.550783",
     "exception": false,
     "start_time": "2021-02-11T00:08:14.507032",
     "status": "completed"
    },
    "tags": []
   },
   "source": [
    "### Moving till the last but one layer (excluding it).\n",
    "#### Plotting the outputs of this layer of the NN."
   ]
  },
  {
   "cell_type": "code",
   "execution_count": 24,
   "id": "economic-server",
   "metadata": {
    "execution": {
     "iopub.execute_input": "2021-02-11T00:08:14.644483Z",
     "iopub.status.busy": "2021-02-11T00:08:14.643945Z",
     "iopub.status.idle": "2021-02-11T00:08:14.654000Z",
     "shell.execute_reply": "2021-02-11T00:08:14.654415Z"
    },
    "papermill": {
     "duration": 0.060066,
     "end_time": "2021-02-11T00:08:14.654552",
     "exception": false,
     "start_time": "2021-02-11T00:08:14.594486",
     "status": "completed"
    },
    "tags": []
   },
   "outputs": [],
   "source": [
    "model_new = Model(layers[:-2])"
   ]
  },
  {
   "cell_type": "code",
   "execution_count": 25,
   "id": "varied-upgrade",
   "metadata": {
    "execution": {
     "iopub.execute_input": "2021-02-11T00:08:14.745536Z",
     "iopub.status.busy": "2021-02-11T00:08:14.745016Z",
     "iopub.status.idle": "2021-02-11T00:08:14.764118Z",
     "shell.execute_reply": "2021-02-11T00:08:14.764572Z"
    },
    "papermill": {
     "duration": 0.066372,
     "end_time": "2021-02-11T00:08:14.764712",
     "exception": false,
     "start_time": "2021-02-11T00:08:14.698340",
     "status": "completed"
    },
    "tags": []
   },
   "outputs": [],
   "source": [
    "plot_testing = model_new(testing_xdata)"
   ]
  },
  {
   "cell_type": "code",
   "execution_count": 26,
   "id": "specific-handling",
   "metadata": {
    "execution": {
     "iopub.execute_input": "2021-02-11T00:08:14.861967Z",
     "iopub.status.busy": "2021-02-11T00:08:14.861454Z",
     "iopub.status.idle": "2021-02-11T00:08:15.021170Z",
     "shell.execute_reply": "2021-02-11T00:08:15.020652Z"
    },
    "papermill": {
     "duration": 0.212557,
     "end_time": "2021-02-11T00:08:15.021301",
     "exception": false,
     "start_time": "2021-02-11T00:08:14.808744",
     "status": "completed"
    },
    "tags": []
   },
   "outputs": [
    {
     "data": {
      "text/plain": [
       "Text(0.5, 1.0, 'Outputs')"
      ]
     },
     "execution_count": 26,
     "metadata": {},
     "output_type": "execute_result"
    },
    {
     "data": {
      "image/png": "[encoded data removed]",
      "text/plain": [
       "<Figure size 576x504 with 1 Axes>"
      ]
     },
     "metadata": {
      "needs_background": "light"
     },
     "output_type": "display_data"
    }
   ],
   "source": [
    "plt.figure(figsize=(8,7))\n",
    "plt.scatter(plot_testing[:,0], plot_testing[:,1], alpha = 0.1, c = y_test.ravel());\n",
    "plt.title('Outputs')"
   ]
  },
  {
   "cell_type": "markdown",
   "id": "described-knowing",
   "metadata": {
    "papermill": {
     "duration": 0.045671,
     "end_time": "2021-02-11T00:08:15.113052",
     "exception": false,
     "start_time": "2021-02-11T00:08:15.067381",
     "status": "completed"
    },
    "tags": []
   },
   "source": [
    "### Plotting probability contours"
   ]
  },
  {
   "cell_type": "code",
   "execution_count": 27,
   "id": "needed-growing",
   "metadata": {
    "execution": {
     "iopub.execute_input": "2021-02-11T00:08:15.208356Z",
     "iopub.status.busy": "2021-02-11T00:08:15.207825Z",
     "iopub.status.idle": "2021-02-11T00:08:15.218566Z",
     "shell.execute_reply": "2021-02-11T00:08:15.218974Z"
    },
    "papermill": {
     "duration": 0.060538,
     "end_time": "2021-02-11T00:08:15.219111",
     "exception": false,
     "start_time": "2021-02-11T00:08:15.158573",
     "status": "completed"
    },
    "tags": []
   },
   "outputs": [],
   "source": [
    "model_prob = Model(layers[-2:]) "
   ]
  },
  {
   "cell_type": "code",
   "execution_count": 28,
   "id": "introductory-enforcement",
   "metadata": {
    "execution": {
     "iopub.execute_input": "2021-02-11T00:08:15.318056Z",
     "iopub.status.busy": "2021-02-11T00:08:15.317440Z",
     "iopub.status.idle": "2021-02-11T00:08:15.329861Z",
     "shell.execute_reply": "2021-02-11T00:08:15.329440Z"
    },
    "papermill": {
     "duration": 0.065247,
     "end_time": "2021-02-11T00:08:15.329984",
     "exception": false,
     "start_time": "2021-02-11T00:08:15.264737",
     "status": "completed"
    },
    "tags": []
   },
   "outputs": [],
   "source": [
    "# Adjust the x and y ranges according to the above generated plot.\n",
    "x_range = np.linspace(-4, 1, 100) \n",
    "y_range = np.linspace(-6, 6, 100) \n",
    "x_grid, y_grid = np.meshgrid(x_range, y_range) # x_grid and y_grig are of size 100 X 100\n",
    "\n",
    "# converting x_grid and y_grid to continuous arrays\n",
    "x_grid_flat = np.ravel(x_grid)\n",
    "y_grid_flat = np.ravel(y_grid)\n",
    "\n",
    "# The last layer of the current model takes two columns as input. Hence transpose of np.vstack() is required.\n",
    "X = np.vstack((x_grid_flat, y_grid_flat)).T\n",
    "\n",
    "# x_grid and y_grid are of size 100 x 100\n",
    "probability_contour = model_prob(X).reshape(100,100) "
   ]
  },
  {
   "cell_type": "code",
   "execution_count": 29,
   "id": "understood-landing",
   "metadata": {
    "execution": {
     "iopub.execute_input": "2021-02-11T00:08:15.458471Z",
     "iopub.status.busy": "2021-02-11T00:08:15.457826Z",
     "iopub.status.idle": "2021-02-11T00:08:15.671609Z",
     "shell.execute_reply": "2021-02-11T00:08:15.672026Z"
    },
    "papermill": {
     "duration": 0.266926,
     "end_time": "2021-02-11T00:08:15.672172",
     "exception": false,
     "start_time": "2021-02-11T00:08:15.405246",
     "status": "completed"
    },
    "tags": []
   },
   "outputs": [
    {
     "data": {
      "image/png": "[encoded data removed]",
      "text/plain": [
       "<Figure size 720x648 with 1 Axes>"
      ]
     },
     "metadata": {
      "needs_background": "light"
     },
     "output_type": "display_data"
    }
   ],
   "source": [
    "plt.figure(figsize=(10,9))\n",
    "plt.scatter(plot_testing[:,0], plot_testing[:,1], alpha = 0.1, c = y_test.ravel())\n",
    "contours = plt.contour(x_grid,y_grid,probability_contour)\n",
    "plt.title('Probability Contours')\n",
    "plt.clabel(contours, inline = True );"
   ]
  }
 ],
 "metadata": {
  "kernelspec": {
   "display_name": "Python 3",
   "language": "python",
   "name": "python3"
  },
  "language_info": {
   "codemirror_mode": {
    "name": "ipython",
    "version": 3
   },
   "file_extension": ".py",
   "mimetype": "text/x-python",
   "name": "python",
   "nbconvert_exporter": "python",
   "pygments_lexer": "ipython3",
   "version": "3.6.12"
  },
  "papermill": {
   "duration": 111.349532,
   "end_time": "2021-02-11T00:08:17.112470",
   "environment_variables": {},
   "exception": null,
   "input_path": "2020-08-11-NeuralNetwork.ipynb",
   "output_path": "2020-08-11-NeuralNetwork.ipynb",
   "parameters": {},
   "start_time": "2021-02-11T00:06:25.762938",
   "version": "2.1.2"
  }
 },
 "nbformat": 4,
 "nbformat_minor": 5
}