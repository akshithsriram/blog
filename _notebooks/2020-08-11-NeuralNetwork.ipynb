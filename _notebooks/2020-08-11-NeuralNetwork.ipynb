{
 "cells": [
  {
   "cell_type": "markdown",
   "metadata": {
    "papermill": {
     "duration": 0.024253,
     "end_time": "2020-12-22T00:10:54.677559",
     "exception": false,
     "start_time": "2020-12-22T00:10:54.653306",
     "status": "completed"
    },
    "tags": []
   },
   "source": [
    "# \"A Basic Neural Network: Differentiate Hand-Written Digits\"\n",
    "\n",
    "- badges: true\n",
    "- author: Akshith Sriram"
   ]
  },
  {
   "cell_type": "markdown",
   "metadata": {
    "papermill": {
     "duration": 0.019846,
     "end_time": "2020-12-22T00:10:54.717893",
     "exception": false,
     "start_time": "2020-12-22T00:10:54.698047",
     "status": "completed"
    },
    "tags": []
   },
   "source": [
    "### Key Objectives:\n",
    "- Building a neural network that differentiates two hand-written digits 3 and 8.\n",
    "- Comparing the results of this Neural Network (NN) to that of a Logistic Regression (LR) model.\n",
    "\n",
    "### Requirements:\n",
    "- 'Kudzu' : A neural network library that was designed during our course by [Univ.AI](www.univ.ai). \n",
    "- MNIST Database\n",
    "\n",
    "If MNIST is not installed, use the command `!pip install mnist` given below.\n",
    "It can be run both from the command line and Jupyter Notebook."
   ]
  },
  {
   "cell_type": "code",
   "execution_count": 1,
   "metadata": {
    "execution": {
     "iopub.execute_input": "2020-12-22T00:10:54.769800Z",
     "iopub.status.busy": "2020-12-22T00:10:54.769331Z",
     "iopub.status.idle": "2020-12-22T00:10:55.989596Z",
     "shell.execute_reply": "2020-12-22T00:10:55.990082Z"
    },
    "papermill": {
     "duration": 1.251168,
     "end_time": "2020-12-22T00:10:55.990283",
     "exception": false,
     "start_time": "2020-12-22T00:10:54.739115",
     "status": "completed"
    },
    "tags": []
   },
   "outputs": [
    {
     "name": "stdout",
     "output_type": "stream",
     "text": [
      "Collecting mnist\r\n"
     ]
    },
    {
     "name": "stdout",
     "output_type": "stream",
     "text": [
      "  Downloading mnist-0.2.2-py2.py3-none-any.whl (3.5 kB)\r\n",
      "Requirement already satisfied: numpy in /opt/hostedtoolcache/Python/3.6.12/x64/lib/python3.6/site-packages (from mnist) (1.19.4)\r\n"
     ]
    },
    {
     "name": "stdout",
     "output_type": "stream",
     "text": [
      "Installing collected packages: mnist\r\n",
      "Successfully installed mnist-0.2.2\r\n"
     ]
    },
    {
     "name": "stdout",
     "output_type": "stream",
     "text": [
      "\u001b[33mWARNING: You are using pip version 20.3.1; however, version 20.3.3 is available.\r\n",
      "You should consider upgrading via the '/opt/hostedtoolcache/Python/3.6.12/x64/bin/python -m pip install --upgrade pip' command.\u001b[0m\r\n"
     ]
    }
   ],
   "source": [
    "!pip install mnist "
   ]
  },
  {
   "cell_type": "markdown",
   "metadata": {
    "papermill": {
     "duration": 0.021015,
     "end_time": "2020-12-22T00:10:56.032595",
     "exception": false,
     "start_time": "2020-12-22T00:10:56.011580",
     "status": "completed"
    },
    "tags": []
   },
   "source": [
    "#### Importing necessary libraries"
   ]
  },
  {
   "cell_type": "code",
   "execution_count": 2,
   "metadata": {
    "execution": {
     "iopub.execute_input": "2020-12-22T00:10:56.081958Z",
     "iopub.status.busy": "2020-12-22T00:10:56.081477Z",
     "iopub.status.idle": "2020-12-22T00:10:56.574232Z",
     "shell.execute_reply": "2020-12-22T00:10:56.574706Z"
    },
    "papermill": {
     "duration": 0.521355,
     "end_time": "2020-12-22T00:10:56.574880",
     "exception": false,
     "start_time": "2020-12-22T00:10:56.053525",
     "status": "completed"
    },
    "tags": []
   },
   "outputs": [],
   "source": [
    "%load_ext autoreload\n",
    "%autoreload 2\n",
    "\n",
    "%matplotlib inline\n",
    "import matplotlib.pyplot as plt\n",
    "\n",
    "import numpy as np\n",
    "import pandas as pd"
   ]
  },
  {
   "cell_type": "markdown",
   "metadata": {
    "papermill": {
     "duration": 0.021016,
     "end_time": "2020-12-22T00:10:56.618871",
     "exception": false,
     "start_time": "2020-12-22T00:10:56.597855",
     "status": "completed"
    },
    "tags": []
   },
   "source": [
    "### Preparing the Data"
   ]
  },
  {
   "cell_type": "code",
   "execution_count": 3,
   "metadata": {
    "execution": {
     "iopub.execute_input": "2020-12-22T00:10:56.667848Z",
     "iopub.status.busy": "2020-12-22T00:10:56.667356Z",
     "iopub.status.idle": "2020-12-22T00:10:56.675822Z",
     "shell.execute_reply": "2020-12-22T00:10:56.675453Z"
    },
    "papermill": {
     "duration": 0.036364,
     "end_time": "2020-12-22T00:10:56.675928",
     "exception": false,
     "start_time": "2020-12-22T00:10:56.639564",
     "status": "completed"
    },
    "tags": []
   },
   "outputs": [],
   "source": [
    "import mnist"
   ]
  },
  {
   "cell_type": "code",
   "execution_count": 4,
   "metadata": {
    "execution": {
     "iopub.execute_input": "2020-12-22T00:10:56.720396Z",
     "iopub.status.busy": "2020-12-22T00:10:56.719913Z",
     "iopub.status.idle": "2020-12-22T00:10:57.549880Z",
     "shell.execute_reply": "2020-12-22T00:10:57.550438Z"
    },
    "papermill": {
     "duration": 0.854006,
     "end_time": "2020-12-22T00:10:57.550619",
     "exception": false,
     "start_time": "2020-12-22T00:10:56.696613",
     "status": "completed"
    },
    "tags": []
   },
   "outputs": [],
   "source": [
    "train_images = mnist.train_images()\n",
    "train_labels = mnist.train_labels()"
   ]
  },
  {
   "cell_type": "code",
   "execution_count": 5,
   "metadata": {
    "execution": {
     "iopub.execute_input": "2020-12-22T00:10:57.598098Z",
     "iopub.status.busy": "2020-12-22T00:10:57.597648Z",
     "iopub.status.idle": "2020-12-22T00:10:57.611347Z",
     "shell.execute_reply": "2020-12-22T00:10:57.610866Z"
    },
    "papermill": {
     "duration": 0.03891,
     "end_time": "2020-12-22T00:10:57.611450",
     "exception": false,
     "start_time": "2020-12-22T00:10:57.572540",
     "status": "completed"
    },
    "tags": []
   },
   "outputs": [
    {
     "data": {
      "text/plain": [
       "((60000, 28, 28), (60000,))"
      ]
     },
     "execution_count": 5,
     "metadata": {},
     "output_type": "execute_result"
    }
   ],
   "source": [
    "train_images.shape, train_labels.shape"
   ]
  },
  {
   "cell_type": "code",
   "execution_count": 6,
   "metadata": {
    "execution": {
     "iopub.execute_input": "2020-12-22T00:10:57.666182Z",
     "iopub.status.busy": "2020-12-22T00:10:57.661450Z",
     "iopub.status.idle": "2020-12-22T00:10:57.910188Z",
     "shell.execute_reply": "2020-12-22T00:10:57.910697Z"
    },
    "papermill": {
     "duration": 0.278771,
     "end_time": "2020-12-22T00:10:57.910958",
     "exception": false,
     "start_time": "2020-12-22T00:10:57.632187",
     "status": "completed"
    },
    "tags": []
   },
   "outputs": [],
   "source": [
    "test_images = mnist.test_images()\n",
    "test_labels = mnist.test_labels()"
   ]
  },
  {
   "cell_type": "code",
   "execution_count": 7,
   "metadata": {
    "execution": {
     "iopub.execute_input": "2020-12-22T00:10:57.957310Z",
     "iopub.status.busy": "2020-12-22T00:10:57.956737Z",
     "iopub.status.idle": "2020-12-22T00:10:57.969727Z",
     "shell.execute_reply": "2020-12-22T00:10:57.969338Z"
    },
    "papermill": {
     "duration": 0.037227,
     "end_time": "2020-12-22T00:10:57.969833",
     "exception": false,
     "start_time": "2020-12-22T00:10:57.932606",
     "status": "completed"
    },
    "tags": []
   },
   "outputs": [
    {
     "data": {
      "text/plain": [
       "((10000, 28, 28), (10000,))"
      ]
     },
     "execution_count": 7,
     "metadata": {},
     "output_type": "execute_result"
    }
   ],
   "source": [
    "test_images.shape, test_labels.shape"
   ]
  },
  {
   "cell_type": "code",
   "execution_count": 8,
   "metadata": {
    "execution": {
     "iopub.execute_input": "2020-12-22T00:10:58.015980Z",
     "iopub.status.busy": "2020-12-22T00:10:58.015530Z",
     "iopub.status.idle": "2020-12-22T00:10:58.137573Z",
     "shell.execute_reply": "2020-12-22T00:10:58.137165Z"
    },
    "papermill": {
     "duration": 0.146732,
     "end_time": "2020-12-22T00:10:58.137690",
     "exception": false,
     "start_time": "2020-12-22T00:10:57.990958",
     "status": "completed"
    },
    "tags": []
   },
   "outputs": [
    {
     "name": "stdout",
     "output_type": "stream",
     "text": [
      "2\n"
     ]
    },
    {
     "data": {
      "text/plain": [
       "<matplotlib.image.AxesImage at 0x7f59ee5ff240>"
      ]
     },
     "execution_count": 8,
     "metadata": {},
     "output_type": "execute_result"
    },
    {
     "data": {
      "image/png": "[encoded data removed]",
      "text/plain": [
       "<Figure size 432x288 with 1 Axes>"
      ]
     },
     "metadata": {
      "needs_background": "light"
     },
     "output_type": "display_data"
    }
   ],
   "source": [
    "image_index = 7776 # You may select anything up to 60,000\n",
    "print(train_labels[image_index]) \n",
    "plt.imshow(train_images[image_index], cmap='Greys')"
   ]
  },
  {
   "cell_type": "markdown",
   "metadata": {
    "papermill": {
     "duration": 0.021928,
     "end_time": "2020-12-22T00:10:58.181950",
     "exception": false,
     "start_time": "2020-12-22T00:10:58.160022",
     "status": "completed"
    },
    "tags": []
   },
   "source": [
    "## Filter data to get 3 and 8 out"
   ]
  },
  {
   "cell_type": "code",
   "execution_count": 9,
   "metadata": {
    "execution": {
     "iopub.execute_input": "2020-12-22T00:10:58.231548Z",
     "iopub.status.busy": "2020-12-22T00:10:58.231064Z",
     "iopub.status.idle": "2020-12-22T00:10:58.245163Z",
     "shell.execute_reply": "2020-12-22T00:10:58.244758Z"
    },
    "papermill": {
     "duration": 0.041471,
     "end_time": "2020-12-22T00:10:58.245273",
     "exception": false,
     "start_time": "2020-12-22T00:10:58.203802",
     "status": "completed"
    },
    "tags": []
   },
   "outputs": [],
   "source": [
    "train_filter = np.where((train_labels == 3 ) | (train_labels == 8))\n",
    "test_filter = np.where((test_labels == 3) | (test_labels == 8))\n",
    "X_train, y_train = train_images[train_filter], train_labels[train_filter]\n",
    "X_test, y_test = test_images[test_filter], test_labels[test_filter]"
   ]
  },
  {
   "cell_type": "markdown",
   "metadata": {
    "papermill": {
     "duration": 0.021898,
     "end_time": "2020-12-22T00:10:58.289124",
     "exception": false,
     "start_time": "2020-12-22T00:10:58.267226",
     "status": "completed"
    },
    "tags": []
   },
   "source": [
    "We normalize the pixel values in the 0 to 1 range"
   ]
  },
  {
   "cell_type": "code",
   "execution_count": 10,
   "metadata": {
    "execution": {
     "iopub.execute_input": "2020-12-22T00:10:58.337220Z",
     "iopub.status.busy": "2020-12-22T00:10:58.336669Z",
     "iopub.status.idle": "2020-12-22T00:10:58.383174Z",
     "shell.execute_reply": "2020-12-22T00:10:58.382631Z"
    },
    "papermill": {
     "duration": 0.072421,
     "end_time": "2020-12-22T00:10:58.383323",
     "exception": false,
     "start_time": "2020-12-22T00:10:58.310902",
     "status": "completed"
    },
    "tags": []
   },
   "outputs": [],
   "source": [
    "X_train = X_train/255.\n",
    "X_test = X_test/255."
   ]
  },
  {
   "cell_type": "markdown",
   "metadata": {
    "papermill": {
     "duration": 0.02243,
     "end_time": "2020-12-22T00:10:58.429882",
     "exception": false,
     "start_time": "2020-12-22T00:10:58.407452",
     "status": "completed"
    },
    "tags": []
   },
   "source": [
    "Setup the labels as 1 (when the digit is 3) and 0 (when the digit is 8)"
   ]
  },
  {
   "cell_type": "code",
   "execution_count": 11,
   "metadata": {
    "execution": {
     "iopub.execute_input": "2020-12-22T00:10:58.482762Z",
     "iopub.status.busy": "2020-12-22T00:10:58.482291Z",
     "iopub.status.idle": "2020-12-22T00:10:58.490210Z",
     "shell.execute_reply": "2020-12-22T00:10:58.489841Z"
    },
    "papermill": {
     "duration": 0.038552,
     "end_time": "2020-12-22T00:10:58.490316",
     "exception": false,
     "start_time": "2020-12-22T00:10:58.451764",
     "status": "completed"
    },
    "tags": []
   },
   "outputs": [],
   "source": [
    "y_train = 1*(y_train==3)\n",
    "y_test = 1*(y_test==3)"
   ]
  },
  {
   "cell_type": "code",
   "execution_count": 12,
   "metadata": {
    "execution": {
     "iopub.execute_input": "2020-12-22T00:10:58.538754Z",
     "iopub.status.busy": "2020-12-22T00:10:58.538301Z",
     "iopub.status.idle": "2020-12-22T00:10:58.550317Z",
     "shell.execute_reply": "2020-12-22T00:10:58.550702Z"
    },
    "papermill": {
     "duration": 0.038491,
     "end_time": "2020-12-22T00:10:58.550820",
     "exception": false,
     "start_time": "2020-12-22T00:10:58.512329",
     "status": "completed"
    },
    "tags": []
   },
   "outputs": [
    {
     "data": {
      "text/plain": [
       "((11982, 28, 28), (1984, 28, 28))"
      ]
     },
     "execution_count": 12,
     "metadata": {},
     "output_type": "execute_result"
    }
   ],
   "source": [
    "X_train.shape, X_test.shape"
   ]
  },
  {
   "cell_type": "markdown",
   "metadata": {
    "papermill": {
     "duration": 0.022111,
     "end_time": "2020-12-22T00:10:58.594934",
     "exception": false,
     "start_time": "2020-12-22T00:10:58.572823",
     "status": "completed"
    },
    "tags": []
   },
   "source": [
    "### Reshape the input data to create a linear array"
   ]
  },
  {
   "cell_type": "code",
   "execution_count": 13,
   "metadata": {
    "execution": {
     "iopub.execute_input": "2020-12-22T00:10:58.645219Z",
     "iopub.status.busy": "2020-12-22T00:10:58.644760Z",
     "iopub.status.idle": "2020-12-22T00:10:58.655738Z",
     "shell.execute_reply": "2020-12-22T00:10:58.656106Z"
    },
    "papermill": {
     "duration": 0.039058,
     "end_time": "2020-12-22T00:10:58.656236",
     "exception": false,
     "start_time": "2020-12-22T00:10:58.617178",
     "status": "completed"
    },
    "tags": []
   },
   "outputs": [
    {
     "data": {
      "text/plain": [
       "((11982, 784), (1984, 784))"
      ]
     },
     "execution_count": 13,
     "metadata": {},
     "output_type": "execute_result"
    }
   ],
   "source": [
    "X_train = X_train.reshape(X_train.shape[0], -1)\n",
    "X_test = X_test.reshape(X_test.shape[0], -1)\n",
    "X_train.shape, X_test.shape"
   ]
  },
  {
   "cell_type": "markdown",
   "metadata": {
    "papermill": {
     "duration": 0.022393,
     "end_time": "2020-12-22T00:10:58.700976",
     "exception": false,
     "start_time": "2020-12-22T00:10:58.678583",
     "status": "completed"
    },
    "tags": []
   },
   "source": [
    "### Importing appropriate functions from 'Kudzu'"
   ]
  },
  {
   "cell_type": "code",
   "execution_count": 14,
   "metadata": {
    "execution": {
     "iopub.execute_input": "2020-12-22T00:10:58.750852Z",
     "iopub.status.busy": "2020-12-22T00:10:58.750364Z",
     "iopub.status.idle": "2020-12-22T00:10:58.766029Z",
     "shell.execute_reply": "2020-12-22T00:10:58.766388Z"
    },
    "papermill": {
     "duration": 0.043019,
     "end_time": "2020-12-22T00:10:58.766520",
     "exception": false,
     "start_time": "2020-12-22T00:10:58.723501",
     "status": "completed"
    },
    "tags": []
   },
   "outputs": [],
   "source": [
    "from kudzu.layer import Sigmoid\n",
    "from kudzu.layer import Relu\n",
    "from kudzu.layer import Affine, Sigmoid\n",
    "\n",
    "from kudzu.model import Model\n",
    "from kudzu.train import Learner\n",
    "from kudzu.optim import GD\n",
    "from kudzu.data import Data, Dataloader, Sampler\n",
    "\n",
    "from kudzu.callbacks import AccCallback\n",
    "from kudzu.callbacks import ClfCallback\n",
    "\n",
    "from kudzu.loss import MSE"
   ]
  },
  {
   "cell_type": "markdown",
   "metadata": {
    "papermill": {
     "duration": 0.022372,
     "end_time": "2020-12-22T00:10:58.811336",
     "exception": false,
     "start_time": "2020-12-22T00:10:58.788964",
     "status": "completed"
    },
    "tags": []
   },
   "source": [
    "### Let us create a `Config` class, to store important parameters. \n",
    "This class essentially plays the role of a dictionary."
   ]
  },
  {
   "cell_type": "code",
   "execution_count": 15,
   "metadata": {
    "execution": {
     "iopub.execute_input": "2020-12-22T00:10:58.860326Z",
     "iopub.status.busy": "2020-12-22T00:10:58.859508Z",
     "iopub.status.idle": "2020-12-22T00:10:58.871287Z",
     "shell.execute_reply": "2020-12-22T00:10:58.871638Z"
    },
    "papermill": {
     "duration": 0.037982,
     "end_time": "2020-12-22T00:10:58.871764",
     "exception": false,
     "start_time": "2020-12-22T00:10:58.833782",
     "status": "completed"
    },
    "tags": []
   },
   "outputs": [],
   "source": [
    "class Config:\n",
    "    pass\n",
    "config = Config()\n",
    "config.lr = 0.001\n",
    "config.num_epochs = 251\n",
    "config.bs = 50"
   ]
  },
  {
   "cell_type": "markdown",
   "metadata": {
    "papermill": {
     "duration": 0.022464,
     "end_time": "2020-12-22T00:10:58.916575",
     "exception": false,
     "start_time": "2020-12-22T00:10:58.894111",
     "status": "completed"
    },
    "tags": []
   },
   "source": [
    "### Initializing data to the variables"
   ]
  },
  {
   "cell_type": "code",
   "execution_count": 16,
   "metadata": {
    "execution": {
     "iopub.execute_input": "2020-12-22T00:10:58.975409Z",
     "iopub.status.busy": "2020-12-22T00:10:58.974928Z",
     "iopub.status.idle": "2020-12-22T00:10:58.980562Z",
     "shell.execute_reply": "2020-12-22T00:10:58.980175Z"
    },
    "papermill": {
     "duration": 0.041674,
     "end_time": "2020-12-22T00:10:58.980671",
     "exception": false,
     "start_time": "2020-12-22T00:10:58.938997",
     "status": "completed"
    },
    "tags": []
   },
   "outputs": [],
   "source": [
    "data = Data(X_train, y_train.reshape(-1,1))\n",
    "sampler = Sampler(data, config.bs, shuffle=True)\n",
    "\n",
    "dl = Dataloader(data, sampler)\n",
    "\n",
    "opt = GD(config.lr)\n",
    "loss = MSE()"
   ]
  },
  {
   "cell_type": "code",
   "execution_count": 17,
   "metadata": {
    "execution": {
     "iopub.execute_input": "2020-12-22T00:10:59.028904Z",
     "iopub.status.busy": "2020-12-22T00:10:59.028439Z",
     "iopub.status.idle": "2020-12-22T00:10:59.040125Z",
     "shell.execute_reply": "2020-12-22T00:10:59.039739Z"
    },
    "papermill": {
     "duration": 0.037209,
     "end_time": "2020-12-22T00:10:59.040235",
     "exception": false,
     "start_time": "2020-12-22T00:10:59.003026",
     "status": "completed"
    },
    "tags": []
   },
   "outputs": [],
   "source": [
    "training_xdata = X_train\n",
    "testing_xdata = X_test\n",
    "training_ydata = y_train.reshape(-1,1)\n",
    "testing_ydata = y_test.reshape(-1,1)"
   ]
  },
  {
   "cell_type": "markdown",
   "metadata": {
    "papermill": {
     "duration": 0.022446,
     "end_time": "2020-12-22T00:10:59.085167",
     "exception": false,
     "start_time": "2020-12-22T00:10:59.062721",
     "status": "completed"
    },
    "tags": []
   },
   "source": [
    "### Running Models with the Training data\n",
    "Details about the network layers:\n",
    "- A first affine layer has 784 inputs and does 100 affine transforms. These are followed by a Relu\n",
    "- A second affine layer has 100 inputs from the 100 activations of the past layer, and does 100 affine transforms. These are followed by a Relu\n",
    "- A third affine layer has 100 activations and does 2 affine transformations to create an embedding for visualization. There is no non-linearity here.\n",
    "- A final \"logistic regression\" which has an affine transform from 2 inputs to 1 output, which is squeezed through a sigmoid.\n",
    "\n",
    "Help taken from Anshuman's Notebook."
   ]
  },
  {
   "cell_type": "code",
   "execution_count": 18,
   "metadata": {
    "execution": {
     "iopub.execute_input": "2020-12-22T00:10:59.138109Z",
     "iopub.status.busy": "2020-12-22T00:10:59.137622Z",
     "iopub.status.idle": "2020-12-22T00:10:59.151594Z",
     "shell.execute_reply": "2020-12-22T00:10:59.151221Z"
    },
    "papermill": {
     "duration": 0.044216,
     "end_time": "2020-12-22T00:10:59.151705",
     "exception": false,
     "start_time": "2020-12-22T00:10:59.107489",
     "status": "completed"
    },
    "tags": []
   },
   "outputs": [],
   "source": [
    "# layers for the Neural Network\n",
    "layers = [Affine(\"first\", 784, 100), Relu(\"first\"), Affine(\"second\", 100, 100), Relu(\"second\"), Affine(\"third\", 100, 2), Affine(\"final\", 2, 1), Sigmoid(\"final\")]\n",
    "model_nn = Model(layers)\n",
    "\n",
    "# layers for the Logistic Regression\n",
    "layers_lr = [Affine(\"logits\", 784, 1), Sigmoid(\"sigmoid\")]\n",
    "model_lr = Model(layers_lr)"
   ]
  },
  {
   "cell_type": "code",
   "execution_count": 19,
   "metadata": {
    "execution": {
     "iopub.execute_input": "2020-12-22T00:10:59.201458Z",
     "iopub.status.busy": "2020-12-22T00:10:59.200847Z",
     "iopub.status.idle": "2020-12-22T00:10:59.211338Z",
     "shell.execute_reply": "2020-12-22T00:10:59.210948Z"
    },
    "papermill": {
     "duration": 0.037179,
     "end_time": "2020-12-22T00:10:59.211450",
     "exception": false,
     "start_time": "2020-12-22T00:10:59.174271",
     "status": "completed"
    },
    "tags": []
   },
   "outputs": [],
   "source": [
    "# suffix _nn stands for Neural Network.\n",
    "learner_nn = Learner(loss, model_nn, opt, config.num_epochs)\n",
    "acc_nn = ClfCallback(learner_nn, config.bs, training_xdata , testing_xdata, training_ydata, testing_ydata)\n",
    "learner_nn.set_callbacks([acc_nn])"
   ]
  },
  {
   "cell_type": "code",
   "execution_count": 20,
   "metadata": {
    "execution": {
     "iopub.execute_input": "2020-12-22T00:10:59.263131Z",
     "iopub.status.busy": "2020-12-22T00:10:59.262656Z",
     "iopub.status.idle": "2020-12-22T00:12:28.679279Z",
     "shell.execute_reply": "2020-12-22T00:12:28.679719Z"
    },
    "papermill": {
     "duration": 89.445883,
     "end_time": "2020-12-22T00:12:28.679847",
     "exception": false,
     "start_time": "2020-12-22T00:10:59.233964",
     "status": "completed"
    },
    "tags": []
   },
   "outputs": [
    {
     "name": "stdout",
     "output_type": "stream",
     "text": [
      "====== Neural Network ======\n"
     ]
    },
    {
     "name": "stdout",
     "output_type": "stream",
     "text": [
      "Epoch 0, Loss 0.2313\n",
      "Training Accuracy: 0.7431, Testing Accuracy: 0.7440\n",
      "\n"
     ]
    },
    {
     "name": "stdout",
     "output_type": "stream",
     "text": [
      "Epoch 10, Loss 0.0903\n",
      "Training Accuracy: 0.9080, Testing Accuracy: 0.9148\n",
      "\n"
     ]
    },
    {
     "name": "stdout",
     "output_type": "stream",
     "text": [
      "Epoch 20, Loss 0.0561\n",
      "Training Accuracy: 0.9411, Testing Accuracy: 0.9451\n",
      "\n"
     ]
    },
    {
     "name": "stdout",
     "output_type": "stream",
     "text": [
      "Epoch 30, Loss 0.0434\n",
      "Training Accuracy: 0.9527, Testing Accuracy: 0.9597\n",
      "\n"
     ]
    },
    {
     "name": "stdout",
     "output_type": "stream",
     "text": [
      "Epoch 40, Loss 0.0372\n",
      "Training Accuracy: 0.9593, Testing Accuracy: 0.9652\n",
      "\n"
     ]
    },
    {
     "name": "stdout",
     "output_type": "stream",
     "text": [
      "Epoch 50, Loss 0.0335\n",
      "Training Accuracy: 0.9619, Testing Accuracy: 0.9677\n",
      "\n"
     ]
    },
    {
     "name": "stdout",
     "output_type": "stream",
     "text": [
      "Epoch 60, Loss 0.031\n",
      "Training Accuracy: 0.9644, Testing Accuracy: 0.9682\n",
      "\n"
     ]
    },
    {
     "name": "stdout",
     "output_type": "stream",
     "text": [
      "Epoch 70, Loss 0.0292\n",
      "Training Accuracy: 0.9662, Testing Accuracy: 0.9688\n",
      "\n"
     ]
    },
    {
     "name": "stdout",
     "output_type": "stream",
     "text": [
      "Epoch 80, Loss 0.0277\n",
      "Training Accuracy: 0.9675, Testing Accuracy: 0.9698\n",
      "\n"
     ]
    },
    {
     "name": "stdout",
     "output_type": "stream",
     "text": [
      "Epoch 90, Loss 0.0265\n",
      "Training Accuracy: 0.9691, Testing Accuracy: 0.9693\n",
      "\n"
     ]
    },
    {
     "name": "stdout",
     "output_type": "stream",
     "text": [
      "Epoch 100, Loss 0.0254\n",
      "Training Accuracy: 0.9701, Testing Accuracy: 0.9703\n",
      "\n"
     ]
    },
    {
     "name": "stdout",
     "output_type": "stream",
     "text": [
      "Epoch 110, Loss 0.0245\n",
      "Training Accuracy: 0.9710, Testing Accuracy: 0.9708\n",
      "\n"
     ]
    },
    {
     "name": "stdout",
     "output_type": "stream",
     "text": [
      "Epoch 120, Loss 0.0237\n",
      "Training Accuracy: 0.9720, Testing Accuracy: 0.9703\n",
      "\n"
     ]
    },
    {
     "name": "stdout",
     "output_type": "stream",
     "text": [
      "Epoch 130, Loss 0.023\n",
      "Training Accuracy: 0.9733, Testing Accuracy: 0.9708\n",
      "\n"
     ]
    },
    {
     "name": "stdout",
     "output_type": "stream",
     "text": [
      "Epoch 140, Loss 0.0224\n",
      "Training Accuracy: 0.9740, Testing Accuracy: 0.9718\n",
      "\n"
     ]
    },
    {
     "name": "stdout",
     "output_type": "stream",
     "text": [
      "Epoch 150, Loss 0.0217\n",
      "Training Accuracy: 0.9745, Testing Accuracy: 0.9718\n",
      "\n"
     ]
    },
    {
     "name": "stdout",
     "output_type": "stream",
     "text": [
      "Epoch 160, Loss 0.0212\n",
      "Training Accuracy: 0.9754, Testing Accuracy: 0.9728\n",
      "\n"
     ]
    },
    {
     "name": "stdout",
     "output_type": "stream",
     "text": [
      "Epoch 170, Loss 0.0206\n",
      "Training Accuracy: 0.9764, Testing Accuracy: 0.9743\n",
      "\n"
     ]
    },
    {
     "name": "stdout",
     "output_type": "stream",
     "text": [
      "Epoch 180, Loss 0.0201\n",
      "Training Accuracy: 0.9768, Testing Accuracy: 0.9738\n",
      "\n"
     ]
    },
    {
     "name": "stdout",
     "output_type": "stream",
     "text": [
      "Epoch 190, Loss 0.0197\n",
      "Training Accuracy: 0.9774, Testing Accuracy: 0.9748\n",
      "\n"
     ]
    },
    {
     "name": "stdout",
     "output_type": "stream",
     "text": [
      "Epoch 200, Loss 0.0192\n",
      "Training Accuracy: 0.9784, Testing Accuracy: 0.9753\n",
      "\n"
     ]
    },
    {
     "name": "stdout",
     "output_type": "stream",
     "text": [
      "Epoch 210, Loss 0.0188\n",
      "Training Accuracy: 0.9792, Testing Accuracy: 0.9753\n",
      "\n"
     ]
    },
    {
     "name": "stdout",
     "output_type": "stream",
     "text": [
      "Epoch 220, Loss 0.0184\n",
      "Training Accuracy: 0.9793, Testing Accuracy: 0.9753\n",
      "\n"
     ]
    },
    {
     "name": "stdout",
     "output_type": "stream",
     "text": [
      "Epoch 230, Loss 0.018\n",
      "Training Accuracy: 0.9803, Testing Accuracy: 0.9758\n",
      "\n"
     ]
    },
    {
     "name": "stdout",
     "output_type": "stream",
     "text": [
      "Epoch 240, Loss 0.0176\n",
      "Training Accuracy: 0.9809, Testing Accuracy: 0.9763\n",
      "\n"
     ]
    },
    {
     "name": "stdout",
     "output_type": "stream",
     "text": [
      "Epoch 250, Loss 0.0172\n",
      "Training Accuracy: 0.9814, Testing Accuracy: 0.9768\n",
      "\n"
     ]
    },
    {
     "data": {
      "text/plain": [
       "0.007309684259965575"
      ]
     },
     "execution_count": 20,
     "metadata": {},
     "output_type": "execute_result"
    }
   ],
   "source": [
    "print(\"====== Neural Network ======\")\n",
    "learner_nn.train_loop(dl)"
   ]
  },
  {
   "cell_type": "markdown",
   "metadata": {
    "papermill": {
     "duration": 0.02886,
     "end_time": "2020-12-22T00:12:28.738414",
     "exception": false,
     "start_time": "2020-12-22T00:12:28.709554",
     "status": "completed"
    },
    "tags": []
   },
   "source": [
    "### Logistic Regression based Implementation."
   ]
  },
  {
   "cell_type": "code",
   "execution_count": 21,
   "metadata": {
    "execution": {
     "iopub.execute_input": "2020-12-22T00:12:28.801932Z",
     "iopub.status.busy": "2020-12-22T00:12:28.801408Z",
     "iopub.status.idle": "2020-12-22T00:12:28.811880Z",
     "shell.execute_reply": "2020-12-22T00:12:28.811467Z"
    },
    "papermill": {
     "duration": 0.044731,
     "end_time": "2020-12-22T00:12:28.812006",
     "exception": false,
     "start_time": "2020-12-22T00:12:28.767275",
     "status": "completed"
    },
    "tags": []
   },
   "outputs": [],
   "source": [
    "learner_lr = Learner(loss, model_lr, opt, config.num_epochs)\n",
    "acc_lr = ClfCallback(learner_lr, config.bs, training_xdata , testing_xdata, training_ydata, testing_ydata)\n",
    "learner_lr.set_callbacks([acc_lr])"
   ]
  },
  {
   "cell_type": "code",
   "execution_count": 22,
   "metadata": {
    "execution": {
     "iopub.execute_input": "2020-12-22T00:12:28.880657Z",
     "iopub.status.busy": "2020-12-22T00:12:28.877138Z",
     "iopub.status.idle": "2020-12-22T00:12:45.096276Z",
     "shell.execute_reply": "2020-12-22T00:12:45.096959Z"
    },
    "papermill": {
     "duration": 16.255638,
     "end_time": "2020-12-22T00:12:45.097101",
     "exception": false,
     "start_time": "2020-12-22T00:12:28.841463",
     "status": "completed"
    },
    "tags": []
   },
   "outputs": [
    {
     "name": "stdout",
     "output_type": "stream",
     "text": [
      "====== Logistic Regression ======\n",
      "Epoch 0, Loss 0.2409\n",
      "Training Accuracy: 0.7127, Testing Accuracy: 0.7172\n",
      "\n"
     ]
    },
    {
     "name": "stdout",
     "output_type": "stream",
     "text": [
      "Epoch 10, Loss 0.1047\n",
      "Training Accuracy: 0.9062, Testing Accuracy: 0.9108\n",
      "\n"
     ]
    },
    {
     "name": "stdout",
     "output_type": "stream",
     "text": [
      "Epoch 20, Loss 0.0803\n",
      "Training Accuracy: 0.9245, Testing Accuracy: 0.9335\n",
      "\n"
     ]
    },
    {
     "name": "stdout",
     "output_type": "stream",
     "text": [
      "Epoch 30, Loss 0.069\n",
      "Training Accuracy: 0.9338, Testing Accuracy: 0.9446\n",
      "\n"
     ]
    },
    {
     "name": "stdout",
     "output_type": "stream",
     "text": [
      "Epoch 40, Loss 0.0622\n",
      "Training Accuracy: 0.9405, Testing Accuracy: 0.9491\n",
      "\n"
     ]
    },
    {
     "name": "stdout",
     "output_type": "stream",
     "text": [
      "Epoch 50, Loss 0.0576\n",
      "Training Accuracy: 0.9437, Testing Accuracy: 0.9531\n",
      "\n"
     ]
    },
    {
     "name": "stdout",
     "output_type": "stream",
     "text": [
      "Epoch 60, Loss 0.0542\n",
      "Training Accuracy: 0.9468, Testing Accuracy: 0.9556\n",
      "\n"
     ]
    },
    {
     "name": "stdout",
     "output_type": "stream",
     "text": [
      "Epoch 70, Loss 0.0516\n",
      "Training Accuracy: 0.9488, Testing Accuracy: 0.9572\n",
      "\n"
     ]
    },
    {
     "name": "stdout",
     "output_type": "stream",
     "text": [
      "Epoch 80, Loss 0.0495\n",
      "Training Accuracy: 0.9500, Testing Accuracy: 0.9582\n",
      "\n"
     ]
    },
    {
     "name": "stdout",
     "output_type": "stream",
     "text": [
      "Epoch 90, Loss 0.0478\n",
      "Training Accuracy: 0.9508, Testing Accuracy: 0.9577\n",
      "\n"
     ]
    },
    {
     "name": "stdout",
     "output_type": "stream",
     "text": [
      "Epoch 100, Loss 0.0463\n",
      "Training Accuracy: 0.9527, Testing Accuracy: 0.9612\n",
      "\n"
     ]
    },
    {
     "name": "stdout",
     "output_type": "stream",
     "text": [
      "Epoch 110, Loss 0.0451\n",
      "Training Accuracy: 0.9541, Testing Accuracy: 0.9612\n",
      "\n"
     ]
    },
    {
     "name": "stdout",
     "output_type": "stream",
     "text": [
      "Epoch 120, Loss 0.044\n",
      "Training Accuracy: 0.9546, Testing Accuracy: 0.9612\n",
      "\n"
     ]
    },
    {
     "name": "stdout",
     "output_type": "stream",
     "text": [
      "Epoch 130, Loss 0.0431\n",
      "Training Accuracy: 0.9556, Testing Accuracy: 0.9622\n",
      "\n"
     ]
    },
    {
     "name": "stdout",
     "output_type": "stream",
     "text": [
      "Epoch 140, Loss 0.0422\n",
      "Training Accuracy: 0.9560, Testing Accuracy: 0.9627\n",
      "\n"
     ]
    },
    {
     "name": "stdout",
     "output_type": "stream",
     "text": [
      "Epoch 150, Loss 0.0414\n",
      "Training Accuracy: 0.9569, Testing Accuracy: 0.9637\n",
      "\n"
     ]
    },
    {
     "name": "stdout",
     "output_type": "stream",
     "text": [
      "Epoch 160, Loss 0.0408\n",
      "Training Accuracy: 0.9574, Testing Accuracy: 0.9637\n",
      "\n"
     ]
    },
    {
     "name": "stdout",
     "output_type": "stream",
     "text": [
      "Epoch 170, Loss 0.0401\n",
      "Training Accuracy: 0.9577, Testing Accuracy: 0.9642\n",
      "\n"
     ]
    },
    {
     "name": "stdout",
     "output_type": "stream",
     "text": [
      "Epoch 180, Loss 0.0396\n",
      "Training Accuracy: 0.9582, Testing Accuracy: 0.9642\n",
      "\n"
     ]
    },
    {
     "name": "stdout",
     "output_type": "stream",
     "text": [
      "Epoch 190, Loss 0.039\n",
      "Training Accuracy: 0.9589, Testing Accuracy: 0.9647\n",
      "\n"
     ]
    },
    {
     "name": "stdout",
     "output_type": "stream",
     "text": [
      "Epoch 200, Loss 0.0386\n",
      "Training Accuracy: 0.9599, Testing Accuracy: 0.9652\n",
      "\n"
     ]
    },
    {
     "name": "stdout",
     "output_type": "stream",
     "text": [
      "Epoch 210, Loss 0.0381\n",
      "Training Accuracy: 0.9602, Testing Accuracy: 0.9647\n",
      "\n"
     ]
    },
    {
     "name": "stdout",
     "output_type": "stream",
     "text": [
      "Epoch 220, Loss 0.0377\n",
      "Training Accuracy: 0.9605, Testing Accuracy: 0.9647\n",
      "\n"
     ]
    },
    {
     "name": "stdout",
     "output_type": "stream",
     "text": [
      "Epoch 230, Loss 0.0373\n",
      "Training Accuracy: 0.9610, Testing Accuracy: 0.9647\n",
      "\n"
     ]
    },
    {
     "name": "stdout",
     "output_type": "stream",
     "text": [
      "Epoch 240, Loss 0.0369\n",
      "Training Accuracy: 0.9614, Testing Accuracy: 0.9647\n",
      "\n"
     ]
    },
    {
     "name": "stdout",
     "output_type": "stream",
     "text": [
      "Epoch 250, Loss 0.0366\n",
      "Training Accuracy: 0.9614, Testing Accuracy: 0.9647\n",
      "\n"
     ]
    },
    {
     "data": {
      "text/plain": [
       "0.026083900949308028"
      ]
     },
     "execution_count": 22,
     "metadata": {},
     "output_type": "execute_result"
    }
   ],
   "source": [
    "print(\"====== Logistic Regression ======\")\n",
    "learner_lr.train_loop(dl)"
   ]
  },
  {
   "cell_type": "markdown",
   "metadata": {
    "papermill": {
     "duration": 0.035374,
     "end_time": "2020-12-22T00:12:45.168917",
     "exception": false,
     "start_time": "2020-12-22T00:12:45.133543",
     "status": "completed"
    },
    "tags": []
   },
   "source": [
    "### Comparing results of NN and LR"
   ]
  },
  {
   "cell_type": "code",
   "execution_count": 23,
   "metadata": {
    "execution": {
     "iopub.execute_input": "2020-12-22T00:12:45.244854Z",
     "iopub.status.busy": "2020-12-22T00:12:45.244255Z",
     "iopub.status.idle": "2020-12-22T00:12:45.450419Z",
     "shell.execute_reply": "2020-12-22T00:12:45.450807Z"
    },
    "papermill": {
     "duration": 0.246744,
     "end_time": "2020-12-22T00:12:45.450951",
     "exception": false,
     "start_time": "2020-12-22T00:12:45.204207",
     "status": "completed"
    },
    "tags": []
   },
   "outputs": [
    {
     "data": {
      "text/plain": [
       "<matplotlib.legend.Legend at 0x7f59e6e42b70>"
      ]
     },
     "execution_count": 23,
     "metadata": {},
     "output_type": "execute_result"
    },
    {
     "data": {
      "image/png": "[encoded data removed]",
      "text/plain": [
       "<Figure size 1080x720 with 1 Axes>"
      ]
     },
     "metadata": {
      "needs_background": "light"
     },
     "output_type": "display_data"
    }
   ],
   "source": [
    "plt.figure(figsize=(15,10))\n",
    "\n",
    "# Neural Network plots\n",
    "plt.plot(acc_nn.accuracies, 'r-', label = \"Training Accuracies - NN\")\n",
    "plt.plot(acc_nn.test_accuracies, 'g-', label = \"Testing Accuracies - NN\")\n",
    "\n",
    "# Logistic Regression plots\n",
    "plt.plot(acc_lr.accuracies, 'k-', label = \"Training Accuracies - LR\")\n",
    "plt.plot(acc_lr.test_accuracies, 'b-', label = \"Testing Accuracies - LR\")\n",
    "\n",
    "plt.ylim(0.8, 1)\n",
    "\n",
    "plt.legend()\n",
    "\n"
   ]
  },
  {
   "cell_type": "markdown",
   "metadata": {
    "papermill": {
     "duration": 0.036704,
     "end_time": "2020-12-22T00:12:45.524706",
     "exception": false,
     "start_time": "2020-12-22T00:12:45.488002",
     "status": "completed"
    },
    "tags": []
   },
   "source": [
    "### From the plot, we can observe the following:\n",
    "- Neural Network achieves higher accuracy than the Logistic Regression model.\n",
    "- This apparently, is because of overfitting, i.e. NN captures more noise than data.\n",
    "- Testing accuracy of NN drops below the Training accuracy at higher epochs. This explains the over-fitting on training data.\n",
    "- Logistic Regression gives a reliable accuracy, without the above mentioned problem.\n"
   ]
  },
  {
   "cell_type": "markdown",
   "metadata": {
    "papermill": {
     "duration": 0.036692,
     "end_time": "2020-12-22T00:12:45.598250",
     "exception": false,
     "start_time": "2020-12-22T00:12:45.561558",
     "status": "completed"
    },
    "tags": []
   },
   "source": [
    "### Moving till the last but one layer (excluding it).\n",
    "#### Plotting the outputs of this layer of the NN."
   ]
  },
  {
   "cell_type": "code",
   "execution_count": 24,
   "metadata": {
    "execution": {
     "iopub.execute_input": "2020-12-22T00:12:45.676269Z",
     "iopub.status.busy": "2020-12-22T00:12:45.675600Z",
     "iopub.status.idle": "2020-12-22T00:12:45.687806Z",
     "shell.execute_reply": "2020-12-22T00:12:45.688247Z"
    },
    "papermill": {
     "duration": 0.053072,
     "end_time": "2020-12-22T00:12:45.688403",
     "exception": false,
     "start_time": "2020-12-22T00:12:45.635331",
     "status": "completed"
    },
    "tags": []
   },
   "outputs": [],
   "source": [
    "model_new = Model(layers[:-2])"
   ]
  },
  {
   "cell_type": "code",
   "execution_count": 25,
   "metadata": {
    "execution": {
     "iopub.execute_input": "2020-12-22T00:12:45.769614Z",
     "iopub.status.busy": "2020-12-22T00:12:45.769107Z",
     "iopub.status.idle": "2020-12-22T00:12:45.788314Z",
     "shell.execute_reply": "2020-12-22T00:12:45.788729Z"
    },
    "papermill": {
     "duration": 0.063283,
     "end_time": "2020-12-22T00:12:45.788877",
     "exception": false,
     "start_time": "2020-12-22T00:12:45.725594",
     "status": "completed"
    },
    "tags": []
   },
   "outputs": [],
   "source": [
    "plot_testing = model_new(testing_xdata)"
   ]
  },
  {
   "cell_type": "code",
   "execution_count": 26,
   "metadata": {
    "execution": {
     "iopub.execute_input": "2020-12-22T00:12:45.873540Z",
     "iopub.status.busy": "2020-12-22T00:12:45.873032Z",
     "iopub.status.idle": "2020-12-22T00:12:46.041042Z",
     "shell.execute_reply": "2020-12-22T00:12:46.040634Z"
    },
    "papermill": {
     "duration": 0.214636,
     "end_time": "2020-12-22T00:12:46.041152",
     "exception": false,
     "start_time": "2020-12-22T00:12:45.826516",
     "status": "completed"
    },
    "tags": []
   },
   "outputs": [
    {
     "data": {
      "text/plain": [
       "Text(0.5, 1.0, 'Outputs')"
      ]
     },
     "execution_count": 26,
     "metadata": {},
     "output_type": "execute_result"
    },
    {
     "data": {
      "image/png": "[encoded data removed]",
      "text/plain": [
       "<Figure size 576x504 with 1 Axes>"
      ]
     },
     "metadata": {
      "needs_background": "light"
     },
     "output_type": "display_data"
    }
   ],
   "source": [
    "plt.figure(figsize=(8,7))\n",
    "plt.scatter(plot_testing[:,0], plot_testing[:,1], alpha = 0.1, c = y_test.ravel());\n",
    "plt.title('Outputs')"
   ]
  },
  {
   "cell_type": "markdown",
   "metadata": {
    "papermill": {
     "duration": 0.039209,
     "end_time": "2020-12-22T00:12:46.120183",
     "exception": false,
     "start_time": "2020-12-22T00:12:46.080974",
     "status": "completed"
    },
    "tags": []
   },
   "source": [
    "### Plotting probability contours"
   ]
  },
  {
   "cell_type": "code",
   "execution_count": 27,
   "metadata": {
    "execution": {
     "iopub.execute_input": "2020-12-22T00:12:46.203831Z",
     "iopub.status.busy": "2020-12-22T00:12:46.203318Z",
     "iopub.status.idle": "2020-12-22T00:12:46.213499Z",
     "shell.execute_reply": "2020-12-22T00:12:46.213093Z"
    },
    "papermill": {
     "duration": 0.054922,
     "end_time": "2020-12-22T00:12:46.213618",
     "exception": false,
     "start_time": "2020-12-22T00:12:46.158696",
     "status": "completed"
    },
    "tags": []
   },
   "outputs": [],
   "source": [
    "model_prob = Model(layers[-2:]) "
   ]
  },
  {
   "cell_type": "code",
   "execution_count": 28,
   "metadata": {
    "execution": {
     "iopub.execute_input": "2020-12-22T00:12:46.312650Z",
     "iopub.status.busy": "2020-12-22T00:12:46.303647Z",
     "iopub.status.idle": "2020-12-22T00:12:46.316822Z",
     "shell.execute_reply": "2020-12-22T00:12:46.317518Z"
    },
    "papermill": {
     "duration": 0.06532,
     "end_time": "2020-12-22T00:12:46.317660",
     "exception": false,
     "start_time": "2020-12-22T00:12:46.252340",
     "status": "completed"
    },
    "tags": []
   },
   "outputs": [],
   "source": [
    "# Adjust the x and y ranges according to the above generated plot.\n",
    "x_range = np.linspace(-4, 1, 100) \n",
    "y_range = np.linspace(-6, 6, 100) \n",
    "x_grid, y_grid = np.meshgrid(x_range, y_range) # x_grid and y_grig are of size 100 X 100\n",
    "\n",
    "# converting x_grid and y_grid to continuous arrays\n",
    "x_grid_flat = np.ravel(x_grid)\n",
    "y_grid_flat = np.ravel(y_grid)\n",
    "\n",
    "# The last layer of the current model takes two columns as input. Hence transpose of np.vstack() is required.\n",
    "X = np.vstack((x_grid_flat, y_grid_flat)).T\n",
    "\n",
    "# x_grid and y_grid are of size 100 x 100\n",
    "probability_contour = model_prob(X).reshape(100,100) "
   ]
  },
  {
   "cell_type": "code",
   "execution_count": 29,
   "metadata": {
    "execution": {
     "iopub.execute_input": "2020-12-22T00:12:46.436716Z",
     "iopub.status.busy": "2020-12-22T00:12:46.436070Z",
     "iopub.status.idle": "2020-12-22T00:12:46.655675Z",
     "shell.execute_reply": "2020-12-22T00:12:46.654734Z"
    },
    "papermill": {
     "duration": 0.298402,
     "end_time": "2020-12-22T00:12:46.655843",
     "exception": false,
     "start_time": "2020-12-22T00:12:46.357441",
     "status": "completed"
    },
    "tags": []
   },
   "outputs": [
    {
     "data": {
      "image/png": "[encoded data removed]",
      "text/plain": [
       "<Figure size 720x648 with 1 Axes>"
      ]
     },
     "metadata": {
      "needs_background": "light"
     },
     "output_type": "display_data"
    }
   ],
   "source": [
    "plt.figure(figsize=(10,9))\n",
    "plt.scatter(plot_testing[:,0], plot_testing[:,1], alpha = 0.1, c = y_test.ravel())\n",
    "contours = plt.contour(x_grid,y_grid,probability_contour)\n",
    "plt.title('Probability Contours')\n",
    "plt.clabel(contours, inline = True );"
   ]
  }
 ],
 "metadata": {
  "kernelspec": {
   "display_name": "Python 3",
   "language": "python",
   "name": "python3"
  },
  "language_info": {
   "codemirror_mode": {
    "name": "ipython",
    "version": 3
   },
   "file_extension": ".py",
   "mimetype": "text/x-python",
   "name": "python",
   "nbconvert_exporter": "python",
   "pygments_lexer": "ipython3",
   "version": "3.6.12"
  },
  "papermill": {
   "duration": 114.297897,
   "end_time": "2020-12-22T00:12:48.069123",
   "environment_variables": {},
   "exception": null,
   "input_path": "2020-08-11-NeuralNetwork.ipynb",
   "output_path": "2020-08-11-NeuralNetwork.ipynb",
   "parameters": {},
   "start_time": "2020-12-22T00:10:53.771226",
   "version": "2.1.2"
  }
 },
 "nbformat": 4,
 "nbformat_minor": 4
}