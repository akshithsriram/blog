{
 "cells": [
  {
   "cell_type": "markdown",
   "metadata": {
    "papermill": {
     "duration": 0.03363,
     "end_time": "2020-09-23T10:04:24.413969",
     "exception": false,
     "start_time": "2020-09-23T10:04:24.380339",
     "status": "completed"
    },
    "tags": []
   },
   "source": [
    "# \"A Basic Neural Network: Differentiate Hand-Written Digits\"\n",
    "\n",
    "- badges: true\n",
    "- author: Akshith Sriram"
   ]
  },
  {
   "cell_type": "markdown",
   "metadata": {
    "papermill": {
     "duration": 0.045513,
     "end_time": "2020-09-23T10:04:24.595070",
     "exception": false,
     "start_time": "2020-09-23T10:04:24.549557",
     "status": "completed"
    },
    "tags": []
   },
   "source": [
    "### Key Objectives:\n",
    "- Building a neural network that differentiates two hand-written digits 3 and 8.\n",
    "- Comparing the results of this Neural Network (NN) to that of a Logistic Regression (LR) model.\n",
    "\n",
    "### Requirements:\n",
    "- 'Kudzu' : A neural network library that was designed during our course by [Univ.AI](www.univ.ai). \n",
    "- MNIST Database\n",
    "\n",
    "If MNIST is not installed, use the command `!pip install mnist` given below.\n",
    "It can be run both from the command line and Jupyter Notebook."
   ]
  },
  {
   "cell_type": "code",
   "execution_count": 1,
   "metadata": {
    "execution": {
     "iopub.execute_input": "2020-09-23T10:04:24.655546Z",
     "iopub.status.busy": "2020-09-23T10:04:24.654900Z",
     "iopub.status.idle": "2020-09-23T10:04:26.218792Z",
     "shell.execute_reply": "2020-09-23T10:04:26.219458Z"
    },
    "papermill": {
     "duration": 1.596087,
     "end_time": "2020-09-23T10:04:26.219665",
     "exception": false,
     "start_time": "2020-09-23T10:04:24.623578",
     "status": "completed"
    },
    "tags": []
   },
   "outputs": [
    {
     "name": "stdout",
     "output_type": "stream",
     "text": [
      "Collecting mnist\r\n"
     ]
    },
    {
     "name": "stdout",
     "output_type": "stream",
     "text": [
      "  Downloading mnist-0.2.2-py2.py3-none-any.whl (3.5 kB)\r\n"
     ]
    },
    {
     "name": "stdout",
     "output_type": "stream",
     "text": [
      "Requirement already satisfied: numpy in /opt/hostedtoolcache/Python/3.6.12/x64/lib/python3.6/site-packages (from mnist) (1.19.2)\r\n"
     ]
    },
    {
     "name": "stdout",
     "output_type": "stream",
     "text": [
      "Installing collected packages: mnist\r\n"
     ]
    },
    {
     "name": "stdout",
     "output_type": "stream",
     "text": [
      "Successfully installed mnist-0.2.2\r\n"
     ]
    }
   ],
   "source": [
    "!pip install mnist "
   ]
  },
  {
   "cell_type": "markdown",
   "metadata": {
    "papermill": {
     "duration": 0.030529,
     "end_time": "2020-09-23T10:04:26.279774",
     "exception": false,
     "start_time": "2020-09-23T10:04:26.249245",
     "status": "completed"
    },
    "tags": []
   },
   "source": [
    "#### Importing necessary libraries"
   ]
  },
  {
   "cell_type": "code",
   "execution_count": 2,
   "metadata": {
    "execution": {
     "iopub.execute_input": "2020-09-23T10:04:26.346703Z",
     "iopub.status.busy": "2020-09-23T10:04:26.346083Z",
     "iopub.status.idle": "2020-09-23T10:04:26.930027Z",
     "shell.execute_reply": "2020-09-23T10:04:26.929459Z"
    },
    "papermill": {
     "duration": 0.62097,
     "end_time": "2020-09-23T10:04:26.930202",
     "exception": false,
     "start_time": "2020-09-23T10:04:26.309232",
     "status": "completed"
    },
    "tags": []
   },
   "outputs": [],
   "source": [
    "%load_ext autoreload\n",
    "%autoreload 2\n",
    "\n",
    "%matplotlib inline\n",
    "import matplotlib.pyplot as plt\n",
    "\n",
    "import numpy as np\n",
    "import pandas as pd"
   ]
  },
  {
   "cell_type": "markdown",
   "metadata": {
    "papermill": {
     "duration": 0.03025,
     "end_time": "2020-09-23T10:04:26.992369",
     "exception": false,
     "start_time": "2020-09-23T10:04:26.962119",
     "status": "completed"
    },
    "tags": []
   },
   "source": [
    "### Preparing the Data"
   ]
  },
  {
   "cell_type": "code",
   "execution_count": 3,
   "metadata": {
    "execution": {
     "iopub.execute_input": "2020-09-23T10:04:27.061215Z",
     "iopub.status.busy": "2020-09-23T10:04:27.060563Z",
     "iopub.status.idle": "2020-09-23T10:04:27.073459Z",
     "shell.execute_reply": "2020-09-23T10:04:27.074118Z"
    },
    "papermill": {
     "duration": 0.051124,
     "end_time": "2020-09-23T10:04:27.074271",
     "exception": false,
     "start_time": "2020-09-23T10:04:27.023147",
     "status": "completed"
    },
    "tags": []
   },
   "outputs": [],
   "source": [
    "import mnist"
   ]
  },
  {
   "cell_type": "code",
   "execution_count": 4,
   "metadata": {
    "execution": {
     "iopub.execute_input": "2020-09-23T10:04:27.138256Z",
     "iopub.status.busy": "2020-09-23T10:04:27.137539Z",
     "iopub.status.idle": "2020-09-23T10:04:28.128411Z",
     "shell.execute_reply": "2020-09-23T10:04:28.129030Z"
    },
    "papermill": {
     "duration": 1.02484,
     "end_time": "2020-09-23T10:04:28.129198",
     "exception": false,
     "start_time": "2020-09-23T10:04:27.104358",
     "status": "completed"
    },
    "tags": []
   },
   "outputs": [],
   "source": [
    "train_images = mnist.train_images()\n",
    "train_labels = mnist.train_labels()"
   ]
  },
  {
   "cell_type": "code",
   "execution_count": 5,
   "metadata": {
    "execution": {
     "iopub.execute_input": "2020-09-23T10:04:28.192910Z",
     "iopub.status.busy": "2020-09-23T10:04:28.192209Z",
     "iopub.status.idle": "2020-09-23T10:04:28.208760Z",
     "shell.execute_reply": "2020-09-23T10:04:28.209488Z"
    },
    "papermill": {
     "duration": 0.050638,
     "end_time": "2020-09-23T10:04:28.209706",
     "exception": false,
     "start_time": "2020-09-23T10:04:28.159068",
     "status": "completed"
    },
    "tags": []
   },
   "outputs": [
    {
     "data": {
      "text/plain": [
       "((60000, 28, 28), (60000,))"
      ]
     },
     "execution_count": 5,
     "metadata": {},
     "output_type": "execute_result"
    }
   ],
   "source": [
    "train_images.shape, train_labels.shape"
   ]
  },
  {
   "cell_type": "code",
   "execution_count": 6,
   "metadata": {
    "execution": {
     "iopub.execute_input": "2020-09-23T10:04:28.272855Z",
     "iopub.status.busy": "2020-09-23T10:04:28.272199Z",
     "iopub.status.idle": "2020-09-23T10:04:28.715919Z",
     "shell.execute_reply": "2020-09-23T10:04:28.715309Z"
    },
    "papermill": {
     "duration": 0.476059,
     "end_time": "2020-09-23T10:04:28.716059",
     "exception": false,
     "start_time": "2020-09-23T10:04:28.240000",
     "status": "completed"
    },
    "tags": []
   },
   "outputs": [],
   "source": [
    "test_images = mnist.test_images()\n",
    "test_labels = mnist.test_labels()"
   ]
  },
  {
   "cell_type": "code",
   "execution_count": 7,
   "metadata": {
    "execution": {
     "iopub.execute_input": "2020-09-23T10:04:28.779100Z",
     "iopub.status.busy": "2020-09-23T10:04:28.778414Z",
     "iopub.status.idle": "2020-09-23T10:04:28.792375Z",
     "shell.execute_reply": "2020-09-23T10:04:28.791824Z"
    },
    "papermill": {
     "duration": 0.04636,
     "end_time": "2020-09-23T10:04:28.792499",
     "exception": false,
     "start_time": "2020-09-23T10:04:28.746139",
     "status": "completed"
    },
    "tags": []
   },
   "outputs": [
    {
     "data": {
      "text/plain": [
       "((10000, 28, 28), (10000,))"
      ]
     },
     "execution_count": 7,
     "metadata": {},
     "output_type": "execute_result"
    }
   ],
   "source": [
    "test_images.shape, test_labels.shape"
   ]
  },
  {
   "cell_type": "code",
   "execution_count": 8,
   "metadata": {
    "execution": {
     "iopub.execute_input": "2020-09-23T10:04:28.857093Z",
     "iopub.status.busy": "2020-09-23T10:04:28.856511Z",
     "iopub.status.idle": "2020-09-23T10:04:29.033166Z",
     "shell.execute_reply": "2020-09-23T10:04:29.032670Z"
    },
    "papermill": {
     "duration": 0.209697,
     "end_time": "2020-09-23T10:04:29.033296",
     "exception": false,
     "start_time": "2020-09-23T10:04:28.823599",
     "status": "completed"
    },
    "tags": []
   },
   "outputs": [
    {
     "name": "stdout",
     "output_type": "stream",
     "text": [
      "2\n"
     ]
    },
    {
     "data": {
      "text/plain": [
       "<matplotlib.image.AxesImage at 0x7f6c515467f0>"
      ]
     },
     "execution_count": 8,
     "metadata": {},
     "output_type": "execute_result"
    },
    {
     "data": {
      "image/png": "[encoded data removed]",
      "text/plain": [
       "<Figure size 432x288 with 1 Axes>"
      ]
     },
     "metadata": {
      "needs_background": "light"
     },
     "output_type": "display_data"
    }
   ],
   "source": [
    "image_index = 7776 # You may select anything up to 60,000\n",
    "print(train_labels[image_index]) \n",
    "plt.imshow(train_images[image_index], cmap='Greys')"
   ]
  },
  {
   "cell_type": "markdown",
   "metadata": {
    "papermill": {
     "duration": 0.030936,
     "end_time": "2020-09-23T10:04:29.097198",
     "exception": false,
     "start_time": "2020-09-23T10:04:29.066262",
     "status": "completed"
    },
    "tags": []
   },
   "source": [
    "## Filter data to get 3 and 8 out"
   ]
  },
  {
   "cell_type": "code",
   "execution_count": 9,
   "metadata": {
    "execution": {
     "iopub.execute_input": "2020-09-23T10:04:29.162744Z",
     "iopub.status.busy": "2020-09-23T10:04:29.161929Z",
     "iopub.status.idle": "2020-09-23T10:04:29.180930Z",
     "shell.execute_reply": "2020-09-23T10:04:29.180429Z"
    },
    "papermill": {
     "duration": 0.052919,
     "end_time": "2020-09-23T10:04:29.181086",
     "exception": false,
     "start_time": "2020-09-23T10:04:29.128167",
     "status": "completed"
    },
    "tags": []
   },
   "outputs": [],
   "source": [
    "train_filter = np.where((train_labels == 3 ) | (train_labels == 8))\n",
    "test_filter = np.where((test_labels == 3) | (test_labels == 8))\n",
    "X_train, y_train = train_images[train_filter], train_labels[train_filter]\n",
    "X_test, y_test = test_images[test_filter], test_labels[test_filter]"
   ]
  },
  {
   "cell_type": "markdown",
   "metadata": {
    "papermill": {
     "duration": 0.03285,
     "end_time": "2020-09-23T10:04:29.243936",
     "exception": false,
     "start_time": "2020-09-23T10:04:29.211086",
     "status": "completed"
    },
    "tags": []
   },
   "source": [
    "We normalize the pixel values in the 0 to 1 range"
   ]
  },
  {
   "cell_type": "code",
   "execution_count": 10,
   "metadata": {
    "execution": {
     "iopub.execute_input": "2020-09-23T10:04:29.309378Z",
     "iopub.status.busy": "2020-09-23T10:04:29.308752Z",
     "iopub.status.idle": "2020-09-23T10:04:29.372427Z",
     "shell.execute_reply": "2020-09-23T10:04:29.371764Z"
    },
    "papermill": {
     "duration": 0.096931,
     "end_time": "2020-09-23T10:04:29.372583",
     "exception": false,
     "start_time": "2020-09-23T10:04:29.275652",
     "status": "completed"
    },
    "tags": []
   },
   "outputs": [],
   "source": [
    "X_train = X_train/255.\n",
    "X_test = X_test/255."
   ]
  },
  {
   "cell_type": "markdown",
   "metadata": {
    "papermill": {
     "duration": 0.036239,
     "end_time": "2020-09-23T10:04:29.441006",
     "exception": false,
     "start_time": "2020-09-23T10:04:29.404767",
     "status": "completed"
    },
    "tags": []
   },
   "source": [
    "Setup the labels as 1 (when the digit is 3) and 0 (when the digit is 8)"
   ]
  },
  {
   "cell_type": "code",
   "execution_count": 11,
   "metadata": {
    "execution": {
     "iopub.execute_input": "2020-09-23T10:04:29.518209Z",
     "iopub.status.busy": "2020-09-23T10:04:29.516263Z",
     "iopub.status.idle": "2020-09-23T10:04:29.532607Z",
     "shell.execute_reply": "2020-09-23T10:04:29.531293Z"
    },
    "papermill": {
     "duration": 0.059727,
     "end_time": "2020-09-23T10:04:29.532735",
     "exception": false,
     "start_time": "2020-09-23T10:04:29.473008",
     "status": "completed"
    },
    "tags": []
   },
   "outputs": [],
   "source": [
    "y_train = 1*(y_train==3)\n",
    "y_test = 1*(y_test==3)"
   ]
  },
  {
   "cell_type": "code",
   "execution_count": 12,
   "metadata": {
    "execution": {
     "iopub.execute_input": "2020-09-23T10:04:29.858096Z",
     "iopub.status.busy": "2020-09-23T10:04:29.857487Z",
     "iopub.status.idle": "2020-09-23T10:04:29.871290Z",
     "shell.execute_reply": "2020-09-23T10:04:29.870802Z"
    },
    "papermill": {
     "duration": 0.213365,
     "end_time": "2020-09-23T10:04:29.871407",
     "exception": false,
     "start_time": "2020-09-23T10:04:29.658042",
     "status": "completed"
    },
    "tags": []
   },
   "outputs": [
    {
     "data": {
      "text/plain": [
       "((11982, 28, 28), (1984, 28, 28))"
      ]
     },
     "execution_count": 12,
     "metadata": {},
     "output_type": "execute_result"
    }
   ],
   "source": [
    "X_train.shape, X_test.shape"
   ]
  },
  {
   "cell_type": "markdown",
   "metadata": {
    "papermill": {
     "duration": 0.030784,
     "end_time": "2020-09-23T10:04:30.032531",
     "exception": false,
     "start_time": "2020-09-23T10:04:30.001747",
     "status": "completed"
    },
    "tags": []
   },
   "source": [
    "### Reshape the input data to create a linear array"
   ]
  },
  {
   "cell_type": "code",
   "execution_count": 13,
   "metadata": {
    "execution": {
     "iopub.execute_input": "2020-09-23T10:04:30.099377Z",
     "iopub.status.busy": "2020-09-23T10:04:30.098689Z",
     "iopub.status.idle": "2020-09-23T10:04:30.112937Z",
     "shell.execute_reply": "2020-09-23T10:04:30.112418Z"
    },
    "papermill": {
     "duration": 0.049557,
     "end_time": "2020-09-23T10:04:30.113068",
     "exception": false,
     "start_time": "2020-09-23T10:04:30.063511",
     "status": "completed"
    },
    "tags": []
   },
   "outputs": [
    {
     "data": {
      "text/plain": [
       "((11982, 784), (1984, 784))"
      ]
     },
     "execution_count": 13,
     "metadata": {},
     "output_type": "execute_result"
    }
   ],
   "source": [
    "X_train = X_train.reshape(X_train.shape[0], -1)\n",
    "X_test = X_test.reshape(X_test.shape[0], -1)\n",
    "X_train.shape, X_test.shape"
   ]
  },
  {
   "cell_type": "markdown",
   "metadata": {
    "papermill": {
     "duration": 0.031251,
     "end_time": "2020-09-23T10:04:30.176185",
     "exception": false,
     "start_time": "2020-09-23T10:04:30.144934",
     "status": "completed"
    },
    "tags": []
   },
   "source": [
    "### Importing appropriate functions from 'Kudzu'"
   ]
  },
  {
   "cell_type": "code",
   "execution_count": 14,
   "metadata": {
    "execution": {
     "iopub.execute_input": "2020-09-23T10:04:30.242726Z",
     "iopub.status.busy": "2020-09-23T10:04:30.242045Z",
     "iopub.status.idle": "2020-09-23T10:04:30.260989Z",
     "shell.execute_reply": "2020-09-23T10:04:30.260453Z"
    },
    "papermill": {
     "duration": 0.053615,
     "end_time": "2020-09-23T10:04:30.261145",
     "exception": false,
     "start_time": "2020-09-23T10:04:30.207530",
     "status": "completed"
    },
    "tags": []
   },
   "outputs": [],
   "source": [
    "from kudzu.layer import Sigmoid\n",
    "from kudzu.layer import Relu\n",
    "from kudzu.layer import Affine, Sigmoid\n",
    "\n",
    "from kudzu.model import Model\n",
    "from kudzu.train import Learner\n",
    "from kudzu.optim import GD\n",
    "from kudzu.data import Data, Dataloader, Sampler\n",
    "\n",
    "from kudzu.callbacks import AccCallback\n",
    "from kudzu.callbacks import ClfCallback\n",
    "\n",
    "from kudzu.loss import MSE"
   ]
  },
  {
   "cell_type": "markdown",
   "metadata": {
    "papermill": {
     "duration": 0.035962,
     "end_time": "2020-09-23T10:04:30.331878",
     "exception": false,
     "start_time": "2020-09-23T10:04:30.295916",
     "status": "completed"
    },
    "tags": []
   },
   "source": [
    "### Let us create a `Config` class, to store important parameters. \n",
    "This class essentially plays the role of a dictionary."
   ]
  },
  {
   "cell_type": "code",
   "execution_count": 15,
   "metadata": {
    "execution": {
     "iopub.execute_input": "2020-09-23T10:04:30.405521Z",
     "iopub.status.busy": "2020-09-23T10:04:30.404775Z",
     "iopub.status.idle": "2020-09-23T10:04:30.417476Z",
     "shell.execute_reply": "2020-09-23T10:04:30.417973Z"
    },
    "papermill": {
     "duration": 0.052882,
     "end_time": "2020-09-23T10:04:30.418109",
     "exception": false,
     "start_time": "2020-09-23T10:04:30.365227",
     "status": "completed"
    },
    "tags": []
   },
   "outputs": [],
   "source": [
    "class Config:\n",
    "    pass\n",
    "config = Config()\n",
    "config.lr = 0.001\n",
    "config.num_epochs = 251\n",
    "config.bs = 50"
   ]
  },
  {
   "cell_type": "markdown",
   "metadata": {
    "papermill": {
     "duration": 0.031322,
     "end_time": "2020-09-23T10:04:30.480183",
     "exception": false,
     "start_time": "2020-09-23T10:04:30.448861",
     "status": "completed"
    },
    "tags": []
   },
   "source": [
    "### Initializing data to the variables"
   ]
  },
  {
   "cell_type": "code",
   "execution_count": 16,
   "metadata": {
    "execution": {
     "iopub.execute_input": "2020-09-23T10:04:30.545035Z",
     "iopub.status.busy": "2020-09-23T10:04:30.544388Z",
     "iopub.status.idle": "2020-09-23T10:04:30.556128Z",
     "shell.execute_reply": "2020-09-23T10:04:30.556594Z"
    },
    "papermill": {
     "duration": 0.046121,
     "end_time": "2020-09-23T10:04:30.556717",
     "exception": false,
     "start_time": "2020-09-23T10:04:30.510596",
     "status": "completed"
    },
    "tags": []
   },
   "outputs": [],
   "source": [
    "data = Data(X_train, y_train.reshape(-1,1))\n",
    "sampler = Sampler(data, config.bs, shuffle=True)\n",
    "\n",
    "dl = Dataloader(data, sampler)\n",
    "\n",
    "opt = GD(config.lr)\n",
    "loss = MSE()"
   ]
  },
  {
   "cell_type": "code",
   "execution_count": 17,
   "metadata": {
    "execution": {
     "iopub.execute_input": "2020-09-23T10:04:30.626655Z",
     "iopub.status.busy": "2020-09-23T10:04:30.625909Z",
     "iopub.status.idle": "2020-09-23T10:04:30.639600Z",
     "shell.execute_reply": "2020-09-23T10:04:30.640084Z"
    },
    "papermill": {
     "duration": 0.052586,
     "end_time": "2020-09-23T10:04:30.640210",
     "exception": false,
     "start_time": "2020-09-23T10:04:30.587624",
     "status": "completed"
    },
    "tags": []
   },
   "outputs": [],
   "source": [
    "training_xdata = X_train\n",
    "testing_xdata = X_test\n",
    "training_ydata = y_train.reshape(-1,1)\n",
    "testing_ydata = y_test.reshape(-1,1)"
   ]
  },
  {
   "cell_type": "markdown",
   "metadata": {
    "papermill": {
     "duration": 0.032109,
     "end_time": "2020-09-23T10:04:30.704140",
     "exception": false,
     "start_time": "2020-09-23T10:04:30.672031",
     "status": "completed"
    },
    "tags": []
   },
   "source": [
    "### Running Models with the Training data\n",
    "Details about the network layers:\n",
    "- A first affine layer has 784 inputs and does 100 affine transforms. These are followed by a Relu\n",
    "- A second affine layer has 100 inputs from the 100 activations of the past layer, and does 100 affine transforms. These are followed by a Relu\n",
    "- A third affine layer has 100 activations and does 2 affine transformations to create an embedding for visualization. There is no non-linearity here.\n",
    "- A final \"logistic regression\" which has an affine transform from 2 inputs to 1 output, which is squeezed through a sigmoid.\n",
    "\n",
    "Help taken from Anshuman's Notebook."
   ]
  },
  {
   "cell_type": "code",
   "execution_count": 18,
   "metadata": {
    "execution": {
     "iopub.execute_input": "2020-09-23T10:04:30.770206Z",
     "iopub.status.busy": "2020-09-23T10:04:30.769499Z",
     "iopub.status.idle": "2020-09-23T10:04:30.785748Z",
     "shell.execute_reply": "2020-09-23T10:04:30.786400Z"
    },
    "papermill": {
     "duration": 0.052113,
     "end_time": "2020-09-23T10:04:30.786532",
     "exception": false,
     "start_time": "2020-09-23T10:04:30.734419",
     "status": "completed"
    },
    "tags": []
   },
   "outputs": [],
   "source": [
    "# layers for the Neural Network\n",
    "layers = [Affine(\"first\", 784, 100), Relu(\"first\"), Affine(\"second\", 100, 100), Relu(\"second\"), Affine(\"third\", 100, 2), Affine(\"final\", 2, 1), Sigmoid(\"final\")]\n",
    "model_nn = Model(layers)\n",
    "\n",
    "# layers for the Logistic Regression\n",
    "layers_lr = [Affine(\"logits\", 784, 1), Sigmoid(\"sigmoid\")]\n",
    "model_lr = Model(layers_lr)"
   ]
  },
  {
   "cell_type": "code",
   "execution_count": 19,
   "metadata": {
    "execution": {
     "iopub.execute_input": "2020-09-23T10:04:30.854881Z",
     "iopub.status.busy": "2020-09-23T10:04:30.853495Z",
     "iopub.status.idle": "2020-09-23T10:04:30.866136Z",
     "shell.execute_reply": "2020-09-23T10:04:30.865627Z"
    },
    "papermill": {
     "duration": 0.049164,
     "end_time": "2020-09-23T10:04:30.866250",
     "exception": false,
     "start_time": "2020-09-23T10:04:30.817086",
     "status": "completed"
    },
    "tags": []
   },
   "outputs": [],
   "source": [
    "# suffix _nn stands for Neural Network.\n",
    "learner_nn = Learner(loss, model_nn, opt, config.num_epochs)\n",
    "acc_nn = ClfCallback(learner_nn, config.bs, training_xdata , testing_xdata, training_ydata, testing_ydata)\n",
    "learner_nn.set_callbacks([acc_nn])"
   ]
  },
  {
   "cell_type": "code",
   "execution_count": 20,
   "metadata": {
    "execution": {
     "iopub.execute_input": "2020-09-23T10:04:30.940531Z",
     "iopub.status.busy": "2020-09-23T10:04:30.939787Z",
     "iopub.status.idle": "2020-09-23T10:06:49.284913Z",
     "shell.execute_reply": "2020-09-23T10:06:49.285727Z"
    },
    "papermill": {
     "duration": 138.386275,
     "end_time": "2020-09-23T10:06:49.285897",
     "exception": false,
     "start_time": "2020-09-23T10:04:30.899622",
     "status": "completed"
    },
    "tags": []
   },
   "outputs": [
    {
     "name": "stdout",
     "output_type": "stream",
     "text": [
      "====== Neural Network ======\n"
     ]
    },
    {
     "name": "stdout",
     "output_type": "stream",
     "text": [
      "Epoch 0, Loss 0.2504\n",
      "Training Accuracy: 0.4155, Testing Accuracy: 0.4118\n",
      "\n"
     ]
    },
    {
     "name": "stdout",
     "output_type": "stream",
     "text": [
      "Epoch 10, Loss 0.2498\n",
      "Training Accuracy: 0.5107, Testing Accuracy: 0.5126\n",
      "\n"
     ]
    },
    {
     "name": "stdout",
     "output_type": "stream",
     "text": [
      "Epoch 20, Loss 0.2486\n",
      "Training Accuracy: 0.5368, Testing Accuracy: 0.5343\n",
      "\n"
     ]
    },
    {
     "name": "stdout",
     "output_type": "stream",
     "text": [
      "Epoch 30, Loss 0.242\n",
      "Training Accuracy: 0.7403, Testing Accuracy: 0.7440\n",
      "\n"
     ]
    },
    {
     "name": "stdout",
     "output_type": "stream",
     "text": [
      "Epoch 40, Loss 0.2002\n",
      "Training Accuracy: 0.8792, Testing Accuracy: 0.8896\n",
      "\n"
     ]
    },
    {
     "name": "stdout",
     "output_type": "stream",
     "text": [
      "Epoch 50, Loss 0.0984\n",
      "Training Accuracy: 0.9122, Testing Accuracy: 0.9234\n",
      "\n"
     ]
    },
    {
     "name": "stdout",
     "output_type": "stream",
     "text": [
      "Epoch 60, Loss 0.0613\n",
      "Training Accuracy: 0.9342, Testing Accuracy: 0.9476\n",
      "\n"
     ]
    },
    {
     "name": "stdout",
     "output_type": "stream",
     "text": [
      "Epoch 70, Loss 0.048\n",
      "Training Accuracy: 0.9470, Testing Accuracy: 0.9587\n",
      "\n"
     ]
    },
    {
     "name": "stdout",
     "output_type": "stream",
     "text": [
      "Epoch 80, Loss 0.0413\n",
      "Training Accuracy: 0.9518, Testing Accuracy: 0.9632\n",
      "\n"
     ]
    },
    {
     "name": "stdout",
     "output_type": "stream",
     "text": [
      "Epoch 90, Loss 0.0372\n",
      "Training Accuracy: 0.9569, Testing Accuracy: 0.9642\n",
      "\n"
     ]
    },
    {
     "name": "stdout",
     "output_type": "stream",
     "text": [
      "Epoch 100, Loss 0.0344\n",
      "Training Accuracy: 0.9607, Testing Accuracy: 0.9677\n",
      "\n"
     ]
    },
    {
     "name": "stdout",
     "output_type": "stream",
     "text": [
      "Epoch 110, Loss 0.0323\n",
      "Training Accuracy: 0.9634, Testing Accuracy: 0.9682\n",
      "\n"
     ]
    },
    {
     "name": "stdout",
     "output_type": "stream",
     "text": [
      "Epoch 120, Loss 0.0307\n",
      "Training Accuracy: 0.9655, Testing Accuracy: 0.9708\n",
      "\n"
     ]
    },
    {
     "name": "stdout",
     "output_type": "stream",
     "text": [
      "Epoch 130, Loss 0.0294\n",
      "Training Accuracy: 0.9675, Testing Accuracy: 0.9708\n",
      "\n"
     ]
    },
    {
     "name": "stdout",
     "output_type": "stream",
     "text": [
      "Epoch 140, Loss 0.0283\n",
      "Training Accuracy: 0.9678, Testing Accuracy: 0.9718\n",
      "\n"
     ]
    },
    {
     "name": "stdout",
     "output_type": "stream",
     "text": [
      "Epoch 150, Loss 0.0273\n",
      "Training Accuracy: 0.9687, Testing Accuracy: 0.9718\n",
      "\n"
     ]
    },
    {
     "name": "stdout",
     "output_type": "stream",
     "text": [
      "Epoch 160, Loss 0.0265\n",
      "Training Accuracy: 0.9691, Testing Accuracy: 0.9708\n",
      "\n"
     ]
    },
    {
     "name": "stdout",
     "output_type": "stream",
     "text": [
      "Epoch 170, Loss 0.0257\n",
      "Training Accuracy: 0.9700, Testing Accuracy: 0.9708\n",
      "\n"
     ]
    },
    {
     "name": "stdout",
     "output_type": "stream",
     "text": [
      "Epoch 180, Loss 0.0251\n",
      "Training Accuracy: 0.9707, Testing Accuracy: 0.9718\n",
      "\n"
     ]
    },
    {
     "name": "stdout",
     "output_type": "stream",
     "text": [
      "Epoch 190, Loss 0.0245\n",
      "Training Accuracy: 0.9713, Testing Accuracy: 0.9718\n",
      "\n"
     ]
    },
    {
     "name": "stdout",
     "output_type": "stream",
     "text": [
      "Epoch 200, Loss 0.0239\n",
      "Training Accuracy: 0.9724, Testing Accuracy: 0.9718\n",
      "\n"
     ]
    },
    {
     "name": "stdout",
     "output_type": "stream",
     "text": [
      "Epoch 210, Loss 0.0234\n",
      "Training Accuracy: 0.9731, Testing Accuracy: 0.9723\n",
      "\n"
     ]
    },
    {
     "name": "stdout",
     "output_type": "stream",
     "text": [
      "Epoch 220, Loss 0.0229\n",
      "Training Accuracy: 0.9742, Testing Accuracy: 0.9728\n",
      "\n"
     ]
    },
    {
     "name": "stdout",
     "output_type": "stream",
     "text": [
      "Epoch 230, Loss 0.0225\n",
      "Training Accuracy: 0.9746, Testing Accuracy: 0.9723\n",
      "\n"
     ]
    },
    {
     "name": "stdout",
     "output_type": "stream",
     "text": [
      "Epoch 240, Loss 0.022\n",
      "Training Accuracy: 0.9750, Testing Accuracy: 0.9718\n",
      "\n"
     ]
    },
    {
     "name": "stdout",
     "output_type": "stream",
     "text": [
      "Epoch 250, Loss 0.0216\n",
      "Training Accuracy: 0.9756, Testing Accuracy: 0.9723\n",
      "\n"
     ]
    },
    {
     "data": {
      "text/plain": [
       "0.015790508323862095"
      ]
     },
     "execution_count": 20,
     "metadata": {},
     "output_type": "execute_result"
    }
   ],
   "source": [
    "print(\"====== Neural Network ======\")\n",
    "learner_nn.train_loop(dl)"
   ]
  },
  {
   "cell_type": "markdown",
   "metadata": {
    "papermill": {
     "duration": 0.040956,
     "end_time": "2020-09-23T10:06:49.368068",
     "exception": false,
     "start_time": "2020-09-23T10:06:49.327112",
     "status": "completed"
    },
    "tags": []
   },
   "source": [
    "### Logistic Regression based Implementation."
   ]
  },
  {
   "cell_type": "code",
   "execution_count": 21,
   "metadata": {
    "execution": {
     "iopub.execute_input": "2020-09-23T10:06:49.454789Z",
     "iopub.status.busy": "2020-09-23T10:06:49.453296Z",
     "iopub.status.idle": "2020-09-23T10:06:49.466542Z",
     "shell.execute_reply": "2020-09-23T10:06:49.465955Z"
    },
    "papermill": {
     "duration": 0.05809,
     "end_time": "2020-09-23T10:06:49.466657",
     "exception": false,
     "start_time": "2020-09-23T10:06:49.408567",
     "status": "completed"
    },
    "tags": []
   },
   "outputs": [],
   "source": [
    "learner_lr = Learner(loss, model_lr, opt, config.num_epochs)\n",
    "acc_lr = ClfCallback(learner_lr, config.bs, training_xdata , testing_xdata, training_ydata, testing_ydata)\n",
    "learner_lr.set_callbacks([acc_lr])"
   ]
  },
  {
   "cell_type": "code",
   "execution_count": 22,
   "metadata": {
    "execution": {
     "iopub.execute_input": "2020-09-23T10:06:49.550804Z",
     "iopub.status.busy": "2020-09-23T10:06:49.549247Z",
     "iopub.status.idle": "2020-09-23T10:07:09.692949Z",
     "shell.execute_reply": "2020-09-23T10:07:09.693572Z"
    },
    "papermill": {
     "duration": 20.187659,
     "end_time": "2020-09-23T10:07:09.693725",
     "exception": false,
     "start_time": "2020-09-23T10:06:49.506066",
     "status": "completed"
    },
    "tags": []
   },
   "outputs": [
    {
     "name": "stdout",
     "output_type": "stream",
     "text": [
      "====== Logistic Regression ======\n",
      "Epoch 0, Loss 0.2405\n",
      "Training Accuracy: 0.6800, Testing Accuracy: 0.6794\n",
      "\n"
     ]
    },
    {
     "name": "stdout",
     "output_type": "stream",
     "text": [
      "Epoch 10, Loss 0.1067\n",
      "Training Accuracy: 0.9025, Testing Accuracy: 0.9113\n",
      "\n"
     ]
    },
    {
     "name": "stdout",
     "output_type": "stream",
     "text": [
      "Epoch 20, Loss 0.0812\n",
      "Training Accuracy: 0.9263, Testing Accuracy: 0.9274\n",
      "\n"
     ]
    },
    {
     "name": "stdout",
     "output_type": "stream",
     "text": [
      "Epoch 30, Loss 0.0694\n",
      "Training Accuracy: 0.9364, Testing Accuracy: 0.9420\n",
      "\n"
     ]
    },
    {
     "name": "stdout",
     "output_type": "stream",
     "text": [
      "Epoch 40, Loss 0.0624\n",
      "Training Accuracy: 0.9412, Testing Accuracy: 0.9481\n",
      "\n"
     ]
    },
    {
     "name": "stdout",
     "output_type": "stream",
     "text": [
      "Epoch 50, Loss 0.0577\n",
      "Training Accuracy: 0.9442, Testing Accuracy: 0.9506\n",
      "\n"
     ]
    },
    {
     "name": "stdout",
     "output_type": "stream",
     "text": [
      "Epoch 60, Loss 0.0542\n",
      "Training Accuracy: 0.9470, Testing Accuracy: 0.9531\n",
      "\n"
     ]
    },
    {
     "name": "stdout",
     "output_type": "stream",
     "text": [
      "Epoch 70, Loss 0.0515\n",
      "Training Accuracy: 0.9488, Testing Accuracy: 0.9561\n",
      "\n"
     ]
    },
    {
     "name": "stdout",
     "output_type": "stream",
     "text": [
      "Epoch 80, Loss 0.0494\n",
      "Training Accuracy: 0.9500, Testing Accuracy: 0.9561\n",
      "\n"
     ]
    },
    {
     "name": "stdout",
     "output_type": "stream",
     "text": [
      "Epoch 90, Loss 0.0477\n",
      "Training Accuracy: 0.9516, Testing Accuracy: 0.9582\n",
      "\n"
     ]
    },
    {
     "name": "stdout",
     "output_type": "stream",
     "text": [
      "Epoch 100, Loss 0.0462\n",
      "Training Accuracy: 0.9531, Testing Accuracy: 0.9582\n",
      "\n"
     ]
    },
    {
     "name": "stdout",
     "output_type": "stream",
     "text": [
      "Epoch 110, Loss 0.0449\n",
      "Training Accuracy: 0.9542, Testing Accuracy: 0.9597\n",
      "\n"
     ]
    },
    {
     "name": "stdout",
     "output_type": "stream",
     "text": [
      "Epoch 120, Loss 0.0438\n",
      "Training Accuracy: 0.9548, Testing Accuracy: 0.9607\n",
      "\n"
     ]
    },
    {
     "name": "stdout",
     "output_type": "stream",
     "text": [
      "Epoch 130, Loss 0.0429\n",
      "Training Accuracy: 0.9555, Testing Accuracy: 0.9637\n",
      "\n"
     ]
    },
    {
     "name": "stdout",
     "output_type": "stream",
     "text": [
      "Epoch 140, Loss 0.042\n",
      "Training Accuracy: 0.9562, Testing Accuracy: 0.9632\n",
      "\n"
     ]
    },
    {
     "name": "stdout",
     "output_type": "stream",
     "text": [
      "Epoch 150, Loss 0.0413\n",
      "Training Accuracy: 0.9570, Testing Accuracy: 0.9652\n",
      "\n"
     ]
    },
    {
     "name": "stdout",
     "output_type": "stream",
     "text": [
      "Epoch 160, Loss 0.0406\n",
      "Training Accuracy: 0.9574, Testing Accuracy: 0.9662\n",
      "\n"
     ]
    },
    {
     "name": "stdout",
     "output_type": "stream",
     "text": [
      "Epoch 170, Loss 0.04\n",
      "Training Accuracy: 0.9579, Testing Accuracy: 0.9682\n",
      "\n"
     ]
    },
    {
     "name": "stdout",
     "output_type": "stream",
     "text": [
      "Epoch 180, Loss 0.0394\n",
      "Training Accuracy: 0.9581, Testing Accuracy: 0.9688\n",
      "\n"
     ]
    },
    {
     "name": "stdout",
     "output_type": "stream",
     "text": [
      "Epoch 190, Loss 0.0389\n",
      "Training Accuracy: 0.9589, Testing Accuracy: 0.9693\n",
      "\n"
     ]
    },
    {
     "name": "stdout",
     "output_type": "stream",
     "text": [
      "Epoch 200, Loss 0.0384\n",
      "Training Accuracy: 0.9589, Testing Accuracy: 0.9688\n",
      "\n"
     ]
    },
    {
     "name": "stdout",
     "output_type": "stream",
     "text": [
      "Epoch 210, Loss 0.0379\n",
      "Training Accuracy: 0.9592, Testing Accuracy: 0.9688\n",
      "\n"
     ]
    },
    {
     "name": "stdout",
     "output_type": "stream",
     "text": [
      "Epoch 220, Loss 0.0375\n",
      "Training Accuracy: 0.9594, Testing Accuracy: 0.9688\n",
      "\n"
     ]
    },
    {
     "name": "stdout",
     "output_type": "stream",
     "text": [
      "Epoch 230, Loss 0.0371\n",
      "Training Accuracy: 0.9598, Testing Accuracy: 0.9693\n",
      "\n"
     ]
    },
    {
     "name": "stdout",
     "output_type": "stream",
     "text": [
      "Epoch 240, Loss 0.0368\n",
      "Training Accuracy: 0.9603, Testing Accuracy: 0.9688\n",
      "\n"
     ]
    },
    {
     "name": "stdout",
     "output_type": "stream",
     "text": [
      "Epoch 250, Loss 0.0364\n",
      "Training Accuracy: 0.9606, Testing Accuracy: 0.9693\n",
      "\n"
     ]
    },
    {
     "data": {
      "text/plain": [
       "0.014421806904061269"
      ]
     },
     "execution_count": 22,
     "metadata": {},
     "output_type": "execute_result"
    }
   ],
   "source": [
    "print(\"====== Logistic Regression ======\")\n",
    "learner_lr.train_loop(dl)"
   ]
  },
  {
   "cell_type": "markdown",
   "metadata": {
    "papermill": {
     "duration": 0.046625,
     "end_time": "2020-09-23T10:07:09.792599",
     "exception": false,
     "start_time": "2020-09-23T10:07:09.745974",
     "status": "completed"
    },
    "tags": []
   },
   "source": [
    "### Comparing results of NN and LR"
   ]
  },
  {
   "cell_type": "code",
   "execution_count": 23,
   "metadata": {
    "execution": {
     "iopub.execute_input": "2020-09-23T10:07:09.893457Z",
     "iopub.status.busy": "2020-09-23T10:07:09.892677Z",
     "iopub.status.idle": "2020-09-23T10:07:10.188425Z",
     "shell.execute_reply": "2020-09-23T10:07:10.187800Z"
    },
    "papermill": {
     "duration": 0.348236,
     "end_time": "2020-09-23T10:07:10.188576",
     "exception": false,
     "start_time": "2020-09-23T10:07:09.840340",
     "status": "completed"
    },
    "tags": []
   },
   "outputs": [
    {
     "data": {
      "text/plain": [
       "<matplotlib.legend.Legend at 0x7f6c4f0ab2b0>"
      ]
     },
     "execution_count": 23,
     "metadata": {},
     "output_type": "execute_result"
    },
    {
     "data": {
      "image/png": "[encoded data removed]",
      "text/plain": [
       "<Figure size 1080x720 with 1 Axes>"
      ]
     },
     "metadata": {
      "needs_background": "light"
     },
     "output_type": "display_data"
    }
   ],
   "source": [
    "plt.figure(figsize=(15,10))\n",
    "\n",
    "# Neural Network plots\n",
    "plt.plot(acc_nn.accuracies, 'r-', label = \"Training Accuracies - NN\")\n",
    "plt.plot(acc_nn.test_accuracies, 'g-', label = \"Testing Accuracies - NN\")\n",
    "\n",
    "# Logistic Regression plots\n",
    "plt.plot(acc_lr.accuracies, 'k-', label = \"Training Accuracies - LR\")\n",
    "plt.plot(acc_lr.test_accuracies, 'b-', label = \"Testing Accuracies - LR\")\n",
    "\n",
    "plt.ylim(0.8, 1)\n",
    "\n",
    "plt.legend()\n",
    "\n"
   ]
  },
  {
   "cell_type": "markdown",
   "metadata": {
    "papermill": {
     "duration": 0.049492,
     "end_time": "2020-09-23T10:07:10.289543",
     "exception": false,
     "start_time": "2020-09-23T10:07:10.240051",
     "status": "completed"
    },
    "tags": []
   },
   "source": [
    "### From the plot, we can observe the following:\n",
    "- Neural Network achieves higher accuracy than the Logistic Regression model.\n",
    "- This apparently, is because of overfitting, i.e. NN captures more noise than data.\n",
    "- Testing accuracy of NN drops below the Training accuracy at higher epochs. This explains the over-fitting on training data.\n",
    "- Logistic Regression gives a reliable accuracy, without the above mentioned problem.\n"
   ]
  },
  {
   "cell_type": "markdown",
   "metadata": {
    "papermill": {
     "duration": 0.049311,
     "end_time": "2020-09-23T10:07:10.388570",
     "exception": false,
     "start_time": "2020-09-23T10:07:10.339259",
     "status": "completed"
    },
    "tags": []
   },
   "source": [
    "### Moving till the last but one layer (excluding it).\n",
    "#### Plotting the outputs of this layer of the NN."
   ]
  },
  {
   "cell_type": "code",
   "execution_count": 24,
   "metadata": {
    "execution": {
     "iopub.execute_input": "2020-09-23T10:07:10.495431Z",
     "iopub.status.busy": "2020-09-23T10:07:10.494123Z",
     "iopub.status.idle": "2020-09-23T10:07:10.507094Z",
     "shell.execute_reply": "2020-09-23T10:07:10.506538Z"
    },
    "papermill": {
     "duration": 0.068382,
     "end_time": "2020-09-23T10:07:10.507226",
     "exception": false,
     "start_time": "2020-09-23T10:07:10.438844",
     "status": "completed"
    },
    "tags": []
   },
   "outputs": [],
   "source": [
    "model_new = Model(layers[:-2])"
   ]
  },
  {
   "cell_type": "code",
   "execution_count": 25,
   "metadata": {
    "execution": {
     "iopub.execute_input": "2020-09-23T10:07:10.617110Z",
     "iopub.status.busy": "2020-09-23T10:07:10.616447Z",
     "iopub.status.idle": "2020-09-23T10:07:10.642489Z",
     "shell.execute_reply": "2020-09-23T10:07:10.643362Z"
    },
    "papermill": {
     "duration": 0.083578,
     "end_time": "2020-09-23T10:07:10.643528",
     "exception": false,
     "start_time": "2020-09-23T10:07:10.559950",
     "status": "completed"
    },
    "tags": []
   },
   "outputs": [],
   "source": [
    "plot_testing = model_new(testing_xdata)"
   ]
  },
  {
   "cell_type": "code",
   "execution_count": 26,
   "metadata": {
    "execution": {
     "iopub.execute_input": "2020-09-23T10:07:10.758371Z",
     "iopub.status.busy": "2020-09-23T10:07:10.757246Z",
     "iopub.status.idle": "2020-09-23T10:07:11.006395Z",
     "shell.execute_reply": "2020-09-23T10:07:11.006988Z"
    },
    "papermill": {
     "duration": 0.309812,
     "end_time": "2020-09-23T10:07:11.007145",
     "exception": false,
     "start_time": "2020-09-23T10:07:10.697333",
     "status": "completed"
    },
    "tags": []
   },
   "outputs": [
    {
     "data": {
      "text/plain": [
       "Text(0.5, 1.0, 'Outputs')"
      ]
     },
     "execution_count": 26,
     "metadata": {},
     "output_type": "execute_result"
    },
    {
     "data": {
      "image/png": "[encoded data removed]",
      "text/plain": [
       "<Figure size 576x504 with 1 Axes>"
      ]
     },
     "metadata": {
      "needs_background": "light"
     },
     "output_type": "display_data"
    }
   ],
   "source": [
    "plt.figure(figsize=(8,7))\n",
    "plt.scatter(plot_testing[:,0], plot_testing[:,1], alpha = 0.1, c = y_test.ravel());\n",
    "plt.title('Outputs')"
   ]
  },
  {
   "cell_type": "markdown",
   "metadata": {
    "papermill": {
     "duration": 0.056195,
     "end_time": "2020-09-23T10:07:11.117184",
     "exception": false,
     "start_time": "2020-09-23T10:07:11.060989",
     "status": "completed"
    },
    "tags": []
   },
   "source": [
    "### Plotting probability contours"
   ]
  },
  {
   "cell_type": "code",
   "execution_count": 27,
   "metadata": {
    "execution": {
     "iopub.execute_input": "2020-09-23T10:07:11.235919Z",
     "iopub.status.busy": "2020-09-23T10:07:11.230441Z",
     "iopub.status.idle": "2020-09-23T10:07:11.243008Z",
     "shell.execute_reply": "2020-09-23T10:07:11.243549Z"
    },
    "papermill": {
     "duration": 0.071748,
     "end_time": "2020-09-23T10:07:11.243740",
     "exception": false,
     "start_time": "2020-09-23T10:07:11.171992",
     "status": "completed"
    },
    "tags": []
   },
   "outputs": [],
   "source": [
    "model_prob = Model(layers[-2:]) "
   ]
  },
  {
   "cell_type": "code",
   "execution_count": 28,
   "metadata": {
    "execution": {
     "iopub.execute_input": "2020-09-23T10:07:11.358909Z",
     "iopub.status.busy": "2020-09-23T10:07:11.358148Z",
     "iopub.status.idle": "2020-09-23T10:07:11.372977Z",
     "shell.execute_reply": "2020-09-23T10:07:11.373677Z"
    },
    "papermill": {
     "duration": 0.074153,
     "end_time": "2020-09-23T10:07:11.373839",
     "exception": false,
     "start_time": "2020-09-23T10:07:11.299686",
     "status": "completed"
    },
    "tags": []
   },
   "outputs": [],
   "source": [
    "# Adjust the x and y ranges according to the above generated plot.\n",
    "x_range = np.linspace(-4, 1, 100) \n",
    "y_range = np.linspace(-6, 6, 100) \n",
    "x_grid, y_grid = np.meshgrid(x_range, y_range) # x_grid and y_grig are of size 100 X 100\n",
    "\n",
    "# converting x_grid and y_grid to continuous arrays\n",
    "x_grid_flat = np.ravel(x_grid)\n",
    "y_grid_flat = np.ravel(y_grid)\n",
    "\n",
    "# The last layer of the current model takes two columns as input. Hence transpose of np.vstack() is required.\n",
    "X = np.vstack((x_grid_flat, y_grid_flat)).T\n",
    "\n",
    "# x_grid and y_grid are of size 100 x 100\n",
    "probability_contour = model_prob(X).reshape(100,100) "
   ]
  },
  {
   "cell_type": "code",
   "execution_count": 29,
   "metadata": {
    "execution": {
     "iopub.execute_input": "2020-09-23T10:07:11.490085Z",
     "iopub.status.busy": "2020-09-23T10:07:11.489450Z",
     "iopub.status.idle": "2020-09-23T10:07:11.788787Z",
     "shell.execute_reply": "2020-09-23T10:07:11.788270Z"
    },
    "papermill": {
     "duration": 0.35729,
     "end_time": "2020-09-23T10:07:11.788925",
     "exception": false,
     "start_time": "2020-09-23T10:07:11.431635",
     "status": "completed"
    },
    "tags": []
   },
   "outputs": [
    {
     "data": {
      "image/png": "[encoded data removed]",
      "text/plain": [
       "<Figure size 720x648 with 1 Axes>"
      ]
     },
     "metadata": {
      "needs_background": "light"
     },
     "output_type": "display_data"
    }
   ],
   "source": [
    "plt.figure(figsize=(10,9))\n",
    "plt.scatter(plot_testing[:,0], plot_testing[:,1], alpha = 0.1, c = y_test.ravel())\n",
    "contours = plt.contour(x_grid,y_grid,probability_contour)\n",
    "plt.title('Probability Contours')\n",
    "plt.clabel(contours, inline = True );"
   ]
  }
 ],
 "metadata": {
  "kernelspec": {
   "display_name": "Python 3",
   "language": "python",
   "name": "python3"
  },
  "language_info": {
   "codemirror_mode": {
    "name": "ipython",
    "version": 3
   },
   "file_extension": ".py",
   "mimetype": "text/x-python",
   "name": "python",
   "nbconvert_exporter": "python",
   "pygments_lexer": "ipython3",
   "version": "3.6.12"
  },
  "papermill": {
   "duration": 168.856904,
   "end_time": "2020-09-23T10:07:12.152150",
   "environment_variables": {},
   "exception": null,
   "input_path": "2020-08-11-NeuralNetwork.ipynb",
   "output_path": "2020-08-11-NeuralNetwork.ipynb",
   "parameters": {},
   "start_time": "2020-09-23T10:04:23.295246",
   "version": "2.1.2"
  }
 },
 "nbformat": 4,
 "nbformat_minor": 4
}