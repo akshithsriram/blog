{
 "cells": [
  {
   "cell_type": "markdown",
   "metadata": {
    "papermill": {
     "duration": 0.032862,
     "end_time": "2020-10-04T20:04:46.377125",
     "exception": false,
     "start_time": "2020-10-04T20:04:46.344263",
     "status": "completed"
    },
    "tags": []
   },
   "source": [
    "# \"A Basic Neural Network: Differentiate Hand-Written Digits\"\n",
    "\n",
    "- badges: true\n",
    "- author: Akshith Sriram"
   ]
  },
  {
   "cell_type": "markdown",
   "metadata": {
    "papermill": {
     "duration": 0.029662,
     "end_time": "2020-10-04T20:04:46.440296",
     "exception": false,
     "start_time": "2020-10-04T20:04:46.410634",
     "status": "completed"
    },
    "tags": []
   },
   "source": [
    "### Key Objectives:\n",
    "- Building a neural network that differentiates two hand-written digits 3 and 8.\n",
    "- Comparing the results of this Neural Network (NN) to that of a Logistic Regression (LR) model.\n",
    "\n",
    "### Requirements:\n",
    "- 'Kudzu' : A neural network library that was designed during our course by [Univ.AI](www.univ.ai). \n",
    "- MNIST Database\n",
    "\n",
    "If MNIST is not installed, use the command `!pip install mnist` given below.\n",
    "It can be run both from the command line and Jupyter Notebook."
   ]
  },
  {
   "cell_type": "code",
   "execution_count": 1,
   "metadata": {
    "execution": {
     "iopub.execute_input": "2020-10-04T20:04:46.501768Z",
     "iopub.status.busy": "2020-10-04T20:04:46.501101Z",
     "iopub.status.idle": "2020-10-04T20:04:47.992078Z",
     "shell.execute_reply": "2020-10-04T20:04:47.992774Z"
    },
    "papermill": {
     "duration": 1.525652,
     "end_time": "2020-10-04T20:04:47.992986",
     "exception": false,
     "start_time": "2020-10-04T20:04:46.467334",
     "status": "completed"
    },
    "tags": []
   },
   "outputs": [
    {
     "name": "stdout",
     "output_type": "stream",
     "text": [
      "Collecting mnist\r\n"
     ]
    },
    {
     "name": "stdout",
     "output_type": "stream",
     "text": [
      "  Downloading mnist-0.2.2-py2.py3-none-any.whl (3.5 kB)\r\n",
      "Requirement already satisfied: numpy in /opt/hostedtoolcache/Python/3.6.12/x64/lib/python3.6/site-packages (from mnist) (1.19.2)\r\n"
     ]
    },
    {
     "name": "stdout",
     "output_type": "stream",
     "text": [
      "Installing collected packages: mnist\r\n",
      "Successfully installed mnist-0.2.2\r\n"
     ]
    }
   ],
   "source": [
    "!pip install mnist "
   ]
  },
  {
   "cell_type": "markdown",
   "metadata": {
    "papermill": {
     "duration": 0.029481,
     "end_time": "2020-10-04T20:04:48.051788",
     "exception": false,
     "start_time": "2020-10-04T20:04:48.022307",
     "status": "completed"
    },
    "tags": []
   },
   "source": [
    "#### Importing necessary libraries"
   ]
  },
  {
   "cell_type": "code",
   "execution_count": 2,
   "metadata": {
    "execution": {
     "iopub.execute_input": "2020-10-04T20:04:48.117060Z",
     "iopub.status.busy": "2020-10-04T20:04:48.116411Z",
     "iopub.status.idle": "2020-10-04T20:04:48.694011Z",
     "shell.execute_reply": "2020-10-04T20:04:48.693448Z"
    },
    "papermill": {
     "duration": 0.612645,
     "end_time": "2020-10-04T20:04:48.694166",
     "exception": false,
     "start_time": "2020-10-04T20:04:48.081521",
     "status": "completed"
    },
    "tags": []
   },
   "outputs": [],
   "source": [
    "%load_ext autoreload\n",
    "%autoreload 2\n",
    "\n",
    "%matplotlib inline\n",
    "import matplotlib.pyplot as plt\n",
    "\n",
    "import numpy as np\n",
    "import pandas as pd"
   ]
  },
  {
   "cell_type": "markdown",
   "metadata": {
    "papermill": {
     "duration": 0.032244,
     "end_time": "2020-10-04T20:04:48.756136",
     "exception": false,
     "start_time": "2020-10-04T20:04:48.723892",
     "status": "completed"
    },
    "tags": []
   },
   "source": [
    "### Preparing the Data"
   ]
  },
  {
   "cell_type": "code",
   "execution_count": 3,
   "metadata": {
    "execution": {
     "iopub.execute_input": "2020-10-04T20:04:48.830598Z",
     "iopub.status.busy": "2020-10-04T20:04:48.826128Z",
     "iopub.status.idle": "2020-10-04T20:04:48.834638Z",
     "shell.execute_reply": "2020-10-04T20:04:48.834085Z"
    },
    "papermill": {
     "duration": 0.05051,
     "end_time": "2020-10-04T20:04:48.834770",
     "exception": false,
     "start_time": "2020-10-04T20:04:48.784260",
     "status": "completed"
    },
    "tags": []
   },
   "outputs": [],
   "source": [
    "import mnist"
   ]
  },
  {
   "cell_type": "code",
   "execution_count": 4,
   "metadata": {
    "execution": {
     "iopub.execute_input": "2020-10-04T20:04:48.897917Z",
     "iopub.status.busy": "2020-10-04T20:04:48.897266Z",
     "iopub.status.idle": "2020-10-04T20:04:49.636296Z",
     "shell.execute_reply": "2020-10-04T20:04:49.635725Z"
    },
    "papermill": {
     "duration": 0.772021,
     "end_time": "2020-10-04T20:04:49.636476",
     "exception": false,
     "start_time": "2020-10-04T20:04:48.864455",
     "status": "completed"
    },
    "tags": []
   },
   "outputs": [],
   "source": [
    "train_images = mnist.train_images()\n",
    "train_labels = mnist.train_labels()"
   ]
  },
  {
   "cell_type": "code",
   "execution_count": 5,
   "metadata": {
    "execution": {
     "iopub.execute_input": "2020-10-04T20:04:49.713853Z",
     "iopub.status.busy": "2020-10-04T20:04:49.713203Z",
     "iopub.status.idle": "2020-10-04T20:04:49.719676Z",
     "shell.execute_reply": "2020-10-04T20:04:49.719127Z"
    },
    "papermill": {
     "duration": 0.054808,
     "end_time": "2020-10-04T20:04:49.719809",
     "exception": false,
     "start_time": "2020-10-04T20:04:49.665001",
     "status": "completed"
    },
    "tags": []
   },
   "outputs": [
    {
     "data": {
      "text/plain": [
       "((60000, 28, 28), (60000,))"
      ]
     },
     "execution_count": 5,
     "metadata": {},
     "output_type": "execute_result"
    }
   ],
   "source": [
    "train_images.shape, train_labels.shape"
   ]
  },
  {
   "cell_type": "code",
   "execution_count": 6,
   "metadata": {
    "execution": {
     "iopub.execute_input": "2020-10-04T20:04:49.792457Z",
     "iopub.status.busy": "2020-10-04T20:04:49.782593Z",
     "iopub.status.idle": "2020-10-04T20:04:50.134496Z",
     "shell.execute_reply": "2020-10-04T20:04:50.133444Z"
    },
    "papermill": {
     "duration": 0.385573,
     "end_time": "2020-10-04T20:04:50.134649",
     "exception": false,
     "start_time": "2020-10-04T20:04:49.749076",
     "status": "completed"
    },
    "tags": []
   },
   "outputs": [],
   "source": [
    "test_images = mnist.test_images()\n",
    "test_labels = mnist.test_labels()"
   ]
  },
  {
   "cell_type": "code",
   "execution_count": 7,
   "metadata": {
    "execution": {
     "iopub.execute_input": "2020-10-04T20:04:50.212133Z",
     "iopub.status.busy": "2020-10-04T20:04:50.211260Z",
     "iopub.status.idle": "2020-10-04T20:04:50.217101Z",
     "shell.execute_reply": "2020-10-04T20:04:50.217840Z"
    },
    "papermill": {
     "duration": 0.05417,
     "end_time": "2020-10-04T20:04:50.217994",
     "exception": false,
     "start_time": "2020-10-04T20:04:50.163824",
     "status": "completed"
    },
    "tags": []
   },
   "outputs": [
    {
     "data": {
      "text/plain": [
       "((10000, 28, 28), (10000,))"
      ]
     },
     "execution_count": 7,
     "metadata": {},
     "output_type": "execute_result"
    }
   ],
   "source": [
    "test_images.shape, test_labels.shape"
   ]
  },
  {
   "cell_type": "code",
   "execution_count": 8,
   "metadata": {
    "execution": {
     "iopub.execute_input": "2020-10-04T20:04:50.285026Z",
     "iopub.status.busy": "2020-10-04T20:04:50.283347Z",
     "iopub.status.idle": "2020-10-04T20:04:50.457868Z",
     "shell.execute_reply": "2020-10-04T20:04:50.457288Z"
    },
    "papermill": {
     "duration": 0.209716,
     "end_time": "2020-10-04T20:04:50.458017",
     "exception": false,
     "start_time": "2020-10-04T20:04:50.248301",
     "status": "completed"
    },
    "tags": []
   },
   "outputs": [
    {
     "name": "stdout",
     "output_type": "stream",
     "text": [
      "2\n"
     ]
    },
    {
     "data": {
      "text/plain": [
       "<matplotlib.image.AxesImage at 0x7fe123fa0860>"
      ]
     },
     "execution_count": 8,
     "metadata": {},
     "output_type": "execute_result"
    },
    {
     "data": {
      "image/png": "[encoded data removed]",
      "text/plain": [
       "<Figure size 432x288 with 1 Axes>"
      ]
     },
     "metadata": {
      "needs_background": "light"
     },
     "output_type": "display_data"
    }
   ],
   "source": [
    "image_index = 7776 # You may select anything up to 60,000\n",
    "print(train_labels[image_index]) \n",
    "plt.imshow(train_images[image_index], cmap='Greys')"
   ]
  },
  {
   "cell_type": "markdown",
   "metadata": {
    "papermill": {
     "duration": 0.032703,
     "end_time": "2020-10-04T20:04:50.522769",
     "exception": false,
     "start_time": "2020-10-04T20:04:50.490066",
     "status": "completed"
    },
    "tags": []
   },
   "source": [
    "## Filter data to get 3 and 8 out"
   ]
  },
  {
   "cell_type": "code",
   "execution_count": 9,
   "metadata": {
    "execution": {
     "iopub.execute_input": "2020-10-04T20:04:50.603667Z",
     "iopub.status.busy": "2020-10-04T20:04:50.594182Z",
     "iopub.status.idle": "2020-10-04T20:04:50.612834Z",
     "shell.execute_reply": "2020-10-04T20:04:50.613358Z"
    },
    "papermill": {
     "duration": 0.055026,
     "end_time": "2020-10-04T20:04:50.613540",
     "exception": false,
     "start_time": "2020-10-04T20:04:50.558514",
     "status": "completed"
    },
    "tags": []
   },
   "outputs": [],
   "source": [
    "train_filter = np.where((train_labels == 3 ) | (train_labels == 8))\n",
    "test_filter = np.where((test_labels == 3) | (test_labels == 8))\n",
    "X_train, y_train = train_images[train_filter], train_labels[train_filter]\n",
    "X_test, y_test = test_images[test_filter], test_labels[test_filter]"
   ]
  },
  {
   "cell_type": "markdown",
   "metadata": {
    "papermill": {
     "duration": 0.032112,
     "end_time": "2020-10-04T20:04:50.676743",
     "exception": false,
     "start_time": "2020-10-04T20:04:50.644631",
     "status": "completed"
    },
    "tags": []
   },
   "source": [
    "We normalize the pixel values in the 0 to 1 range"
   ]
  },
  {
   "cell_type": "code",
   "execution_count": 10,
   "metadata": {
    "execution": {
     "iopub.execute_input": "2020-10-04T20:04:50.745817Z",
     "iopub.status.busy": "2020-10-04T20:04:50.745155Z",
     "iopub.status.idle": "2020-10-04T20:04:50.805224Z",
     "shell.execute_reply": "2020-10-04T20:04:50.804654Z"
    },
    "papermill": {
     "duration": 0.098266,
     "end_time": "2020-10-04T20:04:50.805379",
     "exception": false,
     "start_time": "2020-10-04T20:04:50.707113",
     "status": "completed"
    },
    "tags": []
   },
   "outputs": [],
   "source": [
    "X_train = X_train/255.\n",
    "X_test = X_test/255."
   ]
  },
  {
   "cell_type": "markdown",
   "metadata": {
    "papermill": {
     "duration": 0.033025,
     "end_time": "2020-10-04T20:04:50.870667",
     "exception": false,
     "start_time": "2020-10-04T20:04:50.837642",
     "status": "completed"
    },
    "tags": []
   },
   "source": [
    "Setup the labels as 1 (when the digit is 3) and 0 (when the digit is 8)"
   ]
  },
  {
   "cell_type": "code",
   "execution_count": 11,
   "metadata": {
    "execution": {
     "iopub.execute_input": "2020-10-04T20:04:50.938713Z",
     "iopub.status.busy": "2020-10-04T20:04:50.938061Z",
     "iopub.status.idle": "2020-10-04T20:04:50.949273Z",
     "shell.execute_reply": "2020-10-04T20:04:50.949775Z"
    },
    "papermill": {
     "duration": 0.049481,
     "end_time": "2020-10-04T20:04:50.949930",
     "exception": false,
     "start_time": "2020-10-04T20:04:50.900449",
     "status": "completed"
    },
    "tags": []
   },
   "outputs": [],
   "source": [
    "y_train = 1*(y_train==3)\n",
    "y_test = 1*(y_test==3)"
   ]
  },
  {
   "cell_type": "code",
   "execution_count": 12,
   "metadata": {
    "execution": {
     "iopub.execute_input": "2020-10-04T20:04:51.016110Z",
     "iopub.status.busy": "2020-10-04T20:04:51.014121Z",
     "iopub.status.idle": "2020-10-04T20:04:51.026748Z",
     "shell.execute_reply": "2020-10-04T20:04:51.027249Z"
    },
    "papermill": {
     "duration": 0.046967,
     "end_time": "2020-10-04T20:04:51.027396",
     "exception": false,
     "start_time": "2020-10-04T20:04:50.980429",
     "status": "completed"
    },
    "tags": []
   },
   "outputs": [
    {
     "data": {
      "text/plain": [
       "((11982, 28, 28), (1984, 28, 28))"
      ]
     },
     "execution_count": 12,
     "metadata": {},
     "output_type": "execute_result"
    }
   ],
   "source": [
    "X_train.shape, X_test.shape"
   ]
  },
  {
   "cell_type": "markdown",
   "metadata": {
    "papermill": {
     "duration": 0.033552,
     "end_time": "2020-10-04T20:04:51.091243",
     "exception": false,
     "start_time": "2020-10-04T20:04:51.057691",
     "status": "completed"
    },
    "tags": []
   },
   "source": [
    "### Reshape the input data to create a linear array"
   ]
  },
  {
   "cell_type": "code",
   "execution_count": 13,
   "metadata": {
    "execution": {
     "iopub.execute_input": "2020-10-04T20:04:51.361406Z",
     "iopub.status.busy": "2020-10-04T20:04:51.359791Z",
     "iopub.status.idle": "2020-10-04T20:04:51.371397Z",
     "shell.execute_reply": "2020-10-04T20:04:51.370557Z"
    },
    "papermill": {
     "duration": 0.247417,
     "end_time": "2020-10-04T20:04:51.371541",
     "exception": false,
     "start_time": "2020-10-04T20:04:51.124124",
     "status": "completed"
    },
    "tags": []
   },
   "outputs": [
    {
     "data": {
      "text/plain": [
       "((11982, 784), (1984, 784))"
      ]
     },
     "execution_count": 13,
     "metadata": {},
     "output_type": "execute_result"
    }
   ],
   "source": [
    "X_train = X_train.reshape(X_train.shape[0], -1)\n",
    "X_test = X_test.reshape(X_test.shape[0], -1)\n",
    "X_train.shape, X_test.shape"
   ]
  },
  {
   "cell_type": "markdown",
   "metadata": {
    "papermill": {
     "duration": 0.060235,
     "end_time": "2020-10-04T20:04:51.484722",
     "exception": false,
     "start_time": "2020-10-04T20:04:51.424487",
     "status": "completed"
    },
    "tags": []
   },
   "source": [
    "### Importing appropriate functions from 'Kudzu'"
   ]
  },
  {
   "cell_type": "code",
   "execution_count": 14,
   "metadata": {
    "execution": {
     "iopub.execute_input": "2020-10-04T20:04:51.607425Z",
     "iopub.status.busy": "2020-10-04T20:04:51.606769Z",
     "iopub.status.idle": "2020-10-04T20:04:51.622809Z",
     "shell.execute_reply": "2020-10-04T20:04:51.623348Z"
    },
    "papermill": {
     "duration": 0.09477,
     "end_time": "2020-10-04T20:04:51.623501",
     "exception": false,
     "start_time": "2020-10-04T20:04:51.528731",
     "status": "completed"
    },
    "tags": []
   },
   "outputs": [],
   "source": [
    "from kudzu.layer import Sigmoid\n",
    "from kudzu.layer import Relu\n",
    "from kudzu.layer import Affine, Sigmoid\n",
    "\n",
    "from kudzu.model import Model\n",
    "from kudzu.train import Learner\n",
    "from kudzu.optim import GD\n",
    "from kudzu.data import Data, Dataloader, Sampler\n",
    "\n",
    "from kudzu.callbacks import AccCallback\n",
    "from kudzu.callbacks import ClfCallback\n",
    "\n",
    "from kudzu.loss import MSE"
   ]
  },
  {
   "cell_type": "markdown",
   "metadata": {
    "papermill": {
     "duration": 0.033073,
     "end_time": "2020-10-04T20:04:51.769301",
     "exception": false,
     "start_time": "2020-10-04T20:04:51.736228",
     "status": "completed"
    },
    "tags": []
   },
   "source": [
    "### Let us create a `Config` class, to store important parameters. \n",
    "This class essentially plays the role of a dictionary."
   ]
  },
  {
   "cell_type": "code",
   "execution_count": 15,
   "metadata": {
    "execution": {
     "iopub.execute_input": "2020-10-04T20:04:51.945663Z",
     "iopub.status.busy": "2020-10-04T20:04:51.944766Z",
     "iopub.status.idle": "2020-10-04T20:04:51.948837Z",
     "shell.execute_reply": "2020-10-04T20:04:51.949471Z"
    },
    "papermill": {
     "duration": 0.05762,
     "end_time": "2020-10-04T20:04:51.949625",
     "exception": false,
     "start_time": "2020-10-04T20:04:51.892005",
     "status": "completed"
    },
    "tags": []
   },
   "outputs": [],
   "source": [
    "class Config:\n",
    "    pass\n",
    "config = Config()\n",
    "config.lr = 0.001\n",
    "config.num_epochs = 251\n",
    "config.bs = 50"
   ]
  },
  {
   "cell_type": "markdown",
   "metadata": {
    "papermill": {
     "duration": 0.031061,
     "end_time": "2020-10-04T20:04:52.011533",
     "exception": false,
     "start_time": "2020-10-04T20:04:51.980472",
     "status": "completed"
    },
    "tags": []
   },
   "source": [
    "### Initializing data to the variables"
   ]
  },
  {
   "cell_type": "code",
   "execution_count": 16,
   "metadata": {
    "execution": {
     "iopub.execute_input": "2020-10-04T20:04:52.097979Z",
     "iopub.status.busy": "2020-10-04T20:04:52.089482Z",
     "iopub.status.idle": "2020-10-04T20:04:52.101603Z",
     "shell.execute_reply": "2020-10-04T20:04:52.102147Z"
    },
    "papermill": {
     "duration": 0.055075,
     "end_time": "2020-10-04T20:04:52.102299",
     "exception": false,
     "start_time": "2020-10-04T20:04:52.047224",
     "status": "completed"
    },
    "tags": []
   },
   "outputs": [],
   "source": [
    "data = Data(X_train, y_train.reshape(-1,1))\n",
    "sampler = Sampler(data, config.bs, shuffle=True)\n",
    "\n",
    "dl = Dataloader(data, sampler)\n",
    "\n",
    "opt = GD(config.lr)\n",
    "loss = MSE()"
   ]
  },
  {
   "cell_type": "code",
   "execution_count": 17,
   "metadata": {
    "execution": {
     "iopub.execute_input": "2020-10-04T20:04:52.180827Z",
     "iopub.status.busy": "2020-10-04T20:04:52.171759Z",
     "iopub.status.idle": "2020-10-04T20:04:52.183811Z",
     "shell.execute_reply": "2020-10-04T20:04:52.184374Z"
    },
    "papermill": {
     "duration": 0.050215,
     "end_time": "2020-10-04T20:04:52.184529",
     "exception": false,
     "start_time": "2020-10-04T20:04:52.134314",
     "status": "completed"
    },
    "tags": []
   },
   "outputs": [],
   "source": [
    "training_xdata = X_train\n",
    "testing_xdata = X_test\n",
    "training_ydata = y_train.reshape(-1,1)\n",
    "testing_ydata = y_test.reshape(-1,1)"
   ]
  },
  {
   "cell_type": "markdown",
   "metadata": {
    "papermill": {
     "duration": 0.031642,
     "end_time": "2020-10-04T20:04:52.247651",
     "exception": false,
     "start_time": "2020-10-04T20:04:52.216009",
     "status": "completed"
    },
    "tags": []
   },
   "source": [
    "### Running Models with the Training data\n",
    "Details about the network layers:\n",
    "- A first affine layer has 784 inputs and does 100 affine transforms. These are followed by a Relu\n",
    "- A second affine layer has 100 inputs from the 100 activations of the past layer, and does 100 affine transforms. These are followed by a Relu\n",
    "- A third affine layer has 100 activations and does 2 affine transformations to create an embedding for visualization. There is no non-linearity here.\n",
    "- A final \"logistic regression\" which has an affine transform from 2 inputs to 1 output, which is squeezed through a sigmoid.\n",
    "\n",
    "Help taken from Anshuman's Notebook."
   ]
  },
  {
   "cell_type": "code",
   "execution_count": 18,
   "metadata": {
    "execution": {
     "iopub.execute_input": "2020-10-04T20:04:52.331136Z",
     "iopub.status.busy": "2020-10-04T20:04:52.330463Z",
     "iopub.status.idle": "2020-10-04T20:04:52.339002Z",
     "shell.execute_reply": "2020-10-04T20:04:52.338209Z"
    },
    "papermill": {
     "duration": 0.061171,
     "end_time": "2020-10-04T20:04:52.339138",
     "exception": false,
     "start_time": "2020-10-04T20:04:52.277967",
     "status": "completed"
    },
    "tags": []
   },
   "outputs": [],
   "source": [
    "# layers for the Neural Network\n",
    "layers = [Affine(\"first\", 784, 100), Relu(\"first\"), Affine(\"second\", 100, 100), Relu(\"second\"), Affine(\"third\", 100, 2), Affine(\"final\", 2, 1), Sigmoid(\"final\")]\n",
    "model_nn = Model(layers)\n",
    "\n",
    "# layers for the Logistic Regression\n",
    "layers_lr = [Affine(\"logits\", 784, 1), Sigmoid(\"sigmoid\")]\n",
    "model_lr = Model(layers_lr)"
   ]
  },
  {
   "cell_type": "code",
   "execution_count": 19,
   "metadata": {
    "execution": {
     "iopub.execute_input": "2020-10-04T20:04:52.406850Z",
     "iopub.status.busy": "2020-10-04T20:04:52.406188Z",
     "iopub.status.idle": "2020-10-04T20:04:52.417782Z",
     "shell.execute_reply": "2020-10-04T20:04:52.418393Z"
    },
    "papermill": {
     "duration": 0.047521,
     "end_time": "2020-10-04T20:04:52.418540",
     "exception": false,
     "start_time": "2020-10-04T20:04:52.371019",
     "status": "completed"
    },
    "tags": []
   },
   "outputs": [],
   "source": [
    "# suffix _nn stands for Neural Network.\n",
    "learner_nn = Learner(loss, model_nn, opt, config.num_epochs)\n",
    "acc_nn = ClfCallback(learner_nn, config.bs, training_xdata , testing_xdata, training_ydata, testing_ydata)\n",
    "learner_nn.set_callbacks([acc_nn])"
   ]
  },
  {
   "cell_type": "code",
   "execution_count": 20,
   "metadata": {
    "execution": {
     "iopub.execute_input": "2020-10-04T20:04:52.484893Z",
     "iopub.status.busy": "2020-10-04T20:04:52.484208Z",
     "iopub.status.idle": "2020-10-04T20:06:51.203655Z",
     "shell.execute_reply": "2020-10-04T20:06:51.204539Z"
    },
    "papermill": {
     "duration": 118.755679,
     "end_time": "2020-10-04T20:06:51.204714",
     "exception": false,
     "start_time": "2020-10-04T20:04:52.449035",
     "status": "completed"
    },
    "tags": []
   },
   "outputs": [
    {
     "name": "stdout",
     "output_type": "stream",
     "text": [
      "====== Neural Network ======\n"
     ]
    },
    {
     "name": "stdout",
     "output_type": "stream",
     "text": [
      "Epoch 0, Loss 0.252\n",
      "Training Accuracy: 0.5171, Testing Accuracy: 0.5418\n",
      "\n"
     ]
    },
    {
     "name": "stdout",
     "output_type": "stream",
     "text": [
      "Epoch 10, Loss 0.1436\n",
      "Training Accuracy: 0.9064, Testing Accuracy: 0.9214\n",
      "\n"
     ]
    },
    {
     "name": "stdout",
     "output_type": "stream",
     "text": [
      "Epoch 20, Loss 0.0694\n",
      "Training Accuracy: 0.9367, Testing Accuracy: 0.9471\n",
      "\n"
     ]
    },
    {
     "name": "stdout",
     "output_type": "stream",
     "text": [
      "Epoch 30, Loss 0.0491\n",
      "Training Accuracy: 0.9492, Testing Accuracy: 0.9577\n",
      "\n"
     ]
    },
    {
     "name": "stdout",
     "output_type": "stream",
     "text": [
      "Epoch 40, Loss 0.0407\n",
      "Training Accuracy: 0.9548, Testing Accuracy: 0.9627\n",
      "\n"
     ]
    },
    {
     "name": "stdout",
     "output_type": "stream",
     "text": [
      "Epoch 50, Loss 0.0361\n",
      "Training Accuracy: 0.9592, Testing Accuracy: 0.9657\n",
      "\n"
     ]
    },
    {
     "name": "stdout",
     "output_type": "stream",
     "text": [
      "Epoch 60, Loss 0.0331\n",
      "Training Accuracy: 0.9623, Testing Accuracy: 0.9662\n",
      "\n"
     ]
    },
    {
     "name": "stdout",
     "output_type": "stream",
     "text": [
      "Epoch 70, Loss 0.031\n",
      "Training Accuracy: 0.9643, Testing Accuracy: 0.9698\n",
      "\n"
     ]
    },
    {
     "name": "stdout",
     "output_type": "stream",
     "text": [
      "Epoch 80, Loss 0.0294\n",
      "Training Accuracy: 0.9659, Testing Accuracy: 0.9698\n",
      "\n"
     ]
    },
    {
     "name": "stdout",
     "output_type": "stream",
     "text": [
      "Epoch 90, Loss 0.028\n",
      "Training Accuracy: 0.9678, Testing Accuracy: 0.9718\n",
      "\n"
     ]
    },
    {
     "name": "stdout",
     "output_type": "stream",
     "text": [
      "Epoch 100, Loss 0.0269\n",
      "Training Accuracy: 0.9691, Testing Accuracy: 0.9718\n",
      "\n"
     ]
    },
    {
     "name": "stdout",
     "output_type": "stream",
     "text": [
      "Epoch 110, Loss 0.0259\n",
      "Training Accuracy: 0.9704, Testing Accuracy: 0.9723\n",
      "\n"
     ]
    },
    {
     "name": "stdout",
     "output_type": "stream",
     "text": [
      "Epoch 120, Loss 0.0251\n",
      "Training Accuracy: 0.9713, Testing Accuracy: 0.9733\n",
      "\n"
     ]
    },
    {
     "name": "stdout",
     "output_type": "stream",
     "text": [
      "Epoch 130, Loss 0.0243\n",
      "Training Accuracy: 0.9730, Testing Accuracy: 0.9743\n",
      "\n"
     ]
    },
    {
     "name": "stdout",
     "output_type": "stream",
     "text": [
      "Epoch 140, Loss 0.0236\n",
      "Training Accuracy: 0.9742, Testing Accuracy: 0.9748\n",
      "\n"
     ]
    },
    {
     "name": "stdout",
     "output_type": "stream",
     "text": [
      "Epoch 150, Loss 0.023\n",
      "Training Accuracy: 0.9747, Testing Accuracy: 0.9743\n",
      "\n"
     ]
    },
    {
     "name": "stdout",
     "output_type": "stream",
     "text": [
      "Epoch 160, Loss 0.0224\n",
      "Training Accuracy: 0.9754, Testing Accuracy: 0.9743\n",
      "\n"
     ]
    },
    {
     "name": "stdout",
     "output_type": "stream",
     "text": [
      "Epoch 170, Loss 0.0219\n",
      "Training Accuracy: 0.9760, Testing Accuracy: 0.9743\n",
      "\n"
     ]
    },
    {
     "name": "stdout",
     "output_type": "stream",
     "text": [
      "Epoch 180, Loss 0.0214\n",
      "Training Accuracy: 0.9766, Testing Accuracy: 0.9743\n",
      "\n"
     ]
    },
    {
     "name": "stdout",
     "output_type": "stream",
     "text": [
      "Epoch 190, Loss 0.0209\n",
      "Training Accuracy: 0.9767, Testing Accuracy: 0.9743\n",
      "\n"
     ]
    },
    {
     "name": "stdout",
     "output_type": "stream",
     "text": [
      "Epoch 200, Loss 0.0204\n",
      "Training Accuracy: 0.9768, Testing Accuracy: 0.9738\n",
      "\n"
     ]
    },
    {
     "name": "stdout",
     "output_type": "stream",
     "text": [
      "Epoch 210, Loss 0.02\n",
      "Training Accuracy: 0.9774, Testing Accuracy: 0.9738\n",
      "\n"
     ]
    },
    {
     "name": "stdout",
     "output_type": "stream",
     "text": [
      "Epoch 220, Loss 0.0196\n",
      "Training Accuracy: 0.9781, Testing Accuracy: 0.9748\n",
      "\n"
     ]
    },
    {
     "name": "stdout",
     "output_type": "stream",
     "text": [
      "Epoch 230, Loss 0.0192\n",
      "Training Accuracy: 0.9787, Testing Accuracy: 0.9753\n",
      "\n"
     ]
    },
    {
     "name": "stdout",
     "output_type": "stream",
     "text": [
      "Epoch 240, Loss 0.0188\n",
      "Training Accuracy: 0.9790, Testing Accuracy: 0.9753\n",
      "\n"
     ]
    },
    {
     "name": "stdout",
     "output_type": "stream",
     "text": [
      "Epoch 250, Loss 0.0184\n",
      "Training Accuracy: 0.9795, Testing Accuracy: 0.9753\n",
      "\n"
     ]
    },
    {
     "data": {
      "text/plain": [
       "0.036639373266040304"
      ]
     },
     "execution_count": 20,
     "metadata": {},
     "output_type": "execute_result"
    }
   ],
   "source": [
    "print(\"====== Neural Network ======\")\n",
    "learner_nn.train_loop(dl)"
   ]
  },
  {
   "cell_type": "markdown",
   "metadata": {
    "papermill": {
     "duration": 0.039394,
     "end_time": "2020-10-04T20:06:51.285607",
     "exception": false,
     "start_time": "2020-10-04T20:06:51.246213",
     "status": "completed"
    },
    "tags": []
   },
   "source": [
    "### Logistic Regression based Implementation."
   ]
  },
  {
   "cell_type": "code",
   "execution_count": 21,
   "metadata": {
    "execution": {
     "iopub.execute_input": "2020-10-04T20:06:51.381114Z",
     "iopub.status.busy": "2020-10-04T20:06:51.376020Z",
     "iopub.status.idle": "2020-10-04T20:06:51.386973Z",
     "shell.execute_reply": "2020-10-04T20:06:51.386088Z"
    },
    "papermill": {
     "duration": 0.060779,
     "end_time": "2020-10-04T20:06:51.387110",
     "exception": false,
     "start_time": "2020-10-04T20:06:51.326331",
     "status": "completed"
    },
    "tags": []
   },
   "outputs": [],
   "source": [
    "learner_lr = Learner(loss, model_lr, opt, config.num_epochs)\n",
    "acc_lr = ClfCallback(learner_lr, config.bs, training_xdata , testing_xdata, training_ydata, testing_ydata)\n",
    "learner_lr.set_callbacks([acc_lr])"
   ]
  },
  {
   "cell_type": "code",
   "execution_count": 22,
   "metadata": {
    "execution": {
     "iopub.execute_input": "2020-10-04T20:06:51.482121Z",
     "iopub.status.busy": "2020-10-04T20:06:51.478034Z",
     "iopub.status.idle": "2020-10-04T20:07:08.964878Z",
     "shell.execute_reply": "2020-10-04T20:07:08.965730Z"
    },
    "papermill": {
     "duration": 17.538836,
     "end_time": "2020-10-04T20:07:08.965913",
     "exception": false,
     "start_time": "2020-10-04T20:06:51.427077",
     "status": "completed"
    },
    "tags": []
   },
   "outputs": [
    {
     "name": "stdout",
     "output_type": "stream",
     "text": [
      "====== Logistic Regression ======\n",
      "Epoch 0, Loss 0.212\n",
      "Training Accuracy: 0.7570, Testing Accuracy: 0.7611\n",
      "\n"
     ]
    },
    {
     "name": "stdout",
     "output_type": "stream",
     "text": [
      "Epoch 10, Loss 0.1003\n",
      "Training Accuracy: 0.9125, Testing Accuracy: 0.9158\n",
      "\n"
     ]
    },
    {
     "name": "stdout",
     "output_type": "stream",
     "text": [
      "Epoch 20, Loss 0.0778\n",
      "Training Accuracy: 0.9297, Testing Accuracy: 0.9360\n",
      "\n"
     ]
    },
    {
     "name": "stdout",
     "output_type": "stream",
     "text": [
      "Epoch 30, Loss 0.0673\n",
      "Training Accuracy: 0.9366, Testing Accuracy: 0.9451\n",
      "\n"
     ]
    },
    {
     "name": "stdout",
     "output_type": "stream",
     "text": [
      "Epoch 40, Loss 0.061\n",
      "Training Accuracy: 0.9425, Testing Accuracy: 0.9516\n",
      "\n"
     ]
    },
    {
     "name": "stdout",
     "output_type": "stream",
     "text": [
      "Epoch 50, Loss 0.0566\n",
      "Training Accuracy: 0.9452, Testing Accuracy: 0.9567\n",
      "\n"
     ]
    },
    {
     "name": "stdout",
     "output_type": "stream",
     "text": [
      "Epoch 60, Loss 0.0535\n",
      "Training Accuracy: 0.9479, Testing Accuracy: 0.9592\n",
      "\n"
     ]
    },
    {
     "name": "stdout",
     "output_type": "stream",
     "text": [
      "Epoch 70, Loss 0.051\n",
      "Training Accuracy: 0.9493, Testing Accuracy: 0.9602\n",
      "\n"
     ]
    },
    {
     "name": "stdout",
     "output_type": "stream",
     "text": [
      "Epoch 80, Loss 0.049\n",
      "Training Accuracy: 0.9514, Testing Accuracy: 0.9602\n",
      "\n"
     ]
    },
    {
     "name": "stdout",
     "output_type": "stream",
     "text": [
      "Epoch 90, Loss 0.0474\n",
      "Training Accuracy: 0.9528, Testing Accuracy: 0.9607\n",
      "\n"
     ]
    },
    {
     "name": "stdout",
     "output_type": "stream",
     "text": [
      "Epoch 100, Loss 0.046\n",
      "Training Accuracy: 0.9540, Testing Accuracy: 0.9607\n",
      "\n"
     ]
    },
    {
     "name": "stdout",
     "output_type": "stream",
     "text": [
      "Epoch 110, Loss 0.0448\n",
      "Training Accuracy: 0.9545, Testing Accuracy: 0.9622\n",
      "\n"
     ]
    },
    {
     "name": "stdout",
     "output_type": "stream",
     "text": [
      "Epoch 120, Loss 0.0438\n",
      "Training Accuracy: 0.9552, Testing Accuracy: 0.9627\n",
      "\n"
     ]
    },
    {
     "name": "stdout",
     "output_type": "stream",
     "text": [
      "Epoch 130, Loss 0.0429\n",
      "Training Accuracy: 0.9563, Testing Accuracy: 0.9622\n",
      "\n"
     ]
    },
    {
     "name": "stdout",
     "output_type": "stream",
     "text": [
      "Epoch 140, Loss 0.0421\n",
      "Training Accuracy: 0.9564, Testing Accuracy: 0.9632\n",
      "\n"
     ]
    },
    {
     "name": "stdout",
     "output_type": "stream",
     "text": [
      "Epoch 150, Loss 0.0413\n",
      "Training Accuracy: 0.9569, Testing Accuracy: 0.9637\n",
      "\n"
     ]
    },
    {
     "name": "stdout",
     "output_type": "stream",
     "text": [
      "Epoch 160, Loss 0.0407\n",
      "Training Accuracy: 0.9573, Testing Accuracy: 0.9647\n",
      "\n"
     ]
    },
    {
     "name": "stdout",
     "output_type": "stream",
     "text": [
      "Epoch 170, Loss 0.0401\n",
      "Training Accuracy: 0.9577, Testing Accuracy: 0.9647\n",
      "\n"
     ]
    },
    {
     "name": "stdout",
     "output_type": "stream",
     "text": [
      "Epoch 180, Loss 0.0395\n",
      "Training Accuracy: 0.9584, Testing Accuracy: 0.9652\n",
      "\n"
     ]
    },
    {
     "name": "stdout",
     "output_type": "stream",
     "text": [
      "Epoch 190, Loss 0.039\n",
      "Training Accuracy: 0.9587, Testing Accuracy: 0.9652\n",
      "\n"
     ]
    },
    {
     "name": "stdout",
     "output_type": "stream",
     "text": [
      "Epoch 200, Loss 0.0386\n",
      "Training Accuracy: 0.9589, Testing Accuracy: 0.9652\n",
      "\n"
     ]
    },
    {
     "name": "stdout",
     "output_type": "stream",
     "text": [
      "Epoch 210, Loss 0.0381\n",
      "Training Accuracy: 0.9589, Testing Accuracy: 0.9657\n",
      "\n"
     ]
    },
    {
     "name": "stdout",
     "output_type": "stream",
     "text": [
      "Epoch 220, Loss 0.0377\n",
      "Training Accuracy: 0.9594, Testing Accuracy: 0.9652\n",
      "\n"
     ]
    },
    {
     "name": "stdout",
     "output_type": "stream",
     "text": [
      "Epoch 230, Loss 0.0373\n",
      "Training Accuracy: 0.9596, Testing Accuracy: 0.9652\n",
      "\n"
     ]
    },
    {
     "name": "stdout",
     "output_type": "stream",
     "text": [
      "Epoch 240, Loss 0.037\n",
      "Training Accuracy: 0.9598, Testing Accuracy: 0.9652\n",
      "\n"
     ]
    },
    {
     "name": "stdout",
     "output_type": "stream",
     "text": [
      "Epoch 250, Loss 0.0366\n",
      "Training Accuracy: 0.9600, Testing Accuracy: 0.9652\n",
      "\n"
     ]
    },
    {
     "data": {
      "text/plain": [
       "0.051494605741827376"
      ]
     },
     "execution_count": 22,
     "metadata": {},
     "output_type": "execute_result"
    }
   ],
   "source": [
    "print(\"====== Logistic Regression ======\")\n",
    "learner_lr.train_loop(dl)"
   ]
  },
  {
   "cell_type": "markdown",
   "metadata": {
    "papermill": {
     "duration": 0.050295,
     "end_time": "2020-10-04T20:07:09.065238",
     "exception": false,
     "start_time": "2020-10-04T20:07:09.014943",
     "status": "completed"
    },
    "tags": []
   },
   "source": [
    "### Comparing results of NN and LR"
   ]
  },
  {
   "cell_type": "code",
   "execution_count": 23,
   "metadata": {
    "execution": {
     "iopub.execute_input": "2020-10-04T20:07:09.179464Z",
     "iopub.status.busy": "2020-10-04T20:07:09.173152Z",
     "iopub.status.idle": "2020-10-04T20:07:09.430279Z",
     "shell.execute_reply": "2020-10-04T20:07:09.429704Z"
    },
    "papermill": {
     "duration": 0.317296,
     "end_time": "2020-10-04T20:07:09.430427",
     "exception": false,
     "start_time": "2020-10-04T20:07:09.113131",
     "status": "completed"
    },
    "tags": []
   },
   "outputs": [
    {
     "data": {
      "text/plain": [
       "<matplotlib.legend.Legend at 0x7fe121b05240>"
      ]
     },
     "execution_count": 23,
     "metadata": {},
     "output_type": "execute_result"
    },
    {
     "data": {
      "image/png": "[encoded data removed]",
      "text/plain": [
       "<Figure size 1080x720 with 1 Axes>"
      ]
     },
     "metadata": {
      "needs_background": "light"
     },
     "output_type": "display_data"
    }
   ],
   "source": [
    "plt.figure(figsize=(15,10))\n",
    "\n",
    "# Neural Network plots\n",
    "plt.plot(acc_nn.accuracies, 'r-', label = \"Training Accuracies - NN\")\n",
    "plt.plot(acc_nn.test_accuracies, 'g-', label = \"Testing Accuracies - NN\")\n",
    "\n",
    "# Logistic Regression plots\n",
    "plt.plot(acc_lr.accuracies, 'k-', label = \"Training Accuracies - LR\")\n",
    "plt.plot(acc_lr.test_accuracies, 'b-', label = \"Testing Accuracies - LR\")\n",
    "\n",
    "plt.ylim(0.8, 1)\n",
    "\n",
    "plt.legend()\n",
    "\n"
   ]
  },
  {
   "cell_type": "markdown",
   "metadata": {
    "papermill": {
     "duration": 0.050121,
     "end_time": "2020-10-04T20:07:09.530261",
     "exception": false,
     "start_time": "2020-10-04T20:07:09.480140",
     "status": "completed"
    },
    "tags": []
   },
   "source": [
    "### From the plot, we can observe the following:\n",
    "- Neural Network achieves higher accuracy than the Logistic Regression model.\n",
    "- This apparently, is because of overfitting, i.e. NN captures more noise than data.\n",
    "- Testing accuracy of NN drops below the Training accuracy at higher epochs. This explains the over-fitting on training data.\n",
    "- Logistic Regression gives a reliable accuracy, without the above mentioned problem.\n"
   ]
  },
  {
   "cell_type": "markdown",
   "metadata": {
    "papermill": {
     "duration": 0.049907,
     "end_time": "2020-10-04T20:07:09.631995",
     "exception": false,
     "start_time": "2020-10-04T20:07:09.582088",
     "status": "completed"
    },
    "tags": []
   },
   "source": [
    "### Moving till the last but one layer (excluding it).\n",
    "#### Plotting the outputs of this layer of the NN."
   ]
  },
  {
   "cell_type": "code",
   "execution_count": 24,
   "metadata": {
    "execution": {
     "iopub.execute_input": "2020-10-04T20:07:09.741137Z",
     "iopub.status.busy": "2020-10-04T20:07:09.739437Z",
     "iopub.status.idle": "2020-10-04T20:07:09.750324Z",
     "shell.execute_reply": "2020-10-04T20:07:09.749696Z"
    },
    "papermill": {
     "duration": 0.069379,
     "end_time": "2020-10-04T20:07:09.750469",
     "exception": false,
     "start_time": "2020-10-04T20:07:09.681090",
     "status": "completed"
    },
    "tags": []
   },
   "outputs": [],
   "source": [
    "model_new = Model(layers[:-2])"
   ]
  },
  {
   "cell_type": "code",
   "execution_count": 25,
   "metadata": {
    "execution": {
     "iopub.execute_input": "2020-10-04T20:07:09.862407Z",
     "iopub.status.busy": "2020-10-04T20:07:09.861753Z",
     "iopub.status.idle": "2020-10-04T20:07:09.883994Z",
     "shell.execute_reply": "2020-10-04T20:07:09.884779Z"
    },
    "papermill": {
     "duration": 0.08336,
     "end_time": "2020-10-04T20:07:09.884953",
     "exception": false,
     "start_time": "2020-10-04T20:07:09.801593",
     "status": "completed"
    },
    "tags": []
   },
   "outputs": [],
   "source": [
    "plot_testing = model_new(testing_xdata)"
   ]
  },
  {
   "cell_type": "code",
   "execution_count": 26,
   "metadata": {
    "execution": {
     "iopub.execute_input": "2020-10-04T20:07:10.003885Z",
     "iopub.status.busy": "2020-10-04T20:07:10.003223Z",
     "iopub.status.idle": "2020-10-04T20:07:10.219509Z",
     "shell.execute_reply": "2020-10-04T20:07:10.218879Z"
    },
    "papermill": {
     "duration": 0.277417,
     "end_time": "2020-10-04T20:07:10.219661",
     "exception": false,
     "start_time": "2020-10-04T20:07:09.942244",
     "status": "completed"
    },
    "tags": []
   },
   "outputs": [
    {
     "data": {
      "text/plain": [
       "Text(0.5, 1.0, 'Outputs')"
      ]
     },
     "execution_count": 26,
     "metadata": {},
     "output_type": "execute_result"
    },
    {
     "data": {
      "image/png": "[encoded data removed]",
      "text/plain": [
       "<Figure size 576x504 with 1 Axes>"
      ]
     },
     "metadata": {
      "needs_background": "light"
     },
     "output_type": "display_data"
    }
   ],
   "source": [
    "plt.figure(figsize=(8,7))\n",
    "plt.scatter(plot_testing[:,0], plot_testing[:,1], alpha = 0.1, c = y_test.ravel());\n",
    "plt.title('Outputs')"
   ]
  },
  {
   "cell_type": "markdown",
   "metadata": {
    "papermill": {
     "duration": 0.051318,
     "end_time": "2020-10-04T20:07:10.326131",
     "exception": false,
     "start_time": "2020-10-04T20:07:10.274813",
     "status": "completed"
    },
    "tags": []
   },
   "source": [
    "### Plotting probability contours"
   ]
  },
  {
   "cell_type": "code",
   "execution_count": 27,
   "metadata": {
    "execution": {
     "iopub.execute_input": "2020-10-04T20:07:10.444556Z",
     "iopub.status.busy": "2020-10-04T20:07:10.438599Z",
     "iopub.status.idle": "2020-10-04T20:07:10.452015Z",
     "shell.execute_reply": "2020-10-04T20:07:10.452616Z"
    },
    "papermill": {
     "duration": 0.072055,
     "end_time": "2020-10-04T20:07:10.452770",
     "exception": false,
     "start_time": "2020-10-04T20:07:10.380715",
     "status": "completed"
    },
    "tags": []
   },
   "outputs": [],
   "source": [
    "model_prob = Model(layers[-2:]) "
   ]
  },
  {
   "cell_type": "code",
   "execution_count": 28,
   "metadata": {
    "execution": {
     "iopub.execute_input": "2020-10-04T20:07:10.565230Z",
     "iopub.status.busy": "2020-10-04T20:07:10.560046Z",
     "iopub.status.idle": "2020-10-04T20:07:10.577113Z",
     "shell.execute_reply": "2020-10-04T20:07:10.576585Z"
    },
    "papermill": {
     "duration": 0.072669,
     "end_time": "2020-10-04T20:07:10.577255",
     "exception": false,
     "start_time": "2020-10-04T20:07:10.504586",
     "status": "completed"
    },
    "tags": []
   },
   "outputs": [],
   "source": [
    "# Adjust the x and y ranges according to the above generated plot.\n",
    "x_range = np.linspace(-4, 1, 100) \n",
    "y_range = np.linspace(-6, 6, 100) \n",
    "x_grid, y_grid = np.meshgrid(x_range, y_range) # x_grid and y_grig are of size 100 X 100\n",
    "\n",
    "# converting x_grid and y_grid to continuous arrays\n",
    "x_grid_flat = np.ravel(x_grid)\n",
    "y_grid_flat = np.ravel(y_grid)\n",
    "\n",
    "# The last layer of the current model takes two columns as input. Hence transpose of np.vstack() is required.\n",
    "X = np.vstack((x_grid_flat, y_grid_flat)).T\n",
    "\n",
    "# x_grid and y_grid are of size 100 x 100\n",
    "probability_contour = model_prob(X).reshape(100,100) "
   ]
  },
  {
   "cell_type": "code",
   "execution_count": 29,
   "metadata": {
    "execution": {
     "iopub.execute_input": "2020-10-04T20:07:10.720991Z",
     "iopub.status.busy": "2020-10-04T20:07:10.703262Z",
     "iopub.status.idle": "2020-10-04T20:07:10.972796Z",
     "shell.execute_reply": "2020-10-04T20:07:10.973314Z"
    },
    "papermill": {
     "duration": 0.336488,
     "end_time": "2020-10-04T20:07:10.973492",
     "exception": false,
     "start_time": "2020-10-04T20:07:10.637004",
     "status": "completed"
    },
    "tags": []
   },
   "outputs": [
    {
     "data": {
      "image/png": "[encoded data removed]",
      "text/plain": [
       "<Figure size 720x648 with 1 Axes>"
      ]
     },
     "metadata": {
      "needs_background": "light"
     },
     "output_type": "display_data"
    }
   ],
   "source": [
    "plt.figure(figsize=(10,9))\n",
    "plt.scatter(plot_testing[:,0], plot_testing[:,1], alpha = 0.1, c = y_test.ravel())\n",
    "contours = plt.contour(x_grid,y_grid,probability_contour)\n",
    "plt.title('Probability Contours')\n",
    "plt.clabel(contours, inline = True );"
   ]
  }
 ],
 "metadata": {
  "kernelspec": {
   "display_name": "Python 3",
   "language": "python",
   "name": "python3"
  },
  "language_info": {
   "codemirror_mode": {
    "name": "ipython",
    "version": 3
   },
   "file_extension": ".py",
   "mimetype": "text/x-python",
   "name": "python",
   "nbconvert_exporter": "python",
   "pygments_lexer": "ipython3",
   "version": "3.6.12"
  },
  "papermill": {
   "duration": 146.108285,
   "end_time": "2020-10-04T20:07:11.355439",
   "environment_variables": {},
   "exception": null,
   "input_path": "2020-08-11-NeuralNetwork.ipynb",
   "output_path": "2020-08-11-NeuralNetwork.ipynb",
   "parameters": {},
   "start_time": "2020-10-04T20:04:45.247154",
   "version": "2.1.2"
  }
 },
 "nbformat": 4,
 "nbformat_minor": 4
}