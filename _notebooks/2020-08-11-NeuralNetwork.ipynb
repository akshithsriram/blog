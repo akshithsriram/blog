{
 "cells": [
  {
   "cell_type": "markdown",
   "metadata": {
    "papermill": {
     "duration": 0.035959,
     "end_time": "2020-10-06T10:04:50.217163",
     "exception": false,
     "start_time": "2020-10-06T10:04:50.181204",
     "status": "completed"
    },
    "tags": []
   },
   "source": [
    "# \"A Basic Neural Network: Differentiate Hand-Written Digits\"\n",
    "\n",
    "- badges: true\n",
    "- author: Akshith Sriram"
   ]
  },
  {
   "cell_type": "markdown",
   "metadata": {
    "papermill": {
     "duration": 0.027203,
     "end_time": "2020-10-06T10:04:50.273137",
     "exception": false,
     "start_time": "2020-10-06T10:04:50.245934",
     "status": "completed"
    },
    "tags": []
   },
   "source": [
    "### Key Objectives:\n",
    "- Building a neural network that differentiates two hand-written digits 3 and 8.\n",
    "- Comparing the results of this Neural Network (NN) to that of a Logistic Regression (LR) model.\n",
    "\n",
    "### Requirements:\n",
    "- 'Kudzu' : A neural network library that was designed during our course by [Univ.AI](www.univ.ai). \n",
    "- MNIST Database\n",
    "\n",
    "If MNIST is not installed, use the command `!pip install mnist` given below.\n",
    "It can be run both from the command line and Jupyter Notebook."
   ]
  },
  {
   "cell_type": "code",
   "execution_count": 1,
   "metadata": {
    "execution": {
     "iopub.execute_input": "2020-10-06T10:04:50.339389Z",
     "iopub.status.busy": "2020-10-06T10:04:50.338745Z",
     "iopub.status.idle": "2020-10-06T10:04:51.933179Z",
     "shell.execute_reply": "2020-10-06T10:04:51.932621Z"
    },
    "papermill": {
     "duration": 1.632546,
     "end_time": "2020-10-06T10:04:51.933387",
     "exception": false,
     "start_time": "2020-10-06T10:04:50.300841",
     "status": "completed"
    },
    "tags": []
   },
   "outputs": [
    {
     "name": "stdout",
     "output_type": "stream",
     "text": [
      "Collecting mnist\r\n"
     ]
    },
    {
     "name": "stdout",
     "output_type": "stream",
     "text": [
      "  Downloading mnist-0.2.2-py2.py3-none-any.whl (3.5 kB)\r\n",
      "Requirement already satisfied: numpy in /opt/hostedtoolcache/Python/3.6.12/x64/lib/python3.6/site-packages (from mnist) (1.19.2)\r\n"
     ]
    },
    {
     "name": "stdout",
     "output_type": "stream",
     "text": [
      "Installing collected packages: mnist\r\n",
      "Successfully installed mnist-0.2.2\r\n"
     ]
    }
   ],
   "source": [
    "!pip install mnist "
   ]
  },
  {
   "cell_type": "markdown",
   "metadata": {
    "papermill": {
     "duration": 0.02963,
     "end_time": "2020-10-06T10:04:51.990971",
     "exception": false,
     "start_time": "2020-10-06T10:04:51.961341",
     "status": "completed"
    },
    "tags": []
   },
   "source": [
    "#### Importing necessary libraries"
   ]
  },
  {
   "cell_type": "code",
   "execution_count": 2,
   "metadata": {
    "execution": {
     "iopub.execute_input": "2020-10-06T10:04:52.062138Z",
     "iopub.status.busy": "2020-10-06T10:04:52.061496Z",
     "iopub.status.idle": "2020-10-06T10:04:52.670970Z",
     "shell.execute_reply": "2020-10-06T10:04:52.670364Z"
    },
    "papermill": {
     "duration": 0.647225,
     "end_time": "2020-10-06T10:04:52.671171",
     "exception": false,
     "start_time": "2020-10-06T10:04:52.023946",
     "status": "completed"
    },
    "tags": []
   },
   "outputs": [],
   "source": [
    "%load_ext autoreload\n",
    "%autoreload 2\n",
    "\n",
    "%matplotlib inline\n",
    "import matplotlib.pyplot as plt\n",
    "\n",
    "import numpy as np\n",
    "import pandas as pd"
   ]
  },
  {
   "cell_type": "markdown",
   "metadata": {
    "papermill": {
     "duration": 0.029495,
     "end_time": "2020-10-06T10:04:52.731181",
     "exception": false,
     "start_time": "2020-10-06T10:04:52.701686",
     "status": "completed"
    },
    "tags": []
   },
   "source": [
    "### Preparing the Data"
   ]
  },
  {
   "cell_type": "code",
   "execution_count": 3,
   "metadata": {
    "execution": {
     "iopub.execute_input": "2020-10-06T10:04:52.797078Z",
     "iopub.status.busy": "2020-10-06T10:04:52.796477Z",
     "iopub.status.idle": "2020-10-06T10:04:52.807569Z",
     "shell.execute_reply": "2020-10-06T10:04:52.808178Z"
    },
    "papermill": {
     "duration": 0.048647,
     "end_time": "2020-10-06T10:04:52.808342",
     "exception": false,
     "start_time": "2020-10-06T10:04:52.759695",
     "status": "completed"
    },
    "tags": []
   },
   "outputs": [],
   "source": [
    "import mnist"
   ]
  },
  {
   "cell_type": "code",
   "execution_count": 4,
   "metadata": {
    "execution": {
     "iopub.execute_input": "2020-10-06T10:04:52.871161Z",
     "iopub.status.busy": "2020-10-06T10:04:52.870457Z",
     "iopub.status.idle": "2020-10-06T10:04:54.598789Z",
     "shell.execute_reply": "2020-10-06T10:04:54.597717Z"
    },
    "papermill": {
     "duration": 1.761845,
     "end_time": "2020-10-06T10:04:54.598920",
     "exception": false,
     "start_time": "2020-10-06T10:04:52.837075",
     "status": "completed"
    },
    "tags": []
   },
   "outputs": [],
   "source": [
    "train_images = mnist.train_images()\n",
    "train_labels = mnist.train_labels()"
   ]
  },
  {
   "cell_type": "code",
   "execution_count": 5,
   "metadata": {
    "execution": {
     "iopub.execute_input": "2020-10-06T10:04:54.664325Z",
     "iopub.status.busy": "2020-10-06T10:04:54.662648Z",
     "iopub.status.idle": "2020-10-06T10:04:54.678740Z",
     "shell.execute_reply": "2020-10-06T10:04:54.678125Z"
    },
    "papermill": {
     "duration": 0.051228,
     "end_time": "2020-10-06T10:04:54.678866",
     "exception": false,
     "start_time": "2020-10-06T10:04:54.627638",
     "status": "completed"
    },
    "tags": []
   },
   "outputs": [
    {
     "data": {
      "text/plain": [
       "((60000, 28, 28), (60000,))"
      ]
     },
     "execution_count": 5,
     "metadata": {},
     "output_type": "execute_result"
    }
   ],
   "source": [
    "train_images.shape, train_labels.shape"
   ]
  },
  {
   "cell_type": "code",
   "execution_count": 6,
   "metadata": {
    "execution": {
     "iopub.execute_input": "2020-10-06T10:04:54.743453Z",
     "iopub.status.busy": "2020-10-06T10:04:54.742610Z",
     "iopub.status.idle": "2020-10-06T10:04:56.015460Z",
     "shell.execute_reply": "2020-10-06T10:04:56.014760Z"
    },
    "papermill": {
     "duration": 1.30681,
     "end_time": "2020-10-06T10:04:56.015726",
     "exception": false,
     "start_time": "2020-10-06T10:04:54.708916",
     "status": "completed"
    },
    "tags": []
   },
   "outputs": [],
   "source": [
    "test_images = mnist.test_images()\n",
    "test_labels = mnist.test_labels()"
   ]
  },
  {
   "cell_type": "code",
   "execution_count": 7,
   "metadata": {
    "execution": {
     "iopub.execute_input": "2020-10-06T10:04:56.097907Z",
     "iopub.status.busy": "2020-10-06T10:04:56.097202Z",
     "iopub.status.idle": "2020-10-06T10:04:56.107965Z",
     "shell.execute_reply": "2020-10-06T10:04:56.107295Z"
    },
    "papermill": {
     "duration": 0.054876,
     "end_time": "2020-10-06T10:04:56.108091",
     "exception": false,
     "start_time": "2020-10-06T10:04:56.053215",
     "status": "completed"
    },
    "tags": []
   },
   "outputs": [
    {
     "data": {
      "text/plain": [
       "((10000, 28, 28), (10000,))"
      ]
     },
     "execution_count": 7,
     "metadata": {},
     "output_type": "execute_result"
    }
   ],
   "source": [
    "test_images.shape, test_labels.shape"
   ]
  },
  {
   "cell_type": "code",
   "execution_count": 8,
   "metadata": {
    "execution": {
     "iopub.execute_input": "2020-10-06T10:04:56.180590Z",
     "iopub.status.busy": "2020-10-06T10:04:56.171293Z",
     "iopub.status.idle": "2020-10-06T10:04:56.347278Z",
     "shell.execute_reply": "2020-10-06T10:04:56.347898Z"
    },
    "papermill": {
     "duration": 0.210472,
     "end_time": "2020-10-06T10:04:56.348072",
     "exception": false,
     "start_time": "2020-10-06T10:04:56.137600",
     "status": "completed"
    },
    "tags": []
   },
   "outputs": [
    {
     "name": "stdout",
     "output_type": "stream",
     "text": [
      "2\n"
     ]
    },
    {
     "data": {
      "text/plain": [
       "<matplotlib.image.AxesImage at 0x7f5647302940>"
      ]
     },
     "execution_count": 8,
     "metadata": {},
     "output_type": "execute_result"
    },
    {
     "data": {
      "image/png": "[encoded data removed]",
      "text/plain": [
       "<Figure size 432x288 with 1 Axes>"
      ]
     },
     "metadata": {
      "needs_background": "light"
     },
     "output_type": "display_data"
    }
   ],
   "source": [
    "image_index = 7776 # You may select anything up to 60,000\n",
    "print(train_labels[image_index]) \n",
    "plt.imshow(train_images[image_index], cmap='Greys')"
   ]
  },
  {
   "cell_type": "markdown",
   "metadata": {
    "papermill": {
     "duration": 0.030472,
     "end_time": "2020-10-06T10:04:56.408874",
     "exception": false,
     "start_time": "2020-10-06T10:04:56.378402",
     "status": "completed"
    },
    "tags": []
   },
   "source": [
    "## Filter data to get 3 and 8 out"
   ]
  },
  {
   "cell_type": "code",
   "execution_count": 9,
   "metadata": {
    "execution": {
     "iopub.execute_input": "2020-10-06T10:04:56.478171Z",
     "iopub.status.busy": "2020-10-06T10:04:56.477454Z",
     "iopub.status.idle": "2020-10-06T10:04:56.497014Z",
     "shell.execute_reply": "2020-10-06T10:04:56.496477Z"
    },
    "papermill": {
     "duration": 0.055907,
     "end_time": "2020-10-06T10:04:56.497226",
     "exception": false,
     "start_time": "2020-10-06T10:04:56.441319",
     "status": "completed"
    },
    "tags": []
   },
   "outputs": [],
   "source": [
    "train_filter = np.where((train_labels == 3 ) | (train_labels == 8))\n",
    "test_filter = np.where((test_labels == 3) | (test_labels == 8))\n",
    "X_train, y_train = train_images[train_filter], train_labels[train_filter]\n",
    "X_test, y_test = test_images[test_filter], test_labels[test_filter]"
   ]
  },
  {
   "cell_type": "markdown",
   "metadata": {
    "papermill": {
     "duration": 0.032883,
     "end_time": "2020-10-06T10:04:56.562698",
     "exception": false,
     "start_time": "2020-10-06T10:04:56.529815",
     "status": "completed"
    },
    "tags": []
   },
   "source": [
    "We normalize the pixel values in the 0 to 1 range"
   ]
  },
  {
   "cell_type": "code",
   "execution_count": 10,
   "metadata": {
    "execution": {
     "iopub.execute_input": "2020-10-06T10:04:56.632018Z",
     "iopub.status.busy": "2020-10-06T10:04:56.631331Z",
     "iopub.status.idle": "2020-10-06T10:04:56.696122Z",
     "shell.execute_reply": "2020-10-06T10:04:56.695441Z"
    },
    "papermill": {
     "duration": 0.10234,
     "end_time": "2020-10-06T10:04:56.696279",
     "exception": false,
     "start_time": "2020-10-06T10:04:56.593939",
     "status": "completed"
    },
    "tags": []
   },
   "outputs": [],
   "source": [
    "X_train = X_train/255.\n",
    "X_test = X_test/255."
   ]
  },
  {
   "cell_type": "markdown",
   "metadata": {
    "papermill": {
     "duration": 0.033511,
     "end_time": "2020-10-06T10:04:56.770755",
     "exception": false,
     "start_time": "2020-10-06T10:04:56.737244",
     "status": "completed"
    },
    "tags": []
   },
   "source": [
    "Setup the labels as 1 (when the digit is 3) and 0 (when the digit is 8)"
   ]
  },
  {
   "cell_type": "code",
   "execution_count": 11,
   "metadata": {
    "execution": {
     "iopub.execute_input": "2020-10-06T10:04:56.839294Z",
     "iopub.status.busy": "2020-10-06T10:04:56.838559Z",
     "iopub.status.idle": "2020-10-06T10:04:56.850957Z",
     "shell.execute_reply": "2020-10-06T10:04:56.850331Z"
    },
    "papermill": {
     "duration": 0.048944,
     "end_time": "2020-10-06T10:04:56.851092",
     "exception": false,
     "start_time": "2020-10-06T10:04:56.802148",
     "status": "completed"
    },
    "tags": []
   },
   "outputs": [],
   "source": [
    "y_train = 1*(y_train==3)\n",
    "y_test = 1*(y_test==3)"
   ]
  },
  {
   "cell_type": "code",
   "execution_count": 12,
   "metadata": {
    "execution": {
     "iopub.execute_input": "2020-10-06T10:04:56.928499Z",
     "iopub.status.busy": "2020-10-06T10:04:56.927736Z",
     "iopub.status.idle": "2020-10-06T10:04:56.941733Z",
     "shell.execute_reply": "2020-10-06T10:04:56.941142Z"
    },
    "papermill": {
     "duration": 0.056671,
     "end_time": "2020-10-06T10:04:56.941864",
     "exception": false,
     "start_time": "2020-10-06T10:04:56.885193",
     "status": "completed"
    },
    "tags": []
   },
   "outputs": [
    {
     "data": {
      "text/plain": [
       "((11982, 28, 28), (1984, 28, 28))"
      ]
     },
     "execution_count": 12,
     "metadata": {},
     "output_type": "execute_result"
    }
   ],
   "source": [
    "X_train.shape, X_test.shape"
   ]
  },
  {
   "cell_type": "markdown",
   "metadata": {
    "papermill": {
     "duration": 0.030283,
     "end_time": "2020-10-06T10:04:57.003303",
     "exception": false,
     "start_time": "2020-10-06T10:04:56.973020",
     "status": "completed"
    },
    "tags": []
   },
   "source": [
    "### Reshape the input data to create a linear array"
   ]
  },
  {
   "cell_type": "code",
   "execution_count": 13,
   "metadata": {
    "execution": {
     "iopub.execute_input": "2020-10-06T10:04:57.072854Z",
     "iopub.status.busy": "2020-10-06T10:04:57.071811Z",
     "iopub.status.idle": "2020-10-06T10:04:57.088255Z",
     "shell.execute_reply": "2020-10-06T10:04:57.087672Z"
    },
    "papermill": {
     "duration": 0.05421,
     "end_time": "2020-10-06T10:04:57.088389",
     "exception": false,
     "start_time": "2020-10-06T10:04:57.034179",
     "status": "completed"
    },
    "tags": []
   },
   "outputs": [
    {
     "data": {
      "text/plain": [
       "((11982, 784), (1984, 784))"
      ]
     },
     "execution_count": 13,
     "metadata": {},
     "output_type": "execute_result"
    }
   ],
   "source": [
    "X_train = X_train.reshape(X_train.shape[0], -1)\n",
    "X_test = X_test.reshape(X_test.shape[0], -1)\n",
    "X_train.shape, X_test.shape"
   ]
  },
  {
   "cell_type": "markdown",
   "metadata": {
    "papermill": {
     "duration": 0.030915,
     "end_time": "2020-10-06T10:04:57.149671",
     "exception": false,
     "start_time": "2020-10-06T10:04:57.118756",
     "status": "completed"
    },
    "tags": []
   },
   "source": [
    "### Importing appropriate functions from 'Kudzu'"
   ]
  },
  {
   "cell_type": "code",
   "execution_count": 14,
   "metadata": {
    "execution": {
     "iopub.execute_input": "2020-10-06T10:04:57.216288Z",
     "iopub.status.busy": "2020-10-06T10:04:57.215502Z",
     "iopub.status.idle": "2020-10-06T10:04:57.236614Z",
     "shell.execute_reply": "2020-10-06T10:04:57.236055Z"
    },
    "papermill": {
     "duration": 0.055788,
     "end_time": "2020-10-06T10:04:57.236731",
     "exception": false,
     "start_time": "2020-10-06T10:04:57.180943",
     "status": "completed"
    },
    "tags": []
   },
   "outputs": [],
   "source": [
    "from kudzu.layer import Sigmoid\n",
    "from kudzu.layer import Relu\n",
    "from kudzu.layer import Affine, Sigmoid\n",
    "\n",
    "from kudzu.model import Model\n",
    "from kudzu.train import Learner\n",
    "from kudzu.optim import GD\n",
    "from kudzu.data import Data, Dataloader, Sampler\n",
    "\n",
    "from kudzu.callbacks import AccCallback\n",
    "from kudzu.callbacks import ClfCallback\n",
    "\n",
    "from kudzu.loss import MSE"
   ]
  },
  {
   "cell_type": "markdown",
   "metadata": {
    "papermill": {
     "duration": 0.031171,
     "end_time": "2020-10-06T10:04:57.299325",
     "exception": false,
     "start_time": "2020-10-06T10:04:57.268154",
     "status": "completed"
    },
    "tags": []
   },
   "source": [
    "### Let us create a `Config` class, to store important parameters. \n",
    "This class essentially plays the role of a dictionary."
   ]
  },
  {
   "cell_type": "code",
   "execution_count": 15,
   "metadata": {
    "execution": {
     "iopub.execute_input": "2020-10-06T10:04:57.373878Z",
     "iopub.status.busy": "2020-10-06T10:04:57.373234Z",
     "iopub.status.idle": "2020-10-06T10:04:57.386368Z",
     "shell.execute_reply": "2020-10-06T10:04:57.385787Z"
    },
    "papermill": {
     "duration": 0.055256,
     "end_time": "2020-10-06T10:04:57.386496",
     "exception": false,
     "start_time": "2020-10-06T10:04:57.331240",
     "status": "completed"
    },
    "tags": []
   },
   "outputs": [],
   "source": [
    "class Config:\n",
    "    pass\n",
    "config = Config()\n",
    "config.lr = 0.001\n",
    "config.num_epochs = 251\n",
    "config.bs = 50"
   ]
  },
  {
   "cell_type": "markdown",
   "metadata": {
    "papermill": {
     "duration": 0.031919,
     "end_time": "2020-10-06T10:04:57.450403",
     "exception": false,
     "start_time": "2020-10-06T10:04:57.418484",
     "status": "completed"
    },
    "tags": []
   },
   "source": [
    "### Initializing data to the variables"
   ]
  },
  {
   "cell_type": "code",
   "execution_count": 16,
   "metadata": {
    "execution": {
     "iopub.execute_input": "2020-10-06T10:04:57.520277Z",
     "iopub.status.busy": "2020-10-06T10:04:57.519579Z",
     "iopub.status.idle": "2020-10-06T10:04:57.533149Z",
     "shell.execute_reply": "2020-10-06T10:04:57.533629Z"
    },
    "papermill": {
     "duration": 0.049356,
     "end_time": "2020-10-06T10:04:57.533816",
     "exception": false,
     "start_time": "2020-10-06T10:04:57.484460",
     "status": "completed"
    },
    "tags": []
   },
   "outputs": [],
   "source": [
    "data = Data(X_train, y_train.reshape(-1,1))\n",
    "sampler = Sampler(data, config.bs, shuffle=True)\n",
    "\n",
    "dl = Dataloader(data, sampler)\n",
    "\n",
    "opt = GD(config.lr)\n",
    "loss = MSE()"
   ]
  },
  {
   "cell_type": "code",
   "execution_count": 17,
   "metadata": {
    "execution": {
     "iopub.execute_input": "2020-10-06T10:04:57.618267Z",
     "iopub.status.busy": "2020-10-06T10:04:57.611680Z",
     "iopub.status.idle": "2020-10-06T10:04:57.621276Z",
     "shell.execute_reply": "2020-10-06T10:04:57.620646Z"
    },
    "papermill": {
     "duration": 0.053634,
     "end_time": "2020-10-06T10:04:57.621412",
     "exception": false,
     "start_time": "2020-10-06T10:04:57.567778",
     "status": "completed"
    },
    "tags": []
   },
   "outputs": [],
   "source": [
    "training_xdata = X_train\n",
    "testing_xdata = X_test\n",
    "training_ydata = y_train.reshape(-1,1)\n",
    "testing_ydata = y_test.reshape(-1,1)"
   ]
  },
  {
   "cell_type": "markdown",
   "metadata": {
    "papermill": {
     "duration": 0.031062,
     "end_time": "2020-10-06T10:04:57.684926",
     "exception": false,
     "start_time": "2020-10-06T10:04:57.653864",
     "status": "completed"
    },
    "tags": []
   },
   "source": [
    "### Running Models with the Training data\n",
    "Details about the network layers:\n",
    "- A first affine layer has 784 inputs and does 100 affine transforms. These are followed by a Relu\n",
    "- A second affine layer has 100 inputs from the 100 activations of the past layer, and does 100 affine transforms. These are followed by a Relu\n",
    "- A third affine layer has 100 activations and does 2 affine transformations to create an embedding for visualization. There is no non-linearity here.\n",
    "- A final \"logistic regression\" which has an affine transform from 2 inputs to 1 output, which is squeezed through a sigmoid.\n",
    "\n",
    "Help taken from Anshuman's Notebook."
   ]
  },
  {
   "cell_type": "code",
   "execution_count": 18,
   "metadata": {
    "execution": {
     "iopub.execute_input": "2020-10-06T10:04:57.759124Z",
     "iopub.status.busy": "2020-10-06T10:04:57.758436Z",
     "iopub.status.idle": "2020-10-06T10:04:57.773236Z",
     "shell.execute_reply": "2020-10-06T10:04:57.773766Z"
    },
    "papermill": {
     "duration": 0.056308,
     "end_time": "2020-10-06T10:04:57.773906",
     "exception": false,
     "start_time": "2020-10-06T10:04:57.717598",
     "status": "completed"
    },
    "tags": []
   },
   "outputs": [],
   "source": [
    "# layers for the Neural Network\n",
    "layers = [Affine(\"first\", 784, 100), Relu(\"first\"), Affine(\"second\", 100, 100), Relu(\"second\"), Affine(\"third\", 100, 2), Affine(\"final\", 2, 1), Sigmoid(\"final\")]\n",
    "model_nn = Model(layers)\n",
    "\n",
    "# layers for the Logistic Regression\n",
    "layers_lr = [Affine(\"logits\", 784, 1), Sigmoid(\"sigmoid\")]\n",
    "model_lr = Model(layers_lr)"
   ]
  },
  {
   "cell_type": "code",
   "execution_count": 19,
   "metadata": {
    "execution": {
     "iopub.execute_input": "2020-10-06T10:04:57.843584Z",
     "iopub.status.busy": "2020-10-06T10:04:57.842869Z",
     "iopub.status.idle": "2020-10-06T10:04:57.854679Z",
     "shell.execute_reply": "2020-10-06T10:04:57.855192Z"
    },
    "papermill": {
     "duration": 0.046791,
     "end_time": "2020-10-06T10:04:57.855372",
     "exception": false,
     "start_time": "2020-10-06T10:04:57.808581",
     "status": "completed"
    },
    "tags": []
   },
   "outputs": [],
   "source": [
    "# suffix _nn stands for Neural Network.\n",
    "learner_nn = Learner(loss, model_nn, opt, config.num_epochs)\n",
    "acc_nn = ClfCallback(learner_nn, config.bs, training_xdata , testing_xdata, training_ydata, testing_ydata)\n",
    "learner_nn.set_callbacks([acc_nn])"
   ]
  },
  {
   "cell_type": "code",
   "execution_count": 20,
   "metadata": {
    "execution": {
     "iopub.execute_input": "2020-10-06T10:04:57.920128Z",
     "iopub.status.busy": "2020-10-06T10:04:57.919415Z",
     "iopub.status.idle": "2020-10-06T10:07:18.810311Z",
     "shell.execute_reply": "2020-10-06T10:07:18.811258Z"
    },
    "papermill": {
     "duration": 140.925233,
     "end_time": "2020-10-06T10:07:18.811474",
     "exception": false,
     "start_time": "2020-10-06T10:04:57.886241",
     "status": "completed"
    },
    "tags": []
   },
   "outputs": [
    {
     "name": "stdout",
     "output_type": "stream",
     "text": [
      "====== Neural Network ======\n"
     ]
    },
    {
     "name": "stdout",
     "output_type": "stream",
     "text": [
      "Epoch 0, Loss 0.2422\n",
      "Training Accuracy: 0.6784, Testing Accuracy: 0.6668\n",
      "\n"
     ]
    },
    {
     "name": "stdout",
     "output_type": "stream",
     "text": [
      "Epoch 10, Loss 0.0849\n",
      "Training Accuracy: 0.9198, Testing Accuracy: 0.9309\n",
      "\n"
     ]
    },
    {
     "name": "stdout",
     "output_type": "stream",
     "text": [
      "Epoch 20, Loss 0.0537\n",
      "Training Accuracy: 0.9442, Testing Accuracy: 0.9531\n",
      "\n"
     ]
    },
    {
     "name": "stdout",
     "output_type": "stream",
     "text": [
      "Epoch 30, Loss 0.0426\n",
      "Training Accuracy: 0.9537, Testing Accuracy: 0.9607\n",
      "\n"
     ]
    },
    {
     "name": "stdout",
     "output_type": "stream",
     "text": [
      "Epoch 40, Loss 0.037\n",
      "Training Accuracy: 0.9589, Testing Accuracy: 0.9632\n",
      "\n"
     ]
    },
    {
     "name": "stdout",
     "output_type": "stream",
     "text": [
      "Epoch 50, Loss 0.0337\n",
      "Training Accuracy: 0.9625, Testing Accuracy: 0.9657\n",
      "\n"
     ]
    },
    {
     "name": "stdout",
     "output_type": "stream",
     "text": [
      "Epoch 60, Loss 0.0314\n",
      "Training Accuracy: 0.9643, Testing Accuracy: 0.9677\n",
      "\n"
     ]
    },
    {
     "name": "stdout",
     "output_type": "stream",
     "text": [
      "Epoch 70, Loss 0.0296\n",
      "Training Accuracy: 0.9669, Testing Accuracy: 0.9682\n",
      "\n"
     ]
    },
    {
     "name": "stdout",
     "output_type": "stream",
     "text": [
      "Epoch 80, Loss 0.0282\n",
      "Training Accuracy: 0.9678, Testing Accuracy: 0.9682\n",
      "\n"
     ]
    },
    {
     "name": "stdout",
     "output_type": "stream",
     "text": [
      "Epoch 90, Loss 0.027\n",
      "Training Accuracy: 0.9688, Testing Accuracy: 0.9677\n",
      "\n"
     ]
    },
    {
     "name": "stdout",
     "output_type": "stream",
     "text": [
      "Epoch 100, Loss 0.026\n",
      "Training Accuracy: 0.9703, Testing Accuracy: 0.9688\n",
      "\n"
     ]
    },
    {
     "name": "stdout",
     "output_type": "stream",
     "text": [
      "Epoch 110, Loss 0.0251\n",
      "Training Accuracy: 0.9710, Testing Accuracy: 0.9698\n",
      "\n"
     ]
    },
    {
     "name": "stdout",
     "output_type": "stream",
     "text": [
      "Epoch 120, Loss 0.0243\n",
      "Training Accuracy: 0.9718, Testing Accuracy: 0.9703\n",
      "\n"
     ]
    },
    {
     "name": "stdout",
     "output_type": "stream",
     "text": [
      "Epoch 130, Loss 0.0236\n",
      "Training Accuracy: 0.9726, Testing Accuracy: 0.9703\n",
      "\n"
     ]
    },
    {
     "name": "stdout",
     "output_type": "stream",
     "text": [
      "Epoch 140, Loss 0.0229\n",
      "Training Accuracy: 0.9736, Testing Accuracy: 0.9728\n",
      "\n"
     ]
    },
    {
     "name": "stdout",
     "output_type": "stream",
     "text": [
      "Epoch 150, Loss 0.0222\n",
      "Training Accuracy: 0.9744, Testing Accuracy: 0.9728\n",
      "\n"
     ]
    },
    {
     "name": "stdout",
     "output_type": "stream",
     "text": [
      "Epoch 160, Loss 0.0216\n",
      "Training Accuracy: 0.9756, Testing Accuracy: 0.9723\n",
      "\n"
     ]
    },
    {
     "name": "stdout",
     "output_type": "stream",
     "text": [
      "Epoch 170, Loss 0.0211\n",
      "Training Accuracy: 0.9763, Testing Accuracy: 0.9723\n",
      "\n"
     ]
    },
    {
     "name": "stdout",
     "output_type": "stream",
     "text": [
      "Epoch 180, Loss 0.0206\n",
      "Training Accuracy: 0.9771, Testing Accuracy: 0.9728\n",
      "\n"
     ]
    },
    {
     "name": "stdout",
     "output_type": "stream",
     "text": [
      "Epoch 190, Loss 0.0201\n",
      "Training Accuracy: 0.9776, Testing Accuracy: 0.9723\n",
      "\n"
     ]
    },
    {
     "name": "stdout",
     "output_type": "stream",
     "text": [
      "Epoch 200, Loss 0.0196\n",
      "Training Accuracy: 0.9783, Testing Accuracy: 0.9718\n",
      "\n"
     ]
    },
    {
     "name": "stdout",
     "output_type": "stream",
     "text": [
      "Epoch 210, Loss 0.0191\n",
      "Training Accuracy: 0.9791, Testing Accuracy: 0.9723\n",
      "\n"
     ]
    },
    {
     "name": "stdout",
     "output_type": "stream",
     "text": [
      "Epoch 220, Loss 0.0187\n",
      "Training Accuracy: 0.9795, Testing Accuracy: 0.9723\n",
      "\n"
     ]
    },
    {
     "name": "stdout",
     "output_type": "stream",
     "text": [
      "Epoch 230, Loss 0.0183\n",
      "Training Accuracy: 0.9799, Testing Accuracy: 0.9733\n",
      "\n"
     ]
    },
    {
     "name": "stdout",
     "output_type": "stream",
     "text": [
      "Epoch 240, Loss 0.0179\n",
      "Training Accuracy: 0.9809, Testing Accuracy: 0.9738\n",
      "\n"
     ]
    },
    {
     "name": "stdout",
     "output_type": "stream",
     "text": [
      "Epoch 250, Loss 0.0175\n",
      "Training Accuracy: 0.9812, Testing Accuracy: 0.9748\n",
      "\n"
     ]
    },
    {
     "data": {
      "text/plain": [
       "0.0388301025421905"
      ]
     },
     "execution_count": 20,
     "metadata": {},
     "output_type": "execute_result"
    }
   ],
   "source": [
    "print(\"====== Neural Network ======\")\n",
    "learner_nn.train_loop(dl)"
   ]
  },
  {
   "cell_type": "markdown",
   "metadata": {
    "papermill": {
     "duration": 0.041105,
     "end_time": "2020-10-06T10:07:18.896317",
     "exception": false,
     "start_time": "2020-10-06T10:07:18.855212",
     "status": "completed"
    },
    "tags": []
   },
   "source": [
    "### Logistic Regression based Implementation."
   ]
  },
  {
   "cell_type": "code",
   "execution_count": 21,
   "metadata": {
    "execution": {
     "iopub.execute_input": "2020-10-06T10:07:18.985643Z",
     "iopub.status.busy": "2020-10-06T10:07:18.984393Z",
     "iopub.status.idle": "2020-10-06T10:07:18.997233Z",
     "shell.execute_reply": "2020-10-06T10:07:18.996589Z"
    },
    "papermill": {
     "duration": 0.057846,
     "end_time": "2020-10-06T10:07:18.997375",
     "exception": false,
     "start_time": "2020-10-06T10:07:18.939529",
     "status": "completed"
    },
    "tags": []
   },
   "outputs": [],
   "source": [
    "learner_lr = Learner(loss, model_lr, opt, config.num_epochs)\n",
    "acc_lr = ClfCallback(learner_lr, config.bs, training_xdata , testing_xdata, training_ydata, testing_ydata)\n",
    "learner_lr.set_callbacks([acc_lr])"
   ]
  },
  {
   "cell_type": "code",
   "execution_count": 22,
   "metadata": {
    "execution": {
     "iopub.execute_input": "2020-10-06T10:07:19.088237Z",
     "iopub.status.busy": "2020-10-06T10:07:19.087513Z",
     "iopub.status.idle": "2020-10-06T10:07:40.559471Z",
     "shell.execute_reply": "2020-10-06T10:07:40.560350Z"
    },
    "papermill": {
     "duration": 21.520441,
     "end_time": "2020-10-06T10:07:40.560522",
     "exception": false,
     "start_time": "2020-10-06T10:07:19.040081",
     "status": "completed"
    },
    "tags": []
   },
   "outputs": [
    {
     "name": "stdout",
     "output_type": "stream",
     "text": [
      "====== Logistic Regression ======\n",
      "Epoch 0, Loss 0.2281\n",
      "Training Accuracy: 0.7523, Testing Accuracy: 0.7560\n",
      "\n"
     ]
    },
    {
     "name": "stdout",
     "output_type": "stream",
     "text": [
      "Epoch 10, Loss 0.1018\n",
      "Training Accuracy: 0.9098, Testing Accuracy: 0.9168\n",
      "\n"
     ]
    },
    {
     "name": "stdout",
     "output_type": "stream",
     "text": [
      "Epoch 20, Loss 0.079\n",
      "Training Accuracy: 0.9276, Testing Accuracy: 0.9335\n",
      "\n"
     ]
    },
    {
     "name": "stdout",
     "output_type": "stream",
     "text": [
      "Epoch 30, Loss 0.0683\n",
      "Training Accuracy: 0.9349, Testing Accuracy: 0.9425\n",
      "\n"
     ]
    },
    {
     "name": "stdout",
     "output_type": "stream",
     "text": [
      "Epoch 40, Loss 0.0617\n",
      "Training Accuracy: 0.9399, Testing Accuracy: 0.9506\n",
      "\n"
     ]
    },
    {
     "name": "stdout",
     "output_type": "stream",
     "text": [
      "Epoch 50, Loss 0.0572\n",
      "Training Accuracy: 0.9447, Testing Accuracy: 0.9551\n",
      "\n"
     ]
    },
    {
     "name": "stdout",
     "output_type": "stream",
     "text": [
      "Epoch 60, Loss 0.0539\n",
      "Training Accuracy: 0.9475, Testing Accuracy: 0.9582\n",
      "\n"
     ]
    },
    {
     "name": "stdout",
     "output_type": "stream",
     "text": [
      "Epoch 70, Loss 0.0513\n",
      "Training Accuracy: 0.9493, Testing Accuracy: 0.9602\n",
      "\n"
     ]
    },
    {
     "name": "stdout",
     "output_type": "stream",
     "text": [
      "Epoch 80, Loss 0.0493\n",
      "Training Accuracy: 0.9512, Testing Accuracy: 0.9612\n",
      "\n"
     ]
    },
    {
     "name": "stdout",
     "output_type": "stream",
     "text": [
      "Epoch 90, Loss 0.0476\n",
      "Training Accuracy: 0.9525, Testing Accuracy: 0.9617\n",
      "\n"
     ]
    },
    {
     "name": "stdout",
     "output_type": "stream",
     "text": [
      "Epoch 100, Loss 0.0461\n",
      "Training Accuracy: 0.9537, Testing Accuracy: 0.9622\n",
      "\n"
     ]
    },
    {
     "name": "stdout",
     "output_type": "stream",
     "text": [
      "Epoch 110, Loss 0.0449\n",
      "Training Accuracy: 0.9543, Testing Accuracy: 0.9632\n",
      "\n"
     ]
    },
    {
     "name": "stdout",
     "output_type": "stream",
     "text": [
      "Epoch 120, Loss 0.0438\n",
      "Training Accuracy: 0.9557, Testing Accuracy: 0.9637\n",
      "\n"
     ]
    },
    {
     "name": "stdout",
     "output_type": "stream",
     "text": [
      "Epoch 130, Loss 0.0429\n",
      "Training Accuracy: 0.9564, Testing Accuracy: 0.9642\n",
      "\n"
     ]
    },
    {
     "name": "stdout",
     "output_type": "stream",
     "text": [
      "Epoch 140, Loss 0.0421\n",
      "Training Accuracy: 0.9568, Testing Accuracy: 0.9662\n",
      "\n"
     ]
    },
    {
     "name": "stdout",
     "output_type": "stream",
     "text": [
      "Epoch 150, Loss 0.0413\n",
      "Training Accuracy: 0.9572, Testing Accuracy: 0.9667\n",
      "\n"
     ]
    },
    {
     "name": "stdout",
     "output_type": "stream",
     "text": [
      "Epoch 160, Loss 0.0406\n",
      "Training Accuracy: 0.9579, Testing Accuracy: 0.9667\n",
      "\n"
     ]
    },
    {
     "name": "stdout",
     "output_type": "stream",
     "text": [
      "Epoch 170, Loss 0.04\n",
      "Training Accuracy: 0.9584, Testing Accuracy: 0.9672\n",
      "\n"
     ]
    },
    {
     "name": "stdout",
     "output_type": "stream",
     "text": [
      "Epoch 180, Loss 0.0395\n",
      "Training Accuracy: 0.9588, Testing Accuracy: 0.9677\n",
      "\n"
     ]
    },
    {
     "name": "stdout",
     "output_type": "stream",
     "text": [
      "Epoch 190, Loss 0.0389\n",
      "Training Accuracy: 0.9593, Testing Accuracy: 0.9677\n",
      "\n"
     ]
    },
    {
     "name": "stdout",
     "output_type": "stream",
     "text": [
      "Epoch 200, Loss 0.0385\n",
      "Training Accuracy: 0.9597, Testing Accuracy: 0.9677\n",
      "\n"
     ]
    },
    {
     "name": "stdout",
     "output_type": "stream",
     "text": [
      "Epoch 210, Loss 0.038\n",
      "Training Accuracy: 0.9600, Testing Accuracy: 0.9677\n",
      "\n"
     ]
    },
    {
     "name": "stdout",
     "output_type": "stream",
     "text": [
      "Epoch 220, Loss 0.0376\n",
      "Training Accuracy: 0.9604, Testing Accuracy: 0.9682\n",
      "\n"
     ]
    },
    {
     "name": "stdout",
     "output_type": "stream",
     "text": [
      "Epoch 230, Loss 0.0372\n",
      "Training Accuracy: 0.9608, Testing Accuracy: 0.9677\n",
      "\n"
     ]
    },
    {
     "name": "stdout",
     "output_type": "stream",
     "text": [
      "Epoch 240, Loss 0.0368\n",
      "Training Accuracy: 0.9610, Testing Accuracy: 0.9677\n",
      "\n"
     ]
    },
    {
     "name": "stdout",
     "output_type": "stream",
     "text": [
      "Epoch 250, Loss 0.0365\n",
      "Training Accuracy: 0.9611, Testing Accuracy: 0.9677\n",
      "\n"
     ]
    },
    {
     "data": {
      "text/plain": [
       "0.014609372618299539"
      ]
     },
     "execution_count": 22,
     "metadata": {},
     "output_type": "execute_result"
    }
   ],
   "source": [
    "print(\"====== Logistic Regression ======\")\n",
    "learner_lr.train_loop(dl)"
   ]
  },
  {
   "cell_type": "markdown",
   "metadata": {
    "papermill": {
     "duration": 0.048475,
     "end_time": "2020-10-06T10:07:40.658079",
     "exception": false,
     "start_time": "2020-10-06T10:07:40.609604",
     "status": "completed"
    },
    "tags": []
   },
   "source": [
    "### Comparing results of NN and LR"
   ]
  },
  {
   "cell_type": "code",
   "execution_count": 23,
   "metadata": {
    "execution": {
     "iopub.execute_input": "2020-10-06T10:07:40.762984Z",
     "iopub.status.busy": "2020-10-06T10:07:40.762294Z",
     "iopub.status.idle": "2020-10-06T10:07:41.061366Z",
     "shell.execute_reply": "2020-10-06T10:07:41.061911Z"
    },
    "papermill": {
     "duration": 0.354022,
     "end_time": "2020-10-06T10:07:41.062081",
     "exception": false,
     "start_time": "2020-10-06T10:07:40.708059",
     "status": "completed"
    },
    "tags": []
   },
   "outputs": [
    {
     "data": {
      "text/plain": [
       "<matplotlib.legend.Legend at 0x7f5644e650f0>"
      ]
     },
     "execution_count": 23,
     "metadata": {},
     "output_type": "execute_result"
    },
    {
     "data": {
      "image/png": "[encoded data removed]",
      "text/plain": [
       "<Figure size 1080x720 with 1 Axes>"
      ]
     },
     "metadata": {
      "needs_background": "light"
     },
     "output_type": "display_data"
    }
   ],
   "source": [
    "plt.figure(figsize=(15,10))\n",
    "\n",
    "# Neural Network plots\n",
    "plt.plot(acc_nn.accuracies, 'r-', label = \"Training Accuracies - NN\")\n",
    "plt.plot(acc_nn.test_accuracies, 'g-', label = \"Testing Accuracies - NN\")\n",
    "\n",
    "# Logistic Regression plots\n",
    "plt.plot(acc_lr.accuracies, 'k-', label = \"Training Accuracies - LR\")\n",
    "plt.plot(acc_lr.test_accuracies, 'b-', label = \"Testing Accuracies - LR\")\n",
    "\n",
    "plt.ylim(0.8, 1)\n",
    "\n",
    "plt.legend()\n",
    "\n"
   ]
  },
  {
   "cell_type": "markdown",
   "metadata": {
    "papermill": {
     "duration": 0.051146,
     "end_time": "2020-10-06T10:07:41.165227",
     "exception": false,
     "start_time": "2020-10-06T10:07:41.114081",
     "status": "completed"
    },
    "tags": []
   },
   "source": [
    "### From the plot, we can observe the following:\n",
    "- Neural Network achieves higher accuracy than the Logistic Regression model.\n",
    "- This apparently, is because of overfitting, i.e. NN captures more noise than data.\n",
    "- Testing accuracy of NN drops below the Training accuracy at higher epochs. This explains the over-fitting on training data.\n",
    "- Logistic Regression gives a reliable accuracy, without the above mentioned problem.\n"
   ]
  },
  {
   "cell_type": "markdown",
   "metadata": {
    "papermill": {
     "duration": 0.050295,
     "end_time": "2020-10-06T10:07:41.265556",
     "exception": false,
     "start_time": "2020-10-06T10:07:41.215261",
     "status": "completed"
    },
    "tags": []
   },
   "source": [
    "### Moving till the last but one layer (excluding it).\n",
    "#### Plotting the outputs of this layer of the NN."
   ]
  },
  {
   "cell_type": "code",
   "execution_count": 24,
   "metadata": {
    "execution": {
     "iopub.execute_input": "2020-10-06T10:07:41.373754Z",
     "iopub.status.busy": "2020-10-06T10:07:41.373146Z",
     "iopub.status.idle": "2020-10-06T10:07:41.385393Z",
     "shell.execute_reply": "2020-10-06T10:07:41.385900Z"
    },
    "papermill": {
     "duration": 0.0675,
     "end_time": "2020-10-06T10:07:41.386060",
     "exception": false,
     "start_time": "2020-10-06T10:07:41.318560",
     "status": "completed"
    },
    "tags": []
   },
   "outputs": [],
   "source": [
    "model_new = Model(layers[:-2])"
   ]
  },
  {
   "cell_type": "code",
   "execution_count": 25,
   "metadata": {
    "execution": {
     "iopub.execute_input": "2020-10-06T10:07:41.489032Z",
     "iopub.status.busy": "2020-10-06T10:07:41.488401Z",
     "iopub.status.idle": "2020-10-06T10:07:41.524059Z",
     "shell.execute_reply": "2020-10-06T10:07:41.524767Z"
    },
    "papermill": {
     "duration": 0.090244,
     "end_time": "2020-10-06T10:07:41.524963",
     "exception": false,
     "start_time": "2020-10-06T10:07:41.434719",
     "status": "completed"
    },
    "tags": []
   },
   "outputs": [],
   "source": [
    "plot_testing = model_new(testing_xdata)"
   ]
  },
  {
   "cell_type": "code",
   "execution_count": 26,
   "metadata": {
    "execution": {
     "iopub.execute_input": "2020-10-06T10:07:41.634264Z",
     "iopub.status.busy": "2020-10-06T10:07:41.633608Z",
     "iopub.status.idle": "2020-10-06T10:07:41.865398Z",
     "shell.execute_reply": "2020-10-06T10:07:41.865994Z"
    },
    "papermill": {
     "duration": 0.290148,
     "end_time": "2020-10-06T10:07:41.866195",
     "exception": false,
     "start_time": "2020-10-06T10:07:41.576047",
     "status": "completed"
    },
    "tags": []
   },
   "outputs": [
    {
     "data": {
      "text/plain": [
       "Text(0.5, 1.0, 'Outputs')"
      ]
     },
     "execution_count": 26,
     "metadata": {},
     "output_type": "execute_result"
    },
    {
     "data": {
      "image/png": "[encoded data removed]",
      "text/plain": [
       "<Figure size 576x504 with 1 Axes>"
      ]
     },
     "metadata": {
      "needs_background": "light"
     },
     "output_type": "display_data"
    }
   ],
   "source": [
    "plt.figure(figsize=(8,7))\n",
    "plt.scatter(plot_testing[:,0], plot_testing[:,1], alpha = 0.1, c = y_test.ravel());\n",
    "plt.title('Outputs')"
   ]
  },
  {
   "cell_type": "markdown",
   "metadata": {
    "papermill": {
     "duration": 0.05137,
     "end_time": "2020-10-06T10:07:41.971723",
     "exception": false,
     "start_time": "2020-10-06T10:07:41.920353",
     "status": "completed"
    },
    "tags": []
   },
   "source": [
    "### Plotting probability contours"
   ]
  },
  {
   "cell_type": "code",
   "execution_count": 27,
   "metadata": {
    "execution": {
     "iopub.execute_input": "2020-10-06T10:07:42.079715Z",
     "iopub.status.busy": "2020-10-06T10:07:42.079073Z",
     "iopub.status.idle": "2020-10-06T10:07:42.092942Z",
     "shell.execute_reply": "2020-10-06T10:07:42.092301Z"
    },
    "papermill": {
     "duration": 0.071647,
     "end_time": "2020-10-06T10:07:42.093153",
     "exception": false,
     "start_time": "2020-10-06T10:07:42.021506",
     "status": "completed"
    },
    "tags": []
   },
   "outputs": [],
   "source": [
    "model_prob = Model(layers[-2:]) "
   ]
  },
  {
   "cell_type": "code",
   "execution_count": 28,
   "metadata": {
    "execution": {
     "iopub.execute_input": "2020-10-06T10:07:42.204565Z",
     "iopub.status.busy": "2020-10-06T10:07:42.203885Z",
     "iopub.status.idle": "2020-10-06T10:07:42.218197Z",
     "shell.execute_reply": "2020-10-06T10:07:42.218779Z"
    },
    "papermill": {
     "duration": 0.071222,
     "end_time": "2020-10-06T10:07:42.218927",
     "exception": false,
     "start_time": "2020-10-06T10:07:42.147705",
     "status": "completed"
    },
    "tags": []
   },
   "outputs": [],
   "source": [
    "# Adjust the x and y ranges according to the above generated plot.\n",
    "x_range = np.linspace(-4, 1, 100) \n",
    "y_range = np.linspace(-6, 6, 100) \n",
    "x_grid, y_grid = np.meshgrid(x_range, y_range) # x_grid and y_grig are of size 100 X 100\n",
    "\n",
    "# converting x_grid and y_grid to continuous arrays\n",
    "x_grid_flat = np.ravel(x_grid)\n",
    "y_grid_flat = np.ravel(y_grid)\n",
    "\n",
    "# The last layer of the current model takes two columns as input. Hence transpose of np.vstack() is required.\n",
    "X = np.vstack((x_grid_flat, y_grid_flat)).T\n",
    "\n",
    "# x_grid and y_grid are of size 100 x 100\n",
    "probability_contour = model_prob(X).reshape(100,100) "
   ]
  },
  {
   "cell_type": "code",
   "execution_count": 29,
   "metadata": {
    "execution": {
     "iopub.execute_input": "2020-10-06T10:07:42.336426Z",
     "iopub.status.busy": "2020-10-06T10:07:42.329613Z",
     "iopub.status.idle": "2020-10-06T10:07:42.631194Z",
     "shell.execute_reply": "2020-10-06T10:07:42.630640Z"
    },
    "papermill": {
     "duration": 0.362417,
     "end_time": "2020-10-06T10:07:42.631338",
     "exception": false,
     "start_time": "2020-10-06T10:07:42.268921",
     "status": "completed"
    },
    "tags": []
   },
   "outputs": [
    {
     "data": {
      "image/png": "[encoded data removed]",
      "text/plain": [
       "<Figure size 720x648 with 1 Axes>"
      ]
     },
     "metadata": {
      "needs_background": "light"
     },
     "output_type": "display_data"
    }
   ],
   "source": [
    "plt.figure(figsize=(10,9))\n",
    "plt.scatter(plot_testing[:,0], plot_testing[:,1], alpha = 0.1, c = y_test.ravel())\n",
    "contours = plt.contour(x_grid,y_grid,probability_contour)\n",
    "plt.title('Probability Contours')\n",
    "plt.clabel(contours, inline = True );"
   ]
  }
 ],
 "metadata": {
  "kernelspec": {
   "display_name": "Python 3",
   "language": "python",
   "name": "python3"
  },
  "language_info": {
   "codemirror_mode": {
    "name": "ipython",
    "version": 3
   },
   "file_extension": ".py",
   "mimetype": "text/x-python",
   "name": "python",
   "nbconvert_exporter": "python",
   "pygments_lexer": "ipython3",
   "version": "3.6.12"
  },
  "papermill": {
   "duration": 173.930495,
   "end_time": "2020-10-06T10:07:43.017099",
   "environment_variables": {},
   "exception": null,
   "input_path": "2020-08-11-NeuralNetwork.ipynb",
   "output_path": "2020-08-11-NeuralNetwork.ipynb",
   "parameters": {},
   "start_time": "2020-10-06T10:04:49.086604",
   "version": "2.1.2"
  }
 },
 "nbformat": 4,
 "nbformat_minor": 4
}