{
 "cells": [
  {
   "cell_type": "markdown",
   "metadata": {
    "papermill": {
     "duration": 0.027484,
     "end_time": "2020-08-11T20:03:36.163006",
     "exception": false,
     "start_time": "2020-08-11T20:03:36.135522",
     "status": "completed"
    },
    "tags": []
   },
   "source": [
    "# \"A Basic Neural Network: Differentiate Hand-Written Digits\"\n",
    "\n",
    "- badges: true\n",
    "- author: Akshith Sriram"
   ]
  },
  {
   "cell_type": "markdown",
   "metadata": {
    "papermill": {
     "duration": 0.748585,
     "end_time": "2020-08-11T20:03:37.400285",
     "exception": false,
     "start_time": "2020-08-11T20:03:36.651700",
     "status": "completed"
    },
    "tags": []
   },
   "source": [
    "### Key Objectives:\n",
    "- Building a neural network that differentiates two hand-written digits 3 and 8.\n",
    "- Comparing the results of this Neural Network (NN) to that of a Logistic Regression (LR) model.\n",
    "\n",
    "### Requirements:\n",
    "- 'Kudzu' : A neural network library that was designed during our course by [Univ.AI](www.univ.ai). \n",
    "- MNIST Database\n",
    "\n",
    "If MNIST is not installed, use the command `!pip install mnist` given below.\n",
    "It can be run both from the command line and Jupyter Notebook."
   ]
  },
  {
   "cell_type": "code",
   "execution_count": 1,
   "metadata": {
    "execution": {
     "iopub.execute_input": "2020-08-11T20:03:37.993469Z",
     "iopub.status.busy": "2020-08-11T20:03:37.992955Z",
     "iopub.status.idle": "2020-08-11T20:03:39.306926Z",
     "shell.execute_reply": "2020-08-11T20:03:39.306433Z"
    },
    "papermill": {
     "duration": 1.341582,
     "end_time": "2020-08-11T20:03:39.307076",
     "exception": false,
     "start_time": "2020-08-11T20:03:37.965494",
     "status": "completed"
    },
    "tags": []
   },
   "outputs": [
    {
     "name": "stdout",
     "output_type": "stream",
     "text": [
      "Collecting mnist\r\n"
     ]
    },
    {
     "name": "stdout",
     "output_type": "stream",
     "text": [
      "  Downloading mnist-0.2.2-py2.py3-none-any.whl (3.5 kB)\r\n"
     ]
    },
    {
     "name": "stdout",
     "output_type": "stream",
     "text": [
      "Requirement already satisfied: numpy in /opt/hostedtoolcache/Python/3.6.11/x64/lib/python3.6/site-packages (from mnist) (1.19.1)\r\n"
     ]
    },
    {
     "name": "stdout",
     "output_type": "stream",
     "text": [
      "Installing collected packages: mnist\r\n",
      "Successfully installed mnist-0.2.2\r\n"
     ]
    },
    {
     "name": "stdout",
     "output_type": "stream",
     "text": [
      "\u001b[33mWARNING: You are using pip version 20.2; however, version 20.2.2 is available.\r\n",
      "You should consider upgrading via the '/opt/hostedtoolcache/Python/3.6.11/x64/bin/python -m pip install --upgrade pip' command.\u001b[0m\r\n"
     ]
    }
   ],
   "source": [
    "!pip install mnist "
   ]
  },
  {
   "cell_type": "markdown",
   "metadata": {
    "papermill": {
     "duration": 0.023543,
     "end_time": "2020-08-11T20:03:39.355041",
     "exception": false,
     "start_time": "2020-08-11T20:03:39.331498",
     "status": "completed"
    },
    "tags": []
   },
   "source": [
    "#### Importing necessary libraries"
   ]
  },
  {
   "cell_type": "code",
   "execution_count": 2,
   "metadata": {
    "execution": {
     "iopub.execute_input": "2020-08-11T20:03:39.408653Z",
     "iopub.status.busy": "2020-08-11T20:03:39.408139Z",
     "iopub.status.idle": "2020-08-11T20:03:39.881129Z",
     "shell.execute_reply": "2020-08-11T20:03:39.880582Z"
    },
    "papermill": {
     "duration": 0.50252,
     "end_time": "2020-08-11T20:03:39.881261",
     "exception": false,
     "start_time": "2020-08-11T20:03:39.378741",
     "status": "completed"
    },
    "tags": []
   },
   "outputs": [],
   "source": [
    "%load_ext autoreload\n",
    "%autoreload 2\n",
    "\n",
    "%matplotlib inline\n",
    "import matplotlib.pyplot as plt\n",
    "\n",
    "import numpy as np\n",
    "import pandas as pd"
   ]
  },
  {
   "cell_type": "markdown",
   "metadata": {
    "papermill": {
     "duration": 0.023934,
     "end_time": "2020-08-11T20:03:39.930568",
     "exception": false,
     "start_time": "2020-08-11T20:03:39.906634",
     "status": "completed"
    },
    "tags": []
   },
   "source": [
    "### Preparing the Data"
   ]
  },
  {
   "cell_type": "code",
   "execution_count": 3,
   "metadata": {
    "execution": {
     "iopub.execute_input": "2020-08-11T20:03:39.985482Z",
     "iopub.status.busy": "2020-08-11T20:03:39.984993Z",
     "iopub.status.idle": "2020-08-11T20:03:39.993696Z",
     "shell.execute_reply": "2020-08-11T20:03:39.993295Z"
    },
    "papermill": {
     "duration": 0.039784,
     "end_time": "2020-08-11T20:03:39.993802",
     "exception": false,
     "start_time": "2020-08-11T20:03:39.954018",
     "status": "completed"
    },
    "tags": []
   },
   "outputs": [],
   "source": [
    "import mnist"
   ]
  },
  {
   "cell_type": "code",
   "execution_count": 4,
   "metadata": {
    "execution": {
     "iopub.execute_input": "2020-08-11T20:03:40.053434Z",
     "iopub.status.busy": "2020-08-11T20:03:40.052945Z",
     "iopub.status.idle": "2020-08-11T20:03:41.076090Z",
     "shell.execute_reply": "2020-08-11T20:03:41.075556Z"
    },
    "papermill": {
     "duration": 1.058789,
     "end_time": "2020-08-11T20:03:41.076219",
     "exception": false,
     "start_time": "2020-08-11T20:03:40.017430",
     "status": "completed"
    },
    "tags": []
   },
   "outputs": [],
   "source": [
    "train_images = mnist.train_images()\n",
    "train_labels = mnist.train_labels()"
   ]
  },
  {
   "cell_type": "code",
   "execution_count": 5,
   "metadata": {
    "execution": {
     "iopub.execute_input": "2020-08-11T20:03:41.143847Z",
     "iopub.status.busy": "2020-08-11T20:03:41.143117Z",
     "iopub.status.idle": "2020-08-11T20:03:41.148706Z",
     "shell.execute_reply": "2020-08-11T20:03:41.148251Z"
    },
    "papermill": {
     "duration": 0.04793,
     "end_time": "2020-08-11T20:03:41.148814",
     "exception": false,
     "start_time": "2020-08-11T20:03:41.100884",
     "status": "completed"
    },
    "tags": []
   },
   "outputs": [
    {
     "data": {
      "text/plain": [
       "((60000, 28, 28), (60000,))"
      ]
     },
     "execution_count": 5,
     "metadata": {},
     "output_type": "execute_result"
    }
   ],
   "source": [
    "train_images.shape, train_labels.shape"
   ]
  },
  {
   "cell_type": "code",
   "execution_count": 6,
   "metadata": {
    "execution": {
     "iopub.execute_input": "2020-08-11T20:03:41.209266Z",
     "iopub.status.busy": "2020-08-11T20:03:41.207663Z",
     "iopub.status.idle": "2020-08-11T20:03:41.683091Z",
     "shell.execute_reply": "2020-08-11T20:03:41.682592Z"
    },
    "papermill": {
     "duration": 0.510682,
     "end_time": "2020-08-11T20:03:41.683223",
     "exception": false,
     "start_time": "2020-08-11T20:03:41.172541",
     "status": "completed"
    },
    "tags": []
   },
   "outputs": [],
   "source": [
    "test_images = mnist.test_images()\n",
    "test_labels = mnist.test_labels()"
   ]
  },
  {
   "cell_type": "code",
   "execution_count": 7,
   "metadata": {
    "execution": {
     "iopub.execute_input": "2020-08-11T20:03:41.749454Z",
     "iopub.status.busy": "2020-08-11T20:03:41.748961Z",
     "iopub.status.idle": "2020-08-11T20:03:41.753692Z",
     "shell.execute_reply": "2020-08-11T20:03:41.754089Z"
    },
    "papermill": {
     "duration": 0.046192,
     "end_time": "2020-08-11T20:03:41.754205",
     "exception": false,
     "start_time": "2020-08-11T20:03:41.708013",
     "status": "completed"
    },
    "tags": []
   },
   "outputs": [
    {
     "data": {
      "text/plain": [
       "((10000, 28, 28), (10000,))"
      ]
     },
     "execution_count": 7,
     "metadata": {},
     "output_type": "execute_result"
    }
   ],
   "source": [
    "test_images.shape, test_labels.shape"
   ]
  },
  {
   "cell_type": "code",
   "execution_count": 8,
   "metadata": {
    "execution": {
     "iopub.execute_input": "2020-08-11T20:03:41.812326Z",
     "iopub.status.busy": "2020-08-11T20:03:41.811803Z",
     "iopub.status.idle": "2020-08-11T20:03:41.945370Z",
     "shell.execute_reply": "2020-08-11T20:03:41.944944Z"
    },
    "papermill": {
     "duration": 0.1672,
     "end_time": "2020-08-11T20:03:41.945474",
     "exception": false,
     "start_time": "2020-08-11T20:03:41.778274",
     "status": "completed"
    },
    "tags": []
   },
   "outputs": [
    {
     "name": "stdout",
     "output_type": "stream",
     "text": [
      "2\n"
     ]
    },
    {
     "data": {
      "text/plain": [
       "<matplotlib.image.AxesImage at 0x7f27e35f9390>"
      ]
     },
     "execution_count": 8,
     "metadata": {},
     "output_type": "execute_result"
    },
    {
     "data": {
      "image/png": "[encoded data removed]",
      "text/plain": [
       "<Figure size 432x288 with 1 Axes>"
      ]
     },
     "metadata": {
      "needs_background": "light"
     },
     "output_type": "display_data"
    }
   ],
   "source": [
    "image_index = 7776 # You may select anything up to 60,000\n",
    "print(train_labels[image_index]) \n",
    "plt.imshow(train_images[image_index], cmap='Greys')"
   ]
  },
  {
   "cell_type": "markdown",
   "metadata": {
    "papermill": {
     "duration": 0.025265,
     "end_time": "2020-08-11T20:03:41.995880",
     "exception": false,
     "start_time": "2020-08-11T20:03:41.970615",
     "status": "completed"
    },
    "tags": []
   },
   "source": [
    "## Filter data to get 3 and 8 out"
   ]
  },
  {
   "cell_type": "code",
   "execution_count": 9,
   "metadata": {
    "execution": {
     "iopub.execute_input": "2020-08-11T20:03:42.066018Z",
     "iopub.status.busy": "2020-08-11T20:03:42.062611Z",
     "iopub.status.idle": "2020-08-11T20:03:42.068687Z",
     "shell.execute_reply": "2020-08-11T20:03:42.068057Z"
    },
    "papermill": {
     "duration": 0.04789,
     "end_time": "2020-08-11T20:03:42.068787",
     "exception": false,
     "start_time": "2020-08-11T20:03:42.020897",
     "status": "completed"
    },
    "tags": []
   },
   "outputs": [],
   "source": [
    "train_filter = np.where((train_labels == 3 ) | (train_labels == 8))\n",
    "test_filter = np.where((test_labels == 3) | (test_labels == 8))\n",
    "X_train, y_train = train_images[train_filter], train_labels[train_filter]\n",
    "X_test, y_test = test_images[test_filter], test_labels[test_filter]"
   ]
  },
  {
   "cell_type": "markdown",
   "metadata": {
    "papermill": {
     "duration": 0.025148,
     "end_time": "2020-08-11T20:03:42.119289",
     "exception": false,
     "start_time": "2020-08-11T20:03:42.094141",
     "status": "completed"
    },
    "tags": []
   },
   "source": [
    "We normalize the pixel values in the 0 to 1 range"
   ]
  },
  {
   "cell_type": "code",
   "execution_count": 10,
   "metadata": {
    "execution": {
     "iopub.execute_input": "2020-08-11T20:03:42.185244Z",
     "iopub.status.busy": "2020-08-11T20:03:42.184757Z",
     "iopub.status.idle": "2020-08-11T20:03:42.219447Z",
     "shell.execute_reply": "2020-08-11T20:03:42.218960Z"
    },
    "papermill": {
     "duration": 0.075291,
     "end_time": "2020-08-11T20:03:42.219581",
     "exception": false,
     "start_time": "2020-08-11T20:03:42.144290",
     "status": "completed"
    },
    "tags": []
   },
   "outputs": [],
   "source": [
    "X_train = X_train/255.\n",
    "X_test = X_test/255."
   ]
  },
  {
   "cell_type": "markdown",
   "metadata": {
    "papermill": {
     "duration": 0.025417,
     "end_time": "2020-08-11T20:03:42.271241",
     "exception": false,
     "start_time": "2020-08-11T20:03:42.245824",
     "status": "completed"
    },
    "tags": []
   },
   "source": [
    "Setup the labels as 1 (when the digit is 3) and 0 (when the digit is 8)"
   ]
  },
  {
   "cell_type": "code",
   "execution_count": 11,
   "metadata": {
    "execution": {
     "iopub.execute_input": "2020-08-11T20:03:42.338319Z",
     "iopub.status.busy": "2020-08-11T20:03:42.337821Z",
     "iopub.status.idle": "2020-08-11T20:03:42.340075Z",
     "shell.execute_reply": "2020-08-11T20:03:42.340497Z"
    },
    "papermill": {
     "duration": 0.044334,
     "end_time": "2020-08-11T20:03:42.340615",
     "exception": false,
     "start_time": "2020-08-11T20:03:42.296281",
     "status": "completed"
    },
    "tags": []
   },
   "outputs": [],
   "source": [
    "y_train = 1*(y_train==3)\n",
    "y_test = 1*(y_test==3)"
   ]
  },
  {
   "cell_type": "code",
   "execution_count": 12,
   "metadata": {
    "execution": {
     "iopub.execute_input": "2020-08-11T20:03:42.402703Z",
     "iopub.status.busy": "2020-08-11T20:03:42.393358Z",
     "iopub.status.idle": "2020-08-11T20:03:42.406285Z",
     "shell.execute_reply": "2020-08-11T20:03:42.405872Z"
    },
    "papermill": {
     "duration": 0.040676,
     "end_time": "2020-08-11T20:03:42.406383",
     "exception": false,
     "start_time": "2020-08-11T20:03:42.365707",
     "status": "completed"
    },
    "tags": []
   },
   "outputs": [
    {
     "data": {
      "text/plain": [
       "((11982, 28, 28), (1984, 28, 28))"
      ]
     },
     "execution_count": 12,
     "metadata": {},
     "output_type": "execute_result"
    }
   ],
   "source": [
    "X_train.shape, X_test.shape"
   ]
  },
  {
   "cell_type": "markdown",
   "metadata": {
    "papermill": {
     "duration": 0.032426,
     "end_time": "2020-08-11T20:03:42.464923",
     "exception": false,
     "start_time": "2020-08-11T20:03:42.432497",
     "status": "completed"
    },
    "tags": []
   },
   "source": [
    "### Reshape the input data to create a linear array"
   ]
  },
  {
   "cell_type": "code",
   "execution_count": 13,
   "metadata": {
    "execution": {
     "iopub.execute_input": "2020-08-11T20:03:43.223078Z",
     "iopub.status.busy": "2020-08-11T20:03:43.222567Z",
     "iopub.status.idle": "2020-08-11T20:03:43.231962Z",
     "shell.execute_reply": "2020-08-11T20:03:43.231535Z"
    },
    "papermill": {
     "duration": 0.423395,
     "end_time": "2020-08-11T20:03:43.232072",
     "exception": false,
     "start_time": "2020-08-11T20:03:42.808677",
     "status": "completed"
    },
    "tags": []
   },
   "outputs": [
    {
     "data": {
      "text/plain": [
       "((11982, 784), (1984, 784))"
      ]
     },
     "execution_count": 13,
     "metadata": {},
     "output_type": "execute_result"
    }
   ],
   "source": [
    "X_train = X_train.reshape(X_train.shape[0], -1)\n",
    "X_test = X_test.reshape(X_test.shape[0], -1)\n",
    "X_train.shape, X_test.shape"
   ]
  },
  {
   "cell_type": "markdown",
   "metadata": {
    "papermill": {
     "duration": 0.186176,
     "end_time": "2020-08-11T20:03:43.901833",
     "exception": false,
     "start_time": "2020-08-11T20:03:43.715657",
     "status": "completed"
    },
    "tags": []
   },
   "source": [
    "### Importing appropriate functions from 'Kudzu'"
   ]
  },
  {
   "cell_type": "code",
   "execution_count": 14,
   "metadata": {
    "execution": {
     "iopub.execute_input": "2020-08-11T20:03:43.978738Z",
     "iopub.status.busy": "2020-08-11T20:03:43.972543Z",
     "iopub.status.idle": "2020-08-11T20:03:43.980496Z",
     "shell.execute_reply": "2020-08-11T20:03:43.980904Z"
    },
    "papermill": {
     "duration": 0.052764,
     "end_time": "2020-08-11T20:03:43.981028",
     "exception": false,
     "start_time": "2020-08-11T20:03:43.928264",
     "status": "completed"
    },
    "tags": []
   },
   "outputs": [],
   "source": [
    "from kudzu.layer import Sigmoid\n",
    "from kudzu.layer import Relu\n",
    "from kudzu.layer import Affine, Sigmoid\n",
    "\n",
    "from kudzu.model import Model\n",
    "from kudzu.train import Learner\n",
    "from kudzu.optim import GD\n",
    "from kudzu.data import Data, Dataloader, Sampler\n",
    "\n",
    "from kudzu.callbacks import AccCallback\n",
    "from kudzu.callbacks import ClfCallback\n",
    "\n",
    "from kudzu.loss import MSE"
   ]
  },
  {
   "cell_type": "markdown",
   "metadata": {
    "papermill": {
     "duration": 0.025569,
     "end_time": "2020-08-11T20:03:44.032238",
     "exception": false,
     "start_time": "2020-08-11T20:03:44.006669",
     "status": "completed"
    },
    "tags": []
   },
   "source": [
    "### Let us create a `Config` class, to store important parameters. \n",
    "This class essentially plays the role of a dictionary."
   ]
  },
  {
   "cell_type": "code",
   "execution_count": 15,
   "metadata": {
    "execution": {
     "iopub.execute_input": "2020-08-11T20:03:44.099572Z",
     "iopub.status.busy": "2020-08-11T20:03:44.096906Z",
     "iopub.status.idle": "2020-08-11T20:03:44.101363Z",
     "shell.execute_reply": "2020-08-11T20:03:44.101738Z"
    },
    "papermill": {
     "duration": 0.043917,
     "end_time": "2020-08-11T20:03:44.101856",
     "exception": false,
     "start_time": "2020-08-11T20:03:44.057939",
     "status": "completed"
    },
    "tags": []
   },
   "outputs": [],
   "source": [
    "class Config:\n",
    "    pass\n",
    "config = Config()\n",
    "config.lr = 0.001\n",
    "config.num_epochs = 251\n",
    "config.bs = 50"
   ]
  },
  {
   "cell_type": "markdown",
   "metadata": {
    "papermill": {
     "duration": 0.02567,
     "end_time": "2020-08-11T20:03:44.153064",
     "exception": false,
     "start_time": "2020-08-11T20:03:44.127394",
     "status": "completed"
    },
    "tags": []
   },
   "source": [
    "### Initializing data to the variables"
   ]
  },
  {
   "cell_type": "code",
   "execution_count": 16,
   "metadata": {
    "execution": {
     "iopub.execute_input": "2020-08-11T20:03:44.222026Z",
     "iopub.status.busy": "2020-08-11T20:03:44.221534Z",
     "iopub.status.idle": "2020-08-11T20:03:44.225260Z",
     "shell.execute_reply": "2020-08-11T20:03:44.225664Z"
    },
    "papermill": {
     "duration": 0.046265,
     "end_time": "2020-08-11T20:03:44.225778",
     "exception": false,
     "start_time": "2020-08-11T20:03:44.179513",
     "status": "completed"
    },
    "tags": []
   },
   "outputs": [],
   "source": [
    "data = Data(X_train, y_train.reshape(-1,1))\n",
    "sampler = Sampler(data, config.bs, shuffle=True)\n",
    "\n",
    "dl = Dataloader(data, sampler)\n",
    "\n",
    "opt = GD(config.lr)\n",
    "loss = MSE()"
   ]
  },
  {
   "cell_type": "code",
   "execution_count": 17,
   "metadata": {
    "execution": {
     "iopub.execute_input": "2020-08-11T20:03:44.294022Z",
     "iopub.status.busy": "2020-08-11T20:03:44.293533Z",
     "iopub.status.idle": "2020-08-11T20:03:44.296718Z",
     "shell.execute_reply": "2020-08-11T20:03:44.297093Z"
    },
    "papermill": {
     "duration": 0.045847,
     "end_time": "2020-08-11T20:03:44.297208",
     "exception": false,
     "start_time": "2020-08-11T20:03:44.251361",
     "status": "completed"
    },
    "tags": []
   },
   "outputs": [],
   "source": [
    "training_xdata = X_train\n",
    "testing_xdata = X_test\n",
    "training_ydata = y_train.reshape(-1,1)\n",
    "testing_ydata = y_test.reshape(-1,1)"
   ]
  },
  {
   "cell_type": "markdown",
   "metadata": {
    "papermill": {
     "duration": 0.025595,
     "end_time": "2020-08-11T20:03:44.348416",
     "exception": false,
     "start_time": "2020-08-11T20:03:44.322821",
     "status": "completed"
    },
    "tags": []
   },
   "source": [
    "### Running Models with the Training data\n",
    "Details about the network layers:\n",
    "- A first affine layer has 784 inputs and does 100 affine transforms. These are followed by a Relu\n",
    "- A second affine layer has 100 inputs from the 100 activations of the past layer, and does 100 affine transforms. These are followed by a Relu\n",
    "- A third affine layer has 100 activations and does 2 affine transformations to create an embedding for visualization. There is no non-linearity here.\n",
    "- A final \"logistic regression\" which has an affine transform from 2 inputs to 1 output, which is squeezed through a sigmoid.\n",
    "\n",
    "Help taken from Anshuman's Notebook."
   ]
  },
  {
   "cell_type": "code",
   "execution_count": 18,
   "metadata": {
    "execution": {
     "iopub.execute_input": "2020-08-11T20:03:44.413588Z",
     "iopub.status.busy": "2020-08-11T20:03:44.404145Z",
     "iopub.status.idle": "2020-08-11T20:03:44.420163Z",
     "shell.execute_reply": "2020-08-11T20:03:44.419750Z"
    },
    "papermill": {
     "duration": 0.046223,
     "end_time": "2020-08-11T20:03:44.420260",
     "exception": false,
     "start_time": "2020-08-11T20:03:44.374037",
     "status": "completed"
    },
    "tags": []
   },
   "outputs": [],
   "source": [
    "# layers for the Neural Network\n",
    "layers = [Affine(\"first\", 784, 100), Relu(\"first\"), Affine(\"second\", 100, 100), Relu(\"second\"), Affine(\"third\", 100, 2), Affine(\"final\", 2, 1), Sigmoid(\"final\")]\n",
    "model_nn = Model(layers)\n",
    "\n",
    "# layers for the Logistic Regression\n",
    "layers_lr = [Affine(\"logits\", 784, 1), Sigmoid(\"sigmoid\")]\n",
    "model_lr = Model(layers_lr)"
   ]
  },
  {
   "cell_type": "code",
   "execution_count": 19,
   "metadata": {
    "execution": {
     "iopub.execute_input": "2020-08-11T20:03:44.479919Z",
     "iopub.status.busy": "2020-08-11T20:03:44.479433Z",
     "iopub.status.idle": "2020-08-11T20:03:44.487039Z",
     "shell.execute_reply": "2020-08-11T20:03:44.487502Z"
    },
    "papermill": {
     "duration": 0.041696,
     "end_time": "2020-08-11T20:03:44.487612",
     "exception": false,
     "start_time": "2020-08-11T20:03:44.445916",
     "status": "completed"
    },
    "tags": []
   },
   "outputs": [],
   "source": [
    "# suffix _nn stands for Neural Network.\n",
    "learner_nn = Learner(loss, model_nn, opt, config.num_epochs)\n",
    "acc_nn = ClfCallback(learner_nn, config.bs, training_xdata , testing_xdata, training_ydata, testing_ydata)\n",
    "learner_nn.set_callbacks([acc_nn])"
   ]
  },
  {
   "cell_type": "code",
   "execution_count": 20,
   "metadata": {
    "execution": {
     "iopub.execute_input": "2020-08-11T20:03:44.554067Z",
     "iopub.status.busy": "2020-08-11T20:03:44.553581Z",
     "iopub.status.idle": "2020-08-11T20:04:54.947123Z",
     "shell.execute_reply": "2020-08-11T20:04:54.947803Z"
    },
    "papermill": {
     "duration": 70.434704,
     "end_time": "2020-08-11T20:04:54.947945",
     "exception": false,
     "start_time": "2020-08-11T20:03:44.513241",
     "status": "completed"
    },
    "tags": []
   },
   "outputs": [
    {
     "name": "stdout",
     "output_type": "stream",
     "text": [
      "====== Neural Network ======\n"
     ]
    },
    {
     "name": "stdout",
     "output_type": "stream",
     "text": [
      "Epoch 0, Loss 0.2494\n",
      "Training Accuracy: 0.5616, Testing Accuracy: 0.5927\n",
      "\n"
     ]
    },
    {
     "name": "stdout",
     "output_type": "stream",
     "text": [
      "Epoch 10, Loss 0.2429\n",
      "Training Accuracy: 0.7940, Testing Accuracy: 0.8206\n",
      "\n"
     ]
    },
    {
     "name": "stdout",
     "output_type": "stream",
     "text": [
      "Epoch 20, Loss 0.2083\n",
      "Training Accuracy: 0.8937, Testing Accuracy: 0.9128\n",
      "\n"
     ]
    },
    {
     "name": "stdout",
     "output_type": "stream",
     "text": [
      "Epoch 30, Loss 0.0973\n",
      "Training Accuracy: 0.9210, Testing Accuracy: 0.9365\n",
      "\n"
     ]
    },
    {
     "name": "stdout",
     "output_type": "stream",
     "text": [
      "Epoch 40, Loss 0.0595\n",
      "Training Accuracy: 0.9377, Testing Accuracy: 0.9526\n",
      "\n"
     ]
    },
    {
     "name": "stdout",
     "output_type": "stream",
     "text": [
      "Epoch 50, Loss 0.0473\n",
      "Training Accuracy: 0.9470, Testing Accuracy: 0.9572\n",
      "\n"
     ]
    },
    {
     "name": "stdout",
     "output_type": "stream",
     "text": [
      "Epoch 60, Loss 0.041\n",
      "Training Accuracy: 0.9526, Testing Accuracy: 0.9637\n",
      "\n"
     ]
    },
    {
     "name": "stdout",
     "output_type": "stream",
     "text": [
      "Epoch 70, Loss 0.037\n",
      "Training Accuracy: 0.9573, Testing Accuracy: 0.9657\n",
      "\n"
     ]
    },
    {
     "name": "stdout",
     "output_type": "stream",
     "text": [
      "Epoch 80, Loss 0.0342\n",
      "Training Accuracy: 0.9597, Testing Accuracy: 0.9667\n",
      "\n"
     ]
    },
    {
     "name": "stdout",
     "output_type": "stream",
     "text": [
      "Epoch 90, Loss 0.0321\n",
      "Training Accuracy: 0.9628, Testing Accuracy: 0.9672\n",
      "\n"
     ]
    },
    {
     "name": "stdout",
     "output_type": "stream",
     "text": [
      "Epoch 100, Loss 0.0304\n",
      "Training Accuracy: 0.9646, Testing Accuracy: 0.9693\n",
      "\n"
     ]
    },
    {
     "name": "stdout",
     "output_type": "stream",
     "text": [
      "Epoch 110, Loss 0.029\n",
      "Training Accuracy: 0.9655, Testing Accuracy: 0.9708\n",
      "\n"
     ]
    },
    {
     "name": "stdout",
     "output_type": "stream",
     "text": [
      "Epoch 120, Loss 0.0278\n",
      "Training Accuracy: 0.9672, Testing Accuracy: 0.9703\n",
      "\n"
     ]
    },
    {
     "name": "stdout",
     "output_type": "stream",
     "text": [
      "Epoch 130, Loss 0.0268\n",
      "Training Accuracy: 0.9685, Testing Accuracy: 0.9708\n",
      "\n"
     ]
    },
    {
     "name": "stdout",
     "output_type": "stream",
     "text": [
      "Epoch 140, Loss 0.0259\n",
      "Training Accuracy: 0.9694, Testing Accuracy: 0.9703\n",
      "\n"
     ]
    },
    {
     "name": "stdout",
     "output_type": "stream",
     "text": [
      "Epoch 150, Loss 0.0251\n",
      "Training Accuracy: 0.9704, Testing Accuracy: 0.9703\n",
      "\n"
     ]
    },
    {
     "name": "stdout",
     "output_type": "stream",
     "text": [
      "Epoch 160, Loss 0.0244\n",
      "Training Accuracy: 0.9709, Testing Accuracy: 0.9708\n",
      "\n"
     ]
    },
    {
     "name": "stdout",
     "output_type": "stream",
     "text": [
      "Epoch 170, Loss 0.0237\n",
      "Training Accuracy: 0.9715, Testing Accuracy: 0.9718\n",
      "\n"
     ]
    },
    {
     "name": "stdout",
     "output_type": "stream",
     "text": [
      "Epoch 180, Loss 0.0231\n",
      "Training Accuracy: 0.9725, Testing Accuracy: 0.9723\n",
      "\n"
     ]
    },
    {
     "name": "stdout",
     "output_type": "stream",
     "text": [
      "Epoch 190, Loss 0.0225\n",
      "Training Accuracy: 0.9730, Testing Accuracy: 0.9723\n",
      "\n"
     ]
    },
    {
     "name": "stdout",
     "output_type": "stream",
     "text": [
      "Epoch 200, Loss 0.022\n",
      "Training Accuracy: 0.9740, Testing Accuracy: 0.9723\n",
      "\n"
     ]
    },
    {
     "name": "stdout",
     "output_type": "stream",
     "text": [
      "Epoch 210, Loss 0.0215\n",
      "Training Accuracy: 0.9741, Testing Accuracy: 0.9718\n",
      "\n"
     ]
    },
    {
     "name": "stdout",
     "output_type": "stream",
     "text": [
      "Epoch 220, Loss 0.021\n",
      "Training Accuracy: 0.9755, Testing Accuracy: 0.9718\n",
      "\n"
     ]
    },
    {
     "name": "stdout",
     "output_type": "stream",
     "text": [
      "Epoch 230, Loss 0.0206\n",
      "Training Accuracy: 0.9762, Testing Accuracy: 0.9723\n",
      "\n"
     ]
    },
    {
     "name": "stdout",
     "output_type": "stream",
     "text": [
      "Epoch 240, Loss 0.0202\n",
      "Training Accuracy: 0.9770, Testing Accuracy: 0.9723\n",
      "\n"
     ]
    },
    {
     "name": "stdout",
     "output_type": "stream",
     "text": [
      "Epoch 250, Loss 0.0198\n",
      "Training Accuracy: 0.9775, Testing Accuracy: 0.9723\n",
      "\n"
     ]
    },
    {
     "data": {
      "text/plain": [
       "0.05080632344890827"
      ]
     },
     "execution_count": 20,
     "metadata": {},
     "output_type": "execute_result"
    }
   ],
   "source": [
    "print(\"====== Neural Network ======\")\n",
    "learner_nn.train_loop(dl)"
   ]
  },
  {
   "cell_type": "markdown",
   "metadata": {
    "papermill": {
     "duration": 0.03337,
     "end_time": "2020-08-11T20:04:55.014804",
     "exception": false,
     "start_time": "2020-08-11T20:04:54.981434",
     "status": "completed"
    },
    "tags": []
   },
   "source": [
    "### Logistic Regression based Implementation."
   ]
  },
  {
   "cell_type": "code",
   "execution_count": 21,
   "metadata": {
    "execution": {
     "iopub.execute_input": "2020-08-11T20:04:55.085031Z",
     "iopub.status.busy": "2020-08-11T20:04:55.084496Z",
     "iopub.status.idle": "2020-08-11T20:04:55.094772Z",
     "shell.execute_reply": "2020-08-11T20:04:55.094348Z"
    },
    "papermill": {
     "duration": 0.047367,
     "end_time": "2020-08-11T20:04:55.094877",
     "exception": false,
     "start_time": "2020-08-11T20:04:55.047510",
     "status": "completed"
    },
    "tags": []
   },
   "outputs": [],
   "source": [
    "learner_lr = Learner(loss, model_lr, opt, config.num_epochs)\n",
    "acc_lr = ClfCallback(learner_lr, config.bs, training_xdata , testing_xdata, training_ydata, testing_ydata)\n",
    "learner_lr.set_callbacks([acc_lr])"
   ]
  },
  {
   "cell_type": "code",
   "execution_count": 22,
   "metadata": {
    "execution": {
     "iopub.execute_input": "2020-08-11T20:04:55.168957Z",
     "iopub.status.busy": "2020-08-11T20:04:55.166015Z",
     "iopub.status.idle": "2020-08-11T20:05:07.762747Z",
     "shell.execute_reply": "2020-08-11T20:05:07.763226Z"
    },
    "papermill": {
     "duration": 12.635593,
     "end_time": "2020-08-11T20:05:07.763362",
     "exception": false,
     "start_time": "2020-08-11T20:04:55.127769",
     "status": "completed"
    },
    "tags": []
   },
   "outputs": [
    {
     "name": "stdout",
     "output_type": "stream",
     "text": [
      "====== Logistic Regression ======\n",
      "Epoch 0, Loss 0.2271\n",
      "Training Accuracy: 0.7898, Testing Accuracy: 0.7913\n",
      "\n"
     ]
    },
    {
     "name": "stdout",
     "output_type": "stream",
     "text": [
      "Epoch 10, Loss 0.0966\n",
      "Training Accuracy: 0.9242, Testing Accuracy: 0.9365\n",
      "\n"
     ]
    },
    {
     "name": "stdout",
     "output_type": "stream",
     "text": [
      "Epoch 20, Loss 0.0761\n",
      "Training Accuracy: 0.9345, Testing Accuracy: 0.9446\n",
      "\n"
     ]
    },
    {
     "name": "stdout",
     "output_type": "stream",
     "text": [
      "Epoch 30, Loss 0.0663\n",
      "Training Accuracy: 0.9394, Testing Accuracy: 0.9481\n",
      "\n"
     ]
    },
    {
     "name": "stdout",
     "output_type": "stream",
     "text": [
      "Epoch 40, Loss 0.0604\n",
      "Training Accuracy: 0.9439, Testing Accuracy: 0.9516\n",
      "\n"
     ]
    },
    {
     "name": "stdout",
     "output_type": "stream",
     "text": [
      "Epoch 50, Loss 0.0562\n",
      "Training Accuracy: 0.9466, Testing Accuracy: 0.9546\n",
      "\n"
     ]
    },
    {
     "name": "stdout",
     "output_type": "stream",
     "text": [
      "Epoch 60, Loss 0.0531\n",
      "Training Accuracy: 0.9488, Testing Accuracy: 0.9561\n",
      "\n"
     ]
    },
    {
     "name": "stdout",
     "output_type": "stream",
     "text": [
      "Epoch 70, Loss 0.0507\n",
      "Training Accuracy: 0.9504, Testing Accuracy: 0.9582\n",
      "\n"
     ]
    },
    {
     "name": "stdout",
     "output_type": "stream",
     "text": [
      "Epoch 80, Loss 0.0488\n",
      "Training Accuracy: 0.9510, Testing Accuracy: 0.9587\n",
      "\n"
     ]
    },
    {
     "name": "stdout",
     "output_type": "stream",
     "text": [
      "Epoch 90, Loss 0.0471\n",
      "Training Accuracy: 0.9524, Testing Accuracy: 0.9597\n",
      "\n"
     ]
    },
    {
     "name": "stdout",
     "output_type": "stream",
     "text": [
      "Epoch 100, Loss 0.0458\n",
      "Training Accuracy: 0.9535, Testing Accuracy: 0.9612\n",
      "\n"
     ]
    },
    {
     "name": "stdout",
     "output_type": "stream",
     "text": [
      "Epoch 110, Loss 0.0446\n",
      "Training Accuracy: 0.9540, Testing Accuracy: 0.9612\n",
      "\n"
     ]
    },
    {
     "name": "stdout",
     "output_type": "stream",
     "text": [
      "Epoch 120, Loss 0.0436\n",
      "Training Accuracy: 0.9543, Testing Accuracy: 0.9612\n",
      "\n"
     ]
    },
    {
     "name": "stdout",
     "output_type": "stream",
     "text": [
      "Epoch 130, Loss 0.0427\n",
      "Training Accuracy: 0.9546, Testing Accuracy: 0.9617\n",
      "\n"
     ]
    },
    {
     "name": "stdout",
     "output_type": "stream",
     "text": [
      "Epoch 140, Loss 0.0419\n",
      "Training Accuracy: 0.9557, Testing Accuracy: 0.9622\n",
      "\n"
     ]
    },
    {
     "name": "stdout",
     "output_type": "stream",
     "text": [
      "Epoch 150, Loss 0.0411\n",
      "Training Accuracy: 0.9569, Testing Accuracy: 0.9622\n",
      "\n"
     ]
    },
    {
     "name": "stdout",
     "output_type": "stream",
     "text": [
      "Epoch 160, Loss 0.0405\n",
      "Training Accuracy: 0.9576, Testing Accuracy: 0.9622\n",
      "\n"
     ]
    },
    {
     "name": "stdout",
     "output_type": "stream",
     "text": [
      "Epoch 170, Loss 0.0399\n",
      "Training Accuracy: 0.9579, Testing Accuracy: 0.9632\n",
      "\n"
     ]
    },
    {
     "name": "stdout",
     "output_type": "stream",
     "text": [
      "Epoch 180, Loss 0.0393\n",
      "Training Accuracy: 0.9581, Testing Accuracy: 0.9632\n",
      "\n"
     ]
    },
    {
     "name": "stdout",
     "output_type": "stream",
     "text": [
      "Epoch 190, Loss 0.0388\n",
      "Training Accuracy: 0.9587, Testing Accuracy: 0.9637\n",
      "\n"
     ]
    },
    {
     "name": "stdout",
     "output_type": "stream",
     "text": [
      "Epoch 200, Loss 0.0383\n",
      "Training Accuracy: 0.9594, Testing Accuracy: 0.9647\n",
      "\n"
     ]
    },
    {
     "name": "stdout",
     "output_type": "stream",
     "text": [
      "Epoch 210, Loss 0.0379\n",
      "Training Accuracy: 0.9598, Testing Accuracy: 0.9647\n",
      "\n"
     ]
    },
    {
     "name": "stdout",
     "output_type": "stream",
     "text": [
      "Epoch 220, Loss 0.0375\n",
      "Training Accuracy: 0.9601, Testing Accuracy: 0.9647\n",
      "\n"
     ]
    },
    {
     "name": "stdout",
     "output_type": "stream",
     "text": [
      "Epoch 230, Loss 0.0371\n",
      "Training Accuracy: 0.9606, Testing Accuracy: 0.9642\n",
      "\n"
     ]
    },
    {
     "name": "stdout",
     "output_type": "stream",
     "text": [
      "Epoch 240, Loss 0.0368\n",
      "Training Accuracy: 0.9609, Testing Accuracy: 0.9652\n",
      "\n"
     ]
    },
    {
     "name": "stdout",
     "output_type": "stream",
     "text": [
      "Epoch 250, Loss 0.0364\n",
      "Training Accuracy: 0.9611, Testing Accuracy: 0.9652\n",
      "\n"
     ]
    },
    {
     "data": {
      "text/plain": [
       "0.06477107133567533"
      ]
     },
     "execution_count": 22,
     "metadata": {},
     "output_type": "execute_result"
    }
   ],
   "source": [
    "print(\"====== Logistic Regression ======\")\n",
    "learner_lr.train_loop(dl)"
   ]
  },
  {
   "cell_type": "markdown",
   "metadata": {
    "papermill": {
     "duration": 0.039446,
     "end_time": "2020-08-11T20:05:07.843100",
     "exception": false,
     "start_time": "2020-08-11T20:05:07.803654",
     "status": "completed"
    },
    "tags": []
   },
   "source": [
    "### Comparing results of NN and LR"
   ]
  },
  {
   "cell_type": "code",
   "execution_count": 23,
   "metadata": {
    "execution": {
     "iopub.execute_input": "2020-08-11T20:05:07.931179Z",
     "iopub.status.busy": "2020-08-11T20:05:07.930686Z",
     "iopub.status.idle": "2020-08-11T20:05:08.145249Z",
     "shell.execute_reply": "2020-08-11T20:05:08.145684Z"
    },
    "papermill": {
     "duration": 0.263291,
     "end_time": "2020-08-11T20:05:08.145823",
     "exception": false,
     "start_time": "2020-08-11T20:05:07.882532",
     "status": "completed"
    },
    "tags": []
   },
   "outputs": [
    {
     "data": {
      "text/plain": [
       "<matplotlib.legend.Legend at 0x7f27dea2cf98>"
      ]
     },
     "execution_count": 23,
     "metadata": {},
     "output_type": "execute_result"
    },
    {
     "data": {
      "image/png": "[encoded data removed]",
      "text/plain": [
       "<Figure size 1080x720 with 1 Axes>"
      ]
     },
     "metadata": {
      "needs_background": "light"
     },
     "output_type": "display_data"
    }
   ],
   "source": [
    "plt.figure(figsize=(15,10))\n",
    "\n",
    "# Neural Network plots\n",
    "plt.plot(acc_nn.accuracies, 'r-', label = \"Training Accuracies - NN\")\n",
    "plt.plot(acc_nn.test_accuracies, 'g-', label = \"Testing Accuracies - NN\")\n",
    "\n",
    "# Logistic Regression plots\n",
    "plt.plot(acc_lr.accuracies, 'k-', label = \"Training Accuracies - LR\")\n",
    "plt.plot(acc_lr.test_accuracies, 'b-', label = \"Testing Accuracies - LR\")\n",
    "\n",
    "plt.ylim(0.8, 1)\n",
    "\n",
    "plt.legend()\n",
    "\n"
   ]
  },
  {
   "cell_type": "markdown",
   "metadata": {
    "papermill": {
     "duration": 0.041086,
     "end_time": "2020-08-11T20:05:08.229286",
     "exception": false,
     "start_time": "2020-08-11T20:05:08.188200",
     "status": "completed"
    },
    "tags": []
   },
   "source": [
    "### From the plot, we can observe the following:\n",
    "- Neural Network achieves higher accuracy than the Logistic Regression model.\n",
    "- This apparently, is because of overfitting, i.e. NN captures more noise than data.\n",
    "- Testing accuracy of NN drops below the Training accuracy at higher epochs. This explains the over-fitting on training data.\n",
    "- Logistic Regression gives a reliable accuracy, without the above mentioned problem.\n"
   ]
  },
  {
   "cell_type": "markdown",
   "metadata": {
    "papermill": {
     "duration": 0.040899,
     "end_time": "2020-08-11T20:05:08.311157",
     "exception": false,
     "start_time": "2020-08-11T20:05:08.270258",
     "status": "completed"
    },
    "tags": []
   },
   "source": [
    "### Moving till the last but one layer (excluding it).\n",
    "#### Plotting the outputs of this layer of the NN."
   ]
  },
  {
   "cell_type": "code",
   "execution_count": 24,
   "metadata": {
    "execution": {
     "iopub.execute_input": "2020-08-11T20:05:08.410197Z",
     "iopub.status.busy": "2020-08-11T20:05:08.409711Z",
     "iopub.status.idle": "2020-08-11T20:05:08.413381Z",
     "shell.execute_reply": "2020-08-11T20:05:08.412959Z"
    },
    "papermill": {
     "duration": 0.061226,
     "end_time": "2020-08-11T20:05:08.413483",
     "exception": false,
     "start_time": "2020-08-11T20:05:08.352257",
     "status": "completed"
    },
    "tags": []
   },
   "outputs": [],
   "source": [
    "model_new = Model(layers[:-2])"
   ]
  },
  {
   "cell_type": "code",
   "execution_count": 25,
   "metadata": {
    "execution": {
     "iopub.execute_input": "2020-08-11T20:05:08.512820Z",
     "iopub.status.busy": "2020-08-11T20:05:08.512296Z",
     "iopub.status.idle": "2020-08-11T20:05:08.528194Z",
     "shell.execute_reply": "2020-08-11T20:05:08.528891Z"
    },
    "papermill": {
     "duration": 0.074133,
     "end_time": "2020-08-11T20:05:08.529011",
     "exception": false,
     "start_time": "2020-08-11T20:05:08.454878",
     "status": "completed"
    },
    "tags": []
   },
   "outputs": [],
   "source": [
    "plot_testing = model_new(testing_xdata)"
   ]
  },
  {
   "cell_type": "code",
   "execution_count": 26,
   "metadata": {
    "execution": {
     "iopub.execute_input": "2020-08-11T20:05:08.615524Z",
     "iopub.status.busy": "2020-08-11T20:05:08.615033Z",
     "iopub.status.idle": "2020-08-11T20:05:08.811087Z",
     "shell.execute_reply": "2020-08-11T20:05:08.811524Z"
    },
    "papermill": {
     "duration": 0.241275,
     "end_time": "2020-08-11T20:05:08.811642",
     "exception": false,
     "start_time": "2020-08-11T20:05:08.570367",
     "status": "completed"
    },
    "tags": []
   },
   "outputs": [
    {
     "data": {
      "text/plain": [
       "Text(0.5, 1.0, 'Outputs')"
      ]
     },
     "execution_count": 26,
     "metadata": {},
     "output_type": "execute_result"
    },
    {
     "data": {
      "image/png": "[encoded data removed]",
      "text/plain": [
       "<Figure size 576x504 with 1 Axes>"
      ]
     },
     "metadata": {
      "needs_background": "light"
     },
     "output_type": "display_data"
    }
   ],
   "source": [
    "plt.figure(figsize=(8,7))\n",
    "plt.scatter(plot_testing[:,0], plot_testing[:,1], alpha = 0.1, c = y_test.ravel());\n",
    "plt.title('Outputs')"
   ]
  },
  {
   "cell_type": "markdown",
   "metadata": {
    "papermill": {
     "duration": 0.043653,
     "end_time": "2020-08-11T20:05:08.899091",
     "exception": false,
     "start_time": "2020-08-11T20:05:08.855438",
     "status": "completed"
    },
    "tags": []
   },
   "source": [
    "### Plotting probability contours"
   ]
  },
  {
   "cell_type": "code",
   "execution_count": 27,
   "metadata": {
    "execution": {
     "iopub.execute_input": "2020-08-11T20:05:08.993863Z",
     "iopub.status.busy": "2020-08-11T20:05:08.993375Z",
     "iopub.status.idle": "2020-08-11T20:05:09.002475Z",
     "shell.execute_reply": "2020-08-11T20:05:09.002057Z"
    },
    "papermill": {
     "duration": 0.060088,
     "end_time": "2020-08-11T20:05:09.002573",
     "exception": false,
     "start_time": "2020-08-11T20:05:08.942485",
     "status": "completed"
    },
    "tags": []
   },
   "outputs": [],
   "source": [
    "model_prob = Model(layers[-2:]) "
   ]
  },
  {
   "cell_type": "code",
   "execution_count": 28,
   "metadata": {
    "execution": {
     "iopub.execute_input": "2020-08-11T20:05:09.103425Z",
     "iopub.status.busy": "2020-08-11T20:05:09.096895Z",
     "iopub.status.idle": "2020-08-11T20:05:09.109961Z",
     "shell.execute_reply": "2020-08-11T20:05:09.110340Z"
    },
    "papermill": {
     "duration": 0.064331,
     "end_time": "2020-08-11T20:05:09.110451",
     "exception": false,
     "start_time": "2020-08-11T20:05:09.046120",
     "status": "completed"
    },
    "tags": []
   },
   "outputs": [],
   "source": [
    "# Adjust the x and y ranges according to the above generated plot.\n",
    "x_range = np.linspace(-4, 1, 100) \n",
    "y_range = np.linspace(-6, 6, 100) \n",
    "x_grid, y_grid = np.meshgrid(x_range, y_range) # x_grid and y_grig are of size 100 X 100\n",
    "\n",
    "# converting x_grid and y_grid to continuous arrays\n",
    "x_grid_flat = np.ravel(x_grid)\n",
    "y_grid_flat = np.ravel(y_grid)\n",
    "\n",
    "# The last layer of the current model takes two columns as input. Hence transpose of np.vstack() is required.\n",
    "X = np.vstack((x_grid_flat, y_grid_flat)).T\n",
    "\n",
    "# x_grid and y_grid are of size 100 x 100\n",
    "probability_contour = model_prob(X).reshape(100,100) "
   ]
  },
  {
   "cell_type": "code",
   "execution_count": 29,
   "metadata": {
    "execution": {
     "iopub.execute_input": "2020-08-11T20:05:09.209430Z",
     "iopub.status.busy": "2020-08-11T20:05:09.208944Z",
     "iopub.status.idle": "2020-08-11T20:05:09.432556Z",
     "shell.execute_reply": "2020-08-11T20:05:09.432960Z"
    },
    "papermill": {
     "duration": 0.278817,
     "end_time": "2020-08-11T20:05:09.433075",
     "exception": false,
     "start_time": "2020-08-11T20:05:09.154258",
     "status": "completed"
    },
    "tags": []
   },
   "outputs": [
    {
     "data": {
      "image/png": "[encoded data removed]",
      "text/plain": [
       "<Figure size 720x648 with 1 Axes>"
      ]
     },
     "metadata": {
      "needs_background": "light"
     },
     "output_type": "display_data"
    }
   ],
   "source": [
    "plt.figure(figsize=(10,9))\n",
    "plt.scatter(plot_testing[:,0], plot_testing[:,1], alpha = 0.1, c = y_test.ravel())\n",
    "contours = plt.contour(x_grid,y_grid,probability_contour)\n",
    "plt.title('Probability Contours')\n",
    "plt.clabel(contours, inline = True );"
   ]
  }
 ],
 "metadata": {
  "kernelspec": {
   "display_name": "Python 3",
   "language": "python",
   "name": "python3"
  },
  "language_info": {
   "codemirror_mode": {
    "name": "ipython",
    "version": 3
   },
   "file_extension": ".py",
   "mimetype": "text/x-python",
   "name": "python",
   "nbconvert_exporter": "python",
   "pygments_lexer": "ipython3",
   "version": "3.6.11"
  },
  "papermill": {
   "duration": 94.672389,
   "end_time": "2020-08-11T20:05:09.786139",
   "environment_variables": {},
   "exception": null,
   "input_path": "2020-08-11-NeuralNetwork.ipynb",
   "output_path": "2020-08-11-NeuralNetwork.ipynb",
   "parameters": {},
   "start_time": "2020-08-11T20:03:35.113750",
   "version": "2.1.2"
  }
 },
 "nbformat": 4,
 "nbformat_minor": 4
}