{
 "cells": [
  {
   "cell_type": "markdown",
   "metadata": {
    "papermill": {
     "duration": 0.02861,
     "end_time": "2020-12-29T20:10:20.161389",
     "exception": false,
     "start_time": "2020-12-29T20:10:20.132779",
     "status": "completed"
    },
    "tags": []
   },
   "source": [
    "# \"A Basic Neural Network: Differentiate Hand-Written Digits\"\n",
    "\n",
    "- badges: true\n",
    "- author: Akshith Sriram"
   ]
  },
  {
   "cell_type": "markdown",
   "metadata": {
    "papermill": {
     "duration": 0.02196,
     "end_time": "2020-12-29T20:10:20.212023",
     "exception": false,
     "start_time": "2020-12-29T20:10:20.190063",
     "status": "completed"
    },
    "tags": []
   },
   "source": [
    "### Key Objectives:\n",
    "- Building a neural network that differentiates two hand-written digits 3 and 8.\n",
    "- Comparing the results of this Neural Network (NN) to that of a Logistic Regression (LR) model.\n",
    "\n",
    "### Requirements:\n",
    "- 'Kudzu' : A neural network library that was designed during our course by [Univ.AI](www.univ.ai). \n",
    "- MNIST Database\n",
    "\n",
    "If MNIST is not installed, use the command `!pip install mnist` given below.\n",
    "It can be run both from the command line and Jupyter Notebook."
   ]
  },
  {
   "cell_type": "code",
   "execution_count": 1,
   "metadata": {
    "execution": {
     "iopub.execute_input": "2020-12-29T20:10:20.266686Z",
     "iopub.status.busy": "2020-12-29T20:10:20.266096Z",
     "iopub.status.idle": "2020-12-29T20:10:21.612384Z",
     "shell.execute_reply": "2020-12-29T20:10:21.611424Z"
    },
    "papermill": {
     "duration": 1.380923,
     "end_time": "2020-12-29T20:10:21.612553",
     "exception": false,
     "start_time": "2020-12-29T20:10:20.231630",
     "status": "completed"
    },
    "tags": []
   },
   "outputs": [
    {
     "name": "stdout",
     "output_type": "stream",
     "text": [
      "Collecting mnist\r\n"
     ]
    },
    {
     "name": "stdout",
     "output_type": "stream",
     "text": [
      "  Downloading mnist-0.2.2-py2.py3-none-any.whl (3.5 kB)\r\n",
      "Requirement already satisfied: numpy in /opt/hostedtoolcache/Python/3.6.12/x64/lib/python3.6/site-packages (from mnist) (1.19.4)\r\n"
     ]
    },
    {
     "name": "stdout",
     "output_type": "stream",
     "text": [
      "Installing collected packages: mnist\r\n"
     ]
    },
    {
     "name": "stdout",
     "output_type": "stream",
     "text": [
      "Successfully installed mnist-0.2.2\r\n",
      "\u001b[33mWARNING: You are using pip version 20.3.1; however, version 20.3.3 is available.\r\n",
      "You should consider upgrading via the '/opt/hostedtoolcache/Python/3.6.12/x64/bin/python -m pip install --upgrade pip' command.\u001b[0m\r\n"
     ]
    }
   ],
   "source": [
    "!pip install mnist "
   ]
  },
  {
   "cell_type": "markdown",
   "metadata": {
    "papermill": {
     "duration": 0.02126,
     "end_time": "2020-12-29T20:10:21.655080",
     "exception": false,
     "start_time": "2020-12-29T20:10:21.633820",
     "status": "completed"
    },
    "tags": []
   },
   "source": [
    "#### Importing necessary libraries"
   ]
  },
  {
   "cell_type": "code",
   "execution_count": 2,
   "metadata": {
    "execution": {
     "iopub.execute_input": "2020-12-29T20:10:21.719990Z",
     "iopub.status.busy": "2020-12-29T20:10:21.708078Z",
     "iopub.status.idle": "2020-12-29T20:10:22.207382Z",
     "shell.execute_reply": "2020-12-29T20:10:22.208199Z"
    },
    "papermill": {
     "duration": 0.530202,
     "end_time": "2020-12-29T20:10:22.208453",
     "exception": false,
     "start_time": "2020-12-29T20:10:21.678251",
     "status": "completed"
    },
    "tags": []
   },
   "outputs": [],
   "source": [
    "%load_ext autoreload\n",
    "%autoreload 2\n",
    "\n",
    "%matplotlib inline\n",
    "import matplotlib.pyplot as plt\n",
    "\n",
    "import numpy as np\n",
    "import pandas as pd"
   ]
  },
  {
   "cell_type": "markdown",
   "metadata": {
    "papermill": {
     "duration": 0.024657,
     "end_time": "2020-12-29T20:10:22.256866",
     "exception": false,
     "start_time": "2020-12-29T20:10:22.232209",
     "status": "completed"
    },
    "tags": []
   },
   "source": [
    "### Preparing the Data"
   ]
  },
  {
   "cell_type": "code",
   "execution_count": 3,
   "metadata": {
    "execution": {
     "iopub.execute_input": "2020-12-29T20:10:22.305324Z",
     "iopub.status.busy": "2020-12-29T20:10:22.304283Z",
     "iopub.status.idle": "2020-12-29T20:10:22.315731Z",
     "shell.execute_reply": "2020-12-29T20:10:22.315340Z"
    },
    "papermill": {
     "duration": 0.036476,
     "end_time": "2020-12-29T20:10:22.315837",
     "exception": false,
     "start_time": "2020-12-29T20:10:22.279361",
     "status": "completed"
    },
    "tags": []
   },
   "outputs": [],
   "source": [
    "import mnist"
   ]
  },
  {
   "cell_type": "code",
   "execution_count": 4,
   "metadata": {
    "execution": {
     "iopub.execute_input": "2020-12-29T20:10:22.366119Z",
     "iopub.status.busy": "2020-12-29T20:10:22.365641Z",
     "iopub.status.idle": "2020-12-29T20:10:23.068396Z",
     "shell.execute_reply": "2020-12-29T20:10:23.067522Z"
    },
    "papermill": {
     "duration": 0.731073,
     "end_time": "2020-12-29T20:10:23.068622",
     "exception": false,
     "start_time": "2020-12-29T20:10:22.337549",
     "status": "completed"
    },
    "tags": []
   },
   "outputs": [],
   "source": [
    "train_images = mnist.train_images()\n",
    "train_labels = mnist.train_labels()"
   ]
  },
  {
   "cell_type": "code",
   "execution_count": 5,
   "metadata": {
    "execution": {
     "iopub.execute_input": "2020-12-29T20:10:23.116910Z",
     "iopub.status.busy": "2020-12-29T20:10:23.116429Z",
     "iopub.status.idle": "2020-12-29T20:10:23.131460Z",
     "shell.execute_reply": "2020-12-29T20:10:23.130980Z"
    },
    "papermill": {
     "duration": 0.041543,
     "end_time": "2020-12-29T20:10:23.131562",
     "exception": false,
     "start_time": "2020-12-29T20:10:23.090019",
     "status": "completed"
    },
    "tags": []
   },
   "outputs": [
    {
     "data": {
      "text/plain": [
       "((60000, 28, 28), (60000,))"
      ]
     },
     "execution_count": 5,
     "metadata": {},
     "output_type": "execute_result"
    }
   ],
   "source": [
    "train_images.shape, train_labels.shape"
   ]
  },
  {
   "cell_type": "code",
   "execution_count": 6,
   "metadata": {
    "execution": {
     "iopub.execute_input": "2020-12-29T20:10:23.177598Z",
     "iopub.status.busy": "2020-12-29T20:10:23.177118Z",
     "iopub.status.idle": "2020-12-29T20:10:23.452111Z",
     "shell.execute_reply": "2020-12-29T20:10:23.451040Z"
    },
    "papermill": {
     "duration": 0.3006,
     "end_time": "2020-12-29T20:10:23.452329",
     "exception": false,
     "start_time": "2020-12-29T20:10:23.151729",
     "status": "completed"
    },
    "tags": []
   },
   "outputs": [],
   "source": [
    "test_images = mnist.test_images()\n",
    "test_labels = mnist.test_labels()"
   ]
  },
  {
   "cell_type": "code",
   "execution_count": 7,
   "metadata": {
    "execution": {
     "iopub.execute_input": "2020-12-29T20:10:23.504181Z",
     "iopub.status.busy": "2020-12-29T20:10:23.503761Z",
     "iopub.status.idle": "2020-12-29T20:10:23.516889Z",
     "shell.execute_reply": "2020-12-29T20:10:23.516421Z"
    },
    "papermill": {
     "duration": 0.038219,
     "end_time": "2020-12-29T20:10:23.517013",
     "exception": false,
     "start_time": "2020-12-29T20:10:23.478794",
     "status": "completed"
    },
    "tags": []
   },
   "outputs": [
    {
     "data": {
      "text/plain": [
       "((10000, 28, 28), (10000,))"
      ]
     },
     "execution_count": 7,
     "metadata": {},
     "output_type": "execute_result"
    }
   ],
   "source": [
    "test_images.shape, test_labels.shape"
   ]
  },
  {
   "cell_type": "code",
   "execution_count": 8,
   "metadata": {
    "execution": {
     "iopub.execute_input": "2020-12-29T20:10:23.562956Z",
     "iopub.status.busy": "2020-12-29T20:10:23.562432Z",
     "iopub.status.idle": "2020-12-29T20:10:23.682249Z",
     "shell.execute_reply": "2020-12-29T20:10:23.681763Z"
    },
    "papermill": {
     "duration": 0.14518,
     "end_time": "2020-12-29T20:10:23.682353",
     "exception": false,
     "start_time": "2020-12-29T20:10:23.537173",
     "status": "completed"
    },
    "tags": []
   },
   "outputs": [
    {
     "name": "stdout",
     "output_type": "stream",
     "text": [
      "2\n"
     ]
    },
    {
     "data": {
      "text/plain": [
       "<matplotlib.image.AxesImage at 0x7f3dee451278>"
      ]
     },
     "execution_count": 8,
     "metadata": {},
     "output_type": "execute_result"
    },
    {
     "data": {
      "image/png": "[encoded data removed]",
      "text/plain": [
       "<Figure size 432x288 with 1 Axes>"
      ]
     },
     "metadata": {
      "needs_background": "light"
     },
     "output_type": "display_data"
    }
   ],
   "source": [
    "image_index = 7776 # You may select anything up to 60,000\n",
    "print(train_labels[image_index]) \n",
    "plt.imshow(train_images[image_index], cmap='Greys')"
   ]
  },
  {
   "cell_type": "markdown",
   "metadata": {
    "papermill": {
     "duration": 0.024799,
     "end_time": "2020-12-29T20:10:23.727851",
     "exception": false,
     "start_time": "2020-12-29T20:10:23.703052",
     "status": "completed"
    },
    "tags": []
   },
   "source": [
    "## Filter data to get 3 and 8 out"
   ]
  },
  {
   "cell_type": "code",
   "execution_count": 9,
   "metadata": {
    "execution": {
     "iopub.execute_input": "2020-12-29T20:10:23.792029Z",
     "iopub.status.busy": "2020-12-29T20:10:23.791519Z",
     "iopub.status.idle": "2020-12-29T20:10:23.803696Z",
     "shell.execute_reply": "2020-12-29T20:10:23.803336Z"
    },
    "papermill": {
     "duration": 0.050689,
     "end_time": "2020-12-29T20:10:23.803787",
     "exception": false,
     "start_time": "2020-12-29T20:10:23.753098",
     "status": "completed"
    },
    "tags": []
   },
   "outputs": [],
   "source": [
    "train_filter = np.where((train_labels == 3 ) | (train_labels == 8))\n",
    "test_filter = np.where((test_labels == 3) | (test_labels == 8))\n",
    "X_train, y_train = train_images[train_filter], train_labels[train_filter]\n",
    "X_test, y_test = test_images[test_filter], test_labels[test_filter]"
   ]
  },
  {
   "cell_type": "markdown",
   "metadata": {
    "papermill": {
     "duration": 0.028819,
     "end_time": "2020-12-29T20:10:24.014871",
     "exception": false,
     "start_time": "2020-12-29T20:10:23.986052",
     "status": "completed"
    },
    "tags": []
   },
   "source": [
    "We normalize the pixel values in the 0 to 1 range"
   ]
  },
  {
   "cell_type": "code",
   "execution_count": 10,
   "metadata": {
    "execution": {
     "iopub.execute_input": "2020-12-29T20:10:24.064700Z",
     "iopub.status.busy": "2020-12-29T20:10:24.063720Z",
     "iopub.status.idle": "2020-12-29T20:10:24.112966Z",
     "shell.execute_reply": "2020-12-29T20:10:24.112092Z"
    },
    "papermill": {
     "duration": 0.075537,
     "end_time": "2020-12-29T20:10:24.113191",
     "exception": false,
     "start_time": "2020-12-29T20:10:24.037654",
     "status": "completed"
    },
    "tags": []
   },
   "outputs": [],
   "source": [
    "X_train = X_train/255.\n",
    "X_test = X_test/255."
   ]
  },
  {
   "cell_type": "markdown",
   "metadata": {
    "papermill": {
     "duration": 0.024482,
     "end_time": "2020-12-29T20:10:24.162343",
     "exception": false,
     "start_time": "2020-12-29T20:10:24.137861",
     "status": "completed"
    },
    "tags": []
   },
   "source": [
    "Setup the labels as 1 (when the digit is 3) and 0 (when the digit is 8)"
   ]
  },
  {
   "cell_type": "code",
   "execution_count": 11,
   "metadata": {
    "execution": {
     "iopub.execute_input": "2020-12-29T20:10:24.211601Z",
     "iopub.status.busy": "2020-12-29T20:10:24.211031Z",
     "iopub.status.idle": "2020-12-29T20:10:24.225129Z",
     "shell.execute_reply": "2020-12-29T20:10:24.224668Z"
    },
    "papermill": {
     "duration": 0.042455,
     "end_time": "2020-12-29T20:10:24.225244",
     "exception": false,
     "start_time": "2020-12-29T20:10:24.182789",
     "status": "completed"
    },
    "tags": []
   },
   "outputs": [],
   "source": [
    "y_train = 1*(y_train==3)\n",
    "y_test = 1*(y_test==3)"
   ]
  },
  {
   "cell_type": "code",
   "execution_count": 12,
   "metadata": {
    "execution": {
     "iopub.execute_input": "2020-12-29T20:10:24.277389Z",
     "iopub.status.busy": "2020-12-29T20:10:24.276904Z",
     "iopub.status.idle": "2020-12-29T20:10:24.293378Z",
     "shell.execute_reply": "2020-12-29T20:10:24.293761Z"
    },
    "papermill": {
     "duration": 0.044843,
     "end_time": "2020-12-29T20:10:24.293874",
     "exception": false,
     "start_time": "2020-12-29T20:10:24.249031",
     "status": "completed"
    },
    "tags": []
   },
   "outputs": [
    {
     "data": {
      "text/plain": [
       "((11982, 28, 28), (1984, 28, 28))"
      ]
     },
     "execution_count": 12,
     "metadata": {},
     "output_type": "execute_result"
    }
   ],
   "source": [
    "X_train.shape, X_test.shape"
   ]
  },
  {
   "cell_type": "markdown",
   "metadata": {
    "papermill": {
     "duration": 0.02266,
     "end_time": "2020-12-29T20:10:24.340940",
     "exception": false,
     "start_time": "2020-12-29T20:10:24.318280",
     "status": "completed"
    },
    "tags": []
   },
   "source": [
    "### Reshape the input data to create a linear array"
   ]
  },
  {
   "cell_type": "code",
   "execution_count": 13,
   "metadata": {
    "execution": {
     "iopub.execute_input": "2020-12-29T20:10:24.389271Z",
     "iopub.status.busy": "2020-12-29T20:10:24.388800Z",
     "iopub.status.idle": "2020-12-29T20:10:24.400021Z",
     "shell.execute_reply": "2020-12-29T20:10:24.399691Z"
    },
    "papermill": {
     "duration": 0.037012,
     "end_time": "2020-12-29T20:10:24.400113",
     "exception": false,
     "start_time": "2020-12-29T20:10:24.363101",
     "status": "completed"
    },
    "tags": []
   },
   "outputs": [
    {
     "data": {
      "text/plain": [
       "((11982, 784), (1984, 784))"
      ]
     },
     "execution_count": 13,
     "metadata": {},
     "output_type": "execute_result"
    }
   ],
   "source": [
    "X_train = X_train.reshape(X_train.shape[0], -1)\n",
    "X_test = X_test.reshape(X_test.shape[0], -1)\n",
    "X_train.shape, X_test.shape"
   ]
  },
  {
   "cell_type": "markdown",
   "metadata": {
    "papermill": {
     "duration": 0.023769,
     "end_time": "2020-12-29T20:10:24.447370",
     "exception": false,
     "start_time": "2020-12-29T20:10:24.423601",
     "status": "completed"
    },
    "tags": []
   },
   "source": [
    "### Importing appropriate functions from 'Kudzu'"
   ]
  },
  {
   "cell_type": "code",
   "execution_count": 14,
   "metadata": {
    "execution": {
     "iopub.execute_input": "2020-12-29T20:10:24.496423Z",
     "iopub.status.busy": "2020-12-29T20:10:24.495903Z",
     "iopub.status.idle": "2020-12-29T20:10:24.515413Z",
     "shell.execute_reply": "2020-12-29T20:10:24.515883Z"
    },
    "papermill": {
     "duration": 0.04617,
     "end_time": "2020-12-29T20:10:24.516031",
     "exception": false,
     "start_time": "2020-12-29T20:10:24.469861",
     "status": "completed"
    },
    "tags": []
   },
   "outputs": [],
   "source": [
    "from kudzu.layer import Sigmoid\n",
    "from kudzu.layer import Relu\n",
    "from kudzu.layer import Affine, Sigmoid\n",
    "\n",
    "from kudzu.model import Model\n",
    "from kudzu.train import Learner\n",
    "from kudzu.optim import GD\n",
    "from kudzu.data import Data, Dataloader, Sampler\n",
    "\n",
    "from kudzu.callbacks import AccCallback\n",
    "from kudzu.callbacks import ClfCallback\n",
    "\n",
    "from kudzu.loss import MSE"
   ]
  },
  {
   "cell_type": "markdown",
   "metadata": {
    "papermill": {
     "duration": 0.021464,
     "end_time": "2020-12-29T20:10:24.560948",
     "exception": false,
     "start_time": "2020-12-29T20:10:24.539484",
     "status": "completed"
    },
    "tags": []
   },
   "source": [
    "### Let us create a `Config` class, to store important parameters. \n",
    "This class essentially plays the role of a dictionary."
   ]
  },
  {
   "cell_type": "code",
   "execution_count": 15,
   "metadata": {
    "execution": {
     "iopub.execute_input": "2020-12-29T20:10:24.611846Z",
     "iopub.status.busy": "2020-12-29T20:10:24.611379Z",
     "iopub.status.idle": "2020-12-29T20:10:24.618416Z",
     "shell.execute_reply": "2020-12-29T20:10:24.618884Z"
    },
    "papermill": {
     "duration": 0.035997,
     "end_time": "2020-12-29T20:10:24.618983",
     "exception": false,
     "start_time": "2020-12-29T20:10:24.582986",
     "status": "completed"
    },
    "tags": []
   },
   "outputs": [],
   "source": [
    "class Config:\n",
    "    pass\n",
    "config = Config()\n",
    "config.lr = 0.001\n",
    "config.num_epochs = 251\n",
    "config.bs = 50"
   ]
  },
  {
   "cell_type": "markdown",
   "metadata": {
    "papermill": {
     "duration": 0.024351,
     "end_time": "2020-12-29T20:10:24.667373",
     "exception": false,
     "start_time": "2020-12-29T20:10:24.643022",
     "status": "completed"
    },
    "tags": []
   },
   "source": [
    "### Initializing data to the variables"
   ]
  },
  {
   "cell_type": "code",
   "execution_count": 16,
   "metadata": {
    "execution": {
     "iopub.execute_input": "2020-12-29T20:10:24.720872Z",
     "iopub.status.busy": "2020-12-29T20:10:24.720336Z",
     "iopub.status.idle": "2020-12-29T20:10:24.731982Z",
     "shell.execute_reply": "2020-12-29T20:10:24.731550Z"
    },
    "papermill": {
     "duration": 0.040225,
     "end_time": "2020-12-29T20:10:24.732094",
     "exception": false,
     "start_time": "2020-12-29T20:10:24.691869",
     "status": "completed"
    },
    "tags": []
   },
   "outputs": [],
   "source": [
    "data = Data(X_train, y_train.reshape(-1,1))\n",
    "sampler = Sampler(data, config.bs, shuffle=True)\n",
    "\n",
    "dl = Dataloader(data, sampler)\n",
    "\n",
    "opt = GD(config.lr)\n",
    "loss = MSE()"
   ]
  },
  {
   "cell_type": "code",
   "execution_count": 17,
   "metadata": {
    "execution": {
     "iopub.execute_input": "2020-12-29T20:10:24.787806Z",
     "iopub.status.busy": "2020-12-29T20:10:24.787399Z",
     "iopub.status.idle": "2020-12-29T20:10:24.801967Z",
     "shell.execute_reply": "2020-12-29T20:10:24.802392Z"
    },
    "papermill": {
     "duration": 0.045361,
     "end_time": "2020-12-29T20:10:24.802522",
     "exception": false,
     "start_time": "2020-12-29T20:10:24.757161",
     "status": "completed"
    },
    "tags": []
   },
   "outputs": [],
   "source": [
    "training_xdata = X_train\n",
    "testing_xdata = X_test\n",
    "training_ydata = y_train.reshape(-1,1)\n",
    "testing_ydata = y_test.reshape(-1,1)"
   ]
  },
  {
   "cell_type": "markdown",
   "metadata": {
    "papermill": {
     "duration": 0.023097,
     "end_time": "2020-12-29T20:10:24.849388",
     "exception": false,
     "start_time": "2020-12-29T20:10:24.826291",
     "status": "completed"
    },
    "tags": []
   },
   "source": [
    "### Running Models with the Training data\n",
    "Details about the network layers:\n",
    "- A first affine layer has 784 inputs and does 100 affine transforms. These are followed by a Relu\n",
    "- A second affine layer has 100 inputs from the 100 activations of the past layer, and does 100 affine transforms. These are followed by a Relu\n",
    "- A third affine layer has 100 activations and does 2 affine transformations to create an embedding for visualization. There is no non-linearity here.\n",
    "- A final \"logistic regression\" which has an affine transform from 2 inputs to 1 output, which is squeezed through a sigmoid.\n",
    "\n",
    "Help taken from Anshuman's Notebook."
   ]
  },
  {
   "cell_type": "code",
   "execution_count": 18,
   "metadata": {
    "execution": {
     "iopub.execute_input": "2020-12-29T20:10:24.903185Z",
     "iopub.status.busy": "2020-12-29T20:10:24.902603Z",
     "iopub.status.idle": "2020-12-29T20:10:24.923196Z",
     "shell.execute_reply": "2020-12-29T20:10:24.921860Z"
    },
    "papermill": {
     "duration": 0.050011,
     "end_time": "2020-12-29T20:10:24.923344",
     "exception": false,
     "start_time": "2020-12-29T20:10:24.873333",
     "status": "completed"
    },
    "tags": []
   },
   "outputs": [],
   "source": [
    "# layers for the Neural Network\n",
    "layers = [Affine(\"first\", 784, 100), Relu(\"first\"), Affine(\"second\", 100, 100), Relu(\"second\"), Affine(\"third\", 100, 2), Affine(\"final\", 2, 1), Sigmoid(\"final\")]\n",
    "model_nn = Model(layers)\n",
    "\n",
    "# layers for the Logistic Regression\n",
    "layers_lr = [Affine(\"logits\", 784, 1), Sigmoid(\"sigmoid\")]\n",
    "model_lr = Model(layers_lr)"
   ]
  },
  {
   "cell_type": "code",
   "execution_count": 19,
   "metadata": {
    "execution": {
     "iopub.execute_input": "2020-12-29T20:10:24.988164Z",
     "iopub.status.busy": "2020-12-29T20:10:24.987579Z",
     "iopub.status.idle": "2020-12-29T20:10:24.998602Z",
     "shell.execute_reply": "2020-12-29T20:10:24.999077Z"
    },
    "papermill": {
     "duration": 0.045832,
     "end_time": "2020-12-29T20:10:24.999223",
     "exception": false,
     "start_time": "2020-12-29T20:10:24.953391",
     "status": "completed"
    },
    "tags": []
   },
   "outputs": [],
   "source": [
    "# suffix _nn stands for Neural Network.\n",
    "learner_nn = Learner(loss, model_nn, opt, config.num_epochs)\n",
    "acc_nn = ClfCallback(learner_nn, config.bs, training_xdata , testing_xdata, training_ydata, testing_ydata)\n",
    "learner_nn.set_callbacks([acc_nn])"
   ]
  },
  {
   "cell_type": "code",
   "execution_count": 20,
   "metadata": {
    "execution": {
     "iopub.execute_input": "2020-12-29T20:10:25.059258Z",
     "iopub.status.busy": "2020-12-29T20:10:25.058692Z",
     "iopub.status.idle": "2020-12-29T20:11:41.639843Z",
     "shell.execute_reply": "2020-12-29T20:11:41.640677Z"
    },
    "papermill": {
     "duration": 76.613681,
     "end_time": "2020-12-29T20:11:41.640827",
     "exception": false,
     "start_time": "2020-12-29T20:10:25.027146",
     "status": "completed"
    },
    "tags": []
   },
   "outputs": [
    {
     "name": "stdout",
     "output_type": "stream",
     "text": [
      "====== Neural Network ======\n"
     ]
    },
    {
     "name": "stdout",
     "output_type": "stream",
     "text": [
      "Epoch 0, Loss 0.2536\n",
      "Training Accuracy: 0.4109, Testing Accuracy: 0.4118\n",
      "\n"
     ]
    },
    {
     "name": "stdout",
     "output_type": "stream",
     "text": [
      "Epoch 10, Loss 0.237\n",
      "Training Accuracy: 0.8025, Testing Accuracy: 0.8130\n",
      "\n"
     ]
    },
    {
     "name": "stdout",
     "output_type": "stream",
     "text": [
      "Epoch 20, Loss 0.1861\n",
      "Training Accuracy: 0.8706, Testing Accuracy: 0.8795\n",
      "\n"
     ]
    },
    {
     "name": "stdout",
     "output_type": "stream",
     "text": [
      "Epoch 30, Loss 0.0995\n",
      "Training Accuracy: 0.9037, Testing Accuracy: 0.9133\n",
      "\n"
     ]
    },
    {
     "name": "stdout",
     "output_type": "stream",
     "text": [
      "Epoch 40, Loss 0.0656\n",
      "Training Accuracy: 0.9289, Testing Accuracy: 0.9350\n",
      "\n"
     ]
    },
    {
     "name": "stdout",
     "output_type": "stream",
     "text": [
      "Epoch 50, Loss 0.0513\n",
      "Training Accuracy: 0.9410, Testing Accuracy: 0.9521\n",
      "\n"
     ]
    },
    {
     "name": "stdout",
     "output_type": "stream",
     "text": [
      "Epoch 60, Loss 0.0436\n",
      "Training Accuracy: 0.9498, Testing Accuracy: 0.9577\n",
      "\n"
     ]
    },
    {
     "name": "stdout",
     "output_type": "stream",
     "text": [
      "Epoch 70, Loss 0.039\n",
      "Training Accuracy: 0.9537, Testing Accuracy: 0.9632\n",
      "\n"
     ]
    },
    {
     "name": "stdout",
     "output_type": "stream",
     "text": [
      "Epoch 80, Loss 0.0358\n",
      "Training Accuracy: 0.9578, Testing Accuracy: 0.9662\n",
      "\n"
     ]
    },
    {
     "name": "stdout",
     "output_type": "stream",
     "text": [
      "Epoch 90, Loss 0.0334\n",
      "Training Accuracy: 0.9596, Testing Accuracy: 0.9662\n",
      "\n"
     ]
    },
    {
     "name": "stdout",
     "output_type": "stream",
     "text": [
      "Epoch 100, Loss 0.0316\n",
      "Training Accuracy: 0.9617, Testing Accuracy: 0.9677\n",
      "\n"
     ]
    },
    {
     "name": "stdout",
     "output_type": "stream",
     "text": [
      "Epoch 110, Loss 0.0302\n",
      "Training Accuracy: 0.9638, Testing Accuracy: 0.9682\n",
      "\n"
     ]
    },
    {
     "name": "stdout",
     "output_type": "stream",
     "text": [
      "Epoch 120, Loss 0.029\n",
      "Training Accuracy: 0.9657, Testing Accuracy: 0.9693\n",
      "\n"
     ]
    },
    {
     "name": "stdout",
     "output_type": "stream",
     "text": [
      "Epoch 130, Loss 0.028\n",
      "Training Accuracy: 0.9670, Testing Accuracy: 0.9698\n",
      "\n"
     ]
    },
    {
     "name": "stdout",
     "output_type": "stream",
     "text": [
      "Epoch 140, Loss 0.0271\n",
      "Training Accuracy: 0.9681, Testing Accuracy: 0.9708\n",
      "\n"
     ]
    },
    {
     "name": "stdout",
     "output_type": "stream",
     "text": [
      "Epoch 150, Loss 0.0264\n",
      "Training Accuracy: 0.9696, Testing Accuracy: 0.9708\n",
      "\n"
     ]
    },
    {
     "name": "stdout",
     "output_type": "stream",
     "text": [
      "Epoch 160, Loss 0.0257\n",
      "Training Accuracy: 0.9707, Testing Accuracy: 0.9708\n",
      "\n"
     ]
    },
    {
     "name": "stdout",
     "output_type": "stream",
     "text": [
      "Epoch 170, Loss 0.0251\n",
      "Training Accuracy: 0.9710, Testing Accuracy: 0.9713\n",
      "\n"
     ]
    },
    {
     "name": "stdout",
     "output_type": "stream",
     "text": [
      "Epoch 180, Loss 0.0245\n",
      "Training Accuracy: 0.9718, Testing Accuracy: 0.9708\n",
      "\n"
     ]
    },
    {
     "name": "stdout",
     "output_type": "stream",
     "text": [
      "Epoch 190, Loss 0.024\n",
      "Training Accuracy: 0.9720, Testing Accuracy: 0.9698\n",
      "\n"
     ]
    },
    {
     "name": "stdout",
     "output_type": "stream",
     "text": [
      "Epoch 200, Loss 0.0235\n",
      "Training Accuracy: 0.9725, Testing Accuracy: 0.9698\n",
      "\n"
     ]
    },
    {
     "name": "stdout",
     "output_type": "stream",
     "text": [
      "Epoch 210, Loss 0.0231\n",
      "Training Accuracy: 0.9732, Testing Accuracy: 0.9698\n",
      "\n"
     ]
    },
    {
     "name": "stdout",
     "output_type": "stream",
     "text": [
      "Epoch 220, Loss 0.0227\n",
      "Training Accuracy: 0.9735, Testing Accuracy: 0.9708\n",
      "\n"
     ]
    },
    {
     "name": "stdout",
     "output_type": "stream",
     "text": [
      "Epoch 230, Loss 0.0223\n",
      "Training Accuracy: 0.9744, Testing Accuracy: 0.9703\n",
      "\n"
     ]
    },
    {
     "name": "stdout",
     "output_type": "stream",
     "text": [
      "Epoch 240, Loss 0.0219\n",
      "Training Accuracy: 0.9745, Testing Accuracy: 0.9698\n",
      "\n"
     ]
    },
    {
     "name": "stdout",
     "output_type": "stream",
     "text": [
      "Epoch 250, Loss 0.0215\n",
      "Training Accuracy: 0.9751, Testing Accuracy: 0.9703\n",
      "\n"
     ]
    },
    {
     "data": {
      "text/plain": [
       "0.010083273986502227"
      ]
     },
     "execution_count": 20,
     "metadata": {},
     "output_type": "execute_result"
    }
   ],
   "source": [
    "print(\"====== Neural Network ======\")\n",
    "learner_nn.train_loop(dl)"
   ]
  },
  {
   "cell_type": "markdown",
   "metadata": {
    "papermill": {
     "duration": 0.034859,
     "end_time": "2020-12-29T20:11:41.711058",
     "exception": false,
     "start_time": "2020-12-29T20:11:41.676199",
     "status": "completed"
    },
    "tags": []
   },
   "source": [
    "### Logistic Regression based Implementation."
   ]
  },
  {
   "cell_type": "code",
   "execution_count": 21,
   "metadata": {
    "execution": {
     "iopub.execute_input": "2020-12-29T20:11:41.784197Z",
     "iopub.status.busy": "2020-12-29T20:11:41.783634Z",
     "iopub.status.idle": "2020-12-29T20:11:41.795756Z",
     "shell.execute_reply": "2020-12-29T20:11:41.795211Z"
    },
    "papermill": {
     "duration": 0.050801,
     "end_time": "2020-12-29T20:11:41.795875",
     "exception": false,
     "start_time": "2020-12-29T20:11:41.745074",
     "status": "completed"
    },
    "tags": []
   },
   "outputs": [],
   "source": [
    "learner_lr = Learner(loss, model_lr, opt, config.num_epochs)\n",
    "acc_lr = ClfCallback(learner_lr, config.bs, training_xdata , testing_xdata, training_ydata, testing_ydata)\n",
    "learner_lr.set_callbacks([acc_lr])"
   ]
  },
  {
   "cell_type": "code",
   "execution_count": 22,
   "metadata": {
    "execution": {
     "iopub.execute_input": "2020-12-29T20:11:41.864919Z",
     "iopub.status.busy": "2020-12-29T20:11:41.864339Z",
     "iopub.status.idle": "2020-12-29T20:11:55.356699Z",
     "shell.execute_reply": "2020-12-29T20:11:55.357034Z"
    },
    "papermill": {
     "duration": 13.527651,
     "end_time": "2020-12-29T20:11:55.357158",
     "exception": false,
     "start_time": "2020-12-29T20:11:41.829507",
     "status": "completed"
    },
    "tags": []
   },
   "outputs": [
    {
     "name": "stdout",
     "output_type": "stream",
     "text": [
      "====== Logistic Regression ======\n",
      "Epoch 0, Loss 0.2547\n",
      "Training Accuracy: 0.6201, Testing Accuracy: 0.6190\n",
      "\n"
     ]
    },
    {
     "name": "stdout",
     "output_type": "stream",
     "text": [
      "Epoch 10, Loss 0.1057\n",
      "Training Accuracy: 0.9009, Testing Accuracy: 0.9128\n",
      "\n"
     ]
    },
    {
     "name": "stdout",
     "output_type": "stream",
     "text": [
      "Epoch 20, Loss 0.0806\n",
      "Training Accuracy: 0.9218, Testing Accuracy: 0.9380\n",
      "\n"
     ]
    },
    {
     "name": "stdout",
     "output_type": "stream",
     "text": [
      "Epoch 30, Loss 0.0693\n",
      "Training Accuracy: 0.9326, Testing Accuracy: 0.9441\n",
      "\n"
     ]
    },
    {
     "name": "stdout",
     "output_type": "stream",
     "text": [
      "Epoch 40, Loss 0.0625\n",
      "Training Accuracy: 0.9396, Testing Accuracy: 0.9501\n",
      "\n"
     ]
    },
    {
     "name": "stdout",
     "output_type": "stream",
     "text": [
      "Epoch 50, Loss 0.0579\n",
      "Training Accuracy: 0.9421, Testing Accuracy: 0.9561\n",
      "\n"
     ]
    },
    {
     "name": "stdout",
     "output_type": "stream",
     "text": [
      "Epoch 60, Loss 0.0545\n",
      "Training Accuracy: 0.9448, Testing Accuracy: 0.9567\n",
      "\n"
     ]
    },
    {
     "name": "stdout",
     "output_type": "stream",
     "text": [
      "Epoch 70, Loss 0.0519\n",
      "Training Accuracy: 0.9468, Testing Accuracy: 0.9587\n",
      "\n"
     ]
    },
    {
     "name": "stdout",
     "output_type": "stream",
     "text": [
      "Epoch 80, Loss 0.0499\n",
      "Training Accuracy: 0.9484, Testing Accuracy: 0.9602\n",
      "\n"
     ]
    },
    {
     "name": "stdout",
     "output_type": "stream",
     "text": [
      "Epoch 90, Loss 0.0481\n",
      "Training Accuracy: 0.9503, Testing Accuracy: 0.9602\n",
      "\n"
     ]
    },
    {
     "name": "stdout",
     "output_type": "stream",
     "text": [
      "Epoch 100, Loss 0.0467\n",
      "Training Accuracy: 0.9518, Testing Accuracy: 0.9602\n",
      "\n"
     ]
    },
    {
     "name": "stdout",
     "output_type": "stream",
     "text": [
      "Epoch 110, Loss 0.0454\n",
      "Training Accuracy: 0.9526, Testing Accuracy: 0.9607\n",
      "\n"
     ]
    },
    {
     "name": "stdout",
     "output_type": "stream",
     "text": [
      "Epoch 120, Loss 0.0443\n",
      "Training Accuracy: 0.9538, Testing Accuracy: 0.9637\n",
      "\n"
     ]
    },
    {
     "name": "stdout",
     "output_type": "stream",
     "text": [
      "Epoch 130, Loss 0.0434\n",
      "Training Accuracy: 0.9546, Testing Accuracy: 0.9642\n",
      "\n"
     ]
    },
    {
     "name": "stdout",
     "output_type": "stream",
     "text": [
      "Epoch 140, Loss 0.0425\n",
      "Training Accuracy: 0.9556, Testing Accuracy: 0.9647\n",
      "\n"
     ]
    },
    {
     "name": "stdout",
     "output_type": "stream",
     "text": [
      "Epoch 150, Loss 0.0418\n",
      "Training Accuracy: 0.9561, Testing Accuracy: 0.9647\n",
      "\n"
     ]
    },
    {
     "name": "stdout",
     "output_type": "stream",
     "text": [
      "Epoch 160, Loss 0.0411\n",
      "Training Accuracy: 0.9564, Testing Accuracy: 0.9647\n",
      "\n"
     ]
    },
    {
     "name": "stdout",
     "output_type": "stream",
     "text": [
      "Epoch 170, Loss 0.0405\n",
      "Training Accuracy: 0.9573, Testing Accuracy: 0.9657\n",
      "\n"
     ]
    },
    {
     "name": "stdout",
     "output_type": "stream",
     "text": [
      "Epoch 180, Loss 0.0399\n",
      "Training Accuracy: 0.9578, Testing Accuracy: 0.9657\n",
      "\n"
     ]
    },
    {
     "name": "stdout",
     "output_type": "stream",
     "text": [
      "Epoch 190, Loss 0.0394\n",
      "Training Accuracy: 0.9582, Testing Accuracy: 0.9652\n",
      "\n"
     ]
    },
    {
     "name": "stdout",
     "output_type": "stream",
     "text": [
      "Epoch 200, Loss 0.0389\n",
      "Training Accuracy: 0.9585, Testing Accuracy: 0.9647\n",
      "\n"
     ]
    },
    {
     "name": "stdout",
     "output_type": "stream",
     "text": [
      "Epoch 210, Loss 0.0384\n",
      "Training Accuracy: 0.9588, Testing Accuracy: 0.9647\n",
      "\n"
     ]
    },
    {
     "name": "stdout",
     "output_type": "stream",
     "text": [
      "Epoch 220, Loss 0.038\n",
      "Training Accuracy: 0.9594, Testing Accuracy: 0.9642\n",
      "\n"
     ]
    },
    {
     "name": "stdout",
     "output_type": "stream",
     "text": [
      "Epoch 230, Loss 0.0376\n",
      "Training Accuracy: 0.9599, Testing Accuracy: 0.9647\n",
      "\n"
     ]
    },
    {
     "name": "stdout",
     "output_type": "stream",
     "text": [
      "Epoch 240, Loss 0.0372\n",
      "Training Accuracy: 0.9602, Testing Accuracy: 0.9652\n",
      "\n"
     ]
    },
    {
     "name": "stdout",
     "output_type": "stream",
     "text": [
      "Epoch 250, Loss 0.0369\n",
      "Training Accuracy: 0.9607, Testing Accuracy: 0.9657\n",
      "\n"
     ]
    },
    {
     "data": {
      "text/plain": [
       "0.027952430840512892"
      ]
     },
     "execution_count": 22,
     "metadata": {},
     "output_type": "execute_result"
    }
   ],
   "source": [
    "print(\"====== Logistic Regression ======\")\n",
    "learner_lr.train_loop(dl)"
   ]
  },
  {
   "cell_type": "markdown",
   "metadata": {
    "papermill": {
     "duration": 0.040617,
     "end_time": "2020-12-29T20:11:55.435059",
     "exception": false,
     "start_time": "2020-12-29T20:11:55.394442",
     "status": "completed"
    },
    "tags": []
   },
   "source": [
    "### Comparing results of NN and LR"
   ]
  },
  {
   "cell_type": "code",
   "execution_count": 23,
   "metadata": {
    "execution": {
     "iopub.execute_input": "2020-12-29T20:11:55.539695Z",
     "iopub.status.busy": "2020-12-29T20:11:55.537038Z",
     "iopub.status.idle": "2020-12-29T20:11:55.754095Z",
     "shell.execute_reply": "2020-12-29T20:11:55.753583Z"
    },
    "papermill": {
     "duration": 0.275149,
     "end_time": "2020-12-29T20:11:55.754221",
     "exception": false,
     "start_time": "2020-12-29T20:11:55.479072",
     "status": "completed"
    },
    "tags": []
   },
   "outputs": [
    {
     "data": {
      "text/plain": [
       "<matplotlib.legend.Legend at 0x7f3de8c9cc18>"
      ]
     },
     "execution_count": 23,
     "metadata": {},
     "output_type": "execute_result"
    },
    {
     "data": {
      "image/png": "[encoded data removed]",
      "text/plain": [
       "<Figure size 1080x720 with 1 Axes>"
      ]
     },
     "metadata": {
      "needs_background": "light"
     },
     "output_type": "display_data"
    }
   ],
   "source": [
    "plt.figure(figsize=(15,10))\n",
    "\n",
    "# Neural Network plots\n",
    "plt.plot(acc_nn.accuracies, 'r-', label = \"Training Accuracies - NN\")\n",
    "plt.plot(acc_nn.test_accuracies, 'g-', label = \"Testing Accuracies - NN\")\n",
    "\n",
    "# Logistic Regression plots\n",
    "plt.plot(acc_lr.accuracies, 'k-', label = \"Training Accuracies - LR\")\n",
    "plt.plot(acc_lr.test_accuracies, 'b-', label = \"Testing Accuracies - LR\")\n",
    "\n",
    "plt.ylim(0.8, 1)\n",
    "\n",
    "plt.legend()\n",
    "\n"
   ]
  },
  {
   "cell_type": "markdown",
   "metadata": {
    "papermill": {
     "duration": 0.042267,
     "end_time": "2020-12-29T20:11:55.840417",
     "exception": false,
     "start_time": "2020-12-29T20:11:55.798150",
     "status": "completed"
    },
    "tags": []
   },
   "source": [
    "### From the plot, we can observe the following:\n",
    "- Neural Network achieves higher accuracy than the Logistic Regression model.\n",
    "- This apparently, is because of overfitting, i.e. NN captures more noise than data.\n",
    "- Testing accuracy of NN drops below the Training accuracy at higher epochs. This explains the over-fitting on training data.\n",
    "- Logistic Regression gives a reliable accuracy, without the above mentioned problem.\n"
   ]
  },
  {
   "cell_type": "markdown",
   "metadata": {
    "papermill": {
     "duration": 0.042424,
     "end_time": "2020-12-29T20:11:55.924610",
     "exception": false,
     "start_time": "2020-12-29T20:11:55.882186",
     "status": "completed"
    },
    "tags": []
   },
   "source": [
    "### Moving till the last but one layer (excluding it).\n",
    "#### Plotting the outputs of this layer of the NN."
   ]
  },
  {
   "cell_type": "code",
   "execution_count": 24,
   "metadata": {
    "execution": {
     "iopub.execute_input": "2020-12-29T20:11:56.024459Z",
     "iopub.status.busy": "2020-12-29T20:11:56.023681Z",
     "iopub.status.idle": "2020-12-29T20:11:56.031018Z",
     "shell.execute_reply": "2020-12-29T20:11:56.030385Z"
    },
    "papermill": {
     "duration": 0.062529,
     "end_time": "2020-12-29T20:11:56.031131",
     "exception": false,
     "start_time": "2020-12-29T20:11:55.968602",
     "status": "completed"
    },
    "tags": []
   },
   "outputs": [],
   "source": [
    "model_new = Model(layers[:-2])"
   ]
  },
  {
   "cell_type": "code",
   "execution_count": 25,
   "metadata": {
    "execution": {
     "iopub.execute_input": "2020-12-29T20:11:56.123508Z",
     "iopub.status.busy": "2020-12-29T20:11:56.116212Z",
     "iopub.status.idle": "2020-12-29T20:11:56.134561Z",
     "shell.execute_reply": "2020-12-29T20:11:56.135018Z"
    },
    "papermill": {
     "duration": 0.063173,
     "end_time": "2020-12-29T20:11:56.135158",
     "exception": false,
     "start_time": "2020-12-29T20:11:56.071985",
     "status": "completed"
    },
    "tags": []
   },
   "outputs": [],
   "source": [
    "plot_testing = model_new(testing_xdata)"
   ]
  },
  {
   "cell_type": "code",
   "execution_count": 26,
   "metadata": {
    "execution": {
     "iopub.execute_input": "2020-12-29T20:11:56.227968Z",
     "iopub.status.busy": "2020-12-29T20:11:56.227557Z",
     "iopub.status.idle": "2020-12-29T20:11:56.398300Z",
     "shell.execute_reply": "2020-12-29T20:11:56.398621Z"
    },
    "papermill": {
     "duration": 0.222686,
     "end_time": "2020-12-29T20:11:56.398768",
     "exception": false,
     "start_time": "2020-12-29T20:11:56.176082",
     "status": "completed"
    },
    "tags": []
   },
   "outputs": [
    {
     "data": {
      "text/plain": [
       "Text(0.5, 1.0, 'Outputs')"
      ]
     },
     "execution_count": 26,
     "metadata": {},
     "output_type": "execute_result"
    },
    {
     "data": {
      "image/png": "[encoded data removed]",
      "text/plain": [
       "<Figure size 576x504 with 1 Axes>"
      ]
     },
     "metadata": {
      "needs_background": "light"
     },
     "output_type": "display_data"
    }
   ],
   "source": [
    "plt.figure(figsize=(8,7))\n",
    "plt.scatter(plot_testing[:,0], plot_testing[:,1], alpha = 0.1, c = y_test.ravel());\n",
    "plt.title('Outputs')"
   ]
  },
  {
   "cell_type": "markdown",
   "metadata": {
    "papermill": {
     "duration": 0.042013,
     "end_time": "2020-12-29T20:11:56.481383",
     "exception": false,
     "start_time": "2020-12-29T20:11:56.439370",
     "status": "completed"
    },
    "tags": []
   },
   "source": [
    "### Plotting probability contours"
   ]
  },
  {
   "cell_type": "code",
   "execution_count": 27,
   "metadata": {
    "execution": {
     "iopub.execute_input": "2020-12-29T20:11:56.568769Z",
     "iopub.status.busy": "2020-12-29T20:11:56.568187Z",
     "iopub.status.idle": "2020-12-29T20:11:56.579716Z",
     "shell.execute_reply": "2020-12-29T20:11:56.579357Z"
    },
    "papermill": {
     "duration": 0.059138,
     "end_time": "2020-12-29T20:11:56.579815",
     "exception": false,
     "start_time": "2020-12-29T20:11:56.520677",
     "status": "completed"
    },
    "tags": []
   },
   "outputs": [],
   "source": [
    "model_prob = Model(layers[-2:]) "
   ]
  },
  {
   "cell_type": "code",
   "execution_count": 28,
   "metadata": {
    "execution": {
     "iopub.execute_input": "2020-12-29T20:11:56.664311Z",
     "iopub.status.busy": "2020-12-29T20:11:56.663795Z",
     "iopub.status.idle": "2020-12-29T20:11:56.676712Z",
     "shell.execute_reply": "2020-12-29T20:11:56.677517Z"
    },
    "papermill": {
     "duration": 0.061035,
     "end_time": "2020-12-29T20:11:56.677659",
     "exception": false,
     "start_time": "2020-12-29T20:11:56.616624",
     "status": "completed"
    },
    "tags": []
   },
   "outputs": [],
   "source": [
    "# Adjust the x and y ranges according to the above generated plot.\n",
    "x_range = np.linspace(-4, 1, 100) \n",
    "y_range = np.linspace(-6, 6, 100) \n",
    "x_grid, y_grid = np.meshgrid(x_range, y_range) # x_grid and y_grig are of size 100 X 100\n",
    "\n",
    "# converting x_grid and y_grid to continuous arrays\n",
    "x_grid_flat = np.ravel(x_grid)\n",
    "y_grid_flat = np.ravel(y_grid)\n",
    "\n",
    "# The last layer of the current model takes two columns as input. Hence transpose of np.vstack() is required.\n",
    "X = np.vstack((x_grid_flat, y_grid_flat)).T\n",
    "\n",
    "# x_grid and y_grid are of size 100 x 100\n",
    "probability_contour = model_prob(X).reshape(100,100) "
   ]
  },
  {
   "cell_type": "code",
   "execution_count": 29,
   "metadata": {
    "execution": {
     "iopub.execute_input": "2020-12-29T20:11:56.792272Z",
     "iopub.status.busy": "2020-12-29T20:11:56.791732Z",
     "iopub.status.idle": "2020-12-29T20:11:57.016011Z",
     "shell.execute_reply": "2020-12-29T20:11:57.015624Z"
    },
    "papermill": {
     "duration": 0.297322,
     "end_time": "2020-12-29T20:11:57.016115",
     "exception": false,
     "start_time": "2020-12-29T20:11:56.718793",
     "status": "completed"
    },
    "tags": []
   },
   "outputs": [
    {
     "data": {
      "image/png": "[encoded data removed]",
      "text/plain": [
       "<Figure size 720x648 with 1 Axes>"
      ]
     },
     "metadata": {
      "needs_background": "light"
     },
     "output_type": "display_data"
    }
   ],
   "source": [
    "plt.figure(figsize=(10,9))\n",
    "plt.scatter(plot_testing[:,0], plot_testing[:,1], alpha = 0.1, c = y_test.ravel())\n",
    "contours = plt.contour(x_grid,y_grid,probability_contour)\n",
    "plt.title('Probability Contours')\n",
    "plt.clabel(contours, inline = True );"
   ]
  }
 ],
 "metadata": {
  "kernelspec": {
   "display_name": "Python 3",
   "language": "python",
   "name": "python3"
  },
  "language_info": {
   "codemirror_mode": {
    "name": "ipython",
    "version": 3
   },
   "file_extension": ".py",
   "mimetype": "text/x-python",
   "name": "python",
   "nbconvert_exporter": "python",
   "pygments_lexer": "ipython3",
   "version": "3.6.12"
  },
  "papermill": {
   "duration": 98.267875,
   "end_time": "2020-12-29T20:11:57.365937",
   "environment_variables": {},
   "exception": null,
   "input_path": "2020-08-11-NeuralNetwork.ipynb",
   "output_path": "2020-08-11-NeuralNetwork.ipynb",
   "parameters": {},
   "start_time": "2020-12-29T20:10:19.098062",
   "version": "2.1.2"
  }
 },
 "nbformat": 4,
 "nbformat_minor": 4
}