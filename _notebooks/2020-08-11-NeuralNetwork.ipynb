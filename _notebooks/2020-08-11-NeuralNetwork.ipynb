{
 "cells": [
  {
   "cell_type": "markdown",
   "metadata": {
    "papermill": {
     "duration": 0.040517,
     "end_time": "2020-08-12T10:06:08.663143",
     "exception": false,
     "start_time": "2020-08-12T10:06:08.622626",
     "status": "completed"
    },
    "tags": []
   },
   "source": [
    "# \"A Basic Neural Network: Differentiate Hand-Written Digits\"\n",
    "\n",
    "- badges: true\n",
    "- author: Akshith Sriram"
   ]
  },
  {
   "cell_type": "markdown",
   "metadata": {
    "papermill": {
     "duration": 0.14579,
     "end_time": "2020-08-12T10:06:09.087876",
     "exception": false,
     "start_time": "2020-08-12T10:06:08.942086",
     "status": "completed"
    },
    "tags": []
   },
   "source": [
    "### Key Objectives:\n",
    "- Building a neural network that differentiates two hand-written digits 3 and 8.\n",
    "- Comparing the results of this Neural Network (NN) to that of a Logistic Regression (LR) model.\n",
    "\n",
    "### Requirements:\n",
    "- 'Kudzu' : A neural network library that was designed during our course by [Univ.AI](www.univ.ai). \n",
    "- MNIST Database\n",
    "\n",
    "If MNIST is not installed, use the command `!pip install mnist` given below.\n",
    "It can be run both from the command line and Jupyter Notebook."
   ]
  },
  {
   "cell_type": "code",
   "execution_count": 1,
   "metadata": {
    "execution": {
     "iopub.execute_input": "2020-08-12T10:06:09.541780Z",
     "iopub.status.busy": "2020-08-12T10:06:09.541042Z",
     "iopub.status.idle": "2020-08-12T10:06:11.293508Z",
     "shell.execute_reply": "2020-08-12T10:06:11.294403Z"
    },
    "papermill": {
     "duration": 1.849974,
     "end_time": "2020-08-12T10:06:11.294617",
     "exception": false,
     "start_time": "2020-08-12T10:06:09.444643",
     "status": "completed"
    },
    "tags": []
   },
   "outputs": [
    {
     "name": "stdout",
     "output_type": "stream",
     "text": [
      "Collecting mnist\r\n"
     ]
    },
    {
     "name": "stdout",
     "output_type": "stream",
     "text": [
      "  Downloading mnist-0.2.2-py2.py3-none-any.whl (3.5 kB)\r\n"
     ]
    },
    {
     "name": "stdout",
     "output_type": "stream",
     "text": [
      "Requirement already satisfied: numpy in /opt/hostedtoolcache/Python/3.6.11/x64/lib/python3.6/site-packages (from mnist) (1.19.1)\r\n"
     ]
    },
    {
     "name": "stdout",
     "output_type": "stream",
     "text": [
      "Installing collected packages: mnist\r\n"
     ]
    },
    {
     "name": "stdout",
     "output_type": "stream",
     "text": [
      "Successfully installed mnist-0.2.2\r\n"
     ]
    },
    {
     "name": "stdout",
     "output_type": "stream",
     "text": [
      "\u001b[33mWARNING: You are using pip version 20.2.1; however, version 20.2.2 is available.\r\n",
      "You should consider upgrading via the '/opt/hostedtoolcache/Python/3.6.11/x64/bin/python -m pip install --upgrade pip' command.\u001b[0m\r\n"
     ]
    }
   ],
   "source": [
    "!pip install mnist "
   ]
  },
  {
   "cell_type": "markdown",
   "metadata": {
    "papermill": {
     "duration": 0.02943,
     "end_time": "2020-08-12T10:06:11.354720",
     "exception": false,
     "start_time": "2020-08-12T10:06:11.325290",
     "status": "completed"
    },
    "tags": []
   },
   "source": [
    "#### Importing necessary libraries"
   ]
  },
  {
   "cell_type": "code",
   "execution_count": 2,
   "metadata": {
    "execution": {
     "iopub.execute_input": "2020-08-12T10:06:11.419752Z",
     "iopub.status.busy": "2020-08-12T10:06:11.419100Z",
     "iopub.status.idle": "2020-08-12T10:06:12.073688Z",
     "shell.execute_reply": "2020-08-12T10:06:12.072952Z"
    },
    "papermill": {
     "duration": 0.688674,
     "end_time": "2020-08-12T10:06:12.073951",
     "exception": false,
     "start_time": "2020-08-12T10:06:11.385277",
     "status": "completed"
    },
    "tags": []
   },
   "outputs": [],
   "source": [
    "%load_ext autoreload\n",
    "%autoreload 2\n",
    "\n",
    "%matplotlib inline\n",
    "import matplotlib.pyplot as plt\n",
    "\n",
    "import numpy as np\n",
    "import pandas as pd"
   ]
  },
  {
   "cell_type": "markdown",
   "metadata": {
    "papermill": {
     "duration": 0.034275,
     "end_time": "2020-08-12T10:06:12.142546",
     "exception": false,
     "start_time": "2020-08-12T10:06:12.108271",
     "status": "completed"
    },
    "tags": []
   },
   "source": [
    "### Preparing the Data"
   ]
  },
  {
   "cell_type": "code",
   "execution_count": 3,
   "metadata": {
    "execution": {
     "iopub.execute_input": "2020-08-12T10:06:12.233718Z",
     "iopub.status.busy": "2020-08-12T10:06:12.222519Z",
     "iopub.status.idle": "2020-08-12T10:06:12.237549Z",
     "shell.execute_reply": "2020-08-12T10:06:12.236936Z"
    },
    "papermill": {
     "duration": 0.059803,
     "end_time": "2020-08-12T10:06:12.237697",
     "exception": false,
     "start_time": "2020-08-12T10:06:12.177894",
     "status": "completed"
    },
    "tags": []
   },
   "outputs": [],
   "source": [
    "import mnist"
   ]
  },
  {
   "cell_type": "code",
   "execution_count": 4,
   "metadata": {
    "execution": {
     "iopub.execute_input": "2020-08-12T10:06:12.319788Z",
     "iopub.status.busy": "2020-08-12T10:06:12.310357Z",
     "iopub.status.idle": "2020-08-12T10:06:13.287383Z",
     "shell.execute_reply": "2020-08-12T10:06:13.286698Z"
    },
    "papermill": {
     "duration": 1.012386,
     "end_time": "2020-08-12T10:06:13.287557",
     "exception": false,
     "start_time": "2020-08-12T10:06:12.275171",
     "status": "completed"
    },
    "tags": []
   },
   "outputs": [],
   "source": [
    "train_images = mnist.train_images()\n",
    "train_labels = mnist.train_labels()"
   ]
  },
  {
   "cell_type": "code",
   "execution_count": 5,
   "metadata": {
    "execution": {
     "iopub.execute_input": "2020-08-12T10:06:13.379297Z",
     "iopub.status.busy": "2020-08-12T10:06:13.378080Z",
     "iopub.status.idle": "2020-08-12T10:06:13.384819Z",
     "shell.execute_reply": "2020-08-12T10:06:13.384203Z"
    },
    "papermill": {
     "duration": 0.062399,
     "end_time": "2020-08-12T10:06:13.384967",
     "exception": false,
     "start_time": "2020-08-12T10:06:13.322568",
     "status": "completed"
    },
    "tags": []
   },
   "outputs": [
    {
     "data": {
      "text/plain": [
       "((60000, 28, 28), (60000,))"
      ]
     },
     "execution_count": 5,
     "metadata": {},
     "output_type": "execute_result"
    }
   ],
   "source": [
    "train_images.shape, train_labels.shape"
   ]
  },
  {
   "cell_type": "code",
   "execution_count": 6,
   "metadata": {
    "execution": {
     "iopub.execute_input": "2020-08-12T10:06:13.459987Z",
     "iopub.status.busy": "2020-08-12T10:06:13.457135Z",
     "iopub.status.idle": "2020-08-12T10:06:13.844072Z",
     "shell.execute_reply": "2020-08-12T10:06:13.843407Z"
    },
    "papermill": {
     "duration": 0.425842,
     "end_time": "2020-08-12T10:06:13.844302",
     "exception": false,
     "start_time": "2020-08-12T10:06:13.418460",
     "status": "completed"
    },
    "tags": []
   },
   "outputs": [],
   "source": [
    "test_images = mnist.test_images()\n",
    "test_labels = mnist.test_labels()"
   ]
  },
  {
   "cell_type": "code",
   "execution_count": 7,
   "metadata": {
    "execution": {
     "iopub.execute_input": "2020-08-12T10:06:13.920481Z",
     "iopub.status.busy": "2020-08-12T10:06:13.919772Z",
     "iopub.status.idle": "2020-08-12T10:06:13.933093Z",
     "shell.execute_reply": "2020-08-12T10:06:13.932482Z"
    },
    "papermill": {
     "duration": 0.054699,
     "end_time": "2020-08-12T10:06:13.933238",
     "exception": false,
     "start_time": "2020-08-12T10:06:13.878539",
     "status": "completed"
    },
    "tags": []
   },
   "outputs": [
    {
     "data": {
      "text/plain": [
       "((10000, 28, 28), (10000,))"
      ]
     },
     "execution_count": 7,
     "metadata": {},
     "output_type": "execute_result"
    }
   ],
   "source": [
    "test_images.shape, test_labels.shape"
   ]
  },
  {
   "cell_type": "code",
   "execution_count": 8,
   "metadata": {
    "execution": {
     "iopub.execute_input": "2020-08-12T10:06:14.009359Z",
     "iopub.status.busy": "2020-08-12T10:06:14.008632Z",
     "iopub.status.idle": "2020-08-12T10:06:14.217699Z",
     "shell.execute_reply": "2020-08-12T10:06:14.218304Z"
    },
    "papermill": {
     "duration": 0.250753,
     "end_time": "2020-08-12T10:06:14.218498",
     "exception": false,
     "start_time": "2020-08-12T10:06:13.967745",
     "status": "completed"
    },
    "tags": []
   },
   "outputs": [
    {
     "name": "stdout",
     "output_type": "stream",
     "text": [
      "2\n"
     ]
    },
    {
     "data": {
      "text/plain": [
       "<matplotlib.image.AxesImage at 0x7f458054f358>"
      ]
     },
     "execution_count": 8,
     "metadata": {},
     "output_type": "execute_result"
    },
    {
     "data": {
      "image/png": "[encoded data removed]",
      "text/plain": [
       "<Figure size 432x288 with 1 Axes>"
      ]
     },
     "metadata": {
      "needs_background": "light"
     },
     "output_type": "display_data"
    }
   ],
   "source": [
    "image_index = 7776 # You may select anything up to 60,000\n",
    "print(train_labels[image_index]) \n",
    "plt.imshow(train_images[image_index], cmap='Greys')"
   ]
  },
  {
   "cell_type": "markdown",
   "metadata": {
    "papermill": {
     "duration": 0.035547,
     "end_time": "2020-08-12T10:06:14.292642",
     "exception": false,
     "start_time": "2020-08-12T10:06:14.257095",
     "status": "completed"
    },
    "tags": []
   },
   "source": [
    "## Filter data to get 3 and 8 out"
   ]
  },
  {
   "cell_type": "code",
   "execution_count": 9,
   "metadata": {
    "execution": {
     "iopub.execute_input": "2020-08-12T10:06:14.374843Z",
     "iopub.status.busy": "2020-08-12T10:06:14.372557Z",
     "iopub.status.idle": "2020-08-12T10:06:14.392512Z",
     "shell.execute_reply": "2020-08-12T10:06:14.393135Z"
    },
    "papermill": {
     "duration": 0.063026,
     "end_time": "2020-08-12T10:06:14.393336",
     "exception": false,
     "start_time": "2020-08-12T10:06:14.330310",
     "status": "completed"
    },
    "tags": []
   },
   "outputs": [],
   "source": [
    "train_filter = np.where((train_labels == 3 ) | (train_labels == 8))\n",
    "test_filter = np.where((test_labels == 3) | (test_labels == 8))\n",
    "X_train, y_train = train_images[train_filter], train_labels[train_filter]\n",
    "X_test, y_test = test_images[test_filter], test_labels[test_filter]"
   ]
  },
  {
   "cell_type": "markdown",
   "metadata": {
    "papermill": {
     "duration": 0.038537,
     "end_time": "2020-08-12T10:06:14.468429",
     "exception": false,
     "start_time": "2020-08-12T10:06:14.429892",
     "status": "completed"
    },
    "tags": []
   },
   "source": [
    "We normalize the pixel values in the 0 to 1 range"
   ]
  },
  {
   "cell_type": "code",
   "execution_count": 10,
   "metadata": {
    "execution": {
     "iopub.execute_input": "2020-08-12T10:06:14.549141Z",
     "iopub.status.busy": "2020-08-12T10:06:14.548395Z",
     "iopub.status.idle": "2020-08-12T10:06:14.615870Z",
     "shell.execute_reply": "2020-08-12T10:06:14.615204Z"
    },
    "papermill": {
     "duration": 0.111454,
     "end_time": "2020-08-12T10:06:14.616039",
     "exception": false,
     "start_time": "2020-08-12T10:06:14.504585",
     "status": "completed"
    },
    "tags": []
   },
   "outputs": [],
   "source": [
    "X_train = X_train/255.\n",
    "X_test = X_test/255."
   ]
  },
  {
   "cell_type": "markdown",
   "metadata": {
    "papermill": {
     "duration": 0.036229,
     "end_time": "2020-08-12T10:06:14.687948",
     "exception": false,
     "start_time": "2020-08-12T10:06:14.651719",
     "status": "completed"
    },
    "tags": []
   },
   "source": [
    "Setup the labels as 1 (when the digit is 3) and 0 (when the digit is 8)"
   ]
  },
  {
   "cell_type": "code",
   "execution_count": 11,
   "metadata": {
    "execution": {
     "iopub.execute_input": "2020-08-12T10:06:14.768363Z",
     "iopub.status.busy": "2020-08-12T10:06:14.767457Z",
     "iopub.status.idle": "2020-08-12T10:06:14.778832Z",
     "shell.execute_reply": "2020-08-12T10:06:14.778246Z"
    },
    "papermill": {
     "duration": 0.055026,
     "end_time": "2020-08-12T10:06:14.779010",
     "exception": false,
     "start_time": "2020-08-12T10:06:14.723984",
     "status": "completed"
    },
    "tags": []
   },
   "outputs": [],
   "source": [
    "y_train = 1*(y_train==3)\n",
    "y_test = 1*(y_test==3)"
   ]
  },
  {
   "cell_type": "code",
   "execution_count": 12,
   "metadata": {
    "execution": {
     "iopub.execute_input": "2020-08-12T10:06:14.878154Z",
     "iopub.status.busy": "2020-08-12T10:06:14.872117Z",
     "iopub.status.idle": "2020-08-12T10:06:14.881814Z",
     "shell.execute_reply": "2020-08-12T10:06:14.882394Z"
    },
    "papermill": {
     "duration": 0.064728,
     "end_time": "2020-08-12T10:06:14.882588",
     "exception": false,
     "start_time": "2020-08-12T10:06:14.817860",
     "status": "completed"
    },
    "tags": []
   },
   "outputs": [
    {
     "data": {
      "text/plain": [
       "((11982, 28, 28), (1984, 28, 28))"
      ]
     },
     "execution_count": 12,
     "metadata": {},
     "output_type": "execute_result"
    }
   ],
   "source": [
    "X_train.shape, X_test.shape"
   ]
  },
  {
   "cell_type": "markdown",
   "metadata": {
    "papermill": {
     "duration": 0.037923,
     "end_time": "2020-08-12T10:06:14.963625",
     "exception": false,
     "start_time": "2020-08-12T10:06:14.925702",
     "status": "completed"
    },
    "tags": []
   },
   "source": [
    "### Reshape the input data to create a linear array"
   ]
  },
  {
   "cell_type": "code",
   "execution_count": 13,
   "metadata": {
    "execution": {
     "iopub.execute_input": "2020-08-12T10:06:15.046600Z",
     "iopub.status.busy": "2020-08-12T10:06:15.045880Z",
     "iopub.status.idle": "2020-08-12T10:06:15.058716Z",
     "shell.execute_reply": "2020-08-12T10:06:15.059367Z"
    },
    "papermill": {
     "duration": 0.057763,
     "end_time": "2020-08-12T10:06:15.059542",
     "exception": false,
     "start_time": "2020-08-12T10:06:15.001779",
     "status": "completed"
    },
    "tags": []
   },
   "outputs": [
    {
     "data": {
      "text/plain": [
       "((11982, 784), (1984, 784))"
      ]
     },
     "execution_count": 13,
     "metadata": {},
     "output_type": "execute_result"
    }
   ],
   "source": [
    "X_train = X_train.reshape(X_train.shape[0], -1)\n",
    "X_test = X_test.reshape(X_test.shape[0], -1)\n",
    "X_train.shape, X_test.shape"
   ]
  },
  {
   "cell_type": "markdown",
   "metadata": {
    "papermill": {
     "duration": 0.036699,
     "end_time": "2020-08-12T10:06:15.134053",
     "exception": false,
     "start_time": "2020-08-12T10:06:15.097354",
     "status": "completed"
    },
    "tags": []
   },
   "source": [
    "### Importing appropriate functions from 'Kudzu'"
   ]
  },
  {
   "cell_type": "code",
   "execution_count": 14,
   "metadata": {
    "execution": {
     "iopub.execute_input": "2020-08-12T10:06:15.229162Z",
     "iopub.status.busy": "2020-08-12T10:06:15.220642Z",
     "iopub.status.idle": "2020-08-12T10:06:15.241685Z",
     "shell.execute_reply": "2020-08-12T10:06:15.241041Z"
    },
    "papermill": {
     "duration": 0.071499,
     "end_time": "2020-08-12T10:06:15.241853",
     "exception": false,
     "start_time": "2020-08-12T10:06:15.170354",
     "status": "completed"
    },
    "tags": []
   },
   "outputs": [],
   "source": [
    "from kudzu.layer import Sigmoid\n",
    "from kudzu.layer import Relu\n",
    "from kudzu.layer import Affine, Sigmoid\n",
    "\n",
    "from kudzu.model import Model\n",
    "from kudzu.train import Learner\n",
    "from kudzu.optim import GD\n",
    "from kudzu.data import Data, Dataloader, Sampler\n",
    "\n",
    "from kudzu.callbacks import AccCallback\n",
    "from kudzu.callbacks import ClfCallback\n",
    "\n",
    "from kudzu.loss import MSE"
   ]
  },
  {
   "cell_type": "markdown",
   "metadata": {
    "papermill": {
     "duration": 0.037102,
     "end_time": "2020-08-12T10:06:15.316332",
     "exception": false,
     "start_time": "2020-08-12T10:06:15.279230",
     "status": "completed"
    },
    "tags": []
   },
   "source": [
    "### Let us create a `Config` class, to store important parameters. \n",
    "This class essentially plays the role of a dictionary."
   ]
  },
  {
   "cell_type": "code",
   "execution_count": 15,
   "metadata": {
    "execution": {
     "iopub.execute_input": "2020-08-12T10:06:15.411921Z",
     "iopub.status.busy": "2020-08-12T10:06:15.406408Z",
     "iopub.status.idle": "2020-08-12T10:06:15.415131Z",
     "shell.execute_reply": "2020-08-12T10:06:15.414382Z"
    },
    "papermill": {
     "duration": 0.063259,
     "end_time": "2020-08-12T10:06:15.415291",
     "exception": false,
     "start_time": "2020-08-12T10:06:15.352032",
     "status": "completed"
    },
    "tags": []
   },
   "outputs": [],
   "source": [
    "class Config:\n",
    "    pass\n",
    "config = Config()\n",
    "config.lr = 0.001\n",
    "config.num_epochs = 251\n",
    "config.bs = 50"
   ]
  },
  {
   "cell_type": "markdown",
   "metadata": {
    "papermill": {
     "duration": 0.036734,
     "end_time": "2020-08-12T10:06:15.493542",
     "exception": false,
     "start_time": "2020-08-12T10:06:15.456808",
     "status": "completed"
    },
    "tags": []
   },
   "source": [
    "### Initializing data to the variables"
   ]
  },
  {
   "cell_type": "code",
   "execution_count": 16,
   "metadata": {
    "execution": {
     "iopub.execute_input": "2020-08-12T10:06:15.579981Z",
     "iopub.status.busy": "2020-08-12T10:06:15.574121Z",
     "iopub.status.idle": "2020-08-12T10:06:15.591288Z",
     "shell.execute_reply": "2020-08-12T10:06:15.590680Z"
    },
    "papermill": {
     "duration": 0.061015,
     "end_time": "2020-08-12T10:06:15.591440",
     "exception": false,
     "start_time": "2020-08-12T10:06:15.530425",
     "status": "completed"
    },
    "tags": []
   },
   "outputs": [],
   "source": [
    "data = Data(X_train, y_train.reshape(-1,1))\n",
    "sampler = Sampler(data, config.bs, shuffle=True)\n",
    "\n",
    "dl = Dataloader(data, sampler)\n",
    "\n",
    "opt = GD(config.lr)\n",
    "loss = MSE()"
   ]
  },
  {
   "cell_type": "code",
   "execution_count": 17,
   "metadata": {
    "execution": {
     "iopub.execute_input": "2020-08-12T10:06:15.665029Z",
     "iopub.status.busy": "2020-08-12T10:06:15.664370Z",
     "iopub.status.idle": "2020-08-12T10:06:15.678123Z",
     "shell.execute_reply": "2020-08-12T10:06:15.678761Z"
    },
    "papermill": {
     "duration": 0.053621,
     "end_time": "2020-08-12T10:06:15.678924",
     "exception": false,
     "start_time": "2020-08-12T10:06:15.625303",
     "status": "completed"
    },
    "tags": []
   },
   "outputs": [],
   "source": [
    "training_xdata = X_train\n",
    "testing_xdata = X_test\n",
    "training_ydata = y_train.reshape(-1,1)\n",
    "testing_ydata = y_test.reshape(-1,1)"
   ]
  },
  {
   "cell_type": "markdown",
   "metadata": {
    "papermill": {
     "duration": 0.032907,
     "end_time": "2020-08-12T10:06:15.745655",
     "exception": false,
     "start_time": "2020-08-12T10:06:15.712748",
     "status": "completed"
    },
    "tags": []
   },
   "source": [
    "### Running Models with the Training data\n",
    "Details about the network layers:\n",
    "- A first affine layer has 784 inputs and does 100 affine transforms. These are followed by a Relu\n",
    "- A second affine layer has 100 inputs from the 100 activations of the past layer, and does 100 affine transforms. These are followed by a Relu\n",
    "- A third affine layer has 100 activations and does 2 affine transformations to create an embedding for visualization. There is no non-linearity here.\n",
    "- A final \"logistic regression\" which has an affine transform from 2 inputs to 1 output, which is squeezed through a sigmoid.\n",
    "\n",
    "Help taken from Anshuman's Notebook."
   ]
  },
  {
   "cell_type": "code",
   "execution_count": 18,
   "metadata": {
    "execution": {
     "iopub.execute_input": "2020-08-12T10:06:15.834193Z",
     "iopub.status.busy": "2020-08-12T10:06:15.833449Z",
     "iopub.status.idle": "2020-08-12T10:06:15.845379Z",
     "shell.execute_reply": "2020-08-12T10:06:15.846010Z"
    },
    "papermill": {
     "duration": 0.062238,
     "end_time": "2020-08-12T10:06:15.846187",
     "exception": false,
     "start_time": "2020-08-12T10:06:15.783949",
     "status": "completed"
    },
    "tags": []
   },
   "outputs": [],
   "source": [
    "# layers for the Neural Network\n",
    "layers = [Affine(\"first\", 784, 100), Relu(\"first\"), Affine(\"second\", 100, 100), Relu(\"second\"), Affine(\"third\", 100, 2), Affine(\"final\", 2, 1), Sigmoid(\"final\")]\n",
    "model_nn = Model(layers)\n",
    "\n",
    "# layers for the Logistic Regression\n",
    "layers_lr = [Affine(\"logits\", 784, 1), Sigmoid(\"sigmoid\")]\n",
    "model_lr = Model(layers_lr)"
   ]
  },
  {
   "cell_type": "code",
   "execution_count": 19,
   "metadata": {
    "execution": {
     "iopub.execute_input": "2020-08-12T10:06:15.928846Z",
     "iopub.status.busy": "2020-08-12T10:06:15.928117Z",
     "iopub.status.idle": "2020-08-12T10:06:15.939896Z",
     "shell.execute_reply": "2020-08-12T10:06:15.940493Z"
    },
    "papermill": {
     "duration": 0.056635,
     "end_time": "2020-08-12T10:06:15.940666",
     "exception": false,
     "start_time": "2020-08-12T10:06:15.884031",
     "status": "completed"
    },
    "tags": []
   },
   "outputs": [],
   "source": [
    "# suffix _nn stands for Neural Network.\n",
    "learner_nn = Learner(loss, model_nn, opt, config.num_epochs)\n",
    "acc_nn = ClfCallback(learner_nn, config.bs, training_xdata , testing_xdata, training_ydata, testing_ydata)\n",
    "learner_nn.set_callbacks([acc_nn])"
   ]
  },
  {
   "cell_type": "code",
   "execution_count": 20,
   "metadata": {
    "execution": {
     "iopub.execute_input": "2020-08-12T10:06:16.018583Z",
     "iopub.status.busy": "2020-08-12T10:06:16.017761Z",
     "iopub.status.idle": "2020-08-12T10:08:22.955446Z",
     "shell.execute_reply": "2020-08-12T10:08:22.954852Z"
    },
    "papermill": {
     "duration": 126.979311,
     "end_time": "2020-08-12T10:08:22.955597",
     "exception": false,
     "start_time": "2020-08-12T10:06:15.976286",
     "status": "completed"
    },
    "tags": []
   },
   "outputs": [
    {
     "name": "stdout",
     "output_type": "stream",
     "text": [
      "====== Neural Network ======\n"
     ]
    },
    {
     "name": "stdout",
     "output_type": "stream",
     "text": [
      "Epoch 0, Loss 0.2474\n",
      "Training Accuracy: 0.5073, Testing Accuracy: 0.5015\n",
      "\n"
     ]
    },
    {
     "name": "stdout",
     "output_type": "stream",
     "text": [
      "Epoch 10, Loss 0.2204\n",
      "Training Accuracy: 0.8858, Testing Accuracy: 0.8992\n",
      "\n"
     ]
    },
    {
     "name": "stdout",
     "output_type": "stream",
     "text": [
      "Epoch 20, Loss 0.1221\n",
      "Training Accuracy: 0.9144, Testing Accuracy: 0.9234\n",
      "\n"
     ]
    },
    {
     "name": "stdout",
     "output_type": "stream",
     "text": [
      "Epoch 30, Loss 0.0676\n",
      "Training Accuracy: 0.9333, Testing Accuracy: 0.9415\n",
      "\n"
     ]
    },
    {
     "name": "stdout",
     "output_type": "stream",
     "text": [
      "Epoch 40, Loss 0.0509\n",
      "Training Accuracy: 0.9440, Testing Accuracy: 0.9546\n",
      "\n"
     ]
    },
    {
     "name": "stdout",
     "output_type": "stream",
     "text": [
      "Epoch 50, Loss 0.0431\n",
      "Training Accuracy: 0.9508, Testing Accuracy: 0.9602\n",
      "\n"
     ]
    },
    {
     "name": "stdout",
     "output_type": "stream",
     "text": [
      "Epoch 60, Loss 0.0384\n",
      "Training Accuracy: 0.9543, Testing Accuracy: 0.9637\n",
      "\n"
     ]
    },
    {
     "name": "stdout",
     "output_type": "stream",
     "text": [
      "Epoch 70, Loss 0.0354\n",
      "Training Accuracy: 0.9579, Testing Accuracy: 0.9667\n",
      "\n"
     ]
    },
    {
     "name": "stdout",
     "output_type": "stream",
     "text": [
      "Epoch 80, Loss 0.0332\n",
      "Training Accuracy: 0.9614, Testing Accuracy: 0.9677\n",
      "\n"
     ]
    },
    {
     "name": "stdout",
     "output_type": "stream",
     "text": [
      "Epoch 90, Loss 0.0314\n",
      "Training Accuracy: 0.9636, Testing Accuracy: 0.9677\n",
      "\n"
     ]
    },
    {
     "name": "stdout",
     "output_type": "stream",
     "text": [
      "Epoch 100, Loss 0.0301\n",
      "Training Accuracy: 0.9650, Testing Accuracy: 0.9677\n",
      "\n"
     ]
    },
    {
     "name": "stdout",
     "output_type": "stream",
     "text": [
      "Epoch 110, Loss 0.0289\n",
      "Training Accuracy: 0.9663, Testing Accuracy: 0.9677\n",
      "\n"
     ]
    },
    {
     "name": "stdout",
     "output_type": "stream",
     "text": [
      "Epoch 120, Loss 0.028\n",
      "Training Accuracy: 0.9674, Testing Accuracy: 0.9682\n",
      "\n"
     ]
    },
    {
     "name": "stdout",
     "output_type": "stream",
     "text": [
      "Epoch 130, Loss 0.0271\n",
      "Training Accuracy: 0.9685, Testing Accuracy: 0.9693\n",
      "\n"
     ]
    },
    {
     "name": "stdout",
     "output_type": "stream",
     "text": [
      "Epoch 140, Loss 0.0264\n",
      "Training Accuracy: 0.9694, Testing Accuracy: 0.9693\n",
      "\n"
     ]
    },
    {
     "name": "stdout",
     "output_type": "stream",
     "text": [
      "Epoch 150, Loss 0.0258\n",
      "Training Accuracy: 0.9699, Testing Accuracy: 0.9677\n",
      "\n"
     ]
    },
    {
     "name": "stdout",
     "output_type": "stream",
     "text": [
      "Epoch 160, Loss 0.0252\n",
      "Training Accuracy: 0.9705, Testing Accuracy: 0.9688\n",
      "\n"
     ]
    },
    {
     "name": "stdout",
     "output_type": "stream",
     "text": [
      "Epoch 170, Loss 0.0246\n",
      "Training Accuracy: 0.9713, Testing Accuracy: 0.9693\n",
      "\n"
     ]
    },
    {
     "name": "stdout",
     "output_type": "stream",
     "text": [
      "Epoch 180, Loss 0.0241\n",
      "Training Accuracy: 0.9718, Testing Accuracy: 0.9708\n",
      "\n"
     ]
    },
    {
     "name": "stdout",
     "output_type": "stream",
     "text": [
      "Epoch 190, Loss 0.0237\n",
      "Training Accuracy: 0.9725, Testing Accuracy: 0.9708\n",
      "\n"
     ]
    },
    {
     "name": "stdout",
     "output_type": "stream",
     "text": [
      "Epoch 200, Loss 0.0232\n",
      "Training Accuracy: 0.9730, Testing Accuracy: 0.9698\n",
      "\n"
     ]
    },
    {
     "name": "stdout",
     "output_type": "stream",
     "text": [
      "Epoch 210, Loss 0.0228\n",
      "Training Accuracy: 0.9734, Testing Accuracy: 0.9698\n",
      "\n"
     ]
    },
    {
     "name": "stdout",
     "output_type": "stream",
     "text": [
      "Epoch 220, Loss 0.0224\n",
      "Training Accuracy: 0.9742, Testing Accuracy: 0.9698\n",
      "\n"
     ]
    },
    {
     "name": "stdout",
     "output_type": "stream",
     "text": [
      "Epoch 230, Loss 0.022\n",
      "Training Accuracy: 0.9749, Testing Accuracy: 0.9703\n",
      "\n"
     ]
    },
    {
     "name": "stdout",
     "output_type": "stream",
     "text": [
      "Epoch 240, Loss 0.0217\n",
      "Training Accuracy: 0.9757, Testing Accuracy: 0.9703\n",
      "\n"
     ]
    },
    {
     "name": "stdout",
     "output_type": "stream",
     "text": [
      "Epoch 250, Loss 0.0213\n",
      "Training Accuracy: 0.9762, Testing Accuracy: 0.9703\n",
      "\n"
     ]
    },
    {
     "data": {
      "text/plain": [
       "0.002807148169901524"
      ]
     },
     "execution_count": 20,
     "metadata": {},
     "output_type": "execute_result"
    }
   ],
   "source": [
    "print(\"====== Neural Network ======\")\n",
    "learner_nn.train_loop(dl)"
   ]
  },
  {
   "cell_type": "markdown",
   "metadata": {
    "papermill": {
     "duration": 0.046438,
     "end_time": "2020-08-12T10:08:23.044442",
     "exception": false,
     "start_time": "2020-08-12T10:08:22.998004",
     "status": "completed"
    },
    "tags": []
   },
   "source": [
    "### Logistic Regression based Implementation."
   ]
  },
  {
   "cell_type": "code",
   "execution_count": 21,
   "metadata": {
    "execution": {
     "iopub.execute_input": "2020-08-12T10:08:23.149889Z",
     "iopub.status.busy": "2020-08-12T10:08:23.147708Z",
     "iopub.status.idle": "2020-08-12T10:08:23.154434Z",
     "shell.execute_reply": "2020-08-12T10:08:23.155009Z"
    },
    "papermill": {
     "duration": 0.066006,
     "end_time": "2020-08-12T10:08:23.155169",
     "exception": false,
     "start_time": "2020-08-12T10:08:23.089163",
     "status": "completed"
    },
    "tags": []
   },
   "outputs": [],
   "source": [
    "learner_lr = Learner(loss, model_lr, opt, config.num_epochs)\n",
    "acc_lr = ClfCallback(learner_lr, config.bs, training_xdata , testing_xdata, training_ydata, testing_ydata)\n",
    "learner_lr.set_callbacks([acc_lr])"
   ]
  },
  {
   "cell_type": "code",
   "execution_count": 22,
   "metadata": {
    "execution": {
     "iopub.execute_input": "2020-08-12T10:08:23.256304Z",
     "iopub.status.busy": "2020-08-12T10:08:23.251698Z",
     "iopub.status.idle": "2020-08-12T10:08:42.233267Z",
     "shell.execute_reply": "2020-08-12T10:08:42.233893Z"
    },
    "papermill": {
     "duration": 19.036506,
     "end_time": "2020-08-12T10:08:42.234066",
     "exception": false,
     "start_time": "2020-08-12T10:08:23.197560",
     "status": "completed"
    },
    "tags": []
   },
   "outputs": [
    {
     "name": "stdout",
     "output_type": "stream",
     "text": [
      "====== Logistic Regression ======\n",
      "Epoch 0, Loss 0.207\n",
      "Training Accuracy: 0.8110, Testing Accuracy: 0.8191\n",
      "\n"
     ]
    },
    {
     "name": "stdout",
     "output_type": "stream",
     "text": [
      "Epoch 10, Loss 0.0986\n",
      "Training Accuracy: 0.9143, Testing Accuracy: 0.9249\n",
      "\n"
     ]
    },
    {
     "name": "stdout",
     "output_type": "stream",
     "text": [
      "Epoch 20, Loss 0.0775\n",
      "Training Accuracy: 0.9286, Testing Accuracy: 0.9360\n",
      "\n"
     ]
    },
    {
     "name": "stdout",
     "output_type": "stream",
     "text": [
      "Epoch 30, Loss 0.0673\n",
      "Training Accuracy: 0.9357, Testing Accuracy: 0.9441\n",
      "\n"
     ]
    },
    {
     "name": "stdout",
     "output_type": "stream",
     "text": [
      "Epoch 40, Loss 0.061\n",
      "Training Accuracy: 0.9411, Testing Accuracy: 0.9491\n",
      "\n"
     ]
    },
    {
     "name": "stdout",
     "output_type": "stream",
     "text": [
      "Epoch 50, Loss 0.0567\n",
      "Training Accuracy: 0.9447, Testing Accuracy: 0.9526\n",
      "\n"
     ]
    },
    {
     "name": "stdout",
     "output_type": "stream",
     "text": [
      "Epoch 60, Loss 0.0535\n",
      "Training Accuracy: 0.9475, Testing Accuracy: 0.9531\n",
      "\n"
     ]
    },
    {
     "name": "stdout",
     "output_type": "stream",
     "text": [
      "Epoch 70, Loss 0.051\n",
      "Training Accuracy: 0.9482, Testing Accuracy: 0.9546\n",
      "\n"
     ]
    },
    {
     "name": "stdout",
     "output_type": "stream",
     "text": [
      "Epoch 80, Loss 0.0491\n",
      "Training Accuracy: 0.9493, Testing Accuracy: 0.9567\n",
      "\n"
     ]
    },
    {
     "name": "stdout",
     "output_type": "stream",
     "text": [
      "Epoch 90, Loss 0.0474\n",
      "Training Accuracy: 0.9502, Testing Accuracy: 0.9592\n",
      "\n"
     ]
    },
    {
     "name": "stdout",
     "output_type": "stream",
     "text": [
      "Epoch 100, Loss 0.046\n",
      "Training Accuracy: 0.9515, Testing Accuracy: 0.9607\n",
      "\n"
     ]
    },
    {
     "name": "stdout",
     "output_type": "stream",
     "text": [
      "Epoch 110, Loss 0.0448\n",
      "Training Accuracy: 0.9525, Testing Accuracy: 0.9617\n",
      "\n"
     ]
    },
    {
     "name": "stdout",
     "output_type": "stream",
     "text": [
      "Epoch 120, Loss 0.0438\n",
      "Training Accuracy: 0.9534, Testing Accuracy: 0.9622\n",
      "\n"
     ]
    },
    {
     "name": "stdout",
     "output_type": "stream",
     "text": [
      "Epoch 130, Loss 0.0429\n",
      "Training Accuracy: 0.9541, Testing Accuracy: 0.9632\n",
      "\n"
     ]
    },
    {
     "name": "stdout",
     "output_type": "stream",
     "text": [
      "Epoch 140, Loss 0.042\n",
      "Training Accuracy: 0.9550, Testing Accuracy: 0.9637\n",
      "\n"
     ]
    },
    {
     "name": "stdout",
     "output_type": "stream",
     "text": [
      "Epoch 150, Loss 0.0413\n",
      "Training Accuracy: 0.9558, Testing Accuracy: 0.9637\n",
      "\n"
     ]
    },
    {
     "name": "stdout",
     "output_type": "stream",
     "text": [
      "Epoch 160, Loss 0.0406\n",
      "Training Accuracy: 0.9562, Testing Accuracy: 0.9647\n",
      "\n"
     ]
    },
    {
     "name": "stdout",
     "output_type": "stream",
     "text": [
      "Epoch 170, Loss 0.04\n",
      "Training Accuracy: 0.9570, Testing Accuracy: 0.9647\n",
      "\n"
     ]
    },
    {
     "name": "stdout",
     "output_type": "stream",
     "text": [
      "Epoch 180, Loss 0.0395\n",
      "Training Accuracy: 0.9578, Testing Accuracy: 0.9652\n",
      "\n"
     ]
    },
    {
     "name": "stdout",
     "output_type": "stream",
     "text": [
      "Epoch 190, Loss 0.039\n",
      "Training Accuracy: 0.9584, Testing Accuracy: 0.9652\n",
      "\n"
     ]
    },
    {
     "name": "stdout",
     "output_type": "stream",
     "text": [
      "Epoch 200, Loss 0.0385\n",
      "Training Accuracy: 0.9589, Testing Accuracy: 0.9647\n",
      "\n"
     ]
    },
    {
     "name": "stdout",
     "output_type": "stream",
     "text": [
      "Epoch 210, Loss 0.0381\n",
      "Training Accuracy: 0.9590, Testing Accuracy: 0.9652\n",
      "\n"
     ]
    },
    {
     "name": "stdout",
     "output_type": "stream",
     "text": [
      "Epoch 220, Loss 0.0376\n",
      "Training Accuracy: 0.9593, Testing Accuracy: 0.9652\n",
      "\n"
     ]
    },
    {
     "name": "stdout",
     "output_type": "stream",
     "text": [
      "Epoch 230, Loss 0.0373\n",
      "Training Accuracy: 0.9595, Testing Accuracy: 0.9647\n",
      "\n"
     ]
    },
    {
     "name": "stdout",
     "output_type": "stream",
     "text": [
      "Epoch 240, Loss 0.0369\n",
      "Training Accuracy: 0.9599, Testing Accuracy: 0.9642\n",
      "\n"
     ]
    },
    {
     "name": "stdout",
     "output_type": "stream",
     "text": [
      "Epoch 250, Loss 0.0366\n",
      "Training Accuracy: 0.9601, Testing Accuracy: 0.9642\n",
      "\n"
     ]
    },
    {
     "data": {
      "text/plain": [
       "0.0357234501886871"
      ]
     },
     "execution_count": 22,
     "metadata": {},
     "output_type": "execute_result"
    }
   ],
   "source": [
    "print(\"====== Logistic Regression ======\")\n",
    "learner_lr.train_loop(dl)"
   ]
  },
  {
   "cell_type": "markdown",
   "metadata": {
    "papermill": {
     "duration": 0.059191,
     "end_time": "2020-08-12T10:08:42.345611",
     "exception": false,
     "start_time": "2020-08-12T10:08:42.286420",
     "status": "completed"
    },
    "tags": []
   },
   "source": [
    "### Comparing results of NN and LR"
   ]
  },
  {
   "cell_type": "code",
   "execution_count": 23,
   "metadata": {
    "execution": {
     "iopub.execute_input": "2020-08-12T10:08:42.456346Z",
     "iopub.status.busy": "2020-08-12T10:08:42.455444Z",
     "iopub.status.idle": "2020-08-12T10:08:42.758744Z",
     "shell.execute_reply": "2020-08-12T10:08:42.759292Z"
    },
    "papermill": {
     "duration": 0.361673,
     "end_time": "2020-08-12T10:08:42.759479",
     "exception": false,
     "start_time": "2020-08-12T10:08:42.397806",
     "status": "completed"
    },
    "tags": []
   },
   "outputs": [
    {
     "data": {
      "text/plain": [
       "<matplotlib.legend.Legend at 0x7f457b982f98>"
      ]
     },
     "execution_count": 23,
     "metadata": {},
     "output_type": "execute_result"
    },
    {
     "data": {
      "image/png": "[encoded data removed]",
      "text/plain": [
       "<Figure size 1080x720 with 1 Axes>"
      ]
     },
     "metadata": {
      "needs_background": "light"
     },
     "output_type": "display_data"
    }
   ],
   "source": [
    "plt.figure(figsize=(15,10))\n",
    "\n",
    "# Neural Network plots\n",
    "plt.plot(acc_nn.accuracies, 'r-', label = \"Training Accuracies - NN\")\n",
    "plt.plot(acc_nn.test_accuracies, 'g-', label = \"Testing Accuracies - NN\")\n",
    "\n",
    "# Logistic Regression plots\n",
    "plt.plot(acc_lr.accuracies, 'k-', label = \"Training Accuracies - LR\")\n",
    "plt.plot(acc_lr.test_accuracies, 'b-', label = \"Testing Accuracies - LR\")\n",
    "\n",
    "plt.ylim(0.8, 1)\n",
    "\n",
    "plt.legend()\n",
    "\n"
   ]
  },
  {
   "cell_type": "markdown",
   "metadata": {
    "papermill": {
     "duration": 0.051525,
     "end_time": "2020-08-12T10:08:42.863732",
     "exception": false,
     "start_time": "2020-08-12T10:08:42.812207",
     "status": "completed"
    },
    "tags": []
   },
   "source": [
    "### From the plot, we can observe the following:\n",
    "- Neural Network achieves higher accuracy than the Logistic Regression model.\n",
    "- This apparently, is because of overfitting, i.e. NN captures more noise than data.\n",
    "- Testing accuracy of NN drops below the Training accuracy at higher epochs. This explains the over-fitting on training data.\n",
    "- Logistic Regression gives a reliable accuracy, without the above mentioned problem.\n"
   ]
  },
  {
   "cell_type": "markdown",
   "metadata": {
    "papermill": {
     "duration": 0.051339,
     "end_time": "2020-08-12T10:08:42.970178",
     "exception": false,
     "start_time": "2020-08-12T10:08:42.918839",
     "status": "completed"
    },
    "tags": []
   },
   "source": [
    "### Moving till the last but one layer (excluding it).\n",
    "#### Plotting the outputs of this layer of the NN."
   ]
  },
  {
   "cell_type": "code",
   "execution_count": 24,
   "metadata": {
    "execution": {
     "iopub.execute_input": "2020-08-12T10:08:43.098169Z",
     "iopub.status.busy": "2020-08-12T10:08:43.095825Z",
     "iopub.status.idle": "2020-08-12T10:08:43.101052Z",
     "shell.execute_reply": "2020-08-12T10:08:43.101604Z"
    },
    "papermill": {
     "duration": 0.07854,
     "end_time": "2020-08-12T10:08:43.101769",
     "exception": false,
     "start_time": "2020-08-12T10:08:43.023229",
     "status": "completed"
    },
    "tags": []
   },
   "outputs": [],
   "source": [
    "model_new = Model(layers[:-2])"
   ]
  },
  {
   "cell_type": "code",
   "execution_count": 25,
   "metadata": {
    "execution": {
     "iopub.execute_input": "2020-08-12T10:08:43.231418Z",
     "iopub.status.busy": "2020-08-12T10:08:43.225029Z",
     "iopub.status.idle": "2020-08-12T10:08:43.257934Z",
     "shell.execute_reply": "2020-08-12T10:08:43.258790Z"
    },
    "papermill": {
     "duration": 0.101766,
     "end_time": "2020-08-12T10:08:43.259007",
     "exception": false,
     "start_time": "2020-08-12T10:08:43.157241",
     "status": "completed"
    },
    "tags": []
   },
   "outputs": [],
   "source": [
    "plot_testing = model_new(testing_xdata)"
   ]
  },
  {
   "cell_type": "code",
   "execution_count": 26,
   "metadata": {
    "execution": {
     "iopub.execute_input": "2020-08-12T10:08:43.395848Z",
     "iopub.status.busy": "2020-08-12T10:08:43.371555Z",
     "iopub.status.idle": "2020-08-12T10:08:43.660042Z",
     "shell.execute_reply": "2020-08-12T10:08:43.659431Z"
    },
    "papermill": {
     "duration": 0.348013,
     "end_time": "2020-08-12T10:08:43.660213",
     "exception": false,
     "start_time": "2020-08-12T10:08:43.312200",
     "status": "completed"
    },
    "tags": []
   },
   "outputs": [
    {
     "data": {
      "text/plain": [
       "Text(0.5, 1.0, 'Outputs')"
      ]
     },
     "execution_count": 26,
     "metadata": {},
     "output_type": "execute_result"
    },
    {
     "data": {
      "image/png": "[encoded data removed]",
      "text/plain": [
       "<Figure size 576x504 with 1 Axes>"
      ]
     },
     "metadata": {
      "needs_background": "light"
     },
     "output_type": "display_data"
    }
   ],
   "source": [
    "plt.figure(figsize=(8,7))\n",
    "plt.scatter(plot_testing[:,0], plot_testing[:,1], alpha = 0.1, c = y_test.ravel());\n",
    "plt.title('Outputs')"
   ]
  },
  {
   "cell_type": "markdown",
   "metadata": {
    "papermill": {
     "duration": 0.05678,
     "end_time": "2020-08-12T10:08:43.779903",
     "exception": false,
     "start_time": "2020-08-12T10:08:43.723123",
     "status": "completed"
    },
    "tags": []
   },
   "source": [
    "### Plotting probability contours"
   ]
  },
  {
   "cell_type": "code",
   "execution_count": 27,
   "metadata": {
    "execution": {
     "iopub.execute_input": "2020-08-12T10:08:43.896137Z",
     "iopub.status.busy": "2020-08-12T10:08:43.895255Z",
     "iopub.status.idle": "2020-08-12T10:08:43.916840Z",
     "shell.execute_reply": "2020-08-12T10:08:43.917411Z"
    },
    "papermill": {
     "duration": 0.082469,
     "end_time": "2020-08-12T10:08:43.917605",
     "exception": false,
     "start_time": "2020-08-12T10:08:43.835136",
     "status": "completed"
    },
    "tags": []
   },
   "outputs": [],
   "source": [
    "model_prob = Model(layers[-2:]) "
   ]
  },
  {
   "cell_type": "code",
   "execution_count": 28,
   "metadata": {
    "execution": {
     "iopub.execute_input": "2020-08-12T10:08:44.060933Z",
     "iopub.status.busy": "2020-08-12T10:08:44.058002Z",
     "iopub.status.idle": "2020-08-12T10:08:44.070196Z",
     "shell.execute_reply": "2020-08-12T10:08:44.069535Z"
    },
    "papermill": {
     "duration": 0.088259,
     "end_time": "2020-08-12T10:08:44.070346",
     "exception": false,
     "start_time": "2020-08-12T10:08:43.982087",
     "status": "completed"
    },
    "tags": []
   },
   "outputs": [],
   "source": [
    "# Adjust the x and y ranges according to the above generated plot.\n",
    "x_range = np.linspace(-4, 1, 100) \n",
    "y_range = np.linspace(-6, 6, 100) \n",
    "x_grid, y_grid = np.meshgrid(x_range, y_range) # x_grid and y_grig are of size 100 X 100\n",
    "\n",
    "# converting x_grid and y_grid to continuous arrays\n",
    "x_grid_flat = np.ravel(x_grid)\n",
    "y_grid_flat = np.ravel(y_grid)\n",
    "\n",
    "# The last layer of the current model takes two columns as input. Hence transpose of np.vstack() is required.\n",
    "X = np.vstack((x_grid_flat, y_grid_flat)).T\n",
    "\n",
    "# x_grid and y_grid are of size 100 x 100\n",
    "probability_contour = model_prob(X).reshape(100,100) "
   ]
  },
  {
   "cell_type": "code",
   "execution_count": 29,
   "metadata": {
    "execution": {
     "iopub.execute_input": "2020-08-12T10:08:44.227299Z",
     "iopub.status.busy": "2020-08-12T10:08:44.226271Z",
     "iopub.status.idle": "2020-08-12T10:08:44.577764Z",
     "shell.execute_reply": "2020-08-12T10:08:44.578277Z"
    },
    "papermill": {
     "duration": 0.437582,
     "end_time": "2020-08-12T10:08:44.578463",
     "exception": false,
     "start_time": "2020-08-12T10:08:44.140881",
     "status": "completed"
    },
    "tags": []
   },
   "outputs": [
    {
     "data": {
      "image/png": "[encoded data removed]",
      "text/plain": [
       "<Figure size 720x648 with 1 Axes>"
      ]
     },
     "metadata": {
      "needs_background": "light"
     },
     "output_type": "display_data"
    }
   ],
   "source": [
    "plt.figure(figsize=(10,9))\n",
    "plt.scatter(plot_testing[:,0], plot_testing[:,1], alpha = 0.1, c = y_test.ravel())\n",
    "contours = plt.contour(x_grid,y_grid,probability_contour)\n",
    "plt.title('Probability Contours')\n",
    "plt.clabel(contours, inline = True );"
   ]
  }
 ],
 "metadata": {
  "kernelspec": {
   "display_name": "Python 3",
   "language": "python",
   "name": "python3"
  },
  "language_info": {
   "codemirror_mode": {
    "name": "ipython",
    "version": 3
   },
   "file_extension": ".py",
   "mimetype": "text/x-python",
   "name": "python",
   "nbconvert_exporter": "python",
   "pygments_lexer": "ipython3",
   "version": "3.6.11"
  },
  "papermill": {
   "duration": 158.453071,
   "end_time": "2020-08-12T10:08:45.892129",
   "environment_variables": {},
   "exception": null,
   "input_path": "2020-08-11-NeuralNetwork.ipynb",
   "output_path": "2020-08-11-NeuralNetwork.ipynb",
   "parameters": {},
   "start_time": "2020-08-12T10:06:07.439058",
   "version": "2.1.2"
  }
 },
 "nbformat": 4,
 "nbformat_minor": 4
}